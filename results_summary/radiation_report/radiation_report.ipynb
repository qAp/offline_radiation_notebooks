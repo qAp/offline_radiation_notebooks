{
 "cells": [
  {
   "cell_type": "markdown",
   "metadata": {},
   "source": [
    "# Offline Atmosphere radiation calculations\n",
    "\n",
    "\n",
    "## Abstract\n",
    "Stand-alone, one-column atmosphere radiation calculation is carried out for mid-latitude summer profiles using line-by-line and parameterisation models from Atmospheric and Environmental Research (AER) and from the Research Center for Environmental Changes (RCEC).  Comparison of results show that in general, models from the same research group tend to agree better, regardless of whether it is line-by-line or not.  The difference between the AER and RCEC results, however, is not expected to cause a significant amount of difference in the context of global climate models, where other more dominant components are present."
   ]
  },
  {
   "cell_type": "markdown",
   "metadata": {},
   "source": [
    "## Radiation models\n",
    "\n",
    "Four radiation models, of which two are line-by-line and two are paramerisations, are used here, and their acrynoms are as follows:\n",
    "\n",
    "\n",
    "|      | line-by-line | paramerisation |\n",
    "|------|--------------|----------------|\n",
    "| RCEC | CRD          | CLIRAD         |\n",
    "| AER  | LBLRTM       | RRTMG          |\n",
    "\n",
    "\n",
    "In *line-by-line* calculations, parameters (such as wavenumber, intensity and half width) of *every* absoprtion line are used to compute absoprtion coefficients.  Since the number of lines tends to be very large (for example, 375995 $CO_2$ absorption lines between $0 \\: cm^{-1}$ and $25000 \\: cm^{-1}$ are available in LBLRTM), the calculation is time-consuming.  To be consistent with LBLRTM, the CRD results shown in this report are obtained using HITRAN data from 2008.  \n",
    "\n",
    "In *parameterisation* models, absorption lines are ordered by intensity (as opposed to wavenumber in line-by-line models) before being divided into groups.  Intensity is averaged over each group, and it is these average intensities that are integrated over to compute absorption coefficients. This method is often referred to as the *k-distribution* method. The average intensities are referred to as *g-points*, and the since their number are far fewer than the number of absorption lines, the computation is faster.  As a comparison, the single-column RRTMG for longwave radiation used in this report has a total of 140 g-points. \n"
   ]
  },
  {
   "cell_type": "markdown",
   "metadata": {},
   "source": [
    "\n",
    "## Atmosphere profile\n",
    "Mid-latitude Summer    \n",
    "Temperature profile    \n",
    "Molecule profiles   "
   ]
  },
  {
   "cell_type": "markdown",
   "metadata": {},
   "source": [
    "## Solar spectral irradiance\n",
    "\n",
    "## LW results\n",
    "Describe input parameters additional to the atmosphere profile\n",
    "### Heating rate profiles\n",
    "### Summary tables\n",
    "\n",
    "## SW results\n",
    "Describe input parameters additional to the atmosphere profile\n",
    "### Heating rate profile\n",
    "### Summary tables\n",
    "\n"
   ]
  },
  {
   "cell_type": "code",
   "execution_count": 2,
   "metadata": {
    "collapsed": false
   },
   "outputs": [
    {
     "data": {
      "image/svg+xml": [
       "<svg height=\"80\" width=\"600\"><circle cx=\"300\" cy=\"30\" fill=\"red\" r=\"0.0\" stroke=\"black\" stroke-width=\"2\">\n",
       "                     </circle><circle cx=\"297\" cy=\"30\" fill=\"red\" r=\"3.0\" stroke=\"black\" stroke-width=\"2\">\n",
       "                     </circle><circle cx=\"288\" cy=\"30\" fill=\"red\" r=\"6.0\" stroke=\"black\" stroke-width=\"2\">\n",
       "                     </circle><circle cx=\"273\" cy=\"30\" fill=\"red\" r=\"9.0\" stroke=\"black\" stroke-width=\"2\">\n",
       "                     </circle><circle cx=\"252\" cy=\"30\" fill=\"red\" r=\"12.0\" stroke=\"black\" stroke-width=\"2\">\n",
       "                     </circle><circle cx=\"225\" cy=\"30\" fill=\"red\" r=\"15.0\" stroke=\"black\" stroke-width=\"2\">\n",
       "                     </circle><circle cx=\"192\" cy=\"30\" fill=\"red\" r=\"18.0\" stroke=\"black\" stroke-width=\"2\">\n",
       "                     </circle><circle cx=\"153\" cy=\"30\" fill=\"red\" r=\"21.0\" stroke=\"black\" stroke-width=\"2\">\n",
       "                     </circle><circle cx=\"108\" cy=\"30\" fill=\"red\" r=\"24.0\" stroke=\"black\" stroke-width=\"2\">\n",
       "                     </circle><circle cx=\"57\" cy=\"30\" fill=\"red\" r=\"27.0\" stroke=\"black\" stroke-width=\"2\">\n",
       "                     </circle></svg>"
      ],
      "text/plain": [
       "<IPython.core.display.SVG object>"
      ]
     },
     "execution_count": 2,
     "metadata": {},
     "output_type": "execute_result"
    }
   ],
   "source": [
    "from IPython.display import SVG\n",
    "\n",
    "SVG('''<svg width=\"600\" height=\"80\">''' + \n",
    "         ''.join(['''<circle cx=\"{x}\" cy=\"{y}\" r=\"{r}\"\n",
    "                             fill=\"red\"\n",
    "                             stroke-width=\"2\"\n",
    "                             stroke=\"black\">\n",
    "                     </circle>'''.format(x=(30+3*i)*(10-i),\n",
    "                                         y=30,\n",
    "                                         r=3.*float(i)\n",
    "                                         ) for i in range(10)]) + \n",
    "         '''</svg>''')"
   ]
  },
  {
   "cell_type": "code",
   "execution_count": null,
   "metadata": {
    "collapsed": true
   },
   "outputs": [],
   "source": []
  }
 ],
 "metadata": {
  "kernelspec": {
   "display_name": "Python 3",
   "language": "python",
   "name": "python3"
  },
  "language_info": {
   "codemirror_mode": {
    "name": "ipython",
    "version": 3
   },
   "file_extension": ".py",
   "mimetype": "text/x-python",
   "name": "python",
   "nbconvert_exporter": "python",
   "pygments_lexer": "ipython3",
   "version": "3.4.3"
  }
 },
 "nbformat": 4,
 "nbformat_minor": 0
}
