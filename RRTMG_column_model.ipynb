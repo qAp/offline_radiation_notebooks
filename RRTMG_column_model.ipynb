{
 "cells": [
  {
   "cell_type": "code",
   "execution_count": 4,
   "metadata": {
    "collapsed": false
   },
   "outputs": [],
   "source": [
    "import os\n",
    "import sys\n",
    "import pandas as pd\n",
    "import xray\n",
    "\n",
    "import IPython.display as display"
   ]
  },
  {
   "cell_type": "markdown",
   "metadata": {},
   "source": [
    "## Definitions of input parameters"
   ]
  },
  {
   "cell_type": "markdown",
   "metadata": {},
   "source": [
    "### SW\n",
    "\n",
    "<span style=\"color: green\">LAY</span>\n",
    "\n",
    "              LAY      layer number of aerosol layer.  (The layer numbering refers to the                                                                             \n",
    "                       ordering for the upward radiative transfer, i.e. bottom to top.                                                                                \n",
    "                       For IATM = 0 (Record 1.2), each layer\\'s number is equal to the                                                                                \n",
    "                       position of its Record 2.1.1 in the grouping of these records.                                                                                 \n",
    "                       For example, the second Record 2.1.1 occurring after Record 2.1                                                                                \n",
    "                       corresponds to the second layer.  For IATM = 1 (Record 1.2) and                                                                                \n",
    "                       IBMAX > 0 (Record 3.1), layer n corresponds to the region between      -                                                                        \n",
    "                       altitudes n and n+1 in the list of layer boundaries in Record 3.3B.                                                                            \n",
    "                       For IATM = 1 (Record 1.2) and IBMAX = 0 (Record 3.1), the layer                                                                                \n",
    "                       numbers can be determined by running RRTM for the cloudless case                                                                               \n",
    "                       and examining the TAPE6 output from this run.(\n",
    "                       \n",
    "                  \n",
    "                       \n",
    "\n",
    "        \n",
    "     \n",
    "<span style=\"color: green\">AERPAR</span>\n",
    "\n",
    "\n",
    "      AERPAR  (only used if IAOD = 0) array of parameters for obtaining aerosol optical depth as a                                                                    \n",
    "              function of wavelength, as described below:                                                                                                             \n",
    "                                                                                                                                                                      \n",
    "        AOD = AOD1 * (AERPAR(2) + AERPAR(3) * (lambda/lambda1)) /                                                                                                     \n",
    "                       ((AERPAR(2) + AERPAR(3) - 1) + (lambda/lambda1)**AERPAR(1))                                                                                    \n",
    "              where                                                                                                                                                   \n",
    "                  lambda = wavelength in microns                                                                                                                      \n",
    "                  lambda1 = 1 micron                                                                                                                                  \n",
    "                  AOD = aerosol optical depth at wavelength lambda                                                                                                    \n",
    "                  AOD1 = aerosol optical depth at 1 micron (see Record A2.1.1).                                                                                       \n",
    "                                                                                                                                                                      \n",
    "        This is a version of Eq. 13 from  Molineaux et al, Appl. Optics, 1998.  The default values of                                                                 \n",
    "        AERPAR(1), AERPAR(2), and AERPAR(3), which are 0, 1, and 0, respectively, yield an aerosol                                                                    \n",
    "        with spectrally grey extinction.                                                                                                                              \n",
    "                                                                                                                                                                      \n",
    "        (Note:  To obtain Angstrom relation, set AERPAR(2)=1., AERPAR(3)=0., and AERPAR(1) equal to                                                                   \n",
    "        Angstrom exponent.)\n",
    "                                "
   ]
  },
  {
   "cell_type": "code",
   "execution_count": 2,
   "metadata": {
    "collapsed": true
   },
   "outputs": [],
   "source": [
    "def aer_dir():\n",
    "    return '/nuwa_data/data/cesm1/inputdata/atm/cam/physprops/'\n",
    "\n",
    "def nc_files_read_in_physprop_init():\n",
    "    print( '(file name, optics method, fileindex)' )\n",
    "    filelist = [('mam3_mode1_rrtmg_c110318.nc', 'modal', 1),\n",
    "                ('mam3_mode2_rrtmg_c110318.nc', 'modal', 2),\n",
    "                ('mam3_mode3_rrtmg_c110318.nc', 'modal', 3),\n",
    "                ('sulfate_rrtmg_c080918.nc', 'hygroscopic', 4),\n",
    "                ('ocpho_rrtmg_c101112.nc', 'insoluble', 5),\n",
    "                ('ocphi_rrtmg_c100508.nc', 'hygroscopic', 6),\n",
    "                ('bcpho_rrtmg_c100508.nc', 'insoluble', 7),\n",
    "                ('dust4_rrtmg_c090521.nc', 'insoluble', 8),\n",
    "                ('ssam_rrtmg_c100508.nc', 'hygroscopic', 9)]\n",
    "    return filelist"
   ]
  },
  {
   "cell_type": "code",
   "execution_count": 5,
   "metadata": {
    "collapsed": false
   },
   "outputs": [
    {
     "data": {
      "text/html": [
       "\n",
       "<script>\n",
       "show_code = true;\n",
       "function code_toggle() {\n",
       "if (show_code) {$('div.input').hide();} else {$('div.input').show();}\n",
       "show_code = !show_code\n",
       "}\n",
       "$( document ).ready(code_toggle);\n",
       "</script>\n",
       "<form action=\"javascript:code_toggle()\"><input type=\"submit\" value=\"Click here to toggle on/off the raw code\"></form>\n"
      ],
      "text/plain": [
       "<IPython.core.display.HTML object>"
      ]
     },
     "execution_count": 5,
     "metadata": {},
     "output_type": "execute_result"
    }
   ],
   "source": [
    "display.HTML('''\n",
    "<script>\n",
    "show_code = true;\n",
    "function code_toggle() {\n",
    "if (show_code) {$('div.input').hide();} else {$('div.input').show();}\n",
    "show_code = !show_code\n",
    "}\n",
    "$( document ).ready(code_toggle);\n",
    "</script>\n",
    "<form action=\"javascript:code_toggle()\"><input type=\"submit\" value=\"Click here to toggle on/off the raw code\"></form>\n",
    "''')"
   ]
  },
  {
   "cell_type": "code",
   "execution_count": null,
   "metadata": {
    "collapsed": true
   },
   "outputs": [],
   "source": []
  }
 ],
 "metadata": {
  "kernelspec": {
   "display_name": "Python 3",
   "language": "python",
   "name": "python3"
  },
  "language_info": {
   "codemirror_mode": {
    "name": "ipython",
    "version": 3
   },
   "file_extension": ".py",
   "mimetype": "text/x-python",
   "name": "python",
   "nbconvert_exporter": "python",
   "pygments_lexer": "ipython3",
   "version": "3.4.3"
  }
 },
 "nbformat": 4,
 "nbformat_minor": 0
}
