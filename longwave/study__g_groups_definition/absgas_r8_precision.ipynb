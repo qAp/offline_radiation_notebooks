{
 "cells": [
  {
   "cell_type": "code",
   "execution_count": 96,
   "metadata": {
    "collapsed": true
   },
   "outputs": [],
   "source": [
    "# The effect of making literal real values double precision\n",
    "# and replacing `implicit real` with `implicit none`\n",
    "# is investigated here.\n",
    "\n",
    "# To make the literal real value `8.` double precision,\n",
    "# re-write it as `8._r8`, where `r8 = kind(1.0d0)`.\n",
    "\n",
    "# In replacing `implicit real` with `implicit none`,\n",
    "# names that weren't explicitly declared need to be\n",
    "# explicitly declared now."
   ]
  },
  {
   "cell_type": "code",
   "execution_count": 2,
   "metadata": {
    "collapsed": true
   },
   "outputs": [],
   "source": [
    "%matplotlib inline\n",
    "import os\n",
    "import io\n",
    "\n",
    "import pandas as pd\n",
    "import matplotlib.pyplot as plt"
   ]
  },
  {
   "cell_type": "code",
   "execution_count": 3,
   "metadata": {
    "collapsed": true
   },
   "outputs": [],
   "source": [
    "dir_run = os.path.join('/nuwa_cluster/home/jackyu',\n",
    "                       'radiation/crd/LW/examples',\n",
    "                       'separate_g_groups',\n",
    "                       '03_lbl_flux_of_g_groups_08-25',\n",
    "                       'study__effect_of_r8_literal_real_values')"
   ]
  },
  {
   "cell_type": "code",
   "execution_count": 2,
   "metadata": {
    "collapsed": true
   },
   "outputs": [],
   "source": [
    "# The quantity on which the effect is looked at is\n",
    "# the absorption coefficient at some (P, T)\n",
    "# for nitrogen-only in CLIRAD-LW's band 7: 1215 cm-1 ~ 1280 cm-1"
   ]
  },
  {
   "cell_type": "code",
   "execution_count": 32,
   "metadata": {
    "collapsed": false
   },
   "outputs": [],
   "source": [
    "# The original precision settings. (git: f873783)\n",
    "pathf = os.path.join(dir_run,\n",
    "                     'literal_real_values_original',\n",
    "                     'absgas_f873783.dat')\n",
    "\n",
    "df_org = pd.read_csv(pathf, sep=r'\\s+')\n"
   ]
  },
  {
   "cell_type": "code",
   "execution_count": 33,
   "metadata": {
    "collapsed": true
   },
   "outputs": [],
   "source": [
    "# _r8 literal real values (git: ea7c6cb)\n",
    "pathf = os.path.join(dir_run,\n",
    "                     'literal_real_values_r8',\n",
    "                     'absgas_ea7c6cb.dat')\n",
    "\n",
    "df_r8 = pd.read_csv(pathf, sep=r'\\s+')"
   ]
  },
  {
   "cell_type": "code",
   "execution_count": 34,
   "metadata": {
    "collapsed": true
   },
   "outputs": [],
   "source": [
    "# git 6a02dc9\n",
    "# _r8 literal real values\n",
    "# implicit none in transf()\n",
    "pathf = os.path.join(dir_run,\n",
    "                     'literal_real_values_r8',\n",
    "                     'absgas_6a02dc9.dat')\n",
    "\n",
    "df_r8_impnone_transf = pd.read_csv(pathf, sep=r'\\s+')"
   ]
  },
  {
   "cell_type": "code",
   "execution_count": 39,
   "metadata": {
    "collapsed": true
   },
   "outputs": [],
   "source": [
    "# git 6fcddb8\n",
    "# _r8 literal real values\n",
    "# implicit none in transf()\n",
    "# implicit none in irflux()\n",
    "\n",
    "pathf = os.path.join(dir_run,\n",
    "                     'literal_real_values_r8',\n",
    "                     'absgas_6fcddb8.dat')\n",
    "\n",
    "df_r8_impnone_transf_irflux = pd.read_csv(pathf, sep=r'\\s+')"
   ]
  },
  {
   "cell_type": "code",
   "execution_count": 56,
   "metadata": {
    "collapsed": true
   },
   "outputs": [],
   "source": [
    "# git a2591a9\n",
    "# _r8 literal real values\n",
    "# implicit none in transf()\n",
    "# implicit none in irflux()\n",
    "# implicit none in voigh2()\n",
    "\n",
    "pathf = os.path.join(dir_run,\n",
    "                     'literal_real_values_r8',\n",
    "                     'absgas_a2591a9.dat')\n",
    "\n",
    "df_r8_impnone_transf_irflux_voigh2 = pd.read_csv(pathf, sep=r'\\s+')"
   ]
  },
  {
   "cell_type": "code",
   "execution_count": 64,
   "metadata": {
    "collapsed": true
   },
   "outputs": [],
   "source": [
    "# git 4b6e0c5\n",
    "# _r8 literal real values\n",
    "# implicit none in transf()\n",
    "# implicit none in irflux()\n",
    "# implicit none in voigh2()\n",
    "# implicit none in vibpf()\n",
    "\n",
    "pathf = os.path.join(dir_run,\n",
    "                     'literal_real_values_r8',\n",
    "                     'absgas_4b6e0c5.dat')\n",
    "\n",
    "df_r8_impnone_transf_irflux_voigh2_vibpf = pd.read_csv(pathf, \n",
    "                                                       sep=r'\\s+')\n",
    "\n"
   ]
  },
  {
   "cell_type": "code",
   "execution_count": 59,
   "metadata": {
    "collapsed": false
   },
   "outputs": [],
   "source": [
    "# ea11539\n",
    "# _r8 literal real values\n",
    "# implicit none in transf()\n",
    "# implicit none in irflux()\n",
    "# implicit none in voigh2()\n",
    "# implicit none in vibpf()\n",
    "# implicit none in lblabs()\n",
    "\n",
    "pathf = os.path.join(dir_run,\n",
    "                     'literal_real_values_r8',\n",
    "                     'absgas_ea11539.dat')\n",
    "\n",
    "df_r8_impnone_transf_irflux_voigh2_vibpf_lblabs = pd.read_csv(pathf, \n",
    "                                                              sep=r'\\s+')\n",
    "\n"
   ]
  },
  {
   "cell_type": "code",
   "execution_count": 43,
   "metadata": {
    "collapsed": true
   },
   "outputs": [],
   "source": [
    "# 68a990d\n",
    "# _r8 literal real values\n",
    "# implicit none in transf()\n",
    "# implicit none in irflux()\n",
    "# lblcom_lee_real8.f\n",
    "\n",
    "pathf = os.path.join(dir_run,\n",
    "                     'literal_real_values_r8',\n",
    "                     'using_lees_lblcom',\n",
    "                     'absgas_68a990d.dat')\n",
    "\n",
    "df_r8_impnone_transf_irflux_lblcom_lee_real8 = pd.read_csv(pathf,\n",
    "                                                           sep=r'\\s+')"
   ]
  },
  {
   "cell_type": "code",
   "execution_count": 65,
   "metadata": {
    "collapsed": false
   },
   "outputs": [
    {
     "data": {
      "text/html": [
       "<div>\n",
       "<table border=\"1\" class=\"dataframe\">\n",
       "  <thead>\n",
       "    <tr style=\"text-align: right;\">\n",
       "      <th></th>\n",
       "      <th>wavenumber</th>\n",
       "      <th>absgas</th>\n",
       "    </tr>\n",
       "  </thead>\n",
       "  <tbody>\n",
       "    <tr>\n",
       "      <th>count</th>\n",
       "      <td>0</td>\n",
       "      <td>0.000000e+00</td>\n",
       "    </tr>\n",
       "    <tr>\n",
       "      <th>mean</th>\n",
       "      <td>0</td>\n",
       "      <td>-1.631230e-27</td>\n",
       "    </tr>\n",
       "    <tr>\n",
       "      <th>std</th>\n",
       "      <td>0</td>\n",
       "      <td>-2.049904e-27</td>\n",
       "    </tr>\n",
       "    <tr>\n",
       "      <th>min</th>\n",
       "      <td>0</td>\n",
       "      <td>0.000000e+00</td>\n",
       "    </tr>\n",
       "    <tr>\n",
       "      <th>25%</th>\n",
       "      <td>0</td>\n",
       "      <td>0.000000e+00</td>\n",
       "    </tr>\n",
       "    <tr>\n",
       "      <th>50%</th>\n",
       "      <td>0</td>\n",
       "      <td>0.000000e+00</td>\n",
       "    </tr>\n",
       "    <tr>\n",
       "      <th>75%</th>\n",
       "      <td>0</td>\n",
       "      <td>0.000000e+00</td>\n",
       "    </tr>\n",
       "    <tr>\n",
       "      <th>max</th>\n",
       "      <td>0</td>\n",
       "      <td>0.000000e+00</td>\n",
       "    </tr>\n",
       "  </tbody>\n",
       "</table>\n",
       "</div>"
      ],
      "text/plain": [
       "       wavenumber        absgas\n",
       "count           0  0.000000e+00\n",
       "mean            0 -1.631230e-27\n",
       "std             0 -2.049904e-27\n",
       "min             0  0.000000e+00\n",
       "25%             0  0.000000e+00\n",
       "50%             0  0.000000e+00\n",
       "75%             0  0.000000e+00\n",
       "max             0  0.000000e+00"
      ]
     },
     "execution_count": 65,
     "metadata": {},
     "output_type": "execute_result"
    }
   ],
   "source": [
    "# first noticeable difference is seen in using `implicit none` in \n",
    "# the function vibpf\n",
    "df_r8.describe() - df_r8_impnone_transf_irflux_voigh2_vibpf.describe()"
   ]
  },
  {
   "cell_type": "code",
   "execution_count": 66,
   "metadata": {
    "collapsed": false
   },
   "outputs": [
    {
     "data": {
      "text/html": [
       "<div>\n",
       "<table border=\"1\" class=\"dataframe\">\n",
       "  <thead>\n",
       "    <tr style=\"text-align: right;\">\n",
       "      <th></th>\n",
       "      <th>wavenumber</th>\n",
       "      <th>absgas</th>\n",
       "    </tr>\n",
       "  </thead>\n",
       "  <tbody>\n",
       "    <tr>\n",
       "      <th>count</th>\n",
       "      <td>0</td>\n",
       "      <td>0.000000e+00</td>\n",
       "    </tr>\n",
       "    <tr>\n",
       "      <th>mean</th>\n",
       "      <td>0</td>\n",
       "      <td>5.796679e-20</td>\n",
       "    </tr>\n",
       "    <tr>\n",
       "      <th>std</th>\n",
       "      <td>0</td>\n",
       "      <td>1.616224e-19</td>\n",
       "    </tr>\n",
       "    <tr>\n",
       "      <th>min</th>\n",
       "      <td>0</td>\n",
       "      <td>2.164042e-26</td>\n",
       "    </tr>\n",
       "    <tr>\n",
       "      <th>25%</th>\n",
       "      <td>0</td>\n",
       "      <td>1.770482e-23</td>\n",
       "    </tr>\n",
       "    <tr>\n",
       "      <th>50%</th>\n",
       "      <td>0</td>\n",
       "      <td>2.385184e-21</td>\n",
       "    </tr>\n",
       "    <tr>\n",
       "      <th>75%</th>\n",
       "      <td>0</td>\n",
       "      <td>4.184341e-20</td>\n",
       "    </tr>\n",
       "    <tr>\n",
       "      <th>max</th>\n",
       "      <td>0</td>\n",
       "      <td>1.480130e-18</td>\n",
       "    </tr>\n",
       "  </tbody>\n",
       "</table>\n",
       "</div>"
      ],
      "text/plain": [
       "       wavenumber        absgas\n",
       "count           0  0.000000e+00\n",
       "mean            0  5.796679e-20\n",
       "std             0  1.616224e-19\n",
       "min             0  2.164042e-26\n",
       "25%             0  1.770482e-23\n",
       "50%             0  2.385184e-21\n",
       "75%             0  4.184341e-20\n",
       "max             0  1.480130e-18"
      ]
     },
     "execution_count": 66,
     "metadata": {},
     "output_type": "execute_result"
    }
   ],
   "source": [
    "# Noticeable and significant difference seen in using `implicit none`\n",
    "# in subroutine lblabs()\n",
    "df_r8.describe() - df_r8_impnone_transf_irflux_voigh2_vibpf_lblabs.describe()"
   ]
  },
  {
   "cell_type": "code",
   "execution_count": 54,
   "metadata": {
    "collapsed": false
   },
   "outputs": [
    {
     "data": {
      "text/plain": [
       "<matplotlib.axes._subplots.AxesSubplot at 0x2aac23d5e320>"
      ]
     },
     "execution_count": 54,
     "metadata": {},
     "output_type": "execute_result"
    },
    {
     "data": {
      "image/png": "[encoded data removed]",
      "text/plain": [
       "<matplotlib.figure.Figure at 0x2aac23d5a4a8>"
      ]
     },
     "metadata": {},
     "output_type": "display_data"
    }
   ],
   "source": [
    "# plot of absorption coefficient against wavenumber\n",
    "# _r8 literal real values (git: ea7c6cb)\n",
    "\n",
    "df_r8.plot(figsize=(7,5), x='wavenumber', y='absgas',\n",
    "           logy=True, grid=True)"
   ]
  },
  {
   "cell_type": "code",
   "execution_count": 67,
   "metadata": {
    "collapsed": false,
    "scrolled": true
   },
   "outputs": [
    {
     "data": {
      "text/plain": [
       "<matplotlib.axes._subplots.AxesSubplot at 0x2aac23ec4400>"
      ]
     },
     "execution_count": 67,
     "metadata": {},
     "output_type": "execute_result"
    },
    {
     "data": {
      "image/png": "[encoded data removed]",
      "text/plain": [
       "<matplotlib.figure.Figure at 0x2aac23ec4668>"
      ]
     },
     "metadata": {},
     "output_type": "display_data"
    }
   ],
   "source": [
    "# plot of absorption coefficient against wavenumber\n",
    "# ea11539\n",
    "# _r8 literal real values\n",
    "# implicit none in transf()\n",
    "# implicit none in irflux()\n",
    "# implicit none in voigh2()\n",
    "# implicit none in vibpf()\n",
    "# implicit none in lblabs()\n",
    "\n",
    "df_r8_impnone_transf_irflux_voigh2_vibpf_lblabs.plot(figsize=(7,5), \n",
    "                                        x='wavenumber', \n",
    "                                        y='absgas',\n",
    "                                        logy=True, grid=True)"
   ]
  },
  {
   "cell_type": "code",
   "execution_count": 44,
   "metadata": {
    "collapsed": false
   },
   "outputs": [
    {
     "data": {
      "text/plain": [
       "<matplotlib.axes._subplots.AxesSubplot at 0x2aac6a267cc0>"
      ]
     },
     "execution_count": 44,
     "metadata": {},
     "output_type": "execute_result"
    },
    {
     "data": {
      "image/png": "[encoded data removed]",
      "text/plain": [
       "<matplotlib.figure.Figure at 0x2aac671f5390>"
      ]
     },
     "metadata": {},
     "output_type": "display_data"
    }
   ],
   "source": [
    "# The same drop in absorption coefficient is also seen\n",
    "# by using Lee's lblcom_real8.f.\n",
    "\n",
    "# plot of absorption coefficient against wavenumber\n",
    "# 68a990d\n",
    "# _r8 literal real values\n",
    "# implicit none in transf()\n",
    "# implicit none in irflux()\n",
    "# lblcom_lee_real8.f\n",
    "\n",
    "df_r8_impnone_transf_irflux_lblcom_lee_real8\\\n",
    ".plot(figsize=(7,5), x='wavenumber', y='absgas',\n",
    "           logy=True, grid=True)"
   ]
  },
  {
   "cell_type": "code",
   "execution_count": 98,
   "metadata": {
    "collapsed": true
   },
   "outputs": [],
   "source": [
    "# The cause of the drop in the absorption coefficient is traced\n",
    "# to lblabs(), where the hitran data file is rewound just before\n",
    "# the absorption coefficient is computed for each `iband`.\n",
    "\n",
    "# This is seen by looking by looking at `vstart` and `vcheck` for \n",
    "# each iband.\n",
    "# `vstart` is the wavenumber from which line-by-line calculation\n",
    "# should start for the iband.\n",
    "# `vcheck` is the wavenumber of the line centre of the absorption line\n",
    "# rewound to.\n",
    "# `vcheck` should be very close to `vstart`, just above it. \n",
    "\n",
    "# aside:\n",
    "# `vfirst` is the wavenumber of the line centre of the first\n",
    "# absorption line considered in the iband.\n",
    "# `vlast` is the wavenumber of the line centre of the last \n",
    "# absorption line considered in the iband."
   ]
  },
  {
   "cell_type": "code",
   "execution_count": 147,
   "metadata": {
    "collapsed": false
   },
   "outputs": [],
   "source": [
    "# before lblabs is made completely `implicit none`\n",
    "# with `vstart`, `vcheck`, `vfirst` and `vlast` printed out\n",
    "# git: eef7da6\n",
    "\n",
    "\n",
    "pathf = os.path.join(dir_run,\n",
    "                     'literal_real_values_r8',\n",
    "                     'out_eef7da6.log')\n",
    "\n",
    "with open(pathf, mode='r', encoding='utf8') as f:\n",
    "    lines = f.readlines()\n",
    "    \n",
    "lines = [l.strip() for l in lines]\n",
    "lines0 = [l for l in lines if l.startswith('vvebug ')]\n",
    "lines1 = [l for l in lines if l.startswith('vvebug1 ')]\n",
    "\n",
    "df0 = pd.read_csv(io.StringIO('\\n'.join(lines0)),\n",
    "                  header=None, sep=r'\\s+')\n",
    "df0.drop(0, axis=1, inplace=True)\n",
    "df0.columns = ['vstart', 'vcheck', 'vline']\n",
    "\n",
    "df1 = pd.read_csv(io.StringIO('\\n'.join(lines1)),\n",
    "                  header=None, sep=r'\\s+')\n",
    "df1.drop(0, axis=1, inplace=True)\n",
    "df1.columns = ['vfirst', 'vlast']\n",
    "\n",
    "df_vibpf = pd.concat([df0, df1], axis=1)\n",
    "\n",
    "df_vibpf.index = range(1, len(df_vibpf.index) + 1)\n",
    "df_vibpf.index.names = ['iband']\n",
    "df_vibpf.columns.names = ['wavenumber']"
   ]
  },
  {
   "cell_type": "code",
   "execution_count": 138,
   "metadata": {
    "collapsed": false
   },
   "outputs": [],
   "source": [
    "# after lblabs is made completely `implicit none`\n",
    "# with `vstart`, `vcheck`, `vfirst` and `vlast` printed out\n",
    "# git: d716b8b\n",
    "\n",
    "pathf = os.path.join(dir_run,\n",
    "                     'literal_real_values_r8',\n",
    "                     'out_d716b8b.log')\n",
    "\n",
    "with open(pathf, mode='r', encoding='utf8') as f:\n",
    "    lines = f.readlines()\n",
    "    \n",
    "lines = [l.strip() for l in lines]\n",
    "lines0 = [l for l in lines if l.startswith('vvebug ')]\n",
    "lines1 = [l for l in lines if l.startswith('vvebug1 ')]\n",
    "\n",
    "df0 = pd.read_csv(io.StringIO('\\n'.join(lines0)),\n",
    "                  header=None, sep=r'\\s+')\n",
    "df0.drop(0, axis=1, inplace=True)\n",
    "df0.columns = ['vstart', 'vcheck', 'vline']\n",
    "\n",
    "df1 = pd.read_csv(io.StringIO('\\n'.join(lines1)),\n",
    "                  header=None, sep=r'\\s+')\n",
    "df1.drop(0, axis=1, inplace=True)\n",
    "df1.columns = ['vfirst', 'vlast']\n",
    "\n",
    "df_lblabs = pd.concat([df0, df1], axis=1)\n",
    "\n",
    "df_lblabs.index = range(1, len(df_vibpf.index) + 1)\n",
    "df_lblabs.index.names = ['iband']\n",
    "df_lblabs.columns.names = ['wavenumber']\n",
    "\n"
   ]
  },
  {
   "cell_type": "code",
   "execution_count": 149,
   "metadata": {
    "collapsed": false
   },
   "outputs": [
    {
     "data": {
      "text/plain": [
       "<matplotlib.axes._subplots.AxesSubplot at 0x2aac236936d8>"
      ]
     },
     "execution_count": 149,
     "metadata": {},
     "output_type": "execute_result"
    },
    {
     "data": {
      "image/png": "[encoded data removed]",
      "text/plain": [
       "<matplotlib.figure.Figure at 0x2aac2361d668>"
      ]
     },
     "metadata": {},
     "output_type": "display_data"
    }
   ],
   "source": [
    "# plot of `vstart`, `vcheck`, `vfirst`, `vlast` against `iband`\n",
    "# before lblabs is made completely `implicit none`\n",
    "# with `vstart`, `vcheck`, `vfirst` and `vlast` printed out\n",
    "# git: eef7da6\n",
    "\n",
    "df_vibpf\\\n",
    "        .plot(figsize=(8,6), grid=True,\n",
    "              ylim=(1100, 1500))"
   ]
  },
  {
   "cell_type": "code",
   "execution_count": 143,
   "metadata": {
    "collapsed": false
   },
   "outputs": [
    {
     "data": {
      "text/plain": [
       "<matplotlib.axes._subplots.AxesSubplot at 0x2aac22201518>"
      ]
     },
     "execution_count": 143,
     "metadata": {},
     "output_type": "execute_result"
    },
    {
     "data": {
      "image/png": "[encoded data removed]",
      "text/plain": [
       "<matplotlib.figure.Figure at 0x2aac22206be0>"
      ]
     },
     "metadata": {},
     "output_type": "display_data"
    }
   ],
   "source": [
    "# plot of `vstart`, `vcheck`, `vfirst`, `vlast` against `iband`\n",
    "# after lblabs is made completely `implicit none`\n",
    "# with `vstart`, `vcheck`, `vfirst` and `vlast` printed out\n",
    "# git: d716b8b\n",
    "\n",
    "df_lblabs\\\n",
    "         .plot(figsize=(8, 6), grid=True,\n",
    "               ylim=(1100, 1500))"
   ]
  },
  {
   "cell_type": "code",
   "execution_count": 99,
   "metadata": {
    "collapsed": true
   },
   "outputs": [],
   "source": [
    "## After playing about with their precisions, it is evident that \n",
    "# the precisions (kinds) of `vcheck` and `vline` have something\n",
    "# to do with the premature stop of the rewinding of the hitran file.\n",
    "\n",
    "# `vcheck .eq. vline .and. zcheck .eq. zline` is to catch adjacent lines  \n",
    "# that are the same (with the same vline and zline)\n",
    "\n",
    "# If kind(vcheck) = 4 and kind(vline) = 8, then the catching \n",
    "# mechanism fails. \n",
    "\n",
    "# But it doesn't fail on all occasions, letting some identical lines \n",
    "# to pass through.\n",
    "\n",
    "# If kind(vcheck) = kind(vline) = 4, or = 8, \n",
    "# then the catching mechanism works.  \n",
    "# It catches adjacent lines that are same as each other.\n",
    "\n",
    "# Aside:\n",
    "# If kind(vcheck) = 8 and kind(vline) = 4, the the catching \n",
    "# mechanism still works, this can perhaps be explained by the fact\n",
    "# that the value of the vline read in from the hitran file is\n",
    "# assigned to `vcheck` (i.e. vcheck = vline), and since `vline`\n",
    "# is lower in precision, there is no loss of decimals when its\n",
    "# value is assigned to `vcheck`.  This means that when `vcheck` and \n",
    "# `vline` are compared, they have the same number of decimals, so\n",
    "# the comparison is fair, and will work."
   ]
  },
  {
   "cell_type": "code",
   "execution_count": 92,
   "metadata": {
    "collapsed": false
   },
   "outputs": [],
   "source": [
    "# duplicated `vline` and `zline`\n",
    "# crd\n",
    "# git: 4f31b08\n",
    "\n",
    "pathf = os.path.join(dir_run,\n",
    "                     'literal_real_values_r8',\n",
    "                     'out.log')\n",
    "\n",
    "with open(pathf, mode='r', encoding='utf8') as f:\n",
    "    lines = f.readlines()\n",
    "    \n",
    "lines = [l.strip() for l in lines]\n",
    "\n",
    "lines = [{'vline': float(l1.split('vwarn')[1].strip()), \n",
    "          'zline': l2}\n",
    "         for l1, l2 in zip(lines, lines[1:]) \n",
    "         if l1.startswith('vwarn')]\n",
    "\n",
    "df_dup_lines = pd.DataFrame(lines)\n",
    "df_dup_lines.drop_duplicates(inplace=True)\n",
    "df_dup_lines.sort_values('vline', inplace=True)\n",
    "df_dup_lines.reset_index(inplace=True)\n",
    "df_dup_lines.drop('index', axis=1, inplace=True)"
   ]
  },
  {
   "cell_type": "code",
   "execution_count": 85,
   "metadata": {
    "collapsed": true
   },
   "outputs": [],
   "source": [
    "# duplicated `vline` and `zline`\n",
    "# using code for line-reading only\n",
    "# git: be6739a\n",
    "\n",
    "pathf = os.path.join('/nuwa_cluster/home/jackyu',\n",
    "                     'radiation/crd/absorption_lines',\n",
    "                     'out.log')\n",
    "\n",
    "with open(pathf, mode='r', encoding='utf8') as f:\n",
    "    lines = f.readlines()\n",
    "    \n",
    "lines = [l.strip() for l in lines]\n",
    "\n",
    "lines = [{'vline': float(l1.split('vwarn')[1].strip()), \n",
    "          'zline': l2}\n",
    "         for l1, l2 in zip(lines, lines[1:]) \n",
    "         if l1.startswith('vwarn')]\n",
    "\n",
    "df_dup_lines1 = pd.DataFrame(lines)\n",
    "df_dup_lines1.drop_duplicates(inplace=True)\n",
    "df_dup_lines1.sort_values('vline', inplace=True)\n",
    "df_dup_lines1.reset_index(inplace=True)\n",
    "df_dup_lines1.drop('index', axis=1, inplace=True)"
   ]
  },
  {
   "cell_type": "code",
   "execution_count": 93,
   "metadata": {
    "collapsed": false
   },
   "outputs": [
    {
     "data": {
      "text/html": [
       "<div>\n",
       "<table border=\"1\" class=\"dataframe\">\n",
       "  <thead>\n",
       "    <tr>\n",
       "      <th></th>\n",
       "      <th colspan=\"2\" halign=\"left\">crd</th>\n",
       "      <th colspan=\"2\" halign=\"left\">linereader</th>\n",
       "    </tr>\n",
       "    <tr>\n",
       "      <th></th>\n",
       "      <th>vline</th>\n",
       "      <th>zline</th>\n",
       "      <th>vline</th>\n",
       "      <th>zline</th>\n",
       "    </tr>\n",
       "  </thead>\n",
       "  <tbody>\n",
       "    <tr>\n",
       "      <th>0</th>\n",
       "      <td>1253.928101</td>\n",
       "      <td>1 2 2 0        0 2 2 0                    P 1</td>\n",
       "      <td>1253.928101</td>\n",
       "      <td>1 2 2 0        0 2 2 0                    P 1</td>\n",
       "    </tr>\n",
       "    <tr>\n",
       "      <th>1</th>\n",
       "      <td>1256.375610</td>\n",
       "      <td>1 2 2 0        0 2 2 0                    P</td>\n",
       "      <td>1256.375610</td>\n",
       "      <td>1 2 2 0        0 2 2 0                    P</td>\n",
       "    </tr>\n",
       "    <tr>\n",
       "      <th>2</th>\n",
       "      <td>1258.800659</td>\n",
       "      <td>1 2 2 0        0 2 2 0                    P</td>\n",
       "      <td>1258.800659</td>\n",
       "      <td>1 2 2 0        0 2 2 0                    P</td>\n",
       "    </tr>\n",
       "    <tr>\n",
       "      <th>3</th>\n",
       "      <td>1259.604004</td>\n",
       "      <td>1 2 2 0        0 2 2 0                    P</td>\n",
       "      <td>1259.604004</td>\n",
       "      <td>1 2 2 0        0 2 2 0                    P</td>\n",
       "    </tr>\n",
       "    <tr>\n",
       "      <th>4</th>\n",
       "      <td>1262.432373</td>\n",
       "      <td>1 1 1 0        0 1 1 0                    P 1</td>\n",
       "      <td>1262.432373</td>\n",
       "      <td>1 1 1 0        0 1 1 0                    P 1</td>\n",
       "    </tr>\n",
       "    <tr>\n",
       "      <th>5</th>\n",
       "      <td>1276.161499</td>\n",
       "      <td>1 3 3 0        0 3 3 0                    P 2</td>\n",
       "      <td>1276.161499</td>\n",
       "      <td>1 3 3 0        0 3 3 0                    P 2</td>\n",
       "    </tr>\n",
       "    <tr>\n",
       "      <th>6</th>\n",
       "      <td>1277.088257</td>\n",
       "      <td>1 3 3 0        0 3 3 0                    P 2</td>\n",
       "      <td>1277.088257</td>\n",
       "      <td>1 3 3 0        0 3 3 0                    P 2</td>\n",
       "    </tr>\n",
       "    <tr>\n",
       "      <th>7</th>\n",
       "      <td>1277.381470</td>\n",
       "      <td>1 2 2 0        0 2 2 0                    R 1</td>\n",
       "      <td>1277.381470</td>\n",
       "      <td>1 2 2 0        0 2 2 0                    R 1</td>\n",
       "    </tr>\n",
       "    <tr>\n",
       "      <th>8</th>\n",
       "      <td>1278.932861</td>\n",
       "      <td>1 3 3 0        0 3 3 0                    P 2</td>\n",
       "      <td>1278.932861</td>\n",
       "      <td>1 3 3 0        0 3 3 0                    P 2</td>\n",
       "    </tr>\n",
       "    <tr>\n",
       "      <th>9</th>\n",
       "      <td>1279.850586</td>\n",
       "      <td>1 3 3 0        0 3 3 0                    P 2</td>\n",
       "      <td>1279.850586</td>\n",
       "      <td>1 3 3 0        0 3 3 0                    P 2</td>\n",
       "    </tr>\n",
       "    <tr>\n",
       "      <th>10</th>\n",
       "      <td>1280.881836</td>\n",
       "      <td>1 2 2 0        0 2 2 0                    P</td>\n",
       "      <td>1280.881836</td>\n",
       "      <td>1 2 2 0        0 2 2 0                    P</td>\n",
       "    </tr>\n",
       "    <tr>\n",
       "      <th>11</th>\n",
       "      <td>1281.677246</td>\n",
       "      <td>1 3 3 0        0 3 3 0                    P 2</td>\n",
       "      <td>1281.677246</td>\n",
       "      <td>1 3 3 0        0 3 3 0                    P 2</td>\n",
       "    </tr>\n",
       "    <tr>\n",
       "      <th>12</th>\n",
       "      <td>1282.586060</td>\n",
       "      <td>1 3 3 0        0 3 3 0                    P 2</td>\n",
       "      <td>1282.586060</td>\n",
       "      <td>1 3 3 0        0 3 3 0                    P 2</td>\n",
       "    </tr>\n",
       "    <tr>\n",
       "      <th>13</th>\n",
       "      <td>1283.491821</td>\n",
       "      <td>1 3 3 0        0 3 3 0                    P 2</td>\n",
       "      <td>1283.491821</td>\n",
       "      <td>1 3 3 0        0 3 3 0                    P 2</td>\n",
       "    </tr>\n",
       "    <tr>\n",
       "      <th>14</th>\n",
       "      <td>1285.332153</td>\n",
       "      <td>2 2 2 0        1 2 2 0                    P</td>\n",
       "      <td>1285.332153</td>\n",
       "      <td>2 2 2 0        1 2 2 0                    P</td>\n",
       "    </tr>\n",
       "    <tr>\n",
       "      <th>15</th>\n",
       "      <td>1286.187012</td>\n",
       "      <td>2 2 2 0        1 2 2 0                    P</td>\n",
       "      <td>1286.187012</td>\n",
       "      <td>2 2 2 0        1 2 2 0                    P</td>\n",
       "    </tr>\n",
       "    <tr>\n",
       "      <th>16</th>\n",
       "      <td>1287.887817</td>\n",
       "      <td>2 2 2 0        1 2 2 0                    P</td>\n",
       "      <td>1287.887817</td>\n",
       "      <td>2 2 2 0        1 2 2 0                    P</td>\n",
       "    </tr>\n",
       "    <tr>\n",
       "      <th>17</th>\n",
       "      <td>1288.863037</td>\n",
       "      <td>1 3 3 0        0 3 3 0                    P 1</td>\n",
       "      <td>1288.863037</td>\n",
       "      <td>1 3 3 0        0 3 3 0                    P 1</td>\n",
       "    </tr>\n",
       "    <tr>\n",
       "      <th>18</th>\n",
       "      <td>1289.747559</td>\n",
       "      <td>1 3 3 0        0 3 3 0                    P 1</td>\n",
       "      <td>1289.747559</td>\n",
       "      <td>1 3 3 0        0 3 3 0                    P 1</td>\n",
       "    </tr>\n",
       "    <tr>\n",
       "      <th>19</th>\n",
       "      <td>1291.105469</td>\n",
       "      <td>1 2 2 0        0 2 2 0                    P</td>\n",
       "      <td>1291.105469</td>\n",
       "      <td>1 2 2 0        0 2 2 0                    P</td>\n",
       "    </tr>\n",
       "    <tr>\n",
       "      <th>20</th>\n",
       "      <td>1291.964844</td>\n",
       "      <td>1 2 2 0        0 2 2 0                    P</td>\n",
       "      <td>1291.964844</td>\n",
       "      <td>1 2 2 0        0 2 2 0                    P</td>\n",
       "    </tr>\n",
       "    <tr>\n",
       "      <th>21</th>\n",
       "      <td>1292.820923</td>\n",
       "      <td>1 2 2 0        0 2 2 0                    P</td>\n",
       "      <td>1292.820923</td>\n",
       "      <td>1 2 2 0        0 2 2 0                    P</td>\n",
       "    </tr>\n",
       "    <tr>\n",
       "      <th>22</th>\n",
       "      <td>1294.124390</td>\n",
       "      <td>1 3 3 0        0 3 3 0                    P</td>\n",
       "      <td>1294.124390</td>\n",
       "      <td>1 3 3 0        0 3 3 0                    P</td>\n",
       "    </tr>\n",
       "    <tr>\n",
       "      <th>23</th>\n",
       "      <td>1294.523682</td>\n",
       "      <td>1 2 2 0        0 2 2 0                    P</td>\n",
       "      <td>1294.523682</td>\n",
       "      <td>1 2 2 0        0 2 2 0                    P</td>\n",
       "    </tr>\n",
       "    <tr>\n",
       "      <th>24</th>\n",
       "      <td>1294.990601</td>\n",
       "      <td>1 3 3 0        0 3 3 0                    P</td>\n",
       "      <td>1294.990601</td>\n",
       "      <td>1 3 3 0        0 3 3 0                    P</td>\n",
       "    </tr>\n",
       "    <tr>\n",
       "      <th>25</th>\n",
       "      <td>1295.853638</td>\n",
       "      <td>1 3 3 0        0 3 3 0                    P</td>\n",
       "      <td>1295.853638</td>\n",
       "      <td>1 3 3 0        0 3 3 0                    P</td>\n",
       "    </tr>\n",
       "    <tr>\n",
       "      <th>26</th>\n",
       "      <td>1296.225830</td>\n",
       "      <td>1 4 2 0        0 4 2 0                    P</td>\n",
       "      <td>1296.225830</td>\n",
       "      <td>1 4 2 0        0 4 2 0                    P</td>\n",
       "    </tr>\n",
       "    <tr>\n",
       "      <th>27</th>\n",
       "      <td>1297.022095</td>\n",
       "      <td>1 2 2 0        0 2 2 0                    Q</td>\n",
       "      <td>1297.022095</td>\n",
       "      <td>1 2 2 0        0 2 2 0                    Q</td>\n",
       "    </tr>\n",
       "    <tr>\n",
       "      <th>28</th>\n",
       "      <td>1297.044434</td>\n",
       "      <td>1 2 2 0        0 2 2 0                    Q</td>\n",
       "      <td>1297.044434</td>\n",
       "      <td>1 2 2 0        0 2 2 0                    Q</td>\n",
       "    </tr>\n",
       "    <tr>\n",
       "      <th>29</th>\n",
       "      <td>1297.570435</td>\n",
       "      <td>1 3 3 0        0 3 3 0                    P</td>\n",
       "      <td>1297.570435</td>\n",
       "      <td>1 3 3 0        0 3 3 0                    P</td>\n",
       "    </tr>\n",
       "    <tr>\n",
       "      <th>30</th>\n",
       "      <td>1297.933228</td>\n",
       "      <td>1 4 2 0        0 4 2 0                    P</td>\n",
       "      <td>1297.933228</td>\n",
       "      <td>1 4 2 0        0 4 2 0                    P</td>\n",
       "    </tr>\n",
       "    <tr>\n",
       "      <th>31</th>\n",
       "      <td>1298.424194</td>\n",
       "      <td>1 3 3 0        0 3 3 0                    P</td>\n",
       "      <td>1298.424194</td>\n",
       "      <td>1 3 3 0        0 3 3 0                    P</td>\n",
       "    </tr>\n",
       "    <tr>\n",
       "      <th>32</th>\n",
       "      <td>1300.383057</td>\n",
       "      <td>1 2 2 0        0 2 2 0                    R</td>\n",
       "      <td>1300.383057</td>\n",
       "      <td>1 2 2 0        0 2 2 0                    R</td>\n",
       "    </tr>\n",
       "    <tr>\n",
       "      <th>33</th>\n",
       "      <td>1301.761475</td>\n",
       "      <td>1 3 3 0        0 3 3 0                    Q</td>\n",
       "      <td>1301.761475</td>\n",
       "      <td>1 3 3 0        0 3 3 0                    Q</td>\n",
       "    </tr>\n",
       "    <tr>\n",
       "      <th>34</th>\n",
       "      <td>1301.777100</td>\n",
       "      <td>1 3 3 0        0 3 3 0                    Q</td>\n",
       "      <td>1301.777100</td>\n",
       "      <td>1 3 3 0        0 3 3 0                    Q</td>\n",
       "    </tr>\n",
       "    <tr>\n",
       "      <th>35</th>\n",
       "      <td>1301.789551</td>\n",
       "      <td>1 3 3 0        0 3 3 0                    Q</td>\n",
       "      <td>1301.789551</td>\n",
       "      <td>1 3 3 0        0 3 3 0                    Q</td>\n",
       "    </tr>\n",
       "    <tr>\n",
       "      <th>36</th>\n",
       "      <td>1303.799561</td>\n",
       "      <td>1 4 2 0        0 4 2 0                    R</td>\n",
       "      <td>1303.799561</td>\n",
       "      <td>1 4 2 0        0 4 2 0                    R</td>\n",
       "    </tr>\n",
       "    <tr>\n",
       "      <th>37</th>\n",
       "      <td>1307.367188</td>\n",
       "      <td>2 2 2 0        1 2 2 0                    R 1</td>\n",
       "      <td>1307.367188</td>\n",
       "      <td>2 2 2 0        1 2 2 0                    R 1</td>\n",
       "    </tr>\n",
       "    <tr>\n",
       "      <th>38</th>\n",
       "      <td>1320.291260</td>\n",
       "      <td>1 3 3 0        0 3 3 0                    R 2</td>\n",
       "      <td>1320.291260</td>\n",
       "      <td>1 3 3 0        0 3 3 0                    R 2</td>\n",
       "    </tr>\n",
       "    <tr>\n",
       "      <th>39</th>\n",
       "      <td>1320.764404</td>\n",
       "      <td>1 2 2 0        0 2 2 0                    R 2</td>\n",
       "      <td>1320.764404</td>\n",
       "      <td>1 2 2 0        0 2 2 0                    R 2</td>\n",
       "    </tr>\n",
       "    <tr>\n",
       "      <th>40</th>\n",
       "      <td>1322.578491</td>\n",
       "      <td>1 3 3 0        0 3 3 0                    R 2</td>\n",
       "      <td>1322.578491</td>\n",
       "      <td>1 3 3 0        0 3 3 0                    R 2</td>\n",
       "    </tr>\n",
       "    <tr>\n",
       "      <th>41</th>\n",
       "      <td>1324.087402</td>\n",
       "      <td>1 3 3 0        0 3 3 0                    R 2</td>\n",
       "      <td>1324.087402</td>\n",
       "      <td>1 3 3 0        0 3 3 0                    R 2</td>\n",
       "    </tr>\n",
       "  </tbody>\n",
       "</table>\n",
       "</div>"
      ],
      "text/plain": [
       "            crd                                                  linereader  \\\n",
       "          vline                                          zline        vline   \n",
       "0   1253.928101  1 2 2 0        0 2 2 0                    P 1  1253.928101   \n",
       "1   1256.375610    1 2 2 0        0 2 2 0                    P  1256.375610   \n",
       "2   1258.800659    1 2 2 0        0 2 2 0                    P  1258.800659   \n",
       "3   1259.604004    1 2 2 0        0 2 2 0                    P  1259.604004   \n",
       "4   1262.432373  1 1 1 0        0 1 1 0                    P 1  1262.432373   \n",
       "5   1276.161499  1 3 3 0        0 3 3 0                    P 2  1276.161499   \n",
       "6   1277.088257  1 3 3 0        0 3 3 0                    P 2  1277.088257   \n",
       "7   1277.381470  1 2 2 0        0 2 2 0                    R 1  1277.381470   \n",
       "8   1278.932861  1 3 3 0        0 3 3 0                    P 2  1278.932861   \n",
       "9   1279.850586  1 3 3 0        0 3 3 0                    P 2  1279.850586   \n",
       "10  1280.881836    1 2 2 0        0 2 2 0                    P  1280.881836   \n",
       "11  1281.677246  1 3 3 0        0 3 3 0                    P 2  1281.677246   \n",
       "12  1282.586060  1 3 3 0        0 3 3 0                    P 2  1282.586060   \n",
       "13  1283.491821  1 3 3 0        0 3 3 0                    P 2  1283.491821   \n",
       "14  1285.332153    2 2 2 0        1 2 2 0                    P  1285.332153   \n",
       "15  1286.187012    2 2 2 0        1 2 2 0                    P  1286.187012   \n",
       "16  1287.887817    2 2 2 0        1 2 2 0                    P  1287.887817   \n",
       "17  1288.863037  1 3 3 0        0 3 3 0                    P 1  1288.863037   \n",
       "18  1289.747559  1 3 3 0        0 3 3 0                    P 1  1289.747559   \n",
       "19  1291.105469    1 2 2 0        0 2 2 0                    P  1291.105469   \n",
       "20  1291.964844    1 2 2 0        0 2 2 0                    P  1291.964844   \n",
       "21  1292.820923    1 2 2 0        0 2 2 0                    P  1292.820923   \n",
       "22  1294.124390    1 3 3 0        0 3 3 0                    P  1294.124390   \n",
       "23  1294.523682    1 2 2 0        0 2 2 0                    P  1294.523682   \n",
       "24  1294.990601    1 3 3 0        0 3 3 0                    P  1294.990601   \n",
       "25  1295.853638    1 3 3 0        0 3 3 0                    P  1295.853638   \n",
       "26  1296.225830    1 4 2 0        0 4 2 0                    P  1296.225830   \n",
       "27  1297.022095    1 2 2 0        0 2 2 0                    Q  1297.022095   \n",
       "28  1297.044434    1 2 2 0        0 2 2 0                    Q  1297.044434   \n",
       "29  1297.570435    1 3 3 0        0 3 3 0                    P  1297.570435   \n",
       "30  1297.933228    1 4 2 0        0 4 2 0                    P  1297.933228   \n",
       "31  1298.424194    1 3 3 0        0 3 3 0                    P  1298.424194   \n",
       "32  1300.383057    1 2 2 0        0 2 2 0                    R  1300.383057   \n",
       "33  1301.761475    1 3 3 0        0 3 3 0                    Q  1301.761475   \n",
       "34  1301.777100    1 3 3 0        0 3 3 0                    Q  1301.777100   \n",
       "35  1301.789551    1 3 3 0        0 3 3 0                    Q  1301.789551   \n",
       "36  1303.799561    1 4 2 0        0 4 2 0                    R  1303.799561   \n",
       "37  1307.367188  2 2 2 0        1 2 2 0                    R 1  1307.367188   \n",
       "38  1320.291260  1 3 3 0        0 3 3 0                    R 2  1320.291260   \n",
       "39  1320.764404  1 2 2 0        0 2 2 0                    R 2  1320.764404   \n",
       "40  1322.578491  1 3 3 0        0 3 3 0                    R 2  1322.578491   \n",
       "41  1324.087402  1 3 3 0        0 3 3 0                    R 2  1324.087402   \n",
       "\n",
       "                                                   \n",
       "                                            zline  \n",
       "0   1 2 2 0        0 2 2 0                    P 1  \n",
       "1     1 2 2 0        0 2 2 0                    P  \n",
       "2     1 2 2 0        0 2 2 0                    P  \n",
       "3     1 2 2 0        0 2 2 0                    P  \n",
       "4   1 1 1 0        0 1 1 0                    P 1  \n",
       "5   1 3 3 0        0 3 3 0                    P 2  \n",
       "6   1 3 3 0        0 3 3 0                    P 2  \n",
       "7   1 2 2 0        0 2 2 0                    R 1  \n",
       "8   1 3 3 0        0 3 3 0                    P 2  \n",
       "9   1 3 3 0        0 3 3 0                    P 2  \n",
       "10    1 2 2 0        0 2 2 0                    P  \n",
       "11  1 3 3 0        0 3 3 0                    P 2  \n",
       "12  1 3 3 0        0 3 3 0                    P 2  \n",
       "13  1 3 3 0        0 3 3 0                    P 2  \n",
       "14    2 2 2 0        1 2 2 0                    P  \n",
       "15    2 2 2 0        1 2 2 0                    P  \n",
       "16    2 2 2 0        1 2 2 0                    P  \n",
       "17  1 3 3 0        0 3 3 0                    P 1  \n",
       "18  1 3 3 0        0 3 3 0                    P 1  \n",
       "19    1 2 2 0        0 2 2 0                    P  \n",
       "20    1 2 2 0        0 2 2 0                    P  \n",
       "21    1 2 2 0        0 2 2 0                    P  \n",
       "22    1 3 3 0        0 3 3 0                    P  \n",
       "23    1 2 2 0        0 2 2 0                    P  \n",
       "24    1 3 3 0        0 3 3 0                    P  \n",
       "25    1 3 3 0        0 3 3 0                    P  \n",
       "26    1 4 2 0        0 4 2 0                    P  \n",
       "27    1 2 2 0        0 2 2 0                    Q  \n",
       "28    1 2 2 0        0 2 2 0                    Q  \n",
       "29    1 3 3 0        0 3 3 0                    P  \n",
       "30    1 4 2 0        0 4 2 0                    P  \n",
       "31    1 3 3 0        0 3 3 0                    P  \n",
       "32    1 2 2 0        0 2 2 0                    R  \n",
       "33    1 3 3 0        0 3 3 0                    Q  \n",
       "34    1 3 3 0        0 3 3 0                    Q  \n",
       "35    1 3 3 0        0 3 3 0                    Q  \n",
       "36    1 4 2 0        0 4 2 0                    R  \n",
       "37  2 2 2 0        1 2 2 0                    R 1  \n",
       "38  1 3 3 0        0 3 3 0                    R 2  \n",
       "39  1 2 2 0        0 2 2 0                    R 2  \n",
       "40  1 3 3 0        0 3 3 0                    R 2  \n",
       "41  1 3 3 0        0 3 3 0                    R 2  "
      ]
     },
     "execution_count": 93,
     "metadata": {},
     "output_type": "execute_result"
    }
   ],
   "source": [
    "# show duplicated lines obtained from crd and from linereader\n",
    "# side-by-side\n",
    "\n",
    "pd.concat([df_dup_lines, df_dup_lines1], keys=['crd', 'linereader'], \n",
    "          axis=1)"
   ]
  },
  {
   "cell_type": "code",
   "execution_count": 95,
   "metadata": {
    "collapsed": false
   },
   "outputs": [
    {
     "data": {
      "text/plain": [
       "True"
      ]
     },
     "execution_count": 95,
     "metadata": {},
     "output_type": "execute_result"
    }
   ],
   "source": [
    "# duplicated lines caught in crd and line reader are identical ones\n",
    "\n",
    "all(df_dup_lines == df_dup_lines1)"
   ]
  },
  {
   "cell_type": "code",
   "execution_count": null,
   "metadata": {
    "collapsed": true
   },
   "outputs": [],
   "source": []
  }
 ],
 "metadata": {
  "kernelspec": {
   "display_name": "Python 3",
   "language": "python",
   "name": "python3"
  },
  "language_info": {
   "codemirror_mode": {
    "name": "ipython",
    "version": 3
   },
   "file_extension": ".py",
   "mimetype": "text/x-python",
   "name": "python",
   "nbconvert_exporter": "python",
   "pygments_lexer": "ipython3",
   "version": "3.4.4"
  }
 },
 "nbformat": 4,
 "nbformat_minor": 0
}
