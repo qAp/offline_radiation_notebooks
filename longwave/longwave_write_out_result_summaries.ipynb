{
 "metadata": {
  "name": "",
  "signature": "sha256:40b68f1ec8da5a5195884f680b85345b2afcd99eababd1eea9f693fa9a702553"
 },
 "nbformat": 3,
 "nbformat_minor": 0,
 "worksheets": [
  {
   "cells": [
    {
     "cell_type": "code",
     "collapsed": false,
     "input": [
      "%pylab inline\n",
      "from IPython import display\n",
      "import os\n",
      "import io\n",
      "import itertools\n",
      "import collections\n",
      "import matplotlib.pyplot as plt\n",
      "import numpy as np\n",
      "import pandas as pd\n",
      "import importlib\n",
      "\n",
      "import rtmtools.lblrtm.aerutils as aerutils\n",
      "import rtmtools.lblrtm.aeranalyse as aeranalyse\n",
      "import rtmtools.lblrtm.visualisation as viz\n",
      "\n",
      "import rtmtools.clirad.sw.wrangle as cliradwrangle\n",
      "import rtmtools.clirad.sw.analyse as cliradanalyse\n",
      "import rtmtools.clirad.lw.info\n",
      "\n",
      "import rtmtools.rrtmg.lw.wrangle as rrtmgwrangle\n",
      "import rtmtools.rrtmg.sw.analyse as rrtmganalyse\n",
      "\n",
      "\n",
      "\n",
      "importlib.reload(aerutils)\n",
      "importlib.reload(aeranalyse)\n",
      "importlib.reload(viz)\n",
      "\n",
      "importlib.reload(cliradwrangle)\n",
      "importlib.reload(cliradanalyse)\n",
      "importlib.reload(rtmtools.clirad.lw.info)\n",
      "\n",
      "importlib.reload(rrtmgwrangle)\n",
      "importlib.reload(rrtmganalyse)"
     ],
     "language": "python",
     "metadata": {},
     "outputs": [
      {
       "output_type": "stream",
       "stream": "stdout",
       "text": [
        "Populating the interactive namespace from numpy and matplotlib\n"
       ]
      },
      {
       "metadata": {},
       "output_type": "pyout",
       "prompt_number": 1,
       "text": [
        "<module 'rtmtools.rrtmg.sw.analyse' from '/nuwa_cluster/home/jackyu/radiation/rtmtools/rtmtools/rrtmg/sw/analyse.py'>"
       ]
      }
     ],
     "prompt_number": 1
    },
    {
     "cell_type": "code",
     "collapsed": false,
     "input": [
      "# This notebook is to be used for writing out longwave (infra-red) result summaries to disk"
     ],
     "language": "python",
     "metadata": {},
     "outputs": [],
     "prompt_number": 2
    },
    {
     "cell_type": "markdown",
     "metadata": {},
     "source": [
      "#### Load all available results"
     ]
    },
    {
     "cell_type": "code",
     "collapsed": false,
     "input": [
      "# CRD"
     ],
     "language": "python",
     "metadata": {},
     "outputs": [],
     "prompt_number": 3
    },
    {
     "cell_type": "code",
     "collapsed": false,
     "input": [
      "# H2O\n",
      "path_crd_H2O = '/nuwa_cluster/home/jackyu/radiation/crd/LW/examples/lbl_H2008_h2O_cut25/OUTPUT_RADSUM'"
     ],
     "language": "python",
     "metadata": {},
     "outputs": [],
     "prompt_number": 4
    },
    {
     "cell_type": "code",
     "collapsed": false,
     "input": [
      "pnl_crd_H2O = aerutils.OUTPUT_RADSUM_to_pandasPanel(readfrom = path_crd_H2O, cooling_rate = True, signed_fluxes = True)"
     ],
     "language": "python",
     "metadata": {},
     "outputs": [],
     "prompt_number": 5
    },
    {
     "cell_type": "code",
     "collapsed": false,
     "input": [
      "# CO2\n",
      "path_crd_CO2 = '/nuwa_cluster/home/jackyu/radiation/crd/LW/examples/lbl_H2008_CO2_cut25/OUTPUT_RADSUM'"
     ],
     "language": "python",
     "metadata": {},
     "outputs": [],
     "prompt_number": 6
    },
    {
     "cell_type": "code",
     "collapsed": false,
     "input": [
      "pnl_crd_CO2 = aerutils.OUTPUT_RADSUM_to_pandasPanel(readfrom = path_crd_CO2, cooling_rate = True, signed_fluxes = True)"
     ],
     "language": "python",
     "metadata": {},
     "outputs": [],
     "prompt_number": 7
    },
    {
     "cell_type": "code",
     "collapsed": false,
     "input": [
      "# O3\n",
      "path_crd_O3 = '/nuwa_cluster/home/jackyu/radiation/crd/LW/examples/lbl_H2008_O3_cut25/OUTPUT_RADSUM'"
     ],
     "language": "python",
     "metadata": {},
     "outputs": [],
     "prompt_number": 8
    },
    {
     "cell_type": "code",
     "collapsed": false,
     "input": [
      "pnl_crd_O3 = aerutils.OUTPUT_RADSUM_to_pandasPanel(readfrom = path_crd_O3, cooling_rate = True, signed_fluxes = True)"
     ],
     "language": "python",
     "metadata": {},
     "outputs": [],
     "prompt_number": 9
    },
    {
     "cell_type": "code",
     "collapsed": false,
     "input": [
      "# CRD H1996 cutoff = 10 cm-1"
     ],
     "language": "python",
     "metadata": {},
     "outputs": [],
     "prompt_number": 10
    },
    {
     "cell_type": "code",
     "collapsed": false,
     "input": [
      "#H2O\n",
      "path_crd_H2O_1 = '/nuwa_cluster/home/jackyu/radiation/crd/LW/examples/lbl_H1996_H2O_cut10/OUTPUT_RADSUM'"
     ],
     "language": "python",
     "metadata": {},
     "outputs": [],
     "prompt_number": 11
    },
    {
     "cell_type": "code",
     "collapsed": false,
     "input": [
      "pnl_crd_H2O_1 = aerutils.OUTPUT_RADSUM_to_pandasPanel(readfrom = path_crd_H2O_1, cooling_rate=True, signed_fluxes=True)"
     ],
     "language": "python",
     "metadata": {},
     "outputs": [],
     "prompt_number": 12
    },
    {
     "cell_type": "code",
     "collapsed": false,
     "input": [
      "# CO2\n",
      "path_crd_CO2_1 = '/nuwa_cluster/home/jackyu/radiation/crd/LW/examples/lbl_H1996_CO2_cut10/OUTPUT_RADSUM'"
     ],
     "language": "python",
     "metadata": {},
     "outputs": [],
     "prompt_number": 13
    },
    {
     "cell_type": "code",
     "collapsed": false,
     "input": [
      "pnl_crd_CO2_1 = aerutils.OUTPUT_RADSUM_to_pandasPanel(readfrom = path_crd_CO2_1, cooling_rate=True, signed_fluxes=True)"
     ],
     "language": "python",
     "metadata": {},
     "outputs": [],
     "prompt_number": 14
    },
    {
     "cell_type": "code",
     "collapsed": false,
     "input": [
      "# O3\n",
      "path_crd_O3_1 = '/nuwa_cluster/home/jackyu/radiation/crd/LW/examples/lbl_H1996_O3_cut10/OUTPUT_RADSUM'"
     ],
     "language": "python",
     "metadata": {},
     "outputs": [],
     "prompt_number": 15
    },
    {
     "cell_type": "code",
     "collapsed": false,
     "input": [
      "pnl_crd_O3_1 = aerutils.OUTPUT_RADSUM_to_pandasPanel(readfrom = path_crd_O3_1, cooling_rate=True, signed_fluxes=True)"
     ],
     "language": "python",
     "metadata": {},
     "outputs": [],
     "prompt_number": 16
    },
    {
     "cell_type": "code",
     "collapsed": false,
     "input": [
      "# CLIRAD"
     ],
     "language": "python",
     "metadata": {},
     "outputs": [],
     "prompt_number": 17
    },
    {
     "cell_type": "code",
     "collapsed": false,
     "input": [
      "# H2O\n",
      "path_clirad_H2O = '/nuwa_cluster/home/jackyu/radiation/clirad/LW/examples/mls75_H2O/OUTPUT_CLIRAD.dat'"
     ],
     "language": "python",
     "metadata": {},
     "outputs": [],
     "prompt_number": 18
    },
    {
     "cell_type": "code",
     "collapsed": false,
     "input": [
      "pnl_clirad_H2O = cliradwrangle.OUTPUT_CLIRAD_to_PandasPanel(readfrom = path_clirad_H2O, \n",
      "                                                            cooling_rate = True, signed_fluxes= True)"
     ],
     "language": "python",
     "metadata": {},
     "outputs": [],
     "prompt_number": 19
    },
    {
     "cell_type": "code",
     "collapsed": false,
     "input": [
      "# CO2\n",
      "path_clirad_CO2 = '/nuwa_cluster/home/jackyu/radiation/clirad/LW/examples/mls75_CO2/OUTPUT_CLIRAD.dat'"
     ],
     "language": "python",
     "metadata": {},
     "outputs": [],
     "prompt_number": 20
    },
    {
     "cell_type": "code",
     "collapsed": false,
     "input": [
      "pnl_clirad_CO2 = cliradwrangle.OUTPUT_CLIRAD_to_PandasPanel(readfrom = path_clirad_CO2,\n",
      "                                                            cooling_rate = True, signed_fluxes = True)"
     ],
     "language": "python",
     "metadata": {},
     "outputs": [],
     "prompt_number": 21
    },
    {
     "cell_type": "code",
     "collapsed": false,
     "input": [
      "# O3\n",
      "path_clirad_O3 = '/nuwa_cluster/home/jackyu/radiation/clirad/LW/examples/mls75_O3/OUTPUT_CLIRAD.dat'"
     ],
     "language": "python",
     "metadata": {},
     "outputs": [],
     "prompt_number": 22
    },
    {
     "cell_type": "code",
     "collapsed": false,
     "input": [
      "pnl_clirad_O3 = cliradwrangle.OUTPUT_CLIRAD_to_PandasPanel(readfrom = path_clirad_O3,\n",
      "                                                           cooling_rate = True, signed_fluxes = True)"
     ],
     "language": "python",
     "metadata": {},
     "outputs": [],
     "prompt_number": 23
    },
    {
     "cell_type": "code",
     "collapsed": false,
     "input": [
      "# LBLRTM"
     ],
     "language": "python",
     "metadata": {},
     "outputs": [],
     "prompt_number": 24
    },
    {
     "cell_type": "code",
     "collapsed": false,
     "input": [
      "# H2O\n",
      "path_lblrtm_H2O = '/nuwa_cluster/home/jackyu/line_by_line/aerlbl_v12.2_package/runs/LW/run_mls75pro_H2O/OUTPUT_RADSUM'"
     ],
     "language": "python",
     "metadata": {},
     "outputs": [],
     "prompt_number": 25
    },
    {
     "cell_type": "code",
     "collapsed": false,
     "input": [
      "pnl_lblrtm_H2O = aerutils.OUTPUT_RADSUM_to_pandasPanel(readfrom = path_lblrtm_H2O, cooling_rate = True, signed_fluxes = True)"
     ],
     "language": "python",
     "metadata": {},
     "outputs": [],
     "prompt_number": 26
    },
    {
     "cell_type": "code",
     "collapsed": false,
     "input": [
      "# CO2\n",
      "path_lblrtm_CO2 = '/nuwa_cluster/home/jackyu/line_by_line/aerlbl_v12.2_package/runs/LW/run_mls75pro_CO2/OUTPUT_RADSUM'"
     ],
     "language": "python",
     "metadata": {},
     "outputs": [],
     "prompt_number": 27
    },
    {
     "cell_type": "code",
     "collapsed": false,
     "input": [
      "pnl_lblrtm_CO2 = aerutils.OUTPUT_RADSUM_to_pandasPanel(readfrom = path_lblrtm_CO2, cooling_rate = True, signed_fluxes = True)"
     ],
     "language": "python",
     "metadata": {},
     "outputs": [],
     "prompt_number": 28
    },
    {
     "cell_type": "code",
     "collapsed": false,
     "input": [
      "# O3\n",
      "path_lblrtm_O3 = '/nuwa_cluster/home/jackyu/line_by_line/aerlbl_v12.2_package/runs/LW/run_mls75pro_O3/OUTPUT_RADSUM'"
     ],
     "language": "python",
     "metadata": {},
     "outputs": [],
     "prompt_number": 29
    },
    {
     "cell_type": "code",
     "collapsed": false,
     "input": [
      "pnl_lblrtm_O3 = aerutils.OUTPUT_RADSUM_to_pandasPanel(readfrom = path_lblrtm_O3, cooling_rate = True, signed_fluxes = True)"
     ],
     "language": "python",
     "metadata": {},
     "outputs": [],
     "prompt_number": 30
    },
    {
     "cell_type": "code",
     "collapsed": false,
     "input": [
      "# RRTMG"
     ],
     "language": "python",
     "metadata": {},
     "outputs": [],
     "prompt_number": 31
    },
    {
     "cell_type": "code",
     "collapsed": false,
     "input": [
      "# H2O\n",
      "path_rrtmg_H2O = '/nuwa_cluster/home/jackyu/radiation/rrtmg/LW/examples/mls70_H2O/OUTPUT_RRTM'"
     ],
     "language": "python",
     "metadata": {},
     "outputs": [],
     "prompt_number": 32
    },
    {
     "cell_type": "code",
     "collapsed": false,
     "input": [
      "pnl_rrtmg_H2O = rrtmgwrangle.OUTPUT_RRTM_to_pandasPanel(readfrom = path_rrtmg_H2O, cooling_rate = True, signed_fluxes = True)"
     ],
     "language": "python",
     "metadata": {},
     "outputs": [],
     "prompt_number": 33
    },
    {
     "cell_type": "code",
     "collapsed": false,
     "input": [
      "# CO2\n",
      "path_rrtmg_CO2 = '/nuwa_cluster/home/jackyu/radiation/rrtmg/LW/examples/mls70_CO2/OUTPUT_RRTM'"
     ],
     "language": "python",
     "metadata": {},
     "outputs": [],
     "prompt_number": 34
    },
    {
     "cell_type": "code",
     "collapsed": false,
     "input": [
      "pnl_rrtmg_CO2 = rrtmgwrangle.OUTPUT_RRTM_to_pandasPanel(readfrom = path_rrtmg_CO2, cooling_rate = True, signed_fluxes = True)"
     ],
     "language": "python",
     "metadata": {},
     "outputs": [],
     "prompt_number": 35
    },
    {
     "cell_type": "code",
     "collapsed": false,
     "input": [
      "# O3 \n",
      "path_rrtmg_O3 = '/nuwa_cluster/home/jackyu/radiation/rrtmg/LW/examples/mls70_O3/OUTPUT_RRTM'"
     ],
     "language": "python",
     "metadata": {},
     "outputs": [],
     "prompt_number": 36
    },
    {
     "cell_type": "code",
     "collapsed": false,
     "input": [
      "pnl_rrtmg_O3 = rrtmgwrangle.OUTPUT_RRTM_to_pandasPanel(readfrom = path_rrtmg_O3, cooling_rate = True, signed_fluxes = True)"
     ],
     "language": "python",
     "metadata": {},
     "outputs": [],
     "prompt_number": 37
    },
    {
     "cell_type": "markdown",
     "metadata": {},
     "source": [
      "#### Sum over 0 ~ 3000 cm-1"
     ]
    },
    {
     "cell_type": "code",
     "collapsed": false,
     "input": [
      "v1, v2 = 0., 3000.\n",
      "wbands = range(1, 8 + 1)"
     ],
     "language": "python",
     "metadata": {},
     "outputs": [],
     "prompt_number": 38
    },
    {
     "cell_type": "code",
     "collapsed": false,
     "input": [
      "df_crd_H2O = aeranalyse.sum_OUTPUT_RADSUM_over_wbands(pnl_crd_H2O, V1 = v1, V2 = v2)\n",
      "df_crd_CO2 = aeranalyse.sum_OUTPUT_RADSUM_over_wbands(pnl_crd_CO2, V1 = v1, V2 = v2)\n",
      "df_crd_O3 = aeranalyse.sum_OUTPUT_RADSUM_over_wbands(pnl_crd_O3, V1 = v1, V2 = v2)"
     ],
     "language": "python",
     "metadata": {},
     "outputs": [],
     "prompt_number": 39
    },
    {
     "cell_type": "code",
     "collapsed": false,
     "input": [
      "df_crd_H2O_1 = aeranalyse.sum_OUTPUT_RADSUM_over_wbands(pnl_crd_H2O_1, V1 = v1, V2 = v2)\n",
      "df_crd_CO2_1 = aeranalyse.sum_OUTPUT_RADSUM_over_wbands(pnl_crd_CO2_1, V1 = v1, V2 = v2)\n",
      "df_crd_O3_1 = aeranalyse.sum_OUTPUT_RADSUM_over_wbands(pnl_crd_O3_1, V1 = v1, V2 = v2)"
     ],
     "language": "python",
     "metadata": {},
     "outputs": [],
     "prompt_number": 40
    },
    {
     "cell_type": "code",
     "collapsed": false,
     "input": [
      "df_clirad_H2O = cliradanalyse.sum_OUTPUT_CLIRAD_over_wbands(pnl_clirad_H2O, wbands = wbands)\n",
      "df_clirad_CO2 = cliradanalyse.sum_OUTPUT_CLIRAD_over_wbands(pnl_clirad_CO2, wbands = wbands)\n",
      "df_clirad_O3 = cliradanalyse.sum_OUTPUT_CLIRAD_over_wbands(pnl_clirad_O3, wbands = wbands)"
     ],
     "language": "python",
     "metadata": {},
     "outputs": [],
     "prompt_number": 41
    },
    {
     "cell_type": "code",
     "collapsed": false,
     "input": [
      "df_lblrtm_H2O = aeranalyse.sum_OUTPUT_RADSUM_over_wbands(pnl_lblrtm_H2O, V1 = v1, V2 = v2)\n",
      "df_lblrtm_CO2 = aeranalyse.sum_OUTPUT_RADSUM_over_wbands(pnl_lblrtm_CO2, V1 = v1, V2 = v2)\n",
      "df_lblrtm_O3  = aeranalyse.sum_OUTPUT_RADSUM_over_wbands(pnl_lblrtm_O3, V1 = v1, V2 = v2)"
     ],
     "language": "python",
     "metadata": {},
     "outputs": [],
     "prompt_number": 42
    },
    {
     "cell_type": "code",
     "collapsed": false,
     "input": [
      "df_rrtmg_H2O = aeranalyse.sum_OUTPUT_RADSUM_over_wbands(pnl_rrtmg_H2O, V1 = v1, V2 = v2)\n",
      "df_rrtmg_CO2 = aeranalyse.sum_OUTPUT_RADSUM_over_wbands(pnl_rrtmg_CO2, V1 = v1, V2 = v2)\n",
      "df_rrtmg_O3 = aeranalyse.sum_OUTPUT_RADSUM_over_wbands(pnl_rrtmg_O3, V1 = v1, V2 = v2)"
     ],
     "language": "python",
     "metadata": {},
     "outputs": [],
     "prompt_number": 43
    },
    {
     "cell_type": "markdown",
     "metadata": {},
     "source": [
      "#### Define a function to return a Series of \n",
      "\n",
      "(TOA flux_up, tropopause flux_up, tropopause flux_down, surface flux_down, atmosphere cooling rate)"
     ]
    },
    {
     "cell_type": "code",
     "collapsed": false,
     "input": [
      "# Calculate cooling rate of atmosphere\n",
      "def atmosphere_cooling_rate(df):\n",
      "    return - 8.4410 * (df.loc[df.index[0], 'net_flux'] - df.loc[df.index[-1], 'net_flux']) / \\\n",
      "(df.loc[df.index[-1], 'pressure'] - df.loc[df.index[0], 'pressure'])\n",
      "\n",
      "\n",
      "# Define a function to return a Series of \n",
      "# (TOA flux_up, tropopause flux_up, tropopause flux_down, surface flux_down, atmosphere cooling rate)\n",
      "def case_flux_cr_summary(df):\n",
      "    level_TOA, level_TROP, level_surface = 70, 30, 0\n",
      "    level_names = ['TOA flux_up [W m^-2])', 'TRP flux_up [W m^-2]', 'TRP flux_down [W m^-2]', 'SFC flux_down [W m^-2]']\n",
      "    srs = pd.Series([np.abs(df.loc[level_TOA, 'flux_up']),\n",
      "                     np.abs(df.loc[level_TROP, 'flux_up']),\n",
      "                     df.loc[level_TROP, 'flux_down'],\n",
      "                     df.loc[level_surface, 'flux_down']],\n",
      "                    index = level_names)\n",
      "    srs['ATM cooling_rate [deg. day^-1]'] = atmosphere_cooling_rate(df)\n",
      "    return srs"
     ],
     "language": "python",
     "metadata": {},
     "outputs": [],
     "prompt_number": 52
    },
    {
     "cell_type": "code",
     "collapsed": false,
     "input": [
      "molecule_names = ['H2O', 'CO2', 'O3']\n",
      "model_names = ['CRD 2008 25cm-1', 'CRD 1996 10cm-1', 'CLIRAD', 'AER LBLRTM', 'AER RRTMG']"
     ],
     "language": "python",
     "metadata": {},
     "outputs": [],
     "prompt_number": 105
    },
    {
     "cell_type": "code",
     "collapsed": false,
     "input": [
      "dfs_crd = [df_crd_H2O, df_crd_CO2, df_crd_O3]\n",
      "dfs_crd_1 = [df_crd_H2O_1, df_crd_CO2_1, df_crd_O3_1]\n",
      "dfs_clirad = [df_clirad_H2O, df_clirad_CO2, df_clirad_O3]\n",
      "dfs_lblrtm = [df_lblrtm_H2O, df_lblrtm_CO2, df_lblrtm_O3]\n",
      "dfs_rrtmg = [df_rrtmg_H2O, df_rrtmg_CO2, df_rrtmg_O3]"
     ],
     "language": "python",
     "metadata": {},
     "outputs": [],
     "prompt_number": 54
    },
    {
     "cell_type": "code",
     "collapsed": false,
     "input": [
      "srs_crd = pd.concat([case_flux_cr_summary(df) for df in dfs_crd], keys = molecule_names, names = ['molecule', 'variable'])\n",
      "srs_crd_1 = pd.concat([case_flux_cr_summary(df) for df in dfs_crd_1], keys = molecule_names)\n",
      "srs_clirad = pd.concat([case_flux_cr_summary(df) for df in dfs_clirad], keys = molecule_names)\n",
      "srs_lblrtm = pd.concat([case_flux_cr_summary(df) for df in dfs_lblrtm], keys = molecule_names)\n",
      "srs_rrtmg = pd.concat([case_flux_cr_summary(df) for df in dfs_rrtmg], keys = molecule_names)"
     ],
     "language": "python",
     "metadata": {},
     "outputs": [],
     "prompt_number": 55
    },
    {
     "cell_type": "code",
     "collapsed": false,
     "input": [
      "df_summary = pd.concat([srs_crd, srs_crd_1, srs_clirad, srs_lblrtm, srs_rrtmg], keys = model_names, names = ['model']).unstack(2)"
     ],
     "language": "python",
     "metadata": {},
     "outputs": [],
     "prompt_number": 56
    },
    {
     "cell_type": "code",
     "collapsed": false,
     "input": [
      "df_summary"
     ],
     "language": "python",
     "metadata": {},
     "outputs": [
      {
       "html": [
        "<div style=\"max-height:1000px;max-width:1500px;overflow:auto;\">\n",
        "<table border=\"1\" class=\"dataframe\">\n",
        "  <thead>\n",
        "    <tr style=\"text-align: right;\">\n",
        "      <th></th>\n",
        "      <th>variable</th>\n",
        "      <th>TOA flux_up [W m^-2])</th>\n",
        "      <th>TRP flux_up [W m^-2]</th>\n",
        "      <th>TRP flux_down [W m^-2]</th>\n",
        "      <th>SFC flux_down [W m^-2]</th>\n",
        "      <th>ATM cooling_rate [deg. day^-1]</th>\n",
        "    </tr>\n",
        "    <tr>\n",
        "      <th>model</th>\n",
        "      <th>molecule</th>\n",
        "      <th></th>\n",
        "      <th></th>\n",
        "      <th></th>\n",
        "      <th></th>\n",
        "      <th></th>\n",
        "    </tr>\n",
        "  </thead>\n",
        "  <tbody>\n",
        "    <tr>\n",
        "      <th rowspan=\"3\" valign=\"top\">CRD</th>\n",
        "      <th>H2O</th>\n",
        "      <td> 335.485371</td>\n",
        "      <td> 340.015795</td>\n",
        "      <td> 30.912823</td>\n",
        "      <td> 272.861922</td>\n",
        "      <td> 1.538926</td>\n",
        "    </tr>\n",
        "    <tr>\n",
        "      <th>CO2</th>\n",
        "      <td> 383.273276</td>\n",
        "      <td> 389.763984</td>\n",
        "      <td> 21.277476</td>\n",
        "      <td>  77.656605</td>\n",
        "      <td> 0.310542</td>\n",
        "    </tr>\n",
        "    <tr>\n",
        "      <th>O3</th>\n",
        "      <td> 415.383897</td>\n",
        "      <td> 421.720705</td>\n",
        "      <td>  2.063563</td>\n",
        "      <td>   4.378191</td>\n",
        "      <td>-0.032497</td>\n",
        "    </tr>\n",
        "    <tr>\n",
        "      <th rowspan=\"3\" valign=\"top\">CRD'</th>\n",
        "      <th>H2O</th>\n",
        "      <td> 337.475719</td>\n",
        "      <td> 341.907139</td>\n",
        "      <td> 30.203579</td>\n",
        "      <td> 266.884749</td>\n",
        "      <td> 1.505705</td>\n",
        "    </tr>\n",
        "    <tr>\n",
        "      <th>CO2</th>\n",
        "      <td> 383.122000</td>\n",
        "      <td> 389.605761</td>\n",
        "      <td> 21.213105</td>\n",
        "      <td>  77.791142</td>\n",
        "      <td> 0.310402</td>\n",
        "    </tr>\n",
        "    <tr>\n",
        "      <th>O3</th>\n",
        "      <td> 415.382571</td>\n",
        "      <td> 421.674307</td>\n",
        "      <td>  2.064824</td>\n",
        "      <td>   4.434523</td>\n",
        "      <td>-0.032039</td>\n",
        "    </tr>\n",
        "    <tr>\n",
        "      <th rowspan=\"3\" valign=\"top\">CLIRAD</th>\n",
        "      <th>H2O</th>\n",
        "      <td> 330.867192</td>\n",
        "      <td> 335.492487</td>\n",
        "      <td> 29.573816</td>\n",
        "      <td> 265.030409</td>\n",
        "      <td> 1.489744</td>\n",
        "    </tr>\n",
        "    <tr>\n",
        "      <th>CO2</th>\n",
        "      <td> 378.879070</td>\n",
        "      <td> 384.965810</td>\n",
        "      <td> 20.897889</td>\n",
        "      <td>  74.615689</td>\n",
        "      <td> 0.303019</td>\n",
        "    </tr>\n",
        "    <tr>\n",
        "      <th>O3</th>\n",
        "      <td> 407.785160</td>\n",
        "      <td> 415.051000</td>\n",
        "      <td>  2.313927</td>\n",
        "      <td>   4.914688</td>\n",
        "      <td>-0.036763</td>\n",
        "    </tr>\n",
        "    <tr>\n",
        "      <th rowspan=\"3\" valign=\"top\">AER LBLRTM</th>\n",
        "      <th>H2O</th>\n",
        "      <td> 335.176214</td>\n",
        "      <td> 339.805305</td>\n",
        "      <td> 31.105327</td>\n",
        "      <td> 272.902015</td>\n",
        "      <td> 1.537763</td>\n",
        "    </tr>\n",
        "    <tr>\n",
        "      <th>CO2</th>\n",
        "      <td> 383.100650</td>\n",
        "      <td> 389.784564</td>\n",
        "      <td> 21.088600</td>\n",
        "      <td>  77.113869</td>\n",
        "      <td> 0.305660</td>\n",
        "    </tr>\n",
        "    <tr>\n",
        "      <th>O3</th>\n",
        "      <td> 412.208759</td>\n",
        "      <td> 421.352791</td>\n",
        "      <td>  3.336097</td>\n",
        "      <td>   5.966166</td>\n",
        "      <td>-0.044643</td>\n",
        "    </tr>\n",
        "    <tr>\n",
        "      <th rowspan=\"3\" valign=\"top\">AER RRTMG</th>\n",
        "      <th>H2O</th>\n",
        "      <td> 334.214300</td>\n",
        "      <td> 339.130100</td>\n",
        "      <td> 31.148300</td>\n",
        "      <td> 275.045300</td>\n",
        "      <td> 1.547061</td>\n",
        "    </tr>\n",
        "    <tr>\n",
        "      <th>CO2</th>\n",
        "      <td> 382.539200</td>\n",
        "      <td> 389.347300</td>\n",
        "      <td> 21.345800</td>\n",
        "      <td>  78.306500</td>\n",
        "      <td> 0.310367</td>\n",
        "    </tr>\n",
        "    <tr>\n",
        "      <th>O3</th>\n",
        "      <td> 412.700600</td>\n",
        "      <td> 421.435200</td>\n",
        "      <td>  3.027200</td>\n",
        "      <td>   5.720900</td>\n",
        "      <td>-0.043141</td>\n",
        "    </tr>\n",
        "  </tbody>\n",
        "</table>\n",
        "</div>"
       ],
       "metadata": {},
       "output_type": "pyout",
       "prompt_number": 57,
       "text": [
        "variable             TOA flux_up [W m^-2])  TRP flux_up [W m^-2]  \\\n",
        "model      molecule                                                \n",
        "CRD        H2O                  335.485371            340.015795   \n",
        "           CO2                  383.273276            389.763984   \n",
        "           O3                   415.383897            421.720705   \n",
        "CRD'       H2O                  337.475719            341.907139   \n",
        "           CO2                  383.122000            389.605761   \n",
        "           O3                   415.382571            421.674307   \n",
        "CLIRAD     H2O                  330.867192            335.492487   \n",
        "           CO2                  378.879070            384.965810   \n",
        "           O3                   407.785160            415.051000   \n",
        "AER LBLRTM H2O                  335.176214            339.805305   \n",
        "           CO2                  383.100650            389.784564   \n",
        "           O3                   412.208759            421.352791   \n",
        "AER RRTMG  H2O                  334.214300            339.130100   \n",
        "           CO2                  382.539200            389.347300   \n",
        "           O3                   412.700600            421.435200   \n",
        "\n",
        "variable             TRP flux_down [W m^-2]  SFC flux_down [W m^-2]  \\\n",
        "model      molecule                                                   \n",
        "CRD        H2O                    30.912823              272.861922   \n",
        "           CO2                    21.277476               77.656605   \n",
        "           O3                      2.063563                4.378191   \n",
        "CRD'       H2O                    30.203579              266.884749   \n",
        "           CO2                    21.213105               77.791142   \n",
        "           O3                      2.064824                4.434523   \n",
        "CLIRAD     H2O                    29.573816              265.030409   \n",
        "           CO2                    20.897889               74.615689   \n",
        "           O3                      2.313927                4.914688   \n",
        "AER LBLRTM H2O                    31.105327              272.902015   \n",
        "           CO2                    21.088600               77.113869   \n",
        "           O3                      3.336097                5.966166   \n",
        "AER RRTMG  H2O                    31.148300              275.045300   \n",
        "           CO2                    21.345800               78.306500   \n",
        "           O3                      3.027200                5.720900   \n",
        "\n",
        "variable             ATM cooling_rate [deg. day^-1]  \n",
        "model      molecule                                  \n",
        "CRD        H2O                             1.538926  \n",
        "           CO2                             0.310542  \n",
        "           O3                             -0.032497  \n",
        "CRD'       H2O                             1.505705  \n",
        "           CO2                             0.310402  \n",
        "           O3                             -0.032039  \n",
        "CLIRAD     H2O                             1.489744  \n",
        "           CO2                             0.303019  \n",
        "           O3                             -0.036763  \n",
        "AER LBLRTM H2O                             1.537763  \n",
        "           CO2                             0.305660  \n",
        "           O3                             -0.044643  \n",
        "AER RRTMG  H2O                             1.547061  \n",
        "           CO2                             0.310367  \n",
        "           O3                             -0.043141  "
       ]
      }
     ],
     "prompt_number": 57
    },
    {
     "cell_type": "code",
     "collapsed": false,
     "input": [
      " #df_summary.to_csv('results_summary_LW.csv')"
     ],
     "language": "python",
     "metadata": {},
     "outputs": [],
     "prompt_number": 58
    },
    {
     "cell_type": "markdown",
     "metadata": {},
     "source": [
      "### Compare with Maggie's tables\n",
      "\n",
      "Maggie's tables' formats are slightly different.  They are separated into different molecules"
     ]
    },
    {
     "cell_type": "code",
     "collapsed": false,
     "input": [
      "def case_flux_maggies_summary(df):\n",
      "    level_TOA, level_TROP, level_surface = 70, 30, 0\n",
      "    level_names = ['TOA down', 'TOA up', 'SFC down', 'SFC up']\n",
      "    srs = pd.Series([np.abs(df.loc[level_TOA, 'flux_down']),\n",
      "                     np.abs(df.loc[level_TOA, 'flux_up']),\n",
      "                     df.loc[level_surface, 'flux_down'],\n",
      "                     np.abs(df.loc[level_surface, 'flux_up'])],\n",
      "                    index = level_names)\n",
      "    return srs"
     ],
     "language": "python",
     "metadata": {},
     "outputs": [],
     "prompt_number": 127
    },
    {
     "cell_type": "code",
     "collapsed": false,
     "input": [
      "mrs_crd = pd.concat([case_flux_maggies_summary(df) for df in dfs_crd], keys = molecule_names, names = ['molecule', 'variable'])\n",
      "mrs_crd_1 = pd.concat([case_flux_maggies_summary(df) for df in dfs_crd_1], keys = molecule_names)\n",
      "mrs_clirad = pd.concat([case_flux_maggies_summary(df) for df in dfs_clirad], keys = molecule_names)\n",
      "mrs_lblrtm = pd.concat([case_flux_maggies_summary(df) for df in dfs_lblrtm], keys = molecule_names)\n",
      "mrs_rrtmg = pd.concat([case_flux_maggies_summary(df) for df in dfs_rrtmg], keys = molecule_names)"
     ],
     "language": "python",
     "metadata": {},
     "outputs": [],
     "prompt_number": 128
    },
    {
     "cell_type": "code",
     "collapsed": false,
     "input": [
      "df_msummary = pd.concat([mrs_crd, mrs_crd_1, mrs_clirad, mrs_lblrtm, mrs_rrtmg], \n",
      "                        keys = model_names, names = ['model']).unstack(2)\n",
      "df_msummary['TOA net up'] = df_msummary['TOA up'] - df_msummary['TOA down']\n",
      "df_msummary['SFC net up'] = df_msummary['SFC up'] - df_msummary['SFC down']\n",
      "df_msummary = df_msummary[['TOA down', 'TOA up', 'TOA net up',\\\n",
      "                           'SFC down', 'SFC up', 'SFC net up']]"
     ],
     "language": "python",
     "metadata": {},
     "outputs": [],
     "prompt_number": 129
    },
    {
     "cell_type": "code",
     "collapsed": false,
     "input": [
      "df_H2O = df_msummary.copy().loc(axis = 0)[:, 'H2O']\n",
      "df_CO2 = df_msummary.copy().loc[(slice(None), 'CO2'), :]\n",
      "df_O3 = df_msummary.loc[(slice(None), 'O3'), :]\n",
      "\n",
      "df_H2O.index = df_H2O.index.droplevel('molecule').unique()\n",
      "df_CO2.index = df_CO2.index.droplevel('molecule').unique()\n",
      "df_O3.index = df_O3.index.droplevel('molecule').unique()"
     ],
     "language": "python",
     "metadata": {},
     "outputs": [],
     "prompt_number": 130
    },
    {
     "cell_type": "code",
     "collapsed": false,
     "input": [
      "df_H2O.to_csv('flux_H2O_maggies_tables.csv')\n",
      "df_CO2.to_csv('flux_CO2_maggies_tables.csv')\n",
      "df_O3.to_csv('flux_O3_maggies_tables.csv')"
     ],
     "language": "python",
     "metadata": {},
     "outputs": [],
     "prompt_number": 133
    },
    {
     "cell_type": "code",
     "collapsed": false,
     "input": [
      "df_CO2"
     ],
     "language": "python",
     "metadata": {},
     "outputs": [
      {
       "html": [
        "<div style=\"max-height:1000px;max-width:1500px;overflow:auto;\">\n",
        "<table border=\"1\" class=\"dataframe\">\n",
        "  <thead>\n",
        "    <tr style=\"text-align: right;\">\n",
        "      <th>variable</th>\n",
        "      <th>TOA down</th>\n",
        "      <th>TOA up</th>\n",
        "      <th>TOA net up</th>\n",
        "      <th>SFC down</th>\n",
        "      <th>SFC up</th>\n",
        "      <th>SFC net up</th>\n",
        "    </tr>\n",
        "  </thead>\n",
        "  <tbody>\n",
        "    <tr>\n",
        "      <th>CRD 2008 25cm-1</th>\n",
        "      <td> 0.000000</td>\n",
        "      <td> 383.273276</td>\n",
        "      <td> 383.273276</td>\n",
        "      <td> 77.656605</td>\n",
        "      <td> 423.662018</td>\n",
        "      <td> 346.005414</td>\n",
        "    </tr>\n",
        "    <tr>\n",
        "      <th>CRD 1996 10cm-1</th>\n",
        "      <td> 0.000000</td>\n",
        "      <td> 383.122000</td>\n",
        "      <td> 383.122000</td>\n",
        "      <td> 77.791142</td>\n",
        "      <td> 423.662018</td>\n",
        "      <td> 345.870876</td>\n",
        "    </tr>\n",
        "    <tr>\n",
        "      <th>CLIRAD</th>\n",
        "      <td> 0.020013</td>\n",
        "      <td> 378.879070</td>\n",
        "      <td> 378.859057</td>\n",
        "      <td> 74.615689</td>\n",
        "      <td> 417.111670</td>\n",
        "      <td> 342.495981</td>\n",
        "    </tr>\n",
        "    <tr>\n",
        "      <th>AER LBLRTM</th>\n",
        "      <td> 0.000000</td>\n",
        "      <td> 383.100650</td>\n",
        "      <td> 383.100650</td>\n",
        "      <td> 77.113869</td>\n",
        "      <td> 423.532488</td>\n",
        "      <td> 346.418619</td>\n",
        "    </tr>\n",
        "    <tr>\n",
        "      <th>AER RRTMG</th>\n",
        "      <td> 0.000000</td>\n",
        "      <td> 382.539200</td>\n",
        "      <td> 382.539200</td>\n",
        "      <td> 78.306500</td>\n",
        "      <td> 423.598800</td>\n",
        "      <td> 345.292300</td>\n",
        "    </tr>\n",
        "  </tbody>\n",
        "</table>\n",
        "</div>"
       ],
       "metadata": {},
       "output_type": "pyout",
       "prompt_number": 135,
       "text": [
        "variable         TOA down      TOA up  TOA net up   SFC down      SFC up  \\\n",
        "CRD 2008 25cm-1  0.000000  383.273276  383.273276  77.656605  423.662018   \n",
        "CRD 1996 10cm-1  0.000000  383.122000  383.122000  77.791142  423.662018   \n",
        "CLIRAD           0.020013  378.879070  378.859057  74.615689  417.111670   \n",
        "AER LBLRTM       0.000000  383.100650  383.100650  77.113869  423.532488   \n",
        "AER RRTMG        0.000000  382.539200  382.539200  78.306500  423.598800   \n",
        "\n",
        "variable         SFC net up  \n",
        "CRD 2008 25cm-1  346.005414  \n",
        "CRD 1996 10cm-1  345.870876  \n",
        "CLIRAD           342.495981  \n",
        "AER LBLRTM       346.418619  \n",
        "AER RRTMG        345.292300  "
       ]
      }
     ],
     "prompt_number": 135
    },
    {
     "cell_type": "code",
     "collapsed": false,
     "input": [],
     "language": "python",
     "metadata": {},
     "outputs": []
    }
   ],
   "metadata": {}
  }
 ]
}