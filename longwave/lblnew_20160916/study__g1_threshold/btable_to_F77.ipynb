{
 "cells": [
  {
   "cell_type": "code",
   "execution_count": 25,
   "metadata": {},
   "outputs": [
    {
     "data": {
      "text/plain": [
       "<module 'climatools.lblnew.export' from '/chia_cluster/home/jackyu/climatools/climatools/lblnew/export.py'>"
      ]
     },
     "execution_count": 25,
     "metadata": {},
     "output_type": "execute_result"
    }
   ],
   "source": [
    "%matplotlib inline\n",
    "\n",
    "import os\n",
    "import itertools\n",
    "import importlib\n",
    "\n",
    "import numpy as np\n",
    "import pandas as pd\n",
    "import xarray as xr\n",
    "\n",
    "import matplotlib\n",
    "import matplotlib.pyplot as plt\n",
    "\n",
    "\n",
    "import climatools.lblnew.export as export\n",
    "\n",
    "from IPython import display\n",
    "\n",
    "importlib.reload(export)"
   ]
  },
  {
   "cell_type": "code",
   "execution_count": 3,
   "metadata": {},
   "outputs": [
    {
     "data": {
      "text/plain": [
       "'\\nThis notebook generate valid fortran code for the static tables\\nneeded in planck() in clirad-lw.\\n'"
      ]
     },
     "execution_count": 3,
     "metadata": {},
     "output_type": "execute_result"
    }
   ],
   "source": [
    "'''\n",
    "This notebook generate valid fortran code for the static tables\n",
    "needed in planck() in clirad-lw.\n",
    "'''"
   ]
  },
  {
   "cell_type": "code",
   "execution_count": 2,
   "metadata": {},
   "outputs": [
    {
     "data": {
      "text/markdown": [
       "# B(band, temperature)"
      ],
      "text/plain": [
       "<IPython.core.display.Markdown object>"
      ]
     },
     "metadata": {},
     "output_type": "display_data"
    }
   ],
   "source": [
    "display.display(display.Markdown('# B(band, temperature)'))"
   ]
  },
  {
   "cell_type": "code",
   "execution_count": 5,
   "metadata": {
    "collapsed": true
   },
   "outputs": [],
   "source": [
    "def fpath_btable():\n",
    "    fpath = os.path.join('/chia_cluster/home/jackyu/radiation/crd/LW/src',\n",
    "                         'lblnew_-_bestfit',\n",
    "                         'lblnew_-_nref_-_autoabsth_klin_-_gasc_kdesc')\n",
    "    fpath = os.path.join(fpath, 'btable.dat')\n",
    "    return fpath\n",
    "\n",
    "\n",
    "def load_btable(fpath):\n",
    "    df = pd.read_csv(fpath, sep=r'\\s+')\n",
    "    df = df.set_index(['band', 't'])\n",
    "    ds = xr.Dataset.from_dataframe(df)\n",
    "    return ds\n",
    "\n",
    "\n",
    "def plt_against_t():\n",
    "    ds = load_btable(fpath_btable())\n",
    "    \n",
    "    nbnd = ds.dims['band']\n",
    "    \n",
    "    fig, axs = plt.subplots(nrows=1, ncols=2,\n",
    "                            figsize=(15, 10))\n",
    "    \n",
    "    for band in ds.coords['band']:\n",
    "        ds['b'].sel(band=band).plot(ax=axs[0], \n",
    "                                    label='band {}'.format(int(band)))\n",
    "        ds['slope'].sel(band=band).plot(ax=axs[1], \n",
    "                                        label='band {}'.format(int(band)))\n",
    "        \n",
    "    [ax.legend() for ax in axs]\n",
    "    \n",
    "    axs[0].set_title('b')\n",
    "    axs[0].set_ylabel('$B(b, t)$')\n",
    "    axs[0].set_xlabel('temperature (K)')\n",
    "        \n",
    "    axs[1].set_title('slope')\n",
    "    axs[1].set_ylabel('$dB/dt$')\n",
    "    axs[1].set_xlabel('temperature (K)')    \n",
    "    return fig\n",
    "        \n",
    "\n",
    "    \n",
    "def into_chunks(l, chunksize):\n",
    "    return itertools.zip_longest(*(chunksize * [iter(l)]))\n",
    "    \n",
    "\n",
    "\n",
    "def vector_to_F77list(array, num_values_per_line=4):\n",
    "    '''\n",
    "    '''\n",
    "    strfmt = '{:15.6e}'\n",
    "    \n",
    "    chunks = into_chunks(array, num_values_per_line)\n",
    "    \n",
    "    chunks = list(chunks)\n",
    "    \n",
    "    lines = []\n",
    "    for chunk in chunks[:-1]:\n",
    "        vs = [strfmt.format(v) for v in chunk if v != None]\n",
    "        line = ','.join(vs)\n",
    "        line = line + ','\n",
    "        lines.append(line)\n",
    "        \n",
    "    vs = [strfmt.format(v) for v in chunks[-1] if v != None]\n",
    "    line = ','.join(vs)\n",
    "    lines.append(line)\n",
    "    \n",
    "    return lines\n",
    "    \n",
    "\n",
    "    \n",
    "def btable_to_F77(btable):\n",
    "    num_values_per_line = 4\n",
    "    \n",
    "    last_line = '/)'\n",
    "    \n",
    "    varnames = [('b', 'b_planck'), ('slope', 'b_slope')]\n",
    "    \n",
    "    \n",
    "    lines = []\n",
    "    for dsname, foname in varnames:\n",
    "        for ib in btable.coords['band']:    \n",
    "            first_line = '{}(:, {}) = (/'.format(foname, int(ib))\n",
    "        \n",
    "            lines_itg = vector_to_F77list(\n",
    "                btable[dsname].sel(band=ib).values, \n",
    "                num_values_per_line=num_values_per_line)\n",
    "        \n",
    "            lines_itg = [first_line] + lines_itg + [last_line]\n",
    "        \n",
    "            lines_itg_amp = []\n",
    "            lines_itg_amp.append(6 * ' ' + lines_itg[0])\n",
    "            for l in lines_itg[1:]:\n",
    "                lines_itg_amp.append(5 * ' ' + '&' + l)\n",
    "            \n",
    "            lines.extend(lines_itg_amp)\n",
    "    \n",
    "    fortran = '\\n'.join(lines)\n",
    "    return fortran\n",
    "\n",
    "\n",
    "\n",
    "def save_s(filename, s):\n",
    "    clirad_dir = os.path.join('/chia_cluster/home/jackyu/radiation',\n",
    "                              'clirad-lw/LW/lee_hitran2012_update/')\n",
    "    \n",
    "    with open(os.path.join(clirad_dir, filename),\n",
    "              mode='w', encoding='utf-8') as f:\n",
    "        f.write(s)\n",
    "        \n",
    "    \n",
    "\n",
    "def script():\n",
    "    btable = load_btable(fpath_btable())\n",
    "    s = btable_to_F77(btable)\n",
    "    save_s('btable.f', s)"
   ]
  },
  {
   "cell_type": "code",
   "execution_count": 32,
   "metadata": {
    "scrolled": false
   },
   "outputs": [
    {
     "name": "stdout",
     "output_type": "stream",
     "text": [
      "      tbl(1:nt_btable) = (/\n",
      "     &  170.,  171.,  172.,  173.,  174.,  175.,  176.,  177.,  178.,\n",
      "     &  179.,  180.,  181.,  182.,  183.,  184.,  185.,  186.,  187.,\n",
      "     &  188.,  189.,  190.,  191.,  192.,  193.,  194.,  195.,  196.,\n",
      "     &  197.,  198.,  199.,  200.,  201.,  202.,  203.,  204.,  205.,\n",
      "     &  206.,  207.,  208.,  209.,  210.,  211.,  212.,  213.,  214.,\n",
      "     &  215.,  216.,  217.,  218.,  219.,  220.,  221.,  222.,  223.,\n",
      "     &  224.,  225.,  226.,  227.,  228.,  229.,  230.,  231.,  232.,\n",
      "     &  233.,  234.,  235.,  236.,  237.,  238.,  239.,  240.,  241.,\n",
      "     &  242.,  243.,  244.,  245.,  246.,  247.,  248.,  249.,  250.,\n",
      "     &  251.,  252.,  253.,  254.,  255.,  256.,  257.,  258.,  259.,\n",
      "     &  260.,  261.,  262.,  263.,  264.,  265.,  266.,  267.,  268.,\n",
      "     &  269.,  270.,  271.,  272.,  273.,  274.,  275.,  276.,  277.,\n",
      "     &  278.,  279.,  280.,  281.,  282.,  283.,  284.,  285.,  286.,\n",
      "     &  287.,  288.,  289.,  290.,  291.,  292.,  293.,  294.,  295.,\n",
      "     &  296.,  297.,  298.,  299.,  300.,  301.,  302.,  303.,  304.,\n",
      "     &  305.,  306.,  307.,  308.,  309.,  310.,  311.,  312.,  313.,\n",
      "     &  314.,  315.,  316.,  317.,  318.,  319.,  320.,  321.,  322.,\n",
      "     &  323.,  324.,  325.,  326.,  327.,  328.,  329.,  330.\n",
      "     &/)\n"
     ]
    }
   ],
   "source": [
    "def fortran_tbl():\n",
    "    '''\n",
    "    Returns the fortran for `tbl` assignment.\n",
    "    '''\n",
    "    t0, dt, nt_btable = 170, 1, 161\n",
    "    \n",
    "    t = t0 + dt * np.arange(nt_btable)\n",
    "    \n",
    "    s = export.vector_to_F77(t, num_values_per_line=9,\n",
    "                                float_format=True)\n",
    "\n",
    "    \n",
    "    l0 = 'tbl(1:nt_btable) = (/'\n",
    "    ls = [l0, \n",
    "          s,\n",
    "          5 * ' ' + '&' + '/)']\n",
    "    s = '\\n'.join(ls)\n",
    "    \n",
    "    s = 6 * ' ' + s\n",
    "    return s\n",
    "    \n",
    "    \n",
    "print(fortran_tbl())"
   ]
  },
  {
   "cell_type": "code",
   "execution_count": null,
   "metadata": {
    "collapsed": true
   },
   "outputs": [],
   "source": []
  },
  {
   "cell_type": "code",
   "execution_count": null,
   "metadata": {
    "collapsed": true
   },
   "outputs": [],
   "source": []
  }
 ],
 "metadata": {
  "kernelspec": {
   "display_name": "Python 3",
   "language": "python",
   "name": "python3"
  },
  "language_info": {
   "codemirror_mode": {
    "name": "ipython",
    "version": 3
   },
   "file_extension": ".py",
   "mimetype": "text/x-python",
   "name": "python",
   "nbconvert_exporter": "python",
   "pygments_lexer": "ipython3",
   "version": "3.6.1"
  }
 },
 "nbformat": 4,
 "nbformat_minor": 2
}
