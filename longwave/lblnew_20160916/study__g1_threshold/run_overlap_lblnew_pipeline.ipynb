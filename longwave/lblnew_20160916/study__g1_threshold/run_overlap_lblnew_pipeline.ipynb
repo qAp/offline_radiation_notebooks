{
 "cells": [
  {
   "cell_type": "code",
   "execution_count": 8,
   "metadata": {},
   "outputs": [
    {
     "data": {
      "text/plain": [
       "<module 'climatools.lblnew.setup_overlap' from '/chia_cluster/home/jackyu/climatools/climatools/lblnew/setup_overlap.py'>"
      ]
     },
     "execution_count": 8,
     "metadata": {},
     "output_type": "execute_result"
    }
   ],
   "source": [
    "import os\n",
    "import shutil\n",
    "import importlib\n",
    "import pprint\n",
    "\n",
    "import climatools.lblnew.pipeline as pipeline\n",
    "import climatools.lblnew.setup_overlap as setup_overlap\n",
    "\n",
    "importlib.reload(pipeline)\n",
    "importlib.reload(setup_overlap)"
   ]
  },
  {
   "cell_type": "code",
   "execution_count": 9,
   "metadata": {
    "collapsed": true
   },
   "outputs": [],
   "source": [
    "def params_overlap():\n",
    "    nv = 20\n",
    "    dv = .05\n",
    "    commitnumber = '541246b'\n",
    "    mol_bands = [(['h2o', 'co2'], '3a')]\n",
    "#                 (['h2o', 'co2'], '3b'),\n",
    "#                 (['h2o', 'co2'], '3c'),\n",
    "#                 (['h2o', 'o3'], '5'),\n",
    "#                 (['h2o', 'co2'], '9')]\n",
    "    atm_sfcs = [('mls', 294), ('saw', 257), ('trp', 300)]\n",
    "    \n",
    "    params = []\n",
    "    for molecule, band in mol_bands:\n",
    "        for atmpro, tsfc in atm_sfcs:\n",
    "            param = {'molecule': molecule,\n",
    "            'band': band,\n",
    "            'atmpro': atmpro,\n",
    "            'tsfc': tsfc,\n",
    "            'nv': nv,\n",
    "            'dv': dv,\n",
    "            'commitnumber': commitnumber}\n",
    "            params.append(param)\n",
    "    return params\n",
    "\n",
    "\n",
    "def nbviewer_links_overlap(params=None):\n",
    "    for param in params:\n",
    "        print(param['molecule'], param['band'], param['atmpro'])\n",
    "        print(pipeline.nbviewer_url(param, setup=setup_overlap))\n",
    "        print()\n",
    "\n",
    "\n",
    "\n",
    "def pipeline_overlap(params=None):      \n",
    "    for param in params:\n",
    "        try:\n",
    "            shutil.rmtree(\n",
    "                pipeline.get_dir_case(param, setup=setup_overlap))\n",
    "        except FileNotFoundError:\n",
    "            continue\n",
    "        \n",
    "    for param in params:\n",
    "        try:\n",
    "            shutil.rmtree(\n",
    "                pipeline.get_analysis_dir(param, setup=setup_overlap))\n",
    "        except FileNotFoundError:\n",
    "            continue\n",
    "       \n",
    "    gprocs = pipeline.pipeline_fortran2ipynb2git(params=params,\n",
    "                                                 setup=setup_overlap)\n",
    "    return gprocs\n",
    "\n",
    "\n",
    "\n",
    "def script():\n",
    "    params = params_overlap()\n",
    "    gprocs = pipeline_overlap(params=params)\n",
    "    nbviewer_links_overlap(params)"
   ]
  },
  {
   "cell_type": "code",
   "execution_count": 10,
   "metadata": {},
   "outputs": [
    {
     "name": "stdout",
     "output_type": "stream",
     "text": [
      "Submitting radiation calculation for cases\n",
      "{'atmpro': 'mls',\n",
      " 'band': '3a',\n",
      " 'commitnumber': '541246b',\n",
      " 'dv': 0.05,\n",
      " 'molecule': ['h2o', 'co2'],\n",
      " 'nv': 20,\n",
      " 'tsfc': 294}\n",
      "{'atmpro': 'saw',\n",
      " 'band': '3a',\n",
      " 'commitnumber': '541246b',\n",
      " 'dv': 0.05,\n",
      " 'molecule': ['h2o', 'co2'],\n",
      " 'nv': 20,\n",
      " 'tsfc': 257}\n",
      "{'atmpro': 'trp',\n",
      " 'band': '3a',\n",
      " 'commitnumber': '541246b',\n",
      " 'dv': 0.05,\n",
      " 'molecule': ['h2o', 'co2'],\n",
      " 'nv': 20,\n",
      " 'tsfc': 300}\n",
      "\n",
      "Submitting analysis for cases\n",
      "{'atmpro': 'mls',\n",
      " 'band': '3a',\n",
      " 'commitnumber': '541246b',\n",
      " 'dv': 0.05,\n",
      " 'molecule': ['h2o', 'co2'],\n",
      " 'nv': 20,\n",
      " 'tsfc': 294}\n",
      "{'atmpro': 'saw',\n",
      " 'band': '3a',\n",
      " 'commitnumber': '541246b',\n",
      " 'dv': 0.05,\n",
      " 'molecule': ['h2o', 'co2'],\n",
      " 'nv': 20,\n",
      " 'tsfc': 257}\n",
      "{'atmpro': 'trp',\n",
      " 'band': '3a',\n",
      " 'commitnumber': '541246b',\n",
      " 'dv': 0.05,\n",
      " 'molecule': ['h2o', 'co2'],\n",
      " 'nv': 20,\n",
      " 'tsfc': 300}\n",
      "\n",
      "Committing analysis to Git repository for cases\n",
      "{'atmpro': 'mls',\n",
      " 'band': '3a',\n",
      " 'commitnumber': '541246b',\n",
      " 'dv': 0.05,\n",
      " 'molecule': ['h2o', 'co2'],\n",
      " 'nv': 20,\n",
      " 'tsfc': 294}\n",
      "{'atmpro': 'saw',\n",
      " 'band': '3a',\n",
      " 'commitnumber': '541246b',\n",
      " 'dv': 0.05,\n",
      " 'molecule': ['h2o', 'co2'],\n",
      " 'nv': 20,\n",
      " 'tsfc': 257}\n",
      "{'atmpro': 'trp',\n",
      " 'band': '3a',\n",
      " 'commitnumber': '541246b',\n",
      " 'dv': 0.05,\n",
      " 'molecule': ['h2o', 'co2'],\n",
      " 'nv': 20,\n",
      " 'tsfc': 300}\n",
      "\n",
      "['h2o', 'co2'] 3a mls\n",
      "http://nbviewer.jupyter.org/github/qap/offline_radiation_notebooks/blob/master/longwave/lblnew_20160916/study__g1_threshold/h2o_1_co2_1_o3_0_n2o_0_ch4_0_o2_0/band03a_wn_540_620/nv_20/dv_0.05/crd_541246b/atmpro_mls/results_overlap.ipynb\n",
      "\n",
      "['h2o', 'co2'] 3a saw\n",
      "http://nbviewer.jupyter.org/github/qap/offline_radiation_notebooks/blob/master/longwave/lblnew_20160916/study__g1_threshold/h2o_1_co2_1_o3_0_n2o_0_ch4_0_o2_0/band03a_wn_540_620/nv_20/dv_0.05/crd_541246b/atmpro_saw/results_overlap.ipynb\n",
      "\n",
      "['h2o', 'co2'] 3a trp\n",
      "http://nbviewer.jupyter.org/github/qap/offline_radiation_notebooks/blob/master/longwave/lblnew_20160916/study__g1_threshold/h2o_1_co2_1_o3_0_n2o_0_ch4_0_o2_0/band03a_wn_540_620/nv_20/dv_0.05/crd_541246b/atmpro_trp/results_overlap.ipynb\n",
      "\n"
     ]
    }
   ],
   "source": [
    "script()"
   ]
  },
  {
   "cell_type": "code",
   "execution_count": null,
   "metadata": {
    "collapsed": true
   },
   "outputs": [],
   "source": []
  }
 ],
 "metadata": {
  "kernelspec": {
   "display_name": "Python 3",
   "language": "python",
   "name": "python3"
  },
  "language_info": {
   "codemirror_mode": {
    "name": "ipython",
    "version": 3
   },
   "file_extension": ".py",
   "mimetype": "text/x-python",
   "name": "python",
   "nbconvert_exporter": "python",
   "pygments_lexer": "ipython3",
   "version": "3.6.1"
  }
 },
 "nbformat": 4,
 "nbformat_minor": 2
}
