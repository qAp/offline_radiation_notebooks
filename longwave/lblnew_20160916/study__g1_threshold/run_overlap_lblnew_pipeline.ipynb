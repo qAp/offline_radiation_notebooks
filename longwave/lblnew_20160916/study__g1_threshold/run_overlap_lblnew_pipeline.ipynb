{
 "cells": [
  {
   "cell_type": "code",
   "execution_count": 41,
   "metadata": {},
   "outputs": [
    {
     "data": {
      "text/plain": [
       "<module 'climatools.lblnew.setup_overlap' from '/chia_cluster/home/jackyu/climatools/climatools/lblnew/setup_overlap.py'>"
      ]
     },
     "execution_count": 41,
     "metadata": {},
     "output_type": "execute_result"
    }
   ],
   "source": [
    "import os\n",
    "import shutil\n",
    "import importlib\n",
    "import pprint\n",
    "\n",
    "import climatools.lblnew.pipeline as pipeline\n",
    "import climatools.lblnew.setup_overlap as setup\n",
    "\n",
    "importlib.reload(pipeline)\n",
    "importlib.reload(setup)"
   ]
  },
  {
   "cell_type": "code",
   "execution_count": 42,
   "metadata": {
    "collapsed": true
   },
   "outputs": [],
   "source": [
    "def params_overlap():\n",
    "    params = []\n",
    "    for atmpro in ('mls',):\n",
    "        param = {'commitnumber': '043bdfe',\n",
    "             'molecule': {'h2o': 'atmpro',  'co2': 400e-6,},\n",
    "             'band': '9',\n",
    "             'nv': 20, \n",
    "             'dv': .05,\n",
    "             'atmpro': atmpro, \n",
    "             'tsfc': 294}\n",
    "        params.append(param)\n",
    "    return params\n",
    "\n",
    "\n",
    "\n",
    "def nbviewer_links_overlap(params=None):\n",
    "    for param in params:\n",
    "        print(param['molecule'], param['band'], param['atmpro'])\n",
    "        print(pipeline.nbviewer_url(param, setup=setup))\n",
    "        print()\n",
    "\n",
    "\n",
    "\n",
    "def pipeline_overlap(params=None):      \n",
    "    gprocs = pipeline.pipeline_fortran2ipynb2git(params=params,\n",
    "                                                 setup=setup)\n",
    "    return gprocs\n",
    "\n",
    "\n",
    "\n",
    "def script():\n",
    "    params = params_overlap()\n",
    "    gprocs = pipeline_overlap(params=params)\n",
    "    nbviewer_links_overlap(params)"
   ]
  },
  {
   "cell_type": "code",
   "execution_count": 43,
   "metadata": {},
   "outputs": [
    {
     "name": "stdout",
     "output_type": "stream",
     "text": [
      "Submitting radiation calculation for cases\n",
      "{'atmpro': 'mls',\n",
      " 'band': '9',\n",
      " 'commitnumber': '043bdfe',\n",
      " 'dv': 0.05,\n",
      " 'molecule': {'co2': 0.0004, 'h2o': 'atmpro'},\n",
      " 'nv': 20,\n",
      " 'tsfc': 294}\n",
      "\n",
      "Submitting analysis for cases\n",
      "/chia_cluster/home/jackyu/radiation/crd/LW/examples/separate_g_groups/study__lblnew_g1_threshold/h2o_1_co2_1_o3_0_n2o_0_ch4_0_o2_0/band09_wn_1900_3000/nv_20/dv_0.05/crd_043bdfe/atmpro_mls\n",
      "{'atmpro': 'mls',\n",
      " 'band': '9',\n",
      " 'commitnumber': '043bdfe',\n",
      " 'dv': 0.05,\n",
      " 'molecule': {'co2': 0.0004, 'h2o': 'atmpro'},\n",
      " 'nv': 20,\n",
      " 'tsfc': 294}\n",
      "\n",
      "Committing analysis to Git repository for cases\n",
      "{'atmpro': 'mls',\n",
      " 'band': '9',\n",
      " 'commitnumber': '043bdfe',\n",
      " 'dv': 0.05,\n",
      " 'molecule': {'co2': 0.0004, 'h2o': 'atmpro'},\n",
      " 'nv': 20,\n",
      " 'tsfc': 294}\n",
      "\n",
      "{'h2o': 'atmpro', 'co2': 0.0004} 9 mls\n",
      "http://nbviewer.jupyter.org/github/qap/offline_radiation_notebooks/blob/master/longwave/lblnew_20160916/study__g1_threshold/h2o_1_co2_1_o3_0_n2o_0_ch4_0_o2_0/band09_wn_1900_3000/nv_20/dv_0.05/crd_043bdfe/atmpro_mls/results_overlap.ipynb\n",
      "\n"
     ]
    }
   ],
   "source": [
    "script()"
   ]
  },
  {
   "cell_type": "code",
   "execution_count": null,
   "metadata": {
    "collapsed": true
   },
   "outputs": [],
   "source": []
  }
 ],
 "metadata": {
  "kernelspec": {
   "display_name": "Python 3",
   "language": "python",
   "name": "python3"
  },
  "language_info": {
   "codemirror_mode": {
    "name": "ipython",
    "version": 3
   },
   "file_extension": ".py",
   "mimetype": "text/x-python",
   "name": "python",
   "nbconvert_exporter": "python",
   "pygments_lexer": "ipython3",
   "version": "3.6.1"
  }
 },
 "nbformat": 4,
 "nbformat_minor": 2
}
