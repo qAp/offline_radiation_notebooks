{
 "cells": [
  {
   "cell_type": "code",
   "execution_count": 1,
   "metadata": {
    "collapsed": true
   },
   "outputs": [],
   "source": [
    "%matplotlib inline\n",
    "import os\n",
    "import sys\n",
    "\n",
    "import numpy as np\n",
    "import pandas as pd\n",
    "import xarray as xr\n",
    "import matplotlib.pyplot as plt\n",
    "\n",
    "import rtmtools.lblrtm.visualisation as viz\n",
    "\n",
    "from IPython import display"
   ]
  },
  {
   "cell_type": "code",
   "execution_count": 2,
   "metadata": {
    "collapsed": true
   },
   "outputs": [],
   "source": [
    "dir_run = os.path.join('/nuwa_cluster/home/jackyu',\n",
    "                       'radiation/crd/LW/examples',\n",
    "                       'separate_g_groups',\n",
    "                       'study__lblnew_g1_threshold',\n",
    "                       '1.40122E-20_r8')\n",
    "                       \n",
    "path_dgdgs = os.path.join(dir_run, 'dgdgs.dat')\n",
    "path_absmean = os.path.join(dir_run, 'absmean.dat')\n",
    "path_fluxg = os.path.join(dir_run, 'output_fluxg.dat')\n",
    "path_coolrg = os.path.join(dir_run, 'output_coolrg.dat')\n",
    "path_flux = os.path.join(dir_run, 'output_flux.dat')\n",
    "path_coolr = os.path.join(dir_run, 'output_coolr.dat')\n",
    "                       "
   ]
  },
  {
   "cell_type": "code",
   "execution_count": 3,
   "metadata": {
    "collapsed": true
   },
   "outputs": [],
   "source": [
    "# load fluxg\n",
    "df = pd.read_csv(path_fluxg, sep=r'\\s+')\n",
    "df = df.set_index(['pressure', 'g'])\n",
    "\n",
    "ds = xr.Dataset.from_dataframe(df)\n",
    "ds_fluxg = ds.set_coords(['level'])"
   ]
  },
  {
   "cell_type": "code",
   "execution_count": 4,
   "metadata": {
    "collapsed": true
   },
   "outputs": [],
   "source": [
    "# load coolrg\n",
    "df = pd.read_csv(path_coolrg, sep=r'\\s+')\n",
    "df = df.set_index(['pressure', 'g'])\n",
    "\n",
    "ds = xr.Dataset.from_dataframe(df)\n",
    "ds_coolrg = ds.set_coords(['layer'])"
   ]
  },
  {
   "cell_type": "code",
   "execution_count": 5,
   "metadata": {
    "collapsed": true
   },
   "outputs": [],
   "source": [
    "# load flux\n",
    "df = pd.read_csv(path_flux, sep=r'\\s+')\n",
    "df = df.set_index(['pressure'])\n",
    "\n",
    "ds = xr.Dataset.from_dataframe(df)\n",
    "ds_flux = ds.set_coords(['level'])"
   ]
  },
  {
   "cell_type": "code",
   "execution_count": 6,
   "metadata": {
    "collapsed": true
   },
   "outputs": [],
   "source": [
    "# load coolr\n",
    "df = pd.read_csv(path_coolr, sep=r'\\s+')\n",
    "df = df.set_index(['pressure'])\n",
    "\n",
    "ds = xr.Dataset.from_dataframe(df)\n",
    "ds_coolr = ds.set_coords(['layer'])"
   ]
  },
  {
   "cell_type": "code",
   "execution_count": 7,
   "metadata": {
    "collapsed": true
   },
   "outputs": [],
   "source": [
    "# load absmean\n",
    "df = pd.read_csv(path_absmean, sep=r'\\s+')\n",
    "df = df.set_index(['pressure', 'g'])\n",
    "\n",
    "ds = xr.Dataset.from_dataframe(df)\n",
    "ds_absmean = ds.set_coords(['layer'])"
   ]
  },
  {
   "cell_type": "code",
   "execution_count": 8,
   "metadata": {
    "collapsed": true
   },
   "outputs": [],
   "source": [
    "# load dgds\n",
    "df = pd.read_csv(path_dgdgs, sep=r'\\s+')\n",
    "df = df.set_index(['g'])\n",
    "\n",
    "ds_dgdgs = xr.Dataset.from_dataframe(df)"
   ]
  },
  {
   "cell_type": "code",
   "execution_count": 9,
   "metadata": {
    "collapsed": true
   },
   "outputs": [],
   "source": [
    "# write out absmean into CLIRAD-compatible input files\n",
    "for g in ds_absmean.coords['g']:\n",
    "    if g == 1:\n",
    "        ds_absmean['absmean'].sel(g=g).to_pandas()\\\n",
    "        .to_csv('group{g:d}_mean{g:d}k.txt'.format(g=int(g)), \n",
    "                sep=' ', index=None)\n",
    "    else:\n",
    "        ds_absmean['absmeanlog'].sel(g=g).to_pandas()\\\n",
    "        .to_csv('group{g:d}_mean{g:d}k.txt'.format(g=int(g)), \n",
    "                sep=' ', index=None)"
   ]
  },
  {
   "cell_type": "code",
   "execution_count": 10,
   "metadata": {
    "collapsed": false
   },
   "outputs": [
    {
     "name": "stdout",
     "output_type": "stream",
     "text": [
      "group1_mean1k.txt  group3_mean3k.txt  results_crd.ipynb\r\n",
      "group2_mean2k.txt  group4_mean4k.txt\r\n"
     ]
    }
   ],
   "source": [
    "!ls"
   ]
  },
  {
   "cell_type": "code",
   "execution_count": 11,
   "metadata": {
    "collapsed": false
   },
   "outputs": [
    {
     "name": "stdout",
     "output_type": "stream",
     "text": [
      "/nuwa_cluster/home/jackyu/radiation/offline_radiation_notebooks/longwave/lblnew_20160916/study__g1_threshold/1.40122E-20_r8\r\n"
     ]
    }
   ],
   "source": [
    "!pwd"
   ]
  },
  {
   "cell_type": "code",
   "execution_count": 14,
   "metadata": {
    "collapsed": false
   },
   "outputs": [
    {
     "data": {
      "text/plain": [
       "<xarray.DataArray 'dgs' (g: 4)>\n",
       "array([ 0.60094504,  0.09005723,  0.24850232,  0.06049541])\n",
       "Coordinates:\n",
       "  * g        (g) int64 1 2 3 4"
      ]
     },
     "execution_count": 14,
     "metadata": {},
     "output_type": "execute_result"
    }
   ],
   "source": [
    "ds_dgdgs['dgs']"
   ]
  },
  {
   "cell_type": "code",
   "execution_count": 20,
   "metadata": {
    "collapsed": false
   },
   "outputs": [
    {
     "data": {
      "text/html": [
       "<div>\n",
       "<table border=\"1\" class=\"dataframe\">\n",
       "  <thead>\n",
       "    <tr style=\"text-align: right;\">\n",
       "      <th></th>\n",
       "      <th>g</th>\n",
       "      <th>level</th>\n",
       "      <th>flug</th>\n",
       "      <th>fldg</th>\n",
       "      <th>fnetg</th>\n",
       "    </tr>\n",
       "    <tr>\n",
       "      <th>pressure</th>\n",
       "      <th></th>\n",
       "      <th></th>\n",
       "      <th></th>\n",
       "      <th></th>\n",
       "      <th></th>\n",
       "    </tr>\n",
       "  </thead>\n",
       "  <tbody>\n",
       "    <tr>\n",
       "      <th>0</th>\n",
       "      <td>1</td>\n",
       "      <td>1</td>\n",
       "      <td>-14.207943</td>\n",
       "      <td>0.000000</td>\n",
       "      <td>-14.207943</td>\n",
       "    </tr>\n",
       "    <tr>\n",
       "      <th>1013</th>\n",
       "      <td>1</td>\n",
       "      <td>76</td>\n",
       "      <td>-14.328033</td>\n",
       "      <td>0.231733</td>\n",
       "      <td>-14.096301</td>\n",
       "    </tr>\n",
       "  </tbody>\n",
       "</table>\n",
       "</div>"
      ],
      "text/plain": [
       "          g  level       flug      fldg      fnetg\n",
       "pressure                                          \n",
       "0         1      1 -14.207943  0.000000 -14.207943\n",
       "1013      1     76 -14.328033  0.231733 -14.096301"
      ]
     },
     "execution_count": 20,
     "metadata": {},
     "output_type": "execute_result"
    }
   ],
   "source": [
    "ds_fluxg.sel(g=1).isel(pressure=[0, 75]).to_dataframe()"
   ]
  },
  {
   "cell_type": "code",
   "execution_count": null,
   "metadata": {
    "collapsed": true
   },
   "outputs": [],
   "source": []
  }
 ],
 "metadata": {
  "kernelspec": {
   "display_name": "Python 3",
   "language": "python",
   "name": "python3"
  },
  "language_info": {
   "codemirror_mode": {
    "name": "ipython",
    "version": 3
   },
   "file_extension": ".py",
   "mimetype": "text/x-python",
   "name": "python",
   "nbconvert_exporter": "python",
   "pygments_lexer": "ipython3",
   "version": "3.4.4"
  }
 },
 "nbformat": 4,
 "nbformat_minor": 0
}
