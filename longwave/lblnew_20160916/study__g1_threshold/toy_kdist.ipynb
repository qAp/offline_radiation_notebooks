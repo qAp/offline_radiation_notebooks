{
 "cells": [
  {
   "cell_type": "markdown",
   "metadata": {},
   "source": [
    "# Sorting k in descending order into g-groups, using two reference (pressure, temperature) \n"
   ]
  },
  {
   "cell_type": "code",
   "execution_count": 6,
   "metadata": {
    "collapsed": false
   },
   "outputs": [],
   "source": [
    "%matplotlib inline\n",
    "from IPython import display\n",
    "import os, sys\n",
    "\n",
    "import numpy as np\n",
    "import pandas as pd\n",
    "import xarray as xr\n",
    "import matplotlib \n",
    "import matplotlib.pyplot as plt\n"
   ]
  },
  {
   "cell_type": "code",
   "execution_count": 7,
   "metadata": {
    "collapsed": false
   },
   "outputs": [],
   "source": [
    "matplotlib.rc('font', size=13)"
   ]
  },
  {
   "cell_type": "markdown",
   "metadata": {},
   "source": [
    "# Toy distribution of k\n"
   ]
  },
  {
   "cell_type": "code",
   "execution_count": 8,
   "metadata": {
    "collapsed": false
   },
   "outputs": [],
   "source": [
    "# These functions are for simulating some k(v, p, t)\n",
    "\n",
    "def kdist_shape(vmin=980, vmax=1100, dv=.002, \n",
    "                powrange=8,):\n",
    "    vrange = vmax - vmin\n",
    "    vs = vmin + dv * np.arange(int(vrange / dv) + 1)\n",
    "    ks = np.sin(2 * np.pi * vs / vrange) + 1.5\n",
    "    ks = ks ** powrange\n",
    "    ks = 1e-22 * ks\n",
    "    ks = ks * np.exp(- 5 * (vs - vmin) / vrange)\n",
    "    return pd.Series(ks, index=vs)\n",
    "\n",
    "\n",
    "def dict_pt_powerrange():\n",
    "    return {(1, 250): 15, \n",
    "            (50, 250): 8}\n",
    "\n",
    "\n",
    "def simulate_kdist(vmin=980, vmax=1100, dv=.002):\n",
    "    d = dict_pt_powerrange()\n",
    "     \n",
    "    d_srs = {pt: kdist_shape(vmin=vmin, vmax=vmax, dv=dv,\n",
    "                             powrange=powrange)\n",
    "             for pt, powrange in d.items()}\n",
    "\n",
    "    df = pd.DataFrame.from_dict(d_srs)\n",
    "    df.columns.set_names(['P', 'T'], inplace=True)\n",
    "    df.index.set_names('wavenumber', inplace=True)\n",
    "    return df\n",
    "\n",
    "    \n",
    "\n",
    "\n"
   ]
  },
  {
   "cell_type": "code",
   "execution_count": 9,
   "metadata": {
    "collapsed": false
   },
   "outputs": [],
   "source": [
    "# kdist_shape() example\n",
    "\n",
    "#fig, ax = plt.subplots(nrows=1, ncols=1, figsize=(10, 5))\n",
    "\n",
    "#powerranges = [8, 15, 20]\n",
    "\n",
    "#for p in powerranges:\n",
    "#    kdist_shape(powrange=p).plot(ax=ax, logy=True)\n",
    "    \n",
    "#ax.legend(powerranges)\n",
    "#ax.grid(b=True)"
   ]
  },
  {
   "cell_type": "code",
   "execution_count": 10,
   "metadata": {
    "collapsed": false,
    "scrolled": false
   },
   "outputs": [
    {
     "data": {
      "text/plain": [
       "<matplotlib.axes._subplots.AxesSubplot at 0x2aad2c559b70>"
      ]
     },
     "execution_count": 10,
     "metadata": {},
     "output_type": "execute_result"
    },
    {
     "data": {
      "image/png": "[encoded data removed]",
      "text/plain": [
       "<matplotlib.figure.Figure at 0x2aad2c57fdd8>"
      ]
     },
     "metadata": {},
     "output_type": "display_data"
    }
   ],
   "source": [
    "# simulate_kdist() example\n",
    "df = simulate_kdist(dv=1)\n",
    "df.plot(logy=True, figsize=(10, 5),\n",
    "        linestyle='None', marker='.')"
   ]
  },
  {
   "cell_type": "markdown",
   "metadata": {},
   "source": [
    "**Figure 1. Toy k(v, pt).**  \n",
    "Let's say that the absorption coefficient as a function of wavenumber $\\nu$ are as shown in the plot.  These have the property that, assuming in the Lorentzian regime, the higher pressure, the smaller the range of k, and the lower the pressure, the larger the range of k. "
   ]
  },
  {
   "cell_type": "code",
   "execution_count": null,
   "metadata": {
    "collapsed": true
   },
   "outputs": [],
   "source": []
  },
  {
   "cell_type": "code",
   "execution_count": null,
   "metadata": {
    "collapsed": true
   },
   "outputs": [],
   "source": []
  },
  {
   "cell_type": "code",
   "execution_count": 11,
   "metadata": {
    "collapsed": false,
    "scrolled": false
   },
   "outputs": [],
   "source": [
    "# sort series from small to large and then plot\n",
    "#df_sorted = df.sort_values(by=(1, 250))\n",
    "#df_sorted = df_sorted.reset_index()\n",
    "#df_sorted.index.set_names('wavenumer index', inplace=True)\n",
    "\n",
    "#df_sorted[[(1, 250), (50, 250)]].plot(logy=True, linestyle='None',\n",
    "#                                      marker='.', figsize=(10, 5))"
   ]
  },
  {
   "cell_type": "code",
   "execution_count": null,
   "metadata": {
    "collapsed": true
   },
   "outputs": [],
   "source": []
  },
  {
   "cell_type": "code",
   "execution_count": null,
   "metadata": {
    "collapsed": true
   },
   "outputs": [],
   "source": []
  },
  {
   "cell_type": "markdown",
   "metadata": {},
   "source": [
    "# Sorting k"
   ]
  },
  {
   "cell_type": "code",
   "execution_count": 12,
   "metadata": {
    "collapsed": false
   },
   "outputs": [],
   "source": [
    "def value_bins(absth):\n",
    "    return np.concatenate(([0], absth[1:-1], [1]), axis=0)\n"
   ]
  },
  {
   "cell_type": "code",
   "execution_count": 37,
   "metadata": {
    "collapsed": false,
    "scrolled": false
   },
   "outputs": [],
   "source": [
    "def plt_sorted_series(srs, absth=None):\n",
    "    \n",
    "    fig, axs = plt.subplots(nrows=1, ncols=2, figsize=(13, 10))\n",
    "\n",
    "    axs[0].plot(srs.index, srs.values, \n",
    "                linestyle='None', marker='.', markersize=2)\n",
    "    axs[0].set_ylabel('k')\n",
    "    axs[0].set_yscale('log')\n",
    "    axs[0].set_xlabel('wavenumber [$cm^{-1}$]')\n",
    "    \n",
    "    axs[1].plot(srs.sort_values().values,\n",
    "                linestyle='None', marker='.', markersize=2)\n",
    "    axs[1].set_yscale('log')\n",
    "    plt.setp(axs[1].get_yticklabels(), visible=False)\n",
    "    axs[1].yaxis.set_tick_params(size=0)\n",
    "    axs[1].set_xlabel('wavenumber index after sorting k')\n",
    "\n",
    "    if absth != None:\n",
    "        axgs = [ax.twinx() for ax in axs]\n",
    "        axgs[0].get_shared_y_axes().join(*(list(axs) + list(axgs)))\n",
    "        for v in absth:\n",
    "            axgs[0].plot(srs.index, v * np.ones(srs.shape), \n",
    "                         color='grey', linestyle='--', linewidth=.5)\n",
    "            axgs[1].plot(v * np.ones(srs.shape), \n",
    "                         color='grey', linestyle='--', linewidth=.5)\n",
    "            \n",
    "        axgs[0].set_yscale('log')\n",
    "        axgs[0].yaxis.set_tick_params(size=0)\n",
    "        plt.setp(axgs[0].get_yticklabels(), visible=False)\n",
    "            \n",
    "        axgs[1].set_ylabel('iabsth')\n",
    "        axgs[1].set_yscale('log')\n",
    "        axgs[1].set_yticks(absth)\n",
    "        axgs[1].set_yticklabels(range(1, absth.shape[0] + 1))\n",
    "        \n",
    "#    plt.subplots_adjust(wspace=0)\n",
    "    return fig, axs, axgs if absth != None else None\n",
    "\n"
   ]
  },
  {
   "cell_type": "code",
   "execution_count": 38,
   "metadata": {
    "collapsed": true
   },
   "outputs": [],
   "source": [
    "# total number of g-groups we are going for, ng\n",
    "ng = 20\n",
    "\n",
    "# high reference (P, T)\n",
    "pt_high = (1, 250)\n",
    "\n",
    "# low reference (P, T)\n",
    "pt_low = (50, 250)\n",
    "\n",
    "# the lowest g that is from sorting k at pt_high\n",
    "g_high_inclusive = 7"
   ]
  },
  {
   "cell_type": "markdown",
   "metadata": {},
   "source": [
    "Let `ng` be the total number of g-groups we look to end up with.  The two reference (pressure, temperature) pairs used are:\n",
    "\n",
    "- high reference ---- `pt_high`\n",
    "- low reference ---- `pt_low`\n",
    "\n",
    "G-groups `g_high_inclusive` to `ng` will be obtained by sorting k using the high reference, while g-groups 1 to (`g_high_inclusive - 1`) will use the low reference."
   ]
  },
  {
   "cell_type": "markdown",
   "metadata": {},
   "source": [
    "In this example, the value used are:"
   ]
  },
  {
   "cell_type": "code",
   "execution_count": 62,
   "metadata": {
    "collapsed": false
   },
   "outputs": [
    {
     "name": "stdout",
     "output_type": "stream",
     "text": [
      "ng =      20\n",
      "pt_high =      (1, 250)\n",
      "pt_low =      (50, 250)\n",
      "g_high_inclusive =     7\n"
     ]
    }
   ],
   "source": [
    "print('ng =     ', ng)\n",
    "print('pt_high =     ', pt_high)\n",
    "print('pt_low =     ', pt_low)\n",
    "print('g_high_inclusive =    ', g_high_inclusive)"
   ]
  },
  {
   "cell_type": "code",
   "execution_count": 84,
   "metadata": {
    "collapsed": false
   },
   "outputs": [],
   "source": [
    "# Evenly divide in log-space the range of k(pt = pt_high) \n",
    "# into `ng` intervals to get `absth_high`\n",
    "\n",
    "absth_high = np.logspace(np.log10(df[pt_high].min()), \n",
    "                         np.log10(df[pt_high].max()), ng + 1)"
   ]
  },
  {
   "cell_type": "markdown",
   "metadata": {},
   "source": [
    "First, evenly divide in log-space the range of k at `pt_high` into `ng` intervals to get a set of thresholds, `absth_high`.  Note that in the actual sorting, the smallest and largest thresholds here will not be used; anything smaller than the second smallest threshold will be binned to g-group 1, and anything larger than the second largest threshold will be binned to g-group `ng`."
   ]
  },
  {
   "cell_type": "markdown",
   "metadata": {},
   "source": [
    "In this example, the values of these thresholds, in ascending order, are:"
   ]
  },
  {
   "cell_type": "code",
   "execution_count": 85,
   "metadata": {
    "collapsed": false
   },
   "outputs": [
    {
     "name": "stdout",
     "output_type": "stream",
     "text": [
      "absth_high =    [  1.65041576e-28   6.26941777e-28   2.38155743e-27   9.04679830e-27\n",
      "   3.43659819e-26   1.30545710e-25   4.95902679e-25   1.88378053e-24\n",
      "   7.15589817e-24   2.71830385e-23   1.03259935e-22   3.92252480e-22\n",
      "   1.49004556e-21   5.66022109e-21   2.15014250e-20   8.16772473e-20\n",
      "   3.10266539e-19   1.17860639e-18   4.47716025e-18   1.70073437e-17\n",
      "   6.46056256e-17]\n"
     ]
    }
   ],
   "source": [
    "print('absth_high =   ', absth_high)"
   ]
  },
  {
   "cell_type": "code",
   "execution_count": 86,
   "metadata": {
    "collapsed": false,
    "scrolled": false
   },
   "outputs": [],
   "source": [
    "# Bin k(pt = pt_high) using absth_high\n",
    "bins = value_bins(absth_high)\n",
    "\n",
    "ncut_high = pd.cut(df[pt_high], bins=bins, \n",
    "                   labels=range(1, ng + 1), retbins=True)"
   ]
  },
  {
   "cell_type": "markdown",
   "metadata": {},
   "source": [
    "We now bin the k at `pt_high` into `ng` g-groups using thresholds obtained from the high reference, `absth_high`.  Firstly, the appropriate bin edges are obtained from `absth_high`: for the bin for the largest k's, the lower edge is `absth_high[ng]`, and the higher edge is `1`; for the bin holding the smallest k's, the lower edge is 0 and the higher edge is `absth_high[1]`. "
   ]
  },
  {
   "cell_type": "markdown",
   "metadata": {},
   "source": [
    "In this example, the values of the bin edges are:"
   ]
  },
  {
   "cell_type": "code",
   "execution_count": 87,
   "metadata": {
    "collapsed": false
   },
   "outputs": [
    {
     "data": {
      "text/plain": [
       "array([  0.00000000e+00,   6.26941777e-28,   2.38155743e-27,\n",
       "         9.04679830e-27,   3.43659819e-26,   1.30545710e-25,\n",
       "         4.95902679e-25,   1.88378053e-24,   7.15589817e-24,\n",
       "         2.71830385e-23,   1.03259935e-22,   3.92252480e-22,\n",
       "         1.49004556e-21,   5.66022109e-21,   2.15014250e-20,\n",
       "         8.16772473e-20,   3.10266539e-19,   1.17860639e-18,\n",
       "         4.47716025e-18,   1.70073437e-17,   1.00000000e+00])"
      ]
     },
     "execution_count": 87,
     "metadata": {},
     "output_type": "execute_result"
    }
   ],
   "source": [
    "bins"
   ]
  },
  {
   "cell_type": "code",
   "execution_count": 69,
   "metadata": {
    "collapsed": false
   },
   "outputs": [
    {
     "name": "stderr",
     "output_type": "stream",
     "text": [
      "/nuwa_cluster/home/jackyu/locally_installed_python_pacakges/anaconda3/lib/python3.4/site-packages/ipykernel/__main__.py:18: FutureWarning: comparison to `None` will result in an elementwise object comparison in the future.\n",
      "/nuwa_cluster/home/jackyu/locally_installed_python_pacakges/anaconda3/lib/python3.4/site-packages/ipykernel/__main__.py:37: FutureWarning: comparison to `None` will result in an elementwise object comparison in the future.\n"
     ]
    },
    {
     "data": {
      "text/plain": [
       "[<matplotlib.lines.Line2D at 0x2aad31411ac8>]"
      ]
     },
     "execution_count": 69,
     "metadata": {},
     "output_type": "execute_result"
    },
    {
     "data": {
      "image/png": "[encoded data removed]",
      "text/plain": [
       "<matplotlib.figure.Figure at 0x2aad31261080>"
      ]
     },
     "metadata": {},
     "output_type": "display_data"
    }
   ],
   "source": [
    "srs = df[pt_high]\n",
    "absth = absth_high\n",
    "\n",
    "fig, axs, axgs = plt_sorted_series(srs, absth=absth)\n",
    "\n",
    "\n",
    "# over-plot to indicate wavenumbers in `wvns_high`\n",
    "wvns_high = ncut_high[0][(ncut_high[0] >= g_high_inclusive)]\n",
    "\n",
    "srs_sub = srs[wvns_high.index]\n",
    "axs[0].plot(srs_sub.index, srs_sub.values, \n",
    "            color='r', linestyle='None', marker='.', markersize=2)\n",
    "\n",
    "df_sorted = pd.DataFrame(srs.sort_values())\n",
    "df_sorted['k-sort index'] = range(srs.shape[0])\n",
    "df_sorted_sub = df_sorted.loc[wvns_high.index, :]\n",
    "\n",
    "axs[1].plot(df_sorted_sub['k-sort index'], df_sorted_sub[srs.name].values,\n",
    "            color='r', linestyle='None', marker='.', markersize=2)"
   ]
  },
  {
   "cell_type": "markdown",
   "metadata": {},
   "source": [
    "**Figure 1. Absoroption coefficient at high reference.**   \n",
    "(*left panel*) `k(pt = pt_high)`. (*right panel*) `k(pt = pt_high)` sorted by k.  On the left y-axis are shown the value of the absorption coefficient, k.  The horizontal dashed lines mark the g-groups' edges with the g-group number indicated on the right y-axis.  Everything above `iabsth = 20`, for example, belong to g-group 20, and everything below `iabsth = 2` belong to g-group 1.  The yellow section indicates the wavenumbers where the binning using the high reference will be kept for the final g-groups.  The blue section will be further binned using the low reference."
   ]
  },
  {
   "cell_type": "code",
   "execution_count": 88,
   "metadata": {
    "collapsed": false,
    "scrolled": false
   },
   "outputs": [],
   "source": [
    "# Get the binned results where g < g_high_inclusive\n",
    "\n",
    "# This gets us the wavenumbers that are not binned \n",
    "# in g-group `g_high_inclusive` or higher\n",
    "wvns_low = ncut_high[0][(ncut_high[0] < g_high_inclusive)]\n",
    "\n",
    "# Calculate the precentile of all wavenumbers that these represent\n",
    "frac_low = wvns_low.shape[0] / ncut_high[0].shape[0]"
   ]
  },
  {
   "cell_type": "markdown",
   "metadata": {},
   "source": [
    "Next, gather all the wavenumbers that have been binned in g-groups 1 to (`g_high_inclusive - 1`).  We will take these wavenumbers out and use the low reference, `pt_low`, to re-bin them.  \n",
    "\n",
    "First, calculate what fraction (`frac_low`), of all the wavenumbers we started with, these represent."
   ]
  },
  {
   "cell_type": "markdown",
   "metadata": {},
   "source": [
    "In this example, "
   ]
  },
  {
   "cell_type": "code",
   "execution_count": 70,
   "metadata": {
    "collapsed": false
   },
   "outputs": [
    {
     "name": "stdout",
     "output_type": "stream",
     "text": [
      "frac_low =      0.2727272727272727\n"
     ]
    }
   ],
   "source": [
    "print('frac_low =     ', frac_low)"
   ]
  },
  {
   "cell_type": "code",
   "execution_count": null,
   "metadata": {
    "collapsed": true
   },
   "outputs": [],
   "source": []
  },
  {
   "cell_type": "code",
   "execution_count": 71,
   "metadata": {
    "collapsed": true
   },
   "outputs": [],
   "source": [
    "# There remains ng_low g-group to sort out\n",
    "ng_low = g_high_inclusive - 1"
   ]
  },
  {
   "cell_type": "markdown",
   "metadata": {},
   "source": [
    "There remains `ng_low` number of g-groups to finalise, to be determined using the low reference."
   ]
  },
  {
   "cell_type": "markdown",
   "metadata": {},
   "source": [
    "In this example,"
   ]
  },
  {
   "cell_type": "code",
   "execution_count": 72,
   "metadata": {
    "collapsed": false
   },
   "outputs": [
    {
     "name": "stdout",
     "output_type": "stream",
     "text": [
      "ng_low =       6\n"
     ]
    }
   ],
   "source": [
    "print('ng_low =      ', ng_low)"
   ]
  },
  {
   "cell_type": "code",
   "execution_count": null,
   "metadata": {
    "collapsed": true
   },
   "outputs": [],
   "source": []
  },
  {
   "cell_type": "code",
   "execution_count": 73,
   "metadata": {
    "collapsed": false
   },
   "outputs": [],
   "source": [
    "# Evenly divide in log-space the range of the lowest \n",
    "# `frac_low` percentile of k(pt = pt_low) \n",
    "# into `ng_low` - 1 intervals to get `absth_low`\n",
    "\n",
    "\n",
    "# Bin k(pt = pt_low) into 0 ~ frac_low percentile ('lower')\n",
    "# and frac_low ~ 1 precentile ('higher')\n",
    "qncut = pd.qcut(df[pt_low], [0, frac_low, 1], \n",
    "                labels=['lower', 'higher'],\n",
    "                retbins=True)\n",
    "\n",
    "# Find the range of the lower percentile of k(pt = pt_low)\n",
    "vmin = df[pt_low][qncut[0] == 'lower'].min()\n",
    "vmax = df[pt_low][qncut[0] == 'lower'].max()\n",
    "\n",
    "# and create `absth_low`\n",
    "absth_low = np.logspace(np.log10(vmin), np.log10(vmax), \n",
    "                        ng_low + 1)"
   ]
  },
  {
   "cell_type": "markdown",
   "metadata": {},
   "source": [
    "Now, evenly divide, in log-space, the range of the lowest `frac_low` percentile of `k(pt = pt_low, v = all)` into `ng_low` intervals to get a set of thresholds, `absth_low`."
   ]
  },
  {
   "cell_type": "markdown",
   "metadata": {},
   "source": [
    "In this example, the obtained thresholds are:"
   ]
  },
  {
   "cell_type": "code",
   "execution_count": 89,
   "metadata": {
    "collapsed": false
   },
   "outputs": [
    {
     "name": "stdout",
     "output_type": "stream",
     "text": [
      "absth_low =        [  2.07244080e-26   4.09068194e-26   8.07438202e-26   1.59375982e-25\n",
      "   3.14583872e-25   6.20940566e-25   1.22564194e-24]\n"
     ]
    }
   ],
   "source": [
    "print('absth_low =       ', absth_low)"
   ]
  },
  {
   "cell_type": "code",
   "execution_count": null,
   "metadata": {
    "collapsed": true
   },
   "outputs": [],
   "source": []
  },
  {
   "cell_type": "code",
   "execution_count": 90,
   "metadata": {
    "collapsed": false
   },
   "outputs": [],
   "source": [
    "# Bin k(v = wvns_low, pt = pt_low) using absth_low\n",
    "\n",
    "bins = value_bins(absth_low)\n",
    "\n",
    "ncut_low = pd.cut(df[pt_low][wvns_low.index],\n",
    "                  bins=bins, \n",
    "                  labels=range(1, ng_low + 1),\n",
    "                  retbins=True)"
   ]
  },
  {
   "cell_type": "markdown",
   "metadata": {},
   "source": [
    "Similar to using the high reference (see above), an appropriate set of bin edges are obtained from these.  \n",
    "\n",
    "Then, `k(v = wvns_low, pt = pt_low)` are sorted into these bins.  That is, k at the low reference `pt_low` at wavenumbers `wvns_low` are sorted into these bins."
   ]
  },
  {
   "cell_type": "markdown",
   "metadata": {},
   "source": [
    "In this example, the bin edges are:"
   ]
  },
  {
   "cell_type": "code",
   "execution_count": 91,
   "metadata": {
    "collapsed": false
   },
   "outputs": [
    {
     "name": "stdout",
     "output_type": "stream",
     "text": [
      "[  0.00000000e+00   4.09068194e-26   8.07438202e-26   1.59375982e-25\n",
      "   3.14583872e-25   6.20940566e-25   1.00000000e+00]\n"
     ]
    }
   ],
   "source": [
    "print(bins)"
   ]
  },
  {
   "cell_type": "code",
   "execution_count": null,
   "metadata": {
    "collapsed": true
   },
   "outputs": [],
   "source": []
  },
  {
   "cell_type": "code",
   "execution_count": null,
   "metadata": {
    "collapsed": true
   },
   "outputs": [],
   "source": []
  },
  {
   "cell_type": "code",
   "execution_count": 92,
   "metadata": {
    "collapsed": false
   },
   "outputs": [
    {
     "name": "stderr",
     "output_type": "stream",
     "text": [
      "/nuwa_cluster/home/jackyu/locally_installed_python_pacakges/anaconda3/lib/python3.4/site-packages/ipykernel/__main__.py:18: FutureWarning: comparison to `None` will result in an elementwise object comparison in the future.\n",
      "/nuwa_cluster/home/jackyu/locally_installed_python_pacakges/anaconda3/lib/python3.4/site-packages/ipykernel/__main__.py:37: FutureWarning: comparison to `None` will result in an elementwise object comparison in the future.\n"
     ]
    },
    {
     "data": {
      "text/plain": [
       "[<matplotlib.lines.Line2D at 0x2aad352005f8>]"
      ]
     },
     "execution_count": 92,
     "metadata": {},
     "output_type": "execute_result"
    },
    {
     "data": {
      "image/png": "[encoded data removed]",
      "text/plain": [
       "<matplotlib.figure.Figure at 0x2aad30506668>"
      ]
     },
     "metadata": {},
     "output_type": "display_data"
    }
   ],
   "source": [
    "srs = df[pt_low]\n",
    "absth = absth_low\n",
    "\n",
    "\n",
    "fig, axs, axgs = plt_sorted_series(srs, absth=absth)\n",
    "\n",
    "# over-plot to indicate wavenumbers in `wvns_low`\n",
    "srs_sub = srs[wvns_low.index]\n",
    "axs[0].plot(srs_sub.index, srs_sub.values, \n",
    "            color='r', linestyle='None', marker='.', markersize=2)\n",
    "\n",
    "df_sorted = pd.DataFrame(srs.sort_values())\n",
    "df_sorted['k-sort index'] = range(srs.shape[0])\n",
    "df_sorted_sub = df_sorted.loc[wvns_low.index, :]\n",
    "\n",
    "axs[1].plot(df_sorted_sub['k-sort index'], df_sorted_sub[srs.name].values,\n",
    "            color='r', linestyle='None', marker='.', markersize=2)"
   ]
  },
  {
   "cell_type": "markdown",
   "metadata": {},
   "source": [
    "**Figure 2. Absorption coefficient at low reference**  \n",
    "(left panel) k(pt = pt_low). (right panel) k(pt = pt_low) sorted by k. On the left y-axis are shown the value of the absorption coefficient, k. The horizontal dashed lines mark the g-groups' edges with the g-group number indicated on the right y-axis. Everything above iabsth = 6, for example, belong to g-group 6, and everything below iabsth = 2 belong to g-group 1. The yellow section indicates the wavenumbers where the binning using the low reference will be kept for the final g-groups. The blue section have already been binned using the high reference previously."
   ]
  },
  {
   "cell_type": "code",
   "execution_count": 93,
   "metadata": {
    "collapsed": false
   },
   "outputs": [],
   "source": [
    "# Gather the 14 g-groups first obtained with these 6 g-groups\n",
    "# to get an overall 20-groups\n",
    "\n",
    "mem_low = ncut_low[0]\n",
    "mem_high = ncut_high[0][ncut_high[0] >= g_high_inclusive]\n",
    "\n",
    "mem_low = mem_low.astype(np.int64)\n",
    "mem_high = mem_high.astype(np.int64)\n",
    "\n",
    "\n",
    "srs_mem = pd.concat([mem_low, mem_high], axis=0,)\n",
    "srs_mem.sort_index(inplace=True)"
   ]
  },
  {
   "cell_type": "markdown",
   "metadata": {},
   "source": [
    "After binning using the high and then the low references, the results are combined into the final result, which should tell us which wavenumbers belong to g-group 1, which belong to g-group 2, and so on.  g-groups 1 to `ng_low` are determined using the low reference, while g-groups `g_high_inclusive` to `ng` are determined using the high reference. "
   ]
  },
  {
   "cell_type": "markdown",
   "metadata": {},
   "source": [
    "In this example, here is a glimpse of the final results, seen as a mapping from wavenumber to g-group number.  The wavenumbers shown all belong to g-group 19."
   ]
  },
  {
   "cell_type": "code",
   "execution_count": 94,
   "metadata": {
    "collapsed": false
   },
   "outputs": [
    {
     "name": "stdout",
     "output_type": "stream",
     "text": [
      "wavenumber\n",
      "980    20\n",
      "981    20\n",
      "982    20\n",
      "983    20\n",
      "984    20\n",
      "dtype: int64\n"
     ]
    }
   ],
   "source": [
    "print(srs_mem.head())"
   ]
  },
  {
   "cell_type": "code",
   "execution_count": 95,
   "metadata": {
    "collapsed": false
   },
   "outputs": [
    {
     "data": {
      "text/plain": [
       "set()"
      ]
     },
     "execution_count": 95,
     "metadata": {},
     "output_type": "execute_result"
    }
   ],
   "source": [
    "# this shows that the union of the two sets of wavenumbers make up\n",
    "# the original set\n",
    "\n",
    "set(mem_low.index).union(set(mem_high.index))\n",
    "set(mem_low.index).intersection(set(mem_high.index))"
   ]
  },
  {
   "cell_type": "markdown",
   "metadata": {},
   "source": [
    "As a quick to check that each wavenumber is only binned by either the low or high reference, we can check the size of the intersection and the union of the sets of wavenumbers from these references."
   ]
  },
  {
   "cell_type": "markdown",
   "metadata": {},
   "source": [
    "In this example, the size of the intersection and union show that no wavenumber has been binned by both the low and high reference, and that the sum of the wavenumbers binned by the low and high reference equals the total numer of wavenumbers that we began with:"
   ]
  },
  {
   "cell_type": "code",
   "execution_count": 96,
   "metadata": {
    "collapsed": false
   },
   "outputs": [
    {
     "name": "stdout",
     "output_type": "stream",
     "text": [
      "size of union =        121\n",
      "size of intersection =       0\n"
     ]
    }
   ],
   "source": [
    "\n",
    "print('size of union =       ', len(set(mem_low.index).union(set(mem_high.index))))\n",
    "print('size of intersection =      ', len(set(mem_low.index).intersection(set(mem_high.index))))"
   ]
  },
  {
   "cell_type": "code",
   "execution_count": null,
   "metadata": {
    "collapsed": true
   },
   "outputs": [],
   "source": []
  },
  {
   "cell_type": "markdown",
   "metadata": {},
   "source": [
    "In this example, the relative g-group sizes (or the k-distribution function) are as follows.  Notice that g-group 6 is relatively smaller than the ones surrounding it. "
   ]
  },
  {
   "cell_type": "code",
   "execution_count": 97,
   "metadata": {
    "collapsed": false,
    "scrolled": false
   },
   "outputs": [
    {
     "data": {
      "text/plain": [
       "1     0.090909\n",
       "2     0.049587\n",
       "3     0.033058\n",
       "4     0.033058\n",
       "5     0.024793\n",
       "6     0.041322\n",
       "7     0.033058\n",
       "8     0.033058\n",
       "9     0.033058\n",
       "10    0.041322\n",
       "11    0.033058\n",
       "12    0.041322\n",
       "13    0.041322\n",
       "14    0.049587\n",
       "15    0.066116\n",
       "16    0.082645\n",
       "17    0.024793\n",
       "18    0.033058\n",
       "19    0.041322\n",
       "20    0.173554\n",
       "dtype: float64"
      ]
     },
     "execution_count": 97,
     "metadata": {},
     "output_type": "execute_result"
    }
   ],
   "source": [
    "# Look at relative g-group sizes (or the k-distribution function)\n",
    "\n",
    "grouped = srs_mem.groupby(srs_mem)\n",
    "\n",
    "(grouped.size() / grouped.size().sum())"
   ]
  },
  {
   "cell_type": "code",
   "execution_count": null,
   "metadata": {
    "collapsed": true
   },
   "outputs": [],
   "source": []
  },
  {
   "cell_type": "code",
   "execution_count": null,
   "metadata": {
    "collapsed": true
   },
   "outputs": [],
   "source": []
  },
  {
   "cell_type": "code",
   "execution_count": 98,
   "metadata": {
    "collapsed": false
   },
   "outputs": [
    {
     "data": {
      "text/plain": [
       "<matplotlib.text.Text at 0x2aad3064b358>"
      ]
     },
     "execution_count": 98,
     "metadata": {},
     "output_type": "execute_result"
    },
    {
     "data": {
      "image/png": "[encoded data removed]",
      "text/plain": [
       "<matplotlib.figure.Figure at 0x2aad3062f080>"
      ]
     },
     "metadata": {},
     "output_type": "display_data"
    }
   ],
   "source": [
    "fig, ax = plt.subplots(nrows=1, ncols=1, figsize=(10, 5))\n",
    "ax.plot(srs_mem.index, srs_mem.values, \n",
    "        color='m', linestyle='None', marker='.')\n",
    "\n",
    "ax.grid(b=True)\n",
    "\n",
    "ax.set_yticks(range(1, ng + 1))\n",
    "ax.set_yticklabels(range(1, ng + 1))\n",
    "ax.set_ylabel('g')\n",
    "\n",
    "ax.set_xlabel('wavenumer [$cm^{-1}$]')"
   ]
  },
  {
   "cell_type": "markdown",
   "metadata": {
    "collapsed": true
   },
   "source": [
    "**Figure 3. G-group membership function.**  \n",
    "The plot shows the g-group that a wavenumber belongs to.  "
   ]
  },
  {
   "cell_type": "code",
   "execution_count": null,
   "metadata": {
    "collapsed": true
   },
   "outputs": [],
   "source": []
  },
  {
   "cell_type": "code",
   "execution_count": 99,
   "metadata": {
    "collapsed": false
   },
   "outputs": [
    {
     "data": {
      "text/html": [
       "<script>\n",
       "code_show=true; \n",
       "function code_toggle() {\n",
       " if (code_show){\n",
       " $('div.input').hide();\n",
       " } else {\n",
       " $('div.input').show();\n",
       " }\n",
       " code_show = !code_show\n",
       "} \n",
       "$( document ).ready(code_toggle);\n",
       "</script>\n",
       "<form action=\"javascript:code_toggle()\"><input type=\"submit\" value=\"Click here to toggle on/off the raw code.\"></form>"
      ],
      "text/plain": [
       "<IPython.core.display.HTML object>"
      ]
     },
     "execution_count": 99,
     "metadata": {},
     "output_type": "execute_result"
    }
   ],
   "source": [
    "display.HTML('''<script>\n",
    "code_show=true; \n",
    "function code_toggle() {\n",
    " if (code_show){\n",
    " $('div.input').hide();\n",
    " } else {\n",
    " $('div.input').show();\n",
    " }\n",
    " code_show = !code_show\n",
    "} \n",
    "$( document ).ready(code_toggle);\n",
    "</script>\n",
    "<form action=\"javascript:code_toggle()\"><input type=\"submit\" value=\"Click here to toggle on/off the raw code.\"></form>''')\n"
   ]
  },
  {
   "cell_type": "code",
   "execution_count": 4,
   "metadata": {
    "collapsed": true
   },
   "outputs": [],
   "source": [
    "pd.cut?"
   ]
  },
  {
   "cell_type": "code",
   "execution_count": null,
   "metadata": {
    "collapsed": true
   },
   "outputs": [],
   "source": []
  }
 ],
 "metadata": {
  "kernelspec": {
   "display_name": "Python 3",
   "language": "python",
   "name": "python3"
  },
  "language_info": {
   "codemirror_mode": {
    "name": "ipython",
    "version": 3
   },
   "file_extension": ".py",
   "mimetype": "text/x-python",
   "name": "python",
   "nbconvert_exporter": "python",
   "pygments_lexer": "ipython3",
   "version": "3.4.4"
  }
 },
 "nbformat": 4,
 "nbformat_minor": 2
}
