{
 "cells": [
  {
   "cell_type": "markdown",
   "metadata": {},
   "source": [
    "`lblnew.f` takes as one of its inputs a file that contains the atmosphere profile for which radiative transfer is to be calculated. For example, the profile can be like that found in mid-latitude summer, or a sub-arctic winter.  \n",
    "\n",
    "Here, we try to make an atmosphere profile that is not necessarily like a realistic profile found in some part of the Earth, but contains layers whose pressure and temperature cover ranges specified by us.  This allows as to construct tables of absorption coefficient values from which we could later look up."
   ]
  },
  {
   "cell_type": "code",
   "execution_count": 77,
   "metadata": {
    "collapsed": true
   },
   "outputs": [],
   "source": [
    "import os\n",
    "import sys\n",
    "import collections\n",
    "import itertools\n",
    "\n",
    "import re\n",
    "\n",
    "import numpy as np\n",
    "import pandas as pd\n"
   ]
  },
  {
   "cell_type": "code",
   "execution_count": 80,
   "metadata": {
    "collapsed": true
   },
   "outputs": [],
   "source": [
    "def pattern_data(name):                                                                \n",
    "    '''                                                                                \n",
    "    Returns regular expression for a Fortran                                           \n",
    "    'data' variable assignment                                                         \n",
    "    '''                                                                                \n",
    "    return '''                                                                         \n",
    "    (data [^/]+ {name} [^/]+ / ([^/]+) /)                              \n",
    "    '''.format(name=name)\n",
    "\n",
    "\n",
    "def numbers(s=''):                                                                     \n",
    "    '''                                                                                \n",
    "    Extract numebers from a piece of Fortran code.  This covers                        \n",
    "    numbers written in various forms, such as 8, .8, 8., -8E-09,                       \n",
    "    8e-09.                                                                             \n",
    "                                                                                       \n",
    "    Parameters                                                                         \n",
    "    ----------                                                                         \n",
    "    s : {string}                                                                       \n",
    "        Fortran code                                                                   \n",
    "    '''                                                                                \n",
    "    pattern = '''                                                                      \n",
    "    (                                                                                  \n",
    "    -?                                                                                 \n",
    "    \\d+                                                                                \n",
    "    (?: \\. \\d*)?                                                                       \n",
    "    (?: (?: E|e) (?: -|\\+) \\d+)?                                                       \n",
    "    )                                                                                  \n",
    "    (?: _r8)?                                                                          \n",
    "    '''                                                                                \n",
    "    regex = re.compile(pattern, re.VERBOSE)                                            \n",
    "    return regex.findall(s)     "
   ]
  },
  {
   "cell_type": "code",
   "execution_count": 82,
   "metadata": {
    "collapsed": true,
    "scrolled": false
   },
   "outputs": [],
   "source": [
    "def mls75_r8():\n",
    "    fpath = os.path.join('/chia_cluster/home/jackyu/radiation',\n",
    "                         'crd/atmosphere_profiles',\n",
    "                         'mls75_r8.pro')\n",
    "\n",
    "    with open(fpath, mode='r', encoding='utf-8') as f:\n",
    "        c = f.read()        \n",
    "    return c\n",
    "\n",
    "\n",
    "def saw75_r8():\n",
    "    fpath = os.path.join('/chia_cluster/home/jackyu/radiation',\n",
    "                         'crd/atmosphere_profiles',\n",
    "                         'saw75_r8.pro')\n",
    "\n",
    "    with open(fpath, mode='r', encoding='utf-8') as f:\n",
    "        c = f.read()\n",
    "    return c\n",
    "\n",
    "\n",
    "def trp75_r8():\n",
    "    fpath = os.path.join('/chia_cluster/home/jackyu/radiation',\n",
    "                         'crd/atmosphere_profiles',\n",
    "                         'trp75_r8.pro')\n",
    "\n",
    "    with open(fpath, mode='r', encoding='utf-8') as f:\n",
    "        c = f.read()\n",
    "    return c"
   ]
  },
  {
   "cell_type": "code",
   "execution_count": 93,
   "metadata": {
    "collapsed": true
   },
   "outputs": [],
   "source": [
    "def get_var(s, name):\n",
    "    regex = re.compile(pattern_data(name), re.VERBOSE)\n",
    "    regex_find = regex.findall(c)\n",
    "    data_statement, data_content = regex_find[0]\n",
    "    \n",
    "    var = np.array(numbers(data_content), dtype='float')\n",
    "    return var"
   ]
  },
  {
   "cell_type": "code",
   "execution_count": 118,
   "metadata": {
    "scrolled": false
   },
   "outputs": [
    {
     "data": {
      "text/plain": [
       "'!\\n!\\n!\\n      data (player(i), i = 1, nlayer) /\\n     &     10.0_r8,\\n     &     10.0_r8,\\n     &     20.0_r8,\\n     &     20.0_r8,\\n     &     30.0_r8,\\n     &     30.0_r8 / \\n\\n      data (tlayer(i), i = 1, nlayer) /\\n     &     260_r8,\\n     &     270_r8,\\n     &     260_r8,\\n     &     270_r8,\\n     &     260_r8,\\n     &     270_r8 / \\n\\n      data (wlayer(i), i = 1, nlayer) /\\n     &     0.0_r8,\\n     &     0.0_r8,\\n     &     0.0_r8,\\n     &     0.0_r8,\\n     &     0.0_r8,\\n     &     0.0_r8 / \\n\\n      data (olayer(i), i = 1, nlayer) /\\n     &     0.0_r8,\\n     &     0.0_r8,\\n     &     0.0_r8,\\n     &     0.0_r8,\\n     &     0.0_r8,\\n     &     0.0_r8 / \\n\\n'"
      ]
     },
     "execution_count": 118,
     "metadata": {},
     "output_type": "execute_result"
    }
   ],
   "source": [
    "def tmp():\n",
    "\n",
    "    # Find the minimum and maximum pressures from\n",
    "    # all of mls, saw and trp profiles\n",
    "    plevels = np.array(\n",
    "        [\n",
    "            get_var(mls75_r8(), 'plevel'),\n",
    "            get_var(saw75_r8(), 'plevel'),\n",
    "            get_var(trp75_r8(), 'plevel')\n",
    "            ])\n",
    "\n",
    "    print('minimum pressure =', plevels.min(), 'mb')\n",
    "    print('maximum pressure =', plevels.max(), 'mb')\n",
    "\n",
    "\n",
    "    # Find the minimum and maximum temperatures from\n",
    "    # all of mls, saw and trp profiles\n",
    "    tlayers = np.array(\n",
    "        [\n",
    "            get_var(mls75_r8(), 'tlayer'),\n",
    "            get_var(saw75_r8(), 'tlayer'),\n",
    "            get_var(trp75_r8(), 'tlayer')\n",
    "        ]\n",
    "    )\n",
    "\n",
    "    print('minimum temperature =', tlayers.min(), 'K')\n",
    "    print('maximum temperature =', tlayers.max(), 'K')\n",
    "\n",
    "\n",
    "def table_pres():\n",
    "    return np.array([10., 20, 30])\n",
    "\n",
    " \n",
    "def table_temp():\n",
    "    return np.array([260, 270])\n",
    "\n",
    "\n",
    "def atmpro_vars(unique_pres, unique_temp):\n",
    "    atmpro_varnames = ['player', 'tlayer', 'wlayer', 'olayer']\n",
    "    \n",
    "    if len(unique_pres) != len(set(unique_pres)):\n",
    "        raise ValueError('Input pressure values must be unique.')\n",
    "        \n",
    "    if len(unique_temp) != len(set(unique_temp)):\n",
    "        raise ValueError('Input temperature values must be unique.')\n",
    "        \n",
    "    pres, temp = zip(*itertools.product(unique_pres, unique_temp))\n",
    "    \n",
    "    pres = np.array(pres)\n",
    "    temp = np.array(temp)\n",
    "    \n",
    "    nlayer = len(pres)\n",
    "    \n",
    "    wlayer = np.zeros(pres.shape)\n",
    "    olayer = np.zeros(pres.shape)\n",
    "    \n",
    "    \n",
    "    return dict(zip(atmpro_varnames, [pres, temp, wlayer, olayer]))\n",
    "\n",
    "\n",
    "\n",
    "def atmpro_player(dict_atmpro, saveas=None):\n",
    "    '''\n",
    "    This writes out a .pro file with `player`.\n",
    "    '''\n",
    "    varnames = ['player', 'tlayer', 'wlayer', 'olayer']\n",
    "    \n",
    "    s_data = '\\n'.join(\n",
    "        [\n",
    "            '      data ({name}(i), i = 1, nlayer) /',\n",
    "            '{values} / \\n\\n'\n",
    "        ])\n",
    "    \n",
    "    c = ''\n",
    "    for name in varnames:\n",
    "        vs = dict_atmpro[name]\n",
    "        vs = [str(v) + '_r8' for v in vs]\n",
    "        s_vs = ',\\n     &     '.join(vs)\n",
    "        s_vs = '     &     ' + s_vs\n",
    "        s = s_data.format(name=name, values=s_vs)\n",
    "        c += s\n",
    "    \n",
    "    c = '!\\n!\\n!\\n' + c\n",
    "    \n",
    "    if saveas != None:\n",
    "        with open(saveas, mode='w', encoding='utf-8') as f:\n",
    "            f.write(c)\n",
    "            \n",
    "    return c\n",
    "        \n",
    "        \n",
    "        \n",
    "    \n",
    "    \n",
    "    \n",
    "    \n",
    "    \n",
    "dict_atmpro = atmpro_vars(table_pres(), table_temp())\n",
    "\n",
    "\n",
    "saveas = os.path.join('/chia_cluster/home/jackyu/radiation',\n",
    "                      'crd/atmosphere_profiles',\n",
    "                      'table_clirad_example.pro')\n",
    "\n",
    "atmpro_player(dict_atmpro, saveas=saveas)"
   ]
  },
  {
   "cell_type": "code",
   "execution_count": 71,
   "metadata": {
    "collapsed": true,
    "scrolled": false
   },
   "outputs": [],
   "source": [
    "# Load plevel from mls75_r8.pro.\n",
    "# \n",
    "\n",
    "c = mls75_r8()\n",
    "\n",
    "# player\n",
    "regex = re.compile(pattern_data('plevel'), re.VERBOSE)\n",
    "regex_find = regex.findall(c)\n",
    "data_statement, data_content = regex_find[0]\n",
    "\n",
    "plevel = np.array(numbers(data_content), dtype='float')\n",
    "\n",
    "player = .5 * (plevel[:-1] + plevel[1:])\n",
    "\n",
    "player = [str(v) + '_r8' for v in player]\n",
    "\n",
    "#print(data_content)\n",
    "\n",
    "new_data_content = '\\n     &    ' + ',\\n     &    '.join(player)\n",
    "\n",
    "new_data_statement = data_statement.replace('plevel', 'player')\n",
    "new_data_statement = new_data_statement.replace('nlayer+1', 'nlayer')\n",
    "new_data_statement = new_data_statement.replace(data_content,\n",
    "                                                new_data_content)\n",
    "\n",
    "new_c = c.replace(data_statement, new_data_statement)\n",
    "\n",
    "with open(os.path.join('/chia_cluster/home/jackyu/radiation',\n",
    "                       'crd/atmosphere_profiles',\n",
    "                       'mls75_player_r8.pro'),\n",
    "          mode='w', encoding='utf-8') as f:\n",
    "    f.write(new_c)\n",
    "    \n"
   ]
  },
  {
   "cell_type": "code",
   "execution_count": null,
   "metadata": {
    "collapsed": true
   },
   "outputs": [],
   "source": []
  },
  {
   "cell_type": "code",
   "execution_count": 148,
   "metadata": {
    "scrolled": false
   },
   "outputs": [],
   "source": [
    "def rrtmg_ktable_pts():\n",
    "    fpath = os.path.join('/chia_cluster/home/jackyu',\n",
    "                         'radiation/offline_radiation_notebooks',\n",
    "                         'trace_rrtmg/rrtmg_pts_for_ktable.csv')\n",
    "    return pd.read_csv(fpath, index_col=[0])\n",
    "\n",
    "\n",
    "\n",
    "def get_dict_atmpro():\n",
    "    df = rrtmg_ktable_pts().set_index('pref')\n",
    "\n",
    "    pts = []\n",
    "    for pref, temps in df.iterrows():\n",
    "        pts.extend(list(itertools.product([pref], temps)))\n",
    "    \n",
    "    player, tlayer = itertools.zip_longest(*pts)\n",
    "    \n",
    "    player = np.array(player)\n",
    "    tlayer = np.array(tlayer)\n",
    "    wlayer = np.zeros(player.shape)\n",
    "    olayer = np.zeros(player.shape)\n",
    "    \n",
    "    return {'player': player, \n",
    "            'tlayer': tlayer, \n",
    "            'wlayer': wlayer, \n",
    "            'olayer': olayer}\n",
    "\n",
    "s = atmpro_player(get_dict_atmpro(), saveas='rrtmg_ktable_pts_atmpro.pro')"
   ]
  },
  {
   "cell_type": "code",
   "execution_count": null,
   "metadata": {
    "collapsed": true
   },
   "outputs": [],
   "source": []
  }
 ],
 "metadata": {
  "kernelspec": {
   "display_name": "Python 3",
   "language": "python",
   "name": "python3"
  },
  "language_info": {
   "codemirror_mode": {
    "name": "ipython",
    "version": 3
   },
   "file_extension": ".py",
   "mimetype": "text/x-python",
   "name": "python",
   "nbconvert_exporter": "python",
   "pygments_lexer": "ipython3",
   "version": "3.6.1"
  }
 },
 "nbformat": 4,
 "nbformat_minor": 2
}
