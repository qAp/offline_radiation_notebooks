{
 "cells": [
  {
   "cell_type": "markdown",
   "metadata": {},
   "source": [
    "`lblnew.f` takes as one of its inputs a file that contains the atmosphere profile for which radiative transfer is to be calculated. For example, the profile can be like that found in mid-latitude summer, or a sub-arctic winter.  \n",
    "\n",
    "Here, we try to make an atmosphere profile that is not necessarily like a realistic profile found in some part of the Earth, but contains layers whose pressure and temperature cover ranges specified by us.  This allows as to construct tables of absorption coefficient values from which we could later look up."
   ]
  },
  {
   "cell_type": "code",
   "execution_count": 9,
   "metadata": {
    "collapsed": true
   },
   "outputs": [],
   "source": [
    "import os\n",
    "import sys\n",
    "import collections\n",
    "import itertools\n",
    "\n",
    "import re\n",
    "\n",
    "import numpy as np\n",
    "import pandas as pd\n"
   ]
  },
  {
   "cell_type": "code",
   "execution_count": 7,
   "metadata": {
    "collapsed": true
   },
   "outputs": [],
   "source": [
    "def pres_values():\n",
    "    return np.array([1000, 1, .001])\n",
    "\n",
    "\n",
    "def temp_values():\n",
    "    return np.array([250, 290, 300])\n"
   ]
  },
  {
   "cell_type": "code",
   "execution_count": 10,
   "metadata": {
    "collapsed": true
   },
   "outputs": [],
   "source": [
    "def atmpro_vars(unique_pres, unique_temp):\n",
    "    atmpro_varnames = ['plevel', 'tlayer', 'wlayer', 'olayer']\n",
    "    \n",
    "    if len(unique_pres) != len(set(unique_pres)):\n",
    "        raise ValueError('Input pressure values must be unique.')\n",
    "        \n",
    "    if len(unique_temp) != len(set(unique_temp)):\n",
    "        raise ValueError('Input temperature values must be unique.')\n",
    "        \n",
    "    plevel, temp = zip(*itertools.product(unique_pres, unique_temp))\n",
    "    \n",
    "    pres = np.array(pres)\n",
    "    temp = np.array(temp)\n",
    "    \n",
    "    nlayer = len(pres)\n",
    "    \n",
    "    wlayer = np.zeros(pres.shape)\n",
    "    olayer = np.zeros(pres.shape)\n",
    "    \n",
    "    \n",
    "    return zip(atmpro_varnames, [pres, temp, wlayer, olayer])\n",
    "        "
   ]
  },
  {
   "cell_type": "code",
   "execution_count": 43,
   "metadata": {
    "collapsed": true
   },
   "outputs": [],
   "source": [
    "def pattern_data(name):                                                                \n",
    "    '''                                                                                \n",
    "    Returns regular expression for a Fortran                                           \n",
    "    'data' variable assignment                                                         \n",
    "    '''                                                                                \n",
    "    return '''                                                                         \n",
    "    (data [^/]+ {name} [^/]+ / ([^/]+) /)                              \n",
    "    '''.format(name=name)\n",
    "\n",
    "\n",
    "def numbers(s=''):                                                                     \n",
    "    '''                                                                                \n",
    "    Extract numebers from a piece of Fortran code.  This covers                        \n",
    "    numbers written in various forms, such as 8, .8, 8., -8E-09,                       \n",
    "    8e-09.                                                                             \n",
    "                                                                                       \n",
    "    Parameters                                                                         \n",
    "    ----------                                                                         \n",
    "    s : {string}                                                                       \n",
    "        Fortran code                                                                   \n",
    "    '''                                                                                \n",
    "    pattern = '''                                                                      \n",
    "    (                                                                                  \n",
    "    -?                                                                                 \n",
    "    \\d+                                                                                \n",
    "    (?: \\. \\d*)?                                                                       \n",
    "    (?: (?: E|e) (?: -|\\+) \\d+)?                                                       \n",
    "    )                                                                                  \n",
    "    (?: _r8)?                                                                          \n",
    "    '''                                                                                \n",
    "    regex = re.compile(pattern, re.VERBOSE)                                            \n",
    "    return regex.findall(s)     "
   ]
  },
  {
   "cell_type": "code",
   "execution_count": 24,
   "metadata": {
    "scrolled": false
   },
   "outputs": [],
   "source": [
    "def mls75_r8():\n",
    "    fpath = os.path.join('/chia_cluster/home/jackyu/radiation',\n",
    "                         'crd/atmosphere_profiles',\n",
    "                         'mls75_r8.pro')\n",
    "\n",
    "    with open(MLS75_R8, mode='r', encoding='utf-8') as f:\n",
    "        c = f.read()\n",
    "        \n",
    "    return c"
   ]
  },
  {
   "cell_type": "code",
   "execution_count": 71,
   "metadata": {
    "scrolled": false
   },
   "outputs": [],
   "source": [
    "c = mls75_r8()\n",
    "\n",
    "# player\n",
    "regex = re.compile(pattern_data('plevel'), re.VERBOSE)\n",
    "regex_find = regex.findall(c)\n",
    "data_statement, data_content = regex_find[0]\n",
    "\n",
    "plevel = np.array(numbers(data_content), dtype='float')\n",
    "\n",
    "player = .5 * (plevel[:-1] + plevel[1:])\n",
    "\n",
    "player = [str(v) + '_r8' for v in player]\n",
    "\n",
    "#print(data_content)\n",
    "\n",
    "new_data_content = '\\n     &    ' + ',\\n     &    '.join(player)\n",
    "\n",
    "new_data_statement = data_statement.replace('plevel', 'player')\n",
    "new_data_statement = new_data_statement.replace('nlayer+1', 'nlayer')\n",
    "new_data_statement = new_data_statement.replace(data_content,\n",
    "                                                new_data_content)\n",
    "\n",
    "new_c = c.replace(data_statement, new_data_statement)\n",
    "\n",
    "with open(os.path.join('/chia_cluster/home/jackyu/radiation',\n",
    "                       'crd/atmosphere_profiles',\n",
    "                       'mls75_player_r8.pro'),\n",
    "          mode='w', encoding='utf-8') as f:\n",
    "    f.write(new_c)\n",
    "    \n"
   ]
  },
  {
   "cell_type": "code",
   "execution_count": null,
   "metadata": {
    "collapsed": true
   },
   "outputs": [],
   "source": []
  }
 ],
 "metadata": {
  "kernelspec": {
   "display_name": "Python 3",
   "language": "python",
   "name": "python3"
  },
  "language_info": {
   "codemirror_mode": {
    "name": "ipython",
    "version": 3
   },
   "file_extension": ".py",
   "mimetype": "text/x-python",
   "name": "python",
   "nbconvert_exporter": "python",
   "pygments_lexer": "ipython3",
   "version": "3.6.1"
  }
 },
 "nbformat": 4,
 "nbformat_minor": 2
}
