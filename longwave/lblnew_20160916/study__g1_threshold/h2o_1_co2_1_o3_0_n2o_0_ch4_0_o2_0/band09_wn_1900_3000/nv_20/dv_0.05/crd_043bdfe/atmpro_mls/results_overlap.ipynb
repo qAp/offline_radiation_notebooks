{
 "cells": [
  {
   "cell_type": "code",
   "execution_count": 1,
   "metadata": {
    "collapsed": true
   },
   "outputs": [],
   "source": [
    "%matplotlib inline\n",
    "import os\n",
    "import re\n",
    "import io\n",
    "import itertools\n",
    "import pprint\n",
    "\n",
    "from bokeh.io import output_notebook, show\n",
    "from bokeh.layouts import gridplot\n",
    "from bokeh.plotting import figure\n",
    "from bokeh.models import Range1d, Legend\n",
    "from bokeh.palettes import all_palettes\n",
    "\n",
    "import matplotlib\n",
    "import matplotlib.pyplot as plt\n",
    "import numpy as np\n",
    "import pandas as pd\n",
    "import xarray as xr\n",
    "\n",
    "import climatools.lblnew.bestfit_params as bestfits\n",
    "from climatools.lblnew import setup_bestfit, setup_overlap\n",
    "import climatools.lblnew.pipeline as pipe_lblnew\n",
    "\n",
    "import climatools.html.html as climahtml\n",
    "from climatools.lblnew.dataio import *\n",
    "from climatools.plot.plot import *\n",
    "\n",
    "\n",
    "import IPython.display as display"
   ]
  },
  {
   "cell_type": "code",
   "execution_count": 2,
   "metadata": {
    "collapsed": true
   },
   "outputs": [],
   "source": [
    "%run param.py"
   ]
  },
  {
   "cell_type": "code",
   "execution_count": 3,
   "metadata": {
    "collapsed": true
   },
   "outputs": [],
   "source": [
    "def load_output_file(path_csv):\n",
    "    '''\n",
    "    Load lblnew output .csv file to xarray.Dataset\n",
    "    \n",
    "    Parameters\n",
    "    ----------\n",
    "    path_csv: str\n",
    "              Path to the .csv file to be loaded.\n",
    "    ds: xarray.Dataset\n",
    "        Data in the input file in the form of an xarray.Dataset.\n",
    "    '''\n",
    "    toindex = ['band', 'pressure', 'igg', 'g']    \n",
    "    df = pd.read_csv(path_csv, sep=r'\\s+')\n",
    "    df = df.set_index([i for i in toindex if i in df.columns])\n",
    "    df = df.rename(columns={'sfu': 'flug',\n",
    "                            'sfd': 'fldg',\n",
    "                            'fnet': 'fnetg',\n",
    "                            'coolr': 'coolrg'})\n",
    "    ds = xr.Dataset.from_dataframe(df)\n",
    "\n",
    "    for l in ('level', 'layer'):\n",
    "        if l in ds.data_vars:\n",
    "            if len(ds[l].dims) > 1:\n",
    "                surface = {d: 0 for d in ds.dims if d != 'pressure'}\n",
    "                coord_level = ds[l][surface]\n",
    "                ds.coords[l] = ('pressure', coord_level)\n",
    "            else:\n",
    "                ds.coords[l] = ('pressure', ds[l])\n",
    "    \n",
    "    return ds"
   ]
  },
  {
   "cell_type": "code",
   "execution_count": 4,
   "metadata": {
    "collapsed": true
   },
   "outputs": [],
   "source": [
    "def lblnew_setup(param=None):\n",
    "    if 'ng_refs' in param:\n",
    "        return {'setup': setup_bestfit,\n",
    "                'fname_flux_crd': 'output_flux.dat',\n",
    "                'fname_cool_crd': 'output_coolr.dat',\n",
    "                'fname_flux_wgt': 'output_wfluxg.dat',\n",
    "                'fname_cool_wgt': 'output_wcoolrg.dat'}\n",
    "    else:\n",
    "        return {'setup': setup_overlap,\n",
    "                'fname_flux_crd': 'output_flux.dat',\n",
    "                'fname_cool_crd': 'output_coolr.dat',\n",
    "                'fname_flux_wgt': 'output_wflux.dat',\n",
    "                'fname_cool_wgt': 'output_wcoolr.dat'}\n",
    "\n",
    "    \n",
    "def load_lblnew_data(param):\n",
    "    \n",
    "    fname_dsname = [('fname_flux_crd', 'ds_flux_crd'),\n",
    "                    ('fname_cool_crd', 'ds_cool_crd'),\n",
    "                    ('fname_flux_wgt', 'ds_flux_wgt'),\n",
    "                    ('fname_cool_wgt', 'ds_cool_wgt')]\n",
    "    \n",
    "    d = lblnew_setup(param)\n",
    "    dir_fortran = pipe_lblnew.get_dir_case(param, setup=d['setup'])\n",
    "    \n",
    "    data_dict = {}\n",
    "    for fname, dsname in fname_dsname:\n",
    "        fpath = os.path.join(dir_fortran, d[fname])\n",
    "        data_dict[dsname] = load_output_file(fpath)\n",
    "    return data_dict\n",
    "    \n",
    "\n",
    "    \n",
    "    "
   ]
  },
  {
   "cell_type": "code",
   "execution_count": 5,
   "metadata": {
    "collapsed": true
   },
   "outputs": [],
   "source": [
    "d = load_lblnew_data(PARAM)\n",
    "\n",
    "DS_FLUX_CRD = d['ds_flux_crd']\n",
    "DS_COOL_CRD = d['ds_cool_crd']\n",
    "DS_FLUX_WGT = d['ds_flux_wgt']\n",
    "DS_COOL_WGT = d['ds_cool_wgt']"
   ]
  },
  {
   "cell_type": "code",
   "execution_count": 6,
   "metadata": {},
   "outputs": [
    {
     "data": {
      "text/html": [
       "\n",
       "    <div class=\"bk-root\">\n",
       "        <a href=\"https://bokeh.pydata.org\" target=\"_blank\" class=\"bk-logo bk-logo-small bk-logo-notebook\"></a>\n",
       "        <span id=\"d37b1ac5-7fca-4812-a4a7-63366085ff07\">Loading BokehJS ...</span>\n",
       "    </div>"
      ]
     },
     "metadata": {},
     "output_type": "display_data"
    },
    {
     "data": {
      "application/javascript": [
       "\n",
       "(function(root) {\n",
       "  function now() {\n",
       "    return new Date();\n",
       "  }\n",
       "\n",
       "  var force = true;\n",
       "\n",
       "  if (typeof (root._bokeh_onload_callbacks) === \"undefined\" || force === true) {\n",
       "    root._bokeh_onload_callbacks = [];\n",
       "    root._bokeh_is_loading = undefined;\n",
       "  }\n",
       "\n",
       "  var JS_MIME_TYPE = 'application/javascript';\n",
       "  var HTML_MIME_TYPE = 'text/html';\n",
       "  var EXEC_MIME_TYPE = 'application/vnd.bokehjs_exec.v0+json';\n",
       "  var CLASS_NAME = 'output_bokeh rendered_html';\n",
       "\n",
       "  /**\n",
       "   * Render data to the DOM node\n",
       "   */\n",
       "  function render(props, node) {\n",
       "    var script = document.createElement(\"script\");\n",
       "    node.appendChild(script);\n",
       "  }\n",
       "\n",
       "  /**\n",
       "   * Handle when an output is cleared or removed\n",
       "   */\n",
       "  function handleClearOutput(event, handle) {\n",
       "    var cell = handle.cell;\n",
       "\n",
       "    var id = cell.output_area._bokeh_element_id;\n",
       "    var server_id = cell.output_area._bokeh_server_id;\n",
       "    // Clean up Bokeh references\n",
       "    if (id !== undefined) {\n",
       "      Bokeh.index[id].model.document.clear();\n",
       "      delete Bokeh.index[id];\n",
       "    }\n",
       "\n",
       "    if (server_id !== undefined) {\n",
       "      // Clean up Bokeh references\n",
       "      var cmd = \"from bokeh.io.state import curstate; print(curstate().uuid_to_server['\" + server_id + \"'].get_sessions()[0].document.roots[0]._id)\";\n",
       "      cell.notebook.kernel.execute(cmd, {\n",
       "        iopub: {\n",
       "          output: function(msg) {\n",
       "            var element_id = msg.content.text.trim();\n",
       "            Bokeh.index[element_id].model.document.clear();\n",
       "            delete Bokeh.index[element_id];\n",
       "          }\n",
       "        }\n",
       "      });\n",
       "      // Destroy server and session\n",
       "      var cmd = \"import bokeh.io.notebook as ion; ion.destroy_server('\" + server_id + \"')\";\n",
       "      cell.notebook.kernel.execute(cmd);\n",
       "    }\n",
       "  }\n",
       "\n",
       "  /**\n",
       "   * Handle when a new output is added\n",
       "   */\n",
       "  function handleAddOutput(event, handle) {\n",
       "    var output_area = handle.output_area;\n",
       "    var output = handle.output;\n",
       "\n",
       "    // limit handleAddOutput to display_data with EXEC_MIME_TYPE content only\n",
       "    if ((output.output_type != \"display_data\") || (!output.data.hasOwnProperty(EXEC_MIME_TYPE))) {\n",
       "      return\n",
       "    }\n",
       "\n",
       "    var toinsert = output_area.element.find(\".\" + CLASS_NAME.split(' ')[0]);\n",
       "\n",
       "    if (output.metadata[EXEC_MIME_TYPE][\"id\"] !== undefined) {\n",
       "      toinsert[0].firstChild.textContent = output.data[JS_MIME_TYPE];\n",
       "      // store reference to embed id on output_area\n",
       "      output_area._bokeh_element_id = output.metadata[EXEC_MIME_TYPE][\"id\"];\n",
       "    }\n",
       "    if (output.metadata[EXEC_MIME_TYPE][\"server_id\"] !== undefined) {\n",
       "      var bk_div = document.createElement(\"div\");\n",
       "      bk_div.innerHTML = output.data[HTML_MIME_TYPE];\n",
       "      var script_attrs = bk_div.children[0].attributes;\n",
       "      for (var i = 0; i < script_attrs.length; i++) {\n",
       "        toinsert[0].firstChild.setAttribute(script_attrs[i].name, script_attrs[i].value);\n",
       "      }\n",
       "      // store reference to server id on output_area\n",
       "      output_area._bokeh_server_id = output.metadata[EXEC_MIME_TYPE][\"server_id\"];\n",
       "    }\n",
       "  }\n",
       "\n",
       "  function register_renderer(events, OutputArea) {\n",
       "\n",
       "    function append_mime(data, metadata, element) {\n",
       "      // create a DOM node to render to\n",
       "      var toinsert = this.create_output_subarea(\n",
       "        metadata,\n",
       "        CLASS_NAME,\n",
       "        EXEC_MIME_TYPE\n",
       "      );\n",
       "      this.keyboard_manager.register_events(toinsert);\n",
       "      // Render to node\n",
       "      var props = {data: data, metadata: metadata[EXEC_MIME_TYPE]};\n",
       "      render(props, toinsert[0]);\n",
       "      element.append(toinsert);\n",
       "      return toinsert\n",
       "    }\n",
       "\n",
       "    /* Handle when an output is cleared or removed */\n",
       "    events.on('clear_output.CodeCell', handleClearOutput);\n",
       "    events.on('delete.Cell', handleClearOutput);\n",
       "\n",
       "    /* Handle when a new output is added */\n",
       "    events.on('output_added.OutputArea', handleAddOutput);\n",
       "\n",
       "    /**\n",
       "     * Register the mime type and append_mime function with output_area\n",
       "     */\n",
       "    OutputArea.prototype.register_mime_type(EXEC_MIME_TYPE, append_mime, {\n",
       "      /* Is output safe? */\n",
       "      safe: true,\n",
       "      /* Index of renderer in `output_area.display_order` */\n",
       "      index: 0\n",
       "    });\n",
       "  }\n",
       "\n",
       "  // register the mime type if in Jupyter Notebook environment and previously unregistered\n",
       "  if (root.Jupyter !== undefined) {\n",
       "    var events = require('base/js/events');\n",
       "    var OutputArea = require('notebook/js/outputarea').OutputArea;\n",
       "\n",
       "    if (OutputArea.prototype.mime_types().indexOf(EXEC_MIME_TYPE) == -1) {\n",
       "      register_renderer(events, OutputArea);\n",
       "    }\n",
       "  }\n",
       "\n",
       "  \n",
       "  if (typeof (root._bokeh_timeout) === \"undefined\" || force === true) {\n",
       "    root._bokeh_timeout = Date.now() + 5000;\n",
       "    root._bokeh_failed_load = false;\n",
       "  }\n",
       "\n",
       "  var NB_LOAD_WARNING = {'data': {'text/html':\n",
       "     \"<div style='background-color: #fdd'>\\n\"+\n",
       "     \"<p>\\n\"+\n",
       "     \"BokehJS does not appear to have successfully loaded. If loading BokehJS from CDN, this \\n\"+\n",
       "     \"may be due to a slow or bad network connection. Possible fixes:\\n\"+\n",
       "     \"</p>\\n\"+\n",
       "     \"<ul>\\n\"+\n",
       "     \"<li>re-rerun `output_notebook()` to attempt to load from CDN again, or</li>\\n\"+\n",
       "     \"<li>use INLINE resources instead, as so:</li>\\n\"+\n",
       "     \"</ul>\\n\"+\n",
       "     \"<code>\\n\"+\n",
       "     \"from bokeh.resources import INLINE\\n\"+\n",
       "     \"output_notebook(resources=INLINE)\\n\"+\n",
       "     \"</code>\\n\"+\n",
       "     \"</div>\"}};\n",
       "\n",
       "  function display_loaded() {\n",
       "    var el = document.getElementById(\"d37b1ac5-7fca-4812-a4a7-63366085ff07\");\n",
       "    if (el != null) {\n",
       "      el.textContent = \"BokehJS is loading...\";\n",
       "    }\n",
       "    if (root.Bokeh !== undefined) {\n",
       "      if (el != null) {\n",
       "        el.textContent = \"BokehJS \" + root.Bokeh.version + \" successfully loaded.\";\n",
       "      }\n",
       "    } else if (Date.now() < root._bokeh_timeout) {\n",
       "      setTimeout(display_loaded, 100)\n",
       "    }\n",
       "  }\n",
       "\n",
       "\n",
       "  function run_callbacks() {\n",
       "    try {\n",
       "      root._bokeh_onload_callbacks.forEach(function(callback) { callback() });\n",
       "    }\n",
       "    finally {\n",
       "      delete root._bokeh_onload_callbacks\n",
       "    }\n",
       "    console.info(\"Bokeh: all callbacks have finished\");\n",
       "  }\n",
       "\n",
       "  function load_libs(js_urls, callback) {\n",
       "    root._bokeh_onload_callbacks.push(callback);\n",
       "    if (root._bokeh_is_loading > 0) {\n",
       "      console.log(\"Bokeh: BokehJS is being loaded, scheduling callback at\", now());\n",
       "      return null;\n",
       "    }\n",
       "    if (js_urls == null || js_urls.length === 0) {\n",
       "      run_callbacks();\n",
       "      return null;\n",
       "    }\n",
       "    console.log(\"Bokeh: BokehJS not loaded, scheduling load and callback at\", now());\n",
       "    root._bokeh_is_loading = js_urls.length;\n",
       "    for (var i = 0; i < js_urls.length; i++) {\n",
       "      var url = js_urls[i];\n",
       "      var s = document.createElement('script');\n",
       "      s.src = url;\n",
       "      s.async = false;\n",
       "      s.onreadystatechange = s.onload = function() {\n",
       "        root._bokeh_is_loading--;\n",
       "        if (root._bokeh_is_loading === 0) {\n",
       "          console.log(\"Bokeh: all BokehJS libraries loaded\");\n",
       "          run_callbacks()\n",
       "        }\n",
       "      };\n",
       "      s.onerror = function() {\n",
       "        console.warn(\"failed to load library \" + url);\n",
       "      };\n",
       "      console.log(\"Bokeh: injecting script tag for BokehJS library: \", url);\n",
       "      document.getElementsByTagName(\"head\")[0].appendChild(s);\n",
       "    }\n",
       "  };var element = document.getElementById(\"d37b1ac5-7fca-4812-a4a7-63366085ff07\");\n",
       "  if (element == null) {\n",
       "    console.log(\"Bokeh: ERROR: autoload.js configured with elementid 'd37b1ac5-7fca-4812-a4a7-63366085ff07' but no matching script tag was found. \")\n",
       "    return false;\n",
       "  }\n",
       "\n",
       "  var js_urls = [\"https://cdn.pydata.org/bokeh/release/bokeh-0.12.14.min.js\", \"https://cdn.pydata.org/bokeh/release/bokeh-widgets-0.12.14.min.js\", \"https://cdn.pydata.org/bokeh/release/bokeh-tables-0.12.14.min.js\", \"https://cdn.pydata.org/bokeh/release/bokeh-gl-0.12.14.min.js\"];\n",
       "\n",
       "  var inline_js = [\n",
       "    function(Bokeh) {\n",
       "      Bokeh.set_log_level(\"info\");\n",
       "    },\n",
       "    \n",
       "    function(Bokeh) {\n",
       "      \n",
       "    },\n",
       "    function(Bokeh) {\n",
       "      console.log(\"Bokeh: injecting CSS: https://cdn.pydata.org/bokeh/release/bokeh-0.12.14.min.css\");\n",
       "      Bokeh.embed.inject_css(\"https://cdn.pydata.org/bokeh/release/bokeh-0.12.14.min.css\");\n",
       "      console.log(\"Bokeh: injecting CSS: https://cdn.pydata.org/bokeh/release/bokeh-widgets-0.12.14.min.css\");\n",
       "      Bokeh.embed.inject_css(\"https://cdn.pydata.org/bokeh/release/bokeh-widgets-0.12.14.min.css\");\n",
       "      console.log(\"Bokeh: injecting CSS: https://cdn.pydata.org/bokeh/release/bokeh-tables-0.12.14.min.css\");\n",
       "      Bokeh.embed.inject_css(\"https://cdn.pydata.org/bokeh/release/bokeh-tables-0.12.14.min.css\");\n",
       "    }\n",
       "  ];\n",
       "\n",
       "  function run_inline_js() {\n",
       "    \n",
       "    if ((root.Bokeh !== undefined) || (force === true)) {\n",
       "      for (var i = 0; i < inline_js.length; i++) {\n",
       "        inline_js[i].call(root, root.Bokeh);\n",
       "      }if (force === true) {\n",
       "        display_loaded();\n",
       "      }} else if (Date.now() < root._bokeh_timeout) {\n",
       "      setTimeout(run_inline_js, 100);\n",
       "    } else if (!root._bokeh_failed_load) {\n",
       "      console.log(\"Bokeh: BokehJS failed to load within specified timeout.\");\n",
       "      root._bokeh_failed_load = true;\n",
       "    } else if (force !== true) {\n",
       "      var cell = $(document.getElementById(\"d37b1ac5-7fca-4812-a4a7-63366085ff07\")).parents('.cell').data().cell;\n",
       "      cell.output_area.append_execute_result(NB_LOAD_WARNING)\n",
       "    }\n",
       "\n",
       "  }\n",
       "\n",
       "  if (root._bokeh_is_loading === 0) {\n",
       "    console.log(\"Bokeh: BokehJS loaded, going straight to plotting\");\n",
       "    run_inline_js();\n",
       "  } else {\n",
       "    load_libs(js_urls, function() {\n",
       "      console.log(\"Bokeh: BokehJS plotting callback run at\", now());\n",
       "      run_inline_js();\n",
       "    });\n",
       "  }\n",
       "}(window));"
      ],
      "application/vnd.bokehjs_load.v0+json": "\n(function(root) {\n  function now() {\n    return new Date();\n  }\n\n  var force = true;\n\n  if (typeof (root._bokeh_onload_callbacks) === \"undefined\" || force === true) {\n    root._bokeh_onload_callbacks = [];\n    root._bokeh_is_loading = undefined;\n  }\n\n  \n\n  \n  if (typeof (root._bokeh_timeout) === \"undefined\" || force === true) {\n    root._bokeh_timeout = Date.now() + 5000;\n    root._bokeh_failed_load = false;\n  }\n\n  var NB_LOAD_WARNING = {'data': {'text/html':\n     \"<div style='background-color: #fdd'>\\n\"+\n     \"<p>\\n\"+\n     \"BokehJS does not appear to have successfully loaded. If loading BokehJS from CDN, this \\n\"+\n     \"may be due to a slow or bad network connection. Possible fixes:\\n\"+\n     \"</p>\\n\"+\n     \"<ul>\\n\"+\n     \"<li>re-rerun `output_notebook()` to attempt to load from CDN again, or</li>\\n\"+\n     \"<li>use INLINE resources instead, as so:</li>\\n\"+\n     \"</ul>\\n\"+\n     \"<code>\\n\"+\n     \"from bokeh.resources import INLINE\\n\"+\n     \"output_notebook(resources=INLINE)\\n\"+\n     \"</code>\\n\"+\n     \"</div>\"}};\n\n  function display_loaded() {\n    var el = document.getElementById(\"d37b1ac5-7fca-4812-a4a7-63366085ff07\");\n    if (el != null) {\n      el.textContent = \"BokehJS is loading...\";\n    }\n    if (root.Bokeh !== undefined) {\n      if (el != null) {\n        el.textContent = \"BokehJS \" + root.Bokeh.version + \" successfully loaded.\";\n      }\n    } else if (Date.now() < root._bokeh_timeout) {\n      setTimeout(display_loaded, 100)\n    }\n  }\n\n\n  function run_callbacks() {\n    try {\n      root._bokeh_onload_callbacks.forEach(function(callback) { callback() });\n    }\n    finally {\n      delete root._bokeh_onload_callbacks\n    }\n    console.info(\"Bokeh: all callbacks have finished\");\n  }\n\n  function load_libs(js_urls, callback) {\n    root._bokeh_onload_callbacks.push(callback);\n    if (root._bokeh_is_loading > 0) {\n      console.log(\"Bokeh: BokehJS is being loaded, scheduling callback at\", now());\n      return null;\n    }\n    if (js_urls == null || js_urls.length === 0) {\n      run_callbacks();\n      return null;\n    }\n    console.log(\"Bokeh: BokehJS not loaded, scheduling load and callback at\", now());\n    root._bokeh_is_loading = js_urls.length;\n    for (var i = 0; i < js_urls.length; i++) {\n      var url = js_urls[i];\n      var s = document.createElement('script');\n      s.src = url;\n      s.async = false;\n      s.onreadystatechange = s.onload = function() {\n        root._bokeh_is_loading--;\n        if (root._bokeh_is_loading === 0) {\n          console.log(\"Bokeh: all BokehJS libraries loaded\");\n          run_callbacks()\n        }\n      };\n      s.onerror = function() {\n        console.warn(\"failed to load library \" + url);\n      };\n      console.log(\"Bokeh: injecting script tag for BokehJS library: \", url);\n      document.getElementsByTagName(\"head\")[0].appendChild(s);\n    }\n  };var element = document.getElementById(\"d37b1ac5-7fca-4812-a4a7-63366085ff07\");\n  if (element == null) {\n    console.log(\"Bokeh: ERROR: autoload.js configured with elementid 'd37b1ac5-7fca-4812-a4a7-63366085ff07' but no matching script tag was found. \")\n    return false;\n  }\n\n  var js_urls = [\"https://cdn.pydata.org/bokeh/release/bokeh-0.12.14.min.js\", \"https://cdn.pydata.org/bokeh/release/bokeh-widgets-0.12.14.min.js\", \"https://cdn.pydata.org/bokeh/release/bokeh-tables-0.12.14.min.js\", \"https://cdn.pydata.org/bokeh/release/bokeh-gl-0.12.14.min.js\"];\n\n  var inline_js = [\n    function(Bokeh) {\n      Bokeh.set_log_level(\"info\");\n    },\n    \n    function(Bokeh) {\n      \n    },\n    function(Bokeh) {\n      console.log(\"Bokeh: injecting CSS: https://cdn.pydata.org/bokeh/release/bokeh-0.12.14.min.css\");\n      Bokeh.embed.inject_css(\"https://cdn.pydata.org/bokeh/release/bokeh-0.12.14.min.css\");\n      console.log(\"Bokeh: injecting CSS: https://cdn.pydata.org/bokeh/release/bokeh-widgets-0.12.14.min.css\");\n      Bokeh.embed.inject_css(\"https://cdn.pydata.org/bokeh/release/bokeh-widgets-0.12.14.min.css\");\n      console.log(\"Bokeh: injecting CSS: https://cdn.pydata.org/bokeh/release/bokeh-tables-0.12.14.min.css\");\n      Bokeh.embed.inject_css(\"https://cdn.pydata.org/bokeh/release/bokeh-tables-0.12.14.min.css\");\n    }\n  ];\n\n  function run_inline_js() {\n    \n    if ((root.Bokeh !== undefined) || (force === true)) {\n      for (var i = 0; i < inline_js.length; i++) {\n        inline_js[i].call(root, root.Bokeh);\n      }if (force === true) {\n        display_loaded();\n      }} else if (Date.now() < root._bokeh_timeout) {\n      setTimeout(run_inline_js, 100);\n    } else if (!root._bokeh_failed_load) {\n      console.log(\"Bokeh: BokehJS failed to load within specified timeout.\");\n      root._bokeh_failed_load = true;\n    } else if (force !== true) {\n      var cell = $(document.getElementById(\"d37b1ac5-7fca-4812-a4a7-63366085ff07\")).parents('.cell').data().cell;\n      cell.output_area.append_execute_result(NB_LOAD_WARNING)\n    }\n\n  }\n\n  if (root._bokeh_is_loading === 0) {\n    console.log(\"Bokeh: BokehJS loaded, going straight to plotting\");\n    run_inline_js();\n  } else {\n    load_libs(js_urls, function() {\n      console.log(\"Bokeh: BokehJS plotting callback run at\", now());\n      run_inline_js();\n    });\n  }\n}(window));"
     },
     "metadata": {},
     "output_type": "display_data"
    }
   ],
   "source": [
    "output_notebook()"
   ]
  },
  {
   "cell_type": "code",
   "execution_count": 7,
   "metadata": {
    "collapsed": true
   },
   "outputs": [],
   "source": [
    "def fmt_cool(ds_in):\n",
    "    ds = ds_in.copy(deep=True)\n",
    "    if 'igg' in ds.dims:\n",
    "        ds = ds.sel(igg=1)\n",
    "\n",
    "    if 'g' in ds.dims:\n",
    "        ds = ds.sum('g')\n",
    "            \n",
    "    if 'band' in ds.dims:\n",
    "        try:\n",
    "            ds = ds.squeeze('band')\n",
    "        except ValueError:\n",
    "            ds = ds.sum('band')\n",
    "                \n",
    "    return ds['coolrg']\n",
    "\n",
    "\n",
    "def pltdata_cooling_1(ds_cool_crd=None, ds_cool_wgt=None):\n",
    "    \n",
    "\n",
    "\n",
    "    colors = all_palettes['Set1'][4]\n",
    "    data = [{'label': 'CRD',\n",
    "             'srs': fmt_cool(ds_cool_crd),\n",
    "             'line_dash': 'solid', 'line_width': 1.5,\n",
    "             'marker': 'circle', 'marker_size': 5,\n",
    "             'color': colors[2], 'alpha': 1,},\n",
    "            {'label': 'WGT igg=10',\n",
    "             'srs': fmt_cool(ds_cool_wgt.sel(igg=10)),\n",
    "             'line_dash': 'solid', 'line_width': 3,\n",
    "             'marker': 'square', 'marker_size': 5,\n",
    "             'color': colors[3], 'alpha': .6},\n",
    "            {'label': 'WGT igg=1',\n",
    "             'srs': fmt_cool(ds_cool_wgt.sel(igg=1)),\n",
    "             'line_dash': 'dotdash', 'line_width': 3,\n",
    "             'marker': 'inverted_triangle', 'marker_size': 5,\n",
    "             'color': colors[1], 'alpha': .6}\n",
    "           ]\n",
    "    return data\n",
    "\n",
    "\n",
    "def nice_xlims(pltdata=None, prange=None):\n",
    "    \n",
    "    def get_slice(srs):\n",
    "        return srs.sel(pressure=slice(*prange))\n",
    "    \n",
    "    srss = [d['srs'] for d in pltdata]\n",
    "    vmin = min([get_slice(srs).min() for srs in srss])\n",
    "    vmax = max([get_slice(srs).max() for srs in srss])\n",
    "    dv = (vmax - vmin) * .01\n",
    "    return float(vmin - dv), float(vmax + dv)\n",
    "    \n",
    "\n",
    "def plt_cooling_bokeh(pltdata=None):\n",
    "    '''\n",
    "    Plot a list of cooling rate profiles using bokeh.\n",
    "    '''\n",
    "    ymin = 1e-2 \n",
    "    ymax = 1020 \n",
    "        \n",
    "    p1 = figure(title=\"Linear pressure scale\", \n",
    "                plot_width=400)        \n",
    "    xmin, xmax = nice_xlims(pltdata, prange=(50, 1050))\n",
    "    for d in pltdata:\n",
    "        if 'marker' in d:\n",
    "            getattr(p1, d['marker'])(d['srs'].values, \n",
    "                    d['srs'].coords['pressure'].values,\n",
    "                    color=d['color'], alpha=.7)\n",
    "        p1.line(d['srs'].values, \n",
    "                d['srs'].coords['pressure'].values,\n",
    "                color=d['color'], alpha=d['alpha'], \n",
    "                line_width=d['line_width'], line_dash=d['line_dash'])\n",
    "    \n",
    "    p1.y_range = Range1d(ymax, ymin)\n",
    "    p1.yaxis.axis_label = 'pressure [mb]'   \n",
    "    p1.x_range = Range1d(xmin, xmax)\n",
    "    p1.xaxis.axis_label = 'cooling rate [K/day]'\n",
    "            \n",
    "    p2 = figure(title='Log pressure scale', y_axis_type='log',\n",
    "                plot_width=560)\n",
    "    xmin, xmax = nice_xlims(pltdata, prange=(.01, 200))\n",
    "    \n",
    "    rs = []\n",
    "    for d in pltdata:\n",
    "        rd = []\n",
    "        if 'marker' in d:\n",
    "            r_mark = getattr(p2, d['marker'])(d['srs'].values, \n",
    "                        d['srs'].coords['pressure'].values,\n",
    "                        color=d['color'], alpha=.7)\n",
    "            rd.append(r_mark)\n",
    "        r_line = p2.line(d['srs'].values, \n",
    "                    d['srs'].coords['pressure'].values,\n",
    "                    color=d['color'], alpha=d['alpha'], \n",
    "                    line_width=d['line_width'], line_dash=d['line_dash'])\n",
    "        rd.append(r_line)\n",
    "      \n",
    "        rs.append(rd)\n",
    "        \n",
    "    p2.y_range = Range1d(ymax, ymin)  \n",
    "    p2.yaxis.axis_label = 'pressure [mb]'\n",
    "    \n",
    "    p2.x_range = Range1d(xmin, xmax)\n",
    "    p2.xaxis.axis_label = 'cooling rate [K/day]'\n",
    "    \n",
    "    items = [(d['label'], r) for r, d in zip(rs, pltdata)]\n",
    "    legend = Legend(items=items, location=(10, -30))\n",
    "    legend.label_text_font_size = '8pt'\n",
    "    \n",
    "    p2.add_layout(legend, 'right')  \n",
    "    \n",
    "    show(gridplot(p1, p2, ncols=2, plot_height=500))\n",
    "    \n",
    "\n",
    "def script_plt_cooling():\n",
    "    pltdata = pltdata_cooling_1(\n",
    "        ds_cool_crd=DS_COOL_CRD,\n",
    "        ds_cool_wgt=DS_COOL_WGT)\n",
    "    plt_cooling_bokeh(pltdata=pltdata)\n",
    "    print('''FIGURE. Cooling rate profiles.''')"
   ]
  },
  {
   "cell_type": "code",
   "execution_count": 8,
   "metadata": {
    "collapsed": true
   },
   "outputs": [],
   "source": [
    "def fmt_flux(ds_in):\n",
    "    ds = ds_in.copy(deep=True)\n",
    "    \n",
    "    for l in ('level', 'layer'):\n",
    "        if l in ds.data_vars:\n",
    "            if len(ds[l].dims) > 1:\n",
    "                surface = {d: 0 for d in ds.dims if d != 'pressure'}\n",
    "                coord_level = ds[l][surface]\n",
    "                ds.coords[l] = ('pressure', coord_level)\n",
    "            else:\n",
    "                ds.coords[l] = ('pressure', ds[l])\n",
    "        \n",
    "    ds = ds.isel(pressure=[0, 23, -1])\n",
    "    \n",
    "    if 'igg' in ds.dims:\n",
    "        if ds.dims['igg'] > 1:\n",
    "            print('Select an igg value to view in table.')\n",
    "            raise ValueError\n",
    "        else:\n",
    "            ds = ds.squeeze('igg').drop('igg')\n",
    "    else:\n",
    "        if 'igg' in ds.coords:\n",
    "            ds = ds.drop('igg')\n",
    "\n",
    "    if 'g' in ds.dims:\n",
    "        ds = ds.sum('g')\n",
    "            \n",
    "    if 'band' in ds.dims:\n",
    "        try:\n",
    "            ds = ds.squeeze('band').drop('band')\n",
    "        except ValueError:\n",
    "            ds = ds.sum('band')\n",
    "                \n",
    "    df = ds.to_dataframe()\n",
    "    df = df.set_index('level', append=True)               \n",
    "    return df\n",
    "\n",
    "\n",
    "def tbdata_flux(ds_flux_crd=None, ds_flux_wgt=None):\n",
    "    ilevels = [0, 23, -1]\n",
    "            \n",
    "    benchmark = {'label': 'CRD',\n",
    "                 'df': fmt_flux(ds_flux_crd)}\n",
    "    tbs = [{'label': 'WGT igg=10',\n",
    "            'df': fmt_flux(ds_flux_wgt.sel(igg=10))},\n",
    "           {'label': 'WGT igg=1',\n",
    "            'df': fmt_flux(ds_flux_wgt.sel(igg=1))}]\n",
    "    \n",
    "    data = {'benchmark': benchmark, 'others': tbs}\n",
    "    return data\n",
    "\n",
    "\n",
    "def tb_flux(tbdata=None):\n",
    "    benchmark = tbdata['benchmark']\n",
    "    others = tbdata['others']\n",
    "    \n",
    "    def show_tb(d=None):\n",
    "        display.display(d['df'])\n",
    "        print('Table.', 'Fluxes.', d['label'])\n",
    "        \n",
    "    def show_tbdiff(d0=None, d=None):\n",
    "        df = d['df']\n",
    "        df.index = d0['df'].index\n",
    "        display.display(df - d0['df'])\n",
    "        print('Table.', 'Fluxes.', \n",
    "              '({}) - ({})'.format(d['label'], d0['label']))\n",
    "        \n",
    "    show_tb(benchmark)\n",
    "    for d in others:\n",
    "        show_tb(d)\n",
    "        \n",
    "    for d in others:\n",
    "        show_tbdiff(d=d, d0=benchmark)\n",
    "        \n",
    "        \n",
    "def script_tb_flux():\n",
    "    data = tbdata_flux(ds_flux_crd=DS_FLUX_CRD,\n",
    "                       ds_flux_wgt=DS_FLUX_WGT)\n",
    "    tb_flux(tbdata=data)"
   ]
  },
  {
   "cell_type": "code",
   "execution_count": 9,
   "metadata": {
    "collapsed": true
   },
   "outputs": [],
   "source": [
    "def band_map():\n",
    "    '''\n",
    "    Maps spectral bands in lblnew to spectral bands in clirad.\n",
    "    '''\n",
    "    lblnew2clirad = {'1': '1',\n",
    "            '2': '2',\n",
    "            '3a': '3',\n",
    "            '3b': '4',\n",
    "            '3c': '5',\n",
    "            '4': '6', \n",
    "            '5': '7',\n",
    "            '6': '8',\n",
    "            '7': '9', \n",
    "            '8': '10',\n",
    "            '9': '11'}\n",
    "    \n",
    "    clirad2lblnew = {clirad: lblnew \n",
    "                     for lblnew, clirad in lblnew2clirad.items()}\n",
    "    return clirad2lblnew\n",
    "\n",
    "\n",
    "def gasbands():\n",
    "    bmap = band_map()\n",
    "    gases = list(PARAM['molecule'].keys())\n",
    "    \n",
    "    bands = [str(b) for b in PARAM['band']]\n",
    "    return list(itertools.product(gases, bands))\n",
    "\n",
    "\n",
    "def print_bestfit_params():\n",
    "    print('Best-fit values for each (gas, band)')\n",
    "    print('------------------------------------')\n",
    "    for gas, band in gasbands():\n",
    "        print('o {} band{}'.format(gas, band))\n",
    "        param = bestfits.kdist_params(molecule=gas, band=band)\n",
    "        for name, value in param.items():\n",
    "            print(2 * ' ' + '{} = {}'.format(name, value))\n",
    "\n",
    "        \n",
    "def print_input_param():        \n",
    "    for name, value in PARAM.items():\n",
    "        print('{} = {}'.format(name, value))\n"
   ]
  },
  {
   "cell_type": "code",
   "execution_count": 10,
   "metadata": {
    "collapsed": true,
    "scrolled": false
   },
   "outputs": [],
   "source": [
    "def show_html(s):\n",
    "    display.display(display.HTML(s))\n",
    "\n",
    "    \n",
    "def show_markdown(s):\n",
    "    display.display(display.Markdown(s))\n",
    "\n",
    "    \n",
    "def script():\n",
    "    \n",
    "    title = '### LBLNEW-OVERLAP'\n",
    "    s_input = 'Input Parameters'\n",
    "    s_bestfits = 'Best-fit Parameters'\n",
    "    s_plt_cooling = 'Cooling Rate Profiles'\n",
    "    s_tb_flux = 'Flux Comparison'\n",
    "    \n",
    "    # title\n",
    "    show_markdown(title)\n",
    "    \n",
    "    # TOC\n",
    "    show_markdown('### Table of Contents')\n",
    "    show_html(climahtml.getHTML_hrefanchor(s_input))\n",
    "    show_html(climahtml.getHTML_hrefanchor(s_plt_cooling))\n",
    "    show_html(climahtml.getHTML_hrefanchor(s_tb_flux))\n",
    "    show_html(climahtml.getHTML_hrefanchor(s_bestfits))\n",
    "    \n",
    "    # Input parameters\n",
    "    show_html(climahtml.getHTML_idanchor(s_input))\n",
    "    show_markdown(climahtml.getMarkdown_sectitle(s_input))\n",
    "    print_input_param()\n",
    "    \n",
    "    # Cooling rate profiles\n",
    "    show_html(climahtml.getHTML_idanchor(s_plt_cooling))\n",
    "    show_markdown(climahtml.getMarkdown_sectitle(s_plt_cooling))\n",
    "    script_plt_cooling()\n",
    "    \n",
    "    # Flux comparison\n",
    "    show_html(climahtml.getHTML_idanchor(s_tb_flux))\n",
    "    show_markdown(climahtml.getMarkdown_sectitle(s_tb_flux))\n",
    "    script_tb_flux()\n",
    "    \n",
    "    # Best-fit values\n",
    "    show_html(climahtml.getHTML_idanchor(s_bestfits))\n",
    "    show_markdown(climahtml.getMarkdown_sectitle(s_bestfits))\n",
    "    print_bestfit_params()\n",
    "   \n",
    "    "
   ]
  },
  {
   "cell_type": "code",
   "execution_count": 11,
   "metadata": {
    "scrolled": false
   },
   "outputs": [
    {
     "data": {
      "text/markdown": [
       "### LBLNEW-OVERLAP"
      ],
      "text/plain": [
       "<IPython.core.display.Markdown object>"
      ]
     },
     "metadata": {},
     "output_type": "display_data"
    },
    {
     "data": {
      "text/markdown": [
       "### Table of Contents"
      ],
      "text/plain": [
       "<IPython.core.display.Markdown object>"
      ]
     },
     "metadata": {},
     "output_type": "display_data"
    },
    {
     "data": {
      "text/html": [
       "<a href=\"#Input_Parameters\">Input Parameters</a>"
      ],
      "text/plain": [
       "<IPython.core.display.HTML object>"
      ]
     },
     "metadata": {},
     "output_type": "display_data"
    },
    {
     "data": {
      "text/html": [
       "<a href=\"#Cooling_Rate_Profiles\">Cooling Rate Profiles</a>"
      ],
      "text/plain": [
       "<IPython.core.display.HTML object>"
      ]
     },
     "metadata": {},
     "output_type": "display_data"
    },
    {
     "data": {
      "text/html": [
       "<a href=\"#Flux_Comparison\">Flux Comparison</a>"
      ],
      "text/plain": [
       "<IPython.core.display.HTML object>"
      ]
     },
     "metadata": {},
     "output_type": "display_data"
    },
    {
     "data": {
      "text/html": [
       "<a href=\"#Best-fit_Parameters\">Best-fit Parameters</a>"
      ],
      "text/plain": [
       "<IPython.core.display.HTML object>"
      ]
     },
     "metadata": {},
     "output_type": "display_data"
    },
    {
     "data": {
      "text/html": [
       "<a id=\"Input_Parameters\"></a>"
      ],
      "text/plain": [
       "<IPython.core.display.HTML object>"
      ]
     },
     "metadata": {},
     "output_type": "display_data"
    },
    {
     "data": {
      "text/markdown": [
       "# Input Parameters"
      ],
      "text/plain": [
       "<IPython.core.display.Markdown object>"
      ]
     },
     "metadata": {},
     "output_type": "display_data"
    },
    {
     "name": "stdout",
     "output_type": "stream",
     "text": [
      "commitnumber = 043bdfe\n",
      "molecule = {'h2o': 'atmpro', 'co2': 0.0004}\n",
      "band = 9\n",
      "nv = 20\n",
      "dv = 0.05\n",
      "atmpro = mls\n",
      "tsfc = 294\n"
     ]
    },
    {
     "data": {
      "text/html": [
       "<a id=\"Cooling_Rate_Profiles\"></a>"
      ],
      "text/plain": [
       "<IPython.core.display.HTML object>"
      ]
     },
     "metadata": {},
     "output_type": "display_data"
    },
    {
     "data": {
      "text/markdown": [
       "# Cooling Rate Profiles"
      ],
      "text/plain": [
       "<IPython.core.display.Markdown object>"
      ]
     },
     "metadata": {},
     "output_type": "display_data"
    },
    {
     "data": {
      "text/html": [
       "\n",
       "<div class=\"bk-root\">\n",
       "    <div class=\"bk-plotdiv\" id=\"f56fd399-8db3-4674-976a-7c2964201e82\"></div>\n",
       "</div>"
      ]
     },
     "metadata": {},
     "output_type": "display_data"
    },
    {
     "data": {
      "application/javascript": [
       "(function(root) {\n",
       "  function embed_document(root) {\n",
       "    \n",
       "  var docs_json = {\"c14a7de4-6196-4a8c-a4de-fe2a0268b170\":{\"roots\":{\"references\":[{\"attributes\":{},\"id\":\"4caa599d-6939-4a64-99f3-836338bcca12\",\"type\":\"HelpTool\"},{\"attributes\":{\"callback\":null,\"end\":0.26914948645000003,\"start\":-0.08216467145},\"id\":\"4d5366d3-fa5f-477e-b30c-890827d74d29\",\"type\":\"Range1d\"},{\"attributes\":{\"line_alpha\":0.6,\"line_color\":\"#377eb8\",\"line_dash\":[2,4,6,4],\"line_width\":3,\"x\":{\"field\":\"x\"},\"y\":{\"field\":\"y\"}},\"id\":\"4da1a187-b93f-413a-a9f5-2b5f4f47780b\",\"type\":\"Line\"},{\"attributes\":{\"data_source\":{\"id\":\"f467f5b3-c266-4476-bcea-c169005932c1\",\"type\":\"ColumnDataSource\"},\"glyph\":{\"id\":\"ece3db03-e788-4033-af82-8589d645cd0a\",\"type\":\"Line\"},\"hover_glyph\":null,\"muted_glyph\":null,\"nonselection_glyph\":{\"id\":\"b4cf1ab1-831a-434e-a4c2-11a80dfb5e9c\",\"type\":\"Line\"},\"selection_glyph\":null,\"view\":{\"id\":\"be39a3bb-d653-41c9-9bb2-bc2ee628d73d\",\"type\":\"CDSView\"}},\"id\":\"5a511655-1cb0-4589-9cc5-590489307290\",\"type\":\"GlyphRenderer\"},{\"attributes\":{\"line_alpha\":0.1,\"line_color\":\"#1f77b4\",\"line_dash\":[2,4,6,4],\"line_width\":3,\"x\":{\"field\":\"x\"},\"y\":{\"field\":\"y\"}},\"id\":\"c934f97a-28c9-45d4-96c0-9c4cf0b09523\",\"type\":\"Line\"},{\"attributes\":{\"data_source\":{\"id\":\"e8a5f07f-3a2b-4ff7-a6ec-2474e999f72d\",\"type\":\"ColumnDataSource\"},\"glyph\":{\"id\":\"4da1a187-b93f-413a-a9f5-2b5f4f47780b\",\"type\":\"Line\"},\"hover_glyph\":null,\"muted_glyph\":null,\"nonselection_glyph\":{\"id\":\"c934f97a-28c9-45d4-96c0-9c4cf0b09523\",\"type\":\"Line\"},\"selection_glyph\":null,\"view\":{\"id\":\"9f4a7dbd-4b82-442e-87db-f5fbced981e8\",\"type\":\"CDSView\"}},\"id\":\"9312acbf-fd5f-455c-959b-6bb4572ecad3\",\"type\":\"GlyphRenderer\"},{\"attributes\":{\"bottom_units\":\"screen\",\"fill_alpha\":{\"value\":0.5},\"fill_color\":{\"value\":\"lightgrey\"},\"left_units\":\"screen\",\"level\":\"overlay\",\"line_alpha\":{\"value\":1.0},\"line_color\":{\"value\":\"black\"},\"line_dash\":[4,4],\"line_width\":{\"value\":2},\"plot\":null,\"render_mode\":\"css\",\"right_units\":\"screen\",\"top_units\":\"screen\"},\"id\":\"768a417e-79be-4e0e-8314-30df9c7b7b45\",\"type\":\"BoxAnnotation\"},{\"attributes\":{\"source\":{\"id\":\"e8a5f07f-3a2b-4ff7-a6ec-2474e999f72d\",\"type\":\"ColumnDataSource\"}},\"id\":\"9f4a7dbd-4b82-442e-87db-f5fbced981e8\",\"type\":\"CDSView\"},{\"attributes\":{\"items\":[{\"id\":\"3b06dacf-88b9-4d2a-8cf6-ab1715906a47\",\"type\":\"LegendItem\"},{\"id\":\"ff24a111-ece7-4776-b3b4-6a126a201329\",\"type\":\"LegendItem\"},{\"id\":\"5f8b2814-9d8b-4a8f-acb7-85120e898a18\",\"type\":\"LegendItem\"}],\"label_text_font_size\":{\"value\":\"8pt\"},\"location\":[10,-30],\"plot\":{\"id\":\"d3a160f5-93c8-474a-8e7f-1d7a462f4ee9\",\"subtype\":\"Figure\",\"type\":\"Plot\"}},\"id\":\"048715d9-3c13-47a3-a51d-9be404c9250f\",\"type\":\"Legend\"},{\"attributes\":{\"fill_alpha\":{\"value\":0.7},\"fill_color\":{\"value\":\"#377eb8\"},\"line_alpha\":{\"value\":0.7},\"line_color\":{\"value\":\"#377eb8\"},\"x\":{\"field\":\"x\"},\"y\":{\"field\":\"y\"}},\"id\":\"99682f3d-f0fd-4926-b6ed-b1130ccc5f8c\",\"type\":\"InvertedTriangle\"},{\"attributes\":{\"callback\":null,\"column_names\":[\"x\",\"y\"],\"data\":{\"x\":{\"__ndarray__\":\"OWY0TTM41z8x3+rOTXrIP7YECR+E38E/f43Gz7aCtT+Qi6S82nqfP0QQVzbCjoa/RQ0+foO3or/7GfoB8bWov83OzfeG1Kq/6wmF5ymbq7+EV0StZiasv/z7XNLw5Ky/uQsbBYs6rr/M+7Ziqlmxv/JpL1GmGbS/rEFl6hjRs7+P77jM3IiwvyzgQnd51ai/B7dSWyw9m78788lZN78Yv6hLRbF8YKA/QaVjMV6xuT9NYN/zaE/MP04caT4hGsw/TgVgLKF1wj8eB/ORc+a6P6DgQTckg7I/t709BUlqpD+a/8dx9rqMP4v0XlnCCmI/YNW/fbsyYT88sisJppxjPy5V+8kX+lA/miG6iLSrLr9+ej+4ulhTv1xUoNqNs1q/pfyY1cqrW79V0rinEx9bv9RnEc7KnWG/lQnL2azTaL++U+R86Hxsv5itO62J62q/5dTjOcGQa78A0kPcuJ9tvyn714cv8m6/HYCZn75Nbr8NLssGeulsvw4HdRHnaGu/fEieAXPBab9+MxZ2nTlnvwJMRd0h4mK/QEsUuLXAV79+BuDi1cMwv2tVjQ19MVQ/TaoPCwldaD/S+eWVqCx0P8sC1Lqn0Hw/fX5Qgnt4gz8YioVr/xSIP/BQIxNBs4s/Ogr5aL1Ujj/TsW6vETCQP6wIDpojTJE/e6x5ixDpkj/bKJk5sF6VPwhumvod45g/ySAPLjFXnT911WQPsgGhP/FJ5fV576I/sFp9mxxDpD8aagCu5UelP//dK4i7WaY/hgi0S4appz/bsOUWbIOpP52HJ3w1jrA/\",\"dtype\":\"float64\",\"shape\":[75]},\"y\":{\"__ndarray__\":\"GhExyth1ND/Sv8nbtpRIP2vylNV0PVE/aTum7souWD/At0SJ8fVgPw3Iuahxymc/MSNhhJWvcD/bTfBN02d3P2zb5nxnaoA/CD5h5MAGhz8NmeH1TyaQP+zrCsc9p5Y/LbKd76fGnz/bLW5ISEmmPww9YvTcQq8/JV2OstnstT8Er5Y7M8G+P0c+r3jqkcU/5h99k6ZBzj88bCIzFzjVP4enV8oyxN0//yH99nXg5D8qOpLLf0jtP5kqGJXUifQ/c9cS8kHP/D+/DpwzojQEQIEmwoanVwxA4lgXt9HgE0BSSZ2AJuIbQAMJih9jjiNA5q4l5INuK0AwTKYKRj0zQNv5fmq8/DpAaCJseHrtQkB/+zpwzoxKQM3MzMzMeFJAZmZmZmZqWEAAAAAAAFxeQM3MzMzMJmJAmpmZmZkfZUBmZmZmZhhoQDMzMzMzEWtAAAAAAAAKbkBmZmZmZoFwQM3MzMzM/XFAMzMzMzN6c0CamZmZmfZ0QAAAAAAAc3ZAZmZmZmbvd0DNzMzMzGt5QDMzMzMz6HpAmpmZmZlkfEAAAAAAAOF9QGZmZmZmXX9AZmZmZuZsgECamZmZGSuBQM3MzMxM6YFAAAAAAICngkAzMzMzs2WDQGZmZmbmI4RAmpmZmRnihEDNzMzMTKCFQAAAAACAXoZAMzMzM7Mch0BmZmZm5tqHQJqZmZkZmYhAzczMzExXiUAAAAAAgBWKQDMzMzOz04pAZmZmZuaRi0CamZmZGVCMQM3MzMxMDo1AAAAAAIDMjUAzMzMzs4qOQGZmZmbmSI9A\",\"dtype\":\"float64\",\"shape\":[75]}}},\"id\":\"d760de35-5304-4fe7-9178-db60b59366a4\",\"type\":\"ColumnDataSource\"},{\"attributes\":{\"dimension\":1,\"plot\":{\"id\":\"4374a7fd-3847-4f85-8bc4-d0e644a1a0aa\",\"subtype\":\"Figure\",\"type\":\"Plot\"},\"ticker\":{\"id\":\"a06dca6d-52ce-42fe-b743-3a3f91c98895\",\"type\":\"BasicTicker\"}},\"id\":\"2eef29d4-dddb-42dd-96b1-b404b74e514a\",\"type\":\"Grid\"},{\"attributes\":{\"callback\":null,\"column_names\":[\"x\",\"y\"],\"data\":{\"x\":{\"__ndarray__\":\"mrwaA1+P1z/bCNUXU3rFP1nrODyMYr8/8jd+Ae0psz+0ZkWD/Z+gP6zRhfGH4XK/WOpeyYNknb+CoFp/doClv+VyAiH5Tai/K7nHKIjnqb/wfCAooFGqvxpdlI+TeKu/LYg3IWOkrr+AFGMDYymxv7gunybf3rO/LdrzZwUntL8poKy/9cawv8AVzSZn+Km/jZgqLzFKn78wv/2//Ydzv7kTjE2ik54/reGevtDpuj/AEZMmlHTNP6FNimbQFs0//ZXfs799wj8adQh3wqa5Pxk+LBi447A/JRF6M/Ovoj/S1dltcFKPP8Kz9TbzsHM/oF7IoYAYYT+JleOro/5YP5kBBWZqxkg/uFisuND4yb6Z4MvmXalOv7RYM79NUFm/jW+ThXviWr/ETlTVFFhavw4KyCuQmGG/FA9IOxeKaL/Xv+6i1lVsv6u+Fpsm0Wq/pvk622mMar9K2lWUh49sv8In2c9CQG6/Exa3/zjJbb/I/AAFzsJsv4UiiPSVJ2u/vHK3j8eRaL9yYQ6OkzNlvzj5X725V2C/eyBtdLL6Ub8jS2tBbpgSvzfw8s6LlVQ/95RSz3/hZj+eUSH8nqhyP3KwzwSQf3o/6jzSs+wPgj+TdpGsPZiGP9aMkKq77Io/hPSi41s5jj9K+raLKYuQP8ow39ujIJI/5Nyd6s3+kz8oalLSD1+WP/BDuqx9kpk/fS5fBn+ZnT/4H325beSgP53/hJ7AgKI//NNXoZKEoz8lAomxQk2kP21a5+efQ6U/PS/G1B51pj8C5aoK8W6oP9NC6PGSN7A/\",\"dtype\":\"float64\",\"shape\":[75]},\"y\":{\"__ndarray__\":\"GhExyth1ND/Sv8nbtpRIP2vylNV0PVE/aTum7souWD/At0SJ8fVgPw3Iuahxymc/MSNhhJWvcD/bTfBN02d3P2zb5nxnaoA/CD5h5MAGhz8NmeH1TyaQP+zrCsc9p5Y/LbKd76fGnz/bLW5ISEmmPww9YvTcQq8/JV2OstnstT8Er5Y7M8G+P0c+r3jqkcU/5h99k6ZBzj88bCIzFzjVP4enV8oyxN0//yH99nXg5D8qOpLLf0jtP5kqGJXUifQ/c9cS8kHP/D+/DpwzojQEQIEmwoanVwxA4lgXt9HgE0BSSZ2AJuIbQAMJih9jjiNA5q4l5INuK0AwTKYKRj0zQNv5fmq8/DpAaCJseHrtQkB/+zpwzoxKQM3MzMzMeFJAZmZmZmZqWEAAAAAAAFxeQM3MzMzMJmJAmpmZmZkfZUBmZmZmZhhoQDMzMzMzEWtAAAAAAAAKbkBmZmZmZoFwQM3MzMzM/XFAMzMzMzN6c0CamZmZmfZ0QAAAAAAAc3ZAZmZmZmbvd0DNzMzMzGt5QDMzMzMz6HpAmpmZmZlkfEAAAAAAAOF9QGZmZmZmXX9AZmZmZuZsgECamZmZGSuBQM3MzMxM6YFAAAAAAICngkAzMzMzs2WDQGZmZmbmI4RAmpmZmRnihEDNzMzMTKCFQAAAAACAXoZAMzMzM7Mch0BmZmZm5tqHQJqZmZkZmYhAzczMzExXiUAAAAAAgBWKQDMzMzOz04pAZmZmZuaRi0CamZmZGVCMQM3MzMxMDo1AAAAAAIDMjUAzMzMzs4qOQGZmZmbmSI9A\",\"dtype\":\"float64\",\"shape\":[75]}}},\"id\":\"e8a5f07f-3a2b-4ff7-a6ec-2474e999f72d\",\"type\":\"ColumnDataSource\"},{\"attributes\":{\"label\":{\"value\":\"WGT igg=10\"},\"renderers\":[{\"id\":\"7cf2a4fa-a0ac-47bc-bca3-f850afb337ff\",\"type\":\"GlyphRenderer\"},{\"id\":\"00613a76-6bd1-41ac-9c94-7c1b9ae6b464\",\"type\":\"GlyphRenderer\"}]},\"id\":\"ff24a111-ece7-4776-b3b4-6a126a201329\",\"type\":\"LegendItem\"},{\"attributes\":{\"children\":[{\"id\":\"4873e642-88ce-455d-a7ed-25db7c086526\",\"type\":\"Row\"}]},\"id\":\"8d9b1728-0558-4872-b3cf-ee37bea73a6a\",\"type\":\"Column\"},{\"attributes\":{},\"id\":\"f51639f6-9f97-4f55-810b-53a43b7b4b1d\",\"type\":\"WheelZoomTool\"},{\"attributes\":{\"fill_alpha\":{\"value\":0.7},\"fill_color\":{\"value\":\"#984ea3\"},\"line_alpha\":{\"value\":0.7},\"line_color\":{\"value\":\"#984ea3\"},\"x\":{\"field\":\"x\"},\"y\":{\"field\":\"y\"}},\"id\":\"13339d65-348e-41a1-82e4-a9af9c351440\",\"type\":\"Square\"},{\"attributes\":{\"children\":[{\"id\":\"4374a7fd-3847-4f85-8bc4-d0e644a1a0aa\",\"subtype\":\"Figure\",\"type\":\"Plot\"},{\"id\":\"d3a160f5-93c8-474a-8e7f-1d7a462f4ee9\",\"subtype\":\"Figure\",\"type\":\"Plot\"}]},\"id\":\"4873e642-88ce-455d-a7ed-25db7c086526\",\"type\":\"Row\"},{\"attributes\":{\"dimension\":1,\"plot\":{\"id\":\"d3a160f5-93c8-474a-8e7f-1d7a462f4ee9\",\"subtype\":\"Figure\",\"type\":\"Plot\"},\"ticker\":{\"id\":\"a203f38a-b950-444f-a017-08699363bc70\",\"type\":\"LogTicker\"}},\"id\":\"332d4b81-6ad7-479b-94fd-36e6aedf609f\",\"type\":\"Grid\"},{\"attributes\":{\"source\":{\"id\":\"f467f5b3-c266-4476-bcea-c169005932c1\",\"type\":\"ColumnDataSource\"}},\"id\":\"be39a3bb-d653-41c9-9bb2-bc2ee628d73d\",\"type\":\"CDSView\"},{\"attributes\":{\"source\":{\"id\":\"ebc3d201-276d-4296-a1ad-4fc3918e6ae8\",\"type\":\"ColumnDataSource\"}},\"id\":\"243b5208-e27f-44b6-9f63-2f15db5e1bec\",\"type\":\"CDSView\"},{\"attributes\":{\"fill_alpha\":{\"value\":0.1},\"fill_color\":{\"value\":\"#1f77b4\"},\"line_alpha\":{\"value\":0.1},\"line_color\":{\"value\":\"#1f77b4\"},\"x\":{\"field\":\"x\"},\"y\":{\"field\":\"y\"}},\"id\":\"9565dcad-bab2-43d0-bf53-c4cc26834c6e\",\"type\":\"InvertedTriangle\"},{\"attributes\":{\"label\":{\"value\":\"CRD\"},\"renderers\":[{\"id\":\"48f17888-25ed-427a-8f27-a62cdd17df42\",\"type\":\"GlyphRenderer\"},{\"id\":\"7bb8b865-d050-47ea-9b86-0e078b5ed35f\",\"type\":\"GlyphRenderer\"}]},\"id\":\"3b06dacf-88b9-4d2a-8cf6-ab1715906a47\",\"type\":\"LegendItem\"},{\"attributes\":{\"toolbar\":{\"id\":\"e05cbe45-7d02-4c4e-a55a-a6f3d1fcf79a\",\"type\":\"ProxyToolbar\"},\"toolbar_location\":\"above\"},\"id\":\"7e7ee974-01d1-45d4-b11d-c5b4efd9a600\",\"type\":\"ToolbarBox\"},{\"attributes\":{\"label\":{\"value\":\"WGT igg=1\"},\"renderers\":[{\"id\":\"c405d95b-e0ea-479f-9d2e-e5b263f944b0\",\"type\":\"GlyphRenderer\"},{\"id\":\"9312acbf-fd5f-455c-959b-6bb4572ecad3\",\"type\":\"GlyphRenderer\"}]},\"id\":\"5f8b2814-9d8b-4a8f-acb7-85120e898a18\",\"type\":\"LegendItem\"},{\"attributes\":{\"tools\":[{\"id\":\"735a39f8-ca2e-4f4c-9130-5328fb5f6f0c\",\"type\":\"PanTool\"},{\"id\":\"ec274452-3c81-44cc-9eb6-932dbe83d05c\",\"type\":\"WheelZoomTool\"},{\"id\":\"4ec649ca-0b87-4348-bd1d-9abd3bf15a7d\",\"type\":\"BoxZoomTool\"},{\"id\":\"23926388-9bdc-4843-ad30-3e1e66dcea53\",\"type\":\"SaveTool\"},{\"id\":\"e91122b5-4875-4d7f-8c01-9994c4a414f8\",\"type\":\"ResetTool\"},{\"id\":\"bf98db8f-b15d-41c7-8bd4-3469e5088504\",\"type\":\"HelpTool\"},{\"id\":\"599b933b-99ee-41f2-9c9b-0cb4cb8aebf9\",\"type\":\"PanTool\"},{\"id\":\"f51639f6-9f97-4f55-810b-53a43b7b4b1d\",\"type\":\"WheelZoomTool\"},{\"id\":\"87ba4152-1e2b-4274-bb41-3423f2023627\",\"type\":\"BoxZoomTool\"},{\"id\":\"6eca15e8-dc4c-4af5-ae24-acf00d1429a0\",\"type\":\"SaveTool\"},{\"id\":\"dae78cea-39f6-445c-9208-23b23ee7eec5\",\"type\":\"ResetTool\"},{\"id\":\"4caa599d-6939-4a64-99f3-836338bcca12\",\"type\":\"HelpTool\"}]},\"id\":\"e05cbe45-7d02-4c4e-a55a-a6f3d1fcf79a\",\"type\":\"ProxyToolbar\"},{\"attributes\":{\"children\":[{\"id\":\"7e7ee974-01d1-45d4-b11d-c5b4efd9a600\",\"type\":\"ToolbarBox\"},{\"id\":\"8d9b1728-0558-4872-b3cf-ee37bea73a6a\",\"type\":\"Column\"}]},\"id\":\"24e25f48-1f38-4a49-a23a-40c07c0238ff\",\"type\":\"Column\"},{\"attributes\":{},\"id\":\"6eca15e8-dc4c-4af5-ae24-acf00d1429a0\",\"type\":\"SaveTool\"},{\"attributes\":{},\"id\":\"5bd6f80f-2894-446f-9915-a18b2879a4a3\",\"type\":\"LinearScale\"},{\"attributes\":{},\"id\":\"dae78cea-39f6-445c-9208-23b23ee7eec5\",\"type\":\"ResetTool\"},{\"attributes\":{\"source\":{\"id\":\"ec37def5-9c06-43b4-a9b6-c3cdcc772728\",\"type\":\"ColumnDataSource\"}},\"id\":\"a1096617-02ff-40fe-a1ae-3e4ead30e05a\",\"type\":\"CDSView\"},{\"attributes\":{\"active_drag\":\"auto\",\"active_inspect\":\"auto\",\"active_scroll\":\"auto\",\"active_tap\":\"auto\",\"tools\":[{\"id\":\"735a39f8-ca2e-4f4c-9130-5328fb5f6f0c\",\"type\":\"PanTool\"},{\"id\":\"ec274452-3c81-44cc-9eb6-932dbe83d05c\",\"type\":\"WheelZoomTool\"},{\"id\":\"4ec649ca-0b87-4348-bd1d-9abd3bf15a7d\",\"type\":\"BoxZoomTool\"},{\"id\":\"23926388-9bdc-4843-ad30-3e1e66dcea53\",\"type\":\"SaveTool\"},{\"id\":\"e91122b5-4875-4d7f-8c01-9994c4a414f8\",\"type\":\"ResetTool\"},{\"id\":\"bf98db8f-b15d-41c7-8bd4-3469e5088504\",\"type\":\"HelpTool\"}]},\"id\":\"90f72146-8797-4e0f-9f1f-3368f5e22ee0\",\"type\":\"Toolbar\"},{\"attributes\":{\"callback\":null,\"column_names\":[\"x\",\"y\"],\"data\":{\"x\":{\"__ndarray__\":\"mrwaA1+P1z/bCNUXU3rFP1nrODyMYr8/8jd+Ae0psz+0ZkWD/Z+gP6zRhfGH4XK/WOpeyYNknb+CoFp/doClv+VyAiH5Tai/K7nHKIjnqb/wfCAooFGqvxpdlI+TeKu/LYg3IWOkrr+AFGMDYymxv7gunybf3rO/LdrzZwUntL8poKy/9cawv8AVzSZn+Km/jZgqLzFKn78wv/2//Ydzv7kTjE2ik54/reGevtDpuj/AEZMmlHTNP6FNimbQFs0//ZXfs799wj8adQh3wqa5Pxk+LBi447A/JRF6M/Ovoj/S1dltcFKPP8Kz9TbzsHM/oF7IoYAYYT+JleOro/5YP5kBBWZqxkg/uFisuND4yb6Z4MvmXalOv7RYM79NUFm/jW+ThXviWr/ETlTVFFhavw4KyCuQmGG/FA9IOxeKaL/Xv+6i1lVsv6u+Fpsm0Wq/pvk622mMar9K2lWUh49sv8In2c9CQG6/Exa3/zjJbb/I/AAFzsJsv4UiiPSVJ2u/vHK3j8eRaL9yYQ6OkzNlvzj5X725V2C/eyBtdLL6Ub8jS2tBbpgSvzfw8s6LlVQ/95RSz3/hZj+eUSH8nqhyP3KwzwSQf3o/6jzSs+wPgj+TdpGsPZiGP9aMkKq77Io/hPSi41s5jj9K+raLKYuQP8ow39ujIJI/5Nyd6s3+kz8oalLSD1+WP/BDuqx9kpk/fS5fBn+ZnT/4H325beSgP53/hJ7AgKI//NNXoZKEoz8lAomxQk2kP21a5+efQ6U/PS/G1B51pj8C5aoK8W6oP9NC6PGSN7A/\",\"dtype\":\"float64\",\"shape\":[75]},\"y\":{\"__ndarray__\":\"GhExyth1ND/Sv8nbtpRIP2vylNV0PVE/aTum7souWD/At0SJ8fVgPw3Iuahxymc/MSNhhJWvcD/bTfBN02d3P2zb5nxnaoA/CD5h5MAGhz8NmeH1TyaQP+zrCsc9p5Y/LbKd76fGnz/bLW5ISEmmPww9YvTcQq8/JV2OstnstT8Er5Y7M8G+P0c+r3jqkcU/5h99k6ZBzj88bCIzFzjVP4enV8oyxN0//yH99nXg5D8qOpLLf0jtP5kqGJXUifQ/c9cS8kHP/D+/DpwzojQEQIEmwoanVwxA4lgXt9HgE0BSSZ2AJuIbQAMJih9jjiNA5q4l5INuK0AwTKYKRj0zQNv5fmq8/DpAaCJseHrtQkB/+zpwzoxKQM3MzMzMeFJAZmZmZmZqWEAAAAAAAFxeQM3MzMzMJmJAmpmZmZkfZUBmZmZmZhhoQDMzMzMzEWtAAAAAAAAKbkBmZmZmZoFwQM3MzMzM/XFAMzMzMzN6c0CamZmZmfZ0QAAAAAAAc3ZAZmZmZmbvd0DNzMzMzGt5QDMzMzMz6HpAmpmZmZlkfEAAAAAAAOF9QGZmZmZmXX9AZmZmZuZsgECamZmZGSuBQM3MzMxM6YFAAAAAAICngkAzMzMzs2WDQGZmZmbmI4RAmpmZmRnihEDNzMzMTKCFQAAAAACAXoZAMzMzM7Mch0BmZmZm5tqHQJqZmZkZmYhAzczMzExXiUAAAAAAgBWKQDMzMzOz04pAZmZmZuaRi0CamZmZGVCMQM3MzMxMDo1AAAAAAIDMjUAzMzMzs4qOQGZmZmbmSI9A\",\"dtype\":\"float64\",\"shape\":[75]}}},\"id\":\"ebc3d201-276d-4296-a1ad-4fc3918e6ae8\",\"type\":\"ColumnDataSource\"},{\"attributes\":{\"callback\":null,\"end\":0.01,\"start\":1020},\"id\":\"cb78b2a7-f58f-48aa-bedd-2ed67c61f3a6\",\"type\":\"Range1d\"},{\"attributes\":{},\"id\":\"d0fd6f4b-b794-410f-9d43-8ccfced3d07a\",\"type\":\"BasicTickFormatter\"},{\"attributes\":{\"callback\":null,\"end\":0.01,\"start\":1020},\"id\":\"b668b015-c627-4fcd-bf47-2aa219f6a665\",\"type\":\"Range1d\"},{\"attributes\":{\"plot\":{\"id\":\"4374a7fd-3847-4f85-8bc4-d0e644a1a0aa\",\"subtype\":\"Figure\",\"type\":\"Plot\"},\"ticker\":{\"id\":\"7ff90280-fecb-4297-80c0-95e026d60f56\",\"type\":\"BasicTicker\"}},\"id\":\"23453ac9-c52f-468f-a112-a9aacfd27586\",\"type\":\"Grid\"},{\"attributes\":{},\"id\":\"7ff90280-fecb-4297-80c0-95e026d60f56\",\"type\":\"BasicTicker\"},{\"attributes\":{\"data_source\":{\"id\":\"013a714a-6143-4c4d-b54a-d97061e060a6\",\"type\":\"ColumnDataSource\"},\"glyph\":{\"id\":\"1775b7e6-233c-4185-9cc1-ba015964849a\",\"type\":\"Line\"},\"hover_glyph\":null,\"muted_glyph\":null,\"nonselection_glyph\":{\"id\":\"0eeaf984-2707-4409-b9c2-8e1efd43d3aa\",\"type\":\"Line\"},\"selection_glyph\":null,\"view\":{\"id\":\"0d14c34b-416f-4b3b-aa57-a9cf212a2739\",\"type\":\"CDSView\"}},\"id\":\"7bb8b865-d050-47ea-9b86-0e078b5ed35f\",\"type\":\"GlyphRenderer\"},{\"attributes\":{\"ticker\":null},\"id\":\"030163b1-aa44-461a-809a-7b8745b4ca0c\",\"type\":\"LogTickFormatter\"},{\"attributes\":{},\"id\":\"e91122b5-4875-4d7f-8c01-9994c4a414f8\",\"type\":\"ResetTool\"},{\"attributes\":{\"below\":[{\"id\":\"fb8e5a65-9f92-4207-9e52-fe3166ec99cf\",\"type\":\"LinearAxis\"}],\"left\":[{\"id\":\"1648ba09-6abd-4778-845d-5592fc545fd4\",\"type\":\"LinearAxis\"}],\"plot_height\":500,\"plot_width\":400,\"renderers\":[{\"id\":\"fb8e5a65-9f92-4207-9e52-fe3166ec99cf\",\"type\":\"LinearAxis\"},{\"id\":\"23453ac9-c52f-468f-a112-a9aacfd27586\",\"type\":\"Grid\"},{\"id\":\"1648ba09-6abd-4778-845d-5592fc545fd4\",\"type\":\"LinearAxis\"},{\"id\":\"2eef29d4-dddb-42dd-96b1-b404b74e514a\",\"type\":\"Grid\"},{\"id\":\"768a417e-79be-4e0e-8314-30df9c7b7b45\",\"type\":\"BoxAnnotation\"},{\"id\":\"4eebdfbb-4541-44c0-a3c8-d820449ec7b4\",\"type\":\"GlyphRenderer\"},{\"id\":\"5a511655-1cb0-4589-9cc5-590489307290\",\"type\":\"GlyphRenderer\"},{\"id\":\"dd092281-3f1a-41f2-a886-8b64654ca7e0\",\"type\":\"GlyphRenderer\"},{\"id\":\"2bcd424b-e7a4-48bf-8e6b-70d3f3513ef3\",\"type\":\"GlyphRenderer\"},{\"id\":\"452fbcfa-63f3-4d39-8360-9683a56d8b1e\",\"type\":\"GlyphRenderer\"},{\"id\":\"44262678-eb51-4697-a8a5-f31cddbca99a\",\"type\":\"GlyphRenderer\"}],\"title\":{\"id\":\"ef043cb3-a17c-4db3-9435-ffc509469900\",\"type\":\"Title\"},\"toolbar\":{\"id\":\"90f72146-8797-4e0f-9f1f-3368f5e22ee0\",\"type\":\"Toolbar\"},\"toolbar_location\":null,\"x_range\":{\"id\":\"d523ac09-1038-4b2e-9ade-4c10482f4789\",\"type\":\"Range1d\"},\"x_scale\":{\"id\":\"b53353e5-c011-42b3-a1af-968b3cd20f30\",\"type\":\"LinearScale\"},\"y_range\":{\"id\":\"b668b015-c627-4fcd-bf47-2aa219f6a665\",\"type\":\"Range1d\"},\"y_scale\":{\"id\":\"5bd6f80f-2894-446f-9915-a18b2879a4a3\",\"type\":\"LinearScale\"}},\"id\":\"4374a7fd-3847-4f85-8bc4-d0e644a1a0aa\",\"subtype\":\"Figure\",\"type\":\"Plot\"},{\"attributes\":{\"callback\":null,\"column_names\":[\"x\",\"y\"],\"data\":{\"x\":{\"__ndarray__\":\"OWY0TTM41z8x3+rOTXrIP7YECR+E38E/f43Gz7aCtT+Qi6S82nqfP0QQVzbCjoa/RQ0+foO3or/7GfoB8bWov83OzfeG1Kq/6wmF5ymbq7+EV0StZiasv/z7XNLw5Ky/uQsbBYs6rr/M+7Ziqlmxv/JpL1GmGbS/rEFl6hjRs7+P77jM3IiwvyzgQnd51ai/B7dSWyw9m78788lZN78Yv6hLRbF8YKA/QaVjMV6xuT9NYN/zaE/MP04caT4hGsw/TgVgLKF1wj8eB/ORc+a6P6DgQTckg7I/t709BUlqpD+a/8dx9rqMP4v0XlnCCmI/YNW/fbsyYT88sisJppxjPy5V+8kX+lA/miG6iLSrLr9+ej+4ulhTv1xUoNqNs1q/pfyY1cqrW79V0rinEx9bv9RnEc7KnWG/lQnL2azTaL++U+R86Hxsv5itO62J62q/5dTjOcGQa78A0kPcuJ9tvyn714cv8m6/HYCZn75Nbr8NLssGeulsvw4HdRHnaGu/fEieAXPBab9+MxZ2nTlnvwJMRd0h4mK/QEsUuLXAV79+BuDi1cMwv2tVjQ19MVQ/TaoPCwldaD/S+eWVqCx0P8sC1Lqn0Hw/fX5Qgnt4gz8YioVr/xSIP/BQIxNBs4s/Ogr5aL1Ujj/TsW6vETCQP6wIDpojTJE/e6x5ixDpkj/bKJk5sF6VPwhumvod45g/ySAPLjFXnT911WQPsgGhP/FJ5fV576I/sFp9mxxDpD8aagCu5UelP//dK4i7WaY/hgi0S4appz/bsOUWbIOpP52HJ3w1jrA/\",\"dtype\":\"float64\",\"shape\":[75]},\"y\":{\"__ndarray__\":\"GhExyth1ND/Sv8nbtpRIP2vylNV0PVE/aTum7souWD/At0SJ8fVgPw3Iuahxymc/MSNhhJWvcD/bTfBN02d3P2zb5nxnaoA/CD5h5MAGhz8NmeH1TyaQP+zrCsc9p5Y/LbKd76fGnz/bLW5ISEmmPww9YvTcQq8/JV2OstnstT8Er5Y7M8G+P0c+r3jqkcU/5h99k6ZBzj88bCIzFzjVP4enV8oyxN0//yH99nXg5D8qOpLLf0jtP5kqGJXUifQ/c9cS8kHP/D+/DpwzojQEQIEmwoanVwxA4lgXt9HgE0BSSZ2AJuIbQAMJih9jjiNA5q4l5INuK0AwTKYKRj0zQNv5fmq8/DpAaCJseHrtQkB/+zpwzoxKQM3MzMzMeFJAZmZmZmZqWEAAAAAAAFxeQM3MzMzMJmJAmpmZmZkfZUBmZmZmZhhoQDMzMzMzEWtAAAAAAAAKbkBmZmZmZoFwQM3MzMzM/XFAMzMzMzN6c0CamZmZmfZ0QAAAAAAAc3ZAZmZmZmbvd0DNzMzMzGt5QDMzMzMz6HpAmpmZmZlkfEAAAAAAAOF9QGZmZmZmXX9AZmZmZuZsgECamZmZGSuBQM3MzMxM6YFAAAAAAICngkAzMzMzs2WDQGZmZmbmI4RAmpmZmRnihEDNzMzMTKCFQAAAAACAXoZAMzMzM7Mch0BmZmZm5tqHQJqZmZkZmYhAzczMzExXiUAAAAAAgBWKQDMzMzOz04pAZmZmZuaRi0CamZmZGVCMQM3MzMxMDo1AAAAAAIDMjUAzMzMzs4qOQGZmZmbmSI9A\",\"dtype\":\"float64\",\"shape\":[75]}}},\"id\":\"ab2f87d6-70c3-4421-a9c6-e2d5eba8cf72\",\"type\":\"ColumnDataSource\"},{\"attributes\":{\"data_source\":{\"id\":\"ec37def5-9c06-43b4-a9b6-c3cdcc772728\",\"type\":\"ColumnDataSource\"},\"glyph\":{\"id\":\"1a0bf672-2e04-45c4-9087-08778347664d\",\"type\":\"Circle\"},\"hover_glyph\":null,\"muted_glyph\":null,\"nonselection_glyph\":{\"id\":\"e6114704-d3a0-4f9a-915b-49abf9e56610\",\"type\":\"Circle\"},\"selection_glyph\":null,\"view\":{\"id\":\"a1096617-02ff-40fe-a1ae-3e4ead30e05a\",\"type\":\"CDSView\"}},\"id\":\"48f17888-25ed-427a-8f27-a62cdd17df42\",\"type\":\"GlyphRenderer\"},{\"attributes\":{\"line_color\":\"#4daf4a\",\"line_width\":1.5,\"x\":{\"field\":\"x\"},\"y\":{\"field\":\"y\"}},\"id\":\"1775b7e6-233c-4185-9cc1-ba015964849a\",\"type\":\"Line\"},{\"attributes\":{\"overlay\":{\"id\":\"b8530ac9-e7bf-449c-b0a5-0c15635ba7b0\",\"type\":\"BoxAnnotation\"}},\"id\":\"87ba4152-1e2b-4274-bb41-3423f2023627\",\"type\":\"BoxZoomTool\"},{\"attributes\":{\"axis_label\":\"cooling rate [K/day]\",\"formatter\":{\"id\":\"df46556f-f13e-4e6a-8a37-797f8ec1ebcf\",\"type\":\"BasicTickFormatter\"},\"plot\":{\"id\":\"4374a7fd-3847-4f85-8bc4-d0e644a1a0aa\",\"subtype\":\"Figure\",\"type\":\"Plot\"},\"ticker\":{\"id\":\"7ff90280-fecb-4297-80c0-95e026d60f56\",\"type\":\"BasicTicker\"}},\"id\":\"fb8e5a65-9f92-4207-9e52-fe3166ec99cf\",\"type\":\"LinearAxis\"},{\"attributes\":{},\"id\":\"ec274452-3c81-44cc-9eb6-932dbe83d05c\",\"type\":\"WheelZoomTool\"},{\"attributes\":{\"data_source\":{\"id\":\"d760de35-5304-4fe7-9178-db60b59366a4\",\"type\":\"ColumnDataSource\"},\"glyph\":{\"id\":\"13339d65-348e-41a1-82e4-a9af9c351440\",\"type\":\"Square\"},\"hover_glyph\":null,\"muted_glyph\":null,\"nonselection_glyph\":{\"id\":\"5f2f72ac-963c-497f-8fd7-d12711b4cc85\",\"type\":\"Square\"},\"selection_glyph\":null,\"view\":{\"id\":\"81057939-dc93-49f6-907f-eb500f9c5430\",\"type\":\"CDSView\"}},\"id\":\"dd092281-3f1a-41f2-a886-8b64654ca7e0\",\"type\":\"GlyphRenderer\"},{\"attributes\":{\"fill_alpha\":{\"value\":0.1},\"fill_color\":{\"value\":\"#1f77b4\"},\"line_alpha\":{\"value\":0.1},\"line_color\":{\"value\":\"#1f77b4\"},\"x\":{\"field\":\"x\"},\"y\":{\"field\":\"y\"}},\"id\":\"c5c83705-d4dd-40d4-897f-b441e1e49ffe\",\"type\":\"Circle\"},{\"attributes\":{\"data_source\":{\"id\":\"ebc3d201-276d-4296-a1ad-4fc3918e6ae8\",\"type\":\"ColumnDataSource\"},\"glyph\":{\"id\":\"99682f3d-f0fd-4926-b6ed-b1130ccc5f8c\",\"type\":\"InvertedTriangle\"},\"hover_glyph\":null,\"muted_glyph\":null,\"nonselection_glyph\":{\"id\":\"9565dcad-bab2-43d0-bf53-c4cc26834c6e\",\"type\":\"InvertedTriangle\"},\"selection_glyph\":null,\"view\":{\"id\":\"243b5208-e27f-44b6-9f63-2f15db5e1bec\",\"type\":\"CDSView\"}},\"id\":\"c405d95b-e0ea-479f-9d2e-e5b263f944b0\",\"type\":\"GlyphRenderer\"},{\"attributes\":{\"data_source\":{\"id\":\"ab2f87d6-70c3-4421-a9c6-e2d5eba8cf72\",\"type\":\"ColumnDataSource\"},\"glyph\":{\"id\":\"dbb20aaf-6236-4053-b42f-98fbc11060b9\",\"type\":\"Line\"},\"hover_glyph\":null,\"muted_glyph\":null,\"nonselection_glyph\":{\"id\":\"fb49fc52-2d36-4392-a425-1e9b84ea9b78\",\"type\":\"Line\"},\"selection_glyph\":null,\"view\":{\"id\":\"f74f948a-ec52-45ec-afe2-2cbd39970fc7\",\"type\":\"CDSView\"}},\"id\":\"00613a76-6bd1-41ac-9c94-7c1b9ae6b464\",\"type\":\"GlyphRenderer\"},{\"attributes\":{\"callback\":null,\"column_names\":[\"x\",\"y\"],\"data\":{\"x\":{\"__ndarray__\":\"vVzdFANizD/Ko67EIteaP9am6Wd1aJQ/UymP0a4Ahj/IEgRthQBuP8/3gK1MIFe/TBT29N4Gd78xkhB4JgyEv8iQCDKncI2/6b9iaNArk79WiapGTNyYv9BkJQSwo52/FSnP55zSob9zx+mLh26nv+bPQvjTI66/ZTOeQIwbsL/4msdcd8WtvxfnMN7daqu/EBEiDEhqpr8xrZypT/OXv5j3eu9WM5I/ojMfxloyvT9geU6CUAHRP9nLGf6R8dA/Yerf3PwSwz8ig462J9G0PzLFbUscLac/mDPt+LVJmT9Zu0u0dJ2LP7v6t949n3w/7GrvJWacYz9Z8lHNYsBBvw6UIfDDJlK/Q63AeIlMRr9YRIuoUQlKv6RpFomFMVS/BQRYe891V7+nlyNijWVYvzhGVB/G71+/91fyJRJUZr+WJdoP4bFpv18D8WVaDmi/oER1wqVNZ79eM44Ut3Fnv9EW5myZBmi/KcmIPQwjaL8ErgELTQtnv3v/poVApmS/+lo3qHTlYL/WPMFhzXhXv6SBIneysEW/57Yae8xgKz+XkeWhyV5TP86r+I4zsGI/Rn36HuHzbD+4qEe4H2B0P8bmc4aTSHs/mq+PIG4tgj8BgPQxRdeGP70imm5Jdos/vqNZ6GkRkD+Vg7j2LnOSP5FcXLX77ZQ/cNFmKDCVlz+PcMLTF4GaP4lk/aPF0p0/rNoXy1K9oD/7pgRSz3OiP88yKCaxnKM/7ARXIEoZpD/GsuyLfEWkP54NDUztk6Q/OCp0tGNQpT/UUg6gvummP0XL2taxcq4/\",\"dtype\":\"float64\",\"shape\":[75]},\"y\":{\"__ndarray__\":\"GhExyth1ND/Sv8nbtpRIP2vylNV0PVE/aTum7souWD/At0SJ8fVgPw3Iuahxymc/MSNhhJWvcD/bTfBN02d3P2zb5nxnaoA/CD5h5MAGhz8NmeH1TyaQP+zrCsc9p5Y/LbKd76fGnz/bLW5ISEmmPww9YvTcQq8/JV2OstnstT8Er5Y7M8G+P0c+r3jqkcU/5h99k6ZBzj88bCIzFzjVP4enV8oyxN0//yH99nXg5D8qOpLLf0jtP5kqGJXUifQ/c9cS8kHP/D+/DpwzojQEQIEmwoanVwxA4lgXt9HgE0BSSZ2AJuIbQAMJih9jjiNA5q4l5INuK0AwTKYKRj0zQNv5fmq8/DpAaCJseHrtQkB/+zpwzoxKQM3MzMzMeFJAZmZmZmZqWEAAAAAAAFxeQM3MzMzMJmJAmpmZmZkfZUBmZmZmZhhoQDMzMzMzEWtAAAAAAAAKbkBmZmZmZoFwQM3MzMzM/XFAMzMzMzN6c0CamZmZmfZ0QAAAAAAAc3ZAZmZmZmbvd0DNzMzMzGt5QDMzMzMz6HpAmpmZmZlkfEAAAAAAAOF9QGZmZmZmXX9AZmZmZuZsgECamZmZGSuBQM3MzMxM6YFAAAAAAICngkAzMzMzs2WDQGZmZmbmI4RAmpmZmRnihEDNzMzMTKCFQAAAAACAXoZAMzMzM7Mch0BmZmZm5tqHQJqZmZkZmYhAzczMzExXiUAAAAAAgBWKQDMzMzOz04pAZmZmZuaRi0CamZmZGVCMQM3MzMxMDo1AAAAAAIDMjUAzMzMzs4qOQGZmZmbmSI9A\",\"dtype\":\"float64\",\"shape\":[75]}}},\"id\":\"f467f5b3-c266-4476-bcea-c169005932c1\",\"type\":\"ColumnDataSource\"},{\"attributes\":{\"overlay\":{\"id\":\"768a417e-79be-4e0e-8314-30df9c7b7b45\",\"type\":\"BoxAnnotation\"}},\"id\":\"4ec649ca-0b87-4348-bd1d-9abd3bf15a7d\",\"type\":\"BoxZoomTool\"},{\"attributes\":{\"source\":{\"id\":\"d3d718c6-79cf-4bb0-9f12-fee191f4cd9f\",\"type\":\"ColumnDataSource\"}},\"id\":\"387493ae-2fe4-490d-a980-fbb8b0a00088\",\"type\":\"CDSView\"},{\"attributes\":{\"plot\":null,\"text\":\"Linear pressure scale\"},\"id\":\"ef043cb3-a17c-4db3-9435-ffc509469900\",\"type\":\"Title\"},{\"attributes\":{},\"id\":\"735a39f8-ca2e-4f4c-9130-5328fb5f6f0c\",\"type\":\"PanTool\"},{\"attributes\":{\"bottom_units\":\"screen\",\"fill_alpha\":{\"value\":0.5},\"fill_color\":{\"value\":\"lightgrey\"},\"left_units\":\"screen\",\"level\":\"overlay\",\"line_alpha\":{\"value\":1.0},\"line_color\":{\"value\":\"black\"},\"line_dash\":[4,4],\"line_width\":{\"value\":2},\"plot\":null,\"render_mode\":\"css\",\"right_units\":\"screen\",\"top_units\":\"screen\"},\"id\":\"b8530ac9-e7bf-449c-b0a5-0c15635ba7b0\",\"type\":\"BoxAnnotation\"},{\"attributes\":{\"callback\":null,\"column_names\":[\"x\",\"y\"],\"data\":{\"x\":{\"__ndarray__\":\"OWY0TTM41z8x3+rOTXrIP7YECR+E38E/f43Gz7aCtT+Qi6S82nqfP0QQVzbCjoa/RQ0+foO3or/7GfoB8bWov83OzfeG1Kq/6wmF5ymbq7+EV0StZiasv/z7XNLw5Ky/uQsbBYs6rr/M+7Ziqlmxv/JpL1GmGbS/rEFl6hjRs7+P77jM3IiwvyzgQnd51ai/B7dSWyw9m78788lZN78Yv6hLRbF8YKA/QaVjMV6xuT9NYN/zaE/MP04caT4hGsw/TgVgLKF1wj8eB/ORc+a6P6DgQTckg7I/t709BUlqpD+a/8dx9rqMP4v0XlnCCmI/YNW/fbsyYT88sisJppxjPy5V+8kX+lA/miG6iLSrLr9+ej+4ulhTv1xUoNqNs1q/pfyY1cqrW79V0rinEx9bv9RnEc7KnWG/lQnL2azTaL++U+R86Hxsv5itO62J62q/5dTjOcGQa78A0kPcuJ9tvyn714cv8m6/HYCZn75Nbr8NLssGeulsvw4HdRHnaGu/fEieAXPBab9+MxZ2nTlnvwJMRd0h4mK/QEsUuLXAV79+BuDi1cMwv2tVjQ19MVQ/TaoPCwldaD/S+eWVqCx0P8sC1Lqn0Hw/fX5Qgnt4gz8YioVr/xSIP/BQIxNBs4s/Ogr5aL1Ujj/TsW6vETCQP6wIDpojTJE/e6x5ixDpkj/bKJk5sF6VPwhumvod45g/ySAPLjFXnT911WQPsgGhP/FJ5fV576I/sFp9mxxDpD8aagCu5UelP//dK4i7WaY/hgi0S4appz/bsOUWbIOpP52HJ3w1jrA/\",\"dtype\":\"float64\",\"shape\":[75]},\"y\":{\"__ndarray__\":\"GhExyth1ND/Sv8nbtpRIP2vylNV0PVE/aTum7souWD/At0SJ8fVgPw3Iuahxymc/MSNhhJWvcD/bTfBN02d3P2zb5nxnaoA/CD5h5MAGhz8NmeH1TyaQP+zrCsc9p5Y/LbKd76fGnz/bLW5ISEmmPww9YvTcQq8/JV2OstnstT8Er5Y7M8G+P0c+r3jqkcU/5h99k6ZBzj88bCIzFzjVP4enV8oyxN0//yH99nXg5D8qOpLLf0jtP5kqGJXUifQ/c9cS8kHP/D+/DpwzojQEQIEmwoanVwxA4lgXt9HgE0BSSZ2AJuIbQAMJih9jjiNA5q4l5INuK0AwTKYKRj0zQNv5fmq8/DpAaCJseHrtQkB/+zpwzoxKQM3MzMzMeFJAZmZmZmZqWEAAAAAAAFxeQM3MzMzMJmJAmpmZmZkfZUBmZmZmZhhoQDMzMzMzEWtAAAAAAAAKbkBmZmZmZoFwQM3MzMzM/XFAMzMzMzN6c0CamZmZmfZ0QAAAAAAAc3ZAZmZmZmbvd0DNzMzMzGt5QDMzMzMz6HpAmpmZmZlkfEAAAAAAAOF9QGZmZmZmXX9AZmZmZuZsgECamZmZGSuBQM3MzMxM6YFAAAAAAICngkAzMzMzs2WDQGZmZmbmI4RAmpmZmRnihEDNzMzMTKCFQAAAAACAXoZAMzMzM7Mch0BmZmZm5tqHQJqZmZkZmYhAzczMzExXiUAAAAAAgBWKQDMzMzOz04pAZmZmZuaRi0CamZmZGVCMQM3MzMxMDo1AAAAAAIDMjUAzMzMzs4qOQGZmZmbmSI9A\",\"dtype\":\"float64\",\"shape\":[75]}}},\"id\":\"6a8ca414-e454-4fa4-80e2-c076ad959c96\",\"type\":\"ColumnDataSource\"},{\"attributes\":{},\"id\":\"bf98db8f-b15d-41c7-8bd4-3469e5088504\",\"type\":\"HelpTool\"},{\"attributes\":{\"fill_alpha\":{\"value\":0.7},\"fill_color\":{\"value\":\"#4daf4a\"},\"line_alpha\":{\"value\":0.7},\"line_color\":{\"value\":\"#4daf4a\"},\"x\":{\"field\":\"x\"},\"y\":{\"field\":\"y\"}},\"id\":\"ed54a1b1-9cc1-45fb-9ed7-80d116119d94\",\"type\":\"Circle\"},{\"attributes\":{\"data_source\":{\"id\":\"6a8ca414-e454-4fa4-80e2-c076ad959c96\",\"type\":\"ColumnDataSource\"},\"glyph\":{\"id\":\"1d5172a7-28f1-424b-9c5c-fbec3ad5bdbf\",\"type\":\"Square\"},\"hover_glyph\":null,\"muted_glyph\":null,\"nonselection_glyph\":{\"id\":\"a7d368fb-8ca1-435c-9951-90a1e193bd60\",\"type\":\"Square\"},\"selection_glyph\":null,\"view\":{\"id\":\"96c592ca-b44b-4f2a-9cb0-4653206ae68a\",\"type\":\"CDSView\"}},\"id\":\"7cf2a4fa-a0ac-47bc-bca3-f850afb337ff\",\"type\":\"GlyphRenderer\"},{\"attributes\":{},\"id\":\"df46556f-f13e-4e6a-8a37-797f8ec1ebcf\",\"type\":\"BasicTickFormatter\"},{\"attributes\":{\"fill_alpha\":{\"value\":0.1},\"fill_color\":{\"value\":\"#1f77b4\"},\"line_alpha\":{\"value\":0.1},\"line_color\":{\"value\":\"#1f77b4\"},\"x\":{\"field\":\"x\"},\"y\":{\"field\":\"y\"}},\"id\":\"5f2f72ac-963c-497f-8fd7-d12711b4cc85\",\"type\":\"Square\"},{\"attributes\":{\"source\":{\"id\":\"ab2f87d6-70c3-4421-a9c6-e2d5eba8cf72\",\"type\":\"ColumnDataSource\"}},\"id\":\"f74f948a-ec52-45ec-afe2-2cbd39970fc7\",\"type\":\"CDSView\"},{\"attributes\":{},\"id\":\"a06dca6d-52ce-42fe-b743-3a3f91c98895\",\"type\":\"BasicTicker\"},{\"attributes\":{\"line_alpha\":0.1,\"line_color\":\"#1f77b4\",\"line_width\":1.5,\"x\":{\"field\":\"x\"},\"y\":{\"field\":\"y\"}},\"id\":\"0eeaf984-2707-4409-b9c2-8e1efd43d3aa\",\"type\":\"Line\"},{\"attributes\":{},\"id\":\"23926388-9bdc-4843-ad30-3e1e66dcea53\",\"type\":\"SaveTool\"},{\"attributes\":{\"fill_alpha\":{\"value\":0.1},\"fill_color\":{\"value\":\"#1f77b4\"},\"line_alpha\":{\"value\":0.1},\"line_color\":{\"value\":\"#1f77b4\"},\"x\":{\"field\":\"x\"},\"y\":{\"field\":\"y\"}},\"id\":\"e6114704-d3a0-4f9a-915b-49abf9e56610\",\"type\":\"Circle\"},{\"attributes\":{\"callback\":null,\"column_names\":[\"x\",\"y\"],\"data\":{\"x\":{\"__ndarray__\":\"vVzdFANizD/Ko67EIteaP9am6Wd1aJQ/UymP0a4Ahj/IEgRthQBuP8/3gK1MIFe/TBT29N4Gd78xkhB4JgyEv8iQCDKncI2/6b9iaNArk79WiapGTNyYv9BkJQSwo52/FSnP55zSob9zx+mLh26nv+bPQvjTI66/ZTOeQIwbsL/4msdcd8WtvxfnMN7daqu/EBEiDEhqpr8xrZypT/OXv5j3eu9WM5I/ojMfxloyvT9geU6CUAHRP9nLGf6R8dA/Yerf3PwSwz8ig462J9G0PzLFbUscLac/mDPt+LVJmT9Zu0u0dJ2LP7v6t949n3w/7GrvJWacYz9Z8lHNYsBBvw6UIfDDJlK/Q63AeIlMRr9YRIuoUQlKv6RpFomFMVS/BQRYe891V7+nlyNijWVYvzhGVB/G71+/91fyJRJUZr+WJdoP4bFpv18D8WVaDmi/oER1wqVNZ79eM44Ut3Fnv9EW5myZBmi/KcmIPQwjaL8ErgELTQtnv3v/poVApmS/+lo3qHTlYL/WPMFhzXhXv6SBIneysEW/57Yae8xgKz+XkeWhyV5TP86r+I4zsGI/Rn36HuHzbD+4qEe4H2B0P8bmc4aTSHs/mq+PIG4tgj8BgPQxRdeGP70imm5Jdos/vqNZ6GkRkD+Vg7j2LnOSP5FcXLX77ZQ/cNFmKDCVlz+PcMLTF4GaP4lk/aPF0p0/rNoXy1K9oD/7pgRSz3OiP88yKCaxnKM/7ARXIEoZpD/GsuyLfEWkP54NDUztk6Q/OCp0tGNQpT/UUg6gvummP0XL2taxcq4/\",\"dtype\":\"float64\",\"shape\":[75]},\"y\":{\"__ndarray__\":\"GhExyth1ND/Sv8nbtpRIP2vylNV0PVE/aTum7souWD/At0SJ8fVgPw3Iuahxymc/MSNhhJWvcD/bTfBN02d3P2zb5nxnaoA/CD5h5MAGhz8NmeH1TyaQP+zrCsc9p5Y/LbKd76fGnz/bLW5ISEmmPww9YvTcQq8/JV2OstnstT8Er5Y7M8G+P0c+r3jqkcU/5h99k6ZBzj88bCIzFzjVP4enV8oyxN0//yH99nXg5D8qOpLLf0jtP5kqGJXUifQ/c9cS8kHP/D+/DpwzojQEQIEmwoanVwxA4lgXt9HgE0BSSZ2AJuIbQAMJih9jjiNA5q4l5INuK0AwTKYKRj0zQNv5fmq8/DpAaCJseHrtQkB/+zpwzoxKQM3MzMzMeFJAZmZmZmZqWEAAAAAAAFxeQM3MzMzMJmJAmpmZmZkfZUBmZmZmZhhoQDMzMzMzEWtAAAAAAAAKbkBmZmZmZoFwQM3MzMzM/XFAMzMzMzN6c0CamZmZmfZ0QAAAAAAAc3ZAZmZmZmbvd0DNzMzMzGt5QDMzMzMz6HpAmpmZmZlkfEAAAAAAAOF9QGZmZmZmXX9AZmZmZuZsgECamZmZGSuBQM3MzMxM6YFAAAAAAICngkAzMzMzs2WDQGZmZmbmI4RAmpmZmRnihEDNzMzMTKCFQAAAAACAXoZAMzMzM7Mch0BmZmZm5tqHQJqZmZkZmYhAzczMzExXiUAAAAAAgBWKQDMzMzOz04pAZmZmZuaRi0CamZmZGVCMQM3MzMxMDo1AAAAAAIDMjUAzMzMzs4qOQGZmZmbmSI9A\",\"dtype\":\"float64\",\"shape\":[75]}}},\"id\":\"013a714a-6143-4c4d-b54a-d97061e060a6\",\"type\":\"ColumnDataSource\"},{\"attributes\":{\"line_color\":\"#4daf4a\",\"line_width\":1.5,\"x\":{\"field\":\"x\"},\"y\":{\"field\":\"y\"}},\"id\":\"ece3db03-e788-4033-af82-8589d645cd0a\",\"type\":\"Line\"},{\"attributes\":{},\"id\":\"b53353e5-c011-42b3-a1af-968b3cd20f30\",\"type\":\"LinearScale\"},{\"attributes\":{\"source\":{\"id\":\"d760de35-5304-4fe7-9178-db60b59366a4\",\"type\":\"ColumnDataSource\"}},\"id\":\"81057939-dc93-49f6-907f-eb500f9c5430\",\"type\":\"CDSView\"},{\"attributes\":{\"source\":{\"id\":\"013a714a-6143-4c4d-b54a-d97061e060a6\",\"type\":\"ColumnDataSource\"}},\"id\":\"0d14c34b-416f-4b3b-aa57-a9cf212a2739\",\"type\":\"CDSView\"},{\"attributes\":{\"line_alpha\":0.1,\"line_color\":\"#1f77b4\",\"line_width\":1.5,\"x\":{\"field\":\"x\"},\"y\":{\"field\":\"y\"}},\"id\":\"b4cf1ab1-831a-434e-a4c2-11a80dfb5e9c\",\"type\":\"Line\"},{\"attributes\":{\"fill_alpha\":{\"value\":0.7},\"fill_color\":{\"value\":\"#984ea3\"},\"line_alpha\":{\"value\":0.7},\"line_color\":{\"value\":\"#984ea3\"},\"x\":{\"field\":\"x\"},\"y\":{\"field\":\"y\"}},\"id\":\"1d5172a7-28f1-424b-9c5c-fbec3ad5bdbf\",\"type\":\"Square\"},{\"attributes\":{\"line_alpha\":0.1,\"line_color\":\"#1f77b4\",\"line_width\":3,\"x\":{\"field\":\"x\"},\"y\":{\"field\":\"y\"}},\"id\":\"fb49fc52-2d36-4392-a425-1e9b84ea9b78\",\"type\":\"Line\"},{\"attributes\":{\"fill_alpha\":{\"value\":0.7},\"fill_color\":{\"value\":\"#4daf4a\"},\"line_alpha\":{\"value\":0.7},\"line_color\":{\"value\":\"#4daf4a\"},\"x\":{\"field\":\"x\"},\"y\":{\"field\":\"y\"}},\"id\":\"1a0bf672-2e04-45c4-9087-08778347664d\",\"type\":\"Circle\"},{\"attributes\":{},\"id\":\"599b933b-99ee-41f2-9c9b-0cb4cb8aebf9\",\"type\":\"PanTool\"},{\"attributes\":{\"source\":{\"id\":\"6a8ca414-e454-4fa4-80e2-c076ad959c96\",\"type\":\"ColumnDataSource\"}},\"id\":\"96c592ca-b44b-4f2a-9cb0-4653206ae68a\",\"type\":\"CDSView\"},{\"attributes\":{\"callback\":null,\"column_names\":[\"x\",\"y\"],\"data\":{\"x\":{\"__ndarray__\":\"vVzdFANizD/Ko67EIteaP9am6Wd1aJQ/UymP0a4Ahj/IEgRthQBuP8/3gK1MIFe/TBT29N4Gd78xkhB4JgyEv8iQCDKncI2/6b9iaNArk79WiapGTNyYv9BkJQSwo52/FSnP55zSob9zx+mLh26nv+bPQvjTI66/ZTOeQIwbsL/4msdcd8WtvxfnMN7daqu/EBEiDEhqpr8xrZypT/OXv5j3eu9WM5I/ojMfxloyvT9geU6CUAHRP9nLGf6R8dA/Yerf3PwSwz8ig462J9G0PzLFbUscLac/mDPt+LVJmT9Zu0u0dJ2LP7v6t949n3w/7GrvJWacYz9Z8lHNYsBBvw6UIfDDJlK/Q63AeIlMRr9YRIuoUQlKv6RpFomFMVS/BQRYe891V7+nlyNijWVYvzhGVB/G71+/91fyJRJUZr+WJdoP4bFpv18D8WVaDmi/oER1wqVNZ79eM44Ut3Fnv9EW5myZBmi/KcmIPQwjaL8ErgELTQtnv3v/poVApmS/+lo3qHTlYL/WPMFhzXhXv6SBIneysEW/57Yae8xgKz+XkeWhyV5TP86r+I4zsGI/Rn36HuHzbD+4qEe4H2B0P8bmc4aTSHs/mq+PIG4tgj8BgPQxRdeGP70imm5Jdos/vqNZ6GkRkD+Vg7j2LnOSP5FcXLX77ZQ/cNFmKDCVlz+PcMLTF4GaP4lk/aPF0p0/rNoXy1K9oD/7pgRSz3OiP88yKCaxnKM/7ARXIEoZpD/GsuyLfEWkP54NDUztk6Q/OCp0tGNQpT/UUg6gvummP0XL2taxcq4/\",\"dtype\":\"float64\",\"shape\":[75]},\"y\":{\"__ndarray__\":\"GhExyth1ND/Sv8nbtpRIP2vylNV0PVE/aTum7souWD/At0SJ8fVgPw3Iuahxymc/MSNhhJWvcD/bTfBN02d3P2zb5nxnaoA/CD5h5MAGhz8NmeH1TyaQP+zrCsc9p5Y/LbKd76fGnz/bLW5ISEmmPww9YvTcQq8/JV2OstnstT8Er5Y7M8G+P0c+r3jqkcU/5h99k6ZBzj88bCIzFzjVP4enV8oyxN0//yH99nXg5D8qOpLLf0jtP5kqGJXUifQ/c9cS8kHP/D+/DpwzojQEQIEmwoanVwxA4lgXt9HgE0BSSZ2AJuIbQAMJih9jjiNA5q4l5INuK0AwTKYKRj0zQNv5fmq8/DpAaCJseHrtQkB/+zpwzoxKQM3MzMzMeFJAZmZmZmZqWEAAAAAAAFxeQM3MzMzMJmJAmpmZmZkfZUBmZmZmZhhoQDMzMzMzEWtAAAAAAAAKbkBmZmZmZoFwQM3MzMzM/XFAMzMzMzN6c0CamZmZmfZ0QAAAAAAAc3ZAZmZmZmbvd0DNzMzMzGt5QDMzMzMz6HpAmpmZmZlkfEAAAAAAAOF9QGZmZmZmXX9AZmZmZuZsgECamZmZGSuBQM3MzMxM6YFAAAAAAICngkAzMzMzs2WDQGZmZmbmI4RAmpmZmRnihEDNzMzMTKCFQAAAAACAXoZAMzMzM7Mch0BmZmZm5tqHQJqZmZkZmYhAzczMzExXiUAAAAAAgBWKQDMzMzOz04pAZmZmZuaRi0CamZmZGVCMQM3MzMxMDo1AAAAAAIDMjUAzMzMzs4qOQGZmZmbmSI9A\",\"dtype\":\"float64\",\"shape\":[75]}}},\"id\":\"d3d718c6-79cf-4bb0-9f12-fee191f4cd9f\",\"type\":\"ColumnDataSource\"},{\"attributes\":{\"line_alpha\":0.6,\"line_color\":\"#984ea3\",\"line_width\":3,\"x\":{\"field\":\"x\"},\"y\":{\"field\":\"y\"}},\"id\":\"dbb20aaf-6236-4053-b42f-98fbc11060b9\",\"type\":\"Line\"},{\"attributes\":{\"fill_alpha\":{\"value\":0.1},\"fill_color\":{\"value\":\"#1f77b4\"},\"line_alpha\":{\"value\":0.1},\"line_color\":{\"value\":\"#1f77b4\"},\"x\":{\"field\":\"x\"},\"y\":{\"field\":\"y\"}},\"id\":\"a7d368fb-8ca1-435c-9951-90a1e193bd60\",\"type\":\"Square\"},{\"attributes\":{\"line_alpha\":0.1,\"line_color\":\"#1f77b4\",\"line_width\":3,\"x\":{\"field\":\"x\"},\"y\":{\"field\":\"y\"}},\"id\":\"f11c4a7d-c044-407b-a2aa-8bfc6cdf112f\",\"type\":\"Line\"},{\"attributes\":{\"callback\":null,\"column_names\":[\"x\",\"y\"],\"data\":{\"x\":{\"__ndarray__\":\"OWY0TTM41z8x3+rOTXrIP7YECR+E38E/f43Gz7aCtT+Qi6S82nqfP0QQVzbCjoa/RQ0+foO3or/7GfoB8bWov83OzfeG1Kq/6wmF5ymbq7+EV0StZiasv/z7XNLw5Ky/uQsbBYs6rr/M+7Ziqlmxv/JpL1GmGbS/rEFl6hjRs7+P77jM3IiwvyzgQnd51ai/B7dSWyw9m78788lZN78Yv6hLRbF8YKA/QaVjMV6xuT9NYN/zaE/MP04caT4hGsw/TgVgLKF1wj8eB/ORc+a6P6DgQTckg7I/t709BUlqpD+a/8dx9rqMP4v0XlnCCmI/YNW/fbsyYT88sisJppxjPy5V+8kX+lA/miG6iLSrLr9+ej+4ulhTv1xUoNqNs1q/pfyY1cqrW79V0rinEx9bv9RnEc7KnWG/lQnL2azTaL++U+R86Hxsv5itO62J62q/5dTjOcGQa78A0kPcuJ9tvyn714cv8m6/HYCZn75Nbr8NLssGeulsvw4HdRHnaGu/fEieAXPBab9+MxZ2nTlnvwJMRd0h4mK/QEsUuLXAV79+BuDi1cMwv2tVjQ19MVQ/TaoPCwldaD/S+eWVqCx0P8sC1Lqn0Hw/fX5Qgnt4gz8YioVr/xSIP/BQIxNBs4s/Ogr5aL1Ujj/TsW6vETCQP6wIDpojTJE/e6x5ixDpkj/bKJk5sF6VPwhumvod45g/ySAPLjFXnT911WQPsgGhP/FJ5fV576I/sFp9mxxDpD8aagCu5UelP//dK4i7WaY/hgi0S4appz/bsOUWbIOpP52HJ3w1jrA/\",\"dtype\":\"float64\",\"shape\":[75]},\"y\":{\"__ndarray__\":\"GhExyth1ND/Sv8nbtpRIP2vylNV0PVE/aTum7souWD/At0SJ8fVgPw3Iuahxymc/MSNhhJWvcD/bTfBN02d3P2zb5nxnaoA/CD5h5MAGhz8NmeH1TyaQP+zrCsc9p5Y/LbKd76fGnz/bLW5ISEmmPww9YvTcQq8/JV2OstnstT8Er5Y7M8G+P0c+r3jqkcU/5h99k6ZBzj88bCIzFzjVP4enV8oyxN0//yH99nXg5D8qOpLLf0jtP5kqGJXUifQ/c9cS8kHP/D+/DpwzojQEQIEmwoanVwxA4lgXt9HgE0BSSZ2AJuIbQAMJih9jjiNA5q4l5INuK0AwTKYKRj0zQNv5fmq8/DpAaCJseHrtQkB/+zpwzoxKQM3MzMzMeFJAZmZmZmZqWEAAAAAAAFxeQM3MzMzMJmJAmpmZmZkfZUBmZmZmZhhoQDMzMzMzEWtAAAAAAAAKbkBmZmZmZoFwQM3MzMzM/XFAMzMzMzN6c0CamZmZmfZ0QAAAAAAAc3ZAZmZmZmbvd0DNzMzMzGt5QDMzMzMz6HpAmpmZmZlkfEAAAAAAAOF9QGZmZmZmXX9AZmZmZuZsgECamZmZGSuBQM3MzMxM6YFAAAAAAICngkAzMzMzs2WDQGZmZmbmI4RAmpmZmRnihEDNzMzMTKCFQAAAAACAXoZAMzMzM7Mch0BmZmZm5tqHQJqZmZkZmYhAzczMzExXiUAAAAAAgBWKQDMzMzOz04pAZmZmZuaRi0CamZmZGVCMQM3MzMxMDo1AAAAAAIDMjUAzMzMzs4qOQGZmZmbmSI9A\",\"dtype\":\"float64\",\"shape\":[75]}}},\"id\":\"3a96d3ce-70ce-459e-a7b1-4f274b074264\",\"type\":\"ColumnDataSource\"},{\"attributes\":{},\"id\":\"c6f938a6-24e5-44f1-b886-dbcf0a6c4616\",\"type\":\"LinearScale\"},{\"attributes\":{\"line_alpha\":0.6,\"line_color\":\"#377eb8\",\"line_dash\":[2,4,6,4],\"line_width\":3,\"x\":{\"field\":\"x\"},\"y\":{\"field\":\"y\"}},\"id\":\"6d8082ae-1f46-46f7-9f43-7c7e1c224b5e\",\"type\":\"Line\"},{\"attributes\":{\"axis_label\":\"pressure [mb]\",\"formatter\":{\"id\":\"030163b1-aa44-461a-809a-7b8745b4ca0c\",\"type\":\"LogTickFormatter\"},\"plot\":{\"id\":\"d3a160f5-93c8-474a-8e7f-1d7a462f4ee9\",\"subtype\":\"Figure\",\"type\":\"Plot\"},\"ticker\":{\"id\":\"a203f38a-b950-444f-a017-08699363bc70\",\"type\":\"LogTicker\"}},\"id\":\"b2bb6801-ee07-43f9-a0d4-e0fea4984d54\",\"type\":\"LogAxis\"},{\"attributes\":{},\"id\":\"939bf2be-df57-4a27-bedd-d3b509447d57\",\"type\":\"LogScale\"},{\"attributes\":{\"active_drag\":\"auto\",\"active_inspect\":\"auto\",\"active_scroll\":\"auto\",\"active_tap\":\"auto\",\"tools\":[{\"id\":\"599b933b-99ee-41f2-9c9b-0cb4cb8aebf9\",\"type\":\"PanTool\"},{\"id\":\"f51639f6-9f97-4f55-810b-53a43b7b4b1d\",\"type\":\"WheelZoomTool\"},{\"id\":\"87ba4152-1e2b-4274-bb41-3423f2023627\",\"type\":\"BoxZoomTool\"},{\"id\":\"6eca15e8-dc4c-4af5-ae24-acf00d1429a0\",\"type\":\"SaveTool\"},{\"id\":\"dae78cea-39f6-445c-9208-23b23ee7eec5\",\"type\":\"ResetTool\"},{\"id\":\"4caa599d-6939-4a64-99f3-836338bcca12\",\"type\":\"HelpTool\"}]},\"id\":\"62293f3f-334e-48e5-a336-c01b25242e40\",\"type\":\"Toolbar\"},{\"attributes\":{\"source\":{\"id\":\"1389129a-fb1a-4d2f-ac6a-6008beb0d82b\",\"type\":\"ColumnDataSource\"}},\"id\":\"a6881ab8-3f9d-49d7-915d-61cda4a1ddaa\",\"type\":\"CDSView\"},{\"attributes\":{\"plot\":{\"id\":\"d3a160f5-93c8-474a-8e7f-1d7a462f4ee9\",\"subtype\":\"Figure\",\"type\":\"Plot\"},\"ticker\":{\"id\":\"a6585c02-98d8-4c9e-85b5-88a49bceba0d\",\"type\":\"BasicTicker\"}},\"id\":\"f7ed5996-9f8a-43b7-9343-0c15470db97c\",\"type\":\"Grid\"},{\"attributes\":{\"axis_label\":\"cooling rate [K/day]\",\"formatter\":{\"id\":\"d0fd6f4b-b794-410f-9d43-8ccfced3d07a\",\"type\":\"BasicTickFormatter\"},\"plot\":{\"id\":\"d3a160f5-93c8-474a-8e7f-1d7a462f4ee9\",\"subtype\":\"Figure\",\"type\":\"Plot\"},\"ticker\":{\"id\":\"a6585c02-98d8-4c9e-85b5-88a49bceba0d\",\"type\":\"BasicTicker\"}},\"id\":\"e9db1a88-847a-469c-bd2f-4c49e755c8ad\",\"type\":\"LinearAxis\"},{\"attributes\":{},\"id\":\"a6585c02-98d8-4c9e-85b5-88a49bceba0d\",\"type\":\"BasicTicker\"},{\"attributes\":{\"num_minor_ticks\":10},\"id\":\"a203f38a-b950-444f-a017-08699363bc70\",\"type\":\"LogTicker\"},{\"attributes\":{\"source\":{\"id\":\"a03e8164-d550-46c8-8218-c703de912b27\",\"type\":\"ColumnDataSource\"}},\"id\":\"aa7813f6-ec2e-4462-9a90-6fcb47560c65\",\"type\":\"CDSView\"},{\"attributes\":{\"callback\":null,\"column_names\":[\"x\",\"y\"],\"data\":{\"x\":{\"__ndarray__\":\"vVzdFANizD/Ko67EIteaP9am6Wd1aJQ/UymP0a4Ahj/IEgRthQBuP8/3gK1MIFe/TBT29N4Gd78xkhB4JgyEv8iQCDKncI2/6b9iaNArk79WiapGTNyYv9BkJQSwo52/FSnP55zSob9zx+mLh26nv+bPQvjTI66/ZTOeQIwbsL/4msdcd8WtvxfnMN7daqu/EBEiDEhqpr8xrZypT/OXv5j3eu9WM5I/ojMfxloyvT9geU6CUAHRP9nLGf6R8dA/Yerf3PwSwz8ig462J9G0PzLFbUscLac/mDPt+LVJmT9Zu0u0dJ2LP7v6t949n3w/7GrvJWacYz9Z8lHNYsBBvw6UIfDDJlK/Q63AeIlMRr9YRIuoUQlKv6RpFomFMVS/BQRYe891V7+nlyNijWVYvzhGVB/G71+/91fyJRJUZr+WJdoP4bFpv18D8WVaDmi/oER1wqVNZ79eM44Ut3Fnv9EW5myZBmi/KcmIPQwjaL8ErgELTQtnv3v/poVApmS/+lo3qHTlYL/WPMFhzXhXv6SBIneysEW/57Yae8xgKz+XkeWhyV5TP86r+I4zsGI/Rn36HuHzbD+4qEe4H2B0P8bmc4aTSHs/mq+PIG4tgj8BgPQxRdeGP70imm5Jdos/vqNZ6GkRkD+Vg7j2LnOSP5FcXLX77ZQ/cNFmKDCVlz+PcMLTF4GaP4lk/aPF0p0/rNoXy1K9oD/7pgRSz3OiP88yKCaxnKM/7ARXIEoZpD/GsuyLfEWkP54NDUztk6Q/OCp0tGNQpT/UUg6gvummP0XL2taxcq4/\",\"dtype\":\"float64\",\"shape\":[75]},\"y\":{\"__ndarray__\":\"GhExyth1ND/Sv8nbtpRIP2vylNV0PVE/aTum7souWD/At0SJ8fVgPw3Iuahxymc/MSNhhJWvcD/bTfBN02d3P2zb5nxnaoA/CD5h5MAGhz8NmeH1TyaQP+zrCsc9p5Y/LbKd76fGnz/bLW5ISEmmPww9YvTcQq8/JV2OstnstT8Er5Y7M8G+P0c+r3jqkcU/5h99k6ZBzj88bCIzFzjVP4enV8oyxN0//yH99nXg5D8qOpLLf0jtP5kqGJXUifQ/c9cS8kHP/D+/DpwzojQEQIEmwoanVwxA4lgXt9HgE0BSSZ2AJuIbQAMJih9jjiNA5q4l5INuK0AwTKYKRj0zQNv5fmq8/DpAaCJseHrtQkB/+zpwzoxKQM3MzMzMeFJAZmZmZmZqWEAAAAAAAFxeQM3MzMzMJmJAmpmZmZkfZUBmZmZmZhhoQDMzMzMzEWtAAAAAAAAKbkBmZmZmZoFwQM3MzMzM/XFAMzMzMzN6c0CamZmZmfZ0QAAAAAAAc3ZAZmZmZmbvd0DNzMzMzGt5QDMzMzMz6HpAmpmZmZlkfEAAAAAAAOF9QGZmZmZmXX9AZmZmZuZsgECamZmZGSuBQM3MzMxM6YFAAAAAAICngkAzMzMzs2WDQGZmZmbmI4RAmpmZmRnihEDNzMzMTKCFQAAAAACAXoZAMzMzM7Mch0BmZmZm5tqHQJqZmZkZmYhAzczMzExXiUAAAAAAgBWKQDMzMzOz04pAZmZmZuaRi0CamZmZGVCMQM3MzMxMDo1AAAAAAIDMjUAzMzMzs4qOQGZmZmbmSI9A\",\"dtype\":\"float64\",\"shape\":[75]}}},\"id\":\"ec37def5-9c06-43b4-a9b6-c3cdcc772728\",\"type\":\"ColumnDataSource\"},{\"attributes\":{\"data_source\":{\"id\":\"1389129a-fb1a-4d2f-ac6a-6008beb0d82b\",\"type\":\"ColumnDataSource\"},\"glyph\":{\"id\":\"6d8082ae-1f46-46f7-9f43-7c7e1c224b5e\",\"type\":\"Line\"},\"hover_glyph\":null,\"muted_glyph\":null,\"nonselection_glyph\":{\"id\":\"e1590b1a-7ecd-4786-a079-8afe06a84140\",\"type\":\"Line\"},\"selection_glyph\":null,\"view\":{\"id\":\"a6881ab8-3f9d-49d7-915d-61cda4a1ddaa\",\"type\":\"CDSView\"}},\"id\":\"44262678-eb51-4697-a8a5-f31cddbca99a\",\"type\":\"GlyphRenderer\"},{\"attributes\":{\"below\":[{\"id\":\"e9db1a88-847a-469c-bd2f-4c49e755c8ad\",\"type\":\"LinearAxis\"}],\"left\":[{\"id\":\"b2bb6801-ee07-43f9-a0d4-e0fea4984d54\",\"type\":\"LogAxis\"}],\"plot_height\":500,\"plot_width\":560,\"renderers\":[{\"id\":\"e9db1a88-847a-469c-bd2f-4c49e755c8ad\",\"type\":\"LinearAxis\"},{\"id\":\"f7ed5996-9f8a-43b7-9343-0c15470db97c\",\"type\":\"Grid\"},{\"id\":\"b2bb6801-ee07-43f9-a0d4-e0fea4984d54\",\"type\":\"LogAxis\"},{\"id\":\"332d4b81-6ad7-479b-94fd-36e6aedf609f\",\"type\":\"Grid\"},{\"id\":\"b8530ac9-e7bf-449c-b0a5-0c15635ba7b0\",\"type\":\"BoxAnnotation\"},{\"id\":\"48f17888-25ed-427a-8f27-a62cdd17df42\",\"type\":\"GlyphRenderer\"},{\"id\":\"7bb8b865-d050-47ea-9b86-0e078b5ed35f\",\"type\":\"GlyphRenderer\"},{\"id\":\"7cf2a4fa-a0ac-47bc-bca3-f850afb337ff\",\"type\":\"GlyphRenderer\"},{\"id\":\"00613a76-6bd1-41ac-9c94-7c1b9ae6b464\",\"type\":\"GlyphRenderer\"},{\"id\":\"c405d95b-e0ea-479f-9d2e-e5b263f944b0\",\"type\":\"GlyphRenderer\"},{\"id\":\"9312acbf-fd5f-455c-959b-6bb4572ecad3\",\"type\":\"GlyphRenderer\"},{\"id\":\"048715d9-3c13-47a3-a51d-9be404c9250f\",\"type\":\"Legend\"}],\"right\":[{\"id\":\"048715d9-3c13-47a3-a51d-9be404c9250f\",\"type\":\"Legend\"}],\"title\":{\"id\":\"09201c35-639a-4898-b5e1-ebb19a151f7d\",\"type\":\"Title\"},\"toolbar\":{\"id\":\"62293f3f-334e-48e5-a336-c01b25242e40\",\"type\":\"Toolbar\"},\"toolbar_location\":null,\"x_range\":{\"id\":\"4d5366d3-fa5f-477e-b30c-890827d74d29\",\"type\":\"Range1d\"},\"x_scale\":{\"id\":\"c6f938a6-24e5-44f1-b886-dbcf0a6c4616\",\"type\":\"LinearScale\"},\"y_range\":{\"id\":\"cb78b2a7-f58f-48aa-bedd-2ed67c61f3a6\",\"type\":\"Range1d\"},\"y_scale\":{\"id\":\"939bf2be-df57-4a27-bedd-d3b509447d57\",\"type\":\"LogScale\"}},\"id\":\"d3a160f5-93c8-474a-8e7f-1d7a462f4ee9\",\"subtype\":\"Figure\",\"type\":\"Plot\"},{\"attributes\":{\"plot\":null,\"text\":\"Log pressure scale\"},\"id\":\"09201c35-639a-4898-b5e1-ebb19a151f7d\",\"type\":\"Title\"},{\"attributes\":{},\"id\":\"828eeadd-02d6-4d11-b3b4-144d33d3e6c0\",\"type\":\"BasicTickFormatter\"},{\"attributes\":{\"callback\":null,\"column_names\":[\"x\",\"y\"],\"data\":{\"x\":{\"__ndarray__\":\"mrwaA1+P1z/bCNUXU3rFP1nrODyMYr8/8jd+Ae0psz+0ZkWD/Z+gP6zRhfGH4XK/WOpeyYNknb+CoFp/doClv+VyAiH5Tai/K7nHKIjnqb/wfCAooFGqvxpdlI+TeKu/LYg3IWOkrr+AFGMDYymxv7gunybf3rO/LdrzZwUntL8poKy/9cawv8AVzSZn+Km/jZgqLzFKn78wv/2//Ydzv7kTjE2ik54/reGevtDpuj/AEZMmlHTNP6FNimbQFs0//ZXfs799wj8adQh3wqa5Pxk+LBi447A/JRF6M/Ovoj/S1dltcFKPP8Kz9TbzsHM/oF7IoYAYYT+JleOro/5YP5kBBWZqxkg/uFisuND4yb6Z4MvmXalOv7RYM79NUFm/jW+ThXviWr/ETlTVFFhavw4KyCuQmGG/FA9IOxeKaL/Xv+6i1lVsv6u+Fpsm0Wq/pvk622mMar9K2lWUh49sv8In2c9CQG6/Exa3/zjJbb/I/AAFzsJsv4UiiPSVJ2u/vHK3j8eRaL9yYQ6OkzNlvzj5X725V2C/eyBtdLL6Ub8jS2tBbpgSvzfw8s6LlVQ/95RSz3/hZj+eUSH8nqhyP3KwzwSQf3o/6jzSs+wPgj+TdpGsPZiGP9aMkKq77Io/hPSi41s5jj9K+raLKYuQP8ow39ujIJI/5Nyd6s3+kz8oalLSD1+WP/BDuqx9kpk/fS5fBn+ZnT/4H325beSgP53/hJ7AgKI//NNXoZKEoz8lAomxQk2kP21a5+efQ6U/PS/G1B51pj8C5aoK8W6oP9NC6PGSN7A/\",\"dtype\":\"float64\",\"shape\":[75]},\"y\":{\"__ndarray__\":\"GhExyth1ND/Sv8nbtpRIP2vylNV0PVE/aTum7souWD/At0SJ8fVgPw3Iuahxymc/MSNhhJWvcD/bTfBN02d3P2zb5nxnaoA/CD5h5MAGhz8NmeH1TyaQP+zrCsc9p5Y/LbKd76fGnz/bLW5ISEmmPww9YvTcQq8/JV2OstnstT8Er5Y7M8G+P0c+r3jqkcU/5h99k6ZBzj88bCIzFzjVP4enV8oyxN0//yH99nXg5D8qOpLLf0jtP5kqGJXUifQ/c9cS8kHP/D+/DpwzojQEQIEmwoanVwxA4lgXt9HgE0BSSZ2AJuIbQAMJih9jjiNA5q4l5INuK0AwTKYKRj0zQNv5fmq8/DpAaCJseHrtQkB/+zpwzoxKQM3MzMzMeFJAZmZmZmZqWEAAAAAAAFxeQM3MzMzMJmJAmpmZmZkfZUBmZmZmZhhoQDMzMzMzEWtAAAAAAAAKbkBmZmZmZoFwQM3MzMzM/XFAMzMzMzN6c0CamZmZmfZ0QAAAAAAAc3ZAZmZmZmbvd0DNzMzMzGt5QDMzMzMz6HpAmpmZmZlkfEAAAAAAAOF9QGZmZmZmXX9AZmZmZuZsgECamZmZGSuBQM3MzMxM6YFAAAAAAICngkAzMzMzs2WDQGZmZmbmI4RAmpmZmRnihEDNzMzMTKCFQAAAAACAXoZAMzMzM7Mch0BmZmZm5tqHQJqZmZkZmYhAzczMzExXiUAAAAAAgBWKQDMzMzOz04pAZmZmZuaRi0CamZmZGVCMQM3MzMxMDo1AAAAAAIDMjUAzMzMzs4qOQGZmZmbmSI9A\",\"dtype\":\"float64\",\"shape\":[75]}}},\"id\":\"a03e8164-d550-46c8-8218-c703de912b27\",\"type\":\"ColumnDataSource\"},{\"attributes\":{\"callback\":null,\"end\":0.065354411285,\"start\":-0.004462067785},\"id\":\"d523ac09-1038-4b2e-9ade-4c10482f4789\",\"type\":\"Range1d\"},{\"attributes\":{\"axis_label\":\"pressure [mb]\",\"formatter\":{\"id\":\"828eeadd-02d6-4d11-b3b4-144d33d3e6c0\",\"type\":\"BasicTickFormatter\"},\"plot\":{\"id\":\"4374a7fd-3847-4f85-8bc4-d0e644a1a0aa\",\"subtype\":\"Figure\",\"type\":\"Plot\"},\"ticker\":{\"id\":\"a06dca6d-52ce-42fe-b743-3a3f91c98895\",\"type\":\"BasicTicker\"}},\"id\":\"1648ba09-6abd-4778-845d-5592fc545fd4\",\"type\":\"LinearAxis\"},{\"attributes\":{\"source\":{\"id\":\"3a96d3ce-70ce-459e-a7b1-4f274b074264\",\"type\":\"ColumnDataSource\"}},\"id\":\"d276c051-e9a8-461d-b813-1410433c9348\",\"type\":\"CDSView\"},{\"attributes\":{\"fill_alpha\":{\"value\":0.1},\"fill_color\":{\"value\":\"#1f77b4\"},\"line_alpha\":{\"value\":0.1},\"line_color\":{\"value\":\"#1f77b4\"},\"x\":{\"field\":\"x\"},\"y\":{\"field\":\"y\"}},\"id\":\"bfe22046-a52f-4e24-8df7-5e3fbc0be6f7\",\"type\":\"InvertedTriangle\"},{\"attributes\":{\"fill_alpha\":{\"value\":0.7},\"fill_color\":{\"value\":\"#377eb8\"},\"line_alpha\":{\"value\":0.7},\"line_color\":{\"value\":\"#377eb8\"},\"x\":{\"field\":\"x\"},\"y\":{\"field\":\"y\"}},\"id\":\"431f9917-9d34-49e4-94b1-0da7b95bacc9\",\"type\":\"InvertedTriangle\"},{\"attributes\":{\"data_source\":{\"id\":\"d3d718c6-79cf-4bb0-9f12-fee191f4cd9f\",\"type\":\"ColumnDataSource\"},\"glyph\":{\"id\":\"ed54a1b1-9cc1-45fb-9ed7-80d116119d94\",\"type\":\"Circle\"},\"hover_glyph\":null,\"muted_glyph\":null,\"nonselection_glyph\":{\"id\":\"c5c83705-d4dd-40d4-897f-b441e1e49ffe\",\"type\":\"Circle\"},\"selection_glyph\":null,\"view\":{\"id\":\"387493ae-2fe4-490d-a980-fbb8b0a00088\",\"type\":\"CDSView\"}},\"id\":\"4eebdfbb-4541-44c0-a3c8-d820449ec7b4\",\"type\":\"GlyphRenderer\"},{\"attributes\":{\"line_alpha\":0.6,\"line_color\":\"#984ea3\",\"line_width\":3,\"x\":{\"field\":\"x\"},\"y\":{\"field\":\"y\"}},\"id\":\"921ca795-4222-4b8e-8b55-59e65f15deaa\",\"type\":\"Line\"},{\"attributes\":{\"data_source\":{\"id\":\"a03e8164-d550-46c8-8218-c703de912b27\",\"type\":\"ColumnDataSource\"},\"glyph\":{\"id\":\"431f9917-9d34-49e4-94b1-0da7b95bacc9\",\"type\":\"InvertedTriangle\"},\"hover_glyph\":null,\"muted_glyph\":null,\"nonselection_glyph\":{\"id\":\"bfe22046-a52f-4e24-8df7-5e3fbc0be6f7\",\"type\":\"InvertedTriangle\"},\"selection_glyph\":null,\"view\":{\"id\":\"aa7813f6-ec2e-4462-9a90-6fcb47560c65\",\"type\":\"CDSView\"}},\"id\":\"452fbcfa-63f3-4d39-8360-9683a56d8b1e\",\"type\":\"GlyphRenderer\"},{\"attributes\":{\"line_alpha\":0.1,\"line_color\":\"#1f77b4\",\"line_dash\":[2,4,6,4],\"line_width\":3,\"x\":{\"field\":\"x\"},\"y\":{\"field\":\"y\"}},\"id\":\"e1590b1a-7ecd-4786-a079-8afe06a84140\",\"type\":\"Line\"},{\"attributes\":{\"callback\":null,\"column_names\":[\"x\",\"y\"],\"data\":{\"x\":{\"__ndarray__\":\"mrwaA1+P1z/bCNUXU3rFP1nrODyMYr8/8jd+Ae0psz+0ZkWD/Z+gP6zRhfGH4XK/WOpeyYNknb+CoFp/doClv+VyAiH5Tai/K7nHKIjnqb/wfCAooFGqvxpdlI+TeKu/LYg3IWOkrr+AFGMDYymxv7gunybf3rO/LdrzZwUntL8poKy/9cawv8AVzSZn+Km/jZgqLzFKn78wv/2//Ydzv7kTjE2ik54/reGevtDpuj/AEZMmlHTNP6FNimbQFs0//ZXfs799wj8adQh3wqa5Pxk+LBi447A/JRF6M/Ovoj/S1dltcFKPP8Kz9TbzsHM/oF7IoYAYYT+JleOro/5YP5kBBWZqxkg/uFisuND4yb6Z4MvmXalOv7RYM79NUFm/jW+ThXviWr/ETlTVFFhavw4KyCuQmGG/FA9IOxeKaL/Xv+6i1lVsv6u+Fpsm0Wq/pvk622mMar9K2lWUh49sv8In2c9CQG6/Exa3/zjJbb/I/AAFzsJsv4UiiPSVJ2u/vHK3j8eRaL9yYQ6OkzNlvzj5X725V2C/eyBtdLL6Ub8jS2tBbpgSvzfw8s6LlVQ/95RSz3/hZj+eUSH8nqhyP3KwzwSQf3o/6jzSs+wPgj+TdpGsPZiGP9aMkKq77Io/hPSi41s5jj9K+raLKYuQP8ow39ujIJI/5Nyd6s3+kz8oalLSD1+WP/BDuqx9kpk/fS5fBn+ZnT/4H325beSgP53/hJ7AgKI//NNXoZKEoz8lAomxQk2kP21a5+efQ6U/PS/G1B51pj8C5aoK8W6oP9NC6PGSN7A/\",\"dtype\":\"float64\",\"shape\":[75]},\"y\":{\"__ndarray__\":\"GhExyth1ND/Sv8nbtpRIP2vylNV0PVE/aTum7souWD/At0SJ8fVgPw3Iuahxymc/MSNhhJWvcD/bTfBN02d3P2zb5nxnaoA/CD5h5MAGhz8NmeH1TyaQP+zrCsc9p5Y/LbKd76fGnz/bLW5ISEmmPww9YvTcQq8/JV2OstnstT8Er5Y7M8G+P0c+r3jqkcU/5h99k6ZBzj88bCIzFzjVP4enV8oyxN0//yH99nXg5D8qOpLLf0jtP5kqGJXUifQ/c9cS8kHP/D+/DpwzojQEQIEmwoanVwxA4lgXt9HgE0BSSZ2AJuIbQAMJih9jjiNA5q4l5INuK0AwTKYKRj0zQNv5fmq8/DpAaCJseHrtQkB/+zpwzoxKQM3MzMzMeFJAZmZmZmZqWEAAAAAAAFxeQM3MzMzMJmJAmpmZmZkfZUBmZmZmZhhoQDMzMzMzEWtAAAAAAAAKbkBmZmZmZoFwQM3MzMzM/XFAMzMzMzN6c0CamZmZmfZ0QAAAAAAAc3ZAZmZmZmbvd0DNzMzMzGt5QDMzMzMz6HpAmpmZmZlkfEAAAAAAAOF9QGZmZmZmXX9AZmZmZuZsgECamZmZGSuBQM3MzMxM6YFAAAAAAICngkAzMzMzs2WDQGZmZmbmI4RAmpmZmRnihEDNzMzMTKCFQAAAAACAXoZAMzMzM7Mch0BmZmZm5tqHQJqZmZkZmYhAzczMzExXiUAAAAAAgBWKQDMzMzOz04pAZmZmZuaRi0CamZmZGVCMQM3MzMxMDo1AAAAAAIDMjUAzMzMzs4qOQGZmZmbmSI9A\",\"dtype\":\"float64\",\"shape\":[75]}}},\"id\":\"1389129a-fb1a-4d2f-ac6a-6008beb0d82b\",\"type\":\"ColumnDataSource\"},{\"attributes\":{\"data_source\":{\"id\":\"3a96d3ce-70ce-459e-a7b1-4f274b074264\",\"type\":\"ColumnDataSource\"},\"glyph\":{\"id\":\"921ca795-4222-4b8e-8b55-59e65f15deaa\",\"type\":\"Line\"},\"hover_glyph\":null,\"muted_glyph\":null,\"nonselection_glyph\":{\"id\":\"f11c4a7d-c044-407b-a2aa-8bfc6cdf112f\",\"type\":\"Line\"},\"selection_glyph\":null,\"view\":{\"id\":\"d276c051-e9a8-461d-b813-1410433c9348\",\"type\":\"CDSView\"}},\"id\":\"2bcd424b-e7a4-48bf-8e6b-70d3f3513ef3\",\"type\":\"GlyphRenderer\"}],\"root_ids\":[\"24e25f48-1f38-4a49-a23a-40c07c0238ff\"]},\"title\":\"Bokeh Application\",\"version\":\"0.12.14\"}};\n",
       "  var render_items = [{\"docid\":\"c14a7de4-6196-4a8c-a4de-fe2a0268b170\",\"elementid\":\"f56fd399-8db3-4674-976a-7c2964201e82\",\"modelid\":\"24e25f48-1f38-4a49-a23a-40c07c0238ff\"}];\n",
       "  root.Bokeh.embed.embed_items_notebook(docs_json, render_items);\n",
       "\n",
       "  }\n",
       "  if (root.Bokeh !== undefined) {\n",
       "    embed_document(root);\n",
       "  } else {\n",
       "    var attempts = 0;\n",
       "    var timer = setInterval(function(root) {\n",
       "      if (root.Bokeh !== undefined) {\n",
       "        embed_document(root);\n",
       "        clearInterval(timer);\n",
       "      }\n",
       "      attempts++;\n",
       "      if (attempts > 100) {\n",
       "        console.log(\"Bokeh: ERROR: Unable to run BokehJS code because BokehJS library is missing\")\n",
       "        clearInterval(timer);\n",
       "      }\n",
       "    }, 10, root)\n",
       "  }\n",
       "})(window);"
      ],
      "application/vnd.bokehjs_exec.v0+json": ""
     },
     "metadata": {
      "application/vnd.bokehjs_exec.v0+json": {
       "id": "24e25f48-1f38-4a49-a23a-40c07c0238ff"
      }
     },
     "output_type": "display_data"
    },
    {
     "name": "stdout",
     "output_type": "stream",
     "text": [
      "FIGURE. Cooling rate profiles.\n"
     ]
    },
    {
     "data": {
      "text/html": [
       "<a id=\"Flux_Comparison\"></a>"
      ],
      "text/plain": [
       "<IPython.core.display.HTML object>"
      ]
     },
     "metadata": {},
     "output_type": "display_data"
    },
    {
     "data": {
      "text/markdown": [
       "# Flux Comparison"
      ],
      "text/plain": [
       "<IPython.core.display.Markdown object>"
      ]
     },
     "metadata": {},
     "output_type": "display_data"
    },
    {
     "data": {
      "text/html": [
       "<div>\n",
       "<style>\n",
       "    .dataframe thead tr:only-child th {\n",
       "        text-align: right;\n",
       "    }\n",
       "\n",
       "    .dataframe thead th {\n",
       "        text-align: left;\n",
       "    }\n",
       "\n",
       "    .dataframe tbody tr th {\n",
       "        vertical-align: top;\n",
       "    }\n",
       "</style>\n",
       "<table border=\"1\" class=\"dataframe\">\n",
       "  <thead>\n",
       "    <tr style=\"text-align: right;\">\n",
       "      <th></th>\n",
       "      <th></th>\n",
       "      <th>flug</th>\n",
       "      <th>fldg</th>\n",
       "      <th>fnetg</th>\n",
       "    </tr>\n",
       "    <tr>\n",
       "      <th>pressure</th>\n",
       "      <th>level</th>\n",
       "      <th></th>\n",
       "      <th></th>\n",
       "      <th></th>\n",
       "    </tr>\n",
       "  </thead>\n",
       "  <tbody>\n",
       "    <tr>\n",
       "      <th>0.0000</th>\n",
       "      <th>1</th>\n",
       "      <td>-4.087487</td>\n",
       "      <td>0.000000</td>\n",
       "      <td>-4.087487</td>\n",
       "    </tr>\n",
       "    <tr>\n",
       "      <th>1.0685</th>\n",
       "      <th>24</th>\n",
       "      <td>-4.094950</td>\n",
       "      <td>0.018530</td>\n",
       "      <td>-4.076420</td>\n",
       "    </tr>\n",
       "    <tr>\n",
       "      <th>1013.0000</th>\n",
       "      <th>76</th>\n",
       "      <td>-6.625452</td>\n",
       "      <td>4.061684</td>\n",
       "      <td>-2.563769</td>\n",
       "    </tr>\n",
       "  </tbody>\n",
       "</table>\n",
       "</div>"
      ],
      "text/plain": [
       "                     flug      fldg     fnetg\n",
       "pressure  level                              \n",
       "0.0000    1     -4.087487  0.000000 -4.087487\n",
       "1.0685    24    -4.094950  0.018530 -4.076420\n",
       "1013.0000 76    -6.625452  4.061684 -2.563769"
      ]
     },
     "metadata": {},
     "output_type": "display_data"
    },
    {
     "name": "stdout",
     "output_type": "stream",
     "text": [
      "Table. Fluxes. CRD\n"
     ]
    },
    {
     "data": {
      "text/html": [
       "<div>\n",
       "<style>\n",
       "    .dataframe thead tr:only-child th {\n",
       "        text-align: right;\n",
       "    }\n",
       "\n",
       "    .dataframe thead th {\n",
       "        text-align: left;\n",
       "    }\n",
       "\n",
       "    .dataframe tbody tr th {\n",
       "        vertical-align: top;\n",
       "    }\n",
       "</style>\n",
       "<table border=\"1\" class=\"dataframe\">\n",
       "  <thead>\n",
       "    <tr style=\"text-align: right;\">\n",
       "      <th></th>\n",
       "      <th></th>\n",
       "      <th>flug</th>\n",
       "      <th>fldg</th>\n",
       "      <th>fnetg</th>\n",
       "    </tr>\n",
       "    <tr>\n",
       "      <th>pressure</th>\n",
       "      <th>level</th>\n",
       "      <th></th>\n",
       "      <th></th>\n",
       "      <th></th>\n",
       "    </tr>\n",
       "  </thead>\n",
       "  <tbody>\n",
       "    <tr>\n",
       "      <th>0.0000</th>\n",
       "      <th>1</th>\n",
       "      <td>-4.037512</td>\n",
       "      <td>0.000000</td>\n",
       "      <td>-4.037512</td>\n",
       "    </tr>\n",
       "    <tr>\n",
       "      <th>1.0685</th>\n",
       "      <th>24</th>\n",
       "      <td>-4.045948</td>\n",
       "      <td>0.018039</td>\n",
       "      <td>-4.027908</td>\n",
       "    </tr>\n",
       "    <tr>\n",
       "      <th>1013.0000</th>\n",
       "      <th>76</th>\n",
       "      <td>-6.625452</td>\n",
       "      <td>4.056772</td>\n",
       "      <td>-2.568680</td>\n",
       "    </tr>\n",
       "  </tbody>\n",
       "</table>\n",
       "</div>"
      ],
      "text/plain": [
       "                     flug      fldg     fnetg\n",
       "pressure  level                              \n",
       "0.0000    1     -4.037512  0.000000 -4.037512\n",
       "1.0685    24    -4.045948  0.018039 -4.027908\n",
       "1013.0000 76    -6.625452  4.056772 -2.568680"
      ]
     },
     "metadata": {},
     "output_type": "display_data"
    },
    {
     "name": "stdout",
     "output_type": "stream",
     "text": [
      "Table. Fluxes. WGT igg=10\n"
     ]
    },
    {
     "data": {
      "text/html": [
       "<div>\n",
       "<style>\n",
       "    .dataframe thead tr:only-child th {\n",
       "        text-align: right;\n",
       "    }\n",
       "\n",
       "    .dataframe thead th {\n",
       "        text-align: left;\n",
       "    }\n",
       "\n",
       "    .dataframe tbody tr th {\n",
       "        vertical-align: top;\n",
       "    }\n",
       "</style>\n",
       "<table border=\"1\" class=\"dataframe\">\n",
       "  <thead>\n",
       "    <tr style=\"text-align: right;\">\n",
       "      <th></th>\n",
       "      <th></th>\n",
       "      <th>flug</th>\n",
       "      <th>fldg</th>\n",
       "      <th>fnetg</th>\n",
       "    </tr>\n",
       "    <tr>\n",
       "      <th>pressure</th>\n",
       "      <th>level</th>\n",
       "      <th></th>\n",
       "      <th></th>\n",
       "      <th></th>\n",
       "    </tr>\n",
       "  </thead>\n",
       "  <tbody>\n",
       "    <tr>\n",
       "      <th>0.0000</th>\n",
       "      <th>1</th>\n",
       "      <td>-4.032390</td>\n",
       "      <td>0.000000</td>\n",
       "      <td>-4.032390</td>\n",
       "    </tr>\n",
       "    <tr>\n",
       "      <th>1.0685</th>\n",
       "      <th>24</th>\n",
       "      <td>-4.040903</td>\n",
       "      <td>0.018416</td>\n",
       "      <td>-4.022487</td>\n",
       "    </tr>\n",
       "    <tr>\n",
       "      <th>1013.0000</th>\n",
       "      <th>76</th>\n",
       "      <td>-6.625452</td>\n",
       "      <td>4.035845</td>\n",
       "      <td>-2.589607</td>\n",
       "    </tr>\n",
       "  </tbody>\n",
       "</table>\n",
       "</div>"
      ],
      "text/plain": [
       "                     flug      fldg     fnetg\n",
       "pressure  level                              \n",
       "0.0000    1     -4.032390  0.000000 -4.032390\n",
       "1.0685    24    -4.040903  0.018416 -4.022487\n",
       "1013.0000 76    -6.625452  4.035845 -2.589607"
      ]
     },
     "metadata": {},
     "output_type": "display_data"
    },
    {
     "name": "stdout",
     "output_type": "stream",
     "text": [
      "Table. Fluxes. WGT igg=1\n"
     ]
    },
    {
     "data": {
      "text/html": [
       "<div>\n",
       "<style>\n",
       "    .dataframe thead tr:only-child th {\n",
       "        text-align: right;\n",
       "    }\n",
       "\n",
       "    .dataframe thead th {\n",
       "        text-align: left;\n",
       "    }\n",
       "\n",
       "    .dataframe tbody tr th {\n",
       "        vertical-align: top;\n",
       "    }\n",
       "</style>\n",
       "<table border=\"1\" class=\"dataframe\">\n",
       "  <thead>\n",
       "    <tr style=\"text-align: right;\">\n",
       "      <th></th>\n",
       "      <th></th>\n",
       "      <th>flug</th>\n",
       "      <th>fldg</th>\n",
       "      <th>fnetg</th>\n",
       "    </tr>\n",
       "    <tr>\n",
       "      <th>pressure</th>\n",
       "      <th>level</th>\n",
       "      <th></th>\n",
       "      <th></th>\n",
       "      <th></th>\n",
       "    </tr>\n",
       "  </thead>\n",
       "  <tbody>\n",
       "    <tr>\n",
       "      <th>0.0000</th>\n",
       "      <th>1</th>\n",
       "      <td>0.049975</td>\n",
       "      <td>0.000000</td>\n",
       "      <td>0.049975</td>\n",
       "    </tr>\n",
       "    <tr>\n",
       "      <th>1.0685</th>\n",
       "      <th>24</th>\n",
       "      <td>0.049002</td>\n",
       "      <td>-0.000490</td>\n",
       "      <td>0.048511</td>\n",
       "    </tr>\n",
       "    <tr>\n",
       "      <th>1013.0000</th>\n",
       "      <th>76</th>\n",
       "      <td>0.000000</td>\n",
       "      <td>-0.004911</td>\n",
       "      <td>-0.004911</td>\n",
       "    </tr>\n",
       "  </tbody>\n",
       "</table>\n",
       "</div>"
      ],
      "text/plain": [
       "                     flug      fldg     fnetg\n",
       "pressure  level                              \n",
       "0.0000    1      0.049975  0.000000  0.049975\n",
       "1.0685    24     0.049002 -0.000490  0.048511\n",
       "1013.0000 76     0.000000 -0.004911 -0.004911"
      ]
     },
     "metadata": {},
     "output_type": "display_data"
    },
    {
     "name": "stdout",
     "output_type": "stream",
     "text": [
      "Table. Fluxes. (WGT igg=10) - (CRD)\n"
     ]
    },
    {
     "data": {
      "text/html": [
       "<div>\n",
       "<style>\n",
       "    .dataframe thead tr:only-child th {\n",
       "        text-align: right;\n",
       "    }\n",
       "\n",
       "    .dataframe thead th {\n",
       "        text-align: left;\n",
       "    }\n",
       "\n",
       "    .dataframe tbody tr th {\n",
       "        vertical-align: top;\n",
       "    }\n",
       "</style>\n",
       "<table border=\"1\" class=\"dataframe\">\n",
       "  <thead>\n",
       "    <tr style=\"text-align: right;\">\n",
       "      <th></th>\n",
       "      <th></th>\n",
       "      <th>flug</th>\n",
       "      <th>fldg</th>\n",
       "      <th>fnetg</th>\n",
       "    </tr>\n",
       "    <tr>\n",
       "      <th>pressure</th>\n",
       "      <th>level</th>\n",
       "      <th></th>\n",
       "      <th></th>\n",
       "      <th></th>\n",
       "    </tr>\n",
       "  </thead>\n",
       "  <tbody>\n",
       "    <tr>\n",
       "      <th>0.0000</th>\n",
       "      <th>1</th>\n",
       "      <td>0.055097</td>\n",
       "      <td>0.000000</td>\n",
       "      <td>0.055097</td>\n",
       "    </tr>\n",
       "    <tr>\n",
       "      <th>1.0685</th>\n",
       "      <th>24</th>\n",
       "      <td>0.054047</td>\n",
       "      <td>-0.000114</td>\n",
       "      <td>0.053933</td>\n",
       "    </tr>\n",
       "    <tr>\n",
       "      <th>1013.0000</th>\n",
       "      <th>76</th>\n",
       "      <td>0.000000</td>\n",
       "      <td>-0.025838</td>\n",
       "      <td>-0.025838</td>\n",
       "    </tr>\n",
       "  </tbody>\n",
       "</table>\n",
       "</div>"
      ],
      "text/plain": [
       "                     flug      fldg     fnetg\n",
       "pressure  level                              \n",
       "0.0000    1      0.055097  0.000000  0.055097\n",
       "1.0685    24     0.054047 -0.000114  0.053933\n",
       "1013.0000 76     0.000000 -0.025838 -0.025838"
      ]
     },
     "metadata": {},
     "output_type": "display_data"
    },
    {
     "name": "stdout",
     "output_type": "stream",
     "text": [
      "Table. Fluxes. (WGT igg=1) - (CRD)\n"
     ]
    },
    {
     "data": {
      "text/html": [
       "<a id=\"Best-fit_Parameters\"></a>"
      ],
      "text/plain": [
       "<IPython.core.display.HTML object>"
      ]
     },
     "metadata": {},
     "output_type": "display_data"
    },
    {
     "data": {
      "text/markdown": [
       "# Best-fit Parameters"
      ],
      "text/plain": [
       "<IPython.core.display.Markdown object>"
      ]
     },
     "metadata": {},
     "output_type": "display_data"
    },
    {
     "name": "stdout",
     "output_type": "stream",
     "text": [
      "Best-fit values for each (gas, band)\n",
      "------------------------------------\n",
      "o h2o band9\n",
      "  molecule = h2o\n",
      "  band = 9\n",
      "  commitnumber = d5931a1\n",
      "  vmin = 1900\n",
      "  vmax = 3000\n",
      "  dv = 0.001\n",
      "  nv = 1000\n",
      "  ref_pts = [(500, 250)]\n",
      "  ng_refs = [5]\n",
      "  ng_adju = [0]\n",
      "  klin = 1e-24\n",
      "  option_wgt_k = 1\n",
      "  wgt = [(0.4, 0.4, 0.5, 0.55, 0.85)]\n",
      "  w_diffuse = [(1.66, 1.66, 1.66, 1.66, 1.66)]\n",
      "  option_wgt_flux = 1\n",
      "  atmpro = mls\n",
      "  tsfc = 294\n",
      "  conc = None\n",
      "  option_compute_btable = 0\n",
      "  option_compute_ktable = 1\n",
      "o co2 band9\n",
      "  molecule = co2\n",
      "  band = 9\n",
      "  commitnumber = 043bdfe\n",
      "  vmin = 1900\n",
      "  vmax = 3000\n",
      "  dv = 0.001\n",
      "  nv = 1000\n",
      "  ref_pts = [(1, 250), (50, 250)]\n",
      "  ng_refs = [3, 3]\n",
      "  ng_adju = [2, 0]\n",
      "  klin = 1e-23\n",
      "  option_wgt_k = 1\n",
      "  wgt = [(0.7, 0.8, 0.7), (0.8, 0.7, 0.8)]\n",
      "  w_diffuse = [(1.66, 1.66, 1.75), (1.75, 1.6, 1.85)]\n",
      "  option_wgt_flux = 1\n",
      "  atmpro = mls\n",
      "  tsfc = 294\n",
      "  conc = 0.0004\n",
      "  option_compute_btable = 0\n",
      "  option_compute_ktable = 0\n"
     ]
    }
   ],
   "source": [
    "script()"
   ]
  },
  {
   "cell_type": "code",
   "execution_count": 12,
   "metadata": {},
   "outputs": [
    {
     "data": {
      "text/html": [
       "<script>\n",
       "code_show=true; \n",
       "function code_toggle() {\n",
       " if (code_show){\n",
       " $('div.input').hide();\n",
       " } else {\n",
       " $('div.input').show();\n",
       " }\n",
       " code_show = !code_show\n",
       "} \n",
       "$( document ).ready(code_toggle);\n",
       "</script>\n",
       "<form action=\"javascript:code_toggle()\"><input type=\"submit\" value=\"Click here to toggle on/off the raw code.\"></form>"
      ],
      "text/plain": [
       "<IPython.core.display.HTML object>"
      ]
     },
     "execution_count": 12,
     "metadata": {},
     "output_type": "execute_result"
    }
   ],
   "source": [
    "display.HTML('''<script>\n",
    "code_show=true; \n",
    "function code_toggle() {\n",
    " if (code_show){\n",
    " $('div.input').hide();\n",
    " } else {\n",
    " $('div.input').show();\n",
    " }\n",
    " code_show = !code_show\n",
    "} \n",
    "$( document ).ready(code_toggle);\n",
    "</script>\n",
    "<form action=\"javascript:code_toggle()\"><input type=\"submit\" value=\"Click here to toggle on/off the raw code.\"></form>''')"
   ]
  }
 ],
 "metadata": {
  "kernelspec": {
   "display_name": "Python 3",
   "language": "python",
   "name": "python3"
  },
  "language_info": {
   "codemirror_mode": {
    "name": "ipython",
    "version": 3
   },
   "file_extension": ".py",
   "mimetype": "text/x-python",
   "name": "python",
   "nbconvert_exporter": "python",
   "pygments_lexer": "ipython3",
   "version": "3.6.1"
  }
 },
 "nbformat": 4,
 "nbformat_minor": 2
}
