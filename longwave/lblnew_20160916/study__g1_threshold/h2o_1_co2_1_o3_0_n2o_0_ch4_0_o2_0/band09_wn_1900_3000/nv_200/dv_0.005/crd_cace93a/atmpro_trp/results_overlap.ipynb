{
 "cells": [
  {
   "cell_type": "code",
   "execution_count": 1,
   "metadata": {
    "collapsed": true
   },
   "outputs": [],
   "source": [
    "%matplotlib inline\n",
    "import os\n",
    "import re\n",
    "import io\n",
    "import itertools\n",
    "\n",
    "import matplotlib\n",
    "import matplotlib.pyplot as plt\n",
    "import numpy as np\n",
    "import pandas as pd\n",
    "import xarray as xr\n",
    "\n",
    "import climatools.html.html as climahtml\n",
    "from climatools.lblnew.dataio import *\n",
    "from climatools.plot.plot import *\n",
    "\n",
    "\n",
    "import IPython.display as display\n"
   ]
  },
  {
   "cell_type": "code",
   "execution_count": 2,
   "metadata": {
    "collapsed": true
   },
   "outputs": [],
   "source": [
    "%run param.py"
   ]
  },
  {
   "cell_type": "code",
   "execution_count": 3,
   "metadata": {
    "collapsed": true
   },
   "outputs": [],
   "source": [
    "PATH_FLUX = os.path.join(DIR_FORTRAN, 'output_flux.dat')\n",
    "PATH_COOLR = os.path.join(DIR_FORTRAN, 'output_coolr.dat')\n",
    "PATH_WFLUX = os.path.join(DIR_FORTRAN, 'output_wflux.dat')\n",
    "PATH_WCOOLR = os.path.join(DIR_FORTRAN, 'output_wcoolr.dat')\n",
    "\n",
    "DS_FLUX = load_lblnew_output_file(PATH_FLUX)\n",
    "DS_COOLR = load_lblnew_output_file(PATH_COOLR)\n",
    "DS_WFLUX = load_lblnew_output_file(PATH_WFLUX)\n",
    "DS_WCOOLR = load_lblnew_output_file(PATH_WCOOLR)"
   ]
  },
  {
   "cell_type": "code",
   "execution_count": 4,
   "metadata": {
    "collapsed": true
   },
   "outputs": [],
   "source": [
    "def load_lblnew_output_file(path_csv):\n",
    "    '''\n",
    "    Load lblnew output .csv file to xarray.Dataset\n",
    "    \n",
    "    Parameters\n",
    "    ----------\n",
    "    path_csv: str\n",
    "              Path to the .csv file to be loaded.\n",
    "    ds: xarray.Dataset\n",
    "        Data in the input file in the form of an xarray.Dataset.\n",
    "    '''\n",
    "    toindex = ['igg', 'g', 'pressure']    \n",
    "    df = pd.read_csv(path_csv, sep=r'\\s+')\n",
    "    df = df.set_index([i for i in toindex if i in df.columns])\n",
    "    ds = xr.Dataset.from_dataframe(df)\n",
    "    return ds"
   ]
  },
  {
   "cell_type": "code",
   "execution_count": 5,
   "metadata": {
    "collapsed": true
   },
   "outputs": [],
   "source": [
    "# for printing some input parameters\n",
    "\n",
    "def innames():\n",
    "    return ['vstar', 'nband', 'nv', 'dv',\n",
    "            'flgh2o',\n",
    "            'tsfc',\n",
    "            'pressure_reference_1',\n",
    "            'temperature_reference_1', \n",
    "            'pressure_reference_2', \n",
    "            'temperature_reference_2',\n",
    "            'ighigh', \n",
    "            'ng', \n",
    "            'nref',\n",
    "            'p_refs',\n",
    "            't_refs',\n",
    "            'ng_refs',\n",
    "            'absth',\n",
    "            'wgt',\n",
    "            'option_wgt_flux',\n",
    "            'option_wgt_k',\n",
    "            'option_klin',\n",
    "            'w_diffuse',\n",
    "            'fac_meank',\n",
    "            'klin']\n",
    "\n",
    "\n",
    "\n",
    "def pattern_assign(name):\n",
    "    return ''' \n",
    "    parameter .* :: \\s* &? \\s* ({} \\s* = .* \\n)\n",
    "    '''.format(name)\n",
    "\n",
    "def pattern_data(name):\n",
    "    return '''\n",
    "    (data [^/{name}]+ {name}[^,] [^/{name}]+ / [^/]+ /)\n",
    "    '''.format(name=name)\n",
    "\n",
    "def pattern_atmpro():\n",
    "    return '''\n",
    "    (atmosphere_profiles/.*75_r8.pro)\n",
    "    '''\n",
    "    \n",
    "\n",
    "def get_input_params(code, names):\n",
    "    results = []\n",
    "    for name in names:\n",
    "        regex = re.compile(pattern_assign(name), re.VERBOSE)\n",
    "        results.extend(regex.findall(code))\n",
    "        \n",
    "        regex = re.compile(pattern_data(name), re.VERBOSE)\n",
    "        results.extend(regex.findall(code))\n",
    "        \n",
    "    regex = re.compile(pattern_atmpro(), re.VERBOSE)\n",
    "    results.extend(regex.findall(code))\n",
    "        \n",
    "    results = [result.replace('_r8', '') for result in results]\n",
    "    return results"
   ]
  },
  {
   "cell_type": "code",
   "execution_count": 6,
   "metadata": {
    "collapsed": true
   },
   "outputs": [],
   "source": [
    "def script_show_lblnew_input():\n",
    "    with open(os.path.join(DIR_FORTRAN, 'lblnew.f'), \n",
    "              mode='r', encoding='utf-8') as f:\n",
    "        c = f.read()\n",
    "    \n",
    "    param = get_input_params(c, sorted(innames()))\n",
    "    param = ['band = {}'.format(PARAM['band'])] + param\n",
    "    param = ['molecule = {}'.format(PARAM['molecule'])] + param\n",
    "    \n",
    "    print('\\n\\n'.join(param))"
   ]
  },
  {
   "cell_type": "code",
   "execution_count": 7,
   "metadata": {
    "collapsed": true
   },
   "outputs": [],
   "source": [
    "def pltdata_cooling(ds_coolr=None, ds_wcoolr=None):\n",
    "    data = [{'label': 'CRD', \n",
    "             'linestyle': '-', 'color': 'blue', 'marker': None,\n",
    "             'srs': ds_coolr['coolr']},\n",
    "            {'label': 'WGT igg=1', \n",
    "             'linestyle': '--', 'color': 'g', 'marker': None,\n",
    "             'srs': ds_wcoolr['coolr'].sel(igg=1)}, \n",
    "             {'label': 'WGT igg=10',\n",
    "            'linestyle': '--', 'color': 'r', 'marker': None,\n",
    "            'srs': ds_wcoolr['coolr'].sel(igg=10)}]\n",
    "    return data\n",
    "\n"
   ]
  },
  {
   "cell_type": "code",
   "execution_count": 8,
   "metadata": {
    "collapsed": true
   },
   "outputs": [],
   "source": [
    "def plt_cooling(pltdata=None):\n",
    "    '''\n",
    "    Plots a list of cooling rate profiles.\n",
    "    \n",
    "    Parameter\n",
    "    ---------\n",
    "    pltdata: list-like\n",
    "             List of dictionaries each of which contains the following\n",
    "             fields:\n",
    "                 label -- \n",
    "    '''\n",
    "    \n",
    "    plot_args = {'index_on_yaxis': True,\n",
    "                 'yincrease': False,\n",
    "                 'linewidth': 2,\n",
    "                 'grid': True,\n",
    "                 'alpha': .7}\n",
    "    \n",
    "    yscales = ['linear', 'log']\n",
    "    varlims = [(50, 1050), (1e-2, 200)]\n",
    "    \n",
    "    fig, axs = plt.subplots(ncols=len(yscales), nrows=1,\n",
    "                            figsize=(15, 6))\n",
    "    \n",
    "    axs = axs.flatten()\n",
    "    \n",
    "    for ax, yscale, varlim in zip(axs, yscales, varlims):\n",
    "        for d in pltdata:\n",
    "            d['srs'].climaviz.plot(ax=ax,\n",
    "                                  yscale=yscale,\n",
    "                                   varlim_from_indexrange=varlim,\n",
    "                                  label=d['label'],\n",
    "                                  linestyle=d['linestyle'],\n",
    "                                  color=d['color'],\n",
    "                                  marker=d['marker'],\n",
    "                                  **plot_args)\n",
    "            \n",
    "        ax.set_title('')\n",
    "        \n",
    "        ax.set_ylabel('Pressure (mb)')\n",
    "        ax.set_ylim(top=1e-2)\n",
    "        ax.set_ylim(bottom=None)\n",
    "    \n",
    "        ax.set_xlabel('Cooling rate (degree per day)')\n",
    "    return fig, axs\n",
    "\n",
    "\n",
    "\n",
    "def script_plt_cooling():\n",
    "\n",
    "    matplotlib.rcParams.update({'font.size': 13,\n",
    "                            'grid.color': 'grey',\n",
    "                            'axes.facecolor': 'white',\n",
    "                            'axes.edgecolor': 'black',\n",
    "                            'ytick.direction': 'out',\n",
    "                            'ytick.major.size': 6, 'ytick.major.width': 1,\n",
    "                            'ytick.minor.size': 3, 'ytick.minor.width': 1,\n",
    "                            'xtick.direction': 'out',\n",
    "                            'xtick.major.size': 6, 'xtick.major.size': 1,\n",
    "                            'xtick.minor.size': 3, 'xtick.minor.size': 1}) \n",
    "\n",
    "    pltdata = pltdata_cooling(ds_coolr=DS_COOLR, ds_wcoolr=DS_WCOOLR)\n",
    "\n",
    "    fig, axs = plt_cooling(pltdata=pltdata)\n",
    "    \n",
    "    display.display(fig)\n",
    "    print('Figure: Cooling rate profile comparison.')\n",
    "    \n",
    "    plt.close(fig)"
   ]
  },
  {
   "cell_type": "code",
   "execution_count": 9,
   "metadata": {
    "collapsed": true
   },
   "outputs": [],
   "source": [
    "def tbdata_flux(ds_flux=None, ds_wflux=None):\n",
    "    ilevels = [0, -1]\n",
    "    \n",
    "    def fmt(ds):\n",
    "        return ds.isel(pressure=ilevels)\\\n",
    "                 .to_dataframe()\\\n",
    "                 .set_index('level', append=True)\n",
    "    \n",
    "    benchmark = {'label': 'CRD',\n",
    "                 'df': fmt(ds_flux)}\n",
    "    \n",
    "    tbs = [{'label': 'WGT igg=1',\n",
    "            'df': fmt(ds_wflux.sel(igg=1)).drop('igg', axis=1)},\n",
    "           {'label': 'WGT igg=10',\n",
    "            'df': fmt(ds_wflux.sel(igg=10)).drop('igg', axis=1)}]\n",
    "    \n",
    "    data = {'benchmark': benchmark, 'others': tbs}\n",
    "    return data\n",
    "\n"
   ]
  },
  {
   "cell_type": "code",
   "execution_count": 10,
   "metadata": {
    "collapsed": true
   },
   "outputs": [],
   "source": [
    "def tb_flux(tbdata=None):\n",
    "    benchmark = tbdata['benchmark']\n",
    "    others = tbdata['others']\n",
    "    \n",
    "    def show_tb(d=None):\n",
    "        display.display(d['df'])\n",
    "        print('Table:', 'TOA and SFC flux.', d['label'])\n",
    "        \n",
    "    def show_tbdiff(d0=None, d=None):\n",
    "        display.display(d['df'] - d0['df'])\n",
    "        print('Table:', 'TOA and SFC flux.', \n",
    "              '({}) - ({})'.format(d['label'], d0['label']))\n",
    "        \n",
    "    show_tb(benchmark)\n",
    "    for d in others:\n",
    "        show_tb(d)\n",
    "        \n",
    "    for d in others:\n",
    "        show_tbdiff(d=d, d0=benchmark)\n",
    "\n",
    "        \n",
    "def script_tb_flux():\n",
    "    data = tbdata_flux(ds_flux=DS_FLUX, ds_wflux=DS_WFLUX)\n",
    "    tb_flux(tbdata=data)\n",
    "    \n"
   ]
  },
  {
   "cell_type": "code",
   "execution_count": 11,
   "metadata": {
    "collapsed": true
   },
   "outputs": [],
   "source": [
    "def tbdata_cooling(ds_coolr=None, ds_wcoolr=None):\n",
    "    ilayers = [0, -1]\n",
    "    \n",
    "    def fmt(ds):\n",
    "        return ds.isel(pressure=ilayers)\\\n",
    "                 .to_dataframe()\\\n",
    "                 .set_index('layer', append=True)\n",
    "    \n",
    "    benchmark = {'label': 'CRD',\n",
    "                 'df': fmt(ds_coolr)}\n",
    "    \n",
    "    tbs = [{'label': 'WGT igg=1',\n",
    "            'df': fmt(ds_wcoolr.sel(igg=1)).drop('igg', axis=1)},\n",
    "           {'label': 'WGT igg=10',\n",
    "            'df': fmt(ds_wcoolr.sel(igg=10)).drop('igg', axis=1)}]\n",
    "    \n",
    "    data = {'benchmark': benchmark, 'others': tbs}\n",
    "    return data   \n",
    "\n",
    "\n"
   ]
  },
  {
   "cell_type": "code",
   "execution_count": 12,
   "metadata": {
    "collapsed": true
   },
   "outputs": [],
   "source": [
    "\n",
    "def tb_cooling(tbdata=None):\n",
    "    benchmark = tbdata['benchmark']\n",
    "    others = tbdata['others']\n",
    "    \n",
    "    def show_tb(d=None):\n",
    "        display.display(d['df'])\n",
    "        print('Table:', 'TOA and SFC cooling rate.', d['label'])\n",
    "        \n",
    "    def show_tbdiff(d0=None, d=None):\n",
    "        display.display(d['df'] - d0['df'])\n",
    "        print('Table:', 'TOA and SFC cooling rate.', \n",
    "              '({}) - ({})'.format(d['label'], d0['label']))\n",
    "        \n",
    "    show_tb(benchmark)\n",
    "    for d in others:\n",
    "        show_tb(d)\n",
    "        \n",
    "    for d in others:\n",
    "        show_tbdiff(d=d, d0=benchmark)    \n",
    "        \n",
    "        \n",
    "        \n",
    "def script_tb_cooling():\n",
    "    data = tbdata_cooling(ds_coolr=DS_COOLR, ds_wcoolr=DS_WCOOLR)\n",
    "    tb_cooling(tbdata=data)"
   ]
  },
  {
   "cell_type": "code",
   "execution_count": 13,
   "metadata": {
    "collapsed": true
   },
   "outputs": [],
   "source": [
    "def script():\n",
    "    \n",
    "    def show_html(s):\n",
    "        display.display(display.HTML(s))\n",
    "        \n",
    "    def show_markdown(s):\n",
    "        display.display(display.Markdown(s))\n",
    "    \n",
    "    \n",
    "    show_markdown(climahtml.getMarkdown_sectitle('Input parameters'))\n",
    "    script_show_lblnew_input()\n",
    "\n",
    "    S_PLT_COOLING = 'Cooling Rate Profiles'\n",
    "    S_TB_FLUX = 'Flux Comparison'\n",
    "    S_TB_COOLING = 'Cooling Rate Comparison'\n",
    "\n",
    "    # TOC\n",
    "    show_markdown(climahtml.getMarkdown_sectitle('Table of Content'))\n",
    "    show_html(climahtml.getHTML_hrefanchor(S_PLT_COOLING))\n",
    "    show_html(climahtml.getHTML_hrefanchor(S_TB_FLUX))\n",
    "    show_html(climahtml.getHTML_hrefanchor(S_TB_COOLING))\n",
    "\n",
    "    # Cooling Rate Profiles\n",
    "    show_html(climahtml.getHTML_idanchor(S_PLT_COOLING))\n",
    "    show_markdown(climahtml.getMarkdown_sectitle(S_PLT_COOLING))\n",
    "    script_plt_cooling()\n",
    "    \n",
    "    # Flux Comparison\n",
    "    show_html(climahtml.getHTML_idanchor(S_TB_FLUX))\n",
    "    show_markdown(climahtml.getMarkdown_sectitle(S_TB_FLUX))\n",
    "    script_tb_flux()\n",
    "    \n",
    "    # Cooling Rate Comparison\n",
    "    show_html(climahtml.getHTML_idanchor(S_TB_COOLING))\n",
    "    show_markdown(climahtml.getMarkdown_sectitle(S_TB_COOLING))\n",
    "    script_tb_cooling()\n",
    "    \n",
    "\n"
   ]
  },
  {
   "cell_type": "code",
   "execution_count": 14,
   "metadata": {
    "scrolled": false
   },
   "outputs": [
    {
     "data": {
      "text/markdown": [
       "# Input parameters"
      ],
      "text/plain": [
       "<IPython.core.display.Markdown object>"
      ]
     },
     "metadata": {},
     "output_type": "display_data"
    },
    {
     "name": "stdout",
     "output_type": "stream",
     "text": [
      "molecule = ['h2o', 'co2']\n",
      "\n",
      "band = 9\n",
      "\n",
      "dv = 0.005\n",
      "\n",
      "nband = 1100\n",
      "\n",
      "nv = 200\n",
      "\n",
      "option_wgt_flux =2\n",
      "\n",
      "option_wgt_k =1\n",
      "\n",
      "tsfc =300\n",
      "\n",
      "vstar = 1900\n",
      "\n",
      "atmosphere_profiles/trp75.pro\n"
     ]
    },
    {
     "data": {
      "text/markdown": [
       "# Table of Content"
      ],
      "text/plain": [
       "<IPython.core.display.Markdown object>"
      ]
     },
     "metadata": {},
     "output_type": "display_data"
    },
    {
     "data": {
      "text/html": [
       "<a href=\"#Cooling_Rate_Profiles\">Cooling Rate Profiles</a>"
      ],
      "text/plain": [
       "<IPython.core.display.HTML object>"
      ]
     },
     "metadata": {},
     "output_type": "display_data"
    },
    {
     "data": {
      "text/html": [
       "<a href=\"#Flux_Comparison\">Flux Comparison</a>"
      ],
      "text/plain": [
       "<IPython.core.display.HTML object>"
      ]
     },
     "metadata": {},
     "output_type": "display_data"
    },
    {
     "data": {
      "text/html": [
       "<a href=\"#Cooling_Rate_Comparison\">Cooling Rate Comparison</a>"
      ],
      "text/plain": [
       "<IPython.core.display.HTML object>"
      ]
     },
     "metadata": {},
     "output_type": "display_data"
    },
    {
     "data": {
      "text/html": [
       "<a id=\"Cooling_Rate_Profiles\"></a>"
      ],
      "text/plain": [
       "<IPython.core.display.HTML object>"
      ]
     },
     "metadata": {},
     "output_type": "display_data"
    },
    {
     "data": {
      "text/markdown": [
       "# Cooling Rate Profiles"
      ],
      "text/plain": [
       "<IPython.core.display.Markdown object>"
      ]
     },
     "metadata": {},
     "output_type": "display_data"
    },
    {
     "data": {
      "image/png": "[encoded data removed]",
      "text/plain": [
       "<matplotlib.figure.Figure at 0x2b748c000cf8>"
      ]
     },
     "metadata": {},
     "output_type": "display_data"
    },
    {
     "name": "stdout",
     "output_type": "stream",
     "text": [
      "Figure: Cooling rate profile comparison.\n"
     ]
    },
    {
     "data": {
      "text/html": [
       "<a id=\"Flux_Comparison\"></a>"
      ],
      "text/plain": [
       "<IPython.core.display.HTML object>"
      ]
     },
     "metadata": {},
     "output_type": "display_data"
    },
    {
     "data": {
      "text/markdown": [
       "# Flux Comparison"
      ],
      "text/plain": [
       "<IPython.core.display.Markdown object>"
      ]
     },
     "metadata": {},
     "output_type": "display_data"
    },
    {
     "data": {
      "text/html": [
       "<div>\n",
       "<style>\n",
       "    .dataframe thead tr:only-child th {\n",
       "        text-align: right;\n",
       "    }\n",
       "\n",
       "    .dataframe thead th {\n",
       "        text-align: left;\n",
       "    }\n",
       "\n",
       "    .dataframe tbody tr th {\n",
       "        vertical-align: top;\n",
       "    }\n",
       "</style>\n",
       "<table border=\"1\" class=\"dataframe\">\n",
       "  <thead>\n",
       "    <tr style=\"text-align: right;\">\n",
       "      <th></th>\n",
       "      <th></th>\n",
       "      <th>sfu</th>\n",
       "      <th>sfd</th>\n",
       "      <th>fnet</th>\n",
       "    </tr>\n",
       "    <tr>\n",
       "      <th>pressure</th>\n",
       "      <th>level</th>\n",
       "      <th></th>\n",
       "      <th></th>\n",
       "      <th></th>\n",
       "    </tr>\n",
       "  </thead>\n",
       "  <tbody>\n",
       "    <tr>\n",
       "      <th>0.0</th>\n",
       "      <th>1</th>\n",
       "      <td>-4.706015</td>\n",
       "      <td>0.000000</td>\n",
       "      <td>-4.706015</td>\n",
       "    </tr>\n",
       "    <tr>\n",
       "      <th>1013.0</th>\n",
       "      <th>76</th>\n",
       "      <td>-8.185140</td>\n",
       "      <td>5.234227</td>\n",
       "      <td>-2.950913</td>\n",
       "    </tr>\n",
       "  </tbody>\n",
       "</table>\n",
       "</div>"
      ],
      "text/plain": [
       "                     sfu       sfd      fnet\n",
       "pressure level                              \n",
       "0.0      1     -4.706015  0.000000 -4.706015\n",
       "1013.0   76    -8.185140  5.234227 -2.950913"
      ]
     },
     "metadata": {},
     "output_type": "display_data"
    },
    {
     "name": "stdout",
     "output_type": "stream",
     "text": [
      "Table: TOA and SFC flux. CRD\n"
     ]
    },
    {
     "data": {
      "text/html": [
       "<div>\n",
       "<style>\n",
       "    .dataframe thead tr:only-child th {\n",
       "        text-align: right;\n",
       "    }\n",
       "\n",
       "    .dataframe thead th {\n",
       "        text-align: left;\n",
       "    }\n",
       "\n",
       "    .dataframe tbody tr th {\n",
       "        vertical-align: top;\n",
       "    }\n",
       "</style>\n",
       "<table border=\"1\" class=\"dataframe\">\n",
       "  <thead>\n",
       "    <tr style=\"text-align: right;\">\n",
       "      <th></th>\n",
       "      <th></th>\n",
       "      <th>sfu</th>\n",
       "      <th>sfd</th>\n",
       "      <th>fnet</th>\n",
       "    </tr>\n",
       "    <tr>\n",
       "      <th>pressure</th>\n",
       "      <th>level</th>\n",
       "      <th></th>\n",
       "      <th></th>\n",
       "      <th></th>\n",
       "    </tr>\n",
       "  </thead>\n",
       "  <tbody>\n",
       "    <tr>\n",
       "      <th>0.0</th>\n",
       "      <th>1</th>\n",
       "      <td>-4.576158</td>\n",
       "      <td>0.000000</td>\n",
       "      <td>-4.576158</td>\n",
       "    </tr>\n",
       "    <tr>\n",
       "      <th>1013.0</th>\n",
       "      <th>76</th>\n",
       "      <td>-8.185140</td>\n",
       "      <td>5.279598</td>\n",
       "      <td>-2.905542</td>\n",
       "    </tr>\n",
       "  </tbody>\n",
       "</table>\n",
       "</div>"
      ],
      "text/plain": [
       "                     sfu       sfd      fnet\n",
       "pressure level                              \n",
       "0.0      1     -4.576158  0.000000 -4.576158\n",
       "1013.0   76    -8.185140  5.279598 -2.905542"
      ]
     },
     "metadata": {},
     "output_type": "display_data"
    },
    {
     "name": "stdout",
     "output_type": "stream",
     "text": [
      "Table: TOA and SFC flux. WGT igg=1\n"
     ]
    },
    {
     "data": {
      "text/html": [
       "<div>\n",
       "<style>\n",
       "    .dataframe thead tr:only-child th {\n",
       "        text-align: right;\n",
       "    }\n",
       "\n",
       "    .dataframe thead th {\n",
       "        text-align: left;\n",
       "    }\n",
       "\n",
       "    .dataframe tbody tr th {\n",
       "        vertical-align: top;\n",
       "    }\n",
       "</style>\n",
       "<table border=\"1\" class=\"dataframe\">\n",
       "  <thead>\n",
       "    <tr style=\"text-align: right;\">\n",
       "      <th></th>\n",
       "      <th></th>\n",
       "      <th>sfu</th>\n",
       "      <th>sfd</th>\n",
       "      <th>fnet</th>\n",
       "    </tr>\n",
       "    <tr>\n",
       "      <th>pressure</th>\n",
       "      <th>level</th>\n",
       "      <th></th>\n",
       "      <th></th>\n",
       "      <th></th>\n",
       "    </tr>\n",
       "  </thead>\n",
       "  <tbody>\n",
       "    <tr>\n",
       "      <th>0.0</th>\n",
       "      <th>1</th>\n",
       "      <td>-4.570745</td>\n",
       "      <td>0.00000</td>\n",
       "      <td>-4.570745</td>\n",
       "    </tr>\n",
       "    <tr>\n",
       "      <th>1013.0</th>\n",
       "      <th>76</th>\n",
       "      <td>-8.185140</td>\n",
       "      <td>5.30839</td>\n",
       "      <td>-2.876750</td>\n",
       "    </tr>\n",
       "  </tbody>\n",
       "</table>\n",
       "</div>"
      ],
      "text/plain": [
       "                     sfu      sfd      fnet\n",
       "pressure level                             \n",
       "0.0      1     -4.570745  0.00000 -4.570745\n",
       "1013.0   76    -8.185140  5.30839 -2.876750"
      ]
     },
     "metadata": {},
     "output_type": "display_data"
    },
    {
     "name": "stdout",
     "output_type": "stream",
     "text": [
      "Table: TOA and SFC flux. WGT igg=10\n"
     ]
    },
    {
     "data": {
      "text/html": [
       "<div>\n",
       "<style>\n",
       "    .dataframe thead tr:only-child th {\n",
       "        text-align: right;\n",
       "    }\n",
       "\n",
       "    .dataframe thead th {\n",
       "        text-align: left;\n",
       "    }\n",
       "\n",
       "    .dataframe tbody tr th {\n",
       "        vertical-align: top;\n",
       "    }\n",
       "</style>\n",
       "<table border=\"1\" class=\"dataframe\">\n",
       "  <thead>\n",
       "    <tr style=\"text-align: right;\">\n",
       "      <th></th>\n",
       "      <th></th>\n",
       "      <th>sfu</th>\n",
       "      <th>sfd</th>\n",
       "      <th>fnet</th>\n",
       "    </tr>\n",
       "    <tr>\n",
       "      <th>pressure</th>\n",
       "      <th>level</th>\n",
       "      <th></th>\n",
       "      <th></th>\n",
       "      <th></th>\n",
       "    </tr>\n",
       "  </thead>\n",
       "  <tbody>\n",
       "    <tr>\n",
       "      <th>0.0</th>\n",
       "      <th>1</th>\n",
       "      <td>0.129857</td>\n",
       "      <td>0.000000</td>\n",
       "      <td>0.129857</td>\n",
       "    </tr>\n",
       "    <tr>\n",
       "      <th>1013.0</th>\n",
       "      <th>76</th>\n",
       "      <td>0.000000</td>\n",
       "      <td>0.045371</td>\n",
       "      <td>0.045371</td>\n",
       "    </tr>\n",
       "  </tbody>\n",
       "</table>\n",
       "</div>"
      ],
      "text/plain": [
       "                     sfu       sfd      fnet\n",
       "pressure level                              \n",
       "0.0      1      0.129857  0.000000  0.129857\n",
       "1013.0   76     0.000000  0.045371  0.045371"
      ]
     },
     "metadata": {},
     "output_type": "display_data"
    },
    {
     "name": "stdout",
     "output_type": "stream",
     "text": [
      "Table: TOA and SFC flux. (WGT igg=1) - (CRD)\n"
     ]
    },
    {
     "data": {
      "text/html": [
       "<div>\n",
       "<style>\n",
       "    .dataframe thead tr:only-child th {\n",
       "        text-align: right;\n",
       "    }\n",
       "\n",
       "    .dataframe thead th {\n",
       "        text-align: left;\n",
       "    }\n",
       "\n",
       "    .dataframe tbody tr th {\n",
       "        vertical-align: top;\n",
       "    }\n",
       "</style>\n",
       "<table border=\"1\" class=\"dataframe\">\n",
       "  <thead>\n",
       "    <tr style=\"text-align: right;\">\n",
       "      <th></th>\n",
       "      <th></th>\n",
       "      <th>sfu</th>\n",
       "      <th>sfd</th>\n",
       "      <th>fnet</th>\n",
       "    </tr>\n",
       "    <tr>\n",
       "      <th>pressure</th>\n",
       "      <th>level</th>\n",
       "      <th></th>\n",
       "      <th></th>\n",
       "      <th></th>\n",
       "    </tr>\n",
       "  </thead>\n",
       "  <tbody>\n",
       "    <tr>\n",
       "      <th>0.0</th>\n",
       "      <th>1</th>\n",
       "      <td>0.13527</td>\n",
       "      <td>0.000000</td>\n",
       "      <td>0.135270</td>\n",
       "    </tr>\n",
       "    <tr>\n",
       "      <th>1013.0</th>\n",
       "      <th>76</th>\n",
       "      <td>0.00000</td>\n",
       "      <td>0.074163</td>\n",
       "      <td>0.074163</td>\n",
       "    </tr>\n",
       "  </tbody>\n",
       "</table>\n",
       "</div>"
      ],
      "text/plain": [
       "                    sfu       sfd      fnet\n",
       "pressure level                             \n",
       "0.0      1      0.13527  0.000000  0.135270\n",
       "1013.0   76     0.00000  0.074163  0.074163"
      ]
     },
     "metadata": {},
     "output_type": "display_data"
    },
    {
     "name": "stdout",
     "output_type": "stream",
     "text": [
      "Table: TOA and SFC flux. (WGT igg=10) - (CRD)\n"
     ]
    },
    {
     "data": {
      "text/html": [
       "<a id=\"Cooling_Rate_Comparison\"></a>"
      ],
      "text/plain": [
       "<IPython.core.display.HTML object>"
      ]
     },
     "metadata": {},
     "output_type": "display_data"
    },
    {
     "data": {
      "text/markdown": [
       "# Cooling Rate Comparison"
      ],
      "text/plain": [
       "<IPython.core.display.Markdown object>"
      ]
     },
     "metadata": {},
     "output_type": "display_data"
    },
    {
     "data": {
      "text/html": [
       "<div>\n",
       "<style>\n",
       "    .dataframe thead tr:only-child th {\n",
       "        text-align: right;\n",
       "    }\n",
       "\n",
       "    .dataframe thead th {\n",
       "        text-align: left;\n",
       "    }\n",
       "\n",
       "    .dataframe tbody tr th {\n",
       "        vertical-align: top;\n",
       "    }\n",
       "</style>\n",
       "<table border=\"1\" class=\"dataframe\">\n",
       "  <thead>\n",
       "    <tr style=\"text-align: right;\">\n",
       "      <th></th>\n",
       "      <th></th>\n",
       "      <th>coolr</th>\n",
       "    </tr>\n",
       "    <tr>\n",
       "      <th>pressure</th>\n",
       "      <th>layer</th>\n",
       "      <th></th>\n",
       "    </tr>\n",
       "  </thead>\n",
       "  <tbody>\n",
       "    <tr>\n",
       "      <th>0.000312</th>\n",
       "      <th>1</th>\n",
       "      <td>0.132025</td>\n",
       "    </tr>\n",
       "    <tr>\n",
       "      <th>1001.112500</th>\n",
       "      <th>75</th>\n",
       "      <td>0.072785</td>\n",
       "    </tr>\n",
       "  </tbody>\n",
       "</table>\n",
       "</div>"
      ],
      "text/plain": [
       "                      coolr\n",
       "pressure    layer          \n",
       "0.000312    1      0.132025\n",
       "1001.112500 75     0.072785"
      ]
     },
     "metadata": {},
     "output_type": "display_data"
    },
    {
     "name": "stdout",
     "output_type": "stream",
     "text": [
      "Table: TOA and SFC cooling rate. CRD\n"
     ]
    },
    {
     "data": {
      "text/html": [
       "<div>\n",
       "<style>\n",
       "    .dataframe thead tr:only-child th {\n",
       "        text-align: right;\n",
       "    }\n",
       "\n",
       "    .dataframe thead th {\n",
       "        text-align: left;\n",
       "    }\n",
       "\n",
       "    .dataframe tbody tr th {\n",
       "        vertical-align: top;\n",
       "    }\n",
       "</style>\n",
       "<table border=\"1\" class=\"dataframe\">\n",
       "  <thead>\n",
       "    <tr style=\"text-align: right;\">\n",
       "      <th></th>\n",
       "      <th></th>\n",
       "      <th>coolr</th>\n",
       "    </tr>\n",
       "    <tr>\n",
       "      <th>pressure</th>\n",
       "      <th>layer</th>\n",
       "      <th></th>\n",
       "    </tr>\n",
       "  </thead>\n",
       "  <tbody>\n",
       "    <tr>\n",
       "      <th>0.000312</th>\n",
       "      <th>1</th>\n",
       "      <td>0.278625</td>\n",
       "    </tr>\n",
       "    <tr>\n",
       "      <th>1001.112500</th>\n",
       "      <th>75</th>\n",
       "      <td>0.088032</td>\n",
       "    </tr>\n",
       "  </tbody>\n",
       "</table>\n",
       "</div>"
      ],
      "text/plain": [
       "                      coolr\n",
       "pressure    layer          \n",
       "0.000312    1      0.278625\n",
       "1001.112500 75     0.088032"
      ]
     },
     "metadata": {},
     "output_type": "display_data"
    },
    {
     "name": "stdout",
     "output_type": "stream",
     "text": [
      "Table: TOA and SFC cooling rate. WGT igg=1\n"
     ]
    },
    {
     "data": {
      "text/html": [
       "<div>\n",
       "<style>\n",
       "    .dataframe thead tr:only-child th {\n",
       "        text-align: right;\n",
       "    }\n",
       "\n",
       "    .dataframe thead th {\n",
       "        text-align: left;\n",
       "    }\n",
       "\n",
       "    .dataframe tbody tr th {\n",
       "        vertical-align: top;\n",
       "    }\n",
       "</style>\n",
       "<table border=\"1\" class=\"dataframe\">\n",
       "  <thead>\n",
       "    <tr style=\"text-align: right;\">\n",
       "      <th></th>\n",
       "      <th></th>\n",
       "      <th>coolr</th>\n",
       "    </tr>\n",
       "    <tr>\n",
       "      <th>pressure</th>\n",
       "      <th>layer</th>\n",
       "      <th></th>\n",
       "    </tr>\n",
       "  </thead>\n",
       "  <tbody>\n",
       "    <tr>\n",
       "      <th>0.000312</th>\n",
       "      <th>1</th>\n",
       "      <td>0.292653</td>\n",
       "    </tr>\n",
       "    <tr>\n",
       "      <th>1001.112500</th>\n",
       "      <th>75</th>\n",
       "      <td>0.088203</td>\n",
       "    </tr>\n",
       "  </tbody>\n",
       "</table>\n",
       "</div>"
      ],
      "text/plain": [
       "                      coolr\n",
       "pressure    layer          \n",
       "0.000312    1      0.292653\n",
       "1001.112500 75     0.088203"
      ]
     },
     "metadata": {},
     "output_type": "display_data"
    },
    {
     "name": "stdout",
     "output_type": "stream",
     "text": [
      "Table: TOA and SFC cooling rate. WGT igg=10\n"
     ]
    },
    {
     "data": {
      "text/html": [
       "<div>\n",
       "<style>\n",
       "    .dataframe thead tr:only-child th {\n",
       "        text-align: right;\n",
       "    }\n",
       "\n",
       "    .dataframe thead th {\n",
       "        text-align: left;\n",
       "    }\n",
       "\n",
       "    .dataframe tbody tr th {\n",
       "        vertical-align: top;\n",
       "    }\n",
       "</style>\n",
       "<table border=\"1\" class=\"dataframe\">\n",
       "  <thead>\n",
       "    <tr style=\"text-align: right;\">\n",
       "      <th></th>\n",
       "      <th></th>\n",
       "      <th>coolr</th>\n",
       "    </tr>\n",
       "    <tr>\n",
       "      <th>pressure</th>\n",
       "      <th>layer</th>\n",
       "      <th></th>\n",
       "    </tr>\n",
       "  </thead>\n",
       "  <tbody>\n",
       "    <tr>\n",
       "      <th>0.000312</th>\n",
       "      <th>1</th>\n",
       "      <td>0.146600</td>\n",
       "    </tr>\n",
       "    <tr>\n",
       "      <th>1001.112500</th>\n",
       "      <th>75</th>\n",
       "      <td>0.015247</td>\n",
       "    </tr>\n",
       "  </tbody>\n",
       "</table>\n",
       "</div>"
      ],
      "text/plain": [
       "                      coolr\n",
       "pressure    layer          \n",
       "0.000312    1      0.146600\n",
       "1001.112500 75     0.015247"
      ]
     },
     "metadata": {},
     "output_type": "display_data"
    },
    {
     "name": "stdout",
     "output_type": "stream",
     "text": [
      "Table: TOA and SFC cooling rate. (WGT igg=1) - (CRD)\n"
     ]
    },
    {
     "data": {
      "text/html": [
       "<div>\n",
       "<style>\n",
       "    .dataframe thead tr:only-child th {\n",
       "        text-align: right;\n",
       "    }\n",
       "\n",
       "    .dataframe thead th {\n",
       "        text-align: left;\n",
       "    }\n",
       "\n",
       "    .dataframe tbody tr th {\n",
       "        vertical-align: top;\n",
       "    }\n",
       "</style>\n",
       "<table border=\"1\" class=\"dataframe\">\n",
       "  <thead>\n",
       "    <tr style=\"text-align: right;\">\n",
       "      <th></th>\n",
       "      <th></th>\n",
       "      <th>coolr</th>\n",
       "    </tr>\n",
       "    <tr>\n",
       "      <th>pressure</th>\n",
       "      <th>layer</th>\n",
       "      <th></th>\n",
       "    </tr>\n",
       "  </thead>\n",
       "  <tbody>\n",
       "    <tr>\n",
       "      <th>0.000312</th>\n",
       "      <th>1</th>\n",
       "      <td>0.160629</td>\n",
       "    </tr>\n",
       "    <tr>\n",
       "      <th>1001.112500</th>\n",
       "      <th>75</th>\n",
       "      <td>0.015418</td>\n",
       "    </tr>\n",
       "  </tbody>\n",
       "</table>\n",
       "</div>"
      ],
      "text/plain": [
       "                      coolr\n",
       "pressure    layer          \n",
       "0.000312    1      0.160629\n",
       "1001.112500 75     0.015418"
      ]
     },
     "metadata": {},
     "output_type": "display_data"
    },
    {
     "name": "stdout",
     "output_type": "stream",
     "text": [
      "Table: TOA and SFC cooling rate. (WGT igg=10) - (CRD)\n"
     ]
    }
   ],
   "source": [
    "script()"
   ]
  },
  {
   "cell_type": "code",
   "execution_count": 15,
   "metadata": {},
   "outputs": [
    {
     "data": {
      "text/html": [
       "<script>\n",
       "code_show=true; \n",
       "function code_toggle() {\n",
       " if (code_show){\n",
       " $('div.input').hide();\n",
       " } else {\n",
       " $('div.input').show();\n",
       " }\n",
       " code_show = !code_show\n",
       "} \n",
       "$( document ).ready(code_toggle);\n",
       "</script>\n",
       "<form action=\"javascript:code_toggle()\"><input type=\"submit\" value=\"Click here to toggle on/off the raw code.\"></form>"
      ],
      "text/plain": [
       "<IPython.core.display.HTML object>"
      ]
     },
     "execution_count": 15,
     "metadata": {},
     "output_type": "execute_result"
    }
   ],
   "source": [
    "display.HTML('''<script>\n",
    "code_show=true; \n",
    "function code_toggle() {\n",
    " if (code_show){\n",
    " $('div.input').hide();\n",
    " } else {\n",
    " $('div.input').show();\n",
    " }\n",
    " code_show = !code_show\n",
    "} \n",
    "$( document ).ready(code_toggle);\n",
    "</script>\n",
    "<form action=\"javascript:code_toggle()\"><input type=\"submit\" value=\"Click here to toggle on/off the raw code.\"></form>''')"
   ]
  },
  {
   "cell_type": "code",
   "execution_count": 16,
   "metadata": {
    "collapsed": true
   },
   "outputs": [],
   "source": []
  }
 ],
 "metadata": {
  "kernelspec": {
   "display_name": "Python 3",
   "language": "python",
   "name": "python3"
  },
  "language_info": {
   "codemirror_mode": {
    "name": "ipython",
    "version": 3
   },
   "file_extension": ".py",
   "mimetype": "text/x-python",
   "name": "python",
   "nbconvert_exporter": "python",
   "pygments_lexer": "ipython3",
   "version": "3.6.1"
  }
 },
 "nbformat": 4,
 "nbformat_minor": 2
}
