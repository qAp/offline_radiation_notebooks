{
 "cells": [
  {
   "cell_type": "code",
   "execution_count": 4,
   "metadata": {
    "collapsed": true
   },
   "outputs": [],
   "source": [
    "%matplotlib inline\n",
    "import os\n",
    "import sys\n",
    "\n",
    "import numpy as np\n",
    "import pandas as pd\n",
    "import xarray as xr\n",
    "import matplotlib.pyplot as plt\n",
    "\n",
    "import rtmtools.lblrtm.visualisation as viz\n",
    "\n",
    "from IPython import display"
   ]
  },
  {
   "cell_type": "code",
   "execution_count": 5,
   "metadata": {
    "collapsed": true
   },
   "outputs": [],
   "source": [
    "dir_run = os.path.join('/nuwa_cluster/home/jackyu',\n",
    "                       'radiation/crd/LW/examples',\n",
    "                       'separate_g_groups',\n",
    "                       'study__lblnew_g1_threshold',\n",
    "                       '2.80244E-20_r8')\n",
    "                       \n",
    "path_dgdgs = os.path.join(dir_run, 'dgdgs.dat')\n",
    "path_absmean = os.path.join(dir_run, 'absmean.dat')\n",
    "path_fluxg = os.path.join(dir_run, 'output_fluxg.dat')\n",
    "path_coolrg = os.path.join(dir_run, 'output_coolrg.dat')\n",
    "path_flux = os.path.join(dir_run, 'output_flux.dat')\n",
    "path_coolr = os.path.join(dir_run, 'output_coolr.dat')\n",
    "                       "
   ]
  },
  {
   "cell_type": "code",
   "execution_count": 6,
   "metadata": {
    "collapsed": true
   },
   "outputs": [],
   "source": [
    "dir_clirad = os.path.join('/nuwa_cluster/home/jackyu',\n",
    "                          'radiation/clirad/LW/examples',\n",
    "                          '1_0912_mdc_Steve_CLIRAD_lw',\n",
    "                          'g1_threshold',\n",
    "                          '2.80244E-20_r8',\n",
    "                          'dgs')\n",
    "\n",
    "path_coolr_k1 = os.path.join(dir_clirad, 'b07_coolr_k1.txt')\n",
    "path_coolr_k2 = os.path.join(dir_clirad, 'b07_coolr_k2.txt')\n",
    "path_coolr_k3 = os.path.join(dir_clirad, 'b07_coolr_k3.txt')\n",
    "path_coolr_k4 = os.path.join(dir_clirad, 'b07_coolr_k4.txt')\n",
    "\n",
    "path_sfd_k1 = os.path.join(dir_clirad, 'b07_sfd_k1.txt')\n",
    "path_sfd_k2 = os.path.join(dir_clirad, 'b07_sfd_k2.txt')\n",
    "path_sfd_k3 = os.path.join(dir_clirad, 'b07_sfd_k3.txt')\n",
    "path_sfd_k4 = os.path.join(dir_clirad, 'b07_sfd_k4.txt')\n",
    "\n",
    "path_sfu_k1 = os.path.join(dir_clirad, 'b07_sfu_k1.txt')\n",
    "path_sfu_k2 = os.path.join(dir_clirad, 'b07_sfu_k2.txt')\n",
    "path_sfu_k3 = os.path.join(dir_clirad, 'b07_sfu_k3.txt')\n",
    "path_sfu_k4 = os.path.join(dir_clirad, 'b07_sfu_k4.txt')\n",
    "\n",
    "path_fnet_k1 = os.path.join(dir_clirad, 'b07_fnet_k1.txt')\n",
    "path_fnet_k2 = os.path.join(dir_clirad, 'b07_fnet_k2.txt')\n",
    "path_fnet_k3 = os.path.join(dir_clirad, 'b07_fnet_k3.txt')\n",
    "path_fnet_k4 = os.path.join(dir_clirad, 'b07_fnet_k4.txt')"
   ]
  },
  {
   "cell_type": "code",
   "execution_count": 7,
   "metadata": {
    "collapsed": false
   },
   "outputs": [],
   "source": [
    "# load fluxg\n",
    "df = pd.read_csv(path_fluxg, sep=r'\\s+')\n",
    "df = df.set_index(['pressure', 'g'])\n",
    "\n",
    "ds = xr.Dataset.from_dataframe(df)\n",
    "ds_fluxg = ds.set_coords(['level'])"
   ]
  },
  {
   "cell_type": "code",
   "execution_count": 8,
   "metadata": {
    "collapsed": true
   },
   "outputs": [],
   "source": [
    "# load coolrg\n",
    "df = pd.read_csv(path_coolrg, sep=r'\\s+')\n",
    "df = df.set_index(['pressure', 'g'])\n",
    "\n",
    "ds = xr.Dataset.from_dataframe(df)\n",
    "ds_coolrg = ds.set_coords(['layer'])"
   ]
  },
  {
   "cell_type": "code",
   "execution_count": 9,
   "metadata": {
    "collapsed": true
   },
   "outputs": [],
   "source": [
    "# load flux\n",
    "df = pd.read_csv(path_flux, sep=r'\\s+')\n",
    "df = df.set_index(['pressure'])\n",
    "\n",
    "ds = xr.Dataset.from_dataframe(df)\n",
    "ds_flux = ds.set_coords(['level'])"
   ]
  },
  {
   "cell_type": "code",
   "execution_count": 10,
   "metadata": {
    "collapsed": true
   },
   "outputs": [],
   "source": [
    "# load coolr\n",
    "df = pd.read_csv(path_coolr, sep=r'\\s+')\n",
    "df = df.set_index(['pressure'])\n",
    "\n",
    "ds = xr.Dataset.from_dataframe(df)\n",
    "ds_coolr = ds.set_coords(['layer'])"
   ]
  },
  {
   "cell_type": "code",
   "execution_count": 11,
   "metadata": {
    "collapsed": false
   },
   "outputs": [],
   "source": [
    "# load absmean\n",
    "df = pd.read_csv(path_absmean, sep=r'\\s+')\n",
    "df = df.set_index(['pressure', 'g'])\n",
    "\n",
    "ds = xr.Dataset.from_dataframe(df)\n",
    "ds_absmean = ds.set_coords(['layer'])"
   ]
  },
  {
   "cell_type": "code",
   "execution_count": 12,
   "metadata": {
    "collapsed": true
   },
   "outputs": [],
   "source": [
    "# load dgdgs\n",
    "df = pd.read_csv(path_dgdgs, sep=r'\\s+')\n",
    "df = df.set_index(['g'])\n",
    "\n",
    "ds_dgdgs = xr.Dataset.from_dataframe(df)"
   ]
  },
  {
   "cell_type": "code",
   "execution_count": 14,
   "metadata": {
    "collapsed": false
   },
   "outputs": [],
   "source": [
    "# load clirad's fluxg\n",
    "paths_flug = [path_sfu_k1, path_sfu_k2, path_sfu_k3, path_sfu_k4]\n",
    "paths_fldg = [path_sfd_k1, path_sfd_k2, path_sfd_k3, path_sfd_k4]\n",
    "paths_fnetg = [path_fnet_k1, path_fnet_k2, path_fnet_k3, path_fnet_k4]\n",
    "\n",
    "df_flug = pd.concat([pd.read_csv(path, header=None)\n",
    "                     for path in paths_flug], axis=1)\n",
    "df_fldg = pd.concat([pd.read_csv(path, header=None)\n",
    "                     for path in paths_fldg], axis=1)\n",
    "df_fnetg = pd.concat([pd.read_csv(path, header=None)\n",
    "                      for path in paths_fnetg], axis=1)\n",
    "\n",
    "ds = xr.Dataset()\n",
    "ds.coords['pressure'] = ('pressure', ds_fluxg.coords['pressure'])\n",
    "ds.coords['g'] = ('g', ds_fluxg.coords['g'])\n",
    "ds.coords['level'] = ('pressure', range(1, ds_fluxg.dims['pressure'] + 1))\n",
    "ds['flug'] = (('pressure', 'g'), df_flug)\n",
    "ds['fldg'] = (('pressure', 'g'), df_fldg)\n",
    "ds['fnetg'] = (('pressure', 'g'), df_fnetg)\n",
    "\n",
    "ds_fluxg_clirad = ds"
   ]
  },
  {
   "cell_type": "code",
   "execution_count": 15,
   "metadata": {
    "collapsed": true
   },
   "outputs": [],
   "source": [
    "# write out absmean into CLIRAD-compatible input files\n",
    "for g in ds_absmean.coords['g']:\n",
    "    if g == 1:\n",
    "        ds_absmean['absmean'].sel(g=g).to_pandas()\\\n",
    "        .to_csv('group{g:d}_mean{g:d}k.txt'.format(g=int(g)), \n",
    "                sep=' ', index=None)\n",
    "    else:\n",
    "        ds_absmean['absmeanlog'].sel(g=g).to_pandas()\\\n",
    "        .to_csv('group{g:d}_mean{g:d}k.txt'.format(g=int(g)), \n",
    "                sep=' ', index=None)"
   ]
  },
  {
   "cell_type": "code",
   "execution_count": 16,
   "metadata": {
    "collapsed": false
   },
   "outputs": [
    {
     "name": "stdout",
     "output_type": "stream",
     "text": [
      "\n",
      "dgs\n"
     ]
    },
    {
     "data": {
      "text/html": [
       "<div>\n",
       "<table border=\"1\" class=\"dataframe\">\n",
       "  <thead>\n",
       "    <tr style=\"text-align: right;\">\n",
       "      <th></th>\n",
       "      <th>dgs</th>\n",
       "    </tr>\n",
       "    <tr>\n",
       "      <th>g</th>\n",
       "      <th></th>\n",
       "    </tr>\n",
       "  </thead>\n",
       "  <tbody>\n",
       "    <tr>\n",
       "      <th>1</th>\n",
       "      <td>0.684227</td>\n",
       "    </tr>\n",
       "    <tr>\n",
       "      <th>2</th>\n",
       "      <td>0.006775</td>\n",
       "    </tr>\n",
       "    <tr>\n",
       "      <th>3</th>\n",
       "      <td>0.248502</td>\n",
       "    </tr>\n",
       "    <tr>\n",
       "      <th>4</th>\n",
       "      <td>0.060495</td>\n",
       "    </tr>\n",
       "  </tbody>\n",
       "</table>\n",
       "</div>"
      ],
      "text/plain": [
       "        dgs\n",
       "g          \n",
       "1  0.684227\n",
       "2  0.006775\n",
       "3  0.248502\n",
       "4  0.060495"
      ]
     },
     "execution_count": 16,
     "metadata": {},
     "output_type": "execute_result"
    }
   ],
   "source": [
    "print()\n",
    "print('dgs')\n",
    "\n",
    "ds_dgdgs['dgs'].to_dataframe()"
   ]
  },
  {
   "cell_type": "code",
   "execution_count": 17,
   "metadata": {
    "collapsed": false
   },
   "outputs": [
    {
     "name": "stdout",
     "output_type": "stream",
     "text": [
      "\n",
      "crd\n"
     ]
    },
    {
     "data": {
      "text/html": [
       "<div>\n",
       "<table border=\"1\" class=\"dataframe\">\n",
       "  <thead>\n",
       "    <tr style=\"text-align: right;\">\n",
       "      <th></th>\n",
       "      <th>g</th>\n",
       "      <th>level</th>\n",
       "      <th>flug</th>\n",
       "      <th>fldg</th>\n",
       "      <th>fnetg</th>\n",
       "    </tr>\n",
       "    <tr>\n",
       "      <th>pressure</th>\n",
       "      <th></th>\n",
       "      <th></th>\n",
       "      <th></th>\n",
       "      <th></th>\n",
       "      <th></th>\n",
       "    </tr>\n",
       "  </thead>\n",
       "  <tbody>\n",
       "    <tr>\n",
       "      <th>0</th>\n",
       "      <td>1</td>\n",
       "      <td>1</td>\n",
       "      <td>-15.997941</td>\n",
       "      <td>0.000000</td>\n",
       "      <td>-15.997941</td>\n",
       "    </tr>\n",
       "    <tr>\n",
       "      <th>1013</th>\n",
       "      <td>1</td>\n",
       "      <td>76</td>\n",
       "      <td>-16.293084</td>\n",
       "      <td>0.539599</td>\n",
       "      <td>-15.753486</td>\n",
       "    </tr>\n",
       "  </tbody>\n",
       "</table>\n",
       "</div>"
      ],
      "text/plain": [
       "          g  level       flug      fldg      fnetg\n",
       "pressure                                          \n",
       "0         1      1 -15.997941  0.000000 -15.997941\n",
       "1013      1     76 -16.293084  0.539599 -15.753486"
      ]
     },
     "execution_count": 17,
     "metadata": {},
     "output_type": "execute_result"
    }
   ],
   "source": [
    "print()\n",
    "print('crd')\n",
    "ds_fluxg.sel(g=1).isel(pressure=[0, 75]).to_dataframe()"
   ]
  },
  {
   "cell_type": "code",
   "execution_count": 18,
   "metadata": {
    "collapsed": false
   },
   "outputs": [
    {
     "name": "stdout",
     "output_type": "stream",
     "text": [
      "clirad\n"
     ]
    },
    {
     "data": {
      "text/html": [
       "<div>\n",
       "<table border=\"1\" class=\"dataframe\">\n",
       "  <thead>\n",
       "    <tr style=\"text-align: right;\">\n",
       "      <th></th>\n",
       "      <th>g</th>\n",
       "      <th>level</th>\n",
       "      <th>flug</th>\n",
       "      <th>fldg</th>\n",
       "      <th>fnetg</th>\n",
       "    </tr>\n",
       "    <tr>\n",
       "      <th>pressure</th>\n",
       "      <th></th>\n",
       "      <th></th>\n",
       "      <th></th>\n",
       "      <th></th>\n",
       "      <th></th>\n",
       "    </tr>\n",
       "  </thead>\n",
       "  <tbody>\n",
       "    <tr>\n",
       "      <th>0</th>\n",
       "      <td>1</td>\n",
       "      <td>1</td>\n",
       "      <td>-15.92984</td>\n",
       "      <td>0.0000</td>\n",
       "      <td>-15.92984</td>\n",
       "    </tr>\n",
       "    <tr>\n",
       "      <th>1013</th>\n",
       "      <td>1</td>\n",
       "      <td>76</td>\n",
       "      <td>-16.24397</td>\n",
       "      <td>0.5841</td>\n",
       "      <td>-15.65987</td>\n",
       "    </tr>\n",
       "  </tbody>\n",
       "</table>\n",
       "</div>"
      ],
      "text/plain": [
       "          g  level      flug    fldg     fnetg\n",
       "pressure                                      \n",
       "0         1      1 -15.92984  0.0000 -15.92984\n",
       "1013      1     76 -16.24397  0.5841 -15.65987"
      ]
     },
     "execution_count": 18,
     "metadata": {},
     "output_type": "execute_result"
    }
   ],
   "source": [
    "print('clirad')\n",
    "ds_fluxg_clirad.sel(g=1).isel(pressure=[0, 75]).to_dataframe()"
   ]
  },
  {
   "cell_type": "code",
   "execution_count": 19,
   "metadata": {
    "collapsed": false
   },
   "outputs": [
    {
     "name": "stdout",
     "output_type": "stream",
     "text": [
      "clirad - crd\n"
     ]
    },
    {
     "data": {
      "text/html": [
       "<div>\n",
       "<table border=\"1\" class=\"dataframe\">\n",
       "  <thead>\n",
       "    <tr style=\"text-align: right;\">\n",
       "      <th></th>\n",
       "      <th></th>\n",
       "      <th></th>\n",
       "      <th>flug</th>\n",
       "      <th>fldg</th>\n",
       "      <th>fnetg</th>\n",
       "    </tr>\n",
       "    <tr>\n",
       "      <th>pressure</th>\n",
       "      <th>g</th>\n",
       "      <th>level</th>\n",
       "      <th></th>\n",
       "      <th></th>\n",
       "      <th></th>\n",
       "    </tr>\n",
       "  </thead>\n",
       "  <tbody>\n",
       "    <tr>\n",
       "      <th>0</th>\n",
       "      <th>1</th>\n",
       "      <th>1</th>\n",
       "      <td>0.068101</td>\n",
       "      <td>0.000000</td>\n",
       "      <td>0.068101</td>\n",
       "    </tr>\n",
       "    <tr>\n",
       "      <th>1013</th>\n",
       "      <th>1</th>\n",
       "      <th>76</th>\n",
       "      <td>0.049114</td>\n",
       "      <td>0.044501</td>\n",
       "      <td>0.093616</td>\n",
       "    </tr>\n",
       "  </tbody>\n",
       "</table>\n",
       "</div>"
      ],
      "text/plain": [
       "                      flug      fldg     fnetg\n",
       "pressure g level                              \n",
       "0        1 1      0.068101  0.000000  0.068101\n",
       "1013     1 76     0.049114  0.044501  0.093616"
      ]
     },
     "execution_count": 19,
     "metadata": {},
     "output_type": "execute_result"
    }
   ],
   "source": [
    "print('clirad - crd')\n",
    "(ds_fluxg_clirad\\\n",
    " .sel(g=1).isel(pressure=[0, 75])\\\n",
    " .to_dataframe().set_index(['g', 'level'], append=True)\n",
    " - ds_fluxg\\\n",
    " .sel(g=1).isel(pressure=[0, 75])\\\n",
    " .to_dataframe().set_index(['g', 'level'], append=True))"
   ]
  },
  {
   "cell_type": "code",
   "execution_count": 20,
   "metadata": {
    "collapsed": false
   },
   "outputs": [
    {
     "data": {
      "text/html": [
       "<script>\n",
       "code_show=true; \n",
       "function code_toggle() {\n",
       " if (code_show){\n",
       " $('div.input').hide();\n",
       " } else {\n",
       " $('div.input').show();\n",
       " }\n",
       " code_show = !code_show\n",
       "} \n",
       "$( document ).ready(code_toggle);\n",
       "</script>\n",
       "<form action=\"javascript:code_toggle()\"><input type=\"submit\" value=\"Click here to toggle on/off the raw code.\"></form>"
      ],
      "text/plain": [
       "<IPython.core.display.HTML object>"
      ]
     },
     "execution_count": 20,
     "metadata": {},
     "output_type": "execute_result"
    }
   ],
   "source": [
    "display.HTML('''<script>\n",
    "code_show=true; \n",
    "function code_toggle() {\n",
    " if (code_show){\n",
    " $('div.input').hide();\n",
    " } else {\n",
    " $('div.input').show();\n",
    " }\n",
    " code_show = !code_show\n",
    "} \n",
    "$( document ).ready(code_toggle);\n",
    "</script>\n",
    "<form action=\"javascript:code_toggle()\"><input type=\"submit\" value=\"Click here to toggle on/off the raw code.\"></form>''')"
   ]
  },
  {
   "cell_type": "code",
   "execution_count": null,
   "metadata": {
    "collapsed": true
   },
   "outputs": [],
   "source": []
  }
 ],
 "metadata": {
  "kernelspec": {
   "display_name": "Python 3",
   "language": "python",
   "name": "python3"
  },
  "language_info": {
   "codemirror_mode": {
    "name": "ipython",
    "version": 3
   },
   "file_extension": ".py",
   "mimetype": "text/x-python",
   "name": "python",
   "nbconvert_exporter": "python",
   "pygments_lexer": "ipython3",
   "version": "3.4.4"
  }
 },
 "nbformat": 4,
 "nbformat_minor": 0
}
