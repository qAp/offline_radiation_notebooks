{
 "cells": [
  {
   "cell_type": "code",
   "execution_count": 2,
   "metadata": {
    "collapsed": false
   },
   "outputs": [],
   "source": [
    "%matplotlib inline\n",
    "\n",
    "import os\n",
    "import sys\n",
    "\n",
    "import numpy as np\n",
    "import pandas as pd\n",
    "import xarray as xr\n",
    "\n",
    "import matplotlib.pyplot as plt"
   ]
  },
  {
   "cell_type": "code",
   "execution_count": 179,
   "metadata": {
    "collapsed": true
   },
   "outputs": [],
   "source": [
    "# Git: b60a76d\n",
    "\n",
    "# There is something wrong with the fluxes computed.\n",
    "# Transmittance, fluxes inside and just outside irflux() are examined.\n",
    "# `bu` and `bd` (layer emission) inside irflux() are examined.\n",
    "\n",
    "# These show that the bug happens when constructin fluxes from \n",
    "# `bu`, `bd`  and transmittance."
   ]
  },
  {
   "cell_type": "code",
   "execution_count": 9,
   "metadata": {
    "collapsed": false
   },
   "outputs": [],
   "source": [
    "dir_run = os.path.join('/nuwa_cluster/home/jackyu',\n",
    "                       'radiation/crd/LW/examples',\n",
    "                       'separate_g_groups',\n",
    "                       'lblnew_20160916_tmp')\n",
    "\n",
    "path_meank = os.path.join(dir_run, 'absmean.dat')\n",
    "path_gk = os.path.join(dir_run, 'gk.dat')\n",
    "\n",
    "path_trang = os.path.join(dir_run, 'trang.dat')\n",
    "path_trang_in = os.path.join(dir_run, 'trang_in_irflux.dat')\n",
    "path_fluxg = os.path.join(dir_run, 'fluxg.dat')\n",
    "path_fluxg_in = os.path.join(dir_run, 'fluxg_in_irflux.dat')\n",
    "\n",
    "path_bubd = os.path.join(dir_run, 'bubd.dat')"
   ]
  },
  {
   "cell_type": "code",
   "execution_count": 4,
   "metadata": {
    "collapsed": true
   },
   "outputs": [],
   "source": [
    "DICT_FORT = {'flug': 23,\n",
    "             'fldg': 24, \n",
    "             'fnetg': 22,\n",
    "             'coolrg': 25,\n",
    "             'sfu': 27,\n",
    "             'sfd': 26,\n",
    "             'fnet': 28, \n",
    "             'coolr': 29}"
   ]
  },
  {
   "cell_type": "code",
   "execution_count": 5,
   "metadata": {
    "collapsed": false
   },
   "outputs": [],
   "source": [
    "# for loading `fnetg`\n",
    "\n",
    "path_fnetg = os.path.join(dir_run, 'fort.{fnetg:d}'.format(**DICT_FORT))\n",
    "df = pd.read_csv(path_fnetg, header=None)\n",
    "\n",
    "n_layer, n_ggroup = 75, 4\n",
    "\n",
    "n_level = n_layer + 1\n",
    "df = pd.DataFrame(df.values.reshape(n_ggroup, n_level).transpose())\n",
    "df.index = range(1, n_level + 1)\n",
    "df.index.names = ['level']\n",
    "df.columns = range(1, n_ggroup + 1)\n",
    "df.columns.names = ['ggroup']"
   ]
  },
  {
   "cell_type": "code",
   "execution_count": 116,
   "metadata": {
    "collapsed": false
   },
   "outputs": [],
   "source": [
    "# for loading `gk`\n",
    "df = pd.read_csv(path_gk, sep=r'\\s+', index_col=list(range(2)))\n",
    "srs = df.stack()\n",
    "srs.index = srs.index.droplevel(2)\n",
    "da_gk = xr.DataArray.from_series(srs)"
   ]
  },
  {
   "cell_type": "code",
   "execution_count": 6,
   "metadata": {
    "collapsed": true
   },
   "outputs": [],
   "source": [
    "#### load transmittance"
   ]
  },
  {
   "cell_type": "code",
   "execution_count": 127,
   "metadata": {
    "collapsed": true
   },
   "outputs": [],
   "source": [
    "# for loading trang.dat\n",
    "df = pd.read_csv(path_trang, sep=r'\\s+', index_col=list(range(4)))\n",
    "srs = df.stack()\n",
    "srs.index = srs.index.droplevel(4)\n",
    "da_trang = xr.DataArray.from_series(srs)"
   ]
  },
  {
   "cell_type": "code",
   "execution_count": 133,
   "metadata": {
    "collapsed": true
   },
   "outputs": [],
   "source": [
    "# for loading trang_in_irflux.dat\n",
    "df = pd.read_csv(path_trang_in, sep=r'\\s+', index_col=list(range(4)))\n",
    "srs = df.stack()\n",
    "srs.index = srs.index.droplevel(4)\n",
    "da_trang_in = xr.DataArray.from_series(srs)"
   ]
  },
  {
   "cell_type": "code",
   "execution_count": 7,
   "metadata": {
    "collapsed": true
   },
   "outputs": [],
   "source": [
    "#### load flux"
   ]
  },
  {
   "cell_type": "code",
   "execution_count": 144,
   "metadata": {
    "collapsed": false,
    "scrolled": false
   },
   "outputs": [],
   "source": [
    "# for loading fluxg.dat --- `flu`, `fld`\n",
    "df = pd.read_csv(path_fluxg, sep=r'\\s+', index_col=list(range(3)))\n",
    "ds_fluxg = xr.Dataset.from_dataframe(df)"
   ]
  },
  {
   "cell_type": "code",
   "execution_count": 152,
   "metadata": {
    "collapsed": false
   },
   "outputs": [],
   "source": [
    "# for loading fluxg_in_irflux.dat --- `flu`, `fld`\n",
    "df = pd.read_csv(path_fluxg_in, sep=r'\\s+', index_col=list(range(3)))\n",
    "ds_fluxg_in = xr.Dataset.from_dataframe(df)"
   ]
  },
  {
   "cell_type": "code",
   "execution_count": 155,
   "metadata": {
    "collapsed": false,
    "scrolled": false
   },
   "outputs": [],
   "source": [
    "#### load bu bd\n",
    "df = pd.read_csv(path_bubd, sep=r'\\s+', index_col=list(range(3)))\n",
    "ds_bubd = xr.Dataset.from_dataframe(df)"
   ]
  },
  {
   "cell_type": "code",
   "execution_count": 76,
   "metadata": {
    "collapsed": false
   },
   "outputs": [
    {
     "data": {
      "text/plain": [
       "<xarray.DataArray ()>\n",
       "array(0.0)\n",
       "Coordinates:\n",
       "    iband    int64 1\n",
       "    ig       int64 2"
      ]
     },
     "execution_count": 76,
     "metadata": {},
     "output_type": "execute_result"
    }
   ],
   "source": [
    "da_gk.sel(iband=1, ig=2)"
   ]
  },
  {
   "cell_type": "code",
   "execution_count": 27,
   "metadata": {
    "collapsed": false,
    "scrolled": false
   },
   "outputs": [
    {
     "data": {
      "text/plain": [
       "<matplotlib.colorbar.Colorbar at 0x2aad2e48c6a0>"
      ]
     },
     "execution_count": 27,
     "metadata": {},
     "output_type": "execute_result"
    },
    {
     "name": "stderr",
     "output_type": "stream",
     "text": [
      "/nuwa_cluster/home/jackyu/locally_installed_python_pacakges/anaconda3/lib/python3.4/site-packages/matplotlib/collections.py:590: FutureWarning: elementwise comparison failed; returning scalar instead, but in the future will perform elementwise comparison\n",
      "  if self._edgecolors == str('face'):\n"
     ]
    },
    {
     "data": {
      "image/png": "[encoded data removed]",
      "text/plain": [
       "<matplotlib.figure.Figure at 0x2aad2e3e6080>"
      ]
     },
     "metadata": {},
     "output_type": "display_data"
    }
   ],
   "source": [
    "plt.imshow(da_trang_in.sel(iband=1, ig=1))\n",
    "plt.colorbar()"
   ]
  },
  {
   "cell_type": "code",
   "execution_count": 32,
   "metadata": {
    "collapsed": false
   },
   "outputs": [
    {
     "data": {
      "text/plain": [
       "[<matplotlib.lines.Line2D at 0x2aad2e648fd0>]"
      ]
     },
     "execution_count": 32,
     "metadata": {},
     "output_type": "execute_result"
    },
    {
     "data": {
      "image/png": "[encoded data removed]",
      "text/plain": [
       "<matplotlib.figure.Figure at 0x2aad2e581a20>"
      ]
     },
     "metadata": {},
     "output_type": "display_data"
    }
   ],
   "source": [
    "da_trang.sel(iband=1, ig=1, ilevel=30).plot()"
   ]
  },
  {
   "cell_type": "code",
   "execution_count": 147,
   "metadata": {
    "collapsed": false
   },
   "outputs": [
    {
     "data": {
      "text/plain": [
       "<xarray.DataArray ()>\n",
       "array(True, dtype=bool)"
      ]
     },
     "execution_count": 147,
     "metadata": {},
     "output_type": "execute_result"
    }
   ],
   "source": [
    "# transmittance is positive definite\n",
    "(da_trang >= 0).all()"
   ]
  },
  {
   "cell_type": "code",
   "execution_count": 148,
   "metadata": {
    "collapsed": false
   },
   "outputs": [
    {
     "data": {
      "text/plain": [
       "count    3812160.000000\n",
       "mean           0.404597\n",
       "std            0.453913\n",
       "min            0.000000\n",
       "25%            0.000000\n",
       "50%            0.000000\n",
       "75%            0.967296\n",
       "max            1.000000\n",
       "dtype: float64"
      ]
     },
     "execution_count": 148,
     "metadata": {},
     "output_type": "execute_result"
    }
   ],
   "source": [
    "# transmittance ranges between 0 and 1\n",
    "da_trang.to_series().describe()"
   ]
  },
  {
   "cell_type": "code",
   "execution_count": 9,
   "metadata": {
    "collapsed": false,
    "scrolled": false
   },
   "outputs": [
    {
     "data": {
      "text/plain": [
       "<xarray.DataArray (ilevel: 76)>\n",
       "array([  0.00000000e+00,   2.01070000e-04,   2.62190000e-04,\n",
       "         3.51040000e-04,   3.63290000e-04,   3.69930000e-04,\n",
       "         3.76590000e-04,   3.83340000e-04,   3.90200000e-04,\n",
       "         3.97140000e-04,   4.04140000e-04,   4.11340000e-04,\n",
       "         4.24610000e-04,   6.38610000e-04,   1.67867000e-03,\n",
       "         3.88065000e-03,   6.40330000e-03,   8.42802000e-03,\n",
       "         1.02713500e-02,   1.23726400e-02,   1.47790200e-02,\n",
       "         1.65000400e-02,   1.34170600e-02,   4.20280000e-03,\n",
       "        -1.05446500e-02,  -1.38990500e-02,  -1.34824400e-02,\n",
       "        -1.17371000e-02,  -9.78289000e-03,  -8.08843000e-03,\n",
       "        -6.83952000e-03,  -5.69799000e-03,  -4.33571000e-03,\n",
       "        -3.08597000e-03,  -2.36586000e-03,  -1.81811000e-03,\n",
       "        -9.52530000e-04,  -2.16190000e-04,   1.43910000e-04,\n",
       "         8.38710000e-04,   2.27068000e-03,   3.69838000e-03,\n",
       "         4.41874000e-03,   4.64466000e-03,   4.75782000e-03,\n",
       "         4.84862000e-03,   4.92418000e-03,   4.98477000e-03,\n",
       "         5.02806000e-03,   5.04879000e-03,   5.04184000e-03,\n",
       "         5.00862000e-03,   4.96017000e-03,   4.91214000e-03,\n",
       "         4.87553000e-03,   4.85224000e-03,   4.83866000e-03,\n",
       "         4.83080000e-03,   4.82574000e-03,   4.82173000e-03,\n",
       "         4.81805000e-03,   4.81393000e-03,   4.80765000e-03,\n",
       "         4.79519000e-03,   4.76760000e-03,   4.70519000e-03,\n",
       "         4.57485000e-03,   4.34854000e-03,   4.04154000e-03,\n",
       "         3.72371000e-03,   3.47054000e-03,   3.30830000e-03,\n",
       "         3.21691000e-03,   3.16611000e-03,   3.14110000e-03,\n",
       "        -1.73847630e-01])\n",
       "Coordinates:\n",
       "    iband    int64 2\n",
       "  * ilevel   (ilevel) int64 1 2 3 4 5 6 7 8 9 10 11 12 13 14 15 16 17 18 19 ...\n",
       "    ig       int64 1"
      ]
     },
     "execution_count": 9,
     "metadata": {},
     "output_type": "execute_result"
    }
   ],
   "source": [
    "# look at downward flux computed when gk(ig, iband) != 0\n",
    "# iband=2, ig=1 shows a problematic jump at the bottom level\n",
    "ds_fluxg['fld'].where(da_gk != 0.).sel(iband=2, ig=1)"
   ]
  },
  {
   "cell_type": "code",
   "execution_count": 150,
   "metadata": {
    "collapsed": false
   },
   "outputs": [
    {
     "data": {
      "text/plain": [
       "<matplotlib.colorbar.Colorbar at 0x2aad5c226e48>"
      ]
     },
     "execution_count": 150,
     "metadata": {},
     "output_type": "execute_result"
    },
    {
     "name": "stderr",
     "output_type": "stream",
     "text": [
      "/nuwa_cluster/home/jackyu/locally_installed_python_pacakges/anaconda3/lib/python3.4/site-packages/matplotlib/collections.py:590: FutureWarning: elementwise comparison failed; returning scalar instead, but in the future will perform elementwise comparison\n",
      "  if self._edgecolors == str('face'):\n"
     ]
    },
    {
     "data": {
      "image/png": "[encoded data removed]",
      "text/plain": [
       "<matplotlib.figure.Figure at 0x2aad5b404550>"
      ]
     },
     "metadata": {},
     "output_type": "display_data"
    }
   ],
   "source": [
    "# transmittance at this iband and ig looks ok\n",
    "plt.imshow(da_trang.sel(iband=2, ig=1))\n",
    "plt.colorbar()"
   ]
  },
  {
   "cell_type": "code",
   "execution_count": 152,
   "metadata": {
    "collapsed": false
   },
   "outputs": [
    {
     "data": {
      "text/plain": [
       "<xarray.DataArray (jlevel: 76)>\n",
       "array([ 0.99778115,  0.99778115,  0.99778115,  0.99778115,  0.99778115,\n",
       "        0.99778115,  0.99778115,  0.99778116,  0.99778116,  0.99778117,\n",
       "        0.99778118,  0.99778119,  0.99778121,  0.99778123,  0.99778127,\n",
       "        0.99778133,  0.99778141,  0.99778156,  0.9977818 ,  0.99778221,\n",
       "        0.99778287,  0.99778394,  0.99778567,  0.99778834,  0.99779206,\n",
       "        0.99779676,  0.99780248,  0.99780932,  0.99781738,  0.9978268 ,\n",
       "        0.99783776,  0.99785044,  0.99786511,  0.99788238,  0.99790298,\n",
       "        0.99792746,  0.99795541,  0.99798074,  0.99800497,  0.99802867,\n",
       "        0.9980524 ,  0.99807727,  0.99810419,  0.99813329,  0.99816455,\n",
       "        0.99819794,  0.9982334 ,  0.99827092,  0.99831046,  0.99835197,\n",
       "        0.99839542,  0.99844074,  0.99848789,  0.99853683,  0.99858749,\n",
       "        0.99863985,  0.99869387,  0.99874954,  0.99880682,  0.99886569,\n",
       "        0.99892615,  0.99898817,  0.99905171,  0.99911678,  0.99918334,\n",
       "        0.99925139,  0.9993209 ,  0.99939182,  0.99946407,  0.99953755,\n",
       "        0.99961215,  0.99968779,  0.99976442,  0.99984201,  0.99992054,  1.        ])\n",
       "Coordinates:\n",
       "    iband    int64 1\n",
       "    ilevel   int64 76\n",
       "  * jlevel   (jlevel) int64 1 2 3 4 5 6 7 8 9 10 11 12 13 14 15 16 17 18 19 ...\n",
       "    ig       int64 1"
      ]
     },
     "execution_count": 152,
     "metadata": {},
     "output_type": "execute_result"
    }
   ],
   "source": [
    "# transmittance between the bottom level and the others\n",
    "# at this iband and ig\n",
    "da_trang.sel(iband=1, ig=1, ilevel=76)"
   ]
  },
  {
   "cell_type": "code",
   "execution_count": 153,
   "metadata": {
    "collapsed": false
   },
   "outputs": [
    {
     "data": {
      "text/plain": [
       "[<matplotlib.lines.Line2D at 0x2aad5bbe55c0>]"
      ]
     },
     "execution_count": 153,
     "metadata": {},
     "output_type": "execute_result"
    },
    {
     "data": {
      "image/png": "[encoded data removed]",
      "text/plain": [
       "<matplotlib.figure.Figure at 0x2aad5b3e6240>"
      ]
     },
     "metadata": {},
     "output_type": "display_data"
    }
   ],
   "source": [
    "# there is no discontinuity\n",
    "da_trang.sel(iband=1, ig=1, ilevel=76).plot()"
   ]
  },
  {
   "cell_type": "code",
   "execution_count": 5,
   "metadata": {
    "collapsed": false
   },
   "outputs": [
    {
     "data": {
      "text/plain": [
       "[<matplotlib.lines.Line2D at 0x2aad2d66b240>]"
      ]
     },
     "execution_count": 5,
     "metadata": {},
     "output_type": "execute_result"
    },
    {
     "data": {
      "image/png": "[encoded data removed]",
      "text/plain": [
       "<matplotlib.figure.Figure at 0x2aad2b3eb9b0>"
      ]
     },
     "metadata": {},
     "output_type": "display_data"
    }
   ],
   "source": [
    "da_trang.sel(iband=1, ig=1, ilevel=1).plot()"
   ]
  },
  {
   "cell_type": "code",
   "execution_count": null,
   "metadata": {
    "collapsed": true
   },
   "outputs": [],
   "source": []
  },
  {
   "cell_type": "code",
   "execution_count": null,
   "metadata": {
    "collapsed": true
   },
   "outputs": [],
   "source": []
  },
  {
   "cell_type": "code",
   "execution_count": 177,
   "metadata": {
    "collapsed": true
   },
   "outputs": [],
   "source": [
    "### pandas and xray \n",
    "\n",
    "# pd.MultiIndex.labels does not have to exhaust all possible combinations\n",
    "# of pd.MultiIndex.levels\n",
    "\n",
    "# In converting a pd.DataFrame or pd.Series with pd.MultiIndex to \n",
    "# xarray data types, xarray will fill in those missing combinations\n",
    "# with `nan`. \n",
    "\n",
    "# This is demonstrated here below:"
   ]
  },
  {
   "cell_type": "code",
   "execution_count": 106,
   "metadata": {
    "collapsed": false
   },
   "outputs": [],
   "source": [
    "multiindex = pd.MultiIndex.from_product([range(1, 10 + 1), range(1, 4 + 1)])"
   ]
  },
  {
   "cell_type": "code",
   "execution_count": 162,
   "metadata": {
    "collapsed": false
   },
   "outputs": [],
   "source": [
    "srs = pd.Series(np.arange(40) + 5.6, index=multiindex)"
   ]
  },
  {
   "cell_type": "code",
   "execution_count": 163,
   "metadata": {
    "collapsed": false
   },
   "outputs": [],
   "source": [
    "srs = srs.drop((1, 2), axis=0)\n",
    "srs = srs.drop((3, 2), axis=0)"
   ]
  },
  {
   "cell_type": "code",
   "execution_count": 166,
   "metadata": {
    "collapsed": false
   },
   "outputs": [
    {
     "data": {
      "text/plain": [
       "38"
      ]
     },
     "execution_count": 166,
     "metadata": {},
     "output_type": "execute_result"
    }
   ],
   "source": [
    "len(srs.index.values)"
   ]
  },
  {
   "cell_type": "code",
   "execution_count": 169,
   "metadata": {
    "collapsed": false
   },
   "outputs": [],
   "source": [
    "da = xr.DataArray.from_series(srs)"
   ]
  },
  {
   "cell_type": "code",
   "execution_count": 178,
   "metadata": {
    "collapsed": false
   },
   "outputs": [
    {
     "data": {
      "text/plain": [
       "<xarray.DataArray (level_0: 10, level_1: 4)>\n",
       "array([[  5.6,   nan,   7.6,   8.6],\n",
       "       [  9.6,  10.6,  11.6,  12.6],\n",
       "       [ 13.6,   nan,  15.6,  16.6],\n",
       "       [ 17.6,  18.6,  19.6,  20.6],\n",
       "       [ 21.6,  22.6,  23.6,  24.6],\n",
       "       [ 25.6,  26.6,  27.6,  28.6],\n",
       "       [ 29.6,  30.6,  31.6,  32.6],\n",
       "       [ 33.6,  34.6,  35.6,  36.6],\n",
       "       [ 37.6,  38.6,  39.6,  40.6],\n",
       "       [ 41.6,  42.6,  43.6,  44.6]])\n",
       "Coordinates:\n",
       "  * level_0  (level_0) int64 1 2 3 4 5 6 7 8 9 10\n",
       "  * level_1  (level_1) int64 1 2 3 4"
      ]
     },
     "execution_count": 178,
     "metadata": {},
     "output_type": "execute_result"
    }
   ],
   "source": [
    "da"
   ]
  },
  {
   "cell_type": "code",
   "execution_count": null,
   "metadata": {
    "collapsed": true
   },
   "outputs": [],
   "source": []
  }
 ],
 "metadata": {
  "kernelspec": {
   "display_name": "Python 3",
   "language": "python",
   "name": "python3"
  },
  "language_info": {
   "codemirror_mode": {
    "name": "ipython",
    "version": 3
   },
   "file_extension": ".py",
   "mimetype": "text/x-python",
   "name": "python",
   "nbconvert_exporter": "python",
   "pygments_lexer": "ipython3",
   "version": "3.4.4"
  }
 },
 "nbformat": 4,
 "nbformat_minor": 0
}
