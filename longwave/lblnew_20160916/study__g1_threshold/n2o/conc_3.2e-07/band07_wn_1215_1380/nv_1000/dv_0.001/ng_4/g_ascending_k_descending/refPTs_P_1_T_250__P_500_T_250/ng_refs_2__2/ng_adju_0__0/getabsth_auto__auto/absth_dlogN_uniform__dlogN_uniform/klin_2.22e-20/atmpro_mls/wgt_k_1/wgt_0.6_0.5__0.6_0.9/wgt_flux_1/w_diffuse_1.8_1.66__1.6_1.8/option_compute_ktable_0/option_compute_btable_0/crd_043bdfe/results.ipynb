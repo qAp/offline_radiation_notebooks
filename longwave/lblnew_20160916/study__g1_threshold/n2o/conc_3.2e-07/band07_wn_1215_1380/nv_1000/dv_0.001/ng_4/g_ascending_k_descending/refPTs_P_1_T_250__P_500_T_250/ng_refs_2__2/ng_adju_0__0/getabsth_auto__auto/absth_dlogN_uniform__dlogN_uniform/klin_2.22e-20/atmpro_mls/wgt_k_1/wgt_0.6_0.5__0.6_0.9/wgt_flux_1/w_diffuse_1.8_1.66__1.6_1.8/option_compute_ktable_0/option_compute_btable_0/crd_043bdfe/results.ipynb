{
 "cells": [
  {
   "cell_type": "code",
   "execution_count": 1,
   "metadata": {},
   "outputs": [
    {
     "name": "stderr",
     "output_type": "stream",
     "text": [
      "/chia_cluster/home/jackyu/anaconda3/lib/python3.6/site-packages/matplotlib/__init__.py:1405: UserWarning: \n",
      "This call to matplotlib.use() has no effect because the backend has already\n",
      "been chosen; matplotlib.use() must be called *before* pylab, matplotlib.pyplot,\n",
      "or matplotlib.backends is imported for the first time.\n",
      "\n",
      "  warnings.warn(_use_error_msg)\n"
     ]
    },
    {
     "data": {
      "text/plain": [
       "<module 'climatools.lblnew.g1_threshold' from '/chia_cluster/home/jackyu/climatools/climatools/lblnew/g1_threshold.py'>"
      ]
     },
     "execution_count": 1,
     "metadata": {},
     "output_type": "execute_result"
    }
   ],
   "source": [
    "%matplotlib inline\n",
    "import os\n",
    "import re\n",
    "import io\n",
    "\n",
    "import matplotlib\n",
    "import numpy as np\n",
    "import pandas as pd\n",
    "import xarray as xr\n",
    "\n",
    "import climatools.html.html as climahtml\n",
    "import climatools.lblnew.g1_threshold as scripts\n",
    "\n",
    "import IPython.display as display\n",
    "\n",
    "import imp\n",
    "imp.reload(scripts)"
   ]
  },
  {
   "cell_type": "code",
   "execution_count": 2,
   "metadata": {
    "collapsed": true
   },
   "outputs": [],
   "source": [
    "%run param.py"
   ]
  },
  {
   "cell_type": "code",
   "execution_count": 3,
   "metadata": {
    "collapsed": true
   },
   "outputs": [],
   "source": [
    "NG_REFS = PARAM['ng_refs']\n",
    "P_REFS, T_REFS = zip(*PARAM['ref_pts'])"
   ]
  },
  {
   "cell_type": "code",
   "execution_count": 4,
   "metadata": {
    "collapsed": true
   },
   "outputs": [],
   "source": [
    "# for printing some input parameters\n",
    "\n",
    "def innames():\n",
    "    return ['vstar', 'nband', 'nv', 'dv',\n",
    "            'flgh2o',\n",
    "            'tsfc',\n",
    "            'pressure_reference_1',\n",
    "            'temperature_reference_1', \n",
    "            'pressure_reference_2', \n",
    "            'temperature_reference_2',\n",
    "            'ighigh', \n",
    "            'ng', \n",
    "            'nref',\n",
    "            'p_refs',\n",
    "            't_refs',\n",
    "            'ng_refs',\n",
    "            'ng_adju',\n",
    "            'absth',\n",
    "            'wgt',\n",
    "            'option_wgt_flux',\n",
    "            'option_wgt_k',\n",
    "            'option_klin',\n",
    "            'w_diffuse',\n",
    "            'fac_meank',\n",
    "            'klin',\n",
    "            'option_compute_ktable',\n",
    "            'option_compute_btable',\n",
    "            'conc']\n",
    "\n",
    "\n",
    "\n",
    "def pattern_assign(name):\n",
    "    return ''' \n",
    "    parameter .* :: \\s* &? \\s* ({} \\s* = .* \\n)\n",
    "    '''.format(name)\n",
    "\n",
    "def pattern_data(name):\n",
    "    return '''\n",
    "    (data [^/{name}]+ {name}[^,] [^/{name}]+ / [^/]+ /)\n",
    "    '''.format(name=name)\n",
    "\n",
    "def pattern_atmpro():\n",
    "    return '''\n",
    "    (atmosphere_profiles/.*75_r8.pro)\n",
    "    '''\n",
    "    \n",
    "\n",
    "def get_input_params(code, names):\n",
    "    results = []\n",
    "    for name in names:\n",
    "        regex = re.compile(pattern_assign(name), re.VERBOSE)\n",
    "        results.extend(regex.findall(code))\n",
    "        \n",
    "        regex = re.compile(pattern_data(name), re.VERBOSE)\n",
    "        results.extend(regex.findall(code))\n",
    "        \n",
    "    regex = re.compile(pattern_atmpro(), re.VERBOSE)\n",
    "    results.extend(regex.findall(code))\n",
    "        \n",
    "    results = [result.replace('_r8', '') for result in results]\n",
    "    return results\n"
   ]
  },
  {
   "cell_type": "code",
   "execution_count": 5,
   "metadata": {
    "collapsed": true
   },
   "outputs": [],
   "source": [
    "analysis = scripts.Analysis()"
   ]
  },
  {
   "cell_type": "code",
   "execution_count": 6,
   "metadata": {
    "collapsed": true
   },
   "outputs": [],
   "source": [
    "crd = analysis.model('crd')\n",
    "crd.type_model = 'crd'\n",
    "crd.rundir = DIR_FORTRAN\n",
    "crd.fpath_flux = 'output_fluxg.dat'\n",
    "crd.fpath_coolr = 'output_coolrg.dat'\n",
    "crd.linestyle = '-'\n",
    "crd.color = 'b'\n",
    "crd.marker = None\n",
    "crd.load_data()"
   ]
  },
  {
   "cell_type": "code",
   "execution_count": 7,
   "metadata": {
    "collapsed": true
   },
   "outputs": [],
   "source": [
    "def add_wgt_models():\n",
    "    iggs = [10, 1]\n",
    "    markers = [None, 'x']\n",
    "    colors = ['r', 'c']\n",
    "    linestyle = '-'\n",
    "\n",
    "    df_wfluxg = pd.read_csv(os.path.join(crd.rundir, \n",
    "                                         'output_wfluxg.dat'), \n",
    "                            sep=r'\\s+')\n",
    "\n",
    "    df_wcoolrg = pd.read_csv(os.path.join(crd.rundir, \n",
    "                                          'output_wcoolrg.dat'), \n",
    "                             sep=r'\\s+')\n",
    "\n",
    "    for igg, marker, color in zip(iggs, markers, colors):\n",
    "\n",
    "        flux_igg = df_wfluxg[df_wfluxg['igg'] == igg]\\\n",
    "        .drop('igg', axis=1)\n",
    "        s_flux = io.StringIO(flux_igg.to_csv(sep=' '))\n",
    "\n",
    "        coolr_igg = df_wcoolrg[df_wcoolrg['igg'] == igg]\\\n",
    "        .drop('igg', axis=1)\n",
    "        s_coolr = io.StringIO(coolr_igg.to_csv(sep=' '))\n",
    "\n",
    "        crdx_igg = analysis.model('wgt_igg{}'.format(igg))\n",
    "        crdx_igg.type_model = 'crd'\n",
    "        crdx_igg.rundir = DIR_FORTRAN\n",
    "        crdx_igg.fpath_flux = s_flux\n",
    "        crdx_igg.fpath_coolr = s_coolr\n",
    "        crdx_igg.color = color\n",
    "        crdx_igg.marker = marker\n",
    "        crdx_igg.linestyle = linestyle\n",
    "        crdx_igg.load_data()\n",
    "        \n",
    "add_wgt_models()"
   ]
  },
  {
   "cell_type": "code",
   "execution_count": 8,
   "metadata": {
    "collapsed": true
   },
   "outputs": [],
   "source": [
    "def add_ktable_models():\n",
    "    iggs = [10]\n",
    "    markers = ['D',]\n",
    "    color = 'g'\n",
    "    linestyle = ':'\n",
    "\n",
    "    df_wwfluxg = pd.read_csv(os.path.join(crd.rundir, \n",
    "                                          'output_wwfluxg.dat'), \n",
    "                             sep=r'\\s+')\n",
    "\n",
    "    df_wwcoolrg = pd.read_csv(os.path.join(crd.rundir, \n",
    "                                           'output_wwcoolrg.dat'), \n",
    "                              sep=r'\\s+')\n",
    "\n",
    "    for igg, marker in zip(iggs, markers):\n",
    "\n",
    "        flux_igg = df_wwfluxg[df_wwfluxg['igg'] == igg]\\\n",
    "        .drop('igg', axis=1)\n",
    "        s_flux = io.StringIO(flux_igg.to_csv(sep=' '))\n",
    "\n",
    "        coolr_igg = df_wwcoolrg[df_wwcoolrg['igg'] == igg]\\\n",
    "        .drop('igg', axis=1)\n",
    "        s_coolr = io.StringIO(coolr_igg.to_csv(sep=' '))\n",
    "\n",
    "        crdxx_igg = analysis.model('ktable_igg{}'.format(igg))\n",
    "        crdxx_igg.type_model = 'crd'\n",
    "        crdxx_igg.rundir = DIR_FORTRAN\n",
    "        crdxx_igg.fpath_flux = s_flux\n",
    "        crdxx_igg.fpath_coolr = s_coolr\n",
    "        crdxx_igg.color = color\n",
    "        crdxx_igg.marker = marker\n",
    "        crdxx_igg.linestyle = linestyle\n",
    "        crdxx_igg.load_data()\n",
    "        \n",
    "        "
   ]
  },
  {
   "cell_type": "code",
   "execution_count": 9,
   "metadata": {
    "collapsed": true
   },
   "outputs": [],
   "source": [
    "fig = analysis.fig_fluxcoolr('fig1', vartypes=['cooling rate'])\n",
    "fig.ggroups = list(crd.data['dgdgs'].coords['g'].values) #list(range(1, 8 + 1))\n",
    "fig.vars_plot['flux'] = ['flug', 'fnetg']\n",
    "fig.vars_plot['cooling rate'] = ['coolrg']\n",
    "fig.colors['flug'] = 'darkred'\n",
    "fig.colors['fnetg'] = 'lightcoral'\n",
    "fig.colors['coolrg'] = 'blue'\n",
    "fig.varlims_from_indexrange['linear'] = (50, 1050)\n",
    "fig.varlims_from_indexrange['log'] = (1e-2, 200)\n",
    "\n",
    "fig.set_pressure_displayrange(low=1e-2)"
   ]
  },
  {
   "cell_type": "code",
   "execution_count": 10,
   "metadata": {
    "collapsed": true
   },
   "outputs": [],
   "source": [
    "table_fluxg = analysis.table('table_fluxg')\n",
    "table_fluxg.sumg = False\n",
    "table_fluxg.vartype = 'flux'\n",
    "table_fluxg.at_pressures = crd.data['flux']\\\n",
    "                             .coords['pressure']\\\n",
    "                             .isel(pressure=[0, -1])\n",
    "\n",
    "table_coolrg = analysis.table('table_coolrg')\n",
    "table_coolrg.vartype = 'cooling rate'\n",
    "table_coolrg.sumg = False\n",
    "table_coolrg.at_pressures = crd.data['cooling rate']\\\n",
    "                               .coords['pressure']\\\n",
    "                               .isel(pressure=[0, -1])\n"
   ]
  },
  {
   "cell_type": "code",
   "execution_count": 11,
   "metadata": {
    "collapsed": true
   },
   "outputs": [],
   "source": [
    "table_flux = analysis.table('table_flux')\n",
    "table_flux.sumg = True\n",
    "table_flux.vartype = 'flux'\n",
    "table_flux.at_pressures = crd.data['flux']\\\n",
    "                             .coords['pressure']\\\n",
    "                             .isel(pressure=[0, -1])\n",
    "\n",
    "table_coolr = analysis.table('table_coolr')\n",
    "table_coolr.vartype = 'cooling rate'\n",
    "table_coolr.sumg = True\n",
    "table_coolr.at_pressures = crd.data['cooling rate']\\\n",
    "                              .coords['pressure']\\\n",
    "                              .isel(pressure=[0, -1])"
   ]
  },
  {
   "cell_type": "code",
   "execution_count": 12,
   "metadata": {
    "collapsed": true
   },
   "outputs": [],
   "source": [
    "table_dgdgs = analysis.table('dgdgs')\n",
    "table_dgdgs.vartype = 'dgdgs'\n",
    "table_dgdgs.sumg = False"
   ]
  },
  {
   "cell_type": "code",
   "execution_count": 13,
   "metadata": {
    "collapsed": true
   },
   "outputs": [
    {
     "name": "stdout",
     "output_type": "stream",
     "text": [
      "atmpro = mls\n",
      "band = 7\n",
      "commitnumber = 043bdfe\n",
      "conc = 3.2e-07\n",
      "dv = 0.001\n",
      "klin = 2.22e-20\n",
      "molecule = n2o\n",
      "ng_adju = [0, 0]\n",
      "ng_refs = [2, 2]\n",
      "nv = 1000\n",
      "option_compute_btable = 0\n",
      "option_compute_ktable = 0\n",
      "option_wgt_flux = 1\n",
      "option_wgt_k = 1\n",
      "ref_pts = [(1, 250), (500, 250)]\n",
      "tsfc = 294\n",
      "vmax = 1380\n",
      "vmin = 1215\n",
      "w_diffuse = [(1.8, 1.66), (1.6, 1.8)]\n",
      "wgt = [(0.6, 0.5), (0.6, 0.9)]\n"
     ]
    }
   ],
   "source": [
    "for name, value in sorted(PARAM.items()):\n",
    "    print('{} = {}'.format(name, value))"
   ]
  },
  {
   "cell_type": "code",
   "execution_count": 14,
   "metadata": {},
   "outputs": [
    {
     "data": {
      "text/html": [
       "<a href=\"#Figure:_cooling_rate_g-group_1\">Figure: cooling rate g-group 1</a>"
      ],
      "text/plain": [
       "<IPython.core.display.HTML object>"
      ]
     },
     "metadata": {},
     "output_type": "display_data"
    },
    {
     "data": {
      "text/html": [
       "<a href=\"#Figure:_cooling_rate_g-group_2\">Figure: cooling rate g-group 2</a>"
      ],
      "text/plain": [
       "<IPython.core.display.HTML object>"
      ]
     },
     "metadata": {},
     "output_type": "display_data"
    },
    {
     "data": {
      "text/html": [
       "<a href=\"#Figure:_cooling_rate_g-group_3\">Figure: cooling rate g-group 3</a>"
      ],
      "text/plain": [
       "<IPython.core.display.HTML object>"
      ]
     },
     "metadata": {},
     "output_type": "display_data"
    },
    {
     "data": {
      "text/html": [
       "<a href=\"#Figure:_cooling_rate_g-group_4\">Figure: cooling rate g-group 4</a>"
      ],
      "text/plain": [
       "<IPython.core.display.HTML object>"
      ]
     },
     "metadata": {},
     "output_type": "display_data"
    },
    {
     "data": {
      "text/html": [
       "<a href=\"#Figure:_cooling_rate_g-group_total\">Figure: cooling rate g-group total</a>"
      ],
      "text/plain": [
       "<IPython.core.display.HTML object>"
      ]
     },
     "metadata": {},
     "output_type": "display_data"
    }
   ],
   "source": [
    "fig.display_hrefanchor()"
   ]
  },
  {
   "cell_type": "code",
   "execution_count": 15,
   "metadata": {},
   "outputs": [
    {
     "data": {
      "text/html": [
       "<a href=\"#Table:_flux._g-groups\">Table: flux. g-groups </a>"
      ],
      "text/plain": [
       "<IPython.core.display.HTML object>"
      ]
     },
     "metadata": {},
     "output_type": "display_data"
    },
    {
     "data": {
      "text/html": [
       "<a href=\"#Table:_cooling_rate._g-groups\">Table: cooling rate. g-groups </a>"
      ],
      "text/plain": [
       "<IPython.core.display.HTML object>"
      ]
     },
     "metadata": {},
     "output_type": "display_data"
    },
    {
     "data": {
      "text/html": [
       "<a href=\"#Table:_flux._g-groups_total\">Table: flux. g-groups total</a>"
      ],
      "text/plain": [
       "<IPython.core.display.HTML object>"
      ]
     },
     "metadata": {},
     "output_type": "display_data"
    },
    {
     "data": {
      "text/html": [
       "<a href=\"#Table:_cooling_rate._g-groups_total\">Table: cooling rate. g-groups total</a>"
      ],
      "text/plain": [
       "<IPython.core.display.HTML object>"
      ]
     },
     "metadata": {},
     "output_type": "display_data"
    }
   ],
   "source": [
    "table_fluxg.display_hrefanchor()\n",
    "table_coolrg.display_hrefanchor()\n",
    "\n",
    "table_flux.display_hrefanchor()\n",
    "table_coolr.display_hrefanchor()"
   ]
  },
  {
   "cell_type": "code",
   "execution_count": 16,
   "metadata": {},
   "outputs": [
    {
     "data": {
      "text/html": [
       "<a href=\"#Table:_dgdgs._g-groups\">Table: dgdgs. g-groups </a>"
      ],
      "text/plain": [
       "<IPython.core.display.HTML object>"
      ]
     },
     "metadata": {},
     "output_type": "display_data"
    }
   ],
   "source": [
    "table_dgdgs.display_hrefanchor()"
   ]
  },
  {
   "cell_type": "code",
   "execution_count": 17,
   "metadata": {},
   "outputs": [
    {
     "data": {
      "text/html": [
       "<a href=\"#Overall_absth\">Overall absth</a>"
      ],
      "text/plain": [
       "<IPython.core.display.HTML object>"
      ]
     },
     "execution_count": 17,
     "metadata": {},
     "output_type": "execute_result"
    }
   ],
   "source": [
    "s_abscom = 'Overall absth'\n",
    "display.HTML(climahtml.getHTML_hrefanchor(s_abscom))"
   ]
  },
  {
   "cell_type": "code",
   "execution_count": 18,
   "metadata": {},
   "outputs": [
    {
     "data": {
      "text/html": [
       "<a href=\"#g-group_summary\">g-group summary</a>"
      ],
      "text/plain": [
       "<IPython.core.display.HTML object>"
      ]
     },
     "execution_count": 18,
     "metadata": {},
     "output_type": "execute_result"
    }
   ],
   "source": [
    "s_ggroup_summary = 'g-group summary'\n",
    "display.HTML(climahtml.getHTML_hrefanchor(s_ggroup_summary))"
   ]
  },
  {
   "cell_type": "code",
   "execution_count": 19,
   "metadata": {
    "collapsed": true
   },
   "outputs": [],
   "source": [
    "#for g in range(1, 20 + 1):\n",
    "#    s = 'Table: cooling rate. g-group {}'.format(g)\n",
    "#    html = climahtml.getHTML_hrefanchor(s)\n",
    "#    display.display(display.HTML(html))"
   ]
  },
  {
   "cell_type": "code",
   "execution_count": 20,
   "metadata": {
    "scrolled": false
   },
   "outputs": [
    {
     "data": {
      "text/html": [
       "<a id=\"Figure:_cooling_rate_g-group_1\"></a>"
      ],
      "text/plain": [
       "<IPython.core.display.HTML object>"
      ]
     },
     "metadata": {},
     "output_type": "display_data"
    },
    {
     "data": {
      "text/markdown": [
       "# Figure: cooling rate g-group 1"
      ],
      "text/plain": [
       "<IPython.core.display.Markdown object>"
      ]
     },
     "metadata": {},
     "output_type": "display_data"
    },
    {
     "data": {
      "image/png": "[encoded data removed]",
      "text/plain": [
       "<matplotlib.figure.Figure at 0x2b12ab5ce320>"
      ]
     },
     "metadata": {},
     "output_type": "display_data"
    },
    {
     "data": {
      "text/html": [
       "<a id=\"Figure:_cooling_rate_g-group_2\"></a>"
      ],
      "text/plain": [
       "<IPython.core.display.HTML object>"
      ]
     },
     "metadata": {},
     "output_type": "display_data"
    },
    {
     "data": {
      "text/markdown": [
       "# Figure: cooling rate g-group 2"
      ],
      "text/plain": [
       "<IPython.core.display.Markdown object>"
      ]
     },
     "metadata": {},
     "output_type": "display_data"
    },
    {
     "data": {
      "image/png": "[encoded data removed]",
      "text/plain": [
       "<matplotlib.figure.Figure at 0x2b12ab504ac8>"
      ]
     },
     "metadata": {},
     "output_type": "display_data"
    },
    {
     "data": {
      "text/html": [
       "<a id=\"Figure:_cooling_rate_g-group_3\"></a>"
      ],
      "text/plain": [
       "<IPython.core.display.HTML object>"
      ]
     },
     "metadata": {},
     "output_type": "display_data"
    },
    {
     "data": {
      "text/markdown": [
       "# Figure: cooling rate g-group 3"
      ],
      "text/plain": [
       "<IPython.core.display.Markdown object>"
      ]
     },
     "metadata": {},
     "output_type": "display_data"
    },
    {
     "data": {
      "image/png": "[encoded data removed]",
      "text/plain": [
       "<matplotlib.figure.Figure at 0x2b12b81a2c88>"
      ]
     },
     "metadata": {},
     "output_type": "display_data"
    },
    {
     "data": {
      "text/html": [
       "<a id=\"Figure:_cooling_rate_g-group_4\"></a>"
      ],
      "text/plain": [
       "<IPython.core.display.HTML object>"
      ]
     },
     "metadata": {},
     "output_type": "display_data"
    },
    {
     "data": {
      "text/markdown": [
       "# Figure: cooling rate g-group 4"
      ],
      "text/plain": [
       "<IPython.core.display.Markdown object>"
      ]
     },
     "metadata": {},
     "output_type": "display_data"
    },
    {
     "data": {
      "image/png": "[encoded data removed]",
      "text/plain": [
       "<matplotlib.figure.Figure at 0x2b12b83e5320>"
      ]
     },
     "metadata": {},
     "output_type": "display_data"
    },
    {
     "data": {
      "text/html": [
       "<a id=\"Figure:_cooling_rate_g-group_total\"></a>"
      ],
      "text/plain": [
       "<IPython.core.display.HTML object>"
      ]
     },
     "metadata": {},
     "output_type": "display_data"
    },
    {
     "data": {
      "text/markdown": [
       "# Figure: cooling rate g-group total"
      ],
      "text/plain": [
       "<IPython.core.display.Markdown object>"
      ]
     },
     "metadata": {},
     "output_type": "display_data"
    },
    {
     "data": {
      "image/png": "[encoded data removed]",
      "text/plain": [
       "<matplotlib.figure.Figure at 0x2b12b867a278>"
      ]
     },
     "metadata": {},
     "output_type": "display_data"
    }
   ],
   "source": [
    "matplotlib.rcParams.update({'font.size': 13,\n",
    "                            'grid.color': 'black',\n",
    "                            'axes.facecolor': 'white',\n",
    "                            'axes.edgecolor': 'black',\n",
    "                            'ytick.direction': 'out',\n",
    "                            'ytick.major.size': 6, 'ytick.major.width': 1,\n",
    "                            'ytick.minor.size': 3, 'ytick.minor.width': 1,\n",
    "                            'xtick.direction': 'out',\n",
    "                            'xtick.major.size': 6, 'xtick.major.size': 1,\n",
    "                            'xtick.minor.size': 3, 'xtick.minor.size': 1}) \n",
    "\n",
    "fig.plot(analysis)\n"
   ]
  },
  {
   "cell_type": "code",
   "execution_count": 21,
   "metadata": {
    "scrolled": false
   },
   "outputs": [
    {
     "data": {
      "text/html": [
       "<a id=\"Table:_flux._g-groups\"></a>"
      ],
      "text/plain": [
       "<IPython.core.display.HTML object>"
      ]
     },
     "metadata": {},
     "output_type": "display_data"
    },
    {
     "data": {
      "text/markdown": [
       "# Table: flux. g-groups "
      ],
      "text/plain": [
       "<IPython.core.display.Markdown object>"
      ]
     },
     "metadata": {},
     "output_type": "display_data"
    },
    {
     "name": "stdout",
     "output_type": "stream",
     "text": [
      "\n",
      "CRD\n"
     ]
    },
    {
     "data": {
      "text/html": [
       "<div>\n",
       "<style>\n",
       "    .dataframe thead tr:only-child th {\n",
       "        text-align: right;\n",
       "    }\n",
       "\n",
       "    .dataframe thead th {\n",
       "        text-align: left;\n",
       "    }\n",
       "\n",
       "    .dataframe tbody tr th {\n",
       "        vertical-align: top;\n",
       "    }\n",
       "</style>\n",
       "<table border=\"1\" class=\"dataframe\">\n",
       "  <thead>\n",
       "    <tr style=\"text-align: right;\">\n",
       "      <th></th>\n",
       "      <th></th>\n",
       "      <th></th>\n",
       "      <th>flug</th>\n",
       "      <th>fldg</th>\n",
       "      <th>fnetg</th>\n",
       "    </tr>\n",
       "    <tr>\n",
       "      <th>g</th>\n",
       "      <th>pressure</th>\n",
       "      <th>level</th>\n",
       "      <th></th>\n",
       "      <th></th>\n",
       "      <th></th>\n",
       "    </tr>\n",
       "  </thead>\n",
       "  <tbody>\n",
       "    <tr>\n",
       "      <th rowspan=\"2\" valign=\"top\">1</th>\n",
       "      <th>0.0</th>\n",
       "      <th>1</th>\n",
       "      <td>-0.050553</td>\n",
       "      <td>0.000000</td>\n",
       "      <td>-0.050553</td>\n",
       "    </tr>\n",
       "    <tr>\n",
       "      <th>1013.0</th>\n",
       "      <th>76</th>\n",
       "      <td>-0.126941</td>\n",
       "      <td>0.083002</td>\n",
       "      <td>-0.043939</td>\n",
       "    </tr>\n",
       "    <tr>\n",
       "      <th rowspan=\"2\" valign=\"top\">2</th>\n",
       "      <th>0.0</th>\n",
       "      <th>1</th>\n",
       "      <td>-0.375334</td>\n",
       "      <td>0.000000</td>\n",
       "      <td>-0.375334</td>\n",
       "    </tr>\n",
       "    <tr>\n",
       "      <th>1013.0</th>\n",
       "      <th>76</th>\n",
       "      <td>-0.947176</td>\n",
       "      <td>0.593307</td>\n",
       "      <td>-0.353869</td>\n",
       "    </tr>\n",
       "    <tr>\n",
       "      <th rowspan=\"2\" valign=\"top\">3</th>\n",
       "      <th>0.0</th>\n",
       "      <th>1</th>\n",
       "      <td>-5.102002</td>\n",
       "      <td>0.000000</td>\n",
       "      <td>-5.102002</td>\n",
       "    </tr>\n",
       "    <tr>\n",
       "      <th>1013.0</th>\n",
       "      <th>76</th>\n",
       "      <td>-7.117617</td>\n",
       "      <td>2.793919</td>\n",
       "      <td>-4.323698</td>\n",
       "    </tr>\n",
       "    <tr>\n",
       "      <th rowspan=\"2\" valign=\"top\">4</th>\n",
       "      <th>0.0</th>\n",
       "      <th>1</th>\n",
       "      <td>-15.344918</td>\n",
       "      <td>0.000000</td>\n",
       "      <td>-15.344918</td>\n",
       "    </tr>\n",
       "    <tr>\n",
       "      <th>1013.0</th>\n",
       "      <th>76</th>\n",
       "      <td>-15.563441</td>\n",
       "      <td>0.407489</td>\n",
       "      <td>-15.155953</td>\n",
       "    </tr>\n",
       "  </tbody>\n",
       "</table>\n",
       "</div>"
      ],
      "text/plain": [
       "                       flug      fldg      fnetg\n",
       "g pressure level                                \n",
       "1 0.0      1      -0.050553  0.000000  -0.050553\n",
       "  1013.0   76     -0.126941  0.083002  -0.043939\n",
       "2 0.0      1      -0.375334  0.000000  -0.375334\n",
       "  1013.0   76     -0.947176  0.593307  -0.353869\n",
       "3 0.0      1      -5.102002  0.000000  -5.102002\n",
       "  1013.0   76     -7.117617  2.793919  -4.323698\n",
       "4 0.0      1     -15.344918  0.000000 -15.344918\n",
       "  1013.0   76    -15.563441  0.407489 -15.155953"
      ]
     },
     "metadata": {},
     "output_type": "display_data"
    },
    {
     "name": "stdout",
     "output_type": "stream",
     "text": [
      "\n",
      "WGT_IGG10\n"
     ]
    },
    {
     "data": {
      "text/html": [
       "<div>\n",
       "<style>\n",
       "    .dataframe thead tr:only-child th {\n",
       "        text-align: right;\n",
       "    }\n",
       "\n",
       "    .dataframe thead th {\n",
       "        text-align: left;\n",
       "    }\n",
       "\n",
       "    .dataframe tbody tr th {\n",
       "        vertical-align: top;\n",
       "    }\n",
       "</style>\n",
       "<table border=\"1\" class=\"dataframe\">\n",
       "  <thead>\n",
       "    <tr style=\"text-align: right;\">\n",
       "      <th></th>\n",
       "      <th></th>\n",
       "      <th></th>\n",
       "      <th>flug</th>\n",
       "      <th>fldg</th>\n",
       "      <th>fnetg</th>\n",
       "    </tr>\n",
       "    <tr>\n",
       "      <th>g</th>\n",
       "      <th>pressure</th>\n",
       "      <th>level</th>\n",
       "      <th></th>\n",
       "      <th></th>\n",
       "      <th></th>\n",
       "    </tr>\n",
       "  </thead>\n",
       "  <tbody>\n",
       "    <tr>\n",
       "      <th rowspan=\"2\" valign=\"top\">1</th>\n",
       "      <th>0.0</th>\n",
       "      <th>1</th>\n",
       "      <td>-0.036373</td>\n",
       "      <td>0.000000</td>\n",
       "      <td>-0.036373</td>\n",
       "    </tr>\n",
       "    <tr>\n",
       "      <th>1013.0</th>\n",
       "      <th>76</th>\n",
       "      <td>-0.127435</td>\n",
       "      <td>0.100152</td>\n",
       "      <td>-0.027283</td>\n",
       "    </tr>\n",
       "    <tr>\n",
       "      <th rowspan=\"2\" valign=\"top\">2</th>\n",
       "      <th>0.0</th>\n",
       "      <th>1</th>\n",
       "      <td>-0.236253</td>\n",
       "      <td>0.000000</td>\n",
       "      <td>-0.236253</td>\n",
       "    </tr>\n",
       "    <tr>\n",
       "      <th>1013.0</th>\n",
       "      <th>76</th>\n",
       "      <td>-0.952685</td>\n",
       "      <td>0.603825</td>\n",
       "      <td>-0.348860</td>\n",
       "    </tr>\n",
       "    <tr>\n",
       "      <th rowspan=\"2\" valign=\"top\">3</th>\n",
       "      <th>0.0</th>\n",
       "      <th>1</th>\n",
       "      <td>-5.103872</td>\n",
       "      <td>0.000000</td>\n",
       "      <td>-5.103872</td>\n",
       "    </tr>\n",
       "    <tr>\n",
       "      <th>1013.0</th>\n",
       "      <th>76</th>\n",
       "      <td>-7.155502</td>\n",
       "      <td>2.772383</td>\n",
       "      <td>-4.383119</td>\n",
       "    </tr>\n",
       "    <tr>\n",
       "      <th rowspan=\"2\" valign=\"top\">4</th>\n",
       "      <th>0.0</th>\n",
       "      <th>1</th>\n",
       "      <td>-15.321965</td>\n",
       "      <td>0.000000</td>\n",
       "      <td>-15.321965</td>\n",
       "    </tr>\n",
       "    <tr>\n",
       "      <th>1013.0</th>\n",
       "      <th>76</th>\n",
       "      <td>-15.519554</td>\n",
       "      <td>0.369220</td>\n",
       "      <td>-15.150334</td>\n",
       "    </tr>\n",
       "  </tbody>\n",
       "</table>\n",
       "</div>"
      ],
      "text/plain": [
       "                       flug      fldg      fnetg\n",
       "g pressure level                                \n",
       "1 0.0      1      -0.036373  0.000000  -0.036373\n",
       "  1013.0   76     -0.127435  0.100152  -0.027283\n",
       "2 0.0      1      -0.236253  0.000000  -0.236253\n",
       "  1013.0   76     -0.952685  0.603825  -0.348860\n",
       "3 0.0      1      -5.103872  0.000000  -5.103872\n",
       "  1013.0   76     -7.155502  2.772383  -4.383119\n",
       "4 0.0      1     -15.321965  0.000000 -15.321965\n",
       "  1013.0   76    -15.519554  0.369220 -15.150334"
      ]
     },
     "metadata": {},
     "output_type": "display_data"
    },
    {
     "name": "stdout",
     "output_type": "stream",
     "text": [
      "\n",
      "WGT_IGG1\n"
     ]
    },
    {
     "data": {
      "text/html": [
       "<div>\n",
       "<style>\n",
       "    .dataframe thead tr:only-child th {\n",
       "        text-align: right;\n",
       "    }\n",
       "\n",
       "    .dataframe thead th {\n",
       "        text-align: left;\n",
       "    }\n",
       "\n",
       "    .dataframe tbody tr th {\n",
       "        vertical-align: top;\n",
       "    }\n",
       "</style>\n",
       "<table border=\"1\" class=\"dataframe\">\n",
       "  <thead>\n",
       "    <tr style=\"text-align: right;\">\n",
       "      <th></th>\n",
       "      <th></th>\n",
       "      <th></th>\n",
       "      <th>flug</th>\n",
       "      <th>fldg</th>\n",
       "      <th>fnetg</th>\n",
       "    </tr>\n",
       "    <tr>\n",
       "      <th>g</th>\n",
       "      <th>pressure</th>\n",
       "      <th>level</th>\n",
       "      <th></th>\n",
       "      <th></th>\n",
       "      <th></th>\n",
       "    </tr>\n",
       "  </thead>\n",
       "  <tbody>\n",
       "    <tr>\n",
       "      <th rowspan=\"2\" valign=\"top\">1</th>\n",
       "      <th>0.0</th>\n",
       "      <th>1</th>\n",
       "      <td>-0.035602</td>\n",
       "      <td>0.000000</td>\n",
       "      <td>-0.035602</td>\n",
       "    </tr>\n",
       "    <tr>\n",
       "      <th>1013.0</th>\n",
       "      <th>76</th>\n",
       "      <td>-0.127435</td>\n",
       "      <td>0.096064</td>\n",
       "      <td>-0.031371</td>\n",
       "    </tr>\n",
       "    <tr>\n",
       "      <th rowspan=\"2\" valign=\"top\">2</th>\n",
       "      <th>0.0</th>\n",
       "      <th>1</th>\n",
       "      <td>-0.260275</td>\n",
       "      <td>0.000000</td>\n",
       "      <td>-0.260275</td>\n",
       "    </tr>\n",
       "    <tr>\n",
       "      <th>1013.0</th>\n",
       "      <th>76</th>\n",
       "      <td>-0.952685</td>\n",
       "      <td>0.591122</td>\n",
       "      <td>-0.361563</td>\n",
       "    </tr>\n",
       "    <tr>\n",
       "      <th rowspan=\"2\" valign=\"top\">3</th>\n",
       "      <th>0.0</th>\n",
       "      <th>1</th>\n",
       "      <td>-4.997653</td>\n",
       "      <td>0.000000</td>\n",
       "      <td>-4.997653</td>\n",
       "    </tr>\n",
       "    <tr>\n",
       "      <th>1013.0</th>\n",
       "      <th>76</th>\n",
       "      <td>-7.155502</td>\n",
       "      <td>2.870848</td>\n",
       "      <td>-4.284654</td>\n",
       "    </tr>\n",
       "    <tr>\n",
       "      <th rowspan=\"2\" valign=\"top\">4</th>\n",
       "      <th>0.0</th>\n",
       "      <th>1</th>\n",
       "      <td>-15.304564</td>\n",
       "      <td>0.000000</td>\n",
       "      <td>-15.304564</td>\n",
       "    </tr>\n",
       "    <tr>\n",
       "      <th>1013.0</th>\n",
       "      <th>76</th>\n",
       "      <td>-15.519554</td>\n",
       "      <td>0.399560</td>\n",
       "      <td>-15.119993</td>\n",
       "    </tr>\n",
       "  </tbody>\n",
       "</table>\n",
       "</div>"
      ],
      "text/plain": [
       "                       flug      fldg      fnetg\n",
       "g pressure level                                \n",
       "1 0.0      1      -0.035602  0.000000  -0.035602\n",
       "  1013.0   76     -0.127435  0.096064  -0.031371\n",
       "2 0.0      1      -0.260275  0.000000  -0.260275\n",
       "  1013.0   76     -0.952685  0.591122  -0.361563\n",
       "3 0.0      1      -4.997653  0.000000  -4.997653\n",
       "  1013.0   76     -7.155502  2.870848  -4.284654\n",
       "4 0.0      1     -15.304564  0.000000 -15.304564\n",
       "  1013.0   76    -15.519554  0.399560 -15.119993"
      ]
     },
     "metadata": {},
     "output_type": "display_data"
    },
    {
     "name": "stdout",
     "output_type": "stream",
     "text": [
      "\n",
      "WGT_IGG10 - CRD\n"
     ]
    },
    {
     "data": {
      "text/html": [
       "<div>\n",
       "<style>\n",
       "    .dataframe thead tr:only-child th {\n",
       "        text-align: right;\n",
       "    }\n",
       "\n",
       "    .dataframe thead th {\n",
       "        text-align: left;\n",
       "    }\n",
       "\n",
       "    .dataframe tbody tr th {\n",
       "        vertical-align: top;\n",
       "    }\n",
       "</style>\n",
       "<table border=\"1\" class=\"dataframe\">\n",
       "  <thead>\n",
       "    <tr style=\"text-align: right;\">\n",
       "      <th></th>\n",
       "      <th></th>\n",
       "      <th></th>\n",
       "      <th>flug</th>\n",
       "      <th>fldg</th>\n",
       "      <th>fnetg</th>\n",
       "    </tr>\n",
       "    <tr>\n",
       "      <th>g</th>\n",
       "      <th>pressure</th>\n",
       "      <th>level</th>\n",
       "      <th></th>\n",
       "      <th></th>\n",
       "      <th></th>\n",
       "    </tr>\n",
       "  </thead>\n",
       "  <tbody>\n",
       "    <tr>\n",
       "      <th rowspan=\"2\" valign=\"top\">1</th>\n",
       "      <th>0.0</th>\n",
       "      <th>1</th>\n",
       "      <td>0.014180</td>\n",
       "      <td>0.000000</td>\n",
       "      <td>0.014180</td>\n",
       "    </tr>\n",
       "    <tr>\n",
       "      <th>1013.0</th>\n",
       "      <th>76</th>\n",
       "      <td>-0.000494</td>\n",
       "      <td>0.017150</td>\n",
       "      <td>0.016656</td>\n",
       "    </tr>\n",
       "    <tr>\n",
       "      <th rowspan=\"2\" valign=\"top\">2</th>\n",
       "      <th>0.0</th>\n",
       "      <th>1</th>\n",
       "      <td>0.139081</td>\n",
       "      <td>0.000000</td>\n",
       "      <td>0.139081</td>\n",
       "    </tr>\n",
       "    <tr>\n",
       "      <th>1013.0</th>\n",
       "      <th>76</th>\n",
       "      <td>-0.005509</td>\n",
       "      <td>0.010519</td>\n",
       "      <td>0.005010</td>\n",
       "    </tr>\n",
       "    <tr>\n",
       "      <th rowspan=\"2\" valign=\"top\">3</th>\n",
       "      <th>0.0</th>\n",
       "      <th>1</th>\n",
       "      <td>-0.001871</td>\n",
       "      <td>0.000000</td>\n",
       "      <td>-0.001871</td>\n",
       "    </tr>\n",
       "    <tr>\n",
       "      <th>1013.0</th>\n",
       "      <th>76</th>\n",
       "      <td>-0.037885</td>\n",
       "      <td>-0.021536</td>\n",
       "      <td>-0.059421</td>\n",
       "    </tr>\n",
       "    <tr>\n",
       "      <th rowspan=\"2\" valign=\"top\">4</th>\n",
       "      <th>0.0</th>\n",
       "      <th>1</th>\n",
       "      <td>0.022953</td>\n",
       "      <td>0.000000</td>\n",
       "      <td>0.022953</td>\n",
       "    </tr>\n",
       "    <tr>\n",
       "      <th>1013.0</th>\n",
       "      <th>76</th>\n",
       "      <td>0.043887</td>\n",
       "      <td>-0.038269</td>\n",
       "      <td>0.005619</td>\n",
       "    </tr>\n",
       "  </tbody>\n",
       "</table>\n",
       "</div>"
      ],
      "text/plain": [
       "                      flug      fldg     fnetg\n",
       "g pressure level                              \n",
       "1 0.0      1      0.014180  0.000000  0.014180\n",
       "  1013.0   76    -0.000494  0.017150  0.016656\n",
       "2 0.0      1      0.139081  0.000000  0.139081\n",
       "  1013.0   76    -0.005509  0.010519  0.005010\n",
       "3 0.0      1     -0.001871  0.000000 -0.001871\n",
       "  1013.0   76    -0.037885 -0.021536 -0.059421\n",
       "4 0.0      1      0.022953  0.000000  0.022953\n",
       "  1013.0   76     0.043887 -0.038269  0.005619"
      ]
     },
     "metadata": {},
     "output_type": "display_data"
    },
    {
     "name": "stdout",
     "output_type": "stream",
     "text": [
      "\n",
      "WGT_IGG1 - CRD\n"
     ]
    },
    {
     "data": {
      "text/html": [
       "<div>\n",
       "<style>\n",
       "    .dataframe thead tr:only-child th {\n",
       "        text-align: right;\n",
       "    }\n",
       "\n",
       "    .dataframe thead th {\n",
       "        text-align: left;\n",
       "    }\n",
       "\n",
       "    .dataframe tbody tr th {\n",
       "        vertical-align: top;\n",
       "    }\n",
       "</style>\n",
       "<table border=\"1\" class=\"dataframe\">\n",
       "  <thead>\n",
       "    <tr style=\"text-align: right;\">\n",
       "      <th></th>\n",
       "      <th></th>\n",
       "      <th></th>\n",
       "      <th>flug</th>\n",
       "      <th>fldg</th>\n",
       "      <th>fnetg</th>\n",
       "    </tr>\n",
       "    <tr>\n",
       "      <th>g</th>\n",
       "      <th>pressure</th>\n",
       "      <th>level</th>\n",
       "      <th></th>\n",
       "      <th></th>\n",
       "      <th></th>\n",
       "    </tr>\n",
       "  </thead>\n",
       "  <tbody>\n",
       "    <tr>\n",
       "      <th rowspan=\"2\" valign=\"top\">1</th>\n",
       "      <th>0.0</th>\n",
       "      <th>1</th>\n",
       "      <td>0.014951</td>\n",
       "      <td>0.000000</td>\n",
       "      <td>0.014951</td>\n",
       "    </tr>\n",
       "    <tr>\n",
       "      <th>1013.0</th>\n",
       "      <th>76</th>\n",
       "      <td>-0.000494</td>\n",
       "      <td>0.013062</td>\n",
       "      <td>0.012568</td>\n",
       "    </tr>\n",
       "    <tr>\n",
       "      <th rowspan=\"2\" valign=\"top\">2</th>\n",
       "      <th>0.0</th>\n",
       "      <th>1</th>\n",
       "      <td>0.115059</td>\n",
       "      <td>0.000000</td>\n",
       "      <td>0.115059</td>\n",
       "    </tr>\n",
       "    <tr>\n",
       "      <th>1013.0</th>\n",
       "      <th>76</th>\n",
       "      <td>-0.005509</td>\n",
       "      <td>-0.002184</td>\n",
       "      <td>-0.007693</td>\n",
       "    </tr>\n",
       "    <tr>\n",
       "      <th rowspan=\"2\" valign=\"top\">3</th>\n",
       "      <th>0.0</th>\n",
       "      <th>1</th>\n",
       "      <td>0.104349</td>\n",
       "      <td>0.000000</td>\n",
       "      <td>0.104349</td>\n",
       "    </tr>\n",
       "    <tr>\n",
       "      <th>1013.0</th>\n",
       "      <th>76</th>\n",
       "      <td>-0.037885</td>\n",
       "      <td>0.076929</td>\n",
       "      <td>0.039045</td>\n",
       "    </tr>\n",
       "    <tr>\n",
       "      <th rowspan=\"2\" valign=\"top\">4</th>\n",
       "      <th>0.0</th>\n",
       "      <th>1</th>\n",
       "      <td>0.040354</td>\n",
       "      <td>0.000000</td>\n",
       "      <td>0.040354</td>\n",
       "    </tr>\n",
       "    <tr>\n",
       "      <th>1013.0</th>\n",
       "      <th>76</th>\n",
       "      <td>0.043887</td>\n",
       "      <td>-0.007928</td>\n",
       "      <td>0.035960</td>\n",
       "    </tr>\n",
       "  </tbody>\n",
       "</table>\n",
       "</div>"
      ],
      "text/plain": [
       "                      flug      fldg     fnetg\n",
       "g pressure level                              \n",
       "1 0.0      1      0.014951  0.000000  0.014951\n",
       "  1013.0   76    -0.000494  0.013062  0.012568\n",
       "2 0.0      1      0.115059  0.000000  0.115059\n",
       "  1013.0   76    -0.005509 -0.002184 -0.007693\n",
       "3 0.0      1      0.104349  0.000000  0.104349\n",
       "  1013.0   76    -0.037885  0.076929  0.039045\n",
       "4 0.0      1      0.040354  0.000000  0.040354\n",
       "  1013.0   76     0.043887 -0.007928  0.035960"
      ]
     },
     "metadata": {},
     "output_type": "display_data"
    },
    {
     "data": {
      "text/html": [
       "<a id=\"Table:_cooling_rate._g-groups\"></a>"
      ],
      "text/plain": [
       "<IPython.core.display.HTML object>"
      ]
     },
     "metadata": {},
     "output_type": "display_data"
    },
    {
     "data": {
      "text/markdown": [
       "# Table: cooling rate. g-groups "
      ],
      "text/plain": [
       "<IPython.core.display.Markdown object>"
      ]
     },
     "metadata": {},
     "output_type": "display_data"
    },
    {
     "name": "stdout",
     "output_type": "stream",
     "text": [
      "\n",
      "CRD\n"
     ]
    },
    {
     "data": {
      "text/html": [
       "<div>\n",
       "<style>\n",
       "    .dataframe thead tr:only-child th {\n",
       "        text-align: right;\n",
       "    }\n",
       "\n",
       "    .dataframe thead th {\n",
       "        text-align: left;\n",
       "    }\n",
       "\n",
       "    .dataframe tbody tr th {\n",
       "        vertical-align: top;\n",
       "    }\n",
       "</style>\n",
       "<table border=\"1\" class=\"dataframe\">\n",
       "  <thead>\n",
       "    <tr style=\"text-align: right;\">\n",
       "      <th></th>\n",
       "      <th></th>\n",
       "      <th></th>\n",
       "      <th>coolrg</th>\n",
       "    </tr>\n",
       "    <tr>\n",
       "      <th>g</th>\n",
       "      <th>pressure</th>\n",
       "      <th>layer</th>\n",
       "      <th></th>\n",
       "    </tr>\n",
       "  </thead>\n",
       "  <tbody>\n",
       "    <tr>\n",
       "      <th rowspan=\"2\" valign=\"top\">1</th>\n",
       "      <th>0.000312</th>\n",
       "      <th>1</th>\n",
       "      <td>-0.035452</td>\n",
       "    </tr>\n",
       "    <tr>\n",
       "      <th>1001.112500</th>\n",
       "      <th>75</th>\n",
       "      <td>0.000726</td>\n",
       "    </tr>\n",
       "    <tr>\n",
       "      <th rowspan=\"2\" valign=\"top\">2</th>\n",
       "      <th>0.000312</th>\n",
       "      <th>1</th>\n",
       "      <td>-0.000670</td>\n",
       "    </tr>\n",
       "    <tr>\n",
       "      <th>1001.112500</th>\n",
       "      <th>75</th>\n",
       "      <td>0.005670</td>\n",
       "    </tr>\n",
       "    <tr>\n",
       "      <th rowspan=\"2\" valign=\"top\">3</th>\n",
       "      <th>0.000312</th>\n",
       "      <th>1</th>\n",
       "      <td>-0.000015</td>\n",
       "    </tr>\n",
       "    <tr>\n",
       "      <th>1001.112500</th>\n",
       "      <th>75</th>\n",
       "      <td>0.041211</td>\n",
       "    </tr>\n",
       "    <tr>\n",
       "      <th rowspan=\"2\" valign=\"top\">4</th>\n",
       "      <th>0.000312</th>\n",
       "      <th>1</th>\n",
       "      <td>-0.000506</td>\n",
       "    </tr>\n",
       "    <tr>\n",
       "      <th>1001.112500</th>\n",
       "      <th>75</th>\n",
       "      <td>0.008972</td>\n",
       "    </tr>\n",
       "  </tbody>\n",
       "</table>\n",
       "</div>"
      ],
      "text/plain": [
       "                       coolrg\n",
       "g pressure    layer          \n",
       "1 0.000312    1     -0.035452\n",
       "  1001.112500 75     0.000726\n",
       "2 0.000312    1     -0.000670\n",
       "  1001.112500 75     0.005670\n",
       "3 0.000312    1     -0.000015\n",
       "  1001.112500 75     0.041211\n",
       "4 0.000312    1     -0.000506\n",
       "  1001.112500 75     0.008972"
      ]
     },
     "metadata": {},
     "output_type": "display_data"
    },
    {
     "name": "stdout",
     "output_type": "stream",
     "text": [
      "\n",
      "WGT_IGG10\n"
     ]
    },
    {
     "data": {
      "text/html": [
       "<div>\n",
       "<style>\n",
       "    .dataframe thead tr:only-child th {\n",
       "        text-align: right;\n",
       "    }\n",
       "\n",
       "    .dataframe thead th {\n",
       "        text-align: left;\n",
       "    }\n",
       "\n",
       "    .dataframe tbody tr th {\n",
       "        vertical-align: top;\n",
       "    }\n",
       "</style>\n",
       "<table border=\"1\" class=\"dataframe\">\n",
       "  <thead>\n",
       "    <tr style=\"text-align: right;\">\n",
       "      <th></th>\n",
       "      <th></th>\n",
       "      <th></th>\n",
       "      <th>coolrg</th>\n",
       "    </tr>\n",
       "    <tr>\n",
       "      <th>g</th>\n",
       "      <th>pressure</th>\n",
       "      <th>layer</th>\n",
       "      <th></th>\n",
       "    </tr>\n",
       "  </thead>\n",
       "  <tbody>\n",
       "    <tr>\n",
       "      <th rowspan=\"2\" valign=\"top\">1</th>\n",
       "      <th>0.000312</th>\n",
       "      <th>1</th>\n",
       "      <td>-0.011496</td>\n",
       "    </tr>\n",
       "    <tr>\n",
       "      <th>1001.112500</th>\n",
       "      <th>75</th>\n",
       "      <td>0.000829</td>\n",
       "    </tr>\n",
       "    <tr>\n",
       "      <th rowspan=\"2\" valign=\"top\">2</th>\n",
       "      <th>0.000312</th>\n",
       "      <th>1</th>\n",
       "      <td>-0.000088</td>\n",
       "    </tr>\n",
       "    <tr>\n",
       "      <th>1001.112500</th>\n",
       "      <th>75</th>\n",
       "      <td>0.006018</td>\n",
       "    </tr>\n",
       "    <tr>\n",
       "      <th rowspan=\"2\" valign=\"top\">3</th>\n",
       "      <th>0.000312</th>\n",
       "      <th>1</th>\n",
       "      <td>-0.000015</td>\n",
       "    </tr>\n",
       "    <tr>\n",
       "      <th>1001.112500</th>\n",
       "      <th>75</th>\n",
       "      <td>0.044540</td>\n",
       "    </tr>\n",
       "    <tr>\n",
       "      <th rowspan=\"2\" valign=\"top\">4</th>\n",
       "      <th>0.000312</th>\n",
       "      <th>1</th>\n",
       "      <td>-0.000526</td>\n",
       "    </tr>\n",
       "    <tr>\n",
       "      <th>1001.112500</th>\n",
       "      <th>75</th>\n",
       "      <td>0.008608</td>\n",
       "    </tr>\n",
       "  </tbody>\n",
       "</table>\n",
       "</div>"
      ],
      "text/plain": [
       "                       coolrg\n",
       "g pressure    layer          \n",
       "1 0.000312    1     -0.011496\n",
       "  1001.112500 75     0.000829\n",
       "2 0.000312    1     -0.000088\n",
       "  1001.112500 75     0.006018\n",
       "3 0.000312    1     -0.000015\n",
       "  1001.112500 75     0.044540\n",
       "4 0.000312    1     -0.000526\n",
       "  1001.112500 75     0.008608"
      ]
     },
     "metadata": {},
     "output_type": "display_data"
    },
    {
     "name": "stdout",
     "output_type": "stream",
     "text": [
      "\n",
      "WGT_IGG1\n"
     ]
    },
    {
     "data": {
      "text/html": [
       "<div>\n",
       "<style>\n",
       "    .dataframe thead tr:only-child th {\n",
       "        text-align: right;\n",
       "    }\n",
       "\n",
       "    .dataframe thead th {\n",
       "        text-align: left;\n",
       "    }\n",
       "\n",
       "    .dataframe tbody tr th {\n",
       "        vertical-align: top;\n",
       "    }\n",
       "</style>\n",
       "<table border=\"1\" class=\"dataframe\">\n",
       "  <thead>\n",
       "    <tr style=\"text-align: right;\">\n",
       "      <th></th>\n",
       "      <th></th>\n",
       "      <th></th>\n",
       "      <th>coolrg</th>\n",
       "    </tr>\n",
       "    <tr>\n",
       "      <th>g</th>\n",
       "      <th>pressure</th>\n",
       "      <th>layer</th>\n",
       "      <th></th>\n",
       "    </tr>\n",
       "  </thead>\n",
       "  <tbody>\n",
       "    <tr>\n",
       "      <th rowspan=\"2\" valign=\"top\">1</th>\n",
       "      <th>0.000312</th>\n",
       "      <th>1</th>\n",
       "      <td>-0.015691</td>\n",
       "    </tr>\n",
       "    <tr>\n",
       "      <th>1001.112500</th>\n",
       "      <th>75</th>\n",
       "      <td>0.000799</td>\n",
       "    </tr>\n",
       "    <tr>\n",
       "      <th rowspan=\"2\" valign=\"top\">2</th>\n",
       "      <th>0.000312</th>\n",
       "      <th>1</th>\n",
       "      <td>-0.000080</td>\n",
       "    </tr>\n",
       "    <tr>\n",
       "      <th>1001.112500</th>\n",
       "      <th>75</th>\n",
       "      <td>0.005792</td>\n",
       "    </tr>\n",
       "    <tr>\n",
       "      <th rowspan=\"2\" valign=\"top\">3</th>\n",
       "      <th>0.000312</th>\n",
       "      <th>1</th>\n",
       "      <td>-0.000014</td>\n",
       "    </tr>\n",
       "    <tr>\n",
       "      <th>1001.112500</th>\n",
       "      <th>75</th>\n",
       "      <td>0.043576</td>\n",
       "    </tr>\n",
       "    <tr>\n",
       "      <th rowspan=\"2\" valign=\"top\">4</th>\n",
       "      <th>0.000312</th>\n",
       "      <th>1</th>\n",
       "      <td>-0.000568</td>\n",
       "    </tr>\n",
       "    <tr>\n",
       "      <th>1001.112500</th>\n",
       "      <th>75</th>\n",
       "      <td>0.009309</td>\n",
       "    </tr>\n",
       "  </tbody>\n",
       "</table>\n",
       "</div>"
      ],
      "text/plain": [
       "                       coolrg\n",
       "g pressure    layer          \n",
       "1 0.000312    1     -0.015691\n",
       "  1001.112500 75     0.000799\n",
       "2 0.000312    1     -0.000080\n",
       "  1001.112500 75     0.005792\n",
       "3 0.000312    1     -0.000014\n",
       "  1001.112500 75     0.043576\n",
       "4 0.000312    1     -0.000568\n",
       "  1001.112500 75     0.009309"
      ]
     },
     "metadata": {},
     "output_type": "display_data"
    },
    {
     "name": "stdout",
     "output_type": "stream",
     "text": [
      "\n",
      "WGT_IGG10 - CRD\n"
     ]
    },
    {
     "data": {
      "text/html": [
       "<div>\n",
       "<style>\n",
       "    .dataframe thead tr:only-child th {\n",
       "        text-align: right;\n",
       "    }\n",
       "\n",
       "    .dataframe thead th {\n",
       "        text-align: left;\n",
       "    }\n",
       "\n",
       "    .dataframe tbody tr th {\n",
       "        vertical-align: top;\n",
       "    }\n",
       "</style>\n",
       "<table border=\"1\" class=\"dataframe\">\n",
       "  <thead>\n",
       "    <tr style=\"text-align: right;\">\n",
       "      <th></th>\n",
       "      <th></th>\n",
       "      <th></th>\n",
       "      <th>coolrg</th>\n",
       "    </tr>\n",
       "    <tr>\n",
       "      <th>g</th>\n",
       "      <th>pressure</th>\n",
       "      <th>layer</th>\n",
       "      <th></th>\n",
       "    </tr>\n",
       "  </thead>\n",
       "  <tbody>\n",
       "    <tr>\n",
       "      <th rowspan=\"2\" valign=\"top\">1</th>\n",
       "      <th>0.000312</th>\n",
       "      <th>1</th>\n",
       "      <td>2.395638e-02</td>\n",
       "    </tr>\n",
       "    <tr>\n",
       "      <th>1001.112500</th>\n",
       "      <th>75</th>\n",
       "      <td>1.027770e-04</td>\n",
       "    </tr>\n",
       "    <tr>\n",
       "      <th rowspan=\"2\" valign=\"top\">2</th>\n",
       "      <th>0.000312</th>\n",
       "      <th>1</th>\n",
       "      <td>5.817963e-04</td>\n",
       "    </tr>\n",
       "    <tr>\n",
       "      <th>1001.112500</th>\n",
       "      <th>75</th>\n",
       "      <td>3.483609e-04</td>\n",
       "    </tr>\n",
       "    <tr>\n",
       "      <th rowspan=\"2\" valign=\"top\">3</th>\n",
       "      <th>0.000312</th>\n",
       "      <th>1</th>\n",
       "      <td>7.806380e-07</td>\n",
       "    </tr>\n",
       "    <tr>\n",
       "      <th>1001.112500</th>\n",
       "      <th>75</th>\n",
       "      <td>3.328171e-03</td>\n",
       "    </tr>\n",
       "    <tr>\n",
       "      <th rowspan=\"2\" valign=\"top\">4</th>\n",
       "      <th>0.000312</th>\n",
       "      <th>1</th>\n",
       "      <td>-2.076128e-05</td>\n",
       "    </tr>\n",
       "    <tr>\n",
       "      <th>1001.112500</th>\n",
       "      <th>75</th>\n",
       "      <td>-3.636257e-04</td>\n",
       "    </tr>\n",
       "  </tbody>\n",
       "</table>\n",
       "</div>"
      ],
      "text/plain": [
       "                           coolrg\n",
       "g pressure    layer              \n",
       "1 0.000312    1      2.395638e-02\n",
       "  1001.112500 75     1.027770e-04\n",
       "2 0.000312    1      5.817963e-04\n",
       "  1001.112500 75     3.483609e-04\n",
       "3 0.000312    1      7.806380e-07\n",
       "  1001.112500 75     3.328171e-03\n",
       "4 0.000312    1     -2.076128e-05\n",
       "  1001.112500 75    -3.636257e-04"
      ]
     },
     "metadata": {},
     "output_type": "display_data"
    },
    {
     "name": "stdout",
     "output_type": "stream",
     "text": [
      "\n",
      "WGT_IGG1 - CRD\n"
     ]
    },
    {
     "data": {
      "text/html": [
       "<div>\n",
       "<style>\n",
       "    .dataframe thead tr:only-child th {\n",
       "        text-align: right;\n",
       "    }\n",
       "\n",
       "    .dataframe thead th {\n",
       "        text-align: left;\n",
       "    }\n",
       "\n",
       "    .dataframe tbody tr th {\n",
       "        vertical-align: top;\n",
       "    }\n",
       "</style>\n",
       "<table border=\"1\" class=\"dataframe\">\n",
       "  <thead>\n",
       "    <tr style=\"text-align: right;\">\n",
       "      <th></th>\n",
       "      <th></th>\n",
       "      <th></th>\n",
       "      <th>coolrg</th>\n",
       "    </tr>\n",
       "    <tr>\n",
       "      <th>g</th>\n",
       "      <th>pressure</th>\n",
       "      <th>layer</th>\n",
       "      <th></th>\n",
       "    </tr>\n",
       "  </thead>\n",
       "  <tbody>\n",
       "    <tr>\n",
       "      <th rowspan=\"2\" valign=\"top\">1</th>\n",
       "      <th>0.000312</th>\n",
       "      <th>1</th>\n",
       "      <td>0.019761</td>\n",
       "    </tr>\n",
       "    <tr>\n",
       "      <th>1001.112500</th>\n",
       "      <th>75</th>\n",
       "      <td>0.000073</td>\n",
       "    </tr>\n",
       "    <tr>\n",
       "      <th rowspan=\"2\" valign=\"top\">2</th>\n",
       "      <th>0.000312</th>\n",
       "      <th>1</th>\n",
       "      <td>0.000590</td>\n",
       "    </tr>\n",
       "    <tr>\n",
       "      <th>1001.112500</th>\n",
       "      <th>75</th>\n",
       "      <td>0.000122</td>\n",
       "    </tr>\n",
       "    <tr>\n",
       "      <th rowspan=\"2\" valign=\"top\">3</th>\n",
       "      <th>0.000312</th>\n",
       "      <th>1</th>\n",
       "      <td>0.000001</td>\n",
       "    </tr>\n",
       "    <tr>\n",
       "      <th>1001.112500</th>\n",
       "      <th>75</th>\n",
       "      <td>0.002365</td>\n",
       "    </tr>\n",
       "    <tr>\n",
       "      <th rowspan=\"2\" valign=\"top\">4</th>\n",
       "      <th>0.000312</th>\n",
       "      <th>1</th>\n",
       "      <td>-0.000062</td>\n",
       "    </tr>\n",
       "    <tr>\n",
       "      <th>1001.112500</th>\n",
       "      <th>75</th>\n",
       "      <td>0.000337</td>\n",
       "    </tr>\n",
       "  </tbody>\n",
       "</table>\n",
       "</div>"
      ],
      "text/plain": [
       "                       coolrg\n",
       "g pressure    layer          \n",
       "1 0.000312    1      0.019761\n",
       "  1001.112500 75     0.000073\n",
       "2 0.000312    1      0.000590\n",
       "  1001.112500 75     0.000122\n",
       "3 0.000312    1      0.000001\n",
       "  1001.112500 75     0.002365\n",
       "4 0.000312    1     -0.000062\n",
       "  1001.112500 75     0.000337"
      ]
     },
     "metadata": {},
     "output_type": "display_data"
    },
    {
     "data": {
      "text/html": [
       "<a id=\"Table:_flux._g-groups_total\"></a>"
      ],
      "text/plain": [
       "<IPython.core.display.HTML object>"
      ]
     },
     "metadata": {},
     "output_type": "display_data"
    },
    {
     "data": {
      "text/markdown": [
       "# Table: flux. g-groups total"
      ],
      "text/plain": [
       "<IPython.core.display.Markdown object>"
      ]
     },
     "metadata": {},
     "output_type": "display_data"
    },
    {
     "name": "stdout",
     "output_type": "stream",
     "text": [
      "\n",
      "CRD\n"
     ]
    },
    {
     "data": {
      "text/html": [
       "<div>\n",
       "<style>\n",
       "    .dataframe thead tr:only-child th {\n",
       "        text-align: right;\n",
       "    }\n",
       "\n",
       "    .dataframe thead th {\n",
       "        text-align: left;\n",
       "    }\n",
       "\n",
       "    .dataframe tbody tr th {\n",
       "        vertical-align: top;\n",
       "    }\n",
       "</style>\n",
       "<table border=\"1\" class=\"dataframe\">\n",
       "  <thead>\n",
       "    <tr style=\"text-align: right;\">\n",
       "      <th></th>\n",
       "      <th></th>\n",
       "      <th>flug</th>\n",
       "      <th>fldg</th>\n",
       "      <th>fnetg</th>\n",
       "    </tr>\n",
       "    <tr>\n",
       "      <th>pressure</th>\n",
       "      <th>level</th>\n",
       "      <th></th>\n",
       "      <th></th>\n",
       "      <th></th>\n",
       "    </tr>\n",
       "  </thead>\n",
       "  <tbody>\n",
       "    <tr>\n",
       "      <th>0.0</th>\n",
       "      <th>1</th>\n",
       "      <td>-20.872807</td>\n",
       "      <td>0.000000</td>\n",
       "      <td>-20.872807</td>\n",
       "    </tr>\n",
       "    <tr>\n",
       "      <th>1013.0</th>\n",
       "      <th>76</th>\n",
       "      <td>-23.755175</td>\n",
       "      <td>3.877716</td>\n",
       "      <td>-19.877460</td>\n",
       "    </tr>\n",
       "  </tbody>\n",
       "</table>\n",
       "</div>"
      ],
      "text/plain": [
       "                     flug      fldg      fnetg\n",
       "pressure level                                \n",
       "0.0      1     -20.872807  0.000000 -20.872807\n",
       "1013.0   76    -23.755175  3.877716 -19.877460"
      ]
     },
     "metadata": {},
     "output_type": "display_data"
    },
    {
     "name": "stdout",
     "output_type": "stream",
     "text": [
      "\n",
      "WGT_IGG10\n"
     ]
    },
    {
     "data": {
      "text/html": [
       "<div>\n",
       "<style>\n",
       "    .dataframe thead tr:only-child th {\n",
       "        text-align: right;\n",
       "    }\n",
       "\n",
       "    .dataframe thead th {\n",
       "        text-align: left;\n",
       "    }\n",
       "\n",
       "    .dataframe tbody tr th {\n",
       "        vertical-align: top;\n",
       "    }\n",
       "</style>\n",
       "<table border=\"1\" class=\"dataframe\">\n",
       "  <thead>\n",
       "    <tr style=\"text-align: right;\">\n",
       "      <th></th>\n",
       "      <th></th>\n",
       "      <th>flug</th>\n",
       "      <th>fldg</th>\n",
       "      <th>fnetg</th>\n",
       "    </tr>\n",
       "    <tr>\n",
       "      <th>pressure</th>\n",
       "      <th>level</th>\n",
       "      <th></th>\n",
       "      <th></th>\n",
       "      <th></th>\n",
       "    </tr>\n",
       "  </thead>\n",
       "  <tbody>\n",
       "    <tr>\n",
       "      <th>0.0</th>\n",
       "      <th>1</th>\n",
       "      <td>-20.698463</td>\n",
       "      <td>0.00000</td>\n",
       "      <td>-20.698463</td>\n",
       "    </tr>\n",
       "    <tr>\n",
       "      <th>1013.0</th>\n",
       "      <th>76</th>\n",
       "      <td>-23.755176</td>\n",
       "      <td>3.84558</td>\n",
       "      <td>-19.909595</td>\n",
       "    </tr>\n",
       "  </tbody>\n",
       "</table>\n",
       "</div>"
      ],
      "text/plain": [
       "                     flug     fldg      fnetg\n",
       "pressure level                               \n",
       "0.0      1     -20.698463  0.00000 -20.698463\n",
       "1013.0   76    -23.755176  3.84558 -19.909595"
      ]
     },
     "metadata": {},
     "output_type": "display_data"
    },
    {
     "name": "stdout",
     "output_type": "stream",
     "text": [
      "\n",
      "WGT_IGG1\n"
     ]
    },
    {
     "data": {
      "text/html": [
       "<div>\n",
       "<style>\n",
       "    .dataframe thead tr:only-child th {\n",
       "        text-align: right;\n",
       "    }\n",
       "\n",
       "    .dataframe thead th {\n",
       "        text-align: left;\n",
       "    }\n",
       "\n",
       "    .dataframe tbody tr th {\n",
       "        vertical-align: top;\n",
       "    }\n",
       "</style>\n",
       "<table border=\"1\" class=\"dataframe\">\n",
       "  <thead>\n",
       "    <tr style=\"text-align: right;\">\n",
       "      <th></th>\n",
       "      <th></th>\n",
       "      <th>flug</th>\n",
       "      <th>fldg</th>\n",
       "      <th>fnetg</th>\n",
       "    </tr>\n",
       "    <tr>\n",
       "      <th>pressure</th>\n",
       "      <th>level</th>\n",
       "      <th></th>\n",
       "      <th></th>\n",
       "      <th></th>\n",
       "    </tr>\n",
       "  </thead>\n",
       "  <tbody>\n",
       "    <tr>\n",
       "      <th>0.0</th>\n",
       "      <th>1</th>\n",
       "      <td>-20.598094</td>\n",
       "      <td>0.000000</td>\n",
       "      <td>-20.598094</td>\n",
       "    </tr>\n",
       "    <tr>\n",
       "      <th>1013.0</th>\n",
       "      <th>76</th>\n",
       "      <td>-23.755176</td>\n",
       "      <td>3.957595</td>\n",
       "      <td>-19.797580</td>\n",
       "    </tr>\n",
       "  </tbody>\n",
       "</table>\n",
       "</div>"
      ],
      "text/plain": [
       "                     flug      fldg      fnetg\n",
       "pressure level                                \n",
       "0.0      1     -20.598094  0.000000 -20.598094\n",
       "1013.0   76    -23.755176  3.957595 -19.797580"
      ]
     },
     "metadata": {},
     "output_type": "display_data"
    },
    {
     "name": "stdout",
     "output_type": "stream",
     "text": [
      "\n",
      "WGT_IGG10 - CRD\n"
     ]
    },
    {
     "data": {
      "text/html": [
       "<div>\n",
       "<style>\n",
       "    .dataframe thead tr:only-child th {\n",
       "        text-align: right;\n",
       "    }\n",
       "\n",
       "    .dataframe thead th {\n",
       "        text-align: left;\n",
       "    }\n",
       "\n",
       "    .dataframe tbody tr th {\n",
       "        vertical-align: top;\n",
       "    }\n",
       "</style>\n",
       "<table border=\"1\" class=\"dataframe\">\n",
       "  <thead>\n",
       "    <tr style=\"text-align: right;\">\n",
       "      <th></th>\n",
       "      <th></th>\n",
       "      <th>flug</th>\n",
       "      <th>fldg</th>\n",
       "      <th>fnetg</th>\n",
       "    </tr>\n",
       "    <tr>\n",
       "      <th>pressure</th>\n",
       "      <th>level</th>\n",
       "      <th></th>\n",
       "      <th></th>\n",
       "      <th></th>\n",
       "    </tr>\n",
       "  </thead>\n",
       "  <tbody>\n",
       "    <tr>\n",
       "      <th>0.0</th>\n",
       "      <th>1</th>\n",
       "      <td>1.743440e-01</td>\n",
       "      <td>0.000000</td>\n",
       "      <td>0.174344</td>\n",
       "    </tr>\n",
       "    <tr>\n",
       "      <th>1013.0</th>\n",
       "      <th>76</th>\n",
       "      <td>-6.800000e-07</td>\n",
       "      <td>-0.032136</td>\n",
       "      <td>-0.032136</td>\n",
       "    </tr>\n",
       "  </tbody>\n",
       "</table>\n",
       "</div>"
      ],
      "text/plain": [
       "                        flug      fldg     fnetg\n",
       "pressure level                                  \n",
       "0.0      1      1.743440e-01  0.000000  0.174344\n",
       "1013.0   76    -6.800000e-07 -0.032136 -0.032136"
      ]
     },
     "metadata": {},
     "output_type": "display_data"
    },
    {
     "name": "stdout",
     "output_type": "stream",
     "text": [
      "\n",
      "WGT_IGG1 - CRD\n"
     ]
    },
    {
     "data": {
      "text/html": [
       "<div>\n",
       "<style>\n",
       "    .dataframe thead tr:only-child th {\n",
       "        text-align: right;\n",
       "    }\n",
       "\n",
       "    .dataframe thead th {\n",
       "        text-align: left;\n",
       "    }\n",
       "\n",
       "    .dataframe tbody tr th {\n",
       "        vertical-align: top;\n",
       "    }\n",
       "</style>\n",
       "<table border=\"1\" class=\"dataframe\">\n",
       "  <thead>\n",
       "    <tr style=\"text-align: right;\">\n",
       "      <th></th>\n",
       "      <th></th>\n",
       "      <th>flug</th>\n",
       "      <th>fldg</th>\n",
       "      <th>fnetg</th>\n",
       "    </tr>\n",
       "    <tr>\n",
       "      <th>pressure</th>\n",
       "      <th>level</th>\n",
       "      <th></th>\n",
       "      <th></th>\n",
       "      <th></th>\n",
       "    </tr>\n",
       "  </thead>\n",
       "  <tbody>\n",
       "    <tr>\n",
       "      <th>0.0</th>\n",
       "      <th>1</th>\n",
       "      <td>2.747130e-01</td>\n",
       "      <td>0.000000</td>\n",
       "      <td>0.274713</td>\n",
       "    </tr>\n",
       "    <tr>\n",
       "      <th>1013.0</th>\n",
       "      <th>76</th>\n",
       "      <td>-6.800000e-07</td>\n",
       "      <td>0.079879</td>\n",
       "      <td>0.079880</td>\n",
       "    </tr>\n",
       "  </tbody>\n",
       "</table>\n",
       "</div>"
      ],
      "text/plain": [
       "                        flug      fldg     fnetg\n",
       "pressure level                                  \n",
       "0.0      1      2.747130e-01  0.000000  0.274713\n",
       "1013.0   76    -6.800000e-07  0.079879  0.079880"
      ]
     },
     "metadata": {},
     "output_type": "display_data"
    },
    {
     "data": {
      "text/html": [
       "<a id=\"Table:_cooling_rate._g-groups_total\"></a>"
      ],
      "text/plain": [
       "<IPython.core.display.HTML object>"
      ]
     },
     "metadata": {},
     "output_type": "display_data"
    },
    {
     "data": {
      "text/markdown": [
       "# Table: cooling rate. g-groups total"
      ],
      "text/plain": [
       "<IPython.core.display.Markdown object>"
      ]
     },
     "metadata": {},
     "output_type": "display_data"
    },
    {
     "name": "stdout",
     "output_type": "stream",
     "text": [
      "\n",
      "CRD\n"
     ]
    },
    {
     "data": {
      "text/html": [
       "<div>\n",
       "<style>\n",
       "    .dataframe thead tr:only-child th {\n",
       "        text-align: right;\n",
       "    }\n",
       "\n",
       "    .dataframe thead th {\n",
       "        text-align: left;\n",
       "    }\n",
       "\n",
       "    .dataframe tbody tr th {\n",
       "        vertical-align: top;\n",
       "    }\n",
       "</style>\n",
       "<table border=\"1\" class=\"dataframe\">\n",
       "  <thead>\n",
       "    <tr style=\"text-align: right;\">\n",
       "      <th></th>\n",
       "      <th></th>\n",
       "      <th>coolrg</th>\n",
       "    </tr>\n",
       "    <tr>\n",
       "      <th>pressure</th>\n",
       "      <th>layer</th>\n",
       "      <th></th>\n",
       "    </tr>\n",
       "  </thead>\n",
       "  <tbody>\n",
       "    <tr>\n",
       "      <th>0.000312</th>\n",
       "      <th>1</th>\n",
       "      <td>-0.036643</td>\n",
       "    </tr>\n",
       "    <tr>\n",
       "      <th>1001.112500</th>\n",
       "      <th>75</th>\n",
       "      <td>0.056579</td>\n",
       "    </tr>\n",
       "  </tbody>\n",
       "</table>\n",
       "</div>"
      ],
      "text/plain": [
       "                     coolrg\n",
       "pressure    layer          \n",
       "0.000312    1     -0.036643\n",
       "1001.112500 75     0.056579"
      ]
     },
     "metadata": {},
     "output_type": "display_data"
    },
    {
     "name": "stdout",
     "output_type": "stream",
     "text": [
      "\n",
      "WGT_IGG10\n"
     ]
    },
    {
     "data": {
      "text/html": [
       "<div>\n",
       "<style>\n",
       "    .dataframe thead tr:only-child th {\n",
       "        text-align: right;\n",
       "    }\n",
       "\n",
       "    .dataframe thead th {\n",
       "        text-align: left;\n",
       "    }\n",
       "\n",
       "    .dataframe tbody tr th {\n",
       "        vertical-align: top;\n",
       "    }\n",
       "</style>\n",
       "<table border=\"1\" class=\"dataframe\">\n",
       "  <thead>\n",
       "    <tr style=\"text-align: right;\">\n",
       "      <th></th>\n",
       "      <th></th>\n",
       "      <th>coolrg</th>\n",
       "    </tr>\n",
       "    <tr>\n",
       "      <th>pressure</th>\n",
       "      <th>layer</th>\n",
       "      <th></th>\n",
       "    </tr>\n",
       "  </thead>\n",
       "  <tbody>\n",
       "    <tr>\n",
       "      <th>0.000312</th>\n",
       "      <th>1</th>\n",
       "      <td>-0.012125</td>\n",
       "    </tr>\n",
       "    <tr>\n",
       "      <th>1001.112500</th>\n",
       "      <th>75</th>\n",
       "      <td>0.059995</td>\n",
       "    </tr>\n",
       "  </tbody>\n",
       "</table>\n",
       "</div>"
      ],
      "text/plain": [
       "                     coolrg\n",
       "pressure    layer          \n",
       "0.000312    1     -0.012125\n",
       "1001.112500 75     0.059995"
      ]
     },
     "metadata": {},
     "output_type": "display_data"
    },
    {
     "name": "stdout",
     "output_type": "stream",
     "text": [
      "\n",
      "WGT_IGG1\n"
     ]
    },
    {
     "data": {
      "text/html": [
       "<div>\n",
       "<style>\n",
       "    .dataframe thead tr:only-child th {\n",
       "        text-align: right;\n",
       "    }\n",
       "\n",
       "    .dataframe thead th {\n",
       "        text-align: left;\n",
       "    }\n",
       "\n",
       "    .dataframe tbody tr th {\n",
       "        vertical-align: top;\n",
       "    }\n",
       "</style>\n",
       "<table border=\"1\" class=\"dataframe\">\n",
       "  <thead>\n",
       "    <tr style=\"text-align: right;\">\n",
       "      <th></th>\n",
       "      <th></th>\n",
       "      <th>coolrg</th>\n",
       "    </tr>\n",
       "    <tr>\n",
       "      <th>pressure</th>\n",
       "      <th>layer</th>\n",
       "      <th></th>\n",
       "    </tr>\n",
       "  </thead>\n",
       "  <tbody>\n",
       "    <tr>\n",
       "      <th>0.000312</th>\n",
       "      <th>1</th>\n",
       "      <td>-0.016354</td>\n",
       "    </tr>\n",
       "    <tr>\n",
       "      <th>1001.112500</th>\n",
       "      <th>75</th>\n",
       "      <td>0.059476</td>\n",
       "    </tr>\n",
       "  </tbody>\n",
       "</table>\n",
       "</div>"
      ],
      "text/plain": [
       "                     coolrg\n",
       "pressure    layer          \n",
       "0.000312    1     -0.016354\n",
       "1001.112500 75     0.059476"
      ]
     },
     "metadata": {},
     "output_type": "display_data"
    },
    {
     "name": "stdout",
     "output_type": "stream",
     "text": [
      "\n",
      "WGT_IGG10 - CRD\n"
     ]
    },
    {
     "data": {
      "text/html": [
       "<div>\n",
       "<style>\n",
       "    .dataframe thead tr:only-child th {\n",
       "        text-align: right;\n",
       "    }\n",
       "\n",
       "    .dataframe thead th {\n",
       "        text-align: left;\n",
       "    }\n",
       "\n",
       "    .dataframe tbody tr th {\n",
       "        vertical-align: top;\n",
       "    }\n",
       "</style>\n",
       "<table border=\"1\" class=\"dataframe\">\n",
       "  <thead>\n",
       "    <tr style=\"text-align: right;\">\n",
       "      <th></th>\n",
       "      <th></th>\n",
       "      <th>coolrg</th>\n",
       "    </tr>\n",
       "    <tr>\n",
       "      <th>pressure</th>\n",
       "      <th>layer</th>\n",
       "      <th></th>\n",
       "    </tr>\n",
       "  </thead>\n",
       "  <tbody>\n",
       "    <tr>\n",
       "      <th>0.000312</th>\n",
       "      <th>1</th>\n",
       "      <td>0.024518</td>\n",
       "    </tr>\n",
       "    <tr>\n",
       "      <th>1001.112500</th>\n",
       "      <th>75</th>\n",
       "      <td>0.003416</td>\n",
       "    </tr>\n",
       "  </tbody>\n",
       "</table>\n",
       "</div>"
      ],
      "text/plain": [
       "                     coolrg\n",
       "pressure    layer          \n",
       "0.000312    1      0.024518\n",
       "1001.112500 75     0.003416"
      ]
     },
     "metadata": {},
     "output_type": "display_data"
    },
    {
     "name": "stdout",
     "output_type": "stream",
     "text": [
      "\n",
      "WGT_IGG1 - CRD\n"
     ]
    },
    {
     "data": {
      "text/html": [
       "<div>\n",
       "<style>\n",
       "    .dataframe thead tr:only-child th {\n",
       "        text-align: right;\n",
       "    }\n",
       "\n",
       "    .dataframe thead th {\n",
       "        text-align: left;\n",
       "    }\n",
       "\n",
       "    .dataframe tbody tr th {\n",
       "        vertical-align: top;\n",
       "    }\n",
       "</style>\n",
       "<table border=\"1\" class=\"dataframe\">\n",
       "  <thead>\n",
       "    <tr style=\"text-align: right;\">\n",
       "      <th></th>\n",
       "      <th></th>\n",
       "      <th>coolrg</th>\n",
       "    </tr>\n",
       "    <tr>\n",
       "      <th>pressure</th>\n",
       "      <th>layer</th>\n",
       "      <th></th>\n",
       "    </tr>\n",
       "  </thead>\n",
       "  <tbody>\n",
       "    <tr>\n",
       "      <th>0.000312</th>\n",
       "      <th>1</th>\n",
       "      <td>0.020289</td>\n",
       "    </tr>\n",
       "    <tr>\n",
       "      <th>1001.112500</th>\n",
       "      <th>75</th>\n",
       "      <td>0.002897</td>\n",
       "    </tr>\n",
       "  </tbody>\n",
       "</table>\n",
       "</div>"
      ],
      "text/plain": [
       "                     coolrg\n",
       "pressure    layer          \n",
       "0.000312    1      0.020289\n",
       "1001.112500 75     0.002897"
      ]
     },
     "metadata": {},
     "output_type": "display_data"
    }
   ],
   "source": [
    "table_fluxg.display_withdiff(analysis, benchmark='crd')\n",
    "table_coolrg.display_withdiff(analysis, benchmark='crd')\n",
    "table_flux.display_withdiff(analysis, benchmark='crd')\n",
    "table_coolr.display_withdiff(analysis, benchmark='crd')"
   ]
  },
  {
   "cell_type": "code",
   "execution_count": 22,
   "metadata": {},
   "outputs": [
    {
     "data": {
      "text/html": [
       "<a id=\"Table:_dgdgs._g-groups\"></a>"
      ],
      "text/plain": [
       "<IPython.core.display.HTML object>"
      ]
     },
     "metadata": {},
     "output_type": "display_data"
    },
    {
     "data": {
      "text/markdown": [
       "# Table: dgdgs. g-groups "
      ],
      "text/plain": [
       "<IPython.core.display.Markdown object>"
      ]
     },
     "metadata": {},
     "output_type": "display_data"
    },
    {
     "data": {
      "text/html": [
       "<div>\n",
       "<style>\n",
       "    .dataframe thead tr:only-child th {\n",
       "        text-align: right;\n",
       "    }\n",
       "\n",
       "    .dataframe thead th {\n",
       "        text-align: left;\n",
       "    }\n",
       "\n",
       "    .dataframe tbody tr th {\n",
       "        vertical-align: top;\n",
       "    }\n",
       "</style>\n",
       "<table border=\"1\" class=\"dataframe\">\n",
       "  <thead>\n",
       "    <tr style=\"text-align: right;\">\n",
       "      <th></th>\n",
       "      <th>dg</th>\n",
       "      <th>dgs</th>\n",
       "    </tr>\n",
       "    <tr>\n",
       "      <th>g</th>\n",
       "      <th></th>\n",
       "      <th></th>\n",
       "    </tr>\n",
       "  </thead>\n",
       "  <tbody>\n",
       "    <tr>\n",
       "      <th>1</th>\n",
       "      <td>0.005230</td>\n",
       "      <td>0.005365</td>\n",
       "    </tr>\n",
       "    <tr>\n",
       "      <th>2</th>\n",
       "      <td>0.038788</td>\n",
       "      <td>0.040104</td>\n",
       "    </tr>\n",
       "    <tr>\n",
       "      <th>3</th>\n",
       "      <td>0.291909</td>\n",
       "      <td>0.301219</td>\n",
       "    </tr>\n",
       "    <tr>\n",
       "      <th>4</th>\n",
       "      <td>0.664073</td>\n",
       "      <td>0.653313</td>\n",
       "    </tr>\n",
       "  </tbody>\n",
       "</table>\n",
       "</div>"
      ],
      "text/plain": [
       "         dg       dgs\n",
       "g                    \n",
       "1  0.005230  0.005365\n",
       "2  0.038788  0.040104\n",
       "3  0.291909  0.301219\n",
       "4  0.664073  0.653313"
      ]
     },
     "metadata": {},
     "output_type": "display_data"
    }
   ],
   "source": [
    "table_dgdgs.display_dgdgs(crd)"
   ]
  },
  {
   "cell_type": "code",
   "execution_count": 23,
   "metadata": {},
   "outputs": [
    {
     "data": {
      "text/html": [
       "<a id=\"Overall_absth\"></a>"
      ],
      "text/plain": [
       "<IPython.core.display.HTML object>"
      ]
     },
     "metadata": {},
     "output_type": "display_data"
    },
    {
     "data": {
      "text/markdown": [
       "# Overall absth"
      ],
      "text/plain": [
       "<IPython.core.display.Markdown object>"
      ]
     },
     "metadata": {},
     "output_type": "display_data"
    },
    {
     "data": {
      "text/html": [
       "<div>\n",
       "<style>\n",
       "    .dataframe thead tr:only-child th {\n",
       "        text-align: right;\n",
       "    }\n",
       "\n",
       "    .dataframe thead th {\n",
       "        text-align: left;\n",
       "    }\n",
       "\n",
       "    .dataframe tbody tr th {\n",
       "        vertical-align: top;\n",
       "    }\n",
       "</style>\n",
       "<table border=\"1\" class=\"dataframe\">\n",
       "  <thead>\n",
       "    <tr style=\"text-align: right;\">\n",
       "      <th></th>\n",
       "      <th>abscom</th>\n",
       "    </tr>\n",
       "    <tr>\n",
       "      <th>g</th>\n",
       "      <th></th>\n",
       "    </tr>\n",
       "  </thead>\n",
       "  <tbody>\n",
       "    <tr>\n",
       "      <th>1</th>\n",
       "      <td>6.376210e-19</td>\n",
       "    </tr>\n",
       "    <tr>\n",
       "      <th>2</th>\n",
       "      <td>5.353590e-21</td>\n",
       "    </tr>\n",
       "    <tr>\n",
       "      <th>3</th>\n",
       "      <td>2.220488e-20</td>\n",
       "    </tr>\n",
       "    <tr>\n",
       "      <th>4</th>\n",
       "      <td>2.163830e-26</td>\n",
       "    </tr>\n",
       "  </tbody>\n",
       "</table>\n",
       "</div>"
      ],
      "text/plain": [
       "         abscom\n",
       "g              \n",
       "1  6.376210e-19\n",
       "2  5.353590e-21\n",
       "3  2.220488e-20\n",
       "4  2.163830e-26"
      ]
     },
     "metadata": {},
     "output_type": "display_data"
    }
   ],
   "source": [
    "# read and display overall absth\n",
    "display.display(\n",
    "    display.HTML(climahtml.getHTML_idanchor(s_abscom)))\n",
    "display.display(\n",
    "    display.Markdown(climahtml.getMarkdown_sectitle(s_abscom)))\n",
    "\n",
    "display.display(pd.read_csv(os.path.join(crd.rundir, 'abscom.dat'),\n",
    "                sep=r'\\s+',\n",
    "                index_col=[0]))"
   ]
  },
  {
   "cell_type": "code",
   "execution_count": 24,
   "metadata": {
    "collapsed": true
   },
   "outputs": [],
   "source": [
    "def spreadsheet(ng_refs, p_refs):\n",
    "    ng = crd.data['dgdgs'].dims['g']\n",
    "    \n",
    "    df_abscom = pd.read_csv(os.path.join(crd.rundir, 'abscom.dat'), \n",
    "                            sep=r'\\s+', index_col=[0])\n",
    "    \n",
    "    # absth(g + 1) / absth(g)\n",
    "    df_abscom_copy = df_abscom.copy()\n",
    "    df_abscom_copy.index = df_abscom.index + 1\n",
    "    df_absratio = df_abscom / df_abscom_copy\n",
    "    df_absratio.columns = ['k(ig) / k(ig - 1)']\n",
    "    df_absratio = df_absratio.loc[: ng]\n",
    "    df_dgdgs = crd.data['dgdgs'].to_dataframe()\n",
    "    \n",
    "    \n",
    "    df_dgdgs_cumsum = df_dgdgs.cumsum(axis=0)\n",
    "    df_dgdgs_cumsum.columns = ['dg cumsum', 'dgs cumsum']\n",
    "    \n",
    "    data_pref = np.concatenate([p_ref * np.ones((ng_ref,)) \n",
    "                                for ng_ref, p_ref \n",
    "                                in zip(ng_refs, p_refs)], axis=0)\n",
    "    df_pref = pd.DataFrame(data_pref, \n",
    "                           index=df_dgdgs.index, columns=['pref'])\n",
    "    \n",
    "    df_all = pd.concat([df_abscom, df_absratio,\n",
    "                        df_dgdgs, df_dgdgs_cumsum,\n",
    "                        df_pref], axis=1) \n",
    "    return df_all\n",
    "    "
   ]
  },
  {
   "cell_type": "code",
   "execution_count": 25,
   "metadata": {
    "scrolled": false
   },
   "outputs": [
    {
     "data": {
      "text/html": [
       "<a id=\"g-group_summary\"></a>"
      ],
      "text/plain": [
       "<IPython.core.display.HTML object>"
      ]
     },
     "metadata": {},
     "output_type": "display_data"
    },
    {
     "data": {
      "text/markdown": [
       "# g-group summary"
      ],
      "text/plain": [
       "<IPython.core.display.Markdown object>"
      ]
     },
     "metadata": {},
     "output_type": "display_data"
    },
    {
     "data": {
      "text/html": [
       "<div>\n",
       "<style>\n",
       "    .dataframe thead tr:only-child th {\n",
       "        text-align: right;\n",
       "    }\n",
       "\n",
       "    .dataframe thead th {\n",
       "        text-align: left;\n",
       "    }\n",
       "\n",
       "    .dataframe tbody tr th {\n",
       "        vertical-align: top;\n",
       "    }\n",
       "</style>\n",
       "<table border=\"1\" class=\"dataframe\">\n",
       "  <thead>\n",
       "    <tr style=\"text-align: right;\">\n",
       "      <th></th>\n",
       "      <th>abscom</th>\n",
       "      <th>k(ig) / k(ig - 1)</th>\n",
       "      <th>dg</th>\n",
       "      <th>dgs</th>\n",
       "      <th>dg cumsum</th>\n",
       "      <th>dgs cumsum</th>\n",
       "      <th>pref</th>\n",
       "    </tr>\n",
       "    <tr>\n",
       "      <th>g</th>\n",
       "      <th></th>\n",
       "      <th></th>\n",
       "      <th></th>\n",
       "      <th></th>\n",
       "      <th></th>\n",
       "      <th></th>\n",
       "      <th></th>\n",
       "    </tr>\n",
       "  </thead>\n",
       "  <tbody>\n",
       "    <tr>\n",
       "      <th>1</th>\n",
       "      <td>6.376210e-19</td>\n",
       "      <td>NaN</td>\n",
       "      <td>0.005230</td>\n",
       "      <td>0.005365</td>\n",
       "      <td>0.005230</td>\n",
       "      <td>0.005365</td>\n",
       "      <td>1.0</td>\n",
       "    </tr>\n",
       "    <tr>\n",
       "      <th>2</th>\n",
       "      <td>5.353590e-21</td>\n",
       "      <td>8.396195e-03</td>\n",
       "      <td>0.038788</td>\n",
       "      <td>0.040104</td>\n",
       "      <td>0.044018</td>\n",
       "      <td>0.045469</td>\n",
       "      <td>1.0</td>\n",
       "    </tr>\n",
       "    <tr>\n",
       "      <th>3</th>\n",
       "      <td>2.220488e-20</td>\n",
       "      <td>4.147661e+00</td>\n",
       "      <td>0.291909</td>\n",
       "      <td>0.301219</td>\n",
       "      <td>0.335927</td>\n",
       "      <td>0.346687</td>\n",
       "      <td>500.0</td>\n",
       "    </tr>\n",
       "    <tr>\n",
       "      <th>4</th>\n",
       "      <td>2.163830e-26</td>\n",
       "      <td>9.744839e-07</td>\n",
       "      <td>0.664073</td>\n",
       "      <td>0.653313</td>\n",
       "      <td>1.000000</td>\n",
       "      <td>1.000000</td>\n",
       "      <td>500.0</td>\n",
       "    </tr>\n",
       "  </tbody>\n",
       "</table>\n",
       "</div>"
      ],
      "text/plain": [
       "         abscom  k(ig) / k(ig - 1)        dg       dgs  dg cumsum  dgs cumsum  \\\n",
       "g                                                                               \n",
       "1  6.376210e-19                NaN  0.005230  0.005365   0.005230    0.005365   \n",
       "2  5.353590e-21       8.396195e-03  0.038788  0.040104   0.044018    0.045469   \n",
       "3  2.220488e-20       4.147661e+00  0.291909  0.301219   0.335927    0.346687   \n",
       "4  2.163830e-26       9.744839e-07  0.664073  0.653313   1.000000    1.000000   \n",
       "\n",
       "    pref  \n",
       "g         \n",
       "1    1.0  \n",
       "2    1.0  \n",
       "3  500.0  \n",
       "4  500.0  "
      ]
     },
     "metadata": {},
     "output_type": "display_data"
    }
   ],
   "source": [
    "display.display(display.HTML(climahtml.getHTML_idanchor(s_ggroup_summary)))\n",
    "display.display(display.Markdown(climahtml.getMarkdown_sectitle(s_ggroup_summary)))\n",
    "display.display(spreadsheet(NG_REFS, P_REFS))"
   ]
  },
  {
   "cell_type": "code",
   "execution_count": 26,
   "metadata": {
    "collapsed": true,
    "scrolled": false
   },
   "outputs": [],
   "source": [
    "def load_d_bigsum():\n",
    "    \n",
    "    ng = 10\n",
    "    \n",
    "    fpath = os.path.join(crd.rundir, 'd_bigsum.dat')\n",
    "    df = pd.read_csv(fpath, sep=r'\\s+', index_col = [0, 1])\n",
    "\n",
    "    g_layers = [(1, 62), (2, 58)]\n",
    "    \n",
    "    writer = pd.ExcelWriter('_'.join(['d_bigsum_absgas',\n",
    "                                      'ng_{}'.format(ng)])\n",
    "                            + '.xlsx')\n",
    "    for g, layer in g_layers:\n",
    "        df.loc[(g, layer), :].to_excel(writer, \n",
    "                                       '({}, {})'.format(g, layer))\n",
    "        \n",
    "\n",
    "#load_d_bigsum()"
   ]
  },
  {
   "cell_type": "code",
   "execution_count": 27,
   "metadata": {},
   "outputs": [
    {
     "data": {
      "text/html": [
       "<script>\n",
       "code_show=true; \n",
       "function code_toggle() {\n",
       " if (code_show){\n",
       " $('div.input').hide();\n",
       " } else {\n",
       " $('div.input').show();\n",
       " }\n",
       " code_show = !code_show\n",
       "} \n",
       "$( document ).ready(code_toggle);\n",
       "</script>\n",
       "<form action=\"javascript:code_toggle()\"><input type=\"submit\" value=\"Click here to toggle on/off the raw code.\"></form>"
      ],
      "text/plain": [
       "<IPython.core.display.HTML object>"
      ]
     },
     "execution_count": 27,
     "metadata": {},
     "output_type": "execute_result"
    }
   ],
   "source": [
    "display.HTML('''<script>\n",
    "code_show=true; \n",
    "function code_toggle() {\n",
    " if (code_show){\n",
    " $('div.input').hide();\n",
    " } else {\n",
    " $('div.input').show();\n",
    " }\n",
    " code_show = !code_show\n",
    "} \n",
    "$( document ).ready(code_toggle);\n",
    "</script>\n",
    "<form action=\"javascript:code_toggle()\"><input type=\"submit\" value=\"Click here to toggle on/off the raw code.\"></form>''')\n"
   ]
  },
  {
   "cell_type": "code",
   "execution_count": 28,
   "metadata": {
    "collapsed": true
   },
   "outputs": [],
   "source": []
  }
 ],
 "metadata": {
  "kernelspec": {
   "display_name": "Python 3",
   "language": "python",
   "name": "python3"
  },
  "language_info": {
   "codemirror_mode": {
    "name": "ipython",
    "version": 3
   },
   "file_extension": ".py",
   "mimetype": "text/x-python",
   "name": "python",
   "nbconvert_exporter": "python",
   "pygments_lexer": "ipython3",
   "version": "3.6.1"
  }
 },
 "nbformat": 4,
 "nbformat_minor": 1
}
