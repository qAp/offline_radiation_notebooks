{
 "cells": [
  {
   "cell_type": "markdown",
   "metadata": {},
   "source": [
    "# Notes on lblnew.f\n",
    "In this version of the line-by-line code (or CRD model), the spectral points in the user-specified range are sorted into a number of g-groups, then the flux for each g-group is calculated in two different ways:\n",
    "1. the normal line-by-line method\n",
    "2. k-distribution method\n",
    "\n",
    "In the line-by-line method, effectively, flux is calculated at each spectral point and then added up for each g-group.  On the other hand, in the k-distribution method, absorption coefficient is averaged for each g-group; the flux is then calculated for each g-group using this mean absorption coefficient.  \n",
    "\n",
    "Both methods yield their own result: flux in each g-group.  The motivation is to compare the results from these two methods, with the line-by-line result taken as the benchmark.\n",
    "\n",
    "This is essentially a dissection of 'lblnew.f', and aims to document what is being calculated in detail."
   ]
  },
  {
   "cell_type": "markdown",
   "metadata": {},
   "source": [
    "Sections:\n",
    "\n",
    "* <a href=\"#Membership_function\">Membership function</a>  \n",
    "* <a href=\"#iband_$\\Delta\\nu$\">iband $\\Delta\\nu$</a>  \n",
    "* <a href=\"#Blackbody_radiation\">Blackbody radiation</a>   \n",
    "* <a href=\"#Line-by-line_Method\"> Line-by-line Method</a>  \n",
    "  * <a href=\"#Line-by-line_Method__Transmittance\">Transmittance</a>\n",
    "  * <a href=\"#Line-by-line_Method__Flux\">Flux</a>\n",
    "* <a href=\"#k-distribution_Method\">k-distribution Method</a>\n",
    "  * <a href=\"#k-distribution_Method__k-distribution_function\">k-distribution function</a>\n",
    "  * <a href=\"#k-distribution_Method__Mean_absorption_coefficient\">Mean absorption coefficient</a>\n",
    "  * <a href=\"#k-distribution_Method__Transmittance\">Transmittance</a>\n",
    "  * <a href=\"#k-distribution_Method__Planck's_radiation_intensity\">Planck's radiation intensity</a>\n",
    "  * <a href=\"#k-distribution_Method__Flux\">Flux</a>"
   ]
  },
  {
   "cell_type": "markdown",
   "metadata": {},
   "source": [
    "<a id=\"Membership_function\"></a>"
   ]
  },
  {
   "cell_type": "markdown",
   "metadata": {},
   "source": [
    "## Membership function\n",
    "\n",
    "Define the *membership*, $w$, to be:\n",
    "\n",
    "\\begin{equation}\n",
    "w[g, \\nu] = \n",
    "\\left \\{\n",
    "\\begin{array}{rl}\n",
    "1 & \\text{if } \\nu \\text{ in g-group } g \\\\\n",
    "0 & \\text{if } \\nu \\text{ not in g-group } g\n",
    "\\end{array}\n",
    "\\right . \\quad .\n",
    "\\end{equation}\n",
    "\n",
    "$\\nu$ is the wavenumber of a spectral point.  So, $w[g, \\nu]$ informs whether wavenumber $\\nu$ belongs to g-group $g$.\n",
    "\n",
    "Since each wavenumber can only belong to one g-group:\n",
    "\n",
    "\\begin{equation}\n",
    "\\sum_{g} w[g, \\nu] = 1 \\quad .\n",
    "\\end{equation}\n",
    "\n",
    "\n",
    "The total number of spectral points (or wavenumbers) is\n",
    "\n",
    "\\begin{equation}\n",
    "\\sum_{\\nu} \\sum_{g} w[g, \\nu] = \\sum_{\\nu} 1 \\quad .\n",
    "\\end{equation}"
   ]
  },
  {
   "cell_type": "markdown",
   "metadata": {},
   "source": [
    "<a id=\"iband_$\\Delta\\nu$\"></a>"
   ]
  },
  {
   "cell_type": "markdown",
   "metadata": {},
   "source": [
    "## iband $\\Delta\\nu$\n",
    "\n",
    "In the code the integration over the whole input spectral range is split up into small intervals, most often with a width of $1 \\: cm^{-1}$, each indexed by `iband`.  Let $\\Delta\\nu$ denote `iband` in the code.\n",
    "\n",
    "This implies that in the code `gk` is\n",
    "\n",
    "\\begin{equation}\n",
    "\\mathrm{gk}[g, \\Delta\\nu] = \\sum_{\\nu}^{\\Delta\\nu} w[g, \\nu]\n",
    "\\end{equation}\n",
    "\n",
    "It is the number of wavenumbers that belong to g-group $g$ in the iband $\\Delta\\nu$."
   ]
  },
  {
   "cell_type": "markdown",
   "metadata": {},
   "source": [
    "<a id=\"Blackbody_radiation\"></a>"
   ]
  },
  {
   "cell_type": "markdown",
   "metadata": {},
   "source": [
    "## Blackbody radiation\n",
    "\n",
    "The spectral intensity (spectral radiance integrated over wavenumbers) over iband $\\Delta\\nu$ is \n",
    "\n",
    "\\begin{equation}\n",
    "B[T, \\Delta\\nu] = 3.74\\times 10^{-5} (\\nu_{\\Delta\\nu})^3 \\cdot 0.001 \\Delta_{\\Delta\\nu} \\bigg/ \\biggl( \\exp{\\frac{1.4385 (\\nu_{\\Delta\\nu})}{T} - 1} \\biggr) \\quad ,\n",
    "\\end{equation}\n",
    "where $\\nu_{\\Delta\\nu}$ is the wavenumber at the centre of the iband $\\Delta\\nu$, and $\\Delta_{\\Delta\\nu}$ is the width of the iband.\n",
    "\n",
    "In the code, this is:\n",
    "\n",
    "```\n",
    "rsub(iband) = 3.74e-5_r8 *\n",
    "     &        vm * vm * vm / (exp(1.4385_r8 * vm / 250.0_r8) - 1._r8)\n",
    "     &        * vd * 0.001_r8\n",
    "```\n",
    "\n",
    "`rtotalband` is\n",
    "\n",
    "\\begin{equation}\n",
    "\\sum_{\\Delta\\nu} B[250K, \\Delta\\nu] \\bigg/ \\sum_{\\Delta\\nu} 1 \\quad .\n",
    "\\end{equation}"
   ]
  },
  {
   "cell_type": "markdown",
   "metadata": {},
   "source": [
    " <a id=\"Line-by-line_Method\"></a>"
   ]
  },
  {
   "cell_type": "markdown",
   "metadata": {},
   "source": [
    "## Line-by-line Method"
   ]
  },
  {
   "cell_type": "markdown",
   "metadata": {},
   "source": [
    "<a id=\"Line-by-line_Method__Transmittance\"></a>"
   ]
  },
  {
   "cell_type": "markdown",
   "metadata": {},
   "source": [
    "### Transmittance \n",
    "\n",
    "By taking narrow enough ibands, the calculation is akin enough to a line-by-line calculation, even if we average the transmittance over the iband first.  \n",
    "\n",
    "The optical depth at wavenumber $\\nu$ and layer $l$ is\n",
    "\n",
    "\\begin{equation}\n",
    "\\tau[\\nu, l] = k[\\nu, l] \\: \\omega[l] \\quad,\n",
    "\\end{equation}\n",
    "where $\\omega[l]$ is the absorber amount of layer $l$.\n",
    "\n",
    "The total optical depth between layers $l_{1}$ and $l_{2}$ is \n",
    "\n",
    "\\begin{equation}\n",
    "\\sum_{l'=l_1}^{l_2} \\tau[\\nu, l']\n",
    "\\end{equation}\n",
    "\n",
    "The transmittance associated with this optical depth (or `tku` returned by `transf()` in the code) is  \n",
    "\n",
    "\\begin{equation}\n",
    "e^{-\\sum_{l'=l_1}^{l_2} \\tau[\\nu, l']}\n",
    "\\end{equation}\n",
    "\n",
    "Now we average this over the iband $\\Delta\\nu$ for each g-group, giving (`trang` in the code):\n",
    "\n",
    "\\begin{equation}\n",
    "\\overline{T}[g, l_1, l_2, \\Delta\\nu] =  \\sum_{\\nu}^{\\Delta\\nu} w[g, \\nu] e^{-\\sum_{l'=l_1}^{l_2} \\tau[\\nu, l']} \n",
    "\\bigg/ \\sum_{\\nu}^{\\Delta\\nu} w[g, \\nu] \\quad .\n",
    "\\end{equation}\n",
    "\n",
    "Notice that the averaging is that of transmittances, rather than absorption coeficients.  And again, even though this is not at a single wavenumber $\\nu$, the small enough $\\Delta\\nu$ makes it close to a line-by-line claculation.\n",
    "\n",
    "\n",
    "\n",
    "\n"
   ]
  },
  {
   "cell_type": "markdown",
   "metadata": {},
   "source": [
    "<a id=\"Line-by-line_Method__Flux\"></a>"
   ]
  },
  {
   "cell_type": "markdown",
   "metadata": {},
   "source": [
    "### Flux\n",
    "\n",
    "For fluxes, the index $l$ denotes atmosphere level; $np$ is the number of atmosphere layers.\n",
    "\n",
    "We use the iband-averaged transmittance to calculate the fluxes as follows:\n",
    "\n",
    "\\begin{equation}\n",
    "F_{\\uparrow}[g, l, \\Delta\\nu] = \\left\\{\n",
    "\\begin{array}{lr}\n",
    "\\sum_{l'> l} \\bigl[ \\overline{T}[g, l, l', \\Delta\\nu] \\:\n",
    "\\bigl( B_{\\uparrow}[l'-1, \\Delta\\nu] - B_{\\uparrow}[l', \\Delta\\nu] \\bigr) \\bigr] - B_{\\uparrow}[l, \\Delta\\nu] \n",
    "& \\text{if } l = 1, 2, \\dots, np \\\\\n",
    "- B[l, \\Delta\\nu] &  \\text{if } l = np + 1\n",
    "\\end{array}\n",
    "\\right. \\quad .\n",
    "\\end{equation}\n",
    "\n",
    "\\begin{equation}\n",
    "F_{\\downarrow}[g, l, \\Delta\\nu] = \\left\\{\n",
    "\\begin{array}{lr}\n",
    "\\sum_{l'< l} \\bigl[ \\overline{T}[g, l, l', \\Delta\\nu] \\:\n",
    "\\bigl( B_{\\downarrow}[l'-1, \\Delta\\nu] - B_{\\downarrow}[l', \\Delta\\nu] \\bigr) \\bigr] + B_{\\downarrow}[l-1, \\Delta\\nu] \n",
    "& \\text{if } l = 2, 3, \\dots, np + 1 \\\\\n",
    "0 & \\text{if } l = 1\n",
    "\\end{array}\n",
    "\\right. \\quad .\n",
    "\\end{equation}\n",
    "\n",
    "$F_{\\uparrow}[g, l, \\Delta\\nu]$ and $F_{\\downarrow}[g, l, \\Delta\\nu]$ are `flu` and `fld` returned by `irflux()`, and \n",
    "$B_{\\uparrow}[l, \\Delta\\nu]$ and $B_{\\downarrow}[l, \\Delta\\nu]$ are `bu` and `bd` in `irflux()`; these are Planck's spectral intensities interpolated for upper and lower parts of atmosphere layers.\n",
    "\n",
    "These iband fluxes are then combined using a weighted sum as follows to give the total fluxes for each g-group:\n",
    "\n",
    "\\begin{equation}\n",
    "F_{\\uparrow\\downarrow}[g, l] = \\sum_{\\Delta\\nu} F_{\\uparrow\\downarrow}[g, l, \\Delta\\nu] \n",
    "\\biggl( \\sum_{\\nu}^{\\Delta\\nu} w[g, \\nu] \\bigg/ \\sum_{\\nu}^{\\Delta\\nu} 1 \\biggr) \\quad .\n",
    "\\end{equation}\n",
    "\n",
    "These are `flug` and `fldg` in the code, and are taken to be the fluxes in each g-group calculated using the *line-by-line* method, the most accurate.\n"
   ]
  },
  {
   "cell_type": "markdown",
   "metadata": {},
   "source": [
    "<a id=\"k-distribution_Method\"></a>"
   ]
  },
  {
   "cell_type": "markdown",
   "metadata": {},
   "source": [
    "## k-distribution Method"
   ]
  },
  {
   "cell_type": "markdown",
   "metadata": {},
   "source": [
    "<a id=\"k-distribution_Method__k-distribution_function\"></a>"
   ]
  },
  {
   "cell_type": "markdown",
   "metadata": {},
   "source": [
    "### k-distribution function\n",
    "\n",
    "Let $\\kappa$ denote the k-distribution function.  It is the proportion of spectral points belonging to g-group $g$:\n",
    "\n",
    "\\begin{equation}\n",
    "\\kappa[g] = \\sum_{\\nu} w[g,\\nu] \\bigg/ \\sum_{\\nu} 1 \\quad .\n",
    "\\end{equation}\n",
    "\n",
    "\n",
    "The Planck-weighted k-distribution function is:\n",
    "\n",
    "\\begin{equation}\n",
    "\\kappa_{planck}[g] = \\sum_{\\Delta\\nu} \n",
    "\\frac{\\sum_{\\nu}^{\\Delta\\nu} w[g,\\nu] \\: B[250 K, \\Delta\\nu]}\n",
    "{\\sum_{\\Delta\\nu} \\: B[250K, \\Delta\\nu]} \n",
    "\\frac{\\sum_{\\Delta\\nu} 1}{\\sum_{\\nu} 1} \\quad .\n",
    "\\end{equation}\n",
    "\n",
    "\n",
    "In the code, $\\kappa$ is denoted $\\mathrm{dg}$ while $\\kappa_{planck}$ is denoted $\\mathrm{dgs}$.  Note that $(\\sum_{\\Delta\\nu} 1)$ is the number of ibands."
   ]
  },
  {
   "cell_type": "markdown",
   "metadata": {},
   "source": [
    "<a id=\"k-distribution_Method__Mean_absorption_coefficient\"></a>"
   ]
  },
  {
   "cell_type": "markdown",
   "metadata": {
    "collapsed": true
   },
   "source": [
    "### Mean absorption coefficient\n",
    "The absorption coefficient is a function of wavenumber, pressure and temperature.  Since each layer of the atmosphere has its pressure and temperature, we often denote the absorption coefficient by $k[\\nu, l]$.  By taking a linear average, the mean absorption coefficient over g-group $g$ is\n",
    "\n",
    "\\begin{equation}\n",
    "\\overline{k}[g, l] = \\sum_{\\nu} w[g, k] k[\\nu, l] \\bigg/ \\sum_{\\nu} w[g, \\nu]    \\quad .\n",
    "\\end{equation}\n",
    "\n",
    "This is equivalent to what is computed in the code:\n",
    "\n",
    "\\begin{equation} \n",
    "\\mathrm{absmean}[g, l] = \\frac{\\sum_{\\Delta\\nu} \\mathrm{gk}[g, \\Delta\\nu] \n",
    "\\: k[\\nu, l]}\n",
    "{\\mathrm{dg}[g] \\sum_{\\nu} 1} \\quad .\n",
    "\\end{equation}"
   ]
  },
  {
   "cell_type": "markdown",
   "metadata": {},
   "source": [
    "<a id=\"k-distribution_Method__Transmittance\"></a>"
   ]
  },
  {
   "cell_type": "markdown",
   "metadata": {},
   "source": [
    "### Transmittance\n",
    "Starting from the mean $k$ over all spectral points, $\\overline{k}[g, l]$, we can proceed in a similar fashion to calculate the fluxes, the main difference being that there is no wavenumber-dependence from this point onwards (from the mean $k$) in the calculation.\n",
    "\n",
    "The transmittance is now\n",
    "\\begin{equation}\n",
    "\\overline{T}[g, l_1, l_2] = \n",
    "e^{-\\sum_{l'=l_1}^{l_2} \\overline{k}[g, l'] \\: \\omega[l']}  \\quad .\n",
    "\\end{equation}\n",
    "\n",
    "This is `tku`, or `tran[l1,l2]`, in the code."
   ]
  },
  {
   "cell_type": "markdown",
   "metadata": {},
   "source": [
    "<a id=\"k-distribution_Method__Planck's_radiation_intensity\"></a>"
   ]
  },
  {
   "cell_type": "markdown",
   "metadata": {},
   "source": [
    "### Planck's radiation intensity\n",
    "\n",
    "In the k-distribution method, the Planck's radiation intensity for the entire range spanned all the spectral points is used:\n",
    "\n",
    "\\begin{equation}\n",
    "Z[l]  = \\sum_{\\Delta\\nu} B[l, \\Delta\\nu] \\quad .\n",
    "\\end{equation}"
   ]
  },
  {
   "cell_type": "markdown",
   "metadata": {},
   "source": [
    "<a id=\"k-distribution_Method__Flux\"></a>"
   ]
  },
  {
   "cell_type": "markdown",
   "metadata": {},
   "source": [
    "### Flux\n",
    "The form of expression for the fluxes is same as before, except now the terms are for the entire spectral range and not for a small spectral range iband.\n",
    "\n",
    "\\begin{equation}\n",
    "F_{\\uparrow}[g, l] = \\left\\{\n",
    "\\begin{array}{lr}\n",
    "\\sum_{l'> l} \\bigl[ \\overline{T}[g, l, l'] \\:\n",
    "\\bigl( B_{\\uparrow}[l'-1] - B_{\\uparrow}[l'] \\bigr) \\bigr] - B_{\\uparrow}[l] \n",
    "& \\text{if } l = 1, 2, \\dots, np \\\\\n",
    "- B[l] &  \\text{if } l = np + 1\n",
    "\\end{array}\n",
    "\\right. \\quad .\n",
    "\\end{equation}\n",
    "\n",
    "\\begin{equation}\n",
    "F_{\\downarrow}[g, l] = \\left\\{\n",
    "\\begin{array}{lr}\n",
    "\\sum_{l'< l} \\bigl[ \\overline{T}[g, l, l'] \\:\n",
    "\\bigl( B_{\\downarrow}[l'-1] - B_{\\downarrow}[l'] \\bigr) \\bigr] + B_{\\downarrow}[l-1] \n",
    "& \\text{if } l = 2, 3, \\dots, np + 1 \\\\\n",
    "0 & \\text{if } l = 1\n",
    "\\end{array}\n",
    "\\right. \\quad .\n",
    "\\end{equation}\n",
    "\n",
    "$B_{\\uparrow}[l]$ and $B_{\\downarrow}[l]$ are `bu` and `bd` in `irflux()`; these are Planck's spectral intensities, $Z[l]$, interpolated for upper and lower parts of atmosphere layers\n",
    "\n",
    "The final fluxes are scaled by the Planck-weighted k-distribution function\n",
    "\n",
    "\\begin{equation}\n",
    "F_{\\uparrow\\downarrow}[g, l] = F_{\\uparrow\\downarrow}[g, l] \\cdot \\kappa_{planck}[g]\n",
    "\\end{equation}"
   ]
  },
  {
   "cell_type": "code",
   "execution_count": null,
   "metadata": {
    "collapsed": true
   },
   "outputs": [],
   "source": []
  },
  {
   "cell_type": "code",
   "execution_count": null,
   "metadata": {
    "collapsed": true
   },
   "outputs": [],
   "source": []
  },
  {
   "cell_type": "code",
   "execution_count": null,
   "metadata": {
    "collapsed": true
   },
   "outputs": [],
   "source": []
  },
  {
   "cell_type": "code",
   "execution_count": null,
   "metadata": {
    "collapsed": true
   },
   "outputs": [],
   "source": []
  },
  {
   "cell_type": "code",
   "execution_count": null,
   "metadata": {
    "collapsed": true
   },
   "outputs": [],
   "source": []
  },
  {
   "cell_type": "code",
   "execution_count": null,
   "metadata": {
    "collapsed": true
   },
   "outputs": [],
   "source": []
  },
  {
   "cell_type": "code",
   "execution_count": null,
   "metadata": {
    "collapsed": true
   },
   "outputs": [],
   "source": []
  },
  {
   "cell_type": "code",
   "execution_count": null,
   "metadata": {
    "collapsed": true
   },
   "outputs": [],
   "source": []
  },
  {
   "cell_type": "code",
   "execution_count": null,
   "metadata": {
    "collapsed": true
   },
   "outputs": [],
   "source": []
  }
 ],
 "metadata": {
  "kernelspec": {
   "display_name": "Python 3",
   "language": "python",
   "name": "python3"
  },
  "language_info": {
   "codemirror_mode": {
    "name": "ipython",
    "version": 3
   },
   "file_extension": ".py",
   "mimetype": "text/x-python",
   "name": "python",
   "nbconvert_exporter": "python",
   "pygments_lexer": "ipython3",
   "version": "3.4.4"
  }
 },
 "nbformat": 4,
 "nbformat_minor": 0
}
