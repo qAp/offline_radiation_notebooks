{
 "cells": [
  {
   "cell_type": "code",
   "execution_count": 24,
   "metadata": {},
   "outputs": [
    {
     "data": {
      "text/plain": [
       "<module 'climatools.lblnew.setup_bestfit' from '/chia_cluster/home/jackyu/climatools/climatools/lblnew/setup_bestfit.py'>"
      ]
     },
     "execution_count": 24,
     "metadata": {},
     "output_type": "execute_result"
    }
   ],
   "source": [
    "import os\n",
    "import itertools\n",
    "\n",
    "import pandas as pd\n",
    "import xarray as xr\n",
    "\n",
    "import climatools.lblnew.pipeline as pipeline\n",
    "import climatools.lblnew.setup_bestfit as setup_bestfit\n",
    "import climatools.lblnew.bestfit_params as bestfit\n",
    "\n",
    "import importlib\n",
    "importlib.reload(setup_bestfit)"
   ]
  },
  {
   "cell_type": "code",
   "execution_count": 25,
   "metadata": {
    "collapsed": true
   },
   "outputs": [],
   "source": [
    "def define_param():\n",
    "    '''\n",
    "    Define a particular lblnew best-fit run.\n",
    "    '''\n",
    "    molecule = 'h2o'\n",
    "    band = '1'\n",
    "    dv = .005\n",
    "    nv = 200\n",
    "    commitnumber = '9d81085'\n",
    "    \n",
    "    atmpro = 'mls'\n",
    "    tsfc = 294\n",
    "    \n",
    "    param = bestfit.kdist_params(molecule='h2o', band='1')\n",
    "    param['molecule'] = molecule\n",
    "    param['band'] = band\n",
    "    param['dv'] = dv\n",
    "    param['nv'] = nv\n",
    "    param['commitnumber'] = commitnumber\n",
    "    param['atmpro'] = atmpro\n",
    "    param['tsfc'] = tsfc\n",
    "    return param\n",
    "\n",
    "\n",
    "\n",
    "def fpath(param):\n",
    "    path = os.path.join(pipeline.get_dir_case(param, \n",
    "                                               setup=setup_bestfit),\n",
    "                         'dgdgs.dat')\n",
    "    return path\n",
    "\n",
    "\n",
    "\n",
    "def load_dgdgs(path):\n",
    "    df = pd.read_csv(path, sep=r'\\s+')\n",
    "\n",
    "    df = df.set_index('g')    \n",
    "    return df\n",
    "\n",
    "\n",
    "\n",
    "def into_chunks(l, chunksize):\n",
    "    return itertools.zip_longest(*(chunksize * [iter(l)]))\n",
    "\n",
    "\n",
    "\n",
    "def vector_to_F77list(array, num_values_per_line=4):\n",
    "    '''\n",
    "    '''\n",
    "    strfmt = '{:15.6e}'\n",
    "    \n",
    "    chunks = into_chunks(array, num_values_per_line)\n",
    "    \n",
    "    chunks = list(chunks)\n",
    "    \n",
    "    lines = []\n",
    "    for chunk in chunks[:-1]:\n",
    "        vs = [strfmt.format(v) for v in chunk if v != None]\n",
    "        line = ','.join(vs)\n",
    "        line = line + ','\n",
    "        lines.append(line)\n",
    "        \n",
    "    vs = [strfmt.format(v) for v in chunks[-1] if v != None]\n",
    "    line = ','.join(vs)\n",
    "    lines.append(line)\n",
    "    \n",
    "    return lines\n",
    "\n",
    "\n",
    "\n",
    "def dgdgs_to_F77(dgdgs):\n",
    "    lines = vector_to_F77list(dgdgs, num_values_per_line=3)\n",
    "    \n",
    "    rlines = []\n",
    "    rlines.append(5 * ' ' + '&/' + lines[0])\n",
    "    for line in lines[1:-1]:\n",
    "        rlines.append(5 * ' ' + '&' + line)\n",
    "    rlines.append(5 * ' ' + '&' + lines[-1] + '/')\n",
    "    \n",
    "    fortran = '\\n'.join(rlines)\n",
    "    return fortran\n",
    "\n",
    "\n",
    "def script():\n",
    "    dgdgs = load_dgdgs(fpath(define_param()))\n",
    "    return dgdgs_to_F77(dgdgs['dgs'])"
   ]
  },
  {
   "cell_type": "code",
   "execution_count": 26,
   "metadata": {},
   "outputs": [
    {
     "name": "stdout",
     "output_type": "stream",
     "text": [
      "     &/   2.470455e-04,   5.019937e-04,   1.207687e-03,\n",
      "     &   2.843600e-03,   9.518264e-03,   2.234796e-02,\n",
      "     &   7.766095e-02,   2.223594e-01,   3.632112e-01,\n",
      "     &   3.001019e-01/\n"
     ]
    }
   ],
   "source": [
    "\n",
    "print(script())\n"
   ]
  },
  {
   "cell_type": "code",
   "execution_count": null,
   "metadata": {
    "collapsed": true
   },
   "outputs": [],
   "source": []
  }
 ],
 "metadata": {
  "kernelspec": {
   "display_name": "Python 3",
   "language": "python",
   "name": "python3"
  },
  "language_info": {
   "codemirror_mode": {
    "name": "ipython",
    "version": 3
   },
   "file_extension": ".py",
   "mimetype": "text/x-python",
   "name": "python",
   "nbconvert_exporter": "python",
   "pygments_lexer": "ipython3",
   "version": "3.6.1"
  }
 },
 "nbformat": 4,
 "nbformat_minor": 2
}
