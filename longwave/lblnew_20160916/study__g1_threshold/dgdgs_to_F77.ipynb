{
 "cells": [
  {
   "cell_type": "code",
   "execution_count": 1,
   "metadata": {},
   "outputs": [
    {
     "data": {
      "text/plain": [
       "<module 'climatools.lblnew.setup_bestfit' from '/chia_cluster/home/jackyu/climatools/climatools/lblnew/setup_bestfit.py'>"
      ]
     },
     "execution_count": 1,
     "metadata": {},
     "output_type": "execute_result"
    }
   ],
   "source": [
    "import os\n",
    "import itertools\n",
    "\n",
    "import pandas as pd\n",
    "import xarray as xr\n",
    "\n",
    "import climatools.lblnew.pipeline as pipeline\n",
    "import climatools.lblnew.setup_bestfit as setup_bestfit\n",
    "import climatools.lblnew.bestfit_params as bestfit\n",
    "\n",
    "import importlib\n",
    "importlib.reload(setup_bestfit)"
   ]
  },
  {
   "cell_type": "code",
   "execution_count": 6,
   "metadata": {
    "collapsed": true
   },
   "outputs": [],
   "source": [
    "def define_param():\n",
    "    '''\n",
    "    Define a particular lblnew best-fit run.\n",
    "    '''    \n",
    "    molecule = 'co2'\n",
    "    band = '3a'\n",
    "\n",
    "    dv = 0.001\n",
    "    nv = 1000\n",
    "\n",
    "    ref_pts = [(1, 250), (10, 250), (500, 250)]\n",
    "    ng_refs = [3, 2, 4]\n",
    "    ng_adju = [0, 0]\n",
    "    klin = 6.375563e-24\n",
    "    option_wgt_k = 1\n",
    "    wgt = [(.7, .3, .7), \n",
    "           (.7, .6), \n",
    "           (.4, .5, .8, .95)]\n",
    "\n",
    "    option_wgt_flux = 2\n",
    "    w_diffuse = [(1.6, 1.6, 1.7), \n",
    "                 (1.75, 1.75), \n",
    "                 (1.55, 1.65, 1.6, 1.85)]\n",
    "    \n",
    "    option_compute_ktable = 0\n",
    "    option_compute_btable = 0\n",
    "    \n",
    "    atmpro = 'mls'\n",
    "    tsfc = 294\n",
    "    \n",
    "    commitnumber = '1996322'    \n",
    "\n",
    "    param = dict(molecule=molecule,\n",
    "                 band=band, \n",
    "                 dv=dv, nv=nv,\n",
    "                 ref_pts=ref_pts, ng_refs=ng_refs, ng_adju=ng_adju,\n",
    "                 klin=klin, option_wgt_k=option_wgt_k, wgt=wgt,\n",
    "                 option_wgt_flux=option_wgt_flux, w_diffuse=w_diffuse,\n",
    "                 option_compute_ktable=option_compute_ktable,\n",
    "                 option_compute_btable=option_compute_btable,\n",
    "                 atmpro=atmpro, tsfc=tsfc,\n",
    "                 commitnumber=commitnumber)\n",
    "  \n",
    "    return param\n",
    "\n",
    "\n",
    "\n",
    "def fpath(param):\n",
    "    path = os.path.join(pipeline.get_dir_case(param, \n",
    "                                               setup=setup_bestfit),\n",
    "                         'dgdgs.dat')\n",
    "    return path\n",
    "\n",
    "\n",
    "\n",
    "def load_dgdgs(path):\n",
    "    path = '/chia_cluster/home/jackyu/radiation/crd/LW/examples/separate_g_groups/study__lblnew_g1_threshold/co2/band03a_wn_540_620/nv_1000/dv_0.001/ng_9/g_ascending_k_descending/refPTs_P_1_T_250__P_10_T_250__P_500_T_250/ng_refs_3__2__4/ng_adju_0__0/getabsth_auto__auto__auto/absth_dlogN_uniform__dlogN_uniform__dlogN_uniform/klin_6.375563e-24/atmpro_mls/wgt_k_1/wgt_0.7_0.3_0.7__0.7_0.6__0.4_0.5_0.8_0.95/wgt_flux_2/w_diffuse_1.6_1.6_1.7__1.75_1.75__1.55_1.65_1.6_1.85/option_compute_ktable_0/crd_1996322/dgdgs.dat'\n",
    "    df = pd.read_csv(path, sep=r'\\s+')\n",
    "\n",
    "    df = df.set_index('g')    \n",
    "    return df\n",
    "\n",
    "\n",
    "\n",
    "def into_chunks(l, chunksize):\n",
    "    return itertools.zip_longest(*(chunksize * [iter(l)]))\n",
    "\n",
    "\n",
    "\n",
    "def vector_to_F77list(array, num_values_per_line=4):\n",
    "    '''\n",
    "    '''\n",
    "    strfmt = '{:15.6e}'\n",
    "    \n",
    "    chunks = into_chunks(array, num_values_per_line)\n",
    "    \n",
    "    chunks = list(chunks)\n",
    "    \n",
    "    lines = []\n",
    "    for chunk in chunks[:-1]:\n",
    "        vs = [strfmt.format(v) for v in chunk if v != None]\n",
    "        line = ','.join(vs)\n",
    "        line = line + ','\n",
    "        lines.append(line)\n",
    "        \n",
    "    vs = [strfmt.format(v) for v in chunks[-1] if v != None]\n",
    "    line = ','.join(vs)\n",
    "    lines.append(line)\n",
    "    \n",
    "    return lines\n",
    "\n",
    "\n",
    "\n",
    "def dgdgs_to_F77(dgdgs):\n",
    "    lines = vector_to_F77list(dgdgs, num_values_per_line=3)\n",
    "    \n",
    "    rlines = []\n",
    "    rlines.append(5 * ' ' + '&/' + lines[0])\n",
    "    for line in lines[1:-1]:\n",
    "        rlines.append(5 * ' ' + '&' + line)\n",
    "    rlines.append(5 * ' ' + '&' + lines[-1] + '/')\n",
    "    \n",
    "    fortran = '\\n'.join(rlines)\n",
    "    return fortran\n",
    "\n",
    "\n",
    "def script():\n",
    "    dgdgs = load_dgdgs(fpath(define_param()))\n",
    "    return dgdgs_to_F77(dgdgs['dgs'])"
   ]
  },
  {
   "cell_type": "code",
   "execution_count": 7,
   "metadata": {},
   "outputs": [
    {
     "name": "stdout",
     "output_type": "stream",
     "text": [
      "     &/   7.177335e-04,   1.596256e-03,   7.011057e-03,\n",
      "     &   1.205621e-02,   4.641767e-02,   6.328772e-02,\n",
      "     &   2.638414e-01,   2.288560e-01,   3.762160e-01/\n"
     ]
    }
   ],
   "source": [
    "\n",
    "print(script())\n"
   ]
  },
  {
   "cell_type": "code",
   "execution_count": null,
   "metadata": {
    "collapsed": true
   },
   "outputs": [],
   "source": []
  }
 ],
 "metadata": {
  "kernelspec": {
   "display_name": "Python 3",
   "language": "python",
   "name": "python3"
  },
  "language_info": {
   "codemirror_mode": {
    "name": "ipython",
    "version": 3
   },
   "file_extension": ".py",
   "mimetype": "text/x-python",
   "name": "python",
   "nbconvert_exporter": "python",
   "pygments_lexer": "ipython3",
   "version": "3.6.1"
  }
 },
 "nbformat": 4,
 "nbformat_minor": 2
}
