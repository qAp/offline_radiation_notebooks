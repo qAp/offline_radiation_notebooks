{
 "cells": [
  {
   "cell_type": "code",
   "execution_count": 11,
   "metadata": {
    "collapsed": true
   },
   "outputs": [],
   "source": [
    "from IPython import display"
   ]
  },
  {
   "cell_type": "markdown",
   "metadata": {},
   "source": [
    "## Notations\n",
    "\n",
    "$\\nu$ denotes wavenumber.  \n",
    "\n",
    "$l$ denotes either atmospheric layer or level, depending on the context.  For example, for a variable like temperature, $l$ denotes layer; for a variable like flux, it denotes level. $l$ is also implicitly a function of temperature and pressure, $l(p, t)$, because there is a pressure and temperature at each altitude.  \n",
    "\n",
    "$t$ denotes temperature.\n",
    "\n",
    "$p$ denotes pressure.\n",
    "\n",
    "$T$ denotes *radiance* transmittance.\n",
    "\n",
    "$\\mathcal{T}$ denotes *flux* transmittance."
   ]
  },
  {
   "cell_type": "markdown",
   "metadata": {},
   "source": [
    "## Basics\n",
    "\n",
    "\n",
    "For a given gas, the absorption coefficient is a function of wavenumber, temperature and pressure:\n",
    "\n",
    "$$\n",
    "k(\\nu, p, t) \\quad .\n",
    "$$\n",
    "\n",
    "The optical depth is the product of aborption coefficient and absorber amount $\\omega$:\n",
    "\n",
    "$$\n",
    "\\tau(\\nu, p, t, \\omega) = k(\\nu, p, t) \\: \\omega \\quad.\n",
    "$$\n",
    "\n",
    "The fraction of radiance that gets through an optical depth of $\\tau$ is described by the radiance transmittance:\n",
    "\n",
    "$$\n",
    "T(\\nu, p, t, \\omega) = e^{ - \\tau(\\nu, p, \\omega) }\n",
    "$$\n",
    "\n",
    "The above assumes that the radiation passes perpendicular through the optical depth.  In general, the radiance transmittance for a beam that goes through the optical depth at an angle of $\\theta$ is:\n",
    "\n",
    "$$\n",
    "T(\\nu, p, t, \\omega, \\mu) = e^{ - \\tau(\\nu, p, \\omega) / \\mu} \\quad,\n",
    "$$\n",
    "where $\\mu = \\cos\\theta$\n",
    "\n",
    "Integrating the radiance transmittance over all solid angles gives us the flux transmittance:\n",
    "\n",
    "$$\n",
    "\\mathcal{T}(\\nu, p, t, \\omega) = \\int d\\mu \\: \\mu \\: T(\\nu, p, t, \\omega, \\mu)\n",
    "$$"
   ]
  },
  {
   "cell_type": "markdown",
   "metadata": {},
   "source": [
    "## Line-by-line \n",
    "\n",
    "\n",
    "Consider an atmosphere with one type of gas.  Each layer or level has a pressure $p$ and a temperature $t$.  So, \n",
    "\n",
    "$$\n",
    "l = l(p, t) \\quad .\n",
    "$$  \n",
    "\n",
    "Different layers also have different amounts of the gas, so\n",
    "\n",
    "$$\n",
    "\\omega = \\omega(l) \\quad .\n",
    "$$\n",
    "\n",
    "Using the above expressions, the absorption coefficient of an atmosphere layer is:\n",
    "\n",
    "$$\n",
    "k(\\nu, l)  \\quad ,\n",
    "$$\n",
    "\n",
    "and the optical depth of the layer is:\n",
    "\n",
    "$$\n",
    "\\tau(\\nu, l) = k(\\nu, l) \\: \\omega(l) \\quad .\n",
    "$$\n",
    "\n",
    "The radiance transmittance through the layer at direction $\\mu$ is:\n",
    "\n",
    "$$\n",
    "e^{-\\tau(\\nu, l) / \\mu}\n",
    "$$\n",
    "\n",
    "To get the radiance transmittance through multiple layers in the atmosphere, we imagine that these multiple layers effectively form a thick layer and that the optical depth of this thick layer is the sum of the optical depths of the layers within it.  The radiance transmittance between layers $l$ and $l'$ is therefore:\n",
    "\n",
    "$$\n",
    "T(\\nu, l, l', \\mu) = exp{\\left( - \\frac{1}{\\mu} \n",
    "\\sum_{l'' = l}^{l'} \\tau(\\nu, l'') \\right)}\n",
    "$$\n",
    "\n",
    "Integrating over all solid angle gives the *flux* transmittance:\n",
    "\n",
    "$$\n",
    "\\mathcal{T}(\\nu, l, l') = \\int d\\mu \\: \\mu \\; exp{\\left( - \\frac{1}{\\mu} \n",
    "\\sum_{l'' = l}^{l'} \\tau(\\nu, l'') \\right)}\n",
    "$$\n",
    "\n",
    "\n",
    "Using the flux transmittance and the Planck radiation from each atmosphere layer, $B(\\nu, l)$, the upward and downward fluxes at each atmosphere level can be calculated, using something like:\n",
    "\n",
    "$$\n",
    "\\begin{align}\n",
    "F_{\\downarrow}(\\nu, l) & = \\sum_{l' = 1}^{l} f(\\nu, l', l) \\\\\n",
    "F_{\\uparrow}(\\nu, l) & = \\sum_{l' = l}^{N_{l}} f(\\nu, l', l) \\quad.\n",
    "\\end{align}\n",
    "$$\n",
    "\n",
    "$f(\\nu, l', l)$ is the flux that is emitted from level $l'$ and received at level $l$, so from the above equations, it can be seen that, for example, the downward flux at some level $l$ is the sum of fluxes arriving from all levels above it in the atmosphere. \n",
    "\n",
    "$f(\\nu, l', l)$ can be expressed as something like the following:\n",
    "\n",
    "$$\n",
    "\\begin{align}\n",
    "f(\\nu, l', l) & = \\left[\\: B(\\nu, l' - 1) - B(\\nu, l') \\:\\right] \\mathcal{T}(\\nu, l, l') \\\\\n",
    "& = B(\\nu, l') \\left( 1 - e^{-\\tau(\\nu, l')} \\right) \n",
    "\\left[ \\mathcal{T}(\\nu, l' + 1, l) - \\mathcal{T}(\\nu, l', l) \\right]\n",
    "\\end{align} \\quad .\n",
    "$$\n",
    "\n",
    "The flux transmittance regulates how much flux gets through traversing the optical path.\n",
    "\n",
    "\n",
    "To get the flux in each g-interval, we group the wavenumbers by g-interval, and add up the fluxes:\n",
    "\n",
    "$$\n",
    "\\begin{align}\n",
    "\\mathcal{F}_{\\downarrow}(g, l) & = \\sum_{\\nu} m(g, \\nu) F_{\\downarrow}(\\nu, l) \\\\\n",
    "\\mathcal{F}_{\\uparrow}(g, l) & = \\sum_{\\nu} m(g, \\nu) F_{\\uparrow}(\\nu, l)\n",
    "\\end{align}\n",
    "$$\n",
    "\n",
    "\n",
    "### Multiple absorbers\n",
    "\n",
    "When there are more than one gas in the atmosphere, the above changes as follows.  "
   ]
  },
  {
   "cell_type": "markdown",
   "metadata": {},
   "source": [
    "## K-distribution\n",
    "\n",
    "### Partition function\n",
    "\n",
    "$m_{s}(g, \\nu)$\n",
    "\n",
    "### Radiative transfer calculation"
   ]
  },
  {
   "cell_type": "code",
   "execution_count": 26,
   "metadata": {},
   "outputs": [
    {
     "data": {
      "text/html": [
       "<script>\n",
       "code_show=true; \n",
       "function code_toggle() {\n",
       " if (code_show){\n",
       " $('div.input').hide();\n",
       " } else {\n",
       " $('div.input').show();\n",
       " }\n",
       " code_show = !code_show\n",
       "} \n",
       "$( document ).ready(code_toggle);\n",
       "</script>\n",
       "<form action=\"javascript:code_toggle()\"><input type=\"submit\" value=\"Click here to toggle on/off the raw code.\"></form>"
      ],
      "text/plain": [
       "<IPython.core.display.HTML object>"
      ]
     },
     "execution_count": 26,
     "metadata": {},
     "output_type": "execute_result"
    }
   ],
   "source": [
    "display.HTML('''<script>\n",
    "code_show=true; \n",
    "function code_toggle() {\n",
    " if (code_show){\n",
    " $('div.input').hide();\n",
    " } else {\n",
    " $('div.input').show();\n",
    " }\n",
    " code_show = !code_show\n",
    "} \n",
    "$( document ).ready(code_toggle);\n",
    "</script>\n",
    "<form action=\"javascript:code_toggle()\"><input type=\"submit\" value=\"Click here to toggle on/off the raw code.\"></form>''')"
   ]
  },
  {
   "cell_type": "code",
   "execution_count": null,
   "metadata": {
    "collapsed": true
   },
   "outputs": [],
   "source": []
  }
 ],
 "metadata": {
  "kernelspec": {
   "display_name": "Python 3",
   "language": "python",
   "name": "python3"
  },
  "language_info": {
   "codemirror_mode": {
    "name": "ipython",
    "version": 3
   },
   "file_extension": ".py",
   "mimetype": "text/x-python",
   "name": "python",
   "nbconvert_exporter": "python",
   "pygments_lexer": "ipython3",
   "version": "3.6.1"
  }
 },
 "nbformat": 4,
 "nbformat_minor": 2
}
