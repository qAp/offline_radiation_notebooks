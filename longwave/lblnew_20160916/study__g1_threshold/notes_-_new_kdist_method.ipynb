{
 "cells": [
  {
   "cell_type": "markdown",
   "metadata": {
    "heading_collapsed": true
   },
   "source": [
    "# Notations"
   ]
  },
  {
   "cell_type": "markdown",
   "metadata": {
    "hidden": true
   },
   "source": [
    "$\\nu$ denotes wavenumber.  \n",
    "\n",
    "$l$ denotes either atmospheric layer or level, depending on the context.  For example, for a variable like temperature, $l$ denotes layer; for a variable like flux, it denotes level. $l$ is also implicitly a function of temperature and pressure, $l(p, t)$, because there is a pressure and temperature at each altitude.  \n",
    "\n",
    "$t$ denotes temperature.\n",
    "\n",
    "$p$ denotes pressure.\n",
    "\n",
    "$T$ denotes *radiance* transmittance.\n",
    "\n",
    "$\\mathcal{T}$ denotes *flux* transmittance."
   ]
  },
  {
   "cell_type": "markdown",
   "metadata": {
    "heading_collapsed": true
   },
   "source": [
    "# Basics"
   ]
  },
  {
   "cell_type": "markdown",
   "metadata": {
    "hidden": true
   },
   "source": [
    "For a given gas, the absorption coefficient is a function of wavenumber, temperature and pressure:\n",
    "\n",
    "$$\n",
    "k(\\nu, p, t) \\quad . \\tag{b:1}\n",
    "$$\n",
    "\n",
    "The optical depth is the product of aborption coefficient and absorber amount $\\omega$:\n",
    "\n",
    "$$\n",
    "\\tau(\\nu, p, t, \\omega) = k(\\nu, p, t) \\: \\omega \\quad.  \\tag{b:2}\n",
    "$$\n",
    "\n",
    "The fraction of radiance that gets through an optical depth of $\\tau$ is described by the radiance transmittance:\n",
    "\n",
    "$$\n",
    "T(\\nu, p, t, \\omega) = e^{ - \\tau(\\nu, p, \\omega) } \\tag{b:3}\n",
    "$$\n",
    "\n",
    "The above assumes that the radiation passes perpendicular through the optical depth.  In general, the radiance transmittance for a beam that goes through the optical depth at an angle of $\\theta$ is:\n",
    "\n",
    "$$\n",
    "T(\\nu, p, t, \\omega, \\mu) = e^{ - \\tau(\\nu, p, \\omega) / \\mu} \\quad, \\tag{b:4}\n",
    "$$\n",
    "where $\\mu = \\cos\\theta$\n",
    "\n",
    "Integrating the radiance transmittance over all solid angles gives us the flux transmittance:\n",
    "\n",
    "$$\n",
    "\\mathcal{T}(\\nu, p, t, \\omega) = \\int d\\mu \\: \\mu \\: T(\\nu, p, t, \\omega, \\mu) \\tag{b:5}\n",
    "$$"
   ]
  },
  {
   "cell_type": "markdown",
   "metadata": {},
   "source": [
    "# Line-by-line \n"
   ]
  },
  {
   "cell_type": "markdown",
   "metadata": {
    "heading_collapsed": true
   },
   "source": [
    "### Single absorber"
   ]
  },
  {
   "cell_type": "markdown",
   "metadata": {
    "hidden": true
   },
   "source": [
    "\n",
    "Consider an atmosphere with one type of gas.  Each layer, or level, $l$ has a pressure $p$ and a temperature $t$.  So, \n",
    "\n",
    "$$\n",
    "l = l(p, t) \\quad . \\tag{lbl:1}\n",
    "$$  \n",
    "\n",
    "Different layers also have different amounts of the gas, so\n",
    "\n",
    "$$\n",
    "\\omega = \\omega(l) \\quad . \\tag{lbl:2}\n",
    "$$\n",
    "\n",
    "Using the above expressions, the absorption coefficient of an atmosphere layer is:\n",
    "\n",
    "$$\n",
    "k(\\nu, l)  \\quad , \\tag{lbl:3}\n",
    "$$\n",
    "\n",
    "and the optical depth of the layer is:\n",
    "\n",
    "$$\n",
    "\\tau(\\nu, l) = k(\\nu, l) \\: \\omega(l) \\quad .  \\tag{lbl:4}\n",
    "$$\n",
    "\n",
    "The radiance transmittance through the layer at direction $\\mu$ is:\n",
    "\n",
    "$$\n",
    "e^{-\\tau(\\nu, l) / \\mu}  \\tag{lbl:5}\n",
    "$$\n",
    "\n",
    "To get the radiance transmittance through multiple layers in the atmosphere, we imagine that these multiple layers effectively form a thick layer and that the optical depth of this thick layer is the sum of the optical depths of the layers within it.  The radiance transmittance between layers $l$ and $l'$ is therefore:\n",
    "\n",
    "$$\n",
    "T(\\nu, l, l', \\mu) = exp{\\left( - \\frac{1}{\\mu} \n",
    "\\sum_{l'' = l}^{l'} \\tau(\\nu, l'') \\right)}   \\tag{lbl:6}\n",
    "$$\n",
    "\n",
    "Integrating over all solid angles gives the *flux* transmittance:\n",
    "\n",
    "$$\n",
    "\\mathcal{T}(\\nu, l, l') = \\int d\\mu \\: \\mu \\; exp{\\left( - \\frac{1}{\\mu} \n",
    "\\sum_{l'' = l}^{l'} \\tau(\\nu, l'') \\right)} \\tag{lbl:7}\n",
    "$$\n",
    "\n",
    "\n",
    "Using the flux transmittance and the Planck radiation from each atmosphere layer, $B(\\nu, l)$, the upward and downward fluxes at each atmosphere level can be calculated, using something like:\n",
    "\n",
    "$$\n",
    "\\begin{align}\n",
    "F_{\\downarrow}(\\nu, l) & = \\sum_{l' = 1}^{l} f(\\nu, l', l) \\tag{lbl:8} \\\\\n",
    "F_{\\uparrow}(\\nu, l) & = \\sum_{l' = l}^{N_{l}} f(\\nu, l', l) \\quad. \\tag{lbl:9}\n",
    "\\end{align}\n",
    "$$\n",
    "\n",
    "$f(\\nu, l', l)$ is the flux that is emitted from level $l'$ and received at level $l$, so from the above equations, it can be seen that, for example, the downward flux at some level $l$ is the sum of fluxes arriving from all levels above it in the atmosphere. \n",
    "\n",
    "$f(\\nu, l', l)$ can be expressed as something like the following:\n",
    "\n",
    "$$\n",
    "\\begin{align}\n",
    "f(\\nu, l', l) & = \\left[\\: B(\\nu, l' - 1) - B(\\nu, l') \\:\\right] \\mathcal{T}(\\nu, l, l') \\tag{lbl:10} \\\\\n",
    "& = B(\\nu, l') \\left( 1 - e^{-\\tau(\\nu, l')} \\right) \n",
    "\\left[ \\mathcal{T}(\\nu, l' + 1, l) - \\mathcal{T}(\\nu, l', l) \\right] \\tag{lbl:11}\n",
    "\\end{align} \\quad .\n",
    "$$\n",
    "\n",
    "The flux transmittance regulates how much flux gets through traversing the optical path.\n",
    "\n",
    "The results from the line-by-line calculation are the upward and downward fluxes at all atmosphere levels at all spectral points.\n",
    "\n",
    "\n",
    "To get the flux in each g-interval, we group the wavenumbers by g-interval, and add up the fluxes:\n",
    "\n",
    "$$\n",
    "\\begin{align}\n",
    "\\mathcal{F}_{\\downarrow}(g, l) & = \\sum_{\\nu} m(g, \\nu) F_{\\downarrow}(\\nu, l) \\tag{lbl:12} \\\\\n",
    "\\mathcal{F}_{\\uparrow}(g, l) & = \\sum_{\\nu} m(g, \\nu) F_{\\uparrow}(\\nu, l) \\tag{lbl:13}\n",
    "\\end{align}\n",
    "$$\n"
   ]
  },
  {
   "cell_type": "markdown",
   "metadata": {
    "heading_collapsed": true
   },
   "source": [
    "### Multiple absorbers"
   ]
  },
  {
   "cell_type": "markdown",
   "metadata": {
    "hidden": true
   },
   "source": [
    "When there are more than one gas in the atmosphere, the optical depth of an atmosphere layer is the sum of all the gases' optical depths in the layer:\n",
    "\n",
    "$$\n",
    "\\begin{equation}\n",
    "\\sum_{s} \\tau_{s} (\\nu, l) \\quad , \\tag{lbl:14}\n",
    "\\end{equation}\n",
    "$$\n",
    "\n",
    "where the subscript $s$ denotes a gas (an absorer $s$pecies).  Using this, the radiance transmittance between level $l$ and $l'$ in direction $\\mu$ is:\n",
    "\n",
    "$$\n",
    "\\begin{align}\n",
    "T(\\nu, l, l', \\mu) & = exp{\\left( - \\frac{1}{\\mu} \n",
    "\\sum_{l'' = l}^{l'} \\sum_{s} \\tau_{s} (\\nu, l'') \\right)} \\tag{lbl:15} \\\\\n",
    "& = \\prod_{s} T_{s}(\\nu, l, l', \\mu) \\quad,  \\tag{lbl:16}\n",
    "\\end{align}\n",
    "$$\n",
    "\n",
    "where\n",
    "\n",
    "$$\n",
    "T_{s}(\\nu, l, l', \\mu) = exp{\\left( - \\frac{1}{\\mu} \n",
    "\\sum_{l'' = l}^{l'} \\tau_{s}(\\nu, l'') \\right)}  \\tag{lbl:17}\n",
    "$$\n",
    "is the radiance transmittance for absorber $s$.  Integrating the radiance transmittance of all absorbers, the flux transmittance now becomes\n",
    "\n",
    "$$\n",
    "\\begin{align}\n",
    "\\mathcal{T}(\\nu, l, l') & = \\int \\text{d}\\mu \\; \\mu \\; \\prod_{s} T_{s}(\\nu, l, l', \\mu) \\tag{lbl:18} \\\\\n",
    "& \\approx \\prod_{s} \\int \\text{d}\\mu \\; \\mu \\;  T_{s}(\\nu, l, l', \\mu) \\tag{lbl:19} \\\\\n",
    "& = \\prod_{s} \\mathcal{T}_{s} (\\nu, l, l') \\quad , \\tag{lbl:20}\n",
    "\\end{align}\n",
    "$$\n",
    "where $\\mathcal{T}_{s} (\\nu, l, l')$ is the flux transmittance of absorber $s$.  The approximation above comes from the assumption that the transmittance of different absorbers are uncorrelated with each other.  Using the above flux transmittance, the fluxes are calculated in the same way as before when there is only one absorber."
   ]
  },
  {
   "cell_type": "markdown",
   "metadata": {
    "heading_collapsed": true
   },
   "source": [
    "# k-distribution (the new one)"
   ]
  },
  {
   "cell_type": "markdown",
   "metadata": {
    "hidden": true
   },
   "source": [
    "The main motivation behind the k-distribution method is that the line-by-line method is too time-consuming. The number of spectral points, $N_{\\nu}$, tends to be extremely large, so applying the radiative transfer computation to each one of them takes too much time in total.  The k-distribution method works by grouping the spectral points into $N_{g}$ intervals, where $N_{g} \\ll N_{\\nu}$.  By applying the radiative transfer computation only to these g-intervals, instead of individual spectral points, the total computation time is greatly reduced."
   ]
  },
  {
   "cell_type": "markdown",
   "metadata": {
    "hidden": true
   },
   "source": [
    "### Partition function"
   ]
  },
  {
   "cell_type": "markdown",
   "metadata": {
    "hidden": true
   },
   "source": [
    "The result of grouping the spectral points into $N_{g}$ groups is equivalent to having the following mapping:\n",
    "\n",
    "$$\n",
    "m(g, \\nu) = \n",
    "\\left \\{\n",
    "\\begin{array}{rl}\n",
    "1 & \\text{if } \\nu \\text{ in g-interval } g   \\\\\n",
    "0 & \\text{if } \\nu \\text{ not in g-interval } g \n",
    "\\end{array}\n",
    "\\right. \\tag{kdist:1}\n",
    "$$\n",
    "\n",
    "It basically tells us the g-interval to which each spectral point belongs to.  In general, $m(g, \\nu)$ is detemined empirically for each gas and spectral band.  \n"
   ]
  },
  {
   "cell_type": "markdown",
   "metadata": {
    "heading_collapsed": true,
    "hidden": true
   },
   "source": [
    "### Absorption coefficient"
   ]
  },
  {
   "cell_type": "markdown",
   "metadata": {
    "hidden": true
   },
   "source": [
    "The radiative transfer calculation in the k-distribution method is similar to the line-by-line method, with $g$ being kind of analagous to $\\nu$.  But intead of being a function of spectral point $\\nu$, the absorption coefficient here is a function of g-interval $g$, denoted by $\\kappa(g, l)$.  The absorption coefficient of a g-interval can be thought of as a kind of an average of the absorption coefficient at all the spectral points belonging to the g-interval.  Different ways of doing the averaging are tried, with the aim of getting radiative transfer results closest to the line-by-line results.  \n",
    "\n",
    "The simplest way to average the absorption coefficient is perhaps the arithmetic mean:\n",
    "\n",
    "$$\n",
    "\\kappa(g, l) =  \\frac{1}{\\sum_{\\nu'} \\: m(g, \\nu')} \\sum_{\\nu} \\: m(g, \\nu) \\: k(\\nu, l) \\quad . \\tag{kdist:2}\n",
    "$$\n",
    "\n",
    "However, it is found that this average does not work well.  Very often $k(\\nu, l)$ in a g-interval ranges over several orders of magnitudes, and the largest coefficient values dominate in the arithmetic mean.  So, instead of only considering the arithmetic mean of $k(\\nu, l)$, we have also tried the arithmetic mean of the following terms involving $k(\\nu, l)$: \n",
    "\n",
    "$$\n",
    "log_{10} \\left[ k(\\nu, l) \\right]  \\tag{kdist:3}\n",
    "$$\n",
    ", and \n",
    "$$\n",
    "\\exp \\left[- \\frac{k(\\nu, l)}{\\zeta(g)} \\right] \\quad ,  \\tag{kdist:4}\n",
    "$$\n",
    "where $\\zeta(g)$ is the smallest absorption coefficient in g-interval $g$.  Averaging these terms allows us to give more weight to the smaller absorption coefficient values in the g-interval.  \n",
    "\n",
    "Another issue with the simple arithmetic mean above is that it does not take into account of the $\\nu$-dependence of the Planck function, $B(\\nu, l)$, which can also range over several orders of magnitude within a g-interval.  A spectral point at which the Planck function is small should be given a smaller weight in the averaging of the absorption coefficients, and vice versa.  So, to take this into account, we weigh $k(\\nu, l)$ with the Planck function $B(\\nu, l)$ in the averaging.  \n",
    "\n",
    "Applying these changes , we have the following Planck-weighted averages for the absorption coefficient:\n",
    "\n",
    "[comment]: <> ($$)\n",
    "[comment]: <> (\\begin{align})\n",
    "[comment]: <> (\\kappa_{lin}(g, l) & = \\frac{1}{\\mathcal{B(g,l)}})\n",
    "[comment]: <> (\\sum_{\\nu} \\: m(g, \\nu) B(\\nu, l) \\; k(\\nu, l) \\tag{kdist:5} \\\\)\n",
    "[comment]: <> (\\kappa_{nonlin}(g, l) & = )\n",
    "[comment]: <> (\\left \\{)\n",
    "[comment]: <> (\\begin{array}{rl})\n",
    "[comment]: <> (10^{ \\frac{1}{\\mathcal{B(g,l)}})\n",
    "[comment]: <> (\\sum_{\\nu} \\: m(g, \\nu) B(\\nu, l) \\; log_{10} \\left[ k(\\nu, l) \\right]} & \\text{if option_wgt_k = 0}  \\\\)\n",
    "[comment]: <> (- \\zeta(g) \\: ln \\left( \\frac{1}{\\mathcal{B(g,l)}})\n",
    "[comment]: <> (\\sum_{\\nu} \\: m(g, \\nu) B(\\nu, l) \\; \\exp \\left[- \\frac{k(\\nu, l)}{\\zeta(g)} \\right] \\right) &) [comment]: <> (\\text{if option_wgt_k = 1} )\n",
    "[comment]: <> (\\end{array})\n",
    "[comment]: <> (\\right. \\tag{kdist:6})\n",
    "[comment]: <> (\\end{align} )\n",
    "[comment]: <> (\\quad ,)\n",
    "[comment]: <> ($$)\n",
    "[comment]: <> (where)\n",
    "[comment]: <> ($$)\n",
    "[comment]: <> (\\mathcal{B}(g, l) = \\sum_{\\nu} m(g, \\nu) B(\\nu, l)  \\tag{kdist:7})\n",
    "[comment]: <> ($$)\n",
    "[comment]: <> (is the Planck function summed over all spectral points in g-interval $g$.)\n",
    "\n",
    "$$\n",
    "\\kappa_{lin}(g, l) = \\frac{1}{\\mathcal{B(g,l)}} \\sum_{\\nu} \\: m(g, \\nu)B(\\nu, l)\\;k(\\nu, l) \\tag{kdist:5}\n",
    "$$\n",
    "\n",
    "$$\n",
    "\\kappa_{nonlin}(g, l) = 10^{ \\frac{1}{\\mathcal{B(g,l)}} \\sum_{\\nu} \\: m(g, \\nu) B(\\nu, l) \\; log_{10} \\left[ k(\\nu, l) \\right]} \\: \\text{if option_wgt_k = 0} \\tag{kdist:6}\n",
    "$$\n",
    "\n",
    "$$\n",
    "\\kappa_{nonlin}(g, l) =  - \\zeta(g) \\: ln \\left( \\frac{1}{\\mathcal{B(g,l)}} \n",
    "\\sum_{\\nu} \\: m(g, \\nu) B(\\nu, l) \\; \\exp \\left[- \\frac{k(\\nu, l)}{\\zeta(g)} \\right] \\right) \\: \\text{if option_wgt_k = 1}\n",
    "$$\n",
    "where\n",
    "$$\n",
    "\\mathcal{B}(g, l) = \\sum_{\\nu} m(g, \\nu) B(\\nu, l)  \\tag{kdist:7}\n",
    "$$\n",
    "is the Planck function summed over all spectral points in g-interval $g$.\n",
    "\n",
    "By definition, $\\kappa_{lin} > \\kappa_{nonlin}$, because the former favours the large coefficient values while the latter favours the small ones.  In general we want something in between so a weighted average of the two is used for radiative transfer calculation:\n",
    "\n",
    "$$\n",
    "\\begin{equation}\n",
    "\\kappa(g, l) = w(g) \\; \\kappa_{lin}(g, l) + \\left(1 - w(g)\\right) \\; \\kappa_{nonlin}(g, l) \\tag{kdist:8}\n",
    "\\end{equation}\n",
    "$$\n",
    "\n",
    ", where $w(g)$ is a parameter that needs to be tuned empirically.  We also indicate above the value that the input parameter `option_wgt_k` needs to take for different forms of $\\kappa_{nonlin}$.  It has been found empirically that `option_wgt_k = 1` works best."
   ]
  },
  {
   "cell_type": "markdown",
   "metadata": {
    "heading_collapsed": true,
    "hidden": true
   },
   "source": [
    "### Flux transmittance"
   ]
  },
  {
   "cell_type": "markdown",
   "metadata": {
    "hidden": true
   },
   "source": [
    "\n",
    "The radiative transfer calculation follows very similarly as the line-by-line method.  The optical depth is:\n",
    "\n",
    "$$\n",
    "\\begin{equation}\n",
    "\\tau(g, l) = \\kappa(g, l) \\omega(l) \\quad .  \\tag{kdist:9}\n",
    "\\end{equation}\n",
    "$$\n",
    "\n",
    "The radiance transmittance:\n",
    "\n",
    "$$\n",
    "T(g, l, l', \\mu) = exp{\\left( - \\frac{1}{\\mu} \n",
    "\\sum_{l'' = l}^{l'} \\tau(g, l'') \\right)}  \\tag{kdist:10}\n",
    "$$\n",
    "\n",
    "The flux transmittance:\n",
    "\n",
    "$$\n",
    "\\mathcal{T}(g, l, l') = \\int \\text{d}\\mu \\: T(g, l, l', \\mu)  \\tag{kdist:11}\n",
    "$$\n",
    "\n",
    "In practice, for efficiency, we select a particular direction that gives the best approximation to avoid the integral over all solid angles:\n",
    "\n",
    "$$\n",
    "\\begin{align}\n",
    "\\mathcal{T}(g, l, l') & \\approx T(g, l, l', \\mu_{g}) \\tag{kdist:12} \\\\\n",
    "& = \\exp \\left( - \\frac{1}{\\mu_{g}} \\sum_{l''=l}^{l'} \\tau(g, l'') \\right) \\quad . \\tag{kdist:13}\n",
    "\\end{align}\n",
    "$$\n",
    "\n"
   ]
  },
  {
   "cell_type": "markdown",
   "metadata": {
    "heading_collapsed": true,
    "hidden": true
   },
   "source": [
    "### Flux"
   ]
  },
  {
   "cell_type": "markdown",
   "metadata": {
    "hidden": true
   },
   "source": [
    "\n",
    "The flux that is emitted from level $l'$ and received at level $l$ in g-interval $g$ take a similar form in terms of the flux transmittance as in the line-by-line method:\n",
    "\n",
    "$$\n",
    "f(g, l', l) = \\mathcal{B}(g, l') \\left( 1 - e^{-\\tau(g, l')} \\right) \n",
    "\\left[ \\mathcal{T}(g, l' + 1, l) - \\mathcal{T}(g, l', l) \\right] \\tag{kdist:14}\n",
    "$$\n",
    "\n",
    "The upward and downward fluxes are:\n",
    "$$\n",
    "\\begin{align}\n",
    "\\mathcal{F}_{\\downarrow}(g, l) & = \\sum_{l' = 1}^{l} f(g, l', l) \\tag{kdist:15} \\\\\n",
    "\\mathcal{F}_{\\uparrow}(g, l) & = \\sum_{l' = l}^{N_{l}} f(g, l', l) \\quad. \\tag{kdist:16}\n",
    "\\end{align}\n",
    "$$\n",
    "\n",
    "\n",
    "Looking at the expression above for $f(g, l', l)$, in practice we would need a data table for $\\kappa(g, l)$, as well as one for $\\mathcal{B}(g, l)$.  The need for a data table for $\\kappa(g, l)$ cannot be avoided.  However, we can write $\\mathcal{B}(g, l)$ as\n",
    "\n",
    "$$\n",
    "\\mathcal{B}(g, l) = \\sum_{\\nu} B(\\nu, l) \\frac{\\mathcal{B}(g, l)}{\\sum_{\\nu'} B(\\nu', l)} \\quad . \\tag{kdist:17}\n",
    "$$\n",
    "\n",
    "If we assume that the Planck radiation of a g-interval always takes up the same fraction of the Planck radiation of the whole spectral band, regardless of temperature:\n",
    "\n",
    "$$\n",
    "\\frac{\\mathcal{B}(g, l)}{\\sum_{\\nu} B(\\nu, l)} \\approx \\frac{\\mathcal{B}(g, t_0)}{\\sum_{\\nu} B(\\nu, t_0)}  \\quad, \\tag{kdist:18}\n",
    "$$\n",
    "\n",
    "then \n",
    "\n",
    "$$\n",
    "\\mathcal{B}(g, l) = \\sum_{\\nu} B(\\nu, l) \\: G_{planck}(g)  \\quad, \\tag{kdist:19}\n",
    "$$\n",
    "\n",
    "where \n",
    "\n",
    "$$\n",
    "G_{planck}(g) = \\frac{\\mathcal{B}(g, t_0)}{\\sum_{\\nu} B(\\nu, t_0)} \\tag{kdist:20}\n",
    "$$\n",
    "is called the *Planck-weighted k-distribution function*.\n",
    "\n",
    "If we don't take into account of the shape of the Planck function relative to $\\nu$, i.e. assuming that \n",
    "\n",
    "$$\n",
    "B(\\nu, t) = B(\\nu_{0}, t) \\quad , \\tag{kdist:21}\n",
    "$$\n",
    "\n",
    "then $\\mathcal{B}(g, l)$ is further simplified to\n",
    "\n",
    "$$\n",
    "\\mathcal{B}(g, l) = \\sum_{\\nu} B(\\nu, l)\\: G(g)  \\quad, \\tag{kdist:22}\n",
    "$$\n",
    "\n",
    "where \n",
    "\n",
    "$$\n",
    "G(g) = \\frac{\\sum_{\\nu} m(g, \\nu)}{\\sum_{\\nu} 1} \\quad \\tag{kdist:23}\n",
    "$$\n",
    "is called the *k-distribution function*.  However, we will use the $G_{planck}$ instead of $G$ for better agreement with the line-by-line method.\n",
    "\n",
    "In either case, instead of having to construct a 2-dimensional data table for $\\mathcal{B}(g, l)$, we now only need two 1-dimensional data tables, namely $\\sum_{\\nu} B(\\nu, l)$, and $G(g)$ or $G_{planck}(g)$, hence simplifying the computation.\n"
   ]
  },
  {
   "cell_type": "markdown",
   "metadata": {
    "hidden": true
   },
   "source": [
    "### Multiple absorbers"
   ]
  },
  {
   "cell_type": "markdown",
   "metadata": {
    "hidden": true
   },
   "source": [
    "We cannot add together the optical depths of the different absorbers as in the line-by-line method, because the $g$ in $\\kappa(g, l)$ is different for different absorbers, so there is no common $g$ dimension to add together.  Because of this, a subscript $s$ is added to $g$ to indicate the absorber to which $g$ belongs to:\n",
    "\n",
    "$$\n",
    "\\begin{equation}\n",
    "\\kappa_{s}(g_{s}, l) = w_s(g_s) \\; \\kappa_{lin,s}(g_s, l) + \\left(1 - w_s(g_s)\\right) \\; \\kappa_{nonlin, s}(g_s, l) \n",
    "\\tag{kdist:24}\n",
    "\\end{equation}\n",
    "$$\n",
    "\n",
    "The optical depth is still the product of absorption coefficient and absorber amount $\\omega_s(l)$:\n",
    "$$\n",
    "\\tau_{s}(g_s, l) = \\kappa_{s}(g_s, l) \\: \\omega_{s}(l) \\tag{kdist:25}\n",
    "$$\n",
    "\n",
    "For each absorber and g-interval, there is a best-fit direction $\\mu$ that is used to approximate the flux transmittance:\n",
    "\n",
    "$$\n",
    "\\mathcal{T}_{s}(g_s, l, l') \\approx T_s(g_s, l, l', \\mu_{g_s})\n",
    " = \\exp \\left( - \\frac{1}{\\mu_{g_s}} \\sum_{l''=l}^{l'} \\tau(g_s, l'') \\right) \\quad .  \\tag{kdist:26}\n",
    "$$\n",
    "\n",
    "Then, the flux transmittance averaged over g-intervals, weighted using $G_{plancked}$, is calculated:\n",
    "\n",
    "$$\n",
    "\\bar{\\mathcal{T}}_{s}(l, l')  = \\sum_{s} G_{planck,s}(g_s) \\: \\mathcal{T}_{s}(g_s, l, l') \\quad .  \\tag{kdist:27}\n",
    "$$\n",
    "\n",
    "The flux transmittances from different absorbers are multiplied together to give a total flux transmittance:\n",
    "\n",
    "$$\n",
    "\\bar{\\mathcal{T}}(l, l') = \\prod_{s} \\bar{\\mathcal{T}}_{s}(l, l')  \\quad . \\tag{kdist:28}\n",
    "$$\n",
    "\n",
    "Then, this flux transmittance is used to calculate the fluxes in the same way as previously:\n",
    "\n",
    "$$\n",
    "f(l', l)  \\sim B(l') \\bar{\\mathcal{T}}(l, l')  \\quad . \\tag{kdist:29}\n",
    "$$\n",
    "\n",
    "\n",
    "\n"
   ]
  },
  {
   "cell_type": "markdown",
   "metadata": {},
   "source": [
    "# Obtaining the partition function "
   ]
  },
  {
   "cell_type": "markdown",
   "metadata": {
    "collapsed": true
   },
   "source": [
    "The set of all spectral points in the spectral band:  \n",
    "\n",
    "$$\n",
    "\\mathcal{N} = \\{ \\; \\nu \\: | \\: \\nu \\; \\text{is in spectral band} \\; \\}\n",
    "$$\n",
    "\n",
    "$$\\nu \\in \\mathcal{N}$$\n",
    "\n",
    "**Reference pressure-temperature pair number 1:   **\n",
    "\n",
    "$$(p_{ref1}, \\theta_{ref1})$$\n",
    "\n",
    "The absorption coefficient value at all the spectral points in $\\mathcal{N}$: \n",
    "\n",
    "$$\n",
    "\\mathcal{C} = \\{ \\; \\sigma(\\nu, p_{ref1}, \\theta_{ref1}) \\;\\}\n",
    "$$\n",
    "\n",
    "The current number of groups left to define is $M$.  We divide this into the log range of $\\mathcal{C}$ to find the range of a group:\n",
    "\n",
    "$$\n",
    "\\Delta = \\frac{log_{10}[max(\\mathcal{C})] - log_{10}[min(\\mathcal{C})]}{M}\n",
    "$$\n",
    "\n",
    "Using this range, we define the *lower bound* of the $i^{th}$ group to be:  \n",
    "\n",
    "$$\n",
    "b_{i} = 10^{log_{10}[max(\\mathcal{C})] - i \\Delta}\n",
    "$$\n",
    "\n",
    "These lower bounds are the smallest absorption coefficient value allowed for each group, and the above equation means the groups are in order of decreasing absorption:\n",
    "\n",
    "$$\n",
    "b_{1} > b_{2} > ... > b_{M}\n",
    "$$\n",
    "\n",
    "We now sort the spectral points in $\\mathcal{N}$ by their aborption coefficient value into groups as follows:   \n",
    "\n",
    "$$\n",
    "\\mathcal{G}_{1} = \\{ \\; \\nu  \\; | \\; \\sigma(\\nu, p_{ref1}, \\theta_{ref1}) \\ge b_{1}  \\; \\} \\\\\n",
    "\\mathcal{G}_{2} = \\{ \\; \\nu  \\; | \\; \\nu \\notin \\mathcal{G}_{1} \\; , \\; \\sigma(\\nu, p_{ref1}, \\theta_{ref1}) \\ge b_{2}  \\; \\} \\\\ \n",
    ". \\\\ . \\\\ . \\\\\n",
    "\\mathcal{G}_{m_1} = \\{ \\; \\nu  \\; | \\; \\nu \\notin \\bigcup_{i = 1}^{m_1 - 1} \\mathcal{G}_{i} \\; , \\; \\sigma(\\nu, p_{ref1}, \\theta_{ref1}) \\ge b_{m_{1}}  \\; \\}\n",
    "$$\n",
    "\n",
    "Notice that a spectral point that has been placed into a group is not replaced, so it can only ever belong to a single group.  We only obtain up to the $m_{1}^{\\text{th}}$ group, $G_{m_{1}}$, using the current pressure-temperature pair, $(p_{ref1}, \\theta_{ref1})$. \n",
    "\n",
    "**Reference pressure-temperature pair number 2:**\n",
    "\n",
    "At this point, there are still some spectral points that have not been placed in a group, namely:\n",
    "\n",
    "$$\n",
    "\\{ \\; \\nu \\; | \\;  \\nu \\notin \\bigcup_{i=1}^{m_1} \\mathcal{G}_{i}  \\; \\}\n",
    "$$\n",
    "\n",
    "We now define more groups using reference pressure-temperature pair number 2, $(p_{ref2}, \\theta_{ref2})$, and we place each remaining spectral point into one of them.  \n",
    "\n",
    "The absorption coefficient values at the remaining spectral points:\n",
    "\n",
    "$$\n",
    "\\mathcal{C} = \\{ \\; \\sigma(\\nu, p_{ref2}, \\theta_{ref2}) \\; | \\; \\nu \\notin \\bigcup_{i=1}^{m_1} \\mathcal{G}_{i} \\; \\}\n",
    "$$\n",
    "\n",
    "The current number of groups left to define is $M - m_1$.  We divide this into the log range of $\\mathcal{C}$ to find the range of a group:\n",
    "\n",
    "$$\n",
    "\\Delta = \\frac{log_{10}[max(\\mathcal{C})] - log_{10}[min(\\mathcal{C})]}{M - m_1}\n",
    "$$\n",
    "\n",
    "Using this range, we define the *lower bound* of the $i^{th}$ group to be:  \n",
    "\n",
    "$$\n",
    "b_{m_1 + i} = 10^{log_{10}[max(\\mathcal{C})] - i \\Delta}\n",
    "$$\n",
    "\n",
    "We now sort the spectral points in $\\mathcal{N}$ by their aborption coefficient value into groups as follows:   \n",
    "\n",
    "$$\n",
    "\\mathcal{G}_{m_1 + 1} = \\{ \\; \\nu  \\; | \\; \\nu \\notin \\bigcup_{i=1}^{m_1} \\mathcal{G}_{i} \\;,\\; \\sigma(\\nu, p_{ref2}, \\theta_{ref2}) \\ge b_{m_1 + 1}  \\;\\} \\\\\n",
    "\\mathcal{G}_{m_1 + 2} = \\{ \\; \\nu  \\; | \\; \\nu \\notin \\bigcup_{i=1}^{m_1 + 1} \\mathcal{G}_{i} \\;,\\; \\sigma(\\nu, p_{ref2}, \\theta_{ref2}) \\ge b_{m_1 + 2} \\;\\} \\\\ \n",
    ". \\\\ . \\\\ . \\\\\n",
    "\\mathcal{G}_{m_1 + m_2} = \\{ \\; \\nu \\notin \\bigcup_{i = 1}^{m_1 + m_2 - 1} \\mathcal{G}_{i} \\;\\; | \\;\\; \\sigma(\\nu, p_{ref2}, \\theta_{ref2}) \\ge b_{m_1 + m_2}  \\; \\}\n",
    "$$\n"
   ]
  },
  {
   "cell_type": "code",
   "execution_count": null,
   "metadata": {
    "collapsed": true
   },
   "outputs": [],
   "source": []
  },
  {
   "cell_type": "code",
   "execution_count": null,
   "metadata": {
    "collapsed": true
   },
   "outputs": [],
   "source": []
  },
  {
   "cell_type": "code",
   "execution_count": null,
   "metadata": {
    "collapsed": true
   },
   "outputs": [],
   "source": []
  },
  {
   "cell_type": "code",
   "execution_count": null,
   "metadata": {
    "collapsed": true
   },
   "outputs": [],
   "source": []
  },
  {
   "cell_type": "code",
   "execution_count": null,
   "metadata": {
    "collapsed": true
   },
   "outputs": [],
   "source": []
  },
  {
   "cell_type": "code",
   "execution_count": null,
   "metadata": {
    "collapsed": true
   },
   "outputs": [],
   "source": []
  },
  {
   "cell_type": "code",
   "execution_count": null,
   "metadata": {
    "collapsed": true
   },
   "outputs": [],
   "source": []
  },
  {
   "cell_type": "markdown",
   "metadata": {},
   "source": []
  },
  {
   "cell_type": "code",
   "execution_count": null,
   "metadata": {
    "collapsed": true
   },
   "outputs": [],
   "source": []
  },
  {
   "cell_type": "code",
   "execution_count": null,
   "metadata": {
    "collapsed": true
   },
   "outputs": [],
   "source": []
  },
  {
   "cell_type": "code",
   "execution_count": null,
   "metadata": {
    "collapsed": true
   },
   "outputs": [],
   "source": []
  },
  {
   "cell_type": "code",
   "execution_count": null,
   "metadata": {
    "collapsed": true
   },
   "outputs": [],
   "source": []
  },
  {
   "cell_type": "code",
   "execution_count": null,
   "metadata": {
    "collapsed": true
   },
   "outputs": [],
   "source": []
  }
 ],
 "metadata": {
  "kernelspec": {
   "display_name": "Python 3",
   "language": "python",
   "name": "python3"
  },
  "language_info": {
   "codemirror_mode": {
    "name": "ipython",
    "version": 3
   },
   "file_extension": ".py",
   "mimetype": "text/x-python",
   "name": "python",
   "nbconvert_exporter": "python",
   "pygments_lexer": "ipython3",
   "version": "3.6.7"
  }
 },
 "nbformat": 4,
 "nbformat_minor": 2
}
