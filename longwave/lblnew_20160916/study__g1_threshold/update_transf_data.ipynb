{
 "cells": [
  {
   "cell_type": "code",
   "execution_count": 1,
   "metadata": {},
   "outputs": [
    {
     "data": {
      "text/plain": [
       "'\\nThis notebook is used to update the transf() subroutine.\\n'"
      ]
     },
     "execution_count": 1,
     "metadata": {},
     "output_type": "execute_result"
    }
   ],
   "source": [
    "'''\n",
    "This notebook is used to update the transf() subroutine.\n",
    "'''"
   ]
  },
  {
   "cell_type": "code",
   "execution_count": 6,
   "metadata": {
    "collapsed": true
   },
   "outputs": [],
   "source": [
    "%matplotlib inline\n",
    "import os\n",
    "import itertools\n",
    "import importlib\n",
    "\n",
    "import pandas as pd"
   ]
  },
  {
   "cell_type": "code",
   "execution_count": 17,
   "metadata": {},
   "outputs": [],
   "source": [
    "def load_data():\n",
    "    fpath = os.path.join('/chia_cluster/home/jackyu/radiation/crd',\n",
    "                         'LW/examples/separate_g_groups',\n",
    "                         'study__lblnew_g1_threshold',\n",
    "                         'compute_transf_table/output_transf.dat')\n",
    "    df = pd.read_csv(fpath, sep=r'\\s+')\n",
    "    return df\n"
   ]
  },
  {
   "cell_type": "code",
   "execution_count": 55,
   "metadata": {
    "collapsed": true
   },
   "outputs": [],
   "source": [
    "def into_chunks(l, chunksize):\n",
    "    return itertools.zip_longest(*(chunksize * [iter(l)]))\n",
    "\n",
    "\n",
    "\n",
    "def vector_to_F77list(array, num_values_per_line=4, dtype=float):\n",
    "    '''\n",
    "    '''\n",
    "    if dtype == float:\n",
    "        strfmt = '{:15.6e}_r8'\n",
    "    elif dtype == int:\n",
    "        strfmt = '{:15d}'\n",
    "    else:\n",
    "        raise ValueError('dtype must be either float or int.')\n",
    "    \n",
    "    chunks = into_chunks(array, num_values_per_line)\n",
    "    \n",
    "    chunks = list(chunks)\n",
    "    \n",
    "    lines = []\n",
    "    for chunk in chunks[:-1]:\n",
    "        vs = [strfmt.format(v) for v in chunk if v != None]\n",
    "        line = ','.join(vs)\n",
    "        line = line + ','\n",
    "        lines.append(line)\n",
    "        \n",
    "    vs = [strfmt.format(v) for v in chunks[-1] if v != None]\n",
    "    line = ','.join(vs)\n",
    "    lines.append(line)\n",
    "    \n",
    "    return lines\n",
    "\n",
    "\n",
    "def vector_to_F77(array=None, num_values_per_line=None, dtype=None):\n",
    "    lines = vector_to_F77list(array=array, \n",
    "                              num_values_per_line=num_values_per_line,\n",
    "                              dtype=dtype)\n",
    "    \n",
    "    rlines = [5 * ' ' + '&' + l for l in lines]\n",
    "    \n",
    "    fortran = '\\n'.join(rlines)\n",
    "    return fortran"
   ]
  },
  {
   "cell_type": "code",
   "execution_count": 68,
   "metadata": {
    "scrolled": false
   },
   "outputs": [
    {
     "name": "stdout",
     "output_type": "stream",
     "text": [
      "range(0, 1500)\n",
      "range(1500, 3000)\n",
      "range(3000, 3500)\n"
     ]
    }
   ],
   "source": [
    "vs = range(3500)\n",
    "for i in range(0, 3500, 1500):\n",
    "    print(vs[i: i + 1500])"
   ]
  },
  {
   "cell_type": "code",
   "execution_count": 78,
   "metadata": {
    "collapsed": true
   },
   "outputs": [],
   "source": [
    "def ei3():\n",
    "    \n",
    "    df = load_data()\n",
    "    \n",
    "    nv_sec = 1500\n",
    "    \n",
    "    ls = []\n",
    "    for i in range(0, len(df), nv_sec):\n",
    "        vs = df['transf'][i: i + nv_sec]\n",
    "        s = vector_to_F77(vs, num_values_per_line=3, dtype=float)\n",
    "        \n",
    "        istart = i + 1\n",
    "        ifinal = len(df) if i + nv_sec > len(df) else i + nv_sec\n",
    "        s_indexrange = '{}:{}'.format(istart, ifinal)\n",
    "        \n",
    "        s = '\\n'.join(['ei3({}) = (/'.format(s_indexrange),\n",
    "                       s,\n",
    "                       5 * ' ' + '&' + '/)'])        \n",
    "        \n",
    "        ls.append(s)\n",
    "        \n",
    "    return ls\n",
    "\n",
    "\n",
    "def subroutine():\n",
    "    ls = ('subroutine transf (dx,tku)',\n",
    "          'implicit none',\n",
    "          'integer, parameter :: r8 = kind(1.0d0)',\n",
    "          '',\n",
    "          '! input the pre-computed data with dtau = 0.002',\n",
    "          '!   and tau ranging from 0 to 7.',\n",
    "          '',\n",
    "          'integer, parameter :: ntau = 3500',\n",
    "          'real*8 ei3(ntau)',\n",
    "          'real*8 dx, tku, fz',\n",
    "          'integer iz')\n",
    "          \n",
    "    ls1 = ('if (dx .lt. 7.0_r8) then',                                                    \n",
    "           '  iz =dx/ 0.002_r8 +1.0_r8',                                                   \n",
    "           '  fz = dx-float(iz-1) * 0.002_r8',                                            \n",
    "           '  tku = ei3(iz) + fz * (ei3(iz+1) - ei3(iz)) /0.002_r8',\n",
    "           'else',                                                                        \n",
    "           '  tku = 0._r8',                                                           \n",
    "           'endif',\n",
    "           '',\n",
    "           'return',\n",
    "           'end')\n",
    "    \n",
    "    lines = list(ls)\n",
    "    lines = lines + ['']\n",
    "    lines = lines + ei3()\n",
    "    lines = lines + ['']\n",
    "    lines = lines + list(ls1)\n",
    "    return lines\n",
    "\n",
    "\n",
    "def file_content():\n",
    "    lines = subroutine()\n",
    "    lines = [6 * ' ' + l for l in lines]\n",
    "    s = '\\n'.join(lines)\n",
    "    return s\n",
    "\n",
    "\n",
    "def script():\n",
    "    s = file_content()\n",
    "    fpath = os.path.join('trans.f')\n",
    "    with open(fpath, mode='w', encoding='utf-8') as f:\n",
    "        f.write(s)"
   ]
  },
  {
   "cell_type": "code",
   "execution_count": 79,
   "metadata": {
    "scrolled": false
   },
   "outputs": [
    {
     "name": "stdout",
     "output_type": "stream",
     "text": [
      "None\n"
     ]
    }
   ],
   "source": [
    "print(script())"
   ]
  },
  {
   "cell_type": "code",
   "execution_count": 77,
   "metadata": {},
   "outputs": [
    {
     "data": {
      "text/plain": [
       "0    1.000000\n",
       "1    0.996028\n",
       "2    0.992103\n",
       "3    0.988217\n",
       "4    0.984368\n",
       "Name: transf, dtype: float64"
      ]
     },
     "execution_count": 77,
     "metadata": {},
     "output_type": "execute_result"
    }
   ],
   "source": [
    "df['transf'][0: 5]"
   ]
  },
  {
   "cell_type": "code",
   "execution_count": null,
   "metadata": {
    "collapsed": true
   },
   "outputs": [],
   "source": []
  }
 ],
 "metadata": {
  "kernelspec": {
   "display_name": "Python 3",
   "language": "python",
   "name": "python3"
  },
  "language_info": {
   "codemirror_mode": {
    "name": "ipython",
    "version": 3
   },
   "file_extension": ".py",
   "mimetype": "text/x-python",
   "name": "python",
   "nbconvert_exporter": "python",
   "pygments_lexer": "ipython3",
   "version": "3.6.1"
  }
 },
 "nbformat": 4,
 "nbformat_minor": 2
}
