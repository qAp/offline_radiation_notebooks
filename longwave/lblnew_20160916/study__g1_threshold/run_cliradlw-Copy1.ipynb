{
 "cells": [
  {
   "cell_type": "code",
   "execution_count": 15,
   "metadata": {},
   "outputs": [
    {
     "data": {
      "text/plain": [
       "<module 'climatools.lblnew.setup_overlap' from '/chia_cluster/home/jackyu/climatools/climatools/lblnew/setup_overlap.py'>"
      ]
     },
     "execution_count": 15,
     "metadata": {},
     "output_type": "execute_result"
    }
   ],
   "source": [
    "import os\n",
    "import shutil\n",
    "import importlib \n",
    "\n",
    "from climatools.cliradlw import (setup, pipeline)\n",
    "from climatools.lblnew import setup_overlap\n",
    "import climatools.lblnew.pipeline as pipeline_lblnew\n",
    "\n",
    "importlib.reload(setup)\n",
    "importlib.reload(pipeline)\n",
    "importlib.reload(setup_overlap)"
   ]
  },
  {
   "cell_type": "code",
   "execution_count": 11,
   "metadata": {
    "collapsed": true
   },
   "outputs": [],
   "source": [
    "setup_overlap.get_dir_from_param??"
   ]
  },
  {
   "cell_type": "code",
   "execution_count": 51,
   "metadata": {
    "collapsed": true
   },
   "outputs": [],
   "source": [
    "def param_lblnew():\n",
    "    return {'atmpro': 'mls',\n",
    " 'band': '9',\n",
    " 'commitnumber': '8ba2806',\n",
    " 'dv': 0.001,\n",
    " 'molecule': {'co2': 0.0004, 'h2o': 'atmpro'},\n",
    " 'nv': 1000,\n",
    " 'tsfc': 294}\n",
    "\n",
    "\n",
    "def param_cliradlw():\n",
    "    return {'atmpro': 'mls',\n",
    "            'band': [9],\n",
    "            'commitnumber': 'c8dce0e',\n",
    "            'molecule': {'h2o': 'atmpro', 'co2': 0.0004},\n",
    "            'tsfc': 294}"
   ]
  },
  {
   "cell_type": "code",
   "execution_count": 31,
   "metadata": {},
   "outputs": [
    {
     "data": {
      "text/plain": [
       "['output_wflux.dat',\n",
       " 'absmean.dat',\n",
       " 'output_flux.dat',\n",
       " 'lblnew.exe',\n",
       " 'output_coolr.dat',\n",
       " 'lblcom.f',\n",
       " 'abscom.dat',\n",
       " 'lblnew.f',\n",
       " 'dgdgs.dat',\n",
       " 'output_wcoolr.dat']"
      ]
     },
     "execution_count": 31,
     "metadata": {},
     "output_type": "execute_result"
    }
   ],
   "source": [
    "os.listdir(pipeline_lblnew.get_dir_case(param=param_lblnew(), \n",
    "                             setup=setup_overlap))"
   ]
  },
  {
   "cell_type": "code",
   "execution_count": 52,
   "metadata": {
    "scrolled": false
   },
   "outputs": [
    {
     "name": "stdout",
     "output_type": "stream",
     "text": [
      "{'h2o': 'wa(i,k)', 'co2': 0.0004, 'o3': 0, 'n2o': 0, 'ch4': 0}\n",
      "h2o\n",
      "\n",
      "            wa(i,k)=wa(1,k)\n",
      "wa(1,k)\n",
      "wa(i,k)\n",
      "co2\n",
      "\n",
      "      co2 = 400.e-6\n",
      "400.e-6\n",
      "0.0004\n",
      "o3\n",
      "\n",
      "            oa(i,k)=0.0\n",
      "0.0\n",
      "0.0\n",
      "n2o\n",
      "\n",
      "      n2o=0.0\n",
      "0.0\n",
      "0.0\n",
      "ch4\n",
      "\n",
      "      ch4=0.0\n",
      "0.0\n",
      "0.0\n",
      "band\n",
      "\n",
      "      bands(1:nband) = (/ 0, 0, 1, 0, 0, 0, 1, 0, 1, 0, 1 /)\n",
      "\n",
      "\n",
      "(/ 0, 0, 1, 0, 0, 0, 1, 0, 1, 0, 1 /)\n",
      "(/0, 0, 0, 0, 0, 0, 0, 0, 1, 0, 0/)\n",
      "atmpro\n",
      "atmosphere_profiles/mls75.pro\n",
      "mls\n",
      "mls\n",
      "tsfc\n",
      "\n",
      "\n",
      "      tb(1)=294.0\n",
      "      \n",
      "\n",
      "294.0\n",
      "294\n",
      "{'atmpro': 'mls',\n",
      " 'band': [9],\n",
      " 'commitnumber': 'c8dce0e',\n",
      " 'molecule': {'co2': 0.0004, 'h2o': 'atmpro'},\n",
      " 'tsfc': 294}\n",
      "/chia_cluster/home/jackyu/climatools/climatools/cliradlw/results_cliradlw-Copy1.ipynb\n",
      "/chia_cluster/home/jackyu/radiation/clirad-lw/LW/examples/lblnew/h2o_mls_co2_0.0004/band_9/atmpro_mls/cliradlw_c8dce0e\n",
      "{'atmpro': 'mls',\n",
      " 'band': [9],\n",
      " 'commitnumber': 'c8dce0e',\n",
      " 'molecule': {'co2': 0.0004, 'h2o': 'atmpro'},\n",
      " 'tsfc': 294}\n"
     ]
    }
   ],
   "source": [
    "\n",
    "dir_fortran_lblnew = pipeline_lblnew.get_dir_case(param=param_lblnew(), \n",
    "                                              setup=setup_overlap)\n",
    "\n",
    "try:\n",
    "    shutil.rmtree(pipeline.get_fortran_dir(param=param_cliradlw(), \n",
    "                                           setup=setup))\n",
    "except FileNotFoundError:\n",
    "    pass\n",
    "\n",
    "try:\n",
    "    shutil.rmtree(pipeline.get_analysis_dir(param=param_cliradlw(), \n",
    "                                            setup=setup))\n",
    "except FileNotFoundError:\n",
    "    pass\n",
    "\n",
    "\n",
    "fproc = pipeline.run_fortran(param=param_cliradlw(), setup=setup)\n",
    "\n",
    "aproc = pipeline.run_analysis(param=param_cliradlw(), \n",
    "                              dir_fortran_lblnew=dir_fortran_lblnew,\n",
    "                              setup=setup)"
   ]
  },
  {
   "cell_type": "code",
   "execution_count": 37,
   "metadata": {},
   "outputs": [
    {
     "data": {
      "text/plain": [
       "'/chia_cluster/home/jackyu/radiation/clirad-lw/LW/examples/lblnew/h2o_mls/band_9/atmpro_mls/cliradlw_c8dce0e'"
      ]
     },
     "execution_count": 37,
     "metadata": {},
     "output_type": "execute_result"
    }
   ],
   "source": [
    "pipeline.get_fortran_dir(param_cliradlw(), setup=setup)"
   ]
  },
  {
   "cell_type": "code",
   "execution_count": 53,
   "metadata": {},
   "outputs": [
    {
     "name": "stdout",
     "output_type": "stream",
     "text": [
      " before assigning\n",
      "  -23.75518    \n",
      "  0.0000000E+00\n",
      "\n"
     ]
    },
    {
     "ename": "AttributeError",
     "evalue": "'NoneType' object has no attribute 'decode'",
     "output_type": "error",
     "traceback": [
      "\u001b[0;31m---------------------------------------------------------------------------\u001b[0m",
      "\u001b[0;31mAttributeError\u001b[0m                            Traceback (most recent call last)",
      "\u001b[0;32m<ipython-input-53-80d6c0f1663a>\u001b[0m in \u001b[0;36m<module>\u001b[0;34m()\u001b[0m\n\u001b[1;32m      1\u001b[0m \u001b[0mout\u001b[0m\u001b[0;34m,\u001b[0m \u001b[0merr\u001b[0m \u001b[0;34m=\u001b[0m \u001b[0mfproc\u001b[0m\u001b[0;34m.\u001b[0m\u001b[0mcommunicate\u001b[0m\u001b[0;34m(\u001b[0m\u001b[0;34m)\u001b[0m\u001b[0;34m\u001b[0m\u001b[0m\n\u001b[1;32m      2\u001b[0m \u001b[0mprint\u001b[0m\u001b[0;34m(\u001b[0m\u001b[0mout\u001b[0m\u001b[0;34m.\u001b[0m\u001b[0mdecode\u001b[0m\u001b[0;34m(\u001b[0m\u001b[0;34m'utf-8'\u001b[0m\u001b[0;34m)\u001b[0m\u001b[0;34m)\u001b[0m\u001b[0;34m\u001b[0m\u001b[0m\n\u001b[0;32m----> 3\u001b[0;31m \u001b[0mprint\u001b[0m\u001b[0;34m(\u001b[0m\u001b[0merr\u001b[0m\u001b[0;34m.\u001b[0m\u001b[0mdecode\u001b[0m\u001b[0;34m(\u001b[0m\u001b[0;34m'utf-8'\u001b[0m\u001b[0;34m)\u001b[0m\u001b[0;34m)\u001b[0m\u001b[0;34m\u001b[0m\u001b[0m\n\u001b[0m",
      "\u001b[0;31mAttributeError\u001b[0m: 'NoneType' object has no attribute 'decode'"
     ]
    }
   ],
   "source": [
    "out, err = fproc.communicate()\n",
    "print(out.decode('utf-8'))\n",
    "print(err.decode('utf-8'))"
   ]
  },
  {
   "cell_type": "code",
   "execution_count": 54,
   "metadata": {
    "scrolled": false
   },
   "outputs": [
    {
     "name": "stdout",
     "output_type": "stream",
     "text": [
      "\n",
      "\n",
      "[NbConvertApp] Converting notebook results_cliradlw-Copy1.ipynb to notebook\n",
      "[NbConvertApp] Executing notebook with kernel: python3\n",
      "[NbConvertApp] Writing 89827 bytes to results_cliradlw-Copy1.ipynb\n",
      "\n"
     ]
    }
   ],
   "source": [
    "out, err = aproc.communicate()\n",
    "print(out.decode('utf-8'))\n",
    "print()\n",
    "print(err.decode('utf-8'))"
   ]
  },
  {
   "cell_type": "code",
   "execution_count": 50,
   "metadata": {},
   "outputs": [
    {
     "data": {
      "text/plain": [
       "'/chia_cluster/home/jackyu/radiation/offline_radiation_notebooks/longwave/lblnew_20160916/clirad/h2o_mls/band_9/atmpro_mls/cliradlw_c8dce0e'"
      ]
     },
     "execution_count": 50,
     "metadata": {},
     "output_type": "execute_result"
    }
   ],
   "source": [
    "pipeline.get_analysis_dir(param=param_cliradlw(), setup=setup)"
   ]
  },
  {
   "cell_type": "code",
   "execution_count": null,
   "metadata": {
    "collapsed": true
   },
   "outputs": [],
   "source": [
    "pipeline.nb"
   ]
  }
 ],
 "metadata": {
  "kernelspec": {
   "display_name": "Python 3",
   "language": "python",
   "name": "python3"
  },
  "language_info": {
   "codemirror_mode": {
    "name": "ipython",
    "version": 3
   },
   "file_extension": ".py",
   "mimetype": "text/x-python",
   "name": "python",
   "nbconvert_exporter": "python",
   "pygments_lexer": "ipython3",
   "version": "3.6.1"
  }
 },
 "nbformat": 4,
 "nbformat_minor": 2
}
