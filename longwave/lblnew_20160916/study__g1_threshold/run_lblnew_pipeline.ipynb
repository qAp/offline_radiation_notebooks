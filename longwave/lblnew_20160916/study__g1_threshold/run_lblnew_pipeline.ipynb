{
 "cells": [
  {
   "cell_type": "code",
   "execution_count": 136,
   "metadata": {},
   "outputs": [
    {
     "data": {
      "text/plain": [
       "<module 'climatools.lblnew.bestfit_params' from '/chia_cluster/home/jackyu/climatools/climatools/lblnew/bestfit_params.py'>"
      ]
     },
     "execution_count": 136,
     "metadata": {},
     "output_type": "execute_result"
    }
   ],
   "source": [
    "import climatools.lblnew.lblnew_pipeline as pipeline\n",
    "import climatools.lblnew.bestfit_params as bestfit\n",
    "\n",
    "import shutil\n",
    "import importlib\n",
    "import pprint\n",
    "\n",
    "import climatools.clirad.info as clirad\n",
    "\n",
    "importlib.reload(pipeline)\n",
    "importlib.reload(bestfit)"
   ]
  },
  {
   "cell_type": "code",
   "execution_count": 83,
   "metadata": {},
   "outputs": [
    {
     "data": {
      "text/plain": [
       "{'1': [(0, 340)],\n",
       " '10': [(540, 620)],\n",
       " '2': [(340, 540)],\n",
       " '3a': [(540, 620)],\n",
       " '3b': [(620, 720)],\n",
       " '3c': [(720, 800)],\n",
       " '4': [(800, 980)],\n",
       " '5': [(980, 1100)],\n",
       " '6': [(1100, 1215)],\n",
       " '7': [(1215, 1380)],\n",
       " '8': [(1380, 1900)],\n",
       " '9': [(1900, 3000)]}"
      ]
     },
     "execution_count": 83,
     "metadata": {},
     "output_type": "execute_result"
    }
   ],
   "source": [
    "clirad.wavenumber_bands(region='lw')"
   ]
  },
  {
   "cell_type": "code",
   "execution_count": 7,
   "metadata": {
    "collapsed": true
   },
   "outputs": [],
   "source": [
    "# test case for overlapping\n",
    "\n",
    "h2o_band08_test = {\n",
    "    'molecule': 'h2o',\n",
    "    'band': '8',\n",
    "    'dv': .05, \n",
    "    'nv': 20,\n",
    "    'ref_pts': [(1, 250), (10, 250), (500, 250)],\n",
    "    'ng_refs': [3, 2, 3],\n",
    "    'option_wgt_flux': 2,\n",
    "    'option_wgt_k': 1,\n",
    "    'klin': 0,\n",
    "    'wgt': [(.55, .55, .85), (.85, .85), (0., .3, .55)],\n",
    "    'w_diffuse': [(1.66, 1.66, 1.66), (1.66, 1.66), (1.66, 1.66, 1.66)],\n",
    "    'atmpro': 'mls',\n",
    "    'tsfc': 294.,\n",
    "    'commitnumber': '79e7d57'\n",
    "}\n"
   ]
  },
  {
   "cell_type": "code",
   "execution_count": 106,
   "metadata": {
    "collapsed": true
   },
   "outputs": [
    {
     "data": {
      "text/plain": [
       "[{'atmpro': 'mls',\n",
       "  'band': '1',\n",
       "  'commitnumber': '9d81085',\n",
       "  'dv': 0.005,\n",
       "  'klin': 4.06197e-22,\n",
       "  'molecule': 'h2o',\n",
       "  'ng_refs': [3, 2, 4],\n",
       "  'nv': 200,\n",
       "  'option_wgt_flux': 2,\n",
       "  'option_wgt_k': 1,\n",
       "  'ref_pts': [(1, 250), (30, 250), (300, 250)],\n",
       "  'tsfc': 294,\n",
       "  'w_diffuse': [(1.66, 1.66, 1.66), (1.66, 1.66), (1.66, 1.66, 1.66, 1.66)],\n",
       "  'wgt': [(0.3, 0.3, 0.3), (0.3, 0.3), (0.3, 0.6, 0.6, 0.6)]},\n",
       " {'atmpro': 'saw',\n",
       "  'band': '1',\n",
       "  'commitnumber': '9d81085',\n",
       "  'dv': 0.005,\n",
       "  'klin': 4.06197e-22,\n",
       "  'molecule': 'h2o',\n",
       "  'ng_refs': [3, 2, 4],\n",
       "  'nv': 200,\n",
       "  'option_wgt_flux': 2,\n",
       "  'option_wgt_k': 1,\n",
       "  'ref_pts': [(1, 250), (30, 250), (300, 250)],\n",
       "  'tsfc': 257,\n",
       "  'w_diffuse': [(1.66, 1.66, 1.66), (1.66, 1.66), (1.66, 1.66, 1.66, 1.66)],\n",
       "  'wgt': [(0.3, 0.3, 0.3), (0.3, 0.3), (0.3, 0.6, 0.6, 0.6)]},\n",
       " {'atmpro': 'trp',\n",
       "  'band': '1',\n",
       "  'commitnumber': '9d81085',\n",
       "  'dv': 0.005,\n",
       "  'klin': 4.06197e-22,\n",
       "  'molecule': 'h2o',\n",
       "  'ng_refs': [3, 2, 4],\n",
       "  'nv': 200,\n",
       "  'option_wgt_flux': 2,\n",
       "  'option_wgt_k': 1,\n",
       "  'ref_pts': [(1, 250), (30, 250), (300, 250)],\n",
       "  'tsfc': 300,\n",
       "  'w_diffuse': [(1.66, 1.66, 1.66), (1.66, 1.66), (1.66, 1.66, 1.66, 1.66)],\n",
       "  'wgt': [(0.3, 0.3, 0.3), (0.3, 0.3), (0.3, 0.6, 0.6, 0.6)]},\n",
       " {'atmpro': 'mls',\n",
       "  'band': '2',\n",
       "  'commitnumber': '9d81085',\n",
       "  'dv': 0.005,\n",
       "  'klin': 0,\n",
       "  'molecule': 'h2o',\n",
       "  'ng_refs': [2, 2, 6],\n",
       "  'nv': 200,\n",
       "  'option_wgt_flux': 2,\n",
       "  'option_wgt_k': 1,\n",
       "  'ref_pts': [(1, 250), (10, 250), (500, 250)],\n",
       "  'tsfc': 294,\n",
       "  'w_diffuse': [(1.66, 1.66),\n",
       "   (1.66, 1.66),\n",
       "   (1.66, 1.66, 1.66, 1.66, 1.66, 1.66)],\n",
       "  'wgt': [(0.4, 0.4), (0.4, 0.4), (0.4, 0.4, 0.4, 0.4, 0.4, 0.7)]},\n",
       " {'atmpro': 'saw',\n",
       "  'band': '2',\n",
       "  'commitnumber': '9d81085',\n",
       "  'dv': 0.005,\n",
       "  'klin': 0,\n",
       "  'molecule': 'h2o',\n",
       "  'ng_refs': [2, 2, 6],\n",
       "  'nv': 200,\n",
       "  'option_wgt_flux': 2,\n",
       "  'option_wgt_k': 1,\n",
       "  'ref_pts': [(1, 250), (10, 250), (500, 250)],\n",
       "  'tsfc': 257,\n",
       "  'w_diffuse': [(1.66, 1.66),\n",
       "   (1.66, 1.66),\n",
       "   (1.66, 1.66, 1.66, 1.66, 1.66, 1.66)],\n",
       "  'wgt': [(0.4, 0.4), (0.4, 0.4), (0.4, 0.4, 0.4, 0.4, 0.4, 0.7)]},\n",
       " {'atmpro': 'trp',\n",
       "  'band': '2',\n",
       "  'commitnumber': '9d81085',\n",
       "  'dv': 0.005,\n",
       "  'klin': 0,\n",
       "  'molecule': 'h2o',\n",
       "  'ng_refs': [2, 2, 6],\n",
       "  'nv': 200,\n",
       "  'option_wgt_flux': 2,\n",
       "  'option_wgt_k': 1,\n",
       "  'ref_pts': [(1, 250), (10, 250), (500, 250)],\n",
       "  'tsfc': 300,\n",
       "  'w_diffuse': [(1.66, 1.66),\n",
       "   (1.66, 1.66),\n",
       "   (1.66, 1.66, 1.66, 1.66, 1.66, 1.66)],\n",
       "  'wgt': [(0.4, 0.4), (0.4, 0.4), (0.4, 0.4, 0.4, 0.4, 0.4, 0.7)]},\n",
       " {'atmpro': 'mls',\n",
       "  'band': '3a',\n",
       "  'commitnumber': '9d81085',\n",
       "  'dv': 0.005,\n",
       "  'klin': 0,\n",
       "  'molecule': 'h2o',\n",
       "  'ng_refs': [7],\n",
       "  'nv': 200,\n",
       "  'option_wgt_flux': 2,\n",
       "  'option_wgt_k': 1,\n",
       "  'ref_pts': [(600, 250)],\n",
       "  'tsfc': 294,\n",
       "  'w_diffuse': [(1.9, 1.7, 1.4, 1.4, 1.4, 1.55, 1.6)],\n",
       "  'wgt': [(0.7, 0.7, 0.7, 0.5, 0.5, 0.5, 0.5)]},\n",
       " {'atmpro': 'saw',\n",
       "  'band': '3a',\n",
       "  'commitnumber': '9d81085',\n",
       "  'dv': 0.005,\n",
       "  'klin': 0,\n",
       "  'molecule': 'h2o',\n",
       "  'ng_refs': [7],\n",
       "  'nv': 200,\n",
       "  'option_wgt_flux': 2,\n",
       "  'option_wgt_k': 1,\n",
       "  'ref_pts': [(600, 250)],\n",
       "  'tsfc': 257,\n",
       "  'w_diffuse': [(1.9, 1.7, 1.4, 1.4, 1.4, 1.55, 1.6)],\n",
       "  'wgt': [(0.7, 0.7, 0.7, 0.5, 0.5, 0.5, 0.5)]},\n",
       " {'atmpro': 'trp',\n",
       "  'band': '3a',\n",
       "  'commitnumber': '9d81085',\n",
       "  'dv': 0.005,\n",
       "  'klin': 0,\n",
       "  'molecule': 'h2o',\n",
       "  'ng_refs': [7],\n",
       "  'nv': 200,\n",
       "  'option_wgt_flux': 2,\n",
       "  'option_wgt_k': 1,\n",
       "  'ref_pts': [(600, 250)],\n",
       "  'tsfc': 300,\n",
       "  'w_diffuse': [(1.9, 1.7, 1.4, 1.4, 1.4, 1.55, 1.6)],\n",
       "  'wgt': [(0.7, 0.7, 0.7, 0.5, 0.5, 0.5, 0.5)]},\n",
       " {'atmpro': 'mls',\n",
       "  'band': '3b',\n",
       "  'commitnumber': '9d81085',\n",
       "  'dv': 0.005,\n",
       "  'klin': 1e-24,\n",
       "  'molecule': 'h2o',\n",
       "  'ng_refs': [6],\n",
       "  'nv': 200,\n",
       "  'option_wgt_flux': 2,\n",
       "  'option_wgt_k': 1,\n",
       "  'ref_pts': [(600, 250)],\n",
       "  'tsfc': 294,\n",
       "  'w_diffuse': [(1.66, 1.66, 1.66, 1.66, 1.66, 1.66)],\n",
       "  'wgt': [(0.8, 0.8, 0.8, 0.6, 0.6, 0.9)]},\n",
       " {'atmpro': 'saw',\n",
       "  'band': '3b',\n",
       "  'commitnumber': '9d81085',\n",
       "  'dv': 0.005,\n",
       "  'klin': 1e-24,\n",
       "  'molecule': 'h2o',\n",
       "  'ng_refs': [6],\n",
       "  'nv': 200,\n",
       "  'option_wgt_flux': 2,\n",
       "  'option_wgt_k': 1,\n",
       "  'ref_pts': [(600, 250)],\n",
       "  'tsfc': 257,\n",
       "  'w_diffuse': [(1.66, 1.66, 1.66, 1.66, 1.66, 1.66)],\n",
       "  'wgt': [(0.8, 0.8, 0.8, 0.6, 0.6, 0.9)]},\n",
       " {'atmpro': 'trp',\n",
       "  'band': '3b',\n",
       "  'commitnumber': '9d81085',\n",
       "  'dv': 0.005,\n",
       "  'klin': 1e-24,\n",
       "  'molecule': 'h2o',\n",
       "  'ng_refs': [6],\n",
       "  'nv': 200,\n",
       "  'option_wgt_flux': 2,\n",
       "  'option_wgt_k': 1,\n",
       "  'ref_pts': [(600, 250)],\n",
       "  'tsfc': 300,\n",
       "  'w_diffuse': [(1.66, 1.66, 1.66, 1.66, 1.66, 1.66)],\n",
       "  'wgt': [(0.8, 0.8, 0.8, 0.6, 0.6, 0.9)]},\n",
       " {'atmpro': 'mls',\n",
       "  'band': '3c',\n",
       "  'commitnumber': '9d81085',\n",
       "  'dv': 0.005,\n",
       "  'klin': 5e-25,\n",
       "  'molecule': 'h2o',\n",
       "  'ng_refs': [5],\n",
       "  'nv': 200,\n",
       "  'option_wgt_flux': 2,\n",
       "  'option_wgt_k': 1,\n",
       "  'ref_pts': [(600, 250)],\n",
       "  'tsfc': 294,\n",
       "  'w_diffuse': [(1.55, 1.6, 1.66, 1.66, 1.8)],\n",
       "  'wgt': [(0.5, 0.5, 0.6, 0.7, 0.9)]},\n",
       " {'atmpro': 'saw',\n",
       "  'band': '3c',\n",
       "  'commitnumber': '9d81085',\n",
       "  'dv': 0.005,\n",
       "  'klin': 5e-25,\n",
       "  'molecule': 'h2o',\n",
       "  'ng_refs': [5],\n",
       "  'nv': 200,\n",
       "  'option_wgt_flux': 2,\n",
       "  'option_wgt_k': 1,\n",
       "  'ref_pts': [(600, 250)],\n",
       "  'tsfc': 257,\n",
       "  'w_diffuse': [(1.55, 1.6, 1.66, 1.66, 1.8)],\n",
       "  'wgt': [(0.5, 0.5, 0.6, 0.7, 0.9)]},\n",
       " {'atmpro': 'trp',\n",
       "  'band': '3c',\n",
       "  'commitnumber': '9d81085',\n",
       "  'dv': 0.005,\n",
       "  'klin': 5e-25,\n",
       "  'molecule': 'h2o',\n",
       "  'ng_refs': [5],\n",
       "  'nv': 200,\n",
       "  'option_wgt_flux': 2,\n",
       "  'option_wgt_k': 1,\n",
       "  'ref_pts': [(600, 250)],\n",
       "  'tsfc': 300,\n",
       "  'w_diffuse': [(1.55, 1.6, 1.66, 1.66, 1.8)],\n",
       "  'wgt': [(0.5, 0.5, 0.6, 0.7, 0.9)]}]"
      ]
     },
     "execution_count": 106,
     "metadata": {},
     "output_type": "execute_result"
    }
   ],
   "source": [
    "commitnumber = '9d81085'\n",
    "\n",
    "dv = .005\n",
    "nv = 200\n",
    "\n",
    "molecule = 'h2o'\n",
    "bands = ['1', '2', '3a', '3b', '3c']\n",
    "atmpros = [('mls', 294), \n",
    "           ('saw', 257), \n",
    "           ('trp', 300)]\n",
    "\n",
    "params = []\n",
    "\n",
    "for band in bands:\n",
    "    for atmpro, tsfc in atmpros:\n",
    "        param = bestfit.kdist_params(molecule=molecule, band=band)\n",
    "        param['dv'] = dv\n",
    "        param['nv'] = nv\n",
    "        param['molecule'] = molecule\n",
    "        param['band'] = band\n",
    "        param['atmpro'] = atmpro\n",
    "        param['tsfc'] = tsfc\n",
    "        param['commitnumber'] = commitnumber\n",
    "        params.append(param)\n",
    "\n",
    "        \n",
    "        \n",
    "params"
   ]
  },
  {
   "cell_type": "code",
   "execution_count": 107,
   "metadata": {
    "collapsed": true
   },
   "outputs": [],
   "source": [
    "for param in params:\n",
    "    try:\n",
    "        shutil.rmtree(lblnew.get_dir_case(param))\n",
    "    except FileNotFoundError:\n",
    "        continue"
   ]
  },
  {
   "cell_type": "code",
   "execution_count": 167,
   "metadata": {
    "collapsed": true
   },
   "outputs": [],
   "source": [
    "for param in params:\n",
    "    try:\n",
    "        shutil.rmtree(lblnew.get_analysis_dir(param))\n",
    "    except FileNotFoundError:\n",
    "        continue"
   ]
  },
  {
   "cell_type": "code",
   "execution_count": 168,
   "metadata": {},
   "outputs": [
    {
     "name": "stdout",
     "output_type": "stream",
     "text": [
      "/chia_cluster/home/jackyu/radiation/offline_radiation_notebooks/longwave/lblnew_20160916/study__g1_threshold/h2o/band03b_wn_620_720/nv_200/dv_0.005/ng_6/g_ascending_k_descending/refPTs_P_600_T_250/ng_refs_6/getabsth_auto/absth_dlogN_uniform/wgt_0.8_0.8_0.8_0.6_0.6_0.9/wgt_flux_2/wgt_k_1/klin_1e-24/w_diffuse_1.66_1.66_1.66_1.66_1.66_1.66/crd_9d81085/atmpro_saw\n"
     ]
    }
   ],
   "source": [
    "p = pipeline.analyse_case(params[10])"
   ]
  },
  {
   "cell_type": "code",
   "execution_count": 171,
   "metadata": {},
   "outputs": [
    {
     "data": {
      "text/plain": [
       "0"
      ]
     },
     "execution_count": 171,
     "metadata": {},
     "output_type": "execute_result"
    }
   ],
   "source": [
    "p.poll()"
   ]
  },
  {
   "cell_type": "code",
   "execution_count": 172,
   "metadata": {
    "collapsed": true
   },
   "outputs": [],
   "source": [
    "out, error = p.communicate()"
   ]
  },
  {
   "cell_type": "code",
   "execution_count": 174,
   "metadata": {},
   "outputs": [
    {
     "data": {
      "text/plain": [
       "b'[NbConvertApp] Converting notebook results.ipynb to notebook\\n[NbConvertApp] Executing notebook with kernel: python3\\n[NbConvertApp] Writing 911839 bytes to results.ipynb\\n'"
      ]
     },
     "execution_count": 174,
     "metadata": {},
     "output_type": "execute_result"
    }
   ],
   "source": [
    "error"
   ]
  },
  {
   "cell_type": "code",
   "execution_count": 139,
   "metadata": {},
   "outputs": [
    {
     "name": "stdout",
     "output_type": "stream",
     "text": [
      "/chia_cluster/home/jackyu/radiation/offline_radiation_notebooks/longwave/lblnew_20160916/study__g1_threshold/h2o/band03b_wn_620_720/nv_200/dv_0.005/ng_6/g_ascending_k_descending/refPTs_P_600_T_250/ng_refs_6/getabsth_auto/absth_dlogN_uniform/wgt_0.8_0.8_0.8_0.6_0.6_0.9/wgt_flux_2/wgt_k_1/klin_1e-24/w_diffuse_1.66_1.66_1.66_1.66_1.66_1.66/crd_9d81085/atmpro_saw\n",
      "b''\n",
      "b''\n",
      ":p\n"
     ]
    }
   ],
   "source": [
    "p = pipeline.git_addcommit(params[10])"
   ]
  },
  {
   "cell_type": "code",
   "execution_count": 166,
   "metadata": {},
   "outputs": [
    {
     "data": {
      "text/plain": [
       "b'[NbConvertApp] Converting notebook results.ipynb to notebook\\n[NbConvertApp] Executing notebook with kernel: python3\\n[NbConvertApp] ERROR | Error while converting \\'results.ipynb\\'\\nTraceback (most recent call last):\\n  File \"/chia_cluster/home/jackyu/anaconda3/lib/python3.6/site-packages/nbconvert/nbconvertapp.py\", line 373, in export_single_notebook\\n    output, resources = self.exporter.from_filename(notebook_filename, resources=resources)\\n  File \"/chia_cluster/home/jackyu/anaconda3/lib/python3.6/site-packages/nbconvert/exporters/exporter.py\", line 171, in from_filename\\n    return self.from_file(f, resources=resources, **kw)\\n  File \"/chia_cluster/home/jackyu/anaconda3/lib/python3.6/site-packages/nbconvert/exporters/exporter.py\", line 189, in from_file\\n    return self.from_notebook_node(nbformat.read(file_stream, as_version=4), resources=resources, **kw)\\n  File \"/chia_cluster/home/jackyu/anaconda3/lib/python3.6/site-packages/nbconvert/exporters/notebook.py\", line 31, in from_notebook_node\\n    nb_copy, resources = super(NotebookExporter, self).from_notebook_node(nb, resources, **kw)\\n  File \"/chia_cluster/home/jackyu/anaconda3/lib/python3.6/site-packages/nbconvert/exporters/exporter.py\", line 131, in from_notebook_node\\n    nb_copy, resources = self._preprocess(nb_copy, resources)\\n  File \"/chia_cluster/home/jackyu/anaconda3/lib/python3.6/site-packages/nbconvert/exporters/exporter.py\", line 308, in _preprocess\\n    nbc, resc = preprocessor(nbc, resc)\\n  File \"/chia_cluster/home/jackyu/anaconda3/lib/python3.6/site-packages/nbconvert/preprocessors/base.py\", line 47, in __call__\\n    return self.preprocess(nb,resources)\\n  File \"/chia_cluster/home/jackyu/anaconda3/lib/python3.6/site-packages/nbconvert/preprocessors/execute.py\", line 211, in preprocess\\n    nb, resources = super(ExecutePreprocessor, self).preprocess(nb, resources)\\n  File \"/chia_cluster/home/jackyu/anaconda3/lib/python3.6/site-packages/nbconvert/preprocessors/base.py\", line 70, in preprocess\\n    nb.cells[index], resources = self.preprocess_cell(cell, resources, index)\\n  File \"/chia_cluster/home/jackyu/anaconda3/lib/python3.6/site-packages/nbconvert/preprocessors/execute.py\", line 242, in preprocess_cell\\n    raise CellExecutionError(msg)\\nnbconvert.preprocessors.execute.CellExecutionError: An error occurred while executing the following cell:\\n------------------\\n%matplotlib inline\\nimport os\\nimport re\\nimport io\\n\\nimport matplotlib\\nimport numpy as np\\nimport pandas as pd\\nimport xarray as xr\\n\\nimport climatools.html.html as climahtml\\nimport climatools.scripts.g1_threshold as scripts\\n\\nimport IPython.display as display\\n\\nimport imp\\nimp.reload(scripts)\\n------------------\\n\\nModuleNotFoundError: No module named \\'climatools.scripts\\'\\n\\n'"
      ]
     },
     "execution_count": 166,
     "metadata": {},
     "output_type": "execute_result"
    }
   ],
   "source": [
    "error"
   ]
  },
  {
   "cell_type": "code",
   "execution_count": 109,
   "metadata": {
    "scrolled": false
   },
   "outputs": [
    {
     "name": "stdout",
     "output_type": "stream",
     "text": [
      "/chia_cluster/home/jackyu/radiation/crd/LW/examples/separate_g_groups/study__lblnew_g1_threshold/h2o/band01_wn_0_340/nv_200/dv_0.005/ng_9/g_ascending_k_descending/refPTs_P_1_T_250__P_30_T_250__P_300_T_250/ng_refs_3__2__4/getabsth_auto__auto__auto/absth_dlogN_uniform__dlogN_uniform__dlogN_uniform/wgt_0.3_0.3_0.3__0.3_0.3__0.3_0.6_0.6_0.6/wgt_flux_2/wgt_k_1/klin_4.06197e-22/w_diffuse_1.66_1.66_1.66__1.66_1.66__1.66_1.66_1.66_1.66/crd_9d81085/atmpro_mls\n",
      "/chia_cluster/home/jackyu/radiation/crd/LW/examples/separate_g_groups/study__lblnew_g1_threshold/h2o/band01_wn_0_340/nv_200/dv_0.005/ng_9/g_ascending_k_descending/refPTs_P_1_T_250__P_30_T_250__P_300_T_250/ng_refs_3__2__4/getabsth_auto__auto__auto/absth_dlogN_uniform__dlogN_uniform__dlogN_uniform/wgt_0.3_0.3_0.3__0.3_0.3__0.3_0.6_0.6_0.6/wgt_flux_2/wgt_k_1/klin_4.06197e-22/w_diffuse_1.66_1.66_1.66__1.66_1.66__1.66_1.66_1.66_1.66/crd_9d81085/atmpro_saw\n",
      "/chia_cluster/home/jackyu/radiation/crd/LW/examples/separate_g_groups/study__lblnew_g1_threshold/h2o/band01_wn_0_340/nv_200/dv_0.005/ng_9/g_ascending_k_descending/refPTs_P_1_T_250__P_30_T_250__P_300_T_250/ng_refs_3__2__4/getabsth_auto__auto__auto/absth_dlogN_uniform__dlogN_uniform__dlogN_uniform/wgt_0.3_0.3_0.3__0.3_0.3__0.3_0.6_0.6_0.6/wgt_flux_2/wgt_k_1/klin_4.06197e-22/w_diffuse_1.66_1.66_1.66__1.66_1.66__1.66_1.66_1.66_1.66/crd_9d81085/atmpro_trp\n",
      "/chia_cluster/home/jackyu/radiation/crd/LW/examples/separate_g_groups/study__lblnew_g1_threshold/h2o/band02_wn_340_540/nv_200/dv_0.005/ng_10/g_ascending_k_descending/refPTs_P_1_T_250__P_10_T_250__P_500_T_250/ng_refs_2__2__6/getabsth_auto__auto__auto/absth_dlogN_uniform__dlogN_uniform__dlogN_uniform/wgt_0.4_0.4__0.4_0.4__0.4_0.4_0.4_0.4_0.4_0.7/wgt_flux_2/wgt_k_1/klin_none/w_diffuse_1.66_1.66__1.66_1.66__1.66_1.66_1.66_1.66_1.66_1.66/crd_9d81085/atmpro_mls\n",
      "/chia_cluster/home/jackyu/radiation/crd/LW/examples/separate_g_groups/study__lblnew_g1_threshold/h2o/band02_wn_340_540/nv_200/dv_0.005/ng_10/g_ascending_k_descending/refPTs_P_1_T_250__P_10_T_250__P_500_T_250/ng_refs_2__2__6/getabsth_auto__auto__auto/absth_dlogN_uniform__dlogN_uniform__dlogN_uniform/wgt_0.4_0.4__0.4_0.4__0.4_0.4_0.4_0.4_0.4_0.7/wgt_flux_2/wgt_k_1/klin_none/w_diffuse_1.66_1.66__1.66_1.66__1.66_1.66_1.66_1.66_1.66_1.66/crd_9d81085/atmpro_saw\n",
      "/chia_cluster/home/jackyu/radiation/crd/LW/examples/separate_g_groups/study__lblnew_g1_threshold/h2o/band02_wn_340_540/nv_200/dv_0.005/ng_10/g_ascending_k_descending/refPTs_P_1_T_250__P_10_T_250__P_500_T_250/ng_refs_2__2__6/getabsth_auto__auto__auto/absth_dlogN_uniform__dlogN_uniform__dlogN_uniform/wgt_0.4_0.4__0.4_0.4__0.4_0.4_0.4_0.4_0.4_0.7/wgt_flux_2/wgt_k_1/klin_none/w_diffuse_1.66_1.66__1.66_1.66__1.66_1.66_1.66_1.66_1.66_1.66/crd_9d81085/atmpro_trp\n",
      "/chia_cluster/home/jackyu/radiation/crd/LW/examples/separate_g_groups/study__lblnew_g1_threshold/h2o/band03a_wn_540_620/nv_200/dv_0.005/ng_7/g_ascending_k_descending/refPTs_P_600_T_250/ng_refs_7/getabsth_auto/absth_dlogN_uniform/wgt_0.7_0.7_0.7_0.5_0.5_0.5_0.5/wgt_flux_2/wgt_k_1/klin_none/w_diffuse_1.9_1.7_1.4_1.4_1.4_1.55_1.6/crd_9d81085/atmpro_mls\n",
      "/chia_cluster/home/jackyu/radiation/crd/LW/examples/separate_g_groups/study__lblnew_g1_threshold/h2o/band03a_wn_540_620/nv_200/dv_0.005/ng_7/g_ascending_k_descending/refPTs_P_600_T_250/ng_refs_7/getabsth_auto/absth_dlogN_uniform/wgt_0.7_0.7_0.7_0.5_0.5_0.5_0.5/wgt_flux_2/wgt_k_1/klin_none/w_diffuse_1.9_1.7_1.4_1.4_1.4_1.55_1.6/crd_9d81085/atmpro_saw\n",
      "/chia_cluster/home/jackyu/radiation/crd/LW/examples/separate_g_groups/study__lblnew_g1_threshold/h2o/band03a_wn_540_620/nv_200/dv_0.005/ng_7/g_ascending_k_descending/refPTs_P_600_T_250/ng_refs_7/getabsth_auto/absth_dlogN_uniform/wgt_0.7_0.7_0.7_0.5_0.5_0.5_0.5/wgt_flux_2/wgt_k_1/klin_none/w_diffuse_1.9_1.7_1.4_1.4_1.4_1.55_1.6/crd_9d81085/atmpro_trp\n",
      "/chia_cluster/home/jackyu/radiation/crd/LW/examples/separate_g_groups/study__lblnew_g1_threshold/h2o/band03b_wn_620_720/nv_200/dv_0.005/ng_6/g_ascending_k_descending/refPTs_P_600_T_250/ng_refs_6/getabsth_auto/absth_dlogN_uniform/wgt_0.8_0.8_0.8_0.6_0.6_0.9/wgt_flux_2/wgt_k_1/klin_1e-24/w_diffuse_1.66_1.66_1.66_1.66_1.66_1.66/crd_9d81085/atmpro_mls\n",
      "/chia_cluster/home/jackyu/radiation/crd/LW/examples/separate_g_groups/study__lblnew_g1_threshold/h2o/band03b_wn_620_720/nv_200/dv_0.005/ng_6/g_ascending_k_descending/refPTs_P_600_T_250/ng_refs_6/getabsth_auto/absth_dlogN_uniform/wgt_0.8_0.8_0.8_0.6_0.6_0.9/wgt_flux_2/wgt_k_1/klin_1e-24/w_diffuse_1.66_1.66_1.66_1.66_1.66_1.66/crd_9d81085/atmpro_saw\n",
      "/chia_cluster/home/jackyu/radiation/crd/LW/examples/separate_g_groups/study__lblnew_g1_threshold/h2o/band03b_wn_620_720/nv_200/dv_0.005/ng_6/g_ascending_k_descending/refPTs_P_600_T_250/ng_refs_6/getabsth_auto/absth_dlogN_uniform/wgt_0.8_0.8_0.8_0.6_0.6_0.9/wgt_flux_2/wgt_k_1/klin_1e-24/w_diffuse_1.66_1.66_1.66_1.66_1.66_1.66/crd_9d81085/atmpro_trp\n",
      "/chia_cluster/home/jackyu/radiation/crd/LW/examples/separate_g_groups/study__lblnew_g1_threshold/h2o/band03c_wn_720_800/nv_200/dv_0.005/ng_5/g_ascending_k_descending/refPTs_P_600_T_250/ng_refs_5/getabsth_auto/absth_dlogN_uniform/wgt_0.5_0.5_0.6_0.7_0.9/wgt_flux_2/wgt_k_1/klin_5e-25/w_diffuse_1.55_1.6_1.66_1.66_1.8/crd_9d81085/atmpro_mls\n",
      "/chia_cluster/home/jackyu/radiation/crd/LW/examples/separate_g_groups/study__lblnew_g1_threshold/h2o/band03c_wn_720_800/nv_200/dv_0.005/ng_5/g_ascending_k_descending/refPTs_P_600_T_250/ng_refs_5/getabsth_auto/absth_dlogN_uniform/wgt_0.5_0.5_0.6_0.7_0.9/wgt_flux_2/wgt_k_1/klin_5e-25/w_diffuse_1.55_1.6_1.66_1.66_1.8/crd_9d81085/atmpro_saw\n",
      "/chia_cluster/home/jackyu/radiation/crd/LW/examples/separate_g_groups/study__lblnew_g1_threshold/h2o/band03c_wn_720_800/nv_200/dv_0.005/ng_5/g_ascending_k_descending/refPTs_P_600_T_250/ng_refs_5/getabsth_auto/absth_dlogN_uniform/wgt_0.5_0.5_0.6_0.7_0.9/wgt_flux_2/wgt_k_1/klin_5e-25/w_diffuse_1.55_1.6_1.66_1.66_1.8/crd_9d81085/atmpro_trp\n",
      "\n",
      "\n",
      "/chia_cluster/home/jackyu/radiation/offline_radiation_notebooks/longwave/lblnew_20160916/study__g1_threshold/h2o/band03c_wn_720_800/nv_200/dv_0.005/ng_5/g_ascending_k_descending/refPTs_P_600_T_250/ng_refs_5/getabsth_auto/absth_dlogN_uniform/wgt_0.5_0.5_0.6_0.7_0.9/wgt_flux_2/wgt_k_1/klin_5e-25/w_diffuse_1.55_1.6_1.66_1.66_1.8/crd_9d81085/atmpro_mls\n",
      "/chia_cluster/home/jackyu/radiation/offline_radiation_notebooks/longwave/lblnew_20160916/study__g1_threshold/h2o/band03c_wn_720_800/nv_200/dv_0.005/ng_5/g_ascending_k_descending/refPTs_P_600_T_250/ng_refs_5/getabsth_auto/absth_dlogN_uniform/wgt_0.5_0.5_0.6_0.7_0.9/wgt_flux_2/wgt_k_1/klin_5e-25/w_diffuse_1.55_1.6_1.66_1.66_1.8/crd_9d81085/atmpro_trp\n",
      "/chia_cluster/home/jackyu/radiation/offline_radiation_notebooks/longwave/lblnew_20160916/study__g1_threshold/h2o/band03c_wn_720_800/nv_200/dv_0.005/ng_5/g_ascending_k_descending/refPTs_P_600_T_250/ng_refs_5/getabsth_auto/absth_dlogN_uniform/wgt_0.5_0.5_0.6_0.7_0.9/wgt_flux_2/wgt_k_1/klin_5e-25/w_diffuse_1.55_1.6_1.66_1.66_1.8/crd_9d81085/atmpro_saw\n",
      "/chia_cluster/home/jackyu/radiation/offline_radiation_notebooks/longwave/lblnew_20160916/study__g1_threshold/h2o/band03a_wn_540_620/nv_200/dv_0.005/ng_7/g_ascending_k_descending/refPTs_P_600_T_250/ng_refs_7/getabsth_auto/absth_dlogN_uniform/wgt_0.7_0.7_0.7_0.5_0.5_0.5_0.5/wgt_flux_2/wgt_k_1/klin_none/w_diffuse_1.9_1.7_1.4_1.4_1.4_1.55_1.6/crd_9d81085/atmpro_trp\n",
      "/chia_cluster/home/jackyu/radiation/offline_radiation_notebooks/longwave/lblnew_20160916/study__g1_threshold/h2o/band03a_wn_540_620/nv_200/dv_0.005/ng_7/g_ascending_k_descending/refPTs_P_600_T_250/ng_refs_7/getabsth_auto/absth_dlogN_uniform/wgt_0.7_0.7_0.7_0.5_0.5_0.5_0.5/wgt_flux_2/wgt_k_1/klin_none/w_diffuse_1.9_1.7_1.4_1.4_1.4_1.55_1.6/crd_9d81085/atmpro_mls\n",
      "/chia_cluster/home/jackyu/radiation/offline_radiation_notebooks/longwave/lblnew_20160916/study__g1_threshold/h2o/band03a_wn_540_620/nv_200/dv_0.005/ng_7/g_ascending_k_descending/refPTs_P_600_T_250/ng_refs_7/getabsth_auto/absth_dlogN_uniform/wgt_0.7_0.7_0.7_0.5_0.5_0.5_0.5/wgt_flux_2/wgt_k_1/klin_none/w_diffuse_1.9_1.7_1.4_1.4_1.4_1.55_1.6/crd_9d81085/atmpro_saw\n",
      "/chia_cluster/home/jackyu/radiation/offline_radiation_notebooks/longwave/lblnew_20160916/study__g1_threshold/h2o/band03b_wn_620_720/nv_200/dv_0.005/ng_6/g_ascending_k_descending/refPTs_P_600_T_250/ng_refs_6/getabsth_auto/absth_dlogN_uniform/wgt_0.8_0.8_0.8_0.6_0.6_0.9/wgt_flux_2/wgt_k_1/klin_1e-24/w_diffuse_1.66_1.66_1.66_1.66_1.66_1.66/crd_9d81085/atmpro_mls\n",
      "/chia_cluster/home/jackyu/radiation/offline_radiation_notebooks/longwave/lblnew_20160916/study__g1_threshold/h2o/band03b_wn_620_720/nv_200/dv_0.005/ng_6/g_ascending_k_descending/refPTs_P_600_T_250/ng_refs_6/getabsth_auto/absth_dlogN_uniform/wgt_0.8_0.8_0.8_0.6_0.6_0.9/wgt_flux_2/wgt_k_1/klin_1e-24/w_diffuse_1.66_1.66_1.66_1.66_1.66_1.66/crd_9d81085/atmpro_trp\n"
     ]
    },
    {
     "name": "stdout",
     "output_type": "stream",
     "text": [
      "/chia_cluster/home/jackyu/radiation/offline_radiation_notebooks/longwave/lblnew_20160916/study__g1_threshold/h2o/band03b_wn_620_720/nv_200/dv_0.005/ng_6/g_ascending_k_descending/refPTs_P_600_T_250/ng_refs_6/getabsth_auto/absth_dlogN_uniform/wgt_0.8_0.8_0.8_0.6_0.6_0.9/wgt_flux_2/wgt_k_1/klin_1e-24/w_diffuse_1.66_1.66_1.66_1.66_1.66_1.66/crd_9d81085/atmpro_saw\n",
      "/chia_cluster/home/jackyu/radiation/offline_radiation_notebooks/longwave/lblnew_20160916/study__g1_threshold/h2o/band02_wn_340_540/nv_200/dv_0.005/ng_10/g_ascending_k_descending/refPTs_P_1_T_250__P_10_T_250__P_500_T_250/ng_refs_2__2__6/getabsth_auto__auto__auto/absth_dlogN_uniform__dlogN_uniform__dlogN_uniform/wgt_0.4_0.4__0.4_0.4__0.4_0.4_0.4_0.4_0.4_0.7/wgt_flux_2/wgt_k_1/klin_none/w_diffuse_1.66_1.66__1.66_1.66__1.66_1.66_1.66_1.66_1.66_1.66/crd_9d81085/atmpro_saw\n",
      "/chia_cluster/home/jackyu/radiation/offline_radiation_notebooks/longwave/lblnew_20160916/study__g1_threshold/h2o/band02_wn_340_540/nv_200/dv_0.005/ng_10/g_ascending_k_descending/refPTs_P_1_T_250__P_10_T_250__P_500_T_250/ng_refs_2__2__6/getabsth_auto__auto__auto/absth_dlogN_uniform__dlogN_uniform__dlogN_uniform/wgt_0.4_0.4__0.4_0.4__0.4_0.4_0.4_0.4_0.4_0.7/wgt_flux_2/wgt_k_1/klin_none/w_diffuse_1.66_1.66__1.66_1.66__1.66_1.66_1.66_1.66_1.66_1.66/crd_9d81085/atmpro_trp\n",
      "/chia_cluster/home/jackyu/radiation/offline_radiation_notebooks/longwave/lblnew_20160916/study__g1_threshold/h2o/band02_wn_340_540/nv_200/dv_0.005/ng_10/g_ascending_k_descending/refPTs_P_1_T_250__P_10_T_250__P_500_T_250/ng_refs_2__2__6/getabsth_auto__auto__auto/absth_dlogN_uniform__dlogN_uniform__dlogN_uniform/wgt_0.4_0.4__0.4_0.4__0.4_0.4_0.4_0.4_0.4_0.7/wgt_flux_2/wgt_k_1/klin_none/w_diffuse_1.66_1.66__1.66_1.66__1.66_1.66_1.66_1.66_1.66_1.66/crd_9d81085/atmpro_mls\n",
      "/chia_cluster/home/jackyu/radiation/offline_radiation_notebooks/longwave/lblnew_20160916/study__g1_threshold/h2o/band01_wn_0_340/nv_200/dv_0.005/ng_9/g_ascending_k_descending/refPTs_P_1_T_250__P_30_T_250__P_300_T_250/ng_refs_3__2__4/getabsth_auto__auto__auto/absth_dlogN_uniform__dlogN_uniform__dlogN_uniform/wgt_0.3_0.3_0.3__0.3_0.3__0.3_0.6_0.6_0.6/wgt_flux_2/wgt_k_1/klin_4.06197e-22/w_diffuse_1.66_1.66_1.66__1.66_1.66__1.66_1.66_1.66_1.66/crd_9d81085/atmpro_trp\n",
      "/chia_cluster/home/jackyu/radiation/offline_radiation_notebooks/longwave/lblnew_20160916/study__g1_threshold/h2o/band01_wn_0_340/nv_200/dv_0.005/ng_9/g_ascending_k_descending/refPTs_P_1_T_250__P_30_T_250__P_300_T_250/ng_refs_3__2__4/getabsth_auto__auto__auto/absth_dlogN_uniform__dlogN_uniform__dlogN_uniform/wgt_0.3_0.3_0.3__0.3_0.3__0.3_0.6_0.6_0.6/wgt_flux_2/wgt_k_1/klin_4.06197e-22/w_diffuse_1.66_1.66_1.66__1.66_1.66__1.66_1.66_1.66_1.66/crd_9d81085/atmpro_saw\n",
      "/chia_cluster/home/jackyu/radiation/offline_radiation_notebooks/longwave/lblnew_20160916/study__g1_threshold/h2o/band01_wn_0_340/nv_200/dv_0.005/ng_9/g_ascending_k_descending/refPTs_P_1_T_250__P_30_T_250__P_300_T_250/ng_refs_3__2__4/getabsth_auto__auto__auto/absth_dlogN_uniform__dlogN_uniform__dlogN_uniform/wgt_0.3_0.3_0.3__0.3_0.3__0.3_0.6_0.6_0.6/wgt_flux_2/wgt_k_1/klin_4.06197e-22/w_diffuse_1.66_1.66_1.66__1.66_1.66__1.66_1.66_1.66_1.66/crd_9d81085/atmpro_mls\n",
      "\n",
      "/chia_cluster/home/jackyu/radiation/offline_radiation_notebooks/longwave/lblnew_20160916/study__g1_threshold/h2o/band03c_wn_720_800/nv_200/dv_0.005/ng_5/g_ascending_k_descending/refPTs_P_600_T_250/ng_refs_5/getabsth_auto/absth_dlogN_uniform/wgt_0.5_0.5_0.6_0.7_0.9/wgt_flux_2/wgt_k_1/klin_5e-25/w_diffuse_1.55_1.6_1.66_1.66_1.8/crd_9d81085/atmpro_mls\n",
      "/chia_cluster/home/jackyu/radiation/offline_radiation_notebooks/longwave/lblnew_20160916/study__g1_threshold/h2o/band03c_wn_720_800/nv_200/dv_0.005/ng_5/g_ascending_k_descending/refPTs_P_600_T_250/ng_refs_5/getabsth_auto/absth_dlogN_uniform/wgt_0.5_0.5_0.6_0.7_0.9/wgt_flux_2/wgt_k_1/klin_5e-25/w_diffuse_1.55_1.6_1.66_1.66_1.8/crd_9d81085/atmpro_trp\n",
      "/chia_cluster/home/jackyu/radiation/offline_radiation_notebooks/longwave/lblnew_20160916/study__g1_threshold/h2o/band03c_wn_720_800/nv_200/dv_0.005/ng_5/g_ascending_k_descending/refPTs_P_600_T_250/ng_refs_5/getabsth_auto/absth_dlogN_uniform/wgt_0.5_0.5_0.6_0.7_0.9/wgt_flux_2/wgt_k_1/klin_5e-25/w_diffuse_1.55_1.6_1.66_1.66_1.8/crd_9d81085/atmpro_saw\n",
      "/chia_cluster/home/jackyu/radiation/offline_radiation_notebooks/longwave/lblnew_20160916/study__g1_threshold/h2o/band03a_wn_540_620/nv_200/dv_0.005/ng_7/g_ascending_k_descending/refPTs_P_600_T_250/ng_refs_7/getabsth_auto/absth_dlogN_uniform/wgt_0.7_0.7_0.7_0.5_0.5_0.5_0.5/wgt_flux_2/wgt_k_1/klin_none/w_diffuse_1.9_1.7_1.4_1.4_1.4_1.55_1.6/crd_9d81085/atmpro_trp\n",
      "/chia_cluster/home/jackyu/radiation/offline_radiation_notebooks/longwave/lblnew_20160916/study__g1_threshold/h2o/band03a_wn_540_620/nv_200/dv_0.005/ng_7/g_ascending_k_descending/refPTs_P_600_T_250/ng_refs_7/getabsth_auto/absth_dlogN_uniform/wgt_0.7_0.7_0.7_0.5_0.5_0.5_0.5/wgt_flux_2/wgt_k_1/klin_none/w_diffuse_1.9_1.7_1.4_1.4_1.4_1.55_1.6/crd_9d81085/atmpro_mls\n",
      "/chia_cluster/home/jackyu/radiation/offline_radiation_notebooks/longwave/lblnew_20160916/study__g1_threshold/h2o/band03a_wn_540_620/nv_200/dv_0.005/ng_7/g_ascending_k_descending/refPTs_P_600_T_250/ng_refs_7/getabsth_auto/absth_dlogN_uniform/wgt_0.7_0.7_0.7_0.5_0.5_0.5_0.5/wgt_flux_2/wgt_k_1/klin_none/w_diffuse_1.9_1.7_1.4_1.4_1.4_1.55_1.6/crd_9d81085/atmpro_saw\n",
      "/chia_cluster/home/jackyu/radiation/offline_radiation_notebooks/longwave/lblnew_20160916/study__g1_threshold/h2o/band03b_wn_620_720/nv_200/dv_0.005/ng_6/g_ascending_k_descending/refPTs_P_600_T_250/ng_refs_6/getabsth_auto/absth_dlogN_uniform/wgt_0.8_0.8_0.8_0.6_0.6_0.9/wgt_flux_2/wgt_k_1/klin_1e-24/w_diffuse_1.66_1.66_1.66_1.66_1.66_1.66/crd_9d81085/atmpro_mls\n",
      "/chia_cluster/home/jackyu/radiation/offline_radiation_notebooks/longwave/lblnew_20160916/study__g1_threshold/h2o/band03b_wn_620_720/nv_200/dv_0.005/ng_6/g_ascending_k_descending/refPTs_P_600_T_250/ng_refs_6/getabsth_auto/absth_dlogN_uniform/wgt_0.8_0.8_0.8_0.6_0.6_0.9/wgt_flux_2/wgt_k_1/klin_1e-24/w_diffuse_1.66_1.66_1.66_1.66_1.66_1.66/crd_9d81085/atmpro_trp\n",
      "/chia_cluster/home/jackyu/radiation/offline_radiation_notebooks/longwave/lblnew_20160916/study__g1_threshold/h2o/band03b_wn_620_720/nv_200/dv_0.005/ng_6/g_ascending_k_descending/refPTs_P_600_T_250/ng_refs_6/getabsth_auto/absth_dlogN_uniform/wgt_0.8_0.8_0.8_0.6_0.6_0.9/wgt_flux_2/wgt_k_1/klin_1e-24/w_diffuse_1.66_1.66_1.66_1.66_1.66_1.66/crd_9d81085/atmpro_saw\n",
      "/chia_cluster/home/jackyu/radiation/offline_radiation_notebooks/longwave/lblnew_20160916/study__g1_threshold/h2o/band02_wn_340_540/nv_200/dv_0.005/ng_10/g_ascending_k_descending/refPTs_P_1_T_250__P_10_T_250__P_500_T_250/ng_refs_2__2__6/getabsth_auto__auto__auto/absth_dlogN_uniform__dlogN_uniform__dlogN_uniform/wgt_0.4_0.4__0.4_0.4__0.4_0.4_0.4_0.4_0.4_0.7/wgt_flux_2/wgt_k_1/klin_none/w_diffuse_1.66_1.66__1.66_1.66__1.66_1.66_1.66_1.66_1.66_1.66/crd_9d81085/atmpro_saw\n",
      "/chia_cluster/home/jackyu/radiation/offline_radiation_notebooks/longwave/lblnew_20160916/study__g1_threshold/h2o/band02_wn_340_540/nv_200/dv_0.005/ng_10/g_ascending_k_descending/refPTs_P_1_T_250__P_10_T_250__P_500_T_250/ng_refs_2__2__6/getabsth_auto__auto__auto/absth_dlogN_uniform__dlogN_uniform__dlogN_uniform/wgt_0.4_0.4__0.4_0.4__0.4_0.4_0.4_0.4_0.4_0.7/wgt_flux_2/wgt_k_1/klin_none/w_diffuse_1.66_1.66__1.66_1.66__1.66_1.66_1.66_1.66_1.66_1.66/crd_9d81085/atmpro_trp\n",
      "/chia_cluster/home/jackyu/radiation/offline_radiation_notebooks/longwave/lblnew_20160916/study__g1_threshold/h2o/band02_wn_340_540/nv_200/dv_0.005/ng_10/g_ascending_k_descending/refPTs_P_1_T_250__P_10_T_250__P_500_T_250/ng_refs_2__2__6/getabsth_auto__auto__auto/absth_dlogN_uniform__dlogN_uniform__dlogN_uniform/wgt_0.4_0.4__0.4_0.4__0.4_0.4_0.4_0.4_0.4_0.7/wgt_flux_2/wgt_k_1/klin_none/w_diffuse_1.66_1.66__1.66_1.66__1.66_1.66_1.66_1.66_1.66_1.66/crd_9d81085/atmpro_mls\n",
      "/chia_cluster/home/jackyu/radiation/offline_radiation_notebooks/longwave/lblnew_20160916/study__g1_threshold/h2o/band01_wn_0_340/nv_200/dv_0.005/ng_9/g_ascending_k_descending/refPTs_P_1_T_250__P_30_T_250__P_300_T_250/ng_refs_3__2__4/getabsth_auto__auto__auto/absth_dlogN_uniform__dlogN_uniform__dlogN_uniform/wgt_0.3_0.3_0.3__0.3_0.3__0.3_0.6_0.6_0.6/wgt_flux_2/wgt_k_1/klin_4.06197e-22/w_diffuse_1.66_1.66_1.66__1.66_1.66__1.66_1.66_1.66_1.66/crd_9d81085/atmpro_trp\n"
     ]
    },
    {
     "name": "stdout",
     "output_type": "stream",
     "text": [
      "/chia_cluster/home/jackyu/radiation/offline_radiation_notebooks/longwave/lblnew_20160916/study__g1_threshold/h2o/band01_wn_0_340/nv_200/dv_0.005/ng_9/g_ascending_k_descending/refPTs_P_1_T_250__P_30_T_250__P_300_T_250/ng_refs_3__2__4/getabsth_auto__auto__auto/absth_dlogN_uniform__dlogN_uniform__dlogN_uniform/wgt_0.3_0.3_0.3__0.3_0.3__0.3_0.6_0.6_0.6/wgt_flux_2/wgt_k_1/klin_4.06197e-22/w_diffuse_1.66_1.66_1.66__1.66_1.66__1.66_1.66_1.66_1.66/crd_9d81085/atmpro_saw\n",
      "/chia_cluster/home/jackyu/radiation/offline_radiation_notebooks/longwave/lblnew_20160916/study__g1_threshold/h2o/band01_wn_0_340/nv_200/dv_0.005/ng_9/g_ascending_k_descending/refPTs_P_1_T_250__P_30_T_250__P_300_T_250/ng_refs_3__2__4/getabsth_auto__auto__auto/absth_dlogN_uniform__dlogN_uniform__dlogN_uniform/wgt_0.3_0.3_0.3__0.3_0.3__0.3_0.6_0.6_0.6/wgt_flux_2/wgt_k_1/klin_4.06197e-22/w_diffuse_1.66_1.66_1.66__1.66_1.66__1.66_1.66_1.66_1.66/crd_9d81085/atmpro_mls\n"
     ]
    }
   ],
   "source": [
    "gprocs = lblnew.run_pipieline(params)"
   ]
  },
  {
   "cell_type": "code",
   "execution_count": null,
   "metadata": {
    "collapsed": true
   },
   "outputs": [],
   "source": []
  }
 ],
 "metadata": {
  "kernelspec": {
   "display_name": "Python 3",
   "language": "python",
   "name": "python3"
  },
  "language_info": {
   "codemirror_mode": {
    "name": "ipython",
    "version": 3
   },
   "file_extension": ".py",
   "mimetype": "text/x-python",
   "name": "python",
   "nbconvert_exporter": "python",
   "pygments_lexer": "ipython3",
   "version": "3.6.1"
  }
 },
 "nbformat": 4,
 "nbformat_minor": 2
}
