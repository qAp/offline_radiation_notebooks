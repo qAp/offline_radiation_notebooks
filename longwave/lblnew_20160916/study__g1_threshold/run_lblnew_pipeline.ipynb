{
 "cells": [
  {
   "cell_type": "code",
   "execution_count": 24,
   "metadata": {},
   "outputs": [
    {
     "data": {
      "text/plain": [
       "<module 'climatools.scripts.lblnew_pipeline' from '/chia_cluster/home/jackyu/climatools/climatools/scripts/lblnew_pipeline.py'>"
      ]
     },
     "execution_count": 24,
     "metadata": {},
     "output_type": "execute_result"
    }
   ],
   "source": [
    "import climatools.scripts.lblnew_pipeline as lblnew\n",
    "\n",
    "import shutil\n",
    "import importlib\n",
    "\n",
    "import climatools.clirad.info as clirad\n",
    "\n",
    "importlib.reload(lblnew)"
   ]
  },
  {
   "cell_type": "code",
   "execution_count": 25,
   "metadata": {},
   "outputs": [
    {
     "data": {
      "text/plain": [
       "{'1': [(0, 340)],\n",
       " '10': [(540, 620)],\n",
       " '2': [(340, 540)],\n",
       " '3a': [(540, 620)],\n",
       " '3b': [(620, 720)],\n",
       " '3c': [(720, 800)],\n",
       " '4': [(800, 980)],\n",
       " '5': [(980, 1100)],\n",
       " '6': [(1100, 1215)],\n",
       " '7': [(1215, 1380)],\n",
       " '8': [(1380, 1900)],\n",
       " '9': [(1900, 3000)]}"
      ]
     },
     "execution_count": 25,
     "metadata": {},
     "output_type": "execute_result"
    }
   ],
   "source": [
    "clirad.wavenumber_bands(region='lw')"
   ]
  },
  {
   "cell_type": "code",
   "execution_count": 7,
   "metadata": {
    "collapsed": true
   },
   "outputs": [],
   "source": [
    "# test case for overlapping\n",
    "\n",
    "h2o_band08_test = {\n",
    "    'molecule': 'h2o',\n",
    "    'band': '8',\n",
    "    'dv': .05, \n",
    "    'nv': 20,\n",
    "    'ref_pts': [(1, 250), (10, 250), (500, 250)],\n",
    "    'ng_refs': [3, 2, 3],\n",
    "    'option_wgt_flux': 2,\n",
    "    'option_wgt_k': 1,\n",
    "    'klin': 0,\n",
    "    'wgt': [(.55, .55, .85), (.85, .85), (0., .3, .55)],\n",
    "    'w_diffuse': [(1.66, 1.66, 1.66), (1.66, 1.66), (1.66, 1.66, 1.66)],\n",
    "    'atmpro': 'mls',\n",
    "    'tsfc': 294.,\n",
    "    'commitnumber': '79e7d57'\n",
    "}\n"
   ]
  },
  {
   "cell_type": "code",
   "execution_count": 8,
   "metadata": {
    "collapsed": true
   },
   "outputs": [],
   "source": [
    "# ch4\n",
    "\n",
    "ch4_band07 = {\n",
    "    'molecule': 'ch4',\n",
    "    'band': '7',\n",
    "    'dv': .005,\n",
    "    'nv': 200,\n",
    "    'ref_pts': [(1, 250), (500, 250)],\n",
    "    'ng_refs': [2, 2],\n",
    "    'option_wgt_flux': 2,\n",
    "    'option_wgt_k': 1,\n",
    "    'klin': 0,\n",
    "    'wgt': [(.6, .6), (.7, .9)],\n",
    "    'w_diffuse': [(1.66, 1.66), (1.66, 1.66)],\n",
    "    'atmpro': 'mls',\n",
    "    'tsfc': 294,\n",
    "    'commitnumber': '90e01dd'\n",
    "}"
   ]
  },
  {
   "cell_type": "code",
   "execution_count": 37,
   "metadata": {
    "collapsed": true
   },
   "outputs": [],
   "source": [
    "# n2o\n",
    "\n",
    "n2o_band07 = {\n",
    "    'molecule': 'n2o',\n",
    "    'band': '7',\n",
    "    'dv': .005,\n",
    "    'nv': 200,\n",
    "    'ref_pts': [(1, 250), (500, 250)],\n",
    "    'ng_refs': [2, 2],\n",
    "    'option_wgt_flux': 2,\n",
    "    'option_wgt_k': 1,\n",
    "    'klin': 2.22e-20,\n",
    "    'wgt': [(.6, .6), (.7, .9)],\n",
    "    'w_diffuse': [(1.8, 1.66), (1.5, 1.8)],\n",
    "    'commitnumber': '435107d'\n",
    "}"
   ]
  },
  {
   "cell_type": "code",
   "execution_count": 43,
   "metadata": {
    "collapsed": true
   },
   "outputs": [],
   "source": [
    "# h2o\n",
    "\n",
    "h2o_band02 = {\n",
    "    'molecule': 'h2o',\n",
    "    'band': '2',\n",
    "    'dv': .005,\n",
    "    'nv': 200,\n",
    "    'ref_pts': [(1, 250), (10, 250), (500, 250)],\n",
    "    'ng_refs': [2, 2, 6],\n",
    "    'option_wgt_flux': 2,\n",
    "    'option_wgt_k': 1,\n",
    "    'klin': 0,\n",
    "    'w_diffuse': [(1.66, 1.66), (1.66, 1.66), \n",
    "                  (1.66, 1.66, 1.66, 1.66, 1.66, 1.66)],\n",
    "    'atmpro': 'saw',\n",
    "    'tsfc': 257,\n",
    "    'commitnumber': '90e01dd'\n",
    "}"
   ]
  },
  {
   "cell_type": "code",
   "execution_count": 44,
   "metadata": {},
   "outputs": [
    {
     "data": {
      "text/plain": [
       "[{'atmpro': 'saw',\n",
       "  'band': '2',\n",
       "  'commitnumber': '90e01dd',\n",
       "  'dv': 0.005,\n",
       "  'klin': 0,\n",
       "  'molecule': 'h2o',\n",
       "  'ng_refs': [2, 2, 6],\n",
       "  'nv': 200,\n",
       "  'option_wgt_flux': 2,\n",
       "  'option_wgt_k': 1,\n",
       "  'ref_pts': [(1, 250), (10, 250), (500, 250)],\n",
       "  'tsfc': 257,\n",
       "  'w_diffuse': [(1.66, 1.66),\n",
       "   (1.66, 1.66),\n",
       "   (1.66, 1.66, 1.66, 1.66, 1.66, 1.66)],\n",
       "  'wgt': [(0.4, 0.4), (0.4, 0.4), (0.4, 0.4, 0.4, 0.4, 0.4, 0.8)]},\n",
       " {'atmpro': 'saw',\n",
       "  'band': '2',\n",
       "  'commitnumber': '90e01dd',\n",
       "  'dv': 0.005,\n",
       "  'klin': 0,\n",
       "  'molecule': 'h2o',\n",
       "  'ng_refs': [2, 2, 6],\n",
       "  'nv': 200,\n",
       "  'option_wgt_flux': 2,\n",
       "  'option_wgt_k': 1,\n",
       "  'ref_pts': [(1, 250), (10, 250), (500, 250)],\n",
       "  'tsfc': 257,\n",
       "  'w_diffuse': [(1.66, 1.66),\n",
       "   (1.66, 1.66),\n",
       "   (1.66, 1.66, 1.66, 1.66, 1.66, 1.66)],\n",
       "  'wgt': [(0.4, 0.4), (0.4, 0.4), (0.4, 0.4, 0.4, 0.4, 0.4, 0.7)]},\n",
       " {'atmpro': 'saw',\n",
       "  'band': '2',\n",
       "  'commitnumber': '90e01dd',\n",
       "  'dv': 0.005,\n",
       "  'klin': 0,\n",
       "  'molecule': 'h2o',\n",
       "  'ng_refs': [2, 2, 6],\n",
       "  'nv': 200,\n",
       "  'option_wgt_flux': 2,\n",
       "  'option_wgt_k': 1,\n",
       "  'ref_pts': [(1, 250), (10, 250), (500, 250)],\n",
       "  'tsfc': 257,\n",
       "  'w_diffuse': [(1.66, 1.66),\n",
       "   (1.66, 1.66),\n",
       "   (1.66, 1.66, 1.66, 1.66, 1.66, 1.66)],\n",
       "  'wgt': [(0.4, 0.4), (0.4, 0.4), (0.4, 0.4, 0.4, 0.4, 0.4, 0.6)]}]"
      ]
     },
     "execution_count": 44,
     "metadata": {},
     "output_type": "execute_result"
    }
   ],
   "source": [
    "params = []\n",
    "\n",
    "wgts = (\n",
    "    [(.4, .4), (.4, .4), (.4, .4, .4, .4, .4, .8)],\n",
    "    [(.4, .4), (.4, .4), (.4, .4, .4, .4, .4, .7)],\n",
    "    [(.4, .4), (.4, .4), (.4, .4, .4, .4, .4, .6)])\n",
    "\n",
    "\n",
    "for gas in [h2o_band02,]:\n",
    "    for wgt in wgts:\n",
    "        param = gas.copy()\n",
    "        param['wgt'] = wgt\n",
    "        params.append(param)\n",
    "        \n",
    "        \n",
    "params"
   ]
  },
  {
   "cell_type": "code",
   "execution_count": 45,
   "metadata": {
    "collapsed": true
   },
   "outputs": [],
   "source": [
    "for param in params:\n",
    "    try:\n",
    "        shutil.rmtree(lblnew.get_dir_case(param))\n",
    "    except FileNotFoundError:\n",
    "        continue"
   ]
  },
  {
   "cell_type": "code",
   "execution_count": 46,
   "metadata": {
    "collapsed": true
   },
   "outputs": [],
   "source": [
    "for param in params:\n",
    "    try:\n",
    "        shutil.rmtree(lblnew.get_analysis_dir(param))\n",
    "    except FileNotFoundError:\n",
    "        continue"
   ]
  },
  {
   "cell_type": "code",
   "execution_count": 47,
   "metadata": {
    "scrolled": false
   },
   "outputs": [
    {
     "name": "stdout",
     "output_type": "stream",
     "text": [
      "/chia_cluster/home/jackyu/radiation/crd/LW/examples/separate_g_groups/study__lblnew_g1_threshold/h2o/band02_wn_340_540/nv_200/dv_0.005/ng_10/g_ascending_k_descending/refPTs_P_1_T_250__P_10_T_250__P_500_T_250/ng_refs_2__2__6/getabsth_auto__auto__auto/absth_dlogN_uniform__dlogN_uniform__dlogN_uniform/wgt_0.4_0.4__0.4_0.4__0.4_0.4_0.4_0.4_0.4_0.8/wgt_flux_2/wgt_k_1/klin_none/w_diffuse_1.66_1.66__1.66_1.66__1.66_1.66_1.66_1.66_1.66_1.66/crd_90e01dd/atmpro_saw\n",
      "/chia_cluster/home/jackyu/radiation/crd/LW/examples/separate_g_groups/study__lblnew_g1_threshold/h2o/band02_wn_340_540/nv_200/dv_0.005/ng_10/g_ascending_k_descending/refPTs_P_1_T_250__P_10_T_250__P_500_T_250/ng_refs_2__2__6/getabsth_auto__auto__auto/absth_dlogN_uniform__dlogN_uniform__dlogN_uniform/wgt_0.4_0.4__0.4_0.4__0.4_0.4_0.4_0.4_0.4_0.7/wgt_flux_2/wgt_k_1/klin_none/w_diffuse_1.66_1.66__1.66_1.66__1.66_1.66_1.66_1.66_1.66_1.66/crd_90e01dd/atmpro_saw\n",
      "/chia_cluster/home/jackyu/radiation/crd/LW/examples/separate_g_groups/study__lblnew_g1_threshold/h2o/band02_wn_340_540/nv_200/dv_0.005/ng_10/g_ascending_k_descending/refPTs_P_1_T_250__P_10_T_250__P_500_T_250/ng_refs_2__2__6/getabsth_auto__auto__auto/absth_dlogN_uniform__dlogN_uniform__dlogN_uniform/wgt_0.4_0.4__0.4_0.4__0.4_0.4_0.4_0.4_0.4_0.6/wgt_flux_2/wgt_k_1/klin_none/w_diffuse_1.66_1.66__1.66_1.66__1.66_1.66_1.66_1.66_1.66_1.66/crd_90e01dd/atmpro_saw\n",
      "\n",
      "\n",
      "/chia_cluster/home/jackyu/radiation/offline_radiation_notebooks/longwave/lblnew_20160916/study__g1_threshold/h2o/band02_wn_340_540/nv_200/dv_0.005/ng_10/g_ascending_k_descending/refPTs_P_1_T_250__P_10_T_250__P_500_T_250/ng_refs_2__2__6/getabsth_auto__auto__auto/absth_dlogN_uniform__dlogN_uniform__dlogN_uniform/wgt_0.4_0.4__0.4_0.4__0.4_0.4_0.4_0.4_0.4_0.8/wgt_flux_2/wgt_k_1/klin_none/w_diffuse_1.66_1.66__1.66_1.66__1.66_1.66_1.66_1.66_1.66_1.66/crd_90e01dd/atmpro_saw\n",
      "/chia_cluster/home/jackyu/radiation/offline_radiation_notebooks/longwave/lblnew_20160916/study__g1_threshold/h2o/band02_wn_340_540/nv_200/dv_0.005/ng_10/g_ascending_k_descending/refPTs_P_1_T_250__P_10_T_250__P_500_T_250/ng_refs_2__2__6/getabsth_auto__auto__auto/absth_dlogN_uniform__dlogN_uniform__dlogN_uniform/wgt_0.4_0.4__0.4_0.4__0.4_0.4_0.4_0.4_0.4_0.7/wgt_flux_2/wgt_k_1/klin_none/w_diffuse_1.66_1.66__1.66_1.66__1.66_1.66_1.66_1.66_1.66_1.66/crd_90e01dd/atmpro_saw\n",
      "/chia_cluster/home/jackyu/radiation/offline_radiation_notebooks/longwave/lblnew_20160916/study__g1_threshold/h2o/band02_wn_340_540/nv_200/dv_0.005/ng_10/g_ascending_k_descending/refPTs_P_1_T_250__P_10_T_250__P_500_T_250/ng_refs_2__2__6/getabsth_auto__auto__auto/absth_dlogN_uniform__dlogN_uniform__dlogN_uniform/wgt_0.4_0.4__0.4_0.4__0.4_0.4_0.4_0.4_0.4_0.6/wgt_flux_2/wgt_k_1/klin_none/w_diffuse_1.66_1.66__1.66_1.66__1.66_1.66_1.66_1.66_1.66_1.66/crd_90e01dd/atmpro_saw\n",
      "\n",
      "/chia_cluster/home/jackyu/radiation/offline_radiation_notebooks/longwave/lblnew_20160916/study__g1_threshold/h2o/band02_wn_340_540/nv_200/dv_0.005/ng_10/g_ascending_k_descending/refPTs_P_1_T_250__P_10_T_250__P_500_T_250/ng_refs_2__2__6/getabsth_auto__auto__auto/absth_dlogN_uniform__dlogN_uniform__dlogN_uniform/wgt_0.4_0.4__0.4_0.4__0.4_0.4_0.4_0.4_0.4_0.8/wgt_flux_2/wgt_k_1/klin_none/w_diffuse_1.66_1.66__1.66_1.66__1.66_1.66_1.66_1.66_1.66_1.66/crd_90e01dd/atmpro_saw\n",
      "/chia_cluster/home/jackyu/radiation/offline_radiation_notebooks/longwave/lblnew_20160916/study__g1_threshold/h2o/band02_wn_340_540/nv_200/dv_0.005/ng_10/g_ascending_k_descending/refPTs_P_1_T_250__P_10_T_250__P_500_T_250/ng_refs_2__2__6/getabsth_auto__auto__auto/absth_dlogN_uniform__dlogN_uniform__dlogN_uniform/wgt_0.4_0.4__0.4_0.4__0.4_0.4_0.4_0.4_0.4_0.7/wgt_flux_2/wgt_k_1/klin_none/w_diffuse_1.66_1.66__1.66_1.66__1.66_1.66_1.66_1.66_1.66_1.66/crd_90e01dd/atmpro_saw\n",
      "/chia_cluster/home/jackyu/radiation/offline_radiation_notebooks/longwave/lblnew_20160916/study__g1_threshold/h2o/band02_wn_340_540/nv_200/dv_0.005/ng_10/g_ascending_k_descending/refPTs_P_1_T_250__P_10_T_250__P_500_T_250/ng_refs_2__2__6/getabsth_auto__auto__auto/absth_dlogN_uniform__dlogN_uniform__dlogN_uniform/wgt_0.4_0.4__0.4_0.4__0.4_0.4_0.4_0.4_0.4_0.6/wgt_flux_2/wgt_k_1/klin_none/w_diffuse_1.66_1.66__1.66_1.66__1.66_1.66_1.66_1.66_1.66_1.66/crd_90e01dd/atmpro_saw\n"
     ]
    }
   ],
   "source": [
    "gprocs = lblnew.run_pipieline(params)"
   ]
  },
  {
   "cell_type": "code",
   "execution_count": null,
   "metadata": {
    "collapsed": true
   },
   "outputs": [],
   "source": []
  }
 ],
 "metadata": {
  "kernelspec": {
   "display_name": "Python 3",
   "language": "python",
   "name": "python3"
  },
  "language_info": {
   "codemirror_mode": {
    "name": "ipython",
    "version": 3
   },
   "file_extension": ".py",
   "mimetype": "text/x-python",
   "name": "python",
   "nbconvert_exporter": "python",
   "pygments_lexer": "ipython3",
   "version": "3.6.1"
  }
 },
 "nbformat": 4,
 "nbformat_minor": 2
}
