{
 "cells": [
  {
   "cell_type": "code",
   "execution_count": 1,
   "metadata": {},
   "outputs": [
    {
     "data": {
      "text/plain": [
       "'\\nThis notebook is to be used to convert best-fit parameter values saved \\nin climatools.lblnew.bestfit_params into Fortran, in a form that can be \\neasily inserted into clirad-lw.  \\n'"
      ]
     },
     "execution_count": 1,
     "metadata": {},
     "output_type": "execute_result"
    }
   ],
   "source": [
    "'''\n",
    "This notebook is to be used to convert best-fit parameter values saved \n",
    "in climatools.lblnew.bestfit_params into Fortran, in a form that can be \n",
    "easily inserted into clirad-lw.  \n",
    "'''"
   ]
  },
  {
   "cell_type": "code",
   "execution_count": 9,
   "metadata": {},
   "outputs": [
    {
     "data": {
      "text/plain": [
       "<module 'climatools.lblnew.export' from '/chia_cluster/home/jackyu/climatools/climatools/lblnew/export.py'>"
      ]
     },
     "execution_count": 9,
     "metadata": {},
     "output_type": "execute_result"
    }
   ],
   "source": [
    "import os\n",
    "import itertools\n",
    "import importlib\n",
    "\n",
    "from climatools.lblnew import bestfit_params as bestfit\n",
    "from climatools.cliradlw import setup as setup_cliradlw\n",
    "from climatools.lblnew import export\n",
    "\n",
    "importlib.reload(bestfit)\n",
    "importlib.reload(setup_cliradlw)\n",
    "importlib.reload(export)"
   ]
  },
  {
   "cell_type": "code",
   "execution_count": 11,
   "metadata": {
    "scrolled": false
   },
   "outputs": [],
   "source": [
    "def script():\n",
    "    s = export.file_content_kdist_bestfits()\n",
    "    \n",
    "    fpath = os.path.join(setup_cliradlw.DIR_SRC, 'kdist_bestfits.f')\n",
    "    with open(fpath, mode='w', encoding='utf-8') as f:\n",
    "        f.write(s)"
   ]
  },
  {
   "cell_type": "code",
   "execution_count": 12,
   "metadata": {
    "scrolled": false
   },
   "outputs": [
    {
     "name": "stdout",
     "output_type": "stream",
     "text": [
      "h2o 1\n",
      "h2o 2\n",
      "h2o 3a\n",
      "h2o 3b\n",
      "h2o 3c\n",
      "h2o 4\n",
      "h2o 5\n",
      "h2o 6\n",
      "h2o 7\n",
      "h2o 8\n",
      "h2o 9\n",
      "co2 3a\n",
      "co2 3b\n",
      "co2 3c\n",
      "co2 4\n",
      "co2 5\n",
      "co2 9\n",
      "o3 5\n",
      "o3 9\n",
      "n2o 3a\n",
      "n2o 6\n",
      "n2o 7\n",
      "ch4 6\n",
      "ch4 7\n"
     ]
    }
   ],
   "source": [
    "script()"
   ]
  },
  {
   "cell_type": "code",
   "execution_count": null,
   "metadata": {
    "collapsed": true
   },
   "outputs": [],
   "source": []
  },
  {
   "cell_type": "code",
   "execution_count": null,
   "metadata": {
    "collapsed": true
   },
   "outputs": [],
   "source": []
  }
 ],
 "metadata": {
  "kernelspec": {
   "display_name": "Python 3",
   "language": "python",
   "name": "python3"
  },
  "language_info": {
   "codemirror_mode": {
    "name": "ipython",
    "version": 3
   },
   "file_extension": ".py",
   "mimetype": "text/x-python",
   "name": "python",
   "nbconvert_exporter": "python",
   "pygments_lexer": "ipython3",
   "version": "3.6.1"
  }
 },
 "nbformat": 4,
 "nbformat_minor": 2
}
