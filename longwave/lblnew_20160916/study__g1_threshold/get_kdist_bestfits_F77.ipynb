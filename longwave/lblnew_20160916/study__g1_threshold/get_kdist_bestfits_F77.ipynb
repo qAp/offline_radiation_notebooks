{
 "cells": [
  {
   "cell_type": "code",
   "execution_count": 39,
   "metadata": {},
   "outputs": [
    {
     "data": {
      "text/plain": [
       "'\\nThis notebook is to be used to convert best-fit parameter values saved \\nin climatools.lblnew.bestfit_params into Fortran, in a form that can be \\neasily inserted into clirad-lw.  \\n'"
      ]
     },
     "execution_count": 39,
     "metadata": {},
     "output_type": "execute_result"
    }
   ],
   "source": [
    "'''\n",
    "This notebook is to be used to convert best-fit parameter values saved \n",
    "in climatools.lblnew.bestfit_params into Fortran, in a form that can be \n",
    "easily inserted into clirad-lw.  \n",
    "'''"
   ]
  },
  {
   "cell_type": "code",
   "execution_count": 40,
   "metadata": {},
   "outputs": [
    {
     "data": {
      "text/plain": [
       "<module 'climatools.cliradlw.setup' from '/chia_cluster/home/jackyu/climatools/climatools/cliradlw/setup.py'>"
      ]
     },
     "execution_count": 40,
     "metadata": {},
     "output_type": "execute_result"
    }
   ],
   "source": [
    "import os\n",
    "import itertools\n",
    "import importlib\n",
    "\n",
    "from climatools.lblnew import bestfit_params as bestfit\n",
    "from climatools.cliradlw import setup as setup_cliradlw\n",
    "\n",
    "importlib.reload(bestfit)\n",
    "importlib.reload(setup_cliradlw)"
   ]
  },
  {
   "cell_type": "code",
   "execution_count": 41,
   "metadata": {
    "collapsed": true
   },
   "outputs": [],
   "source": [
    "def band_map():\n",
    "    '''\n",
    "    Maps spectral bands in lblnew to spectral bands in clirad.\n",
    "    '''\n",
    "    return {'1': '1',\n",
    "            '2': '2',\n",
    "            '3a': '3',\n",
    "            '3b': '4',\n",
    "            '3c': '5',\n",
    "            '4': '6', \n",
    "            '5': '7',\n",
    "            '6': '8',\n",
    "            '7': '9', \n",
    "            '8': '10',\n",
    "            '9': '11'}"
   ]
  },
  {
   "cell_type": "code",
   "execution_count": 42,
   "metadata": {
    "collapsed": true
   },
   "outputs": [],
   "source": [
    "def into_chunks(l, chunksize):\n",
    "    return itertools.zip_longest(*(chunksize * [iter(l)]))\n",
    "\n",
    "\n",
    "\n",
    "def vector_to_F77list(array, num_values_per_line=4, dtype=float):\n",
    "    '''\n",
    "    '''\n",
    "    if dtype == float:\n",
    "        strfmt = '{:15.6e}'\n",
    "    elif dtype == int:\n",
    "        strfmt = '{:15d}'\n",
    "    else:\n",
    "        raise ValueError('dtype must be either float or int.')\n",
    "    \n",
    "    chunks = into_chunks(array, num_values_per_line)\n",
    "    \n",
    "    chunks = list(chunks)\n",
    "    \n",
    "    lines = []\n",
    "    for chunk in chunks[:-1]:\n",
    "        vs = [strfmt.format(v) for v in chunk if v != None]\n",
    "        line = ','.join(vs)\n",
    "        line = line + ','\n",
    "        lines.append(line)\n",
    "        \n",
    "    vs = [strfmt.format(v) for v in chunks[-1] if v != None]\n",
    "    line = ','.join(vs)\n",
    "    lines.append(line)\n",
    "    \n",
    "    return lines\n",
    "\n",
    "\n",
    "def vector_to_F77(array=None, num_values_per_line=None, dtype=None):\n",
    "    lines = vector_to_F77list(array=array, \n",
    "                              num_values_per_line=num_values_per_line,\n",
    "                              dtype=dtype)\n",
    "    \n",
    "    rlines = [5 * ' ' + '&' + l for l in lines]\n",
    "    \n",
    "    fortran = '\\n'.join(rlines)\n",
    "    return fortran"
   ]
  },
  {
   "cell_type": "code",
   "execution_count": 43,
   "metadata": {
    "collapsed": true
   },
   "outputs": [],
   "source": [
    "def comment_header(param):\n",
    "    s = \"! {} band{}\"\n",
    "    return s.format(param['molecule'], param['band'])\n",
    "\n",
    "\n",
    "def ng(param):\n",
    "    s = \"ng = {:d}\"\n",
    "    return s.format(sum(param['ng_refs']))\n",
    "\n",
    "\n",
    "def wgt(param):\n",
    "    vs = [v for ref in param['wgt'] for v in ref]\n",
    "    s = vector_to_F77(vs, \n",
    "                      num_values_per_line=3, dtype=float)\n",
    "    ls = ['wgt(1:ng) = (/',\n",
    "          s,\n",
    "          5 * ' ' + '&' + '/)']\n",
    "    return '\\n'.join(ls)\n",
    "\n",
    "\n",
    "def w_diffuse(param):\n",
    "    vs = [v for ref in param['w_diffuse'] for v in ref]\n",
    "    s = vector_to_F77(vs, \n",
    "                      num_values_per_line=3, dtype=float)\n",
    "    ls = ['w_diffuse(1:ng) = (/',\n",
    "          s,\n",
    "          5 * ' ' + '&' + '/)']\n",
    "    return '\\n'.join(ls)"
   ]
  },
  {
   "cell_type": "code",
   "execution_count": 44,
   "metadata": {
    "collapsed": true
   },
   "outputs": [],
   "source": [
    "def gasband_str_funcs():\n",
    "    return (comment_header,\n",
    "            ng,\n",
    "            wgt,\n",
    "            w_diffuse,)"
   ]
  },
  {
   "cell_type": "code",
   "execution_count": 45,
   "metadata": {
    "collapsed": true
   },
   "outputs": [],
   "source": [
    "def kdist_param_gasband(param):\n",
    "    '''\n",
    "    Returns list of strings for some gas and band.\n",
    "    '''\n",
    "    print(param['molecule'], param['band'])\n",
    "    return [f(param) for f in gasband_str_funcs()]\n",
    "\n",
    "\n",
    "def kdist_param_gas(params):\n",
    "    '''\n",
    "    Returns list of strings for some gas.\n",
    "    '''\n",
    "    molecules = [param['molecule'] for param in params]\n",
    "    try:\n",
    "        assert all([molecule == molecules[0] for molecule in molecules])\n",
    "    except AssertionError:\n",
    "        raise('All input param dicts should be for the same gas.')\n",
    "        \n",
    "    ls_gas = []\n",
    "    for i, param in enumerate(params):\n",
    "        if i == 0:\n",
    "            s_if = 'if (ib == {}) then'\n",
    "        else:\n",
    "            s_if = 'else if (ib == {}) then'\n",
    "        \n",
    "        s_if = s_if.format(band_map()[param['band']])\n",
    "                 \n",
    "        ls = kdist_param_gasband(param)\n",
    "        ls = [3 * ' ' + l for l in ls]\n",
    "        ls = [s_if] + ls\n",
    "        \n",
    "        ls_gas.extend(ls)\n",
    "       \n",
    "    s = \"write (*, *) 'k-dist bestfits unavailable for {} band', ib\"\n",
    "    s = s.format(molecules[0].upper())\n",
    "    ls_else = []\n",
    "    ls_else.append(s)\n",
    "    ls_else.append('stop')\n",
    "    ls_else = [3 * ' ' + l for l in ls_else]\n",
    "    \n",
    "    ls_gas.append('else')\n",
    "    ls_gas.extend(ls_else)\n",
    "    ls_gas.append('end if')      \n",
    "    return ls_gas\n",
    "\n",
    "\n",
    "def gas2mid(gas):\n",
    "    d = {'h2o': 1, 'co2': 2, 'o3': 3, 'n2o': 4, 'ch4': 5, 'o2':6}\n",
    "    return d[gas]\n",
    "\n",
    "\n",
    "def kdist_param():\n",
    "    'Returns list of strings covering all gases and their bands'\n",
    "    gasband_gs = [h2o_gasbands(), co2_gasbands(), o3_gasbands(),\n",
    "                  n2o_gasbands(), ch4_gasbands()]\n",
    "    \n",
    "    lines = []\n",
    "    for i, gasbands in enumerate(gasband_gs):\n",
    "        \n",
    "        params = [bestfit.kdist_params(molecule=gas, band=band)\n",
    "                  for gas, band in gasbands]\n",
    "        \n",
    "        gas = params[0]['molecule']\n",
    "        mid = gas2mid(gas)\n",
    "        \n",
    "        if i == 0:\n",
    "            s_if = 'if (mid == {}) then'\n",
    "        else:\n",
    "            s_if = 'else if (mid == {}) then'\n",
    "        s_if = s_if.format(mid)\n",
    "        \n",
    "        ls = kdist_param_gas(params)\n",
    "        ls = [3 * ' ' + l for l in ls]\n",
    "        ls = [s_if] + ls\n",
    "        \n",
    "        lines.extend(ls)\n",
    "    \n",
    "    s = \"write (*, *) 'k-dist bestfits unavailable for gas id:', mid\"\n",
    "    s = s.format(mid)\n",
    "    ls_else = []\n",
    "    ls_else.append(s)\n",
    "    ls_else.append('stop')\n",
    "    ls_else = [3 * ' ' + l for l in ls_else]\n",
    "    \n",
    "    lines.append('else')\n",
    "    lines.extend(ls_else)\n",
    "    lines.append('end if')     \n",
    "    return lines\n",
    "\n",
    "\n",
    "def subroutine():\n",
    "    ls = ('subroutine get_kdist_bestfits(mid, ib, ng, wgt, w_diffuse)',\n",
    "          '!     Get the lblnew bestfit parameters',\n",
    "          '',\n",
    "          'implicit none',\n",
    "          '',\n",
    "          'integer, parameter :: max_ng = 15  ! max number of g-interval allowed'\n",
    "          'integer, parameter :: npt = 295  ! max number of (p, t) in store k-table',\n",
    "          '',\n",
    "          'integer :: mid ! gas id',\n",
    "          'integer :: ib  ! spectral band number',\n",
    "          'integer :: ng ! number of g-intervals', \n",
    "          'real :: wgt(max_ng)',\n",
    "          'real :: w_diffuse(max_ng)',\n",
    "          'real :: dgs(max_ng)    ! Planck-weighted k-distribution function')\n",
    "    \n",
    "    lines = list(ls)\n",
    "    lines = lines + kdist_param()\n",
    "    lines.append('return')\n",
    "    lines.append('end')\n",
    "    return lines\n",
    "\n",
    "\n",
    "def file_content():\n",
    "    lines = subroutine()\n",
    "    lines = [6 * ' ' + l for l in lines]\n",
    "    s = '\\n'.join(lines)\n",
    "    return s\n",
    "\n",
    "\n",
    "def script():\n",
    "    s = file_content()\n",
    "    \n",
    "    fpath = os.path.join(setup_cliradlw.DIR_SRC, 'kdist_bestfits.f')\n",
    "    with open(fpath, mode='w', encoding='utf-8') as f:\n",
    "        f.write(s)"
   ]
  },
  {
   "cell_type": "code",
   "execution_count": 46,
   "metadata": {
    "collapsed": true
   },
   "outputs": [],
   "source": [
    "# These are the gases and spectral bands\n",
    "# that have been fitted using the k-distribution method\n",
    "\n",
    "def h2o_gasbands():\n",
    "    return [('h2o', '1'), \n",
    "            ('h2o', '2'),\n",
    "            ('h2o', '3a'),\n",
    "            ('h2o', '3b'),\n",
    "            ('h2o', '3c'),\n",
    "            ('h2o', '4'),\n",
    "            ('h2o', '5'),\n",
    "            ('h2o', '6'),\n",
    "            ('h2o', '7'), \n",
    "            ('h2o', '8'),\n",
    "            ('h2o', '9')]\n",
    "\n",
    "\n",
    "def co2_gasbands():\n",
    "    return [('co2', '3a'), ('co2', '3b'), ('co2', '3c'), ('co2', '9')]\n",
    "\n",
    "\n",
    "def o3_gasbands():\n",
    "    return [('o3', '5'), ('o3', '9')]\n",
    "\n",
    "\n",
    "def n2o_gasbands():\n",
    "    return [('n2o', '7')]\n",
    "\n",
    "\n",
    "def ch4_gasbands():\n",
    "    return [('ch4', '7')]"
   ]
  },
  {
   "cell_type": "code",
   "execution_count": 47,
   "metadata": {
    "scrolled": false
   },
   "outputs": [
    {
     "name": "stdout",
     "output_type": "stream",
     "text": [
      "h2o 1\n",
      "h2o 2\n",
      "h2o 3a\n",
      "h2o 3b\n",
      "h2o 3c\n",
      "h2o 4\n",
      "h2o 5\n",
      "h2o 6\n",
      "h2o 7\n",
      "h2o 8\n",
      "h2o 9\n",
      "co2 3a\n",
      "co2 3b\n",
      "co2 3c\n",
      "co2 9\n",
      "o3 5\n",
      "o3 9\n",
      "n2o 7\n",
      "ch4 7\n"
     ]
    }
   ],
   "source": [
    "script()"
   ]
  },
  {
   "cell_type": "code",
   "execution_count": null,
   "metadata": {
    "collapsed": true
   },
   "outputs": [],
   "source": []
  },
  {
   "cell_type": "code",
   "execution_count": null,
   "metadata": {
    "collapsed": true
   },
   "outputs": [],
   "source": []
  },
  {
   "cell_type": "code",
   "execution_count": null,
   "metadata": {
    "collapsed": true
   },
   "outputs": [],
   "source": []
  }
 ],
 "metadata": {
  "kernelspec": {
   "display_name": "Python 3",
   "language": "python",
   "name": "python3"
  },
  "language_info": {
   "codemirror_mode": {
    "name": "ipython",
    "version": 3
   },
   "file_extension": ".py",
   "mimetype": "text/x-python",
   "name": "python",
   "nbconvert_exporter": "python",
   "pygments_lexer": "ipython3",
   "version": "3.6.1"
  }
 },
 "nbformat": 4,
 "nbformat_minor": 2
}
