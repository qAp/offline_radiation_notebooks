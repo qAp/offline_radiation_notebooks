{
 "cells": [
  {
   "cell_type": "code",
   "execution_count": 265,
   "metadata": {},
   "outputs": [
    {
     "data": {
      "text/plain": [
       "<module 'climatools.lblnew.bestfit_params' from '/chia_cluster/home/jackyu/climatools/climatools/lblnew/bestfit_params.py'>"
      ]
     },
     "execution_count": 265,
     "metadata": {},
     "output_type": "execute_result"
    }
   ],
   "source": [
    "import os\n",
    "import shutil\n",
    "import importlib \n",
    "\n",
    "from climatools.cliradlw import (setup, pipeline)\n",
    "from climatools.lblnew import setup_overlap\n",
    "from climatools.lblnew import setup_bestfit\n",
    "import climatools.lblnew.pipeline as pipeline_lblnew\n",
    "import climatools.lblnew.bestfit_params as bestfit\n",
    "\n",
    "\n",
    "importlib.reload(setup)\n",
    "importlib.reload(pipeline)\n",
    "importlib.reload(setup_overlap)\n",
    "importlib.reload(setup_bestfit)\n",
    "importlib.reload(pipeline_lblnew)\n",
    "importlib.reload(bestfit)"
   ]
  },
  {
   "cell_type": "code",
   "execution_count": 266,
   "metadata": {
    "collapsed": true
   },
   "outputs": [],
   "source": [
    "def molbands():\n",
    "    return [('h2o', '3a'),\n",
    "            ('co2', '3a'),\n",
    "            ('n2o', '3a')]\n",
    "#    return [('h2o', '1')]\n",
    "#                ('h2o', '2'),\n",
    "#                ('h2o', '3a'),\n",
    "#                ('h2o', '3b'),\n",
    "#                ('h2o', '3c'),\n",
    "#                ('h2o', '4'),\n",
    "#                ('h2o', '5'),\n",
    "#                ('h2o', '6'),\n",
    "#                ('h2o', '7'), \n",
    "#                ('h2o', '8'),\n",
    "#                ('h2o', '9'),\n",
    "#                ('co2', '3a'), \n",
    "#                ('co2', '3b'),\n",
    "#                ('co2', '3c'),\n",
    "#                ('co2', '9'),\n",
    "#                ('o3', '5'),\n",
    "#                ('o3', '9'),\n",
    "#                ('n2o', '3a'),\n",
    "#                ('n2o', '7'),\n",
    "#                ('ch4', '7') ]\n",
    "\n",
    "\n",
    "\n",
    "def band_map():\n",
    "    '''\n",
    "    Maps spectral bands in lblnew to spectral bands in clirad.\n",
    "    '''\n",
    "    lblnew2clirad = {'1': '1',\n",
    "                     '2': '2',\n",
    "                     '3a': '3',\n",
    "                     '3b': '4',\n",
    "                     '3c': '5',\n",
    "                     '4': '6', \n",
    "                     '5': '7',\n",
    "                     '6': '8',\n",
    "                     '7': '9', \n",
    "                     '8': '10',\n",
    "                     '9': '11'}\n",
    "    \n",
    "    return lblnew2clirad"
   ]
  },
  {
   "cell_type": "code",
   "execution_count": 273,
   "metadata": {
    "collapsed": true
   },
   "outputs": [],
   "source": [
    "def param_lblnew(molecule=None, band=None):\n",
    "    param = bestfit.kdist_params(molecule=molecule, band=band)\n",
    "    param['option_compute_ktable'] = 0\n",
    "    return param\n",
    "\n",
    "\n",
    "def param_cliradlw(molecule=None, band=None):\n",
    "    \n",
    "    param = bestfit.kdist_params(molecule=molecule, band=band)\n",
    "\n",
    "    clirad_band = int(band_map()[band])\n",
    "    conc = 'atmpro' if param['conc'] == None else param['conc']\n",
    "    \n",
    "    return {'atmpro': param['atmpro'],\n",
    "            'band': [clirad_band],\n",
    "            'commitnumber': '7e55b57',\n",
    "            'molecule': {molecule: conc},\n",
    "            'tsfc': param['tsfc']}\n",
    "\n",
    "\n",
    "def parampairs():\n",
    "    ps = []\n",
    "    for molecule, band in molbands():\n",
    "        for atmpro, tsfc in [('mls', 294), ('saw', 257), ('trp', 300)]:\n",
    "            p_clirad = param_cliradlw(molecule=molecule, band=band)\n",
    "            p_lblnew = param_lblnew(molecule=molecule, band=band)\n",
    "            p_clirad['atmpro'] = atmpro\n",
    "            p_clirad['tsfc'] = tsfc\n",
    "            p_lblnew['atmpro'] = atmpro\n",
    "            p_lblnew['tsfc'] = tsfc\n",
    "            \n",
    "            ps.append((p_clirad, p_lblnew))\n",
    "    \n",
    "    return ps\n",
    "\n",
    "\n",
    "def script():\n",
    "    ps = parampairs()\n",
    "    gprocs = pipeline.pipeline_fortran2ipynb2git(parampairs=ps,\n",
    "                                                 setup=setup)\n",
    "    \n",
    "    for param, _ in ps:\n",
    "        print(param['molecule'], ' band', param['band'])\n",
    "        print(pipeline.nbviewer_url(param=param, setup=setup))\n",
    "        print()"
   ]
  },
  {
   "cell_type": "code",
   "execution_count": 274,
   "metadata": {
    "scrolled": false
   },
   "outputs": [
    {
     "name": "stdout",
     "output_type": "stream",
     "text": [
      "{'h2o': 'atmpro'}  band [3]\n",
      "http://nbviewer.jupyter.org/github/qap/offline_radiation_notebooks/blob/master/longwave/lblnew_20160916/clirad/h2o_mls/band_3/atmpro_mls/cliradlw_7e55b57/results_cliradlw.ipynb\n",
      "\n",
      "{'h2o': 'atmpro'}  band [3]\n",
      "http://nbviewer.jupyter.org/github/qap/offline_radiation_notebooks/blob/master/longwave/lblnew_20160916/clirad/h2o_saw/band_3/atmpro_saw/cliradlw_7e55b57/results_cliradlw.ipynb\n",
      "\n",
      "{'h2o': 'atmpro'}  band [3]\n",
      "http://nbviewer.jupyter.org/github/qap/offline_radiation_notebooks/blob/master/longwave/lblnew_20160916/clirad/h2o_trp/band_3/atmpro_trp/cliradlw_7e55b57/results_cliradlw.ipynb\n",
      "\n",
      "{'co2': 0.0004}  band [3]\n",
      "http://nbviewer.jupyter.org/github/qap/offline_radiation_notebooks/blob/master/longwave/lblnew_20160916/clirad/co2_0.0004/band_3/atmpro_mls/cliradlw_7e55b57/results_cliradlw.ipynb\n",
      "\n",
      "{'co2': 0.0004}  band [3]\n",
      "http://nbviewer.jupyter.org/github/qap/offline_radiation_notebooks/blob/master/longwave/lblnew_20160916/clirad/co2_0.0004/band_3/atmpro_saw/cliradlw_7e55b57/results_cliradlw.ipynb\n",
      "\n",
      "{'co2': 0.0004}  band [3]\n",
      "http://nbviewer.jupyter.org/github/qap/offline_radiation_notebooks/blob/master/longwave/lblnew_20160916/clirad/co2_0.0004/band_3/atmpro_trp/cliradlw_7e55b57/results_cliradlw.ipynb\n",
      "\n",
      "{'n2o': 3.2e-07}  band [3]\n",
      "http://nbviewer.jupyter.org/github/qap/offline_radiation_notebooks/blob/master/longwave/lblnew_20160916/clirad/n2o_3.2e-07/band_3/atmpro_mls/cliradlw_7e55b57/results_cliradlw.ipynb\n",
      "\n",
      "{'n2o': 3.2e-07}  band [3]\n",
      "http://nbviewer.jupyter.org/github/qap/offline_radiation_notebooks/blob/master/longwave/lblnew_20160916/clirad/n2o_3.2e-07/band_3/atmpro_saw/cliradlw_7e55b57/results_cliradlw.ipynb\n",
      "\n",
      "{'n2o': 3.2e-07}  band [3]\n",
      "http://nbviewer.jupyter.org/github/qap/offline_radiation_notebooks/blob/master/longwave/lblnew_20160916/clirad/n2o_3.2e-07/band_3/atmpro_trp/cliradlw_7e55b57/results_cliradlw.ipynb\n",
      "\n"
     ]
    }
   ],
   "source": [
    "script()"
   ]
  },
  {
   "cell_type": "code",
   "execution_count": null,
   "metadata": {
    "collapsed": true
   },
   "outputs": [],
   "source": []
  }
 ],
 "metadata": {
  "kernelspec": {
   "display_name": "Python 3",
   "language": "python",
   "name": "python3"
  },
  "language_info": {
   "codemirror_mode": {
    "name": "ipython",
    "version": 3
   },
   "file_extension": ".py",
   "mimetype": "text/x-python",
   "name": "python",
   "nbconvert_exporter": "python",
   "pygments_lexer": "ipython3",
   "version": "3.6.1"
  }
 },
 "nbformat": 4,
 "nbformat_minor": 2
}
