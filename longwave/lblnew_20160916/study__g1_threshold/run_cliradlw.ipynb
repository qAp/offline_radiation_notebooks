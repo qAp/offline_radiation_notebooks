{
 "cells": [
  {
   "cell_type": "code",
   "execution_count": 188,
   "metadata": {},
   "outputs": [
    {
     "data": {
      "text/plain": [
       "<module 'climatools.cliradlw.pipeline' from '/chia_cluster/home/jackyu/climatools/climatools/cliradlw/pipeline.py'>"
      ]
     },
     "execution_count": 188,
     "metadata": {},
     "output_type": "execute_result"
    }
   ],
   "source": [
    "import os\n",
    "import shutil\n",
    "import importlib \n",
    "\n",
    "from climatools.cliradlw import (setup, pipeline)\n",
    "from climatools.lblnew import setup_bestfit\n",
    "import climatools.lblnew.pipeline as pipeline_lblnew\n",
    "\n",
    "importlib.reload(setup)\n",
    "importlib.reload(pipeline)"
   ]
  },
  {
   "cell_type": "code",
   "execution_count": 189,
   "metadata": {
    "collapsed": true
   },
   "outputs": [],
   "source": [
    "def param_lblnew():\n",
    "    return {'atmpro': 'mls',\n",
    "  'band': '1',\n",
    "  'commitnumber': 'd5931a1',\n",
    "  'conc': None,\n",
    "  'dv': 0.001,\n",
    "  'klin': 0,\n",
    "  'molecule': 'h2o',\n",
    "  'ng_adju': [0, 0, 0],\n",
    "  'ng_refs': [3, 3, 6],\n",
    "  'nv': 1000,\n",
    "  'option_compute_btable': 0,\n",
    "  'option_compute_ktable': 1,\n",
    "  'option_wgt_flux': 1,\n",
    "  'option_wgt_k': 1,\n",
    "  'ref_pts': [(1, 250), (30, 250), (300, 250)],\n",
    "  'tsfc': 294,\n",
    "  'vmax': 340,\n",
    "  'vmin': 20,\n",
    "  'w_diffuse': [(1.66, 1.66, 1.66),\n",
    "   (1.66, 1.66, 1.66),\n",
    "   (1.66, 1.66, 1.5, 1.5, 1.5, 1.5)],\n",
    "  'wgt': [(0.2, 0.2, 0.2),\n",
    "   (0.2, 0.2, 0.2),\n",
    "   (0.2, 0.2, 0.65, 0.65, 0.65, 0.65)]}\n",
    "\n"
   ]
  },
  {
   "cell_type": "code",
   "execution_count": 171,
   "metadata": {},
   "outputs": [
    {
     "data": {
      "text/plain": [
       "['kg_nonlin.dat',\n",
       " 'kg_lin.dat',\n",
       " 'output_wcoolrg.dat',\n",
       " 'output_wfluxg.dat',\n",
       " 'output_flux.dat',\n",
       " 'output_fluxg.dat',\n",
       " 'lblnew.exe',\n",
       " 'output_coolr.dat',\n",
       " 'output_coolrg.dat',\n",
       " 'lblcom.f',\n",
       " 'abscom.dat',\n",
       " 'lblnew.f',\n",
       " 'dgdgs.dat',\n",
       " 'pt_ktable.dat']"
      ]
     },
     "execution_count": 171,
     "metadata": {},
     "output_type": "execute_result"
    }
   ],
   "source": [
    "os.listdir(pipeline_lblnew.get_dir_case(param=param_lblnew(), \n",
    "                             setup=setup_bestfit))"
   ]
  },
  {
   "cell_type": "code",
   "execution_count": 172,
   "metadata": {},
   "outputs": [
    {
     "name": "stdout",
     "output_type": "stream",
     "text": [
      "ls: cannot access /chia_cluster/home/jackyu/radiation/offline_radiation_notebooks/longwave/lblnew_20160916/study__g1_threshold/h2o/conc_None/band01_wn_20_340/nv_1000/dv_0.001/ng_12/g_ascending_k_descending/refPTs_P_1_T_250__P_30_T_250__P_300_T_250/ng_refs_3__3__6/ng_adju_0__0__0/getabsth_auto__auto__auto/absth_dlogN_uniform__dlogN_uniform__dlogN_uniform/klin_none/atmpro_mls/wgt_k_1/wgt_0.2_0.2_0.2__0.2_0.2_0.2__0.2_0.2_0.65_0.65_0.65_0.65/wgt_flux_1/w_diffuse_1.66_1.66_1.66__1.66_1.66_1.66__1.66_1.66_1.5_1.5_1.5_1.5/option_compute_ktable_1/option_compute_btable_0/crd_00cecd2: No such file or directory\r\n"
     ]
    }
   ],
   "source": [
    "!ls /chia_cluster/home/jackyu/radiation/offline_radiation_notebooks/longwave/lblnew_20160916/study__g1_threshold/h2o/conc_None/band01_wn_20_340/nv_1000/dv_0.001/ng_12/g_ascending_k_descending/refPTs_P_1_T_250__P_30_T_250__P_300_T_250/ng_refs_3__3__6/ng_adju_0__0__0/getabsth_auto__auto__auto/absth_dlogN_uniform__dlogN_uniform__dlogN_uniform/klin_none/atmpro_mls/wgt_k_1/wgt_0.2_0.2_0.2__0.2_0.2_0.2__0.2_0.2_0.65_0.65_0.65_0.65/wgt_flux_1/w_diffuse_1.66_1.66_1.66__1.66_1.66_1.66__1.66_1.66_1.5_1.5_1.5_1.5/option_compute_ktable_1/option_compute_btable_0/crd_00cecd2"
   ]
  },
  {
   "cell_type": "code",
   "execution_count": 193,
   "metadata": {
    "scrolled": false
   },
   "outputs": [
    {
     "name": "stdout",
     "output_type": "stream",
     "text": [
      "{'h2o': 'wa(i,k)', 'co2': 0, 'o3': 0, 'n2o': 0, 'ch4': 0}\n",
      "h2o\n",
      "\n",
      "            wa(i,k)=wa(1,k)\n",
      "wa(1,k)\n",
      "wa(i,k)\n",
      "co2\n",
      "\n",
      "      co2 = 400.e-6\n",
      "400.e-6\n",
      "0.0\n",
      "o3\n",
      "\n",
      "            oa(i,k)=0.0\n",
      "0.0\n",
      "0.0\n",
      "n2o\n",
      "\n",
      "      n2o=0.0\n",
      "0.0\n",
      "0.0\n",
      "ch4\n",
      "\n",
      "      ch4=0.0\n",
      "0.0\n",
      "0.0\n",
      "band\n",
      "\n",
      "      bands(1:nband) = (/ 0, 0, 1, 0, 0, 0, 1, 0, 1, 0, 1 /)\n",
      "\n",
      "\n",
      "(/ 0, 0, 1, 0, 0, 0, 1, 0, 1, 0, 1 /)\n",
      "(/1, 0, 0, 0, 0, 0, 0, 0, 0, 0, 0/)\n",
      "atmpro\n",
      "atmosphere_profiles/mls75.pro\n",
      "mls\n",
      "mls\n",
      "tsfc\n",
      "\n",
      "\n",
      "      tb(1)=294.0\n",
      "      \n",
      "\n",
      "294.0\n",
      "294\n",
      "{'atmpro': 'mls',\n",
      " 'band': [1],\n",
      " 'commitnumber': 'c8dce0e',\n",
      " 'molecule': {'h2o': 'atmpro'},\n",
      " 'tsfc': 294}\n",
      "/chia_cluster/home/jackyu/climatools/climatools/cliradlw/results_cliradlw.ipynb\n",
      "/chia_cluster/home/jackyu/radiation/clirad-lw/LW/examples/lblnew/h2o_mls/band_1/atmpro_mls/cliradlw_c8dce0e\n",
      "{'atmpro': 'mls',\n",
      " 'band': [1],\n",
      " 'commitnumber': 'c8dce0e',\n",
      " 'molecule': {'h2o': 'atmpro'},\n",
      " 'tsfc': 294}\n"
     ]
    }
   ],
   "source": [
    "param = {'commitnumber': 'c8dce0e',\n",
    "         'molecule': {'h2o': 'atmpro'},\n",
    "         'band': [1,],\n",
    "         'atmpro': 'mls',\n",
    "         'tsfc': 294}\n",
    "\n",
    "dir_fortran_lblnew = pipeline_lblnew.get_dir_case(param=param_lblnew(), \n",
    "                                              setup=setup_bestfit)\n",
    "\n",
    "try:\n",
    "    shutil.rmtree(pipeline.get_fortran_dir(param=param, setup=setup))\n",
    "except FileNotFoundError:\n",
    "    pass\n",
    "\n",
    "try:\n",
    "    shutil.rmtree(pipeline.get_analysis_dir(param=param, setup=setup))\n",
    "except FileNotFoundError:\n",
    "    pass\n",
    "\n",
    "\n",
    "fproc = pipeline.run_fortran(param=param, setup=setup)\n",
    "\n",
    "aproc = pipeline.run_analysis(param=param, \n",
    "                              dir_fortran_lblnew=dir_fortran_lblnew,\n",
    "                              setup=setup)"
   ]
  },
  {
   "cell_type": "code",
   "execution_count": 194,
   "metadata": {},
   "outputs": [
    {
     "name": "stdout",
     "output_type": "stream",
     "text": [
      " before assigning\n",
      "  -34.07336    \n",
      "  0.0000000E+00\n",
      "\n"
     ]
    },
    {
     "ename": "AttributeError",
     "evalue": "'NoneType' object has no attribute 'decode'",
     "output_type": "error",
     "traceback": [
      "\u001b[0;31m---------------------------------------------------------------------------\u001b[0m",
      "\u001b[0;31mAttributeError\u001b[0m                            Traceback (most recent call last)",
      "\u001b[0;32m<ipython-input-194-80d6c0f1663a>\u001b[0m in \u001b[0;36m<module>\u001b[0;34m()\u001b[0m\n\u001b[1;32m      1\u001b[0m \u001b[0mout\u001b[0m\u001b[0;34m,\u001b[0m \u001b[0merr\u001b[0m \u001b[0;34m=\u001b[0m \u001b[0mfproc\u001b[0m\u001b[0;34m.\u001b[0m\u001b[0mcommunicate\u001b[0m\u001b[0;34m(\u001b[0m\u001b[0;34m)\u001b[0m\u001b[0;34m\u001b[0m\u001b[0m\n\u001b[1;32m      2\u001b[0m \u001b[0mprint\u001b[0m\u001b[0;34m(\u001b[0m\u001b[0mout\u001b[0m\u001b[0;34m.\u001b[0m\u001b[0mdecode\u001b[0m\u001b[0;34m(\u001b[0m\u001b[0;34m'utf-8'\u001b[0m\u001b[0;34m)\u001b[0m\u001b[0;34m)\u001b[0m\u001b[0;34m\u001b[0m\u001b[0m\n\u001b[0;32m----> 3\u001b[0;31m \u001b[0mprint\u001b[0m\u001b[0;34m(\u001b[0m\u001b[0merr\u001b[0m\u001b[0;34m.\u001b[0m\u001b[0mdecode\u001b[0m\u001b[0;34m(\u001b[0m\u001b[0;34m'utf-8'\u001b[0m\u001b[0;34m)\u001b[0m\u001b[0;34m)\u001b[0m\u001b[0;34m\u001b[0m\u001b[0m\n\u001b[0m",
      "\u001b[0;31mAttributeError\u001b[0m: 'NoneType' object has no attribute 'decode'"
     ]
    }
   ],
   "source": [
    "out, err = fproc.communicate()\n",
    "print(out.decode('utf-8'))\n",
    "print(err.decode('utf-8'))"
   ]
  },
  {
   "cell_type": "code",
   "execution_count": 195,
   "metadata": {
    "scrolled": false
   },
   "outputs": [
    {
     "name": "stdout",
     "output_type": "stream",
     "text": [
      "\n",
      "\n",
      "[NbConvertApp] Converting notebook results_cliradlw.ipynb to notebook\n",
      "[NbConvertApp] Executing notebook with kernel: python3\n",
      "[NbConvertApp] Writing 89877 bytes to results_cliradlw.ipynb\n",
      "\n"
     ]
    }
   ],
   "source": [
    "out, err = aproc.communicate()\n",
    "print(out.decode('utf-8'))\n",
    "print()\n",
    "print(err.decode('utf-8'))"
   ]
  },
  {
   "cell_type": "code",
   "execution_count": null,
   "metadata": {
    "collapsed": true
   },
   "outputs": [],
   "source": []
  }
 ],
 "metadata": {
  "kernelspec": {
   "display_name": "Python 3",
   "language": "python",
   "name": "python3"
  },
  "language_info": {
   "codemirror_mode": {
    "name": "ipython",
    "version": 3
   },
   "file_extension": ".py",
   "mimetype": "text/x-python",
   "name": "python",
   "nbconvert_exporter": "python",
   "pygments_lexer": "ipython3",
   "version": "3.6.1"
  }
 },
 "nbformat": 4,
 "nbformat_minor": 2
}
