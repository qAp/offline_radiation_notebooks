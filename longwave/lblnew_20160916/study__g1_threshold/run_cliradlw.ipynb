{
 "cells": [
  {
   "cell_type": "code",
   "execution_count": 24,
   "metadata": {},
   "outputs": [
    {
     "data": {
      "text/plain": [
       "<module 'climatools.lblnew.setup_overlap' from '/chia_cluster/home/jackyu/climatools/climatools/lblnew/setup_overlap.py'>"
      ]
     },
     "execution_count": 24,
     "metadata": {},
     "output_type": "execute_result"
    }
   ],
   "source": [
    "import os\n",
    "import shutil\n",
    "import importlib \n",
    "\n",
    "from climatools.cliradlw import (setup, pipeline)\n",
    "from climatools.lblnew import setup_overlap\n",
    "import climatools.lblnew.pipeline as pipeline_lblnew\n",
    "\n",
    "importlib.reload(setup)\n",
    "importlib.reload(pipeline)\n",
    "importlib.reload(setup_overlap)"
   ]
  },
  {
   "cell_type": "code",
   "execution_count": 25,
   "metadata": {
    "collapsed": true
   },
   "outputs": [],
   "source": [
    "def param_lblnew():\n",
    "    return {'atmpro': 'mls',\n",
    " 'band': '9',\n",
    " 'commitnumber': '8ba2806',\n",
    " 'dv': 0.001,\n",
    " 'molecule': {'co2': 0.0004, 'h2o': 'atmpro'},\n",
    " 'nv': 1000,\n",
    " 'tsfc': 294}\n",
    "\n",
    "\n",
    "def param_cliradlw():\n",
    "    return {'atmpro': 'mls',\n",
    "            'band': [11],\n",
    "            'commitnumber': 'commitnumber', #'d54f896',\n",
    "            'molecule': {'h2o': 'atmpro', 'co2': 0.0004},\n",
    "            'tsfc': 294}\n",
    "\n",
    "\n",
    "def parampairs():\n",
    "    ps = []\n",
    "    ps.append((param_cliradlw(), param_lblnew()))\n",
    "    return ps\n",
    "\n",
    "\n",
    "def script():\n",
    "    ps = parampairs()\n",
    "    gprocs = pipeline.pipeline_fortran2ipynb2git(parampairs=ps,\n",
    "                                                 setup=setup)\n",
    "    \n",
    "    for param, _ in ps:\n",
    "        print(pipeline.nbviewer_url(param=param, setup=setup))"
   ]
  },
  {
   "cell_type": "code",
   "execution_count": 26,
   "metadata": {},
   "outputs": [
    {
     "name": "stdout",
     "output_type": "stream",
     "text": [
      "Submitting radiation calculation for cases\n",
      "{'atmpro': 'mls',\n",
      " 'band': [11],\n",
      " 'commitnumber': 'commitnumber',\n",
      " 'molecule': {'co2': 0.0004, 'h2o': 'atmpro'},\n",
      " 'tsfc': 294}\n",
      "\n",
      "Submitting analysis for cases\n",
      "/chia_cluster/home/jackyu/climatools/climatools/cliradlw/results_cliradlw.ipynb\n",
      "/chia_cluster/home/jackyu/radiation/clirad-lw/LW/examples/lblnew/h2o_mls_co2_0.0004/band_11/atmpro_mls/cliradlw_commitnumber\n",
      "{'atmpro': 'mls',\n",
      " 'band': [11],\n",
      " 'commitnumber': 'commitnumber',\n",
      " 'molecule': {'co2': 0.0004, 'h2o': 'atmpro'},\n",
      " 'tsfc': 294}\n",
      "\n",
      "Committing analysis to Git repository for cases\n",
      "{'atmpro': 'mls',\n",
      " 'band': [11],\n",
      " 'commitnumber': 'commitnumber',\n",
      " 'molecule': {'co2': 0.0004, 'h2o': 'atmpro'},\n",
      " 'tsfc': 294}\n",
      "\n",
      "http://nbviewer.jupyter.org/github/qap/offline_radiation_notebooks/blob/master/longwave/lblnew_20160916/clirad/h2o_mls_co2_0.0004/band_11/atmpro_mls/cliradlw_commitnumber/results_cliradlw.ipynb\n"
     ]
    }
   ],
   "source": [
    "script()"
   ]
  },
  {
   "cell_type": "code",
   "execution_count": null,
   "metadata": {
    "collapsed": true
   },
   "outputs": [],
   "source": []
  }
 ],
 "metadata": {
  "kernelspec": {
   "display_name": "Python 3",
   "language": "python",
   "name": "python3"
  },
  "language_info": {
   "codemirror_mode": {
    "name": "ipython",
    "version": 3
   },
   "file_extension": ".py",
   "mimetype": "text/x-python",
   "name": "python",
   "nbconvert_exporter": "python",
   "pygments_lexer": "ipython3",
   "version": "3.6.1"
  }
 },
 "nbformat": 4,
 "nbformat_minor": 2
}
