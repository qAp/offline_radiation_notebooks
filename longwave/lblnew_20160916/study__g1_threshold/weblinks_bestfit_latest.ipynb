{
 "cells": [
  {
   "cell_type": "code",
   "execution_count": 81,
   "metadata": {
    "collapsed": true
   },
   "outputs": [],
   "source": [
    "import itertools\n",
    "\n",
    "import pandas as pd\n",
    "\n",
    "from climatools.lblnew import (setup_bestfit, pipeline, bestfit_params)\n",
    "\n",
    "from IPython import display"
   ]
  },
  {
   "cell_type": "code",
   "execution_count": 82,
   "metadata": {
    "collapsed": true
   },
   "outputs": [],
   "source": [
    "def gas_names():\n",
    "    return ('h2o', 'co2', 'o3', 'n2o', 'ch4')\n",
    "\n",
    "\n",
    "def band_names():\n",
    "    return ('1', '2', \n",
    "            '3a', '3b', '3c',\n",
    "            '4', '5', '6', '7', '8', '9')\n",
    "\n",
    "\n",
    "def fitted_gasbands():\n",
    "    d = {}\n",
    "    d['h2o'] = ['1', '2', \n",
    "                '3a', '3b', '3c', \n",
    "                '4', '5', '6', '7', '8', '9']\n",
    "    d['co2'] = ['3a', '3b', '3c', '9']\n",
    "    d['o3'] = ['5', '9']\n",
    "    d['n2o'] = ['7']\n",
    "    d['ch4'] = ['7']\n",
    "    return d\n"
   ]
  },
  {
   "cell_type": "code",
   "execution_count": 94,
   "metadata": {},
   "outputs": [],
   "source": [
    "def get_hrefs(molecule=None, band=None):\n",
    "    atmpros = ('mls', 'saw', 'trp')\n",
    "    \n",
    "    hrefs = []\n",
    "    for atmpro in atmpros:\n",
    "        param = bestfit_params.kdist_params(molecule=molecule, \n",
    "                                            band=band)\n",
    "        param['atmpro'] = atmpro\n",
    "        param['option_compute_ktable'] = 0\n",
    "        url = pipeline.nbviewer_url(param=param, setup=setup_bestfit)\n",
    "        \n",
    "        s = '''<a href=\"{}\">{}</a>'''\n",
    "        s = s.format(url, atmpro)\n",
    "        hrefs.append(s)\n",
    "    s_hrefs = '  '.join(hrefs)\n",
    "    return s_hrefs\n",
    "\n",
    "\n",
    "def tb_hrefs():\n",
    "    df = pd.DataFrame(index=band_names(), columns=gas_names())\n",
    "\n",
    "    for gas, bands in fitted_gasbands().items():\n",
    "        for band in bands:\n",
    "            df.loc[band, gas] = get_hrefs(molecule=gas, band=band)\n",
    "        \n",
    "    df = df.fillna('')   \n",
    "    return df\n"
   ]
  },
  {
   "cell_type": "code",
   "execution_count": 95,
   "metadata": {},
   "outputs": [],
   "source": [
    "def script():\n",
    "    df = tb_hrefs()\n",
    "    #pd.set_option('display.max_colwidth', -1)\n",
    "    s_html = df.to_html(escape=False)\n",
    "    display.display(display.HTML(s_html))"
   ]
  },
  {
   "cell_type": "code",
   "execution_count": 96,
   "metadata": {},
   "outputs": [
    {
     "data": {
      "text/html": [
       "<table border=\"1\" class=\"dataframe\">\n",
       "  <thead>\n",
       "    <tr style=\"text-align: right;\">\n",
       "      <th></th>\n",
       "      <th>h2o</th>\n",
       "      <th>co2</th>\n",
       "      <th>o3</th>\n",
       "      <th>n2o</th>\n",
       "      <th>ch4</th>\n",
       "    </tr>\n",
       "  </thead>\n",
       "  <tbody>\n",
       "    <tr>\n",
       "      <th>1</th>\n",
       "      <td><a href=\"http://nbviewer.jupyter.org/github/qap/offline_radiation_notebooks/blob/master/longwave/lblnew_20160916/study__g1_threshold/h2o/conc_None/band01_wn_20_340/nv_1000/dv_0.001/ng_12/g_ascending_k_descending/refPTs_P_1_T_250__P_30_T_250__P_300_T_250/ng_refs_3__3__6/ng_adju_0__0__0/getabsth_auto__auto__auto/absth_dlogN_uniform__dlogN_uniform__dlogN_uniform/klin_none/atmpro_mls/wgt_k_1/wgt_0.2_0.2_0.2__0.2_0.2_0.2__0.2_0.2_0.65_0.65_0.65_0.65/wgt_flux_1/w_diffuse_1.66_1.66_1.66__1.66_1.66_1.66__1.66_1.66_1.5_1.5_1.5_1.5/option_compute_ktable_0/option_compute_btable_0/crd_d5931a1/results.ipynb\">mls</a>  <a href=\"http://nbviewer.jupyter.org/github/qap/offline_radiation_notebooks/blob/master/longwave/lblnew_20160916/study__g1_threshold/h2o/conc_None/band01_wn_20_340/nv_1000/dv_0.001/ng_12/g_ascending_k_descending/refPTs_P_1_T_250__P_30_T_250__P_300_T_250/ng_refs_3__3__6/ng_adju_0__0__0/getabsth_auto__auto__auto/absth_dlogN_uniform__dlogN_uniform__dlogN_uniform/klin_none/atmpro_saw/wgt_k_1/wgt_0.2_0.2_0.2__0.2_0.2_0.2__0.2_0.2_0.65_0.65_0.65_0.65/wgt_flux_1/w_diffuse_1.66_1.66_1.66__1.66_1.66_1.66__1.66_1.66_1.5_1.5_1.5_1.5/option_compute_ktable_0/option_compute_btable_0/crd_d5931a1/results.ipynb\">saw</a>  <a href=\"http://nbviewer.jupyter.org/github/qap/offline_radiation_notebooks/blob/master/longwave/lblnew_20160916/study__g1_threshold/h2o/conc_None/band01_wn_20_340/nv_1000/dv_0.001/ng_12/g_ascending_k_descending/refPTs_P_1_T_250__P_30_T_250__P_300_T_250/ng_refs_3__3__6/ng_adju_0__0__0/getabsth_auto__auto__auto/absth_dlogN_uniform__dlogN_uniform__dlogN_uniform/klin_none/atmpro_trp/wgt_k_1/wgt_0.2_0.2_0.2__0.2_0.2_0.2__0.2_0.2_0.65_0.65_0.65_0.65/wgt_flux_1/w_diffuse_1.66_1.66_1.66__1.66_1.66_1.66__1.66_1.66_1.5_1.5_1.5_1.5/option_compute_ktable_0/option_compute_btable_0/crd_d5931a1/results.ipynb\">trp</a></td>\n",
       "      <td></td>\n",
       "      <td></td>\n",
       "      <td></td>\n",
       "      <td></td>\n",
       "    </tr>\n",
       "    <tr>\n",
       "      <th>2</th>\n",
       "      <td><a href=\"http://nbviewer.jupyter.org/github/qap/offline_radiation_notebooks/blob/master/longwave/lblnew_20160916/study__g1_threshold/h2o/conc_None/band02_wn_340_540/nv_1000/dv_0.001/ng_11/g_ascending_k_descending/refPTs_P_1_T_250__P_10_T_250__P_500_T_250/ng_refs_2__3__6/ng_adju_-2__-2__0/getabsth_auto__auto__auto/absth_dlogN_uniform__dlogN_uniform__dlogN_uniform/klin_none/atmpro_mls/wgt_k_1/wgt_0.6_0.6__0.6_0.6_0.6__0.6_0.6_0.6_0.6_0.6_0.6/wgt_flux_1/w_diffuse_1.66_1.66__1.8_1.8_1.8__1.8_1.66_1.45_1.45_1.45_1.45/option_compute_ktable_0/option_compute_btable_0/crd_d5931a1/results.ipynb\">mls</a>  <a href=\"http://nbviewer.jupyter.org/github/qap/offline_radiation_notebooks/blob/master/longwave/lblnew_20160916/study__g1_threshold/h2o/conc_None/band02_wn_340_540/nv_1000/dv_0.001/ng_11/g_ascending_k_descending/refPTs_P_1_T_250__P_10_T_250__P_500_T_250/ng_refs_2__3__6/ng_adju_-2__-2__0/getabsth_auto__auto__auto/absth_dlogN_uniform__dlogN_uniform__dlogN_uniform/klin_none/atmpro_saw/wgt_k_1/wgt_0.6_0.6__0.6_0.6_0.6__0.6_0.6_0.6_0.6_0.6_0.6/wgt_flux_1/w_diffuse_1.66_1.66__1.8_1.8_1.8__1.8_1.66_1.45_1.45_1.45_1.45/option_compute_ktable_0/option_compute_btable_0/crd_d5931a1/results.ipynb\">saw</a>  <a href=\"http://nbviewer.jupyter.org/github/qap/offline_radiation_notebooks/blob/master/longwave/lblnew_20160916/study__g1_threshold/h2o/conc_None/band02_wn_340_540/nv_1000/dv_0.001/ng_11/g_ascending_k_descending/refPTs_P_1_T_250__P_10_T_250__P_500_T_250/ng_refs_2__3__6/ng_adju_-2__-2__0/getabsth_auto__auto__auto/absth_dlogN_uniform__dlogN_uniform__dlogN_uniform/klin_none/atmpro_trp/wgt_k_1/wgt_0.6_0.6__0.6_0.6_0.6__0.6_0.6_0.6_0.6_0.6_0.6/wgt_flux_1/w_diffuse_1.66_1.66__1.8_1.8_1.8__1.8_1.66_1.45_1.45_1.45_1.45/option_compute_ktable_0/option_compute_btable_0/crd_d5931a1/results.ipynb\">trp</a></td>\n",
       "      <td></td>\n",
       "      <td></td>\n",
       "      <td></td>\n",
       "      <td></td>\n",
       "    </tr>\n",
       "    <tr>\n",
       "      <th>3a</th>\n",
       "      <td><a href=\"http://nbviewer.jupyter.org/github/qap/offline_radiation_notebooks/blob/master/longwave/lblnew_20160916/study__g1_threshold/h2o/conc_None/band03a_wn_540_620/nv_1000/dv_0.001/ng_8/g_ascending_k_descending/refPTs_P_10_T_250__P_600_T_250/ng_refs_2__6/ng_adju_0__0/getabsth_auto__auto/absth_dlogN_uniform__dlogN_uniform/klin_none/atmpro_mls/wgt_k_1/wgt_0.7_0.7__0.7_0.5_0.5_0.5_0.5_0.5/wgt_flux_1/w_diffuse_1.9_1.7__1.4_1.4_1.4_1.55_1.6_1.66/option_compute_ktable_0/option_compute_btable_0/crd_d5931a1/results.ipynb\">mls</a>  <a href=\"http://nbviewer.jupyter.org/github/qap/offline_radiation_notebooks/blob/master/longwave/lblnew_20160916/study__g1_threshold/h2o/conc_None/band03a_wn_540_620/nv_1000/dv_0.001/ng_8/g_ascending_k_descending/refPTs_P_10_T_250__P_600_T_250/ng_refs_2__6/ng_adju_0__0/getabsth_auto__auto/absth_dlogN_uniform__dlogN_uniform/klin_none/atmpro_saw/wgt_k_1/wgt_0.7_0.7__0.7_0.5_0.5_0.5_0.5_0.5/wgt_flux_1/w_diffuse_1.9_1.7__1.4_1.4_1.4_1.55_1.6_1.66/option_compute_ktable_0/option_compute_btable_0/crd_d5931a1/results.ipynb\">saw</a>  <a href=\"http://nbviewer.jupyter.org/github/qap/offline_radiation_notebooks/blob/master/longwave/lblnew_20160916/study__g1_threshold/h2o/conc_None/band03a_wn_540_620/nv_1000/dv_0.001/ng_8/g_ascending_k_descending/refPTs_P_10_T_250__P_600_T_250/ng_refs_2__6/ng_adju_0__0/getabsth_auto__auto/absth_dlogN_uniform__dlogN_uniform/klin_none/atmpro_trp/wgt_k_1/wgt_0.7_0.7__0.7_0.5_0.5_0.5_0.5_0.5/wgt_flux_1/w_diffuse_1.9_1.7__1.4_1.4_1.4_1.55_1.6_1.66/option_compute_ktable_0/option_compute_btable_0/crd_d5931a1/results.ipynb\">trp</a></td>\n",
       "      <td><a href=\"http://nbviewer.jupyter.org/github/qap/offline_radiation_notebooks/blob/master/longwave/lblnew_20160916/study__g1_threshold/co2/conc_0.0004/band03a_wn_540_620/nv_1000/dv_0.001/ng_9/g_ascending_k_descending/refPTs_P_1_T_250__P_10_T_250__P_500_T_250/ng_refs_3__2__4/ng_adju_0__0__0/getabsth_auto__auto__auto/absth_dlogN_uniform__dlogN_uniform__dlogN_uniform/klin_6.375563e-24/atmpro_mls/wgt_k_1/wgt_0.7_0.3_0.7__0.7_0.6__0.4_0.5_0.8_0.95/wgt_flux_1/w_diffuse_1.6_1.6_1.7__1.75_1.75__1.55_1.55_1.6_1.85/option_compute_ktable_0/option_compute_btable_0/crd_d5931a1/results.ipynb\">mls</a>  <a href=\"http://nbviewer.jupyter.org/github/qap/offline_radiation_notebooks/blob/master/longwave/lblnew_20160916/study__g1_threshold/co2/conc_0.0004/band03a_wn_540_620/nv_1000/dv_0.001/ng_9/g_ascending_k_descending/refPTs_P_1_T_250__P_10_T_250__P_500_T_250/ng_refs_3__2__4/ng_adju_0__0__0/getabsth_auto__auto__auto/absth_dlogN_uniform__dlogN_uniform__dlogN_uniform/klin_6.375563e-24/atmpro_saw/wgt_k_1/wgt_0.7_0.3_0.7__0.7_0.6__0.4_0.5_0.8_0.95/wgt_flux_1/w_diffuse_1.6_1.6_1.7__1.75_1.75__1.55_1.55_1.6_1.85/option_compute_ktable_0/option_compute_btable_0/crd_d5931a1/results.ipynb\">saw</a>  <a href=\"http://nbviewer.jupyter.org/github/qap/offline_radiation_notebooks/blob/master/longwave/lblnew_20160916/study__g1_threshold/co2/conc_0.0004/band03a_wn_540_620/nv_1000/dv_0.001/ng_9/g_ascending_k_descending/refPTs_P_1_T_250__P_10_T_250__P_500_T_250/ng_refs_3__2__4/ng_adju_0__0__0/getabsth_auto__auto__auto/absth_dlogN_uniform__dlogN_uniform__dlogN_uniform/klin_6.375563e-24/atmpro_trp/wgt_k_1/wgt_0.7_0.3_0.7__0.7_0.6__0.4_0.5_0.8_0.95/wgt_flux_1/w_diffuse_1.6_1.6_1.7__1.75_1.75__1.55_1.55_1.6_1.85/option_compute_ktable_0/option_compute_btable_0/crd_d5931a1/results.ipynb\">trp</a></td>\n",
       "      <td></td>\n",
       "      <td></td>\n",
       "      <td></td>\n",
       "    </tr>\n",
       "    <tr>\n",
       "      <th>3b</th>\n",
       "      <td><a href=\"http://nbviewer.jupyter.org/github/qap/offline_radiation_notebooks/blob/master/longwave/lblnew_20160916/study__g1_threshold/h2o/conc_None/band03b_wn_620_720/nv_1000/dv_0.001/ng_6/g_ascending_k_descending/refPTs_P_600_T_250/ng_refs_6/ng_adju_0/getabsth_auto/absth_dlogN_uniform/klin_1e-24/atmpro_mls/wgt_k_1/wgt_0.8_0.8_0.8_0.6_0.6_0.9/wgt_flux_1/w_diffuse_1.66_1.66_1.66_1.55_1.5_1.66/option_compute_ktable_0/option_compute_btable_0/crd_043bdfe/results.ipynb\">mls</a>  <a href=\"http://nbviewer.jupyter.org/github/qap/offline_radiation_notebooks/blob/master/longwave/lblnew_20160916/study__g1_threshold/h2o/conc_None/band03b_wn_620_720/nv_1000/dv_0.001/ng_6/g_ascending_k_descending/refPTs_P_600_T_250/ng_refs_6/ng_adju_0/getabsth_auto/absth_dlogN_uniform/klin_1e-24/atmpro_saw/wgt_k_1/wgt_0.8_0.8_0.8_0.6_0.6_0.9/wgt_flux_1/w_diffuse_1.66_1.66_1.66_1.55_1.5_1.66/option_compute_ktable_0/option_compute_btable_0/crd_043bdfe/results.ipynb\">saw</a>  <a href=\"http://nbviewer.jupyter.org/github/qap/offline_radiation_notebooks/blob/master/longwave/lblnew_20160916/study__g1_threshold/h2o/conc_None/band03b_wn_620_720/nv_1000/dv_0.001/ng_6/g_ascending_k_descending/refPTs_P_600_T_250/ng_refs_6/ng_adju_0/getabsth_auto/absth_dlogN_uniform/klin_1e-24/atmpro_trp/wgt_k_1/wgt_0.8_0.8_0.8_0.6_0.6_0.9/wgt_flux_1/w_diffuse_1.66_1.66_1.66_1.55_1.5_1.66/option_compute_ktable_0/option_compute_btable_0/crd_043bdfe/results.ipynb\">trp</a></td>\n",
       "      <td><a href=\"http://nbviewer.jupyter.org/github/qap/offline_radiation_notebooks/blob/master/longwave/lblnew_20160916/study__g1_threshold/co2/conc_0.0004/band03b_wn_620_720/nv_1000/dv_0.001/ng_7/g_ascending_k_descending/refPTs_P_1_T_250__P_10_T_250/ng_refs_5__2/ng_adju_0__0/getabsth_auto__auto/absth_dlogN_uniform__dlogN_uniform/klin_none/atmpro_mls/wgt_k_1/wgt_0_0.6_0.5_0.7_0.8__0.9_0.6/wgt_flux_1/w_diffuse_1.66_1.66_1.66_1.66_1.66__1.66_1.66/option_compute_ktable_0/option_compute_btable_0/crd_043bdfe/results.ipynb\">mls</a>  <a href=\"http://nbviewer.jupyter.org/github/qap/offline_radiation_notebooks/blob/master/longwave/lblnew_20160916/study__g1_threshold/co2/conc_0.0004/band03b_wn_620_720/nv_1000/dv_0.001/ng_7/g_ascending_k_descending/refPTs_P_1_T_250__P_10_T_250/ng_refs_5__2/ng_adju_0__0/getabsth_auto__auto/absth_dlogN_uniform__dlogN_uniform/klin_none/atmpro_saw/wgt_k_1/wgt_0_0.6_0.5_0.7_0.8__0.9_0.6/wgt_flux_1/w_diffuse_1.66_1.66_1.66_1.66_1.66__1.66_1.66/option_compute_ktable_0/option_compute_btable_0/crd_043bdfe/results.ipynb\">saw</a>  <a href=\"http://nbviewer.jupyter.org/github/qap/offline_radiation_notebooks/blob/master/longwave/lblnew_20160916/study__g1_threshold/co2/conc_0.0004/band03b_wn_620_720/nv_1000/dv_0.001/ng_7/g_ascending_k_descending/refPTs_P_1_T_250__P_10_T_250/ng_refs_5__2/ng_adju_0__0/getabsth_auto__auto/absth_dlogN_uniform__dlogN_uniform/klin_none/atmpro_trp/wgt_k_1/wgt_0_0.6_0.5_0.7_0.8__0.9_0.6/wgt_flux_1/w_diffuse_1.66_1.66_1.66_1.66_1.66__1.66_1.66/option_compute_ktable_0/option_compute_btable_0/crd_043bdfe/results.ipynb\">trp</a></td>\n",
       "      <td></td>\n",
       "      <td></td>\n",
       "      <td></td>\n",
       "    </tr>\n",
       "    <tr>\n",
       "      <th>3c</th>\n",
       "      <td><a href=\"http://nbviewer.jupyter.org/github/qap/offline_radiation_notebooks/blob/master/longwave/lblnew_20160916/study__g1_threshold/h2o/conc_None/band03c_wn_720_800/nv_1000/dv_0.001/ng_5/g_ascending_k_descending/refPTs_P_600_T_250/ng_refs_5/ng_adju_0/getabsth_auto/absth_dlogN_uniform/klin_5e-25/atmpro_mls/wgt_k_1/wgt_0.5_0.5_0.6_0.7_0.9/wgt_flux_1/w_diffuse_1.55_1.6_1.66_1.66_1.8/option_compute_ktable_0/option_compute_btable_0/crd_d5931a1/results.ipynb\">mls</a>  <a href=\"http://nbviewer.jupyter.org/github/qap/offline_radiation_notebooks/blob/master/longwave/lblnew_20160916/study__g1_threshold/h2o/conc_None/band03c_wn_720_800/nv_1000/dv_0.001/ng_5/g_ascending_k_descending/refPTs_P_600_T_250/ng_refs_5/ng_adju_0/getabsth_auto/absth_dlogN_uniform/klin_5e-25/atmpro_saw/wgt_k_1/wgt_0.5_0.5_0.6_0.7_0.9/wgt_flux_1/w_diffuse_1.55_1.6_1.66_1.66_1.8/option_compute_ktable_0/option_compute_btable_0/crd_d5931a1/results.ipynb\">saw</a>  <a href=\"http://nbviewer.jupyter.org/github/qap/offline_radiation_notebooks/blob/master/longwave/lblnew_20160916/study__g1_threshold/h2o/conc_None/band03c_wn_720_800/nv_1000/dv_0.001/ng_5/g_ascending_k_descending/refPTs_P_600_T_250/ng_refs_5/ng_adju_0/getabsth_auto/absth_dlogN_uniform/klin_5e-25/atmpro_trp/wgt_k_1/wgt_0.5_0.5_0.6_0.7_0.9/wgt_flux_1/w_diffuse_1.55_1.6_1.66_1.66_1.8/option_compute_ktable_0/option_compute_btable_0/crd_d5931a1/results.ipynb\">trp</a></td>\n",
       "      <td><a href=\"http://nbviewer.jupyter.org/github/qap/offline_radiation_notebooks/blob/master/longwave/lblnew_20160916/study__g1_threshold/co2/conc_0.0004/band03c_wn_720_800/nv_1000/dv_0.001/ng_9/g_ascending_k_descending/refPTs_P_1_T_250__P_10_T_250__P_500_T_250/ng_refs_3__2__4/ng_adju_0__0__0/getabsth_auto__auto__auto/absth_dlogN_uniform__dlogN_uniform__dlogN_uniform/klin_6.375563e-24/atmpro_mls/wgt_k_1/wgt_0.6_0.4_0.7__0.7_0.4__0.3_0.4_0.85_0.9/wgt_flux_1/w_diffuse_1.7_1.6_1.8__1.8_1.7__1.5_1.6_1.7_1.8/option_compute_ktable_0/option_compute_btable_0/crd_043bdfe/results.ipynb\">mls</a>  <a href=\"http://nbviewer.jupyter.org/github/qap/offline_radiation_notebooks/blob/master/longwave/lblnew_20160916/study__g1_threshold/co2/conc_0.0004/band03c_wn_720_800/nv_1000/dv_0.001/ng_9/g_ascending_k_descending/refPTs_P_1_T_250__P_10_T_250__P_500_T_250/ng_refs_3__2__4/ng_adju_0__0__0/getabsth_auto__auto__auto/absth_dlogN_uniform__dlogN_uniform__dlogN_uniform/klin_6.375563e-24/atmpro_saw/wgt_k_1/wgt_0.6_0.4_0.7__0.7_0.4__0.3_0.4_0.85_0.9/wgt_flux_1/w_diffuse_1.7_1.6_1.8__1.8_1.7__1.5_1.6_1.7_1.8/option_compute_ktable_0/option_compute_btable_0/crd_043bdfe/results.ipynb\">saw</a>  <a href=\"http://nbviewer.jupyter.org/github/qap/offline_radiation_notebooks/blob/master/longwave/lblnew_20160916/study__g1_threshold/co2/conc_0.0004/band03c_wn_720_800/nv_1000/dv_0.001/ng_9/g_ascending_k_descending/refPTs_P_1_T_250__P_10_T_250__P_500_T_250/ng_refs_3__2__4/ng_adju_0__0__0/getabsth_auto__auto__auto/absth_dlogN_uniform__dlogN_uniform__dlogN_uniform/klin_6.375563e-24/atmpro_trp/wgt_k_1/wgt_0.6_0.4_0.7__0.7_0.4__0.3_0.4_0.85_0.9/wgt_flux_1/w_diffuse_1.7_1.6_1.8__1.8_1.7__1.5_1.6_1.7_1.8/option_compute_ktable_0/option_compute_btable_0/crd_043bdfe/results.ipynb\">trp</a></td>\n",
       "      <td></td>\n",
       "      <td></td>\n",
       "      <td></td>\n",
       "    </tr>\n",
       "    <tr>\n",
       "      <th>4</th>\n",
       "      <td><a href=\"http://nbviewer.jupyter.org/github/qap/offline_radiation_notebooks/blob/master/longwave/lblnew_20160916/study__g1_threshold/h2o/conc_None/band04_wn_800_980/nv_1000/dv_0.001/ng_3/g_ascending_k_descending/refPTs_P_600_T_250/ng_refs_3/ng_adju_0/getabsth_auto/absth_dlogN_uniform/klin_1e-24/atmpro_mls/wgt_k_1/wgt_0.5_0.55_0.85/wgt_flux_1/w_diffuse_1.66_1.66_1.85/option_compute_ktable_0/option_compute_btable_0/crd_d5931a1/results.ipynb\">mls</a>  <a href=\"http://nbviewer.jupyter.org/github/qap/offline_radiation_notebooks/blob/master/longwave/lblnew_20160916/study__g1_threshold/h2o/conc_None/band04_wn_800_980/nv_1000/dv_0.001/ng_3/g_ascending_k_descending/refPTs_P_600_T_250/ng_refs_3/ng_adju_0/getabsth_auto/absth_dlogN_uniform/klin_1e-24/atmpro_saw/wgt_k_1/wgt_0.5_0.55_0.85/wgt_flux_1/w_diffuse_1.66_1.66_1.85/option_compute_ktable_0/option_compute_btable_0/crd_d5931a1/results.ipynb\">saw</a>  <a href=\"http://nbviewer.jupyter.org/github/qap/offline_radiation_notebooks/blob/master/longwave/lblnew_20160916/study__g1_threshold/h2o/conc_None/band04_wn_800_980/nv_1000/dv_0.001/ng_3/g_ascending_k_descending/refPTs_P_600_T_250/ng_refs_3/ng_adju_0/getabsth_auto/absth_dlogN_uniform/klin_1e-24/atmpro_trp/wgt_k_1/wgt_0.5_0.55_0.85/wgt_flux_1/w_diffuse_1.66_1.66_1.85/option_compute_ktable_0/option_compute_btable_0/crd_d5931a1/results.ipynb\">trp</a></td>\n",
       "      <td></td>\n",
       "      <td></td>\n",
       "      <td></td>\n",
       "      <td></td>\n",
       "    </tr>\n",
       "    <tr>\n",
       "      <th>5</th>\n",
       "      <td><a href=\"http://nbviewer.jupyter.org/github/qap/offline_radiation_notebooks/blob/master/longwave/lblnew_20160916/study__g1_threshold/h2o/conc_None/band05_wn_980_1100/nv_1000/dv_0.001/ng_3/g_ascending_k_descending/refPTs_P_600_T_250/ng_refs_3/ng_adju_0/getabsth_auto/absth_dlogN_uniform/klin_1e-24/atmpro_mls/wgt_k_1/wgt_0.5_0.55_0.9/wgt_flux_1/w_diffuse_1.66_1.66_1.8/option_compute_ktable_0/option_compute_btable_0/crd_d5931a1/results.ipynb\">mls</a>  <a href=\"http://nbviewer.jupyter.org/github/qap/offline_radiation_notebooks/blob/master/longwave/lblnew_20160916/study__g1_threshold/h2o/conc_None/band05_wn_980_1100/nv_1000/dv_0.001/ng_3/g_ascending_k_descending/refPTs_P_600_T_250/ng_refs_3/ng_adju_0/getabsth_auto/absth_dlogN_uniform/klin_1e-24/atmpro_saw/wgt_k_1/wgt_0.5_0.55_0.9/wgt_flux_1/w_diffuse_1.66_1.66_1.8/option_compute_ktable_0/option_compute_btable_0/crd_d5931a1/results.ipynb\">saw</a>  <a href=\"http://nbviewer.jupyter.org/github/qap/offline_radiation_notebooks/blob/master/longwave/lblnew_20160916/study__g1_threshold/h2o/conc_None/band05_wn_980_1100/nv_1000/dv_0.001/ng_3/g_ascending_k_descending/refPTs_P_600_T_250/ng_refs_3/ng_adju_0/getabsth_auto/absth_dlogN_uniform/klin_1e-24/atmpro_trp/wgt_k_1/wgt_0.5_0.55_0.9/wgt_flux_1/w_diffuse_1.66_1.66_1.8/option_compute_ktable_0/option_compute_btable_0/crd_d5931a1/results.ipynb\">trp</a></td>\n",
       "      <td></td>\n",
       "      <td><a href=\"http://nbviewer.jupyter.org/github/qap/offline_radiation_notebooks/blob/master/longwave/lblnew_20160916/study__g1_threshold/o3/conc_None/band05_wn_980_1100/nv_1000/dv_0.001/ng_7/g_ascending_k_descending/refPTs_P_1_T_250__P_50_T_250/ng_refs_2__5/ng_adju_0__0/getabsth_auto__auto/absth_dlogN_uniform__dlogN_uniform/klin_2e-20/atmpro_mls/wgt_k_1/wgt_0.35_0.6__0.5_0.55_0.7_0.9_1.0/wgt_flux_1/w_diffuse_1.6_1.75__1.55_1.66_1.7_1.75_1.8/option_compute_ktable_0/option_compute_btable_0/crd_d5931a1/results.ipynb\">mls</a>  <a href=\"http://nbviewer.jupyter.org/github/qap/offline_radiation_notebooks/blob/master/longwave/lblnew_20160916/study__g1_threshold/o3/conc_None/band05_wn_980_1100/nv_1000/dv_0.001/ng_7/g_ascending_k_descending/refPTs_P_1_T_250__P_50_T_250/ng_refs_2__5/ng_adju_0__0/getabsth_auto__auto/absth_dlogN_uniform__dlogN_uniform/klin_2e-20/atmpro_saw/wgt_k_1/wgt_0.35_0.6__0.5_0.55_0.7_0.9_1.0/wgt_flux_1/w_diffuse_1.6_1.75__1.55_1.66_1.7_1.75_1.8/option_compute_ktable_0/option_compute_btable_0/crd_d5931a1/results.ipynb\">saw</a>  <a href=\"http://nbviewer.jupyter.org/github/qap/offline_radiation_notebooks/blob/master/longwave/lblnew_20160916/study__g1_threshold/o3/conc_None/band05_wn_980_1100/nv_1000/dv_0.001/ng_7/g_ascending_k_descending/refPTs_P_1_T_250__P_50_T_250/ng_refs_2__5/ng_adju_0__0/getabsth_auto__auto/absth_dlogN_uniform__dlogN_uniform/klin_2e-20/atmpro_trp/wgt_k_1/wgt_0.35_0.6__0.5_0.55_0.7_0.9_1.0/wgt_flux_1/w_diffuse_1.6_1.75__1.55_1.66_1.7_1.75_1.8/option_compute_ktable_0/option_compute_btable_0/crd_d5931a1/results.ipynb\">trp</a></td>\n",
       "      <td></td>\n",
       "      <td></td>\n",
       "    </tr>\n",
       "    <tr>\n",
       "      <th>6</th>\n",
       "      <td><a href=\"http://nbviewer.jupyter.org/github/qap/offline_radiation_notebooks/blob/master/longwave/lblnew_20160916/study__g1_threshold/h2o/conc_None/band06_wn_1100_1215/nv_1000/dv_0.001/ng_4/g_ascending_k_descending/refPTs_P_600_T_250/ng_refs_4/ng_adju_0/getabsth_auto/absth_dlogN_uniform/klin_5e-25/atmpro_mls/wgt_k_1/wgt_0.3_0.45_0.6_0.95/wgt_flux_1/w_diffuse_1.66_1.66_1.7_1.8/option_compute_ktable_0/option_compute_btable_0/crd_d5931a1/results.ipynb\">mls</a>  <a href=\"http://nbviewer.jupyter.org/github/qap/offline_radiation_notebooks/blob/master/longwave/lblnew_20160916/study__g1_threshold/h2o/conc_None/band06_wn_1100_1215/nv_1000/dv_0.001/ng_4/g_ascending_k_descending/refPTs_P_600_T_250/ng_refs_4/ng_adju_0/getabsth_auto/absth_dlogN_uniform/klin_5e-25/atmpro_saw/wgt_k_1/wgt_0.3_0.45_0.6_0.95/wgt_flux_1/w_diffuse_1.66_1.66_1.7_1.8/option_compute_ktable_0/option_compute_btable_0/crd_d5931a1/results.ipynb\">saw</a>  <a href=\"http://nbviewer.jupyter.org/github/qap/offline_radiation_notebooks/blob/master/longwave/lblnew_20160916/study__g1_threshold/h2o/conc_None/band06_wn_1100_1215/nv_1000/dv_0.001/ng_4/g_ascending_k_descending/refPTs_P_600_T_250/ng_refs_4/ng_adju_0/getabsth_auto/absth_dlogN_uniform/klin_5e-25/atmpro_trp/wgt_k_1/wgt_0.3_0.45_0.6_0.95/wgt_flux_1/w_diffuse_1.66_1.66_1.7_1.8/option_compute_ktable_0/option_compute_btable_0/crd_d5931a1/results.ipynb\">trp</a></td>\n",
       "      <td></td>\n",
       "      <td></td>\n",
       "      <td></td>\n",
       "      <td></td>\n",
       "    </tr>\n",
       "    <tr>\n",
       "      <th>7</th>\n",
       "      <td><a href=\"http://nbviewer.jupyter.org/github/qap/offline_radiation_notebooks/blob/master/longwave/lblnew_20160916/study__g1_threshold/h2o/conc_None/band07_wn_1215_1380/nv_1000/dv_0.001/ng_7/g_ascending_k_descending/refPTs_P_600_T_250/ng_refs_7/ng_adju_0/getabsth_auto/absth_dlogN_uniform/klin_none/atmpro_mls/wgt_k_1/wgt_0.5_0.5_0.5_0.5_0.5_0.5_0.9/wgt_flux_1/w_diffuse_2_1.6_1.6_1.6_1.6_1.6_1.8/option_compute_ktable_0/option_compute_btable_0/crd_043bdfe/results.ipynb\">mls</a>  <a href=\"http://nbviewer.jupyter.org/github/qap/offline_radiation_notebooks/blob/master/longwave/lblnew_20160916/study__g1_threshold/h2o/conc_None/band07_wn_1215_1380/nv_1000/dv_0.001/ng_7/g_ascending_k_descending/refPTs_P_600_T_250/ng_refs_7/ng_adju_0/getabsth_auto/absth_dlogN_uniform/klin_none/atmpro_saw/wgt_k_1/wgt_0.5_0.5_0.5_0.5_0.5_0.5_0.9/wgt_flux_1/w_diffuse_2_1.6_1.6_1.6_1.6_1.6_1.8/option_compute_ktable_0/option_compute_btable_0/crd_043bdfe/results.ipynb\">saw</a>  <a href=\"http://nbviewer.jupyter.org/github/qap/offline_radiation_notebooks/blob/master/longwave/lblnew_20160916/study__g1_threshold/h2o/conc_None/band07_wn_1215_1380/nv_1000/dv_0.001/ng_7/g_ascending_k_descending/refPTs_P_600_T_250/ng_refs_7/ng_adju_0/getabsth_auto/absth_dlogN_uniform/klin_none/atmpro_trp/wgt_k_1/wgt_0.5_0.5_0.5_0.5_0.5_0.5_0.9/wgt_flux_1/w_diffuse_2_1.6_1.6_1.6_1.6_1.6_1.8/option_compute_ktable_0/option_compute_btable_0/crd_043bdfe/results.ipynb\">trp</a></td>\n",
       "      <td></td>\n",
       "      <td></td>\n",
       "      <td><a href=\"http://nbviewer.jupyter.org/github/qap/offline_radiation_notebooks/blob/master/longwave/lblnew_20160916/study__g1_threshold/n2o/conc_3.2e-07/band07_wn_1215_1380/nv_1000/dv_0.001/ng_4/g_ascending_k_descending/refPTs_P_1_T_250__P_500_T_250/ng_refs_2__2/ng_adju_0__0/getabsth_auto__auto/absth_dlogN_uniform__dlogN_uniform/klin_2.22e-20/atmpro_mls/wgt_k_1/wgt_0.6_0.5__0.6_0.9/wgt_flux_1/w_diffuse_1.8_1.66__1.6_1.8/option_compute_ktable_0/option_compute_btable_0/crd_043bdfe/results.ipynb\">mls</a>  <a href=\"http://nbviewer.jupyter.org/github/qap/offline_radiation_notebooks/blob/master/longwave/lblnew_20160916/study__g1_threshold/n2o/conc_3.2e-07/band07_wn_1215_1380/nv_1000/dv_0.001/ng_4/g_ascending_k_descending/refPTs_P_1_T_250__P_500_T_250/ng_refs_2__2/ng_adju_0__0/getabsth_auto__auto/absth_dlogN_uniform__dlogN_uniform/klin_2.22e-20/atmpro_saw/wgt_k_1/wgt_0.6_0.5__0.6_0.9/wgt_flux_1/w_diffuse_1.8_1.66__1.6_1.8/option_compute_ktable_0/option_compute_btable_0/crd_043bdfe/results.ipynb\">saw</a>  <a href=\"http://nbviewer.jupyter.org/github/qap/offline_radiation_notebooks/blob/master/longwave/lblnew_20160916/study__g1_threshold/n2o/conc_3.2e-07/band07_wn_1215_1380/nv_1000/dv_0.001/ng_4/g_ascending_k_descending/refPTs_P_1_T_250__P_500_T_250/ng_refs_2__2/ng_adju_0__0/getabsth_auto__auto/absth_dlogN_uniform__dlogN_uniform/klin_2.22e-20/atmpro_trp/wgt_k_1/wgt_0.6_0.5__0.6_0.9/wgt_flux_1/w_diffuse_1.8_1.66__1.6_1.8/option_compute_ktable_0/option_compute_btable_0/crd_043bdfe/results.ipynb\">trp</a></td>\n",
       "      <td><a href=\"http://nbviewer.jupyter.org/github/qap/offline_radiation_notebooks/blob/master/longwave/lblnew_20160916/study__g1_threshold/ch4/conc_1.8e-06/band07_wn_1215_1380/nv_100/dv_0.01/ng_5/g_ascending_k_descending/refPTs_P_1_T_250__P_500_T_250/ng_refs_2__3/ng_adju_0__0/getabsth_auto__auto/absth_dlogN_uniform__dlogN_uniform/klin_none/atmpro_mls/wgt_k_1/wgt_0.5_0.5__0.5_0.5_0.5/wgt_flux_2/w_diffuse_1.66_1.66__1.66_1.66_1.66/option_compute_ktable_0/option_compute_btable_0/crd_043bdfe/results.ipynb\">mls</a>  <a href=\"http://nbviewer.jupyter.org/github/qap/offline_radiation_notebooks/blob/master/longwave/lblnew_20160916/study__g1_threshold/ch4/conc_1.8e-06/band07_wn_1215_1380/nv_100/dv_0.01/ng_5/g_ascending_k_descending/refPTs_P_1_T_250__P_500_T_250/ng_refs_2__3/ng_adju_0__0/getabsth_auto__auto/absth_dlogN_uniform__dlogN_uniform/klin_none/atmpro_saw/wgt_k_1/wgt_0.5_0.5__0.5_0.5_0.5/wgt_flux_2/w_diffuse_1.66_1.66__1.66_1.66_1.66/option_compute_ktable_0/option_compute_btable_0/crd_043bdfe/results.ipynb\">saw</a>  <a href=\"http://nbviewer.jupyter.org/github/qap/offline_radiation_notebooks/blob/master/longwave/lblnew_20160916/study__g1_threshold/ch4/conc_1.8e-06/band07_wn_1215_1380/nv_100/dv_0.01/ng_5/g_ascending_k_descending/refPTs_P_1_T_250__P_500_T_250/ng_refs_2__3/ng_adju_0__0/getabsth_auto__auto/absth_dlogN_uniform__dlogN_uniform/klin_none/atmpro_trp/wgt_k_1/wgt_0.5_0.5__0.5_0.5_0.5/wgt_flux_2/w_diffuse_1.66_1.66__1.66_1.66_1.66/option_compute_ktable_0/option_compute_btable_0/crd_043bdfe/results.ipynb\">trp</a></td>\n",
       "    </tr>\n",
       "    <tr>\n",
       "      <th>8</th>\n",
       "      <td><a href=\"http://nbviewer.jupyter.org/github/qap/offline_radiation_notebooks/blob/master/longwave/lblnew_20160916/study__g1_threshold/h2o/conc_None/band08_wn_1380_1900/nv_1000/dv_0.001/ng_8/g_ascending_k_descending/refPTs_P_1_T_250__P_10_T_250__P_500_T_250/ng_refs_3__2__3/ng_adju_0__-1__0/getabsth_auto__auto__auto/absth_dlogN_uniform__dlogN_uniform__dlogN_uniform/klin_none/atmpro_mls/wgt_k_1/wgt_0.55_0.55_0.85__0.85_0.85__0_0.3_0.55/wgt_flux_1/w_diffuse_1.66_1.66_1.66__1.66_1.66__1.66_1.66_1.66/option_compute_ktable_0/option_compute_btable_0/crd_d5931a1/results.ipynb\">mls</a>  <a href=\"http://nbviewer.jupyter.org/github/qap/offline_radiation_notebooks/blob/master/longwave/lblnew_20160916/study__g1_threshold/h2o/conc_None/band08_wn_1380_1900/nv_1000/dv_0.001/ng_8/g_ascending_k_descending/refPTs_P_1_T_250__P_10_T_250__P_500_T_250/ng_refs_3__2__3/ng_adju_0__-1__0/getabsth_auto__auto__auto/absth_dlogN_uniform__dlogN_uniform__dlogN_uniform/klin_none/atmpro_saw/wgt_k_1/wgt_0.55_0.55_0.85__0.85_0.85__0_0.3_0.55/wgt_flux_1/w_diffuse_1.66_1.66_1.66__1.66_1.66__1.66_1.66_1.66/option_compute_ktable_0/option_compute_btable_0/crd_d5931a1/results.ipynb\">saw</a>  <a href=\"http://nbviewer.jupyter.org/github/qap/offline_radiation_notebooks/blob/master/longwave/lblnew_20160916/study__g1_threshold/h2o/conc_None/band08_wn_1380_1900/nv_1000/dv_0.001/ng_8/g_ascending_k_descending/refPTs_P_1_T_250__P_10_T_250__P_500_T_250/ng_refs_3__2__3/ng_adju_0__-1__0/getabsth_auto__auto__auto/absth_dlogN_uniform__dlogN_uniform__dlogN_uniform/klin_none/atmpro_trp/wgt_k_1/wgt_0.55_0.55_0.85__0.85_0.85__0_0.3_0.55/wgt_flux_1/w_diffuse_1.66_1.66_1.66__1.66_1.66__1.66_1.66_1.66/option_compute_ktable_0/option_compute_btable_0/crd_d5931a1/results.ipynb\">trp</a></td>\n",
       "      <td></td>\n",
       "      <td></td>\n",
       "      <td></td>\n",
       "      <td></td>\n",
       "    </tr>\n",
       "    <tr>\n",
       "      <th>9</th>\n",
       "      <td><a href=\"http://nbviewer.jupyter.org/github/qap/offline_radiation_notebooks/blob/master/longwave/lblnew_20160916/study__g1_threshold/h2o/conc_None/band09_wn_1900_3000/nv_1000/dv_0.001/ng_5/g_ascending_k_descending/refPTs_P_500_T_250/ng_refs_5/ng_adju_0/getabsth_auto/absth_dlogN_uniform/klin_1e-24/atmpro_mls/wgt_k_1/wgt_0.4_0.4_0.5_0.55_0.85/wgt_flux_1/w_diffuse_1.66_1.66_1.66_1.66_1.66/option_compute_ktable_0/option_compute_btable_0/crd_d5931a1/results.ipynb\">mls</a>  <a href=\"http://nbviewer.jupyter.org/github/qap/offline_radiation_notebooks/blob/master/longwave/lblnew_20160916/study__g1_threshold/h2o/conc_None/band09_wn_1900_3000/nv_1000/dv_0.001/ng_5/g_ascending_k_descending/refPTs_P_500_T_250/ng_refs_5/ng_adju_0/getabsth_auto/absth_dlogN_uniform/klin_1e-24/atmpro_saw/wgt_k_1/wgt_0.4_0.4_0.5_0.55_0.85/wgt_flux_1/w_diffuse_1.66_1.66_1.66_1.66_1.66/option_compute_ktable_0/option_compute_btable_0/crd_d5931a1/results.ipynb\">saw</a>  <a href=\"http://nbviewer.jupyter.org/github/qap/offline_radiation_notebooks/blob/master/longwave/lblnew_20160916/study__g1_threshold/h2o/conc_None/band09_wn_1900_3000/nv_1000/dv_0.001/ng_5/g_ascending_k_descending/refPTs_P_500_T_250/ng_refs_5/ng_adju_0/getabsth_auto/absth_dlogN_uniform/klin_1e-24/atmpro_trp/wgt_k_1/wgt_0.4_0.4_0.5_0.55_0.85/wgt_flux_1/w_diffuse_1.66_1.66_1.66_1.66_1.66/option_compute_ktable_0/option_compute_btable_0/crd_d5931a1/results.ipynb\">trp</a></td>\n",
       "      <td><a href=\"http://nbviewer.jupyter.org/github/qap/offline_radiation_notebooks/blob/master/longwave/lblnew_20160916/study__g1_threshold/co2/conc_0.0004/band09_wn_1900_3000/nv_1000/dv_0.001/ng_6/g_ascending_k_descending/refPTs_P_1_T_250__P_50_T_250/ng_refs_3__3/ng_adju_2__0/getabsth_auto__auto/absth_dlogN_uniform__dlogN_uniform/klin_1e-23/atmpro_mls/wgt_k_1/wgt_0.7_0.8_0.7__0.8_0.7_0.8/wgt_flux_1/w_diffuse_1.66_1.66_1.75__1.75_1.6_1.85/option_compute_ktable_0/option_compute_btable_0/crd_043bdfe/results.ipynb\">mls</a>  <a href=\"http://nbviewer.jupyter.org/github/qap/offline_radiation_notebooks/blob/master/longwave/lblnew_20160916/study__g1_threshold/co2/conc_0.0004/band09_wn_1900_3000/nv_1000/dv_0.001/ng_6/g_ascending_k_descending/refPTs_P_1_T_250__P_50_T_250/ng_refs_3__3/ng_adju_2__0/getabsth_auto__auto/absth_dlogN_uniform__dlogN_uniform/klin_1e-23/atmpro_saw/wgt_k_1/wgt_0.7_0.8_0.7__0.8_0.7_0.8/wgt_flux_1/w_diffuse_1.66_1.66_1.75__1.75_1.6_1.85/option_compute_ktable_0/option_compute_btable_0/crd_043bdfe/results.ipynb\">saw</a>  <a href=\"http://nbviewer.jupyter.org/github/qap/offline_radiation_notebooks/blob/master/longwave/lblnew_20160916/study__g1_threshold/co2/conc_0.0004/band09_wn_1900_3000/nv_1000/dv_0.001/ng_6/g_ascending_k_descending/refPTs_P_1_T_250__P_50_T_250/ng_refs_3__3/ng_adju_2__0/getabsth_auto__auto/absth_dlogN_uniform__dlogN_uniform/klin_1e-23/atmpro_trp/wgt_k_1/wgt_0.7_0.8_0.7__0.8_0.7_0.8/wgt_flux_1/w_diffuse_1.66_1.66_1.75__1.75_1.6_1.85/option_compute_ktable_0/option_compute_btable_0/crd_043bdfe/results.ipynb\">trp</a></td>\n",
       "      <td><a href=\"http://nbviewer.jupyter.org/github/qap/offline_radiation_notebooks/blob/master/longwave/lblnew_20160916/study__g1_threshold/o3/conc_None/band09_wn_1900_3000/nv_1000/dv_0.001/ng_7/g_ascending_k_descending/refPTs_P_1_T_250__P_50_T_250/ng_refs_2__5/ng_adju_0__0/getabsth_auto__auto/absth_dlogN_uniform__dlogN_uniform/klin_2e-20/atmpro_mls/wgt_k_1/wgt_0.3_0.4__0.5_0.6_0.7_0.85_0.9/wgt_flux_1/w_diffuse_1.55_1.55__1.55_1.55_1.55_1.55_1.8/option_compute_ktable_0/option_compute_btable_0/crd_d5931a1/results.ipynb\">mls</a>  <a href=\"http://nbviewer.jupyter.org/github/qap/offline_radiation_notebooks/blob/master/longwave/lblnew_20160916/study__g1_threshold/o3/conc_None/band09_wn_1900_3000/nv_1000/dv_0.001/ng_7/g_ascending_k_descending/refPTs_P_1_T_250__P_50_T_250/ng_refs_2__5/ng_adju_0__0/getabsth_auto__auto/absth_dlogN_uniform__dlogN_uniform/klin_2e-20/atmpro_saw/wgt_k_1/wgt_0.3_0.4__0.5_0.6_0.7_0.85_0.9/wgt_flux_1/w_diffuse_1.55_1.55__1.55_1.55_1.55_1.55_1.8/option_compute_ktable_0/option_compute_btable_0/crd_d5931a1/results.ipynb\">saw</a>  <a href=\"http://nbviewer.jupyter.org/github/qap/offline_radiation_notebooks/blob/master/longwave/lblnew_20160916/study__g1_threshold/o3/conc_None/band09_wn_1900_3000/nv_1000/dv_0.001/ng_7/g_ascending_k_descending/refPTs_P_1_T_250__P_50_T_250/ng_refs_2__5/ng_adju_0__0/getabsth_auto__auto/absth_dlogN_uniform__dlogN_uniform/klin_2e-20/atmpro_trp/wgt_k_1/wgt_0.3_0.4__0.5_0.6_0.7_0.85_0.9/wgt_flux_1/w_diffuse_1.55_1.55__1.55_1.55_1.55_1.55_1.8/option_compute_ktable_0/option_compute_btable_0/crd_d5931a1/results.ipynb\">trp</a></td>\n",
       "      <td></td>\n",
       "      <td></td>\n",
       "    </tr>\n",
       "  </tbody>\n",
       "</table>"
      ],
      "text/plain": [
       "<IPython.core.display.HTML object>"
      ]
     },
     "metadata": {},
     "output_type": "display_data"
    }
   ],
   "source": [
    "script()"
   ]
  },
  {
   "cell_type": "code",
   "execution_count": 97,
   "metadata": {},
   "outputs": [
    {
     "data": {
      "text/html": [
       "<script>\n",
       "code_show=true; \n",
       "function code_toggle() {\n",
       " if (code_show){\n",
       " $('div.input').hide();\n",
       " } else {\n",
       " $('div.input').show();\n",
       " }\n",
       " code_show = !code_show\n",
       "} \n",
       "$( document ).ready(code_toggle);\n",
       "</script>\n",
       "<form action=\"javascript:code_toggle()\"><input type=\"submit\" value=\"Click here to toggle on/off the raw code.\"></form>"
      ],
      "text/plain": [
       "<IPython.core.display.HTML object>"
      ]
     },
     "execution_count": 97,
     "metadata": {},
     "output_type": "execute_result"
    }
   ],
   "source": [
    "display.HTML('''<script>\n",
    "code_show=true; \n",
    "function code_toggle() {\n",
    " if (code_show){\n",
    " $('div.input').hide();\n",
    " } else {\n",
    " $('div.input').show();\n",
    " }\n",
    " code_show = !code_show\n",
    "} \n",
    "$( document ).ready(code_toggle);\n",
    "</script>\n",
    "<form action=\"javascript:code_toggle()\"><input type=\"submit\" value=\"Click here to toggle on/off the raw code.\"></form>''')"
   ]
  },
  {
   "cell_type": "code",
   "execution_count": null,
   "metadata": {
    "collapsed": true
   },
   "outputs": [],
   "source": []
  }
 ],
 "metadata": {
  "kernelspec": {
   "display_name": "Python 3",
   "language": "python",
   "name": "python3"
  },
  "language_info": {
   "codemirror_mode": {
    "name": "ipython",
    "version": 3
   },
   "file_extension": ".py",
   "mimetype": "text/x-python",
   "name": "python",
   "nbconvert_exporter": "python",
   "pygments_lexer": "ipython3",
   "version": "3.6.1"
  }
 },
 "nbformat": 4,
 "nbformat_minor": 2
}
