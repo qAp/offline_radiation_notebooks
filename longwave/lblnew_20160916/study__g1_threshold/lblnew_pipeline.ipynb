{
 "cells": [
  {
   "cell_type": "code",
   "execution_count": 7,
   "metadata": {
    "collapsed": true
   },
   "outputs": [],
   "source": [
    "import os\n",
    "import subprocess\n",
    "import collections\n",
    "\n",
    "import climatools.clirad.info as cliradinfo"
   ]
  },
  {
   "cell_type": "code",
   "execution_count": 17,
   "metadata": {},
   "outputs": [],
   "source": [
    "CLIRADLW_BANDS = cliradinfo.wavenumber_bands(region='lw')"
   ]
  },
  {
   "cell_type": "code",
   "execution_count": 18,
   "metadata": {
    "collapsed": true
   },
   "outputs": [],
   "source": [
    "DIR_SRC = os.path.join('/chia_cluster/home/jackyu/radiation/crd',\n",
    "                       'LW/src',\n",
    "                       'lblnew_-_nref_-_autoabsth_klin_-_gasc_kdesc')"
   ]
  },
  {
   "cell_type": "code",
   "execution_count": 36,
   "metadata": {
    "collapsed": true
   },
   "outputs": [],
   "source": [
    "params_1 = {\n",
    "    'molecule': 'h2o',\n",
    "    'band': 8,\n",
    "    'ref_pts': [(1, 250), (10, 250), (500, 250)],\n",
    "    'ng_refs': [3, 2, 3],\n",
    "    'wgt': [(.55, .55, .85), (.85, .85), (0, .3, .55)],\n",
    "    'option_wgt_flux': 2,\n",
    "    'option_wgt_k': 1,\n",
    "    'klin': 0,\n",
    "    'commitnumber': 'a1423',\n",
    "    'atmpro': 'saw'\n",
    "}\n",
    "\n",
    "params_2 = {\n",
    "    'molecule': 'h2o',\n",
    "    'band': 6,\n",
    "    'ref_pts': [(600, 250), ],\n",
    "    'ng_refs': [4,],\n",
    "    'wgt': [(.55, .6, .65, .95)],\n",
    "    'option_wgt_flux': 2,\n",
    "    'option_wgt_k': 1,\n",
    "    'klin': 5e-25,\n",
    "    'commitnumber': 'a3d1611',\n",
    "    'atmpro': 'mls'\n",
    "}"
   ]
  },
  {
   "cell_type": "code",
   "execution_count": 37,
   "metadata": {
    "collapsed": true
   },
   "outputs": [],
   "source": [
    "def enter_input_params(path_lblnew, params=None):\n",
    "    pass"
   ]
  },
  {
   "cell_type": "code",
   "execution_count": 38,
   "metadata": {},
   "outputs": [],
   "source": [
    "def get_dir_case(params):\n",
    "    '''\n",
    "    Returns the absolute path of the directory in which \n",
    "    to run the case with input parameters `params`\n",
    "    '''   \n",
    "    template = os.path.join(\n",
    "        '/chia_cluster/home/jackyu/radiation/crd',\n",
    "        'LW/examples',\n",
    "        'separate_g_groups',\n",
    "        'study__lblnew_g1_threshold',\n",
    "        '{molecule}',\n",
    "        'band{band:02d}_wn_{vmin:d}_{vmax:d}',\n",
    "        'ng_{ng:d}',\n",
    "        'g_ascending_k_descending',\n",
    "        'refPTs_{refPTs}',\n",
    "        'ng_refs_{ng_refs}',\n",
    "        'getabsth_{getabsth}',\n",
    "        'absth_{absth}',\n",
    "        'wgt_{wgt}',\n",
    "        'wgt_flux_{option_wgt_flux}',\n",
    "        'wgt_k_{option_wgt_k}',\n",
    "        'klin_{klin}',\n",
    "        'crd_{commitnumber}',\n",
    "        'atmpro_{atmpro}')\n",
    "    \n",
    "    nref = len(params['ng_refs'])\n",
    "    vmin, vmax = clirad_bands[params['band']][0]\n",
    "    ng = sum(params['ng_refs'])\n",
    "    refPTs = '__'.join(['P_{}_T_{}'.format(*pt) \n",
    "                        for pt in params['ref_pts']])\n",
    "    ng_refs = '__'.join([str(n) for n in params['ng_refs']])\n",
    "    getabsth = '__'.join(['auto' for _ in range(nref)])\n",
    "    absth = '__'.join(['dlogN_uniform' for _ in range(nref)])\n",
    "    wgt = '__'.join(['_'.join([str(w) for w in wgt_ref]) \n",
    "                     for wgt_ref in params['wgt']])\n",
    "    klin = 'none' if params['klin'] == 0 else params['klin']\n",
    "    \n",
    "    return template.format(molecule=params['molecule'],\n",
    "                    band=params['band'], vmin=vmin, vmax=vmax,\n",
    "                    ng=ng,\n",
    "                    refPTs=refPTs,\n",
    "                    ng_refs=ng_refs,\n",
    "                    getabsth=getabsth,\n",
    "                    absth=absth,\n",
    "                    wgt=wgt,\n",
    "                    option_wgt_flux=params['option_wgt_flux'],\n",
    "                    option_wgt_k=params['option_wgt_k'],\n",
    "                    klin=klin,\n",
    "                    commitnumber=params['commitnumber'],\n",
    "                    atmpro=params['atmpro'])"
   ]
  },
  {
   "cell_type": "code",
   "execution_count": 74,
   "metadata": {
    "collapsed": true
   },
   "outputs": [],
   "source": [
    "def run_cases(cases_params=None):\n",
    "    \n",
    "    procs = []\n",
    "    for params in cases_params:\n",
    "        dir_case = get_dir_case(params)\n",
    "        \n",
    "        print(dir_case)\n",
    "        \n",
    "        try:\n",
    "            os.makedirs(dir_case)\n",
    "        except FileExistsError:\n",
    "            print(params, 'This case already exists.')\n",
    "            print()\n",
    "            procs.append(None)\n",
    "            continue\n",
    "            \n",
    "        try:\n",
    "            os.chdir(dir_case)\n",
    "            assert os.system('cp {}/*.f .'.format(dir_src)) == 0\n",
    "        except AssertionError:\n",
    "            print('Problem copying source code to case directory for '\n",
    "                  'case',\n",
    "                  dir_case)\n",
    "            print()\n",
    "            procs.append(None)\n",
    "            continue\n",
    "            \n",
    "        \n",
    "        fname_code = 'lblnew.f'\n",
    "        \n",
    "        os.chdir(dir_case)\n",
    "        enter_input_params(fname_code, params=params)\n",
    "        \n",
    "        try:\n",
    "            os.chdir(dir_case)\n",
    "            os.system('ifort -g -traceback -fpe0 {} -o lblnew.exe'.format(fname_code))\n",
    "            assert os.path.exists('lblnew.exe') == True\n",
    "        except AssertionError:\n",
    "            print('Problem compiling source code for case',\n",
    "                  params)\n",
    "            print()\n",
    "            procs.append(None)\n",
    "            continue\n",
    "        \n",
    "        proc = subprocess.Popen(['./lblnew.exe'], stdout=subprocess.PIPE)\n",
    "        \n",
    "        procs.append(proc)\n",
    "    \n",
    "    print()\n",
    "        \n",
    "    return procs"
   ]
  },
  {
   "cell_type": "code",
   "execution_count": 75,
   "metadata": {},
   "outputs": [
    {
     "name": "stdout",
     "output_type": "stream",
     "text": [
      "/chia_cluster/home/jackyu/radiation/crd/LW/examples/separate_g_groups/study__lblnew_g1_threshold/h2o/band08_wn_1380_1900/ng_8/g_ascending_k_descending/refPTs_P_1_T_250__P_10_T_250__P_500_T_250/ng_refs_3__2__3/getabsth_auto__auto__auto/absth_dlogN_uniform__dlogN_uniform__dlogN_uniform/wgt_0.55_0.55_0.85__0.85_0.85__0_0.3_0.55/wgt_flux_2/wgt_k_1/klin_none/crd_a1423/atmpro_saw\n",
      "{'molecule': 'h2o', 'band': 8, 'ref_pts': [(1, 250), (10, 250), (500, 250)], 'ng_refs': [3, 2, 3], 'wgt': [(0.55, 0.55, 0.85), (0.85, 0.85), (0, 0.3, 0.55)], 'option_wgt_flux': 2, 'option_wgt_k': 1, 'klin': 0, 'commitnumber': 'a1423', 'atmpro': 'saw'} This case already exists.\n",
      "\n",
      "/chia_cluster/home/jackyu/radiation/crd/LW/examples/separate_g_groups/study__lblnew_g1_threshold/h2o/band06_wn_1100_1215/ng_4/g_ascending_k_descending/refPTs_P_600_T_250/ng_refs_4/getabsth_auto/absth_dlogN_uniform/wgt_0.55_0.6_0.65_0.95/wgt_flux_2/wgt_k_1/klin_5e-25/crd_a3d1611/atmpro_mls\n",
      "\n"
     ]
    }
   ],
   "source": [
    "cases_params = [params_1, params_2]\n",
    "\n",
    "procs = run_cases(cases_params)"
   ]
  },
  {
   "cell_type": "code",
   "execution_count": 72,
   "metadata": {},
   "outputs": [
    {
     "data": {
      "text/plain": [
       "[None, None]"
      ]
     },
     "execution_count": 72,
     "metadata": {},
     "output_type": "execute_result"
    }
   ],
   "source": [
    "import shutil\n",
    "\n",
    "[shutil.rmtree(get_dir_case(params)) for params in cases_params]\n"
   ]
  },
  {
   "cell_type": "code",
   "execution_count": 78,
   "metadata": {},
   "outputs": [],
   "source": [
    "out, err = procs[1].communicate()"
   ]
  },
  {
   "cell_type": "code",
   "execution_count": 79,
   "metadata": {},
   "outputs": [
    {
     "ename": "AttributeError",
     "evalue": "'NoneType' object has no attribute 'poll'",
     "output_type": "error",
     "traceback": [
      "\u001b[0;31m---------------------------------------------------------------------------\u001b[0m",
      "\u001b[0;31mAttributeError\u001b[0m                            Traceback (most recent call last)",
      "\u001b[0;32m<ipython-input-79-85e3d3140c42>\u001b[0m in \u001b[0;36m<module>\u001b[0;34m()\u001b[0m\n\u001b[0;32m----> 1\u001b[0;31m \u001b[0;34m[\u001b[0m\u001b[0mproc\u001b[0m\u001b[0;34m.\u001b[0m\u001b[0mpoll\u001b[0m\u001b[0;34m(\u001b[0m\u001b[0;34m)\u001b[0m \u001b[0;32mfor\u001b[0m \u001b[0mproc\u001b[0m \u001b[0;32min\u001b[0m \u001b[0mprocs\u001b[0m\u001b[0;34m]\u001b[0m\u001b[0;34m\u001b[0m\u001b[0m\n\u001b[0m",
      "\u001b[0;32m<ipython-input-79-85e3d3140c42>\u001b[0m in \u001b[0;36m<listcomp>\u001b[0;34m(.0)\u001b[0m\n\u001b[0;32m----> 1\u001b[0;31m \u001b[0;34m[\u001b[0m\u001b[0mproc\u001b[0m\u001b[0;34m.\u001b[0m\u001b[0mpoll\u001b[0m\u001b[0;34m(\u001b[0m\u001b[0;34m)\u001b[0m \u001b[0;32mfor\u001b[0m \u001b[0mproc\u001b[0m \u001b[0;32min\u001b[0m \u001b[0mprocs\u001b[0m\u001b[0;34m]\u001b[0m\u001b[0;34m\u001b[0m\u001b[0m\n\u001b[0m",
      "\u001b[0;31mAttributeError\u001b[0m: 'NoneType' object has no attribute 'poll'"
     ]
    }
   ],
   "source": [
    "[proc.poll() for proc in procs]"
   ]
  },
  {
   "cell_type": "code",
   "execution_count": 85,
   "metadata": {},
   "outputs": [
    {
     "name": "stdout",
     "output_type": "stream",
     "text": [
      " iref           1\n",
      " klims  0.000000000000000E+000  0.000000000000000E+000\n",
      " ng_tosort           6\n",
      " kmin, kmax  3.094901839238028E-028  2.230675024591008E-018\n",
      " absth(1:ng_tosort, iref)  5.075413149326968E-020  1.154799258179001E-021\n",
      "  2.627493146774898E-023  5.978285998585982E-025  1.360228228368852E-026\n",
      "  3.094901839238020E-028\n",
      " iref           2\n",
      " klims  5.075413149326968E-020  0.000000000000000E+000\n",
      " ng_tosort           5\n",
      " kmin, kmax  1.858499373972203E-025  1.094189439668947E-019\n",
      " absth(1:ng_tosort, iref)  7.675496871279285E-021  5.384191263886007E-022\n",
      "  3.776891066763531E-023  2.649405533915330E-024  1.858499373972204E-025\n",
      " absth  5.075413149326968E-020  1.154799258179001E-021  2.627493146774898E-023\n",
      "  5.978285998585982E-025  1.360228228368852E-026  3.094901839238020E-028\n",
      "  7.675496871279285E-021  5.384191263886007E-022  3.776891066763531E-023\n",
      "  2.649405533915330E-024  1.858499373972204E-025  0.000000000000000E+000\n",
      " abscom  5.075413149326968E-020  7.675496871279285E-021  5.384191263886007E-022\n",
      "  3.776891066763531E-023  2.649405533915330E-024  1.858499373972204E-025\n",
      "\n"
     ]
    }
   ],
   "source": [
    "print(out.decode('utf-8'))"
   ]
  },
  {
   "cell_type": "code",
   "execution_count": 87,
   "metadata": {
    "collapsed": true
   },
   "outputs": [],
   "source": [
    "1 + 1\n",
    "None"
   ]
  },
  {
   "cell_type": "code",
   "execution_count": null,
   "metadata": {
    "collapsed": true
   },
   "outputs": [],
   "source": [
    "[proc.communicate() for proc in procs]"
   ]
  }
 ],
 "metadata": {
  "kernelspec": {
   "display_name": "Python 3",
   "language": "python",
   "name": "python3"
  },
  "language_info": {
   "codemirror_mode": {
    "name": "ipython",
    "version": 3
   },
   "file_extension": ".py",
   "mimetype": "text/x-python",
   "name": "python",
   "nbconvert_exporter": "python",
   "pygments_lexer": "ipython3",
   "version": "3.6.1"
  }
 },
 "nbformat": 4,
 "nbformat_minor": 2
}
