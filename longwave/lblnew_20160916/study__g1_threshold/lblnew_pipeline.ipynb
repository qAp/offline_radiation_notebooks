{
 "cells": [
  {
   "cell_type": "code",
   "execution_count": 27,
   "metadata": {
    "collapsed": true
   },
   "outputs": [],
   "source": [
    "import os\n",
    "import subprocess\n",
    "import collections\n",
    "import shutil\n",
    "\n",
    "import climatools.clirad.info as cliradinfo"
   ]
  },
  {
   "cell_type": "code",
   "execution_count": null,
   "metadata": {
    "collapsed": true
   },
   "outputs": [],
   "source": [
    "params_3 = {\n",
    "    'molecule': 'h2o',\n",
    "    'band': 9,\n",
    "    'ref_pts': [(600, 250), ],\n",
    "    'ng_refs': [9,],\n",
    "    'wgt': [9 * (1, )],\n",
    "    'option_wgt_flux': 2,\n",
    "    'option_wgt_k': 1,\n",
    "    'klin': 0,\n",
    "    'commitnumber': '31186b1',\n",
    "    'atmpro': 'mls',\n",
    "    'tsfc': 294\n",
    "}"
   ]
  },
  {
   "cell_type": "code",
   "execution_count": 16,
   "metadata": {},
   "outputs": [
    {
     "data": {
      "text/plain": [
       "{1: [(0, 340)],\n",
       " 2: [(340, 540)],\n",
       " 3: [(540, 800)],\n",
       " 4: [(800, 980)],\n",
       " 5: [(980, 1100)],\n",
       " 6: [(1100, 1215)],\n",
       " 7: [(1215, 1380)],\n",
       " 8: [(1380, 1900)],\n",
       " 9: [(1900, 3000)],\n",
       " 10: [(540, 620)]}"
      ]
     },
     "execution_count": 16,
     "metadata": {},
     "output_type": "execute_result"
    }
   ],
   "source": [
    "CLIRADLW_BANDS = cliradinfo.wavenumber_bands(region='lw')\n",
    "CLIRADLW_BANDS"
   ]
  },
  {
   "cell_type": "code",
   "execution_count": 5,
   "metadata": {
    "collapsed": true
   },
   "outputs": [],
   "source": [
    "DIR_SRC = os.path.join('/chia_cluster/home/jackyu/radiation/crd',\n",
    "                       'LW/src',\n",
    "                       'lblnew_-_nref_-_autoabsth_klin_-_gasc_kdesc')"
   ]
  },
  {
   "cell_type": "code",
   "execution_count": 17,
   "metadata": {
    "collapsed": true
   },
   "outputs": [],
   "source": [
    "def get_dir_case(params):\n",
    "    '''\n",
    "    Returns the absolute path of the directory in which \n",
    "    to run the case with input parameters `params`\n",
    "    '''   \n",
    "    template = os.path.join(\n",
    "        '/chia_cluster/home/jackyu/radiation/crd',\n",
    "        'LW/examples',\n",
    "        'separate_g_groups',\n",
    "        'study__lblnew_g1_threshold',\n",
    "        '{molecule}',\n",
    "        'band{band:02d}_wn_{vmin:d}_{vmax:d}',\n",
    "        'ng_{ng:d}',\n",
    "        'g_ascending_k_descending',\n",
    "        'refPTs_{refPTs}',\n",
    "        'ng_refs_{ng_refs}',\n",
    "        'getabsth_{getabsth}',\n",
    "        'absth_{absth}',\n",
    "        'wgt_{wgt}',\n",
    "        'wgt_flux_{option_wgt_flux}',\n",
    "        'wgt_k_{option_wgt_k}',\n",
    "        'klin_{klin}',\n",
    "        'crd_{commitnumber}',\n",
    "        'atmpro_{atmpro}')\n",
    "    \n",
    "    nref = len(params['ng_refs'])\n",
    "    vmin, vmax = CLIRADLW_BANDS[params['band']][0]\n",
    "    ng = sum(params['ng_refs'])\n",
    "    refPTs = '__'.join(['P_{}_T_{}'.format(*pt) \n",
    "                        for pt in params['ref_pts']])\n",
    "    ng_refs = '__'.join([str(n) for n in params['ng_refs']])\n",
    "    getabsth = '__'.join(['auto' for _ in range(nref)])\n",
    "    absth = '__'.join(['dlogN_uniform' for _ in range(nref)])\n",
    "    wgt = '__'.join(['_'.join([str(w) for w in wgt_ref]) \n",
    "                     for wgt_ref in params['wgt']])\n",
    "    klin = 'none' if params['klin'] == 0 else params['klin']\n",
    "    \n",
    "    return template.format(molecule=params['molecule'],\n",
    "                    band=params['band'], vmin=vmin, vmax=vmax,\n",
    "                    ng=ng,\n",
    "                    refPTs=refPTs,\n",
    "                    ng_refs=ng_refs,\n",
    "                    getabsth=getabsth,\n",
    "                    absth=absth,\n",
    "                    wgt=wgt,\n",
    "                    option_wgt_flux=params['option_wgt_flux'],\n",
    "                    option_wgt_k=params['option_wgt_k'],\n",
    "                    klin=klin,\n",
    "                    commitnumber=params['commitnumber'],\n",
    "                    atmpro=params['atmpro'])"
   ]
  },
  {
   "cell_type": "code",
   "execution_count": 22,
   "metadata": {
    "collapsed": true
   },
   "outputs": [],
   "source": [
    "def run_cases(cases_params=None):\n",
    "    \n",
    "    procs = []\n",
    "    for params in cases_params:\n",
    "        dir_case = get_dir_case(params)\n",
    "        \n",
    "        print(dir_case)\n",
    "        \n",
    "        try:\n",
    "            os.makedirs(dir_case)\n",
    "        except FileExistsError:\n",
    "            print(params, 'This case already exists.')\n",
    "            print()\n",
    "            procs.append(None)\n",
    "            continue\n",
    "            \n",
    "        try:\n",
    "            os.chdir(dir_case)\n",
    "            assert os.system('cp {}/*.f .'.format(DIR_SRC)) == 0\n",
    "        except AssertionError:\n",
    "            print('Problem copying source code to case directory for '\n",
    "                  'case',\n",
    "                  dir_case)\n",
    "            print()\n",
    "            procs.append(None)\n",
    "            continue\n",
    "            \n",
    "        \n",
    "        fname_code = 'lblnew.f'\n",
    "        \n",
    "        os.chdir(dir_case)\n",
    "        enter_input_params(fname_code, params=params)\n",
    "        \n",
    "        try:\n",
    "            os.chdir(dir_case)\n",
    "            os.system('ifort -g -traceback -fpe0 {} -o lblnew.exe'.format(fname_code))\n",
    "            assert os.path.exists('lblnew.exe') == True\n",
    "        except AssertionError:\n",
    "            print('Problem compiling source code for case',\n",
    "                  params)\n",
    "            print()\n",
    "            procs.append(None)\n",
    "            continue\n",
    "        \n",
    "        proc = subprocess.Popen(['./lblnew.exe'], stdout=subprocess.PIPE)\n",
    "        \n",
    "        procs.append(proc)\n",
    "    \n",
    "    print()\n",
    "        \n",
    "    return procs"
   ]
  },
  {
   "cell_type": "code",
   "execution_count": 23,
   "metadata": {
    "collapsed": true
   },
   "outputs": [],
   "source": [
    "# for printing some input parameters\n",
    "import itertools\n",
    "import re\n",
    "\n",
    "def innames():\n",
    "    return ['vstar', 'nband', 'nv', 'dv',\n",
    "            'flgh2o',\n",
    "            'tsfc',\n",
    "            'pressure_reference_1',\n",
    "            'temperature_reference_1', \n",
    "            'pressure_reference_2', \n",
    "            'temperature_reference_2',\n",
    "            'ighigh', \n",
    "            'ng', \n",
    "            'nref',\n",
    "            'p_refs',\n",
    "            't_refs',\n",
    "            'ng_refs',\n",
    "            'absth',\n",
    "            'wgt',\n",
    "            'option_wgt_flux',\n",
    "            'option_wgt_k',\n",
    "            'option_klin',\n",
    "            'fac_meank',\n",
    "            'klin']\n",
    "\n",
    "\n",
    "\n",
    "def pattern_assign(name):\n",
    "    return ''' \n",
    "    parameter .* :: \\s* &? \\s* ({} \\s* = (.*) \\n)\n",
    "    '''.format(name)\n",
    "\n",
    "def pattern_data(name):\n",
    "    return '''\n",
    "    (data [^/{name}]+ {name}[^,] [^/{name}]+ / ([^/]+) /)\n",
    "    '''.format(name=name)\n",
    "\n",
    "def pattern_atmpro():\n",
    "    return '''\n",
    "    (atmosphere_profiles/(.*)75_r8.pro)\n",
    "    '''\n",
    "\n",
    "def pattern_molecule():\n",
    "    return '''\n",
    "    (\n",
    "    data \\s+  \n",
    "    flgh2o \\s*,\\s* flgco2 \\s*,\\s* flgo3 \\s*,\\s* flgn2o \\s*,\\s*\n",
    "    flgch4 \\s*,\\s* flgo2\n",
    "    \\n \n",
    "    \\s* \\* \\s* / \\s* \n",
    "    (\n",
    "    [01] \\s* , \\s* [01] \\s* , \\s*  [01] \\s* , \\s* [01] \\s* , \\s* [01] \n",
    "    \\s* , \\s* [01]\n",
    "    )\n",
    "    \\s* / \n",
    "     )\n",
    "    '''\n",
    "\n",
    "\n",
    "def enter_input_params(path_lblnew, params=None):\n",
    "    molecules = ('h2o', 'co2', 'o3', 'n2o', 'ch4', 'o2')\n",
    "    \n",
    "    with open(path_lblnew, mode='r', encoding='utf-8') as f:\n",
    "        code = f.read()\n",
    "    \n",
    "    d_in = collections.defaultdict(dict)\n",
    "    \n",
    "    molecule_flags = [1 if m==params['molecule'] else 0 \n",
    "                      for m in molecules]\n",
    "    input_value = '   ,   '.join([str(flg) for flg in molecule_flags])\n",
    "    d_in['molecule']['regex'] = pattern_molecule()\n",
    "    d_in['molecule']['input_value'] = input_value\n",
    "    \n",
    "    vmin, vmax = CLIRADLW_BANDS[params['band']][0]\n",
    "    vstar = vmin\n",
    "    nband = vmax - vmin # keeping nv * dv = 1\n",
    "    d_in['vstar']['regex'] = pattern_assign(name='vstar')\n",
    "    d_in['vstar']['input_value'] = ' ' + str(vstar) + '_r8'\n",
    "    d_in['nband']['regex'] = pattern_assign(name='nband')\n",
    "    d_in['nband']['input_value'] = ' ' + str(nband)\n",
    "    \n",
    "    p_refs, t_refs = zip(*params['ref_pts'])\n",
    "    d_in['p_refs']['regex'] = pattern_assign(name='p_refs')\n",
    "    d_in['t_refs']['regex'] = pattern_assign(name='t_refs')\n",
    "    d_in['p_refs']['input_value'] = (\n",
    "        ' (/ ' + \n",
    "        ' , '.join([str(p) + '_r8' for p in p_refs]) +\n",
    "        ' /) ')\n",
    "    d_in['t_refs']['input_value'] = (\n",
    "        ' (/ ' + \n",
    "        ' , '.join([str(p) + '_r8' for p in t_refs]) +\n",
    "        ' /) ')\n",
    "    \n",
    "    wgt = [w for wgt_ref in params['wgt'] for w in wgt_ref]\n",
    "    wgt = list(itertools.zip_longest(*(4 * [iter(wgt)])))\n",
    "    wgt = [[str(v) + '_r8' for v in row if v != None] for row in wgt]\n",
    "    wgt = [' , '.join(row) for row in wgt]\n",
    "    input_value = ',\\n     &     '.join(wgt)\n",
    "    d_in['wgt']['regex'] = pattern_data(name='wgt')\n",
    "    d_in['wgt']['input_value'] = input_value\n",
    "    \n",
    "    'nref'\n",
    "    nref = len(params['ng_refs'])\n",
    "    d_in['nref']['regex'] = pattern_assign(name='nref')\n",
    "    d_in['nref']['input_value'] = str(nref) \n",
    "    \n",
    "    'ng'\n",
    "    ng = sum(params['ng_refs'])\n",
    "    d_in['ng']['regex'] = pattern_assign(name='ng')\n",
    "    d_in['ng']['input_value'] = str(ng)\n",
    "    \n",
    "    'ng_refs'\n",
    "    d_in['ng_refs']['regex'] = pattern_assign(name='ng_refs')\n",
    "    d_in['ng_refs']['input_value'] = (\n",
    "        ' (/ ' + \n",
    "        ' , '.join([str(n) for n in params['ng_refs']]) +\n",
    "        ' /) ')    \n",
    "    \n",
    "    'option_wgt_flux'\n",
    "    d_in['option_wgt_flux']['regex'] = pattern_assign(name='option_wgt_flux')\n",
    "    d_in['option_wgt_flux']['input_value'] = str(params['option_wgt_flux'])\n",
    "    \n",
    "    'option_wgt_k'\n",
    "    d_in['option_wgt_k']['regex'] = pattern_assign(name='option_wgt_k')\n",
    "    d_in['option_wgt_k']['input_value'] = str(params['option_wgt_k'])\n",
    "    \n",
    "    'klin'\n",
    "    d_in['option_klin']['regex'] = pattern_assign(name='option_klin')\n",
    "    d_in['option_klin']['input_value'] = str(1) if params['klin'] else str(0)\n",
    "    \n",
    "    d_in['klin']['regex'] = pattern_assign(name='klin')\n",
    "    d_in['klin']['input_value'] = str(params['klin']) + '_r8'\n",
    "    \n",
    "    'atmpro'\n",
    "    d_in['atmpro']['regex'] = pattern_atmpro()\n",
    "    d_in['atmpro']['input_value'] = params['atmpro']\n",
    "    \n",
    "    d_in['tsfc']['regex'] = pattern_assign(name='tsfc')\n",
    "    d_in['tsfc']['input_value'] = str(params['tsfc']) + '_r8'\n",
    "    \n",
    "    for name, d in d_in.items():\n",
    "        regex = re.compile(d['regex'], re.VERBOSE)\n",
    "        statement, value = regex.findall(code)[0]\n",
    "        input_statement = statement.replace(value, d['input_value'])\n",
    "        code = code.replace(statement, input_statement)\n",
    "\n",
    "    with open(path_lblnew, mode='w', encoding='utf-8') as f:\n",
    "        f.write(code)    \n",
    "\n",
    "    \n",
    "    "
   ]
  },
  {
   "cell_type": "code",
   "execution_count": 81,
   "metadata": {
    "collapsed": true
   },
   "outputs": [],
   "source": [
    "h2o_band09_ng1 = {\n",
    "    'molecule': 'h2o',\n",
    "    'band': 9,\n",
    "    'ref_pts': [(600, 250)],\n",
    "    'ng_refs': [1],\n",
    "    'option_wgt_flux': 2,\n",
    "    'option_wgt_k': 1,\n",
    "    'klin': 0,\n",
    "    'commitnumber': '31186b1',\n",
    "    'atmpro': 'mls',\n",
    "    'tsfc': 294\n",
    "}\n",
    "\n",
    "wgts = [.95, .9, .85]\n",
    "params_h2o_band09_ng1 = []\n",
    "\n",
    "for wgt in wgts:\n",
    "    param = h2o_band09_ng1.copy()\n",
    "    param['wgt'] = [(wgt,),]\n",
    "    params_h2o_band09_ng1.append(param)\n",
    "    \n",
    "    \n",
    "h2o_band09_ng2 = {\n",
    "    'molecule': 'h2o',\n",
    "    'band': 9,\n",
    "    'ref_pts': [(600, 250)],\n",
    "    'ng_refs': [2,],\n",
    "    'option_wgt_flux': 2,\n",
    "    'option_wgt_k': 1,\n",
    "    'klin': 1e-24,\n",
    "    'commitnumber': '31186b1',\n",
    "    'atmpro': 'mls',\n",
    "    'tsfc': 294\n",
    "}\n",
    "\n",
    "wgts = [.95, .9, .85]\n",
    "params_h2o_band09_ng2 = []\n",
    "\n",
    "for wgt in wgts:\n",
    "    param = h2o_band09_ng2.copy()\n",
    "    param['wgt'] = [(wgt, 1),]\n",
    "    params_h2o_band09_ng2.append(param)"
   ]
  },
  {
   "cell_type": "code",
   "execution_count": 82,
   "metadata": {},
   "outputs": [],
   "source": [
    "h2o_band07_ng7 = {\n",
    "    'molecule': 'h2o',\n",
    "    'band': 7,\n",
    "    'ref_pts': [(600, 250)],\n",
    "    'ng_refs': [7],\n",
    "    'wgt': [(.5, .5, .5, .5, .5, .5, .9,)],\n",
    "    'option_wgt_flux': 2,\n",
    "    'option_wgt_k': 1,\n",
    "    'klin': 5e-25,\n",
    "    'commitnumber': '31186b1',\n",
    "}\n",
    "\n",
    "atmpro_tsfc = [('saw', 257), ('trp', 300)]\n",
    "params_h2o_band07_ng7 = []\n",
    "\n",
    "for atmpro, tsfc in atmpro_tsfc:\n",
    "    param = h2o_band07_ng7.copy()\n",
    "    param['atmpro'] = atmpro\n",
    "    param['tsfc'] = tsfc\n",
    "    params_h2o_band07_ng7.append(param)\n",
    "    \n",
    "    "
   ]
  },
  {
   "cell_type": "code",
   "execution_count": 85,
   "metadata": {},
   "outputs": [
    {
     "data": {
      "text/plain": [
       "[{'atmpro': 'saw',\n",
       "  'band': 7,\n",
       "  'commitnumber': '31186b1',\n",
       "  'klin': 5e-25,\n",
       "  'molecule': 'h2o',\n",
       "  'ng_refs': [7],\n",
       "  'option_wgt_flux': 2,\n",
       "  'option_wgt_k': 1,\n",
       "  'ref_pts': [(600, 250)],\n",
       "  'tsfc': 257,\n",
       "  'wgt': [(0.5, 0.5, 0.5, 0.5, 0.5, 0.5, 0.9)]},\n",
       " {'atmpro': 'trp',\n",
       "  'band': 7,\n",
       "  'commitnumber': '31186b1',\n",
       "  'klin': 5e-25,\n",
       "  'molecule': 'h2o',\n",
       "  'ng_refs': [7],\n",
       "  'option_wgt_flux': 2,\n",
       "  'option_wgt_k': 1,\n",
       "  'ref_pts': [(600, 250)],\n",
       "  'tsfc': 300,\n",
       "  'wgt': [(0.5, 0.5, 0.5, 0.5, 0.5, 0.5, 0.9)]}]"
      ]
     },
     "execution_count": 85,
     "metadata": {},
     "output_type": "execute_result"
    }
   ],
   "source": [
    "params_h2o_band07_ng7"
   ]
  },
  {
   "cell_type": "code",
   "execution_count": 88,
   "metadata": {},
   "outputs": [
    {
     "data": {
      "text/plain": [
       "[{'atmpro': 'mls',\n",
       "  'band': 9,\n",
       "  'commitnumber': '31186b1',\n",
       "  'klin': 0,\n",
       "  'molecule': 'h2o',\n",
       "  'ng_refs': [1],\n",
       "  'option_wgt_flux': 2,\n",
       "  'option_wgt_k': 1,\n",
       "  'ref_pts': [(600, 250)],\n",
       "  'tsfc': 294,\n",
       "  'wgt': [(0.95,)]},\n",
       " {'atmpro': 'mls',\n",
       "  'band': 9,\n",
       "  'commitnumber': '31186b1',\n",
       "  'klin': 0,\n",
       "  'molecule': 'h2o',\n",
       "  'ng_refs': [1],\n",
       "  'option_wgt_flux': 2,\n",
       "  'option_wgt_k': 1,\n",
       "  'ref_pts': [(600, 250)],\n",
       "  'tsfc': 294,\n",
       "  'wgt': [(0.9,)]},\n",
       " {'atmpro': 'mls',\n",
       "  'band': 9,\n",
       "  'commitnumber': '31186b1',\n",
       "  'klin': 0,\n",
       "  'molecule': 'h2o',\n",
       "  'ng_refs': [1],\n",
       "  'option_wgt_flux': 2,\n",
       "  'option_wgt_k': 1,\n",
       "  'ref_pts': [(600, 250)],\n",
       "  'tsfc': 294,\n",
       "  'wgt': [(0.85,)]},\n",
       " {'atmpro': 'mls',\n",
       "  'band': 9,\n",
       "  'commitnumber': '31186b1',\n",
       "  'klin': 1e-24,\n",
       "  'molecule': 'h2o',\n",
       "  'ng_refs': [2],\n",
       "  'option_wgt_flux': 2,\n",
       "  'option_wgt_k': 1,\n",
       "  'ref_pts': [(600, 250)],\n",
       "  'tsfc': 294,\n",
       "  'wgt': [(0.95, 1)]},\n",
       " {'atmpro': 'mls',\n",
       "  'band': 9,\n",
       "  'commitnumber': '31186b1',\n",
       "  'klin': 1e-24,\n",
       "  'molecule': 'h2o',\n",
       "  'ng_refs': [2],\n",
       "  'option_wgt_flux': 2,\n",
       "  'option_wgt_k': 1,\n",
       "  'ref_pts': [(600, 250)],\n",
       "  'tsfc': 294,\n",
       "  'wgt': [(0.9, 1)]},\n",
       " {'atmpro': 'mls',\n",
       "  'band': 9,\n",
       "  'commitnumber': '31186b1',\n",
       "  'klin': 1e-24,\n",
       "  'molecule': 'h2o',\n",
       "  'ng_refs': [2],\n",
       "  'option_wgt_flux': 2,\n",
       "  'option_wgt_k': 1,\n",
       "  'ref_pts': [(600, 250)],\n",
       "  'tsfc': 294,\n",
       "  'wgt': [(0.85, 1)]},\n",
       " {'atmpro': 'saw',\n",
       "  'band': 7,\n",
       "  'commitnumber': '31186b1',\n",
       "  'klin': 5e-25,\n",
       "  'molecule': 'h2o',\n",
       "  'ng_refs': [7],\n",
       "  'option_wgt_flux': 2,\n",
       "  'option_wgt_k': 1,\n",
       "  'ref_pts': [(600, 250)],\n",
       "  'tsfc': 257,\n",
       "  'wgt': [(0.5, 0.5, 0.5, 0.5, 0.5, 0.5, 0.9)]},\n",
       " {'atmpro': 'trp',\n",
       "  'band': 7,\n",
       "  'commitnumber': '31186b1',\n",
       "  'klin': 5e-25,\n",
       "  'molecule': 'h2o',\n",
       "  'ng_refs': [7],\n",
       "  'option_wgt_flux': 2,\n",
       "  'option_wgt_k': 1,\n",
       "  'ref_pts': [(600, 250)],\n",
       "  'tsfc': 300,\n",
       "  'wgt': [(0.5, 0.5, 0.5, 0.5, 0.5, 0.5, 0.9)]}]"
      ]
     },
     "execution_count": 88,
     "metadata": {},
     "output_type": "execute_result"
    }
   ],
   "source": [
    "params = []\n",
    "params.extend(params_h2o_band09_ng1)\n",
    "params.extend(params_h2o_band09_ng2)\n",
    "params.extend(params_h2o_band07_ng7)\n",
    "params"
   ]
  },
  {
   "cell_type": "code",
   "execution_count": 89,
   "metadata": {},
   "outputs": [
    {
     "name": "stdout",
     "output_type": "stream",
     "text": [
      "/chia_cluster/home/jackyu/radiation/crd/LW/examples/separate_g_groups/study__lblnew_g1_threshold/h2o/band09_wn_1900_3000/ng_1/g_ascending_k_descending/refPTs_P_600_T_250/ng_refs_1/getabsth_auto/absth_dlogN_uniform/wgt_0.95/wgt_flux_2/wgt_k_1/klin_none/crd_31186b1/atmpro_mls\n",
      "/chia_cluster/home/jackyu/radiation/crd/LW/examples/separate_g_groups/study__lblnew_g1_threshold/h2o/band09_wn_1900_3000/ng_1/g_ascending_k_descending/refPTs_P_600_T_250/ng_refs_1/getabsth_auto/absth_dlogN_uniform/wgt_0.9/wgt_flux_2/wgt_k_1/klin_none/crd_31186b1/atmpro_mls\n",
      "/chia_cluster/home/jackyu/radiation/crd/LW/examples/separate_g_groups/study__lblnew_g1_threshold/h2o/band09_wn_1900_3000/ng_1/g_ascending_k_descending/refPTs_P_600_T_250/ng_refs_1/getabsth_auto/absth_dlogN_uniform/wgt_0.85/wgt_flux_2/wgt_k_1/klin_none/crd_31186b1/atmpro_mls\n",
      "/chia_cluster/home/jackyu/radiation/crd/LW/examples/separate_g_groups/study__lblnew_g1_threshold/h2o/band09_wn_1900_3000/ng_2/g_ascending_k_descending/refPTs_P_600_T_250/ng_refs_2/getabsth_auto/absth_dlogN_uniform/wgt_0.95_1/wgt_flux_2/wgt_k_1/klin_1e-24/crd_31186b1/atmpro_mls\n",
      "/chia_cluster/home/jackyu/radiation/crd/LW/examples/separate_g_groups/study__lblnew_g1_threshold/h2o/band09_wn_1900_3000/ng_2/g_ascending_k_descending/refPTs_P_600_T_250/ng_refs_2/getabsth_auto/absth_dlogN_uniform/wgt_0.9_1/wgt_flux_2/wgt_k_1/klin_1e-24/crd_31186b1/atmpro_mls\n",
      "/chia_cluster/home/jackyu/radiation/crd/LW/examples/separate_g_groups/study__lblnew_g1_threshold/h2o/band09_wn_1900_3000/ng_2/g_ascending_k_descending/refPTs_P_600_T_250/ng_refs_2/getabsth_auto/absth_dlogN_uniform/wgt_0.85_1/wgt_flux_2/wgt_k_1/klin_1e-24/crd_31186b1/atmpro_mls\n",
      "/chia_cluster/home/jackyu/radiation/crd/LW/examples/separate_g_groups/study__lblnew_g1_threshold/h2o/band07_wn_1215_1380/ng_7/g_ascending_k_descending/refPTs_P_600_T_250/ng_refs_7/getabsth_auto/absth_dlogN_uniform/wgt_0.5_0.5_0.5_0.5_0.5_0.5_0.9/wgt_flux_2/wgt_k_1/klin_5e-25/crd_31186b1/atmpro_saw\n",
      "/chia_cluster/home/jackyu/radiation/crd/LW/examples/separate_g_groups/study__lblnew_g1_threshold/h2o/band07_wn_1215_1380/ng_7/g_ascending_k_descending/refPTs_P_600_T_250/ng_refs_7/getabsth_auto/absth_dlogN_uniform/wgt_0.5_0.5_0.5_0.5_0.5_0.5_0.9/wgt_flux_2/wgt_k_1/klin_5e-25/crd_31186b1/atmpro_trp\n",
      "\n"
     ]
    }
   ],
   "source": [
    "procs = run_cases(params)"
   ]
  },
  {
   "cell_type": "code",
   "execution_count": 117,
   "metadata": {},
   "outputs": [
    {
     "data": {
      "text/plain": [
       "[0, 0, 0, 0, 0, 0, 0, 0]"
      ]
     },
     "execution_count": 117,
     "metadata": {},
     "output_type": "execute_result"
    }
   ],
   "source": [
    "[proc.poll() for proc in procs]"
   ]
  },
  {
   "cell_type": "code",
   "execution_count": 50,
   "metadata": {},
   "outputs": [],
   "source": [
    "[shutil.rmtree(get_dir_case(params)) for params in cases_params]\n",
    "None"
   ]
  },
  {
   "cell_type": "code",
   "execution_count": 205,
   "metadata": {
    "collapsed": true
   },
   "outputs": [],
   "source": [
    "DIR_IPYNB = os.path.join(\n",
    "    '/chia_cluster/home/jackyu/radiation',\n",
    "    'offline_radiation_notebooks',\n",
    "    'longwave',\n",
    "    'lblnew_20160916',\n",
    "    'study__g1_threshold')\n",
    "\n",
    "def get_analysis_dir(params):\n",
    "    '''\n",
    "    Returns the absolute path of the directory in which \n",
    "    to run the case with input parameters `params`\n",
    "    '''   \n",
    "    template = os.path.join(\n",
    "        '/chia_cluster/home/jackyu/radiation',\n",
    "        'offline_radiation_notebooks',\n",
    "        'longwave',\n",
    "        'lblnew_20160916',\n",
    "        'study__g1_threshold',\n",
    "        '{molecule}',\n",
    "        'band{band:02d}_wn_{vmin:d}_{vmax:d}',\n",
    "        'ng_{ng:d}',\n",
    "        'g_ascending_k_descending',\n",
    "        'refPTs_{refPTs}',\n",
    "        'ng_refs_{ng_refs}',\n",
    "        'getabsth_{getabsth}',\n",
    "        'absth_{absth}',\n",
    "        'wgt_{wgt}',\n",
    "        'wgt_flux_{option_wgt_flux}',\n",
    "        'wgt_k_{option_wgt_k}',\n",
    "        'klin_{klin}',\n",
    "        'crd_{commitnumber}',\n",
    "        'atmpro_{atmpro}')\n",
    "    \n",
    "    nref = len(params['ng_refs'])\n",
    "    vmin, vmax = CLIRADLW_BANDS[params['band']][0]\n",
    "    ng = sum(params['ng_refs'])\n",
    "    refPTs = '__'.join(['P_{}_T_{}'.format(*pt) \n",
    "                        for pt in params['ref_pts']])\n",
    "    ng_refs = '__'.join([str(n) for n in params['ng_refs']])\n",
    "    getabsth = '__'.join(['auto' for _ in range(nref)])\n",
    "    absth = '__'.join(['dlogN_uniform' for _ in range(nref)])\n",
    "    wgt = '__'.join(['_'.join([str(w) for w in wgt_ref]) \n",
    "                     for wgt_ref in params['wgt']])\n",
    "    klin = 'none' if params['klin'] == 0 else params['klin']\n",
    "    \n",
    "    return template.format(molecule=params['molecule'],\n",
    "                    band=params['band'], vmin=vmin, vmax=vmax,\n",
    "                    ng=ng,\n",
    "                    refPTs=refPTs,\n",
    "                    ng_refs=ng_refs,\n",
    "                    getabsth=getabsth,\n",
    "                    absth=absth,\n",
    "                    wgt=wgt,\n",
    "                    option_wgt_flux=params['option_wgt_flux'],\n",
    "                    option_wgt_k=params['option_wgt_k'],\n",
    "                    klin=klin,\n",
    "                    commitnumber=params['commitnumber'],\n",
    "                    atmpro=params['atmpro'])    \n",
    "\n",
    "\n",
    "\n",
    "\n",
    "\n",
    "def analyse_case(params):\n",
    "    dir_case = get_analysis_dir(params)\n",
    "    \n",
    "    print(dir_case)\n",
    "    \n",
    "    try:\n",
    "        os.makedirs(dir_case)\n",
    "    except FileExistsError:\n",
    "        print(params, 'This case already exists.')\n",
    "        raise\n",
    "        \n",
    "    try:\n",
    "        os.chdir(dir_case)\n",
    "        assert os.system('cp {}/results.ipynb .'.format(DIR_IPYNB)) == 0\n",
    "    except AssertionError:\n",
    "        print('Problem copying Notebook template to analysis '\n",
    "              'directory for the case:',\n",
    "              dir_case)\n",
    "        raise\n",
    "    \n",
    "    dir_crd = get_dir_case(params)\n",
    "    dir_xcrd = get_dir_case(params)\n",
    "    ng_refs = params['ng_refs']\n",
    "    p_refs = [p for p, t in params['ref_pts']]    \n",
    "    \n",
    "    lines = [\"DIR_CRD = '{}'\".format(dir_crd),\n",
    "             \"DIR_XCRD = '{}'\".format(dir_xcrd),\n",
    "             \"NG_REFS = {}\".format(ng_refs),\n",
    "             \"P_REFS = {}\".format(p_refs)]\n",
    "    \n",
    "    os.chdir(dir_case)\n",
    "    with open('params.py', encoding='utf-8', mode='w') as f:\n",
    "        f.write('\\n'.join(lines))\n",
    "        \n",
    "        \n",
    "    return subprocess.Popen(['jupyter', 'nbconvert', \n",
    "                             '--execute',\n",
    "                             '--to', 'notebook',\n",
    "                             '--inplace',\n",
    "                             'results.ipynb'], \n",
    "                            stdout=subprocess.PIPE,\n",
    "                            stderr=subprocess.PIPE)"
   ]
  },
  {
   "cell_type": "code",
   "execution_count": 206,
   "metadata": {},
   "outputs": [
    {
     "data": {
      "text/plain": [
       "[None, None, None, None, None, None, None, None]"
      ]
     },
     "execution_count": 206,
     "metadata": {},
     "output_type": "execute_result"
    }
   ],
   "source": [
    "[shutil.rmtree(get_analysis_dir(param))\n",
    " for param in params]"
   ]
  },
  {
   "cell_type": "code",
   "execution_count": 207,
   "metadata": {},
   "outputs": [
    {
     "name": "stdout",
     "output_type": "stream",
     "text": [
      "/chia_cluster/home/jackyu/radiation/offline_radiation_notebooks/longwave/lblnew_20160916/study__g1_threshold/h2o/band09_wn_1900_3000/ng_1/g_ascending_k_descending/refPTs_P_600_T_250/ng_refs_1/getabsth_auto/absth_dlogN_uniform/wgt_0.95/wgt_flux_2/wgt_k_1/klin_none/crd_31186b1/atmpro_mls\n",
      "/chia_cluster/home/jackyu/radiation/offline_radiation_notebooks/longwave/lblnew_20160916/study__g1_threshold/h2o/band09_wn_1900_3000/ng_1/g_ascending_k_descending/refPTs_P_600_T_250/ng_refs_1/getabsth_auto/absth_dlogN_uniform/wgt_0.9/wgt_flux_2/wgt_k_1/klin_none/crd_31186b1/atmpro_mls\n",
      "/chia_cluster/home/jackyu/radiation/offline_radiation_notebooks/longwave/lblnew_20160916/study__g1_threshold/h2o/band09_wn_1900_3000/ng_1/g_ascending_k_descending/refPTs_P_600_T_250/ng_refs_1/getabsth_auto/absth_dlogN_uniform/wgt_0.85/wgt_flux_2/wgt_k_1/klin_none/crd_31186b1/atmpro_mls\n",
      "/chia_cluster/home/jackyu/radiation/offline_radiation_notebooks/longwave/lblnew_20160916/study__g1_threshold/h2o/band09_wn_1900_3000/ng_2/g_ascending_k_descending/refPTs_P_600_T_250/ng_refs_2/getabsth_auto/absth_dlogN_uniform/wgt_0.95_1/wgt_flux_2/wgt_k_1/klin_1e-24/crd_31186b1/atmpro_mls\n",
      "/chia_cluster/home/jackyu/radiation/offline_radiation_notebooks/longwave/lblnew_20160916/study__g1_threshold/h2o/band09_wn_1900_3000/ng_2/g_ascending_k_descending/refPTs_P_600_T_250/ng_refs_2/getabsth_auto/absth_dlogN_uniform/wgt_0.9_1/wgt_flux_2/wgt_k_1/klin_1e-24/crd_31186b1/atmpro_mls\n",
      "/chia_cluster/home/jackyu/radiation/offline_radiation_notebooks/longwave/lblnew_20160916/study__g1_threshold/h2o/band09_wn_1900_3000/ng_2/g_ascending_k_descending/refPTs_P_600_T_250/ng_refs_2/getabsth_auto/absth_dlogN_uniform/wgt_0.85_1/wgt_flux_2/wgt_k_1/klin_1e-24/crd_31186b1/atmpro_mls\n",
      "/chia_cluster/home/jackyu/radiation/offline_radiation_notebooks/longwave/lblnew_20160916/study__g1_threshold/h2o/band07_wn_1215_1380/ng_7/g_ascending_k_descending/refPTs_P_600_T_250/ng_refs_7/getabsth_auto/absth_dlogN_uniform/wgt_0.5_0.5_0.5_0.5_0.5_0.5_0.9/wgt_flux_2/wgt_k_1/klin_5e-25/crd_31186b1/atmpro_saw\n",
      "/chia_cluster/home/jackyu/radiation/offline_radiation_notebooks/longwave/lblnew_20160916/study__g1_threshold/h2o/band07_wn_1215_1380/ng_7/g_ascending_k_descending/refPTs_P_600_T_250/ng_refs_7/getabsth_auto/absth_dlogN_uniform/wgt_0.5_0.5_0.5_0.5_0.5_0.5_0.9/wgt_flux_2/wgt_k_1/klin_5e-25/crd_31186b1/atmpro_trp\n"
     ]
    }
   ],
   "source": [
    "aprocs = []\n",
    "\n",
    "for param in params:\n",
    "    aproc = analyse_case(param)\n",
    "    aprocs.append(aproc)\n",
    "    \n",
    "    "
   ]
  },
  {
   "cell_type": "code",
   "execution_count": 239,
   "metadata": {},
   "outputs": [
    {
     "data": {
      "text/plain": [
       "[0, 0, 0, 0, 0, 0, 0, 0]"
      ]
     },
     "execution_count": 239,
     "metadata": {},
     "output_type": "execute_result"
    }
   ],
   "source": [
    "[aproc.poll() for aproc in aprocs]"
   ]
  },
  {
   "cell_type": "code",
   "execution_count": 240,
   "metadata": {
    "collapsed": true
   },
   "outputs": [],
   "source": [
    "out, err = aprocs[0].communicate()"
   ]
  },
  {
   "cell_type": "code",
   "execution_count": 241,
   "metadata": {},
   "outputs": [
    {
     "name": "stdout",
     "output_type": "stream",
     "text": [
      "[NbConvertApp] Converting notebook results.ipynb to notebook\n",
      "[NbConvertApp] Executing notebook with kernel: python3\n",
      "[NbConvertApp] Writing 176119 bytes to results.ipynb\n",
      "\n"
     ]
    }
   ],
   "source": [
    "print(err.decode('utf-8'))"
   ]
  },
  {
   "cell_type": "code",
   "execution_count": 51,
   "metadata": {},
   "outputs": [
    {
     "ename": "SyntaxError",
     "evalue": "invalid syntax (<ipython-input-51-5260f23eb03d>, line 4)",
     "output_type": "error",
     "traceback": [
      "\u001b[0;36m  File \u001b[0;32m\"<ipython-input-51-5260f23eb03d>\"\u001b[0;36m, line \u001b[0;32m4\u001b[0m\n\u001b[0;31m    else\u001b[0m\n\u001b[0m        ^\u001b[0m\n\u001b[0;31mSyntaxError\u001b[0m\u001b[0;31m:\u001b[0m invalid syntax\n"
     ]
    }
   ],
   "source": [
    "aprocs = []\n",
    "\n",
    "all_being_analysed = False\n",
    "\n",
    "while not all_being_analysed:\n",
    "    \n",
    "    for proc, params in zip(procs, cases_params):\n",
    "        if proc.poll() is None:\n",
    "            continue\n",
    "        else:\n",
    "            aproc = analyse_case(params)\n",
    "            aprocs.append((proc_analyse, cases_params))\n",
    "            \n",
    "    if len(aprocs) == len(procs):\n",
    "        all_being_analysed = True        "
   ]
  },
  {
   "cell_type": "code",
   "execution_count": null,
   "metadata": {
    "collapsed": true
   },
   "outputs": [],
   "source": []
  }
 ],
 "metadata": {
  "kernelspec": {
   "display_name": "Python 3",
   "language": "python",
   "name": "python3"
  },
  "language_info": {
   "codemirror_mode": {
    "name": "ipython",
    "version": 3
   },
   "file_extension": ".py",
   "mimetype": "text/x-python",
   "name": "python",
   "nbconvert_exporter": "python",
   "pygments_lexer": "ipython3",
   "version": "3.6.1"
  }
 },
 "nbformat": 4,
 "nbformat_minor": 2
}
