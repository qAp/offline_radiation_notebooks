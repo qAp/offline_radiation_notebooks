{
 "cells": [
  {
   "cell_type": "code",
   "execution_count": 1,
   "metadata": {},
   "outputs": [
    {
     "data": {
      "text/plain": [
       "<module 'climatools.lblnew.setup_overlap' from '/chia_cluster/home/jackyu/climatools/climatools/lblnew/setup_overlap.py'>"
      ]
     },
     "execution_count": 1,
     "metadata": {},
     "output_type": "execute_result"
    }
   ],
   "source": [
    "import os\n",
    "import shutil\n",
    "import importlib\n",
    "import pprint\n",
    "\n",
    "import climatools.lblnew.pipeline as pipeline\n",
    "import climatools.lblnew.setup_overlap as setup_overlap\n",
    "\n",
    "importlib.reload(pipeline)\n",
    "importlib.reload(setup_overlap)"
   ]
  },
  {
   "cell_type": "code",
   "execution_count": 2,
   "metadata": {
    "collapsed": true
   },
   "outputs": [],
   "source": [
    "#def params_overlap():\n",
    "#    \n",
    "#    params = []\n",
    "#    \n",
    "#    for param0 in setup.test_cases():\n",
    "#        for atmpro, tsfc in [('mls', 294), \n",
    "#                             ('saw', 257), \n",
    "#                             ('trp', 300)]:\n",
    "#            param = param0.copy()\n",
    "#            param['atmpro'] = atmpro\n",
    "#            param['tsfc'] = tsfc\n",
    "#            params.append(param)\n",
    "#                \n",
    "#    return params\n",
    "\n",
    "\n",
    "def params_overlap():\n",
    "    \n",
    "    commitnumber = 'a22ab94'\n",
    "    nv, dv = 1000, .001\n",
    "    \n",
    "    atmpros = [('mls', 294), ('saw', 257), ('trp', 300)]\n",
    "    \n",
    "    molecule_bands = [\n",
    "        ({'h2o': 'atmpro', 'co2': 800e-6}, ['9'])\n",
    "    ]\n",
    "    \n",
    "    params = []\n",
    "    for molecule, bands in molecule_bands:\n",
    "        for band in bands:\n",
    "            for atmpro, tsfc in atmpros:\n",
    "                param = {'commitnumber': commitnumber,\n",
    "                         'molecule': molecule,\n",
    "                         'band': band,\n",
    "                         'nv': nv, \n",
    "                         'dv': dv,\n",
    "                         'atmpro': atmpro,\n",
    "                         'tsfc': tsfc}\n",
    "                params.append(param)\n",
    "    return params\n",
    "\n",
    "\n",
    "\n",
    "def nbviewer_links_overlap(params=None):\n",
    "    for param in params:\n",
    "        print(param['molecule'], param['band'], param['atmpro'])\n",
    "        print(pipeline.nbviewer_url(param, setup=setup_overlap))\n",
    "        print()\n",
    "\n",
    "\n",
    "\n"
   ]
  },
  {
   "cell_type": "code",
   "execution_count": 3,
   "metadata": {
    "collapsed": true
   },
   "outputs": [],
   "source": [
    "params = params_overlap()"
   ]
  },
  {
   "cell_type": "code",
   "execution_count": 4,
   "metadata": {},
   "outputs": [
    {
     "data": {
      "text/plain": [
       "[{'atmpro': 'mls',\n",
       "  'band': '9',\n",
       "  'commitnumber': 'a22ab94',\n",
       "  'dv': 0.001,\n",
       "  'molecule': {'co2': 0.0008, 'h2o': 'atmpro'},\n",
       "  'nv': 1000,\n",
       "  'tsfc': 294},\n",
       " {'atmpro': 'saw',\n",
       "  'band': '9',\n",
       "  'commitnumber': 'a22ab94',\n",
       "  'dv': 0.001,\n",
       "  'molecule': {'co2': 0.0008, 'h2o': 'atmpro'},\n",
       "  'nv': 1000,\n",
       "  'tsfc': 257},\n",
       " {'atmpro': 'trp',\n",
       "  'band': '9',\n",
       "  'commitnumber': 'a22ab94',\n",
       "  'dv': 0.001,\n",
       "  'molecule': {'co2': 0.0008, 'h2o': 'atmpro'},\n",
       "  'nv': 1000,\n",
       "  'tsfc': 300}]"
      ]
     },
     "execution_count": 4,
     "metadata": {},
     "output_type": "execute_result"
    }
   ],
   "source": [
    "params"
   ]
  },
  {
   "cell_type": "code",
   "execution_count": 5,
   "metadata": {
    "collapsed": true,
    "scrolled": false
   },
   "outputs": [],
   "source": [
    "pipeline.pipeline_fortran_bsub(params=params, setup=setup_overlap)"
   ]
  },
  {
   "cell_type": "code",
   "execution_count": 12,
   "metadata": {},
   "outputs": [
    {
     "name": "stdout",
     "output_type": "stream",
     "text": [
      "No unfinished job found\r\n"
     ]
    }
   ],
   "source": [
    "!bjobs"
   ]
  },
  {
   "cell_type": "code",
   "execution_count": 13,
   "metadata": {},
   "outputs": [
    {
     "name": "stdout",
     "output_type": "stream",
     "text": [
      "{'atmpro': 'mls',\n",
      " 'band': '9',\n",
      " 'commitnumber': 'a22ab94',\n",
      " 'dv': 0.001,\n",
      " 'molecule': {'co2': 0.0008, 'h2o': 'atmpro'},\n",
      " 'nv': 1000,\n",
      " 'tsfc': 294}\n",
      "\n",
      "{'atmpro': 'saw',\n",
      " 'band': '9',\n",
      " 'commitnumber': 'a22ab94',\n",
      " 'dv': 0.001,\n",
      " 'molecule': {'co2': 0.0008, 'h2o': 'atmpro'},\n",
      " 'nv': 1000,\n",
      " 'tsfc': 257}\n",
      "\n",
      "{'atmpro': 'trp',\n",
      " 'band': '9',\n",
      " 'commitnumber': 'a22ab94',\n",
      " 'dv': 0.001,\n",
      " 'molecule': {'co2': 0.0008, 'h2o': 'atmpro'},\n",
      " 'nv': 1000,\n",
      " 'tsfc': 300}\n",
      "\n",
      "{'atmpro': 'mls',\n",
      " 'band': '9',\n",
      " 'commitnumber': 'a22ab94',\n",
      " 'dv': 0.001,\n",
      " 'molecule': {'co2': 0.0008, 'h2o': 'atmpro'},\n",
      " 'nv': 1000,\n",
      " 'tsfc': 294}\n",
      "{'atmpro': 'saw',\n",
      " 'band': '9',\n",
      " 'commitnumber': 'a22ab94',\n",
      " 'dv': 0.001,\n",
      " 'molecule': {'co2': 0.0008, 'h2o': 'atmpro'},\n",
      " 'nv': 1000,\n",
      " 'tsfc': 257}\n",
      "{'atmpro': 'trp',\n",
      " 'band': '9',\n",
      " 'commitnumber': 'a22ab94',\n",
      " 'dv': 0.001,\n",
      " 'molecule': {'co2': 0.0008, 'h2o': 'atmpro'},\n",
      " 'nv': 1000,\n",
      " 'tsfc': 300}\n",
      "\n"
     ]
    }
   ],
   "source": [
    "gprocs = pipeline.pipeline_ipynb2git(params=params,\n",
    "                                     setup=setup_overlap)"
   ]
  },
  {
   "cell_type": "code",
   "execution_count": 14,
   "metadata": {},
   "outputs": [
    {
     "name": "stdout",
     "output_type": "stream",
     "text": [
      "{'h2o': 'atmpro', 'co2': 0.0008} band 9 mls\n",
      "http://nbviewer.jupyter.org/github/qap/analysis_-_new_kdist_param/blob/master/lblnew/h2o_atmpro_co2_0.0008_o3_0_n2o_0_ch4_0_o2_0/band09_wn_1900_3000/nv_1000/dv_0.001/crd_a22ab94/atmpro_mls/results_overlap.ipynb\n",
      "\n",
      "{'h2o': 'atmpro', 'co2': 0.0008} band 9 saw\n",
      "http://nbviewer.jupyter.org/github/qap/analysis_-_new_kdist_param/blob/master/lblnew/h2o_atmpro_co2_0.0008_o3_0_n2o_0_ch4_0_o2_0/band09_wn_1900_3000/nv_1000/dv_0.001/crd_a22ab94/atmpro_saw/results_overlap.ipynb\n",
      "\n",
      "{'h2o': 'atmpro', 'co2': 0.0008} band 9 trp\n",
      "http://nbviewer.jupyter.org/github/qap/analysis_-_new_kdist_param/blob/master/lblnew/h2o_atmpro_co2_0.0008_o3_0_n2o_0_ch4_0_o2_0/band09_wn_1900_3000/nv_1000/dv_0.001/crd_a22ab94/atmpro_trp/results_overlap.ipynb\n",
      "\n"
     ]
    }
   ],
   "source": [
    "for param in params:\n",
    "    print(param['molecule'], 'band', param['band'], param['atmpro'])\n",
    "    print(pipeline.nbviewer_url(param=param, setup=setup_overlap))\n",
    "    print()"
   ]
  },
  {
   "cell_type": "code",
   "execution_count": null,
   "metadata": {
    "collapsed": true
   },
   "outputs": [],
   "source": []
  }
 ],
 "metadata": {
  "kernelspec": {
   "display_name": "Python 3",
   "language": "python",
   "name": "python3"
  },
  "language_info": {
   "codemirror_mode": {
    "name": "ipython",
    "version": 3
   },
   "file_extension": ".py",
   "mimetype": "text/x-python",
   "name": "python",
   "nbconvert_exporter": "python",
   "pygments_lexer": "ipython3",
   "version": "3.6.1"
  }
 },
 "nbformat": 4,
 "nbformat_minor": 2
}
