{
 "cells": [
  {
   "cell_type": "code",
   "execution_count": 4,
   "metadata": {},
   "outputs": [
    {
     "data": {
      "text/plain": [
       "<module 'climatools.lblnew.setup_overlap' from '/chia_cluster/home/jackyu/climatools/climatools/lblnew/setup_overlap.py'>"
      ]
     },
     "execution_count": 4,
     "metadata": {},
     "output_type": "execute_result"
    }
   ],
   "source": [
    "import os\n",
    "import shutil\n",
    "import importlib\n",
    "import pprint\n",
    "\n",
    "import climatools.lblnew.pipeline as pipeline\n",
    "import climatools.lblnew.setup_overlap as setup_overlap\n",
    "\n",
    "importlib.reload(pipeline)\n",
    "importlib.reload(setup)"
   ]
  },
  {
   "cell_type": "code",
   "execution_count": 2,
   "metadata": {
    "collapsed": true
   },
   "outputs": [],
   "source": [
    "#def params_overlap():\n",
    "#    \n",
    "#    params = []\n",
    "#    \n",
    "#    for param0 in setup.test_cases():\n",
    "#        for atmpro, tsfc in [('mls', 294), \n",
    "#                             ('saw', 257), \n",
    "#                             ('trp', 300)]:\n",
    "#            param = param0.copy()\n",
    "#            param['atmpro'] = atmpro\n",
    "#            param['tsfc'] = tsfc\n",
    "#            params.append(param)\n",
    "#                \n",
    "#    return params\n",
    "\n",
    "\n",
    "def params_overlap():\n",
    "    param0 = {'commitnumber': 'a06b618_testbsub',                                              \n",
    "              'molecule': {'h2o': 'atmpro', \n",
    "                           'co2': 400e-6, \n",
    "                           'n2o': 3.2e-7},            \n",
    "              'band': '3a',                                                           \n",
    "              'nv': 100,                                                             \n",
    "              'dv': .01,                                                             \n",
    "              'atmpro': 'mls',                                                        \n",
    "              'tsfc': 294}\n",
    "        \n",
    "    params = []\n",
    "    for atmpro, tsfc in [('mls', 294), \n",
    "                         ('saw', 257), \n",
    "                         ('trp', 300)]:\n",
    "        param = param0.copy()\n",
    "        param['atmpro'] = atmpro\n",
    "        param['tsfc'] = tsfc\n",
    "        params.append(param)\n",
    "        \n",
    "    return params\n",
    "\n",
    "\n",
    "\n",
    "\n",
    "\n",
    "def nbviewer_links_overlap(params=None):\n",
    "    for param in params:\n",
    "        print(param['molecule'], param['band'], param['atmpro'])\n",
    "        print(pipeline.nbviewer_url(param, setup=setup))\n",
    "        print()\n",
    "\n",
    "\n",
    "\n"
   ]
  },
  {
   "cell_type": "code",
   "execution_count": 6,
   "metadata": {
    "collapsed": true
   },
   "outputs": [],
   "source": [
    "params = params_overlap()"
   ]
  },
  {
   "cell_type": "code",
   "execution_count": 7,
   "metadata": {
    "scrolled": false
   },
   "outputs": [],
   "source": [
    "pipeline.pipeline_fortran_bsub(params=params, setup=setup_overlap)"
   ]
  },
  {
   "cell_type": "code",
   "execution_count": 11,
   "metadata": {},
   "outputs": [
    {
     "name": "stdout",
     "output_type": "stream",
     "text": [
      "No unfinished job found\r\n"
     ]
    }
   ],
   "source": [
    "!bjobs"
   ]
  },
  {
   "cell_type": "code",
   "execution_count": 12,
   "metadata": {},
   "outputs": [
    {
     "name": "stdout",
     "output_type": "stream",
     "text": [
      "{'atmpro': 'mls',\n",
      " 'band': '3a',\n",
      " 'commitnumber': 'a06b618_testbsub',\n",
      " 'dv': 0.01,\n",
      " 'molecule': {'co2': 0.0004, 'h2o': 'atmpro', 'n2o': 3.2e-07},\n",
      " 'nv': 100,\n",
      " 'tsfc': 294}\n",
      "\n",
      "{'atmpro': 'saw',\n",
      " 'band': '3a',\n",
      " 'commitnumber': 'a06b618_testbsub',\n",
      " 'dv': 0.01,\n",
      " 'molecule': {'co2': 0.0004, 'h2o': 'atmpro', 'n2o': 3.2e-07},\n",
      " 'nv': 100,\n",
      " 'tsfc': 257}\n",
      "\n",
      "{'atmpro': 'trp',\n",
      " 'band': '3a',\n",
      " 'commitnumber': 'a06b618_testbsub',\n",
      " 'dv': 0.01,\n",
      " 'molecule': {'co2': 0.0004, 'h2o': 'atmpro', 'n2o': 3.2e-07},\n",
      " 'nv': 100,\n",
      " 'tsfc': 300}\n",
      "\n",
      "{'atmpro': 'mls',\n",
      " 'band': '3a',\n",
      " 'commitnumber': 'a06b618_testbsub',\n",
      " 'dv': 0.01,\n",
      " 'molecule': {'co2': 0.0004, 'h2o': 'atmpro', 'n2o': 3.2e-07},\n",
      " 'nv': 100,\n",
      " 'tsfc': 294}\n",
      "{'atmpro': 'saw',\n",
      " 'band': '3a',\n",
      " 'commitnumber': 'a06b618_testbsub',\n",
      " 'dv': 0.01,\n",
      " 'molecule': {'co2': 0.0004, 'h2o': 'atmpro', 'n2o': 3.2e-07},\n",
      " 'nv': 100,\n",
      " 'tsfc': 257}\n",
      "{'atmpro': 'trp',\n",
      " 'band': '3a',\n",
      " 'commitnumber': 'a06b618_testbsub',\n",
      " 'dv': 0.01,\n",
      " 'molecule': {'co2': 0.0004, 'h2o': 'atmpro', 'n2o': 3.2e-07},\n",
      " 'nv': 100,\n",
      " 'tsfc': 300}\n",
      "\n"
     ]
    }
   ],
   "source": [
    "gprocs = pipeline.pipeline_ipynb2git(params=params,\n",
    "                                     setup=setup_overlap)"
   ]
  },
  {
   "cell_type": "code",
   "execution_count": null,
   "metadata": {
    "collapsed": true
   },
   "outputs": [],
   "source": []
  }
 ],
 "metadata": {
  "kernelspec": {
   "display_name": "Python 3",
   "language": "python",
   "name": "python3"
  },
  "language_info": {
   "codemirror_mode": {
    "name": "ipython",
    "version": 3
   },
   "file_extension": ".py",
   "mimetype": "text/x-python",
   "name": "python",
   "nbconvert_exporter": "python",
   "pygments_lexer": "ipython3",
   "version": "3.6.1"
  }
 },
 "nbformat": 4,
 "nbformat_minor": 2
}
