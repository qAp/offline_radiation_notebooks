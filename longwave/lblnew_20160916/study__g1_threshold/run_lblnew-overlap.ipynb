{
 "cells": [
  {
   "cell_type": "code",
   "execution_count": 55,
   "metadata": {},
   "outputs": [
    {
     "data": {
      "text/plain": [
       "<module 'climatools.lblnew.setup_overlap' from '/chia_cluster/home/jackyu/climatools/climatools/lblnew/setup_overlap.py'>"
      ]
     },
     "execution_count": 55,
     "metadata": {},
     "output_type": "execute_result"
    }
   ],
   "source": [
    "import os\n",
    "import shutil\n",
    "import importlib\n",
    "import pprint\n",
    "\n",
    "import climatools.lblnew.pipeline as pipeline\n",
    "import climatools.lblnew.setup_overlap as setup_overlap\n",
    "\n",
    "importlib.reload(pipeline)\n",
    "importlib.reload(setup_overlap)"
   ]
  },
  {
   "cell_type": "code",
   "execution_count": 56,
   "metadata": {
    "collapsed": true
   },
   "outputs": [],
   "source": [
    "#def params_overlap():\n",
    "#    \n",
    "#    params = []\n",
    "#    \n",
    "#    for param0 in setup.test_cases():\n",
    "#        for atmpro, tsfc in [('mls', 294), \n",
    "#                             ('saw', 257), \n",
    "#                             ('trp', 300)]:\n",
    "#            param = param0.copy()\n",
    "#            param['atmpro'] = atmpro\n",
    "#            param['tsfc'] = tsfc\n",
    "#            params.append(param)\n",
    "#                \n",
    "#    return params\n",
    "\n",
    "\n",
    "def params_overlap():\n",
    "    param0 = {'commitnumber': 'bca49ce',                                              \n",
    "              'molecule': {'h2o': 'atmpro', \n",
    "                           'co2': 800e-6, \n",
    "                           'n2o': 5.2e-7},            \n",
    "              'band': '3a',                                                           \n",
    "              'nv': 100,                                                             \n",
    "              'dv': .01,                                                             \n",
    "              'atmpro': 'mls',                                                        \n",
    "              'tsfc': 294}\n",
    "        \n",
    "    params = []\n",
    "    for atmpro, tsfc in [('mls', 294), \n",
    "                         ('saw', 257), \n",
    "                         ('trp', 300)]:\n",
    "        param = param0.copy()\n",
    "        param['atmpro'] = atmpro\n",
    "        param['tsfc'] = tsfc\n",
    "        params.append(param)\n",
    "        \n",
    "    return params\n",
    "\n",
    "\n",
    "\n",
    "\n",
    "\n",
    "def nbviewer_links_overlap(params=None):\n",
    "    for param in params:\n",
    "        print(param['molecule'], param['band'], param['atmpro'])\n",
    "        print(pipeline.nbviewer_url(param, setup=setup_overlap))\n",
    "        print()\n",
    "\n",
    "\n",
    "\n"
   ]
  },
  {
   "cell_type": "code",
   "execution_count": 57,
   "metadata": {
    "collapsed": true
   },
   "outputs": [],
   "source": [
    "params = params_overlap()"
   ]
  },
  {
   "cell_type": "code",
   "execution_count": 58,
   "metadata": {
    "scrolled": false
   },
   "outputs": [],
   "source": [
    "pipeline.pipeline_fortran_bsub(params=params, setup=setup_overlap)"
   ]
  },
  {
   "cell_type": "code",
   "execution_count": 60,
   "metadata": {},
   "outputs": [
    {
     "name": "stdout",
     "output_type": "stream",
     "text": [
      "No unfinished job found\r\n"
     ]
    }
   ],
   "source": [
    "!bjobs"
   ]
  },
  {
   "cell_type": "code",
   "execution_count": 61,
   "metadata": {},
   "outputs": [
    {
     "name": "stdout",
     "output_type": "stream",
     "text": [
      "{'atmpro': 'mls',\n",
      " 'band': '3a',\n",
      " 'commitnumber': 'bca49ce',\n",
      " 'dv': 0.01,\n",
      " 'molecule': {'co2': 0.0008, 'h2o': 'atmpro', 'n2o': 5.2e-07},\n",
      " 'nv': 100,\n",
      " 'tsfc': 294}\n",
      "\n",
      "{'atmpro': 'saw',\n",
      " 'band': '3a',\n",
      " 'commitnumber': 'bca49ce',\n",
      " 'dv': 0.01,\n",
      " 'molecule': {'co2': 0.0008, 'h2o': 'atmpro', 'n2o': 5.2e-07},\n",
      " 'nv': 100,\n",
      " 'tsfc': 257}\n",
      "\n",
      "{'atmpro': 'trp',\n",
      " 'band': '3a',\n",
      " 'commitnumber': 'bca49ce',\n",
      " 'dv': 0.01,\n",
      " 'molecule': {'co2': 0.0008, 'h2o': 'atmpro', 'n2o': 5.2e-07},\n",
      " 'nv': 100,\n",
      " 'tsfc': 300}\n",
      "\n",
      "{'atmpro': 'mls',\n",
      " 'band': '3a',\n",
      " 'commitnumber': 'bca49ce',\n",
      " 'dv': 0.01,\n",
      " 'molecule': {'co2': 0.0008, 'h2o': 'atmpro', 'n2o': 5.2e-07},\n",
      " 'nv': 100,\n",
      " 'tsfc': 294}\n",
      "{'atmpro': 'saw',\n",
      " 'band': '3a',\n",
      " 'commitnumber': 'bca49ce',\n",
      " 'dv': 0.01,\n",
      " 'molecule': {'co2': 0.0008, 'h2o': 'atmpro', 'n2o': 5.2e-07},\n",
      " 'nv': 100,\n",
      " 'tsfc': 257}\n",
      "{'atmpro': 'trp',\n",
      " 'band': '3a',\n",
      " 'commitnumber': 'bca49ce',\n",
      " 'dv': 0.01,\n",
      " 'molecule': {'co2': 0.0008, 'h2o': 'atmpro', 'n2o': 5.2e-07},\n",
      " 'nv': 100,\n",
      " 'tsfc': 300}\n",
      "\n"
     ]
    }
   ],
   "source": [
    "gprocs = pipeline.pipeline_ipynb2git(params=params,\n",
    "                                     setup=setup_overlap)"
   ]
  },
  {
   "cell_type": "code",
   "execution_count": 62,
   "metadata": {},
   "outputs": [
    {
     "name": "stdout",
     "output_type": "stream",
     "text": [
      "{'h2o': 'atmpro', 'co2': 0.0008, 'n2o': 5.2e-07} band 3a mls\n",
      "http://nbviewer.jupyter.org/github/qap/analysis_-_new_kdist_param/blob/master/lblnew/h2o_atmpro_co2_0.0008_o3_0_n2o_5.2e-07_ch4_0_o2_0/band03a_wn_540_620/nv_100/dv_0.01/crd_bca49ce/atmpro_mls/results_overlap.ipynb\n",
      "\n",
      "{'h2o': 'atmpro', 'co2': 0.0008, 'n2o': 5.2e-07} band 3a saw\n",
      "http://nbviewer.jupyter.org/github/qap/analysis_-_new_kdist_param/blob/master/lblnew/h2o_atmpro_co2_0.0008_o3_0_n2o_5.2e-07_ch4_0_o2_0/band03a_wn_540_620/nv_100/dv_0.01/crd_bca49ce/atmpro_saw/results_overlap.ipynb\n",
      "\n",
      "{'h2o': 'atmpro', 'co2': 0.0008, 'n2o': 5.2e-07} band 3a trp\n",
      "http://nbviewer.jupyter.org/github/qap/analysis_-_new_kdist_param/blob/master/lblnew/h2o_atmpro_co2_0.0008_o3_0_n2o_5.2e-07_ch4_0_o2_0/band03a_wn_540_620/nv_100/dv_0.01/crd_bca49ce/atmpro_trp/results_overlap.ipynb\n",
      "\n"
     ]
    }
   ],
   "source": [
    "for param in params:\n",
    "    print(param['molecule'], 'band', param['band'], param['atmpro'])\n",
    "    print(pipeline.nbviewer_url(param=param, setup=setup_overlap))\n",
    "    print()"
   ]
  },
  {
   "cell_type": "code",
   "execution_count": null,
   "metadata": {
    "collapsed": true
   },
   "outputs": [],
   "source": []
  }
 ],
 "metadata": {
  "kernelspec": {
   "display_name": "Python 3",
   "language": "python",
   "name": "python3"
  },
  "language_info": {
   "codemirror_mode": {
    "name": "ipython",
    "version": 3
   },
   "file_extension": ".py",
   "mimetype": "text/x-python",
   "name": "python",
   "nbconvert_exporter": "python",
   "pygments_lexer": "ipython3",
   "version": "3.6.1"
  }
 },
 "nbformat": 4,
 "nbformat_minor": 2
}
