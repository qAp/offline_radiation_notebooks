{
 "cells": [
  {
   "cell_type": "code",
   "execution_count": null,
   "metadata": {
    "collapsed": true
   },
   "outputs": [],
   "source": [
    "'''\n",
    "This notebook is to be used to convert best-fit parameter values\n",
    "saved in climatools.lblnew.bestfit_params into Fortran, in a form\n",
    "that can be easily inserted into the kdist_params() subroutine in\n",
    "the overlap version of lblnew.f\n",
    "'''"
   ]
  },
  {
   "cell_type": "code",
   "execution_count": 5,
   "metadata": {
    "collapsed": true
   },
   "outputs": [],
   "source": [
    "import itertools\n",
    "\n",
    "\n",
    "from climatools.lblnew import bestfit_params as bestfit"
   ]
  },
  {
   "cell_type": "code",
   "execution_count": 78,
   "metadata": {},
   "outputs": [],
   "source": [
    "def into_chunks(l, chunksize):\n",
    "    return itertools.zip_longest(*(chunksize * [iter(l)]))\n",
    "\n",
    "\n",
    "\n",
    "def vector_to_F77list(array, num_values_per_line=4, dtype=float):\n",
    "    '''\n",
    "    '''\n",
    "    if dtype == float:\n",
    "        strfmt = '{:15.6e}_r8'\n",
    "    elif dtype == int:\n",
    "        strfmt = '{:15d}'\n",
    "    else:\n",
    "        raise ValueError('dtype must be either float or int.')\n",
    "    \n",
    "    chunks = into_chunks(array, num_values_per_line)\n",
    "    \n",
    "    chunks = list(chunks)\n",
    "    \n",
    "    lines = []\n",
    "    for chunk in chunks[:-1]:\n",
    "        vs = [strfmt.format(v) for v in chunk if v != None]\n",
    "        line = ','.join(vs)\n",
    "        line = line + ','\n",
    "        lines.append(line)\n",
    "        \n",
    "    vs = [strfmt.format(v) for v in chunks[-1] if v != None]\n",
    "    line = ','.join(vs)\n",
    "    lines.append(line)\n",
    "    \n",
    "    return lines\n",
    "\n",
    "\n",
    "def vector_to_F77(array=None, num_values_per_line=None, dtype=None):\n",
    "    lines = vector_to_F77list(array=array, \n",
    "                              num_values_per_line=num_values_per_line,\n",
    "                              dtype=dtype)\n",
    "    \n",
    "    rlines = [5 * ' ' + '&' + l for l in lines]\n",
    "    \n",
    "    fortran = '\\n'.join(rlines)\n",
    "    return fortran"
   ]
  },
  {
   "cell_type": "code",
   "execution_count": 32,
   "metadata": {},
   "outputs": [],
   "source": [
    "param = bestfit.kdist_params(molecule='co2', band='3a')"
   ]
  },
  {
   "cell_type": "code",
   "execution_count": 80,
   "metadata": {
    "collapsed": true
   },
   "outputs": [],
   "source": [
    "def if_conditional(param):\n",
    "    vmin, vmax = param['vmin'], param['vmax']\n",
    "    molecule, band = param['molecule'], param['band']\n",
    "    \n",
    "    s_if = \"if (vstar == {vmin}_r8 .and. vend == {vmax}_r8) then\"\n",
    "    \n",
    "    s_elif = (\"else if (vstar == {vmin}_r8 \"\n",
    "              \".and. vend == {vmax}_r8) then\")\n",
    "    \n",
    "    first_bands = [(molecule == 'h2o' and band == '1'),\n",
    "                   (molecule == 'co2' and band == '3a'),\n",
    "                   (molecule == 'o3' and band == '5'),\n",
    "                   (molecule == 'n2o' and band == '7'),\n",
    "                   (molecule == 'ch4' and band == '6')]\n",
    "    \n",
    "    if any(first_bands):\n",
    "        s = s_if\n",
    "    else:\n",
    "        s = s_elif\n",
    "        \n",
    "    return s.format(vmin=vmin, vmax=vmax)\n",
    "\n",
    "\n",
    "def comment_header(param):\n",
    "    s = \"! {} band{}\"\n",
    "    return s.format(param['molecule'], param['band'])\n",
    "\n",
    "\n",
    "def nref(param):\n",
    "    s = \"nref = {:d}\"\n",
    "    return s.format(len(param['ng_refs']))\n",
    "\n",
    "\n",
    "def ng(param):\n",
    "    s = \"ng = {:d}\"\n",
    "    return s.format(sum(param['ng_refs']))\n",
    "\n",
    "\n",
    "def ng_refs(param):\n",
    "    s = vector_to_F77(param['ng_refs'], num_values_per_line=2, dtype=int)\n",
    "    s = \n",
    "\n"
   ]
  },
  {
   "cell_type": "code",
   "execution_count": 81,
   "metadata": {},
   "outputs": [
    {
     "name": "stdout",
     "output_type": "stream",
     "text": [
      "['              3,              2,', '              4']\n"
     ]
    }
   ],
   "source": [
    "print(ng_refs(param))"
   ]
  },
  {
   "cell_type": "code",
   "execution_count": 35,
   "metadata": {},
   "outputs": [
    {
     "data": {
      "text/plain": [
       "{'band': '3a',\n",
       " 'klin': 6.375563e-24,\n",
       " 'molecule': 'co2',\n",
       " 'ng_adju': [0, 0, 0],\n",
       " 'ng_refs': [3, 2, 4],\n",
       " 'option_wgt_k': 1,\n",
       " 'ref_pts': [(1, 250), (10, 250), (500, 250)],\n",
       " 'vmax': 620,\n",
       " 'vmin': 540,\n",
       " 'w_diffuse': [(1.6, 1.6, 1.7), (1.75, 1.75), (1.55, 1.55, 1.6, 1.85)],\n",
       " 'wgt': [(0.7, 0.3, 0.7), (0.7, 0.6), (0.4, 0.5, 0.8, 0.95)]}"
      ]
     },
     "execution_count": 35,
     "metadata": {},
     "output_type": "execute_result"
    }
   ],
   "source": [
    "param"
   ]
  },
  {
   "cell_type": "code",
   "execution_count": 22,
   "metadata": {},
   "outputs": [],
   "source": [
    "def gasband_str_funcs():\n",
    "    return (if_conditional,\n",
    "            comment_header,\n",
    "            nref,\n",
    "            ng,\n",
    "            ng_refs,\n",
    "            ng_adju,\n",
    "            p_refs,\n",
    "            t_refs,\n",
    "            wgt,\n",
    "            w_diffuse,\n",
    "            option_klin,\n",
    "            klin)\n"
   ]
  },
  {
   "cell_type": "code",
   "execution_count": 34,
   "metadata": {
    "collapsed": true
   },
   "outputs": [],
   "source": [
    "def kdist_param_gasband(param):\n",
    "    \n",
    "    for i, f in enumerate(gasband_str_funcs()):\n",
    "        if i == 0:\n",
    "            lines.append(6 * ' ' + f(param))\n",
    "        else:\n",
    "            lines.append(6 * ' ' + 3 * ' ' + f(param))\n",
    "            \n",
    "    return lines\n",
    "        "
   ]
  },
  {
   "cell_type": "code",
   "execution_count": null,
   "metadata": {
    "collapsed": true
   },
   "outputs": [],
   "source": []
  }
 ],
 "metadata": {
  "kernelspec": {
   "display_name": "Python 3",
   "language": "python",
   "name": "python3"
  },
  "language_info": {
   "codemirror_mode": {
    "name": "ipython",
    "version": 3
   },
   "file_extension": ".py",
   "mimetype": "text/x-python",
   "name": "python",
   "nbconvert_exporter": "python",
   "pygments_lexer": "ipython3",
   "version": "3.6.1"
  }
 },
 "nbformat": 4,
 "nbformat_minor": 2
}
