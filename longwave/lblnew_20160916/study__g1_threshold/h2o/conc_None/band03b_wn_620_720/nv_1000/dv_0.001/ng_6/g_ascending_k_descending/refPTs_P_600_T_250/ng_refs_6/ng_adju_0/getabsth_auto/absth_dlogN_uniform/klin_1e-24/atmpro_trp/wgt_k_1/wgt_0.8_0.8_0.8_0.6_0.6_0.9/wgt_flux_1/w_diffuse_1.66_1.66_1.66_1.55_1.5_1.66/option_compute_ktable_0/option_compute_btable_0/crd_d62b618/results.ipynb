{
 "cells": [
  {
   "cell_type": "code",
   "execution_count": 1,
   "metadata": {},
   "outputs": [
    {
     "name": "stderr",
     "output_type": "stream",
     "text": [
      "/chia_cluster/home/jackyu/anaconda3/lib/python3.6/site-packages/matplotlib/__init__.py:1405: UserWarning: \n",
      "This call to matplotlib.use() has no effect because the backend has already\n",
      "been chosen; matplotlib.use() must be called *before* pylab, matplotlib.pyplot,\n",
      "or matplotlib.backends is imported for the first time.\n",
      "\n",
      "  warnings.warn(_use_error_msg)\n"
     ]
    },
    {
     "data": {
      "text/plain": [
       "<module 'climatools.lblnew.g1_threshold' from '/chia_cluster/home/jackyu/climatools/climatools/lblnew/g1_threshold.py'>"
      ]
     },
     "execution_count": 1,
     "metadata": {},
     "output_type": "execute_result"
    }
   ],
   "source": [
    "%matplotlib inline\n",
    "import os\n",
    "import re\n",
    "import io\n",
    "\n",
    "import matplotlib\n",
    "import numpy as np\n",
    "import pandas as pd\n",
    "import xarray as xr\n",
    "\n",
    "import climatools.html.html as climahtml\n",
    "import climatools.lblnew.g1_threshold as scripts\n",
    "\n",
    "import IPython.display as display\n",
    "\n",
    "import imp\n",
    "imp.reload(scripts)"
   ]
  },
  {
   "cell_type": "code",
   "execution_count": 2,
   "metadata": {
    "collapsed": true
   },
   "outputs": [],
   "source": [
    "%run param.py"
   ]
  },
  {
   "cell_type": "code",
   "execution_count": 3,
   "metadata": {
    "collapsed": true
   },
   "outputs": [],
   "source": [
    "NG_REFS = PARAM['ng_refs']\n",
    "P_REFS, T_REFS = zip(*PARAM['ref_pts'])"
   ]
  },
  {
   "cell_type": "code",
   "execution_count": 4,
   "metadata": {
    "collapsed": true
   },
   "outputs": [],
   "source": [
    "# for printing some input parameters\n",
    "\n",
    "def innames():\n",
    "    return ['vstar', 'nband', 'nv', 'dv',\n",
    "            'flgh2o',\n",
    "            'tsfc',\n",
    "            'pressure_reference_1',\n",
    "            'temperature_reference_1', \n",
    "            'pressure_reference_2', \n",
    "            'temperature_reference_2',\n",
    "            'ighigh', \n",
    "            'ng', \n",
    "            'nref',\n",
    "            'p_refs',\n",
    "            't_refs',\n",
    "            'ng_refs',\n",
    "            'ng_adju',\n",
    "            'absth',\n",
    "            'wgt',\n",
    "            'option_wgt_flux',\n",
    "            'option_wgt_k',\n",
    "            'option_klin',\n",
    "            'w_diffuse',\n",
    "            'fac_meank',\n",
    "            'klin',\n",
    "            'option_compute_ktable',\n",
    "            'option_compute_btable',\n",
    "            'conc']\n",
    "\n",
    "\n",
    "\n",
    "def pattern_assign(name):\n",
    "    return ''' \n",
    "    parameter .* :: \\s* &? \\s* ({} \\s* = .* \\n)\n",
    "    '''.format(name)\n",
    "\n",
    "def pattern_data(name):\n",
    "    return '''\n",
    "    (data [^/{name}]+ {name}[^,] [^/{name}]+ / [^/]+ /)\n",
    "    '''.format(name=name)\n",
    "\n",
    "def pattern_atmpro():\n",
    "    return '''\n",
    "    (atmosphere_profiles/.*75_r8.pro)\n",
    "    '''\n",
    "    \n",
    "\n",
    "def get_input_params(code, names):\n",
    "    results = []\n",
    "    for name in names:\n",
    "        regex = re.compile(pattern_assign(name), re.VERBOSE)\n",
    "        results.extend(regex.findall(code))\n",
    "        \n",
    "        regex = re.compile(pattern_data(name), re.VERBOSE)\n",
    "        results.extend(regex.findall(code))\n",
    "        \n",
    "    regex = re.compile(pattern_atmpro(), re.VERBOSE)\n",
    "    results.extend(regex.findall(code))\n",
    "        \n",
    "    results = [result.replace('_r8', '') for result in results]\n",
    "    return results\n"
   ]
  },
  {
   "cell_type": "code",
   "execution_count": 5,
   "metadata": {
    "collapsed": true
   },
   "outputs": [],
   "source": [
    "analysis = scripts.Analysis()"
   ]
  },
  {
   "cell_type": "code",
   "execution_count": 6,
   "metadata": {
    "collapsed": true
   },
   "outputs": [],
   "source": [
    "crd = analysis.model('crd')\n",
    "crd.type_model = 'crd'\n",
    "crd.rundir = DIR_FORTRAN\n",
    "crd.fpath_flux = 'output_fluxg.dat'\n",
    "crd.fpath_coolr = 'output_coolrg.dat'\n",
    "crd.linestyle = '-'\n",
    "crd.color = 'b'\n",
    "crd.marker = None\n",
    "crd.load_data()"
   ]
  },
  {
   "cell_type": "code",
   "execution_count": 7,
   "metadata": {
    "collapsed": true
   },
   "outputs": [],
   "source": [
    "def add_wgt_models():\n",
    "    iggs = [10, 1]\n",
    "    markers = [None, 'x']\n",
    "    colors = ['r', 'c']\n",
    "    linestyle = '-'\n",
    "\n",
    "    df_wfluxg = pd.read_csv(os.path.join(crd.rundir, \n",
    "                                         'output_wfluxg.dat'), \n",
    "                            sep=r'\\s+')\n",
    "\n",
    "    df_wcoolrg = pd.read_csv(os.path.join(crd.rundir, \n",
    "                                          'output_wcoolrg.dat'), \n",
    "                             sep=r'\\s+')\n",
    "\n",
    "    for igg, marker, color in zip(iggs, markers, colors):\n",
    "\n",
    "        flux_igg = df_wfluxg[df_wfluxg['igg'] == igg]\\\n",
    "        .drop('igg', axis=1)\n",
    "        s_flux = io.StringIO(flux_igg.to_csv(sep=' '))\n",
    "\n",
    "        coolr_igg = df_wcoolrg[df_wcoolrg['igg'] == igg]\\\n",
    "        .drop('igg', axis=1)\n",
    "        s_coolr = io.StringIO(coolr_igg.to_csv(sep=' '))\n",
    "\n",
    "        crdx_igg = analysis.model('wgt_igg{}'.format(igg))\n",
    "        crdx_igg.type_model = 'crd'\n",
    "        crdx_igg.rundir = DIR_FORTRAN\n",
    "        crdx_igg.fpath_flux = s_flux\n",
    "        crdx_igg.fpath_coolr = s_coolr\n",
    "        crdx_igg.color = color\n",
    "        crdx_igg.marker = marker\n",
    "        crdx_igg.linestyle = linestyle\n",
    "        crdx_igg.load_data()\n",
    "        \n",
    "add_wgt_models()"
   ]
  },
  {
   "cell_type": "code",
   "execution_count": 8,
   "metadata": {
    "collapsed": true
   },
   "outputs": [],
   "source": [
    "def add_ktable_models():\n",
    "    iggs = [10]\n",
    "    markers = ['D',]\n",
    "    color = 'g'\n",
    "    linestyle = ':'\n",
    "\n",
    "    df_wwfluxg = pd.read_csv(os.path.join(crd.rundir, \n",
    "                                          'output_wwfluxg.dat'), \n",
    "                             sep=r'\\s+')\n",
    "\n",
    "    df_wwcoolrg = pd.read_csv(os.path.join(crd.rundir, \n",
    "                                           'output_wwcoolrg.dat'), \n",
    "                              sep=r'\\s+')\n",
    "\n",
    "    for igg, marker in zip(iggs, markers):\n",
    "\n",
    "        flux_igg = df_wwfluxg[df_wwfluxg['igg'] == igg]\\\n",
    "        .drop('igg', axis=1)\n",
    "        s_flux = io.StringIO(flux_igg.to_csv(sep=' '))\n",
    "\n",
    "        coolr_igg = df_wwcoolrg[df_wwcoolrg['igg'] == igg]\\\n",
    "        .drop('igg', axis=1)\n",
    "        s_coolr = io.StringIO(coolr_igg.to_csv(sep=' '))\n",
    "\n",
    "        crdxx_igg = analysis.model('ktable_igg{}'.format(igg))\n",
    "        crdxx_igg.type_model = 'crd'\n",
    "        crdxx_igg.rundir = DIR_FORTRAN\n",
    "        crdxx_igg.fpath_flux = s_flux\n",
    "        crdxx_igg.fpath_coolr = s_coolr\n",
    "        crdxx_igg.color = color\n",
    "        crdxx_igg.marker = marker\n",
    "        crdxx_igg.linestyle = linestyle\n",
    "        crdxx_igg.load_data()\n",
    "        \n",
    "        "
   ]
  },
  {
   "cell_type": "code",
   "execution_count": 9,
   "metadata": {
    "collapsed": true
   },
   "outputs": [],
   "source": [
    "fig = analysis.fig_fluxcoolr('fig1', vartypes=['cooling rate'])\n",
    "fig.ggroups = list(crd.data['dgdgs'].coords['g'].values) #list(range(1, 8 + 1))\n",
    "fig.vars_plot['flux'] = ['flug', 'fnetg']\n",
    "fig.vars_plot['cooling rate'] = ['coolrg']\n",
    "fig.colors['flug'] = 'darkred'\n",
    "fig.colors['fnetg'] = 'lightcoral'\n",
    "fig.colors['coolrg'] = 'blue'\n",
    "fig.varlims_from_indexrange['linear'] = (50, 1050)\n",
    "fig.varlims_from_indexrange['log'] = (1e-2, 200)\n",
    "\n",
    "fig.set_pressure_displayrange(low=1e-2)"
   ]
  },
  {
   "cell_type": "code",
   "execution_count": 10,
   "metadata": {
    "collapsed": true
   },
   "outputs": [],
   "source": [
    "table_fluxg = analysis.table('table_fluxg')\n",
    "table_fluxg.sumg = False\n",
    "table_fluxg.vartype = 'flux'\n",
    "table_fluxg.at_pressures = crd.data['flux']\\\n",
    "                             .coords['pressure']\\\n",
    "                             .isel(pressure=[0, -1])\n",
    "\n",
    "table_coolrg = analysis.table('table_coolrg')\n",
    "table_coolrg.vartype = 'cooling rate'\n",
    "table_coolrg.sumg = False\n",
    "table_coolrg.at_pressures = crd.data['cooling rate']\\\n",
    "                               .coords['pressure']\\\n",
    "                               .isel(pressure=[0, -1])\n"
   ]
  },
  {
   "cell_type": "code",
   "execution_count": 11,
   "metadata": {
    "collapsed": true
   },
   "outputs": [],
   "source": [
    "table_flux = analysis.table('table_flux')\n",
    "table_flux.sumg = True\n",
    "table_flux.vartype = 'flux'\n",
    "table_flux.at_pressures = crd.data['flux']\\\n",
    "                             .coords['pressure']\\\n",
    "                             .isel(pressure=[0, -1])\n",
    "\n",
    "table_coolr = analysis.table('table_coolr')\n",
    "table_coolr.vartype = 'cooling rate'\n",
    "table_coolr.sumg = True\n",
    "table_coolr.at_pressures = crd.data['cooling rate']\\\n",
    "                              .coords['pressure']\\\n",
    "                              .isel(pressure=[0, -1])"
   ]
  },
  {
   "cell_type": "code",
   "execution_count": 12,
   "metadata": {
    "collapsed": true
   },
   "outputs": [],
   "source": [
    "table_dgdgs = analysis.table('dgdgs')\n",
    "table_dgdgs.vartype = 'dgdgs'\n",
    "table_dgdgs.sumg = False"
   ]
  },
  {
   "cell_type": "code",
   "execution_count": 13,
   "metadata": {
    "collapsed": true
   },
   "outputs": [
    {
     "name": "stdout",
     "output_type": "stream",
     "text": [
      "atmpro = trp\n",
      "band = 3b\n",
      "commitnumber = d62b618\n",
      "conc = None\n",
      "dv = 0.001\n",
      "klin = 1e-24\n",
      "molecule = h2o\n",
      "ng_adju = [0]\n",
      "ng_refs = [6]\n",
      "nv = 1000\n",
      "option_compute_btable = 0\n",
      "option_compute_ktable = 0\n",
      "option_wgt_flux = 1\n",
      "option_wgt_k = 1\n",
      "ref_pts = [(600, 250)]\n",
      "tsfc = 300\n",
      "vmax = 720\n",
      "vmin = 620\n",
      "w_diffuse = [(1.66, 1.66, 1.66, 1.55, 1.5, 1.66)]\n",
      "wgt = [(0.8, 0.8, 0.8, 0.6, 0.6, 0.9)]\n"
     ]
    }
   ],
   "source": [
    "for name, value in sorted(PARAM.items()):\n",
    "    print('{} = {}'.format(name, value))"
   ]
  },
  {
   "cell_type": "code",
   "execution_count": 14,
   "metadata": {},
   "outputs": [
    {
     "data": {
      "text/html": [
       "<a href=\"#Figure:_cooling_rate_g-group_1\">Figure: cooling rate g-group 1</a>"
      ],
      "text/plain": [
       "<IPython.core.display.HTML object>"
      ]
     },
     "metadata": {},
     "output_type": "display_data"
    },
    {
     "data": {
      "text/html": [
       "<a href=\"#Figure:_cooling_rate_g-group_2\">Figure: cooling rate g-group 2</a>"
      ],
      "text/plain": [
       "<IPython.core.display.HTML object>"
      ]
     },
     "metadata": {},
     "output_type": "display_data"
    },
    {
     "data": {
      "text/html": [
       "<a href=\"#Figure:_cooling_rate_g-group_3\">Figure: cooling rate g-group 3</a>"
      ],
      "text/plain": [
       "<IPython.core.display.HTML object>"
      ]
     },
     "metadata": {},
     "output_type": "display_data"
    },
    {
     "data": {
      "text/html": [
       "<a href=\"#Figure:_cooling_rate_g-group_4\">Figure: cooling rate g-group 4</a>"
      ],
      "text/plain": [
       "<IPython.core.display.HTML object>"
      ]
     },
     "metadata": {},
     "output_type": "display_data"
    },
    {
     "data": {
      "text/html": [
       "<a href=\"#Figure:_cooling_rate_g-group_5\">Figure: cooling rate g-group 5</a>"
      ],
      "text/plain": [
       "<IPython.core.display.HTML object>"
      ]
     },
     "metadata": {},
     "output_type": "display_data"
    },
    {
     "data": {
      "text/html": [
       "<a href=\"#Figure:_cooling_rate_g-group_6\">Figure: cooling rate g-group 6</a>"
      ],
      "text/plain": [
       "<IPython.core.display.HTML object>"
      ]
     },
     "metadata": {},
     "output_type": "display_data"
    },
    {
     "data": {
      "text/html": [
       "<a href=\"#Figure:_cooling_rate_g-group_total\">Figure: cooling rate g-group total</a>"
      ],
      "text/plain": [
       "<IPython.core.display.HTML object>"
      ]
     },
     "metadata": {},
     "output_type": "display_data"
    }
   ],
   "source": [
    "fig.display_hrefanchor()"
   ]
  },
  {
   "cell_type": "code",
   "execution_count": 15,
   "metadata": {},
   "outputs": [
    {
     "data": {
      "text/html": [
       "<a href=\"#Table:_flux._g-groups\">Table: flux. g-groups </a>"
      ],
      "text/plain": [
       "<IPython.core.display.HTML object>"
      ]
     },
     "metadata": {},
     "output_type": "display_data"
    },
    {
     "data": {
      "text/html": [
       "<a href=\"#Table:_cooling_rate._g-groups\">Table: cooling rate. g-groups </a>"
      ],
      "text/plain": [
       "<IPython.core.display.HTML object>"
      ]
     },
     "metadata": {},
     "output_type": "display_data"
    },
    {
     "data": {
      "text/html": [
       "<a href=\"#Table:_flux._g-groups_total\">Table: flux. g-groups total</a>"
      ],
      "text/plain": [
       "<IPython.core.display.HTML object>"
      ]
     },
     "metadata": {},
     "output_type": "display_data"
    },
    {
     "data": {
      "text/html": [
       "<a href=\"#Table:_cooling_rate._g-groups_total\">Table: cooling rate. g-groups total</a>"
      ],
      "text/plain": [
       "<IPython.core.display.HTML object>"
      ]
     },
     "metadata": {},
     "output_type": "display_data"
    }
   ],
   "source": [
    "table_fluxg.display_hrefanchor()\n",
    "table_coolrg.display_hrefanchor()\n",
    "\n",
    "table_flux.display_hrefanchor()\n",
    "table_coolr.display_hrefanchor()"
   ]
  },
  {
   "cell_type": "code",
   "execution_count": 16,
   "metadata": {},
   "outputs": [
    {
     "data": {
      "text/html": [
       "<a href=\"#Table:_dgdgs._g-groups\">Table: dgdgs. g-groups </a>"
      ],
      "text/plain": [
       "<IPython.core.display.HTML object>"
      ]
     },
     "metadata": {},
     "output_type": "display_data"
    }
   ],
   "source": [
    "table_dgdgs.display_hrefanchor()"
   ]
  },
  {
   "cell_type": "code",
   "execution_count": 17,
   "metadata": {},
   "outputs": [
    {
     "data": {
      "text/html": [
       "<a href=\"#Overall_absth\">Overall absth</a>"
      ],
      "text/plain": [
       "<IPython.core.display.HTML object>"
      ]
     },
     "execution_count": 17,
     "metadata": {},
     "output_type": "execute_result"
    }
   ],
   "source": [
    "s_abscom = 'Overall absth'\n",
    "display.HTML(climahtml.getHTML_hrefanchor(s_abscom))"
   ]
  },
  {
   "cell_type": "code",
   "execution_count": 18,
   "metadata": {},
   "outputs": [
    {
     "data": {
      "text/html": [
       "<a href=\"#g-group_summary\">g-group summary</a>"
      ],
      "text/plain": [
       "<IPython.core.display.HTML object>"
      ]
     },
     "execution_count": 18,
     "metadata": {},
     "output_type": "execute_result"
    }
   ],
   "source": [
    "s_ggroup_summary = 'g-group summary'\n",
    "display.HTML(climahtml.getHTML_hrefanchor(s_ggroup_summary))"
   ]
  },
  {
   "cell_type": "code",
   "execution_count": 19,
   "metadata": {
    "collapsed": true
   },
   "outputs": [],
   "source": [
    "#for g in range(1, 20 + 1):\n",
    "#    s = 'Table: cooling rate. g-group {}'.format(g)\n",
    "#    html = climahtml.getHTML_hrefanchor(s)\n",
    "#    display.display(display.HTML(html))"
   ]
  },
  {
   "cell_type": "code",
   "execution_count": 20,
   "metadata": {
    "scrolled": false
   },
   "outputs": [
    {
     "data": {
      "text/html": [
       "<a id=\"Figure:_cooling_rate_g-group_1\"></a>"
      ],
      "text/plain": [
       "<IPython.core.display.HTML object>"
      ]
     },
     "metadata": {},
     "output_type": "display_data"
    },
    {
     "data": {
      "text/markdown": [
       "# Figure: cooling rate g-group 1"
      ],
      "text/plain": [
       "<IPython.core.display.Markdown object>"
      ]
     },
     "metadata": {},
     "output_type": "display_data"
    },
    {
     "data": {
      "image/png": "[encoded data removed]",
      "text/plain": [
       "<matplotlib.figure.Figure at 0x2b9acf5b3e10>"
      ]
     },
     "metadata": {},
     "output_type": "display_data"
    },
    {
     "data": {
      "text/html": [
       "<a id=\"Figure:_cooling_rate_g-group_2\"></a>"
      ],
      "text/plain": [
       "<IPython.core.display.HTML object>"
      ]
     },
     "metadata": {},
     "output_type": "display_data"
    },
    {
     "data": {
      "text/markdown": [
       "# Figure: cooling rate g-group 2"
      ],
      "text/plain": [
       "<IPython.core.display.Markdown object>"
      ]
     },
     "metadata": {},
     "output_type": "display_data"
    },
    {
     "data": {
      "image/png": "[encoded data removed]",
      "text/plain": [
       "<matplotlib.figure.Figure at 0x2b9ad28ff438>"
      ]
     },
     "metadata": {},
     "output_type": "display_data"
    },
    {
     "data": {
      "text/html": [
       "<a id=\"Figure:_cooling_rate_g-group_3\"></a>"
      ],
      "text/plain": [
       "<IPython.core.display.HTML object>"
      ]
     },
     "metadata": {},
     "output_type": "display_data"
    },
    {
     "data": {
      "text/markdown": [
       "# Figure: cooling rate g-group 3"
      ],
      "text/plain": [
       "<IPython.core.display.Markdown object>"
      ]
     },
     "metadata": {},
     "output_type": "display_data"
    },
    {
     "data": {
      "image/png": "[encoded data removed]",
      "text/plain": [
       "<matplotlib.figure.Figure at 0x2b9adc06aa20>"
      ]
     },
     "metadata": {},
     "output_type": "display_data"
    },
    {
     "data": {
      "text/html": [
       "<a id=\"Figure:_cooling_rate_g-group_4\"></a>"
      ],
      "text/plain": [
       "<IPython.core.display.HTML object>"
      ]
     },
     "metadata": {},
     "output_type": "display_data"
    },
    {
     "data": {
      "text/markdown": [
       "# Figure: cooling rate g-group 4"
      ],
      "text/plain": [
       "<IPython.core.display.Markdown object>"
      ]
     },
     "metadata": {},
     "output_type": "display_data"
    },
    {
     "data": {
      "image/png": "[encoded data removed]",
      "text/plain": [
       "<matplotlib.figure.Figure at 0x2b9ad2986a20>"
      ]
     },
     "metadata": {},
     "output_type": "display_data"
    },
    {
     "data": {
      "text/html": [
       "<a id=\"Figure:_cooling_rate_g-group_5\"></a>"
      ],
      "text/plain": [
       "<IPython.core.display.HTML object>"
      ]
     },
     "metadata": {},
     "output_type": "display_data"
    },
    {
     "data": {
      "text/markdown": [
       "# Figure: cooling rate g-group 5"
      ],
      "text/plain": [
       "<IPython.core.display.Markdown object>"
      ]
     },
     "metadata": {},
     "output_type": "display_data"
    },
    {
     "data": {
      "image/png": "[encoded data removed]",
      "text/plain": [
       "<matplotlib.figure.Figure at 0x2b9adc65cf98>"
      ]
     },
     "metadata": {},
     "output_type": "display_data"
    },
    {
     "data": {
      "text/html": [
       "<a id=\"Figure:_cooling_rate_g-group_6\"></a>"
      ],
      "text/plain": [
       "<IPython.core.display.HTML object>"
      ]
     },
     "metadata": {},
     "output_type": "display_data"
    },
    {
     "data": {
      "text/markdown": [
       "# Figure: cooling rate g-group 6"
      ],
      "text/plain": [
       "<IPython.core.display.Markdown object>"
      ]
     },
     "metadata": {},
     "output_type": "display_data"
    },
    {
     "data": {
      "image/png": "[encoded data removed]",
      "text/plain": [
       "<matplotlib.figure.Figure at 0x2b9adc759eb8>"
      ]
     },
     "metadata": {},
     "output_type": "display_data"
    },
    {
     "data": {
      "text/html": [
       "<a id=\"Figure:_cooling_rate_g-group_total\"></a>"
      ],
      "text/plain": [
       "<IPython.core.display.HTML object>"
      ]
     },
     "metadata": {},
     "output_type": "display_data"
    },
    {
     "data": {
      "text/markdown": [
       "# Figure: cooling rate g-group total"
      ],
      "text/plain": [
       "<IPython.core.display.Markdown object>"
      ]
     },
     "metadata": {},
     "output_type": "display_data"
    },
    {
     "data": {
      "image/png": "[encoded data removed]",
      "text/plain": [
       "<matplotlib.figure.Figure at 0x2b9adc9cf198>"
      ]
     },
     "metadata": {},
     "output_type": "display_data"
    }
   ],
   "source": [
    "matplotlib.rcParams.update({'font.size': 13,\n",
    "                            'grid.color': 'black',\n",
    "                            'axes.facecolor': 'white',\n",
    "                            'axes.edgecolor': 'black',\n",
    "                            'ytick.direction': 'out',\n",
    "                            'ytick.major.size': 6, 'ytick.major.width': 1,\n",
    "                            'ytick.minor.size': 3, 'ytick.minor.width': 1,\n",
    "                            'xtick.direction': 'out',\n",
    "                            'xtick.major.size': 6, 'xtick.major.size': 1,\n",
    "                            'xtick.minor.size': 3, 'xtick.minor.size': 1}) \n",
    "\n",
    "fig.plot(analysis)\n"
   ]
  },
  {
   "cell_type": "code",
   "execution_count": 21,
   "metadata": {
    "scrolled": false
   },
   "outputs": [
    {
     "data": {
      "text/html": [
       "<a id=\"Table:_flux._g-groups\"></a>"
      ],
      "text/plain": [
       "<IPython.core.display.HTML object>"
      ]
     },
     "metadata": {},
     "output_type": "display_data"
    },
    {
     "data": {
      "text/markdown": [
       "# Table: flux. g-groups "
      ],
      "text/plain": [
       "<IPython.core.display.Markdown object>"
      ]
     },
     "metadata": {},
     "output_type": "display_data"
    },
    {
     "name": "stdout",
     "output_type": "stream",
     "text": [
      "\n",
      "CRD\n"
     ]
    },
    {
     "data": {
      "text/html": [
       "<div>\n",
       "<style>\n",
       "    .dataframe thead tr:only-child th {\n",
       "        text-align: right;\n",
       "    }\n",
       "\n",
       "    .dataframe thead th {\n",
       "        text-align: left;\n",
       "    }\n",
       "\n",
       "    .dataframe tbody tr th {\n",
       "        vertical-align: top;\n",
       "    }\n",
       "</style>\n",
       "<table border=\"1\" class=\"dataframe\">\n",
       "  <thead>\n",
       "    <tr style=\"text-align: right;\">\n",
       "      <th></th>\n",
       "      <th></th>\n",
       "      <th></th>\n",
       "      <th>flug</th>\n",
       "      <th>fldg</th>\n",
       "      <th>fnetg</th>\n",
       "    </tr>\n",
       "    <tr>\n",
       "      <th>g</th>\n",
       "      <th>pressure</th>\n",
       "      <th>level</th>\n",
       "      <th></th>\n",
       "      <th></th>\n",
       "      <th></th>\n",
       "    </tr>\n",
       "  </thead>\n",
       "  <tbody>\n",
       "    <tr>\n",
       "      <th rowspan=\"2\" valign=\"top\">1</th>\n",
       "      <th>0.0</th>\n",
       "      <th>1</th>\n",
       "      <td>-0.154456</td>\n",
       "      <td>0.000000</td>\n",
       "      <td>-0.154456</td>\n",
       "    </tr>\n",
       "    <tr>\n",
       "      <th>1013.0</th>\n",
       "      <th>76</th>\n",
       "      <td>-0.354275</td>\n",
       "      <td>0.351872</td>\n",
       "      <td>-0.002404</td>\n",
       "    </tr>\n",
       "    <tr>\n",
       "      <th rowspan=\"2\" valign=\"top\">2</th>\n",
       "      <th>0.0</th>\n",
       "      <th>1</th>\n",
       "      <td>-0.962893</td>\n",
       "      <td>0.000000</td>\n",
       "      <td>-0.962893</td>\n",
       "    </tr>\n",
       "    <tr>\n",
       "      <th>1013.0</th>\n",
       "      <th>76</th>\n",
       "      <td>-1.818458</td>\n",
       "      <td>1.805879</td>\n",
       "      <td>-0.012579</td>\n",
       "    </tr>\n",
       "    <tr>\n",
       "      <th rowspan=\"2\" valign=\"top\">3</th>\n",
       "      <th>0.0</th>\n",
       "      <th>1</th>\n",
       "      <td>-2.882003</td>\n",
       "      <td>0.000000</td>\n",
       "      <td>-2.882003</td>\n",
       "    </tr>\n",
       "    <tr>\n",
       "      <th>1013.0</th>\n",
       "      <th>76</th>\n",
       "      <td>-4.386204</td>\n",
       "      <td>4.353508</td>\n",
       "      <td>-0.032696</td>\n",
       "    </tr>\n",
       "    <tr>\n",
       "      <th rowspan=\"2\" valign=\"top\">4</th>\n",
       "      <th>0.0</th>\n",
       "      <th>1</th>\n",
       "      <td>-9.205326</td>\n",
       "      <td>0.000000</td>\n",
       "      <td>-9.205326</td>\n",
       "    </tr>\n",
       "    <tr>\n",
       "      <th>1013.0</th>\n",
       "      <th>76</th>\n",
       "      <td>-11.679936</td>\n",
       "      <td>11.324982</td>\n",
       "      <td>-0.354953</td>\n",
       "    </tr>\n",
       "    <tr>\n",
       "      <th rowspan=\"2\" valign=\"top\">5</th>\n",
       "      <th>0.0</th>\n",
       "      <th>1</th>\n",
       "      <td>-16.590173</td>\n",
       "      <td>0.000000</td>\n",
       "      <td>-16.590173</td>\n",
       "    </tr>\n",
       "    <tr>\n",
       "      <th>1013.0</th>\n",
       "      <th>76</th>\n",
       "      <td>-18.304709</td>\n",
       "      <td>12.510417</td>\n",
       "      <td>-5.794292</td>\n",
       "    </tr>\n",
       "    <tr>\n",
       "      <th rowspan=\"2\" valign=\"top\">6</th>\n",
       "      <th>0.0</th>\n",
       "      <th>1</th>\n",
       "      <td>-10.178734</td>\n",
       "      <td>0.000000</td>\n",
       "      <td>-10.178734</td>\n",
       "    </tr>\n",
       "    <tr>\n",
       "      <th>1013.0</th>\n",
       "      <th>76</th>\n",
       "      <td>-10.523967</td>\n",
       "      <td>3.145130</td>\n",
       "      <td>-7.378837</td>\n",
       "    </tr>\n",
       "  </tbody>\n",
       "</table>\n",
       "</div>"
      ],
      "text/plain": [
       "                       flug       fldg      fnetg\n",
       "g pressure level                                 \n",
       "1 0.0      1      -0.154456   0.000000  -0.154456\n",
       "  1013.0   76     -0.354275   0.351872  -0.002404\n",
       "2 0.0      1      -0.962893   0.000000  -0.962893\n",
       "  1013.0   76     -1.818458   1.805879  -0.012579\n",
       "3 0.0      1      -2.882003   0.000000  -2.882003\n",
       "  1013.0   76     -4.386204   4.353508  -0.032696\n",
       "4 0.0      1      -9.205326   0.000000  -9.205326\n",
       "  1013.0   76    -11.679936  11.324982  -0.354953\n",
       "5 0.0      1     -16.590173   0.000000 -16.590173\n",
       "  1013.0   76    -18.304709  12.510417  -5.794292\n",
       "6 0.0      1     -10.178734   0.000000 -10.178734\n",
       "  1013.0   76    -10.523967   3.145130  -7.378837"
      ]
     },
     "metadata": {},
     "output_type": "display_data"
    },
    {
     "name": "stdout",
     "output_type": "stream",
     "text": [
      "\n",
      "WGT_IGG10\n"
     ]
    },
    {
     "data": {
      "text/html": [
       "<div>\n",
       "<style>\n",
       "    .dataframe thead tr:only-child th {\n",
       "        text-align: right;\n",
       "    }\n",
       "\n",
       "    .dataframe thead th {\n",
       "        text-align: left;\n",
       "    }\n",
       "\n",
       "    .dataframe tbody tr th {\n",
       "        vertical-align: top;\n",
       "    }\n",
       "</style>\n",
       "<table border=\"1\" class=\"dataframe\">\n",
       "  <thead>\n",
       "    <tr style=\"text-align: right;\">\n",
       "      <th></th>\n",
       "      <th></th>\n",
       "      <th></th>\n",
       "      <th>flug</th>\n",
       "      <th>fldg</th>\n",
       "      <th>fnetg</th>\n",
       "    </tr>\n",
       "    <tr>\n",
       "      <th>g</th>\n",
       "      <th>pressure</th>\n",
       "      <th>level</th>\n",
       "      <th></th>\n",
       "      <th></th>\n",
       "      <th></th>\n",
       "    </tr>\n",
       "  </thead>\n",
       "  <tbody>\n",
       "    <tr>\n",
       "      <th rowspan=\"2\" valign=\"top\">1</th>\n",
       "      <th>0.0</th>\n",
       "      <th>1</th>\n",
       "      <td>-0.149481</td>\n",
       "      <td>0.000000</td>\n",
       "      <td>-0.149481</td>\n",
       "    </tr>\n",
       "    <tr>\n",
       "      <th>1013.0</th>\n",
       "      <th>76</th>\n",
       "      <td>-0.360807</td>\n",
       "      <td>0.358292</td>\n",
       "      <td>-0.002515</td>\n",
       "    </tr>\n",
       "    <tr>\n",
       "      <th rowspan=\"2\" valign=\"top\">2</th>\n",
       "      <th>0.0</th>\n",
       "      <th>1</th>\n",
       "      <td>-0.942099</td>\n",
       "      <td>0.000000</td>\n",
       "      <td>-0.942099</td>\n",
       "    </tr>\n",
       "    <tr>\n",
       "      <th>1013.0</th>\n",
       "      <th>76</th>\n",
       "      <td>-1.828155</td>\n",
       "      <td>1.815410</td>\n",
       "      <td>-0.012745</td>\n",
       "    </tr>\n",
       "    <tr>\n",
       "      <th rowspan=\"2\" valign=\"top\">3</th>\n",
       "      <th>0.0</th>\n",
       "      <th>1</th>\n",
       "      <td>-2.845553</td>\n",
       "      <td>0.000000</td>\n",
       "      <td>-2.845553</td>\n",
       "    </tr>\n",
       "    <tr>\n",
       "      <th>1013.0</th>\n",
       "      <th>76</th>\n",
       "      <td>-4.410593</td>\n",
       "      <td>4.379716</td>\n",
       "      <td>-0.030877</td>\n",
       "    </tr>\n",
       "    <tr>\n",
       "      <th rowspan=\"2\" valign=\"top\">4</th>\n",
       "      <th>0.0</th>\n",
       "      <th>1</th>\n",
       "      <td>-9.265412</td>\n",
       "      <td>0.000000</td>\n",
       "      <td>-9.265412</td>\n",
       "    </tr>\n",
       "    <tr>\n",
       "      <th>1013.0</th>\n",
       "      <th>76</th>\n",
       "      <td>-11.732848</td>\n",
       "      <td>11.523733</td>\n",
       "      <td>-0.209115</td>\n",
       "    </tr>\n",
       "    <tr>\n",
       "      <th rowspan=\"2\" valign=\"top\">5</th>\n",
       "      <th>0.0</th>\n",
       "      <th>1</th>\n",
       "      <td>-16.851252</td>\n",
       "      <td>0.000000</td>\n",
       "      <td>-16.851252</td>\n",
       "    </tr>\n",
       "    <tr>\n",
       "      <th>1013.0</th>\n",
       "      <th>76</th>\n",
       "      <td>-18.361580</td>\n",
       "      <td>12.316920</td>\n",
       "      <td>-6.044659</td>\n",
       "    </tr>\n",
       "    <tr>\n",
       "      <th rowspan=\"2\" valign=\"top\">6</th>\n",
       "      <th>0.0</th>\n",
       "      <th>1</th>\n",
       "      <td>-10.074196</td>\n",
       "      <td>0.000000</td>\n",
       "      <td>-10.074196</td>\n",
       "    </tr>\n",
       "    <tr>\n",
       "      <th>1013.0</th>\n",
       "      <th>76</th>\n",
       "      <td>-10.373566</td>\n",
       "      <td>2.923944</td>\n",
       "      <td>-7.449622</td>\n",
       "    </tr>\n",
       "  </tbody>\n",
       "</table>\n",
       "</div>"
      ],
      "text/plain": [
       "                       flug       fldg      fnetg\n",
       "g pressure level                                 \n",
       "1 0.0      1      -0.149481   0.000000  -0.149481\n",
       "  1013.0   76     -0.360807   0.358292  -0.002515\n",
       "2 0.0      1      -0.942099   0.000000  -0.942099\n",
       "  1013.0   76     -1.828155   1.815410  -0.012745\n",
       "3 0.0      1      -2.845553   0.000000  -2.845553\n",
       "  1013.0   76     -4.410593   4.379716  -0.030877\n",
       "4 0.0      1      -9.265412   0.000000  -9.265412\n",
       "  1013.0   76    -11.732848  11.523733  -0.209115\n",
       "5 0.0      1     -16.851252   0.000000 -16.851252\n",
       "  1013.0   76    -18.361580  12.316920  -6.044659\n",
       "6 0.0      1     -10.074196   0.000000 -10.074196\n",
       "  1013.0   76    -10.373566   2.923944  -7.449622"
      ]
     },
     "metadata": {},
     "output_type": "display_data"
    },
    {
     "name": "stdout",
     "output_type": "stream",
     "text": [
      "\n",
      "WGT_IGG1\n"
     ]
    },
    {
     "data": {
      "text/html": [
       "<div>\n",
       "<style>\n",
       "    .dataframe thead tr:only-child th {\n",
       "        text-align: right;\n",
       "    }\n",
       "\n",
       "    .dataframe thead th {\n",
       "        text-align: left;\n",
       "    }\n",
       "\n",
       "    .dataframe tbody tr th {\n",
       "        vertical-align: top;\n",
       "    }\n",
       "</style>\n",
       "<table border=\"1\" class=\"dataframe\">\n",
       "  <thead>\n",
       "    <tr style=\"text-align: right;\">\n",
       "      <th></th>\n",
       "      <th></th>\n",
       "      <th></th>\n",
       "      <th>flug</th>\n",
       "      <th>fldg</th>\n",
       "      <th>fnetg</th>\n",
       "    </tr>\n",
       "    <tr>\n",
       "      <th>g</th>\n",
       "      <th>pressure</th>\n",
       "      <th>level</th>\n",
       "      <th></th>\n",
       "      <th></th>\n",
       "      <th></th>\n",
       "    </tr>\n",
       "  </thead>\n",
       "  <tbody>\n",
       "    <tr>\n",
       "      <th rowspan=\"2\" valign=\"top\">1</th>\n",
       "      <th>0.0</th>\n",
       "      <th>1</th>\n",
       "      <td>-0.149724</td>\n",
       "      <td>0.000000</td>\n",
       "      <td>-0.149724</td>\n",
       "    </tr>\n",
       "    <tr>\n",
       "      <th>1013.0</th>\n",
       "      <th>76</th>\n",
       "      <td>-0.360807</td>\n",
       "      <td>0.358292</td>\n",
       "      <td>-0.002515</td>\n",
       "    </tr>\n",
       "    <tr>\n",
       "      <th rowspan=\"2\" valign=\"top\">2</th>\n",
       "      <th>0.0</th>\n",
       "      <th>1</th>\n",
       "      <td>-0.943817</td>\n",
       "      <td>0.000000</td>\n",
       "      <td>-0.943817</td>\n",
       "    </tr>\n",
       "    <tr>\n",
       "      <th>1013.0</th>\n",
       "      <th>76</th>\n",
       "      <td>-1.828155</td>\n",
       "      <td>1.815410</td>\n",
       "      <td>-0.012745</td>\n",
       "    </tr>\n",
       "    <tr>\n",
       "      <th rowspan=\"2\" valign=\"top\">3</th>\n",
       "      <th>0.0</th>\n",
       "      <th>1</th>\n",
       "      <td>-2.849415</td>\n",
       "      <td>0.000000</td>\n",
       "      <td>-2.849415</td>\n",
       "    </tr>\n",
       "    <tr>\n",
       "      <th>1013.0</th>\n",
       "      <th>76</th>\n",
       "      <td>-4.410593</td>\n",
       "      <td>4.379398</td>\n",
       "      <td>-0.031195</td>\n",
       "    </tr>\n",
       "    <tr>\n",
       "      <th rowspan=\"2\" valign=\"top\">4</th>\n",
       "      <th>0.0</th>\n",
       "      <th>1</th>\n",
       "      <td>-9.209336</td>\n",
       "      <td>0.000000</td>\n",
       "      <td>-9.209336</td>\n",
       "    </tr>\n",
       "    <tr>\n",
       "      <th>1013.0</th>\n",
       "      <th>76</th>\n",
       "      <td>-11.732848</td>\n",
       "      <td>11.506619</td>\n",
       "      <td>-0.226229</td>\n",
       "    </tr>\n",
       "    <tr>\n",
       "      <th rowspan=\"2\" valign=\"top\">5</th>\n",
       "      <th>0.0</th>\n",
       "      <th>1</th>\n",
       "      <td>-16.706017</td>\n",
       "      <td>0.000000</td>\n",
       "      <td>-16.706017</td>\n",
       "    </tr>\n",
       "    <tr>\n",
       "      <th>1013.0</th>\n",
       "      <th>76</th>\n",
       "      <td>-18.361580</td>\n",
       "      <td>12.566011</td>\n",
       "      <td>-5.795569</td>\n",
       "    </tr>\n",
       "    <tr>\n",
       "      <th rowspan=\"2\" valign=\"top\">6</th>\n",
       "      <th>0.0</th>\n",
       "      <th>1</th>\n",
       "      <td>-10.046449</td>\n",
       "      <td>0.000000</td>\n",
       "      <td>-10.046449</td>\n",
       "    </tr>\n",
       "    <tr>\n",
       "      <th>1013.0</th>\n",
       "      <th>76</th>\n",
       "      <td>-10.373566</td>\n",
       "      <td>3.056587</td>\n",
       "      <td>-7.316979</td>\n",
       "    </tr>\n",
       "  </tbody>\n",
       "</table>\n",
       "</div>"
      ],
      "text/plain": [
       "                       flug       fldg      fnetg\n",
       "g pressure level                                 \n",
       "1 0.0      1      -0.149724   0.000000  -0.149724\n",
       "  1013.0   76     -0.360807   0.358292  -0.002515\n",
       "2 0.0      1      -0.943817   0.000000  -0.943817\n",
       "  1013.0   76     -1.828155   1.815410  -0.012745\n",
       "3 0.0      1      -2.849415   0.000000  -2.849415\n",
       "  1013.0   76     -4.410593   4.379398  -0.031195\n",
       "4 0.0      1      -9.209336   0.000000  -9.209336\n",
       "  1013.0   76    -11.732848  11.506619  -0.226229\n",
       "5 0.0      1     -16.706017   0.000000 -16.706017\n",
       "  1013.0   76    -18.361580  12.566011  -5.795569\n",
       "6 0.0      1     -10.046449   0.000000 -10.046449\n",
       "  1013.0   76    -10.373566   3.056587  -7.316979"
      ]
     },
     "metadata": {},
     "output_type": "display_data"
    },
    {
     "name": "stdout",
     "output_type": "stream",
     "text": [
      "\n",
      "WGT_IGG10 - CRD\n"
     ]
    },
    {
     "data": {
      "text/html": [
       "<div>\n",
       "<style>\n",
       "    .dataframe thead tr:only-child th {\n",
       "        text-align: right;\n",
       "    }\n",
       "\n",
       "    .dataframe thead th {\n",
       "        text-align: left;\n",
       "    }\n",
       "\n",
       "    .dataframe tbody tr th {\n",
       "        vertical-align: top;\n",
       "    }\n",
       "</style>\n",
       "<table border=\"1\" class=\"dataframe\">\n",
       "  <thead>\n",
       "    <tr style=\"text-align: right;\">\n",
       "      <th></th>\n",
       "      <th></th>\n",
       "      <th></th>\n",
       "      <th>flug</th>\n",
       "      <th>fldg</th>\n",
       "      <th>fnetg</th>\n",
       "    </tr>\n",
       "    <tr>\n",
       "      <th>g</th>\n",
       "      <th>pressure</th>\n",
       "      <th>level</th>\n",
       "      <th></th>\n",
       "      <th></th>\n",
       "      <th></th>\n",
       "    </tr>\n",
       "  </thead>\n",
       "  <tbody>\n",
       "    <tr>\n",
       "      <th rowspan=\"2\" valign=\"top\">1</th>\n",
       "      <th>0.0</th>\n",
       "      <th>1</th>\n",
       "      <td>0.004976</td>\n",
       "      <td>0.000000</td>\n",
       "      <td>0.004976</td>\n",
       "    </tr>\n",
       "    <tr>\n",
       "      <th>1013.0</th>\n",
       "      <th>76</th>\n",
       "      <td>-0.006532</td>\n",
       "      <td>0.006420</td>\n",
       "      <td>-0.000112</td>\n",
       "    </tr>\n",
       "    <tr>\n",
       "      <th rowspan=\"2\" valign=\"top\">2</th>\n",
       "      <th>0.0</th>\n",
       "      <th>1</th>\n",
       "      <td>0.020795</td>\n",
       "      <td>0.000000</td>\n",
       "      <td>0.020795</td>\n",
       "    </tr>\n",
       "    <tr>\n",
       "      <th>1013.0</th>\n",
       "      <th>76</th>\n",
       "      <td>-0.009697</td>\n",
       "      <td>0.009531</td>\n",
       "      <td>-0.000166</td>\n",
       "    </tr>\n",
       "    <tr>\n",
       "      <th rowspan=\"2\" valign=\"top\">3</th>\n",
       "      <th>0.0</th>\n",
       "      <th>1</th>\n",
       "      <td>0.036450</td>\n",
       "      <td>0.000000</td>\n",
       "      <td>0.036450</td>\n",
       "    </tr>\n",
       "    <tr>\n",
       "      <th>1013.0</th>\n",
       "      <th>76</th>\n",
       "      <td>-0.024389</td>\n",
       "      <td>0.026209</td>\n",
       "      <td>0.001819</td>\n",
       "    </tr>\n",
       "    <tr>\n",
       "      <th rowspan=\"2\" valign=\"top\">4</th>\n",
       "      <th>0.0</th>\n",
       "      <th>1</th>\n",
       "      <td>-0.060086</td>\n",
       "      <td>0.000000</td>\n",
       "      <td>-0.060086</td>\n",
       "    </tr>\n",
       "    <tr>\n",
       "      <th>1013.0</th>\n",
       "      <th>76</th>\n",
       "      <td>-0.052912</td>\n",
       "      <td>0.198751</td>\n",
       "      <td>0.145839</td>\n",
       "    </tr>\n",
       "    <tr>\n",
       "      <th rowspan=\"2\" valign=\"top\">5</th>\n",
       "      <th>0.0</th>\n",
       "      <th>1</th>\n",
       "      <td>-0.261079</td>\n",
       "      <td>0.000000</td>\n",
       "      <td>-0.261079</td>\n",
       "    </tr>\n",
       "    <tr>\n",
       "      <th>1013.0</th>\n",
       "      <th>76</th>\n",
       "      <td>-0.056871</td>\n",
       "      <td>-0.193497</td>\n",
       "      <td>-0.250367</td>\n",
       "    </tr>\n",
       "    <tr>\n",
       "      <th rowspan=\"2\" valign=\"top\">6</th>\n",
       "      <th>0.0</th>\n",
       "      <th>1</th>\n",
       "      <td>0.104538</td>\n",
       "      <td>0.000000</td>\n",
       "      <td>0.104538</td>\n",
       "    </tr>\n",
       "    <tr>\n",
       "      <th>1013.0</th>\n",
       "      <th>76</th>\n",
       "      <td>0.150401</td>\n",
       "      <td>-0.221186</td>\n",
       "      <td>-0.070785</td>\n",
       "    </tr>\n",
       "  </tbody>\n",
       "</table>\n",
       "</div>"
      ],
      "text/plain": [
       "                      flug      fldg     fnetg\n",
       "g pressure level                              \n",
       "1 0.0      1      0.004976  0.000000  0.004976\n",
       "  1013.0   76    -0.006532  0.006420 -0.000112\n",
       "2 0.0      1      0.020795  0.000000  0.020795\n",
       "  1013.0   76    -0.009697  0.009531 -0.000166\n",
       "3 0.0      1      0.036450  0.000000  0.036450\n",
       "  1013.0   76    -0.024389  0.026209  0.001819\n",
       "4 0.0      1     -0.060086  0.000000 -0.060086\n",
       "  1013.0   76    -0.052912  0.198751  0.145839\n",
       "5 0.0      1     -0.261079  0.000000 -0.261079\n",
       "  1013.0   76    -0.056871 -0.193497 -0.250367\n",
       "6 0.0      1      0.104538  0.000000  0.104538\n",
       "  1013.0   76     0.150401 -0.221186 -0.070785"
      ]
     },
     "metadata": {},
     "output_type": "display_data"
    },
    {
     "name": "stdout",
     "output_type": "stream",
     "text": [
      "\n",
      "WGT_IGG1 - CRD\n"
     ]
    },
    {
     "data": {
      "text/html": [
       "<div>\n",
       "<style>\n",
       "    .dataframe thead tr:only-child th {\n",
       "        text-align: right;\n",
       "    }\n",
       "\n",
       "    .dataframe thead th {\n",
       "        text-align: left;\n",
       "    }\n",
       "\n",
       "    .dataframe tbody tr th {\n",
       "        vertical-align: top;\n",
       "    }\n",
       "</style>\n",
       "<table border=\"1\" class=\"dataframe\">\n",
       "  <thead>\n",
       "    <tr style=\"text-align: right;\">\n",
       "      <th></th>\n",
       "      <th></th>\n",
       "      <th></th>\n",
       "      <th>flug</th>\n",
       "      <th>fldg</th>\n",
       "      <th>fnetg</th>\n",
       "    </tr>\n",
       "    <tr>\n",
       "      <th>g</th>\n",
       "      <th>pressure</th>\n",
       "      <th>level</th>\n",
       "      <th></th>\n",
       "      <th></th>\n",
       "      <th></th>\n",
       "    </tr>\n",
       "  </thead>\n",
       "  <tbody>\n",
       "    <tr>\n",
       "      <th rowspan=\"2\" valign=\"top\">1</th>\n",
       "      <th>0.0</th>\n",
       "      <th>1</th>\n",
       "      <td>0.004733</td>\n",
       "      <td>0.000000</td>\n",
       "      <td>0.004733</td>\n",
       "    </tr>\n",
       "    <tr>\n",
       "      <th>1013.0</th>\n",
       "      <th>76</th>\n",
       "      <td>-0.006532</td>\n",
       "      <td>0.006420</td>\n",
       "      <td>-0.000112</td>\n",
       "    </tr>\n",
       "    <tr>\n",
       "      <th rowspan=\"2\" valign=\"top\">2</th>\n",
       "      <th>0.0</th>\n",
       "      <th>1</th>\n",
       "      <td>0.019076</td>\n",
       "      <td>0.000000</td>\n",
       "      <td>0.019076</td>\n",
       "    </tr>\n",
       "    <tr>\n",
       "      <th>1013.0</th>\n",
       "      <th>76</th>\n",
       "      <td>-0.009697</td>\n",
       "      <td>0.009531</td>\n",
       "      <td>-0.000166</td>\n",
       "    </tr>\n",
       "    <tr>\n",
       "      <th rowspan=\"2\" valign=\"top\">3</th>\n",
       "      <th>0.0</th>\n",
       "      <th>1</th>\n",
       "      <td>0.032589</td>\n",
       "      <td>0.000000</td>\n",
       "      <td>0.032589</td>\n",
       "    </tr>\n",
       "    <tr>\n",
       "      <th>1013.0</th>\n",
       "      <th>76</th>\n",
       "      <td>-0.024389</td>\n",
       "      <td>0.025890</td>\n",
       "      <td>0.001501</td>\n",
       "    </tr>\n",
       "    <tr>\n",
       "      <th rowspan=\"2\" valign=\"top\">4</th>\n",
       "      <th>0.0</th>\n",
       "      <th>1</th>\n",
       "      <td>-0.004010</td>\n",
       "      <td>0.000000</td>\n",
       "      <td>-0.004010</td>\n",
       "    </tr>\n",
       "    <tr>\n",
       "      <th>1013.0</th>\n",
       "      <th>76</th>\n",
       "      <td>-0.052912</td>\n",
       "      <td>0.181637</td>\n",
       "      <td>0.128724</td>\n",
       "    </tr>\n",
       "    <tr>\n",
       "      <th rowspan=\"2\" valign=\"top\">5</th>\n",
       "      <th>0.0</th>\n",
       "      <th>1</th>\n",
       "      <td>-0.115844</td>\n",
       "      <td>0.000000</td>\n",
       "      <td>-0.115844</td>\n",
       "    </tr>\n",
       "    <tr>\n",
       "      <th>1013.0</th>\n",
       "      <th>76</th>\n",
       "      <td>-0.056871</td>\n",
       "      <td>0.055594</td>\n",
       "      <td>-0.001277</td>\n",
       "    </tr>\n",
       "    <tr>\n",
       "      <th rowspan=\"2\" valign=\"top\">6</th>\n",
       "      <th>0.0</th>\n",
       "      <th>1</th>\n",
       "      <td>0.132285</td>\n",
       "      <td>0.000000</td>\n",
       "      <td>0.132285</td>\n",
       "    </tr>\n",
       "    <tr>\n",
       "      <th>1013.0</th>\n",
       "      <th>76</th>\n",
       "      <td>0.150401</td>\n",
       "      <td>-0.088542</td>\n",
       "      <td>0.061859</td>\n",
       "    </tr>\n",
       "  </tbody>\n",
       "</table>\n",
       "</div>"
      ],
      "text/plain": [
       "                      flug      fldg     fnetg\n",
       "g pressure level                              \n",
       "1 0.0      1      0.004733  0.000000  0.004733\n",
       "  1013.0   76    -0.006532  0.006420 -0.000112\n",
       "2 0.0      1      0.019076  0.000000  0.019076\n",
       "  1013.0   76    -0.009697  0.009531 -0.000166\n",
       "3 0.0      1      0.032589  0.000000  0.032589\n",
       "  1013.0   76    -0.024389  0.025890  0.001501\n",
       "4 0.0      1     -0.004010  0.000000 -0.004010\n",
       "  1013.0   76    -0.052912  0.181637  0.128724\n",
       "5 0.0      1     -0.115844  0.000000 -0.115844\n",
       "  1013.0   76    -0.056871  0.055594 -0.001277\n",
       "6 0.0      1      0.132285  0.000000  0.132285\n",
       "  1013.0   76     0.150401 -0.088542  0.061859"
      ]
     },
     "metadata": {},
     "output_type": "display_data"
    },
    {
     "data": {
      "text/html": [
       "<a id=\"Table:_cooling_rate._g-groups\"></a>"
      ],
      "text/plain": [
       "<IPython.core.display.HTML object>"
      ]
     },
     "metadata": {},
     "output_type": "display_data"
    },
    {
     "data": {
      "text/markdown": [
       "# Table: cooling rate. g-groups "
      ],
      "text/plain": [
       "<IPython.core.display.Markdown object>"
      ]
     },
     "metadata": {},
     "output_type": "display_data"
    },
    {
     "name": "stdout",
     "output_type": "stream",
     "text": [
      "\n",
      "CRD\n"
     ]
    },
    {
     "data": {
      "text/html": [
       "<div>\n",
       "<style>\n",
       "    .dataframe thead tr:only-child th {\n",
       "        text-align: right;\n",
       "    }\n",
       "\n",
       "    .dataframe thead th {\n",
       "        text-align: left;\n",
       "    }\n",
       "\n",
       "    .dataframe tbody tr th {\n",
       "        vertical-align: top;\n",
       "    }\n",
       "</style>\n",
       "<table border=\"1\" class=\"dataframe\">\n",
       "  <thead>\n",
       "    <tr style=\"text-align: right;\">\n",
       "      <th></th>\n",
       "      <th></th>\n",
       "      <th></th>\n",
       "      <th>coolrg</th>\n",
       "    </tr>\n",
       "    <tr>\n",
       "      <th>g</th>\n",
       "      <th>pressure</th>\n",
       "      <th>layer</th>\n",
       "      <th></th>\n",
       "    </tr>\n",
       "  </thead>\n",
       "  <tbody>\n",
       "    <tr>\n",
       "      <th rowspan=\"2\" valign=\"top\">1</th>\n",
       "      <th>0.000312</th>\n",
       "      <th>1</th>\n",
       "      <td>1.095071e-04</td>\n",
       "    </tr>\n",
       "    <tr>\n",
       "      <th>1001.112500</th>\n",
       "      <th>75</th>\n",
       "      <td>8.628164e-04</td>\n",
       "    </tr>\n",
       "    <tr>\n",
       "      <th rowspan=\"2\" valign=\"top\">2</th>\n",
       "      <th>0.000312</th>\n",
       "      <th>1</th>\n",
       "      <td>1.890761e-05</td>\n",
       "    </tr>\n",
       "    <tr>\n",
       "      <th>1001.112500</th>\n",
       "      <th>75</th>\n",
       "      <td>4.513910e-03</td>\n",
       "    </tr>\n",
       "    <tr>\n",
       "      <th rowspan=\"2\" valign=\"top\">3</th>\n",
       "      <th>0.000312</th>\n",
       "      <th>1</th>\n",
       "      <td>-6.722944e-07</td>\n",
       "    </tr>\n",
       "    <tr>\n",
       "      <th>1001.112500</th>\n",
       "      <th>75</th>\n",
       "      <td>1.145179e-02</td>\n",
       "    </tr>\n",
       "    <tr>\n",
       "      <th rowspan=\"2\" valign=\"top\">4</th>\n",
       "      <th>0.000312</th>\n",
       "      <th>1</th>\n",
       "      <td>-1.745001e-06</td>\n",
       "    </tr>\n",
       "    <tr>\n",
       "      <th>1001.112500</th>\n",
       "      <th>75</th>\n",
       "      <td>6.511654e-02</td>\n",
       "    </tr>\n",
       "    <tr>\n",
       "      <th rowspan=\"2\" valign=\"top\">5</th>\n",
       "      <th>0.000312</th>\n",
       "      <th>1</th>\n",
       "      <td>-6.901805e-07</td>\n",
       "    </tr>\n",
       "    <tr>\n",
       "      <th>1001.112500</th>\n",
       "      <th>75</th>\n",
       "      <td>2.829902e-01</td>\n",
       "    </tr>\n",
       "    <tr>\n",
       "      <th rowspan=\"2\" valign=\"top\">6</th>\n",
       "      <th>0.000312</th>\n",
       "      <th>1</th>\n",
       "      <td>-4.546286e-08</td>\n",
       "    </tr>\n",
       "    <tr>\n",
       "      <th>1001.112500</th>\n",
       "      <th>75</th>\n",
       "      <td>1.201847e-01</td>\n",
       "    </tr>\n",
       "  </tbody>\n",
       "</table>\n",
       "</div>"
      ],
      "text/plain": [
       "                           coolrg\n",
       "g pressure    layer              \n",
       "1 0.000312    1      1.095071e-04\n",
       "  1001.112500 75     8.628164e-04\n",
       "2 0.000312    1      1.890761e-05\n",
       "  1001.112500 75     4.513910e-03\n",
       "3 0.000312    1     -6.722944e-07\n",
       "  1001.112500 75     1.145179e-02\n",
       "4 0.000312    1     -1.745001e-06\n",
       "  1001.112500 75     6.511654e-02\n",
       "5 0.000312    1     -6.901805e-07\n",
       "  1001.112500 75     2.829902e-01\n",
       "6 0.000312    1     -4.546286e-08\n",
       "  1001.112500 75     1.201847e-01"
      ]
     },
     "metadata": {},
     "output_type": "display_data"
    },
    {
     "name": "stdout",
     "output_type": "stream",
     "text": [
      "\n",
      "WGT_IGG10\n"
     ]
    },
    {
     "data": {
      "text/html": [
       "<div>\n",
       "<style>\n",
       "    .dataframe thead tr:only-child th {\n",
       "        text-align: right;\n",
       "    }\n",
       "\n",
       "    .dataframe thead th {\n",
       "        text-align: left;\n",
       "    }\n",
       "\n",
       "    .dataframe tbody tr th {\n",
       "        vertical-align: top;\n",
       "    }\n",
       "</style>\n",
       "<table border=\"1\" class=\"dataframe\">\n",
       "  <thead>\n",
       "    <tr style=\"text-align: right;\">\n",
       "      <th></th>\n",
       "      <th></th>\n",
       "      <th></th>\n",
       "      <th>coolrg</th>\n",
       "    </tr>\n",
       "    <tr>\n",
       "      <th>g</th>\n",
       "      <th>pressure</th>\n",
       "      <th>layer</th>\n",
       "      <th></th>\n",
       "    </tr>\n",
       "  </thead>\n",
       "  <tbody>\n",
       "    <tr>\n",
       "      <th rowspan=\"2\" valign=\"top\">1</th>\n",
       "      <th>0.000312</th>\n",
       "      <th>1</th>\n",
       "      <td>9.240936e-05</td>\n",
       "    </tr>\n",
       "    <tr>\n",
       "      <th>1001.112500</th>\n",
       "      <th>75</th>\n",
       "      <td>9.024816e-04</td>\n",
       "    </tr>\n",
       "    <tr>\n",
       "      <th rowspan=\"2\" valign=\"top\">2</th>\n",
       "      <th>0.000312</th>\n",
       "      <th>1</th>\n",
       "      <td>-6.271837e-06</td>\n",
       "    </tr>\n",
       "    <tr>\n",
       "      <th>1001.112500</th>\n",
       "      <th>75</th>\n",
       "      <td>4.572737e-03</td>\n",
       "    </tr>\n",
       "    <tr>\n",
       "      <th rowspan=\"2\" valign=\"top\">3</th>\n",
       "      <th>0.000312</th>\n",
       "      <th>1</th>\n",
       "      <td>-6.633279e-06</td>\n",
       "    </tr>\n",
       "    <tr>\n",
       "      <th>1001.112500</th>\n",
       "      <th>75</th>\n",
       "      <td>1.109007e-02</td>\n",
       "    </tr>\n",
       "    <tr>\n",
       "      <th rowspan=\"2\" valign=\"top\">4</th>\n",
       "      <th>0.000312</th>\n",
       "      <th>1</th>\n",
       "      <td>-1.030852e-06</td>\n",
       "    </tr>\n",
       "    <tr>\n",
       "      <th>1001.112500</th>\n",
       "      <th>75</th>\n",
       "      <td>5.185398e-02</td>\n",
       "    </tr>\n",
       "    <tr>\n",
       "      <th rowspan=\"2\" valign=\"top\">5</th>\n",
       "      <th>0.000312</th>\n",
       "      <th>1</th>\n",
       "      <td>-3.827238e-07</td>\n",
       "    </tr>\n",
       "    <tr>\n",
       "      <th>1001.112500</th>\n",
       "      <th>75</th>\n",
       "      <td>3.466212e-01</td>\n",
       "    </tr>\n",
       "    <tr>\n",
       "      <th rowspan=\"2\" valign=\"top\">6</th>\n",
       "      <th>0.000312</th>\n",
       "      <th>1</th>\n",
       "      <td>-3.271021e-08</td>\n",
       "    </tr>\n",
       "    <tr>\n",
       "      <th>1001.112500</th>\n",
       "      <th>75</th>\n",
       "      <td>1.219481e-01</td>\n",
       "    </tr>\n",
       "  </tbody>\n",
       "</table>\n",
       "</div>"
      ],
      "text/plain": [
       "                           coolrg\n",
       "g pressure    layer              \n",
       "1 0.000312    1      9.240936e-05\n",
       "  1001.112500 75     9.024816e-04\n",
       "2 0.000312    1     -6.271837e-06\n",
       "  1001.112500 75     4.572737e-03\n",
       "3 0.000312    1     -6.633279e-06\n",
       "  1001.112500 75     1.109007e-02\n",
       "4 0.000312    1     -1.030852e-06\n",
       "  1001.112500 75     5.185398e-02\n",
       "5 0.000312    1     -3.827238e-07\n",
       "  1001.112500 75     3.466212e-01\n",
       "6 0.000312    1     -3.271021e-08\n",
       "  1001.112500 75     1.219481e-01"
      ]
     },
     "metadata": {},
     "output_type": "display_data"
    },
    {
     "name": "stdout",
     "output_type": "stream",
     "text": [
      "\n",
      "WGT_IGG1\n"
     ]
    },
    {
     "data": {
      "text/html": [
       "<div>\n",
       "<style>\n",
       "    .dataframe thead tr:only-child th {\n",
       "        text-align: right;\n",
       "    }\n",
       "\n",
       "    .dataframe thead th {\n",
       "        text-align: left;\n",
       "    }\n",
       "\n",
       "    .dataframe tbody tr th {\n",
       "        vertical-align: top;\n",
       "    }\n",
       "</style>\n",
       "<table border=\"1\" class=\"dataframe\">\n",
       "  <thead>\n",
       "    <tr style=\"text-align: right;\">\n",
       "      <th></th>\n",
       "      <th></th>\n",
       "      <th></th>\n",
       "      <th>coolrg</th>\n",
       "    </tr>\n",
       "    <tr>\n",
       "      <th>g</th>\n",
       "      <th>pressure</th>\n",
       "      <th>layer</th>\n",
       "      <th></th>\n",
       "    </tr>\n",
       "  </thead>\n",
       "  <tbody>\n",
       "    <tr>\n",
       "      <th rowspan=\"2\" valign=\"top\">1</th>\n",
       "      <th>0.000312</th>\n",
       "      <th>1</th>\n",
       "      <td>1.338759e-04</td>\n",
       "    </tr>\n",
       "    <tr>\n",
       "      <th>1001.112500</th>\n",
       "      <th>75</th>\n",
       "      <td>9.024816e-04</td>\n",
       "    </tr>\n",
       "    <tr>\n",
       "      <th rowspan=\"2\" valign=\"top\">2</th>\n",
       "      <th>0.000312</th>\n",
       "      <th>1</th>\n",
       "      <td>-1.582584e-07</td>\n",
       "    </tr>\n",
       "    <tr>\n",
       "      <th>1001.112500</th>\n",
       "      <th>75</th>\n",
       "      <td>4.572737e-03</td>\n",
       "    </tr>\n",
       "    <tr>\n",
       "      <th rowspan=\"2\" valign=\"top\">3</th>\n",
       "      <th>0.000312</th>\n",
       "      <th>1</th>\n",
       "      <td>-6.518313e-06</td>\n",
       "    </tr>\n",
       "    <tr>\n",
       "      <th>1001.112500</th>\n",
       "      <th>75</th>\n",
       "      <td>1.118987e-02</td>\n",
       "    </tr>\n",
       "    <tr>\n",
       "      <th rowspan=\"2\" valign=\"top\">4</th>\n",
       "      <th>0.000312</th>\n",
       "      <th>1</th>\n",
       "      <td>-1.160348e-06</td>\n",
       "    </tr>\n",
       "    <tr>\n",
       "      <th>1001.112500</th>\n",
       "      <th>75</th>\n",
       "      <td>5.715981e-02</td>\n",
       "    </tr>\n",
       "    <tr>\n",
       "      <th rowspan=\"2\" valign=\"top\">5</th>\n",
       "      <th>0.000312</th>\n",
       "      <th>1</th>\n",
       "      <td>-4.591437e-07</td>\n",
       "    </tr>\n",
       "    <tr>\n",
       "      <th>1001.112500</th>\n",
       "      <th>75</th>\n",
       "      <td>3.164237e-01</td>\n",
       "    </tr>\n",
       "    <tr>\n",
       "      <th rowspan=\"2\" valign=\"top\">6</th>\n",
       "      <th>0.000312</th>\n",
       "      <th>1</th>\n",
       "      <td>-3.729732e-08</td>\n",
       "    </tr>\n",
       "    <tr>\n",
       "      <th>1001.112500</th>\n",
       "      <th>75</th>\n",
       "      <td>1.188095e-01</td>\n",
       "    </tr>\n",
       "  </tbody>\n",
       "</table>\n",
       "</div>"
      ],
      "text/plain": [
       "                           coolrg\n",
       "g pressure    layer              \n",
       "1 0.000312    1      1.338759e-04\n",
       "  1001.112500 75     9.024816e-04\n",
       "2 0.000312    1     -1.582584e-07\n",
       "  1001.112500 75     4.572737e-03\n",
       "3 0.000312    1     -6.518313e-06\n",
       "  1001.112500 75     1.118987e-02\n",
       "4 0.000312    1     -1.160348e-06\n",
       "  1001.112500 75     5.715981e-02\n",
       "5 0.000312    1     -4.591437e-07\n",
       "  1001.112500 75     3.164237e-01\n",
       "6 0.000312    1     -3.729732e-08\n",
       "  1001.112500 75     1.188095e-01"
      ]
     },
     "metadata": {},
     "output_type": "display_data"
    },
    {
     "name": "stdout",
     "output_type": "stream",
     "text": [
      "\n",
      "WGT_IGG10 - CRD\n"
     ]
    },
    {
     "data": {
      "text/html": [
       "<div>\n",
       "<style>\n",
       "    .dataframe thead tr:only-child th {\n",
       "        text-align: right;\n",
       "    }\n",
       "\n",
       "    .dataframe thead th {\n",
       "        text-align: left;\n",
       "    }\n",
       "\n",
       "    .dataframe tbody tr th {\n",
       "        vertical-align: top;\n",
       "    }\n",
       "</style>\n",
       "<table border=\"1\" class=\"dataframe\">\n",
       "  <thead>\n",
       "    <tr style=\"text-align: right;\">\n",
       "      <th></th>\n",
       "      <th></th>\n",
       "      <th></th>\n",
       "      <th>coolrg</th>\n",
       "    </tr>\n",
       "    <tr>\n",
       "      <th>g</th>\n",
       "      <th>pressure</th>\n",
       "      <th>layer</th>\n",
       "      <th></th>\n",
       "    </tr>\n",
       "  </thead>\n",
       "  <tbody>\n",
       "    <tr>\n",
       "      <th rowspan=\"2\" valign=\"top\">1</th>\n",
       "      <th>0.000312</th>\n",
       "      <th>1</th>\n",
       "      <td>-1.709771e-05</td>\n",
       "    </tr>\n",
       "    <tr>\n",
       "      <th>1001.112500</th>\n",
       "      <th>75</th>\n",
       "      <td>3.966522e-05</td>\n",
       "    </tr>\n",
       "    <tr>\n",
       "      <th rowspan=\"2\" valign=\"top\">2</th>\n",
       "      <th>0.000312</th>\n",
       "      <th>1</th>\n",
       "      <td>-2.517945e-05</td>\n",
       "    </tr>\n",
       "    <tr>\n",
       "      <th>1001.112500</th>\n",
       "      <th>75</th>\n",
       "      <td>5.882690e-05</td>\n",
       "    </tr>\n",
       "    <tr>\n",
       "      <th rowspan=\"2\" valign=\"top\">3</th>\n",
       "      <th>0.000312</th>\n",
       "      <th>1</th>\n",
       "      <td>-5.960985e-06</td>\n",
       "    </tr>\n",
       "    <tr>\n",
       "      <th>1001.112500</th>\n",
       "      <th>75</th>\n",
       "      <td>-3.617160e-04</td>\n",
       "    </tr>\n",
       "    <tr>\n",
       "      <th rowspan=\"2\" valign=\"top\">4</th>\n",
       "      <th>0.000312</th>\n",
       "      <th>1</th>\n",
       "      <td>7.141488e-07</td>\n",
       "    </tr>\n",
       "    <tr>\n",
       "      <th>1001.112500</th>\n",
       "      <th>75</th>\n",
       "      <td>-1.326257e-02</td>\n",
       "    </tr>\n",
       "    <tr>\n",
       "      <th rowspan=\"2\" valign=\"top\">5</th>\n",
       "      <th>0.000312</th>\n",
       "      <th>1</th>\n",
       "      <td>3.074567e-07</td>\n",
       "    </tr>\n",
       "    <tr>\n",
       "      <th>1001.112500</th>\n",
       "      <th>75</th>\n",
       "      <td>6.363101e-02</td>\n",
       "    </tr>\n",
       "    <tr>\n",
       "      <th rowspan=\"2\" valign=\"top\">6</th>\n",
       "      <th>0.000312</th>\n",
       "      <th>1</th>\n",
       "      <td>1.275266e-08</td>\n",
       "    </tr>\n",
       "    <tr>\n",
       "      <th>1001.112500</th>\n",
       "      <th>75</th>\n",
       "      <td>1.763370e-03</td>\n",
       "    </tr>\n",
       "  </tbody>\n",
       "</table>\n",
       "</div>"
      ],
      "text/plain": [
       "                           coolrg\n",
       "g pressure    layer              \n",
       "1 0.000312    1     -1.709771e-05\n",
       "  1001.112500 75     3.966522e-05\n",
       "2 0.000312    1     -2.517945e-05\n",
       "  1001.112500 75     5.882690e-05\n",
       "3 0.000312    1     -5.960985e-06\n",
       "  1001.112500 75    -3.617160e-04\n",
       "4 0.000312    1      7.141488e-07\n",
       "  1001.112500 75    -1.326257e-02\n",
       "5 0.000312    1      3.074567e-07\n",
       "  1001.112500 75     6.363101e-02\n",
       "6 0.000312    1      1.275266e-08\n",
       "  1001.112500 75     1.763370e-03"
      ]
     },
     "metadata": {},
     "output_type": "display_data"
    },
    {
     "name": "stdout",
     "output_type": "stream",
     "text": [
      "\n",
      "WGT_IGG1 - CRD\n"
     ]
    },
    {
     "data": {
      "text/html": [
       "<div>\n",
       "<style>\n",
       "    .dataframe thead tr:only-child th {\n",
       "        text-align: right;\n",
       "    }\n",
       "\n",
       "    .dataframe thead th {\n",
       "        text-align: left;\n",
       "    }\n",
       "\n",
       "    .dataframe tbody tr th {\n",
       "        vertical-align: top;\n",
       "    }\n",
       "</style>\n",
       "<table border=\"1\" class=\"dataframe\">\n",
       "  <thead>\n",
       "    <tr style=\"text-align: right;\">\n",
       "      <th></th>\n",
       "      <th></th>\n",
       "      <th></th>\n",
       "      <th>coolrg</th>\n",
       "    </tr>\n",
       "    <tr>\n",
       "      <th>g</th>\n",
       "      <th>pressure</th>\n",
       "      <th>layer</th>\n",
       "      <th></th>\n",
       "    </tr>\n",
       "  </thead>\n",
       "  <tbody>\n",
       "    <tr>\n",
       "      <th rowspan=\"2\" valign=\"top\">1</th>\n",
       "      <th>0.000312</th>\n",
       "      <th>1</th>\n",
       "      <td>2.436880e-05</td>\n",
       "    </tr>\n",
       "    <tr>\n",
       "      <th>1001.112500</th>\n",
       "      <th>75</th>\n",
       "      <td>3.966522e-05</td>\n",
       "    </tr>\n",
       "    <tr>\n",
       "      <th rowspan=\"2\" valign=\"top\">2</th>\n",
       "      <th>0.000312</th>\n",
       "      <th>1</th>\n",
       "      <td>-1.906587e-05</td>\n",
       "    </tr>\n",
       "    <tr>\n",
       "      <th>1001.112500</th>\n",
       "      <th>75</th>\n",
       "      <td>5.882690e-05</td>\n",
       "    </tr>\n",
       "    <tr>\n",
       "      <th rowspan=\"2\" valign=\"top\">3</th>\n",
       "      <th>0.000312</th>\n",
       "      <th>1</th>\n",
       "      <td>-5.846019e-06</td>\n",
       "    </tr>\n",
       "    <tr>\n",
       "      <th>1001.112500</th>\n",
       "      <th>75</th>\n",
       "      <td>-2.619230e-04</td>\n",
       "    </tr>\n",
       "    <tr>\n",
       "      <th rowspan=\"2\" valign=\"top\">4</th>\n",
       "      <th>0.000312</th>\n",
       "      <th>1</th>\n",
       "      <td>5.846529e-07</td>\n",
       "    </tr>\n",
       "    <tr>\n",
       "      <th>1001.112500</th>\n",
       "      <th>75</th>\n",
       "      <td>-7.956730e-03</td>\n",
       "    </tr>\n",
       "    <tr>\n",
       "      <th rowspan=\"2\" valign=\"top\">5</th>\n",
       "      <th>0.000312</th>\n",
       "      <th>1</th>\n",
       "      <td>2.310368e-07</td>\n",
       "    </tr>\n",
       "    <tr>\n",
       "      <th>1001.112500</th>\n",
       "      <th>75</th>\n",
       "      <td>3.343351e-02</td>\n",
       "    </tr>\n",
       "    <tr>\n",
       "      <th rowspan=\"2\" valign=\"top\">6</th>\n",
       "      <th>0.000312</th>\n",
       "      <th>1</th>\n",
       "      <td>8.165543e-09</td>\n",
       "    </tr>\n",
       "    <tr>\n",
       "      <th>1001.112500</th>\n",
       "      <th>75</th>\n",
       "      <td>-1.375230e-03</td>\n",
       "    </tr>\n",
       "  </tbody>\n",
       "</table>\n",
       "</div>"
      ],
      "text/plain": [
       "                           coolrg\n",
       "g pressure    layer              \n",
       "1 0.000312    1      2.436880e-05\n",
       "  1001.112500 75     3.966522e-05\n",
       "2 0.000312    1     -1.906587e-05\n",
       "  1001.112500 75     5.882690e-05\n",
       "3 0.000312    1     -5.846019e-06\n",
       "  1001.112500 75    -2.619230e-04\n",
       "4 0.000312    1      5.846529e-07\n",
       "  1001.112500 75    -7.956730e-03\n",
       "5 0.000312    1      2.310368e-07\n",
       "  1001.112500 75     3.343351e-02\n",
       "6 0.000312    1      8.165543e-09\n",
       "  1001.112500 75    -1.375230e-03"
      ]
     },
     "metadata": {},
     "output_type": "display_data"
    },
    {
     "data": {
      "text/html": [
       "<a id=\"Table:_flux._g-groups_total\"></a>"
      ],
      "text/plain": [
       "<IPython.core.display.HTML object>"
      ]
     },
     "metadata": {},
     "output_type": "display_data"
    },
    {
     "data": {
      "text/markdown": [
       "# Table: flux. g-groups total"
      ],
      "text/plain": [
       "<IPython.core.display.Markdown object>"
      ]
     },
     "metadata": {},
     "output_type": "display_data"
    },
    {
     "name": "stdout",
     "output_type": "stream",
     "text": [
      "\n",
      "CRD\n"
     ]
    },
    {
     "data": {
      "text/html": [
       "<div>\n",
       "<style>\n",
       "    .dataframe thead tr:only-child th {\n",
       "        text-align: right;\n",
       "    }\n",
       "\n",
       "    .dataframe thead th {\n",
       "        text-align: left;\n",
       "    }\n",
       "\n",
       "    .dataframe tbody tr th {\n",
       "        vertical-align: top;\n",
       "    }\n",
       "</style>\n",
       "<table border=\"1\" class=\"dataframe\">\n",
       "  <thead>\n",
       "    <tr style=\"text-align: right;\">\n",
       "      <th></th>\n",
       "      <th></th>\n",
       "      <th>flug</th>\n",
       "      <th>fldg</th>\n",
       "      <th>fnetg</th>\n",
       "    </tr>\n",
       "    <tr>\n",
       "      <th>pressure</th>\n",
       "      <th>level</th>\n",
       "      <th></th>\n",
       "      <th></th>\n",
       "      <th></th>\n",
       "    </tr>\n",
       "  </thead>\n",
       "  <tbody>\n",
       "    <tr>\n",
       "      <th>0.0</th>\n",
       "      <th>1</th>\n",
       "      <td>-39.973586</td>\n",
       "      <td>0.000000</td>\n",
       "      <td>-39.973586</td>\n",
       "    </tr>\n",
       "    <tr>\n",
       "      <th>1013.0</th>\n",
       "      <th>76</th>\n",
       "      <td>-47.067549</td>\n",
       "      <td>33.491787</td>\n",
       "      <td>-13.575762</td>\n",
       "    </tr>\n",
       "  </tbody>\n",
       "</table>\n",
       "</div>"
      ],
      "text/plain": [
       "                     flug       fldg      fnetg\n",
       "pressure level                                 \n",
       "0.0      1     -39.973586   0.000000 -39.973586\n",
       "1013.0   76    -47.067549  33.491787 -13.575762"
      ]
     },
     "metadata": {},
     "output_type": "display_data"
    },
    {
     "name": "stdout",
     "output_type": "stream",
     "text": [
      "\n",
      "WGT_IGG10\n"
     ]
    },
    {
     "data": {
      "text/html": [
       "<div>\n",
       "<style>\n",
       "    .dataframe thead tr:only-child th {\n",
       "        text-align: right;\n",
       "    }\n",
       "\n",
       "    .dataframe thead th {\n",
       "        text-align: left;\n",
       "    }\n",
       "\n",
       "    .dataframe tbody tr th {\n",
       "        vertical-align: top;\n",
       "    }\n",
       "</style>\n",
       "<table border=\"1\" class=\"dataframe\">\n",
       "  <thead>\n",
       "    <tr style=\"text-align: right;\">\n",
       "      <th></th>\n",
       "      <th></th>\n",
       "      <th>flug</th>\n",
       "      <th>fldg</th>\n",
       "      <th>fnetg</th>\n",
       "    </tr>\n",
       "    <tr>\n",
       "      <th>pressure</th>\n",
       "      <th>level</th>\n",
       "      <th></th>\n",
       "      <th></th>\n",
       "      <th></th>\n",
       "    </tr>\n",
       "  </thead>\n",
       "  <tbody>\n",
       "    <tr>\n",
       "      <th>0.0</th>\n",
       "      <th>1</th>\n",
       "      <td>-40.127992</td>\n",
       "      <td>0.000000</td>\n",
       "      <td>-40.127992</td>\n",
       "    </tr>\n",
       "    <tr>\n",
       "      <th>1013.0</th>\n",
       "      <th>76</th>\n",
       "      <td>-47.067549</td>\n",
       "      <td>33.318015</td>\n",
       "      <td>-13.749534</td>\n",
       "    </tr>\n",
       "  </tbody>\n",
       "</table>\n",
       "</div>"
      ],
      "text/plain": [
       "                     flug       fldg      fnetg\n",
       "pressure level                                 \n",
       "0.0      1     -40.127992   0.000000 -40.127992\n",
       "1013.0   76    -47.067549  33.318015 -13.749534"
      ]
     },
     "metadata": {},
     "output_type": "display_data"
    },
    {
     "name": "stdout",
     "output_type": "stream",
     "text": [
      "\n",
      "WGT_IGG1\n"
     ]
    },
    {
     "data": {
      "text/html": [
       "<div>\n",
       "<style>\n",
       "    .dataframe thead tr:only-child th {\n",
       "        text-align: right;\n",
       "    }\n",
       "\n",
       "    .dataframe thead th {\n",
       "        text-align: left;\n",
       "    }\n",
       "\n",
       "    .dataframe tbody tr th {\n",
       "        vertical-align: top;\n",
       "    }\n",
       "</style>\n",
       "<table border=\"1\" class=\"dataframe\">\n",
       "  <thead>\n",
       "    <tr style=\"text-align: right;\">\n",
       "      <th></th>\n",
       "      <th></th>\n",
       "      <th>flug</th>\n",
       "      <th>fldg</th>\n",
       "      <th>fnetg</th>\n",
       "    </tr>\n",
       "    <tr>\n",
       "      <th>pressure</th>\n",
       "      <th>level</th>\n",
       "      <th></th>\n",
       "      <th></th>\n",
       "      <th></th>\n",
       "    </tr>\n",
       "  </thead>\n",
       "  <tbody>\n",
       "    <tr>\n",
       "      <th>0.0</th>\n",
       "      <th>1</th>\n",
       "      <td>-39.904757</td>\n",
       "      <td>0.000000</td>\n",
       "      <td>-39.904757</td>\n",
       "    </tr>\n",
       "    <tr>\n",
       "      <th>1013.0</th>\n",
       "      <th>76</th>\n",
       "      <td>-47.067549</td>\n",
       "      <td>33.682317</td>\n",
       "      <td>-13.385232</td>\n",
       "    </tr>\n",
       "  </tbody>\n",
       "</table>\n",
       "</div>"
      ],
      "text/plain": [
       "                     flug       fldg      fnetg\n",
       "pressure level                                 \n",
       "0.0      1     -39.904757   0.000000 -39.904757\n",
       "1013.0   76    -47.067549  33.682317 -13.385232"
      ]
     },
     "metadata": {},
     "output_type": "display_data"
    },
    {
     "name": "stdout",
     "output_type": "stream",
     "text": [
      "\n",
      "WGT_IGG10 - CRD\n"
     ]
    },
    {
     "data": {
      "text/html": [
       "<div>\n",
       "<style>\n",
       "    .dataframe thead tr:only-child th {\n",
       "        text-align: right;\n",
       "    }\n",
       "\n",
       "    .dataframe thead th {\n",
       "        text-align: left;\n",
       "    }\n",
       "\n",
       "    .dataframe tbody tr th {\n",
       "        vertical-align: top;\n",
       "    }\n",
       "</style>\n",
       "<table border=\"1\" class=\"dataframe\">\n",
       "  <thead>\n",
       "    <tr style=\"text-align: right;\">\n",
       "      <th></th>\n",
       "      <th></th>\n",
       "      <th>flug</th>\n",
       "      <th>fldg</th>\n",
       "      <th>fnetg</th>\n",
       "    </tr>\n",
       "    <tr>\n",
       "      <th>pressure</th>\n",
       "      <th>level</th>\n",
       "      <th></th>\n",
       "      <th></th>\n",
       "      <th></th>\n",
       "    </tr>\n",
       "  </thead>\n",
       "  <tbody>\n",
       "    <tr>\n",
       "      <th>0.0</th>\n",
       "      <th>1</th>\n",
       "      <td>-1.544060e-01</td>\n",
       "      <td>0.000000</td>\n",
       "      <td>-0.154406</td>\n",
       "    </tr>\n",
       "    <tr>\n",
       "      <th>1013.0</th>\n",
       "      <th>76</th>\n",
       "      <td>1.999999e-08</td>\n",
       "      <td>-0.173773</td>\n",
       "      <td>-0.173772</td>\n",
       "    </tr>\n",
       "  </tbody>\n",
       "</table>\n",
       "</div>"
      ],
      "text/plain": [
       "                        flug      fldg     fnetg\n",
       "pressure level                                  \n",
       "0.0      1     -1.544060e-01  0.000000 -0.154406\n",
       "1013.0   76     1.999999e-08 -0.173773 -0.173772"
      ]
     },
     "metadata": {},
     "output_type": "display_data"
    },
    {
     "name": "stdout",
     "output_type": "stream",
     "text": [
      "\n",
      "WGT_IGG1 - CRD\n"
     ]
    },
    {
     "data": {
      "text/html": [
       "<div>\n",
       "<style>\n",
       "    .dataframe thead tr:only-child th {\n",
       "        text-align: right;\n",
       "    }\n",
       "\n",
       "    .dataframe thead th {\n",
       "        text-align: left;\n",
       "    }\n",
       "\n",
       "    .dataframe tbody tr th {\n",
       "        vertical-align: top;\n",
       "    }\n",
       "</style>\n",
       "<table border=\"1\" class=\"dataframe\">\n",
       "  <thead>\n",
       "    <tr style=\"text-align: right;\">\n",
       "      <th></th>\n",
       "      <th></th>\n",
       "      <th>flug</th>\n",
       "      <th>fldg</th>\n",
       "      <th>fnetg</th>\n",
       "    </tr>\n",
       "    <tr>\n",
       "      <th>pressure</th>\n",
       "      <th>level</th>\n",
       "      <th></th>\n",
       "      <th></th>\n",
       "      <th></th>\n",
       "    </tr>\n",
       "  </thead>\n",
       "  <tbody>\n",
       "    <tr>\n",
       "      <th>0.0</th>\n",
       "      <th>1</th>\n",
       "      <td>6.882876e-02</td>\n",
       "      <td>0.00000</td>\n",
       "      <td>0.068829</td>\n",
       "    </tr>\n",
       "    <tr>\n",
       "      <th>1013.0</th>\n",
       "      <th>76</th>\n",
       "      <td>1.999999e-08</td>\n",
       "      <td>0.19053</td>\n",
       "      <td>0.190530</td>\n",
       "    </tr>\n",
       "  </tbody>\n",
       "</table>\n",
       "</div>"
      ],
      "text/plain": [
       "                        flug     fldg     fnetg\n",
       "pressure level                                 \n",
       "0.0      1      6.882876e-02  0.00000  0.068829\n",
       "1013.0   76     1.999999e-08  0.19053  0.190530"
      ]
     },
     "metadata": {},
     "output_type": "display_data"
    },
    {
     "data": {
      "text/html": [
       "<a id=\"Table:_cooling_rate._g-groups_total\"></a>"
      ],
      "text/plain": [
       "<IPython.core.display.HTML object>"
      ]
     },
     "metadata": {},
     "output_type": "display_data"
    },
    {
     "data": {
      "text/markdown": [
       "# Table: cooling rate. g-groups total"
      ],
      "text/plain": [
       "<IPython.core.display.Markdown object>"
      ]
     },
     "metadata": {},
     "output_type": "display_data"
    },
    {
     "name": "stdout",
     "output_type": "stream",
     "text": [
      "\n",
      "CRD\n"
     ]
    },
    {
     "data": {
      "text/html": [
       "<div>\n",
       "<style>\n",
       "    .dataframe thead tr:only-child th {\n",
       "        text-align: right;\n",
       "    }\n",
       "\n",
       "    .dataframe thead th {\n",
       "        text-align: left;\n",
       "    }\n",
       "\n",
       "    .dataframe tbody tr th {\n",
       "        vertical-align: top;\n",
       "    }\n",
       "</style>\n",
       "<table border=\"1\" class=\"dataframe\">\n",
       "  <thead>\n",
       "    <tr style=\"text-align: right;\">\n",
       "      <th></th>\n",
       "      <th></th>\n",
       "      <th>coolrg</th>\n",
       "    </tr>\n",
       "    <tr>\n",
       "      <th>pressure</th>\n",
       "      <th>layer</th>\n",
       "      <th></th>\n",
       "    </tr>\n",
       "  </thead>\n",
       "  <tbody>\n",
       "    <tr>\n",
       "      <th>0.000312</th>\n",
       "      <th>1</th>\n",
       "      <td>0.000125</td>\n",
       "    </tr>\n",
       "    <tr>\n",
       "      <th>1001.112500</th>\n",
       "      <th>75</th>\n",
       "      <td>0.485120</td>\n",
       "    </tr>\n",
       "  </tbody>\n",
       "</table>\n",
       "</div>"
      ],
      "text/plain": [
       "                     coolrg\n",
       "pressure    layer          \n",
       "0.000312    1      0.000125\n",
       "1001.112500 75     0.485120"
      ]
     },
     "metadata": {},
     "output_type": "display_data"
    },
    {
     "name": "stdout",
     "output_type": "stream",
     "text": [
      "\n",
      "WGT_IGG10\n"
     ]
    },
    {
     "data": {
      "text/html": [
       "<div>\n",
       "<style>\n",
       "    .dataframe thead tr:only-child th {\n",
       "        text-align: right;\n",
       "    }\n",
       "\n",
       "    .dataframe thead th {\n",
       "        text-align: left;\n",
       "    }\n",
       "\n",
       "    .dataframe tbody tr th {\n",
       "        vertical-align: top;\n",
       "    }\n",
       "</style>\n",
       "<table border=\"1\" class=\"dataframe\">\n",
       "  <thead>\n",
       "    <tr style=\"text-align: right;\">\n",
       "      <th></th>\n",
       "      <th></th>\n",
       "      <th>coolrg</th>\n",
       "    </tr>\n",
       "    <tr>\n",
       "      <th>pressure</th>\n",
       "      <th>layer</th>\n",
       "      <th></th>\n",
       "    </tr>\n",
       "  </thead>\n",
       "  <tbody>\n",
       "    <tr>\n",
       "      <th>0.000312</th>\n",
       "      <th>1</th>\n",
       "      <td>0.000078</td>\n",
       "    </tr>\n",
       "    <tr>\n",
       "      <th>1001.112500</th>\n",
       "      <th>75</th>\n",
       "      <td>0.536989</td>\n",
       "    </tr>\n",
       "  </tbody>\n",
       "</table>\n",
       "</div>"
      ],
      "text/plain": [
       "                     coolrg\n",
       "pressure    layer          \n",
       "0.000312    1      0.000078\n",
       "1001.112500 75     0.536989"
      ]
     },
     "metadata": {},
     "output_type": "display_data"
    },
    {
     "name": "stdout",
     "output_type": "stream",
     "text": [
      "\n",
      "WGT_IGG1\n"
     ]
    },
    {
     "data": {
      "text/html": [
       "<div>\n",
       "<style>\n",
       "    .dataframe thead tr:only-child th {\n",
       "        text-align: right;\n",
       "    }\n",
       "\n",
       "    .dataframe thead th {\n",
       "        text-align: left;\n",
       "    }\n",
       "\n",
       "    .dataframe tbody tr th {\n",
       "        vertical-align: top;\n",
       "    }\n",
       "</style>\n",
       "<table border=\"1\" class=\"dataframe\">\n",
       "  <thead>\n",
       "    <tr style=\"text-align: right;\">\n",
       "      <th></th>\n",
       "      <th></th>\n",
       "      <th>coolrg</th>\n",
       "    </tr>\n",
       "    <tr>\n",
       "      <th>pressure</th>\n",
       "      <th>layer</th>\n",
       "      <th></th>\n",
       "    </tr>\n",
       "  </thead>\n",
       "  <tbody>\n",
       "    <tr>\n",
       "      <th>0.000312</th>\n",
       "      <th>1</th>\n",
       "      <td>0.000126</td>\n",
       "    </tr>\n",
       "    <tr>\n",
       "      <th>1001.112500</th>\n",
       "      <th>75</th>\n",
       "      <td>0.509058</td>\n",
       "    </tr>\n",
       "  </tbody>\n",
       "</table>\n",
       "</div>"
      ],
      "text/plain": [
       "                     coolrg\n",
       "pressure    layer          \n",
       "0.000312    1      0.000126\n",
       "1001.112500 75     0.509058"
      ]
     },
     "metadata": {},
     "output_type": "display_data"
    },
    {
     "name": "stdout",
     "output_type": "stream",
     "text": [
      "\n",
      "WGT_IGG10 - CRD\n"
     ]
    },
    {
     "data": {
      "text/html": [
       "<div>\n",
       "<style>\n",
       "    .dataframe thead tr:only-child th {\n",
       "        text-align: right;\n",
       "    }\n",
       "\n",
       "    .dataframe thead th {\n",
       "        text-align: left;\n",
       "    }\n",
       "\n",
       "    .dataframe tbody tr th {\n",
       "        vertical-align: top;\n",
       "    }\n",
       "</style>\n",
       "<table border=\"1\" class=\"dataframe\">\n",
       "  <thead>\n",
       "    <tr style=\"text-align: right;\">\n",
       "      <th></th>\n",
       "      <th></th>\n",
       "      <th>coolrg</th>\n",
       "    </tr>\n",
       "    <tr>\n",
       "      <th>pressure</th>\n",
       "      <th>layer</th>\n",
       "      <th></th>\n",
       "    </tr>\n",
       "  </thead>\n",
       "  <tbody>\n",
       "    <tr>\n",
       "      <th>0.000312</th>\n",
       "      <th>1</th>\n",
       "      <td>-0.000047</td>\n",
       "    </tr>\n",
       "    <tr>\n",
       "      <th>1001.112500</th>\n",
       "      <th>75</th>\n",
       "      <td>0.051869</td>\n",
       "    </tr>\n",
       "  </tbody>\n",
       "</table>\n",
       "</div>"
      ],
      "text/plain": [
       "                     coolrg\n",
       "pressure    layer          \n",
       "0.000312    1     -0.000047\n",
       "1001.112500 75     0.051869"
      ]
     },
     "metadata": {},
     "output_type": "display_data"
    },
    {
     "name": "stdout",
     "output_type": "stream",
     "text": [
      "\n",
      "WGT_IGG1 - CRD\n"
     ]
    },
    {
     "data": {
      "text/html": [
       "<div>\n",
       "<style>\n",
       "    .dataframe thead tr:only-child th {\n",
       "        text-align: right;\n",
       "    }\n",
       "\n",
       "    .dataframe thead th {\n",
       "        text-align: left;\n",
       "    }\n",
       "\n",
       "    .dataframe tbody tr th {\n",
       "        vertical-align: top;\n",
       "    }\n",
       "</style>\n",
       "<table border=\"1\" class=\"dataframe\">\n",
       "  <thead>\n",
       "    <tr style=\"text-align: right;\">\n",
       "      <th></th>\n",
       "      <th></th>\n",
       "      <th>coolrg</th>\n",
       "    </tr>\n",
       "    <tr>\n",
       "      <th>pressure</th>\n",
       "      <th>layer</th>\n",
       "      <th></th>\n",
       "    </tr>\n",
       "  </thead>\n",
       "  <tbody>\n",
       "    <tr>\n",
       "      <th>0.000312</th>\n",
       "      <th>1</th>\n",
       "      <td>2.807633e-07</td>\n",
       "    </tr>\n",
       "    <tr>\n",
       "      <th>1001.112500</th>\n",
       "      <th>75</th>\n",
       "      <td>2.393812e-02</td>\n",
       "    </tr>\n",
       "  </tbody>\n",
       "</table>\n",
       "</div>"
      ],
      "text/plain": [
       "                         coolrg\n",
       "pressure    layer              \n",
       "0.000312    1      2.807633e-07\n",
       "1001.112500 75     2.393812e-02"
      ]
     },
     "metadata": {},
     "output_type": "display_data"
    }
   ],
   "source": [
    "table_fluxg.display_withdiff(analysis, benchmark='crd')\n",
    "table_coolrg.display_withdiff(analysis, benchmark='crd')\n",
    "table_flux.display_withdiff(analysis, benchmark='crd')\n",
    "table_coolr.display_withdiff(analysis, benchmark='crd')"
   ]
  },
  {
   "cell_type": "code",
   "execution_count": 22,
   "metadata": {},
   "outputs": [
    {
     "data": {
      "text/html": [
       "<a id=\"Table:_dgdgs._g-groups\"></a>"
      ],
      "text/plain": [
       "<IPython.core.display.HTML object>"
      ]
     },
     "metadata": {},
     "output_type": "display_data"
    },
    {
     "data": {
      "text/markdown": [
       "# Table: dgdgs. g-groups "
      ],
      "text/plain": [
       "<IPython.core.display.Markdown object>"
      ]
     },
     "metadata": {},
     "output_type": "display_data"
    },
    {
     "data": {
      "text/html": [
       "<div>\n",
       "<style>\n",
       "    .dataframe thead tr:only-child th {\n",
       "        text-align: right;\n",
       "    }\n",
       "\n",
       "    .dataframe thead th {\n",
       "        text-align: left;\n",
       "    }\n",
       "\n",
       "    .dataframe tbody tr th {\n",
       "        vertical-align: top;\n",
       "    }\n",
       "</style>\n",
       "<table border=\"1\" class=\"dataframe\">\n",
       "  <thead>\n",
       "    <tr style=\"text-align: right;\">\n",
       "      <th></th>\n",
       "      <th>dg</th>\n",
       "      <th>dgs</th>\n",
       "    </tr>\n",
       "    <tr>\n",
       "      <th>g</th>\n",
       "      <th></th>\n",
       "      <th></th>\n",
       "    </tr>\n",
       "  </thead>\n",
       "  <tbody>\n",
       "    <tr>\n",
       "      <th>1</th>\n",
       "      <td>0.00745</td>\n",
       "      <td>0.007666</td>\n",
       "    </tr>\n",
       "    <tr>\n",
       "      <th>2</th>\n",
       "      <td>0.03852</td>\n",
       "      <td>0.038841</td>\n",
       "    </tr>\n",
       "    <tr>\n",
       "      <th>3</th>\n",
       "      <td>0.09291</td>\n",
       "      <td>0.093708</td>\n",
       "    </tr>\n",
       "    <tr>\n",
       "      <th>4</th>\n",
       "      <td>0.24753</td>\n",
       "      <td>0.249277</td>\n",
       "    </tr>\n",
       "    <tr>\n",
       "      <th>5</th>\n",
       "      <td>0.38811</td>\n",
       "      <td>0.390111</td>\n",
       "    </tr>\n",
       "    <tr>\n",
       "      <th>6</th>\n",
       "      <td>0.22548</td>\n",
       "      <td>0.220397</td>\n",
       "    </tr>\n",
       "  </tbody>\n",
       "</table>\n",
       "</div>"
      ],
      "text/plain": [
       "        dg       dgs\n",
       "g                   \n",
       "1  0.00745  0.007666\n",
       "2  0.03852  0.038841\n",
       "3  0.09291  0.093708\n",
       "4  0.24753  0.249277\n",
       "5  0.38811  0.390111\n",
       "6  0.22548  0.220397"
      ]
     },
     "metadata": {},
     "output_type": "display_data"
    }
   ],
   "source": [
    "table_dgdgs.display_dgdgs(crd)"
   ]
  },
  {
   "cell_type": "code",
   "execution_count": 23,
   "metadata": {},
   "outputs": [
    {
     "data": {
      "text/html": [
       "<a id=\"Overall_absth\"></a>"
      ],
      "text/plain": [
       "<IPython.core.display.HTML object>"
      ]
     },
     "metadata": {},
     "output_type": "display_data"
    },
    {
     "data": {
      "text/markdown": [
       "# Overall absth"
      ],
      "text/plain": [
       "<IPython.core.display.Markdown object>"
      ]
     },
     "metadata": {},
     "output_type": "display_data"
    },
    {
     "data": {
      "text/html": [
       "<div>\n",
       "<style>\n",
       "    .dataframe thead tr:only-child th {\n",
       "        text-align: right;\n",
       "    }\n",
       "\n",
       "    .dataframe thead th {\n",
       "        text-align: left;\n",
       "    }\n",
       "\n",
       "    .dataframe tbody tr th {\n",
       "        vertical-align: top;\n",
       "    }\n",
       "</style>\n",
       "<table border=\"1\" class=\"dataframe\">\n",
       "  <thead>\n",
       "    <tr style=\"text-align: right;\">\n",
       "      <th></th>\n",
       "      <th>abscom</th>\n",
       "    </tr>\n",
       "    <tr>\n",
       "      <th>g</th>\n",
       "      <th></th>\n",
       "    </tr>\n",
       "  </thead>\n",
       "  <tbody>\n",
       "    <tr>\n",
       "      <th>1</th>\n",
       "      <td>1.620800e-21</td>\n",
       "    </tr>\n",
       "    <tr>\n",
       "      <th>2</th>\n",
       "      <td>2.554449e-22</td>\n",
       "    </tr>\n",
       "    <tr>\n",
       "      <th>3</th>\n",
       "      <td>4.025919e-23</td>\n",
       "    </tr>\n",
       "    <tr>\n",
       "      <th>4</th>\n",
       "      <td>6.345018e-24</td>\n",
       "    </tr>\n",
       "    <tr>\n",
       "      <th>5</th>\n",
       "      <td>1.000002e-24</td>\n",
       "    </tr>\n",
       "    <tr>\n",
       "      <th>6</th>\n",
       "      <td>1.306671e-25</td>\n",
       "    </tr>\n",
       "  </tbody>\n",
       "</table>\n",
       "</div>"
      ],
      "text/plain": [
       "         abscom\n",
       "g              \n",
       "1  1.620800e-21\n",
       "2  2.554449e-22\n",
       "3  4.025919e-23\n",
       "4  6.345018e-24\n",
       "5  1.000002e-24\n",
       "6  1.306671e-25"
      ]
     },
     "metadata": {},
     "output_type": "display_data"
    }
   ],
   "source": [
    "# read and display overall absth\n",
    "display.display(\n",
    "    display.HTML(climahtml.getHTML_idanchor(s_abscom)))\n",
    "display.display(\n",
    "    display.Markdown(climahtml.getMarkdown_sectitle(s_abscom)))\n",
    "\n",
    "display.display(pd.read_csv(os.path.join(crd.rundir, 'abscom.dat'),\n",
    "                sep=r'\\s+',\n",
    "                index_col=[0]))"
   ]
  },
  {
   "cell_type": "code",
   "execution_count": 24,
   "metadata": {
    "collapsed": true
   },
   "outputs": [],
   "source": [
    "def spreadsheet(ng_refs, p_refs):\n",
    "    ng = crd.data['dgdgs'].dims['g']\n",
    "    \n",
    "    df_abscom = pd.read_csv(os.path.join(crd.rundir, 'abscom.dat'), \n",
    "                            sep=r'\\s+', index_col=[0])\n",
    "    \n",
    "    # absth(g + 1) / absth(g)\n",
    "    df_abscom_copy = df_abscom.copy()\n",
    "    df_abscom_copy.index = df_abscom.index + 1\n",
    "    df_absratio = df_abscom / df_abscom_copy\n",
    "    df_absratio.columns = ['k(ig) / k(ig - 1)']\n",
    "    df_absratio = df_absratio.loc[: ng]\n",
    "    df_dgdgs = crd.data['dgdgs'].to_dataframe()\n",
    "    \n",
    "    \n",
    "    df_dgdgs_cumsum = df_dgdgs.cumsum(axis=0)\n",
    "    df_dgdgs_cumsum.columns = ['dg cumsum', 'dgs cumsum']\n",
    "    \n",
    "    data_pref = np.concatenate([p_ref * np.ones((ng_ref,)) \n",
    "                                for ng_ref, p_ref \n",
    "                                in zip(ng_refs, p_refs)], axis=0)\n",
    "    df_pref = pd.DataFrame(data_pref, \n",
    "                           index=df_dgdgs.index, columns=['pref'])\n",
    "    \n",
    "    df_all = pd.concat([df_abscom, df_absratio,\n",
    "                        df_dgdgs, df_dgdgs_cumsum,\n",
    "                        df_pref], axis=1) \n",
    "    return df_all\n",
    "    "
   ]
  },
  {
   "cell_type": "code",
   "execution_count": 25,
   "metadata": {
    "scrolled": false
   },
   "outputs": [
    {
     "data": {
      "text/html": [
       "<a id=\"g-group_summary\"></a>"
      ],
      "text/plain": [
       "<IPython.core.display.HTML object>"
      ]
     },
     "metadata": {},
     "output_type": "display_data"
    },
    {
     "data": {
      "text/markdown": [
       "# g-group summary"
      ],
      "text/plain": [
       "<IPython.core.display.Markdown object>"
      ]
     },
     "metadata": {},
     "output_type": "display_data"
    },
    {
     "data": {
      "text/html": [
       "<div>\n",
       "<style>\n",
       "    .dataframe thead tr:only-child th {\n",
       "        text-align: right;\n",
       "    }\n",
       "\n",
       "    .dataframe thead th {\n",
       "        text-align: left;\n",
       "    }\n",
       "\n",
       "    .dataframe tbody tr th {\n",
       "        vertical-align: top;\n",
       "    }\n",
       "</style>\n",
       "<table border=\"1\" class=\"dataframe\">\n",
       "  <thead>\n",
       "    <tr style=\"text-align: right;\">\n",
       "      <th></th>\n",
       "      <th>abscom</th>\n",
       "      <th>k(ig) / k(ig - 1)</th>\n",
       "      <th>dg</th>\n",
       "      <th>dgs</th>\n",
       "      <th>dg cumsum</th>\n",
       "      <th>dgs cumsum</th>\n",
       "      <th>pref</th>\n",
       "    </tr>\n",
       "    <tr>\n",
       "      <th>g</th>\n",
       "      <th></th>\n",
       "      <th></th>\n",
       "      <th></th>\n",
       "      <th></th>\n",
       "      <th></th>\n",
       "      <th></th>\n",
       "      <th></th>\n",
       "    </tr>\n",
       "  </thead>\n",
       "  <tbody>\n",
       "    <tr>\n",
       "      <th>1</th>\n",
       "      <td>1.620800e-21</td>\n",
       "      <td>NaN</td>\n",
       "      <td>0.00745</td>\n",
       "      <td>0.007666</td>\n",
       "      <td>0.00745</td>\n",
       "      <td>0.007666</td>\n",
       "      <td>600.0</td>\n",
       "    </tr>\n",
       "    <tr>\n",
       "      <th>2</th>\n",
       "      <td>2.554449e-22</td>\n",
       "      <td>0.157604</td>\n",
       "      <td>0.03852</td>\n",
       "      <td>0.038841</td>\n",
       "      <td>0.04597</td>\n",
       "      <td>0.046507</td>\n",
       "      <td>600.0</td>\n",
       "    </tr>\n",
       "    <tr>\n",
       "      <th>3</th>\n",
       "      <td>4.025919e-23</td>\n",
       "      <td>0.157604</td>\n",
       "      <td>0.09291</td>\n",
       "      <td>0.093708</td>\n",
       "      <td>0.13888</td>\n",
       "      <td>0.140215</td>\n",
       "      <td>600.0</td>\n",
       "    </tr>\n",
       "    <tr>\n",
       "      <th>4</th>\n",
       "      <td>6.345018e-24</td>\n",
       "      <td>0.157604</td>\n",
       "      <td>0.24753</td>\n",
       "      <td>0.249277</td>\n",
       "      <td>0.38641</td>\n",
       "      <td>0.389491</td>\n",
       "      <td>600.0</td>\n",
       "    </tr>\n",
       "    <tr>\n",
       "      <th>5</th>\n",
       "      <td>1.000002e-24</td>\n",
       "      <td>0.157604</td>\n",
       "      <td>0.38811</td>\n",
       "      <td>0.390111</td>\n",
       "      <td>0.77452</td>\n",
       "      <td>0.779603</td>\n",
       "      <td>600.0</td>\n",
       "    </tr>\n",
       "    <tr>\n",
       "      <th>6</th>\n",
       "      <td>1.306671e-25</td>\n",
       "      <td>0.130667</td>\n",
       "      <td>0.22548</td>\n",
       "      <td>0.220397</td>\n",
       "      <td>1.00000</td>\n",
       "      <td>1.000000</td>\n",
       "      <td>600.0</td>\n",
       "    </tr>\n",
       "  </tbody>\n",
       "</table>\n",
       "</div>"
      ],
      "text/plain": [
       "         abscom  k(ig) / k(ig - 1)       dg       dgs  dg cumsum  dgs cumsum  \\\n",
       "g                                                                              \n",
       "1  1.620800e-21                NaN  0.00745  0.007666    0.00745    0.007666   \n",
       "2  2.554449e-22           0.157604  0.03852  0.038841    0.04597    0.046507   \n",
       "3  4.025919e-23           0.157604  0.09291  0.093708    0.13888    0.140215   \n",
       "4  6.345018e-24           0.157604  0.24753  0.249277    0.38641    0.389491   \n",
       "5  1.000002e-24           0.157604  0.38811  0.390111    0.77452    0.779603   \n",
       "6  1.306671e-25           0.130667  0.22548  0.220397    1.00000    1.000000   \n",
       "\n",
       "    pref  \n",
       "g         \n",
       "1  600.0  \n",
       "2  600.0  \n",
       "3  600.0  \n",
       "4  600.0  \n",
       "5  600.0  \n",
       "6  600.0  "
      ]
     },
     "metadata": {},
     "output_type": "display_data"
    }
   ],
   "source": [
    "display.display(display.HTML(climahtml.getHTML_idanchor(s_ggroup_summary)))\n",
    "display.display(display.Markdown(climahtml.getMarkdown_sectitle(s_ggroup_summary)))\n",
    "display.display(spreadsheet(NG_REFS, P_REFS))"
   ]
  },
  {
   "cell_type": "code",
   "execution_count": 26,
   "metadata": {
    "collapsed": true,
    "scrolled": false
   },
   "outputs": [],
   "source": [
    "def load_d_bigsum():\n",
    "    \n",
    "    ng = 10\n",
    "    \n",
    "    fpath = os.path.join(crd.rundir, 'd_bigsum.dat')\n",
    "    df = pd.read_csv(fpath, sep=r'\\s+', index_col = [0, 1])\n",
    "\n",
    "    g_layers = [(1, 62), (2, 58)]\n",
    "    \n",
    "    writer = pd.ExcelWriter('_'.join(['d_bigsum_absgas',\n",
    "                                      'ng_{}'.format(ng)])\n",
    "                            + '.xlsx')\n",
    "    for g, layer in g_layers:\n",
    "        df.loc[(g, layer), :].to_excel(writer, \n",
    "                                       '({}, {})'.format(g, layer))\n",
    "        \n",
    "\n",
    "#load_d_bigsum()"
   ]
  },
  {
   "cell_type": "code",
   "execution_count": 27,
   "metadata": {},
   "outputs": [
    {
     "data": {
      "text/html": [
       "<script>\n",
       "code_show=true; \n",
       "function code_toggle() {\n",
       " if (code_show){\n",
       " $('div.input').hide();\n",
       " } else {\n",
       " $('div.input').show();\n",
       " }\n",
       " code_show = !code_show\n",
       "} \n",
       "$( document ).ready(code_toggle);\n",
       "</script>\n",
       "<form action=\"javascript:code_toggle()\"><input type=\"submit\" value=\"Click here to toggle on/off the raw code.\"></form>"
      ],
      "text/plain": [
       "<IPython.core.display.HTML object>"
      ]
     },
     "execution_count": 27,
     "metadata": {},
     "output_type": "execute_result"
    }
   ],
   "source": [
    "display.HTML('''<script>\n",
    "code_show=true; \n",
    "function code_toggle() {\n",
    " if (code_show){\n",
    " $('div.input').hide();\n",
    " } else {\n",
    " $('div.input').show();\n",
    " }\n",
    " code_show = !code_show\n",
    "} \n",
    "$( document ).ready(code_toggle);\n",
    "</script>\n",
    "<form action=\"javascript:code_toggle()\"><input type=\"submit\" value=\"Click here to toggle on/off the raw code.\"></form>''')\n"
   ]
  },
  {
   "cell_type": "code",
   "execution_count": 28,
   "metadata": {
    "collapsed": true
   },
   "outputs": [],
   "source": []
  }
 ],
 "metadata": {
  "kernelspec": {
   "display_name": "Python 3",
   "language": "python",
   "name": "python3"
  },
  "language_info": {
   "codemirror_mode": {
    "name": "ipython",
    "version": 3
   },
   "file_extension": ".py",
   "mimetype": "text/x-python",
   "name": "python",
   "nbconvert_exporter": "python",
   "pygments_lexer": "ipython3",
   "version": "3.6.1"
  }
 },
 "nbformat": 4,
 "nbformat_minor": 1
}
