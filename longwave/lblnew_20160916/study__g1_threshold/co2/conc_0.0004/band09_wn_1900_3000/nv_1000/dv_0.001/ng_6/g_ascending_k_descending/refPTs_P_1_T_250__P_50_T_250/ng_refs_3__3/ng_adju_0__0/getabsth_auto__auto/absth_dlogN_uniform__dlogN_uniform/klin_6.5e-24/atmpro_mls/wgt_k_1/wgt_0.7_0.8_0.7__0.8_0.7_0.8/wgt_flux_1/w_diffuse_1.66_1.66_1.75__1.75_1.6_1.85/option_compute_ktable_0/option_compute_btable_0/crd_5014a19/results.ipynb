{
 "cells": [
  {
   "cell_type": "code",
   "execution_count": 1,
   "metadata": {},
   "outputs": [
    {
     "name": "stderr",
     "output_type": "stream",
     "text": [
      "/chia_cluster/home/jackyu/anaconda3/lib/python3.6/site-packages/matplotlib/__init__.py:1405: UserWarning: \n",
      "This call to matplotlib.use() has no effect because the backend has already\n",
      "been chosen; matplotlib.use() must be called *before* pylab, matplotlib.pyplot,\n",
      "or matplotlib.backends is imported for the first time.\n",
      "\n",
      "  warnings.warn(_use_error_msg)\n"
     ]
    },
    {
     "data": {
      "text/plain": [
       "<module 'climatools.lblnew.g1_threshold' from '/chia_cluster/home/jackyu/climatools/climatools/lblnew/g1_threshold.py'>"
      ]
     },
     "execution_count": 1,
     "metadata": {},
     "output_type": "execute_result"
    }
   ],
   "source": [
    "%matplotlib inline\n",
    "import os\n",
    "import re\n",
    "import io\n",
    "\n",
    "import matplotlib\n",
    "import numpy as np\n",
    "import pandas as pd\n",
    "import xarray as xr\n",
    "\n",
    "import climatools.html.html as climahtml\n",
    "import climatools.lblnew.g1_threshold as scripts\n",
    "\n",
    "import IPython.display as display\n",
    "\n",
    "import imp\n",
    "imp.reload(scripts)"
   ]
  },
  {
   "cell_type": "code",
   "execution_count": 2,
   "metadata": {
    "collapsed": true
   },
   "outputs": [],
   "source": [
    "%run param.py"
   ]
  },
  {
   "cell_type": "code",
   "execution_count": 3,
   "metadata": {
    "collapsed": true
   },
   "outputs": [],
   "source": [
    "NG_REFS = PARAM['ng_refs']\n",
    "P_REFS, T_REFS = zip(*PARAM['ref_pts'])"
   ]
  },
  {
   "cell_type": "code",
   "execution_count": 4,
   "metadata": {
    "collapsed": true
   },
   "outputs": [],
   "source": [
    "# for printing some input parameters\n",
    "\n",
    "def innames():\n",
    "    return ['vstar', 'nband', 'nv', 'dv',\n",
    "            'flgh2o',\n",
    "            'tsfc',\n",
    "            'pressure_reference_1',\n",
    "            'temperature_reference_1', \n",
    "            'pressure_reference_2', \n",
    "            'temperature_reference_2',\n",
    "            'ighigh', \n",
    "            'ng', \n",
    "            'nref',\n",
    "            'p_refs',\n",
    "            't_refs',\n",
    "            'ng_refs',\n",
    "            'ng_adju',\n",
    "            'absth',\n",
    "            'wgt',\n",
    "            'option_wgt_flux',\n",
    "            'option_wgt_k',\n",
    "            'option_klin',\n",
    "            'w_diffuse',\n",
    "            'fac_meank',\n",
    "            'klin',\n",
    "            'option_compute_ktable',\n",
    "            'option_compute_btable',\n",
    "            'conc']\n",
    "\n",
    "\n",
    "\n",
    "def pattern_assign(name):\n",
    "    return ''' \n",
    "    parameter .* :: \\s* &? \\s* ({} \\s* = .* \\n)\n",
    "    '''.format(name)\n",
    "\n",
    "def pattern_data(name):\n",
    "    return '''\n",
    "    (data [^/{name}]+ {name}[^,] [^/{name}]+ / [^/]+ /)\n",
    "    '''.format(name=name)\n",
    "\n",
    "def pattern_atmpro():\n",
    "    return '''\n",
    "    (atmosphere_profiles/.*75_r8.pro)\n",
    "    '''\n",
    "    \n",
    "\n",
    "def get_input_params(code, names):\n",
    "    results = []\n",
    "    for name in names:\n",
    "        regex = re.compile(pattern_assign(name), re.VERBOSE)\n",
    "        results.extend(regex.findall(code))\n",
    "        \n",
    "        regex = re.compile(pattern_data(name), re.VERBOSE)\n",
    "        results.extend(regex.findall(code))\n",
    "        \n",
    "    regex = re.compile(pattern_atmpro(), re.VERBOSE)\n",
    "    results.extend(regex.findall(code))\n",
    "        \n",
    "    results = [result.replace('_r8', '') for result in results]\n",
    "    return results\n"
   ]
  },
  {
   "cell_type": "code",
   "execution_count": 5,
   "metadata": {
    "collapsed": true
   },
   "outputs": [],
   "source": [
    "analysis = scripts.Analysis()"
   ]
  },
  {
   "cell_type": "code",
   "execution_count": 6,
   "metadata": {
    "collapsed": true
   },
   "outputs": [],
   "source": [
    "crd = analysis.model('crd')\n",
    "crd.type_model = 'crd'\n",
    "crd.rundir = DIR_FORTRAN\n",
    "crd.fpath_flux = 'output_fluxg.dat'\n",
    "crd.fpath_coolr = 'output_coolrg.dat'\n",
    "crd.linestyle = '-'\n",
    "crd.color = 'b'\n",
    "crd.marker = None\n",
    "crd.load_data()"
   ]
  },
  {
   "cell_type": "code",
   "execution_count": 7,
   "metadata": {
    "collapsed": true
   },
   "outputs": [],
   "source": [
    "def add_wgt_models():\n",
    "    iggs = [10, 1]\n",
    "    markers = [None, 'x']\n",
    "    colors = ['r', 'c']\n",
    "    linestyle = '-'\n",
    "\n",
    "    df_wfluxg = pd.read_csv(os.path.join(crd.rundir, \n",
    "                                         'output_wfluxg.dat'), \n",
    "                            sep=r'\\s+')\n",
    "\n",
    "    df_wcoolrg = pd.read_csv(os.path.join(crd.rundir, \n",
    "                                          'output_wcoolrg.dat'), \n",
    "                             sep=r'\\s+')\n",
    "\n",
    "    for igg, marker, color in zip(iggs, markers, colors):\n",
    "\n",
    "        flux_igg = df_wfluxg[df_wfluxg['igg'] == igg]\\\n",
    "        .drop('igg', axis=1)\n",
    "        s_flux = io.StringIO(flux_igg.to_csv(sep=' '))\n",
    "\n",
    "        coolr_igg = df_wcoolrg[df_wcoolrg['igg'] == igg]\\\n",
    "        .drop('igg', axis=1)\n",
    "        s_coolr = io.StringIO(coolr_igg.to_csv(sep=' '))\n",
    "\n",
    "        crdx_igg = analysis.model('wgt_igg{}'.format(igg))\n",
    "        crdx_igg.type_model = 'crd'\n",
    "        crdx_igg.rundir = DIR_FORTRAN\n",
    "        crdx_igg.fpath_flux = s_flux\n",
    "        crdx_igg.fpath_coolr = s_coolr\n",
    "        crdx_igg.color = color\n",
    "        crdx_igg.marker = marker\n",
    "        crdx_igg.linestyle = linestyle\n",
    "        crdx_igg.load_data()\n",
    "        \n",
    "add_wgt_models()"
   ]
  },
  {
   "cell_type": "code",
   "execution_count": 8,
   "metadata": {
    "collapsed": true
   },
   "outputs": [],
   "source": [
    "def add_ktable_models():\n",
    "    iggs = [10]\n",
    "    markers = ['D',]\n",
    "    color = 'g'\n",
    "    linestyle = ':'\n",
    "\n",
    "    df_wwfluxg = pd.read_csv(os.path.join(crd.rundir, \n",
    "                                          'output_wwfluxg.dat'), \n",
    "                             sep=r'\\s+')\n",
    "\n",
    "    df_wwcoolrg = pd.read_csv(os.path.join(crd.rundir, \n",
    "                                           'output_wwcoolrg.dat'), \n",
    "                              sep=r'\\s+')\n",
    "\n",
    "    for igg, marker in zip(iggs, markers):\n",
    "\n",
    "        flux_igg = df_wwfluxg[df_wwfluxg['igg'] == igg]\\\n",
    "        .drop('igg', axis=1)\n",
    "        s_flux = io.StringIO(flux_igg.to_csv(sep=' '))\n",
    "\n",
    "        coolr_igg = df_wwcoolrg[df_wwcoolrg['igg'] == igg]\\\n",
    "        .drop('igg', axis=1)\n",
    "        s_coolr = io.StringIO(coolr_igg.to_csv(sep=' '))\n",
    "\n",
    "        crdxx_igg = analysis.model('ktable_igg{}'.format(igg))\n",
    "        crdxx_igg.type_model = 'crd'\n",
    "        crdxx_igg.rundir = DIR_FORTRAN\n",
    "        crdxx_igg.fpath_flux = s_flux\n",
    "        crdxx_igg.fpath_coolr = s_coolr\n",
    "        crdxx_igg.color = color\n",
    "        crdxx_igg.marker = marker\n",
    "        crdxx_igg.linestyle = linestyle\n",
    "        crdxx_igg.load_data()\n",
    "        \n",
    "        "
   ]
  },
  {
   "cell_type": "code",
   "execution_count": 9,
   "metadata": {
    "collapsed": true
   },
   "outputs": [],
   "source": [
    "fig = analysis.fig_fluxcoolr('fig1', vartypes=['cooling rate'])\n",
    "fig.ggroups = list(crd.data['dgdgs'].coords['g'].values) #list(range(1, 8 + 1))\n",
    "fig.vars_plot['flux'] = ['flug', 'fnetg']\n",
    "fig.vars_plot['cooling rate'] = ['coolrg']\n",
    "fig.colors['flug'] = 'darkred'\n",
    "fig.colors['fnetg'] = 'lightcoral'\n",
    "fig.colors['coolrg'] = 'blue'\n",
    "fig.varlims_from_indexrange['linear'] = (50, 1050)\n",
    "fig.varlims_from_indexrange['log'] = (1e-2, 200)\n",
    "\n",
    "fig.set_pressure_displayrange(low=1e-2)"
   ]
  },
  {
   "cell_type": "code",
   "execution_count": 10,
   "metadata": {
    "collapsed": true
   },
   "outputs": [],
   "source": [
    "table_fluxg = analysis.table('table_fluxg')\n",
    "table_fluxg.sumg = False\n",
    "table_fluxg.vartype = 'flux'\n",
    "table_fluxg.at_pressures = crd.data['flux']\\\n",
    "                             .coords['pressure']\\\n",
    "                             .isel(pressure=[0, -1])\n",
    "\n",
    "table_coolrg = analysis.table('table_coolrg')\n",
    "table_coolrg.vartype = 'cooling rate'\n",
    "table_coolrg.sumg = False\n",
    "table_coolrg.at_pressures = crd.data['cooling rate']\\\n",
    "                               .coords['pressure']\\\n",
    "                               .isel(pressure=[0, -1])\n"
   ]
  },
  {
   "cell_type": "code",
   "execution_count": 11,
   "metadata": {
    "collapsed": true
   },
   "outputs": [],
   "source": [
    "table_flux = analysis.table('table_flux')\n",
    "table_flux.sumg = True\n",
    "table_flux.vartype = 'flux'\n",
    "table_flux.at_pressures = crd.data['flux']\\\n",
    "                             .coords['pressure']\\\n",
    "                             .isel(pressure=[0, -1])\n",
    "\n",
    "table_coolr = analysis.table('table_coolr')\n",
    "table_coolr.vartype = 'cooling rate'\n",
    "table_coolr.sumg = True\n",
    "table_coolr.at_pressures = crd.data['cooling rate']\\\n",
    "                              .coords['pressure']\\\n",
    "                              .isel(pressure=[0, -1])"
   ]
  },
  {
   "cell_type": "code",
   "execution_count": 12,
   "metadata": {
    "collapsed": true
   },
   "outputs": [],
   "source": [
    "table_dgdgs = analysis.table('dgdgs')\n",
    "table_dgdgs.vartype = 'dgdgs'\n",
    "table_dgdgs.sumg = False"
   ]
  },
  {
   "cell_type": "code",
   "execution_count": 13,
   "metadata": {
    "collapsed": true
   },
   "outputs": [
    {
     "name": "stdout",
     "output_type": "stream",
     "text": [
      "atmpro = mls\n",
      "band = 9\n",
      "commitnumber = 5014a19\n",
      "conc = 0.0004\n",
      "dv = 0.001\n",
      "klin = 6.5e-24\n",
      "molecule = co2\n",
      "ng_adju = [0, 0]\n",
      "ng_refs = [3, 3]\n",
      "nv = 1000\n",
      "option_compute_btable = 0\n",
      "option_compute_ktable = 0\n",
      "option_wgt_flux = 1\n",
      "option_wgt_k = 1\n",
      "ref_pts = [(1, 250), (50, 250)]\n",
      "tsfc = 294\n",
      "vmax = 3000\n",
      "vmin = 1900\n",
      "w_diffuse = [(1.66, 1.66, 1.75), (1.75, 1.6, 1.85)]\n",
      "wgt = [(0.7, 0.8, 0.7), (0.8, 0.7, 0.8)]\n"
     ]
    }
   ],
   "source": [
    "for name, value in sorted(PARAM.items()):\n",
    "    print('{} = {}'.format(name, value))"
   ]
  },
  {
   "cell_type": "code",
   "execution_count": 14,
   "metadata": {},
   "outputs": [
    {
     "data": {
      "text/html": [
       "<a href=\"#Figure:_cooling_rate_g-group_1\">Figure: cooling rate g-group 1</a>"
      ],
      "text/plain": [
       "<IPython.core.display.HTML object>"
      ]
     },
     "metadata": {},
     "output_type": "display_data"
    },
    {
     "data": {
      "text/html": [
       "<a href=\"#Figure:_cooling_rate_g-group_2\">Figure: cooling rate g-group 2</a>"
      ],
      "text/plain": [
       "<IPython.core.display.HTML object>"
      ]
     },
     "metadata": {},
     "output_type": "display_data"
    },
    {
     "data": {
      "text/html": [
       "<a href=\"#Figure:_cooling_rate_g-group_3\">Figure: cooling rate g-group 3</a>"
      ],
      "text/plain": [
       "<IPython.core.display.HTML object>"
      ]
     },
     "metadata": {},
     "output_type": "display_data"
    },
    {
     "data": {
      "text/html": [
       "<a href=\"#Figure:_cooling_rate_g-group_4\">Figure: cooling rate g-group 4</a>"
      ],
      "text/plain": [
       "<IPython.core.display.HTML object>"
      ]
     },
     "metadata": {},
     "output_type": "display_data"
    },
    {
     "data": {
      "text/html": [
       "<a href=\"#Figure:_cooling_rate_g-group_5\">Figure: cooling rate g-group 5</a>"
      ],
      "text/plain": [
       "<IPython.core.display.HTML object>"
      ]
     },
     "metadata": {},
     "output_type": "display_data"
    },
    {
     "data": {
      "text/html": [
       "<a href=\"#Figure:_cooling_rate_g-group_6\">Figure: cooling rate g-group 6</a>"
      ],
      "text/plain": [
       "<IPython.core.display.HTML object>"
      ]
     },
     "metadata": {},
     "output_type": "display_data"
    },
    {
     "data": {
      "text/html": [
       "<a href=\"#Figure:_cooling_rate_g-group_total\">Figure: cooling rate g-group total</a>"
      ],
      "text/plain": [
       "<IPython.core.display.HTML object>"
      ]
     },
     "metadata": {},
     "output_type": "display_data"
    }
   ],
   "source": [
    "fig.display_hrefanchor()"
   ]
  },
  {
   "cell_type": "code",
   "execution_count": 15,
   "metadata": {},
   "outputs": [
    {
     "data": {
      "text/html": [
       "<a href=\"#Table:_flux._g-groups\">Table: flux. g-groups </a>"
      ],
      "text/plain": [
       "<IPython.core.display.HTML object>"
      ]
     },
     "metadata": {},
     "output_type": "display_data"
    },
    {
     "data": {
      "text/html": [
       "<a href=\"#Table:_cooling_rate._g-groups\">Table: cooling rate. g-groups </a>"
      ],
      "text/plain": [
       "<IPython.core.display.HTML object>"
      ]
     },
     "metadata": {},
     "output_type": "display_data"
    },
    {
     "data": {
      "text/html": [
       "<a href=\"#Table:_flux._g-groups_total\">Table: flux. g-groups total</a>"
      ],
      "text/plain": [
       "<IPython.core.display.HTML object>"
      ]
     },
     "metadata": {},
     "output_type": "display_data"
    },
    {
     "data": {
      "text/html": [
       "<a href=\"#Table:_cooling_rate._g-groups_total\">Table: cooling rate. g-groups total</a>"
      ],
      "text/plain": [
       "<IPython.core.display.HTML object>"
      ]
     },
     "metadata": {},
     "output_type": "display_data"
    }
   ],
   "source": [
    "table_fluxg.display_hrefanchor()\n",
    "table_coolrg.display_hrefanchor()\n",
    "\n",
    "table_flux.display_hrefanchor()\n",
    "table_coolr.display_hrefanchor()"
   ]
  },
  {
   "cell_type": "code",
   "execution_count": 16,
   "metadata": {},
   "outputs": [
    {
     "data": {
      "text/html": [
       "<a href=\"#Table:_dgdgs._g-groups\">Table: dgdgs. g-groups </a>"
      ],
      "text/plain": [
       "<IPython.core.display.HTML object>"
      ]
     },
     "metadata": {},
     "output_type": "display_data"
    }
   ],
   "source": [
    "table_dgdgs.display_hrefanchor()"
   ]
  },
  {
   "cell_type": "code",
   "execution_count": 17,
   "metadata": {},
   "outputs": [
    {
     "data": {
      "text/html": [
       "<a href=\"#Overall_absth\">Overall absth</a>"
      ],
      "text/plain": [
       "<IPython.core.display.HTML object>"
      ]
     },
     "execution_count": 17,
     "metadata": {},
     "output_type": "execute_result"
    }
   ],
   "source": [
    "s_abscom = 'Overall absth'\n",
    "display.HTML(climahtml.getHTML_hrefanchor(s_abscom))"
   ]
  },
  {
   "cell_type": "code",
   "execution_count": 18,
   "metadata": {},
   "outputs": [
    {
     "data": {
      "text/html": [
       "<a href=\"#g-group_summary\">g-group summary</a>"
      ],
      "text/plain": [
       "<IPython.core.display.HTML object>"
      ]
     },
     "execution_count": 18,
     "metadata": {},
     "output_type": "execute_result"
    }
   ],
   "source": [
    "s_ggroup_summary = 'g-group summary'\n",
    "display.HTML(climahtml.getHTML_hrefanchor(s_ggroup_summary))"
   ]
  },
  {
   "cell_type": "code",
   "execution_count": 19,
   "metadata": {
    "collapsed": true
   },
   "outputs": [],
   "source": [
    "#for g in range(1, 20 + 1):\n",
    "#    s = 'Table: cooling rate. g-group {}'.format(g)\n",
    "#    html = climahtml.getHTML_hrefanchor(s)\n",
    "#    display.display(display.HTML(html))"
   ]
  },
  {
   "cell_type": "code",
   "execution_count": 20,
   "metadata": {
    "scrolled": false
   },
   "outputs": [
    {
     "data": {
      "text/html": [
       "<a id=\"Figure:_cooling_rate_g-group_1\"></a>"
      ],
      "text/plain": [
       "<IPython.core.display.HTML object>"
      ]
     },
     "metadata": {},
     "output_type": "display_data"
    },
    {
     "data": {
      "text/markdown": [
       "# Figure: cooling rate g-group 1"
      ],
      "text/plain": [
       "<IPython.core.display.Markdown object>"
      ]
     },
     "metadata": {},
     "output_type": "display_data"
    },
    {
     "data": {
      "image/png": "[encoded data removed]",
      "text/plain": [
       "<matplotlib.figure.Figure at 0x2b17375b4550>"
      ]
     },
     "metadata": {},
     "output_type": "display_data"
    },
    {
     "data": {
      "text/html": [
       "<a id=\"Figure:_cooling_rate_g-group_2\"></a>"
      ],
      "text/plain": [
       "<IPython.core.display.HTML object>"
      ]
     },
     "metadata": {},
     "output_type": "display_data"
    },
    {
     "data": {
      "text/markdown": [
       "# Figure: cooling rate g-group 2"
      ],
      "text/plain": [
       "<IPython.core.display.Markdown object>"
      ]
     },
     "metadata": {},
     "output_type": "display_data"
    },
    {
     "data": {
      "image/png": "[encoded data removed]",
      "text/plain": [
       "<matplotlib.figure.Figure at 0x2b173a8fafd0>"
      ]
     },
     "metadata": {},
     "output_type": "display_data"
    },
    {
     "data": {
      "text/html": [
       "<a id=\"Figure:_cooling_rate_g-group_3\"></a>"
      ],
      "text/plain": [
       "<IPython.core.display.HTML object>"
      ]
     },
     "metadata": {},
     "output_type": "display_data"
    },
    {
     "data": {
      "text/markdown": [
       "# Figure: cooling rate g-group 3"
      ],
      "text/plain": [
       "<IPython.core.display.Markdown object>"
      ]
     },
     "metadata": {},
     "output_type": "display_data"
    },
    {
     "data": {
      "image/png": "[encoded data removed]",
      "text/plain": [
       "<matplotlib.figure.Figure at 0x2b17440d5710>"
      ]
     },
     "metadata": {},
     "output_type": "display_data"
    },
    {
     "data": {
      "text/html": [
       "<a id=\"Figure:_cooling_rate_g-group_4\"></a>"
      ],
      "text/plain": [
       "<IPython.core.display.HTML object>"
      ]
     },
     "metadata": {},
     "output_type": "display_data"
    },
    {
     "data": {
      "text/markdown": [
       "# Figure: cooling rate g-group 4"
      ],
      "text/plain": [
       "<IPython.core.display.Markdown object>"
      ]
     },
     "metadata": {},
     "output_type": "display_data"
    },
    {
     "data": {
      "image/png": "[encoded data removed]",
      "text/plain": [
       "<matplotlib.figure.Figure at 0x2b1744296128>"
      ]
     },
     "metadata": {},
     "output_type": "display_data"
    },
    {
     "data": {
      "text/html": [
       "<a id=\"Figure:_cooling_rate_g-group_5\"></a>"
      ],
      "text/plain": [
       "<IPython.core.display.HTML object>"
      ]
     },
     "metadata": {},
     "output_type": "display_data"
    },
    {
     "data": {
      "text/markdown": [
       "# Figure: cooling rate g-group 5"
      ],
      "text/plain": [
       "<IPython.core.display.Markdown object>"
      ]
     },
     "metadata": {},
     "output_type": "display_data"
    },
    {
     "data": {
      "image/png": "[encoded data removed]",
      "text/plain": [
       "<matplotlib.figure.Figure at 0x2b1744600208>"
      ]
     },
     "metadata": {},
     "output_type": "display_data"
    },
    {
     "data": {
      "text/html": [
       "<a id=\"Figure:_cooling_rate_g-group_6\"></a>"
      ],
      "text/plain": [
       "<IPython.core.display.HTML object>"
      ]
     },
     "metadata": {},
     "output_type": "display_data"
    },
    {
     "data": {
      "text/markdown": [
       "# Figure: cooling rate g-group 6"
      ],
      "text/plain": [
       "<IPython.core.display.Markdown object>"
      ]
     },
     "metadata": {},
     "output_type": "display_data"
    },
    {
     "data": {
      "image/png": "[encoded data removed]",
      "text/plain": [
       "<matplotlib.figure.Figure at 0x2b1744781ac8>"
      ]
     },
     "metadata": {},
     "output_type": "display_data"
    },
    {
     "data": {
      "text/html": [
       "<a id=\"Figure:_cooling_rate_g-group_total\"></a>"
      ],
      "text/plain": [
       "<IPython.core.display.HTML object>"
      ]
     },
     "metadata": {},
     "output_type": "display_data"
    },
    {
     "data": {
      "text/markdown": [
       "# Figure: cooling rate g-group total"
      ],
      "text/plain": [
       "<IPython.core.display.Markdown object>"
      ]
     },
     "metadata": {},
     "output_type": "display_data"
    },
    {
     "data": {
      "image/png": "[encoded data removed]",
      "text/plain": [
       "<matplotlib.figure.Figure at 0x2b1744ac3160>"
      ]
     },
     "metadata": {},
     "output_type": "display_data"
    }
   ],
   "source": [
    "matplotlib.rcParams.update({'font.size': 13,\n",
    "                            'grid.color': 'black',\n",
    "                            'axes.facecolor': 'white',\n",
    "                            'axes.edgecolor': 'black',\n",
    "                            'ytick.direction': 'out',\n",
    "                            'ytick.major.size': 6, 'ytick.major.width': 1,\n",
    "                            'ytick.minor.size': 3, 'ytick.minor.width': 1,\n",
    "                            'xtick.direction': 'out',\n",
    "                            'xtick.major.size': 6, 'xtick.major.size': 1,\n",
    "                            'xtick.minor.size': 3, 'xtick.minor.size': 1}) \n",
    "\n",
    "fig.plot(analysis)\n"
   ]
  },
  {
   "cell_type": "code",
   "execution_count": 21,
   "metadata": {
    "scrolled": false
   },
   "outputs": [
    {
     "data": {
      "text/html": [
       "<a id=\"Table:_flux._g-groups\"></a>"
      ],
      "text/plain": [
       "<IPython.core.display.HTML object>"
      ]
     },
     "metadata": {},
     "output_type": "display_data"
    },
    {
     "data": {
      "text/markdown": [
       "# Table: flux. g-groups "
      ],
      "text/plain": [
       "<IPython.core.display.Markdown object>"
      ]
     },
     "metadata": {},
     "output_type": "display_data"
    },
    {
     "name": "stdout",
     "output_type": "stream",
     "text": [
      "\n",
      "CRD\n"
     ]
    },
    {
     "data": {
      "text/html": [
       "<div>\n",
       "<style>\n",
       "    .dataframe thead tr:only-child th {\n",
       "        text-align: right;\n",
       "    }\n",
       "\n",
       "    .dataframe thead th {\n",
       "        text-align: left;\n",
       "    }\n",
       "\n",
       "    .dataframe tbody tr th {\n",
       "        vertical-align: top;\n",
       "    }\n",
       "</style>\n",
       "<table border=\"1\" class=\"dataframe\">\n",
       "  <thead>\n",
       "    <tr style=\"text-align: right;\">\n",
       "      <th></th>\n",
       "      <th></th>\n",
       "      <th></th>\n",
       "      <th>flug</th>\n",
       "      <th>fldg</th>\n",
       "      <th>fnetg</th>\n",
       "    </tr>\n",
       "    <tr>\n",
       "      <th>g</th>\n",
       "      <th>pressure</th>\n",
       "      <th>level</th>\n",
       "      <th></th>\n",
       "      <th></th>\n",
       "      <th></th>\n",
       "    </tr>\n",
       "  </thead>\n",
       "  <tbody>\n",
       "    <tr>\n",
       "      <th rowspan=\"2\" valign=\"top\">1</th>\n",
       "      <th>0.0</th>\n",
       "      <th>1</th>\n",
       "      <td>-0.000037</td>\n",
       "      <td>0.000000</td>\n",
       "      <td>-0.000037</td>\n",
       "    </tr>\n",
       "    <tr>\n",
       "      <th>1013.0</th>\n",
       "      <th>76</th>\n",
       "      <td>-0.003093</td>\n",
       "      <td>0.003043</td>\n",
       "      <td>-0.000049</td>\n",
       "    </tr>\n",
       "    <tr>\n",
       "      <th rowspan=\"2\" valign=\"top\">2</th>\n",
       "      <th>0.0</th>\n",
       "      <th>1</th>\n",
       "      <td>-0.003975</td>\n",
       "      <td>0.000000</td>\n",
       "      <td>-0.003975</td>\n",
       "    </tr>\n",
       "    <tr>\n",
       "      <th>1013.0</th>\n",
       "      <th>76</th>\n",
       "      <td>-0.025019</td>\n",
       "      <td>0.024621</td>\n",
       "      <td>-0.000397</td>\n",
       "    </tr>\n",
       "    <tr>\n",
       "      <th rowspan=\"2\" valign=\"top\">3</th>\n",
       "      <th>0.0</th>\n",
       "      <th>1</th>\n",
       "      <td>-0.034557</td>\n",
       "      <td>0.000000</td>\n",
       "      <td>-0.034557</td>\n",
       "    </tr>\n",
       "    <tr>\n",
       "      <th>1013.0</th>\n",
       "      <th>76</th>\n",
       "      <td>-0.193401</td>\n",
       "      <td>0.186391</td>\n",
       "      <td>-0.007011</td>\n",
       "    </tr>\n",
       "    <tr>\n",
       "      <th rowspan=\"2\" valign=\"top\">4</th>\n",
       "      <th>0.0</th>\n",
       "      <th>1</th>\n",
       "      <td>-0.022482</td>\n",
       "      <td>0.000000</td>\n",
       "      <td>-0.022482</td>\n",
       "    </tr>\n",
       "    <tr>\n",
       "      <th>1013.0</th>\n",
       "      <th>76</th>\n",
       "      <td>-0.442402</td>\n",
       "      <td>0.431574</td>\n",
       "      <td>-0.010827</td>\n",
       "    </tr>\n",
       "    <tr>\n",
       "      <th rowspan=\"2\" valign=\"top\">5</th>\n",
       "      <th>0.0</th>\n",
       "      <th>1</th>\n",
       "      <td>-0.321132</td>\n",
       "      <td>0.000000</td>\n",
       "      <td>-0.321132</td>\n",
       "    </tr>\n",
       "    <tr>\n",
       "      <th>1013.0</th>\n",
       "      <th>76</th>\n",
       "      <td>-0.744832</td>\n",
       "      <td>0.422315</td>\n",
       "      <td>-0.322517</td>\n",
       "    </tr>\n",
       "    <tr>\n",
       "      <th rowspan=\"2\" valign=\"top\">6</th>\n",
       "      <th>0.0</th>\n",
       "      <th>1</th>\n",
       "      <td>-5.100489</td>\n",
       "      <td>0.000000</td>\n",
       "      <td>-5.100489</td>\n",
       "    </tr>\n",
       "    <tr>\n",
       "      <th>1013.0</th>\n",
       "      <th>76</th>\n",
       "      <td>-5.216706</td>\n",
       "      <td>0.144946</td>\n",
       "      <td>-5.071760</td>\n",
       "    </tr>\n",
       "  </tbody>\n",
       "</table>\n",
       "</div>"
      ],
      "text/plain": [
       "                      flug      fldg     fnetg\n",
       "g pressure level                              \n",
       "1 0.0      1     -0.000037  0.000000 -0.000037\n",
       "  1013.0   76    -0.003093  0.003043 -0.000049\n",
       "2 0.0      1     -0.003975  0.000000 -0.003975\n",
       "  1013.0   76    -0.025019  0.024621 -0.000397\n",
       "3 0.0      1     -0.034557  0.000000 -0.034557\n",
       "  1013.0   76    -0.193401  0.186391 -0.007011\n",
       "4 0.0      1     -0.022482  0.000000 -0.022482\n",
       "  1013.0   76    -0.442402  0.431574 -0.010827\n",
       "5 0.0      1     -0.321132  0.000000 -0.321132\n",
       "  1013.0   76    -0.744832  0.422315 -0.322517\n",
       "6 0.0      1     -5.100489  0.000000 -5.100489\n",
       "  1013.0   76    -5.216706  0.144946 -5.071760"
      ]
     },
     "metadata": {},
     "output_type": "display_data"
    },
    {
     "name": "stdout",
     "output_type": "stream",
     "text": [
      "\n",
      "WGT_IGG10\n"
     ]
    },
    {
     "data": {
      "text/html": [
       "<div>\n",
       "<style>\n",
       "    .dataframe thead tr:only-child th {\n",
       "        text-align: right;\n",
       "    }\n",
       "\n",
       "    .dataframe thead th {\n",
       "        text-align: left;\n",
       "    }\n",
       "\n",
       "    .dataframe tbody tr th {\n",
       "        vertical-align: top;\n",
       "    }\n",
       "</style>\n",
       "<table border=\"1\" class=\"dataframe\">\n",
       "  <thead>\n",
       "    <tr style=\"text-align: right;\">\n",
       "      <th></th>\n",
       "      <th></th>\n",
       "      <th></th>\n",
       "      <th>flug</th>\n",
       "      <th>fldg</th>\n",
       "      <th>fnetg</th>\n",
       "    </tr>\n",
       "    <tr>\n",
       "      <th>g</th>\n",
       "      <th>pressure</th>\n",
       "      <th>level</th>\n",
       "      <th></th>\n",
       "      <th></th>\n",
       "      <th></th>\n",
       "    </tr>\n",
       "  </thead>\n",
       "  <tbody>\n",
       "    <tr>\n",
       "      <th rowspan=\"2\" valign=\"top\">1</th>\n",
       "      <th>0.0</th>\n",
       "      <th>1</th>\n",
       "      <td>-0.000042</td>\n",
       "      <td>0.000000</td>\n",
       "      <td>-0.000042</td>\n",
       "    </tr>\n",
       "    <tr>\n",
       "      <th>1013.0</th>\n",
       "      <th>76</th>\n",
       "      <td>-0.002590</td>\n",
       "      <td>0.002552</td>\n",
       "      <td>-0.000038</td>\n",
       "    </tr>\n",
       "    <tr>\n",
       "      <th rowspan=\"2\" valign=\"top\">2</th>\n",
       "      <th>0.0</th>\n",
       "      <th>1</th>\n",
       "      <td>-0.001323</td>\n",
       "      <td>0.000000</td>\n",
       "      <td>-0.001323</td>\n",
       "    </tr>\n",
       "    <tr>\n",
       "      <th>1013.0</th>\n",
       "      <th>76</th>\n",
       "      <td>-0.021240</td>\n",
       "      <td>0.020929</td>\n",
       "      <td>-0.000311</td>\n",
       "    </tr>\n",
       "    <tr>\n",
       "      <th rowspan=\"2\" valign=\"top\">3</th>\n",
       "      <th>0.0</th>\n",
       "      <th>1</th>\n",
       "      <td>-0.039800</td>\n",
       "      <td>0.000000</td>\n",
       "      <td>-0.039800</td>\n",
       "    </tr>\n",
       "    <tr>\n",
       "      <th>1013.0</th>\n",
       "      <th>76</th>\n",
       "      <td>-0.166598</td>\n",
       "      <td>0.164160</td>\n",
       "      <td>-0.002439</td>\n",
       "    </tr>\n",
       "    <tr>\n",
       "      <th rowspan=\"2\" valign=\"top\">4</th>\n",
       "      <th>0.0</th>\n",
       "      <th>1</th>\n",
       "      <td>-0.024859</td>\n",
       "      <td>0.000000</td>\n",
       "      <td>-0.024859</td>\n",
       "    </tr>\n",
       "    <tr>\n",
       "      <th>1013.0</th>\n",
       "      <th>76</th>\n",
       "      <td>-0.383356</td>\n",
       "      <td>0.377744</td>\n",
       "      <td>-0.005611</td>\n",
       "    </tr>\n",
       "    <tr>\n",
       "      <th rowspan=\"2\" valign=\"top\">5</th>\n",
       "      <th>0.0</th>\n",
       "      <th>1</th>\n",
       "      <td>-0.131056</td>\n",
       "      <td>0.000000</td>\n",
       "      <td>-0.131056</td>\n",
       "    </tr>\n",
       "    <tr>\n",
       "      <th>1013.0</th>\n",
       "      <th>76</th>\n",
       "      <td>-0.742065</td>\n",
       "      <td>0.665481</td>\n",
       "      <td>-0.076583</td>\n",
       "    </tr>\n",
       "    <tr>\n",
       "      <th rowspan=\"2\" valign=\"top\">6</th>\n",
       "      <th>0.0</th>\n",
       "      <th>1</th>\n",
       "      <td>-5.201335</td>\n",
       "      <td>0.000000</td>\n",
       "      <td>-5.201335</td>\n",
       "    </tr>\n",
       "    <tr>\n",
       "      <th>1013.0</th>\n",
       "      <th>76</th>\n",
       "      <td>-5.309604</td>\n",
       "      <td>0.129938</td>\n",
       "      <td>-5.179666</td>\n",
       "    </tr>\n",
       "  </tbody>\n",
       "</table>\n",
       "</div>"
      ],
      "text/plain": [
       "                      flug      fldg     fnetg\n",
       "g pressure level                              \n",
       "1 0.0      1     -0.000042  0.000000 -0.000042\n",
       "  1013.0   76    -0.002590  0.002552 -0.000038\n",
       "2 0.0      1     -0.001323  0.000000 -0.001323\n",
       "  1013.0   76    -0.021240  0.020929 -0.000311\n",
       "3 0.0      1     -0.039800  0.000000 -0.039800\n",
       "  1013.0   76    -0.166598  0.164160 -0.002439\n",
       "4 0.0      1     -0.024859  0.000000 -0.024859\n",
       "  1013.0   76    -0.383356  0.377744 -0.005611\n",
       "5 0.0      1     -0.131056  0.000000 -0.131056\n",
       "  1013.0   76    -0.742065  0.665481 -0.076583\n",
       "6 0.0      1     -5.201335  0.000000 -5.201335\n",
       "  1013.0   76    -5.309604  0.129938 -5.179666"
      ]
     },
     "metadata": {},
     "output_type": "display_data"
    },
    {
     "name": "stdout",
     "output_type": "stream",
     "text": [
      "\n",
      "WGT_IGG1\n"
     ]
    },
    {
     "data": {
      "text/html": [
       "<div>\n",
       "<style>\n",
       "    .dataframe thead tr:only-child th {\n",
       "        text-align: right;\n",
       "    }\n",
       "\n",
       "    .dataframe thead th {\n",
       "        text-align: left;\n",
       "    }\n",
       "\n",
       "    .dataframe tbody tr th {\n",
       "        vertical-align: top;\n",
       "    }\n",
       "</style>\n",
       "<table border=\"1\" class=\"dataframe\">\n",
       "  <thead>\n",
       "    <tr style=\"text-align: right;\">\n",
       "      <th></th>\n",
       "      <th></th>\n",
       "      <th></th>\n",
       "      <th>flug</th>\n",
       "      <th>fldg</th>\n",
       "      <th>fnetg</th>\n",
       "    </tr>\n",
       "    <tr>\n",
       "      <th>g</th>\n",
       "      <th>pressure</th>\n",
       "      <th>level</th>\n",
       "      <th></th>\n",
       "      <th></th>\n",
       "      <th></th>\n",
       "    </tr>\n",
       "  </thead>\n",
       "  <tbody>\n",
       "    <tr>\n",
       "      <th rowspan=\"2\" valign=\"top\">1</th>\n",
       "      <th>0.0</th>\n",
       "      <th>1</th>\n",
       "      <td>-0.000042</td>\n",
       "      <td>0.000000</td>\n",
       "      <td>-0.000042</td>\n",
       "    </tr>\n",
       "    <tr>\n",
       "      <th>1013.0</th>\n",
       "      <th>76</th>\n",
       "      <td>-0.002590</td>\n",
       "      <td>0.002552</td>\n",
       "      <td>-0.000038</td>\n",
       "    </tr>\n",
       "    <tr>\n",
       "      <th rowspan=\"2\" valign=\"top\">2</th>\n",
       "      <th>0.0</th>\n",
       "      <th>1</th>\n",
       "      <td>-0.001440</td>\n",
       "      <td>0.000000</td>\n",
       "      <td>-0.001440</td>\n",
       "    </tr>\n",
       "    <tr>\n",
       "      <th>1013.0</th>\n",
       "      <th>76</th>\n",
       "      <td>-0.021240</td>\n",
       "      <td>0.020929</td>\n",
       "      <td>-0.000311</td>\n",
       "    </tr>\n",
       "    <tr>\n",
       "      <th rowspan=\"2\" valign=\"top\">3</th>\n",
       "      <th>0.0</th>\n",
       "      <th>1</th>\n",
       "      <td>-0.038784</td>\n",
       "      <td>0.000000</td>\n",
       "      <td>-0.038784</td>\n",
       "    </tr>\n",
       "    <tr>\n",
       "      <th>1013.0</th>\n",
       "      <th>76</th>\n",
       "      <td>-0.166598</td>\n",
       "      <td>0.164160</td>\n",
       "      <td>-0.002439</td>\n",
       "    </tr>\n",
       "    <tr>\n",
       "      <th rowspan=\"2\" valign=\"top\">4</th>\n",
       "      <th>0.0</th>\n",
       "      <th>1</th>\n",
       "      <td>-0.024960</td>\n",
       "      <td>0.000000</td>\n",
       "      <td>-0.024960</td>\n",
       "    </tr>\n",
       "    <tr>\n",
       "      <th>1013.0</th>\n",
       "      <th>76</th>\n",
       "      <td>-0.383356</td>\n",
       "      <td>0.377744</td>\n",
       "      <td>-0.005611</td>\n",
       "    </tr>\n",
       "    <tr>\n",
       "      <th rowspan=\"2\" valign=\"top\">5</th>\n",
       "      <th>0.0</th>\n",
       "      <th>1</th>\n",
       "      <td>-0.138522</td>\n",
       "      <td>0.000000</td>\n",
       "      <td>-0.138522</td>\n",
       "    </tr>\n",
       "    <tr>\n",
       "      <th>1013.0</th>\n",
       "      <th>76</th>\n",
       "      <td>-0.742065</td>\n",
       "      <td>0.657784</td>\n",
       "      <td>-0.084281</td>\n",
       "    </tr>\n",
       "    <tr>\n",
       "      <th rowspan=\"2\" valign=\"top\">6</th>\n",
       "      <th>0.0</th>\n",
       "      <th>1</th>\n",
       "      <td>-5.195453</td>\n",
       "      <td>0.000000</td>\n",
       "      <td>-5.195453</td>\n",
       "    </tr>\n",
       "    <tr>\n",
       "      <th>1013.0</th>\n",
       "      <th>76</th>\n",
       "      <td>-5.309604</td>\n",
       "      <td>0.136721</td>\n",
       "      <td>-5.172884</td>\n",
       "    </tr>\n",
       "  </tbody>\n",
       "</table>\n",
       "</div>"
      ],
      "text/plain": [
       "                      flug      fldg     fnetg\n",
       "g pressure level                              \n",
       "1 0.0      1     -0.000042  0.000000 -0.000042\n",
       "  1013.0   76    -0.002590  0.002552 -0.000038\n",
       "2 0.0      1     -0.001440  0.000000 -0.001440\n",
       "  1013.0   76    -0.021240  0.020929 -0.000311\n",
       "3 0.0      1     -0.038784  0.000000 -0.038784\n",
       "  1013.0   76    -0.166598  0.164160 -0.002439\n",
       "4 0.0      1     -0.024960  0.000000 -0.024960\n",
       "  1013.0   76    -0.383356  0.377744 -0.005611\n",
       "5 0.0      1     -0.138522  0.000000 -0.138522\n",
       "  1013.0   76    -0.742065  0.657784 -0.084281\n",
       "6 0.0      1     -5.195453  0.000000 -5.195453\n",
       "  1013.0   76    -5.309604  0.136721 -5.172884"
      ]
     },
     "metadata": {},
     "output_type": "display_data"
    },
    {
     "name": "stdout",
     "output_type": "stream",
     "text": [
      "\n",
      "WGT_IGG10 - CRD\n"
     ]
    },
    {
     "data": {
      "text/html": [
       "<div>\n",
       "<style>\n",
       "    .dataframe thead tr:only-child th {\n",
       "        text-align: right;\n",
       "    }\n",
       "\n",
       "    .dataframe thead th {\n",
       "        text-align: left;\n",
       "    }\n",
       "\n",
       "    .dataframe tbody tr th {\n",
       "        vertical-align: top;\n",
       "    }\n",
       "</style>\n",
       "<table border=\"1\" class=\"dataframe\">\n",
       "  <thead>\n",
       "    <tr style=\"text-align: right;\">\n",
       "      <th></th>\n",
       "      <th></th>\n",
       "      <th></th>\n",
       "      <th>flug</th>\n",
       "      <th>fldg</th>\n",
       "      <th>fnetg</th>\n",
       "    </tr>\n",
       "    <tr>\n",
       "      <th>g</th>\n",
       "      <th>pressure</th>\n",
       "      <th>level</th>\n",
       "      <th></th>\n",
       "      <th></th>\n",
       "      <th></th>\n",
       "    </tr>\n",
       "  </thead>\n",
       "  <tbody>\n",
       "    <tr>\n",
       "      <th rowspan=\"2\" valign=\"top\">1</th>\n",
       "      <th>0.0</th>\n",
       "      <th>1</th>\n",
       "      <td>-0.000005</td>\n",
       "      <td>0.000000</td>\n",
       "      <td>-0.000005</td>\n",
       "    </tr>\n",
       "    <tr>\n",
       "      <th>1013.0</th>\n",
       "      <th>76</th>\n",
       "      <td>0.000503</td>\n",
       "      <td>-0.000491</td>\n",
       "      <td>0.000011</td>\n",
       "    </tr>\n",
       "    <tr>\n",
       "      <th rowspan=\"2\" valign=\"top\">2</th>\n",
       "      <th>0.0</th>\n",
       "      <th>1</th>\n",
       "      <td>0.002652</td>\n",
       "      <td>0.000000</td>\n",
       "      <td>0.002652</td>\n",
       "    </tr>\n",
       "    <tr>\n",
       "      <th>1013.0</th>\n",
       "      <th>76</th>\n",
       "      <td>0.003779</td>\n",
       "      <td>-0.003693</td>\n",
       "      <td>0.000086</td>\n",
       "    </tr>\n",
       "    <tr>\n",
       "      <th rowspan=\"2\" valign=\"top\">3</th>\n",
       "      <th>0.0</th>\n",
       "      <th>1</th>\n",
       "      <td>-0.005243</td>\n",
       "      <td>0.000000</td>\n",
       "      <td>-0.005243</td>\n",
       "    </tr>\n",
       "    <tr>\n",
       "      <th>1013.0</th>\n",
       "      <th>76</th>\n",
       "      <td>0.026803</td>\n",
       "      <td>-0.022231</td>\n",
       "      <td>0.004572</td>\n",
       "    </tr>\n",
       "    <tr>\n",
       "      <th rowspan=\"2\" valign=\"top\">4</th>\n",
       "      <th>0.0</th>\n",
       "      <th>1</th>\n",
       "      <td>-0.002376</td>\n",
       "      <td>0.000000</td>\n",
       "      <td>-0.002376</td>\n",
       "    </tr>\n",
       "    <tr>\n",
       "      <th>1013.0</th>\n",
       "      <th>76</th>\n",
       "      <td>0.059046</td>\n",
       "      <td>-0.053830</td>\n",
       "      <td>0.005216</td>\n",
       "    </tr>\n",
       "    <tr>\n",
       "      <th rowspan=\"2\" valign=\"top\">5</th>\n",
       "      <th>0.0</th>\n",
       "      <th>1</th>\n",
       "      <td>0.190076</td>\n",
       "      <td>0.000000</td>\n",
       "      <td>0.190076</td>\n",
       "    </tr>\n",
       "    <tr>\n",
       "      <th>1013.0</th>\n",
       "      <th>76</th>\n",
       "      <td>0.002767</td>\n",
       "      <td>0.243166</td>\n",
       "      <td>0.245933</td>\n",
       "    </tr>\n",
       "    <tr>\n",
       "      <th rowspan=\"2\" valign=\"top\">6</th>\n",
       "      <th>0.0</th>\n",
       "      <th>1</th>\n",
       "      <td>-0.100846</td>\n",
       "      <td>0.000000</td>\n",
       "      <td>-0.100846</td>\n",
       "    </tr>\n",
       "    <tr>\n",
       "      <th>1013.0</th>\n",
       "      <th>76</th>\n",
       "      <td>-0.092898</td>\n",
       "      <td>-0.015008</td>\n",
       "      <td>-0.107906</td>\n",
       "    </tr>\n",
       "  </tbody>\n",
       "</table>\n",
       "</div>"
      ],
      "text/plain": [
       "                      flug      fldg     fnetg\n",
       "g pressure level                              \n",
       "1 0.0      1     -0.000005  0.000000 -0.000005\n",
       "  1013.0   76     0.000503 -0.000491  0.000011\n",
       "2 0.0      1      0.002652  0.000000  0.002652\n",
       "  1013.0   76     0.003779 -0.003693  0.000086\n",
       "3 0.0      1     -0.005243  0.000000 -0.005243\n",
       "  1013.0   76     0.026803 -0.022231  0.004572\n",
       "4 0.0      1     -0.002376  0.000000 -0.002376\n",
       "  1013.0   76     0.059046 -0.053830  0.005216\n",
       "5 0.0      1      0.190076  0.000000  0.190076\n",
       "  1013.0   76     0.002767  0.243166  0.245933\n",
       "6 0.0      1     -0.100846  0.000000 -0.100846\n",
       "  1013.0   76    -0.092898 -0.015008 -0.107906"
      ]
     },
     "metadata": {},
     "output_type": "display_data"
    },
    {
     "name": "stdout",
     "output_type": "stream",
     "text": [
      "\n",
      "WGT_IGG1 - CRD\n"
     ]
    },
    {
     "data": {
      "text/html": [
       "<div>\n",
       "<style>\n",
       "    .dataframe thead tr:only-child th {\n",
       "        text-align: right;\n",
       "    }\n",
       "\n",
       "    .dataframe thead th {\n",
       "        text-align: left;\n",
       "    }\n",
       "\n",
       "    .dataframe tbody tr th {\n",
       "        vertical-align: top;\n",
       "    }\n",
       "</style>\n",
       "<table border=\"1\" class=\"dataframe\">\n",
       "  <thead>\n",
       "    <tr style=\"text-align: right;\">\n",
       "      <th></th>\n",
       "      <th></th>\n",
       "      <th></th>\n",
       "      <th>flug</th>\n",
       "      <th>fldg</th>\n",
       "      <th>fnetg</th>\n",
       "    </tr>\n",
       "    <tr>\n",
       "      <th>g</th>\n",
       "      <th>pressure</th>\n",
       "      <th>level</th>\n",
       "      <th></th>\n",
       "      <th></th>\n",
       "      <th></th>\n",
       "    </tr>\n",
       "  </thead>\n",
       "  <tbody>\n",
       "    <tr>\n",
       "      <th rowspan=\"2\" valign=\"top\">1</th>\n",
       "      <th>0.0</th>\n",
       "      <th>1</th>\n",
       "      <td>-0.000006</td>\n",
       "      <td>0.000000</td>\n",
       "      <td>-0.000006</td>\n",
       "    </tr>\n",
       "    <tr>\n",
       "      <th>1013.0</th>\n",
       "      <th>76</th>\n",
       "      <td>0.000503</td>\n",
       "      <td>-0.000491</td>\n",
       "      <td>0.000011</td>\n",
       "    </tr>\n",
       "    <tr>\n",
       "      <th rowspan=\"2\" valign=\"top\">2</th>\n",
       "      <th>0.0</th>\n",
       "      <th>1</th>\n",
       "      <td>0.002535</td>\n",
       "      <td>0.000000</td>\n",
       "      <td>0.002535</td>\n",
       "    </tr>\n",
       "    <tr>\n",
       "      <th>1013.0</th>\n",
       "      <th>76</th>\n",
       "      <td>0.003779</td>\n",
       "      <td>-0.003693</td>\n",
       "      <td>0.000086</td>\n",
       "    </tr>\n",
       "    <tr>\n",
       "      <th rowspan=\"2\" valign=\"top\">3</th>\n",
       "      <th>0.0</th>\n",
       "      <th>1</th>\n",
       "      <td>-0.004227</td>\n",
       "      <td>0.000000</td>\n",
       "      <td>-0.004227</td>\n",
       "    </tr>\n",
       "    <tr>\n",
       "      <th>1013.0</th>\n",
       "      <th>76</th>\n",
       "      <td>0.026803</td>\n",
       "      <td>-0.022231</td>\n",
       "      <td>0.004572</td>\n",
       "    </tr>\n",
       "    <tr>\n",
       "      <th rowspan=\"2\" valign=\"top\">4</th>\n",
       "      <th>0.0</th>\n",
       "      <th>1</th>\n",
       "      <td>-0.002478</td>\n",
       "      <td>0.000000</td>\n",
       "      <td>-0.002478</td>\n",
       "    </tr>\n",
       "    <tr>\n",
       "      <th>1013.0</th>\n",
       "      <th>76</th>\n",
       "      <td>0.059046</td>\n",
       "      <td>-0.053830</td>\n",
       "      <td>0.005216</td>\n",
       "    </tr>\n",
       "    <tr>\n",
       "      <th rowspan=\"2\" valign=\"top\">5</th>\n",
       "      <th>0.0</th>\n",
       "      <th>1</th>\n",
       "      <td>0.182610</td>\n",
       "      <td>0.000000</td>\n",
       "      <td>0.182610</td>\n",
       "    </tr>\n",
       "    <tr>\n",
       "      <th>1013.0</th>\n",
       "      <th>76</th>\n",
       "      <td>0.002767</td>\n",
       "      <td>0.235469</td>\n",
       "      <td>0.238236</td>\n",
       "    </tr>\n",
       "    <tr>\n",
       "      <th rowspan=\"2\" valign=\"top\">6</th>\n",
       "      <th>0.0</th>\n",
       "      <th>1</th>\n",
       "      <td>-0.094964</td>\n",
       "      <td>0.000000</td>\n",
       "      <td>-0.094964</td>\n",
       "    </tr>\n",
       "    <tr>\n",
       "      <th>1013.0</th>\n",
       "      <th>76</th>\n",
       "      <td>-0.092898</td>\n",
       "      <td>-0.008226</td>\n",
       "      <td>-0.101124</td>\n",
       "    </tr>\n",
       "  </tbody>\n",
       "</table>\n",
       "</div>"
      ],
      "text/plain": [
       "                      flug      fldg     fnetg\n",
       "g pressure level                              \n",
       "1 0.0      1     -0.000006  0.000000 -0.000006\n",
       "  1013.0   76     0.000503 -0.000491  0.000011\n",
       "2 0.0      1      0.002535  0.000000  0.002535\n",
       "  1013.0   76     0.003779 -0.003693  0.000086\n",
       "3 0.0      1     -0.004227  0.000000 -0.004227\n",
       "  1013.0   76     0.026803 -0.022231  0.004572\n",
       "4 0.0      1     -0.002478  0.000000 -0.002478\n",
       "  1013.0   76     0.059046 -0.053830  0.005216\n",
       "5 0.0      1      0.182610  0.000000  0.182610\n",
       "  1013.0   76     0.002767  0.235469  0.238236\n",
       "6 0.0      1     -0.094964  0.000000 -0.094964\n",
       "  1013.0   76    -0.092898 -0.008226 -0.101124"
      ]
     },
     "metadata": {},
     "output_type": "display_data"
    },
    {
     "data": {
      "text/html": [
       "<a id=\"Table:_cooling_rate._g-groups\"></a>"
      ],
      "text/plain": [
       "<IPython.core.display.HTML object>"
      ]
     },
     "metadata": {},
     "output_type": "display_data"
    },
    {
     "data": {
      "text/markdown": [
       "# Table: cooling rate. g-groups "
      ],
      "text/plain": [
       "<IPython.core.display.Markdown object>"
      ]
     },
     "metadata": {},
     "output_type": "display_data"
    },
    {
     "name": "stdout",
     "output_type": "stream",
     "text": [
      "\n",
      "CRD\n"
     ]
    },
    {
     "data": {
      "text/html": [
       "<div>\n",
       "<style>\n",
       "    .dataframe thead tr:only-child th {\n",
       "        text-align: right;\n",
       "    }\n",
       "\n",
       "    .dataframe thead th {\n",
       "        text-align: left;\n",
       "    }\n",
       "\n",
       "    .dataframe tbody tr th {\n",
       "        vertical-align: top;\n",
       "    }\n",
       "</style>\n",
       "<table border=\"1\" class=\"dataframe\">\n",
       "  <thead>\n",
       "    <tr style=\"text-align: right;\">\n",
       "      <th></th>\n",
       "      <th></th>\n",
       "      <th></th>\n",
       "      <th>coolrg</th>\n",
       "    </tr>\n",
       "    <tr>\n",
       "      <th>g</th>\n",
       "      <th>pressure</th>\n",
       "      <th>layer</th>\n",
       "      <th></th>\n",
       "    </tr>\n",
       "  </thead>\n",
       "  <tbody>\n",
       "    <tr>\n",
       "      <th rowspan=\"2\" valign=\"top\">1</th>\n",
       "      <th>0.000312</th>\n",
       "      <th>1</th>\n",
       "      <td>0.157162</td>\n",
       "    </tr>\n",
       "    <tr>\n",
       "      <th>1001.112500</th>\n",
       "      <th>75</th>\n",
       "      <td>0.000017</td>\n",
       "    </tr>\n",
       "    <tr>\n",
       "      <th rowspan=\"2\" valign=\"top\">2</th>\n",
       "      <th>0.000312</th>\n",
       "      <th>1</th>\n",
       "      <td>-0.012142</td>\n",
       "    </tr>\n",
       "    <tr>\n",
       "      <th>1001.112500</th>\n",
       "      <th>75</th>\n",
       "      <td>0.000138</td>\n",
       "    </tr>\n",
       "    <tr>\n",
       "      <th rowspan=\"2\" valign=\"top\">3</th>\n",
       "      <th>0.000312</th>\n",
       "      <th>1</th>\n",
       "      <td>-0.012097</td>\n",
       "    </tr>\n",
       "    <tr>\n",
       "      <th>1001.112500</th>\n",
       "      <th>75</th>\n",
       "      <td>0.001111</td>\n",
       "    </tr>\n",
       "    <tr>\n",
       "      <th rowspan=\"2\" valign=\"top\">4</th>\n",
       "      <th>0.000312</th>\n",
       "      <th>1</th>\n",
       "      <td>-0.000044</td>\n",
       "    </tr>\n",
       "    <tr>\n",
       "      <th>1001.112500</th>\n",
       "      <th>75</th>\n",
       "      <td>0.002527</td>\n",
       "    </tr>\n",
       "    <tr>\n",
       "      <th rowspan=\"2\" valign=\"top\">5</th>\n",
       "      <th>0.000312</th>\n",
       "      <th>1</th>\n",
       "      <td>-0.000378</td>\n",
       "    </tr>\n",
       "    <tr>\n",
       "      <th>1001.112500</th>\n",
       "      <th>75</th>\n",
       "      <td>0.005351</td>\n",
       "    </tr>\n",
       "    <tr>\n",
       "      <th rowspan=\"2\" valign=\"top\">6</th>\n",
       "      <th>0.000312</th>\n",
       "      <th>1</th>\n",
       "      <td>-0.000027</td>\n",
       "    </tr>\n",
       "    <tr>\n",
       "      <th>1001.112500</th>\n",
       "      <th>75</th>\n",
       "      <td>0.003736</td>\n",
       "    </tr>\n",
       "  </tbody>\n",
       "</table>\n",
       "</div>"
      ],
      "text/plain": [
       "                       coolrg\n",
       "g pressure    layer          \n",
       "1 0.000312    1      0.157162\n",
       "  1001.112500 75     0.000017\n",
       "2 0.000312    1     -0.012142\n",
       "  1001.112500 75     0.000138\n",
       "3 0.000312    1     -0.012097\n",
       "  1001.112500 75     0.001111\n",
       "4 0.000312    1     -0.000044\n",
       "  1001.112500 75     0.002527\n",
       "5 0.000312    1     -0.000378\n",
       "  1001.112500 75     0.005351\n",
       "6 0.000312    1     -0.000027\n",
       "  1001.112500 75     0.003736"
      ]
     },
     "metadata": {},
     "output_type": "display_data"
    },
    {
     "name": "stdout",
     "output_type": "stream",
     "text": [
      "\n",
      "WGT_IGG10\n"
     ]
    },
    {
     "data": {
      "text/html": [
       "<div>\n",
       "<style>\n",
       "    .dataframe thead tr:only-child th {\n",
       "        text-align: right;\n",
       "    }\n",
       "\n",
       "    .dataframe thead th {\n",
       "        text-align: left;\n",
       "    }\n",
       "\n",
       "    .dataframe tbody tr th {\n",
       "        vertical-align: top;\n",
       "    }\n",
       "</style>\n",
       "<table border=\"1\" class=\"dataframe\">\n",
       "  <thead>\n",
       "    <tr style=\"text-align: right;\">\n",
       "      <th></th>\n",
       "      <th></th>\n",
       "      <th></th>\n",
       "      <th>coolrg</th>\n",
       "    </tr>\n",
       "    <tr>\n",
       "      <th>g</th>\n",
       "      <th>pressure</th>\n",
       "      <th>layer</th>\n",
       "      <th></th>\n",
       "    </tr>\n",
       "  </thead>\n",
       "  <tbody>\n",
       "    <tr>\n",
       "      <th rowspan=\"2\" valign=\"top\">1</th>\n",
       "      <th>0.000312</th>\n",
       "      <th>1</th>\n",
       "      <td>0.330762</td>\n",
       "    </tr>\n",
       "    <tr>\n",
       "      <th>1001.112500</th>\n",
       "      <th>75</th>\n",
       "      <td>0.000013</td>\n",
       "    </tr>\n",
       "    <tr>\n",
       "      <th rowspan=\"2\" valign=\"top\">2</th>\n",
       "      <th>0.000312</th>\n",
       "      <th>1</th>\n",
       "      <td>-0.038056</td>\n",
       "    </tr>\n",
       "    <tr>\n",
       "      <th>1001.112500</th>\n",
       "      <th>75</th>\n",
       "      <td>0.000109</td>\n",
       "    </tr>\n",
       "    <tr>\n",
       "      <th rowspan=\"2\" valign=\"top\">3</th>\n",
       "      <th>0.000312</th>\n",
       "      <th>1</th>\n",
       "      <td>-0.007844</td>\n",
       "    </tr>\n",
       "    <tr>\n",
       "      <th>1001.112500</th>\n",
       "      <th>75</th>\n",
       "      <td>0.000855</td>\n",
       "    </tr>\n",
       "    <tr>\n",
       "      <th rowspan=\"2\" valign=\"top\">4</th>\n",
       "      <th>0.000312</th>\n",
       "      <th>1</th>\n",
       "      <td>-0.000020</td>\n",
       "    </tr>\n",
       "    <tr>\n",
       "      <th>1001.112500</th>\n",
       "      <th>75</th>\n",
       "      <td>0.001968</td>\n",
       "    </tr>\n",
       "    <tr>\n",
       "      <th rowspan=\"2\" valign=\"top\">5</th>\n",
       "      <th>0.000312</th>\n",
       "      <th>1</th>\n",
       "      <td>-0.000089</td>\n",
       "    </tr>\n",
       "    <tr>\n",
       "      <th>1001.112500</th>\n",
       "      <th>75</th>\n",
       "      <td>0.007896</td>\n",
       "    </tr>\n",
       "    <tr>\n",
       "      <th rowspan=\"2\" valign=\"top\">6</th>\n",
       "      <th>0.000312</th>\n",
       "      <th>1</th>\n",
       "      <td>-0.000024</td>\n",
       "    </tr>\n",
       "    <tr>\n",
       "      <th>1001.112500</th>\n",
       "      <th>75</th>\n",
       "      <td>0.003665</td>\n",
       "    </tr>\n",
       "  </tbody>\n",
       "</table>\n",
       "</div>"
      ],
      "text/plain": [
       "                       coolrg\n",
       "g pressure    layer          \n",
       "1 0.000312    1      0.330762\n",
       "  1001.112500 75     0.000013\n",
       "2 0.000312    1     -0.038056\n",
       "  1001.112500 75     0.000109\n",
       "3 0.000312    1     -0.007844\n",
       "  1001.112500 75     0.000855\n",
       "4 0.000312    1     -0.000020\n",
       "  1001.112500 75     0.001968\n",
       "5 0.000312    1     -0.000089\n",
       "  1001.112500 75     0.007896\n",
       "6 0.000312    1     -0.000024\n",
       "  1001.112500 75     0.003665"
      ]
     },
     "metadata": {},
     "output_type": "display_data"
    },
    {
     "name": "stdout",
     "output_type": "stream",
     "text": [
      "\n",
      "WGT_IGG1\n"
     ]
    },
    {
     "data": {
      "text/html": [
       "<div>\n",
       "<style>\n",
       "    .dataframe thead tr:only-child th {\n",
       "        text-align: right;\n",
       "    }\n",
       "\n",
       "    .dataframe thead th {\n",
       "        text-align: left;\n",
       "    }\n",
       "\n",
       "    .dataframe tbody tr th {\n",
       "        vertical-align: top;\n",
       "    }\n",
       "</style>\n",
       "<table border=\"1\" class=\"dataframe\">\n",
       "  <thead>\n",
       "    <tr style=\"text-align: right;\">\n",
       "      <th></th>\n",
       "      <th></th>\n",
       "      <th></th>\n",
       "      <th>coolrg</th>\n",
       "    </tr>\n",
       "    <tr>\n",
       "      <th>g</th>\n",
       "      <th>pressure</th>\n",
       "      <th>layer</th>\n",
       "      <th></th>\n",
       "    </tr>\n",
       "  </thead>\n",
       "  <tbody>\n",
       "    <tr>\n",
       "      <th rowspan=\"2\" valign=\"top\">1</th>\n",
       "      <th>0.000312</th>\n",
       "      <th>1</th>\n",
       "      <td>0.323691</td>\n",
       "    </tr>\n",
       "    <tr>\n",
       "      <th>1001.112500</th>\n",
       "      <th>75</th>\n",
       "      <td>0.000013</td>\n",
       "    </tr>\n",
       "    <tr>\n",
       "      <th rowspan=\"2\" valign=\"top\">2</th>\n",
       "      <th>0.000312</th>\n",
       "      <th>1</th>\n",
       "      <td>-0.033967</td>\n",
       "    </tr>\n",
       "    <tr>\n",
       "      <th>1001.112500</th>\n",
       "      <th>75</th>\n",
       "      <td>0.000109</td>\n",
       "    </tr>\n",
       "    <tr>\n",
       "      <th rowspan=\"2\" valign=\"top\">3</th>\n",
       "      <th>0.000312</th>\n",
       "      <th>1</th>\n",
       "      <td>-0.009742</td>\n",
       "    </tr>\n",
       "    <tr>\n",
       "      <th>1001.112500</th>\n",
       "      <th>75</th>\n",
       "      <td>0.000855</td>\n",
       "    </tr>\n",
       "    <tr>\n",
       "      <th rowspan=\"2\" valign=\"top\">4</th>\n",
       "      <th>0.000312</th>\n",
       "      <th>1</th>\n",
       "      <td>-0.000035</td>\n",
       "    </tr>\n",
       "    <tr>\n",
       "      <th>1001.112500</th>\n",
       "      <th>75</th>\n",
       "      <td>0.001968</td>\n",
       "    </tr>\n",
       "    <tr>\n",
       "      <th rowspan=\"2\" valign=\"top\">5</th>\n",
       "      <th>0.000312</th>\n",
       "      <th>1</th>\n",
       "      <td>-0.000085</td>\n",
       "    </tr>\n",
       "    <tr>\n",
       "      <th>1001.112500</th>\n",
       "      <th>75</th>\n",
       "      <td>0.007877</td>\n",
       "    </tr>\n",
       "    <tr>\n",
       "      <th rowspan=\"2\" valign=\"top\">6</th>\n",
       "      <th>0.000312</th>\n",
       "      <th>1</th>\n",
       "      <td>-0.000025</td>\n",
       "    </tr>\n",
       "    <tr>\n",
       "      <th>1001.112500</th>\n",
       "      <th>75</th>\n",
       "      <td>0.003812</td>\n",
       "    </tr>\n",
       "  </tbody>\n",
       "</table>\n",
       "</div>"
      ],
      "text/plain": [
       "                       coolrg\n",
       "g pressure    layer          \n",
       "1 0.000312    1      0.323691\n",
       "  1001.112500 75     0.000013\n",
       "2 0.000312    1     -0.033967\n",
       "  1001.112500 75     0.000109\n",
       "3 0.000312    1     -0.009742\n",
       "  1001.112500 75     0.000855\n",
       "4 0.000312    1     -0.000035\n",
       "  1001.112500 75     0.001968\n",
       "5 0.000312    1     -0.000085\n",
       "  1001.112500 75     0.007877\n",
       "6 0.000312    1     -0.000025\n",
       "  1001.112500 75     0.003812"
      ]
     },
     "metadata": {},
     "output_type": "display_data"
    },
    {
     "name": "stdout",
     "output_type": "stream",
     "text": [
      "\n",
      "WGT_IGG10 - CRD\n"
     ]
    },
    {
     "data": {
      "text/html": [
       "<div>\n",
       "<style>\n",
       "    .dataframe thead tr:only-child th {\n",
       "        text-align: right;\n",
       "    }\n",
       "\n",
       "    .dataframe thead th {\n",
       "        text-align: left;\n",
       "    }\n",
       "\n",
       "    .dataframe tbody tr th {\n",
       "        vertical-align: top;\n",
       "    }\n",
       "</style>\n",
       "<table border=\"1\" class=\"dataframe\">\n",
       "  <thead>\n",
       "    <tr style=\"text-align: right;\">\n",
       "      <th></th>\n",
       "      <th></th>\n",
       "      <th></th>\n",
       "      <th>coolrg</th>\n",
       "    </tr>\n",
       "    <tr>\n",
       "      <th>g</th>\n",
       "      <th>pressure</th>\n",
       "      <th>layer</th>\n",
       "      <th></th>\n",
       "    </tr>\n",
       "  </thead>\n",
       "  <tbody>\n",
       "    <tr>\n",
       "      <th rowspan=\"2\" valign=\"top\">1</th>\n",
       "      <th>0.000312</th>\n",
       "      <th>1</th>\n",
       "      <td>0.173600</td>\n",
       "    </tr>\n",
       "    <tr>\n",
       "      <th>1001.112500</th>\n",
       "      <th>75</th>\n",
       "      <td>-0.000004</td>\n",
       "    </tr>\n",
       "    <tr>\n",
       "      <th rowspan=\"2\" valign=\"top\">2</th>\n",
       "      <th>0.000312</th>\n",
       "      <th>1</th>\n",
       "      <td>-0.025914</td>\n",
       "    </tr>\n",
       "    <tr>\n",
       "      <th>1001.112500</th>\n",
       "      <th>75</th>\n",
       "      <td>-0.000029</td>\n",
       "    </tr>\n",
       "    <tr>\n",
       "      <th rowspan=\"2\" valign=\"top\">3</th>\n",
       "      <th>0.000312</th>\n",
       "      <th>1</th>\n",
       "      <td>0.004253</td>\n",
       "    </tr>\n",
       "    <tr>\n",
       "      <th>1001.112500</th>\n",
       "      <th>75</th>\n",
       "      <td>-0.000256</td>\n",
       "    </tr>\n",
       "    <tr>\n",
       "      <th rowspan=\"2\" valign=\"top\">4</th>\n",
       "      <th>0.000312</th>\n",
       "      <th>1</th>\n",
       "      <td>0.000024</td>\n",
       "    </tr>\n",
       "    <tr>\n",
       "      <th>1001.112500</th>\n",
       "      <th>75</th>\n",
       "      <td>-0.000559</td>\n",
       "    </tr>\n",
       "    <tr>\n",
       "      <th rowspan=\"2\" valign=\"top\">5</th>\n",
       "      <th>0.000312</th>\n",
       "      <th>1</th>\n",
       "      <td>0.000289</td>\n",
       "    </tr>\n",
       "    <tr>\n",
       "      <th>1001.112500</th>\n",
       "      <th>75</th>\n",
       "      <td>0.002545</td>\n",
       "    </tr>\n",
       "    <tr>\n",
       "      <th rowspan=\"2\" valign=\"top\">6</th>\n",
       "      <th>0.000312</th>\n",
       "      <th>1</th>\n",
       "      <td>0.000003</td>\n",
       "    </tr>\n",
       "    <tr>\n",
       "      <th>1001.112500</th>\n",
       "      <th>75</th>\n",
       "      <td>-0.000071</td>\n",
       "    </tr>\n",
       "  </tbody>\n",
       "</table>\n",
       "</div>"
      ],
      "text/plain": [
       "                       coolrg\n",
       "g pressure    layer          \n",
       "1 0.000312    1      0.173600\n",
       "  1001.112500 75    -0.000004\n",
       "2 0.000312    1     -0.025914\n",
       "  1001.112500 75    -0.000029\n",
       "3 0.000312    1      0.004253\n",
       "  1001.112500 75    -0.000256\n",
       "4 0.000312    1      0.000024\n",
       "  1001.112500 75    -0.000559\n",
       "5 0.000312    1      0.000289\n",
       "  1001.112500 75     0.002545\n",
       "6 0.000312    1      0.000003\n",
       "  1001.112500 75    -0.000071"
      ]
     },
     "metadata": {},
     "output_type": "display_data"
    },
    {
     "name": "stdout",
     "output_type": "stream",
     "text": [
      "\n",
      "WGT_IGG1 - CRD\n"
     ]
    },
    {
     "data": {
      "text/html": [
       "<div>\n",
       "<style>\n",
       "    .dataframe thead tr:only-child th {\n",
       "        text-align: right;\n",
       "    }\n",
       "\n",
       "    .dataframe thead th {\n",
       "        text-align: left;\n",
       "    }\n",
       "\n",
       "    .dataframe tbody tr th {\n",
       "        vertical-align: top;\n",
       "    }\n",
       "</style>\n",
       "<table border=\"1\" class=\"dataframe\">\n",
       "  <thead>\n",
       "    <tr style=\"text-align: right;\">\n",
       "      <th></th>\n",
       "      <th></th>\n",
       "      <th></th>\n",
       "      <th>coolrg</th>\n",
       "    </tr>\n",
       "    <tr>\n",
       "      <th>g</th>\n",
       "      <th>pressure</th>\n",
       "      <th>layer</th>\n",
       "      <th></th>\n",
       "    </tr>\n",
       "  </thead>\n",
       "  <tbody>\n",
       "    <tr>\n",
       "      <th rowspan=\"2\" valign=\"top\">1</th>\n",
       "      <th>0.000312</th>\n",
       "      <th>1</th>\n",
       "      <td>0.166529</td>\n",
       "    </tr>\n",
       "    <tr>\n",
       "      <th>1001.112500</th>\n",
       "      <th>75</th>\n",
       "      <td>-0.000004</td>\n",
       "    </tr>\n",
       "    <tr>\n",
       "      <th rowspan=\"2\" valign=\"top\">2</th>\n",
       "      <th>0.000312</th>\n",
       "      <th>1</th>\n",
       "      <td>-0.021825</td>\n",
       "    </tr>\n",
       "    <tr>\n",
       "      <th>1001.112500</th>\n",
       "      <th>75</th>\n",
       "      <td>-0.000029</td>\n",
       "    </tr>\n",
       "    <tr>\n",
       "      <th rowspan=\"2\" valign=\"top\">3</th>\n",
       "      <th>0.000312</th>\n",
       "      <th>1</th>\n",
       "      <td>0.002355</td>\n",
       "    </tr>\n",
       "    <tr>\n",
       "      <th>1001.112500</th>\n",
       "      <th>75</th>\n",
       "      <td>-0.000256</td>\n",
       "    </tr>\n",
       "    <tr>\n",
       "      <th rowspan=\"2\" valign=\"top\">4</th>\n",
       "      <th>0.000312</th>\n",
       "      <th>1</th>\n",
       "      <td>0.000009</td>\n",
       "    </tr>\n",
       "    <tr>\n",
       "      <th>1001.112500</th>\n",
       "      <th>75</th>\n",
       "      <td>-0.000559</td>\n",
       "    </tr>\n",
       "    <tr>\n",
       "      <th rowspan=\"2\" valign=\"top\">5</th>\n",
       "      <th>0.000312</th>\n",
       "      <th>1</th>\n",
       "      <td>0.000293</td>\n",
       "    </tr>\n",
       "    <tr>\n",
       "      <th>1001.112500</th>\n",
       "      <th>75</th>\n",
       "      <td>0.002527</td>\n",
       "    </tr>\n",
       "    <tr>\n",
       "      <th rowspan=\"2\" valign=\"top\">6</th>\n",
       "      <th>0.000312</th>\n",
       "      <th>1</th>\n",
       "      <td>0.000002</td>\n",
       "    </tr>\n",
       "    <tr>\n",
       "      <th>1001.112500</th>\n",
       "      <th>75</th>\n",
       "      <td>0.000075</td>\n",
       "    </tr>\n",
       "  </tbody>\n",
       "</table>\n",
       "</div>"
      ],
      "text/plain": [
       "                       coolrg\n",
       "g pressure    layer          \n",
       "1 0.000312    1      0.166529\n",
       "  1001.112500 75    -0.000004\n",
       "2 0.000312    1     -0.021825\n",
       "  1001.112500 75    -0.000029\n",
       "3 0.000312    1      0.002355\n",
       "  1001.112500 75    -0.000256\n",
       "4 0.000312    1      0.000009\n",
       "  1001.112500 75    -0.000559\n",
       "5 0.000312    1      0.000293\n",
       "  1001.112500 75     0.002527\n",
       "6 0.000312    1      0.000002\n",
       "  1001.112500 75     0.000075"
      ]
     },
     "metadata": {},
     "output_type": "display_data"
    },
    {
     "data": {
      "text/html": [
       "<a id=\"Table:_flux._g-groups_total\"></a>"
      ],
      "text/plain": [
       "<IPython.core.display.HTML object>"
      ]
     },
     "metadata": {},
     "output_type": "display_data"
    },
    {
     "data": {
      "text/markdown": [
       "# Table: flux. g-groups total"
      ],
      "text/plain": [
       "<IPython.core.display.Markdown object>"
      ]
     },
     "metadata": {},
     "output_type": "display_data"
    },
    {
     "name": "stdout",
     "output_type": "stream",
     "text": [
      "\n",
      "CRD\n"
     ]
    },
    {
     "data": {
      "text/html": [
       "<div>\n",
       "<style>\n",
       "    .dataframe thead tr:only-child th {\n",
       "        text-align: right;\n",
       "    }\n",
       "\n",
       "    .dataframe thead th {\n",
       "        text-align: left;\n",
       "    }\n",
       "\n",
       "    .dataframe tbody tr th {\n",
       "        vertical-align: top;\n",
       "    }\n",
       "</style>\n",
       "<table border=\"1\" class=\"dataframe\">\n",
       "  <thead>\n",
       "    <tr style=\"text-align: right;\">\n",
       "      <th></th>\n",
       "      <th></th>\n",
       "      <th>flug</th>\n",
       "      <th>fldg</th>\n",
       "      <th>fnetg</th>\n",
       "    </tr>\n",
       "    <tr>\n",
       "      <th>pressure</th>\n",
       "      <th>level</th>\n",
       "      <th></th>\n",
       "      <th></th>\n",
       "      <th></th>\n",
       "    </tr>\n",
       "  </thead>\n",
       "  <tbody>\n",
       "    <tr>\n",
       "      <th>0.0</th>\n",
       "      <th>1</th>\n",
       "      <td>-5.482672</td>\n",
       "      <td>0.000000</td>\n",
       "      <td>-5.482672</td>\n",
       "    </tr>\n",
       "    <tr>\n",
       "      <th>1013.0</th>\n",
       "      <th>76</th>\n",
       "      <td>-6.625452</td>\n",
       "      <td>1.212891</td>\n",
       "      <td>-5.412561</td>\n",
       "    </tr>\n",
       "  </tbody>\n",
       "</table>\n",
       "</div>"
      ],
      "text/plain": [
       "                    flug      fldg     fnetg\n",
       "pressure level                              \n",
       "0.0      1     -5.482672  0.000000 -5.482672\n",
       "1013.0   76    -6.625452  1.212891 -5.412561"
      ]
     },
     "metadata": {},
     "output_type": "display_data"
    },
    {
     "name": "stdout",
     "output_type": "stream",
     "text": [
      "\n",
      "WGT_IGG10\n"
     ]
    },
    {
     "data": {
      "text/html": [
       "<div>\n",
       "<style>\n",
       "    .dataframe thead tr:only-child th {\n",
       "        text-align: right;\n",
       "    }\n",
       "\n",
       "    .dataframe thead th {\n",
       "        text-align: left;\n",
       "    }\n",
       "\n",
       "    .dataframe tbody tr th {\n",
       "        vertical-align: top;\n",
       "    }\n",
       "</style>\n",
       "<table border=\"1\" class=\"dataframe\">\n",
       "  <thead>\n",
       "    <tr style=\"text-align: right;\">\n",
       "      <th></th>\n",
       "      <th></th>\n",
       "      <th>flug</th>\n",
       "      <th>fldg</th>\n",
       "      <th>fnetg</th>\n",
       "    </tr>\n",
       "    <tr>\n",
       "      <th>pressure</th>\n",
       "      <th>level</th>\n",
       "      <th></th>\n",
       "      <th></th>\n",
       "      <th></th>\n",
       "    </tr>\n",
       "  </thead>\n",
       "  <tbody>\n",
       "    <tr>\n",
       "      <th>0.0</th>\n",
       "      <th>1</th>\n",
       "      <td>-5.398415</td>\n",
       "      <td>0.000000</td>\n",
       "      <td>-5.398415</td>\n",
       "    </tr>\n",
       "    <tr>\n",
       "      <th>1013.0</th>\n",
       "      <th>76</th>\n",
       "      <td>-6.625452</td>\n",
       "      <td>1.360804</td>\n",
       "      <td>-5.264648</td>\n",
       "    </tr>\n",
       "  </tbody>\n",
       "</table>\n",
       "</div>"
      ],
      "text/plain": [
       "                    flug      fldg     fnetg\n",
       "pressure level                              \n",
       "0.0      1     -5.398415  0.000000 -5.398415\n",
       "1013.0   76    -6.625452  1.360804 -5.264648"
      ]
     },
     "metadata": {},
     "output_type": "display_data"
    },
    {
     "name": "stdout",
     "output_type": "stream",
     "text": [
      "\n",
      "WGT_IGG1\n"
     ]
    },
    {
     "data": {
      "text/html": [
       "<div>\n",
       "<style>\n",
       "    .dataframe thead tr:only-child th {\n",
       "        text-align: right;\n",
       "    }\n",
       "\n",
       "    .dataframe thead th {\n",
       "        text-align: left;\n",
       "    }\n",
       "\n",
       "    .dataframe tbody tr th {\n",
       "        vertical-align: top;\n",
       "    }\n",
       "</style>\n",
       "<table border=\"1\" class=\"dataframe\">\n",
       "  <thead>\n",
       "    <tr style=\"text-align: right;\">\n",
       "      <th></th>\n",
       "      <th></th>\n",
       "      <th>flug</th>\n",
       "      <th>fldg</th>\n",
       "      <th>fnetg</th>\n",
       "    </tr>\n",
       "    <tr>\n",
       "      <th>pressure</th>\n",
       "      <th>level</th>\n",
       "      <th></th>\n",
       "      <th></th>\n",
       "      <th></th>\n",
       "    </tr>\n",
       "  </thead>\n",
       "  <tbody>\n",
       "    <tr>\n",
       "      <th>0.0</th>\n",
       "      <th>1</th>\n",
       "      <td>-5.399201</td>\n",
       "      <td>0.000000</td>\n",
       "      <td>-5.399201</td>\n",
       "    </tr>\n",
       "    <tr>\n",
       "      <th>1013.0</th>\n",
       "      <th>76</th>\n",
       "      <td>-6.625452</td>\n",
       "      <td>1.359889</td>\n",
       "      <td>-5.265563</td>\n",
       "    </tr>\n",
       "  </tbody>\n",
       "</table>\n",
       "</div>"
      ],
      "text/plain": [
       "                    flug      fldg     fnetg\n",
       "pressure level                              \n",
       "0.0      1     -5.399201  0.000000 -5.399201\n",
       "1013.0   76    -6.625452  1.359889 -5.265563"
      ]
     },
     "metadata": {},
     "output_type": "display_data"
    },
    {
     "name": "stdout",
     "output_type": "stream",
     "text": [
      "\n",
      "WGT_IGG10 - CRD\n"
     ]
    },
    {
     "data": {
      "text/html": [
       "<div>\n",
       "<style>\n",
       "    .dataframe thead tr:only-child th {\n",
       "        text-align: right;\n",
       "    }\n",
       "\n",
       "    .dataframe thead th {\n",
       "        text-align: left;\n",
       "    }\n",
       "\n",
       "    .dataframe tbody tr th {\n",
       "        vertical-align: top;\n",
       "    }\n",
       "</style>\n",
       "<table border=\"1\" class=\"dataframe\">\n",
       "  <thead>\n",
       "    <tr style=\"text-align: right;\">\n",
       "      <th></th>\n",
       "      <th></th>\n",
       "      <th>flug</th>\n",
       "      <th>fldg</th>\n",
       "      <th>fnetg</th>\n",
       "    </tr>\n",
       "    <tr>\n",
       "      <th>pressure</th>\n",
       "      <th>level</th>\n",
       "      <th></th>\n",
       "      <th></th>\n",
       "      <th></th>\n",
       "    </tr>\n",
       "  </thead>\n",
       "  <tbody>\n",
       "    <tr>\n",
       "      <th>0.0</th>\n",
       "      <th>1</th>\n",
       "      <td>8.425720e-02</td>\n",
       "      <td>0.000000</td>\n",
       "      <td>0.084257</td>\n",
       "    </tr>\n",
       "    <tr>\n",
       "      <th>1013.0</th>\n",
       "      <th>76</th>\n",
       "      <td>3.430000e-08</td>\n",
       "      <td>0.147913</td>\n",
       "      <td>0.147913</td>\n",
       "    </tr>\n",
       "  </tbody>\n",
       "</table>\n",
       "</div>"
      ],
      "text/plain": [
       "                        flug      fldg     fnetg\n",
       "pressure level                                  \n",
       "0.0      1      8.425720e-02  0.000000  0.084257\n",
       "1013.0   76     3.430000e-08  0.147913  0.147913"
      ]
     },
     "metadata": {},
     "output_type": "display_data"
    },
    {
     "name": "stdout",
     "output_type": "stream",
     "text": [
      "\n",
      "WGT_IGG1 - CRD\n"
     ]
    },
    {
     "data": {
      "text/html": [
       "<div>\n",
       "<style>\n",
       "    .dataframe thead tr:only-child th {\n",
       "        text-align: right;\n",
       "    }\n",
       "\n",
       "    .dataframe thead th {\n",
       "        text-align: left;\n",
       "    }\n",
       "\n",
       "    .dataframe tbody tr th {\n",
       "        vertical-align: top;\n",
       "    }\n",
       "</style>\n",
       "<table border=\"1\" class=\"dataframe\">\n",
       "  <thead>\n",
       "    <tr style=\"text-align: right;\">\n",
       "      <th></th>\n",
       "      <th></th>\n",
       "      <th>flug</th>\n",
       "      <th>fldg</th>\n",
       "      <th>fnetg</th>\n",
       "    </tr>\n",
       "    <tr>\n",
       "      <th>pressure</th>\n",
       "      <th>level</th>\n",
       "      <th></th>\n",
       "      <th></th>\n",
       "      <th></th>\n",
       "    </tr>\n",
       "  </thead>\n",
       "  <tbody>\n",
       "    <tr>\n",
       "      <th>0.0</th>\n",
       "      <th>1</th>\n",
       "      <td>8.347083e-02</td>\n",
       "      <td>0.000000</td>\n",
       "      <td>0.083471</td>\n",
       "    </tr>\n",
       "    <tr>\n",
       "      <th>1013.0</th>\n",
       "      <th>76</th>\n",
       "      <td>3.430000e-08</td>\n",
       "      <td>0.146998</td>\n",
       "      <td>0.146998</td>\n",
       "    </tr>\n",
       "  </tbody>\n",
       "</table>\n",
       "</div>"
      ],
      "text/plain": [
       "                        flug      fldg     fnetg\n",
       "pressure level                                  \n",
       "0.0      1      8.347083e-02  0.000000  0.083471\n",
       "1013.0   76     3.430000e-08  0.146998  0.146998"
      ]
     },
     "metadata": {},
     "output_type": "display_data"
    },
    {
     "data": {
      "text/html": [
       "<a id=\"Table:_cooling_rate._g-groups_total\"></a>"
      ],
      "text/plain": [
       "<IPython.core.display.HTML object>"
      ]
     },
     "metadata": {},
     "output_type": "display_data"
    },
    {
     "data": {
      "text/markdown": [
       "# Table: cooling rate. g-groups total"
      ],
      "text/plain": [
       "<IPython.core.display.Markdown object>"
      ]
     },
     "metadata": {},
     "output_type": "display_data"
    },
    {
     "name": "stdout",
     "output_type": "stream",
     "text": [
      "\n",
      "CRD\n"
     ]
    },
    {
     "data": {
      "text/html": [
       "<div>\n",
       "<style>\n",
       "    .dataframe thead tr:only-child th {\n",
       "        text-align: right;\n",
       "    }\n",
       "\n",
       "    .dataframe thead th {\n",
       "        text-align: left;\n",
       "    }\n",
       "\n",
       "    .dataframe tbody tr th {\n",
       "        vertical-align: top;\n",
       "    }\n",
       "</style>\n",
       "<table border=\"1\" class=\"dataframe\">\n",
       "  <thead>\n",
       "    <tr style=\"text-align: right;\">\n",
       "      <th></th>\n",
       "      <th></th>\n",
       "      <th>coolrg</th>\n",
       "    </tr>\n",
       "    <tr>\n",
       "      <th>pressure</th>\n",
       "      <th>layer</th>\n",
       "      <th></th>\n",
       "    </tr>\n",
       "  </thead>\n",
       "  <tbody>\n",
       "    <tr>\n",
       "      <th>0.000312</th>\n",
       "      <th>1</th>\n",
       "      <td>0.132474</td>\n",
       "    </tr>\n",
       "    <tr>\n",
       "      <th>1001.112500</th>\n",
       "      <th>75</th>\n",
       "      <td>0.012881</td>\n",
       "    </tr>\n",
       "  </tbody>\n",
       "</table>\n",
       "</div>"
      ],
      "text/plain": [
       "                     coolrg\n",
       "pressure    layer          \n",
       "0.000312    1      0.132474\n",
       "1001.112500 75     0.012881"
      ]
     },
     "metadata": {},
     "output_type": "display_data"
    },
    {
     "name": "stdout",
     "output_type": "stream",
     "text": [
      "\n",
      "WGT_IGG10\n"
     ]
    },
    {
     "data": {
      "text/html": [
       "<div>\n",
       "<style>\n",
       "    .dataframe thead tr:only-child th {\n",
       "        text-align: right;\n",
       "    }\n",
       "\n",
       "    .dataframe thead th {\n",
       "        text-align: left;\n",
       "    }\n",
       "\n",
       "    .dataframe tbody tr th {\n",
       "        vertical-align: top;\n",
       "    }\n",
       "</style>\n",
       "<table border=\"1\" class=\"dataframe\">\n",
       "  <thead>\n",
       "    <tr style=\"text-align: right;\">\n",
       "      <th></th>\n",
       "      <th></th>\n",
       "      <th>coolrg</th>\n",
       "    </tr>\n",
       "    <tr>\n",
       "      <th>pressure</th>\n",
       "      <th>layer</th>\n",
       "      <th></th>\n",
       "    </tr>\n",
       "  </thead>\n",
       "  <tbody>\n",
       "    <tr>\n",
       "      <th>0.000312</th>\n",
       "      <th>1</th>\n",
       "      <td>0.284729</td>\n",
       "    </tr>\n",
       "    <tr>\n",
       "      <th>1001.112500</th>\n",
       "      <th>75</th>\n",
       "      <td>0.014506</td>\n",
       "    </tr>\n",
       "  </tbody>\n",
       "</table>\n",
       "</div>"
      ],
      "text/plain": [
       "                     coolrg\n",
       "pressure    layer          \n",
       "0.000312    1      0.284729\n",
       "1001.112500 75     0.014506"
      ]
     },
     "metadata": {},
     "output_type": "display_data"
    },
    {
     "name": "stdout",
     "output_type": "stream",
     "text": [
      "\n",
      "WGT_IGG1\n"
     ]
    },
    {
     "data": {
      "text/html": [
       "<div>\n",
       "<style>\n",
       "    .dataframe thead tr:only-child th {\n",
       "        text-align: right;\n",
       "    }\n",
       "\n",
       "    .dataframe thead th {\n",
       "        text-align: left;\n",
       "    }\n",
       "\n",
       "    .dataframe tbody tr th {\n",
       "        vertical-align: top;\n",
       "    }\n",
       "</style>\n",
       "<table border=\"1\" class=\"dataframe\">\n",
       "  <thead>\n",
       "    <tr style=\"text-align: right;\">\n",
       "      <th></th>\n",
       "      <th></th>\n",
       "      <th>coolrg</th>\n",
       "    </tr>\n",
       "    <tr>\n",
       "      <th>pressure</th>\n",
       "      <th>layer</th>\n",
       "      <th></th>\n",
       "    </tr>\n",
       "  </thead>\n",
       "  <tbody>\n",
       "    <tr>\n",
       "      <th>0.000312</th>\n",
       "      <th>1</th>\n",
       "      <td>0.279837</td>\n",
       "    </tr>\n",
       "    <tr>\n",
       "      <th>1001.112500</th>\n",
       "      <th>75</th>\n",
       "      <td>0.014634</td>\n",
       "    </tr>\n",
       "  </tbody>\n",
       "</table>\n",
       "</div>"
      ],
      "text/plain": [
       "                     coolrg\n",
       "pressure    layer          \n",
       "0.000312    1      0.279837\n",
       "1001.112500 75     0.014634"
      ]
     },
     "metadata": {},
     "output_type": "display_data"
    },
    {
     "name": "stdout",
     "output_type": "stream",
     "text": [
      "\n",
      "WGT_IGG10 - CRD\n"
     ]
    },
    {
     "data": {
      "text/html": [
       "<div>\n",
       "<style>\n",
       "    .dataframe thead tr:only-child th {\n",
       "        text-align: right;\n",
       "    }\n",
       "\n",
       "    .dataframe thead th {\n",
       "        text-align: left;\n",
       "    }\n",
       "\n",
       "    .dataframe tbody tr th {\n",
       "        vertical-align: top;\n",
       "    }\n",
       "</style>\n",
       "<table border=\"1\" class=\"dataframe\">\n",
       "  <thead>\n",
       "    <tr style=\"text-align: right;\">\n",
       "      <th></th>\n",
       "      <th></th>\n",
       "      <th>coolrg</th>\n",
       "    </tr>\n",
       "    <tr>\n",
       "      <th>pressure</th>\n",
       "      <th>layer</th>\n",
       "      <th></th>\n",
       "    </tr>\n",
       "  </thead>\n",
       "  <tbody>\n",
       "    <tr>\n",
       "      <th>0.000312</th>\n",
       "      <th>1</th>\n",
       "      <td>0.152256</td>\n",
       "    </tr>\n",
       "    <tr>\n",
       "      <th>1001.112500</th>\n",
       "      <th>75</th>\n",
       "      <td>0.001626</td>\n",
       "    </tr>\n",
       "  </tbody>\n",
       "</table>\n",
       "</div>"
      ],
      "text/plain": [
       "                     coolrg\n",
       "pressure    layer          \n",
       "0.000312    1      0.152256\n",
       "1001.112500 75     0.001626"
      ]
     },
     "metadata": {},
     "output_type": "display_data"
    },
    {
     "name": "stdout",
     "output_type": "stream",
     "text": [
      "\n",
      "WGT_IGG1 - CRD\n"
     ]
    },
    {
     "data": {
      "text/html": [
       "<div>\n",
       "<style>\n",
       "    .dataframe thead tr:only-child th {\n",
       "        text-align: right;\n",
       "    }\n",
       "\n",
       "    .dataframe thead th {\n",
       "        text-align: left;\n",
       "    }\n",
       "\n",
       "    .dataframe tbody tr th {\n",
       "        vertical-align: top;\n",
       "    }\n",
       "</style>\n",
       "<table border=\"1\" class=\"dataframe\">\n",
       "  <thead>\n",
       "    <tr style=\"text-align: right;\">\n",
       "      <th></th>\n",
       "      <th></th>\n",
       "      <th>coolrg</th>\n",
       "    </tr>\n",
       "    <tr>\n",
       "      <th>pressure</th>\n",
       "      <th>layer</th>\n",
       "      <th></th>\n",
       "    </tr>\n",
       "  </thead>\n",
       "  <tbody>\n",
       "    <tr>\n",
       "      <th>0.000312</th>\n",
       "      <th>1</th>\n",
       "      <td>0.147364</td>\n",
       "    </tr>\n",
       "    <tr>\n",
       "      <th>1001.112500</th>\n",
       "      <th>75</th>\n",
       "      <td>0.001753</td>\n",
       "    </tr>\n",
       "  </tbody>\n",
       "</table>\n",
       "</div>"
      ],
      "text/plain": [
       "                     coolrg\n",
       "pressure    layer          \n",
       "0.000312    1      0.147364\n",
       "1001.112500 75     0.001753"
      ]
     },
     "metadata": {},
     "output_type": "display_data"
    }
   ],
   "source": [
    "table_fluxg.display_withdiff(analysis, benchmark='crd')\n",
    "table_coolrg.display_withdiff(analysis, benchmark='crd')\n",
    "table_flux.display_withdiff(analysis, benchmark='crd')\n",
    "table_coolr.display_withdiff(analysis, benchmark='crd')"
   ]
  },
  {
   "cell_type": "code",
   "execution_count": 22,
   "metadata": {},
   "outputs": [
    {
     "data": {
      "text/html": [
       "<a id=\"Table:_dgdgs._g-groups\"></a>"
      ],
      "text/plain": [
       "<IPython.core.display.HTML object>"
      ]
     },
     "metadata": {},
     "output_type": "display_data"
    },
    {
     "data": {
      "text/markdown": [
       "# Table: dgdgs. g-groups "
      ],
      "text/plain": [
       "<IPython.core.display.Markdown object>"
      ]
     },
     "metadata": {},
     "output_type": "display_data"
    },
    {
     "data": {
      "text/html": [
       "<div>\n",
       "<style>\n",
       "    .dataframe thead tr:only-child th {\n",
       "        text-align: right;\n",
       "    }\n",
       "\n",
       "    .dataframe thead th {\n",
       "        text-align: left;\n",
       "    }\n",
       "\n",
       "    .dataframe tbody tr th {\n",
       "        vertical-align: top;\n",
       "    }\n",
       "</style>\n",
       "<table border=\"1\" class=\"dataframe\">\n",
       "  <thead>\n",
       "    <tr style=\"text-align: right;\">\n",
       "      <th></th>\n",
       "      <th>dg</th>\n",
       "      <th>dgs</th>\n",
       "    </tr>\n",
       "    <tr>\n",
       "      <th>g</th>\n",
       "      <th></th>\n",
       "      <th></th>\n",
       "    </tr>\n",
       "  </thead>\n",
       "  <tbody>\n",
       "    <tr>\n",
       "      <th>1</th>\n",
       "      <td>0.000558</td>\n",
       "      <td>0.000391</td>\n",
       "    </tr>\n",
       "    <tr>\n",
       "      <th>2</th>\n",
       "      <td>0.004283</td>\n",
       "      <td>0.003206</td>\n",
       "    </tr>\n",
       "    <tr>\n",
       "      <th>3</th>\n",
       "      <td>0.032140</td>\n",
       "      <td>0.025145</td>\n",
       "    </tr>\n",
       "    <tr>\n",
       "      <th>4</th>\n",
       "      <td>0.071100</td>\n",
       "      <td>0.057861</td>\n",
       "    </tr>\n",
       "    <tr>\n",
       "      <th>5</th>\n",
       "      <td>0.076576</td>\n",
       "      <td>0.112002</td>\n",
       "    </tr>\n",
       "    <tr>\n",
       "      <th>6</th>\n",
       "      <td>0.815343</td>\n",
       "      <td>0.801395</td>\n",
       "    </tr>\n",
       "  </tbody>\n",
       "</table>\n",
       "</div>"
      ],
      "text/plain": [
       "         dg       dgs\n",
       "g                    \n",
       "1  0.000558  0.000391\n",
       "2  0.004283  0.003206\n",
       "3  0.032140  0.025145\n",
       "4  0.071100  0.057861\n",
       "5  0.076576  0.112002\n",
       "6  0.815343  0.801395"
      ]
     },
     "metadata": {},
     "output_type": "display_data"
    }
   ],
   "source": [
    "table_dgdgs.display_dgdgs(crd)"
   ]
  },
  {
   "cell_type": "code",
   "execution_count": 23,
   "metadata": {},
   "outputs": [
    {
     "data": {
      "text/html": [
       "<a id=\"Overall_absth\"></a>"
      ],
      "text/plain": [
       "<IPython.core.display.HTML object>"
      ]
     },
     "metadata": {},
     "output_type": "display_data"
    },
    {
     "data": {
      "text/markdown": [
       "# Overall absth"
      ],
      "text/plain": [
       "<IPython.core.display.Markdown object>"
      ]
     },
     "metadata": {},
     "output_type": "display_data"
    },
    {
     "data": {
      "text/html": [
       "<div>\n",
       "<style>\n",
       "    .dataframe thead tr:only-child th {\n",
       "        text-align: right;\n",
       "    }\n",
       "\n",
       "    .dataframe thead th {\n",
       "        text-align: left;\n",
       "    }\n",
       "\n",
       "    .dataframe tbody tr th {\n",
       "        vertical-align: top;\n",
       "    }\n",
       "</style>\n",
       "<table border=\"1\" class=\"dataframe\">\n",
       "  <thead>\n",
       "    <tr style=\"text-align: right;\">\n",
       "      <th></th>\n",
       "      <th>abscom</th>\n",
       "    </tr>\n",
       "    <tr>\n",
       "      <th>g</th>\n",
       "      <th></th>\n",
       "    </tr>\n",
       "  </thead>\n",
       "  <tbody>\n",
       "    <tr>\n",
       "      <th>1</th>\n",
       "      <td>9.525551e-18</td>\n",
       "    </tr>\n",
       "    <tr>\n",
       "      <th>2</th>\n",
       "      <td>1.029787e-19</td>\n",
       "    </tr>\n",
       "    <tr>\n",
       "      <th>3</th>\n",
       "      <td>1.113282e-21</td>\n",
       "    </tr>\n",
       "    <tr>\n",
       "      <th>4</th>\n",
       "      <td>6.014952e-22</td>\n",
       "    </tr>\n",
       "    <tr>\n",
       "      <th>5</th>\n",
       "      <td>6.500239e-24</td>\n",
       "    </tr>\n",
       "    <tr>\n",
       "      <th>6</th>\n",
       "      <td>3.692901e-32</td>\n",
       "    </tr>\n",
       "  </tbody>\n",
       "</table>\n",
       "</div>"
      ],
      "text/plain": [
       "         abscom\n",
       "g              \n",
       "1  9.525551e-18\n",
       "2  1.029787e-19\n",
       "3  1.113282e-21\n",
       "4  6.014952e-22\n",
       "5  6.500239e-24\n",
       "6  3.692901e-32"
      ]
     },
     "metadata": {},
     "output_type": "display_data"
    }
   ],
   "source": [
    "# read and display overall absth\n",
    "display.display(\n",
    "    display.HTML(climahtml.getHTML_idanchor(s_abscom)))\n",
    "display.display(\n",
    "    display.Markdown(climahtml.getMarkdown_sectitle(s_abscom)))\n",
    "\n",
    "display.display(pd.read_csv(os.path.join(crd.rundir, 'abscom.dat'),\n",
    "                sep=r'\\s+',\n",
    "                index_col=[0]))"
   ]
  },
  {
   "cell_type": "code",
   "execution_count": 24,
   "metadata": {
    "collapsed": true
   },
   "outputs": [],
   "source": [
    "def spreadsheet(ng_refs, p_refs):\n",
    "    ng = crd.data['dgdgs'].dims['g']\n",
    "    \n",
    "    df_abscom = pd.read_csv(os.path.join(crd.rundir, 'abscom.dat'), \n",
    "                            sep=r'\\s+', index_col=[0])\n",
    "    \n",
    "    # absth(g + 1) / absth(g)\n",
    "    df_abscom_copy = df_abscom.copy()\n",
    "    df_abscom_copy.index = df_abscom.index + 1\n",
    "    df_absratio = df_abscom / df_abscom_copy\n",
    "    df_absratio.columns = ['k(ig) / k(ig - 1)']\n",
    "    df_absratio = df_absratio.loc[: ng]\n",
    "    df_dgdgs = crd.data['dgdgs'].to_dataframe()\n",
    "    \n",
    "    \n",
    "    df_dgdgs_cumsum = df_dgdgs.cumsum(axis=0)\n",
    "    df_dgdgs_cumsum.columns = ['dg cumsum', 'dgs cumsum']\n",
    "    \n",
    "    data_pref = np.concatenate([p_ref * np.ones((ng_ref,)) \n",
    "                                for ng_ref, p_ref \n",
    "                                in zip(ng_refs, p_refs)], axis=0)\n",
    "    df_pref = pd.DataFrame(data_pref, \n",
    "                           index=df_dgdgs.index, columns=['pref'])\n",
    "    \n",
    "    df_all = pd.concat([df_abscom, df_absratio,\n",
    "                        df_dgdgs, df_dgdgs_cumsum,\n",
    "                        df_pref], axis=1) \n",
    "    return df_all\n",
    "    "
   ]
  },
  {
   "cell_type": "code",
   "execution_count": 25,
   "metadata": {
    "scrolled": false
   },
   "outputs": [
    {
     "data": {
      "text/html": [
       "<a id=\"g-group_summary\"></a>"
      ],
      "text/plain": [
       "<IPython.core.display.HTML object>"
      ]
     },
     "metadata": {},
     "output_type": "display_data"
    },
    {
     "data": {
      "text/markdown": [
       "# g-group summary"
      ],
      "text/plain": [
       "<IPython.core.display.Markdown object>"
      ]
     },
     "metadata": {},
     "output_type": "display_data"
    },
    {
     "data": {
      "text/html": [
       "<div>\n",
       "<style>\n",
       "    .dataframe thead tr:only-child th {\n",
       "        text-align: right;\n",
       "    }\n",
       "\n",
       "    .dataframe thead th {\n",
       "        text-align: left;\n",
       "    }\n",
       "\n",
       "    .dataframe tbody tr th {\n",
       "        vertical-align: top;\n",
       "    }\n",
       "</style>\n",
       "<table border=\"1\" class=\"dataframe\">\n",
       "  <thead>\n",
       "    <tr style=\"text-align: right;\">\n",
       "      <th></th>\n",
       "      <th>abscom</th>\n",
       "      <th>k(ig) / k(ig - 1)</th>\n",
       "      <th>dg</th>\n",
       "      <th>dgs</th>\n",
       "      <th>dg cumsum</th>\n",
       "      <th>dgs cumsum</th>\n",
       "      <th>pref</th>\n",
       "    </tr>\n",
       "    <tr>\n",
       "      <th>g</th>\n",
       "      <th></th>\n",
       "      <th></th>\n",
       "      <th></th>\n",
       "      <th></th>\n",
       "      <th></th>\n",
       "      <th></th>\n",
       "      <th></th>\n",
       "    </tr>\n",
       "  </thead>\n",
       "  <tbody>\n",
       "    <tr>\n",
       "      <th>1</th>\n",
       "      <td>9.525551e-18</td>\n",
       "      <td>NaN</td>\n",
       "      <td>0.000558</td>\n",
       "      <td>0.000391</td>\n",
       "      <td>0.000558</td>\n",
       "      <td>0.000391</td>\n",
       "      <td>1.0</td>\n",
       "    </tr>\n",
       "    <tr>\n",
       "      <th>2</th>\n",
       "      <td>1.029787e-19</td>\n",
       "      <td>1.081079e-02</td>\n",
       "      <td>0.004283</td>\n",
       "      <td>0.003206</td>\n",
       "      <td>0.004841</td>\n",
       "      <td>0.003597</td>\n",
       "      <td>1.0</td>\n",
       "    </tr>\n",
       "    <tr>\n",
       "      <th>3</th>\n",
       "      <td>1.113282e-21</td>\n",
       "      <td>1.081079e-02</td>\n",
       "      <td>0.032140</td>\n",
       "      <td>0.025145</td>\n",
       "      <td>0.036981</td>\n",
       "      <td>0.028742</td>\n",
       "      <td>1.0</td>\n",
       "    </tr>\n",
       "    <tr>\n",
       "      <th>4</th>\n",
       "      <td>6.014952e-22</td>\n",
       "      <td>5.402902e-01</td>\n",
       "      <td>0.071100</td>\n",
       "      <td>0.057861</td>\n",
       "      <td>0.108081</td>\n",
       "      <td>0.086603</td>\n",
       "      <td>50.0</td>\n",
       "    </tr>\n",
       "    <tr>\n",
       "      <th>5</th>\n",
       "      <td>6.500239e-24</td>\n",
       "      <td>1.080680e-02</td>\n",
       "      <td>0.076576</td>\n",
       "      <td>0.112002</td>\n",
       "      <td>0.184657</td>\n",
       "      <td>0.198605</td>\n",
       "      <td>50.0</td>\n",
       "    </tr>\n",
       "    <tr>\n",
       "      <th>6</th>\n",
       "      <td>3.692901e-32</td>\n",
       "      <td>5.681178e-09</td>\n",
       "      <td>0.815343</td>\n",
       "      <td>0.801395</td>\n",
       "      <td>1.000000</td>\n",
       "      <td>1.000000</td>\n",
       "      <td>50.0</td>\n",
       "    </tr>\n",
       "  </tbody>\n",
       "</table>\n",
       "</div>"
      ],
      "text/plain": [
       "         abscom  k(ig) / k(ig - 1)        dg       dgs  dg cumsum  dgs cumsum  \\\n",
       "g                                                                               \n",
       "1  9.525551e-18                NaN  0.000558  0.000391   0.000558    0.000391   \n",
       "2  1.029787e-19       1.081079e-02  0.004283  0.003206   0.004841    0.003597   \n",
       "3  1.113282e-21       1.081079e-02  0.032140  0.025145   0.036981    0.028742   \n",
       "4  6.014952e-22       5.402902e-01  0.071100  0.057861   0.108081    0.086603   \n",
       "5  6.500239e-24       1.080680e-02  0.076576  0.112002   0.184657    0.198605   \n",
       "6  3.692901e-32       5.681178e-09  0.815343  0.801395   1.000000    1.000000   \n",
       "\n",
       "   pref  \n",
       "g        \n",
       "1   1.0  \n",
       "2   1.0  \n",
       "3   1.0  \n",
       "4  50.0  \n",
       "5  50.0  \n",
       "6  50.0  "
      ]
     },
     "metadata": {},
     "output_type": "display_data"
    }
   ],
   "source": [
    "display.display(display.HTML(climahtml.getHTML_idanchor(s_ggroup_summary)))\n",
    "display.display(display.Markdown(climahtml.getMarkdown_sectitle(s_ggroup_summary)))\n",
    "display.display(spreadsheet(NG_REFS, P_REFS))"
   ]
  },
  {
   "cell_type": "code",
   "execution_count": 26,
   "metadata": {
    "collapsed": true,
    "scrolled": false
   },
   "outputs": [],
   "source": [
    "def load_d_bigsum():\n",
    "    \n",
    "    ng = 10\n",
    "    \n",
    "    fpath = os.path.join(crd.rundir, 'd_bigsum.dat')\n",
    "    df = pd.read_csv(fpath, sep=r'\\s+', index_col = [0, 1])\n",
    "\n",
    "    g_layers = [(1, 62), (2, 58)]\n",
    "    \n",
    "    writer = pd.ExcelWriter('_'.join(['d_bigsum_absgas',\n",
    "                                      'ng_{}'.format(ng)])\n",
    "                            + '.xlsx')\n",
    "    for g, layer in g_layers:\n",
    "        df.loc[(g, layer), :].to_excel(writer, \n",
    "                                       '({}, {})'.format(g, layer))\n",
    "        \n",
    "\n",
    "#load_d_bigsum()"
   ]
  },
  {
   "cell_type": "code",
   "execution_count": 27,
   "metadata": {},
   "outputs": [
    {
     "data": {
      "text/html": [
       "<script>\n",
       "code_show=true; \n",
       "function code_toggle() {\n",
       " if (code_show){\n",
       " $('div.input').hide();\n",
       " } else {\n",
       " $('div.input').show();\n",
       " }\n",
       " code_show = !code_show\n",
       "} \n",
       "$( document ).ready(code_toggle);\n",
       "</script>\n",
       "<form action=\"javascript:code_toggle()\"><input type=\"submit\" value=\"Click here to toggle on/off the raw code.\"></form>"
      ],
      "text/plain": [
       "<IPython.core.display.HTML object>"
      ]
     },
     "execution_count": 27,
     "metadata": {},
     "output_type": "execute_result"
    }
   ],
   "source": [
    "display.HTML('''<script>\n",
    "code_show=true; \n",
    "function code_toggle() {\n",
    " if (code_show){\n",
    " $('div.input').hide();\n",
    " } else {\n",
    " $('div.input').show();\n",
    " }\n",
    " code_show = !code_show\n",
    "} \n",
    "$( document ).ready(code_toggle);\n",
    "</script>\n",
    "<form action=\"javascript:code_toggle()\"><input type=\"submit\" value=\"Click here to toggle on/off the raw code.\"></form>''')\n"
   ]
  },
  {
   "cell_type": "code",
   "execution_count": 28,
   "metadata": {
    "collapsed": true
   },
   "outputs": [],
   "source": []
  }
 ],
 "metadata": {
  "kernelspec": {
   "display_name": "Python 3",
   "language": "python",
   "name": "python3"
  },
  "language_info": {
   "codemirror_mode": {
    "name": "ipython",
    "version": 3
   },
   "file_extension": ".py",
   "mimetype": "text/x-python",
   "name": "python",
   "nbconvert_exporter": "python",
   "pygments_lexer": "ipython3",
   "version": "3.6.1"
  }
 },
 "nbformat": 4,
 "nbformat_minor": 1
}
