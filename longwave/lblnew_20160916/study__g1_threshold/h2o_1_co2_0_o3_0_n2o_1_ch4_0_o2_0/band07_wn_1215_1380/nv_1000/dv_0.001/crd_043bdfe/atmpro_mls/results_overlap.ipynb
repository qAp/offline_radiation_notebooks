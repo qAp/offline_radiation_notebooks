{
 "cells": [
  {
   "cell_type": "code",
   "execution_count": 1,
   "metadata": {
    "collapsed": true
   },
   "outputs": [],
   "source": [
    "%matplotlib inline\n",
    "import os\n",
    "import re\n",
    "import io\n",
    "import itertools\n",
    "import pprint\n",
    "\n",
    "from bokeh.io import output_notebook, show\n",
    "from bokeh.layouts import gridplot\n",
    "from bokeh.plotting import figure\n",
    "from bokeh.models import Range1d, Legend\n",
    "from bokeh.palettes import all_palettes\n",
    "\n",
    "import matplotlib\n",
    "import matplotlib.pyplot as plt\n",
    "import numpy as np\n",
    "import pandas as pd\n",
    "import xarray as xr\n",
    "\n",
    "import climatools.lblnew.bestfit_params as bestfits\n",
    "from climatools.lblnew import setup_bestfit, setup_overlap\n",
    "import climatools.lblnew.pipeline as pipe_lblnew\n",
    "\n",
    "import climatools.html.html as climahtml\n",
    "from climatools.lblnew.dataio import *\n",
    "from climatools.plot.plot import *\n",
    "\n",
    "\n",
    "import IPython.display as display"
   ]
  },
  {
   "cell_type": "code",
   "execution_count": 2,
   "metadata": {
    "collapsed": true
   },
   "outputs": [],
   "source": [
    "%run param.py"
   ]
  },
  {
   "cell_type": "code",
   "execution_count": 3,
   "metadata": {
    "collapsed": true
   },
   "outputs": [],
   "source": [
    "def load_output_file(path_csv):\n",
    "    '''\n",
    "    Load lblnew output .csv file to xarray.Dataset\n",
    "    \n",
    "    Parameters\n",
    "    ----------\n",
    "    path_csv: str\n",
    "              Path to the .csv file to be loaded.\n",
    "    ds: xarray.Dataset\n",
    "        Data in the input file in the form of an xarray.Dataset.\n",
    "    '''\n",
    "    toindex = ['band', 'pressure', 'igg', 'g']    \n",
    "    df = pd.read_csv(path_csv, sep=r'\\s+')\n",
    "    df = df.set_index([i for i in toindex if i in df.columns])\n",
    "    df = df.rename(columns={'sfu': 'flug',\n",
    "                            'sfd': 'fldg',\n",
    "                            'fnet': 'fnetg',\n",
    "                            'coolr': 'coolrg'})\n",
    "    ds = xr.Dataset.from_dataframe(df)\n",
    "\n",
    "    for l in ('level', 'layer'):\n",
    "        if l in ds.data_vars:\n",
    "            if len(ds[l].dims) > 1:\n",
    "                surface = {d: 0 for d in ds.dims if d != 'pressure'}\n",
    "                coord_level = ds[l][surface]\n",
    "                ds.coords[l] = ('pressure', coord_level)\n",
    "            else:\n",
    "                ds.coords[l] = ('pressure', ds[l])\n",
    "    \n",
    "    return ds"
   ]
  },
  {
   "cell_type": "code",
   "execution_count": 4,
   "metadata": {
    "collapsed": true
   },
   "outputs": [],
   "source": [
    "def lblnew_setup(param=None):\n",
    "    if 'ng_refs' in param:\n",
    "        return {'setup': setup_bestfit,\n",
    "                'fname_flux_crd': 'output_flux.dat',\n",
    "                'fname_cool_crd': 'output_coolr.dat',\n",
    "                'fname_flux_wgt': 'output_wfluxg.dat',\n",
    "                'fname_cool_wgt': 'output_wcoolrg.dat'}\n",
    "    else:\n",
    "        return {'setup': setup_overlap,\n",
    "                'fname_flux_crd': 'output_flux.dat',\n",
    "                'fname_cool_crd': 'output_coolr.dat',\n",
    "                'fname_flux_wgt': 'output_wflux.dat',\n",
    "                'fname_cool_wgt': 'output_wcoolr.dat'}\n",
    "\n",
    "    \n",
    "def load_lblnew_data(param):\n",
    "    \n",
    "    fname_dsname = [('fname_flux_crd', 'ds_flux_crd'),\n",
    "                    ('fname_cool_crd', 'ds_cool_crd'),\n",
    "                    ('fname_flux_wgt', 'ds_flux_wgt'),\n",
    "                    ('fname_cool_wgt', 'ds_cool_wgt')]\n",
    "    \n",
    "    d = lblnew_setup(param)\n",
    "    dir_fortran = pipe_lblnew.get_dir_case(param, setup=d['setup'])\n",
    "    \n",
    "    data_dict = {}\n",
    "    for fname, dsname in fname_dsname:\n",
    "        fpath = os.path.join(dir_fortran, d[fname])\n",
    "        data_dict[dsname] = load_output_file(fpath)\n",
    "    return data_dict\n",
    "    \n",
    "\n",
    "    \n",
    "    "
   ]
  },
  {
   "cell_type": "code",
   "execution_count": 5,
   "metadata": {
    "collapsed": true
   },
   "outputs": [],
   "source": [
    "d = load_lblnew_data(PARAM)\n",
    "\n",
    "DS_FLUX_CRD = d['ds_flux_crd']\n",
    "DS_COOL_CRD = d['ds_cool_crd']\n",
    "DS_FLUX_WGT = d['ds_flux_wgt']\n",
    "DS_COOL_WGT = d['ds_cool_wgt']"
   ]
  },
  {
   "cell_type": "code",
   "execution_count": 6,
   "metadata": {},
   "outputs": [
    {
     "data": {
      "text/html": [
       "\n",
       "    <div class=\"bk-root\">\n",
       "        <a href=\"https://bokeh.pydata.org\" target=\"_blank\" class=\"bk-logo bk-logo-small bk-logo-notebook\"></a>\n",
       "        <span id=\"1ea3ead8-2fc2-4560-b0cd-9ba17a9638f5\">Loading BokehJS ...</span>\n",
       "    </div>"
      ]
     },
     "metadata": {},
     "output_type": "display_data"
    },
    {
     "data": {
      "application/javascript": [
       "\n",
       "(function(root) {\n",
       "  function now() {\n",
       "    return new Date();\n",
       "  }\n",
       "\n",
       "  var force = true;\n",
       "\n",
       "  if (typeof (root._bokeh_onload_callbacks) === \"undefined\" || force === true) {\n",
       "    root._bokeh_onload_callbacks = [];\n",
       "    root._bokeh_is_loading = undefined;\n",
       "  }\n",
       "\n",
       "  var JS_MIME_TYPE = 'application/javascript';\n",
       "  var HTML_MIME_TYPE = 'text/html';\n",
       "  var EXEC_MIME_TYPE = 'application/vnd.bokehjs_exec.v0+json';\n",
       "  var CLASS_NAME = 'output_bokeh rendered_html';\n",
       "\n",
       "  /**\n",
       "   * Render data to the DOM node\n",
       "   */\n",
       "  function render(props, node) {\n",
       "    var script = document.createElement(\"script\");\n",
       "    node.appendChild(script);\n",
       "  }\n",
       "\n",
       "  /**\n",
       "   * Handle when an output is cleared or removed\n",
       "   */\n",
       "  function handleClearOutput(event, handle) {\n",
       "    var cell = handle.cell;\n",
       "\n",
       "    var id = cell.output_area._bokeh_element_id;\n",
       "    var server_id = cell.output_area._bokeh_server_id;\n",
       "    // Clean up Bokeh references\n",
       "    if (id !== undefined) {\n",
       "      Bokeh.index[id].model.document.clear();\n",
       "      delete Bokeh.index[id];\n",
       "    }\n",
       "\n",
       "    if (server_id !== undefined) {\n",
       "      // Clean up Bokeh references\n",
       "      var cmd = \"from bokeh.io.state import curstate; print(curstate().uuid_to_server['\" + server_id + \"'].get_sessions()[0].document.roots[0]._id)\";\n",
       "      cell.notebook.kernel.execute(cmd, {\n",
       "        iopub: {\n",
       "          output: function(msg) {\n",
       "            var element_id = msg.content.text.trim();\n",
       "            Bokeh.index[element_id].model.document.clear();\n",
       "            delete Bokeh.index[element_id];\n",
       "          }\n",
       "        }\n",
       "      });\n",
       "      // Destroy server and session\n",
       "      var cmd = \"import bokeh.io.notebook as ion; ion.destroy_server('\" + server_id + \"')\";\n",
       "      cell.notebook.kernel.execute(cmd);\n",
       "    }\n",
       "  }\n",
       "\n",
       "  /**\n",
       "   * Handle when a new output is added\n",
       "   */\n",
       "  function handleAddOutput(event, handle) {\n",
       "    var output_area = handle.output_area;\n",
       "    var output = handle.output;\n",
       "\n",
       "    // limit handleAddOutput to display_data with EXEC_MIME_TYPE content only\n",
       "    if ((output.output_type != \"display_data\") || (!output.data.hasOwnProperty(EXEC_MIME_TYPE))) {\n",
       "      return\n",
       "    }\n",
       "\n",
       "    var toinsert = output_area.element.find(\".\" + CLASS_NAME.split(' ')[0]);\n",
       "\n",
       "    if (output.metadata[EXEC_MIME_TYPE][\"id\"] !== undefined) {\n",
       "      toinsert[0].firstChild.textContent = output.data[JS_MIME_TYPE];\n",
       "      // store reference to embed id on output_area\n",
       "      output_area._bokeh_element_id = output.metadata[EXEC_MIME_TYPE][\"id\"];\n",
       "    }\n",
       "    if (output.metadata[EXEC_MIME_TYPE][\"server_id\"] !== undefined) {\n",
       "      var bk_div = document.createElement(\"div\");\n",
       "      bk_div.innerHTML = output.data[HTML_MIME_TYPE];\n",
       "      var script_attrs = bk_div.children[0].attributes;\n",
       "      for (var i = 0; i < script_attrs.length; i++) {\n",
       "        toinsert[0].firstChild.setAttribute(script_attrs[i].name, script_attrs[i].value);\n",
       "      }\n",
       "      // store reference to server id on output_area\n",
       "      output_area._bokeh_server_id = output.metadata[EXEC_MIME_TYPE][\"server_id\"];\n",
       "    }\n",
       "  }\n",
       "\n",
       "  function register_renderer(events, OutputArea) {\n",
       "\n",
       "    function append_mime(data, metadata, element) {\n",
       "      // create a DOM node to render to\n",
       "      var toinsert = this.create_output_subarea(\n",
       "        metadata,\n",
       "        CLASS_NAME,\n",
       "        EXEC_MIME_TYPE\n",
       "      );\n",
       "      this.keyboard_manager.register_events(toinsert);\n",
       "      // Render to node\n",
       "      var props = {data: data, metadata: metadata[EXEC_MIME_TYPE]};\n",
       "      render(props, toinsert[0]);\n",
       "      element.append(toinsert);\n",
       "      return toinsert\n",
       "    }\n",
       "\n",
       "    /* Handle when an output is cleared or removed */\n",
       "    events.on('clear_output.CodeCell', handleClearOutput);\n",
       "    events.on('delete.Cell', handleClearOutput);\n",
       "\n",
       "    /* Handle when a new output is added */\n",
       "    events.on('output_added.OutputArea', handleAddOutput);\n",
       "\n",
       "    /**\n",
       "     * Register the mime type and append_mime function with output_area\n",
       "     */\n",
       "    OutputArea.prototype.register_mime_type(EXEC_MIME_TYPE, append_mime, {\n",
       "      /* Is output safe? */\n",
       "      safe: true,\n",
       "      /* Index of renderer in `output_area.display_order` */\n",
       "      index: 0\n",
       "    });\n",
       "  }\n",
       "\n",
       "  // register the mime type if in Jupyter Notebook environment and previously unregistered\n",
       "  if (root.Jupyter !== undefined) {\n",
       "    var events = require('base/js/events');\n",
       "    var OutputArea = require('notebook/js/outputarea').OutputArea;\n",
       "\n",
       "    if (OutputArea.prototype.mime_types().indexOf(EXEC_MIME_TYPE) == -1) {\n",
       "      register_renderer(events, OutputArea);\n",
       "    }\n",
       "  }\n",
       "\n",
       "  \n",
       "  if (typeof (root._bokeh_timeout) === \"undefined\" || force === true) {\n",
       "    root._bokeh_timeout = Date.now() + 5000;\n",
       "    root._bokeh_failed_load = false;\n",
       "  }\n",
       "\n",
       "  var NB_LOAD_WARNING = {'data': {'text/html':\n",
       "     \"<div style='background-color: #fdd'>\\n\"+\n",
       "     \"<p>\\n\"+\n",
       "     \"BokehJS does not appear to have successfully loaded. If loading BokehJS from CDN, this \\n\"+\n",
       "     \"may be due to a slow or bad network connection. Possible fixes:\\n\"+\n",
       "     \"</p>\\n\"+\n",
       "     \"<ul>\\n\"+\n",
       "     \"<li>re-rerun `output_notebook()` to attempt to load from CDN again, or</li>\\n\"+\n",
       "     \"<li>use INLINE resources instead, as so:</li>\\n\"+\n",
       "     \"</ul>\\n\"+\n",
       "     \"<code>\\n\"+\n",
       "     \"from bokeh.resources import INLINE\\n\"+\n",
       "     \"output_notebook(resources=INLINE)\\n\"+\n",
       "     \"</code>\\n\"+\n",
       "     \"</div>\"}};\n",
       "\n",
       "  function display_loaded() {\n",
       "    var el = document.getElementById(\"1ea3ead8-2fc2-4560-b0cd-9ba17a9638f5\");\n",
       "    if (el != null) {\n",
       "      el.textContent = \"BokehJS is loading...\";\n",
       "    }\n",
       "    if (root.Bokeh !== undefined) {\n",
       "      if (el != null) {\n",
       "        el.textContent = \"BokehJS \" + root.Bokeh.version + \" successfully loaded.\";\n",
       "      }\n",
       "    } else if (Date.now() < root._bokeh_timeout) {\n",
       "      setTimeout(display_loaded, 100)\n",
       "    }\n",
       "  }\n",
       "\n",
       "\n",
       "  function run_callbacks() {\n",
       "    try {\n",
       "      root._bokeh_onload_callbacks.forEach(function(callback) { callback() });\n",
       "    }\n",
       "    finally {\n",
       "      delete root._bokeh_onload_callbacks\n",
       "    }\n",
       "    console.info(\"Bokeh: all callbacks have finished\");\n",
       "  }\n",
       "\n",
       "  function load_libs(js_urls, callback) {\n",
       "    root._bokeh_onload_callbacks.push(callback);\n",
       "    if (root._bokeh_is_loading > 0) {\n",
       "      console.log(\"Bokeh: BokehJS is being loaded, scheduling callback at\", now());\n",
       "      return null;\n",
       "    }\n",
       "    if (js_urls == null || js_urls.length === 0) {\n",
       "      run_callbacks();\n",
       "      return null;\n",
       "    }\n",
       "    console.log(\"Bokeh: BokehJS not loaded, scheduling load and callback at\", now());\n",
       "    root._bokeh_is_loading = js_urls.length;\n",
       "    for (var i = 0; i < js_urls.length; i++) {\n",
       "      var url = js_urls[i];\n",
       "      var s = document.createElement('script');\n",
       "      s.src = url;\n",
       "      s.async = false;\n",
       "      s.onreadystatechange = s.onload = function() {\n",
       "        root._bokeh_is_loading--;\n",
       "        if (root._bokeh_is_loading === 0) {\n",
       "          console.log(\"Bokeh: all BokehJS libraries loaded\");\n",
       "          run_callbacks()\n",
       "        }\n",
       "      };\n",
       "      s.onerror = function() {\n",
       "        console.warn(\"failed to load library \" + url);\n",
       "      };\n",
       "      console.log(\"Bokeh: injecting script tag for BokehJS library: \", url);\n",
       "      document.getElementsByTagName(\"head\")[0].appendChild(s);\n",
       "    }\n",
       "  };var element = document.getElementById(\"1ea3ead8-2fc2-4560-b0cd-9ba17a9638f5\");\n",
       "  if (element == null) {\n",
       "    console.log(\"Bokeh: ERROR: autoload.js configured with elementid '1ea3ead8-2fc2-4560-b0cd-9ba17a9638f5' but no matching script tag was found. \")\n",
       "    return false;\n",
       "  }\n",
       "\n",
       "  var js_urls = [\"https://cdn.pydata.org/bokeh/release/bokeh-0.12.14.min.js\", \"https://cdn.pydata.org/bokeh/release/bokeh-widgets-0.12.14.min.js\", \"https://cdn.pydata.org/bokeh/release/bokeh-tables-0.12.14.min.js\", \"https://cdn.pydata.org/bokeh/release/bokeh-gl-0.12.14.min.js\"];\n",
       "\n",
       "  var inline_js = [\n",
       "    function(Bokeh) {\n",
       "      Bokeh.set_log_level(\"info\");\n",
       "    },\n",
       "    \n",
       "    function(Bokeh) {\n",
       "      \n",
       "    },\n",
       "    function(Bokeh) {\n",
       "      console.log(\"Bokeh: injecting CSS: https://cdn.pydata.org/bokeh/release/bokeh-0.12.14.min.css\");\n",
       "      Bokeh.embed.inject_css(\"https://cdn.pydata.org/bokeh/release/bokeh-0.12.14.min.css\");\n",
       "      console.log(\"Bokeh: injecting CSS: https://cdn.pydata.org/bokeh/release/bokeh-widgets-0.12.14.min.css\");\n",
       "      Bokeh.embed.inject_css(\"https://cdn.pydata.org/bokeh/release/bokeh-widgets-0.12.14.min.css\");\n",
       "      console.log(\"Bokeh: injecting CSS: https://cdn.pydata.org/bokeh/release/bokeh-tables-0.12.14.min.css\");\n",
       "      Bokeh.embed.inject_css(\"https://cdn.pydata.org/bokeh/release/bokeh-tables-0.12.14.min.css\");\n",
       "    }\n",
       "  ];\n",
       "\n",
       "  function run_inline_js() {\n",
       "    \n",
       "    if ((root.Bokeh !== undefined) || (force === true)) {\n",
       "      for (var i = 0; i < inline_js.length; i++) {\n",
       "        inline_js[i].call(root, root.Bokeh);\n",
       "      }if (force === true) {\n",
       "        display_loaded();\n",
       "      }} else if (Date.now() < root._bokeh_timeout) {\n",
       "      setTimeout(run_inline_js, 100);\n",
       "    } else if (!root._bokeh_failed_load) {\n",
       "      console.log(\"Bokeh: BokehJS failed to load within specified timeout.\");\n",
       "      root._bokeh_failed_load = true;\n",
       "    } else if (force !== true) {\n",
       "      var cell = $(document.getElementById(\"1ea3ead8-2fc2-4560-b0cd-9ba17a9638f5\")).parents('.cell').data().cell;\n",
       "      cell.output_area.append_execute_result(NB_LOAD_WARNING)\n",
       "    }\n",
       "\n",
       "  }\n",
       "\n",
       "  if (root._bokeh_is_loading === 0) {\n",
       "    console.log(\"Bokeh: BokehJS loaded, going straight to plotting\");\n",
       "    run_inline_js();\n",
       "  } else {\n",
       "    load_libs(js_urls, function() {\n",
       "      console.log(\"Bokeh: BokehJS plotting callback run at\", now());\n",
       "      run_inline_js();\n",
       "    });\n",
       "  }\n",
       "}(window));"
      ],
      "application/vnd.bokehjs_load.v0+json": "\n(function(root) {\n  function now() {\n    return new Date();\n  }\n\n  var force = true;\n\n  if (typeof (root._bokeh_onload_callbacks) === \"undefined\" || force === true) {\n    root._bokeh_onload_callbacks = [];\n    root._bokeh_is_loading = undefined;\n  }\n\n  \n\n  \n  if (typeof (root._bokeh_timeout) === \"undefined\" || force === true) {\n    root._bokeh_timeout = Date.now() + 5000;\n    root._bokeh_failed_load = false;\n  }\n\n  var NB_LOAD_WARNING = {'data': {'text/html':\n     \"<div style='background-color: #fdd'>\\n\"+\n     \"<p>\\n\"+\n     \"BokehJS does not appear to have successfully loaded. If loading BokehJS from CDN, this \\n\"+\n     \"may be due to a slow or bad network connection. Possible fixes:\\n\"+\n     \"</p>\\n\"+\n     \"<ul>\\n\"+\n     \"<li>re-rerun `output_notebook()` to attempt to load from CDN again, or</li>\\n\"+\n     \"<li>use INLINE resources instead, as so:</li>\\n\"+\n     \"</ul>\\n\"+\n     \"<code>\\n\"+\n     \"from bokeh.resources import INLINE\\n\"+\n     \"output_notebook(resources=INLINE)\\n\"+\n     \"</code>\\n\"+\n     \"</div>\"}};\n\n  function display_loaded() {\n    var el = document.getElementById(\"1ea3ead8-2fc2-4560-b0cd-9ba17a9638f5\");\n    if (el != null) {\n      el.textContent = \"BokehJS is loading...\";\n    }\n    if (root.Bokeh !== undefined) {\n      if (el != null) {\n        el.textContent = \"BokehJS \" + root.Bokeh.version + \" successfully loaded.\";\n      }\n    } else if (Date.now() < root._bokeh_timeout) {\n      setTimeout(display_loaded, 100)\n    }\n  }\n\n\n  function run_callbacks() {\n    try {\n      root._bokeh_onload_callbacks.forEach(function(callback) { callback() });\n    }\n    finally {\n      delete root._bokeh_onload_callbacks\n    }\n    console.info(\"Bokeh: all callbacks have finished\");\n  }\n\n  function load_libs(js_urls, callback) {\n    root._bokeh_onload_callbacks.push(callback);\n    if (root._bokeh_is_loading > 0) {\n      console.log(\"Bokeh: BokehJS is being loaded, scheduling callback at\", now());\n      return null;\n    }\n    if (js_urls == null || js_urls.length === 0) {\n      run_callbacks();\n      return null;\n    }\n    console.log(\"Bokeh: BokehJS not loaded, scheduling load and callback at\", now());\n    root._bokeh_is_loading = js_urls.length;\n    for (var i = 0; i < js_urls.length; i++) {\n      var url = js_urls[i];\n      var s = document.createElement('script');\n      s.src = url;\n      s.async = false;\n      s.onreadystatechange = s.onload = function() {\n        root._bokeh_is_loading--;\n        if (root._bokeh_is_loading === 0) {\n          console.log(\"Bokeh: all BokehJS libraries loaded\");\n          run_callbacks()\n        }\n      };\n      s.onerror = function() {\n        console.warn(\"failed to load library \" + url);\n      };\n      console.log(\"Bokeh: injecting script tag for BokehJS library: \", url);\n      document.getElementsByTagName(\"head\")[0].appendChild(s);\n    }\n  };var element = document.getElementById(\"1ea3ead8-2fc2-4560-b0cd-9ba17a9638f5\");\n  if (element == null) {\n    console.log(\"Bokeh: ERROR: autoload.js configured with elementid '1ea3ead8-2fc2-4560-b0cd-9ba17a9638f5' but no matching script tag was found. \")\n    return false;\n  }\n\n  var js_urls = [\"https://cdn.pydata.org/bokeh/release/bokeh-0.12.14.min.js\", \"https://cdn.pydata.org/bokeh/release/bokeh-widgets-0.12.14.min.js\", \"https://cdn.pydata.org/bokeh/release/bokeh-tables-0.12.14.min.js\", \"https://cdn.pydata.org/bokeh/release/bokeh-gl-0.12.14.min.js\"];\n\n  var inline_js = [\n    function(Bokeh) {\n      Bokeh.set_log_level(\"info\");\n    },\n    \n    function(Bokeh) {\n      \n    },\n    function(Bokeh) {\n      console.log(\"Bokeh: injecting CSS: https://cdn.pydata.org/bokeh/release/bokeh-0.12.14.min.css\");\n      Bokeh.embed.inject_css(\"https://cdn.pydata.org/bokeh/release/bokeh-0.12.14.min.css\");\n      console.log(\"Bokeh: injecting CSS: https://cdn.pydata.org/bokeh/release/bokeh-widgets-0.12.14.min.css\");\n      Bokeh.embed.inject_css(\"https://cdn.pydata.org/bokeh/release/bokeh-widgets-0.12.14.min.css\");\n      console.log(\"Bokeh: injecting CSS: https://cdn.pydata.org/bokeh/release/bokeh-tables-0.12.14.min.css\");\n      Bokeh.embed.inject_css(\"https://cdn.pydata.org/bokeh/release/bokeh-tables-0.12.14.min.css\");\n    }\n  ];\n\n  function run_inline_js() {\n    \n    if ((root.Bokeh !== undefined) || (force === true)) {\n      for (var i = 0; i < inline_js.length; i++) {\n        inline_js[i].call(root, root.Bokeh);\n      }if (force === true) {\n        display_loaded();\n      }} else if (Date.now() < root._bokeh_timeout) {\n      setTimeout(run_inline_js, 100);\n    } else if (!root._bokeh_failed_load) {\n      console.log(\"Bokeh: BokehJS failed to load within specified timeout.\");\n      root._bokeh_failed_load = true;\n    } else if (force !== true) {\n      var cell = $(document.getElementById(\"1ea3ead8-2fc2-4560-b0cd-9ba17a9638f5\")).parents('.cell').data().cell;\n      cell.output_area.append_execute_result(NB_LOAD_WARNING)\n    }\n\n  }\n\n  if (root._bokeh_is_loading === 0) {\n    console.log(\"Bokeh: BokehJS loaded, going straight to plotting\");\n    run_inline_js();\n  } else {\n    load_libs(js_urls, function() {\n      console.log(\"Bokeh: BokehJS plotting callback run at\", now());\n      run_inline_js();\n    });\n  }\n}(window));"
     },
     "metadata": {},
     "output_type": "display_data"
    }
   ],
   "source": [
    "output_notebook()"
   ]
  },
  {
   "cell_type": "code",
   "execution_count": 7,
   "metadata": {
    "collapsed": true
   },
   "outputs": [],
   "source": [
    "def fmt_cool(ds_in):\n",
    "    ds = ds_in.copy(deep=True)\n",
    "    if 'igg' in ds.dims:\n",
    "        ds = ds.sel(igg=1)\n",
    "\n",
    "    if 'g' in ds.dims:\n",
    "        ds = ds.sum('g')\n",
    "            \n",
    "    if 'band' in ds.dims:\n",
    "        try:\n",
    "            ds = ds.squeeze('band')\n",
    "        except ValueError:\n",
    "            ds = ds.sum('band')\n",
    "                \n",
    "    return ds['coolrg']\n",
    "\n",
    "\n",
    "def pltdata_cooling_1(ds_cool_crd=None, ds_cool_wgt=None):\n",
    "    \n",
    "\n",
    "\n",
    "    colors = all_palettes['Set1'][4]\n",
    "    data = [{'label': 'CRD',\n",
    "             'srs': fmt_cool(ds_cool_crd),\n",
    "             'line_dash': 'solid', 'line_width': 1.5,\n",
    "             'marker': 'circle', 'marker_size': 5,\n",
    "             'color': colors[2], 'alpha': 1,},\n",
    "            {'label': 'WGT igg=10',\n",
    "             'srs': fmt_cool(ds_cool_wgt.sel(igg=10)),\n",
    "             'line_dash': 'solid', 'line_width': 3,\n",
    "             'marker': 'square', 'marker_size': 5,\n",
    "             'color': colors[3], 'alpha': .6},\n",
    "            {'label': 'WGT igg=1',\n",
    "             'srs': fmt_cool(ds_cool_wgt.sel(igg=1)),\n",
    "             'line_dash': 'dotdash', 'line_width': 3,\n",
    "             'marker': 'inverted_triangle', 'marker_size': 5,\n",
    "             'color': colors[1], 'alpha': .6}\n",
    "           ]\n",
    "    return data\n",
    "\n",
    "\n",
    "def nice_xlims(pltdata=None, prange=None):\n",
    "    \n",
    "    def get_slice(srs):\n",
    "        return srs.sel(pressure=slice(*prange))\n",
    "    \n",
    "    srss = [d['srs'] for d in pltdata]\n",
    "    vmin = min([get_slice(srs).min() for srs in srss])\n",
    "    vmax = max([get_slice(srs).max() for srs in srss])\n",
    "    dv = (vmax - vmin) * .01\n",
    "    return float(vmin - dv), float(vmax + dv)\n",
    "    \n",
    "\n",
    "def plt_cooling_bokeh(pltdata=None):\n",
    "    '''\n",
    "    Plot a list of cooling rate profiles using bokeh.\n",
    "    '''\n",
    "    ymin = 1e-2 \n",
    "    ymax = 1020 \n",
    "        \n",
    "    p1 = figure(title=\"Linear pressure scale\", \n",
    "                plot_width=400)        \n",
    "    xmin, xmax = nice_xlims(pltdata, prange=(50, 1050))\n",
    "    for d in pltdata:\n",
    "        if 'marker' in d:\n",
    "            getattr(p1, d['marker'])(d['srs'].values, \n",
    "                    d['srs'].coords['pressure'].values,\n",
    "                    color=d['color'], alpha=.7)\n",
    "        p1.line(d['srs'].values, \n",
    "                d['srs'].coords['pressure'].values,\n",
    "                color=d['color'], alpha=d['alpha'], \n",
    "                line_width=d['line_width'], line_dash=d['line_dash'])\n",
    "    \n",
    "    p1.y_range = Range1d(ymax, ymin)\n",
    "    p1.yaxis.axis_label = 'pressure [mb]'   \n",
    "    p1.x_range = Range1d(xmin, xmax)\n",
    "    p1.xaxis.axis_label = 'cooling rate [K/day]'\n",
    "            \n",
    "    p2 = figure(title='Log pressure scale', y_axis_type='log',\n",
    "                plot_width=560)\n",
    "    xmin, xmax = nice_xlims(pltdata, prange=(.01, 200))\n",
    "    \n",
    "    rs = []\n",
    "    for d in pltdata:\n",
    "        rd = []\n",
    "        if 'marker' in d:\n",
    "            r_mark = getattr(p2, d['marker'])(d['srs'].values, \n",
    "                        d['srs'].coords['pressure'].values,\n",
    "                        color=d['color'], alpha=.7)\n",
    "            rd.append(r_mark)\n",
    "        r_line = p2.line(d['srs'].values, \n",
    "                    d['srs'].coords['pressure'].values,\n",
    "                    color=d['color'], alpha=d['alpha'], \n",
    "                    line_width=d['line_width'], line_dash=d['line_dash'])\n",
    "        rd.append(r_line)\n",
    "      \n",
    "        rs.append(rd)\n",
    "        \n",
    "    p2.y_range = Range1d(ymax, ymin)  \n",
    "    p2.yaxis.axis_label = 'pressure [mb]'\n",
    "    \n",
    "    p2.x_range = Range1d(xmin, xmax)\n",
    "    p2.xaxis.axis_label = 'cooling rate [K/day]'\n",
    "    \n",
    "    items = [(d['label'], r) for r, d in zip(rs, pltdata)]\n",
    "    legend = Legend(items=items, location=(10, -30))\n",
    "    legend.label_text_font_size = '8pt'\n",
    "    \n",
    "    p2.add_layout(legend, 'right')  \n",
    "    \n",
    "    show(gridplot(p1, p2, ncols=2, plot_height=500))\n",
    "    \n",
    "\n",
    "def script_plt_cooling():\n",
    "    pltdata = pltdata_cooling_1(\n",
    "        ds_cool_crd=DS_COOL_CRD,\n",
    "        ds_cool_wgt=DS_COOL_WGT)\n",
    "    plt_cooling_bokeh(pltdata=pltdata)\n",
    "    print('''FIGURE. Cooling rate profiles.''')"
   ]
  },
  {
   "cell_type": "code",
   "execution_count": 8,
   "metadata": {
    "collapsed": true
   },
   "outputs": [],
   "source": [
    "def fmt_flux(ds_in):\n",
    "    ds = ds_in.copy(deep=True)\n",
    "    \n",
    "    for l in ('level', 'layer'):\n",
    "        if l in ds.data_vars:\n",
    "            if len(ds[l].dims) > 1:\n",
    "                surface = {d: 0 for d in ds.dims if d != 'pressure'}\n",
    "                coord_level = ds[l][surface]\n",
    "                ds.coords[l] = ('pressure', coord_level)\n",
    "            else:\n",
    "                ds.coords[l] = ('pressure', ds[l])\n",
    "        \n",
    "    ds = ds.isel(pressure=[0, 23, -1])\n",
    "    \n",
    "    if 'igg' in ds.dims:\n",
    "        if ds.dims['igg'] > 1:\n",
    "            print('Select an igg value to view in table.')\n",
    "            raise ValueError\n",
    "        else:\n",
    "            ds = ds.squeeze('igg').drop('igg')\n",
    "    else:\n",
    "        if 'igg' in ds.coords:\n",
    "            ds = ds.drop('igg')\n",
    "\n",
    "    if 'g' in ds.dims:\n",
    "        ds = ds.sum('g')\n",
    "            \n",
    "    if 'band' in ds.dims:\n",
    "        try:\n",
    "            ds = ds.squeeze('band').drop('band')\n",
    "        except ValueError:\n",
    "            ds = ds.sum('band')\n",
    "                \n",
    "    df = ds.to_dataframe()\n",
    "    df = df.set_index('level', append=True)               \n",
    "    return df\n",
    "\n",
    "\n",
    "def tbdata_flux(ds_flux_crd=None, ds_flux_wgt=None):\n",
    "    ilevels = [0, 23, -1]\n",
    "            \n",
    "    benchmark = {'label': 'CRD',\n",
    "                 'df': fmt_flux(ds_flux_crd)}\n",
    "    tbs = [{'label': 'WGT igg=10',\n",
    "            'df': fmt_flux(ds_flux_wgt.sel(igg=10))},\n",
    "           {'label': 'WGT igg=1',\n",
    "            'df': fmt_flux(ds_flux_wgt.sel(igg=1))}]\n",
    "    \n",
    "    data = {'benchmark': benchmark, 'others': tbs}\n",
    "    return data\n",
    "\n",
    "\n",
    "def tb_flux(tbdata=None):\n",
    "    benchmark = tbdata['benchmark']\n",
    "    others = tbdata['others']\n",
    "    \n",
    "    def show_tb(d=None):\n",
    "        display.display(d['df'])\n",
    "        print('Table.', 'Fluxes.', d['label'])\n",
    "        \n",
    "    def show_tbdiff(d0=None, d=None):\n",
    "        df = d['df']\n",
    "        df.index = d0['df'].index\n",
    "        display.display(df - d0['df'])\n",
    "        print('Table.', 'Fluxes.', \n",
    "              '({}) - ({})'.format(d['label'], d0['label']))\n",
    "        \n",
    "    show_tb(benchmark)\n",
    "    for d in others:\n",
    "        show_tb(d)\n",
    "        \n",
    "    for d in others:\n",
    "        show_tbdiff(d=d, d0=benchmark)\n",
    "        \n",
    "        \n",
    "def script_tb_flux():\n",
    "    data = tbdata_flux(ds_flux_crd=DS_FLUX_CRD,\n",
    "                       ds_flux_wgt=DS_FLUX_WGT)\n",
    "    tb_flux(tbdata=data)"
   ]
  },
  {
   "cell_type": "code",
   "execution_count": 9,
   "metadata": {
    "collapsed": true
   },
   "outputs": [],
   "source": [
    "def band_map():\n",
    "    '''\n",
    "    Maps spectral bands in lblnew to spectral bands in clirad.\n",
    "    '''\n",
    "    lblnew2clirad = {'1': '1',\n",
    "            '2': '2',\n",
    "            '3a': '3',\n",
    "            '3b': '4',\n",
    "            '3c': '5',\n",
    "            '4': '6', \n",
    "            '5': '7',\n",
    "            '6': '8',\n",
    "            '7': '9', \n",
    "            '8': '10',\n",
    "            '9': '11'}\n",
    "    \n",
    "    clirad2lblnew = {clirad: lblnew \n",
    "                     for lblnew, clirad in lblnew2clirad.items()}\n",
    "    return clirad2lblnew\n",
    "\n",
    "\n",
    "def gasbands():\n",
    "    bmap = band_map()\n",
    "    gases = list(PARAM['molecule'].keys())\n",
    "    \n",
    "    bands = [str(b) for b in PARAM['band']]\n",
    "    return list(itertools.product(gases, bands))\n",
    "\n",
    "\n",
    "def print_bestfit_params():\n",
    "    print('Best-fit values for each (gas, band)')\n",
    "    print('------------------------------------')\n",
    "    for gas, band in gasbands():\n",
    "        print('o {} band{}'.format(gas, band))\n",
    "        param = bestfits.kdist_params(molecule=gas, band=band)\n",
    "        for name, value in param.items():\n",
    "            print(2 * ' ' + '{} = {}'.format(name, value))\n",
    "\n",
    "        \n",
    "def print_input_param():        \n",
    "    for name, value in PARAM.items():\n",
    "        print('{} = {}'.format(name, value))\n"
   ]
  },
  {
   "cell_type": "code",
   "execution_count": 10,
   "metadata": {
    "collapsed": true,
    "scrolled": false
   },
   "outputs": [],
   "source": [
    "def show_html(s):\n",
    "    display.display(display.HTML(s))\n",
    "\n",
    "    \n",
    "def show_markdown(s):\n",
    "    display.display(display.Markdown(s))\n",
    "\n",
    "    \n",
    "def script():\n",
    "    \n",
    "    title = '### LBLNEW-OVERLAP'\n",
    "    s_input = 'Input Parameters'\n",
    "    s_bestfits = 'Best-fit Parameters'\n",
    "    s_plt_cooling = 'Cooling Rate Profiles'\n",
    "    s_tb_flux = 'Flux Comparison'\n",
    "    \n",
    "    # title\n",
    "    show_markdown(title)\n",
    "    \n",
    "    # TOC\n",
    "    show_markdown('### Table of Contents')\n",
    "    show_html(climahtml.getHTML_hrefanchor(s_input))\n",
    "    show_html(climahtml.getHTML_hrefanchor(s_plt_cooling))\n",
    "    show_html(climahtml.getHTML_hrefanchor(s_tb_flux))\n",
    "    show_html(climahtml.getHTML_hrefanchor(s_bestfits))\n",
    "    \n",
    "    # Input parameters\n",
    "    show_html(climahtml.getHTML_idanchor(s_input))\n",
    "    show_markdown(climahtml.getMarkdown_sectitle(s_input))\n",
    "    print_input_param()\n",
    "    \n",
    "    # Cooling rate profiles\n",
    "    show_html(climahtml.getHTML_idanchor(s_plt_cooling))\n",
    "    show_markdown(climahtml.getMarkdown_sectitle(s_plt_cooling))\n",
    "    script_plt_cooling()\n",
    "    \n",
    "    # Flux comparison\n",
    "    show_html(climahtml.getHTML_idanchor(s_tb_flux))\n",
    "    show_markdown(climahtml.getMarkdown_sectitle(s_tb_flux))\n",
    "    script_tb_flux()\n",
    "    \n",
    "    # Best-fit values\n",
    "    show_html(climahtml.getHTML_idanchor(s_bestfits))\n",
    "    show_markdown(climahtml.getMarkdown_sectitle(s_bestfits))\n",
    "    print_bestfit_params()\n",
    "   \n",
    "    "
   ]
  },
  {
   "cell_type": "code",
   "execution_count": 11,
   "metadata": {
    "scrolled": false
   },
   "outputs": [
    {
     "data": {
      "text/markdown": [
       "### LBLNEW-OVERLAP"
      ],
      "text/plain": [
       "<IPython.core.display.Markdown object>"
      ]
     },
     "metadata": {},
     "output_type": "display_data"
    },
    {
     "data": {
      "text/markdown": [
       "### Table of Contents"
      ],
      "text/plain": [
       "<IPython.core.display.Markdown object>"
      ]
     },
     "metadata": {},
     "output_type": "display_data"
    },
    {
     "data": {
      "text/html": [
       "<a href=\"#Input_Parameters\">Input Parameters</a>"
      ],
      "text/plain": [
       "<IPython.core.display.HTML object>"
      ]
     },
     "metadata": {},
     "output_type": "display_data"
    },
    {
     "data": {
      "text/html": [
       "<a href=\"#Cooling_Rate_Profiles\">Cooling Rate Profiles</a>"
      ],
      "text/plain": [
       "<IPython.core.display.HTML object>"
      ]
     },
     "metadata": {},
     "output_type": "display_data"
    },
    {
     "data": {
      "text/html": [
       "<a href=\"#Flux_Comparison\">Flux Comparison</a>"
      ],
      "text/plain": [
       "<IPython.core.display.HTML object>"
      ]
     },
     "metadata": {},
     "output_type": "display_data"
    },
    {
     "data": {
      "text/html": [
       "<a href=\"#Best-fit_Parameters\">Best-fit Parameters</a>"
      ],
      "text/plain": [
       "<IPython.core.display.HTML object>"
      ]
     },
     "metadata": {},
     "output_type": "display_data"
    },
    {
     "data": {
      "text/html": [
       "<a id=\"Input_Parameters\"></a>"
      ],
      "text/plain": [
       "<IPython.core.display.HTML object>"
      ]
     },
     "metadata": {},
     "output_type": "display_data"
    },
    {
     "data": {
      "text/markdown": [
       "# Input Parameters"
      ],
      "text/plain": [
       "<IPython.core.display.Markdown object>"
      ]
     },
     "metadata": {},
     "output_type": "display_data"
    },
    {
     "name": "stdout",
     "output_type": "stream",
     "text": [
      "commitnumber = 043bdfe\n",
      "molecule = {'h2o': 'atmpro', 'n2o': 3.2e-07}\n",
      "band = 7\n",
      "nv = 1000\n",
      "dv = 0.001\n",
      "atmpro = mls\n",
      "tsfc = 294\n"
     ]
    },
    {
     "data": {
      "text/html": [
       "<a id=\"Cooling_Rate_Profiles\"></a>"
      ],
      "text/plain": [
       "<IPython.core.display.HTML object>"
      ]
     },
     "metadata": {},
     "output_type": "display_data"
    },
    {
     "data": {
      "text/markdown": [
       "# Cooling Rate Profiles"
      ],
      "text/plain": [
       "<IPython.core.display.Markdown object>"
      ]
     },
     "metadata": {},
     "output_type": "display_data"
    },
    {
     "data": {
      "text/html": [
       "\n",
       "<div class=\"bk-root\">\n",
       "    <div class=\"bk-plotdiv\" id=\"3f719c16-fd7b-453c-8030-a24f7666b83e\"></div>\n",
       "</div>"
      ]
     },
     "metadata": {},
     "output_type": "display_data"
    },
    {
     "data": {
      "application/javascript": [
       "(function(root) {\n",
       "  function embed_document(root) {\n",
       "    \n",
       "  var docs_json = {\"6661a198-deeb-41fd-a16f-e09a858e1756\":{\"roots\":{\"references\":[{\"attributes\":{\"data_source\":{\"id\":\"49fb67bc-8eb9-456a-9ac0-dcf6f970fa7e\",\"type\":\"ColumnDataSource\"},\"glyph\":{\"id\":\"6472a6ab-d7a5-4735-b544-539b73649d7d\",\"type\":\"Circle\"},\"hover_glyph\":null,\"muted_glyph\":null,\"nonselection_glyph\":{\"id\":\"b017bd95-25ce-4bee-820f-f1f622889b8f\",\"type\":\"Circle\"},\"selection_glyph\":null,\"view\":{\"id\":\"eebd6765-cfb5-4a0e-9ddb-e21800f66cd2\",\"type\":\"CDSView\"}},\"id\":\"b32c5ee5-5b4e-4900-874b-3ba62e97e6ec\",\"type\":\"GlyphRenderer\"},{\"attributes\":{\"data_source\":{\"id\":\"287cdeaa-cd17-4c8f-a299-f576318e76f0\",\"type\":\"ColumnDataSource\"},\"glyph\":{\"id\":\"99a135e0-6552-436f-babd-adcd38bfd696\",\"type\":\"Line\"},\"hover_glyph\":null,\"muted_glyph\":null,\"nonselection_glyph\":{\"id\":\"a513a876-8ed0-49cd-b491-65122177b180\",\"type\":\"Line\"},\"selection_glyph\":null,\"view\":{\"id\":\"61a8b3b9-8f5a-4093-81a5-0554a904637b\",\"type\":\"CDSView\"}},\"id\":\"38ba0883-4425-4c9f-b75c-08134d21de55\",\"type\":\"GlyphRenderer\"},{\"attributes\":{\"line_alpha\":0.1,\"line_color\":\"#1f77b4\",\"line_width\":1.5,\"x\":{\"field\":\"x\"},\"y\":{\"field\":\"y\"}},\"id\":\"a513a876-8ed0-49cd-b491-65122177b180\",\"type\":\"Line\"},{\"attributes\":{\"fill_alpha\":{\"value\":0.1},\"fill_color\":{\"value\":\"#1f77b4\"},\"line_alpha\":{\"value\":0.1},\"line_color\":{\"value\":\"#1f77b4\"},\"x\":{\"field\":\"x\"},\"y\":{\"field\":\"y\"}},\"id\":\"024e6841-1c6b-48bc-aaab-586a8c8bb124\",\"type\":\"InvertedTriangle\"},{\"attributes\":{\"fill_alpha\":{\"value\":0.7},\"fill_color\":{\"value\":\"#377eb8\"},\"line_alpha\":{\"value\":0.7},\"line_color\":{\"value\":\"#377eb8\"},\"x\":{\"field\":\"x\"},\"y\":{\"field\":\"y\"}},\"id\":\"7df72cd7-ee43-4745-a670-a9fb83ec396c\",\"type\":\"InvertedTriangle\"},{\"attributes\":{\"callback\":null,\"end\":0.01,\"start\":1020},\"id\":\"ff1f7a31-6e0b-4506-8edc-c44267d23d73\",\"type\":\"Range1d\"},{\"attributes\":{\"callback\":null,\"column_names\":[\"x\",\"y\"],\"data\":{\"x\":{\"__ndarray__\":\"jBPbtIRCpL/z1gBysKGlvwPxgtRi+qO/7BasMRt2pL8wp0jhIVyjv30G1JtR86K/NLiodILGor+WQbp6Q1Giv3/NBz7lHKK/IOBLDMIPor8Tmxhdobmhv29fHmqPoqG//daQsFaKob/czLvGO3uhv/yk1e4pyaC/7Hz2XqdRm7+kH2OnhbaPv4+gSwxPlVK/yG+DOuIZkT/IgQiFydOjP+gr8jJd5LA/RPBxBnyHuT8PI2uqervAP36eDn3aVcA/c19Des45uD/y/0A/py6wPxhxDpKWrqQ/IeA5KQYnmj/atfeIHEuRP5YBToy4Qog/vuYSE7+egD8+f/kjzsNzP5XsFpEBEWQ/X0PZ7ybWRT8AZ3nER1Bcv2cBb03u+nO/orZOms11f7+RaLP+V5yEvzJ6C3dwqIq/BJCT7z1PkL9lwoitOz6Rv572Azptb46/JJ2QvMRvhr+LnvgGr3F3vzikH5+GzDc/BSe/Is8Xdj9Z06NGdBGHP1AYgIVNFpM/7f212Mfsmz+MPFrmvuaiP7nRZQnpK6g/FnuIdrAmrT8tZKHipw2xP4Em93h3nbM/CpUaAsk5tj8Jjbbjs+C4PyzA0lSqn7s/8gttCKdovz+TIo1lVV/BP0jnNsBQsMI/aIuU+1e1wz9vq4uhvXbEPwsC0M2jB8U//fwxjD96xT/zSy/36t/FP9Q9VwD4TMY/lW5kgSO/xj80g/jAjv/GP4NQ/9W6v8Y/hE0ZDyH0xT+XV8/FtvfEPz+XX7zVKcQ/f5kYYFnIwz/835VNTifEP1zrB0wSEck/\",\"dtype\":\"float64\",\"shape\":[75]},\"y\":{\"__ndarray__\":\"GhExyth1ND/Sv8nbtpRIP2vylNV0PVE/aTum7souWD/At0SJ8fVgPw3Iuahxymc/MSNhhJWvcD/bTfBN02d3P2zb5nxnaoA/CD5h5MAGhz8NmeH1TyaQP+zrCsc9p5Y/LbKd76fGnz/bLW5ISEmmPww9YvTcQq8/JV2OstnstT8Er5Y7M8G+P0c+r3jqkcU/5h99k6ZBzj88bCIzFzjVP4enV8oyxN0//yH99nXg5D8qOpLLf0jtP5kqGJXUifQ/c9cS8kHP/D+/DpwzojQEQIEmwoanVwxA4lgXt9HgE0BSSZ2AJuIbQAMJih9jjiNA5q4l5INuK0AwTKYKRj0zQNv5fmq8/DpAaCJseHrtQkB/+zpwzoxKQM3MzMzMeFJAZmZmZmZqWEAAAAAAAFxeQM3MzMzMJmJAmpmZmZkfZUBmZmZmZhhoQDMzMzMzEWtAAAAAAAAKbkBmZmZmZoFwQM3MzMzM/XFAMzMzMzN6c0CamZmZmfZ0QAAAAAAAc3ZAZmZmZmbvd0DNzMzMzGt5QDMzMzMz6HpAmpmZmZlkfEAAAAAAAOF9QGZmZmZmXX9AZmZmZuZsgECamZmZGSuBQM3MzMxM6YFAAAAAAICngkAzMzMzs2WDQGZmZmbmI4RAmpmZmRnihEDNzMzMTKCFQAAAAACAXoZAMzMzM7Mch0BmZmZm5tqHQJqZmZkZmYhAzczMzExXiUAAAAAAgBWKQDMzMzOz04pAZmZmZuaRi0CamZmZGVCMQM3MzMxMDo1AAAAAAIDMjUAzMzMzs4qOQGZmZmbmSI9A\",\"dtype\":\"float64\",\"shape\":[75]}}},\"id\":\"287cdeaa-cd17-4c8f-a299-f576318e76f0\",\"type\":\"ColumnDataSource\"},{\"attributes\":{\"active_drag\":\"auto\",\"active_inspect\":\"auto\",\"active_scroll\":\"auto\",\"active_tap\":\"auto\",\"tools\":[{\"id\":\"bed04bfa-1f58-440b-b427-f4903d1b5444\",\"type\":\"PanTool\"},{\"id\":\"2af978b7-6f37-460e-a6b3-29fd535dbc45\",\"type\":\"WheelZoomTool\"},{\"id\":\"121d042d-9cea-4414-b331-f16fb0ed7c31\",\"type\":\"BoxZoomTool\"},{\"id\":\"85892865-5164-4634-9bda-634e6bdcdcab\",\"type\":\"SaveTool\"},{\"id\":\"cf8fca06-335e-4058-b141-b86048a5a6e9\",\"type\":\"ResetTool\"},{\"id\":\"81eab799-1f79-41e0-925d-d40105aba252\",\"type\":\"HelpTool\"}]},\"id\":\"4b3baabf-6d6e-42cc-b07e-8bca51073ca8\",\"type\":\"Toolbar\"},{\"attributes\":{},\"id\":\"44660693-683e-44b9-ad70-dbff1c998c25\",\"type\":\"BasicTickFormatter\"},{\"attributes\":{\"callback\":null,\"column_names\":[\"x\",\"y\"],\"data\":{\"x\":{\"__ndarray__\":\"jBPbtIRCpL/z1gBysKGlvwPxgtRi+qO/7BasMRt2pL8wp0jhIVyjv30G1JtR86K/NLiodILGor+WQbp6Q1Giv3/NBz7lHKK/IOBLDMIPor8Tmxhdobmhv29fHmqPoqG//daQsFaKob/czLvGO3uhv/yk1e4pyaC/7Hz2XqdRm7+kH2OnhbaPv4+gSwxPlVK/yG+DOuIZkT/IgQiFydOjP+gr8jJd5LA/RPBxBnyHuT8PI2uqervAP36eDn3aVcA/c19Des45uD/y/0A/py6wPxhxDpKWrqQ/IeA5KQYnmj/atfeIHEuRP5YBToy4Qog/vuYSE7+egD8+f/kjzsNzP5XsFpEBEWQ/X0PZ7ybWRT8AZ3nER1Bcv2cBb03u+nO/orZOms11f7+RaLP+V5yEvzJ6C3dwqIq/BJCT7z1PkL9lwoitOz6Rv572Azptb46/JJ2QvMRvhr+LnvgGr3F3vzikH5+GzDc/BSe/Is8Xdj9Z06NGdBGHP1AYgIVNFpM/7f212Mfsmz+MPFrmvuaiP7nRZQnpK6g/FnuIdrAmrT8tZKHipw2xP4Em93h3nbM/CpUaAsk5tj8Jjbbjs+C4PyzA0lSqn7s/8gttCKdovz+TIo1lVV/BP0jnNsBQsMI/aIuU+1e1wz9vq4uhvXbEPwsC0M2jB8U//fwxjD96xT/zSy/36t/FP9Q9VwD4TMY/lW5kgSO/xj80g/jAjv/GP4NQ/9W6v8Y/hE0ZDyH0xT+XV8/FtvfEPz+XX7zVKcQ/f5kYYFnIwz/835VNTifEP1zrB0wSEck/\",\"dtype\":\"float64\",\"shape\":[75]},\"y\":{\"__ndarray__\":\"GhExyth1ND/Sv8nbtpRIP2vylNV0PVE/aTum7souWD/At0SJ8fVgPw3Iuahxymc/MSNhhJWvcD/bTfBN02d3P2zb5nxnaoA/CD5h5MAGhz8NmeH1TyaQP+zrCsc9p5Y/LbKd76fGnz/bLW5ISEmmPww9YvTcQq8/JV2OstnstT8Er5Y7M8G+P0c+r3jqkcU/5h99k6ZBzj88bCIzFzjVP4enV8oyxN0//yH99nXg5D8qOpLLf0jtP5kqGJXUifQ/c9cS8kHP/D+/DpwzojQEQIEmwoanVwxA4lgXt9HgE0BSSZ2AJuIbQAMJih9jjiNA5q4l5INuK0AwTKYKRj0zQNv5fmq8/DpAaCJseHrtQkB/+zpwzoxKQM3MzMzMeFJAZmZmZmZqWEAAAAAAAFxeQM3MzMzMJmJAmpmZmZkfZUBmZmZmZhhoQDMzMzMzEWtAAAAAAAAKbkBmZmZmZoFwQM3MzMzM/XFAMzMzMzN6c0CamZmZmfZ0QAAAAAAAc3ZAZmZmZmbvd0DNzMzMzGt5QDMzMzMz6HpAmpmZmZlkfEAAAAAAAOF9QGZmZmZmXX9AZmZmZuZsgECamZmZGSuBQM3MzMxM6YFAAAAAAICngkAzMzMzs2WDQGZmZmbmI4RAmpmZmRnihEDNzMzMTKCFQAAAAACAXoZAMzMzM7Mch0BmZmZm5tqHQJqZmZkZmYhAzczMzExXiUAAAAAAgBWKQDMzMzOz04pAZmZmZuaRi0CamZmZGVCMQM3MzMxMDo1AAAAAAIDMjUAzMzMzs4qOQGZmZmbmSI9A\",\"dtype\":\"float64\",\"shape\":[75]}}},\"id\":\"af448cca-0f4d-4ad2-ad99-0769d4a24c4c\",\"type\":\"ColumnDataSource\"},{\"attributes\":{\"fill_alpha\":{\"value\":0.1},\"fill_color\":{\"value\":\"#1f77b4\"},\"line_alpha\":{\"value\":0.1},\"line_color\":{\"value\":\"#1f77b4\"},\"x\":{\"field\":\"x\"},\"y\":{\"field\":\"y\"}},\"id\":\"b017bd95-25ce-4bee-820f-f1f622889b8f\",\"type\":\"Circle\"},{\"attributes\":{\"plot\":null,\"text\":\"Linear pressure scale\"},\"id\":\"6eaca438-ef81-4377-b0ab-7386494fd459\",\"type\":\"Title\"},{\"attributes\":{\"axis_label\":\"pressure [mb]\",\"formatter\":{\"id\":\"44660693-683e-44b9-ad70-dbff1c998c25\",\"type\":\"BasicTickFormatter\"},\"plot\":{\"id\":\"ae5e34b6-1064-4382-93ee-6615cdbc215d\",\"subtype\":\"Figure\",\"type\":\"Plot\"},\"ticker\":{\"id\":\"6857dbfd-016a-4700-a7a5-70ccbd879494\",\"type\":\"BasicTicker\"}},\"id\":\"986a4eb8-fa8b-4fd9-9faf-5db727197397\",\"type\":\"LinearAxis\"},{\"attributes\":{\"source\":{\"id\":\"af448cca-0f4d-4ad2-ad99-0769d4a24c4c\",\"type\":\"ColumnDataSource\"}},\"id\":\"698dfcef-b2bf-4e4e-b25e-f0051a52a7b0\",\"type\":\"CDSView\"},{\"attributes\":{\"callback\":null,\"column_names\":[\"x\",\"y\"],\"data\":{\"x\":{\"__ndarray__\":\"Q6KyXJSrkL/iBqy3Ln6Qv8Ih5FQcG5C/Lo1av2tgj78/OC3lbYaOvwGGVyWgqI2/XHD8DEzHjL+rLLEC4eKLv/gNpG/4+4q/asB26YwTir+4DYyEAiuJv++JSiog24i/HVZkL7XQg7/KNg3dLiyGvyFSlhStkoG/7ty704tEcr/ueuMHEotkPzzogasWuo0/qv35XahhnT94eXe6rO+mP8T+md5RJbE/5aIQt/m1tz81gPHrCxG+P+/qbgEVTL4/f1SGGzfPuD+BadyRbb2yP/78V1PiBas/0EDR4cbSoj87g45vUkWZP1ryc6HEd5A/tMl3Zo/Cgz9cp6N5hsRzPwHRzEpMNFU/yzvCueNlVr9CLVAKr29zv+LA9E3EYYK/jJ2khFbjib863wa34AWQv4Jkz9h2XpO/BHaxQCbflb+NpGMiM4SWv6qA0Z74VZS/SCJhAxWaj7+8ZxMWy+ODv2TRfuilCWO/vEGBZQ8uaT96Qo7ogNaBP79dM09nVJA/fpBqen6ImT8CxjCwWfGhP0vcdBWcC6c/iQTSTJfIqz+YBcnx+RewP+Bh0MWDhrI/AYbgFv4ctT9TIlRsduu3P4WhBrqT27o/VDtgqtvRvj9erSTDOwrBP+tShh7vXcI/PqFsBMFnwz8J4CTVkBvEP6MNl4cSzsQ/p1Ylsot5xT8/laofYTnGP0DVzzhgGcc//dQdMLTfxz8SXorEZ1/IP7V9uHkdUMg/lUyppn+kxz+j7Mq6wcjGP5ZyQhEg/cU/Y1Iy7yeZxT9TOh5UXgLGP2dUriraoMo/\",\"dtype\":\"float64\",\"shape\":[75]},\"y\":{\"__ndarray__\":\"GhExyth1ND/Sv8nbtpRIP2vylNV0PVE/aTum7souWD/At0SJ8fVgPw3Iuahxymc/MSNhhJWvcD/bTfBN02d3P2zb5nxnaoA/CD5h5MAGhz8NmeH1TyaQP+zrCsc9p5Y/LbKd76fGnz/bLW5ISEmmPww9YvTcQq8/JV2OstnstT8Er5Y7M8G+P0c+r3jqkcU/5h99k6ZBzj88bCIzFzjVP4enV8oyxN0//yH99nXg5D8qOpLLf0jtP5kqGJXUifQ/c9cS8kHP/D+/DpwzojQEQIEmwoanVwxA4lgXt9HgE0BSSZ2AJuIbQAMJih9jjiNA5q4l5INuK0AwTKYKRj0zQNv5fmq8/DpAaCJseHrtQkB/+zpwzoxKQM3MzMzMeFJAZmZmZmZqWEAAAAAAAFxeQM3MzMzMJmJAmpmZmZkfZUBmZmZmZhhoQDMzMzMzEWtAAAAAAAAKbkBmZmZmZoFwQM3MzMzM/XFAMzMzMzN6c0CamZmZmfZ0QAAAAAAAc3ZAZmZmZmbvd0DNzMzMzGt5QDMzMzMz6HpAmpmZmZlkfEAAAAAAAOF9QGZmZmZmXX9AZmZmZuZsgECamZmZGSuBQM3MzMxM6YFAAAAAAICngkAzMzMzs2WDQGZmZmbmI4RAmpmZmRnihEDNzMzMTKCFQAAAAACAXoZAMzMzM7Mch0BmZmZm5tqHQJqZmZkZmYhAzczMzExXiUAAAAAAgBWKQDMzMzOz04pAZmZmZuaRi0CamZmZGVCMQM3MzMxMDo1AAAAAAIDMjUAzMzMzs4qOQGZmZmbmSI9A\",\"dtype\":\"float64\",\"shape\":[75]}}},\"id\":\"d508bc78-c29a-4447-99e6-e2cf7561d061\",\"type\":\"ColumnDataSource\"},{\"attributes\":{\"tools\":[{\"id\":\"bed04bfa-1f58-440b-b427-f4903d1b5444\",\"type\":\"PanTool\"},{\"id\":\"2af978b7-6f37-460e-a6b3-29fd535dbc45\",\"type\":\"WheelZoomTool\"},{\"id\":\"121d042d-9cea-4414-b331-f16fb0ed7c31\",\"type\":\"BoxZoomTool\"},{\"id\":\"85892865-5164-4634-9bda-634e6bdcdcab\",\"type\":\"SaveTool\"},{\"id\":\"cf8fca06-335e-4058-b141-b86048a5a6e9\",\"type\":\"ResetTool\"},{\"id\":\"81eab799-1f79-41e0-925d-d40105aba252\",\"type\":\"HelpTool\"},{\"id\":\"44eb25f4-ad2c-4268-a216-b806528c6c20\",\"type\":\"PanTool\"},{\"id\":\"27bc482a-eaa0-492b-a1a2-d3e3c0966ff1\",\"type\":\"WheelZoomTool\"},{\"id\":\"46803aa2-bccc-4657-b073-0ce695682dae\",\"type\":\"BoxZoomTool\"},{\"id\":\"8545bfd2-2b3c-4133-9ba7-4234e52a183b\",\"type\":\"SaveTool\"},{\"id\":\"ae434849-b9ab-4bff-9fad-8f0f641c7a0c\",\"type\":\"ResetTool\"},{\"id\":\"98007f9c-b571-42e2-b764-a78ba6b34933\",\"type\":\"HelpTool\"}]},\"id\":\"b77581c7-6d68-4c26-a21f-e7bc9cb28ee4\",\"type\":\"ProxyToolbar\"},{\"attributes\":{\"callback\":null,\"column_names\":[\"x\",\"y\"],\"data\":{\"x\":{\"__ndarray__\":\"yo7CMox0iL809ZR+vSCIv3CZkUlfa4e/chv7/HGnhr+8EJSjTN+Fv1VntcAeE4W/m9ZlcfFChL/R6epn2W6Dv6PEatDwloK/Vf/toHy7gb9WyeAd4tyAv5hiH0Al93+/O4NfW2Ewfr+feVX4zkd8vzL9uYGuOHa/1jatOJWeTb+xnq58A4R8Pzp8g0MwjZE/nOIOJ3K5nj8pp9j5AKKnP4vgEo+q97A/f3d+k55Qtz+ixhBCOE29P1tAiUtlvL0/yr0/LDvHuD/LxVIDUSCzP7C4/cdJLqw/HdFRzwHQoz/C+Pw/baWaPxNSQqY465A/5t9NCDQQgz/2lKpiojBwPxUpS5lraUA/C2eOF5g2YL8shHbCm5J0v8z+1tTNU4K/on60i6vCib/I/jBEed+Pv4Vni2l7+5K/FAk+t+R5lb/K8Wa0JRCWv95aOqfYH5S/7xxTQnNHkL/hYlQ405uFv0NG0DBmX2q/X6y+pkZpYD9VP6Fkk3h8P3HCkfuu7Iw/I0HAc1IMmD8sZBup2EehP7ifd1YXX6Y/lwNtDc2+qj82eIVcriCvP/pUGNIWFLI/vOyVgRz3tD+sVrSmahy4P5fR4YS2Wrs/XdmJuw96vz8octJFVHLBP7EBbJs9q8I/dxLP4XOKwz+K0hiMlUHEP1DIa7EdBMU/In3F4ILoxT+vxdk6WebGP7Nl8UnE58c/p7d5wpbHyD8mc+rS2EHJP/APhPllD8k/p5uboX44yD/sUXYCsyXHPxHDcY2NSMY/kYwHIUHtxT+cmYm3CGvGPy8H7v6AIMs/\",\"dtype\":\"float64\",\"shape\":[75]},\"y\":{\"__ndarray__\":\"GhExyth1ND/Sv8nbtpRIP2vylNV0PVE/aTum7souWD/At0SJ8fVgPw3Iuahxymc/MSNhhJWvcD/bTfBN02d3P2zb5nxnaoA/CD5h5MAGhz8NmeH1TyaQP+zrCsc9p5Y/LbKd76fGnz/bLW5ISEmmPww9YvTcQq8/JV2OstnstT8Er5Y7M8G+P0c+r3jqkcU/5h99k6ZBzj88bCIzFzjVP4enV8oyxN0//yH99nXg5D8qOpLLf0jtP5kqGJXUifQ/c9cS8kHP/D+/DpwzojQEQIEmwoanVwxA4lgXt9HgE0BSSZ2AJuIbQAMJih9jjiNA5q4l5INuK0AwTKYKRj0zQNv5fmq8/DpAaCJseHrtQkB/+zpwzoxKQM3MzMzMeFJAZmZmZmZqWEAAAAAAAFxeQM3MzMzMJmJAmpmZmZkfZUBmZmZmZhhoQDMzMzMzEWtAAAAAAAAKbkBmZmZmZoFwQM3MzMzM/XFAMzMzMzN6c0CamZmZmfZ0QAAAAAAAc3ZAZmZmZmbvd0DNzMzMzGt5QDMzMzMz6HpAmpmZmZlkfEAAAAAAAOF9QGZmZmZmXX9AZmZmZuZsgECamZmZGSuBQM3MzMxM6YFAAAAAAICngkAzMzMzs2WDQGZmZmbmI4RAmpmZmRnihEDNzMzMTKCFQAAAAACAXoZAMzMzM7Mch0BmZmZm5tqHQJqZmZkZmYhAzczMzExXiUAAAAAAgBWKQDMzMzOz04pAZmZmZuaRi0CamZmZGVCMQM3MzMxMDo1AAAAAAIDMjUAzMzMzs4qOQGZmZmbmSI9A\",\"dtype\":\"float64\",\"shape\":[75]}}},\"id\":\"b5023e3e-6df6-47b4-aadf-4998c54da513\",\"type\":\"ColumnDataSource\"},{\"attributes\":{\"line_color\":\"#4daf4a\",\"line_width\":1.5,\"x\":{\"field\":\"x\"},\"y\":{\"field\":\"y\"}},\"id\":\"480490a3-8c42-46a2-96ec-d2ef70517192\",\"type\":\"Line\"},{\"attributes\":{},\"id\":\"2a88b6ca-9b2b-4cbd-b37e-76d952d57edd\",\"type\":\"LinearScale\"},{\"attributes\":{\"ticker\":null},\"id\":\"c7c11fac-097a-4797-8d63-c19c62f14863\",\"type\":\"LogTickFormatter\"},{\"attributes\":{},\"id\":\"2af978b7-6f37-460e-a6b3-29fd535dbc45\",\"type\":\"WheelZoomTool\"},{\"attributes\":{},\"id\":\"85892865-5164-4634-9bda-634e6bdcdcab\",\"type\":\"SaveTool\"},{\"attributes\":{\"data_source\":{\"id\":\"d508bc78-c29a-4447-99e6-e2cf7561d061\",\"type\":\"ColumnDataSource\"},\"glyph\":{\"id\":\"7df72cd7-ee43-4745-a670-a9fb83ec396c\",\"type\":\"InvertedTriangle\"},\"hover_glyph\":null,\"muted_glyph\":null,\"nonselection_glyph\":{\"id\":\"024e6841-1c6b-48bc-aaab-586a8c8bb124\",\"type\":\"InvertedTriangle\"},\"selection_glyph\":null,\"view\":{\"id\":\"17c34254-e6af-46ba-92f2-a3c67ae48800\",\"type\":\"CDSView\"}},\"id\":\"2fbc27ff-c4c8-4a40-a310-ca26c6881ff7\",\"type\":\"GlyphRenderer\"},{\"attributes\":{},\"id\":\"74e38f91-fa34-4725-9c4d-5e030b7d7cc6\",\"type\":\"BasicTicker\"},{\"attributes\":{\"line_alpha\":0.1,\"line_color\":\"#1f77b4\",\"line_width\":1.5,\"x\":{\"field\":\"x\"},\"y\":{\"field\":\"y\"}},\"id\":\"852d9b79-064d-4cd2-a145-0e31221b03a7\",\"type\":\"Line\"},{\"attributes\":{},\"id\":\"6857dbfd-016a-4700-a7a5-70ccbd879494\",\"type\":\"BasicTicker\"},{\"attributes\":{\"line_color\":\"#4daf4a\",\"line_width\":1.5,\"x\":{\"field\":\"x\"},\"y\":{\"field\":\"y\"}},\"id\":\"99a135e0-6552-436f-babd-adcd38bfd696\",\"type\":\"Line\"},{\"attributes\":{\"dimension\":1,\"plot\":{\"id\":\"ae5e34b6-1064-4382-93ee-6615cdbc215d\",\"subtype\":\"Figure\",\"type\":\"Plot\"},\"ticker\":{\"id\":\"6857dbfd-016a-4700-a7a5-70ccbd879494\",\"type\":\"BasicTicker\"}},\"id\":\"f70ada5c-5167-4fb2-83e3-cd02d4e0a4e8\",\"type\":\"Grid\"},{\"attributes\":{},\"id\":\"bed04bfa-1f58-440b-b427-f4903d1b5444\",\"type\":\"PanTool\"},{\"attributes\":{\"bottom_units\":\"screen\",\"fill_alpha\":{\"value\":0.5},\"fill_color\":{\"value\":\"lightgrey\"},\"left_units\":\"screen\",\"level\":\"overlay\",\"line_alpha\":{\"value\":1.0},\"line_color\":{\"value\":\"black\"},\"line_dash\":[4,4],\"line_width\":{\"value\":2},\"plot\":null,\"render_mode\":\"css\",\"right_units\":\"screen\",\"top_units\":\"screen\"},\"id\":\"0863a63c-744d-437d-a473-924f6e0935f5\",\"type\":\"BoxAnnotation\"},{\"attributes\":{\"callback\":null,\"column_names\":[\"x\",\"y\"],\"data\":{\"x\":{\"__ndarray__\":\"yo7CMox0iL809ZR+vSCIv3CZkUlfa4e/chv7/HGnhr+8EJSjTN+Fv1VntcAeE4W/m9ZlcfFChL/R6epn2W6Dv6PEatDwloK/Vf/toHy7gb9WyeAd4tyAv5hiH0Al93+/O4NfW2Ewfr+feVX4zkd8vzL9uYGuOHa/1jatOJWeTb+xnq58A4R8Pzp8g0MwjZE/nOIOJ3K5nj8pp9j5AKKnP4vgEo+q97A/f3d+k55Qtz+ixhBCOE29P1tAiUtlvL0/yr0/LDvHuD/LxVIDUSCzP7C4/cdJLqw/HdFRzwHQoz/C+Pw/baWaPxNSQqY465A/5t9NCDQQgz/2lKpiojBwPxUpS5lraUA/C2eOF5g2YL8shHbCm5J0v8z+1tTNU4K/on60i6vCib/I/jBEed+Pv4Vni2l7+5K/FAk+t+R5lb/K8Wa0JRCWv95aOqfYH5S/7xxTQnNHkL/hYlQ405uFv0NG0DBmX2q/X6y+pkZpYD9VP6Fkk3h8P3HCkfuu7Iw/I0HAc1IMmD8sZBup2EehP7ifd1YXX6Y/lwNtDc2+qj82eIVcriCvP/pUGNIWFLI/vOyVgRz3tD+sVrSmahy4P5fR4YS2Wrs/XdmJuw96vz8octJFVHLBP7EBbJs9q8I/dxLP4XOKwz+K0hiMlUHEP1DIa7EdBMU/In3F4ILoxT+vxdk6WebGP7Nl8UnE58c/p7d5wpbHyD8mc+rS2EHJP/APhPllD8k/p5uboX44yD/sUXYCsyXHPxHDcY2NSMY/kYwHIUHtxT+cmYm3CGvGPy8H7v6AIMs/\",\"dtype\":\"float64\",\"shape\":[75]},\"y\":{\"__ndarray__\":\"GhExyth1ND/Sv8nbtpRIP2vylNV0PVE/aTum7souWD/At0SJ8fVgPw3Iuahxymc/MSNhhJWvcD/bTfBN02d3P2zb5nxnaoA/CD5h5MAGhz8NmeH1TyaQP+zrCsc9p5Y/LbKd76fGnz/bLW5ISEmmPww9YvTcQq8/JV2OstnstT8Er5Y7M8G+P0c+r3jqkcU/5h99k6ZBzj88bCIzFzjVP4enV8oyxN0//yH99nXg5D8qOpLLf0jtP5kqGJXUifQ/c9cS8kHP/D+/DpwzojQEQIEmwoanVwxA4lgXt9HgE0BSSZ2AJuIbQAMJih9jjiNA5q4l5INuK0AwTKYKRj0zQNv5fmq8/DpAaCJseHrtQkB/+zpwzoxKQM3MzMzMeFJAZmZmZmZqWEAAAAAAAFxeQM3MzMzMJmJAmpmZmZkfZUBmZmZmZhhoQDMzMzMzEWtAAAAAAAAKbkBmZmZmZoFwQM3MzMzM/XFAMzMzMzN6c0CamZmZmfZ0QAAAAAAAc3ZAZmZmZmbvd0DNzMzMzGt5QDMzMzMz6HpAmpmZmZlkfEAAAAAAAOF9QGZmZmZmXX9AZmZmZuZsgECamZmZGSuBQM3MzMxM6YFAAAAAAICngkAzMzMzs2WDQGZmZmbmI4RAmpmZmRnihEDNzMzMTKCFQAAAAACAXoZAMzMzM7Mch0BmZmZm5tqHQJqZmZkZmYhAzczMzExXiUAAAAAAgBWKQDMzMzOz04pAZmZmZuaRi0CamZmZGVCMQM3MzMxMDo1AAAAAAIDMjUAzMzMzs4qOQGZmZmbmSI9A\",\"dtype\":\"float64\",\"shape\":[75]}}},\"id\":\"ffe06b31-2428-4d47-94b4-c163ce50e4ca\",\"type\":\"ColumnDataSource\"},{\"attributes\":{\"source\":{\"id\":\"49fb67bc-8eb9-456a-9ac0-dcf6f970fa7e\",\"type\":\"ColumnDataSource\"}},\"id\":\"eebd6765-cfb5-4a0e-9ddb-e21800f66cd2\",\"type\":\"CDSView\"},{\"attributes\":{\"axis_label\":\"cooling rate [K/day]\",\"formatter\":{\"id\":\"b29c9491-177f-464d-9d68-e21402414271\",\"type\":\"BasicTickFormatter\"},\"plot\":{\"id\":\"ae5e34b6-1064-4382-93ee-6615cdbc215d\",\"subtype\":\"Figure\",\"type\":\"Plot\"},\"ticker\":{\"id\":\"74e38f91-fa34-4725-9c4d-5e030b7d7cc6\",\"type\":\"BasicTicker\"}},\"id\":\"f17856a8-ac5f-4576-a37d-d9f51fc8475c\",\"type\":\"LinearAxis\"},{\"attributes\":{\"fill_alpha\":{\"value\":0.7},\"fill_color\":{\"value\":\"#4daf4a\"},\"line_alpha\":{\"value\":0.7},\"line_color\":{\"value\":\"#4daf4a\"},\"x\":{\"field\":\"x\"},\"y\":{\"field\":\"y\"}},\"id\":\"07bbf012-7627-48f6-ae66-6cda46a6f6a4\",\"type\":\"Circle\"},{\"attributes\":{\"callback\":null,\"column_names\":[\"x\",\"y\"],\"data\":{\"x\":{\"__ndarray__\":\"yo7CMox0iL809ZR+vSCIv3CZkUlfa4e/chv7/HGnhr+8EJSjTN+Fv1VntcAeE4W/m9ZlcfFChL/R6epn2W6Dv6PEatDwloK/Vf/toHy7gb9WyeAd4tyAv5hiH0Al93+/O4NfW2Ewfr+feVX4zkd8vzL9uYGuOHa/1jatOJWeTb+xnq58A4R8Pzp8g0MwjZE/nOIOJ3K5nj8pp9j5AKKnP4vgEo+q97A/f3d+k55Qtz+ixhBCOE29P1tAiUtlvL0/yr0/LDvHuD/LxVIDUSCzP7C4/cdJLqw/HdFRzwHQoz/C+Pw/baWaPxNSQqY465A/5t9NCDQQgz/2lKpiojBwPxUpS5lraUA/C2eOF5g2YL8shHbCm5J0v8z+1tTNU4K/on60i6vCib/I/jBEed+Pv4Vni2l7+5K/FAk+t+R5lb/K8Wa0JRCWv95aOqfYH5S/7xxTQnNHkL/hYlQ405uFv0NG0DBmX2q/X6y+pkZpYD9VP6Fkk3h8P3HCkfuu7Iw/I0HAc1IMmD8sZBup2EehP7ifd1YXX6Y/lwNtDc2+qj82eIVcriCvP/pUGNIWFLI/vOyVgRz3tD+sVrSmahy4P5fR4YS2Wrs/XdmJuw96vz8octJFVHLBP7EBbJs9q8I/dxLP4XOKwz+K0hiMlUHEP1DIa7EdBMU/In3F4ILoxT+vxdk6WebGP7Nl8UnE58c/p7d5wpbHyD8mc+rS2EHJP/APhPllD8k/p5uboX44yD/sUXYCsyXHPxHDcY2NSMY/kYwHIUHtxT+cmYm3CGvGPy8H7v6AIMs/\",\"dtype\":\"float64\",\"shape\":[75]},\"y\":{\"__ndarray__\":\"GhExyth1ND/Sv8nbtpRIP2vylNV0PVE/aTum7souWD/At0SJ8fVgPw3Iuahxymc/MSNhhJWvcD/bTfBN02d3P2zb5nxnaoA/CD5h5MAGhz8NmeH1TyaQP+zrCsc9p5Y/LbKd76fGnz/bLW5ISEmmPww9YvTcQq8/JV2OstnstT8Er5Y7M8G+P0c+r3jqkcU/5h99k6ZBzj88bCIzFzjVP4enV8oyxN0//yH99nXg5D8qOpLLf0jtP5kqGJXUifQ/c9cS8kHP/D+/DpwzojQEQIEmwoanVwxA4lgXt9HgE0BSSZ2AJuIbQAMJih9jjiNA5q4l5INuK0AwTKYKRj0zQNv5fmq8/DpAaCJseHrtQkB/+zpwzoxKQM3MzMzMeFJAZmZmZmZqWEAAAAAAAFxeQM3MzMzMJmJAmpmZmZkfZUBmZmZmZhhoQDMzMzMzEWtAAAAAAAAKbkBmZmZmZoFwQM3MzMzM/XFAMzMzMzN6c0CamZmZmfZ0QAAAAAAAc3ZAZmZmZmbvd0DNzMzMzGt5QDMzMzMz6HpAmpmZmZlkfEAAAAAAAOF9QGZmZmZmXX9AZmZmZuZsgECamZmZGSuBQM3MzMxM6YFAAAAAAICngkAzMzMzs2WDQGZmZmbmI4RAmpmZmRnihEDNzMzMTKCFQAAAAACAXoZAMzMzM7Mch0BmZmZm5tqHQJqZmZkZmYhAzczMzExXiUAAAAAAgBWKQDMzMzOz04pAZmZmZuaRi0CamZmZGVCMQM3MzMxMDo1AAAAAAIDMjUAzMzMzs4qOQGZmZmbmSI9A\",\"dtype\":\"float64\",\"shape\":[75]}}},\"id\":\"a0a26f99-4ed8-4d62-b81f-bf23ad6ccff7\",\"type\":\"ColumnDataSource\"},{\"attributes\":{\"source\":{\"id\":\"b98d3224-4461-45c1-a169-411f1685ed9a\",\"type\":\"ColumnDataSource\"}},\"id\":\"1a3dad6f-4c33-4b11-9dc8-013a9eeb47d5\",\"type\":\"CDSView\"},{\"attributes\":{},\"id\":\"81eab799-1f79-41e0-925d-d40105aba252\",\"type\":\"HelpTool\"},{\"attributes\":{},\"id\":\"55b84bcc-2db1-45c1-a46d-e588efa5079b\",\"type\":\"BasicTickFormatter\"},{\"attributes\":{\"callback\":null,\"column_names\":[\"x\",\"y\"],\"data\":{\"x\":{\"__ndarray__\":\"jBPbtIRCpL/z1gBysKGlvwPxgtRi+qO/7BasMRt2pL8wp0jhIVyjv30G1JtR86K/NLiodILGor+WQbp6Q1Giv3/NBz7lHKK/IOBLDMIPor8Tmxhdobmhv29fHmqPoqG//daQsFaKob/czLvGO3uhv/yk1e4pyaC/7Hz2XqdRm7+kH2OnhbaPv4+gSwxPlVK/yG+DOuIZkT/IgQiFydOjP+gr8jJd5LA/RPBxBnyHuT8PI2uqervAP36eDn3aVcA/c19Des45uD/y/0A/py6wPxhxDpKWrqQ/IeA5KQYnmj/atfeIHEuRP5YBToy4Qog/vuYSE7+egD8+f/kjzsNzP5XsFpEBEWQ/X0PZ7ybWRT8AZ3nER1Bcv2cBb03u+nO/orZOms11f7+RaLP+V5yEvzJ6C3dwqIq/BJCT7z1PkL9lwoitOz6Rv572Azptb46/JJ2QvMRvhr+LnvgGr3F3vzikH5+GzDc/BSe/Is8Xdj9Z06NGdBGHP1AYgIVNFpM/7f212Mfsmz+MPFrmvuaiP7nRZQnpK6g/FnuIdrAmrT8tZKHipw2xP4Em93h3nbM/CpUaAsk5tj8Jjbbjs+C4PyzA0lSqn7s/8gttCKdovz+TIo1lVV/BP0jnNsBQsMI/aIuU+1e1wz9vq4uhvXbEPwsC0M2jB8U//fwxjD96xT/zSy/36t/FP9Q9VwD4TMY/lW5kgSO/xj80g/jAjv/GP4NQ/9W6v8Y/hE0ZDyH0xT+XV8/FtvfEPz+XX7zVKcQ/f5kYYFnIwz/835VNTifEP1zrB0wSEck/\",\"dtype\":\"float64\",\"shape\":[75]},\"y\":{\"__ndarray__\":\"GhExyth1ND/Sv8nbtpRIP2vylNV0PVE/aTum7souWD/At0SJ8fVgPw3Iuahxymc/MSNhhJWvcD/bTfBN02d3P2zb5nxnaoA/CD5h5MAGhz8NmeH1TyaQP+zrCsc9p5Y/LbKd76fGnz/bLW5ISEmmPww9YvTcQq8/JV2OstnstT8Er5Y7M8G+P0c+r3jqkcU/5h99k6ZBzj88bCIzFzjVP4enV8oyxN0//yH99nXg5D8qOpLLf0jtP5kqGJXUifQ/c9cS8kHP/D+/DpwzojQEQIEmwoanVwxA4lgXt9HgE0BSSZ2AJuIbQAMJih9jjiNA5q4l5INuK0AwTKYKRj0zQNv5fmq8/DpAaCJseHrtQkB/+zpwzoxKQM3MzMzMeFJAZmZmZmZqWEAAAAAAAFxeQM3MzMzMJmJAmpmZmZkfZUBmZmZmZhhoQDMzMzMzEWtAAAAAAAAKbkBmZmZmZoFwQM3MzMzM/XFAMzMzMzN6c0CamZmZmfZ0QAAAAAAAc3ZAZmZmZmbvd0DNzMzMzGt5QDMzMzMz6HpAmpmZmZlkfEAAAAAAAOF9QGZmZmZmXX9AZmZmZuZsgECamZmZGSuBQM3MzMxM6YFAAAAAAICngkAzMzMzs2WDQGZmZmbmI4RAmpmZmRnihEDNzMzMTKCFQAAAAACAXoZAMzMzM7Mch0BmZmZm5tqHQJqZmZkZmYhAzczMzExXiUAAAAAAgBWKQDMzMzOz04pAZmZmZuaRi0CamZmZGVCMQM3MzMxMDo1AAAAAAIDMjUAzMzMzs4qOQGZmZmbmSI9A\",\"dtype\":\"float64\",\"shape\":[75]}}},\"id\":\"b98d3224-4461-45c1-a169-411f1685ed9a\",\"type\":\"ColumnDataSource\"},{\"attributes\":{\"plot\":{\"id\":\"ae5e34b6-1064-4382-93ee-6615cdbc215d\",\"subtype\":\"Figure\",\"type\":\"Plot\"},\"ticker\":{\"id\":\"74e38f91-fa34-4725-9c4d-5e030b7d7cc6\",\"type\":\"BasicTicker\"}},\"id\":\"4fcc9347-b511-4c5c-b12d-a6b50552db10\",\"type\":\"Grid\"},{\"attributes\":{},\"id\":\"d08a088b-2327-4e00-a675-80615aee9941\",\"type\":\"LinearScale\"},{\"attributes\":{\"fill_alpha\":{\"value\":0.1},\"fill_color\":{\"value\":\"#1f77b4\"},\"line_alpha\":{\"value\":0.1},\"line_color\":{\"value\":\"#1f77b4\"},\"x\":{\"field\":\"x\"},\"y\":{\"field\":\"y\"}},\"id\":\"1f6f0682-b2da-4846-8e0a-58720aeea0e0\",\"type\":\"Square\"},{\"attributes\":{\"line_alpha\":0.6,\"line_color\":\"#984ea3\",\"line_width\":3,\"x\":{\"field\":\"x\"},\"y\":{\"field\":\"y\"}},\"id\":\"8bf00f16-96e6-401c-9d0e-d0f835eeebb6\",\"type\":\"Line\"},{\"attributes\":{},\"id\":\"b29c9491-177f-464d-9d68-e21402414271\",\"type\":\"BasicTickFormatter\"},{\"attributes\":{\"fill_alpha\":{\"value\":0.7},\"fill_color\":{\"value\":\"#984ea3\"},\"line_alpha\":{\"value\":0.7},\"line_color\":{\"value\":\"#984ea3\"},\"x\":{\"field\":\"x\"},\"y\":{\"field\":\"y\"}},\"id\":\"8def9d3f-d760-4981-9cef-36602b562985\",\"type\":\"Square\"},{\"attributes\":{},\"id\":\"cf8fca06-335e-4058-b141-b86048a5a6e9\",\"type\":\"ResetTool\"},{\"attributes\":{\"source\":{\"id\":\"287cdeaa-cd17-4c8f-a299-f576318e76f0\",\"type\":\"ColumnDataSource\"}},\"id\":\"61a8b3b9-8f5a-4093-81a5-0554a904637b\",\"type\":\"CDSView\"},{\"attributes\":{\"line_alpha\":0.1,\"line_color\":\"#1f77b4\",\"line_width\":3,\"x\":{\"field\":\"x\"},\"y\":{\"field\":\"y\"}},\"id\":\"6157a405-8539-45c6-9722-f18922976887\",\"type\":\"Line\"},{\"attributes\":{\"data_source\":{\"id\":\"a0a26f99-4ed8-4d62-b81f-bf23ad6ccff7\",\"type\":\"ColumnDataSource\"},\"glyph\":{\"id\":\"8bf00f16-96e6-401c-9d0e-d0f835eeebb6\",\"type\":\"Line\"},\"hover_glyph\":null,\"muted_glyph\":null,\"nonselection_glyph\":{\"id\":\"6157a405-8539-45c6-9722-f18922976887\",\"type\":\"Line\"},\"selection_glyph\":null,\"view\":{\"id\":\"cfb3fd65-2701-4c8e-a6cd-5fa158000c1c\",\"type\":\"CDSView\"}},\"id\":\"9a392334-2bdc-471e-90b2-7b08e2c15dfe\",\"type\":\"GlyphRenderer\"},{\"attributes\":{\"data_source\":{\"id\":\"b98d3224-4461-45c1-a169-411f1685ed9a\",\"type\":\"ColumnDataSource\"},\"glyph\":{\"id\":\"480490a3-8c42-46a2-96ec-d2ef70517192\",\"type\":\"Line\"},\"hover_glyph\":null,\"muted_glyph\":null,\"nonselection_glyph\":{\"id\":\"852d9b79-064d-4cd2-a145-0e31221b03a7\",\"type\":\"Line\"},\"selection_glyph\":null,\"view\":{\"id\":\"1a3dad6f-4c33-4b11-9dc8-013a9eeb47d5\",\"type\":\"CDSView\"}},\"id\":\"124d7b33-dff3-4ab7-b7ab-513e8a1f0dbd\",\"type\":\"GlyphRenderer\"},{\"attributes\":{\"overlay\":{\"id\":\"0863a63c-744d-437d-a473-924f6e0935f5\",\"type\":\"BoxAnnotation\"}},\"id\":\"121d042d-9cea-4414-b331-f16fb0ed7c31\",\"type\":\"BoxZoomTool\"},{\"attributes\":{\"below\":[{\"id\":\"f17856a8-ac5f-4576-a37d-d9f51fc8475c\",\"type\":\"LinearAxis\"}],\"left\":[{\"id\":\"986a4eb8-fa8b-4fd9-9faf-5db727197397\",\"type\":\"LinearAxis\"}],\"plot_height\":500,\"plot_width\":400,\"renderers\":[{\"id\":\"f17856a8-ac5f-4576-a37d-d9f51fc8475c\",\"type\":\"LinearAxis\"},{\"id\":\"4fcc9347-b511-4c5c-b12d-a6b50552db10\",\"type\":\"Grid\"},{\"id\":\"986a4eb8-fa8b-4fd9-9faf-5db727197397\",\"type\":\"LinearAxis\"},{\"id\":\"f70ada5c-5167-4fb2-83e3-cd02d4e0a4e8\",\"type\":\"Grid\"},{\"id\":\"0863a63c-744d-437d-a473-924f6e0935f5\",\"type\":\"BoxAnnotation\"},{\"id\":\"a3bd6920-fce4-4b9a-9f9e-5bed9da2c7f0\",\"type\":\"GlyphRenderer\"},{\"id\":\"38ba0883-4425-4c9f-b75c-08134d21de55\",\"type\":\"GlyphRenderer\"},{\"id\":\"3411ab28-5f0a-4f4b-874f-bcba7e7786fd\",\"type\":\"GlyphRenderer\"},{\"id\":\"2390de6d-9f94-4704-a0c1-2f31128ee367\",\"type\":\"GlyphRenderer\"},{\"id\":\"b9753ca8-00c4-45fd-984e-544df2e823ea\",\"type\":\"GlyphRenderer\"},{\"id\":\"7e162c20-2f47-4583-8a6d-4a97d2ac92d9\",\"type\":\"GlyphRenderer\"}],\"title\":{\"id\":\"6eaca438-ef81-4377-b0ab-7386494fd459\",\"type\":\"Title\"},\"toolbar\":{\"id\":\"4b3baabf-6d6e-42cc-b07e-8bca51073ca8\",\"type\":\"Toolbar\"},\"toolbar_location\":null,\"x_range\":{\"id\":\"0bbfd4ec-c3c2-4641-93e3-06073d1d09c3\",\"type\":\"Range1d\"},\"x_scale\":{\"id\":\"d08a088b-2327-4e00-a675-80615aee9941\",\"type\":\"LinearScale\"},\"y_range\":{\"id\":\"ff1f7a31-6e0b-4506-8edc-c44267d23d73\",\"type\":\"Range1d\"},\"y_scale\":{\"id\":\"2a88b6ca-9b2b-4cbd-b37e-76d952d57edd\",\"type\":\"LinearScale\"}},\"id\":\"ae5e34b6-1064-4382-93ee-6615cdbc215d\",\"subtype\":\"Figure\",\"type\":\"Plot\"},{\"attributes\":{\"source\":{\"id\":\"ffe06b31-2428-4d47-94b4-c163ce50e4ca\",\"type\":\"ColumnDataSource\"}},\"id\":\"6e4d7a98-b5e9-4697-bf19-bc7fdab4e796\",\"type\":\"CDSView\"},{\"attributes\":{\"data_source\":{\"id\":\"ffe06b31-2428-4d47-94b4-c163ce50e4ca\",\"type\":\"ColumnDataSource\"},\"glyph\":{\"id\":\"8def9d3f-d760-4981-9cef-36602b562985\",\"type\":\"Square\"},\"hover_glyph\":null,\"muted_glyph\":null,\"nonselection_glyph\":{\"id\":\"1f6f0682-b2da-4846-8e0a-58720aeea0e0\",\"type\":\"Square\"},\"selection_glyph\":null,\"view\":{\"id\":\"6e4d7a98-b5e9-4697-bf19-bc7fdab4e796\",\"type\":\"CDSView\"}},\"id\":\"cac76acc-b0d4-4ac0-aed6-f216a520b5c8\",\"type\":\"GlyphRenderer\"},{\"attributes\":{},\"id\":\"8545bfd2-2b3c-4133-9ba7-4234e52a183b\",\"type\":\"SaveTool\"},{\"attributes\":{\"fill_alpha\":{\"value\":0.1},\"fill_color\":{\"value\":\"#1f77b4\"},\"line_alpha\":{\"value\":0.1},\"line_color\":{\"value\":\"#1f77b4\"},\"x\":{\"field\":\"x\"},\"y\":{\"field\":\"y\"}},\"id\":\"f2e35f3c-8379-4930-83a2-6af4eafe1dfc\",\"type\":\"Square\"},{\"attributes\":{\"source\":{\"id\":\"a0a26f99-4ed8-4d62-b81f-bf23ad6ccff7\",\"type\":\"ColumnDataSource\"}},\"id\":\"cfb3fd65-2701-4c8e-a6cd-5fa158000c1c\",\"type\":\"CDSView\"},{\"attributes\":{\"source\":{\"id\":\"2f2e0d52-0ea5-4963-8f9f-aaa63f413126\",\"type\":\"ColumnDataSource\"}},\"id\":\"609ff1d4-26b2-45f7-bd56-6dee6ca0f0fd\",\"type\":\"CDSView\"},{\"attributes\":{\"line_alpha\":0.6,\"line_color\":\"#377eb8\",\"line_dash\":[2,4,6,4],\"line_width\":3,\"x\":{\"field\":\"x\"},\"y\":{\"field\":\"y\"}},\"id\":\"9e4d45a9-2ad1-42ab-80c1-51f40e3a373a\",\"type\":\"Line\"},{\"attributes\":{\"line_alpha\":0.1,\"line_color\":\"#1f77b4\",\"line_dash\":[2,4,6,4],\"line_width\":3,\"x\":{\"field\":\"x\"},\"y\":{\"field\":\"y\"}},\"id\":\"83f65619-76b7-4e9d-9fc0-ea7ab908f85a\",\"type\":\"Line\"},{\"attributes\":{\"callback\":null,\"end\":0.13238138884,\"start\":-0.03693645284},\"id\":\"95a92e5e-8fd6-4224-a8fd-10de9bf34067\",\"type\":\"Range1d\"},{\"attributes\":{\"data_source\":{\"id\":\"35e345f4-dc59-4c62-b4c8-ed45fdaf590f\",\"type\":\"ColumnDataSource\"},\"glyph\":{\"id\":\"9e4d45a9-2ad1-42ab-80c1-51f40e3a373a\",\"type\":\"Line\"},\"hover_glyph\":null,\"muted_glyph\":null,\"nonselection_glyph\":{\"id\":\"83f65619-76b7-4e9d-9fc0-ea7ab908f85a\",\"type\":\"Line\"},\"selection_glyph\":null,\"view\":{\"id\":\"4de66575-e1c0-448f-a493-ae8f39c8c537\",\"type\":\"CDSView\"}},\"id\":\"5179f116-e3b4-4346-92a2-353dc5051fa6\",\"type\":\"GlyphRenderer\"},{\"attributes\":{\"fill_alpha\":{\"value\":0.7},\"fill_color\":{\"value\":\"#984ea3\"},\"line_alpha\":{\"value\":0.7},\"line_color\":{\"value\":\"#984ea3\"},\"x\":{\"field\":\"x\"},\"y\":{\"field\":\"y\"}},\"id\":\"ea30465f-3786-4c63-a6fe-b03091cd1aa4\",\"type\":\"Square\"},{\"attributes\":{\"source\":{\"id\":\"e23a464c-949d-4941-82c0-e9242356ebfd\",\"type\":\"ColumnDataSource\"}},\"id\":\"b2f721cc-1d08-4733-9e60-eedc8b5fac9e\",\"type\":\"CDSView\"},{\"attributes\":{\"data_source\":{\"id\":\"f7db2ad7-7d1d-4769-b524-e1c040b3980f\",\"type\":\"ColumnDataSource\"},\"glyph\":{\"id\":\"b1d6d1a5-e22d-4a7d-9c72-3c123d9f1284\",\"type\":\"Line\"},\"hover_glyph\":null,\"muted_glyph\":null,\"nonselection_glyph\":{\"id\":\"a09b31a8-40a8-4e64-beca-7eb09c49144d\",\"type\":\"Line\"},\"selection_glyph\":null,\"view\":{\"id\":\"a0a912e7-dc39-419c-861d-519f12c667a8\",\"type\":\"CDSView\"}},\"id\":\"7e162c20-2f47-4583-8a6d-4a97d2ac92d9\",\"type\":\"GlyphRenderer\"},{\"attributes\":{\"items\":[{\"id\":\"51efaa59-abc3-4f76-81a6-9c9a432c8477\",\"type\":\"LegendItem\"},{\"id\":\"18c6f2b5-e519-496f-a8e8-b3e989bb1425\",\"type\":\"LegendItem\"},{\"id\":\"aba54e31-32bb-4011-b49a-c74aaea1146e\",\"type\":\"LegendItem\"}],\"label_text_font_size\":{\"value\":\"8pt\"},\"location\":[10,-30],\"plot\":{\"id\":\"730d5433-d26a-47ef-8a07-26e2109cd53c\",\"subtype\":\"Figure\",\"type\":\"Plot\"}},\"id\":\"7bd4e7e3-4124-45d7-baa7-30ead9101aff\",\"type\":\"Legend\"},{\"attributes\":{\"toolbar\":{\"id\":\"b77581c7-6d68-4c26-a21f-e7bc9cb28ee4\",\"type\":\"ProxyToolbar\"},\"toolbar_location\":\"above\"},\"id\":\"ed1b616d-6f9f-4dc9-85eb-ca3831ce1a2f\",\"type\":\"ToolbarBox\"},{\"attributes\":{\"source\":{\"id\":\"d508bc78-c29a-4447-99e6-e2cf7561d061\",\"type\":\"ColumnDataSource\"}},\"id\":\"17c34254-e6af-46ba-92f2-a3c67ae48800\",\"type\":\"CDSView\"},{\"attributes\":{\"source\":{\"id\":\"35e345f4-dc59-4c62-b4c8-ed45fdaf590f\",\"type\":\"ColumnDataSource\"}},\"id\":\"4de66575-e1c0-448f-a493-ae8f39c8c537\",\"type\":\"CDSView\"},{\"attributes\":{\"callback\":null,\"column_names\":[\"x\",\"y\"],\"data\":{\"x\":{\"__ndarray__\":\"yo7CMox0iL809ZR+vSCIv3CZkUlfa4e/chv7/HGnhr+8EJSjTN+Fv1VntcAeE4W/m9ZlcfFChL/R6epn2W6Dv6PEatDwloK/Vf/toHy7gb9WyeAd4tyAv5hiH0Al93+/O4NfW2Ewfr+feVX4zkd8vzL9uYGuOHa/1jatOJWeTb+xnq58A4R8Pzp8g0MwjZE/nOIOJ3K5nj8pp9j5AKKnP4vgEo+q97A/f3d+k55Qtz+ixhBCOE29P1tAiUtlvL0/yr0/LDvHuD/LxVIDUSCzP7C4/cdJLqw/HdFRzwHQoz/C+Pw/baWaPxNSQqY465A/5t9NCDQQgz/2lKpiojBwPxUpS5lraUA/C2eOF5g2YL8shHbCm5J0v8z+1tTNU4K/on60i6vCib/I/jBEed+Pv4Vni2l7+5K/FAk+t+R5lb/K8Wa0JRCWv95aOqfYH5S/7xxTQnNHkL/hYlQ405uFv0NG0DBmX2q/X6y+pkZpYD9VP6Fkk3h8P3HCkfuu7Iw/I0HAc1IMmD8sZBup2EehP7ifd1YXX6Y/lwNtDc2+qj82eIVcriCvP/pUGNIWFLI/vOyVgRz3tD+sVrSmahy4P5fR4YS2Wrs/XdmJuw96vz8octJFVHLBP7EBbJs9q8I/dxLP4XOKwz+K0hiMlUHEP1DIa7EdBMU/In3F4ILoxT+vxdk6WebGP7Nl8UnE58c/p7d5wpbHyD8mc+rS2EHJP/APhPllD8k/p5uboX44yD/sUXYCsyXHPxHDcY2NSMY/kYwHIUHtxT+cmYm3CGvGPy8H7v6AIMs/\",\"dtype\":\"float64\",\"shape\":[75]},\"y\":{\"__ndarray__\":\"GhExyth1ND/Sv8nbtpRIP2vylNV0PVE/aTum7souWD/At0SJ8fVgPw3Iuahxymc/MSNhhJWvcD/bTfBN02d3P2zb5nxnaoA/CD5h5MAGhz8NmeH1TyaQP+zrCsc9p5Y/LbKd76fGnz/bLW5ISEmmPww9YvTcQq8/JV2OstnstT8Er5Y7M8G+P0c+r3jqkcU/5h99k6ZBzj88bCIzFzjVP4enV8oyxN0//yH99nXg5D8qOpLLf0jtP5kqGJXUifQ/c9cS8kHP/D+/DpwzojQEQIEmwoanVwxA4lgXt9HgE0BSSZ2AJuIbQAMJih9jjiNA5q4l5INuK0AwTKYKRj0zQNv5fmq8/DpAaCJseHrtQkB/+zpwzoxKQM3MzMzMeFJAZmZmZmZqWEAAAAAAAFxeQM3MzMzMJmJAmpmZmZkfZUBmZmZmZhhoQDMzMzMzEWtAAAAAAAAKbkBmZmZmZoFwQM3MzMzM/XFAMzMzMzN6c0CamZmZmfZ0QAAAAAAAc3ZAZmZmZmbvd0DNzMzMzGt5QDMzMzMz6HpAmpmZmZlkfEAAAAAAAOF9QGZmZmZmXX9AZmZmZuZsgECamZmZGSuBQM3MzMxM6YFAAAAAAICngkAzMzMzs2WDQGZmZmbmI4RAmpmZmRnihEDNzMzMTKCFQAAAAACAXoZAMzMzM7Mch0BmZmZm5tqHQJqZmZkZmYhAzczMzExXiUAAAAAAgBWKQDMzMzOz04pAZmZmZuaRi0CamZmZGVCMQM3MzMxMDo1AAAAAAIDMjUAzMzMzs4qOQGZmZmbmSI9A\",\"dtype\":\"float64\",\"shape\":[75]}}},\"id\":\"2f2e0d52-0ea5-4963-8f9f-aaa63f413126\",\"type\":\"ColumnDataSource\"},{\"attributes\":{\"label\":{\"value\":\"CRD\"},\"renderers\":[{\"id\":\"b32c5ee5-5b4e-4900-874b-3ba62e97e6ec\",\"type\":\"GlyphRenderer\"},{\"id\":\"124d7b33-dff3-4ab7-b7ab-513e8a1f0dbd\",\"type\":\"GlyphRenderer\"}]},\"id\":\"51efaa59-abc3-4f76-81a6-9c9a432c8477\",\"type\":\"LegendItem\"},{\"attributes\":{\"label\":{\"value\":\"WGT igg=10\"},\"renderers\":[{\"id\":\"cac76acc-b0d4-4ac0-aed6-f216a520b5c8\",\"type\":\"GlyphRenderer\"},{\"id\":\"9a392334-2bdc-471e-90b2-7b08e2c15dfe\",\"type\":\"GlyphRenderer\"}]},\"id\":\"18c6f2b5-e519-496f-a8e8-b3e989bb1425\",\"type\":\"LegendItem\"},{\"attributes\":{\"children\":[{\"id\":\"45a8a3a6-e735-4764-b893-faf7bbdebdcf\",\"type\":\"Row\"}]},\"id\":\"04903073-4460-49b3-a570-cdd4aff1683f\",\"type\":\"Column\"},{\"attributes\":{\"fill_alpha\":{\"value\":0.7},\"fill_color\":{\"value\":\"#377eb8\"},\"line_alpha\":{\"value\":0.7},\"line_color\":{\"value\":\"#377eb8\"},\"x\":{\"field\":\"x\"},\"y\":{\"field\":\"y\"}},\"id\":\"2efd213a-7230-45bf-805a-a5058d00c689\",\"type\":\"InvertedTriangle\"},{\"attributes\":{\"children\":[{\"id\":\"ae5e34b6-1064-4382-93ee-6615cdbc215d\",\"subtype\":\"Figure\",\"type\":\"Plot\"},{\"id\":\"730d5433-d26a-47ef-8a07-26e2109cd53c\",\"subtype\":\"Figure\",\"type\":\"Plot\"}]},\"id\":\"45a8a3a6-e735-4764-b893-faf7bbdebdcf\",\"type\":\"Row\"},{\"attributes\":{\"data_source\":{\"id\":\"af448cca-0f4d-4ad2-ad99-0769d4a24c4c\",\"type\":\"ColumnDataSource\"},\"glyph\":{\"id\":\"07bbf012-7627-48f6-ae66-6cda46a6f6a4\",\"type\":\"Circle\"},\"hover_glyph\":null,\"muted_glyph\":null,\"nonselection_glyph\":{\"id\":\"a0b75715-9f77-4e89-8272-157fd2f8e006\",\"type\":\"Circle\"},\"selection_glyph\":null,\"view\":{\"id\":\"698dfcef-b2bf-4e4e-b25e-f0051a52a7b0\",\"type\":\"CDSView\"}},\"id\":\"a3bd6920-fce4-4b9a-9f9e-5bed9da2c7f0\",\"type\":\"GlyphRenderer\"},{\"attributes\":{\"line_alpha\":0.1,\"line_color\":\"#1f77b4\",\"line_dash\":[2,4,6,4],\"line_width\":3,\"x\":{\"field\":\"x\"},\"y\":{\"field\":\"y\"}},\"id\":\"a09b31a8-40a8-4e64-beca-7eb09c49144d\",\"type\":\"Line\"},{\"attributes\":{},\"id\":\"ae434849-b9ab-4bff-9fad-8f0f641c7a0c\",\"type\":\"ResetTool\"},{\"attributes\":{\"label\":{\"value\":\"WGT igg=1\"},\"renderers\":[{\"id\":\"2fbc27ff-c4c8-4a40-a310-ca26c6881ff7\",\"type\":\"GlyphRenderer\"},{\"id\":\"5179f116-e3b4-4346-92a2-353dc5051fa6\",\"type\":\"GlyphRenderer\"}]},\"id\":\"aba54e31-32bb-4011-b49a-c74aaea1146e\",\"type\":\"LegendItem\"},{\"attributes\":{\"children\":[{\"id\":\"ed1b616d-6f9f-4dc9-85eb-ca3831ce1a2f\",\"type\":\"ToolbarBox\"},{\"id\":\"04903073-4460-49b3-a570-cdd4aff1683f\",\"type\":\"Column\"}]},\"id\":\"8d9d9345-4826-45ae-a47c-49c007efa82d\",\"type\":\"Column\"},{\"attributes\":{\"below\":[{\"id\":\"279337ae-ee67-4039-9d54-cdc712d3e6e7\",\"type\":\"LinearAxis\"}],\"left\":[{\"id\":\"b27cbd8b-d743-4daf-8046-53ca698278e0\",\"type\":\"LogAxis\"}],\"plot_height\":500,\"plot_width\":560,\"renderers\":[{\"id\":\"279337ae-ee67-4039-9d54-cdc712d3e6e7\",\"type\":\"LinearAxis\"},{\"id\":\"f046e35b-14e5-46b6-bd6b-f2b57d87db78\",\"type\":\"Grid\"},{\"id\":\"b27cbd8b-d743-4daf-8046-53ca698278e0\",\"type\":\"LogAxis\"},{\"id\":\"f59ec306-d87b-4e3d-9340-0a75b1852660\",\"type\":\"Grid\"},{\"id\":\"df49293b-0286-4777-9b6d-84f5d78187bc\",\"type\":\"BoxAnnotation\"},{\"id\":\"b32c5ee5-5b4e-4900-874b-3ba62e97e6ec\",\"type\":\"GlyphRenderer\"},{\"id\":\"124d7b33-dff3-4ab7-b7ab-513e8a1f0dbd\",\"type\":\"GlyphRenderer\"},{\"id\":\"cac76acc-b0d4-4ac0-aed6-f216a520b5c8\",\"type\":\"GlyphRenderer\"},{\"id\":\"9a392334-2bdc-471e-90b2-7b08e2c15dfe\",\"type\":\"GlyphRenderer\"},{\"id\":\"2fbc27ff-c4c8-4a40-a310-ca26c6881ff7\",\"type\":\"GlyphRenderer\"},{\"id\":\"5179f116-e3b4-4346-92a2-353dc5051fa6\",\"type\":\"GlyphRenderer\"},{\"id\":\"7bd4e7e3-4124-45d7-baa7-30ead9101aff\",\"type\":\"Legend\"}],\"right\":[{\"id\":\"7bd4e7e3-4124-45d7-baa7-30ead9101aff\",\"type\":\"Legend\"}],\"title\":{\"id\":\"8a2f30d9-db25-4e09-9dc6-3c0801ac9cbb\",\"type\":\"Title\"},\"toolbar\":{\"id\":\"cc4de89e-906e-4391-b7cd-df5bbd123b54\",\"type\":\"Toolbar\"},\"toolbar_location\":null,\"x_range\":{\"id\":\"95a92e5e-8fd6-4224-a8fd-10de9bf34067\",\"type\":\"Range1d\"},\"x_scale\":{\"id\":\"173b160c-30a4-44e6-b55d-7a16140d9b00\",\"type\":\"LinearScale\"},\"y_range\":{\"id\":\"fa630f6f-9940-4021-88ab-275ca2c5b5de\",\"type\":\"Range1d\"},\"y_scale\":{\"id\":\"d9e7ae32-d605-4764-bfa9-bf5a057d2e0d\",\"type\":\"LogScale\"}},\"id\":\"730d5433-d26a-47ef-8a07-26e2109cd53c\",\"subtype\":\"Figure\",\"type\":\"Plot\"},{\"attributes\":{},\"id\":\"98007f9c-b571-42e2-b764-a78ba6b34933\",\"type\":\"HelpTool\"},{\"attributes\":{\"data_source\":{\"id\":\"e23a464c-949d-4941-82c0-e9242356ebfd\",\"type\":\"ColumnDataSource\"},\"glyph\":{\"id\":\"2efd213a-7230-45bf-805a-a5058d00c689\",\"type\":\"InvertedTriangle\"},\"hover_glyph\":null,\"muted_glyph\":null,\"nonselection_glyph\":{\"id\":\"112d7ea3-5b44-4712-9bae-d1efed9e6a8b\",\"type\":\"InvertedTriangle\"},\"selection_glyph\":null,\"view\":{\"id\":\"b2f721cc-1d08-4733-9e60-eedc8b5fac9e\",\"type\":\"CDSView\"}},\"id\":\"b9753ca8-00c4-45fd-984e-544df2e823ea\",\"type\":\"GlyphRenderer\"},{\"attributes\":{\"dimension\":1,\"plot\":{\"id\":\"730d5433-d26a-47ef-8a07-26e2109cd53c\",\"subtype\":\"Figure\",\"type\":\"Plot\"},\"ticker\":{\"id\":\"bbf55d0b-1dd6-494b-992d-9e2fcd7b5f21\",\"type\":\"LogTicker\"}},\"id\":\"f59ec306-d87b-4e3d-9340-0a75b1852660\",\"type\":\"Grid\"},{\"attributes\":{\"callback\":null,\"column_names\":[\"x\",\"y\"],\"data\":{\"x\":{\"__ndarray__\":\"Q6KyXJSrkL/iBqy3Ln6Qv8Ih5FQcG5C/Lo1av2tgj78/OC3lbYaOvwGGVyWgqI2/XHD8DEzHjL+rLLEC4eKLv/gNpG/4+4q/asB26YwTir+4DYyEAiuJv++JSiog24i/HVZkL7XQg7/KNg3dLiyGvyFSlhStkoG/7ty704tEcr/ueuMHEotkPzzogasWuo0/qv35XahhnT94eXe6rO+mP8T+md5RJbE/5aIQt/m1tz81gPHrCxG+P+/qbgEVTL4/f1SGGzfPuD+BadyRbb2yP/78V1PiBas/0EDR4cbSoj87g45vUkWZP1ryc6HEd5A/tMl3Zo/Cgz9cp6N5hsRzPwHRzEpMNFU/yzvCueNlVr9CLVAKr29zv+LA9E3EYYK/jJ2khFbjib863wa34AWQv4Jkz9h2XpO/BHaxQCbflb+NpGMiM4SWv6qA0Z74VZS/SCJhAxWaj7+8ZxMWy+ODv2TRfuilCWO/vEGBZQ8uaT96Qo7ogNaBP79dM09nVJA/fpBqen6ImT8CxjCwWfGhP0vcdBWcC6c/iQTSTJfIqz+YBcnx+RewP+Bh0MWDhrI/AYbgFv4ctT9TIlRsduu3P4WhBrqT27o/VDtgqtvRvj9erSTDOwrBP+tShh7vXcI/PqFsBMFnwz8J4CTVkBvEP6MNl4cSzsQ/p1Ylsot5xT8/laofYTnGP0DVzzhgGcc//dQdMLTfxz8SXorEZ1/IP7V9uHkdUMg/lUyppn+kxz+j7Mq6wcjGP5ZyQhEg/cU/Y1Iy7yeZxT9TOh5UXgLGP2dUriraoMo/\",\"dtype\":\"float64\",\"shape\":[75]},\"y\":{\"__ndarray__\":\"GhExyth1ND/Sv8nbtpRIP2vylNV0PVE/aTum7souWD/At0SJ8fVgPw3Iuahxymc/MSNhhJWvcD/bTfBN02d3P2zb5nxnaoA/CD5h5MAGhz8NmeH1TyaQP+zrCsc9p5Y/LbKd76fGnz/bLW5ISEmmPww9YvTcQq8/JV2OstnstT8Er5Y7M8G+P0c+r3jqkcU/5h99k6ZBzj88bCIzFzjVP4enV8oyxN0//yH99nXg5D8qOpLLf0jtP5kqGJXUifQ/c9cS8kHP/D+/DpwzojQEQIEmwoanVwxA4lgXt9HgE0BSSZ2AJuIbQAMJih9jjiNA5q4l5INuK0AwTKYKRj0zQNv5fmq8/DpAaCJseHrtQkB/+zpwzoxKQM3MzMzMeFJAZmZmZmZqWEAAAAAAAFxeQM3MzMzMJmJAmpmZmZkfZUBmZmZmZhhoQDMzMzMzEWtAAAAAAAAKbkBmZmZmZoFwQM3MzMzM/XFAMzMzMzN6c0CamZmZmfZ0QAAAAAAAc3ZAZmZmZmbvd0DNzMzMzGt5QDMzMzMz6HpAmpmZmZlkfEAAAAAAAOF9QGZmZmZmXX9AZmZmZuZsgECamZmZGSuBQM3MzMxM6YFAAAAAAICngkAzMzMzs2WDQGZmZmbmI4RAmpmZmRnihEDNzMzMTKCFQAAAAACAXoZAMzMzM7Mch0BmZmZm5tqHQJqZmZkZmYhAzczMzExXiUAAAAAAgBWKQDMzMzOz04pAZmZmZuaRi0CamZmZGVCMQM3MzMxMDo1AAAAAAIDMjUAzMzMzs4qOQGZmZmbmSI9A\",\"dtype\":\"float64\",\"shape\":[75]}}},\"id\":\"f7db2ad7-7d1d-4769-b524-e1c040b3980f\",\"type\":\"ColumnDataSource\"},{\"attributes\":{\"bottom_units\":\"screen\",\"fill_alpha\":{\"value\":0.5},\"fill_color\":{\"value\":\"lightgrey\"},\"left_units\":\"screen\",\"level\":\"overlay\",\"line_alpha\":{\"value\":1.0},\"line_color\":{\"value\":\"black\"},\"line_dash\":[4,4],\"line_width\":{\"value\":2},\"plot\":null,\"render_mode\":\"css\",\"right_units\":\"screen\",\"top_units\":\"screen\"},\"id\":\"df49293b-0286-4777-9b6d-84f5d78187bc\",\"type\":\"BoxAnnotation\"},{\"attributes\":{\"callback\":null,\"end\":0.21426862117,\"start\":-0.02432785817},\"id\":\"0bbfd4ec-c3c2-4641-93e3-06073d1d09c3\",\"type\":\"Range1d\"},{\"attributes\":{\"callback\":null,\"column_names\":[\"x\",\"y\"],\"data\":{\"x\":{\"__ndarray__\":\"jBPbtIRCpL/z1gBysKGlvwPxgtRi+qO/7BasMRt2pL8wp0jhIVyjv30G1JtR86K/NLiodILGor+WQbp6Q1Giv3/NBz7lHKK/IOBLDMIPor8Tmxhdobmhv29fHmqPoqG//daQsFaKob/czLvGO3uhv/yk1e4pyaC/7Hz2XqdRm7+kH2OnhbaPv4+gSwxPlVK/yG+DOuIZkT/IgQiFydOjP+gr8jJd5LA/RPBxBnyHuT8PI2uqervAP36eDn3aVcA/c19Des45uD/y/0A/py6wPxhxDpKWrqQ/IeA5KQYnmj/atfeIHEuRP5YBToy4Qog/vuYSE7+egD8+f/kjzsNzP5XsFpEBEWQ/X0PZ7ybWRT8AZ3nER1Bcv2cBb03u+nO/orZOms11f7+RaLP+V5yEvzJ6C3dwqIq/BJCT7z1PkL9lwoitOz6Rv572Azptb46/JJ2QvMRvhr+LnvgGr3F3vzikH5+GzDc/BSe/Is8Xdj9Z06NGdBGHP1AYgIVNFpM/7f212Mfsmz+MPFrmvuaiP7nRZQnpK6g/FnuIdrAmrT8tZKHipw2xP4Em93h3nbM/CpUaAsk5tj8Jjbbjs+C4PyzA0lSqn7s/8gttCKdovz+TIo1lVV/BP0jnNsBQsMI/aIuU+1e1wz9vq4uhvXbEPwsC0M2jB8U//fwxjD96xT/zSy/36t/FP9Q9VwD4TMY/lW5kgSO/xj80g/jAjv/GP4NQ/9W6v8Y/hE0ZDyH0xT+XV8/FtvfEPz+XX7zVKcQ/f5kYYFnIwz/835VNTifEP1zrB0wSEck/\",\"dtype\":\"float64\",\"shape\":[75]},\"y\":{\"__ndarray__\":\"GhExyth1ND/Sv8nbtpRIP2vylNV0PVE/aTum7souWD/At0SJ8fVgPw3Iuahxymc/MSNhhJWvcD/bTfBN02d3P2zb5nxnaoA/CD5h5MAGhz8NmeH1TyaQP+zrCsc9p5Y/LbKd76fGnz/bLW5ISEmmPww9YvTcQq8/JV2OstnstT8Er5Y7M8G+P0c+r3jqkcU/5h99k6ZBzj88bCIzFzjVP4enV8oyxN0//yH99nXg5D8qOpLLf0jtP5kqGJXUifQ/c9cS8kHP/D+/DpwzojQEQIEmwoanVwxA4lgXt9HgE0BSSZ2AJuIbQAMJih9jjiNA5q4l5INuK0AwTKYKRj0zQNv5fmq8/DpAaCJseHrtQkB/+zpwzoxKQM3MzMzMeFJAZmZmZmZqWEAAAAAAAFxeQM3MzMzMJmJAmpmZmZkfZUBmZmZmZhhoQDMzMzMzEWtAAAAAAAAKbkBmZmZmZoFwQM3MzMzM/XFAMzMzMzN6c0CamZmZmfZ0QAAAAAAAc3ZAZmZmZmbvd0DNzMzMzGt5QDMzMzMz6HpAmpmZmZlkfEAAAAAAAOF9QGZmZmZmXX9AZmZmZuZsgECamZmZGSuBQM3MzMxM6YFAAAAAAICngkAzMzMzs2WDQGZmZmbmI4RAmpmZmRnihEDNzMzMTKCFQAAAAACAXoZAMzMzM7Mch0BmZmZm5tqHQJqZmZkZmYhAzczMzExXiUAAAAAAgBWKQDMzMzOz04pAZmZmZuaRi0CamZmZGVCMQM3MzMxMDo1AAAAAAIDMjUAzMzMzs4qOQGZmZmbmSI9A\",\"dtype\":\"float64\",\"shape\":[75]}}},\"id\":\"49fb67bc-8eb9-456a-9ac0-dcf6f970fa7e\",\"type\":\"ColumnDataSource\"},{\"attributes\":{\"num_minor_ticks\":10},\"id\":\"bbf55d0b-1dd6-494b-992d-9e2fcd7b5f21\",\"type\":\"LogTicker\"},{\"attributes\":{\"fill_alpha\":{\"value\":0.7},\"fill_color\":{\"value\":\"#4daf4a\"},\"line_alpha\":{\"value\":0.7},\"line_color\":{\"value\":\"#4daf4a\"},\"x\":{\"field\":\"x\"},\"y\":{\"field\":\"y\"}},\"id\":\"6472a6ab-d7a5-4735-b544-539b73649d7d\",\"type\":\"Circle\"},{\"attributes\":{\"line_alpha\":0.1,\"line_color\":\"#1f77b4\",\"line_width\":3,\"x\":{\"field\":\"x\"},\"y\":{\"field\":\"y\"}},\"id\":\"4a9c2f83-2cd2-4f46-a0de-30c19306bb09\",\"type\":\"Line\"},{\"attributes\":{\"plot\":null,\"text\":\"Log pressure scale\"},\"id\":\"8a2f30d9-db25-4e09-9dc6-3c0801ac9cbb\",\"type\":\"Title\"},{\"attributes\":{\"overlay\":{\"id\":\"df49293b-0286-4777-9b6d-84f5d78187bc\",\"type\":\"BoxAnnotation\"}},\"id\":\"46803aa2-bccc-4657-b073-0ce695682dae\",\"type\":\"BoxZoomTool\"},{\"attributes\":{},\"id\":\"44eb25f4-ad2c-4268-a216-b806528c6c20\",\"type\":\"PanTool\"},{\"attributes\":{\"data_source\":{\"id\":\"b5023e3e-6df6-47b4-aadf-4998c54da513\",\"type\":\"ColumnDataSource\"},\"glyph\":{\"id\":\"ea30465f-3786-4c63-a6fe-b03091cd1aa4\",\"type\":\"Square\"},\"hover_glyph\":null,\"muted_glyph\":null,\"nonselection_glyph\":{\"id\":\"f2e35f3c-8379-4930-83a2-6af4eafe1dfc\",\"type\":\"Square\"},\"selection_glyph\":null,\"view\":{\"id\":\"bf7711dc-0526-4240-b8dd-0645f8269298\",\"type\":\"CDSView\"}},\"id\":\"3411ab28-5f0a-4f4b-874f-bcba7e7786fd\",\"type\":\"GlyphRenderer\"},{\"attributes\":{},\"id\":\"173b160c-30a4-44e6-b55d-7a16140d9b00\",\"type\":\"LinearScale\"},{\"attributes\":{\"fill_alpha\":{\"value\":0.1},\"fill_color\":{\"value\":\"#1f77b4\"},\"line_alpha\":{\"value\":0.1},\"line_color\":{\"value\":\"#1f77b4\"},\"x\":{\"field\":\"x\"},\"y\":{\"field\":\"y\"}},\"id\":\"a0b75715-9f77-4e89-8272-157fd2f8e006\",\"type\":\"Circle\"},{\"attributes\":{\"callback\":null,\"column_names\":[\"x\",\"y\"],\"data\":{\"x\":{\"__ndarray__\":\"Q6KyXJSrkL/iBqy3Ln6Qv8Ih5FQcG5C/Lo1av2tgj78/OC3lbYaOvwGGVyWgqI2/XHD8DEzHjL+rLLEC4eKLv/gNpG/4+4q/asB26YwTir+4DYyEAiuJv++JSiog24i/HVZkL7XQg7/KNg3dLiyGvyFSlhStkoG/7ty704tEcr/ueuMHEotkPzzogasWuo0/qv35XahhnT94eXe6rO+mP8T+md5RJbE/5aIQt/m1tz81gPHrCxG+P+/qbgEVTL4/f1SGGzfPuD+BadyRbb2yP/78V1PiBas/0EDR4cbSoj87g45vUkWZP1ryc6HEd5A/tMl3Zo/Cgz9cp6N5hsRzPwHRzEpMNFU/yzvCueNlVr9CLVAKr29zv+LA9E3EYYK/jJ2khFbjib863wa34AWQv4Jkz9h2XpO/BHaxQCbflb+NpGMiM4SWv6qA0Z74VZS/SCJhAxWaj7+8ZxMWy+ODv2TRfuilCWO/vEGBZQ8uaT96Qo7ogNaBP79dM09nVJA/fpBqen6ImT8CxjCwWfGhP0vcdBWcC6c/iQTSTJfIqz+YBcnx+RewP+Bh0MWDhrI/AYbgFv4ctT9TIlRsduu3P4WhBrqT27o/VDtgqtvRvj9erSTDOwrBP+tShh7vXcI/PqFsBMFnwz8J4CTVkBvEP6MNl4cSzsQ/p1Ylsot5xT8/laofYTnGP0DVzzhgGcc//dQdMLTfxz8SXorEZ1/IP7V9uHkdUMg/lUyppn+kxz+j7Mq6wcjGP5ZyQhEg/cU/Y1Iy7yeZxT9TOh5UXgLGP2dUriraoMo/\",\"dtype\":\"float64\",\"shape\":[75]},\"y\":{\"__ndarray__\":\"GhExyth1ND/Sv8nbtpRIP2vylNV0PVE/aTum7souWD/At0SJ8fVgPw3Iuahxymc/MSNhhJWvcD/bTfBN02d3P2zb5nxnaoA/CD5h5MAGhz8NmeH1TyaQP+zrCsc9p5Y/LbKd76fGnz/bLW5ISEmmPww9YvTcQq8/JV2OstnstT8Er5Y7M8G+P0c+r3jqkcU/5h99k6ZBzj88bCIzFzjVP4enV8oyxN0//yH99nXg5D8qOpLLf0jtP5kqGJXUifQ/c9cS8kHP/D+/DpwzojQEQIEmwoanVwxA4lgXt9HgE0BSSZ2AJuIbQAMJih9jjiNA5q4l5INuK0AwTKYKRj0zQNv5fmq8/DpAaCJseHrtQkB/+zpwzoxKQM3MzMzMeFJAZmZmZmZqWEAAAAAAAFxeQM3MzMzMJmJAmpmZmZkfZUBmZmZmZhhoQDMzMzMzEWtAAAAAAAAKbkBmZmZmZoFwQM3MzMzM/XFAMzMzMzN6c0CamZmZmfZ0QAAAAAAAc3ZAZmZmZmbvd0DNzMzMzGt5QDMzMzMz6HpAmpmZmZlkfEAAAAAAAOF9QGZmZmZmXX9AZmZmZuZsgECamZmZGSuBQM3MzMxM6YFAAAAAAICngkAzMzMzs2WDQGZmZmbmI4RAmpmZmRnihEDNzMzMTKCFQAAAAACAXoZAMzMzM7Mch0BmZmZm5tqHQJqZmZkZmYhAzczMzExXiUAAAAAAgBWKQDMzMzOz04pAZmZmZuaRi0CamZmZGVCMQM3MzMxMDo1AAAAAAIDMjUAzMzMzs4qOQGZmZmbmSI9A\",\"dtype\":\"float64\",\"shape\":[75]}}},\"id\":\"35e345f4-dc59-4c62-b4c8-ed45fdaf590f\",\"type\":\"ColumnDataSource\"},{\"attributes\":{\"source\":{\"id\":\"f7db2ad7-7d1d-4769-b524-e1c040b3980f\",\"type\":\"ColumnDataSource\"}},\"id\":\"a0a912e7-dc39-419c-861d-519f12c667a8\",\"type\":\"CDSView\"},{\"attributes\":{\"line_alpha\":0.6,\"line_color\":\"#377eb8\",\"line_dash\":[2,4,6,4],\"line_width\":3,\"x\":{\"field\":\"x\"},\"y\":{\"field\":\"y\"}},\"id\":\"b1d6d1a5-e22d-4a7d-9c72-3c123d9f1284\",\"type\":\"Line\"},{\"attributes\":{\"data_source\":{\"id\":\"2f2e0d52-0ea5-4963-8f9f-aaa63f413126\",\"type\":\"ColumnDataSource\"},\"glyph\":{\"id\":\"9f59c3d4-851a-4490-bbae-d2ef63d833b4\",\"type\":\"Line\"},\"hover_glyph\":null,\"muted_glyph\":null,\"nonselection_glyph\":{\"id\":\"4a9c2f83-2cd2-4f46-a0de-30c19306bb09\",\"type\":\"Line\"},\"selection_glyph\":null,\"view\":{\"id\":\"609ff1d4-26b2-45f7-bd56-6dee6ca0f0fd\",\"type\":\"CDSView\"}},\"id\":\"2390de6d-9f94-4704-a0c1-2f31128ee367\",\"type\":\"GlyphRenderer\"},{\"attributes\":{\"source\":{\"id\":\"b5023e3e-6df6-47b4-aadf-4998c54da513\",\"type\":\"ColumnDataSource\"}},\"id\":\"bf7711dc-0526-4240-b8dd-0645f8269298\",\"type\":\"CDSView\"},{\"attributes\":{\"line_alpha\":0.6,\"line_color\":\"#984ea3\",\"line_width\":3,\"x\":{\"field\":\"x\"},\"y\":{\"field\":\"y\"}},\"id\":\"9f59c3d4-851a-4490-bbae-d2ef63d833b4\",\"type\":\"Line\"},{\"attributes\":{\"active_drag\":\"auto\",\"active_inspect\":\"auto\",\"active_scroll\":\"auto\",\"active_tap\":\"auto\",\"tools\":[{\"id\":\"44eb25f4-ad2c-4268-a216-b806528c6c20\",\"type\":\"PanTool\"},{\"id\":\"27bc482a-eaa0-492b-a1a2-d3e3c0966ff1\",\"type\":\"WheelZoomTool\"},{\"id\":\"46803aa2-bccc-4657-b073-0ce695682dae\",\"type\":\"BoxZoomTool\"},{\"id\":\"8545bfd2-2b3c-4133-9ba7-4234e52a183b\",\"type\":\"SaveTool\"},{\"id\":\"ae434849-b9ab-4bff-9fad-8f0f641c7a0c\",\"type\":\"ResetTool\"},{\"id\":\"98007f9c-b571-42e2-b764-a78ba6b34933\",\"type\":\"HelpTool\"}]},\"id\":\"cc4de89e-906e-4391-b7cd-df5bbd123b54\",\"type\":\"Toolbar\"},{\"attributes\":{\"plot\":{\"id\":\"730d5433-d26a-47ef-8a07-26e2109cd53c\",\"subtype\":\"Figure\",\"type\":\"Plot\"},\"ticker\":{\"id\":\"ab42f085-9a77-4a4b-9ae2-6fede239764f\",\"type\":\"BasicTicker\"}},\"id\":\"f046e35b-14e5-46b6-bd6b-f2b57d87db78\",\"type\":\"Grid\"},{\"attributes\":{},\"id\":\"27bc482a-eaa0-492b-a1a2-d3e3c0966ff1\",\"type\":\"WheelZoomTool\"},{\"attributes\":{},\"id\":\"d9e7ae32-d605-4764-bfa9-bf5a057d2e0d\",\"type\":\"LogScale\"},{\"attributes\":{\"fill_alpha\":{\"value\":0.1},\"fill_color\":{\"value\":\"#1f77b4\"},\"line_alpha\":{\"value\":0.1},\"line_color\":{\"value\":\"#1f77b4\"},\"x\":{\"field\":\"x\"},\"y\":{\"field\":\"y\"}},\"id\":\"112d7ea3-5b44-4712-9bae-d1efed9e6a8b\",\"type\":\"InvertedTriangle\"},{\"attributes\":{},\"id\":\"ab42f085-9a77-4a4b-9ae2-6fede239764f\",\"type\":\"BasicTicker\"},{\"attributes\":{\"axis_label\":\"cooling rate [K/day]\",\"formatter\":{\"id\":\"55b84bcc-2db1-45c1-a46d-e588efa5079b\",\"type\":\"BasicTickFormatter\"},\"plot\":{\"id\":\"730d5433-d26a-47ef-8a07-26e2109cd53c\",\"subtype\":\"Figure\",\"type\":\"Plot\"},\"ticker\":{\"id\":\"ab42f085-9a77-4a4b-9ae2-6fede239764f\",\"type\":\"BasicTicker\"}},\"id\":\"279337ae-ee67-4039-9d54-cdc712d3e6e7\",\"type\":\"LinearAxis\"},{\"attributes\":{\"callback\":null,\"end\":0.01,\"start\":1020},\"id\":\"fa630f6f-9940-4021-88ab-275ca2c5b5de\",\"type\":\"Range1d\"},{\"attributes\":{\"axis_label\":\"pressure [mb]\",\"formatter\":{\"id\":\"c7c11fac-097a-4797-8d63-c19c62f14863\",\"type\":\"LogTickFormatter\"},\"plot\":{\"id\":\"730d5433-d26a-47ef-8a07-26e2109cd53c\",\"subtype\":\"Figure\",\"type\":\"Plot\"},\"ticker\":{\"id\":\"bbf55d0b-1dd6-494b-992d-9e2fcd7b5f21\",\"type\":\"LogTicker\"}},\"id\":\"b27cbd8b-d743-4daf-8046-53ca698278e0\",\"type\":\"LogAxis\"},{\"attributes\":{\"callback\":null,\"column_names\":[\"x\",\"y\"],\"data\":{\"x\":{\"__ndarray__\":\"Q6KyXJSrkL/iBqy3Ln6Qv8Ih5FQcG5C/Lo1av2tgj78/OC3lbYaOvwGGVyWgqI2/XHD8DEzHjL+rLLEC4eKLv/gNpG/4+4q/asB26YwTir+4DYyEAiuJv++JSiog24i/HVZkL7XQg7/KNg3dLiyGvyFSlhStkoG/7ty704tEcr/ueuMHEotkPzzogasWuo0/qv35XahhnT94eXe6rO+mP8T+md5RJbE/5aIQt/m1tz81gPHrCxG+P+/qbgEVTL4/f1SGGzfPuD+BadyRbb2yP/78V1PiBas/0EDR4cbSoj87g45vUkWZP1ryc6HEd5A/tMl3Zo/Cgz9cp6N5hsRzPwHRzEpMNFU/yzvCueNlVr9CLVAKr29zv+LA9E3EYYK/jJ2khFbjib863wa34AWQv4Jkz9h2XpO/BHaxQCbflb+NpGMiM4SWv6qA0Z74VZS/SCJhAxWaj7+8ZxMWy+ODv2TRfuilCWO/vEGBZQ8uaT96Qo7ogNaBP79dM09nVJA/fpBqen6ImT8CxjCwWfGhP0vcdBWcC6c/iQTSTJfIqz+YBcnx+RewP+Bh0MWDhrI/AYbgFv4ctT9TIlRsduu3P4WhBrqT27o/VDtgqtvRvj9erSTDOwrBP+tShh7vXcI/PqFsBMFnwz8J4CTVkBvEP6MNl4cSzsQ/p1Ylsot5xT8/laofYTnGP0DVzzhgGcc//dQdMLTfxz8SXorEZ1/IP7V9uHkdUMg/lUyppn+kxz+j7Mq6wcjGP5ZyQhEg/cU/Y1Iy7yeZxT9TOh5UXgLGP2dUriraoMo/\",\"dtype\":\"float64\",\"shape\":[75]},\"y\":{\"__ndarray__\":\"GhExyth1ND/Sv8nbtpRIP2vylNV0PVE/aTum7souWD/At0SJ8fVgPw3Iuahxymc/MSNhhJWvcD/bTfBN02d3P2zb5nxnaoA/CD5h5MAGhz8NmeH1TyaQP+zrCsc9p5Y/LbKd76fGnz/bLW5ISEmmPww9YvTcQq8/JV2OstnstT8Er5Y7M8G+P0c+r3jqkcU/5h99k6ZBzj88bCIzFzjVP4enV8oyxN0//yH99nXg5D8qOpLLf0jtP5kqGJXUifQ/c9cS8kHP/D+/DpwzojQEQIEmwoanVwxA4lgXt9HgE0BSSZ2AJuIbQAMJih9jjiNA5q4l5INuK0AwTKYKRj0zQNv5fmq8/DpAaCJseHrtQkB/+zpwzoxKQM3MzMzMeFJAZmZmZmZqWEAAAAAAAFxeQM3MzMzMJmJAmpmZmZkfZUBmZmZmZhhoQDMzMzMzEWtAAAAAAAAKbkBmZmZmZoFwQM3MzMzM/XFAMzMzMzN6c0CamZmZmfZ0QAAAAAAAc3ZAZmZmZmbvd0DNzMzMzGt5QDMzMzMz6HpAmpmZmZlkfEAAAAAAAOF9QGZmZmZmXX9AZmZmZuZsgECamZmZGSuBQM3MzMxM6YFAAAAAAICngkAzMzMzs2WDQGZmZmbmI4RAmpmZmRnihEDNzMzMTKCFQAAAAACAXoZAMzMzM7Mch0BmZmZm5tqHQJqZmZkZmYhAzczMzExXiUAAAAAAgBWKQDMzMzOz04pAZmZmZuaRi0CamZmZGVCMQM3MzMxMDo1AAAAAAIDMjUAzMzMzs4qOQGZmZmbmSI9A\",\"dtype\":\"float64\",\"shape\":[75]}}},\"id\":\"e23a464c-949d-4941-82c0-e9242356ebfd\",\"type\":\"ColumnDataSource\"}],\"root_ids\":[\"8d9d9345-4826-45ae-a47c-49c007efa82d\"]},\"title\":\"Bokeh Application\",\"version\":\"0.12.14\"}};\n",
       "  var render_items = [{\"docid\":\"6661a198-deeb-41fd-a16f-e09a858e1756\",\"elementid\":\"3f719c16-fd7b-453c-8030-a24f7666b83e\",\"modelid\":\"8d9d9345-4826-45ae-a47c-49c007efa82d\"}];\n",
       "  root.Bokeh.embed.embed_items_notebook(docs_json, render_items);\n",
       "\n",
       "  }\n",
       "  if (root.Bokeh !== undefined) {\n",
       "    embed_document(root);\n",
       "  } else {\n",
       "    var attempts = 0;\n",
       "    var timer = setInterval(function(root) {\n",
       "      if (root.Bokeh !== undefined) {\n",
       "        embed_document(root);\n",
       "        clearInterval(timer);\n",
       "      }\n",
       "      attempts++;\n",
       "      if (attempts > 100) {\n",
       "        console.log(\"Bokeh: ERROR: Unable to run BokehJS code because BokehJS library is missing\")\n",
       "        clearInterval(timer);\n",
       "      }\n",
       "    }, 10, root)\n",
       "  }\n",
       "})(window);"
      ],
      "application/vnd.bokehjs_exec.v0+json": ""
     },
     "metadata": {
      "application/vnd.bokehjs_exec.v0+json": {
       "id": "8d9d9345-4826-45ae-a47c-49c007efa82d"
      }
     },
     "output_type": "display_data"
    },
    {
     "name": "stdout",
     "output_type": "stream",
     "text": [
      "FIGURE. Cooling rate profiles.\n"
     ]
    },
    {
     "data": {
      "text/html": [
       "<a id=\"Flux_Comparison\"></a>"
      ],
      "text/plain": [
       "<IPython.core.display.HTML object>"
      ]
     },
     "metadata": {},
     "output_type": "display_data"
    },
    {
     "data": {
      "text/markdown": [
       "# Flux Comparison"
      ],
      "text/plain": [
       "<IPython.core.display.Markdown object>"
      ]
     },
     "metadata": {},
     "output_type": "display_data"
    },
    {
     "data": {
      "text/html": [
       "<div>\n",
       "<style>\n",
       "    .dataframe thead tr:only-child th {\n",
       "        text-align: right;\n",
       "    }\n",
       "\n",
       "    .dataframe thead th {\n",
       "        text-align: left;\n",
       "    }\n",
       "\n",
       "    .dataframe tbody tr th {\n",
       "        vertical-align: top;\n",
       "    }\n",
       "</style>\n",
       "<table border=\"1\" class=\"dataframe\">\n",
       "  <thead>\n",
       "    <tr style=\"text-align: right;\">\n",
       "      <th></th>\n",
       "      <th></th>\n",
       "      <th>flug</th>\n",
       "      <th>fldg</th>\n",
       "      <th>fnetg</th>\n",
       "    </tr>\n",
       "    <tr>\n",
       "      <th>pressure</th>\n",
       "      <th>level</th>\n",
       "      <th></th>\n",
       "      <th></th>\n",
       "      <th></th>\n",
       "    </tr>\n",
       "  </thead>\n",
       "  <tbody>\n",
       "    <tr>\n",
       "      <th>0.0000</th>\n",
       "      <th>1</th>\n",
       "      <td>-14.442905</td>\n",
       "      <td>0.000000</td>\n",
       "      <td>-14.442905</td>\n",
       "    </tr>\n",
       "    <tr>\n",
       "      <th>1.0685</th>\n",
       "      <th>24</th>\n",
       "      <td>-14.442795</td>\n",
       "      <td>0.008647</td>\n",
       "      <td>-14.434148</td>\n",
       "    </tr>\n",
       "    <tr>\n",
       "      <th>1013.0000</th>\n",
       "      <th>76</th>\n",
       "      <td>-23.755175</td>\n",
       "      <td>19.142618</td>\n",
       "      <td>-4.612557</td>\n",
       "    </tr>\n",
       "  </tbody>\n",
       "</table>\n",
       "</div>"
      ],
      "text/plain": [
       "                      flug       fldg      fnetg\n",
       "pressure  level                                 \n",
       "0.0000    1     -14.442905   0.000000 -14.442905\n",
       "1.0685    24    -14.442795   0.008647 -14.434148\n",
       "1013.0000 76    -23.755175  19.142618  -4.612557"
      ]
     },
     "metadata": {},
     "output_type": "display_data"
    },
    {
     "name": "stdout",
     "output_type": "stream",
     "text": [
      "Table. Fluxes. CRD\n"
     ]
    },
    {
     "data": {
      "text/html": [
       "<div>\n",
       "<style>\n",
       "    .dataframe thead tr:only-child th {\n",
       "        text-align: right;\n",
       "    }\n",
       "\n",
       "    .dataframe thead th {\n",
       "        text-align: left;\n",
       "    }\n",
       "\n",
       "    .dataframe tbody tr th {\n",
       "        vertical-align: top;\n",
       "    }\n",
       "</style>\n",
       "<table border=\"1\" class=\"dataframe\">\n",
       "  <thead>\n",
       "    <tr style=\"text-align: right;\">\n",
       "      <th></th>\n",
       "      <th></th>\n",
       "      <th>flug</th>\n",
       "      <th>fldg</th>\n",
       "      <th>fnetg</th>\n",
       "    </tr>\n",
       "    <tr>\n",
       "      <th>pressure</th>\n",
       "      <th>level</th>\n",
       "      <th></th>\n",
       "      <th></th>\n",
       "      <th></th>\n",
       "    </tr>\n",
       "  </thead>\n",
       "  <tbody>\n",
       "    <tr>\n",
       "      <th>0.0000</th>\n",
       "      <th>1</th>\n",
       "      <td>-14.707491</td>\n",
       "      <td>0.000000</td>\n",
       "      <td>-14.707491</td>\n",
       "    </tr>\n",
       "    <tr>\n",
       "      <th>1.0685</th>\n",
       "      <th>24</th>\n",
       "      <td>-14.704966</td>\n",
       "      <td>0.006191</td>\n",
       "      <td>-14.698775</td>\n",
       "    </tr>\n",
       "    <tr>\n",
       "      <th>1013.0000</th>\n",
       "      <th>76</th>\n",
       "      <td>-23.755175</td>\n",
       "      <td>19.096973</td>\n",
       "      <td>-4.658203</td>\n",
       "    </tr>\n",
       "  </tbody>\n",
       "</table>\n",
       "</div>"
      ],
      "text/plain": [
       "                      flug       fldg      fnetg\n",
       "pressure  level                                 \n",
       "0.0000    1     -14.707491   0.000000 -14.707491\n",
       "1.0685    24    -14.704966   0.006191 -14.698775\n",
       "1013.0000 76    -23.755175  19.096973  -4.658203"
      ]
     },
     "metadata": {},
     "output_type": "display_data"
    },
    {
     "name": "stdout",
     "output_type": "stream",
     "text": [
      "Table. Fluxes. WGT igg=10\n"
     ]
    },
    {
     "data": {
      "text/html": [
       "<div>\n",
       "<style>\n",
       "    .dataframe thead tr:only-child th {\n",
       "        text-align: right;\n",
       "    }\n",
       "\n",
       "    .dataframe thead th {\n",
       "        text-align: left;\n",
       "    }\n",
       "\n",
       "    .dataframe tbody tr th {\n",
       "        vertical-align: top;\n",
       "    }\n",
       "</style>\n",
       "<table border=\"1\" class=\"dataframe\">\n",
       "  <thead>\n",
       "    <tr style=\"text-align: right;\">\n",
       "      <th></th>\n",
       "      <th></th>\n",
       "      <th>flug</th>\n",
       "      <th>fldg</th>\n",
       "      <th>fnetg</th>\n",
       "    </tr>\n",
       "    <tr>\n",
       "      <th>pressure</th>\n",
       "      <th>level</th>\n",
       "      <th></th>\n",
       "      <th></th>\n",
       "      <th></th>\n",
       "    </tr>\n",
       "  </thead>\n",
       "  <tbody>\n",
       "    <tr>\n",
       "      <th>0.0000</th>\n",
       "      <th>1</th>\n",
       "      <td>-14.513162</td>\n",
       "      <td>0.000000</td>\n",
       "      <td>-14.513162</td>\n",
       "    </tr>\n",
       "    <tr>\n",
       "      <th>1.0685</th>\n",
       "      <th>24</th>\n",
       "      <td>-14.510968</td>\n",
       "      <td>0.006572</td>\n",
       "      <td>-14.504396</td>\n",
       "    </tr>\n",
       "    <tr>\n",
       "      <th>1013.0000</th>\n",
       "      <th>76</th>\n",
       "      <td>-23.755175</td>\n",
       "      <td>19.144001</td>\n",
       "      <td>-4.611174</td>\n",
       "    </tr>\n",
       "  </tbody>\n",
       "</table>\n",
       "</div>"
      ],
      "text/plain": [
       "                      flug       fldg      fnetg\n",
       "pressure  level                                 \n",
       "0.0000    1     -14.513162   0.000000 -14.513162\n",
       "1.0685    24    -14.510968   0.006572 -14.504396\n",
       "1013.0000 76    -23.755175  19.144001  -4.611174"
      ]
     },
     "metadata": {},
     "output_type": "display_data"
    },
    {
     "name": "stdout",
     "output_type": "stream",
     "text": [
      "Table. Fluxes. WGT igg=1\n"
     ]
    },
    {
     "data": {
      "text/html": [
       "<div>\n",
       "<style>\n",
       "    .dataframe thead tr:only-child th {\n",
       "        text-align: right;\n",
       "    }\n",
       "\n",
       "    .dataframe thead th {\n",
       "        text-align: left;\n",
       "    }\n",
       "\n",
       "    .dataframe tbody tr th {\n",
       "        vertical-align: top;\n",
       "    }\n",
       "</style>\n",
       "<table border=\"1\" class=\"dataframe\">\n",
       "  <thead>\n",
       "    <tr style=\"text-align: right;\">\n",
       "      <th></th>\n",
       "      <th></th>\n",
       "      <th>flug</th>\n",
       "      <th>fldg</th>\n",
       "      <th>fnetg</th>\n",
       "    </tr>\n",
       "    <tr>\n",
       "      <th>pressure</th>\n",
       "      <th>level</th>\n",
       "      <th></th>\n",
       "      <th></th>\n",
       "      <th></th>\n",
       "    </tr>\n",
       "  </thead>\n",
       "  <tbody>\n",
       "    <tr>\n",
       "      <th>0.0000</th>\n",
       "      <th>1</th>\n",
       "      <td>-0.264586</td>\n",
       "      <td>0.000000</td>\n",
       "      <td>-0.264586</td>\n",
       "    </tr>\n",
       "    <tr>\n",
       "      <th>1.0685</th>\n",
       "      <th>24</th>\n",
       "      <td>-0.262171</td>\n",
       "      <td>-0.002456</td>\n",
       "      <td>-0.264627</td>\n",
       "    </tr>\n",
       "    <tr>\n",
       "      <th>1013.0000</th>\n",
       "      <th>76</th>\n",
       "      <td>0.000000</td>\n",
       "      <td>-0.045645</td>\n",
       "      <td>-0.045646</td>\n",
       "    </tr>\n",
       "  </tbody>\n",
       "</table>\n",
       "</div>"
      ],
      "text/plain": [
       "                     flug      fldg     fnetg\n",
       "pressure  level                              \n",
       "0.0000    1     -0.264586  0.000000 -0.264586\n",
       "1.0685    24    -0.262171 -0.002456 -0.264627\n",
       "1013.0000 76     0.000000 -0.045645 -0.045646"
      ]
     },
     "metadata": {},
     "output_type": "display_data"
    },
    {
     "name": "stdout",
     "output_type": "stream",
     "text": [
      "Table. Fluxes. (WGT igg=10) - (CRD)\n"
     ]
    },
    {
     "data": {
      "text/html": [
       "<div>\n",
       "<style>\n",
       "    .dataframe thead tr:only-child th {\n",
       "        text-align: right;\n",
       "    }\n",
       "\n",
       "    .dataframe thead th {\n",
       "        text-align: left;\n",
       "    }\n",
       "\n",
       "    .dataframe tbody tr th {\n",
       "        vertical-align: top;\n",
       "    }\n",
       "</style>\n",
       "<table border=\"1\" class=\"dataframe\">\n",
       "  <thead>\n",
       "    <tr style=\"text-align: right;\">\n",
       "      <th></th>\n",
       "      <th></th>\n",
       "      <th>flug</th>\n",
       "      <th>fldg</th>\n",
       "      <th>fnetg</th>\n",
       "    </tr>\n",
       "    <tr>\n",
       "      <th>pressure</th>\n",
       "      <th>level</th>\n",
       "      <th></th>\n",
       "      <th></th>\n",
       "      <th></th>\n",
       "    </tr>\n",
       "  </thead>\n",
       "  <tbody>\n",
       "    <tr>\n",
       "      <th>0.0000</th>\n",
       "      <th>1</th>\n",
       "      <td>-0.070257</td>\n",
       "      <td>0.000000</td>\n",
       "      <td>-0.070257</td>\n",
       "    </tr>\n",
       "    <tr>\n",
       "      <th>1.0685</th>\n",
       "      <th>24</th>\n",
       "      <td>-0.068173</td>\n",
       "      <td>-0.002075</td>\n",
       "      <td>-0.070248</td>\n",
       "    </tr>\n",
       "    <tr>\n",
       "      <th>1013.0000</th>\n",
       "      <th>76</th>\n",
       "      <td>0.000000</td>\n",
       "      <td>0.001383</td>\n",
       "      <td>0.001383</td>\n",
       "    </tr>\n",
       "  </tbody>\n",
       "</table>\n",
       "</div>"
      ],
      "text/plain": [
       "                     flug      fldg     fnetg\n",
       "pressure  level                              \n",
       "0.0000    1     -0.070257  0.000000 -0.070257\n",
       "1.0685    24    -0.068173 -0.002075 -0.070248\n",
       "1013.0000 76     0.000000  0.001383  0.001383"
      ]
     },
     "metadata": {},
     "output_type": "display_data"
    },
    {
     "name": "stdout",
     "output_type": "stream",
     "text": [
      "Table. Fluxes. (WGT igg=1) - (CRD)\n"
     ]
    },
    {
     "data": {
      "text/html": [
       "<a id=\"Best-fit_Parameters\"></a>"
      ],
      "text/plain": [
       "<IPython.core.display.HTML object>"
      ]
     },
     "metadata": {},
     "output_type": "display_data"
    },
    {
     "data": {
      "text/markdown": [
       "# Best-fit Parameters"
      ],
      "text/plain": [
       "<IPython.core.display.Markdown object>"
      ]
     },
     "metadata": {},
     "output_type": "display_data"
    },
    {
     "name": "stdout",
     "output_type": "stream",
     "text": [
      "Best-fit values for each (gas, band)\n",
      "------------------------------------\n",
      "o h2o band7\n",
      "  molecule = h2o\n",
      "  band = 7\n",
      "  commitnumber = 043bdfe\n",
      "  vmin = 1215\n",
      "  vmax = 1380\n",
      "  dv = 0.001\n",
      "  nv = 1000\n",
      "  ref_pts = [(600, 250)]\n",
      "  ng_refs = [7]\n",
      "  ng_adju = [0]\n",
      "  klin = 0\n",
      "  option_wgt_k = 1\n",
      "  wgt = [(0.5, 0.5, 0.5, 0.5, 0.5, 0.5, 0.9)]\n",
      "  w_diffuse = [(2, 1.6, 1.6, 1.6, 1.6, 1.6, 1.8)]\n",
      "  option_wgt_flux = 1\n",
      "  atmpro = mls\n",
      "  tsfc = 294\n",
      "  conc = None\n",
      "  option_compute_btable = 0\n",
      "  option_compute_ktable = 0\n",
      "o n2o band7\n",
      "  molecule = n2o\n",
      "  band = 7\n",
      "  commitnumber = 043bdfe\n",
      "  vmin = 1215\n",
      "  vmax = 1380\n",
      "  dv = 0.001\n",
      "  nv = 1000\n",
      "  ref_pts = [(1, 250), (500, 250)]\n",
      "  ng_refs = [2, 2]\n",
      "  ng_adju = [0, 0]\n",
      "  klin = 2.22e-20\n",
      "  option_wgt_k = 1\n",
      "  wgt = [(0.6, 0.5), (0.6, 0.9)]\n",
      "  w_diffuse = [(1.8, 1.66), (1.6, 1.8)]\n",
      "  option_wgt_flux = 1\n",
      "  atmpro = mls\n",
      "  tsfc = 294\n",
      "  conc = 3.2e-07\n",
      "  option_compute_btable = 0\n",
      "  option_compute_ktable = 0\n"
     ]
    }
   ],
   "source": [
    "script()"
   ]
  },
  {
   "cell_type": "code",
   "execution_count": 12,
   "metadata": {},
   "outputs": [
    {
     "data": {
      "text/html": [
       "<script>\n",
       "code_show=true; \n",
       "function code_toggle() {\n",
       " if (code_show){\n",
       " $('div.input').hide();\n",
       " } else {\n",
       " $('div.input').show();\n",
       " }\n",
       " code_show = !code_show\n",
       "} \n",
       "$( document ).ready(code_toggle);\n",
       "</script>\n",
       "<form action=\"javascript:code_toggle()\"><input type=\"submit\" value=\"Click here to toggle on/off the raw code.\"></form>"
      ],
      "text/plain": [
       "<IPython.core.display.HTML object>"
      ]
     },
     "execution_count": 12,
     "metadata": {},
     "output_type": "execute_result"
    }
   ],
   "source": [
    "display.HTML('''<script>\n",
    "code_show=true; \n",
    "function code_toggle() {\n",
    " if (code_show){\n",
    " $('div.input').hide();\n",
    " } else {\n",
    " $('div.input').show();\n",
    " }\n",
    " code_show = !code_show\n",
    "} \n",
    "$( document ).ready(code_toggle);\n",
    "</script>\n",
    "<form action=\"javascript:code_toggle()\"><input type=\"submit\" value=\"Click here to toggle on/off the raw code.\"></form>''')"
   ]
  }
 ],
 "metadata": {
  "kernelspec": {
   "display_name": "Python 3",
   "language": "python",
   "name": "python3"
  },
  "language_info": {
   "codemirror_mode": {
    "name": "ipython",
    "version": 3
   },
   "file_extension": ".py",
   "mimetype": "text/x-python",
   "name": "python",
   "nbconvert_exporter": "python",
   "pygments_lexer": "ipython3",
   "version": "3.6.1"
  }
 },
 "nbformat": 4,
 "nbformat_minor": 2
}
