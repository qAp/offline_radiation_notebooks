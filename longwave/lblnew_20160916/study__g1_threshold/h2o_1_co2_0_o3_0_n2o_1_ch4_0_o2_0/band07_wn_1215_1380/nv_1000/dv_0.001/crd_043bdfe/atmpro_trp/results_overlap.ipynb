{
 "cells": [
  {
   "cell_type": "code",
   "execution_count": 1,
   "metadata": {
    "collapsed": true
   },
   "outputs": [],
   "source": [
    "%matplotlib inline\n",
    "import os\n",
    "import re\n",
    "import io\n",
    "import itertools\n",
    "import pprint\n",
    "\n",
    "from bokeh.io import output_notebook, show\n",
    "from bokeh.layouts import gridplot\n",
    "from bokeh.plotting import figure\n",
    "from bokeh.models import Range1d, Legend\n",
    "from bokeh.palettes import all_palettes\n",
    "\n",
    "import matplotlib\n",
    "import matplotlib.pyplot as plt\n",
    "import numpy as np\n",
    "import pandas as pd\n",
    "import xarray as xr\n",
    "\n",
    "import climatools.lblnew.bestfit_params as bestfits\n",
    "from climatools.lblnew import setup_bestfit, setup_overlap\n",
    "import climatools.lblnew.pipeline as pipe_lblnew\n",
    "\n",
    "import climatools.html.html as climahtml\n",
    "from climatools.lblnew.dataio import *\n",
    "from climatools.plot.plot import *\n",
    "\n",
    "\n",
    "import IPython.display as display"
   ]
  },
  {
   "cell_type": "code",
   "execution_count": 2,
   "metadata": {
    "collapsed": true
   },
   "outputs": [],
   "source": [
    "%run param.py"
   ]
  },
  {
   "cell_type": "code",
   "execution_count": 3,
   "metadata": {
    "collapsed": true
   },
   "outputs": [],
   "source": [
    "def load_output_file(path_csv):\n",
    "    '''\n",
    "    Load lblnew output .csv file to xarray.Dataset\n",
    "    \n",
    "    Parameters\n",
    "    ----------\n",
    "    path_csv: str\n",
    "              Path to the .csv file to be loaded.\n",
    "    ds: xarray.Dataset\n",
    "        Data in the input file in the form of an xarray.Dataset.\n",
    "    '''\n",
    "    toindex = ['band', 'pressure', 'igg', 'g']    \n",
    "    df = pd.read_csv(path_csv, sep=r'\\s+')\n",
    "    df = df.set_index([i for i in toindex if i in df.columns])\n",
    "    df = df.rename(columns={'sfu': 'flug',\n",
    "                            'sfd': 'fldg',\n",
    "                            'fnet': 'fnetg',\n",
    "                            'coolr': 'coolrg'})\n",
    "    ds = xr.Dataset.from_dataframe(df)\n",
    "\n",
    "    for l in ('level', 'layer'):\n",
    "        if l in ds.data_vars:\n",
    "            if len(ds[l].dims) > 1:\n",
    "                surface = {d: 0 for d in ds.dims if d != 'pressure'}\n",
    "                coord_level = ds[l][surface]\n",
    "                ds.coords[l] = ('pressure', coord_level)\n",
    "            else:\n",
    "                ds.coords[l] = ('pressure', ds[l])\n",
    "    \n",
    "    return ds"
   ]
  },
  {
   "cell_type": "code",
   "execution_count": 4,
   "metadata": {
    "collapsed": true
   },
   "outputs": [],
   "source": [
    "def lblnew_setup(param=None):\n",
    "    if 'ng_refs' in param:\n",
    "        return {'setup': setup_bestfit,\n",
    "                'fname_flux_crd': 'output_flux.dat',\n",
    "                'fname_cool_crd': 'output_coolr.dat',\n",
    "                'fname_flux_wgt': 'output_wfluxg.dat',\n",
    "                'fname_cool_wgt': 'output_wcoolrg.dat'}\n",
    "    else:\n",
    "        return {'setup': setup_overlap,\n",
    "                'fname_flux_crd': 'output_flux.dat',\n",
    "                'fname_cool_crd': 'output_coolr.dat',\n",
    "                'fname_flux_wgt': 'output_wflux.dat',\n",
    "                'fname_cool_wgt': 'output_wcoolr.dat'}\n",
    "\n",
    "    \n",
    "def load_lblnew_data(param):\n",
    "    \n",
    "    fname_dsname = [('fname_flux_crd', 'ds_flux_crd'),\n",
    "                    ('fname_cool_crd', 'ds_cool_crd'),\n",
    "                    ('fname_flux_wgt', 'ds_flux_wgt'),\n",
    "                    ('fname_cool_wgt', 'ds_cool_wgt')]\n",
    "    \n",
    "    d = lblnew_setup(param)\n",
    "    dir_fortran = pipe_lblnew.get_dir_case(param, setup=d['setup'])\n",
    "    \n",
    "    data_dict = {}\n",
    "    for fname, dsname in fname_dsname:\n",
    "        fpath = os.path.join(dir_fortran, d[fname])\n",
    "        data_dict[dsname] = load_output_file(fpath)\n",
    "    return data_dict\n",
    "    \n",
    "\n",
    "    \n",
    "    "
   ]
  },
  {
   "cell_type": "code",
   "execution_count": 5,
   "metadata": {
    "collapsed": true
   },
   "outputs": [],
   "source": [
    "d = load_lblnew_data(PARAM)\n",
    "\n",
    "DS_FLUX_CRD = d['ds_flux_crd']\n",
    "DS_COOL_CRD = d['ds_cool_crd']\n",
    "DS_FLUX_WGT = d['ds_flux_wgt']\n",
    "DS_COOL_WGT = d['ds_cool_wgt']"
   ]
  },
  {
   "cell_type": "code",
   "execution_count": 6,
   "metadata": {},
   "outputs": [
    {
     "data": {
      "text/html": [
       "\n",
       "    <div class=\"bk-root\">\n",
       "        <a href=\"https://bokeh.pydata.org\" target=\"_blank\" class=\"bk-logo bk-logo-small bk-logo-notebook\"></a>\n",
       "        <span id=\"b4534858-bc00-4cd1-9658-732409f2a69c\">Loading BokehJS ...</span>\n",
       "    </div>"
      ]
     },
     "metadata": {},
     "output_type": "display_data"
    },
    {
     "data": {
      "application/javascript": [
       "\n",
       "(function(root) {\n",
       "  function now() {\n",
       "    return new Date();\n",
       "  }\n",
       "\n",
       "  var force = true;\n",
       "\n",
       "  if (typeof (root._bokeh_onload_callbacks) === \"undefined\" || force === true) {\n",
       "    root._bokeh_onload_callbacks = [];\n",
       "    root._bokeh_is_loading = undefined;\n",
       "  }\n",
       "\n",
       "  var JS_MIME_TYPE = 'application/javascript';\n",
       "  var HTML_MIME_TYPE = 'text/html';\n",
       "  var EXEC_MIME_TYPE = 'application/vnd.bokehjs_exec.v0+json';\n",
       "  var CLASS_NAME = 'output_bokeh rendered_html';\n",
       "\n",
       "  /**\n",
       "   * Render data to the DOM node\n",
       "   */\n",
       "  function render(props, node) {\n",
       "    var script = document.createElement(\"script\");\n",
       "    node.appendChild(script);\n",
       "  }\n",
       "\n",
       "  /**\n",
       "   * Handle when an output is cleared or removed\n",
       "   */\n",
       "  function handleClearOutput(event, handle) {\n",
       "    var cell = handle.cell;\n",
       "\n",
       "    var id = cell.output_area._bokeh_element_id;\n",
       "    var server_id = cell.output_area._bokeh_server_id;\n",
       "    // Clean up Bokeh references\n",
       "    if (id !== undefined) {\n",
       "      Bokeh.index[id].model.document.clear();\n",
       "      delete Bokeh.index[id];\n",
       "    }\n",
       "\n",
       "    if (server_id !== undefined) {\n",
       "      // Clean up Bokeh references\n",
       "      var cmd = \"from bokeh.io.state import curstate; print(curstate().uuid_to_server['\" + server_id + \"'].get_sessions()[0].document.roots[0]._id)\";\n",
       "      cell.notebook.kernel.execute(cmd, {\n",
       "        iopub: {\n",
       "          output: function(msg) {\n",
       "            var element_id = msg.content.text.trim();\n",
       "            Bokeh.index[element_id].model.document.clear();\n",
       "            delete Bokeh.index[element_id];\n",
       "          }\n",
       "        }\n",
       "      });\n",
       "      // Destroy server and session\n",
       "      var cmd = \"import bokeh.io.notebook as ion; ion.destroy_server('\" + server_id + \"')\";\n",
       "      cell.notebook.kernel.execute(cmd);\n",
       "    }\n",
       "  }\n",
       "\n",
       "  /**\n",
       "   * Handle when a new output is added\n",
       "   */\n",
       "  function handleAddOutput(event, handle) {\n",
       "    var output_area = handle.output_area;\n",
       "    var output = handle.output;\n",
       "\n",
       "    // limit handleAddOutput to display_data with EXEC_MIME_TYPE content only\n",
       "    if ((output.output_type != \"display_data\") || (!output.data.hasOwnProperty(EXEC_MIME_TYPE))) {\n",
       "      return\n",
       "    }\n",
       "\n",
       "    var toinsert = output_area.element.find(\".\" + CLASS_NAME.split(' ')[0]);\n",
       "\n",
       "    if (output.metadata[EXEC_MIME_TYPE][\"id\"] !== undefined) {\n",
       "      toinsert[0].firstChild.textContent = output.data[JS_MIME_TYPE];\n",
       "      // store reference to embed id on output_area\n",
       "      output_area._bokeh_element_id = output.metadata[EXEC_MIME_TYPE][\"id\"];\n",
       "    }\n",
       "    if (output.metadata[EXEC_MIME_TYPE][\"server_id\"] !== undefined) {\n",
       "      var bk_div = document.createElement(\"div\");\n",
       "      bk_div.innerHTML = output.data[HTML_MIME_TYPE];\n",
       "      var script_attrs = bk_div.children[0].attributes;\n",
       "      for (var i = 0; i < script_attrs.length; i++) {\n",
       "        toinsert[0].firstChild.setAttribute(script_attrs[i].name, script_attrs[i].value);\n",
       "      }\n",
       "      // store reference to server id on output_area\n",
       "      output_area._bokeh_server_id = output.metadata[EXEC_MIME_TYPE][\"server_id\"];\n",
       "    }\n",
       "  }\n",
       "\n",
       "  function register_renderer(events, OutputArea) {\n",
       "\n",
       "    function append_mime(data, metadata, element) {\n",
       "      // create a DOM node to render to\n",
       "      var toinsert = this.create_output_subarea(\n",
       "        metadata,\n",
       "        CLASS_NAME,\n",
       "        EXEC_MIME_TYPE\n",
       "      );\n",
       "      this.keyboard_manager.register_events(toinsert);\n",
       "      // Render to node\n",
       "      var props = {data: data, metadata: metadata[EXEC_MIME_TYPE]};\n",
       "      render(props, toinsert[0]);\n",
       "      element.append(toinsert);\n",
       "      return toinsert\n",
       "    }\n",
       "\n",
       "    /* Handle when an output is cleared or removed */\n",
       "    events.on('clear_output.CodeCell', handleClearOutput);\n",
       "    events.on('delete.Cell', handleClearOutput);\n",
       "\n",
       "    /* Handle when a new output is added */\n",
       "    events.on('output_added.OutputArea', handleAddOutput);\n",
       "\n",
       "    /**\n",
       "     * Register the mime type and append_mime function with output_area\n",
       "     */\n",
       "    OutputArea.prototype.register_mime_type(EXEC_MIME_TYPE, append_mime, {\n",
       "      /* Is output safe? */\n",
       "      safe: true,\n",
       "      /* Index of renderer in `output_area.display_order` */\n",
       "      index: 0\n",
       "    });\n",
       "  }\n",
       "\n",
       "  // register the mime type if in Jupyter Notebook environment and previously unregistered\n",
       "  if (root.Jupyter !== undefined) {\n",
       "    var events = require('base/js/events');\n",
       "    var OutputArea = require('notebook/js/outputarea').OutputArea;\n",
       "\n",
       "    if (OutputArea.prototype.mime_types().indexOf(EXEC_MIME_TYPE) == -1) {\n",
       "      register_renderer(events, OutputArea);\n",
       "    }\n",
       "  }\n",
       "\n",
       "  \n",
       "  if (typeof (root._bokeh_timeout) === \"undefined\" || force === true) {\n",
       "    root._bokeh_timeout = Date.now() + 5000;\n",
       "    root._bokeh_failed_load = false;\n",
       "  }\n",
       "\n",
       "  var NB_LOAD_WARNING = {'data': {'text/html':\n",
       "     \"<div style='background-color: #fdd'>\\n\"+\n",
       "     \"<p>\\n\"+\n",
       "     \"BokehJS does not appear to have successfully loaded. If loading BokehJS from CDN, this \\n\"+\n",
       "     \"may be due to a slow or bad network connection. Possible fixes:\\n\"+\n",
       "     \"</p>\\n\"+\n",
       "     \"<ul>\\n\"+\n",
       "     \"<li>re-rerun `output_notebook()` to attempt to load from CDN again, or</li>\\n\"+\n",
       "     \"<li>use INLINE resources instead, as so:</li>\\n\"+\n",
       "     \"</ul>\\n\"+\n",
       "     \"<code>\\n\"+\n",
       "     \"from bokeh.resources import INLINE\\n\"+\n",
       "     \"output_notebook(resources=INLINE)\\n\"+\n",
       "     \"</code>\\n\"+\n",
       "     \"</div>\"}};\n",
       "\n",
       "  function display_loaded() {\n",
       "    var el = document.getElementById(\"b4534858-bc00-4cd1-9658-732409f2a69c\");\n",
       "    if (el != null) {\n",
       "      el.textContent = \"BokehJS is loading...\";\n",
       "    }\n",
       "    if (root.Bokeh !== undefined) {\n",
       "      if (el != null) {\n",
       "        el.textContent = \"BokehJS \" + root.Bokeh.version + \" successfully loaded.\";\n",
       "      }\n",
       "    } else if (Date.now() < root._bokeh_timeout) {\n",
       "      setTimeout(display_loaded, 100)\n",
       "    }\n",
       "  }\n",
       "\n",
       "\n",
       "  function run_callbacks() {\n",
       "    try {\n",
       "      root._bokeh_onload_callbacks.forEach(function(callback) { callback() });\n",
       "    }\n",
       "    finally {\n",
       "      delete root._bokeh_onload_callbacks\n",
       "    }\n",
       "    console.info(\"Bokeh: all callbacks have finished\");\n",
       "  }\n",
       "\n",
       "  function load_libs(js_urls, callback) {\n",
       "    root._bokeh_onload_callbacks.push(callback);\n",
       "    if (root._bokeh_is_loading > 0) {\n",
       "      console.log(\"Bokeh: BokehJS is being loaded, scheduling callback at\", now());\n",
       "      return null;\n",
       "    }\n",
       "    if (js_urls == null || js_urls.length === 0) {\n",
       "      run_callbacks();\n",
       "      return null;\n",
       "    }\n",
       "    console.log(\"Bokeh: BokehJS not loaded, scheduling load and callback at\", now());\n",
       "    root._bokeh_is_loading = js_urls.length;\n",
       "    for (var i = 0; i < js_urls.length; i++) {\n",
       "      var url = js_urls[i];\n",
       "      var s = document.createElement('script');\n",
       "      s.src = url;\n",
       "      s.async = false;\n",
       "      s.onreadystatechange = s.onload = function() {\n",
       "        root._bokeh_is_loading--;\n",
       "        if (root._bokeh_is_loading === 0) {\n",
       "          console.log(\"Bokeh: all BokehJS libraries loaded\");\n",
       "          run_callbacks()\n",
       "        }\n",
       "      };\n",
       "      s.onerror = function() {\n",
       "        console.warn(\"failed to load library \" + url);\n",
       "      };\n",
       "      console.log(\"Bokeh: injecting script tag for BokehJS library: \", url);\n",
       "      document.getElementsByTagName(\"head\")[0].appendChild(s);\n",
       "    }\n",
       "  };var element = document.getElementById(\"b4534858-bc00-4cd1-9658-732409f2a69c\");\n",
       "  if (element == null) {\n",
       "    console.log(\"Bokeh: ERROR: autoload.js configured with elementid 'b4534858-bc00-4cd1-9658-732409f2a69c' but no matching script tag was found. \")\n",
       "    return false;\n",
       "  }\n",
       "\n",
       "  var js_urls = [\"https://cdn.pydata.org/bokeh/release/bokeh-0.12.14.min.js\", \"https://cdn.pydata.org/bokeh/release/bokeh-widgets-0.12.14.min.js\", \"https://cdn.pydata.org/bokeh/release/bokeh-tables-0.12.14.min.js\", \"https://cdn.pydata.org/bokeh/release/bokeh-gl-0.12.14.min.js\"];\n",
       "\n",
       "  var inline_js = [\n",
       "    function(Bokeh) {\n",
       "      Bokeh.set_log_level(\"info\");\n",
       "    },\n",
       "    \n",
       "    function(Bokeh) {\n",
       "      \n",
       "    },\n",
       "    function(Bokeh) {\n",
       "      console.log(\"Bokeh: injecting CSS: https://cdn.pydata.org/bokeh/release/bokeh-0.12.14.min.css\");\n",
       "      Bokeh.embed.inject_css(\"https://cdn.pydata.org/bokeh/release/bokeh-0.12.14.min.css\");\n",
       "      console.log(\"Bokeh: injecting CSS: https://cdn.pydata.org/bokeh/release/bokeh-widgets-0.12.14.min.css\");\n",
       "      Bokeh.embed.inject_css(\"https://cdn.pydata.org/bokeh/release/bokeh-widgets-0.12.14.min.css\");\n",
       "      console.log(\"Bokeh: injecting CSS: https://cdn.pydata.org/bokeh/release/bokeh-tables-0.12.14.min.css\");\n",
       "      Bokeh.embed.inject_css(\"https://cdn.pydata.org/bokeh/release/bokeh-tables-0.12.14.min.css\");\n",
       "    }\n",
       "  ];\n",
       "\n",
       "  function run_inline_js() {\n",
       "    \n",
       "    if ((root.Bokeh !== undefined) || (force === true)) {\n",
       "      for (var i = 0; i < inline_js.length; i++) {\n",
       "        inline_js[i].call(root, root.Bokeh);\n",
       "      }if (force === true) {\n",
       "        display_loaded();\n",
       "      }} else if (Date.now() < root._bokeh_timeout) {\n",
       "      setTimeout(run_inline_js, 100);\n",
       "    } else if (!root._bokeh_failed_load) {\n",
       "      console.log(\"Bokeh: BokehJS failed to load within specified timeout.\");\n",
       "      root._bokeh_failed_load = true;\n",
       "    } else if (force !== true) {\n",
       "      var cell = $(document.getElementById(\"b4534858-bc00-4cd1-9658-732409f2a69c\")).parents('.cell').data().cell;\n",
       "      cell.output_area.append_execute_result(NB_LOAD_WARNING)\n",
       "    }\n",
       "\n",
       "  }\n",
       "\n",
       "  if (root._bokeh_is_loading === 0) {\n",
       "    console.log(\"Bokeh: BokehJS loaded, going straight to plotting\");\n",
       "    run_inline_js();\n",
       "  } else {\n",
       "    load_libs(js_urls, function() {\n",
       "      console.log(\"Bokeh: BokehJS plotting callback run at\", now());\n",
       "      run_inline_js();\n",
       "    });\n",
       "  }\n",
       "}(window));"
      ],
      "application/vnd.bokehjs_load.v0+json": "\n(function(root) {\n  function now() {\n    return new Date();\n  }\n\n  var force = true;\n\n  if (typeof (root._bokeh_onload_callbacks) === \"undefined\" || force === true) {\n    root._bokeh_onload_callbacks = [];\n    root._bokeh_is_loading = undefined;\n  }\n\n  \n\n  \n  if (typeof (root._bokeh_timeout) === \"undefined\" || force === true) {\n    root._bokeh_timeout = Date.now() + 5000;\n    root._bokeh_failed_load = false;\n  }\n\n  var NB_LOAD_WARNING = {'data': {'text/html':\n     \"<div style='background-color: #fdd'>\\n\"+\n     \"<p>\\n\"+\n     \"BokehJS does not appear to have successfully loaded. If loading BokehJS from CDN, this \\n\"+\n     \"may be due to a slow or bad network connection. Possible fixes:\\n\"+\n     \"</p>\\n\"+\n     \"<ul>\\n\"+\n     \"<li>re-rerun `output_notebook()` to attempt to load from CDN again, or</li>\\n\"+\n     \"<li>use INLINE resources instead, as so:</li>\\n\"+\n     \"</ul>\\n\"+\n     \"<code>\\n\"+\n     \"from bokeh.resources import INLINE\\n\"+\n     \"output_notebook(resources=INLINE)\\n\"+\n     \"</code>\\n\"+\n     \"</div>\"}};\n\n  function display_loaded() {\n    var el = document.getElementById(\"b4534858-bc00-4cd1-9658-732409f2a69c\");\n    if (el != null) {\n      el.textContent = \"BokehJS is loading...\";\n    }\n    if (root.Bokeh !== undefined) {\n      if (el != null) {\n        el.textContent = \"BokehJS \" + root.Bokeh.version + \" successfully loaded.\";\n      }\n    } else if (Date.now() < root._bokeh_timeout) {\n      setTimeout(display_loaded, 100)\n    }\n  }\n\n\n  function run_callbacks() {\n    try {\n      root._bokeh_onload_callbacks.forEach(function(callback) { callback() });\n    }\n    finally {\n      delete root._bokeh_onload_callbacks\n    }\n    console.info(\"Bokeh: all callbacks have finished\");\n  }\n\n  function load_libs(js_urls, callback) {\n    root._bokeh_onload_callbacks.push(callback);\n    if (root._bokeh_is_loading > 0) {\n      console.log(\"Bokeh: BokehJS is being loaded, scheduling callback at\", now());\n      return null;\n    }\n    if (js_urls == null || js_urls.length === 0) {\n      run_callbacks();\n      return null;\n    }\n    console.log(\"Bokeh: BokehJS not loaded, scheduling load and callback at\", now());\n    root._bokeh_is_loading = js_urls.length;\n    for (var i = 0; i < js_urls.length; i++) {\n      var url = js_urls[i];\n      var s = document.createElement('script');\n      s.src = url;\n      s.async = false;\n      s.onreadystatechange = s.onload = function() {\n        root._bokeh_is_loading--;\n        if (root._bokeh_is_loading === 0) {\n          console.log(\"Bokeh: all BokehJS libraries loaded\");\n          run_callbacks()\n        }\n      };\n      s.onerror = function() {\n        console.warn(\"failed to load library \" + url);\n      };\n      console.log(\"Bokeh: injecting script tag for BokehJS library: \", url);\n      document.getElementsByTagName(\"head\")[0].appendChild(s);\n    }\n  };var element = document.getElementById(\"b4534858-bc00-4cd1-9658-732409f2a69c\");\n  if (element == null) {\n    console.log(\"Bokeh: ERROR: autoload.js configured with elementid 'b4534858-bc00-4cd1-9658-732409f2a69c' but no matching script tag was found. \")\n    return false;\n  }\n\n  var js_urls = [\"https://cdn.pydata.org/bokeh/release/bokeh-0.12.14.min.js\", \"https://cdn.pydata.org/bokeh/release/bokeh-widgets-0.12.14.min.js\", \"https://cdn.pydata.org/bokeh/release/bokeh-tables-0.12.14.min.js\", \"https://cdn.pydata.org/bokeh/release/bokeh-gl-0.12.14.min.js\"];\n\n  var inline_js = [\n    function(Bokeh) {\n      Bokeh.set_log_level(\"info\");\n    },\n    \n    function(Bokeh) {\n      \n    },\n    function(Bokeh) {\n      console.log(\"Bokeh: injecting CSS: https://cdn.pydata.org/bokeh/release/bokeh-0.12.14.min.css\");\n      Bokeh.embed.inject_css(\"https://cdn.pydata.org/bokeh/release/bokeh-0.12.14.min.css\");\n      console.log(\"Bokeh: injecting CSS: https://cdn.pydata.org/bokeh/release/bokeh-widgets-0.12.14.min.css\");\n      Bokeh.embed.inject_css(\"https://cdn.pydata.org/bokeh/release/bokeh-widgets-0.12.14.min.css\");\n      console.log(\"Bokeh: injecting CSS: https://cdn.pydata.org/bokeh/release/bokeh-tables-0.12.14.min.css\");\n      Bokeh.embed.inject_css(\"https://cdn.pydata.org/bokeh/release/bokeh-tables-0.12.14.min.css\");\n    }\n  ];\n\n  function run_inline_js() {\n    \n    if ((root.Bokeh !== undefined) || (force === true)) {\n      for (var i = 0; i < inline_js.length; i++) {\n        inline_js[i].call(root, root.Bokeh);\n      }if (force === true) {\n        display_loaded();\n      }} else if (Date.now() < root._bokeh_timeout) {\n      setTimeout(run_inline_js, 100);\n    } else if (!root._bokeh_failed_load) {\n      console.log(\"Bokeh: BokehJS failed to load within specified timeout.\");\n      root._bokeh_failed_load = true;\n    } else if (force !== true) {\n      var cell = $(document.getElementById(\"b4534858-bc00-4cd1-9658-732409f2a69c\")).parents('.cell').data().cell;\n      cell.output_area.append_execute_result(NB_LOAD_WARNING)\n    }\n\n  }\n\n  if (root._bokeh_is_loading === 0) {\n    console.log(\"Bokeh: BokehJS loaded, going straight to plotting\");\n    run_inline_js();\n  } else {\n    load_libs(js_urls, function() {\n      console.log(\"Bokeh: BokehJS plotting callback run at\", now());\n      run_inline_js();\n    });\n  }\n}(window));"
     },
     "metadata": {},
     "output_type": "display_data"
    }
   ],
   "source": [
    "output_notebook()"
   ]
  },
  {
   "cell_type": "code",
   "execution_count": 7,
   "metadata": {
    "collapsed": true
   },
   "outputs": [],
   "source": [
    "def fmt_cool(ds_in):\n",
    "    ds = ds_in.copy(deep=True)\n",
    "    if 'igg' in ds.dims:\n",
    "        ds = ds.sel(igg=1)\n",
    "\n",
    "    if 'g' in ds.dims:\n",
    "        ds = ds.sum('g')\n",
    "            \n",
    "    if 'band' in ds.dims:\n",
    "        try:\n",
    "            ds = ds.squeeze('band')\n",
    "        except ValueError:\n",
    "            ds = ds.sum('band')\n",
    "                \n",
    "    return ds['coolrg']\n",
    "\n",
    "\n",
    "def pltdata_cooling_1(ds_cool_crd=None, ds_cool_wgt=None):\n",
    "    \n",
    "\n",
    "\n",
    "    colors = all_palettes['Set1'][4]\n",
    "    data = [{'label': 'CRD',\n",
    "             'srs': fmt_cool(ds_cool_crd),\n",
    "             'line_dash': 'solid', 'line_width': 1.5,\n",
    "             'marker': 'circle', 'marker_size': 5,\n",
    "             'color': colors[2], 'alpha': 1,},\n",
    "            {'label': 'WGT igg=10',\n",
    "             'srs': fmt_cool(ds_cool_wgt.sel(igg=10)),\n",
    "             'line_dash': 'solid', 'line_width': 3,\n",
    "             'marker': 'square', 'marker_size': 5,\n",
    "             'color': colors[3], 'alpha': .6},\n",
    "            {'label': 'WGT igg=1',\n",
    "             'srs': fmt_cool(ds_cool_wgt.sel(igg=1)),\n",
    "             'line_dash': 'dotdash', 'line_width': 3,\n",
    "             'marker': 'inverted_triangle', 'marker_size': 5,\n",
    "             'color': colors[1], 'alpha': .6}\n",
    "           ]\n",
    "    return data\n",
    "\n",
    "\n",
    "def nice_xlims(pltdata=None, prange=None):\n",
    "    \n",
    "    def get_slice(srs):\n",
    "        return srs.sel(pressure=slice(*prange))\n",
    "    \n",
    "    srss = [d['srs'] for d in pltdata]\n",
    "    vmin = min([get_slice(srs).min() for srs in srss])\n",
    "    vmax = max([get_slice(srs).max() for srs in srss])\n",
    "    dv = (vmax - vmin) * .01\n",
    "    return float(vmin - dv), float(vmax + dv)\n",
    "    \n",
    "\n",
    "def plt_cooling_bokeh(pltdata=None):\n",
    "    '''\n",
    "    Plot a list of cooling rate profiles using bokeh.\n",
    "    '''\n",
    "    ymin = 1e-2 \n",
    "    ymax = 1020 \n",
    "        \n",
    "    p1 = figure(title=\"Linear pressure scale\", \n",
    "                plot_width=400)        \n",
    "    xmin, xmax = nice_xlims(pltdata, prange=(50, 1050))\n",
    "    for d in pltdata:\n",
    "        if 'marker' in d:\n",
    "            getattr(p1, d['marker'])(d['srs'].values, \n",
    "                    d['srs'].coords['pressure'].values,\n",
    "                    color=d['color'], alpha=.7)\n",
    "        p1.line(d['srs'].values, \n",
    "                d['srs'].coords['pressure'].values,\n",
    "                color=d['color'], alpha=d['alpha'], \n",
    "                line_width=d['line_width'], line_dash=d['line_dash'])\n",
    "    \n",
    "    p1.y_range = Range1d(ymax, ymin)\n",
    "    p1.yaxis.axis_label = 'pressure [mb]'   \n",
    "    p1.x_range = Range1d(xmin, xmax)\n",
    "    p1.xaxis.axis_label = 'cooling rate [K/day]'\n",
    "            \n",
    "    p2 = figure(title='Log pressure scale', y_axis_type='log',\n",
    "                plot_width=560)\n",
    "    xmin, xmax = nice_xlims(pltdata, prange=(.01, 200))\n",
    "    \n",
    "    rs = []\n",
    "    for d in pltdata:\n",
    "        rd = []\n",
    "        if 'marker' in d:\n",
    "            r_mark = getattr(p2, d['marker'])(d['srs'].values, \n",
    "                        d['srs'].coords['pressure'].values,\n",
    "                        color=d['color'], alpha=.7)\n",
    "            rd.append(r_mark)\n",
    "        r_line = p2.line(d['srs'].values, \n",
    "                    d['srs'].coords['pressure'].values,\n",
    "                    color=d['color'], alpha=d['alpha'], \n",
    "                    line_width=d['line_width'], line_dash=d['line_dash'])\n",
    "        rd.append(r_line)\n",
    "      \n",
    "        rs.append(rd)\n",
    "        \n",
    "    p2.y_range = Range1d(ymax, ymin)  \n",
    "    p2.yaxis.axis_label = 'pressure [mb]'\n",
    "    \n",
    "    p2.x_range = Range1d(xmin, xmax)\n",
    "    p2.xaxis.axis_label = 'cooling rate [K/day]'\n",
    "    \n",
    "    items = [(d['label'], r) for r, d in zip(rs, pltdata)]\n",
    "    legend = Legend(items=items, location=(10, -30))\n",
    "    legend.label_text_font_size = '8pt'\n",
    "    \n",
    "    p2.add_layout(legend, 'right')  \n",
    "    \n",
    "    show(gridplot(p1, p2, ncols=2, plot_height=500))\n",
    "    \n",
    "\n",
    "def script_plt_cooling():\n",
    "    pltdata = pltdata_cooling_1(\n",
    "        ds_cool_crd=DS_COOL_CRD,\n",
    "        ds_cool_wgt=DS_COOL_WGT)\n",
    "    plt_cooling_bokeh(pltdata=pltdata)\n",
    "    print('''FIGURE. Cooling rate profiles.''')"
   ]
  },
  {
   "cell_type": "code",
   "execution_count": 8,
   "metadata": {
    "collapsed": true
   },
   "outputs": [],
   "source": [
    "def fmt_flux(ds_in):\n",
    "    ds = ds_in.copy(deep=True)\n",
    "    \n",
    "    for l in ('level', 'layer'):\n",
    "        if l in ds.data_vars:\n",
    "            if len(ds[l].dims) > 1:\n",
    "                surface = {d: 0 for d in ds.dims if d != 'pressure'}\n",
    "                coord_level = ds[l][surface]\n",
    "                ds.coords[l] = ('pressure', coord_level)\n",
    "            else:\n",
    "                ds.coords[l] = ('pressure', ds[l])\n",
    "        \n",
    "    ds = ds.isel(pressure=[0, 23, -1])\n",
    "    \n",
    "    if 'igg' in ds.dims:\n",
    "        if ds.dims['igg'] > 1:\n",
    "            print('Select an igg value to view in table.')\n",
    "            raise ValueError\n",
    "        else:\n",
    "            ds = ds.squeeze('igg').drop('igg')\n",
    "    else:\n",
    "        if 'igg' in ds.coords:\n",
    "            ds = ds.drop('igg')\n",
    "\n",
    "    if 'g' in ds.dims:\n",
    "        ds = ds.sum('g')\n",
    "            \n",
    "    if 'band' in ds.dims:\n",
    "        try:\n",
    "            ds = ds.squeeze('band').drop('band')\n",
    "        except ValueError:\n",
    "            ds = ds.sum('band')\n",
    "                \n",
    "    df = ds.to_dataframe()\n",
    "    df = df.set_index('level', append=True)               \n",
    "    return df\n",
    "\n",
    "\n",
    "def tbdata_flux(ds_flux_crd=None, ds_flux_wgt=None):\n",
    "    ilevels = [0, 23, -1]\n",
    "            \n",
    "    benchmark = {'label': 'CRD',\n",
    "                 'df': fmt_flux(ds_flux_crd)}\n",
    "    tbs = [{'label': 'WGT igg=10',\n",
    "            'df': fmt_flux(ds_flux_wgt.sel(igg=10))},\n",
    "           {'label': 'WGT igg=1',\n",
    "            'df': fmt_flux(ds_flux_wgt.sel(igg=1))}]\n",
    "    \n",
    "    data = {'benchmark': benchmark, 'others': tbs}\n",
    "    return data\n",
    "\n",
    "\n",
    "def tb_flux(tbdata=None):\n",
    "    benchmark = tbdata['benchmark']\n",
    "    others = tbdata['others']\n",
    "    \n",
    "    def show_tb(d=None):\n",
    "        display.display(d['df'])\n",
    "        print('Table.', 'Fluxes.', d['label'])\n",
    "        \n",
    "    def show_tbdiff(d0=None, d=None):\n",
    "        df = d['df']\n",
    "        df.index = d0['df'].index\n",
    "        display.display(df - d0['df'])\n",
    "        print('Table.', 'Fluxes.', \n",
    "              '({}) - ({})'.format(d['label'], d0['label']))\n",
    "        \n",
    "    show_tb(benchmark)\n",
    "    for d in others:\n",
    "        show_tb(d)\n",
    "        \n",
    "    for d in others:\n",
    "        show_tbdiff(d=d, d0=benchmark)\n",
    "        \n",
    "        \n",
    "def script_tb_flux():\n",
    "    data = tbdata_flux(ds_flux_crd=DS_FLUX_CRD,\n",
    "                       ds_flux_wgt=DS_FLUX_WGT)\n",
    "    tb_flux(tbdata=data)"
   ]
  },
  {
   "cell_type": "code",
   "execution_count": 9,
   "metadata": {
    "collapsed": true
   },
   "outputs": [],
   "source": [
    "def band_map():\n",
    "    '''\n",
    "    Maps spectral bands in lblnew to spectral bands in clirad.\n",
    "    '''\n",
    "    lblnew2clirad = {'1': '1',\n",
    "            '2': '2',\n",
    "            '3a': '3',\n",
    "            '3b': '4',\n",
    "            '3c': '5',\n",
    "            '4': '6', \n",
    "            '5': '7',\n",
    "            '6': '8',\n",
    "            '7': '9', \n",
    "            '8': '10',\n",
    "            '9': '11'}\n",
    "    \n",
    "    clirad2lblnew = {clirad: lblnew \n",
    "                     for lblnew, clirad in lblnew2clirad.items()}\n",
    "    return clirad2lblnew\n",
    "\n",
    "\n",
    "def gasbands():\n",
    "    bmap = band_map()\n",
    "    gases = list(PARAM['molecule'].keys())\n",
    "    \n",
    "    bands = [str(b) for b in PARAM['band']]\n",
    "    return list(itertools.product(gases, bands))\n",
    "\n",
    "\n",
    "def print_bestfit_params():\n",
    "    print('Best-fit values for each (gas, band)')\n",
    "    print('------------------------------------')\n",
    "    for gas, band in gasbands():\n",
    "        print('o {} band{}'.format(gas, band))\n",
    "        param = bestfits.kdist_params(molecule=gas, band=band)\n",
    "        for name, value in param.items():\n",
    "            print(2 * ' ' + '{} = {}'.format(name, value))\n",
    "\n",
    "        \n",
    "def print_input_param():        \n",
    "    for name, value in PARAM.items():\n",
    "        print('{} = {}'.format(name, value))\n"
   ]
  },
  {
   "cell_type": "code",
   "execution_count": 10,
   "metadata": {
    "collapsed": true,
    "scrolled": false
   },
   "outputs": [],
   "source": [
    "def show_html(s):\n",
    "    display.display(display.HTML(s))\n",
    "\n",
    "    \n",
    "def show_markdown(s):\n",
    "    display.display(display.Markdown(s))\n",
    "\n",
    "    \n",
    "def script():\n",
    "    \n",
    "    title = '### LBLNEW-OVERLAP'\n",
    "    s_input = 'Input Parameters'\n",
    "    s_bestfits = 'Best-fit Parameters'\n",
    "    s_plt_cooling = 'Cooling Rate Profiles'\n",
    "    s_tb_flux = 'Flux Comparison'\n",
    "    \n",
    "    # title\n",
    "    show_markdown(title)\n",
    "    \n",
    "    # TOC\n",
    "    show_markdown('### Table of Contents')\n",
    "    show_html(climahtml.getHTML_hrefanchor(s_input))\n",
    "    show_html(climahtml.getHTML_hrefanchor(s_plt_cooling))\n",
    "    show_html(climahtml.getHTML_hrefanchor(s_tb_flux))\n",
    "    show_html(climahtml.getHTML_hrefanchor(s_bestfits))\n",
    "    \n",
    "    # Input parameters\n",
    "    show_html(climahtml.getHTML_idanchor(s_input))\n",
    "    show_markdown(climahtml.getMarkdown_sectitle(s_input))\n",
    "    print_input_param()\n",
    "    \n",
    "    # Cooling rate profiles\n",
    "    show_html(climahtml.getHTML_idanchor(s_plt_cooling))\n",
    "    show_markdown(climahtml.getMarkdown_sectitle(s_plt_cooling))\n",
    "    script_plt_cooling()\n",
    "    \n",
    "    # Flux comparison\n",
    "    show_html(climahtml.getHTML_idanchor(s_tb_flux))\n",
    "    show_markdown(climahtml.getMarkdown_sectitle(s_tb_flux))\n",
    "    script_tb_flux()\n",
    "    \n",
    "    # Best-fit values\n",
    "    show_html(climahtml.getHTML_idanchor(s_bestfits))\n",
    "    show_markdown(climahtml.getMarkdown_sectitle(s_bestfits))\n",
    "    print_bestfit_params()\n",
    "   \n",
    "    "
   ]
  },
  {
   "cell_type": "code",
   "execution_count": 11,
   "metadata": {
    "scrolled": false
   },
   "outputs": [
    {
     "data": {
      "text/markdown": [
       "### LBLNEW-OVERLAP"
      ],
      "text/plain": [
       "<IPython.core.display.Markdown object>"
      ]
     },
     "metadata": {},
     "output_type": "display_data"
    },
    {
     "data": {
      "text/markdown": [
       "### Table of Contents"
      ],
      "text/plain": [
       "<IPython.core.display.Markdown object>"
      ]
     },
     "metadata": {},
     "output_type": "display_data"
    },
    {
     "data": {
      "text/html": [
       "<a href=\"#Input_Parameters\">Input Parameters</a>"
      ],
      "text/plain": [
       "<IPython.core.display.HTML object>"
      ]
     },
     "metadata": {},
     "output_type": "display_data"
    },
    {
     "data": {
      "text/html": [
       "<a href=\"#Cooling_Rate_Profiles\">Cooling Rate Profiles</a>"
      ],
      "text/plain": [
       "<IPython.core.display.HTML object>"
      ]
     },
     "metadata": {},
     "output_type": "display_data"
    },
    {
     "data": {
      "text/html": [
       "<a href=\"#Flux_Comparison\">Flux Comparison</a>"
      ],
      "text/plain": [
       "<IPython.core.display.HTML object>"
      ]
     },
     "metadata": {},
     "output_type": "display_data"
    },
    {
     "data": {
      "text/html": [
       "<a href=\"#Best-fit_Parameters\">Best-fit Parameters</a>"
      ],
      "text/plain": [
       "<IPython.core.display.HTML object>"
      ]
     },
     "metadata": {},
     "output_type": "display_data"
    },
    {
     "data": {
      "text/html": [
       "<a id=\"Input_Parameters\"></a>"
      ],
      "text/plain": [
       "<IPython.core.display.HTML object>"
      ]
     },
     "metadata": {},
     "output_type": "display_data"
    },
    {
     "data": {
      "text/markdown": [
       "# Input Parameters"
      ],
      "text/plain": [
       "<IPython.core.display.Markdown object>"
      ]
     },
     "metadata": {},
     "output_type": "display_data"
    },
    {
     "name": "stdout",
     "output_type": "stream",
     "text": [
      "commitnumber = 043bdfe\n",
      "molecule = {'h2o': 'atmpro', 'n2o': 3.2e-07}\n",
      "band = 7\n",
      "nv = 1000\n",
      "dv = 0.001\n",
      "atmpro = trp\n",
      "tsfc = 300\n"
     ]
    },
    {
     "data": {
      "text/html": [
       "<a id=\"Cooling_Rate_Profiles\"></a>"
      ],
      "text/plain": [
       "<IPython.core.display.HTML object>"
      ]
     },
     "metadata": {},
     "output_type": "display_data"
    },
    {
     "data": {
      "text/markdown": [
       "# Cooling Rate Profiles"
      ],
      "text/plain": [
       "<IPython.core.display.Markdown object>"
      ]
     },
     "metadata": {},
     "output_type": "display_data"
    },
    {
     "data": {
      "text/html": [
       "\n",
       "<div class=\"bk-root\">\n",
       "    <div class=\"bk-plotdiv\" id=\"a08b3b75-c3aa-4500-9e7d-c78d7e445449\"></div>\n",
       "</div>"
      ]
     },
     "metadata": {},
     "output_type": "display_data"
    },
    {
     "data": {
      "application/javascript": [
       "(function(root) {\n",
       "  function embed_document(root) {\n",
       "    \n",
       "  var docs_json = {\"91626ee7-1ba6-4392-a573-612189f5a22b\":{\"roots\":{\"references\":[{\"attributes\":{\"data_source\":{\"id\":\"f47fd0f8-f513-40e5-840c-d85294cd3c9b\",\"type\":\"ColumnDataSource\"},\"glyph\":{\"id\":\"9f3c8aa3-9707-4beb-95c5-02480a388915\",\"type\":\"Line\"},\"hover_glyph\":null,\"muted_glyph\":null,\"nonselection_glyph\":{\"id\":\"68a7566a-a58b-4f32-a90e-91a1b71730fc\",\"type\":\"Line\"},\"selection_glyph\":null,\"view\":{\"id\":\"463da6e1-bdbd-4420-ad3a-3c3c6e83ceeb\",\"type\":\"CDSView\"}},\"id\":\"883c6853-2993-41b4-b597-4cf738af30c8\",\"type\":\"GlyphRenderer\"},{\"attributes\":{\"callback\":null,\"end\":0.11086997309999999,\"start\":-0.029549663099999998},\"id\":\"e401834f-f65e-4397-bdfe-84fa43df8bc8\",\"type\":\"Range1d\"},{\"attributes\":{\"fill_alpha\":{\"value\":0.7},\"fill_color\":{\"value\":\"#984ea3\"},\"line_alpha\":{\"value\":0.7},\"line_color\":{\"value\":\"#984ea3\"},\"x\":{\"field\":\"x\"},\"y\":{\"field\":\"y\"}},\"id\":\"e924c659-c018-4593-9392-39da6d928fd9\",\"type\":\"Square\"},{\"attributes\":{},\"id\":\"85e996e0-318b-4861-b334-50ad58ddc6ea\",\"type\":\"HelpTool\"},{\"attributes\":{\"source\":{\"id\":\"f47fd0f8-f513-40e5-840c-d85294cd3c9b\",\"type\":\"ColumnDataSource\"}},\"id\":\"463da6e1-bdbd-4420-ad3a-3c3c6e83ceeb\",\"type\":\"CDSView\"},{\"attributes\":{\"items\":[{\"id\":\"0fefa41e-f535-4b31-af1e-ad1b5cfe8b58\",\"type\":\"LegendItem\"},{\"id\":\"befa7fc1-704b-4db2-bb69-5b841a4272ac\",\"type\":\"LegendItem\"},{\"id\":\"2de10e3b-9c95-4d8b-9489-3d888e8ccdb7\",\"type\":\"LegendItem\"}],\"label_text_font_size\":{\"value\":\"8pt\"},\"location\":[10,-30],\"plot\":{\"id\":\"257c9aba-069b-4985-8a85-b7d953ce1b82\",\"subtype\":\"Figure\",\"type\":\"Plot\"}},\"id\":\"596472e2-249e-4896-83f7-1f4e4b5884ba\",\"type\":\"Legend\"},{\"attributes\":{\"data_source\":{\"id\":\"f38972c6-c710-4981-a84b-63bc3de96e8c\",\"type\":\"ColumnDataSource\"},\"glyph\":{\"id\":\"e17c5c68-c544-43f3-8e28-e5ba2b1ccc8d\",\"type\":\"InvertedTriangle\"},\"hover_glyph\":null,\"muted_glyph\":null,\"nonselection_glyph\":{\"id\":\"e8575fca-aa94-4fdf-9293-2be2edba5fb7\",\"type\":\"InvertedTriangle\"},\"selection_glyph\":null,\"view\":{\"id\":\"6f6498d8-6767-4d8b-9f84-2b919bcf28ab\",\"type\":\"CDSView\"}},\"id\":\"8e978663-e534-4a48-835d-617642702f50\",\"type\":\"GlyphRenderer\"},{\"attributes\":{\"line_color\":\"#4daf4a\",\"line_width\":1.5,\"x\":{\"field\":\"x\"},\"y\":{\"field\":\"y\"}},\"id\":\"a3c0dc92-1ede-42ea-9526-7423431a7d16\",\"type\":\"Line\"},{\"attributes\":{\"children\":[{\"id\":\"b5549965-f4e3-4d2a-b246-07dfda979b9d\",\"type\":\"ToolbarBox\"},{\"id\":\"1161a4d9-779e-4fa2-b6a1-770038d26bdc\",\"type\":\"Column\"}]},\"id\":\"a3b7ca5e-dcef-47ef-b901-c3fbceb3a532\",\"type\":\"Column\"},{\"attributes\":{\"axis_label\":\"cooling rate [K/day]\",\"formatter\":{\"id\":\"d6e582fb-d461-4616-85f2-34216ee70b77\",\"type\":\"BasicTickFormatter\"},\"plot\":{\"id\":\"257c9aba-069b-4985-8a85-b7d953ce1b82\",\"subtype\":\"Figure\",\"type\":\"Plot\"},\"ticker\":{\"id\":\"3f801814-fa20-43da-8c78-013921e488eb\",\"type\":\"BasicTicker\"}},\"id\":\"5b2e5e45-7591-45bf-a36a-c4b16adc3b50\",\"type\":\"LinearAxis\"},{\"attributes\":{\"fill_alpha\":{\"value\":0.1},\"fill_color\":{\"value\":\"#1f77b4\"},\"line_alpha\":{\"value\":0.1},\"line_color\":{\"value\":\"#1f77b4\"},\"x\":{\"field\":\"x\"},\"y\":{\"field\":\"y\"}},\"id\":\"8d40ad42-2e80-4d47-80d9-5f25a7e9fdf2\",\"type\":\"Square\"},{\"attributes\":{},\"id\":\"0d23986e-6aa1-48ba-b6a7-63fdbaef75a2\",\"type\":\"BasicTickFormatter\"},{\"attributes\":{\"label\":{\"value\":\"WGT igg=10\"},\"renderers\":[{\"id\":\"fd6f6111-dbd5-43af-b65f-a3580a8ccb2c\",\"type\":\"GlyphRenderer\"},{\"id\":\"61a54f40-e35a-48e6-a941-2dfb72af0c6c\",\"type\":\"GlyphRenderer\"}]},\"id\":\"befa7fc1-704b-4db2-bb69-5b841a4272ac\",\"type\":\"LegendItem\"},{\"attributes\":{\"dimension\":1,\"plot\":{\"id\":\"257c9aba-069b-4985-8a85-b7d953ce1b82\",\"subtype\":\"Figure\",\"type\":\"Plot\"},\"ticker\":{\"id\":\"5c9af026-2781-4d67-b3e8-eef1b1deab38\",\"type\":\"LogTicker\"}},\"id\":\"92309a29-f50d-4657-9fa1-ea8475268ee5\",\"type\":\"Grid\"},{\"attributes\":{\"label\":{\"value\":\"CRD\"},\"renderers\":[{\"id\":\"9e551ef0-1df8-48df-9e15-8aab4bfd7b71\",\"type\":\"GlyphRenderer\"},{\"id\":\"13383ce7-98b2-44ce-8045-58168e5bfa04\",\"type\":\"GlyphRenderer\"}]},\"id\":\"0fefa41e-f535-4b31-af1e-ad1b5cfe8b58\",\"type\":\"LegendItem\"},{\"attributes\":{\"children\":[{\"id\":\"2e19cbb5-60bc-4244-b81f-02857a5eca4e\",\"subtype\":\"Figure\",\"type\":\"Plot\"},{\"id\":\"257c9aba-069b-4985-8a85-b7d953ce1b82\",\"subtype\":\"Figure\",\"type\":\"Plot\"}]},\"id\":\"995ee7fd-f345-440d-a892-1b79bde074ce\",\"type\":\"Row\"},{\"attributes\":{\"callback\":null,\"column_names\":[\"x\",\"y\"],\"data\":{\"x\":{\"__ndarray__\":\"t4orUlRCob9zbed8Kgehv7S8jBFypqC/vi9PY1KuoL+L/9O+zaOfv9gpif5m6J+/XzhyBV3Anr+wTy79szWev+Wr5xsGMJ2/P1WFBmLZnL9Hns2lFhycvzetLZ9Z0Ju/iDAqG2m4m78KCQ7rakubv6EWZzI6JZi/VocHjZPUj79mMYHAotlvv04o7r9oa4U/nF9BWJWWnD+rLMAtDh2pP/U9X73OKbM/EmfqGtJNuj+jrpTpwAe8PwKNjdEe1bc/aEI6DEtbsj/Q76U3dmWpP3pYRQsS06A/1o70/zBdlj8mtwfQ2F+OPwU5YgwwHIU/JxQcAjL5fD+dEo1/8d1xP7PsupA2aV0/fojH8K3aTL8QoCoYcVd1v8f+m998X4a/8otzHagokL+dUp2P5FKSv2kG355hFpK/eGROxf2vkb+TsDw2bNWQv5iku7Z6+I2/fQtGgC51h7+eXljfAdx7v6v4ufwrzUS/e6HCCTMKfT8cxyF4ArWQP+U7qvqSFps/lub7Tjhgoj/7WnFT/hOoP7xxppeFZ64/RTWU9uCXsj8u0i4gYB+2PxzMywY+q7k/kZo0FfsuvT/3lHsFkkXAP62h1F5E28E/roNBobdbwz8IXR1bKsrEPygnHHIaP8Y/X/BIQHXBxz8JOnNyMxrJP/bvG9tCwsk/UV+/9Ztoyj+b2kIl6A7JP9Fl3mjP/sY/I73J65glxT9YuxbCpFfDP+/i/bj9csI/e7myuL0swj/ELVn00j3CP3JzpuBbnsI/+2Uo1dtywz+L7SA8+0bFP3fbAa6Wgc8/\",\"dtype\":\"float64\",\"shape\":[75]},\"y\":{\"__ndarray__\":\"GhExyth1ND/Sv8nbtpRIP2vylNV0PVE/aTum7souWD/At0SJ8fVgPw3Iuahxymc/MSNhhJWvcD/bTfBN02d3P2zb5nxnaoA/CD5h5MAGhz8NmeH1TyaQP+zrCsc9p5Y/LbKd76fGnz/bLW5ISEmmPww9YvTcQq8/JV2OstnstT8Er5Y7M8G+P0c+r3jqkcU/5h99k6ZBzj88bCIzFzjVP4enV8oyxN0//yH99nXg5D8qOpLLf0jtP5kqGJXUifQ/c9cS8kHP/D+/DpwzojQEQIEmwoanVwxA4lgXt9HgE0BSSZ2AJuIbQAMJih9jjiNA5q4l5INuK0AwTKYKRj0zQNv5fmq8/DpAaCJseHrtQkB/+zpwzoxKQM3MzMzMeFJAZmZmZmZqWEAAAAAAAFxeQM3MzMzMJmJAmpmZmZkfZUBmZmZmZhhoQDMzMzMzEWtAAAAAAAAKbkBmZmZmZoFwQM3MzMzM/XFAMzMzMzN6c0CamZmZmfZ0QAAAAAAAc3ZAZmZmZmbvd0DNzMzMzGt5QDMzMzMz6HpAmpmZmZlkfEAAAAAAAOF9QGZmZmZmXX9AZmZmZuZsgECamZmZGSuBQM3MzMxM6YFAAAAAAICngkAzMzMzs2WDQGZmZmbmI4RAmpmZmRnihEDNzMzMTKCFQAAAAACAXoZAMzMzM7Mch0BmZmZm5tqHQJqZmZkZmYhAzczMzExXiUAAAAAAgBWKQDMzMzOz04pAZmZmZuaRi0CamZmZGVCMQM3MzMxMDo1AAAAAAIDMjUAzMzMzs4qOQGZmZmbmSI9A\",\"dtype\":\"float64\",\"shape\":[75]}}},\"id\":\"7803dc07-28ee-4c86-b2a0-6be88ae94dac\",\"type\":\"ColumnDataSource\"},{\"attributes\":{\"tools\":[{\"id\":\"682a5f43-0866-45b8-baca-66a56bad9e24\",\"type\":\"PanTool\"},{\"id\":\"b908a47d-8f52-49de-ba4b-da983024e1d5\",\"type\":\"WheelZoomTool\"},{\"id\":\"5f857bd0-db6d-4871-9771-e9605376b02d\",\"type\":\"BoxZoomTool\"},{\"id\":\"90f8bd47-d286-42a4-82bb-418e29bdd004\",\"type\":\"SaveTool\"},{\"id\":\"78aa3e59-2f80-4bbb-b766-5ee15b4529ac\",\"type\":\"ResetTool\"},{\"id\":\"b65776cb-5ef1-492b-9da5-744c3f5b18b9\",\"type\":\"HelpTool\"},{\"id\":\"c8aee83c-315a-4404-a26c-fdd3e6b2f151\",\"type\":\"PanTool\"},{\"id\":\"f5b612ba-c3ba-4923-bda6-e456109e13af\",\"type\":\"WheelZoomTool\"},{\"id\":\"ad7d2a06-59a3-4dee-8c44-80d4d7ce7717\",\"type\":\"BoxZoomTool\"},{\"id\":\"e9abae9a-569b-4a58-850c-beb5da41e700\",\"type\":\"SaveTool\"},{\"id\":\"980e441d-e63e-47a9-95a0-b8562e0b5ab7\",\"type\":\"ResetTool\"},{\"id\":\"85e996e0-318b-4861-b334-50ad58ddc6ea\",\"type\":\"HelpTool\"}]},\"id\":\"257e18e7-4c0e-46f0-99e7-cc6f74955a21\",\"type\":\"ProxyToolbar\"},{\"attributes\":{\"overlay\":{\"id\":\"aadf6ce5-1347-4791-9bd4-49d39d196763\",\"type\":\"BoxAnnotation\"}},\"id\":\"ad7d2a06-59a3-4dee-8c44-80d4d7ce7717\",\"type\":\"BoxZoomTool\"},{\"attributes\":{\"data_source\":{\"id\":\"40cf6a67-2cb7-4241-9dc4-e59b4e88df19\",\"type\":\"ColumnDataSource\"},\"glyph\":{\"id\":\"d9219a33-a770-40eb-987d-d0e5eac286bb\",\"type\":\"Line\"},\"hover_glyph\":null,\"muted_glyph\":null,\"nonselection_glyph\":{\"id\":\"2a40ab3b-c3c3-40d6-a683-79243ebebb40\",\"type\":\"Line\"},\"selection_glyph\":null,\"view\":{\"id\":\"7bccc781-af00-4d71-be79-3f1ed8ecb1e0\",\"type\":\"CDSView\"}},\"id\":\"3d4e4d68-e9ba-4fb8-bd5d-d2cb606b8aeb\",\"type\":\"GlyphRenderer\"},{\"attributes\":{\"label\":{\"value\":\"WGT igg=1\"},\"renderers\":[{\"id\":\"2ff9a180-833e-44b5-bfaa-2b239b137d62\",\"type\":\"GlyphRenderer\"},{\"id\":\"883c6853-2993-41b4-b597-4cf738af30c8\",\"type\":\"GlyphRenderer\"}]},\"id\":\"2de10e3b-9c95-4d8b-9489-3d888e8ccdb7\",\"type\":\"LegendItem\"},{\"attributes\":{\"fill_alpha\":{\"value\":0.1},\"fill_color\":{\"value\":\"#1f77b4\"},\"line_alpha\":{\"value\":0.1},\"line_color\":{\"value\":\"#1f77b4\"},\"x\":{\"field\":\"x\"},\"y\":{\"field\":\"y\"}},\"id\":\"e8575fca-aa94-4fdf-9293-2be2edba5fb7\",\"type\":\"InvertedTriangle\"},{\"attributes\":{\"toolbar\":{\"id\":\"257e18e7-4c0e-46f0-99e7-cc6f74955a21\",\"type\":\"ProxyToolbar\"},\"toolbar_location\":\"above\"},\"id\":\"b5549965-f4e3-4d2a-b246-07dfda979b9d\",\"type\":\"ToolbarBox\"},{\"attributes\":{\"line_alpha\":0.6,\"line_color\":\"#984ea3\",\"line_width\":3,\"x\":{\"field\":\"x\"},\"y\":{\"field\":\"y\"}},\"id\":\"d9219a33-a770-40eb-987d-d0e5eac286bb\",\"type\":\"Line\"},{\"attributes\":{\"callback\":null,\"column_names\":[\"x\",\"y\"],\"data\":{\"x\":{\"__ndarray__\":\"t4orUlRCob9zbed8Kgehv7S8jBFypqC/vi9PY1KuoL+L/9O+zaOfv9gpif5m6J+/XzhyBV3Anr+wTy79szWev+Wr5xsGMJ2/P1WFBmLZnL9Hns2lFhycvzetLZ9Z0Ju/iDAqG2m4m78KCQ7rakubv6EWZzI6JZi/VocHjZPUj79mMYHAotlvv04o7r9oa4U/nF9BWJWWnD+rLMAtDh2pP/U9X73OKbM/EmfqGtJNuj+jrpTpwAe8PwKNjdEe1bc/aEI6DEtbsj/Q76U3dmWpP3pYRQsS06A/1o70/zBdlj8mtwfQ2F+OPwU5YgwwHIU/JxQcAjL5fD+dEo1/8d1xP7PsupA2aV0/fojH8K3aTL8QoCoYcVd1v8f+m998X4a/8otzHagokL+dUp2P5FKSv2kG355hFpK/eGROxf2vkb+TsDw2bNWQv5iku7Z6+I2/fQtGgC51h7+eXljfAdx7v6v4ufwrzUS/e6HCCTMKfT8cxyF4ArWQP+U7qvqSFps/lub7Tjhgoj/7WnFT/hOoP7xxppeFZ64/RTWU9uCXsj8u0i4gYB+2PxzMywY+q7k/kZo0FfsuvT/3lHsFkkXAP62h1F5E28E/roNBobdbwz8IXR1bKsrEPygnHHIaP8Y/X/BIQHXBxz8JOnNyMxrJP/bvG9tCwsk/UV+/9Ztoyj+b2kIl6A7JP9Fl3mjP/sY/I73J65glxT9YuxbCpFfDP+/i/bj9csI/e7myuL0swj/ELVn00j3CP3JzpuBbnsI/+2Uo1dtywz+L7SA8+0bFP3fbAa6Wgc8/\",\"dtype\":\"float64\",\"shape\":[75]},\"y\":{\"__ndarray__\":\"GhExyth1ND/Sv8nbtpRIP2vylNV0PVE/aTum7souWD/At0SJ8fVgPw3Iuahxymc/MSNhhJWvcD/bTfBN02d3P2zb5nxnaoA/CD5h5MAGhz8NmeH1TyaQP+zrCsc9p5Y/LbKd76fGnz/bLW5ISEmmPww9YvTcQq8/JV2OstnstT8Er5Y7M8G+P0c+r3jqkcU/5h99k6ZBzj88bCIzFzjVP4enV8oyxN0//yH99nXg5D8qOpLLf0jtP5kqGJXUifQ/c9cS8kHP/D+/DpwzojQEQIEmwoanVwxA4lgXt9HgE0BSSZ2AJuIbQAMJih9jjiNA5q4l5INuK0AwTKYKRj0zQNv5fmq8/DpAaCJseHrtQkB/+zpwzoxKQM3MzMzMeFJAZmZmZmZqWEAAAAAAAFxeQM3MzMzMJmJAmpmZmZkfZUBmZmZmZhhoQDMzMzMzEWtAAAAAAAAKbkBmZmZmZoFwQM3MzMzM/XFAMzMzMzN6c0CamZmZmfZ0QAAAAAAAc3ZAZmZmZmbvd0DNzMzMzGt5QDMzMzMz6HpAmpmZmZlkfEAAAAAAAOF9QGZmZmZmXX9AZmZmZuZsgECamZmZGSuBQM3MzMxM6YFAAAAAAICngkAzMzMzs2WDQGZmZmbmI4RAmpmZmRnihEDNzMzMTKCFQAAAAACAXoZAMzMzM7Mch0BmZmZm5tqHQJqZmZkZmYhAzczMzExXiUAAAAAAgBWKQDMzMzOz04pAZmZmZuaRi0CamZmZGVCMQM3MzMxMDo1AAAAAAIDMjUAzMzMzs4qOQGZmZmbmSI9A\",\"dtype\":\"float64\",\"shape\":[75]}}},\"id\":\"7c80c213-5cf6-4829-9788-45edd246a4ef\",\"type\":\"ColumnDataSource\"},{\"attributes\":{\"source\":{\"id\":\"824a2ae3-4f53-484d-a422-9d2b7d5d633c\",\"type\":\"ColumnDataSource\"}},\"id\":\"e2167102-8b07-4acf-9a71-37b5e8e531e8\",\"type\":\"CDSView\"},{\"attributes\":{\"line_alpha\":0.1,\"line_color\":\"#1f77b4\",\"line_dash\":[2,4,6,4],\"line_width\":3,\"x\":{\"field\":\"x\"},\"y\":{\"field\":\"y\"}},\"id\":\"e71a53d5-c761-4b64-b08a-98dbe3ffd9a5\",\"type\":\"Line\"},{\"attributes\":{\"callback\":null,\"end\":0.01,\"start\":1020},\"id\":\"6126536e-26fc-4629-a4b4-ba25eb45a769\",\"type\":\"Range1d\"},{\"attributes\":{\"source\":{\"id\":\"7803dc07-28ee-4c86-b2a0-6be88ae94dac\",\"type\":\"ColumnDataSource\"}},\"id\":\"785ad123-35c4-4fa1-9a16-c29a0e589ebd\",\"type\":\"CDSView\"},{\"attributes\":{\"fill_alpha\":{\"value\":0.7},\"fill_color\":{\"value\":\"#377eb8\"},\"line_alpha\":{\"value\":0.7},\"line_color\":{\"value\":\"#377eb8\"},\"x\":{\"field\":\"x\"},\"y\":{\"field\":\"y\"}},\"id\":\"e17c5c68-c544-43f3-8e28-e5ba2b1ccc8d\",\"type\":\"InvertedTriangle\"},{\"attributes\":{\"active_drag\":\"auto\",\"active_inspect\":\"auto\",\"active_scroll\":\"auto\",\"active_tap\":\"auto\",\"tools\":[{\"id\":\"682a5f43-0866-45b8-baca-66a56bad9e24\",\"type\":\"PanTool\"},{\"id\":\"b908a47d-8f52-49de-ba4b-da983024e1d5\",\"type\":\"WheelZoomTool\"},{\"id\":\"5f857bd0-db6d-4871-9771-e9605376b02d\",\"type\":\"BoxZoomTool\"},{\"id\":\"90f8bd47-d286-42a4-82bb-418e29bdd004\",\"type\":\"SaveTool\"},{\"id\":\"78aa3e59-2f80-4bbb-b766-5ee15b4529ac\",\"type\":\"ResetTool\"},{\"id\":\"b65776cb-5ef1-492b-9da5-744c3f5b18b9\",\"type\":\"HelpTool\"}]},\"id\":\"2f69e568-a2f7-4fb4-8da1-4b3c975843a0\",\"type\":\"Toolbar\"},{\"attributes\":{\"callback\":null,\"column_names\":[\"x\",\"y\"],\"data\":{\"x\":{\"__ndarray__\":\"8K69k3Keib/kAxc4lDKJv9OCKWDBUYi/M9YL+fhoh7/NSWfhZHuGvw2WTy5EiYW/TXk1v+iShL/ALf7MnpiDv+WlUlwrm4K/9Qq2EnSbgb9llfxF1ZqAv8lFTVyUfnq/H2FVE/0HdL8l+Cprd2V5v9+n6qLI4Wq/F3H3PkAzYz8PEwl1PB6EPxfnIbOwMJU/1oqPfwHloT/2dDZjHwSqP3frG+kjKLI/GdQrI/2Ptz9DssyXIVK5P+3kOUalHbc/LCSTZR5/sz90zRLUWBGuP+KhJRiZQ6Y/QwFNF3EgoD8sVun7ZB2WP2ivpgFvwIw/6+DM5ms6gT+mIgovfmhwPwZ1ZoBVayo/s0RFZje9b7/Z3mePKbWDv0PNEaufNJG/ZLBUqlMEl7+r+xHQjmWZvx/NGdBZBpm/U9zubjCXmL+EZRuhZ/+Wv9UvzJo8i5S/R0aciF1fkL9XtD6HJyuGv+nOul+xQXC/fbWLd6yDcz/ujXBGDLyMP4mJWXGiRJg/HaE5x40WoT9EsMi02BunP+GBLARsGa0/3/JqFu6wsT9Nf5H4XsG0P4i0DL87fLg/iV5nv8X1uz/WaINdXsq/P5z+JvMTd8E/F7v5HfUdwz/MjXWzN1/EP/zclukT0MU/Vygttw9Uxz+mqvm/XdXIPxOd4d38zMk/T+qJtnwHyz+LDeVdWCvKPzzhwg06mcg/1IVxmrIRxz8R/NJP9h7FPyvv9JTmIMQ/bdveCx/Twz+Qh9/JfsjDP1F+OVAzZsQ/U3nYl65YxT8QLhUCVprHP1H6Qsh5v9A/\",\"dtype\":\"float64\",\"shape\":[75]},\"y\":{\"__ndarray__\":\"GhExyth1ND/Sv8nbtpRIP2vylNV0PVE/aTum7souWD/At0SJ8fVgPw3Iuahxymc/MSNhhJWvcD/bTfBN02d3P2zb5nxnaoA/CD5h5MAGhz8NmeH1TyaQP+zrCsc9p5Y/LbKd76fGnz/bLW5ISEmmPww9YvTcQq8/JV2OstnstT8Er5Y7M8G+P0c+r3jqkcU/5h99k6ZBzj88bCIzFzjVP4enV8oyxN0//yH99nXg5D8qOpLLf0jtP5kqGJXUifQ/c9cS8kHP/D+/DpwzojQEQIEmwoanVwxA4lgXt9HgE0BSSZ2AJuIbQAMJih9jjiNA5q4l5INuK0AwTKYKRj0zQNv5fmq8/DpAaCJseHrtQkB/+zpwzoxKQM3MzMzMeFJAZmZmZmZqWEAAAAAAAFxeQM3MzMzMJmJAmpmZmZkfZUBmZmZmZhhoQDMzMzMzEWtAAAAAAAAKbkBmZmZmZoFwQM3MzMzM/XFAMzMzMzN6c0CamZmZmfZ0QAAAAAAAc3ZAZmZmZmbvd0DNzMzMzGt5QDMzMzMz6HpAmpmZmZlkfEAAAAAAAOF9QGZmZmZmXX9AZmZmZuZsgECamZmZGSuBQM3MzMxM6YFAAAAAAICngkAzMzMzs2WDQGZmZmbmI4RAmpmZmRnihEDNzMzMTKCFQAAAAACAXoZAMzMzM7Mch0BmZmZm5tqHQJqZmZkZmYhAzczMzExXiUAAAAAAgBWKQDMzMzOz04pAZmZmZuaRi0CamZmZGVCMQM3MzMxMDo1AAAAAAIDMjUAzMzMzs4qOQGZmZmbmSI9A\",\"dtype\":\"float64\",\"shape\":[75]}}},\"id\":\"f38972c6-c710-4981-a84b-63bc3de96e8c\",\"type\":\"ColumnDataSource\"},{\"attributes\":{\"plot\":{\"id\":\"257c9aba-069b-4985-8a85-b7d953ce1b82\",\"subtype\":\"Figure\",\"type\":\"Plot\"},\"ticker\":{\"id\":\"3f801814-fa20-43da-8c78-013921e488eb\",\"type\":\"BasicTicker\"}},\"id\":\"54ab6f07-c1f5-4b48-9dd1-88881d02278b\",\"type\":\"Grid\"},{\"attributes\":{\"bottom_units\":\"screen\",\"fill_alpha\":{\"value\":0.5},\"fill_color\":{\"value\":\"lightgrey\"},\"left_units\":\"screen\",\"level\":\"overlay\",\"line_alpha\":{\"value\":1.0},\"line_color\":{\"value\":\"black\"},\"line_dash\":[4,4],\"line_width\":{\"value\":2},\"plot\":null,\"render_mode\":\"css\",\"right_units\":\"screen\",\"top_units\":\"screen\"},\"id\":\"cb48be1b-3793-4e36-b35a-25e0a293d63f\",\"type\":\"BoxAnnotation\"},{\"attributes\":{\"line_alpha\":0.6,\"line_color\":\"#377eb8\",\"line_dash\":[2,4,6,4],\"line_width\":3,\"x\":{\"field\":\"x\"},\"y\":{\"field\":\"y\"}},\"id\":\"1d62920e-636d-416c-a32b-6c888005bb4c\",\"type\":\"Line\"},{\"attributes\":{\"source\":{\"id\":\"f38972c6-c710-4981-a84b-63bc3de96e8c\",\"type\":\"ColumnDataSource\"}},\"id\":\"6f6498d8-6767-4d8b-9f84-2b919bcf28ab\",\"type\":\"CDSView\"},{\"attributes\":{\"num_minor_ticks\":10},\"id\":\"5c9af026-2781-4d67-b3e8-eef1b1deab38\",\"type\":\"LogTicker\"},{\"attributes\":{\"callback\":null,\"end\":0.27395094475,\"start\":-0.02775941975},\"id\":\"60937cce-8017-4496-b484-04232803b5f0\",\"type\":\"Range1d\"},{\"attributes\":{\"below\":[{\"id\":\"ac9607e2-846f-42b0-b214-1f3bcd2e4516\",\"type\":\"LinearAxis\"}],\"left\":[{\"id\":\"63e1bca4-673e-49a7-94ff-70d9ec6341e1\",\"type\":\"LinearAxis\"}],\"plot_height\":500,\"plot_width\":400,\"renderers\":[{\"id\":\"ac9607e2-846f-42b0-b214-1f3bcd2e4516\",\"type\":\"LinearAxis\"},{\"id\":\"fd4642ae-5f5e-40c9-9a8d-8e60c9414bc9\",\"type\":\"Grid\"},{\"id\":\"63e1bca4-673e-49a7-94ff-70d9ec6341e1\",\"type\":\"LinearAxis\"},{\"id\":\"60eb7fba-9eb3-4612-ab7e-ab00baf2da0d\",\"type\":\"Grid\"},{\"id\":\"cb48be1b-3793-4e36-b35a-25e0a293d63f\",\"type\":\"BoxAnnotation\"},{\"id\":\"1a51f947-59bc-4670-8932-326b9885d370\",\"type\":\"GlyphRenderer\"},{\"id\":\"3d3497bc-d89c-410d-84fa-c2f5d386b6d4\",\"type\":\"GlyphRenderer\"},{\"id\":\"3c90d59f-27b8-4754-90b4-ceca0759bf6e\",\"type\":\"GlyphRenderer\"},{\"id\":\"3d4e4d68-e9ba-4fb8-bd5d-d2cb606b8aeb\",\"type\":\"GlyphRenderer\"},{\"id\":\"8e978663-e534-4a48-835d-617642702f50\",\"type\":\"GlyphRenderer\"},{\"id\":\"a3c16726-6e78-4723-a206-9f6045421c70\",\"type\":\"GlyphRenderer\"}],\"title\":{\"id\":\"120d2a48-7a52-4744-bedd-2c408ef94b6c\",\"type\":\"Title\"},\"toolbar\":{\"id\":\"2f69e568-a2f7-4fb4-8da1-4b3c975843a0\",\"type\":\"Toolbar\"},\"toolbar_location\":null,\"x_range\":{\"id\":\"60937cce-8017-4496-b484-04232803b5f0\",\"type\":\"Range1d\"},\"x_scale\":{\"id\":\"e06fc8fe-fbed-419f-930b-c8f0c39dc947\",\"type\":\"LinearScale\"},\"y_range\":{\"id\":\"6126536e-26fc-4629-a4b4-ba25eb45a769\",\"type\":\"Range1d\"},\"y_scale\":{\"id\":\"85cfe31d-e14d-4522-9089-3f822d2424c9\",\"type\":\"LinearScale\"}},\"id\":\"2e19cbb5-60bc-4244-b81f-02857a5eca4e\",\"subtype\":\"Figure\",\"type\":\"Plot\"},{\"attributes\":{\"plot\":null,\"text\":\"Log pressure scale\"},\"id\":\"366063e6-ae44-4701-9987-3ae073cd06ee\",\"type\":\"Title\"},{\"attributes\":{\"overlay\":{\"id\":\"cb48be1b-3793-4e36-b35a-25e0a293d63f\",\"type\":\"BoxAnnotation\"}},\"id\":\"5f857bd0-db6d-4871-9771-e9605376b02d\",\"type\":\"BoxZoomTool\"},{\"attributes\":{\"source\":{\"id\":\"40cf6a67-2cb7-4241-9dc4-e59b4e88df19\",\"type\":\"ColumnDataSource\"}},\"id\":\"7bccc781-af00-4d71-be79-3f1ed8ecb1e0\",\"type\":\"CDSView\"},{\"attributes\":{},\"id\":\"f5b612ba-c3ba-4923-bda6-e456109e13af\",\"type\":\"WheelZoomTool\"},{\"attributes\":{\"axis_label\":\"cooling rate [K/day]\",\"formatter\":{\"id\":\"74a16183-b5ac-48f2-87b5-f5374c3ba5b2\",\"type\":\"BasicTickFormatter\"},\"plot\":{\"id\":\"2e19cbb5-60bc-4244-b81f-02857a5eca4e\",\"subtype\":\"Figure\",\"type\":\"Plot\"},\"ticker\":{\"id\":\"3ff2cdca-209c-45c3-896b-491627241abd\",\"type\":\"BasicTicker\"}},\"id\":\"ac9607e2-846f-42b0-b214-1f3bcd2e4516\",\"type\":\"LinearAxis\"},{\"attributes\":{\"dimension\":1,\"plot\":{\"id\":\"2e19cbb5-60bc-4244-b81f-02857a5eca4e\",\"subtype\":\"Figure\",\"type\":\"Plot\"},\"ticker\":{\"id\":\"e73de273-ed38-490d-8a70-630750e5efb5\",\"type\":\"BasicTicker\"}},\"id\":\"60eb7fba-9eb3-4612-ab7e-ab00baf2da0d\",\"type\":\"Grid\"},{\"attributes\":{},\"id\":\"3ff2cdca-209c-45c3-896b-491627241abd\",\"type\":\"BasicTicker\"},{\"attributes\":{\"axis_label\":\"pressure [mb]\",\"formatter\":{\"id\":\"0d23986e-6aa1-48ba-b6a7-63fdbaef75a2\",\"type\":\"BasicTickFormatter\"},\"plot\":{\"id\":\"2e19cbb5-60bc-4244-b81f-02857a5eca4e\",\"subtype\":\"Figure\",\"type\":\"Plot\"},\"ticker\":{\"id\":\"e73de273-ed38-490d-8a70-630750e5efb5\",\"type\":\"BasicTicker\"}},\"id\":\"63e1bca4-673e-49a7-94ff-70d9ec6341e1\",\"type\":\"LinearAxis\"},{\"attributes\":{\"line_alpha\":0.6,\"line_color\":\"#377eb8\",\"line_dash\":[2,4,6,4],\"line_width\":3,\"x\":{\"field\":\"x\"},\"y\":{\"field\":\"y\"}},\"id\":\"9f3c8aa3-9707-4beb-95c5-02480a388915\",\"type\":\"Line\"},{\"attributes\":{},\"id\":\"e73de273-ed38-490d-8a70-630750e5efb5\",\"type\":\"BasicTicker\"},{\"attributes\":{\"plot\":{\"id\":\"2e19cbb5-60bc-4244-b81f-02857a5eca4e\",\"subtype\":\"Figure\",\"type\":\"Plot\"},\"ticker\":{\"id\":\"3ff2cdca-209c-45c3-896b-491627241abd\",\"type\":\"BasicTicker\"}},\"id\":\"fd4642ae-5f5e-40c9-9a8d-8e60c9414bc9\",\"type\":\"Grid\"},{\"attributes\":{\"source\":{\"id\":\"217203d9-07d0-4a11-9845-925f0c058b8c\",\"type\":\"ColumnDataSource\"}},\"id\":\"9d0d01ae-809b-448d-af75-17b411bf32bf\",\"type\":\"CDSView\"},{\"attributes\":{\"data_source\":{\"id\":\"824a2ae3-4f53-484d-a422-9d2b7d5d633c\",\"type\":\"ColumnDataSource\"},\"glyph\":{\"id\":\"a3c0dc92-1ede-42ea-9526-7423431a7d16\",\"type\":\"Line\"},\"hover_glyph\":null,\"muted_glyph\":null,\"nonselection_glyph\":{\"id\":\"df1476ab-26d3-44f8-b55f-465e8b15839a\",\"type\":\"Line\"},\"selection_glyph\":null,\"view\":{\"id\":\"e2167102-8b07-4acf-9a71-37b5e8e531e8\",\"type\":\"CDSView\"}},\"id\":\"3d3497bc-d89c-410d-84fa-c2f5d386b6d4\",\"type\":\"GlyphRenderer\"},{\"attributes\":{},\"id\":\"980e441d-e63e-47a9-95a0-b8562e0b5ab7\",\"type\":\"ResetTool\"},{\"attributes\":{},\"id\":\"897f3a98-7349-4f66-8b20-3dc992e03bfe\",\"type\":\"LinearScale\"},{\"attributes\":{\"data_source\":{\"id\":\"7cc9cd80-7aca-4247-aae5-618038bc99df\",\"type\":\"ColumnDataSource\"},\"glyph\":{\"id\":\"1d62920e-636d-416c-a32b-6c888005bb4c\",\"type\":\"Line\"},\"hover_glyph\":null,\"muted_glyph\":null,\"nonselection_glyph\":{\"id\":\"e71a53d5-c761-4b64-b08a-98dbe3ffd9a5\",\"type\":\"Line\"},\"selection_glyph\":null,\"view\":{\"id\":\"451b73b6-bc02-4377-8863-5d99d0ef42c6\",\"type\":\"CDSView\"}},\"id\":\"a3c16726-6e78-4723-a206-9f6045421c70\",\"type\":\"GlyphRenderer\"},{\"attributes\":{},\"id\":\"e06fc8fe-fbed-419f-930b-c8f0c39dc947\",\"type\":\"LinearScale\"},{\"attributes\":{\"callback\":null,\"column_names\":[\"x\",\"y\"],\"data\":{\"x\":{\"__ndarray__\":\"8K69k3Keib/kAxc4lDKJv9OCKWDBUYi/M9YL+fhoh7/NSWfhZHuGvw2WTy5EiYW/TXk1v+iShL/ALf7MnpiDv+WlUlwrm4K/9Qq2EnSbgb9llfxF1ZqAv8lFTVyUfnq/H2FVE/0HdL8l+Cprd2V5v9+n6qLI4Wq/F3H3PkAzYz8PEwl1PB6EPxfnIbOwMJU/1oqPfwHloT/2dDZjHwSqP3frG+kjKLI/GdQrI/2Ptz9DssyXIVK5P+3kOUalHbc/LCSTZR5/sz90zRLUWBGuP+KhJRiZQ6Y/QwFNF3EgoD8sVun7ZB2WP2ivpgFvwIw/6+DM5ms6gT+mIgovfmhwPwZ1ZoBVayo/s0RFZje9b7/Z3mePKbWDv0PNEaufNJG/ZLBUqlMEl7+r+xHQjmWZvx/NGdBZBpm/U9zubjCXmL+EZRuhZ/+Wv9UvzJo8i5S/R0aciF1fkL9XtD6HJyuGv+nOul+xQXC/fbWLd6yDcz/ujXBGDLyMP4mJWXGiRJg/HaE5x40WoT9EsMi02BunP+GBLARsGa0/3/JqFu6wsT9Nf5H4XsG0P4i0DL87fLg/iV5nv8X1uz/WaINdXsq/P5z+JvMTd8E/F7v5HfUdwz/MjXWzN1/EP/zclukT0MU/Vygttw9Uxz+mqvm/XdXIPxOd4d38zMk/T+qJtnwHyz+LDeVdWCvKPzzhwg06mcg/1IVxmrIRxz8R/NJP9h7FPyvv9JTmIMQ/bdveCx/Twz+Qh9/JfsjDP1F+OVAzZsQ/U3nYl65YxT8QLhUCVprHP1H6Qsh5v9A/\",\"dtype\":\"float64\",\"shape\":[75]},\"y\":{\"__ndarray__\":\"GhExyth1ND/Sv8nbtpRIP2vylNV0PVE/aTum7souWD/At0SJ8fVgPw3Iuahxymc/MSNhhJWvcD/bTfBN02d3P2zb5nxnaoA/CD5h5MAGhz8NmeH1TyaQP+zrCsc9p5Y/LbKd76fGnz/bLW5ISEmmPww9YvTcQq8/JV2OstnstT8Er5Y7M8G+P0c+r3jqkcU/5h99k6ZBzj88bCIzFzjVP4enV8oyxN0//yH99nXg5D8qOpLLf0jtP5kqGJXUifQ/c9cS8kHP/D+/DpwzojQEQIEmwoanVwxA4lgXt9HgE0BSSZ2AJuIbQAMJih9jjiNA5q4l5INuK0AwTKYKRj0zQNv5fmq8/DpAaCJseHrtQkB/+zpwzoxKQM3MzMzMeFJAZmZmZmZqWEAAAAAAAFxeQM3MzMzMJmJAmpmZmZkfZUBmZmZmZhhoQDMzMzMzEWtAAAAAAAAKbkBmZmZmZoFwQM3MzMzM/XFAMzMzMzN6c0CamZmZmfZ0QAAAAAAAc3ZAZmZmZmbvd0DNzMzMzGt5QDMzMzMz6HpAmpmZmZlkfEAAAAAAAOF9QGZmZmZmXX9AZmZmZuZsgECamZmZGSuBQM3MzMxM6YFAAAAAAICngkAzMzMzs2WDQGZmZmbmI4RAmpmZmRnihEDNzMzMTKCFQAAAAACAXoZAMzMzM7Mch0BmZmZm5tqHQJqZmZkZmYhAzczMzExXiUAAAAAAgBWKQDMzMzOz04pAZmZmZuaRi0CamZmZGVCMQM3MzMxMDo1AAAAAAIDMjUAzMzMzs4qOQGZmZmbmSI9A\",\"dtype\":\"float64\",\"shape\":[75]}}},\"id\":\"7cc9cd80-7aca-4247-aae5-618038bc99df\",\"type\":\"ColumnDataSource\"},{\"attributes\":{\"callback\":null,\"end\":0.01,\"start\":1020},\"id\":\"81e88371-f7a1-4464-8169-24955c797168\",\"type\":\"Range1d\"},{\"attributes\":{},\"id\":\"90f8bd47-d286-42a4-82bb-418e29bdd004\",\"type\":\"SaveTool\"},{\"attributes\":{},\"id\":\"b862eeea-049c-494b-88e1-09bf65de0cb3\",\"type\":\"LogScale\"},{\"attributes\":{\"callback\":null,\"column_names\":[\"x\",\"y\"],\"data\":{\"x\":{\"__ndarray__\":\"nfLs2ux0gb/8QcU+phGBv0D33aRNRIC/1wmUfs7efr+wqsirZit9v7FeSZF8bnu/OfBIhiWoeb8/7qfyOdh3v0wSUzsm/3W/CBD65CwddL+2O/Tx2jJyv1N+7p3zQHC/uJm28bqNbL82rcdOTmVnv99N4DiwQD2/P6VEtt70dD+PdgdxGN6KP0dhUfCYqpc/FE8xX0Iroj/ItqRU1vepP2CLxKEKwbE/aqyzENP0tj9zvT1tLN+4P2eFgk/847Y/x5A2apKTsz9g7YhAfgGvP5tini3Rbac/qz7E99/5oD+wfD0vekaXP3gLJCh+jI0/F3OxlG6MgD9Ti6K29gZrP7xo6501BUK/+GAEW83Ecb+Z8UDp7u+Dv+6z1L7czpC/xgQHRCBIlr+aimmzpZ+Yv6RE7614hZi/nvqTOvnbl7+UyeNI65iWv+it549cQ5S/zpkfRb7HkL9tiyPwNliIv4EGJVESx3O/ng/V8EK1bz8cwBZM4PyIP0r/EdSQu5U/kL9yjH0soD/MXNaA5WGmP5thvEmAWKw/tiuCbEoTsT/IwPAABU20Pxc1ByQ7GLg/Uyo8wy9QvD+gkkrj3TLAPyB9tLQq9ME/yXQqEY9hwz9TEHZpR5rEPx5gWpIL58U/oOvz/0d5xz9ata1eLCnJP6umNRfJaMo/fc209briyz+P/KCyikzLPz3wMVhxqsk//n5SaZvNxz8ytHTkzJ/FPzYZ+sz+ZcQ/T5Nbi/0CxD+72A8MezXEP5eUWKU26cQ/UdKJJWE2xj8AwcGDC57IP7N5HAbzV9E/\",\"dtype\":\"float64\",\"shape\":[75]},\"y\":{\"__ndarray__\":\"GhExyth1ND/Sv8nbtpRIP2vylNV0PVE/aTum7souWD/At0SJ8fVgPw3Iuahxymc/MSNhhJWvcD/bTfBN02d3P2zb5nxnaoA/CD5h5MAGhz8NmeH1TyaQP+zrCsc9p5Y/LbKd76fGnz/bLW5ISEmmPww9YvTcQq8/JV2OstnstT8Er5Y7M8G+P0c+r3jqkcU/5h99k6ZBzj88bCIzFzjVP4enV8oyxN0//yH99nXg5D8qOpLLf0jtP5kqGJXUifQ/c9cS8kHP/D+/DpwzojQEQIEmwoanVwxA4lgXt9HgE0BSSZ2AJuIbQAMJih9jjiNA5q4l5INuK0AwTKYKRj0zQNv5fmq8/DpAaCJseHrtQkB/+zpwzoxKQM3MzMzMeFJAZmZmZmZqWEAAAAAAAFxeQM3MzMzMJmJAmpmZmZkfZUBmZmZmZhhoQDMzMzMzEWtAAAAAAAAKbkBmZmZmZoFwQM3MzMzM/XFAMzMzMzN6c0CamZmZmfZ0QAAAAAAAc3ZAZmZmZmbvd0DNzMzMzGt5QDMzMzMz6HpAmpmZmZlkfEAAAAAAAOF9QGZmZmZmXX9AZmZmZuZsgECamZmZGSuBQM3MzMxM6YFAAAAAAICngkAzMzMzs2WDQGZmZmbmI4RAmpmZmRnihEDNzMzMTKCFQAAAAACAXoZAMzMzM7Mch0BmZmZm5tqHQJqZmZkZmYhAzczMzExXiUAAAAAAgBWKQDMzMzOz04pAZmZmZuaRi0CamZmZGVCMQM3MzMxMDo1AAAAAAIDMjUAzMzMzs4qOQGZmZmbmSI9A\",\"dtype\":\"float64\",\"shape\":[75]}}},\"id\":\"40cf6a67-2cb7-4241-9dc4-e59b4e88df19\",\"type\":\"ColumnDataSource\"},{\"attributes\":{},\"id\":\"78aa3e59-2f80-4bbb-b766-5ee15b4529ac\",\"type\":\"ResetTool\"},{\"attributes\":{\"bottom_units\":\"screen\",\"fill_alpha\":{\"value\":0.5},\"fill_color\":{\"value\":\"lightgrey\"},\"left_units\":\"screen\",\"level\":\"overlay\",\"line_alpha\":{\"value\":1.0},\"line_color\":{\"value\":\"black\"},\"line_dash\":[4,4],\"line_width\":{\"value\":2},\"plot\":null,\"render_mode\":\"css\",\"right_units\":\"screen\",\"top_units\":\"screen\"},\"id\":\"aadf6ce5-1347-4791-9bd4-49d39d196763\",\"type\":\"BoxAnnotation\"},{\"attributes\":{},\"id\":\"682a5f43-0866-45b8-baca-66a56bad9e24\",\"type\":\"PanTool\"},{\"attributes\":{},\"id\":\"c8aee83c-315a-4404-a26c-fdd3e6b2f151\",\"type\":\"PanTool\"},{\"attributes\":{},\"id\":\"b65776cb-5ef1-492b-9da5-744c3f5b18b9\",\"type\":\"HelpTool\"},{\"attributes\":{},\"id\":\"e9abae9a-569b-4a58-850c-beb5da41e700\",\"type\":\"SaveTool\"},{\"attributes\":{\"data_source\":{\"id\":\"217203d9-07d0-4a11-9845-925f0c058b8c\",\"type\":\"ColumnDataSource\"},\"glyph\":{\"id\":\"e924c659-c018-4593-9392-39da6d928fd9\",\"type\":\"Square\"},\"hover_glyph\":null,\"muted_glyph\":null,\"nonselection_glyph\":{\"id\":\"8d40ad42-2e80-4d47-80d9-5f25a7e9fdf2\",\"type\":\"Square\"},\"selection_glyph\":null,\"view\":{\"id\":\"9d0d01ae-809b-448d-af75-17b411bf32bf\",\"type\":\"CDSView\"}},\"id\":\"3c90d59f-27b8-4754-90b4-ceca0759bf6e\",\"type\":\"GlyphRenderer\"},{\"attributes\":{},\"id\":\"74a16183-b5ac-48f2-87b5-f5374c3ba5b2\",\"type\":\"BasicTickFormatter\"},{\"attributes\":{},\"id\":\"b908a47d-8f52-49de-ba4b-da983024e1d5\",\"type\":\"WheelZoomTool\"},{\"attributes\":{\"line_alpha\":0.1,\"line_color\":\"#1f77b4\",\"line_width\":3,\"x\":{\"field\":\"x\"},\"y\":{\"field\":\"y\"}},\"id\":\"2a40ab3b-c3c3-40d6-a683-79243ebebb40\",\"type\":\"Line\"},{\"attributes\":{\"active_drag\":\"auto\",\"active_inspect\":\"auto\",\"active_scroll\":\"auto\",\"active_tap\":\"auto\",\"tools\":[{\"id\":\"c8aee83c-315a-4404-a26c-fdd3e6b2f151\",\"type\":\"PanTool\"},{\"id\":\"f5b612ba-c3ba-4923-bda6-e456109e13af\",\"type\":\"WheelZoomTool\"},{\"id\":\"ad7d2a06-59a3-4dee-8c44-80d4d7ce7717\",\"type\":\"BoxZoomTool\"},{\"id\":\"e9abae9a-569b-4a58-850c-beb5da41e700\",\"type\":\"SaveTool\"},{\"id\":\"980e441d-e63e-47a9-95a0-b8562e0b5ab7\",\"type\":\"ResetTool\"},{\"id\":\"85e996e0-318b-4861-b334-50ad58ddc6ea\",\"type\":\"HelpTool\"}]},\"id\":\"9158d0f8-dc6a-4ba4-960e-088c247d402a\",\"type\":\"Toolbar\"},{\"attributes\":{\"plot\":null,\"text\":\"Linear pressure scale\"},\"id\":\"120d2a48-7a52-4744-bedd-2c408ef94b6c\",\"type\":\"Title\"},{\"attributes\":{\"source\":{\"id\":\"7cc9cd80-7aca-4247-aae5-618038bc99df\",\"type\":\"ColumnDataSource\"}},\"id\":\"451b73b6-bc02-4377-8863-5d99d0ef42c6\",\"type\":\"CDSView\"},{\"attributes\":{\"line_alpha\":0.1,\"line_color\":\"#1f77b4\",\"line_width\":1.5,\"x\":{\"field\":\"x\"},\"y\":{\"field\":\"y\"}},\"id\":\"df1476ab-26d3-44f8-b55f-465e8b15839a\",\"type\":\"Line\"},{\"attributes\":{\"line_alpha\":0.1,\"line_color\":\"#1f77b4\",\"line_dash\":[2,4,6,4],\"line_width\":3,\"x\":{\"field\":\"x\"},\"y\":{\"field\":\"y\"}},\"id\":\"68a7566a-a58b-4f32-a90e-91a1b71730fc\",\"type\":\"Line\"},{\"attributes\":{},\"id\":\"85cfe31d-e14d-4522-9089-3f822d2424c9\",\"type\":\"LinearScale\"},{\"attributes\":{},\"id\":\"3f801814-fa20-43da-8c78-013921e488eb\",\"type\":\"BasicTicker\"},{\"attributes\":{\"children\":[{\"id\":\"995ee7fd-f345-440d-a892-1b79bde074ce\",\"type\":\"Row\"}]},\"id\":\"1161a4d9-779e-4fa2-b6a1-770038d26bdc\",\"type\":\"Column\"},{\"attributes\":{\"below\":[{\"id\":\"5b2e5e45-7591-45bf-a36a-c4b16adc3b50\",\"type\":\"LinearAxis\"}],\"left\":[{\"id\":\"394de147-1d24-435d-af9b-d4ae23bc2c13\",\"type\":\"LogAxis\"}],\"plot_height\":500,\"plot_width\":560,\"renderers\":[{\"id\":\"5b2e5e45-7591-45bf-a36a-c4b16adc3b50\",\"type\":\"LinearAxis\"},{\"id\":\"54ab6f07-c1f5-4b48-9dd1-88881d02278b\",\"type\":\"Grid\"},{\"id\":\"394de147-1d24-435d-af9b-d4ae23bc2c13\",\"type\":\"LogAxis\"},{\"id\":\"92309a29-f50d-4657-9fa1-ea8475268ee5\",\"type\":\"Grid\"},{\"id\":\"aadf6ce5-1347-4791-9bd4-49d39d196763\",\"type\":\"BoxAnnotation\"},{\"id\":\"9e551ef0-1df8-48df-9e15-8aab4bfd7b71\",\"type\":\"GlyphRenderer\"},{\"id\":\"13383ce7-98b2-44ce-8045-58168e5bfa04\",\"type\":\"GlyphRenderer\"},{\"id\":\"fd6f6111-dbd5-43af-b65f-a3580a8ccb2c\",\"type\":\"GlyphRenderer\"},{\"id\":\"61a54f40-e35a-48e6-a941-2dfb72af0c6c\",\"type\":\"GlyphRenderer\"},{\"id\":\"2ff9a180-833e-44b5-bfaa-2b239b137d62\",\"type\":\"GlyphRenderer\"},{\"id\":\"883c6853-2993-41b4-b597-4cf738af30c8\",\"type\":\"GlyphRenderer\"},{\"id\":\"596472e2-249e-4896-83f7-1f4e4b5884ba\",\"type\":\"Legend\"}],\"right\":[{\"id\":\"596472e2-249e-4896-83f7-1f4e4b5884ba\",\"type\":\"Legend\"}],\"title\":{\"id\":\"366063e6-ae44-4701-9987-3ae073cd06ee\",\"type\":\"Title\"},\"toolbar\":{\"id\":\"9158d0f8-dc6a-4ba4-960e-088c247d402a\",\"type\":\"Toolbar\"},\"toolbar_location\":null,\"x_range\":{\"id\":\"e401834f-f65e-4397-bdfe-84fa43df8bc8\",\"type\":\"Range1d\"},\"x_scale\":{\"id\":\"897f3a98-7349-4f66-8b20-3dc992e03bfe\",\"type\":\"LinearScale\"},\"y_range\":{\"id\":\"81e88371-f7a1-4464-8169-24955c797168\",\"type\":\"Range1d\"},\"y_scale\":{\"id\":\"b862eeea-049c-494b-88e1-09bf65de0cb3\",\"type\":\"LogScale\"}},\"id\":\"257c9aba-069b-4985-8a85-b7d953ce1b82\",\"subtype\":\"Figure\",\"type\":\"Plot\"},{\"attributes\":{\"axis_label\":\"pressure [mb]\",\"formatter\":{\"id\":\"73b74e55-fb63-44e3-957f-a9cec411a92e\",\"type\":\"LogTickFormatter\"},\"plot\":{\"id\":\"257c9aba-069b-4985-8a85-b7d953ce1b82\",\"subtype\":\"Figure\",\"type\":\"Plot\"},\"ticker\":{\"id\":\"5c9af026-2781-4d67-b3e8-eef1b1deab38\",\"type\":\"LogTicker\"}},\"id\":\"394de147-1d24-435d-af9b-d4ae23bc2c13\",\"type\":\"LogAxis\"},{\"attributes\":{\"data_source\":{\"id\":\"7c80c213-5cf6-4829-9788-45edd246a4ef\",\"type\":\"ColumnDataSource\"},\"glyph\":{\"id\":\"6e974b57-0512-44e9-bd1d-6fe48a17e7fd\",\"type\":\"Circle\"},\"hover_glyph\":null,\"muted_glyph\":null,\"nonselection_glyph\":{\"id\":\"b44137aa-65a5-4939-b18d-6d94ccaebd26\",\"type\":\"Circle\"},\"selection_glyph\":null,\"view\":{\"id\":\"637df204-3e0e-4681-8384-536647bb1f51\",\"type\":\"CDSView\"}},\"id\":\"9e551ef0-1df8-48df-9e15-8aab4bfd7b71\",\"type\":\"GlyphRenderer\"},{\"attributes\":{\"fill_alpha\":{\"value\":0.1},\"fill_color\":{\"value\":\"#1f77b4\"},\"line_alpha\":{\"value\":0.1},\"line_color\":{\"value\":\"#1f77b4\"},\"x\":{\"field\":\"x\"},\"y\":{\"field\":\"y\"}},\"id\":\"b44137aa-65a5-4939-b18d-6d94ccaebd26\",\"type\":\"Circle\"},{\"attributes\":{\"source\":{\"id\":\"d4ac2c3a-5aec-4c24-a989-7540b367e354\",\"type\":\"ColumnDataSource\"}},\"id\":\"34c1f3fd-6205-426b-afaa-19bc23abfa46\",\"type\":\"CDSView\"},{\"attributes\":{\"data_source\":{\"id\":\"d4ac2c3a-5aec-4c24-a989-7540b367e354\",\"type\":\"ColumnDataSource\"},\"glyph\":{\"id\":\"fd870bd3-1936-4ca5-95d2-f7c90e9b15bc\",\"type\":\"InvertedTriangle\"},\"hover_glyph\":null,\"muted_glyph\":null,\"nonselection_glyph\":{\"id\":\"f595152a-621f-4528-8a13-a07fa43a8b08\",\"type\":\"InvertedTriangle\"},\"selection_glyph\":null,\"view\":{\"id\":\"34c1f3fd-6205-426b-afaa-19bc23abfa46\",\"type\":\"CDSView\"}},\"id\":\"2ff9a180-833e-44b5-bfaa-2b239b137d62\",\"type\":\"GlyphRenderer\"},{\"attributes\":{\"fill_alpha\":{\"value\":0.7},\"fill_color\":{\"value\":\"#4daf4a\"},\"line_alpha\":{\"value\":0.7},\"line_color\":{\"value\":\"#4daf4a\"},\"x\":{\"field\":\"x\"},\"y\":{\"field\":\"y\"}},\"id\":\"6e974b57-0512-44e9-bd1d-6fe48a17e7fd\",\"type\":\"Circle\"},{\"attributes\":{\"fill_alpha\":{\"value\":0.1},\"fill_color\":{\"value\":\"#1f77b4\"},\"line_alpha\":{\"value\":0.1},\"line_color\":{\"value\":\"#1f77b4\"},\"x\":{\"field\":\"x\"},\"y\":{\"field\":\"y\"}},\"id\":\"f595152a-621f-4528-8a13-a07fa43a8b08\",\"type\":\"InvertedTriangle\"},{\"attributes\":{\"data_source\":{\"id\":\"2061517c-6375-457f-a7d0-24a84ff0ce6d\",\"type\":\"ColumnDataSource\"},\"glyph\":{\"id\":\"4d59b730-d572-44ee-93d1-f09b3ac58a6b\",\"type\":\"Line\"},\"hover_glyph\":null,\"muted_glyph\":null,\"nonselection_glyph\":{\"id\":\"184b5b01-3925-4138-a7e2-0926ac069e93\",\"type\":\"Line\"},\"selection_glyph\":null,\"view\":{\"id\":\"0070ef95-9464-48ad-9a1f-1a0367690b9a\",\"type\":\"CDSView\"}},\"id\":\"13383ce7-98b2-44ce-8045-58168e5bfa04\",\"type\":\"GlyphRenderer\"},{\"attributes\":{\"ticker\":null},\"id\":\"73b74e55-fb63-44e3-957f-a9cec411a92e\",\"type\":\"LogTickFormatter\"},{\"attributes\":{\"data_source\":{\"id\":\"7803dc07-28ee-4c86-b2a0-6be88ae94dac\",\"type\":\"ColumnDataSource\"},\"glyph\":{\"id\":\"86dd8c90-65e1-4bb9-afb4-e04c4daabe71\",\"type\":\"Circle\"},\"hover_glyph\":null,\"muted_glyph\":null,\"nonselection_glyph\":{\"id\":\"50136085-921c-451f-8d54-1ef5643115b6\",\"type\":\"Circle\"},\"selection_glyph\":null,\"view\":{\"id\":\"785ad123-35c4-4fa1-9a16-c29a0e589ebd\",\"type\":\"CDSView\"}},\"id\":\"1a51f947-59bc-4670-8932-326b9885d370\",\"type\":\"GlyphRenderer\"},{\"attributes\":{\"callback\":null,\"column_names\":[\"x\",\"y\"],\"data\":{\"x\":{\"__ndarray__\":\"t4orUlRCob9zbed8Kgehv7S8jBFypqC/vi9PY1KuoL+L/9O+zaOfv9gpif5m6J+/XzhyBV3Anr+wTy79szWev+Wr5xsGMJ2/P1WFBmLZnL9Hns2lFhycvzetLZ9Z0Ju/iDAqG2m4m78KCQ7rakubv6EWZzI6JZi/VocHjZPUj79mMYHAotlvv04o7r9oa4U/nF9BWJWWnD+rLMAtDh2pP/U9X73OKbM/EmfqGtJNuj+jrpTpwAe8PwKNjdEe1bc/aEI6DEtbsj/Q76U3dmWpP3pYRQsS06A/1o70/zBdlj8mtwfQ2F+OPwU5YgwwHIU/JxQcAjL5fD+dEo1/8d1xP7PsupA2aV0/fojH8K3aTL8QoCoYcVd1v8f+m998X4a/8otzHagokL+dUp2P5FKSv2kG355hFpK/eGROxf2vkb+TsDw2bNWQv5iku7Z6+I2/fQtGgC51h7+eXljfAdx7v6v4ufwrzUS/e6HCCTMKfT8cxyF4ArWQP+U7qvqSFps/lub7Tjhgoj/7WnFT/hOoP7xxppeFZ64/RTWU9uCXsj8u0i4gYB+2PxzMywY+q7k/kZo0FfsuvT/3lHsFkkXAP62h1F5E28E/roNBobdbwz8IXR1bKsrEPygnHHIaP8Y/X/BIQHXBxz8JOnNyMxrJP/bvG9tCwsk/UV+/9Ztoyj+b2kIl6A7JP9Fl3mjP/sY/I73J65glxT9YuxbCpFfDP+/i/bj9csI/e7myuL0swj/ELVn00j3CP3JzpuBbnsI/+2Uo1dtywz+L7SA8+0bFP3fbAa6Wgc8/\",\"dtype\":\"float64\",\"shape\":[75]},\"y\":{\"__ndarray__\":\"GhExyth1ND/Sv8nbtpRIP2vylNV0PVE/aTum7souWD/At0SJ8fVgPw3Iuahxymc/MSNhhJWvcD/bTfBN02d3P2zb5nxnaoA/CD5h5MAGhz8NmeH1TyaQP+zrCsc9p5Y/LbKd76fGnz/bLW5ISEmmPww9YvTcQq8/JV2OstnstT8Er5Y7M8G+P0c+r3jqkcU/5h99k6ZBzj88bCIzFzjVP4enV8oyxN0//yH99nXg5D8qOpLLf0jtP5kqGJXUifQ/c9cS8kHP/D+/DpwzojQEQIEmwoanVwxA4lgXt9HgE0BSSZ2AJuIbQAMJih9jjiNA5q4l5INuK0AwTKYKRj0zQNv5fmq8/DpAaCJseHrtQkB/+zpwzoxKQM3MzMzMeFJAZmZmZmZqWEAAAAAAAFxeQM3MzMzMJmJAmpmZmZkfZUBmZmZmZhhoQDMzMzMzEWtAAAAAAAAKbkBmZmZmZoFwQM3MzMzM/XFAMzMzMzN6c0CamZmZmfZ0QAAAAAAAc3ZAZmZmZmbvd0DNzMzMzGt5QDMzMzMz6HpAmpmZmZlkfEAAAAAAAOF9QGZmZmZmXX9AZmZmZuZsgECamZmZGSuBQM3MzMxM6YFAAAAAAICngkAzMzMzs2WDQGZmZmbmI4RAmpmZmRnihEDNzMzMTKCFQAAAAACAXoZAMzMzM7Mch0BmZmZm5tqHQJqZmZkZmYhAzczMzExXiUAAAAAAgBWKQDMzMzOz04pAZmZmZuaRi0CamZmZGVCMQM3MzMxMDo1AAAAAAIDMjUAzMzMzs4qOQGZmZmbmSI9A\",\"dtype\":\"float64\",\"shape\":[75]}}},\"id\":\"824a2ae3-4f53-484d-a422-9d2b7d5d633c\",\"type\":\"ColumnDataSource\"},{\"attributes\":{\"fill_alpha\":{\"value\":0.7},\"fill_color\":{\"value\":\"#377eb8\"},\"line_alpha\":{\"value\":0.7},\"line_color\":{\"value\":\"#377eb8\"},\"x\":{\"field\":\"x\"},\"y\":{\"field\":\"y\"}},\"id\":\"fd870bd3-1936-4ca5-95d2-f7c90e9b15bc\",\"type\":\"InvertedTriangle\"},{\"attributes\":{\"line_alpha\":0.1,\"line_color\":\"#1f77b4\",\"line_width\":1.5,\"x\":{\"field\":\"x\"},\"y\":{\"field\":\"y\"}},\"id\":\"184b5b01-3925-4138-a7e2-0926ac069e93\",\"type\":\"Line\"},{\"attributes\":{\"callback\":null,\"column_names\":[\"x\",\"y\"],\"data\":{\"x\":{\"__ndarray__\":\"nfLs2ux0gb/8QcU+phGBv0D33aRNRIC/1wmUfs7efr+wqsirZit9v7FeSZF8bnu/OfBIhiWoeb8/7qfyOdh3v0wSUzsm/3W/CBD65CwddL+2O/Tx2jJyv1N+7p3zQHC/uJm28bqNbL82rcdOTmVnv99N4DiwQD2/P6VEtt70dD+PdgdxGN6KP0dhUfCYqpc/FE8xX0Iroj/ItqRU1vepP2CLxKEKwbE/aqyzENP0tj9zvT1tLN+4P2eFgk/847Y/x5A2apKTsz9g7YhAfgGvP5tini3Rbac/qz7E99/5oD+wfD0vekaXP3gLJCh+jI0/F3OxlG6MgD9Ti6K29gZrP7xo6501BUK/+GAEW83Ecb+Z8UDp7u+Dv+6z1L7czpC/xgQHRCBIlr+aimmzpZ+Yv6RE7614hZi/nvqTOvnbl7+UyeNI65iWv+it549cQ5S/zpkfRb7HkL9tiyPwNliIv4EGJVESx3O/ng/V8EK1bz8cwBZM4PyIP0r/EdSQu5U/kL9yjH0soD/MXNaA5WGmP5thvEmAWKw/tiuCbEoTsT/IwPAABU20Pxc1ByQ7GLg/Uyo8wy9QvD+gkkrj3TLAPyB9tLQq9ME/yXQqEY9hwz9TEHZpR5rEPx5gWpIL58U/oOvz/0d5xz9ata1eLCnJP6umNRfJaMo/fc209briyz+P/KCyikzLPz3wMVhxqsk//n5SaZvNxz8ytHTkzJ/FPzYZ+sz+ZcQ/T5Nbi/0CxD+72A8MezXEP5eUWKU26cQ/UdKJJWE2xj8AwcGDC57IP7N5HAbzV9E/\",\"dtype\":\"float64\",\"shape\":[75]},\"y\":{\"__ndarray__\":\"GhExyth1ND/Sv8nbtpRIP2vylNV0PVE/aTum7souWD/At0SJ8fVgPw3Iuahxymc/MSNhhJWvcD/bTfBN02d3P2zb5nxnaoA/CD5h5MAGhz8NmeH1TyaQP+zrCsc9p5Y/LbKd76fGnz/bLW5ISEmmPww9YvTcQq8/JV2OstnstT8Er5Y7M8G+P0c+r3jqkcU/5h99k6ZBzj88bCIzFzjVP4enV8oyxN0//yH99nXg5D8qOpLLf0jtP5kqGJXUifQ/c9cS8kHP/D+/DpwzojQEQIEmwoanVwxA4lgXt9HgE0BSSZ2AJuIbQAMJih9jjiNA5q4l5INuK0AwTKYKRj0zQNv5fmq8/DpAaCJseHrtQkB/+zpwzoxKQM3MzMzMeFJAZmZmZmZqWEAAAAAAAFxeQM3MzMzMJmJAmpmZmZkfZUBmZmZmZhhoQDMzMzMzEWtAAAAAAAAKbkBmZmZmZoFwQM3MzMzM/XFAMzMzMzN6c0CamZmZmfZ0QAAAAAAAc3ZAZmZmZmbvd0DNzMzMzGt5QDMzMzMz6HpAmpmZmZlkfEAAAAAAAOF9QGZmZmZmXX9AZmZmZuZsgECamZmZGSuBQM3MzMxM6YFAAAAAAICngkAzMzMzs2WDQGZmZmbmI4RAmpmZmRnihEDNzMzMTKCFQAAAAACAXoZAMzMzM7Mch0BmZmZm5tqHQJqZmZkZmYhAzczMzExXiUAAAAAAgBWKQDMzMzOz04pAZmZmZuaRi0CamZmZGVCMQM3MzMxMDo1AAAAAAIDMjUAzMzMzs4qOQGZmZmbmSI9A\",\"dtype\":\"float64\",\"shape\":[75]}}},\"id\":\"217203d9-07d0-4a11-9845-925f0c058b8c\",\"type\":\"ColumnDataSource\"},{\"attributes\":{\"line_color\":\"#4daf4a\",\"line_width\":1.5,\"x\":{\"field\":\"x\"},\"y\":{\"field\":\"y\"}},\"id\":\"4d59b730-d572-44ee-93d1-f09b3ac58a6b\",\"type\":\"Line\"},{\"attributes\":{\"source\":{\"id\":\"7c80c213-5cf6-4829-9788-45edd246a4ef\",\"type\":\"ColumnDataSource\"}},\"id\":\"637df204-3e0e-4681-8384-536647bb1f51\",\"type\":\"CDSView\"},{\"attributes\":{\"data_source\":{\"id\":\"0141d613-479d-4790-921c-ab2ed6df8e53\",\"type\":\"ColumnDataSource\"},\"glyph\":{\"id\":\"a2f76dd0-7e6b-4aa6-8eb6-1b44dccc17b0\",\"type\":\"Line\"},\"hover_glyph\":null,\"muted_glyph\":null,\"nonselection_glyph\":{\"id\":\"7a60b894-38da-4368-8c3f-a69c17fe5f93\",\"type\":\"Line\"},\"selection_glyph\":null,\"view\":{\"id\":\"3ff0ab13-d7ed-4d77-ac98-4cf4d94f6eae\",\"type\":\"CDSView\"}},\"id\":\"61a54f40-e35a-48e6-a941-2dfb72af0c6c\",\"type\":\"GlyphRenderer\"},{\"attributes\":{\"source\":{\"id\":\"2061517c-6375-457f-a7d0-24a84ff0ce6d\",\"type\":\"ColumnDataSource\"}},\"id\":\"0070ef95-9464-48ad-9a1f-1a0367690b9a\",\"type\":\"CDSView\"},{\"attributes\":{},\"id\":\"d6e582fb-d461-4616-85f2-34216ee70b77\",\"type\":\"BasicTickFormatter\"},{\"attributes\":{\"callback\":null,\"column_names\":[\"x\",\"y\"],\"data\":{\"x\":{\"__ndarray__\":\"nfLs2ux0gb/8QcU+phGBv0D33aRNRIC/1wmUfs7efr+wqsirZit9v7FeSZF8bnu/OfBIhiWoeb8/7qfyOdh3v0wSUzsm/3W/CBD65CwddL+2O/Tx2jJyv1N+7p3zQHC/uJm28bqNbL82rcdOTmVnv99N4DiwQD2/P6VEtt70dD+PdgdxGN6KP0dhUfCYqpc/FE8xX0Iroj/ItqRU1vepP2CLxKEKwbE/aqyzENP0tj9zvT1tLN+4P2eFgk/847Y/x5A2apKTsz9g7YhAfgGvP5tini3Rbac/qz7E99/5oD+wfD0vekaXP3gLJCh+jI0/F3OxlG6MgD9Ti6K29gZrP7xo6501BUK/+GAEW83Ecb+Z8UDp7u+Dv+6z1L7czpC/xgQHRCBIlr+aimmzpZ+Yv6RE7614hZi/nvqTOvnbl7+UyeNI65iWv+it549cQ5S/zpkfRb7HkL9tiyPwNliIv4EGJVESx3O/ng/V8EK1bz8cwBZM4PyIP0r/EdSQu5U/kL9yjH0soD/MXNaA5WGmP5thvEmAWKw/tiuCbEoTsT/IwPAABU20Pxc1ByQ7GLg/Uyo8wy9QvD+gkkrj3TLAPyB9tLQq9ME/yXQqEY9hwz9TEHZpR5rEPx5gWpIL58U/oOvz/0d5xz9ata1eLCnJP6umNRfJaMo/fc209briyz+P/KCyikzLPz3wMVhxqsk//n5SaZvNxz8ytHTkzJ/FPzYZ+sz+ZcQ/T5Nbi/0CxD+72A8MezXEP5eUWKU26cQ/UdKJJWE2xj8AwcGDC57IP7N5HAbzV9E/\",\"dtype\":\"float64\",\"shape\":[75]},\"y\":{\"__ndarray__\":\"GhExyth1ND/Sv8nbtpRIP2vylNV0PVE/aTum7souWD/At0SJ8fVgPw3Iuahxymc/MSNhhJWvcD/bTfBN02d3P2zb5nxnaoA/CD5h5MAGhz8NmeH1TyaQP+zrCsc9p5Y/LbKd76fGnz/bLW5ISEmmPww9YvTcQq8/JV2OstnstT8Er5Y7M8G+P0c+r3jqkcU/5h99k6ZBzj88bCIzFzjVP4enV8oyxN0//yH99nXg5D8qOpLLf0jtP5kqGJXUifQ/c9cS8kHP/D+/DpwzojQEQIEmwoanVwxA4lgXt9HgE0BSSZ2AJuIbQAMJih9jjiNA5q4l5INuK0AwTKYKRj0zQNv5fmq8/DpAaCJseHrtQkB/+zpwzoxKQM3MzMzMeFJAZmZmZmZqWEAAAAAAAFxeQM3MzMzMJmJAmpmZmZkfZUBmZmZmZhhoQDMzMzMzEWtAAAAAAAAKbkBmZmZmZoFwQM3MzMzM/XFAMzMzMzN6c0CamZmZmfZ0QAAAAAAAc3ZAZmZmZmbvd0DNzMzMzGt5QDMzMzMz6HpAmpmZmZlkfEAAAAAAAOF9QGZmZmZmXX9AZmZmZuZsgECamZmZGSuBQM3MzMxM6YFAAAAAAICngkAzMzMzs2WDQGZmZmbmI4RAmpmZmRnihEDNzMzMTKCFQAAAAACAXoZAMzMzM7Mch0BmZmZm5tqHQJqZmZkZmYhAzczMzExXiUAAAAAAgBWKQDMzMzOz04pAZmZmZuaRi0CamZmZGVCMQM3MzMxMDo1AAAAAAIDMjUAzMzMzs4qOQGZmZmbmSI9A\",\"dtype\":\"float64\",\"shape\":[75]}}},\"id\":\"e75c79bf-a9e9-4ee4-88af-ebe40a85de25\",\"type\":\"ColumnDataSource\"},{\"attributes\":{\"fill_alpha\":{\"value\":0.1},\"fill_color\":{\"value\":\"#1f77b4\"},\"line_alpha\":{\"value\":0.1},\"line_color\":{\"value\":\"#1f77b4\"},\"x\":{\"field\":\"x\"},\"y\":{\"field\":\"y\"}},\"id\":\"50136085-921c-451f-8d54-1ef5643115b6\",\"type\":\"Circle\"},{\"attributes\":{\"fill_alpha\":{\"value\":0.1},\"fill_color\":{\"value\":\"#1f77b4\"},\"line_alpha\":{\"value\":0.1},\"line_color\":{\"value\":\"#1f77b4\"},\"x\":{\"field\":\"x\"},\"y\":{\"field\":\"y\"}},\"id\":\"1361226e-ebd7-40ac-bc63-2833f89135af\",\"type\":\"Square\"},{\"attributes\":{\"fill_alpha\":{\"value\":0.7},\"fill_color\":{\"value\":\"#4daf4a\"},\"line_alpha\":{\"value\":0.7},\"line_color\":{\"value\":\"#4daf4a\"},\"x\":{\"field\":\"x\"},\"y\":{\"field\":\"y\"}},\"id\":\"86dd8c90-65e1-4bb9-afb4-e04c4daabe71\",\"type\":\"Circle\"},{\"attributes\":{\"callback\":null,\"column_names\":[\"x\",\"y\"],\"data\":{\"x\":{\"__ndarray__\":\"nfLs2ux0gb/8QcU+phGBv0D33aRNRIC/1wmUfs7efr+wqsirZit9v7FeSZF8bnu/OfBIhiWoeb8/7qfyOdh3v0wSUzsm/3W/CBD65CwddL+2O/Tx2jJyv1N+7p3zQHC/uJm28bqNbL82rcdOTmVnv99N4DiwQD2/P6VEtt70dD+PdgdxGN6KP0dhUfCYqpc/FE8xX0Iroj/ItqRU1vepP2CLxKEKwbE/aqyzENP0tj9zvT1tLN+4P2eFgk/847Y/x5A2apKTsz9g7YhAfgGvP5tini3Rbac/qz7E99/5oD+wfD0vekaXP3gLJCh+jI0/F3OxlG6MgD9Ti6K29gZrP7xo6501BUK/+GAEW83Ecb+Z8UDp7u+Dv+6z1L7czpC/xgQHRCBIlr+aimmzpZ+Yv6RE7614hZi/nvqTOvnbl7+UyeNI65iWv+it549cQ5S/zpkfRb7HkL9tiyPwNliIv4EGJVESx3O/ng/V8EK1bz8cwBZM4PyIP0r/EdSQu5U/kL9yjH0soD/MXNaA5WGmP5thvEmAWKw/tiuCbEoTsT/IwPAABU20Pxc1ByQ7GLg/Uyo8wy9QvD+gkkrj3TLAPyB9tLQq9ME/yXQqEY9hwz9TEHZpR5rEPx5gWpIL58U/oOvz/0d5xz9ata1eLCnJP6umNRfJaMo/fc209briyz+P/KCyikzLPz3wMVhxqsk//n5SaZvNxz8ytHTkzJ/FPzYZ+sz+ZcQ/T5Nbi/0CxD+72A8MezXEP5eUWKU26cQ/UdKJJWE2xj8AwcGDC57IP7N5HAbzV9E/\",\"dtype\":\"float64\",\"shape\":[75]},\"y\":{\"__ndarray__\":\"GhExyth1ND/Sv8nbtpRIP2vylNV0PVE/aTum7souWD/At0SJ8fVgPw3Iuahxymc/MSNhhJWvcD/bTfBN02d3P2zb5nxnaoA/CD5h5MAGhz8NmeH1TyaQP+zrCsc9p5Y/LbKd76fGnz/bLW5ISEmmPww9YvTcQq8/JV2OstnstT8Er5Y7M8G+P0c+r3jqkcU/5h99k6ZBzj88bCIzFzjVP4enV8oyxN0//yH99nXg5D8qOpLLf0jtP5kqGJXUifQ/c9cS8kHP/D+/DpwzojQEQIEmwoanVwxA4lgXt9HgE0BSSZ2AJuIbQAMJih9jjiNA5q4l5INuK0AwTKYKRj0zQNv5fmq8/DpAaCJseHrtQkB/+zpwzoxKQM3MzMzMeFJAZmZmZmZqWEAAAAAAAFxeQM3MzMzMJmJAmpmZmZkfZUBmZmZmZhhoQDMzMzMzEWtAAAAAAAAKbkBmZmZmZoFwQM3MzMzM/XFAMzMzMzN6c0CamZmZmfZ0QAAAAAAAc3ZAZmZmZmbvd0DNzMzMzGt5QDMzMzMz6HpAmpmZmZlkfEAAAAAAAOF9QGZmZmZmXX9AZmZmZuZsgECamZmZGSuBQM3MzMxM6YFAAAAAAICngkAzMzMzs2WDQGZmZmbmI4RAmpmZmRnihEDNzMzMTKCFQAAAAACAXoZAMzMzM7Mch0BmZmZm5tqHQJqZmZkZmYhAzczMzExXiUAAAAAAgBWKQDMzMzOz04pAZmZmZuaRi0CamZmZGVCMQM3MzMxMDo1AAAAAAIDMjUAzMzMzs4qOQGZmZmbmSI9A\",\"dtype\":\"float64\",\"shape\":[75]}}},\"id\":\"0141d613-479d-4790-921c-ab2ed6df8e53\",\"type\":\"ColumnDataSource\"},{\"attributes\":{\"fill_alpha\":{\"value\":0.7},\"fill_color\":{\"value\":\"#984ea3\"},\"line_alpha\":{\"value\":0.7},\"line_color\":{\"value\":\"#984ea3\"},\"x\":{\"field\":\"x\"},\"y\":{\"field\":\"y\"}},\"id\":\"82e8b539-eba7-4761-b9bc-10f78e3a8257\",\"type\":\"Square\"},{\"attributes\":{\"callback\":null,\"column_names\":[\"x\",\"y\"],\"data\":{\"x\":{\"__ndarray__\":\"8K69k3Keib/kAxc4lDKJv9OCKWDBUYi/M9YL+fhoh7/NSWfhZHuGvw2WTy5EiYW/TXk1v+iShL/ALf7MnpiDv+WlUlwrm4K/9Qq2EnSbgb9llfxF1ZqAv8lFTVyUfnq/H2FVE/0HdL8l+Cprd2V5v9+n6qLI4Wq/F3H3PkAzYz8PEwl1PB6EPxfnIbOwMJU/1oqPfwHloT/2dDZjHwSqP3frG+kjKLI/GdQrI/2Ptz9DssyXIVK5P+3kOUalHbc/LCSTZR5/sz90zRLUWBGuP+KhJRiZQ6Y/QwFNF3EgoD8sVun7ZB2WP2ivpgFvwIw/6+DM5ms6gT+mIgovfmhwPwZ1ZoBVayo/s0RFZje9b7/Z3mePKbWDv0PNEaufNJG/ZLBUqlMEl7+r+xHQjmWZvx/NGdBZBpm/U9zubjCXmL+EZRuhZ/+Wv9UvzJo8i5S/R0aciF1fkL9XtD6HJyuGv+nOul+xQXC/fbWLd6yDcz/ujXBGDLyMP4mJWXGiRJg/HaE5x40WoT9EsMi02BunP+GBLARsGa0/3/JqFu6wsT9Nf5H4XsG0P4i0DL87fLg/iV5nv8X1uz/WaINdXsq/P5z+JvMTd8E/F7v5HfUdwz/MjXWzN1/EP/zclukT0MU/Vygttw9Uxz+mqvm/XdXIPxOd4d38zMk/T+qJtnwHyz+LDeVdWCvKPzzhwg06mcg/1IVxmrIRxz8R/NJP9h7FPyvv9JTmIMQ/bdveCx/Twz+Qh9/JfsjDP1F+OVAzZsQ/U3nYl65YxT8QLhUCVprHP1H6Qsh5v9A/\",\"dtype\":\"float64\",\"shape\":[75]},\"y\":{\"__ndarray__\":\"GhExyth1ND/Sv8nbtpRIP2vylNV0PVE/aTum7souWD/At0SJ8fVgPw3Iuahxymc/MSNhhJWvcD/bTfBN02d3P2zb5nxnaoA/CD5h5MAGhz8NmeH1TyaQP+zrCsc9p5Y/LbKd76fGnz/bLW5ISEmmPww9YvTcQq8/JV2OstnstT8Er5Y7M8G+P0c+r3jqkcU/5h99k6ZBzj88bCIzFzjVP4enV8oyxN0//yH99nXg5D8qOpLLf0jtP5kqGJXUifQ/c9cS8kHP/D+/DpwzojQEQIEmwoanVwxA4lgXt9HgE0BSSZ2AJuIbQAMJih9jjiNA5q4l5INuK0AwTKYKRj0zQNv5fmq8/DpAaCJseHrtQkB/+zpwzoxKQM3MzMzMeFJAZmZmZmZqWEAAAAAAAFxeQM3MzMzMJmJAmpmZmZkfZUBmZmZmZhhoQDMzMzMzEWtAAAAAAAAKbkBmZmZmZoFwQM3MzMzM/XFAMzMzMzN6c0CamZmZmfZ0QAAAAAAAc3ZAZmZmZmbvd0DNzMzMzGt5QDMzMzMz6HpAmpmZmZlkfEAAAAAAAOF9QGZmZmZmXX9AZmZmZuZsgECamZmZGSuBQM3MzMxM6YFAAAAAAICngkAzMzMzs2WDQGZmZmbmI4RAmpmZmRnihEDNzMzMTKCFQAAAAACAXoZAMzMzM7Mch0BmZmZm5tqHQJqZmZkZmYhAzczMzExXiUAAAAAAgBWKQDMzMzOz04pAZmZmZuaRi0CamZmZGVCMQM3MzMxMDo1AAAAAAIDMjUAzMzMzs4qOQGZmZmbmSI9A\",\"dtype\":\"float64\",\"shape\":[75]}}},\"id\":\"d4ac2c3a-5aec-4c24-a989-7540b367e354\",\"type\":\"ColumnDataSource\"},{\"attributes\":{\"line_alpha\":0.6,\"line_color\":\"#984ea3\",\"line_width\":3,\"x\":{\"field\":\"x\"},\"y\":{\"field\":\"y\"}},\"id\":\"a2f76dd0-7e6b-4aa6-8eb6-1b44dccc17b0\",\"type\":\"Line\"},{\"attributes\":{\"callback\":null,\"column_names\":[\"x\",\"y\"],\"data\":{\"x\":{\"__ndarray__\":\"t4orUlRCob9zbed8Kgehv7S8jBFypqC/vi9PY1KuoL+L/9O+zaOfv9gpif5m6J+/XzhyBV3Anr+wTy79szWev+Wr5xsGMJ2/P1WFBmLZnL9Hns2lFhycvzetLZ9Z0Ju/iDAqG2m4m78KCQ7rakubv6EWZzI6JZi/VocHjZPUj79mMYHAotlvv04o7r9oa4U/nF9BWJWWnD+rLMAtDh2pP/U9X73OKbM/EmfqGtJNuj+jrpTpwAe8PwKNjdEe1bc/aEI6DEtbsj/Q76U3dmWpP3pYRQsS06A/1o70/zBdlj8mtwfQ2F+OPwU5YgwwHIU/JxQcAjL5fD+dEo1/8d1xP7PsupA2aV0/fojH8K3aTL8QoCoYcVd1v8f+m998X4a/8otzHagokL+dUp2P5FKSv2kG355hFpK/eGROxf2vkb+TsDw2bNWQv5iku7Z6+I2/fQtGgC51h7+eXljfAdx7v6v4ufwrzUS/e6HCCTMKfT8cxyF4ArWQP+U7qvqSFps/lub7Tjhgoj/7WnFT/hOoP7xxppeFZ64/RTWU9uCXsj8u0i4gYB+2PxzMywY+q7k/kZo0FfsuvT/3lHsFkkXAP62h1F5E28E/roNBobdbwz8IXR1bKsrEPygnHHIaP8Y/X/BIQHXBxz8JOnNyMxrJP/bvG9tCwsk/UV+/9Ztoyj+b2kIl6A7JP9Fl3mjP/sY/I73J65glxT9YuxbCpFfDP+/i/bj9csI/e7myuL0swj/ELVn00j3CP3JzpuBbnsI/+2Uo1dtywz+L7SA8+0bFP3fbAa6Wgc8/\",\"dtype\":\"float64\",\"shape\":[75]},\"y\":{\"__ndarray__\":\"GhExyth1ND/Sv8nbtpRIP2vylNV0PVE/aTum7souWD/At0SJ8fVgPw3Iuahxymc/MSNhhJWvcD/bTfBN02d3P2zb5nxnaoA/CD5h5MAGhz8NmeH1TyaQP+zrCsc9p5Y/LbKd76fGnz/bLW5ISEmmPww9YvTcQq8/JV2OstnstT8Er5Y7M8G+P0c+r3jqkcU/5h99k6ZBzj88bCIzFzjVP4enV8oyxN0//yH99nXg5D8qOpLLf0jtP5kqGJXUifQ/c9cS8kHP/D+/DpwzojQEQIEmwoanVwxA4lgXt9HgE0BSSZ2AJuIbQAMJih9jjiNA5q4l5INuK0AwTKYKRj0zQNv5fmq8/DpAaCJseHrtQkB/+zpwzoxKQM3MzMzMeFJAZmZmZmZqWEAAAAAAAFxeQM3MzMzMJmJAmpmZmZkfZUBmZmZmZhhoQDMzMzMzEWtAAAAAAAAKbkBmZmZmZoFwQM3MzMzM/XFAMzMzMzN6c0CamZmZmfZ0QAAAAAAAc3ZAZmZmZmbvd0DNzMzMzGt5QDMzMzMz6HpAmpmZmZlkfEAAAAAAAOF9QGZmZmZmXX9AZmZmZuZsgECamZmZGSuBQM3MzMxM6YFAAAAAAICngkAzMzMzs2WDQGZmZmbmI4RAmpmZmRnihEDNzMzMTKCFQAAAAACAXoZAMzMzM7Mch0BmZmZm5tqHQJqZmZkZmYhAzczMzExXiUAAAAAAgBWKQDMzMzOz04pAZmZmZuaRi0CamZmZGVCMQM3MzMxMDo1AAAAAAIDMjUAzMzMzs4qOQGZmZmbmSI9A\",\"dtype\":\"float64\",\"shape\":[75]}}},\"id\":\"2061517c-6375-457f-a7d0-24a84ff0ce6d\",\"type\":\"ColumnDataSource\"},{\"attributes\":{\"source\":{\"id\":\"e75c79bf-a9e9-4ee4-88af-ebe40a85de25\",\"type\":\"ColumnDataSource\"}},\"id\":\"2f64d7fb-4ba7-4293-bb28-e93aa90d264c\",\"type\":\"CDSView\"},{\"attributes\":{\"data_source\":{\"id\":\"e75c79bf-a9e9-4ee4-88af-ebe40a85de25\",\"type\":\"ColumnDataSource\"},\"glyph\":{\"id\":\"82e8b539-eba7-4761-b9bc-10f78e3a8257\",\"type\":\"Square\"},\"hover_glyph\":null,\"muted_glyph\":null,\"nonselection_glyph\":{\"id\":\"1361226e-ebd7-40ac-bc63-2833f89135af\",\"type\":\"Square\"},\"selection_glyph\":null,\"view\":{\"id\":\"2f64d7fb-4ba7-4293-bb28-e93aa90d264c\",\"type\":\"CDSView\"}},\"id\":\"fd6f6111-dbd5-43af-b65f-a3580a8ccb2c\",\"type\":\"GlyphRenderer\"},{\"attributes\":{\"line_alpha\":0.1,\"line_color\":\"#1f77b4\",\"line_width\":3,\"x\":{\"field\":\"x\"},\"y\":{\"field\":\"y\"}},\"id\":\"7a60b894-38da-4368-8c3f-a69c17fe5f93\",\"type\":\"Line\"},{\"attributes\":{\"source\":{\"id\":\"0141d613-479d-4790-921c-ab2ed6df8e53\",\"type\":\"ColumnDataSource\"}},\"id\":\"3ff0ab13-d7ed-4d77-ac98-4cf4d94f6eae\",\"type\":\"CDSView\"},{\"attributes\":{\"callback\":null,\"column_names\":[\"x\",\"y\"],\"data\":{\"x\":{\"__ndarray__\":\"8K69k3Keib/kAxc4lDKJv9OCKWDBUYi/M9YL+fhoh7/NSWfhZHuGvw2WTy5EiYW/TXk1v+iShL/ALf7MnpiDv+WlUlwrm4K/9Qq2EnSbgb9llfxF1ZqAv8lFTVyUfnq/H2FVE/0HdL8l+Cprd2V5v9+n6qLI4Wq/F3H3PkAzYz8PEwl1PB6EPxfnIbOwMJU/1oqPfwHloT/2dDZjHwSqP3frG+kjKLI/GdQrI/2Ptz9DssyXIVK5P+3kOUalHbc/LCSTZR5/sz90zRLUWBGuP+KhJRiZQ6Y/QwFNF3EgoD8sVun7ZB2WP2ivpgFvwIw/6+DM5ms6gT+mIgovfmhwPwZ1ZoBVayo/s0RFZje9b7/Z3mePKbWDv0PNEaufNJG/ZLBUqlMEl7+r+xHQjmWZvx/NGdBZBpm/U9zubjCXmL+EZRuhZ/+Wv9UvzJo8i5S/R0aciF1fkL9XtD6HJyuGv+nOul+xQXC/fbWLd6yDcz/ujXBGDLyMP4mJWXGiRJg/HaE5x40WoT9EsMi02BunP+GBLARsGa0/3/JqFu6wsT9Nf5H4XsG0P4i0DL87fLg/iV5nv8X1uz/WaINdXsq/P5z+JvMTd8E/F7v5HfUdwz/MjXWzN1/EP/zclukT0MU/Vygttw9Uxz+mqvm/XdXIPxOd4d38zMk/T+qJtnwHyz+LDeVdWCvKPzzhwg06mcg/1IVxmrIRxz8R/NJP9h7FPyvv9JTmIMQ/bdveCx/Twz+Qh9/JfsjDP1F+OVAzZsQ/U3nYl65YxT8QLhUCVprHP1H6Qsh5v9A/\",\"dtype\":\"float64\",\"shape\":[75]},\"y\":{\"__ndarray__\":\"GhExyth1ND/Sv8nbtpRIP2vylNV0PVE/aTum7souWD/At0SJ8fVgPw3Iuahxymc/MSNhhJWvcD/bTfBN02d3P2zb5nxnaoA/CD5h5MAGhz8NmeH1TyaQP+zrCsc9p5Y/LbKd76fGnz/bLW5ISEmmPww9YvTcQq8/JV2OstnstT8Er5Y7M8G+P0c+r3jqkcU/5h99k6ZBzj88bCIzFzjVP4enV8oyxN0//yH99nXg5D8qOpLLf0jtP5kqGJXUifQ/c9cS8kHP/D+/DpwzojQEQIEmwoanVwxA4lgXt9HgE0BSSZ2AJuIbQAMJih9jjiNA5q4l5INuK0AwTKYKRj0zQNv5fmq8/DpAaCJseHrtQkB/+zpwzoxKQM3MzMzMeFJAZmZmZmZqWEAAAAAAAFxeQM3MzMzMJmJAmpmZmZkfZUBmZmZmZhhoQDMzMzMzEWtAAAAAAAAKbkBmZmZmZoFwQM3MzMzM/XFAMzMzMzN6c0CamZmZmfZ0QAAAAAAAc3ZAZmZmZmbvd0DNzMzMzGt5QDMzMzMz6HpAmpmZmZlkfEAAAAAAAOF9QGZmZmZmXX9AZmZmZuZsgECamZmZGSuBQM3MzMxM6YFAAAAAAICngkAzMzMzs2WDQGZmZmbmI4RAmpmZmRnihEDNzMzMTKCFQAAAAACAXoZAMzMzM7Mch0BmZmZm5tqHQJqZmZkZmYhAzczMzExXiUAAAAAAgBWKQDMzMzOz04pAZmZmZuaRi0CamZmZGVCMQM3MzMxMDo1AAAAAAIDMjUAzMzMzs4qOQGZmZmbmSI9A\",\"dtype\":\"float64\",\"shape\":[75]}}},\"id\":\"f47fd0f8-f513-40e5-840c-d85294cd3c9b\",\"type\":\"ColumnDataSource\"}],\"root_ids\":[\"a3b7ca5e-dcef-47ef-b901-c3fbceb3a532\"]},\"title\":\"Bokeh Application\",\"version\":\"0.12.14\"}};\n",
       "  var render_items = [{\"docid\":\"91626ee7-1ba6-4392-a573-612189f5a22b\",\"elementid\":\"a08b3b75-c3aa-4500-9e7d-c78d7e445449\",\"modelid\":\"a3b7ca5e-dcef-47ef-b901-c3fbceb3a532\"}];\n",
       "  root.Bokeh.embed.embed_items_notebook(docs_json, render_items);\n",
       "\n",
       "  }\n",
       "  if (root.Bokeh !== undefined) {\n",
       "    embed_document(root);\n",
       "  } else {\n",
       "    var attempts = 0;\n",
       "    var timer = setInterval(function(root) {\n",
       "      if (root.Bokeh !== undefined) {\n",
       "        embed_document(root);\n",
       "        clearInterval(timer);\n",
       "      }\n",
       "      attempts++;\n",
       "      if (attempts > 100) {\n",
       "        console.log(\"Bokeh: ERROR: Unable to run BokehJS code because BokehJS library is missing\")\n",
       "        clearInterval(timer);\n",
       "      }\n",
       "    }, 10, root)\n",
       "  }\n",
       "})(window);"
      ],
      "application/vnd.bokehjs_exec.v0+json": ""
     },
     "metadata": {
      "application/vnd.bokehjs_exec.v0+json": {
       "id": "a3b7ca5e-dcef-47ef-b901-c3fbceb3a532"
      }
     },
     "output_type": "display_data"
    },
    {
     "name": "stdout",
     "output_type": "stream",
     "text": [
      "FIGURE. Cooling rate profiles.\n"
     ]
    },
    {
     "data": {
      "text/html": [
       "<a id=\"Flux_Comparison\"></a>"
      ],
      "text/plain": [
       "<IPython.core.display.HTML object>"
      ]
     },
     "metadata": {},
     "output_type": "display_data"
    },
    {
     "data": {
      "text/markdown": [
       "# Flux Comparison"
      ],
      "text/plain": [
       "<IPython.core.display.Markdown object>"
      ]
     },
     "metadata": {},
     "output_type": "display_data"
    },
    {
     "data": {
      "text/html": [
       "<div>\n",
       "<style>\n",
       "    .dataframe thead tr:only-child th {\n",
       "        text-align: right;\n",
       "    }\n",
       "\n",
       "    .dataframe thead th {\n",
       "        text-align: left;\n",
       "    }\n",
       "\n",
       "    .dataframe tbody tr th {\n",
       "        vertical-align: top;\n",
       "    }\n",
       "</style>\n",
       "<table border=\"1\" class=\"dataframe\">\n",
       "  <thead>\n",
       "    <tr style=\"text-align: right;\">\n",
       "      <th></th>\n",
       "      <th></th>\n",
       "      <th>flug</th>\n",
       "      <th>fldg</th>\n",
       "      <th>fnetg</th>\n",
       "    </tr>\n",
       "    <tr>\n",
       "      <th>pressure</th>\n",
       "      <th>level</th>\n",
       "      <th></th>\n",
       "      <th></th>\n",
       "      <th></th>\n",
       "    </tr>\n",
       "  </thead>\n",
       "  <tbody>\n",
       "    <tr>\n",
       "      <th>0.0000</th>\n",
       "      <th>1</th>\n",
       "      <td>-15.215896</td>\n",
       "      <td>0.000000</td>\n",
       "      <td>-15.215896</td>\n",
       "    </tr>\n",
       "    <tr>\n",
       "      <th>1.0685</th>\n",
       "      <th>24</th>\n",
       "      <td>-15.215135</td>\n",
       "      <td>0.007944</td>\n",
       "      <td>-15.207191</td>\n",
       "    </tr>\n",
       "    <tr>\n",
       "      <th>1013.0000</th>\n",
       "      <th>76</th>\n",
       "      <td>-26.962746</td>\n",
       "      <td>22.512917</td>\n",
       "      <td>-4.449829</td>\n",
       "    </tr>\n",
       "  </tbody>\n",
       "</table>\n",
       "</div>"
      ],
      "text/plain": [
       "                      flug       fldg      fnetg\n",
       "pressure  level                                 \n",
       "0.0000    1     -15.215896   0.000000 -15.215896\n",
       "1.0685    24    -15.215135   0.007944 -15.207191\n",
       "1013.0000 76    -26.962746  22.512917  -4.449829"
      ]
     },
     "metadata": {},
     "output_type": "display_data"
    },
    {
     "name": "stdout",
     "output_type": "stream",
     "text": [
      "Table. Fluxes. CRD\n"
     ]
    },
    {
     "data": {
      "text/html": [
       "<div>\n",
       "<style>\n",
       "    .dataframe thead tr:only-child th {\n",
       "        text-align: right;\n",
       "    }\n",
       "\n",
       "    .dataframe thead th {\n",
       "        text-align: left;\n",
       "    }\n",
       "\n",
       "    .dataframe tbody tr th {\n",
       "        vertical-align: top;\n",
       "    }\n",
       "</style>\n",
       "<table border=\"1\" class=\"dataframe\">\n",
       "  <thead>\n",
       "    <tr style=\"text-align: right;\">\n",
       "      <th></th>\n",
       "      <th></th>\n",
       "      <th>flug</th>\n",
       "      <th>fldg</th>\n",
       "      <th>fnetg</th>\n",
       "    </tr>\n",
       "    <tr>\n",
       "      <th>pressure</th>\n",
       "      <th>level</th>\n",
       "      <th></th>\n",
       "      <th></th>\n",
       "      <th></th>\n",
       "    </tr>\n",
       "  </thead>\n",
       "  <tbody>\n",
       "    <tr>\n",
       "      <th>0.0000</th>\n",
       "      <th>1</th>\n",
       "      <td>-15.472714</td>\n",
       "      <td>0.000000</td>\n",
       "      <td>-15.472714</td>\n",
       "    </tr>\n",
       "    <tr>\n",
       "      <th>1.0685</th>\n",
       "      <th>24</th>\n",
       "      <td>-15.470120</td>\n",
       "      <td>0.005750</td>\n",
       "      <td>-15.464370</td>\n",
       "    </tr>\n",
       "    <tr>\n",
       "      <th>1013.0000</th>\n",
       "      <th>76</th>\n",
       "      <td>-26.962746</td>\n",
       "      <td>22.590111</td>\n",
       "      <td>-4.372635</td>\n",
       "    </tr>\n",
       "  </tbody>\n",
       "</table>\n",
       "</div>"
      ],
      "text/plain": [
       "                      flug       fldg      fnetg\n",
       "pressure  level                                 \n",
       "0.0000    1     -15.472714   0.000000 -15.472714\n",
       "1.0685    24    -15.470120   0.005750 -15.464370\n",
       "1013.0000 76    -26.962746  22.590111  -4.372635"
      ]
     },
     "metadata": {},
     "output_type": "display_data"
    },
    {
     "name": "stdout",
     "output_type": "stream",
     "text": [
      "Table. Fluxes. WGT igg=10\n"
     ]
    },
    {
     "data": {
      "text/html": [
       "<div>\n",
       "<style>\n",
       "    .dataframe thead tr:only-child th {\n",
       "        text-align: right;\n",
       "    }\n",
       "\n",
       "    .dataframe thead th {\n",
       "        text-align: left;\n",
       "    }\n",
       "\n",
       "    .dataframe tbody tr th {\n",
       "        vertical-align: top;\n",
       "    }\n",
       "</style>\n",
       "<table border=\"1\" class=\"dataframe\">\n",
       "  <thead>\n",
       "    <tr style=\"text-align: right;\">\n",
       "      <th></th>\n",
       "      <th></th>\n",
       "      <th>flug</th>\n",
       "      <th>fldg</th>\n",
       "      <th>fnetg</th>\n",
       "    </tr>\n",
       "    <tr>\n",
       "      <th>pressure</th>\n",
       "      <th>level</th>\n",
       "      <th></th>\n",
       "      <th></th>\n",
       "      <th></th>\n",
       "    </tr>\n",
       "  </thead>\n",
       "  <tbody>\n",
       "    <tr>\n",
       "      <th>0.0000</th>\n",
       "      <th>1</th>\n",
       "      <td>-15.270898</td>\n",
       "      <td>0.000000</td>\n",
       "      <td>-15.270898</td>\n",
       "    </tr>\n",
       "    <tr>\n",
       "      <th>1.0685</th>\n",
       "      <th>24</th>\n",
       "      <td>-15.268568</td>\n",
       "      <td>0.006098</td>\n",
       "      <td>-15.262470</td>\n",
       "    </tr>\n",
       "    <tr>\n",
       "      <th>1013.0000</th>\n",
       "      <th>76</th>\n",
       "      <td>-26.962746</td>\n",
       "      <td>22.582471</td>\n",
       "      <td>-4.380275</td>\n",
       "    </tr>\n",
       "  </tbody>\n",
       "</table>\n",
       "</div>"
      ],
      "text/plain": [
       "                      flug       fldg      fnetg\n",
       "pressure  level                                 \n",
       "0.0000    1     -15.270898   0.000000 -15.270898\n",
       "1.0685    24    -15.268568   0.006098 -15.262470\n",
       "1013.0000 76    -26.962746  22.582471  -4.380275"
      ]
     },
     "metadata": {},
     "output_type": "display_data"
    },
    {
     "name": "stdout",
     "output_type": "stream",
     "text": [
      "Table. Fluxes. WGT igg=1\n"
     ]
    },
    {
     "data": {
      "text/html": [
       "<div>\n",
       "<style>\n",
       "    .dataframe thead tr:only-child th {\n",
       "        text-align: right;\n",
       "    }\n",
       "\n",
       "    .dataframe thead th {\n",
       "        text-align: left;\n",
       "    }\n",
       "\n",
       "    .dataframe tbody tr th {\n",
       "        vertical-align: top;\n",
       "    }\n",
       "</style>\n",
       "<table border=\"1\" class=\"dataframe\">\n",
       "  <thead>\n",
       "    <tr style=\"text-align: right;\">\n",
       "      <th></th>\n",
       "      <th></th>\n",
       "      <th>flug</th>\n",
       "      <th>fldg</th>\n",
       "      <th>fnetg</th>\n",
       "    </tr>\n",
       "    <tr>\n",
       "      <th>pressure</th>\n",
       "      <th>level</th>\n",
       "      <th></th>\n",
       "      <th></th>\n",
       "      <th></th>\n",
       "    </tr>\n",
       "  </thead>\n",
       "  <tbody>\n",
       "    <tr>\n",
       "      <th>0.0000</th>\n",
       "      <th>1</th>\n",
       "      <td>-0.256818</td>\n",
       "      <td>0.000000</td>\n",
       "      <td>-0.256818</td>\n",
       "    </tr>\n",
       "    <tr>\n",
       "      <th>1.0685</th>\n",
       "      <th>24</th>\n",
       "      <td>-0.254985</td>\n",
       "      <td>-0.002195</td>\n",
       "      <td>-0.257179</td>\n",
       "    </tr>\n",
       "    <tr>\n",
       "      <th>1013.0000</th>\n",
       "      <th>76</th>\n",
       "      <td>0.000000</td>\n",
       "      <td>0.077194</td>\n",
       "      <td>0.077195</td>\n",
       "    </tr>\n",
       "  </tbody>\n",
       "</table>\n",
       "</div>"
      ],
      "text/plain": [
       "                     flug      fldg     fnetg\n",
       "pressure  level                              \n",
       "0.0000    1     -0.256818  0.000000 -0.256818\n",
       "1.0685    24    -0.254985 -0.002195 -0.257179\n",
       "1013.0000 76     0.000000  0.077194  0.077195"
      ]
     },
     "metadata": {},
     "output_type": "display_data"
    },
    {
     "name": "stdout",
     "output_type": "stream",
     "text": [
      "Table. Fluxes. (WGT igg=10) - (CRD)\n"
     ]
    },
    {
     "data": {
      "text/html": [
       "<div>\n",
       "<style>\n",
       "    .dataframe thead tr:only-child th {\n",
       "        text-align: right;\n",
       "    }\n",
       "\n",
       "    .dataframe thead th {\n",
       "        text-align: left;\n",
       "    }\n",
       "\n",
       "    .dataframe tbody tr th {\n",
       "        vertical-align: top;\n",
       "    }\n",
       "</style>\n",
       "<table border=\"1\" class=\"dataframe\">\n",
       "  <thead>\n",
       "    <tr style=\"text-align: right;\">\n",
       "      <th></th>\n",
       "      <th></th>\n",
       "      <th>flug</th>\n",
       "      <th>fldg</th>\n",
       "      <th>fnetg</th>\n",
       "    </tr>\n",
       "    <tr>\n",
       "      <th>pressure</th>\n",
       "      <th>level</th>\n",
       "      <th></th>\n",
       "      <th></th>\n",
       "      <th></th>\n",
       "    </tr>\n",
       "  </thead>\n",
       "  <tbody>\n",
       "    <tr>\n",
       "      <th>0.0000</th>\n",
       "      <th>1</th>\n",
       "      <td>-0.055002</td>\n",
       "      <td>0.000000</td>\n",
       "      <td>-0.055002</td>\n",
       "    </tr>\n",
       "    <tr>\n",
       "      <th>1.0685</th>\n",
       "      <th>24</th>\n",
       "      <td>-0.053433</td>\n",
       "      <td>-0.001846</td>\n",
       "      <td>-0.055279</td>\n",
       "    </tr>\n",
       "    <tr>\n",
       "      <th>1013.0000</th>\n",
       "      <th>76</th>\n",
       "      <td>0.000000</td>\n",
       "      <td>0.069554</td>\n",
       "      <td>0.069554</td>\n",
       "    </tr>\n",
       "  </tbody>\n",
       "</table>\n",
       "</div>"
      ],
      "text/plain": [
       "                     flug      fldg     fnetg\n",
       "pressure  level                              \n",
       "0.0000    1     -0.055002  0.000000 -0.055002\n",
       "1.0685    24    -0.053433 -0.001846 -0.055279\n",
       "1013.0000 76     0.000000  0.069554  0.069554"
      ]
     },
     "metadata": {},
     "output_type": "display_data"
    },
    {
     "name": "stdout",
     "output_type": "stream",
     "text": [
      "Table. Fluxes. (WGT igg=1) - (CRD)\n"
     ]
    },
    {
     "data": {
      "text/html": [
       "<a id=\"Best-fit_Parameters\"></a>"
      ],
      "text/plain": [
       "<IPython.core.display.HTML object>"
      ]
     },
     "metadata": {},
     "output_type": "display_data"
    },
    {
     "data": {
      "text/markdown": [
       "# Best-fit Parameters"
      ],
      "text/plain": [
       "<IPython.core.display.Markdown object>"
      ]
     },
     "metadata": {},
     "output_type": "display_data"
    },
    {
     "name": "stdout",
     "output_type": "stream",
     "text": [
      "Best-fit values for each (gas, band)\n",
      "------------------------------------\n",
      "o h2o band7\n",
      "  molecule = h2o\n",
      "  band = 7\n",
      "  commitnumber = 043bdfe\n",
      "  vmin = 1215\n",
      "  vmax = 1380\n",
      "  dv = 0.001\n",
      "  nv = 1000\n",
      "  ref_pts = [(600, 250)]\n",
      "  ng_refs = [7]\n",
      "  ng_adju = [0]\n",
      "  klin = 0\n",
      "  option_wgt_k = 1\n",
      "  wgt = [(0.5, 0.5, 0.5, 0.5, 0.5, 0.5, 0.9)]\n",
      "  w_diffuse = [(2, 1.6, 1.6, 1.6, 1.6, 1.6, 1.8)]\n",
      "  option_wgt_flux = 1\n",
      "  atmpro = mls\n",
      "  tsfc = 294\n",
      "  conc = None\n",
      "  option_compute_btable = 0\n",
      "  option_compute_ktable = 0\n",
      "o n2o band7\n",
      "  molecule = n2o\n",
      "  band = 7\n",
      "  commitnumber = 043bdfe\n",
      "  vmin = 1215\n",
      "  vmax = 1380\n",
      "  dv = 0.001\n",
      "  nv = 1000\n",
      "  ref_pts = [(1, 250), (500, 250)]\n",
      "  ng_refs = [2, 2]\n",
      "  ng_adju = [0, 0]\n",
      "  klin = 2.22e-20\n",
      "  option_wgt_k = 1\n",
      "  wgt = [(0.6, 0.5), (0.6, 0.9)]\n",
      "  w_diffuse = [(1.8, 1.66), (1.6, 1.8)]\n",
      "  option_wgt_flux = 1\n",
      "  atmpro = mls\n",
      "  tsfc = 294\n",
      "  conc = 3.2e-07\n",
      "  option_compute_btable = 0\n",
      "  option_compute_ktable = 0\n"
     ]
    }
   ],
   "source": [
    "script()"
   ]
  },
  {
   "cell_type": "code",
   "execution_count": 12,
   "metadata": {},
   "outputs": [
    {
     "data": {
      "text/html": [
       "<script>\n",
       "code_show=true; \n",
       "function code_toggle() {\n",
       " if (code_show){\n",
       " $('div.input').hide();\n",
       " } else {\n",
       " $('div.input').show();\n",
       " }\n",
       " code_show = !code_show\n",
       "} \n",
       "$( document ).ready(code_toggle);\n",
       "</script>\n",
       "<form action=\"javascript:code_toggle()\"><input type=\"submit\" value=\"Click here to toggle on/off the raw code.\"></form>"
      ],
      "text/plain": [
       "<IPython.core.display.HTML object>"
      ]
     },
     "execution_count": 12,
     "metadata": {},
     "output_type": "execute_result"
    }
   ],
   "source": [
    "display.HTML('''<script>\n",
    "code_show=true; \n",
    "function code_toggle() {\n",
    " if (code_show){\n",
    " $('div.input').hide();\n",
    " } else {\n",
    " $('div.input').show();\n",
    " }\n",
    " code_show = !code_show\n",
    "} \n",
    "$( document ).ready(code_toggle);\n",
    "</script>\n",
    "<form action=\"javascript:code_toggle()\"><input type=\"submit\" value=\"Click here to toggle on/off the raw code.\"></form>''')"
   ]
  }
 ],
 "metadata": {
  "kernelspec": {
   "display_name": "Python 3",
   "language": "python",
   "name": "python3"
  },
  "language_info": {
   "codemirror_mode": {
    "name": "ipython",
    "version": 3
   },
   "file_extension": ".py",
   "mimetype": "text/x-python",
   "name": "python",
   "nbconvert_exporter": "python",
   "pygments_lexer": "ipython3",
   "version": "3.6.1"
  }
 },
 "nbformat": 4,
 "nbformat_minor": 2
}
