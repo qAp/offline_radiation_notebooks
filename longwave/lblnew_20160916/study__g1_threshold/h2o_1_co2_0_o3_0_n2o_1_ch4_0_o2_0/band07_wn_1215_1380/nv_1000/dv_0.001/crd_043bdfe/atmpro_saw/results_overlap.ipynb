{
 "cells": [
  {
   "cell_type": "code",
   "execution_count": 1,
   "metadata": {
    "collapsed": true
   },
   "outputs": [],
   "source": [
    "%matplotlib inline\n",
    "import os\n",
    "import re\n",
    "import io\n",
    "import itertools\n",
    "import pprint\n",
    "\n",
    "from bokeh.io import output_notebook, show\n",
    "from bokeh.layouts import gridplot\n",
    "from bokeh.plotting import figure\n",
    "from bokeh.models import Range1d, Legend\n",
    "from bokeh.palettes import all_palettes\n",
    "\n",
    "import matplotlib\n",
    "import matplotlib.pyplot as plt\n",
    "import numpy as np\n",
    "import pandas as pd\n",
    "import xarray as xr\n",
    "\n",
    "import climatools.lblnew.bestfit_params as bestfits\n",
    "from climatools.lblnew import setup_bestfit, setup_overlap\n",
    "import climatools.lblnew.pipeline as pipe_lblnew\n",
    "\n",
    "import climatools.html.html as climahtml\n",
    "from climatools.lblnew.dataio import *\n",
    "from climatools.plot.plot import *\n",
    "\n",
    "\n",
    "import IPython.display as display"
   ]
  },
  {
   "cell_type": "code",
   "execution_count": 2,
   "metadata": {
    "collapsed": true
   },
   "outputs": [],
   "source": [
    "%run param.py"
   ]
  },
  {
   "cell_type": "code",
   "execution_count": 3,
   "metadata": {
    "collapsed": true
   },
   "outputs": [],
   "source": [
    "def load_output_file(path_csv):\n",
    "    '''\n",
    "    Load lblnew output .csv file to xarray.Dataset\n",
    "    \n",
    "    Parameters\n",
    "    ----------\n",
    "    path_csv: str\n",
    "              Path to the .csv file to be loaded.\n",
    "    ds: xarray.Dataset\n",
    "        Data in the input file in the form of an xarray.Dataset.\n",
    "    '''\n",
    "    toindex = ['band', 'pressure', 'igg', 'g']    \n",
    "    df = pd.read_csv(path_csv, sep=r'\\s+')\n",
    "    df = df.set_index([i for i in toindex if i in df.columns])\n",
    "    df = df.rename(columns={'sfu': 'flug',\n",
    "                            'sfd': 'fldg',\n",
    "                            'fnet': 'fnetg',\n",
    "                            'coolr': 'coolrg'})\n",
    "    ds = xr.Dataset.from_dataframe(df)\n",
    "\n",
    "    for l in ('level', 'layer'):\n",
    "        if l in ds.data_vars:\n",
    "            if len(ds[l].dims) > 1:\n",
    "                surface = {d: 0 for d in ds.dims if d != 'pressure'}\n",
    "                coord_level = ds[l][surface]\n",
    "                ds.coords[l] = ('pressure', coord_level)\n",
    "            else:\n",
    "                ds.coords[l] = ('pressure', ds[l])\n",
    "    \n",
    "    return ds"
   ]
  },
  {
   "cell_type": "code",
   "execution_count": 4,
   "metadata": {
    "collapsed": true
   },
   "outputs": [],
   "source": [
    "def lblnew_setup(param=None):\n",
    "    if 'ng_refs' in param:\n",
    "        return {'setup': setup_bestfit,\n",
    "                'fname_flux_crd': 'output_flux.dat',\n",
    "                'fname_cool_crd': 'output_coolr.dat',\n",
    "                'fname_flux_wgt': 'output_wfluxg.dat',\n",
    "                'fname_cool_wgt': 'output_wcoolrg.dat'}\n",
    "    else:\n",
    "        return {'setup': setup_overlap,\n",
    "                'fname_flux_crd': 'output_flux.dat',\n",
    "                'fname_cool_crd': 'output_coolr.dat',\n",
    "                'fname_flux_wgt': 'output_wflux.dat',\n",
    "                'fname_cool_wgt': 'output_wcoolr.dat'}\n",
    "\n",
    "    \n",
    "def load_lblnew_data(param):\n",
    "    \n",
    "    fname_dsname = [('fname_flux_crd', 'ds_flux_crd'),\n",
    "                    ('fname_cool_crd', 'ds_cool_crd'),\n",
    "                    ('fname_flux_wgt', 'ds_flux_wgt'),\n",
    "                    ('fname_cool_wgt', 'ds_cool_wgt')]\n",
    "    \n",
    "    d = lblnew_setup(param)\n",
    "    dir_fortran = pipe_lblnew.get_dir_case(param, setup=d['setup'])\n",
    "    \n",
    "    data_dict = {}\n",
    "    for fname, dsname in fname_dsname:\n",
    "        fpath = os.path.join(dir_fortran, d[fname])\n",
    "        data_dict[dsname] = load_output_file(fpath)\n",
    "    return data_dict\n",
    "    \n",
    "\n",
    "    \n",
    "    "
   ]
  },
  {
   "cell_type": "code",
   "execution_count": 5,
   "metadata": {
    "collapsed": true
   },
   "outputs": [],
   "source": [
    "d = load_lblnew_data(PARAM)\n",
    "\n",
    "DS_FLUX_CRD = d['ds_flux_crd']\n",
    "DS_COOL_CRD = d['ds_cool_crd']\n",
    "DS_FLUX_WGT = d['ds_flux_wgt']\n",
    "DS_COOL_WGT = d['ds_cool_wgt']"
   ]
  },
  {
   "cell_type": "code",
   "execution_count": 6,
   "metadata": {},
   "outputs": [
    {
     "data": {
      "text/html": [
       "\n",
       "    <div class=\"bk-root\">\n",
       "        <a href=\"https://bokeh.pydata.org\" target=\"_blank\" class=\"bk-logo bk-logo-small bk-logo-notebook\"></a>\n",
       "        <span id=\"9bd2b9fb-bc8e-46dd-8f4c-906a09222052\">Loading BokehJS ...</span>\n",
       "    </div>"
      ]
     },
     "metadata": {},
     "output_type": "display_data"
    },
    {
     "data": {
      "application/javascript": [
       "\n",
       "(function(root) {\n",
       "  function now() {\n",
       "    return new Date();\n",
       "  }\n",
       "\n",
       "  var force = true;\n",
       "\n",
       "  if (typeof (root._bokeh_onload_callbacks) === \"undefined\" || force === true) {\n",
       "    root._bokeh_onload_callbacks = [];\n",
       "    root._bokeh_is_loading = undefined;\n",
       "  }\n",
       "\n",
       "  var JS_MIME_TYPE = 'application/javascript';\n",
       "  var HTML_MIME_TYPE = 'text/html';\n",
       "  var EXEC_MIME_TYPE = 'application/vnd.bokehjs_exec.v0+json';\n",
       "  var CLASS_NAME = 'output_bokeh rendered_html';\n",
       "\n",
       "  /**\n",
       "   * Render data to the DOM node\n",
       "   */\n",
       "  function render(props, node) {\n",
       "    var script = document.createElement(\"script\");\n",
       "    node.appendChild(script);\n",
       "  }\n",
       "\n",
       "  /**\n",
       "   * Handle when an output is cleared or removed\n",
       "   */\n",
       "  function handleClearOutput(event, handle) {\n",
       "    var cell = handle.cell;\n",
       "\n",
       "    var id = cell.output_area._bokeh_element_id;\n",
       "    var server_id = cell.output_area._bokeh_server_id;\n",
       "    // Clean up Bokeh references\n",
       "    if (id !== undefined) {\n",
       "      Bokeh.index[id].model.document.clear();\n",
       "      delete Bokeh.index[id];\n",
       "    }\n",
       "\n",
       "    if (server_id !== undefined) {\n",
       "      // Clean up Bokeh references\n",
       "      var cmd = \"from bokeh.io.state import curstate; print(curstate().uuid_to_server['\" + server_id + \"'].get_sessions()[0].document.roots[0]._id)\";\n",
       "      cell.notebook.kernel.execute(cmd, {\n",
       "        iopub: {\n",
       "          output: function(msg) {\n",
       "            var element_id = msg.content.text.trim();\n",
       "            Bokeh.index[element_id].model.document.clear();\n",
       "            delete Bokeh.index[element_id];\n",
       "          }\n",
       "        }\n",
       "      });\n",
       "      // Destroy server and session\n",
       "      var cmd = \"import bokeh.io.notebook as ion; ion.destroy_server('\" + server_id + \"')\";\n",
       "      cell.notebook.kernel.execute(cmd);\n",
       "    }\n",
       "  }\n",
       "\n",
       "  /**\n",
       "   * Handle when a new output is added\n",
       "   */\n",
       "  function handleAddOutput(event, handle) {\n",
       "    var output_area = handle.output_area;\n",
       "    var output = handle.output;\n",
       "\n",
       "    // limit handleAddOutput to display_data with EXEC_MIME_TYPE content only\n",
       "    if ((output.output_type != \"display_data\") || (!output.data.hasOwnProperty(EXEC_MIME_TYPE))) {\n",
       "      return\n",
       "    }\n",
       "\n",
       "    var toinsert = output_area.element.find(\".\" + CLASS_NAME.split(' ')[0]);\n",
       "\n",
       "    if (output.metadata[EXEC_MIME_TYPE][\"id\"] !== undefined) {\n",
       "      toinsert[0].firstChild.textContent = output.data[JS_MIME_TYPE];\n",
       "      // store reference to embed id on output_area\n",
       "      output_area._bokeh_element_id = output.metadata[EXEC_MIME_TYPE][\"id\"];\n",
       "    }\n",
       "    if (output.metadata[EXEC_MIME_TYPE][\"server_id\"] !== undefined) {\n",
       "      var bk_div = document.createElement(\"div\");\n",
       "      bk_div.innerHTML = output.data[HTML_MIME_TYPE];\n",
       "      var script_attrs = bk_div.children[0].attributes;\n",
       "      for (var i = 0; i < script_attrs.length; i++) {\n",
       "        toinsert[0].firstChild.setAttribute(script_attrs[i].name, script_attrs[i].value);\n",
       "      }\n",
       "      // store reference to server id on output_area\n",
       "      output_area._bokeh_server_id = output.metadata[EXEC_MIME_TYPE][\"server_id\"];\n",
       "    }\n",
       "  }\n",
       "\n",
       "  function register_renderer(events, OutputArea) {\n",
       "\n",
       "    function append_mime(data, metadata, element) {\n",
       "      // create a DOM node to render to\n",
       "      var toinsert = this.create_output_subarea(\n",
       "        metadata,\n",
       "        CLASS_NAME,\n",
       "        EXEC_MIME_TYPE\n",
       "      );\n",
       "      this.keyboard_manager.register_events(toinsert);\n",
       "      // Render to node\n",
       "      var props = {data: data, metadata: metadata[EXEC_MIME_TYPE]};\n",
       "      render(props, toinsert[0]);\n",
       "      element.append(toinsert);\n",
       "      return toinsert\n",
       "    }\n",
       "\n",
       "    /* Handle when an output is cleared or removed */\n",
       "    events.on('clear_output.CodeCell', handleClearOutput);\n",
       "    events.on('delete.Cell', handleClearOutput);\n",
       "\n",
       "    /* Handle when a new output is added */\n",
       "    events.on('output_added.OutputArea', handleAddOutput);\n",
       "\n",
       "    /**\n",
       "     * Register the mime type and append_mime function with output_area\n",
       "     */\n",
       "    OutputArea.prototype.register_mime_type(EXEC_MIME_TYPE, append_mime, {\n",
       "      /* Is output safe? */\n",
       "      safe: true,\n",
       "      /* Index of renderer in `output_area.display_order` */\n",
       "      index: 0\n",
       "    });\n",
       "  }\n",
       "\n",
       "  // register the mime type if in Jupyter Notebook environment and previously unregistered\n",
       "  if (root.Jupyter !== undefined) {\n",
       "    var events = require('base/js/events');\n",
       "    var OutputArea = require('notebook/js/outputarea').OutputArea;\n",
       "\n",
       "    if (OutputArea.prototype.mime_types().indexOf(EXEC_MIME_TYPE) == -1) {\n",
       "      register_renderer(events, OutputArea);\n",
       "    }\n",
       "  }\n",
       "\n",
       "  \n",
       "  if (typeof (root._bokeh_timeout) === \"undefined\" || force === true) {\n",
       "    root._bokeh_timeout = Date.now() + 5000;\n",
       "    root._bokeh_failed_load = false;\n",
       "  }\n",
       "\n",
       "  var NB_LOAD_WARNING = {'data': {'text/html':\n",
       "     \"<div style='background-color: #fdd'>\\n\"+\n",
       "     \"<p>\\n\"+\n",
       "     \"BokehJS does not appear to have successfully loaded. If loading BokehJS from CDN, this \\n\"+\n",
       "     \"may be due to a slow or bad network connection. Possible fixes:\\n\"+\n",
       "     \"</p>\\n\"+\n",
       "     \"<ul>\\n\"+\n",
       "     \"<li>re-rerun `output_notebook()` to attempt to load from CDN again, or</li>\\n\"+\n",
       "     \"<li>use INLINE resources instead, as so:</li>\\n\"+\n",
       "     \"</ul>\\n\"+\n",
       "     \"<code>\\n\"+\n",
       "     \"from bokeh.resources import INLINE\\n\"+\n",
       "     \"output_notebook(resources=INLINE)\\n\"+\n",
       "     \"</code>\\n\"+\n",
       "     \"</div>\"}};\n",
       "\n",
       "  function display_loaded() {\n",
       "    var el = document.getElementById(\"9bd2b9fb-bc8e-46dd-8f4c-906a09222052\");\n",
       "    if (el != null) {\n",
       "      el.textContent = \"BokehJS is loading...\";\n",
       "    }\n",
       "    if (root.Bokeh !== undefined) {\n",
       "      if (el != null) {\n",
       "        el.textContent = \"BokehJS \" + root.Bokeh.version + \" successfully loaded.\";\n",
       "      }\n",
       "    } else if (Date.now() < root._bokeh_timeout) {\n",
       "      setTimeout(display_loaded, 100)\n",
       "    }\n",
       "  }\n",
       "\n",
       "\n",
       "  function run_callbacks() {\n",
       "    try {\n",
       "      root._bokeh_onload_callbacks.forEach(function(callback) { callback() });\n",
       "    }\n",
       "    finally {\n",
       "      delete root._bokeh_onload_callbacks\n",
       "    }\n",
       "    console.info(\"Bokeh: all callbacks have finished\");\n",
       "  }\n",
       "\n",
       "  function load_libs(js_urls, callback) {\n",
       "    root._bokeh_onload_callbacks.push(callback);\n",
       "    if (root._bokeh_is_loading > 0) {\n",
       "      console.log(\"Bokeh: BokehJS is being loaded, scheduling callback at\", now());\n",
       "      return null;\n",
       "    }\n",
       "    if (js_urls == null || js_urls.length === 0) {\n",
       "      run_callbacks();\n",
       "      return null;\n",
       "    }\n",
       "    console.log(\"Bokeh: BokehJS not loaded, scheduling load and callback at\", now());\n",
       "    root._bokeh_is_loading = js_urls.length;\n",
       "    for (var i = 0; i < js_urls.length; i++) {\n",
       "      var url = js_urls[i];\n",
       "      var s = document.createElement('script');\n",
       "      s.src = url;\n",
       "      s.async = false;\n",
       "      s.onreadystatechange = s.onload = function() {\n",
       "        root._bokeh_is_loading--;\n",
       "        if (root._bokeh_is_loading === 0) {\n",
       "          console.log(\"Bokeh: all BokehJS libraries loaded\");\n",
       "          run_callbacks()\n",
       "        }\n",
       "      };\n",
       "      s.onerror = function() {\n",
       "        console.warn(\"failed to load library \" + url);\n",
       "      };\n",
       "      console.log(\"Bokeh: injecting script tag for BokehJS library: \", url);\n",
       "      document.getElementsByTagName(\"head\")[0].appendChild(s);\n",
       "    }\n",
       "  };var element = document.getElementById(\"9bd2b9fb-bc8e-46dd-8f4c-906a09222052\");\n",
       "  if (element == null) {\n",
       "    console.log(\"Bokeh: ERROR: autoload.js configured with elementid '9bd2b9fb-bc8e-46dd-8f4c-906a09222052' but no matching script tag was found. \")\n",
       "    return false;\n",
       "  }\n",
       "\n",
       "  var js_urls = [\"https://cdn.pydata.org/bokeh/release/bokeh-0.12.14.min.js\", \"https://cdn.pydata.org/bokeh/release/bokeh-widgets-0.12.14.min.js\", \"https://cdn.pydata.org/bokeh/release/bokeh-tables-0.12.14.min.js\", \"https://cdn.pydata.org/bokeh/release/bokeh-gl-0.12.14.min.js\"];\n",
       "\n",
       "  var inline_js = [\n",
       "    function(Bokeh) {\n",
       "      Bokeh.set_log_level(\"info\");\n",
       "    },\n",
       "    \n",
       "    function(Bokeh) {\n",
       "      \n",
       "    },\n",
       "    function(Bokeh) {\n",
       "      console.log(\"Bokeh: injecting CSS: https://cdn.pydata.org/bokeh/release/bokeh-0.12.14.min.css\");\n",
       "      Bokeh.embed.inject_css(\"https://cdn.pydata.org/bokeh/release/bokeh-0.12.14.min.css\");\n",
       "      console.log(\"Bokeh: injecting CSS: https://cdn.pydata.org/bokeh/release/bokeh-widgets-0.12.14.min.css\");\n",
       "      Bokeh.embed.inject_css(\"https://cdn.pydata.org/bokeh/release/bokeh-widgets-0.12.14.min.css\");\n",
       "      console.log(\"Bokeh: injecting CSS: https://cdn.pydata.org/bokeh/release/bokeh-tables-0.12.14.min.css\");\n",
       "      Bokeh.embed.inject_css(\"https://cdn.pydata.org/bokeh/release/bokeh-tables-0.12.14.min.css\");\n",
       "    }\n",
       "  ];\n",
       "\n",
       "  function run_inline_js() {\n",
       "    \n",
       "    if ((root.Bokeh !== undefined) || (force === true)) {\n",
       "      for (var i = 0; i < inline_js.length; i++) {\n",
       "        inline_js[i].call(root, root.Bokeh);\n",
       "      }if (force === true) {\n",
       "        display_loaded();\n",
       "      }} else if (Date.now() < root._bokeh_timeout) {\n",
       "      setTimeout(run_inline_js, 100);\n",
       "    } else if (!root._bokeh_failed_load) {\n",
       "      console.log(\"Bokeh: BokehJS failed to load within specified timeout.\");\n",
       "      root._bokeh_failed_load = true;\n",
       "    } else if (force !== true) {\n",
       "      var cell = $(document.getElementById(\"9bd2b9fb-bc8e-46dd-8f4c-906a09222052\")).parents('.cell').data().cell;\n",
       "      cell.output_area.append_execute_result(NB_LOAD_WARNING)\n",
       "    }\n",
       "\n",
       "  }\n",
       "\n",
       "  if (root._bokeh_is_loading === 0) {\n",
       "    console.log(\"Bokeh: BokehJS loaded, going straight to plotting\");\n",
       "    run_inline_js();\n",
       "  } else {\n",
       "    load_libs(js_urls, function() {\n",
       "      console.log(\"Bokeh: BokehJS plotting callback run at\", now());\n",
       "      run_inline_js();\n",
       "    });\n",
       "  }\n",
       "}(window));"
      ],
      "application/vnd.bokehjs_load.v0+json": "\n(function(root) {\n  function now() {\n    return new Date();\n  }\n\n  var force = true;\n\n  if (typeof (root._bokeh_onload_callbacks) === \"undefined\" || force === true) {\n    root._bokeh_onload_callbacks = [];\n    root._bokeh_is_loading = undefined;\n  }\n\n  \n\n  \n  if (typeof (root._bokeh_timeout) === \"undefined\" || force === true) {\n    root._bokeh_timeout = Date.now() + 5000;\n    root._bokeh_failed_load = false;\n  }\n\n  var NB_LOAD_WARNING = {'data': {'text/html':\n     \"<div style='background-color: #fdd'>\\n\"+\n     \"<p>\\n\"+\n     \"BokehJS does not appear to have successfully loaded. If loading BokehJS from CDN, this \\n\"+\n     \"may be due to a slow or bad network connection. Possible fixes:\\n\"+\n     \"</p>\\n\"+\n     \"<ul>\\n\"+\n     \"<li>re-rerun `output_notebook()` to attempt to load from CDN again, or</li>\\n\"+\n     \"<li>use INLINE resources instead, as so:</li>\\n\"+\n     \"</ul>\\n\"+\n     \"<code>\\n\"+\n     \"from bokeh.resources import INLINE\\n\"+\n     \"output_notebook(resources=INLINE)\\n\"+\n     \"</code>\\n\"+\n     \"</div>\"}};\n\n  function display_loaded() {\n    var el = document.getElementById(\"9bd2b9fb-bc8e-46dd-8f4c-906a09222052\");\n    if (el != null) {\n      el.textContent = \"BokehJS is loading...\";\n    }\n    if (root.Bokeh !== undefined) {\n      if (el != null) {\n        el.textContent = \"BokehJS \" + root.Bokeh.version + \" successfully loaded.\";\n      }\n    } else if (Date.now() < root._bokeh_timeout) {\n      setTimeout(display_loaded, 100)\n    }\n  }\n\n\n  function run_callbacks() {\n    try {\n      root._bokeh_onload_callbacks.forEach(function(callback) { callback() });\n    }\n    finally {\n      delete root._bokeh_onload_callbacks\n    }\n    console.info(\"Bokeh: all callbacks have finished\");\n  }\n\n  function load_libs(js_urls, callback) {\n    root._bokeh_onload_callbacks.push(callback);\n    if (root._bokeh_is_loading > 0) {\n      console.log(\"Bokeh: BokehJS is being loaded, scheduling callback at\", now());\n      return null;\n    }\n    if (js_urls == null || js_urls.length === 0) {\n      run_callbacks();\n      return null;\n    }\n    console.log(\"Bokeh: BokehJS not loaded, scheduling load and callback at\", now());\n    root._bokeh_is_loading = js_urls.length;\n    for (var i = 0; i < js_urls.length; i++) {\n      var url = js_urls[i];\n      var s = document.createElement('script');\n      s.src = url;\n      s.async = false;\n      s.onreadystatechange = s.onload = function() {\n        root._bokeh_is_loading--;\n        if (root._bokeh_is_loading === 0) {\n          console.log(\"Bokeh: all BokehJS libraries loaded\");\n          run_callbacks()\n        }\n      };\n      s.onerror = function() {\n        console.warn(\"failed to load library \" + url);\n      };\n      console.log(\"Bokeh: injecting script tag for BokehJS library: \", url);\n      document.getElementsByTagName(\"head\")[0].appendChild(s);\n    }\n  };var element = document.getElementById(\"9bd2b9fb-bc8e-46dd-8f4c-906a09222052\");\n  if (element == null) {\n    console.log(\"Bokeh: ERROR: autoload.js configured with elementid '9bd2b9fb-bc8e-46dd-8f4c-906a09222052' but no matching script tag was found. \")\n    return false;\n  }\n\n  var js_urls = [\"https://cdn.pydata.org/bokeh/release/bokeh-0.12.14.min.js\", \"https://cdn.pydata.org/bokeh/release/bokeh-widgets-0.12.14.min.js\", \"https://cdn.pydata.org/bokeh/release/bokeh-tables-0.12.14.min.js\", \"https://cdn.pydata.org/bokeh/release/bokeh-gl-0.12.14.min.js\"];\n\n  var inline_js = [\n    function(Bokeh) {\n      Bokeh.set_log_level(\"info\");\n    },\n    \n    function(Bokeh) {\n      \n    },\n    function(Bokeh) {\n      console.log(\"Bokeh: injecting CSS: https://cdn.pydata.org/bokeh/release/bokeh-0.12.14.min.css\");\n      Bokeh.embed.inject_css(\"https://cdn.pydata.org/bokeh/release/bokeh-0.12.14.min.css\");\n      console.log(\"Bokeh: injecting CSS: https://cdn.pydata.org/bokeh/release/bokeh-widgets-0.12.14.min.css\");\n      Bokeh.embed.inject_css(\"https://cdn.pydata.org/bokeh/release/bokeh-widgets-0.12.14.min.css\");\n      console.log(\"Bokeh: injecting CSS: https://cdn.pydata.org/bokeh/release/bokeh-tables-0.12.14.min.css\");\n      Bokeh.embed.inject_css(\"https://cdn.pydata.org/bokeh/release/bokeh-tables-0.12.14.min.css\");\n    }\n  ];\n\n  function run_inline_js() {\n    \n    if ((root.Bokeh !== undefined) || (force === true)) {\n      for (var i = 0; i < inline_js.length; i++) {\n        inline_js[i].call(root, root.Bokeh);\n      }if (force === true) {\n        display_loaded();\n      }} else if (Date.now() < root._bokeh_timeout) {\n      setTimeout(run_inline_js, 100);\n    } else if (!root._bokeh_failed_load) {\n      console.log(\"Bokeh: BokehJS failed to load within specified timeout.\");\n      root._bokeh_failed_load = true;\n    } else if (force !== true) {\n      var cell = $(document.getElementById(\"9bd2b9fb-bc8e-46dd-8f4c-906a09222052\")).parents('.cell').data().cell;\n      cell.output_area.append_execute_result(NB_LOAD_WARNING)\n    }\n\n  }\n\n  if (root._bokeh_is_loading === 0) {\n    console.log(\"Bokeh: BokehJS loaded, going straight to plotting\");\n    run_inline_js();\n  } else {\n    load_libs(js_urls, function() {\n      console.log(\"Bokeh: BokehJS plotting callback run at\", now());\n      run_inline_js();\n    });\n  }\n}(window));"
     },
     "metadata": {},
     "output_type": "display_data"
    }
   ],
   "source": [
    "output_notebook()"
   ]
  },
  {
   "cell_type": "code",
   "execution_count": 7,
   "metadata": {
    "collapsed": true
   },
   "outputs": [],
   "source": [
    "def fmt_cool(ds_in):\n",
    "    ds = ds_in.copy(deep=True)\n",
    "    if 'igg' in ds.dims:\n",
    "        ds = ds.sel(igg=1)\n",
    "\n",
    "    if 'g' in ds.dims:\n",
    "        ds = ds.sum('g')\n",
    "            \n",
    "    if 'band' in ds.dims:\n",
    "        try:\n",
    "            ds = ds.squeeze('band')\n",
    "        except ValueError:\n",
    "            ds = ds.sum('band')\n",
    "                \n",
    "    return ds['coolrg']\n",
    "\n",
    "\n",
    "def pltdata_cooling_1(ds_cool_crd=None, ds_cool_wgt=None):\n",
    "    \n",
    "\n",
    "\n",
    "    colors = all_palettes['Set1'][4]\n",
    "    data = [{'label': 'CRD',\n",
    "             'srs': fmt_cool(ds_cool_crd),\n",
    "             'line_dash': 'solid', 'line_width': 1.5,\n",
    "             'marker': 'circle', 'marker_size': 5,\n",
    "             'color': colors[2], 'alpha': 1,},\n",
    "            {'label': 'WGT igg=10',\n",
    "             'srs': fmt_cool(ds_cool_wgt.sel(igg=10)),\n",
    "             'line_dash': 'solid', 'line_width': 3,\n",
    "             'marker': 'square', 'marker_size': 5,\n",
    "             'color': colors[3], 'alpha': .6},\n",
    "            {'label': 'WGT igg=1',\n",
    "             'srs': fmt_cool(ds_cool_wgt.sel(igg=1)),\n",
    "             'line_dash': 'dotdash', 'line_width': 3,\n",
    "             'marker': 'inverted_triangle', 'marker_size': 5,\n",
    "             'color': colors[1], 'alpha': .6}\n",
    "           ]\n",
    "    return data\n",
    "\n",
    "\n",
    "def nice_xlims(pltdata=None, prange=None):\n",
    "    \n",
    "    def get_slice(srs):\n",
    "        return srs.sel(pressure=slice(*prange))\n",
    "    \n",
    "    srss = [d['srs'] for d in pltdata]\n",
    "    vmin = min([get_slice(srs).min() for srs in srss])\n",
    "    vmax = max([get_slice(srs).max() for srs in srss])\n",
    "    dv = (vmax - vmin) * .01\n",
    "    return float(vmin - dv), float(vmax + dv)\n",
    "    \n",
    "\n",
    "def plt_cooling_bokeh(pltdata=None):\n",
    "    '''\n",
    "    Plot a list of cooling rate profiles using bokeh.\n",
    "    '''\n",
    "    ymin = 1e-2 \n",
    "    ymax = 1020 \n",
    "        \n",
    "    p1 = figure(title=\"Linear pressure scale\", \n",
    "                plot_width=400)        \n",
    "    xmin, xmax = nice_xlims(pltdata, prange=(50, 1050))\n",
    "    for d in pltdata:\n",
    "        if 'marker' in d:\n",
    "            getattr(p1, d['marker'])(d['srs'].values, \n",
    "                    d['srs'].coords['pressure'].values,\n",
    "                    color=d['color'], alpha=.7)\n",
    "        p1.line(d['srs'].values, \n",
    "                d['srs'].coords['pressure'].values,\n",
    "                color=d['color'], alpha=d['alpha'], \n",
    "                line_width=d['line_width'], line_dash=d['line_dash'])\n",
    "    \n",
    "    p1.y_range = Range1d(ymax, ymin)\n",
    "    p1.yaxis.axis_label = 'pressure [mb]'   \n",
    "    p1.x_range = Range1d(xmin, xmax)\n",
    "    p1.xaxis.axis_label = 'cooling rate [K/day]'\n",
    "            \n",
    "    p2 = figure(title='Log pressure scale', y_axis_type='log',\n",
    "                plot_width=560)\n",
    "    xmin, xmax = nice_xlims(pltdata, prange=(.01, 200))\n",
    "    \n",
    "    rs = []\n",
    "    for d in pltdata:\n",
    "        rd = []\n",
    "        if 'marker' in d:\n",
    "            r_mark = getattr(p2, d['marker'])(d['srs'].values, \n",
    "                        d['srs'].coords['pressure'].values,\n",
    "                        color=d['color'], alpha=.7)\n",
    "            rd.append(r_mark)\n",
    "        r_line = p2.line(d['srs'].values, \n",
    "                    d['srs'].coords['pressure'].values,\n",
    "                    color=d['color'], alpha=d['alpha'], \n",
    "                    line_width=d['line_width'], line_dash=d['line_dash'])\n",
    "        rd.append(r_line)\n",
    "      \n",
    "        rs.append(rd)\n",
    "        \n",
    "    p2.y_range = Range1d(ymax, ymin)  \n",
    "    p2.yaxis.axis_label = 'pressure [mb]'\n",
    "    \n",
    "    p2.x_range = Range1d(xmin, xmax)\n",
    "    p2.xaxis.axis_label = 'cooling rate [K/day]'\n",
    "    \n",
    "    items = [(d['label'], r) for r, d in zip(rs, pltdata)]\n",
    "    legend = Legend(items=items, location=(10, -30))\n",
    "    legend.label_text_font_size = '8pt'\n",
    "    \n",
    "    p2.add_layout(legend, 'right')  \n",
    "    \n",
    "    show(gridplot(p1, p2, ncols=2, plot_height=500))\n",
    "    \n",
    "\n",
    "def script_plt_cooling():\n",
    "    pltdata = pltdata_cooling_1(\n",
    "        ds_cool_crd=DS_COOL_CRD,\n",
    "        ds_cool_wgt=DS_COOL_WGT)\n",
    "    plt_cooling_bokeh(pltdata=pltdata)\n",
    "    print('''FIGURE. Cooling rate profiles.''')"
   ]
  },
  {
   "cell_type": "code",
   "execution_count": 8,
   "metadata": {
    "collapsed": true
   },
   "outputs": [],
   "source": [
    "def fmt_flux(ds_in):\n",
    "    ds = ds_in.copy(deep=True)\n",
    "    \n",
    "    for l in ('level', 'layer'):\n",
    "        if l in ds.data_vars:\n",
    "            if len(ds[l].dims) > 1:\n",
    "                surface = {d: 0 for d in ds.dims if d != 'pressure'}\n",
    "                coord_level = ds[l][surface]\n",
    "                ds.coords[l] = ('pressure', coord_level)\n",
    "            else:\n",
    "                ds.coords[l] = ('pressure', ds[l])\n",
    "        \n",
    "    ds = ds.isel(pressure=[0, 23, -1])\n",
    "    \n",
    "    if 'igg' in ds.dims:\n",
    "        if ds.dims['igg'] > 1:\n",
    "            print('Select an igg value to view in table.')\n",
    "            raise ValueError\n",
    "        else:\n",
    "            ds = ds.squeeze('igg').drop('igg')\n",
    "    else:\n",
    "        if 'igg' in ds.coords:\n",
    "            ds = ds.drop('igg')\n",
    "\n",
    "    if 'g' in ds.dims:\n",
    "        ds = ds.sum('g')\n",
    "            \n",
    "    if 'band' in ds.dims:\n",
    "        try:\n",
    "            ds = ds.squeeze('band').drop('band')\n",
    "        except ValueError:\n",
    "            ds = ds.sum('band')\n",
    "                \n",
    "    df = ds.to_dataframe()\n",
    "    df = df.set_index('level', append=True)               \n",
    "    return df\n",
    "\n",
    "\n",
    "def tbdata_flux(ds_flux_crd=None, ds_flux_wgt=None):\n",
    "    ilevels = [0, 23, -1]\n",
    "            \n",
    "    benchmark = {'label': 'CRD',\n",
    "                 'df': fmt_flux(ds_flux_crd)}\n",
    "    tbs = [{'label': 'WGT igg=10',\n",
    "            'df': fmt_flux(ds_flux_wgt.sel(igg=10))},\n",
    "           {'label': 'WGT igg=1',\n",
    "            'df': fmt_flux(ds_flux_wgt.sel(igg=1))}]\n",
    "    \n",
    "    data = {'benchmark': benchmark, 'others': tbs}\n",
    "    return data\n",
    "\n",
    "\n",
    "def tb_flux(tbdata=None):\n",
    "    benchmark = tbdata['benchmark']\n",
    "    others = tbdata['others']\n",
    "    \n",
    "    def show_tb(d=None):\n",
    "        display.display(d['df'])\n",
    "        print('Table.', 'Fluxes.', d['label'])\n",
    "        \n",
    "    def show_tbdiff(d0=None, d=None):\n",
    "        df = d['df']\n",
    "        df.index = d0['df'].index\n",
    "        display.display(df - d0['df'])\n",
    "        print('Table.', 'Fluxes.', \n",
    "              '({}) - ({})'.format(d['label'], d0['label']))\n",
    "        \n",
    "    show_tb(benchmark)\n",
    "    for d in others:\n",
    "        show_tb(d)\n",
    "        \n",
    "    for d in others:\n",
    "        show_tbdiff(d=d, d0=benchmark)\n",
    "        \n",
    "        \n",
    "def script_tb_flux():\n",
    "    data = tbdata_flux(ds_flux_crd=DS_FLUX_CRD,\n",
    "                       ds_flux_wgt=DS_FLUX_WGT)\n",
    "    tb_flux(tbdata=data)"
   ]
  },
  {
   "cell_type": "code",
   "execution_count": 9,
   "metadata": {
    "collapsed": true
   },
   "outputs": [],
   "source": [
    "def band_map():\n",
    "    '''\n",
    "    Maps spectral bands in lblnew to spectral bands in clirad.\n",
    "    '''\n",
    "    lblnew2clirad = {'1': '1',\n",
    "            '2': '2',\n",
    "            '3a': '3',\n",
    "            '3b': '4',\n",
    "            '3c': '5',\n",
    "            '4': '6', \n",
    "            '5': '7',\n",
    "            '6': '8',\n",
    "            '7': '9', \n",
    "            '8': '10',\n",
    "            '9': '11'}\n",
    "    \n",
    "    clirad2lblnew = {clirad: lblnew \n",
    "                     for lblnew, clirad in lblnew2clirad.items()}\n",
    "    return clirad2lblnew\n",
    "\n",
    "\n",
    "def gasbands():\n",
    "    bmap = band_map()\n",
    "    gases = list(PARAM['molecule'].keys())\n",
    "    \n",
    "    bands = [str(b) for b in PARAM['band']]\n",
    "    return list(itertools.product(gases, bands))\n",
    "\n",
    "\n",
    "def print_bestfit_params():\n",
    "    print('Best-fit values for each (gas, band)')\n",
    "    print('------------------------------------')\n",
    "    for gas, band in gasbands():\n",
    "        print('o {} band{}'.format(gas, band))\n",
    "        param = bestfits.kdist_params(molecule=gas, band=band)\n",
    "        for name, value in param.items():\n",
    "            print(2 * ' ' + '{} = {}'.format(name, value))\n",
    "\n",
    "        \n",
    "def print_input_param():        \n",
    "    for name, value in PARAM.items():\n",
    "        print('{} = {}'.format(name, value))\n"
   ]
  },
  {
   "cell_type": "code",
   "execution_count": 10,
   "metadata": {
    "collapsed": true,
    "scrolled": false
   },
   "outputs": [],
   "source": [
    "def show_html(s):\n",
    "    display.display(display.HTML(s))\n",
    "\n",
    "    \n",
    "def show_markdown(s):\n",
    "    display.display(display.Markdown(s))\n",
    "\n",
    "    \n",
    "def script():\n",
    "    \n",
    "    title = '### LBLNEW-OVERLAP'\n",
    "    s_input = 'Input Parameters'\n",
    "    s_bestfits = 'Best-fit Parameters'\n",
    "    s_plt_cooling = 'Cooling Rate Profiles'\n",
    "    s_tb_flux = 'Flux Comparison'\n",
    "    \n",
    "    # title\n",
    "    show_markdown(title)\n",
    "    \n",
    "    # TOC\n",
    "    show_markdown('### Table of Contents')\n",
    "    show_html(climahtml.getHTML_hrefanchor(s_input))\n",
    "    show_html(climahtml.getHTML_hrefanchor(s_plt_cooling))\n",
    "    show_html(climahtml.getHTML_hrefanchor(s_tb_flux))\n",
    "    show_html(climahtml.getHTML_hrefanchor(s_bestfits))\n",
    "    \n",
    "    # Input parameters\n",
    "    show_html(climahtml.getHTML_idanchor(s_input))\n",
    "    show_markdown(climahtml.getMarkdown_sectitle(s_input))\n",
    "    print_input_param()\n",
    "    \n",
    "    # Cooling rate profiles\n",
    "    show_html(climahtml.getHTML_idanchor(s_plt_cooling))\n",
    "    show_markdown(climahtml.getMarkdown_sectitle(s_plt_cooling))\n",
    "    script_plt_cooling()\n",
    "    \n",
    "    # Flux comparison\n",
    "    show_html(climahtml.getHTML_idanchor(s_tb_flux))\n",
    "    show_markdown(climahtml.getMarkdown_sectitle(s_tb_flux))\n",
    "    script_tb_flux()\n",
    "    \n",
    "    # Best-fit values\n",
    "    show_html(climahtml.getHTML_idanchor(s_bestfits))\n",
    "    show_markdown(climahtml.getMarkdown_sectitle(s_bestfits))\n",
    "    print_bestfit_params()\n",
    "   \n",
    "    "
   ]
  },
  {
   "cell_type": "code",
   "execution_count": 11,
   "metadata": {
    "scrolled": false
   },
   "outputs": [
    {
     "data": {
      "text/markdown": [
       "### LBLNEW-OVERLAP"
      ],
      "text/plain": [
       "<IPython.core.display.Markdown object>"
      ]
     },
     "metadata": {},
     "output_type": "display_data"
    },
    {
     "data": {
      "text/markdown": [
       "### Table of Contents"
      ],
      "text/plain": [
       "<IPython.core.display.Markdown object>"
      ]
     },
     "metadata": {},
     "output_type": "display_data"
    },
    {
     "data": {
      "text/html": [
       "<a href=\"#Input_Parameters\">Input Parameters</a>"
      ],
      "text/plain": [
       "<IPython.core.display.HTML object>"
      ]
     },
     "metadata": {},
     "output_type": "display_data"
    },
    {
     "data": {
      "text/html": [
       "<a href=\"#Cooling_Rate_Profiles\">Cooling Rate Profiles</a>"
      ],
      "text/plain": [
       "<IPython.core.display.HTML object>"
      ]
     },
     "metadata": {},
     "output_type": "display_data"
    },
    {
     "data": {
      "text/html": [
       "<a href=\"#Flux_Comparison\">Flux Comparison</a>"
      ],
      "text/plain": [
       "<IPython.core.display.HTML object>"
      ]
     },
     "metadata": {},
     "output_type": "display_data"
    },
    {
     "data": {
      "text/html": [
       "<a href=\"#Best-fit_Parameters\">Best-fit Parameters</a>"
      ],
      "text/plain": [
       "<IPython.core.display.HTML object>"
      ]
     },
     "metadata": {},
     "output_type": "display_data"
    },
    {
     "data": {
      "text/html": [
       "<a id=\"Input_Parameters\"></a>"
      ],
      "text/plain": [
       "<IPython.core.display.HTML object>"
      ]
     },
     "metadata": {},
     "output_type": "display_data"
    },
    {
     "data": {
      "text/markdown": [
       "# Input Parameters"
      ],
      "text/plain": [
       "<IPython.core.display.Markdown object>"
      ]
     },
     "metadata": {},
     "output_type": "display_data"
    },
    {
     "name": "stdout",
     "output_type": "stream",
     "text": [
      "commitnumber = 043bdfe\n",
      "molecule = {'h2o': 'atmpro', 'n2o': 3.2e-07}\n",
      "band = 7\n",
      "nv = 1000\n",
      "dv = 0.001\n",
      "atmpro = saw\n",
      "tsfc = 257\n"
     ]
    },
    {
     "data": {
      "text/html": [
       "<a id=\"Cooling_Rate_Profiles\"></a>"
      ],
      "text/plain": [
       "<IPython.core.display.HTML object>"
      ]
     },
     "metadata": {},
     "output_type": "display_data"
    },
    {
     "data": {
      "text/markdown": [
       "# Cooling Rate Profiles"
      ],
      "text/plain": [
       "<IPython.core.display.Markdown object>"
      ]
     },
     "metadata": {},
     "output_type": "display_data"
    },
    {
     "data": {
      "text/html": [
       "\n",
       "<div class=\"bk-root\">\n",
       "    <div class=\"bk-plotdiv\" id=\"0375d306-8ba8-4081-82e5-c500a3e360df\"></div>\n",
       "</div>"
      ]
     },
     "metadata": {},
     "output_type": "display_data"
    },
    {
     "data": {
      "application/javascript": [
       "(function(root) {\n",
       "  function embed_document(root) {\n",
       "    \n",
       "  var docs_json = {\"5ae9e742-7536-4d76-9f4a-a0b50c72b90f\":{\"roots\":{\"references\":[{\"attributes\":{\"data_source\":{\"id\":\"23d30d5a-d752-438c-9a74-f147fcc5ef42\",\"type\":\"ColumnDataSource\"},\"glyph\":{\"id\":\"9e2edd7c-86a4-488b-82bb-e681eddbe2b5\",\"type\":\"Line\"},\"hover_glyph\":null,\"muted_glyph\":null,\"nonselection_glyph\":{\"id\":\"0efc109c-3d80-4315-b94a-4f773eb33328\",\"type\":\"Line\"},\"selection_glyph\":null,\"view\":{\"id\":\"9abf29b1-df34-4a97-b1bc-986227e1862d\",\"type\":\"CDSView\"}},\"id\":\"2620bae7-d719-43cc-87de-0d4f17b79751\",\"type\":\"GlyphRenderer\"},{\"attributes\":{\"callback\":null,\"end\":0.097326014725,\"start\":-0.0059947552250000005},\"id\":\"78753d50-d4df-4aee-994a-682f0c9ef333\",\"type\":\"Range1d\"},{\"attributes\":{\"callback\":null,\"column_names\":[\"x\",\"y\"],\"data\":{\"x\":{\"__ndarray__\":\"3U3EXzJVYT8uTaEddvJoPxmcEbnqx3Q/ugj+AdcYfj/7kTnOITSEP5izuKvJ5ok/n47eqMkXkD/pQHEoxYyTP0X76GyyWpc/kULxFIaJmz/6LP+80RCgPw7LhRsHlqI/fJhx3vVVpT80kTTgdfunPxkrEXjFK6o/cBk67V4rrD+dfvVdtkKuP1+gZ13qOrA/8W38tEpjsT+QOVrLIJuyP1pzhxpzwbM/xyWbZhLZsj/XdN9fdOGuP8+qL0iDpqc/ltntoeeQoT+vfOJ1B/WYPwFBU4uVjJA/Wcmeb9HqhD/qfjMRdMR6P/bqJJmcbHA/tgSWpHZ0YD9oXIgybD1APygiUxme3P6+emeiMObiMD8m3KLV3q08P5d2FSARfy0/e+kZHZMJOr9AeTTivftXvx7kml7AVGW/+4wXDB/qbr/qR+F/zWd0v5F5cZX4snm/16iE+QQvf78ucOPZ2HqCv6+pqtJBV4W/aBBePDX3hb+IrlSnLbSCv7wqKnv/YXq/p7xSZcNSaL/ohj4JgLJYP0rTn0P5d3s/yhCIVnX2iD/qrnV0HyqSPwQsh1CEWJg/UUgt8r1Pnz+HY1vbG0mjPziILIvvr6Y/urS56GaqqT8vg26FaUWsPwE76Cbyo64/7LU7zOBtsD8srNyKS3WxPwxeek9zX7I/vfdJS2snsz//ZJs64NGzP5BGdaJzarQ/OEYVcmMCtT/YkhatKpu1PzxZMhOB9LU/2Ui5y+OItT8IfXmZEt2zPynqX6H1QbE/oUDpVa4BrT++SUX2UMGnP3vYoyH3NaI/\",\"dtype\":\"float64\",\"shape\":[75]},\"y\":{\"__ndarray__\":\"GhExyth1ND/Sv8nbtpRIP2vylNV0PVE/aTum7souWD/At0SJ8fVgPw3Iuahxymc/MSNhhJWvcD/bTfBN02d3P2zb5nxnaoA/CD5h5MAGhz8NmeH1TyaQP+zrCsc9p5Y/LbKd76fGnz/bLW5ISEmmPww9YvTcQq8/JV2OstnstT8Er5Y7M8G+P0c+r3jqkcU/5h99k6ZBzj88bCIzFzjVP4enV8oyxN0//yH99nXg5D8qOpLLf0jtP5kqGJXUifQ/c9cS8kHP/D+/DpwzojQEQIEmwoanVwxA4lgXt9HgE0BSSZ2AJuIbQAMJih9jjiNA5q4l5INuK0AwTKYKRj0zQNv5fmq8/DpAaCJseHrtQkB/+zpwzoxKQM3MzMzMeFJAZmZmZmZqWEAAAAAAAFxeQM3MzMzMJmJAmpmZmZkfZUBmZmZmZhhoQDMzMzMzEWtAAAAAAAAKbkBmZmZmZoFwQM3MzMzM/XFAMzMzMzN6c0CamZmZmfZ0QAAAAAAAc3ZAZmZmZmbvd0DNzMzMzGt5QDMzMzMz6HpAmpmZmZlkfEAAAAAAAOF9QGZmZmZmXX9AZmZmZuZsgECamZmZGSuBQM3MzMxM6YFAAAAAAICngkAzMzMzs2WDQGZmZmbmI4RAmpmZmRnihEDNzMzMTKCFQAAAAACAXoZAMzMzM7Mch0BmZmZm5tqHQJqZmZkZmYhAzczMzExXiUAAAAAAgBWKQDMzMzOz04pAZmZmZuaRi0CamZmZGVCMQM3MzMxMDo1AAAAAAIDMjUAzMzMzs4qOQGZmZmbmSI9A\",\"dtype\":\"float64\",\"shape\":[75]}}},\"id\":\"fb6ad0c2-90a1-4bc2-a5a7-a724715cae57\",\"type\":\"ColumnDataSource\"},{\"attributes\":{},\"id\":\"c86e7019-acef-4f24-bd88-3ad9eb53343d\",\"type\":\"BasicTicker\"},{\"attributes\":{\"line_alpha\":0.1,\"line_color\":\"#1f77b4\",\"line_width\":3,\"x\":{\"field\":\"x\"},\"y\":{\"field\":\"y\"}},\"id\":\"748f5a71-20b0-434c-8528-4ec06d446d2a\",\"type\":\"Line\"},{\"attributes\":{\"data_source\":{\"id\":\"44892d4d-02f4-474f-af85-c3c33ad652fd\",\"type\":\"ColumnDataSource\"},\"glyph\":{\"id\":\"2d672f39-6a4c-4fe8-b439-eb5f7efc6bb2\",\"type\":\"Line\"},\"hover_glyph\":null,\"muted_glyph\":null,\"nonselection_glyph\":{\"id\":\"748f5a71-20b0-434c-8528-4ec06d446d2a\",\"type\":\"Line\"},\"selection_glyph\":null,\"view\":{\"id\":\"93ccdde7-6be2-4199-a5a3-e606ff5b6d64\",\"type\":\"CDSView\"}},\"id\":\"932c7544-6ee5-4e31-b2e5-b051837f8b0e\",\"type\":\"GlyphRenderer\"},{\"attributes\":{\"callback\":null,\"end\":0.08708197939,\"start\":-0.01205328839},\"id\":\"32c06949-d49e-4b7d-92bf-833aedbae760\",\"type\":\"Range1d\"},{\"attributes\":{\"source\":{\"id\":\"44892d4d-02f4-474f-af85-c3c33ad652fd\",\"type\":\"ColumnDataSource\"}},\"id\":\"93ccdde7-6be2-4199-a5a3-e606ff5b6d64\",\"type\":\"CDSView\"},{\"attributes\":{\"data_source\":{\"id\":\"15f69047-f143-4fa0-9fc8-a6706fe85e34\",\"type\":\"ColumnDataSource\"},\"glyph\":{\"id\":\"d3f90e95-f55a-41e5-b491-c6f087b29e90\",\"type\":\"Line\"},\"hover_glyph\":null,\"muted_glyph\":null,\"nonselection_glyph\":{\"id\":\"9a7bd1b3-24da-434a-a52a-8c4110406aed\",\"type\":\"Line\"},\"selection_glyph\":null,\"view\":{\"id\":\"fe90f111-eb57-4ba5-a3b9-4d0c2a672526\",\"type\":\"CDSView\"}},\"id\":\"6583a461-c385-436f-8918-76ed00030aa2\",\"type\":\"GlyphRenderer\"},{\"attributes\":{\"source\":{\"id\":\"f463231c-69b4-4fe2-a8f9-c02bbdd3098f\",\"type\":\"ColumnDataSource\"}},\"id\":\"b61cb8f5-6a99-4467-b96a-9cafd5e6af2d\",\"type\":\"CDSView\"},{\"attributes\":{\"source\":{\"id\":\"f6a3dbb4-f420-416f-9fdd-6015d6accdf9\",\"type\":\"ColumnDataSource\"}},\"id\":\"816ed8e7-ce2a-4b8c-8a0a-f1c575d95479\",\"type\":\"CDSView\"},{\"attributes\":{\"num_minor_ticks\":10},\"id\":\"069a5380-7d82-47f5-b5e5-64811180353d\",\"type\":\"LogTicker\"},{\"attributes\":{\"line_alpha\":0.6,\"line_color\":\"#377eb8\",\"line_dash\":[2,4,6,4],\"line_width\":3,\"x\":{\"field\":\"x\"},\"y\":{\"field\":\"y\"}},\"id\":\"d3f90e95-f55a-41e5-b491-c6f087b29e90\",\"type\":\"Line\"},{\"attributes\":{\"callback\":null,\"end\":0.01,\"start\":1020},\"id\":\"a1b45082-fac7-4883-9664-fa80fcdd0e0a\",\"type\":\"Range1d\"},{\"attributes\":{\"source\":{\"id\":\"15f69047-f143-4fa0-9fc8-a6706fe85e34\",\"type\":\"ColumnDataSource\"}},\"id\":\"fe90f111-eb57-4ba5-a3b9-4d0c2a672526\",\"type\":\"CDSView\"},{\"attributes\":{},\"id\":\"91345df4-4ce5-41c5-98b8-7771127375da\",\"type\":\"BasicTickFormatter\"},{\"attributes\":{\"callback\":null,\"column_names\":[\"x\",\"y\"],\"data\":{\"x\":{\"__ndarray__\":\"io4nv93OTL/oGYQlP0giPwxovIkuY2M/G4Xvd4vrcz/GQPrNlDt/Px/5+WpkonM/9AmCwv69jD9AaD18mSiSP0EXr6eNUpY/0Qe59RTlmj8Ag2AyruifP64Nzg1xn6Q/XO80IuMUpj8fbqAjZrSoP3Jfq11DC6s/vGqOQWEvrT8jjUkAsJqvPweda/Na5LA/taG7VAchsj+QykVjikWzP0RUG3t6lbQ/Bt6tUph8sz+MiSPIboqvP/GFlmMcnac/KXctjrsioT9wBNdMJr2XPzhtuT+Gqo4/BlGi3ZT2gj+z2DZl3zd4P2wpndkAPXA/6MEOuPaSYj8FUKpW2RxOPyJdc4lHuDY/04rhCCvIRD/4QqX1sbFHP0wLQIguUkA/ucSzTezmEL+B827cBTJSvxJMf/eRiWK/tzXDOMF4a7+EAPkHk59yvznBXvBHG3i/vVA2qcz7fb8vtEBgQfiBv8UdkABFl4W/jeBl19Sxhr+6zH3ybxCDv2tAQwrlznq/pRjiSMdkZ7+e/ILLFtFeP+w9mkM5JX0/bIFHmMVrij8lz9RvTyWTP9x9r53/iZk/P9kJOTMdoD8SSgRPxp2jP03nXdG6Aac/r2wKV0wUqj89MwpHZcqsPwoItfh3Kq8/AZhWNricsD96/9OYBoGxP82Pme0FRLI/IAOsZ57isj/DNJcRmoGzP5JeS/35DLQ/5n3DFEp+tD+nrkekF3y1P++PBtbCw7U/d/XoFWhatT/dIZXHcsmzP9pve+9gJbE/Kn96EFuqrD84yh3d2FGnP43v4UsOw6E/\",\"dtype\":\"float64\",\"shape\":[75]},\"y\":{\"__ndarray__\":\"GhExyth1ND/Sv8nbtpRIP2vylNV0PVE/aTum7souWD/At0SJ8fVgPw3Iuahxymc/MSNhhJWvcD/bTfBN02d3P2zb5nxnaoA/CD5h5MAGhz8NmeH1TyaQP+zrCsc9p5Y/LbKd76fGnz/bLW5ISEmmPww9YvTcQq8/JV2OstnstT8Er5Y7M8G+P0c+r3jqkcU/5h99k6ZBzj88bCIzFzjVP4enV8oyxN0//yH99nXg5D8qOpLLf0jtP5kqGJXUifQ/c9cS8kHP/D+/DpwzojQEQIEmwoanVwxA4lgXt9HgE0BSSZ2AJuIbQAMJih9jjiNA5q4l5INuK0AwTKYKRj0zQNv5fmq8/DpAaCJseHrtQkB/+zpwzoxKQM3MzMzMeFJAZmZmZmZqWEAAAAAAAFxeQM3MzMzMJmJAmpmZmZkfZUBmZmZmZhhoQDMzMzMzEWtAAAAAAAAKbkBmZmZmZoFwQM3MzMzM/XFAMzMzMzN6c0CamZmZmfZ0QAAAAAAAc3ZAZmZmZmbvd0DNzMzMzGt5QDMzMzMz6HpAmpmZmZlkfEAAAAAAAOF9QGZmZmZmXX9AZmZmZuZsgECamZmZGSuBQM3MzMxM6YFAAAAAAICngkAzMzMzs2WDQGZmZmbmI4RAmpmZmRnihEDNzMzMTKCFQAAAAACAXoZAMzMzM7Mch0BmZmZm5tqHQJqZmZkZmYhAzczMzExXiUAAAAAAgBWKQDMzMzOz04pAZmZmZuaRi0CamZmZGVCMQM3MzMxMDo1AAAAAAIDMjUAzMzMzs4qOQGZmZmbmSI9A\",\"dtype\":\"float64\",\"shape\":[75]}}},\"id\":\"f6a3dbb4-f420-416f-9fdd-6015d6accdf9\",\"type\":\"ColumnDataSource\"},{\"attributes\":{\"fill_alpha\":{\"value\":0.7},\"fill_color\":{\"value\":\"#377eb8\"},\"line_alpha\":{\"value\":0.7},\"line_color\":{\"value\":\"#377eb8\"},\"x\":{\"field\":\"x\"},\"y\":{\"field\":\"y\"}},\"id\":\"b76e9d97-999f-46b6-8530-c2854547b47c\",\"type\":\"InvertedTriangle\"},{\"attributes\":{},\"id\":\"5564f7cd-1d0b-46a4-b92d-c7e46c08b930\",\"type\":\"LogScale\"},{\"attributes\":{\"line_alpha\":0.1,\"line_color\":\"#1f77b4\",\"line_dash\":[2,4,6,4],\"line_width\":3,\"x\":{\"field\":\"x\"},\"y\":{\"field\":\"y\"}},\"id\":\"9a7bd1b3-24da-434a-a52a-8c4110406aed\",\"type\":\"Line\"},{\"attributes\":{\"data_source\":{\"id\":\"f6a3dbb4-f420-416f-9fdd-6015d6accdf9\",\"type\":\"ColumnDataSource\"},\"glyph\":{\"id\":\"7a33c017-1323-4de8-950c-6240e251924e\",\"type\":\"InvertedTriangle\"},\"hover_glyph\":null,\"muted_glyph\":null,\"nonselection_glyph\":{\"id\":\"d7eb84b2-f9a1-4a93-856d-81a45ad39956\",\"type\":\"InvertedTriangle\"},\"selection_glyph\":null,\"view\":{\"id\":\"816ed8e7-ce2a-4b8c-8a0a-f1c575d95479\",\"type\":\"CDSView\"}},\"id\":\"bab7d5fa-f3aa-410b-9db6-a0a38be9be5d\",\"type\":\"GlyphRenderer\"},{\"attributes\":{\"data_source\":{\"id\":\"75c0d214-6f62-462a-88ad-c282e2392f25\",\"type\":\"ColumnDataSource\"},\"glyph\":{\"id\":\"fba0055f-8d57-46d5-88f3-0324cd4bcfa2\",\"type\":\"Circle\"},\"hover_glyph\":null,\"muted_glyph\":null,\"nonselection_glyph\":{\"id\":\"29d56acd-7052-4e0e-ae7e-2f57b0d08e77\",\"type\":\"Circle\"},\"selection_glyph\":null,\"view\":{\"id\":\"6967f495-fc73-4f38-ba63-b49df2070757\",\"type\":\"CDSView\"}},\"id\":\"6fc544ea-3dc0-456d-a0dc-fdf32096ab52\",\"type\":\"GlyphRenderer\"},{\"attributes\":{\"items\":[{\"id\":\"ea832a4f-f118-479b-b161-67981248eb1e\",\"type\":\"LegendItem\"},{\"id\":\"4416b711-fa5e-46e1-8c96-284ae4687e43\",\"type\":\"LegendItem\"},{\"id\":\"60f6fee6-dd1c-4db5-b4a1-39719489ed66\",\"type\":\"LegendItem\"}],\"label_text_font_size\":{\"value\":\"8pt\"},\"location\":[10,-30],\"plot\":{\"id\":\"7a55cd0c-5f64-449e-960b-ade5fc631e60\",\"subtype\":\"Figure\",\"type\":\"Plot\"}},\"id\":\"e5def5da-6263-47c6-8db7-f5ed546b205e\",\"type\":\"Legend\"},{\"attributes\":{\"source\":{\"id\":\"6fd24797-e751-4ae6-89b7-3670078257d4\",\"type\":\"ColumnDataSource\"}},\"id\":\"aba232cf-3cbf-4929-924c-7ecea04ec550\",\"type\":\"CDSView\"},{\"attributes\":{\"label\":{\"value\":\"WGT igg=10\"},\"renderers\":[{\"id\":\"1cd63b8a-b4f3-4bfd-ab04-dd948da4dc65\",\"type\":\"GlyphRenderer\"},{\"id\":\"932c7544-6ee5-4e31-b2e5-b051837f8b0e\",\"type\":\"GlyphRenderer\"}]},\"id\":\"4416b711-fa5e-46e1-8c96-284ae4687e43\",\"type\":\"LegendItem\"},{\"attributes\":{\"children\":[{\"id\":\"0f4308fa-5a80-4906-a8cb-1442223941f3\",\"subtype\":\"Figure\",\"type\":\"Plot\"},{\"id\":\"7a55cd0c-5f64-449e-960b-ade5fc631e60\",\"subtype\":\"Figure\",\"type\":\"Plot\"}]},\"id\":\"f723981d-d142-4748-bd55-a3a53d3082ad\",\"type\":\"Row\"},{\"attributes\":{\"toolbar\":{\"id\":\"6336c5ee-ea17-41d5-a1eb-2407d3aeefdc\",\"type\":\"ProxyToolbar\"},\"toolbar_location\":\"above\"},\"id\":\"bb09b5ea-b570-4efc-adf0-6aa908ca0091\",\"type\":\"ToolbarBox\"},{\"attributes\":{\"callback\":null,\"column_names\":[\"x\",\"y\"],\"data\":{\"x\":{\"__ndarray__\":\"3U3EXzJVYT8uTaEddvJoPxmcEbnqx3Q/ugj+AdcYfj/7kTnOITSEP5izuKvJ5ok/n47eqMkXkD/pQHEoxYyTP0X76GyyWpc/kULxFIaJmz/6LP+80RCgPw7LhRsHlqI/fJhx3vVVpT80kTTgdfunPxkrEXjFK6o/cBk67V4rrD+dfvVdtkKuP1+gZ13qOrA/8W38tEpjsT+QOVrLIJuyP1pzhxpzwbM/xyWbZhLZsj/XdN9fdOGuP8+qL0iDpqc/ltntoeeQoT+vfOJ1B/WYPwFBU4uVjJA/Wcmeb9HqhD/qfjMRdMR6P/bqJJmcbHA/tgSWpHZ0YD9oXIgybD1APygiUxme3P6+emeiMObiMD8m3KLV3q08P5d2FSARfy0/e+kZHZMJOr9AeTTivftXvx7kml7AVGW/+4wXDB/qbr/qR+F/zWd0v5F5cZX4snm/16iE+QQvf78ucOPZ2HqCv6+pqtJBV4W/aBBePDX3hb+IrlSnLbSCv7wqKnv/YXq/p7xSZcNSaL/ohj4JgLJYP0rTn0P5d3s/yhCIVnX2iD/qrnV0HyqSPwQsh1CEWJg/UUgt8r1Pnz+HY1vbG0mjPziILIvvr6Y/urS56GaqqT8vg26FaUWsPwE76Cbyo64/7LU7zOBtsD8srNyKS3WxPwxeek9zX7I/vfdJS2snsz//ZJs64NGzP5BGdaJzarQ/OEYVcmMCtT/YkhatKpu1PzxZMhOB9LU/2Ui5y+OItT8IfXmZEt2zPynqX6H1QbE/oUDpVa4BrT++SUX2UMGnP3vYoyH3NaI/\",\"dtype\":\"float64\",\"shape\":[75]},\"y\":{\"__ndarray__\":\"GhExyth1ND/Sv8nbtpRIP2vylNV0PVE/aTum7souWD/At0SJ8fVgPw3Iuahxymc/MSNhhJWvcD/bTfBN02d3P2zb5nxnaoA/CD5h5MAGhz8NmeH1TyaQP+zrCsc9p5Y/LbKd76fGnz/bLW5ISEmmPww9YvTcQq8/JV2OstnstT8Er5Y7M8G+P0c+r3jqkcU/5h99k6ZBzj88bCIzFzjVP4enV8oyxN0//yH99nXg5D8qOpLLf0jtP5kqGJXUifQ/c9cS8kHP/D+/DpwzojQEQIEmwoanVwxA4lgXt9HgE0BSSZ2AJuIbQAMJih9jjiNA5q4l5INuK0AwTKYKRj0zQNv5fmq8/DpAaCJseHrtQkB/+zpwzoxKQM3MzMzMeFJAZmZmZmZqWEAAAAAAAFxeQM3MzMzMJmJAmpmZmZkfZUBmZmZmZhhoQDMzMzMzEWtAAAAAAAAKbkBmZmZmZoFwQM3MzMzM/XFAMzMzMzN6c0CamZmZmfZ0QAAAAAAAc3ZAZmZmZmbvd0DNzMzMzGt5QDMzMzMz6HpAmpmZmZlkfEAAAAAAAOF9QGZmZmZmXX9AZmZmZuZsgECamZmZGSuBQM3MzMxM6YFAAAAAAICngkAzMzMzs2WDQGZmZmbmI4RAmpmZmRnihEDNzMzMTKCFQAAAAACAXoZAMzMzM7Mch0BmZmZm5tqHQJqZmZkZmYhAzczMzExXiUAAAAAAgBWKQDMzMzOz04pAZmZmZuaRi0CamZmZGVCMQM3MzMxMDo1AAAAAAIDMjUAzMzMzs4qOQGZmZmbmSI9A\",\"dtype\":\"float64\",\"shape\":[75]}}},\"id\":\"ed3c9229-b7c4-40a2-a8bd-05fab965fda6\",\"type\":\"ColumnDataSource\"},{\"attributes\":{\"fill_alpha\":{\"value\":0.1},\"fill_color\":{\"value\":\"#1f77b4\"},\"line_alpha\":{\"value\":0.1},\"line_color\":{\"value\":\"#1f77b4\"},\"x\":{\"field\":\"x\"},\"y\":{\"field\":\"y\"}},\"id\":\"78e5edd8-1787-453e-b3bc-e58dea2ab6c4\",\"type\":\"InvertedTriangle\"},{\"attributes\":{\"source\":{\"id\":\"75c0d214-6f62-462a-88ad-c282e2392f25\",\"type\":\"ColumnDataSource\"}},\"id\":\"6967f495-fc73-4f38-ba63-b49df2070757\",\"type\":\"CDSView\"},{\"attributes\":{\"label\":{\"value\":\"CRD\"},\"renderers\":[{\"id\":\"6fc544ea-3dc0-456d-a0dc-fdf32096ab52\",\"type\":\"GlyphRenderer\"},{\"id\":\"094bb4e1-f051-4b60-bc06-e2098f6f54f8\",\"type\":\"GlyphRenderer\"}]},\"id\":\"ea832a4f-f118-479b-b161-67981248eb1e\",\"type\":\"LegendItem\"},{\"attributes\":{},\"id\":\"d9de6a55-ab78-4cf1-ba12-5c61eb9678b1\",\"type\":\"HelpTool\"},{\"attributes\":{\"data_source\":{\"id\":\"8289f529-c9f7-479e-b7c8-98a6416d0606\",\"type\":\"ColumnDataSource\"},\"glyph\":{\"id\":\"d02d9931-7197-4639-bd23-8614c452041b\",\"type\":\"Circle\"},\"hover_glyph\":null,\"muted_glyph\":null,\"nonselection_glyph\":{\"id\":\"2376471e-a7a9-4909-bf62-f60a505d3ed2\",\"type\":\"Circle\"},\"selection_glyph\":null,\"view\":{\"id\":\"daa4f008-ad73-4ac7-85e0-e7120e0dbff9\",\"type\":\"CDSView\"}},\"id\":\"93fcd138-8bf1-49a5-bce4-002770a23a18\",\"type\":\"GlyphRenderer\"},{\"attributes\":{},\"id\":\"031b1160-62a7-43c4-ba4b-7024f7793232\",\"type\":\"WheelZoomTool\"},{\"attributes\":{\"label\":{\"value\":\"WGT igg=1\"},\"renderers\":[{\"id\":\"61cecde4-b55d-45cf-9b52-4bce60a2640e\",\"type\":\"GlyphRenderer\"},{\"id\":\"6583a461-c385-436f-8918-76ed00030aa2\",\"type\":\"GlyphRenderer\"}]},\"id\":\"60f6fee6-dd1c-4db5-b4a1-39719489ed66\",\"type\":\"LegendItem\"},{\"attributes\":{\"children\":[{\"id\":\"bb09b5ea-b570-4efc-adf0-6aa908ca0091\",\"type\":\"ToolbarBox\"},{\"id\":\"3de6390c-94f9-4c94-a6bd-ab8b37be38f0\",\"type\":\"Column\"}]},\"id\":\"e66a98d1-6361-4095-871c-19fdab35e409\",\"type\":\"Column\"},{\"attributes\":{\"source\":{\"id\":\"ed3c9229-b7c4-40a2-a8bd-05fab965fda6\",\"type\":\"ColumnDataSource\"}},\"id\":\"cd21daf1-2686-4031-bbde-d41e1cdbfe06\",\"type\":\"CDSView\"},{\"attributes\":{\"fill_alpha\":{\"value\":0.1},\"fill_color\":{\"value\":\"#1f77b4\"},\"line_alpha\":{\"value\":0.1},\"line_color\":{\"value\":\"#1f77b4\"},\"x\":{\"field\":\"x\"},\"y\":{\"field\":\"y\"}},\"id\":\"d7eb84b2-f9a1-4a93-856d-81a45ad39956\",\"type\":\"InvertedTriangle\"},{\"attributes\":{\"line_alpha\":0.1,\"line_color\":\"#1f77b4\",\"line_width\":3,\"x\":{\"field\":\"x\"},\"y\":{\"field\":\"y\"}},\"id\":\"d8f8f7df-9fbc-46da-898e-3e259f4915b4\",\"type\":\"Line\"},{\"attributes\":{\"ticker\":null},\"id\":\"b9d121b4-34b6-44d1-948d-88359a2a34eb\",\"type\":\"LogTickFormatter\"},{\"attributes\":{\"source\":{\"id\":\"8289f529-c9f7-479e-b7c8-98a6416d0606\",\"type\":\"ColumnDataSource\"}},\"id\":\"daa4f008-ad73-4ac7-85e0-e7120e0dbff9\",\"type\":\"CDSView\"},{\"attributes\":{\"callback\":null,\"column_names\":[\"x\",\"y\"],\"data\":{\"x\":{\"__ndarray__\":\"tC8xepRokr/moDoMnCKQv/9vsi7qaom/14OD5ZoOgb/pz8zFN4pvv660mg0WFU0/1DjNWoAxeD/OeAIxbkKIP663D3FajZI/3i422JRemT+vzS4uQYWgPwZ7l3sWvqQ/RIkzEuMtqT/ovpcg9WetPzzG4iWiWbA/SHs6WZW9sT9NjwumGCKzP6bw7Ge7hrQ/YVd3Un3stT9c/MvAkVi3P+DBpRz5p7g/Ao6LCp+ktj9h7nlP/NCwP5fmFOzYa6Y/Es5iuvRVnD9P/SiPE8uQP9hW4OG+GYI/wfgevJrmcz+ReB+mCYttP7H7TzRPMmk/zHCTe8BPYz+/sVU1yVdXPwquY+xl01E/HA5IlM/RVz+q8CHITKBbP1+wEUS6+Fs/85svnhR5WD8fz9RKradJP02YYStjixu/qLDcDqk7Ub9EPTJSvkthvx32F8qdo2u/eRSTYPbec78mnVWj9iJ7vwUpu5TPtoG/JiqmWhxxg78TMPRnw4qAvwHBszTkVXa/VYvSpu2NYL/ALgjC3MljP7cVg08IoH4/BVRyLd64ij/rE0ii+nuTP/KgBvf285k/RJ4QeUxWoD+RLV47N76jP/b8T082Hac/Puzt5SpVqj8c2tfsDkqtPxDTw3J5468/KZasoQwJsT8AgsrcouqxP1EhY134m7I/SbQ48UIrsz+m4wk7x6uzPxvDUhMzMbQ/jww8bi3QtD/Tinma74e1PxMMCClPC7Y/R/g8UaK9tT/QvO499A60P/rfR77dVbE/02AxIgXarD/rjHh9qUmnP8ppfQElVKE/\",\"dtype\":\"float64\",\"shape\":[75]},\"y\":{\"__ndarray__\":\"GhExyth1ND/Sv8nbtpRIP2vylNV0PVE/aTum7souWD/At0SJ8fVgPw3Iuahxymc/MSNhhJWvcD/bTfBN02d3P2zb5nxnaoA/CD5h5MAGhz8NmeH1TyaQP+zrCsc9p5Y/LbKd76fGnz/bLW5ISEmmPww9YvTcQq8/JV2OstnstT8Er5Y7M8G+P0c+r3jqkcU/5h99k6ZBzj88bCIzFzjVP4enV8oyxN0//yH99nXg5D8qOpLLf0jtP5kqGJXUifQ/c9cS8kHP/D+/DpwzojQEQIEmwoanVwxA4lgXt9HgE0BSSZ2AJuIbQAMJih9jjiNA5q4l5INuK0AwTKYKRj0zQNv5fmq8/DpAaCJseHrtQkB/+zpwzoxKQM3MzMzMeFJAZmZmZmZqWEAAAAAAAFxeQM3MzMzMJmJAmpmZmZkfZUBmZmZmZhhoQDMzMzMzEWtAAAAAAAAKbkBmZmZmZoFwQM3MzMzM/XFAMzMzMzN6c0CamZmZmfZ0QAAAAAAAc3ZAZmZmZmbvd0DNzMzMzGt5QDMzMzMz6HpAmpmZmZlkfEAAAAAAAOF9QGZmZmZmXX9AZmZmZuZsgECamZmZGSuBQM3MzMxM6YFAAAAAAICngkAzMzMzs2WDQGZmZmbmI4RAmpmZmRnihEDNzMzMTKCFQAAAAACAXoZAMzMzM7Mch0BmZmZm5tqHQJqZmZkZmYhAzczMzExXiUAAAAAAgBWKQDMzMzOz04pAZmZmZuaRi0CamZmZGVCMQM3MzMxMDo1AAAAAAIDMjUAzMzMzs4qOQGZmZmbmSI9A\",\"dtype\":\"float64\",\"shape\":[75]}}},\"id\":\"8289f529-c9f7-479e-b7c8-98a6416d0606\",\"type\":\"ColumnDataSource\"},{\"attributes\":{\"callback\":null,\"column_names\":[\"x\",\"y\"],\"data\":{\"x\":{\"__ndarray__\":\"io4nv93OTL/oGYQlP0giPwxovIkuY2M/G4Xvd4vrcz/GQPrNlDt/Px/5+WpkonM/9AmCwv69jD9AaD18mSiSP0EXr6eNUpY/0Qe59RTlmj8Ag2AyruifP64Nzg1xn6Q/XO80IuMUpj8fbqAjZrSoP3Jfq11DC6s/vGqOQWEvrT8jjUkAsJqvPweda/Na5LA/taG7VAchsj+QykVjikWzP0RUG3t6lbQ/Bt6tUph8sz+MiSPIboqvP/GFlmMcnac/KXctjrsioT9wBNdMJr2XPzhtuT+Gqo4/BlGi3ZT2gj+z2DZl3zd4P2wpndkAPXA/6MEOuPaSYj8FUKpW2RxOPyJdc4lHuDY/04rhCCvIRD/4QqX1sbFHP0wLQIguUkA/ucSzTezmEL+B827cBTJSvxJMf/eRiWK/tzXDOMF4a7+EAPkHk59yvznBXvBHG3i/vVA2qcz7fb8vtEBgQfiBv8UdkABFl4W/jeBl19Sxhr+6zH3ybxCDv2tAQwrlznq/pRjiSMdkZ7+e/ILLFtFeP+w9mkM5JX0/bIFHmMVrij8lz9RvTyWTP9x9r53/iZk/P9kJOTMdoD8SSgRPxp2jP03nXdG6Aac/r2wKV0wUqj89MwpHZcqsPwoItfh3Kq8/AZhWNricsD96/9OYBoGxP82Pme0FRLI/IAOsZ57isj/DNJcRmoGzP5JeS/35DLQ/5n3DFEp+tD+nrkekF3y1P++PBtbCw7U/d/XoFWhatT/dIZXHcsmzP9pve+9gJbE/Kn96EFuqrD84yh3d2FGnP43v4UsOw6E/\",\"dtype\":\"float64\",\"shape\":[75]},\"y\":{\"__ndarray__\":\"GhExyth1ND/Sv8nbtpRIP2vylNV0PVE/aTum7souWD/At0SJ8fVgPw3Iuahxymc/MSNhhJWvcD/bTfBN02d3P2zb5nxnaoA/CD5h5MAGhz8NmeH1TyaQP+zrCsc9p5Y/LbKd76fGnz/bLW5ISEmmPww9YvTcQq8/JV2OstnstT8Er5Y7M8G+P0c+r3jqkcU/5h99k6ZBzj88bCIzFzjVP4enV8oyxN0//yH99nXg5D8qOpLLf0jtP5kqGJXUifQ/c9cS8kHP/D+/DpwzojQEQIEmwoanVwxA4lgXt9HgE0BSSZ2AJuIbQAMJih9jjiNA5q4l5INuK0AwTKYKRj0zQNv5fmq8/DpAaCJseHrtQkB/+zpwzoxKQM3MzMzMeFJAZmZmZmZqWEAAAAAAAFxeQM3MzMzMJmJAmpmZmZkfZUBmZmZmZhhoQDMzMzMzEWtAAAAAAAAKbkBmZmZmZoFwQM3MzMzM/XFAMzMzMzN6c0CamZmZmfZ0QAAAAAAAc3ZAZmZmZmbvd0DNzMzMzGt5QDMzMzMz6HpAmpmZmZlkfEAAAAAAAOF9QGZmZmZmXX9AZmZmZuZsgECamZmZGSuBQM3MzMxM6YFAAAAAAICngkAzMzMzs2WDQGZmZmbmI4RAmpmZmRnihEDNzMzMTKCFQAAAAACAXoZAMzMzM7Mch0BmZmZm5tqHQJqZmZkZmYhAzczMzExXiUAAAAAAgBWKQDMzMzOz04pAZmZmZuaRi0CamZmZGVCMQM3MzMxMDo1AAAAAAIDMjUAzMzMzs4qOQGZmZmbmSI9A\",\"dtype\":\"float64\",\"shape\":[75]}}},\"id\":\"6fd24797-e751-4ae6-89b7-3670078257d4\",\"type\":\"ColumnDataSource\"},{\"attributes\":{\"callback\":null,\"column_names\":[\"x\",\"y\"],\"data\":{\"x\":{\"__ndarray__\":\"io4nv93OTL/oGYQlP0giPwxovIkuY2M/G4Xvd4vrcz/GQPrNlDt/Px/5+WpkonM/9AmCwv69jD9AaD18mSiSP0EXr6eNUpY/0Qe59RTlmj8Ag2AyruifP64Nzg1xn6Q/XO80IuMUpj8fbqAjZrSoP3Jfq11DC6s/vGqOQWEvrT8jjUkAsJqvPweda/Na5LA/taG7VAchsj+QykVjikWzP0RUG3t6lbQ/Bt6tUph8sz+MiSPIboqvP/GFlmMcnac/KXctjrsioT9wBNdMJr2XPzhtuT+Gqo4/BlGi3ZT2gj+z2DZl3zd4P2wpndkAPXA/6MEOuPaSYj8FUKpW2RxOPyJdc4lHuDY/04rhCCvIRD/4QqX1sbFHP0wLQIguUkA/ucSzTezmEL+B827cBTJSvxJMf/eRiWK/tzXDOMF4a7+EAPkHk59yvznBXvBHG3i/vVA2qcz7fb8vtEBgQfiBv8UdkABFl4W/jeBl19Sxhr+6zH3ybxCDv2tAQwrlznq/pRjiSMdkZ7+e/ILLFtFeP+w9mkM5JX0/bIFHmMVrij8lz9RvTyWTP9x9r53/iZk/P9kJOTMdoD8SSgRPxp2jP03nXdG6Aac/r2wKV0wUqj89MwpHZcqsPwoItfh3Kq8/AZhWNricsD96/9OYBoGxP82Pme0FRLI/IAOsZ57isj/DNJcRmoGzP5JeS/35DLQ/5n3DFEp+tD+nrkekF3y1P++PBtbCw7U/d/XoFWhatT/dIZXHcsmzP9pve+9gJbE/Kn96EFuqrD84yh3d2FGnP43v4UsOw6E/\",\"dtype\":\"float64\",\"shape\":[75]},\"y\":{\"__ndarray__\":\"GhExyth1ND/Sv8nbtpRIP2vylNV0PVE/aTum7souWD/At0SJ8fVgPw3Iuahxymc/MSNhhJWvcD/bTfBN02d3P2zb5nxnaoA/CD5h5MAGhz8NmeH1TyaQP+zrCsc9p5Y/LbKd76fGnz/bLW5ISEmmPww9YvTcQq8/JV2OstnstT8Er5Y7M8G+P0c+r3jqkcU/5h99k6ZBzj88bCIzFzjVP4enV8oyxN0//yH99nXg5D8qOpLLf0jtP5kqGJXUifQ/c9cS8kHP/D+/DpwzojQEQIEmwoanVwxA4lgXt9HgE0BSSZ2AJuIbQAMJih9jjiNA5q4l5INuK0AwTKYKRj0zQNv5fmq8/DpAaCJseHrtQkB/+zpwzoxKQM3MzMzMeFJAZmZmZmZqWEAAAAAAAFxeQM3MzMzMJmJAmpmZmZkfZUBmZmZmZhhoQDMzMzMzEWtAAAAAAAAKbkBmZmZmZoFwQM3MzMzM/XFAMzMzMzN6c0CamZmZmfZ0QAAAAAAAc3ZAZmZmZmbvd0DNzMzMzGt5QDMzMzMz6HpAmpmZmZlkfEAAAAAAAOF9QGZmZmZmXX9AZmZmZuZsgECamZmZGSuBQM3MzMxM6YFAAAAAAICngkAzMzMzs2WDQGZmZmbmI4RAmpmZmRnihEDNzMzMTKCFQAAAAACAXoZAMzMzM7Mch0BmZmZm5tqHQJqZmZkZmYhAzczMzExXiUAAAAAAgBWKQDMzMzOz04pAZmZmZuaRi0CamZmZGVCMQM3MzMxMDo1AAAAAAIDMjUAzMzMzs4qOQGZmZmbmSI9A\",\"dtype\":\"float64\",\"shape\":[75]}}},\"id\":\"23d30d5a-d752-438c-9a74-f147fcc5ef42\",\"type\":\"ColumnDataSource\"},{\"attributes\":{\"bottom_units\":\"screen\",\"fill_alpha\":{\"value\":0.5},\"fill_color\":{\"value\":\"lightgrey\"},\"left_units\":\"screen\",\"level\":\"overlay\",\"line_alpha\":{\"value\":1.0},\"line_color\":{\"value\":\"black\"},\"line_dash\":[4,4],\"line_width\":{\"value\":2},\"plot\":null,\"render_mode\":\"css\",\"right_units\":\"screen\",\"top_units\":\"screen\"},\"id\":\"55a0ae7f-7777-4a21-bf1f-0e2dbbe52e4f\",\"type\":\"BoxAnnotation\"},{\"attributes\":{},\"id\":\"3527b7ef-22c1-4c92-b424-af23b62486c1\",\"type\":\"BasicTickFormatter\"},{\"attributes\":{\"axis_label\":\"cooling rate [K/day]\",\"formatter\":{\"id\":\"e0fc6ab5-c7fa-4e8d-95e4-47946c45a2f9\",\"type\":\"BasicTickFormatter\"},\"plot\":{\"id\":\"7a55cd0c-5f64-449e-960b-ade5fc631e60\",\"subtype\":\"Figure\",\"type\":\"Plot\"},\"ticker\":{\"id\":\"c86e7019-acef-4f24-bd88-3ad9eb53343d\",\"type\":\"BasicTicker\"}},\"id\":\"04ef99cf-562e-4de6-ac5f-c4a2cb706893\",\"type\":\"LinearAxis\"},{\"attributes\":{\"callback\":null,\"end\":0.01,\"start\":1020},\"id\":\"05fab263-bde9-4065-8489-f925e02dacf5\",\"type\":\"Range1d\"},{\"attributes\":{\"source\":{\"id\":\"23d30d5a-d752-438c-9a74-f147fcc5ef42\",\"type\":\"ColumnDataSource\"}},\"id\":\"9abf29b1-df34-4a97-b1bc-986227e1862d\",\"type\":\"CDSView\"},{\"attributes\":{\"data_source\":{\"id\":\"ed3c9229-b7c4-40a2-a8bd-05fab965fda6\",\"type\":\"ColumnDataSource\"},\"glyph\":{\"id\":\"6b36aef9-f5d2-4496-a382-327665a65c9e\",\"type\":\"Line\"},\"hover_glyph\":null,\"muted_glyph\":null,\"nonselection_glyph\":{\"id\":\"d8f8f7df-9fbc-46da-898e-3e259f4915b4\",\"type\":\"Line\"},\"selection_glyph\":null,\"view\":{\"id\":\"cd21daf1-2686-4031-bbde-d41e1cdbfe06\",\"type\":\"CDSView\"}},\"id\":\"06f7c5c1-e0d8-4fee-a2d3-5527fd192b65\",\"type\":\"GlyphRenderer\"},{\"attributes\":{\"overlay\":{\"id\":\"55a0ae7f-7777-4a21-bf1f-0e2dbbe52e4f\",\"type\":\"BoxAnnotation\"}},\"id\":\"d35da992-f4f3-4ca0-83da-1cc0720c5d62\",\"type\":\"BoxZoomTool\"},{\"attributes\":{\"line_alpha\":0.1,\"line_color\":\"#1f77b4\",\"line_dash\":[2,4,6,4],\"line_width\":3,\"x\":{\"field\":\"x\"},\"y\":{\"field\":\"y\"}},\"id\":\"0efc109c-3d80-4315-b94a-4f773eb33328\",\"type\":\"Line\"},{\"attributes\":{\"source\":{\"id\":\"ad761f1a-5c9d-426b-8e18-e97b9fe53786\",\"type\":\"ColumnDataSource\"}},\"id\":\"a7ed4677-e75f-4cb1-9cd8-0bce2da4611d\",\"type\":\"CDSView\"},{\"attributes\":{},\"id\":\"c1bee8c2-f36f-4c8b-924d-67b08dd54671\",\"type\":\"SaveTool\"},{\"attributes\":{\"fill_alpha\":{\"value\":0.1},\"fill_color\":{\"value\":\"#1f77b4\"},\"line_alpha\":{\"value\":0.1},\"line_color\":{\"value\":\"#1f77b4\"},\"x\":{\"field\":\"x\"},\"y\":{\"field\":\"y\"}},\"id\":\"29d56acd-7052-4e0e-ae7e-2f57b0d08e77\",\"type\":\"Circle\"},{\"attributes\":{\"data_source\":{\"id\":\"fb6ad0c2-90a1-4bc2-a5a7-a724715cae57\",\"type\":\"ColumnDataSource\"},\"glyph\":{\"id\":\"a3331c1f-9518-4e72-a8ee-08b238f67363\",\"type\":\"Square\"},\"hover_glyph\":null,\"muted_glyph\":null,\"nonselection_glyph\":{\"id\":\"923aaa74-5c95-47e8-9125-09c926a74bab\",\"type\":\"Square\"},\"selection_glyph\":null,\"view\":{\"id\":\"71bfc9cf-01d8-4bfd-8106-b0505a622194\",\"type\":\"CDSView\"}},\"id\":\"e044c09c-cd00-409d-af30-0ffb11f9c585\",\"type\":\"GlyphRenderer\"},{\"attributes\":{\"fill_alpha\":{\"value\":0.7},\"fill_color\":{\"value\":\"#4daf4a\"},\"line_alpha\":{\"value\":0.7},\"line_color\":{\"value\":\"#4daf4a\"},\"x\":{\"field\":\"x\"},\"y\":{\"field\":\"y\"}},\"id\":\"fba0055f-8d57-46d5-88f3-0324cd4bcfa2\",\"type\":\"Circle\"},{\"attributes\":{},\"id\":\"fec292e2-aec0-4b72-8f9a-670a2e27090c\",\"type\":\"ResetTool\"},{\"attributes\":{\"plot\":null,\"text\":\"Log pressure scale\"},\"id\":\"b05ddf54-61a7-4698-9d58-ef5cf9e78676\",\"type\":\"Title\"},{\"attributes\":{\"data_source\":{\"id\":\"6fd24797-e751-4ae6-89b7-3670078257d4\",\"type\":\"ColumnDataSource\"},\"glyph\":{\"id\":\"b76e9d97-999f-46b6-8530-c2854547b47c\",\"type\":\"InvertedTriangle\"},\"hover_glyph\":null,\"muted_glyph\":null,\"nonselection_glyph\":{\"id\":\"78e5edd8-1787-453e-b3bc-e58dea2ab6c4\",\"type\":\"InvertedTriangle\"},\"selection_glyph\":null,\"view\":{\"id\":\"aba232cf-3cbf-4929-924c-7ecea04ec550\",\"type\":\"CDSView\"}},\"id\":\"61cecde4-b55d-45cf-9b52-4bce60a2640e\",\"type\":\"GlyphRenderer\"},{\"attributes\":{\"line_color\":\"#4daf4a\",\"line_width\":1.5,\"x\":{\"field\":\"x\"},\"y\":{\"field\":\"y\"}},\"id\":\"7adab379-f869-4c32-9210-b5fd14b648e6\",\"type\":\"Line\"},{\"attributes\":{\"fill_alpha\":{\"value\":0.7},\"fill_color\":{\"value\":\"#377eb8\"},\"line_alpha\":{\"value\":0.7},\"line_color\":{\"value\":\"#377eb8\"},\"x\":{\"field\":\"x\"},\"y\":{\"field\":\"y\"}},\"id\":\"7a33c017-1323-4de8-950c-6240e251924e\",\"type\":\"InvertedTriangle\"},{\"attributes\":{},\"id\":\"ce9e94b8-506f-46e7-834f-1584534a2ca3\",\"type\":\"PanTool\"},{\"attributes\":{\"below\":[{\"id\":\"04ef99cf-562e-4de6-ac5f-c4a2cb706893\",\"type\":\"LinearAxis\"}],\"left\":[{\"id\":\"1dd32744-1c46-4445-bda3-5cd63d5bc8ea\",\"type\":\"LogAxis\"}],\"plot_height\":500,\"plot_width\":560,\"renderers\":[{\"id\":\"04ef99cf-562e-4de6-ac5f-c4a2cb706893\",\"type\":\"LinearAxis\"},{\"id\":\"99ac0e34-8e40-4c71-870c-f325b39bc090\",\"type\":\"Grid\"},{\"id\":\"1dd32744-1c46-4445-bda3-5cd63d5bc8ea\",\"type\":\"LogAxis\"},{\"id\":\"e11c3ef3-48df-4a69-8429-e20f85080b92\",\"type\":\"Grid\"},{\"id\":\"55a0ae7f-7777-4a21-bf1f-0e2dbbe52e4f\",\"type\":\"BoxAnnotation\"},{\"id\":\"6fc544ea-3dc0-456d-a0dc-fdf32096ab52\",\"type\":\"GlyphRenderer\"},{\"id\":\"094bb4e1-f051-4b60-bc06-e2098f6f54f8\",\"type\":\"GlyphRenderer\"},{\"id\":\"1cd63b8a-b4f3-4bfd-ab04-dd948da4dc65\",\"type\":\"GlyphRenderer\"},{\"id\":\"932c7544-6ee5-4e31-b2e5-b051837f8b0e\",\"type\":\"GlyphRenderer\"},{\"id\":\"61cecde4-b55d-45cf-9b52-4bce60a2640e\",\"type\":\"GlyphRenderer\"},{\"id\":\"6583a461-c385-436f-8918-76ed00030aa2\",\"type\":\"GlyphRenderer\"},{\"id\":\"e5def5da-6263-47c6-8db7-f5ed546b205e\",\"type\":\"Legend\"}],\"right\":[{\"id\":\"e5def5da-6263-47c6-8db7-f5ed546b205e\",\"type\":\"Legend\"}],\"title\":{\"id\":\"b05ddf54-61a7-4698-9d58-ef5cf9e78676\",\"type\":\"Title\"},\"toolbar\":{\"id\":\"07998834-7b57-4440-ad25-ae2515e671be\",\"type\":\"Toolbar\"},\"toolbar_location\":null,\"x_range\":{\"id\":\"78753d50-d4df-4aee-994a-682f0c9ef333\",\"type\":\"Range1d\"},\"x_scale\":{\"id\":\"eae785b9-d0fe-4b0e-8841-d69392f9ca62\",\"type\":\"LinearScale\"},\"y_range\":{\"id\":\"a1b45082-fac7-4883-9664-fa80fcdd0e0a\",\"type\":\"Range1d\"},\"y_scale\":{\"id\":\"5564f7cd-1d0b-46a4-b92d-c7e46c08b930\",\"type\":\"LogScale\"}},\"id\":\"7a55cd0c-5f64-449e-960b-ade5fc631e60\",\"subtype\":\"Figure\",\"type\":\"Plot\"},{\"attributes\":{\"line_alpha\":0.6,\"line_color\":\"#377eb8\",\"line_dash\":[2,4,6,4],\"line_width\":3,\"x\":{\"field\":\"x\"},\"y\":{\"field\":\"y\"}},\"id\":\"9e2edd7c-86a4-488b-82bb-e681eddbe2b5\",\"type\":\"Line\"},{\"attributes\":{\"data_source\":{\"id\":\"2d4fa971-1f93-4fcb-b23e-ac8d62fc9bec\",\"type\":\"ColumnDataSource\"},\"glyph\":{\"id\":\"7adab379-f869-4c32-9210-b5fd14b648e6\",\"type\":\"Line\"},\"hover_glyph\":null,\"muted_glyph\":null,\"nonselection_glyph\":{\"id\":\"6d478182-60a0-41e5-8cb2-d738a213f242\",\"type\":\"Line\"},\"selection_glyph\":null,\"view\":{\"id\":\"9767a815-1587-466a-8cef-7985b5f5cd43\",\"type\":\"CDSView\"}},\"id\":\"094bb4e1-f051-4b60-bc06-e2098f6f54f8\",\"type\":\"GlyphRenderer\"},{\"attributes\":{\"fill_alpha\":{\"value\":0.1},\"fill_color\":{\"value\":\"#1f77b4\"},\"line_alpha\":{\"value\":0.1},\"line_color\":{\"value\":\"#1f77b4\"},\"x\":{\"field\":\"x\"},\"y\":{\"field\":\"y\"}},\"id\":\"923aaa74-5c95-47e8-9125-09c926a74bab\",\"type\":\"Square\"},{\"attributes\":{\"callback\":null,\"column_names\":[\"x\",\"y\"],\"data\":{\"x\":{\"__ndarray__\":\"tC8xepRokr/moDoMnCKQv/9vsi7qaom/14OD5ZoOgb/pz8zFN4pvv660mg0WFU0/1DjNWoAxeD/OeAIxbkKIP663D3FajZI/3i422JRemT+vzS4uQYWgPwZ7l3sWvqQ/RIkzEuMtqT/ovpcg9WetPzzG4iWiWbA/SHs6WZW9sT9NjwumGCKzP6bw7Ge7hrQ/YVd3Un3stT9c/MvAkVi3P+DBpRz5p7g/Ao6LCp+ktj9h7nlP/NCwP5fmFOzYa6Y/Es5iuvRVnD9P/SiPE8uQP9hW4OG+GYI/wfgevJrmcz+ReB+mCYttP7H7TzRPMmk/zHCTe8BPYz+/sVU1yVdXPwquY+xl01E/HA5IlM/RVz+q8CHITKBbP1+wEUS6+Fs/85svnhR5WD8fz9RKradJP02YYStjixu/qLDcDqk7Ub9EPTJSvkthvx32F8qdo2u/eRSTYPbec78mnVWj9iJ7vwUpu5TPtoG/JiqmWhxxg78TMPRnw4qAvwHBszTkVXa/VYvSpu2NYL/ALgjC3MljP7cVg08IoH4/BVRyLd64ij/rE0ii+nuTP/KgBvf285k/RJ4QeUxWoD+RLV47N76jP/b8T082Hac/Puzt5SpVqj8c2tfsDkqtPxDTw3J5468/KZasoQwJsT8AgsrcouqxP1EhY134m7I/SbQ48UIrsz+m4wk7x6uzPxvDUhMzMbQ/jww8bi3QtD/Tinma74e1PxMMCClPC7Y/R/g8UaK9tT/QvO499A60P/rfR77dVbE/02AxIgXarD/rjHh9qUmnP8ppfQElVKE/\",\"dtype\":\"float64\",\"shape\":[75]},\"y\":{\"__ndarray__\":\"GhExyth1ND/Sv8nbtpRIP2vylNV0PVE/aTum7souWD/At0SJ8fVgPw3Iuahxymc/MSNhhJWvcD/bTfBN02d3P2zb5nxnaoA/CD5h5MAGhz8NmeH1TyaQP+zrCsc9p5Y/LbKd76fGnz/bLW5ISEmmPww9YvTcQq8/JV2OstnstT8Er5Y7M8G+P0c+r3jqkcU/5h99k6ZBzj88bCIzFzjVP4enV8oyxN0//yH99nXg5D8qOpLLf0jtP5kqGJXUifQ/c9cS8kHP/D+/DpwzojQEQIEmwoanVwxA4lgXt9HgE0BSSZ2AJuIbQAMJih9jjiNA5q4l5INuK0AwTKYKRj0zQNv5fmq8/DpAaCJseHrtQkB/+zpwzoxKQM3MzMzMeFJAZmZmZmZqWEAAAAAAAFxeQM3MzMzMJmJAmpmZmZkfZUBmZmZmZhhoQDMzMzMzEWtAAAAAAAAKbkBmZmZmZoFwQM3MzMzM/XFAMzMzMzN6c0CamZmZmfZ0QAAAAAAAc3ZAZmZmZmbvd0DNzMzMzGt5QDMzMzMz6HpAmpmZmZlkfEAAAAAAAOF9QGZmZmZmXX9AZmZmZuZsgECamZmZGSuBQM3MzMxM6YFAAAAAAICngkAzMzMzs2WDQGZmZmbmI4RAmpmZmRnihEDNzMzMTKCFQAAAAACAXoZAMzMzM7Mch0BmZmZm5tqHQJqZmZkZmYhAzczMzExXiUAAAAAAgBWKQDMzMzOz04pAZmZmZuaRi0CamZmZGVCMQM3MzMxMDo1AAAAAAIDMjUAzMzMzs4qOQGZmZmbmSI9A\",\"dtype\":\"float64\",\"shape\":[75]}}},\"id\":\"75c0d214-6f62-462a-88ad-c282e2392f25\",\"type\":\"ColumnDataSource\"},{\"attributes\":{\"line_alpha\":0.6,\"line_color\":\"#984ea3\",\"line_width\":3,\"x\":{\"field\":\"x\"},\"y\":{\"field\":\"y\"}},\"id\":\"6b36aef9-f5d2-4496-a382-327665a65c9e\",\"type\":\"Line\"},{\"attributes\":{},\"id\":\"eae785b9-d0fe-4b0e-8841-d69392f9ca62\",\"type\":\"LinearScale\"},{\"attributes\":{},\"id\":\"e0fc6ab5-c7fa-4e8d-95e4-47946c45a2f9\",\"type\":\"BasicTickFormatter\"},{\"attributes\":{\"fill_alpha\":{\"value\":0.7},\"fill_color\":{\"value\":\"#984ea3\"},\"line_alpha\":{\"value\":0.7},\"line_color\":{\"value\":\"#984ea3\"},\"x\":{\"field\":\"x\"},\"y\":{\"field\":\"y\"}},\"id\":\"45edda3b-b5dd-489f-9635-16b8f0fc9480\",\"type\":\"Square\"},{\"attributes\":{\"data_source\":{\"id\":\"ad761f1a-5c9d-426b-8e18-e97b9fe53786\",\"type\":\"ColumnDataSource\"},\"glyph\":{\"id\":\"45edda3b-b5dd-489f-9635-16b8f0fc9480\",\"type\":\"Square\"},\"hover_glyph\":null,\"muted_glyph\":null,\"nonselection_glyph\":{\"id\":\"2da192f0-4f6b-45d1-b758-e26e7a1aca81\",\"type\":\"Square\"},\"selection_glyph\":null,\"view\":{\"id\":\"a7ed4677-e75f-4cb1-9cd8-0bce2da4611d\",\"type\":\"CDSView\"}},\"id\":\"1cd63b8a-b4f3-4bfd-ab04-dd948da4dc65\",\"type\":\"GlyphRenderer\"},{\"attributes\":{\"callback\":null,\"column_names\":[\"x\",\"y\"],\"data\":{\"x\":{\"__ndarray__\":\"tC8xepRokr/moDoMnCKQv/9vsi7qaom/14OD5ZoOgb/pz8zFN4pvv660mg0WFU0/1DjNWoAxeD/OeAIxbkKIP663D3FajZI/3i422JRemT+vzS4uQYWgPwZ7l3sWvqQ/RIkzEuMtqT/ovpcg9WetPzzG4iWiWbA/SHs6WZW9sT9NjwumGCKzP6bw7Ge7hrQ/YVd3Un3stT9c/MvAkVi3P+DBpRz5p7g/Ao6LCp+ktj9h7nlP/NCwP5fmFOzYa6Y/Es5iuvRVnD9P/SiPE8uQP9hW4OG+GYI/wfgevJrmcz+ReB+mCYttP7H7TzRPMmk/zHCTe8BPYz+/sVU1yVdXPwquY+xl01E/HA5IlM/RVz+q8CHITKBbP1+wEUS6+Fs/85svnhR5WD8fz9RKradJP02YYStjixu/qLDcDqk7Ub9EPTJSvkthvx32F8qdo2u/eRSTYPbec78mnVWj9iJ7vwUpu5TPtoG/JiqmWhxxg78TMPRnw4qAvwHBszTkVXa/VYvSpu2NYL/ALgjC3MljP7cVg08IoH4/BVRyLd64ij/rE0ii+nuTP/KgBvf285k/RJ4QeUxWoD+RLV47N76jP/b8T082Hac/Puzt5SpVqj8c2tfsDkqtPxDTw3J5468/KZasoQwJsT8AgsrcouqxP1EhY134m7I/SbQ48UIrsz+m4wk7x6uzPxvDUhMzMbQ/jww8bi3QtD/Tinma74e1PxMMCClPC7Y/R/g8UaK9tT/QvO499A60P/rfR77dVbE/02AxIgXarD/rjHh9qUmnP8ppfQElVKE/\",\"dtype\":\"float64\",\"shape\":[75]},\"y\":{\"__ndarray__\":\"GhExyth1ND/Sv8nbtpRIP2vylNV0PVE/aTum7souWD/At0SJ8fVgPw3Iuahxymc/MSNhhJWvcD/bTfBN02d3P2zb5nxnaoA/CD5h5MAGhz8NmeH1TyaQP+zrCsc9p5Y/LbKd76fGnz/bLW5ISEmmPww9YvTcQq8/JV2OstnstT8Er5Y7M8G+P0c+r3jqkcU/5h99k6ZBzj88bCIzFzjVP4enV8oyxN0//yH99nXg5D8qOpLLf0jtP5kqGJXUifQ/c9cS8kHP/D+/DpwzojQEQIEmwoanVwxA4lgXt9HgE0BSSZ2AJuIbQAMJih9jjiNA5q4l5INuK0AwTKYKRj0zQNv5fmq8/DpAaCJseHrtQkB/+zpwzoxKQM3MzMzMeFJAZmZmZmZqWEAAAAAAAFxeQM3MzMzMJmJAmpmZmZkfZUBmZmZmZhhoQDMzMzMzEWtAAAAAAAAKbkBmZmZmZoFwQM3MzMzM/XFAMzMzMzN6c0CamZmZmfZ0QAAAAAAAc3ZAZmZmZmbvd0DNzMzMzGt5QDMzMzMz6HpAmpmZmZlkfEAAAAAAAOF9QGZmZmZmXX9AZmZmZuZsgECamZmZGSuBQM3MzMxM6YFAAAAAAICngkAzMzMzs2WDQGZmZmbmI4RAmpmZmRnihEDNzMzMTKCFQAAAAACAXoZAMzMzM7Mch0BmZmZm5tqHQJqZmZkZmYhAzczMzExXiUAAAAAAgBWKQDMzMzOz04pAZmZmZuaRi0CamZmZGVCMQM3MzMxMDo1AAAAAAIDMjUAzMzMzs4qOQGZmZmbmSI9A\",\"dtype\":\"float64\",\"shape\":[75]}}},\"id\":\"2d4fa971-1f93-4fcb-b23e-ac8d62fc9bec\",\"type\":\"ColumnDataSource\"},{\"attributes\":{\"fill_alpha\":{\"value\":0.1},\"fill_color\":{\"value\":\"#1f77b4\"},\"line_alpha\":{\"value\":0.1},\"line_color\":{\"value\":\"#1f77b4\"},\"x\":{\"field\":\"x\"},\"y\":{\"field\":\"y\"}},\"id\":\"2da192f0-4f6b-45d1-b758-e26e7a1aca81\",\"type\":\"Square\"},{\"attributes\":{\"fill_alpha\":{\"value\":0.7},\"fill_color\":{\"value\":\"#984ea3\"},\"line_alpha\":{\"value\":0.7},\"line_color\":{\"value\":\"#984ea3\"},\"x\":{\"field\":\"x\"},\"y\":{\"field\":\"y\"}},\"id\":\"a3331c1f-9518-4e72-a8ee-08b238f67363\",\"type\":\"Square\"},{\"attributes\":{\"plot\":{\"id\":\"7a55cd0c-5f64-449e-960b-ade5fc631e60\",\"subtype\":\"Figure\",\"type\":\"Plot\"},\"ticker\":{\"id\":\"c86e7019-acef-4f24-bd88-3ad9eb53343d\",\"type\":\"BasicTicker\"}},\"id\":\"99ac0e34-8e40-4c71-870c-f325b39bc090\",\"type\":\"Grid\"},{\"attributes\":{\"line_alpha\":0.1,\"line_color\":\"#1f77b4\",\"line_width\":1.5,\"x\":{\"field\":\"x\"},\"y\":{\"field\":\"y\"}},\"id\":\"6d478182-60a0-41e5-8cb2-d738a213f242\",\"type\":\"Line\"},{\"attributes\":{\"callback\":null,\"column_names\":[\"x\",\"y\"],\"data\":{\"x\":{\"__ndarray__\":\"io4nv93OTL/oGYQlP0giPwxovIkuY2M/G4Xvd4vrcz/GQPrNlDt/Px/5+WpkonM/9AmCwv69jD9AaD18mSiSP0EXr6eNUpY/0Qe59RTlmj8Ag2AyruifP64Nzg1xn6Q/XO80IuMUpj8fbqAjZrSoP3Jfq11DC6s/vGqOQWEvrT8jjUkAsJqvPweda/Na5LA/taG7VAchsj+QykVjikWzP0RUG3t6lbQ/Bt6tUph8sz+MiSPIboqvP/GFlmMcnac/KXctjrsioT9wBNdMJr2XPzhtuT+Gqo4/BlGi3ZT2gj+z2DZl3zd4P2wpndkAPXA/6MEOuPaSYj8FUKpW2RxOPyJdc4lHuDY/04rhCCvIRD/4QqX1sbFHP0wLQIguUkA/ucSzTezmEL+B827cBTJSvxJMf/eRiWK/tzXDOMF4a7+EAPkHk59yvznBXvBHG3i/vVA2qcz7fb8vtEBgQfiBv8UdkABFl4W/jeBl19Sxhr+6zH3ybxCDv2tAQwrlznq/pRjiSMdkZ7+e/ILLFtFeP+w9mkM5JX0/bIFHmMVrij8lz9RvTyWTP9x9r53/iZk/P9kJOTMdoD8SSgRPxp2jP03nXdG6Aac/r2wKV0wUqj89MwpHZcqsPwoItfh3Kq8/AZhWNricsD96/9OYBoGxP82Pme0FRLI/IAOsZ57isj/DNJcRmoGzP5JeS/35DLQ/5n3DFEp+tD+nrkekF3y1P++PBtbCw7U/d/XoFWhatT/dIZXHcsmzP9pve+9gJbE/Kn96EFuqrD84yh3d2FGnP43v4UsOw6E/\",\"dtype\":\"float64\",\"shape\":[75]},\"y\":{\"__ndarray__\":\"GhExyth1ND/Sv8nbtpRIP2vylNV0PVE/aTum7souWD/At0SJ8fVgPw3Iuahxymc/MSNhhJWvcD/bTfBN02d3P2zb5nxnaoA/CD5h5MAGhz8NmeH1TyaQP+zrCsc9p5Y/LbKd76fGnz/bLW5ISEmmPww9YvTcQq8/JV2OstnstT8Er5Y7M8G+P0c+r3jqkcU/5h99k6ZBzj88bCIzFzjVP4enV8oyxN0//yH99nXg5D8qOpLLf0jtP5kqGJXUifQ/c9cS8kHP/D+/DpwzojQEQIEmwoanVwxA4lgXt9HgE0BSSZ2AJuIbQAMJih9jjiNA5q4l5INuK0AwTKYKRj0zQNv5fmq8/DpAaCJseHrtQkB/+zpwzoxKQM3MzMzMeFJAZmZmZmZqWEAAAAAAAFxeQM3MzMzMJmJAmpmZmZkfZUBmZmZmZhhoQDMzMzMzEWtAAAAAAAAKbkBmZmZmZoFwQM3MzMzM/XFAMzMzMzN6c0CamZmZmfZ0QAAAAAAAc3ZAZmZmZmbvd0DNzMzMzGt5QDMzMzMz6HpAmpmZmZlkfEAAAAAAAOF9QGZmZmZmXX9AZmZmZuZsgECamZmZGSuBQM3MzMxM6YFAAAAAAICngkAzMzMzs2WDQGZmZmbmI4RAmpmZmRnihEDNzMzMTKCFQAAAAACAXoZAMzMzM7Mch0BmZmZm5tqHQJqZmZkZmYhAzczMzExXiUAAAAAAgBWKQDMzMzOz04pAZmZmZuaRi0CamZmZGVCMQM3MzMxMDo1AAAAAAIDMjUAzMzMzs4qOQGZmZmbmSI9A\",\"dtype\":\"float64\",\"shape\":[75]}}},\"id\":\"15f69047-f143-4fa0-9fc8-a6706fe85e34\",\"type\":\"ColumnDataSource\"},{\"attributes\":{\"source\":{\"id\":\"fb6ad0c2-90a1-4bc2-a5a7-a724715cae57\",\"type\":\"ColumnDataSource\"}},\"id\":\"71bfc9cf-01d8-4bfd-8106-b0505a622194\",\"type\":\"CDSView\"},{\"attributes\":{\"active_drag\":\"auto\",\"active_inspect\":\"auto\",\"active_scroll\":\"auto\",\"active_tap\":\"auto\",\"tools\":[{\"id\":\"ce9e94b8-506f-46e7-834f-1584534a2ca3\",\"type\":\"PanTool\"},{\"id\":\"031b1160-62a7-43c4-ba4b-7024f7793232\",\"type\":\"WheelZoomTool\"},{\"id\":\"d35da992-f4f3-4ca0-83da-1cc0720c5d62\",\"type\":\"BoxZoomTool\"},{\"id\":\"c1bee8c2-f36f-4c8b-924d-67b08dd54671\",\"type\":\"SaveTool\"},{\"id\":\"fec292e2-aec0-4b72-8f9a-670a2e27090c\",\"type\":\"ResetTool\"},{\"id\":\"d9de6a55-ab78-4cf1-ba12-5c61eb9678b1\",\"type\":\"HelpTool\"}]},\"id\":\"07998834-7b57-4440-ad25-ae2515e671be\",\"type\":\"Toolbar\"},{\"attributes\":{\"source\":{\"id\":\"2d4fa971-1f93-4fcb-b23e-ac8d62fc9bec\",\"type\":\"ColumnDataSource\"}},\"id\":\"9767a815-1587-466a-8cef-7985b5f5cd43\",\"type\":\"CDSView\"},{\"attributes\":{\"axis_label\":\"pressure [mb]\",\"formatter\":{\"id\":\"b9d121b4-34b6-44d1-948d-88359a2a34eb\",\"type\":\"LogTickFormatter\"},\"plot\":{\"id\":\"7a55cd0c-5f64-449e-960b-ade5fc631e60\",\"subtype\":\"Figure\",\"type\":\"Plot\"},\"ticker\":{\"id\":\"069a5380-7d82-47f5-b5e5-64811180353d\",\"type\":\"LogTicker\"}},\"id\":\"1dd32744-1c46-4445-bda3-5cd63d5bc8ea\",\"type\":\"LogAxis\"},{\"attributes\":{\"line_alpha\":0.6,\"line_color\":\"#984ea3\",\"line_width\":3,\"x\":{\"field\":\"x\"},\"y\":{\"field\":\"y\"}},\"id\":\"2d672f39-6a4c-4fe8-b439-eb5f7efc6bb2\",\"type\":\"Line\"},{\"attributes\":{\"dimension\":1,\"plot\":{\"id\":\"7a55cd0c-5f64-449e-960b-ade5fc631e60\",\"subtype\":\"Figure\",\"type\":\"Plot\"},\"ticker\":{\"id\":\"069a5380-7d82-47f5-b5e5-64811180353d\",\"type\":\"LogTicker\"}},\"id\":\"e11c3ef3-48df-4a69-8429-e20f85080b92\",\"type\":\"Grid\"},{\"attributes\":{\"callback\":null,\"column_names\":[\"x\",\"y\"],\"data\":{\"x\":{\"__ndarray__\":\"3U3EXzJVYT8uTaEddvJoPxmcEbnqx3Q/ugj+AdcYfj/7kTnOITSEP5izuKvJ5ok/n47eqMkXkD/pQHEoxYyTP0X76GyyWpc/kULxFIaJmz/6LP+80RCgPw7LhRsHlqI/fJhx3vVVpT80kTTgdfunPxkrEXjFK6o/cBk67V4rrD+dfvVdtkKuP1+gZ13qOrA/8W38tEpjsT+QOVrLIJuyP1pzhxpzwbM/xyWbZhLZsj/XdN9fdOGuP8+qL0iDpqc/ltntoeeQoT+vfOJ1B/WYPwFBU4uVjJA/Wcmeb9HqhD/qfjMRdMR6P/bqJJmcbHA/tgSWpHZ0YD9oXIgybD1APygiUxme3P6+emeiMObiMD8m3KLV3q08P5d2FSARfy0/e+kZHZMJOr9AeTTivftXvx7kml7AVGW/+4wXDB/qbr/qR+F/zWd0v5F5cZX4snm/16iE+QQvf78ucOPZ2HqCv6+pqtJBV4W/aBBePDX3hb+IrlSnLbSCv7wqKnv/YXq/p7xSZcNSaL/ohj4JgLJYP0rTn0P5d3s/yhCIVnX2iD/qrnV0HyqSPwQsh1CEWJg/UUgt8r1Pnz+HY1vbG0mjPziILIvvr6Y/urS56GaqqT8vg26FaUWsPwE76Cbyo64/7LU7zOBtsD8srNyKS3WxPwxeek9zX7I/vfdJS2snsz//ZJs64NGzP5BGdaJzarQ/OEYVcmMCtT/YkhatKpu1PzxZMhOB9LU/2Ui5y+OItT8IfXmZEt2zPynqX6H1QbE/oUDpVa4BrT++SUX2UMGnP3vYoyH3NaI/\",\"dtype\":\"float64\",\"shape\":[75]},\"y\":{\"__ndarray__\":\"GhExyth1ND/Sv8nbtpRIP2vylNV0PVE/aTum7souWD/At0SJ8fVgPw3Iuahxymc/MSNhhJWvcD/bTfBN02d3P2zb5nxnaoA/CD5h5MAGhz8NmeH1TyaQP+zrCsc9p5Y/LbKd76fGnz/bLW5ISEmmPww9YvTcQq8/JV2OstnstT8Er5Y7M8G+P0c+r3jqkcU/5h99k6ZBzj88bCIzFzjVP4enV8oyxN0//yH99nXg5D8qOpLLf0jtP5kqGJXUifQ/c9cS8kHP/D+/DpwzojQEQIEmwoanVwxA4lgXt9HgE0BSSZ2AJuIbQAMJih9jjiNA5q4l5INuK0AwTKYKRj0zQNv5fmq8/DpAaCJseHrtQkB/+zpwzoxKQM3MzMzMeFJAZmZmZmZqWEAAAAAAAFxeQM3MzMzMJmJAmpmZmZkfZUBmZmZmZhhoQDMzMzMzEWtAAAAAAAAKbkBmZmZmZoFwQM3MzMzM/XFAMzMzMzN6c0CamZmZmfZ0QAAAAAAAc3ZAZmZmZmbvd0DNzMzMzGt5QDMzMzMz6HpAmpmZmZlkfEAAAAAAAOF9QGZmZmZmXX9AZmZmZuZsgECamZmZGSuBQM3MzMxM6YFAAAAAAICngkAzMzMzs2WDQGZmZmbmI4RAmpmZmRnihEDNzMzMTKCFQAAAAACAXoZAMzMzM7Mch0BmZmZm5tqHQJqZmZkZmYhAzczMzExXiUAAAAAAgBWKQDMzMzOz04pAZmZmZuaRi0CamZmZGVCMQM3MzMxMDo1AAAAAAIDMjUAzMzMzs4qOQGZmZmbmSI9A\",\"dtype\":\"float64\",\"shape\":[75]}}},\"id\":\"44892d4d-02f4-474f-af85-c3c33ad652fd\",\"type\":\"ColumnDataSource\"},{\"attributes\":{\"callback\":null,\"column_names\":[\"x\",\"y\"],\"data\":{\"x\":{\"__ndarray__\":\"3U3EXzJVYT8uTaEddvJoPxmcEbnqx3Q/ugj+AdcYfj/7kTnOITSEP5izuKvJ5ok/n47eqMkXkD/pQHEoxYyTP0X76GyyWpc/kULxFIaJmz/6LP+80RCgPw7LhRsHlqI/fJhx3vVVpT80kTTgdfunPxkrEXjFK6o/cBk67V4rrD+dfvVdtkKuP1+gZ13qOrA/8W38tEpjsT+QOVrLIJuyP1pzhxpzwbM/xyWbZhLZsj/XdN9fdOGuP8+qL0iDpqc/ltntoeeQoT+vfOJ1B/WYPwFBU4uVjJA/Wcmeb9HqhD/qfjMRdMR6P/bqJJmcbHA/tgSWpHZ0YD9oXIgybD1APygiUxme3P6+emeiMObiMD8m3KLV3q08P5d2FSARfy0/e+kZHZMJOr9AeTTivftXvx7kml7AVGW/+4wXDB/qbr/qR+F/zWd0v5F5cZX4snm/16iE+QQvf78ucOPZ2HqCv6+pqtJBV4W/aBBePDX3hb+IrlSnLbSCv7wqKnv/YXq/p7xSZcNSaL/ohj4JgLJYP0rTn0P5d3s/yhCIVnX2iD/qrnV0HyqSPwQsh1CEWJg/UUgt8r1Pnz+HY1vbG0mjPziILIvvr6Y/urS56GaqqT8vg26FaUWsPwE76Cbyo64/7LU7zOBtsD8srNyKS3WxPwxeek9zX7I/vfdJS2snsz//ZJs64NGzP5BGdaJzarQ/OEYVcmMCtT/YkhatKpu1PzxZMhOB9LU/2Ui5y+OItT8IfXmZEt2zPynqX6H1QbE/oUDpVa4BrT++SUX2UMGnP3vYoyH3NaI/\",\"dtype\":\"float64\",\"shape\":[75]},\"y\":{\"__ndarray__\":\"GhExyth1ND/Sv8nbtpRIP2vylNV0PVE/aTum7souWD/At0SJ8fVgPw3Iuahxymc/MSNhhJWvcD/bTfBN02d3P2zb5nxnaoA/CD5h5MAGhz8NmeH1TyaQP+zrCsc9p5Y/LbKd76fGnz/bLW5ISEmmPww9YvTcQq8/JV2OstnstT8Er5Y7M8G+P0c+r3jqkcU/5h99k6ZBzj88bCIzFzjVP4enV8oyxN0//yH99nXg5D8qOpLLf0jtP5kqGJXUifQ/c9cS8kHP/D+/DpwzojQEQIEmwoanVwxA4lgXt9HgE0BSSZ2AJuIbQAMJih9jjiNA5q4l5INuK0AwTKYKRj0zQNv5fmq8/DpAaCJseHrtQkB/+zpwzoxKQM3MzMzMeFJAZmZmZmZqWEAAAAAAAFxeQM3MzMzMJmJAmpmZmZkfZUBmZmZmZhhoQDMzMzMzEWtAAAAAAAAKbkBmZmZmZoFwQM3MzMzM/XFAMzMzMzN6c0CamZmZmfZ0QAAAAAAAc3ZAZmZmZmbvd0DNzMzMzGt5QDMzMzMz6HpAmpmZmZlkfEAAAAAAAOF9QGZmZmZmXX9AZmZmZuZsgECamZmZGSuBQM3MzMxM6YFAAAAAAICngkAzMzMzs2WDQGZmZmbmI4RAmpmZmRnihEDNzMzMTKCFQAAAAACAXoZAMzMzM7Mch0BmZmZm5tqHQJqZmZkZmYhAzczMzExXiUAAAAAAgBWKQDMzMzOz04pAZmZmZuaRi0CamZmZGVCMQM3MzMxMDo1AAAAAAIDMjUAzMzMzs4qOQGZmZmbmSI9A\",\"dtype\":\"float64\",\"shape\":[75]}}},\"id\":\"ad761f1a-5c9d-426b-8e18-e97b9fe53786\",\"type\":\"ColumnDataSource\"},{\"attributes\":{},\"id\":\"9cb6757a-72d6-4e3c-871e-ce9d91e1b83a\",\"type\":\"BasicTicker\"},{\"attributes\":{},\"id\":\"a944db00-b2bf-49db-986e-206d89659e30\",\"type\":\"BasicTicker\"},{\"attributes\":{\"plot\":{\"id\":\"0f4308fa-5a80-4906-a8cb-1442223941f3\",\"subtype\":\"Figure\",\"type\":\"Plot\"},\"ticker\":{\"id\":\"9cb6757a-72d6-4e3c-871e-ce9d91e1b83a\",\"type\":\"BasicTicker\"}},\"id\":\"efa5c629-2ecb-4e70-b723-9c30ae708aef\",\"type\":\"Grid\"},{\"attributes\":{\"axis_label\":\"pressure [mb]\",\"formatter\":{\"id\":\"91345df4-4ce5-41c5-98b8-7771127375da\",\"type\":\"BasicTickFormatter\"},\"plot\":{\"id\":\"0f4308fa-5a80-4906-a8cb-1442223941f3\",\"subtype\":\"Figure\",\"type\":\"Plot\"},\"ticker\":{\"id\":\"a944db00-b2bf-49db-986e-206d89659e30\",\"type\":\"BasicTicker\"}},\"id\":\"01e4f2a2-48ef-46e7-895b-234e8ba2a084\",\"type\":\"LinearAxis\"},{\"attributes\":{\"axis_label\":\"cooling rate [K/day]\",\"formatter\":{\"id\":\"3527b7ef-22c1-4c92-b424-af23b62486c1\",\"type\":\"BasicTickFormatter\"},\"plot\":{\"id\":\"0f4308fa-5a80-4906-a8cb-1442223941f3\",\"subtype\":\"Figure\",\"type\":\"Plot\"},\"ticker\":{\"id\":\"9cb6757a-72d6-4e3c-871e-ce9d91e1b83a\",\"type\":\"BasicTicker\"}},\"id\":\"b993f33e-5c37-4e02-8028-e261f72c07c2\",\"type\":\"LinearAxis\"},{\"attributes\":{},\"id\":\"06ac54fe-0231-4b61-8352-f28db46a49e7\",\"type\":\"ResetTool\"},{\"attributes\":{\"dimension\":1,\"plot\":{\"id\":\"0f4308fa-5a80-4906-a8cb-1442223941f3\",\"subtype\":\"Figure\",\"type\":\"Plot\"},\"ticker\":{\"id\":\"a944db00-b2bf-49db-986e-206d89659e30\",\"type\":\"BasicTicker\"}},\"id\":\"dd9310ae-c3cc-406c-96d7-984b9905dac7\",\"type\":\"Grid\"},{\"attributes\":{\"bottom_units\":\"screen\",\"fill_alpha\":{\"value\":0.5},\"fill_color\":{\"value\":\"lightgrey\"},\"left_units\":\"screen\",\"level\":\"overlay\",\"line_alpha\":{\"value\":1.0},\"line_color\":{\"value\":\"black\"},\"line_dash\":[4,4],\"line_width\":{\"value\":2},\"plot\":null,\"render_mode\":\"css\",\"right_units\":\"screen\",\"top_units\":\"screen\"},\"id\":\"2184bd9e-b61b-49af-845d-247c7005a99d\",\"type\":\"BoxAnnotation\"},{\"attributes\":{\"data_source\":{\"id\":\"f463231c-69b4-4fe2-a8f9-c02bbdd3098f\",\"type\":\"ColumnDataSource\"},\"glyph\":{\"id\":\"c87c810c-59c7-4988-bea8-381218c2a827\",\"type\":\"Line\"},\"hover_glyph\":null,\"muted_glyph\":null,\"nonselection_glyph\":{\"id\":\"c1e4c6e3-56df-4801-ac14-5f86a5da14ab\",\"type\":\"Line\"},\"selection_glyph\":null,\"view\":{\"id\":\"b61cb8f5-6a99-4467-b96a-9cafd5e6af2d\",\"type\":\"CDSView\"}},\"id\":\"faa6b7b5-1fba-4fa7-97eb-04e622004930\",\"type\":\"GlyphRenderer\"},{\"attributes\":{},\"id\":\"50dafc65-03b8-4c36-a5f9-c6153ba2767a\",\"type\":\"HelpTool\"},{\"attributes\":{\"line_alpha\":0.1,\"line_color\":\"#1f77b4\",\"line_width\":1.5,\"x\":{\"field\":\"x\"},\"y\":{\"field\":\"y\"}},\"id\":\"c1e4c6e3-56df-4801-ac14-5f86a5da14ab\",\"type\":\"Line\"},{\"attributes\":{},\"id\":\"54911c2c-e8ab-4796-840c-f5828614784d\",\"type\":\"WheelZoomTool\"},{\"attributes\":{\"overlay\":{\"id\":\"2184bd9e-b61b-49af-845d-247c7005a99d\",\"type\":\"BoxAnnotation\"}},\"id\":\"878f11b2-df2d-4e18-9c64-73fd2bffb04f\",\"type\":\"BoxZoomTool\"},{\"attributes\":{},\"id\":\"8d630a91-08e4-411e-b7f7-18b96459ab15\",\"type\":\"SaveTool\"},{\"attributes\":{},\"id\":\"8c752888-6f32-4388-874c-ea4ca378ef72\",\"type\":\"PanTool\"},{\"attributes\":{\"tools\":[{\"id\":\"8c752888-6f32-4388-874c-ea4ca378ef72\",\"type\":\"PanTool\"},{\"id\":\"54911c2c-e8ab-4796-840c-f5828614784d\",\"type\":\"WheelZoomTool\"},{\"id\":\"878f11b2-df2d-4e18-9c64-73fd2bffb04f\",\"type\":\"BoxZoomTool\"},{\"id\":\"8d630a91-08e4-411e-b7f7-18b96459ab15\",\"type\":\"SaveTool\"},{\"id\":\"06ac54fe-0231-4b61-8352-f28db46a49e7\",\"type\":\"ResetTool\"},{\"id\":\"50dafc65-03b8-4c36-a5f9-c6153ba2767a\",\"type\":\"HelpTool\"},{\"id\":\"ce9e94b8-506f-46e7-834f-1584534a2ca3\",\"type\":\"PanTool\"},{\"id\":\"031b1160-62a7-43c4-ba4b-7024f7793232\",\"type\":\"WheelZoomTool\"},{\"id\":\"d35da992-f4f3-4ca0-83da-1cc0720c5d62\",\"type\":\"BoxZoomTool\"},{\"id\":\"c1bee8c2-f36f-4c8b-924d-67b08dd54671\",\"type\":\"SaveTool\"},{\"id\":\"fec292e2-aec0-4b72-8f9a-670a2e27090c\",\"type\":\"ResetTool\"},{\"id\":\"d9de6a55-ab78-4cf1-ba12-5c61eb9678b1\",\"type\":\"HelpTool\"}]},\"id\":\"6336c5ee-ea17-41d5-a1eb-2407d3aeefdc\",\"type\":\"ProxyToolbar\"},{\"attributes\":{\"callback\":null,\"column_names\":[\"x\",\"y\"],\"data\":{\"x\":{\"__ndarray__\":\"tC8xepRokr/moDoMnCKQv/9vsi7qaom/14OD5ZoOgb/pz8zFN4pvv660mg0WFU0/1DjNWoAxeD/OeAIxbkKIP663D3FajZI/3i422JRemT+vzS4uQYWgPwZ7l3sWvqQ/RIkzEuMtqT/ovpcg9WetPzzG4iWiWbA/SHs6WZW9sT9NjwumGCKzP6bw7Ge7hrQ/YVd3Un3stT9c/MvAkVi3P+DBpRz5p7g/Ao6LCp+ktj9h7nlP/NCwP5fmFOzYa6Y/Es5iuvRVnD9P/SiPE8uQP9hW4OG+GYI/wfgevJrmcz+ReB+mCYttP7H7TzRPMmk/zHCTe8BPYz+/sVU1yVdXPwquY+xl01E/HA5IlM/RVz+q8CHITKBbP1+wEUS6+Fs/85svnhR5WD8fz9RKradJP02YYStjixu/qLDcDqk7Ub9EPTJSvkthvx32F8qdo2u/eRSTYPbec78mnVWj9iJ7vwUpu5TPtoG/JiqmWhxxg78TMPRnw4qAvwHBszTkVXa/VYvSpu2NYL/ALgjC3MljP7cVg08IoH4/BVRyLd64ij/rE0ii+nuTP/KgBvf285k/RJ4QeUxWoD+RLV47N76jP/b8T082Hac/Puzt5SpVqj8c2tfsDkqtPxDTw3J5468/KZasoQwJsT8AgsrcouqxP1EhY134m7I/SbQ48UIrsz+m4wk7x6uzPxvDUhMzMbQ/jww8bi3QtD/Tinma74e1PxMMCClPC7Y/R/g8UaK9tT/QvO499A60P/rfR77dVbE/02AxIgXarD/rjHh9qUmnP8ppfQElVKE/\",\"dtype\":\"float64\",\"shape\":[75]},\"y\":{\"__ndarray__\":\"GhExyth1ND/Sv8nbtpRIP2vylNV0PVE/aTum7souWD/At0SJ8fVgPw3Iuahxymc/MSNhhJWvcD/bTfBN02d3P2zb5nxnaoA/CD5h5MAGhz8NmeH1TyaQP+zrCsc9p5Y/LbKd76fGnz/bLW5ISEmmPww9YvTcQq8/JV2OstnstT8Er5Y7M8G+P0c+r3jqkcU/5h99k6ZBzj88bCIzFzjVP4enV8oyxN0//yH99nXg5D8qOpLLf0jtP5kqGJXUifQ/c9cS8kHP/D+/DpwzojQEQIEmwoanVwxA4lgXt9HgE0BSSZ2AJuIbQAMJih9jjiNA5q4l5INuK0AwTKYKRj0zQNv5fmq8/DpAaCJseHrtQkB/+zpwzoxKQM3MzMzMeFJAZmZmZmZqWEAAAAAAAFxeQM3MzMzMJmJAmpmZmZkfZUBmZmZmZhhoQDMzMzMzEWtAAAAAAAAKbkBmZmZmZoFwQM3MzMzM/XFAMzMzMzN6c0CamZmZmfZ0QAAAAAAAc3ZAZmZmZmbvd0DNzMzMzGt5QDMzMzMz6HpAmpmZmZlkfEAAAAAAAOF9QGZmZmZmXX9AZmZmZuZsgECamZmZGSuBQM3MzMxM6YFAAAAAAICngkAzMzMzs2WDQGZmZmbmI4RAmpmZmRnihEDNzMzMTKCFQAAAAACAXoZAMzMzM7Mch0BmZmZm5tqHQJqZmZkZmYhAzczMzExXiUAAAAAAgBWKQDMzMzOz04pAZmZmZuaRi0CamZmZGVCMQM3MzMxMDo1AAAAAAIDMjUAzMzMzs4qOQGZmZmbmSI9A\",\"dtype\":\"float64\",\"shape\":[75]}}},\"id\":\"f463231c-69b4-4fe2-a8f9-c02bbdd3098f\",\"type\":\"ColumnDataSource\"},{\"attributes\":{\"active_drag\":\"auto\",\"active_inspect\":\"auto\",\"active_scroll\":\"auto\",\"active_tap\":\"auto\",\"tools\":[{\"id\":\"8c752888-6f32-4388-874c-ea4ca378ef72\",\"type\":\"PanTool\"},{\"id\":\"54911c2c-e8ab-4796-840c-f5828614784d\",\"type\":\"WheelZoomTool\"},{\"id\":\"878f11b2-df2d-4e18-9c64-73fd2bffb04f\",\"type\":\"BoxZoomTool\"},{\"id\":\"8d630a91-08e4-411e-b7f7-18b96459ab15\",\"type\":\"SaveTool\"},{\"id\":\"06ac54fe-0231-4b61-8352-f28db46a49e7\",\"type\":\"ResetTool\"},{\"id\":\"50dafc65-03b8-4c36-a5f9-c6153ba2767a\",\"type\":\"HelpTool\"}]},\"id\":\"48820ec4-4955-48fb-89a8-65f4fa0330ee\",\"type\":\"Toolbar\"},{\"attributes\":{\"children\":[{\"id\":\"f723981d-d142-4748-bd55-a3a53d3082ad\",\"type\":\"Row\"}]},\"id\":\"3de6390c-94f9-4c94-a6bd-ab8b37be38f0\",\"type\":\"Column\"},{\"attributes\":{},\"id\":\"a016e060-93a5-46ed-aa45-7a3cee4119f9\",\"type\":\"LinearScale\"},{\"attributes\":{\"below\":[{\"id\":\"b993f33e-5c37-4e02-8028-e261f72c07c2\",\"type\":\"LinearAxis\"}],\"left\":[{\"id\":\"01e4f2a2-48ef-46e7-895b-234e8ba2a084\",\"type\":\"LinearAxis\"}],\"plot_height\":500,\"plot_width\":400,\"renderers\":[{\"id\":\"b993f33e-5c37-4e02-8028-e261f72c07c2\",\"type\":\"LinearAxis\"},{\"id\":\"efa5c629-2ecb-4e70-b723-9c30ae708aef\",\"type\":\"Grid\"},{\"id\":\"01e4f2a2-48ef-46e7-895b-234e8ba2a084\",\"type\":\"LinearAxis\"},{\"id\":\"dd9310ae-c3cc-406c-96d7-984b9905dac7\",\"type\":\"Grid\"},{\"id\":\"2184bd9e-b61b-49af-845d-247c7005a99d\",\"type\":\"BoxAnnotation\"},{\"id\":\"93fcd138-8bf1-49a5-bce4-002770a23a18\",\"type\":\"GlyphRenderer\"},{\"id\":\"faa6b7b5-1fba-4fa7-97eb-04e622004930\",\"type\":\"GlyphRenderer\"},{\"id\":\"e044c09c-cd00-409d-af30-0ffb11f9c585\",\"type\":\"GlyphRenderer\"},{\"id\":\"06f7c5c1-e0d8-4fee-a2d3-5527fd192b65\",\"type\":\"GlyphRenderer\"},{\"id\":\"bab7d5fa-f3aa-410b-9db6-a0a38be9be5d\",\"type\":\"GlyphRenderer\"},{\"id\":\"2620bae7-d719-43cc-87de-0d4f17b79751\",\"type\":\"GlyphRenderer\"}],\"title\":{\"id\":\"846e054a-af72-4de5-8c22-11be9495d3d9\",\"type\":\"Title\"},\"toolbar\":{\"id\":\"48820ec4-4955-48fb-89a8-65f4fa0330ee\",\"type\":\"Toolbar\"},\"toolbar_location\":null,\"x_range\":{\"id\":\"32c06949-d49e-4b7d-92bf-833aedbae760\",\"type\":\"Range1d\"},\"x_scale\":{\"id\":\"a0b447ca-a11e-457b-8b34-45ff5eb4219b\",\"type\":\"LinearScale\"},\"y_range\":{\"id\":\"05fab263-bde9-4065-8489-f925e02dacf5\",\"type\":\"Range1d\"},\"y_scale\":{\"id\":\"a016e060-93a5-46ed-aa45-7a3cee4119f9\",\"type\":\"LinearScale\"}},\"id\":\"0f4308fa-5a80-4906-a8cb-1442223941f3\",\"subtype\":\"Figure\",\"type\":\"Plot\"},{\"attributes\":{\"plot\":null,\"text\":\"Linear pressure scale\"},\"id\":\"846e054a-af72-4de5-8c22-11be9495d3d9\",\"type\":\"Title\"},{\"attributes\":{\"fill_alpha\":{\"value\":0.7},\"fill_color\":{\"value\":\"#4daf4a\"},\"line_alpha\":{\"value\":0.7},\"line_color\":{\"value\":\"#4daf4a\"},\"x\":{\"field\":\"x\"},\"y\":{\"field\":\"y\"}},\"id\":\"d02d9931-7197-4639-bd23-8614c452041b\",\"type\":\"Circle\"},{\"attributes\":{\"fill_alpha\":{\"value\":0.1},\"fill_color\":{\"value\":\"#1f77b4\"},\"line_alpha\":{\"value\":0.1},\"line_color\":{\"value\":\"#1f77b4\"},\"x\":{\"field\":\"x\"},\"y\":{\"field\":\"y\"}},\"id\":\"2376471e-a7a9-4909-bf62-f60a505d3ed2\",\"type\":\"Circle\"},{\"attributes\":{\"line_color\":\"#4daf4a\",\"line_width\":1.5,\"x\":{\"field\":\"x\"},\"y\":{\"field\":\"y\"}},\"id\":\"c87c810c-59c7-4988-bea8-381218c2a827\",\"type\":\"Line\"},{\"attributes\":{},\"id\":\"a0b447ca-a11e-457b-8b34-45ff5eb4219b\",\"type\":\"LinearScale\"}],\"root_ids\":[\"e66a98d1-6361-4095-871c-19fdab35e409\"]},\"title\":\"Bokeh Application\",\"version\":\"0.12.14\"}};\n",
       "  var render_items = [{\"docid\":\"5ae9e742-7536-4d76-9f4a-a0b50c72b90f\",\"elementid\":\"0375d306-8ba8-4081-82e5-c500a3e360df\",\"modelid\":\"e66a98d1-6361-4095-871c-19fdab35e409\"}];\n",
       "  root.Bokeh.embed.embed_items_notebook(docs_json, render_items);\n",
       "\n",
       "  }\n",
       "  if (root.Bokeh !== undefined) {\n",
       "    embed_document(root);\n",
       "  } else {\n",
       "    var attempts = 0;\n",
       "    var timer = setInterval(function(root) {\n",
       "      if (root.Bokeh !== undefined) {\n",
       "        embed_document(root);\n",
       "        clearInterval(timer);\n",
       "      }\n",
       "      attempts++;\n",
       "      if (attempts > 100) {\n",
       "        console.log(\"Bokeh: ERROR: Unable to run BokehJS code because BokehJS library is missing\")\n",
       "        clearInterval(timer);\n",
       "      }\n",
       "    }, 10, root)\n",
       "  }\n",
       "})(window);"
      ],
      "application/vnd.bokehjs_exec.v0+json": ""
     },
     "metadata": {
      "application/vnd.bokehjs_exec.v0+json": {
       "id": "e66a98d1-6361-4095-871c-19fdab35e409"
      }
     },
     "output_type": "display_data"
    },
    {
     "name": "stdout",
     "output_type": "stream",
     "text": [
      "FIGURE. Cooling rate profiles.\n"
     ]
    },
    {
     "data": {
      "text/html": [
       "<a id=\"Flux_Comparison\"></a>"
      ],
      "text/plain": [
       "<IPython.core.display.HTML object>"
      ]
     },
     "metadata": {},
     "output_type": "display_data"
    },
    {
     "data": {
      "text/markdown": [
       "# Flux Comparison"
      ],
      "text/plain": [
       "<IPython.core.display.Markdown object>"
      ]
     },
     "metadata": {},
     "output_type": "display_data"
    },
    {
     "data": {
      "text/html": [
       "<div>\n",
       "<style>\n",
       "    .dataframe thead tr:only-child th {\n",
       "        text-align: right;\n",
       "    }\n",
       "\n",
       "    .dataframe thead th {\n",
       "        text-align: left;\n",
       "    }\n",
       "\n",
       "    .dataframe tbody tr th {\n",
       "        vertical-align: top;\n",
       "    }\n",
       "</style>\n",
       "<table border=\"1\" class=\"dataframe\">\n",
       "  <thead>\n",
       "    <tr style=\"text-align: right;\">\n",
       "      <th></th>\n",
       "      <th></th>\n",
       "      <th>flug</th>\n",
       "      <th>fldg</th>\n",
       "      <th>fnetg</th>\n",
       "    </tr>\n",
       "    <tr>\n",
       "      <th>pressure</th>\n",
       "      <th>level</th>\n",
       "      <th></th>\n",
       "      <th></th>\n",
       "      <th></th>\n",
       "    </tr>\n",
       "  </thead>\n",
       "  <tbody>\n",
       "    <tr>\n",
       "      <th>0.0000</th>\n",
       "      <th>1</th>\n",
       "      <td>-7.841006</td>\n",
       "      <td>0.000000</td>\n",
       "      <td>-7.841006</td>\n",
       "    </tr>\n",
       "    <tr>\n",
       "      <th>1.0685</th>\n",
       "      <th>24</th>\n",
       "      <td>-7.837727</td>\n",
       "      <td>0.006700</td>\n",
       "      <td>-7.831027</td>\n",
       "    </tr>\n",
       "    <tr>\n",
       "      <th>1013.0000</th>\n",
       "      <th>76</th>\n",
       "      <td>-9.558030</td>\n",
       "      <td>5.588064</td>\n",
       "      <td>-3.969966</td>\n",
       "    </tr>\n",
       "  </tbody>\n",
       "</table>\n",
       "</div>"
      ],
      "text/plain": [
       "                     flug      fldg     fnetg\n",
       "pressure  level                              \n",
       "0.0000    1     -7.841006  0.000000 -7.841006\n",
       "1.0685    24    -7.837727  0.006700 -7.831027\n",
       "1013.0000 76    -9.558030  5.588064 -3.969966"
      ]
     },
     "metadata": {},
     "output_type": "display_data"
    },
    {
     "name": "stdout",
     "output_type": "stream",
     "text": [
      "Table. Fluxes. CRD\n"
     ]
    },
    {
     "data": {
      "text/html": [
       "<div>\n",
       "<style>\n",
       "    .dataframe thead tr:only-child th {\n",
       "        text-align: right;\n",
       "    }\n",
       "\n",
       "    .dataframe thead th {\n",
       "        text-align: left;\n",
       "    }\n",
       "\n",
       "    .dataframe tbody tr th {\n",
       "        vertical-align: top;\n",
       "    }\n",
       "</style>\n",
       "<table border=\"1\" class=\"dataframe\">\n",
       "  <thead>\n",
       "    <tr style=\"text-align: right;\">\n",
       "      <th></th>\n",
       "      <th></th>\n",
       "      <th>flug</th>\n",
       "      <th>fldg</th>\n",
       "      <th>fnetg</th>\n",
       "    </tr>\n",
       "    <tr>\n",
       "      <th>pressure</th>\n",
       "      <th>level</th>\n",
       "      <th></th>\n",
       "      <th></th>\n",
       "      <th></th>\n",
       "    </tr>\n",
       "  </thead>\n",
       "  <tbody>\n",
       "    <tr>\n",
       "      <th>0.0000</th>\n",
       "      <th>1</th>\n",
       "      <td>-7.878859</td>\n",
       "      <td>0.000000</td>\n",
       "      <td>-7.878859</td>\n",
       "    </tr>\n",
       "    <tr>\n",
       "      <th>1.0685</th>\n",
       "      <th>24</th>\n",
       "      <td>-7.875567</td>\n",
       "      <td>0.005057</td>\n",
       "      <td>-7.870510</td>\n",
       "    </tr>\n",
       "    <tr>\n",
       "      <th>1013.0000</th>\n",
       "      <th>76</th>\n",
       "      <td>-9.558030</td>\n",
       "      <td>5.423199</td>\n",
       "      <td>-4.134831</td>\n",
       "    </tr>\n",
       "  </tbody>\n",
       "</table>\n",
       "</div>"
      ],
      "text/plain": [
       "                     flug      fldg     fnetg\n",
       "pressure  level                              \n",
       "0.0000    1     -7.878859  0.000000 -7.878859\n",
       "1.0685    24    -7.875567  0.005057 -7.870510\n",
       "1013.0000 76    -9.558030  5.423199 -4.134831"
      ]
     },
     "metadata": {},
     "output_type": "display_data"
    },
    {
     "name": "stdout",
     "output_type": "stream",
     "text": [
      "Table. Fluxes. WGT igg=10\n"
     ]
    },
    {
     "data": {
      "text/html": [
       "<div>\n",
       "<style>\n",
       "    .dataframe thead tr:only-child th {\n",
       "        text-align: right;\n",
       "    }\n",
       "\n",
       "    .dataframe thead th {\n",
       "        text-align: left;\n",
       "    }\n",
       "\n",
       "    .dataframe tbody tr th {\n",
       "        vertical-align: top;\n",
       "    }\n",
       "</style>\n",
       "<table border=\"1\" class=\"dataframe\">\n",
       "  <thead>\n",
       "    <tr style=\"text-align: right;\">\n",
       "      <th></th>\n",
       "      <th></th>\n",
       "      <th>flug</th>\n",
       "      <th>fldg</th>\n",
       "      <th>fnetg</th>\n",
       "    </tr>\n",
       "    <tr>\n",
       "      <th>pressure</th>\n",
       "      <th>level</th>\n",
       "      <th></th>\n",
       "      <th></th>\n",
       "      <th></th>\n",
       "    </tr>\n",
       "  </thead>\n",
       "  <tbody>\n",
       "    <tr>\n",
       "      <th>0.0000</th>\n",
       "      <th>1</th>\n",
       "      <td>-7.788615</td>\n",
       "      <td>0.000000</td>\n",
       "      <td>-7.788615</td>\n",
       "    </tr>\n",
       "    <tr>\n",
       "      <th>1.0685</th>\n",
       "      <th>24</th>\n",
       "      <td>-7.785311</td>\n",
       "      <td>0.005323</td>\n",
       "      <td>-7.779987</td>\n",
       "    </tr>\n",
       "    <tr>\n",
       "      <th>1013.0000</th>\n",
       "      <th>76</th>\n",
       "      <td>-9.558030</td>\n",
       "      <td>5.517217</td>\n",
       "      <td>-4.040814</td>\n",
       "    </tr>\n",
       "  </tbody>\n",
       "</table>\n",
       "</div>"
      ],
      "text/plain": [
       "                     flug      fldg     fnetg\n",
       "pressure  level                              \n",
       "0.0000    1     -7.788615  0.000000 -7.788615\n",
       "1.0685    24    -7.785311  0.005323 -7.779987\n",
       "1013.0000 76    -9.558030  5.517217 -4.040814"
      ]
     },
     "metadata": {},
     "output_type": "display_data"
    },
    {
     "name": "stdout",
     "output_type": "stream",
     "text": [
      "Table. Fluxes. WGT igg=1\n"
     ]
    },
    {
     "data": {
      "text/html": [
       "<div>\n",
       "<style>\n",
       "    .dataframe thead tr:only-child th {\n",
       "        text-align: right;\n",
       "    }\n",
       "\n",
       "    .dataframe thead th {\n",
       "        text-align: left;\n",
       "    }\n",
       "\n",
       "    .dataframe tbody tr th {\n",
       "        vertical-align: top;\n",
       "    }\n",
       "</style>\n",
       "<table border=\"1\" class=\"dataframe\">\n",
       "  <thead>\n",
       "    <tr style=\"text-align: right;\">\n",
       "      <th></th>\n",
       "      <th></th>\n",
       "      <th>flug</th>\n",
       "      <th>fldg</th>\n",
       "      <th>fnetg</th>\n",
       "    </tr>\n",
       "    <tr>\n",
       "      <th>pressure</th>\n",
       "      <th>level</th>\n",
       "      <th></th>\n",
       "      <th></th>\n",
       "      <th></th>\n",
       "    </tr>\n",
       "  </thead>\n",
       "  <tbody>\n",
       "    <tr>\n",
       "      <th>0.0000</th>\n",
       "      <th>1</th>\n",
       "      <td>-0.037854</td>\n",
       "      <td>0.000000</td>\n",
       "      <td>-0.037854</td>\n",
       "    </tr>\n",
       "    <tr>\n",
       "      <th>1.0685</th>\n",
       "      <th>24</th>\n",
       "      <td>-0.037839</td>\n",
       "      <td>-0.001643</td>\n",
       "      <td>-0.039483</td>\n",
       "    </tr>\n",
       "    <tr>\n",
       "      <th>1013.0000</th>\n",
       "      <th>76</th>\n",
       "      <td>0.000000</td>\n",
       "      <td>-0.164865</td>\n",
       "      <td>-0.164865</td>\n",
       "    </tr>\n",
       "  </tbody>\n",
       "</table>\n",
       "</div>"
      ],
      "text/plain": [
       "                     flug      fldg     fnetg\n",
       "pressure  level                              \n",
       "0.0000    1     -0.037854  0.000000 -0.037854\n",
       "1.0685    24    -0.037839 -0.001643 -0.039483\n",
       "1013.0000 76     0.000000 -0.164865 -0.164865"
      ]
     },
     "metadata": {},
     "output_type": "display_data"
    },
    {
     "name": "stdout",
     "output_type": "stream",
     "text": [
      "Table. Fluxes. (WGT igg=10) - (CRD)\n"
     ]
    },
    {
     "data": {
      "text/html": [
       "<div>\n",
       "<style>\n",
       "    .dataframe thead tr:only-child th {\n",
       "        text-align: right;\n",
       "    }\n",
       "\n",
       "    .dataframe thead th {\n",
       "        text-align: left;\n",
       "    }\n",
       "\n",
       "    .dataframe tbody tr th {\n",
       "        vertical-align: top;\n",
       "    }\n",
       "</style>\n",
       "<table border=\"1\" class=\"dataframe\">\n",
       "  <thead>\n",
       "    <tr style=\"text-align: right;\">\n",
       "      <th></th>\n",
       "      <th></th>\n",
       "      <th>flug</th>\n",
       "      <th>fldg</th>\n",
       "      <th>fnetg</th>\n",
       "    </tr>\n",
       "    <tr>\n",
       "      <th>pressure</th>\n",
       "      <th>level</th>\n",
       "      <th></th>\n",
       "      <th></th>\n",
       "      <th></th>\n",
       "    </tr>\n",
       "  </thead>\n",
       "  <tbody>\n",
       "    <tr>\n",
       "      <th>0.0000</th>\n",
       "      <th>1</th>\n",
       "      <td>0.052391</td>\n",
       "      <td>0.000000</td>\n",
       "      <td>0.052391</td>\n",
       "    </tr>\n",
       "    <tr>\n",
       "      <th>1.0685</th>\n",
       "      <th>24</th>\n",
       "      <td>0.052417</td>\n",
       "      <td>-0.001377</td>\n",
       "      <td>0.051040</td>\n",
       "    </tr>\n",
       "    <tr>\n",
       "      <th>1013.0000</th>\n",
       "      <th>76</th>\n",
       "      <td>0.000000</td>\n",
       "      <td>-0.070847</td>\n",
       "      <td>-0.070847</td>\n",
       "    </tr>\n",
       "  </tbody>\n",
       "</table>\n",
       "</div>"
      ],
      "text/plain": [
       "                     flug      fldg     fnetg\n",
       "pressure  level                              \n",
       "0.0000    1      0.052391  0.000000  0.052391\n",
       "1.0685    24     0.052417 -0.001377  0.051040\n",
       "1013.0000 76     0.000000 -0.070847 -0.070847"
      ]
     },
     "metadata": {},
     "output_type": "display_data"
    },
    {
     "name": "stdout",
     "output_type": "stream",
     "text": [
      "Table. Fluxes. (WGT igg=1) - (CRD)\n"
     ]
    },
    {
     "data": {
      "text/html": [
       "<a id=\"Best-fit_Parameters\"></a>"
      ],
      "text/plain": [
       "<IPython.core.display.HTML object>"
      ]
     },
     "metadata": {},
     "output_type": "display_data"
    },
    {
     "data": {
      "text/markdown": [
       "# Best-fit Parameters"
      ],
      "text/plain": [
       "<IPython.core.display.Markdown object>"
      ]
     },
     "metadata": {},
     "output_type": "display_data"
    },
    {
     "name": "stdout",
     "output_type": "stream",
     "text": [
      "Best-fit values for each (gas, band)\n",
      "------------------------------------\n",
      "o h2o band7\n",
      "  molecule = h2o\n",
      "  band = 7\n",
      "  commitnumber = 043bdfe\n",
      "  vmin = 1215\n",
      "  vmax = 1380\n",
      "  dv = 0.001\n",
      "  nv = 1000\n",
      "  ref_pts = [(600, 250)]\n",
      "  ng_refs = [7]\n",
      "  ng_adju = [0]\n",
      "  klin = 0\n",
      "  option_wgt_k = 1\n",
      "  wgt = [(0.5, 0.5, 0.5, 0.5, 0.5, 0.5, 0.9)]\n",
      "  w_diffuse = [(2, 1.6, 1.6, 1.6, 1.6, 1.6, 1.8)]\n",
      "  option_wgt_flux = 1\n",
      "  atmpro = mls\n",
      "  tsfc = 294\n",
      "  conc = None\n",
      "  option_compute_btable = 0\n",
      "  option_compute_ktable = 0\n",
      "o n2o band7\n",
      "  molecule = n2o\n",
      "  band = 7\n",
      "  commitnumber = 043bdfe\n",
      "  vmin = 1215\n",
      "  vmax = 1380\n",
      "  dv = 0.001\n",
      "  nv = 1000\n",
      "  ref_pts = [(1, 250), (500, 250)]\n",
      "  ng_refs = [2, 2]\n",
      "  ng_adju = [0, 0]\n",
      "  klin = 2.22e-20\n",
      "  option_wgt_k = 1\n",
      "  wgt = [(0.6, 0.5), (0.6, 0.9)]\n",
      "  w_diffuse = [(1.8, 1.66), (1.6, 1.8)]\n",
      "  option_wgt_flux = 1\n",
      "  atmpro = mls\n",
      "  tsfc = 294\n",
      "  conc = 3.2e-07\n",
      "  option_compute_btable = 0\n",
      "  option_compute_ktable = 0\n"
     ]
    }
   ],
   "source": [
    "script()"
   ]
  },
  {
   "cell_type": "code",
   "execution_count": 12,
   "metadata": {},
   "outputs": [
    {
     "data": {
      "text/html": [
       "<script>\n",
       "code_show=true; \n",
       "function code_toggle() {\n",
       " if (code_show){\n",
       " $('div.input').hide();\n",
       " } else {\n",
       " $('div.input').show();\n",
       " }\n",
       " code_show = !code_show\n",
       "} \n",
       "$( document ).ready(code_toggle);\n",
       "</script>\n",
       "<form action=\"javascript:code_toggle()\"><input type=\"submit\" value=\"Click here to toggle on/off the raw code.\"></form>"
      ],
      "text/plain": [
       "<IPython.core.display.HTML object>"
      ]
     },
     "execution_count": 12,
     "metadata": {},
     "output_type": "execute_result"
    }
   ],
   "source": [
    "display.HTML('''<script>\n",
    "code_show=true; \n",
    "function code_toggle() {\n",
    " if (code_show){\n",
    " $('div.input').hide();\n",
    " } else {\n",
    " $('div.input').show();\n",
    " }\n",
    " code_show = !code_show\n",
    "} \n",
    "$( document ).ready(code_toggle);\n",
    "</script>\n",
    "<form action=\"javascript:code_toggle()\"><input type=\"submit\" value=\"Click here to toggle on/off the raw code.\"></form>''')"
   ]
  }
 ],
 "metadata": {
  "kernelspec": {
   "display_name": "Python 3",
   "language": "python",
   "name": "python3"
  },
  "language_info": {
   "codemirror_mode": {
    "name": "ipython",
    "version": 3
   },
   "file_extension": ".py",
   "mimetype": "text/x-python",
   "name": "python",
   "nbconvert_exporter": "python",
   "pygments_lexer": "ipython3",
   "version": "3.6.1"
  }
 },
 "nbformat": 4,
 "nbformat_minor": 2
}
