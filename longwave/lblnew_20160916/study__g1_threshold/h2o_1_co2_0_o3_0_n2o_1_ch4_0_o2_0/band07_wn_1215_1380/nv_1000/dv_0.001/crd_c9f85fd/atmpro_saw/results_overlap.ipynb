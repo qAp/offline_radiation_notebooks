{
 "cells": [
  {
   "cell_type": "code",
   "execution_count": 1,
   "metadata": {
    "collapsed": true
   },
   "outputs": [],
   "source": [
    "%matplotlib inline\n",
    "import os\n",
    "import re\n",
    "import io\n",
    "import itertools\n",
    "import pprint\n",
    "\n",
    "from bokeh.io import output_notebook, show\n",
    "from bokeh.layouts import gridplot\n",
    "from bokeh.plotting import figure\n",
    "from bokeh.models import Range1d, Legend\n",
    "from bokeh.palettes import all_palettes\n",
    "\n",
    "import matplotlib\n",
    "import matplotlib.pyplot as plt\n",
    "import numpy as np\n",
    "import pandas as pd\n",
    "import xarray as xr\n",
    "\n",
    "import climatools.lblnew.bestfit_params as bestfits\n",
    "from climatools.lblnew import setup_bestfit, setup_overlap\n",
    "import climatools.lblnew.pipeline as pipe_lblnew\n",
    "\n",
    "import climatools.html.html as climahtml\n",
    "from climatools.lblnew.dataio import *\n",
    "from climatools.plot.plot import *\n",
    "\n",
    "\n",
    "import IPython.display as display"
   ]
  },
  {
   "cell_type": "code",
   "execution_count": 2,
   "metadata": {
    "collapsed": true
   },
   "outputs": [],
   "source": [
    "%run param.py"
   ]
  },
  {
   "cell_type": "code",
   "execution_count": 3,
   "metadata": {
    "collapsed": true
   },
   "outputs": [],
   "source": [
    "def load_output_file(path_csv):\n",
    "    '''\n",
    "    Load lblnew output .csv file to xarray.Dataset\n",
    "    \n",
    "    Parameters\n",
    "    ----------\n",
    "    path_csv: str\n",
    "              Path to the .csv file to be loaded.\n",
    "    ds: xarray.Dataset\n",
    "        Data in the input file in the form of an xarray.Dataset.\n",
    "    '''\n",
    "    toindex = ['band', 'pressure', 'igg', 'g']    \n",
    "    df = pd.read_csv(path_csv, sep=r'\\s+')\n",
    "    df = df.set_index([i for i in toindex if i in df.columns])\n",
    "    df = df.rename(columns={'sfu': 'flug',\n",
    "                            'sfd': 'fldg',\n",
    "                            'fnet': 'fnetg',\n",
    "                            'coolr': 'coolrg'})\n",
    "    ds = xr.Dataset.from_dataframe(df)\n",
    "\n",
    "    for l in ('level', 'layer'):\n",
    "        if l in ds.data_vars:\n",
    "            if len(ds[l].dims) > 1:\n",
    "                surface = {d: 0 for d in ds.dims if d != 'pressure'}\n",
    "                coord_level = ds[l][surface]\n",
    "                ds.coords[l] = ('pressure', coord_level)\n",
    "            else:\n",
    "                ds.coords[l] = ('pressure', ds[l])\n",
    "    \n",
    "    return ds"
   ]
  },
  {
   "cell_type": "code",
   "execution_count": 4,
   "metadata": {
    "collapsed": true
   },
   "outputs": [],
   "source": [
    "def lblnew_setup(param=None):\n",
    "    if 'ng_refs' in param:\n",
    "        return {'setup': setup_bestfit,\n",
    "                'fname_flux_crd': 'output_flux.dat',\n",
    "                'fname_cool_crd': 'output_coolr.dat',\n",
    "                'fname_flux_wgt': 'output_wfluxg.dat',\n",
    "                'fname_cool_wgt': 'output_wcoolrg.dat'}\n",
    "    else:\n",
    "        return {'setup': setup_overlap,\n",
    "                'fname_flux_crd': 'output_flux.dat',\n",
    "                'fname_cool_crd': 'output_coolr.dat',\n",
    "                'fname_flux_wgt': 'output_wflux.dat',\n",
    "                'fname_cool_wgt': 'output_wcoolr.dat'}\n",
    "\n",
    "    \n",
    "def load_lblnew_data(param):\n",
    "    \n",
    "    fname_dsname = [('fname_flux_crd', 'ds_flux_crd'),\n",
    "                    ('fname_cool_crd', 'ds_cool_crd'),\n",
    "                    ('fname_flux_wgt', 'ds_flux_wgt'),\n",
    "                    ('fname_cool_wgt', 'ds_cool_wgt')]\n",
    "    \n",
    "    d = lblnew_setup(param)\n",
    "    dir_fortran = pipe_lblnew.get_dir_case(param, setup=d['setup'])\n",
    "    \n",
    "    data_dict = {}\n",
    "    for fname, dsname in fname_dsname:\n",
    "        fpath = os.path.join(dir_fortran, d[fname])\n",
    "        data_dict[dsname] = load_output_file(fpath)\n",
    "    return data_dict\n",
    "    \n",
    "\n",
    "    \n",
    "    "
   ]
  },
  {
   "cell_type": "code",
   "execution_count": 5,
   "metadata": {
    "collapsed": true
   },
   "outputs": [],
   "source": [
    "d = load_lblnew_data(PARAM)\n",
    "\n",
    "DS_FLUX_CRD = d['ds_flux_crd']\n",
    "DS_COOL_CRD = d['ds_cool_crd']\n",
    "DS_FLUX_WGT = d['ds_flux_wgt']\n",
    "DS_COOL_WGT = d['ds_cool_wgt']"
   ]
  },
  {
   "cell_type": "code",
   "execution_count": 6,
   "metadata": {},
   "outputs": [
    {
     "data": {
      "text/html": [
       "\n",
       "    <div class=\"bk-root\">\n",
       "        <a href=\"https://bokeh.pydata.org\" target=\"_blank\" class=\"bk-logo bk-logo-small bk-logo-notebook\"></a>\n",
       "        <span id=\"c99ad8b6-caea-43d8-b73a-7af0aa0fce2e\">Loading BokehJS ...</span>\n",
       "    </div>"
      ]
     },
     "metadata": {},
     "output_type": "display_data"
    },
    {
     "data": {
      "application/javascript": [
       "\n",
       "(function(root) {\n",
       "  function now() {\n",
       "    return new Date();\n",
       "  }\n",
       "\n",
       "  var force = true;\n",
       "\n",
       "  if (typeof (root._bokeh_onload_callbacks) === \"undefined\" || force === true) {\n",
       "    root._bokeh_onload_callbacks = [];\n",
       "    root._bokeh_is_loading = undefined;\n",
       "  }\n",
       "\n",
       "  var JS_MIME_TYPE = 'application/javascript';\n",
       "  var HTML_MIME_TYPE = 'text/html';\n",
       "  var EXEC_MIME_TYPE = 'application/vnd.bokehjs_exec.v0+json';\n",
       "  var CLASS_NAME = 'output_bokeh rendered_html';\n",
       "\n",
       "  /**\n",
       "   * Render data to the DOM node\n",
       "   */\n",
       "  function render(props, node) {\n",
       "    var script = document.createElement(\"script\");\n",
       "    node.appendChild(script);\n",
       "  }\n",
       "\n",
       "  /**\n",
       "   * Handle when an output is cleared or removed\n",
       "   */\n",
       "  function handleClearOutput(event, handle) {\n",
       "    var cell = handle.cell;\n",
       "\n",
       "    var id = cell.output_area._bokeh_element_id;\n",
       "    var server_id = cell.output_area._bokeh_server_id;\n",
       "    // Clean up Bokeh references\n",
       "    if (id !== undefined) {\n",
       "      Bokeh.index[id].model.document.clear();\n",
       "      delete Bokeh.index[id];\n",
       "    }\n",
       "\n",
       "    if (server_id !== undefined) {\n",
       "      // Clean up Bokeh references\n",
       "      var cmd = \"from bokeh.io.state import curstate; print(curstate().uuid_to_server['\" + server_id + \"'].get_sessions()[0].document.roots[0]._id)\";\n",
       "      cell.notebook.kernel.execute(cmd, {\n",
       "        iopub: {\n",
       "          output: function(msg) {\n",
       "            var element_id = msg.content.text.trim();\n",
       "            Bokeh.index[element_id].model.document.clear();\n",
       "            delete Bokeh.index[element_id];\n",
       "          }\n",
       "        }\n",
       "      });\n",
       "      // Destroy server and session\n",
       "      var cmd = \"import bokeh.io.notebook as ion; ion.destroy_server('\" + server_id + \"')\";\n",
       "      cell.notebook.kernel.execute(cmd);\n",
       "    }\n",
       "  }\n",
       "\n",
       "  /**\n",
       "   * Handle when a new output is added\n",
       "   */\n",
       "  function handleAddOutput(event, handle) {\n",
       "    var output_area = handle.output_area;\n",
       "    var output = handle.output;\n",
       "\n",
       "    // limit handleAddOutput to display_data with EXEC_MIME_TYPE content only\n",
       "    if ((output.output_type != \"display_data\") || (!output.data.hasOwnProperty(EXEC_MIME_TYPE))) {\n",
       "      return\n",
       "    }\n",
       "\n",
       "    var toinsert = output_area.element.find(\".\" + CLASS_NAME.split(' ')[0]);\n",
       "\n",
       "    if (output.metadata[EXEC_MIME_TYPE][\"id\"] !== undefined) {\n",
       "      toinsert[0].firstChild.textContent = output.data[JS_MIME_TYPE];\n",
       "      // store reference to embed id on output_area\n",
       "      output_area._bokeh_element_id = output.metadata[EXEC_MIME_TYPE][\"id\"];\n",
       "    }\n",
       "    if (output.metadata[EXEC_MIME_TYPE][\"server_id\"] !== undefined) {\n",
       "      var bk_div = document.createElement(\"div\");\n",
       "      bk_div.innerHTML = output.data[HTML_MIME_TYPE];\n",
       "      var script_attrs = bk_div.children[0].attributes;\n",
       "      for (var i = 0; i < script_attrs.length; i++) {\n",
       "        toinsert[0].firstChild.setAttribute(script_attrs[i].name, script_attrs[i].value);\n",
       "      }\n",
       "      // store reference to server id on output_area\n",
       "      output_area._bokeh_server_id = output.metadata[EXEC_MIME_TYPE][\"server_id\"];\n",
       "    }\n",
       "  }\n",
       "\n",
       "  function register_renderer(events, OutputArea) {\n",
       "\n",
       "    function append_mime(data, metadata, element) {\n",
       "      // create a DOM node to render to\n",
       "      var toinsert = this.create_output_subarea(\n",
       "        metadata,\n",
       "        CLASS_NAME,\n",
       "        EXEC_MIME_TYPE\n",
       "      );\n",
       "      this.keyboard_manager.register_events(toinsert);\n",
       "      // Render to node\n",
       "      var props = {data: data, metadata: metadata[EXEC_MIME_TYPE]};\n",
       "      render(props, toinsert[0]);\n",
       "      element.append(toinsert);\n",
       "      return toinsert\n",
       "    }\n",
       "\n",
       "    /* Handle when an output is cleared or removed */\n",
       "    events.on('clear_output.CodeCell', handleClearOutput);\n",
       "    events.on('delete.Cell', handleClearOutput);\n",
       "\n",
       "    /* Handle when a new output is added */\n",
       "    events.on('output_added.OutputArea', handleAddOutput);\n",
       "\n",
       "    /**\n",
       "     * Register the mime type and append_mime function with output_area\n",
       "     */\n",
       "    OutputArea.prototype.register_mime_type(EXEC_MIME_TYPE, append_mime, {\n",
       "      /* Is output safe? */\n",
       "      safe: true,\n",
       "      /* Index of renderer in `output_area.display_order` */\n",
       "      index: 0\n",
       "    });\n",
       "  }\n",
       "\n",
       "  // register the mime type if in Jupyter Notebook environment and previously unregistered\n",
       "  if (root.Jupyter !== undefined) {\n",
       "    var events = require('base/js/events');\n",
       "    var OutputArea = require('notebook/js/outputarea').OutputArea;\n",
       "\n",
       "    if (OutputArea.prototype.mime_types().indexOf(EXEC_MIME_TYPE) == -1) {\n",
       "      register_renderer(events, OutputArea);\n",
       "    }\n",
       "  }\n",
       "\n",
       "  \n",
       "  if (typeof (root._bokeh_timeout) === \"undefined\" || force === true) {\n",
       "    root._bokeh_timeout = Date.now() + 5000;\n",
       "    root._bokeh_failed_load = false;\n",
       "  }\n",
       "\n",
       "  var NB_LOAD_WARNING = {'data': {'text/html':\n",
       "     \"<div style='background-color: #fdd'>\\n\"+\n",
       "     \"<p>\\n\"+\n",
       "     \"BokehJS does not appear to have successfully loaded. If loading BokehJS from CDN, this \\n\"+\n",
       "     \"may be due to a slow or bad network connection. Possible fixes:\\n\"+\n",
       "     \"</p>\\n\"+\n",
       "     \"<ul>\\n\"+\n",
       "     \"<li>re-rerun `output_notebook()` to attempt to load from CDN again, or</li>\\n\"+\n",
       "     \"<li>use INLINE resources instead, as so:</li>\\n\"+\n",
       "     \"</ul>\\n\"+\n",
       "     \"<code>\\n\"+\n",
       "     \"from bokeh.resources import INLINE\\n\"+\n",
       "     \"output_notebook(resources=INLINE)\\n\"+\n",
       "     \"</code>\\n\"+\n",
       "     \"</div>\"}};\n",
       "\n",
       "  function display_loaded() {\n",
       "    var el = document.getElementById(\"c99ad8b6-caea-43d8-b73a-7af0aa0fce2e\");\n",
       "    if (el != null) {\n",
       "      el.textContent = \"BokehJS is loading...\";\n",
       "    }\n",
       "    if (root.Bokeh !== undefined) {\n",
       "      if (el != null) {\n",
       "        el.textContent = \"BokehJS \" + root.Bokeh.version + \" successfully loaded.\";\n",
       "      }\n",
       "    } else if (Date.now() < root._bokeh_timeout) {\n",
       "      setTimeout(display_loaded, 100)\n",
       "    }\n",
       "  }\n",
       "\n",
       "\n",
       "  function run_callbacks() {\n",
       "    try {\n",
       "      root._bokeh_onload_callbacks.forEach(function(callback) { callback() });\n",
       "    }\n",
       "    finally {\n",
       "      delete root._bokeh_onload_callbacks\n",
       "    }\n",
       "    console.info(\"Bokeh: all callbacks have finished\");\n",
       "  }\n",
       "\n",
       "  function load_libs(js_urls, callback) {\n",
       "    root._bokeh_onload_callbacks.push(callback);\n",
       "    if (root._bokeh_is_loading > 0) {\n",
       "      console.log(\"Bokeh: BokehJS is being loaded, scheduling callback at\", now());\n",
       "      return null;\n",
       "    }\n",
       "    if (js_urls == null || js_urls.length === 0) {\n",
       "      run_callbacks();\n",
       "      return null;\n",
       "    }\n",
       "    console.log(\"Bokeh: BokehJS not loaded, scheduling load and callback at\", now());\n",
       "    root._bokeh_is_loading = js_urls.length;\n",
       "    for (var i = 0; i < js_urls.length; i++) {\n",
       "      var url = js_urls[i];\n",
       "      var s = document.createElement('script');\n",
       "      s.src = url;\n",
       "      s.async = false;\n",
       "      s.onreadystatechange = s.onload = function() {\n",
       "        root._bokeh_is_loading--;\n",
       "        if (root._bokeh_is_loading === 0) {\n",
       "          console.log(\"Bokeh: all BokehJS libraries loaded\");\n",
       "          run_callbacks()\n",
       "        }\n",
       "      };\n",
       "      s.onerror = function() {\n",
       "        console.warn(\"failed to load library \" + url);\n",
       "      };\n",
       "      console.log(\"Bokeh: injecting script tag for BokehJS library: \", url);\n",
       "      document.getElementsByTagName(\"head\")[0].appendChild(s);\n",
       "    }\n",
       "  };var element = document.getElementById(\"c99ad8b6-caea-43d8-b73a-7af0aa0fce2e\");\n",
       "  if (element == null) {\n",
       "    console.log(\"Bokeh: ERROR: autoload.js configured with elementid 'c99ad8b6-caea-43d8-b73a-7af0aa0fce2e' but no matching script tag was found. \")\n",
       "    return false;\n",
       "  }\n",
       "\n",
       "  var js_urls = [\"https://cdn.pydata.org/bokeh/release/bokeh-0.12.14.min.js\", \"https://cdn.pydata.org/bokeh/release/bokeh-widgets-0.12.14.min.js\", \"https://cdn.pydata.org/bokeh/release/bokeh-tables-0.12.14.min.js\", \"https://cdn.pydata.org/bokeh/release/bokeh-gl-0.12.14.min.js\"];\n",
       "\n",
       "  var inline_js = [\n",
       "    function(Bokeh) {\n",
       "      Bokeh.set_log_level(\"info\");\n",
       "    },\n",
       "    \n",
       "    function(Bokeh) {\n",
       "      \n",
       "    },\n",
       "    function(Bokeh) {\n",
       "      console.log(\"Bokeh: injecting CSS: https://cdn.pydata.org/bokeh/release/bokeh-0.12.14.min.css\");\n",
       "      Bokeh.embed.inject_css(\"https://cdn.pydata.org/bokeh/release/bokeh-0.12.14.min.css\");\n",
       "      console.log(\"Bokeh: injecting CSS: https://cdn.pydata.org/bokeh/release/bokeh-widgets-0.12.14.min.css\");\n",
       "      Bokeh.embed.inject_css(\"https://cdn.pydata.org/bokeh/release/bokeh-widgets-0.12.14.min.css\");\n",
       "      console.log(\"Bokeh: injecting CSS: https://cdn.pydata.org/bokeh/release/bokeh-tables-0.12.14.min.css\");\n",
       "      Bokeh.embed.inject_css(\"https://cdn.pydata.org/bokeh/release/bokeh-tables-0.12.14.min.css\");\n",
       "    }\n",
       "  ];\n",
       "\n",
       "  function run_inline_js() {\n",
       "    \n",
       "    if ((root.Bokeh !== undefined) || (force === true)) {\n",
       "      for (var i = 0; i < inline_js.length; i++) {\n",
       "        inline_js[i].call(root, root.Bokeh);\n",
       "      }if (force === true) {\n",
       "        display_loaded();\n",
       "      }} else if (Date.now() < root._bokeh_timeout) {\n",
       "      setTimeout(run_inline_js, 100);\n",
       "    } else if (!root._bokeh_failed_load) {\n",
       "      console.log(\"Bokeh: BokehJS failed to load within specified timeout.\");\n",
       "      root._bokeh_failed_load = true;\n",
       "    } else if (force !== true) {\n",
       "      var cell = $(document.getElementById(\"c99ad8b6-caea-43d8-b73a-7af0aa0fce2e\")).parents('.cell').data().cell;\n",
       "      cell.output_area.append_execute_result(NB_LOAD_WARNING)\n",
       "    }\n",
       "\n",
       "  }\n",
       "\n",
       "  if (root._bokeh_is_loading === 0) {\n",
       "    console.log(\"Bokeh: BokehJS loaded, going straight to plotting\");\n",
       "    run_inline_js();\n",
       "  } else {\n",
       "    load_libs(js_urls, function() {\n",
       "      console.log(\"Bokeh: BokehJS plotting callback run at\", now());\n",
       "      run_inline_js();\n",
       "    });\n",
       "  }\n",
       "}(window));"
      ],
      "application/vnd.bokehjs_load.v0+json": "\n(function(root) {\n  function now() {\n    return new Date();\n  }\n\n  var force = true;\n\n  if (typeof (root._bokeh_onload_callbacks) === \"undefined\" || force === true) {\n    root._bokeh_onload_callbacks = [];\n    root._bokeh_is_loading = undefined;\n  }\n\n  \n\n  \n  if (typeof (root._bokeh_timeout) === \"undefined\" || force === true) {\n    root._bokeh_timeout = Date.now() + 5000;\n    root._bokeh_failed_load = false;\n  }\n\n  var NB_LOAD_WARNING = {'data': {'text/html':\n     \"<div style='background-color: #fdd'>\\n\"+\n     \"<p>\\n\"+\n     \"BokehJS does not appear to have successfully loaded. If loading BokehJS from CDN, this \\n\"+\n     \"may be due to a slow or bad network connection. Possible fixes:\\n\"+\n     \"</p>\\n\"+\n     \"<ul>\\n\"+\n     \"<li>re-rerun `output_notebook()` to attempt to load from CDN again, or</li>\\n\"+\n     \"<li>use INLINE resources instead, as so:</li>\\n\"+\n     \"</ul>\\n\"+\n     \"<code>\\n\"+\n     \"from bokeh.resources import INLINE\\n\"+\n     \"output_notebook(resources=INLINE)\\n\"+\n     \"</code>\\n\"+\n     \"</div>\"}};\n\n  function display_loaded() {\n    var el = document.getElementById(\"c99ad8b6-caea-43d8-b73a-7af0aa0fce2e\");\n    if (el != null) {\n      el.textContent = \"BokehJS is loading...\";\n    }\n    if (root.Bokeh !== undefined) {\n      if (el != null) {\n        el.textContent = \"BokehJS \" + root.Bokeh.version + \" successfully loaded.\";\n      }\n    } else if (Date.now() < root._bokeh_timeout) {\n      setTimeout(display_loaded, 100)\n    }\n  }\n\n\n  function run_callbacks() {\n    try {\n      root._bokeh_onload_callbacks.forEach(function(callback) { callback() });\n    }\n    finally {\n      delete root._bokeh_onload_callbacks\n    }\n    console.info(\"Bokeh: all callbacks have finished\");\n  }\n\n  function load_libs(js_urls, callback) {\n    root._bokeh_onload_callbacks.push(callback);\n    if (root._bokeh_is_loading > 0) {\n      console.log(\"Bokeh: BokehJS is being loaded, scheduling callback at\", now());\n      return null;\n    }\n    if (js_urls == null || js_urls.length === 0) {\n      run_callbacks();\n      return null;\n    }\n    console.log(\"Bokeh: BokehJS not loaded, scheduling load and callback at\", now());\n    root._bokeh_is_loading = js_urls.length;\n    for (var i = 0; i < js_urls.length; i++) {\n      var url = js_urls[i];\n      var s = document.createElement('script');\n      s.src = url;\n      s.async = false;\n      s.onreadystatechange = s.onload = function() {\n        root._bokeh_is_loading--;\n        if (root._bokeh_is_loading === 0) {\n          console.log(\"Bokeh: all BokehJS libraries loaded\");\n          run_callbacks()\n        }\n      };\n      s.onerror = function() {\n        console.warn(\"failed to load library \" + url);\n      };\n      console.log(\"Bokeh: injecting script tag for BokehJS library: \", url);\n      document.getElementsByTagName(\"head\")[0].appendChild(s);\n    }\n  };var element = document.getElementById(\"c99ad8b6-caea-43d8-b73a-7af0aa0fce2e\");\n  if (element == null) {\n    console.log(\"Bokeh: ERROR: autoload.js configured with elementid 'c99ad8b6-caea-43d8-b73a-7af0aa0fce2e' but no matching script tag was found. \")\n    return false;\n  }\n\n  var js_urls = [\"https://cdn.pydata.org/bokeh/release/bokeh-0.12.14.min.js\", \"https://cdn.pydata.org/bokeh/release/bokeh-widgets-0.12.14.min.js\", \"https://cdn.pydata.org/bokeh/release/bokeh-tables-0.12.14.min.js\", \"https://cdn.pydata.org/bokeh/release/bokeh-gl-0.12.14.min.js\"];\n\n  var inline_js = [\n    function(Bokeh) {\n      Bokeh.set_log_level(\"info\");\n    },\n    \n    function(Bokeh) {\n      \n    },\n    function(Bokeh) {\n      console.log(\"Bokeh: injecting CSS: https://cdn.pydata.org/bokeh/release/bokeh-0.12.14.min.css\");\n      Bokeh.embed.inject_css(\"https://cdn.pydata.org/bokeh/release/bokeh-0.12.14.min.css\");\n      console.log(\"Bokeh: injecting CSS: https://cdn.pydata.org/bokeh/release/bokeh-widgets-0.12.14.min.css\");\n      Bokeh.embed.inject_css(\"https://cdn.pydata.org/bokeh/release/bokeh-widgets-0.12.14.min.css\");\n      console.log(\"Bokeh: injecting CSS: https://cdn.pydata.org/bokeh/release/bokeh-tables-0.12.14.min.css\");\n      Bokeh.embed.inject_css(\"https://cdn.pydata.org/bokeh/release/bokeh-tables-0.12.14.min.css\");\n    }\n  ];\n\n  function run_inline_js() {\n    \n    if ((root.Bokeh !== undefined) || (force === true)) {\n      for (var i = 0; i < inline_js.length; i++) {\n        inline_js[i].call(root, root.Bokeh);\n      }if (force === true) {\n        display_loaded();\n      }} else if (Date.now() < root._bokeh_timeout) {\n      setTimeout(run_inline_js, 100);\n    } else if (!root._bokeh_failed_load) {\n      console.log(\"Bokeh: BokehJS failed to load within specified timeout.\");\n      root._bokeh_failed_load = true;\n    } else if (force !== true) {\n      var cell = $(document.getElementById(\"c99ad8b6-caea-43d8-b73a-7af0aa0fce2e\")).parents('.cell').data().cell;\n      cell.output_area.append_execute_result(NB_LOAD_WARNING)\n    }\n\n  }\n\n  if (root._bokeh_is_loading === 0) {\n    console.log(\"Bokeh: BokehJS loaded, going straight to plotting\");\n    run_inline_js();\n  } else {\n    load_libs(js_urls, function() {\n      console.log(\"Bokeh: BokehJS plotting callback run at\", now());\n      run_inline_js();\n    });\n  }\n}(window));"
     },
     "metadata": {},
     "output_type": "display_data"
    }
   ],
   "source": [
    "output_notebook()"
   ]
  },
  {
   "cell_type": "code",
   "execution_count": 7,
   "metadata": {
    "collapsed": true
   },
   "outputs": [],
   "source": [
    "def fmt_cool(ds_in):\n",
    "    ds = ds_in.copy(deep=True)\n",
    "    if 'igg' in ds.dims:\n",
    "        ds = ds.sel(igg=1)\n",
    "\n",
    "    if 'g' in ds.dims:\n",
    "        ds = ds.sum('g')\n",
    "            \n",
    "    if 'band' in ds.dims:\n",
    "        try:\n",
    "            ds = ds.squeeze('band')\n",
    "        except ValueError:\n",
    "            ds = ds.sum('band')\n",
    "                \n",
    "    return ds['coolrg']\n",
    "\n",
    "\n",
    "def pltdata_cooling_1(ds_cool_crd=None, ds_cool_wgt=None):\n",
    "    \n",
    "\n",
    "\n",
    "    colors = all_palettes['Set1'][4]\n",
    "    data = [{'label': 'CRD',\n",
    "             'srs': fmt_cool(ds_cool_crd),\n",
    "             'line_dash': 'solid', 'line_width': 1.5,\n",
    "             'marker': 'circle', 'marker_size': 5,\n",
    "             'color': colors[2], 'alpha': 1,},\n",
    "            {'label': 'WGT igg=10',\n",
    "             'srs': fmt_cool(ds_cool_wgt.sel(igg=10)),\n",
    "             'line_dash': 'solid', 'line_width': 3,\n",
    "             'marker': 'square', 'marker_size': 5,\n",
    "             'color': colors[3], 'alpha': .6},\n",
    "            {'label': 'WGT igg=1',\n",
    "             'srs': fmt_cool(ds_cool_wgt.sel(igg=1)),\n",
    "             'line_dash': 'dotdash', 'line_width': 3,\n",
    "             'marker': 'inverted_triangle', 'marker_size': 5,\n",
    "             'color': colors[1], 'alpha': .6}\n",
    "           ]\n",
    "    return data\n",
    "\n",
    "\n",
    "def nice_xlims(pltdata=None, prange=None):\n",
    "    \n",
    "    def get_slice(srs):\n",
    "        return srs.sel(pressure=slice(*prange))\n",
    "    \n",
    "    srss = [d['srs'] for d in pltdata]\n",
    "    vmin = min([get_slice(srs).min() for srs in srss])\n",
    "    vmax = max([get_slice(srs).max() for srs in srss])\n",
    "    dv = (vmax - vmin) * .01\n",
    "    return float(vmin - dv), float(vmax + dv)\n",
    "    \n",
    "\n",
    "def plt_cooling_bokeh(pltdata=None):\n",
    "    '''\n",
    "    Plot a list of cooling rate profiles using bokeh.\n",
    "    '''\n",
    "    ymin = 1e-2 \n",
    "    ymax = 1020 \n",
    "        \n",
    "    p1 = figure(title=\"Linear pressure scale\", \n",
    "                plot_width=400)        \n",
    "    xmin, xmax = nice_xlims(pltdata, prange=(50, 1050))\n",
    "    for d in pltdata:\n",
    "        if 'marker' in d:\n",
    "            getattr(p1, d['marker'])(d['srs'].values, \n",
    "                    d['srs'].coords['pressure'].values,\n",
    "                    color=d['color'], alpha=.7)\n",
    "        p1.line(d['srs'].values, \n",
    "                d['srs'].coords['pressure'].values,\n",
    "                color=d['color'], alpha=d['alpha'], \n",
    "                line_width=d['line_width'], line_dash=d['line_dash'])\n",
    "    \n",
    "    p1.y_range = Range1d(ymax, ymin)\n",
    "    p1.yaxis.axis_label = 'pressure [mb]'   \n",
    "    p1.x_range = Range1d(xmin, xmax)\n",
    "    p1.xaxis.axis_label = 'cooling rate [K/day]'\n",
    "            \n",
    "    p2 = figure(title='Log pressure scale', y_axis_type='log',\n",
    "                plot_width=560)\n",
    "    xmin, xmax = nice_xlims(pltdata, prange=(.01, 200))\n",
    "    \n",
    "    rs = []\n",
    "    for d in pltdata:\n",
    "        rd = []\n",
    "        if 'marker' in d:\n",
    "            r_mark = getattr(p2, d['marker'])(d['srs'].values, \n",
    "                        d['srs'].coords['pressure'].values,\n",
    "                        color=d['color'], alpha=.7)\n",
    "            rd.append(r_mark)\n",
    "        r_line = p2.line(d['srs'].values, \n",
    "                    d['srs'].coords['pressure'].values,\n",
    "                    color=d['color'], alpha=d['alpha'], \n",
    "                    line_width=d['line_width'], line_dash=d['line_dash'])\n",
    "        rd.append(r_line)\n",
    "      \n",
    "        rs.append(rd)\n",
    "        \n",
    "    p2.y_range = Range1d(ymax, ymin)  \n",
    "    p2.yaxis.axis_label = 'pressure [mb]'\n",
    "    \n",
    "    p2.x_range = Range1d(xmin, xmax)\n",
    "    p2.xaxis.axis_label = 'cooling rate [K/day]'\n",
    "    \n",
    "    items = [(d['label'], r) for r, d in zip(rs, pltdata)]\n",
    "    legend = Legend(items=items, location=(10, -30))\n",
    "    legend.label_text_font_size = '8pt'\n",
    "    \n",
    "    p2.add_layout(legend, 'right')  \n",
    "    \n",
    "    show(gridplot(p1, p2, ncols=2, plot_height=500))\n",
    "    \n",
    "\n",
    "def script_plt_cooling():\n",
    "    pltdata = pltdata_cooling_1(\n",
    "        ds_cool_crd=DS_COOL_CRD,\n",
    "        ds_cool_wgt=DS_COOL_WGT)\n",
    "    plt_cooling_bokeh(pltdata=pltdata)\n",
    "    print('''FIGURE. Cooling rate profiles.''')"
   ]
  },
  {
   "cell_type": "code",
   "execution_count": 8,
   "metadata": {
    "collapsed": true
   },
   "outputs": [],
   "source": [
    "def fmt_flux(ds_in):\n",
    "    ds = ds_in.copy(deep=True)\n",
    "    \n",
    "    for l in ('level', 'layer'):\n",
    "        if l in ds.data_vars:\n",
    "            if len(ds[l].dims) > 1:\n",
    "                surface = {d: 0 for d in ds.dims if d != 'pressure'}\n",
    "                coord_level = ds[l][surface]\n",
    "                ds.coords[l] = ('pressure', coord_level)\n",
    "            else:\n",
    "                ds.coords[l] = ('pressure', ds[l])\n",
    "        \n",
    "    ds = ds.isel(pressure=[0, 23, -1])\n",
    "    \n",
    "    if 'igg' in ds.dims:\n",
    "        if ds.dims['igg'] > 1:\n",
    "            print('Select an igg value to view in table.')\n",
    "            raise ValueError\n",
    "        else:\n",
    "            ds = ds.squeeze('igg').drop('igg')\n",
    "    else:\n",
    "        if 'igg' in ds.coords:\n",
    "            ds = ds.drop('igg')\n",
    "\n",
    "    if 'g' in ds.dims:\n",
    "        ds = ds.sum('g')\n",
    "            \n",
    "    if 'band' in ds.dims:\n",
    "        try:\n",
    "            ds = ds.squeeze('band').drop('band')\n",
    "        except ValueError:\n",
    "            ds = ds.sum('band')\n",
    "                \n",
    "    df = ds.to_dataframe()\n",
    "    df = df.set_index('level', append=True)               \n",
    "    return df\n",
    "\n",
    "\n",
    "def tbdata_flux(ds_flux_crd=None, ds_flux_wgt=None):\n",
    "    ilevels = [0, 23, -1]\n",
    "            \n",
    "    benchmark = {'label': 'CRD',\n",
    "                 'df': fmt_flux(ds_flux_crd)}\n",
    "    tbs = [{'label': 'WGT igg=10',\n",
    "            'df': fmt_flux(ds_flux_wgt.sel(igg=10))},\n",
    "           {'label': 'WGT igg=1',\n",
    "            'df': fmt_flux(ds_flux_wgt.sel(igg=1))}]\n",
    "    \n",
    "    data = {'benchmark': benchmark, 'others': tbs}\n",
    "    return data\n",
    "\n",
    "\n",
    "def tb_flux(tbdata=None):\n",
    "    benchmark = tbdata['benchmark']\n",
    "    others = tbdata['others']\n",
    "    \n",
    "    def show_tb(d=None):\n",
    "        display.display(d['df'])\n",
    "        print('Table.', 'Fluxes.', d['label'])\n",
    "        \n",
    "    def show_tbdiff(d0=None, d=None):\n",
    "        df = d['df']\n",
    "        df.index = d0['df'].index\n",
    "        display.display(df - d0['df'])\n",
    "        print('Table.', 'Fluxes.', \n",
    "              '({}) - ({})'.format(d['label'], d0['label']))\n",
    "        \n",
    "    show_tb(benchmark)\n",
    "    for d in others:\n",
    "        show_tb(d)\n",
    "        \n",
    "    for d in others:\n",
    "        show_tbdiff(d=d, d0=benchmark)\n",
    "        \n",
    "        \n",
    "def script_tb_flux():\n",
    "    data = tbdata_flux(ds_flux_crd=DS_FLUX_CRD,\n",
    "                       ds_flux_wgt=DS_FLUX_WGT)\n",
    "    tb_flux(tbdata=data)"
   ]
  },
  {
   "cell_type": "code",
   "execution_count": 9,
   "metadata": {
    "collapsed": true
   },
   "outputs": [],
   "source": [
    "def band_map():\n",
    "    '''\n",
    "    Maps spectral bands in lblnew to spectral bands in clirad.\n",
    "    '''\n",
    "    lblnew2clirad = {'1': '1',\n",
    "            '2': '2',\n",
    "            '3a': '3',\n",
    "            '3b': '4',\n",
    "            '3c': '5',\n",
    "            '4': '6', \n",
    "            '5': '7',\n",
    "            '6': '8',\n",
    "            '7': '9', \n",
    "            '8': '10',\n",
    "            '9': '11'}\n",
    "    \n",
    "    clirad2lblnew = {clirad: lblnew \n",
    "                     for lblnew, clirad in lblnew2clirad.items()}\n",
    "    return clirad2lblnew\n",
    "\n",
    "\n",
    "def gasbands():\n",
    "    bmap = band_map()\n",
    "    gases = list(PARAM['molecule'].keys())\n",
    "    \n",
    "    bands = [str(b) for b in PARAM['band']]\n",
    "    return list(itertools.product(gases, bands))\n",
    "\n",
    "\n",
    "def print_bestfit_params():\n",
    "    print('Best-fit values for each (gas, band)')\n",
    "    print('------------------------------------')\n",
    "    for gas, band in gasbands():\n",
    "        print('o {} band{}'.format(gas, band))\n",
    "        param = bestfits.kdist_params(molecule=gas, band=band)\n",
    "        for name, value in param.items():\n",
    "            print(2 * ' ' + '{} = {}'.format(name, value))\n",
    "\n",
    "        \n",
    "def print_input_param():        \n",
    "    for name, value in PARAM.items():\n",
    "        print('{} = {}'.format(name, value))\n"
   ]
  },
  {
   "cell_type": "code",
   "execution_count": 10,
   "metadata": {
    "collapsed": true,
    "scrolled": false
   },
   "outputs": [],
   "source": [
    "def show_html(s):\n",
    "    display.display(display.HTML(s))\n",
    "\n",
    "    \n",
    "def show_markdown(s):\n",
    "    display.display(display.Markdown(s))\n",
    "\n",
    "    \n",
    "def script():\n",
    "    \n",
    "    title = '### LBLNEW-OVERLAP'\n",
    "    s_input = 'Input Parameters'\n",
    "    s_bestfits = 'Best-fit Parameters'\n",
    "    s_plt_cooling = 'Cooling Rate Profiles'\n",
    "    s_tb_flux = 'Flux Comparison'\n",
    "    \n",
    "    # title\n",
    "    show_markdown(title)\n",
    "    \n",
    "    # TOC\n",
    "    show_markdown('### Table of Contents')\n",
    "    show_html(climahtml.getHTML_hrefanchor(s_input))\n",
    "    show_html(climahtml.getHTML_hrefanchor(s_plt_cooling))\n",
    "    show_html(climahtml.getHTML_hrefanchor(s_tb_flux))\n",
    "    show_html(climahtml.getHTML_hrefanchor(s_bestfits))\n",
    "    \n",
    "    # Input parameters\n",
    "    show_html(climahtml.getHTML_idanchor(s_input))\n",
    "    show_markdown(climahtml.getMarkdown_sectitle(s_input))\n",
    "    print_input_param()\n",
    "    \n",
    "    # Cooling rate profiles\n",
    "    show_html(climahtml.getHTML_idanchor(s_plt_cooling))\n",
    "    show_markdown(climahtml.getMarkdown_sectitle(s_plt_cooling))\n",
    "    script_plt_cooling()\n",
    "    \n",
    "    # Flux comparison\n",
    "    show_html(climahtml.getHTML_idanchor(s_tb_flux))\n",
    "    show_markdown(climahtml.getMarkdown_sectitle(s_tb_flux))\n",
    "    script_tb_flux()\n",
    "    \n",
    "    # Best-fit values\n",
    "    show_html(climahtml.getHTML_idanchor(s_bestfits))\n",
    "    show_markdown(climahtml.getMarkdown_sectitle(s_bestfits))\n",
    "    print_bestfit_params()\n",
    "   \n",
    "    "
   ]
  },
  {
   "cell_type": "code",
   "execution_count": 11,
   "metadata": {
    "scrolled": false
   },
   "outputs": [
    {
     "data": {
      "text/markdown": [
       "### LBLNEW-OVERLAP"
      ],
      "text/plain": [
       "<IPython.core.display.Markdown object>"
      ]
     },
     "metadata": {},
     "output_type": "display_data"
    },
    {
     "data": {
      "text/markdown": [
       "### Table of Contents"
      ],
      "text/plain": [
       "<IPython.core.display.Markdown object>"
      ]
     },
     "metadata": {},
     "output_type": "display_data"
    },
    {
     "data": {
      "text/html": [
       "<a href=\"#Input_Parameters\">Input Parameters</a>"
      ],
      "text/plain": [
       "<IPython.core.display.HTML object>"
      ]
     },
     "metadata": {},
     "output_type": "display_data"
    },
    {
     "data": {
      "text/html": [
       "<a href=\"#Cooling_Rate_Profiles\">Cooling Rate Profiles</a>"
      ],
      "text/plain": [
       "<IPython.core.display.HTML object>"
      ]
     },
     "metadata": {},
     "output_type": "display_data"
    },
    {
     "data": {
      "text/html": [
       "<a href=\"#Flux_Comparison\">Flux Comparison</a>"
      ],
      "text/plain": [
       "<IPython.core.display.HTML object>"
      ]
     },
     "metadata": {},
     "output_type": "display_data"
    },
    {
     "data": {
      "text/html": [
       "<a href=\"#Best-fit_Parameters\">Best-fit Parameters</a>"
      ],
      "text/plain": [
       "<IPython.core.display.HTML object>"
      ]
     },
     "metadata": {},
     "output_type": "display_data"
    },
    {
     "data": {
      "text/html": [
       "<a id=\"Input_Parameters\"></a>"
      ],
      "text/plain": [
       "<IPython.core.display.HTML object>"
      ]
     },
     "metadata": {},
     "output_type": "display_data"
    },
    {
     "data": {
      "text/markdown": [
       "# Input Parameters"
      ],
      "text/plain": [
       "<IPython.core.display.Markdown object>"
      ]
     },
     "metadata": {},
     "output_type": "display_data"
    },
    {
     "name": "stdout",
     "output_type": "stream",
     "text": [
      "commitnumber = c9f85fd\n",
      "molecule = {'h2o': 'atmpro', 'n2o': 3.2e-07}\n",
      "band = 7\n",
      "nv = 1000\n",
      "dv = 0.001\n",
      "atmpro = saw\n",
      "tsfc = 257\n"
     ]
    },
    {
     "data": {
      "text/html": [
       "<a id=\"Cooling_Rate_Profiles\"></a>"
      ],
      "text/plain": [
       "<IPython.core.display.HTML object>"
      ]
     },
     "metadata": {},
     "output_type": "display_data"
    },
    {
     "data": {
      "text/markdown": [
       "# Cooling Rate Profiles"
      ],
      "text/plain": [
       "<IPython.core.display.Markdown object>"
      ]
     },
     "metadata": {},
     "output_type": "display_data"
    },
    {
     "data": {
      "text/html": [
       "\n",
       "<div class=\"bk-root\">\n",
       "    <div class=\"bk-plotdiv\" id=\"52133419-5924-44f1-bbe8-bdd96f0bb688\"></div>\n",
       "</div>"
      ]
     },
     "metadata": {},
     "output_type": "display_data"
    },
    {
     "data": {
      "application/javascript": [
       "(function(root) {\n",
       "  function embed_document(root) {\n",
       "    \n",
       "  var docs_json = {\"c3d1c748-c5df-4b3f-8ff9-b8448a503a9c\":{\"roots\":{\"references\":[{\"attributes\":{\"fill_alpha\":{\"value\":0.1},\"fill_color\":{\"value\":\"#1f77b4\"},\"line_alpha\":{\"value\":0.1},\"line_color\":{\"value\":\"#1f77b4\"},\"x\":{\"field\":\"x\"},\"y\":{\"field\":\"y\"}},\"id\":\"8ba8ad56-4500-40ac-a35a-24133bf95a55\",\"type\":\"Square\"},{\"attributes\":{\"line_alpha\":0.1,\"line_color\":\"#1f77b4\",\"line_width\":3,\"x\":{\"field\":\"x\"},\"y\":{\"field\":\"y\"}},\"id\":\"5974572f-5506-40f4-836c-82e3fd020065\",\"type\":\"Line\"},{\"attributes\":{},\"id\":\"330274f3-02d6-4af9-ac95-b50930f3310e\",\"type\":\"ResetTool\"},{\"attributes\":{\"data_source\":{\"id\":\"5fc3583f-d0bd-4ac3-9fda-bbdf00a82a52\",\"type\":\"ColumnDataSource\"},\"glyph\":{\"id\":\"e60000ed-6e50-4f3a-875b-3d29420e6334\",\"type\":\"Line\"},\"hover_glyph\":null,\"muted_glyph\":null,\"nonselection_glyph\":{\"id\":\"5974572f-5506-40f4-836c-82e3fd020065\",\"type\":\"Line\"},\"selection_glyph\":null,\"view\":{\"id\":\"0ffdd73d-59ec-4d24-a859-882432ccae39\",\"type\":\"CDSView\"}},\"id\":\"f293f3d8-bacb-4b31-b340-2ee68b8d9e21\",\"type\":\"GlyphRenderer\"},{\"attributes\":{\"fill_alpha\":{\"value\":0.7},\"fill_color\":{\"value\":\"#377eb8\"},\"line_alpha\":{\"value\":0.7},\"line_color\":{\"value\":\"#377eb8\"},\"x\":{\"field\":\"x\"},\"y\":{\"field\":\"y\"}},\"id\":\"0a738e82-a635-418e-9523-b73c13771548\",\"type\":\"InvertedTriangle\"},{\"attributes\":{},\"id\":\"7bd7741b-a3bd-4ad4-86e9-c22bd0505e09\",\"type\":\"WheelZoomTool\"},{\"attributes\":{\"source\":{\"id\":\"5fc3583f-d0bd-4ac3-9fda-bbdf00a82a52\",\"type\":\"ColumnDataSource\"}},\"id\":\"0ffdd73d-59ec-4d24-a859-882432ccae39\",\"type\":\"CDSView\"},{\"attributes\":{},\"id\":\"f3b67f45-61a8-4633-87d1-e3d8164310b5\",\"type\":\"PanTool\"},{\"attributes\":{\"callback\":null,\"end\":0.097326494171,\"start\":-0.0060431792709999994},\"id\":\"52383d19-6b94-4588-a036-7f508f11e8bf\",\"type\":\"Range1d\"},{\"attributes\":{\"fill_alpha\":{\"value\":0.7},\"fill_color\":{\"value\":\"#984ea3\"},\"line_alpha\":{\"value\":0.7},\"line_color\":{\"value\":\"#984ea3\"},\"x\":{\"field\":\"x\"},\"y\":{\"field\":\"y\"}},\"id\":\"5113b74d-3759-4aff-995e-7ac81a1bdf06\",\"type\":\"Square\"},{\"attributes\":{\"fill_alpha\":{\"value\":0.1},\"fill_color\":{\"value\":\"#1f77b4\"},\"line_alpha\":{\"value\":0.1},\"line_color\":{\"value\":\"#1f77b4\"},\"x\":{\"field\":\"x\"},\"y\":{\"field\":\"y\"}},\"id\":\"b364a2fc-c67c-4879-9612-2892e682160b\",\"type\":\"InvertedTriangle\"},{\"attributes\":{\"line_alpha\":0.6,\"line_color\":\"#377eb8\",\"line_dash\":[2,4,6,4],\"line_width\":3,\"x\":{\"field\":\"x\"},\"y\":{\"field\":\"y\"}},\"id\":\"b84b39b3-5d54-4291-afbb-d525f1b5cc8b\",\"type\":\"Line\"},{\"attributes\":{\"line_alpha\":0.1,\"line_color\":\"#1f77b4\",\"line_dash\":[2,4,6,4],\"line_width\":3,\"x\":{\"field\":\"x\"},\"y\":{\"field\":\"y\"}},\"id\":\"3b323ca1-1e6a-48ce-9072-8b3ed6004461\",\"type\":\"Line\"},{\"attributes\":{\"data_source\":{\"id\":\"de24780c-ae42-4d79-a7de-72625b1af77b\",\"type\":\"ColumnDataSource\"},\"glyph\":{\"id\":\"d6958112-68a2-4c22-a322-b43ae4da836c\",\"type\":\"Circle\"},\"hover_glyph\":null,\"muted_glyph\":null,\"nonselection_glyph\":{\"id\":\"4c7d5e30-ca36-473d-bacf-a3f41293867e\",\"type\":\"Circle\"},\"selection_glyph\":null,\"view\":{\"id\":\"417846ba-360a-4606-a5a7-29c0336fb359\",\"type\":\"CDSView\"}},\"id\":\"5f9944b4-0ed7-46c9-88b4-62091bebe513\",\"type\":\"GlyphRenderer\"},{\"attributes\":{\"source\":{\"id\":\"4cfade0c-3ff6-4010-a5dc-661a55e26362\",\"type\":\"ColumnDataSource\"}},\"id\":\"c94639b0-fc62-46b4-8182-c3193424924e\",\"type\":\"CDSView\"},{\"attributes\":{\"data_source\":{\"id\":\"4cfade0c-3ff6-4010-a5dc-661a55e26362\",\"type\":\"ColumnDataSource\"},\"glyph\":{\"id\":\"b84b39b3-5d54-4291-afbb-d525f1b5cc8b\",\"type\":\"Line\"},\"hover_glyph\":null,\"muted_glyph\":null,\"nonselection_glyph\":{\"id\":\"3b323ca1-1e6a-48ce-9072-8b3ed6004461\",\"type\":\"Line\"},\"selection_glyph\":null,\"view\":{\"id\":\"c94639b0-fc62-46b4-8182-c3193424924e\",\"type\":\"CDSView\"}},\"id\":\"9667f0d9-44ac-4c81-a134-84a08950b9e8\",\"type\":\"GlyphRenderer\"},{\"attributes\":{\"source\":{\"id\":\"de24780c-ae42-4d79-a7de-72625b1af77b\",\"type\":\"ColumnDataSource\"}},\"id\":\"417846ba-360a-4606-a5a7-29c0336fb359\",\"type\":\"CDSView\"},{\"attributes\":{\"children\":[{\"id\":\"ff8fe7a6-05e9-450b-9eed-b8e834d56e4a\",\"type\":\"Row\"}]},\"id\":\"9367d0c2-43c0-4bfc-a5b7-7c58bbfbbb2e\",\"type\":\"Column\"},{\"attributes\":{\"items\":[{\"id\":\"c6d48e75-1aaa-4963-a93e-9cccb81353d6\",\"type\":\"LegendItem\"},{\"id\":\"0bcb78c5-7f5f-4624-a8d5-034e5bdc6c6c\",\"type\":\"LegendItem\"},{\"id\":\"813336a7-86cf-4bc6-91fe-de182954325d\",\"type\":\"LegendItem\"}],\"label_text_font_size\":{\"value\":\"8pt\"},\"location\":[10,-30],\"plot\":{\"id\":\"9e39703a-319b-4471-8e6d-f78405916943\",\"subtype\":\"Figure\",\"type\":\"Plot\"}},\"id\":\"75987c32-41da-4110-a0e3-1bda72313bbb\",\"type\":\"Legend\"},{\"attributes\":{\"children\":[{\"id\":\"1d4108ac-82e5-4830-916f-e89d65d1d2cf\",\"subtype\":\"Figure\",\"type\":\"Plot\"},{\"id\":\"9e39703a-319b-4471-8e6d-f78405916943\",\"subtype\":\"Figure\",\"type\":\"Plot\"}]},\"id\":\"ff8fe7a6-05e9-450b-9eed-b8e834d56e4a\",\"type\":\"Row\"},{\"attributes\":{\"callback\":null,\"column_names\":[\"x\",\"y\"],\"data\":{\"x\":{\"__ndarray__\":\"0S3poDp6Tb+/8EzGpK0eP90Z4mKJKmM/ucOFyJnJcz8EkbyoGhN/P8MLpWVScnM/sAAO8JChjD/fagDj1xeSP5ADasLaPpY/bq6XL/rNmj8M9kWTos2fP6whZGWjj6Q/GFL8GnQCpj8v2NjoRp+oP7VNLhzB86o/iDAWN4IVrT+s67C/dZCvP7otybUs1bA/7mj4IwAQsj+IvAuyajKzP6SUt/NigLQ/GZBG0Ftmsz9cqjVBkmGvPyo0c/Uhd6c/lAyg4q/+oD8Epqg6sXWXP0RTBKVZuo0/qxK2bQmRgj9ZWM+M5/N2P3ng38Bdn20/RJU47xoUXz9QiB3XRVE9P4BkGmJtNQE/kryvSTHPDT84Pp7WM+coP4QtPY6mFuk+RjcK5vIaQL8QyjB0ib9Wv/b4CZOlN2S/AFnr7xy2a792CxZrlXByv1JPd8tCdXe/K21VOKCqfL/ld9TAIWCBv3fOxRF6ZYS/I6BLAwJHhb+dSUpjfOSBv4r1G+S0sni/C/J6wmfqY79thcuTdKBhPzc6+mb6aH4/pmP0+pixij9nIpqwZUiTP9QFXFqEl5k/FI6Q6R8woD9UrtmSoZ+jP5T7zEID/aY/O5BQjl39qT+zP0FDrr2sP23joJs1LK8/SSBbH6GpsD+U4Tvb6oyxP7EjnoSDUbI/XNtxSSn2sj+KBZ2UcoyzP/SLiQK6BbQ/KMwWcYOftD9YUQeivEm1PxyAF/qDqLU/f+PGiJ9atT/ljbLPerCzP7Zq4fYnGLE/i5TQ19iXrD9VjgOOiFKnPxMKKAx+pqE/\",\"dtype\":\"float64\",\"shape\":[75]},\"y\":{\"__ndarray__\":\"GhExyth1ND/Sv8nbtpRIP2vylNV0PVE/aTum7souWD/At0SJ8fVgPw3Iuahxymc/MSNhhJWvcD/bTfBN02d3P2zb5nxnaoA/CD5h5MAGhz8NmeH1TyaQP+zrCsc9p5Y/LbKd76fGnz/bLW5ISEmmPww9YvTcQq8/JV2OstnstT8Er5Y7M8G+P0c+r3jqkcU/5h99k6ZBzj88bCIzFzjVP4enV8oyxN0//yH99nXg5D8qOpLLf0jtP5kqGJXUifQ/c9cS8kHP/D+/DpwzojQEQIEmwoanVwxA4lgXt9HgE0BSSZ2AJuIbQAMJih9jjiNA5q4l5INuK0AwTKYKRj0zQNv5fmq8/DpAaCJseHrtQkB/+zpwzoxKQM3MzMzMeFJAZmZmZmZqWEAAAAAAAFxeQM3MzMzMJmJAmpmZmZkfZUBmZmZmZhhoQDMzMzMzEWtAAAAAAAAKbkBmZmZmZoFwQM3MzMzM/XFAMzMzMzN6c0CamZmZmfZ0QAAAAAAAc3ZAZmZmZmbvd0DNzMzMzGt5QDMzMzMz6HpAmpmZmZlkfEAAAAAAAOF9QGZmZmZmXX9AZmZmZuZsgECamZmZGSuBQM3MzMxM6YFAAAAAAICngkAzMzMzs2WDQGZmZmbmI4RAmpmZmRnihEDNzMzMTKCFQAAAAACAXoZAMzMzM7Mch0BmZmZm5tqHQJqZmZkZmYhAzczMzExXiUAAAAAAgBWKQDMzMzOz04pAZmZmZuaRi0CamZmZGVCMQM3MzMxMDo1AAAAAAIDMjUAzMzMzs4qOQGZmZmbmSI9A\",\"dtype\":\"float64\",\"shape\":[75]}}},\"id\":\"78633dc0-64f3-4d56-93d5-12e6629725ab\",\"type\":\"ColumnDataSource\"},{\"attributes\":{\"source\":{\"id\":\"78633dc0-64f3-4d56-93d5-12e6629725ab\",\"type\":\"ColumnDataSource\"}},\"id\":\"0c543a0e-1a57-40f2-8029-018ac68b1033\",\"type\":\"CDSView\"},{\"attributes\":{\"label\":{\"value\":\"WGT igg=10\"},\"renderers\":[{\"id\":\"eacbbad1-798b-4082-a1e0-faf0b0262ad6\",\"type\":\"GlyphRenderer\"},{\"id\":\"f293f3d8-bacb-4b31-b340-2ee68b8d9e21\",\"type\":\"GlyphRenderer\"}]},\"id\":\"0bcb78c5-7f5f-4624-a8d5-034e5bdc6c6c\",\"type\":\"LegendItem\"},{\"attributes\":{\"label\":{\"value\":\"CRD\"},\"renderers\":[{\"id\":\"5f9944b4-0ed7-46c9-88b4-62091bebe513\",\"type\":\"GlyphRenderer\"},{\"id\":\"8ce423ba-7876-4d82-bdfc-c5f23945dde7\",\"type\":\"GlyphRenderer\"}]},\"id\":\"c6d48e75-1aaa-4963-a93e-9cccb81353d6\",\"type\":\"LegendItem\"},{\"attributes\":{\"toolbar\":{\"id\":\"28b286a2-da51-4be3-8132-a37a615305e4\",\"type\":\"ProxyToolbar\"},\"toolbar_location\":\"above\"},\"id\":\"63c9aed5-0adb-415c-a9a3-4ea87c29e1ee\",\"type\":\"ToolbarBox\"},{\"attributes\":{\"label\":{\"value\":\"WGT igg=1\"},\"renderers\":[{\"id\":\"84b7c116-88b0-4e52-98e6-60f0f3113134\",\"type\":\"GlyphRenderer\"},{\"id\":\"9667f0d9-44ac-4c81-a134-84a08950b9e8\",\"type\":\"GlyphRenderer\"}]},\"id\":\"813336a7-86cf-4bc6-91fe-de182954325d\",\"type\":\"LegendItem\"},{\"attributes\":{\"tools\":[{\"id\":\"0c2c9e6a-1ace-405e-943c-4fc03c1d99fb\",\"type\":\"PanTool\"},{\"id\":\"6f95bf7e-634e-41c7-9e83-a77f2576f2e8\",\"type\":\"WheelZoomTool\"},{\"id\":\"241a1764-8c50-4076-898a-4ba358374c8a\",\"type\":\"BoxZoomTool\"},{\"id\":\"2a0e36d2-bca8-45d1-9800-a287fe3bb792\",\"type\":\"SaveTool\"},{\"id\":\"6e828235-eadf-4e66-befd-2f319339683c\",\"type\":\"ResetTool\"},{\"id\":\"c661dc48-7f85-4918-8890-6dc214954853\",\"type\":\"HelpTool\"},{\"id\":\"f3b67f45-61a8-4633-87d1-e3d8164310b5\",\"type\":\"PanTool\"},{\"id\":\"7bd7741b-a3bd-4ad4-86e9-c22bd0505e09\",\"type\":\"WheelZoomTool\"},{\"id\":\"e62ebfc3-3a6a-44ab-9f00-e219e5820eb8\",\"type\":\"BoxZoomTool\"},{\"id\":\"5c613f93-4ea5-4263-82cf-f0d859d6fd14\",\"type\":\"SaveTool\"},{\"id\":\"330274f3-02d6-4af9-ac95-b50930f3310e\",\"type\":\"ResetTool\"},{\"id\":\"e6121bcb-54b2-42f0-afaf-54fca3e0df73\",\"type\":\"HelpTool\"}]},\"id\":\"28b286a2-da51-4be3-8132-a37a615305e4\",\"type\":\"ProxyToolbar\"},{\"attributes\":{},\"id\":\"3527121f-ead3-47f7-82bb-1d78afc323cc\",\"type\":\"BasicTickFormatter\"},{\"attributes\":{\"children\":[{\"id\":\"63c9aed5-0adb-415c-a9a3-4ea87c29e1ee\",\"type\":\"ToolbarBox\"},{\"id\":\"9367d0c2-43c0-4bfc-a5b7-7c58bbfbbb2e\",\"type\":\"Column\"}]},\"id\":\"5e120157-9cc5-4122-a40b-2e9bfb868103\",\"type\":\"Column\"},{\"attributes\":{\"dimension\":1,\"plot\":{\"id\":\"9e39703a-319b-4471-8e6d-f78405916943\",\"subtype\":\"Figure\",\"type\":\"Plot\"},\"ticker\":{\"id\":\"dae1d2be-de55-4577-8664-fe40e1faecb5\",\"type\":\"LogTicker\"}},\"id\":\"1d00f50f-1bd4-43cc-9461-7d41fbba7ee5\",\"type\":\"Grid\"},{\"attributes\":{\"callback\":null,\"end\":0.01,\"start\":1020},\"id\":\"e5d85aab-366d-4e67-91c7-d98b2bd42559\",\"type\":\"Range1d\"},{\"attributes\":{\"overlay\":{\"id\":\"fe3e1166-d82f-459b-bed4-f0fc1fa79ed0\",\"type\":\"BoxAnnotation\"}},\"id\":\"e62ebfc3-3a6a-44ab-9f00-e219e5820eb8\",\"type\":\"BoxZoomTool\"},{\"attributes\":{\"callback\":null,\"column_names\":[\"x\",\"y\"],\"data\":{\"x\":{\"__ndarray__\":\"fDJggO02YT/23j1b3tBoPxoBnjZfs3Q/f/woEN3/fT8Iu/muDiWEP2P48nyy1Ik/9quyT/0MkD9/xL6D8H+TP+cUHBKCS5c/BSi/pZl3mz++AkXqRQagPwQBiHSliaI/yi7UPnZHpT/fhwe9zOqnPwp85UQyGao/y7Igx+gWrD9pbJZoHCyuP/MRqjRfLrA/xSHZK0VVsT8+d5mZTYuyPwa+hgaAr7M/HbhooLDGsj/z9oJ3O8CuP/Za3aVliKc/DRJjGP5zoT/E+SJBu7qYP3ihHnoJUJA/37hIfh1ohD9VMJmPjJp5Pwnag1n4JG4/U90Gana6Wj/bDpaiJ60TP168eIU0s0C/i9/2K+ruM78VB6PGqP8mvx+adcgrgzi/X9qhK48uTr8jtITFOKlev45VzgeZnme/LvFXM/gccL9XTrSHE5p0v6EeYWyvcnm/r7GneyZ9fr9qToCXEOmBv/hK/RVikIS/6JrytgwXhb+Go4z59+CBv7nWXSeV83i/57onCS3WZb+uV1LbfwVdP7nhIdN0Unw/XLl3CkJEiT/1vq+ZlVCSP9jUwCmIjpg/W1TkQKqJnz/Tut0wqVijP3L793bRq6Y/RDLS9b6dqT/XR0z1CUWsP2evBHNwwK4/aztrjN2LsD8S6+VbRZ2xP34fNNlEiLI//jmNM9RIsz88TieSFeezP2NIIO6CcrQ/OpUg5Dv/tD84too9NZC1P54Hy2Z75bU/0mJH6Al5tT8gK9dfn86zP6tDo3jrNbE/gqmtq97urD8U05k85LSnP0hAkZbmMKI/\",\"dtype\":\"float64\",\"shape\":[75]},\"y\":{\"__ndarray__\":\"GhExyth1ND/Sv8nbtpRIP2vylNV0PVE/aTum7souWD/At0SJ8fVgPw3Iuahxymc/MSNhhJWvcD/bTfBN02d3P2zb5nxnaoA/CD5h5MAGhz8NmeH1TyaQP+zrCsc9p5Y/LbKd76fGnz/bLW5ISEmmPww9YvTcQq8/JV2OstnstT8Er5Y7M8G+P0c+r3jqkcU/5h99k6ZBzj88bCIzFzjVP4enV8oyxN0//yH99nXg5D8qOpLLf0jtP5kqGJXUifQ/c9cS8kHP/D+/DpwzojQEQIEmwoanVwxA4lgXt9HgE0BSSZ2AJuIbQAMJih9jjiNA5q4l5INuK0AwTKYKRj0zQNv5fmq8/DpAaCJseHrtQkB/+zpwzoxKQM3MzMzMeFJAZmZmZmZqWEAAAAAAAFxeQM3MzMzMJmJAmpmZmZkfZUBmZmZmZhhoQDMzMzMzEWtAAAAAAAAKbkBmZmZmZoFwQM3MzMzM/XFAMzMzMzN6c0CamZmZmfZ0QAAAAAAAc3ZAZmZmZmbvd0DNzMzMzGt5QDMzMzMz6HpAmpmZmZlkfEAAAAAAAOF9QGZmZmZmXX9AZmZmZuZsgECamZmZGSuBQM3MzMxM6YFAAAAAAICngkAzMzMzs2WDQGZmZmbmI4RAmpmZmRnihEDNzMzMTKCFQAAAAACAXoZAMzMzM7Mch0BmZmZm5tqHQJqZmZkZmYhAzczMzExXiUAAAAAAgBWKQDMzMzOz04pAZmZmZuaRi0CamZmZGVCMQM3MzMxMDo1AAAAAAIDMjUAzMzMzs4qOQGZmZmbmSI9A\",\"dtype\":\"float64\",\"shape\":[75]}}},\"id\":\"a145a758-89e4-41ff-bccd-17a8267a28d2\",\"type\":\"ColumnDataSource\"},{\"attributes\":{},\"id\":\"5c613f93-4ea5-4263-82cf-f0d859d6fd14\",\"type\":\"SaveTool\"},{\"attributes\":{\"callback\":null,\"column_names\":[\"x\",\"y\"],\"data\":{\"x\":{\"__ndarray__\":\"tC8xepRokr/moDoMnCKQv/9vsi7qaom/14OD5ZoOgb/pz8zFN4pvv660mg0WFU0/1DjNWoAxeD/OeAIxbkKIP663D3FajZI/3i422JRemT+vzS4uQYWgPwZ7l3sWvqQ/RIkzEuMtqT/ovpcg9WetPzzG4iWiWbA/SHs6WZW9sT9NjwumGCKzP6bw7Ge7hrQ/YVd3Un3stT9c/MvAkVi3P+DBpRz5p7g/Ao6LCp+ktj9h7nlP/NCwP5fmFOzYa6Y/Es5iuvRVnD9P/SiPE8uQP9hW4OG+GYI/wfgevJrmcz+ReB+mCYttP7H7TzRPMmk/zHCTe8BPYz+/sVU1yVdXPwquY+xl01E/HA5IlM/RVz+q8CHITKBbP1+wEUS6+Fs/85svnhR5WD8fz9RKradJP02YYStjixu/qLDcDqk7Ub9EPTJSvkthvx32F8qdo2u/eRSTYPbec78mnVWj9iJ7vwUpu5TPtoG/JiqmWhxxg78TMPRnw4qAvwHBszTkVXa/VYvSpu2NYL/ALgjC3MljP7cVg08IoH4/BVRyLd64ij/rE0ii+nuTP/KgBvf285k/RJ4QeUxWoD+RLV47N76jP/b8T082Hac/Puzt5SpVqj8c2tfsDkqtPxDTw3J5468/KZasoQwJsT8AgsrcouqxP1EhY134m7I/SbQ48UIrsz+m4wk7x6uzPxvDUhMzMbQ/jww8bi3QtD/Tinma74e1PxMMCClPC7Y/R/g8UaK9tT/QvO499A60P/rfR77dVbE/02AxIgXarD/rjHh9qUmnP8ppfQElVKE/\",\"dtype\":\"float64\",\"shape\":[75]},\"y\":{\"__ndarray__\":\"GhExyth1ND/Sv8nbtpRIP2vylNV0PVE/aTum7souWD/At0SJ8fVgPw3Iuahxymc/MSNhhJWvcD/bTfBN02d3P2zb5nxnaoA/CD5h5MAGhz8NmeH1TyaQP+zrCsc9p5Y/LbKd76fGnz/bLW5ISEmmPww9YvTcQq8/JV2OstnstT8Er5Y7M8G+P0c+r3jqkcU/5h99k6ZBzj88bCIzFzjVP4enV8oyxN0//yH99nXg5D8qOpLLf0jtP5kqGJXUifQ/c9cS8kHP/D+/DpwzojQEQIEmwoanVwxA4lgXt9HgE0BSSZ2AJuIbQAMJih9jjiNA5q4l5INuK0AwTKYKRj0zQNv5fmq8/DpAaCJseHrtQkB/+zpwzoxKQM3MzMzMeFJAZmZmZmZqWEAAAAAAAFxeQM3MzMzMJmJAmpmZmZkfZUBmZmZmZhhoQDMzMzMzEWtAAAAAAAAKbkBmZmZmZoFwQM3MzMzM/XFAMzMzMzN6c0CamZmZmfZ0QAAAAAAAc3ZAZmZmZmbvd0DNzMzMzGt5QDMzMzMz6HpAmpmZmZlkfEAAAAAAAOF9QGZmZmZmXX9AZmZmZuZsgECamZmZGSuBQM3MzMxM6YFAAAAAAICngkAzMzMzs2WDQGZmZmbmI4RAmpmZmRnihEDNzMzMTKCFQAAAAACAXoZAMzMzM7Mch0BmZmZm5tqHQJqZmZkZmYhAzczMzExXiUAAAAAAgBWKQDMzMzOz04pAZmZmZuaRi0CamZmZGVCMQM3MzMxMDo1AAAAAAIDMjUAzMzMzs4qOQGZmZmbmSI9A\",\"dtype\":\"float64\",\"shape\":[75]}}},\"id\":\"7731f656-c58e-41b1-b595-e961796884f2\",\"type\":\"ColumnDataSource\"},{\"attributes\":{\"fill_alpha\":{\"value\":0.1},\"fill_color\":{\"value\":\"#1f77b4\"},\"line_alpha\":{\"value\":0.1},\"line_color\":{\"value\":\"#1f77b4\"},\"x\":{\"field\":\"x\"},\"y\":{\"field\":\"y\"}},\"id\":\"4c7d5e30-ca36-473d-bacf-a3f41293867e\",\"type\":\"Circle\"},{\"attributes\":{\"callback\":null,\"column_names\":[\"x\",\"y\"],\"data\":{\"x\":{\"__ndarray__\":\"tC8xepRokr/moDoMnCKQv/9vsi7qaom/14OD5ZoOgb/pz8zFN4pvv660mg0WFU0/1DjNWoAxeD/OeAIxbkKIP663D3FajZI/3i422JRemT+vzS4uQYWgPwZ7l3sWvqQ/RIkzEuMtqT/ovpcg9WetPzzG4iWiWbA/SHs6WZW9sT9NjwumGCKzP6bw7Ge7hrQ/YVd3Un3stT9c/MvAkVi3P+DBpRz5p7g/Ao6LCp+ktj9h7nlP/NCwP5fmFOzYa6Y/Es5iuvRVnD9P/SiPE8uQP9hW4OG+GYI/wfgevJrmcz+ReB+mCYttP7H7TzRPMmk/zHCTe8BPYz+/sVU1yVdXPwquY+xl01E/HA5IlM/RVz+q8CHITKBbP1+wEUS6+Fs/85svnhR5WD8fz9RKradJP02YYStjixu/qLDcDqk7Ub9EPTJSvkthvx32F8qdo2u/eRSTYPbec78mnVWj9iJ7vwUpu5TPtoG/JiqmWhxxg78TMPRnw4qAvwHBszTkVXa/VYvSpu2NYL/ALgjC3MljP7cVg08IoH4/BVRyLd64ij/rE0ii+nuTP/KgBvf285k/RJ4QeUxWoD+RLV47N76jP/b8T082Hac/Puzt5SpVqj8c2tfsDkqtPxDTw3J5468/KZasoQwJsT8AgsrcouqxP1EhY134m7I/SbQ48UIrsz+m4wk7x6uzPxvDUhMzMbQ/jww8bi3QtD/Tinma74e1PxMMCClPC7Y/R/g8UaK9tT/QvO499A60P/rfR77dVbE/02AxIgXarD/rjHh9qUmnP8ppfQElVKE/\",\"dtype\":\"float64\",\"shape\":[75]},\"y\":{\"__ndarray__\":\"GhExyth1ND/Sv8nbtpRIP2vylNV0PVE/aTum7souWD/At0SJ8fVgPw3Iuahxymc/MSNhhJWvcD/bTfBN02d3P2zb5nxnaoA/CD5h5MAGhz8NmeH1TyaQP+zrCsc9p5Y/LbKd76fGnz/bLW5ISEmmPww9YvTcQq8/JV2OstnstT8Er5Y7M8G+P0c+r3jqkcU/5h99k6ZBzj88bCIzFzjVP4enV8oyxN0//yH99nXg5D8qOpLLf0jtP5kqGJXUifQ/c9cS8kHP/D+/DpwzojQEQIEmwoanVwxA4lgXt9HgE0BSSZ2AJuIbQAMJih9jjiNA5q4l5INuK0AwTKYKRj0zQNv5fmq8/DpAaCJseHrtQkB/+zpwzoxKQM3MzMzMeFJAZmZmZmZqWEAAAAAAAFxeQM3MzMzMJmJAmpmZmZkfZUBmZmZmZhhoQDMzMzMzEWtAAAAAAAAKbkBmZmZmZoFwQM3MzMzM/XFAMzMzMzN6c0CamZmZmfZ0QAAAAAAAc3ZAZmZmZmbvd0DNzMzMzGt5QDMzMzMz6HpAmpmZmZlkfEAAAAAAAOF9QGZmZmZmXX9AZmZmZuZsgECamZmZGSuBQM3MzMxM6YFAAAAAAICngkAzMzMzs2WDQGZmZmbmI4RAmpmZmRnihEDNzMzMTKCFQAAAAACAXoZAMzMzM7Mch0BmZmZm5tqHQJqZmZkZmYhAzczMzExXiUAAAAAAgBWKQDMzMzOz04pAZmZmZuaRi0CamZmZGVCMQM3MzMxMDo1AAAAAAIDMjUAzMzMzs4qOQGZmZmbmSI9A\",\"dtype\":\"float64\",\"shape\":[75]}}},\"id\":\"c6465884-94c8-48ce-87cc-3c52f9c01a2d\",\"type\":\"ColumnDataSource\"},{\"attributes\":{\"source\":{\"id\":\"a145a758-89e4-41ff-bccd-17a8267a28d2\",\"type\":\"ColumnDataSource\"}},\"id\":\"5236cf54-4e5e-4f76-8cca-3d2ad73d7b15\",\"type\":\"CDSView\"},{\"attributes\":{\"data_source\":{\"id\":\"78633dc0-64f3-4d56-93d5-12e6629725ab\",\"type\":\"ColumnDataSource\"},\"glyph\":{\"id\":\"0a738e82-a635-418e-9523-b73c13771548\",\"type\":\"InvertedTriangle\"},\"hover_glyph\":null,\"muted_glyph\":null,\"nonselection_glyph\":{\"id\":\"b364a2fc-c67c-4879-9612-2892e682160b\",\"type\":\"InvertedTriangle\"},\"selection_glyph\":null,\"view\":{\"id\":\"0c543a0e-1a57-40f2-8029-018ac68b1033\",\"type\":\"CDSView\"}},\"id\":\"84b7c116-88b0-4e52-98e6-60f0f3113134\",\"type\":\"GlyphRenderer\"},{\"attributes\":{\"line_alpha\":0.1,\"line_color\":\"#1f77b4\",\"line_width\":1.5,\"x\":{\"field\":\"x\"},\"y\":{\"field\":\"y\"}},\"id\":\"4ba8c87d-5f40-41e9-8b54-7063b20224bf\",\"type\":\"Line\"},{\"attributes\":{\"bottom_units\":\"screen\",\"fill_alpha\":{\"value\":0.5},\"fill_color\":{\"value\":\"lightgrey\"},\"left_units\":\"screen\",\"level\":\"overlay\",\"line_alpha\":{\"value\":1.0},\"line_color\":{\"value\":\"black\"},\"line_dash\":[4,4],\"line_width\":{\"value\":2},\"plot\":null,\"render_mode\":\"css\",\"right_units\":\"screen\",\"top_units\":\"screen\"},\"id\":\"fe3e1166-d82f-459b-bed4-f0fc1fa79ed0\",\"type\":\"BoxAnnotation\"},{\"attributes\":{\"fill_alpha\":{\"value\":0.7},\"fill_color\":{\"value\":\"#4daf4a\"},\"line_alpha\":{\"value\":0.7},\"line_color\":{\"value\":\"#4daf4a\"},\"x\":{\"field\":\"x\"},\"y\":{\"field\":\"y\"}},\"id\":\"449ad98b-7905-4c73-b055-06b5c83aeb15\",\"type\":\"Circle\"},{\"attributes\":{\"fill_alpha\":{\"value\":0.1},\"fill_color\":{\"value\":\"#1f77b4\"},\"line_alpha\":{\"value\":0.1},\"line_color\":{\"value\":\"#1f77b4\"},\"x\":{\"field\":\"x\"},\"y\":{\"field\":\"y\"}},\"id\":\"71df5798-e81c-4925-af32-7cb886f272c6\",\"type\":\"Square\"},{\"attributes\":{},\"id\":\"e6121bcb-54b2-42f0-afaf-54fca3e0df73\",\"type\":\"HelpTool\"},{\"attributes\":{\"data_source\":{\"id\":\"a145a758-89e4-41ff-bccd-17a8267a28d2\",\"type\":\"ColumnDataSource\"},\"glyph\":{\"id\":\"5113b74d-3759-4aff-995e-7ac81a1bdf06\",\"type\":\"Square\"},\"hover_glyph\":null,\"muted_glyph\":null,\"nonselection_glyph\":{\"id\":\"8ba8ad56-4500-40ac-a35a-24133bf95a55\",\"type\":\"Square\"},\"selection_glyph\":null,\"view\":{\"id\":\"5236cf54-4e5e-4f76-8cca-3d2ad73d7b15\",\"type\":\"CDSView\"}},\"id\":\"796ca104-c7a6-43f6-adf3-1dcbd64c8486\",\"type\":\"GlyphRenderer\"},{\"attributes\":{\"ticker\":null},\"id\":\"79aca4f5-2153-4b89-b891-3294f551e3a8\",\"type\":\"LogTickFormatter\"},{\"attributes\":{\"fill_alpha\":{\"value\":0.7},\"fill_color\":{\"value\":\"#984ea3\"},\"line_alpha\":{\"value\":0.7},\"line_color\":{\"value\":\"#984ea3\"},\"x\":{\"field\":\"x\"},\"y\":{\"field\":\"y\"}},\"id\":\"19c86155-60e4-40eb-b1ec-369ff5e1745e\",\"type\":\"Square\"},{\"attributes\":{\"line_color\":\"#4daf4a\",\"line_width\":1.5,\"x\":{\"field\":\"x\"},\"y\":{\"field\":\"y\"}},\"id\":\"60ccf1f9-c82a-4a22-95f3-350d476ac0f9\",\"type\":\"Line\"},{\"attributes\":{\"callback\":null,\"column_names\":[\"x\",\"y\"],\"data\":{\"x\":{\"__ndarray__\":\"fDJggO02YT/23j1b3tBoPxoBnjZfs3Q/f/woEN3/fT8Iu/muDiWEP2P48nyy1Ik/9quyT/0MkD9/xL6D8H+TP+cUHBKCS5c/BSi/pZl3mz++AkXqRQagPwQBiHSliaI/yi7UPnZHpT/fhwe9zOqnPwp85UQyGao/y7Igx+gWrD9pbJZoHCyuP/MRqjRfLrA/xSHZK0VVsT8+d5mZTYuyPwa+hgaAr7M/HbhooLDGsj/z9oJ3O8CuP/Za3aVliKc/DRJjGP5zoT/E+SJBu7qYP3ihHnoJUJA/37hIfh1ohD9VMJmPjJp5Pwnag1n4JG4/U90Gana6Wj/bDpaiJ60TP168eIU0s0C/i9/2K+ruM78VB6PGqP8mvx+adcgrgzi/X9qhK48uTr8jtITFOKlev45VzgeZnme/LvFXM/gccL9XTrSHE5p0v6EeYWyvcnm/r7GneyZ9fr9qToCXEOmBv/hK/RVikIS/6JrytgwXhb+Go4z59+CBv7nWXSeV83i/57onCS3WZb+uV1LbfwVdP7nhIdN0Unw/XLl3CkJEiT/1vq+ZlVCSP9jUwCmIjpg/W1TkQKqJnz/Tut0wqVijP3L793bRq6Y/RDLS9b6dqT/XR0z1CUWsP2evBHNwwK4/aztrjN2LsD8S6+VbRZ2xP34fNNlEiLI//jmNM9RIsz88TieSFeezP2NIIO6CcrQ/OpUg5Dv/tD84too9NZC1P54Hy2Z75bU/0mJH6Al5tT8gK9dfn86zP6tDo3jrNbE/gqmtq97urD8U05k85LSnP0hAkZbmMKI/\",\"dtype\":\"float64\",\"shape\":[75]},\"y\":{\"__ndarray__\":\"GhExyth1ND/Sv8nbtpRIP2vylNV0PVE/aTum7souWD/At0SJ8fVgPw3Iuahxymc/MSNhhJWvcD/bTfBN02d3P2zb5nxnaoA/CD5h5MAGhz8NmeH1TyaQP+zrCsc9p5Y/LbKd76fGnz/bLW5ISEmmPww9YvTcQq8/JV2OstnstT8Er5Y7M8G+P0c+r3jqkcU/5h99k6ZBzj88bCIzFzjVP4enV8oyxN0//yH99nXg5D8qOpLLf0jtP5kqGJXUifQ/c9cS8kHP/D+/DpwzojQEQIEmwoanVwxA4lgXt9HgE0BSSZ2AJuIbQAMJih9jjiNA5q4l5INuK0AwTKYKRj0zQNv5fmq8/DpAaCJseHrtQkB/+zpwzoxKQM3MzMzMeFJAZmZmZmZqWEAAAAAAAFxeQM3MzMzMJmJAmpmZmZkfZUBmZmZmZhhoQDMzMzMzEWtAAAAAAAAKbkBmZmZmZoFwQM3MzMzM/XFAMzMzMzN6c0CamZmZmfZ0QAAAAAAAc3ZAZmZmZmbvd0DNzMzMzGt5QDMzMzMz6HpAmpmZmZlkfEAAAAAAAOF9QGZmZmZmXX9AZmZmZuZsgECamZmZGSuBQM3MzMxM6YFAAAAAAICngkAzMzMzs2WDQGZmZmbmI4RAmpmZmRnihEDNzMzMTKCFQAAAAACAXoZAMzMzM7Mch0BmZmZm5tqHQJqZmZkZmYhAzczMzExXiUAAAAAAgBWKQDMzMzOz04pAZmZmZuaRi0CamZmZGVCMQM3MzMxMDo1AAAAAAIDMjUAzMzMzs4qOQGZmZmbmSI9A\",\"dtype\":\"float64\",\"shape\":[75]}}},\"id\":\"71d3fd4e-72ba-48c2-b636-8543c685d9c0\",\"type\":\"ColumnDataSource\"},{\"attributes\":{\"data_source\":{\"id\":\"71d3fd4e-72ba-48c2-b636-8543c685d9c0\",\"type\":\"ColumnDataSource\"},\"glyph\":{\"id\":\"19c86155-60e4-40eb-b1ec-369ff5e1745e\",\"type\":\"Square\"},\"hover_glyph\":null,\"muted_glyph\":null,\"nonselection_glyph\":{\"id\":\"71df5798-e81c-4925-af32-7cb886f272c6\",\"type\":\"Square\"},\"selection_glyph\":null,\"view\":{\"id\":\"a42f0a85-a339-4c9a-97b5-b6f47989e941\",\"type\":\"CDSView\"}},\"id\":\"eacbbad1-798b-4082-a1e0-faf0b0262ad6\",\"type\":\"GlyphRenderer\"},{\"attributes\":{\"data_source\":{\"id\":\"7731f656-c58e-41b1-b595-e961796884f2\",\"type\":\"ColumnDataSource\"},\"glyph\":{\"id\":\"60ccf1f9-c82a-4a22-95f3-350d476ac0f9\",\"type\":\"Line\"},\"hover_glyph\":null,\"muted_glyph\":null,\"nonselection_glyph\":{\"id\":\"4ba8c87d-5f40-41e9-8b54-7063b20224bf\",\"type\":\"Line\"},\"selection_glyph\":null,\"view\":{\"id\":\"37774b8e-f6aa-4a29-8d65-256120c87d2b\",\"type\":\"CDSView\"}},\"id\":\"8ce423ba-7876-4d82-bdfc-c5f23945dde7\",\"type\":\"GlyphRenderer\"},{\"attributes\":{\"callback\":null,\"column_names\":[\"x\",\"y\"],\"data\":{\"x\":{\"__ndarray__\":\"0S3poDp6Tb+/8EzGpK0eP90Z4mKJKmM/ucOFyJnJcz8EkbyoGhN/P8MLpWVScnM/sAAO8JChjD/fagDj1xeSP5ADasLaPpY/bq6XL/rNmj8M9kWTos2fP6whZGWjj6Q/GFL8GnQCpj8v2NjoRp+oP7VNLhzB86o/iDAWN4IVrT+s67C/dZCvP7otybUs1bA/7mj4IwAQsj+IvAuyajKzP6SUt/NigLQ/GZBG0Ftmsz9cqjVBkmGvPyo0c/Uhd6c/lAyg4q/+oD8Epqg6sXWXP0RTBKVZuo0/qxK2bQmRgj9ZWM+M5/N2P3ng38Bdn20/RJU47xoUXz9QiB3XRVE9P4BkGmJtNQE/kryvSTHPDT84Pp7WM+coP4QtPY6mFuk+RjcK5vIaQL8QyjB0ib9Wv/b4CZOlN2S/AFnr7xy2a792CxZrlXByv1JPd8tCdXe/K21VOKCqfL/ld9TAIWCBv3fOxRF6ZYS/I6BLAwJHhb+dSUpjfOSBv4r1G+S0sni/C/J6wmfqY79thcuTdKBhPzc6+mb6aH4/pmP0+pixij9nIpqwZUiTP9QFXFqEl5k/FI6Q6R8woD9UrtmSoZ+jP5T7zEID/aY/O5BQjl39qT+zP0FDrr2sP23joJs1LK8/SSBbH6GpsD+U4Tvb6oyxP7EjnoSDUbI/XNtxSSn2sj+KBZ2UcoyzP/SLiQK6BbQ/KMwWcYOftD9YUQeivEm1PxyAF/qDqLU/f+PGiJ9atT/ljbLPerCzP7Zq4fYnGLE/i5TQ19iXrD9VjgOOiFKnPxMKKAx+pqE/\",\"dtype\":\"float64\",\"shape\":[75]},\"y\":{\"__ndarray__\":\"GhExyth1ND/Sv8nbtpRIP2vylNV0PVE/aTum7souWD/At0SJ8fVgPw3Iuahxymc/MSNhhJWvcD/bTfBN02d3P2zb5nxnaoA/CD5h5MAGhz8NmeH1TyaQP+zrCsc9p5Y/LbKd76fGnz/bLW5ISEmmPww9YvTcQq8/JV2OstnstT8Er5Y7M8G+P0c+r3jqkcU/5h99k6ZBzj88bCIzFzjVP4enV8oyxN0//yH99nXg5D8qOpLLf0jtP5kqGJXUifQ/c9cS8kHP/D+/DpwzojQEQIEmwoanVwxA4lgXt9HgE0BSSZ2AJuIbQAMJih9jjiNA5q4l5INuK0AwTKYKRj0zQNv5fmq8/DpAaCJseHrtQkB/+zpwzoxKQM3MzMzMeFJAZmZmZmZqWEAAAAAAAFxeQM3MzMzMJmJAmpmZmZkfZUBmZmZmZhhoQDMzMzMzEWtAAAAAAAAKbkBmZmZmZoFwQM3MzMzM/XFAMzMzMzN6c0CamZmZmfZ0QAAAAAAAc3ZAZmZmZmbvd0DNzMzMzGt5QDMzMzMz6HpAmpmZmZlkfEAAAAAAAOF9QGZmZmZmXX9AZmZmZuZsgECamZmZGSuBQM3MzMxM6YFAAAAAAICngkAzMzMzs2WDQGZmZmbmI4RAmpmZmRnihEDNzMzMTKCFQAAAAACAXoZAMzMzM7Mch0BmZmZm5tqHQJqZmZkZmYhAzczMzExXiUAAAAAAgBWKQDMzMzOz04pAZmZmZuaRi0CamZmZGVCMQM3MzMxMDo1AAAAAAIDMjUAzMzMzs4qOQGZmZmbmSI9A\",\"dtype\":\"float64\",\"shape\":[75]}}},\"id\":\"4cfade0c-3ff6-4010-a5dc-661a55e26362\",\"type\":\"ColumnDataSource\"},{\"attributes\":{\"source\":{\"id\":\"7731f656-c58e-41b1-b595-e961796884f2\",\"type\":\"ColumnDataSource\"}},\"id\":\"37774b8e-f6aa-4a29-8d65-256120c87d2b\",\"type\":\"CDSView\"},{\"attributes\":{\"source\":{\"id\":\"71d3fd4e-72ba-48c2-b636-8543c685d9c0\",\"type\":\"ColumnDataSource\"}},\"id\":\"a42f0a85-a339-4c9a-97b5-b6f47989e941\",\"type\":\"CDSView\"},{\"attributes\":{\"callback\":null,\"column_names\":[\"x\",\"y\"],\"data\":{\"x\":{\"__ndarray__\":\"fDJggO02YT/23j1b3tBoPxoBnjZfs3Q/f/woEN3/fT8Iu/muDiWEP2P48nyy1Ik/9quyT/0MkD9/xL6D8H+TP+cUHBKCS5c/BSi/pZl3mz++AkXqRQagPwQBiHSliaI/yi7UPnZHpT/fhwe9zOqnPwp85UQyGao/y7Igx+gWrD9pbJZoHCyuP/MRqjRfLrA/xSHZK0VVsT8+d5mZTYuyPwa+hgaAr7M/HbhooLDGsj/z9oJ3O8CuP/Za3aVliKc/DRJjGP5zoT/E+SJBu7qYP3ihHnoJUJA/37hIfh1ohD9VMJmPjJp5Pwnag1n4JG4/U90Gana6Wj/bDpaiJ60TP168eIU0s0C/i9/2K+ruM78VB6PGqP8mvx+adcgrgzi/X9qhK48uTr8jtITFOKlev45VzgeZnme/LvFXM/gccL9XTrSHE5p0v6EeYWyvcnm/r7GneyZ9fr9qToCXEOmBv/hK/RVikIS/6JrytgwXhb+Go4z59+CBv7nWXSeV83i/57onCS3WZb+uV1LbfwVdP7nhIdN0Unw/XLl3CkJEiT/1vq+ZlVCSP9jUwCmIjpg/W1TkQKqJnz/Tut0wqVijP3L793bRq6Y/RDLS9b6dqT/XR0z1CUWsP2evBHNwwK4/aztrjN2LsD8S6+VbRZ2xP34fNNlEiLI//jmNM9RIsz88TieSFeezP2NIIO6CcrQ/OpUg5Dv/tD84too9NZC1P54Hy2Z75bU/0mJH6Al5tT8gK9dfn86zP6tDo3jrNbE/gqmtq97urD8U05k85LSnP0hAkZbmMKI/\",\"dtype\":\"float64\",\"shape\":[75]},\"y\":{\"__ndarray__\":\"GhExyth1ND/Sv8nbtpRIP2vylNV0PVE/aTum7souWD/At0SJ8fVgPw3Iuahxymc/MSNhhJWvcD/bTfBN02d3P2zb5nxnaoA/CD5h5MAGhz8NmeH1TyaQP+zrCsc9p5Y/LbKd76fGnz/bLW5ISEmmPww9YvTcQq8/JV2OstnstT8Er5Y7M8G+P0c+r3jqkcU/5h99k6ZBzj88bCIzFzjVP4enV8oyxN0//yH99nXg5D8qOpLLf0jtP5kqGJXUifQ/c9cS8kHP/D+/DpwzojQEQIEmwoanVwxA4lgXt9HgE0BSSZ2AJuIbQAMJih9jjiNA5q4l5INuK0AwTKYKRj0zQNv5fmq8/DpAaCJseHrtQkB/+zpwzoxKQM3MzMzMeFJAZmZmZmZqWEAAAAAAAFxeQM3MzMzMJmJAmpmZmZkfZUBmZmZmZhhoQDMzMzMzEWtAAAAAAAAKbkBmZmZmZoFwQM3MzMzM/XFAMzMzMzN6c0CamZmZmfZ0QAAAAAAAc3ZAZmZmZmbvd0DNzMzMzGt5QDMzMzMz6HpAmpmZmZlkfEAAAAAAAOF9QGZmZmZmXX9AZmZmZuZsgECamZmZGSuBQM3MzMxM6YFAAAAAAICngkAzMzMzs2WDQGZmZmbmI4RAmpmZmRnihEDNzMzMTKCFQAAAAACAXoZAMzMzM7Mch0BmZmZm5tqHQJqZmZkZmYhAzczMzExXiUAAAAAAgBWKQDMzMzOz04pAZmZmZuaRi0CamZmZGVCMQM3MzMxMDo1AAAAAAIDMjUAzMzMzs4qOQGZmZmbmSI9A\",\"dtype\":\"float64\",\"shape\":[75]}}},\"id\":\"5fc3583f-d0bd-4ac3-9fda-bbdf00a82a52\",\"type\":\"ColumnDataSource\"},{\"attributes\":{\"line_alpha\":0.6,\"line_color\":\"#984ea3\",\"line_width\":3,\"x\":{\"field\":\"x\"},\"y\":{\"field\":\"y\"}},\"id\":\"e60000ed-6e50-4f3a-875b-3d29420e6334\",\"type\":\"Line\"},{\"attributes\":{\"callback\":null,\"end\":0.01,\"start\":1020},\"id\":\"85bdb502-ade7-4ad6-9dfc-579429596cd9\",\"type\":\"Range1d\"},{\"attributes\":{},\"id\":\"7e831ad7-8d57-4252-a5f1-02aa8e4affaf\",\"type\":\"LinearScale\"},{\"attributes\":{\"fill_alpha\":{\"value\":0.1},\"fill_color\":{\"value\":\"#1f77b4\"},\"line_alpha\":{\"value\":0.1},\"line_color\":{\"value\":\"#1f77b4\"},\"x\":{\"field\":\"x\"},\"y\":{\"field\":\"y\"}},\"id\":\"00adc07a-7c67-4119-99ab-81bcd19031b4\",\"type\":\"InvertedTriangle\"},{\"attributes\":{\"callback\":null,\"column_names\":[\"x\",\"y\"],\"data\":{\"x\":{\"__ndarray__\":\"tC8xepRokr/moDoMnCKQv/9vsi7qaom/14OD5ZoOgb/pz8zFN4pvv660mg0WFU0/1DjNWoAxeD/OeAIxbkKIP663D3FajZI/3i422JRemT+vzS4uQYWgPwZ7l3sWvqQ/RIkzEuMtqT/ovpcg9WetPzzG4iWiWbA/SHs6WZW9sT9NjwumGCKzP6bw7Ge7hrQ/YVd3Un3stT9c/MvAkVi3P+DBpRz5p7g/Ao6LCp+ktj9h7nlP/NCwP5fmFOzYa6Y/Es5iuvRVnD9P/SiPE8uQP9hW4OG+GYI/wfgevJrmcz+ReB+mCYttP7H7TzRPMmk/zHCTe8BPYz+/sVU1yVdXPwquY+xl01E/HA5IlM/RVz+q8CHITKBbP1+wEUS6+Fs/85svnhR5WD8fz9RKradJP02YYStjixu/qLDcDqk7Ub9EPTJSvkthvx32F8qdo2u/eRSTYPbec78mnVWj9iJ7vwUpu5TPtoG/JiqmWhxxg78TMPRnw4qAvwHBszTkVXa/VYvSpu2NYL/ALgjC3MljP7cVg08IoH4/BVRyLd64ij/rE0ii+nuTP/KgBvf285k/RJ4QeUxWoD+RLV47N76jP/b8T082Hac/Puzt5SpVqj8c2tfsDkqtPxDTw3J5468/KZasoQwJsT8AgsrcouqxP1EhY134m7I/SbQ48UIrsz+m4wk7x6uzPxvDUhMzMbQ/jww8bi3QtD/Tinma74e1PxMMCClPC7Y/R/g8UaK9tT/QvO499A60P/rfR77dVbE/02AxIgXarD/rjHh9qUmnP8ppfQElVKE/\",\"dtype\":\"float64\",\"shape\":[75]},\"y\":{\"__ndarray__\":\"GhExyth1ND/Sv8nbtpRIP2vylNV0PVE/aTum7souWD/At0SJ8fVgPw3Iuahxymc/MSNhhJWvcD/bTfBN02d3P2zb5nxnaoA/CD5h5MAGhz8NmeH1TyaQP+zrCsc9p5Y/LbKd76fGnz/bLW5ISEmmPww9YvTcQq8/JV2OstnstT8Er5Y7M8G+P0c+r3jqkcU/5h99k6ZBzj88bCIzFzjVP4enV8oyxN0//yH99nXg5D8qOpLLf0jtP5kqGJXUifQ/c9cS8kHP/D+/DpwzojQEQIEmwoanVwxA4lgXt9HgE0BSSZ2AJuIbQAMJih9jjiNA5q4l5INuK0AwTKYKRj0zQNv5fmq8/DpAaCJseHrtQkB/+zpwzoxKQM3MzMzMeFJAZmZmZmZqWEAAAAAAAFxeQM3MzMzMJmJAmpmZmZkfZUBmZmZmZhhoQDMzMzMzEWtAAAAAAAAKbkBmZmZmZoFwQM3MzMzM/XFAMzMzMzN6c0CamZmZmfZ0QAAAAAAAc3ZAZmZmZmbvd0DNzMzMzGt5QDMzMzMz6HpAmpmZmZlkfEAAAAAAAOF9QGZmZmZmXX9AZmZmZuZsgECamZmZGSuBQM3MzMxM6YFAAAAAAICngkAzMzMzs2WDQGZmZmbmI4RAmpmZmRnihEDNzMzMTKCFQAAAAACAXoZAMzMzM7Mch0BmZmZm5tqHQJqZmZkZmYhAzczMzExXiUAAAAAAgBWKQDMzMzOz04pAZmZmZuaRi0CamZmZGVCMQM3MzMxMDo1AAAAAAIDMjUAzMzMzs4qOQGZmZmbmSI9A\",\"dtype\":\"float64\",\"shape\":[75]}}},\"id\":\"de24780c-ae42-4d79-a7de-72625b1af77b\",\"type\":\"ColumnDataSource\"},{\"attributes\":{\"source\":{\"id\":\"bdcd8037-ab0a-417e-8b46-2db68f0b9f9f\",\"type\":\"ColumnDataSource\"}},\"id\":\"96468f9b-7b66-4e6f-a9d5-1d4f56f565f8\",\"type\":\"CDSView\"},{\"attributes\":{\"axis_label\":\"cooling rate [K/day]\",\"formatter\":{\"id\":\"13b7cd07-ef8b-4212-a3cf-80f136fd88b5\",\"type\":\"BasicTickFormatter\"},\"plot\":{\"id\":\"1d4108ac-82e5-4830-916f-e89d65d1d2cf\",\"subtype\":\"Figure\",\"type\":\"Plot\"},\"ticker\":{\"id\":\"b375335a-cbcf-4b15-89e4-13e7ef8f7b71\",\"type\":\"BasicTicker\"}},\"id\":\"b1de509a-1f0d-411f-a57b-5af9feaacc68\",\"type\":\"LinearAxis\"},{\"attributes\":{\"line_alpha\":0.1,\"line_color\":\"#1f77b4\",\"line_width\":1.5,\"x\":{\"field\":\"x\"},\"y\":{\"field\":\"y\"}},\"id\":\"1b0053ca-b36e-4fb8-ab60-bb3f62639c4d\",\"type\":\"Line\"},{\"attributes\":{\"data_source\":{\"id\":\"4b47e1d2-5fa4-4cd8-8dd3-0eafcff93763\",\"type\":\"ColumnDataSource\"},\"glyph\":{\"id\":\"3c5d8bba-0c16-40c5-8a86-1ea06ca66ccc\",\"type\":\"InvertedTriangle\"},\"hover_glyph\":null,\"muted_glyph\":null,\"nonselection_glyph\":{\"id\":\"00adc07a-7c67-4119-99ab-81bcd19031b4\",\"type\":\"InvertedTriangle\"},\"selection_glyph\":null,\"view\":{\"id\":\"aada245e-aa48-4f25-943e-e4f1863168be\",\"type\":\"CDSView\"}},\"id\":\"026de1f8-a994-4b87-aedc-94faa47de9a2\",\"type\":\"GlyphRenderer\"},{\"attributes\":{\"axis_label\":\"pressure [mb]\",\"formatter\":{\"id\":\"79aca4f5-2153-4b89-b891-3294f551e3a8\",\"type\":\"LogTickFormatter\"},\"plot\":{\"id\":\"9e39703a-319b-4471-8e6d-f78405916943\",\"subtype\":\"Figure\",\"type\":\"Plot\"},\"ticker\":{\"id\":\"dae1d2be-de55-4577-8664-fe40e1faecb5\",\"type\":\"LogTicker\"}},\"id\":\"1338eb21-0abf-4b65-8963-6f6bf06c3870\",\"type\":\"LogAxis\"},{\"attributes\":{},\"id\":\"2694d0f2-3c82-40f6-8ebd-afc98bed36c8\",\"type\":\"LogScale\"},{\"attributes\":{\"overlay\":{\"id\":\"e855de19-f8a7-41c6-85f2-6f0d2f2f3203\",\"type\":\"BoxAnnotation\"}},\"id\":\"241a1764-8c50-4076-898a-4ba358374c8a\",\"type\":\"BoxZoomTool\"},{\"attributes\":{\"active_drag\":\"auto\",\"active_inspect\":\"auto\",\"active_scroll\":\"auto\",\"active_tap\":\"auto\",\"tools\":[{\"id\":\"f3b67f45-61a8-4633-87d1-e3d8164310b5\",\"type\":\"PanTool\"},{\"id\":\"7bd7741b-a3bd-4ad4-86e9-c22bd0505e09\",\"type\":\"WheelZoomTool\"},{\"id\":\"e62ebfc3-3a6a-44ab-9f00-e219e5820eb8\",\"type\":\"BoxZoomTool\"},{\"id\":\"5c613f93-4ea5-4263-82cf-f0d859d6fd14\",\"type\":\"SaveTool\"},{\"id\":\"330274f3-02d6-4af9-ac95-b50930f3310e\",\"type\":\"ResetTool\"},{\"id\":\"e6121bcb-54b2-42f0-afaf-54fca3e0df73\",\"type\":\"HelpTool\"}]},\"id\":\"3a771b07-a6b8-4c89-a6a6-3e73fa3b4e55\",\"type\":\"Toolbar\"},{\"attributes\":{},\"id\":\"6e828235-eadf-4e66-befd-2f319339683c\",\"type\":\"ResetTool\"},{\"attributes\":{\"line_alpha\":0.6,\"line_color\":\"#377eb8\",\"line_dash\":[2,4,6,4],\"line_width\":3,\"x\":{\"field\":\"x\"},\"y\":{\"field\":\"y\"}},\"id\":\"29a890d5-8098-40d4-b86f-943cbcce34c8\",\"type\":\"Line\"},{\"attributes\":{\"plot\":{\"id\":\"9e39703a-319b-4471-8e6d-f78405916943\",\"subtype\":\"Figure\",\"type\":\"Plot\"},\"ticker\":{\"id\":\"514712c3-9cd0-4f18-a639-c08f70e26493\",\"type\":\"BasicTicker\"}},\"id\":\"be36f1c9-bda8-4e86-8ea8-7a2e485b404e\",\"type\":\"Grid\"},{\"attributes\":{\"axis_label\":\"cooling rate [K/day]\",\"formatter\":{\"id\":\"3527121f-ead3-47f7-82bb-1d78afc323cc\",\"type\":\"BasicTickFormatter\"},\"plot\":{\"id\":\"9e39703a-319b-4471-8e6d-f78405916943\",\"subtype\":\"Figure\",\"type\":\"Plot\"},\"ticker\":{\"id\":\"514712c3-9cd0-4f18-a639-c08f70e26493\",\"type\":\"BasicTicker\"}},\"id\":\"86573d78-cf2a-48dc-ae04-c34740fff6a6\",\"type\":\"LinearAxis\"},{\"attributes\":{},\"id\":\"514712c3-9cd0-4f18-a639-c08f70e26493\",\"type\":\"BasicTicker\"},{\"attributes\":{\"num_minor_ticks\":10},\"id\":\"dae1d2be-de55-4577-8664-fe40e1faecb5\",\"type\":\"LogTicker\"},{\"attributes\":{\"plot\":null,\"text\":\"Log pressure scale\"},\"id\":\"f017a0b2-1369-48e8-9087-fd03bd28a8ec\",\"type\":\"Title\"},{\"attributes\":{\"line_alpha\":0.1,\"line_color\":\"#1f77b4\",\"line_dash\":[2,4,6,4],\"line_width\":3,\"x\":{\"field\":\"x\"},\"y\":{\"field\":\"y\"}},\"id\":\"71ddbb07-9a1d-4c10-be9e-bdd1c4ad8cb4\",\"type\":\"Line\"},{\"attributes\":{\"data_source\":{\"id\":\"c6465884-94c8-48ce-87cc-3c52f9c01a2d\",\"type\":\"ColumnDataSource\"},\"glyph\":{\"id\":\"449ad98b-7905-4c73-b055-06b5c83aeb15\",\"type\":\"Circle\"},\"hover_glyph\":null,\"muted_glyph\":null,\"nonselection_glyph\":{\"id\":\"ae91c2a0-5f3f-4e96-9937-a276e13304ed\",\"type\":\"Circle\"},\"selection_glyph\":null,\"view\":{\"id\":\"f05bb849-899f-436b-b527-c2ab699d9a27\",\"type\":\"CDSView\"}},\"id\":\"5048df53-28e3-4753-8134-d49b51ff7f51\",\"type\":\"GlyphRenderer\"},{\"attributes\":{\"data_source\":{\"id\":\"2428eb6f-beb6-426b-ba5c-897451d4aa85\",\"type\":\"ColumnDataSource\"},\"glyph\":{\"id\":\"29a890d5-8098-40d4-b86f-943cbcce34c8\",\"type\":\"Line\"},\"hover_glyph\":null,\"muted_glyph\":null,\"nonselection_glyph\":{\"id\":\"71ddbb07-9a1d-4c10-be9e-bdd1c4ad8cb4\",\"type\":\"Line\"},\"selection_glyph\":null,\"view\":{\"id\":\"8d3ed960-0531-46a2-94b5-261d4e34f136\",\"type\":\"CDSView\"}},\"id\":\"75e41140-18ce-4290-829b-e3d62cc1383b\",\"type\":\"GlyphRenderer\"},{\"attributes\":{\"axis_label\":\"pressure [mb]\",\"formatter\":{\"id\":\"0be602d3-7cf1-45c4-ac59-fbe016c5c454\",\"type\":\"BasicTickFormatter\"},\"plot\":{\"id\":\"1d4108ac-82e5-4830-916f-e89d65d1d2cf\",\"subtype\":\"Figure\",\"type\":\"Plot\"},\"ticker\":{\"id\":\"75b38e04-9d03-4c14-ba9b-b945cba05f3a\",\"type\":\"BasicTicker\"}},\"id\":\"a357e759-4998-4a12-9114-e748380cea7c\",\"type\":\"LinearAxis\"},{\"attributes\":{},\"id\":\"1c5cc61f-ec85-4738-9501-508782f12233\",\"type\":\"LinearScale\"},{\"attributes\":{\"source\":{\"id\":\"2428eb6f-beb6-426b-ba5c-897451d4aa85\",\"type\":\"ColumnDataSource\"}},\"id\":\"8d3ed960-0531-46a2-94b5-261d4e34f136\",\"type\":\"CDSView\"},{\"attributes\":{\"below\":[{\"id\":\"86573d78-cf2a-48dc-ae04-c34740fff6a6\",\"type\":\"LinearAxis\"}],\"left\":[{\"id\":\"1338eb21-0abf-4b65-8963-6f6bf06c3870\",\"type\":\"LogAxis\"}],\"plot_height\":500,\"plot_width\":560,\"renderers\":[{\"id\":\"86573d78-cf2a-48dc-ae04-c34740fff6a6\",\"type\":\"LinearAxis\"},{\"id\":\"be36f1c9-bda8-4e86-8ea8-7a2e485b404e\",\"type\":\"Grid\"},{\"id\":\"1338eb21-0abf-4b65-8963-6f6bf06c3870\",\"type\":\"LogAxis\"},{\"id\":\"1d00f50f-1bd4-43cc-9461-7d41fbba7ee5\",\"type\":\"Grid\"},{\"id\":\"fe3e1166-d82f-459b-bed4-f0fc1fa79ed0\",\"type\":\"BoxAnnotation\"},{\"id\":\"5f9944b4-0ed7-46c9-88b4-62091bebe513\",\"type\":\"GlyphRenderer\"},{\"id\":\"8ce423ba-7876-4d82-bdfc-c5f23945dde7\",\"type\":\"GlyphRenderer\"},{\"id\":\"eacbbad1-798b-4082-a1e0-faf0b0262ad6\",\"type\":\"GlyphRenderer\"},{\"id\":\"f293f3d8-bacb-4b31-b340-2ee68b8d9e21\",\"type\":\"GlyphRenderer\"},{\"id\":\"84b7c116-88b0-4e52-98e6-60f0f3113134\",\"type\":\"GlyphRenderer\"},{\"id\":\"9667f0d9-44ac-4c81-a134-84a08950b9e8\",\"type\":\"GlyphRenderer\"},{\"id\":\"75987c32-41da-4110-a0e3-1bda72313bbb\",\"type\":\"Legend\"}],\"right\":[{\"id\":\"75987c32-41da-4110-a0e3-1bda72313bbb\",\"type\":\"Legend\"}],\"title\":{\"id\":\"f017a0b2-1369-48e8-9087-fd03bd28a8ec\",\"type\":\"Title\"},\"toolbar\":{\"id\":\"3a771b07-a6b8-4c89-a6a6-3e73fa3b4e55\",\"type\":\"Toolbar\"},\"toolbar_location\":null,\"x_range\":{\"id\":\"52383d19-6b94-4588-a036-7f508f11e8bf\",\"type\":\"Range1d\"},\"x_scale\":{\"id\":\"1c5cc61f-ec85-4738-9501-508782f12233\",\"type\":\"LinearScale\"},\"y_range\":{\"id\":\"85bdb502-ade7-4ad6-9dfc-579429596cd9\",\"type\":\"Range1d\"},\"y_scale\":{\"id\":\"2694d0f2-3c82-40f6-8ebd-afc98bed36c8\",\"type\":\"LogScale\"}},\"id\":\"9e39703a-319b-4471-8e6d-f78405916943\",\"subtype\":\"Figure\",\"type\":\"Plot\"},{\"attributes\":{\"dimension\":1,\"plot\":{\"id\":\"1d4108ac-82e5-4830-916f-e89d65d1d2cf\",\"subtype\":\"Figure\",\"type\":\"Plot\"},\"ticker\":{\"id\":\"75b38e04-9d03-4c14-ba9b-b945cba05f3a\",\"type\":\"BasicTicker\"}},\"id\":\"35f899fe-3a79-43f8-9567-ffd581e31022\",\"type\":\"Grid\"},{\"attributes\":{\"source\":{\"id\":\"a99d58b9-a508-4d29-8192-b789a9eaa226\",\"type\":\"ColumnDataSource\"}},\"id\":\"ee8ceb11-c0d1-4fba-abf0-54eec54fadb8\",\"type\":\"CDSView\"},{\"attributes\":{},\"id\":\"75b38e04-9d03-4c14-ba9b-b945cba05f3a\",\"type\":\"BasicTicker\"},{\"attributes\":{\"plot\":{\"id\":\"1d4108ac-82e5-4830-916f-e89d65d1d2cf\",\"subtype\":\"Figure\",\"type\":\"Plot\"},\"ticker\":{\"id\":\"b375335a-cbcf-4b15-89e4-13e7ef8f7b71\",\"type\":\"BasicTicker\"}},\"id\":\"e9163210-bcb3-4392-ae6b-4b41126d0afb\",\"type\":\"Grid\"},{\"attributes\":{\"below\":[{\"id\":\"b1de509a-1f0d-411f-a57b-5af9feaacc68\",\"type\":\"LinearAxis\"}],\"left\":[{\"id\":\"a357e759-4998-4a12-9114-e748380cea7c\",\"type\":\"LinearAxis\"}],\"plot_height\":500,\"plot_width\":400,\"renderers\":[{\"id\":\"b1de509a-1f0d-411f-a57b-5af9feaacc68\",\"type\":\"LinearAxis\"},{\"id\":\"e9163210-bcb3-4392-ae6b-4b41126d0afb\",\"type\":\"Grid\"},{\"id\":\"a357e759-4998-4a12-9114-e748380cea7c\",\"type\":\"LinearAxis\"},{\"id\":\"35f899fe-3a79-43f8-9567-ffd581e31022\",\"type\":\"Grid\"},{\"id\":\"e855de19-f8a7-41c6-85f2-6f0d2f2f3203\",\"type\":\"BoxAnnotation\"},{\"id\":\"5048df53-28e3-4753-8134-d49b51ff7f51\",\"type\":\"GlyphRenderer\"},{\"id\":\"65297f98-d7d3-47d0-9fd2-fc1df884ecc4\",\"type\":\"GlyphRenderer\"},{\"id\":\"796ca104-c7a6-43f6-adf3-1dcbd64c8486\",\"type\":\"GlyphRenderer\"},{\"id\":\"22fc32ba-4e7e-4251-838f-c804ddb20ff7\",\"type\":\"GlyphRenderer\"},{\"id\":\"026de1f8-a994-4b87-aedc-94faa47de9a2\",\"type\":\"GlyphRenderer\"},{\"id\":\"75e41140-18ce-4290-829b-e3d62cc1383b\",\"type\":\"GlyphRenderer\"}],\"title\":{\"id\":\"638e1a4d-e85d-4351-81dd-44fc8dbc0920\",\"type\":\"Title\"},\"toolbar\":{\"id\":\"93241bcc-c837-4898-8091-0b98a996b8d6\",\"type\":\"Toolbar\"},\"toolbar_location\":null,\"x_range\":{\"id\":\"42e13da3-3730-4783-894d-da5047e2a172\",\"type\":\"Range1d\"},\"x_scale\":{\"id\":\"64e14ab2-5b8c-4890-bec2-94010d0ae611\",\"type\":\"LinearScale\"},\"y_range\":{\"id\":\"e5d85aab-366d-4e67-91c7-d98b2bd42559\",\"type\":\"Range1d\"},\"y_scale\":{\"id\":\"7e831ad7-8d57-4252-a5f1-02aa8e4affaf\",\"type\":\"LinearScale\"}},\"id\":\"1d4108ac-82e5-4830-916f-e89d65d1d2cf\",\"subtype\":\"Figure\",\"type\":\"Plot\"},{\"attributes\":{},\"id\":\"64e14ab2-5b8c-4890-bec2-94010d0ae611\",\"type\":\"LinearScale\"},{\"attributes\":{},\"id\":\"0c2c9e6a-1ace-405e-943c-4fc03c1d99fb\",\"type\":\"PanTool\"},{\"attributes\":{\"callback\":null,\"column_names\":[\"x\",\"y\"],\"data\":{\"x\":{\"__ndarray__\":\"tC8xepRokr/moDoMnCKQv/9vsi7qaom/14OD5ZoOgb/pz8zFN4pvv660mg0WFU0/1DjNWoAxeD/OeAIxbkKIP663D3FajZI/3i422JRemT+vzS4uQYWgPwZ7l3sWvqQ/RIkzEuMtqT/ovpcg9WetPzzG4iWiWbA/SHs6WZW9sT9NjwumGCKzP6bw7Ge7hrQ/YVd3Un3stT9c/MvAkVi3P+DBpRz5p7g/Ao6LCp+ktj9h7nlP/NCwP5fmFOzYa6Y/Es5iuvRVnD9P/SiPE8uQP9hW4OG+GYI/wfgevJrmcz+ReB+mCYttP7H7TzRPMmk/zHCTe8BPYz+/sVU1yVdXPwquY+xl01E/HA5IlM/RVz+q8CHITKBbP1+wEUS6+Fs/85svnhR5WD8fz9RKradJP02YYStjixu/qLDcDqk7Ub9EPTJSvkthvx32F8qdo2u/eRSTYPbec78mnVWj9iJ7vwUpu5TPtoG/JiqmWhxxg78TMPRnw4qAvwHBszTkVXa/VYvSpu2NYL/ALgjC3MljP7cVg08IoH4/BVRyLd64ij/rE0ii+nuTP/KgBvf285k/RJ4QeUxWoD+RLV47N76jP/b8T082Hac/Puzt5SpVqj8c2tfsDkqtPxDTw3J5468/KZasoQwJsT8AgsrcouqxP1EhY134m7I/SbQ48UIrsz+m4wk7x6uzPxvDUhMzMbQ/jww8bi3QtD/Tinma74e1PxMMCClPC7Y/R/g8UaK9tT/QvO499A60P/rfR77dVbE/02AxIgXarD/rjHh9qUmnP8ppfQElVKE/\",\"dtype\":\"float64\",\"shape\":[75]},\"y\":{\"__ndarray__\":\"GhExyth1ND/Sv8nbtpRIP2vylNV0PVE/aTum7souWD/At0SJ8fVgPw3Iuahxymc/MSNhhJWvcD/bTfBN02d3P2zb5nxnaoA/CD5h5MAGhz8NmeH1TyaQP+zrCsc9p5Y/LbKd76fGnz/bLW5ISEmmPww9YvTcQq8/JV2OstnstT8Er5Y7M8G+P0c+r3jqkcU/5h99k6ZBzj88bCIzFzjVP4enV8oyxN0//yH99nXg5D8qOpLLf0jtP5kqGJXUifQ/c9cS8kHP/D+/DpwzojQEQIEmwoanVwxA4lgXt9HgE0BSSZ2AJuIbQAMJih9jjiNA5q4l5INuK0AwTKYKRj0zQNv5fmq8/DpAaCJseHrtQkB/+zpwzoxKQM3MzMzMeFJAZmZmZmZqWEAAAAAAAFxeQM3MzMzMJmJAmpmZmZkfZUBmZmZmZhhoQDMzMzMzEWtAAAAAAAAKbkBmZmZmZoFwQM3MzMzM/XFAMzMzMzN6c0CamZmZmfZ0QAAAAAAAc3ZAZmZmZmbvd0DNzMzMzGt5QDMzMzMz6HpAmpmZmZlkfEAAAAAAAOF9QGZmZmZmXX9AZmZmZuZsgECamZmZGSuBQM3MzMxM6YFAAAAAAICngkAzMzMzs2WDQGZmZmbmI4RAmpmZmRnihEDNzMzMTKCFQAAAAACAXoZAMzMzM7Mch0BmZmZm5tqHQJqZmZkZmYhAzczMzExXiUAAAAAAgBWKQDMzMzOz04pAZmZmZuaRi0CamZmZGVCMQM3MzMxMDo1AAAAAAIDMjUAzMzMzs4qOQGZmZmbmSI9A\",\"dtype\":\"float64\",\"shape\":[75]}}},\"id\":\"a99d58b9-a508-4d29-8192-b789a9eaa226\",\"type\":\"ColumnDataSource\"},{\"attributes\":{\"fill_alpha\":{\"value\":0.7},\"fill_color\":{\"value\":\"#4daf4a\"},\"line_alpha\":{\"value\":0.7},\"line_color\":{\"value\":\"#4daf4a\"},\"x\":{\"field\":\"x\"},\"y\":{\"field\":\"y\"}},\"id\":\"d6958112-68a2-4c22-a322-b43ae4da836c\",\"type\":\"Circle\"},{\"attributes\":{\"plot\":null,\"text\":\"Linear pressure scale\"},\"id\":\"638e1a4d-e85d-4351-81dd-44fc8dbc0920\",\"type\":\"Title\"},{\"attributes\":{},\"id\":\"0be602d3-7cf1-45c4-ac59-fbe016c5c454\",\"type\":\"BasicTickFormatter\"},{\"attributes\":{\"callback\":null,\"column_names\":[\"x\",\"y\"],\"data\":{\"x\":{\"__ndarray__\":\"0S3poDp6Tb+/8EzGpK0eP90Z4mKJKmM/ucOFyJnJcz8EkbyoGhN/P8MLpWVScnM/sAAO8JChjD/fagDj1xeSP5ADasLaPpY/bq6XL/rNmj8M9kWTos2fP6whZGWjj6Q/GFL8GnQCpj8v2NjoRp+oP7VNLhzB86o/iDAWN4IVrT+s67C/dZCvP7otybUs1bA/7mj4IwAQsj+IvAuyajKzP6SUt/NigLQ/GZBG0Ftmsz9cqjVBkmGvPyo0c/Uhd6c/lAyg4q/+oD8Epqg6sXWXP0RTBKVZuo0/qxK2bQmRgj9ZWM+M5/N2P3ng38Bdn20/RJU47xoUXz9QiB3XRVE9P4BkGmJtNQE/kryvSTHPDT84Pp7WM+coP4QtPY6mFuk+RjcK5vIaQL8QyjB0ib9Wv/b4CZOlN2S/AFnr7xy2a792CxZrlXByv1JPd8tCdXe/K21VOKCqfL/ld9TAIWCBv3fOxRF6ZYS/I6BLAwJHhb+dSUpjfOSBv4r1G+S0sni/C/J6wmfqY79thcuTdKBhPzc6+mb6aH4/pmP0+pixij9nIpqwZUiTP9QFXFqEl5k/FI6Q6R8woD9UrtmSoZ+jP5T7zEID/aY/O5BQjl39qT+zP0FDrr2sP23joJs1LK8/SSBbH6GpsD+U4Tvb6oyxP7EjnoSDUbI/XNtxSSn2sj+KBZ2UcoyzP/SLiQK6BbQ/KMwWcYOftD9YUQeivEm1PxyAF/qDqLU/f+PGiJ9atT/ljbLPerCzP7Zq4fYnGLE/i5TQ19iXrD9VjgOOiFKnPxMKKAx+pqE/\",\"dtype\":\"float64\",\"shape\":[75]},\"y\":{\"__ndarray__\":\"GhExyth1ND/Sv8nbtpRIP2vylNV0PVE/aTum7souWD/At0SJ8fVgPw3Iuahxymc/MSNhhJWvcD/bTfBN02d3P2zb5nxnaoA/CD5h5MAGhz8NmeH1TyaQP+zrCsc9p5Y/LbKd76fGnz/bLW5ISEmmPww9YvTcQq8/JV2OstnstT8Er5Y7M8G+P0c+r3jqkcU/5h99k6ZBzj88bCIzFzjVP4enV8oyxN0//yH99nXg5D8qOpLLf0jtP5kqGJXUifQ/c9cS8kHP/D+/DpwzojQEQIEmwoanVwxA4lgXt9HgE0BSSZ2AJuIbQAMJih9jjiNA5q4l5INuK0AwTKYKRj0zQNv5fmq8/DpAaCJseHrtQkB/+zpwzoxKQM3MzMzMeFJAZmZmZmZqWEAAAAAAAFxeQM3MzMzMJmJAmpmZmZkfZUBmZmZmZhhoQDMzMzMzEWtAAAAAAAAKbkBmZmZmZoFwQM3MzMzM/XFAMzMzMzN6c0CamZmZmfZ0QAAAAAAAc3ZAZmZmZmbvd0DNzMzMzGt5QDMzMzMz6HpAmpmZmZlkfEAAAAAAAOF9QGZmZmZmXX9AZmZmZuZsgECamZmZGSuBQM3MzMxM6YFAAAAAAICngkAzMzMzs2WDQGZmZmbmI4RAmpmZmRnihEDNzMzMTKCFQAAAAACAXoZAMzMzM7Mch0BmZmZm5tqHQJqZmZkZmYhAzczMzExXiUAAAAAAgBWKQDMzMzOz04pAZmZmZuaRi0CamZmZGVCMQM3MzMxMDo1AAAAAAIDMjUAzMzMzs4qOQGZmZmbmSI9A\",\"dtype\":\"float64\",\"shape\":[75]}}},\"id\":\"4b47e1d2-5fa4-4cd8-8dd3-0eafcff93763\",\"type\":\"ColumnDataSource\"},{\"attributes\":{\"callback\":null,\"column_names\":[\"x\",\"y\"],\"data\":{\"x\":{\"__ndarray__\":\"0S3poDp6Tb+/8EzGpK0eP90Z4mKJKmM/ucOFyJnJcz8EkbyoGhN/P8MLpWVScnM/sAAO8JChjD/fagDj1xeSP5ADasLaPpY/bq6XL/rNmj8M9kWTos2fP6whZGWjj6Q/GFL8GnQCpj8v2NjoRp+oP7VNLhzB86o/iDAWN4IVrT+s67C/dZCvP7otybUs1bA/7mj4IwAQsj+IvAuyajKzP6SUt/NigLQ/GZBG0Ftmsz9cqjVBkmGvPyo0c/Uhd6c/lAyg4q/+oD8Epqg6sXWXP0RTBKVZuo0/qxK2bQmRgj9ZWM+M5/N2P3ng38Bdn20/RJU47xoUXz9QiB3XRVE9P4BkGmJtNQE/kryvSTHPDT84Pp7WM+coP4QtPY6mFuk+RjcK5vIaQL8QyjB0ib9Wv/b4CZOlN2S/AFnr7xy2a792CxZrlXByv1JPd8tCdXe/K21VOKCqfL/ld9TAIWCBv3fOxRF6ZYS/I6BLAwJHhb+dSUpjfOSBv4r1G+S0sni/C/J6wmfqY79thcuTdKBhPzc6+mb6aH4/pmP0+pixij9nIpqwZUiTP9QFXFqEl5k/FI6Q6R8woD9UrtmSoZ+jP5T7zEID/aY/O5BQjl39qT+zP0FDrr2sP23joJs1LK8/SSBbH6GpsD+U4Tvb6oyxP7EjnoSDUbI/XNtxSSn2sj+KBZ2UcoyzP/SLiQK6BbQ/KMwWcYOftD9YUQeivEm1PxyAF/qDqLU/f+PGiJ9atT/ljbLPerCzP7Zq4fYnGLE/i5TQ19iXrD9VjgOOiFKnPxMKKAx+pqE/\",\"dtype\":\"float64\",\"shape\":[75]},\"y\":{\"__ndarray__\":\"GhExyth1ND/Sv8nbtpRIP2vylNV0PVE/aTum7souWD/At0SJ8fVgPw3Iuahxymc/MSNhhJWvcD/bTfBN02d3P2zb5nxnaoA/CD5h5MAGhz8NmeH1TyaQP+zrCsc9p5Y/LbKd76fGnz/bLW5ISEmmPww9YvTcQq8/JV2OstnstT8Er5Y7M8G+P0c+r3jqkcU/5h99k6ZBzj88bCIzFzjVP4enV8oyxN0//yH99nXg5D8qOpLLf0jtP5kqGJXUifQ/c9cS8kHP/D+/DpwzojQEQIEmwoanVwxA4lgXt9HgE0BSSZ2AJuIbQAMJih9jjiNA5q4l5INuK0AwTKYKRj0zQNv5fmq8/DpAaCJseHrtQkB/+zpwzoxKQM3MzMzMeFJAZmZmZmZqWEAAAAAAAFxeQM3MzMzMJmJAmpmZmZkfZUBmZmZmZhhoQDMzMzMzEWtAAAAAAAAKbkBmZmZmZoFwQM3MzMzM/XFAMzMzMzN6c0CamZmZmfZ0QAAAAAAAc3ZAZmZmZmbvd0DNzMzMzGt5QDMzMzMz6HpAmpmZmZlkfEAAAAAAAOF9QGZmZmZmXX9AZmZmZuZsgECamZmZGSuBQM3MzMxM6YFAAAAAAICngkAzMzMzs2WDQGZmZmbmI4RAmpmZmRnihEDNzMzMTKCFQAAAAACAXoZAMzMzM7Mch0BmZmZm5tqHQJqZmZkZmYhAzczMzExXiUAAAAAAgBWKQDMzMzOz04pAZmZmZuaRi0CamZmZGVCMQM3MzMxMDo1AAAAAAIDMjUAzMzMzs4qOQGZmZmbmSI9A\",\"dtype\":\"float64\",\"shape\":[75]}}},\"id\":\"2428eb6f-beb6-426b-ba5c-897451d4aa85\",\"type\":\"ColumnDataSource\"},{\"attributes\":{\"active_drag\":\"auto\",\"active_inspect\":\"auto\",\"active_scroll\":\"auto\",\"active_tap\":\"auto\",\"tools\":[{\"id\":\"0c2c9e6a-1ace-405e-943c-4fc03c1d99fb\",\"type\":\"PanTool\"},{\"id\":\"6f95bf7e-634e-41c7-9e83-a77f2576f2e8\",\"type\":\"WheelZoomTool\"},{\"id\":\"241a1764-8c50-4076-898a-4ba358374c8a\",\"type\":\"BoxZoomTool\"},{\"id\":\"2a0e36d2-bca8-45d1-9800-a287fe3bb792\",\"type\":\"SaveTool\"},{\"id\":\"6e828235-eadf-4e66-befd-2f319339683c\",\"type\":\"ResetTool\"},{\"id\":\"c661dc48-7f85-4918-8890-6dc214954853\",\"type\":\"HelpTool\"}]},\"id\":\"93241bcc-c837-4898-8091-0b98a996b8d6\",\"type\":\"Toolbar\"},{\"attributes\":{\"callback\":null,\"column_names\":[\"x\",\"y\"],\"data\":{\"x\":{\"__ndarray__\":\"fDJggO02YT/23j1b3tBoPxoBnjZfs3Q/f/woEN3/fT8Iu/muDiWEP2P48nyy1Ik/9quyT/0MkD9/xL6D8H+TP+cUHBKCS5c/BSi/pZl3mz++AkXqRQagPwQBiHSliaI/yi7UPnZHpT/fhwe9zOqnPwp85UQyGao/y7Igx+gWrD9pbJZoHCyuP/MRqjRfLrA/xSHZK0VVsT8+d5mZTYuyPwa+hgaAr7M/HbhooLDGsj/z9oJ3O8CuP/Za3aVliKc/DRJjGP5zoT/E+SJBu7qYP3ihHnoJUJA/37hIfh1ohD9VMJmPjJp5Pwnag1n4JG4/U90Gana6Wj/bDpaiJ60TP168eIU0s0C/i9/2K+ruM78VB6PGqP8mvx+adcgrgzi/X9qhK48uTr8jtITFOKlev45VzgeZnme/LvFXM/gccL9XTrSHE5p0v6EeYWyvcnm/r7GneyZ9fr9qToCXEOmBv/hK/RVikIS/6JrytgwXhb+Go4z59+CBv7nWXSeV83i/57onCS3WZb+uV1LbfwVdP7nhIdN0Unw/XLl3CkJEiT/1vq+ZlVCSP9jUwCmIjpg/W1TkQKqJnz/Tut0wqVijP3L793bRq6Y/RDLS9b6dqT/XR0z1CUWsP2evBHNwwK4/aztrjN2LsD8S6+VbRZ2xP34fNNlEiLI//jmNM9RIsz88TieSFeezP2NIIO6CcrQ/OpUg5Dv/tD84too9NZC1P54Hy2Z75bU/0mJH6Al5tT8gK9dfn86zP6tDo3jrNbE/gqmtq97urD8U05k85LSnP0hAkZbmMKI/\",\"dtype\":\"float64\",\"shape\":[75]},\"y\":{\"__ndarray__\":\"GhExyth1ND/Sv8nbtpRIP2vylNV0PVE/aTum7souWD/At0SJ8fVgPw3Iuahxymc/MSNhhJWvcD/bTfBN02d3P2zb5nxnaoA/CD5h5MAGhz8NmeH1TyaQP+zrCsc9p5Y/LbKd76fGnz/bLW5ISEmmPww9YvTcQq8/JV2OstnstT8Er5Y7M8G+P0c+r3jqkcU/5h99k6ZBzj88bCIzFzjVP4enV8oyxN0//yH99nXg5D8qOpLLf0jtP5kqGJXUifQ/c9cS8kHP/D+/DpwzojQEQIEmwoanVwxA4lgXt9HgE0BSSZ2AJuIbQAMJih9jjiNA5q4l5INuK0AwTKYKRj0zQNv5fmq8/DpAaCJseHrtQkB/+zpwzoxKQM3MzMzMeFJAZmZmZmZqWEAAAAAAAFxeQM3MzMzMJmJAmpmZmZkfZUBmZmZmZhhoQDMzMzMzEWtAAAAAAAAKbkBmZmZmZoFwQM3MzMzM/XFAMzMzMzN6c0CamZmZmfZ0QAAAAAAAc3ZAZmZmZmbvd0DNzMzMzGt5QDMzMzMz6HpAmpmZmZlkfEAAAAAAAOF9QGZmZmZmXX9AZmZmZuZsgECamZmZGSuBQM3MzMxM6YFAAAAAAICngkAzMzMzs2WDQGZmZmbmI4RAmpmZmRnihEDNzMzMTKCFQAAAAACAXoZAMzMzM7Mch0BmZmZm5tqHQJqZmZkZmYhAzczMzExXiUAAAAAAgBWKQDMzMzOz04pAZmZmZuaRi0CamZmZGVCMQM3MzMxMDo1AAAAAAIDMjUAzMzMzs4qOQGZmZmbmSI9A\",\"dtype\":\"float64\",\"shape\":[75]}}},\"id\":\"bdcd8037-ab0a-417e-8b46-2db68f0b9f9f\",\"type\":\"ColumnDataSource\"},{\"attributes\":{\"callback\":null,\"end\":0.08707505908,\"start\":-0.01135433708},\"id\":\"42e13da3-3730-4783-894d-da5047e2a172\",\"type\":\"Range1d\"},{\"attributes\":{\"fill_alpha\":{\"value\":0.1},\"fill_color\":{\"value\":\"#1f77b4\"},\"line_alpha\":{\"value\":0.1},\"line_color\":{\"value\":\"#1f77b4\"},\"x\":{\"field\":\"x\"},\"y\":{\"field\":\"y\"}},\"id\":\"ae91c2a0-5f3f-4e96-9937-a276e13304ed\",\"type\":\"Circle\"},{\"attributes\":{\"line_alpha\":0.1,\"line_color\":\"#1f77b4\",\"line_width\":3,\"x\":{\"field\":\"x\"},\"y\":{\"field\":\"y\"}},\"id\":\"f7fbaab4-a8c5-4782-963e-c307fc002310\",\"type\":\"Line\"},{\"attributes\":{\"data_source\":{\"id\":\"a99d58b9-a508-4d29-8192-b789a9eaa226\",\"type\":\"ColumnDataSource\"},\"glyph\":{\"id\":\"df46ec31-471c-4aec-b394-c0073e509932\",\"type\":\"Line\"},\"hover_glyph\":null,\"muted_glyph\":null,\"nonselection_glyph\":{\"id\":\"1b0053ca-b36e-4fb8-ab60-bb3f62639c4d\",\"type\":\"Line\"},\"selection_glyph\":null,\"view\":{\"id\":\"ee8ceb11-c0d1-4fba-abf0-54eec54fadb8\",\"type\":\"CDSView\"}},\"id\":\"65297f98-d7d3-47d0-9fd2-fc1df884ecc4\",\"type\":\"GlyphRenderer\"},{\"attributes\":{\"source\":{\"id\":\"c6465884-94c8-48ce-87cc-3c52f9c01a2d\",\"type\":\"ColumnDataSource\"}},\"id\":\"f05bb849-899f-436b-b527-c2ab699d9a27\",\"type\":\"CDSView\"},{\"attributes\":{\"line_alpha\":0.6,\"line_color\":\"#984ea3\",\"line_width\":3,\"x\":{\"field\":\"x\"},\"y\":{\"field\":\"y\"}},\"id\":\"45812893-e78a-4540-b7a0-4df17293db44\",\"type\":\"Line\"},{\"attributes\":{},\"id\":\"13b7cd07-ef8b-4212-a3cf-80f136fd88b5\",\"type\":\"BasicTickFormatter\"},{\"attributes\":{},\"id\":\"6f95bf7e-634e-41c7-9e83-a77f2576f2e8\",\"type\":\"WheelZoomTool\"},{\"attributes\":{\"bottom_units\":\"screen\",\"fill_alpha\":{\"value\":0.5},\"fill_color\":{\"value\":\"lightgrey\"},\"left_units\":\"screen\",\"level\":\"overlay\",\"line_alpha\":{\"value\":1.0},\"line_color\":{\"value\":\"black\"},\"line_dash\":[4,4],\"line_width\":{\"value\":2},\"plot\":null,\"render_mode\":\"css\",\"right_units\":\"screen\",\"top_units\":\"screen\"},\"id\":\"e855de19-f8a7-41c6-85f2-6f0d2f2f3203\",\"type\":\"BoxAnnotation\"},{\"attributes\":{\"source\":{\"id\":\"4b47e1d2-5fa4-4cd8-8dd3-0eafcff93763\",\"type\":\"ColumnDataSource\"}},\"id\":\"aada245e-aa48-4f25-943e-e4f1863168be\",\"type\":\"CDSView\"},{\"attributes\":{},\"id\":\"b375335a-cbcf-4b15-89e4-13e7ef8f7b71\",\"type\":\"BasicTicker\"},{\"attributes\":{},\"id\":\"2a0e36d2-bca8-45d1-9800-a287fe3bb792\",\"type\":\"SaveTool\"},{\"attributes\":{\"fill_alpha\":{\"value\":0.7},\"fill_color\":{\"value\":\"#377eb8\"},\"line_alpha\":{\"value\":0.7},\"line_color\":{\"value\":\"#377eb8\"},\"x\":{\"field\":\"x\"},\"y\":{\"field\":\"y\"}},\"id\":\"3c5d8bba-0c16-40c5-8a86-1ea06ca66ccc\",\"type\":\"InvertedTriangle\"},{\"attributes\":{\"line_color\":\"#4daf4a\",\"line_width\":1.5,\"x\":{\"field\":\"x\"},\"y\":{\"field\":\"y\"}},\"id\":\"df46ec31-471c-4aec-b394-c0073e509932\",\"type\":\"Line\"},{\"attributes\":{},\"id\":\"c661dc48-7f85-4918-8890-6dc214954853\",\"type\":\"HelpTool\"},{\"attributes\":{\"data_source\":{\"id\":\"bdcd8037-ab0a-417e-8b46-2db68f0b9f9f\",\"type\":\"ColumnDataSource\"},\"glyph\":{\"id\":\"45812893-e78a-4540-b7a0-4df17293db44\",\"type\":\"Line\"},\"hover_glyph\":null,\"muted_glyph\":null,\"nonselection_glyph\":{\"id\":\"f7fbaab4-a8c5-4782-963e-c307fc002310\",\"type\":\"Line\"},\"selection_glyph\":null,\"view\":{\"id\":\"96468f9b-7b66-4e6f-a9d5-1d4f56f565f8\",\"type\":\"CDSView\"}},\"id\":\"22fc32ba-4e7e-4251-838f-c804ddb20ff7\",\"type\":\"GlyphRenderer\"}],\"root_ids\":[\"5e120157-9cc5-4122-a40b-2e9bfb868103\"]},\"title\":\"Bokeh Application\",\"version\":\"0.12.14\"}};\n",
       "  var render_items = [{\"docid\":\"c3d1c748-c5df-4b3f-8ff9-b8448a503a9c\",\"elementid\":\"52133419-5924-44f1-bbe8-bdd96f0bb688\",\"modelid\":\"5e120157-9cc5-4122-a40b-2e9bfb868103\"}];\n",
       "  root.Bokeh.embed.embed_items_notebook(docs_json, render_items);\n",
       "\n",
       "  }\n",
       "  if (root.Bokeh !== undefined) {\n",
       "    embed_document(root);\n",
       "  } else {\n",
       "    var attempts = 0;\n",
       "    var timer = setInterval(function(root) {\n",
       "      if (root.Bokeh !== undefined) {\n",
       "        embed_document(root);\n",
       "        clearInterval(timer);\n",
       "      }\n",
       "      attempts++;\n",
       "      if (attempts > 100) {\n",
       "        console.log(\"Bokeh: ERROR: Unable to run BokehJS code because BokehJS library is missing\")\n",
       "        clearInterval(timer);\n",
       "      }\n",
       "    }, 10, root)\n",
       "  }\n",
       "})(window);"
      ],
      "application/vnd.bokehjs_exec.v0+json": ""
     },
     "metadata": {
      "application/vnd.bokehjs_exec.v0+json": {
       "id": "5e120157-9cc5-4122-a40b-2e9bfb868103"
      }
     },
     "output_type": "display_data"
    },
    {
     "name": "stdout",
     "output_type": "stream",
     "text": [
      "FIGURE. Cooling rate profiles.\n"
     ]
    },
    {
     "data": {
      "text/html": [
       "<a id=\"Flux_Comparison\"></a>"
      ],
      "text/plain": [
       "<IPython.core.display.HTML object>"
      ]
     },
     "metadata": {},
     "output_type": "display_data"
    },
    {
     "data": {
      "text/markdown": [
       "# Flux Comparison"
      ],
      "text/plain": [
       "<IPython.core.display.Markdown object>"
      ]
     },
     "metadata": {},
     "output_type": "display_data"
    },
    {
     "data": {
      "text/html": [
       "<div>\n",
       "<style>\n",
       "    .dataframe thead tr:only-child th {\n",
       "        text-align: right;\n",
       "    }\n",
       "\n",
       "    .dataframe thead th {\n",
       "        text-align: left;\n",
       "    }\n",
       "\n",
       "    .dataframe tbody tr th {\n",
       "        vertical-align: top;\n",
       "    }\n",
       "</style>\n",
       "<table border=\"1\" class=\"dataframe\">\n",
       "  <thead>\n",
       "    <tr style=\"text-align: right;\">\n",
       "      <th></th>\n",
       "      <th></th>\n",
       "      <th>flug</th>\n",
       "      <th>fldg</th>\n",
       "      <th>fnetg</th>\n",
       "    </tr>\n",
       "    <tr>\n",
       "      <th>pressure</th>\n",
       "      <th>level</th>\n",
       "      <th></th>\n",
       "      <th></th>\n",
       "      <th></th>\n",
       "    </tr>\n",
       "  </thead>\n",
       "  <tbody>\n",
       "    <tr>\n",
       "      <th>0.0000</th>\n",
       "      <th>1</th>\n",
       "      <td>-7.841006</td>\n",
       "      <td>0.000000</td>\n",
       "      <td>-7.841006</td>\n",
       "    </tr>\n",
       "    <tr>\n",
       "      <th>1.0685</th>\n",
       "      <th>24</th>\n",
       "      <td>-7.837727</td>\n",
       "      <td>0.006700</td>\n",
       "      <td>-7.831027</td>\n",
       "    </tr>\n",
       "    <tr>\n",
       "      <th>1013.0000</th>\n",
       "      <th>76</th>\n",
       "      <td>-9.558030</td>\n",
       "      <td>5.588064</td>\n",
       "      <td>-3.969966</td>\n",
       "    </tr>\n",
       "  </tbody>\n",
       "</table>\n",
       "</div>"
      ],
      "text/plain": [
       "                     flug      fldg     fnetg\n",
       "pressure  level                              \n",
       "0.0000    1     -7.841006  0.000000 -7.841006\n",
       "1.0685    24    -7.837727  0.006700 -7.831027\n",
       "1013.0000 76    -9.558030  5.588064 -3.969966"
      ]
     },
     "metadata": {},
     "output_type": "display_data"
    },
    {
     "name": "stdout",
     "output_type": "stream",
     "text": [
      "Table. Fluxes. CRD\n"
     ]
    },
    {
     "data": {
      "text/html": [
       "<div>\n",
       "<style>\n",
       "    .dataframe thead tr:only-child th {\n",
       "        text-align: right;\n",
       "    }\n",
       "\n",
       "    .dataframe thead th {\n",
       "        text-align: left;\n",
       "    }\n",
       "\n",
       "    .dataframe tbody tr th {\n",
       "        vertical-align: top;\n",
       "    }\n",
       "</style>\n",
       "<table border=\"1\" class=\"dataframe\">\n",
       "  <thead>\n",
       "    <tr style=\"text-align: right;\">\n",
       "      <th></th>\n",
       "      <th></th>\n",
       "      <th>flug</th>\n",
       "      <th>fldg</th>\n",
       "      <th>fnetg</th>\n",
       "    </tr>\n",
       "    <tr>\n",
       "      <th>pressure</th>\n",
       "      <th>level</th>\n",
       "      <th></th>\n",
       "      <th></th>\n",
       "      <th></th>\n",
       "    </tr>\n",
       "  </thead>\n",
       "  <tbody>\n",
       "    <tr>\n",
       "      <th>0.0000</th>\n",
       "      <th>1</th>\n",
       "      <td>-7.892380</td>\n",
       "      <td>0.000000</td>\n",
       "      <td>-7.892380</td>\n",
       "    </tr>\n",
       "    <tr>\n",
       "      <th>1.0685</th>\n",
       "      <th>24</th>\n",
       "      <td>-7.889102</td>\n",
       "      <td>0.005040</td>\n",
       "      <td>-7.884062</td>\n",
       "    </tr>\n",
       "    <tr>\n",
       "      <th>1013.0000</th>\n",
       "      <th>76</th>\n",
       "      <td>-9.558030</td>\n",
       "      <td>5.414672</td>\n",
       "      <td>-4.143358</td>\n",
       "    </tr>\n",
       "  </tbody>\n",
       "</table>\n",
       "</div>"
      ],
      "text/plain": [
       "                     flug      fldg     fnetg\n",
       "pressure  level                              \n",
       "0.0000    1     -7.892380  0.000000 -7.892380\n",
       "1.0685    24    -7.889102  0.005040 -7.884062\n",
       "1013.0000 76    -9.558030  5.414672 -4.143358"
      ]
     },
     "metadata": {},
     "output_type": "display_data"
    },
    {
     "name": "stdout",
     "output_type": "stream",
     "text": [
      "Table. Fluxes. WGT igg=10\n"
     ]
    },
    {
     "data": {
      "text/html": [
       "<div>\n",
       "<style>\n",
       "    .dataframe thead tr:only-child th {\n",
       "        text-align: right;\n",
       "    }\n",
       "\n",
       "    .dataframe thead th {\n",
       "        text-align: left;\n",
       "    }\n",
       "\n",
       "    .dataframe tbody tr th {\n",
       "        vertical-align: top;\n",
       "    }\n",
       "</style>\n",
       "<table border=\"1\" class=\"dataframe\">\n",
       "  <thead>\n",
       "    <tr style=\"text-align: right;\">\n",
       "      <th></th>\n",
       "      <th></th>\n",
       "      <th>flug</th>\n",
       "      <th>fldg</th>\n",
       "      <th>fnetg</th>\n",
       "    </tr>\n",
       "    <tr>\n",
       "      <th>pressure</th>\n",
       "      <th>level</th>\n",
       "      <th></th>\n",
       "      <th></th>\n",
       "      <th></th>\n",
       "    </tr>\n",
       "  </thead>\n",
       "  <tbody>\n",
       "    <tr>\n",
       "      <th>0.0000</th>\n",
       "      <th>1</th>\n",
       "      <td>-7.829957</td>\n",
       "      <td>0.000000</td>\n",
       "      <td>-7.829957</td>\n",
       "    </tr>\n",
       "    <tr>\n",
       "      <th>1.0685</th>\n",
       "      <th>24</th>\n",
       "      <td>-7.826669</td>\n",
       "      <td>0.005303</td>\n",
       "      <td>-7.821366</td>\n",
       "    </tr>\n",
       "    <tr>\n",
       "      <th>1013.0000</th>\n",
       "      <th>76</th>\n",
       "      <td>-9.558030</td>\n",
       "      <td>5.478943</td>\n",
       "      <td>-4.079087</td>\n",
       "    </tr>\n",
       "  </tbody>\n",
       "</table>\n",
       "</div>"
      ],
      "text/plain": [
       "                     flug      fldg     fnetg\n",
       "pressure  level                              \n",
       "0.0000    1     -7.829957  0.000000 -7.829957\n",
       "1.0685    24    -7.826669  0.005303 -7.821366\n",
       "1013.0000 76    -9.558030  5.478943 -4.079087"
      ]
     },
     "metadata": {},
     "output_type": "display_data"
    },
    {
     "name": "stdout",
     "output_type": "stream",
     "text": [
      "Table. Fluxes. WGT igg=1\n"
     ]
    },
    {
     "data": {
      "text/html": [
       "<div>\n",
       "<style>\n",
       "    .dataframe thead tr:only-child th {\n",
       "        text-align: right;\n",
       "    }\n",
       "\n",
       "    .dataframe thead th {\n",
       "        text-align: left;\n",
       "    }\n",
       "\n",
       "    .dataframe tbody tr th {\n",
       "        vertical-align: top;\n",
       "    }\n",
       "</style>\n",
       "<table border=\"1\" class=\"dataframe\">\n",
       "  <thead>\n",
       "    <tr style=\"text-align: right;\">\n",
       "      <th></th>\n",
       "      <th></th>\n",
       "      <th>flug</th>\n",
       "      <th>fldg</th>\n",
       "      <th>fnetg</th>\n",
       "    </tr>\n",
       "    <tr>\n",
       "      <th>pressure</th>\n",
       "      <th>level</th>\n",
       "      <th></th>\n",
       "      <th></th>\n",
       "      <th></th>\n",
       "    </tr>\n",
       "  </thead>\n",
       "  <tbody>\n",
       "    <tr>\n",
       "      <th>0.0000</th>\n",
       "      <th>1</th>\n",
       "      <td>-0.051375</td>\n",
       "      <td>0.000000</td>\n",
       "      <td>-0.051375</td>\n",
       "    </tr>\n",
       "    <tr>\n",
       "      <th>1.0685</th>\n",
       "      <th>24</th>\n",
       "      <td>-0.051374</td>\n",
       "      <td>-0.001660</td>\n",
       "      <td>-0.053034</td>\n",
       "    </tr>\n",
       "    <tr>\n",
       "      <th>1013.0000</th>\n",
       "      <th>76</th>\n",
       "      <td>0.000000</td>\n",
       "      <td>-0.173392</td>\n",
       "      <td>-0.173392</td>\n",
       "    </tr>\n",
       "  </tbody>\n",
       "</table>\n",
       "</div>"
      ],
      "text/plain": [
       "                     flug      fldg     fnetg\n",
       "pressure  level                              \n",
       "0.0000    1     -0.051375  0.000000 -0.051375\n",
       "1.0685    24    -0.051374 -0.001660 -0.053034\n",
       "1013.0000 76     0.000000 -0.173392 -0.173392"
      ]
     },
     "metadata": {},
     "output_type": "display_data"
    },
    {
     "name": "stdout",
     "output_type": "stream",
     "text": [
      "Table. Fluxes. (WGT igg=10) - (CRD)\n"
     ]
    },
    {
     "data": {
      "text/html": [
       "<div>\n",
       "<style>\n",
       "    .dataframe thead tr:only-child th {\n",
       "        text-align: right;\n",
       "    }\n",
       "\n",
       "    .dataframe thead th {\n",
       "        text-align: left;\n",
       "    }\n",
       "\n",
       "    .dataframe tbody tr th {\n",
       "        vertical-align: top;\n",
       "    }\n",
       "</style>\n",
       "<table border=\"1\" class=\"dataframe\">\n",
       "  <thead>\n",
       "    <tr style=\"text-align: right;\">\n",
       "      <th></th>\n",
       "      <th></th>\n",
       "      <th>flug</th>\n",
       "      <th>fldg</th>\n",
       "      <th>fnetg</th>\n",
       "    </tr>\n",
       "    <tr>\n",
       "      <th>pressure</th>\n",
       "      <th>level</th>\n",
       "      <th></th>\n",
       "      <th></th>\n",
       "      <th></th>\n",
       "    </tr>\n",
       "  </thead>\n",
       "  <tbody>\n",
       "    <tr>\n",
       "      <th>0.0000</th>\n",
       "      <th>1</th>\n",
       "      <td>0.011049</td>\n",
       "      <td>0.000000</td>\n",
       "      <td>0.011049</td>\n",
       "    </tr>\n",
       "    <tr>\n",
       "      <th>1.0685</th>\n",
       "      <th>24</th>\n",
       "      <td>0.011059</td>\n",
       "      <td>-0.001397</td>\n",
       "      <td>0.009661</td>\n",
       "    </tr>\n",
       "    <tr>\n",
       "      <th>1013.0000</th>\n",
       "      <th>76</th>\n",
       "      <td>0.000000</td>\n",
       "      <td>-0.109121</td>\n",
       "      <td>-0.109121</td>\n",
       "    </tr>\n",
       "  </tbody>\n",
       "</table>\n",
       "</div>"
      ],
      "text/plain": [
       "                     flug      fldg     fnetg\n",
       "pressure  level                              \n",
       "0.0000    1      0.011049  0.000000  0.011049\n",
       "1.0685    24     0.011059 -0.001397  0.009661\n",
       "1013.0000 76     0.000000 -0.109121 -0.109121"
      ]
     },
     "metadata": {},
     "output_type": "display_data"
    },
    {
     "name": "stdout",
     "output_type": "stream",
     "text": [
      "Table. Fluxes. (WGT igg=1) - (CRD)\n"
     ]
    },
    {
     "data": {
      "text/html": [
       "<a id=\"Best-fit_Parameters\"></a>"
      ],
      "text/plain": [
       "<IPython.core.display.HTML object>"
      ]
     },
     "metadata": {},
     "output_type": "display_data"
    },
    {
     "data": {
      "text/markdown": [
       "# Best-fit Parameters"
      ],
      "text/plain": [
       "<IPython.core.display.Markdown object>"
      ]
     },
     "metadata": {},
     "output_type": "display_data"
    },
    {
     "name": "stdout",
     "output_type": "stream",
     "text": [
      "Best-fit values for each (gas, band)\n",
      "------------------------------------\n",
      "o h2o band7\n",
      "  molecule = h2o\n",
      "  band = 7\n",
      "  commitnumber = 043bdfe\n",
      "  vmin = 1215\n",
      "  vmax = 1380\n",
      "  dv = 0.001\n",
      "  nv = 1000\n",
      "  ref_pts = [(600, 250)]\n",
      "  ng_refs = [7]\n",
      "  ng_adju = [0]\n",
      "  klin = 0\n",
      "  option_wgt_k = 1\n",
      "  wgt = [(0.5, 0.5, 0.5, 0.5, 0.5, 0.5, 0.9)]\n",
      "  w_diffuse = [(2, 1.6, 1.6, 1.6, 1.6, 1.6, 1.8)]\n",
      "  option_wgt_flux = 1\n",
      "  atmpro = mls\n",
      "  tsfc = 294\n",
      "  conc = None\n",
      "  option_compute_btable = 0\n",
      "  option_compute_ktable = 0\n",
      "o n2o band7\n",
      "  molecule = n2o\n",
      "  band = 7\n",
      "  commitnumber = 043bdfe\n",
      "  vmin = 1215\n",
      "  vmax = 1380\n",
      "  dv = 0.001\n",
      "  nv = 1000\n",
      "  ref_pts = [(1, 250), (500, 250)]\n",
      "  ng_refs = [2, 2]\n",
      "  ng_adju = [0, 0]\n",
      "  klin = 2.22e-20\n",
      "  option_wgt_k = 1\n",
      "  wgt = [(0.6, 0.5), (0.6, 0.9)]\n",
      "  w_diffuse = [(1.8, 1.66), (1.6, 1.8)]\n",
      "  option_wgt_flux = 1\n",
      "  atmpro = mls\n",
      "  tsfc = 294\n",
      "  conc = 3.2e-07\n",
      "  option_compute_btable = 0\n",
      "  option_compute_ktable = 0\n"
     ]
    }
   ],
   "source": [
    "script()"
   ]
  },
  {
   "cell_type": "code",
   "execution_count": 12,
   "metadata": {},
   "outputs": [
    {
     "data": {
      "text/html": [
       "<script>\n",
       "code_show=true; \n",
       "function code_toggle() {\n",
       " if (code_show){\n",
       " $('div.input').hide();\n",
       " } else {\n",
       " $('div.input').show();\n",
       " }\n",
       " code_show = !code_show\n",
       "} \n",
       "$( document ).ready(code_toggle);\n",
       "</script>\n",
       "<form action=\"javascript:code_toggle()\"><input type=\"submit\" value=\"Click here to toggle on/off the raw code.\"></form>"
      ],
      "text/plain": [
       "<IPython.core.display.HTML object>"
      ]
     },
     "execution_count": 12,
     "metadata": {},
     "output_type": "execute_result"
    }
   ],
   "source": [
    "display.HTML('''<script>\n",
    "code_show=true; \n",
    "function code_toggle() {\n",
    " if (code_show){\n",
    " $('div.input').hide();\n",
    " } else {\n",
    " $('div.input').show();\n",
    " }\n",
    " code_show = !code_show\n",
    "} \n",
    "$( document ).ready(code_toggle);\n",
    "</script>\n",
    "<form action=\"javascript:code_toggle()\"><input type=\"submit\" value=\"Click here to toggle on/off the raw code.\"></form>''')"
   ]
  }
 ],
 "metadata": {
  "kernelspec": {
   "display_name": "Python 3",
   "language": "python",
   "name": "python3"
  },
  "language_info": {
   "codemirror_mode": {
    "name": "ipython",
    "version": 3
   },
   "file_extension": ".py",
   "mimetype": "text/x-python",
   "name": "python",
   "nbconvert_exporter": "python",
   "pygments_lexer": "ipython3",
   "version": "3.6.1"
  }
 },
 "nbformat": 4,
 "nbformat_minor": 2
}
