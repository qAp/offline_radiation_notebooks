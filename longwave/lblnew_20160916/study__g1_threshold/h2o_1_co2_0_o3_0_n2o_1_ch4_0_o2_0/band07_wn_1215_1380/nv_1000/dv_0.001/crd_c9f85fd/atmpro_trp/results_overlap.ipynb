{
 "cells": [
  {
   "cell_type": "code",
   "execution_count": 1,
   "metadata": {
    "collapsed": true
   },
   "outputs": [],
   "source": [
    "%matplotlib inline\n",
    "import os\n",
    "import re\n",
    "import io\n",
    "import itertools\n",
    "import pprint\n",
    "\n",
    "from bokeh.io import output_notebook, show\n",
    "from bokeh.layouts import gridplot\n",
    "from bokeh.plotting import figure\n",
    "from bokeh.models import Range1d, Legend\n",
    "from bokeh.palettes import all_palettes\n",
    "\n",
    "import matplotlib\n",
    "import matplotlib.pyplot as plt\n",
    "import numpy as np\n",
    "import pandas as pd\n",
    "import xarray as xr\n",
    "\n",
    "import climatools.lblnew.bestfit_params as bestfits\n",
    "from climatools.lblnew import setup_bestfit, setup_overlap\n",
    "import climatools.lblnew.pipeline as pipe_lblnew\n",
    "\n",
    "import climatools.html.html as climahtml\n",
    "from climatools.lblnew.dataio import *\n",
    "from climatools.plot.plot import *\n",
    "\n",
    "\n",
    "import IPython.display as display"
   ]
  },
  {
   "cell_type": "code",
   "execution_count": 2,
   "metadata": {
    "collapsed": true
   },
   "outputs": [],
   "source": [
    "%run param.py"
   ]
  },
  {
   "cell_type": "code",
   "execution_count": 3,
   "metadata": {
    "collapsed": true
   },
   "outputs": [],
   "source": [
    "def load_output_file(path_csv):\n",
    "    '''\n",
    "    Load lblnew output .csv file to xarray.Dataset\n",
    "    \n",
    "    Parameters\n",
    "    ----------\n",
    "    path_csv: str\n",
    "              Path to the .csv file to be loaded.\n",
    "    ds: xarray.Dataset\n",
    "        Data in the input file in the form of an xarray.Dataset.\n",
    "    '''\n",
    "    toindex = ['band', 'pressure', 'igg', 'g']    \n",
    "    df = pd.read_csv(path_csv, sep=r'\\s+')\n",
    "    df = df.set_index([i for i in toindex if i in df.columns])\n",
    "    df = df.rename(columns={'sfu': 'flug',\n",
    "                            'sfd': 'fldg',\n",
    "                            'fnet': 'fnetg',\n",
    "                            'coolr': 'coolrg'})\n",
    "    ds = xr.Dataset.from_dataframe(df)\n",
    "\n",
    "    for l in ('level', 'layer'):\n",
    "        if l in ds.data_vars:\n",
    "            if len(ds[l].dims) > 1:\n",
    "                surface = {d: 0 for d in ds.dims if d != 'pressure'}\n",
    "                coord_level = ds[l][surface]\n",
    "                ds.coords[l] = ('pressure', coord_level)\n",
    "            else:\n",
    "                ds.coords[l] = ('pressure', ds[l])\n",
    "    \n",
    "    return ds"
   ]
  },
  {
   "cell_type": "code",
   "execution_count": 4,
   "metadata": {
    "collapsed": true
   },
   "outputs": [],
   "source": [
    "def lblnew_setup(param=None):\n",
    "    if 'ng_refs' in param:\n",
    "        return {'setup': setup_bestfit,\n",
    "                'fname_flux_crd': 'output_flux.dat',\n",
    "                'fname_cool_crd': 'output_coolr.dat',\n",
    "                'fname_flux_wgt': 'output_wfluxg.dat',\n",
    "                'fname_cool_wgt': 'output_wcoolrg.dat'}\n",
    "    else:\n",
    "        return {'setup': setup_overlap,\n",
    "                'fname_flux_crd': 'output_flux.dat',\n",
    "                'fname_cool_crd': 'output_coolr.dat',\n",
    "                'fname_flux_wgt': 'output_wflux.dat',\n",
    "                'fname_cool_wgt': 'output_wcoolr.dat'}\n",
    "\n",
    "    \n",
    "def load_lblnew_data(param):\n",
    "    \n",
    "    fname_dsname = [('fname_flux_crd', 'ds_flux_crd'),\n",
    "                    ('fname_cool_crd', 'ds_cool_crd'),\n",
    "                    ('fname_flux_wgt', 'ds_flux_wgt'),\n",
    "                    ('fname_cool_wgt', 'ds_cool_wgt')]\n",
    "    \n",
    "    d = lblnew_setup(param)\n",
    "    dir_fortran = pipe_lblnew.get_dir_case(param, setup=d['setup'])\n",
    "    \n",
    "    data_dict = {}\n",
    "    for fname, dsname in fname_dsname:\n",
    "        fpath = os.path.join(dir_fortran, d[fname])\n",
    "        data_dict[dsname] = load_output_file(fpath)\n",
    "    return data_dict\n",
    "    \n",
    "\n",
    "    \n",
    "    "
   ]
  },
  {
   "cell_type": "code",
   "execution_count": 5,
   "metadata": {
    "collapsed": true
   },
   "outputs": [],
   "source": [
    "d = load_lblnew_data(PARAM)\n",
    "\n",
    "DS_FLUX_CRD = d['ds_flux_crd']\n",
    "DS_COOL_CRD = d['ds_cool_crd']\n",
    "DS_FLUX_WGT = d['ds_flux_wgt']\n",
    "DS_COOL_WGT = d['ds_cool_wgt']"
   ]
  },
  {
   "cell_type": "code",
   "execution_count": 6,
   "metadata": {},
   "outputs": [
    {
     "data": {
      "text/html": [
       "\n",
       "    <div class=\"bk-root\">\n",
       "        <a href=\"https://bokeh.pydata.org\" target=\"_blank\" class=\"bk-logo bk-logo-small bk-logo-notebook\"></a>\n",
       "        <span id=\"aa266fee-33b1-46b3-a084-5bc7beea52f2\">Loading BokehJS ...</span>\n",
       "    </div>"
      ]
     },
     "metadata": {},
     "output_type": "display_data"
    },
    {
     "data": {
      "application/javascript": [
       "\n",
       "(function(root) {\n",
       "  function now() {\n",
       "    return new Date();\n",
       "  }\n",
       "\n",
       "  var force = true;\n",
       "\n",
       "  if (typeof (root._bokeh_onload_callbacks) === \"undefined\" || force === true) {\n",
       "    root._bokeh_onload_callbacks = [];\n",
       "    root._bokeh_is_loading = undefined;\n",
       "  }\n",
       "\n",
       "  var JS_MIME_TYPE = 'application/javascript';\n",
       "  var HTML_MIME_TYPE = 'text/html';\n",
       "  var EXEC_MIME_TYPE = 'application/vnd.bokehjs_exec.v0+json';\n",
       "  var CLASS_NAME = 'output_bokeh rendered_html';\n",
       "\n",
       "  /**\n",
       "   * Render data to the DOM node\n",
       "   */\n",
       "  function render(props, node) {\n",
       "    var script = document.createElement(\"script\");\n",
       "    node.appendChild(script);\n",
       "  }\n",
       "\n",
       "  /**\n",
       "   * Handle when an output is cleared or removed\n",
       "   */\n",
       "  function handleClearOutput(event, handle) {\n",
       "    var cell = handle.cell;\n",
       "\n",
       "    var id = cell.output_area._bokeh_element_id;\n",
       "    var server_id = cell.output_area._bokeh_server_id;\n",
       "    // Clean up Bokeh references\n",
       "    if (id !== undefined) {\n",
       "      Bokeh.index[id].model.document.clear();\n",
       "      delete Bokeh.index[id];\n",
       "    }\n",
       "\n",
       "    if (server_id !== undefined) {\n",
       "      // Clean up Bokeh references\n",
       "      var cmd = \"from bokeh.io.state import curstate; print(curstate().uuid_to_server['\" + server_id + \"'].get_sessions()[0].document.roots[0]._id)\";\n",
       "      cell.notebook.kernel.execute(cmd, {\n",
       "        iopub: {\n",
       "          output: function(msg) {\n",
       "            var element_id = msg.content.text.trim();\n",
       "            Bokeh.index[element_id].model.document.clear();\n",
       "            delete Bokeh.index[element_id];\n",
       "          }\n",
       "        }\n",
       "      });\n",
       "      // Destroy server and session\n",
       "      var cmd = \"import bokeh.io.notebook as ion; ion.destroy_server('\" + server_id + \"')\";\n",
       "      cell.notebook.kernel.execute(cmd);\n",
       "    }\n",
       "  }\n",
       "\n",
       "  /**\n",
       "   * Handle when a new output is added\n",
       "   */\n",
       "  function handleAddOutput(event, handle) {\n",
       "    var output_area = handle.output_area;\n",
       "    var output = handle.output;\n",
       "\n",
       "    // limit handleAddOutput to display_data with EXEC_MIME_TYPE content only\n",
       "    if ((output.output_type != \"display_data\") || (!output.data.hasOwnProperty(EXEC_MIME_TYPE))) {\n",
       "      return\n",
       "    }\n",
       "\n",
       "    var toinsert = output_area.element.find(\".\" + CLASS_NAME.split(' ')[0]);\n",
       "\n",
       "    if (output.metadata[EXEC_MIME_TYPE][\"id\"] !== undefined) {\n",
       "      toinsert[0].firstChild.textContent = output.data[JS_MIME_TYPE];\n",
       "      // store reference to embed id on output_area\n",
       "      output_area._bokeh_element_id = output.metadata[EXEC_MIME_TYPE][\"id\"];\n",
       "    }\n",
       "    if (output.metadata[EXEC_MIME_TYPE][\"server_id\"] !== undefined) {\n",
       "      var bk_div = document.createElement(\"div\");\n",
       "      bk_div.innerHTML = output.data[HTML_MIME_TYPE];\n",
       "      var script_attrs = bk_div.children[0].attributes;\n",
       "      for (var i = 0; i < script_attrs.length; i++) {\n",
       "        toinsert[0].firstChild.setAttribute(script_attrs[i].name, script_attrs[i].value);\n",
       "      }\n",
       "      // store reference to server id on output_area\n",
       "      output_area._bokeh_server_id = output.metadata[EXEC_MIME_TYPE][\"server_id\"];\n",
       "    }\n",
       "  }\n",
       "\n",
       "  function register_renderer(events, OutputArea) {\n",
       "\n",
       "    function append_mime(data, metadata, element) {\n",
       "      // create a DOM node to render to\n",
       "      var toinsert = this.create_output_subarea(\n",
       "        metadata,\n",
       "        CLASS_NAME,\n",
       "        EXEC_MIME_TYPE\n",
       "      );\n",
       "      this.keyboard_manager.register_events(toinsert);\n",
       "      // Render to node\n",
       "      var props = {data: data, metadata: metadata[EXEC_MIME_TYPE]};\n",
       "      render(props, toinsert[0]);\n",
       "      element.append(toinsert);\n",
       "      return toinsert\n",
       "    }\n",
       "\n",
       "    /* Handle when an output is cleared or removed */\n",
       "    events.on('clear_output.CodeCell', handleClearOutput);\n",
       "    events.on('delete.Cell', handleClearOutput);\n",
       "\n",
       "    /* Handle when a new output is added */\n",
       "    events.on('output_added.OutputArea', handleAddOutput);\n",
       "\n",
       "    /**\n",
       "     * Register the mime type and append_mime function with output_area\n",
       "     */\n",
       "    OutputArea.prototype.register_mime_type(EXEC_MIME_TYPE, append_mime, {\n",
       "      /* Is output safe? */\n",
       "      safe: true,\n",
       "      /* Index of renderer in `output_area.display_order` */\n",
       "      index: 0\n",
       "    });\n",
       "  }\n",
       "\n",
       "  // register the mime type if in Jupyter Notebook environment and previously unregistered\n",
       "  if (root.Jupyter !== undefined) {\n",
       "    var events = require('base/js/events');\n",
       "    var OutputArea = require('notebook/js/outputarea').OutputArea;\n",
       "\n",
       "    if (OutputArea.prototype.mime_types().indexOf(EXEC_MIME_TYPE) == -1) {\n",
       "      register_renderer(events, OutputArea);\n",
       "    }\n",
       "  }\n",
       "\n",
       "  \n",
       "  if (typeof (root._bokeh_timeout) === \"undefined\" || force === true) {\n",
       "    root._bokeh_timeout = Date.now() + 5000;\n",
       "    root._bokeh_failed_load = false;\n",
       "  }\n",
       "\n",
       "  var NB_LOAD_WARNING = {'data': {'text/html':\n",
       "     \"<div style='background-color: #fdd'>\\n\"+\n",
       "     \"<p>\\n\"+\n",
       "     \"BokehJS does not appear to have successfully loaded. If loading BokehJS from CDN, this \\n\"+\n",
       "     \"may be due to a slow or bad network connection. Possible fixes:\\n\"+\n",
       "     \"</p>\\n\"+\n",
       "     \"<ul>\\n\"+\n",
       "     \"<li>re-rerun `output_notebook()` to attempt to load from CDN again, or</li>\\n\"+\n",
       "     \"<li>use INLINE resources instead, as so:</li>\\n\"+\n",
       "     \"</ul>\\n\"+\n",
       "     \"<code>\\n\"+\n",
       "     \"from bokeh.resources import INLINE\\n\"+\n",
       "     \"output_notebook(resources=INLINE)\\n\"+\n",
       "     \"</code>\\n\"+\n",
       "     \"</div>\"}};\n",
       "\n",
       "  function display_loaded() {\n",
       "    var el = document.getElementById(\"aa266fee-33b1-46b3-a084-5bc7beea52f2\");\n",
       "    if (el != null) {\n",
       "      el.textContent = \"BokehJS is loading...\";\n",
       "    }\n",
       "    if (root.Bokeh !== undefined) {\n",
       "      if (el != null) {\n",
       "        el.textContent = \"BokehJS \" + root.Bokeh.version + \" successfully loaded.\";\n",
       "      }\n",
       "    } else if (Date.now() < root._bokeh_timeout) {\n",
       "      setTimeout(display_loaded, 100)\n",
       "    }\n",
       "  }\n",
       "\n",
       "\n",
       "  function run_callbacks() {\n",
       "    try {\n",
       "      root._bokeh_onload_callbacks.forEach(function(callback) { callback() });\n",
       "    }\n",
       "    finally {\n",
       "      delete root._bokeh_onload_callbacks\n",
       "    }\n",
       "    console.info(\"Bokeh: all callbacks have finished\");\n",
       "  }\n",
       "\n",
       "  function load_libs(js_urls, callback) {\n",
       "    root._bokeh_onload_callbacks.push(callback);\n",
       "    if (root._bokeh_is_loading > 0) {\n",
       "      console.log(\"Bokeh: BokehJS is being loaded, scheduling callback at\", now());\n",
       "      return null;\n",
       "    }\n",
       "    if (js_urls == null || js_urls.length === 0) {\n",
       "      run_callbacks();\n",
       "      return null;\n",
       "    }\n",
       "    console.log(\"Bokeh: BokehJS not loaded, scheduling load and callback at\", now());\n",
       "    root._bokeh_is_loading = js_urls.length;\n",
       "    for (var i = 0; i < js_urls.length; i++) {\n",
       "      var url = js_urls[i];\n",
       "      var s = document.createElement('script');\n",
       "      s.src = url;\n",
       "      s.async = false;\n",
       "      s.onreadystatechange = s.onload = function() {\n",
       "        root._bokeh_is_loading--;\n",
       "        if (root._bokeh_is_loading === 0) {\n",
       "          console.log(\"Bokeh: all BokehJS libraries loaded\");\n",
       "          run_callbacks()\n",
       "        }\n",
       "      };\n",
       "      s.onerror = function() {\n",
       "        console.warn(\"failed to load library \" + url);\n",
       "      };\n",
       "      console.log(\"Bokeh: injecting script tag for BokehJS library: \", url);\n",
       "      document.getElementsByTagName(\"head\")[0].appendChild(s);\n",
       "    }\n",
       "  };var element = document.getElementById(\"aa266fee-33b1-46b3-a084-5bc7beea52f2\");\n",
       "  if (element == null) {\n",
       "    console.log(\"Bokeh: ERROR: autoload.js configured with elementid 'aa266fee-33b1-46b3-a084-5bc7beea52f2' but no matching script tag was found. \")\n",
       "    return false;\n",
       "  }\n",
       "\n",
       "  var js_urls = [\"https://cdn.pydata.org/bokeh/release/bokeh-0.12.14.min.js\", \"https://cdn.pydata.org/bokeh/release/bokeh-widgets-0.12.14.min.js\", \"https://cdn.pydata.org/bokeh/release/bokeh-tables-0.12.14.min.js\", \"https://cdn.pydata.org/bokeh/release/bokeh-gl-0.12.14.min.js\"];\n",
       "\n",
       "  var inline_js = [\n",
       "    function(Bokeh) {\n",
       "      Bokeh.set_log_level(\"info\");\n",
       "    },\n",
       "    \n",
       "    function(Bokeh) {\n",
       "      \n",
       "    },\n",
       "    function(Bokeh) {\n",
       "      console.log(\"Bokeh: injecting CSS: https://cdn.pydata.org/bokeh/release/bokeh-0.12.14.min.css\");\n",
       "      Bokeh.embed.inject_css(\"https://cdn.pydata.org/bokeh/release/bokeh-0.12.14.min.css\");\n",
       "      console.log(\"Bokeh: injecting CSS: https://cdn.pydata.org/bokeh/release/bokeh-widgets-0.12.14.min.css\");\n",
       "      Bokeh.embed.inject_css(\"https://cdn.pydata.org/bokeh/release/bokeh-widgets-0.12.14.min.css\");\n",
       "      console.log(\"Bokeh: injecting CSS: https://cdn.pydata.org/bokeh/release/bokeh-tables-0.12.14.min.css\");\n",
       "      Bokeh.embed.inject_css(\"https://cdn.pydata.org/bokeh/release/bokeh-tables-0.12.14.min.css\");\n",
       "    }\n",
       "  ];\n",
       "\n",
       "  function run_inline_js() {\n",
       "    \n",
       "    if ((root.Bokeh !== undefined) || (force === true)) {\n",
       "      for (var i = 0; i < inline_js.length; i++) {\n",
       "        inline_js[i].call(root, root.Bokeh);\n",
       "      }if (force === true) {\n",
       "        display_loaded();\n",
       "      }} else if (Date.now() < root._bokeh_timeout) {\n",
       "      setTimeout(run_inline_js, 100);\n",
       "    } else if (!root._bokeh_failed_load) {\n",
       "      console.log(\"Bokeh: BokehJS failed to load within specified timeout.\");\n",
       "      root._bokeh_failed_load = true;\n",
       "    } else if (force !== true) {\n",
       "      var cell = $(document.getElementById(\"aa266fee-33b1-46b3-a084-5bc7beea52f2\")).parents('.cell').data().cell;\n",
       "      cell.output_area.append_execute_result(NB_LOAD_WARNING)\n",
       "    }\n",
       "\n",
       "  }\n",
       "\n",
       "  if (root._bokeh_is_loading === 0) {\n",
       "    console.log(\"Bokeh: BokehJS loaded, going straight to plotting\");\n",
       "    run_inline_js();\n",
       "  } else {\n",
       "    load_libs(js_urls, function() {\n",
       "      console.log(\"Bokeh: BokehJS plotting callback run at\", now());\n",
       "      run_inline_js();\n",
       "    });\n",
       "  }\n",
       "}(window));"
      ],
      "application/vnd.bokehjs_load.v0+json": "\n(function(root) {\n  function now() {\n    return new Date();\n  }\n\n  var force = true;\n\n  if (typeof (root._bokeh_onload_callbacks) === \"undefined\" || force === true) {\n    root._bokeh_onload_callbacks = [];\n    root._bokeh_is_loading = undefined;\n  }\n\n  \n\n  \n  if (typeof (root._bokeh_timeout) === \"undefined\" || force === true) {\n    root._bokeh_timeout = Date.now() + 5000;\n    root._bokeh_failed_load = false;\n  }\n\n  var NB_LOAD_WARNING = {'data': {'text/html':\n     \"<div style='background-color: #fdd'>\\n\"+\n     \"<p>\\n\"+\n     \"BokehJS does not appear to have successfully loaded. If loading BokehJS from CDN, this \\n\"+\n     \"may be due to a slow or bad network connection. Possible fixes:\\n\"+\n     \"</p>\\n\"+\n     \"<ul>\\n\"+\n     \"<li>re-rerun `output_notebook()` to attempt to load from CDN again, or</li>\\n\"+\n     \"<li>use INLINE resources instead, as so:</li>\\n\"+\n     \"</ul>\\n\"+\n     \"<code>\\n\"+\n     \"from bokeh.resources import INLINE\\n\"+\n     \"output_notebook(resources=INLINE)\\n\"+\n     \"</code>\\n\"+\n     \"</div>\"}};\n\n  function display_loaded() {\n    var el = document.getElementById(\"aa266fee-33b1-46b3-a084-5bc7beea52f2\");\n    if (el != null) {\n      el.textContent = \"BokehJS is loading...\";\n    }\n    if (root.Bokeh !== undefined) {\n      if (el != null) {\n        el.textContent = \"BokehJS \" + root.Bokeh.version + \" successfully loaded.\";\n      }\n    } else if (Date.now() < root._bokeh_timeout) {\n      setTimeout(display_loaded, 100)\n    }\n  }\n\n\n  function run_callbacks() {\n    try {\n      root._bokeh_onload_callbacks.forEach(function(callback) { callback() });\n    }\n    finally {\n      delete root._bokeh_onload_callbacks\n    }\n    console.info(\"Bokeh: all callbacks have finished\");\n  }\n\n  function load_libs(js_urls, callback) {\n    root._bokeh_onload_callbacks.push(callback);\n    if (root._bokeh_is_loading > 0) {\n      console.log(\"Bokeh: BokehJS is being loaded, scheduling callback at\", now());\n      return null;\n    }\n    if (js_urls == null || js_urls.length === 0) {\n      run_callbacks();\n      return null;\n    }\n    console.log(\"Bokeh: BokehJS not loaded, scheduling load and callback at\", now());\n    root._bokeh_is_loading = js_urls.length;\n    for (var i = 0; i < js_urls.length; i++) {\n      var url = js_urls[i];\n      var s = document.createElement('script');\n      s.src = url;\n      s.async = false;\n      s.onreadystatechange = s.onload = function() {\n        root._bokeh_is_loading--;\n        if (root._bokeh_is_loading === 0) {\n          console.log(\"Bokeh: all BokehJS libraries loaded\");\n          run_callbacks()\n        }\n      };\n      s.onerror = function() {\n        console.warn(\"failed to load library \" + url);\n      };\n      console.log(\"Bokeh: injecting script tag for BokehJS library: \", url);\n      document.getElementsByTagName(\"head\")[0].appendChild(s);\n    }\n  };var element = document.getElementById(\"aa266fee-33b1-46b3-a084-5bc7beea52f2\");\n  if (element == null) {\n    console.log(\"Bokeh: ERROR: autoload.js configured with elementid 'aa266fee-33b1-46b3-a084-5bc7beea52f2' but no matching script tag was found. \")\n    return false;\n  }\n\n  var js_urls = [\"https://cdn.pydata.org/bokeh/release/bokeh-0.12.14.min.js\", \"https://cdn.pydata.org/bokeh/release/bokeh-widgets-0.12.14.min.js\", \"https://cdn.pydata.org/bokeh/release/bokeh-tables-0.12.14.min.js\", \"https://cdn.pydata.org/bokeh/release/bokeh-gl-0.12.14.min.js\"];\n\n  var inline_js = [\n    function(Bokeh) {\n      Bokeh.set_log_level(\"info\");\n    },\n    \n    function(Bokeh) {\n      \n    },\n    function(Bokeh) {\n      console.log(\"Bokeh: injecting CSS: https://cdn.pydata.org/bokeh/release/bokeh-0.12.14.min.css\");\n      Bokeh.embed.inject_css(\"https://cdn.pydata.org/bokeh/release/bokeh-0.12.14.min.css\");\n      console.log(\"Bokeh: injecting CSS: https://cdn.pydata.org/bokeh/release/bokeh-widgets-0.12.14.min.css\");\n      Bokeh.embed.inject_css(\"https://cdn.pydata.org/bokeh/release/bokeh-widgets-0.12.14.min.css\");\n      console.log(\"Bokeh: injecting CSS: https://cdn.pydata.org/bokeh/release/bokeh-tables-0.12.14.min.css\");\n      Bokeh.embed.inject_css(\"https://cdn.pydata.org/bokeh/release/bokeh-tables-0.12.14.min.css\");\n    }\n  ];\n\n  function run_inline_js() {\n    \n    if ((root.Bokeh !== undefined) || (force === true)) {\n      for (var i = 0; i < inline_js.length; i++) {\n        inline_js[i].call(root, root.Bokeh);\n      }if (force === true) {\n        display_loaded();\n      }} else if (Date.now() < root._bokeh_timeout) {\n      setTimeout(run_inline_js, 100);\n    } else if (!root._bokeh_failed_load) {\n      console.log(\"Bokeh: BokehJS failed to load within specified timeout.\");\n      root._bokeh_failed_load = true;\n    } else if (force !== true) {\n      var cell = $(document.getElementById(\"aa266fee-33b1-46b3-a084-5bc7beea52f2\")).parents('.cell').data().cell;\n      cell.output_area.append_execute_result(NB_LOAD_WARNING)\n    }\n\n  }\n\n  if (root._bokeh_is_loading === 0) {\n    console.log(\"Bokeh: BokehJS loaded, going straight to plotting\");\n    run_inline_js();\n  } else {\n    load_libs(js_urls, function() {\n      console.log(\"Bokeh: BokehJS plotting callback run at\", now());\n      run_inline_js();\n    });\n  }\n}(window));"
     },
     "metadata": {},
     "output_type": "display_data"
    }
   ],
   "source": [
    "output_notebook()"
   ]
  },
  {
   "cell_type": "code",
   "execution_count": 7,
   "metadata": {
    "collapsed": true
   },
   "outputs": [],
   "source": [
    "def fmt_cool(ds_in):\n",
    "    ds = ds_in.copy(deep=True)\n",
    "    if 'igg' in ds.dims:\n",
    "        ds = ds.sel(igg=1)\n",
    "\n",
    "    if 'g' in ds.dims:\n",
    "        ds = ds.sum('g')\n",
    "            \n",
    "    if 'band' in ds.dims:\n",
    "        try:\n",
    "            ds = ds.squeeze('band')\n",
    "        except ValueError:\n",
    "            ds = ds.sum('band')\n",
    "                \n",
    "    return ds['coolrg']\n",
    "\n",
    "\n",
    "def pltdata_cooling_1(ds_cool_crd=None, ds_cool_wgt=None):\n",
    "    \n",
    "\n",
    "\n",
    "    colors = all_palettes['Set1'][4]\n",
    "    data = [{'label': 'CRD',\n",
    "             'srs': fmt_cool(ds_cool_crd),\n",
    "             'line_dash': 'solid', 'line_width': 1.5,\n",
    "             'marker': 'circle', 'marker_size': 5,\n",
    "             'color': colors[2], 'alpha': 1,},\n",
    "            {'label': 'WGT igg=10',\n",
    "             'srs': fmt_cool(ds_cool_wgt.sel(igg=10)),\n",
    "             'line_dash': 'solid', 'line_width': 3,\n",
    "             'marker': 'square', 'marker_size': 5,\n",
    "             'color': colors[3], 'alpha': .6},\n",
    "            {'label': 'WGT igg=1',\n",
    "             'srs': fmt_cool(ds_cool_wgt.sel(igg=1)),\n",
    "             'line_dash': 'dotdash', 'line_width': 3,\n",
    "             'marker': 'inverted_triangle', 'marker_size': 5,\n",
    "             'color': colors[1], 'alpha': .6}\n",
    "           ]\n",
    "    return data\n",
    "\n",
    "\n",
    "def nice_xlims(pltdata=None, prange=None):\n",
    "    \n",
    "    def get_slice(srs):\n",
    "        return srs.sel(pressure=slice(*prange))\n",
    "    \n",
    "    srss = [d['srs'] for d in pltdata]\n",
    "    vmin = min([get_slice(srs).min() for srs in srss])\n",
    "    vmax = max([get_slice(srs).max() for srs in srss])\n",
    "    dv = (vmax - vmin) * .01\n",
    "    return float(vmin - dv), float(vmax + dv)\n",
    "    \n",
    "\n",
    "def plt_cooling_bokeh(pltdata=None):\n",
    "    '''\n",
    "    Plot a list of cooling rate profiles using bokeh.\n",
    "    '''\n",
    "    ymin = 1e-2 \n",
    "    ymax = 1020 \n",
    "        \n",
    "    p1 = figure(title=\"Linear pressure scale\", \n",
    "                plot_width=400)        \n",
    "    xmin, xmax = nice_xlims(pltdata, prange=(50, 1050))\n",
    "    for d in pltdata:\n",
    "        if 'marker' in d:\n",
    "            getattr(p1, d['marker'])(d['srs'].values, \n",
    "                    d['srs'].coords['pressure'].values,\n",
    "                    color=d['color'], alpha=.7)\n",
    "        p1.line(d['srs'].values, \n",
    "                d['srs'].coords['pressure'].values,\n",
    "                color=d['color'], alpha=d['alpha'], \n",
    "                line_width=d['line_width'], line_dash=d['line_dash'])\n",
    "    \n",
    "    p1.y_range = Range1d(ymax, ymin)\n",
    "    p1.yaxis.axis_label = 'pressure [mb]'   \n",
    "    p1.x_range = Range1d(xmin, xmax)\n",
    "    p1.xaxis.axis_label = 'cooling rate [K/day]'\n",
    "            \n",
    "    p2 = figure(title='Log pressure scale', y_axis_type='log',\n",
    "                plot_width=560)\n",
    "    xmin, xmax = nice_xlims(pltdata, prange=(.01, 200))\n",
    "    \n",
    "    rs = []\n",
    "    for d in pltdata:\n",
    "        rd = []\n",
    "        if 'marker' in d:\n",
    "            r_mark = getattr(p2, d['marker'])(d['srs'].values, \n",
    "                        d['srs'].coords['pressure'].values,\n",
    "                        color=d['color'], alpha=.7)\n",
    "            rd.append(r_mark)\n",
    "        r_line = p2.line(d['srs'].values, \n",
    "                    d['srs'].coords['pressure'].values,\n",
    "                    color=d['color'], alpha=d['alpha'], \n",
    "                    line_width=d['line_width'], line_dash=d['line_dash'])\n",
    "        rd.append(r_line)\n",
    "      \n",
    "        rs.append(rd)\n",
    "        \n",
    "    p2.y_range = Range1d(ymax, ymin)  \n",
    "    p2.yaxis.axis_label = 'pressure [mb]'\n",
    "    \n",
    "    p2.x_range = Range1d(xmin, xmax)\n",
    "    p2.xaxis.axis_label = 'cooling rate [K/day]'\n",
    "    \n",
    "    items = [(d['label'], r) for r, d in zip(rs, pltdata)]\n",
    "    legend = Legend(items=items, location=(10, -30))\n",
    "    legend.label_text_font_size = '8pt'\n",
    "    \n",
    "    p2.add_layout(legend, 'right')  \n",
    "    \n",
    "    show(gridplot(p1, p2, ncols=2, plot_height=500))\n",
    "    \n",
    "\n",
    "def script_plt_cooling():\n",
    "    pltdata = pltdata_cooling_1(\n",
    "        ds_cool_crd=DS_COOL_CRD,\n",
    "        ds_cool_wgt=DS_COOL_WGT)\n",
    "    plt_cooling_bokeh(pltdata=pltdata)\n",
    "    print('''FIGURE. Cooling rate profiles.''')"
   ]
  },
  {
   "cell_type": "code",
   "execution_count": 8,
   "metadata": {
    "collapsed": true
   },
   "outputs": [],
   "source": [
    "def fmt_flux(ds_in):\n",
    "    ds = ds_in.copy(deep=True)\n",
    "    \n",
    "    for l in ('level', 'layer'):\n",
    "        if l in ds.data_vars:\n",
    "            if len(ds[l].dims) > 1:\n",
    "                surface = {d: 0 for d in ds.dims if d != 'pressure'}\n",
    "                coord_level = ds[l][surface]\n",
    "                ds.coords[l] = ('pressure', coord_level)\n",
    "            else:\n",
    "                ds.coords[l] = ('pressure', ds[l])\n",
    "        \n",
    "    ds = ds.isel(pressure=[0, 23, -1])\n",
    "    \n",
    "    if 'igg' in ds.dims:\n",
    "        if ds.dims['igg'] > 1:\n",
    "            print('Select an igg value to view in table.')\n",
    "            raise ValueError\n",
    "        else:\n",
    "            ds = ds.squeeze('igg').drop('igg')\n",
    "    else:\n",
    "        if 'igg' in ds.coords:\n",
    "            ds = ds.drop('igg')\n",
    "\n",
    "    if 'g' in ds.dims:\n",
    "        ds = ds.sum('g')\n",
    "            \n",
    "    if 'band' in ds.dims:\n",
    "        try:\n",
    "            ds = ds.squeeze('band').drop('band')\n",
    "        except ValueError:\n",
    "            ds = ds.sum('band')\n",
    "                \n",
    "    df = ds.to_dataframe()\n",
    "    df = df.set_index('level', append=True)               \n",
    "    return df\n",
    "\n",
    "\n",
    "def tbdata_flux(ds_flux_crd=None, ds_flux_wgt=None):\n",
    "    ilevels = [0, 23, -1]\n",
    "            \n",
    "    benchmark = {'label': 'CRD',\n",
    "                 'df': fmt_flux(ds_flux_crd)}\n",
    "    tbs = [{'label': 'WGT igg=10',\n",
    "            'df': fmt_flux(ds_flux_wgt.sel(igg=10))},\n",
    "           {'label': 'WGT igg=1',\n",
    "            'df': fmt_flux(ds_flux_wgt.sel(igg=1))}]\n",
    "    \n",
    "    data = {'benchmark': benchmark, 'others': tbs}\n",
    "    return data\n",
    "\n",
    "\n",
    "def tb_flux(tbdata=None):\n",
    "    benchmark = tbdata['benchmark']\n",
    "    others = tbdata['others']\n",
    "    \n",
    "    def show_tb(d=None):\n",
    "        display.display(d['df'])\n",
    "        print('Table.', 'Fluxes.', d['label'])\n",
    "        \n",
    "    def show_tbdiff(d0=None, d=None):\n",
    "        df = d['df']\n",
    "        df.index = d0['df'].index\n",
    "        display.display(df - d0['df'])\n",
    "        print('Table.', 'Fluxes.', \n",
    "              '({}) - ({})'.format(d['label'], d0['label']))\n",
    "        \n",
    "    show_tb(benchmark)\n",
    "    for d in others:\n",
    "        show_tb(d)\n",
    "        \n",
    "    for d in others:\n",
    "        show_tbdiff(d=d, d0=benchmark)\n",
    "        \n",
    "        \n",
    "def script_tb_flux():\n",
    "    data = tbdata_flux(ds_flux_crd=DS_FLUX_CRD,\n",
    "                       ds_flux_wgt=DS_FLUX_WGT)\n",
    "    tb_flux(tbdata=data)"
   ]
  },
  {
   "cell_type": "code",
   "execution_count": 9,
   "metadata": {
    "collapsed": true
   },
   "outputs": [],
   "source": [
    "def band_map():\n",
    "    '''\n",
    "    Maps spectral bands in lblnew to spectral bands in clirad.\n",
    "    '''\n",
    "    lblnew2clirad = {'1': '1',\n",
    "            '2': '2',\n",
    "            '3a': '3',\n",
    "            '3b': '4',\n",
    "            '3c': '5',\n",
    "            '4': '6', \n",
    "            '5': '7',\n",
    "            '6': '8',\n",
    "            '7': '9', \n",
    "            '8': '10',\n",
    "            '9': '11'}\n",
    "    \n",
    "    clirad2lblnew = {clirad: lblnew \n",
    "                     for lblnew, clirad in lblnew2clirad.items()}\n",
    "    return clirad2lblnew\n",
    "\n",
    "\n",
    "def gasbands():\n",
    "    bmap = band_map()\n",
    "    gases = list(PARAM['molecule'].keys())\n",
    "    \n",
    "    bands = [str(b) for b in PARAM['band']]\n",
    "    return list(itertools.product(gases, bands))\n",
    "\n",
    "\n",
    "def print_bestfit_params():\n",
    "    print('Best-fit values for each (gas, band)')\n",
    "    print('------------------------------------')\n",
    "    for gas, band in gasbands():\n",
    "        print('o {} band{}'.format(gas, band))\n",
    "        param = bestfits.kdist_params(molecule=gas, band=band)\n",
    "        for name, value in param.items():\n",
    "            print(2 * ' ' + '{} = {}'.format(name, value))\n",
    "\n",
    "        \n",
    "def print_input_param():        \n",
    "    for name, value in PARAM.items():\n",
    "        print('{} = {}'.format(name, value))\n"
   ]
  },
  {
   "cell_type": "code",
   "execution_count": 10,
   "metadata": {
    "collapsed": true,
    "scrolled": false
   },
   "outputs": [],
   "source": [
    "def show_html(s):\n",
    "    display.display(display.HTML(s))\n",
    "\n",
    "    \n",
    "def show_markdown(s):\n",
    "    display.display(display.Markdown(s))\n",
    "\n",
    "    \n",
    "def script():\n",
    "    \n",
    "    title = '### LBLNEW-OVERLAP'\n",
    "    s_input = 'Input Parameters'\n",
    "    s_bestfits = 'Best-fit Parameters'\n",
    "    s_plt_cooling = 'Cooling Rate Profiles'\n",
    "    s_tb_flux = 'Flux Comparison'\n",
    "    \n",
    "    # title\n",
    "    show_markdown(title)\n",
    "    \n",
    "    # TOC\n",
    "    show_markdown('### Table of Contents')\n",
    "    show_html(climahtml.getHTML_hrefanchor(s_input))\n",
    "    show_html(climahtml.getHTML_hrefanchor(s_plt_cooling))\n",
    "    show_html(climahtml.getHTML_hrefanchor(s_tb_flux))\n",
    "    show_html(climahtml.getHTML_hrefanchor(s_bestfits))\n",
    "    \n",
    "    # Input parameters\n",
    "    show_html(climahtml.getHTML_idanchor(s_input))\n",
    "    show_markdown(climahtml.getMarkdown_sectitle(s_input))\n",
    "    print_input_param()\n",
    "    \n",
    "    # Cooling rate profiles\n",
    "    show_html(climahtml.getHTML_idanchor(s_plt_cooling))\n",
    "    show_markdown(climahtml.getMarkdown_sectitle(s_plt_cooling))\n",
    "    script_plt_cooling()\n",
    "    \n",
    "    # Flux comparison\n",
    "    show_html(climahtml.getHTML_idanchor(s_tb_flux))\n",
    "    show_markdown(climahtml.getMarkdown_sectitle(s_tb_flux))\n",
    "    script_tb_flux()\n",
    "    \n",
    "    # Best-fit values\n",
    "    show_html(climahtml.getHTML_idanchor(s_bestfits))\n",
    "    show_markdown(climahtml.getMarkdown_sectitle(s_bestfits))\n",
    "    print_bestfit_params()\n",
    "   \n",
    "    "
   ]
  },
  {
   "cell_type": "code",
   "execution_count": 11,
   "metadata": {
    "scrolled": false
   },
   "outputs": [
    {
     "data": {
      "text/markdown": [
       "### LBLNEW-OVERLAP"
      ],
      "text/plain": [
       "<IPython.core.display.Markdown object>"
      ]
     },
     "metadata": {},
     "output_type": "display_data"
    },
    {
     "data": {
      "text/markdown": [
       "### Table of Contents"
      ],
      "text/plain": [
       "<IPython.core.display.Markdown object>"
      ]
     },
     "metadata": {},
     "output_type": "display_data"
    },
    {
     "data": {
      "text/html": [
       "<a href=\"#Input_Parameters\">Input Parameters</a>"
      ],
      "text/plain": [
       "<IPython.core.display.HTML object>"
      ]
     },
     "metadata": {},
     "output_type": "display_data"
    },
    {
     "data": {
      "text/html": [
       "<a href=\"#Cooling_Rate_Profiles\">Cooling Rate Profiles</a>"
      ],
      "text/plain": [
       "<IPython.core.display.HTML object>"
      ]
     },
     "metadata": {},
     "output_type": "display_data"
    },
    {
     "data": {
      "text/html": [
       "<a href=\"#Flux_Comparison\">Flux Comparison</a>"
      ],
      "text/plain": [
       "<IPython.core.display.HTML object>"
      ]
     },
     "metadata": {},
     "output_type": "display_data"
    },
    {
     "data": {
      "text/html": [
       "<a href=\"#Best-fit_Parameters\">Best-fit Parameters</a>"
      ],
      "text/plain": [
       "<IPython.core.display.HTML object>"
      ]
     },
     "metadata": {},
     "output_type": "display_data"
    },
    {
     "data": {
      "text/html": [
       "<a id=\"Input_Parameters\"></a>"
      ],
      "text/plain": [
       "<IPython.core.display.HTML object>"
      ]
     },
     "metadata": {},
     "output_type": "display_data"
    },
    {
     "data": {
      "text/markdown": [
       "# Input Parameters"
      ],
      "text/plain": [
       "<IPython.core.display.Markdown object>"
      ]
     },
     "metadata": {},
     "output_type": "display_data"
    },
    {
     "name": "stdout",
     "output_type": "stream",
     "text": [
      "commitnumber = c9f85fd\n",
      "molecule = {'h2o': 'atmpro', 'n2o': 3.2e-07}\n",
      "band = 7\n",
      "nv = 1000\n",
      "dv = 0.001\n",
      "atmpro = trp\n",
      "tsfc = 300\n"
     ]
    },
    {
     "data": {
      "text/html": [
       "<a id=\"Cooling_Rate_Profiles\"></a>"
      ],
      "text/plain": [
       "<IPython.core.display.HTML object>"
      ]
     },
     "metadata": {},
     "output_type": "display_data"
    },
    {
     "data": {
      "text/markdown": [
       "# Cooling Rate Profiles"
      ],
      "text/plain": [
       "<IPython.core.display.Markdown object>"
      ]
     },
     "metadata": {},
     "output_type": "display_data"
    },
    {
     "data": {
      "text/html": [
       "\n",
       "<div class=\"bk-root\">\n",
       "    <div class=\"bk-plotdiv\" id=\"40465bc8-27dd-42cf-bf30-6bdcec73e9e4\"></div>\n",
       "</div>"
      ]
     },
     "metadata": {},
     "output_type": "display_data"
    },
    {
     "data": {
      "application/javascript": [
       "(function(root) {\n",
       "  function embed_document(root) {\n",
       "    \n",
       "  var docs_json = {\"50f2df2f-7a3a-4fa9-ba9f-bbaa273b91f8\":{\"roots\":{\"references\":[{\"attributes\":{\"children\":[{\"id\":\"1b96ef56-017d-4167-a282-57dd117d36e9\",\"subtype\":\"Figure\",\"type\":\"Plot\"},{\"id\":\"22661be4-2088-4fe9-9ac9-ed6917925847\",\"subtype\":\"Figure\",\"type\":\"Plot\"}]},\"id\":\"3ef473c0-6cd0-4435-ab64-2b0d1d3fb0fc\",\"type\":\"Row\"},{\"attributes\":{\"source\":{\"id\":\"7b22eeba-18b7-4767-a97c-ca135845ccde\",\"type\":\"ColumnDataSource\"}},\"id\":\"b7ab9d63-7716-4328-ab37-86b73f591b93\",\"type\":\"CDSView\"},{\"attributes\":{\"data_source\":{\"id\":\"8dba8af1-8dc4-4e3c-a47a-5eadd3d62cad\",\"type\":\"ColumnDataSource\"},\"glyph\":{\"id\":\"31d5c063-31ea-4e0c-bdbe-113b5a2d7c68\",\"type\":\"InvertedTriangle\"},\"hover_glyph\":null,\"muted_glyph\":null,\"nonselection_glyph\":{\"id\":\"1cb23fde-a1d0-48e3-9c72-32b111b84f95\",\"type\":\"InvertedTriangle\"},\"selection_glyph\":null,\"view\":{\"id\":\"d858da07-8149-4351-8e55-b853aee93feb\",\"type\":\"CDSView\"}},\"id\":\"c1554412-fa34-400b-b0fa-a6c9f9131e51\",\"type\":\"GlyphRenderer\"},{\"attributes\":{\"callback\":null,\"end\":0.11086997309999999,\"start\":-0.029549663099999998},\"id\":\"cd868bde-7f98-47b7-8987-a9c6fb519503\",\"type\":\"Range1d\"},{\"attributes\":{\"line_alpha\":0.6,\"line_color\":\"#377eb8\",\"line_dash\":[2,4,6,4],\"line_width\":3,\"x\":{\"field\":\"x\"},\"y\":{\"field\":\"y\"}},\"id\":\"8e65a5e4-0bcb-40e8-a792-772d0d2cdee0\",\"type\":\"Line\"},{\"attributes\":{\"data_source\":{\"id\":\"386f10cb-e13a-4fb2-94be-edaf103e0d24\",\"type\":\"ColumnDataSource\"},\"glyph\":{\"id\":\"8e65a5e4-0bcb-40e8-a792-772d0d2cdee0\",\"type\":\"Line\"},\"hover_glyph\":null,\"muted_glyph\":null,\"nonselection_glyph\":{\"id\":\"fc3af535-2afd-4beb-9943-c4dbe509d262\",\"type\":\"Line\"},\"selection_glyph\":null,\"view\":{\"id\":\"32068ecc-b69a-4827-8f04-44a545363d81\",\"type\":\"CDSView\"}},\"id\":\"579bdd2b-ccae-463c-b037-73f75e63cb2a\",\"type\":\"GlyphRenderer\"},{\"attributes\":{\"line_alpha\":0.1,\"line_color\":\"#1f77b4\",\"line_dash\":[2,4,6,4],\"line_width\":3,\"x\":{\"field\":\"x\"},\"y\":{\"field\":\"y\"}},\"id\":\"fc3af535-2afd-4beb-9943-c4dbe509d262\",\"type\":\"Line\"},{\"attributes\":{\"source\":{\"id\":\"386f10cb-e13a-4fb2-94be-edaf103e0d24\",\"type\":\"ColumnDataSource\"}},\"id\":\"32068ecc-b69a-4827-8f04-44a545363d81\",\"type\":\"CDSView\"},{\"attributes\":{\"callback\":null,\"column_names\":[\"x\",\"y\"],\"data\":{\"x\":{\"__ndarray__\":\"iCOv0emuib+0yy5NTkOJv9CRHZoAY4i/TjJJl8R6h78y2wmHwo2Gv2oDVJE6nIW/ZuBkQX+mhL+Exmsd3qyDv8Tp7PkdsIK/XIycpSaxgb+NmtZ+V7GAv2oYQ9tfrXq//JOPi1AGeL+w25JeFZ15v/Jw638TYmu/7G7t50WLYj8SpALKjuSDPxYtjyE/nJU/RSfw84TKoT/pRf9h0cipPzsxi1MkFLI/nWVsoZFztz+KevtSwye5P5GvMopN+rY/rc0sLRZLsz9HD3lUx+2tP36MMHqrBKY/Kr5TYWlpnz8zipkIESyVP72ZV8lVmYo/3vOxt2OVfj+M/4NT1JVmP6lRn1eJqEO/dAA0snpzc79Jgrfan5iEvw61DabYBpG/hCZ1Qf5Llr/iGEiei4mYv6zBoPHpVpi/7tAY/Ol+l7/RBpA8OCGWv7ShordmlZO/jQkxl1Rtj785iYV94tCEvwhmtjf5nmq/ag1LYtXQdT8N3hAQtzaNP9zQCav1oZg/42tYHmdEoT+AYvJzNCinP/uMBk6ISa0/CiP9w4S7sT+swefGdQW1P/84sAg9nLg/2yiZObBevD+z7ZMnOfW/Pxlp0jtPm8E/8Gq5MxMMwz+ehj0nnGHEP2khv4b51cU/d46WPehdxz+bd9ZNrefIP7Is2hR27sk/iaNA2XMdyz+Hg2uLvkTKP0FXjesAhMg/n5UPnI7bxj8T36L2zxHFP+nnuOAtDMQ//gUGOb3Fwz/5wEzjMPvDP16OqmikjMQ/qsMjVB2wxT/3w9fwV/XHPyOpXBOY79A/\",\"dtype\":\"float64\",\"shape\":[75]},\"y\":{\"__ndarray__\":\"GhExyth1ND/Sv8nbtpRIP2vylNV0PVE/aTum7souWD/At0SJ8fVgPw3Iuahxymc/MSNhhJWvcD/bTfBN02d3P2zb5nxnaoA/CD5h5MAGhz8NmeH1TyaQP+zrCsc9p5Y/LbKd76fGnz/bLW5ISEmmPww9YvTcQq8/JV2OstnstT8Er5Y7M8G+P0c+r3jqkcU/5h99k6ZBzj88bCIzFzjVP4enV8oyxN0//yH99nXg5D8qOpLLf0jtP5kqGJXUifQ/c9cS8kHP/D+/DpwzojQEQIEmwoanVwxA4lgXt9HgE0BSSZ2AJuIbQAMJih9jjiNA5q4l5INuK0AwTKYKRj0zQNv5fmq8/DpAaCJseHrtQkB/+zpwzoxKQM3MzMzMeFJAZmZmZmZqWEAAAAAAAFxeQM3MzMzMJmJAmpmZmZkfZUBmZmZmZhhoQDMzMzMzEWtAAAAAAAAKbkBmZmZmZoFwQM3MzMzM/XFAMzMzMzN6c0CamZmZmfZ0QAAAAAAAc3ZAZmZmZmbvd0DNzMzMzGt5QDMzMzMz6HpAmpmZmZlkfEAAAAAAAOF9QGZmZmZmXX9AZmZmZuZsgECamZmZGSuBQM3MzMxM6YFAAAAAAICngkAzMzMzs2WDQGZmZmbmI4RAmpmZmRnihEDNzMzMTKCFQAAAAACAXoZAMzMzM7Mch0BmZmZm5tqHQJqZmZkZmYhAzczMzExXiUAAAAAAgBWKQDMzMzOz04pAZmZmZuaRi0CamZmZGVCMQM3MzMxMDo1AAAAAAIDMjUAzMzMzs4qOQGZmZmbmSI9A\",\"dtype\":\"float64\",\"shape\":[75]}}},\"id\":\"386f10cb-e13a-4fb2-94be-edaf103e0d24\",\"type\":\"ColumnDataSource\"},{\"attributes\":{\"items\":[{\"id\":\"fdd0e8f1-fbf9-48ba-a6e2-e87d70f8e2b5\",\"type\":\"LegendItem\"},{\"id\":\"a0883678-1c46-456c-b619-fe0134c23af5\",\"type\":\"LegendItem\"},{\"id\":\"bfc4af80-5612-4c7c-b27c-aa20c3749980\",\"type\":\"LegendItem\"}],\"label_text_font_size\":{\"value\":\"8pt\"},\"location\":[10,-30],\"plot\":{\"id\":\"22661be4-2088-4fe9-9ac9-ed6917925847\",\"subtype\":\"Figure\",\"type\":\"Plot\"}},\"id\":\"c7ec2c1b-3275-4523-bdae-b84f2e2768f3\",\"type\":\"Legend\"},{\"attributes\":{\"children\":[{\"id\":\"3ef473c0-6cd0-4435-ab64-2b0d1d3fb0fc\",\"type\":\"Row\"}]},\"id\":\"55ff9f39-0e55-42b2-8a68-46130fa17dfa\",\"type\":\"Column\"},{\"attributes\":{\"label\":{\"value\":\"WGT igg=10\"},\"renderers\":[{\"id\":\"8d98d9b8-5598-410c-938a-09777bdcdfd7\",\"type\":\"GlyphRenderer\"},{\"id\":\"bcf7f396-6944-4001-8a6d-1aa2a67fc2ac\",\"type\":\"GlyphRenderer\"}]},\"id\":\"a0883678-1c46-456c-b619-fe0134c23af5\",\"type\":\"LegendItem\"},{\"attributes\":{\"label\":{\"value\":\"CRD\"},\"renderers\":[{\"id\":\"831f733f-ba61-454d-b440-fc5aad8e511b\",\"type\":\"GlyphRenderer\"},{\"id\":\"6af51e28-a4ee-4721-b577-3442fbcfef35\",\"type\":\"GlyphRenderer\"}]},\"id\":\"fdd0e8f1-fbf9-48ba-a6e2-e87d70f8e2b5\",\"type\":\"LegendItem\"},{\"attributes\":{\"toolbar\":{\"id\":\"e38454ed-73e1-4550-9e1c-d22368aa4d3a\",\"type\":\"ProxyToolbar\"},\"toolbar_location\":\"above\"},\"id\":\"5067ea28-2586-470a-aba7-455b6776de17\",\"type\":\"ToolbarBox\"},{\"attributes\":{\"label\":{\"value\":\"WGT igg=1\"},\"renderers\":[{\"id\":\"c1554412-fa34-400b-b0fa-a6c9f9131e51\",\"type\":\"GlyphRenderer\"},{\"id\":\"579bdd2b-ccae-463c-b037-73f75e63cb2a\",\"type\":\"GlyphRenderer\"}]},\"id\":\"bfc4af80-5612-4c7c-b27c-aa20c3749980\",\"type\":\"LegendItem\"},{\"attributes\":{\"tools\":[{\"id\":\"813c3a29-938e-4464-9cf9-0df9ddd4cb9b\",\"type\":\"PanTool\"},{\"id\":\"8ddcf1bc-f27f-476d-8beb-bae67e025db1\",\"type\":\"WheelZoomTool\"},{\"id\":\"abed073d-3882-436b-a13b-2110c8bf901a\",\"type\":\"BoxZoomTool\"},{\"id\":\"239eb3bf-fd34-409d-a6df-a0166f7d7a90\",\"type\":\"SaveTool\"},{\"id\":\"60675ba0-5e21-4615-9eb0-88d009eb0d31\",\"type\":\"ResetTool\"},{\"id\":\"d40f934c-1873-48b2-9f5d-d4a99e2c061c\",\"type\":\"HelpTool\"},{\"id\":\"aedae090-57b6-42d3-b01b-8fd9c464de77\",\"type\":\"PanTool\"},{\"id\":\"e063d178-af34-452e-9a9c-78a52b83ea59\",\"type\":\"WheelZoomTool\"},{\"id\":\"b73c204c-4639-4f80-80c1-d474e56e3ede\",\"type\":\"BoxZoomTool\"},{\"id\":\"c1dce3e8-74aa-4017-8051-f16a95de8f33\",\"type\":\"SaveTool\"},{\"id\":\"9322eccf-668c-405c-838e-4d9d07aa5f9a\",\"type\":\"ResetTool\"},{\"id\":\"883f0bb9-2100-4a4b-a2fa-9fc3db0d85d5\",\"type\":\"HelpTool\"}]},\"id\":\"e38454ed-73e1-4550-9e1c-d22368aa4d3a\",\"type\":\"ProxyToolbar\"},{\"attributes\":{\"children\":[{\"id\":\"5067ea28-2586-470a-aba7-455b6776de17\",\"type\":\"ToolbarBox\"},{\"id\":\"55ff9f39-0e55-42b2-8a68-46130fa17dfa\",\"type\":\"Column\"}]},\"id\":\"697422e4-1f7e-4347-94a1-7d5d92e0a1d9\",\"type\":\"Column\"},{\"attributes\":{\"data_source\":{\"id\":\"d2c4c484-a233-4587-8324-b04593244d4e\",\"type\":\"ColumnDataSource\"},\"glyph\":{\"id\":\"c22ab8cf-e514-4350-8cc7-d62182d0b373\",\"type\":\"Circle\"},\"hover_glyph\":null,\"muted_glyph\":null,\"nonselection_glyph\":{\"id\":\"12d84d34-6035-43d2-a962-9cde43cf9826\",\"type\":\"Circle\"},\"selection_glyph\":null,\"view\":{\"id\":\"a2324f49-9539-4eba-a3d0-ab04ed838f10\",\"type\":\"CDSView\"}},\"id\":\"831f733f-ba61-454d-b440-fc5aad8e511b\",\"type\":\"GlyphRenderer\"},{\"attributes\":{\"fill_alpha\":{\"value\":0.1},\"fill_color\":{\"value\":\"#1f77b4\"},\"line_alpha\":{\"value\":0.1},\"line_color\":{\"value\":\"#1f77b4\"},\"x\":{\"field\":\"x\"},\"y\":{\"field\":\"y\"}},\"id\":\"12d84d34-6035-43d2-a962-9cde43cf9826\",\"type\":\"Circle\"},{\"attributes\":{\"fill_alpha\":{\"value\":0.1},\"fill_color\":{\"value\":\"#1f77b4\"},\"line_alpha\":{\"value\":0.1},\"line_color\":{\"value\":\"#1f77b4\"},\"x\":{\"field\":\"x\"},\"y\":{\"field\":\"y\"}},\"id\":\"aeccb4e2-44b6-4b67-acf1-5c88eefc1e7a\",\"type\":\"Square\"},{\"attributes\":{\"plot\":{\"id\":\"1b96ef56-017d-4167-a282-57dd117d36e9\",\"subtype\":\"Figure\",\"type\":\"Plot\"},\"ticker\":{\"id\":\"ceb4bcfa-e73f-495b-a11e-62f49c384ccd\",\"type\":\"BasicTicker\"}},\"id\":\"2e215ea8-5b30-430f-9f09-70c2762551ab\",\"type\":\"Grid\"},{\"attributes\":{\"source\":{\"id\":\"8dba8af1-8dc4-4e3c-a47a-5eadd3d62cad\",\"type\":\"ColumnDataSource\"}},\"id\":\"d858da07-8149-4351-8e55-b853aee93feb\",\"type\":\"CDSView\"},{\"attributes\":{},\"id\":\"c261db74-d721-4fd1-a540-ee6dfd777cb9\",\"type\":\"BasicTickFormatter\"},{\"attributes\":{\"line_alpha\":0.1,\"line_color\":\"#1f77b4\",\"line_width\":1.5,\"x\":{\"field\":\"x\"},\"y\":{\"field\":\"y\"}},\"id\":\"84c4073d-232c-4022-9c1f-c06935747b7a\",\"type\":\"Line\"},{\"attributes\":{\"callback\":null,\"column_names\":[\"x\",\"y\"],\"data\":{\"x\":{\"__ndarray__\":\"t4orUlRCob9zbed8Kgehv7S8jBFypqC/vi9PY1KuoL+L/9O+zaOfv9gpif5m6J+/XzhyBV3Anr+wTy79szWev+Wr5xsGMJ2/P1WFBmLZnL9Hns2lFhycvzetLZ9Z0Ju/iDAqG2m4m78KCQ7rakubv6EWZzI6JZi/VocHjZPUj79mMYHAotlvv04o7r9oa4U/nF9BWJWWnD+rLMAtDh2pP/U9X73OKbM/EmfqGtJNuj+jrpTpwAe8PwKNjdEe1bc/aEI6DEtbsj/Q76U3dmWpP3pYRQsS06A/1o70/zBdlj8mtwfQ2F+OPwU5YgwwHIU/JxQcAjL5fD+dEo1/8d1xP7PsupA2aV0/fojH8K3aTL8QoCoYcVd1v8f+m998X4a/8otzHagokL+dUp2P5FKSv2kG355hFpK/eGROxf2vkb+TsDw2bNWQv5iku7Z6+I2/fQtGgC51h7+eXljfAdx7v6v4ufwrzUS/e6HCCTMKfT8cxyF4ArWQP+U7qvqSFps/lub7Tjhgoj/7WnFT/hOoP7xxppeFZ64/RTWU9uCXsj8u0i4gYB+2PxzMywY+q7k/kZo0FfsuvT/3lHsFkkXAP62h1F5E28E/roNBobdbwz8IXR1bKsrEPygnHHIaP8Y/X/BIQHXBxz8JOnNyMxrJP/bvG9tCwsk/UV+/9Ztoyj+b2kIl6A7JP9Fl3mjP/sY/I73J65glxT9YuxbCpFfDP+/i/bj9csI/e7myuL0swj/ELVn00j3CP3JzpuBbnsI/+2Uo1dtywz+L7SA8+0bFP3fbAa6Wgc8/\",\"dtype\":\"float64\",\"shape\":[75]},\"y\":{\"__ndarray__\":\"GhExyth1ND/Sv8nbtpRIP2vylNV0PVE/aTum7souWD/At0SJ8fVgPw3Iuahxymc/MSNhhJWvcD/bTfBN02d3P2zb5nxnaoA/CD5h5MAGhz8NmeH1TyaQP+zrCsc9p5Y/LbKd76fGnz/bLW5ISEmmPww9YvTcQq8/JV2OstnstT8Er5Y7M8G+P0c+r3jqkcU/5h99k6ZBzj88bCIzFzjVP4enV8oyxN0//yH99nXg5D8qOpLLf0jtP5kqGJXUifQ/c9cS8kHP/D+/DpwzojQEQIEmwoanVwxA4lgXt9HgE0BSSZ2AJuIbQAMJih9jjiNA5q4l5INuK0AwTKYKRj0zQNv5fmq8/DpAaCJseHrtQkB/+zpwzoxKQM3MzMzMeFJAZmZmZmZqWEAAAAAAAFxeQM3MzMzMJmJAmpmZmZkfZUBmZmZmZhhoQDMzMzMzEWtAAAAAAAAKbkBmZmZmZoFwQM3MzMzM/XFAMzMzMzN6c0CamZmZmfZ0QAAAAAAAc3ZAZmZmZmbvd0DNzMzMzGt5QDMzMzMz6HpAmpmZmZlkfEAAAAAAAOF9QGZmZmZmXX9AZmZmZuZsgECamZmZGSuBQM3MzMxM6YFAAAAAAICngkAzMzMzs2WDQGZmZmbmI4RAmpmZmRnihEDNzMzMTKCFQAAAAACAXoZAMzMzM7Mch0BmZmZm5tqHQJqZmZkZmYhAzczMzExXiUAAAAAAgBWKQDMzMzOz04pAZmZmZuaRi0CamZmZGVCMQM3MzMxMDo1AAAAAAIDMjUAzMzMzs4qOQGZmZmbmSI9A\",\"dtype\":\"float64\",\"shape\":[75]}}},\"id\":\"fb937120-4a6e-4497-89cf-b98dd7a232de\",\"type\":\"ColumnDataSource\"},{\"attributes\":{\"fill_alpha\":{\"value\":0.1},\"fill_color\":{\"value\":\"#1f77b4\"},\"line_alpha\":{\"value\":0.1},\"line_color\":{\"value\":\"#1f77b4\"},\"x\":{\"field\":\"x\"},\"y\":{\"field\":\"y\"}},\"id\":\"29356c94-405c-4b11-b234-bc63e8b7f162\",\"type\":\"Circle\"},{\"attributes\":{\"fill_alpha\":{\"value\":0.7},\"fill_color\":{\"value\":\"#377eb8\"},\"line_alpha\":{\"value\":0.7},\"line_color\":{\"value\":\"#377eb8\"},\"x\":{\"field\":\"x\"},\"y\":{\"field\":\"y\"}},\"id\":\"31d5c063-31ea-4e0c-bdbe-113b5a2d7c68\",\"type\":\"InvertedTriangle\"},{\"attributes\":{\"data_source\":{\"id\":\"930574ed-72cd-47d8-89cb-f6858001fcf6\",\"type\":\"ColumnDataSource\"},\"glyph\":{\"id\":\"9417e9da-1026-4aba-b6c7-f20a07976970\",\"type\":\"Line\"},\"hover_glyph\":null,\"muted_glyph\":null,\"nonselection_glyph\":{\"id\":\"d1d0bcaf-0f2b-4f61-a000-766aeafbd3a4\",\"type\":\"Line\"},\"selection_glyph\":null,\"view\":{\"id\":\"0fbd9b14-e106-48f5-9ee3-83ce88ec0710\",\"type\":\"CDSView\"}},\"id\":\"aed7793b-1961-4d67-8b79-0dc278ad5dfa\",\"type\":\"GlyphRenderer\"},{\"attributes\":{\"data_source\":{\"id\":\"fb937120-4a6e-4497-89cf-b98dd7a232de\",\"type\":\"ColumnDataSource\"},\"glyph\":{\"id\":\"920542ab-42c3-413f-902a-60b38211c3d9\",\"type\":\"Line\"},\"hover_glyph\":null,\"muted_glyph\":null,\"nonselection_glyph\":{\"id\":\"84c4073d-232c-4022-9c1f-c06935747b7a\",\"type\":\"Line\"},\"selection_glyph\":null,\"view\":{\"id\":\"ff187108-7055-4a0d-9ad0-cda31f32eb73\",\"type\":\"CDSView\"}},\"id\":\"6af51e28-a4ee-4721-b577-3442fbcfef35\",\"type\":\"GlyphRenderer\"},{\"attributes\":{\"line_alpha\":0.1,\"line_color\":\"#1f77b4\",\"line_width\":1.5,\"x\":{\"field\":\"x\"},\"y\":{\"field\":\"y\"}},\"id\":\"d1d0bcaf-0f2b-4f61-a000-766aeafbd3a4\",\"type\":\"Line\"},{\"attributes\":{\"ticker\":null},\"id\":\"2c38e821-cb1e-41cd-b42b-cb6708ff608f\",\"type\":\"LogTickFormatter\"},{\"attributes\":{\"source\":{\"id\":\"d2c4c484-a233-4587-8324-b04593244d4e\",\"type\":\"ColumnDataSource\"}},\"id\":\"a2324f49-9539-4eba-a3d0-ab04ed838f10\",\"type\":\"CDSView\"},{\"attributes\":{\"data_source\":{\"id\":\"5bada6de-6a2c-47e5-9806-59d1649e23d0\",\"type\":\"ColumnDataSource\"},\"glyph\":{\"id\":\"aa1144ec-d987-4462-8a44-fb03bf289917\",\"type\":\"Square\"},\"hover_glyph\":null,\"muted_glyph\":null,\"nonselection_glyph\":{\"id\":\"452de397-50f3-4357-b285-0f567f949a2c\",\"type\":\"Square\"},\"selection_glyph\":null,\"view\":{\"id\":\"58dfc2d5-4a1f-49b6-a184-a0f408900895\",\"type\":\"CDSView\"}},\"id\":\"8d98d9b8-5598-410c-938a-09777bdcdfd7\",\"type\":\"GlyphRenderer\"},{\"attributes\":{\"source\":{\"id\":\"fb937120-4a6e-4497-89cf-b98dd7a232de\",\"type\":\"ColumnDataSource\"}},\"id\":\"ff187108-7055-4a0d-9ad0-cda31f32eb73\",\"type\":\"CDSView\"},{\"attributes\":{},\"id\":\"cff67f82-3d18-4475-93ce-fe46f4513881\",\"type\":\"BasicTickFormatter\"},{\"attributes\":{\"callback\":null,\"column_names\":[\"x\",\"y\"],\"data\":{\"x\":{\"__ndarray__\":\"GFpNeseAgb8TtHK8tR2Bv/SZzG3EUIC/l7fxz5b4fr+5EeuUFEZ9v/Odil0cinu/cPP/z8XEeb/vVLNc7PV3v7dOgzEAHna/LzUnD0k9dL/VomkAW1Ryv36rw7oCZHC/KmIvGWnXbL9U5Hcvw7NnvzBKUcpwEUC/9KUikvu2dD8Cb+Yvq7KKPwZlCyIBjJc/M9ExMacVoj893gIOQ9mpPyg9xCBfq7E/R3r9u9HWtj/0LmLIf7u4P+VoVgKevrY/El14pwBtsz/I2k53eLGuPzXEE6LFF6c/iGO2lI6aoD/BE2FgqXCWP4F3oaKyrYs/BEAJMpH5fD97yB7dpDtiPxRJdbOfwlq/gr2rnWbadb9ayoUM3GiFv++bOhALFZG/1S2bNmwmlr+QXuuKzVKYvyzFMlbLOJi/eRWqfzaQl7/ETliyyE6Wvx5DByrR/JO/DC2r4wqFkL8za/QtHbqHv4bKPIPYanK/+T1BjBazcD8xgJIwQ0uJP6ewlF0XG5Y/S1CqGhBjoD/Jr3ViPG6mP3gIS4vmQKw/ZwbsyGMWsT+rL5QR7H+0P3mGlJIqebg/R5CMzXW3vD9qiKbDdVLAPzEXhgKV9cE/0roV2wdNwz/DzfPxGoXEP4WbxtVM58U/87exl3WYxz8hyvalp13JPyvm92g3m8o/dIZ38zP5yz88ANo9Fi7LPyrDG0b/U8k/UqKhVgNaxz+PJs3VRUDFP0ARrCZfO8Q/fCOhyrwXxD/Lhz1AOYLEP6sYOrhsW8U/rfWobBa3xj/5MosvXhzJP7nT57S4kNE/\",\"dtype\":\"float64\",\"shape\":[75]},\"y\":{\"__ndarray__\":\"GhExyth1ND/Sv8nbtpRIP2vylNV0PVE/aTum7souWD/At0SJ8fVgPw3Iuahxymc/MSNhhJWvcD/bTfBN02d3P2zb5nxnaoA/CD5h5MAGhz8NmeH1TyaQP+zrCsc9p5Y/LbKd76fGnz/bLW5ISEmmPww9YvTcQq8/JV2OstnstT8Er5Y7M8G+P0c+r3jqkcU/5h99k6ZBzj88bCIzFzjVP4enV8oyxN0//yH99nXg5D8qOpLLf0jtP5kqGJXUifQ/c9cS8kHP/D+/DpwzojQEQIEmwoanVwxA4lgXt9HgE0BSSZ2AJuIbQAMJih9jjiNA5q4l5INuK0AwTKYKRj0zQNv5fmq8/DpAaCJseHrtQkB/+zpwzoxKQM3MzMzMeFJAZmZmZmZqWEAAAAAAAFxeQM3MzMzMJmJAmpmZmZkfZUBmZmZmZhhoQDMzMzMzEWtAAAAAAAAKbkBmZmZmZoFwQM3MzMzM/XFAMzMzMzN6c0CamZmZmfZ0QAAAAAAAc3ZAZmZmZmbvd0DNzMzMzGt5QDMzMzMz6HpAmpmZmZlkfEAAAAAAAOF9QGZmZmZmXX9AZmZmZuZsgECamZmZGSuBQM3MzMxM6YFAAAAAAICngkAzMzMzs2WDQGZmZmbmI4RAmpmZmRnihEDNzMzMTKCFQAAAAACAXoZAMzMzM7Mch0BmZmZm5tqHQJqZmZkZmYhAzczMzExXiUAAAAAAgBWKQDMzMzOz04pAZmZmZuaRi0CamZmZGVCMQM3MzMxMDo1AAAAAAIDMjUAzMzMzs4qOQGZmZmbmSI9A\",\"dtype\":\"float64\",\"shape\":[75]}}},\"id\":\"7b22eeba-18b7-4767-a97c-ca135845ccde\",\"type\":\"ColumnDataSource\"},{\"attributes\":{\"source\":{\"id\":\"5bada6de-6a2c-47e5-9806-59d1649e23d0\",\"type\":\"ColumnDataSource\"}},\"id\":\"58dfc2d5-4a1f-49b6-a184-a0f408900895\",\"type\":\"CDSView\"},{\"attributes\":{\"callback\":null,\"column_names\":[\"x\",\"y\"],\"data\":{\"x\":{\"__ndarray__\":\"GFpNeseAgb8TtHK8tR2Bv/SZzG3EUIC/l7fxz5b4fr+5EeuUFEZ9v/Odil0cinu/cPP/z8XEeb/vVLNc7PV3v7dOgzEAHna/LzUnD0k9dL/VomkAW1Ryv36rw7oCZHC/KmIvGWnXbL9U5Hcvw7NnvzBKUcpwEUC/9KUikvu2dD8Cb+Yvq7KKPwZlCyIBjJc/M9ExMacVoj893gIOQ9mpPyg9xCBfq7E/R3r9u9HWtj/0LmLIf7u4P+VoVgKevrY/El14pwBtsz/I2k53eLGuPzXEE6LFF6c/iGO2lI6aoD/BE2FgqXCWP4F3oaKyrYs/BEAJMpH5fD97yB7dpDtiPxRJdbOfwlq/gr2rnWbadb9ayoUM3GiFv++bOhALFZG/1S2bNmwmlr+QXuuKzVKYvyzFMlbLOJi/eRWqfzaQl7/ETliyyE6Wvx5DByrR/JO/DC2r4wqFkL8za/QtHbqHv4bKPIPYanK/+T1BjBazcD8xgJIwQ0uJP6ewlF0XG5Y/S1CqGhBjoD/Jr3ViPG6mP3gIS4vmQKw/ZwbsyGMWsT+rL5QR7H+0P3mGlJIqebg/R5CMzXW3vD9qiKbDdVLAPzEXhgKV9cE/0roV2wdNwz/DzfPxGoXEP4WbxtVM58U/87exl3WYxz8hyvalp13JPyvm92g3m8o/dIZ38zP5yz88ANo9Fi7LPyrDG0b/U8k/UqKhVgNaxz+PJs3VRUDFP0ARrCZfO8Q/fCOhyrwXxD/Lhz1AOYLEP6sYOrhsW8U/rfWobBa3xj/5MosvXhzJP7nT57S4kNE/\",\"dtype\":\"float64\",\"shape\":[75]},\"y\":{\"__ndarray__\":\"GhExyth1ND/Sv8nbtpRIP2vylNV0PVE/aTum7souWD/At0SJ8fVgPw3Iuahxymc/MSNhhJWvcD/bTfBN02d3P2zb5nxnaoA/CD5h5MAGhz8NmeH1TyaQP+zrCsc9p5Y/LbKd76fGnz/bLW5ISEmmPww9YvTcQq8/JV2OstnstT8Er5Y7M8G+P0c+r3jqkcU/5h99k6ZBzj88bCIzFzjVP4enV8oyxN0//yH99nXg5D8qOpLLf0jtP5kqGJXUifQ/c9cS8kHP/D+/DpwzojQEQIEmwoanVwxA4lgXt9HgE0BSSZ2AJuIbQAMJih9jjiNA5q4l5INuK0AwTKYKRj0zQNv5fmq8/DpAaCJseHrtQkB/+zpwzoxKQM3MzMzMeFJAZmZmZmZqWEAAAAAAAFxeQM3MzMzMJmJAmpmZmZkfZUBmZmZmZhhoQDMzMzMzEWtAAAAAAAAKbkBmZmZmZoFwQM3MzMzM/XFAMzMzMzN6c0CamZmZmfZ0QAAAAAAAc3ZAZmZmZmbvd0DNzMzMzGt5QDMzMzMz6HpAmpmZmZlkfEAAAAAAAOF9QGZmZmZmXX9AZmZmZuZsgECamZmZGSuBQM3MzMxM6YFAAAAAAICngkAzMzMzs2WDQGZmZmbmI4RAmpmZmRnihEDNzMzMTKCFQAAAAACAXoZAMzMzM7Mch0BmZmZm5tqHQJqZmZkZmYhAzczMzExXiUAAAAAAgBWKQDMzMzOz04pAZmZmZuaRi0CamZmZGVCMQM3MzMxMDo1AAAAAAIDMjUAzMzMzs4qOQGZmZmbmSI9A\",\"dtype\":\"float64\",\"shape\":[75]}}},\"id\":\"5bada6de-6a2c-47e5-9806-59d1649e23d0\",\"type\":\"ColumnDataSource\"},{\"attributes\":{\"fill_alpha\":{\"value\":0.7},\"fill_color\":{\"value\":\"#984ea3\"},\"line_alpha\":{\"value\":0.7},\"line_color\":{\"value\":\"#984ea3\"},\"x\":{\"field\":\"x\"},\"y\":{\"field\":\"y\"}},\"id\":\"aa1144ec-d987-4462-8a44-fb03bf289917\",\"type\":\"Square\"},{\"attributes\":{\"fill_alpha\":{\"value\":0.1},\"fill_color\":{\"value\":\"#1f77b4\"},\"line_alpha\":{\"value\":0.1},\"line_color\":{\"value\":\"#1f77b4\"},\"x\":{\"field\":\"x\"},\"y\":{\"field\":\"y\"}},\"id\":\"452de397-50f3-4357-b285-0f567f949a2c\",\"type\":\"Square\"},{\"attributes\":{\"line_alpha\":0.1,\"line_color\":\"#1f77b4\",\"line_width\":3,\"x\":{\"field\":\"x\"},\"y\":{\"field\":\"y\"}},\"id\":\"c9d656f2-cdab-4be7-93c8-586cf7e5cb3c\",\"type\":\"Line\"},{\"attributes\":{\"line_color\":\"#4daf4a\",\"line_width\":1.5,\"x\":{\"field\":\"x\"},\"y\":{\"field\":\"y\"}},\"id\":\"920542ab-42c3-413f-902a-60b38211c3d9\",\"type\":\"Line\"},{\"attributes\":{\"data_source\":{\"id\":\"7b22eeba-18b7-4767-a97c-ca135845ccde\",\"type\":\"ColumnDataSource\"},\"glyph\":{\"id\":\"4696e29f-370f-4523-9e05-d4acafc66635\",\"type\":\"Line\"},\"hover_glyph\":null,\"muted_glyph\":null,\"nonselection_glyph\":{\"id\":\"c9d656f2-cdab-4be7-93c8-586cf7e5cb3c\",\"type\":\"Line\"},\"selection_glyph\":null,\"view\":{\"id\":\"b7ab9d63-7716-4328-ab37-86b73f591b93\",\"type\":\"CDSView\"}},\"id\":\"bcf7f396-6944-4001-8a6d-1aa2a67fc2ac\",\"type\":\"GlyphRenderer\"},{\"attributes\":{\"line_alpha\":0.6,\"line_color\":\"#984ea3\",\"line_width\":3,\"x\":{\"field\":\"x\"},\"y\":{\"field\":\"y\"}},\"id\":\"4696e29f-370f-4523-9e05-d4acafc66635\",\"type\":\"Line\"},{\"attributes\":{},\"id\":\"9322eccf-668c-405c-838e-4d9d07aa5f9a\",\"type\":\"ResetTool\"},{\"attributes\":{\"data_source\":{\"id\":\"1ea45e1c-e8dd-4ed3-8943-b841c9af9804\",\"type\":\"ColumnDataSource\"},\"glyph\":{\"id\":\"cbeef6ef-f8d4-431c-92e6-cb082b731e03\",\"type\":\"InvertedTriangle\"},\"hover_glyph\":null,\"muted_glyph\":null,\"nonselection_glyph\":{\"id\":\"631c7744-e04b-4c1f-8111-d9ce5202541a\",\"type\":\"InvertedTriangle\"},\"selection_glyph\":null,\"view\":{\"id\":\"a87271ca-063a-42a1-b321-acbee745b48d\",\"type\":\"CDSView\"}},\"id\":\"6004ae2f-2efc-46f0-b43a-1b49e494f13a\",\"type\":\"GlyphRenderer\"},{\"attributes\":{\"line_alpha\":0.1,\"line_color\":\"#1f77b4\",\"line_dash\":[2,4,6,4],\"line_width\":3,\"x\":{\"field\":\"x\"},\"y\":{\"field\":\"y\"}},\"id\":\"11a380e1-c21d-43f1-a9a2-29b4d265a6e9\",\"type\":\"Line\"},{\"attributes\":{\"source\":{\"id\":\"6354e1f5-992d-4813-a6f9-ae6aa28694f5\",\"type\":\"ColumnDataSource\"}},\"id\":\"d83fa511-d31f-4799-be6c-e43b0bce0d0e\",\"type\":\"CDSView\"},{\"attributes\":{\"axis_label\":\"pressure [mb]\",\"formatter\":{\"id\":\"c261db74-d721-4fd1-a540-ee6dfd777cb9\",\"type\":\"BasicTickFormatter\"},\"plot\":{\"id\":\"1b96ef56-017d-4167-a282-57dd117d36e9\",\"subtype\":\"Figure\",\"type\":\"Plot\"},\"ticker\":{\"id\":\"fa4ce41a-7f75-4b39-b328-b5e14097419c\",\"type\":\"BasicTicker\"}},\"id\":\"87fb8008-6553-425f-929d-fecc2b780a37\",\"type\":\"LinearAxis\"},{\"attributes\":{\"source\":{\"id\":\"930574ed-72cd-47d8-89cb-f6858001fcf6\",\"type\":\"ColumnDataSource\"}},\"id\":\"0fbd9b14-e106-48f5-9ee3-83ce88ec0710\",\"type\":\"CDSView\"},{\"attributes\":{\"line_alpha\":0.6,\"line_color\":\"#377eb8\",\"line_dash\":[2,4,6,4],\"line_width\":3,\"x\":{\"field\":\"x\"},\"y\":{\"field\":\"y\"}},\"id\":\"de09bdae-1e10-409d-939c-975aa66890de\",\"type\":\"Line\"},{\"attributes\":{\"plot\":{\"id\":\"22661be4-2088-4fe9-9ac9-ed6917925847\",\"subtype\":\"Figure\",\"type\":\"Plot\"},\"ticker\":{\"id\":\"18f61852-92fb-406c-8fd7-4a0630507013\",\"type\":\"BasicTicker\"}},\"id\":\"fa454a05-f3a5-4d1e-95a8-720a3226c0ed\",\"type\":\"Grid\"},{\"attributes\":{\"below\":[{\"id\":\"c455081c-2883-4ed7-a7de-4b64ebfbe1af\",\"type\":\"LinearAxis\"}],\"left\":[{\"id\":\"4f3a7392-a8d4-49e9-b1b4-6aa538c74462\",\"type\":\"LogAxis\"}],\"plot_height\":500,\"plot_width\":560,\"renderers\":[{\"id\":\"c455081c-2883-4ed7-a7de-4b64ebfbe1af\",\"type\":\"LinearAxis\"},{\"id\":\"fa454a05-f3a5-4d1e-95a8-720a3226c0ed\",\"type\":\"Grid\"},{\"id\":\"4f3a7392-a8d4-49e9-b1b4-6aa538c74462\",\"type\":\"LogAxis\"},{\"id\":\"2d47d443-ef72-40b8-9af9-044bc8b3014b\",\"type\":\"Grid\"},{\"id\":\"34912785-60d1-4328-a6d7-8fd211d129e5\",\"type\":\"BoxAnnotation\"},{\"id\":\"831f733f-ba61-454d-b440-fc5aad8e511b\",\"type\":\"GlyphRenderer\"},{\"id\":\"6af51e28-a4ee-4721-b577-3442fbcfef35\",\"type\":\"GlyphRenderer\"},{\"id\":\"8d98d9b8-5598-410c-938a-09777bdcdfd7\",\"type\":\"GlyphRenderer\"},{\"id\":\"bcf7f396-6944-4001-8a6d-1aa2a67fc2ac\",\"type\":\"GlyphRenderer\"},{\"id\":\"c1554412-fa34-400b-b0fa-a6c9f9131e51\",\"type\":\"GlyphRenderer\"},{\"id\":\"579bdd2b-ccae-463c-b037-73f75e63cb2a\",\"type\":\"GlyphRenderer\"},{\"id\":\"c7ec2c1b-3275-4523-bdae-b84f2e2768f3\",\"type\":\"Legend\"}],\"right\":[{\"id\":\"c7ec2c1b-3275-4523-bdae-b84f2e2768f3\",\"type\":\"Legend\"}],\"title\":{\"id\":\"8af254b7-4985-44bc-b3bc-534b11496db1\",\"type\":\"Title\"},\"toolbar\":{\"id\":\"36940df0-dfa1-441d-84db-4ef492a88fb1\",\"type\":\"Toolbar\"},\"toolbar_location\":null,\"x_range\":{\"id\":\"cd868bde-7f98-47b7-8987-a9c6fb519503\",\"type\":\"Range1d\"},\"x_scale\":{\"id\":\"96310af7-99b5-4a36-afb5-37b02bc97b8e\",\"type\":\"LinearScale\"},\"y_range\":{\"id\":\"a1ffc7b0-6acc-46a5-a604-613c53e0c280\",\"type\":\"Range1d\"},\"y_scale\":{\"id\":\"5606f7c3-9b4e-4a00-9250-422ba490cfb7\",\"type\":\"LogScale\"}},\"id\":\"22661be4-2088-4fe9-9ac9-ed6917925847\",\"subtype\":\"Figure\",\"type\":\"Plot\"},{\"attributes\":{\"axis_label\":\"pressure [mb]\",\"formatter\":{\"id\":\"2c38e821-cb1e-41cd-b42b-cb6708ff608f\",\"type\":\"LogTickFormatter\"},\"plot\":{\"id\":\"22661be4-2088-4fe9-9ac9-ed6917925847\",\"subtype\":\"Figure\",\"type\":\"Plot\"},\"ticker\":{\"id\":\"de18183a-f648-4296-98c0-2e2a88edc341\",\"type\":\"LogTicker\"}},\"id\":\"4f3a7392-a8d4-49e9-b1b4-6aa538c74462\",\"type\":\"LogAxis\"},{\"attributes\":{\"callback\":null,\"column_names\":[\"x\",\"y\"],\"data\":{\"x\":{\"__ndarray__\":\"GFpNeseAgb8TtHK8tR2Bv/SZzG3EUIC/l7fxz5b4fr+5EeuUFEZ9v/Odil0cinu/cPP/z8XEeb/vVLNc7PV3v7dOgzEAHna/LzUnD0k9dL/VomkAW1Ryv36rw7oCZHC/KmIvGWnXbL9U5Hcvw7NnvzBKUcpwEUC/9KUikvu2dD8Cb+Yvq7KKPwZlCyIBjJc/M9ExMacVoj893gIOQ9mpPyg9xCBfq7E/R3r9u9HWtj/0LmLIf7u4P+VoVgKevrY/El14pwBtsz/I2k53eLGuPzXEE6LFF6c/iGO2lI6aoD/BE2FgqXCWP4F3oaKyrYs/BEAJMpH5fD97yB7dpDtiPxRJdbOfwlq/gr2rnWbadb9ayoUM3GiFv++bOhALFZG/1S2bNmwmlr+QXuuKzVKYvyzFMlbLOJi/eRWqfzaQl7/ETliyyE6Wvx5DByrR/JO/DC2r4wqFkL8za/QtHbqHv4bKPIPYanK/+T1BjBazcD8xgJIwQ0uJP6ewlF0XG5Y/S1CqGhBjoD/Jr3ViPG6mP3gIS4vmQKw/ZwbsyGMWsT+rL5QR7H+0P3mGlJIqebg/R5CMzXW3vD9qiKbDdVLAPzEXhgKV9cE/0roV2wdNwz/DzfPxGoXEP4WbxtVM58U/87exl3WYxz8hyvalp13JPyvm92g3m8o/dIZ38zP5yz88ANo9Fi7LPyrDG0b/U8k/UqKhVgNaxz+PJs3VRUDFP0ARrCZfO8Q/fCOhyrwXxD/Lhz1AOYLEP6sYOrhsW8U/rfWobBa3xj/5MosvXhzJP7nT57S4kNE/\",\"dtype\":\"float64\",\"shape\":[75]},\"y\":{\"__ndarray__\":\"GhExyth1ND/Sv8nbtpRIP2vylNV0PVE/aTum7souWD/At0SJ8fVgPw3Iuahxymc/MSNhhJWvcD/bTfBN02d3P2zb5nxnaoA/CD5h5MAGhz8NmeH1TyaQP+zrCsc9p5Y/LbKd76fGnz/bLW5ISEmmPww9YvTcQq8/JV2OstnstT8Er5Y7M8G+P0c+r3jqkcU/5h99k6ZBzj88bCIzFzjVP4enV8oyxN0//yH99nXg5D8qOpLLf0jtP5kqGJXUifQ/c9cS8kHP/D+/DpwzojQEQIEmwoanVwxA4lgXt9HgE0BSSZ2AJuIbQAMJih9jjiNA5q4l5INuK0AwTKYKRj0zQNv5fmq8/DpAaCJseHrtQkB/+zpwzoxKQM3MzMzMeFJAZmZmZmZqWEAAAAAAAFxeQM3MzMzMJmJAmpmZmZkfZUBmZmZmZhhoQDMzMzMzEWtAAAAAAAAKbkBmZmZmZoFwQM3MzMzM/XFAMzMzMzN6c0CamZmZmfZ0QAAAAAAAc3ZAZmZmZmbvd0DNzMzMzGt5QDMzMzMz6HpAmpmZmZlkfEAAAAAAAOF9QGZmZmZmXX9AZmZmZuZsgECamZmZGSuBQM3MzMxM6YFAAAAAAICngkAzMzMzs2WDQGZmZmbmI4RAmpmZmRnihEDNzMzMTKCFQAAAAACAXoZAMzMzM7Mch0BmZmZm5tqHQJqZmZkZmYhAzczMzExXiUAAAAAAgBWKQDMzMzOz04pAZmZmZuaRi0CamZmZGVCMQM3MzMxMDo1AAAAAAIDMjUAzMzMzs4qOQGZmZmbmSI9A\",\"dtype\":\"float64\",\"shape\":[75]}}},\"id\":\"4a0b4358-fdce-4e5f-9d7d-9778679a9b3d\",\"type\":\"ColumnDataSource\"},{\"attributes\":{},\"id\":\"5606f7c3-9b4e-4a00-9250-422ba490cfb7\",\"type\":\"LogScale\"},{\"attributes\":{\"plot\":null,\"text\":\"Log pressure scale\"},\"id\":\"8af254b7-4985-44bc-b3bc-534b11496db1\",\"type\":\"Title\"},{\"attributes\":{\"fill_alpha\":{\"value\":0.1},\"fill_color\":{\"value\":\"#1f77b4\"},\"line_alpha\":{\"value\":0.1},\"line_color\":{\"value\":\"#1f77b4\"},\"x\":{\"field\":\"x\"},\"y\":{\"field\":\"y\"}},\"id\":\"1cb23fde-a1d0-48e3-9c72-32b111b84f95\",\"type\":\"InvertedTriangle\"},{\"attributes\":{\"callback\":null,\"end\":0.01,\"start\":1020},\"id\":\"a1ffc7b0-6acc-46a5-a604-613c53e0c280\",\"type\":\"Range1d\"},{\"attributes\":{},\"id\":\"401b1180-67d4-47f3-a5d5-e33a07394b18\",\"type\":\"LinearScale\"},{\"attributes\":{},\"id\":\"ceb4bcfa-e73f-495b-a11e-62f49c384ccd\",\"type\":\"BasicTicker\"},{\"attributes\":{\"fill_alpha\":{\"value\":0.7},\"fill_color\":{\"value\":\"#4daf4a\"},\"line_alpha\":{\"value\":0.7},\"line_color\":{\"value\":\"#4daf4a\"},\"x\":{\"field\":\"x\"},\"y\":{\"field\":\"y\"}},\"id\":\"c22ab8cf-e514-4350-8cc7-d62182d0b373\",\"type\":\"Circle\"},{\"attributes\":{\"callback\":null,\"column_names\":[\"x\",\"y\"],\"data\":{\"x\":{\"__ndarray__\":\"iCOv0emuib+0yy5NTkOJv9CRHZoAY4i/TjJJl8R6h78y2wmHwo2Gv2oDVJE6nIW/ZuBkQX+mhL+Exmsd3qyDv8Tp7PkdsIK/XIycpSaxgb+NmtZ+V7GAv2oYQ9tfrXq//JOPi1AGeL+w25JeFZ15v/Jw638TYmu/7G7t50WLYj8SpALKjuSDPxYtjyE/nJU/RSfw84TKoT/pRf9h0cipPzsxi1MkFLI/nWVsoZFztz+KevtSwye5P5GvMopN+rY/rc0sLRZLsz9HD3lUx+2tP36MMHqrBKY/Kr5TYWlpnz8zipkIESyVP72ZV8lVmYo/3vOxt2OVfj+M/4NT1JVmP6lRn1eJqEO/dAA0snpzc79Jgrfan5iEvw61DabYBpG/hCZ1Qf5Llr/iGEiei4mYv6zBoPHpVpi/7tAY/Ol+l7/RBpA8OCGWv7ShordmlZO/jQkxl1Rtj785iYV94tCEvwhmtjf5nmq/ag1LYtXQdT8N3hAQtzaNP9zQCav1oZg/42tYHmdEoT+AYvJzNCinP/uMBk6ISa0/CiP9w4S7sT+swefGdQW1P/84sAg9nLg/2yiZObBevD+z7ZMnOfW/Pxlp0jtPm8E/8Gq5MxMMwz+ehj0nnGHEP2khv4b51cU/d46WPehdxz+bd9ZNrefIP7Is2hR27sk/iaNA2XMdyz+Hg2uLvkTKP0FXjesAhMg/n5UPnI7bxj8T36L2zxHFP+nnuOAtDMQ//gUGOb3Fwz/5wEzjMPvDP16OqmikjMQ/qsMjVB2wxT/3w9fwV/XHPyOpXBOY79A/\",\"dtype\":\"float64\",\"shape\":[75]},\"y\":{\"__ndarray__\":\"GhExyth1ND/Sv8nbtpRIP2vylNV0PVE/aTum7souWD/At0SJ8fVgPw3Iuahxymc/MSNhhJWvcD/bTfBN02d3P2zb5nxnaoA/CD5h5MAGhz8NmeH1TyaQP+zrCsc9p5Y/LbKd76fGnz/bLW5ISEmmPww9YvTcQq8/JV2OstnstT8Er5Y7M8G+P0c+r3jqkcU/5h99k6ZBzj88bCIzFzjVP4enV8oyxN0//yH99nXg5D8qOpLLf0jtP5kqGJXUifQ/c9cS8kHP/D+/DpwzojQEQIEmwoanVwxA4lgXt9HgE0BSSZ2AJuIbQAMJih9jjiNA5q4l5INuK0AwTKYKRj0zQNv5fmq8/DpAaCJseHrtQkB/+zpwzoxKQM3MzMzMeFJAZmZmZmZqWEAAAAAAAFxeQM3MzMzMJmJAmpmZmZkfZUBmZmZmZhhoQDMzMzMzEWtAAAAAAAAKbkBmZmZmZoFwQM3MzMzM/XFAMzMzMzN6c0CamZmZmfZ0QAAAAAAAc3ZAZmZmZmbvd0DNzMzMzGt5QDMzMzMz6HpAmpmZmZlkfEAAAAAAAOF9QGZmZmZmXX9AZmZmZuZsgECamZmZGSuBQM3MzMxM6YFAAAAAAICngkAzMzMzs2WDQGZmZmbmI4RAmpmZmRnihEDNzMzMTKCFQAAAAACAXoZAMzMzM7Mch0BmZmZm5tqHQJqZmZkZmYhAzczMzExXiUAAAAAAgBWKQDMzMzOz04pAZmZmZuaRi0CamZmZGVCMQM3MzMxMDo1AAAAAAIDMjUAzMzMzs4qOQGZmZmbmSI9A\",\"dtype\":\"float64\",\"shape\":[75]}}},\"id\":\"8dba8af1-8dc4-4e3c-a47a-5eadd3d62cad\",\"type\":\"ColumnDataSource\"},{\"attributes\":{\"dimension\":1,\"plot\":{\"id\":\"22661be4-2088-4fe9-9ac9-ed6917925847\",\"subtype\":\"Figure\",\"type\":\"Plot\"},\"ticker\":{\"id\":\"de18183a-f648-4296-98c0-2e2a88edc341\",\"type\":\"LogTicker\"}},\"id\":\"2d47d443-ef72-40b8-9af9-044bc8b3014b\",\"type\":\"Grid\"},{\"attributes\":{},\"id\":\"8ddcf1bc-f27f-476d-8beb-bae67e025db1\",\"type\":\"WheelZoomTool\"},{\"attributes\":{},\"id\":\"96310af7-99b5-4a36-afb5-37b02bc97b8e\",\"type\":\"LinearScale\"},{\"attributes\":{\"active_drag\":\"auto\",\"active_inspect\":\"auto\",\"active_scroll\":\"auto\",\"active_tap\":\"auto\",\"tools\":[{\"id\":\"aedae090-57b6-42d3-b01b-8fd9c464de77\",\"type\":\"PanTool\"},{\"id\":\"e063d178-af34-452e-9a9c-78a52b83ea59\",\"type\":\"WheelZoomTool\"},{\"id\":\"b73c204c-4639-4f80-80c1-d474e56e3ede\",\"type\":\"BoxZoomTool\"},{\"id\":\"c1dce3e8-74aa-4017-8051-f16a95de8f33\",\"type\":\"SaveTool\"},{\"id\":\"9322eccf-668c-405c-838e-4d9d07aa5f9a\",\"type\":\"ResetTool\"},{\"id\":\"883f0bb9-2100-4a4b-a2fa-9fc3db0d85d5\",\"type\":\"HelpTool\"}]},\"id\":\"36940df0-dfa1-441d-84db-4ef492a88fb1\",\"type\":\"Toolbar\"},{\"attributes\":{},\"id\":\"27cd3ce5-668b-4b44-be81-8a0563765511\",\"type\":\"BasicTickFormatter\"},{\"attributes\":{\"source\":{\"id\":\"876af947-b7a9-4bb3-a87d-64ac3aa8d459\",\"type\":\"ColumnDataSource\"}},\"id\":\"a53cf349-8a2b-498c-ab1b-6d027635ff05\",\"type\":\"CDSView\"},{\"attributes\":{\"overlay\":{\"id\":\"b7889413-7ce7-4750-a87a-a8472cf37b7b\",\"type\":\"BoxAnnotation\"}},\"id\":\"abed073d-3882-436b-a13b-2110c8bf901a\",\"type\":\"BoxZoomTool\"},{\"attributes\":{},\"id\":\"18f61852-92fb-406c-8fd7-4a0630507013\",\"type\":\"BasicTicker\"},{\"attributes\":{\"num_minor_ticks\":10},\"id\":\"de18183a-f648-4296-98c0-2e2a88edc341\",\"type\":\"LogTicker\"},{\"attributes\":{\"below\":[{\"id\":\"31abf0ba-abbd-46d6-9dec-a70932495ce8\",\"type\":\"LinearAxis\"}],\"left\":[{\"id\":\"87fb8008-6553-425f-929d-fecc2b780a37\",\"type\":\"LinearAxis\"}],\"plot_height\":500,\"plot_width\":400,\"renderers\":[{\"id\":\"31abf0ba-abbd-46d6-9dec-a70932495ce8\",\"type\":\"LinearAxis\"},{\"id\":\"2e215ea8-5b30-430f-9f09-70c2762551ab\",\"type\":\"Grid\"},{\"id\":\"87fb8008-6553-425f-929d-fecc2b780a37\",\"type\":\"LinearAxis\"},{\"id\":\"306e05a3-e6db-4fc2-8b6f-1ca35a92a419\",\"type\":\"Grid\"},{\"id\":\"b7889413-7ce7-4750-a87a-a8472cf37b7b\",\"type\":\"BoxAnnotation\"},{\"id\":\"bd3fef04-2cc3-4f50-befc-c5713e4f4791\",\"type\":\"GlyphRenderer\"},{\"id\":\"aed7793b-1961-4d67-8b79-0dc278ad5dfa\",\"type\":\"GlyphRenderer\"},{\"id\":\"bd2adc23-a9d3-4ade-928b-23297d118e62\",\"type\":\"GlyphRenderer\"},{\"id\":\"80a27409-0519-4c94-9cc3-7a82aab99d00\",\"type\":\"GlyphRenderer\"},{\"id\":\"6004ae2f-2efc-46f0-b43a-1b49e494f13a\",\"type\":\"GlyphRenderer\"},{\"id\":\"827841d4-7196-46d8-9398-165a4bba15a7\",\"type\":\"GlyphRenderer\"}],\"title\":{\"id\":\"1280f3c7-3a33-4f76-aadd-f5563250784a\",\"type\":\"Title\"},\"toolbar\":{\"id\":\"049a9d2c-4f60-4c84-abda-c47fb6ad2dd1\",\"type\":\"Toolbar\"},\"toolbar_location\":null,\"x_range\":{\"id\":\"b245d620-1082-4456-a669-7ec6e5e19f72\",\"type\":\"Range1d\"},\"x_scale\":{\"id\":\"401b1180-67d4-47f3-a5d5-e33a07394b18\",\"type\":\"LinearScale\"},\"y_range\":{\"id\":\"dc615b84-ff71-4b6c-a9b8-d249c0443a3e\",\"type\":\"Range1d\"},\"y_scale\":{\"id\":\"9a7e0a1d-9682-4410-8f07-005ee59b0944\",\"type\":\"LinearScale\"}},\"id\":\"1b96ef56-017d-4167-a282-57dd117d36e9\",\"subtype\":\"Figure\",\"type\":\"Plot\"},{\"attributes\":{\"axis_label\":\"cooling rate [K/day]\",\"formatter\":{\"id\":\"cff67f82-3d18-4475-93ce-fe46f4513881\",\"type\":\"BasicTickFormatter\"},\"plot\":{\"id\":\"22661be4-2088-4fe9-9ac9-ed6917925847\",\"subtype\":\"Figure\",\"type\":\"Plot\"},\"ticker\":{\"id\":\"18f61852-92fb-406c-8fd7-4a0630507013\",\"type\":\"BasicTicker\"}},\"id\":\"c455081c-2883-4ed7-a7de-4b64ebfbe1af\",\"type\":\"LinearAxis\"},{\"attributes\":{\"callback\":null,\"column_names\":[\"x\",\"y\"],\"data\":{\"x\":{\"__ndarray__\":\"t4orUlRCob9zbed8Kgehv7S8jBFypqC/vi9PY1KuoL+L/9O+zaOfv9gpif5m6J+/XzhyBV3Anr+wTy79szWev+Wr5xsGMJ2/P1WFBmLZnL9Hns2lFhycvzetLZ9Z0Ju/iDAqG2m4m78KCQ7rakubv6EWZzI6JZi/VocHjZPUj79mMYHAotlvv04o7r9oa4U/nF9BWJWWnD+rLMAtDh2pP/U9X73OKbM/EmfqGtJNuj+jrpTpwAe8PwKNjdEe1bc/aEI6DEtbsj/Q76U3dmWpP3pYRQsS06A/1o70/zBdlj8mtwfQ2F+OPwU5YgwwHIU/JxQcAjL5fD+dEo1/8d1xP7PsupA2aV0/fojH8K3aTL8QoCoYcVd1v8f+m998X4a/8otzHagokL+dUp2P5FKSv2kG355hFpK/eGROxf2vkb+TsDw2bNWQv5iku7Z6+I2/fQtGgC51h7+eXljfAdx7v6v4ufwrzUS/e6HCCTMKfT8cxyF4ArWQP+U7qvqSFps/lub7Tjhgoj/7WnFT/hOoP7xxppeFZ64/RTWU9uCXsj8u0i4gYB+2PxzMywY+q7k/kZo0FfsuvT/3lHsFkkXAP62h1F5E28E/roNBobdbwz8IXR1bKsrEPygnHHIaP8Y/X/BIQHXBxz8JOnNyMxrJP/bvG9tCwsk/UV+/9Ztoyj+b2kIl6A7JP9Fl3mjP/sY/I73J65glxT9YuxbCpFfDP+/i/bj9csI/e7myuL0swj/ELVn00j3CP3JzpuBbnsI/+2Uo1dtywz+L7SA8+0bFP3fbAa6Wgc8/\",\"dtype\":\"float64\",\"shape\":[75]},\"y\":{\"__ndarray__\":\"GhExyth1ND/Sv8nbtpRIP2vylNV0PVE/aTum7souWD/At0SJ8fVgPw3Iuahxymc/MSNhhJWvcD/bTfBN02d3P2zb5nxnaoA/CD5h5MAGhz8NmeH1TyaQP+zrCsc9p5Y/LbKd76fGnz/bLW5ISEmmPww9YvTcQq8/JV2OstnstT8Er5Y7M8G+P0c+r3jqkcU/5h99k6ZBzj88bCIzFzjVP4enV8oyxN0//yH99nXg5D8qOpLLf0jtP5kqGJXUifQ/c9cS8kHP/D+/DpwzojQEQIEmwoanVwxA4lgXt9HgE0BSSZ2AJuIbQAMJih9jjiNA5q4l5INuK0AwTKYKRj0zQNv5fmq8/DpAaCJseHrtQkB/+zpwzoxKQM3MzMzMeFJAZmZmZmZqWEAAAAAAAFxeQM3MzMzMJmJAmpmZmZkfZUBmZmZmZhhoQDMzMzMzEWtAAAAAAAAKbkBmZmZmZoFwQM3MzMzM/XFAMzMzMzN6c0CamZmZmfZ0QAAAAAAAc3ZAZmZmZmbvd0DNzMzMzGt5QDMzMzMz6HpAmpmZmZlkfEAAAAAAAOF9QGZmZmZmXX9AZmZmZuZsgECamZmZGSuBQM3MzMxM6YFAAAAAAICngkAzMzMzs2WDQGZmZmbmI4RAmpmZmRnihEDNzMzMTKCFQAAAAACAXoZAMzMzM7Mch0BmZmZm5tqHQJqZmZkZmYhAzczMzExXiUAAAAAAgBWKQDMzMzOz04pAZmZmZuaRi0CamZmZGVCMQM3MzMxMDo1AAAAAAIDMjUAzMzMzs4qOQGZmZmbmSI9A\",\"dtype\":\"float64\",\"shape\":[75]}}},\"id\":\"d2c4c484-a233-4587-8324-b04593244d4e\",\"type\":\"ColumnDataSource\"},{\"attributes\":{\"source\":{\"id\":\"1013d588-e2f6-4008-9d23-529538181574\",\"type\":\"ColumnDataSource\"}},\"id\":\"528bcc6a-9b88-4937-b144-c361a8d41eb6\",\"type\":\"CDSView\"},{\"attributes\":{\"overlay\":{\"id\":\"34912785-60d1-4328-a6d7-8fd211d129e5\",\"type\":\"BoxAnnotation\"}},\"id\":\"b73c204c-4639-4f80-80c1-d474e56e3ede\",\"type\":\"BoxZoomTool\"},{\"attributes\":{},\"id\":\"e063d178-af34-452e-9a9c-78a52b83ea59\",\"type\":\"WheelZoomTool\"},{\"attributes\":{},\"id\":\"fa4ce41a-7f75-4b39-b328-b5e14097419c\",\"type\":\"BasicTicker\"},{\"attributes\":{},\"id\":\"813c3a29-938e-4464-9cf9-0df9ddd4cb9b\",\"type\":\"PanTool\"},{\"attributes\":{\"callback\":null,\"end\":0.01,\"start\":1020},\"id\":\"dc615b84-ff71-4b6c-a9b8-d249c0443a3e\",\"type\":\"Range1d\"},{\"attributes\":{\"axis_label\":\"cooling rate [K/day]\",\"formatter\":{\"id\":\"27cd3ce5-668b-4b44-be81-8a0563765511\",\"type\":\"BasicTickFormatter\"},\"plot\":{\"id\":\"1b96ef56-017d-4167-a282-57dd117d36e9\",\"subtype\":\"Figure\",\"type\":\"Plot\"},\"ticker\":{\"id\":\"ceb4bcfa-e73f-495b-a11e-62f49c384ccd\",\"type\":\"BasicTicker\"}},\"id\":\"31abf0ba-abbd-46d6-9dec-a70932495ce8\",\"type\":\"LinearAxis\"},{\"attributes\":{\"callback\":null,\"column_names\":[\"x\",\"y\"],\"data\":{\"x\":{\"__ndarray__\":\"iCOv0emuib+0yy5NTkOJv9CRHZoAY4i/TjJJl8R6h78y2wmHwo2Gv2oDVJE6nIW/ZuBkQX+mhL+Exmsd3qyDv8Tp7PkdsIK/XIycpSaxgb+NmtZ+V7GAv2oYQ9tfrXq//JOPi1AGeL+w25JeFZ15v/Jw638TYmu/7G7t50WLYj8SpALKjuSDPxYtjyE/nJU/RSfw84TKoT/pRf9h0cipPzsxi1MkFLI/nWVsoZFztz+KevtSwye5P5GvMopN+rY/rc0sLRZLsz9HD3lUx+2tP36MMHqrBKY/Kr5TYWlpnz8zipkIESyVP72ZV8lVmYo/3vOxt2OVfj+M/4NT1JVmP6lRn1eJqEO/dAA0snpzc79Jgrfan5iEvw61DabYBpG/hCZ1Qf5Llr/iGEiei4mYv6zBoPHpVpi/7tAY/Ol+l7/RBpA8OCGWv7ShordmlZO/jQkxl1Rtj785iYV94tCEvwhmtjf5nmq/ag1LYtXQdT8N3hAQtzaNP9zQCav1oZg/42tYHmdEoT+AYvJzNCinP/uMBk6ISa0/CiP9w4S7sT+swefGdQW1P/84sAg9nLg/2yiZObBevD+z7ZMnOfW/Pxlp0jtPm8E/8Gq5MxMMwz+ehj0nnGHEP2khv4b51cU/d46WPehdxz+bd9ZNrefIP7Is2hR27sk/iaNA2XMdyz+Hg2uLvkTKP0FXjesAhMg/n5UPnI7bxj8T36L2zxHFP+nnuOAtDMQ//gUGOb3Fwz/5wEzjMPvDP16OqmikjMQ/qsMjVB2wxT/3w9fwV/XHPyOpXBOY79A/\",\"dtype\":\"float64\",\"shape\":[75]},\"y\":{\"__ndarray__\":\"GhExyth1ND/Sv8nbtpRIP2vylNV0PVE/aTum7souWD/At0SJ8fVgPw3Iuahxymc/MSNhhJWvcD/bTfBN02d3P2zb5nxnaoA/CD5h5MAGhz8NmeH1TyaQP+zrCsc9p5Y/LbKd76fGnz/bLW5ISEmmPww9YvTcQq8/JV2OstnstT8Er5Y7M8G+P0c+r3jqkcU/5h99k6ZBzj88bCIzFzjVP4enV8oyxN0//yH99nXg5D8qOpLLf0jtP5kqGJXUifQ/c9cS8kHP/D+/DpwzojQEQIEmwoanVwxA4lgXt9HgE0BSSZ2AJuIbQAMJih9jjiNA5q4l5INuK0AwTKYKRj0zQNv5fmq8/DpAaCJseHrtQkB/+zpwzoxKQM3MzMzMeFJAZmZmZmZqWEAAAAAAAFxeQM3MzMzMJmJAmpmZmZkfZUBmZmZmZhhoQDMzMzMzEWtAAAAAAAAKbkBmZmZmZoFwQM3MzMzM/XFAMzMzMzN6c0CamZmZmfZ0QAAAAAAAc3ZAZmZmZmbvd0DNzMzMzGt5QDMzMzMz6HpAmpmZmZlkfEAAAAAAAOF9QGZmZmZmXX9AZmZmZuZsgECamZmZGSuBQM3MzMxM6YFAAAAAAICngkAzMzMzs2WDQGZmZmbmI4RAmpmZmRnihEDNzMzMTKCFQAAAAACAXoZAMzMzM7Mch0BmZmZm5tqHQJqZmZkZmYhAzczMzExXiUAAAAAAgBWKQDMzMzOz04pAZmZmZuaRi0CamZmZGVCMQM3MzMxMDo1AAAAAAIDMjUAzMzMzs4qOQGZmZmbmSI9A\",\"dtype\":\"float64\",\"shape\":[75]}}},\"id\":\"6354e1f5-992d-4813-a6f9-ae6aa28694f5\",\"type\":\"ColumnDataSource\"},{\"attributes\":{\"callback\":null,\"column_names\":[\"x\",\"y\"],\"data\":{\"x\":{\"__ndarray__\":\"t4orUlRCob9zbed8Kgehv7S8jBFypqC/vi9PY1KuoL+L/9O+zaOfv9gpif5m6J+/XzhyBV3Anr+wTy79szWev+Wr5xsGMJ2/P1WFBmLZnL9Hns2lFhycvzetLZ9Z0Ju/iDAqG2m4m78KCQ7rakubv6EWZzI6JZi/VocHjZPUj79mMYHAotlvv04o7r9oa4U/nF9BWJWWnD+rLMAtDh2pP/U9X73OKbM/EmfqGtJNuj+jrpTpwAe8PwKNjdEe1bc/aEI6DEtbsj/Q76U3dmWpP3pYRQsS06A/1o70/zBdlj8mtwfQ2F+OPwU5YgwwHIU/JxQcAjL5fD+dEo1/8d1xP7PsupA2aV0/fojH8K3aTL8QoCoYcVd1v8f+m998X4a/8otzHagokL+dUp2P5FKSv2kG355hFpK/eGROxf2vkb+TsDw2bNWQv5iku7Z6+I2/fQtGgC51h7+eXljfAdx7v6v4ufwrzUS/e6HCCTMKfT8cxyF4ArWQP+U7qvqSFps/lub7Tjhgoj/7WnFT/hOoP7xxppeFZ64/RTWU9uCXsj8u0i4gYB+2PxzMywY+q7k/kZo0FfsuvT/3lHsFkkXAP62h1F5E28E/roNBobdbwz8IXR1bKsrEPygnHHIaP8Y/X/BIQHXBxz8JOnNyMxrJP/bvG9tCwsk/UV+/9Ztoyj+b2kIl6A7JP9Fl3mjP/sY/I73J65glxT9YuxbCpFfDP+/i/bj9csI/e7myuL0swj/ELVn00j3CP3JzpuBbnsI/+2Uo1dtywz+L7SA8+0bFP3fbAa6Wgc8/\",\"dtype\":\"float64\",\"shape\":[75]},\"y\":{\"__ndarray__\":\"GhExyth1ND/Sv8nbtpRIP2vylNV0PVE/aTum7souWD/At0SJ8fVgPw3Iuahxymc/MSNhhJWvcD/bTfBN02d3P2zb5nxnaoA/CD5h5MAGhz8NmeH1TyaQP+zrCsc9p5Y/LbKd76fGnz/bLW5ISEmmPww9YvTcQq8/JV2OstnstT8Er5Y7M8G+P0c+r3jqkcU/5h99k6ZBzj88bCIzFzjVP4enV8oyxN0//yH99nXg5D8qOpLLf0jtP5kqGJXUifQ/c9cS8kHP/D+/DpwzojQEQIEmwoanVwxA4lgXt9HgE0BSSZ2AJuIbQAMJih9jjiNA5q4l5INuK0AwTKYKRj0zQNv5fmq8/DpAaCJseHrtQkB/+zpwzoxKQM3MzMzMeFJAZmZmZmZqWEAAAAAAAFxeQM3MzMzMJmJAmpmZmZkfZUBmZmZmZhhoQDMzMzMzEWtAAAAAAAAKbkBmZmZmZoFwQM3MzMzM/XFAMzMzMzN6c0CamZmZmfZ0QAAAAAAAc3ZAZmZmZmbvd0DNzMzMzGt5QDMzMzMz6HpAmpmZmZlkfEAAAAAAAOF9QGZmZmZmXX9AZmZmZuZsgECamZmZGSuBQM3MzMxM6YFAAAAAAICngkAzMzMzs2WDQGZmZmbmI4RAmpmZmRnihEDNzMzMTKCFQAAAAACAXoZAMzMzM7Mch0BmZmZm5tqHQJqZmZkZmYhAzczMzExXiUAAAAAAgBWKQDMzMzOz04pAZmZmZuaRi0CamZmZGVCMQM3MzMxMDo1AAAAAAIDMjUAzMzMzs4qOQGZmZmbmSI9A\",\"dtype\":\"float64\",\"shape\":[75]}}},\"id\":\"930574ed-72cd-47d8-89cb-f6858001fcf6\",\"type\":\"ColumnDataSource\"},{\"attributes\":{\"data_source\":{\"id\":\"1013d588-e2f6-4008-9d23-529538181574\",\"type\":\"ColumnDataSource\"},\"glyph\":{\"id\":\"a533e5b7-fa4c-4033-8190-1bde6b41ecb4\",\"type\":\"Line\"},\"hover_glyph\":null,\"muted_glyph\":null,\"nonselection_glyph\":{\"id\":\"9ee273b3-8881-49a5-95d0-441c0bd4840f\",\"type\":\"Line\"},\"selection_glyph\":null,\"view\":{\"id\":\"528bcc6a-9b88-4937-b144-c361a8d41eb6\",\"type\":\"CDSView\"}},\"id\":\"80a27409-0519-4c94-9cc3-7a82aab99d00\",\"type\":\"GlyphRenderer\"},{\"attributes\":{\"dimension\":1,\"plot\":{\"id\":\"1b96ef56-017d-4167-a282-57dd117d36e9\",\"subtype\":\"Figure\",\"type\":\"Plot\"},\"ticker\":{\"id\":\"fa4ce41a-7f75-4b39-b328-b5e14097419c\",\"type\":\"BasicTicker\"}},\"id\":\"306e05a3-e6db-4fc2-8b6f-1ca35a92a419\",\"type\":\"Grid\"},{\"attributes\":{},\"id\":\"c1dce3e8-74aa-4017-8051-f16a95de8f33\",\"type\":\"SaveTool\"},{\"attributes\":{},\"id\":\"883f0bb9-2100-4a4b-a2fa-9fc3db0d85d5\",\"type\":\"HelpTool\"},{\"attributes\":{\"source\":{\"id\":\"4a0b4358-fdce-4e5f-9d7d-9778679a9b3d\",\"type\":\"ColumnDataSource\"}},\"id\":\"6df2d1c6-14dd-4e59-90d6-45f6dc30b829\",\"type\":\"CDSView\"},{\"attributes\":{\"bottom_units\":\"screen\",\"fill_alpha\":{\"value\":0.5},\"fill_color\":{\"value\":\"lightgrey\"},\"left_units\":\"screen\",\"level\":\"overlay\",\"line_alpha\":{\"value\":1.0},\"line_color\":{\"value\":\"black\"},\"line_dash\":[4,4],\"line_width\":{\"value\":2},\"plot\":null,\"render_mode\":\"css\",\"right_units\":\"screen\",\"top_units\":\"screen\"},\"id\":\"34912785-60d1-4328-a6d7-8fd211d129e5\",\"type\":\"BoxAnnotation\"},{\"attributes\":{\"fill_alpha\":{\"value\":0.1},\"fill_color\":{\"value\":\"#1f77b4\"},\"line_alpha\":{\"value\":0.1},\"line_color\":{\"value\":\"#1f77b4\"},\"x\":{\"field\":\"x\"},\"y\":{\"field\":\"y\"}},\"id\":\"631c7744-e04b-4c1f-8111-d9ce5202541a\",\"type\":\"InvertedTriangle\"},{\"attributes\":{\"line_alpha\":0.6,\"line_color\":\"#984ea3\",\"line_width\":3,\"x\":{\"field\":\"x\"},\"y\":{\"field\":\"y\"}},\"id\":\"a533e5b7-fa4c-4033-8190-1bde6b41ecb4\",\"type\":\"Line\"},{\"attributes\":{\"callback\":null,\"column_names\":[\"x\",\"y\"],\"data\":{\"x\":{\"__ndarray__\":\"iCOv0emuib+0yy5NTkOJv9CRHZoAY4i/TjJJl8R6h78y2wmHwo2Gv2oDVJE6nIW/ZuBkQX+mhL+Exmsd3qyDv8Tp7PkdsIK/XIycpSaxgb+NmtZ+V7GAv2oYQ9tfrXq//JOPi1AGeL+w25JeFZ15v/Jw638TYmu/7G7t50WLYj8SpALKjuSDPxYtjyE/nJU/RSfw84TKoT/pRf9h0cipPzsxi1MkFLI/nWVsoZFztz+KevtSwye5P5GvMopN+rY/rc0sLRZLsz9HD3lUx+2tP36MMHqrBKY/Kr5TYWlpnz8zipkIESyVP72ZV8lVmYo/3vOxt2OVfj+M/4NT1JVmP6lRn1eJqEO/dAA0snpzc79Jgrfan5iEvw61DabYBpG/hCZ1Qf5Llr/iGEiei4mYv6zBoPHpVpi/7tAY/Ol+l7/RBpA8OCGWv7ShordmlZO/jQkxl1Rtj785iYV94tCEvwhmtjf5nmq/ag1LYtXQdT8N3hAQtzaNP9zQCav1oZg/42tYHmdEoT+AYvJzNCinP/uMBk6ISa0/CiP9w4S7sT+swefGdQW1P/84sAg9nLg/2yiZObBevD+z7ZMnOfW/Pxlp0jtPm8E/8Gq5MxMMwz+ehj0nnGHEP2khv4b51cU/d46WPehdxz+bd9ZNrefIP7Is2hR27sk/iaNA2XMdyz+Hg2uLvkTKP0FXjesAhMg/n5UPnI7bxj8T36L2zxHFP+nnuOAtDMQ//gUGOb3Fwz/5wEzjMPvDP16OqmikjMQ/qsMjVB2wxT/3w9fwV/XHPyOpXBOY79A/\",\"dtype\":\"float64\",\"shape\":[75]},\"y\":{\"__ndarray__\":\"GhExyth1ND/Sv8nbtpRIP2vylNV0PVE/aTum7souWD/At0SJ8fVgPw3Iuahxymc/MSNhhJWvcD/bTfBN02d3P2zb5nxnaoA/CD5h5MAGhz8NmeH1TyaQP+zrCsc9p5Y/LbKd76fGnz/bLW5ISEmmPww9YvTcQq8/JV2OstnstT8Er5Y7M8G+P0c+r3jqkcU/5h99k6ZBzj88bCIzFzjVP4enV8oyxN0//yH99nXg5D8qOpLLf0jtP5kqGJXUifQ/c9cS8kHP/D+/DpwzojQEQIEmwoanVwxA4lgXt9HgE0BSSZ2AJuIbQAMJih9jjiNA5q4l5INuK0AwTKYKRj0zQNv5fmq8/DpAaCJseHrtQkB/+zpwzoxKQM3MzMzMeFJAZmZmZmZqWEAAAAAAAFxeQM3MzMzMJmJAmpmZmZkfZUBmZmZmZhhoQDMzMzMzEWtAAAAAAAAKbkBmZmZmZoFwQM3MzMzM/XFAMzMzMzN6c0CamZmZmfZ0QAAAAAAAc3ZAZmZmZmbvd0DNzMzMzGt5QDMzMzMz6HpAmpmZmZlkfEAAAAAAAOF9QGZmZmZmXX9AZmZmZuZsgECamZmZGSuBQM3MzMxM6YFAAAAAAICngkAzMzMzs2WDQGZmZmbmI4RAmpmZmRnihEDNzMzMTKCFQAAAAACAXoZAMzMzM7Mch0BmZmZm5tqHQJqZmZkZmYhAzczMzExXiUAAAAAAgBWKQDMzMzOz04pAZmZmZuaRi0CamZmZGVCMQM3MzMxMDo1AAAAAAIDMjUAzMzMzs4qOQGZmZmbmSI9A\",\"dtype\":\"float64\",\"shape\":[75]}}},\"id\":\"1ea45e1c-e8dd-4ed3-8943-b841c9af9804\",\"type\":\"ColumnDataSource\"},{\"attributes\":{\"line_alpha\":0.1,\"line_color\":\"#1f77b4\",\"line_width\":3,\"x\":{\"field\":\"x\"},\"y\":{\"field\":\"y\"}},\"id\":\"9ee273b3-8881-49a5-95d0-441c0bd4840f\",\"type\":\"Line\"},{\"attributes\":{},\"id\":\"aedae090-57b6-42d3-b01b-8fd9c464de77\",\"type\":\"PanTool\"},{\"attributes\":{},\"id\":\"9a7e0a1d-9682-4410-8f07-005ee59b0944\",\"type\":\"LinearScale\"},{\"attributes\":{\"data_source\":{\"id\":\"4a0b4358-fdce-4e5f-9d7d-9778679a9b3d\",\"type\":\"ColumnDataSource\"},\"glyph\":{\"id\":\"d6021599-3c18-452c-ae7b-78d8a593229b\",\"type\":\"Square\"},\"hover_glyph\":null,\"muted_glyph\":null,\"nonselection_glyph\":{\"id\":\"aeccb4e2-44b6-4b67-acf1-5c88eefc1e7a\",\"type\":\"Square\"},\"selection_glyph\":null,\"view\":{\"id\":\"6df2d1c6-14dd-4e59-90d6-45f6dc30b829\",\"type\":\"CDSView\"}},\"id\":\"bd2adc23-a9d3-4ade-928b-23297d118e62\",\"type\":\"GlyphRenderer\"},{\"attributes\":{\"fill_alpha\":{\"value\":0.7},\"fill_color\":{\"value\":\"#4daf4a\"},\"line_alpha\":{\"value\":0.7},\"line_color\":{\"value\":\"#4daf4a\"},\"x\":{\"field\":\"x\"},\"y\":{\"field\":\"y\"}},\"id\":\"878ccde4-02ca-48e2-9783-612aa0be9d14\",\"type\":\"Circle\"},{\"attributes\":{\"line_color\":\"#4daf4a\",\"line_width\":1.5,\"x\":{\"field\":\"x\"},\"y\":{\"field\":\"y\"}},\"id\":\"9417e9da-1026-4aba-b6c7-f20a07976970\",\"type\":\"Line\"},{\"attributes\":{\"source\":{\"id\":\"1ea45e1c-e8dd-4ed3-8943-b841c9af9804\",\"type\":\"ColumnDataSource\"}},\"id\":\"a87271ca-063a-42a1-b321-acbee745b48d\",\"type\":\"CDSView\"},{\"attributes\":{},\"id\":\"60675ba0-5e21-4615-9eb0-88d009eb0d31\",\"type\":\"ResetTool\"},{\"attributes\":{\"data_source\":{\"id\":\"6354e1f5-992d-4813-a6f9-ae6aa28694f5\",\"type\":\"ColumnDataSource\"},\"glyph\":{\"id\":\"de09bdae-1e10-409d-939c-975aa66890de\",\"type\":\"Line\"},\"hover_glyph\":null,\"muted_glyph\":null,\"nonselection_glyph\":{\"id\":\"11a380e1-c21d-43f1-a9a2-29b4d265a6e9\",\"type\":\"Line\"},\"selection_glyph\":null,\"view\":{\"id\":\"d83fa511-d31f-4799-be6c-e43b0bce0d0e\",\"type\":\"CDSView\"}},\"id\":\"827841d4-7196-46d8-9398-165a4bba15a7\",\"type\":\"GlyphRenderer\"},{\"attributes\":{},\"id\":\"d40f934c-1873-48b2-9f5d-d4a99e2c061c\",\"type\":\"HelpTool\"},{\"attributes\":{\"fill_alpha\":{\"value\":0.7},\"fill_color\":{\"value\":\"#984ea3\"},\"line_alpha\":{\"value\":0.7},\"line_color\":{\"value\":\"#984ea3\"},\"x\":{\"field\":\"x\"},\"y\":{\"field\":\"y\"}},\"id\":\"d6021599-3c18-452c-ae7b-78d8a593229b\",\"type\":\"Square\"},{\"attributes\":{\"active_drag\":\"auto\",\"active_inspect\":\"auto\",\"active_scroll\":\"auto\",\"active_tap\":\"auto\",\"tools\":[{\"id\":\"813c3a29-938e-4464-9cf9-0df9ddd4cb9b\",\"type\":\"PanTool\"},{\"id\":\"8ddcf1bc-f27f-476d-8beb-bae67e025db1\",\"type\":\"WheelZoomTool\"},{\"id\":\"abed073d-3882-436b-a13b-2110c8bf901a\",\"type\":\"BoxZoomTool\"},{\"id\":\"239eb3bf-fd34-409d-a6df-a0166f7d7a90\",\"type\":\"SaveTool\"},{\"id\":\"60675ba0-5e21-4615-9eb0-88d009eb0d31\",\"type\":\"ResetTool\"},{\"id\":\"d40f934c-1873-48b2-9f5d-d4a99e2c061c\",\"type\":\"HelpTool\"}]},\"id\":\"049a9d2c-4f60-4c84-abda-c47fb6ad2dd1\",\"type\":\"Toolbar\"},{\"attributes\":{\"callback\":null,\"column_names\":[\"x\",\"y\"],\"data\":{\"x\":{\"__ndarray__\":\"GFpNeseAgb8TtHK8tR2Bv/SZzG3EUIC/l7fxz5b4fr+5EeuUFEZ9v/Odil0cinu/cPP/z8XEeb/vVLNc7PV3v7dOgzEAHna/LzUnD0k9dL/VomkAW1Ryv36rw7oCZHC/KmIvGWnXbL9U5Hcvw7NnvzBKUcpwEUC/9KUikvu2dD8Cb+Yvq7KKPwZlCyIBjJc/M9ExMacVoj893gIOQ9mpPyg9xCBfq7E/R3r9u9HWtj/0LmLIf7u4P+VoVgKevrY/El14pwBtsz/I2k53eLGuPzXEE6LFF6c/iGO2lI6aoD/BE2FgqXCWP4F3oaKyrYs/BEAJMpH5fD97yB7dpDtiPxRJdbOfwlq/gr2rnWbadb9ayoUM3GiFv++bOhALFZG/1S2bNmwmlr+QXuuKzVKYvyzFMlbLOJi/eRWqfzaQl7/ETliyyE6Wvx5DByrR/JO/DC2r4wqFkL8za/QtHbqHv4bKPIPYanK/+T1BjBazcD8xgJIwQ0uJP6ewlF0XG5Y/S1CqGhBjoD/Jr3ViPG6mP3gIS4vmQKw/ZwbsyGMWsT+rL5QR7H+0P3mGlJIqebg/R5CMzXW3vD9qiKbDdVLAPzEXhgKV9cE/0roV2wdNwz/DzfPxGoXEP4WbxtVM58U/87exl3WYxz8hyvalp13JPyvm92g3m8o/dIZ38zP5yz88ANo9Fi7LPyrDG0b/U8k/UqKhVgNaxz+PJs3VRUDFP0ARrCZfO8Q/fCOhyrwXxD/Lhz1AOYLEP6sYOrhsW8U/rfWobBa3xj/5MosvXhzJP7nT57S4kNE/\",\"dtype\":\"float64\",\"shape\":[75]},\"y\":{\"__ndarray__\":\"GhExyth1ND/Sv8nbtpRIP2vylNV0PVE/aTum7souWD/At0SJ8fVgPw3Iuahxymc/MSNhhJWvcD/bTfBN02d3P2zb5nxnaoA/CD5h5MAGhz8NmeH1TyaQP+zrCsc9p5Y/LbKd76fGnz/bLW5ISEmmPww9YvTcQq8/JV2OstnstT8Er5Y7M8G+P0c+r3jqkcU/5h99k6ZBzj88bCIzFzjVP4enV8oyxN0//yH99nXg5D8qOpLLf0jtP5kqGJXUifQ/c9cS8kHP/D+/DpwzojQEQIEmwoanVwxA4lgXt9HgE0BSSZ2AJuIbQAMJih9jjiNA5q4l5INuK0AwTKYKRj0zQNv5fmq8/DpAaCJseHrtQkB/+zpwzoxKQM3MzMzMeFJAZmZmZmZqWEAAAAAAAFxeQM3MzMzMJmJAmpmZmZkfZUBmZmZmZhhoQDMzMzMzEWtAAAAAAAAKbkBmZmZmZoFwQM3MzMzM/XFAMzMzMzN6c0CamZmZmfZ0QAAAAAAAc3ZAZmZmZmbvd0DNzMzMzGt5QDMzMzMz6HpAmpmZmZlkfEAAAAAAAOF9QGZmZmZmXX9AZmZmZuZsgECamZmZGSuBQM3MzMxM6YFAAAAAAICngkAzMzMzs2WDQGZmZmbmI4RAmpmZmRnihEDNzMzMTKCFQAAAAACAXoZAMzMzM7Mch0BmZmZm5tqHQJqZmZkZmYhAzczMzExXiUAAAAAAgBWKQDMzMzOz04pAZmZmZuaRi0CamZmZGVCMQM3MzMxMDo1AAAAAAIDMjUAzMzMzs4qOQGZmZmbmSI9A\",\"dtype\":\"float64\",\"shape\":[75]}}},\"id\":\"1013d588-e2f6-4008-9d23-529538181574\",\"type\":\"ColumnDataSource\"},{\"attributes\":{\"bottom_units\":\"screen\",\"fill_alpha\":{\"value\":0.5},\"fill_color\":{\"value\":\"lightgrey\"},\"left_units\":\"screen\",\"level\":\"overlay\",\"line_alpha\":{\"value\":1.0},\"line_color\":{\"value\":\"black\"},\"line_dash\":[4,4],\"line_width\":{\"value\":2},\"plot\":null,\"render_mode\":\"css\",\"right_units\":\"screen\",\"top_units\":\"screen\"},\"id\":\"b7889413-7ce7-4750-a87a-a8472cf37b7b\",\"type\":\"BoxAnnotation\"},{\"attributes\":{\"callback\":null,\"column_names\":[\"x\",\"y\"],\"data\":{\"x\":{\"__ndarray__\":\"t4orUlRCob9zbed8Kgehv7S8jBFypqC/vi9PY1KuoL+L/9O+zaOfv9gpif5m6J+/XzhyBV3Anr+wTy79szWev+Wr5xsGMJ2/P1WFBmLZnL9Hns2lFhycvzetLZ9Z0Ju/iDAqG2m4m78KCQ7rakubv6EWZzI6JZi/VocHjZPUj79mMYHAotlvv04o7r9oa4U/nF9BWJWWnD+rLMAtDh2pP/U9X73OKbM/EmfqGtJNuj+jrpTpwAe8PwKNjdEe1bc/aEI6DEtbsj/Q76U3dmWpP3pYRQsS06A/1o70/zBdlj8mtwfQ2F+OPwU5YgwwHIU/JxQcAjL5fD+dEo1/8d1xP7PsupA2aV0/fojH8K3aTL8QoCoYcVd1v8f+m998X4a/8otzHagokL+dUp2P5FKSv2kG355hFpK/eGROxf2vkb+TsDw2bNWQv5iku7Z6+I2/fQtGgC51h7+eXljfAdx7v6v4ufwrzUS/e6HCCTMKfT8cxyF4ArWQP+U7qvqSFps/lub7Tjhgoj/7WnFT/hOoP7xxppeFZ64/RTWU9uCXsj8u0i4gYB+2PxzMywY+q7k/kZo0FfsuvT/3lHsFkkXAP62h1F5E28E/roNBobdbwz8IXR1bKsrEPygnHHIaP8Y/X/BIQHXBxz8JOnNyMxrJP/bvG9tCwsk/UV+/9Ztoyj+b2kIl6A7JP9Fl3mjP/sY/I73J65glxT9YuxbCpFfDP+/i/bj9csI/e7myuL0swj/ELVn00j3CP3JzpuBbnsI/+2Uo1dtywz+L7SA8+0bFP3fbAa6Wgc8/\",\"dtype\":\"float64\",\"shape\":[75]},\"y\":{\"__ndarray__\":\"GhExyth1ND/Sv8nbtpRIP2vylNV0PVE/aTum7souWD/At0SJ8fVgPw3Iuahxymc/MSNhhJWvcD/bTfBN02d3P2zb5nxnaoA/CD5h5MAGhz8NmeH1TyaQP+zrCsc9p5Y/LbKd76fGnz/bLW5ISEmmPww9YvTcQq8/JV2OstnstT8Er5Y7M8G+P0c+r3jqkcU/5h99k6ZBzj88bCIzFzjVP4enV8oyxN0//yH99nXg5D8qOpLLf0jtP5kqGJXUifQ/c9cS8kHP/D+/DpwzojQEQIEmwoanVwxA4lgXt9HgE0BSSZ2AJuIbQAMJih9jjiNA5q4l5INuK0AwTKYKRj0zQNv5fmq8/DpAaCJseHrtQkB/+zpwzoxKQM3MzMzMeFJAZmZmZmZqWEAAAAAAAFxeQM3MzMzMJmJAmpmZmZkfZUBmZmZmZhhoQDMzMzMzEWtAAAAAAAAKbkBmZmZmZoFwQM3MzMzM/XFAMzMzMzN6c0CamZmZmfZ0QAAAAAAAc3ZAZmZmZmbvd0DNzMzMzGt5QDMzMzMz6HpAmpmZmZlkfEAAAAAAAOF9QGZmZmZmXX9AZmZmZuZsgECamZmZGSuBQM3MzMxM6YFAAAAAAICngkAzMzMzs2WDQGZmZmbmI4RAmpmZmRnihEDNzMzMTKCFQAAAAACAXoZAMzMzM7Mch0BmZmZm5tqHQJqZmZkZmYhAzczMzExXiUAAAAAAgBWKQDMzMzOz04pAZmZmZuaRi0CamZmZGVCMQM3MzMxMDo1AAAAAAIDMjUAzMzMzs4qOQGZmZmbmSI9A\",\"dtype\":\"float64\",\"shape\":[75]}}},\"id\":\"876af947-b7a9-4bb3-a87d-64ac3aa8d459\",\"type\":\"ColumnDataSource\"},{\"attributes\":{\"data_source\":{\"id\":\"876af947-b7a9-4bb3-a87d-64ac3aa8d459\",\"type\":\"ColumnDataSource\"},\"glyph\":{\"id\":\"878ccde4-02ca-48e2-9783-612aa0be9d14\",\"type\":\"Circle\"},\"hover_glyph\":null,\"muted_glyph\":null,\"nonselection_glyph\":{\"id\":\"29356c94-405c-4b11-b234-bc63e8b7f162\",\"type\":\"Circle\"},\"selection_glyph\":null,\"view\":{\"id\":\"a53cf349-8a2b-498c-ab1b-6d027635ff05\",\"type\":\"CDSView\"}},\"id\":\"bd3fef04-2cc3-4f50-befc-c5713e4f4791\",\"type\":\"GlyphRenderer\"},{\"attributes\":{\"fill_alpha\":{\"value\":0.7},\"fill_color\":{\"value\":\"#377eb8\"},\"line_alpha\":{\"value\":0.7},\"line_color\":{\"value\":\"#377eb8\"},\"x\":{\"field\":\"x\"},\"y\":{\"field\":\"y\"}},\"id\":\"cbeef6ef-f8d4-431c-92e6-cb082b731e03\",\"type\":\"InvertedTriangle\"},{\"attributes\":{},\"id\":\"239eb3bf-fd34-409d-a6df-a0166f7d7a90\",\"type\":\"SaveTool\"},{\"attributes\":{\"callback\":null,\"end\":0.27744230294,\"start\":-0.02694639694},\"id\":\"b245d620-1082-4456-a669-7ec6e5e19f72\",\"type\":\"Range1d\"},{\"attributes\":{\"plot\":null,\"text\":\"Linear pressure scale\"},\"id\":\"1280f3c7-3a33-4f76-aadd-f5563250784a\",\"type\":\"Title\"}],\"root_ids\":[\"697422e4-1f7e-4347-94a1-7d5d92e0a1d9\"]},\"title\":\"Bokeh Application\",\"version\":\"0.12.14\"}};\n",
       "  var render_items = [{\"docid\":\"50f2df2f-7a3a-4fa9-ba9f-bbaa273b91f8\",\"elementid\":\"40465bc8-27dd-42cf-bf30-6bdcec73e9e4\",\"modelid\":\"697422e4-1f7e-4347-94a1-7d5d92e0a1d9\"}];\n",
       "  root.Bokeh.embed.embed_items_notebook(docs_json, render_items);\n",
       "\n",
       "  }\n",
       "  if (root.Bokeh !== undefined) {\n",
       "    embed_document(root);\n",
       "  } else {\n",
       "    var attempts = 0;\n",
       "    var timer = setInterval(function(root) {\n",
       "      if (root.Bokeh !== undefined) {\n",
       "        embed_document(root);\n",
       "        clearInterval(timer);\n",
       "      }\n",
       "      attempts++;\n",
       "      if (attempts > 100) {\n",
       "        console.log(\"Bokeh: ERROR: Unable to run BokehJS code because BokehJS library is missing\")\n",
       "        clearInterval(timer);\n",
       "      }\n",
       "    }, 10, root)\n",
       "  }\n",
       "})(window);"
      ],
      "application/vnd.bokehjs_exec.v0+json": ""
     },
     "metadata": {
      "application/vnd.bokehjs_exec.v0+json": {
       "id": "697422e4-1f7e-4347-94a1-7d5d92e0a1d9"
      }
     },
     "output_type": "display_data"
    },
    {
     "name": "stdout",
     "output_type": "stream",
     "text": [
      "FIGURE. Cooling rate profiles.\n"
     ]
    },
    {
     "data": {
      "text/html": [
       "<a id=\"Flux_Comparison\"></a>"
      ],
      "text/plain": [
       "<IPython.core.display.HTML object>"
      ]
     },
     "metadata": {},
     "output_type": "display_data"
    },
    {
     "data": {
      "text/markdown": [
       "# Flux Comparison"
      ],
      "text/plain": [
       "<IPython.core.display.Markdown object>"
      ]
     },
     "metadata": {},
     "output_type": "display_data"
    },
    {
     "data": {
      "text/html": [
       "<div>\n",
       "<style>\n",
       "    .dataframe thead tr:only-child th {\n",
       "        text-align: right;\n",
       "    }\n",
       "\n",
       "    .dataframe thead th {\n",
       "        text-align: left;\n",
       "    }\n",
       "\n",
       "    .dataframe tbody tr th {\n",
       "        vertical-align: top;\n",
       "    }\n",
       "</style>\n",
       "<table border=\"1\" class=\"dataframe\">\n",
       "  <thead>\n",
       "    <tr style=\"text-align: right;\">\n",
       "      <th></th>\n",
       "      <th></th>\n",
       "      <th>flug</th>\n",
       "      <th>fldg</th>\n",
       "      <th>fnetg</th>\n",
       "    </tr>\n",
       "    <tr>\n",
       "      <th>pressure</th>\n",
       "      <th>level</th>\n",
       "      <th></th>\n",
       "      <th></th>\n",
       "      <th></th>\n",
       "    </tr>\n",
       "  </thead>\n",
       "  <tbody>\n",
       "    <tr>\n",
       "      <th>0.0000</th>\n",
       "      <th>1</th>\n",
       "      <td>-15.215896</td>\n",
       "      <td>0.000000</td>\n",
       "      <td>-15.215896</td>\n",
       "    </tr>\n",
       "    <tr>\n",
       "      <th>1.0685</th>\n",
       "      <th>24</th>\n",
       "      <td>-15.215135</td>\n",
       "      <td>0.007944</td>\n",
       "      <td>-15.207191</td>\n",
       "    </tr>\n",
       "    <tr>\n",
       "      <th>1013.0000</th>\n",
       "      <th>76</th>\n",
       "      <td>-26.962746</td>\n",
       "      <td>22.512917</td>\n",
       "      <td>-4.449829</td>\n",
       "    </tr>\n",
       "  </tbody>\n",
       "</table>\n",
       "</div>"
      ],
      "text/plain": [
       "                      flug       fldg      fnetg\n",
       "pressure  level                                 \n",
       "0.0000    1     -15.215896   0.000000 -15.215896\n",
       "1.0685    24    -15.215135   0.007944 -15.207191\n",
       "1013.0000 76    -26.962746  22.512917  -4.449829"
      ]
     },
     "metadata": {},
     "output_type": "display_data"
    },
    {
     "name": "stdout",
     "output_type": "stream",
     "text": [
      "Table. Fluxes. CRD\n"
     ]
    },
    {
     "data": {
      "text/html": [
       "<div>\n",
       "<style>\n",
       "    .dataframe thead tr:only-child th {\n",
       "        text-align: right;\n",
       "    }\n",
       "\n",
       "    .dataframe thead th {\n",
       "        text-align: left;\n",
       "    }\n",
       "\n",
       "    .dataframe tbody tr th {\n",
       "        vertical-align: top;\n",
       "    }\n",
       "</style>\n",
       "<table border=\"1\" class=\"dataframe\">\n",
       "  <thead>\n",
       "    <tr style=\"text-align: right;\">\n",
       "      <th></th>\n",
       "      <th></th>\n",
       "      <th>flug</th>\n",
       "      <th>fldg</th>\n",
       "      <th>fnetg</th>\n",
       "    </tr>\n",
       "    <tr>\n",
       "      <th>pressure</th>\n",
       "      <th>level</th>\n",
       "      <th></th>\n",
       "      <th></th>\n",
       "      <th></th>\n",
       "    </tr>\n",
       "  </thead>\n",
       "  <tbody>\n",
       "    <tr>\n",
       "      <th>0.0000</th>\n",
       "      <th>1</th>\n",
       "      <td>-15.507949</td>\n",
       "      <td>0.000000</td>\n",
       "      <td>-15.507949</td>\n",
       "    </tr>\n",
       "    <tr>\n",
       "      <th>1.0685</th>\n",
       "      <th>24</th>\n",
       "      <td>-15.505377</td>\n",
       "      <td>0.005728</td>\n",
       "      <td>-15.499649</td>\n",
       "    </tr>\n",
       "    <tr>\n",
       "      <th>1013.0000</th>\n",
       "      <th>76</th>\n",
       "      <td>-26.962746</td>\n",
       "      <td>22.599099</td>\n",
       "      <td>-4.363647</td>\n",
       "    </tr>\n",
       "  </tbody>\n",
       "</table>\n",
       "</div>"
      ],
      "text/plain": [
       "                      flug       fldg      fnetg\n",
       "pressure  level                                 \n",
       "0.0000    1     -15.507949   0.000000 -15.507949\n",
       "1.0685    24    -15.505377   0.005728 -15.499649\n",
       "1013.0000 76    -26.962746  22.599099  -4.363647"
      ]
     },
     "metadata": {},
     "output_type": "display_data"
    },
    {
     "name": "stdout",
     "output_type": "stream",
     "text": [
      "Table. Fluxes. WGT igg=10\n"
     ]
    },
    {
     "data": {
      "text/html": [
       "<div>\n",
       "<style>\n",
       "    .dataframe thead tr:only-child th {\n",
       "        text-align: right;\n",
       "    }\n",
       "\n",
       "    .dataframe thead th {\n",
       "        text-align: left;\n",
       "    }\n",
       "\n",
       "    .dataframe tbody tr th {\n",
       "        vertical-align: top;\n",
       "    }\n",
       "</style>\n",
       "<table border=\"1\" class=\"dataframe\">\n",
       "  <thead>\n",
       "    <tr style=\"text-align: right;\">\n",
       "      <th></th>\n",
       "      <th></th>\n",
       "      <th>flug</th>\n",
       "      <th>fldg</th>\n",
       "      <th>fnetg</th>\n",
       "    </tr>\n",
       "    <tr>\n",
       "      <th>pressure</th>\n",
       "      <th>level</th>\n",
       "      <th></th>\n",
       "      <th></th>\n",
       "      <th></th>\n",
       "    </tr>\n",
       "  </thead>\n",
       "  <tbody>\n",
       "    <tr>\n",
       "      <th>0.0000</th>\n",
       "      <th>1</th>\n",
       "      <td>-15.368148</td>\n",
       "      <td>0.000000</td>\n",
       "      <td>-15.368148</td>\n",
       "    </tr>\n",
       "    <tr>\n",
       "      <th>1.0685</th>\n",
       "      <th>24</th>\n",
       "      <td>-15.365839</td>\n",
       "      <td>0.006071</td>\n",
       "      <td>-15.359768</td>\n",
       "    </tr>\n",
       "    <tr>\n",
       "      <th>1013.0000</th>\n",
       "      <th>76</th>\n",
       "      <td>-26.962746</td>\n",
       "      <td>22.549092</td>\n",
       "      <td>-4.413654</td>\n",
       "    </tr>\n",
       "  </tbody>\n",
       "</table>\n",
       "</div>"
      ],
      "text/plain": [
       "                      flug       fldg      fnetg\n",
       "pressure  level                                 \n",
       "0.0000    1     -15.368148   0.000000 -15.368148\n",
       "1.0685    24    -15.365839   0.006071 -15.359768\n",
       "1013.0000 76    -26.962746  22.549092  -4.413654"
      ]
     },
     "metadata": {},
     "output_type": "display_data"
    },
    {
     "name": "stdout",
     "output_type": "stream",
     "text": [
      "Table. Fluxes. WGT igg=1\n"
     ]
    },
    {
     "data": {
      "text/html": [
       "<div>\n",
       "<style>\n",
       "    .dataframe thead tr:only-child th {\n",
       "        text-align: right;\n",
       "    }\n",
       "\n",
       "    .dataframe thead th {\n",
       "        text-align: left;\n",
       "    }\n",
       "\n",
       "    .dataframe tbody tr th {\n",
       "        vertical-align: top;\n",
       "    }\n",
       "</style>\n",
       "<table border=\"1\" class=\"dataframe\">\n",
       "  <thead>\n",
       "    <tr style=\"text-align: right;\">\n",
       "      <th></th>\n",
       "      <th></th>\n",
       "      <th>flug</th>\n",
       "      <th>fldg</th>\n",
       "      <th>fnetg</th>\n",
       "    </tr>\n",
       "    <tr>\n",
       "      <th>pressure</th>\n",
       "      <th>level</th>\n",
       "      <th></th>\n",
       "      <th></th>\n",
       "      <th></th>\n",
       "    </tr>\n",
       "  </thead>\n",
       "  <tbody>\n",
       "    <tr>\n",
       "      <th>0.0000</th>\n",
       "      <th>1</th>\n",
       "      <td>-0.292053</td>\n",
       "      <td>0.000000</td>\n",
       "      <td>-0.292053</td>\n",
       "    </tr>\n",
       "    <tr>\n",
       "      <th>1.0685</th>\n",
       "      <th>24</th>\n",
       "      <td>-0.290242</td>\n",
       "      <td>-0.002216</td>\n",
       "      <td>-0.292458</td>\n",
       "    </tr>\n",
       "    <tr>\n",
       "      <th>1013.0000</th>\n",
       "      <th>76</th>\n",
       "      <td>0.000000</td>\n",
       "      <td>0.086182</td>\n",
       "      <td>0.086182</td>\n",
       "    </tr>\n",
       "  </tbody>\n",
       "</table>\n",
       "</div>"
      ],
      "text/plain": [
       "                     flug      fldg     fnetg\n",
       "pressure  level                              \n",
       "0.0000    1     -0.292053  0.000000 -0.292053\n",
       "1.0685    24    -0.290242 -0.002216 -0.292458\n",
       "1013.0000 76     0.000000  0.086182  0.086182"
      ]
     },
     "metadata": {},
     "output_type": "display_data"
    },
    {
     "name": "stdout",
     "output_type": "stream",
     "text": [
      "Table. Fluxes. (WGT igg=10) - (CRD)\n"
     ]
    },
    {
     "data": {
      "text/html": [
       "<div>\n",
       "<style>\n",
       "    .dataframe thead tr:only-child th {\n",
       "        text-align: right;\n",
       "    }\n",
       "\n",
       "    .dataframe thead th {\n",
       "        text-align: left;\n",
       "    }\n",
       "\n",
       "    .dataframe tbody tr th {\n",
       "        vertical-align: top;\n",
       "    }\n",
       "</style>\n",
       "<table border=\"1\" class=\"dataframe\">\n",
       "  <thead>\n",
       "    <tr style=\"text-align: right;\">\n",
       "      <th></th>\n",
       "      <th></th>\n",
       "      <th>flug</th>\n",
       "      <th>fldg</th>\n",
       "      <th>fnetg</th>\n",
       "    </tr>\n",
       "    <tr>\n",
       "      <th>pressure</th>\n",
       "      <th>level</th>\n",
       "      <th></th>\n",
       "      <th></th>\n",
       "      <th></th>\n",
       "    </tr>\n",
       "  </thead>\n",
       "  <tbody>\n",
       "    <tr>\n",
       "      <th>0.0000</th>\n",
       "      <th>1</th>\n",
       "      <td>-0.152252</td>\n",
       "      <td>0.000000</td>\n",
       "      <td>-0.152252</td>\n",
       "    </tr>\n",
       "    <tr>\n",
       "      <th>1.0685</th>\n",
       "      <th>24</th>\n",
       "      <td>-0.150704</td>\n",
       "      <td>-0.001873</td>\n",
       "      <td>-0.152577</td>\n",
       "    </tr>\n",
       "    <tr>\n",
       "      <th>1013.0000</th>\n",
       "      <th>76</th>\n",
       "      <td>0.000000</td>\n",
       "      <td>0.036175</td>\n",
       "      <td>0.036176</td>\n",
       "    </tr>\n",
       "  </tbody>\n",
       "</table>\n",
       "</div>"
      ],
      "text/plain": [
       "                     flug      fldg     fnetg\n",
       "pressure  level                              \n",
       "0.0000    1     -0.152252  0.000000 -0.152252\n",
       "1.0685    24    -0.150704 -0.001873 -0.152577\n",
       "1013.0000 76     0.000000  0.036175  0.036176"
      ]
     },
     "metadata": {},
     "output_type": "display_data"
    },
    {
     "name": "stdout",
     "output_type": "stream",
     "text": [
      "Table. Fluxes. (WGT igg=1) - (CRD)\n"
     ]
    },
    {
     "data": {
      "text/html": [
       "<a id=\"Best-fit_Parameters\"></a>"
      ],
      "text/plain": [
       "<IPython.core.display.HTML object>"
      ]
     },
     "metadata": {},
     "output_type": "display_data"
    },
    {
     "data": {
      "text/markdown": [
       "# Best-fit Parameters"
      ],
      "text/plain": [
       "<IPython.core.display.Markdown object>"
      ]
     },
     "metadata": {},
     "output_type": "display_data"
    },
    {
     "name": "stdout",
     "output_type": "stream",
     "text": [
      "Best-fit values for each (gas, band)\n",
      "------------------------------------\n",
      "o h2o band7\n",
      "  molecule = h2o\n",
      "  band = 7\n",
      "  commitnumber = 043bdfe\n",
      "  vmin = 1215\n",
      "  vmax = 1380\n",
      "  dv = 0.001\n",
      "  nv = 1000\n",
      "  ref_pts = [(600, 250)]\n",
      "  ng_refs = [7]\n",
      "  ng_adju = [0]\n",
      "  klin = 0\n",
      "  option_wgt_k = 1\n",
      "  wgt = [(0.5, 0.5, 0.5, 0.5, 0.5, 0.5, 0.9)]\n",
      "  w_diffuse = [(2, 1.6, 1.6, 1.6, 1.6, 1.6, 1.8)]\n",
      "  option_wgt_flux = 1\n",
      "  atmpro = mls\n",
      "  tsfc = 294\n",
      "  conc = None\n",
      "  option_compute_btable = 0\n",
      "  option_compute_ktable = 0\n",
      "o n2o band7\n",
      "  molecule = n2o\n",
      "  band = 7\n",
      "  commitnumber = 043bdfe\n",
      "  vmin = 1215\n",
      "  vmax = 1380\n",
      "  dv = 0.001\n",
      "  nv = 1000\n",
      "  ref_pts = [(1, 250), (500, 250)]\n",
      "  ng_refs = [2, 2]\n",
      "  ng_adju = [0, 0]\n",
      "  klin = 2.22e-20\n",
      "  option_wgt_k = 1\n",
      "  wgt = [(0.6, 0.5), (0.6, 0.9)]\n",
      "  w_diffuse = [(1.8, 1.66), (1.6, 1.8)]\n",
      "  option_wgt_flux = 1\n",
      "  atmpro = mls\n",
      "  tsfc = 294\n",
      "  conc = 3.2e-07\n",
      "  option_compute_btable = 0\n",
      "  option_compute_ktable = 0\n"
     ]
    }
   ],
   "source": [
    "script()"
   ]
  },
  {
   "cell_type": "code",
   "execution_count": 12,
   "metadata": {},
   "outputs": [
    {
     "data": {
      "text/html": [
       "<script>\n",
       "code_show=true; \n",
       "function code_toggle() {\n",
       " if (code_show){\n",
       " $('div.input').hide();\n",
       " } else {\n",
       " $('div.input').show();\n",
       " }\n",
       " code_show = !code_show\n",
       "} \n",
       "$( document ).ready(code_toggle);\n",
       "</script>\n",
       "<form action=\"javascript:code_toggle()\"><input type=\"submit\" value=\"Click here to toggle on/off the raw code.\"></form>"
      ],
      "text/plain": [
       "<IPython.core.display.HTML object>"
      ]
     },
     "execution_count": 12,
     "metadata": {},
     "output_type": "execute_result"
    }
   ],
   "source": [
    "display.HTML('''<script>\n",
    "code_show=true; \n",
    "function code_toggle() {\n",
    " if (code_show){\n",
    " $('div.input').hide();\n",
    " } else {\n",
    " $('div.input').show();\n",
    " }\n",
    " code_show = !code_show\n",
    "} \n",
    "$( document ).ready(code_toggle);\n",
    "</script>\n",
    "<form action=\"javascript:code_toggle()\"><input type=\"submit\" value=\"Click here to toggle on/off the raw code.\"></form>''')"
   ]
  }
 ],
 "metadata": {
  "kernelspec": {
   "display_name": "Python 3",
   "language": "python",
   "name": "python3"
  },
  "language_info": {
   "codemirror_mode": {
    "name": "ipython",
    "version": 3
   },
   "file_extension": ".py",
   "mimetype": "text/x-python",
   "name": "python",
   "nbconvert_exporter": "python",
   "pygments_lexer": "ipython3",
   "version": "3.6.1"
  }
 },
 "nbformat": 4,
 "nbformat_minor": 2
}
