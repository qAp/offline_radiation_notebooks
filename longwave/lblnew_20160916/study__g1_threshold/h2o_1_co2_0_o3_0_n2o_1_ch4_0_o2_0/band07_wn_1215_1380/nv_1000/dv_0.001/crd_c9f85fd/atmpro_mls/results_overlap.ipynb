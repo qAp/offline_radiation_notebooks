{
 "cells": [
  {
   "cell_type": "code",
   "execution_count": 1,
   "metadata": {
    "collapsed": true
   },
   "outputs": [],
   "source": [
    "%matplotlib inline\n",
    "import os\n",
    "import re\n",
    "import io\n",
    "import itertools\n",
    "import pprint\n",
    "\n",
    "from bokeh.io import output_notebook, show\n",
    "from bokeh.layouts import gridplot\n",
    "from bokeh.plotting import figure\n",
    "from bokeh.models import Range1d, Legend\n",
    "from bokeh.palettes import all_palettes\n",
    "\n",
    "import matplotlib\n",
    "import matplotlib.pyplot as plt\n",
    "import numpy as np\n",
    "import pandas as pd\n",
    "import xarray as xr\n",
    "\n",
    "import climatools.lblnew.bestfit_params as bestfits\n",
    "from climatools.lblnew import setup_bestfit, setup_overlap\n",
    "import climatools.lblnew.pipeline as pipe_lblnew\n",
    "\n",
    "import climatools.html.html as climahtml\n",
    "from climatools.lblnew.dataio import *\n",
    "from climatools.plot.plot import *\n",
    "\n",
    "\n",
    "import IPython.display as display"
   ]
  },
  {
   "cell_type": "code",
   "execution_count": 2,
   "metadata": {
    "collapsed": true
   },
   "outputs": [],
   "source": [
    "%run param.py"
   ]
  },
  {
   "cell_type": "code",
   "execution_count": 3,
   "metadata": {
    "collapsed": true
   },
   "outputs": [],
   "source": [
    "def load_output_file(path_csv):\n",
    "    '''\n",
    "    Load lblnew output .csv file to xarray.Dataset\n",
    "    \n",
    "    Parameters\n",
    "    ----------\n",
    "    path_csv: str\n",
    "              Path to the .csv file to be loaded.\n",
    "    ds: xarray.Dataset\n",
    "        Data in the input file in the form of an xarray.Dataset.\n",
    "    '''\n",
    "    toindex = ['band', 'pressure', 'igg', 'g']    \n",
    "    df = pd.read_csv(path_csv, sep=r'\\s+')\n",
    "    df = df.set_index([i for i in toindex if i in df.columns])\n",
    "    df = df.rename(columns={'sfu': 'flug',\n",
    "                            'sfd': 'fldg',\n",
    "                            'fnet': 'fnetg',\n",
    "                            'coolr': 'coolrg'})\n",
    "    ds = xr.Dataset.from_dataframe(df)\n",
    "\n",
    "    for l in ('level', 'layer'):\n",
    "        if l in ds.data_vars:\n",
    "            if len(ds[l].dims) > 1:\n",
    "                surface = {d: 0 for d in ds.dims if d != 'pressure'}\n",
    "                coord_level = ds[l][surface]\n",
    "                ds.coords[l] = ('pressure', coord_level)\n",
    "            else:\n",
    "                ds.coords[l] = ('pressure', ds[l])\n",
    "    \n",
    "    return ds"
   ]
  },
  {
   "cell_type": "code",
   "execution_count": 4,
   "metadata": {
    "collapsed": true
   },
   "outputs": [],
   "source": [
    "def lblnew_setup(param=None):\n",
    "    if 'ng_refs' in param:\n",
    "        return {'setup': setup_bestfit,\n",
    "                'fname_flux_crd': 'output_flux.dat',\n",
    "                'fname_cool_crd': 'output_coolr.dat',\n",
    "                'fname_flux_wgt': 'output_wfluxg.dat',\n",
    "                'fname_cool_wgt': 'output_wcoolrg.dat'}\n",
    "    else:\n",
    "        return {'setup': setup_overlap,\n",
    "                'fname_flux_crd': 'output_flux.dat',\n",
    "                'fname_cool_crd': 'output_coolr.dat',\n",
    "                'fname_flux_wgt': 'output_wflux.dat',\n",
    "                'fname_cool_wgt': 'output_wcoolr.dat'}\n",
    "\n",
    "    \n",
    "def load_lblnew_data(param):\n",
    "    \n",
    "    fname_dsname = [('fname_flux_crd', 'ds_flux_crd'),\n",
    "                    ('fname_cool_crd', 'ds_cool_crd'),\n",
    "                    ('fname_flux_wgt', 'ds_flux_wgt'),\n",
    "                    ('fname_cool_wgt', 'ds_cool_wgt')]\n",
    "    \n",
    "    d = lblnew_setup(param)\n",
    "    dir_fortran = pipe_lblnew.get_dir_case(param, setup=d['setup'])\n",
    "    \n",
    "    data_dict = {}\n",
    "    for fname, dsname in fname_dsname:\n",
    "        fpath = os.path.join(dir_fortran, d[fname])\n",
    "        data_dict[dsname] = load_output_file(fpath)\n",
    "    return data_dict\n",
    "    \n",
    "\n",
    "    \n",
    "    "
   ]
  },
  {
   "cell_type": "code",
   "execution_count": 5,
   "metadata": {
    "collapsed": true
   },
   "outputs": [],
   "source": [
    "d = load_lblnew_data(PARAM)\n",
    "\n",
    "DS_FLUX_CRD = d['ds_flux_crd']\n",
    "DS_COOL_CRD = d['ds_cool_crd']\n",
    "DS_FLUX_WGT = d['ds_flux_wgt']\n",
    "DS_COOL_WGT = d['ds_cool_wgt']"
   ]
  },
  {
   "cell_type": "code",
   "execution_count": 6,
   "metadata": {},
   "outputs": [
    {
     "data": {
      "text/html": [
       "\n",
       "    <div class=\"bk-root\">\n",
       "        <a href=\"https://bokeh.pydata.org\" target=\"_blank\" class=\"bk-logo bk-logo-small bk-logo-notebook\"></a>\n",
       "        <span id=\"c47d7b2a-0e7d-4fb7-95df-a1b188897d5e\">Loading BokehJS ...</span>\n",
       "    </div>"
      ]
     },
     "metadata": {},
     "output_type": "display_data"
    },
    {
     "data": {
      "application/javascript": [
       "\n",
       "(function(root) {\n",
       "  function now() {\n",
       "    return new Date();\n",
       "  }\n",
       "\n",
       "  var force = true;\n",
       "\n",
       "  if (typeof (root._bokeh_onload_callbacks) === \"undefined\" || force === true) {\n",
       "    root._bokeh_onload_callbacks = [];\n",
       "    root._bokeh_is_loading = undefined;\n",
       "  }\n",
       "\n",
       "  var JS_MIME_TYPE = 'application/javascript';\n",
       "  var HTML_MIME_TYPE = 'text/html';\n",
       "  var EXEC_MIME_TYPE = 'application/vnd.bokehjs_exec.v0+json';\n",
       "  var CLASS_NAME = 'output_bokeh rendered_html';\n",
       "\n",
       "  /**\n",
       "   * Render data to the DOM node\n",
       "   */\n",
       "  function render(props, node) {\n",
       "    var script = document.createElement(\"script\");\n",
       "    node.appendChild(script);\n",
       "  }\n",
       "\n",
       "  /**\n",
       "   * Handle when an output is cleared or removed\n",
       "   */\n",
       "  function handleClearOutput(event, handle) {\n",
       "    var cell = handle.cell;\n",
       "\n",
       "    var id = cell.output_area._bokeh_element_id;\n",
       "    var server_id = cell.output_area._bokeh_server_id;\n",
       "    // Clean up Bokeh references\n",
       "    if (id !== undefined) {\n",
       "      Bokeh.index[id].model.document.clear();\n",
       "      delete Bokeh.index[id];\n",
       "    }\n",
       "\n",
       "    if (server_id !== undefined) {\n",
       "      // Clean up Bokeh references\n",
       "      var cmd = \"from bokeh.io.state import curstate; print(curstate().uuid_to_server['\" + server_id + \"'].get_sessions()[0].document.roots[0]._id)\";\n",
       "      cell.notebook.kernel.execute(cmd, {\n",
       "        iopub: {\n",
       "          output: function(msg) {\n",
       "            var element_id = msg.content.text.trim();\n",
       "            Bokeh.index[element_id].model.document.clear();\n",
       "            delete Bokeh.index[element_id];\n",
       "          }\n",
       "        }\n",
       "      });\n",
       "      // Destroy server and session\n",
       "      var cmd = \"import bokeh.io.notebook as ion; ion.destroy_server('\" + server_id + \"')\";\n",
       "      cell.notebook.kernel.execute(cmd);\n",
       "    }\n",
       "  }\n",
       "\n",
       "  /**\n",
       "   * Handle when a new output is added\n",
       "   */\n",
       "  function handleAddOutput(event, handle) {\n",
       "    var output_area = handle.output_area;\n",
       "    var output = handle.output;\n",
       "\n",
       "    // limit handleAddOutput to display_data with EXEC_MIME_TYPE content only\n",
       "    if ((output.output_type != \"display_data\") || (!output.data.hasOwnProperty(EXEC_MIME_TYPE))) {\n",
       "      return\n",
       "    }\n",
       "\n",
       "    var toinsert = output_area.element.find(\".\" + CLASS_NAME.split(' ')[0]);\n",
       "\n",
       "    if (output.metadata[EXEC_MIME_TYPE][\"id\"] !== undefined) {\n",
       "      toinsert[0].firstChild.textContent = output.data[JS_MIME_TYPE];\n",
       "      // store reference to embed id on output_area\n",
       "      output_area._bokeh_element_id = output.metadata[EXEC_MIME_TYPE][\"id\"];\n",
       "    }\n",
       "    if (output.metadata[EXEC_MIME_TYPE][\"server_id\"] !== undefined) {\n",
       "      var bk_div = document.createElement(\"div\");\n",
       "      bk_div.innerHTML = output.data[HTML_MIME_TYPE];\n",
       "      var script_attrs = bk_div.children[0].attributes;\n",
       "      for (var i = 0; i < script_attrs.length; i++) {\n",
       "        toinsert[0].firstChild.setAttribute(script_attrs[i].name, script_attrs[i].value);\n",
       "      }\n",
       "      // store reference to server id on output_area\n",
       "      output_area._bokeh_server_id = output.metadata[EXEC_MIME_TYPE][\"server_id\"];\n",
       "    }\n",
       "  }\n",
       "\n",
       "  function register_renderer(events, OutputArea) {\n",
       "\n",
       "    function append_mime(data, metadata, element) {\n",
       "      // create a DOM node to render to\n",
       "      var toinsert = this.create_output_subarea(\n",
       "        metadata,\n",
       "        CLASS_NAME,\n",
       "        EXEC_MIME_TYPE\n",
       "      );\n",
       "      this.keyboard_manager.register_events(toinsert);\n",
       "      // Render to node\n",
       "      var props = {data: data, metadata: metadata[EXEC_MIME_TYPE]};\n",
       "      render(props, toinsert[0]);\n",
       "      element.append(toinsert);\n",
       "      return toinsert\n",
       "    }\n",
       "\n",
       "    /* Handle when an output is cleared or removed */\n",
       "    events.on('clear_output.CodeCell', handleClearOutput);\n",
       "    events.on('delete.Cell', handleClearOutput);\n",
       "\n",
       "    /* Handle when a new output is added */\n",
       "    events.on('output_added.OutputArea', handleAddOutput);\n",
       "\n",
       "    /**\n",
       "     * Register the mime type and append_mime function with output_area\n",
       "     */\n",
       "    OutputArea.prototype.register_mime_type(EXEC_MIME_TYPE, append_mime, {\n",
       "      /* Is output safe? */\n",
       "      safe: true,\n",
       "      /* Index of renderer in `output_area.display_order` */\n",
       "      index: 0\n",
       "    });\n",
       "  }\n",
       "\n",
       "  // register the mime type if in Jupyter Notebook environment and previously unregistered\n",
       "  if (root.Jupyter !== undefined) {\n",
       "    var events = require('base/js/events');\n",
       "    var OutputArea = require('notebook/js/outputarea').OutputArea;\n",
       "\n",
       "    if (OutputArea.prototype.mime_types().indexOf(EXEC_MIME_TYPE) == -1) {\n",
       "      register_renderer(events, OutputArea);\n",
       "    }\n",
       "  }\n",
       "\n",
       "  \n",
       "  if (typeof (root._bokeh_timeout) === \"undefined\" || force === true) {\n",
       "    root._bokeh_timeout = Date.now() + 5000;\n",
       "    root._bokeh_failed_load = false;\n",
       "  }\n",
       "\n",
       "  var NB_LOAD_WARNING = {'data': {'text/html':\n",
       "     \"<div style='background-color: #fdd'>\\n\"+\n",
       "     \"<p>\\n\"+\n",
       "     \"BokehJS does not appear to have successfully loaded. If loading BokehJS from CDN, this \\n\"+\n",
       "     \"may be due to a slow or bad network connection. Possible fixes:\\n\"+\n",
       "     \"</p>\\n\"+\n",
       "     \"<ul>\\n\"+\n",
       "     \"<li>re-rerun `output_notebook()` to attempt to load from CDN again, or</li>\\n\"+\n",
       "     \"<li>use INLINE resources instead, as so:</li>\\n\"+\n",
       "     \"</ul>\\n\"+\n",
       "     \"<code>\\n\"+\n",
       "     \"from bokeh.resources import INLINE\\n\"+\n",
       "     \"output_notebook(resources=INLINE)\\n\"+\n",
       "     \"</code>\\n\"+\n",
       "     \"</div>\"}};\n",
       "\n",
       "  function display_loaded() {\n",
       "    var el = document.getElementById(\"c47d7b2a-0e7d-4fb7-95df-a1b188897d5e\");\n",
       "    if (el != null) {\n",
       "      el.textContent = \"BokehJS is loading...\";\n",
       "    }\n",
       "    if (root.Bokeh !== undefined) {\n",
       "      if (el != null) {\n",
       "        el.textContent = \"BokehJS \" + root.Bokeh.version + \" successfully loaded.\";\n",
       "      }\n",
       "    } else if (Date.now() < root._bokeh_timeout) {\n",
       "      setTimeout(display_loaded, 100)\n",
       "    }\n",
       "  }\n",
       "\n",
       "\n",
       "  function run_callbacks() {\n",
       "    try {\n",
       "      root._bokeh_onload_callbacks.forEach(function(callback) { callback() });\n",
       "    }\n",
       "    finally {\n",
       "      delete root._bokeh_onload_callbacks\n",
       "    }\n",
       "    console.info(\"Bokeh: all callbacks have finished\");\n",
       "  }\n",
       "\n",
       "  function load_libs(js_urls, callback) {\n",
       "    root._bokeh_onload_callbacks.push(callback);\n",
       "    if (root._bokeh_is_loading > 0) {\n",
       "      console.log(\"Bokeh: BokehJS is being loaded, scheduling callback at\", now());\n",
       "      return null;\n",
       "    }\n",
       "    if (js_urls == null || js_urls.length === 0) {\n",
       "      run_callbacks();\n",
       "      return null;\n",
       "    }\n",
       "    console.log(\"Bokeh: BokehJS not loaded, scheduling load and callback at\", now());\n",
       "    root._bokeh_is_loading = js_urls.length;\n",
       "    for (var i = 0; i < js_urls.length; i++) {\n",
       "      var url = js_urls[i];\n",
       "      var s = document.createElement('script');\n",
       "      s.src = url;\n",
       "      s.async = false;\n",
       "      s.onreadystatechange = s.onload = function() {\n",
       "        root._bokeh_is_loading--;\n",
       "        if (root._bokeh_is_loading === 0) {\n",
       "          console.log(\"Bokeh: all BokehJS libraries loaded\");\n",
       "          run_callbacks()\n",
       "        }\n",
       "      };\n",
       "      s.onerror = function() {\n",
       "        console.warn(\"failed to load library \" + url);\n",
       "      };\n",
       "      console.log(\"Bokeh: injecting script tag for BokehJS library: \", url);\n",
       "      document.getElementsByTagName(\"head\")[0].appendChild(s);\n",
       "    }\n",
       "  };var element = document.getElementById(\"c47d7b2a-0e7d-4fb7-95df-a1b188897d5e\");\n",
       "  if (element == null) {\n",
       "    console.log(\"Bokeh: ERROR: autoload.js configured with elementid 'c47d7b2a-0e7d-4fb7-95df-a1b188897d5e' but no matching script tag was found. \")\n",
       "    return false;\n",
       "  }\n",
       "\n",
       "  var js_urls = [\"https://cdn.pydata.org/bokeh/release/bokeh-0.12.14.min.js\", \"https://cdn.pydata.org/bokeh/release/bokeh-widgets-0.12.14.min.js\", \"https://cdn.pydata.org/bokeh/release/bokeh-tables-0.12.14.min.js\", \"https://cdn.pydata.org/bokeh/release/bokeh-gl-0.12.14.min.js\"];\n",
       "\n",
       "  var inline_js = [\n",
       "    function(Bokeh) {\n",
       "      Bokeh.set_log_level(\"info\");\n",
       "    },\n",
       "    \n",
       "    function(Bokeh) {\n",
       "      \n",
       "    },\n",
       "    function(Bokeh) {\n",
       "      console.log(\"Bokeh: injecting CSS: https://cdn.pydata.org/bokeh/release/bokeh-0.12.14.min.css\");\n",
       "      Bokeh.embed.inject_css(\"https://cdn.pydata.org/bokeh/release/bokeh-0.12.14.min.css\");\n",
       "      console.log(\"Bokeh: injecting CSS: https://cdn.pydata.org/bokeh/release/bokeh-widgets-0.12.14.min.css\");\n",
       "      Bokeh.embed.inject_css(\"https://cdn.pydata.org/bokeh/release/bokeh-widgets-0.12.14.min.css\");\n",
       "      console.log(\"Bokeh: injecting CSS: https://cdn.pydata.org/bokeh/release/bokeh-tables-0.12.14.min.css\");\n",
       "      Bokeh.embed.inject_css(\"https://cdn.pydata.org/bokeh/release/bokeh-tables-0.12.14.min.css\");\n",
       "    }\n",
       "  ];\n",
       "\n",
       "  function run_inline_js() {\n",
       "    \n",
       "    if ((root.Bokeh !== undefined) || (force === true)) {\n",
       "      for (var i = 0; i < inline_js.length; i++) {\n",
       "        inline_js[i].call(root, root.Bokeh);\n",
       "      }if (force === true) {\n",
       "        display_loaded();\n",
       "      }} else if (Date.now() < root._bokeh_timeout) {\n",
       "      setTimeout(run_inline_js, 100);\n",
       "    } else if (!root._bokeh_failed_load) {\n",
       "      console.log(\"Bokeh: BokehJS failed to load within specified timeout.\");\n",
       "      root._bokeh_failed_load = true;\n",
       "    } else if (force !== true) {\n",
       "      var cell = $(document.getElementById(\"c47d7b2a-0e7d-4fb7-95df-a1b188897d5e\")).parents('.cell').data().cell;\n",
       "      cell.output_area.append_execute_result(NB_LOAD_WARNING)\n",
       "    }\n",
       "\n",
       "  }\n",
       "\n",
       "  if (root._bokeh_is_loading === 0) {\n",
       "    console.log(\"Bokeh: BokehJS loaded, going straight to plotting\");\n",
       "    run_inline_js();\n",
       "  } else {\n",
       "    load_libs(js_urls, function() {\n",
       "      console.log(\"Bokeh: BokehJS plotting callback run at\", now());\n",
       "      run_inline_js();\n",
       "    });\n",
       "  }\n",
       "}(window));"
      ],
      "application/vnd.bokehjs_load.v0+json": "\n(function(root) {\n  function now() {\n    return new Date();\n  }\n\n  var force = true;\n\n  if (typeof (root._bokeh_onload_callbacks) === \"undefined\" || force === true) {\n    root._bokeh_onload_callbacks = [];\n    root._bokeh_is_loading = undefined;\n  }\n\n  \n\n  \n  if (typeof (root._bokeh_timeout) === \"undefined\" || force === true) {\n    root._bokeh_timeout = Date.now() + 5000;\n    root._bokeh_failed_load = false;\n  }\n\n  var NB_LOAD_WARNING = {'data': {'text/html':\n     \"<div style='background-color: #fdd'>\\n\"+\n     \"<p>\\n\"+\n     \"BokehJS does not appear to have successfully loaded. If loading BokehJS from CDN, this \\n\"+\n     \"may be due to a slow or bad network connection. Possible fixes:\\n\"+\n     \"</p>\\n\"+\n     \"<ul>\\n\"+\n     \"<li>re-rerun `output_notebook()` to attempt to load from CDN again, or</li>\\n\"+\n     \"<li>use INLINE resources instead, as so:</li>\\n\"+\n     \"</ul>\\n\"+\n     \"<code>\\n\"+\n     \"from bokeh.resources import INLINE\\n\"+\n     \"output_notebook(resources=INLINE)\\n\"+\n     \"</code>\\n\"+\n     \"</div>\"}};\n\n  function display_loaded() {\n    var el = document.getElementById(\"c47d7b2a-0e7d-4fb7-95df-a1b188897d5e\");\n    if (el != null) {\n      el.textContent = \"BokehJS is loading...\";\n    }\n    if (root.Bokeh !== undefined) {\n      if (el != null) {\n        el.textContent = \"BokehJS \" + root.Bokeh.version + \" successfully loaded.\";\n      }\n    } else if (Date.now() < root._bokeh_timeout) {\n      setTimeout(display_loaded, 100)\n    }\n  }\n\n\n  function run_callbacks() {\n    try {\n      root._bokeh_onload_callbacks.forEach(function(callback) { callback() });\n    }\n    finally {\n      delete root._bokeh_onload_callbacks\n    }\n    console.info(\"Bokeh: all callbacks have finished\");\n  }\n\n  function load_libs(js_urls, callback) {\n    root._bokeh_onload_callbacks.push(callback);\n    if (root._bokeh_is_loading > 0) {\n      console.log(\"Bokeh: BokehJS is being loaded, scheduling callback at\", now());\n      return null;\n    }\n    if (js_urls == null || js_urls.length === 0) {\n      run_callbacks();\n      return null;\n    }\n    console.log(\"Bokeh: BokehJS not loaded, scheduling load and callback at\", now());\n    root._bokeh_is_loading = js_urls.length;\n    for (var i = 0; i < js_urls.length; i++) {\n      var url = js_urls[i];\n      var s = document.createElement('script');\n      s.src = url;\n      s.async = false;\n      s.onreadystatechange = s.onload = function() {\n        root._bokeh_is_loading--;\n        if (root._bokeh_is_loading === 0) {\n          console.log(\"Bokeh: all BokehJS libraries loaded\");\n          run_callbacks()\n        }\n      };\n      s.onerror = function() {\n        console.warn(\"failed to load library \" + url);\n      };\n      console.log(\"Bokeh: injecting script tag for BokehJS library: \", url);\n      document.getElementsByTagName(\"head\")[0].appendChild(s);\n    }\n  };var element = document.getElementById(\"c47d7b2a-0e7d-4fb7-95df-a1b188897d5e\");\n  if (element == null) {\n    console.log(\"Bokeh: ERROR: autoload.js configured with elementid 'c47d7b2a-0e7d-4fb7-95df-a1b188897d5e' but no matching script tag was found. \")\n    return false;\n  }\n\n  var js_urls = [\"https://cdn.pydata.org/bokeh/release/bokeh-0.12.14.min.js\", \"https://cdn.pydata.org/bokeh/release/bokeh-widgets-0.12.14.min.js\", \"https://cdn.pydata.org/bokeh/release/bokeh-tables-0.12.14.min.js\", \"https://cdn.pydata.org/bokeh/release/bokeh-gl-0.12.14.min.js\"];\n\n  var inline_js = [\n    function(Bokeh) {\n      Bokeh.set_log_level(\"info\");\n    },\n    \n    function(Bokeh) {\n      \n    },\n    function(Bokeh) {\n      console.log(\"Bokeh: injecting CSS: https://cdn.pydata.org/bokeh/release/bokeh-0.12.14.min.css\");\n      Bokeh.embed.inject_css(\"https://cdn.pydata.org/bokeh/release/bokeh-0.12.14.min.css\");\n      console.log(\"Bokeh: injecting CSS: https://cdn.pydata.org/bokeh/release/bokeh-widgets-0.12.14.min.css\");\n      Bokeh.embed.inject_css(\"https://cdn.pydata.org/bokeh/release/bokeh-widgets-0.12.14.min.css\");\n      console.log(\"Bokeh: injecting CSS: https://cdn.pydata.org/bokeh/release/bokeh-tables-0.12.14.min.css\");\n      Bokeh.embed.inject_css(\"https://cdn.pydata.org/bokeh/release/bokeh-tables-0.12.14.min.css\");\n    }\n  ];\n\n  function run_inline_js() {\n    \n    if ((root.Bokeh !== undefined) || (force === true)) {\n      for (var i = 0; i < inline_js.length; i++) {\n        inline_js[i].call(root, root.Bokeh);\n      }if (force === true) {\n        display_loaded();\n      }} else if (Date.now() < root._bokeh_timeout) {\n      setTimeout(run_inline_js, 100);\n    } else if (!root._bokeh_failed_load) {\n      console.log(\"Bokeh: BokehJS failed to load within specified timeout.\");\n      root._bokeh_failed_load = true;\n    } else if (force !== true) {\n      var cell = $(document.getElementById(\"c47d7b2a-0e7d-4fb7-95df-a1b188897d5e\")).parents('.cell').data().cell;\n      cell.output_area.append_execute_result(NB_LOAD_WARNING)\n    }\n\n  }\n\n  if (root._bokeh_is_loading === 0) {\n    console.log(\"Bokeh: BokehJS loaded, going straight to plotting\");\n    run_inline_js();\n  } else {\n    load_libs(js_urls, function() {\n      console.log(\"Bokeh: BokehJS plotting callback run at\", now());\n      run_inline_js();\n    });\n  }\n}(window));"
     },
     "metadata": {},
     "output_type": "display_data"
    }
   ],
   "source": [
    "output_notebook()"
   ]
  },
  {
   "cell_type": "code",
   "execution_count": 7,
   "metadata": {
    "collapsed": true
   },
   "outputs": [],
   "source": [
    "def fmt_cool(ds_in):\n",
    "    ds = ds_in.copy(deep=True)\n",
    "    if 'igg' in ds.dims:\n",
    "        ds = ds.sel(igg=1)\n",
    "\n",
    "    if 'g' in ds.dims:\n",
    "        ds = ds.sum('g')\n",
    "            \n",
    "    if 'band' in ds.dims:\n",
    "        try:\n",
    "            ds = ds.squeeze('band')\n",
    "        except ValueError:\n",
    "            ds = ds.sum('band')\n",
    "                \n",
    "    return ds['coolrg']\n",
    "\n",
    "\n",
    "def pltdata_cooling_1(ds_cool_crd=None, ds_cool_wgt=None):\n",
    "    \n",
    "\n",
    "\n",
    "    colors = all_palettes['Set1'][4]\n",
    "    data = [{'label': 'CRD',\n",
    "             'srs': fmt_cool(ds_cool_crd),\n",
    "             'line_dash': 'solid', 'line_width': 1.5,\n",
    "             'marker': 'circle', 'marker_size': 5,\n",
    "             'color': colors[2], 'alpha': 1,},\n",
    "            {'label': 'WGT igg=10',\n",
    "             'srs': fmt_cool(ds_cool_wgt.sel(igg=10)),\n",
    "             'line_dash': 'solid', 'line_width': 3,\n",
    "             'marker': 'square', 'marker_size': 5,\n",
    "             'color': colors[3], 'alpha': .6},\n",
    "            {'label': 'WGT igg=1',\n",
    "             'srs': fmt_cool(ds_cool_wgt.sel(igg=1)),\n",
    "             'line_dash': 'dotdash', 'line_width': 3,\n",
    "             'marker': 'inverted_triangle', 'marker_size': 5,\n",
    "             'color': colors[1], 'alpha': .6}\n",
    "           ]\n",
    "    return data\n",
    "\n",
    "\n",
    "def nice_xlims(pltdata=None, prange=None):\n",
    "    \n",
    "    def get_slice(srs):\n",
    "        return srs.sel(pressure=slice(*prange))\n",
    "    \n",
    "    srss = [d['srs'] for d in pltdata]\n",
    "    vmin = min([get_slice(srs).min() for srs in srss])\n",
    "    vmax = max([get_slice(srs).max() for srs in srss])\n",
    "    dv = (vmax - vmin) * .01\n",
    "    return float(vmin - dv), float(vmax + dv)\n",
    "    \n",
    "\n",
    "def plt_cooling_bokeh(pltdata=None):\n",
    "    '''\n",
    "    Plot a list of cooling rate profiles using bokeh.\n",
    "    '''\n",
    "    ymin = 1e-2 \n",
    "    ymax = 1020 \n",
    "        \n",
    "    p1 = figure(title=\"Linear pressure scale\", \n",
    "                plot_width=400)        \n",
    "    xmin, xmax = nice_xlims(pltdata, prange=(50, 1050))\n",
    "    for d in pltdata:\n",
    "        if 'marker' in d:\n",
    "            getattr(p1, d['marker'])(d['srs'].values, \n",
    "                    d['srs'].coords['pressure'].values,\n",
    "                    color=d['color'], alpha=.7)\n",
    "        p1.line(d['srs'].values, \n",
    "                d['srs'].coords['pressure'].values,\n",
    "                color=d['color'], alpha=d['alpha'], \n",
    "                line_width=d['line_width'], line_dash=d['line_dash'])\n",
    "    \n",
    "    p1.y_range = Range1d(ymax, ymin)\n",
    "    p1.yaxis.axis_label = 'pressure [mb]'   \n",
    "    p1.x_range = Range1d(xmin, xmax)\n",
    "    p1.xaxis.axis_label = 'cooling rate [K/day]'\n",
    "            \n",
    "    p2 = figure(title='Log pressure scale', y_axis_type='log',\n",
    "                plot_width=560)\n",
    "    xmin, xmax = nice_xlims(pltdata, prange=(.01, 200))\n",
    "    \n",
    "    rs = []\n",
    "    for d in pltdata:\n",
    "        rd = []\n",
    "        if 'marker' in d:\n",
    "            r_mark = getattr(p2, d['marker'])(d['srs'].values, \n",
    "                        d['srs'].coords['pressure'].values,\n",
    "                        color=d['color'], alpha=.7)\n",
    "            rd.append(r_mark)\n",
    "        r_line = p2.line(d['srs'].values, \n",
    "                    d['srs'].coords['pressure'].values,\n",
    "                    color=d['color'], alpha=d['alpha'], \n",
    "                    line_width=d['line_width'], line_dash=d['line_dash'])\n",
    "        rd.append(r_line)\n",
    "      \n",
    "        rs.append(rd)\n",
    "        \n",
    "    p2.y_range = Range1d(ymax, ymin)  \n",
    "    p2.yaxis.axis_label = 'pressure [mb]'\n",
    "    \n",
    "    p2.x_range = Range1d(xmin, xmax)\n",
    "    p2.xaxis.axis_label = 'cooling rate [K/day]'\n",
    "    \n",
    "    items = [(d['label'], r) for r, d in zip(rs, pltdata)]\n",
    "    legend = Legend(items=items, location=(10, -30))\n",
    "    legend.label_text_font_size = '8pt'\n",
    "    \n",
    "    p2.add_layout(legend, 'right')  \n",
    "    \n",
    "    show(gridplot(p1, p2, ncols=2, plot_height=500))\n",
    "    \n",
    "\n",
    "def script_plt_cooling():\n",
    "    pltdata = pltdata_cooling_1(\n",
    "        ds_cool_crd=DS_COOL_CRD,\n",
    "        ds_cool_wgt=DS_COOL_WGT)\n",
    "    plt_cooling_bokeh(pltdata=pltdata)\n",
    "    print('''FIGURE. Cooling rate profiles.''')"
   ]
  },
  {
   "cell_type": "code",
   "execution_count": 8,
   "metadata": {
    "collapsed": true
   },
   "outputs": [],
   "source": [
    "def fmt_flux(ds_in):\n",
    "    ds = ds_in.copy(deep=True)\n",
    "    \n",
    "    for l in ('level', 'layer'):\n",
    "        if l in ds.data_vars:\n",
    "            if len(ds[l].dims) > 1:\n",
    "                surface = {d: 0 for d in ds.dims if d != 'pressure'}\n",
    "                coord_level = ds[l][surface]\n",
    "                ds.coords[l] = ('pressure', coord_level)\n",
    "            else:\n",
    "                ds.coords[l] = ('pressure', ds[l])\n",
    "        \n",
    "    ds = ds.isel(pressure=[0, 23, -1])\n",
    "    \n",
    "    if 'igg' in ds.dims:\n",
    "        if ds.dims['igg'] > 1:\n",
    "            print('Select an igg value to view in table.')\n",
    "            raise ValueError\n",
    "        else:\n",
    "            ds = ds.squeeze('igg').drop('igg')\n",
    "    else:\n",
    "        if 'igg' in ds.coords:\n",
    "            ds = ds.drop('igg')\n",
    "\n",
    "    if 'g' in ds.dims:\n",
    "        ds = ds.sum('g')\n",
    "            \n",
    "    if 'band' in ds.dims:\n",
    "        try:\n",
    "            ds = ds.squeeze('band').drop('band')\n",
    "        except ValueError:\n",
    "            ds = ds.sum('band')\n",
    "                \n",
    "    df = ds.to_dataframe()\n",
    "    df = df.set_index('level', append=True)               \n",
    "    return df\n",
    "\n",
    "\n",
    "def tbdata_flux(ds_flux_crd=None, ds_flux_wgt=None):\n",
    "    ilevels = [0, 23, -1]\n",
    "            \n",
    "    benchmark = {'label': 'CRD',\n",
    "                 'df': fmt_flux(ds_flux_crd)}\n",
    "    tbs = [{'label': 'WGT igg=10',\n",
    "            'df': fmt_flux(ds_flux_wgt.sel(igg=10))},\n",
    "           {'label': 'WGT igg=1',\n",
    "            'df': fmt_flux(ds_flux_wgt.sel(igg=1))}]\n",
    "    \n",
    "    data = {'benchmark': benchmark, 'others': tbs}\n",
    "    return data\n",
    "\n",
    "\n",
    "def tb_flux(tbdata=None):\n",
    "    benchmark = tbdata['benchmark']\n",
    "    others = tbdata['others']\n",
    "    \n",
    "    def show_tb(d=None):\n",
    "        display.display(d['df'])\n",
    "        print('Table.', 'Fluxes.', d['label'])\n",
    "        \n",
    "    def show_tbdiff(d0=None, d=None):\n",
    "        df = d['df']\n",
    "        df.index = d0['df'].index\n",
    "        display.display(df - d0['df'])\n",
    "        print('Table.', 'Fluxes.', \n",
    "              '({}) - ({})'.format(d['label'], d0['label']))\n",
    "        \n",
    "    show_tb(benchmark)\n",
    "    for d in others:\n",
    "        show_tb(d)\n",
    "        \n",
    "    for d in others:\n",
    "        show_tbdiff(d=d, d0=benchmark)\n",
    "        \n",
    "        \n",
    "def script_tb_flux():\n",
    "    data = tbdata_flux(ds_flux_crd=DS_FLUX_CRD,\n",
    "                       ds_flux_wgt=DS_FLUX_WGT)\n",
    "    tb_flux(tbdata=data)"
   ]
  },
  {
   "cell_type": "code",
   "execution_count": 9,
   "metadata": {
    "collapsed": true
   },
   "outputs": [],
   "source": [
    "def band_map():\n",
    "    '''\n",
    "    Maps spectral bands in lblnew to spectral bands in clirad.\n",
    "    '''\n",
    "    lblnew2clirad = {'1': '1',\n",
    "            '2': '2',\n",
    "            '3a': '3',\n",
    "            '3b': '4',\n",
    "            '3c': '5',\n",
    "            '4': '6', \n",
    "            '5': '7',\n",
    "            '6': '8',\n",
    "            '7': '9', \n",
    "            '8': '10',\n",
    "            '9': '11'}\n",
    "    \n",
    "    clirad2lblnew = {clirad: lblnew \n",
    "                     for lblnew, clirad in lblnew2clirad.items()}\n",
    "    return clirad2lblnew\n",
    "\n",
    "\n",
    "def gasbands():\n",
    "    bmap = band_map()\n",
    "    gases = list(PARAM['molecule'].keys())\n",
    "    \n",
    "    bands = [str(b) for b in PARAM['band']]\n",
    "    return list(itertools.product(gases, bands))\n",
    "\n",
    "\n",
    "def print_bestfit_params():\n",
    "    print('Best-fit values for each (gas, band)')\n",
    "    print('------------------------------------')\n",
    "    for gas, band in gasbands():\n",
    "        print('o {} band{}'.format(gas, band))\n",
    "        param = bestfits.kdist_params(molecule=gas, band=band)\n",
    "        for name, value in param.items():\n",
    "            print(2 * ' ' + '{} = {}'.format(name, value))\n",
    "\n",
    "        \n",
    "def print_input_param():        \n",
    "    for name, value in PARAM.items():\n",
    "        print('{} = {}'.format(name, value))\n"
   ]
  },
  {
   "cell_type": "code",
   "execution_count": 10,
   "metadata": {
    "collapsed": true,
    "scrolled": false
   },
   "outputs": [],
   "source": [
    "def show_html(s):\n",
    "    display.display(display.HTML(s))\n",
    "\n",
    "    \n",
    "def show_markdown(s):\n",
    "    display.display(display.Markdown(s))\n",
    "\n",
    "    \n",
    "def script():\n",
    "    \n",
    "    title = '### LBLNEW-OVERLAP'\n",
    "    s_input = 'Input Parameters'\n",
    "    s_bestfits = 'Best-fit Parameters'\n",
    "    s_plt_cooling = 'Cooling Rate Profiles'\n",
    "    s_tb_flux = 'Flux Comparison'\n",
    "    \n",
    "    # title\n",
    "    show_markdown(title)\n",
    "    \n",
    "    # TOC\n",
    "    show_markdown('### Table of Contents')\n",
    "    show_html(climahtml.getHTML_hrefanchor(s_input))\n",
    "    show_html(climahtml.getHTML_hrefanchor(s_plt_cooling))\n",
    "    show_html(climahtml.getHTML_hrefanchor(s_tb_flux))\n",
    "    show_html(climahtml.getHTML_hrefanchor(s_bestfits))\n",
    "    \n",
    "    # Input parameters\n",
    "    show_html(climahtml.getHTML_idanchor(s_input))\n",
    "    show_markdown(climahtml.getMarkdown_sectitle(s_input))\n",
    "    print_input_param()\n",
    "    \n",
    "    # Cooling rate profiles\n",
    "    show_html(climahtml.getHTML_idanchor(s_plt_cooling))\n",
    "    show_markdown(climahtml.getMarkdown_sectitle(s_plt_cooling))\n",
    "    script_plt_cooling()\n",
    "    \n",
    "    # Flux comparison\n",
    "    show_html(climahtml.getHTML_idanchor(s_tb_flux))\n",
    "    show_markdown(climahtml.getMarkdown_sectitle(s_tb_flux))\n",
    "    script_tb_flux()\n",
    "    \n",
    "    # Best-fit values\n",
    "    show_html(climahtml.getHTML_idanchor(s_bestfits))\n",
    "    show_markdown(climahtml.getMarkdown_sectitle(s_bestfits))\n",
    "    print_bestfit_params()\n",
    "   \n",
    "    "
   ]
  },
  {
   "cell_type": "code",
   "execution_count": 11,
   "metadata": {
    "scrolled": false
   },
   "outputs": [
    {
     "data": {
      "text/markdown": [
       "### LBLNEW-OVERLAP"
      ],
      "text/plain": [
       "<IPython.core.display.Markdown object>"
      ]
     },
     "metadata": {},
     "output_type": "display_data"
    },
    {
     "data": {
      "text/markdown": [
       "### Table of Contents"
      ],
      "text/plain": [
       "<IPython.core.display.Markdown object>"
      ]
     },
     "metadata": {},
     "output_type": "display_data"
    },
    {
     "data": {
      "text/html": [
       "<a href=\"#Input_Parameters\">Input Parameters</a>"
      ],
      "text/plain": [
       "<IPython.core.display.HTML object>"
      ]
     },
     "metadata": {},
     "output_type": "display_data"
    },
    {
     "data": {
      "text/html": [
       "<a href=\"#Cooling_Rate_Profiles\">Cooling Rate Profiles</a>"
      ],
      "text/plain": [
       "<IPython.core.display.HTML object>"
      ]
     },
     "metadata": {},
     "output_type": "display_data"
    },
    {
     "data": {
      "text/html": [
       "<a href=\"#Flux_Comparison\">Flux Comparison</a>"
      ],
      "text/plain": [
       "<IPython.core.display.HTML object>"
      ]
     },
     "metadata": {},
     "output_type": "display_data"
    },
    {
     "data": {
      "text/html": [
       "<a href=\"#Best-fit_Parameters\">Best-fit Parameters</a>"
      ],
      "text/plain": [
       "<IPython.core.display.HTML object>"
      ]
     },
     "metadata": {},
     "output_type": "display_data"
    },
    {
     "data": {
      "text/html": [
       "<a id=\"Input_Parameters\"></a>"
      ],
      "text/plain": [
       "<IPython.core.display.HTML object>"
      ]
     },
     "metadata": {},
     "output_type": "display_data"
    },
    {
     "data": {
      "text/markdown": [
       "# Input Parameters"
      ],
      "text/plain": [
       "<IPython.core.display.Markdown object>"
      ]
     },
     "metadata": {},
     "output_type": "display_data"
    },
    {
     "name": "stdout",
     "output_type": "stream",
     "text": [
      "commitnumber = c9f85fd\n",
      "molecule = {'h2o': 'atmpro', 'n2o': 3.2e-07}\n",
      "band = 7\n",
      "nv = 1000\n",
      "dv = 0.001\n",
      "atmpro = mls\n",
      "tsfc = 294\n"
     ]
    },
    {
     "data": {
      "text/html": [
       "<a id=\"Cooling_Rate_Profiles\"></a>"
      ],
      "text/plain": [
       "<IPython.core.display.HTML object>"
      ]
     },
     "metadata": {},
     "output_type": "display_data"
    },
    {
     "data": {
      "text/markdown": [
       "# Cooling Rate Profiles"
      ],
      "text/plain": [
       "<IPython.core.display.Markdown object>"
      ]
     },
     "metadata": {},
     "output_type": "display_data"
    },
    {
     "data": {
      "text/html": [
       "\n",
       "<div class=\"bk-root\">\n",
       "    <div class=\"bk-plotdiv\" id=\"67d48acf-3ff2-4876-a23d-36699cf21af7\"></div>\n",
       "</div>"
      ]
     },
     "metadata": {},
     "output_type": "display_data"
    },
    {
     "data": {
      "application/javascript": [
       "(function(root) {\n",
       "  function embed_document(root) {\n",
       "    \n",
       "  var docs_json = {\"5904c6bd-c591-4f8f-bb43-13200f102857\":{\"roots\":{\"references\":[{\"attributes\":{},\"id\":\"38889dd3-ef97-4374-a3c0-e8b4c2338062\",\"type\":\"PanTool\"},{\"attributes\":{\"callback\":null,\"end\":0.13238138884,\"start\":-0.03693645284},\"id\":\"95643474-037b-4f50-aeef-3fac334f0b4d\",\"type\":\"Range1d\"},{\"attributes\":{\"bottom_units\":\"screen\",\"fill_alpha\":{\"value\":0.5},\"fill_color\":{\"value\":\"lightgrey\"},\"left_units\":\"screen\",\"level\":\"overlay\",\"line_alpha\":{\"value\":1.0},\"line_color\":{\"value\":\"black\"},\"line_dash\":[4,4],\"line_width\":{\"value\":2},\"plot\":null,\"render_mode\":\"css\",\"right_units\":\"screen\",\"top_units\":\"screen\"},\"id\":\"fc1cff17-46db-4f5b-8362-de35a01a7480\",\"type\":\"BoxAnnotation\"},{\"attributes\":{\"source\":{\"id\":\"596f0348-44d2-4896-8708-a3bcd3b668be\",\"type\":\"ColumnDataSource\"}},\"id\":\"517ca86d-77b7-4e23-8a97-bb755086a2e3\",\"type\":\"CDSView\"},{\"attributes\":{\"items\":[{\"id\":\"0199b08d-f021-491b-a203-a5f56c9e895d\",\"type\":\"LegendItem\"},{\"id\":\"0d7ac2d7-27f9-415b-a579-f9ab64a86c54\",\"type\":\"LegendItem\"},{\"id\":\"5ef8cfdb-3edf-421b-bd40-266862a3b55d\",\"type\":\"LegendItem\"}],\"label_text_font_size\":{\"value\":\"8pt\"},\"location\":[10,-30],\"plot\":{\"id\":\"7211d4f1-315c-460f-b040-526f8fd7b3e1\",\"subtype\":\"Figure\",\"type\":\"Plot\"}},\"id\":\"bc6d9144-4238-407a-9ece-c4a29ee6b338\",\"type\":\"Legend\"},{\"attributes\":{\"toolbar\":{\"id\":\"70ab4dd0-93bc-4853-8bdc-dc72a6ff071d\",\"type\":\"ProxyToolbar\"},\"toolbar_location\":\"above\"},\"id\":\"b7464c11-78b3-443b-8f8b-aae26731ea36\",\"type\":\"ToolbarBox\"},{\"attributes\":{},\"id\":\"fe0632b5-8333-472b-8188-4ebdedade71c\",\"type\":\"WheelZoomTool\"},{\"attributes\":{\"label\":{\"value\":\"WGT igg=10\"},\"renderers\":[{\"id\":\"6a9e4c2e-5809-484f-90f1-f8fc0ded232c\",\"type\":\"GlyphRenderer\"},{\"id\":\"c4296881-8486-4ec1-95b6-db9c8b3e5fc9\",\"type\":\"GlyphRenderer\"}]},\"id\":\"0d7ac2d7-27f9-415b-a579-f9ab64a86c54\",\"type\":\"LegendItem\"},{\"attributes\":{},\"id\":\"6d51cf11-4b5b-440f-b472-1a109cc13798\",\"type\":\"SaveTool\"},{\"attributes\":{\"tools\":[{\"id\":\"70aebc09-ec9d-476b-a9bb-23a19c7a7bb0\",\"type\":\"PanTool\"},{\"id\":\"4f68e185-4182-4a78-aac0-d5bb3e7246e4\",\"type\":\"WheelZoomTool\"},{\"id\":\"fc1ca226-432f-4c65-9aad-c0e8dafb2a49\",\"type\":\"BoxZoomTool\"},{\"id\":\"cd602c3a-4c69-434e-a360-2948b348d919\",\"type\":\"SaveTool\"},{\"id\":\"c318f394-bbb1-4591-9e70-962cfbc3785b\",\"type\":\"ResetTool\"},{\"id\":\"d3c64613-169a-45a6-8914-f14562fae973\",\"type\":\"HelpTool\"},{\"id\":\"38889dd3-ef97-4374-a3c0-e8b4c2338062\",\"type\":\"PanTool\"},{\"id\":\"fe0632b5-8333-472b-8188-4ebdedade71c\",\"type\":\"WheelZoomTool\"},{\"id\":\"774a76f7-db37-4bae-a83d-9e929159d580\",\"type\":\"BoxZoomTool\"},{\"id\":\"6d51cf11-4b5b-440f-b472-1a109cc13798\",\"type\":\"SaveTool\"},{\"id\":\"7abfab9f-8510-42ae-bc62-87382769347a\",\"type\":\"ResetTool\"},{\"id\":\"91600def-93de-48aa-b660-43b7b48db636\",\"type\":\"HelpTool\"}]},\"id\":\"70ab4dd0-93bc-4853-8bdc-dc72a6ff071d\",\"type\":\"ProxyToolbar\"},{\"attributes\":{\"callback\":null,\"end\":0.01,\"start\":1020},\"id\":\"6adef9e9-e721-402b-bebd-44b8e71e3a36\",\"type\":\"Range1d\"},{\"attributes\":{\"fill_alpha\":{\"value\":0.7},\"fill_color\":{\"value\":\"#4daf4a\"},\"line_alpha\":{\"value\":0.7},\"line_color\":{\"value\":\"#4daf4a\"},\"x\":{\"field\":\"x\"},\"y\":{\"field\":\"y\"}},\"id\":\"e91260c9-bded-4295-9dd5-63392395ee54\",\"type\":\"Circle\"},{\"attributes\":{\"label\":{\"value\":\"CRD\"},\"renderers\":[{\"id\":\"1f9abf28-c86f-4ef7-84b1-2ddb12c466bd\",\"type\":\"GlyphRenderer\"},{\"id\":\"34460429-bb90-425b-b44b-2bbf3e2ba1df\",\"type\":\"GlyphRenderer\"}]},\"id\":\"0199b08d-f021-491b-a203-a5f56c9e895d\",\"type\":\"LegendItem\"},{\"attributes\":{},\"id\":\"7abfab9f-8510-42ae-bc62-87382769347a\",\"type\":\"ResetTool\"},{\"attributes\":{\"children\":[{\"id\":\"a6355a1f-d164-48ba-9886-cf7bd38c9851\",\"subtype\":\"Figure\",\"type\":\"Plot\"},{\"id\":\"7211d4f1-315c-460f-b040-526f8fd7b3e1\",\"subtype\":\"Figure\",\"type\":\"Plot\"}]},\"id\":\"30feb295-9edc-4f5f-8e33-928473a26b07\",\"type\":\"Row\"},{\"attributes\":{\"plot\":null,\"text\":\"Log pressure scale\"},\"id\":\"1e0b0029-c171-411b-8c21-5a6a06c9aad9\",\"type\":\"Title\"},{\"attributes\":{\"label\":{\"value\":\"WGT igg=1\"},\"renderers\":[{\"id\":\"00a4fb7a-9570-4eee-b078-541e07d01cd8\",\"type\":\"GlyphRenderer\"},{\"id\":\"5df863af-1a57-4ea7-80eb-0bbf56446c82\",\"type\":\"GlyphRenderer\"}]},\"id\":\"5ef8cfdb-3edf-421b-bd40-266862a3b55d\",\"type\":\"LegendItem\"},{\"attributes\":{\"callback\":null,\"column_names\":[\"x\",\"y\"],\"data\":{\"x\":{\"__ndarray__\":\"bAgF2lq1kL8gW+9nE4iQv+XyVMQ/JZC/OymHpzt1j78tP/TNy5uOv833MNSRvo2/FcQs89fdjL/hl12kDvqLvwvXreKw24u/pm7q4Lknir9P38175T+Jv7eQKRrJ8Ii/JdHx7zjng7910XlVs0OGvzx/QWeekIC/5kwk4veAcr+Vknobz+pjP/h/ztc+eo0/1AeIBZuTnT/TR6ZktdCmP32fHpkWDrE/Sd4xI1mTtz/72fqvlOG9PxYF8tNVDb4/C5PAHseauD8nGN1g+YqyP4G9ePXgpKo/3vhPQcJToj+PUktrujuYPycuLw+FDo8/7WjeYTo8gj94iSjtn/xsP4iQ/Bj83j0/zIIL5cRfYr843oD6RmB2vzqcgVk29oK/yoHDsGjfib+qCQBgBZCPv5xsZqFbt5K/Gat8uKwOlb/1O5v1LH+Vv8x16i+TX5O/hPa38vzjjb/4S9pA+TyCv/NWpqZAiV+/MMA5OJymbD8oZYOhViWDP2c3DzRan5A/DwxBihH0mT/QI8oH0v+hP6Msn4zBKKc/6TRw3yHHqz9qrM9lAi+wP89wxtomr7I/jiDA4qNXtT+0CA4thx24Pz4+3x6dHbs/2/OhsDDpvj8C4bffqRnBPzd7811CbMI/BNwcfJtdwz+GZ3TNBSrEP+lNf9UV3MQ/g4cnwwqaxT+LUkKwql7GP3vOaViEScc/i/qHoZOtxz/0ULp4aG3IPw5eJlDlMMg/7CrNe9aUxz+o+IV4oKXGP0lii9XN4sU/aULNbxyhxT9Qcdpb4xbGPzxv33p/yco/\",\"dtype\":\"float64\",\"shape\":[75]},\"y\":{\"__ndarray__\":\"GhExyth1ND/Sv8nbtpRIP2vylNV0PVE/aTum7souWD/At0SJ8fVgPw3Iuahxymc/MSNhhJWvcD/bTfBN02d3P2zb5nxnaoA/CD5h5MAGhz8NmeH1TyaQP+zrCsc9p5Y/LbKd76fGnz/bLW5ISEmmPww9YvTcQq8/JV2OstnstT8Er5Y7M8G+P0c+r3jqkcU/5h99k6ZBzj88bCIzFzjVP4enV8oyxN0//yH99nXg5D8qOpLLf0jtP5kqGJXUifQ/c9cS8kHP/D+/DpwzojQEQIEmwoanVwxA4lgXt9HgE0BSSZ2AJuIbQAMJih9jjiNA5q4l5INuK0AwTKYKRj0zQNv5fmq8/DpAaCJseHrtQkB/+zpwzoxKQM3MzMzMeFJAZmZmZmZqWEAAAAAAAFxeQM3MzMzMJmJAmpmZmZkfZUBmZmZmZhhoQDMzMzMzEWtAAAAAAAAKbkBmZmZmZoFwQM3MzMzM/XFAMzMzMzN6c0CamZmZmfZ0QAAAAAAAc3ZAZmZmZmbvd0DNzMzMzGt5QDMzMzMz6HpAmpmZmZlkfEAAAAAAAOF9QGZmZmZmXX9AZmZmZuZsgECamZmZGSuBQM3MzMxM6YFAAAAAAICngkAzMzMzs2WDQGZmZmbmI4RAmpmZmRnihEDNzMzMTKCFQAAAAACAXoZAMzMzM7Mch0BmZmZm5tqHQJqZmZkZmYhAzczMzExXiUAAAAAAgBWKQDMzMzOz04pAZmZmZuaRi0CamZmZGVCMQM3MzMxMDo1AAAAAAIDMjUAzMzMzs4qOQGZmZmbmSI9A\",\"dtype\":\"float64\",\"shape\":[75]}}},\"id\":\"9743e29f-d0a1-41af-93d0-930a7c7269ea\",\"type\":\"ColumnDataSource\"},{\"attributes\":{\"dimension\":1,\"plot\":{\"id\":\"7211d4f1-315c-460f-b040-526f8fd7b3e1\",\"subtype\":\"Figure\",\"type\":\"Plot\"},\"ticker\":{\"id\":\"874c82ff-8a10-4e65-9d04-9c5f01804b77\",\"type\":\"LogTicker\"}},\"id\":\"fd0e9349-b528-4a95-8179-c1e728fc1517\",\"type\":\"Grid\"},{\"attributes\":{\"source\":{\"id\":\"4d9d5b74-eb6e-47c9-9dbd-bd9d833f26bb\",\"type\":\"ColumnDataSource\"}},\"id\":\"8f3e436c-471c-41c8-a296-de90103735ec\",\"type\":\"CDSView\"},{\"attributes\":{\"overlay\":{\"id\":\"fc1cff17-46db-4f5b-8362-de35a01a7480\",\"type\":\"BoxAnnotation\"}},\"id\":\"774a76f7-db37-4bae-a83d-9e929159d580\",\"type\":\"BoxZoomTool\"},{\"attributes\":{},\"id\":\"2c1b789b-8746-4f58-816b-f024480865a3\",\"type\":\"LinearScale\"},{\"attributes\":{\"source\":{\"id\":\"df8bd751-ceeb-41aa-becb-e573f1f84472\",\"type\":\"ColumnDataSource\"}},\"id\":\"bfc47951-2e6d-4f8e-a650-2a3eac77d7c0\",\"type\":\"CDSView\"},{\"attributes\":{\"callback\":null,\"column_names\":[\"x\",\"y\"],\"data\":{\"x\":{\"__ndarray__\":\"jBPbtIRCpL/z1gBysKGlvwPxgtRi+qO/7BasMRt2pL8wp0jhIVyjv30G1JtR86K/NLiodILGor+WQbp6Q1Giv3/NBz7lHKK/IOBLDMIPor8Tmxhdobmhv29fHmqPoqG//daQsFaKob/czLvGO3uhv/yk1e4pyaC/7Hz2XqdRm7+kH2OnhbaPv4+gSwxPlVK/yG+DOuIZkT/IgQiFydOjP+gr8jJd5LA/RPBxBnyHuT8PI2uqervAP36eDn3aVcA/c19Des45uD/y/0A/py6wPxhxDpKWrqQ/IeA5KQYnmj/atfeIHEuRP5YBToy4Qog/vuYSE7+egD8+f/kjzsNzP5XsFpEBEWQ/X0PZ7ybWRT8AZ3nER1Bcv2cBb03u+nO/orZOms11f7+RaLP+V5yEvzJ6C3dwqIq/BJCT7z1PkL9lwoitOz6Rv572Azptb46/JJ2QvMRvhr+LnvgGr3F3vzikH5+GzDc/BSe/Is8Xdj9Z06NGdBGHP1AYgIVNFpM/7f212Mfsmz+MPFrmvuaiP7nRZQnpK6g/FnuIdrAmrT8tZKHipw2xP4Em93h3nbM/CpUaAsk5tj8Jjbbjs+C4PyzA0lSqn7s/8gttCKdovz+TIo1lVV/BP0jnNsBQsMI/aIuU+1e1wz9vq4uhvXbEPwsC0M2jB8U//fwxjD96xT/zSy/36t/FP9Q9VwD4TMY/lW5kgSO/xj80g/jAjv/GP4NQ/9W6v8Y/hE0ZDyH0xT+XV8/FtvfEPz+XX7zVKcQ/f5kYYFnIwz/835VNTifEP1zrB0wSEck/\",\"dtype\":\"float64\",\"shape\":[75]},\"y\":{\"__ndarray__\":\"GhExyth1ND/Sv8nbtpRIP2vylNV0PVE/aTum7souWD/At0SJ8fVgPw3Iuahxymc/MSNhhJWvcD/bTfBN02d3P2zb5nxnaoA/CD5h5MAGhz8NmeH1TyaQP+zrCsc9p5Y/LbKd76fGnz/bLW5ISEmmPww9YvTcQq8/JV2OstnstT8Er5Y7M8G+P0c+r3jqkcU/5h99k6ZBzj88bCIzFzjVP4enV8oyxN0//yH99nXg5D8qOpLLf0jtP5kqGJXUifQ/c9cS8kHP/D+/DpwzojQEQIEmwoanVwxA4lgXt9HgE0BSSZ2AJuIbQAMJih9jjiNA5q4l5INuK0AwTKYKRj0zQNv5fmq8/DpAaCJseHrtQkB/+zpwzoxKQM3MzMzMeFJAZmZmZmZqWEAAAAAAAFxeQM3MzMzMJmJAmpmZmZkfZUBmZmZmZhhoQDMzMzMzEWtAAAAAAAAKbkBmZmZmZoFwQM3MzMzM/XFAMzMzMzN6c0CamZmZmfZ0QAAAAAAAc3ZAZmZmZmbvd0DNzMzMzGt5QDMzMzMz6HpAmpmZmZlkfEAAAAAAAOF9QGZmZmZmXX9AZmZmZuZsgECamZmZGSuBQM3MzMxM6YFAAAAAAICngkAzMzMzs2WDQGZmZmbmI4RAmpmZmRnihEDNzMzMTKCFQAAAAACAXoZAMzMzM7Mch0BmZmZm5tqHQJqZmZkZmYhAzczMzExXiUAAAAAAgBWKQDMzMzOz04pAZmZmZuaRi0CamZmZGVCMQM3MzMxMDo1AAAAAAIDMjUAzMzMzs4qOQGZmZmbmSI9A\",\"dtype\":\"float64\",\"shape\":[75]}}},\"id\":\"7e4ed4db-4a05-46e4-8172-b30f8a30b532\",\"type\":\"ColumnDataSource\"},{\"attributes\":{\"data_source\":{\"id\":\"4d9d5b74-eb6e-47c9-9dbd-bd9d833f26bb\",\"type\":\"ColumnDataSource\"},\"glyph\":{\"id\":\"79184997-d2b2-41d9-892c-58f6a2a39eed\",\"type\":\"Circle\"},\"hover_glyph\":null,\"muted_glyph\":null,\"nonselection_glyph\":{\"id\":\"23028bce-f1e1-4f50-90ad-1aa33e69969c\",\"type\":\"Circle\"},\"selection_glyph\":null,\"view\":{\"id\":\"8f3e436c-471c-41c8-a296-de90103735ec\",\"type\":\"CDSView\"}},\"id\":\"a660f86d-6f51-4ecb-9a21-5b9897a6ff44\",\"type\":\"GlyphRenderer\"},{\"attributes\":{\"callback\":null,\"end\":0.21704535111,\"start\":-0.023481982110000004},\"id\":\"99fc0fc5-fd26-4b00-bca3-e643e34fdeb8\",\"type\":\"Range1d\"},{\"attributes\":{\"source\":{\"id\":\"7e4ed4db-4a05-46e4-8172-b30f8a30b532\",\"type\":\"ColumnDataSource\"}},\"id\":\"1f37595b-3552-4a21-a77e-54e6db4adfd4\",\"type\":\"CDSView\"},{\"attributes\":{\"data_source\":{\"id\":\"db93e587-12b2-4980-960a-27a231958809\",\"type\":\"ColumnDataSource\"},\"glyph\":{\"id\":\"0699b76b-8940-4354-86f3-ac7b9f0232f9\",\"type\":\"Line\"},\"hover_glyph\":null,\"muted_glyph\":null,\"nonselection_glyph\":{\"id\":\"95bf5069-5be8-4f9c-804a-21edc246072e\",\"type\":\"Line\"},\"selection_glyph\":null,\"view\":{\"id\":\"b81d002b-7b93-4121-9e66-25239344666c\",\"type\":\"CDSView\"}},\"id\":\"2bc1b26a-c32e-4451-98ec-78e738eee5df\",\"type\":\"GlyphRenderer\"},{\"attributes\":{\"fill_alpha\":{\"value\":0.1},\"fill_color\":{\"value\":\"#1f77b4\"},\"line_alpha\":{\"value\":0.1},\"line_color\":{\"value\":\"#1f77b4\"},\"x\":{\"field\":\"x\"},\"y\":{\"field\":\"y\"}},\"id\":\"23028bce-f1e1-4f50-90ad-1aa33e69969c\",\"type\":\"Circle\"},{\"attributes\":{\"callback\":null,\"column_names\":[\"x\",\"y\"],\"data\":{\"x\":{\"__ndarray__\":\"jBPbtIRCpL/z1gBysKGlvwPxgtRi+qO/7BasMRt2pL8wp0jhIVyjv30G1JtR86K/NLiodILGor+WQbp6Q1Giv3/NBz7lHKK/IOBLDMIPor8Tmxhdobmhv29fHmqPoqG//daQsFaKob/czLvGO3uhv/yk1e4pyaC/7Hz2XqdRm7+kH2OnhbaPv4+gSwxPlVK/yG+DOuIZkT/IgQiFydOjP+gr8jJd5LA/RPBxBnyHuT8PI2uqervAP36eDn3aVcA/c19Des45uD/y/0A/py6wPxhxDpKWrqQ/IeA5KQYnmj/atfeIHEuRP5YBToy4Qog/vuYSE7+egD8+f/kjzsNzP5XsFpEBEWQ/X0PZ7ybWRT8AZ3nER1Bcv2cBb03u+nO/orZOms11f7+RaLP+V5yEvzJ6C3dwqIq/BJCT7z1PkL9lwoitOz6Rv572Azptb46/JJ2QvMRvhr+LnvgGr3F3vzikH5+GzDc/BSe/Is8Xdj9Z06NGdBGHP1AYgIVNFpM/7f212Mfsmz+MPFrmvuaiP7nRZQnpK6g/FnuIdrAmrT8tZKHipw2xP4Em93h3nbM/CpUaAsk5tj8Jjbbjs+C4PyzA0lSqn7s/8gttCKdovz+TIo1lVV/BP0jnNsBQsMI/aIuU+1e1wz9vq4uhvXbEPwsC0M2jB8U//fwxjD96xT/zSy/36t/FP9Q9VwD4TMY/lW5kgSO/xj80g/jAjv/GP4NQ/9W6v8Y/hE0ZDyH0xT+XV8/FtvfEPz+XX7zVKcQ/f5kYYFnIwz/835VNTifEP1zrB0wSEck/\",\"dtype\":\"float64\",\"shape\":[75]},\"y\":{\"__ndarray__\":\"GhExyth1ND/Sv8nbtpRIP2vylNV0PVE/aTum7souWD/At0SJ8fVgPw3Iuahxymc/MSNhhJWvcD/bTfBN02d3P2zb5nxnaoA/CD5h5MAGhz8NmeH1TyaQP+zrCsc9p5Y/LbKd76fGnz/bLW5ISEmmPww9YvTcQq8/JV2OstnstT8Er5Y7M8G+P0c+r3jqkcU/5h99k6ZBzj88bCIzFzjVP4enV8oyxN0//yH99nXg5D8qOpLLf0jtP5kqGJXUifQ/c9cS8kHP/D+/DpwzojQEQIEmwoanVwxA4lgXt9HgE0BSSZ2AJuIbQAMJih9jjiNA5q4l5INuK0AwTKYKRj0zQNv5fmq8/DpAaCJseHrtQkB/+zpwzoxKQM3MzMzMeFJAZmZmZmZqWEAAAAAAAFxeQM3MzMzMJmJAmpmZmZkfZUBmZmZmZhhoQDMzMzMzEWtAAAAAAAAKbkBmZmZmZoFwQM3MzMzM/XFAMzMzMzN6c0CamZmZmfZ0QAAAAAAAc3ZAZmZmZmbvd0DNzMzMzGt5QDMzMzMz6HpAmpmZmZlkfEAAAAAAAOF9QGZmZmZmXX9AZmZmZuZsgECamZmZGSuBQM3MzMxM6YFAAAAAAICngkAzMzMzs2WDQGZmZmbmI4RAmpmZmRnihEDNzMzMTKCFQAAAAACAXoZAMzMzM7Mch0BmZmZm5tqHQJqZmZkZmYhAzczMzExXiUAAAAAAgBWKQDMzMzOz04pAZmZmZuaRi0CamZmZGVCMQM3MzMxMDo1AAAAAAIDMjUAzMzMzs4qOQGZmZmbmSI9A\",\"dtype\":\"float64\",\"shape\":[75]}}},\"id\":\"4d9d5b74-eb6e-47c9-9dbd-bd9d833f26bb\",\"type\":\"ColumnDataSource\"},{\"attributes\":{\"callback\":null,\"column_names\":[\"x\",\"y\"],\"data\":{\"x\":{\"__ndarray__\":\"jBPbtIRCpL/z1gBysKGlvwPxgtRi+qO/7BasMRt2pL8wp0jhIVyjv30G1JtR86K/NLiodILGor+WQbp6Q1Giv3/NBz7lHKK/IOBLDMIPor8Tmxhdobmhv29fHmqPoqG//daQsFaKob/czLvGO3uhv/yk1e4pyaC/7Hz2XqdRm7+kH2OnhbaPv4+gSwxPlVK/yG+DOuIZkT/IgQiFydOjP+gr8jJd5LA/RPBxBnyHuT8PI2uqervAP36eDn3aVcA/c19Des45uD/y/0A/py6wPxhxDpKWrqQ/IeA5KQYnmj/atfeIHEuRP5YBToy4Qog/vuYSE7+egD8+f/kjzsNzP5XsFpEBEWQ/X0PZ7ybWRT8AZ3nER1Bcv2cBb03u+nO/orZOms11f7+RaLP+V5yEvzJ6C3dwqIq/BJCT7z1PkL9lwoitOz6Rv572Azptb46/JJ2QvMRvhr+LnvgGr3F3vzikH5+GzDc/BSe/Is8Xdj9Z06NGdBGHP1AYgIVNFpM/7f212Mfsmz+MPFrmvuaiP7nRZQnpK6g/FnuIdrAmrT8tZKHipw2xP4Em93h3nbM/CpUaAsk5tj8Jjbbjs+C4PyzA0lSqn7s/8gttCKdovz+TIo1lVV/BP0jnNsBQsMI/aIuU+1e1wz9vq4uhvXbEPwsC0M2jB8U//fwxjD96xT/zSy/36t/FP9Q9VwD4TMY/lW5kgSO/xj80g/jAjv/GP4NQ/9W6v8Y/hE0ZDyH0xT+XV8/FtvfEPz+XX7zVKcQ/f5kYYFnIwz/835VNTifEP1zrB0wSEck/\",\"dtype\":\"float64\",\"shape\":[75]},\"y\":{\"__ndarray__\":\"GhExyth1ND/Sv8nbtpRIP2vylNV0PVE/aTum7souWD/At0SJ8fVgPw3Iuahxymc/MSNhhJWvcD/bTfBN02d3P2zb5nxnaoA/CD5h5MAGhz8NmeH1TyaQP+zrCsc9p5Y/LbKd76fGnz/bLW5ISEmmPww9YvTcQq8/JV2OstnstT8Er5Y7M8G+P0c+r3jqkcU/5h99k6ZBzj88bCIzFzjVP4enV8oyxN0//yH99nXg5D8qOpLLf0jtP5kqGJXUifQ/c9cS8kHP/D+/DpwzojQEQIEmwoanVwxA4lgXt9HgE0BSSZ2AJuIbQAMJih9jjiNA5q4l5INuK0AwTKYKRj0zQNv5fmq8/DpAaCJseHrtQkB/+zpwzoxKQM3MzMzMeFJAZmZmZmZqWEAAAAAAAFxeQM3MzMzMJmJAmpmZmZkfZUBmZmZmZhhoQDMzMzMzEWtAAAAAAAAKbkBmZmZmZoFwQM3MzMzM/XFAMzMzMzN6c0CamZmZmfZ0QAAAAAAAc3ZAZmZmZmbvd0DNzMzMzGt5QDMzMzMz6HpAmpmZmZlkfEAAAAAAAOF9QGZmZmZmXX9AZmZmZuZsgECamZmZGSuBQM3MzMxM6YFAAAAAAICngkAzMzMzs2WDQGZmZmbmI4RAmpmZmRnihEDNzMzMTKCFQAAAAACAXoZAMzMzM7Mch0BmZmZm5tqHQJqZmZkZmYhAzczMzExXiUAAAAAAgBWKQDMzMzOz04pAZmZmZuaRi0CamZmZGVCMQM3MzMxMDo1AAAAAAIDMjUAzMzMzs4qOQGZmZmbmSI9A\",\"dtype\":\"float64\",\"shape\":[75]}}},\"id\":\"7b3df9f2-d438-4eb6-8741-d18614e80eb8\",\"type\":\"ColumnDataSource\"},{\"attributes\":{\"data_source\":{\"id\":\"7e4ed4db-4a05-46e4-8172-b30f8a30b532\",\"type\":\"ColumnDataSource\"},\"glyph\":{\"id\":\"946e0cc4-5edd-40df-8d68-94da19d0998e\",\"type\":\"Line\"},\"hover_glyph\":null,\"muted_glyph\":null,\"nonselection_glyph\":{\"id\":\"8c6da249-6bf4-4e7b-81cd-106abb8e65f7\",\"type\":\"Line\"},\"selection_glyph\":null,\"view\":{\"id\":\"1f37595b-3552-4a21-a77e-54e6db4adfd4\",\"type\":\"CDSView\"}},\"id\":\"3c0a4519-444b-4608-8e42-f2ab48e00364\",\"type\":\"GlyphRenderer\"},{\"attributes\":{\"line_alpha\":0.6,\"line_color\":\"#377eb8\",\"line_dash\":[2,4,6,4],\"line_width\":3,\"x\":{\"field\":\"x\"},\"y\":{\"field\":\"y\"}},\"id\":\"de12de5e-764e-4a6e-8516-524da43f51e8\",\"type\":\"Line\"},{\"attributes\":{\"source\":{\"id\":\"db93e587-12b2-4980-960a-27a231958809\",\"type\":\"ColumnDataSource\"}},\"id\":\"b81d002b-7b93-4121-9e66-25239344666c\",\"type\":\"CDSView\"},{\"attributes\":{},\"id\":\"eda5ac3e-075a-4af2-8ca2-8985eac1557c\",\"type\":\"LinearScale\"},{\"attributes\":{\"active_drag\":\"auto\",\"active_inspect\":\"auto\",\"active_scroll\":\"auto\",\"active_tap\":\"auto\",\"tools\":[{\"id\":\"38889dd3-ef97-4374-a3c0-e8b4c2338062\",\"type\":\"PanTool\"},{\"id\":\"fe0632b5-8333-472b-8188-4ebdedade71c\",\"type\":\"WheelZoomTool\"},{\"id\":\"774a76f7-db37-4bae-a83d-9e929159d580\",\"type\":\"BoxZoomTool\"},{\"id\":\"6d51cf11-4b5b-440f-b472-1a109cc13798\",\"type\":\"SaveTool\"},{\"id\":\"7abfab9f-8510-42ae-bc62-87382769347a\",\"type\":\"ResetTool\"},{\"id\":\"91600def-93de-48aa-b660-43b7b48db636\",\"type\":\"HelpTool\"}]},\"id\":\"f5be3170-5529-4070-829d-0a2e04c53401\",\"type\":\"Toolbar\"},{\"attributes\":{},\"id\":\"bf806b1b-b121-4a31-b7d2-2f10100e91bd\",\"type\":\"LinearScale\"},{\"attributes\":{\"callback\":null,\"end\":0.01,\"start\":1020},\"id\":\"5d3159b2-2c59-4e29-8b3b-4f63991c9667\",\"type\":\"Range1d\"},{\"attributes\":{},\"id\":\"b4b93ebc-49f2-4224-93fc-afe38c962771\",\"type\":\"BasicTicker\"},{\"attributes\":{\"line_alpha\":0.6,\"line_color\":\"#984ea3\",\"line_width\":3,\"x\":{\"field\":\"x\"},\"y\":{\"field\":\"y\"}},\"id\":\"0699b76b-8940-4354-86f3-ac7b9f0232f9\",\"type\":\"Line\"},{\"attributes\":{\"axis_label\":\"cooling rate [K/day]\",\"formatter\":{\"id\":\"19ec0ef8-f28f-4528-b3c0-3fd2d527f177\",\"type\":\"BasicTickFormatter\"},\"plot\":{\"id\":\"a6355a1f-d164-48ba-9886-cf7bd38c9851\",\"subtype\":\"Figure\",\"type\":\"Plot\"},\"ticker\":{\"id\":\"b4b93ebc-49f2-4224-93fc-afe38c962771\",\"type\":\"BasicTicker\"}},\"id\":\"e1556c19-b9cb-4867-a144-db84509fa650\",\"type\":\"LinearAxis\"},{\"attributes\":{\"callback\":null,\"column_names\":[\"x\",\"y\"],\"data\":{\"x\":{\"__ndarray__\":\"jBPbtIRCpL/z1gBysKGlvwPxgtRi+qO/7BasMRt2pL8wp0jhIVyjv30G1JtR86K/NLiodILGor+WQbp6Q1Giv3/NBz7lHKK/IOBLDMIPor8Tmxhdobmhv29fHmqPoqG//daQsFaKob/czLvGO3uhv/yk1e4pyaC/7Hz2XqdRm7+kH2OnhbaPv4+gSwxPlVK/yG+DOuIZkT/IgQiFydOjP+gr8jJd5LA/RPBxBnyHuT8PI2uqervAP36eDn3aVcA/c19Des45uD/y/0A/py6wPxhxDpKWrqQ/IeA5KQYnmj/atfeIHEuRP5YBToy4Qog/vuYSE7+egD8+f/kjzsNzP5XsFpEBEWQ/X0PZ7ybWRT8AZ3nER1Bcv2cBb03u+nO/orZOms11f7+RaLP+V5yEvzJ6C3dwqIq/BJCT7z1PkL9lwoitOz6Rv572Azptb46/JJ2QvMRvhr+LnvgGr3F3vzikH5+GzDc/BSe/Is8Xdj9Z06NGdBGHP1AYgIVNFpM/7f212Mfsmz+MPFrmvuaiP7nRZQnpK6g/FnuIdrAmrT8tZKHipw2xP4Em93h3nbM/CpUaAsk5tj8Jjbbjs+C4PyzA0lSqn7s/8gttCKdovz+TIo1lVV/BP0jnNsBQsMI/aIuU+1e1wz9vq4uhvXbEPwsC0M2jB8U//fwxjD96xT/zSy/36t/FP9Q9VwD4TMY/lW5kgSO/xj80g/jAjv/GP4NQ/9W6v8Y/hE0ZDyH0xT+XV8/FtvfEPz+XX7zVKcQ/f5kYYFnIwz/835VNTifEP1zrB0wSEck/\",\"dtype\":\"float64\",\"shape\":[75]},\"y\":{\"__ndarray__\":\"GhExyth1ND/Sv8nbtpRIP2vylNV0PVE/aTum7souWD/At0SJ8fVgPw3Iuahxymc/MSNhhJWvcD/bTfBN02d3P2zb5nxnaoA/CD5h5MAGhz8NmeH1TyaQP+zrCsc9p5Y/LbKd76fGnz/bLW5ISEmmPww9YvTcQq8/JV2OstnstT8Er5Y7M8G+P0c+r3jqkcU/5h99k6ZBzj88bCIzFzjVP4enV8oyxN0//yH99nXg5D8qOpLLf0jtP5kqGJXUifQ/c9cS8kHP/D+/DpwzojQEQIEmwoanVwxA4lgXt9HgE0BSSZ2AJuIbQAMJih9jjiNA5q4l5INuK0AwTKYKRj0zQNv5fmq8/DpAaCJseHrtQkB/+zpwzoxKQM3MzMzMeFJAZmZmZmZqWEAAAAAAAFxeQM3MzMzMJmJAmpmZmZkfZUBmZmZmZhhoQDMzMzMzEWtAAAAAAAAKbkBmZmZmZoFwQM3MzMzM/XFAMzMzMzN6c0CamZmZmfZ0QAAAAAAAc3ZAZmZmZmbvd0DNzMzMzGt5QDMzMzMz6HpAmpmZmZlkfEAAAAAAAOF9QGZmZmZmXX9AZmZmZuZsgECamZmZGSuBQM3MzMxM6YFAAAAAAICngkAzMzMzs2WDQGZmZmbmI4RAmpmZmRnihEDNzMzMTKCFQAAAAACAXoZAMzMzM7Mch0BmZmZm5tqHQJqZmZkZmYhAzczMzExXiUAAAAAAgBWKQDMzMzOz04pAZmZmZuaRi0CamZmZGVCMQM3MzMxMDo1AAAAAAIDMjUAzMzMzs4qOQGZmZmbmSI9A\",\"dtype\":\"float64\",\"shape\":[75]}}},\"id\":\"cede16a5-ec85-4edd-8616-4177cbf987e5\",\"type\":\"ColumnDataSource\"},{\"attributes\":{\"data_source\":{\"id\":\"9743e29f-d0a1-41af-93d0-930a7c7269ea\",\"type\":\"ColumnDataSource\"},\"glyph\":{\"id\":\"de12de5e-764e-4a6e-8516-524da43f51e8\",\"type\":\"Line\"},\"hover_glyph\":null,\"muted_glyph\":null,\"nonselection_glyph\":{\"id\":\"275c1ca6-fb59-46fe-bebd-09bd0f35863b\",\"type\":\"Line\"},\"selection_glyph\":null,\"view\":{\"id\":\"98372a54-3f09-411e-88af-4c98cfd8f39f\",\"type\":\"CDSView\"}},\"id\":\"d0ad4237-4d2c-4fd7-9b85-effb4e2069a2\",\"type\":\"GlyphRenderer\"},{\"attributes\":{\"fill_alpha\":{\"value\":0.1},\"fill_color\":{\"value\":\"#1f77b4\"},\"line_alpha\":{\"value\":0.1},\"line_color\":{\"value\":\"#1f77b4\"},\"x\":{\"field\":\"x\"},\"y\":{\"field\":\"y\"}},\"id\":\"bfe6ce5f-c97e-405c-880b-a8b5ce13bf51\",\"type\":\"Square\"},{\"attributes\":{\"dimension\":1,\"plot\":{\"id\":\"a6355a1f-d164-48ba-9886-cf7bd38c9851\",\"subtype\":\"Figure\",\"type\":\"Plot\"},\"ticker\":{\"id\":\"ae3af948-3cb3-4ca8-8d20-9835200cefbc\",\"type\":\"BasicTicker\"}},\"id\":\"54b15202-90b7-4e5a-8243-df83d0673cd2\",\"type\":\"Grid\"},{\"attributes\":{\"below\":[{\"id\":\"e1556c19-b9cb-4867-a144-db84509fa650\",\"type\":\"LinearAxis\"}],\"left\":[{\"id\":\"c9a577a8-ca7b-48a2-9e3a-514cbbf5b982\",\"type\":\"LinearAxis\"}],\"plot_height\":500,\"plot_width\":400,\"renderers\":[{\"id\":\"e1556c19-b9cb-4867-a144-db84509fa650\",\"type\":\"LinearAxis\"},{\"id\":\"9069d519-efd3-4acd-b2ae-dac24df40b51\",\"type\":\"Grid\"},{\"id\":\"c9a577a8-ca7b-48a2-9e3a-514cbbf5b982\",\"type\":\"LinearAxis\"},{\"id\":\"54b15202-90b7-4e5a-8243-df83d0673cd2\",\"type\":\"Grid\"},{\"id\":\"1e37e277-7df2-4deb-b7e4-d62d8aaf1426\",\"type\":\"BoxAnnotation\"},{\"id\":\"a660f86d-6f51-4ecb-9a21-5b9897a6ff44\",\"type\":\"GlyphRenderer\"},{\"id\":\"3c0a4519-444b-4608-8e42-f2ab48e00364\",\"type\":\"GlyphRenderer\"},{\"id\":\"8bf04819-ee10-4cf4-b717-dfb67fa3182a\",\"type\":\"GlyphRenderer\"},{\"id\":\"2bc1b26a-c32e-4451-98ec-78e738eee5df\",\"type\":\"GlyphRenderer\"},{\"id\":\"76c1bb86-b031-47d8-9bae-fc4edf520262\",\"type\":\"GlyphRenderer\"},{\"id\":\"d0ad4237-4d2c-4fd7-9b85-effb4e2069a2\",\"type\":\"GlyphRenderer\"}],\"title\":{\"id\":\"61d11f43-2f2d-40a0-ad65-608aaca4d252\",\"type\":\"Title\"},\"toolbar\":{\"id\":\"cbe83f3e-49ad-4427-a954-bc83abe5f92d\",\"type\":\"Toolbar\"},\"toolbar_location\":null,\"x_range\":{\"id\":\"99fc0fc5-fd26-4b00-bca3-e643e34fdeb8\",\"type\":\"Range1d\"},\"x_scale\":{\"id\":\"2c1b789b-8746-4f58-816b-f024480865a3\",\"type\":\"LinearScale\"},\"y_range\":{\"id\":\"5d3159b2-2c59-4e29-8b3b-4f63991c9667\",\"type\":\"Range1d\"},\"y_scale\":{\"id\":\"eda5ac3e-075a-4af2-8ca2-8985eac1557c\",\"type\":\"LinearScale\"}},\"id\":\"a6355a1f-d164-48ba-9886-cf7bd38c9851\",\"subtype\":\"Figure\",\"type\":\"Plot\"},{\"attributes\":{},\"id\":\"19ec0ef8-f28f-4528-b3c0-3fd2d527f177\",\"type\":\"BasicTickFormatter\"},{\"attributes\":{},\"id\":\"f21e900a-f4e8-40ca-bd06-f1d1b9bbfbaf\",\"type\":\"BasicTickFormatter\"},{\"attributes\":{\"fill_alpha\":{\"value\":0.7},\"fill_color\":{\"value\":\"#377eb8\"},\"line_alpha\":{\"value\":0.7},\"line_color\":{\"value\":\"#377eb8\"},\"x\":{\"field\":\"x\"},\"y\":{\"field\":\"y\"}},\"id\":\"c3a73317-3861-4c23-b20f-aaa3641b8e93\",\"type\":\"InvertedTriangle\"},{\"attributes\":{\"children\":[{\"id\":\"b7464c11-78b3-443b-8f8b-aae26731ea36\",\"type\":\"ToolbarBox\"},{\"id\":\"01410afb-be22-4bce-83c5-1afb8cde7b2c\",\"type\":\"Column\"}]},\"id\":\"dceafd27-e6db-415d-a4c2-2d3195c5df77\",\"type\":\"Column\"},{\"attributes\":{\"plot\":null,\"text\":\"Linear pressure scale\"},\"id\":\"61d11f43-2f2d-40a0-ad65-608aaca4d252\",\"type\":\"Title\"},{\"attributes\":{},\"id\":\"4f68e185-4182-4a78-aac0-d5bb3e7246e4\",\"type\":\"WheelZoomTool\"},{\"attributes\":{\"overlay\":{\"id\":\"1e37e277-7df2-4deb-b7e4-d62d8aaf1426\",\"type\":\"BoxAnnotation\"}},\"id\":\"fc1ca226-432f-4c65-9aad-c0e8dafb2a49\",\"type\":\"BoxZoomTool\"},{\"attributes\":{},\"id\":\"ce5115c7-5e78-467a-a9b3-2bb4192a0be8\",\"type\":\"LogScale\"},{\"attributes\":{},\"id\":\"91600def-93de-48aa-b660-43b7b48db636\",\"type\":\"HelpTool\"},{\"attributes\":{},\"id\":\"cd602c3a-4c69-434e-a360-2948b348d919\",\"type\":\"SaveTool\"},{\"attributes\":{},\"id\":\"d3c64613-169a-45a6-8914-f14562fae973\",\"type\":\"HelpTool\"},{\"attributes\":{\"below\":[{\"id\":\"f7054669-23cb-4767-8667-09b0349655e6\",\"type\":\"LinearAxis\"}],\"left\":[{\"id\":\"b99d0514-9e94-4eeb-9997-9d1f319ac3c0\",\"type\":\"LogAxis\"}],\"plot_height\":500,\"plot_width\":560,\"renderers\":[{\"id\":\"f7054669-23cb-4767-8667-09b0349655e6\",\"type\":\"LinearAxis\"},{\"id\":\"eeb269e1-08ed-41c4-9d3e-12ab19329d4a\",\"type\":\"Grid\"},{\"id\":\"b99d0514-9e94-4eeb-9997-9d1f319ac3c0\",\"type\":\"LogAxis\"},{\"id\":\"fd0e9349-b528-4a95-8179-c1e728fc1517\",\"type\":\"Grid\"},{\"id\":\"fc1cff17-46db-4f5b-8362-de35a01a7480\",\"type\":\"BoxAnnotation\"},{\"id\":\"1f9abf28-c86f-4ef7-84b1-2ddb12c466bd\",\"type\":\"GlyphRenderer\"},{\"id\":\"34460429-bb90-425b-b44b-2bbf3e2ba1df\",\"type\":\"GlyphRenderer\"},{\"id\":\"6a9e4c2e-5809-484f-90f1-f8fc0ded232c\",\"type\":\"GlyphRenderer\"},{\"id\":\"c4296881-8486-4ec1-95b6-db9c8b3e5fc9\",\"type\":\"GlyphRenderer\"},{\"id\":\"00a4fb7a-9570-4eee-b078-541e07d01cd8\",\"type\":\"GlyphRenderer\"},{\"id\":\"5df863af-1a57-4ea7-80eb-0bbf56446c82\",\"type\":\"GlyphRenderer\"},{\"id\":\"bc6d9144-4238-407a-9ece-c4a29ee6b338\",\"type\":\"Legend\"}],\"right\":[{\"id\":\"bc6d9144-4238-407a-9ece-c4a29ee6b338\",\"type\":\"Legend\"}],\"title\":{\"id\":\"1e0b0029-c171-411b-8c21-5a6a06c9aad9\",\"type\":\"Title\"},\"toolbar\":{\"id\":\"f5be3170-5529-4070-829d-0a2e04c53401\",\"type\":\"Toolbar\"},\"toolbar_location\":null,\"x_range\":{\"id\":\"95643474-037b-4f50-aeef-3fac334f0b4d\",\"type\":\"Range1d\"},\"x_scale\":{\"id\":\"bf806b1b-b121-4a31-b7d2-2f10100e91bd\",\"type\":\"LinearScale\"},\"y_range\":{\"id\":\"6adef9e9-e721-402b-bebd-44b8e71e3a36\",\"type\":\"Range1d\"},\"y_scale\":{\"id\":\"ce5115c7-5e78-467a-a9b3-2bb4192a0be8\",\"type\":\"LogScale\"}},\"id\":\"7211d4f1-315c-460f-b040-526f8fd7b3e1\",\"subtype\":\"Figure\",\"type\":\"Plot\"},{\"attributes\":{\"data_source\":{\"id\":\"df8bd751-ceeb-41aa-becb-e573f1f84472\",\"type\":\"ColumnDataSource\"},\"glyph\":{\"id\":\"078c19c4-2922-4001-91ad-b939912f34d3\",\"type\":\"InvertedTriangle\"},\"hover_glyph\":null,\"muted_glyph\":null,\"nonselection_glyph\":{\"id\":\"024607e0-cdef-403b-9228-9b5f0eacd2f3\",\"type\":\"InvertedTriangle\"},\"selection_glyph\":null,\"view\":{\"id\":\"bfc47951-2e6d-4f8e-a650-2a3eac77d7c0\",\"type\":\"CDSView\"}},\"id\":\"76c1bb86-b031-47d8-9bae-fc4edf520262\",\"type\":\"GlyphRenderer\"},{\"attributes\":{},\"id\":\"c318f394-bbb1-4591-9e70-962cfbc3785b\",\"type\":\"ResetTool\"},{\"attributes\":{\"axis_label\":\"cooling rate [K/day]\",\"formatter\":{\"id\":\"1738480f-aa59-4b08-840e-645afeb39fa6\",\"type\":\"BasicTickFormatter\"},\"plot\":{\"id\":\"7211d4f1-315c-460f-b040-526f8fd7b3e1\",\"subtype\":\"Figure\",\"type\":\"Plot\"},\"ticker\":{\"id\":\"6f273376-e7ae-45f5-9aad-c53e2cdc4968\",\"type\":\"BasicTicker\"}},\"id\":\"f7054669-23cb-4767-8667-09b0349655e6\",\"type\":\"LinearAxis\"},{\"attributes\":{},\"id\":\"70aebc09-ec9d-476b-a9bb-23a19c7a7bb0\",\"type\":\"PanTool\"},{\"attributes\":{\"line_alpha\":0.1,\"line_color\":\"#1f77b4\",\"line_width\":3,\"x\":{\"field\":\"x\"},\"y\":{\"field\":\"y\"}},\"id\":\"95bf5069-5be8-4f9c-804a-21edc246072e\",\"type\":\"Line\"},{\"attributes\":{\"plot\":{\"id\":\"a6355a1f-d164-48ba-9886-cf7bd38c9851\",\"subtype\":\"Figure\",\"type\":\"Plot\"},\"ticker\":{\"id\":\"b4b93ebc-49f2-4224-93fc-afe38c962771\",\"type\":\"BasicTicker\"}},\"id\":\"9069d519-efd3-4acd-b2ae-dac24df40b51\",\"type\":\"Grid\"},{\"attributes\":{\"plot\":{\"id\":\"7211d4f1-315c-460f-b040-526f8fd7b3e1\",\"subtype\":\"Figure\",\"type\":\"Plot\"},\"ticker\":{\"id\":\"6f273376-e7ae-45f5-9aad-c53e2cdc4968\",\"type\":\"BasicTicker\"}},\"id\":\"eeb269e1-08ed-41c4-9d3e-12ab19329d4a\",\"type\":\"Grid\"},{\"attributes\":{\"line_color\":\"#4daf4a\",\"line_width\":1.5,\"x\":{\"field\":\"x\"},\"y\":{\"field\":\"y\"}},\"id\":\"946e0cc4-5edd-40df-8d68-94da19d0998e\",\"type\":\"Line\"},{\"attributes\":{\"fill_alpha\":{\"value\":0.7},\"fill_color\":{\"value\":\"#377eb8\"},\"line_alpha\":{\"value\":0.7},\"line_color\":{\"value\":\"#377eb8\"},\"x\":{\"field\":\"x\"},\"y\":{\"field\":\"y\"}},\"id\":\"078c19c4-2922-4001-91ad-b939912f34d3\",\"type\":\"InvertedTriangle\"},{\"attributes\":{\"line_alpha\":0.1,\"line_color\":\"#1f77b4\",\"line_dash\":[2,4,6,4],\"line_width\":3,\"x\":{\"field\":\"x\"},\"y\":{\"field\":\"y\"}},\"id\":\"275c1ca6-fb59-46fe-bebd-09bd0f35863b\",\"type\":\"Line\"},{\"attributes\":{\"axis_label\":\"pressure [mb]\",\"formatter\":{\"id\":\"f21e900a-f4e8-40ca-bd06-f1d1b9bbfbaf\",\"type\":\"BasicTickFormatter\"},\"plot\":{\"id\":\"a6355a1f-d164-48ba-9886-cf7bd38c9851\",\"subtype\":\"Figure\",\"type\":\"Plot\"},\"ticker\":{\"id\":\"ae3af948-3cb3-4ca8-8d20-9835200cefbc\",\"type\":\"BasicTicker\"}},\"id\":\"c9a577a8-ca7b-48a2-9e3a-514cbbf5b982\",\"type\":\"LinearAxis\"},{\"attributes\":{\"num_minor_ticks\":10},\"id\":\"874c82ff-8a10-4e65-9d04-9c5f01804b77\",\"type\":\"LogTicker\"},{\"attributes\":{\"axis_label\":\"pressure [mb]\",\"formatter\":{\"id\":\"1a97c55a-9b7c-43fb-88ec-a6483716abab\",\"type\":\"LogTickFormatter\"},\"plot\":{\"id\":\"7211d4f1-315c-460f-b040-526f8fd7b3e1\",\"subtype\":\"Figure\",\"type\":\"Plot\"},\"ticker\":{\"id\":\"874c82ff-8a10-4e65-9d04-9c5f01804b77\",\"type\":\"LogTicker\"}},\"id\":\"b99d0514-9e94-4eeb-9997-9d1f319ac3c0\",\"type\":\"LogAxis\"},{\"attributes\":{},\"id\":\"ae3af948-3cb3-4ca8-8d20-9835200cefbc\",\"type\":\"BasicTicker\"},{\"attributes\":{\"source\":{\"id\":\"9743e29f-d0a1-41af-93d0-930a7c7269ea\",\"type\":\"ColumnDataSource\"}},\"id\":\"98372a54-3f09-411e-88af-4c98cfd8f39f\",\"type\":\"CDSView\"},{\"attributes\":{\"bottom_units\":\"screen\",\"fill_alpha\":{\"value\":0.5},\"fill_color\":{\"value\":\"lightgrey\"},\"left_units\":\"screen\",\"level\":\"overlay\",\"line_alpha\":{\"value\":1.0},\"line_color\":{\"value\":\"black\"},\"line_dash\":[4,4],\"line_width\":{\"value\":2},\"plot\":null,\"render_mode\":\"css\",\"right_units\":\"screen\",\"top_units\":\"screen\"},\"id\":\"1e37e277-7df2-4deb-b7e4-d62d8aaf1426\",\"type\":\"BoxAnnotation\"},{\"attributes\":{\"fill_alpha\":{\"value\":0.1},\"fill_color\":{\"value\":\"#1f77b4\"},\"line_alpha\":{\"value\":0.1},\"line_color\":{\"value\":\"#1f77b4\"},\"x\":{\"field\":\"x\"},\"y\":{\"field\":\"y\"}},\"id\":\"024607e0-cdef-403b-9228-9b5f0eacd2f3\",\"type\":\"InvertedTriangle\"},{\"attributes\":{},\"id\":\"6f273376-e7ae-45f5-9aad-c53e2cdc4968\",\"type\":\"BasicTicker\"},{\"attributes\":{\"callback\":null,\"column_names\":[\"x\",\"y\"],\"data\":{\"x\":{\"__ndarray__\":\"rIPNSqR+iL+mlmFnACuIv7Y6ZsT4dYe/QOCV5Wqyhr+7IjCKqeqFv6M3opzkHoW/jLhdgCZPhL9Ht6nzhHuDvxnx6d0bpIK/QrPHYTLJgb8oydqpMOuAvwBIrf2LCoC/lgUzaNhPfr9u/VLIF2l8vxAph8hJXna/Sg4aHtEqT78BxwEfMzx8P6YGlRYAc5E/BAiqPD2Tnj+VILm7IoanP+ptBpRa47A/Waq3eAsztz+LRmcuqiS9Pym3Jydejr0/SqtZG+6ZuD/MWTpHZvOyPyH6iHRM0as/WWPi7Fxsoz/Ru2cTFsuZP4WaBQDl9I8/pgJjh3UGgT91cE57utlnP8AQQLPTUEK/pGOw3ZuxaL872KQcwUZ4vxPzG4uOqYO//UG/F6iKir9w49xH6hSQv1xMXFwd35K/PyPj4dUjlb+cj3D8fqGVv/FI4gNAt5O/WnRDNyHLj7+TOr8wsseEvwuIRgACmWe/wOIYnFT6YT/md0TMv3J9PzsVRU+Xs40/hgVSvZBpmD/JW0HiPVihP9Xz9GX3UaY/NQ2wraS3qj/UYaGwbUyvP2u0daDpTbI/rSztrpVLtT81pw+AX3O4PxJGeQf0mbs/WZfoZl6Svz86prQfpWnBPzbckftnl8I/Gn5gXOR9wz+TQ7xcYU3EP1Lp7fBTLMU/egFymQUgxj+fMLR8VRXHP+me8VTy98c/itBC4TeuyD88n6Y79ALJP0w1FsG9usg/wIspHjjjxz94/Kxs/uPGP7MC6JxEKcY/IW9eQT/4xT8OxfTvwKHGP4KRVRnfess/\",\"dtype\":\"float64\",\"shape\":[75]},\"y\":{\"__ndarray__\":\"GhExyth1ND/Sv8nbtpRIP2vylNV0PVE/aTum7souWD/At0SJ8fVgPw3Iuahxymc/MSNhhJWvcD/bTfBN02d3P2zb5nxnaoA/CD5h5MAGhz8NmeH1TyaQP+zrCsc9p5Y/LbKd76fGnz/bLW5ISEmmPww9YvTcQq8/JV2OstnstT8Er5Y7M8G+P0c+r3jqkcU/5h99k6ZBzj88bCIzFzjVP4enV8oyxN0//yH99nXg5D8qOpLLf0jtP5kqGJXUifQ/c9cS8kHP/D+/DpwzojQEQIEmwoanVwxA4lgXt9HgE0BSSZ2AJuIbQAMJih9jjiNA5q4l5INuK0AwTKYKRj0zQNv5fmq8/DpAaCJseHrtQkB/+zpwzoxKQM3MzMzMeFJAZmZmZmZqWEAAAAAAAFxeQM3MzMzMJmJAmpmZmZkfZUBmZmZmZhhoQDMzMzMzEWtAAAAAAAAKbkBmZmZmZoFwQM3MzMzM/XFAMzMzMzN6c0CamZmZmfZ0QAAAAAAAc3ZAZmZmZmbvd0DNzMzMzGt5QDMzMzMz6HpAmpmZmZlkfEAAAAAAAOF9QGZmZmZmXX9AZmZmZuZsgECamZmZGSuBQM3MzMxM6YFAAAAAAICngkAzMzMzs2WDQGZmZmbmI4RAmpmZmRnihEDNzMzMTKCFQAAAAACAXoZAMzMzM7Mch0BmZmZm5tqHQJqZmZkZmYhAzczMzExXiUAAAAAAgBWKQDMzMzOz04pAZmZmZuaRi0CamZmZGVCMQM3MzMxMDo1AAAAAAIDMjUAzMzMzs4qOQGZmZmbmSI9A\",\"dtype\":\"float64\",\"shape\":[75]}}},\"id\":\"16937a26-c656-42bd-87d2-1d1899f138f2\",\"type\":\"ColumnDataSource\"},{\"attributes\":{\"callback\":null,\"column_names\":[\"x\",\"y\"],\"data\":{\"x\":{\"__ndarray__\":\"bAgF2lq1kL8gW+9nE4iQv+XyVMQ/JZC/OymHpzt1j78tP/TNy5uOv833MNSRvo2/FcQs89fdjL/hl12kDvqLvwvXreKw24u/pm7q4Lknir9P38175T+Jv7eQKRrJ8Ii/JdHx7zjng7910XlVs0OGvzx/QWeekIC/5kwk4veAcr+Vknobz+pjP/h/ztc+eo0/1AeIBZuTnT/TR6ZktdCmP32fHpkWDrE/Sd4xI1mTtz/72fqvlOG9PxYF8tNVDb4/C5PAHseauD8nGN1g+YqyP4G9ePXgpKo/3vhPQcJToj+PUktrujuYPycuLw+FDo8/7WjeYTo8gj94iSjtn/xsP4iQ/Bj83j0/zIIL5cRfYr843oD6RmB2vzqcgVk29oK/yoHDsGjfib+qCQBgBZCPv5xsZqFbt5K/Gat8uKwOlb/1O5v1LH+Vv8x16i+TX5O/hPa38vzjjb/4S9pA+TyCv/NWpqZAiV+/MMA5OJymbD8oZYOhViWDP2c3DzRan5A/DwxBihH0mT/QI8oH0v+hP6Msn4zBKKc/6TRw3yHHqz9qrM9lAi+wP89wxtomr7I/jiDA4qNXtT+0CA4thx24Pz4+3x6dHbs/2/OhsDDpvj8C4bffqRnBPzd7811CbMI/BNwcfJtdwz+GZ3TNBSrEP+lNf9UV3MQ/g4cnwwqaxT+LUkKwql7GP3vOaViEScc/i/qHoZOtxz/0ULp4aG3IPw5eJlDlMMg/7CrNe9aUxz+o+IV4oKXGP0lii9XN4sU/aULNbxyhxT9Qcdpb4xbGPzxv33p/yco/\",\"dtype\":\"float64\",\"shape\":[75]},\"y\":{\"__ndarray__\":\"GhExyth1ND/Sv8nbtpRIP2vylNV0PVE/aTum7souWD/At0SJ8fVgPw3Iuahxymc/MSNhhJWvcD/bTfBN02d3P2zb5nxnaoA/CD5h5MAGhz8NmeH1TyaQP+zrCsc9p5Y/LbKd76fGnz/bLW5ISEmmPww9YvTcQq8/JV2OstnstT8Er5Y7M8G+P0c+r3jqkcU/5h99k6ZBzj88bCIzFzjVP4enV8oyxN0//yH99nXg5D8qOpLLf0jtP5kqGJXUifQ/c9cS8kHP/D+/DpwzojQEQIEmwoanVwxA4lgXt9HgE0BSSZ2AJuIbQAMJih9jjiNA5q4l5INuK0AwTKYKRj0zQNv5fmq8/DpAaCJseHrtQkB/+zpwzoxKQM3MzMzMeFJAZmZmZmZqWEAAAAAAAFxeQM3MzMzMJmJAmpmZmZkfZUBmZmZmZhhoQDMzMzMzEWtAAAAAAAAKbkBmZmZmZoFwQM3MzMzM/XFAMzMzMzN6c0CamZmZmfZ0QAAAAAAAc3ZAZmZmZmbvd0DNzMzMzGt5QDMzMzMz6HpAmpmZmZlkfEAAAAAAAOF9QGZmZmZmXX9AZmZmZuZsgECamZmZGSuBQM3MzMxM6YFAAAAAAICngkAzMzMzs2WDQGZmZmbmI4RAmpmZmRnihEDNzMzMTKCFQAAAAACAXoZAMzMzM7Mch0BmZmZm5tqHQJqZmZkZmYhAzczMzExXiUAAAAAAgBWKQDMzMzOz04pAZmZmZuaRi0CamZmZGVCMQM3MzMxMDo1AAAAAAIDMjUAzMzMzs4qOQGZmZmbmSI9A\",\"dtype\":\"float64\",\"shape\":[75]}}},\"id\":\"09dc368a-b087-4a35-b237-6bbe58549721\",\"type\":\"ColumnDataSource\"},{\"attributes\":{\"callback\":null,\"column_names\":[\"x\",\"y\"],\"data\":{\"x\":{\"__ndarray__\":\"bAgF2lq1kL8gW+9nE4iQv+XyVMQ/JZC/OymHpzt1j78tP/TNy5uOv833MNSRvo2/FcQs89fdjL/hl12kDvqLvwvXreKw24u/pm7q4Lknir9P38175T+Jv7eQKRrJ8Ii/JdHx7zjng7910XlVs0OGvzx/QWeekIC/5kwk4veAcr+Vknobz+pjP/h/ztc+eo0/1AeIBZuTnT/TR6ZktdCmP32fHpkWDrE/Sd4xI1mTtz/72fqvlOG9PxYF8tNVDb4/C5PAHseauD8nGN1g+YqyP4G9ePXgpKo/3vhPQcJToj+PUktrujuYPycuLw+FDo8/7WjeYTo8gj94iSjtn/xsP4iQ/Bj83j0/zIIL5cRfYr843oD6RmB2vzqcgVk29oK/yoHDsGjfib+qCQBgBZCPv5xsZqFbt5K/Gat8uKwOlb/1O5v1LH+Vv8x16i+TX5O/hPa38vzjjb/4S9pA+TyCv/NWpqZAiV+/MMA5OJymbD8oZYOhViWDP2c3DzRan5A/DwxBihH0mT/QI8oH0v+hP6Msn4zBKKc/6TRw3yHHqz9qrM9lAi+wP89wxtomr7I/jiDA4qNXtT+0CA4thx24Pz4+3x6dHbs/2/OhsDDpvj8C4bffqRnBPzd7811CbMI/BNwcfJtdwz+GZ3TNBSrEP+lNf9UV3MQ/g4cnwwqaxT+LUkKwql7GP3vOaViEScc/i/qHoZOtxz/0ULp4aG3IPw5eJlDlMMg/7CrNe9aUxz+o+IV4oKXGP0lii9XN4sU/aULNbxyhxT9Qcdpb4xbGPzxv33p/yco/\",\"dtype\":\"float64\",\"shape\":[75]},\"y\":{\"__ndarray__\":\"GhExyth1ND/Sv8nbtpRIP2vylNV0PVE/aTum7souWD/At0SJ8fVgPw3Iuahxymc/MSNhhJWvcD/bTfBN02d3P2zb5nxnaoA/CD5h5MAGhz8NmeH1TyaQP+zrCsc9p5Y/LbKd76fGnz/bLW5ISEmmPww9YvTcQq8/JV2OstnstT8Er5Y7M8G+P0c+r3jqkcU/5h99k6ZBzj88bCIzFzjVP4enV8oyxN0//yH99nXg5D8qOpLLf0jtP5kqGJXUifQ/c9cS8kHP/D+/DpwzojQEQIEmwoanVwxA4lgXt9HgE0BSSZ2AJuIbQAMJih9jjiNA5q4l5INuK0AwTKYKRj0zQNv5fmq8/DpAaCJseHrtQkB/+zpwzoxKQM3MzMzMeFJAZmZmZmZqWEAAAAAAAFxeQM3MzMzMJmJAmpmZmZkfZUBmZmZmZhhoQDMzMzMzEWtAAAAAAAAKbkBmZmZmZoFwQM3MzMzM/XFAMzMzMzN6c0CamZmZmfZ0QAAAAAAAc3ZAZmZmZmbvd0DNzMzMzGt5QDMzMzMz6HpAmpmZmZlkfEAAAAAAAOF9QGZmZmZmXX9AZmZmZuZsgECamZmZGSuBQM3MzMxM6YFAAAAAAICngkAzMzMzs2WDQGZmZmbmI4RAmpmZmRnihEDNzMzMTKCFQAAAAACAXoZAMzMzM7Mch0BmZmZm5tqHQJqZmZkZmYhAzczMzExXiUAAAAAAgBWKQDMzMzOz04pAZmZmZuaRi0CamZmZGVCMQM3MzMxMDo1AAAAAAIDMjUAzMzMzs4qOQGZmZmbmSI9A\",\"dtype\":\"float64\",\"shape\":[75]}}},\"id\":\"df8bd751-ceeb-41aa-becb-e573f1f84472\",\"type\":\"ColumnDataSource\"},{\"attributes\":{\"data_source\":{\"id\":\"cede16a5-ec85-4edd-8616-4177cbf987e5\",\"type\":\"ColumnDataSource\"},\"glyph\":{\"id\":\"e91260c9-bded-4295-9dd5-63392395ee54\",\"type\":\"Circle\"},\"hover_glyph\":null,\"muted_glyph\":null,\"nonselection_glyph\":{\"id\":\"617f99d4-491a-499a-91fa-6df043eda449\",\"type\":\"Circle\"},\"selection_glyph\":null,\"view\":{\"id\":\"72b90794-c471-48fd-91d5-f4c21a9a7179\",\"type\":\"CDSView\"}},\"id\":\"1f9abf28-c86f-4ef7-84b1-2ddb12c466bd\",\"type\":\"GlyphRenderer\"},{\"attributes\":{\"data_source\":{\"id\":\"16937a26-c656-42bd-87d2-1d1899f138f2\",\"type\":\"ColumnDataSource\"},\"glyph\":{\"id\":\"af95aa11-a0d8-4a41-9854-f105b3d8f780\",\"type\":\"Square\"},\"hover_glyph\":null,\"muted_glyph\":null,\"nonselection_glyph\":{\"id\":\"bfe6ce5f-c97e-405c-880b-a8b5ce13bf51\",\"type\":\"Square\"},\"selection_glyph\":null,\"view\":{\"id\":\"affbccd8-9049-48df-8c9c-9e1094d74879\",\"type\":\"CDSView\"}},\"id\":\"8bf04819-ee10-4cf4-b717-dfb67fa3182a\",\"type\":\"GlyphRenderer\"},{\"attributes\":{\"fill_alpha\":{\"value\":0.1},\"fill_color\":{\"value\":\"#1f77b4\"},\"line_alpha\":{\"value\":0.1},\"line_color\":{\"value\":\"#1f77b4\"},\"x\":{\"field\":\"x\"},\"y\":{\"field\":\"y\"}},\"id\":\"617f99d4-491a-499a-91fa-6df043eda449\",\"type\":\"Circle\"},{\"attributes\":{\"fill_alpha\":{\"value\":0.7},\"fill_color\":{\"value\":\"#984ea3\"},\"line_alpha\":{\"value\":0.7},\"line_color\":{\"value\":\"#984ea3\"},\"x\":{\"field\":\"x\"},\"y\":{\"field\":\"y\"}},\"id\":\"af95aa11-a0d8-4a41-9854-f105b3d8f780\",\"type\":\"Square\"},{\"attributes\":{\"source\":{\"id\":\"09dc368a-b087-4a35-b237-6bbe58549721\",\"type\":\"ColumnDataSource\"}},\"id\":\"6e9b3c26-293c-4031-b1a1-79e77e675f36\",\"type\":\"CDSView\"},{\"attributes\":{\"line_alpha\":0.1,\"line_color\":\"#1f77b4\",\"line_dash\":[2,4,6,4],\"line_width\":3,\"x\":{\"field\":\"x\"},\"y\":{\"field\":\"y\"}},\"id\":\"94c55fc7-a1c0-4f11-a932-4aa729280d9e\",\"type\":\"Line\"},{\"attributes\":{\"line_color\":\"#4daf4a\",\"line_width\":1.5,\"x\":{\"field\":\"x\"},\"y\":{\"field\":\"y\"}},\"id\":\"afc9abbe-e9cf-43c2-97c0-66994c1e6c7c\",\"type\":\"Line\"},{\"attributes\":{\"data_source\":{\"id\":\"596f0348-44d2-4896-8708-a3bcd3b668be\",\"type\":\"ColumnDataSource\"},\"glyph\":{\"id\":\"6b081324-7ef5-4e3d-90bf-58729c1a9625\",\"type\":\"Line\"},\"hover_glyph\":null,\"muted_glyph\":null,\"nonselection_glyph\":{\"id\":\"94c55fc7-a1c0-4f11-a932-4aa729280d9e\",\"type\":\"Line\"},\"selection_glyph\":null,\"view\":{\"id\":\"517ca86d-77b7-4e23-8a97-bb755086a2e3\",\"type\":\"CDSView\"}},\"id\":\"5df863af-1a57-4ea7-80eb-0bbf56446c82\",\"type\":\"GlyphRenderer\"},{\"attributes\":{\"line_alpha\":0.1,\"line_color\":\"#1f77b4\",\"line_width\":1.5,\"x\":{\"field\":\"x\"},\"y\":{\"field\":\"y\"}},\"id\":\"1d2e0c1d-7c1e-41ab-8a79-e22796ec2b6f\",\"type\":\"Line\"},{\"attributes\":{\"active_drag\":\"auto\",\"active_inspect\":\"auto\",\"active_scroll\":\"auto\",\"active_tap\":\"auto\",\"tools\":[{\"id\":\"70aebc09-ec9d-476b-a9bb-23a19c7a7bb0\",\"type\":\"PanTool\"},{\"id\":\"4f68e185-4182-4a78-aac0-d5bb3e7246e4\",\"type\":\"WheelZoomTool\"},{\"id\":\"fc1ca226-432f-4c65-9aad-c0e8dafb2a49\",\"type\":\"BoxZoomTool\"},{\"id\":\"cd602c3a-4c69-434e-a360-2948b348d919\",\"type\":\"SaveTool\"},{\"id\":\"c318f394-bbb1-4591-9e70-962cfbc3785b\",\"type\":\"ResetTool\"},{\"id\":\"d3c64613-169a-45a6-8914-f14562fae973\",\"type\":\"HelpTool\"}]},\"id\":\"cbe83f3e-49ad-4427-a954-bc83abe5f92d\",\"type\":\"Toolbar\"},{\"attributes\":{\"data_source\":{\"id\":\"09dc368a-b087-4a35-b237-6bbe58549721\",\"type\":\"ColumnDataSource\"},\"glyph\":{\"id\":\"c3a73317-3861-4c23-b20f-aaa3641b8e93\",\"type\":\"InvertedTriangle\"},\"hover_glyph\":null,\"muted_glyph\":null,\"nonselection_glyph\":{\"id\":\"fc6a3d3f-6b3c-403f-9837-a67dfcacba2d\",\"type\":\"InvertedTriangle\"},\"selection_glyph\":null,\"view\":{\"id\":\"6e9b3c26-293c-4031-b1a1-79e77e675f36\",\"type\":\"CDSView\"}},\"id\":\"00a4fb7a-9570-4eee-b078-541e07d01cd8\",\"type\":\"GlyphRenderer\"},{\"attributes\":{\"callback\":null,\"column_names\":[\"x\",\"y\"],\"data\":{\"x\":{\"__ndarray__\":\"rIPNSqR+iL+mlmFnACuIv7Y6ZsT4dYe/QOCV5Wqyhr+7IjCKqeqFv6M3opzkHoW/jLhdgCZPhL9Ht6nzhHuDvxnx6d0bpIK/QrPHYTLJgb8oydqpMOuAvwBIrf2LCoC/lgUzaNhPfr9u/VLIF2l8vxAph8hJXna/Sg4aHtEqT78BxwEfMzx8P6YGlRYAc5E/BAiqPD2Tnj+VILm7IoanP+ptBpRa47A/Waq3eAsztz+LRmcuqiS9Pym3Jydejr0/SqtZG+6ZuD/MWTpHZvOyPyH6iHRM0as/WWPi7Fxsoz/Ru2cTFsuZP4WaBQDl9I8/pgJjh3UGgT91cE57utlnP8AQQLPTUEK/pGOw3ZuxaL872KQcwUZ4vxPzG4uOqYO//UG/F6iKir9w49xH6hSQv1xMXFwd35K/PyPj4dUjlb+cj3D8fqGVv/FI4gNAt5O/WnRDNyHLj7+TOr8wsseEvwuIRgACmWe/wOIYnFT6YT/md0TMv3J9PzsVRU+Xs40/hgVSvZBpmD/JW0HiPVihP9Xz9GX3UaY/NQ2wraS3qj/UYaGwbUyvP2u0daDpTbI/rSztrpVLtT81pw+AX3O4PxJGeQf0mbs/WZfoZl6Svz86prQfpWnBPzbckftnl8I/Gn5gXOR9wz+TQ7xcYU3EP1Lp7fBTLMU/egFymQUgxj+fMLR8VRXHP+me8VTy98c/itBC4TeuyD88n6Y79ALJP0w1FsG9usg/wIspHjjjxz94/Kxs/uPGP7MC6JxEKcY/IW9eQT/4xT8OxfTvwKHGP4KRVRnfess/\",\"dtype\":\"float64\",\"shape\":[75]},\"y\":{\"__ndarray__\":\"GhExyth1ND/Sv8nbtpRIP2vylNV0PVE/aTum7souWD/At0SJ8fVgPw3Iuahxymc/MSNhhJWvcD/bTfBN02d3P2zb5nxnaoA/CD5h5MAGhz8NmeH1TyaQP+zrCsc9p5Y/LbKd76fGnz/bLW5ISEmmPww9YvTcQq8/JV2OstnstT8Er5Y7M8G+P0c+r3jqkcU/5h99k6ZBzj88bCIzFzjVP4enV8oyxN0//yH99nXg5D8qOpLLf0jtP5kqGJXUifQ/c9cS8kHP/D+/DpwzojQEQIEmwoanVwxA4lgXt9HgE0BSSZ2AJuIbQAMJih9jjiNA5q4l5INuK0AwTKYKRj0zQNv5fmq8/DpAaCJseHrtQkB/+zpwzoxKQM3MzMzMeFJAZmZmZmZqWEAAAAAAAFxeQM3MzMzMJmJAmpmZmZkfZUBmZmZmZhhoQDMzMzMzEWtAAAAAAAAKbkBmZmZmZoFwQM3MzMzM/XFAMzMzMzN6c0CamZmZmfZ0QAAAAAAAc3ZAZmZmZmbvd0DNzMzMzGt5QDMzMzMz6HpAmpmZmZlkfEAAAAAAAOF9QGZmZmZmXX9AZmZmZuZsgECamZmZGSuBQM3MzMxM6YFAAAAAAICngkAzMzMzs2WDQGZmZmbmI4RAmpmZmRnihEDNzMzMTKCFQAAAAACAXoZAMzMzM7Mch0BmZmZm5tqHQJqZmZkZmYhAzczMzExXiUAAAAAAgBWKQDMzMzOz04pAZmZmZuaRi0CamZmZGVCMQM3MzMxMDo1AAAAAAIDMjUAzMzMzs4qOQGZmZmbmSI9A\",\"dtype\":\"float64\",\"shape\":[75]}}},\"id\":\"db93e587-12b2-4980-960a-27a231958809\",\"type\":\"ColumnDataSource\"},{\"attributes\":{\"fill_alpha\":{\"value\":0.1},\"fill_color\":{\"value\":\"#1f77b4\"},\"line_alpha\":{\"value\":0.1},\"line_color\":{\"value\":\"#1f77b4\"},\"x\":{\"field\":\"x\"},\"y\":{\"field\":\"y\"}},\"id\":\"fc6a3d3f-6b3c-403f-9837-a67dfcacba2d\",\"type\":\"InvertedTriangle\"},{\"attributes\":{\"ticker\":null},\"id\":\"1a97c55a-9b7c-43fb-88ec-a6483716abab\",\"type\":\"LogTickFormatter\"},{\"attributes\":{\"fill_alpha\":{\"value\":0.7},\"fill_color\":{\"value\":\"#4daf4a\"},\"line_alpha\":{\"value\":0.7},\"line_color\":{\"value\":\"#4daf4a\"},\"x\":{\"field\":\"x\"},\"y\":{\"field\":\"y\"}},\"id\":\"79184997-d2b2-41d9-892c-58f6a2a39eed\",\"type\":\"Circle\"},{\"attributes\":{\"source\":{\"id\":\"cede16a5-ec85-4edd-8616-4177cbf987e5\",\"type\":\"ColumnDataSource\"}},\"id\":\"72b90794-c471-48fd-91d5-f4c21a9a7179\",\"type\":\"CDSView\"},{\"attributes\":{\"source\":{\"id\":\"7b3df9f2-d438-4eb6-8741-d18614e80eb8\",\"type\":\"ColumnDataSource\"}},\"id\":\"b4804972-7d4c-4606-a54a-cac8754d350f\",\"type\":\"CDSView\"},{\"attributes\":{\"source\":{\"id\":\"16937a26-c656-42bd-87d2-1d1899f138f2\",\"type\":\"ColumnDataSource\"}},\"id\":\"affbccd8-9049-48df-8c9c-9e1094d74879\",\"type\":\"CDSView\"},{\"attributes\":{\"fill_alpha\":{\"value\":0.7},\"fill_color\":{\"value\":\"#984ea3\"},\"line_alpha\":{\"value\":0.7},\"line_color\":{\"value\":\"#984ea3\"},\"x\":{\"field\":\"x\"},\"y\":{\"field\":\"y\"}},\"id\":\"bb517805-af64-4d6e-9fb5-4eec91c0e2af\",\"type\":\"Square\"},{\"attributes\":{},\"id\":\"1738480f-aa59-4b08-840e-645afeb39fa6\",\"type\":\"BasicTickFormatter\"},{\"attributes\":{\"callback\":null,\"column_names\":[\"x\",\"y\"],\"data\":{\"x\":{\"__ndarray__\":\"rIPNSqR+iL+mlmFnACuIv7Y6ZsT4dYe/QOCV5Wqyhr+7IjCKqeqFv6M3opzkHoW/jLhdgCZPhL9Ht6nzhHuDvxnx6d0bpIK/QrPHYTLJgb8oydqpMOuAvwBIrf2LCoC/lgUzaNhPfr9u/VLIF2l8vxAph8hJXna/Sg4aHtEqT78BxwEfMzx8P6YGlRYAc5E/BAiqPD2Tnj+VILm7IoanP+ptBpRa47A/Waq3eAsztz+LRmcuqiS9Pym3Jydejr0/SqtZG+6ZuD/MWTpHZvOyPyH6iHRM0as/WWPi7Fxsoz/Ru2cTFsuZP4WaBQDl9I8/pgJjh3UGgT91cE57utlnP8AQQLPTUEK/pGOw3ZuxaL872KQcwUZ4vxPzG4uOqYO//UG/F6iKir9w49xH6hSQv1xMXFwd35K/PyPj4dUjlb+cj3D8fqGVv/FI4gNAt5O/WnRDNyHLj7+TOr8wsseEvwuIRgACmWe/wOIYnFT6YT/md0TMv3J9PzsVRU+Xs40/hgVSvZBpmD/JW0HiPVihP9Xz9GX3UaY/NQ2wraS3qj/UYaGwbUyvP2u0daDpTbI/rSztrpVLtT81pw+AX3O4PxJGeQf0mbs/WZfoZl6Svz86prQfpWnBPzbckftnl8I/Gn5gXOR9wz+TQ7xcYU3EP1Lp7fBTLMU/egFymQUgxj+fMLR8VRXHP+me8VTy98c/itBC4TeuyD88n6Y79ALJP0w1FsG9usg/wIspHjjjxz94/Kxs/uPGP7MC6JxEKcY/IW9eQT/4xT8OxfTvwKHGP4KRVRnfess/\",\"dtype\":\"float64\",\"shape\":[75]},\"y\":{\"__ndarray__\":\"GhExyth1ND/Sv8nbtpRIP2vylNV0PVE/aTum7souWD/At0SJ8fVgPw3Iuahxymc/MSNhhJWvcD/bTfBN02d3P2zb5nxnaoA/CD5h5MAGhz8NmeH1TyaQP+zrCsc9p5Y/LbKd76fGnz/bLW5ISEmmPww9YvTcQq8/JV2OstnstT8Er5Y7M8G+P0c+r3jqkcU/5h99k6ZBzj88bCIzFzjVP4enV8oyxN0//yH99nXg5D8qOpLLf0jtP5kqGJXUifQ/c9cS8kHP/D+/DpwzojQEQIEmwoanVwxA4lgXt9HgE0BSSZ2AJuIbQAMJih9jjiNA5q4l5INuK0AwTKYKRj0zQNv5fmq8/DpAaCJseHrtQkB/+zpwzoxKQM3MzMzMeFJAZmZmZmZqWEAAAAAAAFxeQM3MzMzMJmJAmpmZmZkfZUBmZmZmZhhoQDMzMzMzEWtAAAAAAAAKbkBmZmZmZoFwQM3MzMzM/XFAMzMzMzN6c0CamZmZmfZ0QAAAAAAAc3ZAZmZmZmbvd0DNzMzMzGt5QDMzMzMz6HpAmpmZmZlkfEAAAAAAAOF9QGZmZmZmXX9AZmZmZuZsgECamZmZGSuBQM3MzMxM6YFAAAAAAICngkAzMzMzs2WDQGZmZmbmI4RAmpmZmRnihEDNzMzMTKCFQAAAAACAXoZAMzMzM7Mch0BmZmZm5tqHQJqZmZkZmYhAzczMzExXiUAAAAAAgBWKQDMzMzOz04pAZmZmZuaRi0CamZmZGVCMQM3MzMxMDo1AAAAAAIDMjUAzMzMzs4qOQGZmZmbmSI9A\",\"dtype\":\"float64\",\"shape\":[75]}}},\"id\":\"30212f97-571b-4966-9948-7d1eac589289\",\"type\":\"ColumnDataSource\"},{\"attributes\":{\"line_alpha\":0.1,\"line_color\":\"#1f77b4\",\"line_width\":1.5,\"x\":{\"field\":\"x\"},\"y\":{\"field\":\"y\"}},\"id\":\"8c6da249-6bf4-4e7b-81cd-106abb8e65f7\",\"type\":\"Line\"},{\"attributes\":{\"data_source\":{\"id\":\"30212f97-571b-4966-9948-7d1eac589289\",\"type\":\"ColumnDataSource\"},\"glyph\":{\"id\":\"bb517805-af64-4d6e-9fb5-4eec91c0e2af\",\"type\":\"Square\"},\"hover_glyph\":null,\"muted_glyph\":null,\"nonselection_glyph\":{\"id\":\"dd63997b-6e31-4085-b013-79ee0fe2f475\",\"type\":\"Square\"},\"selection_glyph\":null,\"view\":{\"id\":\"2b2fd277-b1c7-4dec-a2fa-a01d6fc156f3\",\"type\":\"CDSView\"}},\"id\":\"6a9e4c2e-5809-484f-90f1-f8fc0ded232c\",\"type\":\"GlyphRenderer\"},{\"attributes\":{\"data_source\":{\"id\":\"7b3df9f2-d438-4eb6-8741-d18614e80eb8\",\"type\":\"ColumnDataSource\"},\"glyph\":{\"id\":\"afc9abbe-e9cf-43c2-97c0-66994c1e6c7c\",\"type\":\"Line\"},\"hover_glyph\":null,\"muted_glyph\":null,\"nonselection_glyph\":{\"id\":\"1d2e0c1d-7c1e-41ab-8a79-e22796ec2b6f\",\"type\":\"Line\"},\"selection_glyph\":null,\"view\":{\"id\":\"b4804972-7d4c-4606-a54a-cac8754d350f\",\"type\":\"CDSView\"}},\"id\":\"34460429-bb90-425b-b44b-2bbf3e2ba1df\",\"type\":\"GlyphRenderer\"},{\"attributes\":{\"line_alpha\":0.1,\"line_color\":\"#1f77b4\",\"line_width\":3,\"x\":{\"field\":\"x\"},\"y\":{\"field\":\"y\"}},\"id\":\"50088591-cadc-4b5c-b94f-ee51f1b3056f\",\"type\":\"Line\"},{\"attributes\":{\"children\":[{\"id\":\"30feb295-9edc-4f5f-8e33-928473a26b07\",\"type\":\"Row\"}]},\"id\":\"01410afb-be22-4bce-83c5-1afb8cde7b2c\",\"type\":\"Column\"},{\"attributes\":{\"line_alpha\":0.6,\"line_color\":\"#984ea3\",\"line_width\":3,\"x\":{\"field\":\"x\"},\"y\":{\"field\":\"y\"}},\"id\":\"24180f8d-8b79-4012-8f98-af68ddf9745b\",\"type\":\"Line\"},{\"attributes\":{\"fill_alpha\":{\"value\":0.1},\"fill_color\":{\"value\":\"#1f77b4\"},\"line_alpha\":{\"value\":0.1},\"line_color\":{\"value\":\"#1f77b4\"},\"x\":{\"field\":\"x\"},\"y\":{\"field\":\"y\"}},\"id\":\"dd63997b-6e31-4085-b013-79ee0fe2f475\",\"type\":\"Square\"},{\"attributes\":{\"callback\":null,\"column_names\":[\"x\",\"y\"],\"data\":{\"x\":{\"__ndarray__\":\"rIPNSqR+iL+mlmFnACuIv7Y6ZsT4dYe/QOCV5Wqyhr+7IjCKqeqFv6M3opzkHoW/jLhdgCZPhL9Ht6nzhHuDvxnx6d0bpIK/QrPHYTLJgb8oydqpMOuAvwBIrf2LCoC/lgUzaNhPfr9u/VLIF2l8vxAph8hJXna/Sg4aHtEqT78BxwEfMzx8P6YGlRYAc5E/BAiqPD2Tnj+VILm7IoanP+ptBpRa47A/Waq3eAsztz+LRmcuqiS9Pym3Jydejr0/SqtZG+6ZuD/MWTpHZvOyPyH6iHRM0as/WWPi7Fxsoz/Ru2cTFsuZP4WaBQDl9I8/pgJjh3UGgT91cE57utlnP8AQQLPTUEK/pGOw3ZuxaL872KQcwUZ4vxPzG4uOqYO//UG/F6iKir9w49xH6hSQv1xMXFwd35K/PyPj4dUjlb+cj3D8fqGVv/FI4gNAt5O/WnRDNyHLj7+TOr8wsseEvwuIRgACmWe/wOIYnFT6YT/md0TMv3J9PzsVRU+Xs40/hgVSvZBpmD/JW0HiPVihP9Xz9GX3UaY/NQ2wraS3qj/UYaGwbUyvP2u0daDpTbI/rSztrpVLtT81pw+AX3O4PxJGeQf0mbs/WZfoZl6Svz86prQfpWnBPzbckftnl8I/Gn5gXOR9wz+TQ7xcYU3EP1Lp7fBTLMU/egFymQUgxj+fMLR8VRXHP+me8VTy98c/itBC4TeuyD88n6Y79ALJP0w1FsG9usg/wIspHjjjxz94/Kxs/uPGP7MC6JxEKcY/IW9eQT/4xT8OxfTvwKHGP4KRVRnfess/\",\"dtype\":\"float64\",\"shape\":[75]},\"y\":{\"__ndarray__\":\"GhExyth1ND/Sv8nbtpRIP2vylNV0PVE/aTum7souWD/At0SJ8fVgPw3Iuahxymc/MSNhhJWvcD/bTfBN02d3P2zb5nxnaoA/CD5h5MAGhz8NmeH1TyaQP+zrCsc9p5Y/LbKd76fGnz/bLW5ISEmmPww9YvTcQq8/JV2OstnstT8Er5Y7M8G+P0c+r3jqkcU/5h99k6ZBzj88bCIzFzjVP4enV8oyxN0//yH99nXg5D8qOpLLf0jtP5kqGJXUifQ/c9cS8kHP/D+/DpwzojQEQIEmwoanVwxA4lgXt9HgE0BSSZ2AJuIbQAMJih9jjiNA5q4l5INuK0AwTKYKRj0zQNv5fmq8/DpAaCJseHrtQkB/+zpwzoxKQM3MzMzMeFJAZmZmZmZqWEAAAAAAAFxeQM3MzMzMJmJAmpmZmZkfZUBmZmZmZhhoQDMzMzMzEWtAAAAAAAAKbkBmZmZmZoFwQM3MzMzM/XFAMzMzMzN6c0CamZmZmfZ0QAAAAAAAc3ZAZmZmZmbvd0DNzMzMzGt5QDMzMzMz6HpAmpmZmZlkfEAAAAAAAOF9QGZmZmZmXX9AZmZmZuZsgECamZmZGSuBQM3MzMxM6YFAAAAAAICngkAzMzMzs2WDQGZmZmbmI4RAmpmZmRnihEDNzMzMTKCFQAAAAACAXoZAMzMzM7Mch0BmZmZm5tqHQJqZmZkZmYhAzczMzExXiUAAAAAAgBWKQDMzMzOz04pAZmZmZuaRi0CamZmZGVCMQM3MzMxMDo1AAAAAAIDMjUAzMzMzs4qOQGZmZmbmSI9A\",\"dtype\":\"float64\",\"shape\":[75]}}},\"id\":\"c91e43aa-8307-4450-90a2-5338c3f8f6c9\",\"type\":\"ColumnDataSource\"},{\"attributes\":{\"source\":{\"id\":\"30212f97-571b-4966-9948-7d1eac589289\",\"type\":\"ColumnDataSource\"}},\"id\":\"2b2fd277-b1c7-4dec-a2fa-a01d6fc156f3\",\"type\":\"CDSView\"},{\"attributes\":{\"data_source\":{\"id\":\"c91e43aa-8307-4450-90a2-5338c3f8f6c9\",\"type\":\"ColumnDataSource\"},\"glyph\":{\"id\":\"24180f8d-8b79-4012-8f98-af68ddf9745b\",\"type\":\"Line\"},\"hover_glyph\":null,\"muted_glyph\":null,\"nonselection_glyph\":{\"id\":\"50088591-cadc-4b5c-b94f-ee51f1b3056f\",\"type\":\"Line\"},\"selection_glyph\":null,\"view\":{\"id\":\"af3f9dfe-f265-4d8d-8cf2-ccb5fefd67ed\",\"type\":\"CDSView\"}},\"id\":\"c4296881-8486-4ec1-95b6-db9c8b3e5fc9\",\"type\":\"GlyphRenderer\"},{\"attributes\":{\"line_alpha\":0.6,\"line_color\":\"#377eb8\",\"line_dash\":[2,4,6,4],\"line_width\":3,\"x\":{\"field\":\"x\"},\"y\":{\"field\":\"y\"}},\"id\":\"6b081324-7ef5-4e3d-90bf-58729c1a9625\",\"type\":\"Line\"},{\"attributes\":{\"source\":{\"id\":\"c91e43aa-8307-4450-90a2-5338c3f8f6c9\",\"type\":\"ColumnDataSource\"}},\"id\":\"af3f9dfe-f265-4d8d-8cf2-ccb5fefd67ed\",\"type\":\"CDSView\"},{\"attributes\":{\"callback\":null,\"column_names\":[\"x\",\"y\"],\"data\":{\"x\":{\"__ndarray__\":\"bAgF2lq1kL8gW+9nE4iQv+XyVMQ/JZC/OymHpzt1j78tP/TNy5uOv833MNSRvo2/FcQs89fdjL/hl12kDvqLvwvXreKw24u/pm7q4Lknir9P38175T+Jv7eQKRrJ8Ii/JdHx7zjng7910XlVs0OGvzx/QWeekIC/5kwk4veAcr+Vknobz+pjP/h/ztc+eo0/1AeIBZuTnT/TR6ZktdCmP32fHpkWDrE/Sd4xI1mTtz/72fqvlOG9PxYF8tNVDb4/C5PAHseauD8nGN1g+YqyP4G9ePXgpKo/3vhPQcJToj+PUktrujuYPycuLw+FDo8/7WjeYTo8gj94iSjtn/xsP4iQ/Bj83j0/zIIL5cRfYr843oD6RmB2vzqcgVk29oK/yoHDsGjfib+qCQBgBZCPv5xsZqFbt5K/Gat8uKwOlb/1O5v1LH+Vv8x16i+TX5O/hPa38vzjjb/4S9pA+TyCv/NWpqZAiV+/MMA5OJymbD8oZYOhViWDP2c3DzRan5A/DwxBihH0mT/QI8oH0v+hP6Msn4zBKKc/6TRw3yHHqz9qrM9lAi+wP89wxtomr7I/jiDA4qNXtT+0CA4thx24Pz4+3x6dHbs/2/OhsDDpvj8C4bffqRnBPzd7811CbMI/BNwcfJtdwz+GZ3TNBSrEP+lNf9UV3MQ/g4cnwwqaxT+LUkKwql7GP3vOaViEScc/i/qHoZOtxz/0ULp4aG3IPw5eJlDlMMg/7CrNe9aUxz+o+IV4oKXGP0lii9XN4sU/aULNbxyhxT9Qcdpb4xbGPzxv33p/yco/\",\"dtype\":\"float64\",\"shape\":[75]},\"y\":{\"__ndarray__\":\"GhExyth1ND/Sv8nbtpRIP2vylNV0PVE/aTum7souWD/At0SJ8fVgPw3Iuahxymc/MSNhhJWvcD/bTfBN02d3P2zb5nxnaoA/CD5h5MAGhz8NmeH1TyaQP+zrCsc9p5Y/LbKd76fGnz/bLW5ISEmmPww9YvTcQq8/JV2OstnstT8Er5Y7M8G+P0c+r3jqkcU/5h99k6ZBzj88bCIzFzjVP4enV8oyxN0//yH99nXg5D8qOpLLf0jtP5kqGJXUifQ/c9cS8kHP/D+/DpwzojQEQIEmwoanVwxA4lgXt9HgE0BSSZ2AJuIbQAMJih9jjiNA5q4l5INuK0AwTKYKRj0zQNv5fmq8/DpAaCJseHrtQkB/+zpwzoxKQM3MzMzMeFJAZmZmZmZqWEAAAAAAAFxeQM3MzMzMJmJAmpmZmZkfZUBmZmZmZhhoQDMzMzMzEWtAAAAAAAAKbkBmZmZmZoFwQM3MzMzM/XFAMzMzMzN6c0CamZmZmfZ0QAAAAAAAc3ZAZmZmZmbvd0DNzMzMzGt5QDMzMzMz6HpAmpmZmZlkfEAAAAAAAOF9QGZmZmZmXX9AZmZmZuZsgECamZmZGSuBQM3MzMxM6YFAAAAAAICngkAzMzMzs2WDQGZmZmbmI4RAmpmZmRnihEDNzMzMTKCFQAAAAACAXoZAMzMzM7Mch0BmZmZm5tqHQJqZmZkZmYhAzczMzExXiUAAAAAAgBWKQDMzMzOz04pAZmZmZuaRi0CamZmZGVCMQM3MzMxMDo1AAAAAAIDMjUAzMzMzs4qOQGZmZmbmSI9A\",\"dtype\":\"float64\",\"shape\":[75]}}},\"id\":\"596f0348-44d2-4896-8708-a3bcd3b668be\",\"type\":\"ColumnDataSource\"}],\"root_ids\":[\"dceafd27-e6db-415d-a4c2-2d3195c5df77\"]},\"title\":\"Bokeh Application\",\"version\":\"0.12.14\"}};\n",
       "  var render_items = [{\"docid\":\"5904c6bd-c591-4f8f-bb43-13200f102857\",\"elementid\":\"67d48acf-3ff2-4876-a23d-36699cf21af7\",\"modelid\":\"dceafd27-e6db-415d-a4c2-2d3195c5df77\"}];\n",
       "  root.Bokeh.embed.embed_items_notebook(docs_json, render_items);\n",
       "\n",
       "  }\n",
       "  if (root.Bokeh !== undefined) {\n",
       "    embed_document(root);\n",
       "  } else {\n",
       "    var attempts = 0;\n",
       "    var timer = setInterval(function(root) {\n",
       "      if (root.Bokeh !== undefined) {\n",
       "        embed_document(root);\n",
       "        clearInterval(timer);\n",
       "      }\n",
       "      attempts++;\n",
       "      if (attempts > 100) {\n",
       "        console.log(\"Bokeh: ERROR: Unable to run BokehJS code because BokehJS library is missing\")\n",
       "        clearInterval(timer);\n",
       "      }\n",
       "    }, 10, root)\n",
       "  }\n",
       "})(window);"
      ],
      "application/vnd.bokehjs_exec.v0+json": ""
     },
     "metadata": {
      "application/vnd.bokehjs_exec.v0+json": {
       "id": "dceafd27-e6db-415d-a4c2-2d3195c5df77"
      }
     },
     "output_type": "display_data"
    },
    {
     "name": "stdout",
     "output_type": "stream",
     "text": [
      "FIGURE. Cooling rate profiles.\n"
     ]
    },
    {
     "data": {
      "text/html": [
       "<a id=\"Flux_Comparison\"></a>"
      ],
      "text/plain": [
       "<IPython.core.display.HTML object>"
      ]
     },
     "metadata": {},
     "output_type": "display_data"
    },
    {
     "data": {
      "text/markdown": [
       "# Flux Comparison"
      ],
      "text/plain": [
       "<IPython.core.display.Markdown object>"
      ]
     },
     "metadata": {},
     "output_type": "display_data"
    },
    {
     "data": {
      "text/html": [
       "<div>\n",
       "<style>\n",
       "    .dataframe thead tr:only-child th {\n",
       "        text-align: right;\n",
       "    }\n",
       "\n",
       "    .dataframe thead th {\n",
       "        text-align: left;\n",
       "    }\n",
       "\n",
       "    .dataframe tbody tr th {\n",
       "        vertical-align: top;\n",
       "    }\n",
       "</style>\n",
       "<table border=\"1\" class=\"dataframe\">\n",
       "  <thead>\n",
       "    <tr style=\"text-align: right;\">\n",
       "      <th></th>\n",
       "      <th></th>\n",
       "      <th>flug</th>\n",
       "      <th>fldg</th>\n",
       "      <th>fnetg</th>\n",
       "    </tr>\n",
       "    <tr>\n",
       "      <th>pressure</th>\n",
       "      <th>level</th>\n",
       "      <th></th>\n",
       "      <th></th>\n",
       "      <th></th>\n",
       "    </tr>\n",
       "  </thead>\n",
       "  <tbody>\n",
       "    <tr>\n",
       "      <th>0.0000</th>\n",
       "      <th>1</th>\n",
       "      <td>-14.442905</td>\n",
       "      <td>0.000000</td>\n",
       "      <td>-14.442905</td>\n",
       "    </tr>\n",
       "    <tr>\n",
       "      <th>1.0685</th>\n",
       "      <th>24</th>\n",
       "      <td>-14.442795</td>\n",
       "      <td>0.008647</td>\n",
       "      <td>-14.434148</td>\n",
       "    </tr>\n",
       "    <tr>\n",
       "      <th>1013.0000</th>\n",
       "      <th>76</th>\n",
       "      <td>-23.755175</td>\n",
       "      <td>19.142618</td>\n",
       "      <td>-4.612557</td>\n",
       "    </tr>\n",
       "  </tbody>\n",
       "</table>\n",
       "</div>"
      ],
      "text/plain": [
       "                      flug       fldg      fnetg\n",
       "pressure  level                                 \n",
       "0.0000    1     -14.442905   0.000000 -14.442905\n",
       "1.0685    24    -14.442795   0.008647 -14.434148\n",
       "1013.0000 76    -23.755175  19.142618  -4.612557"
      ]
     },
     "metadata": {},
     "output_type": "display_data"
    },
    {
     "name": "stdout",
     "output_type": "stream",
     "text": [
      "Table. Fluxes. CRD\n"
     ]
    },
    {
     "data": {
      "text/html": [
       "<div>\n",
       "<style>\n",
       "    .dataframe thead tr:only-child th {\n",
       "        text-align: right;\n",
       "    }\n",
       "\n",
       "    .dataframe thead th {\n",
       "        text-align: left;\n",
       "    }\n",
       "\n",
       "    .dataframe tbody tr th {\n",
       "        vertical-align: top;\n",
       "    }\n",
       "</style>\n",
       "<table border=\"1\" class=\"dataframe\">\n",
       "  <thead>\n",
       "    <tr style=\"text-align: right;\">\n",
       "      <th></th>\n",
       "      <th></th>\n",
       "      <th>flug</th>\n",
       "      <th>fldg</th>\n",
       "      <th>fnetg</th>\n",
       "    </tr>\n",
       "    <tr>\n",
       "      <th>pressure</th>\n",
       "      <th>level</th>\n",
       "      <th></th>\n",
       "      <th></th>\n",
       "      <th></th>\n",
       "    </tr>\n",
       "  </thead>\n",
       "  <tbody>\n",
       "    <tr>\n",
       "      <th>0.0000</th>\n",
       "      <th>1</th>\n",
       "      <td>-14.737352</td>\n",
       "      <td>0.000000</td>\n",
       "      <td>-14.737352</td>\n",
       "    </tr>\n",
       "    <tr>\n",
       "      <th>1.0685</th>\n",
       "      <th>24</th>\n",
       "      <td>-14.734850</td>\n",
       "      <td>0.006168</td>\n",
       "      <td>-14.728682</td>\n",
       "    </tr>\n",
       "    <tr>\n",
       "      <th>1013.0000</th>\n",
       "      <th>76</th>\n",
       "      <td>-23.755175</td>\n",
       "      <td>19.075295</td>\n",
       "      <td>-4.679881</td>\n",
       "    </tr>\n",
       "  </tbody>\n",
       "</table>\n",
       "</div>"
      ],
      "text/plain": [
       "                      flug       fldg      fnetg\n",
       "pressure  level                                 \n",
       "0.0000    1     -14.737352   0.000000 -14.737352\n",
       "1.0685    24    -14.734850   0.006168 -14.728682\n",
       "1013.0000 76    -23.755175  19.075295  -4.679881"
      ]
     },
     "metadata": {},
     "output_type": "display_data"
    },
    {
     "name": "stdout",
     "output_type": "stream",
     "text": [
      "Table. Fluxes. WGT igg=10\n"
     ]
    },
    {
     "data": {
      "text/html": [
       "<div>\n",
       "<style>\n",
       "    .dataframe thead tr:only-child th {\n",
       "        text-align: right;\n",
       "    }\n",
       "\n",
       "    .dataframe thead th {\n",
       "        text-align: left;\n",
       "    }\n",
       "\n",
       "    .dataframe tbody tr th {\n",
       "        vertical-align: top;\n",
       "    }\n",
       "</style>\n",
       "<table border=\"1\" class=\"dataframe\">\n",
       "  <thead>\n",
       "    <tr style=\"text-align: right;\">\n",
       "      <th></th>\n",
       "      <th></th>\n",
       "      <th>flug</th>\n",
       "      <th>fldg</th>\n",
       "      <th>fnetg</th>\n",
       "    </tr>\n",
       "    <tr>\n",
       "      <th>pressure</th>\n",
       "      <th>level</th>\n",
       "      <th></th>\n",
       "      <th></th>\n",
       "      <th></th>\n",
       "    </tr>\n",
       "  </thead>\n",
       "  <tbody>\n",
       "    <tr>\n",
       "      <th>0.0000</th>\n",
       "      <th>1</th>\n",
       "      <td>-14.600121</td>\n",
       "      <td>0.000000</td>\n",
       "      <td>-14.600121</td>\n",
       "    </tr>\n",
       "    <tr>\n",
       "      <th>1.0685</th>\n",
       "      <th>24</th>\n",
       "      <td>-14.597947</td>\n",
       "      <td>0.006544</td>\n",
       "      <td>-14.591403</td>\n",
       "    </tr>\n",
       "    <tr>\n",
       "      <th>1013.0000</th>\n",
       "      <th>76</th>\n",
       "      <td>-23.755175</td>\n",
       "      <td>19.090784</td>\n",
       "      <td>-4.664391</td>\n",
       "    </tr>\n",
       "  </tbody>\n",
       "</table>\n",
       "</div>"
      ],
      "text/plain": [
       "                      flug       fldg      fnetg\n",
       "pressure  level                                 \n",
       "0.0000    1     -14.600121   0.000000 -14.600121\n",
       "1.0685    24    -14.597947   0.006544 -14.591403\n",
       "1013.0000 76    -23.755175  19.090784  -4.664391"
      ]
     },
     "metadata": {},
     "output_type": "display_data"
    },
    {
     "name": "stdout",
     "output_type": "stream",
     "text": [
      "Table. Fluxes. WGT igg=1\n"
     ]
    },
    {
     "data": {
      "text/html": [
       "<div>\n",
       "<style>\n",
       "    .dataframe thead tr:only-child th {\n",
       "        text-align: right;\n",
       "    }\n",
       "\n",
       "    .dataframe thead th {\n",
       "        text-align: left;\n",
       "    }\n",
       "\n",
       "    .dataframe tbody tr th {\n",
       "        vertical-align: top;\n",
       "    }\n",
       "</style>\n",
       "<table border=\"1\" class=\"dataframe\">\n",
       "  <thead>\n",
       "    <tr style=\"text-align: right;\">\n",
       "      <th></th>\n",
       "      <th></th>\n",
       "      <th>flug</th>\n",
       "      <th>fldg</th>\n",
       "      <th>fnetg</th>\n",
       "    </tr>\n",
       "    <tr>\n",
       "      <th>pressure</th>\n",
       "      <th>level</th>\n",
       "      <th></th>\n",
       "      <th></th>\n",
       "      <th></th>\n",
       "    </tr>\n",
       "  </thead>\n",
       "  <tbody>\n",
       "    <tr>\n",
       "      <th>0.0000</th>\n",
       "      <th>1</th>\n",
       "      <td>-0.294447</td>\n",
       "      <td>0.000000</td>\n",
       "      <td>-0.294447</td>\n",
       "    </tr>\n",
       "    <tr>\n",
       "      <th>1.0685</th>\n",
       "      <th>24</th>\n",
       "      <td>-0.292055</td>\n",
       "      <td>-0.002479</td>\n",
       "      <td>-0.294534</td>\n",
       "    </tr>\n",
       "    <tr>\n",
       "      <th>1013.0000</th>\n",
       "      <th>76</th>\n",
       "      <td>0.000000</td>\n",
       "      <td>-0.067323</td>\n",
       "      <td>-0.067324</td>\n",
       "    </tr>\n",
       "  </tbody>\n",
       "</table>\n",
       "</div>"
      ],
      "text/plain": [
       "                     flug      fldg     fnetg\n",
       "pressure  level                              \n",
       "0.0000    1     -0.294447  0.000000 -0.294447\n",
       "1.0685    24    -0.292055 -0.002479 -0.294534\n",
       "1013.0000 76     0.000000 -0.067323 -0.067324"
      ]
     },
     "metadata": {},
     "output_type": "display_data"
    },
    {
     "name": "stdout",
     "output_type": "stream",
     "text": [
      "Table. Fluxes. (WGT igg=10) - (CRD)\n"
     ]
    },
    {
     "data": {
      "text/html": [
       "<div>\n",
       "<style>\n",
       "    .dataframe thead tr:only-child th {\n",
       "        text-align: right;\n",
       "    }\n",
       "\n",
       "    .dataframe thead th {\n",
       "        text-align: left;\n",
       "    }\n",
       "\n",
       "    .dataframe tbody tr th {\n",
       "        vertical-align: top;\n",
       "    }\n",
       "</style>\n",
       "<table border=\"1\" class=\"dataframe\">\n",
       "  <thead>\n",
       "    <tr style=\"text-align: right;\">\n",
       "      <th></th>\n",
       "      <th></th>\n",
       "      <th>flug</th>\n",
       "      <th>fldg</th>\n",
       "      <th>fnetg</th>\n",
       "    </tr>\n",
       "    <tr>\n",
       "      <th>pressure</th>\n",
       "      <th>level</th>\n",
       "      <th></th>\n",
       "      <th></th>\n",
       "      <th></th>\n",
       "    </tr>\n",
       "  </thead>\n",
       "  <tbody>\n",
       "    <tr>\n",
       "      <th>0.0000</th>\n",
       "      <th>1</th>\n",
       "      <td>-0.157216</td>\n",
       "      <td>0.000000</td>\n",
       "      <td>-0.157216</td>\n",
       "    </tr>\n",
       "    <tr>\n",
       "      <th>1.0685</th>\n",
       "      <th>24</th>\n",
       "      <td>-0.155152</td>\n",
       "      <td>-0.002104</td>\n",
       "      <td>-0.157255</td>\n",
       "    </tr>\n",
       "    <tr>\n",
       "      <th>1013.0000</th>\n",
       "      <th>76</th>\n",
       "      <td>0.000000</td>\n",
       "      <td>-0.051834</td>\n",
       "      <td>-0.051834</td>\n",
       "    </tr>\n",
       "  </tbody>\n",
       "</table>\n",
       "</div>"
      ],
      "text/plain": [
       "                     flug      fldg     fnetg\n",
       "pressure  level                              \n",
       "0.0000    1     -0.157216  0.000000 -0.157216\n",
       "1.0685    24    -0.155152 -0.002104 -0.157255\n",
       "1013.0000 76     0.000000 -0.051834 -0.051834"
      ]
     },
     "metadata": {},
     "output_type": "display_data"
    },
    {
     "name": "stdout",
     "output_type": "stream",
     "text": [
      "Table. Fluxes. (WGT igg=1) - (CRD)\n"
     ]
    },
    {
     "data": {
      "text/html": [
       "<a id=\"Best-fit_Parameters\"></a>"
      ],
      "text/plain": [
       "<IPython.core.display.HTML object>"
      ]
     },
     "metadata": {},
     "output_type": "display_data"
    },
    {
     "data": {
      "text/markdown": [
       "# Best-fit Parameters"
      ],
      "text/plain": [
       "<IPython.core.display.Markdown object>"
      ]
     },
     "metadata": {},
     "output_type": "display_data"
    },
    {
     "name": "stdout",
     "output_type": "stream",
     "text": [
      "Best-fit values for each (gas, band)\n",
      "------------------------------------\n",
      "o h2o band7\n",
      "  molecule = h2o\n",
      "  band = 7\n",
      "  commitnumber = 043bdfe\n",
      "  vmin = 1215\n",
      "  vmax = 1380\n",
      "  dv = 0.001\n",
      "  nv = 1000\n",
      "  ref_pts = [(600, 250)]\n",
      "  ng_refs = [7]\n",
      "  ng_adju = [0]\n",
      "  klin = 0\n",
      "  option_wgt_k = 1\n",
      "  wgt = [(0.5, 0.5, 0.5, 0.5, 0.5, 0.5, 0.9)]\n",
      "  w_diffuse = [(2, 1.6, 1.6, 1.6, 1.6, 1.6, 1.8)]\n",
      "  option_wgt_flux = 1\n",
      "  atmpro = mls\n",
      "  tsfc = 294\n",
      "  conc = None\n",
      "  option_compute_btable = 0\n",
      "  option_compute_ktable = 0\n",
      "o n2o band7\n",
      "  molecule = n2o\n",
      "  band = 7\n",
      "  commitnumber = 043bdfe\n",
      "  vmin = 1215\n",
      "  vmax = 1380\n",
      "  dv = 0.001\n",
      "  nv = 1000\n",
      "  ref_pts = [(1, 250), (500, 250)]\n",
      "  ng_refs = [2, 2]\n",
      "  ng_adju = [0, 0]\n",
      "  klin = 2.22e-20\n",
      "  option_wgt_k = 1\n",
      "  wgt = [(0.6, 0.5), (0.6, 0.9)]\n",
      "  w_diffuse = [(1.8, 1.66), (1.6, 1.8)]\n",
      "  option_wgt_flux = 1\n",
      "  atmpro = mls\n",
      "  tsfc = 294\n",
      "  conc = 3.2e-07\n",
      "  option_compute_btable = 0\n",
      "  option_compute_ktable = 0\n"
     ]
    }
   ],
   "source": [
    "script()"
   ]
  },
  {
   "cell_type": "code",
   "execution_count": 12,
   "metadata": {},
   "outputs": [
    {
     "data": {
      "text/html": [
       "<script>\n",
       "code_show=true; \n",
       "function code_toggle() {\n",
       " if (code_show){\n",
       " $('div.input').hide();\n",
       " } else {\n",
       " $('div.input').show();\n",
       " }\n",
       " code_show = !code_show\n",
       "} \n",
       "$( document ).ready(code_toggle);\n",
       "</script>\n",
       "<form action=\"javascript:code_toggle()\"><input type=\"submit\" value=\"Click here to toggle on/off the raw code.\"></form>"
      ],
      "text/plain": [
       "<IPython.core.display.HTML object>"
      ]
     },
     "execution_count": 12,
     "metadata": {},
     "output_type": "execute_result"
    }
   ],
   "source": [
    "display.HTML('''<script>\n",
    "code_show=true; \n",
    "function code_toggle() {\n",
    " if (code_show){\n",
    " $('div.input').hide();\n",
    " } else {\n",
    " $('div.input').show();\n",
    " }\n",
    " code_show = !code_show\n",
    "} \n",
    "$( document ).ready(code_toggle);\n",
    "</script>\n",
    "<form action=\"javascript:code_toggle()\"><input type=\"submit\" value=\"Click here to toggle on/off the raw code.\"></form>''')"
   ]
  }
 ],
 "metadata": {
  "kernelspec": {
   "display_name": "Python 3",
   "language": "python",
   "name": "python3"
  },
  "language_info": {
   "codemirror_mode": {
    "name": "ipython",
    "version": 3
   },
   "file_extension": ".py",
   "mimetype": "text/x-python",
   "name": "python",
   "nbconvert_exporter": "python",
   "pygments_lexer": "ipython3",
   "version": "3.6.1"
  }
 },
 "nbformat": 4,
 "nbformat_minor": 2
}
