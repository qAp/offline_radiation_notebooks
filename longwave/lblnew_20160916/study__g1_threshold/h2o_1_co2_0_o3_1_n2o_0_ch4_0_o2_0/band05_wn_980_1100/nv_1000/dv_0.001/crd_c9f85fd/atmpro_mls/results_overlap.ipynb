{
 "cells": [
  {
   "cell_type": "code",
   "execution_count": 1,
   "metadata": {
    "collapsed": true
   },
   "outputs": [],
   "source": [
    "%matplotlib inline\n",
    "import os\n",
    "import re\n",
    "import io\n",
    "import itertools\n",
    "import pprint\n",
    "\n",
    "from bokeh.io import output_notebook, show\n",
    "from bokeh.layouts import gridplot\n",
    "from bokeh.plotting import figure\n",
    "from bokeh.models import Range1d, Legend\n",
    "from bokeh.palettes import all_palettes\n",
    "\n",
    "import matplotlib\n",
    "import matplotlib.pyplot as plt\n",
    "import numpy as np\n",
    "import pandas as pd\n",
    "import xarray as xr\n",
    "\n",
    "import climatools.lblnew.bestfit_params as bestfits\n",
    "from climatools.lblnew import setup_bestfit, setup_overlap\n",
    "import climatools.lblnew.pipeline as pipe_lblnew\n",
    "\n",
    "import climatools.html.html as climahtml\n",
    "from climatools.lblnew.dataio import *\n",
    "from climatools.plot.plot import *\n",
    "\n",
    "\n",
    "import IPython.display as display"
   ]
  },
  {
   "cell_type": "code",
   "execution_count": 2,
   "metadata": {
    "collapsed": true
   },
   "outputs": [],
   "source": [
    "%run param.py"
   ]
  },
  {
   "cell_type": "code",
   "execution_count": 3,
   "metadata": {
    "collapsed": true
   },
   "outputs": [],
   "source": [
    "def load_output_file(path_csv):\n",
    "    '''\n",
    "    Load lblnew output .csv file to xarray.Dataset\n",
    "    \n",
    "    Parameters\n",
    "    ----------\n",
    "    path_csv: str\n",
    "              Path to the .csv file to be loaded.\n",
    "    ds: xarray.Dataset\n",
    "        Data in the input file in the form of an xarray.Dataset.\n",
    "    '''\n",
    "    toindex = ['band', 'pressure', 'igg', 'g']    \n",
    "    df = pd.read_csv(path_csv, sep=r'\\s+')\n",
    "    df = df.set_index([i for i in toindex if i in df.columns])\n",
    "    df = df.rename(columns={'sfu': 'flug',\n",
    "                            'sfd': 'fldg',\n",
    "                            'fnet': 'fnetg',\n",
    "                            'coolr': 'coolrg'})\n",
    "    ds = xr.Dataset.from_dataframe(df)\n",
    "\n",
    "    for l in ('level', 'layer'):\n",
    "        if l in ds.data_vars:\n",
    "            if len(ds[l].dims) > 1:\n",
    "                surface = {d: 0 for d in ds.dims if d != 'pressure'}\n",
    "                coord_level = ds[l][surface]\n",
    "                ds.coords[l] = ('pressure', coord_level)\n",
    "            else:\n",
    "                ds.coords[l] = ('pressure', ds[l])\n",
    "    \n",
    "    return ds"
   ]
  },
  {
   "cell_type": "code",
   "execution_count": 4,
   "metadata": {
    "collapsed": true
   },
   "outputs": [],
   "source": [
    "def lblnew_setup(param=None):\n",
    "    if 'ng_refs' in param:\n",
    "        return {'setup': setup_bestfit,\n",
    "                'fname_flux_crd': 'output_flux.dat',\n",
    "                'fname_cool_crd': 'output_coolr.dat',\n",
    "                'fname_flux_wgt': 'output_wfluxg.dat',\n",
    "                'fname_cool_wgt': 'output_wcoolrg.dat'}\n",
    "    else:\n",
    "        return {'setup': setup_overlap,\n",
    "                'fname_flux_crd': 'output_flux.dat',\n",
    "                'fname_cool_crd': 'output_coolr.dat',\n",
    "                'fname_flux_wgt': 'output_wflux.dat',\n",
    "                'fname_cool_wgt': 'output_wcoolr.dat'}\n",
    "\n",
    "    \n",
    "def load_lblnew_data(param):\n",
    "    \n",
    "    fname_dsname = [('fname_flux_crd', 'ds_flux_crd'),\n",
    "                    ('fname_cool_crd', 'ds_cool_crd'),\n",
    "                    ('fname_flux_wgt', 'ds_flux_wgt'),\n",
    "                    ('fname_cool_wgt', 'ds_cool_wgt')]\n",
    "    \n",
    "    d = lblnew_setup(param)\n",
    "    dir_fortran = pipe_lblnew.get_dir_case(param, setup=d['setup'])\n",
    "    \n",
    "    data_dict = {}\n",
    "    for fname, dsname in fname_dsname:\n",
    "        fpath = os.path.join(dir_fortran, d[fname])\n",
    "        data_dict[dsname] = load_output_file(fpath)\n",
    "    return data_dict\n",
    "    \n",
    "\n",
    "    \n",
    "    "
   ]
  },
  {
   "cell_type": "code",
   "execution_count": 5,
   "metadata": {
    "collapsed": true
   },
   "outputs": [],
   "source": [
    "d = load_lblnew_data(PARAM)\n",
    "\n",
    "DS_FLUX_CRD = d['ds_flux_crd']\n",
    "DS_COOL_CRD = d['ds_cool_crd']\n",
    "DS_FLUX_WGT = d['ds_flux_wgt']\n",
    "DS_COOL_WGT = d['ds_cool_wgt']"
   ]
  },
  {
   "cell_type": "code",
   "execution_count": 6,
   "metadata": {},
   "outputs": [
    {
     "data": {
      "text/html": [
       "\n",
       "    <div class=\"bk-root\">\n",
       "        <a href=\"https://bokeh.pydata.org\" target=\"_blank\" class=\"bk-logo bk-logo-small bk-logo-notebook\"></a>\n",
       "        <span id=\"e4c54141-bd78-446a-a8b3-28fa997f726f\">Loading BokehJS ...</span>\n",
       "    </div>"
      ]
     },
     "metadata": {},
     "output_type": "display_data"
    },
    {
     "data": {
      "application/javascript": [
       "\n",
       "(function(root) {\n",
       "  function now() {\n",
       "    return new Date();\n",
       "  }\n",
       "\n",
       "  var force = true;\n",
       "\n",
       "  if (typeof (root._bokeh_onload_callbacks) === \"undefined\" || force === true) {\n",
       "    root._bokeh_onload_callbacks = [];\n",
       "    root._bokeh_is_loading = undefined;\n",
       "  }\n",
       "\n",
       "  var JS_MIME_TYPE = 'application/javascript';\n",
       "  var HTML_MIME_TYPE = 'text/html';\n",
       "  var EXEC_MIME_TYPE = 'application/vnd.bokehjs_exec.v0+json';\n",
       "  var CLASS_NAME = 'output_bokeh rendered_html';\n",
       "\n",
       "  /**\n",
       "   * Render data to the DOM node\n",
       "   */\n",
       "  function render(props, node) {\n",
       "    var script = document.createElement(\"script\");\n",
       "    node.appendChild(script);\n",
       "  }\n",
       "\n",
       "  /**\n",
       "   * Handle when an output is cleared or removed\n",
       "   */\n",
       "  function handleClearOutput(event, handle) {\n",
       "    var cell = handle.cell;\n",
       "\n",
       "    var id = cell.output_area._bokeh_element_id;\n",
       "    var server_id = cell.output_area._bokeh_server_id;\n",
       "    // Clean up Bokeh references\n",
       "    if (id !== undefined) {\n",
       "      Bokeh.index[id].model.document.clear();\n",
       "      delete Bokeh.index[id];\n",
       "    }\n",
       "\n",
       "    if (server_id !== undefined) {\n",
       "      // Clean up Bokeh references\n",
       "      var cmd = \"from bokeh.io.state import curstate; print(curstate().uuid_to_server['\" + server_id + \"'].get_sessions()[0].document.roots[0]._id)\";\n",
       "      cell.notebook.kernel.execute(cmd, {\n",
       "        iopub: {\n",
       "          output: function(msg) {\n",
       "            var element_id = msg.content.text.trim();\n",
       "            Bokeh.index[element_id].model.document.clear();\n",
       "            delete Bokeh.index[element_id];\n",
       "          }\n",
       "        }\n",
       "      });\n",
       "      // Destroy server and session\n",
       "      var cmd = \"import bokeh.io.notebook as ion; ion.destroy_server('\" + server_id + \"')\";\n",
       "      cell.notebook.kernel.execute(cmd);\n",
       "    }\n",
       "  }\n",
       "\n",
       "  /**\n",
       "   * Handle when a new output is added\n",
       "   */\n",
       "  function handleAddOutput(event, handle) {\n",
       "    var output_area = handle.output_area;\n",
       "    var output = handle.output;\n",
       "\n",
       "    // limit handleAddOutput to display_data with EXEC_MIME_TYPE content only\n",
       "    if ((output.output_type != \"display_data\") || (!output.data.hasOwnProperty(EXEC_MIME_TYPE))) {\n",
       "      return\n",
       "    }\n",
       "\n",
       "    var toinsert = output_area.element.find(\".\" + CLASS_NAME.split(' ')[0]);\n",
       "\n",
       "    if (output.metadata[EXEC_MIME_TYPE][\"id\"] !== undefined) {\n",
       "      toinsert[0].firstChild.textContent = output.data[JS_MIME_TYPE];\n",
       "      // store reference to embed id on output_area\n",
       "      output_area._bokeh_element_id = output.metadata[EXEC_MIME_TYPE][\"id\"];\n",
       "    }\n",
       "    if (output.metadata[EXEC_MIME_TYPE][\"server_id\"] !== undefined) {\n",
       "      var bk_div = document.createElement(\"div\");\n",
       "      bk_div.innerHTML = output.data[HTML_MIME_TYPE];\n",
       "      var script_attrs = bk_div.children[0].attributes;\n",
       "      for (var i = 0; i < script_attrs.length; i++) {\n",
       "        toinsert[0].firstChild.setAttribute(script_attrs[i].name, script_attrs[i].value);\n",
       "      }\n",
       "      // store reference to server id on output_area\n",
       "      output_area._bokeh_server_id = output.metadata[EXEC_MIME_TYPE][\"server_id\"];\n",
       "    }\n",
       "  }\n",
       "\n",
       "  function register_renderer(events, OutputArea) {\n",
       "\n",
       "    function append_mime(data, metadata, element) {\n",
       "      // create a DOM node to render to\n",
       "      var toinsert = this.create_output_subarea(\n",
       "        metadata,\n",
       "        CLASS_NAME,\n",
       "        EXEC_MIME_TYPE\n",
       "      );\n",
       "      this.keyboard_manager.register_events(toinsert);\n",
       "      // Render to node\n",
       "      var props = {data: data, metadata: metadata[EXEC_MIME_TYPE]};\n",
       "      render(props, toinsert[0]);\n",
       "      element.append(toinsert);\n",
       "      return toinsert\n",
       "    }\n",
       "\n",
       "    /* Handle when an output is cleared or removed */\n",
       "    events.on('clear_output.CodeCell', handleClearOutput);\n",
       "    events.on('delete.Cell', handleClearOutput);\n",
       "\n",
       "    /* Handle when a new output is added */\n",
       "    events.on('output_added.OutputArea', handleAddOutput);\n",
       "\n",
       "    /**\n",
       "     * Register the mime type and append_mime function with output_area\n",
       "     */\n",
       "    OutputArea.prototype.register_mime_type(EXEC_MIME_TYPE, append_mime, {\n",
       "      /* Is output safe? */\n",
       "      safe: true,\n",
       "      /* Index of renderer in `output_area.display_order` */\n",
       "      index: 0\n",
       "    });\n",
       "  }\n",
       "\n",
       "  // register the mime type if in Jupyter Notebook environment and previously unregistered\n",
       "  if (root.Jupyter !== undefined) {\n",
       "    var events = require('base/js/events');\n",
       "    var OutputArea = require('notebook/js/outputarea').OutputArea;\n",
       "\n",
       "    if (OutputArea.prototype.mime_types().indexOf(EXEC_MIME_TYPE) == -1) {\n",
       "      register_renderer(events, OutputArea);\n",
       "    }\n",
       "  }\n",
       "\n",
       "  \n",
       "  if (typeof (root._bokeh_timeout) === \"undefined\" || force === true) {\n",
       "    root._bokeh_timeout = Date.now() + 5000;\n",
       "    root._bokeh_failed_load = false;\n",
       "  }\n",
       "\n",
       "  var NB_LOAD_WARNING = {'data': {'text/html':\n",
       "     \"<div style='background-color: #fdd'>\\n\"+\n",
       "     \"<p>\\n\"+\n",
       "     \"BokehJS does not appear to have successfully loaded. If loading BokehJS from CDN, this \\n\"+\n",
       "     \"may be due to a slow or bad network connection. Possible fixes:\\n\"+\n",
       "     \"</p>\\n\"+\n",
       "     \"<ul>\\n\"+\n",
       "     \"<li>re-rerun `output_notebook()` to attempt to load from CDN again, or</li>\\n\"+\n",
       "     \"<li>use INLINE resources instead, as so:</li>\\n\"+\n",
       "     \"</ul>\\n\"+\n",
       "     \"<code>\\n\"+\n",
       "     \"from bokeh.resources import INLINE\\n\"+\n",
       "     \"output_notebook(resources=INLINE)\\n\"+\n",
       "     \"</code>\\n\"+\n",
       "     \"</div>\"}};\n",
       "\n",
       "  function display_loaded() {\n",
       "    var el = document.getElementById(\"e4c54141-bd78-446a-a8b3-28fa997f726f\");\n",
       "    if (el != null) {\n",
       "      el.textContent = \"BokehJS is loading...\";\n",
       "    }\n",
       "    if (root.Bokeh !== undefined) {\n",
       "      if (el != null) {\n",
       "        el.textContent = \"BokehJS \" + root.Bokeh.version + \" successfully loaded.\";\n",
       "      }\n",
       "    } else if (Date.now() < root._bokeh_timeout) {\n",
       "      setTimeout(display_loaded, 100)\n",
       "    }\n",
       "  }\n",
       "\n",
       "\n",
       "  function run_callbacks() {\n",
       "    try {\n",
       "      root._bokeh_onload_callbacks.forEach(function(callback) { callback() });\n",
       "    }\n",
       "    finally {\n",
       "      delete root._bokeh_onload_callbacks\n",
       "    }\n",
       "    console.info(\"Bokeh: all callbacks have finished\");\n",
       "  }\n",
       "\n",
       "  function load_libs(js_urls, callback) {\n",
       "    root._bokeh_onload_callbacks.push(callback);\n",
       "    if (root._bokeh_is_loading > 0) {\n",
       "      console.log(\"Bokeh: BokehJS is being loaded, scheduling callback at\", now());\n",
       "      return null;\n",
       "    }\n",
       "    if (js_urls == null || js_urls.length === 0) {\n",
       "      run_callbacks();\n",
       "      return null;\n",
       "    }\n",
       "    console.log(\"Bokeh: BokehJS not loaded, scheduling load and callback at\", now());\n",
       "    root._bokeh_is_loading = js_urls.length;\n",
       "    for (var i = 0; i < js_urls.length; i++) {\n",
       "      var url = js_urls[i];\n",
       "      var s = document.createElement('script');\n",
       "      s.src = url;\n",
       "      s.async = false;\n",
       "      s.onreadystatechange = s.onload = function() {\n",
       "        root._bokeh_is_loading--;\n",
       "        if (root._bokeh_is_loading === 0) {\n",
       "          console.log(\"Bokeh: all BokehJS libraries loaded\");\n",
       "          run_callbacks()\n",
       "        }\n",
       "      };\n",
       "      s.onerror = function() {\n",
       "        console.warn(\"failed to load library \" + url);\n",
       "      };\n",
       "      console.log(\"Bokeh: injecting script tag for BokehJS library: \", url);\n",
       "      document.getElementsByTagName(\"head\")[0].appendChild(s);\n",
       "    }\n",
       "  };var element = document.getElementById(\"e4c54141-bd78-446a-a8b3-28fa997f726f\");\n",
       "  if (element == null) {\n",
       "    console.log(\"Bokeh: ERROR: autoload.js configured with elementid 'e4c54141-bd78-446a-a8b3-28fa997f726f' but no matching script tag was found. \")\n",
       "    return false;\n",
       "  }\n",
       "\n",
       "  var js_urls = [\"https://cdn.pydata.org/bokeh/release/bokeh-0.12.14.min.js\", \"https://cdn.pydata.org/bokeh/release/bokeh-widgets-0.12.14.min.js\", \"https://cdn.pydata.org/bokeh/release/bokeh-tables-0.12.14.min.js\", \"https://cdn.pydata.org/bokeh/release/bokeh-gl-0.12.14.min.js\"];\n",
       "\n",
       "  var inline_js = [\n",
       "    function(Bokeh) {\n",
       "      Bokeh.set_log_level(\"info\");\n",
       "    },\n",
       "    \n",
       "    function(Bokeh) {\n",
       "      \n",
       "    },\n",
       "    function(Bokeh) {\n",
       "      console.log(\"Bokeh: injecting CSS: https://cdn.pydata.org/bokeh/release/bokeh-0.12.14.min.css\");\n",
       "      Bokeh.embed.inject_css(\"https://cdn.pydata.org/bokeh/release/bokeh-0.12.14.min.css\");\n",
       "      console.log(\"Bokeh: injecting CSS: https://cdn.pydata.org/bokeh/release/bokeh-widgets-0.12.14.min.css\");\n",
       "      Bokeh.embed.inject_css(\"https://cdn.pydata.org/bokeh/release/bokeh-widgets-0.12.14.min.css\");\n",
       "      console.log(\"Bokeh: injecting CSS: https://cdn.pydata.org/bokeh/release/bokeh-tables-0.12.14.min.css\");\n",
       "      Bokeh.embed.inject_css(\"https://cdn.pydata.org/bokeh/release/bokeh-tables-0.12.14.min.css\");\n",
       "    }\n",
       "  ];\n",
       "\n",
       "  function run_inline_js() {\n",
       "    \n",
       "    if ((root.Bokeh !== undefined) || (force === true)) {\n",
       "      for (var i = 0; i < inline_js.length; i++) {\n",
       "        inline_js[i].call(root, root.Bokeh);\n",
       "      }if (force === true) {\n",
       "        display_loaded();\n",
       "      }} else if (Date.now() < root._bokeh_timeout) {\n",
       "      setTimeout(run_inline_js, 100);\n",
       "    } else if (!root._bokeh_failed_load) {\n",
       "      console.log(\"Bokeh: BokehJS failed to load within specified timeout.\");\n",
       "      root._bokeh_failed_load = true;\n",
       "    } else if (force !== true) {\n",
       "      var cell = $(document.getElementById(\"e4c54141-bd78-446a-a8b3-28fa997f726f\")).parents('.cell').data().cell;\n",
       "      cell.output_area.append_execute_result(NB_LOAD_WARNING)\n",
       "    }\n",
       "\n",
       "  }\n",
       "\n",
       "  if (root._bokeh_is_loading === 0) {\n",
       "    console.log(\"Bokeh: BokehJS loaded, going straight to plotting\");\n",
       "    run_inline_js();\n",
       "  } else {\n",
       "    load_libs(js_urls, function() {\n",
       "      console.log(\"Bokeh: BokehJS plotting callback run at\", now());\n",
       "      run_inline_js();\n",
       "    });\n",
       "  }\n",
       "}(window));"
      ],
      "application/vnd.bokehjs_load.v0+json": "\n(function(root) {\n  function now() {\n    return new Date();\n  }\n\n  var force = true;\n\n  if (typeof (root._bokeh_onload_callbacks) === \"undefined\" || force === true) {\n    root._bokeh_onload_callbacks = [];\n    root._bokeh_is_loading = undefined;\n  }\n\n  \n\n  \n  if (typeof (root._bokeh_timeout) === \"undefined\" || force === true) {\n    root._bokeh_timeout = Date.now() + 5000;\n    root._bokeh_failed_load = false;\n  }\n\n  var NB_LOAD_WARNING = {'data': {'text/html':\n     \"<div style='background-color: #fdd'>\\n\"+\n     \"<p>\\n\"+\n     \"BokehJS does not appear to have successfully loaded. If loading BokehJS from CDN, this \\n\"+\n     \"may be due to a slow or bad network connection. Possible fixes:\\n\"+\n     \"</p>\\n\"+\n     \"<ul>\\n\"+\n     \"<li>re-rerun `output_notebook()` to attempt to load from CDN again, or</li>\\n\"+\n     \"<li>use INLINE resources instead, as so:</li>\\n\"+\n     \"</ul>\\n\"+\n     \"<code>\\n\"+\n     \"from bokeh.resources import INLINE\\n\"+\n     \"output_notebook(resources=INLINE)\\n\"+\n     \"</code>\\n\"+\n     \"</div>\"}};\n\n  function display_loaded() {\n    var el = document.getElementById(\"e4c54141-bd78-446a-a8b3-28fa997f726f\");\n    if (el != null) {\n      el.textContent = \"BokehJS is loading...\";\n    }\n    if (root.Bokeh !== undefined) {\n      if (el != null) {\n        el.textContent = \"BokehJS \" + root.Bokeh.version + \" successfully loaded.\";\n      }\n    } else if (Date.now() < root._bokeh_timeout) {\n      setTimeout(display_loaded, 100)\n    }\n  }\n\n\n  function run_callbacks() {\n    try {\n      root._bokeh_onload_callbacks.forEach(function(callback) { callback() });\n    }\n    finally {\n      delete root._bokeh_onload_callbacks\n    }\n    console.info(\"Bokeh: all callbacks have finished\");\n  }\n\n  function load_libs(js_urls, callback) {\n    root._bokeh_onload_callbacks.push(callback);\n    if (root._bokeh_is_loading > 0) {\n      console.log(\"Bokeh: BokehJS is being loaded, scheduling callback at\", now());\n      return null;\n    }\n    if (js_urls == null || js_urls.length === 0) {\n      run_callbacks();\n      return null;\n    }\n    console.log(\"Bokeh: BokehJS not loaded, scheduling load and callback at\", now());\n    root._bokeh_is_loading = js_urls.length;\n    for (var i = 0; i < js_urls.length; i++) {\n      var url = js_urls[i];\n      var s = document.createElement('script');\n      s.src = url;\n      s.async = false;\n      s.onreadystatechange = s.onload = function() {\n        root._bokeh_is_loading--;\n        if (root._bokeh_is_loading === 0) {\n          console.log(\"Bokeh: all BokehJS libraries loaded\");\n          run_callbacks()\n        }\n      };\n      s.onerror = function() {\n        console.warn(\"failed to load library \" + url);\n      };\n      console.log(\"Bokeh: injecting script tag for BokehJS library: \", url);\n      document.getElementsByTagName(\"head\")[0].appendChild(s);\n    }\n  };var element = document.getElementById(\"e4c54141-bd78-446a-a8b3-28fa997f726f\");\n  if (element == null) {\n    console.log(\"Bokeh: ERROR: autoload.js configured with elementid 'e4c54141-bd78-446a-a8b3-28fa997f726f' but no matching script tag was found. \")\n    return false;\n  }\n\n  var js_urls = [\"https://cdn.pydata.org/bokeh/release/bokeh-0.12.14.min.js\", \"https://cdn.pydata.org/bokeh/release/bokeh-widgets-0.12.14.min.js\", \"https://cdn.pydata.org/bokeh/release/bokeh-tables-0.12.14.min.js\", \"https://cdn.pydata.org/bokeh/release/bokeh-gl-0.12.14.min.js\"];\n\n  var inline_js = [\n    function(Bokeh) {\n      Bokeh.set_log_level(\"info\");\n    },\n    \n    function(Bokeh) {\n      \n    },\n    function(Bokeh) {\n      console.log(\"Bokeh: injecting CSS: https://cdn.pydata.org/bokeh/release/bokeh-0.12.14.min.css\");\n      Bokeh.embed.inject_css(\"https://cdn.pydata.org/bokeh/release/bokeh-0.12.14.min.css\");\n      console.log(\"Bokeh: injecting CSS: https://cdn.pydata.org/bokeh/release/bokeh-widgets-0.12.14.min.css\");\n      Bokeh.embed.inject_css(\"https://cdn.pydata.org/bokeh/release/bokeh-widgets-0.12.14.min.css\");\n      console.log(\"Bokeh: injecting CSS: https://cdn.pydata.org/bokeh/release/bokeh-tables-0.12.14.min.css\");\n      Bokeh.embed.inject_css(\"https://cdn.pydata.org/bokeh/release/bokeh-tables-0.12.14.min.css\");\n    }\n  ];\n\n  function run_inline_js() {\n    \n    if ((root.Bokeh !== undefined) || (force === true)) {\n      for (var i = 0; i < inline_js.length; i++) {\n        inline_js[i].call(root, root.Bokeh);\n      }if (force === true) {\n        display_loaded();\n      }} else if (Date.now() < root._bokeh_timeout) {\n      setTimeout(run_inline_js, 100);\n    } else if (!root._bokeh_failed_load) {\n      console.log(\"Bokeh: BokehJS failed to load within specified timeout.\");\n      root._bokeh_failed_load = true;\n    } else if (force !== true) {\n      var cell = $(document.getElementById(\"e4c54141-bd78-446a-a8b3-28fa997f726f\")).parents('.cell').data().cell;\n      cell.output_area.append_execute_result(NB_LOAD_WARNING)\n    }\n\n  }\n\n  if (root._bokeh_is_loading === 0) {\n    console.log(\"Bokeh: BokehJS loaded, going straight to plotting\");\n    run_inline_js();\n  } else {\n    load_libs(js_urls, function() {\n      console.log(\"Bokeh: BokehJS plotting callback run at\", now());\n      run_inline_js();\n    });\n  }\n}(window));"
     },
     "metadata": {},
     "output_type": "display_data"
    }
   ],
   "source": [
    "output_notebook()"
   ]
  },
  {
   "cell_type": "code",
   "execution_count": 7,
   "metadata": {
    "collapsed": true
   },
   "outputs": [],
   "source": [
    "def fmt_cool(ds_in):\n",
    "    ds = ds_in.copy(deep=True)\n",
    "    if 'igg' in ds.dims:\n",
    "        ds = ds.sel(igg=1)\n",
    "\n",
    "    if 'g' in ds.dims:\n",
    "        ds = ds.sum('g')\n",
    "            \n",
    "    if 'band' in ds.dims:\n",
    "        try:\n",
    "            ds = ds.squeeze('band')\n",
    "        except ValueError:\n",
    "            ds = ds.sum('band')\n",
    "                \n",
    "    return ds['coolrg']\n",
    "\n",
    "\n",
    "def pltdata_cooling_1(ds_cool_crd=None, ds_cool_wgt=None):\n",
    "    \n",
    "\n",
    "\n",
    "    colors = all_palettes['Set1'][4]\n",
    "    data = [{'label': 'CRD',\n",
    "             'srs': fmt_cool(ds_cool_crd),\n",
    "             'line_dash': 'solid', 'line_width': 1.5,\n",
    "             'marker': 'circle', 'marker_size': 5,\n",
    "             'color': colors[2], 'alpha': 1,},\n",
    "            {'label': 'WGT igg=10',\n",
    "             'srs': fmt_cool(ds_cool_wgt.sel(igg=10)),\n",
    "             'line_dash': 'solid', 'line_width': 3,\n",
    "             'marker': 'square', 'marker_size': 5,\n",
    "             'color': colors[3], 'alpha': .6},\n",
    "            {'label': 'WGT igg=1',\n",
    "             'srs': fmt_cool(ds_cool_wgt.sel(igg=1)),\n",
    "             'line_dash': 'dotdash', 'line_width': 3,\n",
    "             'marker': 'inverted_triangle', 'marker_size': 5,\n",
    "             'color': colors[1], 'alpha': .6}\n",
    "           ]\n",
    "    return data\n",
    "\n",
    "\n",
    "def nice_xlims(pltdata=None, prange=None):\n",
    "    \n",
    "    def get_slice(srs):\n",
    "        return srs.sel(pressure=slice(*prange))\n",
    "    \n",
    "    srss = [d['srs'] for d in pltdata]\n",
    "    vmin = min([get_slice(srs).min() for srs in srss])\n",
    "    vmax = max([get_slice(srs).max() for srs in srss])\n",
    "    dv = (vmax - vmin) * .01\n",
    "    return float(vmin - dv), float(vmax + dv)\n",
    "    \n",
    "\n",
    "def plt_cooling_bokeh(pltdata=None):\n",
    "    '''\n",
    "    Plot a list of cooling rate profiles using bokeh.\n",
    "    '''\n",
    "    ymin = 1e-2 \n",
    "    ymax = 1020 \n",
    "        \n",
    "    p1 = figure(title=\"Linear pressure scale\", \n",
    "                plot_width=400)        \n",
    "    xmin, xmax = nice_xlims(pltdata, prange=(50, 1050))\n",
    "    for d in pltdata:\n",
    "        if 'marker' in d:\n",
    "            getattr(p1, d['marker'])(d['srs'].values, \n",
    "                    d['srs'].coords['pressure'].values,\n",
    "                    color=d['color'], alpha=.7)\n",
    "        p1.line(d['srs'].values, \n",
    "                d['srs'].coords['pressure'].values,\n",
    "                color=d['color'], alpha=d['alpha'], \n",
    "                line_width=d['line_width'], line_dash=d['line_dash'])\n",
    "    \n",
    "    p1.y_range = Range1d(ymax, ymin)\n",
    "    p1.yaxis.axis_label = 'pressure [mb]'   \n",
    "    p1.x_range = Range1d(xmin, xmax)\n",
    "    p1.xaxis.axis_label = 'cooling rate [K/day]'\n",
    "            \n",
    "    p2 = figure(title='Log pressure scale', y_axis_type='log',\n",
    "                plot_width=560)\n",
    "    xmin, xmax = nice_xlims(pltdata, prange=(.01, 200))\n",
    "    \n",
    "    rs = []\n",
    "    for d in pltdata:\n",
    "        rd = []\n",
    "        if 'marker' in d:\n",
    "            r_mark = getattr(p2, d['marker'])(d['srs'].values, \n",
    "                        d['srs'].coords['pressure'].values,\n",
    "                        color=d['color'], alpha=.7)\n",
    "            rd.append(r_mark)\n",
    "        r_line = p2.line(d['srs'].values, \n",
    "                    d['srs'].coords['pressure'].values,\n",
    "                    color=d['color'], alpha=d['alpha'], \n",
    "                    line_width=d['line_width'], line_dash=d['line_dash'])\n",
    "        rd.append(r_line)\n",
    "      \n",
    "        rs.append(rd)\n",
    "        \n",
    "    p2.y_range = Range1d(ymax, ymin)  \n",
    "    p2.yaxis.axis_label = 'pressure [mb]'\n",
    "    \n",
    "    p2.x_range = Range1d(xmin, xmax)\n",
    "    p2.xaxis.axis_label = 'cooling rate [K/day]'\n",
    "    \n",
    "    items = [(d['label'], r) for r, d in zip(rs, pltdata)]\n",
    "    legend = Legend(items=items, location=(10, -30))\n",
    "    legend.label_text_font_size = '8pt'\n",
    "    \n",
    "    p2.add_layout(legend, 'right')  \n",
    "    \n",
    "    show(gridplot(p1, p2, ncols=2, plot_height=500))\n",
    "    \n",
    "\n",
    "def script_plt_cooling():\n",
    "    pltdata = pltdata_cooling_1(\n",
    "        ds_cool_crd=DS_COOL_CRD,\n",
    "        ds_cool_wgt=DS_COOL_WGT)\n",
    "    plt_cooling_bokeh(pltdata=pltdata)\n",
    "    print('''FIGURE. Cooling rate profiles.''')"
   ]
  },
  {
   "cell_type": "code",
   "execution_count": 8,
   "metadata": {
    "collapsed": true
   },
   "outputs": [],
   "source": [
    "def fmt_flux(ds_in):\n",
    "    ds = ds_in.copy(deep=True)\n",
    "    \n",
    "    for l in ('level', 'layer'):\n",
    "        if l in ds.data_vars:\n",
    "            if len(ds[l].dims) > 1:\n",
    "                surface = {d: 0 for d in ds.dims if d != 'pressure'}\n",
    "                coord_level = ds[l][surface]\n",
    "                ds.coords[l] = ('pressure', coord_level)\n",
    "            else:\n",
    "                ds.coords[l] = ('pressure', ds[l])\n",
    "        \n",
    "    ds = ds.isel(pressure=[0, 23, -1])\n",
    "    \n",
    "    if 'igg' in ds.dims:\n",
    "        if ds.dims['igg'] > 1:\n",
    "            print('Select an igg value to view in table.')\n",
    "            raise ValueError\n",
    "        else:\n",
    "            ds = ds.squeeze('igg').drop('igg')\n",
    "    else:\n",
    "        if 'igg' in ds.coords:\n",
    "            ds = ds.drop('igg')\n",
    "\n",
    "    if 'g' in ds.dims:\n",
    "        ds = ds.sum('g')\n",
    "            \n",
    "    if 'band' in ds.dims:\n",
    "        try:\n",
    "            ds = ds.squeeze('band').drop('band')\n",
    "        except ValueError:\n",
    "            ds = ds.sum('band')\n",
    "                \n",
    "    df = ds.to_dataframe()\n",
    "    df = df.set_index('level', append=True)               \n",
    "    return df\n",
    "\n",
    "\n",
    "def tbdata_flux(ds_flux_crd=None, ds_flux_wgt=None):\n",
    "    ilevels = [0, 23, -1]\n",
    "            \n",
    "    benchmark = {'label': 'CRD',\n",
    "                 'df': fmt_flux(ds_flux_crd)}\n",
    "    tbs = [{'label': 'WGT igg=10',\n",
    "            'df': fmt_flux(ds_flux_wgt.sel(igg=10))},\n",
    "           {'label': 'WGT igg=1',\n",
    "            'df': fmt_flux(ds_flux_wgt.sel(igg=1))}]\n",
    "    \n",
    "    data = {'benchmark': benchmark, 'others': tbs}\n",
    "    return data\n",
    "\n",
    "\n",
    "def tb_flux(tbdata=None):\n",
    "    benchmark = tbdata['benchmark']\n",
    "    others = tbdata['others']\n",
    "    \n",
    "    def show_tb(d=None):\n",
    "        display.display(d['df'])\n",
    "        print('Table.', 'Fluxes.', d['label'])\n",
    "        \n",
    "    def show_tbdiff(d0=None, d=None):\n",
    "        df = d['df']\n",
    "        df.index = d0['df'].index\n",
    "        display.display(df - d0['df'])\n",
    "        print('Table.', 'Fluxes.', \n",
    "              '({}) - ({})'.format(d['label'], d0['label']))\n",
    "        \n",
    "    show_tb(benchmark)\n",
    "    for d in others:\n",
    "        show_tb(d)\n",
    "        \n",
    "    for d in others:\n",
    "        show_tbdiff(d=d, d0=benchmark)\n",
    "        \n",
    "        \n",
    "def script_tb_flux():\n",
    "    data = tbdata_flux(ds_flux_crd=DS_FLUX_CRD,\n",
    "                       ds_flux_wgt=DS_FLUX_WGT)\n",
    "    tb_flux(tbdata=data)"
   ]
  },
  {
   "cell_type": "code",
   "execution_count": 9,
   "metadata": {
    "collapsed": true
   },
   "outputs": [],
   "source": [
    "def band_map():\n",
    "    '''\n",
    "    Maps spectral bands in lblnew to spectral bands in clirad.\n",
    "    '''\n",
    "    lblnew2clirad = {'1': '1',\n",
    "            '2': '2',\n",
    "            '3a': '3',\n",
    "            '3b': '4',\n",
    "            '3c': '5',\n",
    "            '4': '6', \n",
    "            '5': '7',\n",
    "            '6': '8',\n",
    "            '7': '9', \n",
    "            '8': '10',\n",
    "            '9': '11'}\n",
    "    \n",
    "    clirad2lblnew = {clirad: lblnew \n",
    "                     for lblnew, clirad in lblnew2clirad.items()}\n",
    "    return clirad2lblnew\n",
    "\n",
    "\n",
    "def gasbands():\n",
    "    bmap = band_map()\n",
    "    gases = list(PARAM['molecule'].keys())\n",
    "    \n",
    "    bands = [str(b) for b in PARAM['band']]\n",
    "    return list(itertools.product(gases, bands))\n",
    "\n",
    "\n",
    "def print_bestfit_params():\n",
    "    print('Best-fit values for each (gas, band)')\n",
    "    print('------------------------------------')\n",
    "    for gas, band in gasbands():\n",
    "        print('o {} band{}'.format(gas, band))\n",
    "        param = bestfits.kdist_params(molecule=gas, band=band)\n",
    "        for name, value in param.items():\n",
    "            print(2 * ' ' + '{} = {}'.format(name, value))\n",
    "\n",
    "        \n",
    "def print_input_param():        \n",
    "    for name, value in PARAM.items():\n",
    "        print('{} = {}'.format(name, value))\n"
   ]
  },
  {
   "cell_type": "code",
   "execution_count": 10,
   "metadata": {
    "collapsed": true,
    "scrolled": false
   },
   "outputs": [],
   "source": [
    "def show_html(s):\n",
    "    display.display(display.HTML(s))\n",
    "\n",
    "    \n",
    "def show_markdown(s):\n",
    "    display.display(display.Markdown(s))\n",
    "\n",
    "    \n",
    "def script():\n",
    "    \n",
    "    title = '### LBLNEW-OVERLAP'\n",
    "    s_input = 'Input Parameters'\n",
    "    s_bestfits = 'Best-fit Parameters'\n",
    "    s_plt_cooling = 'Cooling Rate Profiles'\n",
    "    s_tb_flux = 'Flux Comparison'\n",
    "    \n",
    "    # title\n",
    "    show_markdown(title)\n",
    "    \n",
    "    # TOC\n",
    "    show_markdown('### Table of Contents')\n",
    "    show_html(climahtml.getHTML_hrefanchor(s_input))\n",
    "    show_html(climahtml.getHTML_hrefanchor(s_plt_cooling))\n",
    "    show_html(climahtml.getHTML_hrefanchor(s_tb_flux))\n",
    "    show_html(climahtml.getHTML_hrefanchor(s_bestfits))\n",
    "    \n",
    "    # Input parameters\n",
    "    show_html(climahtml.getHTML_idanchor(s_input))\n",
    "    show_markdown(climahtml.getMarkdown_sectitle(s_input))\n",
    "    print_input_param()\n",
    "    \n",
    "    # Cooling rate profiles\n",
    "    show_html(climahtml.getHTML_idanchor(s_plt_cooling))\n",
    "    show_markdown(climahtml.getMarkdown_sectitle(s_plt_cooling))\n",
    "    script_plt_cooling()\n",
    "    \n",
    "    # Flux comparison\n",
    "    show_html(climahtml.getHTML_idanchor(s_tb_flux))\n",
    "    show_markdown(climahtml.getMarkdown_sectitle(s_tb_flux))\n",
    "    script_tb_flux()\n",
    "    \n",
    "    # Best-fit values\n",
    "    show_html(climahtml.getHTML_idanchor(s_bestfits))\n",
    "    show_markdown(climahtml.getMarkdown_sectitle(s_bestfits))\n",
    "    print_bestfit_params()\n",
    "   \n",
    "    "
   ]
  },
  {
   "cell_type": "code",
   "execution_count": 11,
   "metadata": {
    "scrolled": false
   },
   "outputs": [
    {
     "data": {
      "text/markdown": [
       "### LBLNEW-OVERLAP"
      ],
      "text/plain": [
       "<IPython.core.display.Markdown object>"
      ]
     },
     "metadata": {},
     "output_type": "display_data"
    },
    {
     "data": {
      "text/markdown": [
       "### Table of Contents"
      ],
      "text/plain": [
       "<IPython.core.display.Markdown object>"
      ]
     },
     "metadata": {},
     "output_type": "display_data"
    },
    {
     "data": {
      "text/html": [
       "<a href=\"#Input_Parameters\">Input Parameters</a>"
      ],
      "text/plain": [
       "<IPython.core.display.HTML object>"
      ]
     },
     "metadata": {},
     "output_type": "display_data"
    },
    {
     "data": {
      "text/html": [
       "<a href=\"#Cooling_Rate_Profiles\">Cooling Rate Profiles</a>"
      ],
      "text/plain": [
       "<IPython.core.display.HTML object>"
      ]
     },
     "metadata": {},
     "output_type": "display_data"
    },
    {
     "data": {
      "text/html": [
       "<a href=\"#Flux_Comparison\">Flux Comparison</a>"
      ],
      "text/plain": [
       "<IPython.core.display.HTML object>"
      ]
     },
     "metadata": {},
     "output_type": "display_data"
    },
    {
     "data": {
      "text/html": [
       "<a href=\"#Best-fit_Parameters\">Best-fit Parameters</a>"
      ],
      "text/plain": [
       "<IPython.core.display.HTML object>"
      ]
     },
     "metadata": {},
     "output_type": "display_data"
    },
    {
     "data": {
      "text/html": [
       "<a id=\"Input_Parameters\"></a>"
      ],
      "text/plain": [
       "<IPython.core.display.HTML object>"
      ]
     },
     "metadata": {},
     "output_type": "display_data"
    },
    {
     "data": {
      "text/markdown": [
       "# Input Parameters"
      ],
      "text/plain": [
       "<IPython.core.display.Markdown object>"
      ]
     },
     "metadata": {},
     "output_type": "display_data"
    },
    {
     "name": "stdout",
     "output_type": "stream",
     "text": [
      "commitnumber = c9f85fd\n",
      "molecule = {'h2o': 'atmpro', 'o3': 'atmpro'}\n",
      "band = 5\n",
      "nv = 1000\n",
      "dv = 0.001\n",
      "atmpro = mls\n",
      "tsfc = 294\n"
     ]
    },
    {
     "data": {
      "text/html": [
       "<a id=\"Cooling_Rate_Profiles\"></a>"
      ],
      "text/plain": [
       "<IPython.core.display.HTML object>"
      ]
     },
     "metadata": {},
     "output_type": "display_data"
    },
    {
     "data": {
      "text/markdown": [
       "# Cooling Rate Profiles"
      ],
      "text/plain": [
       "<IPython.core.display.Markdown object>"
      ]
     },
     "metadata": {},
     "output_type": "display_data"
    },
    {
     "data": {
      "text/html": [
       "\n",
       "<div class=\"bk-root\">\n",
       "    <div class=\"bk-plotdiv\" id=\"8800e83c-5d52-498d-94dd-28b8ffe6ba71\"></div>\n",
       "</div>"
      ]
     },
     "metadata": {},
     "output_type": "display_data"
    },
    {
     "data": {
      "application/javascript": [
       "(function(root) {\n",
       "  function embed_document(root) {\n",
       "    \n",
       "  var docs_json = {\"7dc5bbb8-a6d9-4d2e-95dc-ef5ade9023e3\":{\"roots\":{\"references\":[{\"attributes\":{\"data_source\":{\"id\":\"26599fd3-dde6-45fb-972b-0beb52ab8557\",\"type\":\"ColumnDataSource\"},\"glyph\":{\"id\":\"50483236-53d1-4b17-82ec-49dde7c8a2cb\",\"type\":\"Line\"},\"hover_glyph\":null,\"muted_glyph\":null,\"nonselection_glyph\":{\"id\":\"ac627f9e-a859-468c-bb18-cd1182dcbdd5\",\"type\":\"Line\"},\"selection_glyph\":null,\"view\":{\"id\":\"304cfcd9-1e98-4c70-a8f4-5da6c6da1c66\",\"type\":\"CDSView\"}},\"id\":\"91b6c6e3-6ed1-4e3e-a2dc-ebc76db5f587\",\"type\":\"GlyphRenderer\"},{\"attributes\":{\"overlay\":{\"id\":\"eee434d0-6016-404e-951f-526f0c21e2ef\",\"type\":\"BoxAnnotation\"}},\"id\":\"3e9fdf38-74fc-45eb-a7fb-183d5cd83753\",\"type\":\"BoxZoomTool\"},{\"attributes\":{\"num_minor_ticks\":10},\"id\":\"1404dafa-4f0a-470a-8ba4-025a1bcec681\",\"type\":\"LogTicker\"},{\"attributes\":{},\"id\":\"708a5877-2fb3-4b15-bde0-3df784c977a3\",\"type\":\"HelpTool\"},{\"attributes\":{\"below\":[{\"id\":\"69c38bf3-1cc7-48f7-bc19-757a73812f66\",\"type\":\"LinearAxis\"}],\"left\":[{\"id\":\"45af9503-d860-4ee5-b915-c02822179858\",\"type\":\"LogAxis\"}],\"plot_height\":500,\"plot_width\":560,\"renderers\":[{\"id\":\"69c38bf3-1cc7-48f7-bc19-757a73812f66\",\"type\":\"LinearAxis\"},{\"id\":\"212f67b1-f25f-4574-a52f-016fa7f5bcc1\",\"type\":\"Grid\"},{\"id\":\"45af9503-d860-4ee5-b915-c02822179858\",\"type\":\"LogAxis\"},{\"id\":\"6fe0b11e-2b1e-4827-bd13-68ed3212262f\",\"type\":\"Grid\"},{\"id\":\"eee434d0-6016-404e-951f-526f0c21e2ef\",\"type\":\"BoxAnnotation\"},{\"id\":\"2cbcf179-0806-4c9c-8d51-26b6ec270cac\",\"type\":\"GlyphRenderer\"},{\"id\":\"054429a5-013b-4035-be44-c073fadc55d3\",\"type\":\"GlyphRenderer\"},{\"id\":\"e93b145c-5546-467b-ab0b-a4c2ac1d9bb6\",\"type\":\"GlyphRenderer\"},{\"id\":\"ff228e02-0687-4fb8-801b-f4c2caf68d36\",\"type\":\"GlyphRenderer\"},{\"id\":\"10ed324a-2a40-495a-8527-2b1b4a914f0d\",\"type\":\"GlyphRenderer\"},{\"id\":\"088b7da2-45a3-4cde-a3b8-8d5a5069b568\",\"type\":\"GlyphRenderer\"},{\"id\":\"4f3b28f1-0bae-405d-968f-c2a9cb309505\",\"type\":\"Legend\"}],\"right\":[{\"id\":\"4f3b28f1-0bae-405d-968f-c2a9cb309505\",\"type\":\"Legend\"}],\"title\":{\"id\":\"c545c5fe-47a5-43b2-bdaf-edf38139b5f6\",\"type\":\"Title\"},\"toolbar\":{\"id\":\"6c59ac63-2a78-4af6-aa21-fa2a440d76ff\",\"type\":\"Toolbar\"},\"toolbar_location\":null,\"x_range\":{\"id\":\"286c01bb-f14a-4c5e-a4ae-6ab16da70769\",\"type\":\"Range1d\"},\"x_scale\":{\"id\":\"42a7e248-f0aa-4264-bcfa-ba4b93925753\",\"type\":\"LinearScale\"},\"y_range\":{\"id\":\"32d5d042-46c2-44d6-94b3-1223f82e26e3\",\"type\":\"Range1d\"},\"y_scale\":{\"id\":\"d02981bd-af30-4703-8978-39701a2e6baa\",\"type\":\"LogScale\"}},\"id\":\"7a9fac14-3654-4cdf-b0ed-a1d0223eb251\",\"subtype\":\"Figure\",\"type\":\"Plot\"},{\"attributes\":{\"line_alpha\":0.1,\"line_color\":\"#1f77b4\",\"line_width\":1.5,\"x\":{\"field\":\"x\"},\"y\":{\"field\":\"y\"}},\"id\":\"ac627f9e-a859-468c-bb18-cd1182dcbdd5\",\"type\":\"Line\"},{\"attributes\":{},\"id\":\"225b06f3-e189-4aca-b184-5284040b4050\",\"type\":\"SaveTool\"},{\"attributes\":{\"line_alpha\":0.6,\"line_color\":\"#377eb8\",\"line_dash\":[2,4,6,4],\"line_width\":3,\"x\":{\"field\":\"x\"},\"y\":{\"field\":\"y\"}},\"id\":\"1f1e63c9-6a31-47c6-839b-0aa2d39034a1\",\"type\":\"Line\"},{\"attributes\":{},\"id\":\"f9ed43a9-1b8e-429f-af83-32f05fe5c13c\",\"type\":\"ResetTool\"},{\"attributes\":{\"axis_label\":\"cooling rate [K/day]\",\"formatter\":{\"id\":\"4acd40f8-36d6-475b-a1eb-d117ccd6008d\",\"type\":\"BasicTickFormatter\"},\"plot\":{\"id\":\"7a9fac14-3654-4cdf-b0ed-a1d0223eb251\",\"subtype\":\"Figure\",\"type\":\"Plot\"},\"ticker\":{\"id\":\"4bbaf059-224f-4135-b154-a18875858d25\",\"type\":\"BasicTicker\"}},\"id\":\"69c38bf3-1cc7-48f7-bc19-757a73812f66\",\"type\":\"LinearAxis\"},{\"attributes\":{\"callback\":null,\"column_names\":[\"x\",\"y\"],\"data\":{\"x\":{\"__ndarray__\":\"OfiFAZKDpL/V+P5mXwKmv/+lUfAwx6u/+LaWUmKarr85k8e3nVSxvxQCOER8KrO/+7dWcWYYtb/t2VdEa8q2vzIjM0yqjLi/JwjLlrT7ub8n3bfW7om7vwiClX029ry/WcRNmd2Lvr8GbWqHXPy/v1kOmZdoNcC/R4YDvi4Fvr8i0TbEmduxv6XFU24mz6A/AYpwF4qJyT8otsTC91vcP9ebvdgg2Og/dkHYhA+A8z8AHYsSmb77P0NoqWFk7v8/US/4NCev/D9/Oz975AX3P7hVtUnqCfE/x2oMnUvv5z+ecjN5VtTgPwzOfcVcytY/JAQvI4qDxz9XeZXEeB6PP0SKv/V6Wrq/MJbxCNHOx78gLWvuKlzQvyUGP3lxxdG/OJAmxWR9z78+gtGbQEfLv/FYns3LXcm/MeHhh5Swxr9dyJ9/7SbCv+G451SNuby/C8CuQqSIt795Y9EMk72yvwy4nWy56a2/YpXapAXcqL+8sGpNSY+kv+TFUrx7lKC/2Q3JM6lNmr9NAtbV3W+UvzB0FSBEEY6/JLi66Fc2hL+a2uZGUHV2v/pI5io4qVi/x3qjxFkSYj9wmKWqe653P/U6hfsRFoM/3ezuhfLTij8g2Yxu5W6RP6Awp1JTlZU/azaHUhjnmT8Kt/ujD2CeP7U9MDZjh6E/8vmg6DMApD9lKlDN3ZWmP4mUMQFpRqk/MISw2+YUrD/OjTDf1uquP7lbgCC6zLA/37NI7ygJsj8g0wpuzDSzP0Q5v8uGYbQ/u0UekJ2atT9MAkFx4e+2PyJy6JcCfrg/\",\"dtype\":\"float64\",\"shape\":[75]},\"y\":{\"__ndarray__\":\"GhExyth1ND/Sv8nbtpRIP2vylNV0PVE/aTum7souWD/At0SJ8fVgPw3Iuahxymc/MSNhhJWvcD/bTfBN02d3P2zb5nxnaoA/CD5h5MAGhz8NmeH1TyaQP+zrCsc9p5Y/LbKd76fGnz/bLW5ISEmmPww9YvTcQq8/JV2OstnstT8Er5Y7M8G+P0c+r3jqkcU/5h99k6ZBzj88bCIzFzjVP4enV8oyxN0//yH99nXg5D8qOpLLf0jtP5kqGJXUifQ/c9cS8kHP/D+/DpwzojQEQIEmwoanVwxA4lgXt9HgE0BSSZ2AJuIbQAMJih9jjiNA5q4l5INuK0AwTKYKRj0zQNv5fmq8/DpAaCJseHrtQkB/+zpwzoxKQM3MzMzMeFJAZmZmZmZqWEAAAAAAAFxeQM3MzMzMJmJAmpmZmZkfZUBmZmZmZhhoQDMzMzMzEWtAAAAAAAAKbkBmZmZmZoFwQM3MzMzM/XFAMzMzMzN6c0CamZmZmfZ0QAAAAAAAc3ZAZmZmZmbvd0DNzMzMzGt5QDMzMzMz6HpAmpmZmZlkfEAAAAAAAOF9QGZmZmZmXX9AZmZmZuZsgECamZmZGSuBQM3MzMxM6YFAAAAAAICngkAzMzMzs2WDQGZmZmbmI4RAmpmZmRnihEDNzMzMTKCFQAAAAACAXoZAMzMzM7Mch0BmZmZm5tqHQJqZmZkZmYhAzczMzExXiUAAAAAAgBWKQDMzMzOz04pAZmZmZuaRi0CamZmZGVCMQM3MzMxMDo1AAAAAAIDMjUAzMzMzs4qOQGZmZmbmSI9A\",\"dtype\":\"float64\",\"shape\":[75]}}},\"id\":\"af1901bf-10df-4510-b76a-29306cddd3d4\",\"type\":\"ColumnDataSource\"},{\"attributes\":{\"source\":{\"id\":\"af1901bf-10df-4510-b76a-29306cddd3d4\",\"type\":\"ColumnDataSource\"}},\"id\":\"dd615585-b2ac-4b42-9443-9f00fe61be5e\",\"type\":\"CDSView\"},{\"attributes\":{\"callback\":null,\"end\":0.01,\"start\":1020},\"id\":\"6ce50318-31ab-46cd-8a42-cc112fcfddd9\",\"type\":\"Range1d\"},{\"attributes\":{\"dimension\":1,\"plot\":{\"id\":\"7a9fac14-3654-4cdf-b0ed-a1d0223eb251\",\"subtype\":\"Figure\",\"type\":\"Plot\"},\"ticker\":{\"id\":\"1404dafa-4f0a-470a-8ba4-025a1bcec681\",\"type\":\"LogTicker\"}},\"id\":\"6fe0b11e-2b1e-4827-bd13-68ed3212262f\",\"type\":\"Grid\"},{\"attributes\":{},\"id\":\"db39984f-d2bd-4980-9651-3ae09ed88302\",\"type\":\"WheelZoomTool\"},{\"attributes\":{\"bottom_units\":\"screen\",\"fill_alpha\":{\"value\":0.5},\"fill_color\":{\"value\":\"lightgrey\"},\"left_units\":\"screen\",\"level\":\"overlay\",\"line_alpha\":{\"value\":1.0},\"line_color\":{\"value\":\"black\"},\"line_dash\":[4,4],\"line_width\":{\"value\":2},\"plot\":null,\"render_mode\":\"css\",\"right_units\":\"screen\",\"top_units\":\"screen\"},\"id\":\"eee434d0-6016-404e-951f-526f0c21e2ef\",\"type\":\"BoxAnnotation\"},{\"attributes\":{\"line_color\":\"#4daf4a\",\"line_width\":1.5,\"x\":{\"field\":\"x\"},\"y\":{\"field\":\"y\"}},\"id\":\"50483236-53d1-4b17-82ec-49dde7c8a2cb\",\"type\":\"Line\"},{\"attributes\":{\"data_source\":{\"id\":\"28cfcfe3-ff90-46c4-bc73-4121ff960421\",\"type\":\"ColumnDataSource\"},\"glyph\":{\"id\":\"1f1e63c9-6a31-47c6-839b-0aa2d39034a1\",\"type\":\"Line\"},\"hover_glyph\":null,\"muted_glyph\":null,\"nonselection_glyph\":{\"id\":\"287dc6ad-d301-4b6e-90f3-d73734d60e42\",\"type\":\"Line\"},\"selection_glyph\":null,\"view\":{\"id\":\"be9384ba-3fb6-41c7-a10d-a30614bf1c17\",\"type\":\"CDSView\"}},\"id\":\"59c7edd2-139a-4d8b-bc6c-8926075db316\",\"type\":\"GlyphRenderer\"},{\"attributes\":{\"callback\":null,\"column_names\":[\"x\",\"y\"],\"data\":{\"x\":{\"__ndarray__\":\"9D9Cki49ob/czzuriy+jvyqQqSDe8aa/L5kCUMeOqr8wAsXwWgeuv9wXFCl0rrC/rhfT5BNGsr/gbsXVM8qzvyhNNFylOrW/RcrDAJGXtr/NBjGBb1u5vyq2oPx/Srm/mNQalHpgu78ouJptVa+7vxwbqveO+bu//4y5CN89ur/gelERYL6uvxq9VwNNsaE/QodMOy0mxz+8WYP3VXnbP81LMGLA7uc/APfhxWfX8j+9FwT7VPr6P3jk/tlFp/8/HHfvTXgO/T8DxwojYq/3P0vfEE8b+vE/JsilfbV76j+vEAzW7k3jPzFtzZAJ/No/LHROgQZ6zT+pQtvonqChP8xYPA7mo7i/zps3DO6gyL8JHhmKv5bRv1MQVVted9O/sKhOKMBH0b+zaM+fFZzNv7PQ73f/Csu/Sp/zpmSxx7+2iIPf4dHCv/ZddCYrjr2/80lKIWASuL8UkBKV7xSzv/nKvlYCXK6/+fB7hxoGqb8iK70Lm86kvySxU5V+DqO/wnlcR2GGlL9zWNUj8RiUv2dPyvAUfI+/lBTPDvURhb9lZBBgGL53v5oBE+GrSVO/q/fCxq/2VD8y3bIeWkZ3P/eJoSuBs4I/JCaZti4eij/V8LPl6jSRP8NXxzNgd5U/9LZxQiMDmT+5WlKuIyCePwS/V754UKI/WeBWOlKPoz8Upnvf8GmmP8CqzvgrVak/P4MEx5BcrD+2ZQJ2HNyvP5ANn9KTQrE/dlzRCUjLsj86xgEzYEK0P8U4elpQqLU/WRn6GI0rtz85hX5utFi5PyG9NIecpbo/\",\"dtype\":\"float64\",\"shape\":[75]},\"y\":{\"__ndarray__\":\"GhExyth1ND/Sv8nbtpRIP2vylNV0PVE/aTum7souWD/At0SJ8fVgPw3Iuahxymc/MSNhhJWvcD/bTfBN02d3P2zb5nxnaoA/CD5h5MAGhz8NmeH1TyaQP+zrCsc9p5Y/LbKd76fGnz/bLW5ISEmmPww9YvTcQq8/JV2OstnstT8Er5Y7M8G+P0c+r3jqkcU/5h99k6ZBzj88bCIzFzjVP4enV8oyxN0//yH99nXg5D8qOpLLf0jtP5kqGJXUifQ/c9cS8kHP/D+/DpwzojQEQIEmwoanVwxA4lgXt9HgE0BSSZ2AJuIbQAMJih9jjiNA5q4l5INuK0AwTKYKRj0zQNv5fmq8/DpAaCJseHrtQkB/+zpwzoxKQM3MzMzMeFJAZmZmZmZqWEAAAAAAAFxeQM3MzMzMJmJAmpmZmZkfZUBmZmZmZhhoQDMzMzMzEWtAAAAAAAAKbkBmZmZmZoFwQM3MzMzM/XFAMzMzMzN6c0CamZmZmfZ0QAAAAAAAc3ZAZmZmZmbvd0DNzMzMzGt5QDMzMzMz6HpAmpmZmZlkfEAAAAAAAOF9QGZmZmZmXX9AZmZmZuZsgECamZmZGSuBQM3MzMxM6YFAAAAAAICngkAzMzMzs2WDQGZmZmbmI4RAmpmZmRnihEDNzMzMTKCFQAAAAACAXoZAMzMzM7Mch0BmZmZm5tqHQJqZmZkZmYhAzczMzExXiUAAAAAAgBWKQDMzMzOz04pAZmZmZuaRi0CamZmZGVCMQM3MzMxMDo1AAAAAAIDMjUAzMzMzs4qOQGZmZmbmSI9A\",\"dtype\":\"float64\",\"shape\":[75]}}},\"id\":\"62f0adaa-b4a4-4875-8b5f-032ce2d9f835\",\"type\":\"ColumnDataSource\"},{\"attributes\":{\"callback\":null,\"column_names\":[\"x\",\"y\"],\"data\":{\"x\":{\"__ndarray__\":\"9D9Cki49ob/czzuriy+jvyqQqSDe8aa/L5kCUMeOqr8wAsXwWgeuv9wXFCl0rrC/rhfT5BNGsr/gbsXVM8qzvyhNNFylOrW/RcrDAJGXtr/NBjGBb1u5vyq2oPx/Srm/mNQalHpgu78ouJptVa+7vxwbqveO+bu//4y5CN89ur/gelERYL6uvxq9VwNNsaE/QodMOy0mxz+8WYP3VXnbP81LMGLA7uc/APfhxWfX8j+9FwT7VPr6P3jk/tlFp/8/HHfvTXgO/T8DxwojYq/3P0vfEE8b+vE/JsilfbV76j+vEAzW7k3jPzFtzZAJ/No/LHROgQZ6zT+pQtvonqChP8xYPA7mo7i/zps3DO6gyL8JHhmKv5bRv1MQVVted9O/sKhOKMBH0b+zaM+fFZzNv7PQ73f/Csu/Sp/zpmSxx7+2iIPf4dHCv/ZddCYrjr2/80lKIWASuL8UkBKV7xSzv/nKvlYCXK6/+fB7hxoGqb8iK70Lm86kvySxU5V+DqO/wnlcR2GGlL9zWNUj8RiUv2dPyvAUfI+/lBTPDvURhb9lZBBgGL53v5oBE+GrSVO/q/fCxq/2VD8y3bIeWkZ3P/eJoSuBs4I/JCaZti4eij/V8LPl6jSRP8NXxzNgd5U/9LZxQiMDmT+5WlKuIyCePwS/V754UKI/WeBWOlKPoz8Upnvf8GmmP8CqzvgrVak/P4MEx5BcrD+2ZQJ2HNyvP5ANn9KTQrE/dlzRCUjLsj86xgEzYEK0P8U4elpQqLU/WRn6GI0rtz85hX5utFi5PyG9NIecpbo/\",\"dtype\":\"float64\",\"shape\":[75]},\"y\":{\"__ndarray__\":\"GhExyth1ND/Sv8nbtpRIP2vylNV0PVE/aTum7souWD/At0SJ8fVgPw3Iuahxymc/MSNhhJWvcD/bTfBN02d3P2zb5nxnaoA/CD5h5MAGhz8NmeH1TyaQP+zrCsc9p5Y/LbKd76fGnz/bLW5ISEmmPww9YvTcQq8/JV2OstnstT8Er5Y7M8G+P0c+r3jqkcU/5h99k6ZBzj88bCIzFzjVP4enV8oyxN0//yH99nXg5D8qOpLLf0jtP5kqGJXUifQ/c9cS8kHP/D+/DpwzojQEQIEmwoanVwxA4lgXt9HgE0BSSZ2AJuIbQAMJih9jjiNA5q4l5INuK0AwTKYKRj0zQNv5fmq8/DpAaCJseHrtQkB/+zpwzoxKQM3MzMzMeFJAZmZmZmZqWEAAAAAAAFxeQM3MzMzMJmJAmpmZmZkfZUBmZmZmZhhoQDMzMzMzEWtAAAAAAAAKbkBmZmZmZoFwQM3MzMzM/XFAMzMzMzN6c0CamZmZmfZ0QAAAAAAAc3ZAZmZmZmbvd0DNzMzMzGt5QDMzMzMz6HpAmpmZmZlkfEAAAAAAAOF9QGZmZmZmXX9AZmZmZuZsgECamZmZGSuBQM3MzMxM6YFAAAAAAICngkAzMzMzs2WDQGZmZmbmI4RAmpmZmRnihEDNzMzMTKCFQAAAAACAXoZAMzMzM7Mch0BmZmZm5tqHQJqZmZkZmYhAzczMzExXiUAAAAAAgBWKQDMzMzOz04pAZmZmZuaRi0CamZmZGVCMQM3MzMxMDo1AAAAAAIDMjUAzMzMzs4qOQGZmZmbmSI9A\",\"dtype\":\"float64\",\"shape\":[75]}}},\"id\":\"28cfcfe3-ff90-46c4-bc73-4121ff960421\",\"type\":\"ColumnDataSource\"},{\"attributes\":{},\"id\":\"42a7e248-f0aa-4264-bcfa-ba4b93925753\",\"type\":\"LinearScale\"},{\"attributes\":{\"callback\":null,\"column_names\":[\"x\",\"y\"],\"data\":{\"x\":{\"__ndarray__\":\"8W5sQ7NVn79grW2Z8nKhv7kw5G6W5qS/hsnxlu07qL8cJDAVnHOrv6Lao+Hbjq6/gV9v11XFsL+dgPtBKjOyvz8VrHuokLO/rHywO8bdtL8fS61kuBu2v34hUVkuSre/Qi7WD2hruL++EGhsjHa5vzm1VFpWzLm/sWHoOWs1uL9w/ZN2pZCtv4lMAMs4sJo/NfjzVCSyxT/K2JYiddLYPzqdOyyaT+Y/9/6rM2PW8T+pOdRKfMn5PwBMY8W6ov4/tQ5Yg0GD/D/GwaVjzvP2PwWbhByl3PA/A9ygtD8p6D/eZjvwe8XhP74t/fCYptk/mkYwYXbHzD/ucfoIaX6kP34iiT04SLi/Z47Ve2TSyL82WPYsIQLSv+x4QJd4WdS/yCRlgzNV0r8oDVYYMonPvw7lPErCkcy/FZq5+pC7yL+fjzLiAlDDvxris9ApI76/E2lVKixhuL+PldyEIi2zvxpNYbdlRq6/YTp66vvqqL+2cTixj2ekvxK8xtOXSqC/Gxa3kpyamb91GME2Sq2TvzskhxhHloy/q4v6db7Xgr+hR5+mPBl0v/fjnDfaIVG/Tya87VPoZD+L0uEGXJV4P77qeyeDN4M/S2ofLfmYij+fISYlYBuRP9bQ/u66CpU/ZsROdggjmT/jaIQ6iWGdPwn3dLyc7qA/B6qarpRWoz8TFhwrH+ylP3hR8Qg5sqg/7Km+u+Gzqz/LM3hdlOCuP9b8fIQvBrE/ipefAv2Rsj+r51hpSBi0P8NqeO+yo7U/2NsDAAk7tz8ulcGVD+i4P3qhZ1DAuLo/\",\"dtype\":\"float64\",\"shape\":[75]},\"y\":{\"__ndarray__\":\"GhExyth1ND/Sv8nbtpRIP2vylNV0PVE/aTum7souWD/At0SJ8fVgPw3Iuahxymc/MSNhhJWvcD/bTfBN02d3P2zb5nxnaoA/CD5h5MAGhz8NmeH1TyaQP+zrCsc9p5Y/LbKd76fGnz/bLW5ISEmmPww9YvTcQq8/JV2OstnstT8Er5Y7M8G+P0c+r3jqkcU/5h99k6ZBzj88bCIzFzjVP4enV8oyxN0//yH99nXg5D8qOpLLf0jtP5kqGJXUifQ/c9cS8kHP/D+/DpwzojQEQIEmwoanVwxA4lgXt9HgE0BSSZ2AJuIbQAMJih9jjiNA5q4l5INuK0AwTKYKRj0zQNv5fmq8/DpAaCJseHrtQkB/+zpwzoxKQM3MzMzMeFJAZmZmZmZqWEAAAAAAAFxeQM3MzMzMJmJAmpmZmZkfZUBmZmZmZhhoQDMzMzMzEWtAAAAAAAAKbkBmZmZmZoFwQM3MzMzM/XFAMzMzMzN6c0CamZmZmfZ0QAAAAAAAc3ZAZmZmZmbvd0DNzMzMzGt5QDMzMzMz6HpAmpmZmZlkfEAAAAAAAOF9QGZmZmZmXX9AZmZmZuZsgECamZmZGSuBQM3MzMxM6YFAAAAAAICngkAzMzMzs2WDQGZmZmbmI4RAmpmZmRnihEDNzMzMTKCFQAAAAACAXoZAMzMzM7Mch0BmZmZm5tqHQJqZmZkZmYhAzczMzExXiUAAAAAAgBWKQDMzMzOz04pAZmZmZuaRi0CamZmZGVCMQM3MzMxMDo1AAAAAAIDMjUAzMzMzs4qOQGZmZmbmSI9A\",\"dtype\":\"float64\",\"shape\":[75]}}},\"id\":\"f90080bb-abae-402b-9034-2a11523cae1e\",\"type\":\"ColumnDataSource\"},{\"attributes\":{\"below\":[{\"id\":\"a5de592c-03f0-43da-8d81-966daedb83fc\",\"type\":\"LinearAxis\"}],\"left\":[{\"id\":\"b40af23b-0e8f-451e-abb3-f9c4e00f4d7f\",\"type\":\"LinearAxis\"}],\"plot_height\":500,\"plot_width\":400,\"renderers\":[{\"id\":\"a5de592c-03f0-43da-8d81-966daedb83fc\",\"type\":\"LinearAxis\"},{\"id\":\"dc22ac19-a9de-408a-bf89-1706242e1caa\",\"type\":\"Grid\"},{\"id\":\"b40af23b-0e8f-451e-abb3-f9c4e00f4d7f\",\"type\":\"LinearAxis\"},{\"id\":\"5f809dc0-e57d-48a6-b4e0-e7ca49fdcccd\",\"type\":\"Grid\"},{\"id\":\"c4103e58-5cd5-42ff-b892-d3d3109a7ae6\",\"type\":\"BoxAnnotation\"},{\"id\":\"793fc6a6-205e-44f7-957c-078c474771e8\",\"type\":\"GlyphRenderer\"},{\"id\":\"91b6c6e3-6ed1-4e3e-a2dc-ebc76db5f587\",\"type\":\"GlyphRenderer\"},{\"id\":\"05e9fb5d-4f00-497e-95e3-2cb629ac2d0b\",\"type\":\"GlyphRenderer\"},{\"id\":\"5006885b-2e69-470e-9614-f43de3b8afa5\",\"type\":\"GlyphRenderer\"},{\"id\":\"e00297d3-ee65-469a-8a92-2b9cb8e3f161\",\"type\":\"GlyphRenderer\"},{\"id\":\"59c7edd2-139a-4d8b-bc6c-8926075db316\",\"type\":\"GlyphRenderer\"}],\"title\":{\"id\":\"0e3f6d54-93a3-4363-8c3b-a2484006e823\",\"type\":\"Title\"},\"toolbar\":{\"id\":\"f4e3f54f-da17-441e-ae18-0599c1c1111e\",\"type\":\"Toolbar\"},\"toolbar_location\":null,\"x_range\":{\"id\":\"f82654e3-a0a6-400f-be77-d495489403f7\",\"type\":\"Range1d\"},\"x_scale\":{\"id\":\"1d82c7e4-ac4e-41fa-9619-a4a0d6765ac7\",\"type\":\"LinearScale\"},\"y_range\":{\"id\":\"6ce50318-31ab-46cd-8a42-cc112fcfddd9\",\"type\":\"Range1d\"},\"y_scale\":{\"id\":\"e7ef8666-8237-4d53-9490-89fac467a1ff\",\"type\":\"LinearScale\"}},\"id\":\"2dd9d9aa-87a3-45ad-888a-2ed67ea9541c\",\"subtype\":\"Figure\",\"type\":\"Plot\"},{\"attributes\":{},\"id\":\"4bbaf059-224f-4135-b154-a18875858d25\",\"type\":\"BasicTicker\"},{\"attributes\":{\"plot\":{\"id\":\"7a9fac14-3654-4cdf-b0ed-a1d0223eb251\",\"subtype\":\"Figure\",\"type\":\"Plot\"},\"ticker\":{\"id\":\"4bbaf059-224f-4135-b154-a18875858d25\",\"type\":\"BasicTicker\"}},\"id\":\"212f67b1-f25f-4574-a52f-016fa7f5bcc1\",\"type\":\"Grid\"},{\"attributes\":{\"active_drag\":\"auto\",\"active_inspect\":\"auto\",\"active_scroll\":\"auto\",\"active_tap\":\"auto\",\"tools\":[{\"id\":\"75abf356-7863-453a-8a28-f8e9c57d81d3\",\"type\":\"PanTool\"},{\"id\":\"89c022cc-930e-4513-8c98-6068db3d4244\",\"type\":\"WheelZoomTool\"},{\"id\":\"9a7238f8-27b5-4147-b167-5f7326a6bffe\",\"type\":\"BoxZoomTool\"},{\"id\":\"546c4686-5ac8-4f2c-bcb1-a4da6af283a3\",\"type\":\"SaveTool\"},{\"id\":\"01134d5f-6794-4ca5-a8c7-239e5ce97b5b\",\"type\":\"ResetTool\"},{\"id\":\"dfad2727-a289-412b-b81e-13cad68999d4\",\"type\":\"HelpTool\"}]},\"id\":\"f4e3f54f-da17-441e-ae18-0599c1c1111e\",\"type\":\"Toolbar\"},{\"attributes\":{},\"id\":\"d02981bd-af30-4703-8978-39701a2e6baa\",\"type\":\"LogScale\"},{\"attributes\":{\"data_source\":{\"id\":\"8efb9e3b-8efd-44b3-ace7-fcda3d25a85f\",\"type\":\"ColumnDataSource\"},\"glyph\":{\"id\":\"25bfa4b7-dd07-47d8-9a8e-2a7c81e14296\",\"type\":\"InvertedTriangle\"},\"hover_glyph\":null,\"muted_glyph\":null,\"nonselection_glyph\":{\"id\":\"85c93d83-dabd-4ee7-8d24-0e2992abb8cd\",\"type\":\"InvertedTriangle\"},\"selection_glyph\":null,\"view\":{\"id\":\"a23b7596-7b33-4553-948c-be44dafd8f11\",\"type\":\"CDSView\"}},\"id\":\"e00297d3-ee65-469a-8a92-2b9cb8e3f161\",\"type\":\"GlyphRenderer\"},{\"attributes\":{\"plot\":null,\"text\":\"Log pressure scale\"},\"id\":\"c545c5fe-47a5-43b2-bdaf-edf38139b5f6\",\"type\":\"Title\"},{\"attributes\":{\"fill_alpha\":{\"value\":0.1},\"fill_color\":{\"value\":\"#1f77b4\"},\"line_alpha\":{\"value\":0.1},\"line_color\":{\"value\":\"#1f77b4\"},\"x\":{\"field\":\"x\"},\"y\":{\"field\":\"y\"}},\"id\":\"85c93d83-dabd-4ee7-8d24-0e2992abb8cd\",\"type\":\"InvertedTriangle\"},{\"attributes\":{\"overlay\":{\"id\":\"c4103e58-5cd5-42ff-b892-d3d3109a7ae6\",\"type\":\"BoxAnnotation\"}},\"id\":\"9a7238f8-27b5-4147-b167-5f7326a6bffe\",\"type\":\"BoxZoomTool\"},{\"attributes\":{},\"id\":\"893f15fd-e45f-4ff7-b7ef-211974b7526c\",\"type\":\"PanTool\"},{\"attributes\":{\"callback\":null,\"column_names\":[\"x\",\"y\"],\"data\":{\"x\":{\"__ndarray__\":\"OfiFAZKDpL/V+P5mXwKmv/+lUfAwx6u/+LaWUmKarr85k8e3nVSxvxQCOER8KrO/+7dWcWYYtb/t2VdEa8q2vzIjM0yqjLi/JwjLlrT7ub8n3bfW7om7vwiClX029ry/WcRNmd2Lvr8GbWqHXPy/v1kOmZdoNcC/R4YDvi4Fvr8i0TbEmduxv6XFU24mz6A/AYpwF4qJyT8otsTC91vcP9ebvdgg2Og/dkHYhA+A8z8AHYsSmb77P0NoqWFk7v8/US/4NCev/D9/Oz975AX3P7hVtUnqCfE/x2oMnUvv5z+ecjN5VtTgPwzOfcVcytY/JAQvI4qDxz9XeZXEeB6PP0SKv/V6Wrq/MJbxCNHOx78gLWvuKlzQvyUGP3lxxdG/OJAmxWR9z78+gtGbQEfLv/FYns3LXcm/MeHhh5Swxr9dyJ9/7SbCv+G451SNuby/C8CuQqSIt795Y9EMk72yvwy4nWy56a2/YpXapAXcqL+8sGpNSY+kv+TFUrx7lKC/2Q3JM6lNmr9NAtbV3W+UvzB0FSBEEY6/JLi66Fc2hL+a2uZGUHV2v/pI5io4qVi/x3qjxFkSYj9wmKWqe653P/U6hfsRFoM/3ezuhfLTij8g2Yxu5W6RP6Awp1JTlZU/azaHUhjnmT8Kt/ujD2CeP7U9MDZjh6E/8vmg6DMApD9lKlDN3ZWmP4mUMQFpRqk/MISw2+YUrD/OjTDf1uquP7lbgCC6zLA/37NI7ygJsj8g0wpuzDSzP0Q5v8uGYbQ/u0UekJ2atT9MAkFx4e+2PyJy6JcCfrg/\",\"dtype\":\"float64\",\"shape\":[75]},\"y\":{\"__ndarray__\":\"GhExyth1ND/Sv8nbtpRIP2vylNV0PVE/aTum7souWD/At0SJ8fVgPw3Iuahxymc/MSNhhJWvcD/bTfBN02d3P2zb5nxnaoA/CD5h5MAGhz8NmeH1TyaQP+zrCsc9p5Y/LbKd76fGnz/bLW5ISEmmPww9YvTcQq8/JV2OstnstT8Er5Y7M8G+P0c+r3jqkcU/5h99k6ZBzj88bCIzFzjVP4enV8oyxN0//yH99nXg5D8qOpLLf0jtP5kqGJXUifQ/c9cS8kHP/D+/DpwzojQEQIEmwoanVwxA4lgXt9HgE0BSSZ2AJuIbQAMJih9jjiNA5q4l5INuK0AwTKYKRj0zQNv5fmq8/DpAaCJseHrtQkB/+zpwzoxKQM3MzMzMeFJAZmZmZmZqWEAAAAAAAFxeQM3MzMzMJmJAmpmZmZkfZUBmZmZmZhhoQDMzMzMzEWtAAAAAAAAKbkBmZmZmZoFwQM3MzMzM/XFAMzMzMzN6c0CamZmZmfZ0QAAAAAAAc3ZAZmZmZmbvd0DNzMzMzGt5QDMzMzMz6HpAmpmZmZlkfEAAAAAAAOF9QGZmZmZmXX9AZmZmZuZsgECamZmZGSuBQM3MzMxM6YFAAAAAAICngkAzMzMzs2WDQGZmZmbmI4RAmpmZmRnihEDNzMzMTKCFQAAAAACAXoZAMzMzM7Mch0BmZmZm5tqHQJqZmZkZmYhAzczMzExXiUAAAAAAgBWKQDMzMzOz04pAZmZmZuaRi0CamZmZGVCMQM3MzMxMDo1AAAAAAIDMjUAzMzMzs4qOQGZmZmbmSI9A\",\"dtype\":\"float64\",\"shape\":[75]}}},\"id\":\"26599fd3-dde6-45fb-972b-0beb52ab8557\",\"type\":\"ColumnDataSource\"},{\"attributes\":{},\"id\":\"e7ef8666-8237-4d53-9490-89fac467a1ff\",\"type\":\"LinearScale\"},{\"attributes\":{\"line_alpha\":0.6,\"line_color\":\"#984ea3\",\"line_width\":3,\"x\":{\"field\":\"x\"},\"y\":{\"field\":\"y\"}},\"id\":\"7c882e02-3e0b-4d03-87b8-e74611775f3a\",\"type\":\"Line\"},{\"attributes\":{},\"id\":\"89c022cc-930e-4513-8c98-6068db3d4244\",\"type\":\"WheelZoomTool\"},{\"attributes\":{\"active_drag\":\"auto\",\"active_inspect\":\"auto\",\"active_scroll\":\"auto\",\"active_tap\":\"auto\",\"tools\":[{\"id\":\"893f15fd-e45f-4ff7-b7ef-211974b7526c\",\"type\":\"PanTool\"},{\"id\":\"db39984f-d2bd-4980-9651-3ae09ed88302\",\"type\":\"WheelZoomTool\"},{\"id\":\"3e9fdf38-74fc-45eb-a7fb-183d5cd83753\",\"type\":\"BoxZoomTool\"},{\"id\":\"225b06f3-e189-4aca-b184-5284040b4050\",\"type\":\"SaveTool\"},{\"id\":\"f9ed43a9-1b8e-429f-af83-32f05fe5c13c\",\"type\":\"ResetTool\"},{\"id\":\"708a5877-2fb3-4b15-bde0-3df784c977a3\",\"type\":\"HelpTool\"}]},\"id\":\"6c59ac63-2a78-4af6-aa21-fa2a440d76ff\",\"type\":\"Toolbar\"},{\"attributes\":{},\"id\":\"3db8aacd-a0ea-47e8-987c-f437c2539b71\",\"type\":\"BasicTicker\"},{\"attributes\":{\"source\":{\"id\":\"706bb9ca-9db6-47c8-9dfa-bd64843af34a\",\"type\":\"ColumnDataSource\"}},\"id\":\"2f226485-1ed5-4ec1-9b3a-a6bf5d60aad2\",\"type\":\"CDSView\"},{\"attributes\":{\"axis_label\":\"cooling rate [K/day]\",\"formatter\":{\"id\":\"541a4ada-bc50-4aca-8435-4e62a2292037\",\"type\":\"BasicTickFormatter\"},\"plot\":{\"id\":\"2dd9d9aa-87a3-45ad-888a-2ed67ea9541c\",\"subtype\":\"Figure\",\"type\":\"Plot\"},\"ticker\":{\"id\":\"3db8aacd-a0ea-47e8-987c-f437c2539b71\",\"type\":\"BasicTicker\"}},\"id\":\"a5de592c-03f0-43da-8d81-966daedb83fc\",\"type\":\"LinearAxis\"},{\"attributes\":{\"axis_label\":\"pressure [mb]\",\"formatter\":{\"id\":\"5e31741a-28d2-4938-ac45-65f3695dd867\",\"type\":\"LogTickFormatter\"},\"plot\":{\"id\":\"7a9fac14-3654-4cdf-b0ed-a1d0223eb251\",\"subtype\":\"Figure\",\"type\":\"Plot\"},\"ticker\":{\"id\":\"1404dafa-4f0a-470a-8ba4-025a1bcec681\",\"type\":\"LogTicker\"}},\"id\":\"45af9503-d860-4ee5-b915-c02822179858\",\"type\":\"LogAxis\"},{\"attributes\":{},\"id\":\"546c4686-5ac8-4f2c-bcb1-a4da6af283a3\",\"type\":\"SaveTool\"},{\"attributes\":{\"plot\":{\"id\":\"2dd9d9aa-87a3-45ad-888a-2ed67ea9541c\",\"subtype\":\"Figure\",\"type\":\"Plot\"},\"ticker\":{\"id\":\"3db8aacd-a0ea-47e8-987c-f437c2539b71\",\"type\":\"BasicTicker\"}},\"id\":\"dc22ac19-a9de-408a-bf89-1706242e1caa\",\"type\":\"Grid\"},{\"attributes\":{\"axis_label\":\"pressure [mb]\",\"formatter\":{\"id\":\"0e5e7d96-645b-44a3-9e88-c893bcec07ea\",\"type\":\"BasicTickFormatter\"},\"plot\":{\"id\":\"2dd9d9aa-87a3-45ad-888a-2ed67ea9541c\",\"subtype\":\"Figure\",\"type\":\"Plot\"},\"ticker\":{\"id\":\"4acab175-c64c-4a4c-bb79-72a091e9dd9d\",\"type\":\"BasicTicker\"}},\"id\":\"b40af23b-0e8f-451e-abb3-f9c4e00f4d7f\",\"type\":\"LinearAxis\"},{\"attributes\":{\"line_alpha\":0.1,\"line_color\":\"#1f77b4\",\"line_dash\":[2,4,6,4],\"line_width\":3,\"x\":{\"field\":\"x\"},\"y\":{\"field\":\"y\"}},\"id\":\"287dc6ad-d301-4b6e-90f3-d73734d60e42\",\"type\":\"Line\"},{\"attributes\":{\"dimension\":1,\"plot\":{\"id\":\"2dd9d9aa-87a3-45ad-888a-2ed67ea9541c\",\"subtype\":\"Figure\",\"type\":\"Plot\"},\"ticker\":{\"id\":\"4acab175-c64c-4a4c-bb79-72a091e9dd9d\",\"type\":\"BasicTicker\"}},\"id\":\"5f809dc0-e57d-48a6-b4e0-e7ca49fdcccd\",\"type\":\"Grid\"},{\"attributes\":{\"line_alpha\":0.6,\"line_color\":\"#377eb8\",\"line_dash\":[2,4,6,4],\"line_width\":3,\"x\":{\"field\":\"x\"},\"y\":{\"field\":\"y\"}},\"id\":\"ffb515d1-f813-4e93-965f-1c70786c802f\",\"type\":\"Line\"},{\"attributes\":{\"bottom_units\":\"screen\",\"fill_alpha\":{\"value\":0.5},\"fill_color\":{\"value\":\"lightgrey\"},\"left_units\":\"screen\",\"level\":\"overlay\",\"line_alpha\":{\"value\":1.0},\"line_color\":{\"value\":\"black\"},\"line_dash\":[4,4],\"line_width\":{\"value\":2},\"plot\":null,\"render_mode\":\"css\",\"right_units\":\"screen\",\"top_units\":\"screen\"},\"id\":\"c4103e58-5cd5-42ff-b892-d3d3109a7ae6\",\"type\":\"BoxAnnotation\"},{\"attributes\":{\"source\":{\"id\":\"28cfcfe3-ff90-46c4-bc73-4121ff960421\",\"type\":\"ColumnDataSource\"}},\"id\":\"be9384ba-3fb6-41c7-a10d-a30614bf1c17\",\"type\":\"CDSView\"},{\"attributes\":{},\"id\":\"4acab175-c64c-4a4c-bb79-72a091e9dd9d\",\"type\":\"BasicTicker\"},{\"attributes\":{\"fill_alpha\":{\"value\":0.7},\"fill_color\":{\"value\":\"#4daf4a\"},\"line_alpha\":{\"value\":0.7},\"line_color\":{\"value\":\"#4daf4a\"},\"x\":{\"field\":\"x\"},\"y\":{\"field\":\"y\"}},\"id\":\"49246282-fec3-48e1-bda7-d7e9041d1946\",\"type\":\"Circle\"},{\"attributes\":{\"fill_alpha\":{\"value\":0.7},\"fill_color\":{\"value\":\"#377eb8\"},\"line_alpha\":{\"value\":0.7},\"line_color\":{\"value\":\"#377eb8\"},\"x\":{\"field\":\"x\"},\"y\":{\"field\":\"y\"}},\"id\":\"25bfa4b7-dd07-47d8-9a8e-2a7c81e14296\",\"type\":\"InvertedTriangle\"},{\"attributes\":{\"children\":[{\"id\":\"ecb0037a-4be7-4eb2-a9f7-8cbf85e5de4f\",\"type\":\"Row\"}]},\"id\":\"ecd8dedd-72bb-4e57-9016-a249a08b6639\",\"type\":\"Column\"},{\"attributes\":{\"source\":{\"id\":\"26599fd3-dde6-45fb-972b-0beb52ab8557\",\"type\":\"ColumnDataSource\"}},\"id\":\"304cfcd9-1e98-4c70-a8f4-5da6c6da1c66\",\"type\":\"CDSView\"},{\"attributes\":{\"callback\":null,\"column_names\":[\"x\",\"y\"],\"data\":{\"x\":{\"__ndarray__\":\"9D9Cki49ob/czzuriy+jvyqQqSDe8aa/L5kCUMeOqr8wAsXwWgeuv9wXFCl0rrC/rhfT5BNGsr/gbsXVM8qzvyhNNFylOrW/RcrDAJGXtr/NBjGBb1u5vyq2oPx/Srm/mNQalHpgu78ouJptVa+7vxwbqveO+bu//4y5CN89ur/gelERYL6uvxq9VwNNsaE/QodMOy0mxz+8WYP3VXnbP81LMGLA7uc/APfhxWfX8j+9FwT7VPr6P3jk/tlFp/8/HHfvTXgO/T8DxwojYq/3P0vfEE8b+vE/JsilfbV76j+vEAzW7k3jPzFtzZAJ/No/LHROgQZ6zT+pQtvonqChP8xYPA7mo7i/zps3DO6gyL8JHhmKv5bRv1MQVVted9O/sKhOKMBH0b+zaM+fFZzNv7PQ73f/Csu/Sp/zpmSxx7+2iIPf4dHCv/ZddCYrjr2/80lKIWASuL8UkBKV7xSzv/nKvlYCXK6/+fB7hxoGqb8iK70Lm86kvySxU5V+DqO/wnlcR2GGlL9zWNUj8RiUv2dPyvAUfI+/lBTPDvURhb9lZBBgGL53v5oBE+GrSVO/q/fCxq/2VD8y3bIeWkZ3P/eJoSuBs4I/JCaZti4eij/V8LPl6jSRP8NXxzNgd5U/9LZxQiMDmT+5WlKuIyCePwS/V754UKI/WeBWOlKPoz8Upnvf8GmmP8CqzvgrVak/P4MEx5BcrD+2ZQJ2HNyvP5ANn9KTQrE/dlzRCUjLsj86xgEzYEK0P8U4elpQqLU/WRn6GI0rtz85hX5utFi5PyG9NIecpbo/\",\"dtype\":\"float64\",\"shape\":[75]},\"y\":{\"__ndarray__\":\"GhExyth1ND/Sv8nbtpRIP2vylNV0PVE/aTum7souWD/At0SJ8fVgPw3Iuahxymc/MSNhhJWvcD/bTfBN02d3P2zb5nxnaoA/CD5h5MAGhz8NmeH1TyaQP+zrCsc9p5Y/LbKd76fGnz/bLW5ISEmmPww9YvTcQq8/JV2OstnstT8Er5Y7M8G+P0c+r3jqkcU/5h99k6ZBzj88bCIzFzjVP4enV8oyxN0//yH99nXg5D8qOpLLf0jtP5kqGJXUifQ/c9cS8kHP/D+/DpwzojQEQIEmwoanVwxA4lgXt9HgE0BSSZ2AJuIbQAMJih9jjiNA5q4l5INuK0AwTKYKRj0zQNv5fmq8/DpAaCJseHrtQkB/+zpwzoxKQM3MzMzMeFJAZmZmZmZqWEAAAAAAAFxeQM3MzMzMJmJAmpmZmZkfZUBmZmZmZhhoQDMzMzMzEWtAAAAAAAAKbkBmZmZmZoFwQM3MzMzM/XFAMzMzMzN6c0CamZmZmfZ0QAAAAAAAc3ZAZmZmZmbvd0DNzMzMzGt5QDMzMzMz6HpAmpmZmZlkfEAAAAAAAOF9QGZmZmZmXX9AZmZmZuZsgECamZmZGSuBQM3MzMxM6YFAAAAAAICngkAzMzMzs2WDQGZmZmbmI4RAmpmZmRnihEDNzMzMTKCFQAAAAACAXoZAMzMzM7Mch0BmZmZm5tqHQJqZmZkZmYhAzczMzExXiUAAAAAAgBWKQDMzMzOz04pAZmZmZuaRi0CamZmZGVCMQM3MzMxMDo1AAAAAAIDMjUAzMzMzs4qOQGZmZmbmSI9A\",\"dtype\":\"float64\",\"shape\":[75]}}},\"id\":\"8efb9e3b-8efd-44b3-ace7-fcda3d25a85f\",\"type\":\"ColumnDataSource\"},{\"attributes\":{},\"id\":\"1d82c7e4-ac4e-41fa-9619-a4a0d6765ac7\",\"type\":\"LinearScale\"},{\"attributes\":{\"plot\":null,\"text\":\"Linear pressure scale\"},\"id\":\"0e3f6d54-93a3-4363-8c3b-a2484006e823\",\"type\":\"Title\"},{\"attributes\":{\"source\":{\"id\":\"8efb9e3b-8efd-44b3-ace7-fcda3d25a85f\",\"type\":\"ColumnDataSource\"}},\"id\":\"a23b7596-7b33-4553-948c-be44dafd8f11\",\"type\":\"CDSView\"},{\"attributes\":{\"data_source\":{\"id\":\"706bb9ca-9db6-47c8-9dfa-bd64843af34a\",\"type\":\"ColumnDataSource\"},\"glyph\":{\"id\":\"7c882e02-3e0b-4d03-87b8-e74611775f3a\",\"type\":\"Line\"},\"hover_glyph\":null,\"muted_glyph\":null,\"nonselection_glyph\":{\"id\":\"8c6dff75-8ce4-4e8f-b88e-1851508ea52a\",\"type\":\"Line\"},\"selection_glyph\":null,\"view\":{\"id\":\"2f226485-1ed5-4ec1-9b3a-a6bf5d60aad2\",\"type\":\"CDSView\"}},\"id\":\"5006885b-2e69-470e-9614-f43de3b8afa5\",\"type\":\"GlyphRenderer\"},{\"attributes\":{\"callback\":null,\"end\":0.1086050046,\"start\":-0.3221843046},\"id\":\"f82654e3-a0a6-400f-be77-d495489403f7\",\"type\":\"Range1d\"},{\"attributes\":{},\"id\":\"dfad2727-a289-412b-b81e-13cad68999d4\",\"type\":\"HelpTool\"},{\"attributes\":{},\"id\":\"75abf356-7863-453a-8a28-f8e9c57d81d3\",\"type\":\"PanTool\"},{\"attributes\":{\"line_alpha\":0.1,\"line_color\":\"#1f77b4\",\"line_width\":3,\"x\":{\"field\":\"x\"},\"y\":{\"field\":\"y\"}},\"id\":\"8c6dff75-8ce4-4e8f-b88e-1851508ea52a\",\"type\":\"Line\"},{\"attributes\":{\"fill_alpha\":{\"value\":0.7},\"fill_color\":{\"value\":\"#984ea3\"},\"line_alpha\":{\"value\":0.7},\"line_color\":{\"value\":\"#984ea3\"},\"x\":{\"field\":\"x\"},\"y\":{\"field\":\"y\"}},\"id\":\"15ec1cf9-d090-4bc3-9475-9015ea0bd4b3\",\"type\":\"Square\"},{\"attributes\":{\"callback\":null,\"end\":0.01,\"start\":1020},\"id\":\"32d5d042-46c2-44d6-94b3-1223f82e26e3\",\"type\":\"Range1d\"},{\"attributes\":{},\"id\":\"01134d5f-6794-4ca5-a8c7-239e5ce97b5b\",\"type\":\"ResetTool\"},{\"attributes\":{\"callback\":null,\"end\":2.0188378208,\"start\":-0.3410975008},\"id\":\"286c01bb-f14a-4c5e-a4ae-6ab16da70769\",\"type\":\"Range1d\"},{\"attributes\":{\"line_alpha\":0.1,\"line_color\":\"#1f77b4\",\"line_dash\":[2,4,6,4],\"line_width\":3,\"x\":{\"field\":\"x\"},\"y\":{\"field\":\"y\"}},\"id\":\"aa3d5d3f-f133-4fa1-9060-6e047511e51a\",\"type\":\"Line\"},{\"attributes\":{\"data_source\":{\"id\":\"62f0adaa-b4a4-4875-8b5f-032ce2d9f835\",\"type\":\"ColumnDataSource\"},\"glyph\":{\"id\":\"ffb515d1-f813-4e93-965f-1c70786c802f\",\"type\":\"Line\"},\"hover_glyph\":null,\"muted_glyph\":null,\"nonselection_glyph\":{\"id\":\"aa3d5d3f-f133-4fa1-9060-6e047511e51a\",\"type\":\"Line\"},\"selection_glyph\":null,\"view\":{\"id\":\"b6febec4-5619-456f-9af3-52670cbbcd94\",\"type\":\"CDSView\"}},\"id\":\"088b7da2-45a3-4cde-a3b8-8d5a5069b568\",\"type\":\"GlyphRenderer\"},{\"attributes\":{\"source\":{\"id\":\"62f0adaa-b4a4-4875-8b5f-032ce2d9f835\",\"type\":\"ColumnDataSource\"}},\"id\":\"b6febec4-5619-456f-9af3-52670cbbcd94\",\"type\":\"CDSView\"},{\"attributes\":{\"items\":[{\"id\":\"5db63f36-e975-436f-8ae6-e2c573112c82\",\"type\":\"LegendItem\"},{\"id\":\"93de524c-50cc-4ccb-9a74-bf44c1e47a82\",\"type\":\"LegendItem\"},{\"id\":\"7dcd74a8-c917-4ce8-bda1-b6218866498a\",\"type\":\"LegendItem\"}],\"label_text_font_size\":{\"value\":\"8pt\"},\"location\":[10,-30],\"plot\":{\"id\":\"7a9fac14-3654-4cdf-b0ed-a1d0223eb251\",\"subtype\":\"Figure\",\"type\":\"Plot\"}},\"id\":\"4f3b28f1-0bae-405d-968f-c2a9cb309505\",\"type\":\"Legend\"},{\"attributes\":{},\"id\":\"0e5e7d96-645b-44a3-9e88-c893bcec07ea\",\"type\":\"BasicTickFormatter\"},{\"attributes\":{\"fill_alpha\":{\"value\":0.1},\"fill_color\":{\"value\":\"#1f77b4\"},\"line_alpha\":{\"value\":0.1},\"line_color\":{\"value\":\"#1f77b4\"},\"x\":{\"field\":\"x\"},\"y\":{\"field\":\"y\"}},\"id\":\"cda5d7a5-9b20-46c3-93f6-355c8e85b956\",\"type\":\"InvertedTriangle\"},{\"attributes\":{\"children\":[{\"id\":\"2dd9d9aa-87a3-45ad-888a-2ed67ea9541c\",\"subtype\":\"Figure\",\"type\":\"Plot\"},{\"id\":\"7a9fac14-3654-4cdf-b0ed-a1d0223eb251\",\"subtype\":\"Figure\",\"type\":\"Plot\"}]},\"id\":\"ecb0037a-4be7-4eb2-a9f7-8cbf85e5de4f\",\"type\":\"Row\"},{\"attributes\":{},\"id\":\"541a4ada-bc50-4aca-8435-4e62a2292037\",\"type\":\"BasicTickFormatter\"},{\"attributes\":{\"label\":{\"value\":\"WGT igg=10\"},\"renderers\":[{\"id\":\"e93b145c-5546-467b-ab0b-a4c2ac1d9bb6\",\"type\":\"GlyphRenderer\"},{\"id\":\"ff228e02-0687-4fb8-801b-f4c2caf68d36\",\"type\":\"GlyphRenderer\"}]},\"id\":\"93de524c-50cc-4ccb-9a74-bf44c1e47a82\",\"type\":\"LegendItem\"},{\"attributes\":{\"tools\":[{\"id\":\"75abf356-7863-453a-8a28-f8e9c57d81d3\",\"type\":\"PanTool\"},{\"id\":\"89c022cc-930e-4513-8c98-6068db3d4244\",\"type\":\"WheelZoomTool\"},{\"id\":\"9a7238f8-27b5-4147-b167-5f7326a6bffe\",\"type\":\"BoxZoomTool\"},{\"id\":\"546c4686-5ac8-4f2c-bcb1-a4da6af283a3\",\"type\":\"SaveTool\"},{\"id\":\"01134d5f-6794-4ca5-a8c7-239e5ce97b5b\",\"type\":\"ResetTool\"},{\"id\":\"dfad2727-a289-412b-b81e-13cad68999d4\",\"type\":\"HelpTool\"},{\"id\":\"893f15fd-e45f-4ff7-b7ef-211974b7526c\",\"type\":\"PanTool\"},{\"id\":\"db39984f-d2bd-4980-9651-3ae09ed88302\",\"type\":\"WheelZoomTool\"},{\"id\":\"3e9fdf38-74fc-45eb-a7fb-183d5cd83753\",\"type\":\"BoxZoomTool\"},{\"id\":\"225b06f3-e189-4aca-b184-5284040b4050\",\"type\":\"SaveTool\"},{\"id\":\"f9ed43a9-1b8e-429f-af83-32f05fe5c13c\",\"type\":\"ResetTool\"},{\"id\":\"708a5877-2fb3-4b15-bde0-3df784c977a3\",\"type\":\"HelpTool\"}]},\"id\":\"0e57f67c-c9fd-4aff-8f4f-37572d9dc581\",\"type\":\"ProxyToolbar\"},{\"attributes\":{\"label\":{\"value\":\"CRD\"},\"renderers\":[{\"id\":\"2cbcf179-0806-4c9c-8d51-26b6ec270cac\",\"type\":\"GlyphRenderer\"},{\"id\":\"054429a5-013b-4035-be44-c073fadc55d3\",\"type\":\"GlyphRenderer\"}]},\"id\":\"5db63f36-e975-436f-8ae6-e2c573112c82\",\"type\":\"LegendItem\"},{\"attributes\":{\"data_source\":{\"id\":\"8b43e9a2-23c3-4de9-afaa-6d6ef2938be8\",\"type\":\"ColumnDataSource\"},\"glyph\":{\"id\":\"ed394590-e22d-4eee-8b3d-75e38b2da4e3\",\"type\":\"InvertedTriangle\"},\"hover_glyph\":null,\"muted_glyph\":null,\"nonselection_glyph\":{\"id\":\"cda5d7a5-9b20-46c3-93f6-355c8e85b956\",\"type\":\"InvertedTriangle\"},\"selection_glyph\":null,\"view\":{\"id\":\"1579ad65-c582-4989-974c-42d720256fe0\",\"type\":\"CDSView\"}},\"id\":\"10ed324a-2a40-495a-8527-2b1b4a914f0d\",\"type\":\"GlyphRenderer\"},{\"attributes\":{\"callback\":null,\"column_names\":[\"x\",\"y\"],\"data\":{\"x\":{\"__ndarray__\":\"OfiFAZKDpL/V+P5mXwKmv/+lUfAwx6u/+LaWUmKarr85k8e3nVSxvxQCOER8KrO/+7dWcWYYtb/t2VdEa8q2vzIjM0yqjLi/JwjLlrT7ub8n3bfW7om7vwiClX029ry/WcRNmd2Lvr8GbWqHXPy/v1kOmZdoNcC/R4YDvi4Fvr8i0TbEmduxv6XFU24mz6A/AYpwF4qJyT8otsTC91vcP9ebvdgg2Og/dkHYhA+A8z8AHYsSmb77P0NoqWFk7v8/US/4NCev/D9/Oz975AX3P7hVtUnqCfE/x2oMnUvv5z+ecjN5VtTgPwzOfcVcytY/JAQvI4qDxz9XeZXEeB6PP0SKv/V6Wrq/MJbxCNHOx78gLWvuKlzQvyUGP3lxxdG/OJAmxWR9z78+gtGbQEfLv/FYns3LXcm/MeHhh5Swxr9dyJ9/7SbCv+G451SNuby/C8CuQqSIt795Y9EMk72yvwy4nWy56a2/YpXapAXcqL+8sGpNSY+kv+TFUrx7lKC/2Q3JM6lNmr9NAtbV3W+UvzB0FSBEEY6/JLi66Fc2hL+a2uZGUHV2v/pI5io4qVi/x3qjxFkSYj9wmKWqe653P/U6hfsRFoM/3ezuhfLTij8g2Yxu5W6RP6Awp1JTlZU/azaHUhjnmT8Kt/ujD2CeP7U9MDZjh6E/8vmg6DMApD9lKlDN3ZWmP4mUMQFpRqk/MISw2+YUrD/OjTDf1uquP7lbgCC6zLA/37NI7ygJsj8g0wpuzDSzP0Q5v8uGYbQ/u0UekJ2atT9MAkFx4e+2PyJy6JcCfrg/\",\"dtype\":\"float64\",\"shape\":[75]},\"y\":{\"__ndarray__\":\"GhExyth1ND/Sv8nbtpRIP2vylNV0PVE/aTum7souWD/At0SJ8fVgPw3Iuahxymc/MSNhhJWvcD/bTfBN02d3P2zb5nxnaoA/CD5h5MAGhz8NmeH1TyaQP+zrCsc9p5Y/LbKd76fGnz/bLW5ISEmmPww9YvTcQq8/JV2OstnstT8Er5Y7M8G+P0c+r3jqkcU/5h99k6ZBzj88bCIzFzjVP4enV8oyxN0//yH99nXg5D8qOpLLf0jtP5kqGJXUifQ/c9cS8kHP/D+/DpwzojQEQIEmwoanVwxA4lgXt9HgE0BSSZ2AJuIbQAMJih9jjiNA5q4l5INuK0AwTKYKRj0zQNv5fmq8/DpAaCJseHrtQkB/+zpwzoxKQM3MzMzMeFJAZmZmZmZqWEAAAAAAAFxeQM3MzMzMJmJAmpmZmZkfZUBmZmZmZhhoQDMzMzMzEWtAAAAAAAAKbkBmZmZmZoFwQM3MzMzM/XFAMzMzMzN6c0CamZmZmfZ0QAAAAAAAc3ZAZmZmZmbvd0DNzMzMzGt5QDMzMzMz6HpAmpmZmZlkfEAAAAAAAOF9QGZmZmZmXX9AZmZmZuZsgECamZmZGSuBQM3MzMxM6YFAAAAAAICngkAzMzMzs2WDQGZmZmbmI4RAmpmZmRnihEDNzMzMTKCFQAAAAACAXoZAMzMzM7Mch0BmZmZm5tqHQJqZmZkZmYhAzczMzExXiUAAAAAAgBWKQDMzMzOz04pAZmZmZuaRi0CamZmZGVCMQM3MzMxMDo1AAAAAAIDMjUAzMzMzs4qOQGZmZmbmSI9A\",\"dtype\":\"float64\",\"shape\":[75]}}},\"id\":\"fafd8ef4-e063-48c7-b168-31ada97fb8c7\",\"type\":\"ColumnDataSource\"},{\"attributes\":{\"label\":{\"value\":\"WGT igg=1\"},\"renderers\":[{\"id\":\"10ed324a-2a40-495a-8527-2b1b4a914f0d\",\"type\":\"GlyphRenderer\"},{\"id\":\"088b7da2-45a3-4cde-a3b8-8d5a5069b568\",\"type\":\"GlyphRenderer\"}]},\"id\":\"7dcd74a8-c917-4ce8-bda1-b6218866498a\",\"type\":\"LegendItem\"},{\"attributes\":{\"toolbar\":{\"id\":\"0e57f67c-c9fd-4aff-8f4f-37572d9dc581\",\"type\":\"ProxyToolbar\"},\"toolbar_location\":\"above\"},\"id\":\"1bb35d42-11b0-4c72-b71e-6996c3f60c21\",\"type\":\"ToolbarBox\"},{\"attributes\":{\"children\":[{\"id\":\"1bb35d42-11b0-4c72-b71e-6996c3f60c21\",\"type\":\"ToolbarBox\"},{\"id\":\"ecd8dedd-72bb-4e57-9016-a249a08b6639\",\"type\":\"Column\"}]},\"id\":\"c59cfee5-3bd8-4a1b-91bf-8dd85e7e1e46\",\"type\":\"Column\"},{\"attributes\":{\"data_source\":{\"id\":\"fafd8ef4-e063-48c7-b168-31ada97fb8c7\",\"type\":\"ColumnDataSource\"},\"glyph\":{\"id\":\"02273d17-f7c1-4480-8b6e-051801219dad\",\"type\":\"Line\"},\"hover_glyph\":null,\"muted_glyph\":null,\"nonselection_glyph\":{\"id\":\"eb73999d-83c7-43cf-af02-ff5608bb10fe\",\"type\":\"Line\"},\"selection_glyph\":null,\"view\":{\"id\":\"fd758035-573a-4a77-8abf-b3d544a3f3d2\",\"type\":\"CDSView\"}},\"id\":\"054429a5-013b-4035-be44-c073fadc55d3\",\"type\":\"GlyphRenderer\"},{\"attributes\":{\"data_source\":{\"id\":\"af1901bf-10df-4510-b76a-29306cddd3d4\",\"type\":\"ColumnDataSource\"},\"glyph\":{\"id\":\"07a59e6c-1d98-4699-81df-703d4b6f88b9\",\"type\":\"Circle\"},\"hover_glyph\":null,\"muted_glyph\":null,\"nonselection_glyph\":{\"id\":\"37cb35a3-6c34-4f28-9cba-457bca5ad680\",\"type\":\"Circle\"},\"selection_glyph\":null,\"view\":{\"id\":\"dd615585-b2ac-4b42-9443-9f00fe61be5e\",\"type\":\"CDSView\"}},\"id\":\"2cbcf179-0806-4c9c-8d51-26b6ec270cac\",\"type\":\"GlyphRenderer\"},{\"attributes\":{\"callback\":null,\"column_names\":[\"x\",\"y\"],\"data\":{\"x\":{\"__ndarray__\":\"9D9Cki49ob/czzuriy+jvyqQqSDe8aa/L5kCUMeOqr8wAsXwWgeuv9wXFCl0rrC/rhfT5BNGsr/gbsXVM8qzvyhNNFylOrW/RcrDAJGXtr/NBjGBb1u5vyq2oPx/Srm/mNQalHpgu78ouJptVa+7vxwbqveO+bu//4y5CN89ur/gelERYL6uvxq9VwNNsaE/QodMOy0mxz+8WYP3VXnbP81LMGLA7uc/APfhxWfX8j+9FwT7VPr6P3jk/tlFp/8/HHfvTXgO/T8DxwojYq/3P0vfEE8b+vE/JsilfbV76j+vEAzW7k3jPzFtzZAJ/No/LHROgQZ6zT+pQtvonqChP8xYPA7mo7i/zps3DO6gyL8JHhmKv5bRv1MQVVted9O/sKhOKMBH0b+zaM+fFZzNv7PQ73f/Csu/Sp/zpmSxx7+2iIPf4dHCv/ZddCYrjr2/80lKIWASuL8UkBKV7xSzv/nKvlYCXK6/+fB7hxoGqb8iK70Lm86kvySxU5V+DqO/wnlcR2GGlL9zWNUj8RiUv2dPyvAUfI+/lBTPDvURhb9lZBBgGL53v5oBE+GrSVO/q/fCxq/2VD8y3bIeWkZ3P/eJoSuBs4I/JCaZti4eij/V8LPl6jSRP8NXxzNgd5U/9LZxQiMDmT+5WlKuIyCePwS/V754UKI/WeBWOlKPoz8Upnvf8GmmP8CqzvgrVak/P4MEx5BcrD+2ZQJ2HNyvP5ANn9KTQrE/dlzRCUjLsj86xgEzYEK0P8U4elpQqLU/WRn6GI0rtz85hX5utFi5PyG9NIecpbo/\",\"dtype\":\"float64\",\"shape\":[75]},\"y\":{\"__ndarray__\":\"GhExyth1ND/Sv8nbtpRIP2vylNV0PVE/aTum7souWD/At0SJ8fVgPw3Iuahxymc/MSNhhJWvcD/bTfBN02d3P2zb5nxnaoA/CD5h5MAGhz8NmeH1TyaQP+zrCsc9p5Y/LbKd76fGnz/bLW5ISEmmPww9YvTcQq8/JV2OstnstT8Er5Y7M8G+P0c+r3jqkcU/5h99k6ZBzj88bCIzFzjVP4enV8oyxN0//yH99nXg5D8qOpLLf0jtP5kqGJXUifQ/c9cS8kHP/D+/DpwzojQEQIEmwoanVwxA4lgXt9HgE0BSSZ2AJuIbQAMJih9jjiNA5q4l5INuK0AwTKYKRj0zQNv5fmq8/DpAaCJseHrtQkB/+zpwzoxKQM3MzMzMeFJAZmZmZmZqWEAAAAAAAFxeQM3MzMzMJmJAmpmZmZkfZUBmZmZmZhhoQDMzMzMzEWtAAAAAAAAKbkBmZmZmZoFwQM3MzMzM/XFAMzMzMzN6c0CamZmZmfZ0QAAAAAAAc3ZAZmZmZmbvd0DNzMzMzGt5QDMzMzMz6HpAmpmZmZlkfEAAAAAAAOF9QGZmZmZmXX9AZmZmZuZsgECamZmZGSuBQM3MzMxM6YFAAAAAAICngkAzMzMzs2WDQGZmZmbmI4RAmpmZmRnihEDNzMzMTKCFQAAAAACAXoZAMzMzM7Mch0BmZmZm5tqHQJqZmZkZmYhAzczMzExXiUAAAAAAgBWKQDMzMzOz04pAZmZmZuaRi0CamZmZGVCMQM3MzMxMDo1AAAAAAIDMjUAzMzMzs4qOQGZmZmbmSI9A\",\"dtype\":\"float64\",\"shape\":[75]}}},\"id\":\"8b43e9a2-23c3-4de9-afaa-6d6ef2938be8\",\"type\":\"ColumnDataSource\"},{\"attributes\":{\"callback\":null,\"column_names\":[\"x\",\"y\"],\"data\":{\"x\":{\"__ndarray__\":\"8W5sQ7NVn79grW2Z8nKhv7kw5G6W5qS/hsnxlu07qL8cJDAVnHOrv6Lao+Hbjq6/gV9v11XFsL+dgPtBKjOyvz8VrHuokLO/rHywO8bdtL8fS61kuBu2v34hUVkuSre/Qi7WD2hruL++EGhsjHa5vzm1VFpWzLm/sWHoOWs1uL9w/ZN2pZCtv4lMAMs4sJo/NfjzVCSyxT/K2JYiddLYPzqdOyyaT+Y/9/6rM2PW8T+pOdRKfMn5PwBMY8W6ov4/tQ5Yg0GD/D/GwaVjzvP2PwWbhByl3PA/A9ygtD8p6D/eZjvwe8XhP74t/fCYptk/mkYwYXbHzD/ucfoIaX6kP34iiT04SLi/Z47Ve2TSyL82WPYsIQLSv+x4QJd4WdS/yCRlgzNV0r8oDVYYMonPvw7lPErCkcy/FZq5+pC7yL+fjzLiAlDDvxris9ApI76/E2lVKixhuL+PldyEIi2zvxpNYbdlRq6/YTp66vvqqL+2cTixj2ekvxK8xtOXSqC/Gxa3kpyamb91GME2Sq2TvzskhxhHloy/q4v6db7Xgr+hR5+mPBl0v/fjnDfaIVG/Tya87VPoZD+L0uEGXJV4P77qeyeDN4M/S2ofLfmYij+fISYlYBuRP9bQ/u66CpU/ZsROdggjmT/jaIQ6iWGdPwn3dLyc7qA/B6qarpRWoz8TFhwrH+ylP3hR8Qg5sqg/7Km+u+Gzqz/LM3hdlOCuP9b8fIQvBrE/ipefAv2Rsj+r51hpSBi0P8NqeO+yo7U/2NsDAAk7tz8ulcGVD+i4P3qhZ1DAuLo/\",\"dtype\":\"float64\",\"shape\":[75]},\"y\":{\"__ndarray__\":\"GhExyth1ND/Sv8nbtpRIP2vylNV0PVE/aTum7souWD/At0SJ8fVgPw3Iuahxymc/MSNhhJWvcD/bTfBN02d3P2zb5nxnaoA/CD5h5MAGhz8NmeH1TyaQP+zrCsc9p5Y/LbKd76fGnz/bLW5ISEmmPww9YvTcQq8/JV2OstnstT8Er5Y7M8G+P0c+r3jqkcU/5h99k6ZBzj88bCIzFzjVP4enV8oyxN0//yH99nXg5D8qOpLLf0jtP5kqGJXUifQ/c9cS8kHP/D+/DpwzojQEQIEmwoanVwxA4lgXt9HgE0BSSZ2AJuIbQAMJih9jjiNA5q4l5INuK0AwTKYKRj0zQNv5fmq8/DpAaCJseHrtQkB/+zpwzoxKQM3MzMzMeFJAZmZmZmZqWEAAAAAAAFxeQM3MzMzMJmJAmpmZmZkfZUBmZmZmZhhoQDMzMzMzEWtAAAAAAAAKbkBmZmZmZoFwQM3MzMzM/XFAMzMzMzN6c0CamZmZmfZ0QAAAAAAAc3ZAZmZmZmbvd0DNzMzMzGt5QDMzMzMz6HpAmpmZmZlkfEAAAAAAAOF9QGZmZmZmXX9AZmZmZuZsgECamZmZGSuBQM3MzMxM6YFAAAAAAICngkAzMzMzs2WDQGZmZmbmI4RAmpmZmRnihEDNzMzMTKCFQAAAAACAXoZAMzMzM7Mch0BmZmZm5tqHQJqZmZkZmYhAzczMzExXiUAAAAAAgBWKQDMzMzOz04pAZmZmZuaRi0CamZmZGVCMQM3MzMxMDo1AAAAAAIDMjUAzMzMzs4qOQGZmZmbmSI9A\",\"dtype\":\"float64\",\"shape\":[75]}}},\"id\":\"9a2442f7-0cc2-4825-9cc3-8317f5a2326b\",\"type\":\"ColumnDataSource\"},{\"attributes\":{\"fill_alpha\":{\"value\":0.1},\"fill_color\":{\"value\":\"#1f77b4\"},\"line_alpha\":{\"value\":0.1},\"line_color\":{\"value\":\"#1f77b4\"},\"x\":{\"field\":\"x\"},\"y\":{\"field\":\"y\"}},\"id\":\"37cb35a3-6c34-4f28-9cba-457bca5ad680\",\"type\":\"Circle\"},{\"attributes\":{\"source\":{\"id\":\"2fae644a-5067-47f5-86e9-d903035d5c0c\",\"type\":\"ColumnDataSource\"}},\"id\":\"b2980109-e115-4d4a-acc6-ca571f91cb73\",\"type\":\"CDSView\"},{\"attributes\":{\"fill_alpha\":{\"value\":0.7},\"fill_color\":{\"value\":\"#4daf4a\"},\"line_alpha\":{\"value\":0.7},\"line_color\":{\"value\":\"#4daf4a\"},\"x\":{\"field\":\"x\"},\"y\":{\"field\":\"y\"}},\"id\":\"07a59e6c-1d98-4699-81df-703d4b6f88b9\",\"type\":\"Circle\"},{\"attributes\":{\"callback\":null,\"column_names\":[\"x\",\"y\"],\"data\":{\"x\":{\"__ndarray__\":\"OfiFAZKDpL/V+P5mXwKmv/+lUfAwx6u/+LaWUmKarr85k8e3nVSxvxQCOER8KrO/+7dWcWYYtb/t2VdEa8q2vzIjM0yqjLi/JwjLlrT7ub8n3bfW7om7vwiClX029ry/WcRNmd2Lvr8GbWqHXPy/v1kOmZdoNcC/R4YDvi4Fvr8i0TbEmduxv6XFU24mz6A/AYpwF4qJyT8otsTC91vcP9ebvdgg2Og/dkHYhA+A8z8AHYsSmb77P0NoqWFk7v8/US/4NCev/D9/Oz975AX3P7hVtUnqCfE/x2oMnUvv5z+ecjN5VtTgPwzOfcVcytY/JAQvI4qDxz9XeZXEeB6PP0SKv/V6Wrq/MJbxCNHOx78gLWvuKlzQvyUGP3lxxdG/OJAmxWR9z78+gtGbQEfLv/FYns3LXcm/MeHhh5Swxr9dyJ9/7SbCv+G451SNuby/C8CuQqSIt795Y9EMk72yvwy4nWy56a2/YpXapAXcqL+8sGpNSY+kv+TFUrx7lKC/2Q3JM6lNmr9NAtbV3W+UvzB0FSBEEY6/JLi66Fc2hL+a2uZGUHV2v/pI5io4qVi/x3qjxFkSYj9wmKWqe653P/U6hfsRFoM/3ezuhfLTij8g2Yxu5W6RP6Awp1JTlZU/azaHUhjnmT8Kt/ujD2CeP7U9MDZjh6E/8vmg6DMApD9lKlDN3ZWmP4mUMQFpRqk/MISw2+YUrD/OjTDf1uquP7lbgCC6zLA/37NI7ygJsj8g0wpuzDSzP0Q5v8uGYbQ/u0UekJ2atT9MAkFx4e+2PyJy6JcCfrg/\",\"dtype\":\"float64\",\"shape\":[75]},\"y\":{\"__ndarray__\":\"GhExyth1ND/Sv8nbtpRIP2vylNV0PVE/aTum7souWD/At0SJ8fVgPw3Iuahxymc/MSNhhJWvcD/bTfBN02d3P2zb5nxnaoA/CD5h5MAGhz8NmeH1TyaQP+zrCsc9p5Y/LbKd76fGnz/bLW5ISEmmPww9YvTcQq8/JV2OstnstT8Er5Y7M8G+P0c+r3jqkcU/5h99k6ZBzj88bCIzFzjVP4enV8oyxN0//yH99nXg5D8qOpLLf0jtP5kqGJXUifQ/c9cS8kHP/D+/DpwzojQEQIEmwoanVwxA4lgXt9HgE0BSSZ2AJuIbQAMJih9jjiNA5q4l5INuK0AwTKYKRj0zQNv5fmq8/DpAaCJseHrtQkB/+zpwzoxKQM3MzMzMeFJAZmZmZmZqWEAAAAAAAFxeQM3MzMzMJmJAmpmZmZkfZUBmZmZmZhhoQDMzMzMzEWtAAAAAAAAKbkBmZmZmZoFwQM3MzMzM/XFAMzMzMzN6c0CamZmZmfZ0QAAAAAAAc3ZAZmZmZmbvd0DNzMzMzGt5QDMzMzMz6HpAmpmZmZlkfEAAAAAAAOF9QGZmZmZmXX9AZmZmZuZsgECamZmZGSuBQM3MzMxM6YFAAAAAAICngkAzMzMzs2WDQGZmZmbmI4RAmpmZmRnihEDNzMzMTKCFQAAAAACAXoZAMzMzM7Mch0BmZmZm5tqHQJqZmZkZmYhAzczMzExXiUAAAAAAgBWKQDMzMzOz04pAZmZmZuaRi0CamZmZGVCMQM3MzMxMDo1AAAAAAIDMjUAzMzMzs4qOQGZmZmbmSI9A\",\"dtype\":\"float64\",\"shape\":[75]}}},\"id\":\"2fae644a-5067-47f5-86e9-d903035d5c0c\",\"type\":\"ColumnDataSource\"},{\"attributes\":{\"fill_alpha\":{\"value\":0.1},\"fill_color\":{\"value\":\"#1f77b4\"},\"line_alpha\":{\"value\":0.1},\"line_color\":{\"value\":\"#1f77b4\"},\"x\":{\"field\":\"x\"},\"y\":{\"field\":\"y\"}},\"id\":\"f2371906-6520-4b11-b1c9-8b8918c5adc7\",\"type\":\"Square\"},{\"attributes\":{\"data_source\":{\"id\":\"2fae644a-5067-47f5-86e9-d903035d5c0c\",\"type\":\"ColumnDataSource\"},\"glyph\":{\"id\":\"49246282-fec3-48e1-bda7-d7e9041d1946\",\"type\":\"Circle\"},\"hover_glyph\":null,\"muted_glyph\":null,\"nonselection_glyph\":{\"id\":\"6f533ee5-1c98-4642-be8b-9450312d5d4a\",\"type\":\"Circle\"},\"selection_glyph\":null,\"view\":{\"id\":\"b2980109-e115-4d4a-acc6-ca571f91cb73\",\"type\":\"CDSView\"}},\"id\":\"793fc6a6-205e-44f7-957c-078c474771e8\",\"type\":\"GlyphRenderer\"},{\"attributes\":{\"fill_alpha\":{\"value\":0.7},\"fill_color\":{\"value\":\"#377eb8\"},\"line_alpha\":{\"value\":0.7},\"line_color\":{\"value\":\"#377eb8\"},\"x\":{\"field\":\"x\"},\"y\":{\"field\":\"y\"}},\"id\":\"ed394590-e22d-4eee-8b3d-75e38b2da4e3\",\"type\":\"InvertedTriangle\"},{\"attributes\":{\"line_color\":\"#4daf4a\",\"line_width\":1.5,\"x\":{\"field\":\"x\"},\"y\":{\"field\":\"y\"}},\"id\":\"02273d17-f7c1-4480-8b6e-051801219dad\",\"type\":\"Line\"},{\"attributes\":{\"ticker\":null},\"id\":\"5e31741a-28d2-4938-ac45-65f3695dd867\",\"type\":\"LogTickFormatter\"},{\"attributes\":{\"data_source\":{\"id\":\"d79d9845-b653-4712-8497-27ad974f92e0\",\"type\":\"ColumnDataSource\"},\"glyph\":{\"id\":\"6ecf8729-b700-4211-96f2-33736fedf05f\",\"type\":\"Square\"},\"hover_glyph\":null,\"muted_glyph\":null,\"nonselection_glyph\":{\"id\":\"36d5d319-121e-40d7-9501-f3ecdcb3efad\",\"type\":\"Square\"},\"selection_glyph\":null,\"view\":{\"id\":\"52a5fa1c-7a84-40bf-93b2-ebedd26f65ad\",\"type\":\"CDSView\"}},\"id\":\"e93b145c-5546-467b-ab0b-a4c2ac1d9bb6\",\"type\":\"GlyphRenderer\"},{\"attributes\":{\"source\":{\"id\":\"f90080bb-abae-402b-9034-2a11523cae1e\",\"type\":\"ColumnDataSource\"}},\"id\":\"97e22eb6-d03b-43ab-b1d8-23bba64ddea3\",\"type\":\"CDSView\"},{\"attributes\":{\"fill_alpha\":{\"value\":0.7},\"fill_color\":{\"value\":\"#984ea3\"},\"line_alpha\":{\"value\":0.7},\"line_color\":{\"value\":\"#984ea3\"},\"x\":{\"field\":\"x\"},\"y\":{\"field\":\"y\"}},\"id\":\"6ecf8729-b700-4211-96f2-33736fedf05f\",\"type\":\"Square\"},{\"attributes\":{\"line_alpha\":0.1,\"line_color\":\"#1f77b4\",\"line_width\":1.5,\"x\":{\"field\":\"x\"},\"y\":{\"field\":\"y\"}},\"id\":\"eb73999d-83c7-43cf-af02-ff5608bb10fe\",\"type\":\"Line\"},{\"attributes\":{\"fill_alpha\":{\"value\":0.1},\"fill_color\":{\"value\":\"#1f77b4\"},\"line_alpha\":{\"value\":0.1},\"line_color\":{\"value\":\"#1f77b4\"},\"x\":{\"field\":\"x\"},\"y\":{\"field\":\"y\"}},\"id\":\"36d5d319-121e-40d7-9501-f3ecdcb3efad\",\"type\":\"Square\"},{\"attributes\":{\"callback\":null,\"column_names\":[\"x\",\"y\"],\"data\":{\"x\":{\"__ndarray__\":\"8W5sQ7NVn79grW2Z8nKhv7kw5G6W5qS/hsnxlu07qL8cJDAVnHOrv6Lao+Hbjq6/gV9v11XFsL+dgPtBKjOyvz8VrHuokLO/rHywO8bdtL8fS61kuBu2v34hUVkuSre/Qi7WD2hruL++EGhsjHa5vzm1VFpWzLm/sWHoOWs1uL9w/ZN2pZCtv4lMAMs4sJo/NfjzVCSyxT/K2JYiddLYPzqdOyyaT+Y/9/6rM2PW8T+pOdRKfMn5PwBMY8W6ov4/tQ5Yg0GD/D/GwaVjzvP2PwWbhByl3PA/A9ygtD8p6D/eZjvwe8XhP74t/fCYptk/mkYwYXbHzD/ucfoIaX6kP34iiT04SLi/Z47Ve2TSyL82WPYsIQLSv+x4QJd4WdS/yCRlgzNV0r8oDVYYMonPvw7lPErCkcy/FZq5+pC7yL+fjzLiAlDDvxris9ApI76/E2lVKixhuL+PldyEIi2zvxpNYbdlRq6/YTp66vvqqL+2cTixj2ekvxK8xtOXSqC/Gxa3kpyamb91GME2Sq2TvzskhxhHloy/q4v6db7Xgr+hR5+mPBl0v/fjnDfaIVG/Tya87VPoZD+L0uEGXJV4P77qeyeDN4M/S2ofLfmYij+fISYlYBuRP9bQ/u66CpU/ZsROdggjmT/jaIQ6iWGdPwn3dLyc7qA/B6qarpRWoz8TFhwrH+ylP3hR8Qg5sqg/7Km+u+Gzqz/LM3hdlOCuP9b8fIQvBrE/ipefAv2Rsj+r51hpSBi0P8NqeO+yo7U/2NsDAAk7tz8ulcGVD+i4P3qhZ1DAuLo/\",\"dtype\":\"float64\",\"shape\":[75]},\"y\":{\"__ndarray__\":\"GhExyth1ND/Sv8nbtpRIP2vylNV0PVE/aTum7souWD/At0SJ8fVgPw3Iuahxymc/MSNhhJWvcD/bTfBN02d3P2zb5nxnaoA/CD5h5MAGhz8NmeH1TyaQP+zrCsc9p5Y/LbKd76fGnz/bLW5ISEmmPww9YvTcQq8/JV2OstnstT8Er5Y7M8G+P0c+r3jqkcU/5h99k6ZBzj88bCIzFzjVP4enV8oyxN0//yH99nXg5D8qOpLLf0jtP5kqGJXUifQ/c9cS8kHP/D+/DpwzojQEQIEmwoanVwxA4lgXt9HgE0BSSZ2AJuIbQAMJih9jjiNA5q4l5INuK0AwTKYKRj0zQNv5fmq8/DpAaCJseHrtQkB/+zpwzoxKQM3MzMzMeFJAZmZmZmZqWEAAAAAAAFxeQM3MzMzMJmJAmpmZmZkfZUBmZmZmZhhoQDMzMzMzEWtAAAAAAAAKbkBmZmZmZoFwQM3MzMzM/XFAMzMzMzN6c0CamZmZmfZ0QAAAAAAAc3ZAZmZmZmbvd0DNzMzMzGt5QDMzMzMz6HpAmpmZmZlkfEAAAAAAAOF9QGZmZmZmXX9AZmZmZuZsgECamZmZGSuBQM3MzMxM6YFAAAAAAICngkAzMzMzs2WDQGZmZmbmI4RAmpmZmRnihEDNzMzMTKCFQAAAAACAXoZAMzMzM7Mch0BmZmZm5tqHQJqZmZkZmYhAzczMzExXiUAAAAAAgBWKQDMzMzOz04pAZmZmZuaRi0CamZmZGVCMQM3MzMxMDo1AAAAAAIDMjUAzMzMzs4qOQGZmZmbmSI9A\",\"dtype\":\"float64\",\"shape\":[75]}}},\"id\":\"d79d9845-b653-4712-8497-27ad974f92e0\",\"type\":\"ColumnDataSource\"},{\"attributes\":{\"fill_alpha\":{\"value\":0.1},\"fill_color\":{\"value\":\"#1f77b4\"},\"line_alpha\":{\"value\":0.1},\"line_color\":{\"value\":\"#1f77b4\"},\"x\":{\"field\":\"x\"},\"y\":{\"field\":\"y\"}},\"id\":\"6f533ee5-1c98-4642-be8b-9450312d5d4a\",\"type\":\"Circle\"},{\"attributes\":{\"callback\":null,\"column_names\":[\"x\",\"y\"],\"data\":{\"x\":{\"__ndarray__\":\"8W5sQ7NVn79grW2Z8nKhv7kw5G6W5qS/hsnxlu07qL8cJDAVnHOrv6Lao+Hbjq6/gV9v11XFsL+dgPtBKjOyvz8VrHuokLO/rHywO8bdtL8fS61kuBu2v34hUVkuSre/Qi7WD2hruL++EGhsjHa5vzm1VFpWzLm/sWHoOWs1uL9w/ZN2pZCtv4lMAMs4sJo/NfjzVCSyxT/K2JYiddLYPzqdOyyaT+Y/9/6rM2PW8T+pOdRKfMn5PwBMY8W6ov4/tQ5Yg0GD/D/GwaVjzvP2PwWbhByl3PA/A9ygtD8p6D/eZjvwe8XhP74t/fCYptk/mkYwYXbHzD/ucfoIaX6kP34iiT04SLi/Z47Ve2TSyL82WPYsIQLSv+x4QJd4WdS/yCRlgzNV0r8oDVYYMonPvw7lPErCkcy/FZq5+pC7yL+fjzLiAlDDvxris9ApI76/E2lVKixhuL+PldyEIi2zvxpNYbdlRq6/YTp66vvqqL+2cTixj2ekvxK8xtOXSqC/Gxa3kpyamb91GME2Sq2TvzskhxhHloy/q4v6db7Xgr+hR5+mPBl0v/fjnDfaIVG/Tya87VPoZD+L0uEGXJV4P77qeyeDN4M/S2ofLfmYij+fISYlYBuRP9bQ/u66CpU/ZsROdggjmT/jaIQ6iWGdPwn3dLyc7qA/B6qarpRWoz8TFhwrH+ylP3hR8Qg5sqg/7Km+u+Gzqz/LM3hdlOCuP9b8fIQvBrE/ipefAv2Rsj+r51hpSBi0P8NqeO+yo7U/2NsDAAk7tz8ulcGVD+i4P3qhZ1DAuLo/\",\"dtype\":\"float64\",\"shape\":[75]},\"y\":{\"__ndarray__\":\"GhExyth1ND/Sv8nbtpRIP2vylNV0PVE/aTum7souWD/At0SJ8fVgPw3Iuahxymc/MSNhhJWvcD/bTfBN02d3P2zb5nxnaoA/CD5h5MAGhz8NmeH1TyaQP+zrCsc9p5Y/LbKd76fGnz/bLW5ISEmmPww9YvTcQq8/JV2OstnstT8Er5Y7M8G+P0c+r3jqkcU/5h99k6ZBzj88bCIzFzjVP4enV8oyxN0//yH99nXg5D8qOpLLf0jtP5kqGJXUifQ/c9cS8kHP/D+/DpwzojQEQIEmwoanVwxA4lgXt9HgE0BSSZ2AJuIbQAMJih9jjiNA5q4l5INuK0AwTKYKRj0zQNv5fmq8/DpAaCJseHrtQkB/+zpwzoxKQM3MzMzMeFJAZmZmZmZqWEAAAAAAAFxeQM3MzMzMJmJAmpmZmZkfZUBmZmZmZhhoQDMzMzMzEWtAAAAAAAAKbkBmZmZmZoFwQM3MzMzM/XFAMzMzMzN6c0CamZmZmfZ0QAAAAAAAc3ZAZmZmZmbvd0DNzMzMzGt5QDMzMzMz6HpAmpmZmZlkfEAAAAAAAOF9QGZmZmZmXX9AZmZmZuZsgECamZmZGSuBQM3MzMxM6YFAAAAAAICngkAzMzMzs2WDQGZmZmbmI4RAmpmZmRnihEDNzMzMTKCFQAAAAACAXoZAMzMzM7Mch0BmZmZm5tqHQJqZmZkZmYhAzczMzExXiUAAAAAAgBWKQDMzMzOz04pAZmZmZuaRi0CamZmZGVCMQM3MzMxMDo1AAAAAAIDMjUAzMzMzs4qOQGZmZmbmSI9A\",\"dtype\":\"float64\",\"shape\":[75]}}},\"id\":\"706bb9ca-9db6-47c8-9dfa-bd64843af34a\",\"type\":\"ColumnDataSource\"},{\"attributes\":{\"line_alpha\":0.1,\"line_color\":\"#1f77b4\",\"line_width\":3,\"x\":{\"field\":\"x\"},\"y\":{\"field\":\"y\"}},\"id\":\"035fca6c-c9f1-40a9-b968-c439bcca38d5\",\"type\":\"Line\"},{\"attributes\":{\"data_source\":{\"id\":\"f90080bb-abae-402b-9034-2a11523cae1e\",\"type\":\"ColumnDataSource\"},\"glyph\":{\"id\":\"15ec1cf9-d090-4bc3-9475-9015ea0bd4b3\",\"type\":\"Square\"},\"hover_glyph\":null,\"muted_glyph\":null,\"nonselection_glyph\":{\"id\":\"f2371906-6520-4b11-b1c9-8b8918c5adc7\",\"type\":\"Square\"},\"selection_glyph\":null,\"view\":{\"id\":\"97e22eb6-d03b-43ab-b1d8-23bba64ddea3\",\"type\":\"CDSView\"}},\"id\":\"05e9fb5d-4f00-497e-95e3-2cb629ac2d0b\",\"type\":\"GlyphRenderer\"},{\"attributes\":{\"source\":{\"id\":\"fafd8ef4-e063-48c7-b168-31ada97fb8c7\",\"type\":\"ColumnDataSource\"}},\"id\":\"fd758035-573a-4a77-8abf-b3d544a3f3d2\",\"type\":\"CDSView\"},{\"attributes\":{\"line_alpha\":0.6,\"line_color\":\"#984ea3\",\"line_width\":3,\"x\":{\"field\":\"x\"},\"y\":{\"field\":\"y\"}},\"id\":\"769f71ce-b586-4bfb-8a51-bc34a07208cc\",\"type\":\"Line\"},{\"attributes\":{\"source\":{\"id\":\"8b43e9a2-23c3-4de9-afaa-6d6ef2938be8\",\"type\":\"ColumnDataSource\"}},\"id\":\"1579ad65-c582-4989-974c-42d720256fe0\",\"type\":\"CDSView\"},{\"attributes\":{\"data_source\":{\"id\":\"9a2442f7-0cc2-4825-9cc3-8317f5a2326b\",\"type\":\"ColumnDataSource\"},\"glyph\":{\"id\":\"769f71ce-b586-4bfb-8a51-bc34a07208cc\",\"type\":\"Line\"},\"hover_glyph\":null,\"muted_glyph\":null,\"nonselection_glyph\":{\"id\":\"035fca6c-c9f1-40a9-b968-c439bcca38d5\",\"type\":\"Line\"},\"selection_glyph\":null,\"view\":{\"id\":\"cde3d9d8-d464-4d02-bf0f-0596c7abb15a\",\"type\":\"CDSView\"}},\"id\":\"ff228e02-0687-4fb8-801b-f4c2caf68d36\",\"type\":\"GlyphRenderer\"},{\"attributes\":{\"source\":{\"id\":\"9a2442f7-0cc2-4825-9cc3-8317f5a2326b\",\"type\":\"ColumnDataSource\"}},\"id\":\"cde3d9d8-d464-4d02-bf0f-0596c7abb15a\",\"type\":\"CDSView\"},{\"attributes\":{},\"id\":\"4acd40f8-36d6-475b-a1eb-d117ccd6008d\",\"type\":\"BasicTickFormatter\"},{\"attributes\":{\"source\":{\"id\":\"d79d9845-b653-4712-8497-27ad974f92e0\",\"type\":\"ColumnDataSource\"}},\"id\":\"52a5fa1c-7a84-40bf-93b2-ebedd26f65ad\",\"type\":\"CDSView\"}],\"root_ids\":[\"c59cfee5-3bd8-4a1b-91bf-8dd85e7e1e46\"]},\"title\":\"Bokeh Application\",\"version\":\"0.12.14\"}};\n",
       "  var render_items = [{\"docid\":\"7dc5bbb8-a6d9-4d2e-95dc-ef5ade9023e3\",\"elementid\":\"8800e83c-5d52-498d-94dd-28b8ffe6ba71\",\"modelid\":\"c59cfee5-3bd8-4a1b-91bf-8dd85e7e1e46\"}];\n",
       "  root.Bokeh.embed.embed_items_notebook(docs_json, render_items);\n",
       "\n",
       "  }\n",
       "  if (root.Bokeh !== undefined) {\n",
       "    embed_document(root);\n",
       "  } else {\n",
       "    var attempts = 0;\n",
       "    var timer = setInterval(function(root) {\n",
       "      if (root.Bokeh !== undefined) {\n",
       "        embed_document(root);\n",
       "        clearInterval(timer);\n",
       "      }\n",
       "      attempts++;\n",
       "      if (attempts > 100) {\n",
       "        console.log(\"Bokeh: ERROR: Unable to run BokehJS code because BokehJS library is missing\")\n",
       "        clearInterval(timer);\n",
       "      }\n",
       "    }, 10, root)\n",
       "  }\n",
       "})(window);"
      ],
      "application/vnd.bokehjs_exec.v0+json": ""
     },
     "metadata": {
      "application/vnd.bokehjs_exec.v0+json": {
       "id": "c59cfee5-3bd8-4a1b-91bf-8dd85e7e1e46"
      }
     },
     "output_type": "display_data"
    },
    {
     "name": "stdout",
     "output_type": "stream",
     "text": [
      "FIGURE. Cooling rate profiles.\n"
     ]
    },
    {
     "data": {
      "text/html": [
       "<a id=\"Flux_Comparison\"></a>"
      ],
      "text/plain": [
       "<IPython.core.display.HTML object>"
      ]
     },
     "metadata": {},
     "output_type": "display_data"
    },
    {
     "data": {
      "text/markdown": [
       "# Flux Comparison"
      ],
      "text/plain": [
       "<IPython.core.display.Markdown object>"
      ]
     },
     "metadata": {},
     "output_type": "display_data"
    },
    {
     "data": {
      "text/html": [
       "<div>\n",
       "<style>\n",
       "    .dataframe thead tr:only-child th {\n",
       "        text-align: right;\n",
       "    }\n",
       "\n",
       "    .dataframe thead th {\n",
       "        text-align: left;\n",
       "    }\n",
       "\n",
       "    .dataframe tbody tr th {\n",
       "        vertical-align: top;\n",
       "    }\n",
       "</style>\n",
       "<table border=\"1\" class=\"dataframe\">\n",
       "  <thead>\n",
       "    <tr style=\"text-align: right;\">\n",
       "      <th></th>\n",
       "      <th></th>\n",
       "      <th>flug</th>\n",
       "      <th>fldg</th>\n",
       "      <th>fnetg</th>\n",
       "    </tr>\n",
       "    <tr>\n",
       "      <th>pressure</th>\n",
       "      <th>level</th>\n",
       "      <th></th>\n",
       "      <th></th>\n",
       "      <th></th>\n",
       "    </tr>\n",
       "  </thead>\n",
       "  <tbody>\n",
       "    <tr>\n",
       "      <th>0.0000</th>\n",
       "      <th>1</th>\n",
       "      <td>-22.783026</td>\n",
       "      <td>0.000000</td>\n",
       "      <td>-22.783026</td>\n",
       "    </tr>\n",
       "    <tr>\n",
       "      <th>1.0685</th>\n",
       "      <th>24</th>\n",
       "      <td>-22.787020</td>\n",
       "      <td>0.119142</td>\n",
       "      <td>-22.667878</td>\n",
       "    </tr>\n",
       "    <tr>\n",
       "      <th>1013.0000</th>\n",
       "      <th>76</th>\n",
       "      <td>-31.354237</td>\n",
       "      <td>6.508894</td>\n",
       "      <td>-24.845343</td>\n",
       "    </tr>\n",
       "  </tbody>\n",
       "</table>\n",
       "</div>"
      ],
      "text/plain": [
       "                      flug      fldg      fnetg\n",
       "pressure  level                                \n",
       "0.0000    1     -22.783026  0.000000 -22.783026\n",
       "1.0685    24    -22.787020  0.119142 -22.667878\n",
       "1013.0000 76    -31.354237  6.508894 -24.845343"
      ]
     },
     "metadata": {},
     "output_type": "display_data"
    },
    {
     "name": "stdout",
     "output_type": "stream",
     "text": [
      "Table. Fluxes. CRD\n"
     ]
    },
    {
     "data": {
      "text/html": [
       "<div>\n",
       "<style>\n",
       "    .dataframe thead tr:only-child th {\n",
       "        text-align: right;\n",
       "    }\n",
       "\n",
       "    .dataframe thead th {\n",
       "        text-align: left;\n",
       "    }\n",
       "\n",
       "    .dataframe tbody tr th {\n",
       "        vertical-align: top;\n",
       "    }\n",
       "</style>\n",
       "<table border=\"1\" class=\"dataframe\">\n",
       "  <thead>\n",
       "    <tr style=\"text-align: right;\">\n",
       "      <th></th>\n",
       "      <th></th>\n",
       "      <th>flug</th>\n",
       "      <th>fldg</th>\n",
       "      <th>fnetg</th>\n",
       "    </tr>\n",
       "    <tr>\n",
       "      <th>pressure</th>\n",
       "      <th>level</th>\n",
       "      <th></th>\n",
       "      <th></th>\n",
       "      <th></th>\n",
       "    </tr>\n",
       "  </thead>\n",
       "  <tbody>\n",
       "    <tr>\n",
       "      <th>0.0000</th>\n",
       "      <th>1</th>\n",
       "      <td>-22.406340</td>\n",
       "      <td>0.000000</td>\n",
       "      <td>-22.406340</td>\n",
       "    </tr>\n",
       "    <tr>\n",
       "      <th>1.0685</th>\n",
       "      <th>24</th>\n",
       "      <td>-22.404817</td>\n",
       "      <td>0.104301</td>\n",
       "      <td>-22.300516</td>\n",
       "    </tr>\n",
       "    <tr>\n",
       "      <th>1013.0000</th>\n",
       "      <th>76</th>\n",
       "      <td>-31.354237</td>\n",
       "      <td>6.473690</td>\n",
       "      <td>-24.880547</td>\n",
       "    </tr>\n",
       "  </tbody>\n",
       "</table>\n",
       "</div>"
      ],
      "text/plain": [
       "                      flug      fldg      fnetg\n",
       "pressure  level                                \n",
       "0.0000    1     -22.406340  0.000000 -22.406340\n",
       "1.0685    24    -22.404817  0.104301 -22.300516\n",
       "1013.0000 76    -31.354237  6.473690 -24.880547"
      ]
     },
     "metadata": {},
     "output_type": "display_data"
    },
    {
     "name": "stdout",
     "output_type": "stream",
     "text": [
      "Table. Fluxes. WGT igg=10\n"
     ]
    },
    {
     "data": {
      "text/html": [
       "<div>\n",
       "<style>\n",
       "    .dataframe thead tr:only-child th {\n",
       "        text-align: right;\n",
       "    }\n",
       "\n",
       "    .dataframe thead th {\n",
       "        text-align: left;\n",
       "    }\n",
       "\n",
       "    .dataframe tbody tr th {\n",
       "        vertical-align: top;\n",
       "    }\n",
       "</style>\n",
       "<table border=\"1\" class=\"dataframe\">\n",
       "  <thead>\n",
       "    <tr style=\"text-align: right;\">\n",
       "      <th></th>\n",
       "      <th></th>\n",
       "      <th>flug</th>\n",
       "      <th>fldg</th>\n",
       "      <th>fnetg</th>\n",
       "    </tr>\n",
       "    <tr>\n",
       "      <th>pressure</th>\n",
       "      <th>level</th>\n",
       "      <th></th>\n",
       "      <th></th>\n",
       "      <th></th>\n",
       "    </tr>\n",
       "  </thead>\n",
       "  <tbody>\n",
       "    <tr>\n",
       "      <th>0.0000</th>\n",
       "      <th>1</th>\n",
       "      <td>-22.587356</td>\n",
       "      <td>0.000000</td>\n",
       "      <td>-22.587356</td>\n",
       "    </tr>\n",
       "    <tr>\n",
       "      <th>1.0685</th>\n",
       "      <th>24</th>\n",
       "      <td>-22.588081</td>\n",
       "      <td>0.112412</td>\n",
       "      <td>-22.475669</td>\n",
       "    </tr>\n",
       "    <tr>\n",
       "      <th>1013.0000</th>\n",
       "      <th>76</th>\n",
       "      <td>-31.354237</td>\n",
       "      <td>6.589439</td>\n",
       "      <td>-24.764798</td>\n",
       "    </tr>\n",
       "  </tbody>\n",
       "</table>\n",
       "</div>"
      ],
      "text/plain": [
       "                      flug      fldg      fnetg\n",
       "pressure  level                                \n",
       "0.0000    1     -22.587356  0.000000 -22.587356\n",
       "1.0685    24    -22.588081  0.112412 -22.475669\n",
       "1013.0000 76    -31.354237  6.589439 -24.764798"
      ]
     },
     "metadata": {},
     "output_type": "display_data"
    },
    {
     "name": "stdout",
     "output_type": "stream",
     "text": [
      "Table. Fluxes. WGT igg=1\n"
     ]
    },
    {
     "data": {
      "text/html": [
       "<div>\n",
       "<style>\n",
       "    .dataframe thead tr:only-child th {\n",
       "        text-align: right;\n",
       "    }\n",
       "\n",
       "    .dataframe thead th {\n",
       "        text-align: left;\n",
       "    }\n",
       "\n",
       "    .dataframe tbody tr th {\n",
       "        vertical-align: top;\n",
       "    }\n",
       "</style>\n",
       "<table border=\"1\" class=\"dataframe\">\n",
       "  <thead>\n",
       "    <tr style=\"text-align: right;\">\n",
       "      <th></th>\n",
       "      <th></th>\n",
       "      <th>flug</th>\n",
       "      <th>fldg</th>\n",
       "      <th>fnetg</th>\n",
       "    </tr>\n",
       "    <tr>\n",
       "      <th>pressure</th>\n",
       "      <th>level</th>\n",
       "      <th></th>\n",
       "      <th></th>\n",
       "      <th></th>\n",
       "    </tr>\n",
       "  </thead>\n",
       "  <tbody>\n",
       "    <tr>\n",
       "      <th>0.0000</th>\n",
       "      <th>1</th>\n",
       "      <td>0.376686</td>\n",
       "      <td>0.000000</td>\n",
       "      <td>0.376686</td>\n",
       "    </tr>\n",
       "    <tr>\n",
       "      <th>1.0685</th>\n",
       "      <th>24</th>\n",
       "      <td>0.382203</td>\n",
       "      <td>-0.014840</td>\n",
       "      <td>0.367362</td>\n",
       "    </tr>\n",
       "    <tr>\n",
       "      <th>1013.0000</th>\n",
       "      <th>76</th>\n",
       "      <td>0.000000</td>\n",
       "      <td>-0.035204</td>\n",
       "      <td>-0.035204</td>\n",
       "    </tr>\n",
       "  </tbody>\n",
       "</table>\n",
       "</div>"
      ],
      "text/plain": [
       "                     flug      fldg     fnetg\n",
       "pressure  level                              \n",
       "0.0000    1      0.376686  0.000000  0.376686\n",
       "1.0685    24     0.382203 -0.014840  0.367362\n",
       "1013.0000 76     0.000000 -0.035204 -0.035204"
      ]
     },
     "metadata": {},
     "output_type": "display_data"
    },
    {
     "name": "stdout",
     "output_type": "stream",
     "text": [
      "Table. Fluxes. (WGT igg=10) - (CRD)\n"
     ]
    },
    {
     "data": {
      "text/html": [
       "<div>\n",
       "<style>\n",
       "    .dataframe thead tr:only-child th {\n",
       "        text-align: right;\n",
       "    }\n",
       "\n",
       "    .dataframe thead th {\n",
       "        text-align: left;\n",
       "    }\n",
       "\n",
       "    .dataframe tbody tr th {\n",
       "        vertical-align: top;\n",
       "    }\n",
       "</style>\n",
       "<table border=\"1\" class=\"dataframe\">\n",
       "  <thead>\n",
       "    <tr style=\"text-align: right;\">\n",
       "      <th></th>\n",
       "      <th></th>\n",
       "      <th>flug</th>\n",
       "      <th>fldg</th>\n",
       "      <th>fnetg</th>\n",
       "    </tr>\n",
       "    <tr>\n",
       "      <th>pressure</th>\n",
       "      <th>level</th>\n",
       "      <th></th>\n",
       "      <th></th>\n",
       "      <th></th>\n",
       "    </tr>\n",
       "  </thead>\n",
       "  <tbody>\n",
       "    <tr>\n",
       "      <th>0.0000</th>\n",
       "      <th>1</th>\n",
       "      <td>0.195670</td>\n",
       "      <td>0.000000</td>\n",
       "      <td>0.195670</td>\n",
       "    </tr>\n",
       "    <tr>\n",
       "      <th>1.0685</th>\n",
       "      <th>24</th>\n",
       "      <td>0.198939</td>\n",
       "      <td>-0.006730</td>\n",
       "      <td>0.192209</td>\n",
       "    </tr>\n",
       "    <tr>\n",
       "      <th>1013.0000</th>\n",
       "      <th>76</th>\n",
       "      <td>0.000000</td>\n",
       "      <td>0.080545</td>\n",
       "      <td>0.080545</td>\n",
       "    </tr>\n",
       "  </tbody>\n",
       "</table>\n",
       "</div>"
      ],
      "text/plain": [
       "                     flug      fldg     fnetg\n",
       "pressure  level                              \n",
       "0.0000    1      0.195670  0.000000  0.195670\n",
       "1.0685    24     0.198939 -0.006730  0.192209\n",
       "1013.0000 76     0.000000  0.080545  0.080545"
      ]
     },
     "metadata": {},
     "output_type": "display_data"
    },
    {
     "name": "stdout",
     "output_type": "stream",
     "text": [
      "Table. Fluxes. (WGT igg=1) - (CRD)\n"
     ]
    },
    {
     "data": {
      "text/html": [
       "<a id=\"Best-fit_Parameters\"></a>"
      ],
      "text/plain": [
       "<IPython.core.display.HTML object>"
      ]
     },
     "metadata": {},
     "output_type": "display_data"
    },
    {
     "data": {
      "text/markdown": [
       "# Best-fit Parameters"
      ],
      "text/plain": [
       "<IPython.core.display.Markdown object>"
      ]
     },
     "metadata": {},
     "output_type": "display_data"
    },
    {
     "name": "stdout",
     "output_type": "stream",
     "text": [
      "Best-fit values for each (gas, band)\n",
      "------------------------------------\n",
      "o h2o band5\n",
      "  molecule = h2o\n",
      "  band = 5\n",
      "  commitnumber = d5931a1\n",
      "  vmin = 980\n",
      "  vmax = 1100\n",
      "  dv = 0.001\n",
      "  nv = 1000\n",
      "  ref_pts = [(600, 250)]\n",
      "  ng_refs = [3]\n",
      "  ng_adju = [0]\n",
      "  klin = 1e-24\n",
      "  option_wgt_k = 1\n",
      "  wgt = [(0.5, 0.55, 0.9)]\n",
      "  w_diffuse = [(1.66, 1.66, 1.8)]\n",
      "  option_wgt_flux = 1\n",
      "  atmpro = mls\n",
      "  tsfc = 294\n",
      "  conc = None\n",
      "  option_compute_btable = 0\n",
      "  option_compute_ktable = 1\n",
      "o o3 band5\n",
      "  molecule = o3\n",
      "  band = 5\n",
      "  commitnumber = d5931a1\n",
      "  vmin = 980\n",
      "  vmax = 1100\n",
      "  dv = 0.001\n",
      "  nv = 1000\n",
      "  ref_pts = [(1, 250), (50, 250)]\n",
      "  ng_refs = [2, 5]\n",
      "  ng_adju = [0, 0]\n",
      "  klin = 2e-20\n",
      "  option_wgt_k = 1\n",
      "  wgt = [(0.35, 0.6), (0.5, 0.55, 0.7, 0.9, 1.0)]\n",
      "  w_diffuse = [(1.6, 1.75), (1.55, 1.66, 1.7, 1.75, 1.8)]\n",
      "  option_wgt_flux = 1\n",
      "  atmpro = mls\n",
      "  tsfc = 294\n",
      "  conc = None\n",
      "  option_compute_btable = 0\n",
      "  option_compute_ktable = 1\n"
     ]
    }
   ],
   "source": [
    "script()"
   ]
  },
  {
   "cell_type": "code",
   "execution_count": 12,
   "metadata": {},
   "outputs": [
    {
     "data": {
      "text/html": [
       "<script>\n",
       "code_show=true; \n",
       "function code_toggle() {\n",
       " if (code_show){\n",
       " $('div.input').hide();\n",
       " } else {\n",
       " $('div.input').show();\n",
       " }\n",
       " code_show = !code_show\n",
       "} \n",
       "$( document ).ready(code_toggle);\n",
       "</script>\n",
       "<form action=\"javascript:code_toggle()\"><input type=\"submit\" value=\"Click here to toggle on/off the raw code.\"></form>"
      ],
      "text/plain": [
       "<IPython.core.display.HTML object>"
      ]
     },
     "execution_count": 12,
     "metadata": {},
     "output_type": "execute_result"
    }
   ],
   "source": [
    "display.HTML('''<script>\n",
    "code_show=true; \n",
    "function code_toggle() {\n",
    " if (code_show){\n",
    " $('div.input').hide();\n",
    " } else {\n",
    " $('div.input').show();\n",
    " }\n",
    " code_show = !code_show\n",
    "} \n",
    "$( document ).ready(code_toggle);\n",
    "</script>\n",
    "<form action=\"javascript:code_toggle()\"><input type=\"submit\" value=\"Click here to toggle on/off the raw code.\"></form>''')"
   ]
  }
 ],
 "metadata": {
  "kernelspec": {
   "display_name": "Python 3",
   "language": "python",
   "name": "python3"
  },
  "language_info": {
   "codemirror_mode": {
    "name": "ipython",
    "version": 3
   },
   "file_extension": ".py",
   "mimetype": "text/x-python",
   "name": "python",
   "nbconvert_exporter": "python",
   "pygments_lexer": "ipython3",
   "version": "3.6.1"
  }
 },
 "nbformat": 4,
 "nbformat_minor": 2
}
