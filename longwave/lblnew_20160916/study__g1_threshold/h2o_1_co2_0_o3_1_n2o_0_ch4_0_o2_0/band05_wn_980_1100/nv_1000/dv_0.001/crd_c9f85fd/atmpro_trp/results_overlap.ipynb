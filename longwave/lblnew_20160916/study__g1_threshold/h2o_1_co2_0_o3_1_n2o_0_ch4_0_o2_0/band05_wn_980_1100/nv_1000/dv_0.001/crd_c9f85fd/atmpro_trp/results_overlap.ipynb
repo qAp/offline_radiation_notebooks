{
 "cells": [
  {
   "cell_type": "code",
   "execution_count": 1,
   "metadata": {
    "collapsed": true
   },
   "outputs": [],
   "source": [
    "%matplotlib inline\n",
    "import os\n",
    "import re\n",
    "import io\n",
    "import itertools\n",
    "import pprint\n",
    "\n",
    "from bokeh.io import output_notebook, show\n",
    "from bokeh.layouts import gridplot\n",
    "from bokeh.plotting import figure\n",
    "from bokeh.models import Range1d, Legend\n",
    "from bokeh.palettes import all_palettes\n",
    "\n",
    "import matplotlib\n",
    "import matplotlib.pyplot as plt\n",
    "import numpy as np\n",
    "import pandas as pd\n",
    "import xarray as xr\n",
    "\n",
    "import climatools.lblnew.bestfit_params as bestfits\n",
    "from climatools.lblnew import setup_bestfit, setup_overlap\n",
    "import climatools.lblnew.pipeline as pipe_lblnew\n",
    "\n",
    "import climatools.html.html as climahtml\n",
    "from climatools.lblnew.dataio import *\n",
    "from climatools.plot.plot import *\n",
    "\n",
    "\n",
    "import IPython.display as display"
   ]
  },
  {
   "cell_type": "code",
   "execution_count": 2,
   "metadata": {
    "collapsed": true
   },
   "outputs": [],
   "source": [
    "%run param.py"
   ]
  },
  {
   "cell_type": "code",
   "execution_count": 3,
   "metadata": {
    "collapsed": true
   },
   "outputs": [],
   "source": [
    "def load_output_file(path_csv):\n",
    "    '''\n",
    "    Load lblnew output .csv file to xarray.Dataset\n",
    "    \n",
    "    Parameters\n",
    "    ----------\n",
    "    path_csv: str\n",
    "              Path to the .csv file to be loaded.\n",
    "    ds: xarray.Dataset\n",
    "        Data in the input file in the form of an xarray.Dataset.\n",
    "    '''\n",
    "    toindex = ['band', 'pressure', 'igg', 'g']    \n",
    "    df = pd.read_csv(path_csv, sep=r'\\s+')\n",
    "    df = df.set_index([i for i in toindex if i in df.columns])\n",
    "    df = df.rename(columns={'sfu': 'flug',\n",
    "                            'sfd': 'fldg',\n",
    "                            'fnet': 'fnetg',\n",
    "                            'coolr': 'coolrg'})\n",
    "    ds = xr.Dataset.from_dataframe(df)\n",
    "\n",
    "    for l in ('level', 'layer'):\n",
    "        if l in ds.data_vars:\n",
    "            if len(ds[l].dims) > 1:\n",
    "                surface = {d: 0 for d in ds.dims if d != 'pressure'}\n",
    "                coord_level = ds[l][surface]\n",
    "                ds.coords[l] = ('pressure', coord_level)\n",
    "            else:\n",
    "                ds.coords[l] = ('pressure', ds[l])\n",
    "    \n",
    "    return ds"
   ]
  },
  {
   "cell_type": "code",
   "execution_count": 4,
   "metadata": {
    "collapsed": true
   },
   "outputs": [],
   "source": [
    "def lblnew_setup(param=None):\n",
    "    if 'ng_refs' in param:\n",
    "        return {'setup': setup_bestfit,\n",
    "                'fname_flux_crd': 'output_flux.dat',\n",
    "                'fname_cool_crd': 'output_coolr.dat',\n",
    "                'fname_flux_wgt': 'output_wfluxg.dat',\n",
    "                'fname_cool_wgt': 'output_wcoolrg.dat'}\n",
    "    else:\n",
    "        return {'setup': setup_overlap,\n",
    "                'fname_flux_crd': 'output_flux.dat',\n",
    "                'fname_cool_crd': 'output_coolr.dat',\n",
    "                'fname_flux_wgt': 'output_wflux.dat',\n",
    "                'fname_cool_wgt': 'output_wcoolr.dat'}\n",
    "\n",
    "    \n",
    "def load_lblnew_data(param):\n",
    "    \n",
    "    fname_dsname = [('fname_flux_crd', 'ds_flux_crd'),\n",
    "                    ('fname_cool_crd', 'ds_cool_crd'),\n",
    "                    ('fname_flux_wgt', 'ds_flux_wgt'),\n",
    "                    ('fname_cool_wgt', 'ds_cool_wgt')]\n",
    "    \n",
    "    d = lblnew_setup(param)\n",
    "    dir_fortran = pipe_lblnew.get_dir_case(param, setup=d['setup'])\n",
    "    \n",
    "    data_dict = {}\n",
    "    for fname, dsname in fname_dsname:\n",
    "        fpath = os.path.join(dir_fortran, d[fname])\n",
    "        data_dict[dsname] = load_output_file(fpath)\n",
    "    return data_dict\n",
    "    \n",
    "\n",
    "    \n",
    "    "
   ]
  },
  {
   "cell_type": "code",
   "execution_count": 5,
   "metadata": {
    "collapsed": true
   },
   "outputs": [],
   "source": [
    "d = load_lblnew_data(PARAM)\n",
    "\n",
    "DS_FLUX_CRD = d['ds_flux_crd']\n",
    "DS_COOL_CRD = d['ds_cool_crd']\n",
    "DS_FLUX_WGT = d['ds_flux_wgt']\n",
    "DS_COOL_WGT = d['ds_cool_wgt']"
   ]
  },
  {
   "cell_type": "code",
   "execution_count": 6,
   "metadata": {},
   "outputs": [
    {
     "data": {
      "text/html": [
       "\n",
       "    <div class=\"bk-root\">\n",
       "        <a href=\"https://bokeh.pydata.org\" target=\"_blank\" class=\"bk-logo bk-logo-small bk-logo-notebook\"></a>\n",
       "        <span id=\"e4262e53-b8c5-4ca8-a927-88947d6d5071\">Loading BokehJS ...</span>\n",
       "    </div>"
      ]
     },
     "metadata": {},
     "output_type": "display_data"
    },
    {
     "data": {
      "application/javascript": [
       "\n",
       "(function(root) {\n",
       "  function now() {\n",
       "    return new Date();\n",
       "  }\n",
       "\n",
       "  var force = true;\n",
       "\n",
       "  if (typeof (root._bokeh_onload_callbacks) === \"undefined\" || force === true) {\n",
       "    root._bokeh_onload_callbacks = [];\n",
       "    root._bokeh_is_loading = undefined;\n",
       "  }\n",
       "\n",
       "  var JS_MIME_TYPE = 'application/javascript';\n",
       "  var HTML_MIME_TYPE = 'text/html';\n",
       "  var EXEC_MIME_TYPE = 'application/vnd.bokehjs_exec.v0+json';\n",
       "  var CLASS_NAME = 'output_bokeh rendered_html';\n",
       "\n",
       "  /**\n",
       "   * Render data to the DOM node\n",
       "   */\n",
       "  function render(props, node) {\n",
       "    var script = document.createElement(\"script\");\n",
       "    node.appendChild(script);\n",
       "  }\n",
       "\n",
       "  /**\n",
       "   * Handle when an output is cleared or removed\n",
       "   */\n",
       "  function handleClearOutput(event, handle) {\n",
       "    var cell = handle.cell;\n",
       "\n",
       "    var id = cell.output_area._bokeh_element_id;\n",
       "    var server_id = cell.output_area._bokeh_server_id;\n",
       "    // Clean up Bokeh references\n",
       "    if (id !== undefined) {\n",
       "      Bokeh.index[id].model.document.clear();\n",
       "      delete Bokeh.index[id];\n",
       "    }\n",
       "\n",
       "    if (server_id !== undefined) {\n",
       "      // Clean up Bokeh references\n",
       "      var cmd = \"from bokeh.io.state import curstate; print(curstate().uuid_to_server['\" + server_id + \"'].get_sessions()[0].document.roots[0]._id)\";\n",
       "      cell.notebook.kernel.execute(cmd, {\n",
       "        iopub: {\n",
       "          output: function(msg) {\n",
       "            var element_id = msg.content.text.trim();\n",
       "            Bokeh.index[element_id].model.document.clear();\n",
       "            delete Bokeh.index[element_id];\n",
       "          }\n",
       "        }\n",
       "      });\n",
       "      // Destroy server and session\n",
       "      var cmd = \"import bokeh.io.notebook as ion; ion.destroy_server('\" + server_id + \"')\";\n",
       "      cell.notebook.kernel.execute(cmd);\n",
       "    }\n",
       "  }\n",
       "\n",
       "  /**\n",
       "   * Handle when a new output is added\n",
       "   */\n",
       "  function handleAddOutput(event, handle) {\n",
       "    var output_area = handle.output_area;\n",
       "    var output = handle.output;\n",
       "\n",
       "    // limit handleAddOutput to display_data with EXEC_MIME_TYPE content only\n",
       "    if ((output.output_type != \"display_data\") || (!output.data.hasOwnProperty(EXEC_MIME_TYPE))) {\n",
       "      return\n",
       "    }\n",
       "\n",
       "    var toinsert = output_area.element.find(\".\" + CLASS_NAME.split(' ')[0]);\n",
       "\n",
       "    if (output.metadata[EXEC_MIME_TYPE][\"id\"] !== undefined) {\n",
       "      toinsert[0].firstChild.textContent = output.data[JS_MIME_TYPE];\n",
       "      // store reference to embed id on output_area\n",
       "      output_area._bokeh_element_id = output.metadata[EXEC_MIME_TYPE][\"id\"];\n",
       "    }\n",
       "    if (output.metadata[EXEC_MIME_TYPE][\"server_id\"] !== undefined) {\n",
       "      var bk_div = document.createElement(\"div\");\n",
       "      bk_div.innerHTML = output.data[HTML_MIME_TYPE];\n",
       "      var script_attrs = bk_div.children[0].attributes;\n",
       "      for (var i = 0; i < script_attrs.length; i++) {\n",
       "        toinsert[0].firstChild.setAttribute(script_attrs[i].name, script_attrs[i].value);\n",
       "      }\n",
       "      // store reference to server id on output_area\n",
       "      output_area._bokeh_server_id = output.metadata[EXEC_MIME_TYPE][\"server_id\"];\n",
       "    }\n",
       "  }\n",
       "\n",
       "  function register_renderer(events, OutputArea) {\n",
       "\n",
       "    function append_mime(data, metadata, element) {\n",
       "      // create a DOM node to render to\n",
       "      var toinsert = this.create_output_subarea(\n",
       "        metadata,\n",
       "        CLASS_NAME,\n",
       "        EXEC_MIME_TYPE\n",
       "      );\n",
       "      this.keyboard_manager.register_events(toinsert);\n",
       "      // Render to node\n",
       "      var props = {data: data, metadata: metadata[EXEC_MIME_TYPE]};\n",
       "      render(props, toinsert[0]);\n",
       "      element.append(toinsert);\n",
       "      return toinsert\n",
       "    }\n",
       "\n",
       "    /* Handle when an output is cleared or removed */\n",
       "    events.on('clear_output.CodeCell', handleClearOutput);\n",
       "    events.on('delete.Cell', handleClearOutput);\n",
       "\n",
       "    /* Handle when a new output is added */\n",
       "    events.on('output_added.OutputArea', handleAddOutput);\n",
       "\n",
       "    /**\n",
       "     * Register the mime type and append_mime function with output_area\n",
       "     */\n",
       "    OutputArea.prototype.register_mime_type(EXEC_MIME_TYPE, append_mime, {\n",
       "      /* Is output safe? */\n",
       "      safe: true,\n",
       "      /* Index of renderer in `output_area.display_order` */\n",
       "      index: 0\n",
       "    });\n",
       "  }\n",
       "\n",
       "  // register the mime type if in Jupyter Notebook environment and previously unregistered\n",
       "  if (root.Jupyter !== undefined) {\n",
       "    var events = require('base/js/events');\n",
       "    var OutputArea = require('notebook/js/outputarea').OutputArea;\n",
       "\n",
       "    if (OutputArea.prototype.mime_types().indexOf(EXEC_MIME_TYPE) == -1) {\n",
       "      register_renderer(events, OutputArea);\n",
       "    }\n",
       "  }\n",
       "\n",
       "  \n",
       "  if (typeof (root._bokeh_timeout) === \"undefined\" || force === true) {\n",
       "    root._bokeh_timeout = Date.now() + 5000;\n",
       "    root._bokeh_failed_load = false;\n",
       "  }\n",
       "\n",
       "  var NB_LOAD_WARNING = {'data': {'text/html':\n",
       "     \"<div style='background-color: #fdd'>\\n\"+\n",
       "     \"<p>\\n\"+\n",
       "     \"BokehJS does not appear to have successfully loaded. If loading BokehJS from CDN, this \\n\"+\n",
       "     \"may be due to a slow or bad network connection. Possible fixes:\\n\"+\n",
       "     \"</p>\\n\"+\n",
       "     \"<ul>\\n\"+\n",
       "     \"<li>re-rerun `output_notebook()` to attempt to load from CDN again, or</li>\\n\"+\n",
       "     \"<li>use INLINE resources instead, as so:</li>\\n\"+\n",
       "     \"</ul>\\n\"+\n",
       "     \"<code>\\n\"+\n",
       "     \"from bokeh.resources import INLINE\\n\"+\n",
       "     \"output_notebook(resources=INLINE)\\n\"+\n",
       "     \"</code>\\n\"+\n",
       "     \"</div>\"}};\n",
       "\n",
       "  function display_loaded() {\n",
       "    var el = document.getElementById(\"e4262e53-b8c5-4ca8-a927-88947d6d5071\");\n",
       "    if (el != null) {\n",
       "      el.textContent = \"BokehJS is loading...\";\n",
       "    }\n",
       "    if (root.Bokeh !== undefined) {\n",
       "      if (el != null) {\n",
       "        el.textContent = \"BokehJS \" + root.Bokeh.version + \" successfully loaded.\";\n",
       "      }\n",
       "    } else if (Date.now() < root._bokeh_timeout) {\n",
       "      setTimeout(display_loaded, 100)\n",
       "    }\n",
       "  }\n",
       "\n",
       "\n",
       "  function run_callbacks() {\n",
       "    try {\n",
       "      root._bokeh_onload_callbacks.forEach(function(callback) { callback() });\n",
       "    }\n",
       "    finally {\n",
       "      delete root._bokeh_onload_callbacks\n",
       "    }\n",
       "    console.info(\"Bokeh: all callbacks have finished\");\n",
       "  }\n",
       "\n",
       "  function load_libs(js_urls, callback) {\n",
       "    root._bokeh_onload_callbacks.push(callback);\n",
       "    if (root._bokeh_is_loading > 0) {\n",
       "      console.log(\"Bokeh: BokehJS is being loaded, scheduling callback at\", now());\n",
       "      return null;\n",
       "    }\n",
       "    if (js_urls == null || js_urls.length === 0) {\n",
       "      run_callbacks();\n",
       "      return null;\n",
       "    }\n",
       "    console.log(\"Bokeh: BokehJS not loaded, scheduling load and callback at\", now());\n",
       "    root._bokeh_is_loading = js_urls.length;\n",
       "    for (var i = 0; i < js_urls.length; i++) {\n",
       "      var url = js_urls[i];\n",
       "      var s = document.createElement('script');\n",
       "      s.src = url;\n",
       "      s.async = false;\n",
       "      s.onreadystatechange = s.onload = function() {\n",
       "        root._bokeh_is_loading--;\n",
       "        if (root._bokeh_is_loading === 0) {\n",
       "          console.log(\"Bokeh: all BokehJS libraries loaded\");\n",
       "          run_callbacks()\n",
       "        }\n",
       "      };\n",
       "      s.onerror = function() {\n",
       "        console.warn(\"failed to load library \" + url);\n",
       "      };\n",
       "      console.log(\"Bokeh: injecting script tag for BokehJS library: \", url);\n",
       "      document.getElementsByTagName(\"head\")[0].appendChild(s);\n",
       "    }\n",
       "  };var element = document.getElementById(\"e4262e53-b8c5-4ca8-a927-88947d6d5071\");\n",
       "  if (element == null) {\n",
       "    console.log(\"Bokeh: ERROR: autoload.js configured with elementid 'e4262e53-b8c5-4ca8-a927-88947d6d5071' but no matching script tag was found. \")\n",
       "    return false;\n",
       "  }\n",
       "\n",
       "  var js_urls = [\"https://cdn.pydata.org/bokeh/release/bokeh-0.12.14.min.js\", \"https://cdn.pydata.org/bokeh/release/bokeh-widgets-0.12.14.min.js\", \"https://cdn.pydata.org/bokeh/release/bokeh-tables-0.12.14.min.js\", \"https://cdn.pydata.org/bokeh/release/bokeh-gl-0.12.14.min.js\"];\n",
       "\n",
       "  var inline_js = [\n",
       "    function(Bokeh) {\n",
       "      Bokeh.set_log_level(\"info\");\n",
       "    },\n",
       "    \n",
       "    function(Bokeh) {\n",
       "      \n",
       "    },\n",
       "    function(Bokeh) {\n",
       "      console.log(\"Bokeh: injecting CSS: https://cdn.pydata.org/bokeh/release/bokeh-0.12.14.min.css\");\n",
       "      Bokeh.embed.inject_css(\"https://cdn.pydata.org/bokeh/release/bokeh-0.12.14.min.css\");\n",
       "      console.log(\"Bokeh: injecting CSS: https://cdn.pydata.org/bokeh/release/bokeh-widgets-0.12.14.min.css\");\n",
       "      Bokeh.embed.inject_css(\"https://cdn.pydata.org/bokeh/release/bokeh-widgets-0.12.14.min.css\");\n",
       "      console.log(\"Bokeh: injecting CSS: https://cdn.pydata.org/bokeh/release/bokeh-tables-0.12.14.min.css\");\n",
       "      Bokeh.embed.inject_css(\"https://cdn.pydata.org/bokeh/release/bokeh-tables-0.12.14.min.css\");\n",
       "    }\n",
       "  ];\n",
       "\n",
       "  function run_inline_js() {\n",
       "    \n",
       "    if ((root.Bokeh !== undefined) || (force === true)) {\n",
       "      for (var i = 0; i < inline_js.length; i++) {\n",
       "        inline_js[i].call(root, root.Bokeh);\n",
       "      }if (force === true) {\n",
       "        display_loaded();\n",
       "      }} else if (Date.now() < root._bokeh_timeout) {\n",
       "      setTimeout(run_inline_js, 100);\n",
       "    } else if (!root._bokeh_failed_load) {\n",
       "      console.log(\"Bokeh: BokehJS failed to load within specified timeout.\");\n",
       "      root._bokeh_failed_load = true;\n",
       "    } else if (force !== true) {\n",
       "      var cell = $(document.getElementById(\"e4262e53-b8c5-4ca8-a927-88947d6d5071\")).parents('.cell').data().cell;\n",
       "      cell.output_area.append_execute_result(NB_LOAD_WARNING)\n",
       "    }\n",
       "\n",
       "  }\n",
       "\n",
       "  if (root._bokeh_is_loading === 0) {\n",
       "    console.log(\"Bokeh: BokehJS loaded, going straight to plotting\");\n",
       "    run_inline_js();\n",
       "  } else {\n",
       "    load_libs(js_urls, function() {\n",
       "      console.log(\"Bokeh: BokehJS plotting callback run at\", now());\n",
       "      run_inline_js();\n",
       "    });\n",
       "  }\n",
       "}(window));"
      ],
      "application/vnd.bokehjs_load.v0+json": "\n(function(root) {\n  function now() {\n    return new Date();\n  }\n\n  var force = true;\n\n  if (typeof (root._bokeh_onload_callbacks) === \"undefined\" || force === true) {\n    root._bokeh_onload_callbacks = [];\n    root._bokeh_is_loading = undefined;\n  }\n\n  \n\n  \n  if (typeof (root._bokeh_timeout) === \"undefined\" || force === true) {\n    root._bokeh_timeout = Date.now() + 5000;\n    root._bokeh_failed_load = false;\n  }\n\n  var NB_LOAD_WARNING = {'data': {'text/html':\n     \"<div style='background-color: #fdd'>\\n\"+\n     \"<p>\\n\"+\n     \"BokehJS does not appear to have successfully loaded. If loading BokehJS from CDN, this \\n\"+\n     \"may be due to a slow or bad network connection. Possible fixes:\\n\"+\n     \"</p>\\n\"+\n     \"<ul>\\n\"+\n     \"<li>re-rerun `output_notebook()` to attempt to load from CDN again, or</li>\\n\"+\n     \"<li>use INLINE resources instead, as so:</li>\\n\"+\n     \"</ul>\\n\"+\n     \"<code>\\n\"+\n     \"from bokeh.resources import INLINE\\n\"+\n     \"output_notebook(resources=INLINE)\\n\"+\n     \"</code>\\n\"+\n     \"</div>\"}};\n\n  function display_loaded() {\n    var el = document.getElementById(\"e4262e53-b8c5-4ca8-a927-88947d6d5071\");\n    if (el != null) {\n      el.textContent = \"BokehJS is loading...\";\n    }\n    if (root.Bokeh !== undefined) {\n      if (el != null) {\n        el.textContent = \"BokehJS \" + root.Bokeh.version + \" successfully loaded.\";\n      }\n    } else if (Date.now() < root._bokeh_timeout) {\n      setTimeout(display_loaded, 100)\n    }\n  }\n\n\n  function run_callbacks() {\n    try {\n      root._bokeh_onload_callbacks.forEach(function(callback) { callback() });\n    }\n    finally {\n      delete root._bokeh_onload_callbacks\n    }\n    console.info(\"Bokeh: all callbacks have finished\");\n  }\n\n  function load_libs(js_urls, callback) {\n    root._bokeh_onload_callbacks.push(callback);\n    if (root._bokeh_is_loading > 0) {\n      console.log(\"Bokeh: BokehJS is being loaded, scheduling callback at\", now());\n      return null;\n    }\n    if (js_urls == null || js_urls.length === 0) {\n      run_callbacks();\n      return null;\n    }\n    console.log(\"Bokeh: BokehJS not loaded, scheduling load and callback at\", now());\n    root._bokeh_is_loading = js_urls.length;\n    for (var i = 0; i < js_urls.length; i++) {\n      var url = js_urls[i];\n      var s = document.createElement('script');\n      s.src = url;\n      s.async = false;\n      s.onreadystatechange = s.onload = function() {\n        root._bokeh_is_loading--;\n        if (root._bokeh_is_loading === 0) {\n          console.log(\"Bokeh: all BokehJS libraries loaded\");\n          run_callbacks()\n        }\n      };\n      s.onerror = function() {\n        console.warn(\"failed to load library \" + url);\n      };\n      console.log(\"Bokeh: injecting script tag for BokehJS library: \", url);\n      document.getElementsByTagName(\"head\")[0].appendChild(s);\n    }\n  };var element = document.getElementById(\"e4262e53-b8c5-4ca8-a927-88947d6d5071\");\n  if (element == null) {\n    console.log(\"Bokeh: ERROR: autoload.js configured with elementid 'e4262e53-b8c5-4ca8-a927-88947d6d5071' but no matching script tag was found. \")\n    return false;\n  }\n\n  var js_urls = [\"https://cdn.pydata.org/bokeh/release/bokeh-0.12.14.min.js\", \"https://cdn.pydata.org/bokeh/release/bokeh-widgets-0.12.14.min.js\", \"https://cdn.pydata.org/bokeh/release/bokeh-tables-0.12.14.min.js\", \"https://cdn.pydata.org/bokeh/release/bokeh-gl-0.12.14.min.js\"];\n\n  var inline_js = [\n    function(Bokeh) {\n      Bokeh.set_log_level(\"info\");\n    },\n    \n    function(Bokeh) {\n      \n    },\n    function(Bokeh) {\n      console.log(\"Bokeh: injecting CSS: https://cdn.pydata.org/bokeh/release/bokeh-0.12.14.min.css\");\n      Bokeh.embed.inject_css(\"https://cdn.pydata.org/bokeh/release/bokeh-0.12.14.min.css\");\n      console.log(\"Bokeh: injecting CSS: https://cdn.pydata.org/bokeh/release/bokeh-widgets-0.12.14.min.css\");\n      Bokeh.embed.inject_css(\"https://cdn.pydata.org/bokeh/release/bokeh-widgets-0.12.14.min.css\");\n      console.log(\"Bokeh: injecting CSS: https://cdn.pydata.org/bokeh/release/bokeh-tables-0.12.14.min.css\");\n      Bokeh.embed.inject_css(\"https://cdn.pydata.org/bokeh/release/bokeh-tables-0.12.14.min.css\");\n    }\n  ];\n\n  function run_inline_js() {\n    \n    if ((root.Bokeh !== undefined) || (force === true)) {\n      for (var i = 0; i < inline_js.length; i++) {\n        inline_js[i].call(root, root.Bokeh);\n      }if (force === true) {\n        display_loaded();\n      }} else if (Date.now() < root._bokeh_timeout) {\n      setTimeout(run_inline_js, 100);\n    } else if (!root._bokeh_failed_load) {\n      console.log(\"Bokeh: BokehJS failed to load within specified timeout.\");\n      root._bokeh_failed_load = true;\n    } else if (force !== true) {\n      var cell = $(document.getElementById(\"e4262e53-b8c5-4ca8-a927-88947d6d5071\")).parents('.cell').data().cell;\n      cell.output_area.append_execute_result(NB_LOAD_WARNING)\n    }\n\n  }\n\n  if (root._bokeh_is_loading === 0) {\n    console.log(\"Bokeh: BokehJS loaded, going straight to plotting\");\n    run_inline_js();\n  } else {\n    load_libs(js_urls, function() {\n      console.log(\"Bokeh: BokehJS plotting callback run at\", now());\n      run_inline_js();\n    });\n  }\n}(window));"
     },
     "metadata": {},
     "output_type": "display_data"
    }
   ],
   "source": [
    "output_notebook()"
   ]
  },
  {
   "cell_type": "code",
   "execution_count": 7,
   "metadata": {
    "collapsed": true
   },
   "outputs": [],
   "source": [
    "def fmt_cool(ds_in):\n",
    "    ds = ds_in.copy(deep=True)\n",
    "    if 'igg' in ds.dims:\n",
    "        ds = ds.sel(igg=1)\n",
    "\n",
    "    if 'g' in ds.dims:\n",
    "        ds = ds.sum('g')\n",
    "            \n",
    "    if 'band' in ds.dims:\n",
    "        try:\n",
    "            ds = ds.squeeze('band')\n",
    "        except ValueError:\n",
    "            ds = ds.sum('band')\n",
    "                \n",
    "    return ds['coolrg']\n",
    "\n",
    "\n",
    "def pltdata_cooling_1(ds_cool_crd=None, ds_cool_wgt=None):\n",
    "    \n",
    "\n",
    "\n",
    "    colors = all_palettes['Set1'][4]\n",
    "    data = [{'label': 'CRD',\n",
    "             'srs': fmt_cool(ds_cool_crd),\n",
    "             'line_dash': 'solid', 'line_width': 1.5,\n",
    "             'marker': 'circle', 'marker_size': 5,\n",
    "             'color': colors[2], 'alpha': 1,},\n",
    "            {'label': 'WGT igg=10',\n",
    "             'srs': fmt_cool(ds_cool_wgt.sel(igg=10)),\n",
    "             'line_dash': 'solid', 'line_width': 3,\n",
    "             'marker': 'square', 'marker_size': 5,\n",
    "             'color': colors[3], 'alpha': .6},\n",
    "            {'label': 'WGT igg=1',\n",
    "             'srs': fmt_cool(ds_cool_wgt.sel(igg=1)),\n",
    "             'line_dash': 'dotdash', 'line_width': 3,\n",
    "             'marker': 'inverted_triangle', 'marker_size': 5,\n",
    "             'color': colors[1], 'alpha': .6}\n",
    "           ]\n",
    "    return data\n",
    "\n",
    "\n",
    "def nice_xlims(pltdata=None, prange=None):\n",
    "    \n",
    "    def get_slice(srs):\n",
    "        return srs.sel(pressure=slice(*prange))\n",
    "    \n",
    "    srss = [d['srs'] for d in pltdata]\n",
    "    vmin = min([get_slice(srs).min() for srs in srss])\n",
    "    vmax = max([get_slice(srs).max() for srs in srss])\n",
    "    dv = (vmax - vmin) * .01\n",
    "    return float(vmin - dv), float(vmax + dv)\n",
    "    \n",
    "\n",
    "def plt_cooling_bokeh(pltdata=None):\n",
    "    '''\n",
    "    Plot a list of cooling rate profiles using bokeh.\n",
    "    '''\n",
    "    ymin = 1e-2 \n",
    "    ymax = 1020 \n",
    "        \n",
    "    p1 = figure(title=\"Linear pressure scale\", \n",
    "                plot_width=400)        \n",
    "    xmin, xmax = nice_xlims(pltdata, prange=(50, 1050))\n",
    "    for d in pltdata:\n",
    "        if 'marker' in d:\n",
    "            getattr(p1, d['marker'])(d['srs'].values, \n",
    "                    d['srs'].coords['pressure'].values,\n",
    "                    color=d['color'], alpha=.7)\n",
    "        p1.line(d['srs'].values, \n",
    "                d['srs'].coords['pressure'].values,\n",
    "                color=d['color'], alpha=d['alpha'], \n",
    "                line_width=d['line_width'], line_dash=d['line_dash'])\n",
    "    \n",
    "    p1.y_range = Range1d(ymax, ymin)\n",
    "    p1.yaxis.axis_label = 'pressure [mb]'   \n",
    "    p1.x_range = Range1d(xmin, xmax)\n",
    "    p1.xaxis.axis_label = 'cooling rate [K/day]'\n",
    "            \n",
    "    p2 = figure(title='Log pressure scale', y_axis_type='log',\n",
    "                plot_width=560)\n",
    "    xmin, xmax = nice_xlims(pltdata, prange=(.01, 200))\n",
    "    \n",
    "    rs = []\n",
    "    for d in pltdata:\n",
    "        rd = []\n",
    "        if 'marker' in d:\n",
    "            r_mark = getattr(p2, d['marker'])(d['srs'].values, \n",
    "                        d['srs'].coords['pressure'].values,\n",
    "                        color=d['color'], alpha=.7)\n",
    "            rd.append(r_mark)\n",
    "        r_line = p2.line(d['srs'].values, \n",
    "                    d['srs'].coords['pressure'].values,\n",
    "                    color=d['color'], alpha=d['alpha'], \n",
    "                    line_width=d['line_width'], line_dash=d['line_dash'])\n",
    "        rd.append(r_line)\n",
    "      \n",
    "        rs.append(rd)\n",
    "        \n",
    "    p2.y_range = Range1d(ymax, ymin)  \n",
    "    p2.yaxis.axis_label = 'pressure [mb]'\n",
    "    \n",
    "    p2.x_range = Range1d(xmin, xmax)\n",
    "    p2.xaxis.axis_label = 'cooling rate [K/day]'\n",
    "    \n",
    "    items = [(d['label'], r) for r, d in zip(rs, pltdata)]\n",
    "    legend = Legend(items=items, location=(10, -30))\n",
    "    legend.label_text_font_size = '8pt'\n",
    "    \n",
    "    p2.add_layout(legend, 'right')  \n",
    "    \n",
    "    show(gridplot(p1, p2, ncols=2, plot_height=500))\n",
    "    \n",
    "\n",
    "def script_plt_cooling():\n",
    "    pltdata = pltdata_cooling_1(\n",
    "        ds_cool_crd=DS_COOL_CRD,\n",
    "        ds_cool_wgt=DS_COOL_WGT)\n",
    "    plt_cooling_bokeh(pltdata=pltdata)\n",
    "    print('''FIGURE. Cooling rate profiles.''')"
   ]
  },
  {
   "cell_type": "code",
   "execution_count": 8,
   "metadata": {
    "collapsed": true
   },
   "outputs": [],
   "source": [
    "def fmt_flux(ds_in):\n",
    "    ds = ds_in.copy(deep=True)\n",
    "    \n",
    "    for l in ('level', 'layer'):\n",
    "        if l in ds.data_vars:\n",
    "            if len(ds[l].dims) > 1:\n",
    "                surface = {d: 0 for d in ds.dims if d != 'pressure'}\n",
    "                coord_level = ds[l][surface]\n",
    "                ds.coords[l] = ('pressure', coord_level)\n",
    "            else:\n",
    "                ds.coords[l] = ('pressure', ds[l])\n",
    "        \n",
    "    ds = ds.isel(pressure=[0, 23, -1])\n",
    "    \n",
    "    if 'igg' in ds.dims:\n",
    "        if ds.dims['igg'] > 1:\n",
    "            print('Select an igg value to view in table.')\n",
    "            raise ValueError\n",
    "        else:\n",
    "            ds = ds.squeeze('igg').drop('igg')\n",
    "    else:\n",
    "        if 'igg' in ds.coords:\n",
    "            ds = ds.drop('igg')\n",
    "\n",
    "    if 'g' in ds.dims:\n",
    "        ds = ds.sum('g')\n",
    "            \n",
    "    if 'band' in ds.dims:\n",
    "        try:\n",
    "            ds = ds.squeeze('band').drop('band')\n",
    "        except ValueError:\n",
    "            ds = ds.sum('band')\n",
    "                \n",
    "    df = ds.to_dataframe()\n",
    "    df = df.set_index('level', append=True)               \n",
    "    return df\n",
    "\n",
    "\n",
    "def tbdata_flux(ds_flux_crd=None, ds_flux_wgt=None):\n",
    "    ilevels = [0, 23, -1]\n",
    "            \n",
    "    benchmark = {'label': 'CRD',\n",
    "                 'df': fmt_flux(ds_flux_crd)}\n",
    "    tbs = [{'label': 'WGT igg=10',\n",
    "            'df': fmt_flux(ds_flux_wgt.sel(igg=10))},\n",
    "           {'label': 'WGT igg=1',\n",
    "            'df': fmt_flux(ds_flux_wgt.sel(igg=1))}]\n",
    "    \n",
    "    data = {'benchmark': benchmark, 'others': tbs}\n",
    "    return data\n",
    "\n",
    "\n",
    "def tb_flux(tbdata=None):\n",
    "    benchmark = tbdata['benchmark']\n",
    "    others = tbdata['others']\n",
    "    \n",
    "    def show_tb(d=None):\n",
    "        display.display(d['df'])\n",
    "        print('Table.', 'Fluxes.', d['label'])\n",
    "        \n",
    "    def show_tbdiff(d0=None, d=None):\n",
    "        df = d['df']\n",
    "        df.index = d0['df'].index\n",
    "        display.display(df - d0['df'])\n",
    "        print('Table.', 'Fluxes.', \n",
    "              '({}) - ({})'.format(d['label'], d0['label']))\n",
    "        \n",
    "    show_tb(benchmark)\n",
    "    for d in others:\n",
    "        show_tb(d)\n",
    "        \n",
    "    for d in others:\n",
    "        show_tbdiff(d=d, d0=benchmark)\n",
    "        \n",
    "        \n",
    "def script_tb_flux():\n",
    "    data = tbdata_flux(ds_flux_crd=DS_FLUX_CRD,\n",
    "                       ds_flux_wgt=DS_FLUX_WGT)\n",
    "    tb_flux(tbdata=data)"
   ]
  },
  {
   "cell_type": "code",
   "execution_count": 9,
   "metadata": {
    "collapsed": true
   },
   "outputs": [],
   "source": [
    "def band_map():\n",
    "    '''\n",
    "    Maps spectral bands in lblnew to spectral bands in clirad.\n",
    "    '''\n",
    "    lblnew2clirad = {'1': '1',\n",
    "            '2': '2',\n",
    "            '3a': '3',\n",
    "            '3b': '4',\n",
    "            '3c': '5',\n",
    "            '4': '6', \n",
    "            '5': '7',\n",
    "            '6': '8',\n",
    "            '7': '9', \n",
    "            '8': '10',\n",
    "            '9': '11'}\n",
    "    \n",
    "    clirad2lblnew = {clirad: lblnew \n",
    "                     for lblnew, clirad in lblnew2clirad.items()}\n",
    "    return clirad2lblnew\n",
    "\n",
    "\n",
    "def gasbands():\n",
    "    bmap = band_map()\n",
    "    gases = list(PARAM['molecule'].keys())\n",
    "    \n",
    "    bands = [str(b) for b in PARAM['band']]\n",
    "    return list(itertools.product(gases, bands))\n",
    "\n",
    "\n",
    "def print_bestfit_params():\n",
    "    print('Best-fit values for each (gas, band)')\n",
    "    print('------------------------------------')\n",
    "    for gas, band in gasbands():\n",
    "        print('o {} band{}'.format(gas, band))\n",
    "        param = bestfits.kdist_params(molecule=gas, band=band)\n",
    "        for name, value in param.items():\n",
    "            print(2 * ' ' + '{} = {}'.format(name, value))\n",
    "\n",
    "        \n",
    "def print_input_param():        \n",
    "    for name, value in PARAM.items():\n",
    "        print('{} = {}'.format(name, value))\n"
   ]
  },
  {
   "cell_type": "code",
   "execution_count": 10,
   "metadata": {
    "collapsed": true,
    "scrolled": false
   },
   "outputs": [],
   "source": [
    "def show_html(s):\n",
    "    display.display(display.HTML(s))\n",
    "\n",
    "    \n",
    "def show_markdown(s):\n",
    "    display.display(display.Markdown(s))\n",
    "\n",
    "    \n",
    "def script():\n",
    "    \n",
    "    title = '### LBLNEW-OVERLAP'\n",
    "    s_input = 'Input Parameters'\n",
    "    s_bestfits = 'Best-fit Parameters'\n",
    "    s_plt_cooling = 'Cooling Rate Profiles'\n",
    "    s_tb_flux = 'Flux Comparison'\n",
    "    \n",
    "    # title\n",
    "    show_markdown(title)\n",
    "    \n",
    "    # TOC\n",
    "    show_markdown('### Table of Contents')\n",
    "    show_html(climahtml.getHTML_hrefanchor(s_input))\n",
    "    show_html(climahtml.getHTML_hrefanchor(s_plt_cooling))\n",
    "    show_html(climahtml.getHTML_hrefanchor(s_tb_flux))\n",
    "    show_html(climahtml.getHTML_hrefanchor(s_bestfits))\n",
    "    \n",
    "    # Input parameters\n",
    "    show_html(climahtml.getHTML_idanchor(s_input))\n",
    "    show_markdown(climahtml.getMarkdown_sectitle(s_input))\n",
    "    print_input_param()\n",
    "    \n",
    "    # Cooling rate profiles\n",
    "    show_html(climahtml.getHTML_idanchor(s_plt_cooling))\n",
    "    show_markdown(climahtml.getMarkdown_sectitle(s_plt_cooling))\n",
    "    script_plt_cooling()\n",
    "    \n",
    "    # Flux comparison\n",
    "    show_html(climahtml.getHTML_idanchor(s_tb_flux))\n",
    "    show_markdown(climahtml.getMarkdown_sectitle(s_tb_flux))\n",
    "    script_tb_flux()\n",
    "    \n",
    "    # Best-fit values\n",
    "    show_html(climahtml.getHTML_idanchor(s_bestfits))\n",
    "    show_markdown(climahtml.getMarkdown_sectitle(s_bestfits))\n",
    "    print_bestfit_params()\n",
    "   \n",
    "    "
   ]
  },
  {
   "cell_type": "code",
   "execution_count": 11,
   "metadata": {
    "scrolled": false
   },
   "outputs": [
    {
     "data": {
      "text/markdown": [
       "### LBLNEW-OVERLAP"
      ],
      "text/plain": [
       "<IPython.core.display.Markdown object>"
      ]
     },
     "metadata": {},
     "output_type": "display_data"
    },
    {
     "data": {
      "text/markdown": [
       "### Table of Contents"
      ],
      "text/plain": [
       "<IPython.core.display.Markdown object>"
      ]
     },
     "metadata": {},
     "output_type": "display_data"
    },
    {
     "data": {
      "text/html": [
       "<a href=\"#Input_Parameters\">Input Parameters</a>"
      ],
      "text/plain": [
       "<IPython.core.display.HTML object>"
      ]
     },
     "metadata": {},
     "output_type": "display_data"
    },
    {
     "data": {
      "text/html": [
       "<a href=\"#Cooling_Rate_Profiles\">Cooling Rate Profiles</a>"
      ],
      "text/plain": [
       "<IPython.core.display.HTML object>"
      ]
     },
     "metadata": {},
     "output_type": "display_data"
    },
    {
     "data": {
      "text/html": [
       "<a href=\"#Flux_Comparison\">Flux Comparison</a>"
      ],
      "text/plain": [
       "<IPython.core.display.HTML object>"
      ]
     },
     "metadata": {},
     "output_type": "display_data"
    },
    {
     "data": {
      "text/html": [
       "<a href=\"#Best-fit_Parameters\">Best-fit Parameters</a>"
      ],
      "text/plain": [
       "<IPython.core.display.HTML object>"
      ]
     },
     "metadata": {},
     "output_type": "display_data"
    },
    {
     "data": {
      "text/html": [
       "<a id=\"Input_Parameters\"></a>"
      ],
      "text/plain": [
       "<IPython.core.display.HTML object>"
      ]
     },
     "metadata": {},
     "output_type": "display_data"
    },
    {
     "data": {
      "text/markdown": [
       "# Input Parameters"
      ],
      "text/plain": [
       "<IPython.core.display.Markdown object>"
      ]
     },
     "metadata": {},
     "output_type": "display_data"
    },
    {
     "name": "stdout",
     "output_type": "stream",
     "text": [
      "commitnumber = c9f85fd\n",
      "molecule = {'h2o': 'atmpro', 'o3': 'atmpro'}\n",
      "band = 5\n",
      "nv = 1000\n",
      "dv = 0.001\n",
      "atmpro = trp\n",
      "tsfc = 300\n"
     ]
    },
    {
     "data": {
      "text/html": [
       "<a id=\"Cooling_Rate_Profiles\"></a>"
      ],
      "text/plain": [
       "<IPython.core.display.HTML object>"
      ]
     },
     "metadata": {},
     "output_type": "display_data"
    },
    {
     "data": {
      "text/markdown": [
       "# Cooling Rate Profiles"
      ],
      "text/plain": [
       "<IPython.core.display.Markdown object>"
      ]
     },
     "metadata": {},
     "output_type": "display_data"
    },
    {
     "data": {
      "text/html": [
       "\n",
       "<div class=\"bk-root\">\n",
       "    <div class=\"bk-plotdiv\" id=\"62278593-c6be-4de1-ad4a-1dfe3ec8205f\"></div>\n",
       "</div>"
      ]
     },
     "metadata": {},
     "output_type": "display_data"
    },
    {
     "data": {
      "application/javascript": [
       "(function(root) {\n",
       "  function embed_document(root) {\n",
       "    \n",
       "  var docs_json = {\"0e11db25-1cda-4f5e-9b3a-508f09e847d3\":{\"roots\":{\"references\":[{\"attributes\":{\"callback\":null,\"column_names\":[\"x\",\"y\"],\"data\":{\"x\":{\"__ndarray__\":\"+1sW1DZMnr89ZvF5/f2gvxSHFWlAj6S/5jKyh535p791mcWEyzyrv+QCRH9wV66/LheW5CWksL/GSX0zEweyv72lJSFUU7O/QzDFV2aKtL/K10xbr6u1v/xCWCVCt7a/hmq6Bsyvt7/lqQJGe2K4vxCnOLMC6Le/PwMkeTIosr8ZYcnWrJOAv/YEcFBO9ro/3peOlIgL0j87/X8gaSXhP/sjyubDNuw/3fAWowmv9D/lGrD1Vm75P06uztZmSPo/9KOG20YI+D+335D8d9PyPyKET4yPY+o/zvLIYSju4T+SZuIMtDHYP/23N2Sor8k/KXNMRjA2o7+pNUkDqoXRv6L/L+jOXd6/eHBFnC1E478fqK7XT7riv7QPBXXCcti/7tGXtX8rx79Aa58Kj2i8v0L1+IWjILe/jTcTgj5Zs7+p8FOUzGOwv9HxQIDmVau/hEjcHBS4pr+KtTwy/eKiv6zoGT+wip+/d4NWyqyKmr8Ls2jr9ESWv1GGy6YzYpK/QwbgCTfFjb/8frhL5WSHv/m75982I4G/3LfCCqOYdb91/3BJqRphv8tYj+hOClQ/MOCr7dRCcz8jHvAM2CaBPxc9v0HeH4k/9b+WNqDOkD8sEUAbzVKVP5Dc5gKhOZo/rX0v9VuKnz8IGPiyNouiP1yWDz4dWqU/jc8O/4MkqT/3Bsd7weasP6SOVgEzabA/HAEmuniJsj8E5t82bD60P2VWV1SwBbY/k/Xqz70IuD/VRtDzAke6P3v2XKYmwbw/QP6QhmyDvz9OQkw23E/BP0TQJPPALsM/\",\"dtype\":\"float64\",\"shape\":[75]},\"y\":{\"__ndarray__\":\"GhExyth1ND/Sv8nbtpRIP2vylNV0PVE/aTum7souWD/At0SJ8fVgPw3Iuahxymc/MSNhhJWvcD/bTfBN02d3P2zb5nxnaoA/CD5h5MAGhz8NmeH1TyaQP+zrCsc9p5Y/LbKd76fGnz/bLW5ISEmmPww9YvTcQq8/JV2OstnstT8Er5Y7M8G+P0c+r3jqkcU/5h99k6ZBzj88bCIzFzjVP4enV8oyxN0//yH99nXg5D8qOpLLf0jtP5kqGJXUifQ/c9cS8kHP/D+/DpwzojQEQIEmwoanVwxA4lgXt9HgE0BSSZ2AJuIbQAMJih9jjiNA5q4l5INuK0AwTKYKRj0zQNv5fmq8/DpAaCJseHrtQkB/+zpwzoxKQM3MzMzMeFJAZmZmZmZqWEAAAAAAAFxeQM3MzMzMJmJAmpmZmZkfZUBmZmZmZhhoQDMzMzMzEWtAAAAAAAAKbkBmZmZmZoFwQM3MzMzM/XFAMzMzMzN6c0CamZmZmfZ0QAAAAAAAc3ZAZmZmZmbvd0DNzMzMzGt5QDMzMzMz6HpAmpmZmZlkfEAAAAAAAOF9QGZmZmZmXX9AZmZmZuZsgECamZmZGSuBQM3MzMxM6YFAAAAAAICngkAzMzMzs2WDQGZmZmbmI4RAmpmZmRnihEDNzMzMTKCFQAAAAACAXoZAMzMzM7Mch0BmZmZm5tqHQJqZmZkZmYhAzczMzExXiUAAAAAAgBWKQDMzMzOz04pAZmZmZuaRi0CamZmZGVCMQM3MzMxMDo1AAAAAAIDMjUAzMzMzs4qOQGZmZmbmSI9A\",\"dtype\":\"float64\",\"shape\":[75]}}},\"id\":\"24d8e550-d055-4ba8-a14a-a1cf3edbab48\",\"type\":\"ColumnDataSource\"},{\"attributes\":{\"line_alpha\":0.6,\"line_color\":\"#377eb8\",\"line_dash\":[2,4,6,4],\"line_width\":3,\"x\":{\"field\":\"x\"},\"y\":{\"field\":\"y\"}},\"id\":\"4587e642-22bc-45ff-9902-b769926bd087\",\"type\":\"Line\"},{\"attributes\":{\"data_source\":{\"id\":\"bf57e84d-8046-43a5-8dc0-4849d28e9e03\",\"type\":\"ColumnDataSource\"},\"glyph\":{\"id\":\"8e41f82a-c4e1-4d9e-b2fe-2511669017ab\",\"type\":\"Line\"},\"hover_glyph\":null,\"muted_glyph\":null,\"nonselection_glyph\":{\"id\":\"f456f448-f0d1-4767-be2e-c7de5c875292\",\"type\":\"Line\"},\"selection_glyph\":null,\"view\":{\"id\":\"2e66a414-c89a-41c1-a29c-f0c7917a2862\",\"type\":\"CDSView\"}},\"id\":\"8b08a5c2-2665-45a6-85a6-d0285f31e835\",\"type\":\"GlyphRenderer\"},{\"attributes\":{\"callback\":null,\"end\":1.7302021282999998,\"start\":-0.6251643583000001},\"id\":\"87a00442-a9ea-41a0-a00f-254ec15b729b\",\"type\":\"Range1d\"},{\"attributes\":{\"bottom_units\":\"screen\",\"fill_alpha\":{\"value\":0.5},\"fill_color\":{\"value\":\"lightgrey\"},\"left_units\":\"screen\",\"level\":\"overlay\",\"line_alpha\":{\"value\":1.0},\"line_color\":{\"value\":\"black\"},\"line_dash\":[4,4],\"line_width\":{\"value\":2},\"plot\":null,\"render_mode\":\"css\",\"right_units\":\"screen\",\"top_units\":\"screen\"},\"id\":\"ee01e3b5-b106-470d-b250-b5c1ed70ec81\",\"type\":\"BoxAnnotation\"},{\"attributes\":{\"line_alpha\":0.1,\"line_color\":\"#1f77b4\",\"line_dash\":[2,4,6,4],\"line_width\":3,\"x\":{\"field\":\"x\"},\"y\":{\"field\":\"y\"}},\"id\":\"294781f4-f3f5-4066-bf36-744ba1850da4\",\"type\":\"Line\"},{\"attributes\":{\"data_source\":{\"id\":\"ee39332d-ca95-4056-af1e-156ff7d4c716\",\"type\":\"ColumnDataSource\"},\"glyph\":{\"id\":\"602e37bd-978e-4b54-90fa-e308134f6fc8\",\"type\":\"Line\"},\"hover_glyph\":null,\"muted_glyph\":null,\"nonselection_glyph\":{\"id\":\"17013696-20b8-45c0-bc29-b27e2fa98ac7\",\"type\":\"Line\"},\"selection_glyph\":null,\"view\":{\"id\":\"57979c20-81ec-418d-b7c3-ab82a90780d3\",\"type\":\"CDSView\"}},\"id\":\"b6d3c65d-6c99-492f-a269-cda552c3d494\",\"type\":\"GlyphRenderer\"},{\"attributes\":{\"data_source\":{\"id\":\"60344902-4f92-4fc4-9d63-e9bff1eddf3b\",\"type\":\"ColumnDataSource\"},\"glyph\":{\"id\":\"4587e642-22bc-45ff-9902-b769926bd087\",\"type\":\"Line\"},\"hover_glyph\":null,\"muted_glyph\":null,\"nonselection_glyph\":{\"id\":\"294781f4-f3f5-4066-bf36-744ba1850da4\",\"type\":\"Line\"},\"selection_glyph\":null,\"view\":{\"id\":\"afd454e6-9a4e-4a3e-8a06-fe073133403a\",\"type\":\"CDSView\"}},\"id\":\"5b742de6-f4ac-4638-8595-8262b63c630b\",\"type\":\"GlyphRenderer\"},{\"attributes\":{\"fill_alpha\":{\"value\":0.7},\"fill_color\":{\"value\":\"#984ea3\"},\"line_alpha\":{\"value\":0.7},\"line_color\":{\"value\":\"#984ea3\"},\"x\":{\"field\":\"x\"},\"y\":{\"field\":\"y\"}},\"id\":\"0b7d2e7a-7f3f-4682-9e5d-7d2117ae5efe\",\"type\":\"Square\"},{\"attributes\":{\"fill_alpha\":{\"value\":0.7},\"fill_color\":{\"value\":\"#377eb8\"},\"line_alpha\":{\"value\":0.7},\"line_color\":{\"value\":\"#377eb8\"},\"x\":{\"field\":\"x\"},\"y\":{\"field\":\"y\"}},\"id\":\"1bb254b3-9ded-482f-8041-d46ea9f61e4a\",\"type\":\"InvertedTriangle\"},{\"attributes\":{\"source\":{\"id\":\"60344902-4f92-4fc4-9d63-e9bff1eddf3b\",\"type\":\"ColumnDataSource\"}},\"id\":\"afd454e6-9a4e-4a3e-8a06-fe073133403a\",\"type\":\"CDSView\"},{\"attributes\":{\"items\":[{\"id\":\"1dd05042-04e7-4b74-ade8-94bdd899e61b\",\"type\":\"LegendItem\"},{\"id\":\"4c2de8be-9913-4fcd-a07c-40f1886a7af0\",\"type\":\"LegendItem\"},{\"id\":\"ee803a47-9f93-4290-9242-23ad2743d6f1\",\"type\":\"LegendItem\"}],\"label_text_font_size\":{\"value\":\"8pt\"},\"location\":[10,-30],\"plot\":{\"id\":\"589f3976-e191-4f36-8f67-a9d7fc113b02\",\"subtype\":\"Figure\",\"type\":\"Plot\"}},\"id\":\"9cd01a0b-828c-4dee-90cb-c76772bbefe3\",\"type\":\"Legend\"},{\"attributes\":{\"fill_alpha\":{\"value\":0.7},\"fill_color\":{\"value\":\"#377eb8\"},\"line_alpha\":{\"value\":0.7},\"line_color\":{\"value\":\"#377eb8\"},\"x\":{\"field\":\"x\"},\"y\":{\"field\":\"y\"}},\"id\":\"37d63377-5874-4479-b604-4ccdd1463384\",\"type\":\"InvertedTriangle\"},{\"attributes\":{\"plot\":{\"id\":\"589f3976-e191-4f36-8f67-a9d7fc113b02\",\"subtype\":\"Figure\",\"type\":\"Plot\"},\"ticker\":{\"id\":\"ddba124d-ef75-4495-9c73-a5b76da1ba68\",\"type\":\"BasicTicker\"}},\"id\":\"689955c6-0e41-4b07-bc47-a906c58fa47c\",\"type\":\"Grid\"},{\"attributes\":{\"data_source\":{\"id\":\"8019daa8-fe2b-4e36-b650-6132ba6d528c\",\"type\":\"ColumnDataSource\"},\"glyph\":{\"id\":\"f4c4f4bc-11b7-4828-9e45-a5df47198dd5\",\"type\":\"Circle\"},\"hover_glyph\":null,\"muted_glyph\":null,\"nonselection_glyph\":{\"id\":\"068bb71a-479e-4b24-b238-1cc5e6de0138\",\"type\":\"Circle\"},\"selection_glyph\":null,\"view\":{\"id\":\"616bfa90-634d-4fbe-810b-4278cf21d375\",\"type\":\"CDSView\"}},\"id\":\"87add1dd-767a-483e-9747-aa4797e5522c\",\"type\":\"GlyphRenderer\"},{\"attributes\":{\"axis_label\":\"cooling rate [K/day]\",\"formatter\":{\"id\":\"dc36bcf2-5759-4109-80c9-f85358e0da10\",\"type\":\"BasicTickFormatter\"},\"plot\":{\"id\":\"589f3976-e191-4f36-8f67-a9d7fc113b02\",\"subtype\":\"Figure\",\"type\":\"Plot\"},\"ticker\":{\"id\":\"ddba124d-ef75-4495-9c73-a5b76da1ba68\",\"type\":\"BasicTicker\"}},\"id\":\"5be928f6-6e0e-4c1c-9cef-d33e3d9ca9b8\",\"type\":\"LinearAxis\"},{\"attributes\":{\"label\":{\"value\":\"CRD\"},\"renderers\":[{\"id\":\"87add1dd-767a-483e-9747-aa4797e5522c\",\"type\":\"GlyphRenderer\"},{\"id\":\"7c65a659-5f51-48eb-b87a-e8133fd22c27\",\"type\":\"GlyphRenderer\"}]},\"id\":\"1dd05042-04e7-4b74-ade8-94bdd899e61b\",\"type\":\"LegendItem\"},{\"attributes\":{\"label\":{\"value\":\"WGT igg=10\"},\"renderers\":[{\"id\":\"f2da8ad7-8f92-444b-b936-5866a7f85d2d\",\"type\":\"GlyphRenderer\"},{\"id\":\"05289ad8-1397-4af6-b8ab-d0137765a57b\",\"type\":\"GlyphRenderer\"}]},\"id\":\"4c2de8be-9913-4fcd-a07c-40f1886a7af0\",\"type\":\"LegendItem\"},{\"attributes\":{\"fill_alpha\":{\"value\":0.1},\"fill_color\":{\"value\":\"#1f77b4\"},\"line_alpha\":{\"value\":0.1},\"line_color\":{\"value\":\"#1f77b4\"},\"x\":{\"field\":\"x\"},\"y\":{\"field\":\"y\"}},\"id\":\"afd4a1df-60a4-42bc-8de5-863c68df1621\",\"type\":\"InvertedTriangle\"},{\"attributes\":{\"tools\":[{\"id\":\"d2af26b6-4d7a-4150-aa29-ea7e7ddebfd1\",\"type\":\"PanTool\"},{\"id\":\"d0e8deea-f249-4f7b-801f-38d9a550a760\",\"type\":\"WheelZoomTool\"},{\"id\":\"c8c47bdc-985a-4ec6-952d-a271c0bc2ba5\",\"type\":\"BoxZoomTool\"},{\"id\":\"d018fc7e-c4d2-4252-895e-de27132bb8eb\",\"type\":\"SaveTool\"},{\"id\":\"9ea0b2da-fd10-40af-bf3a-4b386404b5ae\",\"type\":\"ResetTool\"},{\"id\":\"9fe2db76-6e05-4934-a9f1-13e1c20de12b\",\"type\":\"HelpTool\"},{\"id\":\"d2cb5d01-241e-4de0-96ce-36fd55655331\",\"type\":\"PanTool\"},{\"id\":\"23d327be-67be-45b6-8a21-399af670d709\",\"type\":\"WheelZoomTool\"},{\"id\":\"d18a2153-92cd-4dfb-9716-ac536fe346a8\",\"type\":\"BoxZoomTool\"},{\"id\":\"5a8f34fc-1ae0-4836-b6b4-ea57c9c7d7ce\",\"type\":\"SaveTool\"},{\"id\":\"a65f5489-6a78-44ee-a1dc-49a75523c464\",\"type\":\"ResetTool\"},{\"id\":\"0c9c0508-fa3c-4f3c-80fb-29b336a7751d\",\"type\":\"HelpTool\"}]},\"id\":\"b8b0bb72-dabc-463e-bd2a-16e5b3e3e8e7\",\"type\":\"ProxyToolbar\"},{\"attributes\":{\"source\":{\"id\":\"8019daa8-fe2b-4e36-b650-6132ba6d528c\",\"type\":\"ColumnDataSource\"}},\"id\":\"616bfa90-634d-4fbe-810b-4278cf21d375\",\"type\":\"CDSView\"},{\"attributes\":{\"callback\":null,\"column_names\":[\"x\",\"y\"],\"data\":{\"x\":{\"__ndarray__\":\"igbsFPLbor+TJd0Qjzalv+56Nplbm6m/5Eeminxzrb9KNNRqQOuwv1eGBpyE1rK/oAwtacc4tL8hGZvrbv21v7DY08xie7e/bhUsJEwQub/fEiXG10O6vzixj2f6mbu/tTOOiXvJvL8BZGwR5rC9vxkaFVnn77y/CNq3b8L4tL8PbwGN9ARIvyHj1WKFlcE/G2VgkR3j1T/y+En3a/njP1C7yqD77u8/Pyzlxj7y9j/PotLjUlD7P0E6K1iZH/s//zuiQnVz+D+IgEOoUnPzP1GgkQAcuOs/AN5lM0Wo4j/wEEqIhyrYPyXRJuIILcc/uQHrrYsfrL+Vcb6e0KfRv5y/KpPxGt2/ATbeJYqT4b+o4Z10CYTgv6JRcGcVLNa/l61Q/7Qsxr/bcWDF6/K7v7EeZksw/ra/KXs+D11ss7961c087piwv67eqcwJ5Ku/CSm8J7ZSp79jOFqyg3qjv+s7yZq0UKC/faDsmICAm7/8enTZng+XvzH+ZCnl95K/nsjdMYaDjr9GFUyc36eHv5gP1KZ774C/ysVoeqEpdL8VtcHzFZdYv4CoVAILpGA/xcJET0eRdz9bw8mUT8qDP78ap+64S4w/hv5GkW6xkj/2CdBRb4+XP6jBx2/w1pw/JqhYavpCoT/VGLRdjyykPxQeS1dk/6Y/WXCGtQ2wqj9Do3jrtQauP4MsQ9BcnbA/Pszi7kFCsj/NC+/zkXSzP93lsyC6vrQ/+fdOCd5Jtj9pb7uT+Q64P2VM6pmYDbo/SAwrqrhQvD9mA5/VuO2+P5MRQP93I8E/\",\"dtype\":\"float64\",\"shape\":[75]},\"y\":{\"__ndarray__\":\"GhExyth1ND/Sv8nbtpRIP2vylNV0PVE/aTum7souWD/At0SJ8fVgPw3Iuahxymc/MSNhhJWvcD/bTfBN02d3P2zb5nxnaoA/CD5h5MAGhz8NmeH1TyaQP+zrCsc9p5Y/LbKd76fGnz/bLW5ISEmmPww9YvTcQq8/JV2OstnstT8Er5Y7M8G+P0c+r3jqkcU/5h99k6ZBzj88bCIzFzjVP4enV8oyxN0//yH99nXg5D8qOpLLf0jtP5kqGJXUifQ/c9cS8kHP/D+/DpwzojQEQIEmwoanVwxA4lgXt9HgE0BSSZ2AJuIbQAMJih9jjiNA5q4l5INuK0AwTKYKRj0zQNv5fmq8/DpAaCJseHrtQkB/+zpwzoxKQM3MzMzMeFJAZmZmZmZqWEAAAAAAAFxeQM3MzMzMJmJAmpmZmZkfZUBmZmZmZhhoQDMzMzMzEWtAAAAAAAAKbkBmZmZmZoFwQM3MzMzM/XFAMzMzMzN6c0CamZmZmfZ0QAAAAAAAc3ZAZmZmZmbvd0DNzMzMzGt5QDMzMzMz6HpAmpmZmZlkfEAAAAAAAOF9QGZmZmZmXX9AZmZmZuZsgECamZmZGSuBQM3MzMxM6YFAAAAAAICngkAzMzMzs2WDQGZmZmbmI4RAmpmZmRnihEDNzMzMTKCFQAAAAACAXoZAMzMzM7Mch0BmZmZm5tqHQJqZmZkZmYhAzczMzExXiUAAAAAAgBWKQDMzMzOz04pAZmZmZuaRi0CamZmZGVCMQM3MzMxMDo1AAAAAAIDMjUAzMzMzs4qOQGZmZmbmSI9A\",\"dtype\":\"float64\",\"shape\":[75]}}},\"id\":\"8019daa8-fe2b-4e36-b650-6132ba6d528c\",\"type\":\"ColumnDataSource\"},{\"attributes\":{\"toolbar\":{\"id\":\"b8b0bb72-dabc-463e-bd2a-16e5b3e3e8e7\",\"type\":\"ProxyToolbar\"},\"toolbar_location\":\"above\"},\"id\":\"5b0b282d-c1fe-4e82-838e-f8ca2a398132\",\"type\":\"ToolbarBox\"},{\"attributes\":{},\"id\":\"10b50f8d-d604-4e6f-8e62-f200a848006e\",\"type\":\"LinearScale\"},{\"attributes\":{\"label\":{\"value\":\"WGT igg=1\"},\"renderers\":[{\"id\":\"23530b2e-0f34-4428-acc7-1432d534baab\",\"type\":\"GlyphRenderer\"},{\"id\":\"5b742de6-f4ac-4638-8595-8262b63c630b\",\"type\":\"GlyphRenderer\"}]},\"id\":\"ee803a47-9f93-4290-9242-23ad2743d6f1\",\"type\":\"LegendItem\"},{\"attributes\":{\"children\":[{\"id\":\"5b0b282d-c1fe-4e82-838e-f8ca2a398132\",\"type\":\"ToolbarBox\"},{\"id\":\"caf5c5c6-bebe-458c-824a-5d06c826bb91\",\"type\":\"Column\"}]},\"id\":\"d9b594f5-cc73-46ae-9307-c5c7c4057df3\",\"type\":\"Column\"},{\"attributes\":{\"callback\":null,\"end\":0.01,\"start\":1020},\"id\":\"12dd9d2a-3891-4e54-bddf-846d8d2ebe67\",\"type\":\"Range1d\"},{\"attributes\":{\"callback\":null,\"column_names\":[\"x\",\"y\"],\"data\":{\"x\":{\"__ndarray__\":\"Kw0q4XGgoL+rDLB9a6Giv+SVaOzyfaa/Nm3gvYwqqr+ZJ/Np96atv7X9cgDZeLC/TyExI7cEsr9vOgS5hHazv3PeDvM2zbS/o3f37vnbtb/4eNePA2W+v5GG1Gb8eLi/3uacvu92ub+pY/j87iW6v6s2xQSxQ7u/fMvKZnassr8XG+IdnzxBv+VAMMNWO8A/bwwBwLGn1D+dItEVttDiP/NFlFkxWu4/DamieJXV9T8Zoxqbwm/6P1CBOLRtvfo/7YuV4vR/+D/dflQeOMLzP1nPWht08+w/2xLa7vVA5D9bKcJVt13bPyaRO3ST+8w/YyUodhtxnr9tqjCunxvRv0JOb7Fo292/NRSQWWqb4r8Ev9OF1MThv+v6ifMFZ9e/LfwqCgW2xr9Xs2vOA1C8v/73gkRKG7e/0DmEmdJUs786S4lXa76wvzm0+K/U/Ku/nTB1GBJ+p79zJFPik36jv3mssTVvXaC/cuTrrMLYm79SNucLGi2Xv2z9ZPTyJ5O/RvS0wV5oj78UFq+O8LGIvxipse0G64G/TmIJVTW7db+F5/8/0D1jv9RkfuGZuFM//3nJ6Eh6dT/IJT8/W2mBPwFzNBRl2Yk/EeursLtukT/1+u6xT1uWP730h0pJLZs/RMbTjdhwoD9GmzQkJlyjP/GvgGoFS6Y/Fxf9VwwNqj/hVOjf1UKuPxWqsic1v7A/z68TgkjLsj//FY8RpGC0P7tBbYEoC7Y/QkFZk8/0tz/rcHSV7q66P9gvVNU2i7w/Cwel3Dtyvz/zGfW103vBP9IYUuo3OMM/\",\"dtype\":\"float64\",\"shape\":[75]},\"y\":{\"__ndarray__\":\"GhExyth1ND/Sv8nbtpRIP2vylNV0PVE/aTum7souWD/At0SJ8fVgPw3Iuahxymc/MSNhhJWvcD/bTfBN02d3P2zb5nxnaoA/CD5h5MAGhz8NmeH1TyaQP+zrCsc9p5Y/LbKd76fGnz/bLW5ISEmmPww9YvTcQq8/JV2OstnstT8Er5Y7M8G+P0c+r3jqkcU/5h99k6ZBzj88bCIzFzjVP4enV8oyxN0//yH99nXg5D8qOpLLf0jtP5kqGJXUifQ/c9cS8kHP/D+/DpwzojQEQIEmwoanVwxA4lgXt9HgE0BSSZ2AJuIbQAMJih9jjiNA5q4l5INuK0AwTKYKRj0zQNv5fmq8/DpAaCJseHrtQkB/+zpwzoxKQM3MzMzMeFJAZmZmZmZqWEAAAAAAAFxeQM3MzMzMJmJAmpmZmZkfZUBmZmZmZhhoQDMzMzMzEWtAAAAAAAAKbkBmZmZmZoFwQM3MzMzM/XFAMzMzMzN6c0CamZmZmfZ0QAAAAAAAc3ZAZmZmZmbvd0DNzMzMzGt5QDMzMzMz6HpAmpmZmZlkfEAAAAAAAOF9QGZmZmZmXX9AZmZmZuZsgECamZmZGSuBQM3MzMxM6YFAAAAAAICngkAzMzMzs2WDQGZmZmbmI4RAmpmZmRnihEDNzMzMTKCFQAAAAACAXoZAMzMzM7Mch0BmZmZm5tqHQJqZmZkZmYhAzczMzExXiUAAAAAAgBWKQDMzMzOz04pAZmZmZuaRi0CamZmZGVCMQM3MzMxMDo1AAAAAAIDMjUAzMzMzs4qOQGZmZmbmSI9A\",\"dtype\":\"float64\",\"shape\":[75]}}},\"id\":\"60344902-4f92-4fc4-9d63-e9bff1eddf3b\",\"type\":\"ColumnDataSource\"},{\"attributes\":{\"callback\":null,\"column_names\":[\"x\",\"y\"],\"data\":{\"x\":{\"__ndarray__\":\"igbsFPLbor+TJd0Qjzalv+56Nplbm6m/5Eeminxzrb9KNNRqQOuwv1eGBpyE1rK/oAwtacc4tL8hGZvrbv21v7DY08xie7e/bhUsJEwQub/fEiXG10O6vzixj2f6mbu/tTOOiXvJvL8BZGwR5rC9vxkaFVnn77y/CNq3b8L4tL8PbwGN9ARIvyHj1WKFlcE/G2VgkR3j1T/y+En3a/njP1C7yqD77u8/Pyzlxj7y9j/PotLjUlD7P0E6K1iZH/s//zuiQnVz+D+IgEOoUnPzP1GgkQAcuOs/AN5lM0Wo4j/wEEqIhyrYPyXRJuIILcc/uQHrrYsfrL+Vcb6e0KfRv5y/KpPxGt2/ATbeJYqT4b+o4Z10CYTgv6JRcGcVLNa/l61Q/7Qsxr/bcWDF6/K7v7EeZksw/ra/KXs+D11ss7961c087piwv67eqcwJ5Ku/CSm8J7ZSp79jOFqyg3qjv+s7yZq0UKC/faDsmICAm7/8enTZng+XvzH+ZCnl95K/nsjdMYaDjr9GFUyc36eHv5gP1KZ774C/ysVoeqEpdL8VtcHzFZdYv4CoVAILpGA/xcJET0eRdz9bw8mUT8qDP78ap+64S4w/hv5GkW6xkj/2CdBRb4+XP6jBx2/w1pw/JqhYavpCoT/VGLRdjyykPxQeS1dk/6Y/WXCGtQ2wqj9Do3jrtQauP4MsQ9BcnbA/Pszi7kFCsj/NC+/zkXSzP93lsyC6vrQ/+fdOCd5Jtj9pb7uT+Q64P2VM6pmYDbo/SAwrqrhQvD9mA5/VuO2+P5MRQP93I8E/\",\"dtype\":\"float64\",\"shape\":[75]},\"y\":{\"__ndarray__\":\"GhExyth1ND/Sv8nbtpRIP2vylNV0PVE/aTum7souWD/At0SJ8fVgPw3Iuahxymc/MSNhhJWvcD/bTfBN02d3P2zb5nxnaoA/CD5h5MAGhz8NmeH1TyaQP+zrCsc9p5Y/LbKd76fGnz/bLW5ISEmmPww9YvTcQq8/JV2OstnstT8Er5Y7M8G+P0c+r3jqkcU/5h99k6ZBzj88bCIzFzjVP4enV8oyxN0//yH99nXg5D8qOpLLf0jtP5kqGJXUifQ/c9cS8kHP/D+/DpwzojQEQIEmwoanVwxA4lgXt9HgE0BSSZ2AJuIbQAMJih9jjiNA5q4l5INuK0AwTKYKRj0zQNv5fmq8/DpAaCJseHrtQkB/+zpwzoxKQM3MzMzMeFJAZmZmZmZqWEAAAAAAAFxeQM3MzMzMJmJAmpmZmZkfZUBmZmZmZhhoQDMzMzMzEWtAAAAAAAAKbkBmZmZmZoFwQM3MzMzM/XFAMzMzMzN6c0CamZmZmfZ0QAAAAAAAc3ZAZmZmZmbvd0DNzMzMzGt5QDMzMzMz6HpAmpmZmZlkfEAAAAAAAOF9QGZmZmZmXX9AZmZmZuZsgECamZmZGSuBQM3MzMxM6YFAAAAAAICngkAzMzMzs2WDQGZmZmbmI4RAmpmZmRnihEDNzMzMTKCFQAAAAACAXoZAMzMzM7Mch0BmZmZm5tqHQJqZmZkZmYhAzczMzExXiUAAAAAAgBWKQDMzMzOz04pAZmZmZuaRi0CamZmZGVCMQM3MzMxMDo1AAAAAAIDMjUAzMzMzs4qOQGZmZmbmSI9A\",\"dtype\":\"float64\",\"shape\":[75]}}},\"id\":\"6b83c32a-ddfe-49b2-a6fe-c063a853fe94\",\"type\":\"ColumnDataSource\"},{\"attributes\":{},\"id\":\"5a8f34fc-1ae0-4836-b6b4-ea57c9c7d7ce\",\"type\":\"SaveTool\"},{\"attributes\":{\"callback\":null,\"column_names\":[\"x\",\"y\"],\"data\":{\"x\":{\"__ndarray__\":\"Kw0q4XGgoL+rDLB9a6Giv+SVaOzyfaa/Nm3gvYwqqr+ZJ/Np96atv7X9cgDZeLC/TyExI7cEsr9vOgS5hHazv3PeDvM2zbS/o3f37vnbtb/4eNePA2W+v5GG1Gb8eLi/3uacvu92ub+pY/j87iW6v6s2xQSxQ7u/fMvKZnassr8XG+IdnzxBv+VAMMNWO8A/bwwBwLGn1D+dItEVttDiP/NFlFkxWu4/DamieJXV9T8Zoxqbwm/6P1CBOLRtvfo/7YuV4vR/+D/dflQeOMLzP1nPWht08+w/2xLa7vVA5D9bKcJVt13bPyaRO3ST+8w/YyUodhtxnr9tqjCunxvRv0JOb7Fo292/NRSQWWqb4r8Ev9OF1MThv+v6ifMFZ9e/LfwqCgW2xr9Xs2vOA1C8v/73gkRKG7e/0DmEmdJUs786S4lXa76wvzm0+K/U/Ku/nTB1GBJ+p79zJFPik36jv3mssTVvXaC/cuTrrMLYm79SNucLGi2Xv2z9ZPTyJ5O/RvS0wV5oj78UFq+O8LGIvxipse0G64G/TmIJVTW7db+F5/8/0D1jv9RkfuGZuFM//3nJ6Eh6dT/IJT8/W2mBPwFzNBRl2Yk/EeursLtukT/1+u6xT1uWP730h0pJLZs/RMbTjdhwoD9GmzQkJlyjP/GvgGoFS6Y/Fxf9VwwNqj/hVOjf1UKuPxWqsic1v7A/z68TgkjLsj//FY8RpGC0P7tBbYEoC7Y/QkFZk8/0tz/rcHSV7q66P9gvVNU2i7w/Cwel3Dtyvz/zGfW103vBP9IYUuo3OMM/\",\"dtype\":\"float64\",\"shape\":[75]},\"y\":{\"__ndarray__\":\"GhExyth1ND/Sv8nbtpRIP2vylNV0PVE/aTum7souWD/At0SJ8fVgPw3Iuahxymc/MSNhhJWvcD/bTfBN02d3P2zb5nxnaoA/CD5h5MAGhz8NmeH1TyaQP+zrCsc9p5Y/LbKd76fGnz/bLW5ISEmmPww9YvTcQq8/JV2OstnstT8Er5Y7M8G+P0c+r3jqkcU/5h99k6ZBzj88bCIzFzjVP4enV8oyxN0//yH99nXg5D8qOpLLf0jtP5kqGJXUifQ/c9cS8kHP/D+/DpwzojQEQIEmwoanVwxA4lgXt9HgE0BSSZ2AJuIbQAMJih9jjiNA5q4l5INuK0AwTKYKRj0zQNv5fmq8/DpAaCJseHrtQkB/+zpwzoxKQM3MzMzMeFJAZmZmZmZqWEAAAAAAAFxeQM3MzMzMJmJAmpmZmZkfZUBmZmZmZhhoQDMzMzMzEWtAAAAAAAAKbkBmZmZmZoFwQM3MzMzM/XFAMzMzMzN6c0CamZmZmfZ0QAAAAAAAc3ZAZmZmZmbvd0DNzMzMzGt5QDMzMzMz6HpAmpmZmZlkfEAAAAAAAOF9QGZmZmZmXX9AZmZmZuZsgECamZmZGSuBQM3MzMxM6YFAAAAAAICngkAzMzMzs2WDQGZmZmbmI4RAmpmZmRnihEDNzMzMTKCFQAAAAACAXoZAMzMzM7Mch0BmZmZm5tqHQJqZmZkZmYhAzczMzExXiUAAAAAAgBWKQDMzMzOz04pAZmZmZuaRi0CamZmZGVCMQM3MzMxMDo1AAAAAAIDMjUAzMzMzs4qOQGZmZmbmSI9A\",\"dtype\":\"float64\",\"shape\":[75]}}},\"id\":\"6263af07-9710-4668-9d3e-c6ce7906d94c\",\"type\":\"ColumnDataSource\"},{\"attributes\":{\"source\":{\"id\":\"ee39332d-ca95-4056-af1e-156ff7d4c716\",\"type\":\"ColumnDataSource\"}},\"id\":\"57979c20-81ec-418d-b7c3-ab82a90780d3\",\"type\":\"CDSView\"},{\"attributes\":{\"data_source\":{\"id\":\"bcb18526-fd70-46a4-a4dc-d6520cb476ec\",\"type\":\"ColumnDataSource\"},\"glyph\":{\"id\":\"37d63377-5874-4479-b604-4ccdd1463384\",\"type\":\"InvertedTriangle\"},\"hover_glyph\":null,\"muted_glyph\":null,\"nonselection_glyph\":{\"id\":\"fcbd2ed0-bb74-42dc-a390-bae1bdaa0eec\",\"type\":\"InvertedTriangle\"},\"selection_glyph\":null,\"view\":{\"id\":\"3cbe986f-a70f-44f8-be61-a8598f29583d\",\"type\":\"CDSView\"}},\"id\":\"652147c2-fdf7-4d69-915a-c5d0c6bc7ab5\",\"type\":\"GlyphRenderer\"},{\"attributes\":{},\"id\":\"3c1363de-08a3-487c-bb95-babef8d42509\",\"type\":\"LinearScale\"},{\"attributes\":{},\"id\":\"5aaf3c97-47b5-4f42-8235-ea2907b763e1\",\"type\":\"LogScale\"},{\"attributes\":{\"active_drag\":\"auto\",\"active_inspect\":\"auto\",\"active_scroll\":\"auto\",\"active_tap\":\"auto\",\"tools\":[{\"id\":\"d2cb5d01-241e-4de0-96ce-36fd55655331\",\"type\":\"PanTool\"},{\"id\":\"23d327be-67be-45b6-8a21-399af670d709\",\"type\":\"WheelZoomTool\"},{\"id\":\"d18a2153-92cd-4dfb-9716-ac536fe346a8\",\"type\":\"BoxZoomTool\"},{\"id\":\"5a8f34fc-1ae0-4836-b6b4-ea57c9c7d7ce\",\"type\":\"SaveTool\"},{\"id\":\"a65f5489-6a78-44ee-a1dc-49a75523c464\",\"type\":\"ResetTool\"},{\"id\":\"0c9c0508-fa3c-4f3c-80fb-29b336a7751d\",\"type\":\"HelpTool\"}]},\"id\":\"0ab3ecf7-802c-42ec-9ee6-0ae470103565\",\"type\":\"Toolbar\"},{\"attributes\":{\"line_alpha\":0.1,\"line_color\":\"#1f77b4\",\"line_width\":3,\"x\":{\"field\":\"x\"},\"y\":{\"field\":\"y\"}},\"id\":\"f456f448-f0d1-4767-be2e-c7de5c875292\",\"type\":\"Line\"},{\"attributes\":{\"callback\":null,\"column_names\":[\"x\",\"y\"],\"data\":{\"x\":{\"__ndarray__\":\"Kw0q4XGgoL+rDLB9a6Giv+SVaOzyfaa/Nm3gvYwqqr+ZJ/Np96atv7X9cgDZeLC/TyExI7cEsr9vOgS5hHazv3PeDvM2zbS/o3f37vnbtb/4eNePA2W+v5GG1Gb8eLi/3uacvu92ub+pY/j87iW6v6s2xQSxQ7u/fMvKZnassr8XG+IdnzxBv+VAMMNWO8A/bwwBwLGn1D+dItEVttDiP/NFlFkxWu4/DamieJXV9T8Zoxqbwm/6P1CBOLRtvfo/7YuV4vR/+D/dflQeOMLzP1nPWht08+w/2xLa7vVA5D9bKcJVt13bPyaRO3ST+8w/YyUodhtxnr9tqjCunxvRv0JOb7Fo292/NRSQWWqb4r8Ev9OF1MThv+v6ifMFZ9e/LfwqCgW2xr9Xs2vOA1C8v/73gkRKG7e/0DmEmdJUs786S4lXa76wvzm0+K/U/Ku/nTB1GBJ+p79zJFPik36jv3mssTVvXaC/cuTrrMLYm79SNucLGi2Xv2z9ZPTyJ5O/RvS0wV5oj78UFq+O8LGIvxipse0G64G/TmIJVTW7db+F5/8/0D1jv9RkfuGZuFM//3nJ6Eh6dT/IJT8/W2mBPwFzNBRl2Yk/EeursLtukT/1+u6xT1uWP730h0pJLZs/RMbTjdhwoD9GmzQkJlyjP/GvgGoFS6Y/Fxf9VwwNqj/hVOjf1UKuPxWqsic1v7A/z68TgkjLsj//FY8RpGC0P7tBbYEoC7Y/QkFZk8/0tz/rcHSV7q66P9gvVNU2i7w/Cwel3Dtyvz/zGfW103vBP9IYUuo3OMM/\",\"dtype\":\"float64\",\"shape\":[75]},\"y\":{\"__ndarray__\":\"GhExyth1ND/Sv8nbtpRIP2vylNV0PVE/aTum7souWD/At0SJ8fVgPw3Iuahxymc/MSNhhJWvcD/bTfBN02d3P2zb5nxnaoA/CD5h5MAGhz8NmeH1TyaQP+zrCsc9p5Y/LbKd76fGnz/bLW5ISEmmPww9YvTcQq8/JV2OstnstT8Er5Y7M8G+P0c+r3jqkcU/5h99k6ZBzj88bCIzFzjVP4enV8oyxN0//yH99nXg5D8qOpLLf0jtP5kqGJXUifQ/c9cS8kHP/D+/DpwzojQEQIEmwoanVwxA4lgXt9HgE0BSSZ2AJuIbQAMJih9jjiNA5q4l5INuK0AwTKYKRj0zQNv5fmq8/DpAaCJseHrtQkB/+zpwzoxKQM3MzMzMeFJAZmZmZmZqWEAAAAAAAFxeQM3MzMzMJmJAmpmZmZkfZUBmZmZmZhhoQDMzMzMzEWtAAAAAAAAKbkBmZmZmZoFwQM3MzMzM/XFAMzMzMzN6c0CamZmZmfZ0QAAAAAAAc3ZAZmZmZmbvd0DNzMzMzGt5QDMzMzMz6HpAmpmZmZlkfEAAAAAAAOF9QGZmZmZmXX9AZmZmZuZsgECamZmZGSuBQM3MzMxM6YFAAAAAAICngkAzMzMzs2WDQGZmZmbmI4RAmpmZmRnihEDNzMzMTKCFQAAAAACAXoZAMzMzM7Mch0BmZmZm5tqHQJqZmZkZmYhAzczMzExXiUAAAAAAgBWKQDMzMzOz04pAZmZmZuaRi0CamZmZGVCMQM3MzMxMDo1AAAAAAIDMjUAzMzMzs4qOQGZmZmbmSI9A\",\"dtype\":\"float64\",\"shape\":[75]}}},\"id\":\"ee39332d-ca95-4056-af1e-156ff7d4c716\",\"type\":\"ColumnDataSource\"},{\"attributes\":{\"plot\":null,\"text\":\"Log pressure scale\"},\"id\":\"208bd969-a373-4cab-af98-6853592e8d81\",\"type\":\"Title\"},{\"attributes\":{},\"id\":\"dc36bcf2-5759-4109-80c9-f85358e0da10\",\"type\":\"BasicTickFormatter\"},{\"attributes\":{\"below\":[{\"id\":\"5be928f6-6e0e-4c1c-9cef-d33e3d9ca9b8\",\"type\":\"LinearAxis\"}],\"left\":[{\"id\":\"6fd5211f-6012-4921-a65f-39dff46134a7\",\"type\":\"LogAxis\"}],\"plot_height\":500,\"plot_width\":560,\"renderers\":[{\"id\":\"5be928f6-6e0e-4c1c-9cef-d33e3d9ca9b8\",\"type\":\"LinearAxis\"},{\"id\":\"689955c6-0e41-4b07-bc47-a906c58fa47c\",\"type\":\"Grid\"},{\"id\":\"6fd5211f-6012-4921-a65f-39dff46134a7\",\"type\":\"LogAxis\"},{\"id\":\"937c7b1f-3ae5-4af2-96b6-d0a38acadb40\",\"type\":\"Grid\"},{\"id\":\"ee01e3b5-b106-470d-b250-b5c1ed70ec81\",\"type\":\"BoxAnnotation\"},{\"id\":\"87add1dd-767a-483e-9747-aa4797e5522c\",\"type\":\"GlyphRenderer\"},{\"id\":\"7c65a659-5f51-48eb-b87a-e8133fd22c27\",\"type\":\"GlyphRenderer\"},{\"id\":\"f2da8ad7-8f92-444b-b936-5866a7f85d2d\",\"type\":\"GlyphRenderer\"},{\"id\":\"05289ad8-1397-4af6-b8ab-d0137765a57b\",\"type\":\"GlyphRenderer\"},{\"id\":\"23530b2e-0f34-4428-acc7-1432d534baab\",\"type\":\"GlyphRenderer\"},{\"id\":\"5b742de6-f4ac-4638-8595-8262b63c630b\",\"type\":\"GlyphRenderer\"},{\"id\":\"9cd01a0b-828c-4dee-90cb-c76772bbefe3\",\"type\":\"Legend\"}],\"right\":[{\"id\":\"9cd01a0b-828c-4dee-90cb-c76772bbefe3\",\"type\":\"Legend\"}],\"title\":{\"id\":\"208bd969-a373-4cab-af98-6853592e8d81\",\"type\":\"Title\"},\"toolbar\":{\"id\":\"0ab3ecf7-802c-42ec-9ee6-0ae470103565\",\"type\":\"Toolbar\"},\"toolbar_location\":null,\"x_range\":{\"id\":\"87a00442-a9ea-41a0-a00f-254ec15b729b\",\"type\":\"Range1d\"},\"x_scale\":{\"id\":\"05b7aa2d-631e-4fd0-9437-21ff666e1a21\",\"type\":\"LinearScale\"},\"y_range\":{\"id\":\"12dd9d2a-3891-4e54-bddf-846d8d2ebe67\",\"type\":\"Range1d\"},\"y_scale\":{\"id\":\"5aaf3c97-47b5-4f42-8235-ea2907b763e1\",\"type\":\"LogScale\"}},\"id\":\"589f3976-e191-4f36-8f67-a9d7fc113b02\",\"subtype\":\"Figure\",\"type\":\"Plot\"},{\"attributes\":{\"line_color\":\"#4daf4a\",\"line_width\":1.5,\"x\":{\"field\":\"x\"},\"y\":{\"field\":\"y\"}},\"id\":\"7ddffe2d-92fe-4175-9ffe-668d33d75091\",\"type\":\"Line\"},{\"attributes\":{},\"id\":\"a65f5489-6a78-44ee-a1dc-49a75523c464\",\"type\":\"ResetTool\"},{\"attributes\":{\"fill_alpha\":{\"value\":0.1},\"fill_color\":{\"value\":\"#1f77b4\"},\"line_alpha\":{\"value\":0.1},\"line_color\":{\"value\":\"#1f77b4\"},\"x\":{\"field\":\"x\"},\"y\":{\"field\":\"y\"}},\"id\":\"068bb71a-479e-4b24-b238-1cc5e6de0138\",\"type\":\"Circle\"},{\"attributes\":{\"fill_alpha\":{\"value\":0.7},\"fill_color\":{\"value\":\"#4daf4a\"},\"line_alpha\":{\"value\":0.7},\"line_color\":{\"value\":\"#4daf4a\"},\"x\":{\"field\":\"x\"},\"y\":{\"field\":\"y\"}},\"id\":\"f4c4f4bc-11b7-4828-9e45-a5df47198dd5\",\"type\":\"Circle\"},{\"attributes\":{\"source\":{\"id\":\"bf57e84d-8046-43a5-8dc0-4849d28e9e03\",\"type\":\"ColumnDataSource\"}},\"id\":\"2e66a414-c89a-41c1-a29c-f0c7917a2862\",\"type\":\"CDSView\"},{\"attributes\":{\"fill_alpha\":{\"value\":0.1},\"fill_color\":{\"value\":\"#1f77b4\"},\"line_alpha\":{\"value\":0.1},\"line_color\":{\"value\":\"#1f77b4\"},\"x\":{\"field\":\"x\"},\"y\":{\"field\":\"y\"}},\"id\":\"7f42755e-945a-4cc8-844a-eb43185e9d28\",\"type\":\"Square\"},{\"attributes\":{\"data_source\":{\"id\":\"6263af07-9710-4668-9d3e-c6ce7906d94c\",\"type\":\"ColumnDataSource\"},\"glyph\":{\"id\":\"1bb254b3-9ded-482f-8041-d46ea9f61e4a\",\"type\":\"InvertedTriangle\"},\"hover_glyph\":null,\"muted_glyph\":null,\"nonselection_glyph\":{\"id\":\"afd4a1df-60a4-42bc-8de5-863c68df1621\",\"type\":\"InvertedTriangle\"},\"selection_glyph\":null,\"view\":{\"id\":\"cf5f64dc-f690-461e-bfcd-66e4341b1795\",\"type\":\"CDSView\"}},\"id\":\"23530b2e-0f34-4428-acc7-1432d534baab\",\"type\":\"GlyphRenderer\"},{\"attributes\":{},\"id\":\"36374b7d-ad3a-4c60-a319-332cabfbac94\",\"type\":\"BasicTicker\"},{\"attributes\":{\"fill_alpha\":{\"value\":0.1},\"fill_color\":{\"value\":\"#1f77b4\"},\"line_alpha\":{\"value\":0.1},\"line_color\":{\"value\":\"#1f77b4\"},\"x\":{\"field\":\"x\"},\"y\":{\"field\":\"y\"}},\"id\":\"b2f086c6-f54b-48e7-a13a-c4a553be6970\",\"type\":\"Circle\"},{\"attributes\":{\"line_alpha\":0.6,\"line_color\":\"#377eb8\",\"line_dash\":[2,4,6,4],\"line_width\":3,\"x\":{\"field\":\"x\"},\"y\":{\"field\":\"y\"}},\"id\":\"602e37bd-978e-4b54-90fa-e308134f6fc8\",\"type\":\"Line\"},{\"attributes\":{\"source\":{\"id\":\"44fb0711-45b9-4e60-be3a-014917aff1b9\",\"type\":\"ColumnDataSource\"}},\"id\":\"01348324-0b36-4eb6-8ea2-e595dc4aac21\",\"type\":\"CDSView\"},{\"attributes\":{\"source\":{\"id\":\"6263af07-9710-4668-9d3e-c6ce7906d94c\",\"type\":\"ColumnDataSource\"}},\"id\":\"cf5f64dc-f690-461e-bfcd-66e4341b1795\",\"type\":\"CDSView\"},{\"attributes\":{},\"id\":\"0c9c0508-fa3c-4f3c-80fb-29b336a7751d\",\"type\":\"HelpTool\"},{\"attributes\":{\"plot\":{\"id\":\"e1d01b34-03d5-4769-a858-95f6155fcc49\",\"subtype\":\"Figure\",\"type\":\"Plot\"},\"ticker\":{\"id\":\"36374b7d-ad3a-4c60-a319-332cabfbac94\",\"type\":\"BasicTicker\"}},\"id\":\"c8829a5c-1689-4c43-8624-80de73927d5a\",\"type\":\"Grid\"},{\"attributes\":{\"dimension\":1,\"plot\":{\"id\":\"589f3976-e191-4f36-8f67-a9d7fc113b02\",\"subtype\":\"Figure\",\"type\":\"Plot\"},\"ticker\":{\"id\":\"4df992db-722a-4e05-a561-ed4b6810ebe1\",\"type\":\"LogTicker\"}},\"id\":\"937c7b1f-3ae5-4af2-96b6-d0a38acadb40\",\"type\":\"Grid\"},{\"attributes\":{\"axis_label\":\"pressure [mb]\",\"formatter\":{\"id\":\"68ce997f-b2df-4e40-8e1c-e2d9f7a5c211\",\"type\":\"LogTickFormatter\"},\"plot\":{\"id\":\"589f3976-e191-4f36-8f67-a9d7fc113b02\",\"subtype\":\"Figure\",\"type\":\"Plot\"},\"ticker\":{\"id\":\"4df992db-722a-4e05-a561-ed4b6810ebe1\",\"type\":\"LogTicker\"}},\"id\":\"6fd5211f-6012-4921-a65f-39dff46134a7\",\"type\":\"LogAxis\"},{\"attributes\":{\"ticker\":null},\"id\":\"68ce997f-b2df-4e40-8e1c-e2d9f7a5c211\",\"type\":\"LogTickFormatter\"},{\"attributes\":{\"overlay\":{\"id\":\"ee01e3b5-b106-470d-b250-b5c1ed70ec81\",\"type\":\"BoxAnnotation\"}},\"id\":\"d18a2153-92cd-4dfb-9716-ac536fe346a8\",\"type\":\"BoxZoomTool\"},{\"attributes\":{},\"id\":\"23d327be-67be-45b6-8a21-399af670d709\",\"type\":\"WheelZoomTool\"},{\"attributes\":{\"fill_alpha\":{\"value\":0.7},\"fill_color\":{\"value\":\"#4daf4a\"},\"line_alpha\":{\"value\":0.7},\"line_color\":{\"value\":\"#4daf4a\"},\"x\":{\"field\":\"x\"},\"y\":{\"field\":\"y\"}},\"id\":\"0b208924-9394-4a34-883d-874ba02899d8\",\"type\":\"Circle\"},{\"attributes\":{\"source\":{\"id\":\"f8141b3b-d356-4a46-a26d-b3db202ebe55\",\"type\":\"ColumnDataSource\"}},\"id\":\"efc1395c-d47d-4d18-b70b-58206fbd6004\",\"type\":\"CDSView\"},{\"attributes\":{\"data_source\":{\"id\":\"24d8e550-d055-4ba8-a14a-a1cf3edbab48\",\"type\":\"ColumnDataSource\"},\"glyph\":{\"id\":\"0b7d2e7a-7f3f-4682-9e5d-7d2117ae5efe\",\"type\":\"Square\"},\"hover_glyph\":null,\"muted_glyph\":null,\"nonselection_glyph\":{\"id\":\"7f42755e-945a-4cc8-844a-eb43185e9d28\",\"type\":\"Square\"},\"selection_glyph\":null,\"view\":{\"id\":\"9c94410f-5a4b-485b-bdb2-2fb9f34a7877\",\"type\":\"CDSView\"}},\"id\":\"fdbc9755-f614-4a03-8308-89b8c3ab0aed\",\"type\":\"GlyphRenderer\"},{\"attributes\":{\"fill_alpha\":{\"value\":0.7},\"fill_color\":{\"value\":\"#984ea3\"},\"line_alpha\":{\"value\":0.7},\"line_color\":{\"value\":\"#984ea3\"},\"x\":{\"field\":\"x\"},\"y\":{\"field\":\"y\"}},\"id\":\"b8310b35-161b-4143-840e-547e17346748\",\"type\":\"Square\"},{\"attributes\":{\"data_source\":{\"id\":\"6b83c32a-ddfe-49b2-a6fe-c063a853fe94\",\"type\":\"ColumnDataSource\"},\"glyph\":{\"id\":\"7ddffe2d-92fe-4175-9ffe-668d33d75091\",\"type\":\"Line\"},\"hover_glyph\":null,\"muted_glyph\":null,\"nonselection_glyph\":{\"id\":\"864a81fa-fb83-4695-ae62-77ff2c565810\",\"type\":\"Line\"},\"selection_glyph\":null,\"view\":{\"id\":\"0f94b0d6-bf29-4a99-ade4-0f69c949e342\",\"type\":\"CDSView\"}},\"id\":\"7c65a659-5f51-48eb-b87a-e8133fd22c27\",\"type\":\"GlyphRenderer\"},{\"attributes\":{\"num_minor_ticks\":10},\"id\":\"4df992db-722a-4e05-a561-ed4b6810ebe1\",\"type\":\"LogTicker\"},{\"attributes\":{\"callback\":null,\"end\":0.157507113,\"start\":-0.5925971130000001},\"id\":\"6ff01664-6dd2-498d-9615-234c24cf2ff6\",\"type\":\"Range1d\"},{\"attributes\":{\"callback\":null,\"column_names\":[\"x\",\"y\"],\"data\":{\"x\":{\"__ndarray__\":\"+1sW1DZMnr89ZvF5/f2gvxSHFWlAj6S/5jKyh535p791mcWEyzyrv+QCRH9wV66/LheW5CWksL/GSX0zEweyv72lJSFUU7O/QzDFV2aKtL/K10xbr6u1v/xCWCVCt7a/hmq6Bsyvt7/lqQJGe2K4vxCnOLMC6Le/PwMkeTIosr8ZYcnWrJOAv/YEcFBO9ro/3peOlIgL0j87/X8gaSXhP/sjyubDNuw/3fAWowmv9D/lGrD1Vm75P06uztZmSPo/9KOG20YI+D+335D8d9PyPyKET4yPY+o/zvLIYSju4T+SZuIMtDHYP/23N2Sor8k/KXNMRjA2o7+pNUkDqoXRv6L/L+jOXd6/eHBFnC1E478fqK7XT7riv7QPBXXCcti/7tGXtX8rx79Aa58Kj2i8v0L1+IWjILe/jTcTgj5Zs7+p8FOUzGOwv9HxQIDmVau/hEjcHBS4pr+KtTwy/eKiv6zoGT+wip+/d4NWyqyKmr8Ls2jr9ESWv1GGy6YzYpK/QwbgCTfFjb/8frhL5WSHv/m75982I4G/3LfCCqOYdb91/3BJqRphv8tYj+hOClQ/MOCr7dRCcz8jHvAM2CaBPxc9v0HeH4k/9b+WNqDOkD8sEUAbzVKVP5Dc5gKhOZo/rX0v9VuKnz8IGPiyNouiP1yWDz4dWqU/jc8O/4MkqT/3Bsd7weasP6SOVgEzabA/HAEmuniJsj8E5t82bD60P2VWV1SwBbY/k/Xqz70IuD/VRtDzAke6P3v2XKYmwbw/QP6QhmyDvz9OQkw23E/BP0TQJPPALsM/\",\"dtype\":\"float64\",\"shape\":[75]},\"y\":{\"__ndarray__\":\"GhExyth1ND/Sv8nbtpRIP2vylNV0PVE/aTum7souWD/At0SJ8fVgPw3Iuahxymc/MSNhhJWvcD/bTfBN02d3P2zb5nxnaoA/CD5h5MAGhz8NmeH1TyaQP+zrCsc9p5Y/LbKd76fGnz/bLW5ISEmmPww9YvTcQq8/JV2OstnstT8Er5Y7M8G+P0c+r3jqkcU/5h99k6ZBzj88bCIzFzjVP4enV8oyxN0//yH99nXg5D8qOpLLf0jtP5kqGJXUifQ/c9cS8kHP/D+/DpwzojQEQIEmwoanVwxA4lgXt9HgE0BSSZ2AJuIbQAMJih9jjiNA5q4l5INuK0AwTKYKRj0zQNv5fmq8/DpAaCJseHrtQkB/+zpwzoxKQM3MzMzMeFJAZmZmZmZqWEAAAAAAAFxeQM3MzMzMJmJAmpmZmZkfZUBmZmZmZhhoQDMzMzMzEWtAAAAAAAAKbkBmZmZmZoFwQM3MzMzM/XFAMzMzMzN6c0CamZmZmfZ0QAAAAAAAc3ZAZmZmZmbvd0DNzMzMzGt5QDMzMzMz6HpAmpmZmZlkfEAAAAAAAOF9QGZmZmZmXX9AZmZmZuZsgECamZmZGSuBQM3MzMxM6YFAAAAAAICngkAzMzMzs2WDQGZmZmbmI4RAmpmZmRnihEDNzMzMTKCFQAAAAACAXoZAMzMzM7Mch0BmZmZm5tqHQJqZmZkZmYhAzczMzExXiUAAAAAAgBWKQDMzMzOz04pAZmZmZuaRi0CamZmZGVCMQM3MzMxMDo1AAAAAAIDMjUAzMzMzs4qOQGZmZmbmSI9A\",\"dtype\":\"float64\",\"shape\":[75]}}},\"id\":\"f8141b3b-d356-4a46-a26d-b3db202ebe55\",\"type\":\"ColumnDataSource\"},{\"attributes\":{\"line_alpha\":0.1,\"line_color\":\"#1f77b4\",\"line_dash\":[2,4,6,4],\"line_width\":3,\"x\":{\"field\":\"x\"},\"y\":{\"field\":\"y\"}},\"id\":\"17013696-20b8-45c0-bc29-b27e2fa98ac7\",\"type\":\"Line\"},{\"attributes\":{\"line_alpha\":0.1,\"line_color\":\"#1f77b4\",\"line_width\":1.5,\"x\":{\"field\":\"x\"},\"y\":{\"field\":\"y\"}},\"id\":\"864a81fa-fb83-4695-ae62-77ff2c565810\",\"type\":\"Line\"},{\"attributes\":{\"callback\":null,\"column_names\":[\"x\",\"y\"],\"data\":{\"x\":{\"__ndarray__\":\"Kw0q4XGgoL+rDLB9a6Giv+SVaOzyfaa/Nm3gvYwqqr+ZJ/Np96atv7X9cgDZeLC/TyExI7cEsr9vOgS5hHazv3PeDvM2zbS/o3f37vnbtb/4eNePA2W+v5GG1Gb8eLi/3uacvu92ub+pY/j87iW6v6s2xQSxQ7u/fMvKZnassr8XG+IdnzxBv+VAMMNWO8A/bwwBwLGn1D+dItEVttDiP/NFlFkxWu4/DamieJXV9T8Zoxqbwm/6P1CBOLRtvfo/7YuV4vR/+D/dflQeOMLzP1nPWht08+w/2xLa7vVA5D9bKcJVt13bPyaRO3ST+8w/YyUodhtxnr9tqjCunxvRv0JOb7Fo292/NRSQWWqb4r8Ev9OF1MThv+v6ifMFZ9e/LfwqCgW2xr9Xs2vOA1C8v/73gkRKG7e/0DmEmdJUs786S4lXa76wvzm0+K/U/Ku/nTB1GBJ+p79zJFPik36jv3mssTVvXaC/cuTrrMLYm79SNucLGi2Xv2z9ZPTyJ5O/RvS0wV5oj78UFq+O8LGIvxipse0G64G/TmIJVTW7db+F5/8/0D1jv9RkfuGZuFM//3nJ6Eh6dT/IJT8/W2mBPwFzNBRl2Yk/EeursLtukT/1+u6xT1uWP730h0pJLZs/RMbTjdhwoD9GmzQkJlyjP/GvgGoFS6Y/Fxf9VwwNqj/hVOjf1UKuPxWqsic1v7A/z68TgkjLsj//FY8RpGC0P7tBbYEoC7Y/QkFZk8/0tz/rcHSV7q66P9gvVNU2i7w/Cwel3Dtyvz/zGfW103vBP9IYUuo3OMM/\",\"dtype\":\"float64\",\"shape\":[75]},\"y\":{\"__ndarray__\":\"GhExyth1ND/Sv8nbtpRIP2vylNV0PVE/aTum7souWD/At0SJ8fVgPw3Iuahxymc/MSNhhJWvcD/bTfBN02d3P2zb5nxnaoA/CD5h5MAGhz8NmeH1TyaQP+zrCsc9p5Y/LbKd76fGnz/bLW5ISEmmPww9YvTcQq8/JV2OstnstT8Er5Y7M8G+P0c+r3jqkcU/5h99k6ZBzj88bCIzFzjVP4enV8oyxN0//yH99nXg5D8qOpLLf0jtP5kqGJXUifQ/c9cS8kHP/D+/DpwzojQEQIEmwoanVwxA4lgXt9HgE0BSSZ2AJuIbQAMJih9jjiNA5q4l5INuK0AwTKYKRj0zQNv5fmq8/DpAaCJseHrtQkB/+zpwzoxKQM3MzMzMeFJAZmZmZmZqWEAAAAAAAFxeQM3MzMzMJmJAmpmZmZkfZUBmZmZmZhhoQDMzMzMzEWtAAAAAAAAKbkBmZmZmZoFwQM3MzMzM/XFAMzMzMzN6c0CamZmZmfZ0QAAAAAAAc3ZAZmZmZmbvd0DNzMzMzGt5QDMzMzMz6HpAmpmZmZlkfEAAAAAAAOF9QGZmZmZmXX9AZmZmZuZsgECamZmZGSuBQM3MzMxM6YFAAAAAAICngkAzMzMzs2WDQGZmZmbmI4RAmpmZmRnihEDNzMzMTKCFQAAAAACAXoZAMzMzM7Mch0BmZmZm5tqHQJqZmZkZmYhAzczMzExXiUAAAAAAgBWKQDMzMzOz04pAZmZmZuaRi0CamZmZGVCMQM3MzMxMDo1AAAAAAIDMjUAzMzMzs4qOQGZmZmbmSI9A\",\"dtype\":\"float64\",\"shape\":[75]}}},\"id\":\"bcb18526-fd70-46a4-a4dc-d6520cb476ec\",\"type\":\"ColumnDataSource\"},{\"attributes\":{\"line_alpha\":0.6,\"line_color\":\"#984ea3\",\"line_width\":3,\"x\":{\"field\":\"x\"},\"y\":{\"field\":\"y\"}},\"id\":\"8e41f82a-c4e1-4d9e-b2fe-2511669017ab\",\"type\":\"Line\"},{\"attributes\":{\"callback\":null,\"end\":0.01,\"start\":1020},\"id\":\"61a8c19e-a618-4b19-96d0-8930385f7dec\",\"type\":\"Range1d\"},{\"attributes\":{},\"id\":\"05b7aa2d-631e-4fd0-9437-21ff666e1a21\",\"type\":\"LinearScale\"},{\"attributes\":{},\"id\":\"ddba124d-ef75-4495-9c73-a5b76da1ba68\",\"type\":\"BasicTicker\"},{\"attributes\":{\"line_alpha\":0.1,\"line_color\":\"#1f77b4\",\"line_width\":3,\"x\":{\"field\":\"x\"},\"y\":{\"field\":\"y\"}},\"id\":\"8367f39a-4648-4396-a34e-79c1740277af\",\"type\":\"Line\"},{\"attributes\":{\"source\":{\"id\":\"bcb18526-fd70-46a4-a4dc-d6520cb476ec\",\"type\":\"ColumnDataSource\"}},\"id\":\"3cbe986f-a70f-44f8-be61-a8598f29583d\",\"type\":\"CDSView\"},{\"attributes\":{\"source\":{\"id\":\"24d8e550-d055-4ba8-a14a-a1cf3edbab48\",\"type\":\"ColumnDataSource\"}},\"id\":\"9c94410f-5a4b-485b-bdb2-2fb9f34a7877\",\"type\":\"CDSView\"},{\"attributes\":{\"source\":{\"id\":\"6b83c32a-ddfe-49b2-a6fe-c063a853fe94\",\"type\":\"ColumnDataSource\"}},\"id\":\"0f94b0d6-bf29-4a99-ade4-0f69c949e342\",\"type\":\"CDSView\"},{\"attributes\":{},\"id\":\"d2cb5d01-241e-4de0-96ce-36fd55655331\",\"type\":\"PanTool\"},{\"attributes\":{\"data_source\":{\"id\":\"44fb0711-45b9-4e60-be3a-014917aff1b9\",\"type\":\"ColumnDataSource\"},\"glyph\":{\"id\":\"b8310b35-161b-4143-840e-547e17346748\",\"type\":\"Square\"},\"hover_glyph\":null,\"muted_glyph\":null,\"nonselection_glyph\":{\"id\":\"192917ba-a14a-4507-8506-e54571a41164\",\"type\":\"Square\"},\"selection_glyph\":null,\"view\":{\"id\":\"01348324-0b36-4eb6-8ea2-e595dc4aac21\",\"type\":\"CDSView\"}},\"id\":\"f2da8ad7-8f92-444b-b936-5866a7f85d2d\",\"type\":\"GlyphRenderer\"},{\"attributes\":{\"children\":[{\"id\":\"007af5c9-3075-47fd-8a42-bb22bea80c97\",\"type\":\"Row\"}]},\"id\":\"caf5c5c6-bebe-458c-824a-5d06c826bb91\",\"type\":\"Column\"},{\"attributes\":{\"fill_alpha\":{\"value\":0.1},\"fill_color\":{\"value\":\"#1f77b4\"},\"line_alpha\":{\"value\":0.1},\"line_color\":{\"value\":\"#1f77b4\"},\"x\":{\"field\":\"x\"},\"y\":{\"field\":\"y\"}},\"id\":\"fcbd2ed0-bb74-42dc-a390-bae1bdaa0eec\",\"type\":\"InvertedTriangle\"},{\"attributes\":{\"line_alpha\":0.6,\"line_color\":\"#984ea3\",\"line_width\":3,\"x\":{\"field\":\"x\"},\"y\":{\"field\":\"y\"}},\"id\":\"cf0b4882-68e0-4baf-9c70-99037b3e5b9c\",\"type\":\"Line\"},{\"attributes\":{\"data_source\":{\"id\":\"f8141b3b-d356-4a46-a26d-b3db202ebe55\",\"type\":\"ColumnDataSource\"},\"glyph\":{\"id\":\"cf0b4882-68e0-4baf-9c70-99037b3e5b9c\",\"type\":\"Line\"},\"hover_glyph\":null,\"muted_glyph\":null,\"nonselection_glyph\":{\"id\":\"8367f39a-4648-4396-a34e-79c1740277af\",\"type\":\"Line\"},\"selection_glyph\":null,\"view\":{\"id\":\"efc1395c-d47d-4d18-b70b-58206fbd6004\",\"type\":\"CDSView\"}},\"id\":\"05289ad8-1397-4af6-b8ab-d0137765a57b\",\"type\":\"GlyphRenderer\"},{\"attributes\":{\"callback\":null,\"column_names\":[\"x\",\"y\"],\"data\":{\"x\":{\"__ndarray__\":\"+1sW1DZMnr89ZvF5/f2gvxSHFWlAj6S/5jKyh535p791mcWEyzyrv+QCRH9wV66/LheW5CWksL/GSX0zEweyv72lJSFUU7O/QzDFV2aKtL/K10xbr6u1v/xCWCVCt7a/hmq6Bsyvt7/lqQJGe2K4vxCnOLMC6Le/PwMkeTIosr8ZYcnWrJOAv/YEcFBO9ro/3peOlIgL0j87/X8gaSXhP/sjyubDNuw/3fAWowmv9D/lGrD1Vm75P06uztZmSPo/9KOG20YI+D+335D8d9PyPyKET4yPY+o/zvLIYSju4T+SZuIMtDHYP/23N2Sor8k/KXNMRjA2o7+pNUkDqoXRv6L/L+jOXd6/eHBFnC1E478fqK7XT7riv7QPBXXCcti/7tGXtX8rx79Aa58Kj2i8v0L1+IWjILe/jTcTgj5Zs7+p8FOUzGOwv9HxQIDmVau/hEjcHBS4pr+KtTwy/eKiv6zoGT+wip+/d4NWyqyKmr8Ls2jr9ESWv1GGy6YzYpK/QwbgCTfFjb/8frhL5WSHv/m75982I4G/3LfCCqOYdb91/3BJqRphv8tYj+hOClQ/MOCr7dRCcz8jHvAM2CaBPxc9v0HeH4k/9b+WNqDOkD8sEUAbzVKVP5Dc5gKhOZo/rX0v9VuKnz8IGPiyNouiP1yWDz4dWqU/jc8O/4MkqT/3Bsd7weasP6SOVgEzabA/HAEmuniJsj8E5t82bD60P2VWV1SwBbY/k/Xqz70IuD/VRtDzAke6P3v2XKYmwbw/QP6QhmyDvz9OQkw23E/BP0TQJPPALsM/\",\"dtype\":\"float64\",\"shape\":[75]},\"y\":{\"__ndarray__\":\"GhExyth1ND/Sv8nbtpRIP2vylNV0PVE/aTum7souWD/At0SJ8fVgPw3Iuahxymc/MSNhhJWvcD/bTfBN02d3P2zb5nxnaoA/CD5h5MAGhz8NmeH1TyaQP+zrCsc9p5Y/LbKd76fGnz/bLW5ISEmmPww9YvTcQq8/JV2OstnstT8Er5Y7M8G+P0c+r3jqkcU/5h99k6ZBzj88bCIzFzjVP4enV8oyxN0//yH99nXg5D8qOpLLf0jtP5kqGJXUifQ/c9cS8kHP/D+/DpwzojQEQIEmwoanVwxA4lgXt9HgE0BSSZ2AJuIbQAMJih9jjiNA5q4l5INuK0AwTKYKRj0zQNv5fmq8/DpAaCJseHrtQkB/+zpwzoxKQM3MzMzMeFJAZmZmZmZqWEAAAAAAAFxeQM3MzMzMJmJAmpmZmZkfZUBmZmZmZhhoQDMzMzMzEWtAAAAAAAAKbkBmZmZmZoFwQM3MzMzM/XFAMzMzMzN6c0CamZmZmfZ0QAAAAAAAc3ZAZmZmZmbvd0DNzMzMzGt5QDMzMzMz6HpAmpmZmZlkfEAAAAAAAOF9QGZmZmZmXX9AZmZmZuZsgECamZmZGSuBQM3MzMxM6YFAAAAAAICngkAzMzMzs2WDQGZmZmbmI4RAmpmZmRnihEDNzMzMTKCFQAAAAACAXoZAMzMzM7Mch0BmZmZm5tqHQJqZmZkZmYhAzczMzExXiUAAAAAAgBWKQDMzMzOz04pAZmZmZuaRi0CamZmZGVCMQM3MzMxMDo1AAAAAAIDMjUAzMzMzs4qOQGZmZmbmSI9A\",\"dtype\":\"float64\",\"shape\":[75]}}},\"id\":\"44fb0711-45b9-4e60-be3a-014917aff1b9\",\"type\":\"ColumnDataSource\"},{\"attributes\":{\"fill_alpha\":{\"value\":0.1},\"fill_color\":{\"value\":\"#1f77b4\"},\"line_alpha\":{\"value\":0.1},\"line_color\":{\"value\":\"#1f77b4\"},\"x\":{\"field\":\"x\"},\"y\":{\"field\":\"y\"}},\"id\":\"192917ba-a14a-4507-8506-e54571a41164\",\"type\":\"Square\"},{\"attributes\":{\"source\":{\"id\":\"ec672758-b324-406d-bade-d83d8f34c2ba\",\"type\":\"ColumnDataSource\"}},\"id\":\"8177435d-fe4f-41d2-b6a6-30cf64a7e0ec\",\"type\":\"CDSView\"},{\"attributes\":{\"below\":[{\"id\":\"360f4b21-31b6-4e03-ae19-0494526ed75a\",\"type\":\"LinearAxis\"}],\"left\":[{\"id\":\"db42a30c-2f66-4394-bcdb-e8e778a12324\",\"type\":\"LinearAxis\"}],\"plot_height\":500,\"plot_width\":400,\"renderers\":[{\"id\":\"360f4b21-31b6-4e03-ae19-0494526ed75a\",\"type\":\"LinearAxis\"},{\"id\":\"c8829a5c-1689-4c43-8624-80de73927d5a\",\"type\":\"Grid\"},{\"id\":\"db42a30c-2f66-4394-bcdb-e8e778a12324\",\"type\":\"LinearAxis\"},{\"id\":\"3db4e807-9830-4b25-a535-34b6780f05a7\",\"type\":\"Grid\"},{\"id\":\"02315d95-7c4e-4e94-a459-62c90994a15b\",\"type\":\"BoxAnnotation\"},{\"id\":\"f94a3a6a-e1c7-4cef-a435-078e4239e4e8\",\"type\":\"GlyphRenderer\"},{\"id\":\"6c0ee551-b150-4941-be5b-e4f9c0d1a145\",\"type\":\"GlyphRenderer\"},{\"id\":\"fdbc9755-f614-4a03-8308-89b8c3ab0aed\",\"type\":\"GlyphRenderer\"},{\"id\":\"8b08a5c2-2665-45a6-85a6-d0285f31e835\",\"type\":\"GlyphRenderer\"},{\"id\":\"652147c2-fdf7-4d69-915a-c5d0c6bc7ab5\",\"type\":\"GlyphRenderer\"},{\"id\":\"b6d3c65d-6c99-492f-a269-cda552c3d494\",\"type\":\"GlyphRenderer\"}],\"title\":{\"id\":\"fd636095-c427-40e2-8907-74d2c102fe95\",\"type\":\"Title\"},\"toolbar\":{\"id\":\"81a6af8d-7a98-4dab-b71c-03fcb35060a9\",\"type\":\"Toolbar\"},\"toolbar_location\":null,\"x_range\":{\"id\":\"6ff01664-6dd2-498d-9615-234c24cf2ff6\",\"type\":\"Range1d\"},\"x_scale\":{\"id\":\"10b50f8d-d604-4e6f-8e62-f200a848006e\",\"type\":\"LinearScale\"},\"y_range\":{\"id\":\"61a8c19e-a618-4b19-96d0-8930385f7dec\",\"type\":\"Range1d\"},\"y_scale\":{\"id\":\"3c1363de-08a3-487c-bb95-babef8d42509\",\"type\":\"LinearScale\"}},\"id\":\"e1d01b34-03d5-4769-a858-95f6155fcc49\",\"subtype\":\"Figure\",\"type\":\"Plot\"},{\"attributes\":{\"active_drag\":\"auto\",\"active_inspect\":\"auto\",\"active_scroll\":\"auto\",\"active_tap\":\"auto\",\"tools\":[{\"id\":\"d2af26b6-4d7a-4150-aa29-ea7e7ddebfd1\",\"type\":\"PanTool\"},{\"id\":\"d0e8deea-f249-4f7b-801f-38d9a550a760\",\"type\":\"WheelZoomTool\"},{\"id\":\"c8c47bdc-985a-4ec6-952d-a271c0bc2ba5\",\"type\":\"BoxZoomTool\"},{\"id\":\"d018fc7e-c4d2-4252-895e-de27132bb8eb\",\"type\":\"SaveTool\"},{\"id\":\"9ea0b2da-fd10-40af-bf3a-4b386404b5ae\",\"type\":\"ResetTool\"},{\"id\":\"9fe2db76-6e05-4934-a9f1-13e1c20de12b\",\"type\":\"HelpTool\"}]},\"id\":\"81a6af8d-7a98-4dab-b71c-03fcb35060a9\",\"type\":\"Toolbar\"},{\"attributes\":{\"data_source\":{\"id\":\"ec672758-b324-406d-bade-d83d8f34c2ba\",\"type\":\"ColumnDataSource\"},\"glyph\":{\"id\":\"0b208924-9394-4a34-883d-874ba02899d8\",\"type\":\"Circle\"},\"hover_glyph\":null,\"muted_glyph\":null,\"nonselection_glyph\":{\"id\":\"b2f086c6-f54b-48e7-a13a-c4a553be6970\",\"type\":\"Circle\"},\"selection_glyph\":null,\"view\":{\"id\":\"8177435d-fe4f-41d2-b6a6-30cf64a7e0ec\",\"type\":\"CDSView\"}},\"id\":\"f94a3a6a-e1c7-4cef-a435-078e4239e4e8\",\"type\":\"GlyphRenderer\"},{\"attributes\":{\"callback\":null,\"column_names\":[\"x\",\"y\"],\"data\":{\"x\":{\"__ndarray__\":\"+1sW1DZMnr89ZvF5/f2gvxSHFWlAj6S/5jKyh535p791mcWEyzyrv+QCRH9wV66/LheW5CWksL/GSX0zEweyv72lJSFUU7O/QzDFV2aKtL/K10xbr6u1v/xCWCVCt7a/hmq6Bsyvt7/lqQJGe2K4vxCnOLMC6Le/PwMkeTIosr8ZYcnWrJOAv/YEcFBO9ro/3peOlIgL0j87/X8gaSXhP/sjyubDNuw/3fAWowmv9D/lGrD1Vm75P06uztZmSPo/9KOG20YI+D+335D8d9PyPyKET4yPY+o/zvLIYSju4T+SZuIMtDHYP/23N2Sor8k/KXNMRjA2o7+pNUkDqoXRv6L/L+jOXd6/eHBFnC1E478fqK7XT7riv7QPBXXCcti/7tGXtX8rx79Aa58Kj2i8v0L1+IWjILe/jTcTgj5Zs7+p8FOUzGOwv9HxQIDmVau/hEjcHBS4pr+KtTwy/eKiv6zoGT+wip+/d4NWyqyKmr8Ls2jr9ESWv1GGy6YzYpK/QwbgCTfFjb/8frhL5WSHv/m75982I4G/3LfCCqOYdb91/3BJqRphv8tYj+hOClQ/MOCr7dRCcz8jHvAM2CaBPxc9v0HeH4k/9b+WNqDOkD8sEUAbzVKVP5Dc5gKhOZo/rX0v9VuKnz8IGPiyNouiP1yWDz4dWqU/jc8O/4MkqT/3Bsd7weasP6SOVgEzabA/HAEmuniJsj8E5t82bD60P2VWV1SwBbY/k/Xqz70IuD/VRtDzAke6P3v2XKYmwbw/QP6QhmyDvz9OQkw23E/BP0TQJPPALsM/\",\"dtype\":\"float64\",\"shape\":[75]},\"y\":{\"__ndarray__\":\"GhExyth1ND/Sv8nbtpRIP2vylNV0PVE/aTum7souWD/At0SJ8fVgPw3Iuahxymc/MSNhhJWvcD/bTfBN02d3P2zb5nxnaoA/CD5h5MAGhz8NmeH1TyaQP+zrCsc9p5Y/LbKd76fGnz/bLW5ISEmmPww9YvTcQq8/JV2OstnstT8Er5Y7M8G+P0c+r3jqkcU/5h99k6ZBzj88bCIzFzjVP4enV8oyxN0//yH99nXg5D8qOpLLf0jtP5kqGJXUifQ/c9cS8kHP/D+/DpwzojQEQIEmwoanVwxA4lgXt9HgE0BSSZ2AJuIbQAMJih9jjiNA5q4l5INuK0AwTKYKRj0zQNv5fmq8/DpAaCJseHrtQkB/+zpwzoxKQM3MzMzMeFJAZmZmZmZqWEAAAAAAAFxeQM3MzMzMJmJAmpmZmZkfZUBmZmZmZhhoQDMzMzMzEWtAAAAAAAAKbkBmZmZmZoFwQM3MzMzM/XFAMzMzMzN6c0CamZmZmfZ0QAAAAAAAc3ZAZmZmZmbvd0DNzMzMzGt5QDMzMzMz6HpAmpmZmZlkfEAAAAAAAOF9QGZmZmZmXX9AZmZmZuZsgECamZmZGSuBQM3MzMxM6YFAAAAAAICngkAzMzMzs2WDQGZmZmbmI4RAmpmZmRnihEDNzMzMTKCFQAAAAACAXoZAMzMzM7Mch0BmZmZm5tqHQJqZmZkZmYhAzczMzExXiUAAAAAAgBWKQDMzMzOz04pAZmZmZuaRi0CamZmZGVCMQM3MzMxMDo1AAAAAAIDMjUAzMzMzs4qOQGZmZmbmSI9A\",\"dtype\":\"float64\",\"shape\":[75]}}},\"id\":\"bf57e84d-8046-43a5-8dc0-4849d28e9e03\",\"type\":\"ColumnDataSource\"},{\"attributes\":{\"source\":{\"id\":\"b0fb54bb-2a29-468c-ae4e-1fffe0d46945\",\"type\":\"ColumnDataSource\"}},\"id\":\"f3bf1ea7-bdac-46f4-90c4-f505cd7c601a\",\"type\":\"CDSView\"},{\"attributes\":{\"children\":[{\"id\":\"e1d01b34-03d5-4769-a858-95f6155fcc49\",\"subtype\":\"Figure\",\"type\":\"Plot\"},{\"id\":\"589f3976-e191-4f36-8f67-a9d7fc113b02\",\"subtype\":\"Figure\",\"type\":\"Plot\"}]},\"id\":\"007af5c9-3075-47fd-8a42-bb22bea80c97\",\"type\":\"Row\"},{\"attributes\":{\"bottom_units\":\"screen\",\"fill_alpha\":{\"value\":0.5},\"fill_color\":{\"value\":\"lightgrey\"},\"left_units\":\"screen\",\"level\":\"overlay\",\"line_alpha\":{\"value\":1.0},\"line_color\":{\"value\":\"black\"},\"line_dash\":[4,4],\"line_width\":{\"value\":2},\"plot\":null,\"render_mode\":\"css\",\"right_units\":\"screen\",\"top_units\":\"screen\"},\"id\":\"02315d95-7c4e-4e94-a459-62c90994a15b\",\"type\":\"BoxAnnotation\"},{\"attributes\":{\"line_color\":\"#4daf4a\",\"line_width\":1.5,\"x\":{\"field\":\"x\"},\"y\":{\"field\":\"y\"}},\"id\":\"aa32a08d-81a2-45e2-b9c4-2c4311cf85e1\",\"type\":\"Line\"},{\"attributes\":{},\"id\":\"7533b5c3-2352-462e-ab18-813c910b4e2b\",\"type\":\"BasicTickFormatter\"},{\"attributes\":{},\"id\":\"c246da10-9f1e-4397-9db2-b4700e606a07\",\"type\":\"BasicTicker\"},{\"attributes\":{\"axis_label\":\"pressure [mb]\",\"formatter\":{\"id\":\"4cc8a803-ee32-43ac-b6cc-f5e2055fd4f3\",\"type\":\"BasicTickFormatter\"},\"plot\":{\"id\":\"e1d01b34-03d5-4769-a858-95f6155fcc49\",\"subtype\":\"Figure\",\"type\":\"Plot\"},\"ticker\":{\"id\":\"c246da10-9f1e-4397-9db2-b4700e606a07\",\"type\":\"BasicTicker\"}},\"id\":\"db42a30c-2f66-4394-bcdb-e8e778a12324\",\"type\":\"LinearAxis\"},{\"attributes\":{},\"id\":\"d2af26b6-4d7a-4150-aa29-ea7e7ddebfd1\",\"type\":\"PanTool\"},{\"attributes\":{\"dimension\":1,\"plot\":{\"id\":\"e1d01b34-03d5-4769-a858-95f6155fcc49\",\"subtype\":\"Figure\",\"type\":\"Plot\"},\"ticker\":{\"id\":\"c246da10-9f1e-4397-9db2-b4700e606a07\",\"type\":\"BasicTicker\"}},\"id\":\"3db4e807-9830-4b25-a535-34b6780f05a7\",\"type\":\"Grid\"},{\"attributes\":{\"axis_label\":\"cooling rate [K/day]\",\"formatter\":{\"id\":\"7533b5c3-2352-462e-ab18-813c910b4e2b\",\"type\":\"BasicTickFormatter\"},\"plot\":{\"id\":\"e1d01b34-03d5-4769-a858-95f6155fcc49\",\"subtype\":\"Figure\",\"type\":\"Plot\"},\"ticker\":{\"id\":\"36374b7d-ad3a-4c60-a319-332cabfbac94\",\"type\":\"BasicTicker\"}},\"id\":\"360f4b21-31b6-4e03-ae19-0494526ed75a\",\"type\":\"LinearAxis\"},{\"attributes\":{\"callback\":null,\"column_names\":[\"x\",\"y\"],\"data\":{\"x\":{\"__ndarray__\":\"igbsFPLbor+TJd0Qjzalv+56Nplbm6m/5Eeminxzrb9KNNRqQOuwv1eGBpyE1rK/oAwtacc4tL8hGZvrbv21v7DY08xie7e/bhUsJEwQub/fEiXG10O6vzixj2f6mbu/tTOOiXvJvL8BZGwR5rC9vxkaFVnn77y/CNq3b8L4tL8PbwGN9ARIvyHj1WKFlcE/G2VgkR3j1T/y+En3a/njP1C7yqD77u8/Pyzlxj7y9j/PotLjUlD7P0E6K1iZH/s//zuiQnVz+D+IgEOoUnPzP1GgkQAcuOs/AN5lM0Wo4j/wEEqIhyrYPyXRJuIILcc/uQHrrYsfrL+Vcb6e0KfRv5y/KpPxGt2/ATbeJYqT4b+o4Z10CYTgv6JRcGcVLNa/l61Q/7Qsxr/bcWDF6/K7v7EeZksw/ra/KXs+D11ss7961c087piwv67eqcwJ5Ku/CSm8J7ZSp79jOFqyg3qjv+s7yZq0UKC/faDsmICAm7/8enTZng+XvzH+ZCnl95K/nsjdMYaDjr9GFUyc36eHv5gP1KZ774C/ysVoeqEpdL8VtcHzFZdYv4CoVAILpGA/xcJET0eRdz9bw8mUT8qDP78ap+64S4w/hv5GkW6xkj/2CdBRb4+XP6jBx2/w1pw/JqhYavpCoT/VGLRdjyykPxQeS1dk/6Y/WXCGtQ2wqj9Do3jrtQauP4MsQ9BcnbA/Pszi7kFCsj/NC+/zkXSzP93lsyC6vrQ/+fdOCd5Jtj9pb7uT+Q64P2VM6pmYDbo/SAwrqrhQvD9mA5/VuO2+P5MRQP93I8E/\",\"dtype\":\"float64\",\"shape\":[75]},\"y\":{\"__ndarray__\":\"GhExyth1ND/Sv8nbtpRIP2vylNV0PVE/aTum7souWD/At0SJ8fVgPw3Iuahxymc/MSNhhJWvcD/bTfBN02d3P2zb5nxnaoA/CD5h5MAGhz8NmeH1TyaQP+zrCsc9p5Y/LbKd76fGnz/bLW5ISEmmPww9YvTcQq8/JV2OstnstT8Er5Y7M8G+P0c+r3jqkcU/5h99k6ZBzj88bCIzFzjVP4enV8oyxN0//yH99nXg5D8qOpLLf0jtP5kqGJXUifQ/c9cS8kHP/D+/DpwzojQEQIEmwoanVwxA4lgXt9HgE0BSSZ2AJuIbQAMJih9jjiNA5q4l5INuK0AwTKYKRj0zQNv5fmq8/DpAaCJseHrtQkB/+zpwzoxKQM3MzMzMeFJAZmZmZmZqWEAAAAAAAFxeQM3MzMzMJmJAmpmZmZkfZUBmZmZmZhhoQDMzMzMzEWtAAAAAAAAKbkBmZmZmZoFwQM3MzMzM/XFAMzMzMzN6c0CamZmZmfZ0QAAAAAAAc3ZAZmZmZmbvd0DNzMzMzGt5QDMzMzMz6HpAmpmZmZlkfEAAAAAAAOF9QGZmZmZmXX9AZmZmZuZsgECamZmZGSuBQM3MzMxM6YFAAAAAAICngkAzMzMzs2WDQGZmZmbmI4RAmpmZmRnihEDNzMzMTKCFQAAAAACAXoZAMzMzM7Mch0BmZmZm5tqHQJqZmZkZmYhAzczMzExXiUAAAAAAgBWKQDMzMzOz04pAZmZmZuaRi0CamZmZGVCMQM3MzMxMDo1AAAAAAIDMjUAzMzMzs4qOQGZmZmbmSI9A\",\"dtype\":\"float64\",\"shape\":[75]}}},\"id\":\"b0fb54bb-2a29-468c-ae4e-1fffe0d46945\",\"type\":\"ColumnDataSource\"},{\"attributes\":{\"plot\":null,\"text\":\"Linear pressure scale\"},\"id\":\"fd636095-c427-40e2-8907-74d2c102fe95\",\"type\":\"Title\"},{\"attributes\":{\"callback\":null,\"column_names\":[\"x\",\"y\"],\"data\":{\"x\":{\"__ndarray__\":\"igbsFPLbor+TJd0Qjzalv+56Nplbm6m/5Eeminxzrb9KNNRqQOuwv1eGBpyE1rK/oAwtacc4tL8hGZvrbv21v7DY08xie7e/bhUsJEwQub/fEiXG10O6vzixj2f6mbu/tTOOiXvJvL8BZGwR5rC9vxkaFVnn77y/CNq3b8L4tL8PbwGN9ARIvyHj1WKFlcE/G2VgkR3j1T/y+En3a/njP1C7yqD77u8/Pyzlxj7y9j/PotLjUlD7P0E6K1iZH/s//zuiQnVz+D+IgEOoUnPzP1GgkQAcuOs/AN5lM0Wo4j/wEEqIhyrYPyXRJuIILcc/uQHrrYsfrL+Vcb6e0KfRv5y/KpPxGt2/ATbeJYqT4b+o4Z10CYTgv6JRcGcVLNa/l61Q/7Qsxr/bcWDF6/K7v7EeZksw/ra/KXs+D11ss7961c087piwv67eqcwJ5Ku/CSm8J7ZSp79jOFqyg3qjv+s7yZq0UKC/faDsmICAm7/8enTZng+XvzH+ZCnl95K/nsjdMYaDjr9GFUyc36eHv5gP1KZ774C/ysVoeqEpdL8VtcHzFZdYv4CoVAILpGA/xcJET0eRdz9bw8mUT8qDP78ap+64S4w/hv5GkW6xkj/2CdBRb4+XP6jBx2/w1pw/JqhYavpCoT/VGLRdjyykPxQeS1dk/6Y/WXCGtQ2wqj9Do3jrtQauP4MsQ9BcnbA/Pszi7kFCsj/NC+/zkXSzP93lsyC6vrQ/+fdOCd5Jtj9pb7uT+Q64P2VM6pmYDbo/SAwrqrhQvD9mA5/VuO2+P5MRQP93I8E/\",\"dtype\":\"float64\",\"shape\":[75]},\"y\":{\"__ndarray__\":\"GhExyth1ND/Sv8nbtpRIP2vylNV0PVE/aTum7souWD/At0SJ8fVgPw3Iuahxymc/MSNhhJWvcD/bTfBN02d3P2zb5nxnaoA/CD5h5MAGhz8NmeH1TyaQP+zrCsc9p5Y/LbKd76fGnz/bLW5ISEmmPww9YvTcQq8/JV2OstnstT8Er5Y7M8G+P0c+r3jqkcU/5h99k6ZBzj88bCIzFzjVP4enV8oyxN0//yH99nXg5D8qOpLLf0jtP5kqGJXUifQ/c9cS8kHP/D+/DpwzojQEQIEmwoanVwxA4lgXt9HgE0BSSZ2AJuIbQAMJih9jjiNA5q4l5INuK0AwTKYKRj0zQNv5fmq8/DpAaCJseHrtQkB/+zpwzoxKQM3MzMzMeFJAZmZmZmZqWEAAAAAAAFxeQM3MzMzMJmJAmpmZmZkfZUBmZmZmZhhoQDMzMzMzEWtAAAAAAAAKbkBmZmZmZoFwQM3MzMzM/XFAMzMzMzN6c0CamZmZmfZ0QAAAAAAAc3ZAZmZmZmbvd0DNzMzMzGt5QDMzMzMz6HpAmpmZmZlkfEAAAAAAAOF9QGZmZmZmXX9AZmZmZuZsgECamZmZGSuBQM3MzMxM6YFAAAAAAICngkAzMzMzs2WDQGZmZmbmI4RAmpmZmRnihEDNzMzMTKCFQAAAAACAXoZAMzMzM7Mch0BmZmZm5tqHQJqZmZkZmYhAzczMzExXiUAAAAAAgBWKQDMzMzOz04pAZmZmZuaRi0CamZmZGVCMQM3MzMxMDo1AAAAAAIDMjUAzMzMzs4qOQGZmZmbmSI9A\",\"dtype\":\"float64\",\"shape\":[75]}}},\"id\":\"ec672758-b324-406d-bade-d83d8f34c2ba\",\"type\":\"ColumnDataSource\"},{\"attributes\":{},\"id\":\"4cc8a803-ee32-43ac-b6cc-f5e2055fd4f3\",\"type\":\"BasicTickFormatter\"},{\"attributes\":{\"overlay\":{\"id\":\"02315d95-7c4e-4e94-a459-62c90994a15b\",\"type\":\"BoxAnnotation\"}},\"id\":\"c8c47bdc-985a-4ec6-952d-a271c0bc2ba5\",\"type\":\"BoxZoomTool\"},{\"attributes\":{},\"id\":\"d0e8deea-f249-4f7b-801f-38d9a550a760\",\"type\":\"WheelZoomTool\"},{\"attributes\":{\"data_source\":{\"id\":\"b0fb54bb-2a29-468c-ae4e-1fffe0d46945\",\"type\":\"ColumnDataSource\"},\"glyph\":{\"id\":\"aa32a08d-81a2-45e2-b9c4-2c4311cf85e1\",\"type\":\"Line\"},\"hover_glyph\":null,\"muted_glyph\":null,\"nonselection_glyph\":{\"id\":\"534e8551-95e3-487f-81b5-58362eebafbf\",\"type\":\"Line\"},\"selection_glyph\":null,\"view\":{\"id\":\"f3bf1ea7-bdac-46f4-90c4-f505cd7c601a\",\"type\":\"CDSView\"}},\"id\":\"6c0ee551-b150-4941-be5b-e4f9c0d1a145\",\"type\":\"GlyphRenderer\"},{\"attributes\":{},\"id\":\"d018fc7e-c4d2-4252-895e-de27132bb8eb\",\"type\":\"SaveTool\"},{\"attributes\":{},\"id\":\"9fe2db76-6e05-4934-a9f1-13e1c20de12b\",\"type\":\"HelpTool\"},{\"attributes\":{},\"id\":\"9ea0b2da-fd10-40af-bf3a-4b386404b5ae\",\"type\":\"ResetTool\"},{\"attributes\":{\"line_alpha\":0.1,\"line_color\":\"#1f77b4\",\"line_width\":1.5,\"x\":{\"field\":\"x\"},\"y\":{\"field\":\"y\"}},\"id\":\"534e8551-95e3-487f-81b5-58362eebafbf\",\"type\":\"Line\"}],\"root_ids\":[\"d9b594f5-cc73-46ae-9307-c5c7c4057df3\"]},\"title\":\"Bokeh Application\",\"version\":\"0.12.14\"}};\n",
       "  var render_items = [{\"docid\":\"0e11db25-1cda-4f5e-9b3a-508f09e847d3\",\"elementid\":\"62278593-c6be-4de1-ad4a-1dfe3ec8205f\",\"modelid\":\"d9b594f5-cc73-46ae-9307-c5c7c4057df3\"}];\n",
       "  root.Bokeh.embed.embed_items_notebook(docs_json, render_items);\n",
       "\n",
       "  }\n",
       "  if (root.Bokeh !== undefined) {\n",
       "    embed_document(root);\n",
       "  } else {\n",
       "    var attempts = 0;\n",
       "    var timer = setInterval(function(root) {\n",
       "      if (root.Bokeh !== undefined) {\n",
       "        embed_document(root);\n",
       "        clearInterval(timer);\n",
       "      }\n",
       "      attempts++;\n",
       "      if (attempts > 100) {\n",
       "        console.log(\"Bokeh: ERROR: Unable to run BokehJS code because BokehJS library is missing\")\n",
       "        clearInterval(timer);\n",
       "      }\n",
       "    }, 10, root)\n",
       "  }\n",
       "})(window);"
      ],
      "application/vnd.bokehjs_exec.v0+json": ""
     },
     "metadata": {
      "application/vnd.bokehjs_exec.v0+json": {
       "id": "d9b594f5-cc73-46ae-9307-c5c7c4057df3"
      }
     },
     "output_type": "display_data"
    },
    {
     "name": "stdout",
     "output_type": "stream",
     "text": [
      "FIGURE. Cooling rate profiles.\n"
     ]
    },
    {
     "data": {
      "text/html": [
       "<a id=\"Flux_Comparison\"></a>"
      ],
      "text/plain": [
       "<IPython.core.display.HTML object>"
      ]
     },
     "metadata": {},
     "output_type": "display_data"
    },
    {
     "data": {
      "text/markdown": [
       "# Flux Comparison"
      ],
      "text/plain": [
       "<IPython.core.display.Markdown object>"
      ]
     },
     "metadata": {},
     "output_type": "display_data"
    },
    {
     "data": {
      "text/html": [
       "<div>\n",
       "<style>\n",
       "    .dataframe thead tr:only-child th {\n",
       "        text-align: right;\n",
       "    }\n",
       "\n",
       "    .dataframe thead th {\n",
       "        text-align: left;\n",
       "    }\n",
       "\n",
       "    .dataframe tbody tr th {\n",
       "        vertical-align: top;\n",
       "    }\n",
       "</style>\n",
       "<table border=\"1\" class=\"dataframe\">\n",
       "  <thead>\n",
       "    <tr style=\"text-align: right;\">\n",
       "      <th></th>\n",
       "      <th></th>\n",
       "      <th>flug</th>\n",
       "      <th>fldg</th>\n",
       "      <th>fnetg</th>\n",
       "    </tr>\n",
       "    <tr>\n",
       "      <th>pressure</th>\n",
       "      <th>level</th>\n",
       "      <th></th>\n",
       "      <th></th>\n",
       "      <th></th>\n",
       "    </tr>\n",
       "  </thead>\n",
       "  <tbody>\n",
       "    <tr>\n",
       "      <th>0.0000</th>\n",
       "      <th>1</th>\n",
       "      <td>-26.516587</td>\n",
       "      <td>0.000000</td>\n",
       "      <td>-26.516587</td>\n",
       "    </tr>\n",
       "    <tr>\n",
       "      <th>1.0685</th>\n",
       "      <th>24</th>\n",
       "      <td>-26.515474</td>\n",
       "      <td>0.127666</td>\n",
       "      <td>-26.387807</td>\n",
       "    </tr>\n",
       "    <tr>\n",
       "      <th>1013.0000</th>\n",
       "      <th>76</th>\n",
       "      <td>-34.728642</td>\n",
       "      <td>6.801496</td>\n",
       "      <td>-27.927146</td>\n",
       "    </tr>\n",
       "  </tbody>\n",
       "</table>\n",
       "</div>"
      ],
      "text/plain": [
       "                      flug      fldg      fnetg\n",
       "pressure  level                                \n",
       "0.0000    1     -26.516587  0.000000 -26.516587\n",
       "1.0685    24    -26.515474  0.127666 -26.387807\n",
       "1013.0000 76    -34.728642  6.801496 -27.927146"
      ]
     },
     "metadata": {},
     "output_type": "display_data"
    },
    {
     "name": "stdout",
     "output_type": "stream",
     "text": [
      "Table. Fluxes. CRD\n"
     ]
    },
    {
     "data": {
      "text/html": [
       "<div>\n",
       "<style>\n",
       "    .dataframe thead tr:only-child th {\n",
       "        text-align: right;\n",
       "    }\n",
       "\n",
       "    .dataframe thead th {\n",
       "        text-align: left;\n",
       "    }\n",
       "\n",
       "    .dataframe tbody tr th {\n",
       "        vertical-align: top;\n",
       "    }\n",
       "</style>\n",
       "<table border=\"1\" class=\"dataframe\">\n",
       "  <thead>\n",
       "    <tr style=\"text-align: right;\">\n",
       "      <th></th>\n",
       "      <th></th>\n",
       "      <th>flug</th>\n",
       "      <th>fldg</th>\n",
       "      <th>fnetg</th>\n",
       "    </tr>\n",
       "    <tr>\n",
       "      <th>pressure</th>\n",
       "      <th>level</th>\n",
       "      <th></th>\n",
       "      <th></th>\n",
       "      <th></th>\n",
       "    </tr>\n",
       "  </thead>\n",
       "  <tbody>\n",
       "    <tr>\n",
       "      <th>0.0000</th>\n",
       "      <th>1</th>\n",
       "      <td>-26.290297</td>\n",
       "      <td>0.000000</td>\n",
       "      <td>-26.290297</td>\n",
       "    </tr>\n",
       "    <tr>\n",
       "      <th>1.0685</th>\n",
       "      <th>24</th>\n",
       "      <td>-26.286800</td>\n",
       "      <td>0.113417</td>\n",
       "      <td>-26.173383</td>\n",
       "    </tr>\n",
       "    <tr>\n",
       "      <th>1013.0000</th>\n",
       "      <th>76</th>\n",
       "      <td>-34.728642</td>\n",
       "      <td>6.806730</td>\n",
       "      <td>-27.921912</td>\n",
       "    </tr>\n",
       "  </tbody>\n",
       "</table>\n",
       "</div>"
      ],
      "text/plain": [
       "                      flug      fldg      fnetg\n",
       "pressure  level                                \n",
       "0.0000    1     -26.290297  0.000000 -26.290297\n",
       "1.0685    24    -26.286800  0.113417 -26.173383\n",
       "1013.0000 76    -34.728642  6.806730 -27.921912"
      ]
     },
     "metadata": {},
     "output_type": "display_data"
    },
    {
     "name": "stdout",
     "output_type": "stream",
     "text": [
      "Table. Fluxes. WGT igg=10\n"
     ]
    },
    {
     "data": {
      "text/html": [
       "<div>\n",
       "<style>\n",
       "    .dataframe thead tr:only-child th {\n",
       "        text-align: right;\n",
       "    }\n",
       "\n",
       "    .dataframe thead th {\n",
       "        text-align: left;\n",
       "    }\n",
       "\n",
       "    .dataframe tbody tr th {\n",
       "        vertical-align: top;\n",
       "    }\n",
       "</style>\n",
       "<table border=\"1\" class=\"dataframe\">\n",
       "  <thead>\n",
       "    <tr style=\"text-align: right;\">\n",
       "      <th></th>\n",
       "      <th></th>\n",
       "      <th>flug</th>\n",
       "      <th>fldg</th>\n",
       "      <th>fnetg</th>\n",
       "    </tr>\n",
       "    <tr>\n",
       "      <th>pressure</th>\n",
       "      <th>level</th>\n",
       "      <th></th>\n",
       "      <th></th>\n",
       "      <th></th>\n",
       "    </tr>\n",
       "  </thead>\n",
       "  <tbody>\n",
       "    <tr>\n",
       "      <th>0.0000</th>\n",
       "      <th>1</th>\n",
       "      <td>-26.383877</td>\n",
       "      <td>0.000000</td>\n",
       "      <td>-26.383877</td>\n",
       "    </tr>\n",
       "    <tr>\n",
       "      <th>1.0685</th>\n",
       "      <th>24</th>\n",
       "      <td>-26.381452</td>\n",
       "      <td>0.121025</td>\n",
       "      <td>-26.260427</td>\n",
       "    </tr>\n",
       "    <tr>\n",
       "      <th>1013.0000</th>\n",
       "      <th>76</th>\n",
       "      <td>-34.728642</td>\n",
       "      <td>6.964562</td>\n",
       "      <td>-27.764080</td>\n",
       "    </tr>\n",
       "  </tbody>\n",
       "</table>\n",
       "</div>"
      ],
      "text/plain": [
       "                      flug      fldg      fnetg\n",
       "pressure  level                                \n",
       "0.0000    1     -26.383877  0.000000 -26.383877\n",
       "1.0685    24    -26.381452  0.121025 -26.260427\n",
       "1013.0000 76    -34.728642  6.964562 -27.764080"
      ]
     },
     "metadata": {},
     "output_type": "display_data"
    },
    {
     "name": "stdout",
     "output_type": "stream",
     "text": [
      "Table. Fluxes. WGT igg=1\n"
     ]
    },
    {
     "data": {
      "text/html": [
       "<div>\n",
       "<style>\n",
       "    .dataframe thead tr:only-child th {\n",
       "        text-align: right;\n",
       "    }\n",
       "\n",
       "    .dataframe thead th {\n",
       "        text-align: left;\n",
       "    }\n",
       "\n",
       "    .dataframe tbody tr th {\n",
       "        vertical-align: top;\n",
       "    }\n",
       "</style>\n",
       "<table border=\"1\" class=\"dataframe\">\n",
       "  <thead>\n",
       "    <tr style=\"text-align: right;\">\n",
       "      <th></th>\n",
       "      <th></th>\n",
       "      <th>flug</th>\n",
       "      <th>fldg</th>\n",
       "      <th>fnetg</th>\n",
       "    </tr>\n",
       "    <tr>\n",
       "      <th>pressure</th>\n",
       "      <th>level</th>\n",
       "      <th></th>\n",
       "      <th></th>\n",
       "      <th></th>\n",
       "    </tr>\n",
       "  </thead>\n",
       "  <tbody>\n",
       "    <tr>\n",
       "      <th>0.0000</th>\n",
       "      <th>1</th>\n",
       "      <td>0.226290</td>\n",
       "      <td>0.000000</td>\n",
       "      <td>0.226290</td>\n",
       "    </tr>\n",
       "    <tr>\n",
       "      <th>1.0685</th>\n",
       "      <th>24</th>\n",
       "      <td>0.228674</td>\n",
       "      <td>-0.014250</td>\n",
       "      <td>0.214424</td>\n",
       "    </tr>\n",
       "    <tr>\n",
       "      <th>1013.0000</th>\n",
       "      <th>76</th>\n",
       "      <td>0.000000</td>\n",
       "      <td>0.005234</td>\n",
       "      <td>0.005234</td>\n",
       "    </tr>\n",
       "  </tbody>\n",
       "</table>\n",
       "</div>"
      ],
      "text/plain": [
       "                     flug      fldg     fnetg\n",
       "pressure  level                              \n",
       "0.0000    1      0.226290  0.000000  0.226290\n",
       "1.0685    24     0.228674 -0.014250  0.214424\n",
       "1013.0000 76     0.000000  0.005234  0.005234"
      ]
     },
     "metadata": {},
     "output_type": "display_data"
    },
    {
     "name": "stdout",
     "output_type": "stream",
     "text": [
      "Table. Fluxes. (WGT igg=10) - (CRD)\n"
     ]
    },
    {
     "data": {
      "text/html": [
       "<div>\n",
       "<style>\n",
       "    .dataframe thead tr:only-child th {\n",
       "        text-align: right;\n",
       "    }\n",
       "\n",
       "    .dataframe thead th {\n",
       "        text-align: left;\n",
       "    }\n",
       "\n",
       "    .dataframe tbody tr th {\n",
       "        vertical-align: top;\n",
       "    }\n",
       "</style>\n",
       "<table border=\"1\" class=\"dataframe\">\n",
       "  <thead>\n",
       "    <tr style=\"text-align: right;\">\n",
       "      <th></th>\n",
       "      <th></th>\n",
       "      <th>flug</th>\n",
       "      <th>fldg</th>\n",
       "      <th>fnetg</th>\n",
       "    </tr>\n",
       "    <tr>\n",
       "      <th>pressure</th>\n",
       "      <th>level</th>\n",
       "      <th></th>\n",
       "      <th></th>\n",
       "      <th></th>\n",
       "    </tr>\n",
       "  </thead>\n",
       "  <tbody>\n",
       "    <tr>\n",
       "      <th>0.0000</th>\n",
       "      <th>1</th>\n",
       "      <td>0.132710</td>\n",
       "      <td>0.000000</td>\n",
       "      <td>0.132710</td>\n",
       "    </tr>\n",
       "    <tr>\n",
       "      <th>1.0685</th>\n",
       "      <th>24</th>\n",
       "      <td>0.134022</td>\n",
       "      <td>-0.006641</td>\n",
       "      <td>0.127380</td>\n",
       "    </tr>\n",
       "    <tr>\n",
       "      <th>1013.0000</th>\n",
       "      <th>76</th>\n",
       "      <td>0.000000</td>\n",
       "      <td>0.163066</td>\n",
       "      <td>0.163066</td>\n",
       "    </tr>\n",
       "  </tbody>\n",
       "</table>\n",
       "</div>"
      ],
      "text/plain": [
       "                     flug      fldg     fnetg\n",
       "pressure  level                              \n",
       "0.0000    1      0.132710  0.000000  0.132710\n",
       "1.0685    24     0.134022 -0.006641  0.127380\n",
       "1013.0000 76     0.000000  0.163066  0.163066"
      ]
     },
     "metadata": {},
     "output_type": "display_data"
    },
    {
     "name": "stdout",
     "output_type": "stream",
     "text": [
      "Table. Fluxes. (WGT igg=1) - (CRD)\n"
     ]
    },
    {
     "data": {
      "text/html": [
       "<a id=\"Best-fit_Parameters\"></a>"
      ],
      "text/plain": [
       "<IPython.core.display.HTML object>"
      ]
     },
     "metadata": {},
     "output_type": "display_data"
    },
    {
     "data": {
      "text/markdown": [
       "# Best-fit Parameters"
      ],
      "text/plain": [
       "<IPython.core.display.Markdown object>"
      ]
     },
     "metadata": {},
     "output_type": "display_data"
    },
    {
     "name": "stdout",
     "output_type": "stream",
     "text": [
      "Best-fit values for each (gas, band)\n",
      "------------------------------------\n",
      "o h2o band5\n",
      "  molecule = h2o\n",
      "  band = 5\n",
      "  commitnumber = d5931a1\n",
      "  vmin = 980\n",
      "  vmax = 1100\n",
      "  dv = 0.001\n",
      "  nv = 1000\n",
      "  ref_pts = [(600, 250)]\n",
      "  ng_refs = [3]\n",
      "  ng_adju = [0]\n",
      "  klin = 1e-24\n",
      "  option_wgt_k = 1\n",
      "  wgt = [(0.5, 0.55, 0.9)]\n",
      "  w_diffuse = [(1.66, 1.66, 1.8)]\n",
      "  option_wgt_flux = 1\n",
      "  atmpro = mls\n",
      "  tsfc = 294\n",
      "  conc = None\n",
      "  option_compute_btable = 0\n",
      "  option_compute_ktable = 1\n",
      "o o3 band5\n",
      "  molecule = o3\n",
      "  band = 5\n",
      "  commitnumber = d5931a1\n",
      "  vmin = 980\n",
      "  vmax = 1100\n",
      "  dv = 0.001\n",
      "  nv = 1000\n",
      "  ref_pts = [(1, 250), (50, 250)]\n",
      "  ng_refs = [2, 5]\n",
      "  ng_adju = [0, 0]\n",
      "  klin = 2e-20\n",
      "  option_wgt_k = 1\n",
      "  wgt = [(0.35, 0.6), (0.5, 0.55, 0.7, 0.9, 1.0)]\n",
      "  w_diffuse = [(1.6, 1.75), (1.55, 1.66, 1.7, 1.75, 1.8)]\n",
      "  option_wgt_flux = 1\n",
      "  atmpro = mls\n",
      "  tsfc = 294\n",
      "  conc = None\n",
      "  option_compute_btable = 0\n",
      "  option_compute_ktable = 1\n"
     ]
    }
   ],
   "source": [
    "script()"
   ]
  },
  {
   "cell_type": "code",
   "execution_count": 12,
   "metadata": {},
   "outputs": [
    {
     "data": {
      "text/html": [
       "<script>\n",
       "code_show=true; \n",
       "function code_toggle() {\n",
       " if (code_show){\n",
       " $('div.input').hide();\n",
       " } else {\n",
       " $('div.input').show();\n",
       " }\n",
       " code_show = !code_show\n",
       "} \n",
       "$( document ).ready(code_toggle);\n",
       "</script>\n",
       "<form action=\"javascript:code_toggle()\"><input type=\"submit\" value=\"Click here to toggle on/off the raw code.\"></form>"
      ],
      "text/plain": [
       "<IPython.core.display.HTML object>"
      ]
     },
     "execution_count": 12,
     "metadata": {},
     "output_type": "execute_result"
    }
   ],
   "source": [
    "display.HTML('''<script>\n",
    "code_show=true; \n",
    "function code_toggle() {\n",
    " if (code_show){\n",
    " $('div.input').hide();\n",
    " } else {\n",
    " $('div.input').show();\n",
    " }\n",
    " code_show = !code_show\n",
    "} \n",
    "$( document ).ready(code_toggle);\n",
    "</script>\n",
    "<form action=\"javascript:code_toggle()\"><input type=\"submit\" value=\"Click here to toggle on/off the raw code.\"></form>''')"
   ]
  }
 ],
 "metadata": {
  "kernelspec": {
   "display_name": "Python 3",
   "language": "python",
   "name": "python3"
  },
  "language_info": {
   "codemirror_mode": {
    "name": "ipython",
    "version": 3
   },
   "file_extension": ".py",
   "mimetype": "text/x-python",
   "name": "python",
   "nbconvert_exporter": "python",
   "pygments_lexer": "ipython3",
   "version": "3.6.1"
  }
 },
 "nbformat": 4,
 "nbformat_minor": 2
}
