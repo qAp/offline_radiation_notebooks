{
 "cells": [
  {
   "cell_type": "code",
   "execution_count": 1,
   "metadata": {
    "collapsed": true
   },
   "outputs": [],
   "source": [
    "%matplotlib inline\n",
    "import os\n",
    "import re\n",
    "import io\n",
    "import itertools\n",
    "import pprint\n",
    "\n",
    "from bokeh.io import output_notebook, show\n",
    "from bokeh.layouts import gridplot\n",
    "from bokeh.plotting import figure\n",
    "from bokeh.models import Range1d, Legend\n",
    "from bokeh.palettes import all_palettes\n",
    "\n",
    "import matplotlib\n",
    "import matplotlib.pyplot as plt\n",
    "import numpy as np\n",
    "import pandas as pd\n",
    "import xarray as xr\n",
    "\n",
    "import climatools.lblnew.bestfit_params as bestfits\n",
    "from climatools.lblnew import setup_bestfit, setup_overlap\n",
    "import climatools.lblnew.pipeline as pipe_lblnew\n",
    "\n",
    "import climatools.html.html as climahtml\n",
    "from climatools.lblnew.dataio import *\n",
    "from climatools.plot.plot import *\n",
    "\n",
    "\n",
    "import IPython.display as display"
   ]
  },
  {
   "cell_type": "code",
   "execution_count": 2,
   "metadata": {
    "collapsed": true
   },
   "outputs": [],
   "source": [
    "%run param.py"
   ]
  },
  {
   "cell_type": "code",
   "execution_count": 3,
   "metadata": {
    "collapsed": true
   },
   "outputs": [],
   "source": [
    "def load_output_file(path_csv):\n",
    "    '''\n",
    "    Load lblnew output .csv file to xarray.Dataset\n",
    "    \n",
    "    Parameters\n",
    "    ----------\n",
    "    path_csv: str\n",
    "              Path to the .csv file to be loaded.\n",
    "    ds: xarray.Dataset\n",
    "        Data in the input file in the form of an xarray.Dataset.\n",
    "    '''\n",
    "    toindex = ['band', 'pressure', 'igg', 'g']    \n",
    "    df = pd.read_csv(path_csv, sep=r'\\s+')\n",
    "    df = df.set_index([i for i in toindex if i in df.columns])\n",
    "    df = df.rename(columns={'sfu': 'flug',\n",
    "                            'sfd': 'fldg',\n",
    "                            'fnet': 'fnetg',\n",
    "                            'coolr': 'coolrg'})\n",
    "    ds = xr.Dataset.from_dataframe(df)\n",
    "\n",
    "    for l in ('level', 'layer'):\n",
    "        if l in ds.data_vars:\n",
    "            if len(ds[l].dims) > 1:\n",
    "                surface = {d: 0 for d in ds.dims if d != 'pressure'}\n",
    "                coord_level = ds[l][surface]\n",
    "                ds.coords[l] = ('pressure', coord_level)\n",
    "            else:\n",
    "                ds.coords[l] = ('pressure', ds[l])\n",
    "    \n",
    "    return ds"
   ]
  },
  {
   "cell_type": "code",
   "execution_count": 4,
   "metadata": {
    "collapsed": true
   },
   "outputs": [],
   "source": [
    "def lblnew_setup(param=None):\n",
    "    if 'ng_refs' in param:\n",
    "        return {'setup': setup_bestfit,\n",
    "                'fname_flux_crd': 'output_flux.dat',\n",
    "                'fname_cool_crd': 'output_coolr.dat',\n",
    "                'fname_flux_wgt': 'output_wfluxg.dat',\n",
    "                'fname_cool_wgt': 'output_wcoolrg.dat'}\n",
    "    else:\n",
    "        return {'setup': setup_overlap,\n",
    "                'fname_flux_crd': 'output_flux.dat',\n",
    "                'fname_cool_crd': 'output_coolr.dat',\n",
    "                'fname_flux_wgt': 'output_wflux.dat',\n",
    "                'fname_cool_wgt': 'output_wcoolr.dat'}\n",
    "\n",
    "    \n",
    "def load_lblnew_data(param):\n",
    "    \n",
    "    fname_dsname = [('fname_flux_crd', 'ds_flux_crd'),\n",
    "                    ('fname_cool_crd', 'ds_cool_crd'),\n",
    "                    ('fname_flux_wgt', 'ds_flux_wgt'),\n",
    "                    ('fname_cool_wgt', 'ds_cool_wgt')]\n",
    "    \n",
    "    d = lblnew_setup(param)\n",
    "    dir_fortran = pipe_lblnew.get_dir_case(param, setup=d['setup'])\n",
    "    \n",
    "    data_dict = {}\n",
    "    for fname, dsname in fname_dsname:\n",
    "        fpath = os.path.join(dir_fortran, d[fname])\n",
    "        data_dict[dsname] = load_output_file(fpath)\n",
    "    return data_dict\n",
    "    \n",
    "\n",
    "    \n",
    "    "
   ]
  },
  {
   "cell_type": "code",
   "execution_count": 5,
   "metadata": {
    "collapsed": true
   },
   "outputs": [],
   "source": [
    "d = load_lblnew_data(PARAM)\n",
    "\n",
    "DS_FLUX_CRD = d['ds_flux_crd']\n",
    "DS_COOL_CRD = d['ds_cool_crd']\n",
    "DS_FLUX_WGT = d['ds_flux_wgt']\n",
    "DS_COOL_WGT = d['ds_cool_wgt']"
   ]
  },
  {
   "cell_type": "code",
   "execution_count": 6,
   "metadata": {},
   "outputs": [
    {
     "data": {
      "text/html": [
       "\n",
       "    <div class=\"bk-root\">\n",
       "        <a href=\"https://bokeh.pydata.org\" target=\"_blank\" class=\"bk-logo bk-logo-small bk-logo-notebook\"></a>\n",
       "        <span id=\"6c43517c-b8e4-43c8-a173-cf47d4abe3f1\">Loading BokehJS ...</span>\n",
       "    </div>"
      ]
     },
     "metadata": {},
     "output_type": "display_data"
    },
    {
     "data": {
      "application/javascript": [
       "\n",
       "(function(root) {\n",
       "  function now() {\n",
       "    return new Date();\n",
       "  }\n",
       "\n",
       "  var force = true;\n",
       "\n",
       "  if (typeof (root._bokeh_onload_callbacks) === \"undefined\" || force === true) {\n",
       "    root._bokeh_onload_callbacks = [];\n",
       "    root._bokeh_is_loading = undefined;\n",
       "  }\n",
       "\n",
       "  var JS_MIME_TYPE = 'application/javascript';\n",
       "  var HTML_MIME_TYPE = 'text/html';\n",
       "  var EXEC_MIME_TYPE = 'application/vnd.bokehjs_exec.v0+json';\n",
       "  var CLASS_NAME = 'output_bokeh rendered_html';\n",
       "\n",
       "  /**\n",
       "   * Render data to the DOM node\n",
       "   */\n",
       "  function render(props, node) {\n",
       "    var script = document.createElement(\"script\");\n",
       "    node.appendChild(script);\n",
       "  }\n",
       "\n",
       "  /**\n",
       "   * Handle when an output is cleared or removed\n",
       "   */\n",
       "  function handleClearOutput(event, handle) {\n",
       "    var cell = handle.cell;\n",
       "\n",
       "    var id = cell.output_area._bokeh_element_id;\n",
       "    var server_id = cell.output_area._bokeh_server_id;\n",
       "    // Clean up Bokeh references\n",
       "    if (id !== undefined) {\n",
       "      Bokeh.index[id].model.document.clear();\n",
       "      delete Bokeh.index[id];\n",
       "    }\n",
       "\n",
       "    if (server_id !== undefined) {\n",
       "      // Clean up Bokeh references\n",
       "      var cmd = \"from bokeh.io.state import curstate; print(curstate().uuid_to_server['\" + server_id + \"'].get_sessions()[0].document.roots[0]._id)\";\n",
       "      cell.notebook.kernel.execute(cmd, {\n",
       "        iopub: {\n",
       "          output: function(msg) {\n",
       "            var element_id = msg.content.text.trim();\n",
       "            Bokeh.index[element_id].model.document.clear();\n",
       "            delete Bokeh.index[element_id];\n",
       "          }\n",
       "        }\n",
       "      });\n",
       "      // Destroy server and session\n",
       "      var cmd = \"import bokeh.io.notebook as ion; ion.destroy_server('\" + server_id + \"')\";\n",
       "      cell.notebook.kernel.execute(cmd);\n",
       "    }\n",
       "  }\n",
       "\n",
       "  /**\n",
       "   * Handle when a new output is added\n",
       "   */\n",
       "  function handleAddOutput(event, handle) {\n",
       "    var output_area = handle.output_area;\n",
       "    var output = handle.output;\n",
       "\n",
       "    // limit handleAddOutput to display_data with EXEC_MIME_TYPE content only\n",
       "    if ((output.output_type != \"display_data\") || (!output.data.hasOwnProperty(EXEC_MIME_TYPE))) {\n",
       "      return\n",
       "    }\n",
       "\n",
       "    var toinsert = output_area.element.find(\".\" + CLASS_NAME.split(' ')[0]);\n",
       "\n",
       "    if (output.metadata[EXEC_MIME_TYPE][\"id\"] !== undefined) {\n",
       "      toinsert[0].firstChild.textContent = output.data[JS_MIME_TYPE];\n",
       "      // store reference to embed id on output_area\n",
       "      output_area._bokeh_element_id = output.metadata[EXEC_MIME_TYPE][\"id\"];\n",
       "    }\n",
       "    if (output.metadata[EXEC_MIME_TYPE][\"server_id\"] !== undefined) {\n",
       "      var bk_div = document.createElement(\"div\");\n",
       "      bk_div.innerHTML = output.data[HTML_MIME_TYPE];\n",
       "      var script_attrs = bk_div.children[0].attributes;\n",
       "      for (var i = 0; i < script_attrs.length; i++) {\n",
       "        toinsert[0].firstChild.setAttribute(script_attrs[i].name, script_attrs[i].value);\n",
       "      }\n",
       "      // store reference to server id on output_area\n",
       "      output_area._bokeh_server_id = output.metadata[EXEC_MIME_TYPE][\"server_id\"];\n",
       "    }\n",
       "  }\n",
       "\n",
       "  function register_renderer(events, OutputArea) {\n",
       "\n",
       "    function append_mime(data, metadata, element) {\n",
       "      // create a DOM node to render to\n",
       "      var toinsert = this.create_output_subarea(\n",
       "        metadata,\n",
       "        CLASS_NAME,\n",
       "        EXEC_MIME_TYPE\n",
       "      );\n",
       "      this.keyboard_manager.register_events(toinsert);\n",
       "      // Render to node\n",
       "      var props = {data: data, metadata: metadata[EXEC_MIME_TYPE]};\n",
       "      render(props, toinsert[0]);\n",
       "      element.append(toinsert);\n",
       "      return toinsert\n",
       "    }\n",
       "\n",
       "    /* Handle when an output is cleared or removed */\n",
       "    events.on('clear_output.CodeCell', handleClearOutput);\n",
       "    events.on('delete.Cell', handleClearOutput);\n",
       "\n",
       "    /* Handle when a new output is added */\n",
       "    events.on('output_added.OutputArea', handleAddOutput);\n",
       "\n",
       "    /**\n",
       "     * Register the mime type and append_mime function with output_area\n",
       "     */\n",
       "    OutputArea.prototype.register_mime_type(EXEC_MIME_TYPE, append_mime, {\n",
       "      /* Is output safe? */\n",
       "      safe: true,\n",
       "      /* Index of renderer in `output_area.display_order` */\n",
       "      index: 0\n",
       "    });\n",
       "  }\n",
       "\n",
       "  // register the mime type if in Jupyter Notebook environment and previously unregistered\n",
       "  if (root.Jupyter !== undefined) {\n",
       "    var events = require('base/js/events');\n",
       "    var OutputArea = require('notebook/js/outputarea').OutputArea;\n",
       "\n",
       "    if (OutputArea.prototype.mime_types().indexOf(EXEC_MIME_TYPE) == -1) {\n",
       "      register_renderer(events, OutputArea);\n",
       "    }\n",
       "  }\n",
       "\n",
       "  \n",
       "  if (typeof (root._bokeh_timeout) === \"undefined\" || force === true) {\n",
       "    root._bokeh_timeout = Date.now() + 5000;\n",
       "    root._bokeh_failed_load = false;\n",
       "  }\n",
       "\n",
       "  var NB_LOAD_WARNING = {'data': {'text/html':\n",
       "     \"<div style='background-color: #fdd'>\\n\"+\n",
       "     \"<p>\\n\"+\n",
       "     \"BokehJS does not appear to have successfully loaded. If loading BokehJS from CDN, this \\n\"+\n",
       "     \"may be due to a slow or bad network connection. Possible fixes:\\n\"+\n",
       "     \"</p>\\n\"+\n",
       "     \"<ul>\\n\"+\n",
       "     \"<li>re-rerun `output_notebook()` to attempt to load from CDN again, or</li>\\n\"+\n",
       "     \"<li>use INLINE resources instead, as so:</li>\\n\"+\n",
       "     \"</ul>\\n\"+\n",
       "     \"<code>\\n\"+\n",
       "     \"from bokeh.resources import INLINE\\n\"+\n",
       "     \"output_notebook(resources=INLINE)\\n\"+\n",
       "     \"</code>\\n\"+\n",
       "     \"</div>\"}};\n",
       "\n",
       "  function display_loaded() {\n",
       "    var el = document.getElementById(\"6c43517c-b8e4-43c8-a173-cf47d4abe3f1\");\n",
       "    if (el != null) {\n",
       "      el.textContent = \"BokehJS is loading...\";\n",
       "    }\n",
       "    if (root.Bokeh !== undefined) {\n",
       "      if (el != null) {\n",
       "        el.textContent = \"BokehJS \" + root.Bokeh.version + \" successfully loaded.\";\n",
       "      }\n",
       "    } else if (Date.now() < root._bokeh_timeout) {\n",
       "      setTimeout(display_loaded, 100)\n",
       "    }\n",
       "  }\n",
       "\n",
       "\n",
       "  function run_callbacks() {\n",
       "    try {\n",
       "      root._bokeh_onload_callbacks.forEach(function(callback) { callback() });\n",
       "    }\n",
       "    finally {\n",
       "      delete root._bokeh_onload_callbacks\n",
       "    }\n",
       "    console.info(\"Bokeh: all callbacks have finished\");\n",
       "  }\n",
       "\n",
       "  function load_libs(js_urls, callback) {\n",
       "    root._bokeh_onload_callbacks.push(callback);\n",
       "    if (root._bokeh_is_loading > 0) {\n",
       "      console.log(\"Bokeh: BokehJS is being loaded, scheduling callback at\", now());\n",
       "      return null;\n",
       "    }\n",
       "    if (js_urls == null || js_urls.length === 0) {\n",
       "      run_callbacks();\n",
       "      return null;\n",
       "    }\n",
       "    console.log(\"Bokeh: BokehJS not loaded, scheduling load and callback at\", now());\n",
       "    root._bokeh_is_loading = js_urls.length;\n",
       "    for (var i = 0; i < js_urls.length; i++) {\n",
       "      var url = js_urls[i];\n",
       "      var s = document.createElement('script');\n",
       "      s.src = url;\n",
       "      s.async = false;\n",
       "      s.onreadystatechange = s.onload = function() {\n",
       "        root._bokeh_is_loading--;\n",
       "        if (root._bokeh_is_loading === 0) {\n",
       "          console.log(\"Bokeh: all BokehJS libraries loaded\");\n",
       "          run_callbacks()\n",
       "        }\n",
       "      };\n",
       "      s.onerror = function() {\n",
       "        console.warn(\"failed to load library \" + url);\n",
       "      };\n",
       "      console.log(\"Bokeh: injecting script tag for BokehJS library: \", url);\n",
       "      document.getElementsByTagName(\"head\")[0].appendChild(s);\n",
       "    }\n",
       "  };var element = document.getElementById(\"6c43517c-b8e4-43c8-a173-cf47d4abe3f1\");\n",
       "  if (element == null) {\n",
       "    console.log(\"Bokeh: ERROR: autoload.js configured with elementid '6c43517c-b8e4-43c8-a173-cf47d4abe3f1' but no matching script tag was found. \")\n",
       "    return false;\n",
       "  }\n",
       "\n",
       "  var js_urls = [\"https://cdn.pydata.org/bokeh/release/bokeh-0.12.14.min.js\", \"https://cdn.pydata.org/bokeh/release/bokeh-widgets-0.12.14.min.js\", \"https://cdn.pydata.org/bokeh/release/bokeh-tables-0.12.14.min.js\", \"https://cdn.pydata.org/bokeh/release/bokeh-gl-0.12.14.min.js\"];\n",
       "\n",
       "  var inline_js = [\n",
       "    function(Bokeh) {\n",
       "      Bokeh.set_log_level(\"info\");\n",
       "    },\n",
       "    \n",
       "    function(Bokeh) {\n",
       "      \n",
       "    },\n",
       "    function(Bokeh) {\n",
       "      console.log(\"Bokeh: injecting CSS: https://cdn.pydata.org/bokeh/release/bokeh-0.12.14.min.css\");\n",
       "      Bokeh.embed.inject_css(\"https://cdn.pydata.org/bokeh/release/bokeh-0.12.14.min.css\");\n",
       "      console.log(\"Bokeh: injecting CSS: https://cdn.pydata.org/bokeh/release/bokeh-widgets-0.12.14.min.css\");\n",
       "      Bokeh.embed.inject_css(\"https://cdn.pydata.org/bokeh/release/bokeh-widgets-0.12.14.min.css\");\n",
       "      console.log(\"Bokeh: injecting CSS: https://cdn.pydata.org/bokeh/release/bokeh-tables-0.12.14.min.css\");\n",
       "      Bokeh.embed.inject_css(\"https://cdn.pydata.org/bokeh/release/bokeh-tables-0.12.14.min.css\");\n",
       "    }\n",
       "  ];\n",
       "\n",
       "  function run_inline_js() {\n",
       "    \n",
       "    if ((root.Bokeh !== undefined) || (force === true)) {\n",
       "      for (var i = 0; i < inline_js.length; i++) {\n",
       "        inline_js[i].call(root, root.Bokeh);\n",
       "      }if (force === true) {\n",
       "        display_loaded();\n",
       "      }} else if (Date.now() < root._bokeh_timeout) {\n",
       "      setTimeout(run_inline_js, 100);\n",
       "    } else if (!root._bokeh_failed_load) {\n",
       "      console.log(\"Bokeh: BokehJS failed to load within specified timeout.\");\n",
       "      root._bokeh_failed_load = true;\n",
       "    } else if (force !== true) {\n",
       "      var cell = $(document.getElementById(\"6c43517c-b8e4-43c8-a173-cf47d4abe3f1\")).parents('.cell').data().cell;\n",
       "      cell.output_area.append_execute_result(NB_LOAD_WARNING)\n",
       "    }\n",
       "\n",
       "  }\n",
       "\n",
       "  if (root._bokeh_is_loading === 0) {\n",
       "    console.log(\"Bokeh: BokehJS loaded, going straight to plotting\");\n",
       "    run_inline_js();\n",
       "  } else {\n",
       "    load_libs(js_urls, function() {\n",
       "      console.log(\"Bokeh: BokehJS plotting callback run at\", now());\n",
       "      run_inline_js();\n",
       "    });\n",
       "  }\n",
       "}(window));"
      ],
      "application/vnd.bokehjs_load.v0+json": "\n(function(root) {\n  function now() {\n    return new Date();\n  }\n\n  var force = true;\n\n  if (typeof (root._bokeh_onload_callbacks) === \"undefined\" || force === true) {\n    root._bokeh_onload_callbacks = [];\n    root._bokeh_is_loading = undefined;\n  }\n\n  \n\n  \n  if (typeof (root._bokeh_timeout) === \"undefined\" || force === true) {\n    root._bokeh_timeout = Date.now() + 5000;\n    root._bokeh_failed_load = false;\n  }\n\n  var NB_LOAD_WARNING = {'data': {'text/html':\n     \"<div style='background-color: #fdd'>\\n\"+\n     \"<p>\\n\"+\n     \"BokehJS does not appear to have successfully loaded. If loading BokehJS from CDN, this \\n\"+\n     \"may be due to a slow or bad network connection. Possible fixes:\\n\"+\n     \"</p>\\n\"+\n     \"<ul>\\n\"+\n     \"<li>re-rerun `output_notebook()` to attempt to load from CDN again, or</li>\\n\"+\n     \"<li>use INLINE resources instead, as so:</li>\\n\"+\n     \"</ul>\\n\"+\n     \"<code>\\n\"+\n     \"from bokeh.resources import INLINE\\n\"+\n     \"output_notebook(resources=INLINE)\\n\"+\n     \"</code>\\n\"+\n     \"</div>\"}};\n\n  function display_loaded() {\n    var el = document.getElementById(\"6c43517c-b8e4-43c8-a173-cf47d4abe3f1\");\n    if (el != null) {\n      el.textContent = \"BokehJS is loading...\";\n    }\n    if (root.Bokeh !== undefined) {\n      if (el != null) {\n        el.textContent = \"BokehJS \" + root.Bokeh.version + \" successfully loaded.\";\n      }\n    } else if (Date.now() < root._bokeh_timeout) {\n      setTimeout(display_loaded, 100)\n    }\n  }\n\n\n  function run_callbacks() {\n    try {\n      root._bokeh_onload_callbacks.forEach(function(callback) { callback() });\n    }\n    finally {\n      delete root._bokeh_onload_callbacks\n    }\n    console.info(\"Bokeh: all callbacks have finished\");\n  }\n\n  function load_libs(js_urls, callback) {\n    root._bokeh_onload_callbacks.push(callback);\n    if (root._bokeh_is_loading > 0) {\n      console.log(\"Bokeh: BokehJS is being loaded, scheduling callback at\", now());\n      return null;\n    }\n    if (js_urls == null || js_urls.length === 0) {\n      run_callbacks();\n      return null;\n    }\n    console.log(\"Bokeh: BokehJS not loaded, scheduling load and callback at\", now());\n    root._bokeh_is_loading = js_urls.length;\n    for (var i = 0; i < js_urls.length; i++) {\n      var url = js_urls[i];\n      var s = document.createElement('script');\n      s.src = url;\n      s.async = false;\n      s.onreadystatechange = s.onload = function() {\n        root._bokeh_is_loading--;\n        if (root._bokeh_is_loading === 0) {\n          console.log(\"Bokeh: all BokehJS libraries loaded\");\n          run_callbacks()\n        }\n      };\n      s.onerror = function() {\n        console.warn(\"failed to load library \" + url);\n      };\n      console.log(\"Bokeh: injecting script tag for BokehJS library: \", url);\n      document.getElementsByTagName(\"head\")[0].appendChild(s);\n    }\n  };var element = document.getElementById(\"6c43517c-b8e4-43c8-a173-cf47d4abe3f1\");\n  if (element == null) {\n    console.log(\"Bokeh: ERROR: autoload.js configured with elementid '6c43517c-b8e4-43c8-a173-cf47d4abe3f1' but no matching script tag was found. \")\n    return false;\n  }\n\n  var js_urls = [\"https://cdn.pydata.org/bokeh/release/bokeh-0.12.14.min.js\", \"https://cdn.pydata.org/bokeh/release/bokeh-widgets-0.12.14.min.js\", \"https://cdn.pydata.org/bokeh/release/bokeh-tables-0.12.14.min.js\", \"https://cdn.pydata.org/bokeh/release/bokeh-gl-0.12.14.min.js\"];\n\n  var inline_js = [\n    function(Bokeh) {\n      Bokeh.set_log_level(\"info\");\n    },\n    \n    function(Bokeh) {\n      \n    },\n    function(Bokeh) {\n      console.log(\"Bokeh: injecting CSS: https://cdn.pydata.org/bokeh/release/bokeh-0.12.14.min.css\");\n      Bokeh.embed.inject_css(\"https://cdn.pydata.org/bokeh/release/bokeh-0.12.14.min.css\");\n      console.log(\"Bokeh: injecting CSS: https://cdn.pydata.org/bokeh/release/bokeh-widgets-0.12.14.min.css\");\n      Bokeh.embed.inject_css(\"https://cdn.pydata.org/bokeh/release/bokeh-widgets-0.12.14.min.css\");\n      console.log(\"Bokeh: injecting CSS: https://cdn.pydata.org/bokeh/release/bokeh-tables-0.12.14.min.css\");\n      Bokeh.embed.inject_css(\"https://cdn.pydata.org/bokeh/release/bokeh-tables-0.12.14.min.css\");\n    }\n  ];\n\n  function run_inline_js() {\n    \n    if ((root.Bokeh !== undefined) || (force === true)) {\n      for (var i = 0; i < inline_js.length; i++) {\n        inline_js[i].call(root, root.Bokeh);\n      }if (force === true) {\n        display_loaded();\n      }} else if (Date.now() < root._bokeh_timeout) {\n      setTimeout(run_inline_js, 100);\n    } else if (!root._bokeh_failed_load) {\n      console.log(\"Bokeh: BokehJS failed to load within specified timeout.\");\n      root._bokeh_failed_load = true;\n    } else if (force !== true) {\n      var cell = $(document.getElementById(\"6c43517c-b8e4-43c8-a173-cf47d4abe3f1\")).parents('.cell').data().cell;\n      cell.output_area.append_execute_result(NB_LOAD_WARNING)\n    }\n\n  }\n\n  if (root._bokeh_is_loading === 0) {\n    console.log(\"Bokeh: BokehJS loaded, going straight to plotting\");\n    run_inline_js();\n  } else {\n    load_libs(js_urls, function() {\n      console.log(\"Bokeh: BokehJS plotting callback run at\", now());\n      run_inline_js();\n    });\n  }\n}(window));"
     },
     "metadata": {},
     "output_type": "display_data"
    }
   ],
   "source": [
    "output_notebook()"
   ]
  },
  {
   "cell_type": "code",
   "execution_count": 7,
   "metadata": {
    "collapsed": true
   },
   "outputs": [],
   "source": [
    "def fmt_cool(ds_in):\n",
    "    ds = ds_in.copy(deep=True)\n",
    "    if 'igg' in ds.dims:\n",
    "        ds = ds.sel(igg=1)\n",
    "\n",
    "    if 'g' in ds.dims:\n",
    "        ds = ds.sum('g')\n",
    "            \n",
    "    if 'band' in ds.dims:\n",
    "        try:\n",
    "            ds = ds.squeeze('band')\n",
    "        except ValueError:\n",
    "            ds = ds.sum('band')\n",
    "                \n",
    "    return ds['coolrg']\n",
    "\n",
    "\n",
    "def pltdata_cooling_1(ds_cool_crd=None, ds_cool_wgt=None):\n",
    "    \n",
    "\n",
    "\n",
    "    colors = all_palettes['Set1'][4]\n",
    "    data = [{'label': 'CRD',\n",
    "             'srs': fmt_cool(ds_cool_crd),\n",
    "             'line_dash': 'solid', 'line_width': 1.5,\n",
    "             'marker': 'circle', 'marker_size': 5,\n",
    "             'color': colors[2], 'alpha': 1,},\n",
    "            {'label': 'WGT igg=10',\n",
    "             'srs': fmt_cool(ds_cool_wgt.sel(igg=10)),\n",
    "             'line_dash': 'solid', 'line_width': 3,\n",
    "             'marker': 'square', 'marker_size': 5,\n",
    "             'color': colors[3], 'alpha': .6},\n",
    "            {'label': 'WGT igg=1',\n",
    "             'srs': fmt_cool(ds_cool_wgt.sel(igg=1)),\n",
    "             'line_dash': 'dotdash', 'line_width': 3,\n",
    "             'marker': 'inverted_triangle', 'marker_size': 5,\n",
    "             'color': colors[1], 'alpha': .6}\n",
    "           ]\n",
    "    return data\n",
    "\n",
    "\n",
    "def nice_xlims(pltdata=None, prange=None):\n",
    "    \n",
    "    def get_slice(srs):\n",
    "        return srs.sel(pressure=slice(*prange))\n",
    "    \n",
    "    srss = [d['srs'] for d in pltdata]\n",
    "    vmin = min([get_slice(srs).min() for srs in srss])\n",
    "    vmax = max([get_slice(srs).max() for srs in srss])\n",
    "    dv = (vmax - vmin) * .01\n",
    "    return float(vmin - dv), float(vmax + dv)\n",
    "    \n",
    "\n",
    "def plt_cooling_bokeh(pltdata=None):\n",
    "    '''\n",
    "    Plot a list of cooling rate profiles using bokeh.\n",
    "    '''\n",
    "    ymin = 1e-2 \n",
    "    ymax = 1020 \n",
    "        \n",
    "    p1 = figure(title=\"Linear pressure scale\", \n",
    "                plot_width=400)        \n",
    "    xmin, xmax = nice_xlims(pltdata, prange=(50, 1050))\n",
    "    for d in pltdata:\n",
    "        if 'marker' in d:\n",
    "            getattr(p1, d['marker'])(d['srs'].values, \n",
    "                    d['srs'].coords['pressure'].values,\n",
    "                    color=d['color'], alpha=.7)\n",
    "        p1.line(d['srs'].values, \n",
    "                d['srs'].coords['pressure'].values,\n",
    "                color=d['color'], alpha=d['alpha'], \n",
    "                line_width=d['line_width'], line_dash=d['line_dash'])\n",
    "    \n",
    "    p1.y_range = Range1d(ymax, ymin)\n",
    "    p1.yaxis.axis_label = 'pressure [mb]'   \n",
    "    p1.x_range = Range1d(xmin, xmax)\n",
    "    p1.xaxis.axis_label = 'cooling rate [K/day]'\n",
    "            \n",
    "    p2 = figure(title='Log pressure scale', y_axis_type='log',\n",
    "                plot_width=560)\n",
    "    xmin, xmax = nice_xlims(pltdata, prange=(.01, 200))\n",
    "    \n",
    "    rs = []\n",
    "    for d in pltdata:\n",
    "        rd = []\n",
    "        if 'marker' in d:\n",
    "            r_mark = getattr(p2, d['marker'])(d['srs'].values, \n",
    "                        d['srs'].coords['pressure'].values,\n",
    "                        color=d['color'], alpha=.7)\n",
    "            rd.append(r_mark)\n",
    "        r_line = p2.line(d['srs'].values, \n",
    "                    d['srs'].coords['pressure'].values,\n",
    "                    color=d['color'], alpha=d['alpha'], \n",
    "                    line_width=d['line_width'], line_dash=d['line_dash'])\n",
    "        rd.append(r_line)\n",
    "      \n",
    "        rs.append(rd)\n",
    "        \n",
    "    p2.y_range = Range1d(ymax, ymin)  \n",
    "    p2.yaxis.axis_label = 'pressure [mb]'\n",
    "    \n",
    "    p2.x_range = Range1d(xmin, xmax)\n",
    "    p2.xaxis.axis_label = 'cooling rate [K/day]'\n",
    "    \n",
    "    items = [(d['label'], r) for r, d in zip(rs, pltdata)]\n",
    "    legend = Legend(items=items, location=(10, -30))\n",
    "    legend.label_text_font_size = '8pt'\n",
    "    \n",
    "    p2.add_layout(legend, 'right')  \n",
    "    \n",
    "    show(gridplot(p1, p2, ncols=2, plot_height=500))\n",
    "    \n",
    "\n",
    "def script_plt_cooling():\n",
    "    pltdata = pltdata_cooling_1(\n",
    "        ds_cool_crd=DS_COOL_CRD,\n",
    "        ds_cool_wgt=DS_COOL_WGT)\n",
    "    plt_cooling_bokeh(pltdata=pltdata)\n",
    "    print('''FIGURE. Cooling rate profiles.''')"
   ]
  },
  {
   "cell_type": "code",
   "execution_count": 8,
   "metadata": {
    "collapsed": true
   },
   "outputs": [],
   "source": [
    "def fmt_flux(ds_in):\n",
    "    ds = ds_in.copy(deep=True)\n",
    "    \n",
    "    for l in ('level', 'layer'):\n",
    "        if l in ds.data_vars:\n",
    "            if len(ds[l].dims) > 1:\n",
    "                surface = {d: 0 for d in ds.dims if d != 'pressure'}\n",
    "                coord_level = ds[l][surface]\n",
    "                ds.coords[l] = ('pressure', coord_level)\n",
    "            else:\n",
    "                ds.coords[l] = ('pressure', ds[l])\n",
    "        \n",
    "    ds = ds.isel(pressure=[0, 23, -1])\n",
    "    \n",
    "    if 'igg' in ds.dims:\n",
    "        if ds.dims['igg'] > 1:\n",
    "            print('Select an igg value to view in table.')\n",
    "            raise ValueError\n",
    "        else:\n",
    "            ds = ds.squeeze('igg').drop('igg')\n",
    "    else:\n",
    "        if 'igg' in ds.coords:\n",
    "            ds = ds.drop('igg')\n",
    "\n",
    "    if 'g' in ds.dims:\n",
    "        ds = ds.sum('g')\n",
    "            \n",
    "    if 'band' in ds.dims:\n",
    "        try:\n",
    "            ds = ds.squeeze('band').drop('band')\n",
    "        except ValueError:\n",
    "            ds = ds.sum('band')\n",
    "                \n",
    "    df = ds.to_dataframe()\n",
    "    df = df.set_index('level', append=True)               \n",
    "    return df\n",
    "\n",
    "\n",
    "def tbdata_flux(ds_flux_crd=None, ds_flux_wgt=None):\n",
    "    ilevels = [0, 23, -1]\n",
    "            \n",
    "    benchmark = {'label': 'CRD',\n",
    "                 'df': fmt_flux(ds_flux_crd)}\n",
    "    tbs = [{'label': 'WGT igg=10',\n",
    "            'df': fmt_flux(ds_flux_wgt.sel(igg=10))},\n",
    "           {'label': 'WGT igg=1',\n",
    "            'df': fmt_flux(ds_flux_wgt.sel(igg=1))}]\n",
    "    \n",
    "    data = {'benchmark': benchmark, 'others': tbs}\n",
    "    return data\n",
    "\n",
    "\n",
    "def tb_flux(tbdata=None):\n",
    "    benchmark = tbdata['benchmark']\n",
    "    others = tbdata['others']\n",
    "    \n",
    "    def show_tb(d=None):\n",
    "        display.display(d['df'])\n",
    "        print('Table.', 'Fluxes.', d['label'])\n",
    "        \n",
    "    def show_tbdiff(d0=None, d=None):\n",
    "        df = d['df']\n",
    "        df.index = d0['df'].index\n",
    "        display.display(df - d0['df'])\n",
    "        print('Table.', 'Fluxes.', \n",
    "              '({}) - ({})'.format(d['label'], d0['label']))\n",
    "        \n",
    "    show_tb(benchmark)\n",
    "    for d in others:\n",
    "        show_tb(d)\n",
    "        \n",
    "    for d in others:\n",
    "        show_tbdiff(d=d, d0=benchmark)\n",
    "        \n",
    "        \n",
    "def script_tb_flux():\n",
    "    data = tbdata_flux(ds_flux_crd=DS_FLUX_CRD,\n",
    "                       ds_flux_wgt=DS_FLUX_WGT)\n",
    "    tb_flux(tbdata=data)"
   ]
  },
  {
   "cell_type": "code",
   "execution_count": 9,
   "metadata": {
    "collapsed": true
   },
   "outputs": [],
   "source": [
    "def band_map():\n",
    "    '''\n",
    "    Maps spectral bands in lblnew to spectral bands in clirad.\n",
    "    '''\n",
    "    lblnew2clirad = {'1': '1',\n",
    "            '2': '2',\n",
    "            '3a': '3',\n",
    "            '3b': '4',\n",
    "            '3c': '5',\n",
    "            '4': '6', \n",
    "            '5': '7',\n",
    "            '6': '8',\n",
    "            '7': '9', \n",
    "            '8': '10',\n",
    "            '9': '11'}\n",
    "    \n",
    "    clirad2lblnew = {clirad: lblnew \n",
    "                     for lblnew, clirad in lblnew2clirad.items()}\n",
    "    return clirad2lblnew\n",
    "\n",
    "\n",
    "def gasbands():\n",
    "    bmap = band_map()\n",
    "    gases = list(PARAM['molecule'].keys())\n",
    "    \n",
    "    bands = [str(b) for b in PARAM['band']]\n",
    "    return list(itertools.product(gases, bands))\n",
    "\n",
    "\n",
    "def print_bestfit_params():\n",
    "    print('Best-fit values for each (gas, band)')\n",
    "    print('------------------------------------')\n",
    "    for gas, band in gasbands():\n",
    "        print('o {} band{}'.format(gas, band))\n",
    "        param = bestfits.kdist_params(molecule=gas, band=band)\n",
    "        for name, value in param.items():\n",
    "            print(2 * ' ' + '{} = {}'.format(name, value))\n",
    "\n",
    "        \n",
    "def print_input_param():        \n",
    "    for name, value in PARAM.items():\n",
    "        print('{} = {}'.format(name, value))\n"
   ]
  },
  {
   "cell_type": "code",
   "execution_count": 10,
   "metadata": {
    "collapsed": true,
    "scrolled": false
   },
   "outputs": [],
   "source": [
    "def show_html(s):\n",
    "    display.display(display.HTML(s))\n",
    "\n",
    "    \n",
    "def show_markdown(s):\n",
    "    display.display(display.Markdown(s))\n",
    "\n",
    "    \n",
    "def script():\n",
    "    \n",
    "    title = '### LBLNEW-OVERLAP'\n",
    "    s_input = 'Input Parameters'\n",
    "    s_bestfits = 'Best-fit Parameters'\n",
    "    s_plt_cooling = 'Cooling Rate Profiles'\n",
    "    s_tb_flux = 'Flux Comparison'\n",
    "    \n",
    "    # title\n",
    "    show_markdown(title)\n",
    "    \n",
    "    # TOC\n",
    "    show_markdown('### Table of Contents')\n",
    "    show_html(climahtml.getHTML_hrefanchor(s_input))\n",
    "    show_html(climahtml.getHTML_hrefanchor(s_plt_cooling))\n",
    "    show_html(climahtml.getHTML_hrefanchor(s_tb_flux))\n",
    "    show_html(climahtml.getHTML_hrefanchor(s_bestfits))\n",
    "    \n",
    "    # Input parameters\n",
    "    show_html(climahtml.getHTML_idanchor(s_input))\n",
    "    show_markdown(climahtml.getMarkdown_sectitle(s_input))\n",
    "    print_input_param()\n",
    "    \n",
    "    # Cooling rate profiles\n",
    "    show_html(climahtml.getHTML_idanchor(s_plt_cooling))\n",
    "    show_markdown(climahtml.getMarkdown_sectitle(s_plt_cooling))\n",
    "    script_plt_cooling()\n",
    "    \n",
    "    # Flux comparison\n",
    "    show_html(climahtml.getHTML_idanchor(s_tb_flux))\n",
    "    show_markdown(climahtml.getMarkdown_sectitle(s_tb_flux))\n",
    "    script_tb_flux()\n",
    "    \n",
    "    # Best-fit values\n",
    "    show_html(climahtml.getHTML_idanchor(s_bestfits))\n",
    "    show_markdown(climahtml.getMarkdown_sectitle(s_bestfits))\n",
    "    print_bestfit_params()\n",
    "   \n",
    "    "
   ]
  },
  {
   "cell_type": "code",
   "execution_count": 11,
   "metadata": {
    "scrolled": false
   },
   "outputs": [
    {
     "data": {
      "text/markdown": [
       "### LBLNEW-OVERLAP"
      ],
      "text/plain": [
       "<IPython.core.display.Markdown object>"
      ]
     },
     "metadata": {},
     "output_type": "display_data"
    },
    {
     "data": {
      "text/markdown": [
       "### Table of Contents"
      ],
      "text/plain": [
       "<IPython.core.display.Markdown object>"
      ]
     },
     "metadata": {},
     "output_type": "display_data"
    },
    {
     "data": {
      "text/html": [
       "<a href=\"#Input_Parameters\">Input Parameters</a>"
      ],
      "text/plain": [
       "<IPython.core.display.HTML object>"
      ]
     },
     "metadata": {},
     "output_type": "display_data"
    },
    {
     "data": {
      "text/html": [
       "<a href=\"#Cooling_Rate_Profiles\">Cooling Rate Profiles</a>"
      ],
      "text/plain": [
       "<IPython.core.display.HTML object>"
      ]
     },
     "metadata": {},
     "output_type": "display_data"
    },
    {
     "data": {
      "text/html": [
       "<a href=\"#Flux_Comparison\">Flux Comparison</a>"
      ],
      "text/plain": [
       "<IPython.core.display.HTML object>"
      ]
     },
     "metadata": {},
     "output_type": "display_data"
    },
    {
     "data": {
      "text/html": [
       "<a href=\"#Best-fit_Parameters\">Best-fit Parameters</a>"
      ],
      "text/plain": [
       "<IPython.core.display.HTML object>"
      ]
     },
     "metadata": {},
     "output_type": "display_data"
    },
    {
     "data": {
      "text/html": [
       "<a id=\"Input_Parameters\"></a>"
      ],
      "text/plain": [
       "<IPython.core.display.HTML object>"
      ]
     },
     "metadata": {},
     "output_type": "display_data"
    },
    {
     "data": {
      "text/markdown": [
       "# Input Parameters"
      ],
      "text/plain": [
       "<IPython.core.display.Markdown object>"
      ]
     },
     "metadata": {},
     "output_type": "display_data"
    },
    {
     "name": "stdout",
     "output_type": "stream",
     "text": [
      "commitnumber = c9f85fd\n",
      "molecule = {'h2o': 'atmpro', 'o3': 'atmpro'}\n",
      "band = 5\n",
      "nv = 1000\n",
      "dv = 0.001\n",
      "atmpro = saw\n",
      "tsfc = 257\n"
     ]
    },
    {
     "data": {
      "text/html": [
       "<a id=\"Cooling_Rate_Profiles\"></a>"
      ],
      "text/plain": [
       "<IPython.core.display.HTML object>"
      ]
     },
     "metadata": {},
     "output_type": "display_data"
    },
    {
     "data": {
      "text/markdown": [
       "# Cooling Rate Profiles"
      ],
      "text/plain": [
       "<IPython.core.display.Markdown object>"
      ]
     },
     "metadata": {},
     "output_type": "display_data"
    },
    {
     "data": {
      "text/html": [
       "\n",
       "<div class=\"bk-root\">\n",
       "    <div class=\"bk-plotdiv\" id=\"4fe83d4e-f408-437a-b264-eea5b498aff3\"></div>\n",
       "</div>"
      ]
     },
     "metadata": {},
     "output_type": "display_data"
    },
    {
     "data": {
      "application/javascript": [
       "(function(root) {\n",
       "  function embed_document(root) {\n",
       "    \n",
       "  var docs_json = {\"9d6c0ced-87fd-4b11-bbf0-5b58705a5787\":{\"roots\":{\"references\":[{\"attributes\":{},\"id\":\"4c244d54-82d9-48a9-848b-fb9ff30e4e3d\",\"type\":\"BasicTickFormatter\"},{\"attributes\":{\"overlay\":{\"id\":\"638c5247-66cb-472f-b979-f4f1e4f6aab9\",\"type\":\"BoxAnnotation\"}},\"id\":\"f9a1c0ae-d057-416d-82a0-b1281d8c4969\",\"type\":\"BoxZoomTool\"},{\"attributes\":{},\"id\":\"5e1d1008-8053-4454-b3ac-17f5aee71063\",\"type\":\"ResetTool\"},{\"attributes\":{\"fill_alpha\":{\"value\":0.7},\"fill_color\":{\"value\":\"#377eb8\"},\"line_alpha\":{\"value\":0.7},\"line_color\":{\"value\":\"#377eb8\"},\"x\":{\"field\":\"x\"},\"y\":{\"field\":\"y\"}},\"id\":\"d8accd0d-0daa-4714-90b5-3c50477749bb\",\"type\":\"InvertedTriangle\"},{\"attributes\":{\"axis_label\":\"cooling rate [K/day]\",\"formatter\":{\"id\":\"9bf5e714-7f97-4d05-b903-498d7376b2d1\",\"type\":\"BasicTickFormatter\"},\"plot\":{\"id\":\"9e4da891-03ac-4832-9bd2-ff486f673530\",\"subtype\":\"Figure\",\"type\":\"Plot\"},\"ticker\":{\"id\":\"71bc026c-6283-4290-a4d3-7bf02b9df3e0\",\"type\":\"BasicTicker\"}},\"id\":\"0216cf2b-e18a-4abf-9815-ce0afaa64bcf\",\"type\":\"LinearAxis\"},{\"attributes\":{\"data_source\":{\"id\":\"8df6bb55-21fb-4bc2-8bd5-6616ea6d163f\",\"type\":\"ColumnDataSource\"},\"glyph\":{\"id\":\"51a0cdef-3689-40ca-9f86-d0b9b4bd3598\",\"type\":\"Circle\"},\"hover_glyph\":null,\"muted_glyph\":null,\"nonselection_glyph\":{\"id\":\"be6e1e28-821c-437f-b17b-ec112e34e873\",\"type\":\"Circle\"},\"selection_glyph\":null,\"view\":{\"id\":\"50af0a69-e942-4fbf-b62d-218c3db0526d\",\"type\":\"CDSView\"}},\"id\":\"6e7e96ef-074f-4bf5-be2d-47574da02586\",\"type\":\"GlyphRenderer\"},{\"attributes\":{},\"id\":\"bc836599-8a5b-4c89-859e-f508de3d3c7d\",\"type\":\"BasicTicker\"},{\"attributes\":{},\"id\":\"cad3bb07-556c-41d8-8b8f-3a96cc0c9b15\",\"type\":\"WheelZoomTool\"},{\"attributes\":{\"fill_alpha\":{\"value\":0.1},\"fill_color\":{\"value\":\"#1f77b4\"},\"line_alpha\":{\"value\":0.1},\"line_color\":{\"value\":\"#1f77b4\"},\"x\":{\"field\":\"x\"},\"y\":{\"field\":\"y\"}},\"id\":\"bd07d653-b9f0-4db6-911a-5e88df788c43\",\"type\":\"InvertedTriangle\"},{\"attributes\":{\"source\":{\"id\":\"8df6bb55-21fb-4bc2-8bd5-6616ea6d163f\",\"type\":\"ColumnDataSource\"}},\"id\":\"50af0a69-e942-4fbf-b62d-218c3db0526d\",\"type\":\"CDSView\"},{\"attributes\":{},\"id\":\"e26097ac-d62b-4334-919a-ed1f26483777\",\"type\":\"PanTool\"},{\"attributes\":{},\"id\":\"707ff37f-6cfe-4612-8f9e-0a30edf21a0d\",\"type\":\"LinearScale\"},{\"attributes\":{},\"id\":\"473bf6fd-1325-427f-9a4d-169c23e27bef\",\"type\":\"SaveTool\"},{\"attributes\":{\"callback\":null,\"column_names\":[\"x\",\"y\"],\"data\":{\"x\":{\"__ndarray__\":\"TA9ou9LKnL9+vMJIUHiev9aHI3+Y052/acFgPiZAmb8nxEW2P4yOv4JiPy1BYRU/nNvGlzcklz+lQKHJvl6rP7FhzOQ7+7Y/NoT4+jmJwT9nFQ2EKtbIP0wPM8kCxdA/IByaT6nU1T+sXY+ZdnfdP3eC/de5aeQ/PueP5TT26j+JnYQt0fTwPzR1Demmg/Q/NOiV/JkL+D/qHAOy13v7PxD5eDJJtv4/h29h3Xh3/z/daLbhZof6P46GnXMB+fM/Lxylnked7T+M7ZwDV7vkP7yP5VWEONs/uom1U84y0j9AWpTAg/LKP23sTIDlMcQ/nPiLVVqxvD+w650lVrOwP3sCiW8me6I/1OdjcRF1lz9GKNy+gkJOv9O1Lumz+Z+/4AqYKJEwrb8uZk4O1Gazv9uxcfoDMLe/o4/5gEBnur8fihsaw1q6v+oeN842z7e/GNCoTHMjtb8/DszP4syxv7TfOPuTkKy/QQexwS/mpL9gJQ3YT6ucv9hJ9Gd8tZS/aPtL4/sIjr9t/u0f/KWEv+0mdLdk/nm/HrmkGE/lbb/opBd3cxhbv83oHX5/pCE/TPp9c4b4XD/YArNkxPxqP4P+oyZqP3M/ExsC+E13eD86Uy1ICE19PxXu+qSR0YA/y+yWFSi4gj+dO6OokWiEPzsnNTWC7YU/adIaQTI2hz91OYhK4UmIP8y2XMjmVIk/QqejwFtQij9/TR1+ExeLP+kMnp9ocos/+54SiaI9iz+JNPTGflOKP3o/MVxk1Yg/211J7aMlhz8kOQ0PaW2FPyeZecsFyYM/\",\"dtype\":\"float64\",\"shape\":[75]},\"y\":{\"__ndarray__\":\"GhExyth1ND/Sv8nbtpRIP2vylNV0PVE/aTum7souWD/At0SJ8fVgPw3Iuahxymc/MSNhhJWvcD/bTfBN02d3P2zb5nxnaoA/CD5h5MAGhz8NmeH1TyaQP+zrCsc9p5Y/LbKd76fGnz/bLW5ISEmmPww9YvTcQq8/JV2OstnstT8Er5Y7M8G+P0c+r3jqkcU/5h99k6ZBzj88bCIzFzjVP4enV8oyxN0//yH99nXg5D8qOpLLf0jtP5kqGJXUifQ/c9cS8kHP/D+/DpwzojQEQIEmwoanVwxA4lgXt9HgE0BSSZ2AJuIbQAMJih9jjiNA5q4l5INuK0AwTKYKRj0zQNv5fmq8/DpAaCJseHrtQkB/+zpwzoxKQM3MzMzMeFJAZmZmZmZqWEAAAAAAAFxeQM3MzMzMJmJAmpmZmZkfZUBmZmZmZhhoQDMzMzMzEWtAAAAAAAAKbkBmZmZmZoFwQM3MzMzM/XFAMzMzMzN6c0CamZmZmfZ0QAAAAAAAc3ZAZmZmZmbvd0DNzMzMzGt5QDMzMzMz6HpAmpmZmZlkfEAAAAAAAOF9QGZmZmZmXX9AZmZmZuZsgECamZmZGSuBQM3MzMxM6YFAAAAAAICngkAzMzMzs2WDQGZmZmbmI4RAmpmZmRnihEDNzMzMTKCFQAAAAACAXoZAMzMzM7Mch0BmZmZm5tqHQJqZmZkZmYhAzczMzExXiUAAAAAAgBWKQDMzMzOz04pAZmZmZuaRi0CamZmZGVCMQM3MzMxMDo1AAAAAAIDMjUAzMzMzs4qOQGZmZmbmSI9A\",\"dtype\":\"float64\",\"shape\":[75]}}},\"id\":\"cafa14af-b3d2-474f-8a04-b6a1774070c1\",\"type\":\"ColumnDataSource\"},{\"attributes\":{\"ticker\":null},\"id\":\"ff1985a1-d4d0-4369-9b79-66adc7a8a558\",\"type\":\"LogTickFormatter\"},{\"attributes\":{\"data_source\":{\"id\":\"8be23de3-e348-400a-afc4-2c3bf498ac8c\",\"type\":\"ColumnDataSource\"},\"glyph\":{\"id\":\"d8accd0d-0daa-4714-90b5-3c50477749bb\",\"type\":\"InvertedTriangle\"},\"hover_glyph\":null,\"muted_glyph\":null,\"nonselection_glyph\":{\"id\":\"bd07d653-b9f0-4db6-911a-5e88df788c43\",\"type\":\"InvertedTriangle\"},\"selection_glyph\":null,\"view\":{\"id\":\"7ed42d3f-7f64-4d8d-8556-e860e102c833\",\"type\":\"CDSView\"}},\"id\":\"c971a5ca-df89-40d5-894c-9849d36bdc9f\",\"type\":\"GlyphRenderer\"},{\"attributes\":{},\"id\":\"9bf5e714-7f97-4d05-b903-498d7376b2d1\",\"type\":\"BasicTickFormatter\"},{\"attributes\":{\"axis_label\":\"pressure [mb]\",\"formatter\":{\"id\":\"4c244d54-82d9-48a9-848b-fb9ff30e4e3d\",\"type\":\"BasicTickFormatter\"},\"plot\":{\"id\":\"9e4da891-03ac-4832-9bd2-ff486f673530\",\"subtype\":\"Figure\",\"type\":\"Plot\"},\"ticker\":{\"id\":\"bc836599-8a5b-4c89-859e-f508de3d3c7d\",\"type\":\"BasicTicker\"}},\"id\":\"d7e10a5d-bcc5-41ce-8abd-25183428589a\",\"type\":\"LinearAxis\"},{\"attributes\":{\"bottom_units\":\"screen\",\"fill_alpha\":{\"value\":0.5},\"fill_color\":{\"value\":\"lightgrey\"},\"left_units\":\"screen\",\"level\":\"overlay\",\"line_alpha\":{\"value\":1.0},\"line_color\":{\"value\":\"black\"},\"line_dash\":[4,4],\"line_width\":{\"value\":2},\"plot\":null,\"render_mode\":\"css\",\"right_units\":\"screen\",\"top_units\":\"screen\"},\"id\":\"638c5247-66cb-472f-b979-f4f1e4f6aab9\",\"type\":\"BoxAnnotation\"},{\"attributes\":{\"callback\":null,\"end\":0.01,\"start\":1020},\"id\":\"abf10dc2-cf67-40b0-a5ec-7da1717c5c60\",\"type\":\"Range1d\"},{\"attributes\":{\"line_color\":\"#4daf4a\",\"line_width\":1.5,\"x\":{\"field\":\"x\"},\"y\":{\"field\":\"y\"}},\"id\":\"0001f854-a42e-4a6a-aecf-a438dfde3b0e\",\"type\":\"Line\"},{\"attributes\":{},\"id\":\"eaf8c498-ad3d-487b-819b-29e88dd635fd\",\"type\":\"LinearScale\"},{\"attributes\":{\"data_source\":{\"id\":\"8e19cd34-2c7f-4826-97a9-50bb149a7fd3\",\"type\":\"ColumnDataSource\"},\"glyph\":{\"id\":\"642717aa-0fad-48c7-8e7d-27bff1b7d949\",\"type\":\"Circle\"},\"hover_glyph\":null,\"muted_glyph\":null,\"nonselection_glyph\":{\"id\":\"29e0804b-fd7f-48f2-976e-206b20bd6d24\",\"type\":\"Circle\"},\"selection_glyph\":null,\"view\":{\"id\":\"c93b9246-328c-42da-b9fd-6596d12f7c0b\",\"type\":\"CDSView\"}},\"id\":\"29a6308e-d981-4d2e-b558-91c739dd02b1\",\"type\":\"GlyphRenderer\"},{\"attributes\":{\"fill_alpha\":{\"value\":0.1},\"fill_color\":{\"value\":\"#1f77b4\"},\"line_alpha\":{\"value\":0.1},\"line_color\":{\"value\":\"#1f77b4\"},\"x\":{\"field\":\"x\"},\"y\":{\"field\":\"y\"}},\"id\":\"be6e1e28-821c-437f-b17b-ec112e34e873\",\"type\":\"Circle\"},{\"attributes\":{\"fill_alpha\":{\"value\":0.7},\"fill_color\":{\"value\":\"#4daf4a\"},\"line_alpha\":{\"value\":0.7},\"line_color\":{\"value\":\"#4daf4a\"},\"x\":{\"field\":\"x\"},\"y\":{\"field\":\"y\"}},\"id\":\"51a0cdef-3689-40ca-9f86-d0b9b4bd3598\",\"type\":\"Circle\"},{\"attributes\":{\"callback\":null,\"column_names\":[\"x\",\"y\"],\"data\":{\"x\":{\"__ndarray__\":\"g7fIvNzHlr+yHn3npc+Xv+4fJyZRKpe/45ketCF2j79J11/GuheCv6cd6ZGgZnY/lc5c56w9mj9k0MeEseipP4CD5AcoObc/WHk8DDGHwD+Zxy/2Pe7HP8skE4XQoM4/3ggoYH001D/L6T5CxR/bP/aUYmjx2eI/MTl7iML+6D/Q//7WRkPvP4H3RI34hPM/wbhl0YXi9j/oZbkRu1v6P122jIruz/0/psP5iiTw/j9VjbnGwqv6P6+5/rhYjPQ/Usf4aiYD7z+Q4co8Zj7mP9ziEi6BZ94/4lfN7wva1D/cbpsMO0rPP3xIU5hScsc/cTniuYzVvz/sIMikM26yP6/OV+cdSaM/+Lih749zlj/P1kKLE3hrv4hK19ewYqO/+D8EeLLrsL+bFRdo8w+2v58qdJgOIbq/KNUdD6b2vL9yP7cC0Em8v7U2S9Hj2ri/K4ljks6Wtb9pgoqlpq+xv1JwFs7s9au/yeDNvwI9pL8V5gBrHISbv1ej1csatZO/9Modf2dQjL8/sGVlezWDv1IyNyLK5Xe/E0wfPEb5ar9MM0cZZCBVv0Xp4A5MXUY/kjl7kOpnXT82evMjl2JrP8UZQfdlKHM/NsKnJCdmeD9oq0TwriB9P2xrev7jZYA/YOOtxBKHgj/+P3zQGz2EP65N30KJXIU/ILr7d9ifhz+9Ba/pg12HP6Gkb7uYsog/DWZsGKCViT9Yoqlar0KKP8u0gWTP2Io/OPBW1Uxwij/Rlmb/q6qJP9xZ1UFHc4g/Kxzy4/DIhj9LWMobKDyFPwekY2C7wYM/\",\"dtype\":\"float64\",\"shape\":[75]},\"y\":{\"__ndarray__\":\"GhExyth1ND/Sv8nbtpRIP2vylNV0PVE/aTum7souWD/At0SJ8fVgPw3Iuahxymc/MSNhhJWvcD/bTfBN02d3P2zb5nxnaoA/CD5h5MAGhz8NmeH1TyaQP+zrCsc9p5Y/LbKd76fGnz/bLW5ISEmmPww9YvTcQq8/JV2OstnstT8Er5Y7M8G+P0c+r3jqkcU/5h99k6ZBzj88bCIzFzjVP4enV8oyxN0//yH99nXg5D8qOpLLf0jtP5kqGJXUifQ/c9cS8kHP/D+/DpwzojQEQIEmwoanVwxA4lgXt9HgE0BSSZ2AJuIbQAMJih9jjiNA5q4l5INuK0AwTKYKRj0zQNv5fmq8/DpAaCJseHrtQkB/+zpwzoxKQM3MzMzMeFJAZmZmZmZqWEAAAAAAAFxeQM3MzMzMJmJAmpmZmZkfZUBmZmZmZhhoQDMzMzMzEWtAAAAAAAAKbkBmZmZmZoFwQM3MzMzM/XFAMzMzMzN6c0CamZmZmfZ0QAAAAAAAc3ZAZmZmZmbvd0DNzMzMzGt5QDMzMzMz6HpAmpmZmZlkfEAAAAAAAOF9QGZmZmZmXX9AZmZmZuZsgECamZmZGSuBQM3MzMxM6YFAAAAAAICngkAzMzMzs2WDQGZmZmbmI4RAmpmZmRnihEDNzMzMTKCFQAAAAACAXoZAMzMzM7Mch0BmZmZm5tqHQJqZmZkZmYhAzczMzExXiUAAAAAAgBWKQDMzMzOz04pAZmZmZuaRi0CamZmZGVCMQM3MzMxMDo1AAAAAAIDMjUAzMzMzs4qOQGZmZmbmSI9A\",\"dtype\":\"float64\",\"shape\":[75]}}},\"id\":\"8be23de3-e348-400a-afc4-2c3bf498ac8c\",\"type\":\"ColumnDataSource\"},{\"attributes\":{\"line_alpha\":0.1,\"line_color\":\"#1f77b4\",\"line_width\":1.5,\"x\":{\"field\":\"x\"},\"y\":{\"field\":\"y\"}},\"id\":\"c1b1135b-8ea3-460b-a0e0-3b08ab58c5bc\",\"type\":\"Line\"},{\"attributes\":{\"source\":{\"id\":\"8e19cd34-2c7f-4826-97a9-50bb149a7fd3\",\"type\":\"ColumnDataSource\"}},\"id\":\"c93b9246-328c-42da-b9fd-6596d12f7c0b\",\"type\":\"CDSView\"},{\"attributes\":{\"active_drag\":\"auto\",\"active_inspect\":\"auto\",\"active_scroll\":\"auto\",\"active_tap\":\"auto\",\"tools\":[{\"id\":\"e26097ac-d62b-4334-919a-ed1f26483777\",\"type\":\"PanTool\"},{\"id\":\"cad3bb07-556c-41d8-8b8f-3a96cc0c9b15\",\"type\":\"WheelZoomTool\"},{\"id\":\"f9a1c0ae-d057-416d-82a0-b1281d8c4969\",\"type\":\"BoxZoomTool\"},{\"id\":\"473bf6fd-1325-427f-9a4d-169c23e27bef\",\"type\":\"SaveTool\"},{\"id\":\"5e1d1008-8053-4454-b3ac-17f5aee71063\",\"type\":\"ResetTool\"},{\"id\":\"dc3d6ef8-31ae-4f50-8561-3d5170112b0b\",\"type\":\"HelpTool\"}]},\"id\":\"79a3606e-3f42-478c-86bb-20f6c5a0c21f\",\"type\":\"Toolbar\"},{\"attributes\":{\"plot\":{\"id\":\"9e4da891-03ac-4832-9bd2-ff486f673530\",\"subtype\":\"Figure\",\"type\":\"Plot\"},\"ticker\":{\"id\":\"71bc026c-6283-4290-a4d3-7bf02b9df3e0\",\"type\":\"BasicTicker\"}},\"id\":\"2024350e-8226-4a38-bd7a-2133686137c0\",\"type\":\"Grid\"},{\"attributes\":{},\"id\":\"b016bf1e-3e1d-4c0e-a2ac-dbaf9e415713\",\"type\":\"BasicTickFormatter\"},{\"attributes\":{\"fill_alpha\":{\"value\":0.7},\"fill_color\":{\"value\":\"#4daf4a\"},\"line_alpha\":{\"value\":0.7},\"line_color\":{\"value\":\"#4daf4a\"},\"x\":{\"field\":\"x\"},\"y\":{\"field\":\"y\"}},\"id\":\"642717aa-0fad-48c7-8e7d-27bff1b7d949\",\"type\":\"Circle\"},{\"attributes\":{\"source\":{\"id\":\"6c74b3bb-1c5f-4c85-a4f8-8476edc019ae\",\"type\":\"ColumnDataSource\"}},\"id\":\"386e98f0-edd1-4450-93d3-6c2d7cca5f98\",\"type\":\"CDSView\"},{\"attributes\":{\"callback\":null,\"column_names\":[\"x\",\"y\"],\"data\":{\"x\":{\"__ndarray__\":\"TA9ou9LKnL9+vMJIUHiev9aHI3+Y052/acFgPiZAmb8nxEW2P4yOv4JiPy1BYRU/nNvGlzcklz+lQKHJvl6rP7FhzOQ7+7Y/NoT4+jmJwT9nFQ2EKtbIP0wPM8kCxdA/IByaT6nU1T+sXY+ZdnfdP3eC/de5aeQ/PueP5TT26j+JnYQt0fTwPzR1Demmg/Q/NOiV/JkL+D/qHAOy13v7PxD5eDJJtv4/h29h3Xh3/z/daLbhZof6P46GnXMB+fM/Lxylnked7T+M7ZwDV7vkP7yP5VWEONs/uom1U84y0j9AWpTAg/LKP23sTIDlMcQ/nPiLVVqxvD+w650lVrOwP3sCiW8me6I/1OdjcRF1lz9GKNy+gkJOv9O1Lumz+Z+/4AqYKJEwrb8uZk4O1Gazv9uxcfoDMLe/o4/5gEBnur8fihsaw1q6v+oeN842z7e/GNCoTHMjtb8/DszP4syxv7TfOPuTkKy/QQexwS/mpL9gJQ3YT6ucv9hJ9Gd8tZS/aPtL4/sIjr9t/u0f/KWEv+0mdLdk/nm/HrmkGE/lbb/opBd3cxhbv83oHX5/pCE/TPp9c4b4XD/YArNkxPxqP4P+oyZqP3M/ExsC+E13eD86Uy1ICE19PxXu+qSR0YA/y+yWFSi4gj+dO6OokWiEPzsnNTWC7YU/adIaQTI2hz91OYhK4UmIP8y2XMjmVIk/QqejwFtQij9/TR1+ExeLP+kMnp9ocos/+54SiaI9iz+JNPTGflOKP3o/MVxk1Yg/211J7aMlhz8kOQ0PaW2FPyeZecsFyYM/\",\"dtype\":\"float64\",\"shape\":[75]},\"y\":{\"__ndarray__\":\"GhExyth1ND/Sv8nbtpRIP2vylNV0PVE/aTum7souWD/At0SJ8fVgPw3Iuahxymc/MSNhhJWvcD/bTfBN02d3P2zb5nxnaoA/CD5h5MAGhz8NmeH1TyaQP+zrCsc9p5Y/LbKd76fGnz/bLW5ISEmmPww9YvTcQq8/JV2OstnstT8Er5Y7M8G+P0c+r3jqkcU/5h99k6ZBzj88bCIzFzjVP4enV8oyxN0//yH99nXg5D8qOpLLf0jtP5kqGJXUifQ/c9cS8kHP/D+/DpwzojQEQIEmwoanVwxA4lgXt9HgE0BSSZ2AJuIbQAMJih9jjiNA5q4l5INuK0AwTKYKRj0zQNv5fmq8/DpAaCJseHrtQkB/+zpwzoxKQM3MzMzMeFJAZmZmZmZqWEAAAAAAAFxeQM3MzMzMJmJAmpmZmZkfZUBmZmZmZhhoQDMzMzMzEWtAAAAAAAAKbkBmZmZmZoFwQM3MzMzM/XFAMzMzMzN6c0CamZmZmfZ0QAAAAAAAc3ZAZmZmZmbvd0DNzMzMzGt5QDMzMzMz6HpAmpmZmZlkfEAAAAAAAOF9QGZmZmZmXX9AZmZmZuZsgECamZmZGSuBQM3MzMxM6YFAAAAAAICngkAzMzMzs2WDQGZmZmbmI4RAmpmZmRnihEDNzMzMTKCFQAAAAACAXoZAMzMzM7Mch0BmZmZm5tqHQJqZmZkZmYhAzczMzExXiUAAAAAAgBWKQDMzMzOz04pAZmZmZuaRi0CamZmZGVCMQM3MzMxMDo1AAAAAAIDMjUAzMzMzs4qOQGZmZmbmSI9A\",\"dtype\":\"float64\",\"shape\":[75]}}},\"id\":\"8e19cd34-2c7f-4826-97a9-50bb149a7fd3\",\"type\":\"ColumnDataSource\"},{\"attributes\":{\"fill_alpha\":{\"value\":0.7},\"fill_color\":{\"value\":\"#984ea3\"},\"line_alpha\":{\"value\":0.7},\"line_color\":{\"value\":\"#984ea3\"},\"x\":{\"field\":\"x\"},\"y\":{\"field\":\"y\"}},\"id\":\"45c03735-f940-43ef-8e80-8da865249383\",\"type\":\"Square\"},{\"attributes\":{\"data_source\":{\"id\":\"c1631af6-4d0d-4cd2-92e4-87df767e8800\",\"type\":\"ColumnDataSource\"},\"glyph\":{\"id\":\"0001f854-a42e-4a6a-aecf-a438dfde3b0e\",\"type\":\"Line\"},\"hover_glyph\":null,\"muted_glyph\":null,\"nonselection_glyph\":{\"id\":\"c1b1135b-8ea3-460b-a0e0-3b08ab58c5bc\",\"type\":\"Line\"},\"selection_glyph\":null,\"view\":{\"id\":\"ecf46fb9-3920-4993-a6ec-098b64317018\",\"type\":\"CDSView\"}},\"id\":\"183e3b93-d5b6-4ac4-b337-8cf8c5aefdcc\",\"type\":\"GlyphRenderer\"},{\"attributes\":{\"callback\":null,\"column_names\":[\"x\",\"y\"],\"data\":{\"x\":{\"__ndarray__\":\"TA9ou9LKnL9+vMJIUHiev9aHI3+Y052/acFgPiZAmb8nxEW2P4yOv4JiPy1BYRU/nNvGlzcklz+lQKHJvl6rP7FhzOQ7+7Y/NoT4+jmJwT9nFQ2EKtbIP0wPM8kCxdA/IByaT6nU1T+sXY+ZdnfdP3eC/de5aeQ/PueP5TT26j+JnYQt0fTwPzR1Demmg/Q/NOiV/JkL+D/qHAOy13v7PxD5eDJJtv4/h29h3Xh3/z/daLbhZof6P46GnXMB+fM/Lxylnked7T+M7ZwDV7vkP7yP5VWEONs/uom1U84y0j9AWpTAg/LKP23sTIDlMcQ/nPiLVVqxvD+w650lVrOwP3sCiW8me6I/1OdjcRF1lz9GKNy+gkJOv9O1Lumz+Z+/4AqYKJEwrb8uZk4O1Gazv9uxcfoDMLe/o4/5gEBnur8fihsaw1q6v+oeN842z7e/GNCoTHMjtb8/DszP4syxv7TfOPuTkKy/QQexwS/mpL9gJQ3YT6ucv9hJ9Gd8tZS/aPtL4/sIjr9t/u0f/KWEv+0mdLdk/nm/HrmkGE/lbb/opBd3cxhbv83oHX5/pCE/TPp9c4b4XD/YArNkxPxqP4P+oyZqP3M/ExsC+E13eD86Uy1ICE19PxXu+qSR0YA/y+yWFSi4gj+dO6OokWiEPzsnNTWC7YU/adIaQTI2hz91OYhK4UmIP8y2XMjmVIk/QqejwFtQij9/TR1+ExeLP+kMnp9ocos/+54SiaI9iz+JNPTGflOKP3o/MVxk1Yg/211J7aMlhz8kOQ0PaW2FPyeZecsFyYM/\",\"dtype\":\"float64\",\"shape\":[75]},\"y\":{\"__ndarray__\":\"GhExyth1ND/Sv8nbtpRIP2vylNV0PVE/aTum7souWD/At0SJ8fVgPw3Iuahxymc/MSNhhJWvcD/bTfBN02d3P2zb5nxnaoA/CD5h5MAGhz8NmeH1TyaQP+zrCsc9p5Y/LbKd76fGnz/bLW5ISEmmPww9YvTcQq8/JV2OstnstT8Er5Y7M8G+P0c+r3jqkcU/5h99k6ZBzj88bCIzFzjVP4enV8oyxN0//yH99nXg5D8qOpLLf0jtP5kqGJXUifQ/c9cS8kHP/D+/DpwzojQEQIEmwoanVwxA4lgXt9HgE0BSSZ2AJuIbQAMJih9jjiNA5q4l5INuK0AwTKYKRj0zQNv5fmq8/DpAaCJseHrtQkB/+zpwzoxKQM3MzMzMeFJAZmZmZmZqWEAAAAAAAFxeQM3MzMzMJmJAmpmZmZkfZUBmZmZmZhhoQDMzMzMzEWtAAAAAAAAKbkBmZmZmZoFwQM3MzMzM/XFAMzMzMzN6c0CamZmZmfZ0QAAAAAAAc3ZAZmZmZmbvd0DNzMzMzGt5QDMzMzMz6HpAmpmZmZlkfEAAAAAAAOF9QGZmZmZmXX9AZmZmZuZsgECamZmZGSuBQM3MzMxM6YFAAAAAAICngkAzMzMzs2WDQGZmZmbmI4RAmpmZmRnihEDNzMzMTKCFQAAAAACAXoZAMzMzM7Mch0BmZmZm5tqHQJqZmZkZmYhAzczMzExXiUAAAAAAgBWKQDMzMzOz04pAZmZmZuaRi0CamZmZGVCMQM3MzMxMDo1AAAAAAIDMjUAzMzMzs4qOQGZmZmbmSI9A\",\"dtype\":\"float64\",\"shape\":[75]}}},\"id\":\"c1631af6-4d0d-4cd2-92e4-87df767e8800\",\"type\":\"ColumnDataSource\"},{\"attributes\":{\"data_source\":{\"id\":\"bafb6667-0eb6-4bd7-845e-dedc6c94e19c\",\"type\":\"ColumnDataSource\"},\"glyph\":{\"id\":\"b20f9775-8482-4a7f-a8f9-cdefe7094911\",\"type\":\"Line\"},\"hover_glyph\":null,\"muted_glyph\":null,\"nonselection_glyph\":{\"id\":\"45c1ea69-b149-402b-82b8-e630862c3d71\",\"type\":\"Line\"},\"selection_glyph\":null,\"view\":{\"id\":\"f1c76b3e-bbd7-4843-a196-252691d0b319\",\"type\":\"CDSView\"}},\"id\":\"c5996977-5f48-4234-b66b-eef39fb98bfa\",\"type\":\"GlyphRenderer\"},{\"attributes\":{\"dimension\":1,\"plot\":{\"id\":\"9e4da891-03ac-4832-9bd2-ff486f673530\",\"subtype\":\"Figure\",\"type\":\"Plot\"},\"ticker\":{\"id\":\"bc836599-8a5b-4c89-859e-f508de3d3c7d\",\"type\":\"BasicTicker\"}},\"id\":\"da692ec9-7597-456a-b83f-4bd452341229\",\"type\":\"Grid\"},{\"attributes\":{\"source\":{\"id\":\"c1631af6-4d0d-4cd2-92e4-87df767e8800\",\"type\":\"ColumnDataSource\"}},\"id\":\"ecf46fb9-3920-4993-a6ec-098b64317018\",\"type\":\"CDSView\"},{\"attributes\":{},\"id\":\"dc3d6ef8-31ae-4f50-8561-3d5170112b0b\",\"type\":\"HelpTool\"},{\"attributes\":{\"line_alpha\":0.1,\"line_color\":\"#1f77b4\",\"line_width\":3,\"x\":{\"field\":\"x\"},\"y\":{\"field\":\"y\"}},\"id\":\"45c1ea69-b149-402b-82b8-e630862c3d71\",\"type\":\"Line\"},{\"attributes\":{\"data_source\":{\"id\":\"6c74b3bb-1c5f-4c85-a4f8-8476edc019ae\",\"type\":\"ColumnDataSource\"},\"glyph\":{\"id\":\"45c03735-f940-43ef-8e80-8da865249383\",\"type\":\"Square\"},\"hover_glyph\":null,\"muted_glyph\":null,\"nonselection_glyph\":{\"id\":\"5243b103-5d17-47c2-a309-03f45b80c4d4\",\"type\":\"Square\"},\"selection_glyph\":null,\"view\":{\"id\":\"386e98f0-edd1-4450-93d3-6c2d7cca5f98\",\"type\":\"CDSView\"}},\"id\":\"c8e9fc58-0336-43ee-9578-b6bc473c5149\",\"type\":\"GlyphRenderer\"},{\"attributes\":{\"callback\":null,\"column_names\":[\"x\",\"y\"],\"data\":{\"x\":{\"__ndarray__\":\"TgfqSLnxkL8fizDvuHuRv+lfzy0tUJC/ZyH66OZ4h787QTCBOmlqvzQKoNTyFYM/CYqWcZBmmz8/XnBPVXapP432t4VgNbQ/egRx/T93vT+Se/Rl7V/EP0dbdDYNH8s/X2p8DV6H0T8ZNusIt6fXP4LWLjONguA/aG5sE3of5j86llbHGmPsP0WIhiBinvE/y06aYf5F9T8xqZDhZxL5P6w1OSEZt/w/ZbFeVnJf/j/AXydQH7z6P6Kb/YFye/Q/G5G9GKnb7T+TuBobssjkPy4uXdrTwts/U6xcoIsj0z8i+jkueIvNP9he0c7l3cY/IcEaiOF6wD+rxUeO65SzP47rNfZSnKU/BccjwAL7mD+4QRunQm9ivxEPbW/TeaK/NF5a199Hsb8l0Mo3h123vyIHHVts5ru/5uSoUJtAv78chdolYCq+vy4h3deaELq/qstDVTUJtr8CM/he8Kexvw3UxxsXEKu/L4kEamkio78m+nfbV66Zv3o3fvd6NpK/8I4NVvzcib8WVmHkwlCBv5jyAi2bAHW/O47eMuCaZr/+8VvnFlVQvzvUlALs3UI/EhbTVGiDYD8gbbI6OGdrP/+sEbMysHI/le1+90BCdz/fvOxikHd7P/8YtDyBQ38/rG9JH01NgT/hS+DTbs2CP00tK7J1J4Q/qLkcfE9PhT8h87fzs0eGP8HHkP6/M4c/bi9aYakXiD8Vw0oPh8iIPyGcF3NMIIk/iPvwdRf9iD86tNxapUKIPx/CdDE4EIc/9Ns6rC6vhT9qMuEjW0eEP4rgSjkJ7II/\",\"dtype\":\"float64\",\"shape\":[75]},\"y\":{\"__ndarray__\":\"GhExyth1ND/Sv8nbtpRIP2vylNV0PVE/aTum7souWD/At0SJ8fVgPw3Iuahxymc/MSNhhJWvcD/bTfBN02d3P2zb5nxnaoA/CD5h5MAGhz8NmeH1TyaQP+zrCsc9p5Y/LbKd76fGnz/bLW5ISEmmPww9YvTcQq8/JV2OstnstT8Er5Y7M8G+P0c+r3jqkcU/5h99k6ZBzj88bCIzFzjVP4enV8oyxN0//yH99nXg5D8qOpLLf0jtP5kqGJXUifQ/c9cS8kHP/D+/DpwzojQEQIEmwoanVwxA4lgXt9HgE0BSSZ2AJuIbQAMJih9jjiNA5q4l5INuK0AwTKYKRj0zQNv5fmq8/DpAaCJseHrtQkB/+zpwzoxKQM3MzMzMeFJAZmZmZmZqWEAAAAAAAFxeQM3MzMzMJmJAmpmZmZkfZUBmZmZmZhhoQDMzMzMzEWtAAAAAAAAKbkBmZmZmZoFwQM3MzMzM/XFAMzMzMzN6c0CamZmZmfZ0QAAAAAAAc3ZAZmZmZmbvd0DNzMzMzGt5QDMzMzMz6HpAmpmZmZlkfEAAAAAAAOF9QGZmZmZmXX9AZmZmZuZsgECamZmZGSuBQM3MzMxM6YFAAAAAAICngkAzMzMzs2WDQGZmZmbmI4RAmpmZmRnihEDNzMzMTKCFQAAAAACAXoZAMzMzM7Mch0BmZmZm5tqHQJqZmZkZmYhAzczMzExXiUAAAAAAgBWKQDMzMzOz04pAZmZmZuaRi0CamZmZGVCMQM3MzMxMDo1AAAAAAIDMjUAzMzMzs4qOQGZmZmbmSI9A\",\"dtype\":\"float64\",\"shape\":[75]}}},\"id\":\"6c74b3bb-1c5f-4c85-a4f8-8476edc019ae\",\"type\":\"ColumnDataSource\"},{\"attributes\":{\"line_alpha\":0.6,\"line_color\":\"#984ea3\",\"line_width\":3,\"x\":{\"field\":\"x\"},\"y\":{\"field\":\"y\"}},\"id\":\"b20f9775-8482-4a7f-a8f9-cdefe7094911\",\"type\":\"Line\"},{\"attributes\":{\"fill_alpha\":{\"value\":0.1},\"fill_color\":{\"value\":\"#1f77b4\"},\"line_alpha\":{\"value\":0.1},\"line_color\":{\"value\":\"#1f77b4\"},\"x\":{\"field\":\"x\"},\"y\":{\"field\":\"y\"}},\"id\":\"5243b103-5d17-47c2-a309-03f45b80c4d4\",\"type\":\"Square\"},{\"attributes\":{},\"id\":\"71bc026c-6283-4290-a4d3-7bf02b9df3e0\",\"type\":\"BasicTicker\"},{\"attributes\":{\"callback\":null,\"column_names\":[\"x\",\"y\"],\"data\":{\"x\":{\"__ndarray__\":\"TgfqSLnxkL8fizDvuHuRv+lfzy0tUJC/ZyH66OZ4h787QTCBOmlqvzQKoNTyFYM/CYqWcZBmmz8/XnBPVXapP432t4VgNbQ/egRx/T93vT+Se/Rl7V/EP0dbdDYNH8s/X2p8DV6H0T8ZNusIt6fXP4LWLjONguA/aG5sE3of5j86llbHGmPsP0WIhiBinvE/y06aYf5F9T8xqZDhZxL5P6w1OSEZt/w/ZbFeVnJf/j/AXydQH7z6P6Kb/YFye/Q/G5G9GKnb7T+TuBobssjkPy4uXdrTwts/U6xcoIsj0z8i+jkueIvNP9he0c7l3cY/IcEaiOF6wD+rxUeO65SzP47rNfZSnKU/BccjwAL7mD+4QRunQm9ivxEPbW/TeaK/NF5a199Hsb8l0Mo3h123vyIHHVts5ru/5uSoUJtAv78chdolYCq+vy4h3deaELq/qstDVTUJtr8CM/he8Kexvw3UxxsXEKu/L4kEamkio78m+nfbV66Zv3o3fvd6NpK/8I4NVvzcib8WVmHkwlCBv5jyAi2bAHW/O47eMuCaZr/+8VvnFlVQvzvUlALs3UI/EhbTVGiDYD8gbbI6OGdrP/+sEbMysHI/le1+90BCdz/fvOxikHd7P/8YtDyBQ38/rG9JH01NgT/hS+DTbs2CP00tK7J1J4Q/qLkcfE9PhT8h87fzs0eGP8HHkP6/M4c/bi9aYakXiD8Vw0oPh8iIPyGcF3NMIIk/iPvwdRf9iD86tNxapUKIPx/CdDE4EIc/9Ns6rC6vhT9qMuEjW0eEP4rgSjkJ7II/\",\"dtype\":\"float64\",\"shape\":[75]},\"y\":{\"__ndarray__\":\"GhExyth1ND/Sv8nbtpRIP2vylNV0PVE/aTum7souWD/At0SJ8fVgPw3Iuahxymc/MSNhhJWvcD/bTfBN02d3P2zb5nxnaoA/CD5h5MAGhz8NmeH1TyaQP+zrCsc9p5Y/LbKd76fGnz/bLW5ISEmmPww9YvTcQq8/JV2OstnstT8Er5Y7M8G+P0c+r3jqkcU/5h99k6ZBzj88bCIzFzjVP4enV8oyxN0//yH99nXg5D8qOpLLf0jtP5kqGJXUifQ/c9cS8kHP/D+/DpwzojQEQIEmwoanVwxA4lgXt9HgE0BSSZ2AJuIbQAMJih9jjiNA5q4l5INuK0AwTKYKRj0zQNv5fmq8/DpAaCJseHrtQkB/+zpwzoxKQM3MzMzMeFJAZmZmZmZqWEAAAAAAAFxeQM3MzMzMJmJAmpmZmZkfZUBmZmZmZhhoQDMzMzMzEWtAAAAAAAAKbkBmZmZmZoFwQM3MzMzM/XFAMzMzMzN6c0CamZmZmfZ0QAAAAAAAc3ZAZmZmZmbvd0DNzMzMzGt5QDMzMzMz6HpAmpmZmZlkfEAAAAAAAOF9QGZmZmZmXX9AZmZmZuZsgECamZmZGSuBQM3MzMxM6YFAAAAAAICngkAzMzMzs2WDQGZmZmbmI4RAmpmZmRnihEDNzMzMTKCFQAAAAACAXoZAMzMzM7Mch0BmZmZm5tqHQJqZmZkZmYhAzczMzExXiUAAAAAAgBWKQDMzMzOz04pAZmZmZuaRi0CamZmZGVCMQM3MzMxMDo1AAAAAAIDMjUAzMzMzs4qOQGZmZmbmSI9A\",\"dtype\":\"float64\",\"shape\":[75]}}},\"id\":\"bafb6667-0eb6-4bd7-845e-dedc6c94e19c\",\"type\":\"ColumnDataSource\"},{\"attributes\":{\"source\":{\"id\":\"cafa14af-b3d2-474f-8a04-b6a1774070c1\",\"type\":\"ColumnDataSource\"}},\"id\":\"a5b1e80b-3f57-4347-91b5-d1e0078d432e\",\"type\":\"CDSView\"},{\"attributes\":{\"line_alpha\":0.6,\"line_color\":\"#984ea3\",\"line_width\":3,\"x\":{\"field\":\"x\"},\"y\":{\"field\":\"y\"}},\"id\":\"92ca5e69-3643-4619-b3aa-94d7d63ceb1d\",\"type\":\"Line\"},{\"attributes\":{\"plot\":{\"id\":\"aabd8b75-0176-4050-b026-bef7ca565118\",\"subtype\":\"Figure\",\"type\":\"Plot\"},\"ticker\":{\"id\":\"bb0eda07-63b3-40d0-9e9d-baf70bca54aa\",\"type\":\"BasicTicker\"}},\"id\":\"8a4703c1-5826-4a5a-b8ac-f21c9b5ca283\",\"type\":\"Grid\"},{\"attributes\":{\"line_alpha\":0.1,\"line_color\":\"#1f77b4\",\"line_width\":3,\"x\":{\"field\":\"x\"},\"y\":{\"field\":\"y\"}},\"id\":\"4fc666f3-16da-4527-a737-7fd6c0435a62\",\"type\":\"Line\"},{\"attributes\":{\"source\":{\"id\":\"bafb6667-0eb6-4bd7-845e-dedc6c94e19c\",\"type\":\"ColumnDataSource\"}},\"id\":\"f1c76b3e-bbd7-4843-a196-252691d0b319\",\"type\":\"CDSView\"},{\"attributes\":{\"data_source\":{\"id\":\"b7f4c4bf-c143-49bc-a46e-0db4f61c4bd8\",\"type\":\"ColumnDataSource\"},\"glyph\":{\"id\":\"c492e633-d2a3-47b4-ac97-eccad0a9a16f\",\"type\":\"InvertedTriangle\"},\"hover_glyph\":null,\"muted_glyph\":null,\"nonselection_glyph\":{\"id\":\"5115f73c-1eee-47cd-a0cc-4f68ef5ec97f\",\"type\":\"InvertedTriangle\"},\"selection_glyph\":null,\"view\":{\"id\":\"b6c3de28-92d7-4dc2-907c-8b7d442336a4\",\"type\":\"CDSView\"}},\"id\":\"083f0eb7-9440-4914-937e-007be2aa52b1\",\"type\":\"GlyphRenderer\"},{\"attributes\":{\"callback\":null,\"end\":1.9875554757,\"start\":-0.1429670457},\"id\":\"6646d1d4-c493-4b14-8ba6-b450fe91d944\",\"type\":\"Range1d\"},{\"attributes\":{\"line_alpha\":0.6,\"line_color\":\"#377eb8\",\"line_dash\":[2,4,6,4],\"line_width\":3,\"x\":{\"field\":\"x\"},\"y\":{\"field\":\"y\"}},\"id\":\"dd2f9534-4235-4803-91ca-4a74ae2f4e70\",\"type\":\"Line\"},{\"attributes\":{\"callback\":null,\"column_names\":[\"x\",\"y\"],\"data\":{\"x\":{\"__ndarray__\":\"TgfqSLnxkL8fizDvuHuRv+lfzy0tUJC/ZyH66OZ4h787QTCBOmlqvzQKoNTyFYM/CYqWcZBmmz8/XnBPVXapP432t4VgNbQ/egRx/T93vT+Se/Rl7V/EP0dbdDYNH8s/X2p8DV6H0T8ZNusIt6fXP4LWLjONguA/aG5sE3of5j86llbHGmPsP0WIhiBinvE/y06aYf5F9T8xqZDhZxL5P6w1OSEZt/w/ZbFeVnJf/j/AXydQH7z6P6Kb/YFye/Q/G5G9GKnb7T+TuBobssjkPy4uXdrTwts/U6xcoIsj0z8i+jkueIvNP9he0c7l3cY/IcEaiOF6wD+rxUeO65SzP47rNfZSnKU/BccjwAL7mD+4QRunQm9ivxEPbW/TeaK/NF5a199Hsb8l0Mo3h123vyIHHVts5ru/5uSoUJtAv78chdolYCq+vy4h3deaELq/qstDVTUJtr8CM/he8Kexvw3UxxsXEKu/L4kEamkio78m+nfbV66Zv3o3fvd6NpK/8I4NVvzcib8WVmHkwlCBv5jyAi2bAHW/O47eMuCaZr/+8VvnFlVQvzvUlALs3UI/EhbTVGiDYD8gbbI6OGdrP/+sEbMysHI/le1+90BCdz/fvOxikHd7P/8YtDyBQ38/rG9JH01NgT/hS+DTbs2CP00tK7J1J4Q/qLkcfE9PhT8h87fzs0eGP8HHkP6/M4c/bi9aYakXiD8Vw0oPh8iIPyGcF3NMIIk/iPvwdRf9iD86tNxapUKIPx/CdDE4EIc/9Ns6rC6vhT9qMuEjW0eEP4rgSjkJ7II/\",\"dtype\":\"float64\",\"shape\":[75]},\"y\":{\"__ndarray__\":\"GhExyth1ND/Sv8nbtpRIP2vylNV0PVE/aTum7souWD/At0SJ8fVgPw3Iuahxymc/MSNhhJWvcD/bTfBN02d3P2zb5nxnaoA/CD5h5MAGhz8NmeH1TyaQP+zrCsc9p5Y/LbKd76fGnz/bLW5ISEmmPww9YvTcQq8/JV2OstnstT8Er5Y7M8G+P0c+r3jqkcU/5h99k6ZBzj88bCIzFzjVP4enV8oyxN0//yH99nXg5D8qOpLLf0jtP5kqGJXUifQ/c9cS8kHP/D+/DpwzojQEQIEmwoanVwxA4lgXt9HgE0BSSZ2AJuIbQAMJih9jjiNA5q4l5INuK0AwTKYKRj0zQNv5fmq8/DpAaCJseHrtQkB/+zpwzoxKQM3MzMzMeFJAZmZmZmZqWEAAAAAAAFxeQM3MzMzMJmJAmpmZmZkfZUBmZmZmZhhoQDMzMzMzEWtAAAAAAAAKbkBmZmZmZoFwQM3MzMzM/XFAMzMzMzN6c0CamZmZmfZ0QAAAAAAAc3ZAZmZmZmbvd0DNzMzMzGt5QDMzMzMz6HpAmpmZmZlkfEAAAAAAAOF9QGZmZmZmXX9AZmZmZuZsgECamZmZGSuBQM3MzMxM6YFAAAAAAICngkAzMzMzs2WDQGZmZmbmI4RAmpmZmRnihEDNzMzMTKCFQAAAAACAXoZAMzMzM7Mch0BmZmZm5tqHQJqZmZkZmYhAzczMzExXiUAAAAAAgBWKQDMzMzOz04pAZmZmZuaRi0CamZmZGVCMQM3MzMxMDo1AAAAAAIDMjUAzMzMzs4qOQGZmZmbmSI9A\",\"dtype\":\"float64\",\"shape\":[75]}}},\"id\":\"1bd7dc03-4956-411a-bed2-d0ac910973d5\",\"type\":\"ColumnDataSource\"},{\"attributes\":{\"label\":{\"value\":\"WGT igg=10\"},\"renderers\":[{\"id\":\"c8e9fc58-0336-43ee-9578-b6bc473c5149\",\"type\":\"GlyphRenderer\"},{\"id\":\"c5996977-5f48-4234-b66b-eef39fb98bfa\",\"type\":\"GlyphRenderer\"}]},\"id\":\"b65aaadd-e4bc-4c2f-8afc-143193ecbc96\",\"type\":\"LegendItem\"},{\"attributes\":{\"items\":[{\"id\":\"54b86569-1fd7-4843-b212-31417ee97e5d\",\"type\":\"LegendItem\"},{\"id\":\"b65aaadd-e4bc-4c2f-8afc-143193ecbc96\",\"type\":\"LegendItem\"},{\"id\":\"1ca5fd44-ade8-490f-9259-672a839be5ea\",\"type\":\"LegendItem\"}],\"label_text_font_size\":{\"value\":\"8pt\"},\"location\":[10,-30],\"plot\":{\"id\":\"aabd8b75-0176-4050-b026-bef7ca565118\",\"subtype\":\"Figure\",\"type\":\"Plot\"}},\"id\":\"7f5fd11b-d38c-4e3b-bded-e79285480eb4\",\"type\":\"Legend\"},{\"attributes\":{\"line_alpha\":0.6,\"line_color\":\"#377eb8\",\"line_dash\":[2,4,6,4],\"line_width\":3,\"x\":{\"field\":\"x\"},\"y\":{\"field\":\"y\"}},\"id\":\"b422cc58-4e71-4ff3-87e6-4131dd015144\",\"type\":\"Line\"},{\"attributes\":{\"line_color\":\"#4daf4a\",\"line_width\":1.5,\"x\":{\"field\":\"x\"},\"y\":{\"field\":\"y\"}},\"id\":\"96f73216-9ba5-49a3-9fb2-3ef590efcba2\",\"type\":\"Line\"},{\"attributes\":{\"source\":{\"id\":\"92b9f595-9840-4967-bd14-ce06fa60ba55\",\"type\":\"ColumnDataSource\"}},\"id\":\"bca4a88b-afe9-4c8b-8652-c4e1d0914886\",\"type\":\"CDSView\"},{\"attributes\":{\"line_alpha\":0.1,\"line_color\":\"#1f77b4\",\"line_dash\":[2,4,6,4],\"line_width\":3,\"x\":{\"field\":\"x\"},\"y\":{\"field\":\"y\"}},\"id\":\"a7dadbc9-cff9-472b-8cb2-b50fad267041\",\"type\":\"Line\"},{\"attributes\":{\"data_source\":{\"id\":\"92b9f595-9840-4967-bd14-ce06fa60ba55\",\"type\":\"ColumnDataSource\"},\"glyph\":{\"id\":\"dd2f9534-4235-4803-91ca-4a74ae2f4e70\",\"type\":\"Line\"},\"hover_glyph\":null,\"muted_glyph\":null,\"nonselection_glyph\":{\"id\":\"a7dadbc9-cff9-472b-8cb2-b50fad267041\",\"type\":\"Line\"},\"selection_glyph\":null,\"view\":{\"id\":\"bca4a88b-afe9-4c8b-8652-c4e1d0914886\",\"type\":\"CDSView\"}},\"id\":\"88c76a29-2132-4e86-9248-6808a5d00ee1\",\"type\":\"GlyphRenderer\"},{\"attributes\":{\"line_alpha\":0.1,\"line_color\":\"#1f77b4\",\"line_dash\":[2,4,6,4],\"line_width\":3,\"x\":{\"field\":\"x\"},\"y\":{\"field\":\"y\"}},\"id\":\"8f2aa940-9156-4c19-8493-d47db209629c\",\"type\":\"Line\"},{\"attributes\":{\"data_source\":{\"id\":\"e6ce3892-f5d1-4d23-90fa-b50e3f0514ed\",\"type\":\"ColumnDataSource\"},\"glyph\":{\"id\":\"92ca5e69-3643-4619-b3aa-94d7d63ceb1d\",\"type\":\"Line\"},\"hover_glyph\":null,\"muted_glyph\":null,\"nonselection_glyph\":{\"id\":\"4fc666f3-16da-4527-a737-7fd6c0435a62\",\"type\":\"Line\"},\"selection_glyph\":null,\"view\":{\"id\":\"d4427902-04c6-4243-abed-e00514a327ed\",\"type\":\"CDSView\"}},\"id\":\"484ac115-eb14-4051-9497-a866b2eec0b7\",\"type\":\"GlyphRenderer\"},{\"attributes\":{\"label\":{\"value\":\"CRD\"},\"renderers\":[{\"id\":\"6e7e96ef-074f-4bf5-be2d-47574da02586\",\"type\":\"GlyphRenderer\"},{\"id\":\"183e3b93-d5b6-4ac4-b337-8cf8c5aefdcc\",\"type\":\"GlyphRenderer\"}]},\"id\":\"54b86569-1fd7-4843-b212-31417ee97e5d\",\"type\":\"LegendItem\"},{\"attributes\":{\"toolbar\":{\"id\":\"b86d39d1-c397-47f5-891c-c2a3f6aaef26\",\"type\":\"ProxyToolbar\"},\"toolbar_location\":\"above\"},\"id\":\"16720797-445a-48a4-8a9c-a7a21d78e9e9\",\"type\":\"ToolbarBox\"},{\"attributes\":{},\"id\":\"0589e6f9-b5d0-4697-acc0-e6f28a393c94\",\"type\":\"LinearScale\"},{\"attributes\":{},\"id\":\"bb0eda07-63b3-40d0-9e9d-baf70bca54aa\",\"type\":\"BasicTicker\"},{\"attributes\":{\"children\":[{\"id\":\"f6362f27-44bd-40a7-8dcf-b9691fb42b59\",\"type\":\"Row\"}]},\"id\":\"35ffc45b-7125-4b6e-a925-71ab77921f7c\",\"type\":\"Column\"},{\"attributes\":{},\"id\":\"0855c9bc-1dfa-4a97-b274-11dd3231f006\",\"type\":\"SaveTool\"},{\"attributes\":{\"children\":[{\"id\":\"9e4da891-03ac-4832-9bd2-ff486f673530\",\"subtype\":\"Figure\",\"type\":\"Plot\"},{\"id\":\"aabd8b75-0176-4050-b026-bef7ca565118\",\"subtype\":\"Figure\",\"type\":\"Plot\"}]},\"id\":\"f6362f27-44bd-40a7-8dcf-b9691fb42b59\",\"type\":\"Row\"},{\"attributes\":{\"active_drag\":\"auto\",\"active_inspect\":\"auto\",\"active_scroll\":\"auto\",\"active_tap\":\"auto\",\"tools\":[{\"id\":\"e54d6ee1-77a6-41a3-be00-5abf3f639205\",\"type\":\"PanTool\"},{\"id\":\"26312aed-4036-46c5-aae9-e9d266b31937\",\"type\":\"WheelZoomTool\"},{\"id\":\"665aab14-1041-440c-a280-07326e4f4d64\",\"type\":\"BoxZoomTool\"},{\"id\":\"0855c9bc-1dfa-4a97-b274-11dd3231f006\",\"type\":\"SaveTool\"},{\"id\":\"4bf2cc9e-d11a-40e2-abb1-04993225e67e\",\"type\":\"ResetTool\"},{\"id\":\"375a88bd-93ec-40c5-89b2-512ab817e152\",\"type\":\"HelpTool\"}]},\"id\":\"089b9207-d9ec-4cc4-80df-ef04bf59bb0a\",\"type\":\"Toolbar\"},{\"attributes\":{\"below\":[{\"id\":\"0216cf2b-e18a-4abf-9815-ce0afaa64bcf\",\"type\":\"LinearAxis\"}],\"left\":[{\"id\":\"d7e10a5d-bcc5-41ce-8abd-25183428589a\",\"type\":\"LinearAxis\"}],\"plot_height\":500,\"plot_width\":400,\"renderers\":[{\"id\":\"0216cf2b-e18a-4abf-9815-ce0afaa64bcf\",\"type\":\"LinearAxis\"},{\"id\":\"2024350e-8226-4a38-bd7a-2133686137c0\",\"type\":\"Grid\"},{\"id\":\"d7e10a5d-bcc5-41ce-8abd-25183428589a\",\"type\":\"LinearAxis\"},{\"id\":\"da692ec9-7597-456a-b83f-4bd452341229\",\"type\":\"Grid\"},{\"id\":\"638c5247-66cb-472f-b979-f4f1e4f6aab9\",\"type\":\"BoxAnnotation\"},{\"id\":\"29a6308e-d981-4d2e-b558-91c739dd02b1\",\"type\":\"GlyphRenderer\"},{\"id\":\"331397be-bcb0-40e6-b5af-77d20624d509\",\"type\":\"GlyphRenderer\"},{\"id\":\"e089a3c7-e941-483d-98de-f688eacff70e\",\"type\":\"GlyphRenderer\"},{\"id\":\"484ac115-eb14-4051-9497-a866b2eec0b7\",\"type\":\"GlyphRenderer\"},{\"id\":\"083f0eb7-9440-4914-937e-007be2aa52b1\",\"type\":\"GlyphRenderer\"},{\"id\":\"158ed1c7-dfc3-4d6c-a4d9-7cc86f6a148a\",\"type\":\"GlyphRenderer\"}],\"title\":{\"id\":\"05e31c4f-b443-45fe-945a-89b6fc58abce\",\"type\":\"Title\"},\"toolbar\":{\"id\":\"79a3606e-3f42-478c-86bb-20f6c5a0c21f\",\"type\":\"Toolbar\"},\"toolbar_location\":null,\"x_range\":{\"id\":\"79120a1c-a29c-4dca-bd51-c1b21099b842\",\"type\":\"Range1d\"},\"x_scale\":{\"id\":\"eaf8c498-ad3d-487b-819b-29e88dd635fd\",\"type\":\"LinearScale\"},\"y_range\":{\"id\":\"abf10dc2-cf67-40b0-a5ec-7da1717c5c60\",\"type\":\"Range1d\"},\"y_scale\":{\"id\":\"707ff37f-6cfe-4612-8f9e-0a30edf21a0d\",\"type\":\"LinearScale\"}},\"id\":\"9e4da891-03ac-4832-9bd2-ff486f673530\",\"subtype\":\"Figure\",\"type\":\"Plot\"},{\"attributes\":{\"callback\":null,\"end\":0.01475662481,\"start\":-0.12343438380999999},\"id\":\"79120a1c-a29c-4dca-bd51-c1b21099b842\",\"type\":\"Range1d\"},{\"attributes\":{\"label\":{\"value\":\"WGT igg=1\"},\"renderers\":[{\"id\":\"c971a5ca-df89-40d5-894c-9849d36bdc9f\",\"type\":\"GlyphRenderer\"},{\"id\":\"88c76a29-2132-4e86-9248-6808a5d00ee1\",\"type\":\"GlyphRenderer\"}]},\"id\":\"1ca5fd44-ade8-490f-9259-672a839be5ea\",\"type\":\"LegendItem\"},{\"attributes\":{\"source\":{\"id\":\"8be23de3-e348-400a-afc4-2c3bf498ac8c\",\"type\":\"ColumnDataSource\"}},\"id\":\"7ed42d3f-7f64-4d8d-8556-e860e102c833\",\"type\":\"CDSView\"},{\"attributes\":{\"tools\":[{\"id\":\"e26097ac-d62b-4334-919a-ed1f26483777\",\"type\":\"PanTool\"},{\"id\":\"cad3bb07-556c-41d8-8b8f-3a96cc0c9b15\",\"type\":\"WheelZoomTool\"},{\"id\":\"f9a1c0ae-d057-416d-82a0-b1281d8c4969\",\"type\":\"BoxZoomTool\"},{\"id\":\"473bf6fd-1325-427f-9a4d-169c23e27bef\",\"type\":\"SaveTool\"},{\"id\":\"5e1d1008-8053-4454-b3ac-17f5aee71063\",\"type\":\"ResetTool\"},{\"id\":\"dc3d6ef8-31ae-4f50-8561-3d5170112b0b\",\"type\":\"HelpTool\"},{\"id\":\"e54d6ee1-77a6-41a3-be00-5abf3f639205\",\"type\":\"PanTool\"},{\"id\":\"26312aed-4036-46c5-aae9-e9d266b31937\",\"type\":\"WheelZoomTool\"},{\"id\":\"665aab14-1041-440c-a280-07326e4f4d64\",\"type\":\"BoxZoomTool\"},{\"id\":\"0855c9bc-1dfa-4a97-b274-11dd3231f006\",\"type\":\"SaveTool\"},{\"id\":\"4bf2cc9e-d11a-40e2-abb1-04993225e67e\",\"type\":\"ResetTool\"},{\"id\":\"375a88bd-93ec-40c5-89b2-512ab817e152\",\"type\":\"HelpTool\"}]},\"id\":\"b86d39d1-c397-47f5-891c-c2a3f6aaef26\",\"type\":\"ProxyToolbar\"},{\"attributes\":{\"plot\":null,\"text\":\"Log pressure scale\"},\"id\":\"9806b404-2a59-4a49-9e8d-8de68dffebce\",\"type\":\"Title\"},{\"attributes\":{\"children\":[{\"id\":\"16720797-445a-48a4-8a9c-a7a21d78e9e9\",\"type\":\"ToolbarBox\"},{\"id\":\"35ffc45b-7125-4b6e-a925-71ab77921f7c\",\"type\":\"Column\"}]},\"id\":\"7f044b3c-3f92-489a-8a70-708086233a39\",\"type\":\"Column\"},{\"attributes\":{\"data_source\":{\"id\":\"d9f4fd9c-0504-4cfe-a2ff-c3bb53ece7f8\",\"type\":\"ColumnDataSource\"},\"glyph\":{\"id\":\"b422cc58-4e71-4ff3-87e6-4131dd015144\",\"type\":\"Line\"},\"hover_glyph\":null,\"muted_glyph\":null,\"nonselection_glyph\":{\"id\":\"8f2aa940-9156-4c19-8493-d47db209629c\",\"type\":\"Line\"},\"selection_glyph\":null,\"view\":{\"id\":\"7efa16ac-dee0-4800-899c-1e5e25f26f6a\",\"type\":\"CDSView\"}},\"id\":\"158ed1c7-dfc3-4d6c-a4d9-7cc86f6a148a\",\"type\":\"GlyphRenderer\"},{\"attributes\":{},\"id\":\"375a88bd-93ec-40c5-89b2-512ab817e152\",\"type\":\"HelpTool\"},{\"attributes\":{\"source\":{\"id\":\"d9f4fd9c-0504-4cfe-a2ff-c3bb53ece7f8\",\"type\":\"ColumnDataSource\"}},\"id\":\"7efa16ac-dee0-4800-899c-1e5e25f26f6a\",\"type\":\"CDSView\"},{\"attributes\":{\"fill_alpha\":{\"value\":0.1},\"fill_color\":{\"value\":\"#1f77b4\"},\"line_alpha\":{\"value\":0.1},\"line_color\":{\"value\":\"#1f77b4\"},\"x\":{\"field\":\"x\"},\"y\":{\"field\":\"y\"}},\"id\":\"5115f73c-1eee-47cd-a0cc-4f68ef5ec97f\",\"type\":\"InvertedTriangle\"},{\"attributes\":{\"below\":[{\"id\":\"814938db-489a-4c61-825d-d6f02afe3df5\",\"type\":\"LinearAxis\"}],\"left\":[{\"id\":\"653dfea1-05dd-4678-95bf-0ebb8e8dbf85\",\"type\":\"LogAxis\"}],\"plot_height\":500,\"plot_width\":560,\"renderers\":[{\"id\":\"814938db-489a-4c61-825d-d6f02afe3df5\",\"type\":\"LinearAxis\"},{\"id\":\"8a4703c1-5826-4a5a-b8ac-f21c9b5ca283\",\"type\":\"Grid\"},{\"id\":\"653dfea1-05dd-4678-95bf-0ebb8e8dbf85\",\"type\":\"LogAxis\"},{\"id\":\"ca89e71e-e9a9-4816-97ec-8fafea96318b\",\"type\":\"Grid\"},{\"id\":\"e09e7b1d-efba-4ea4-b300-18a06020dd1d\",\"type\":\"BoxAnnotation\"},{\"id\":\"6e7e96ef-074f-4bf5-be2d-47574da02586\",\"type\":\"GlyphRenderer\"},{\"id\":\"183e3b93-d5b6-4ac4-b337-8cf8c5aefdcc\",\"type\":\"GlyphRenderer\"},{\"id\":\"c8e9fc58-0336-43ee-9578-b6bc473c5149\",\"type\":\"GlyphRenderer\"},{\"id\":\"c5996977-5f48-4234-b66b-eef39fb98bfa\",\"type\":\"GlyphRenderer\"},{\"id\":\"c971a5ca-df89-40d5-894c-9849d36bdc9f\",\"type\":\"GlyphRenderer\"},{\"id\":\"88c76a29-2132-4e86-9248-6808a5d00ee1\",\"type\":\"GlyphRenderer\"},{\"id\":\"7f5fd11b-d38c-4e3b-bded-e79285480eb4\",\"type\":\"Legend\"}],\"right\":[{\"id\":\"7f5fd11b-d38c-4e3b-bded-e79285480eb4\",\"type\":\"Legend\"}],\"title\":{\"id\":\"9806b404-2a59-4a49-9e8d-8de68dffebce\",\"type\":\"Title\"},\"toolbar\":{\"id\":\"089b9207-d9ec-4cc4-80df-ef04bf59bb0a\",\"type\":\"Toolbar\"},\"toolbar_location\":null,\"x_range\":{\"id\":\"6646d1d4-c493-4b14-8ba6-b450fe91d944\",\"type\":\"Range1d\"},\"x_scale\":{\"id\":\"0589e6f9-b5d0-4697-acc0-e6f28a393c94\",\"type\":\"LinearScale\"},\"y_range\":{\"id\":\"f4f554bf-563f-444f-8bb7-3cd64b9c5a9d\",\"type\":\"Range1d\"},\"y_scale\":{\"id\":\"3a05b967-b672-4ce7-bfa1-e48148c56892\",\"type\":\"LogScale\"}},\"id\":\"aabd8b75-0176-4050-b026-bef7ca565118\",\"subtype\":\"Figure\",\"type\":\"Plot\"},{\"attributes\":{\"source\":{\"id\":\"b7f4c4bf-c143-49bc-a46e-0db4f61c4bd8\",\"type\":\"ColumnDataSource\"}},\"id\":\"b6c3de28-92d7-4dc2-907c-8b7d442336a4\",\"type\":\"CDSView\"},{\"attributes\":{\"fill_alpha\":{\"value\":0.7},\"fill_color\":{\"value\":\"#377eb8\"},\"line_alpha\":{\"value\":0.7},\"line_color\":{\"value\":\"#377eb8\"},\"x\":{\"field\":\"x\"},\"y\":{\"field\":\"y\"}},\"id\":\"c492e633-d2a3-47b4-ac97-eccad0a9a16f\",\"type\":\"InvertedTriangle\"},{\"attributes\":{\"callback\":null,\"end\":0.01,\"start\":1020},\"id\":\"f4f554bf-563f-444f-8bb7-3cd64b9c5a9d\",\"type\":\"Range1d\"},{\"attributes\":{\"callback\":null,\"column_names\":[\"x\",\"y\"],\"data\":{\"x\":{\"__ndarray__\":\"g7fIvNzHlr+yHn3npc+Xv+4fJyZRKpe/45ketCF2j79J11/GuheCv6cd6ZGgZnY/lc5c56w9mj9k0MeEseipP4CD5AcoObc/WHk8DDGHwD+Zxy/2Pe7HP8skE4XQoM4/3ggoYH001D/L6T5CxR/bP/aUYmjx2eI/MTl7iML+6D/Q//7WRkPvP4H3RI34hPM/wbhl0YXi9j/oZbkRu1v6P122jIruz/0/psP5iiTw/j9VjbnGwqv6P6+5/rhYjPQ/Usf4aiYD7z+Q4co8Zj7mP9ziEi6BZ94/4lfN7wva1D/cbpsMO0rPP3xIU5hScsc/cTniuYzVvz/sIMikM26yP6/OV+cdSaM/+Lih749zlj/P1kKLE3hrv4hK19ewYqO/+D8EeLLrsL+bFRdo8w+2v58qdJgOIbq/KNUdD6b2vL9yP7cC0Em8v7U2S9Hj2ri/K4ljks6Wtb9pgoqlpq+xv1JwFs7s9au/yeDNvwI9pL8V5gBrHISbv1ej1csatZO/9Modf2dQjL8/sGVlezWDv1IyNyLK5Xe/E0wfPEb5ar9MM0cZZCBVv0Xp4A5MXUY/kjl7kOpnXT82evMjl2JrP8UZQfdlKHM/NsKnJCdmeD9oq0TwriB9P2xrev7jZYA/YOOtxBKHgj/+P3zQGz2EP65N30KJXIU/ILr7d9ifhz+9Ba/pg12HP6Gkb7uYsog/DWZsGKCViT9Yoqlar0KKP8u0gWTP2Io/OPBW1Uxwij/Rlmb/q6qJP9xZ1UFHc4g/Kxzy4/DIhj9LWMobKDyFPwekY2C7wYM/\",\"dtype\":\"float64\",\"shape\":[75]},\"y\":{\"__ndarray__\":\"GhExyth1ND/Sv8nbtpRIP2vylNV0PVE/aTum7souWD/At0SJ8fVgPw3Iuahxymc/MSNhhJWvcD/bTfBN02d3P2zb5nxnaoA/CD5h5MAGhz8NmeH1TyaQP+zrCsc9p5Y/LbKd76fGnz/bLW5ISEmmPww9YvTcQq8/JV2OstnstT8Er5Y7M8G+P0c+r3jqkcU/5h99k6ZBzj88bCIzFzjVP4enV8oyxN0//yH99nXg5D8qOpLLf0jtP5kqGJXUifQ/c9cS8kHP/D+/DpwzojQEQIEmwoanVwxA4lgXt9HgE0BSSZ2AJuIbQAMJih9jjiNA5q4l5INuK0AwTKYKRj0zQNv5fmq8/DpAaCJseHrtQkB/+zpwzoxKQM3MzMzMeFJAZmZmZmZqWEAAAAAAAFxeQM3MzMzMJmJAmpmZmZkfZUBmZmZmZhhoQDMzMzMzEWtAAAAAAAAKbkBmZmZmZoFwQM3MzMzM/XFAMzMzMzN6c0CamZmZmfZ0QAAAAAAAc3ZAZmZmZmbvd0DNzMzMzGt5QDMzMzMz6HpAmpmZmZlkfEAAAAAAAOF9QGZmZmZmXX9AZmZmZuZsgECamZmZGSuBQM3MzMxM6YFAAAAAAICngkAzMzMzs2WDQGZmZmbmI4RAmpmZmRnihEDNzMzMTKCFQAAAAACAXoZAMzMzM7Mch0BmZmZm5tqHQJqZmZkZmYhAzczMzExXiUAAAAAAgBWKQDMzMzOz04pAZmZmZuaRi0CamZmZGVCMQM3MzMxMDo1AAAAAAIDMjUAzMzMzs4qOQGZmZmbmSI9A\",\"dtype\":\"float64\",\"shape\":[75]}}},\"id\":\"92b9f595-9840-4967-bd14-ce06fa60ba55\",\"type\":\"ColumnDataSource\"},{\"attributes\":{\"line_alpha\":0.1,\"line_color\":\"#1f77b4\",\"line_width\":1.5,\"x\":{\"field\":\"x\"},\"y\":{\"field\":\"y\"}},\"id\":\"9c7b0145-ca34-4275-b207-0b5c1793dcae\",\"type\":\"Line\"},{\"attributes\":{},\"id\":\"3a05b967-b672-4ce7-bfa1-e48148c56892\",\"type\":\"LogScale\"},{\"attributes\":{\"axis_label\":\"pressure [mb]\",\"formatter\":{\"id\":\"ff1985a1-d4d0-4369-9b79-66adc7a8a558\",\"type\":\"LogTickFormatter\"},\"plot\":{\"id\":\"aabd8b75-0176-4050-b026-bef7ca565118\",\"subtype\":\"Figure\",\"type\":\"Plot\"},\"ticker\":{\"id\":\"2487c622-4fdf-4765-b765-0dc7df8ede85\",\"type\":\"LogTicker\"}},\"id\":\"653dfea1-05dd-4678-95bf-0ebb8e8dbf85\",\"type\":\"LogAxis\"},{\"attributes\":{},\"id\":\"4bf2cc9e-d11a-40e2-abb1-04993225e67e\",\"type\":\"ResetTool\"},{\"attributes\":{},\"id\":\"e54d6ee1-77a6-41a3-be00-5abf3f639205\",\"type\":\"PanTool\"},{\"attributes\":{\"overlay\":{\"id\":\"e09e7b1d-efba-4ea4-b300-18a06020dd1d\",\"type\":\"BoxAnnotation\"}},\"id\":\"665aab14-1041-440c-a280-07326e4f4d64\",\"type\":\"BoxZoomTool\"},{\"attributes\":{\"source\":{\"id\":\"1bd7dc03-4956-411a-bed2-d0ac910973d5\",\"type\":\"ColumnDataSource\"}},\"id\":\"7e6dc916-5ea9-4bfc-89d0-1811dc0be985\",\"type\":\"CDSView\"},{\"attributes\":{\"num_minor_ticks\":10},\"id\":\"2487c622-4fdf-4765-b765-0dc7df8ede85\",\"type\":\"LogTicker\"},{\"attributes\":{\"dimension\":1,\"plot\":{\"id\":\"aabd8b75-0176-4050-b026-bef7ca565118\",\"subtype\":\"Figure\",\"type\":\"Plot\"},\"ticker\":{\"id\":\"2487c622-4fdf-4765-b765-0dc7df8ede85\",\"type\":\"LogTicker\"}},\"id\":\"ca89e71e-e9a9-4816-97ec-8fafea96318b\",\"type\":\"Grid\"},{\"attributes\":{\"fill_alpha\":{\"value\":0.7},\"fill_color\":{\"value\":\"#984ea3\"},\"line_alpha\":{\"value\":0.7},\"line_color\":{\"value\":\"#984ea3\"},\"x\":{\"field\":\"x\"},\"y\":{\"field\":\"y\"}},\"id\":\"af67b3ab-39b8-48ab-957c-c1cf4befb924\",\"type\":\"Square\"},{\"attributes\":{\"fill_alpha\":{\"value\":0.1},\"fill_color\":{\"value\":\"#1f77b4\"},\"line_alpha\":{\"value\":0.1},\"line_color\":{\"value\":\"#1f77b4\"},\"x\":{\"field\":\"x\"},\"y\":{\"field\":\"y\"}},\"id\":\"29e0804b-fd7f-48f2-976e-206b20bd6d24\",\"type\":\"Circle\"},{\"attributes\":{\"data_source\":{\"id\":\"1bd7dc03-4956-411a-bed2-d0ac910973d5\",\"type\":\"ColumnDataSource\"},\"glyph\":{\"id\":\"af67b3ab-39b8-48ab-957c-c1cf4befb924\",\"type\":\"Square\"},\"hover_glyph\":null,\"muted_glyph\":null,\"nonselection_glyph\":{\"id\":\"49762f0b-5055-401e-a49b-be05ee4f932a\",\"type\":\"Square\"},\"selection_glyph\":null,\"view\":{\"id\":\"7e6dc916-5ea9-4bfc-89d0-1811dc0be985\",\"type\":\"CDSView\"}},\"id\":\"e089a3c7-e941-483d-98de-f688eacff70e\",\"type\":\"GlyphRenderer\"},{\"attributes\":{\"fill_alpha\":{\"value\":0.1},\"fill_color\":{\"value\":\"#1f77b4\"},\"line_alpha\":{\"value\":0.1},\"line_color\":{\"value\":\"#1f77b4\"},\"x\":{\"field\":\"x\"},\"y\":{\"field\":\"y\"}},\"id\":\"49762f0b-5055-401e-a49b-be05ee4f932a\",\"type\":\"Square\"},{\"attributes\":{\"callback\":null,\"column_names\":[\"x\",\"y\"],\"data\":{\"x\":{\"__ndarray__\":\"g7fIvNzHlr+yHn3npc+Xv+4fJyZRKpe/45ketCF2j79J11/GuheCv6cd6ZGgZnY/lc5c56w9mj9k0MeEseipP4CD5AcoObc/WHk8DDGHwD+Zxy/2Pe7HP8skE4XQoM4/3ggoYH001D/L6T5CxR/bP/aUYmjx2eI/MTl7iML+6D/Q//7WRkPvP4H3RI34hPM/wbhl0YXi9j/oZbkRu1v6P122jIruz/0/psP5iiTw/j9VjbnGwqv6P6+5/rhYjPQ/Usf4aiYD7z+Q4co8Zj7mP9ziEi6BZ94/4lfN7wva1D/cbpsMO0rPP3xIU5hScsc/cTniuYzVvz/sIMikM26yP6/OV+cdSaM/+Lih749zlj/P1kKLE3hrv4hK19ewYqO/+D8EeLLrsL+bFRdo8w+2v58qdJgOIbq/KNUdD6b2vL9yP7cC0Em8v7U2S9Hj2ri/K4ljks6Wtb9pgoqlpq+xv1JwFs7s9au/yeDNvwI9pL8V5gBrHISbv1ej1csatZO/9Modf2dQjL8/sGVlezWDv1IyNyLK5Xe/E0wfPEb5ar9MM0cZZCBVv0Xp4A5MXUY/kjl7kOpnXT82evMjl2JrP8UZQfdlKHM/NsKnJCdmeD9oq0TwriB9P2xrev7jZYA/YOOtxBKHgj/+P3zQGz2EP65N30KJXIU/ILr7d9ifhz+9Ba/pg12HP6Gkb7uYsog/DWZsGKCViT9Yoqlar0KKP8u0gWTP2Io/OPBW1Uxwij/Rlmb/q6qJP9xZ1UFHc4g/Kxzy4/DIhj9LWMobKDyFPwekY2C7wYM/\",\"dtype\":\"float64\",\"shape\":[75]},\"y\":{\"__ndarray__\":\"GhExyth1ND/Sv8nbtpRIP2vylNV0PVE/aTum7souWD/At0SJ8fVgPw3Iuahxymc/MSNhhJWvcD/bTfBN02d3P2zb5nxnaoA/CD5h5MAGhz8NmeH1TyaQP+zrCsc9p5Y/LbKd76fGnz/bLW5ISEmmPww9YvTcQq8/JV2OstnstT8Er5Y7M8G+P0c+r3jqkcU/5h99k6ZBzj88bCIzFzjVP4enV8oyxN0//yH99nXg5D8qOpLLf0jtP5kqGJXUifQ/c9cS8kHP/D+/DpwzojQEQIEmwoanVwxA4lgXt9HgE0BSSZ2AJuIbQAMJih9jjiNA5q4l5INuK0AwTKYKRj0zQNv5fmq8/DpAaCJseHrtQkB/+zpwzoxKQM3MzMzMeFJAZmZmZmZqWEAAAAAAAFxeQM3MzMzMJmJAmpmZmZkfZUBmZmZmZhhoQDMzMzMzEWtAAAAAAAAKbkBmZmZmZoFwQM3MzMzM/XFAMzMzMzN6c0CamZmZmfZ0QAAAAAAAc3ZAZmZmZmbvd0DNzMzMzGt5QDMzMzMz6HpAmpmZmZlkfEAAAAAAAOF9QGZmZmZmXX9AZmZmZuZsgECamZmZGSuBQM3MzMxM6YFAAAAAAICngkAzMzMzs2WDQGZmZmbmI4RAmpmZmRnihEDNzMzMTKCFQAAAAACAXoZAMzMzM7Mch0BmZmZm5tqHQJqZmZkZmYhAzczMzExXiUAAAAAAgBWKQDMzMzOz04pAZmZmZuaRi0CamZmZGVCMQM3MzMxMDo1AAAAAAIDMjUAzMzMzs4qOQGZmZmbmSI9A\",\"dtype\":\"float64\",\"shape\":[75]}}},\"id\":\"b7f4c4bf-c143-49bc-a46e-0db4f61c4bd8\",\"type\":\"ColumnDataSource\"},{\"attributes\":{\"plot\":null,\"text\":\"Linear pressure scale\"},\"id\":\"05e31c4f-b443-45fe-945a-89b6fc58abce\",\"type\":\"Title\"},{\"attributes\":{\"callback\":null,\"column_names\":[\"x\",\"y\"],\"data\":{\"x\":{\"__ndarray__\":\"TA9ou9LKnL9+vMJIUHiev9aHI3+Y052/acFgPiZAmb8nxEW2P4yOv4JiPy1BYRU/nNvGlzcklz+lQKHJvl6rP7FhzOQ7+7Y/NoT4+jmJwT9nFQ2EKtbIP0wPM8kCxdA/IByaT6nU1T+sXY+ZdnfdP3eC/de5aeQ/PueP5TT26j+JnYQt0fTwPzR1Demmg/Q/NOiV/JkL+D/qHAOy13v7PxD5eDJJtv4/h29h3Xh3/z/daLbhZof6P46GnXMB+fM/Lxylnked7T+M7ZwDV7vkP7yP5VWEONs/uom1U84y0j9AWpTAg/LKP23sTIDlMcQ/nPiLVVqxvD+w650lVrOwP3sCiW8me6I/1OdjcRF1lz9GKNy+gkJOv9O1Lumz+Z+/4AqYKJEwrb8uZk4O1Gazv9uxcfoDMLe/o4/5gEBnur8fihsaw1q6v+oeN842z7e/GNCoTHMjtb8/DszP4syxv7TfOPuTkKy/QQexwS/mpL9gJQ3YT6ucv9hJ9Gd8tZS/aPtL4/sIjr9t/u0f/KWEv+0mdLdk/nm/HrmkGE/lbb/opBd3cxhbv83oHX5/pCE/TPp9c4b4XD/YArNkxPxqP4P+oyZqP3M/ExsC+E13eD86Uy1ICE19PxXu+qSR0YA/y+yWFSi4gj+dO6OokWiEPzsnNTWC7YU/adIaQTI2hz91OYhK4UmIP8y2XMjmVIk/QqejwFtQij9/TR1+ExeLP+kMnp9ocos/+54SiaI9iz+JNPTGflOKP3o/MVxk1Yg/211J7aMlhz8kOQ0PaW2FPyeZecsFyYM/\",\"dtype\":\"float64\",\"shape\":[75]},\"y\":{\"__ndarray__\":\"GhExyth1ND/Sv8nbtpRIP2vylNV0PVE/aTum7souWD/At0SJ8fVgPw3Iuahxymc/MSNhhJWvcD/bTfBN02d3P2zb5nxnaoA/CD5h5MAGhz8NmeH1TyaQP+zrCsc9p5Y/LbKd76fGnz/bLW5ISEmmPww9YvTcQq8/JV2OstnstT8Er5Y7M8G+P0c+r3jqkcU/5h99k6ZBzj88bCIzFzjVP4enV8oyxN0//yH99nXg5D8qOpLLf0jtP5kqGJXUifQ/c9cS8kHP/D+/DpwzojQEQIEmwoanVwxA4lgXt9HgE0BSSZ2AJuIbQAMJih9jjiNA5q4l5INuK0AwTKYKRj0zQNv5fmq8/DpAaCJseHrtQkB/+zpwzoxKQM3MzMzMeFJAZmZmZmZqWEAAAAAAAFxeQM3MzMzMJmJAmpmZmZkfZUBmZmZmZhhoQDMzMzMzEWtAAAAAAAAKbkBmZmZmZoFwQM3MzMzM/XFAMzMzMzN6c0CamZmZmfZ0QAAAAAAAc3ZAZmZmZmbvd0DNzMzMzGt5QDMzMzMz6HpAmpmZmZlkfEAAAAAAAOF9QGZmZmZmXX9AZmZmZuZsgECamZmZGSuBQM3MzMxM6YFAAAAAAICngkAzMzMzs2WDQGZmZmbmI4RAmpmZmRnihEDNzMzMTKCFQAAAAACAXoZAMzMzM7Mch0BmZmZm5tqHQJqZmZkZmYhAzczMzExXiUAAAAAAgBWKQDMzMzOz04pAZmZmZuaRi0CamZmZGVCMQM3MzMxMDo1AAAAAAIDMjUAzMzMzs4qOQGZmZmbmSI9A\",\"dtype\":\"float64\",\"shape\":[75]}}},\"id\":\"8df6bb55-21fb-4bc2-8bd5-6616ea6d163f\",\"type\":\"ColumnDataSource\"},{\"attributes\":{\"bottom_units\":\"screen\",\"fill_alpha\":{\"value\":0.5},\"fill_color\":{\"value\":\"lightgrey\"},\"left_units\":\"screen\",\"level\":\"overlay\",\"line_alpha\":{\"value\":1.0},\"line_color\":{\"value\":\"black\"},\"line_dash\":[4,4],\"line_width\":{\"value\":2},\"plot\":null,\"render_mode\":\"css\",\"right_units\":\"screen\",\"top_units\":\"screen\"},\"id\":\"e09e7b1d-efba-4ea4-b300-18a06020dd1d\",\"type\":\"BoxAnnotation\"},{\"attributes\":{},\"id\":\"26312aed-4036-46c5-aae9-e9d266b31937\",\"type\":\"WheelZoomTool\"},{\"attributes\":{\"data_source\":{\"id\":\"cafa14af-b3d2-474f-8a04-b6a1774070c1\",\"type\":\"ColumnDataSource\"},\"glyph\":{\"id\":\"96f73216-9ba5-49a3-9fb2-3ef590efcba2\",\"type\":\"Line\"},\"hover_glyph\":null,\"muted_glyph\":null,\"nonselection_glyph\":{\"id\":\"9c7b0145-ca34-4275-b207-0b5c1793dcae\",\"type\":\"Line\"},\"selection_glyph\":null,\"view\":{\"id\":\"a5b1e80b-3f57-4347-91b5-d1e0078d432e\",\"type\":\"CDSView\"}},\"id\":\"331397be-bcb0-40e6-b5af-77d20624d509\",\"type\":\"GlyphRenderer\"},{\"attributes\":{\"axis_label\":\"cooling rate [K/day]\",\"formatter\":{\"id\":\"b016bf1e-3e1d-4c0e-a2ac-dbaf9e415713\",\"type\":\"BasicTickFormatter\"},\"plot\":{\"id\":\"aabd8b75-0176-4050-b026-bef7ca565118\",\"subtype\":\"Figure\",\"type\":\"Plot\"},\"ticker\":{\"id\":\"bb0eda07-63b3-40d0-9e9d-baf70bca54aa\",\"type\":\"BasicTicker\"}},\"id\":\"814938db-489a-4c61-825d-d6f02afe3df5\",\"type\":\"LinearAxis\"},{\"attributes\":{\"callback\":null,\"column_names\":[\"x\",\"y\"],\"data\":{\"x\":{\"__ndarray__\":\"TgfqSLnxkL8fizDvuHuRv+lfzy0tUJC/ZyH66OZ4h787QTCBOmlqvzQKoNTyFYM/CYqWcZBmmz8/XnBPVXapP432t4VgNbQ/egRx/T93vT+Se/Rl7V/EP0dbdDYNH8s/X2p8DV6H0T8ZNusIt6fXP4LWLjONguA/aG5sE3of5j86llbHGmPsP0WIhiBinvE/y06aYf5F9T8xqZDhZxL5P6w1OSEZt/w/ZbFeVnJf/j/AXydQH7z6P6Kb/YFye/Q/G5G9GKnb7T+TuBobssjkPy4uXdrTwts/U6xcoIsj0z8i+jkueIvNP9he0c7l3cY/IcEaiOF6wD+rxUeO65SzP47rNfZSnKU/BccjwAL7mD+4QRunQm9ivxEPbW/TeaK/NF5a199Hsb8l0Mo3h123vyIHHVts5ru/5uSoUJtAv78chdolYCq+vy4h3deaELq/qstDVTUJtr8CM/he8Kexvw3UxxsXEKu/L4kEamkio78m+nfbV66Zv3o3fvd6NpK/8I4NVvzcib8WVmHkwlCBv5jyAi2bAHW/O47eMuCaZr/+8VvnFlVQvzvUlALs3UI/EhbTVGiDYD8gbbI6OGdrP/+sEbMysHI/le1+90BCdz/fvOxikHd7P/8YtDyBQ38/rG9JH01NgT/hS+DTbs2CP00tK7J1J4Q/qLkcfE9PhT8h87fzs0eGP8HHkP6/M4c/bi9aYakXiD8Vw0oPh8iIPyGcF3NMIIk/iPvwdRf9iD86tNxapUKIPx/CdDE4EIc/9Ns6rC6vhT9qMuEjW0eEP4rgSjkJ7II/\",\"dtype\":\"float64\",\"shape\":[75]},\"y\":{\"__ndarray__\":\"GhExyth1ND/Sv8nbtpRIP2vylNV0PVE/aTum7souWD/At0SJ8fVgPw3Iuahxymc/MSNhhJWvcD/bTfBN02d3P2zb5nxnaoA/CD5h5MAGhz8NmeH1TyaQP+zrCsc9p5Y/LbKd76fGnz/bLW5ISEmmPww9YvTcQq8/JV2OstnstT8Er5Y7M8G+P0c+r3jqkcU/5h99k6ZBzj88bCIzFzjVP4enV8oyxN0//yH99nXg5D8qOpLLf0jtP5kqGJXUifQ/c9cS8kHP/D+/DpwzojQEQIEmwoanVwxA4lgXt9HgE0BSSZ2AJuIbQAMJih9jjiNA5q4l5INuK0AwTKYKRj0zQNv5fmq8/DpAaCJseHrtQkB/+zpwzoxKQM3MzMzMeFJAZmZmZmZqWEAAAAAAAFxeQM3MzMzMJmJAmpmZmZkfZUBmZmZmZhhoQDMzMzMzEWtAAAAAAAAKbkBmZmZmZoFwQM3MzMzM/XFAMzMzMzN6c0CamZmZmfZ0QAAAAAAAc3ZAZmZmZmbvd0DNzMzMzGt5QDMzMzMz6HpAmpmZmZlkfEAAAAAAAOF9QGZmZmZmXX9AZmZmZuZsgECamZmZGSuBQM3MzMxM6YFAAAAAAICngkAzMzMzs2WDQGZmZmbmI4RAmpmZmRnihEDNzMzMTKCFQAAAAACAXoZAMzMzM7Mch0BmZmZm5tqHQJqZmZkZmYhAzczMzExXiUAAAAAAgBWKQDMzMzOz04pAZmZmZuaRi0CamZmZGVCMQM3MzMxMDo1AAAAAAIDMjUAzMzMzs4qOQGZmZmbmSI9A\",\"dtype\":\"float64\",\"shape\":[75]}}},\"id\":\"e6ce3892-f5d1-4d23-90fa-b50e3f0514ed\",\"type\":\"ColumnDataSource\"},{\"attributes\":{\"source\":{\"id\":\"e6ce3892-f5d1-4d23-90fa-b50e3f0514ed\",\"type\":\"ColumnDataSource\"}},\"id\":\"d4427902-04c6-4243-abed-e00514a327ed\",\"type\":\"CDSView\"},{\"attributes\":{\"callback\":null,\"column_names\":[\"x\",\"y\"],\"data\":{\"x\":{\"__ndarray__\":\"g7fIvNzHlr+yHn3npc+Xv+4fJyZRKpe/45ketCF2j79J11/GuheCv6cd6ZGgZnY/lc5c56w9mj9k0MeEseipP4CD5AcoObc/WHk8DDGHwD+Zxy/2Pe7HP8skE4XQoM4/3ggoYH001D/L6T5CxR/bP/aUYmjx2eI/MTl7iML+6D/Q//7WRkPvP4H3RI34hPM/wbhl0YXi9j/oZbkRu1v6P122jIruz/0/psP5iiTw/j9VjbnGwqv6P6+5/rhYjPQ/Usf4aiYD7z+Q4co8Zj7mP9ziEi6BZ94/4lfN7wva1D/cbpsMO0rPP3xIU5hScsc/cTniuYzVvz/sIMikM26yP6/OV+cdSaM/+Lih749zlj/P1kKLE3hrv4hK19ewYqO/+D8EeLLrsL+bFRdo8w+2v58qdJgOIbq/KNUdD6b2vL9yP7cC0Em8v7U2S9Hj2ri/K4ljks6Wtb9pgoqlpq+xv1JwFs7s9au/yeDNvwI9pL8V5gBrHISbv1ej1csatZO/9Modf2dQjL8/sGVlezWDv1IyNyLK5Xe/E0wfPEb5ar9MM0cZZCBVv0Xp4A5MXUY/kjl7kOpnXT82evMjl2JrP8UZQfdlKHM/NsKnJCdmeD9oq0TwriB9P2xrev7jZYA/YOOtxBKHgj/+P3zQGz2EP65N30KJXIU/ILr7d9ifhz+9Ba/pg12HP6Gkb7uYsog/DWZsGKCViT9Yoqlar0KKP8u0gWTP2Io/OPBW1Uxwij/Rlmb/q6qJP9xZ1UFHc4g/Kxzy4/DIhj9LWMobKDyFPwekY2C7wYM/\",\"dtype\":\"float64\",\"shape\":[75]},\"y\":{\"__ndarray__\":\"GhExyth1ND/Sv8nbtpRIP2vylNV0PVE/aTum7souWD/At0SJ8fVgPw3Iuahxymc/MSNhhJWvcD/bTfBN02d3P2zb5nxnaoA/CD5h5MAGhz8NmeH1TyaQP+zrCsc9p5Y/LbKd76fGnz/bLW5ISEmmPww9YvTcQq8/JV2OstnstT8Er5Y7M8G+P0c+r3jqkcU/5h99k6ZBzj88bCIzFzjVP4enV8oyxN0//yH99nXg5D8qOpLLf0jtP5kqGJXUifQ/c9cS8kHP/D+/DpwzojQEQIEmwoanVwxA4lgXt9HgE0BSSZ2AJuIbQAMJih9jjiNA5q4l5INuK0AwTKYKRj0zQNv5fmq8/DpAaCJseHrtQkB/+zpwzoxKQM3MzMzMeFJAZmZmZmZqWEAAAAAAAFxeQM3MzMzMJmJAmpmZmZkfZUBmZmZmZhhoQDMzMzMzEWtAAAAAAAAKbkBmZmZmZoFwQM3MzMzM/XFAMzMzMzN6c0CamZmZmfZ0QAAAAAAAc3ZAZmZmZmbvd0DNzMzMzGt5QDMzMzMz6HpAmpmZmZlkfEAAAAAAAOF9QGZmZmZmXX9AZmZmZuZsgECamZmZGSuBQM3MzMxM6YFAAAAAAICngkAzMzMzs2WDQGZmZmbmI4RAmpmZmRnihEDNzMzMTKCFQAAAAACAXoZAMzMzM7Mch0BmZmZm5tqHQJqZmZkZmYhAzczMzExXiUAAAAAAgBWKQDMzMzOz04pAZmZmZuaRi0CamZmZGVCMQM3MzMxMDo1AAAAAAIDMjUAzMzMzs4qOQGZmZmbmSI9A\",\"dtype\":\"float64\",\"shape\":[75]}}},\"id\":\"d9f4fd9c-0504-4cfe-a2ff-c3bb53ece7f8\",\"type\":\"ColumnDataSource\"}],\"root_ids\":[\"7f044b3c-3f92-489a-8a70-708086233a39\"]},\"title\":\"Bokeh Application\",\"version\":\"0.12.14\"}};\n",
       "  var render_items = [{\"docid\":\"9d6c0ced-87fd-4b11-bbf0-5b58705a5787\",\"elementid\":\"4fe83d4e-f408-437a-b264-eea5b498aff3\",\"modelid\":\"7f044b3c-3f92-489a-8a70-708086233a39\"}];\n",
       "  root.Bokeh.embed.embed_items_notebook(docs_json, render_items);\n",
       "\n",
       "  }\n",
       "  if (root.Bokeh !== undefined) {\n",
       "    embed_document(root);\n",
       "  } else {\n",
       "    var attempts = 0;\n",
       "    var timer = setInterval(function(root) {\n",
       "      if (root.Bokeh !== undefined) {\n",
       "        embed_document(root);\n",
       "        clearInterval(timer);\n",
       "      }\n",
       "      attempts++;\n",
       "      if (attempts > 100) {\n",
       "        console.log(\"Bokeh: ERROR: Unable to run BokehJS code because BokehJS library is missing\")\n",
       "        clearInterval(timer);\n",
       "      }\n",
       "    }, 10, root)\n",
       "  }\n",
       "})(window);"
      ],
      "application/vnd.bokehjs_exec.v0+json": ""
     },
     "metadata": {
      "application/vnd.bokehjs_exec.v0+json": {
       "id": "7f044b3c-3f92-489a-8a70-708086233a39"
      }
     },
     "output_type": "display_data"
    },
    {
     "name": "stdout",
     "output_type": "stream",
     "text": [
      "FIGURE. Cooling rate profiles.\n"
     ]
    },
    {
     "data": {
      "text/html": [
       "<a id=\"Flux_Comparison\"></a>"
      ],
      "text/plain": [
       "<IPython.core.display.HTML object>"
      ]
     },
     "metadata": {},
     "output_type": "display_data"
    },
    {
     "data": {
      "text/markdown": [
       "# Flux Comparison"
      ],
      "text/plain": [
       "<IPython.core.display.Markdown object>"
      ]
     },
     "metadata": {},
     "output_type": "display_data"
    },
    {
     "data": {
      "text/html": [
       "<div>\n",
       "<style>\n",
       "    .dataframe thead tr:only-child th {\n",
       "        text-align: right;\n",
       "    }\n",
       "\n",
       "    .dataframe thead th {\n",
       "        text-align: left;\n",
       "    }\n",
       "\n",
       "    .dataframe tbody tr th {\n",
       "        vertical-align: top;\n",
       "    }\n",
       "</style>\n",
       "<table border=\"1\" class=\"dataframe\">\n",
       "  <thead>\n",
       "    <tr style=\"text-align: right;\">\n",
       "      <th></th>\n",
       "      <th></th>\n",
       "      <th>flug</th>\n",
       "      <th>fldg</th>\n",
       "      <th>fnetg</th>\n",
       "    </tr>\n",
       "    <tr>\n",
       "      <th>pressure</th>\n",
       "      <th>level</th>\n",
       "      <th></th>\n",
       "      <th></th>\n",
       "      <th></th>\n",
       "    </tr>\n",
       "  </thead>\n",
       "  <tbody>\n",
       "    <tr>\n",
       "      <th>0.0000</th>\n",
       "      <th>1</th>\n",
       "      <td>-10.989243</td>\n",
       "      <td>0.000000</td>\n",
       "      <td>-10.989243</td>\n",
       "    </tr>\n",
       "    <tr>\n",
       "      <th>1.0685</th>\n",
       "      <th>24</th>\n",
       "      <td>-10.937126</td>\n",
       "      <td>0.150965</td>\n",
       "      <td>-10.786162</td>\n",
       "    </tr>\n",
       "    <tr>\n",
       "      <th>1013.0000</th>\n",
       "      <th>76</th>\n",
       "      <td>-15.051406</td>\n",
       "      <td>2.958987</td>\n",
       "      <td>-12.092419</td>\n",
       "    </tr>\n",
       "  </tbody>\n",
       "</table>\n",
       "</div>"
      ],
      "text/plain": [
       "                      flug      fldg      fnetg\n",
       "pressure  level                                \n",
       "0.0000    1     -10.989243  0.000000 -10.989243\n",
       "1.0685    24    -10.937126  0.150965 -10.786162\n",
       "1013.0000 76    -15.051406  2.958987 -12.092419"
      ]
     },
     "metadata": {},
     "output_type": "display_data"
    },
    {
     "name": "stdout",
     "output_type": "stream",
     "text": [
      "Table. Fluxes. CRD\n"
     ]
    },
    {
     "data": {
      "text/html": [
       "<div>\n",
       "<style>\n",
       "    .dataframe thead tr:only-child th {\n",
       "        text-align: right;\n",
       "    }\n",
       "\n",
       "    .dataframe thead th {\n",
       "        text-align: left;\n",
       "    }\n",
       "\n",
       "    .dataframe tbody tr th {\n",
       "        vertical-align: top;\n",
       "    }\n",
       "</style>\n",
       "<table border=\"1\" class=\"dataframe\">\n",
       "  <thead>\n",
       "    <tr style=\"text-align: right;\">\n",
       "      <th></th>\n",
       "      <th></th>\n",
       "      <th>flug</th>\n",
       "      <th>fldg</th>\n",
       "      <th>fnetg</th>\n",
       "    </tr>\n",
       "    <tr>\n",
       "      <th>pressure</th>\n",
       "      <th>level</th>\n",
       "      <th></th>\n",
       "      <th></th>\n",
       "      <th></th>\n",
       "    </tr>\n",
       "  </thead>\n",
       "  <tbody>\n",
       "    <tr>\n",
       "      <th>0.0000</th>\n",
       "      <th>1</th>\n",
       "      <td>-10.706986</td>\n",
       "      <td>0.000000</td>\n",
       "      <td>-10.706986</td>\n",
       "    </tr>\n",
       "    <tr>\n",
       "      <th>1.0685</th>\n",
       "      <th>24</th>\n",
       "      <td>-10.655807</td>\n",
       "      <td>0.141525</td>\n",
       "      <td>-10.514282</td>\n",
       "    </tr>\n",
       "    <tr>\n",
       "      <th>1013.0000</th>\n",
       "      <th>76</th>\n",
       "      <td>-15.051406</td>\n",
       "      <td>3.019284</td>\n",
       "      <td>-12.032122</td>\n",
       "    </tr>\n",
       "  </tbody>\n",
       "</table>\n",
       "</div>"
      ],
      "text/plain": [
       "                      flug      fldg      fnetg\n",
       "pressure  level                                \n",
       "0.0000    1     -10.706986  0.000000 -10.706986\n",
       "1.0685    24    -10.655807  0.141525 -10.514282\n",
       "1013.0000 76    -15.051406  3.019284 -12.032122"
      ]
     },
     "metadata": {},
     "output_type": "display_data"
    },
    {
     "name": "stdout",
     "output_type": "stream",
     "text": [
      "Table. Fluxes. WGT igg=10\n"
     ]
    },
    {
     "data": {
      "text/html": [
       "<div>\n",
       "<style>\n",
       "    .dataframe thead tr:only-child th {\n",
       "        text-align: right;\n",
       "    }\n",
       "\n",
       "    .dataframe thead th {\n",
       "        text-align: left;\n",
       "    }\n",
       "\n",
       "    .dataframe tbody tr th {\n",
       "        vertical-align: top;\n",
       "    }\n",
       "</style>\n",
       "<table border=\"1\" class=\"dataframe\">\n",
       "  <thead>\n",
       "    <tr style=\"text-align: right;\">\n",
       "      <th></th>\n",
       "      <th></th>\n",
       "      <th>flug</th>\n",
       "      <th>fldg</th>\n",
       "      <th>fnetg</th>\n",
       "    </tr>\n",
       "    <tr>\n",
       "      <th>pressure</th>\n",
       "      <th>level</th>\n",
       "      <th></th>\n",
       "      <th></th>\n",
       "      <th></th>\n",
       "    </tr>\n",
       "  </thead>\n",
       "  <tbody>\n",
       "    <tr>\n",
       "      <th>0.0000</th>\n",
       "      <th>1</th>\n",
       "      <td>-10.811964</td>\n",
       "      <td>0.000000</td>\n",
       "      <td>-10.811964</td>\n",
       "    </tr>\n",
       "    <tr>\n",
       "      <th>1.0685</th>\n",
       "      <th>24</th>\n",
       "      <td>-10.759362</td>\n",
       "      <td>0.146043</td>\n",
       "      <td>-10.613319</td>\n",
       "    </tr>\n",
       "    <tr>\n",
       "      <th>1013.0000</th>\n",
       "      <th>76</th>\n",
       "      <td>-15.051406</td>\n",
       "      <td>3.024831</td>\n",
       "      <td>-12.026575</td>\n",
       "    </tr>\n",
       "  </tbody>\n",
       "</table>\n",
       "</div>"
      ],
      "text/plain": [
       "                      flug      fldg      fnetg\n",
       "pressure  level                                \n",
       "0.0000    1     -10.811964  0.000000 -10.811964\n",
       "1.0685    24    -10.759362  0.146043 -10.613319\n",
       "1013.0000 76    -15.051406  3.024831 -12.026575"
      ]
     },
     "metadata": {},
     "output_type": "display_data"
    },
    {
     "name": "stdout",
     "output_type": "stream",
     "text": [
      "Table. Fluxes. WGT igg=1\n"
     ]
    },
    {
     "data": {
      "text/html": [
       "<div>\n",
       "<style>\n",
       "    .dataframe thead tr:only-child th {\n",
       "        text-align: right;\n",
       "    }\n",
       "\n",
       "    .dataframe thead th {\n",
       "        text-align: left;\n",
       "    }\n",
       "\n",
       "    .dataframe tbody tr th {\n",
       "        vertical-align: top;\n",
       "    }\n",
       "</style>\n",
       "<table border=\"1\" class=\"dataframe\">\n",
       "  <thead>\n",
       "    <tr style=\"text-align: right;\">\n",
       "      <th></th>\n",
       "      <th></th>\n",
       "      <th>flug</th>\n",
       "      <th>fldg</th>\n",
       "      <th>fnetg</th>\n",
       "    </tr>\n",
       "    <tr>\n",
       "      <th>pressure</th>\n",
       "      <th>level</th>\n",
       "      <th></th>\n",
       "      <th></th>\n",
       "      <th></th>\n",
       "    </tr>\n",
       "  </thead>\n",
       "  <tbody>\n",
       "    <tr>\n",
       "      <th>0.0000</th>\n",
       "      <th>1</th>\n",
       "      <td>0.282257</td>\n",
       "      <td>0.000000</td>\n",
       "      <td>0.282257</td>\n",
       "    </tr>\n",
       "    <tr>\n",
       "      <th>1.0685</th>\n",
       "      <th>24</th>\n",
       "      <td>0.281319</td>\n",
       "      <td>-0.009439</td>\n",
       "      <td>0.271880</td>\n",
       "    </tr>\n",
       "    <tr>\n",
       "      <th>1013.0000</th>\n",
       "      <th>76</th>\n",
       "      <td>0.000000</td>\n",
       "      <td>0.060297</td>\n",
       "      <td>0.060297</td>\n",
       "    </tr>\n",
       "  </tbody>\n",
       "</table>\n",
       "</div>"
      ],
      "text/plain": [
       "                     flug      fldg     fnetg\n",
       "pressure  level                              \n",
       "0.0000    1      0.282257  0.000000  0.282257\n",
       "1.0685    24     0.281319 -0.009439  0.271880\n",
       "1013.0000 76     0.000000  0.060297  0.060297"
      ]
     },
     "metadata": {},
     "output_type": "display_data"
    },
    {
     "name": "stdout",
     "output_type": "stream",
     "text": [
      "Table. Fluxes. (WGT igg=10) - (CRD)\n"
     ]
    },
    {
     "data": {
      "text/html": [
       "<div>\n",
       "<style>\n",
       "    .dataframe thead tr:only-child th {\n",
       "        text-align: right;\n",
       "    }\n",
       "\n",
       "    .dataframe thead th {\n",
       "        text-align: left;\n",
       "    }\n",
       "\n",
       "    .dataframe tbody tr th {\n",
       "        vertical-align: top;\n",
       "    }\n",
       "</style>\n",
       "<table border=\"1\" class=\"dataframe\">\n",
       "  <thead>\n",
       "    <tr style=\"text-align: right;\">\n",
       "      <th></th>\n",
       "      <th></th>\n",
       "      <th>flug</th>\n",
       "      <th>fldg</th>\n",
       "      <th>fnetg</th>\n",
       "    </tr>\n",
       "    <tr>\n",
       "      <th>pressure</th>\n",
       "      <th>level</th>\n",
       "      <th></th>\n",
       "      <th></th>\n",
       "      <th></th>\n",
       "    </tr>\n",
       "  </thead>\n",
       "  <tbody>\n",
       "    <tr>\n",
       "      <th>0.0000</th>\n",
       "      <th>1</th>\n",
       "      <td>0.177279</td>\n",
       "      <td>0.000000</td>\n",
       "      <td>0.177279</td>\n",
       "    </tr>\n",
       "    <tr>\n",
       "      <th>1.0685</th>\n",
       "      <th>24</th>\n",
       "      <td>0.177764</td>\n",
       "      <td>-0.004921</td>\n",
       "      <td>0.172843</td>\n",
       "    </tr>\n",
       "    <tr>\n",
       "      <th>1013.0000</th>\n",
       "      <th>76</th>\n",
       "      <td>0.000000</td>\n",
       "      <td>0.065844</td>\n",
       "      <td>0.065844</td>\n",
       "    </tr>\n",
       "  </tbody>\n",
       "</table>\n",
       "</div>"
      ],
      "text/plain": [
       "                     flug      fldg     fnetg\n",
       "pressure  level                              \n",
       "0.0000    1      0.177279  0.000000  0.177279\n",
       "1.0685    24     0.177764 -0.004921  0.172843\n",
       "1013.0000 76     0.000000  0.065844  0.065844"
      ]
     },
     "metadata": {},
     "output_type": "display_data"
    },
    {
     "name": "stdout",
     "output_type": "stream",
     "text": [
      "Table. Fluxes. (WGT igg=1) - (CRD)\n"
     ]
    },
    {
     "data": {
      "text/html": [
       "<a id=\"Best-fit_Parameters\"></a>"
      ],
      "text/plain": [
       "<IPython.core.display.HTML object>"
      ]
     },
     "metadata": {},
     "output_type": "display_data"
    },
    {
     "data": {
      "text/markdown": [
       "# Best-fit Parameters"
      ],
      "text/plain": [
       "<IPython.core.display.Markdown object>"
      ]
     },
     "metadata": {},
     "output_type": "display_data"
    },
    {
     "name": "stdout",
     "output_type": "stream",
     "text": [
      "Best-fit values for each (gas, band)\n",
      "------------------------------------\n",
      "o h2o band5\n",
      "  molecule = h2o\n",
      "  band = 5\n",
      "  commitnumber = d5931a1\n",
      "  vmin = 980\n",
      "  vmax = 1100\n",
      "  dv = 0.001\n",
      "  nv = 1000\n",
      "  ref_pts = [(600, 250)]\n",
      "  ng_refs = [3]\n",
      "  ng_adju = [0]\n",
      "  klin = 1e-24\n",
      "  option_wgt_k = 1\n",
      "  wgt = [(0.5, 0.55, 0.9)]\n",
      "  w_diffuse = [(1.66, 1.66, 1.8)]\n",
      "  option_wgt_flux = 1\n",
      "  atmpro = mls\n",
      "  tsfc = 294\n",
      "  conc = None\n",
      "  option_compute_btable = 0\n",
      "  option_compute_ktable = 1\n",
      "o o3 band5\n",
      "  molecule = o3\n",
      "  band = 5\n",
      "  commitnumber = d5931a1\n",
      "  vmin = 980\n",
      "  vmax = 1100\n",
      "  dv = 0.001\n",
      "  nv = 1000\n",
      "  ref_pts = [(1, 250), (50, 250)]\n",
      "  ng_refs = [2, 5]\n",
      "  ng_adju = [0, 0]\n",
      "  klin = 2e-20\n",
      "  option_wgt_k = 1\n",
      "  wgt = [(0.35, 0.6), (0.5, 0.55, 0.7, 0.9, 1.0)]\n",
      "  w_diffuse = [(1.6, 1.75), (1.55, 1.66, 1.7, 1.75, 1.8)]\n",
      "  option_wgt_flux = 1\n",
      "  atmpro = mls\n",
      "  tsfc = 294\n",
      "  conc = None\n",
      "  option_compute_btable = 0\n",
      "  option_compute_ktable = 1\n"
     ]
    }
   ],
   "source": [
    "script()"
   ]
  },
  {
   "cell_type": "code",
   "execution_count": 12,
   "metadata": {},
   "outputs": [
    {
     "data": {
      "text/html": [
       "<script>\n",
       "code_show=true; \n",
       "function code_toggle() {\n",
       " if (code_show){\n",
       " $('div.input').hide();\n",
       " } else {\n",
       " $('div.input').show();\n",
       " }\n",
       " code_show = !code_show\n",
       "} \n",
       "$( document ).ready(code_toggle);\n",
       "</script>\n",
       "<form action=\"javascript:code_toggle()\"><input type=\"submit\" value=\"Click here to toggle on/off the raw code.\"></form>"
      ],
      "text/plain": [
       "<IPython.core.display.HTML object>"
      ]
     },
     "execution_count": 12,
     "metadata": {},
     "output_type": "execute_result"
    }
   ],
   "source": [
    "display.HTML('''<script>\n",
    "code_show=true; \n",
    "function code_toggle() {\n",
    " if (code_show){\n",
    " $('div.input').hide();\n",
    " } else {\n",
    " $('div.input').show();\n",
    " }\n",
    " code_show = !code_show\n",
    "} \n",
    "$( document ).ready(code_toggle);\n",
    "</script>\n",
    "<form action=\"javascript:code_toggle()\"><input type=\"submit\" value=\"Click here to toggle on/off the raw code.\"></form>''')"
   ]
  }
 ],
 "metadata": {
  "kernelspec": {
   "display_name": "Python 3",
   "language": "python",
   "name": "python3"
  },
  "language_info": {
   "codemirror_mode": {
    "name": "ipython",
    "version": 3
   },
   "file_extension": ".py",
   "mimetype": "text/x-python",
   "name": "python",
   "nbconvert_exporter": "python",
   "pygments_lexer": "ipython3",
   "version": "3.6.1"
  }
 },
 "nbformat": 4,
 "nbformat_minor": 2
}
