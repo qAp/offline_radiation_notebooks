{
 "cells": [
  {
   "cell_type": "code",
   "execution_count": 1,
   "metadata": {
    "collapsed": true
   },
   "outputs": [],
   "source": [
    "%matplotlib inline\n",
    "import os\n",
    "import re\n",
    "import io\n",
    "import itertools\n",
    "import pprint\n",
    "\n",
    "from bokeh.io import output_notebook, show\n",
    "from bokeh.layouts import gridplot\n",
    "from bokeh.plotting import figure\n",
    "from bokeh.models import Range1d, Legend\n",
    "from bokeh.palettes import all_palettes\n",
    "\n",
    "import matplotlib\n",
    "import matplotlib.pyplot as plt\n",
    "import numpy as np\n",
    "import pandas as pd\n",
    "import xarray as xr\n",
    "\n",
    "import climatools.lblnew.bestfit_params as bestfits\n",
    "from climatools.lblnew import setup_bestfit, setup_overlap\n",
    "import climatools.lblnew.pipeline as pipe_lblnew\n",
    "import climatools.cliradlw.setup as setup_cliradlw\n",
    "import climatools.cliradlw.pipeline as pipe_cliradlw\n",
    "\n",
    "import climatools.html.html as climahtml\n",
    "from climatools.lblnew.dataio import *\n",
    "from climatools.plot.plot import *\n",
    "\n",
    "\n",
    "import IPython.display as display"
   ]
  },
  {
   "cell_type": "code",
   "execution_count": 2,
   "metadata": {
    "collapsed": true
   },
   "outputs": [],
   "source": [
    "%run param.py"
   ]
  },
  {
   "cell_type": "code",
   "execution_count": 3,
   "metadata": {
    "collapsed": true
   },
   "outputs": [],
   "source": [
    "def load_output_file(path_csv):\n",
    "    '''\n",
    "    Load lblnew output .csv file to xarray.Dataset\n",
    "    \n",
    "    Parameters\n",
    "    ----------\n",
    "    path_csv: str\n",
    "              Path to the .csv file to be loaded.\n",
    "    ds: xarray.Dataset\n",
    "        Data in the input file in the form of an xarray.Dataset.\n",
    "    '''\n",
    "    toindex = ['band', 'pressure', 'igg', 'g']    \n",
    "    df = pd.read_csv(path_csv, sep=r'\\s+')\n",
    "    df = df.set_index([i for i in toindex if i in df.columns])\n",
    "    df = df.rename(columns={'sfu': 'flug',\n",
    "                            'sfd': 'fldg',\n",
    "                            'fnet': 'fnetg',\n",
    "                            'coolr': 'coolrg'})\n",
    "    ds = xr.Dataset.from_dataframe(df)\n",
    "\n",
    "    for l in ('level', 'layer'):\n",
    "        if l in ds.data_vars:\n",
    "            if len(ds[l].dims) > 1:\n",
    "                surface = {d: 0 for d in ds.dims if d != 'pressure'}\n",
    "                coord_level = ds[l][surface]\n",
    "                ds.coords[l] = ('pressure', coord_level)\n",
    "            else:\n",
    "                ds.coords[l] = ('pressure', ds[l])\n",
    "    \n",
    "    return ds"
   ]
  },
  {
   "cell_type": "code",
   "execution_count": 4,
   "metadata": {
    "collapsed": true
   },
   "outputs": [],
   "source": [
    "def lblnew_setup(param=None):\n",
    "    if 'ng_refs' in param:\n",
    "        return {'setup': setup_bestfit,\n",
    "                'fname_flux_crd': 'output_flux.dat',\n",
    "                'fname_cool_crd': 'output_coolr.dat',\n",
    "                'fname_flux_wgt': 'output_wfluxg.dat',\n",
    "                'fname_cool_wgt': 'output_wcoolrg.dat'}\n",
    "    else:\n",
    "        return {'setup': setup_overlap,\n",
    "                'fname_flux_crd': 'output_flux.dat',\n",
    "                'fname_cool_crd': 'output_coolr.dat',\n",
    "                'fname_flux_wgt': 'output_wflux.dat',\n",
    "                'fname_cool_wgt': 'output_wcoolr.dat'}\n",
    "\n",
    "    \n",
    "def load_lblnew_data(param):\n",
    "    \n",
    "    fname_dsname = [('fname_flux_crd', 'ds_flux_crd'),\n",
    "                    ('fname_cool_crd', 'ds_cool_crd'),\n",
    "                    ('fname_flux_wgt', 'ds_flux_wgt'),\n",
    "                    ('fname_cool_wgt', 'ds_cool_wgt')]\n",
    "    \n",
    "    d = lblnew_setup(param)\n",
    "    dir_fortran = pipe_lblnew.get_dir_case(param, setup=d['setup'])\n",
    "    \n",
    "    data_dict = {}\n",
    "    for fname, dsname in fname_dsname:\n",
    "        fpath = os.path.join(dir_fortran, d[fname])\n",
    "        data_dict[dsname] = load_output_file(fpath)\n",
    "    return data_dict\n",
    "    \n",
    "\n",
    "    \n",
    "    "
   ]
  },
  {
   "cell_type": "code",
   "execution_count": 5,
   "metadata": {
    "collapsed": true
   },
   "outputs": [],
   "source": [
    "d = load_lblnew_data(PARAM_LBLNEW)\n",
    "\n",
    "DS_FLUX_CRD = d['ds_flux_crd']\n",
    "DS_COOL_CRD = d['ds_cool_crd']\n",
    "DS_FLUX_WGT = d['ds_flux_wgt']\n",
    "DS_COOL_WGT = d['ds_cool_wgt']"
   ]
  },
  {
   "cell_type": "code",
   "execution_count": 6,
   "metadata": {
    "collapsed": true
   },
   "outputs": [],
   "source": [
    "DIR_FORTRAN = pipe_cliradlw.get_fortran_dir(PARAM, \n",
    "                                            setup=setup_cliradlw)\n",
    "\n",
    "PATH_FLUX = os.path.join(DIR_FORTRAN, 'output_flux.dat')\n",
    "PATH_COOL = os.path.join(DIR_FORTRAN, 'output_coolr.dat')\n",
    "\n",
    "DS_FLUX = load_output_file(PATH_FLUX)\n",
    "DS_COOL = load_output_file(PATH_COOL)"
   ]
  },
  {
   "cell_type": "code",
   "execution_count": 7,
   "metadata": {
    "collapsed": true
   },
   "outputs": [
    {
     "data": {
      "text/html": [
       "\n",
       "    <div class=\"bk-root\">\n",
       "        <a href=\"https://bokeh.pydata.org\" target=\"_blank\" class=\"bk-logo bk-logo-small bk-logo-notebook\"></a>\n",
       "        <span id=\"f72d9c95-eb44-4bba-a8e1-50da29f523bb\">Loading BokehJS ...</span>\n",
       "    </div>"
      ]
     },
     "metadata": {},
     "output_type": "display_data"
    },
    {
     "data": {
      "application/javascript": [
       "\n",
       "(function(root) {\n",
       "  function now() {\n",
       "    return new Date();\n",
       "  }\n",
       "\n",
       "  var force = true;\n",
       "\n",
       "  if (typeof (root._bokeh_onload_callbacks) === \"undefined\" || force === true) {\n",
       "    root._bokeh_onload_callbacks = [];\n",
       "    root._bokeh_is_loading = undefined;\n",
       "  }\n",
       "\n",
       "  var JS_MIME_TYPE = 'application/javascript';\n",
       "  var HTML_MIME_TYPE = 'text/html';\n",
       "  var EXEC_MIME_TYPE = 'application/vnd.bokehjs_exec.v0+json';\n",
       "  var CLASS_NAME = 'output_bokeh rendered_html';\n",
       "\n",
       "  /**\n",
       "   * Render data to the DOM node\n",
       "   */\n",
       "  function render(props, node) {\n",
       "    var script = document.createElement(\"script\");\n",
       "    node.appendChild(script);\n",
       "  }\n",
       "\n",
       "  /**\n",
       "   * Handle when an output is cleared or removed\n",
       "   */\n",
       "  function handleClearOutput(event, handle) {\n",
       "    var cell = handle.cell;\n",
       "\n",
       "    var id = cell.output_area._bokeh_element_id;\n",
       "    var server_id = cell.output_area._bokeh_server_id;\n",
       "    // Clean up Bokeh references\n",
       "    if (id !== undefined) {\n",
       "      Bokeh.index[id].model.document.clear();\n",
       "      delete Bokeh.index[id];\n",
       "    }\n",
       "\n",
       "    if (server_id !== undefined) {\n",
       "      // Clean up Bokeh references\n",
       "      var cmd = \"from bokeh.io.state import curstate; print(curstate().uuid_to_server['\" + server_id + \"'].get_sessions()[0].document.roots[0]._id)\";\n",
       "      cell.notebook.kernel.execute(cmd, {\n",
       "        iopub: {\n",
       "          output: function(msg) {\n",
       "            var element_id = msg.content.text.trim();\n",
       "            Bokeh.index[element_id].model.document.clear();\n",
       "            delete Bokeh.index[element_id];\n",
       "          }\n",
       "        }\n",
       "      });\n",
       "      // Destroy server and session\n",
       "      var cmd = \"import bokeh.io.notebook as ion; ion.destroy_server('\" + server_id + \"')\";\n",
       "      cell.notebook.kernel.execute(cmd);\n",
       "    }\n",
       "  }\n",
       "\n",
       "  /**\n",
       "   * Handle when a new output is added\n",
       "   */\n",
       "  function handleAddOutput(event, handle) {\n",
       "    var output_area = handle.output_area;\n",
       "    var output = handle.output;\n",
       "\n",
       "    // limit handleAddOutput to display_data with EXEC_MIME_TYPE content only\n",
       "    if ((output.output_type != \"display_data\") || (!output.data.hasOwnProperty(EXEC_MIME_TYPE))) {\n",
       "      return\n",
       "    }\n",
       "\n",
       "    var toinsert = output_area.element.find(\".\" + CLASS_NAME.split(' ')[0]);\n",
       "\n",
       "    if (output.metadata[EXEC_MIME_TYPE][\"id\"] !== undefined) {\n",
       "      toinsert[0].firstChild.textContent = output.data[JS_MIME_TYPE];\n",
       "      // store reference to embed id on output_area\n",
       "      output_area._bokeh_element_id = output.metadata[EXEC_MIME_TYPE][\"id\"];\n",
       "    }\n",
       "    if (output.metadata[EXEC_MIME_TYPE][\"server_id\"] !== undefined) {\n",
       "      var bk_div = document.createElement(\"div\");\n",
       "      bk_div.innerHTML = output.data[HTML_MIME_TYPE];\n",
       "      var script_attrs = bk_div.children[0].attributes;\n",
       "      for (var i = 0; i < script_attrs.length; i++) {\n",
       "        toinsert[0].firstChild.setAttribute(script_attrs[i].name, script_attrs[i].value);\n",
       "      }\n",
       "      // store reference to server id on output_area\n",
       "      output_area._bokeh_server_id = output.metadata[EXEC_MIME_TYPE][\"server_id\"];\n",
       "    }\n",
       "  }\n",
       "\n",
       "  function register_renderer(events, OutputArea) {\n",
       "\n",
       "    function append_mime(data, metadata, element) {\n",
       "      // create a DOM node to render to\n",
       "      var toinsert = this.create_output_subarea(\n",
       "        metadata,\n",
       "        CLASS_NAME,\n",
       "        EXEC_MIME_TYPE\n",
       "      );\n",
       "      this.keyboard_manager.register_events(toinsert);\n",
       "      // Render to node\n",
       "      var props = {data: data, metadata: metadata[EXEC_MIME_TYPE]};\n",
       "      render(props, toinsert[0]);\n",
       "      element.append(toinsert);\n",
       "      return toinsert\n",
       "    }\n",
       "\n",
       "    /* Handle when an output is cleared or removed */\n",
       "    events.on('clear_output.CodeCell', handleClearOutput);\n",
       "    events.on('delete.Cell', handleClearOutput);\n",
       "\n",
       "    /* Handle when a new output is added */\n",
       "    events.on('output_added.OutputArea', handleAddOutput);\n",
       "\n",
       "    /**\n",
       "     * Register the mime type and append_mime function with output_area\n",
       "     */\n",
       "    OutputArea.prototype.register_mime_type(EXEC_MIME_TYPE, append_mime, {\n",
       "      /* Is output safe? */\n",
       "      safe: true,\n",
       "      /* Index of renderer in `output_area.display_order` */\n",
       "      index: 0\n",
       "    });\n",
       "  }\n",
       "\n",
       "  // register the mime type if in Jupyter Notebook environment and previously unregistered\n",
       "  if (root.Jupyter !== undefined) {\n",
       "    var events = require('base/js/events');\n",
       "    var OutputArea = require('notebook/js/outputarea').OutputArea;\n",
       "\n",
       "    if (OutputArea.prototype.mime_types().indexOf(EXEC_MIME_TYPE) == -1) {\n",
       "      register_renderer(events, OutputArea);\n",
       "    }\n",
       "  }\n",
       "\n",
       "  \n",
       "  if (typeof (root._bokeh_timeout) === \"undefined\" || force === true) {\n",
       "    root._bokeh_timeout = Date.now() + 5000;\n",
       "    root._bokeh_failed_load = false;\n",
       "  }\n",
       "\n",
       "  var NB_LOAD_WARNING = {'data': {'text/html':\n",
       "     \"<div style='background-color: #fdd'>\\n\"+\n",
       "     \"<p>\\n\"+\n",
       "     \"BokehJS does not appear to have successfully loaded. If loading BokehJS from CDN, this \\n\"+\n",
       "     \"may be due to a slow or bad network connection. Possible fixes:\\n\"+\n",
       "     \"</p>\\n\"+\n",
       "     \"<ul>\\n\"+\n",
       "     \"<li>re-rerun `output_notebook()` to attempt to load from CDN again, or</li>\\n\"+\n",
       "     \"<li>use INLINE resources instead, as so:</li>\\n\"+\n",
       "     \"</ul>\\n\"+\n",
       "     \"<code>\\n\"+\n",
       "     \"from bokeh.resources import INLINE\\n\"+\n",
       "     \"output_notebook(resources=INLINE)\\n\"+\n",
       "     \"</code>\\n\"+\n",
       "     \"</div>\"}};\n",
       "\n",
       "  function display_loaded() {\n",
       "    var el = document.getElementById(\"f72d9c95-eb44-4bba-a8e1-50da29f523bb\");\n",
       "    if (el != null) {\n",
       "      el.textContent = \"BokehJS is loading...\";\n",
       "    }\n",
       "    if (root.Bokeh !== undefined) {\n",
       "      if (el != null) {\n",
       "        el.textContent = \"BokehJS \" + root.Bokeh.version + \" successfully loaded.\";\n",
       "      }\n",
       "    } else if (Date.now() < root._bokeh_timeout) {\n",
       "      setTimeout(display_loaded, 100)\n",
       "    }\n",
       "  }\n",
       "\n",
       "\n",
       "  function run_callbacks() {\n",
       "    try {\n",
       "      root._bokeh_onload_callbacks.forEach(function(callback) { callback() });\n",
       "    }\n",
       "    finally {\n",
       "      delete root._bokeh_onload_callbacks\n",
       "    }\n",
       "    console.info(\"Bokeh: all callbacks have finished\");\n",
       "  }\n",
       "\n",
       "  function load_libs(js_urls, callback) {\n",
       "    root._bokeh_onload_callbacks.push(callback);\n",
       "    if (root._bokeh_is_loading > 0) {\n",
       "      console.log(\"Bokeh: BokehJS is being loaded, scheduling callback at\", now());\n",
       "      return null;\n",
       "    }\n",
       "    if (js_urls == null || js_urls.length === 0) {\n",
       "      run_callbacks();\n",
       "      return null;\n",
       "    }\n",
       "    console.log(\"Bokeh: BokehJS not loaded, scheduling load and callback at\", now());\n",
       "    root._bokeh_is_loading = js_urls.length;\n",
       "    for (var i = 0; i < js_urls.length; i++) {\n",
       "      var url = js_urls[i];\n",
       "      var s = document.createElement('script');\n",
       "      s.src = url;\n",
       "      s.async = false;\n",
       "      s.onreadystatechange = s.onload = function() {\n",
       "        root._bokeh_is_loading--;\n",
       "        if (root._bokeh_is_loading === 0) {\n",
       "          console.log(\"Bokeh: all BokehJS libraries loaded\");\n",
       "          run_callbacks()\n",
       "        }\n",
       "      };\n",
       "      s.onerror = function() {\n",
       "        console.warn(\"failed to load library \" + url);\n",
       "      };\n",
       "      console.log(\"Bokeh: injecting script tag for BokehJS library: \", url);\n",
       "      document.getElementsByTagName(\"head\")[0].appendChild(s);\n",
       "    }\n",
       "  };var element = document.getElementById(\"f72d9c95-eb44-4bba-a8e1-50da29f523bb\");\n",
       "  if (element == null) {\n",
       "    console.log(\"Bokeh: ERROR: autoload.js configured with elementid 'f72d9c95-eb44-4bba-a8e1-50da29f523bb' but no matching script tag was found. \")\n",
       "    return false;\n",
       "  }\n",
       "\n",
       "  var js_urls = [\"https://cdn.pydata.org/bokeh/release/bokeh-0.12.14.min.js\", \"https://cdn.pydata.org/bokeh/release/bokeh-widgets-0.12.14.min.js\", \"https://cdn.pydata.org/bokeh/release/bokeh-tables-0.12.14.min.js\", \"https://cdn.pydata.org/bokeh/release/bokeh-gl-0.12.14.min.js\"];\n",
       "\n",
       "  var inline_js = [\n",
       "    function(Bokeh) {\n",
       "      Bokeh.set_log_level(\"info\");\n",
       "    },\n",
       "    \n",
       "    function(Bokeh) {\n",
       "      \n",
       "    },\n",
       "    function(Bokeh) {\n",
       "      console.log(\"Bokeh: injecting CSS: https://cdn.pydata.org/bokeh/release/bokeh-0.12.14.min.css\");\n",
       "      Bokeh.embed.inject_css(\"https://cdn.pydata.org/bokeh/release/bokeh-0.12.14.min.css\");\n",
       "      console.log(\"Bokeh: injecting CSS: https://cdn.pydata.org/bokeh/release/bokeh-widgets-0.12.14.min.css\");\n",
       "      Bokeh.embed.inject_css(\"https://cdn.pydata.org/bokeh/release/bokeh-widgets-0.12.14.min.css\");\n",
       "      console.log(\"Bokeh: injecting CSS: https://cdn.pydata.org/bokeh/release/bokeh-tables-0.12.14.min.css\");\n",
       "      Bokeh.embed.inject_css(\"https://cdn.pydata.org/bokeh/release/bokeh-tables-0.12.14.min.css\");\n",
       "    }\n",
       "  ];\n",
       "\n",
       "  function run_inline_js() {\n",
       "    \n",
       "    if ((root.Bokeh !== undefined) || (force === true)) {\n",
       "      for (var i = 0; i < inline_js.length; i++) {\n",
       "        inline_js[i].call(root, root.Bokeh);\n",
       "      }if (force === true) {\n",
       "        display_loaded();\n",
       "      }} else if (Date.now() < root._bokeh_timeout) {\n",
       "      setTimeout(run_inline_js, 100);\n",
       "    } else if (!root._bokeh_failed_load) {\n",
       "      console.log(\"Bokeh: BokehJS failed to load within specified timeout.\");\n",
       "      root._bokeh_failed_load = true;\n",
       "    } else if (force !== true) {\n",
       "      var cell = $(document.getElementById(\"f72d9c95-eb44-4bba-a8e1-50da29f523bb\")).parents('.cell').data().cell;\n",
       "      cell.output_area.append_execute_result(NB_LOAD_WARNING)\n",
       "    }\n",
       "\n",
       "  }\n",
       "\n",
       "  if (root._bokeh_is_loading === 0) {\n",
       "    console.log(\"Bokeh: BokehJS loaded, going straight to plotting\");\n",
       "    run_inline_js();\n",
       "  } else {\n",
       "    load_libs(js_urls, function() {\n",
       "      console.log(\"Bokeh: BokehJS plotting callback run at\", now());\n",
       "      run_inline_js();\n",
       "    });\n",
       "  }\n",
       "}(window));"
      ],
      "application/vnd.bokehjs_load.v0+json": "\n(function(root) {\n  function now() {\n    return new Date();\n  }\n\n  var force = true;\n\n  if (typeof (root._bokeh_onload_callbacks) === \"undefined\" || force === true) {\n    root._bokeh_onload_callbacks = [];\n    root._bokeh_is_loading = undefined;\n  }\n\n  \n\n  \n  if (typeof (root._bokeh_timeout) === \"undefined\" || force === true) {\n    root._bokeh_timeout = Date.now() + 5000;\n    root._bokeh_failed_load = false;\n  }\n\n  var NB_LOAD_WARNING = {'data': {'text/html':\n     \"<div style='background-color: #fdd'>\\n\"+\n     \"<p>\\n\"+\n     \"BokehJS does not appear to have successfully loaded. If loading BokehJS from CDN, this \\n\"+\n     \"may be due to a slow or bad network connection. Possible fixes:\\n\"+\n     \"</p>\\n\"+\n     \"<ul>\\n\"+\n     \"<li>re-rerun `output_notebook()` to attempt to load from CDN again, or</li>\\n\"+\n     \"<li>use INLINE resources instead, as so:</li>\\n\"+\n     \"</ul>\\n\"+\n     \"<code>\\n\"+\n     \"from bokeh.resources import INLINE\\n\"+\n     \"output_notebook(resources=INLINE)\\n\"+\n     \"</code>\\n\"+\n     \"</div>\"}};\n\n  function display_loaded() {\n    var el = document.getElementById(\"f72d9c95-eb44-4bba-a8e1-50da29f523bb\");\n    if (el != null) {\n      el.textContent = \"BokehJS is loading...\";\n    }\n    if (root.Bokeh !== undefined) {\n      if (el != null) {\n        el.textContent = \"BokehJS \" + root.Bokeh.version + \" successfully loaded.\";\n      }\n    } else if (Date.now() < root._bokeh_timeout) {\n      setTimeout(display_loaded, 100)\n    }\n  }\n\n\n  function run_callbacks() {\n    try {\n      root._bokeh_onload_callbacks.forEach(function(callback) { callback() });\n    }\n    finally {\n      delete root._bokeh_onload_callbacks\n    }\n    console.info(\"Bokeh: all callbacks have finished\");\n  }\n\n  function load_libs(js_urls, callback) {\n    root._bokeh_onload_callbacks.push(callback);\n    if (root._bokeh_is_loading > 0) {\n      console.log(\"Bokeh: BokehJS is being loaded, scheduling callback at\", now());\n      return null;\n    }\n    if (js_urls == null || js_urls.length === 0) {\n      run_callbacks();\n      return null;\n    }\n    console.log(\"Bokeh: BokehJS not loaded, scheduling load and callback at\", now());\n    root._bokeh_is_loading = js_urls.length;\n    for (var i = 0; i < js_urls.length; i++) {\n      var url = js_urls[i];\n      var s = document.createElement('script');\n      s.src = url;\n      s.async = false;\n      s.onreadystatechange = s.onload = function() {\n        root._bokeh_is_loading--;\n        if (root._bokeh_is_loading === 0) {\n          console.log(\"Bokeh: all BokehJS libraries loaded\");\n          run_callbacks()\n        }\n      };\n      s.onerror = function() {\n        console.warn(\"failed to load library \" + url);\n      };\n      console.log(\"Bokeh: injecting script tag for BokehJS library: \", url);\n      document.getElementsByTagName(\"head\")[0].appendChild(s);\n    }\n  };var element = document.getElementById(\"f72d9c95-eb44-4bba-a8e1-50da29f523bb\");\n  if (element == null) {\n    console.log(\"Bokeh: ERROR: autoload.js configured with elementid 'f72d9c95-eb44-4bba-a8e1-50da29f523bb' but no matching script tag was found. \")\n    return false;\n  }\n\n  var js_urls = [\"https://cdn.pydata.org/bokeh/release/bokeh-0.12.14.min.js\", \"https://cdn.pydata.org/bokeh/release/bokeh-widgets-0.12.14.min.js\", \"https://cdn.pydata.org/bokeh/release/bokeh-tables-0.12.14.min.js\", \"https://cdn.pydata.org/bokeh/release/bokeh-gl-0.12.14.min.js\"];\n\n  var inline_js = [\n    function(Bokeh) {\n      Bokeh.set_log_level(\"info\");\n    },\n    \n    function(Bokeh) {\n      \n    },\n    function(Bokeh) {\n      console.log(\"Bokeh: injecting CSS: https://cdn.pydata.org/bokeh/release/bokeh-0.12.14.min.css\");\n      Bokeh.embed.inject_css(\"https://cdn.pydata.org/bokeh/release/bokeh-0.12.14.min.css\");\n      console.log(\"Bokeh: injecting CSS: https://cdn.pydata.org/bokeh/release/bokeh-widgets-0.12.14.min.css\");\n      Bokeh.embed.inject_css(\"https://cdn.pydata.org/bokeh/release/bokeh-widgets-0.12.14.min.css\");\n      console.log(\"Bokeh: injecting CSS: https://cdn.pydata.org/bokeh/release/bokeh-tables-0.12.14.min.css\");\n      Bokeh.embed.inject_css(\"https://cdn.pydata.org/bokeh/release/bokeh-tables-0.12.14.min.css\");\n    }\n  ];\n\n  function run_inline_js() {\n    \n    if ((root.Bokeh !== undefined) || (force === true)) {\n      for (var i = 0; i < inline_js.length; i++) {\n        inline_js[i].call(root, root.Bokeh);\n      }if (force === true) {\n        display_loaded();\n      }} else if (Date.now() < root._bokeh_timeout) {\n      setTimeout(run_inline_js, 100);\n    } else if (!root._bokeh_failed_load) {\n      console.log(\"Bokeh: BokehJS failed to load within specified timeout.\");\n      root._bokeh_failed_load = true;\n    } else if (force !== true) {\n      var cell = $(document.getElementById(\"f72d9c95-eb44-4bba-a8e1-50da29f523bb\")).parents('.cell').data().cell;\n      cell.output_area.append_execute_result(NB_LOAD_WARNING)\n    }\n\n  }\n\n  if (root._bokeh_is_loading === 0) {\n    console.log(\"Bokeh: BokehJS loaded, going straight to plotting\");\n    run_inline_js();\n  } else {\n    load_libs(js_urls, function() {\n      console.log(\"Bokeh: BokehJS plotting callback run at\", now());\n      run_inline_js();\n    });\n  }\n}(window));"
     },
     "metadata": {},
     "output_type": "display_data"
    }
   ],
   "source": [
    "output_notebook()"
   ]
  },
  {
   "cell_type": "code",
   "execution_count": 8,
   "metadata": {
    "collapsed": true
   },
   "outputs": [],
   "source": [
    "def fmt_cool(ds_in):\n",
    "    ds = ds_in.copy(deep=True)\n",
    "    if 'igg' in ds.dims:\n",
    "        ds = ds.sel(igg=1)\n",
    "\n",
    "    if 'g' in ds.dims:\n",
    "        ds = ds.sum('g')\n",
    "            \n",
    "    if 'band' in ds.dims:\n",
    "        try:\n",
    "            ds = ds.squeeze('band')\n",
    "        except ValueError:\n",
    "            ds = ds.sum('band')\n",
    "                \n",
    "    return ds['coolrg']\n",
    "\n",
    "\n",
    "def pltdata_cooling_1(ds_cool=None,\n",
    "                      ds_cool_crd=None, ds_cool_wgt=None):\n",
    "    \n",
    "\n",
    "\n",
    "    colors = all_palettes['Set1'][4]\n",
    "    data = [{'label': 'CLIRAD `coolr_bands`',\n",
    "             'srs': fmt_cool(ds_cool),\n",
    "             'line_dash': 'dashed', 'line_width': 5,\n",
    "             'color': colors[0], 'alpha': .6},\n",
    "            {'label': 'CRD',\n",
    "             'srs': fmt_cool(ds_cool_crd),\n",
    "             'line_dash': 'solid', 'line_width': 1.5,\n",
    "             'marker': 'circle', 'marker_size': 5,\n",
    "             'color': colors[2], 'alpha': 1,},\n",
    "            {'label': 'WGT igg=10 wgt_flux=2',\n",
    "             'srs': fmt_cool(ds_cool_wgt),\n",
    "             'line_dash': 'solid', 'line_width': 3,\n",
    "             'marker': 'square', 'marker_size': 5,\n",
    "             'color': colors[3], 'alpha': .6}]\n",
    "    return data\n",
    "\n",
    "\n",
    "def nice_xlims(pltdata=None, prange=None):\n",
    "    \n",
    "    def get_slice(srs):\n",
    "        return srs.sel(pressure=slice(*prange))\n",
    "    \n",
    "    srss = [d['srs'] for d in pltdata]\n",
    "    vmin = min([get_slice(srs).min() for srs in srss])\n",
    "    vmax = max([get_slice(srs).max() for srs in srss])\n",
    "    dv = (vmax - vmin) * .01\n",
    "    return float(vmin - dv), float(vmax + dv)\n",
    "    \n",
    "\n",
    "def plt_cooling_bokeh(pltdata=None):\n",
    "    '''\n",
    "    Plot a list of cooling rate profiles using bokeh.\n",
    "    '''\n",
    "    ymin = 1e-2 \n",
    "    ymax = 1020 \n",
    "        \n",
    "    p1 = figure(title=\"Linear pressure scale\", \n",
    "                plot_width=400)        \n",
    "    xmin, xmax = nice_xlims(pltdata, prange=(50, 1050))\n",
    "    for d in pltdata:\n",
    "        if 'marker' in d:\n",
    "            getattr(p1, d['marker'])(d['srs'].values, \n",
    "                    d['srs'].coords['pressure'].values,\n",
    "                    color=d['color'], alpha=.7)\n",
    "        p1.line(d['srs'].values, \n",
    "                d['srs'].coords['pressure'].values,\n",
    "                color=d['color'], alpha=d['alpha'], \n",
    "                line_width=d['line_width'], line_dash=d['line_dash'])\n",
    "    \n",
    "    p1.y_range = Range1d(ymax, ymin)\n",
    "    p1.yaxis.axis_label = 'pressure [mb]'   \n",
    "    p1.x_range = Range1d(xmin, xmax)\n",
    "    p1.xaxis.axis_label = 'cooling rate [K/day]'\n",
    "            \n",
    "    p2 = figure(title='Log pressure scale', y_axis_type='log',\n",
    "                plot_width=560)\n",
    "    xmin, xmax = nice_xlims(pltdata, prange=(.01, 200))\n",
    "    \n",
    "    rs = []\n",
    "    for d in pltdata:\n",
    "        rd = []\n",
    "        if 'marker' in d:\n",
    "            r_mark = getattr(p2, d['marker'])(d['srs'].values, \n",
    "                        d['srs'].coords['pressure'].values,\n",
    "                        color=d['color'], alpha=.7)\n",
    "            rd.append(r_mark)\n",
    "        r_line = p2.line(d['srs'].values, \n",
    "                    d['srs'].coords['pressure'].values,\n",
    "                    color=d['color'], alpha=d['alpha'], \n",
    "                    line_width=d['line_width'], line_dash=d['line_dash'])\n",
    "        rd.append(r_line)\n",
    "      \n",
    "        rs.append(rd)\n",
    "        \n",
    "    p2.y_range = Range1d(ymax, ymin)  \n",
    "    p2.yaxis.axis_label = 'pressure [mb]'\n",
    "    \n",
    "    p2.x_range = Range1d(xmin, xmax)\n",
    "    p2.xaxis.axis_label = 'cooling rate [K/day]'\n",
    "    \n",
    "    items = [(d['label'], r) for r, d in zip(rs, pltdata)]\n",
    "    legend = Legend(items=items, location=(10, -30))\n",
    "    legend.label_text_font_size = '8pt'\n",
    "    \n",
    "    p2.add_layout(legend, 'right')  \n",
    "    \n",
    "    show(gridplot(p1, p2, ncols=2, plot_height=500))\n",
    "    \n",
    "\n",
    "def script_plt_cooling():\n",
    "    pltdata = pltdata_cooling_1(\n",
    "        ds_cool=DS_COOL,\n",
    "        ds_cool_crd=DS_COOL_CRD,\n",
    "        ds_cool_wgt=DS_COOL_WGT)\n",
    "    plt_cooling_bokeh(pltdata=pltdata)\n",
    "    print('''FIGURE. Cooling rate profiles.''')"
   ]
  },
  {
   "cell_type": "code",
   "execution_count": 9,
   "metadata": {
    "collapsed": true
   },
   "outputs": [],
   "source": [
    "def fmt_flux(ds_in):\n",
    "    ds = ds_in.copy(deep=True)\n",
    "    \n",
    "    for l in ('level', 'layer'):\n",
    "        if l in ds.data_vars:\n",
    "            if len(ds[l].dims) > 1:\n",
    "                surface = {d: 0 for d in ds.dims if d != 'pressure'}\n",
    "                coord_level = ds[l][surface]\n",
    "                ds.coords[l] = ('pressure', coord_level)\n",
    "            else:\n",
    "                ds.coords[l] = ('pressure', ds[l])\n",
    "        \n",
    "    ds = ds.isel(pressure=[0, 23, -1])\n",
    "        \n",
    "    if 'igg' in ds.dims:\n",
    "        ds = ds.sel(igg=[1])\n",
    "        ds = ds.squeeze('igg').drop('igg')\n",
    "    \n",
    "    if 'g' in ds.dims:\n",
    "        ds = ds.sum('g')\n",
    "            \n",
    "    if 'band' in ds.dims:\n",
    "        try:\n",
    "            ds = ds.squeeze('band').drop('band')\n",
    "        except ValueError:\n",
    "            ds = ds.sum('band')\n",
    "                \n",
    "    df = ds.to_dataframe()\n",
    "    df = df.set_index('level', append=True)               \n",
    "    return df\n",
    "\n",
    "\n",
    "def tbdata_flux(ds_flux=None, ds_flux_crd=None, ds_flux_wgt=None):\n",
    "    ilevels = [0, 23, -1]\n",
    "            \n",
    "    benchmark = {'label': 'WGT igg=10 wgt_flux=1',\n",
    "                 'df': fmt_flux(ds_flux_wgt)}\n",
    "    \n",
    "    tbs = [{'label': 'CRD',\n",
    "            'df': fmt_flux(ds_flux_crd)},\n",
    "           {'label': 'CLIRAD',\n",
    "            'df': fmt_flux(ds_flux)}]\n",
    "    \n",
    "    data = {'benchmark': benchmark, 'others': tbs}\n",
    "    return data\n",
    "\n",
    "\n",
    "def tb_flux(tbdata=None):\n",
    "    benchmark = tbdata['benchmark']\n",
    "    others = tbdata['others']\n",
    "    \n",
    "    def show_tb(d=None):\n",
    "        display.display(d['df'])\n",
    "        print('Table.', 'Fluxes.', d['label'])\n",
    "        \n",
    "    def show_tbdiff(d0=None, d=None):\n",
    "        df = d['df']\n",
    "        df.index = d0['df'].index\n",
    "        display.display(df - d0['df'])\n",
    "        print('Table.', 'Fluxes.', \n",
    "              '({}) - ({})'.format(d['label'], d0['label']))\n",
    "        \n",
    "    show_tb(benchmark)\n",
    "    for d in others:\n",
    "        show_tb(d)\n",
    "        \n",
    "    for d in others:\n",
    "        show_tbdiff(d=d, d0=benchmark)\n",
    "        \n",
    "        \n",
    "def script_tb_flux():\n",
    "    data = tbdata_flux(ds_flux=DS_FLUX,\n",
    "                       ds_flux_crd=DS_FLUX_CRD,\n",
    "                       ds_flux_wgt=DS_FLUX_WGT)\n",
    "    tb_flux(tbdata=data)"
   ]
  },
  {
   "cell_type": "code",
   "execution_count": 10,
   "metadata": {
    "collapsed": true
   },
   "outputs": [],
   "source": [
    "def band_map():\n",
    "    '''\n",
    "    Maps spectral bands in lblnew to spectral bands in clirad.\n",
    "    '''\n",
    "    lblnew2clirad = {'1': '1',\n",
    "            '2': '2',\n",
    "            '3a': '3',\n",
    "            '3b': '4',\n",
    "            '3c': '5',\n",
    "            '4': '6', \n",
    "            '5': '7',\n",
    "            '6': '8',\n",
    "            '7': '9', \n",
    "            '8': '10',\n",
    "            '9': '11'}\n",
    "    \n",
    "    clirad2lblnew = {clirad: lblnew \n",
    "                     for lblnew, clirad in lblnew2clirad.items()}\n",
    "    return clirad2lblnew\n",
    "\n",
    "\n",
    "def gasbands():\n",
    "    bmap = band_map()\n",
    "    gases = list(PARAM['molecule'].keys())\n",
    "    \n",
    "    bands = [bmap[str(b)] for b in PARAM['band']]\n",
    "    return list(itertools.product(gases, bands))\n",
    "\n",
    "\n",
    "def print_bestfit_params():\n",
    "    print('Best-fit values for each (gas, band)')\n",
    "    print('------------------------------------')\n",
    "    for gas, band in gasbands():\n",
    "        print('o {} band{}'.format(gas, band))\n",
    "        param = bestfits.kdist_params(molecule=gas, band=band)\n",
    "        for name, value in sorted(param.items()):\n",
    "            print(2 * ' ' + '{} = {}'.format(name, value))\n",
    "\n",
    "        \n",
    "def print_input_param():        \n",
    "    for name, value in PARAM.items():\n",
    "        print('{} = {}'.format(name, value))\n",
    "        \n",
    "        \n",
    "def print_lblnew_param():\n",
    "    for name, value in sorted(PARAM_LBLNEW.items()):\n",
    "        print('{} = {}'.format(name, value))\n"
   ]
  },
  {
   "cell_type": "code",
   "execution_count": 11,
   "metadata": {
    "collapsed": true,
    "scrolled": false
   },
   "outputs": [],
   "source": [
    "def show_html(s):\n",
    "    display.display(display.HTML(s))\n",
    "\n",
    "    \n",
    "def show_markdown(s):\n",
    "    display.display(display.Markdown(s))\n",
    "\n",
    "    \n",
    "def script():\n",
    "    \n",
    "    title = '### CLIRAD-LW'\n",
    "    s_input = 'Input Parameters'\n",
    "    s_lblnew_param = 'LBLNEW case compaired against'\n",
    "    s_bestfits = 'Best-fit Parameters'\n",
    "    s_plt_cooling = 'Cooling Rate Profiles'\n",
    "    s_tb_flux = 'Flux Comparison'\n",
    "    \n",
    "    # title\n",
    "    show_markdown('### CLIRAD-LW')\n",
    "    \n",
    "    # TOC\n",
    "    show_markdown('### Table of Contents')\n",
    "    show_html(climahtml.getHTML_hrefanchor(s_input))\n",
    "    show_html(climahtml.getHTML_hrefanchor(s_lblnew_param))\n",
    "    show_html(climahtml.getHTML_hrefanchor(s_plt_cooling))\n",
    "    show_html(climahtml.getHTML_hrefanchor(s_tb_flux))\n",
    "    show_html(climahtml.getHTML_hrefanchor(s_bestfits))\n",
    "    \n",
    "    # Input parameters\n",
    "    show_html(climahtml.getHTML_idanchor(s_input))\n",
    "    show_markdown(climahtml.getMarkdown_sectitle(s_input))\n",
    "    print_input_param()\n",
    "    \n",
    "    # LBLNEW parameters \n",
    "    show_html(climahtml.getHTML_idanchor(s_lblnew_param))\n",
    "    show_markdown(climahtml.getMarkdown_sectitle(s_lblnew_param))\n",
    "    print_lblnew_param()\n",
    "    \n",
    "    # Cooling rate profiles\n",
    "    show_html(climahtml.getHTML_idanchor(s_plt_cooling))\n",
    "    show_markdown(climahtml.getMarkdown_sectitle(s_plt_cooling))\n",
    "    script_plt_cooling()\n",
    "    \n",
    "    # Flux comparison\n",
    "    show_html(climahtml.getHTML_idanchor(s_tb_flux))\n",
    "    show_markdown(climahtml.getMarkdown_sectitle(s_tb_flux))\n",
    "    script_tb_flux()\n",
    "    \n",
    "    # Best-fit values\n",
    "    show_html(climahtml.getHTML_idanchor(s_bestfits))\n",
    "    show_markdown(climahtml.getMarkdown_sectitle(s_bestfits))\n",
    "    print_bestfit_params()\n",
    "   \n",
    "    "
   ]
  },
  {
   "cell_type": "code",
   "execution_count": 12,
   "metadata": {
    "collapsed": true,
    "scrolled": false
   },
   "outputs": [
    {
     "data": {
      "text/markdown": [
       "### CLIRAD-LW"
      ],
      "text/plain": [
       "<IPython.core.display.Markdown object>"
      ]
     },
     "metadata": {},
     "output_type": "display_data"
    },
    {
     "data": {
      "text/markdown": [
       "### Table of Contents"
      ],
      "text/plain": [
       "<IPython.core.display.Markdown object>"
      ]
     },
     "metadata": {},
     "output_type": "display_data"
    },
    {
     "data": {
      "text/html": [
       "<a href=\"#Input_Parameters\">Input Parameters</a>"
      ],
      "text/plain": [
       "<IPython.core.display.HTML object>"
      ]
     },
     "metadata": {},
     "output_type": "display_data"
    },
    {
     "data": {
      "text/html": [
       "<a href=\"#LBLNEW_case_compaired_against\">LBLNEW case compaired against</a>"
      ],
      "text/plain": [
       "<IPython.core.display.HTML object>"
      ]
     },
     "metadata": {},
     "output_type": "display_data"
    },
    {
     "data": {
      "text/html": [
       "<a href=\"#Cooling_Rate_Profiles\">Cooling Rate Profiles</a>"
      ],
      "text/plain": [
       "<IPython.core.display.HTML object>"
      ]
     },
     "metadata": {},
     "output_type": "display_data"
    },
    {
     "data": {
      "text/html": [
       "<a href=\"#Flux_Comparison\">Flux Comparison</a>"
      ],
      "text/plain": [
       "<IPython.core.display.HTML object>"
      ]
     },
     "metadata": {},
     "output_type": "display_data"
    },
    {
     "data": {
      "text/html": [
       "<a href=\"#Best-fit_Parameters\">Best-fit Parameters</a>"
      ],
      "text/plain": [
       "<IPython.core.display.HTML object>"
      ]
     },
     "metadata": {},
     "output_type": "display_data"
    },
    {
     "data": {
      "text/html": [
       "<a id=\"Input_Parameters\"></a>"
      ],
      "text/plain": [
       "<IPython.core.display.HTML object>"
      ]
     },
     "metadata": {},
     "output_type": "display_data"
    },
    {
     "data": {
      "text/markdown": [
       "# Input Parameters"
      ],
      "text/plain": [
       "<IPython.core.display.Markdown object>"
      ]
     },
     "metadata": {},
     "output_type": "display_data"
    },
    {
     "name": "stdout",
     "output_type": "stream",
     "text": [
      "atmpro = mls\n",
      "band = [3]\n",
      "commitnumber = fc273c9\n",
      "molecule = {'co2': 0.0004, 'h2o': 'atmpro', 'n2o': 3.2e-07}\n",
      "tsfc = 294\n"
     ]
    },
    {
     "data": {
      "text/html": [
       "<a id=\"LBLNEW_case_compaired_against\"></a>"
      ],
      "text/plain": [
       "<IPython.core.display.HTML object>"
      ]
     },
     "metadata": {},
     "output_type": "display_data"
    },
    {
     "data": {
      "text/markdown": [
       "# LBLNEW case compaired against"
      ],
      "text/plain": [
       "<IPython.core.display.Markdown object>"
      ]
     },
     "metadata": {},
     "output_type": "display_data"
    },
    {
     "name": "stdout",
     "output_type": "stream",
     "text": [
      "atmpro = mls\n",
      "band = 3a\n",
      "commitnumber = 5014a19\n",
      "dv = 0.01\n",
      "molecule = {'co2': 0.0004, 'h2o': 'atmpro', 'n2o': 3.2e-07}\n",
      "nv = 100\n",
      "tsfc = 294\n"
     ]
    },
    {
     "data": {
      "text/html": [
       "<a id=\"Cooling_Rate_Profiles\"></a>"
      ],
      "text/plain": [
       "<IPython.core.display.HTML object>"
      ]
     },
     "metadata": {},
     "output_type": "display_data"
    },
    {
     "data": {
      "text/markdown": [
       "# Cooling Rate Profiles"
      ],
      "text/plain": [
       "<IPython.core.display.Markdown object>"
      ]
     },
     "metadata": {},
     "output_type": "display_data"
    },
    {
     "data": {
      "text/html": [
       "\n",
       "<div class=\"bk-root\">\n",
       "    <div class=\"bk-plotdiv\" id=\"272a0626-7b2e-4029-8580-6da07a3e9bf0\"></div>\n",
       "</div>"
      ]
     },
     "metadata": {},
     "output_type": "display_data"
    },
    {
     "data": {
      "application/javascript": [
       "(function(root) {\n",
       "  function embed_document(root) {\n",
       "    \n",
       "  var docs_json = {\"76d5769a-8d5e-4c48-ab19-f38812ecf373\":{\"roots\":{\"references\":[{\"attributes\":{\"line_color\":\"#4daf4a\",\"line_width\":1.5,\"x\":{\"field\":\"x\"},\"y\":{\"field\":\"y\"}},\"id\":\"0d72cefe-ad6f-4e5a-8f73-9eb288c08910\",\"type\":\"Line\"},{\"attributes\":{\"callback\":null,\"column_names\":[\"x\",\"y\"],\"data\":{\"x\":{\"__ndarray__\":\"nluNkZGY2j/OtJKQJ03aP1/olduL4to/IL9tXLVh2z9FeKSPM6zbP2ckhD+qvts/Z3lg+G972z9XI/3uBNjaP+yhv8iyvdk/wlpK0D4a2D8NObaeIdzVPx0YSGmZ+dI/Hcua3BjQzj90gi7IMzvGP7mr9GYWmb8/doig5rvGwT8VdjDm16TJP8Xi3MsiudA/f4XMlUE11T+070BTZQ7bP0PHUEZDg+E/dazWskpj5z88gIeaz7btPxTAICvwPO0/Jtmwx8AR5z+xu+WPDnThP2H7yRgfJto/9R+I4kSq0z945Juvip7OP7XcPlATosg/jldiliRswz9v9gfKbfu8P5av/uFE+rU/KtJdD6+2sT/rIBykwRyrP+Oji245bqI/Wj8AIFw+mj/0E+98FraUP5Bx8EWurYU/rwGTW+tDNT9oQ/10HDRxP32rLAy8U5o/AaEH1CGLqj8YKRUGxYy0P6Ja6Vog5rs/1QRR9wFIwD+WBfJwK1LCP9NP9p7jhsQ/MS5N+ELUxj/GHhRzlCzJP5zJL2qUgcs/UsDR6dRwzT9jey3ovTHPP6xnMUZeddA/O4PQiyRL0T93taLufxfSP01URo4629I/EbZMRMcn1D+SeQUe70DVP7Z0NxXK/tU/FY7/hnlk1j9ZNs4B3XLWP1fBudCmNNY/CQg5MRy21T9qki/TvATVP7uB4eD7MNQ/J1Y+slZA0z92DWVu3x/SP4BWqlUFtNA/2KCKdnALzj8eohM6lpTKP2wTm01Pccc/kaC2FRTpxD+w7HpQ7V/DP///5mJf9MU/\",\"dtype\":\"float64\",\"shape\":[75]},\"y\":{\"__ndarray__\":\"GhExyth1ND/Sv8nbtpRIP2vylNV0PVE/aTum7souWD/At0SJ8fVgPw3Iuahxymc/MSNhhJWvcD/bTfBN02d3P2zb5nxnaoA/CD5h5MAGhz8NmeH1TyaQP+zrCsc9p5Y/LbKd76fGnz/bLW5ISEmmPww9YvTcQq8/JV2OstnstT8Er5Y7M8G+P0c+r3jqkcU/5h99k6ZBzj88bCIzFzjVP4enV8oyxN0//yH99nXg5D8qOpLLf0jtP5kqGJXUifQ/c9cS8kHP/D+/DpwzojQEQIEmwoanVwxA4lgXt9HgE0BSSZ2AJuIbQAMJih9jjiNA5q4l5INuK0AwTKYKRj0zQNv5fmq8/DpAaCJseHrtQkB/+zpwzoxKQM3MzMzMeFJAZmZmZmZqWEAAAAAAAFxeQM3MzMzMJmJAmpmZmZkfZUBmZmZmZhhoQDMzMzMzEWtAAAAAAAAKbkBmZmZmZoFwQM3MzMzM/XFAMzMzMzN6c0CamZmZmfZ0QAAAAAAAc3ZAZmZmZmbvd0DNzMzMzGt5QDMzMzMz6HpAmpmZmZlkfEAAAAAAAOF9QGZmZmZmXX9AZmZmZuZsgECamZmZGSuBQM3MzMxM6YFAAAAAAICngkAzMzMzs2WDQGZmZmbmI4RAmpmZmRnihEDNzMzMTKCFQAAAAACAXoZAMzMzM7Mch0BmZmZm5tqHQJqZmZkZmYhAzczMzExXiUAAAAAAgBWKQDMzMzOz04pAZmZmZuaRi0CamZmZGVCMQM3MzMxMDo1AAAAAAIDMjUAzMzMzs4qOQGZmZmbmSI9A\",\"dtype\":\"float64\",\"shape\":[75]}}},\"id\":\"8bf780d4-0557-4133-aeda-f46ef0118b27\",\"type\":\"ColumnDataSource\"},{\"attributes\":{\"line_alpha\":0.1,\"line_color\":\"#1f77b4\",\"line_dash\":[6],\"line_width\":5,\"x\":{\"field\":\"x\"},\"y\":{\"field\":\"y\"}},\"id\":\"61a77526-a0c2-484c-a286-71c197cb41db\",\"type\":\"Line\"},{\"attributes\":{\"source\":{\"id\":\"d1e90445-b8c4-446e-a9ed-129f46e8337c\",\"type\":\"ColumnDataSource\"}},\"id\":\"e053a413-41e7-49ff-b391-062ef8dc0be6\",\"type\":\"CDSView\"},{\"attributes\":{},\"id\":\"26602cff-b7d4-44f3-a102-bed270a2b6f0\",\"type\":\"WheelZoomTool\"},{\"attributes\":{\"callback\":null,\"column_names\":[\"x\",\"y\"],\"data\":{\"x\":{\"__ndarray__\":\"QNhrct9H1T+20QhPS2DVPwXHI8AC+9U/TJ8E07yl1j+B4hEm1jPXP8uiTWHnntc/ZehUCYHi1z+utgfGZuzXPwnVtCg/q9c/RhvTVbIK1z8JpAbLv/PVP0Op3pafRtQ/FfVRX/ng0T84QeWpWEbNP8/FtnfTTsg/WQZqayOiyj/LmwXSrMnQP+UJCNYGYdM/UMeEFBOG1T+HWg1obcPYP2a0Xbqs9t4/PMInpbn45D8BaBhnoTfrP5E9CCIHXOs/n3hK3msu5j9nTF7wq2rhPzmc+dUcoNs/uxh3QUwb1j89H/Ft8sLRP1oxGgEuK8w/4m73D3VhxT9wi0NHvIa+P4zbAB36L7Y/C1kaTlLGsT/badMnpd+sP/N6salTG6Y/ERQFG1OHoT8SVFW0rtucP5f1lRnM5ZA/TC3d2eV/cD8K1+tq7gB9P+CxckTLdZ0/T6oxrNgbrD+H48YbAyy1P4Z7n4k0Grw/1hTxa140wD+k3GTx7grCP+OwC3Fy4MM/SphI7W6zxT+cnGcNWp/HP5tYng/or8k/cLJP+FOAyz8nfpQqtCDNP9a0xRQwqs4/hwhqvmsM0D/tV2xZ37zQP1kmkbc7b9E/7sbMT7up0j8NLfwqCsXTP5HeJpKemNQ/8ezZEG8f1T8zPA9R+VXVP7hxrAejRNU/x4bqvWP+1D+b37QJxZDUPxoZYPYdCdQ/FT1s+bNl0z+CxBs+jovSPxSFK9r7WNE/euv0ah2ozz9tuch3CGfMP3aLXS4kWMk/WyU3DuXZxj8PMAy7nFDFP0Di9IEmusc/\",\"dtype\":\"float64\",\"shape\":[75]},\"y\":{\"__ndarray__\":\"GhExyth1ND/Sv8nbtpRIP2vylNV0PVE/aTum7souWD/At0SJ8fVgPw3Iuahxymc/MSNhhJWvcD/bTfBN02d3P2zb5nxnaoA/CD5h5MAGhz8NmeH1TyaQP+zrCsc9p5Y/LbKd76fGnz/bLW5ISEmmPww9YvTcQq8/JV2OstnstT8Er5Y7M8G+P0c+r3jqkcU/5h99k6ZBzj88bCIzFzjVP4enV8oyxN0//yH99nXg5D8qOpLLf0jtP5kqGJXUifQ/c9cS8kHP/D+/DpwzojQEQIEmwoanVwxA4lgXt9HgE0BSSZ2AJuIbQAMJih9jjiNA5q4l5INuK0AwTKYKRj0zQNv5fmq8/DpAaCJseHrtQkB/+zpwzoxKQM3MzMzMeFJAZmZmZmZqWEAAAAAAAFxeQM3MzMzMJmJAmpmZmZkfZUBmZmZmZhhoQDMzMzMzEWtAAAAAAAAKbkBmZmZmZoFwQM3MzMzM/XFAMzMzMzN6c0CamZmZmfZ0QAAAAAAAc3ZAZmZmZmbvd0DNzMzMzGt5QDMzMzMz6HpAmpmZmZlkfEAAAAAAAOF9QGZmZmZmXX9AZmZmZuZsgECamZmZGSuBQM3MzMxM6YFAAAAAAICngkAzMzMzs2WDQGZmZmbmI4RAmpmZmRnihEDNzMzMTKCFQAAAAACAXoZAMzMzM7Mch0BmZmZm5tqHQJqZmZkZmYhAzczMzExXiUAAAAAAgBWKQDMzMzOz04pAZmZmZuaRi0CamZmZGVCMQM3MzMxMDo1AAAAAAIDMjUAzMzMzs4qOQGZmZmbmSI9A\",\"dtype\":\"float64\",\"shape\":[75]}}},\"id\":\"507bc2f7-0ddb-4e7d-8934-49fc1f31c70e\",\"type\":\"ColumnDataSource\"},{\"attributes\":{\"callback\":null,\"column_names\":[\"x\",\"y\"],\"data\":{\"x\":{\"__ndarray__\":\"QNhrct9H1T+20QhPS2DVPwXHI8AC+9U/TJ8E07yl1j+B4hEm1jPXP8uiTWHnntc/ZehUCYHi1z+utgfGZuzXPwnVtCg/q9c/RhvTVbIK1z8JpAbLv/PVP0Op3pafRtQ/FfVRX/ng0T84QeWpWEbNP8/FtnfTTsg/WQZqayOiyj/LmwXSrMnQP+UJCNYGYdM/UMeEFBOG1T+HWg1obcPYP2a0Xbqs9t4/PMInpbn45D8BaBhnoTfrP5E9CCIHXOs/n3hK3msu5j9nTF7wq2rhPzmc+dUcoNs/uxh3QUwb1j89H/Ft8sLRP1oxGgEuK8w/4m73D3VhxT9wi0NHvIa+P4zbAB36L7Y/C1kaTlLGsT/badMnpd+sP/N6salTG6Y/ERQFG1OHoT8SVFW0rtucP5f1lRnM5ZA/TC3d2eV/cD8K1+tq7gB9P+CxckTLdZ0/T6oxrNgbrD+H48YbAyy1P4Z7n4k0Grw/1hTxa140wD+k3GTx7grCP+OwC3Fy4MM/SphI7W6zxT+cnGcNWp/HP5tYng/or8k/cLJP+FOAyz8nfpQqtCDNP9a0xRQwqs4/hwhqvmsM0D/tV2xZ37zQP1kmkbc7b9E/7sbMT7up0j8NLfwqCsXTP5HeJpKemNQ/8ezZEG8f1T8zPA9R+VXVP7hxrAejRNU/x4bqvWP+1D+b37QJxZDUPxoZYPYdCdQ/FT1s+bNl0z+CxBs+jovSPxSFK9r7WNE/euv0ah2ozz9tuch3CGfMP3aLXS4kWMk/WyU3DuXZxj8PMAy7nFDFP0Di9IEmusc/\",\"dtype\":\"float64\",\"shape\":[75]},\"y\":{\"__ndarray__\":\"GhExyth1ND/Sv8nbtpRIP2vylNV0PVE/aTum7souWD/At0SJ8fVgPw3Iuahxymc/MSNhhJWvcD/bTfBN02d3P2zb5nxnaoA/CD5h5MAGhz8NmeH1TyaQP+zrCsc9p5Y/LbKd76fGnz/bLW5ISEmmPww9YvTcQq8/JV2OstnstT8Er5Y7M8G+P0c+r3jqkcU/5h99k6ZBzj88bCIzFzjVP4enV8oyxN0//yH99nXg5D8qOpLLf0jtP5kqGJXUifQ/c9cS8kHP/D+/DpwzojQEQIEmwoanVwxA4lgXt9HgE0BSSZ2AJuIbQAMJih9jjiNA5q4l5INuK0AwTKYKRj0zQNv5fmq8/DpAaCJseHrtQkB/+zpwzoxKQM3MzMzMeFJAZmZmZmZqWEAAAAAAAFxeQM3MzMzMJmJAmpmZmZkfZUBmZmZmZhhoQDMzMzMzEWtAAAAAAAAKbkBmZmZmZoFwQM3MzMzM/XFAMzMzMzN6c0CamZmZmfZ0QAAAAAAAc3ZAZmZmZmbvd0DNzMzMzGt5QDMzMzMz6HpAmpmZmZlkfEAAAAAAAOF9QGZmZmZmXX9AZmZmZuZsgECamZmZGSuBQM3MzMxM6YFAAAAAAICngkAzMzMzs2WDQGZmZmbmI4RAmpmZmRnihEDNzMzMTKCFQAAAAACAXoZAMzMzM7Mch0BmZmZm5tqHQJqZmZkZmYhAzczMzExXiUAAAAAAgBWKQDMzMzOz04pAZmZmZuaRi0CamZmZGVCMQM3MzMxMDo1AAAAAAIDMjUAzMzMzs4qOQGZmZmbmSI9A\",\"dtype\":\"float64\",\"shape\":[75]}}},\"id\":\"b415a6c6-b43d-43ee-905d-99b77ab1fd6f\",\"type\":\"ColumnDataSource\"},{\"attributes\":{\"callback\":null,\"column_names\":[\"x\",\"y\"],\"data\":{\"x\":{\"__ndarray__\":\"QNhrct9H1T+20QhPS2DVPwXHI8AC+9U/TJ8E07yl1j+B4hEm1jPXP8uiTWHnntc/ZehUCYHi1z+utgfGZuzXPwnVtCg/q9c/RhvTVbIK1z8JpAbLv/PVP0Op3pafRtQ/FfVRX/ng0T84QeWpWEbNP8/FtnfTTsg/WQZqayOiyj/LmwXSrMnQP+UJCNYGYdM/UMeEFBOG1T+HWg1obcPYP2a0Xbqs9t4/PMInpbn45D8BaBhnoTfrP5E9CCIHXOs/n3hK3msu5j9nTF7wq2rhPzmc+dUcoNs/uxh3QUwb1j89H/Ft8sLRP1oxGgEuK8w/4m73D3VhxT9wi0NHvIa+P4zbAB36L7Y/C1kaTlLGsT/badMnpd+sP/N6salTG6Y/ERQFG1OHoT8SVFW0rtucP5f1lRnM5ZA/TC3d2eV/cD8K1+tq7gB9P+CxckTLdZ0/T6oxrNgbrD+H48YbAyy1P4Z7n4k0Grw/1hTxa140wD+k3GTx7grCP+OwC3Fy4MM/SphI7W6zxT+cnGcNWp/HP5tYng/or8k/cLJP+FOAyz8nfpQqtCDNP9a0xRQwqs4/hwhqvmsM0D/tV2xZ37zQP1kmkbc7b9E/7sbMT7up0j8NLfwqCsXTP5HeJpKemNQ/8ezZEG8f1T8zPA9R+VXVP7hxrAejRNU/x4bqvWP+1D+b37QJxZDUPxoZYPYdCdQ/FT1s+bNl0z+CxBs+jovSPxSFK9r7WNE/euv0ah2ozz9tuch3CGfMP3aLXS4kWMk/WyU3DuXZxj8PMAy7nFDFP0Di9IEmusc/\",\"dtype\":\"float64\",\"shape\":[75]},\"y\":{\"__ndarray__\":\"GhExyth1ND/Sv8nbtpRIP2vylNV0PVE/aTum7souWD/At0SJ8fVgPw3Iuahxymc/MSNhhJWvcD/bTfBN02d3P2zb5nxnaoA/CD5h5MAGhz8NmeH1TyaQP+zrCsc9p5Y/LbKd76fGnz/bLW5ISEmmPww9YvTcQq8/JV2OstnstT8Er5Y7M8G+P0c+r3jqkcU/5h99k6ZBzj88bCIzFzjVP4enV8oyxN0//yH99nXg5D8qOpLLf0jtP5kqGJXUifQ/c9cS8kHP/D+/DpwzojQEQIEmwoanVwxA4lgXt9HgE0BSSZ2AJuIbQAMJih9jjiNA5q4l5INuK0AwTKYKRj0zQNv5fmq8/DpAaCJseHrtQkB/+zpwzoxKQM3MzMzMeFJAZmZmZmZqWEAAAAAAAFxeQM3MzMzMJmJAmpmZmZkfZUBmZmZmZhhoQDMzMzMzEWtAAAAAAAAKbkBmZmZmZoFwQM3MzMzM/XFAMzMzMzN6c0CamZmZmfZ0QAAAAAAAc3ZAZmZmZmbvd0DNzMzMzGt5QDMzMzMz6HpAmpmZmZlkfEAAAAAAAOF9QGZmZmZmXX9AZmZmZuZsgECamZmZGSuBQM3MzMxM6YFAAAAAAICngkAzMzMzs2WDQGZmZmbmI4RAmpmZmRnihEDNzMzMTKCFQAAAAACAXoZAMzMzM7Mch0BmZmZm5tqHQJqZmZkZmYhAzczMzExXiUAAAAAAgBWKQDMzMzOz04pAZmZmZuaRi0CamZmZGVCMQM3MzMxMDo1AAAAAAIDMjUAzMzMzs4qOQGZmZmbmSI9A\",\"dtype\":\"float64\",\"shape\":[75]}}},\"id\":\"02b086cf-99c1-4b54-a86e-e9a2aaddb75b\",\"type\":\"ColumnDataSource\"},{\"attributes\":{\"line_alpha\":0.1,\"line_color\":\"#1f77b4\",\"line_dash\":[6],\"line_width\":5,\"x\":{\"field\":\"x\"},\"y\":{\"field\":\"y\"}},\"id\":\"9c120dd7-a27a-43bc-aca6-f0d1813bba4f\",\"type\":\"Line\"},{\"attributes\":{\"fill_alpha\":{\"value\":0.1},\"fill_color\":{\"value\":\"#1f77b4\"},\"line_alpha\":{\"value\":0.1},\"line_color\":{\"value\":\"#1f77b4\"},\"x\":{\"field\":\"x\"},\"y\":{\"field\":\"y\"}},\"id\":\"19c9137d-5706-4350-8bb1-b969fc95a77e\",\"type\":\"Circle\"},{\"attributes\":{\"line_alpha\":0.1,\"line_color\":\"#1f77b4\",\"line_width\":1.5,\"x\":{\"field\":\"x\"},\"y\":{\"field\":\"y\"}},\"id\":\"1b9e1dbc-5c36-47f8-ab93-e939b717783a\",\"type\":\"Line\"},{\"attributes\":{\"data_source\":{\"id\":\"d1e90445-b8c4-446e-a9ed-129f46e8337c\",\"type\":\"ColumnDataSource\"},\"glyph\":{\"id\":\"88f0b920-321c-4c3f-8304-93275e59e8e2\",\"type\":\"Circle\"},\"hover_glyph\":null,\"muted_glyph\":null,\"nonselection_glyph\":{\"id\":\"19c9137d-5706-4350-8bb1-b969fc95a77e\",\"type\":\"Circle\"},\"selection_glyph\":null,\"view\":{\"id\":\"e053a413-41e7-49ff-b391-062ef8dc0be6\",\"type\":\"CDSView\"}},\"id\":\"4f548674-a538-41db-9714-24b71e62e9f2\",\"type\":\"GlyphRenderer\"},{\"attributes\":{\"line_alpha\":0.1,\"line_color\":\"#1f77b4\",\"line_width\":1.5,\"x\":{\"field\":\"x\"},\"y\":{\"field\":\"y\"}},\"id\":\"14f205ec-3b4f-4326-91b2-98333c638de5\",\"type\":\"Line\"},{\"attributes\":{\"data_source\":{\"id\":\"8bf780d4-0557-4133-aeda-f46ef0118b27\",\"type\":\"ColumnDataSource\"},\"glyph\":{\"id\":\"0d72cefe-ad6f-4e5a-8f73-9eb288c08910\",\"type\":\"Line\"},\"hover_glyph\":null,\"muted_glyph\":null,\"nonselection_glyph\":{\"id\":\"1b9e1dbc-5c36-47f8-ab93-e939b717783a\",\"type\":\"Line\"},\"selection_glyph\":null,\"view\":{\"id\":\"a44abfa2-861e-40af-8fdf-c7e112b123c2\",\"type\":\"CDSView\"}},\"id\":\"992f3ba2-48f8-4821-ac22-7a36ca05e2ff\",\"type\":\"GlyphRenderer\"},{\"attributes\":{\"data_source\":{\"id\":\"507bc2f7-0ddb-4e7d-8934-49fc1f31c70e\",\"type\":\"ColumnDataSource\"},\"glyph\":{\"id\":\"802e1d6d-bd62-4903-9a18-2bdd1ea8aba6\",\"type\":\"Square\"},\"hover_glyph\":null,\"muted_glyph\":null,\"nonselection_glyph\":{\"id\":\"2bf48605-fd86-49ab-84f5-a4a82d265ba3\",\"type\":\"Square\"},\"selection_glyph\":null,\"view\":{\"id\":\"05391f77-2839-4415-adff-46e9c2721ada\",\"type\":\"CDSView\"}},\"id\":\"4ae5bd68-9ca3-4461-bf7a-b628db20ba78\",\"type\":\"GlyphRenderer\"},{\"attributes\":{},\"id\":\"a19beb6c-1c81-4aee-81c3-65ee58227ee3\",\"type\":\"HelpTool\"},{\"attributes\":{\"source\":{\"id\":\"8bf780d4-0557-4133-aeda-f46ef0118b27\",\"type\":\"ColumnDataSource\"}},\"id\":\"a44abfa2-861e-40af-8fdf-c7e112b123c2\",\"type\":\"CDSView\"},{\"attributes\":{},\"id\":\"2bf272f4-bb59-4ffe-9b80-356fb15c0f89\",\"type\":\"PanTool\"},{\"attributes\":{\"fill_alpha\":{\"value\":0.7},\"fill_color\":{\"value\":\"#984ea3\"},\"line_alpha\":{\"value\":0.7},\"line_color\":{\"value\":\"#984ea3\"},\"x\":{\"field\":\"x\"},\"y\":{\"field\":\"y\"}},\"id\":\"802e1d6d-bd62-4903-9a18-2bdd1ea8aba6\",\"type\":\"Square\"},{\"attributes\":{\"line_color\":\"#4daf4a\",\"line_width\":1.5,\"x\":{\"field\":\"x\"},\"y\":{\"field\":\"y\"}},\"id\":\"b9ff318f-0dda-4edc-827e-dc19253008b6\",\"type\":\"Line\"},{\"attributes\":{\"fill_alpha\":{\"value\":0.1},\"fill_color\":{\"value\":\"#1f77b4\"},\"line_alpha\":{\"value\":0.1},\"line_color\":{\"value\":\"#1f77b4\"},\"x\":{\"field\":\"x\"},\"y\":{\"field\":\"y\"}},\"id\":\"2bf48605-fd86-49ab-84f5-a4a82d265ba3\",\"type\":\"Square\"},{\"attributes\":{\"callback\":null,\"end\":0.9378482030712,\"start\":-0.008957930191200001},\"id\":\"0149fc74-ed96-409d-bf36-da688a04296b\",\"type\":\"Range1d\"},{\"attributes\":{\"data_source\":{\"id\":\"b415a6c6-b43d-43ee-905d-99b77ab1fd6f\",\"type\":\"ColumnDataSource\"},\"glyph\":{\"id\":\"8c9e5a17-6eb3-4f37-ad75-8d9de971954c\",\"type\":\"Line\"},\"hover_glyph\":null,\"muted_glyph\":null,\"nonselection_glyph\":{\"id\":\"5c204451-40db-4b35-b8a1-4a583c5317d1\",\"type\":\"Line\"},\"selection_glyph\":null,\"view\":{\"id\":\"f965b94b-63a2-4b7f-899a-e3472e9ac865\",\"type\":\"CDSView\"}},\"id\":\"ae1d582d-8873-4251-a065-c196eee6425a\",\"type\":\"GlyphRenderer\"},{\"attributes\":{\"source\":{\"id\":\"507bc2f7-0ddb-4e7d-8934-49fc1f31c70e\",\"type\":\"ColumnDataSource\"}},\"id\":\"05391f77-2839-4415-adff-46e9c2721ada\",\"type\":\"CDSView\"},{\"attributes\":{\"line_alpha\":0.6,\"line_color\":\"#984ea3\",\"line_width\":3,\"x\":{\"field\":\"x\"},\"y\":{\"field\":\"y\"}},\"id\":\"8c9e5a17-6eb3-4f37-ad75-8d9de971954c\",\"type\":\"Line\"},{\"attributes\":{},\"id\":\"2c8c034b-078a-4c2f-9af9-d19aa21b9a11\",\"type\":\"BasicTickFormatter\"},{\"attributes\":{\"line_alpha\":0.1,\"line_color\":\"#1f77b4\",\"line_width\":3,\"x\":{\"field\":\"x\"},\"y\":{\"field\":\"y\"}},\"id\":\"5c204451-40db-4b35-b8a1-4a583c5317d1\",\"type\":\"Line\"},{\"attributes\":{\"fill_alpha\":{\"value\":0.7},\"fill_color\":{\"value\":\"#984ea3\"},\"line_alpha\":{\"value\":0.7},\"line_color\":{\"value\":\"#984ea3\"},\"x\":{\"field\":\"x\"},\"y\":{\"field\":\"y\"}},\"id\":\"506f7fad-0372-49c1-83c4-c91e8c987129\",\"type\":\"Square\"},{\"attributes\":{\"line_alpha\":0.6,\"line_color\":\"#e41a1c\",\"line_dash\":[6],\"line_width\":5,\"x\":{\"field\":\"x\"},\"y\":{\"field\":\"y\"}},\"id\":\"aa5be989-bc96-4625-a2a2-d22cc9aa6b0b\",\"type\":\"Line\"},{\"attributes\":{\"source\":{\"id\":\"b415a6c6-b43d-43ee-905d-99b77ab1fd6f\",\"type\":\"ColumnDataSource\"}},\"id\":\"f965b94b-63a2-4b7f-899a-e3472e9ac865\",\"type\":\"CDSView\"},{\"attributes\":{\"items\":[{\"id\":\"15a34af7-2fd3-4459-bdea-626eebcf11f4\",\"type\":\"LegendItem\"},{\"id\":\"8b929fad-0b13-454a-a469-ad6a239e1196\",\"type\":\"LegendItem\"},{\"id\":\"446bda31-f77d-4dfd-ba25-eadeb9f67024\",\"type\":\"LegendItem\"}],\"label_text_font_size\":{\"value\":\"8pt\"},\"location\":[10,-30],\"plot\":{\"id\":\"35e13e62-a297-4934-b039-59b756703bff\",\"subtype\":\"Figure\",\"type\":\"Plot\"}},\"id\":\"05578b94-fb52-4925-b1a3-899aea61f2b8\",\"type\":\"Legend\"},{\"attributes\":{\"tools\":[{\"id\":\"2bf272f4-bb59-4ffe-9b80-356fb15c0f89\",\"type\":\"PanTool\"},{\"id\":\"26602cff-b7d4-44f3-a102-bed270a2b6f0\",\"type\":\"WheelZoomTool\"},{\"id\":\"ecc24de1-25ae-4497-b97e-4607b15eaf20\",\"type\":\"BoxZoomTool\"},{\"id\":\"e89a0201-bd91-420a-bdb8-8dbaabf9925e\",\"type\":\"SaveTool\"},{\"id\":\"834dd160-3e3e-48ec-be5e-78eafb14d424\",\"type\":\"ResetTool\"},{\"id\":\"a19beb6c-1c81-4aee-81c3-65ee58227ee3\",\"type\":\"HelpTool\"},{\"id\":\"b7183ea2-f034-48ee-9681-c514d0592334\",\"type\":\"PanTool\"},{\"id\":\"38eec991-0120-4038-a268-434adc8f55e0\",\"type\":\"WheelZoomTool\"},{\"id\":\"cb4dfd4c-655c-453f-b97b-67c4490f59e5\",\"type\":\"BoxZoomTool\"},{\"id\":\"c615d722-8b03-4bc3-a67d-bf41c0b98d9b\",\"type\":\"SaveTool\"},{\"id\":\"603dd73f-359e-48ef-8b32-be0bedd842c5\",\"type\":\"ResetTool\"},{\"id\":\"4477bf44-bf1d-4241-93f1-5e85e97b79cc\",\"type\":\"HelpTool\"}]},\"id\":\"d51a56e0-fba6-4b26-881c-11d7902c6ddd\",\"type\":\"ProxyToolbar\"},{\"attributes\":{},\"id\":\"c4d5f0ca-95c2-4e02-94ac-4b0e8a605ed9\",\"type\":\"BasicTickFormatter\"},{\"attributes\":{\"toolbar\":{\"id\":\"d51a56e0-fba6-4b26-881c-11d7902c6ddd\",\"type\":\"ProxyToolbar\"},\"toolbar_location\":\"above\"},\"id\":\"dbae0d32-5888-47b1-a688-5d5acb852fca\",\"type\":\"ToolbarBox\"},{\"attributes\":{\"source\":{\"id\":\"f6d95ab7-2bd7-44ef-805a-b770f43ca6e9\",\"type\":\"ColumnDataSource\"}},\"id\":\"636ed61a-eb96-4c67-ad05-3f2fefc84471\",\"type\":\"CDSView\"},{\"attributes\":{\"children\":[{\"id\":\"dbae0d32-5888-47b1-a688-5d5acb852fca\",\"type\":\"ToolbarBox\"},{\"id\":\"1727672b-eee5-47e3-b7a1-a29a9f4653cc\",\"type\":\"Column\"}]},\"id\":\"ad847109-309d-4a6d-8911-4e7c9bbb3693\",\"type\":\"Column\"},{\"attributes\":{\"children\":[{\"id\":\"29b156de-e89d-4302-a01e-6666bd4f3487\",\"type\":\"Row\"}]},\"id\":\"1727672b-eee5-47e3-b7a1-a29a9f4653cc\",\"type\":\"Column\"},{\"attributes\":{},\"id\":\"e89a0201-bd91-420a-bdb8-8dbaabf9925e\",\"type\":\"SaveTool\"},{\"attributes\":{\"callback\":null,\"column_names\":[\"x\",\"y\"],\"data\":{\"x\":{\"__ndarray__\":\"nluNkZGY2j/OtJKQJ03aP1/olduL4to/IL9tXLVh2z9FeKSPM6zbP2ckhD+qvts/Z3lg+G972z9XI/3uBNjaP+yhv8iyvdk/wlpK0D4a2D8NObaeIdzVPx0YSGmZ+dI/Hcua3BjQzj90gi7IMzvGP7mr9GYWmb8/doig5rvGwT8VdjDm16TJP8Xi3MsiudA/f4XMlUE11T+070BTZQ7bP0PHUEZDg+E/dazWskpj5z88gIeaz7btPxTAICvwPO0/Jtmwx8AR5z+xu+WPDnThP2H7yRgfJto/9R+I4kSq0z945Juvip7OP7XcPlATosg/jldiliRswz9v9gfKbfu8P5av/uFE+rU/KtJdD6+2sT/rIBykwRyrP+Oji245bqI/Wj8AIFw+mj/0E+98FraUP5Bx8EWurYU/rwGTW+tDNT9oQ/10HDRxP32rLAy8U5o/AaEH1CGLqj8YKRUGxYy0P6Ja6Vog5rs/1QRR9wFIwD+WBfJwK1LCP9NP9p7jhsQ/MS5N+ELUxj/GHhRzlCzJP5zJL2qUgcs/UsDR6dRwzT9jey3ovTHPP6xnMUZeddA/O4PQiyRL0T93taLufxfSP01URo4629I/EbZMRMcn1D+SeQUe70DVP7Z0NxXK/tU/FY7/hnlk1j9ZNs4B3XLWP1fBudCmNNY/CQg5MRy21T9qki/TvATVP7uB4eD7MNQ/J1Y+slZA0z92DWVu3x/SP4BWqlUFtNA/2KCKdnALzj8eohM6lpTKP2wTm01Pccc/kaC2FRTpxD+w7HpQ7V/DP///5mJf9MU/\",\"dtype\":\"float64\",\"shape\":[75]},\"y\":{\"__ndarray__\":\"GhExyth1ND/Sv8nbtpRIP2vylNV0PVE/aTum7souWD/At0SJ8fVgPw3Iuahxymc/MSNhhJWvcD/bTfBN02d3P2zb5nxnaoA/CD5h5MAGhz8NmeH1TyaQP+zrCsc9p5Y/LbKd76fGnz/bLW5ISEmmPww9YvTcQq8/JV2OstnstT8Er5Y7M8G+P0c+r3jqkcU/5h99k6ZBzj88bCIzFzjVP4enV8oyxN0//yH99nXg5D8qOpLLf0jtP5kqGJXUifQ/c9cS8kHP/D+/DpwzojQEQIEmwoanVwxA4lgXt9HgE0BSSZ2AJuIbQAMJih9jjiNA5q4l5INuK0AwTKYKRj0zQNv5fmq8/DpAaCJseHrtQkB/+zpwzoxKQM3MzMzMeFJAZmZmZmZqWEAAAAAAAFxeQM3MzMzMJmJAmpmZmZkfZUBmZmZmZhhoQDMzMzMzEWtAAAAAAAAKbkBmZmZmZoFwQM3MzMzM/XFAMzMzMzN6c0CamZmZmfZ0QAAAAAAAc3ZAZmZmZmbvd0DNzMzMzGt5QDMzMzMz6HpAmpmZmZlkfEAAAAAAAOF9QGZmZmZmXX9AZmZmZuZsgECamZmZGSuBQM3MzMxM6YFAAAAAAICngkAzMzMzs2WDQGZmZmbmI4RAmpmZmRnihEDNzMzMTKCFQAAAAACAXoZAMzMzM7Mch0BmZmZm5tqHQJqZmZkZmYhAzczMzExXiUAAAAAAgBWKQDMzMzOz04pAZmZmZuaRi0CamZmZGVCMQM3MzMxMDo1AAAAAAIDMjUAzMzMzs4qOQGZmZmbmSI9A\",\"dtype\":\"float64\",\"shape\":[75]}}},\"id\":\"2f5c23a7-d90c-424c-857f-e16987e8ac43\",\"type\":\"ColumnDataSource\"},{\"attributes\":{\"source\":{\"id\":\"8fddcba4-f81d-4550-89bc-4443797b12e2\",\"type\":\"ColumnDataSource\"}},\"id\":\"4caf83d0-0508-4d12-8441-4cc40c1575da\",\"type\":\"CDSView\"},{\"attributes\":{\"line_alpha\":0.6,\"line_color\":\"#e41a1c\",\"line_dash\":[6],\"line_width\":5,\"x\":{\"field\":\"x\"},\"y\":{\"field\":\"y\"}},\"id\":\"903a1142-fe4f-46e1-ab6d-f1ba782cb845\",\"type\":\"Line\"},{\"attributes\":{\"source\":{\"id\":\"7596f13b-31dc-4e18-93f0-af3d15ecd942\",\"type\":\"ColumnDataSource\"}},\"id\":\"3ae2bebc-0ad2-47a9-818a-eb254db2a683\",\"type\":\"CDSView\"},{\"attributes\":{\"source\":{\"id\":\"2f5c23a7-d90c-424c-857f-e16987e8ac43\",\"type\":\"ColumnDataSource\"}},\"id\":\"5c957275-e5cd-4970-86b3-4915a5d684c2\",\"type\":\"CDSView\"},{\"attributes\":{},\"id\":\"834dd160-3e3e-48ec-be5e-78eafb14d424\",\"type\":\"ResetTool\"},{\"attributes\":{\"data_source\":{\"id\":\"f6d95ab7-2bd7-44ef-805a-b770f43ca6e9\",\"type\":\"ColumnDataSource\"},\"glyph\":{\"id\":\"aa5be989-bc96-4625-a2a2-d22cc9aa6b0b\",\"type\":\"Line\"},\"hover_glyph\":null,\"muted_glyph\":null,\"nonselection_glyph\":{\"id\":\"9c120dd7-a27a-43bc-aca6-f0d1813bba4f\",\"type\":\"Line\"},\"selection_glyph\":null,\"view\":{\"id\":\"636ed61a-eb96-4c67-ad05-3f2fefc84471\",\"type\":\"CDSView\"}},\"id\":\"00456f81-5962-4d68-9871-9545607caab1\",\"type\":\"GlyphRenderer\"},{\"attributes\":{\"data_source\":{\"id\":\"2f5c23a7-d90c-424c-857f-e16987e8ac43\",\"type\":\"ColumnDataSource\"},\"glyph\":{\"id\":\"b9ff318f-0dda-4edc-827e-dc19253008b6\",\"type\":\"Line\"},\"hover_glyph\":null,\"muted_glyph\":null,\"nonselection_glyph\":{\"id\":\"14f205ec-3b4f-4326-91b2-98333c638de5\",\"type\":\"Line\"},\"selection_glyph\":null,\"view\":{\"id\":\"5c957275-e5cd-4970-86b3-4915a5d684c2\",\"type\":\"CDSView\"}},\"id\":\"a0402a96-3d01-4d73-9545-73a213d91fcb\",\"type\":\"GlyphRenderer\"},{\"attributes\":{\"bottom_units\":\"screen\",\"fill_alpha\":{\"value\":0.5},\"fill_color\":{\"value\":\"lightgrey\"},\"left_units\":\"screen\",\"level\":\"overlay\",\"line_alpha\":{\"value\":1.0},\"line_color\":{\"value\":\"black\"},\"line_dash\":[4,4],\"line_width\":{\"value\":2},\"plot\":null,\"render_mode\":\"css\",\"right_units\":\"screen\",\"top_units\":\"screen\"},\"id\":\"4d01159b-dd4a-495e-bad0-8ef9e26a0b53\",\"type\":\"BoxAnnotation\"},{\"attributes\":{\"ticker\":null},\"id\":\"db502aab-a9c2-43e8-994a-932e2d564e0f\",\"type\":\"LogTickFormatter\"},{\"attributes\":{},\"id\":\"f8b2ec8c-7ee2-4514-bee1-2d441517fb45\",\"type\":\"LinearScale\"},{\"attributes\":{\"children\":[{\"id\":\"8546305a-ec15-4af9-9121-ad6bbdfea18f\",\"subtype\":\"Figure\",\"type\":\"Plot\"},{\"id\":\"35e13e62-a297-4934-b039-59b756703bff\",\"subtype\":\"Figure\",\"type\":\"Plot\"}]},\"id\":\"29b156de-e89d-4302-a01e-6666bd4f3487\",\"type\":\"Row\"},{\"attributes\":{},\"id\":\"49bce2b7-a62f-4c18-9af1-c5ca293c3f55\",\"type\":\"BasicTickFormatter\"},{\"attributes\":{\"line_alpha\":0.6,\"line_color\":\"#984ea3\",\"line_width\":3,\"x\":{\"field\":\"x\"},\"y\":{\"field\":\"y\"}},\"id\":\"aed8aa8e-894a-4168-965c-d37bd1085d2d\",\"type\":\"Line\"},{\"attributes\":{},\"id\":\"400f16ab-a4d1-4999-9bfd-8441df27912f\",\"type\":\"BasicTicker\"},{\"attributes\":{\"plot\":{\"id\":\"8546305a-ec15-4af9-9121-ad6bbdfea18f\",\"subtype\":\"Figure\",\"type\":\"Plot\"},\"ticker\":{\"id\":\"9e3e2f4d-b328-4668-a011-9448428b6f3b\",\"type\":\"BasicTicker\"}},\"id\":\"7e1b1dd7-9444-4183-b6a4-679356adbb70\",\"type\":\"Grid\"},{\"attributes\":{\"active_drag\":\"auto\",\"active_inspect\":\"auto\",\"active_scroll\":\"auto\",\"active_tap\":\"auto\",\"tools\":[{\"id\":\"2bf272f4-bb59-4ffe-9b80-356fb15c0f89\",\"type\":\"PanTool\"},{\"id\":\"26602cff-b7d4-44f3-a102-bed270a2b6f0\",\"type\":\"WheelZoomTool\"},{\"id\":\"ecc24de1-25ae-4497-b97e-4607b15eaf20\",\"type\":\"BoxZoomTool\"},{\"id\":\"e89a0201-bd91-420a-bdb8-8dbaabf9925e\",\"type\":\"SaveTool\"},{\"id\":\"834dd160-3e3e-48ec-be5e-78eafb14d424\",\"type\":\"ResetTool\"},{\"id\":\"a19beb6c-1c81-4aee-81c3-65ee58227ee3\",\"type\":\"HelpTool\"}]},\"id\":\"60c75594-0225-4646-9a23-f1a067bf57af\",\"type\":\"Toolbar\"},{\"attributes\":{\"source\":{\"id\":\"02b086cf-99c1-4b54-a86e-e9a2aaddb75b\",\"type\":\"ColumnDataSource\"}},\"id\":\"be6df103-54fc-4fca-b2ab-57495c196f0b\",\"type\":\"CDSView\"},{\"attributes\":{\"line_alpha\":0.1,\"line_color\":\"#1f77b4\",\"line_width\":3,\"x\":{\"field\":\"x\"},\"y\":{\"field\":\"y\"}},\"id\":\"f4bbbebf-ca1f-452c-992a-bd6aadd0a12c\",\"type\":\"Line\"},{\"attributes\":{\"bottom_units\":\"screen\",\"fill_alpha\":{\"value\":0.5},\"fill_color\":{\"value\":\"lightgrey\"},\"left_units\":\"screen\",\"level\":\"overlay\",\"line_alpha\":{\"value\":1.0},\"line_color\":{\"value\":\"black\"},\"line_dash\":[4,4],\"line_width\":{\"value\":2},\"plot\":null,\"render_mode\":\"css\",\"right_units\":\"screen\",\"top_units\":\"screen\"},\"id\":\"56e446cb-be1c-4d27-8de1-5079072357d9\",\"type\":\"BoxAnnotation\"},{\"attributes\":{\"data_source\":{\"id\":\"02b086cf-99c1-4b54-a86e-e9a2aaddb75b\",\"type\":\"ColumnDataSource\"},\"glyph\":{\"id\":\"506f7fad-0372-49c1-83c4-c91e8c987129\",\"type\":\"Square\"},\"hover_glyph\":null,\"muted_glyph\":null,\"nonselection_glyph\":{\"id\":\"a1c2b963-0f6f-496b-8d75-e722dacc470b\",\"type\":\"Square\"},\"selection_glyph\":null,\"view\":{\"id\":\"be6df103-54fc-4fca-b2ab-57495c196f0b\",\"type\":\"CDSView\"}},\"id\":\"9ffa6d3a-8eaf-4743-989f-d5b944b87076\",\"type\":\"GlyphRenderer\"},{\"attributes\":{\"callback\":null,\"column_names\":[\"x\",\"y\"],\"data\":{\"x\":{\"__ndarray__\":\"QNhrct9H1T+20QhPS2DVPwXHI8AC+9U/TJ8E07yl1j+B4hEm1jPXP8uiTWHnntc/ZehUCYHi1z+utgfGZuzXPwnVtCg/q9c/RhvTVbIK1z8JpAbLv/PVP0Op3pafRtQ/FfVRX/ng0T84QeWpWEbNP8/FtnfTTsg/WQZqayOiyj/LmwXSrMnQP+UJCNYGYdM/UMeEFBOG1T+HWg1obcPYP2a0Xbqs9t4/PMInpbn45D8BaBhnoTfrP5E9CCIHXOs/n3hK3msu5j9nTF7wq2rhPzmc+dUcoNs/uxh3QUwb1j89H/Ft8sLRP1oxGgEuK8w/4m73D3VhxT9wi0NHvIa+P4zbAB36L7Y/C1kaTlLGsT/badMnpd+sP/N6salTG6Y/ERQFG1OHoT8SVFW0rtucP5f1lRnM5ZA/TC3d2eV/cD8K1+tq7gB9P+CxckTLdZ0/T6oxrNgbrD+H48YbAyy1P4Z7n4k0Grw/1hTxa140wD+k3GTx7grCP+OwC3Fy4MM/SphI7W6zxT+cnGcNWp/HP5tYng/or8k/cLJP+FOAyz8nfpQqtCDNP9a0xRQwqs4/hwhqvmsM0D/tV2xZ37zQP1kmkbc7b9E/7sbMT7up0j8NLfwqCsXTP5HeJpKemNQ/8ezZEG8f1T8zPA9R+VXVP7hxrAejRNU/x4bqvWP+1D+b37QJxZDUPxoZYPYdCdQ/FT1s+bNl0z+CxBs+jovSPxSFK9r7WNE/euv0ah2ozz9tuch3CGfMP3aLXS4kWMk/WyU3DuXZxj8PMAy7nFDFP0Di9IEmusc/\",\"dtype\":\"float64\",\"shape\":[75]},\"y\":{\"__ndarray__\":\"GhExyth1ND/Sv8nbtpRIP2vylNV0PVE/aTum7souWD/At0SJ8fVgPw3Iuahxymc/MSNhhJWvcD/bTfBN02d3P2zb5nxnaoA/CD5h5MAGhz8NmeH1TyaQP+zrCsc9p5Y/LbKd76fGnz/bLW5ISEmmPww9YvTcQq8/JV2OstnstT8Er5Y7M8G+P0c+r3jqkcU/5h99k6ZBzj88bCIzFzjVP4enV8oyxN0//yH99nXg5D8qOpLLf0jtP5kqGJXUifQ/c9cS8kHP/D+/DpwzojQEQIEmwoanVwxA4lgXt9HgE0BSSZ2AJuIbQAMJih9jjiNA5q4l5INuK0AwTKYKRj0zQNv5fmq8/DpAaCJseHrtQkB/+zpwzoxKQM3MzMzMeFJAZmZmZmZqWEAAAAAAAFxeQM3MzMzMJmJAmpmZmZkfZUBmZmZmZhhoQDMzMzMzEWtAAAAAAAAKbkBmZmZmZoFwQM3MzMzM/XFAMzMzMzN6c0CamZmZmfZ0QAAAAAAAc3ZAZmZmZmbvd0DNzMzMzGt5QDMzMzMz6HpAmpmZmZlkfEAAAAAAAOF9QGZmZmZmXX9AZmZmZuZsgECamZmZGSuBQM3MzMxM6YFAAAAAAICngkAzMzMzs2WDQGZmZmbmI4RAmpmZmRnihEDNzMzMTKCFQAAAAACAXoZAMzMzM7Mch0BmZmZm5tqHQJqZmZkZmYhAzczMzExXiUAAAAAAgBWKQDMzMzOz04pAZmZmZuaRi0CamZmZGVCMQM3MzMxMDo1AAAAAAIDMjUAzMzMzs4qOQGZmZmbmSI9A\",\"dtype\":\"float64\",\"shape\":[75]}}},\"id\":\"3743182d-3e33-4864-a769-c7c8b919c051\",\"type\":\"ColumnDataSource\"},{\"attributes\":{\"callback\":null,\"end\":0.35426506217119996,\"start\":-0.0031798792912},\"id\":\"3cef686a-5979-4f9e-9e77-f3c2b537858c\",\"type\":\"Range1d\"},{\"attributes\":{\"num_minor_ticks\":10},\"id\":\"8b887ea8-7873-4afb-9a29-fdeb84b6b247\",\"type\":\"LogTicker\"},{\"attributes\":{\"fill_alpha\":{\"value\":0.1},\"fill_color\":{\"value\":\"#1f77b4\"},\"line_alpha\":{\"value\":0.1},\"line_color\":{\"value\":\"#1f77b4\"},\"x\":{\"field\":\"x\"},\"y\":{\"field\":\"y\"}},\"id\":\"6844b976-b844-48f2-a78b-54c8e499cff5\",\"type\":\"Circle\"},{\"attributes\":{},\"id\":\"b7183ea2-f034-48ee-9681-c514d0592334\",\"type\":\"PanTool\"},{\"attributes\":{},\"id\":\"9e3e2f4d-b328-4668-a011-9448428b6f3b\",\"type\":\"BasicTicker\"},{\"attributes\":{\"below\":[{\"id\":\"6711e63e-ddea-461b-90b2-51bc2712dfd3\",\"type\":\"LinearAxis\"}],\"left\":[{\"id\":\"7b4b31de-0647-4531-ad29-15b270524d94\",\"type\":\"LinearAxis\"}],\"plot_height\":500,\"plot_width\":400,\"renderers\":[{\"id\":\"6711e63e-ddea-461b-90b2-51bc2712dfd3\",\"type\":\"LinearAxis\"},{\"id\":\"7e1b1dd7-9444-4183-b6a4-679356adbb70\",\"type\":\"Grid\"},{\"id\":\"7b4b31de-0647-4531-ad29-15b270524d94\",\"type\":\"LinearAxis\"},{\"id\":\"c095542a-7769-41bb-892c-e0995704bddc\",\"type\":\"Grid\"},{\"id\":\"4d01159b-dd4a-495e-bad0-8ef9e26a0b53\",\"type\":\"BoxAnnotation\"},{\"id\":\"e5886c9a-311e-40be-ae66-7f9df8ddbbc5\",\"type\":\"GlyphRenderer\"},{\"id\":\"9f3cb60e-921f-4e3b-bf61-1ba975473a5e\",\"type\":\"GlyphRenderer\"},{\"id\":\"a0402a96-3d01-4d73-9545-73a213d91fcb\",\"type\":\"GlyphRenderer\"},{\"id\":\"9ffa6d3a-8eaf-4743-989f-d5b944b87076\",\"type\":\"GlyphRenderer\"},{\"id\":\"d72d48af-65d8-49b7-a1ad-ca4d98a68208\",\"type\":\"GlyphRenderer\"}],\"title\":{\"id\":\"ca35fead-0f96-4674-b2e4-881c9d8910a5\",\"type\":\"Title\"},\"toolbar\":{\"id\":\"60c75594-0225-4646-9a23-f1a067bf57af\",\"type\":\"Toolbar\"},\"toolbar_location\":null,\"x_range\":{\"id\":\"3cef686a-5979-4f9e-9e77-f3c2b537858c\",\"type\":\"Range1d\"},\"x_scale\":{\"id\":\"f8b2ec8c-7ee2-4514-bee1-2d441517fb45\",\"type\":\"LinearScale\"},\"y_range\":{\"id\":\"afe88aeb-c1ac-4eab-ac0a-5c11c5f476e8\",\"type\":\"Range1d\"},\"y_scale\":{\"id\":\"2de38fc1-0433-4ca8-abfc-288742729dd4\",\"type\":\"LinearScale\"}},\"id\":\"8546305a-ec15-4af9-9121-ad6bbdfea18f\",\"subtype\":\"Figure\",\"type\":\"Plot\"},{\"attributes\":{\"dimension\":1,\"plot\":{\"id\":\"35e13e62-a297-4934-b039-59b756703bff\",\"subtype\":\"Figure\",\"type\":\"Plot\"},\"ticker\":{\"id\":\"8b887ea8-7873-4afb-9a29-fdeb84b6b247\",\"type\":\"LogTicker\"}},\"id\":\"346dc259-6137-49c8-a0eb-02028297d165\",\"type\":\"Grid\"},{\"attributes\":{\"axis_label\":\"pressure [mb]\",\"formatter\":{\"id\":\"db502aab-a9c2-43e8-994a-932e2d564e0f\",\"type\":\"LogTickFormatter\"},\"plot\":{\"id\":\"35e13e62-a297-4934-b039-59b756703bff\",\"subtype\":\"Figure\",\"type\":\"Plot\"},\"ticker\":{\"id\":\"8b887ea8-7873-4afb-9a29-fdeb84b6b247\",\"type\":\"LogTicker\"}},\"id\":\"7c99958d-c853-41f7-93d6-8ae352d0a1a2\",\"type\":\"LogAxis\"},{\"attributes\":{\"plot\":null,\"text\":\"Log pressure scale\"},\"id\":\"3a36c830-d57f-4f8c-b678-b110d55914f7\",\"type\":\"Title\"},{\"attributes\":{\"active_drag\":\"auto\",\"active_inspect\":\"auto\",\"active_scroll\":\"auto\",\"active_tap\":\"auto\",\"tools\":[{\"id\":\"b7183ea2-f034-48ee-9681-c514d0592334\",\"type\":\"PanTool\"},{\"id\":\"38eec991-0120-4038-a268-434adc8f55e0\",\"type\":\"WheelZoomTool\"},{\"id\":\"cb4dfd4c-655c-453f-b97b-67c4490f59e5\",\"type\":\"BoxZoomTool\"},{\"id\":\"c615d722-8b03-4bc3-a67d-bf41c0b98d9b\",\"type\":\"SaveTool\"},{\"id\":\"603dd73f-359e-48ef-8b32-be0bedd842c5\",\"type\":\"ResetTool\"},{\"id\":\"4477bf44-bf1d-4241-93f1-5e85e97b79cc\",\"type\":\"HelpTool\"}]},\"id\":\"c66fdb9c-e024-47fa-a530-49a33da2b05b\",\"type\":\"Toolbar\"},{\"attributes\":{\"label\":{\"value\":\"WGT igg=10 wgt_flux=2\"},\"renderers\":[{\"id\":\"4ae5bd68-9ca3-4461-bf7a-b628db20ba78\",\"type\":\"GlyphRenderer\"},{\"id\":\"ae1d582d-8873-4251-a065-c196eee6425a\",\"type\":\"GlyphRenderer\"}]},\"id\":\"446bda31-f77d-4dfd-ba25-eadeb9f67024\",\"type\":\"LegendItem\"},{\"attributes\":{\"plot\":{\"id\":\"35e13e62-a297-4934-b039-59b756703bff\",\"subtype\":\"Figure\",\"type\":\"Plot\"},\"ticker\":{\"id\":\"2c334832-7e26-45b9-b29f-0efce2a6cfeb\",\"type\":\"BasicTicker\"}},\"id\":\"51557e5e-baf1-48b4-891d-8b48e6c51ca7\",\"type\":\"Grid\"},{\"attributes\":{\"axis_label\":\"cooling rate [K/day]\",\"formatter\":{\"id\":\"2c8c034b-078a-4c2f-9af9-d19aa21b9a11\",\"type\":\"BasicTickFormatter\"},\"plot\":{\"id\":\"35e13e62-a297-4934-b039-59b756703bff\",\"subtype\":\"Figure\",\"type\":\"Plot\"},\"ticker\":{\"id\":\"2c334832-7e26-45b9-b29f-0efce2a6cfeb\",\"type\":\"BasicTicker\"}},\"id\":\"c1848c0f-7ef5-44ac-8b84-d404516008a5\",\"type\":\"LinearAxis\"},{\"attributes\":{\"overlay\":{\"id\":\"4d01159b-dd4a-495e-bad0-8ef9e26a0b53\",\"type\":\"BoxAnnotation\"}},\"id\":\"ecc24de1-25ae-4497-b97e-4607b15eaf20\",\"type\":\"BoxZoomTool\"},{\"attributes\":{\"plot\":null,\"text\":\"Linear pressure scale\"},\"id\":\"ca35fead-0f96-4674-b2e4-881c9d8910a5\",\"type\":\"Title\"},{\"attributes\":{\"label\":{\"value\":\"CLIRAD `coolr_bands`\"},\"renderers\":[{\"id\":\"00456f81-5962-4d68-9871-9545607caab1\",\"type\":\"GlyphRenderer\"}]},\"id\":\"15a34af7-2fd3-4459-bdea-626eebcf11f4\",\"type\":\"LegendItem\"},{\"attributes\":{\"dimension\":1,\"plot\":{\"id\":\"8546305a-ec15-4af9-9121-ad6bbdfea18f\",\"subtype\":\"Figure\",\"type\":\"Plot\"},\"ticker\":{\"id\":\"400f16ab-a4d1-4999-9bfd-8441df27912f\",\"type\":\"BasicTicker\"}},\"id\":\"c095542a-7769-41bb-892c-e0995704bddc\",\"type\":\"Grid\"},{\"attributes\":{},\"id\":\"2c334832-7e26-45b9-b29f-0efce2a6cfeb\",\"type\":\"BasicTicker\"},{\"attributes\":{\"callback\":null,\"column_names\":[\"x\",\"y\"],\"data\":{\"x\":{\"__ndarray__\":\"agI9uxlBzz/PfNZO967PP9WIy7dfetA/vVjWBdUp0T9wKaVv69HRP+jcDolSbdI/LJpzlZP10j8MwO2m51/TPxxA4P3In9M/R3sXSoGg0z+Y13SxJ0nTP8+ldo4adtI//xOv9NL70D/qclKxlFnNP59SqQKD3sk/gUUb01WyzD9sUvrXLLbRP4djIzG91NM/Iok9OMj51D8F9ZCddRXXPwJO53G1odw/LWFMfrTt4z+/pwc/UHLqP+h4Fs5/+eo/m2PMn2c65j+5MaCLRJDhPyEB5edtCdw/heQJKeRv1j8puZqnAPnRPwVY3GbHGcw/Ud077oQsxT+YmcIYy9O9P+eNaEJg07Q/EjMwLxY/sD/sW6sSbCmrP/T/mECLUaU/LOjA6ZKuoD8J0Zs2VYqaPxKytNLyo4w/7l67ov70Wz+oieJAzSpyP1/DWhyYU5k/HKA7jg1HqT9U6cRxInKzP+ZsCRI+CLo/DO7/yudovj9AZDZtazDBP9gUZcJxEcM//XBnkbPRxD90oagiy7jGPxMhGoKI+cg/MkM+Q5Mfyz+eZEihbhjNP+Mo7cuh3s4/9Sf5KlxD0D/peXky5gvRP+mIEfxO19E/EIcZ2DIy0z/jOdcHxHHUP7k5MuJEbNU/X1/KRDoR1j/EA7EJvFXWPx3qFDewTdY/p5YIr7gT1j+dc6a/TbXVP3uuQgxsPNU/fXiWICOg1D9/ZlI7qrfTP5rMmWnSWNI/UtjBmF+T0D+oEPpfz1PNP1EpPImExsk/vz34Hmjkxj9NAJOOUSLFP+7C/+sWYMc/\",\"dtype\":\"float64\",\"shape\":[75]},\"y\":{\"__ndarray__\":\"S/O/Q+51ND/Sv8nbtpRIP2vylNV0PVE/aTum7souWD/At0SJ8fVgPw3Iuahxymc/MSNhhJWvcD/bTfBN02d3P2zb5nxnaoA/CD5h5MAGhz8NmeH1TyaQP+zrCsc9p5Y/LbKd76fGnz/bLW5ISEmmPww9YvTcQq8/JV2OstnstT8Er5Y7M8G+P0c+r3jqkcU/5h99k6ZBzj88bCIzFzjVP4enV8oyxN0//yH99nXg5D8qOpLLf0jtP5kqGJXUifQ/c9cS8kHP/D+/DpwzojQEQIEmwoanVwxA4lgXt9HgE0BSSZ2AJuIbQAMJih9jjiNA5q4l5INuK0AwTKYKRj0zQNv5fmq8/DpAaCJseHrtQkB/+zpwzoxKQM3MzMzMeFJAZmZmZmZqWEAAAAAAAFxeQM3MzMzMJmJAmpmZmZkfZUBmZmZmZhhoQDMzMzMzEWtAAAAAAAAKbkBmZmZmZoFwQM3MzMzM/XFAMzMzMzN6c0CamZmZmfZ0QAAAAAAAc3ZAZmZmZmbvd0DNzMzMzGt5QDMzMzMz6HpAmpmZmZlkfEAAAAAAAOF9QGZmZmZmXX9AZmZmZuZsgECamZmZGSuBQM3MzMxM6YFAAAAAAICngkAzMzMzs2WDQGZmZmbmI4RAmpmZmRnihEDNzMzMTKCFQAAAAACAXoZAMzMzM7Mch0BmZmZm5tqHQJqZmZkZmYhAzczMzExXiUAAAAAAgBWKQDMzMzOz04pAZmZmZuaRi0CamZmZGVCMQM3MzMxMDo1AAAAAAIDMjUAzMzMzs4qOQGZmZmbmSI9A\",\"dtype\":\"float64\",\"shape\":[75]}}},\"id\":\"f6d95ab7-2bd7-44ef-805a-b770f43ca6e9\",\"type\":\"ColumnDataSource\"},{\"attributes\":{},\"id\":\"bc8749ae-fc05-42b3-a107-c8df48685b66\",\"type\":\"LinearScale\"},{\"attributes\":{\"data_source\":{\"id\":\"8fddcba4-f81d-4550-89bc-4443797b12e2\",\"type\":\"ColumnDataSource\"},\"glyph\":{\"id\":\"903a1142-fe4f-46e1-ab6d-f1ba782cb845\",\"type\":\"Line\"},\"hover_glyph\":null,\"muted_glyph\":null,\"nonselection_glyph\":{\"id\":\"61a77526-a0c2-484c-a286-71c197cb41db\",\"type\":\"Line\"},\"selection_glyph\":null,\"view\":{\"id\":\"4caf83d0-0508-4d12-8441-4cc40c1575da\",\"type\":\"CDSView\"}},\"id\":\"e5886c9a-311e-40be-ae66-7f9df8ddbbc5\",\"type\":\"GlyphRenderer\"},{\"attributes\":{},\"id\":\"603dd73f-359e-48ef-8b32-be0bedd842c5\",\"type\":\"ResetTool\"},{\"attributes\":{\"data_source\":{\"id\":\"3743182d-3e33-4864-a769-c7c8b919c051\",\"type\":\"ColumnDataSource\"},\"glyph\":{\"id\":\"aed8aa8e-894a-4168-965c-d37bd1085d2d\",\"type\":\"Line\"},\"hover_glyph\":null,\"muted_glyph\":null,\"nonselection_glyph\":{\"id\":\"f4bbbebf-ca1f-452c-992a-bd6aadd0a12c\",\"type\":\"Line\"},\"selection_glyph\":null,\"view\":{\"id\":\"302c7789-5cd9-44cf-834e-ef6e842719ac\",\"type\":\"CDSView\"}},\"id\":\"d72d48af-65d8-49b7-a1ad-ca4d98a68208\",\"type\":\"GlyphRenderer\"},{\"attributes\":{\"callback\":null,\"end\":0.01,\"start\":1020},\"id\":\"c737183d-1e81-4da2-a054-8fed084d6166\",\"type\":\"Range1d\"},{\"attributes\":{},\"id\":\"c615d722-8b03-4bc3-a67d-bf41c0b98d9b\",\"type\":\"SaveTool\"},{\"attributes\":{\"callback\":null,\"column_names\":[\"x\",\"y\"],\"data\":{\"x\":{\"__ndarray__\":\"nluNkZGY2j/OtJKQJ03aP1/olduL4to/IL9tXLVh2z9FeKSPM6zbP2ckhD+qvts/Z3lg+G972z9XI/3uBNjaP+yhv8iyvdk/wlpK0D4a2D8NObaeIdzVPx0YSGmZ+dI/Hcua3BjQzj90gi7IMzvGP7mr9GYWmb8/doig5rvGwT8VdjDm16TJP8Xi3MsiudA/f4XMlUE11T+070BTZQ7bP0PHUEZDg+E/dazWskpj5z88gIeaz7btPxTAICvwPO0/Jtmwx8AR5z+xu+WPDnThP2H7yRgfJto/9R+I4kSq0z945Juvip7OP7XcPlATosg/jldiliRswz9v9gfKbfu8P5av/uFE+rU/KtJdD6+2sT/rIBykwRyrP+Oji245bqI/Wj8AIFw+mj/0E+98FraUP5Bx8EWurYU/rwGTW+tDNT9oQ/10HDRxP32rLAy8U5o/AaEH1CGLqj8YKRUGxYy0P6Ja6Vog5rs/1QRR9wFIwD+WBfJwK1LCP9NP9p7jhsQ/MS5N+ELUxj/GHhRzlCzJP5zJL2qUgcs/UsDR6dRwzT9jey3ovTHPP6xnMUZeddA/O4PQiyRL0T93taLufxfSP01URo4629I/EbZMRMcn1D+SeQUe70DVP7Z0NxXK/tU/FY7/hnlk1j9ZNs4B3XLWP1fBudCmNNY/CQg5MRy21T9qki/TvATVP7uB4eD7MNQ/J1Y+slZA0z92DWVu3x/SP4BWqlUFtNA/2KCKdnALzj8eohM6lpTKP2wTm01Pccc/kaC2FRTpxD+w7HpQ7V/DP///5mJf9MU/\",\"dtype\":\"float64\",\"shape\":[75]},\"y\":{\"__ndarray__\":\"GhExyth1ND/Sv8nbtpRIP2vylNV0PVE/aTum7souWD/At0SJ8fVgPw3Iuahxymc/MSNhhJWvcD/bTfBN02d3P2zb5nxnaoA/CD5h5MAGhz8NmeH1TyaQP+zrCsc9p5Y/LbKd76fGnz/bLW5ISEmmPww9YvTcQq8/JV2OstnstT8Er5Y7M8G+P0c+r3jqkcU/5h99k6ZBzj88bCIzFzjVP4enV8oyxN0//yH99nXg5D8qOpLLf0jtP5kqGJXUifQ/c9cS8kHP/D+/DpwzojQEQIEmwoanVwxA4lgXt9HgE0BSSZ2AJuIbQAMJih9jjiNA5q4l5INuK0AwTKYKRj0zQNv5fmq8/DpAaCJseHrtQkB/+zpwzoxKQM3MzMzMeFJAZmZmZmZqWEAAAAAAAFxeQM3MzMzMJmJAmpmZmZkfZUBmZmZmZhhoQDMzMzMzEWtAAAAAAAAKbkBmZmZmZoFwQM3MzMzM/XFAMzMzMzN6c0CamZmZmfZ0QAAAAAAAc3ZAZmZmZmbvd0DNzMzMzGt5QDMzMzMz6HpAmpmZmZlkfEAAAAAAAOF9QGZmZmZmXX9AZmZmZuZsgECamZmZGSuBQM3MzMxM6YFAAAAAAICngkAzMzMzs2WDQGZmZmbmI4RAmpmZmRnihEDNzMzMTKCFQAAAAACAXoZAMzMzM7Mch0BmZmZm5tqHQJqZmZkZmYhAzczMzExXiUAAAAAAgBWKQDMzMzOz04pAZmZmZuaRi0CamZmZGVCMQM3MzMxMDo1AAAAAAIDMjUAzMzMzs4qOQGZmZmbmSI9A\",\"dtype\":\"float64\",\"shape\":[75]}}},\"id\":\"7596f13b-31dc-4e18-93f0-af3d15ecd942\",\"type\":\"ColumnDataSource\"},{\"attributes\":{\"overlay\":{\"id\":\"56e446cb-be1c-4d27-8de1-5079072357d9\",\"type\":\"BoxAnnotation\"}},\"id\":\"cb4dfd4c-655c-453f-b97b-67c4490f59e5\",\"type\":\"BoxZoomTool\"},{\"attributes\":{\"callback\":null,\"column_names\":[\"x\",\"y\"],\"data\":{\"x\":{\"__ndarray__\":\"agI9uxlBzz/PfNZO967PP9WIy7dfetA/vVjWBdUp0T9wKaVv69HRP+jcDolSbdI/LJpzlZP10j8MwO2m51/TPxxA4P3In9M/R3sXSoGg0z+Y13SxJ0nTP8+ldo4adtI//xOv9NL70D/qclKxlFnNP59SqQKD3sk/gUUb01WyzD9sUvrXLLbRP4djIzG91NM/Iok9OMj51D8F9ZCddRXXPwJO53G1odw/LWFMfrTt4z+/pwc/UHLqP+h4Fs5/+eo/m2PMn2c65j+5MaCLRJDhPyEB5edtCdw/heQJKeRv1j8puZqnAPnRPwVY3GbHGcw/Ud077oQsxT+YmcIYy9O9P+eNaEJg07Q/EjMwLxY/sD/sW6sSbCmrP/T/mECLUaU/LOjA6ZKuoD8J0Zs2VYqaPxKytNLyo4w/7l67ov70Wz+oieJAzSpyP1/DWhyYU5k/HKA7jg1HqT9U6cRxInKzP+ZsCRI+CLo/DO7/yudovj9AZDZtazDBP9gUZcJxEcM//XBnkbPRxD90oagiy7jGPxMhGoKI+cg/MkM+Q5Mfyz+eZEihbhjNP+Mo7cuh3s4/9Sf5KlxD0D/peXky5gvRP+mIEfxO19E/EIcZ2DIy0z/jOdcHxHHUP7k5MuJEbNU/X1/KRDoR1j/EA7EJvFXWPx3qFDewTdY/p5YIr7gT1j+dc6a/TbXVP3uuQgxsPNU/fXiWICOg1D9/ZlI7qrfTP5rMmWnSWNI/UtjBmF+T0D+oEPpfz1PNP1EpPImExsk/vz34Hmjkxj9NAJOOUSLFP+7C/+sWYMc/\",\"dtype\":\"float64\",\"shape\":[75]},\"y\":{\"__ndarray__\":\"S/O/Q+51ND/Sv8nbtpRIP2vylNV0PVE/aTum7souWD/At0SJ8fVgPw3Iuahxymc/MSNhhJWvcD/bTfBN02d3P2zb5nxnaoA/CD5h5MAGhz8NmeH1TyaQP+zrCsc9p5Y/LbKd76fGnz/bLW5ISEmmPww9YvTcQq8/JV2OstnstT8Er5Y7M8G+P0c+r3jqkcU/5h99k6ZBzj88bCIzFzjVP4enV8oyxN0//yH99nXg5D8qOpLLf0jtP5kqGJXUifQ/c9cS8kHP/D+/DpwzojQEQIEmwoanVwxA4lgXt9HgE0BSSZ2AJuIbQAMJih9jjiNA5q4l5INuK0AwTKYKRj0zQNv5fmq8/DpAaCJseHrtQkB/+zpwzoxKQM3MzMzMeFJAZmZmZmZqWEAAAAAAAFxeQM3MzMzMJmJAmpmZmZkfZUBmZmZmZhhoQDMzMzMzEWtAAAAAAAAKbkBmZmZmZoFwQM3MzMzM/XFAMzMzMzN6c0CamZmZmfZ0QAAAAAAAc3ZAZmZmZmbvd0DNzMzMzGt5QDMzMzMz6HpAmpmZmZlkfEAAAAAAAOF9QGZmZmZmXX9AZmZmZuZsgECamZmZGSuBQM3MzMxM6YFAAAAAAICngkAzMzMzs2WDQGZmZmbmI4RAmpmZmRnihEDNzMzMTKCFQAAAAACAXoZAMzMzM7Mch0BmZmZm5tqHQJqZmZkZmYhAzczMzExXiUAAAAAAgBWKQDMzMzOz04pAZmZmZuaRi0CamZmZGVCMQM3MzMxMDo1AAAAAAIDMjUAzMzMzs4qOQGZmZmbmSI9A\",\"dtype\":\"float64\",\"shape\":[75]}}},\"id\":\"8fddcba4-f81d-4550-89bc-4443797b12e2\",\"type\":\"ColumnDataSource\"},{\"attributes\":{\"callback\":null,\"column_names\":[\"x\",\"y\"],\"data\":{\"x\":{\"__ndarray__\":\"nluNkZGY2j/OtJKQJ03aP1/olduL4to/IL9tXLVh2z9FeKSPM6zbP2ckhD+qvts/Z3lg+G972z9XI/3uBNjaP+yhv8iyvdk/wlpK0D4a2D8NObaeIdzVPx0YSGmZ+dI/Hcua3BjQzj90gi7IMzvGP7mr9GYWmb8/doig5rvGwT8VdjDm16TJP8Xi3MsiudA/f4XMlUE11T+070BTZQ7bP0PHUEZDg+E/dazWskpj5z88gIeaz7btPxTAICvwPO0/Jtmwx8AR5z+xu+WPDnThP2H7yRgfJto/9R+I4kSq0z945Juvip7OP7XcPlATosg/jldiliRswz9v9gfKbfu8P5av/uFE+rU/KtJdD6+2sT/rIBykwRyrP+Oji245bqI/Wj8AIFw+mj/0E+98FraUP5Bx8EWurYU/rwGTW+tDNT9oQ/10HDRxP32rLAy8U5o/AaEH1CGLqj8YKRUGxYy0P6Ja6Vog5rs/1QRR9wFIwD+WBfJwK1LCP9NP9p7jhsQ/MS5N+ELUxj/GHhRzlCzJP5zJL2qUgcs/UsDR6dRwzT9jey3ovTHPP6xnMUZeddA/O4PQiyRL0T93taLufxfSP01URo4629I/EbZMRMcn1D+SeQUe70DVP7Z0NxXK/tU/FY7/hnlk1j9ZNs4B3XLWP1fBudCmNNY/CQg5MRy21T9qki/TvATVP7uB4eD7MNQ/J1Y+slZA0z92DWVu3x/SP4BWqlUFtNA/2KCKdnALzj8eohM6lpTKP2wTm01Pccc/kaC2FRTpxD+w7HpQ7V/DP///5mJf9MU/\",\"dtype\":\"float64\",\"shape\":[75]},\"y\":{\"__ndarray__\":\"GhExyth1ND/Sv8nbtpRIP2vylNV0PVE/aTum7souWD/At0SJ8fVgPw3Iuahxymc/MSNhhJWvcD/bTfBN02d3P2zb5nxnaoA/CD5h5MAGhz8NmeH1TyaQP+zrCsc9p5Y/LbKd76fGnz/bLW5ISEmmPww9YvTcQq8/JV2OstnstT8Er5Y7M8G+P0c+r3jqkcU/5h99k6ZBzj88bCIzFzjVP4enV8oyxN0//yH99nXg5D8qOpLLf0jtP5kqGJXUifQ/c9cS8kHP/D+/DpwzojQEQIEmwoanVwxA4lgXt9HgE0BSSZ2AJuIbQAMJih9jjiNA5q4l5INuK0AwTKYKRj0zQNv5fmq8/DpAaCJseHrtQkB/+zpwzoxKQM3MzMzMeFJAZmZmZmZqWEAAAAAAAFxeQM3MzMzMJmJAmpmZmZkfZUBmZmZmZhhoQDMzMzMzEWtAAAAAAAAKbkBmZmZmZoFwQM3MzMzM/XFAMzMzMzN6c0CamZmZmfZ0QAAAAAAAc3ZAZmZmZmbvd0DNzMzMzGt5QDMzMzMz6HpAmpmZmZlkfEAAAAAAAOF9QGZmZmZmXX9AZmZmZuZsgECamZmZGSuBQM3MzMxM6YFAAAAAAICngkAzMzMzs2WDQGZmZmbmI4RAmpmZmRnihEDNzMzMTKCFQAAAAACAXoZAMzMzM7Mch0BmZmZm5tqHQJqZmZkZmYhAzczMzExXiUAAAAAAgBWKQDMzMzOz04pAZmZmZuaRi0CamZmZGVCMQM3MzMxMDo1AAAAAAIDMjUAzMzMzs4qOQGZmZmbmSI9A\",\"dtype\":\"float64\",\"shape\":[75]}}},\"id\":\"d1e90445-b8c4-446e-a9ed-129f46e8337c\",\"type\":\"ColumnDataSource\"},{\"attributes\":{},\"id\":\"38eec991-0120-4038-a268-434adc8f55e0\",\"type\":\"WheelZoomTool\"},{\"attributes\":{\"data_source\":{\"id\":\"7596f13b-31dc-4e18-93f0-af3d15ecd942\",\"type\":\"ColumnDataSource\"},\"glyph\":{\"id\":\"743cf3b6-17f6-4de9-b97e-6f3aab111a5e\",\"type\":\"Circle\"},\"hover_glyph\":null,\"muted_glyph\":null,\"nonselection_glyph\":{\"id\":\"6844b976-b844-48f2-a78b-54c8e499cff5\",\"type\":\"Circle\"},\"selection_glyph\":null,\"view\":{\"id\":\"3ae2bebc-0ad2-47a9-818a-eb254db2a683\",\"type\":\"CDSView\"}},\"id\":\"9f3cb60e-921f-4e3b-bf61-1ba975473a5e\",\"type\":\"GlyphRenderer\"},{\"attributes\":{\"callback\":null,\"end\":0.01,\"start\":1020},\"id\":\"afe88aeb-c1ac-4eab-ac0a-5c11c5f476e8\",\"type\":\"Range1d\"},{\"attributes\":{},\"id\":\"958e39ba-1cf7-4002-8814-41ab3f3220e6\",\"type\":\"LogScale\"},{\"attributes\":{},\"id\":\"4477bf44-bf1d-4241-93f1-5e85e97b79cc\",\"type\":\"HelpTool\"},{\"attributes\":{\"axis_label\":\"pressure [mb]\",\"formatter\":{\"id\":\"49bce2b7-a62f-4c18-9af1-c5ca293c3f55\",\"type\":\"BasicTickFormatter\"},\"plot\":{\"id\":\"8546305a-ec15-4af9-9121-ad6bbdfea18f\",\"subtype\":\"Figure\",\"type\":\"Plot\"},\"ticker\":{\"id\":\"400f16ab-a4d1-4999-9bfd-8441df27912f\",\"type\":\"BasicTicker\"}},\"id\":\"7b4b31de-0647-4531-ad29-15b270524d94\",\"type\":\"LinearAxis\"},{\"attributes\":{\"source\":{\"id\":\"3743182d-3e33-4864-a769-c7c8b919c051\",\"type\":\"ColumnDataSource\"}},\"id\":\"302c7789-5cd9-44cf-834e-ef6e842719ac\",\"type\":\"CDSView\"},{\"attributes\":{},\"id\":\"2de38fc1-0433-4ca8-abfc-288742729dd4\",\"type\":\"LinearScale\"},{\"attributes\":{\"label\":{\"value\":\"CRD\"},\"renderers\":[{\"id\":\"4f548674-a538-41db-9714-24b71e62e9f2\",\"type\":\"GlyphRenderer\"},{\"id\":\"992f3ba2-48f8-4821-ac22-7a36ca05e2ff\",\"type\":\"GlyphRenderer\"}]},\"id\":\"8b929fad-0b13-454a-a469-ad6a239e1196\",\"type\":\"LegendItem\"},{\"attributes\":{\"fill_alpha\":{\"value\":0.7},\"fill_color\":{\"value\":\"#4daf4a\"},\"line_alpha\":{\"value\":0.7},\"line_color\":{\"value\":\"#4daf4a\"},\"x\":{\"field\":\"x\"},\"y\":{\"field\":\"y\"}},\"id\":\"743cf3b6-17f6-4de9-b97e-6f3aab111a5e\",\"type\":\"Circle\"},{\"attributes\":{\"fill_alpha\":{\"value\":0.7},\"fill_color\":{\"value\":\"#4daf4a\"},\"line_alpha\":{\"value\":0.7},\"line_color\":{\"value\":\"#4daf4a\"},\"x\":{\"field\":\"x\"},\"y\":{\"field\":\"y\"}},\"id\":\"88f0b920-321c-4c3f-8304-93275e59e8e2\",\"type\":\"Circle\"},{\"attributes\":{\"fill_alpha\":{\"value\":0.1},\"fill_color\":{\"value\":\"#1f77b4\"},\"line_alpha\":{\"value\":0.1},\"line_color\":{\"value\":\"#1f77b4\"},\"x\":{\"field\":\"x\"},\"y\":{\"field\":\"y\"}},\"id\":\"a1c2b963-0f6f-496b-8d75-e722dacc470b\",\"type\":\"Square\"},{\"attributes\":{\"below\":[{\"id\":\"c1848c0f-7ef5-44ac-8b84-d404516008a5\",\"type\":\"LinearAxis\"}],\"left\":[{\"id\":\"7c99958d-c853-41f7-93d6-8ae352d0a1a2\",\"type\":\"LogAxis\"}],\"plot_height\":500,\"plot_width\":560,\"renderers\":[{\"id\":\"c1848c0f-7ef5-44ac-8b84-d404516008a5\",\"type\":\"LinearAxis\"},{\"id\":\"51557e5e-baf1-48b4-891d-8b48e6c51ca7\",\"type\":\"Grid\"},{\"id\":\"7c99958d-c853-41f7-93d6-8ae352d0a1a2\",\"type\":\"LogAxis\"},{\"id\":\"346dc259-6137-49c8-a0eb-02028297d165\",\"type\":\"Grid\"},{\"id\":\"56e446cb-be1c-4d27-8de1-5079072357d9\",\"type\":\"BoxAnnotation\"},{\"id\":\"00456f81-5962-4d68-9871-9545607caab1\",\"type\":\"GlyphRenderer\"},{\"id\":\"4f548674-a538-41db-9714-24b71e62e9f2\",\"type\":\"GlyphRenderer\"},{\"id\":\"992f3ba2-48f8-4821-ac22-7a36ca05e2ff\",\"type\":\"GlyphRenderer\"},{\"id\":\"4ae5bd68-9ca3-4461-bf7a-b628db20ba78\",\"type\":\"GlyphRenderer\"},{\"id\":\"ae1d582d-8873-4251-a065-c196eee6425a\",\"type\":\"GlyphRenderer\"},{\"id\":\"05578b94-fb52-4925-b1a3-899aea61f2b8\",\"type\":\"Legend\"}],\"right\":[{\"id\":\"05578b94-fb52-4925-b1a3-899aea61f2b8\",\"type\":\"Legend\"}],\"title\":{\"id\":\"3a36c830-d57f-4f8c-b678-b110d55914f7\",\"type\":\"Title\"},\"toolbar\":{\"id\":\"c66fdb9c-e024-47fa-a530-49a33da2b05b\",\"type\":\"Toolbar\"},\"toolbar_location\":null,\"x_range\":{\"id\":\"0149fc74-ed96-409d-bf36-da688a04296b\",\"type\":\"Range1d\"},\"x_scale\":{\"id\":\"bc8749ae-fc05-42b3-a107-c8df48685b66\",\"type\":\"LinearScale\"},\"y_range\":{\"id\":\"c737183d-1e81-4da2-a054-8fed084d6166\",\"type\":\"Range1d\"},\"y_scale\":{\"id\":\"958e39ba-1cf7-4002-8814-41ab3f3220e6\",\"type\":\"LogScale\"}},\"id\":\"35e13e62-a297-4934-b039-59b756703bff\",\"subtype\":\"Figure\",\"type\":\"Plot\"},{\"attributes\":{\"axis_label\":\"cooling rate [K/day]\",\"formatter\":{\"id\":\"c4d5f0ca-95c2-4e02-94ac-4b0e8a605ed9\",\"type\":\"BasicTickFormatter\"},\"plot\":{\"id\":\"8546305a-ec15-4af9-9121-ad6bbdfea18f\",\"subtype\":\"Figure\",\"type\":\"Plot\"},\"ticker\":{\"id\":\"9e3e2f4d-b328-4668-a011-9448428b6f3b\",\"type\":\"BasicTicker\"}},\"id\":\"6711e63e-ddea-461b-90b2-51bc2712dfd3\",\"type\":\"LinearAxis\"}],\"root_ids\":[\"ad847109-309d-4a6d-8911-4e7c9bbb3693\"]},\"title\":\"Bokeh Application\",\"version\":\"0.12.14\"}};\n",
       "  var render_items = [{\"docid\":\"76d5769a-8d5e-4c48-ab19-f38812ecf373\",\"elementid\":\"272a0626-7b2e-4029-8580-6da07a3e9bf0\",\"modelid\":\"ad847109-309d-4a6d-8911-4e7c9bbb3693\"}];\n",
       "  root.Bokeh.embed.embed_items_notebook(docs_json, render_items);\n",
       "\n",
       "  }\n",
       "  if (root.Bokeh !== undefined) {\n",
       "    embed_document(root);\n",
       "  } else {\n",
       "    var attempts = 0;\n",
       "    var timer = setInterval(function(root) {\n",
       "      if (root.Bokeh !== undefined) {\n",
       "        embed_document(root);\n",
       "        clearInterval(timer);\n",
       "      }\n",
       "      attempts++;\n",
       "      if (attempts > 100) {\n",
       "        console.log(\"Bokeh: ERROR: Unable to run BokehJS code because BokehJS library is missing\")\n",
       "        clearInterval(timer);\n",
       "      }\n",
       "    }, 10, root)\n",
       "  }\n",
       "})(window);"
      ],
      "application/vnd.bokehjs_exec.v0+json": ""
     },
     "metadata": {
      "application/vnd.bokehjs_exec.v0+json": {
       "id": "ad847109-309d-4a6d-8911-4e7c9bbb3693"
      }
     },
     "output_type": "display_data"
    },
    {
     "name": "stdout",
     "output_type": "stream",
     "text": [
      "FIGURE. Cooling rate profiles.\n"
     ]
    },
    {
     "data": {
      "text/html": [
       "<a id=\"Flux_Comparison\"></a>"
      ],
      "text/plain": [
       "<IPython.core.display.HTML object>"
      ]
     },
     "metadata": {},
     "output_type": "display_data"
    },
    {
     "data": {
      "text/markdown": [
       "# Flux Comparison"
      ],
      "text/plain": [
       "<IPython.core.display.Markdown object>"
      ]
     },
     "metadata": {},
     "output_type": "display_data"
    },
    {
     "data": {
      "text/html": [
       "<div>\n",
       "<style>\n",
       "    .dataframe thead tr:only-child th {\n",
       "        text-align: right;\n",
       "    }\n",
       "\n",
       "    .dataframe thead th {\n",
       "        text-align: left;\n",
       "    }\n",
       "\n",
       "    .dataframe tbody tr th {\n",
       "        vertical-align: top;\n",
       "    }\n",
       "</style>\n",
       "<table border=\"1\" class=\"dataframe\">\n",
       "  <thead>\n",
       "    <tr style=\"text-align: right;\">\n",
       "      <th></th>\n",
       "      <th></th>\n",
       "      <th>flug</th>\n",
       "      <th>fldg</th>\n",
       "      <th>fnetg</th>\n",
       "    </tr>\n",
       "    <tr>\n",
       "      <th>pressure</th>\n",
       "      <th>level</th>\n",
       "      <th></th>\n",
       "      <th></th>\n",
       "      <th></th>\n",
       "    </tr>\n",
       "  </thead>\n",
       "  <tbody>\n",
       "    <tr>\n",
       "      <th>0.0000</th>\n",
       "      <th>1</th>\n",
       "      <td>-24.998405</td>\n",
       "      <td>0.000000</td>\n",
       "      <td>-24.998405</td>\n",
       "    </tr>\n",
       "    <tr>\n",
       "      <th>1.0685</th>\n",
       "      <th>24</th>\n",
       "      <td>-25.001253</td>\n",
       "      <td>0.074163</td>\n",
       "      <td>-24.927090</td>\n",
       "    </tr>\n",
       "    <tr>\n",
       "      <th>1013.0000</th>\n",
       "      <th>76</th>\n",
       "      <td>-36.235408</td>\n",
       "      <td>34.200482</td>\n",
       "      <td>-2.034926</td>\n",
       "    </tr>\n",
       "  </tbody>\n",
       "</table>\n",
       "</div>"
      ],
      "text/plain": [
       "                      flug       fldg      fnetg\n",
       "pressure  level                                 \n",
       "0.0000    1     -24.998405   0.000000 -24.998405\n",
       "1.0685    24    -25.001253   0.074163 -24.927090\n",
       "1013.0000 76    -36.235408  34.200482  -2.034926"
      ]
     },
     "metadata": {},
     "output_type": "display_data"
    },
    {
     "name": "stdout",
     "output_type": "stream",
     "text": [
      "Table. Fluxes. WGT igg=10 wgt_flux=1\n"
     ]
    },
    {
     "data": {
      "text/html": [
       "<div>\n",
       "<style>\n",
       "    .dataframe thead tr:only-child th {\n",
       "        text-align: right;\n",
       "    }\n",
       "\n",
       "    .dataframe thead th {\n",
       "        text-align: left;\n",
       "    }\n",
       "\n",
       "    .dataframe tbody tr th {\n",
       "        vertical-align: top;\n",
       "    }\n",
       "</style>\n",
       "<table border=\"1\" class=\"dataframe\">\n",
       "  <thead>\n",
       "    <tr style=\"text-align: right;\">\n",
       "      <th></th>\n",
       "      <th></th>\n",
       "      <th>flug</th>\n",
       "      <th>fldg</th>\n",
       "      <th>fnetg</th>\n",
       "    </tr>\n",
       "    <tr>\n",
       "      <th>pressure</th>\n",
       "      <th>level</th>\n",
       "      <th></th>\n",
       "      <th></th>\n",
       "      <th></th>\n",
       "    </tr>\n",
       "  </thead>\n",
       "  <tbody>\n",
       "    <tr>\n",
       "      <th>0.0000</th>\n",
       "      <th>1</th>\n",
       "      <td>-24.876840</td>\n",
       "      <td>0.000000</td>\n",
       "      <td>-24.876840</td>\n",
       "    </tr>\n",
       "    <tr>\n",
       "      <th>1.0685</th>\n",
       "      <th>24</th>\n",
       "      <td>-24.880528</td>\n",
       "      <td>0.080327</td>\n",
       "      <td>-24.800201</td>\n",
       "    </tr>\n",
       "    <tr>\n",
       "      <th>1013.0000</th>\n",
       "      <th>76</th>\n",
       "      <td>-36.235408</td>\n",
       "      <td>34.688214</td>\n",
       "      <td>-1.547194</td>\n",
       "    </tr>\n",
       "  </tbody>\n",
       "</table>\n",
       "</div>"
      ],
      "text/plain": [
       "                      flug       fldg      fnetg\n",
       "pressure  level                                 \n",
       "0.0000    1     -24.876840   0.000000 -24.876840\n",
       "1.0685    24    -24.880528   0.080327 -24.800201\n",
       "1013.0000 76    -36.235408  34.688214  -1.547194"
      ]
     },
     "metadata": {},
     "output_type": "display_data"
    },
    {
     "name": "stdout",
     "output_type": "stream",
     "text": [
      "Table. Fluxes. CRD\n"
     ]
    },
    {
     "data": {
      "text/html": [
       "<div>\n",
       "<style>\n",
       "    .dataframe thead tr:only-child th {\n",
       "        text-align: right;\n",
       "    }\n",
       "\n",
       "    .dataframe thead th {\n",
       "        text-align: left;\n",
       "    }\n",
       "\n",
       "    .dataframe tbody tr th {\n",
       "        vertical-align: top;\n",
       "    }\n",
       "</style>\n",
       "<table border=\"1\" class=\"dataframe\">\n",
       "  <thead>\n",
       "    <tr style=\"text-align: right;\">\n",
       "      <th></th>\n",
       "      <th></th>\n",
       "      <th>flug</th>\n",
       "      <th>fldg</th>\n",
       "      <th>fnetg</th>\n",
       "    </tr>\n",
       "    <tr>\n",
       "      <th>pressure</th>\n",
       "      <th>level</th>\n",
       "      <th></th>\n",
       "      <th></th>\n",
       "      <th></th>\n",
       "    </tr>\n",
       "  </thead>\n",
       "  <tbody>\n",
       "    <tr>\n",
       "      <th>1.000000e-08</th>\n",
       "      <th>1</th>\n",
       "      <td>-25.174477</td>\n",
       "      <td>0.000002</td>\n",
       "      <td>-25.174475</td>\n",
       "    </tr>\n",
       "    <tr>\n",
       "      <th>1.068500e+00</th>\n",
       "      <th>24</th>\n",
       "      <td>-25.176508</td>\n",
       "      <td>0.070563</td>\n",
       "      <td>-25.105945</td>\n",
       "    </tr>\n",
       "    <tr>\n",
       "      <th>1.013000e+03</th>\n",
       "      <th>76</th>\n",
       "      <td>-36.235410</td>\n",
       "      <td>34.392637</td>\n",
       "      <td>-1.842773</td>\n",
       "    </tr>\n",
       "  </tbody>\n",
       "</table>\n",
       "</div>"
      ],
      "text/plain": [
       "                         flug       fldg      fnetg\n",
       "pressure     level                                 \n",
       "1.000000e-08 1     -25.174477   0.000002 -25.174475\n",
       "1.068500e+00 24    -25.176508   0.070563 -25.105945\n",
       "1.013000e+03 76    -36.235410  34.392637  -1.842773"
      ]
     },
     "metadata": {},
     "output_type": "display_data"
    },
    {
     "name": "stdout",
     "output_type": "stream",
     "text": [
      "Table. Fluxes. CLIRAD\n"
     ]
    },
    {
     "data": {
      "text/html": [
       "<div>\n",
       "<style>\n",
       "    .dataframe thead tr:only-child th {\n",
       "        text-align: right;\n",
       "    }\n",
       "\n",
       "    .dataframe thead th {\n",
       "        text-align: left;\n",
       "    }\n",
       "\n",
       "    .dataframe tbody tr th {\n",
       "        vertical-align: top;\n",
       "    }\n",
       "</style>\n",
       "<table border=\"1\" class=\"dataframe\">\n",
       "  <thead>\n",
       "    <tr style=\"text-align: right;\">\n",
       "      <th></th>\n",
       "      <th></th>\n",
       "      <th>flug</th>\n",
       "      <th>fldg</th>\n",
       "      <th>fnetg</th>\n",
       "    </tr>\n",
       "    <tr>\n",
       "      <th>pressure</th>\n",
       "      <th>level</th>\n",
       "      <th></th>\n",
       "      <th></th>\n",
       "      <th></th>\n",
       "    </tr>\n",
       "  </thead>\n",
       "  <tbody>\n",
       "    <tr>\n",
       "      <th>0.0000</th>\n",
       "      <th>1</th>\n",
       "      <td>0.121565</td>\n",
       "      <td>0.000000</td>\n",
       "      <td>0.121565</td>\n",
       "    </tr>\n",
       "    <tr>\n",
       "      <th>1.0685</th>\n",
       "      <th>24</th>\n",
       "      <td>0.120725</td>\n",
       "      <td>0.006164</td>\n",
       "      <td>0.126889</td>\n",
       "    </tr>\n",
       "    <tr>\n",
       "      <th>1013.0000</th>\n",
       "      <th>76</th>\n",
       "      <td>0.000000</td>\n",
       "      <td>0.487732</td>\n",
       "      <td>0.487732</td>\n",
       "    </tr>\n",
       "  </tbody>\n",
       "</table>\n",
       "</div>"
      ],
      "text/plain": [
       "                     flug      fldg     fnetg\n",
       "pressure  level                              \n",
       "0.0000    1      0.121565  0.000000  0.121565\n",
       "1.0685    24     0.120725  0.006164  0.126889\n",
       "1013.0000 76     0.000000  0.487732  0.487732"
      ]
     },
     "metadata": {},
     "output_type": "display_data"
    },
    {
     "name": "stdout",
     "output_type": "stream",
     "text": [
      "Table. Fluxes. (CRD) - (WGT igg=10 wgt_flux=1)\n"
     ]
    },
    {
     "data": {
      "text/html": [
       "<div>\n",
       "<style>\n",
       "    .dataframe thead tr:only-child th {\n",
       "        text-align: right;\n",
       "    }\n",
       "\n",
       "    .dataframe thead th {\n",
       "        text-align: left;\n",
       "    }\n",
       "\n",
       "    .dataframe tbody tr th {\n",
       "        vertical-align: top;\n",
       "    }\n",
       "</style>\n",
       "<table border=\"1\" class=\"dataframe\">\n",
       "  <thead>\n",
       "    <tr style=\"text-align: right;\">\n",
       "      <th></th>\n",
       "      <th></th>\n",
       "      <th>flug</th>\n",
       "      <th>fldg</th>\n",
       "      <th>fnetg</th>\n",
       "    </tr>\n",
       "    <tr>\n",
       "      <th>pressure</th>\n",
       "      <th>level</th>\n",
       "      <th></th>\n",
       "      <th></th>\n",
       "      <th></th>\n",
       "    </tr>\n",
       "  </thead>\n",
       "  <tbody>\n",
       "    <tr>\n",
       "      <th>0.0000</th>\n",
       "      <th>1</th>\n",
       "      <td>-0.176072</td>\n",
       "      <td>0.000002</td>\n",
       "      <td>-0.176070</td>\n",
       "    </tr>\n",
       "    <tr>\n",
       "      <th>1.0685</th>\n",
       "      <th>24</th>\n",
       "      <td>-0.175255</td>\n",
       "      <td>-0.003600</td>\n",
       "      <td>-0.178855</td>\n",
       "    </tr>\n",
       "    <tr>\n",
       "      <th>1013.0000</th>\n",
       "      <th>76</th>\n",
       "      <td>-0.000002</td>\n",
       "      <td>0.192155</td>\n",
       "      <td>0.192153</td>\n",
       "    </tr>\n",
       "  </tbody>\n",
       "</table>\n",
       "</div>"
      ],
      "text/plain": [
       "                     flug      fldg     fnetg\n",
       "pressure  level                              \n",
       "0.0000    1     -0.176072  0.000002 -0.176070\n",
       "1.0685    24    -0.175255 -0.003600 -0.178855\n",
       "1013.0000 76    -0.000002  0.192155  0.192153"
      ]
     },
     "metadata": {},
     "output_type": "display_data"
    },
    {
     "name": "stdout",
     "output_type": "stream",
     "text": [
      "Table. Fluxes. (CLIRAD) - (WGT igg=10 wgt_flux=1)\n"
     ]
    },
    {
     "data": {
      "text/html": [
       "<a id=\"Best-fit_Parameters\"></a>"
      ],
      "text/plain": [
       "<IPython.core.display.HTML object>"
      ]
     },
     "metadata": {},
     "output_type": "display_data"
    },
    {
     "data": {
      "text/markdown": [
       "# Best-fit Parameters"
      ],
      "text/plain": [
       "<IPython.core.display.Markdown object>"
      ]
     },
     "metadata": {},
     "output_type": "display_data"
    },
    {
     "name": "stdout",
     "output_type": "stream",
     "text": [
      "Best-fit values for each (gas, band)\n",
      "------------------------------------\n",
      "o co2 band3a\n",
      "  atmpro = mls\n",
      "  band = 3a\n",
      "  commitnumber = 2bd1f75\n",
      "  conc = 0.0004\n",
      "  dv = 0.01\n",
      "  klin = 6.375563e-24\n",
      "  molecule = co2\n",
      "  ng_adju = [0, 0, 0]\n",
      "  ng_refs = [3, 2, 4]\n",
      "  nv = 100\n",
      "  option_compute_btable = 0\n",
      "  option_compute_ktable = 1\n",
      "  option_wgt_flux = 1\n",
      "  option_wgt_k = 1\n",
      "  ref_pts = [(1, 250), (10, 250), (500, 250)]\n",
      "  tsfc = 294\n",
      "  vmax = 620\n",
      "  vmin = 540\n",
      "  w_diffuse = [(1.6, 1.6, 1.7), (1.75, 1.75), (1.55, 1.55, 1.6, 1.85)]\n",
      "  wgt = [(0.7, 0.3, 0.7), (0.7, 0.6), (0.4, 0.5, 0.8, 0.95)]\n",
      "o h2o band3a\n",
      "  atmpro = mls\n",
      "  band = 3a\n",
      "  commitnumber = 2bd1f75\n",
      "  conc = None\n",
      "  dv = 0.01\n",
      "  klin = 0\n",
      "  molecule = h2o\n",
      "  ng_adju = [0, 0]\n",
      "  ng_refs = [2, 6]\n",
      "  nv = 100\n",
      "  option_compute_btable = 0\n",
      "  option_compute_ktable = 1\n",
      "  option_wgt_flux = 1\n",
      "  option_wgt_k = 1\n",
      "  ref_pts = [(10, 250), (600, 250)]\n",
      "  tsfc = 294\n",
      "  vmax = 620\n",
      "  vmin = 540\n",
      "  w_diffuse = [(1.9, 1.7), (1.4, 1.4, 1.4, 1.55, 1.6, 1.66)]\n",
      "  wgt = [(0.7, 0.7), (0.7, 0.5, 0.5, 0.5, 0.5, 0.5)]\n",
      "o n2o band3a\n",
      "  atmpro = mls\n",
      "  band = 3a\n",
      "  commitnumber = 2bd1f75\n",
      "  conc = 3.2e-07\n",
      "  dv = 0.01\n",
      "  klin = 2.22e-20\n",
      "  molecule = n2o\n",
      "  ng_adju = [0, 0]\n",
      "  ng_refs = [1, 2]\n",
      "  nv = 100\n",
      "  option_compute_btable = 0\n",
      "  option_compute_ktable = 1\n",
      "  option_wgt_flux = 1\n",
      "  option_wgt_k = 1\n",
      "  ref_pts = [(1, 250), (500, 250)]\n",
      "  tsfc = 294\n",
      "  vmax = 620\n",
      "  vmin = 540\n",
      "  w_diffuse = [(1.8,), (1.66, 1.8)]\n",
      "  wgt = [(0.9,), (0.5, 0.95)]\n"
     ]
    }
   ],
   "source": [
    "script()"
   ]
  },
  {
   "cell_type": "code",
   "execution_count": 13,
   "metadata": {
    "collapsed": true
   },
   "outputs": [
    {
     "data": {
      "text/html": [
       "<script>\n",
       "code_show=true; \n",
       "function code_toggle() {\n",
       " if (code_show){\n",
       " $('div.input').hide();\n",
       " } else {\n",
       " $('div.input').show();\n",
       " }\n",
       " code_show = !code_show\n",
       "} \n",
       "$( document ).ready(code_toggle);\n",
       "</script>\n",
       "<form action=\"javascript:code_toggle()\"><input type=\"submit\" value=\"Click here to toggle on/off the raw code.\"></form>"
      ],
      "text/plain": [
       "<IPython.core.display.HTML object>"
      ]
     },
     "execution_count": 13,
     "metadata": {},
     "output_type": "execute_result"
    }
   ],
   "source": [
    "display.HTML('''<script>\n",
    "code_show=true; \n",
    "function code_toggle() {\n",
    " if (code_show){\n",
    " $('div.input').hide();\n",
    " } else {\n",
    " $('div.input').show();\n",
    " }\n",
    " code_show = !code_show\n",
    "} \n",
    "$( document ).ready(code_toggle);\n",
    "</script>\n",
    "<form action=\"javascript:code_toggle()\"><input type=\"submit\" value=\"Click here to toggle on/off the raw code.\"></form>''')"
   ]
  }
 ],
 "metadata": {
  "kernelspec": {
   "display_name": "Python 3",
   "language": "python",
   "name": "python3"
  },
  "language_info": {
   "codemirror_mode": {
    "name": "ipython",
    "version": 3
   },
   "file_extension": ".py",
   "mimetype": "text/x-python",
   "name": "python",
   "nbconvert_exporter": "python",
   "pygments_lexer": "ipython3",
   "version": "3.6.1"
  }
 },
 "nbformat": 4,
 "nbformat_minor": 2
}
