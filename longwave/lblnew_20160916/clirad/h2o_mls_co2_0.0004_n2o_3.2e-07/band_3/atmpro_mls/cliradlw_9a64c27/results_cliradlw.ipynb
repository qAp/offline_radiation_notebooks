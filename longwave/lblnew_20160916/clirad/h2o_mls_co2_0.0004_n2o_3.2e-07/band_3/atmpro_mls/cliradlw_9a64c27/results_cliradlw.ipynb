{
 "cells": [
  {
   "cell_type": "code",
   "execution_count": 1,
   "metadata": {
    "collapsed": true
   },
   "outputs": [],
   "source": [
    "%matplotlib inline\n",
    "import os\n",
    "import re\n",
    "import io\n",
    "import itertools\n",
    "import pprint\n",
    "\n",
    "from bokeh.io import output_notebook, show\n",
    "from bokeh.layouts import gridplot\n",
    "from bokeh.plotting import figure\n",
    "from bokeh.models import Range1d, Legend\n",
    "from bokeh.palettes import all_palettes\n",
    "\n",
    "import matplotlib\n",
    "import matplotlib.pyplot as plt\n",
    "import numpy as np\n",
    "import pandas as pd\n",
    "import xarray as xr\n",
    "\n",
    "import climatools.lblnew.bestfit_params as bestfits\n",
    "from climatools.lblnew import setup_bestfit, setup_overlap\n",
    "import climatools.lblnew.pipeline as pipe_lblnew\n",
    "import climatools.cliradlw.setup as setup_cliradlw\n",
    "import climatools.cliradlw.pipeline as pipe_cliradlw\n",
    "\n",
    "import climatools.html.html as climahtml\n",
    "from climatools.lblnew.dataio import *\n",
    "from climatools.plot.plot import *\n",
    "\n",
    "\n",
    "import IPython.display as display"
   ]
  },
  {
   "cell_type": "code",
   "execution_count": 2,
   "metadata": {
    "collapsed": true
   },
   "outputs": [],
   "source": [
    "%run param.py"
   ]
  },
  {
   "cell_type": "code",
   "execution_count": 3,
   "metadata": {
    "collapsed": true
   },
   "outputs": [],
   "source": [
    "def load_output_file(path_csv):\n",
    "    '''\n",
    "    Load lblnew output .csv file to xarray.Dataset\n",
    "    \n",
    "    Parameters\n",
    "    ----------\n",
    "    path_csv: str\n",
    "              Path to the .csv file to be loaded.\n",
    "    ds: xarray.Dataset\n",
    "        Data in the input file in the form of an xarray.Dataset.\n",
    "    '''\n",
    "    toindex = ['band', 'pressure', 'igg', 'g']    \n",
    "    df = pd.read_csv(path_csv, sep=r'\\s+')\n",
    "    df = df.set_index([i for i in toindex if i in df.columns])\n",
    "    df = df.rename(columns={'sfu': 'flug',\n",
    "                            'sfd': 'fldg',\n",
    "                            'fnet': 'fnetg',\n",
    "                            'coolr': 'coolrg'})\n",
    "    ds = xr.Dataset.from_dataframe(df)\n",
    "\n",
    "    for l in ('level', 'layer'):\n",
    "        if l in ds.data_vars:\n",
    "            if len(ds[l].dims) > 1:\n",
    "                surface = {d: 0 for d in ds.dims if d != 'pressure'}\n",
    "                coord_level = ds[l][surface]\n",
    "                ds.coords[l] = ('pressure', coord_level)\n",
    "            else:\n",
    "                ds.coords[l] = ('pressure', ds[l])\n",
    "    \n",
    "    return ds"
   ]
  },
  {
   "cell_type": "code",
   "execution_count": 4,
   "metadata": {
    "collapsed": true
   },
   "outputs": [],
   "source": [
    "def lblnew_setup(param=None):\n",
    "    if 'ng_refs' in param:\n",
    "        return {'setup': setup_bestfit,\n",
    "                'fname_flux_crd': 'output_flux.dat',\n",
    "                'fname_cool_crd': 'output_coolr.dat',\n",
    "                'fname_flux_wgt': 'output_wfluxg.dat',\n",
    "                'fname_cool_wgt': 'output_wcoolrg.dat'}\n",
    "    else:\n",
    "        return {'setup': setup_overlap,\n",
    "                'fname_flux_crd': 'output_flux.dat',\n",
    "                'fname_cool_crd': 'output_coolr.dat',\n",
    "                'fname_flux_wgt': 'output_wflux.dat',\n",
    "                'fname_cool_wgt': 'output_wcoolr.dat'}\n",
    "\n",
    "    \n",
    "def load_lblnew_data(param):\n",
    "    \n",
    "    fname_dsname = [('fname_flux_crd', 'ds_flux_crd'),\n",
    "                    ('fname_cool_crd', 'ds_cool_crd'),\n",
    "                    ('fname_flux_wgt', 'ds_flux_wgt'),\n",
    "                    ('fname_cool_wgt', 'ds_cool_wgt')]\n",
    "    \n",
    "    d = lblnew_setup(param)\n",
    "    dir_fortran = pipe_lblnew.get_dir_case(param, setup=d['setup'])\n",
    "    \n",
    "    data_dict = {}\n",
    "    for fname, dsname in fname_dsname:\n",
    "        fpath = os.path.join(dir_fortran, d[fname])\n",
    "        data_dict[dsname] = load_output_file(fpath)\n",
    "    return data_dict\n",
    "    \n",
    "\n",
    "    \n",
    "    "
   ]
  },
  {
   "cell_type": "code",
   "execution_count": 5,
   "metadata": {
    "collapsed": true
   },
   "outputs": [],
   "source": [
    "d = load_lblnew_data(PARAM_LBLNEW)\n",
    "\n",
    "DS_FLUX_CRD = d['ds_flux_crd']\n",
    "DS_COOL_CRD = d['ds_cool_crd']\n",
    "DS_FLUX_WGT = d['ds_flux_wgt']\n",
    "DS_COOL_WGT = d['ds_cool_wgt']"
   ]
  },
  {
   "cell_type": "code",
   "execution_count": 6,
   "metadata": {
    "collapsed": true
   },
   "outputs": [],
   "source": [
    "DIR_FORTRAN = pipe_cliradlw.get_fortran_dir(PARAM, \n",
    "                                            setup=setup_cliradlw)\n",
    "\n",
    "PATH_FLUX = os.path.join(DIR_FORTRAN, 'output_flux.dat')\n",
    "PATH_COOL = os.path.join(DIR_FORTRAN, 'output_coolr.dat')\n",
    "\n",
    "DS_FLUX = load_output_file(PATH_FLUX)\n",
    "DS_COOL = load_output_file(PATH_COOL)"
   ]
  },
  {
   "cell_type": "code",
   "execution_count": 7,
   "metadata": {
    "collapsed": true
   },
   "outputs": [
    {
     "data": {
      "text/html": [
       "\n",
       "    <div class=\"bk-root\">\n",
       "        <a href=\"https://bokeh.pydata.org\" target=\"_blank\" class=\"bk-logo bk-logo-small bk-logo-notebook\"></a>\n",
       "        <span id=\"f803f091-04b8-49ab-af50-e209e234e418\">Loading BokehJS ...</span>\n",
       "    </div>"
      ]
     },
     "metadata": {},
     "output_type": "display_data"
    },
    {
     "data": {
      "application/javascript": [
       "\n",
       "(function(root) {\n",
       "  function now() {\n",
       "    return new Date();\n",
       "  }\n",
       "\n",
       "  var force = true;\n",
       "\n",
       "  if (typeof (root._bokeh_onload_callbacks) === \"undefined\" || force === true) {\n",
       "    root._bokeh_onload_callbacks = [];\n",
       "    root._bokeh_is_loading = undefined;\n",
       "  }\n",
       "\n",
       "  var JS_MIME_TYPE = 'application/javascript';\n",
       "  var HTML_MIME_TYPE = 'text/html';\n",
       "  var EXEC_MIME_TYPE = 'application/vnd.bokehjs_exec.v0+json';\n",
       "  var CLASS_NAME = 'output_bokeh rendered_html';\n",
       "\n",
       "  /**\n",
       "   * Render data to the DOM node\n",
       "   */\n",
       "  function render(props, node) {\n",
       "    var script = document.createElement(\"script\");\n",
       "    node.appendChild(script);\n",
       "  }\n",
       "\n",
       "  /**\n",
       "   * Handle when an output is cleared or removed\n",
       "   */\n",
       "  function handleClearOutput(event, handle) {\n",
       "    var cell = handle.cell;\n",
       "\n",
       "    var id = cell.output_area._bokeh_element_id;\n",
       "    var server_id = cell.output_area._bokeh_server_id;\n",
       "    // Clean up Bokeh references\n",
       "    if (id !== undefined) {\n",
       "      Bokeh.index[id].model.document.clear();\n",
       "      delete Bokeh.index[id];\n",
       "    }\n",
       "\n",
       "    if (server_id !== undefined) {\n",
       "      // Clean up Bokeh references\n",
       "      var cmd = \"from bokeh.io.state import curstate; print(curstate().uuid_to_server['\" + server_id + \"'].get_sessions()[0].document.roots[0]._id)\";\n",
       "      cell.notebook.kernel.execute(cmd, {\n",
       "        iopub: {\n",
       "          output: function(msg) {\n",
       "            var element_id = msg.content.text.trim();\n",
       "            Bokeh.index[element_id].model.document.clear();\n",
       "            delete Bokeh.index[element_id];\n",
       "          }\n",
       "        }\n",
       "      });\n",
       "      // Destroy server and session\n",
       "      var cmd = \"import bokeh.io.notebook as ion; ion.destroy_server('\" + server_id + \"')\";\n",
       "      cell.notebook.kernel.execute(cmd);\n",
       "    }\n",
       "  }\n",
       "\n",
       "  /**\n",
       "   * Handle when a new output is added\n",
       "   */\n",
       "  function handleAddOutput(event, handle) {\n",
       "    var output_area = handle.output_area;\n",
       "    var output = handle.output;\n",
       "\n",
       "    // limit handleAddOutput to display_data with EXEC_MIME_TYPE content only\n",
       "    if ((output.output_type != \"display_data\") || (!output.data.hasOwnProperty(EXEC_MIME_TYPE))) {\n",
       "      return\n",
       "    }\n",
       "\n",
       "    var toinsert = output_area.element.find(\".\" + CLASS_NAME.split(' ')[0]);\n",
       "\n",
       "    if (output.metadata[EXEC_MIME_TYPE][\"id\"] !== undefined) {\n",
       "      toinsert[0].firstChild.textContent = output.data[JS_MIME_TYPE];\n",
       "      // store reference to embed id on output_area\n",
       "      output_area._bokeh_element_id = output.metadata[EXEC_MIME_TYPE][\"id\"];\n",
       "    }\n",
       "    if (output.metadata[EXEC_MIME_TYPE][\"server_id\"] !== undefined) {\n",
       "      var bk_div = document.createElement(\"div\");\n",
       "      bk_div.innerHTML = output.data[HTML_MIME_TYPE];\n",
       "      var script_attrs = bk_div.children[0].attributes;\n",
       "      for (var i = 0; i < script_attrs.length; i++) {\n",
       "        toinsert[0].firstChild.setAttribute(script_attrs[i].name, script_attrs[i].value);\n",
       "      }\n",
       "      // store reference to server id on output_area\n",
       "      output_area._bokeh_server_id = output.metadata[EXEC_MIME_TYPE][\"server_id\"];\n",
       "    }\n",
       "  }\n",
       "\n",
       "  function register_renderer(events, OutputArea) {\n",
       "\n",
       "    function append_mime(data, metadata, element) {\n",
       "      // create a DOM node to render to\n",
       "      var toinsert = this.create_output_subarea(\n",
       "        metadata,\n",
       "        CLASS_NAME,\n",
       "        EXEC_MIME_TYPE\n",
       "      );\n",
       "      this.keyboard_manager.register_events(toinsert);\n",
       "      // Render to node\n",
       "      var props = {data: data, metadata: metadata[EXEC_MIME_TYPE]};\n",
       "      render(props, toinsert[0]);\n",
       "      element.append(toinsert);\n",
       "      return toinsert\n",
       "    }\n",
       "\n",
       "    /* Handle when an output is cleared or removed */\n",
       "    events.on('clear_output.CodeCell', handleClearOutput);\n",
       "    events.on('delete.Cell', handleClearOutput);\n",
       "\n",
       "    /* Handle when a new output is added */\n",
       "    events.on('output_added.OutputArea', handleAddOutput);\n",
       "\n",
       "    /**\n",
       "     * Register the mime type and append_mime function with output_area\n",
       "     */\n",
       "    OutputArea.prototype.register_mime_type(EXEC_MIME_TYPE, append_mime, {\n",
       "      /* Is output safe? */\n",
       "      safe: true,\n",
       "      /* Index of renderer in `output_area.display_order` */\n",
       "      index: 0\n",
       "    });\n",
       "  }\n",
       "\n",
       "  // register the mime type if in Jupyter Notebook environment and previously unregistered\n",
       "  if (root.Jupyter !== undefined) {\n",
       "    var events = require('base/js/events');\n",
       "    var OutputArea = require('notebook/js/outputarea').OutputArea;\n",
       "\n",
       "    if (OutputArea.prototype.mime_types().indexOf(EXEC_MIME_TYPE) == -1) {\n",
       "      register_renderer(events, OutputArea);\n",
       "    }\n",
       "  }\n",
       "\n",
       "  \n",
       "  if (typeof (root._bokeh_timeout) === \"undefined\" || force === true) {\n",
       "    root._bokeh_timeout = Date.now() + 5000;\n",
       "    root._bokeh_failed_load = false;\n",
       "  }\n",
       "\n",
       "  var NB_LOAD_WARNING = {'data': {'text/html':\n",
       "     \"<div style='background-color: #fdd'>\\n\"+\n",
       "     \"<p>\\n\"+\n",
       "     \"BokehJS does not appear to have successfully loaded. If loading BokehJS from CDN, this \\n\"+\n",
       "     \"may be due to a slow or bad network connection. Possible fixes:\\n\"+\n",
       "     \"</p>\\n\"+\n",
       "     \"<ul>\\n\"+\n",
       "     \"<li>re-rerun `output_notebook()` to attempt to load from CDN again, or</li>\\n\"+\n",
       "     \"<li>use INLINE resources instead, as so:</li>\\n\"+\n",
       "     \"</ul>\\n\"+\n",
       "     \"<code>\\n\"+\n",
       "     \"from bokeh.resources import INLINE\\n\"+\n",
       "     \"output_notebook(resources=INLINE)\\n\"+\n",
       "     \"</code>\\n\"+\n",
       "     \"</div>\"}};\n",
       "\n",
       "  function display_loaded() {\n",
       "    var el = document.getElementById(\"f803f091-04b8-49ab-af50-e209e234e418\");\n",
       "    if (el != null) {\n",
       "      el.textContent = \"BokehJS is loading...\";\n",
       "    }\n",
       "    if (root.Bokeh !== undefined) {\n",
       "      if (el != null) {\n",
       "        el.textContent = \"BokehJS \" + root.Bokeh.version + \" successfully loaded.\";\n",
       "      }\n",
       "    } else if (Date.now() < root._bokeh_timeout) {\n",
       "      setTimeout(display_loaded, 100)\n",
       "    }\n",
       "  }\n",
       "\n",
       "\n",
       "  function run_callbacks() {\n",
       "    try {\n",
       "      root._bokeh_onload_callbacks.forEach(function(callback) { callback() });\n",
       "    }\n",
       "    finally {\n",
       "      delete root._bokeh_onload_callbacks\n",
       "    }\n",
       "    console.info(\"Bokeh: all callbacks have finished\");\n",
       "  }\n",
       "\n",
       "  function load_libs(js_urls, callback) {\n",
       "    root._bokeh_onload_callbacks.push(callback);\n",
       "    if (root._bokeh_is_loading > 0) {\n",
       "      console.log(\"Bokeh: BokehJS is being loaded, scheduling callback at\", now());\n",
       "      return null;\n",
       "    }\n",
       "    if (js_urls == null || js_urls.length === 0) {\n",
       "      run_callbacks();\n",
       "      return null;\n",
       "    }\n",
       "    console.log(\"Bokeh: BokehJS not loaded, scheduling load and callback at\", now());\n",
       "    root._bokeh_is_loading = js_urls.length;\n",
       "    for (var i = 0; i < js_urls.length; i++) {\n",
       "      var url = js_urls[i];\n",
       "      var s = document.createElement('script');\n",
       "      s.src = url;\n",
       "      s.async = false;\n",
       "      s.onreadystatechange = s.onload = function() {\n",
       "        root._bokeh_is_loading--;\n",
       "        if (root._bokeh_is_loading === 0) {\n",
       "          console.log(\"Bokeh: all BokehJS libraries loaded\");\n",
       "          run_callbacks()\n",
       "        }\n",
       "      };\n",
       "      s.onerror = function() {\n",
       "        console.warn(\"failed to load library \" + url);\n",
       "      };\n",
       "      console.log(\"Bokeh: injecting script tag for BokehJS library: \", url);\n",
       "      document.getElementsByTagName(\"head\")[0].appendChild(s);\n",
       "    }\n",
       "  };var element = document.getElementById(\"f803f091-04b8-49ab-af50-e209e234e418\");\n",
       "  if (element == null) {\n",
       "    console.log(\"Bokeh: ERROR: autoload.js configured with elementid 'f803f091-04b8-49ab-af50-e209e234e418' but no matching script tag was found. \")\n",
       "    return false;\n",
       "  }\n",
       "\n",
       "  var js_urls = [\"https://cdn.pydata.org/bokeh/release/bokeh-0.12.14.min.js\", \"https://cdn.pydata.org/bokeh/release/bokeh-widgets-0.12.14.min.js\", \"https://cdn.pydata.org/bokeh/release/bokeh-tables-0.12.14.min.js\", \"https://cdn.pydata.org/bokeh/release/bokeh-gl-0.12.14.min.js\"];\n",
       "\n",
       "  var inline_js = [\n",
       "    function(Bokeh) {\n",
       "      Bokeh.set_log_level(\"info\");\n",
       "    },\n",
       "    \n",
       "    function(Bokeh) {\n",
       "      \n",
       "    },\n",
       "    function(Bokeh) {\n",
       "      console.log(\"Bokeh: injecting CSS: https://cdn.pydata.org/bokeh/release/bokeh-0.12.14.min.css\");\n",
       "      Bokeh.embed.inject_css(\"https://cdn.pydata.org/bokeh/release/bokeh-0.12.14.min.css\");\n",
       "      console.log(\"Bokeh: injecting CSS: https://cdn.pydata.org/bokeh/release/bokeh-widgets-0.12.14.min.css\");\n",
       "      Bokeh.embed.inject_css(\"https://cdn.pydata.org/bokeh/release/bokeh-widgets-0.12.14.min.css\");\n",
       "      console.log(\"Bokeh: injecting CSS: https://cdn.pydata.org/bokeh/release/bokeh-tables-0.12.14.min.css\");\n",
       "      Bokeh.embed.inject_css(\"https://cdn.pydata.org/bokeh/release/bokeh-tables-0.12.14.min.css\");\n",
       "    }\n",
       "  ];\n",
       "\n",
       "  function run_inline_js() {\n",
       "    \n",
       "    if ((root.Bokeh !== undefined) || (force === true)) {\n",
       "      for (var i = 0; i < inline_js.length; i++) {\n",
       "        inline_js[i].call(root, root.Bokeh);\n",
       "      }if (force === true) {\n",
       "        display_loaded();\n",
       "      }} else if (Date.now() < root._bokeh_timeout) {\n",
       "      setTimeout(run_inline_js, 100);\n",
       "    } else if (!root._bokeh_failed_load) {\n",
       "      console.log(\"Bokeh: BokehJS failed to load within specified timeout.\");\n",
       "      root._bokeh_failed_load = true;\n",
       "    } else if (force !== true) {\n",
       "      var cell = $(document.getElementById(\"f803f091-04b8-49ab-af50-e209e234e418\")).parents('.cell').data().cell;\n",
       "      cell.output_area.append_execute_result(NB_LOAD_WARNING)\n",
       "    }\n",
       "\n",
       "  }\n",
       "\n",
       "  if (root._bokeh_is_loading === 0) {\n",
       "    console.log(\"Bokeh: BokehJS loaded, going straight to plotting\");\n",
       "    run_inline_js();\n",
       "  } else {\n",
       "    load_libs(js_urls, function() {\n",
       "      console.log(\"Bokeh: BokehJS plotting callback run at\", now());\n",
       "      run_inline_js();\n",
       "    });\n",
       "  }\n",
       "}(window));"
      ],
      "application/vnd.bokehjs_load.v0+json": "\n(function(root) {\n  function now() {\n    return new Date();\n  }\n\n  var force = true;\n\n  if (typeof (root._bokeh_onload_callbacks) === \"undefined\" || force === true) {\n    root._bokeh_onload_callbacks = [];\n    root._bokeh_is_loading = undefined;\n  }\n\n  \n\n  \n  if (typeof (root._bokeh_timeout) === \"undefined\" || force === true) {\n    root._bokeh_timeout = Date.now() + 5000;\n    root._bokeh_failed_load = false;\n  }\n\n  var NB_LOAD_WARNING = {'data': {'text/html':\n     \"<div style='background-color: #fdd'>\\n\"+\n     \"<p>\\n\"+\n     \"BokehJS does not appear to have successfully loaded. If loading BokehJS from CDN, this \\n\"+\n     \"may be due to a slow or bad network connection. Possible fixes:\\n\"+\n     \"</p>\\n\"+\n     \"<ul>\\n\"+\n     \"<li>re-rerun `output_notebook()` to attempt to load from CDN again, or</li>\\n\"+\n     \"<li>use INLINE resources instead, as so:</li>\\n\"+\n     \"</ul>\\n\"+\n     \"<code>\\n\"+\n     \"from bokeh.resources import INLINE\\n\"+\n     \"output_notebook(resources=INLINE)\\n\"+\n     \"</code>\\n\"+\n     \"</div>\"}};\n\n  function display_loaded() {\n    var el = document.getElementById(\"f803f091-04b8-49ab-af50-e209e234e418\");\n    if (el != null) {\n      el.textContent = \"BokehJS is loading...\";\n    }\n    if (root.Bokeh !== undefined) {\n      if (el != null) {\n        el.textContent = \"BokehJS \" + root.Bokeh.version + \" successfully loaded.\";\n      }\n    } else if (Date.now() < root._bokeh_timeout) {\n      setTimeout(display_loaded, 100)\n    }\n  }\n\n\n  function run_callbacks() {\n    try {\n      root._bokeh_onload_callbacks.forEach(function(callback) { callback() });\n    }\n    finally {\n      delete root._bokeh_onload_callbacks\n    }\n    console.info(\"Bokeh: all callbacks have finished\");\n  }\n\n  function load_libs(js_urls, callback) {\n    root._bokeh_onload_callbacks.push(callback);\n    if (root._bokeh_is_loading > 0) {\n      console.log(\"Bokeh: BokehJS is being loaded, scheduling callback at\", now());\n      return null;\n    }\n    if (js_urls == null || js_urls.length === 0) {\n      run_callbacks();\n      return null;\n    }\n    console.log(\"Bokeh: BokehJS not loaded, scheduling load and callback at\", now());\n    root._bokeh_is_loading = js_urls.length;\n    for (var i = 0; i < js_urls.length; i++) {\n      var url = js_urls[i];\n      var s = document.createElement('script');\n      s.src = url;\n      s.async = false;\n      s.onreadystatechange = s.onload = function() {\n        root._bokeh_is_loading--;\n        if (root._bokeh_is_loading === 0) {\n          console.log(\"Bokeh: all BokehJS libraries loaded\");\n          run_callbacks()\n        }\n      };\n      s.onerror = function() {\n        console.warn(\"failed to load library \" + url);\n      };\n      console.log(\"Bokeh: injecting script tag for BokehJS library: \", url);\n      document.getElementsByTagName(\"head\")[0].appendChild(s);\n    }\n  };var element = document.getElementById(\"f803f091-04b8-49ab-af50-e209e234e418\");\n  if (element == null) {\n    console.log(\"Bokeh: ERROR: autoload.js configured with elementid 'f803f091-04b8-49ab-af50-e209e234e418' but no matching script tag was found. \")\n    return false;\n  }\n\n  var js_urls = [\"https://cdn.pydata.org/bokeh/release/bokeh-0.12.14.min.js\", \"https://cdn.pydata.org/bokeh/release/bokeh-widgets-0.12.14.min.js\", \"https://cdn.pydata.org/bokeh/release/bokeh-tables-0.12.14.min.js\", \"https://cdn.pydata.org/bokeh/release/bokeh-gl-0.12.14.min.js\"];\n\n  var inline_js = [\n    function(Bokeh) {\n      Bokeh.set_log_level(\"info\");\n    },\n    \n    function(Bokeh) {\n      \n    },\n    function(Bokeh) {\n      console.log(\"Bokeh: injecting CSS: https://cdn.pydata.org/bokeh/release/bokeh-0.12.14.min.css\");\n      Bokeh.embed.inject_css(\"https://cdn.pydata.org/bokeh/release/bokeh-0.12.14.min.css\");\n      console.log(\"Bokeh: injecting CSS: https://cdn.pydata.org/bokeh/release/bokeh-widgets-0.12.14.min.css\");\n      Bokeh.embed.inject_css(\"https://cdn.pydata.org/bokeh/release/bokeh-widgets-0.12.14.min.css\");\n      console.log(\"Bokeh: injecting CSS: https://cdn.pydata.org/bokeh/release/bokeh-tables-0.12.14.min.css\");\n      Bokeh.embed.inject_css(\"https://cdn.pydata.org/bokeh/release/bokeh-tables-0.12.14.min.css\");\n    }\n  ];\n\n  function run_inline_js() {\n    \n    if ((root.Bokeh !== undefined) || (force === true)) {\n      for (var i = 0; i < inline_js.length; i++) {\n        inline_js[i].call(root, root.Bokeh);\n      }if (force === true) {\n        display_loaded();\n      }} else if (Date.now() < root._bokeh_timeout) {\n      setTimeout(run_inline_js, 100);\n    } else if (!root._bokeh_failed_load) {\n      console.log(\"Bokeh: BokehJS failed to load within specified timeout.\");\n      root._bokeh_failed_load = true;\n    } else if (force !== true) {\n      var cell = $(document.getElementById(\"f803f091-04b8-49ab-af50-e209e234e418\")).parents('.cell').data().cell;\n      cell.output_area.append_execute_result(NB_LOAD_WARNING)\n    }\n\n  }\n\n  if (root._bokeh_is_loading === 0) {\n    console.log(\"Bokeh: BokehJS loaded, going straight to plotting\");\n    run_inline_js();\n  } else {\n    load_libs(js_urls, function() {\n      console.log(\"Bokeh: BokehJS plotting callback run at\", now());\n      run_inline_js();\n    });\n  }\n}(window));"
     },
     "metadata": {},
     "output_type": "display_data"
    }
   ],
   "source": [
    "output_notebook()"
   ]
  },
  {
   "cell_type": "code",
   "execution_count": 8,
   "metadata": {
    "collapsed": true
   },
   "outputs": [],
   "source": [
    "def fmt_cool(ds_in):\n",
    "    ds = ds_in.copy(deep=True)\n",
    "    if 'igg' in ds.dims:\n",
    "        ds = ds.sel(igg=1)\n",
    "\n",
    "    if 'g' in ds.dims:\n",
    "        ds = ds.sum('g')\n",
    "            \n",
    "    if 'band' in ds.dims:\n",
    "        try:\n",
    "            ds = ds.squeeze('band')\n",
    "        except ValueError:\n",
    "            ds = ds.sum('band')\n",
    "                \n",
    "    return ds['coolrg']\n",
    "\n",
    "\n",
    "def pltdata_cooling_1(ds_cool=None,\n",
    "                      ds_cool_crd=None, ds_cool_wgt=None):\n",
    "    \n",
    "\n",
    "\n",
    "    colors = all_palettes['Set1'][4]\n",
    "    data = [{'label': 'CLIRAD `coolr_bands`',\n",
    "             'srs': fmt_cool(ds_cool),\n",
    "             'line_dash': 'dashed', 'line_width': 5,\n",
    "             'color': colors[0], 'alpha': .6},\n",
    "            {'label': 'CRD',\n",
    "             'srs': fmt_cool(ds_cool_crd),\n",
    "             'line_dash': 'solid', 'line_width': 1.5,\n",
    "             'marker': 'circle', 'marker_size': 5,\n",
    "             'color': colors[2], 'alpha': 1,},\n",
    "            {'label': 'WGT igg=10 wgt_flux=2',\n",
    "             'srs': fmt_cool(ds_cool_wgt),\n",
    "             'line_dash': 'solid', 'line_width': 3,\n",
    "             'marker': 'square', 'marker_size': 5,\n",
    "             'color': colors[3], 'alpha': .6}]\n",
    "    return data\n",
    "\n",
    "\n",
    "def nice_xlims(pltdata=None, prange=None):\n",
    "    \n",
    "    def get_slice(srs):\n",
    "        return srs.sel(pressure=slice(*prange))\n",
    "    \n",
    "    srss = [d['srs'] for d in pltdata]\n",
    "    vmin = min([get_slice(srs).min() for srs in srss])\n",
    "    vmax = max([get_slice(srs).max() for srs in srss])\n",
    "    dv = (vmax - vmin) * .01\n",
    "    return float(vmin - dv), float(vmax + dv)\n",
    "    \n",
    "\n",
    "def plt_cooling_bokeh(pltdata=None):\n",
    "    '''\n",
    "    Plot a list of cooling rate profiles using bokeh.\n",
    "    '''\n",
    "    ymin = 1e-2 \n",
    "    ymax = 1020 \n",
    "        \n",
    "    p1 = figure(title=\"Linear pressure scale\", \n",
    "                plot_width=400)        \n",
    "    xmin, xmax = nice_xlims(pltdata, prange=(50, 1050))\n",
    "    for d in pltdata:\n",
    "        if 'marker' in d:\n",
    "            getattr(p1, d['marker'])(d['srs'].values, \n",
    "                    d['srs'].coords['pressure'].values,\n",
    "                    color=d['color'], alpha=.7)\n",
    "        p1.line(d['srs'].values, \n",
    "                d['srs'].coords['pressure'].values,\n",
    "                color=d['color'], alpha=d['alpha'], \n",
    "                line_width=d['line_width'], line_dash=d['line_dash'])\n",
    "    \n",
    "    p1.y_range = Range1d(ymax, ymin)\n",
    "    p1.yaxis.axis_label = 'pressure [mb]'   \n",
    "    p1.x_range = Range1d(xmin, xmax)\n",
    "    p1.xaxis.axis_label = 'cooling rate [K/day]'\n",
    "            \n",
    "    p2 = figure(title='Log pressure scale', y_axis_type='log',\n",
    "                plot_width=560)\n",
    "    xmin, xmax = nice_xlims(pltdata, prange=(.01, 200))\n",
    "    \n",
    "    rs = []\n",
    "    for d in pltdata:\n",
    "        rd = []\n",
    "        if 'marker' in d:\n",
    "            r_mark = getattr(p2, d['marker'])(d['srs'].values, \n",
    "                        d['srs'].coords['pressure'].values,\n",
    "                        color=d['color'], alpha=.7)\n",
    "            rd.append(r_mark)\n",
    "        r_line = p2.line(d['srs'].values, \n",
    "                    d['srs'].coords['pressure'].values,\n",
    "                    color=d['color'], alpha=d['alpha'], \n",
    "                    line_width=d['line_width'], line_dash=d['line_dash'])\n",
    "        rd.append(r_line)\n",
    "      \n",
    "        rs.append(rd)\n",
    "        \n",
    "    p2.y_range = Range1d(ymax, ymin)  \n",
    "    p2.yaxis.axis_label = 'pressure [mb]'\n",
    "    \n",
    "    p2.x_range = Range1d(xmin, xmax)\n",
    "    p2.xaxis.axis_label = 'cooling rate [K/day]'\n",
    "    \n",
    "    items = [(d['label'], r) for r, d in zip(rs, pltdata)]\n",
    "    legend = Legend(items=items, location=(10, -30))\n",
    "    legend.label_text_font_size = '8pt'\n",
    "    \n",
    "    p2.add_layout(legend, 'right')  \n",
    "    \n",
    "    show(gridplot(p1, p2, ncols=2, plot_height=500))\n",
    "    \n",
    "\n",
    "def script_plt_cooling():\n",
    "    pltdata = pltdata_cooling_1(\n",
    "        ds_cool=DS_COOL,\n",
    "        ds_cool_crd=DS_COOL_CRD,\n",
    "        ds_cool_wgt=DS_COOL_WGT)\n",
    "    plt_cooling_bokeh(pltdata=pltdata)\n",
    "    print('''FIGURE. Cooling rate profiles.''')"
   ]
  },
  {
   "cell_type": "code",
   "execution_count": 9,
   "metadata": {
    "collapsed": true
   },
   "outputs": [],
   "source": [
    "def fmt_flux(ds_in):\n",
    "    ds = ds_in.copy(deep=True)\n",
    "    \n",
    "    for l in ('level', 'layer'):\n",
    "        if l in ds.data_vars:\n",
    "            if len(ds[l].dims) > 1:\n",
    "                surface = {d: 0 for d in ds.dims if d != 'pressure'}\n",
    "                coord_level = ds[l][surface]\n",
    "                ds.coords[l] = ('pressure', coord_level)\n",
    "            else:\n",
    "                ds.coords[l] = ('pressure', ds[l])\n",
    "        \n",
    "    ds = ds.isel(pressure=[0, 23, -1])\n",
    "        \n",
    "    if 'igg' in ds.dims:\n",
    "        ds = ds.sel(igg=[1])\n",
    "        ds = ds.squeeze('igg').drop('igg')\n",
    "    \n",
    "    if 'g' in ds.dims:\n",
    "        ds = ds.sum('g')\n",
    "            \n",
    "    if 'band' in ds.dims:\n",
    "        try:\n",
    "            ds = ds.squeeze('band').drop('band')\n",
    "        except ValueError:\n",
    "            ds = ds.sum('band')\n",
    "                \n",
    "    df = ds.to_dataframe()\n",
    "    df = df.set_index('level', append=True)               \n",
    "    return df\n",
    "\n",
    "\n",
    "def tbdata_flux(ds_flux=None, ds_flux_crd=None, ds_flux_wgt=None):\n",
    "    ilevels = [0, 23, -1]\n",
    "            \n",
    "    benchmark = {'label': 'WGT igg=10 wgt_flux=1',\n",
    "                 'df': fmt_flux(ds_flux_wgt)}\n",
    "    \n",
    "    tbs = [{'label': 'CRD',\n",
    "            'df': fmt_flux(ds_flux_crd)},\n",
    "           {'label': 'CLIRAD',\n",
    "            'df': fmt_flux(ds_flux)}]\n",
    "    \n",
    "    data = {'benchmark': benchmark, 'others': tbs}\n",
    "    return data\n",
    "\n",
    "\n",
    "def tb_flux(tbdata=None):\n",
    "    benchmark = tbdata['benchmark']\n",
    "    others = tbdata['others']\n",
    "    \n",
    "    def show_tb(d=None):\n",
    "        display.display(d['df'])\n",
    "        print('Table.', 'Fluxes.', d['label'])\n",
    "        \n",
    "    def show_tbdiff(d0=None, d=None):\n",
    "        df = d['df']\n",
    "        df.index = d0['df'].index\n",
    "        display.display(df - d0['df'])\n",
    "        print('Table.', 'Fluxes.', \n",
    "              '({}) - ({})'.format(d['label'], d0['label']))\n",
    "        \n",
    "    show_tb(benchmark)\n",
    "    for d in others:\n",
    "        show_tb(d)\n",
    "        \n",
    "    for d in others:\n",
    "        show_tbdiff(d=d, d0=benchmark)\n",
    "        \n",
    "        \n",
    "def script_tb_flux():\n",
    "    data = tbdata_flux(ds_flux=DS_FLUX,\n",
    "                       ds_flux_crd=DS_FLUX_CRD,\n",
    "                       ds_flux_wgt=DS_FLUX_WGT)\n",
    "    tb_flux(tbdata=data)"
   ]
  },
  {
   "cell_type": "code",
   "execution_count": 10,
   "metadata": {
    "collapsed": true
   },
   "outputs": [],
   "source": [
    "def band_map():\n",
    "    '''\n",
    "    Maps spectral bands in lblnew to spectral bands in clirad.\n",
    "    '''\n",
    "    lblnew2clirad = {'1': '1',\n",
    "            '2': '2',\n",
    "            '3a': '3',\n",
    "            '3b': '4',\n",
    "            '3c': '5',\n",
    "            '4': '6', \n",
    "            '5': '7',\n",
    "            '6': '8',\n",
    "            '7': '9', \n",
    "            '8': '10',\n",
    "            '9': '11'}\n",
    "    \n",
    "    clirad2lblnew = {clirad: lblnew \n",
    "                     for lblnew, clirad in lblnew2clirad.items()}\n",
    "    return clirad2lblnew\n",
    "\n",
    "\n",
    "def gasbands():\n",
    "    bmap = band_map()\n",
    "    gases = list(PARAM['molecule'].keys())\n",
    "    \n",
    "    bands = [bmap[str(b)] for b in PARAM['band']]\n",
    "    return list(itertools.product(gases, bands))\n",
    "\n",
    "\n",
    "def print_bestfit_params():\n",
    "    print('Best-fit values for each (gas, band)')\n",
    "    print('------------------------------------')\n",
    "    for gas, band in gasbands():\n",
    "        print('o {} band{}'.format(gas, band))\n",
    "        param = bestfits.kdist_params(molecule=gas, band=band)\n",
    "        for name, value in sorted(param.items()):\n",
    "            print(2 * ' ' + '{} = {}'.format(name, value))\n",
    "\n",
    "        \n",
    "def print_input_param():        \n",
    "    for name, value in PARAM.items():\n",
    "        print('{} = {}'.format(name, value))\n",
    "        \n",
    "        \n",
    "def print_lblnew_param():\n",
    "    for name, value in sorted(PARAM_LBLNEW.items()):\n",
    "        print('{} = {}'.format(name, value))\n"
   ]
  },
  {
   "cell_type": "code",
   "execution_count": 11,
   "metadata": {
    "collapsed": true,
    "scrolled": false
   },
   "outputs": [],
   "source": [
    "def show_html(s):\n",
    "    display.display(display.HTML(s))\n",
    "\n",
    "    \n",
    "def show_markdown(s):\n",
    "    display.display(display.Markdown(s))\n",
    "\n",
    "    \n",
    "def script():\n",
    "    \n",
    "    title = '### CLIRAD-LW'\n",
    "    s_input = 'Input Parameters'\n",
    "    s_lblnew_param = 'LBLNEW case compaired against'\n",
    "    s_bestfits = 'Best-fit Parameters'\n",
    "    s_plt_cooling = 'Cooling Rate Profiles'\n",
    "    s_tb_flux = 'Flux Comparison'\n",
    "    \n",
    "    # title\n",
    "    show_markdown('### CLIRAD-LW')\n",
    "    \n",
    "    # TOC\n",
    "    show_markdown('### Table of Contents')\n",
    "    show_html(climahtml.getHTML_hrefanchor(s_input))\n",
    "    show_html(climahtml.getHTML_hrefanchor(s_lblnew_param))\n",
    "    show_html(climahtml.getHTML_hrefanchor(s_plt_cooling))\n",
    "    show_html(climahtml.getHTML_hrefanchor(s_tb_flux))\n",
    "    show_html(climahtml.getHTML_hrefanchor(s_bestfits))\n",
    "    \n",
    "    # Input parameters\n",
    "    show_html(climahtml.getHTML_idanchor(s_input))\n",
    "    show_markdown(climahtml.getMarkdown_sectitle(s_input))\n",
    "    print_input_param()\n",
    "    \n",
    "    # LBLNEW parameters \n",
    "    show_html(climahtml.getHTML_idanchor(s_lblnew_param))\n",
    "    show_markdown(climahtml.getMarkdown_sectitle(s_lblnew_param))\n",
    "    print_lblnew_param()\n",
    "    \n",
    "    # Cooling rate profiles\n",
    "    show_html(climahtml.getHTML_idanchor(s_plt_cooling))\n",
    "    show_markdown(climahtml.getMarkdown_sectitle(s_plt_cooling))\n",
    "    script_plt_cooling()\n",
    "    \n",
    "    # Flux comparison\n",
    "    show_html(climahtml.getHTML_idanchor(s_tb_flux))\n",
    "    show_markdown(climahtml.getMarkdown_sectitle(s_tb_flux))\n",
    "    script_tb_flux()\n",
    "    \n",
    "    # Best-fit values\n",
    "    show_html(climahtml.getHTML_idanchor(s_bestfits))\n",
    "    show_markdown(climahtml.getMarkdown_sectitle(s_bestfits))\n",
    "    print_bestfit_params()\n",
    "   \n",
    "    "
   ]
  },
  {
   "cell_type": "code",
   "execution_count": 12,
   "metadata": {
    "collapsed": true,
    "scrolled": false
   },
   "outputs": [
    {
     "data": {
      "text/markdown": [
       "### CLIRAD-LW"
      ],
      "text/plain": [
       "<IPython.core.display.Markdown object>"
      ]
     },
     "metadata": {},
     "output_type": "display_data"
    },
    {
     "data": {
      "text/markdown": [
       "### Table of Contents"
      ],
      "text/plain": [
       "<IPython.core.display.Markdown object>"
      ]
     },
     "metadata": {},
     "output_type": "display_data"
    },
    {
     "data": {
      "text/html": [
       "<a href=\"#Input_Parameters\">Input Parameters</a>"
      ],
      "text/plain": [
       "<IPython.core.display.HTML object>"
      ]
     },
     "metadata": {},
     "output_type": "display_data"
    },
    {
     "data": {
      "text/html": [
       "<a href=\"#LBLNEW_case_compaired_against\">LBLNEW case compaired against</a>"
      ],
      "text/plain": [
       "<IPython.core.display.HTML object>"
      ]
     },
     "metadata": {},
     "output_type": "display_data"
    },
    {
     "data": {
      "text/html": [
       "<a href=\"#Cooling_Rate_Profiles\">Cooling Rate Profiles</a>"
      ],
      "text/plain": [
       "<IPython.core.display.HTML object>"
      ]
     },
     "metadata": {},
     "output_type": "display_data"
    },
    {
     "data": {
      "text/html": [
       "<a href=\"#Flux_Comparison\">Flux Comparison</a>"
      ],
      "text/plain": [
       "<IPython.core.display.HTML object>"
      ]
     },
     "metadata": {},
     "output_type": "display_data"
    },
    {
     "data": {
      "text/html": [
       "<a href=\"#Best-fit_Parameters\">Best-fit Parameters</a>"
      ],
      "text/plain": [
       "<IPython.core.display.HTML object>"
      ]
     },
     "metadata": {},
     "output_type": "display_data"
    },
    {
     "data": {
      "text/html": [
       "<a id=\"Input_Parameters\"></a>"
      ],
      "text/plain": [
       "<IPython.core.display.HTML object>"
      ]
     },
     "metadata": {},
     "output_type": "display_data"
    },
    {
     "data": {
      "text/markdown": [
       "# Input Parameters"
      ],
      "text/plain": [
       "<IPython.core.display.Markdown object>"
      ]
     },
     "metadata": {},
     "output_type": "display_data"
    },
    {
     "name": "stdout",
     "output_type": "stream",
     "text": [
      "atmpro = mls\n",
      "band = [3]\n",
      "commitnumber = 9a64c27\n",
      "molecule = {'co2': 0.0004, 'h2o': 'atmpro', 'n2o': 3.2e-07}\n",
      "tsfc = 294\n"
     ]
    },
    {
     "data": {
      "text/html": [
       "<a id=\"LBLNEW_case_compaired_against\"></a>"
      ],
      "text/plain": [
       "<IPython.core.display.HTML object>"
      ]
     },
     "metadata": {},
     "output_type": "display_data"
    },
    {
     "data": {
      "text/markdown": [
       "# LBLNEW case compaired against"
      ],
      "text/plain": [
       "<IPython.core.display.Markdown object>"
      ]
     },
     "metadata": {},
     "output_type": "display_data"
    },
    {
     "name": "stdout",
     "output_type": "stream",
     "text": [
      "atmpro = mls\n",
      "band = 3a\n",
      "commitnumber = 5014a19\n",
      "dv = 0.01\n",
      "molecule = {'co2': 0.0004, 'h2o': 'atmpro', 'n2o': 3.2e-07}\n",
      "nv = 100\n",
      "tsfc = 294\n"
     ]
    },
    {
     "data": {
      "text/html": [
       "<a id=\"Cooling_Rate_Profiles\"></a>"
      ],
      "text/plain": [
       "<IPython.core.display.HTML object>"
      ]
     },
     "metadata": {},
     "output_type": "display_data"
    },
    {
     "data": {
      "text/markdown": [
       "# Cooling Rate Profiles"
      ],
      "text/plain": [
       "<IPython.core.display.Markdown object>"
      ]
     },
     "metadata": {},
     "output_type": "display_data"
    },
    {
     "data": {
      "text/html": [
       "\n",
       "<div class=\"bk-root\">\n",
       "    <div class=\"bk-plotdiv\" id=\"414f6264-9f30-437b-ad99-c43a847be96b\"></div>\n",
       "</div>"
      ]
     },
     "metadata": {},
     "output_type": "display_data"
    },
    {
     "data": {
      "application/javascript": [
       "(function(root) {\n",
       "  function embed_document(root) {\n",
       "    \n",
       "  var docs_json = {\"093592ba-fe44-45fd-8ab8-71a6abefc3d9\":{\"roots\":{\"references\":[{\"attributes\":{},\"id\":\"d082d21f-941a-449b-8ea7-b7c2328091c3\",\"type\":\"LinearScale\"},{\"attributes\":{\"line_alpha\":0.1,\"line_color\":\"#1f77b4\",\"line_width\":1.5,\"x\":{\"field\":\"x\"},\"y\":{\"field\":\"y\"}},\"id\":\"ad307d0c-4878-4d7f-bae2-4448adc49951\",\"type\":\"Line\"},{\"attributes\":{\"callback\":null,\"column_names\":[\"x\",\"y\"],\"data\":{\"x\":{\"__ndarray__\":\"agI9uxlBzz/PfNZO967PP9WIy7dfetA/vVjWBdUp0T9wKaVv69HRP+jcDolSbdI/LJpzlZP10j8MwO2m51/TPxxA4P3In9M/R3sXSoGg0z+Y13SxJ0nTP8+ldo4adtI//xOv9NL70D/qclKxlFnNP59SqQKD3sk/gUUb01WyzD9sUvrXLLbRP4djIzG91NM/Iok9OMj51D8F9ZCddRXXPwJO53G1odw/LWFMfrTt4z+/pwc/UHLqP+h4Fs5/+eo/m2PMn2c65j+5MaCLRJDhPyEB5edtCdw/heQJKeRv1j8puZqnAPnRPwVY3GbHGcw/Ud077oQsxT+YmcIYy9O9P+eNaEJg07Q/EjMwLxY/sD/sW6sSbCmrP/T/mECLUaU/LOjA6ZKuoD8J0Zs2VYqaPxKytNLyo4w/7l67ov70Wz+oieJAzSpyP1/DWhyYU5k/HKA7jg1HqT9U6cRxInKzP+ZsCRI+CLo/DO7/yudovj9AZDZtazDBP9gUZcJxEcM//XBnkbPRxD90oagiy7jGPxMhGoKI+cg/MkM+Q5Mfyz+eZEihbhjNP+Mo7cuh3s4/9Sf5KlxD0D/peXky5gvRP+mIEfxO19E/EIcZ2DIy0z/jOdcHxHHUP7k5MuJEbNU/X1/KRDoR1j/EA7EJvFXWPx3qFDewTdY/p5YIr7gT1j+dc6a/TbXVP3uuQgxsPNU/fXiWICOg1D9/ZlI7qrfTP5rMmWnSWNI/UtjBmF+T0D+oEPpfz1PNP1EpPImExsk/vz34Hmjkxj9NAJOOUSLFP+7C/+sWYMc/\",\"dtype\":\"float64\",\"shape\":[75]},\"y\":{\"__ndarray__\":\"S/O/Q+51ND/Sv8nbtpRIP2vylNV0PVE/aTum7souWD/At0SJ8fVgPw3Iuahxymc/MSNhhJWvcD/bTfBN02d3P2zb5nxnaoA/CD5h5MAGhz8NmeH1TyaQP+zrCsc9p5Y/LbKd76fGnz/bLW5ISEmmPww9YvTcQq8/JV2OstnstT8Er5Y7M8G+P0c+r3jqkcU/5h99k6ZBzj88bCIzFzjVP4enV8oyxN0//yH99nXg5D8qOpLLf0jtP5kqGJXUifQ/c9cS8kHP/D+/DpwzojQEQIEmwoanVwxA4lgXt9HgE0BSSZ2AJuIbQAMJih9jjiNA5q4l5INuK0AwTKYKRj0zQNv5fmq8/DpAaCJseHrtQkB/+zpwzoxKQM3MzMzMeFJAZmZmZmZqWEAAAAAAAFxeQM3MzMzMJmJAmpmZmZkfZUBmZmZmZhhoQDMzMzMzEWtAAAAAAAAKbkBmZmZmZoFwQM3MzMzM/XFAMzMzMzN6c0CamZmZmfZ0QAAAAAAAc3ZAZmZmZmbvd0DNzMzMzGt5QDMzMzMz6HpAmpmZmZlkfEAAAAAAAOF9QGZmZmZmXX9AZmZmZuZsgECamZmZGSuBQM3MzMxM6YFAAAAAAICngkAzMzMzs2WDQGZmZmbmI4RAmpmZmRnihEDNzMzMTKCFQAAAAACAXoZAMzMzM7Mch0BmZmZm5tqHQJqZmZkZmYhAzczMzExXiUAAAAAAgBWKQDMzMzOz04pAZmZmZuaRi0CamZmZGVCMQM3MzMxMDo1AAAAAAIDMjUAzMzMzs4qOQGZmZmbmSI9A\",\"dtype\":\"float64\",\"shape\":[75]}}},\"id\":\"56dd6bf6-93a3-4a02-9fb4-0331d09fad90\",\"type\":\"ColumnDataSource\"},{\"attributes\":{\"overlay\":{\"id\":\"3b691f2b-294f-4732-8260-2e4946a8a246\",\"type\":\"BoxAnnotation\"}},\"id\":\"6f1235ae-0666-429f-a865-5e7e55d18b39\",\"type\":\"BoxZoomTool\"},{\"attributes\":{\"plot\":null,\"text\":\"Linear pressure scale\"},\"id\":\"c7e031a5-ef6f-4cfd-933d-071a3c078b1f\",\"type\":\"Title\"},{\"attributes\":{\"line_alpha\":0.6,\"line_color\":\"#e41a1c\",\"line_dash\":[6],\"line_width\":5,\"x\":{\"field\":\"x\"},\"y\":{\"field\":\"y\"}},\"id\":\"d54da182-d188-4e6f-8053-ab6b17f51ca0\",\"type\":\"Line\"},{\"attributes\":{\"axis_label\":\"cooling rate [K/day]\",\"formatter\":{\"id\":\"6e0533d3-b06b-4f43-b09d-dfc7a73a5490\",\"type\":\"BasicTickFormatter\"},\"plot\":{\"id\":\"12403a8d-38af-441b-8e82-ffa175284805\",\"subtype\":\"Figure\",\"type\":\"Plot\"},\"ticker\":{\"id\":\"c412c4c5-e70a-4d7f-81cc-74c103e1cdd0\",\"type\":\"BasicTicker\"}},\"id\":\"16d0ebd1-1128-4bd0-b4c5-56591f1db132\",\"type\":\"LinearAxis\"},{\"attributes\":{\"fill_alpha\":{\"value\":0.1},\"fill_color\":{\"value\":\"#1f77b4\"},\"line_alpha\":{\"value\":0.1},\"line_color\":{\"value\":\"#1f77b4\"},\"x\":{\"field\":\"x\"},\"y\":{\"field\":\"y\"}},\"id\":\"c25fee35-145e-4d32-aec9-2b8f4197528b\",\"type\":\"Circle\"},{\"attributes\":{\"source\":{\"id\":\"56dd6bf6-93a3-4a02-9fb4-0331d09fad90\",\"type\":\"ColumnDataSource\"}},\"id\":\"22529180-44d0-4bef-bd23-a856200de760\",\"type\":\"CDSView\"},{\"attributes\":{},\"id\":\"c412c4c5-e70a-4d7f-81cc-74c103e1cdd0\",\"type\":\"BasicTicker\"},{\"attributes\":{\"line_alpha\":0.1,\"line_color\":\"#1f77b4\",\"line_dash\":[6],\"line_width\":5,\"x\":{\"field\":\"x\"},\"y\":{\"field\":\"y\"}},\"id\":\"013f74a2-95b4-4997-bfd5-697ab17932c3\",\"type\":\"Line\"},{\"attributes\":{\"axis_label\":\"pressure [mb]\",\"formatter\":{\"id\":\"612ac997-476c-45d2-9979-ad24c6255d61\",\"type\":\"BasicTickFormatter\"},\"plot\":{\"id\":\"12403a8d-38af-441b-8e82-ffa175284805\",\"subtype\":\"Figure\",\"type\":\"Plot\"},\"ticker\":{\"id\":\"d2c1fd3b-1ff2-4029-8166-d5ae2895ab09\",\"type\":\"BasicTicker\"}},\"id\":\"08c9f73a-9c64-4251-b889-f32dc8ed731c\",\"type\":\"LinearAxis\"},{\"attributes\":{\"dimension\":1,\"plot\":{\"id\":\"c8fb29aa-6d7e-4dc1-95e1-5a80eeb4f6db\",\"subtype\":\"Figure\",\"type\":\"Plot\"},\"ticker\":{\"id\":\"243b27aa-310f-4bb7-bea5-ed3952060b97\",\"type\":\"LogTicker\"}},\"id\":\"ca626df3-7273-4177-9ab0-ede8b7ca02bf\",\"type\":\"Grid\"},{\"attributes\":{\"callback\":null,\"column_names\":[\"x\",\"y\"],\"data\":{\"x\":{\"__ndarray__\":\"QNhrct9H1T+20QhPS2DVPwXHI8AC+9U/TJ8E07yl1j+B4hEm1jPXP8uiTWHnntc/ZehUCYHi1z+utgfGZuzXPwnVtCg/q9c/RhvTVbIK1z8JpAbLv/PVP0Op3pafRtQ/FfVRX/ng0T84QeWpWEbNP8/FtnfTTsg/WQZqayOiyj/LmwXSrMnQP+UJCNYGYdM/UMeEFBOG1T+HWg1obcPYP2a0Xbqs9t4/PMInpbn45D8BaBhnoTfrP5E9CCIHXOs/n3hK3msu5j9nTF7wq2rhPzmc+dUcoNs/uxh3QUwb1j89H/Ft8sLRP1oxGgEuK8w/4m73D3VhxT9wi0NHvIa+P4zbAB36L7Y/C1kaTlLGsT/badMnpd+sP/N6salTG6Y/ERQFG1OHoT8SVFW0rtucP5f1lRnM5ZA/TC3d2eV/cD8K1+tq7gB9P+CxckTLdZ0/T6oxrNgbrD+H48YbAyy1P4Z7n4k0Grw/1hTxa140wD+k3GTx7grCP+OwC3Fy4MM/SphI7W6zxT+cnGcNWp/HP5tYng/or8k/cLJP+FOAyz8nfpQqtCDNP9a0xRQwqs4/hwhqvmsM0D/tV2xZ37zQP1kmkbc7b9E/7sbMT7up0j8NLfwqCsXTP5HeJpKemNQ/8ezZEG8f1T8zPA9R+VXVP7hxrAejRNU/x4bqvWP+1D+b37QJxZDUPxoZYPYdCdQ/FT1s+bNl0z+CxBs+jovSPxSFK9r7WNE/euv0ah2ozz9tuch3CGfMP3aLXS4kWMk/WyU3DuXZxj8PMAy7nFDFP0Di9IEmusc/\",\"dtype\":\"float64\",\"shape\":[75]},\"y\":{\"__ndarray__\":\"GhExyth1ND/Sv8nbtpRIP2vylNV0PVE/aTum7souWD/At0SJ8fVgPw3Iuahxymc/MSNhhJWvcD/bTfBN02d3P2zb5nxnaoA/CD5h5MAGhz8NmeH1TyaQP+zrCsc9p5Y/LbKd76fGnz/bLW5ISEmmPww9YvTcQq8/JV2OstnstT8Er5Y7M8G+P0c+r3jqkcU/5h99k6ZBzj88bCIzFzjVP4enV8oyxN0//yH99nXg5D8qOpLLf0jtP5kqGJXUifQ/c9cS8kHP/D+/DpwzojQEQIEmwoanVwxA4lgXt9HgE0BSSZ2AJuIbQAMJih9jjiNA5q4l5INuK0AwTKYKRj0zQNv5fmq8/DpAaCJseHrtQkB/+zpwzoxKQM3MzMzMeFJAZmZmZmZqWEAAAAAAAFxeQM3MzMzMJmJAmpmZmZkfZUBmZmZmZhhoQDMzMzMzEWtAAAAAAAAKbkBmZmZmZoFwQM3MzMzM/XFAMzMzMzN6c0CamZmZmfZ0QAAAAAAAc3ZAZmZmZmbvd0DNzMzMzGt5QDMzMzMz6HpAmpmZmZlkfEAAAAAAAOF9QGZmZmZmXX9AZmZmZuZsgECamZmZGSuBQM3MzMxM6YFAAAAAAICngkAzMzMzs2WDQGZmZmbmI4RAmpmZmRnihEDNzMzMTKCFQAAAAACAXoZAMzMzM7Mch0BmZmZm5tqHQJqZmZkZmYhAzczMzExXiUAAAAAAgBWKQDMzMzOz04pAZmZmZuaRi0CamZmZGVCMQM3MzMxMDo1AAAAAAIDMjUAzMzMzs4qOQGZmZmbmSI9A\",\"dtype\":\"float64\",\"shape\":[75]}}},\"id\":\"663074c8-2e61-406d-ba77-e0974defd546\",\"type\":\"ColumnDataSource\"},{\"attributes\":{},\"id\":\"d2c1fd3b-1ff2-4029-8166-d5ae2895ab09\",\"type\":\"BasicTicker\"},{\"attributes\":{\"below\":[{\"id\":\"16d0ebd1-1128-4bd0-b4c5-56591f1db132\",\"type\":\"LinearAxis\"}],\"left\":[{\"id\":\"08c9f73a-9c64-4251-b889-f32dc8ed731c\",\"type\":\"LinearAxis\"}],\"plot_height\":500,\"plot_width\":400,\"renderers\":[{\"id\":\"16d0ebd1-1128-4bd0-b4c5-56591f1db132\",\"type\":\"LinearAxis\"},{\"id\":\"00fafa8c-85fb-47fb-84e0-287bf819f3fd\",\"type\":\"Grid\"},{\"id\":\"08c9f73a-9c64-4251-b889-f32dc8ed731c\",\"type\":\"LinearAxis\"},{\"id\":\"65b0b815-1594-4f3c-bbf9-5e9d12c0bd01\",\"type\":\"Grid\"},{\"id\":\"3b691f2b-294f-4732-8260-2e4946a8a246\",\"type\":\"BoxAnnotation\"},{\"id\":\"6782c8ad-0430-4777-b4f8-72262166b1bd\",\"type\":\"GlyphRenderer\"},{\"id\":\"e4e6c7a6-3b4c-4957-a560-12bd3d91f1bb\",\"type\":\"GlyphRenderer\"},{\"id\":\"e8862988-0e69-4949-b2d7-1e234fefda7f\",\"type\":\"GlyphRenderer\"},{\"id\":\"150369fd-d8a9-4b53-b573-32661d2860c8\",\"type\":\"GlyphRenderer\"},{\"id\":\"7bdacc01-46d6-42d6-8001-f059ddaa453f\",\"type\":\"GlyphRenderer\"}],\"title\":{\"id\":\"c7e031a5-ef6f-4cfd-933d-071a3c078b1f\",\"type\":\"Title\"},\"toolbar\":{\"id\":\"f90889bf-8d50-4eb5-86fa-9f33f11b96d2\",\"type\":\"Toolbar\"},\"toolbar_location\":null,\"x_range\":{\"id\":\"37023ebc-90a0-40aa-bb44-277f7ffc8c67\",\"type\":\"Range1d\"},\"x_scale\":{\"id\":\"92b79bca-bcf6-4891-b110-0ffd81274e76\",\"type\":\"LinearScale\"},\"y_range\":{\"id\":\"cf768cdd-bbcc-4eb1-a876-ce782e0d0034\",\"type\":\"Range1d\"},\"y_scale\":{\"id\":\"d082d21f-941a-449b-8ea7-b7c2328091c3\",\"type\":\"LinearScale\"}},\"id\":\"12403a8d-38af-441b-8e82-ffa175284805\",\"subtype\":\"Figure\",\"type\":\"Plot\"},{\"attributes\":{},\"id\":\"ed38ec22-b1df-4b9e-a846-1a710404201f\",\"type\":\"WheelZoomTool\"},{\"attributes\":{},\"id\":\"6e0533d3-b06b-4f43-b09d-dfc7a73a5490\",\"type\":\"BasicTickFormatter\"},{\"attributes\":{\"children\":[{\"id\":\"70ae9ce3-afe1-4ffc-8e9a-041230c1e17b\",\"type\":\"Row\"}]},\"id\":\"30fc4d6e-2621-4456-913b-6e0408cc3b6f\",\"type\":\"Column\"},{\"attributes\":{\"fill_alpha\":{\"value\":0.7},\"fill_color\":{\"value\":\"#984ea3\"},\"line_alpha\":{\"value\":0.7},\"line_color\":{\"value\":\"#984ea3\"},\"x\":{\"field\":\"x\"},\"y\":{\"field\":\"y\"}},\"id\":\"7e973c23-a3f1-4d84-b3da-dc39484b9e29\",\"type\":\"Square\"},{\"attributes\":{\"num_minor_ticks\":10},\"id\":\"243b27aa-310f-4bb7-bea5-ed3952060b97\",\"type\":\"LogTicker\"},{\"attributes\":{\"data_source\":{\"id\":\"56dd6bf6-93a3-4a02-9fb4-0331d09fad90\",\"type\":\"ColumnDataSource\"},\"glyph\":{\"id\":\"d54da182-d188-4e6f-8053-ab6b17f51ca0\",\"type\":\"Line\"},\"hover_glyph\":null,\"muted_glyph\":null,\"nonselection_glyph\":{\"id\":\"013f74a2-95b4-4997-bfd5-697ab17932c3\",\"type\":\"Line\"},\"selection_glyph\":null,\"view\":{\"id\":\"22529180-44d0-4bef-bd23-a856200de760\",\"type\":\"CDSView\"}},\"id\":\"9d6104d9-569c-4c89-9c2b-7fae5c8e7ad5\",\"type\":\"GlyphRenderer\"},{\"attributes\":{},\"id\":\"612ac997-476c-45d2-9979-ad24c6255d61\",\"type\":\"BasicTickFormatter\"},{\"attributes\":{\"active_drag\":\"auto\",\"active_inspect\":\"auto\",\"active_scroll\":\"auto\",\"active_tap\":\"auto\",\"tools\":[{\"id\":\"0af3f194-707c-4124-b393-2e08ca0ffef7\",\"type\":\"PanTool\"},{\"id\":\"ed38ec22-b1df-4b9e-a846-1a710404201f\",\"type\":\"WheelZoomTool\"},{\"id\":\"6f1235ae-0666-429f-a865-5e7e55d18b39\",\"type\":\"BoxZoomTool\"},{\"id\":\"34cc045e-79d4-496f-bfab-87a39d2f939f\",\"type\":\"SaveTool\"},{\"id\":\"dc5b4475-495d-4123-b027-391804e4f366\",\"type\":\"ResetTool\"},{\"id\":\"e9bcdf48-38fc-46b6-8888-0129e16243ee\",\"type\":\"HelpTool\"}]},\"id\":\"f90889bf-8d50-4eb5-86fa-9f33f11b96d2\",\"type\":\"Toolbar\"},{\"attributes\":{\"plot\":{\"id\":\"12403a8d-38af-441b-8e82-ffa175284805\",\"subtype\":\"Figure\",\"type\":\"Plot\"},\"ticker\":{\"id\":\"c412c4c5-e70a-4d7f-81cc-74c103e1cdd0\",\"type\":\"BasicTicker\"}},\"id\":\"00fafa8c-85fb-47fb-84e0-287bf819f3fd\",\"type\":\"Grid\"},{\"attributes\":{},\"id\":\"92b79bca-bcf6-4891-b110-0ffd81274e76\",\"type\":\"LinearScale\"},{\"attributes\":{\"data_source\":{\"id\":\"8bb909f6-9c2d-454b-bb5c-0af152f61f12\",\"type\":\"ColumnDataSource\"},\"glyph\":{\"id\":\"54812f37-7d11-4f9b-b82c-df15aa08dbf3\",\"type\":\"Line\"},\"hover_glyph\":null,\"muted_glyph\":null,\"nonselection_glyph\":{\"id\":\"ad307d0c-4878-4d7f-bae2-4448adc49951\",\"type\":\"Line\"},\"selection_glyph\":null,\"view\":{\"id\":\"5f978ec9-ebc0-48ef-b9f0-2d05ae39088e\",\"type\":\"CDSView\"}},\"id\":\"e8862988-0e69-4949-b2d7-1e234fefda7f\",\"type\":\"GlyphRenderer\"},{\"attributes\":{\"dimension\":1,\"plot\":{\"id\":\"12403a8d-38af-441b-8e82-ffa175284805\",\"subtype\":\"Figure\",\"type\":\"Plot\"},\"ticker\":{\"id\":\"d2c1fd3b-1ff2-4029-8166-d5ae2895ab09\",\"type\":\"BasicTicker\"}},\"id\":\"65b0b815-1594-4f3c-bbf9-5e9d12c0bd01\",\"type\":\"Grid\"},{\"attributes\":{\"line_color\":\"#4daf4a\",\"line_width\":1.5,\"x\":{\"field\":\"x\"},\"y\":{\"field\":\"y\"}},\"id\":\"8df7b9c5-077a-4ae6-a8e4-a49c0b8aada9\",\"type\":\"Line\"},{\"attributes\":{\"source\":{\"id\":\"83dc15f2-bd84-4ef6-8974-36fcf7e93421\",\"type\":\"ColumnDataSource\"}},\"id\":\"29227fc4-f59c-4147-a836-c299cc2e8404\",\"type\":\"CDSView\"},{\"attributes\":{\"callback\":null,\"column_names\":[\"x\",\"y\"],\"data\":{\"x\":{\"__ndarray__\":\"QNhrct9H1T+20QhPS2DVPwXHI8AC+9U/TJ8E07yl1j+B4hEm1jPXP8uiTWHnntc/ZehUCYHi1z+utgfGZuzXPwnVtCg/q9c/RhvTVbIK1z8JpAbLv/PVP0Op3pafRtQ/FfVRX/ng0T84QeWpWEbNP8/FtnfTTsg/WQZqayOiyj/LmwXSrMnQP+UJCNYGYdM/UMeEFBOG1T+HWg1obcPYP2a0Xbqs9t4/PMInpbn45D8BaBhnoTfrP5E9CCIHXOs/n3hK3msu5j9nTF7wq2rhPzmc+dUcoNs/uxh3QUwb1j89H/Ft8sLRP1oxGgEuK8w/4m73D3VhxT9wi0NHvIa+P4zbAB36L7Y/C1kaTlLGsT/badMnpd+sP/N6salTG6Y/ERQFG1OHoT8SVFW0rtucP5f1lRnM5ZA/TC3d2eV/cD8K1+tq7gB9P+CxckTLdZ0/T6oxrNgbrD+H48YbAyy1P4Z7n4k0Grw/1hTxa140wD+k3GTx7grCP+OwC3Fy4MM/SphI7W6zxT+cnGcNWp/HP5tYng/or8k/cLJP+FOAyz8nfpQqtCDNP9a0xRQwqs4/hwhqvmsM0D/tV2xZ37zQP1kmkbc7b9E/7sbMT7up0j8NLfwqCsXTP5HeJpKemNQ/8ezZEG8f1T8zPA9R+VXVP7hxrAejRNU/x4bqvWP+1D+b37QJxZDUPxoZYPYdCdQ/FT1s+bNl0z+CxBs+jovSPxSFK9r7WNE/euv0ah2ozz9tuch3CGfMP3aLXS4kWMk/WyU3DuXZxj8PMAy7nFDFP0Di9IEmusc/\",\"dtype\":\"float64\",\"shape\":[75]},\"y\":{\"__ndarray__\":\"GhExyth1ND/Sv8nbtpRIP2vylNV0PVE/aTum7souWD/At0SJ8fVgPw3Iuahxymc/MSNhhJWvcD/bTfBN02d3P2zb5nxnaoA/CD5h5MAGhz8NmeH1TyaQP+zrCsc9p5Y/LbKd76fGnz/bLW5ISEmmPww9YvTcQq8/JV2OstnstT8Er5Y7M8G+P0c+r3jqkcU/5h99k6ZBzj88bCIzFzjVP4enV8oyxN0//yH99nXg5D8qOpLLf0jtP5kqGJXUifQ/c9cS8kHP/D+/DpwzojQEQIEmwoanVwxA4lgXt9HgE0BSSZ2AJuIbQAMJih9jjiNA5q4l5INuK0AwTKYKRj0zQNv5fmq8/DpAaCJseHrtQkB/+zpwzoxKQM3MzMzMeFJAZmZmZmZqWEAAAAAAAFxeQM3MzMzMJmJAmpmZmZkfZUBmZmZmZhhoQDMzMzMzEWtAAAAAAAAKbkBmZmZmZoFwQM3MzMzM/XFAMzMzMzN6c0CamZmZmfZ0QAAAAAAAc3ZAZmZmZmbvd0DNzMzMzGt5QDMzMzMz6HpAmpmZmZlkfEAAAAAAAOF9QGZmZmZmXX9AZmZmZuZsgECamZmZGSuBQM3MzMxM6YFAAAAAAICngkAzMzMzs2WDQGZmZmbmI4RAmpmZmRnihEDNzMzMTKCFQAAAAACAXoZAMzMzM7Mch0BmZmZm5tqHQJqZmZkZmYhAzczMzExXiUAAAAAAgBWKQDMzMzOz04pAZmZmZuaRi0CamZmZGVCMQM3MzMxMDo1AAAAAAIDMjUAzMzMzs4qOQGZmZmbmSI9A\",\"dtype\":\"float64\",\"shape\":[75]}}},\"id\":\"32078c2e-c700-49ad-9de3-229cfa30718b\",\"type\":\"ColumnDataSource\"},{\"attributes\":{\"line_color\":\"#4daf4a\",\"line_width\":1.5,\"x\":{\"field\":\"x\"},\"y\":{\"field\":\"y\"}},\"id\":\"54812f37-7d11-4f9b-b82c-df15aa08dbf3\",\"type\":\"Line\"},{\"attributes\":{\"callback\":null,\"column_names\":[\"x\",\"y\"],\"data\":{\"x\":{\"__ndarray__\":\"nluNkZGY2j/OtJKQJ03aP1/olduL4to/IL9tXLVh2z9FeKSPM6zbP2ckhD+qvts/Z3lg+G972z9XI/3uBNjaP+yhv8iyvdk/wlpK0D4a2D8NObaeIdzVPx0YSGmZ+dI/Hcua3BjQzj90gi7IMzvGP7mr9GYWmb8/doig5rvGwT8VdjDm16TJP8Xi3MsiudA/f4XMlUE11T+070BTZQ7bP0PHUEZDg+E/dazWskpj5z88gIeaz7btPxTAICvwPO0/Jtmwx8AR5z+xu+WPDnThP2H7yRgfJto/9R+I4kSq0z945Juvip7OP7XcPlATosg/jldiliRswz9v9gfKbfu8P5av/uFE+rU/KtJdD6+2sT/rIBykwRyrP+Oji245bqI/Wj8AIFw+mj/0E+98FraUP5Bx8EWurYU/rwGTW+tDNT9oQ/10HDRxP32rLAy8U5o/AaEH1CGLqj8YKRUGxYy0P6Ja6Vog5rs/1QRR9wFIwD+WBfJwK1LCP9NP9p7jhsQ/MS5N+ELUxj/GHhRzlCzJP5zJL2qUgcs/UsDR6dRwzT9jey3ovTHPP6xnMUZeddA/O4PQiyRL0T93taLufxfSP01URo4629I/EbZMRMcn1D+SeQUe70DVP7Z0NxXK/tU/FY7/hnlk1j9ZNs4B3XLWP1fBudCmNNY/CQg5MRy21T9qki/TvATVP7uB4eD7MNQ/J1Y+slZA0z92DWVu3x/SP4BWqlUFtNA/2KCKdnALzj8eohM6lpTKP2wTm01Pccc/kaC2FRTpxD+w7HpQ7V/DP///5mJf9MU/\",\"dtype\":\"float64\",\"shape\":[75]},\"y\":{\"__ndarray__\":\"GhExyth1ND/Sv8nbtpRIP2vylNV0PVE/aTum7souWD/At0SJ8fVgPw3Iuahxymc/MSNhhJWvcD/bTfBN02d3P2zb5nxnaoA/CD5h5MAGhz8NmeH1TyaQP+zrCsc9p5Y/LbKd76fGnz/bLW5ISEmmPww9YvTcQq8/JV2OstnstT8Er5Y7M8G+P0c+r3jqkcU/5h99k6ZBzj88bCIzFzjVP4enV8oyxN0//yH99nXg5D8qOpLLf0jtP5kqGJXUifQ/c9cS8kHP/D+/DpwzojQEQIEmwoanVwxA4lgXt9HgE0BSSZ2AJuIbQAMJih9jjiNA5q4l5INuK0AwTKYKRj0zQNv5fmq8/DpAaCJseHrtQkB/+zpwzoxKQM3MzMzMeFJAZmZmZmZqWEAAAAAAAFxeQM3MzMzMJmJAmpmZmZkfZUBmZmZmZhhoQDMzMzMzEWtAAAAAAAAKbkBmZmZmZoFwQM3MzMzM/XFAMzMzMzN6c0CamZmZmfZ0QAAAAAAAc3ZAZmZmZmbvd0DNzMzMzGt5QDMzMzMz6HpAmpmZmZlkfEAAAAAAAOF9QGZmZmZmXX9AZmZmZuZsgECamZmZGSuBQM3MzMxM6YFAAAAAAICngkAzMzMzs2WDQGZmZmbmI4RAmpmZmRnihEDNzMzMTKCFQAAAAACAXoZAMzMzM7Mch0BmZmZm5tqHQJqZmZkZmYhAzczMzExXiUAAAAAAgBWKQDMzMzOz04pAZmZmZuaRi0CamZmZGVCMQM3MzMxMDo1AAAAAAIDMjUAzMzMzs4qOQGZmZmbmSI9A\",\"dtype\":\"float64\",\"shape\":[75]}}},\"id\":\"83dc15f2-bd84-4ef6-8974-36fcf7e93421\",\"type\":\"ColumnDataSource\"},{\"attributes\":{\"label\":{\"value\":\"CRD\"},\"renderers\":[{\"id\":\"8192e654-fbe5-4c9e-a66e-07b82ec02de5\",\"type\":\"GlyphRenderer\"},{\"id\":\"ab748d55-20bb-49dd-9588-370e27d13c4c\",\"type\":\"GlyphRenderer\"}]},\"id\":\"deabe7a4-8387-4724-abec-7b978ad6a048\",\"type\":\"LegendItem\"},{\"attributes\":{\"fill_alpha\":{\"value\":0.1},\"fill_color\":{\"value\":\"#1f77b4\"},\"line_alpha\":{\"value\":0.1},\"line_color\":{\"value\":\"#1f77b4\"},\"x\":{\"field\":\"x\"},\"y\":{\"field\":\"y\"}},\"id\":\"b1e06225-8b59-4f3d-b11c-de0979b7e100\",\"type\":\"Circle\"},{\"attributes\":{\"callback\":null,\"end\":0.01,\"start\":1020},\"id\":\"cf768cdd-bbcc-4eb1-a876-ce782e0d0034\",\"type\":\"Range1d\"},{\"attributes\":{\"fill_alpha\":{\"value\":0.7},\"fill_color\":{\"value\":\"#4daf4a\"},\"line_alpha\":{\"value\":0.7},\"line_color\":{\"value\":\"#4daf4a\"},\"x\":{\"field\":\"x\"},\"y\":{\"field\":\"y\"}},\"id\":\"46fc907e-32ed-4afa-9d54-dce1d161e1f2\",\"type\":\"Circle\"},{\"attributes\":{},\"id\":\"0af3f194-707c-4124-b393-2e08ca0ffef7\",\"type\":\"PanTool\"},{\"attributes\":{\"data_source\":{\"id\":\"59b72f91-2305-4af7-869c-a0a0c3380959\",\"type\":\"ColumnDataSource\"},\"glyph\":{\"id\":\"48dfb2a9-eac3-41e8-a167-e973f8a12e5a\",\"type\":\"Line\"},\"hover_glyph\":null,\"muted_glyph\":null,\"nonselection_glyph\":{\"id\":\"a446e6e8-a0d2-4b59-a136-b145890357d5\",\"type\":\"Line\"},\"selection_glyph\":null,\"view\":{\"id\":\"88f9d956-adfb-478a-8955-60cbb99c6e02\",\"type\":\"CDSView\"}},\"id\":\"6782c8ad-0430-4777-b4f8-72262166b1bd\",\"type\":\"GlyphRenderer\"},{\"attributes\":{\"callback\":null,\"column_names\":[\"x\",\"y\"],\"data\":{\"x\":{\"__ndarray__\":\"nluNkZGY2j/OtJKQJ03aP1/olduL4to/IL9tXLVh2z9FeKSPM6zbP2ckhD+qvts/Z3lg+G972z9XI/3uBNjaP+yhv8iyvdk/wlpK0D4a2D8NObaeIdzVPx0YSGmZ+dI/Hcua3BjQzj90gi7IMzvGP7mr9GYWmb8/doig5rvGwT8VdjDm16TJP8Xi3MsiudA/f4XMlUE11T+070BTZQ7bP0PHUEZDg+E/dazWskpj5z88gIeaz7btPxTAICvwPO0/Jtmwx8AR5z+xu+WPDnThP2H7yRgfJto/9R+I4kSq0z945Juvip7OP7XcPlATosg/jldiliRswz9v9gfKbfu8P5av/uFE+rU/KtJdD6+2sT/rIBykwRyrP+Oji245bqI/Wj8AIFw+mj/0E+98FraUP5Bx8EWurYU/rwGTW+tDNT9oQ/10HDRxP32rLAy8U5o/AaEH1CGLqj8YKRUGxYy0P6Ja6Vog5rs/1QRR9wFIwD+WBfJwK1LCP9NP9p7jhsQ/MS5N+ELUxj/GHhRzlCzJP5zJL2qUgcs/UsDR6dRwzT9jey3ovTHPP6xnMUZeddA/O4PQiyRL0T93taLufxfSP01URo4629I/EbZMRMcn1D+SeQUe70DVP7Z0NxXK/tU/FY7/hnlk1j9ZNs4B3XLWP1fBudCmNNY/CQg5MRy21T9qki/TvATVP7uB4eD7MNQ/J1Y+slZA0z92DWVu3x/SP4BWqlUFtNA/2KCKdnALzj8eohM6lpTKP2wTm01Pccc/kaC2FRTpxD+w7HpQ7V/DP///5mJf9MU/\",\"dtype\":\"float64\",\"shape\":[75]},\"y\":{\"__ndarray__\":\"GhExyth1ND/Sv8nbtpRIP2vylNV0PVE/aTum7souWD/At0SJ8fVgPw3Iuahxymc/MSNhhJWvcD/bTfBN02d3P2zb5nxnaoA/CD5h5MAGhz8NmeH1TyaQP+zrCsc9p5Y/LbKd76fGnz/bLW5ISEmmPww9YvTcQq8/JV2OstnstT8Er5Y7M8G+P0c+r3jqkcU/5h99k6ZBzj88bCIzFzjVP4enV8oyxN0//yH99nXg5D8qOpLLf0jtP5kqGJXUifQ/c9cS8kHP/D+/DpwzojQEQIEmwoanVwxA4lgXt9HgE0BSSZ2AJuIbQAMJih9jjiNA5q4l5INuK0AwTKYKRj0zQNv5fmq8/DpAaCJseHrtQkB/+zpwzoxKQM3MzMzMeFJAZmZmZmZqWEAAAAAAAFxeQM3MzMzMJmJAmpmZmZkfZUBmZmZmZhhoQDMzMzMzEWtAAAAAAAAKbkBmZmZmZoFwQM3MzMzM/XFAMzMzMzN6c0CamZmZmfZ0QAAAAAAAc3ZAZmZmZmbvd0DNzMzMzGt5QDMzMzMz6HpAmpmZmZlkfEAAAAAAAOF9QGZmZmZmXX9AZmZmZuZsgECamZmZGSuBQM3MzMxM6YFAAAAAAICngkAzMzMzs2WDQGZmZmbmI4RAmpmZmRnihEDNzMzMTKCFQAAAAACAXoZAMzMzM7Mch0BmZmZm5tqHQJqZmZkZmYhAzczMzExXiUAAAAAAgBWKQDMzMzOz04pAZmZmZuaRi0CamZmZGVCMQM3MzMxMDo1AAAAAAIDMjUAzMzMzs4qOQGZmZmbmSI9A\",\"dtype\":\"float64\",\"shape\":[75]}}},\"id\":\"d0fa5904-18a4-48c1-8fe5-961538492f70\",\"type\":\"ColumnDataSource\"},{\"attributes\":{\"fill_alpha\":{\"value\":0.1},\"fill_color\":{\"value\":\"#1f77b4\"},\"line_alpha\":{\"value\":0.1},\"line_color\":{\"value\":\"#1f77b4\"},\"x\":{\"field\":\"x\"},\"y\":{\"field\":\"y\"}},\"id\":\"150afaf6-a966-4744-92cc-177bfd2affc7\",\"type\":\"Square\"},{\"attributes\":{\"bottom_units\":\"screen\",\"fill_alpha\":{\"value\":0.5},\"fill_color\":{\"value\":\"lightgrey\"},\"left_units\":\"screen\",\"level\":\"overlay\",\"line_alpha\":{\"value\":1.0},\"line_color\":{\"value\":\"black\"},\"line_dash\":[4,4],\"line_width\":{\"value\":2},\"plot\":null,\"render_mode\":\"css\",\"right_units\":\"screen\",\"top_units\":\"screen\"},\"id\":\"3b691f2b-294f-4732-8260-2e4946a8a246\",\"type\":\"BoxAnnotation\"},{\"attributes\":{\"data_source\":{\"id\":\"d0fa5904-18a4-48c1-8fe5-961538492f70\",\"type\":\"ColumnDataSource\"},\"glyph\":{\"id\":\"8df7b9c5-077a-4ae6-a8e4-a49c0b8aada9\",\"type\":\"Line\"},\"hover_glyph\":null,\"muted_glyph\":null,\"nonselection_glyph\":{\"id\":\"58bc6156-bedc-4fa6-8b81-335af101e2ab\",\"type\":\"Line\"},\"selection_glyph\":null,\"view\":{\"id\":\"5be410d6-856d-44b3-a8ae-e2a35a3bca67\",\"type\":\"CDSView\"}},\"id\":\"ab748d55-20bb-49dd-9588-370e27d13c4c\",\"type\":\"GlyphRenderer\"},{\"attributes\":{\"callback\":null,\"column_names\":[\"x\",\"y\"],\"data\":{\"x\":{\"__ndarray__\":\"QNhrct9H1T+20QhPS2DVPwXHI8AC+9U/TJ8E07yl1j+B4hEm1jPXP8uiTWHnntc/ZehUCYHi1z+utgfGZuzXPwnVtCg/q9c/RhvTVbIK1z8JpAbLv/PVP0Op3pafRtQ/FfVRX/ng0T84QeWpWEbNP8/FtnfTTsg/WQZqayOiyj/LmwXSrMnQP+UJCNYGYdM/UMeEFBOG1T+HWg1obcPYP2a0Xbqs9t4/PMInpbn45D8BaBhnoTfrP5E9CCIHXOs/n3hK3msu5j9nTF7wq2rhPzmc+dUcoNs/uxh3QUwb1j89H/Ft8sLRP1oxGgEuK8w/4m73D3VhxT9wi0NHvIa+P4zbAB36L7Y/C1kaTlLGsT/badMnpd+sP/N6salTG6Y/ERQFG1OHoT8SVFW0rtucP5f1lRnM5ZA/TC3d2eV/cD8K1+tq7gB9P+CxckTLdZ0/T6oxrNgbrD+H48YbAyy1P4Z7n4k0Grw/1hTxa140wD+k3GTx7grCP+OwC3Fy4MM/SphI7W6zxT+cnGcNWp/HP5tYng/or8k/cLJP+FOAyz8nfpQqtCDNP9a0xRQwqs4/hwhqvmsM0D/tV2xZ37zQP1kmkbc7b9E/7sbMT7up0j8NLfwqCsXTP5HeJpKemNQ/8ezZEG8f1T8zPA9R+VXVP7hxrAejRNU/x4bqvWP+1D+b37QJxZDUPxoZYPYdCdQ/FT1s+bNl0z+CxBs+jovSPxSFK9r7WNE/euv0ah2ozz9tuch3CGfMP3aLXS4kWMk/WyU3DuXZxj8PMAy7nFDFP0Di9IEmusc/\",\"dtype\":\"float64\",\"shape\":[75]},\"y\":{\"__ndarray__\":\"GhExyth1ND/Sv8nbtpRIP2vylNV0PVE/aTum7souWD/At0SJ8fVgPw3Iuahxymc/MSNhhJWvcD/bTfBN02d3P2zb5nxnaoA/CD5h5MAGhz8NmeH1TyaQP+zrCsc9p5Y/LbKd76fGnz/bLW5ISEmmPww9YvTcQq8/JV2OstnstT8Er5Y7M8G+P0c+r3jqkcU/5h99k6ZBzj88bCIzFzjVP4enV8oyxN0//yH99nXg5D8qOpLLf0jtP5kqGJXUifQ/c9cS8kHP/D+/DpwzojQEQIEmwoanVwxA4lgXt9HgE0BSSZ2AJuIbQAMJih9jjiNA5q4l5INuK0AwTKYKRj0zQNv5fmq8/DpAaCJseHrtQkB/+zpwzoxKQM3MzMzMeFJAZmZmZmZqWEAAAAAAAFxeQM3MzMzMJmJAmpmZmZkfZUBmZmZmZhhoQDMzMzMzEWtAAAAAAAAKbkBmZmZmZoFwQM3MzMzM/XFAMzMzMzN6c0CamZmZmfZ0QAAAAAAAc3ZAZmZmZmbvd0DNzMzMzGt5QDMzMzMz6HpAmpmZmZlkfEAAAAAAAOF9QGZmZmZmXX9AZmZmZuZsgECamZmZGSuBQM3MzMxM6YFAAAAAAICngkAzMzMzs2WDQGZmZmbmI4RAmpmZmRnihEDNzMzMTKCFQAAAAACAXoZAMzMzM7Mch0BmZmZm5tqHQJqZmZkZmYhAzczMzExXiUAAAAAAgBWKQDMzMzOz04pAZmZmZuaRi0CamZmZGVCMQM3MzMxMDo1AAAAAAIDMjUAzMzMzs4qOQGZmZmbmSI9A\",\"dtype\":\"float64\",\"shape\":[75]}}},\"id\":\"5dfabab2-f188-46e1-9b28-eade74f6998d\",\"type\":\"ColumnDataSource\"},{\"attributes\":{\"line_alpha\":0.1,\"line_color\":\"#1f77b4\",\"line_width\":1.5,\"x\":{\"field\":\"x\"},\"y\":{\"field\":\"y\"}},\"id\":\"58bc6156-bedc-4fa6-8b81-335af101e2ab\",\"type\":\"Line\"},{\"attributes\":{},\"id\":\"dc5b4475-495d-4123-b027-391804e4f366\",\"type\":\"ResetTool\"},{\"attributes\":{\"data_source\":{\"id\":\"83dc15f2-bd84-4ef6-8974-36fcf7e93421\",\"type\":\"ColumnDataSource\"},\"glyph\":{\"id\":\"46fc907e-32ed-4afa-9d54-dce1d161e1f2\",\"type\":\"Circle\"},\"hover_glyph\":null,\"muted_glyph\":null,\"nonselection_glyph\":{\"id\":\"b1e06225-8b59-4f3d-b11c-de0979b7e100\",\"type\":\"Circle\"},\"selection_glyph\":null,\"view\":{\"id\":\"29227fc4-f59c-4147-a836-c299cc2e8404\",\"type\":\"CDSView\"}},\"id\":\"8192e654-fbe5-4c9e-a66e-07b82ec02de5\",\"type\":\"GlyphRenderer\"},{\"attributes\":{\"callback\":null,\"end\":0.35426506217119996,\"start\":-0.0031798792912},\"id\":\"37023ebc-90a0-40aa-bb44-277f7ffc8c67\",\"type\":\"Range1d\"},{\"attributes\":{\"source\":{\"id\":\"d0fa5904-18a4-48c1-8fe5-961538492f70\",\"type\":\"ColumnDataSource\"}},\"id\":\"5be410d6-856d-44b3-a8ae-e2a35a3bca67\",\"type\":\"CDSView\"},{\"attributes\":{\"fill_alpha\":{\"value\":0.7},\"fill_color\":{\"value\":\"#984ea3\"},\"line_alpha\":{\"value\":0.7},\"line_color\":{\"value\":\"#984ea3\"},\"x\":{\"field\":\"x\"},\"y\":{\"field\":\"y\"}},\"id\":\"1b0c3647-ca4f-4b81-991e-ecd3e72e2119\",\"type\":\"Square\"},{\"attributes\":{\"data_source\":{\"id\":\"5dfabab2-f188-46e1-9b28-eade74f6998d\",\"type\":\"ColumnDataSource\"},\"glyph\":{\"id\":\"1b0c3647-ca4f-4b81-991e-ecd3e72e2119\",\"type\":\"Square\"},\"hover_glyph\":null,\"muted_glyph\":null,\"nonselection_glyph\":{\"id\":\"150afaf6-a966-4744-92cc-177bfd2affc7\",\"type\":\"Square\"},\"selection_glyph\":null,\"view\":{\"id\":\"50991f1f-824d-4081-bad9-8c105f3b51d5\",\"type\":\"CDSView\"}},\"id\":\"0b24a8cd-5bf6-4535-ae0e-af23fb51c0c9\",\"type\":\"GlyphRenderer\"},{\"attributes\":{\"source\":{\"id\":\"663074c8-2e61-406d-ba77-e0974defd546\",\"type\":\"ColumnDataSource\"}},\"id\":\"dd43818a-8c4e-42f5-a458-cf5de214213c\",\"type\":\"CDSView\"},{\"attributes\":{\"fill_alpha\":{\"value\":0.1},\"fill_color\":{\"value\":\"#1f77b4\"},\"line_alpha\":{\"value\":0.1},\"line_color\":{\"value\":\"#1f77b4\"},\"x\":{\"field\":\"x\"},\"y\":{\"field\":\"y\"}},\"id\":\"f702238f-22ec-404f-9a8a-868b4519adbc\",\"type\":\"Square\"},{\"attributes\":{\"line_alpha\":0.1,\"line_color\":\"#1f77b4\",\"line_width\":3,\"x\":{\"field\":\"x\"},\"y\":{\"field\":\"y\"}},\"id\":\"b05a0af3-830d-40c2-be34-8bf24e7ad9f3\",\"type\":\"Line\"},{\"attributes\":{\"callback\":null,\"end\":0.9378482030712,\"start\":-0.008957930191200001},\"id\":\"f643e7af-8ef0-421b-9e38-b106ac733b07\",\"type\":\"Range1d\"},{\"attributes\":{\"plot\":{\"id\":\"c8fb29aa-6d7e-4dc1-95e1-5a80eeb4f6db\",\"subtype\":\"Figure\",\"type\":\"Plot\"},\"ticker\":{\"id\":\"3e39dbf7-1d72-44a5-a8bb-8c8e4cb44904\",\"type\":\"BasicTicker\"}},\"id\":\"063ae9f5-a8c7-4c21-82ac-a01637a5ceca\",\"type\":\"Grid\"},{\"attributes\":{\"callback\":null,\"column_names\":[\"x\",\"y\"],\"data\":{\"x\":{\"__ndarray__\":\"nluNkZGY2j/OtJKQJ03aP1/olduL4to/IL9tXLVh2z9FeKSPM6zbP2ckhD+qvts/Z3lg+G972z9XI/3uBNjaP+yhv8iyvdk/wlpK0D4a2D8NObaeIdzVPx0YSGmZ+dI/Hcua3BjQzj90gi7IMzvGP7mr9GYWmb8/doig5rvGwT8VdjDm16TJP8Xi3MsiudA/f4XMlUE11T+070BTZQ7bP0PHUEZDg+E/dazWskpj5z88gIeaz7btPxTAICvwPO0/Jtmwx8AR5z+xu+WPDnThP2H7yRgfJto/9R+I4kSq0z945Juvip7OP7XcPlATosg/jldiliRswz9v9gfKbfu8P5av/uFE+rU/KtJdD6+2sT/rIBykwRyrP+Oji245bqI/Wj8AIFw+mj/0E+98FraUP5Bx8EWurYU/rwGTW+tDNT9oQ/10HDRxP32rLAy8U5o/AaEH1CGLqj8YKRUGxYy0P6Ja6Vog5rs/1QRR9wFIwD+WBfJwK1LCP9NP9p7jhsQ/MS5N+ELUxj/GHhRzlCzJP5zJL2qUgcs/UsDR6dRwzT9jey3ovTHPP6xnMUZeddA/O4PQiyRL0T93taLufxfSP01URo4629I/EbZMRMcn1D+SeQUe70DVP7Z0NxXK/tU/FY7/hnlk1j9ZNs4B3XLWP1fBudCmNNY/CQg5MRy21T9qki/TvATVP7uB4eD7MNQ/J1Y+slZA0z92DWVu3x/SP4BWqlUFtNA/2KCKdnALzj8eohM6lpTKP2wTm01Pccc/kaC2FRTpxD+w7HpQ7V/DP///5mJf9MU/\",\"dtype\":\"float64\",\"shape\":[75]},\"y\":{\"__ndarray__\":\"GhExyth1ND/Sv8nbtpRIP2vylNV0PVE/aTum7souWD/At0SJ8fVgPw3Iuahxymc/MSNhhJWvcD/bTfBN02d3P2zb5nxnaoA/CD5h5MAGhz8NmeH1TyaQP+zrCsc9p5Y/LbKd76fGnz/bLW5ISEmmPww9YvTcQq8/JV2OstnstT8Er5Y7M8G+P0c+r3jqkcU/5h99k6ZBzj88bCIzFzjVP4enV8oyxN0//yH99nXg5D8qOpLLf0jtP5kqGJXUifQ/c9cS8kHP/D+/DpwzojQEQIEmwoanVwxA4lgXt9HgE0BSSZ2AJuIbQAMJih9jjiNA5q4l5INuK0AwTKYKRj0zQNv5fmq8/DpAaCJseHrtQkB/+zpwzoxKQM3MzMzMeFJAZmZmZmZqWEAAAAAAAFxeQM3MzMzMJmJAmpmZmZkfZUBmZmZmZhhoQDMzMzMzEWtAAAAAAAAKbkBmZmZmZoFwQM3MzMzM/XFAMzMzMzN6c0CamZmZmfZ0QAAAAAAAc3ZAZmZmZmbvd0DNzMzMzGt5QDMzMzMz6HpAmpmZmZlkfEAAAAAAAOF9QGZmZmZmXX9AZmZmZuZsgECamZmZGSuBQM3MzMxM6YFAAAAAAICngkAzMzMzs2WDQGZmZmbmI4RAmpmZmRnihEDNzMzMTKCFQAAAAACAXoZAMzMzM7Mch0BmZmZm5tqHQJqZmZkZmYhAzczMzExXiUAAAAAAgBWKQDMzMzOz04pAZmZmZuaRi0CamZmZGVCMQM3MzMxMDo1AAAAAAIDMjUAzMzMzs4qOQGZmZmbmSI9A\",\"dtype\":\"float64\",\"shape\":[75]}}},\"id\":\"8bb909f6-9c2d-454b-bb5c-0af152f61f12\",\"type\":\"ColumnDataSource\"},{\"attributes\":{\"source\":{\"id\":\"5dfabab2-f188-46e1-9b28-eade74f6998d\",\"type\":\"ColumnDataSource\"}},\"id\":\"50991f1f-824d-4081-bad9-8c105f3b51d5\",\"type\":\"CDSView\"},{\"attributes\":{\"line_alpha\":0.6,\"line_color\":\"#984ea3\",\"line_width\":3,\"x\":{\"field\":\"x\"},\"y\":{\"field\":\"y\"}},\"id\":\"7072b2c4-7c1e-41d2-928e-385384d8d0f4\",\"type\":\"Line\"},{\"attributes\":{\"data_source\":{\"id\":\"32078c2e-c700-49ad-9de3-229cfa30718b\",\"type\":\"ColumnDataSource\"},\"glyph\":{\"id\":\"7072b2c4-7c1e-41d2-928e-385384d8d0f4\",\"type\":\"Line\"},\"hover_glyph\":null,\"muted_glyph\":null,\"nonselection_glyph\":{\"id\":\"b05a0af3-830d-40c2-be34-8bf24e7ad9f3\",\"type\":\"Line\"},\"selection_glyph\":null,\"view\":{\"id\":\"fe25636a-5a5d-464f-9585-e4cafc18eb48\",\"type\":\"CDSView\"}},\"id\":\"e0659812-1f65-4311-b0c6-e1501a702185\",\"type\":\"GlyphRenderer\"},{\"attributes\":{\"callback\":null,\"column_names\":[\"x\",\"y\"],\"data\":{\"x\":{\"__ndarray__\":\"nluNkZGY2j/OtJKQJ03aP1/olduL4to/IL9tXLVh2z9FeKSPM6zbP2ckhD+qvts/Z3lg+G972z9XI/3uBNjaP+yhv8iyvdk/wlpK0D4a2D8NObaeIdzVPx0YSGmZ+dI/Hcua3BjQzj90gi7IMzvGP7mr9GYWmb8/doig5rvGwT8VdjDm16TJP8Xi3MsiudA/f4XMlUE11T+070BTZQ7bP0PHUEZDg+E/dazWskpj5z88gIeaz7btPxTAICvwPO0/Jtmwx8AR5z+xu+WPDnThP2H7yRgfJto/9R+I4kSq0z945Juvip7OP7XcPlATosg/jldiliRswz9v9gfKbfu8P5av/uFE+rU/KtJdD6+2sT/rIBykwRyrP+Oji245bqI/Wj8AIFw+mj/0E+98FraUP5Bx8EWurYU/rwGTW+tDNT9oQ/10HDRxP32rLAy8U5o/AaEH1CGLqj8YKRUGxYy0P6Ja6Vog5rs/1QRR9wFIwD+WBfJwK1LCP9NP9p7jhsQ/MS5N+ELUxj/GHhRzlCzJP5zJL2qUgcs/UsDR6dRwzT9jey3ovTHPP6xnMUZeddA/O4PQiyRL0T93taLufxfSP01URo4629I/EbZMRMcn1D+SeQUe70DVP7Z0NxXK/tU/FY7/hnlk1j9ZNs4B3XLWP1fBudCmNNY/CQg5MRy21T9qki/TvATVP7uB4eD7MNQ/J1Y+slZA0z92DWVu3x/SP4BWqlUFtNA/2KCKdnALzj8eohM6lpTKP2wTm01Pccc/kaC2FRTpxD+w7HpQ7V/DP///5mJf9MU/\",\"dtype\":\"float64\",\"shape\":[75]},\"y\":{\"__ndarray__\":\"GhExyth1ND/Sv8nbtpRIP2vylNV0PVE/aTum7souWD/At0SJ8fVgPw3Iuahxymc/MSNhhJWvcD/bTfBN02d3P2zb5nxnaoA/CD5h5MAGhz8NmeH1TyaQP+zrCsc9p5Y/LbKd76fGnz/bLW5ISEmmPww9YvTcQq8/JV2OstnstT8Er5Y7M8G+P0c+r3jqkcU/5h99k6ZBzj88bCIzFzjVP4enV8oyxN0//yH99nXg5D8qOpLLf0jtP5kqGJXUifQ/c9cS8kHP/D+/DpwzojQEQIEmwoanVwxA4lgXt9HgE0BSSZ2AJuIbQAMJih9jjiNA5q4l5INuK0AwTKYKRj0zQNv5fmq8/DpAaCJseHrtQkB/+zpwzoxKQM3MzMzMeFJAZmZmZmZqWEAAAAAAAFxeQM3MzMzMJmJAmpmZmZkfZUBmZmZmZhhoQDMzMzMzEWtAAAAAAAAKbkBmZmZmZoFwQM3MzMzM/XFAMzMzMzN6c0CamZmZmfZ0QAAAAAAAc3ZAZmZmZmbvd0DNzMzMzGt5QDMzMzMz6HpAmpmZmZlkfEAAAAAAAOF9QGZmZmZmXX9AZmZmZuZsgECamZmZGSuBQM3MzMxM6YFAAAAAAICngkAzMzMzs2WDQGZmZmbmI4RAmpmZmRnihEDNzMzMTKCFQAAAAACAXoZAMzMzM7Mch0BmZmZm5tqHQJqZmZkZmYhAzczMzExXiUAAAAAAgBWKQDMzMzOz04pAZmZmZuaRi0CamZmZGVCMQM3MzMxMDo1AAAAAAIDMjUAzMzMzs4qOQGZmZmbmSI9A\",\"dtype\":\"float64\",\"shape\":[75]}}},\"id\":\"e46e8e1d-427e-4e78-af6f-caf61463125b\",\"type\":\"ColumnDataSource\"},{\"attributes\":{\"toolbar\":{\"id\":\"f7c3b9a3-e112-47fc-94fe-feddb2a10546\",\"type\":\"ProxyToolbar\"},\"toolbar_location\":\"above\"},\"id\":\"e1ed8a26-821d-4674-b4fa-c3fe0ae6b654\",\"type\":\"ToolbarBox\"},{\"attributes\":{},\"id\":\"0ed65608-32ec-4959-ab82-c74e299ae547\",\"type\":\"ResetTool\"},{\"attributes\":{\"source\":{\"id\":\"32078c2e-c700-49ad-9de3-229cfa30718b\",\"type\":\"ColumnDataSource\"}},\"id\":\"fe25636a-5a5d-464f-9585-e4cafc18eb48\",\"type\":\"CDSView\"},{\"attributes\":{\"items\":[{\"id\":\"fcc290af-610d-4445-9988-334b80f8c3b0\",\"type\":\"LegendItem\"},{\"id\":\"deabe7a4-8387-4724-abec-7b978ad6a048\",\"type\":\"LegendItem\"},{\"id\":\"0985db66-c01b-4602-a538-9b1dd06f2542\",\"type\":\"LegendItem\"}],\"label_text_font_size\":{\"value\":\"8pt\"},\"location\":[10,-30],\"plot\":{\"id\":\"c8fb29aa-6d7e-4dc1-95e1-5a80eeb4f6db\",\"subtype\":\"Figure\",\"type\":\"Plot\"}},\"id\":\"9b526981-40b8-470f-9e78-ba4ee1392b9e\",\"type\":\"Legend\"},{\"attributes\":{\"line_alpha\":0.1,\"line_color\":\"#1f77b4\",\"line_width\":3,\"x\":{\"field\":\"x\"},\"y\":{\"field\":\"y\"}},\"id\":\"82fed26e-07b9-485b-a142-88ddc2a414ba\",\"type\":\"Line\"},{\"attributes\":{\"data_source\":{\"id\":\"e46e8e1d-427e-4e78-af6f-caf61463125b\",\"type\":\"ColumnDataSource\"},\"glyph\":{\"id\":\"95888089-2179-4173-81a0-2caca2c35400\",\"type\":\"Circle\"},\"hover_glyph\":null,\"muted_glyph\":null,\"nonselection_glyph\":{\"id\":\"c25fee35-145e-4d32-aec9-2b8f4197528b\",\"type\":\"Circle\"},\"selection_glyph\":null,\"view\":{\"id\":\"0cd6ed3e-5c64-4082-af05-ee8e6d987265\",\"type\":\"CDSView\"}},\"id\":\"e4e6c7a6-3b4c-4957-a560-12bd3d91f1bb\",\"type\":\"GlyphRenderer\"},{\"attributes\":{},\"id\":\"7babfc97-92fd-4ecb-8927-f1a466327e3c\",\"type\":\"LogScale\"},{\"attributes\":{\"tools\":[{\"id\":\"0af3f194-707c-4124-b393-2e08ca0ffef7\",\"type\":\"PanTool\"},{\"id\":\"ed38ec22-b1df-4b9e-a846-1a710404201f\",\"type\":\"WheelZoomTool\"},{\"id\":\"6f1235ae-0666-429f-a865-5e7e55d18b39\",\"type\":\"BoxZoomTool\"},{\"id\":\"34cc045e-79d4-496f-bfab-87a39d2f939f\",\"type\":\"SaveTool\"},{\"id\":\"dc5b4475-495d-4123-b027-391804e4f366\",\"type\":\"ResetTool\"},{\"id\":\"e9bcdf48-38fc-46b6-8888-0129e16243ee\",\"type\":\"HelpTool\"},{\"id\":\"354c742a-b575-40a0-88b4-4217726c8f8b\",\"type\":\"PanTool\"},{\"id\":\"18c4dd73-fa3c-4dc8-82fc-8f78c1f9aec7\",\"type\":\"WheelZoomTool\"},{\"id\":\"723d7ba9-fd51-4118-8057-681d23120595\",\"type\":\"BoxZoomTool\"},{\"id\":\"ae707a5d-4957-40a2-ab38-52703c7446c2\",\"type\":\"SaveTool\"},{\"id\":\"0ed65608-32ec-4959-ab82-c74e299ae547\",\"type\":\"ResetTool\"},{\"id\":\"9fa453bb-9b10-4842-a990-ffcfc496408e\",\"type\":\"HelpTool\"}]},\"id\":\"f7c3b9a3-e112-47fc-94fe-feddb2a10546\",\"type\":\"ProxyToolbar\"},{\"attributes\":{\"source\":{\"id\":\"7edde801-a3de-44e3-9d45-8220c061405c\",\"type\":\"ColumnDataSource\"}},\"id\":\"28cae778-5cf6-4848-9b04-ff1c3f54a851\",\"type\":\"CDSView\"},{\"attributes\":{\"active_drag\":\"auto\",\"active_inspect\":\"auto\",\"active_scroll\":\"auto\",\"active_tap\":\"auto\",\"tools\":[{\"id\":\"354c742a-b575-40a0-88b4-4217726c8f8b\",\"type\":\"PanTool\"},{\"id\":\"18c4dd73-fa3c-4dc8-82fc-8f78c1f9aec7\",\"type\":\"WheelZoomTool\"},{\"id\":\"723d7ba9-fd51-4118-8057-681d23120595\",\"type\":\"BoxZoomTool\"},{\"id\":\"ae707a5d-4957-40a2-ab38-52703c7446c2\",\"type\":\"SaveTool\"},{\"id\":\"0ed65608-32ec-4959-ab82-c74e299ae547\",\"type\":\"ResetTool\"},{\"id\":\"9fa453bb-9b10-4842-a990-ffcfc496408e\",\"type\":\"HelpTool\"}]},\"id\":\"de65216b-b6cb-4e51-9f13-f76c3d6e8194\",\"type\":\"Toolbar\"},{\"attributes\":{\"children\":[{\"id\":\"e1ed8a26-821d-4674-b4fa-c3fe0ae6b654\",\"type\":\"ToolbarBox\"},{\"id\":\"30fc4d6e-2621-4456-913b-6e0408cc3b6f\",\"type\":\"Column\"}]},\"id\":\"f0516c33-b4b6-47c5-acab-0d76e5f17074\",\"type\":\"Column\"},{\"attributes\":{\"below\":[{\"id\":\"829ebdf5-fca1-4e6a-9797-655064de48af\",\"type\":\"LinearAxis\"}],\"left\":[{\"id\":\"7bb316b9-be83-4c25-895c-3125a61bc617\",\"type\":\"LogAxis\"}],\"plot_height\":500,\"plot_width\":560,\"renderers\":[{\"id\":\"829ebdf5-fca1-4e6a-9797-655064de48af\",\"type\":\"LinearAxis\"},{\"id\":\"063ae9f5-a8c7-4c21-82ac-a01637a5ceca\",\"type\":\"Grid\"},{\"id\":\"7bb316b9-be83-4c25-895c-3125a61bc617\",\"type\":\"LogAxis\"},{\"id\":\"ca626df3-7273-4177-9ab0-ede8b7ca02bf\",\"type\":\"Grid\"},{\"id\":\"2fd4c74d-6b43-4fbd-91a4-42bda7bb6c51\",\"type\":\"BoxAnnotation\"},{\"id\":\"9d6104d9-569c-4c89-9c2b-7fae5c8e7ad5\",\"type\":\"GlyphRenderer\"},{\"id\":\"8192e654-fbe5-4c9e-a66e-07b82ec02de5\",\"type\":\"GlyphRenderer\"},{\"id\":\"ab748d55-20bb-49dd-9588-370e27d13c4c\",\"type\":\"GlyphRenderer\"},{\"id\":\"0b24a8cd-5bf6-4535-ae0e-af23fb51c0c9\",\"type\":\"GlyphRenderer\"},{\"id\":\"e0659812-1f65-4311-b0c6-e1501a702185\",\"type\":\"GlyphRenderer\"},{\"id\":\"9b526981-40b8-470f-9e78-ba4ee1392b9e\",\"type\":\"Legend\"}],\"right\":[{\"id\":\"9b526981-40b8-470f-9e78-ba4ee1392b9e\",\"type\":\"Legend\"}],\"title\":{\"id\":\"a5076fca-e931-402c-9912-68894a1a6d11\",\"type\":\"Title\"},\"toolbar\":{\"id\":\"de65216b-b6cb-4e51-9f13-f76c3d6e8194\",\"type\":\"Toolbar\"},\"toolbar_location\":null,\"x_range\":{\"id\":\"f643e7af-8ef0-421b-9e38-b106ac733b07\",\"type\":\"Range1d\"},\"x_scale\":{\"id\":\"b1a7addc-413a-4f4d-9c07-ca4edd306e9f\",\"type\":\"LinearScale\"},\"y_range\":{\"id\":\"65ed36da-883d-4679-92e5-832bed3b2042\",\"type\":\"Range1d\"},\"y_scale\":{\"id\":\"7babfc97-92fd-4ecb-8927-f1a466327e3c\",\"type\":\"LogScale\"}},\"id\":\"c8fb29aa-6d7e-4dc1-95e1-5a80eeb4f6db\",\"subtype\":\"Figure\",\"type\":\"Plot\"},{\"attributes\":{\"plot\":null,\"text\":\"Log pressure scale\"},\"id\":\"a5076fca-e931-402c-9912-68894a1a6d11\",\"type\":\"Title\"},{\"attributes\":{},\"id\":\"3e39dbf7-1d72-44a5-a8bb-8c8e4cb44904\",\"type\":\"BasicTicker\"},{\"attributes\":{\"label\":{\"value\":\"WGT igg=10 wgt_flux=2\"},\"renderers\":[{\"id\":\"0b24a8cd-5bf6-4535-ae0e-af23fb51c0c9\",\"type\":\"GlyphRenderer\"},{\"id\":\"e0659812-1f65-4311-b0c6-e1501a702185\",\"type\":\"GlyphRenderer\"}]},\"id\":\"0985db66-c01b-4602-a538-9b1dd06f2542\",\"type\":\"LegendItem\"},{\"attributes\":{},\"id\":\"b1a7addc-413a-4f4d-9c07-ca4edd306e9f\",\"type\":\"LinearScale\"},{\"attributes\":{\"source\":{\"id\":\"59b72f91-2305-4af7-869c-a0a0c3380959\",\"type\":\"ColumnDataSource\"}},\"id\":\"88f9d956-adfb-478a-8955-60cbb99c6e02\",\"type\":\"CDSView\"},{\"attributes\":{\"children\":[{\"id\":\"12403a8d-38af-441b-8e82-ffa175284805\",\"subtype\":\"Figure\",\"type\":\"Plot\"},{\"id\":\"c8fb29aa-6d7e-4dc1-95e1-5a80eeb4f6db\",\"subtype\":\"Figure\",\"type\":\"Plot\"}]},\"id\":\"70ae9ce3-afe1-4ffc-8e9a-041230c1e17b\",\"type\":\"Row\"},{\"attributes\":{},\"id\":\"18c4dd73-fa3c-4dc8-82fc-8f78c1f9aec7\",\"type\":\"WheelZoomTool\"},{\"attributes\":{\"ticker\":null},\"id\":\"5e8be679-675f-4a07-8c58-84aaa6e63000\",\"type\":\"LogTickFormatter\"},{\"attributes\":{\"callback\":null,\"column_names\":[\"x\",\"y\"],\"data\":{\"x\":{\"__ndarray__\":\"QNhrct9H1T+20QhPS2DVPwXHI8AC+9U/TJ8E07yl1j+B4hEm1jPXP8uiTWHnntc/ZehUCYHi1z+utgfGZuzXPwnVtCg/q9c/RhvTVbIK1z8JpAbLv/PVP0Op3pafRtQ/FfVRX/ng0T84QeWpWEbNP8/FtnfTTsg/WQZqayOiyj/LmwXSrMnQP+UJCNYGYdM/UMeEFBOG1T+HWg1obcPYP2a0Xbqs9t4/PMInpbn45D8BaBhnoTfrP5E9CCIHXOs/n3hK3msu5j9nTF7wq2rhPzmc+dUcoNs/uxh3QUwb1j89H/Ft8sLRP1oxGgEuK8w/4m73D3VhxT9wi0NHvIa+P4zbAB36L7Y/C1kaTlLGsT/badMnpd+sP/N6salTG6Y/ERQFG1OHoT8SVFW0rtucP5f1lRnM5ZA/TC3d2eV/cD8K1+tq7gB9P+CxckTLdZ0/T6oxrNgbrD+H48YbAyy1P4Z7n4k0Grw/1hTxa140wD+k3GTx7grCP+OwC3Fy4MM/SphI7W6zxT+cnGcNWp/HP5tYng/or8k/cLJP+FOAyz8nfpQqtCDNP9a0xRQwqs4/hwhqvmsM0D/tV2xZ37zQP1kmkbc7b9E/7sbMT7up0j8NLfwqCsXTP5HeJpKemNQ/8ezZEG8f1T8zPA9R+VXVP7hxrAejRNU/x4bqvWP+1D+b37QJxZDUPxoZYPYdCdQ/FT1s+bNl0z+CxBs+jovSPxSFK9r7WNE/euv0ah2ozz9tuch3CGfMP3aLXS4kWMk/WyU3DuXZxj8PMAy7nFDFP0Di9IEmusc/\",\"dtype\":\"float64\",\"shape\":[75]},\"y\":{\"__ndarray__\":\"GhExyth1ND/Sv8nbtpRIP2vylNV0PVE/aTum7souWD/At0SJ8fVgPw3Iuahxymc/MSNhhJWvcD/bTfBN02d3P2zb5nxnaoA/CD5h5MAGhz8NmeH1TyaQP+zrCsc9p5Y/LbKd76fGnz/bLW5ISEmmPww9YvTcQq8/JV2OstnstT8Er5Y7M8G+P0c+r3jqkcU/5h99k6ZBzj88bCIzFzjVP4enV8oyxN0//yH99nXg5D8qOpLLf0jtP5kqGJXUifQ/c9cS8kHP/D+/DpwzojQEQIEmwoanVwxA4lgXt9HgE0BSSZ2AJuIbQAMJih9jjiNA5q4l5INuK0AwTKYKRj0zQNv5fmq8/DpAaCJseHrtQkB/+zpwzoxKQM3MzMzMeFJAZmZmZmZqWEAAAAAAAFxeQM3MzMzMJmJAmpmZmZkfZUBmZmZmZhhoQDMzMzMzEWtAAAAAAAAKbkBmZmZmZoFwQM3MzMzM/XFAMzMzMzN6c0CamZmZmfZ0QAAAAAAAc3ZAZmZmZmbvd0DNzMzMzGt5QDMzMzMz6HpAmpmZmZlkfEAAAAAAAOF9QGZmZmZmXX9AZmZmZuZsgECamZmZGSuBQM3MzMxM6YFAAAAAAICngkAzMzMzs2WDQGZmZmbmI4RAmpmZmRnihEDNzMzMTKCFQAAAAACAXoZAMzMzM7Mch0BmZmZm5tqHQJqZmZkZmYhAzczMzExXiUAAAAAAgBWKQDMzMzOz04pAZmZmZuaRi0CamZmZGVCMQM3MzMxMDo1AAAAAAIDMjUAzMzMzs4qOQGZmZmbmSI9A\",\"dtype\":\"float64\",\"shape\":[75]}}},\"id\":\"7edde801-a3de-44e3-9d45-8220c061405c\",\"type\":\"ColumnDataSource\"},{\"attributes\":{\"source\":{\"id\":\"e46e8e1d-427e-4e78-af6f-caf61463125b\",\"type\":\"ColumnDataSource\"}},\"id\":\"0cd6ed3e-5c64-4082-af05-ee8e6d987265\",\"type\":\"CDSView\"},{\"attributes\":{\"callback\":null,\"column_names\":[\"x\",\"y\"],\"data\":{\"x\":{\"__ndarray__\":\"agI9uxlBzz/PfNZO967PP9WIy7dfetA/vVjWBdUp0T9wKaVv69HRP+jcDolSbdI/LJpzlZP10j8MwO2m51/TPxxA4P3In9M/R3sXSoGg0z+Y13SxJ0nTP8+ldo4adtI//xOv9NL70D/qclKxlFnNP59SqQKD3sk/gUUb01WyzD9sUvrXLLbRP4djIzG91NM/Iok9OMj51D8F9ZCddRXXPwJO53G1odw/LWFMfrTt4z+/pwc/UHLqP+h4Fs5/+eo/m2PMn2c65j+5MaCLRJDhPyEB5edtCdw/heQJKeRv1j8puZqnAPnRPwVY3GbHGcw/Ud077oQsxT+YmcIYy9O9P+eNaEJg07Q/EjMwLxY/sD/sW6sSbCmrP/T/mECLUaU/LOjA6ZKuoD8J0Zs2VYqaPxKytNLyo4w/7l67ov70Wz+oieJAzSpyP1/DWhyYU5k/HKA7jg1HqT9U6cRxInKzP+ZsCRI+CLo/DO7/yudovj9AZDZtazDBP9gUZcJxEcM//XBnkbPRxD90oagiy7jGPxMhGoKI+cg/MkM+Q5Mfyz+eZEihbhjNP+Mo7cuh3s4/9Sf5KlxD0D/peXky5gvRP+mIEfxO19E/EIcZ2DIy0z/jOdcHxHHUP7k5MuJEbNU/X1/KRDoR1j/EA7EJvFXWPx3qFDewTdY/p5YIr7gT1j+dc6a/TbXVP3uuQgxsPNU/fXiWICOg1D9/ZlI7qrfTP5rMmWnSWNI/UtjBmF+T0D+oEPpfz1PNP1EpPImExsk/vz34Hmjkxj9NAJOOUSLFP+7C/+sWYMc/\",\"dtype\":\"float64\",\"shape\":[75]},\"y\":{\"__ndarray__\":\"S/O/Q+51ND/Sv8nbtpRIP2vylNV0PVE/aTum7souWD/At0SJ8fVgPw3Iuahxymc/MSNhhJWvcD/bTfBN02d3P2zb5nxnaoA/CD5h5MAGhz8NmeH1TyaQP+zrCsc9p5Y/LbKd76fGnz/bLW5ISEmmPww9YvTcQq8/JV2OstnstT8Er5Y7M8G+P0c+r3jqkcU/5h99k6ZBzj88bCIzFzjVP4enV8oyxN0//yH99nXg5D8qOpLLf0jtP5kqGJXUifQ/c9cS8kHP/D+/DpwzojQEQIEmwoanVwxA4lgXt9HgE0BSSZ2AJuIbQAMJih9jjiNA5q4l5INuK0AwTKYKRj0zQNv5fmq8/DpAaCJseHrtQkB/+zpwzoxKQM3MzMzMeFJAZmZmZmZqWEAAAAAAAFxeQM3MzMzMJmJAmpmZmZkfZUBmZmZmZhhoQDMzMzMzEWtAAAAAAAAKbkBmZmZmZoFwQM3MzMzM/XFAMzMzMzN6c0CamZmZmfZ0QAAAAAAAc3ZAZmZmZmbvd0DNzMzMzGt5QDMzMzMz6HpAmpmZmZlkfEAAAAAAAOF9QGZmZmZmXX9AZmZmZuZsgECamZmZGSuBQM3MzMxM6YFAAAAAAICngkAzMzMzs2WDQGZmZmbmI4RAmpmZmRnihEDNzMzMTKCFQAAAAACAXoZAMzMzM7Mch0BmZmZm5tqHQJqZmZkZmYhAzczMzExXiUAAAAAAgBWKQDMzMzOz04pAZmZmZuaRi0CamZmZGVCMQM3MzMxMDo1AAAAAAIDMjUAzMzMzs4qOQGZmZmbmSI9A\",\"dtype\":\"float64\",\"shape\":[75]}}},\"id\":\"59b72f91-2305-4af7-869c-a0a0c3380959\",\"type\":\"ColumnDataSource\"},{\"attributes\":{},\"id\":\"ae707a5d-4957-40a2-ab38-52703c7446c2\",\"type\":\"SaveTool\"},{\"attributes\":{\"callback\":null,\"end\":0.01,\"start\":1020},\"id\":\"65ed36da-883d-4679-92e5-832bed3b2042\",\"type\":\"Range1d\"},{\"attributes\":{},\"id\":\"baceb612-0ea5-4fb8-8ed4-a762524a0fa9\",\"type\":\"BasicTickFormatter\"},{\"attributes\":{\"bottom_units\":\"screen\",\"fill_alpha\":{\"value\":0.5},\"fill_color\":{\"value\":\"lightgrey\"},\"left_units\":\"screen\",\"level\":\"overlay\",\"line_alpha\":{\"value\":1.0},\"line_color\":{\"value\":\"black\"},\"line_dash\":[4,4],\"line_width\":{\"value\":2},\"plot\":null,\"render_mode\":\"css\",\"right_units\":\"screen\",\"top_units\":\"screen\"},\"id\":\"2fd4c74d-6b43-4fbd-91a4-42bda7bb6c51\",\"type\":\"BoxAnnotation\"},{\"attributes\":{},\"id\":\"34cc045e-79d4-496f-bfab-87a39d2f939f\",\"type\":\"SaveTool\"},{\"attributes\":{\"line_alpha\":0.6,\"line_color\":\"#e41a1c\",\"line_dash\":[6],\"line_width\":5,\"x\":{\"field\":\"x\"},\"y\":{\"field\":\"y\"}},\"id\":\"48dfb2a9-eac3-41e8-a167-e973f8a12e5a\",\"type\":\"Line\"},{\"attributes\":{\"label\":{\"value\":\"CLIRAD `coolr_bands`\"},\"renderers\":[{\"id\":\"9d6104d9-569c-4c89-9c2b-7fae5c8e7ad5\",\"type\":\"GlyphRenderer\"}]},\"id\":\"fcc290af-610d-4445-9988-334b80f8c3b0\",\"type\":\"LegendItem\"},{\"attributes\":{\"data_source\":{\"id\":\"7edde801-a3de-44e3-9d45-8220c061405c\",\"type\":\"ColumnDataSource\"},\"glyph\":{\"id\":\"141a97f3-4dc8-49ac-810e-cca9a7f5d322\",\"type\":\"Line\"},\"hover_glyph\":null,\"muted_glyph\":null,\"nonselection_glyph\":{\"id\":\"82fed26e-07b9-485b-a142-88ddc2a414ba\",\"type\":\"Line\"},\"selection_glyph\":null,\"view\":{\"id\":\"28cae778-5cf6-4848-9b04-ff1c3f54a851\",\"type\":\"CDSView\"}},\"id\":\"7bdacc01-46d6-42d6-8001-f059ddaa453f\",\"type\":\"GlyphRenderer\"},{\"attributes\":{\"data_source\":{\"id\":\"663074c8-2e61-406d-ba77-e0974defd546\",\"type\":\"ColumnDataSource\"},\"glyph\":{\"id\":\"7e973c23-a3f1-4d84-b3da-dc39484b9e29\",\"type\":\"Square\"},\"hover_glyph\":null,\"muted_glyph\":null,\"nonselection_glyph\":{\"id\":\"f702238f-22ec-404f-9a8a-868b4519adbc\",\"type\":\"Square\"},\"selection_glyph\":null,\"view\":{\"id\":\"dd43818a-8c4e-42f5-a458-cf5de214213c\",\"type\":\"CDSView\"}},\"id\":\"150369fd-d8a9-4b53-b573-32661d2860c8\",\"type\":\"GlyphRenderer\"},{\"attributes\":{\"fill_alpha\":{\"value\":0.7},\"fill_color\":{\"value\":\"#4daf4a\"},\"line_alpha\":{\"value\":0.7},\"line_color\":{\"value\":\"#4daf4a\"},\"x\":{\"field\":\"x\"},\"y\":{\"field\":\"y\"}},\"id\":\"95888089-2179-4173-81a0-2caca2c35400\",\"type\":\"Circle\"},{\"attributes\":{},\"id\":\"9fa453bb-9b10-4842-a990-ffcfc496408e\",\"type\":\"HelpTool\"},{\"attributes\":{\"axis_label\":\"cooling rate [K/day]\",\"formatter\":{\"id\":\"baceb612-0ea5-4fb8-8ed4-a762524a0fa9\",\"type\":\"BasicTickFormatter\"},\"plot\":{\"id\":\"c8fb29aa-6d7e-4dc1-95e1-5a80eeb4f6db\",\"subtype\":\"Figure\",\"type\":\"Plot\"},\"ticker\":{\"id\":\"3e39dbf7-1d72-44a5-a8bb-8c8e4cb44904\",\"type\":\"BasicTicker\"}},\"id\":\"829ebdf5-fca1-4e6a-9797-655064de48af\",\"type\":\"LinearAxis\"},{\"attributes\":{\"line_alpha\":0.1,\"line_color\":\"#1f77b4\",\"line_dash\":[6],\"line_width\":5,\"x\":{\"field\":\"x\"},\"y\":{\"field\":\"y\"}},\"id\":\"a446e6e8-a0d2-4b59-a136-b145890357d5\",\"type\":\"Line\"},{\"attributes\":{\"source\":{\"id\":\"8bb909f6-9c2d-454b-bb5c-0af152f61f12\",\"type\":\"ColumnDataSource\"}},\"id\":\"5f978ec9-ebc0-48ef-b9f0-2d05ae39088e\",\"type\":\"CDSView\"},{\"attributes\":{},\"id\":\"e9bcdf48-38fc-46b6-8888-0129e16243ee\",\"type\":\"HelpTool\"},{\"attributes\":{},\"id\":\"354c742a-b575-40a0-88b4-4217726c8f8b\",\"type\":\"PanTool\"},{\"attributes\":{\"line_alpha\":0.6,\"line_color\":\"#984ea3\",\"line_width\":3,\"x\":{\"field\":\"x\"},\"y\":{\"field\":\"y\"}},\"id\":\"141a97f3-4dc8-49ac-810e-cca9a7f5d322\",\"type\":\"Line\"},{\"attributes\":{\"axis_label\":\"pressure [mb]\",\"formatter\":{\"id\":\"5e8be679-675f-4a07-8c58-84aaa6e63000\",\"type\":\"LogTickFormatter\"},\"plot\":{\"id\":\"c8fb29aa-6d7e-4dc1-95e1-5a80eeb4f6db\",\"subtype\":\"Figure\",\"type\":\"Plot\"},\"ticker\":{\"id\":\"243b27aa-310f-4bb7-bea5-ed3952060b97\",\"type\":\"LogTicker\"}},\"id\":\"7bb316b9-be83-4c25-895c-3125a61bc617\",\"type\":\"LogAxis\"},{\"attributes\":{\"overlay\":{\"id\":\"2fd4c74d-6b43-4fbd-91a4-42bda7bb6c51\",\"type\":\"BoxAnnotation\"}},\"id\":\"723d7ba9-fd51-4118-8057-681d23120595\",\"type\":\"BoxZoomTool\"}],\"root_ids\":[\"f0516c33-b4b6-47c5-acab-0d76e5f17074\"]},\"title\":\"Bokeh Application\",\"version\":\"0.12.14\"}};\n",
       "  var render_items = [{\"docid\":\"093592ba-fe44-45fd-8ab8-71a6abefc3d9\",\"elementid\":\"414f6264-9f30-437b-ad99-c43a847be96b\",\"modelid\":\"f0516c33-b4b6-47c5-acab-0d76e5f17074\"}];\n",
       "  root.Bokeh.embed.embed_items_notebook(docs_json, render_items);\n",
       "\n",
       "  }\n",
       "  if (root.Bokeh !== undefined) {\n",
       "    embed_document(root);\n",
       "  } else {\n",
       "    var attempts = 0;\n",
       "    var timer = setInterval(function(root) {\n",
       "      if (root.Bokeh !== undefined) {\n",
       "        embed_document(root);\n",
       "        clearInterval(timer);\n",
       "      }\n",
       "      attempts++;\n",
       "      if (attempts > 100) {\n",
       "        console.log(\"Bokeh: ERROR: Unable to run BokehJS code because BokehJS library is missing\")\n",
       "        clearInterval(timer);\n",
       "      }\n",
       "    }, 10, root)\n",
       "  }\n",
       "})(window);"
      ],
      "application/vnd.bokehjs_exec.v0+json": ""
     },
     "metadata": {
      "application/vnd.bokehjs_exec.v0+json": {
       "id": "f0516c33-b4b6-47c5-acab-0d76e5f17074"
      }
     },
     "output_type": "display_data"
    },
    {
     "name": "stdout",
     "output_type": "stream",
     "text": [
      "FIGURE. Cooling rate profiles.\n"
     ]
    },
    {
     "data": {
      "text/html": [
       "<a id=\"Flux_Comparison\"></a>"
      ],
      "text/plain": [
       "<IPython.core.display.HTML object>"
      ]
     },
     "metadata": {},
     "output_type": "display_data"
    },
    {
     "data": {
      "text/markdown": [
       "# Flux Comparison"
      ],
      "text/plain": [
       "<IPython.core.display.Markdown object>"
      ]
     },
     "metadata": {},
     "output_type": "display_data"
    },
    {
     "data": {
      "text/html": [
       "<div>\n",
       "<style>\n",
       "    .dataframe thead tr:only-child th {\n",
       "        text-align: right;\n",
       "    }\n",
       "\n",
       "    .dataframe thead th {\n",
       "        text-align: left;\n",
       "    }\n",
       "\n",
       "    .dataframe tbody tr th {\n",
       "        vertical-align: top;\n",
       "    }\n",
       "</style>\n",
       "<table border=\"1\" class=\"dataframe\">\n",
       "  <thead>\n",
       "    <tr style=\"text-align: right;\">\n",
       "      <th></th>\n",
       "      <th></th>\n",
       "      <th>flug</th>\n",
       "      <th>fldg</th>\n",
       "      <th>fnetg</th>\n",
       "    </tr>\n",
       "    <tr>\n",
       "      <th>pressure</th>\n",
       "      <th>level</th>\n",
       "      <th></th>\n",
       "      <th></th>\n",
       "      <th></th>\n",
       "    </tr>\n",
       "  </thead>\n",
       "  <tbody>\n",
       "    <tr>\n",
       "      <th>0.0000</th>\n",
       "      <th>1</th>\n",
       "      <td>-24.998405</td>\n",
       "      <td>0.000000</td>\n",
       "      <td>-24.998405</td>\n",
       "    </tr>\n",
       "    <tr>\n",
       "      <th>1.0685</th>\n",
       "      <th>24</th>\n",
       "      <td>-25.001253</td>\n",
       "      <td>0.074163</td>\n",
       "      <td>-24.927090</td>\n",
       "    </tr>\n",
       "    <tr>\n",
       "      <th>1013.0000</th>\n",
       "      <th>76</th>\n",
       "      <td>-36.235408</td>\n",
       "      <td>34.200482</td>\n",
       "      <td>-2.034926</td>\n",
       "    </tr>\n",
       "  </tbody>\n",
       "</table>\n",
       "</div>"
      ],
      "text/plain": [
       "                      flug       fldg      fnetg\n",
       "pressure  level                                 \n",
       "0.0000    1     -24.998405   0.000000 -24.998405\n",
       "1.0685    24    -25.001253   0.074163 -24.927090\n",
       "1013.0000 76    -36.235408  34.200482  -2.034926"
      ]
     },
     "metadata": {},
     "output_type": "display_data"
    },
    {
     "name": "stdout",
     "output_type": "stream",
     "text": [
      "Table. Fluxes. WGT igg=10 wgt_flux=1\n"
     ]
    },
    {
     "data": {
      "text/html": [
       "<div>\n",
       "<style>\n",
       "    .dataframe thead tr:only-child th {\n",
       "        text-align: right;\n",
       "    }\n",
       "\n",
       "    .dataframe thead th {\n",
       "        text-align: left;\n",
       "    }\n",
       "\n",
       "    .dataframe tbody tr th {\n",
       "        vertical-align: top;\n",
       "    }\n",
       "</style>\n",
       "<table border=\"1\" class=\"dataframe\">\n",
       "  <thead>\n",
       "    <tr style=\"text-align: right;\">\n",
       "      <th></th>\n",
       "      <th></th>\n",
       "      <th>flug</th>\n",
       "      <th>fldg</th>\n",
       "      <th>fnetg</th>\n",
       "    </tr>\n",
       "    <tr>\n",
       "      <th>pressure</th>\n",
       "      <th>level</th>\n",
       "      <th></th>\n",
       "      <th></th>\n",
       "      <th></th>\n",
       "    </tr>\n",
       "  </thead>\n",
       "  <tbody>\n",
       "    <tr>\n",
       "      <th>0.0000</th>\n",
       "      <th>1</th>\n",
       "      <td>-24.876840</td>\n",
       "      <td>0.000000</td>\n",
       "      <td>-24.876840</td>\n",
       "    </tr>\n",
       "    <tr>\n",
       "      <th>1.0685</th>\n",
       "      <th>24</th>\n",
       "      <td>-24.880528</td>\n",
       "      <td>0.080327</td>\n",
       "      <td>-24.800201</td>\n",
       "    </tr>\n",
       "    <tr>\n",
       "      <th>1013.0000</th>\n",
       "      <th>76</th>\n",
       "      <td>-36.235408</td>\n",
       "      <td>34.688214</td>\n",
       "      <td>-1.547194</td>\n",
       "    </tr>\n",
       "  </tbody>\n",
       "</table>\n",
       "</div>"
      ],
      "text/plain": [
       "                      flug       fldg      fnetg\n",
       "pressure  level                                 \n",
       "0.0000    1     -24.876840   0.000000 -24.876840\n",
       "1.0685    24    -24.880528   0.080327 -24.800201\n",
       "1013.0000 76    -36.235408  34.688214  -1.547194"
      ]
     },
     "metadata": {},
     "output_type": "display_data"
    },
    {
     "name": "stdout",
     "output_type": "stream",
     "text": [
      "Table. Fluxes. CRD\n"
     ]
    },
    {
     "data": {
      "text/html": [
       "<div>\n",
       "<style>\n",
       "    .dataframe thead tr:only-child th {\n",
       "        text-align: right;\n",
       "    }\n",
       "\n",
       "    .dataframe thead th {\n",
       "        text-align: left;\n",
       "    }\n",
       "\n",
       "    .dataframe tbody tr th {\n",
       "        vertical-align: top;\n",
       "    }\n",
       "</style>\n",
       "<table border=\"1\" class=\"dataframe\">\n",
       "  <thead>\n",
       "    <tr style=\"text-align: right;\">\n",
       "      <th></th>\n",
       "      <th></th>\n",
       "      <th>flug</th>\n",
       "      <th>fldg</th>\n",
       "      <th>fnetg</th>\n",
       "    </tr>\n",
       "    <tr>\n",
       "      <th>pressure</th>\n",
       "      <th>level</th>\n",
       "      <th></th>\n",
       "      <th></th>\n",
       "      <th></th>\n",
       "    </tr>\n",
       "  </thead>\n",
       "  <tbody>\n",
       "    <tr>\n",
       "      <th>1.000000e-08</th>\n",
       "      <th>1</th>\n",
       "      <td>-25.174477</td>\n",
       "      <td>0.000002</td>\n",
       "      <td>-25.174475</td>\n",
       "    </tr>\n",
       "    <tr>\n",
       "      <th>1.068500e+00</th>\n",
       "      <th>24</th>\n",
       "      <td>-25.176508</td>\n",
       "      <td>0.070563</td>\n",
       "      <td>-25.105945</td>\n",
       "    </tr>\n",
       "    <tr>\n",
       "      <th>1.013000e+03</th>\n",
       "      <th>76</th>\n",
       "      <td>-36.235410</td>\n",
       "      <td>34.392637</td>\n",
       "      <td>-1.842773</td>\n",
       "    </tr>\n",
       "  </tbody>\n",
       "</table>\n",
       "</div>"
      ],
      "text/plain": [
       "                         flug       fldg      fnetg\n",
       "pressure     level                                 \n",
       "1.000000e-08 1     -25.174477   0.000002 -25.174475\n",
       "1.068500e+00 24    -25.176508   0.070563 -25.105945\n",
       "1.013000e+03 76    -36.235410  34.392637  -1.842773"
      ]
     },
     "metadata": {},
     "output_type": "display_data"
    },
    {
     "name": "stdout",
     "output_type": "stream",
     "text": [
      "Table. Fluxes. CLIRAD\n"
     ]
    },
    {
     "data": {
      "text/html": [
       "<div>\n",
       "<style>\n",
       "    .dataframe thead tr:only-child th {\n",
       "        text-align: right;\n",
       "    }\n",
       "\n",
       "    .dataframe thead th {\n",
       "        text-align: left;\n",
       "    }\n",
       "\n",
       "    .dataframe tbody tr th {\n",
       "        vertical-align: top;\n",
       "    }\n",
       "</style>\n",
       "<table border=\"1\" class=\"dataframe\">\n",
       "  <thead>\n",
       "    <tr style=\"text-align: right;\">\n",
       "      <th></th>\n",
       "      <th></th>\n",
       "      <th>flug</th>\n",
       "      <th>fldg</th>\n",
       "      <th>fnetg</th>\n",
       "    </tr>\n",
       "    <tr>\n",
       "      <th>pressure</th>\n",
       "      <th>level</th>\n",
       "      <th></th>\n",
       "      <th></th>\n",
       "      <th></th>\n",
       "    </tr>\n",
       "  </thead>\n",
       "  <tbody>\n",
       "    <tr>\n",
       "      <th>0.0000</th>\n",
       "      <th>1</th>\n",
       "      <td>0.121565</td>\n",
       "      <td>0.000000</td>\n",
       "      <td>0.121565</td>\n",
       "    </tr>\n",
       "    <tr>\n",
       "      <th>1.0685</th>\n",
       "      <th>24</th>\n",
       "      <td>0.120725</td>\n",
       "      <td>0.006164</td>\n",
       "      <td>0.126889</td>\n",
       "    </tr>\n",
       "    <tr>\n",
       "      <th>1013.0000</th>\n",
       "      <th>76</th>\n",
       "      <td>0.000000</td>\n",
       "      <td>0.487732</td>\n",
       "      <td>0.487732</td>\n",
       "    </tr>\n",
       "  </tbody>\n",
       "</table>\n",
       "</div>"
      ],
      "text/plain": [
       "                     flug      fldg     fnetg\n",
       "pressure  level                              \n",
       "0.0000    1      0.121565  0.000000  0.121565\n",
       "1.0685    24     0.120725  0.006164  0.126889\n",
       "1013.0000 76     0.000000  0.487732  0.487732"
      ]
     },
     "metadata": {},
     "output_type": "display_data"
    },
    {
     "name": "stdout",
     "output_type": "stream",
     "text": [
      "Table. Fluxes. (CRD) - (WGT igg=10 wgt_flux=1)\n"
     ]
    },
    {
     "data": {
      "text/html": [
       "<div>\n",
       "<style>\n",
       "    .dataframe thead tr:only-child th {\n",
       "        text-align: right;\n",
       "    }\n",
       "\n",
       "    .dataframe thead th {\n",
       "        text-align: left;\n",
       "    }\n",
       "\n",
       "    .dataframe tbody tr th {\n",
       "        vertical-align: top;\n",
       "    }\n",
       "</style>\n",
       "<table border=\"1\" class=\"dataframe\">\n",
       "  <thead>\n",
       "    <tr style=\"text-align: right;\">\n",
       "      <th></th>\n",
       "      <th></th>\n",
       "      <th>flug</th>\n",
       "      <th>fldg</th>\n",
       "      <th>fnetg</th>\n",
       "    </tr>\n",
       "    <tr>\n",
       "      <th>pressure</th>\n",
       "      <th>level</th>\n",
       "      <th></th>\n",
       "      <th></th>\n",
       "      <th></th>\n",
       "    </tr>\n",
       "  </thead>\n",
       "  <tbody>\n",
       "    <tr>\n",
       "      <th>0.0000</th>\n",
       "      <th>1</th>\n",
       "      <td>-0.176072</td>\n",
       "      <td>0.000002</td>\n",
       "      <td>-0.176070</td>\n",
       "    </tr>\n",
       "    <tr>\n",
       "      <th>1.0685</th>\n",
       "      <th>24</th>\n",
       "      <td>-0.175255</td>\n",
       "      <td>-0.003600</td>\n",
       "      <td>-0.178855</td>\n",
       "    </tr>\n",
       "    <tr>\n",
       "      <th>1013.0000</th>\n",
       "      <th>76</th>\n",
       "      <td>-0.000002</td>\n",
       "      <td>0.192155</td>\n",
       "      <td>0.192153</td>\n",
       "    </tr>\n",
       "  </tbody>\n",
       "</table>\n",
       "</div>"
      ],
      "text/plain": [
       "                     flug      fldg     fnetg\n",
       "pressure  level                              \n",
       "0.0000    1     -0.176072  0.000002 -0.176070\n",
       "1.0685    24    -0.175255 -0.003600 -0.178855\n",
       "1013.0000 76    -0.000002  0.192155  0.192153"
      ]
     },
     "metadata": {},
     "output_type": "display_data"
    },
    {
     "name": "stdout",
     "output_type": "stream",
     "text": [
      "Table. Fluxes. (CLIRAD) - (WGT igg=10 wgt_flux=1)\n"
     ]
    },
    {
     "data": {
      "text/html": [
       "<a id=\"Best-fit_Parameters\"></a>"
      ],
      "text/plain": [
       "<IPython.core.display.HTML object>"
      ]
     },
     "metadata": {},
     "output_type": "display_data"
    },
    {
     "data": {
      "text/markdown": [
       "# Best-fit Parameters"
      ],
      "text/plain": [
       "<IPython.core.display.Markdown object>"
      ]
     },
     "metadata": {},
     "output_type": "display_data"
    },
    {
     "name": "stdout",
     "output_type": "stream",
     "text": [
      "Best-fit values for each (gas, band)\n",
      "------------------------------------\n",
      "o co2 band3a\n",
      "  atmpro = mls\n",
      "  band = 3a\n",
      "  commitnumber = 2bd1f75\n",
      "  conc = 0.0004\n",
      "  dv = 0.01\n",
      "  klin = 6.375563e-24\n",
      "  molecule = co2\n",
      "  ng_adju = [0, 0, 0]\n",
      "  ng_refs = [3, 2, 4]\n",
      "  nv = 100\n",
      "  option_compute_btable = 0\n",
      "  option_compute_ktable = 1\n",
      "  option_wgt_flux = 1\n",
      "  option_wgt_k = 1\n",
      "  ref_pts = [(1, 250), (10, 250), (500, 250)]\n",
      "  tsfc = 294\n",
      "  vmax = 620\n",
      "  vmin = 540\n",
      "  w_diffuse = [(1.6, 1.6, 1.7), (1.75, 1.75), (1.55, 1.55, 1.6, 1.85)]\n",
      "  wgt = [(0.7, 0.3, 0.7), (0.7, 0.6), (0.4, 0.5, 0.8, 0.95)]\n",
      "o h2o band3a\n",
      "  atmpro = mls\n",
      "  band = 3a\n",
      "  commitnumber = 2bd1f75\n",
      "  conc = None\n",
      "  dv = 0.01\n",
      "  klin = 0\n",
      "  molecule = h2o\n",
      "  ng_adju = [0, 0]\n",
      "  ng_refs = [2, 6]\n",
      "  nv = 100\n",
      "  option_compute_btable = 0\n",
      "  option_compute_ktable = 1\n",
      "  option_wgt_flux = 1\n",
      "  option_wgt_k = 1\n",
      "  ref_pts = [(10, 250), (600, 250)]\n",
      "  tsfc = 294\n",
      "  vmax = 620\n",
      "  vmin = 540\n",
      "  w_diffuse = [(1.9, 1.7), (1.4, 1.4, 1.4, 1.55, 1.6, 1.66)]\n",
      "  wgt = [(0.7, 0.7), (0.7, 0.5, 0.5, 0.5, 0.5, 0.5)]\n",
      "o n2o band3a\n",
      "  atmpro = mls\n",
      "  band = 3a\n",
      "  commitnumber = 2bd1f75\n",
      "  conc = 3.2e-07\n",
      "  dv = 0.01\n",
      "  klin = 2.22e-20\n",
      "  molecule = n2o\n",
      "  ng_adju = [0, 0]\n",
      "  ng_refs = [1, 2]\n",
      "  nv = 100\n",
      "  option_compute_btable = 0\n",
      "  option_compute_ktable = 1\n",
      "  option_wgt_flux = 1\n",
      "  option_wgt_k = 1\n",
      "  ref_pts = [(1, 250), (500, 250)]\n",
      "  tsfc = 294\n",
      "  vmax = 620\n",
      "  vmin = 540\n",
      "  w_diffuse = [(1.8,), (1.66, 1.8)]\n",
      "  wgt = [(0.9,), (0.5, 0.95)]\n"
     ]
    }
   ],
   "source": [
    "script()"
   ]
  },
  {
   "cell_type": "code",
   "execution_count": 13,
   "metadata": {
    "collapsed": true
   },
   "outputs": [
    {
     "data": {
      "text/html": [
       "<script>\n",
       "code_show=true; \n",
       "function code_toggle() {\n",
       " if (code_show){\n",
       " $('div.input').hide();\n",
       " } else {\n",
       " $('div.input').show();\n",
       " }\n",
       " code_show = !code_show\n",
       "} \n",
       "$( document ).ready(code_toggle);\n",
       "</script>\n",
       "<form action=\"javascript:code_toggle()\"><input type=\"submit\" value=\"Click here to toggle on/off the raw code.\"></form>"
      ],
      "text/plain": [
       "<IPython.core.display.HTML object>"
      ]
     },
     "execution_count": 13,
     "metadata": {},
     "output_type": "execute_result"
    }
   ],
   "source": [
    "display.HTML('''<script>\n",
    "code_show=true; \n",
    "function code_toggle() {\n",
    " if (code_show){\n",
    " $('div.input').hide();\n",
    " } else {\n",
    " $('div.input').show();\n",
    " }\n",
    " code_show = !code_show\n",
    "} \n",
    "$( document ).ready(code_toggle);\n",
    "</script>\n",
    "<form action=\"javascript:code_toggle()\"><input type=\"submit\" value=\"Click here to toggle on/off the raw code.\"></form>''')"
   ]
  }
 ],
 "metadata": {
  "kernelspec": {
   "display_name": "Python 3",
   "language": "python",
   "name": "python3"
  },
  "language_info": {
   "codemirror_mode": {
    "name": "ipython",
    "version": 3
   },
   "file_extension": ".py",
   "mimetype": "text/x-python",
   "name": "python",
   "nbconvert_exporter": "python",
   "pygments_lexer": "ipython3",
   "version": "3.6.1"
  }
 },
 "nbformat": 4,
 "nbformat_minor": 2
}
