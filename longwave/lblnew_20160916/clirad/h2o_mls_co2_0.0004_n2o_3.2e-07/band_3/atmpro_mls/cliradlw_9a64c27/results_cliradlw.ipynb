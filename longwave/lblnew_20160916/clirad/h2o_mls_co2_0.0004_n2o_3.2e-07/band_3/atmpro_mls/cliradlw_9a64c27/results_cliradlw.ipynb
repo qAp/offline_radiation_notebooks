{
 "cells": [
  {
   "cell_type": "code",
   "execution_count": 1,
   "metadata": {
    "collapsed": true
   },
   "outputs": [],
   "source": [
    "%matplotlib inline\n",
    "import os\n",
    "import re\n",
    "import io\n",
    "import itertools\n",
    "import pprint\n",
    "\n",
    "from bokeh.io import output_notebook, show\n",
    "from bokeh.layouts import gridplot\n",
    "from bokeh.plotting import figure\n",
    "from bokeh.models import Range1d, Legend\n",
    "from bokeh.palettes import all_palettes\n",
    "\n",
    "import matplotlib\n",
    "import matplotlib.pyplot as plt\n",
    "import numpy as np\n",
    "import pandas as pd\n",
    "import xarray as xr\n",
    "\n",
    "import climatools.lblnew.bestfit_params as bestfits\n",
    "from climatools.lblnew import setup_bestfit, setup_overlap\n",
    "import climatools.lblnew.pipeline as pipe_lblnew\n",
    "import climatools.cliradlw.setup as setup_cliradlw\n",
    "import climatools.cliradlw.pipeline as pipe_cliradlw\n",
    "\n",
    "import climatools.html.html as climahtml\n",
    "from climatools.lblnew.dataio import *\n",
    "from climatools.plot.plot import *\n",
    "\n",
    "\n",
    "import IPython.display as display"
   ]
  },
  {
   "cell_type": "code",
   "execution_count": 2,
   "metadata": {
    "collapsed": true
   },
   "outputs": [],
   "source": [
    "%run param.py"
   ]
  },
  {
   "cell_type": "code",
   "execution_count": 3,
   "metadata": {
    "collapsed": true
   },
   "outputs": [],
   "source": [
    "def load_output_file(path_csv):\n",
    "    '''\n",
    "    Load lblnew output .csv file to xarray.Dataset\n",
    "    \n",
    "    Parameters\n",
    "    ----------\n",
    "    path_csv: str\n",
    "              Path to the .csv file to be loaded.\n",
    "    ds: xarray.Dataset\n",
    "        Data in the input file in the form of an xarray.Dataset.\n",
    "    '''\n",
    "    toindex = ['band', 'pressure', 'igg', 'g']    \n",
    "    df = pd.read_csv(path_csv, sep=r'\\s+')\n",
    "    df = df.set_index([i for i in toindex if i in df.columns])\n",
    "    df = df.rename(columns={'sfu': 'flug',\n",
    "                            'sfd': 'fldg',\n",
    "                            'fnet': 'fnetg',\n",
    "                            'coolr': 'coolrg'})\n",
    "    ds = xr.Dataset.from_dataframe(df)\n",
    "\n",
    "    for l in ('level', 'layer'):\n",
    "        if l in ds.data_vars:\n",
    "            if len(ds[l].dims) > 1:\n",
    "                surface = {d: 0 for d in ds.dims if d != 'pressure'}\n",
    "                coord_level = ds[l][surface]\n",
    "                ds.coords[l] = ('pressure', coord_level)\n",
    "            else:\n",
    "                ds.coords[l] = ('pressure', ds[l])\n",
    "    \n",
    "    return ds"
   ]
  },
  {
   "cell_type": "code",
   "execution_count": 4,
   "metadata": {
    "collapsed": true
   },
   "outputs": [],
   "source": [
    "def lblnew_setup(param=None):\n",
    "    if 'ng_refs' in param:\n",
    "        return {'setup': setup_bestfit,\n",
    "                'fname_flux_crd': 'output_flux.dat',\n",
    "                'fname_cool_crd': 'output_coolr.dat',\n",
    "                'fname_flux_wgt': 'output_wfluxg.dat',\n",
    "                'fname_cool_wgt': 'output_wcoolrg.dat'}\n",
    "    else:\n",
    "        return {'setup': setup_overlap,\n",
    "                'fname_flux_crd': 'output_flux.dat',\n",
    "                'fname_cool_crd': 'output_coolr.dat',\n",
    "                'fname_flux_wgt': 'output_wflux.dat',\n",
    "                'fname_cool_wgt': 'output_wcoolr.dat'}\n",
    "\n",
    "    \n",
    "def load_lblnew_data(param):\n",
    "    \n",
    "    fname_dsname = [('fname_flux_crd', 'ds_flux_crd'),\n",
    "                    ('fname_cool_crd', 'ds_cool_crd'),\n",
    "                    ('fname_flux_wgt', 'ds_flux_wgt'),\n",
    "                    ('fname_cool_wgt', 'ds_cool_wgt')]\n",
    "    \n",
    "    d = lblnew_setup(param)\n",
    "    dir_fortran = pipe_lblnew.get_dir_case(param, setup=d['setup'])\n",
    "    \n",
    "    data_dict = {}\n",
    "    for fname, dsname in fname_dsname:\n",
    "        fpath = os.path.join(dir_fortran, d[fname])\n",
    "        data_dict[dsname] = load_output_file(fpath)\n",
    "    return data_dict\n",
    "    \n",
    "\n",
    "    \n",
    "    "
   ]
  },
  {
   "cell_type": "code",
   "execution_count": 5,
   "metadata": {
    "collapsed": true
   },
   "outputs": [],
   "source": [
    "d = load_lblnew_data(PARAM_LBLNEW)\n",
    "\n",
    "DS_FLUX_CRD = d['ds_flux_crd']\n",
    "DS_COOL_CRD = d['ds_cool_crd']\n",
    "DS_FLUX_WGT = d['ds_flux_wgt']\n",
    "DS_COOL_WGT = d['ds_cool_wgt']"
   ]
  },
  {
   "cell_type": "code",
   "execution_count": 6,
   "metadata": {
    "collapsed": true
   },
   "outputs": [],
   "source": [
    "DIR_FORTRAN = pipe_cliradlw.get_fortran_dir(PARAM, \n",
    "                                            setup=setup_cliradlw)\n",
    "\n",
    "PATH_FLUX = os.path.join(DIR_FORTRAN, 'output_flux.dat')\n",
    "PATH_COOL = os.path.join(DIR_FORTRAN, 'output_coolr.dat')\n",
    "\n",
    "DS_FLUX = load_output_file(PATH_FLUX)\n",
    "DS_COOL = load_output_file(PATH_COOL)"
   ]
  },
  {
   "cell_type": "code",
   "execution_count": 7,
   "metadata": {
    "collapsed": true
   },
   "outputs": [
    {
     "data": {
      "text/html": [
       "\n",
       "    <div class=\"bk-root\">\n",
       "        <a href=\"https://bokeh.pydata.org\" target=\"_blank\" class=\"bk-logo bk-logo-small bk-logo-notebook\"></a>\n",
       "        <span id=\"7f68a0a1-1e93-4da7-8fef-b435cd94ee1b\">Loading BokehJS ...</span>\n",
       "    </div>"
      ]
     },
     "metadata": {},
     "output_type": "display_data"
    },
    {
     "data": {
      "application/javascript": [
       "\n",
       "(function(root) {\n",
       "  function now() {\n",
       "    return new Date();\n",
       "  }\n",
       "\n",
       "  var force = true;\n",
       "\n",
       "  if (typeof (root._bokeh_onload_callbacks) === \"undefined\" || force === true) {\n",
       "    root._bokeh_onload_callbacks = [];\n",
       "    root._bokeh_is_loading = undefined;\n",
       "  }\n",
       "\n",
       "  var JS_MIME_TYPE = 'application/javascript';\n",
       "  var HTML_MIME_TYPE = 'text/html';\n",
       "  var EXEC_MIME_TYPE = 'application/vnd.bokehjs_exec.v0+json';\n",
       "  var CLASS_NAME = 'output_bokeh rendered_html';\n",
       "\n",
       "  /**\n",
       "   * Render data to the DOM node\n",
       "   */\n",
       "  function render(props, node) {\n",
       "    var script = document.createElement(\"script\");\n",
       "    node.appendChild(script);\n",
       "  }\n",
       "\n",
       "  /**\n",
       "   * Handle when an output is cleared or removed\n",
       "   */\n",
       "  function handleClearOutput(event, handle) {\n",
       "    var cell = handle.cell;\n",
       "\n",
       "    var id = cell.output_area._bokeh_element_id;\n",
       "    var server_id = cell.output_area._bokeh_server_id;\n",
       "    // Clean up Bokeh references\n",
       "    if (id !== undefined) {\n",
       "      Bokeh.index[id].model.document.clear();\n",
       "      delete Bokeh.index[id];\n",
       "    }\n",
       "\n",
       "    if (server_id !== undefined) {\n",
       "      // Clean up Bokeh references\n",
       "      var cmd = \"from bokeh.io.state import curstate; print(curstate().uuid_to_server['\" + server_id + \"'].get_sessions()[0].document.roots[0]._id)\";\n",
       "      cell.notebook.kernel.execute(cmd, {\n",
       "        iopub: {\n",
       "          output: function(msg) {\n",
       "            var element_id = msg.content.text.trim();\n",
       "            Bokeh.index[element_id].model.document.clear();\n",
       "            delete Bokeh.index[element_id];\n",
       "          }\n",
       "        }\n",
       "      });\n",
       "      // Destroy server and session\n",
       "      var cmd = \"import bokeh.io.notebook as ion; ion.destroy_server('\" + server_id + \"')\";\n",
       "      cell.notebook.kernel.execute(cmd);\n",
       "    }\n",
       "  }\n",
       "\n",
       "  /**\n",
       "   * Handle when a new output is added\n",
       "   */\n",
       "  function handleAddOutput(event, handle) {\n",
       "    var output_area = handle.output_area;\n",
       "    var output = handle.output;\n",
       "\n",
       "    // limit handleAddOutput to display_data with EXEC_MIME_TYPE content only\n",
       "    if ((output.output_type != \"display_data\") || (!output.data.hasOwnProperty(EXEC_MIME_TYPE))) {\n",
       "      return\n",
       "    }\n",
       "\n",
       "    var toinsert = output_area.element.find(\".\" + CLASS_NAME.split(' ')[0]);\n",
       "\n",
       "    if (output.metadata[EXEC_MIME_TYPE][\"id\"] !== undefined) {\n",
       "      toinsert[0].firstChild.textContent = output.data[JS_MIME_TYPE];\n",
       "      // store reference to embed id on output_area\n",
       "      output_area._bokeh_element_id = output.metadata[EXEC_MIME_TYPE][\"id\"];\n",
       "    }\n",
       "    if (output.metadata[EXEC_MIME_TYPE][\"server_id\"] !== undefined) {\n",
       "      var bk_div = document.createElement(\"div\");\n",
       "      bk_div.innerHTML = output.data[HTML_MIME_TYPE];\n",
       "      var script_attrs = bk_div.children[0].attributes;\n",
       "      for (var i = 0; i < script_attrs.length; i++) {\n",
       "        toinsert[0].firstChild.setAttribute(script_attrs[i].name, script_attrs[i].value);\n",
       "      }\n",
       "      // store reference to server id on output_area\n",
       "      output_area._bokeh_server_id = output.metadata[EXEC_MIME_TYPE][\"server_id\"];\n",
       "    }\n",
       "  }\n",
       "\n",
       "  function register_renderer(events, OutputArea) {\n",
       "\n",
       "    function append_mime(data, metadata, element) {\n",
       "      // create a DOM node to render to\n",
       "      var toinsert = this.create_output_subarea(\n",
       "        metadata,\n",
       "        CLASS_NAME,\n",
       "        EXEC_MIME_TYPE\n",
       "      );\n",
       "      this.keyboard_manager.register_events(toinsert);\n",
       "      // Render to node\n",
       "      var props = {data: data, metadata: metadata[EXEC_MIME_TYPE]};\n",
       "      render(props, toinsert[0]);\n",
       "      element.append(toinsert);\n",
       "      return toinsert\n",
       "    }\n",
       "\n",
       "    /* Handle when an output is cleared or removed */\n",
       "    events.on('clear_output.CodeCell', handleClearOutput);\n",
       "    events.on('delete.Cell', handleClearOutput);\n",
       "\n",
       "    /* Handle when a new output is added */\n",
       "    events.on('output_added.OutputArea', handleAddOutput);\n",
       "\n",
       "    /**\n",
       "     * Register the mime type and append_mime function with output_area\n",
       "     */\n",
       "    OutputArea.prototype.register_mime_type(EXEC_MIME_TYPE, append_mime, {\n",
       "      /* Is output safe? */\n",
       "      safe: true,\n",
       "      /* Index of renderer in `output_area.display_order` */\n",
       "      index: 0\n",
       "    });\n",
       "  }\n",
       "\n",
       "  // register the mime type if in Jupyter Notebook environment and previously unregistered\n",
       "  if (root.Jupyter !== undefined) {\n",
       "    var events = require('base/js/events');\n",
       "    var OutputArea = require('notebook/js/outputarea').OutputArea;\n",
       "\n",
       "    if (OutputArea.prototype.mime_types().indexOf(EXEC_MIME_TYPE) == -1) {\n",
       "      register_renderer(events, OutputArea);\n",
       "    }\n",
       "  }\n",
       "\n",
       "  \n",
       "  if (typeof (root._bokeh_timeout) === \"undefined\" || force === true) {\n",
       "    root._bokeh_timeout = Date.now() + 5000;\n",
       "    root._bokeh_failed_load = false;\n",
       "  }\n",
       "\n",
       "  var NB_LOAD_WARNING = {'data': {'text/html':\n",
       "     \"<div style='background-color: #fdd'>\\n\"+\n",
       "     \"<p>\\n\"+\n",
       "     \"BokehJS does not appear to have successfully loaded. If loading BokehJS from CDN, this \\n\"+\n",
       "     \"may be due to a slow or bad network connection. Possible fixes:\\n\"+\n",
       "     \"</p>\\n\"+\n",
       "     \"<ul>\\n\"+\n",
       "     \"<li>re-rerun `output_notebook()` to attempt to load from CDN again, or</li>\\n\"+\n",
       "     \"<li>use INLINE resources instead, as so:</li>\\n\"+\n",
       "     \"</ul>\\n\"+\n",
       "     \"<code>\\n\"+\n",
       "     \"from bokeh.resources import INLINE\\n\"+\n",
       "     \"output_notebook(resources=INLINE)\\n\"+\n",
       "     \"</code>\\n\"+\n",
       "     \"</div>\"}};\n",
       "\n",
       "  function display_loaded() {\n",
       "    var el = document.getElementById(\"7f68a0a1-1e93-4da7-8fef-b435cd94ee1b\");\n",
       "    if (el != null) {\n",
       "      el.textContent = \"BokehJS is loading...\";\n",
       "    }\n",
       "    if (root.Bokeh !== undefined) {\n",
       "      if (el != null) {\n",
       "        el.textContent = \"BokehJS \" + root.Bokeh.version + \" successfully loaded.\";\n",
       "      }\n",
       "    } else if (Date.now() < root._bokeh_timeout) {\n",
       "      setTimeout(display_loaded, 100)\n",
       "    }\n",
       "  }\n",
       "\n",
       "\n",
       "  function run_callbacks() {\n",
       "    try {\n",
       "      root._bokeh_onload_callbacks.forEach(function(callback) { callback() });\n",
       "    }\n",
       "    finally {\n",
       "      delete root._bokeh_onload_callbacks\n",
       "    }\n",
       "    console.info(\"Bokeh: all callbacks have finished\");\n",
       "  }\n",
       "\n",
       "  function load_libs(js_urls, callback) {\n",
       "    root._bokeh_onload_callbacks.push(callback);\n",
       "    if (root._bokeh_is_loading > 0) {\n",
       "      console.log(\"Bokeh: BokehJS is being loaded, scheduling callback at\", now());\n",
       "      return null;\n",
       "    }\n",
       "    if (js_urls == null || js_urls.length === 0) {\n",
       "      run_callbacks();\n",
       "      return null;\n",
       "    }\n",
       "    console.log(\"Bokeh: BokehJS not loaded, scheduling load and callback at\", now());\n",
       "    root._bokeh_is_loading = js_urls.length;\n",
       "    for (var i = 0; i < js_urls.length; i++) {\n",
       "      var url = js_urls[i];\n",
       "      var s = document.createElement('script');\n",
       "      s.src = url;\n",
       "      s.async = false;\n",
       "      s.onreadystatechange = s.onload = function() {\n",
       "        root._bokeh_is_loading--;\n",
       "        if (root._bokeh_is_loading === 0) {\n",
       "          console.log(\"Bokeh: all BokehJS libraries loaded\");\n",
       "          run_callbacks()\n",
       "        }\n",
       "      };\n",
       "      s.onerror = function() {\n",
       "        console.warn(\"failed to load library \" + url);\n",
       "      };\n",
       "      console.log(\"Bokeh: injecting script tag for BokehJS library: \", url);\n",
       "      document.getElementsByTagName(\"head\")[0].appendChild(s);\n",
       "    }\n",
       "  };var element = document.getElementById(\"7f68a0a1-1e93-4da7-8fef-b435cd94ee1b\");\n",
       "  if (element == null) {\n",
       "    console.log(\"Bokeh: ERROR: autoload.js configured with elementid '7f68a0a1-1e93-4da7-8fef-b435cd94ee1b' but no matching script tag was found. \")\n",
       "    return false;\n",
       "  }\n",
       "\n",
       "  var js_urls = [\"https://cdn.pydata.org/bokeh/release/bokeh-0.12.14.min.js\", \"https://cdn.pydata.org/bokeh/release/bokeh-widgets-0.12.14.min.js\", \"https://cdn.pydata.org/bokeh/release/bokeh-tables-0.12.14.min.js\", \"https://cdn.pydata.org/bokeh/release/bokeh-gl-0.12.14.min.js\"];\n",
       "\n",
       "  var inline_js = [\n",
       "    function(Bokeh) {\n",
       "      Bokeh.set_log_level(\"info\");\n",
       "    },\n",
       "    \n",
       "    function(Bokeh) {\n",
       "      \n",
       "    },\n",
       "    function(Bokeh) {\n",
       "      console.log(\"Bokeh: injecting CSS: https://cdn.pydata.org/bokeh/release/bokeh-0.12.14.min.css\");\n",
       "      Bokeh.embed.inject_css(\"https://cdn.pydata.org/bokeh/release/bokeh-0.12.14.min.css\");\n",
       "      console.log(\"Bokeh: injecting CSS: https://cdn.pydata.org/bokeh/release/bokeh-widgets-0.12.14.min.css\");\n",
       "      Bokeh.embed.inject_css(\"https://cdn.pydata.org/bokeh/release/bokeh-widgets-0.12.14.min.css\");\n",
       "      console.log(\"Bokeh: injecting CSS: https://cdn.pydata.org/bokeh/release/bokeh-tables-0.12.14.min.css\");\n",
       "      Bokeh.embed.inject_css(\"https://cdn.pydata.org/bokeh/release/bokeh-tables-0.12.14.min.css\");\n",
       "    }\n",
       "  ];\n",
       "\n",
       "  function run_inline_js() {\n",
       "    \n",
       "    if ((root.Bokeh !== undefined) || (force === true)) {\n",
       "      for (var i = 0; i < inline_js.length; i++) {\n",
       "        inline_js[i].call(root, root.Bokeh);\n",
       "      }if (force === true) {\n",
       "        display_loaded();\n",
       "      }} else if (Date.now() < root._bokeh_timeout) {\n",
       "      setTimeout(run_inline_js, 100);\n",
       "    } else if (!root._bokeh_failed_load) {\n",
       "      console.log(\"Bokeh: BokehJS failed to load within specified timeout.\");\n",
       "      root._bokeh_failed_load = true;\n",
       "    } else if (force !== true) {\n",
       "      var cell = $(document.getElementById(\"7f68a0a1-1e93-4da7-8fef-b435cd94ee1b\")).parents('.cell').data().cell;\n",
       "      cell.output_area.append_execute_result(NB_LOAD_WARNING)\n",
       "    }\n",
       "\n",
       "  }\n",
       "\n",
       "  if (root._bokeh_is_loading === 0) {\n",
       "    console.log(\"Bokeh: BokehJS loaded, going straight to plotting\");\n",
       "    run_inline_js();\n",
       "  } else {\n",
       "    load_libs(js_urls, function() {\n",
       "      console.log(\"Bokeh: BokehJS plotting callback run at\", now());\n",
       "      run_inline_js();\n",
       "    });\n",
       "  }\n",
       "}(window));"
      ],
      "application/vnd.bokehjs_load.v0+json": "\n(function(root) {\n  function now() {\n    return new Date();\n  }\n\n  var force = true;\n\n  if (typeof (root._bokeh_onload_callbacks) === \"undefined\" || force === true) {\n    root._bokeh_onload_callbacks = [];\n    root._bokeh_is_loading = undefined;\n  }\n\n  \n\n  \n  if (typeof (root._bokeh_timeout) === \"undefined\" || force === true) {\n    root._bokeh_timeout = Date.now() + 5000;\n    root._bokeh_failed_load = false;\n  }\n\n  var NB_LOAD_WARNING = {'data': {'text/html':\n     \"<div style='background-color: #fdd'>\\n\"+\n     \"<p>\\n\"+\n     \"BokehJS does not appear to have successfully loaded. If loading BokehJS from CDN, this \\n\"+\n     \"may be due to a slow or bad network connection. Possible fixes:\\n\"+\n     \"</p>\\n\"+\n     \"<ul>\\n\"+\n     \"<li>re-rerun `output_notebook()` to attempt to load from CDN again, or</li>\\n\"+\n     \"<li>use INLINE resources instead, as so:</li>\\n\"+\n     \"</ul>\\n\"+\n     \"<code>\\n\"+\n     \"from bokeh.resources import INLINE\\n\"+\n     \"output_notebook(resources=INLINE)\\n\"+\n     \"</code>\\n\"+\n     \"</div>\"}};\n\n  function display_loaded() {\n    var el = document.getElementById(\"7f68a0a1-1e93-4da7-8fef-b435cd94ee1b\");\n    if (el != null) {\n      el.textContent = \"BokehJS is loading...\";\n    }\n    if (root.Bokeh !== undefined) {\n      if (el != null) {\n        el.textContent = \"BokehJS \" + root.Bokeh.version + \" successfully loaded.\";\n      }\n    } else if (Date.now() < root._bokeh_timeout) {\n      setTimeout(display_loaded, 100)\n    }\n  }\n\n\n  function run_callbacks() {\n    try {\n      root._bokeh_onload_callbacks.forEach(function(callback) { callback() });\n    }\n    finally {\n      delete root._bokeh_onload_callbacks\n    }\n    console.info(\"Bokeh: all callbacks have finished\");\n  }\n\n  function load_libs(js_urls, callback) {\n    root._bokeh_onload_callbacks.push(callback);\n    if (root._bokeh_is_loading > 0) {\n      console.log(\"Bokeh: BokehJS is being loaded, scheduling callback at\", now());\n      return null;\n    }\n    if (js_urls == null || js_urls.length === 0) {\n      run_callbacks();\n      return null;\n    }\n    console.log(\"Bokeh: BokehJS not loaded, scheduling load and callback at\", now());\n    root._bokeh_is_loading = js_urls.length;\n    for (var i = 0; i < js_urls.length; i++) {\n      var url = js_urls[i];\n      var s = document.createElement('script');\n      s.src = url;\n      s.async = false;\n      s.onreadystatechange = s.onload = function() {\n        root._bokeh_is_loading--;\n        if (root._bokeh_is_loading === 0) {\n          console.log(\"Bokeh: all BokehJS libraries loaded\");\n          run_callbacks()\n        }\n      };\n      s.onerror = function() {\n        console.warn(\"failed to load library \" + url);\n      };\n      console.log(\"Bokeh: injecting script tag for BokehJS library: \", url);\n      document.getElementsByTagName(\"head\")[0].appendChild(s);\n    }\n  };var element = document.getElementById(\"7f68a0a1-1e93-4da7-8fef-b435cd94ee1b\");\n  if (element == null) {\n    console.log(\"Bokeh: ERROR: autoload.js configured with elementid '7f68a0a1-1e93-4da7-8fef-b435cd94ee1b' but no matching script tag was found. \")\n    return false;\n  }\n\n  var js_urls = [\"https://cdn.pydata.org/bokeh/release/bokeh-0.12.14.min.js\", \"https://cdn.pydata.org/bokeh/release/bokeh-widgets-0.12.14.min.js\", \"https://cdn.pydata.org/bokeh/release/bokeh-tables-0.12.14.min.js\", \"https://cdn.pydata.org/bokeh/release/bokeh-gl-0.12.14.min.js\"];\n\n  var inline_js = [\n    function(Bokeh) {\n      Bokeh.set_log_level(\"info\");\n    },\n    \n    function(Bokeh) {\n      \n    },\n    function(Bokeh) {\n      console.log(\"Bokeh: injecting CSS: https://cdn.pydata.org/bokeh/release/bokeh-0.12.14.min.css\");\n      Bokeh.embed.inject_css(\"https://cdn.pydata.org/bokeh/release/bokeh-0.12.14.min.css\");\n      console.log(\"Bokeh: injecting CSS: https://cdn.pydata.org/bokeh/release/bokeh-widgets-0.12.14.min.css\");\n      Bokeh.embed.inject_css(\"https://cdn.pydata.org/bokeh/release/bokeh-widgets-0.12.14.min.css\");\n      console.log(\"Bokeh: injecting CSS: https://cdn.pydata.org/bokeh/release/bokeh-tables-0.12.14.min.css\");\n      Bokeh.embed.inject_css(\"https://cdn.pydata.org/bokeh/release/bokeh-tables-0.12.14.min.css\");\n    }\n  ];\n\n  function run_inline_js() {\n    \n    if ((root.Bokeh !== undefined) || (force === true)) {\n      for (var i = 0; i < inline_js.length; i++) {\n        inline_js[i].call(root, root.Bokeh);\n      }if (force === true) {\n        display_loaded();\n      }} else if (Date.now() < root._bokeh_timeout) {\n      setTimeout(run_inline_js, 100);\n    } else if (!root._bokeh_failed_load) {\n      console.log(\"Bokeh: BokehJS failed to load within specified timeout.\");\n      root._bokeh_failed_load = true;\n    } else if (force !== true) {\n      var cell = $(document.getElementById(\"7f68a0a1-1e93-4da7-8fef-b435cd94ee1b\")).parents('.cell').data().cell;\n      cell.output_area.append_execute_result(NB_LOAD_WARNING)\n    }\n\n  }\n\n  if (root._bokeh_is_loading === 0) {\n    console.log(\"Bokeh: BokehJS loaded, going straight to plotting\");\n    run_inline_js();\n  } else {\n    load_libs(js_urls, function() {\n      console.log(\"Bokeh: BokehJS plotting callback run at\", now());\n      run_inline_js();\n    });\n  }\n}(window));"
     },
     "metadata": {},
     "output_type": "display_data"
    }
   ],
   "source": [
    "output_notebook()"
   ]
  },
  {
   "cell_type": "code",
   "execution_count": 8,
   "metadata": {
    "collapsed": true
   },
   "outputs": [],
   "source": [
    "def fmt_cool(ds_in):\n",
    "    ds = ds_in.copy(deep=True)\n",
    "    if 'igg' in ds.dims:\n",
    "        ds = ds.sel(igg=1)\n",
    "\n",
    "    if 'g' in ds.dims:\n",
    "        ds = ds.sum('g')\n",
    "            \n",
    "    if 'band' in ds.dims:\n",
    "        try:\n",
    "            ds = ds.squeeze('band')\n",
    "        except ValueError:\n",
    "            ds = ds.sum('band')\n",
    "                \n",
    "    return ds['coolrg']\n",
    "\n",
    "\n",
    "def pltdata_cooling_1(ds_cool=None,\n",
    "                      ds_cool_crd=None, ds_cool_wgt=None):\n",
    "    \n",
    "\n",
    "\n",
    "    colors = all_palettes['Set1'][4]\n",
    "    data = [{'label': 'CLIRAD `coolr_bands`',\n",
    "             'srs': fmt_cool(ds_cool),\n",
    "             'line_dash': 'dashed', 'line_width': 5,\n",
    "             'color': colors[0], 'alpha': .6},\n",
    "            {'label': 'CRD',\n",
    "             'srs': fmt_cool(ds_cool_crd),\n",
    "             'line_dash': 'solid', 'line_width': 1.5,\n",
    "             'marker': 'circle', 'marker_size': 5,\n",
    "             'color': colors[2], 'alpha': 1,},\n",
    "            {'label': 'WGT igg=10 wgt_flux=2',\n",
    "             'srs': fmt_cool(ds_cool_wgt),\n",
    "             'line_dash': 'solid', 'line_width': 3,\n",
    "             'marker': 'square', 'marker_size': 5,\n",
    "             'color': colors[3], 'alpha': .6}]\n",
    "    return data\n",
    "\n",
    "\n",
    "def nice_xlims(pltdata=None, prange=None):\n",
    "    \n",
    "    def get_slice(srs):\n",
    "        return srs.sel(pressure=slice(*prange))\n",
    "    \n",
    "    srss = [d['srs'] for d in pltdata]\n",
    "    vmin = min([get_slice(srs).min() for srs in srss])\n",
    "    vmax = max([get_slice(srs).max() for srs in srss])\n",
    "    dv = (vmax - vmin) * .01\n",
    "    return float(vmin - dv), float(vmax + dv)\n",
    "    \n",
    "\n",
    "def plt_cooling_bokeh(pltdata=None):\n",
    "    '''\n",
    "    Plot a list of cooling rate profiles using bokeh.\n",
    "    '''\n",
    "    ymin = 1e-2 \n",
    "    ymax = 1020 \n",
    "        \n",
    "    p1 = figure(title=\"Linear pressure scale\", \n",
    "                plot_width=400)        \n",
    "    xmin, xmax = nice_xlims(pltdata, prange=(50, 1050))\n",
    "    for d in pltdata:\n",
    "        if 'marker' in d:\n",
    "            getattr(p1, d['marker'])(d['srs'].values, \n",
    "                    d['srs'].coords['pressure'].values,\n",
    "                    color=d['color'], alpha=.7)\n",
    "        p1.line(d['srs'].values, \n",
    "                d['srs'].coords['pressure'].values,\n",
    "                color=d['color'], alpha=d['alpha'], \n",
    "                line_width=d['line_width'], line_dash=d['line_dash'])\n",
    "    \n",
    "    p1.y_range = Range1d(ymax, ymin)\n",
    "    p1.yaxis.axis_label = 'pressure [mb]'   \n",
    "    p1.x_range = Range1d(xmin, xmax)\n",
    "    p1.xaxis.axis_label = 'cooling rate [K/day]'\n",
    "            \n",
    "    p2 = figure(title='Log pressure scale', y_axis_type='log',\n",
    "                plot_width=560)\n",
    "    xmin, xmax = nice_xlims(pltdata, prange=(.01, 200))\n",
    "    \n",
    "    rs = []\n",
    "    for d in pltdata:\n",
    "        rd = []\n",
    "        if 'marker' in d:\n",
    "            r_mark = getattr(p2, d['marker'])(d['srs'].values, \n",
    "                        d['srs'].coords['pressure'].values,\n",
    "                        color=d['color'], alpha=.7)\n",
    "            rd.append(r_mark)\n",
    "        r_line = p2.line(d['srs'].values, \n",
    "                    d['srs'].coords['pressure'].values,\n",
    "                    color=d['color'], alpha=d['alpha'], \n",
    "                    line_width=d['line_width'], line_dash=d['line_dash'])\n",
    "        rd.append(r_line)\n",
    "      \n",
    "        rs.append(rd)\n",
    "        \n",
    "    p2.y_range = Range1d(ymax, ymin)  \n",
    "    p2.yaxis.axis_label = 'pressure [mb]'\n",
    "    \n",
    "    p2.x_range = Range1d(xmin, xmax)\n",
    "    p2.xaxis.axis_label = 'cooling rate [K/day]'\n",
    "    \n",
    "    items = [(d['label'], r) for r, d in zip(rs, pltdata)]\n",
    "    legend = Legend(items=items, location=(10, -30))\n",
    "    legend.label_text_font_size = '8pt'\n",
    "    \n",
    "    p2.add_layout(legend, 'right')  \n",
    "    \n",
    "    show(gridplot(p1, p2, ncols=2, plot_height=500))\n",
    "    \n",
    "\n",
    "def script_plt_cooling():\n",
    "    pltdata = pltdata_cooling_1(\n",
    "        ds_cool=DS_COOL,\n",
    "        ds_cool_crd=DS_COOL_CRD,\n",
    "        ds_cool_wgt=DS_COOL_WGT)\n",
    "    plt_cooling_bokeh(pltdata=pltdata)\n",
    "    print('''FIGURE. Cooling rate profiles.''')"
   ]
  },
  {
   "cell_type": "code",
   "execution_count": 9,
   "metadata": {
    "collapsed": true
   },
   "outputs": [],
   "source": [
    "def fmt_flux(ds_in):\n",
    "    ds = ds_in.copy(deep=True)\n",
    "    \n",
    "    for l in ('level', 'layer'):\n",
    "        if l in ds.data_vars:\n",
    "            if len(ds[l].dims) > 1:\n",
    "                surface = {d: 0 for d in ds.dims if d != 'pressure'}\n",
    "                coord_level = ds[l][surface]\n",
    "                ds.coords[l] = ('pressure', coord_level)\n",
    "            else:\n",
    "                ds.coords[l] = ('pressure', ds[l])\n",
    "        \n",
    "    ds = ds.isel(pressure=[0, 23, -1])\n",
    "        \n",
    "    if 'igg' in ds.dims:\n",
    "        ds = ds.sel(igg=[1])\n",
    "        ds = ds.squeeze('igg').drop('igg')\n",
    "    \n",
    "    if 'g' in ds.dims:\n",
    "        ds = ds.sum('g')\n",
    "            \n",
    "    if 'band' in ds.dims:\n",
    "        try:\n",
    "            ds = ds.squeeze('band').drop('band')\n",
    "        except ValueError:\n",
    "            ds = ds.sum('band')\n",
    "                \n",
    "    df = ds.to_dataframe()\n",
    "    df = df.set_index('level', append=True)               \n",
    "    return df\n",
    "\n",
    "\n",
    "def tbdata_flux(ds_flux=None, ds_flux_crd=None, ds_flux_wgt=None):\n",
    "    ilevels = [0, 23, -1]\n",
    "            \n",
    "    benchmark = {'label': 'WGT igg=10 wgt_flux=1',\n",
    "                 'df': fmt_flux(ds_flux_wgt)}\n",
    "    \n",
    "    tbs = [{'label': 'CRD',\n",
    "            'df': fmt_flux(ds_flux_crd)},\n",
    "           {'label': 'CLIRAD',\n",
    "            'df': fmt_flux(ds_flux)}]\n",
    "    \n",
    "    data = {'benchmark': benchmark, 'others': tbs}\n",
    "    return data\n",
    "\n",
    "\n",
    "def tb_flux(tbdata=None):\n",
    "    benchmark = tbdata['benchmark']\n",
    "    others = tbdata['others']\n",
    "    \n",
    "    def show_tb(d=None):\n",
    "        display.display(d['df'])\n",
    "        print('Table.', 'Fluxes.', d['label'])\n",
    "        \n",
    "    def show_tbdiff(d0=None, d=None):\n",
    "        df = d['df']\n",
    "        df.index = d0['df'].index\n",
    "        display.display(df - d0['df'])\n",
    "        print('Table.', 'Fluxes.', \n",
    "              '({}) - ({})'.format(d['label'], d0['label']))\n",
    "        \n",
    "    show_tb(benchmark)\n",
    "    for d in others:\n",
    "        show_tb(d)\n",
    "        \n",
    "    for d in others:\n",
    "        show_tbdiff(d=d, d0=benchmark)\n",
    "        \n",
    "        \n",
    "def script_tb_flux():\n",
    "    data = tbdata_flux(ds_flux=DS_FLUX,\n",
    "                       ds_flux_crd=DS_FLUX_CRD,\n",
    "                       ds_flux_wgt=DS_FLUX_WGT)\n",
    "    tb_flux(tbdata=data)"
   ]
  },
  {
   "cell_type": "code",
   "execution_count": 10,
   "metadata": {
    "collapsed": true
   },
   "outputs": [],
   "source": [
    "def band_map():\n",
    "    '''\n",
    "    Maps spectral bands in lblnew to spectral bands in clirad.\n",
    "    '''\n",
    "    lblnew2clirad = {'1': '1',\n",
    "            '2': '2',\n",
    "            '3a': '3',\n",
    "            '3b': '4',\n",
    "            '3c': '5',\n",
    "            '4': '6', \n",
    "            '5': '7',\n",
    "            '6': '8',\n",
    "            '7': '9', \n",
    "            '8': '10',\n",
    "            '9': '11'}\n",
    "    \n",
    "    clirad2lblnew = {clirad: lblnew \n",
    "                     for lblnew, clirad in lblnew2clirad.items()}\n",
    "    return clirad2lblnew\n",
    "\n",
    "\n",
    "def gasbands():\n",
    "    bmap = band_map()\n",
    "    gases = list(PARAM['molecule'].keys())\n",
    "    \n",
    "    bands = [bmap[str(b)] for b in PARAM['band']]\n",
    "    return list(itertools.product(gases, bands))\n",
    "\n",
    "\n",
    "def print_bestfit_params():\n",
    "    print('Best-fit values for each (gas, band)')\n",
    "    print('------------------------------------')\n",
    "    for gas, band in gasbands():\n",
    "        print('o {} band{}'.format(gas, band))\n",
    "        param = bestfits.kdist_params(molecule=gas, band=band)\n",
    "        for name, value in sorted(param.items()):\n",
    "            print(2 * ' ' + '{} = {}'.format(name, value))\n",
    "\n",
    "        \n",
    "def print_input_param():        \n",
    "    for name, value in PARAM.items():\n",
    "        print('{} = {}'.format(name, value))\n",
    "        \n",
    "        \n",
    "def print_lblnew_param():\n",
    "    for name, value in sorted(PARAM_LBLNEW.items()):\n",
    "        print('{} = {}'.format(name, value))\n"
   ]
  },
  {
   "cell_type": "code",
   "execution_count": 11,
   "metadata": {
    "collapsed": true,
    "scrolled": false
   },
   "outputs": [],
   "source": [
    "def show_html(s):\n",
    "    display.display(display.HTML(s))\n",
    "\n",
    "    \n",
    "def show_markdown(s):\n",
    "    display.display(display.Markdown(s))\n",
    "\n",
    "    \n",
    "def script():\n",
    "    \n",
    "    title = '### CLIRAD-LW'\n",
    "    s_input = 'Input Parameters'\n",
    "    s_lblnew_param = 'LBLNEW case compaired against'\n",
    "    s_bestfits = 'Best-fit Parameters'\n",
    "    s_plt_cooling = 'Cooling Rate Profiles'\n",
    "    s_tb_flux = 'Flux Comparison'\n",
    "    \n",
    "    # title\n",
    "    show_markdown('### CLIRAD-LW')\n",
    "    \n",
    "    # TOC\n",
    "    show_markdown('### Table of Contents')\n",
    "    show_html(climahtml.getHTML_hrefanchor(s_input))\n",
    "    show_html(climahtml.getHTML_hrefanchor(s_lblnew_param))\n",
    "    show_html(climahtml.getHTML_hrefanchor(s_plt_cooling))\n",
    "    show_html(climahtml.getHTML_hrefanchor(s_tb_flux))\n",
    "    show_html(climahtml.getHTML_hrefanchor(s_bestfits))\n",
    "    \n",
    "    # Input parameters\n",
    "    show_html(climahtml.getHTML_idanchor(s_input))\n",
    "    show_markdown(climahtml.getMarkdown_sectitle(s_input))\n",
    "    print_input_param()\n",
    "    \n",
    "    # LBLNEW parameters \n",
    "    show_html(climahtml.getHTML_idanchor(s_lblnew_param))\n",
    "    show_markdown(climahtml.getMarkdown_sectitle(s_lblnew_param))\n",
    "    print_lblnew_param()\n",
    "    \n",
    "    # Cooling rate profiles\n",
    "    show_html(climahtml.getHTML_idanchor(s_plt_cooling))\n",
    "    show_markdown(climahtml.getMarkdown_sectitle(s_plt_cooling))\n",
    "    script_plt_cooling()\n",
    "    \n",
    "    # Flux comparison\n",
    "    show_html(climahtml.getHTML_idanchor(s_tb_flux))\n",
    "    show_markdown(climahtml.getMarkdown_sectitle(s_tb_flux))\n",
    "    script_tb_flux()\n",
    "    \n",
    "    # Best-fit values\n",
    "    show_html(climahtml.getHTML_idanchor(s_bestfits))\n",
    "    show_markdown(climahtml.getMarkdown_sectitle(s_bestfits))\n",
    "    print_bestfit_params()\n",
    "   \n",
    "    "
   ]
  },
  {
   "cell_type": "code",
   "execution_count": 12,
   "metadata": {
    "collapsed": true,
    "scrolled": false
   },
   "outputs": [
    {
     "data": {
      "text/markdown": [
       "### CLIRAD-LW"
      ],
      "text/plain": [
       "<IPython.core.display.Markdown object>"
      ]
     },
     "metadata": {},
     "output_type": "display_data"
    },
    {
     "data": {
      "text/markdown": [
       "### Table of Contents"
      ],
      "text/plain": [
       "<IPython.core.display.Markdown object>"
      ]
     },
     "metadata": {},
     "output_type": "display_data"
    },
    {
     "data": {
      "text/html": [
       "<a href=\"#Input_Parameters\">Input Parameters</a>"
      ],
      "text/plain": [
       "<IPython.core.display.HTML object>"
      ]
     },
     "metadata": {},
     "output_type": "display_data"
    },
    {
     "data": {
      "text/html": [
       "<a href=\"#LBLNEW_case_compaired_against\">LBLNEW case compaired against</a>"
      ],
      "text/plain": [
       "<IPython.core.display.HTML object>"
      ]
     },
     "metadata": {},
     "output_type": "display_data"
    },
    {
     "data": {
      "text/html": [
       "<a href=\"#Cooling_Rate_Profiles\">Cooling Rate Profiles</a>"
      ],
      "text/plain": [
       "<IPython.core.display.HTML object>"
      ]
     },
     "metadata": {},
     "output_type": "display_data"
    },
    {
     "data": {
      "text/html": [
       "<a href=\"#Flux_Comparison\">Flux Comparison</a>"
      ],
      "text/plain": [
       "<IPython.core.display.HTML object>"
      ]
     },
     "metadata": {},
     "output_type": "display_data"
    },
    {
     "data": {
      "text/html": [
       "<a href=\"#Best-fit_Parameters\">Best-fit Parameters</a>"
      ],
      "text/plain": [
       "<IPython.core.display.HTML object>"
      ]
     },
     "metadata": {},
     "output_type": "display_data"
    },
    {
     "data": {
      "text/html": [
       "<a id=\"Input_Parameters\"></a>"
      ],
      "text/plain": [
       "<IPython.core.display.HTML object>"
      ]
     },
     "metadata": {},
     "output_type": "display_data"
    },
    {
     "data": {
      "text/markdown": [
       "# Input Parameters"
      ],
      "text/plain": [
       "<IPython.core.display.Markdown object>"
      ]
     },
     "metadata": {},
     "output_type": "display_data"
    },
    {
     "name": "stdout",
     "output_type": "stream",
     "text": [
      "atmpro = mls\n",
      "band = [3]\n",
      "commitnumber = 9a64c27\n",
      "molecule = {'co2': 0.0004, 'h2o': 'atmpro', 'n2o': 3.2e-07}\n",
      "tsfc = 294\n"
     ]
    },
    {
     "data": {
      "text/html": [
       "<a id=\"LBLNEW_case_compaired_against\"></a>"
      ],
      "text/plain": [
       "<IPython.core.display.HTML object>"
      ]
     },
     "metadata": {},
     "output_type": "display_data"
    },
    {
     "data": {
      "text/markdown": [
       "# LBLNEW case compaired against"
      ],
      "text/plain": [
       "<IPython.core.display.Markdown object>"
      ]
     },
     "metadata": {},
     "output_type": "display_data"
    },
    {
     "name": "stdout",
     "output_type": "stream",
     "text": [
      "atmpro = mls\n",
      "band = 3a\n",
      "commitnumber = 5014a19\n",
      "dv = 0.01\n",
      "molecule = {'co2': 0.0004, 'h2o': 'atmpro', 'n2o': 3.2e-07}\n",
      "nv = 100\n",
      "tsfc = 294\n"
     ]
    },
    {
     "data": {
      "text/html": [
       "<a id=\"Cooling_Rate_Profiles\"></a>"
      ],
      "text/plain": [
       "<IPython.core.display.HTML object>"
      ]
     },
     "metadata": {},
     "output_type": "display_data"
    },
    {
     "data": {
      "text/markdown": [
       "# Cooling Rate Profiles"
      ],
      "text/plain": [
       "<IPython.core.display.Markdown object>"
      ]
     },
     "metadata": {},
     "output_type": "display_data"
    },
    {
     "data": {
      "text/html": [
       "\n",
       "<div class=\"bk-root\">\n",
       "    <div class=\"bk-plotdiv\" id=\"6fc6be93-1871-4dd7-9974-58c940759dff\"></div>\n",
       "</div>"
      ]
     },
     "metadata": {},
     "output_type": "display_data"
    },
    {
     "data": {
      "application/javascript": [
       "(function(root) {\n",
       "  function embed_document(root) {\n",
       "    \n",
       "  var docs_json = {\"5a21cbf2-d7f1-43a2-a803-84730fccfe40\":{\"roots\":{\"references\":[{\"attributes\":{\"callback\":null,\"end\":0.01,\"start\":1020},\"id\":\"ca67db12-f286-416e-9a66-c5990b8a203d\",\"type\":\"Range1d\"},{\"attributes\":{},\"id\":\"f66ead78-314b-4b29-82e4-05f6ba499f9f\",\"type\":\"BasicTickFormatter\"},{\"attributes\":{\"fill_alpha\":{\"value\":0.7},\"fill_color\":{\"value\":\"#4daf4a\"},\"line_alpha\":{\"value\":0.7},\"line_color\":{\"value\":\"#4daf4a\"},\"x\":{\"field\":\"x\"},\"y\":{\"field\":\"y\"}},\"id\":\"57b7926c-0caf-4ab8-9f4b-5f23651e0758\",\"type\":\"Circle\"},{\"attributes\":{\"callback\":null,\"end\":0.01,\"start\":1020},\"id\":\"2d905f6a-b2ee-4939-b9b9-09c7e8fa5dc1\",\"type\":\"Range1d\"},{\"attributes\":{\"source\":{\"id\":\"ae0bd40a-8d7e-4049-bfae-b163214a60c3\",\"type\":\"ColumnDataSource\"}},\"id\":\"6a43bcd3-bc70-4852-8c06-bd5c89af7c95\",\"type\":\"CDSView\"},{\"attributes\":{\"callback\":null,\"column_names\":[\"x\",\"y\"],\"data\":{\"x\":{\"__ndarray__\":\"ywbC4xUn0j8TDXP+/ZTYP0R51blYh8E/VCd3Cn8nzT983qaiJU3TP555vSRj79A/yWst5d8b0j9wLax+GUrSP5dmRoE2oNY/7SwXfUfF0T/V21X+a6/TP3MXvEPletI/V1fLvqcJ0T9GQvij6s/MP8IMdIrhrMk/VpPxOcHIzD9GJOkeAtzRPxR0QZ7ZxdM/utXW/Lbv1D8S1ikDxRfXPyb2+b2Hqtw/pCq3/qfs4z+fmA4AyXLqP6yevF1p+Oo/m3VCvyE65j9GufJhD5DhP1tlInxaC9w/ys+6BK9v1j8zYByeVvjRP5LOwMjLGsw/dGD3JTQsxT8eXoTnrdO9PybbfACr07Q/xNNbni8/sD8I5XhjEymrP/t2iR+gUaU/YmXoYzSuoD+4vjiGOouaP4tZ0RRxoow/MKF2vi7qWz9lDt3+qTByP3Xhix/4Upk/yl5ygLlGqT9ZVGG/aXKzPzdDYJtDCLo/AvTa8ORovj9V2yziZDDBP6+jYHyHEcM/AHdVd5fRxD9jKtx2yrjGP8RE/9uX+cg/WTda5XQfyz/5NMQEdxjNPwIXXFqq3s4/kFr2XltD0D+6kSac5QvRP92OV71P19E/sja+3S8y0z8ZH4c9xHHUP5JLb8FKbNU/L3rZPC8R1j8F4xp+u1XWPyjh14K9TdY/IVu3vbQT1j9DnWY/WrXVPzxSGr1cPNU/nWn8oR2g1D985nKkr7fTP0r2QuDMWNI/AP9zHGiT0D9Zt4t60lPNP/1SuzaGxsk/Nn9lCHTkxj+UX3H+RyLFP+jIBNsMYMc/\",\"dtype\":\"float64\",\"shape\":[75]},\"y\":{\"__ndarray__\":\"S/O/Q+51ND/430zAtpRIP2vylNV0PVE/QxsjCssuWD/TR4Z78fVgP+inNsRxymc/OuuBfZWvcD/u3TFA02d3P2d3VoBnaoA/CD5h5MAGhz/1pA8HUCaQP+zrCsc9p5Y/Fb7LAKjGnz/nJ9c/SEmmPwBD+fzcQq8/FOZwv9nstT8Er5Y7M8G+P0c+r3jqkcU/yK72qKZBzj+tM989FzjVPxbgmr8yxN0/cOm5AXbg5D+5ctXAf0jtP5kqGJXUifQ/DsrqDELP/D8MCAhBojQEQDItVnmnVwxAiFXNvdHgE0BSSZ2AJuIbQAMJih9jjiNA5q4l5INuK0CPVN/5RT0zQHzxRXu8/DpAOZ7PgHrtQkAg8wGBzoxKQBSTN8DMeFJA2NmQf2ZqWEAAAAAAAFxeQEQX1LfMJmJAmpmZmZkfZUBmZmZmZhhoQLzoK0gzEWtAAAAAAAAKbkCiC+pbZoFwQAhyUMLM/XFA+I2vPTN6c0AQ5KCEmfZ0QAAAAAAAc3ZA8Btfe2bvd0AIclDCzGt5QPeNrz0z6HpAEOSghJlkfEAAAAAAAOF9QKML6ltmXX9ABTkoYeZsgED7xteeGSuBQAhyUMJM6YFAAAAAAICngkD4ja89s2WDQAU5KGHmI4RA+8bXnhnihEAIclDCTKCFQAAAAACAXoZA+I2vPbMch0AFOShh5tqHQPvG154ZmYhACHJQwkxXiUAAAAAAgBWKQPeNrz2z04pABTkoYeaRi0D7xteeGVCMQAlyUMJMDo1AAAAAAIDMjUD3ja89s4qOQGZmZmbmSI9A\",\"dtype\":\"float64\",\"shape\":[75]}}},\"id\":\"a2fee7bc-b1cd-4ad1-8c33-03ee3b2ad838\",\"type\":\"ColumnDataSource\"},{\"attributes\":{\"line_alpha\":0.1,\"line_color\":\"#1f77b4\",\"line_dash\":[6],\"line_width\":5,\"x\":{\"field\":\"x\"},\"y\":{\"field\":\"y\"}},\"id\":\"5b8fe95d-8ad9-4bfc-967b-3769ade323de\",\"type\":\"Line\"},{\"attributes\":{\"label\":{\"value\":\"CLIRAD `coolr_bands`\"},\"renderers\":[{\"id\":\"6dbfc680-288e-4a75-a69f-0edd2a04bcbe\",\"type\":\"GlyphRenderer\"}]},\"id\":\"537d7d05-686b-474d-aa34-f35c836bdb5d\",\"type\":\"LegendItem\"},{\"attributes\":{\"callback\":null,\"column_names\":[\"x\",\"y\"],\"data\":{\"x\":{\"__ndarray__\":\"QNhrct9H1T+20QhPS2DVPwXHI8AC+9U/TJ8E07yl1j+B4hEm1jPXP8uiTWHnntc/ZehUCYHi1z+utgfGZuzXPwnVtCg/q9c/RhvTVbIK1z8JpAbLv/PVP0Op3pafRtQ/FfVRX/ng0T84QeWpWEbNP8/FtnfTTsg/WQZqayOiyj/LmwXSrMnQP+UJCNYGYdM/UMeEFBOG1T+HWg1obcPYP2a0Xbqs9t4/PMInpbn45D8BaBhnoTfrP5E9CCIHXOs/n3hK3msu5j9nTF7wq2rhPzmc+dUcoNs/uxh3QUwb1j89H/Ft8sLRP1oxGgEuK8w/4m73D3VhxT9wi0NHvIa+P4zbAB36L7Y/C1kaTlLGsT/badMnpd+sP/N6salTG6Y/ERQFG1OHoT8SVFW0rtucP5f1lRnM5ZA/TC3d2eV/cD8K1+tq7gB9P+CxckTLdZ0/T6oxrNgbrD+H48YbAyy1P4Z7n4k0Grw/1hTxa140wD+k3GTx7grCP+OwC3Fy4MM/SphI7W6zxT+cnGcNWp/HP5tYng/or8k/cLJP+FOAyz8nfpQqtCDNP9a0xRQwqs4/hwhqvmsM0D/tV2xZ37zQP1kmkbc7b9E/7sbMT7up0j8NLfwqCsXTP5HeJpKemNQ/8ezZEG8f1T8zPA9R+VXVP7hxrAejRNU/x4bqvWP+1D+b37QJxZDUPxoZYPYdCdQ/FT1s+bNl0z+CxBs+jovSPxSFK9r7WNE/euv0ah2ozz9tuch3CGfMP3aLXS4kWMk/WyU3DuXZxj8PMAy7nFDFP0Di9IEmusc/\",\"dtype\":\"float64\",\"shape\":[75]},\"y\":{\"__ndarray__\":\"GhExyth1ND/Sv8nbtpRIP2vylNV0PVE/aTum7souWD/At0SJ8fVgPw3Iuahxymc/MSNhhJWvcD/bTfBN02d3P2zb5nxnaoA/CD5h5MAGhz8NmeH1TyaQP+zrCsc9p5Y/LbKd76fGnz/bLW5ISEmmPww9YvTcQq8/JV2OstnstT8Er5Y7M8G+P0c+r3jqkcU/5h99k6ZBzj88bCIzFzjVP4enV8oyxN0//yH99nXg5D8qOpLLf0jtP5kqGJXUifQ/c9cS8kHP/D+/DpwzojQEQIEmwoanVwxA4lgXt9HgE0BSSZ2AJuIbQAMJih9jjiNA5q4l5INuK0AwTKYKRj0zQNv5fmq8/DpAaCJseHrtQkB/+zpwzoxKQM3MzMzMeFJAZmZmZmZqWEAAAAAAAFxeQM3MzMzMJmJAmpmZmZkfZUBmZmZmZhhoQDMzMzMzEWtAAAAAAAAKbkBmZmZmZoFwQM3MzMzM/XFAMzMzMzN6c0CamZmZmfZ0QAAAAAAAc3ZAZmZmZmbvd0DNzMzMzGt5QDMzMzMz6HpAmpmZmZlkfEAAAAAAAOF9QGZmZmZmXX9AZmZmZuZsgECamZmZGSuBQM3MzMxM6YFAAAAAAICngkAzMzMzs2WDQGZmZmbmI4RAmpmZmRnihEDNzMzMTKCFQAAAAACAXoZAMzMzM7Mch0BmZmZm5tqHQJqZmZkZmYhAzczMzExXiUAAAAAAgBWKQDMzMzOz04pAZmZmZuaRi0CamZmZGVCMQM3MzMxMDo1AAAAAAIDMjUAzMzMzs4qOQGZmZmbmSI9A\",\"dtype\":\"float64\",\"shape\":[75]}}},\"id\":\"2748fdf4-0374-4856-af67-4d0e5af20b6d\",\"type\":\"ColumnDataSource\"},{\"attributes\":{},\"id\":\"31719bf5-811a-455f-be08-90c79dbd4bcd\",\"type\":\"BasicTicker\"},{\"attributes\":{\"dimension\":1,\"plot\":{\"id\":\"fbba7554-ecfb-4324-b00e-74604d23065b\",\"subtype\":\"Figure\",\"type\":\"Plot\"},\"ticker\":{\"id\":\"fdde2d87-5192-4460-92a1-cf5fc78f7b32\",\"type\":\"BasicTicker\"}},\"id\":\"64683d0d-c3a9-4ed1-a055-ce4a906a9bfd\",\"type\":\"Grid\"},{\"attributes\":{\"source\":{\"id\":\"346826d4-3fc6-46bb-b819-55e0bbc88262\",\"type\":\"ColumnDataSource\"}},\"id\":\"38284874-8ed5-493a-9c92-b3f5bd9ec994\",\"type\":\"CDSView\"},{\"attributes\":{\"data_source\":{\"id\":\"a2fee7bc-b1cd-4ad1-8c33-03ee3b2ad838\",\"type\":\"ColumnDataSource\"},\"glyph\":{\"id\":\"3337621b-a473-4221-adf4-784014efc0ff\",\"type\":\"Line\"},\"hover_glyph\":null,\"muted_glyph\":null,\"nonselection_glyph\":{\"id\":\"e8042c57-087a-42f4-ad59-b6872c601048\",\"type\":\"Line\"},\"selection_glyph\":null,\"view\":{\"id\":\"2dee9ad4-ae4f-4c11-b8a4-90d134ee3de7\",\"type\":\"CDSView\"}},\"id\":\"6dbfc680-288e-4a75-a69f-0edd2a04bcbe\",\"type\":\"GlyphRenderer\"},{\"attributes\":{\"source\":{\"id\":\"c66c982b-97b6-42a3-8b04-eef8123f21d7\",\"type\":\"ColumnDataSource\"}},\"id\":\"acd8afc5-27ff-410c-8220-5405cf713360\",\"type\":\"CDSView\"},{\"attributes\":{\"callback\":null,\"column_names\":[\"x\",\"y\"],\"data\":{\"x\":{\"__ndarray__\":\"nluNkZGY2j/OtJKQJ03aP1/olduL4to/IL9tXLVh2z9FeKSPM6zbP2ckhD+qvts/Z3lg+G972z9XI/3uBNjaP+yhv8iyvdk/wlpK0D4a2D8NObaeIdzVPx0YSGmZ+dI/Hcua3BjQzj90gi7IMzvGP7mr9GYWmb8/doig5rvGwT8VdjDm16TJP8Xi3MsiudA/f4XMlUE11T+070BTZQ7bP0PHUEZDg+E/dazWskpj5z88gIeaz7btPxTAICvwPO0/Jtmwx8AR5z+xu+WPDnThP2H7yRgfJto/9R+I4kSq0z945Juvip7OP7XcPlATosg/jldiliRswz9v9gfKbfu8P5av/uFE+rU/KtJdD6+2sT/rIBykwRyrP+Oji245bqI/Wj8AIFw+mj/0E+98FraUP5Bx8EWurYU/rwGTW+tDNT9oQ/10HDRxP32rLAy8U5o/AaEH1CGLqj8YKRUGxYy0P6Ja6Vog5rs/1QRR9wFIwD+WBfJwK1LCP9NP9p7jhsQ/MS5N+ELUxj/GHhRzlCzJP5zJL2qUgcs/UsDR6dRwzT9jey3ovTHPP6xnMUZeddA/O4PQiyRL0T93taLufxfSP01URo4629I/EbZMRMcn1D+SeQUe70DVP7Z0NxXK/tU/FY7/hnlk1j9ZNs4B3XLWP1fBudCmNNY/CQg5MRy21T9qki/TvATVP7uB4eD7MNQ/J1Y+slZA0z92DWVu3x/SP4BWqlUFtNA/2KCKdnALzj8eohM6lpTKP2wTm01Pccc/kaC2FRTpxD+w7HpQ7V/DP///5mJf9MU/\",\"dtype\":\"float64\",\"shape\":[75]},\"y\":{\"__ndarray__\":\"GhExyth1ND/Sv8nbtpRIP2vylNV0PVE/aTum7souWD/At0SJ8fVgPw3Iuahxymc/MSNhhJWvcD/bTfBN02d3P2zb5nxnaoA/CD5h5MAGhz8NmeH1TyaQP+zrCsc9p5Y/LbKd76fGnz/bLW5ISEmmPww9YvTcQq8/JV2OstnstT8Er5Y7M8G+P0c+r3jqkcU/5h99k6ZBzj88bCIzFzjVP4enV8oyxN0//yH99nXg5D8qOpLLf0jtP5kqGJXUifQ/c9cS8kHP/D+/DpwzojQEQIEmwoanVwxA4lgXt9HgE0BSSZ2AJuIbQAMJih9jjiNA5q4l5INuK0AwTKYKRj0zQNv5fmq8/DpAaCJseHrtQkB/+zpwzoxKQM3MzMzMeFJAZmZmZmZqWEAAAAAAAFxeQM3MzMzMJmJAmpmZmZkfZUBmZmZmZhhoQDMzMzMzEWtAAAAAAAAKbkBmZmZmZoFwQM3MzMzM/XFAMzMzMzN6c0CamZmZmfZ0QAAAAAAAc3ZAZmZmZmbvd0DNzMzMzGt5QDMzMzMz6HpAmpmZmZlkfEAAAAAAAOF9QGZmZmZmXX9AZmZmZuZsgECamZmZGSuBQM3MzMxM6YFAAAAAAICngkAzMzMzs2WDQGZmZmbmI4RAmpmZmRnihEDNzMzMTKCFQAAAAACAXoZAMzMzM7Mch0BmZmZm5tqHQJqZmZkZmYhAzczMzExXiUAAAAAAgBWKQDMzMzOz04pAZmZmZuaRi0CamZmZGVCMQM3MzMxMDo1AAAAAAIDMjUAzMzMzs4qOQGZmZmbmSI9A\",\"dtype\":\"float64\",\"shape\":[75]}}},\"id\":\"99ae414b-5dfe-4436-951a-ff3757656437\",\"type\":\"ColumnDataSource\"},{\"attributes\":{\"callback\":null,\"column_names\":[\"x\",\"y\"],\"data\":{\"x\":{\"__ndarray__\":\"QNhrct9H1T+20QhPS2DVPwXHI8AC+9U/TJ8E07yl1j+B4hEm1jPXP8uiTWHnntc/ZehUCYHi1z+utgfGZuzXPwnVtCg/q9c/RhvTVbIK1z8JpAbLv/PVP0Op3pafRtQ/FfVRX/ng0T84QeWpWEbNP8/FtnfTTsg/WQZqayOiyj/LmwXSrMnQP+UJCNYGYdM/UMeEFBOG1T+HWg1obcPYP2a0Xbqs9t4/PMInpbn45D8BaBhnoTfrP5E9CCIHXOs/n3hK3msu5j9nTF7wq2rhPzmc+dUcoNs/uxh3QUwb1j89H/Ft8sLRP1oxGgEuK8w/4m73D3VhxT9wi0NHvIa+P4zbAB36L7Y/C1kaTlLGsT/badMnpd+sP/N6salTG6Y/ERQFG1OHoT8SVFW0rtucP5f1lRnM5ZA/TC3d2eV/cD8K1+tq7gB9P+CxckTLdZ0/T6oxrNgbrD+H48YbAyy1P4Z7n4k0Grw/1hTxa140wD+k3GTx7grCP+OwC3Fy4MM/SphI7W6zxT+cnGcNWp/HP5tYng/or8k/cLJP+FOAyz8nfpQqtCDNP9a0xRQwqs4/hwhqvmsM0D/tV2xZ37zQP1kmkbc7b9E/7sbMT7up0j8NLfwqCsXTP5HeJpKemNQ/8ezZEG8f1T8zPA9R+VXVP7hxrAejRNU/x4bqvWP+1D+b37QJxZDUPxoZYPYdCdQ/FT1s+bNl0z+CxBs+jovSPxSFK9r7WNE/euv0ah2ozz9tuch3CGfMP3aLXS4kWMk/WyU3DuXZxj8PMAy7nFDFP0Di9IEmusc/\",\"dtype\":\"float64\",\"shape\":[75]},\"y\":{\"__ndarray__\":\"GhExyth1ND/Sv8nbtpRIP2vylNV0PVE/aTum7souWD/At0SJ8fVgPw3Iuahxymc/MSNhhJWvcD/bTfBN02d3P2zb5nxnaoA/CD5h5MAGhz8NmeH1TyaQP+zrCsc9p5Y/LbKd76fGnz/bLW5ISEmmPww9YvTcQq8/JV2OstnstT8Er5Y7M8G+P0c+r3jqkcU/5h99k6ZBzj88bCIzFzjVP4enV8oyxN0//yH99nXg5D8qOpLLf0jtP5kqGJXUifQ/c9cS8kHP/D+/DpwzojQEQIEmwoanVwxA4lgXt9HgE0BSSZ2AJuIbQAMJih9jjiNA5q4l5INuK0AwTKYKRj0zQNv5fmq8/DpAaCJseHrtQkB/+zpwzoxKQM3MzMzMeFJAZmZmZmZqWEAAAAAAAFxeQM3MzMzMJmJAmpmZmZkfZUBmZmZmZhhoQDMzMzMzEWtAAAAAAAAKbkBmZmZmZoFwQM3MzMzM/XFAMzMzMzN6c0CamZmZmfZ0QAAAAAAAc3ZAZmZmZmbvd0DNzMzMzGt5QDMzMzMz6HpAmpmZmZlkfEAAAAAAAOF9QGZmZmZmXX9AZmZmZuZsgECamZmZGSuBQM3MzMxM6YFAAAAAAICngkAzMzMzs2WDQGZmZmbmI4RAmpmZmRnihEDNzMzMTKCFQAAAAACAXoZAMzMzM7Mch0BmZmZm5tqHQJqZmZkZmYhAzczMzExXiUAAAAAAgBWKQDMzMzOz04pAZmZmZuaRi0CamZmZGVCMQM3MzMxMDo1AAAAAAIDMjUAzMzMzs4qOQGZmZmbmSI9A\",\"dtype\":\"float64\",\"shape\":[75]}}},\"id\":\"90820e42-f228-4462-9714-fe37c0554ac6\",\"type\":\"ColumnDataSource\"},{\"attributes\":{},\"id\":\"fdde2d87-5192-4460-92a1-cf5fc78f7b32\",\"type\":\"BasicTicker\"},{\"attributes\":{\"source\":{\"id\":\"eb2a6533-a8b4-477e-82b6-4d6052f81f4b\",\"type\":\"ColumnDataSource\"}},\"id\":\"7e2e2560-205d-4f94-9b48-cf5887ab6f8f\",\"type\":\"CDSView\"},{\"attributes\":{\"children\":[{\"id\":\"0de1e28b-8d85-4d10-afdf-82c4871b3f63\",\"type\":\"Row\"}]},\"id\":\"15aee63d-428e-4984-858c-97ef4d390c75\",\"type\":\"Column\"},{\"attributes\":{},\"id\":\"70f20555-7811-470f-9533-07e812252185\",\"type\":\"PanTool\"},{\"attributes\":{\"fill_alpha\":{\"value\":0.1},\"fill_color\":{\"value\":\"#1f77b4\"},\"line_alpha\":{\"value\":0.1},\"line_color\":{\"value\":\"#1f77b4\"},\"x\":{\"field\":\"x\"},\"y\":{\"field\":\"y\"}},\"id\":\"c901a4bc-48f7-4802-b1fa-0d6650b56a07\",\"type\":\"Circle\"},{\"attributes\":{\"line_color\":\"#4daf4a\",\"line_width\":1.5,\"x\":{\"field\":\"x\"},\"y\":{\"field\":\"y\"}},\"id\":\"d106dd2c-f345-4887-9042-4f6c99c031f2\",\"type\":\"Line\"},{\"attributes\":{\"source\":{\"id\":\"29ed86b1-9413-481c-9fa6-d71ada691ae5\",\"type\":\"ColumnDataSource\"}},\"id\":\"f5c77a75-2f0e-4cf7-8898-bedb78b83ada\",\"type\":\"CDSView\"},{\"attributes\":{\"fill_alpha\":{\"value\":0.1},\"fill_color\":{\"value\":\"#1f77b4\"},\"line_alpha\":{\"value\":0.1},\"line_color\":{\"value\":\"#1f77b4\"},\"x\":{\"field\":\"x\"},\"y\":{\"field\":\"y\"}},\"id\":\"3c7cf53e-19f7-4296-87bf-5897221bfb35\",\"type\":\"Circle\"},{\"attributes\":{\"data_source\":{\"id\":\"346826d4-3fc6-46bb-b819-55e0bbc88262\",\"type\":\"ColumnDataSource\"},\"glyph\":{\"id\":\"3f9cf930-2ef1-4be1-b321-6e89365a99d2\",\"type\":\"Line\"},\"hover_glyph\":null,\"muted_glyph\":null,\"nonselection_glyph\":{\"id\":\"9986c007-b193-4815-b071-ae3fb9d0dc3b\",\"type\":\"Line\"},\"selection_glyph\":null,\"view\":{\"id\":\"38284874-8ed5-493a-9c92-b3f5bd9ec994\",\"type\":\"CDSView\"}},\"id\":\"cf353804-827e-4511-ba19-7d037f02f0e4\",\"type\":\"GlyphRenderer\"},{\"attributes\":{\"ticker\":null},\"id\":\"3bed0e49-4d49-4786-955d-af272e48d421\",\"type\":\"LogTickFormatter\"},{\"attributes\":{\"callback\":null,\"column_names\":[\"x\",\"y\"],\"data\":{\"x\":{\"__ndarray__\":\"nluNkZGY2j/OtJKQJ03aP1/olduL4to/IL9tXLVh2z9FeKSPM6zbP2ckhD+qvts/Z3lg+G972z9XI/3uBNjaP+yhv8iyvdk/wlpK0D4a2D8NObaeIdzVPx0YSGmZ+dI/Hcua3BjQzj90gi7IMzvGP7mr9GYWmb8/doig5rvGwT8VdjDm16TJP8Xi3MsiudA/f4XMlUE11T+070BTZQ7bP0PHUEZDg+E/dazWskpj5z88gIeaz7btPxTAICvwPO0/Jtmwx8AR5z+xu+WPDnThP2H7yRgfJto/9R+I4kSq0z945Juvip7OP7XcPlATosg/jldiliRswz9v9gfKbfu8P5av/uFE+rU/KtJdD6+2sT/rIBykwRyrP+Oji245bqI/Wj8AIFw+mj/0E+98FraUP5Bx8EWurYU/rwGTW+tDNT9oQ/10HDRxP32rLAy8U5o/AaEH1CGLqj8YKRUGxYy0P6Ja6Vog5rs/1QRR9wFIwD+WBfJwK1LCP9NP9p7jhsQ/MS5N+ELUxj/GHhRzlCzJP5zJL2qUgcs/UsDR6dRwzT9jey3ovTHPP6xnMUZeddA/O4PQiyRL0T93taLufxfSP01URo4629I/EbZMRMcn1D+SeQUe70DVP7Z0NxXK/tU/FY7/hnlk1j9ZNs4B3XLWP1fBudCmNNY/CQg5MRy21T9qki/TvATVP7uB4eD7MNQ/J1Y+slZA0z92DWVu3x/SP4BWqlUFtNA/2KCKdnALzj8eohM6lpTKP2wTm01Pccc/kaC2FRTpxD+w7HpQ7V/DP///5mJf9MU/\",\"dtype\":\"float64\",\"shape\":[75]},\"y\":{\"__ndarray__\":\"GhExyth1ND/Sv8nbtpRIP2vylNV0PVE/aTum7souWD/At0SJ8fVgPw3Iuahxymc/MSNhhJWvcD/bTfBN02d3P2zb5nxnaoA/CD5h5MAGhz8NmeH1TyaQP+zrCsc9p5Y/LbKd76fGnz/bLW5ISEmmPww9YvTcQq8/JV2OstnstT8Er5Y7M8G+P0c+r3jqkcU/5h99k6ZBzj88bCIzFzjVP4enV8oyxN0//yH99nXg5D8qOpLLf0jtP5kqGJXUifQ/c9cS8kHP/D+/DpwzojQEQIEmwoanVwxA4lgXt9HgE0BSSZ2AJuIbQAMJih9jjiNA5q4l5INuK0AwTKYKRj0zQNv5fmq8/DpAaCJseHrtQkB/+zpwzoxKQM3MzMzMeFJAZmZmZmZqWEAAAAAAAFxeQM3MzMzMJmJAmpmZmZkfZUBmZmZmZhhoQDMzMzMzEWtAAAAAAAAKbkBmZmZmZoFwQM3MzMzM/XFAMzMzMzN6c0CamZmZmfZ0QAAAAAAAc3ZAZmZmZmbvd0DNzMzMzGt5QDMzMzMz6HpAmpmZmZlkfEAAAAAAAOF9QGZmZmZmXX9AZmZmZuZsgECamZmZGSuBQM3MzMxM6YFAAAAAAICngkAzMzMzs2WDQGZmZmbmI4RAmpmZmRnihEDNzMzMTKCFQAAAAACAXoZAMzMzM7Mch0BmZmZm5tqHQJqZmZkZmYhAzczMzExXiUAAAAAAgBWKQDMzMzOz04pAZmZmZuaRi0CamZmZGVCMQM3MzMxMDo1AAAAAAIDMjUAzMzMzs4qOQGZmZmbmSI9A\",\"dtype\":\"float64\",\"shape\":[75]}}},\"id\":\"eb2a6533-a8b4-477e-82b6-4d6052f81f4b\",\"type\":\"ColumnDataSource\"},{\"attributes\":{\"callback\":null,\"column_names\":[\"x\",\"y\"],\"data\":{\"x\":{\"__ndarray__\":\"ywbC4xUn0j8TDXP+/ZTYP0R51blYh8E/VCd3Cn8nzT983qaiJU3TP555vSRj79A/yWst5d8b0j9wLax+GUrSP5dmRoE2oNY/7SwXfUfF0T/V21X+a6/TP3MXvEPletI/V1fLvqcJ0T9GQvij6s/MP8IMdIrhrMk/VpPxOcHIzD9GJOkeAtzRPxR0QZ7ZxdM/utXW/Lbv1D8S1ikDxRfXPyb2+b2Hqtw/pCq3/qfs4z+fmA4AyXLqP6yevF1p+Oo/m3VCvyE65j9GufJhD5DhP1tlInxaC9w/ys+6BK9v1j8zYByeVvjRP5LOwMjLGsw/dGD3JTQsxT8eXoTnrdO9PybbfACr07Q/xNNbni8/sD8I5XhjEymrP/t2iR+gUaU/YmXoYzSuoD+4vjiGOouaP4tZ0RRxoow/MKF2vi7qWz9lDt3+qTByP3Xhix/4Upk/yl5ygLlGqT9ZVGG/aXKzPzdDYJtDCLo/AvTa8ORovj9V2yziZDDBP6+jYHyHEcM/AHdVd5fRxD9jKtx2yrjGP8RE/9uX+cg/WTda5XQfyz/5NMQEdxjNPwIXXFqq3s4/kFr2XltD0D+6kSac5QvRP92OV71P19E/sja+3S8y0z8ZH4c9xHHUP5JLb8FKbNU/L3rZPC8R1j8F4xp+u1XWPyjh14K9TdY/IVu3vbQT1j9DnWY/WrXVPzxSGr1cPNU/nWn8oR2g1D985nKkr7fTP0r2QuDMWNI/AP9zHGiT0D9Zt4t60lPNP/1SuzaGxsk/Nn9lCHTkxj+UX3H+RyLFP+jIBNsMYMc/\",\"dtype\":\"float64\",\"shape\":[75]},\"y\":{\"__ndarray__\":\"S/O/Q+51ND/430zAtpRIP2vylNV0PVE/QxsjCssuWD/TR4Z78fVgP+inNsRxymc/OuuBfZWvcD/u3TFA02d3P2d3VoBnaoA/CD5h5MAGhz/1pA8HUCaQP+zrCsc9p5Y/Fb7LAKjGnz/nJ9c/SEmmPwBD+fzcQq8/FOZwv9nstT8Er5Y7M8G+P0c+r3jqkcU/yK72qKZBzj+tM989FzjVPxbgmr8yxN0/cOm5AXbg5D+5ctXAf0jtP5kqGJXUifQ/DsrqDELP/D8MCAhBojQEQDItVnmnVwxAiFXNvdHgE0BSSZ2AJuIbQAMJih9jjiNA5q4l5INuK0CPVN/5RT0zQHzxRXu8/DpAOZ7PgHrtQkAg8wGBzoxKQBSTN8DMeFJA2NmQf2ZqWEAAAAAAAFxeQEQX1LfMJmJAmpmZmZkfZUBmZmZmZhhoQLzoK0gzEWtAAAAAAAAKbkCiC+pbZoFwQAhyUMLM/XFA+I2vPTN6c0AQ5KCEmfZ0QAAAAAAAc3ZA8Btfe2bvd0AIclDCzGt5QPeNrz0z6HpAEOSghJlkfEAAAAAAAOF9QKML6ltmXX9ABTkoYeZsgED7xteeGSuBQAhyUMJM6YFAAAAAAICngkD4ja89s2WDQAU5KGHmI4RA+8bXnhnihEAIclDCTKCFQAAAAACAXoZA+I2vPbMch0AFOShh5tqHQPvG154ZmYhACHJQwkxXiUAAAAAAgBWKQPeNrz2z04pABTkoYeaRi0D7xteeGVCMQAlyUMJMDo1AAAAAAIDMjUD3ja89s4qOQGZmZmbmSI9A\",\"dtype\":\"float64\",\"shape\":[75]}}},\"id\":\"c66c982b-97b6-42a3-8b04-eef8123f21d7\",\"type\":\"ColumnDataSource\"},{\"attributes\":{},\"id\":\"2bd33530-feed-4a93-8895-a8fa4045001b\",\"type\":\"BasicTickFormatter\"},{\"attributes\":{\"line_alpha\":0.1,\"line_color\":\"#1f77b4\",\"line_dash\":[6],\"line_width\":5,\"x\":{\"field\":\"x\"},\"y\":{\"field\":\"y\"}},\"id\":\"e8042c57-087a-42f4-ad59-b6872c601048\",\"type\":\"Line\"},{\"attributes\":{\"callback\":null,\"end\":0.9378482030712,\"start\":-0.008957930191200001},\"id\":\"109e7c5a-fea6-4617-9ef2-539f57b01de6\",\"type\":\"Range1d\"},{\"attributes\":{\"line_alpha\":0.1,\"line_color\":\"#1f77b4\",\"line_width\":1.5,\"x\":{\"field\":\"x\"},\"y\":{\"field\":\"y\"}},\"id\":\"9986c007-b193-4815-b071-ae3fb9d0dc3b\",\"type\":\"Line\"},{\"attributes\":{\"plot\":null,\"text\":\"Linear pressure scale\"},\"id\":\"52d19004-43e7-425a-9d7d-168f58a5469b\",\"type\":\"Title\"},{\"attributes\":{\"data_source\":{\"id\":\"99ae414b-5dfe-4436-951a-ff3757656437\",\"type\":\"ColumnDataSource\"},\"glyph\":{\"id\":\"d106dd2c-f345-4887-9042-4f6c99c031f2\",\"type\":\"Line\"},\"hover_glyph\":null,\"muted_glyph\":null,\"nonselection_glyph\":{\"id\":\"14e7da13-d951-4c42-ae55-47f28f7935e3\",\"type\":\"Line\"},\"selection_glyph\":null,\"view\":{\"id\":\"cdc109f9-7f86-49e4-86a3-9df09488dc35\",\"type\":\"CDSView\"}},\"id\":\"a1e851c9-4350-433e-8ed1-a7cbc1bb19bc\",\"type\":\"GlyphRenderer\"},{\"attributes\":{\"label\":{\"value\":\"CRD\"},\"renderers\":[{\"id\":\"d0ed0f4c-78bf-4953-9b81-76389116f96a\",\"type\":\"GlyphRenderer\"},{\"id\":\"a1e851c9-4350-433e-8ed1-a7cbc1bb19bc\",\"type\":\"GlyphRenderer\"}]},\"id\":\"df7733aa-6fc7-4d84-befb-81204b0808da\",\"type\":\"LegendItem\"},{\"attributes\":{\"data_source\":{\"id\":\"eb2a6533-a8b4-477e-82b6-4d6052f81f4b\",\"type\":\"ColumnDataSource\"},\"glyph\":{\"id\":\"4c994455-fa9d-4565-ba19-fc4d5a88ffcb\",\"type\":\"Circle\"},\"hover_glyph\":null,\"muted_glyph\":null,\"nonselection_glyph\":{\"id\":\"3c7cf53e-19f7-4296-87bf-5897221bfb35\",\"type\":\"Circle\"},\"selection_glyph\":null,\"view\":{\"id\":\"7e2e2560-205d-4f94-9b48-cf5887ab6f8f\",\"type\":\"CDSView\"}},\"id\":\"d0ed0f4c-78bf-4953-9b81-76389116f96a\",\"type\":\"GlyphRenderer\"},{\"attributes\":{\"line_alpha\":0.1,\"line_color\":\"#1f77b4\",\"line_width\":1.5,\"x\":{\"field\":\"x\"},\"y\":{\"field\":\"y\"}},\"id\":\"14e7da13-d951-4c42-ae55-47f28f7935e3\",\"type\":\"Line\"},{\"attributes\":{},\"id\":\"1180d864-86da-4728-b811-18e7c04c2142\",\"type\":\"LinearScale\"},{\"attributes\":{\"dimension\":1,\"plot\":{\"id\":\"0964c5a4-dc21-46e3-9752-1caefde4052e\",\"subtype\":\"Figure\",\"type\":\"Plot\"},\"ticker\":{\"id\":\"3fcd87ec-a807-4cf7-aff6-3ff2643186c8\",\"type\":\"LogTicker\"}},\"id\":\"e1a32973-b631-4c3a-a60c-76d4df582e31\",\"type\":\"Grid\"},{\"attributes\":{\"fill_alpha\":{\"value\":0.7},\"fill_color\":{\"value\":\"#4daf4a\"},\"line_alpha\":{\"value\":0.7},\"line_color\":{\"value\":\"#4daf4a\"},\"x\":{\"field\":\"x\"},\"y\":{\"field\":\"y\"}},\"id\":\"4c994455-fa9d-4565-ba19-fc4d5a88ffcb\",\"type\":\"Circle\"},{\"attributes\":{\"data_source\":{\"id\":\"29ed86b1-9413-481c-9fa6-d71ada691ae5\",\"type\":\"ColumnDataSource\"},\"glyph\":{\"id\":\"b196b60c-b811-48bc-bbc7-c7876b0114c7\",\"type\":\"Square\"},\"hover_glyph\":null,\"muted_glyph\":null,\"nonselection_glyph\":{\"id\":\"893a3e20-a847-46ba-9e32-0d8ed039a5e4\",\"type\":\"Square\"},\"selection_glyph\":null,\"view\":{\"id\":\"f5c77a75-2f0e-4cf7-8898-bedb78b83ada\",\"type\":\"CDSView\"}},\"id\":\"337cf91e-5998-4f85-8c8f-eb3f71e55eae\",\"type\":\"GlyphRenderer\"},{\"attributes\":{\"source\":{\"id\":\"99ae414b-5dfe-4436-951a-ff3757656437\",\"type\":\"ColumnDataSource\"}},\"id\":\"cdc109f9-7f86-49e4-86a3-9df09488dc35\",\"type\":\"CDSView\"},{\"attributes\":{\"below\":[{\"id\":\"72589d3a-60d7-4906-9e31-3c20336eb3b2\",\"type\":\"LinearAxis\"}],\"left\":[{\"id\":\"dcfd8d4f-6276-4c5e-bad4-38283ef5c215\",\"type\":\"LogAxis\"}],\"plot_height\":500,\"plot_width\":560,\"renderers\":[{\"id\":\"72589d3a-60d7-4906-9e31-3c20336eb3b2\",\"type\":\"LinearAxis\"},{\"id\":\"52561bf7-b98e-4727-aae7-6e0b12f49466\",\"type\":\"Grid\"},{\"id\":\"dcfd8d4f-6276-4c5e-bad4-38283ef5c215\",\"type\":\"LogAxis\"},{\"id\":\"e1a32973-b631-4c3a-a60c-76d4df582e31\",\"type\":\"Grid\"},{\"id\":\"6814148f-cc4e-4540-858a-d0c698c1119e\",\"type\":\"BoxAnnotation\"},{\"id\":\"6dbfc680-288e-4a75-a69f-0edd2a04bcbe\",\"type\":\"GlyphRenderer\"},{\"id\":\"d0ed0f4c-78bf-4953-9b81-76389116f96a\",\"type\":\"GlyphRenderer\"},{\"id\":\"a1e851c9-4350-433e-8ed1-a7cbc1bb19bc\",\"type\":\"GlyphRenderer\"},{\"id\":\"99b52cef-ae4e-4e0b-90f5-10b7d9ff0bc7\",\"type\":\"GlyphRenderer\"},{\"id\":\"157edb3d-1a24-45fc-9a5d-7e8fff7e1378\",\"type\":\"GlyphRenderer\"},{\"id\":\"c29657b1-44cd-416b-941a-cd0f62ff71bf\",\"type\":\"Legend\"}],\"right\":[{\"id\":\"c29657b1-44cd-416b-941a-cd0f62ff71bf\",\"type\":\"Legend\"}],\"title\":{\"id\":\"0a83a133-8284-43fb-95a4-b9b11389ee2f\",\"type\":\"Title\"},\"toolbar\":{\"id\":\"77957fbc-cbe4-4d00-9b43-d3682d76c479\",\"type\":\"Toolbar\"},\"toolbar_location\":null,\"x_range\":{\"id\":\"109e7c5a-fea6-4617-9ef2-539f57b01de6\",\"type\":\"Range1d\"},\"x_scale\":{\"id\":\"03a3e246-f777-4e5d-8563-72fe0a48e3cd\",\"type\":\"LinearScale\"},\"y_range\":{\"id\":\"2d905f6a-b2ee-4939-b9b9-09c7e8fa5dc1\",\"type\":\"Range1d\"},\"y_scale\":{\"id\":\"44dff695-f81a-463d-ab64-487230774d25\",\"type\":\"LogScale\"}},\"id\":\"0964c5a4-dc21-46e3-9752-1caefde4052e\",\"subtype\":\"Figure\",\"type\":\"Plot\"},{\"attributes\":{\"fill_alpha\":{\"value\":0.7},\"fill_color\":{\"value\":\"#984ea3\"},\"line_alpha\":{\"value\":0.7},\"line_color\":{\"value\":\"#984ea3\"},\"x\":{\"field\":\"x\"},\"y\":{\"field\":\"y\"}},\"id\":\"a130faf3-bb92-4ced-a55f-07534812d362\",\"type\":\"Square\"},{\"attributes\":{\"items\":[{\"id\":\"537d7d05-686b-474d-aa34-f35c836bdb5d\",\"type\":\"LegendItem\"},{\"id\":\"df7733aa-6fc7-4d84-befb-81204b0808da\",\"type\":\"LegendItem\"},{\"id\":\"9103ba31-067a-4d01-a088-c6cb701ecd42\",\"type\":\"LegendItem\"}],\"label_text_font_size\":{\"value\":\"8pt\"},\"location\":[10,-30],\"plot\":{\"id\":\"0964c5a4-dc21-46e3-9752-1caefde4052e\",\"subtype\":\"Figure\",\"type\":\"Plot\"}},\"id\":\"c29657b1-44cd-416b-941a-cd0f62ff71bf\",\"type\":\"Legend\"},{\"attributes\":{\"line_alpha\":0.1,\"line_color\":\"#1f77b4\",\"line_width\":3,\"x\":{\"field\":\"x\"},\"y\":{\"field\":\"y\"}},\"id\":\"475754d8-429c-4d60-b5ea-f4a34b818da9\",\"type\":\"Line\"},{\"attributes\":{\"below\":[{\"id\":\"25bc22ff-a0b5-4cdd-b8a9-460e6cae3a32\",\"type\":\"LinearAxis\"}],\"left\":[{\"id\":\"6bda3f4f-a0eb-4924-91c2-2d16378d1ddc\",\"type\":\"LinearAxis\"}],\"plot_height\":500,\"plot_width\":400,\"renderers\":[{\"id\":\"25bc22ff-a0b5-4cdd-b8a9-460e6cae3a32\",\"type\":\"LinearAxis\"},{\"id\":\"486746a5-3fa2-4292-822f-80e0ba7273ff\",\"type\":\"Grid\"},{\"id\":\"6bda3f4f-a0eb-4924-91c2-2d16378d1ddc\",\"type\":\"LinearAxis\"},{\"id\":\"64683d0d-c3a9-4ed1-a055-ce4a906a9bfd\",\"type\":\"Grid\"},{\"id\":\"8f35735f-e62d-47ab-ac18-987fb6675fd3\",\"type\":\"BoxAnnotation\"},{\"id\":\"c7e223db-ba96-4594-a078-ad9a0738af50\",\"type\":\"GlyphRenderer\"},{\"id\":\"aa694663-775e-4068-ba35-2080527c8b5f\",\"type\":\"GlyphRenderer\"},{\"id\":\"cf353804-827e-4511-ba19-7d037f02f0e4\",\"type\":\"GlyphRenderer\"},{\"id\":\"337cf91e-5998-4f85-8c8f-eb3f71e55eae\",\"type\":\"GlyphRenderer\"},{\"id\":\"7ab3b210-d5ce-4621-9393-a78dac2f7b4c\",\"type\":\"GlyphRenderer\"}],\"title\":{\"id\":\"52d19004-43e7-425a-9d7d-168f58a5469b\",\"type\":\"Title\"},\"toolbar\":{\"id\":\"74a3898e-4a0c-4afb-b394-9ead0e078a56\",\"type\":\"Toolbar\"},\"toolbar_location\":null,\"x_range\":{\"id\":\"86d92ad0-2b7b-49d3-87df-ac9f4dfcedca\",\"type\":\"Range1d\"},\"x_scale\":{\"id\":\"1180d864-86da-4728-b811-18e7c04c2142\",\"type\":\"LinearScale\"},\"y_range\":{\"id\":\"ca67db12-f286-416e-9a66-c5990b8a203d\",\"type\":\"Range1d\"},\"y_scale\":{\"id\":\"c5b611cc-146f-4af5-9e49-34aeafcd857c\",\"type\":\"LinearScale\"}},\"id\":\"fbba7554-ecfb-4324-b00e-74604d23065b\",\"subtype\":\"Figure\",\"type\":\"Plot\"},{\"attributes\":{},\"id\":\"35cfbec5-83d0-4870-9f70-d55d23143a0c\",\"type\":\"SaveTool\"},{\"attributes\":{\"plot\":null,\"text\":\"Log pressure scale\"},\"id\":\"0a83a133-8284-43fb-95a4-b9b11389ee2f\",\"type\":\"Title\"},{\"attributes\":{\"source\":{\"id\":\"90820e42-f228-4462-9714-fe37c0554ac6\",\"type\":\"ColumnDataSource\"}},\"id\":\"036956b2-0e93-4dc8-b16a-b001ea16f6b3\",\"type\":\"CDSView\"},{\"attributes\":{\"line_alpha\":0.6,\"line_color\":\"#984ea3\",\"line_width\":3,\"x\":{\"field\":\"x\"},\"y\":{\"field\":\"y\"}},\"id\":\"0755fa81-db1b-476e-8bc6-bdc162e6f683\",\"type\":\"Line\"},{\"attributes\":{\"fill_alpha\":{\"value\":0.1},\"fill_color\":{\"value\":\"#1f77b4\"},\"line_alpha\":{\"value\":0.1},\"line_color\":{\"value\":\"#1f77b4\"},\"x\":{\"field\":\"x\"},\"y\":{\"field\":\"y\"}},\"id\":\"64f58763-c6f6-4e7a-8cb0-4ee670c4f989\",\"type\":\"Square\"},{\"attributes\":{\"children\":[{\"id\":\"fbba7554-ecfb-4324-b00e-74604d23065b\",\"subtype\":\"Figure\",\"type\":\"Plot\"},{\"id\":\"0964c5a4-dc21-46e3-9752-1caefde4052e\",\"subtype\":\"Figure\",\"type\":\"Plot\"}]},\"id\":\"0de1e28b-8d85-4d10-afdf-82c4871b3f63\",\"type\":\"Row\"},{\"attributes\":{\"active_drag\":\"auto\",\"active_inspect\":\"auto\",\"active_scroll\":\"auto\",\"active_tap\":\"auto\",\"tools\":[{\"id\":\"3a1984b7-4b87-4729-8897-319de4bd733a\",\"type\":\"PanTool\"},{\"id\":\"2ca12ecd-748c-4300-949a-1a01c5c4c3c7\",\"type\":\"WheelZoomTool\"},{\"id\":\"561f2830-b27e-4a6f-ae87-6cafa0fb9d7c\",\"type\":\"BoxZoomTool\"},{\"id\":\"35cfbec5-83d0-4870-9f70-d55d23143a0c\",\"type\":\"SaveTool\"},{\"id\":\"85693972-bb7b-4bc6-9135-f21c53ed8f65\",\"type\":\"ResetTool\"},{\"id\":\"7ba2450a-56f9-488e-8240-a4096c03230b\",\"type\":\"HelpTool\"}]},\"id\":\"77957fbc-cbe4-4d00-9b43-d3682d76c479\",\"type\":\"Toolbar\"},{\"attributes\":{\"data_source\":{\"id\":\"90820e42-f228-4462-9714-fe37c0554ac6\",\"type\":\"ColumnDataSource\"},\"glyph\":{\"id\":\"a130faf3-bb92-4ced-a55f-07534812d362\",\"type\":\"Square\"},\"hover_glyph\":null,\"muted_glyph\":null,\"nonselection_glyph\":{\"id\":\"64f58763-c6f6-4e7a-8cb0-4ee670c4f989\",\"type\":\"Square\"},\"selection_glyph\":null,\"view\":{\"id\":\"036956b2-0e93-4dc8-b16a-b001ea16f6b3\",\"type\":\"CDSView\"}},\"id\":\"99b52cef-ae4e-4e0b-90f5-10b7d9ff0bc7\",\"type\":\"GlyphRenderer\"},{\"attributes\":{},\"id\":\"447d2f56-9922-49fb-990c-2bb82f7798e5\",\"type\":\"BasicTickFormatter\"},{\"attributes\":{\"children\":[{\"id\":\"84299997-f114-4295-ac59-05723094b95b\",\"type\":\"ToolbarBox\"},{\"id\":\"15aee63d-428e-4984-858c-97ef4d390c75\",\"type\":\"Column\"}]},\"id\":\"60ad9ea5-8aed-4768-88ae-883f8a9263ba\",\"type\":\"Column\"},{\"attributes\":{\"tools\":[{\"id\":\"70f20555-7811-470f-9533-07e812252185\",\"type\":\"PanTool\"},{\"id\":\"7a075fbb-db03-4d81-9960-f507b60c0cce\",\"type\":\"WheelZoomTool\"},{\"id\":\"5f31eab4-3a15-4ca5-a09c-913c4767d807\",\"type\":\"BoxZoomTool\"},{\"id\":\"455dfc75-5fe5-42fc-8814-20629e4968fa\",\"type\":\"SaveTool\"},{\"id\":\"c0b31b4f-ca2f-426c-8711-b716c485e8e8\",\"type\":\"ResetTool\"},{\"id\":\"739a9586-2309-494e-8b02-953035a6a3df\",\"type\":\"HelpTool\"},{\"id\":\"3a1984b7-4b87-4729-8897-319de4bd733a\",\"type\":\"PanTool\"},{\"id\":\"2ca12ecd-748c-4300-949a-1a01c5c4c3c7\",\"type\":\"WheelZoomTool\"},{\"id\":\"561f2830-b27e-4a6f-ae87-6cafa0fb9d7c\",\"type\":\"BoxZoomTool\"},{\"id\":\"35cfbec5-83d0-4870-9f70-d55d23143a0c\",\"type\":\"SaveTool\"},{\"id\":\"85693972-bb7b-4bc6-9135-f21c53ed8f65\",\"type\":\"ResetTool\"},{\"id\":\"7ba2450a-56f9-488e-8240-a4096c03230b\",\"type\":\"HelpTool\"}]},\"id\":\"d78e9819-c46b-4ebc-813e-ba3c1660a552\",\"type\":\"ProxyToolbar\"},{\"attributes\":{},\"id\":\"c0b31b4f-ca2f-426c-8711-b716c485e8e8\",\"type\":\"ResetTool\"},{\"attributes\":{\"source\":{\"id\":\"2748fdf4-0374-4856-af67-4d0e5af20b6d\",\"type\":\"ColumnDataSource\"}},\"id\":\"55d9049c-1531-4089-a572-c2ce69572774\",\"type\":\"CDSView\"},{\"attributes\":{\"axis_label\":\"pressure [mb]\",\"formatter\":{\"id\":\"3bed0e49-4d49-4786-955d-af272e48d421\",\"type\":\"LogTickFormatter\"},\"plot\":{\"id\":\"0964c5a4-dc21-46e3-9752-1caefde4052e\",\"subtype\":\"Figure\",\"type\":\"Plot\"},\"ticker\":{\"id\":\"3fcd87ec-a807-4cf7-aff6-3ff2643186c8\",\"type\":\"LogTicker\"}},\"id\":\"dcfd8d4f-6276-4c5e-bad4-38283ef5c215\",\"type\":\"LogAxis\"},{\"attributes\":{\"line_alpha\":0.1,\"line_color\":\"#1f77b4\",\"line_width\":3,\"x\":{\"field\":\"x\"},\"y\":{\"field\":\"y\"}},\"id\":\"534be183-d456-4e7b-86d9-6c32e2ee355b\",\"type\":\"Line\"},{\"attributes\":{\"data_source\":{\"id\":\"2748fdf4-0374-4856-af67-4d0e5af20b6d\",\"type\":\"ColumnDataSource\"},\"glyph\":{\"id\":\"0755fa81-db1b-476e-8bc6-bdc162e6f683\",\"type\":\"Line\"},\"hover_glyph\":null,\"muted_glyph\":null,\"nonselection_glyph\":{\"id\":\"534be183-d456-4e7b-86d9-6c32e2ee355b\",\"type\":\"Line\"},\"selection_glyph\":null,\"view\":{\"id\":\"55d9049c-1531-4089-a572-c2ce69572774\",\"type\":\"CDSView\"}},\"id\":\"157edb3d-1a24-45fc-9a5d-7e8fff7e1378\",\"type\":\"GlyphRenderer\"},{\"attributes\":{},\"id\":\"82ef7de8-7da1-4b81-8652-eddbaa04ca35\",\"type\":\"BasicTicker\"},{\"attributes\":{\"plot\":{\"id\":\"fbba7554-ecfb-4324-b00e-74604d23065b\",\"subtype\":\"Figure\",\"type\":\"Plot\"},\"ticker\":{\"id\":\"31719bf5-811a-455f-be08-90c79dbd4bcd\",\"type\":\"BasicTicker\"}},\"id\":\"486746a5-3fa2-4292-822f-80e0ba7273ff\",\"type\":\"Grid\"},{\"attributes\":{\"fill_alpha\":{\"value\":0.7},\"fill_color\":{\"value\":\"#984ea3\"},\"line_alpha\":{\"value\":0.7},\"line_color\":{\"value\":\"#984ea3\"},\"x\":{\"field\":\"x\"},\"y\":{\"field\":\"y\"}},\"id\":\"b196b60c-b811-48bc-bbc7-c7876b0114c7\",\"type\":\"Square\"},{\"attributes\":{\"toolbar\":{\"id\":\"d78e9819-c46b-4ebc-813e-ba3c1660a552\",\"type\":\"ProxyToolbar\"},\"toolbar_location\":\"above\"},\"id\":\"84299997-f114-4295-ac59-05723094b95b\",\"type\":\"ToolbarBox\"},{\"attributes\":{},\"id\":\"c5b611cc-146f-4af5-9e49-34aeafcd857c\",\"type\":\"LinearScale\"},{\"attributes\":{\"line_color\":\"#4daf4a\",\"line_width\":1.5,\"x\":{\"field\":\"x\"},\"y\":{\"field\":\"y\"}},\"id\":\"3f9cf930-2ef1-4be1-b321-6e89365a99d2\",\"type\":\"Line\"},{\"attributes\":{\"overlay\":{\"id\":\"8f35735f-e62d-47ab-ac18-987fb6675fd3\",\"type\":\"BoxAnnotation\"}},\"id\":\"5f31eab4-3a15-4ca5-a09c-913c4767d807\",\"type\":\"BoxZoomTool\"},{\"attributes\":{\"bottom_units\":\"screen\",\"fill_alpha\":{\"value\":0.5},\"fill_color\":{\"value\":\"lightgrey\"},\"left_units\":\"screen\",\"level\":\"overlay\",\"line_alpha\":{\"value\":1.0},\"line_color\":{\"value\":\"black\"},\"line_dash\":[4,4],\"line_width\":{\"value\":2},\"plot\":null,\"render_mode\":\"css\",\"right_units\":\"screen\",\"top_units\":\"screen\"},\"id\":\"6814148f-cc4e-4540-858a-d0c698c1119e\",\"type\":\"BoxAnnotation\"},{\"attributes\":{},\"id\":\"3a1984b7-4b87-4729-8897-319de4bd733a\",\"type\":\"PanTool\"},{\"attributes\":{\"callback\":null,\"column_names\":[\"x\",\"y\"],\"data\":{\"x\":{\"__ndarray__\":\"QNhrct9H1T+20QhPS2DVPwXHI8AC+9U/TJ8E07yl1j+B4hEm1jPXP8uiTWHnntc/ZehUCYHi1z+utgfGZuzXPwnVtCg/q9c/RhvTVbIK1z8JpAbLv/PVP0Op3pafRtQ/FfVRX/ng0T84QeWpWEbNP8/FtnfTTsg/WQZqayOiyj/LmwXSrMnQP+UJCNYGYdM/UMeEFBOG1T+HWg1obcPYP2a0Xbqs9t4/PMInpbn45D8BaBhnoTfrP5E9CCIHXOs/n3hK3msu5j9nTF7wq2rhPzmc+dUcoNs/uxh3QUwb1j89H/Ft8sLRP1oxGgEuK8w/4m73D3VhxT9wi0NHvIa+P4zbAB36L7Y/C1kaTlLGsT/badMnpd+sP/N6salTG6Y/ERQFG1OHoT8SVFW0rtucP5f1lRnM5ZA/TC3d2eV/cD8K1+tq7gB9P+CxckTLdZ0/T6oxrNgbrD+H48YbAyy1P4Z7n4k0Grw/1hTxa140wD+k3GTx7grCP+OwC3Fy4MM/SphI7W6zxT+cnGcNWp/HP5tYng/or8k/cLJP+FOAyz8nfpQqtCDNP9a0xRQwqs4/hwhqvmsM0D/tV2xZ37zQP1kmkbc7b9E/7sbMT7up0j8NLfwqCsXTP5HeJpKemNQ/8ezZEG8f1T8zPA9R+VXVP7hxrAejRNU/x4bqvWP+1D+b37QJxZDUPxoZYPYdCdQ/FT1s+bNl0z+CxBs+jovSPxSFK9r7WNE/euv0ah2ozz9tuch3CGfMP3aLXS4kWMk/WyU3DuXZxj8PMAy7nFDFP0Di9IEmusc/\",\"dtype\":\"float64\",\"shape\":[75]},\"y\":{\"__ndarray__\":\"GhExyth1ND/Sv8nbtpRIP2vylNV0PVE/aTum7souWD/At0SJ8fVgPw3Iuahxymc/MSNhhJWvcD/bTfBN02d3P2zb5nxnaoA/CD5h5MAGhz8NmeH1TyaQP+zrCsc9p5Y/LbKd76fGnz/bLW5ISEmmPww9YvTcQq8/JV2OstnstT8Er5Y7M8G+P0c+r3jqkcU/5h99k6ZBzj88bCIzFzjVP4enV8oyxN0//yH99nXg5D8qOpLLf0jtP5kqGJXUifQ/c9cS8kHP/D+/DpwzojQEQIEmwoanVwxA4lgXt9HgE0BSSZ2AJuIbQAMJih9jjiNA5q4l5INuK0AwTKYKRj0zQNv5fmq8/DpAaCJseHrtQkB/+zpwzoxKQM3MzMzMeFJAZmZmZmZqWEAAAAAAAFxeQM3MzMzMJmJAmpmZmZkfZUBmZmZmZhhoQDMzMzMzEWtAAAAAAAAKbkBmZmZmZoFwQM3MzMzM/XFAMzMzMzN6c0CamZmZmfZ0QAAAAAAAc3ZAZmZmZmbvd0DNzMzMzGt5QDMzMzMz6HpAmpmZmZlkfEAAAAAAAOF9QGZmZmZmXX9AZmZmZuZsgECamZmZGSuBQM3MzMxM6YFAAAAAAICngkAzMzMzs2WDQGZmZmbmI4RAmpmZmRnihEDNzMzMTKCFQAAAAACAXoZAMzMzM7Mch0BmZmZm5tqHQJqZmZkZmYhAzczMzExXiUAAAAAAgBWKQDMzMzOz04pAZmZmZuaRi0CamZmZGVCMQM3MzMxMDo1AAAAAAIDMjUAzMzMzs4qOQGZmZmbmSI9A\",\"dtype\":\"float64\",\"shape\":[75]}}},\"id\":\"18d6229d-7c90-4585-a421-220d0bed5415\",\"type\":\"ColumnDataSource\"},{\"attributes\":{\"axis_label\":\"cooling rate [K/day]\",\"formatter\":{\"id\":\"f66ead78-314b-4b29-82e4-05f6ba499f9f\",\"type\":\"BasicTickFormatter\"},\"plot\":{\"id\":\"fbba7554-ecfb-4324-b00e-74604d23065b\",\"subtype\":\"Figure\",\"type\":\"Plot\"},\"ticker\":{\"id\":\"31719bf5-811a-455f-be08-90c79dbd4bcd\",\"type\":\"BasicTicker\"}},\"id\":\"25bc22ff-a0b5-4cdd-b8a9-460e6cae3a32\",\"type\":\"LinearAxis\"},{\"attributes\":{},\"id\":\"2ca12ecd-748c-4300-949a-1a01c5c4c3c7\",\"type\":\"WheelZoomTool\"},{\"attributes\":{\"bottom_units\":\"screen\",\"fill_alpha\":{\"value\":0.5},\"fill_color\":{\"value\":\"lightgrey\"},\"left_units\":\"screen\",\"level\":\"overlay\",\"line_alpha\":{\"value\":1.0},\"line_color\":{\"value\":\"black\"},\"line_dash\":[4,4],\"line_width\":{\"value\":2},\"plot\":null,\"render_mode\":\"css\",\"right_units\":\"screen\",\"top_units\":\"screen\"},\"id\":\"8f35735f-e62d-47ab-ac18-987fb6675fd3\",\"type\":\"BoxAnnotation\"},{\"attributes\":{\"callback\":null,\"end\":0.35426506217119996,\"start\":-0.0031798792912},\"id\":\"86d92ad0-2b7b-49d3-87df-ac9f4dfcedca\",\"type\":\"Range1d\"},{\"attributes\":{\"overlay\":{\"id\":\"6814148f-cc4e-4540-858a-d0c698c1119e\",\"type\":\"BoxAnnotation\"}},\"id\":\"561f2830-b27e-4a6f-ae87-6cafa0fb9d7c\",\"type\":\"BoxZoomTool\"},{\"attributes\":{\"callback\":null,\"column_names\":[\"x\",\"y\"],\"data\":{\"x\":{\"__ndarray__\":\"nluNkZGY2j/OtJKQJ03aP1/olduL4to/IL9tXLVh2z9FeKSPM6zbP2ckhD+qvts/Z3lg+G972z9XI/3uBNjaP+yhv8iyvdk/wlpK0D4a2D8NObaeIdzVPx0YSGmZ+dI/Hcua3BjQzj90gi7IMzvGP7mr9GYWmb8/doig5rvGwT8VdjDm16TJP8Xi3MsiudA/f4XMlUE11T+070BTZQ7bP0PHUEZDg+E/dazWskpj5z88gIeaz7btPxTAICvwPO0/Jtmwx8AR5z+xu+WPDnThP2H7yRgfJto/9R+I4kSq0z945Juvip7OP7XcPlATosg/jldiliRswz9v9gfKbfu8P5av/uFE+rU/KtJdD6+2sT/rIBykwRyrP+Oji245bqI/Wj8AIFw+mj/0E+98FraUP5Bx8EWurYU/rwGTW+tDNT9oQ/10HDRxP32rLAy8U5o/AaEH1CGLqj8YKRUGxYy0P6Ja6Vog5rs/1QRR9wFIwD+WBfJwK1LCP9NP9p7jhsQ/MS5N+ELUxj/GHhRzlCzJP5zJL2qUgcs/UsDR6dRwzT9jey3ovTHPP6xnMUZeddA/O4PQiyRL0T93taLufxfSP01URo4629I/EbZMRMcn1D+SeQUe70DVP7Z0NxXK/tU/FY7/hnlk1j9ZNs4B3XLWP1fBudCmNNY/CQg5MRy21T9qki/TvATVP7uB4eD7MNQ/J1Y+slZA0z92DWVu3x/SP4BWqlUFtNA/2KCKdnALzj8eohM6lpTKP2wTm01Pccc/kaC2FRTpxD+w7HpQ7V/DP///5mJf9MU/\",\"dtype\":\"float64\",\"shape\":[75]},\"y\":{\"__ndarray__\":\"GhExyth1ND/Sv8nbtpRIP2vylNV0PVE/aTum7souWD/At0SJ8fVgPw3Iuahxymc/MSNhhJWvcD/bTfBN02d3P2zb5nxnaoA/CD5h5MAGhz8NmeH1TyaQP+zrCsc9p5Y/LbKd76fGnz/bLW5ISEmmPww9YvTcQq8/JV2OstnstT8Er5Y7M8G+P0c+r3jqkcU/5h99k6ZBzj88bCIzFzjVP4enV8oyxN0//yH99nXg5D8qOpLLf0jtP5kqGJXUifQ/c9cS8kHP/D+/DpwzojQEQIEmwoanVwxA4lgXt9HgE0BSSZ2AJuIbQAMJih9jjiNA5q4l5INuK0AwTKYKRj0zQNv5fmq8/DpAaCJseHrtQkB/+zpwzoxKQM3MzMzMeFJAZmZmZmZqWEAAAAAAAFxeQM3MzMzMJmJAmpmZmZkfZUBmZmZmZhhoQDMzMzMzEWtAAAAAAAAKbkBmZmZmZoFwQM3MzMzM/XFAMzMzMzN6c0CamZmZmfZ0QAAAAAAAc3ZAZmZmZmbvd0DNzMzMzGt5QDMzMzMz6HpAmpmZmZlkfEAAAAAAAOF9QGZmZmZmXX9AZmZmZuZsgECamZmZGSuBQM3MzMxM6YFAAAAAAICngkAzMzMzs2WDQGZmZmbmI4RAmpmZmRnihEDNzMzMTKCFQAAAAACAXoZAMzMzM7Mch0BmZmZm5tqHQJqZmZkZmYhAzczMzExXiUAAAAAAgBWKQDMzMzOz04pAZmZmZuaRi0CamZmZGVCMQM3MzMxMDo1AAAAAAIDMjUAzMzMzs4qOQGZmZmbmSI9A\",\"dtype\":\"float64\",\"shape\":[75]}}},\"id\":\"346826d4-3fc6-46bb-b819-55e0bbc88262\",\"type\":\"ColumnDataSource\"},{\"attributes\":{},\"id\":\"85693972-bb7b-4bc6-9135-f21c53ed8f65\",\"type\":\"ResetTool\"},{\"attributes\":{},\"id\":\"7ba2450a-56f9-488e-8240-a4096c03230b\",\"type\":\"HelpTool\"},{\"attributes\":{\"data_source\":{\"id\":\"c66c982b-97b6-42a3-8b04-eef8123f21d7\",\"type\":\"ColumnDataSource\"},\"glyph\":{\"id\":\"8b07acb3-5e58-4801-b0ab-fcd5a2dd853f\",\"type\":\"Line\"},\"hover_glyph\":null,\"muted_glyph\":null,\"nonselection_glyph\":{\"id\":\"5b8fe95d-8ad9-4bfc-967b-3769ade323de\",\"type\":\"Line\"},\"selection_glyph\":null,\"view\":{\"id\":\"acd8afc5-27ff-410c-8220-5405cf713360\",\"type\":\"CDSView\"}},\"id\":\"c7e223db-ba96-4594-a078-ad9a0738af50\",\"type\":\"GlyphRenderer\"},{\"attributes\":{\"label\":{\"value\":\"WGT igg=10 wgt_flux=2\"},\"renderers\":[{\"id\":\"99b52cef-ae4e-4e0b-90f5-10b7d9ff0bc7\",\"type\":\"GlyphRenderer\"},{\"id\":\"157edb3d-1a24-45fc-9a5d-7e8fff7e1378\",\"type\":\"GlyphRenderer\"}]},\"id\":\"9103ba31-067a-4d01-a088-c6cb701ecd42\",\"type\":\"LegendItem\"},{\"attributes\":{\"plot\":{\"id\":\"0964c5a4-dc21-46e3-9752-1caefde4052e\",\"subtype\":\"Figure\",\"type\":\"Plot\"},\"ticker\":{\"id\":\"82ef7de8-7da1-4b81-8652-eddbaa04ca35\",\"type\":\"BasicTicker\"}},\"id\":\"52561bf7-b98e-4727-aae7-6e0b12f49466\",\"type\":\"Grid\"},{\"attributes\":{\"axis_label\":\"pressure [mb]\",\"formatter\":{\"id\":\"447d2f56-9922-49fb-990c-2bb82f7798e5\",\"type\":\"BasicTickFormatter\"},\"plot\":{\"id\":\"fbba7554-ecfb-4324-b00e-74604d23065b\",\"subtype\":\"Figure\",\"type\":\"Plot\"},\"ticker\":{\"id\":\"fdde2d87-5192-4460-92a1-cf5fc78f7b32\",\"type\":\"BasicTicker\"}},\"id\":\"6bda3f4f-a0eb-4924-91c2-2d16378d1ddc\",\"type\":\"LinearAxis\"},{\"attributes\":{},\"id\":\"44dff695-f81a-463d-ab64-487230774d25\",\"type\":\"LogScale\"},{\"attributes\":{},\"id\":\"739a9586-2309-494e-8b02-953035a6a3df\",\"type\":\"HelpTool\"},{\"attributes\":{},\"id\":\"03a3e246-f777-4e5d-8563-72fe0a48e3cd\",\"type\":\"LinearScale\"},{\"attributes\":{\"data_source\":{\"id\":\"ae0bd40a-8d7e-4049-bfae-b163214a60c3\",\"type\":\"ColumnDataSource\"},\"glyph\":{\"id\":\"57b7926c-0caf-4ab8-9f4b-5f23651e0758\",\"type\":\"Circle\"},\"hover_glyph\":null,\"muted_glyph\":null,\"nonselection_glyph\":{\"id\":\"c901a4bc-48f7-4802-b1fa-0d6650b56a07\",\"type\":\"Circle\"},\"selection_glyph\":null,\"view\":{\"id\":\"6a43bcd3-bc70-4852-8c06-bd5c89af7c95\",\"type\":\"CDSView\"}},\"id\":\"aa694663-775e-4068-ba35-2080527c8b5f\",\"type\":\"GlyphRenderer\"},{\"attributes\":{\"source\":{\"id\":\"18d6229d-7c90-4585-a421-220d0bed5415\",\"type\":\"ColumnDataSource\"}},\"id\":\"fdd98ecd-4214-4079-bf27-ee5c465b24a4\",\"type\":\"CDSView\"},{\"attributes\":{},\"id\":\"7a075fbb-db03-4d81-9960-f507b60c0cce\",\"type\":\"WheelZoomTool\"},{\"attributes\":{\"data_source\":{\"id\":\"18d6229d-7c90-4585-a421-220d0bed5415\",\"type\":\"ColumnDataSource\"},\"glyph\":{\"id\":\"1f62cea3-88e9-4f90-89bc-fba6635b6921\",\"type\":\"Line\"},\"hover_glyph\":null,\"muted_glyph\":null,\"nonselection_glyph\":{\"id\":\"475754d8-429c-4d60-b5ea-f4a34b818da9\",\"type\":\"Line\"},\"selection_glyph\":null,\"view\":{\"id\":\"fdd98ecd-4214-4079-bf27-ee5c465b24a4\",\"type\":\"CDSView\"}},\"id\":\"7ab3b210-d5ce-4621-9393-a78dac2f7b4c\",\"type\":\"GlyphRenderer\"},{\"attributes\":{\"callback\":null,\"column_names\":[\"x\",\"y\"],\"data\":{\"x\":{\"__ndarray__\":\"QNhrct9H1T+20QhPS2DVPwXHI8AC+9U/TJ8E07yl1j+B4hEm1jPXP8uiTWHnntc/ZehUCYHi1z+utgfGZuzXPwnVtCg/q9c/RhvTVbIK1z8JpAbLv/PVP0Op3pafRtQ/FfVRX/ng0T84QeWpWEbNP8/FtnfTTsg/WQZqayOiyj/LmwXSrMnQP+UJCNYGYdM/UMeEFBOG1T+HWg1obcPYP2a0Xbqs9t4/PMInpbn45D8BaBhnoTfrP5E9CCIHXOs/n3hK3msu5j9nTF7wq2rhPzmc+dUcoNs/uxh3QUwb1j89H/Ft8sLRP1oxGgEuK8w/4m73D3VhxT9wi0NHvIa+P4zbAB36L7Y/C1kaTlLGsT/badMnpd+sP/N6salTG6Y/ERQFG1OHoT8SVFW0rtucP5f1lRnM5ZA/TC3d2eV/cD8K1+tq7gB9P+CxckTLdZ0/T6oxrNgbrD+H48YbAyy1P4Z7n4k0Grw/1hTxa140wD+k3GTx7grCP+OwC3Fy4MM/SphI7W6zxT+cnGcNWp/HP5tYng/or8k/cLJP+FOAyz8nfpQqtCDNP9a0xRQwqs4/hwhqvmsM0D/tV2xZ37zQP1kmkbc7b9E/7sbMT7up0j8NLfwqCsXTP5HeJpKemNQ/8ezZEG8f1T8zPA9R+VXVP7hxrAejRNU/x4bqvWP+1D+b37QJxZDUPxoZYPYdCdQ/FT1s+bNl0z+CxBs+jovSPxSFK9r7WNE/euv0ah2ozz9tuch3CGfMP3aLXS4kWMk/WyU3DuXZxj8PMAy7nFDFP0Di9IEmusc/\",\"dtype\":\"float64\",\"shape\":[75]},\"y\":{\"__ndarray__\":\"GhExyth1ND/Sv8nbtpRIP2vylNV0PVE/aTum7souWD/At0SJ8fVgPw3Iuahxymc/MSNhhJWvcD/bTfBN02d3P2zb5nxnaoA/CD5h5MAGhz8NmeH1TyaQP+zrCsc9p5Y/LbKd76fGnz/bLW5ISEmmPww9YvTcQq8/JV2OstnstT8Er5Y7M8G+P0c+r3jqkcU/5h99k6ZBzj88bCIzFzjVP4enV8oyxN0//yH99nXg5D8qOpLLf0jtP5kqGJXUifQ/c9cS8kHP/D+/DpwzojQEQIEmwoanVwxA4lgXt9HgE0BSSZ2AJuIbQAMJih9jjiNA5q4l5INuK0AwTKYKRj0zQNv5fmq8/DpAaCJseHrtQkB/+zpwzoxKQM3MzMzMeFJAZmZmZmZqWEAAAAAAAFxeQM3MzMzMJmJAmpmZmZkfZUBmZmZmZhhoQDMzMzMzEWtAAAAAAAAKbkBmZmZmZoFwQM3MzMzM/XFAMzMzMzN6c0CamZmZmfZ0QAAAAAAAc3ZAZmZmZmbvd0DNzMzMzGt5QDMzMzMz6HpAmpmZmZlkfEAAAAAAAOF9QGZmZmZmXX9AZmZmZuZsgECamZmZGSuBQM3MzMxM6YFAAAAAAICngkAzMzMzs2WDQGZmZmbmI4RAmpmZmRnihEDNzMzMTKCFQAAAAACAXoZAMzMzM7Mch0BmZmZm5tqHQJqZmZkZmYhAzczMzExXiUAAAAAAgBWKQDMzMzOz04pAZmZmZuaRi0CamZmZGVCMQM3MzMxMDo1AAAAAAIDMjUAzMzMzs4qOQGZmZmbmSI9A\",\"dtype\":\"float64\",\"shape\":[75]}}},\"id\":\"29ed86b1-9413-481c-9fa6-d71ada691ae5\",\"type\":\"ColumnDataSource\"},{\"attributes\":{\"active_drag\":\"auto\",\"active_inspect\":\"auto\",\"active_scroll\":\"auto\",\"active_tap\":\"auto\",\"tools\":[{\"id\":\"70f20555-7811-470f-9533-07e812252185\",\"type\":\"PanTool\"},{\"id\":\"7a075fbb-db03-4d81-9960-f507b60c0cce\",\"type\":\"WheelZoomTool\"},{\"id\":\"5f31eab4-3a15-4ca5-a09c-913c4767d807\",\"type\":\"BoxZoomTool\"},{\"id\":\"455dfc75-5fe5-42fc-8814-20629e4968fa\",\"type\":\"SaveTool\"},{\"id\":\"c0b31b4f-ca2f-426c-8711-b716c485e8e8\",\"type\":\"ResetTool\"},{\"id\":\"739a9586-2309-494e-8b02-953035a6a3df\",\"type\":\"HelpTool\"}]},\"id\":\"74a3898e-4a0c-4afb-b394-9ead0e078a56\",\"type\":\"Toolbar\"},{\"attributes\":{\"line_alpha\":0.6,\"line_color\":\"#e41a1c\",\"line_dash\":[6],\"line_width\":5,\"x\":{\"field\":\"x\"},\"y\":{\"field\":\"y\"}},\"id\":\"8b07acb3-5e58-4801-b0ab-fcd5a2dd853f\",\"type\":\"Line\"},{\"attributes\":{\"fill_alpha\":{\"value\":0.1},\"fill_color\":{\"value\":\"#1f77b4\"},\"line_alpha\":{\"value\":0.1},\"line_color\":{\"value\":\"#1f77b4\"},\"x\":{\"field\":\"x\"},\"y\":{\"field\":\"y\"}},\"id\":\"893a3e20-a847-46ba-9e32-0d8ed039a5e4\",\"type\":\"Square\"},{\"attributes\":{\"source\":{\"id\":\"a2fee7bc-b1cd-4ad1-8c33-03ee3b2ad838\",\"type\":\"ColumnDataSource\"}},\"id\":\"2dee9ad4-ae4f-4c11-b8a4-90d134ee3de7\",\"type\":\"CDSView\"},{\"attributes\":{},\"id\":\"455dfc75-5fe5-42fc-8814-20629e4968fa\",\"type\":\"SaveTool\"},{\"attributes\":{\"axis_label\":\"cooling rate [K/day]\",\"formatter\":{\"id\":\"2bd33530-feed-4a93-8895-a8fa4045001b\",\"type\":\"BasicTickFormatter\"},\"plot\":{\"id\":\"0964c5a4-dc21-46e3-9752-1caefde4052e\",\"subtype\":\"Figure\",\"type\":\"Plot\"},\"ticker\":{\"id\":\"82ef7de8-7da1-4b81-8652-eddbaa04ca35\",\"type\":\"BasicTicker\"}},\"id\":\"72589d3a-60d7-4906-9e31-3c20336eb3b2\",\"type\":\"LinearAxis\"},{\"attributes\":{\"num_minor_ticks\":10},\"id\":\"3fcd87ec-a807-4cf7-aff6-3ff2643186c8\",\"type\":\"LogTicker\"},{\"attributes\":{\"line_alpha\":0.6,\"line_color\":\"#e41a1c\",\"line_dash\":[6],\"line_width\":5,\"x\":{\"field\":\"x\"},\"y\":{\"field\":\"y\"}},\"id\":\"3337621b-a473-4221-adf4-784014efc0ff\",\"type\":\"Line\"},{\"attributes\":{\"callback\":null,\"column_names\":[\"x\",\"y\"],\"data\":{\"x\":{\"__ndarray__\":\"nluNkZGY2j/OtJKQJ03aP1/olduL4to/IL9tXLVh2z9FeKSPM6zbP2ckhD+qvts/Z3lg+G972z9XI/3uBNjaP+yhv8iyvdk/wlpK0D4a2D8NObaeIdzVPx0YSGmZ+dI/Hcua3BjQzj90gi7IMzvGP7mr9GYWmb8/doig5rvGwT8VdjDm16TJP8Xi3MsiudA/f4XMlUE11T+070BTZQ7bP0PHUEZDg+E/dazWskpj5z88gIeaz7btPxTAICvwPO0/Jtmwx8AR5z+xu+WPDnThP2H7yRgfJto/9R+I4kSq0z945Juvip7OP7XcPlATosg/jldiliRswz9v9gfKbfu8P5av/uFE+rU/KtJdD6+2sT/rIBykwRyrP+Oji245bqI/Wj8AIFw+mj/0E+98FraUP5Bx8EWurYU/rwGTW+tDNT9oQ/10HDRxP32rLAy8U5o/AaEH1CGLqj8YKRUGxYy0P6Ja6Vog5rs/1QRR9wFIwD+WBfJwK1LCP9NP9p7jhsQ/MS5N+ELUxj/GHhRzlCzJP5zJL2qUgcs/UsDR6dRwzT9jey3ovTHPP6xnMUZeddA/O4PQiyRL0T93taLufxfSP01URo4629I/EbZMRMcn1D+SeQUe70DVP7Z0NxXK/tU/FY7/hnlk1j9ZNs4B3XLWP1fBudCmNNY/CQg5MRy21T9qki/TvATVP7uB4eD7MNQ/J1Y+slZA0z92DWVu3x/SP4BWqlUFtNA/2KCKdnALzj8eohM6lpTKP2wTm01Pccc/kaC2FRTpxD+w7HpQ7V/DP///5mJf9MU/\",\"dtype\":\"float64\",\"shape\":[75]},\"y\":{\"__ndarray__\":\"GhExyth1ND/Sv8nbtpRIP2vylNV0PVE/aTum7souWD/At0SJ8fVgPw3Iuahxymc/MSNhhJWvcD/bTfBN02d3P2zb5nxnaoA/CD5h5MAGhz8NmeH1TyaQP+zrCsc9p5Y/LbKd76fGnz/bLW5ISEmmPww9YvTcQq8/JV2OstnstT8Er5Y7M8G+P0c+r3jqkcU/5h99k6ZBzj88bCIzFzjVP4enV8oyxN0//yH99nXg5D8qOpLLf0jtP5kqGJXUifQ/c9cS8kHP/D+/DpwzojQEQIEmwoanVwxA4lgXt9HgE0BSSZ2AJuIbQAMJih9jjiNA5q4l5INuK0AwTKYKRj0zQNv5fmq8/DpAaCJseHrtQkB/+zpwzoxKQM3MzMzMeFJAZmZmZmZqWEAAAAAAAFxeQM3MzMzMJmJAmpmZmZkfZUBmZmZmZhhoQDMzMzMzEWtAAAAAAAAKbkBmZmZmZoFwQM3MzMzM/XFAMzMzMzN6c0CamZmZmfZ0QAAAAAAAc3ZAZmZmZmbvd0DNzMzMzGt5QDMzMzMz6HpAmpmZmZlkfEAAAAAAAOF9QGZmZmZmXX9AZmZmZuZsgECamZmZGSuBQM3MzMxM6YFAAAAAAICngkAzMzMzs2WDQGZmZmbmI4RAmpmZmRnihEDNzMzMTKCFQAAAAACAXoZAMzMzM7Mch0BmZmZm5tqHQJqZmZkZmYhAzczMzExXiUAAAAAAgBWKQDMzMzOz04pAZmZmZuaRi0CamZmZGVCMQM3MzMxMDo1AAAAAAIDMjUAzMzMzs4qOQGZmZmbmSI9A\",\"dtype\":\"float64\",\"shape\":[75]}}},\"id\":\"ae0bd40a-8d7e-4049-bfae-b163214a60c3\",\"type\":\"ColumnDataSource\"},{\"attributes\":{\"line_alpha\":0.6,\"line_color\":\"#984ea3\",\"line_width\":3,\"x\":{\"field\":\"x\"},\"y\":{\"field\":\"y\"}},\"id\":\"1f62cea3-88e9-4f90-89bc-fba6635b6921\",\"type\":\"Line\"}],\"root_ids\":[\"60ad9ea5-8aed-4768-88ae-883f8a9263ba\"]},\"title\":\"Bokeh Application\",\"version\":\"0.12.14\"}};\n",
       "  var render_items = [{\"docid\":\"5a21cbf2-d7f1-43a2-a803-84730fccfe40\",\"elementid\":\"6fc6be93-1871-4dd7-9974-58c940759dff\",\"modelid\":\"60ad9ea5-8aed-4768-88ae-883f8a9263ba\"}];\n",
       "  root.Bokeh.embed.embed_items_notebook(docs_json, render_items);\n",
       "\n",
       "  }\n",
       "  if (root.Bokeh !== undefined) {\n",
       "    embed_document(root);\n",
       "  } else {\n",
       "    var attempts = 0;\n",
       "    var timer = setInterval(function(root) {\n",
       "      if (root.Bokeh !== undefined) {\n",
       "        embed_document(root);\n",
       "        clearInterval(timer);\n",
       "      }\n",
       "      attempts++;\n",
       "      if (attempts > 100) {\n",
       "        console.log(\"Bokeh: ERROR: Unable to run BokehJS code because BokehJS library is missing\")\n",
       "        clearInterval(timer);\n",
       "      }\n",
       "    }, 10, root)\n",
       "  }\n",
       "})(window);"
      ],
      "application/vnd.bokehjs_exec.v0+json": ""
     },
     "metadata": {
      "application/vnd.bokehjs_exec.v0+json": {
       "id": "60ad9ea5-8aed-4768-88ae-883f8a9263ba"
      }
     },
     "output_type": "display_data"
    },
    {
     "name": "stdout",
     "output_type": "stream",
     "text": [
      "FIGURE. Cooling rate profiles.\n"
     ]
    },
    {
     "data": {
      "text/html": [
       "<a id=\"Flux_Comparison\"></a>"
      ],
      "text/plain": [
       "<IPython.core.display.HTML object>"
      ]
     },
     "metadata": {},
     "output_type": "display_data"
    },
    {
     "data": {
      "text/markdown": [
       "# Flux Comparison"
      ],
      "text/plain": [
       "<IPython.core.display.Markdown object>"
      ]
     },
     "metadata": {},
     "output_type": "display_data"
    },
    {
     "data": {
      "text/html": [
       "<div>\n",
       "<style>\n",
       "    .dataframe thead tr:only-child th {\n",
       "        text-align: right;\n",
       "    }\n",
       "\n",
       "    .dataframe thead th {\n",
       "        text-align: left;\n",
       "    }\n",
       "\n",
       "    .dataframe tbody tr th {\n",
       "        vertical-align: top;\n",
       "    }\n",
       "</style>\n",
       "<table border=\"1\" class=\"dataframe\">\n",
       "  <thead>\n",
       "    <tr style=\"text-align: right;\">\n",
       "      <th></th>\n",
       "      <th></th>\n",
       "      <th>flug</th>\n",
       "      <th>fldg</th>\n",
       "      <th>fnetg</th>\n",
       "    </tr>\n",
       "    <tr>\n",
       "      <th>pressure</th>\n",
       "      <th>level</th>\n",
       "      <th></th>\n",
       "      <th></th>\n",
       "      <th></th>\n",
       "    </tr>\n",
       "  </thead>\n",
       "  <tbody>\n",
       "    <tr>\n",
       "      <th>0.0000</th>\n",
       "      <th>1</th>\n",
       "      <td>-24.998405</td>\n",
       "      <td>0.000000</td>\n",
       "      <td>-24.998405</td>\n",
       "    </tr>\n",
       "    <tr>\n",
       "      <th>1.0685</th>\n",
       "      <th>24</th>\n",
       "      <td>-25.001253</td>\n",
       "      <td>0.074163</td>\n",
       "      <td>-24.927090</td>\n",
       "    </tr>\n",
       "    <tr>\n",
       "      <th>1013.0000</th>\n",
       "      <th>76</th>\n",
       "      <td>-36.235408</td>\n",
       "      <td>34.200482</td>\n",
       "      <td>-2.034926</td>\n",
       "    </tr>\n",
       "  </tbody>\n",
       "</table>\n",
       "</div>"
      ],
      "text/plain": [
       "                      flug       fldg      fnetg\n",
       "pressure  level                                 \n",
       "0.0000    1     -24.998405   0.000000 -24.998405\n",
       "1.0685    24    -25.001253   0.074163 -24.927090\n",
       "1013.0000 76    -36.235408  34.200482  -2.034926"
      ]
     },
     "metadata": {},
     "output_type": "display_data"
    },
    {
     "name": "stdout",
     "output_type": "stream",
     "text": [
      "Table. Fluxes. WGT igg=10 wgt_flux=1\n"
     ]
    },
    {
     "data": {
      "text/html": [
       "<div>\n",
       "<style>\n",
       "    .dataframe thead tr:only-child th {\n",
       "        text-align: right;\n",
       "    }\n",
       "\n",
       "    .dataframe thead th {\n",
       "        text-align: left;\n",
       "    }\n",
       "\n",
       "    .dataframe tbody tr th {\n",
       "        vertical-align: top;\n",
       "    }\n",
       "</style>\n",
       "<table border=\"1\" class=\"dataframe\">\n",
       "  <thead>\n",
       "    <tr style=\"text-align: right;\">\n",
       "      <th></th>\n",
       "      <th></th>\n",
       "      <th>flug</th>\n",
       "      <th>fldg</th>\n",
       "      <th>fnetg</th>\n",
       "    </tr>\n",
       "    <tr>\n",
       "      <th>pressure</th>\n",
       "      <th>level</th>\n",
       "      <th></th>\n",
       "      <th></th>\n",
       "      <th></th>\n",
       "    </tr>\n",
       "  </thead>\n",
       "  <tbody>\n",
       "    <tr>\n",
       "      <th>0.0000</th>\n",
       "      <th>1</th>\n",
       "      <td>-24.876840</td>\n",
       "      <td>0.000000</td>\n",
       "      <td>-24.876840</td>\n",
       "    </tr>\n",
       "    <tr>\n",
       "      <th>1.0685</th>\n",
       "      <th>24</th>\n",
       "      <td>-24.880528</td>\n",
       "      <td>0.080327</td>\n",
       "      <td>-24.800201</td>\n",
       "    </tr>\n",
       "    <tr>\n",
       "      <th>1013.0000</th>\n",
       "      <th>76</th>\n",
       "      <td>-36.235408</td>\n",
       "      <td>34.688214</td>\n",
       "      <td>-1.547194</td>\n",
       "    </tr>\n",
       "  </tbody>\n",
       "</table>\n",
       "</div>"
      ],
      "text/plain": [
       "                      flug       fldg      fnetg\n",
       "pressure  level                                 \n",
       "0.0000    1     -24.876840   0.000000 -24.876840\n",
       "1.0685    24    -24.880528   0.080327 -24.800201\n",
       "1013.0000 76    -36.235408  34.688214  -1.547194"
      ]
     },
     "metadata": {},
     "output_type": "display_data"
    },
    {
     "name": "stdout",
     "output_type": "stream",
     "text": [
      "Table. Fluxes. CRD\n"
     ]
    },
    {
     "data": {
      "text/html": [
       "<div>\n",
       "<style>\n",
       "    .dataframe thead tr:only-child th {\n",
       "        text-align: right;\n",
       "    }\n",
       "\n",
       "    .dataframe thead th {\n",
       "        text-align: left;\n",
       "    }\n",
       "\n",
       "    .dataframe tbody tr th {\n",
       "        vertical-align: top;\n",
       "    }\n",
       "</style>\n",
       "<table border=\"1\" class=\"dataframe\">\n",
       "  <thead>\n",
       "    <tr style=\"text-align: right;\">\n",
       "      <th></th>\n",
       "      <th></th>\n",
       "      <th>flug</th>\n",
       "      <th>fldg</th>\n",
       "      <th>fnetg</th>\n",
       "    </tr>\n",
       "    <tr>\n",
       "      <th>pressure</th>\n",
       "      <th>level</th>\n",
       "      <th></th>\n",
       "      <th></th>\n",
       "      <th></th>\n",
       "    </tr>\n",
       "  </thead>\n",
       "  <tbody>\n",
       "    <tr>\n",
       "      <th>1.000000e-08</th>\n",
       "      <th>1</th>\n",
       "      <td>-25.174475</td>\n",
       "      <td>0.000002</td>\n",
       "      <td>-25.174473</td>\n",
       "    </tr>\n",
       "    <tr>\n",
       "      <th>1.068500e+00</th>\n",
       "      <th>24</th>\n",
       "      <td>-25.176500</td>\n",
       "      <td>0.070558</td>\n",
       "      <td>-25.105942</td>\n",
       "    </tr>\n",
       "    <tr>\n",
       "      <th>1.013000e+03</th>\n",
       "      <th>76</th>\n",
       "      <td>-36.235409</td>\n",
       "      <td>34.392635</td>\n",
       "      <td>-1.842773</td>\n",
       "    </tr>\n",
       "  </tbody>\n",
       "</table>\n",
       "</div>"
      ],
      "text/plain": [
       "                         flug       fldg      fnetg\n",
       "pressure     level                                 \n",
       "1.000000e-08 1     -25.174475   0.000002 -25.174473\n",
       "1.068500e+00 24    -25.176500   0.070558 -25.105942\n",
       "1.013000e+03 76    -36.235409  34.392635  -1.842773"
      ]
     },
     "metadata": {},
     "output_type": "display_data"
    },
    {
     "name": "stdout",
     "output_type": "stream",
     "text": [
      "Table. Fluxes. CLIRAD\n"
     ]
    },
    {
     "data": {
      "text/html": [
       "<div>\n",
       "<style>\n",
       "    .dataframe thead tr:only-child th {\n",
       "        text-align: right;\n",
       "    }\n",
       "\n",
       "    .dataframe thead th {\n",
       "        text-align: left;\n",
       "    }\n",
       "\n",
       "    .dataframe tbody tr th {\n",
       "        vertical-align: top;\n",
       "    }\n",
       "</style>\n",
       "<table border=\"1\" class=\"dataframe\">\n",
       "  <thead>\n",
       "    <tr style=\"text-align: right;\">\n",
       "      <th></th>\n",
       "      <th></th>\n",
       "      <th>flug</th>\n",
       "      <th>fldg</th>\n",
       "      <th>fnetg</th>\n",
       "    </tr>\n",
       "    <tr>\n",
       "      <th>pressure</th>\n",
       "      <th>level</th>\n",
       "      <th></th>\n",
       "      <th></th>\n",
       "      <th></th>\n",
       "    </tr>\n",
       "  </thead>\n",
       "  <tbody>\n",
       "    <tr>\n",
       "      <th>0.0000</th>\n",
       "      <th>1</th>\n",
       "      <td>0.121565</td>\n",
       "      <td>0.000000</td>\n",
       "      <td>0.121565</td>\n",
       "    </tr>\n",
       "    <tr>\n",
       "      <th>1.0685</th>\n",
       "      <th>24</th>\n",
       "      <td>0.120725</td>\n",
       "      <td>0.006164</td>\n",
       "      <td>0.126889</td>\n",
       "    </tr>\n",
       "    <tr>\n",
       "      <th>1013.0000</th>\n",
       "      <th>76</th>\n",
       "      <td>0.000000</td>\n",
       "      <td>0.487732</td>\n",
       "      <td>0.487732</td>\n",
       "    </tr>\n",
       "  </tbody>\n",
       "</table>\n",
       "</div>"
      ],
      "text/plain": [
       "                     flug      fldg     fnetg\n",
       "pressure  level                              \n",
       "0.0000    1      0.121565  0.000000  0.121565\n",
       "1.0685    24     0.120725  0.006164  0.126889\n",
       "1013.0000 76     0.000000  0.487732  0.487732"
      ]
     },
     "metadata": {},
     "output_type": "display_data"
    },
    {
     "name": "stdout",
     "output_type": "stream",
     "text": [
      "Table. Fluxes. (CRD) - (WGT igg=10 wgt_flux=1)\n"
     ]
    },
    {
     "data": {
      "text/html": [
       "<div>\n",
       "<style>\n",
       "    .dataframe thead tr:only-child th {\n",
       "        text-align: right;\n",
       "    }\n",
       "\n",
       "    .dataframe thead th {\n",
       "        text-align: left;\n",
       "    }\n",
       "\n",
       "    .dataframe tbody tr th {\n",
       "        vertical-align: top;\n",
       "    }\n",
       "</style>\n",
       "<table border=\"1\" class=\"dataframe\">\n",
       "  <thead>\n",
       "    <tr style=\"text-align: right;\">\n",
       "      <th></th>\n",
       "      <th></th>\n",
       "      <th>flug</th>\n",
       "      <th>fldg</th>\n",
       "      <th>fnetg</th>\n",
       "    </tr>\n",
       "    <tr>\n",
       "      <th>pressure</th>\n",
       "      <th>level</th>\n",
       "      <th></th>\n",
       "      <th></th>\n",
       "      <th></th>\n",
       "    </tr>\n",
       "  </thead>\n",
       "  <tbody>\n",
       "    <tr>\n",
       "      <th>0.0000</th>\n",
       "      <th>1</th>\n",
       "      <td>-0.176070</td>\n",
       "      <td>0.000002</td>\n",
       "      <td>-0.176068</td>\n",
       "    </tr>\n",
       "    <tr>\n",
       "      <th>1.0685</th>\n",
       "      <th>24</th>\n",
       "      <td>-0.175247</td>\n",
       "      <td>-0.003605</td>\n",
       "      <td>-0.178852</td>\n",
       "    </tr>\n",
       "    <tr>\n",
       "      <th>1013.0000</th>\n",
       "      <th>76</th>\n",
       "      <td>-0.000001</td>\n",
       "      <td>0.192153</td>\n",
       "      <td>0.192152</td>\n",
       "    </tr>\n",
       "  </tbody>\n",
       "</table>\n",
       "</div>"
      ],
      "text/plain": [
       "                     flug      fldg     fnetg\n",
       "pressure  level                              \n",
       "0.0000    1     -0.176070  0.000002 -0.176068\n",
       "1.0685    24    -0.175247 -0.003605 -0.178852\n",
       "1013.0000 76    -0.000001  0.192153  0.192152"
      ]
     },
     "metadata": {},
     "output_type": "display_data"
    },
    {
     "name": "stdout",
     "output_type": "stream",
     "text": [
      "Table. Fluxes. (CLIRAD) - (WGT igg=10 wgt_flux=1)\n"
     ]
    },
    {
     "data": {
      "text/html": [
       "<a id=\"Best-fit_Parameters\"></a>"
      ],
      "text/plain": [
       "<IPython.core.display.HTML object>"
      ]
     },
     "metadata": {},
     "output_type": "display_data"
    },
    {
     "data": {
      "text/markdown": [
       "# Best-fit Parameters"
      ],
      "text/plain": [
       "<IPython.core.display.Markdown object>"
      ]
     },
     "metadata": {},
     "output_type": "display_data"
    },
    {
     "name": "stdout",
     "output_type": "stream",
     "text": [
      "Best-fit values for each (gas, band)\n",
      "------------------------------------\n",
      "o co2 band3a\n",
      "  atmpro = mls\n",
      "  band = 3a\n",
      "  commitnumber = 2bd1f75\n",
      "  conc = 0.0004\n",
      "  dv = 0.01\n",
      "  klin = 6.375563e-24\n",
      "  molecule = co2\n",
      "  ng_adju = [0, 0, 0]\n",
      "  ng_refs = [3, 2, 4]\n",
      "  nv = 100\n",
      "  option_compute_btable = 0\n",
      "  option_compute_ktable = 1\n",
      "  option_wgt_flux = 1\n",
      "  option_wgt_k = 1\n",
      "  ref_pts = [(1, 250), (10, 250), (500, 250)]\n",
      "  tsfc = 294\n",
      "  vmax = 620\n",
      "  vmin = 540\n",
      "  w_diffuse = [(1.6, 1.6, 1.7), (1.75, 1.75), (1.55, 1.55, 1.6, 1.85)]\n",
      "  wgt = [(0.7, 0.3, 0.7), (0.7, 0.6), (0.4, 0.5, 0.8, 0.95)]\n",
      "o h2o band3a\n",
      "  atmpro = mls\n",
      "  band = 3a\n",
      "  commitnumber = 2bd1f75\n",
      "  conc = None\n",
      "  dv = 0.01\n",
      "  klin = 0\n",
      "  molecule = h2o\n",
      "  ng_adju = [0, 0]\n",
      "  ng_refs = [2, 6]\n",
      "  nv = 100\n",
      "  option_compute_btable = 0\n",
      "  option_compute_ktable = 1\n",
      "  option_wgt_flux = 1\n",
      "  option_wgt_k = 1\n",
      "  ref_pts = [(10, 250), (600, 250)]\n",
      "  tsfc = 294\n",
      "  vmax = 620\n",
      "  vmin = 540\n",
      "  w_diffuse = [(1.9, 1.7), (1.4, 1.4, 1.4, 1.55, 1.6, 1.66)]\n",
      "  wgt = [(0.7, 0.7), (0.7, 0.5, 0.5, 0.5, 0.5, 0.5)]\n",
      "o n2o band3a\n",
      "  atmpro = mls\n",
      "  band = 3a\n",
      "  commitnumber = 2bd1f75\n",
      "  conc = 3.2e-07\n",
      "  dv = 0.01\n",
      "  klin = 2.22e-20\n",
      "  molecule = n2o\n",
      "  ng_adju = [0, 0]\n",
      "  ng_refs = [1, 2]\n",
      "  nv = 100\n",
      "  option_compute_btable = 0\n",
      "  option_compute_ktable = 1\n",
      "  option_wgt_flux = 1\n",
      "  option_wgt_k = 1\n",
      "  ref_pts = [(1, 250), (500, 250)]\n",
      "  tsfc = 294\n",
      "  vmax = 620\n",
      "  vmin = 540\n",
      "  w_diffuse = [(1.8,), (1.66, 1.8)]\n",
      "  wgt = [(0.9,), (0.5, 0.95)]\n"
     ]
    }
   ],
   "source": [
    "script()"
   ]
  },
  {
   "cell_type": "code",
   "execution_count": 13,
   "metadata": {
    "collapsed": true
   },
   "outputs": [
    {
     "data": {
      "text/html": [
       "<script>\n",
       "code_show=true; \n",
       "function code_toggle() {\n",
       " if (code_show){\n",
       " $('div.input').hide();\n",
       " } else {\n",
       " $('div.input').show();\n",
       " }\n",
       " code_show = !code_show\n",
       "} \n",
       "$( document ).ready(code_toggle);\n",
       "</script>\n",
       "<form action=\"javascript:code_toggle()\"><input type=\"submit\" value=\"Click here to toggle on/off the raw code.\"></form>"
      ],
      "text/plain": [
       "<IPython.core.display.HTML object>"
      ]
     },
     "execution_count": 13,
     "metadata": {},
     "output_type": "execute_result"
    }
   ],
   "source": [
    "display.HTML('''<script>\n",
    "code_show=true; \n",
    "function code_toggle() {\n",
    " if (code_show){\n",
    " $('div.input').hide();\n",
    " } else {\n",
    " $('div.input').show();\n",
    " }\n",
    " code_show = !code_show\n",
    "} \n",
    "$( document ).ready(code_toggle);\n",
    "</script>\n",
    "<form action=\"javascript:code_toggle()\"><input type=\"submit\" value=\"Click here to toggle on/off the raw code.\"></form>''')"
   ]
  }
 ],
 "metadata": {
  "kernelspec": {
   "display_name": "Python 3",
   "language": "python",
   "name": "python3"
  },
  "language_info": {
   "codemirror_mode": {
    "name": "ipython",
    "version": 3
   },
   "file_extension": ".py",
   "mimetype": "text/x-python",
   "name": "python",
   "nbconvert_exporter": "python",
   "pygments_lexer": "ipython3",
   "version": "3.6.1"
  }
 },
 "nbformat": 4,
 "nbformat_minor": 2
}
