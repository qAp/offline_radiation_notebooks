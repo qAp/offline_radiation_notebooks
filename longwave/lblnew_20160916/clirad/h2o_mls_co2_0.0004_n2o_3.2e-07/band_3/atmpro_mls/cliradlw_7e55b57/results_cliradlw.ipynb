{
 "cells": [
  {
   "cell_type": "code",
   "execution_count": 1,
   "metadata": {
    "collapsed": true
   },
   "outputs": [],
   "source": [
    "%matplotlib inline\n",
    "import os\n",
    "import re\n",
    "import io\n",
    "import itertools\n",
    "import pprint\n",
    "\n",
    "from bokeh.io import output_notebook, show\n",
    "from bokeh.layouts import gridplot\n",
    "from bokeh.plotting import figure\n",
    "from bokeh.models import Range1d, Legend\n",
    "from bokeh.palettes import all_palettes\n",
    "\n",
    "import matplotlib\n",
    "import matplotlib.pyplot as plt\n",
    "import numpy as np\n",
    "import pandas as pd\n",
    "import xarray as xr\n",
    "\n",
    "import climatools.lblnew.bestfit_params as bestfits\n",
    "from climatools.lblnew import setup_bestfit, setup_overlap\n",
    "import climatools.lblnew.pipeline as pipe_lblnew\n",
    "import climatools.cliradlw.setup as setup_cliradlw\n",
    "import climatools.cliradlw.pipeline as pipe_cliradlw\n",
    "\n",
    "import climatools.html.html as climahtml\n",
    "from climatools.lblnew.dataio import *\n",
    "from climatools.plot.plot import *\n",
    "\n",
    "\n",
    "import IPython.display as display"
   ]
  },
  {
   "cell_type": "code",
   "execution_count": 2,
   "metadata": {
    "collapsed": true
   },
   "outputs": [],
   "source": [
    "%run param.py"
   ]
  },
  {
   "cell_type": "code",
   "execution_count": 3,
   "metadata": {
    "collapsed": true
   },
   "outputs": [],
   "source": [
    "def load_output_file(path_csv):\n",
    "    '''\n",
    "    Load lblnew output .csv file to xarray.Dataset\n",
    "    \n",
    "    Parameters\n",
    "    ----------\n",
    "    path_csv: str\n",
    "              Path to the .csv file to be loaded.\n",
    "    ds: xarray.Dataset\n",
    "        Data in the input file in the form of an xarray.Dataset.\n",
    "    '''\n",
    "    toindex = ['band', 'pressure', 'igg', 'g']    \n",
    "    df = pd.read_csv(path_csv, sep=r'\\s+')\n",
    "    df = df.set_index([i for i in toindex if i in df.columns])\n",
    "    df = df.rename(columns={'sfu': 'flug',\n",
    "                            'sfd': 'fldg',\n",
    "                            'fnet': 'fnetg',\n",
    "                            'coolr': 'coolrg'})\n",
    "    ds = xr.Dataset.from_dataframe(df)\n",
    "\n",
    "    for l in ('level', 'layer'):\n",
    "        if l in ds.data_vars:\n",
    "            if len(ds[l].dims) > 1:\n",
    "                surface = {d: 0 for d in ds.dims if d != 'pressure'}\n",
    "                coord_level = ds[l][surface]\n",
    "                ds.coords[l] = ('pressure', coord_level)\n",
    "            else:\n",
    "                ds.coords[l] = ('pressure', ds[l])\n",
    "    \n",
    "    return ds"
   ]
  },
  {
   "cell_type": "code",
   "execution_count": 4,
   "metadata": {
    "collapsed": true
   },
   "outputs": [],
   "source": [
    "def lblnew_setup(param=None):\n",
    "    if 'ng_refs' in param:\n",
    "        return {'setup': setup_bestfit,\n",
    "                'fname_flux_crd': 'output_flux.dat',\n",
    "                'fname_cool_crd': 'output_coolr.dat',\n",
    "                'fname_flux_wgt': 'output_wfluxg.dat',\n",
    "                'fname_cool_wgt': 'output_wcoolrg.dat'}\n",
    "    else:\n",
    "        return {'setup': setup_overlap,\n",
    "                'fname_flux_crd': 'output_flux.dat',\n",
    "                'fname_cool_crd': 'output_coolr.dat',\n",
    "                'fname_flux_wgt': 'output_wflux.dat',\n",
    "                'fname_cool_wgt': 'output_wcoolr.dat'}\n",
    "\n",
    "    \n",
    "def load_lblnew_data(param):\n",
    "    \n",
    "    fname_dsname = [('fname_flux_crd', 'ds_flux_crd'),\n",
    "                    ('fname_cool_crd', 'ds_cool_crd'),\n",
    "                    ('fname_flux_wgt', 'ds_flux_wgt'),\n",
    "                    ('fname_cool_wgt', 'ds_cool_wgt')]\n",
    "    \n",
    "    d = lblnew_setup(param)\n",
    "    dir_fortran = pipe_lblnew.get_dir_case(param, setup=d['setup'])\n",
    "    \n",
    "    data_dict = {}\n",
    "    for fname, dsname in fname_dsname:\n",
    "        fpath = os.path.join(dir_fortran, d[fname])\n",
    "        data_dict[dsname] = load_output_file(fpath)\n",
    "    return data_dict\n",
    "    \n",
    "\n",
    "    \n",
    "    "
   ]
  },
  {
   "cell_type": "code",
   "execution_count": 5,
   "metadata": {
    "collapsed": true
   },
   "outputs": [],
   "source": [
    "d = load_lblnew_data(PARAM_LBLNEW)\n",
    "\n",
    "DS_FLUX_CRD = d['ds_flux_crd']\n",
    "DS_COOL_CRD = d['ds_cool_crd']\n",
    "DS_FLUX_WGT = d['ds_flux_wgt']\n",
    "DS_COOL_WGT = d['ds_cool_wgt']"
   ]
  },
  {
   "cell_type": "code",
   "execution_count": 6,
   "metadata": {
    "collapsed": true
   },
   "outputs": [],
   "source": [
    "DIR_FORTRAN = pipe_cliradlw.get_fortran_dir(PARAM, \n",
    "                                            setup=setup_cliradlw)\n",
    "\n",
    "PATH_FLUX = os.path.join(DIR_FORTRAN, 'output_flux.dat')\n",
    "PATH_COOL = os.path.join(DIR_FORTRAN, 'output_coolr.dat')\n",
    "\n",
    "DS_FLUX = load_output_file(PATH_FLUX)\n",
    "DS_COOL = load_output_file(PATH_COOL)"
   ]
  },
  {
   "cell_type": "code",
   "execution_count": 7,
   "metadata": {
    "collapsed": true
   },
   "outputs": [
    {
     "data": {
      "text/html": [
       "\n",
       "    <div class=\"bk-root\">\n",
       "        <a href=\"https://bokeh.pydata.org\" target=\"_blank\" class=\"bk-logo bk-logo-small bk-logo-notebook\"></a>\n",
       "        <span id=\"ecfc0437-9186-489f-b8aa-ee0b693b0261\">Loading BokehJS ...</span>\n",
       "    </div>"
      ]
     },
     "metadata": {},
     "output_type": "display_data"
    },
    {
     "data": {
      "application/javascript": [
       "\n",
       "(function(root) {\n",
       "  function now() {\n",
       "    return new Date();\n",
       "  }\n",
       "\n",
       "  var force = true;\n",
       "\n",
       "  if (typeof (root._bokeh_onload_callbacks) === \"undefined\" || force === true) {\n",
       "    root._bokeh_onload_callbacks = [];\n",
       "    root._bokeh_is_loading = undefined;\n",
       "  }\n",
       "\n",
       "  var JS_MIME_TYPE = 'application/javascript';\n",
       "  var HTML_MIME_TYPE = 'text/html';\n",
       "  var EXEC_MIME_TYPE = 'application/vnd.bokehjs_exec.v0+json';\n",
       "  var CLASS_NAME = 'output_bokeh rendered_html';\n",
       "\n",
       "  /**\n",
       "   * Render data to the DOM node\n",
       "   */\n",
       "  function render(props, node) {\n",
       "    var script = document.createElement(\"script\");\n",
       "    node.appendChild(script);\n",
       "  }\n",
       "\n",
       "  /**\n",
       "   * Handle when an output is cleared or removed\n",
       "   */\n",
       "  function handleClearOutput(event, handle) {\n",
       "    var cell = handle.cell;\n",
       "\n",
       "    var id = cell.output_area._bokeh_element_id;\n",
       "    var server_id = cell.output_area._bokeh_server_id;\n",
       "    // Clean up Bokeh references\n",
       "    if (id !== undefined) {\n",
       "      Bokeh.index[id].model.document.clear();\n",
       "      delete Bokeh.index[id];\n",
       "    }\n",
       "\n",
       "    if (server_id !== undefined) {\n",
       "      // Clean up Bokeh references\n",
       "      var cmd = \"from bokeh.io.state import curstate; print(curstate().uuid_to_server['\" + server_id + \"'].get_sessions()[0].document.roots[0]._id)\";\n",
       "      cell.notebook.kernel.execute(cmd, {\n",
       "        iopub: {\n",
       "          output: function(msg) {\n",
       "            var element_id = msg.content.text.trim();\n",
       "            Bokeh.index[element_id].model.document.clear();\n",
       "            delete Bokeh.index[element_id];\n",
       "          }\n",
       "        }\n",
       "      });\n",
       "      // Destroy server and session\n",
       "      var cmd = \"import bokeh.io.notebook as ion; ion.destroy_server('\" + server_id + \"')\";\n",
       "      cell.notebook.kernel.execute(cmd);\n",
       "    }\n",
       "  }\n",
       "\n",
       "  /**\n",
       "   * Handle when a new output is added\n",
       "   */\n",
       "  function handleAddOutput(event, handle) {\n",
       "    var output_area = handle.output_area;\n",
       "    var output = handle.output;\n",
       "\n",
       "    // limit handleAddOutput to display_data with EXEC_MIME_TYPE content only\n",
       "    if ((output.output_type != \"display_data\") || (!output.data.hasOwnProperty(EXEC_MIME_TYPE))) {\n",
       "      return\n",
       "    }\n",
       "\n",
       "    var toinsert = output_area.element.find(\".\" + CLASS_NAME.split(' ')[0]);\n",
       "\n",
       "    if (output.metadata[EXEC_MIME_TYPE][\"id\"] !== undefined) {\n",
       "      toinsert[0].firstChild.textContent = output.data[JS_MIME_TYPE];\n",
       "      // store reference to embed id on output_area\n",
       "      output_area._bokeh_element_id = output.metadata[EXEC_MIME_TYPE][\"id\"];\n",
       "    }\n",
       "    if (output.metadata[EXEC_MIME_TYPE][\"server_id\"] !== undefined) {\n",
       "      var bk_div = document.createElement(\"div\");\n",
       "      bk_div.innerHTML = output.data[HTML_MIME_TYPE];\n",
       "      var script_attrs = bk_div.children[0].attributes;\n",
       "      for (var i = 0; i < script_attrs.length; i++) {\n",
       "        toinsert[0].firstChild.setAttribute(script_attrs[i].name, script_attrs[i].value);\n",
       "      }\n",
       "      // store reference to server id on output_area\n",
       "      output_area._bokeh_server_id = output.metadata[EXEC_MIME_TYPE][\"server_id\"];\n",
       "    }\n",
       "  }\n",
       "\n",
       "  function register_renderer(events, OutputArea) {\n",
       "\n",
       "    function append_mime(data, metadata, element) {\n",
       "      // create a DOM node to render to\n",
       "      var toinsert = this.create_output_subarea(\n",
       "        metadata,\n",
       "        CLASS_NAME,\n",
       "        EXEC_MIME_TYPE\n",
       "      );\n",
       "      this.keyboard_manager.register_events(toinsert);\n",
       "      // Render to node\n",
       "      var props = {data: data, metadata: metadata[EXEC_MIME_TYPE]};\n",
       "      render(props, toinsert[0]);\n",
       "      element.append(toinsert);\n",
       "      return toinsert\n",
       "    }\n",
       "\n",
       "    /* Handle when an output is cleared or removed */\n",
       "    events.on('clear_output.CodeCell', handleClearOutput);\n",
       "    events.on('delete.Cell', handleClearOutput);\n",
       "\n",
       "    /* Handle when a new output is added */\n",
       "    events.on('output_added.OutputArea', handleAddOutput);\n",
       "\n",
       "    /**\n",
       "     * Register the mime type and append_mime function with output_area\n",
       "     */\n",
       "    OutputArea.prototype.register_mime_type(EXEC_MIME_TYPE, append_mime, {\n",
       "      /* Is output safe? */\n",
       "      safe: true,\n",
       "      /* Index of renderer in `output_area.display_order` */\n",
       "      index: 0\n",
       "    });\n",
       "  }\n",
       "\n",
       "  // register the mime type if in Jupyter Notebook environment and previously unregistered\n",
       "  if (root.Jupyter !== undefined) {\n",
       "    var events = require('base/js/events');\n",
       "    var OutputArea = require('notebook/js/outputarea').OutputArea;\n",
       "\n",
       "    if (OutputArea.prototype.mime_types().indexOf(EXEC_MIME_TYPE) == -1) {\n",
       "      register_renderer(events, OutputArea);\n",
       "    }\n",
       "  }\n",
       "\n",
       "  \n",
       "  if (typeof (root._bokeh_timeout) === \"undefined\" || force === true) {\n",
       "    root._bokeh_timeout = Date.now() + 5000;\n",
       "    root._bokeh_failed_load = false;\n",
       "  }\n",
       "\n",
       "  var NB_LOAD_WARNING = {'data': {'text/html':\n",
       "     \"<div style='background-color: #fdd'>\\n\"+\n",
       "     \"<p>\\n\"+\n",
       "     \"BokehJS does not appear to have successfully loaded. If loading BokehJS from CDN, this \\n\"+\n",
       "     \"may be due to a slow or bad network connection. Possible fixes:\\n\"+\n",
       "     \"</p>\\n\"+\n",
       "     \"<ul>\\n\"+\n",
       "     \"<li>re-rerun `output_notebook()` to attempt to load from CDN again, or</li>\\n\"+\n",
       "     \"<li>use INLINE resources instead, as so:</li>\\n\"+\n",
       "     \"</ul>\\n\"+\n",
       "     \"<code>\\n\"+\n",
       "     \"from bokeh.resources import INLINE\\n\"+\n",
       "     \"output_notebook(resources=INLINE)\\n\"+\n",
       "     \"</code>\\n\"+\n",
       "     \"</div>\"}};\n",
       "\n",
       "  function display_loaded() {\n",
       "    var el = document.getElementById(\"ecfc0437-9186-489f-b8aa-ee0b693b0261\");\n",
       "    if (el != null) {\n",
       "      el.textContent = \"BokehJS is loading...\";\n",
       "    }\n",
       "    if (root.Bokeh !== undefined) {\n",
       "      if (el != null) {\n",
       "        el.textContent = \"BokehJS \" + root.Bokeh.version + \" successfully loaded.\";\n",
       "      }\n",
       "    } else if (Date.now() < root._bokeh_timeout) {\n",
       "      setTimeout(display_loaded, 100)\n",
       "    }\n",
       "  }\n",
       "\n",
       "\n",
       "  function run_callbacks() {\n",
       "    try {\n",
       "      root._bokeh_onload_callbacks.forEach(function(callback) { callback() });\n",
       "    }\n",
       "    finally {\n",
       "      delete root._bokeh_onload_callbacks\n",
       "    }\n",
       "    console.info(\"Bokeh: all callbacks have finished\");\n",
       "  }\n",
       "\n",
       "  function load_libs(js_urls, callback) {\n",
       "    root._bokeh_onload_callbacks.push(callback);\n",
       "    if (root._bokeh_is_loading > 0) {\n",
       "      console.log(\"Bokeh: BokehJS is being loaded, scheduling callback at\", now());\n",
       "      return null;\n",
       "    }\n",
       "    if (js_urls == null || js_urls.length === 0) {\n",
       "      run_callbacks();\n",
       "      return null;\n",
       "    }\n",
       "    console.log(\"Bokeh: BokehJS not loaded, scheduling load and callback at\", now());\n",
       "    root._bokeh_is_loading = js_urls.length;\n",
       "    for (var i = 0; i < js_urls.length; i++) {\n",
       "      var url = js_urls[i];\n",
       "      var s = document.createElement('script');\n",
       "      s.src = url;\n",
       "      s.async = false;\n",
       "      s.onreadystatechange = s.onload = function() {\n",
       "        root._bokeh_is_loading--;\n",
       "        if (root._bokeh_is_loading === 0) {\n",
       "          console.log(\"Bokeh: all BokehJS libraries loaded\");\n",
       "          run_callbacks()\n",
       "        }\n",
       "      };\n",
       "      s.onerror = function() {\n",
       "        console.warn(\"failed to load library \" + url);\n",
       "      };\n",
       "      console.log(\"Bokeh: injecting script tag for BokehJS library: \", url);\n",
       "      document.getElementsByTagName(\"head\")[0].appendChild(s);\n",
       "    }\n",
       "  };var element = document.getElementById(\"ecfc0437-9186-489f-b8aa-ee0b693b0261\");\n",
       "  if (element == null) {\n",
       "    console.log(\"Bokeh: ERROR: autoload.js configured with elementid 'ecfc0437-9186-489f-b8aa-ee0b693b0261' but no matching script tag was found. \")\n",
       "    return false;\n",
       "  }\n",
       "\n",
       "  var js_urls = [\"https://cdn.pydata.org/bokeh/release/bokeh-0.12.14.min.js\", \"https://cdn.pydata.org/bokeh/release/bokeh-widgets-0.12.14.min.js\", \"https://cdn.pydata.org/bokeh/release/bokeh-tables-0.12.14.min.js\", \"https://cdn.pydata.org/bokeh/release/bokeh-gl-0.12.14.min.js\"];\n",
       "\n",
       "  var inline_js = [\n",
       "    function(Bokeh) {\n",
       "      Bokeh.set_log_level(\"info\");\n",
       "    },\n",
       "    \n",
       "    function(Bokeh) {\n",
       "      \n",
       "    },\n",
       "    function(Bokeh) {\n",
       "      console.log(\"Bokeh: injecting CSS: https://cdn.pydata.org/bokeh/release/bokeh-0.12.14.min.css\");\n",
       "      Bokeh.embed.inject_css(\"https://cdn.pydata.org/bokeh/release/bokeh-0.12.14.min.css\");\n",
       "      console.log(\"Bokeh: injecting CSS: https://cdn.pydata.org/bokeh/release/bokeh-widgets-0.12.14.min.css\");\n",
       "      Bokeh.embed.inject_css(\"https://cdn.pydata.org/bokeh/release/bokeh-widgets-0.12.14.min.css\");\n",
       "      console.log(\"Bokeh: injecting CSS: https://cdn.pydata.org/bokeh/release/bokeh-tables-0.12.14.min.css\");\n",
       "      Bokeh.embed.inject_css(\"https://cdn.pydata.org/bokeh/release/bokeh-tables-0.12.14.min.css\");\n",
       "    }\n",
       "  ];\n",
       "\n",
       "  function run_inline_js() {\n",
       "    \n",
       "    if ((root.Bokeh !== undefined) || (force === true)) {\n",
       "      for (var i = 0; i < inline_js.length; i++) {\n",
       "        inline_js[i].call(root, root.Bokeh);\n",
       "      }if (force === true) {\n",
       "        display_loaded();\n",
       "      }} else if (Date.now() < root._bokeh_timeout) {\n",
       "      setTimeout(run_inline_js, 100);\n",
       "    } else if (!root._bokeh_failed_load) {\n",
       "      console.log(\"Bokeh: BokehJS failed to load within specified timeout.\");\n",
       "      root._bokeh_failed_load = true;\n",
       "    } else if (force !== true) {\n",
       "      var cell = $(document.getElementById(\"ecfc0437-9186-489f-b8aa-ee0b693b0261\")).parents('.cell').data().cell;\n",
       "      cell.output_area.append_execute_result(NB_LOAD_WARNING)\n",
       "    }\n",
       "\n",
       "  }\n",
       "\n",
       "  if (root._bokeh_is_loading === 0) {\n",
       "    console.log(\"Bokeh: BokehJS loaded, going straight to plotting\");\n",
       "    run_inline_js();\n",
       "  } else {\n",
       "    load_libs(js_urls, function() {\n",
       "      console.log(\"Bokeh: BokehJS plotting callback run at\", now());\n",
       "      run_inline_js();\n",
       "    });\n",
       "  }\n",
       "}(window));"
      ],
      "application/vnd.bokehjs_load.v0+json": "\n(function(root) {\n  function now() {\n    return new Date();\n  }\n\n  var force = true;\n\n  if (typeof (root._bokeh_onload_callbacks) === \"undefined\" || force === true) {\n    root._bokeh_onload_callbacks = [];\n    root._bokeh_is_loading = undefined;\n  }\n\n  \n\n  \n  if (typeof (root._bokeh_timeout) === \"undefined\" || force === true) {\n    root._bokeh_timeout = Date.now() + 5000;\n    root._bokeh_failed_load = false;\n  }\n\n  var NB_LOAD_WARNING = {'data': {'text/html':\n     \"<div style='background-color: #fdd'>\\n\"+\n     \"<p>\\n\"+\n     \"BokehJS does not appear to have successfully loaded. If loading BokehJS from CDN, this \\n\"+\n     \"may be due to a slow or bad network connection. Possible fixes:\\n\"+\n     \"</p>\\n\"+\n     \"<ul>\\n\"+\n     \"<li>re-rerun `output_notebook()` to attempt to load from CDN again, or</li>\\n\"+\n     \"<li>use INLINE resources instead, as so:</li>\\n\"+\n     \"</ul>\\n\"+\n     \"<code>\\n\"+\n     \"from bokeh.resources import INLINE\\n\"+\n     \"output_notebook(resources=INLINE)\\n\"+\n     \"</code>\\n\"+\n     \"</div>\"}};\n\n  function display_loaded() {\n    var el = document.getElementById(\"ecfc0437-9186-489f-b8aa-ee0b693b0261\");\n    if (el != null) {\n      el.textContent = \"BokehJS is loading...\";\n    }\n    if (root.Bokeh !== undefined) {\n      if (el != null) {\n        el.textContent = \"BokehJS \" + root.Bokeh.version + \" successfully loaded.\";\n      }\n    } else if (Date.now() < root._bokeh_timeout) {\n      setTimeout(display_loaded, 100)\n    }\n  }\n\n\n  function run_callbacks() {\n    try {\n      root._bokeh_onload_callbacks.forEach(function(callback) { callback() });\n    }\n    finally {\n      delete root._bokeh_onload_callbacks\n    }\n    console.info(\"Bokeh: all callbacks have finished\");\n  }\n\n  function load_libs(js_urls, callback) {\n    root._bokeh_onload_callbacks.push(callback);\n    if (root._bokeh_is_loading > 0) {\n      console.log(\"Bokeh: BokehJS is being loaded, scheduling callback at\", now());\n      return null;\n    }\n    if (js_urls == null || js_urls.length === 0) {\n      run_callbacks();\n      return null;\n    }\n    console.log(\"Bokeh: BokehJS not loaded, scheduling load and callback at\", now());\n    root._bokeh_is_loading = js_urls.length;\n    for (var i = 0; i < js_urls.length; i++) {\n      var url = js_urls[i];\n      var s = document.createElement('script');\n      s.src = url;\n      s.async = false;\n      s.onreadystatechange = s.onload = function() {\n        root._bokeh_is_loading--;\n        if (root._bokeh_is_loading === 0) {\n          console.log(\"Bokeh: all BokehJS libraries loaded\");\n          run_callbacks()\n        }\n      };\n      s.onerror = function() {\n        console.warn(\"failed to load library \" + url);\n      };\n      console.log(\"Bokeh: injecting script tag for BokehJS library: \", url);\n      document.getElementsByTagName(\"head\")[0].appendChild(s);\n    }\n  };var element = document.getElementById(\"ecfc0437-9186-489f-b8aa-ee0b693b0261\");\n  if (element == null) {\n    console.log(\"Bokeh: ERROR: autoload.js configured with elementid 'ecfc0437-9186-489f-b8aa-ee0b693b0261' but no matching script tag was found. \")\n    return false;\n  }\n\n  var js_urls = [\"https://cdn.pydata.org/bokeh/release/bokeh-0.12.14.min.js\", \"https://cdn.pydata.org/bokeh/release/bokeh-widgets-0.12.14.min.js\", \"https://cdn.pydata.org/bokeh/release/bokeh-tables-0.12.14.min.js\", \"https://cdn.pydata.org/bokeh/release/bokeh-gl-0.12.14.min.js\"];\n\n  var inline_js = [\n    function(Bokeh) {\n      Bokeh.set_log_level(\"info\");\n    },\n    \n    function(Bokeh) {\n      \n    },\n    function(Bokeh) {\n      console.log(\"Bokeh: injecting CSS: https://cdn.pydata.org/bokeh/release/bokeh-0.12.14.min.css\");\n      Bokeh.embed.inject_css(\"https://cdn.pydata.org/bokeh/release/bokeh-0.12.14.min.css\");\n      console.log(\"Bokeh: injecting CSS: https://cdn.pydata.org/bokeh/release/bokeh-widgets-0.12.14.min.css\");\n      Bokeh.embed.inject_css(\"https://cdn.pydata.org/bokeh/release/bokeh-widgets-0.12.14.min.css\");\n      console.log(\"Bokeh: injecting CSS: https://cdn.pydata.org/bokeh/release/bokeh-tables-0.12.14.min.css\");\n      Bokeh.embed.inject_css(\"https://cdn.pydata.org/bokeh/release/bokeh-tables-0.12.14.min.css\");\n    }\n  ];\n\n  function run_inline_js() {\n    \n    if ((root.Bokeh !== undefined) || (force === true)) {\n      for (var i = 0; i < inline_js.length; i++) {\n        inline_js[i].call(root, root.Bokeh);\n      }if (force === true) {\n        display_loaded();\n      }} else if (Date.now() < root._bokeh_timeout) {\n      setTimeout(run_inline_js, 100);\n    } else if (!root._bokeh_failed_load) {\n      console.log(\"Bokeh: BokehJS failed to load within specified timeout.\");\n      root._bokeh_failed_load = true;\n    } else if (force !== true) {\n      var cell = $(document.getElementById(\"ecfc0437-9186-489f-b8aa-ee0b693b0261\")).parents('.cell').data().cell;\n      cell.output_area.append_execute_result(NB_LOAD_WARNING)\n    }\n\n  }\n\n  if (root._bokeh_is_loading === 0) {\n    console.log(\"Bokeh: BokehJS loaded, going straight to plotting\");\n    run_inline_js();\n  } else {\n    load_libs(js_urls, function() {\n      console.log(\"Bokeh: BokehJS plotting callback run at\", now());\n      run_inline_js();\n    });\n  }\n}(window));"
     },
     "metadata": {},
     "output_type": "display_data"
    }
   ],
   "source": [
    "output_notebook()"
   ]
  },
  {
   "cell_type": "code",
   "execution_count": 8,
   "metadata": {
    "collapsed": true
   },
   "outputs": [],
   "source": [
    "def fmt_cool(ds_in):\n",
    "    ds = ds_in.copy(deep=True)\n",
    "    if 'igg' in ds.dims:\n",
    "        ds = ds.sel(igg=1)\n",
    "\n",
    "    if 'g' in ds.dims:\n",
    "        ds = ds.sum('g')\n",
    "            \n",
    "    if 'band' in ds.dims:\n",
    "        try:\n",
    "            ds = ds.squeeze('band')\n",
    "        except ValueError:\n",
    "            ds = ds.sum('band')\n",
    "                \n",
    "    return ds['coolrg']\n",
    "\n",
    "\n",
    "def pltdata_cooling_1(ds_cool=None,\n",
    "                      ds_cool_crd=None, ds_cool_wgt=None):\n",
    "    \n",
    "\n",
    "\n",
    "    colors = all_palettes['Set1'][4]\n",
    "    data = [{'label': 'CLIRAD `coolr_bands`',\n",
    "             'srs': fmt_cool(ds_cool),\n",
    "             'line_dash': 'dashed', 'line_width': 5,\n",
    "             'color': colors[0], 'alpha': .6},\n",
    "            {'label': 'CRD',\n",
    "             'srs': fmt_cool(ds_cool_crd),\n",
    "             'line_dash': 'solid', 'line_width': 1.5,\n",
    "             'marker': 'circle', 'marker_size': 5,\n",
    "             'color': colors[2], 'alpha': 1,},\n",
    "            {'label': 'WGT igg=10 wgt_flux=2',\n",
    "             'srs': fmt_cool(ds_cool_wgt),\n",
    "             'line_dash': 'solid', 'line_width': 3,\n",
    "             'marker': 'square', 'marker_size': 5,\n",
    "             'color': colors[3], 'alpha': .6}]\n",
    "    return data\n",
    "\n",
    "\n",
    "def nice_xlims(pltdata=None, prange=None):\n",
    "    \n",
    "    def get_slice(srs):\n",
    "        return srs.sel(pressure=slice(*prange))\n",
    "    \n",
    "    srss = [d['srs'] for d in pltdata]\n",
    "    vmin = min([get_slice(srs).min() for srs in srss])\n",
    "    vmax = max([get_slice(srs).max() for srs in srss])\n",
    "    dv = (vmax - vmin) * .01\n",
    "    return float(vmin - dv), float(vmax + dv)\n",
    "    \n",
    "\n",
    "def plt_cooling_bokeh(pltdata=None):\n",
    "    '''\n",
    "    Plot a list of cooling rate profiles using bokeh.\n",
    "    '''\n",
    "    ymin = 1e-2 \n",
    "    ymax = 1020 \n",
    "        \n",
    "    p1 = figure(title=\"Linear pressure scale\", \n",
    "                plot_width=400)        \n",
    "    xmin, xmax = nice_xlims(pltdata, prange=(50, 1050))\n",
    "    for d in pltdata:\n",
    "        if 'marker' in d:\n",
    "            getattr(p1, d['marker'])(d['srs'].values, \n",
    "                    d['srs'].coords['pressure'].values,\n",
    "                    color=d['color'], alpha=.7)\n",
    "        p1.line(d['srs'].values, \n",
    "                d['srs'].coords['pressure'].values,\n",
    "                color=d['color'], alpha=d['alpha'], \n",
    "                line_width=d['line_width'], line_dash=d['line_dash'])\n",
    "    \n",
    "    p1.y_range = Range1d(ymax, ymin)\n",
    "    p1.yaxis.axis_label = 'pressure [mb]'   \n",
    "    p1.x_range = Range1d(xmin, xmax)\n",
    "    p1.xaxis.axis_label = 'cooling rate [K/day]'\n",
    "            \n",
    "    p2 = figure(title='Log pressure scale', y_axis_type='log',\n",
    "                plot_width=560)\n",
    "    xmin, xmax = nice_xlims(pltdata, prange=(.01, 200))\n",
    "    \n",
    "    rs = []\n",
    "    for d in pltdata:\n",
    "        rd = []\n",
    "        if 'marker' in d:\n",
    "            r_mark = getattr(p2, d['marker'])(d['srs'].values, \n",
    "                        d['srs'].coords['pressure'].values,\n",
    "                        color=d['color'], alpha=.7)\n",
    "            rd.append(r_mark)\n",
    "        r_line = p2.line(d['srs'].values, \n",
    "                    d['srs'].coords['pressure'].values,\n",
    "                    color=d['color'], alpha=d['alpha'], \n",
    "                    line_width=d['line_width'], line_dash=d['line_dash'])\n",
    "        rd.append(r_line)\n",
    "      \n",
    "        rs.append(rd)\n",
    "        \n",
    "    p2.y_range = Range1d(ymax, ymin)  \n",
    "    p2.yaxis.axis_label = 'pressure [mb]'\n",
    "    \n",
    "    p2.x_range = Range1d(xmin, xmax)\n",
    "    p2.xaxis.axis_label = 'cooling rate [K/day]'\n",
    "    \n",
    "    items = [(d['label'], r) for r, d in zip(rs, pltdata)]\n",
    "    legend = Legend(items=items, location=(10, -30))\n",
    "    legend.label_text_font_size = '8pt'\n",
    "    \n",
    "    p2.add_layout(legend, 'right')  \n",
    "    \n",
    "    show(gridplot(p1, p2, ncols=2, plot_height=500))\n",
    "    \n",
    "\n",
    "def script_plt_cooling():\n",
    "    pltdata = pltdata_cooling_1(\n",
    "        ds_cool=DS_COOL,\n",
    "        ds_cool_crd=DS_COOL_CRD,\n",
    "        ds_cool_wgt=DS_COOL_WGT)\n",
    "    plt_cooling_bokeh(pltdata=pltdata)\n",
    "    print('''FIGURE. Cooling rate profiles.''')"
   ]
  },
  {
   "cell_type": "code",
   "execution_count": 9,
   "metadata": {
    "collapsed": true
   },
   "outputs": [],
   "source": [
    "def fmt_flux(ds_in):\n",
    "    ds = ds_in.copy(deep=True)\n",
    "    \n",
    "    for l in ('level', 'layer'):\n",
    "        if l in ds.data_vars:\n",
    "            if len(ds[l].dims) > 1:\n",
    "                surface = {d: 0 for d in ds.dims if d != 'pressure'}\n",
    "                coord_level = ds[l][surface]\n",
    "                ds.coords[l] = ('pressure', coord_level)\n",
    "            else:\n",
    "                ds.coords[l] = ('pressure', ds[l])\n",
    "        \n",
    "    ds = ds.isel(pressure=[0, 23, -1])\n",
    "        \n",
    "    if 'igg' in ds.dims:\n",
    "        ds = ds.sel(igg=[1])\n",
    "        ds = ds.squeeze('igg').drop('igg')\n",
    "    \n",
    "    if 'g' in ds.dims:\n",
    "        ds = ds.sum('g')\n",
    "            \n",
    "    if 'band' in ds.dims:\n",
    "        try:\n",
    "            ds = ds.squeeze('band').drop('band')\n",
    "        except ValueError:\n",
    "            ds = ds.sum('band')\n",
    "                \n",
    "    df = ds.to_dataframe()\n",
    "    df = df.set_index('level', append=True)               \n",
    "    return df\n",
    "\n",
    "\n",
    "def tbdata_flux(ds_flux=None, ds_flux_crd=None, ds_flux_wgt=None):\n",
    "    ilevels = [0, 23, -1]\n",
    "            \n",
    "    benchmark = {'label': 'WGT igg=10 wgt_flux=1',\n",
    "                 'df': fmt_flux(ds_flux_wgt)}\n",
    "    \n",
    "    tbs = [{'label': 'CRD',\n",
    "            'df': fmt_flux(ds_flux_crd)},\n",
    "           {'label': 'CLIRAD',\n",
    "            'df': fmt_flux(ds_flux)}]\n",
    "    \n",
    "    data = {'benchmark': benchmark, 'others': tbs}\n",
    "    return data\n",
    "\n",
    "\n",
    "def tb_flux(tbdata=None):\n",
    "    benchmark = tbdata['benchmark']\n",
    "    others = tbdata['others']\n",
    "    \n",
    "    def show_tb(d=None):\n",
    "        display.display(d['df'])\n",
    "        print('Table.', 'Fluxes.', d['label'])\n",
    "        \n",
    "    def show_tbdiff(d0=None, d=None):\n",
    "        df = d['df']\n",
    "        df.index = d0['df'].index\n",
    "        display.display(df - d0['df'])\n",
    "        print('Table.', 'Fluxes.', \n",
    "              '({}) - ({})'.format(d['label'], d0['label']))\n",
    "        \n",
    "    show_tb(benchmark)\n",
    "    for d in others:\n",
    "        show_tb(d)\n",
    "        \n",
    "    for d in others:\n",
    "        show_tbdiff(d=d, d0=benchmark)\n",
    "        \n",
    "        \n",
    "def script_tb_flux():\n",
    "    data = tbdata_flux(ds_flux=DS_FLUX,\n",
    "                       ds_flux_crd=DS_FLUX_CRD,\n",
    "                       ds_flux_wgt=DS_FLUX_WGT)\n",
    "    tb_flux(tbdata=data)"
   ]
  },
  {
   "cell_type": "code",
   "execution_count": 10,
   "metadata": {
    "collapsed": true
   },
   "outputs": [],
   "source": [
    "def band_map():\n",
    "    '''\n",
    "    Maps spectral bands in lblnew to spectral bands in clirad.\n",
    "    '''\n",
    "    lblnew2clirad = {'1': '1',\n",
    "            '2': '2',\n",
    "            '3a': '3',\n",
    "            '3b': '4',\n",
    "            '3c': '5',\n",
    "            '4': '6', \n",
    "            '5': '7',\n",
    "            '6': '8',\n",
    "            '7': '9', \n",
    "            '8': '10',\n",
    "            '9': '11'}\n",
    "    \n",
    "    clirad2lblnew = {clirad: lblnew \n",
    "                     for lblnew, clirad in lblnew2clirad.items()}\n",
    "    return clirad2lblnew\n",
    "\n",
    "\n",
    "def gasbands():\n",
    "    bmap = band_map()\n",
    "    gases = list(PARAM['molecule'].keys())\n",
    "    \n",
    "    bands = [bmap[str(b)] for b in PARAM['band']]\n",
    "    return list(itertools.product(gases, bands))\n",
    "\n",
    "\n",
    "def print_bestfit_params():\n",
    "    print('Best-fit values for each (gas, band)')\n",
    "    print('------------------------------------')\n",
    "    for gas, band in gasbands():\n",
    "        print('o {} band{}'.format(gas, band))\n",
    "        param = bestfits.kdist_params(molecule=gas, band=band)\n",
    "        for name, value in sorted(param.items()):\n",
    "            print(2 * ' ' + '{} = {}'.format(name, value))\n",
    "\n",
    "        \n",
    "def print_input_param():        \n",
    "    for name, value in PARAM.items():\n",
    "        print('{} = {}'.format(name, value))\n",
    "        \n",
    "        \n",
    "def print_lblnew_param():\n",
    "    for name, value in sorted(PARAM_LBLNEW.items()):\n",
    "        print('{} = {}'.format(name, value))\n"
   ]
  },
  {
   "cell_type": "code",
   "execution_count": 11,
   "metadata": {
    "collapsed": true,
    "scrolled": false
   },
   "outputs": [
    {
     "name": "stdout",
     "output_type": "stream",
     "text": [
      "The history saving thread hit an unexpected error (OperationalError('database is locked',)).History will not be written to the database.\n"
     ]
    }
   ],
   "source": [
    "def show_html(s):\n",
    "    display.display(display.HTML(s))\n",
    "\n",
    "    \n",
    "def show_markdown(s):\n",
    "    display.display(display.Markdown(s))\n",
    "\n",
    "    \n",
    "def script():\n",
    "    \n",
    "    title = '### CLIRAD-LW'\n",
    "    s_input = 'Input Parameters'\n",
    "    s_lblnew_param = 'LBLNEW case compaired against'\n",
    "    s_bestfits = 'Best-fit Parameters'\n",
    "    s_plt_cooling = 'Cooling Rate Profiles'\n",
    "    s_tb_flux = 'Flux Comparison'\n",
    "    \n",
    "    # title\n",
    "    show_markdown('### CLIRAD-LW')\n",
    "    \n",
    "    # TOC\n",
    "    show_markdown('### Table of Contents')\n",
    "    show_html(climahtml.getHTML_hrefanchor(s_input))\n",
    "    show_html(climahtml.getHTML_hrefanchor(s_lblnew_param))\n",
    "    show_html(climahtml.getHTML_hrefanchor(s_plt_cooling))\n",
    "    show_html(climahtml.getHTML_hrefanchor(s_tb_flux))\n",
    "    show_html(climahtml.getHTML_hrefanchor(s_bestfits))\n",
    "    \n",
    "    # Input parameters\n",
    "    show_html(climahtml.getHTML_idanchor(s_input))\n",
    "    show_markdown(climahtml.getMarkdown_sectitle(s_input))\n",
    "    print_input_param()\n",
    "    \n",
    "    # LBLNEW parameters \n",
    "    show_html(climahtml.getHTML_idanchor(s_lblnew_param))\n",
    "    show_markdown(climahtml.getMarkdown_sectitle(s_lblnew_param))\n",
    "    print_lblnew_param()\n",
    "    \n",
    "    # Cooling rate profiles\n",
    "    show_html(climahtml.getHTML_idanchor(s_plt_cooling))\n",
    "    show_markdown(climahtml.getMarkdown_sectitle(s_plt_cooling))\n",
    "    script_plt_cooling()\n",
    "    \n",
    "    # Flux comparison\n",
    "    show_html(climahtml.getHTML_idanchor(s_tb_flux))\n",
    "    show_markdown(climahtml.getMarkdown_sectitle(s_tb_flux))\n",
    "    script_tb_flux()\n",
    "    \n",
    "    # Best-fit values\n",
    "    show_html(climahtml.getHTML_idanchor(s_bestfits))\n",
    "    show_markdown(climahtml.getMarkdown_sectitle(s_bestfits))\n",
    "    print_bestfit_params()\n",
    "   \n",
    "    "
   ]
  },
  {
   "cell_type": "code",
   "execution_count": 12,
   "metadata": {
    "collapsed": true,
    "scrolled": false
   },
   "outputs": [
    {
     "data": {
      "text/markdown": [
       "### CLIRAD-LW"
      ],
      "text/plain": [
       "<IPython.core.display.Markdown object>"
      ]
     },
     "metadata": {},
     "output_type": "display_data"
    },
    {
     "data": {
      "text/markdown": [
       "### Table of Contents"
      ],
      "text/plain": [
       "<IPython.core.display.Markdown object>"
      ]
     },
     "metadata": {},
     "output_type": "display_data"
    },
    {
     "data": {
      "text/html": [
       "<a href=\"#Input_Parameters\">Input Parameters</a>"
      ],
      "text/plain": [
       "<IPython.core.display.HTML object>"
      ]
     },
     "metadata": {},
     "output_type": "display_data"
    },
    {
     "data": {
      "text/html": [
       "<a href=\"#LBLNEW_case_compaired_against\">LBLNEW case compaired against</a>"
      ],
      "text/plain": [
       "<IPython.core.display.HTML object>"
      ]
     },
     "metadata": {},
     "output_type": "display_data"
    },
    {
     "data": {
      "text/html": [
       "<a href=\"#Cooling_Rate_Profiles\">Cooling Rate Profiles</a>"
      ],
      "text/plain": [
       "<IPython.core.display.HTML object>"
      ]
     },
     "metadata": {},
     "output_type": "display_data"
    },
    {
     "data": {
      "text/html": [
       "<a href=\"#Flux_Comparison\">Flux Comparison</a>"
      ],
      "text/plain": [
       "<IPython.core.display.HTML object>"
      ]
     },
     "metadata": {},
     "output_type": "display_data"
    },
    {
     "data": {
      "text/html": [
       "<a href=\"#Best-fit_Parameters\">Best-fit Parameters</a>"
      ],
      "text/plain": [
       "<IPython.core.display.HTML object>"
      ]
     },
     "metadata": {},
     "output_type": "display_data"
    },
    {
     "data": {
      "text/html": [
       "<a id=\"Input_Parameters\"></a>"
      ],
      "text/plain": [
       "<IPython.core.display.HTML object>"
      ]
     },
     "metadata": {},
     "output_type": "display_data"
    },
    {
     "data": {
      "text/markdown": [
       "# Input Parameters"
      ],
      "text/plain": [
       "<IPython.core.display.Markdown object>"
      ]
     },
     "metadata": {},
     "output_type": "display_data"
    },
    {
     "name": "stdout",
     "output_type": "stream",
     "text": [
      "atmpro = mls\n",
      "band = [3]\n",
      "commitnumber = 7e55b57\n",
      "molecule = {'co2': 0.0004, 'h2o': 'atmpro', 'n2o': 3.2e-07}\n",
      "tsfc = 294\n"
     ]
    },
    {
     "data": {
      "text/html": [
       "<a id=\"LBLNEW_case_compaired_against\"></a>"
      ],
      "text/plain": [
       "<IPython.core.display.HTML object>"
      ]
     },
     "metadata": {},
     "output_type": "display_data"
    },
    {
     "data": {
      "text/markdown": [
       "# LBLNEW case compaired against"
      ],
      "text/plain": [
       "<IPython.core.display.Markdown object>"
      ]
     },
     "metadata": {},
     "output_type": "display_data"
    },
    {
     "name": "stdout",
     "output_type": "stream",
     "text": [
      "atmpro = mls\n",
      "band = 3a\n",
      "commitnumber = 5014a19\n",
      "dv = 0.01\n",
      "molecule = {'co2': 0.0004, 'h2o': 'atmpro', 'n2o': 3.2e-07}\n",
      "nv = 100\n",
      "tsfc = 294\n"
     ]
    },
    {
     "data": {
      "text/html": [
       "<a id=\"Cooling_Rate_Profiles\"></a>"
      ],
      "text/plain": [
       "<IPython.core.display.HTML object>"
      ]
     },
     "metadata": {},
     "output_type": "display_data"
    },
    {
     "data": {
      "text/markdown": [
       "# Cooling Rate Profiles"
      ],
      "text/plain": [
       "<IPython.core.display.Markdown object>"
      ]
     },
     "metadata": {},
     "output_type": "display_data"
    },
    {
     "data": {
      "text/html": [
       "\n",
       "<div class=\"bk-root\">\n",
       "    <div class=\"bk-plotdiv\" id=\"611bc2ea-7e0f-4c5a-bc13-b0ed0c5f6823\"></div>\n",
       "</div>"
      ]
     },
     "metadata": {},
     "output_type": "display_data"
    },
    {
     "data": {
      "application/javascript": [
       "(function(root) {\n",
       "  function embed_document(root) {\n",
       "    \n",
       "  var docs_json = {\"1bb582a6-ab9c-4547-a52b-53af90d02bc2\":{\"roots\":{\"references\":[{\"attributes\":{\"source\":{\"id\":\"6fccd852-3a27-401d-ac23-c212413cee91\",\"type\":\"ColumnDataSource\"}},\"id\":\"0d31f7f0-508a-4ee5-a537-a98b4a576d9a\",\"type\":\"CDSView\"},{\"attributes\":{\"fill_alpha\":{\"value\":0.7},\"fill_color\":{\"value\":\"#4daf4a\"},\"line_alpha\":{\"value\":0.7},\"line_color\":{\"value\":\"#4daf4a\"},\"x\":{\"field\":\"x\"},\"y\":{\"field\":\"y\"}},\"id\":\"f271e30b-6e83-4bcc-9e9f-a5b66df40018\",\"type\":\"Circle\"},{\"attributes\":{\"fill_alpha\":{\"value\":0.7},\"fill_color\":{\"value\":\"#4daf4a\"},\"line_alpha\":{\"value\":0.7},\"line_color\":{\"value\":\"#4daf4a\"},\"x\":{\"field\":\"x\"},\"y\":{\"field\":\"y\"}},\"id\":\"e5033bb9-95fa-40b0-85ea-0c0a0a52ac81\",\"type\":\"Circle\"},{\"attributes\":{\"line_alpha\":0.1,\"line_color\":\"#1f77b4\",\"line_dash\":[6],\"line_width\":5,\"x\":{\"field\":\"x\"},\"y\":{\"field\":\"y\"}},\"id\":\"4d3ab044-84fb-45e6-94d4-dbf37a8bc855\",\"type\":\"Line\"},{\"attributes\":{\"data_source\":{\"id\":\"6fccd852-3a27-401d-ac23-c212413cee91\",\"type\":\"ColumnDataSource\"},\"glyph\":{\"id\":\"35d1defd-65de-4b01-871f-24018e1952ec\",\"type\":\"Line\"},\"hover_glyph\":null,\"muted_glyph\":null,\"nonselection_glyph\":{\"id\":\"34b3c58f-d77a-4025-bc7b-906151c1c56b\",\"type\":\"Line\"},\"selection_glyph\":null,\"view\":{\"id\":\"0d31f7f0-508a-4ee5-a537-a98b4a576d9a\",\"type\":\"CDSView\"}},\"id\":\"e9aa09aa-ad37-41b6-8d76-4586a85bda27\",\"type\":\"GlyphRenderer\"},{\"attributes\":{\"label\":{\"value\":\"CRD\"},\"renderers\":[{\"id\":\"49c0b642-0d34-46af-9d50-ea2653c48975\",\"type\":\"GlyphRenderer\"},{\"id\":\"7ea11e9c-314c-487a-892f-6d34c7702d7a\",\"type\":\"GlyphRenderer\"}]},\"id\":\"c1ee1af7-dc0c-4b94-a45a-2015f42ba3e3\",\"type\":\"LegendItem\"},{\"attributes\":{\"callback\":null,\"end\":0.35426506217119996,\"start\":-0.0031798792912},\"id\":\"1ea3db33-7ee4-4769-a325-74ae08b09f91\",\"type\":\"Range1d\"},{\"attributes\":{},\"id\":\"8101370d-2ca2-4972-96a2-3733909eb1fa\",\"type\":\"LogScale\"},{\"attributes\":{\"line_alpha\":0.6,\"line_color\":\"#984ea3\",\"line_width\":3,\"x\":{\"field\":\"x\"},\"y\":{\"field\":\"y\"}},\"id\":\"2de4c789-fb5f-479d-853d-9981d88973fc\",\"type\":\"Line\"},{\"attributes\":{\"label\":{\"value\":\"WGT igg=10 wgt_flux=2\"},\"renderers\":[{\"id\":\"96aee2c7-6137-41c7-aa1c-ddb14d8286bd\",\"type\":\"GlyphRenderer\"},{\"id\":\"401feb26-8781-4bcd-a472-cde80dac3bec\",\"type\":\"GlyphRenderer\"}]},\"id\":\"bbde3c1e-207b-4d7c-b5dc-190ef04a32f6\",\"type\":\"LegendItem\"},{\"attributes\":{\"plot\":null,\"text\":\"Log pressure scale\"},\"id\":\"b77e2c9a-dc98-437e-91b1-2820b20d2409\",\"type\":\"Title\"},{\"attributes\":{\"line_alpha\":0.1,\"line_color\":\"#1f77b4\",\"line_dash\":[6],\"line_width\":5,\"x\":{\"field\":\"x\"},\"y\":{\"field\":\"y\"}},\"id\":\"34b3c58f-d77a-4025-bc7b-906151c1c56b\",\"type\":\"Line\"},{\"attributes\":{\"active_drag\":\"auto\",\"active_inspect\":\"auto\",\"active_scroll\":\"auto\",\"active_tap\":\"auto\",\"tools\":[{\"id\":\"e259a23a-c5b5-46e1-b594-24a176d019fb\",\"type\":\"PanTool\"},{\"id\":\"3201df0d-ccdf-4021-8714-aa73409a66b7\",\"type\":\"WheelZoomTool\"},{\"id\":\"67b47062-4000-40a4-b5ad-858da78dcb90\",\"type\":\"BoxZoomTool\"},{\"id\":\"05b60424-d9c2-4dbc-af43-166c0b321f22\",\"type\":\"SaveTool\"},{\"id\":\"bd2b45df-7f90-4537-b065-7f0b38e87b26\",\"type\":\"ResetTool\"},{\"id\":\"924bfd0a-4d1b-4029-8a87-23dce4704cc9\",\"type\":\"HelpTool\"}]},\"id\":\"de25b33b-a97e-4c09-b86a-c94653bd27aa\",\"type\":\"Toolbar\"},{\"attributes\":{},\"id\":\"b1b03314-69b6-454c-93fa-9c8220f6619f\",\"type\":\"LinearScale\"},{\"attributes\":{\"plot\":{\"id\":\"d9c6abd6-74cb-4d0c-9697-510654af41f0\",\"subtype\":\"Figure\",\"type\":\"Plot\"},\"ticker\":{\"id\":\"ba97b4f3-ddc7-4cfd-9ad0-89f5a8360ba0\",\"type\":\"BasicTicker\"}},\"id\":\"636392db-b7a0-4586-adee-98ac31e1e0b5\",\"type\":\"Grid\"},{\"attributes\":{\"data_source\":{\"id\":\"729b5ed7-dfe2-4058-80af-42d5fa52ef1c\",\"type\":\"ColumnDataSource\"},\"glyph\":{\"id\":\"f271e30b-6e83-4bcc-9e9f-a5b66df40018\",\"type\":\"Circle\"},\"hover_glyph\":null,\"muted_glyph\":null,\"nonselection_glyph\":{\"id\":\"659c3fac-ce8a-4e3c-9b80-1f9010421183\",\"type\":\"Circle\"},\"selection_glyph\":null,\"view\":{\"id\":\"c4ac4c00-5f3d-4224-909e-a7d79a808e5a\",\"type\":\"CDSView\"}},\"id\":\"e833448e-5817-4db4-8e08-33b81430be92\",\"type\":\"GlyphRenderer\"},{\"attributes\":{\"axis_label\":\"cooling rate [K/day]\",\"formatter\":{\"id\":\"90f9bc39-5d37-4ff9-b14a-087688047af9\",\"type\":\"BasicTickFormatter\"},\"plot\":{\"id\":\"d9c6abd6-74cb-4d0c-9697-510654af41f0\",\"subtype\":\"Figure\",\"type\":\"Plot\"},\"ticker\":{\"id\":\"ba97b4f3-ddc7-4cfd-9ad0-89f5a8360ba0\",\"type\":\"BasicTicker\"}},\"id\":\"46417902-47bc-49d5-8595-696579734c59\",\"type\":\"LinearAxis\"},{\"attributes\":{\"callback\":null,\"column_names\":[\"x\",\"y\"],\"data\":{\"x\":{\"__ndarray__\":\"ywbC4xUn0j8L32UAVGOwP1pMx/cgX8c/IiLrX0j92D/0rJyklrnKP7S3zp5PDdM/vNgHmzKe0z/Wd3bgOefTP4uGzmN7ytI/FKl6QyuB1D+cSWH/8bXSP/n/SENTV9I/XN7iAkzw0D9FJ67XsoTNP+yc6rkak8k/VpPxOcHIzD+bjTrf9JPRP4gAMyHe4dM/AkP7/Qf91D8Jh2IbhgnXP3azN98lBN0/L0BPwen24z9VZhBA5jrqP8pfawCAzeo/Kb0E4ek55j8UME8hNpzhP5p81Nt2DNw//Sb7hD9F1j88yrn7ufTRP4d2RkL4I8w/h0bBnVUwxT8Wrv1TYLe9P2Jzup57nrQ/+OVIPuEysD9xtgfBrTKrP/nt6b8OaaU/EncBntDFoD+olkJaQsKaP9Xnu3L1F40/jN07PF28XD9tYcP/0OZxP4muoVqYE5k/hSmNQtkuqT/Rdy7B5nKzP6EjwW3QC7o/Fxw1kV9gvj82x3+iLinBP71Bi9eC/8I/k761uGuuxD86yJAIMqfGP5jRl/eb/cg/mx6xaecsyz9pq3G6VSXNP6/GwNdj5M4/XfvAXQ9J0D9kyFY8mg/RPwAQA58X1dE/5gxB5com0z9p7IXhp1rUP7+rL1xnTdU/1womQEX81T/Fvo1i81DWPxbe5SK+U9Y/gwS9Hukf1j9WXU2/wMPVPyVFngNPStU/lDVF24yu1D+QO3wExMXTP0zqPt+aZNI/K6fa+iuc0D+ppTXdHV/NP6VzlyeEzMk/v7+9QlHmxj/fa2u4hiHFP4pHd0rmXMc/\",\"dtype\":\"float64\",\"shape\":[75]},\"y\":{\"__ndarray__\":\"S/O/Q+51ND/430zAtpRIP2vylNV0PVE/QxsjCssuWD/TR4Z78fVgP+inNsRxymc/OuuBfZWvcD/u3TFA02d3P2d3VoBnaoA/CD5h5MAGhz/1pA8HUCaQP+zrCsc9p5Y/Fb7LAKjGnz/nJ9c/SEmmPwBD+fzcQq8/FOZwv9nstT8Er5Y7M8G+P0c+r3jqkcU/yK72qKZBzj+tM989FzjVPxbgmr8yxN0/cOm5AXbg5D+5ctXAf0jtP5kqGJXUifQ/DsrqDELP/D8MCAhBojQEQDItVnmnVwxAiFXNvdHgE0BSSZ2AJuIbQAMJih9jjiNA5q4l5INuK0CPVN/5RT0zQHzxRXu8/DpAOZ7PgHrtQkAg8wGBzoxKQBSTN8DMeFJA2NmQf2ZqWEAAAAAAAFxeQEQX1LfMJmJAmpmZmZkfZUBmZmZmZhhoQLzoK0gzEWtAAAAAAAAKbkCiC+pbZoFwQAhyUMLM/XFA+I2vPTN6c0AQ5KCEmfZ0QAAAAAAAc3ZA8Btfe2bvd0AIclDCzGt5QPeNrz0z6HpAEOSghJlkfEAAAAAAAOF9QKML6ltmXX9ABTkoYeZsgED7xteeGSuBQAhyUMJM6YFAAAAAAICngkD4ja89s2WDQAU5KGHmI4RA+8bXnhnihEAIclDCTKCFQAAAAACAXoZA+I2vPbMch0AFOShh5tqHQPvG154ZmYhACHJQwkxXiUAAAAAAgBWKQPeNrz2z04pABTkoYeaRi0D7xteeGVCMQAlyUMJMDo1AAAAAAIDMjUD3ja89s4qOQGZmZmbmSI9A\",\"dtype\":\"float64\",\"shape\":[75]}}},\"id\":\"6fccd852-3a27-401d-ac23-c212413cee91\",\"type\":\"ColumnDataSource\"},{\"attributes\":{\"children\":[{\"id\":\"5f8489c1-0444-476d-957a-c248270cfe7d\",\"subtype\":\"Figure\",\"type\":\"Plot\"},{\"id\":\"d9c6abd6-74cb-4d0c-9697-510654af41f0\",\"subtype\":\"Figure\",\"type\":\"Plot\"}]},\"id\":\"42a031a6-243b-453d-82cb-a089b46033c0\",\"type\":\"Row\"},{\"attributes\":{},\"id\":\"151239ed-98ab-4772-a158-2905c2571056\",\"type\":\"BasicTickFormatter\"},{\"attributes\":{\"data_source\":{\"id\":\"8838bb0f-0620-4774-8f3c-602f650edc8d\",\"type\":\"ColumnDataSource\"},\"glyph\":{\"id\":\"2de4c789-fb5f-479d-853d-9981d88973fc\",\"type\":\"Line\"},\"hover_glyph\":null,\"muted_glyph\":null,\"nonselection_glyph\":{\"id\":\"7b7c67f6-7c14-459b-bfee-39a6fb1c7bfb\",\"type\":\"Line\"},\"selection_glyph\":null,\"view\":{\"id\":\"7cc015ea-9eec-46b9-a20c-97e6162b0979\",\"type\":\"CDSView\"}},\"id\":\"c85457e0-9d3e-468a-acd1-fa38b83ede00\",\"type\":\"GlyphRenderer\"},{\"attributes\":{\"label\":{\"value\":\"CLIRAD `coolr_bands`\"},\"renderers\":[{\"id\":\"e9aa09aa-ad37-41b6-8d76-4586a85bda27\",\"type\":\"GlyphRenderer\"}]},\"id\":\"478a1c15-07d1-4598-b94c-26af4e83a93d\",\"type\":\"LegendItem\"},{\"attributes\":{},\"id\":\"ba97b4f3-ddc7-4cfd-9ad0-89f5a8360ba0\",\"type\":\"BasicTicker\"},{\"attributes\":{},\"id\":\"3201df0d-ccdf-4021-8714-aa73409a66b7\",\"type\":\"WheelZoomTool\"},{\"attributes\":{},\"id\":\"05b60424-d9c2-4dbc-af43-166c0b321f22\",\"type\":\"SaveTool\"},{\"attributes\":{\"line_alpha\":0.1,\"line_color\":\"#1f77b4\",\"line_width\":3,\"x\":{\"field\":\"x\"},\"y\":{\"field\":\"y\"}},\"id\":\"7b7c67f6-7c14-459b-bfee-39a6fb1c7bfb\",\"type\":\"Line\"},{\"attributes\":{},\"id\":\"90f9bc39-5d37-4ff9-b14a-087688047af9\",\"type\":\"BasicTickFormatter\"},{\"attributes\":{\"fill_alpha\":{\"value\":0.1},\"fill_color\":{\"value\":\"#1f77b4\"},\"line_alpha\":{\"value\":0.1},\"line_color\":{\"value\":\"#1f77b4\"},\"x\":{\"field\":\"x\"},\"y\":{\"field\":\"y\"}},\"id\":\"659c3fac-ce8a-4e3c-9b80-1f9010421183\",\"type\":\"Circle\"},{\"attributes\":{\"callback\":null,\"column_names\":[\"x\",\"y\"],\"data\":{\"x\":{\"__ndarray__\":\"nluNkZGY2j/OtJKQJ03aP1/olduL4to/IL9tXLVh2z9FeKSPM6zbP2ckhD+qvts/Z3lg+G972z9XI/3uBNjaP+yhv8iyvdk/wlpK0D4a2D8NObaeIdzVPx0YSGmZ+dI/Hcua3BjQzj90gi7IMzvGP7mr9GYWmb8/doig5rvGwT8VdjDm16TJP8Xi3MsiudA/f4XMlUE11T+070BTZQ7bP0PHUEZDg+E/dazWskpj5z88gIeaz7btPxTAICvwPO0/Jtmwx8AR5z+xu+WPDnThP2H7yRgfJto/9R+I4kSq0z945Juvip7OP7XcPlATosg/jldiliRswz9v9gfKbfu8P5av/uFE+rU/KtJdD6+2sT/rIBykwRyrP+Oji245bqI/Wj8AIFw+mj/0E+98FraUP5Bx8EWurYU/rwGTW+tDNT9oQ/10HDRxP32rLAy8U5o/AaEH1CGLqj8YKRUGxYy0P6Ja6Vog5rs/1QRR9wFIwD+WBfJwK1LCP9NP9p7jhsQ/MS5N+ELUxj/GHhRzlCzJP5zJL2qUgcs/UsDR6dRwzT9jey3ovTHPP6xnMUZeddA/O4PQiyRL0T93taLufxfSP01URo4629I/EbZMRMcn1D+SeQUe70DVP7Z0NxXK/tU/FY7/hnlk1j9ZNs4B3XLWP1fBudCmNNY/CQg5MRy21T9qki/TvATVP7uB4eD7MNQ/J1Y+slZA0z92DWVu3x/SP4BWqlUFtNA/2KCKdnALzj8eohM6lpTKP2wTm01Pccc/kaC2FRTpxD+w7HpQ7V/DP///5mJf9MU/\",\"dtype\":\"float64\",\"shape\":[75]},\"y\":{\"__ndarray__\":\"GhExyth1ND/Sv8nbtpRIP2vylNV0PVE/aTum7souWD/At0SJ8fVgPw3Iuahxymc/MSNhhJWvcD/bTfBN02d3P2zb5nxnaoA/CD5h5MAGhz8NmeH1TyaQP+zrCsc9p5Y/LbKd76fGnz/bLW5ISEmmPww9YvTcQq8/JV2OstnstT8Er5Y7M8G+P0c+r3jqkcU/5h99k6ZBzj88bCIzFzjVP4enV8oyxN0//yH99nXg5D8qOpLLf0jtP5kqGJXUifQ/c9cS8kHP/D+/DpwzojQEQIEmwoanVwxA4lgXt9HgE0BSSZ2AJuIbQAMJih9jjiNA5q4l5INuK0AwTKYKRj0zQNv5fmq8/DpAaCJseHrtQkB/+zpwzoxKQM3MzMzMeFJAZmZmZmZqWEAAAAAAAFxeQM3MzMzMJmJAmpmZmZkfZUBmZmZmZhhoQDMzMzMzEWtAAAAAAAAKbkBmZmZmZoFwQM3MzMzM/XFAMzMzMzN6c0CamZmZmfZ0QAAAAAAAc3ZAZmZmZmbvd0DNzMzMzGt5QDMzMzMz6HpAmpmZmZlkfEAAAAAAAOF9QGZmZmZmXX9AZmZmZuZsgECamZmZGSuBQM3MzMxM6YFAAAAAAICngkAzMzMzs2WDQGZmZmbmI4RAmpmZmRnihEDNzMzMTKCFQAAAAACAXoZAMzMzM7Mch0BmZmZm5tqHQJqZmZkZmYhAzczMzExXiUAAAAAAgBWKQDMzMzOz04pAZmZmZuaRi0CamZmZGVCMQM3MzMxMDo1AAAAAAIDMjUAzMzMzs4qOQGZmZmbmSI9A\",\"dtype\":\"float64\",\"shape\":[75]}}},\"id\":\"33e28ebd-a2e5-4837-b5c4-79e2e6982278\",\"type\":\"ColumnDataSource\"},{\"attributes\":{\"data_source\":{\"id\":\"66f8593a-175d-4594-a5ec-1dd78cc48578\",\"type\":\"ColumnDataSource\"},\"glyph\":{\"id\":\"52ef7d5d-e7dd-42ee-aa6e-024e31d5addc\",\"type\":\"Line\"},\"hover_glyph\":null,\"muted_glyph\":null,\"nonselection_glyph\":{\"id\":\"4d3ab044-84fb-45e6-94d4-dbf37a8bc855\",\"type\":\"Line\"},\"selection_glyph\":null,\"view\":{\"id\":\"968e1311-995d-4342-a174-2e27e35688e7\",\"type\":\"CDSView\"}},\"id\":\"572209b2-ff92-4ea5-b775-0ade6ceb32b8\",\"type\":\"GlyphRenderer\"},{\"attributes\":{\"axis_label\":\"pressure [mb]\",\"formatter\":{\"id\":\"a52b8336-aeb6-45cd-b9e7-6d05720ef8e6\",\"type\":\"LogTickFormatter\"},\"plot\":{\"id\":\"d9c6abd6-74cb-4d0c-9697-510654af41f0\",\"subtype\":\"Figure\",\"type\":\"Plot\"},\"ticker\":{\"id\":\"e9b5cf96-cd9e-41c7-9f83-fde32cdacd3a\",\"type\":\"LogTicker\"}},\"id\":\"aa848cb5-12cf-4b5e-9887-bd1f97e7930b\",\"type\":\"LogAxis\"},{\"attributes\":{\"line_alpha\":0.6,\"line_color\":\"#e41a1c\",\"line_dash\":[6],\"line_width\":5,\"x\":{\"field\":\"x\"},\"y\":{\"field\":\"y\"}},\"id\":\"35d1defd-65de-4b01-871f-24018e1952ec\",\"type\":\"Line\"},{\"attributes\":{},\"id\":\"e259a23a-c5b5-46e1-b594-24a176d019fb\",\"type\":\"PanTool\"},{\"attributes\":{\"line_alpha\":0.6,\"line_color\":\"#e41a1c\",\"line_dash\":[6],\"line_width\":5,\"x\":{\"field\":\"x\"},\"y\":{\"field\":\"y\"}},\"id\":\"52ef7d5d-e7dd-42ee-aa6e-024e31d5addc\",\"type\":\"Line\"},{\"attributes\":{\"fill_alpha\":{\"value\":0.1},\"fill_color\":{\"value\":\"#1f77b4\"},\"line_alpha\":{\"value\":0.1},\"line_color\":{\"value\":\"#1f77b4\"},\"x\":{\"field\":\"x\"},\"y\":{\"field\":\"y\"}},\"id\":\"375f08de-2611-468b-ae91-7ad40f8b55d1\",\"type\":\"Circle\"},{\"attributes\":{\"below\":[{\"id\":\"46417902-47bc-49d5-8595-696579734c59\",\"type\":\"LinearAxis\"}],\"left\":[{\"id\":\"aa848cb5-12cf-4b5e-9887-bd1f97e7930b\",\"type\":\"LogAxis\"}],\"plot_height\":500,\"plot_width\":560,\"renderers\":[{\"id\":\"46417902-47bc-49d5-8595-696579734c59\",\"type\":\"LinearAxis\"},{\"id\":\"636392db-b7a0-4586-adee-98ac31e1e0b5\",\"type\":\"Grid\"},{\"id\":\"aa848cb5-12cf-4b5e-9887-bd1f97e7930b\",\"type\":\"LogAxis\"},{\"id\":\"2a461638-b84d-42e0-8e91-f8ba81c5b96f\",\"type\":\"Grid\"},{\"id\":\"0b4ed2c5-15ba-464b-bf45-e0c08df20ac5\",\"type\":\"BoxAnnotation\"},{\"id\":\"e9aa09aa-ad37-41b6-8d76-4586a85bda27\",\"type\":\"GlyphRenderer\"},{\"id\":\"49c0b642-0d34-46af-9d50-ea2653c48975\",\"type\":\"GlyphRenderer\"},{\"id\":\"7ea11e9c-314c-487a-892f-6d34c7702d7a\",\"type\":\"GlyphRenderer\"},{\"id\":\"96aee2c7-6137-41c7-aa1c-ddb14d8286bd\",\"type\":\"GlyphRenderer\"},{\"id\":\"401feb26-8781-4bcd-a472-cde80dac3bec\",\"type\":\"GlyphRenderer\"},{\"id\":\"12f796b1-c2b9-488d-b860-b5267232aa8c\",\"type\":\"Legend\"}],\"right\":[{\"id\":\"12f796b1-c2b9-488d-b860-b5267232aa8c\",\"type\":\"Legend\"}],\"title\":{\"id\":\"b77e2c9a-dc98-437e-91b1-2820b20d2409\",\"type\":\"Title\"},\"toolbar\":{\"id\":\"de25b33b-a97e-4c09-b86a-c94653bd27aa\",\"type\":\"Toolbar\"},\"toolbar_location\":null,\"x_range\":{\"id\":\"3cb1b5e0-e10a-4bdd-9d76-b5cb964a0a49\",\"type\":\"Range1d\"},\"x_scale\":{\"id\":\"b1b03314-69b6-454c-93fa-9c8220f6619f\",\"type\":\"LinearScale\"},\"y_range\":{\"id\":\"70aaa492-352a-49f3-b2f8-ba16c71e32e9\",\"type\":\"Range1d\"},\"y_scale\":{\"id\":\"8101370d-2ca2-4972-96a2-3733909eb1fa\",\"type\":\"LogScale\"}},\"id\":\"d9c6abd6-74cb-4d0c-9697-510654af41f0\",\"subtype\":\"Figure\",\"type\":\"Plot\"},{\"attributes\":{\"source\":{\"id\":\"8838bb0f-0620-4774-8f3c-602f650edc8d\",\"type\":\"ColumnDataSource\"}},\"id\":\"7cc015ea-9eec-46b9-a20c-97e6162b0979\",\"type\":\"CDSView\"},{\"attributes\":{\"tools\":[{\"id\":\"b90d837c-cfa7-4836-b3f1-b0eb44a008bd\",\"type\":\"PanTool\"},{\"id\":\"1a1b4a33-1f1e-4a0f-8203-0fcd09bb9370\",\"type\":\"WheelZoomTool\"},{\"id\":\"c4feda1b-7945-4754-a970-d05fd9acfa93\",\"type\":\"BoxZoomTool\"},{\"id\":\"f4eb4af8-1fb7-4ac5-a6a9-897eb570e5d6\",\"type\":\"SaveTool\"},{\"id\":\"99020e96-748c-49f8-8bf7-6f36385fc9c3\",\"type\":\"ResetTool\"},{\"id\":\"fd9e2704-e032-4186-bcf4-7a7f00e33880\",\"type\":\"HelpTool\"},{\"id\":\"e259a23a-c5b5-46e1-b594-24a176d019fb\",\"type\":\"PanTool\"},{\"id\":\"3201df0d-ccdf-4021-8714-aa73409a66b7\",\"type\":\"WheelZoomTool\"},{\"id\":\"67b47062-4000-40a4-b5ad-858da78dcb90\",\"type\":\"BoxZoomTool\"},{\"id\":\"05b60424-d9c2-4dbc-af43-166c0b321f22\",\"type\":\"SaveTool\"},{\"id\":\"bd2b45df-7f90-4537-b065-7f0b38e87b26\",\"type\":\"ResetTool\"},{\"id\":\"924bfd0a-4d1b-4029-8a87-23dce4704cc9\",\"type\":\"HelpTool\"}]},\"id\":\"17dffddf-d339-4f42-a09b-8745c40c5d28\",\"type\":\"ProxyToolbar\"},{\"attributes\":{\"overlay\":{\"id\":\"0b4ed2c5-15ba-464b-bf45-e0c08df20ac5\",\"type\":\"BoxAnnotation\"}},\"id\":\"67b47062-4000-40a4-b5ad-858da78dcb90\",\"type\":\"BoxZoomTool\"},{\"attributes\":{},\"id\":\"bd2b45df-7f90-4537-b065-7f0b38e87b26\",\"type\":\"ResetTool\"},{\"attributes\":{\"source\":{\"id\":\"66f8593a-175d-4594-a5ec-1dd78cc48578\",\"type\":\"ColumnDataSource\"}},\"id\":\"968e1311-995d-4342-a174-2e27e35688e7\",\"type\":\"CDSView\"},{\"attributes\":{\"children\":[{\"id\":\"42a031a6-243b-453d-82cb-a089b46033c0\",\"type\":\"Row\"}]},\"id\":\"20514df5-f9ff-4139-a379-3ad4741a68c4\",\"type\":\"Column\"},{\"attributes\":{\"bottom_units\":\"screen\",\"fill_alpha\":{\"value\":0.5},\"fill_color\":{\"value\":\"lightgrey\"},\"left_units\":\"screen\",\"level\":\"overlay\",\"line_alpha\":{\"value\":1.0},\"line_color\":{\"value\":\"black\"},\"line_dash\":[4,4],\"line_width\":{\"value\":2},\"plot\":null,\"render_mode\":\"css\",\"right_units\":\"screen\",\"top_units\":\"screen\"},\"id\":\"0b4ed2c5-15ba-464b-bf45-e0c08df20ac5\",\"type\":\"BoxAnnotation\"},{\"attributes\":{\"ticker\":null},\"id\":\"a52b8336-aeb6-45cd-b9e7-6d05720ef8e6\",\"type\":\"LogTickFormatter\"},{\"attributes\":{},\"id\":\"924bfd0a-4d1b-4029-8a87-23dce4704cc9\",\"type\":\"HelpTool\"},{\"attributes\":{\"line_color\":\"#4daf4a\",\"line_width\":1.5,\"x\":{\"field\":\"x\"},\"y\":{\"field\":\"y\"}},\"id\":\"38c28482-281d-4e43-8c49-8086af02a406\",\"type\":\"Line\"},{\"attributes\":{\"callback\":null,\"end\":0.01,\"start\":1020},\"id\":\"70aaa492-352a-49f3-b2f8-ba16c71e32e9\",\"type\":\"Range1d\"},{\"attributes\":{\"callback\":null,\"column_names\":[\"x\",\"y\"],\"data\":{\"x\":{\"__ndarray__\":\"nluNkZGY2j/OtJKQJ03aP1/olduL4to/IL9tXLVh2z9FeKSPM6zbP2ckhD+qvts/Z3lg+G972z9XI/3uBNjaP+yhv8iyvdk/wlpK0D4a2D8NObaeIdzVPx0YSGmZ+dI/Hcua3BjQzj90gi7IMzvGP7mr9GYWmb8/doig5rvGwT8VdjDm16TJP8Xi3MsiudA/f4XMlUE11T+070BTZQ7bP0PHUEZDg+E/dazWskpj5z88gIeaz7btPxTAICvwPO0/Jtmwx8AR5z+xu+WPDnThP2H7yRgfJto/9R+I4kSq0z945Juvip7OP7XcPlATosg/jldiliRswz9v9gfKbfu8P5av/uFE+rU/KtJdD6+2sT/rIBykwRyrP+Oji245bqI/Wj8AIFw+mj/0E+98FraUP5Bx8EWurYU/rwGTW+tDNT9oQ/10HDRxP32rLAy8U5o/AaEH1CGLqj8YKRUGxYy0P6Ja6Vog5rs/1QRR9wFIwD+WBfJwK1LCP9NP9p7jhsQ/MS5N+ELUxj/GHhRzlCzJP5zJL2qUgcs/UsDR6dRwzT9jey3ovTHPP6xnMUZeddA/O4PQiyRL0T93taLufxfSP01URo4629I/EbZMRMcn1D+SeQUe70DVP7Z0NxXK/tU/FY7/hnlk1j9ZNs4B3XLWP1fBudCmNNY/CQg5MRy21T9qki/TvATVP7uB4eD7MNQ/J1Y+slZA0z92DWVu3x/SP4BWqlUFtNA/2KCKdnALzj8eohM6lpTKP2wTm01Pccc/kaC2FRTpxD+w7HpQ7V/DP///5mJf9MU/\",\"dtype\":\"float64\",\"shape\":[75]},\"y\":{\"__ndarray__\":\"GhExyth1ND/Sv8nbtpRIP2vylNV0PVE/aTum7souWD/At0SJ8fVgPw3Iuahxymc/MSNhhJWvcD/bTfBN02d3P2zb5nxnaoA/CD5h5MAGhz8NmeH1TyaQP+zrCsc9p5Y/LbKd76fGnz/bLW5ISEmmPww9YvTcQq8/JV2OstnstT8Er5Y7M8G+P0c+r3jqkcU/5h99k6ZBzj88bCIzFzjVP4enV8oyxN0//yH99nXg5D8qOpLLf0jtP5kqGJXUifQ/c9cS8kHP/D+/DpwzojQEQIEmwoanVwxA4lgXt9HgE0BSSZ2AJuIbQAMJih9jjiNA5q4l5INuK0AwTKYKRj0zQNv5fmq8/DpAaCJseHrtQkB/+zpwzoxKQM3MzMzMeFJAZmZmZmZqWEAAAAAAAFxeQM3MzMzMJmJAmpmZmZkfZUBmZmZmZhhoQDMzMzMzEWtAAAAAAAAKbkBmZmZmZoFwQM3MzMzM/XFAMzMzMzN6c0CamZmZmfZ0QAAAAAAAc3ZAZmZmZmbvd0DNzMzMzGt5QDMzMzMz6HpAmpmZmZlkfEAAAAAAAOF9QGZmZmZmXX9AZmZmZuZsgECamZmZGSuBQM3MzMxM6YFAAAAAAICngkAzMzMzs2WDQGZmZmbmI4RAmpmZmRnihEDNzMzMTKCFQAAAAACAXoZAMzMzM7Mch0BmZmZm5tqHQJqZmZkZmYhAzczMzExXiUAAAAAAgBWKQDMzMzOz04pAZmZmZuaRi0CamZmZGVCMQM3MzMxMDo1AAAAAAIDMjUAzMzMzs4qOQGZmZmbmSI9A\",\"dtype\":\"float64\",\"shape\":[75]}}},\"id\":\"784201a1-748b-40d1-bb07-14b02c9f68b0\",\"type\":\"ColumnDataSource\"},{\"attributes\":{\"plot\":{\"id\":\"5f8489c1-0444-476d-957a-c248270cfe7d\",\"subtype\":\"Figure\",\"type\":\"Plot\"},\"ticker\":{\"id\":\"995b196b-35dc-4201-97c3-01d78e1ae627\",\"type\":\"BasicTicker\"}},\"id\":\"978f811c-468c-4272-9c7d-736aac6fcfeb\",\"type\":\"Grid\"},{\"attributes\":{},\"id\":\"8333d626-fc75-4850-b954-b3bdcfab5663\",\"type\":\"BasicTickFormatter\"},{\"attributes\":{\"source\":{\"id\":\"33e28ebd-a2e5-4837-b5c4-79e2e6982278\",\"type\":\"ColumnDataSource\"}},\"id\":\"0522c16e-0b8f-4306-b53b-716018174626\",\"type\":\"CDSView\"},{\"attributes\":{\"num_minor_ticks\":10},\"id\":\"e9b5cf96-cd9e-41c7-9f83-fde32cdacd3a\",\"type\":\"LogTicker\"},{\"attributes\":{\"source\":{\"id\":\"729b5ed7-dfe2-4058-80af-42d5fa52ef1c\",\"type\":\"ColumnDataSource\"}},\"id\":\"c4ac4c00-5f3d-4224-909e-a7d79a808e5a\",\"type\":\"CDSView\"},{\"attributes\":{\"callback\":null,\"column_names\":[\"x\",\"y\"],\"data\":{\"x\":{\"__ndarray__\":\"QNhrct9H1T+20QhPS2DVPwXHI8AC+9U/TJ8E07yl1j+B4hEm1jPXP8uiTWHnntc/ZehUCYHi1z+utgfGZuzXPwnVtCg/q9c/RhvTVbIK1z8JpAbLv/PVP0Op3pafRtQ/FfVRX/ng0T84QeWpWEbNP8/FtnfTTsg/WQZqayOiyj/LmwXSrMnQP+UJCNYGYdM/UMeEFBOG1T+HWg1obcPYP2a0Xbqs9t4/PMInpbn45D8BaBhnoTfrP5E9CCIHXOs/n3hK3msu5j9nTF7wq2rhPzmc+dUcoNs/uxh3QUwb1j89H/Ft8sLRP1oxGgEuK8w/4m73D3VhxT9wi0NHvIa+P4zbAB36L7Y/C1kaTlLGsT/badMnpd+sP/N6salTG6Y/ERQFG1OHoT8SVFW0rtucP5f1lRnM5ZA/TC3d2eV/cD8K1+tq7gB9P+CxckTLdZ0/T6oxrNgbrD+H48YbAyy1P4Z7n4k0Grw/1hTxa140wD+k3GTx7grCP+OwC3Fy4MM/SphI7W6zxT+cnGcNWp/HP5tYng/or8k/cLJP+FOAyz8nfpQqtCDNP9a0xRQwqs4/hwhqvmsM0D/tV2xZ37zQP1kmkbc7b9E/7sbMT7up0j8NLfwqCsXTP5HeJpKemNQ/8ezZEG8f1T8zPA9R+VXVP7hxrAejRNU/x4bqvWP+1D+b37QJxZDUPxoZYPYdCdQ/FT1s+bNl0z+CxBs+jovSPxSFK9r7WNE/euv0ah2ozz9tuch3CGfMP3aLXS4kWMk/WyU3DuXZxj8PMAy7nFDFP0Di9IEmusc/\",\"dtype\":\"float64\",\"shape\":[75]},\"y\":{\"__ndarray__\":\"GhExyth1ND/Sv8nbtpRIP2vylNV0PVE/aTum7souWD/At0SJ8fVgPw3Iuahxymc/MSNhhJWvcD/bTfBN02d3P2zb5nxnaoA/CD5h5MAGhz8NmeH1TyaQP+zrCsc9p5Y/LbKd76fGnz/bLW5ISEmmPww9YvTcQq8/JV2OstnstT8Er5Y7M8G+P0c+r3jqkcU/5h99k6ZBzj88bCIzFzjVP4enV8oyxN0//yH99nXg5D8qOpLLf0jtP5kqGJXUifQ/c9cS8kHP/D+/DpwzojQEQIEmwoanVwxA4lgXt9HgE0BSSZ2AJuIbQAMJih9jjiNA5q4l5INuK0AwTKYKRj0zQNv5fmq8/DpAaCJseHrtQkB/+zpwzoxKQM3MzMzMeFJAZmZmZmZqWEAAAAAAAFxeQM3MzMzMJmJAmpmZmZkfZUBmZmZmZhhoQDMzMzMzEWtAAAAAAAAKbkBmZmZmZoFwQM3MzMzM/XFAMzMzMzN6c0CamZmZmfZ0QAAAAAAAc3ZAZmZmZmbvd0DNzMzMzGt5QDMzMzMz6HpAmpmZmZlkfEAAAAAAAOF9QGZmZmZmXX9AZmZmZuZsgECamZmZGSuBQM3MzMxM6YFAAAAAAICngkAzMzMzs2WDQGZmZmbmI4RAmpmZmRnihEDNzMzMTKCFQAAAAACAXoZAMzMzM7Mch0BmZmZm5tqHQJqZmZkZmYhAzczMzExXiUAAAAAAgBWKQDMzMzOz04pAZmZmZuaRi0CamZmZGVCMQM3MzMxMDo1AAAAAAIDMjUAzMzMzs4qOQGZmZmbmSI9A\",\"dtype\":\"float64\",\"shape\":[75]}}},\"id\":\"69eeb3c2-61ef-4c81-8e00-1f3e7c9f6818\",\"type\":\"ColumnDataSource\"},{\"attributes\":{\"children\":[{\"id\":\"1a30dd55-97c4-4d03-88ec-3e7fc51031e0\",\"type\":\"ToolbarBox\"},{\"id\":\"20514df5-f9ff-4139-a379-3ad4741a68c4\",\"type\":\"Column\"}]},\"id\":\"eccd7016-5b21-49af-a121-e3191a6479dc\",\"type\":\"Column\"},{\"attributes\":{},\"id\":\"99020e96-748c-49f8-8bf7-6f36385fc9c3\",\"type\":\"ResetTool\"},{\"attributes\":{\"line_alpha\":0.1,\"line_color\":\"#1f77b4\",\"line_width\":1.5,\"x\":{\"field\":\"x\"},\"y\":{\"field\":\"y\"}},\"id\":\"93430eae-2abf-4f3f-8436-504ab98c400d\",\"type\":\"Line\"},{\"attributes\":{\"data_source\":{\"id\":\"ac5b79d1-1bc9-40be-8cf4-2adb0fbc0a50\",\"type\":\"ColumnDataSource\"},\"glyph\":{\"id\":\"b3d6c970-1333-4169-b264-54466d6fb9ab\",\"type\":\"Line\"},\"hover_glyph\":null,\"muted_glyph\":null,\"nonselection_glyph\":{\"id\":\"287bc7a3-890a-4a1d-80ed-03aa1c4dfa16\",\"type\":\"Line\"},\"selection_glyph\":null,\"view\":{\"id\":\"68c68d66-f56e-4ee5-ab93-5ce6d0735bc6\",\"type\":\"CDSView\"}},\"id\":\"6aeb1843-62f3-4416-b658-9a6eb04076a3\",\"type\":\"GlyphRenderer\"},{\"attributes\":{\"data_source\":{\"id\":\"784201a1-748b-40d1-bb07-14b02c9f68b0\",\"type\":\"ColumnDataSource\"},\"glyph\":{\"id\":\"38c28482-281d-4e43-8c49-8086af02a406\",\"type\":\"Line\"},\"hover_glyph\":null,\"muted_glyph\":null,\"nonselection_glyph\":{\"id\":\"93430eae-2abf-4f3f-8436-504ab98c400d\",\"type\":\"Line\"},\"selection_glyph\":null,\"view\":{\"id\":\"3cec22dc-b09c-4133-accb-998193b2bccb\",\"type\":\"CDSView\"}},\"id\":\"7ea11e9c-314c-487a-892f-6d34c7702d7a\",\"type\":\"GlyphRenderer\"},{\"attributes\":{\"callback\":null,\"column_names\":[\"x\",\"y\"],\"data\":{\"x\":{\"__ndarray__\":\"QNhrct9H1T+20QhPS2DVPwXHI8AC+9U/TJ8E07yl1j+B4hEm1jPXP8uiTWHnntc/ZehUCYHi1z+utgfGZuzXPwnVtCg/q9c/RhvTVbIK1z8JpAbLv/PVP0Op3pafRtQ/FfVRX/ng0T84QeWpWEbNP8/FtnfTTsg/WQZqayOiyj/LmwXSrMnQP+UJCNYGYdM/UMeEFBOG1T+HWg1obcPYP2a0Xbqs9t4/PMInpbn45D8BaBhnoTfrP5E9CCIHXOs/n3hK3msu5j9nTF7wq2rhPzmc+dUcoNs/uxh3QUwb1j89H/Ft8sLRP1oxGgEuK8w/4m73D3VhxT9wi0NHvIa+P4zbAB36L7Y/C1kaTlLGsT/badMnpd+sP/N6salTG6Y/ERQFG1OHoT8SVFW0rtucP5f1lRnM5ZA/TC3d2eV/cD8K1+tq7gB9P+CxckTLdZ0/T6oxrNgbrD+H48YbAyy1P4Z7n4k0Grw/1hTxa140wD+k3GTx7grCP+OwC3Fy4MM/SphI7W6zxT+cnGcNWp/HP5tYng/or8k/cLJP+FOAyz8nfpQqtCDNP9a0xRQwqs4/hwhqvmsM0D/tV2xZ37zQP1kmkbc7b9E/7sbMT7up0j8NLfwqCsXTP5HeJpKemNQ/8ezZEG8f1T8zPA9R+VXVP7hxrAejRNU/x4bqvWP+1D+b37QJxZDUPxoZYPYdCdQ/FT1s+bNl0z+CxBs+jovSPxSFK9r7WNE/euv0ah2ozz9tuch3CGfMP3aLXS4kWMk/WyU3DuXZxj8PMAy7nFDFP0Di9IEmusc/\",\"dtype\":\"float64\",\"shape\":[75]},\"y\":{\"__ndarray__\":\"GhExyth1ND/Sv8nbtpRIP2vylNV0PVE/aTum7souWD/At0SJ8fVgPw3Iuahxymc/MSNhhJWvcD/bTfBN02d3P2zb5nxnaoA/CD5h5MAGhz8NmeH1TyaQP+zrCsc9p5Y/LbKd76fGnz/bLW5ISEmmPww9YvTcQq8/JV2OstnstT8Er5Y7M8G+P0c+r3jqkcU/5h99k6ZBzj88bCIzFzjVP4enV8oyxN0//yH99nXg5D8qOpLLf0jtP5kqGJXUifQ/c9cS8kHP/D+/DpwzojQEQIEmwoanVwxA4lgXt9HgE0BSSZ2AJuIbQAMJih9jjiNA5q4l5INuK0AwTKYKRj0zQNv5fmq8/DpAaCJseHrtQkB/+zpwzoxKQM3MzMzMeFJAZmZmZmZqWEAAAAAAAFxeQM3MzMzMJmJAmpmZmZkfZUBmZmZmZhhoQDMzMzMzEWtAAAAAAAAKbkBmZmZmZoFwQM3MzMzM/XFAMzMzMzN6c0CamZmZmfZ0QAAAAAAAc3ZAZmZmZmbvd0DNzMzMzGt5QDMzMzMz6HpAmpmZmZlkfEAAAAAAAOF9QGZmZmZmXX9AZmZmZuZsgECamZmZGSuBQM3MzMxM6YFAAAAAAICngkAzMzMzs2WDQGZmZmbmI4RAmpmZmRnihEDNzMzMTKCFQAAAAACAXoZAMzMzM7Mch0BmZmZm5tqHQJqZmZkZmYhAzczMzExXiUAAAAAAgBWKQDMzMzOz04pAZmZmZuaRi0CamZmZGVCMQM3MzMxMDo1AAAAAAIDMjUAzMzMzs4qOQGZmZmbmSI9A\",\"dtype\":\"float64\",\"shape\":[75]}}},\"id\":\"819d6efb-87c3-4d39-b382-afe13eac54ca\",\"type\":\"ColumnDataSource\"},{\"attributes\":{},\"id\":\"f929570a-e5bb-40cc-9859-7629b1ca3014\",\"type\":\"LinearScale\"},{\"attributes\":{\"data_source\":{\"id\":\"33e28ebd-a2e5-4837-b5c4-79e2e6982278\",\"type\":\"ColumnDataSource\"},\"glyph\":{\"id\":\"e5033bb9-95fa-40b0-85ea-0c0a0a52ac81\",\"type\":\"Circle\"},\"hover_glyph\":null,\"muted_glyph\":null,\"nonselection_glyph\":{\"id\":\"375f08de-2611-468b-ae91-7ad40f8b55d1\",\"type\":\"Circle\"},\"selection_glyph\":null,\"view\":{\"id\":\"0522c16e-0b8f-4306-b53b-716018174626\",\"type\":\"CDSView\"}},\"id\":\"49c0b642-0d34-46af-9d50-ea2653c48975\",\"type\":\"GlyphRenderer\"},{\"attributes\":{\"source\":{\"id\":\"784201a1-748b-40d1-bb07-14b02c9f68b0\",\"type\":\"ColumnDataSource\"}},\"id\":\"3cec22dc-b09c-4133-accb-998193b2bccb\",\"type\":\"CDSView\"},{\"attributes\":{\"fill_alpha\":{\"value\":0.7},\"fill_color\":{\"value\":\"#984ea3\"},\"line_alpha\":{\"value\":0.7},\"line_color\":{\"value\":\"#984ea3\"},\"x\":{\"field\":\"x\"},\"y\":{\"field\":\"y\"}},\"id\":\"775d552f-1173-4d21-83a1-92f7e2d65d9b\",\"type\":\"Square\"},{\"attributes\":{\"data_source\":{\"id\":\"69eeb3c2-61ef-4c81-8e00-1f3e7c9f6818\",\"type\":\"ColumnDataSource\"},\"glyph\":{\"id\":\"775d552f-1173-4d21-83a1-92f7e2d65d9b\",\"type\":\"Square\"},\"hover_glyph\":null,\"muted_glyph\":null,\"nonselection_glyph\":{\"id\":\"30f41e6e-58e5-4bf6-be44-885488f3e4c6\",\"type\":\"Square\"},\"selection_glyph\":null,\"view\":{\"id\":\"8e6f019d-a737-431c-8cab-855d0e90ed59\",\"type\":\"CDSView\"}},\"id\":\"96aee2c7-6137-41c7-aa1c-ddb14d8286bd\",\"type\":\"GlyphRenderer\"},{\"attributes\":{\"callback\":null,\"end\":0.9378482030712,\"start\":-0.008957930191200001},\"id\":\"3cb1b5e0-e10a-4bdd-9d76-b5cb964a0a49\",\"type\":\"Range1d\"},{\"attributes\":{},\"id\":\"04f695a1-e3ee-434c-be8c-ca35d4555e24\",\"type\":\"LinearScale\"},{\"attributes\":{\"fill_alpha\":{\"value\":0.1},\"fill_color\":{\"value\":\"#1f77b4\"},\"line_alpha\":{\"value\":0.1},\"line_color\":{\"value\":\"#1f77b4\"},\"x\":{\"field\":\"x\"},\"y\":{\"field\":\"y\"}},\"id\":\"30f41e6e-58e5-4bf6-be44-885488f3e4c6\",\"type\":\"Square\"},{\"attributes\":{\"overlay\":{\"id\":\"16e99f2f-f6b1-44f5-9366-3657b17cb969\",\"type\":\"BoxAnnotation\"}},\"id\":\"c4feda1b-7945-4754-a970-d05fd9acfa93\",\"type\":\"BoxZoomTool\"},{\"attributes\":{\"source\":{\"id\":\"69eeb3c2-61ef-4c81-8e00-1f3e7c9f6818\",\"type\":\"ColumnDataSource\"}},\"id\":\"8e6f019d-a737-431c-8cab-855d0e90ed59\",\"type\":\"CDSView\"},{\"attributes\":{\"line_alpha\":0.6,\"line_color\":\"#984ea3\",\"line_width\":3,\"x\":{\"field\":\"x\"},\"y\":{\"field\":\"y\"}},\"id\":\"4078cc32-1c06-4f95-91f7-22ebb08c5f75\",\"type\":\"Line\"},{\"attributes\":{\"data_source\":{\"id\":\"819d6efb-87c3-4d39-b382-afe13eac54ca\",\"type\":\"ColumnDataSource\"},\"glyph\":{\"id\":\"4078cc32-1c06-4f95-91f7-22ebb08c5f75\",\"type\":\"Line\"},\"hover_glyph\":null,\"muted_glyph\":null,\"nonselection_glyph\":{\"id\":\"b3d4444c-f103-4c00-94c0-0210ab62ca1b\",\"type\":\"Line\"},\"selection_glyph\":null,\"view\":{\"id\":\"2bbcf3fb-6141-4c71-9af6-f1953668a1a4\",\"type\":\"CDSView\"}},\"id\":\"401feb26-8781-4bcd-a472-cde80dac3bec\",\"type\":\"GlyphRenderer\"},{\"attributes\":{\"callback\":null,\"end\":0.01,\"start\":1020},\"id\":\"a6e5df2f-f80e-48cd-8d3e-5a675952782c\",\"type\":\"Range1d\"},{\"attributes\":{\"callback\":null,\"column_names\":[\"x\",\"y\"],\"data\":{\"x\":{\"__ndarray__\":\"nluNkZGY2j/OtJKQJ03aP1/olduL4to/IL9tXLVh2z9FeKSPM6zbP2ckhD+qvts/Z3lg+G972z9XI/3uBNjaP+yhv8iyvdk/wlpK0D4a2D8NObaeIdzVPx0YSGmZ+dI/Hcua3BjQzj90gi7IMzvGP7mr9GYWmb8/doig5rvGwT8VdjDm16TJP8Xi3MsiudA/f4XMlUE11T+070BTZQ7bP0PHUEZDg+E/dazWskpj5z88gIeaz7btPxTAICvwPO0/Jtmwx8AR5z+xu+WPDnThP2H7yRgfJto/9R+I4kSq0z945Juvip7OP7XcPlATosg/jldiliRswz9v9gfKbfu8P5av/uFE+rU/KtJdD6+2sT/rIBykwRyrP+Oji245bqI/Wj8AIFw+mj/0E+98FraUP5Bx8EWurYU/rwGTW+tDNT9oQ/10HDRxP32rLAy8U5o/AaEH1CGLqj8YKRUGxYy0P6Ja6Vog5rs/1QRR9wFIwD+WBfJwK1LCP9NP9p7jhsQ/MS5N+ELUxj/GHhRzlCzJP5zJL2qUgcs/UsDR6dRwzT9jey3ovTHPP6xnMUZeddA/O4PQiyRL0T93taLufxfSP01URo4629I/EbZMRMcn1D+SeQUe70DVP7Z0NxXK/tU/FY7/hnlk1j9ZNs4B3XLWP1fBudCmNNY/CQg5MRy21T9qki/TvATVP7uB4eD7MNQ/J1Y+slZA0z92DWVu3x/SP4BWqlUFtNA/2KCKdnALzj8eohM6lpTKP2wTm01Pccc/kaC2FRTpxD+w7HpQ7V/DP///5mJf9MU/\",\"dtype\":\"float64\",\"shape\":[75]},\"y\":{\"__ndarray__\":\"GhExyth1ND/Sv8nbtpRIP2vylNV0PVE/aTum7souWD/At0SJ8fVgPw3Iuahxymc/MSNhhJWvcD/bTfBN02d3P2zb5nxnaoA/CD5h5MAGhz8NmeH1TyaQP+zrCsc9p5Y/LbKd76fGnz/bLW5ISEmmPww9YvTcQq8/JV2OstnstT8Er5Y7M8G+P0c+r3jqkcU/5h99k6ZBzj88bCIzFzjVP4enV8oyxN0//yH99nXg5D8qOpLLf0jtP5kqGJXUifQ/c9cS8kHP/D+/DpwzojQEQIEmwoanVwxA4lgXt9HgE0BSSZ2AJuIbQAMJih9jjiNA5q4l5INuK0AwTKYKRj0zQNv5fmq8/DpAaCJseHrtQkB/+zpwzoxKQM3MzMzMeFJAZmZmZmZqWEAAAAAAAFxeQM3MzMzMJmJAmpmZmZkfZUBmZmZmZhhoQDMzMzMzEWtAAAAAAAAKbkBmZmZmZoFwQM3MzMzM/XFAMzMzMzN6c0CamZmZmfZ0QAAAAAAAc3ZAZmZmZmbvd0DNzMzMzGt5QDMzMzMz6HpAmpmZmZlkfEAAAAAAAOF9QGZmZmZmXX9AZmZmZuZsgECamZmZGSuBQM3MzMxM6YFAAAAAAICngkAzMzMzs2WDQGZmZmbmI4RAmpmZmRnihEDNzMzMTKCFQAAAAACAXoZAMzMzM7Mch0BmZmZm5tqHQJqZmZkZmYhAzczMzExXiUAAAAAAgBWKQDMzMzOz04pAZmZmZuaRi0CamZmZGVCMQM3MzMxMDo1AAAAAAIDMjUAzMzMzs4qOQGZmZmbmSI9A\",\"dtype\":\"float64\",\"shape\":[75]}}},\"id\":\"ac5b79d1-1bc9-40be-8cf4-2adb0fbc0a50\",\"type\":\"ColumnDataSource\"},{\"attributes\":{\"line_alpha\":0.1,\"line_color\":\"#1f77b4\",\"line_width\":3,\"x\":{\"field\":\"x\"},\"y\":{\"field\":\"y\"}},\"id\":\"b3d4444c-f103-4c00-94c0-0210ab62ca1b\",\"type\":\"Line\"},{\"attributes\":{\"callback\":null,\"column_names\":[\"x\",\"y\"],\"data\":{\"x\":{\"__ndarray__\":\"QNhrct9H1T+20QhPS2DVPwXHI8AC+9U/TJ8E07yl1j+B4hEm1jPXP8uiTWHnntc/ZehUCYHi1z+utgfGZuzXPwnVtCg/q9c/RhvTVbIK1z8JpAbLv/PVP0Op3pafRtQ/FfVRX/ng0T84QeWpWEbNP8/FtnfTTsg/WQZqayOiyj/LmwXSrMnQP+UJCNYGYdM/UMeEFBOG1T+HWg1obcPYP2a0Xbqs9t4/PMInpbn45D8BaBhnoTfrP5E9CCIHXOs/n3hK3msu5j9nTF7wq2rhPzmc+dUcoNs/uxh3QUwb1j89H/Ft8sLRP1oxGgEuK8w/4m73D3VhxT9wi0NHvIa+P4zbAB36L7Y/C1kaTlLGsT/badMnpd+sP/N6salTG6Y/ERQFG1OHoT8SVFW0rtucP5f1lRnM5ZA/TC3d2eV/cD8K1+tq7gB9P+CxckTLdZ0/T6oxrNgbrD+H48YbAyy1P4Z7n4k0Grw/1hTxa140wD+k3GTx7grCP+OwC3Fy4MM/SphI7W6zxT+cnGcNWp/HP5tYng/or8k/cLJP+FOAyz8nfpQqtCDNP9a0xRQwqs4/hwhqvmsM0D/tV2xZ37zQP1kmkbc7b9E/7sbMT7up0j8NLfwqCsXTP5HeJpKemNQ/8ezZEG8f1T8zPA9R+VXVP7hxrAejRNU/x4bqvWP+1D+b37QJxZDUPxoZYPYdCdQ/FT1s+bNl0z+CxBs+jovSPxSFK9r7WNE/euv0ah2ozz9tuch3CGfMP3aLXS4kWMk/WyU3DuXZxj8PMAy7nFDFP0Di9IEmusc/\",\"dtype\":\"float64\",\"shape\":[75]},\"y\":{\"__ndarray__\":\"GhExyth1ND/Sv8nbtpRIP2vylNV0PVE/aTum7souWD/At0SJ8fVgPw3Iuahxymc/MSNhhJWvcD/bTfBN02d3P2zb5nxnaoA/CD5h5MAGhz8NmeH1TyaQP+zrCsc9p5Y/LbKd76fGnz/bLW5ISEmmPww9YvTcQq8/JV2OstnstT8Er5Y7M8G+P0c+r3jqkcU/5h99k6ZBzj88bCIzFzjVP4enV8oyxN0//yH99nXg5D8qOpLLf0jtP5kqGJXUifQ/c9cS8kHP/D+/DpwzojQEQIEmwoanVwxA4lgXt9HgE0BSSZ2AJuIbQAMJih9jjiNA5q4l5INuK0AwTKYKRj0zQNv5fmq8/DpAaCJseHrtQkB/+zpwzoxKQM3MzMzMeFJAZmZmZmZqWEAAAAAAAFxeQM3MzMzMJmJAmpmZmZkfZUBmZmZmZhhoQDMzMzMzEWtAAAAAAAAKbkBmZmZmZoFwQM3MzMzM/XFAMzMzMzN6c0CamZmZmfZ0QAAAAAAAc3ZAZmZmZmbvd0DNzMzMzGt5QDMzMzMz6HpAmpmZmZlkfEAAAAAAAOF9QGZmZmZmXX9AZmZmZuZsgECamZmZGSuBQM3MzMxM6YFAAAAAAICngkAzMzMzs2WDQGZmZmbmI4RAmpmZmRnihEDNzMzMTKCFQAAAAACAXoZAMzMzM7Mch0BmZmZm5tqHQJqZmZkZmYhAzczMzExXiUAAAAAAgBWKQDMzMzOz04pAZmZmZuaRi0CamZmZGVCMQM3MzMxMDo1AAAAAAIDMjUAzMzMzs4qOQGZmZmbmSI9A\",\"dtype\":\"float64\",\"shape\":[75]}}},\"id\":\"8838bb0f-0620-4774-8f3c-602f650edc8d\",\"type\":\"ColumnDataSource\"},{\"attributes\":{\"source\":{\"id\":\"819d6efb-87c3-4d39-b382-afe13eac54ca\",\"type\":\"ColumnDataSource\"}},\"id\":\"2bbcf3fb-6141-4c71-9af6-f1953668a1a4\",\"type\":\"CDSView\"},{\"attributes\":{},\"id\":\"b90d837c-cfa7-4836-b3f1-b0eb44a008bd\",\"type\":\"PanTool\"},{\"attributes\":{\"items\":[{\"id\":\"478a1c15-07d1-4598-b94c-26af4e83a93d\",\"type\":\"LegendItem\"},{\"id\":\"c1ee1af7-dc0c-4b94-a45a-2015f42ba3e3\",\"type\":\"LegendItem\"},{\"id\":\"bbde3c1e-207b-4d7c-b5dc-190ef04a32f6\",\"type\":\"LegendItem\"}],\"label_text_font_size\":{\"value\":\"8pt\"},\"location\":[10,-30],\"plot\":{\"id\":\"d9c6abd6-74cb-4d0c-9697-510654af41f0\",\"subtype\":\"Figure\",\"type\":\"Plot\"}},\"id\":\"12f796b1-c2b9-488d-b860-b5267232aa8c\",\"type\":\"Legend\"},{\"attributes\":{\"fill_alpha\":{\"value\":0.7},\"fill_color\":{\"value\":\"#984ea3\"},\"line_alpha\":{\"value\":0.7},\"line_color\":{\"value\":\"#984ea3\"},\"x\":{\"field\":\"x\"},\"y\":{\"field\":\"y\"}},\"id\":\"c37fa69b-7974-4dac-88e9-d85822f5e348\",\"type\":\"Square\"},{\"attributes\":{\"toolbar\":{\"id\":\"17dffddf-d339-4f42-a09b-8745c40c5d28\",\"type\":\"ProxyToolbar\"},\"toolbar_location\":\"above\"},\"id\":\"1a30dd55-97c4-4d03-88ec-3e7fc51031e0\",\"type\":\"ToolbarBox\"},{\"attributes\":{},\"id\":\"fd9e2704-e032-4186-bcf4-7a7f00e33880\",\"type\":\"HelpTool\"},{\"attributes\":{\"callback\":null,\"column_names\":[\"x\",\"y\"],\"data\":{\"x\":{\"__ndarray__\":\"nluNkZGY2j/OtJKQJ03aP1/olduL4to/IL9tXLVh2z9FeKSPM6zbP2ckhD+qvts/Z3lg+G972z9XI/3uBNjaP+yhv8iyvdk/wlpK0D4a2D8NObaeIdzVPx0YSGmZ+dI/Hcua3BjQzj90gi7IMzvGP7mr9GYWmb8/doig5rvGwT8VdjDm16TJP8Xi3MsiudA/f4XMlUE11T+070BTZQ7bP0PHUEZDg+E/dazWskpj5z88gIeaz7btPxTAICvwPO0/Jtmwx8AR5z+xu+WPDnThP2H7yRgfJto/9R+I4kSq0z945Juvip7OP7XcPlATosg/jldiliRswz9v9gfKbfu8P5av/uFE+rU/KtJdD6+2sT/rIBykwRyrP+Oji245bqI/Wj8AIFw+mj/0E+98FraUP5Bx8EWurYU/rwGTW+tDNT9oQ/10HDRxP32rLAy8U5o/AaEH1CGLqj8YKRUGxYy0P6Ja6Vog5rs/1QRR9wFIwD+WBfJwK1LCP9NP9p7jhsQ/MS5N+ELUxj/GHhRzlCzJP5zJL2qUgcs/UsDR6dRwzT9jey3ovTHPP6xnMUZeddA/O4PQiyRL0T93taLufxfSP01URo4629I/EbZMRMcn1D+SeQUe70DVP7Z0NxXK/tU/FY7/hnlk1j9ZNs4B3XLWP1fBudCmNNY/CQg5MRy21T9qki/TvATVP7uB4eD7MNQ/J1Y+slZA0z92DWVu3x/SP4BWqlUFtNA/2KCKdnALzj8eohM6lpTKP2wTm01Pccc/kaC2FRTpxD+w7HpQ7V/DP///5mJf9MU/\",\"dtype\":\"float64\",\"shape\":[75]},\"y\":{\"__ndarray__\":\"GhExyth1ND/Sv8nbtpRIP2vylNV0PVE/aTum7souWD/At0SJ8fVgPw3Iuahxymc/MSNhhJWvcD/bTfBN02d3P2zb5nxnaoA/CD5h5MAGhz8NmeH1TyaQP+zrCsc9p5Y/LbKd76fGnz/bLW5ISEmmPww9YvTcQq8/JV2OstnstT8Er5Y7M8G+P0c+r3jqkcU/5h99k6ZBzj88bCIzFzjVP4enV8oyxN0//yH99nXg5D8qOpLLf0jtP5kqGJXUifQ/c9cS8kHP/D+/DpwzojQEQIEmwoanVwxA4lgXt9HgE0BSSZ2AJuIbQAMJih9jjiNA5q4l5INuK0AwTKYKRj0zQNv5fmq8/DpAaCJseHrtQkB/+zpwzoxKQM3MzMzMeFJAZmZmZmZqWEAAAAAAAFxeQM3MzMzMJmJAmpmZmZkfZUBmZmZmZhhoQDMzMzMzEWtAAAAAAAAKbkBmZmZmZoFwQM3MzMzM/XFAMzMzMzN6c0CamZmZmfZ0QAAAAAAAc3ZAZmZmZmbvd0DNzMzMzGt5QDMzMzMz6HpAmpmZmZlkfEAAAAAAAOF9QGZmZmZmXX9AZmZmZuZsgECamZmZGSuBQM3MzMxM6YFAAAAAAICngkAzMzMzs2WDQGZmZmbmI4RAmpmZmRnihEDNzMzMTKCFQAAAAACAXoZAMzMzM7Mch0BmZmZm5tqHQJqZmZkZmYhAzczMzExXiUAAAAAAgBWKQDMzMzOz04pAZmZmZuaRi0CamZmZGVCMQM3MzMxMDo1AAAAAAIDMjUAzMzMzs4qOQGZmZmbmSI9A\",\"dtype\":\"float64\",\"shape\":[75]}}},\"id\":\"729b5ed7-dfe2-4058-80af-42d5fa52ef1c\",\"type\":\"ColumnDataSource\"},{\"attributes\":{},\"id\":\"f4eb4af8-1fb7-4ac5-a6a9-897eb570e5d6\",\"type\":\"SaveTool\"},{\"attributes\":{\"line_alpha\":0.1,\"line_color\":\"#1f77b4\",\"line_width\":1.5,\"x\":{\"field\":\"x\"},\"y\":{\"field\":\"y\"}},\"id\":\"287bc7a3-890a-4a1d-80ed-03aa1c4dfa16\",\"type\":\"Line\"},{\"attributes\":{},\"id\":\"995b196b-35dc-4201-97c3-01d78e1ae627\",\"type\":\"BasicTicker\"},{\"attributes\":{\"axis_label\":\"cooling rate [K/day]\",\"formatter\":{\"id\":\"8333d626-fc75-4850-b954-b3bdcfab5663\",\"type\":\"BasicTickFormatter\"},\"plot\":{\"id\":\"5f8489c1-0444-476d-957a-c248270cfe7d\",\"subtype\":\"Figure\",\"type\":\"Plot\"},\"ticker\":{\"id\":\"995b196b-35dc-4201-97c3-01d78e1ae627\",\"type\":\"BasicTicker\"}},\"id\":\"d82dcde8-cea9-4e09-88ac-0331a36a3f85\",\"type\":\"LinearAxis\"},{\"attributes\":{\"source\":{\"id\":\"ac5b79d1-1bc9-40be-8cf4-2adb0fbc0a50\",\"type\":\"ColumnDataSource\"}},\"id\":\"68c68d66-f56e-4ee5-ab93-5ce6d0735bc6\",\"type\":\"CDSView\"},{\"attributes\":{\"fill_alpha\":{\"value\":0.1},\"fill_color\":{\"value\":\"#1f77b4\"},\"line_alpha\":{\"value\":0.1},\"line_color\":{\"value\":\"#1f77b4\"},\"x\":{\"field\":\"x\"},\"y\":{\"field\":\"y\"}},\"id\":\"779237cc-68f6-463d-b161-b4ef77194283\",\"type\":\"Square\"},{\"attributes\":{},\"id\":\"1a1b4a33-1f1e-4a0f-8203-0fcd09bb9370\",\"type\":\"WheelZoomTool\"},{\"attributes\":{\"below\":[{\"id\":\"d82dcde8-cea9-4e09-88ac-0331a36a3f85\",\"type\":\"LinearAxis\"}],\"left\":[{\"id\":\"4cd68090-693d-4dd0-a266-62ffa05e5565\",\"type\":\"LinearAxis\"}],\"plot_height\":500,\"plot_width\":400,\"renderers\":[{\"id\":\"d82dcde8-cea9-4e09-88ac-0331a36a3f85\",\"type\":\"LinearAxis\"},{\"id\":\"978f811c-468c-4272-9c7d-736aac6fcfeb\",\"type\":\"Grid\"},{\"id\":\"4cd68090-693d-4dd0-a266-62ffa05e5565\",\"type\":\"LinearAxis\"},{\"id\":\"818ec947-f3e3-4faf-a55b-d2d0654932ff\",\"type\":\"Grid\"},{\"id\":\"16e99f2f-f6b1-44f5-9366-3657b17cb969\",\"type\":\"BoxAnnotation\"},{\"id\":\"572209b2-ff92-4ea5-b775-0ade6ceb32b8\",\"type\":\"GlyphRenderer\"},{\"id\":\"e833448e-5817-4db4-8e08-33b81430be92\",\"type\":\"GlyphRenderer\"},{\"id\":\"6aeb1843-62f3-4416-b658-9a6eb04076a3\",\"type\":\"GlyphRenderer\"},{\"id\":\"08ac9d4b-fcd9-491b-93a5-d98e71e4f050\",\"type\":\"GlyphRenderer\"},{\"id\":\"c85457e0-9d3e-468a-acd1-fa38b83ede00\",\"type\":\"GlyphRenderer\"}],\"title\":{\"id\":\"c9d0318d-5e85-48e6-b668-d768a1fadaec\",\"type\":\"Title\"},\"toolbar\":{\"id\":\"9f542b65-c16b-4811-8266-0d2ce5582242\",\"type\":\"Toolbar\"},\"toolbar_location\":null,\"x_range\":{\"id\":\"1ea3db33-7ee4-4769-a325-74ae08b09f91\",\"type\":\"Range1d\"},\"x_scale\":{\"id\":\"f929570a-e5bb-40cc-9859-7629b1ca3014\",\"type\":\"LinearScale\"},\"y_range\":{\"id\":\"a6e5df2f-f80e-48cd-8d3e-5a675952782c\",\"type\":\"Range1d\"},\"y_scale\":{\"id\":\"04f695a1-e3ee-434c-be8c-ca35d4555e24\",\"type\":\"LinearScale\"}},\"id\":\"5f8489c1-0444-476d-957a-c248270cfe7d\",\"subtype\":\"Figure\",\"type\":\"Plot\"},{\"attributes\":{\"data_source\":{\"id\":\"13065592-653a-4e9b-a8fd-9bd224b59d47\",\"type\":\"ColumnDataSource\"},\"glyph\":{\"id\":\"c37fa69b-7974-4dac-88e9-d85822f5e348\",\"type\":\"Square\"},\"hover_glyph\":null,\"muted_glyph\":null,\"nonselection_glyph\":{\"id\":\"779237cc-68f6-463d-b161-b4ef77194283\",\"type\":\"Square\"},\"selection_glyph\":null,\"view\":{\"id\":\"bdb9f9f0-02ec-44b1-afbf-8c9ca2c9f48a\",\"type\":\"CDSView\"}},\"id\":\"08ac9d4b-fcd9-491b-93a5-d98e71e4f050\",\"type\":\"GlyphRenderer\"},{\"attributes\":{\"plot\":null,\"text\":\"Linear pressure scale\"},\"id\":\"c9d0318d-5e85-48e6-b668-d768a1fadaec\",\"type\":\"Title\"},{\"attributes\":{\"callback\":null,\"column_names\":[\"x\",\"y\"],\"data\":{\"x\":{\"__ndarray__\":\"QNhrct9H1T+20QhPS2DVPwXHI8AC+9U/TJ8E07yl1j+B4hEm1jPXP8uiTWHnntc/ZehUCYHi1z+utgfGZuzXPwnVtCg/q9c/RhvTVbIK1z8JpAbLv/PVP0Op3pafRtQ/FfVRX/ng0T84QeWpWEbNP8/FtnfTTsg/WQZqayOiyj/LmwXSrMnQP+UJCNYGYdM/UMeEFBOG1T+HWg1obcPYP2a0Xbqs9t4/PMInpbn45D8BaBhnoTfrP5E9CCIHXOs/n3hK3msu5j9nTF7wq2rhPzmc+dUcoNs/uxh3QUwb1j89H/Ft8sLRP1oxGgEuK8w/4m73D3VhxT9wi0NHvIa+P4zbAB36L7Y/C1kaTlLGsT/badMnpd+sP/N6salTG6Y/ERQFG1OHoT8SVFW0rtucP5f1lRnM5ZA/TC3d2eV/cD8K1+tq7gB9P+CxckTLdZ0/T6oxrNgbrD+H48YbAyy1P4Z7n4k0Grw/1hTxa140wD+k3GTx7grCP+OwC3Fy4MM/SphI7W6zxT+cnGcNWp/HP5tYng/or8k/cLJP+FOAyz8nfpQqtCDNP9a0xRQwqs4/hwhqvmsM0D/tV2xZ37zQP1kmkbc7b9E/7sbMT7up0j8NLfwqCsXTP5HeJpKemNQ/8ezZEG8f1T8zPA9R+VXVP7hxrAejRNU/x4bqvWP+1D+b37QJxZDUPxoZYPYdCdQ/FT1s+bNl0z+CxBs+jovSPxSFK9r7WNE/euv0ah2ozz9tuch3CGfMP3aLXS4kWMk/WyU3DuXZxj8PMAy7nFDFP0Di9IEmusc/\",\"dtype\":\"float64\",\"shape\":[75]},\"y\":{\"__ndarray__\":\"GhExyth1ND/Sv8nbtpRIP2vylNV0PVE/aTum7souWD/At0SJ8fVgPw3Iuahxymc/MSNhhJWvcD/bTfBN02d3P2zb5nxnaoA/CD5h5MAGhz8NmeH1TyaQP+zrCsc9p5Y/LbKd76fGnz/bLW5ISEmmPww9YvTcQq8/JV2OstnstT8Er5Y7M8G+P0c+r3jqkcU/5h99k6ZBzj88bCIzFzjVP4enV8oyxN0//yH99nXg5D8qOpLLf0jtP5kqGJXUifQ/c9cS8kHP/D+/DpwzojQEQIEmwoanVwxA4lgXt9HgE0BSSZ2AJuIbQAMJih9jjiNA5q4l5INuK0AwTKYKRj0zQNv5fmq8/DpAaCJseHrtQkB/+zpwzoxKQM3MzMzMeFJAZmZmZmZqWEAAAAAAAFxeQM3MzMzMJmJAmpmZmZkfZUBmZmZmZhhoQDMzMzMzEWtAAAAAAAAKbkBmZmZmZoFwQM3MzMzM/XFAMzMzMzN6c0CamZmZmfZ0QAAAAAAAc3ZAZmZmZmbvd0DNzMzMzGt5QDMzMzMz6HpAmpmZmZlkfEAAAAAAAOF9QGZmZmZmXX9AZmZmZuZsgECamZmZGSuBQM3MzMxM6YFAAAAAAICngkAzMzMzs2WDQGZmZmbmI4RAmpmZmRnihEDNzMzMTKCFQAAAAACAXoZAMzMzM7Mch0BmZmZm5tqHQJqZmZkZmYhAzczMzExXiUAAAAAAgBWKQDMzMzOz04pAZmZmZuaRi0CamZmZGVCMQM3MzMxMDo1AAAAAAIDMjUAzMzMzs4qOQGZmZmbmSI9A\",\"dtype\":\"float64\",\"shape\":[75]}}},\"id\":\"13065592-653a-4e9b-a8fd-9bd224b59d47\",\"type\":\"ColumnDataSource\"},{\"attributes\":{\"dimension\":1,\"plot\":{\"id\":\"5f8489c1-0444-476d-957a-c248270cfe7d\",\"subtype\":\"Figure\",\"type\":\"Plot\"},\"ticker\":{\"id\":\"dbe8a19d-d024-40c2-aeb8-d0da75ffa8f2\",\"type\":\"BasicTicker\"}},\"id\":\"818ec947-f3e3-4faf-a55b-d2d0654932ff\",\"type\":\"Grid\"},{\"attributes\":{\"bottom_units\":\"screen\",\"fill_alpha\":{\"value\":0.5},\"fill_color\":{\"value\":\"lightgrey\"},\"left_units\":\"screen\",\"level\":\"overlay\",\"line_alpha\":{\"value\":1.0},\"line_color\":{\"value\":\"black\"},\"line_dash\":[4,4],\"line_width\":{\"value\":2},\"plot\":null,\"render_mode\":\"css\",\"right_units\":\"screen\",\"top_units\":\"screen\"},\"id\":\"16e99f2f-f6b1-44f5-9366-3657b17cb969\",\"type\":\"BoxAnnotation\"},{\"attributes\":{\"source\":{\"id\":\"13065592-653a-4e9b-a8fd-9bd224b59d47\",\"type\":\"ColumnDataSource\"}},\"id\":\"bdb9f9f0-02ec-44b1-afbf-8c9ca2c9f48a\",\"type\":\"CDSView\"},{\"attributes\":{},\"id\":\"dbe8a19d-d024-40c2-aeb8-d0da75ffa8f2\",\"type\":\"BasicTicker\"},{\"attributes\":{\"active_drag\":\"auto\",\"active_inspect\":\"auto\",\"active_scroll\":\"auto\",\"active_tap\":\"auto\",\"tools\":[{\"id\":\"b90d837c-cfa7-4836-b3f1-b0eb44a008bd\",\"type\":\"PanTool\"},{\"id\":\"1a1b4a33-1f1e-4a0f-8203-0fcd09bb9370\",\"type\":\"WheelZoomTool\"},{\"id\":\"c4feda1b-7945-4754-a970-d05fd9acfa93\",\"type\":\"BoxZoomTool\"},{\"id\":\"f4eb4af8-1fb7-4ac5-a6a9-897eb570e5d6\",\"type\":\"SaveTool\"},{\"id\":\"99020e96-748c-49f8-8bf7-6f36385fc9c3\",\"type\":\"ResetTool\"},{\"id\":\"fd9e2704-e032-4186-bcf4-7a7f00e33880\",\"type\":\"HelpTool\"}]},\"id\":\"9f542b65-c16b-4811-8266-0d2ce5582242\",\"type\":\"Toolbar\"},{\"attributes\":{\"dimension\":1,\"plot\":{\"id\":\"d9c6abd6-74cb-4d0c-9697-510654af41f0\",\"subtype\":\"Figure\",\"type\":\"Plot\"},\"ticker\":{\"id\":\"e9b5cf96-cd9e-41c7-9f83-fde32cdacd3a\",\"type\":\"LogTicker\"}},\"id\":\"2a461638-b84d-42e0-8e91-f8ba81c5b96f\",\"type\":\"Grid\"},{\"attributes\":{\"callback\":null,\"column_names\":[\"x\",\"y\"],\"data\":{\"x\":{\"__ndarray__\":\"ywbC4xUn0j8L32UAVGOwP1pMx/cgX8c/IiLrX0j92D/0rJyklrnKP7S3zp5PDdM/vNgHmzKe0z/Wd3bgOefTP4uGzmN7ytI/FKl6QyuB1D+cSWH/8bXSP/n/SENTV9I/XN7iAkzw0D9FJ67XsoTNP+yc6rkak8k/VpPxOcHIzD+bjTrf9JPRP4gAMyHe4dM/AkP7/Qf91D8Jh2IbhgnXP3azN98lBN0/L0BPwen24z9VZhBA5jrqP8pfawCAzeo/Kb0E4ek55j8UME8hNpzhP5p81Nt2DNw//Sb7hD9F1j88yrn7ufTRP4d2RkL4I8w/h0bBnVUwxT8Wrv1TYLe9P2Jzup57nrQ/+OVIPuEysD9xtgfBrTKrP/nt6b8OaaU/EncBntDFoD+olkJaQsKaP9Xnu3L1F40/jN07PF28XD9tYcP/0OZxP4muoVqYE5k/hSmNQtkuqT/Rdy7B5nKzP6EjwW3QC7o/Fxw1kV9gvj82x3+iLinBP71Bi9eC/8I/k761uGuuxD86yJAIMqfGP5jRl/eb/cg/mx6xaecsyz9pq3G6VSXNP6/GwNdj5M4/XfvAXQ9J0D9kyFY8mg/RPwAQA58X1dE/5gxB5com0z9p7IXhp1rUP7+rL1xnTdU/1womQEX81T/Fvo1i81DWPxbe5SK+U9Y/gwS9Hukf1j9WXU2/wMPVPyVFngNPStU/lDVF24yu1D+QO3wExMXTP0zqPt+aZNI/K6fa+iuc0D+ppTXdHV/NP6VzlyeEzMk/v7+9QlHmxj/fa2u4hiHFP4pHd0rmXMc/\",\"dtype\":\"float64\",\"shape\":[75]},\"y\":{\"__ndarray__\":\"S/O/Q+51ND/430zAtpRIP2vylNV0PVE/QxsjCssuWD/TR4Z78fVgP+inNsRxymc/OuuBfZWvcD/u3TFA02d3P2d3VoBnaoA/CD5h5MAGhz/1pA8HUCaQP+zrCsc9p5Y/Fb7LAKjGnz/nJ9c/SEmmPwBD+fzcQq8/FOZwv9nstT8Er5Y7M8G+P0c+r3jqkcU/yK72qKZBzj+tM989FzjVPxbgmr8yxN0/cOm5AXbg5D+5ctXAf0jtP5kqGJXUifQ/DsrqDELP/D8MCAhBojQEQDItVnmnVwxAiFXNvdHgE0BSSZ2AJuIbQAMJih9jjiNA5q4l5INuK0CPVN/5RT0zQHzxRXu8/DpAOZ7PgHrtQkAg8wGBzoxKQBSTN8DMeFJA2NmQf2ZqWEAAAAAAAFxeQEQX1LfMJmJAmpmZmZkfZUBmZmZmZhhoQLzoK0gzEWtAAAAAAAAKbkCiC+pbZoFwQAhyUMLM/XFA+I2vPTN6c0AQ5KCEmfZ0QAAAAAAAc3ZA8Btfe2bvd0AIclDCzGt5QPeNrz0z6HpAEOSghJlkfEAAAAAAAOF9QKML6ltmXX9ABTkoYeZsgED7xteeGSuBQAhyUMJM6YFAAAAAAICngkD4ja89s2WDQAU5KGHmI4RA+8bXnhnihEAIclDCTKCFQAAAAACAXoZA+I2vPbMch0AFOShh5tqHQPvG154ZmYhACHJQwkxXiUAAAAAAgBWKQPeNrz2z04pABTkoYeaRi0D7xteeGVCMQAlyUMJMDo1AAAAAAIDMjUD3ja89s4qOQGZmZmbmSI9A\",\"dtype\":\"float64\",\"shape\":[75]}}},\"id\":\"66f8593a-175d-4594-a5ec-1dd78cc48578\",\"type\":\"ColumnDataSource\"},{\"attributes\":{\"axis_label\":\"pressure [mb]\",\"formatter\":{\"id\":\"151239ed-98ab-4772-a158-2905c2571056\",\"type\":\"BasicTickFormatter\"},\"plot\":{\"id\":\"5f8489c1-0444-476d-957a-c248270cfe7d\",\"subtype\":\"Figure\",\"type\":\"Plot\"},\"ticker\":{\"id\":\"dbe8a19d-d024-40c2-aeb8-d0da75ffa8f2\",\"type\":\"BasicTicker\"}},\"id\":\"4cd68090-693d-4dd0-a266-62ffa05e5565\",\"type\":\"LinearAxis\"},{\"attributes\":{\"line_color\":\"#4daf4a\",\"line_width\":1.5,\"x\":{\"field\":\"x\"},\"y\":{\"field\":\"y\"}},\"id\":\"b3d6c970-1333-4169-b264-54466d6fb9ab\",\"type\":\"Line\"}],\"root_ids\":[\"eccd7016-5b21-49af-a121-e3191a6479dc\"]},\"title\":\"Bokeh Application\",\"version\":\"0.12.14\"}};\n",
       "  var render_items = [{\"docid\":\"1bb582a6-ab9c-4547-a52b-53af90d02bc2\",\"elementid\":\"611bc2ea-7e0f-4c5a-bc13-b0ed0c5f6823\",\"modelid\":\"eccd7016-5b21-49af-a121-e3191a6479dc\"}];\n",
       "  root.Bokeh.embed.embed_items_notebook(docs_json, render_items);\n",
       "\n",
       "  }\n",
       "  if (root.Bokeh !== undefined) {\n",
       "    embed_document(root);\n",
       "  } else {\n",
       "    var attempts = 0;\n",
       "    var timer = setInterval(function(root) {\n",
       "      if (root.Bokeh !== undefined) {\n",
       "        embed_document(root);\n",
       "        clearInterval(timer);\n",
       "      }\n",
       "      attempts++;\n",
       "      if (attempts > 100) {\n",
       "        console.log(\"Bokeh: ERROR: Unable to run BokehJS code because BokehJS library is missing\")\n",
       "        clearInterval(timer);\n",
       "      }\n",
       "    }, 10, root)\n",
       "  }\n",
       "})(window);"
      ],
      "application/vnd.bokehjs_exec.v0+json": ""
     },
     "metadata": {
      "application/vnd.bokehjs_exec.v0+json": {
       "id": "eccd7016-5b21-49af-a121-e3191a6479dc"
      }
     },
     "output_type": "display_data"
    },
    {
     "name": "stdout",
     "output_type": "stream",
     "text": [
      "FIGURE. Cooling rate profiles.\n"
     ]
    },
    {
     "data": {
      "text/html": [
       "<a id=\"Flux_Comparison\"></a>"
      ],
      "text/plain": [
       "<IPython.core.display.HTML object>"
      ]
     },
     "metadata": {},
     "output_type": "display_data"
    },
    {
     "data": {
      "text/markdown": [
       "# Flux Comparison"
      ],
      "text/plain": [
       "<IPython.core.display.Markdown object>"
      ]
     },
     "metadata": {},
     "output_type": "display_data"
    },
    {
     "data": {
      "text/html": [
       "<div>\n",
       "<style>\n",
       "    .dataframe thead tr:only-child th {\n",
       "        text-align: right;\n",
       "    }\n",
       "\n",
       "    .dataframe thead th {\n",
       "        text-align: left;\n",
       "    }\n",
       "\n",
       "    .dataframe tbody tr th {\n",
       "        vertical-align: top;\n",
       "    }\n",
       "</style>\n",
       "<table border=\"1\" class=\"dataframe\">\n",
       "  <thead>\n",
       "    <tr style=\"text-align: right;\">\n",
       "      <th></th>\n",
       "      <th></th>\n",
       "      <th>flug</th>\n",
       "      <th>fldg</th>\n",
       "      <th>fnetg</th>\n",
       "    </tr>\n",
       "    <tr>\n",
       "      <th>pressure</th>\n",
       "      <th>level</th>\n",
       "      <th></th>\n",
       "      <th></th>\n",
       "      <th></th>\n",
       "    </tr>\n",
       "  </thead>\n",
       "  <tbody>\n",
       "    <tr>\n",
       "      <th>0.0000</th>\n",
       "      <th>1</th>\n",
       "      <td>-24.998405</td>\n",
       "      <td>0.000000</td>\n",
       "      <td>-24.998405</td>\n",
       "    </tr>\n",
       "    <tr>\n",
       "      <th>1.0685</th>\n",
       "      <th>24</th>\n",
       "      <td>-25.001253</td>\n",
       "      <td>0.074163</td>\n",
       "      <td>-24.927090</td>\n",
       "    </tr>\n",
       "    <tr>\n",
       "      <th>1013.0000</th>\n",
       "      <th>76</th>\n",
       "      <td>-36.235408</td>\n",
       "      <td>34.200482</td>\n",
       "      <td>-2.034926</td>\n",
       "    </tr>\n",
       "  </tbody>\n",
       "</table>\n",
       "</div>"
      ],
      "text/plain": [
       "                      flug       fldg      fnetg\n",
       "pressure  level                                 \n",
       "0.0000    1     -24.998405   0.000000 -24.998405\n",
       "1.0685    24    -25.001253   0.074163 -24.927090\n",
       "1013.0000 76    -36.235408  34.200482  -2.034926"
      ]
     },
     "metadata": {},
     "output_type": "display_data"
    },
    {
     "name": "stdout",
     "output_type": "stream",
     "text": [
      "Table. Fluxes. WGT igg=10 wgt_flux=1\n"
     ]
    },
    {
     "data": {
      "text/html": [
       "<div>\n",
       "<style>\n",
       "    .dataframe thead tr:only-child th {\n",
       "        text-align: right;\n",
       "    }\n",
       "\n",
       "    .dataframe thead th {\n",
       "        text-align: left;\n",
       "    }\n",
       "\n",
       "    .dataframe tbody tr th {\n",
       "        vertical-align: top;\n",
       "    }\n",
       "</style>\n",
       "<table border=\"1\" class=\"dataframe\">\n",
       "  <thead>\n",
       "    <tr style=\"text-align: right;\">\n",
       "      <th></th>\n",
       "      <th></th>\n",
       "      <th>flug</th>\n",
       "      <th>fldg</th>\n",
       "      <th>fnetg</th>\n",
       "    </tr>\n",
       "    <tr>\n",
       "      <th>pressure</th>\n",
       "      <th>level</th>\n",
       "      <th></th>\n",
       "      <th></th>\n",
       "      <th></th>\n",
       "    </tr>\n",
       "  </thead>\n",
       "  <tbody>\n",
       "    <tr>\n",
       "      <th>0.0000</th>\n",
       "      <th>1</th>\n",
       "      <td>-24.876840</td>\n",
       "      <td>0.000000</td>\n",
       "      <td>-24.876840</td>\n",
       "    </tr>\n",
       "    <tr>\n",
       "      <th>1.0685</th>\n",
       "      <th>24</th>\n",
       "      <td>-24.880528</td>\n",
       "      <td>0.080327</td>\n",
       "      <td>-24.800201</td>\n",
       "    </tr>\n",
       "    <tr>\n",
       "      <th>1013.0000</th>\n",
       "      <th>76</th>\n",
       "      <td>-36.235408</td>\n",
       "      <td>34.688214</td>\n",
       "      <td>-1.547194</td>\n",
       "    </tr>\n",
       "  </tbody>\n",
       "</table>\n",
       "</div>"
      ],
      "text/plain": [
       "                      flug       fldg      fnetg\n",
       "pressure  level                                 \n",
       "0.0000    1     -24.876840   0.000000 -24.876840\n",
       "1.0685    24    -24.880528   0.080327 -24.800201\n",
       "1013.0000 76    -36.235408  34.688214  -1.547194"
      ]
     },
     "metadata": {},
     "output_type": "display_data"
    },
    {
     "name": "stdout",
     "output_type": "stream",
     "text": [
      "Table. Fluxes. CRD\n"
     ]
    },
    {
     "data": {
      "text/html": [
       "<div>\n",
       "<style>\n",
       "    .dataframe thead tr:only-child th {\n",
       "        text-align: right;\n",
       "    }\n",
       "\n",
       "    .dataframe thead th {\n",
       "        text-align: left;\n",
       "    }\n",
       "\n",
       "    .dataframe tbody tr th {\n",
       "        vertical-align: top;\n",
       "    }\n",
       "</style>\n",
       "<table border=\"1\" class=\"dataframe\">\n",
       "  <thead>\n",
       "    <tr style=\"text-align: right;\">\n",
       "      <th></th>\n",
       "      <th></th>\n",
       "      <th>flug</th>\n",
       "      <th>fldg</th>\n",
       "      <th>fnetg</th>\n",
       "    </tr>\n",
       "    <tr>\n",
       "      <th>pressure</th>\n",
       "      <th>level</th>\n",
       "      <th></th>\n",
       "      <th></th>\n",
       "      <th></th>\n",
       "    </tr>\n",
       "  </thead>\n",
       "  <tbody>\n",
       "    <tr>\n",
       "      <th>1.000000e-08</th>\n",
       "      <th>1</th>\n",
       "      <td>-25.176336</td>\n",
       "      <td>0.000002</td>\n",
       "      <td>-25.176334</td>\n",
       "    </tr>\n",
       "    <tr>\n",
       "      <th>1.068500e+00</th>\n",
       "      <th>24</th>\n",
       "      <td>-25.178392</td>\n",
       "      <td>0.070463</td>\n",
       "      <td>-25.107929</td>\n",
       "    </tr>\n",
       "    <tr>\n",
       "      <th>1.013000e+03</th>\n",
       "      <th>76</th>\n",
       "      <td>-36.235409</td>\n",
       "      <td>34.389328</td>\n",
       "      <td>-1.846081</td>\n",
       "    </tr>\n",
       "  </tbody>\n",
       "</table>\n",
       "</div>"
      ],
      "text/plain": [
       "                         flug       fldg      fnetg\n",
       "pressure     level                                 \n",
       "1.000000e-08 1     -25.176336   0.000002 -25.176334\n",
       "1.068500e+00 24    -25.178392   0.070463 -25.107929\n",
       "1.013000e+03 76    -36.235409  34.389328  -1.846081"
      ]
     },
     "metadata": {},
     "output_type": "display_data"
    },
    {
     "name": "stdout",
     "output_type": "stream",
     "text": [
      "Table. Fluxes. CLIRAD\n"
     ]
    },
    {
     "data": {
      "text/html": [
       "<div>\n",
       "<style>\n",
       "    .dataframe thead tr:only-child th {\n",
       "        text-align: right;\n",
       "    }\n",
       "\n",
       "    .dataframe thead th {\n",
       "        text-align: left;\n",
       "    }\n",
       "\n",
       "    .dataframe tbody tr th {\n",
       "        vertical-align: top;\n",
       "    }\n",
       "</style>\n",
       "<table border=\"1\" class=\"dataframe\">\n",
       "  <thead>\n",
       "    <tr style=\"text-align: right;\">\n",
       "      <th></th>\n",
       "      <th></th>\n",
       "      <th>flug</th>\n",
       "      <th>fldg</th>\n",
       "      <th>fnetg</th>\n",
       "    </tr>\n",
       "    <tr>\n",
       "      <th>pressure</th>\n",
       "      <th>level</th>\n",
       "      <th></th>\n",
       "      <th></th>\n",
       "      <th></th>\n",
       "    </tr>\n",
       "  </thead>\n",
       "  <tbody>\n",
       "    <tr>\n",
       "      <th>0.0000</th>\n",
       "      <th>1</th>\n",
       "      <td>0.121565</td>\n",
       "      <td>0.000000</td>\n",
       "      <td>0.121565</td>\n",
       "    </tr>\n",
       "    <tr>\n",
       "      <th>1.0685</th>\n",
       "      <th>24</th>\n",
       "      <td>0.120725</td>\n",
       "      <td>0.006164</td>\n",
       "      <td>0.126889</td>\n",
       "    </tr>\n",
       "    <tr>\n",
       "      <th>1013.0000</th>\n",
       "      <th>76</th>\n",
       "      <td>0.000000</td>\n",
       "      <td>0.487732</td>\n",
       "      <td>0.487732</td>\n",
       "    </tr>\n",
       "  </tbody>\n",
       "</table>\n",
       "</div>"
      ],
      "text/plain": [
       "                     flug      fldg     fnetg\n",
       "pressure  level                              \n",
       "0.0000    1      0.121565  0.000000  0.121565\n",
       "1.0685    24     0.120725  0.006164  0.126889\n",
       "1013.0000 76     0.000000  0.487732  0.487732"
      ]
     },
     "metadata": {},
     "output_type": "display_data"
    },
    {
     "name": "stdout",
     "output_type": "stream",
     "text": [
      "Table. Fluxes. (CRD) - (WGT igg=10 wgt_flux=1)\n"
     ]
    },
    {
     "data": {
      "text/html": [
       "<div>\n",
       "<style>\n",
       "    .dataframe thead tr:only-child th {\n",
       "        text-align: right;\n",
       "    }\n",
       "\n",
       "    .dataframe thead th {\n",
       "        text-align: left;\n",
       "    }\n",
       "\n",
       "    .dataframe tbody tr th {\n",
       "        vertical-align: top;\n",
       "    }\n",
       "</style>\n",
       "<table border=\"1\" class=\"dataframe\">\n",
       "  <thead>\n",
       "    <tr style=\"text-align: right;\">\n",
       "      <th></th>\n",
       "      <th></th>\n",
       "      <th>flug</th>\n",
       "      <th>fldg</th>\n",
       "      <th>fnetg</th>\n",
       "    </tr>\n",
       "    <tr>\n",
       "      <th>pressure</th>\n",
       "      <th>level</th>\n",
       "      <th></th>\n",
       "      <th></th>\n",
       "      <th></th>\n",
       "    </tr>\n",
       "  </thead>\n",
       "  <tbody>\n",
       "    <tr>\n",
       "      <th>0.0000</th>\n",
       "      <th>1</th>\n",
       "      <td>-0.177931</td>\n",
       "      <td>0.000002</td>\n",
       "      <td>-0.177929</td>\n",
       "    </tr>\n",
       "    <tr>\n",
       "      <th>1.0685</th>\n",
       "      <th>24</th>\n",
       "      <td>-0.177139</td>\n",
       "      <td>-0.003700</td>\n",
       "      <td>-0.180839</td>\n",
       "    </tr>\n",
       "    <tr>\n",
       "      <th>1013.0000</th>\n",
       "      <th>76</th>\n",
       "      <td>-0.000001</td>\n",
       "      <td>0.188846</td>\n",
       "      <td>0.188845</td>\n",
       "    </tr>\n",
       "  </tbody>\n",
       "</table>\n",
       "</div>"
      ],
      "text/plain": [
       "                     flug      fldg     fnetg\n",
       "pressure  level                              \n",
       "0.0000    1     -0.177931  0.000002 -0.177929\n",
       "1.0685    24    -0.177139 -0.003700 -0.180839\n",
       "1013.0000 76    -0.000001  0.188846  0.188845"
      ]
     },
     "metadata": {},
     "output_type": "display_data"
    },
    {
     "name": "stdout",
     "output_type": "stream",
     "text": [
      "Table. Fluxes. (CLIRAD) - (WGT igg=10 wgt_flux=1)\n"
     ]
    },
    {
     "data": {
      "text/html": [
       "<a id=\"Best-fit_Parameters\"></a>"
      ],
      "text/plain": [
       "<IPython.core.display.HTML object>"
      ]
     },
     "metadata": {},
     "output_type": "display_data"
    },
    {
     "data": {
      "text/markdown": [
       "# Best-fit Parameters"
      ],
      "text/plain": [
       "<IPython.core.display.Markdown object>"
      ]
     },
     "metadata": {},
     "output_type": "display_data"
    },
    {
     "name": "stdout",
     "output_type": "stream",
     "text": [
      "Best-fit values for each (gas, band)\n",
      "------------------------------------\n",
      "o co2 band3a\n",
      "  atmpro = mls\n",
      "  band = 3a\n",
      "  commitnumber = 5014a19\n",
      "  conc = 0.0004\n",
      "  dv = 0.01\n",
      "  klin = 6.375563e-24\n",
      "  molecule = co2\n",
      "  ng_adju = [0, 0, 0]\n",
      "  ng_refs = [3, 2, 4]\n",
      "  nv = 100\n",
      "  option_compute_btable = 0\n",
      "  option_compute_ktable = 1\n",
      "  option_wgt_flux = 1\n",
      "  option_wgt_k = 1\n",
      "  ref_pts = [(1, 250), (10, 250), (500, 250)]\n",
      "  tsfc = 294\n",
      "  vmax = 620\n",
      "  vmin = 540\n",
      "  w_diffuse = [(1.6, 1.6, 1.7), (1.75, 1.75), (1.55, 1.55, 1.6, 1.85)]\n",
      "  wgt = [(0.7, 0.3, 0.7), (0.7, 0.6), (0.4, 0.5, 0.8, 0.95)]\n",
      "o h2o band3a\n",
      "  atmpro = mls\n",
      "  band = 3a\n",
      "  commitnumber = 5014a19\n",
      "  conc = None\n",
      "  dv = 0.01\n",
      "  klin = 0\n",
      "  molecule = h2o\n",
      "  ng_adju = [0, 0]\n",
      "  ng_refs = [2, 6]\n",
      "  nv = 100\n",
      "  option_compute_btable = 0\n",
      "  option_compute_ktable = 1\n",
      "  option_wgt_flux = 1\n",
      "  option_wgt_k = 1\n",
      "  ref_pts = [(10, 250), (600, 250)]\n",
      "  tsfc = 294\n",
      "  vmax = 620\n",
      "  vmin = 540\n",
      "  w_diffuse = [(1.9, 1.7), (1.4, 1.4, 1.4, 1.55, 1.6, 1.66)]\n",
      "  wgt = [(0.7, 0.7), (0.7, 0.5, 0.5, 0.5, 0.5, 0.5)]\n",
      "o n2o band3a\n",
      "  atmpro = mls\n",
      "  band = 3a\n",
      "  commitnumber = 5014a19\n",
      "  conc = 3.2e-07\n",
      "  dv = 0.01\n",
      "  klin = 2.22e-20\n",
      "  molecule = n2o\n",
      "  ng_adju = [0, 0]\n",
      "  ng_refs = [1, 2]\n",
      "  nv = 100\n",
      "  option_compute_btable = 0\n",
      "  option_compute_ktable = 1\n",
      "  option_wgt_flux = 1\n",
      "  option_wgt_k = 1\n",
      "  ref_pts = [(1, 250), (500, 250)]\n",
      "  tsfc = 294\n",
      "  vmax = 620\n",
      "  vmin = 540\n",
      "  w_diffuse = [(1.8,), (1.66, 1.8)]\n",
      "  wgt = [(0.9,), (0.5, 0.95)]\n"
     ]
    }
   ],
   "source": [
    "script()"
   ]
  },
  {
   "cell_type": "code",
   "execution_count": 13,
   "metadata": {
    "collapsed": true
   },
   "outputs": [
    {
     "data": {
      "text/html": [
       "<script>\n",
       "code_show=true; \n",
       "function code_toggle() {\n",
       " if (code_show){\n",
       " $('div.input').hide();\n",
       " } else {\n",
       " $('div.input').show();\n",
       " }\n",
       " code_show = !code_show\n",
       "} \n",
       "$( document ).ready(code_toggle);\n",
       "</script>\n",
       "<form action=\"javascript:code_toggle()\"><input type=\"submit\" value=\"Click here to toggle on/off the raw code.\"></form>"
      ],
      "text/plain": [
       "<IPython.core.display.HTML object>"
      ]
     },
     "execution_count": 13,
     "metadata": {},
     "output_type": "execute_result"
    }
   ],
   "source": [
    "display.HTML('''<script>\n",
    "code_show=true; \n",
    "function code_toggle() {\n",
    " if (code_show){\n",
    " $('div.input').hide();\n",
    " } else {\n",
    " $('div.input').show();\n",
    " }\n",
    " code_show = !code_show\n",
    "} \n",
    "$( document ).ready(code_toggle);\n",
    "</script>\n",
    "<form action=\"javascript:code_toggle()\"><input type=\"submit\" value=\"Click here to toggle on/off the raw code.\"></form>''')"
   ]
  }
 ],
 "metadata": {
  "kernelspec": {
   "display_name": "Python 3",
   "language": "python",
   "name": "python3"
  },
  "language_info": {
   "codemirror_mode": {
    "name": "ipython",
    "version": 3
   },
   "file_extension": ".py",
   "mimetype": "text/x-python",
   "name": "python",
   "nbconvert_exporter": "python",
   "pygments_lexer": "ipython3",
   "version": "3.6.1"
  }
 },
 "nbformat": 4,
 "nbformat_minor": 2
}
