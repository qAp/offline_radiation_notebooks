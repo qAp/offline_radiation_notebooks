{
 "cells": [
  {
   "cell_type": "code",
   "execution_count": 1,
   "metadata": {
    "collapsed": true
   },
   "outputs": [],
   "source": [
    "%matplotlib inline\n",
    "import os\n",
    "import re\n",
    "import io\n",
    "import itertools\n",
    "import pprint\n",
    "\n",
    "from bokeh.io import output_notebook, show\n",
    "from bokeh.layouts import gridplot\n",
    "from bokeh.plotting import figure\n",
    "from bokeh.models import Range1d, Legend\n",
    "from bokeh.palettes import all_palettes\n",
    "\n",
    "import matplotlib\n",
    "import matplotlib.pyplot as plt\n",
    "import numpy as np\n",
    "import pandas as pd\n",
    "import xarray as xr\n",
    "\n",
    "import climatools.lblnew.bestfit_params as bestfits\n",
    "from climatools.lblnew import setup_bestfit, setup_overlap\n",
    "import climatools.lblnew.pipeline as pipe_lblnew\n",
    "import climatools.cliradlw.setup as setup_cliradlw\n",
    "import climatools.cliradlw.pipeline as pipe_cliradlw\n",
    "\n",
    "import climatools.html.html as climahtml\n",
    "from climatools.lblnew.dataio import *\n",
    "from climatools.plot.plot import *\n",
    "\n",
    "\n",
    "import IPython.display as display"
   ]
  },
  {
   "cell_type": "code",
   "execution_count": 2,
   "metadata": {
    "collapsed": true
   },
   "outputs": [],
   "source": [
    "%run param.py"
   ]
  },
  {
   "cell_type": "code",
   "execution_count": 3,
   "metadata": {
    "collapsed": true
   },
   "outputs": [],
   "source": [
    "def load_output_file(path_csv):\n",
    "    '''\n",
    "    Load lblnew output .csv file to xarray.Dataset\n",
    "    \n",
    "    Parameters\n",
    "    ----------\n",
    "    path_csv: str\n",
    "              Path to the .csv file to be loaded.\n",
    "    ds: xarray.Dataset\n",
    "        Data in the input file in the form of an xarray.Dataset.\n",
    "    '''\n",
    "    toindex = ['band', 'pressure', 'igg', 'g']    \n",
    "    df = pd.read_csv(path_csv, sep=r'\\s+')\n",
    "    df = df.set_index([i for i in toindex if i in df.columns])\n",
    "    df = df.rename(columns={'sfu': 'flug',\n",
    "                            'sfd': 'fldg',\n",
    "                            'fnet': 'fnetg',\n",
    "                            'coolr': 'coolrg'})\n",
    "    ds = xr.Dataset.from_dataframe(df)\n",
    "\n",
    "    for l in ('level', 'layer'):\n",
    "        if l in ds.data_vars:\n",
    "            if len(ds[l].dims) > 1:\n",
    "                surface = {d: 0 for d in ds.dims if d != 'pressure'}\n",
    "                coord_level = ds[l][surface]\n",
    "                ds.coords[l] = ('pressure', coord_level)\n",
    "            else:\n",
    "                ds.coords[l] = ('pressure', ds[l])\n",
    "    \n",
    "    return ds"
   ]
  },
  {
   "cell_type": "code",
   "execution_count": 4,
   "metadata": {
    "collapsed": true
   },
   "outputs": [],
   "source": [
    "def lblnew_setup(param=None):\n",
    "    if 'ng_refs' in param:\n",
    "        return {'setup': setup_bestfit,\n",
    "                'fname_flux_crd': 'output_flux.dat',\n",
    "                'fname_cool_crd': 'output_coolr.dat',\n",
    "                'fname_flux_wgt': 'output_wfluxg.dat',\n",
    "                'fname_cool_wgt': 'output_wcoolrg.dat'}\n",
    "    else:\n",
    "        return {'setup': setup_overlap,\n",
    "                'fname_flux_crd': 'output_flux.dat',\n",
    "                'fname_cool_crd': 'output_coolr.dat',\n",
    "                'fname_flux_wgt': 'output_wflux.dat',\n",
    "                'fname_cool_wgt': 'output_wcoolr.dat'}\n",
    "\n",
    "    \n",
    "def load_lblnew_data(param):\n",
    "    \n",
    "    fname_dsname = [('fname_flux_crd', 'ds_flux_crd'),\n",
    "                    ('fname_cool_crd', 'ds_cool_crd'),\n",
    "                    ('fname_flux_wgt', 'ds_flux_wgt'),\n",
    "                    ('fname_cool_wgt', 'ds_cool_wgt')]\n",
    "    \n",
    "    d = lblnew_setup(param)\n",
    "    dir_fortran = pipe_lblnew.get_dir_case(param, setup=d['setup'])\n",
    "    \n",
    "    data_dict = {}\n",
    "    for fname, dsname in fname_dsname:\n",
    "        fpath = os.path.join(dir_fortran, d[fname])\n",
    "        data_dict[dsname] = load_output_file(fpath)\n",
    "    return data_dict\n",
    "    \n",
    "\n",
    "    \n",
    "    "
   ]
  },
  {
   "cell_type": "code",
   "execution_count": 5,
   "metadata": {
    "collapsed": true
   },
   "outputs": [],
   "source": [
    "d = load_lblnew_data(PARAM_LBLNEW)\n",
    "\n",
    "DS_FLUX_CRD = d['ds_flux_crd']\n",
    "DS_COOL_CRD = d['ds_cool_crd']\n",
    "DS_FLUX_WGT = d['ds_flux_wgt']\n",
    "DS_COOL_WGT = d['ds_cool_wgt']"
   ]
  },
  {
   "cell_type": "code",
   "execution_count": 6,
   "metadata": {
    "collapsed": true
   },
   "outputs": [],
   "source": [
    "DIR_FORTRAN = pipe_cliradlw.get_fortran_dir(PARAM, \n",
    "                                            setup=setup_cliradlw)\n",
    "\n",
    "PATH_FLUX = os.path.join(DIR_FORTRAN, 'output_flux.dat')\n",
    "PATH_COOL = os.path.join(DIR_FORTRAN, 'output_coolr.dat')\n",
    "\n",
    "DS_FLUX = load_output_file(PATH_FLUX)\n",
    "DS_COOL = load_output_file(PATH_COOL)"
   ]
  },
  {
   "cell_type": "code",
   "execution_count": 7,
   "metadata": {
    "collapsed": true
   },
   "outputs": [
    {
     "data": {
      "text/html": [
       "\n",
       "    <div class=\"bk-root\">\n",
       "        <a href=\"https://bokeh.pydata.org\" target=\"_blank\" class=\"bk-logo bk-logo-small bk-logo-notebook\"></a>\n",
       "        <span id=\"4e8d742d-16b7-4827-8e41-2b7dd3ff1d9b\">Loading BokehJS ...</span>\n",
       "    </div>"
      ]
     },
     "metadata": {},
     "output_type": "display_data"
    },
    {
     "data": {
      "application/javascript": [
       "\n",
       "(function(root) {\n",
       "  function now() {\n",
       "    return new Date();\n",
       "  }\n",
       "\n",
       "  var force = true;\n",
       "\n",
       "  if (typeof (root._bokeh_onload_callbacks) === \"undefined\" || force === true) {\n",
       "    root._bokeh_onload_callbacks = [];\n",
       "    root._bokeh_is_loading = undefined;\n",
       "  }\n",
       "\n",
       "  var JS_MIME_TYPE = 'application/javascript';\n",
       "  var HTML_MIME_TYPE = 'text/html';\n",
       "  var EXEC_MIME_TYPE = 'application/vnd.bokehjs_exec.v0+json';\n",
       "  var CLASS_NAME = 'output_bokeh rendered_html';\n",
       "\n",
       "  /**\n",
       "   * Render data to the DOM node\n",
       "   */\n",
       "  function render(props, node) {\n",
       "    var script = document.createElement(\"script\");\n",
       "    node.appendChild(script);\n",
       "  }\n",
       "\n",
       "  /**\n",
       "   * Handle when an output is cleared or removed\n",
       "   */\n",
       "  function handleClearOutput(event, handle) {\n",
       "    var cell = handle.cell;\n",
       "\n",
       "    var id = cell.output_area._bokeh_element_id;\n",
       "    var server_id = cell.output_area._bokeh_server_id;\n",
       "    // Clean up Bokeh references\n",
       "    if (id !== undefined) {\n",
       "      Bokeh.index[id].model.document.clear();\n",
       "      delete Bokeh.index[id];\n",
       "    }\n",
       "\n",
       "    if (server_id !== undefined) {\n",
       "      // Clean up Bokeh references\n",
       "      var cmd = \"from bokeh.io.state import curstate; print(curstate().uuid_to_server['\" + server_id + \"'].get_sessions()[0].document.roots[0]._id)\";\n",
       "      cell.notebook.kernel.execute(cmd, {\n",
       "        iopub: {\n",
       "          output: function(msg) {\n",
       "            var element_id = msg.content.text.trim();\n",
       "            Bokeh.index[element_id].model.document.clear();\n",
       "            delete Bokeh.index[element_id];\n",
       "          }\n",
       "        }\n",
       "      });\n",
       "      // Destroy server and session\n",
       "      var cmd = \"import bokeh.io.notebook as ion; ion.destroy_server('\" + server_id + \"')\";\n",
       "      cell.notebook.kernel.execute(cmd);\n",
       "    }\n",
       "  }\n",
       "\n",
       "  /**\n",
       "   * Handle when a new output is added\n",
       "   */\n",
       "  function handleAddOutput(event, handle) {\n",
       "    var output_area = handle.output_area;\n",
       "    var output = handle.output;\n",
       "\n",
       "    // limit handleAddOutput to display_data with EXEC_MIME_TYPE content only\n",
       "    if ((output.output_type != \"display_data\") || (!output.data.hasOwnProperty(EXEC_MIME_TYPE))) {\n",
       "      return\n",
       "    }\n",
       "\n",
       "    var toinsert = output_area.element.find(\".\" + CLASS_NAME.split(' ')[0]);\n",
       "\n",
       "    if (output.metadata[EXEC_MIME_TYPE][\"id\"] !== undefined) {\n",
       "      toinsert[0].firstChild.textContent = output.data[JS_MIME_TYPE];\n",
       "      // store reference to embed id on output_area\n",
       "      output_area._bokeh_element_id = output.metadata[EXEC_MIME_TYPE][\"id\"];\n",
       "    }\n",
       "    if (output.metadata[EXEC_MIME_TYPE][\"server_id\"] !== undefined) {\n",
       "      var bk_div = document.createElement(\"div\");\n",
       "      bk_div.innerHTML = output.data[HTML_MIME_TYPE];\n",
       "      var script_attrs = bk_div.children[0].attributes;\n",
       "      for (var i = 0; i < script_attrs.length; i++) {\n",
       "        toinsert[0].firstChild.setAttribute(script_attrs[i].name, script_attrs[i].value);\n",
       "      }\n",
       "      // store reference to server id on output_area\n",
       "      output_area._bokeh_server_id = output.metadata[EXEC_MIME_TYPE][\"server_id\"];\n",
       "    }\n",
       "  }\n",
       "\n",
       "  function register_renderer(events, OutputArea) {\n",
       "\n",
       "    function append_mime(data, metadata, element) {\n",
       "      // create a DOM node to render to\n",
       "      var toinsert = this.create_output_subarea(\n",
       "        metadata,\n",
       "        CLASS_NAME,\n",
       "        EXEC_MIME_TYPE\n",
       "      );\n",
       "      this.keyboard_manager.register_events(toinsert);\n",
       "      // Render to node\n",
       "      var props = {data: data, metadata: metadata[EXEC_MIME_TYPE]};\n",
       "      render(props, toinsert[0]);\n",
       "      element.append(toinsert);\n",
       "      return toinsert\n",
       "    }\n",
       "\n",
       "    /* Handle when an output is cleared or removed */\n",
       "    events.on('clear_output.CodeCell', handleClearOutput);\n",
       "    events.on('delete.Cell', handleClearOutput);\n",
       "\n",
       "    /* Handle when a new output is added */\n",
       "    events.on('output_added.OutputArea', handleAddOutput);\n",
       "\n",
       "    /**\n",
       "     * Register the mime type and append_mime function with output_area\n",
       "     */\n",
       "    OutputArea.prototype.register_mime_type(EXEC_MIME_TYPE, append_mime, {\n",
       "      /* Is output safe? */\n",
       "      safe: true,\n",
       "      /* Index of renderer in `output_area.display_order` */\n",
       "      index: 0\n",
       "    });\n",
       "  }\n",
       "\n",
       "  // register the mime type if in Jupyter Notebook environment and previously unregistered\n",
       "  if (root.Jupyter !== undefined) {\n",
       "    var events = require('base/js/events');\n",
       "    var OutputArea = require('notebook/js/outputarea').OutputArea;\n",
       "\n",
       "    if (OutputArea.prototype.mime_types().indexOf(EXEC_MIME_TYPE) == -1) {\n",
       "      register_renderer(events, OutputArea);\n",
       "    }\n",
       "  }\n",
       "\n",
       "  \n",
       "  if (typeof (root._bokeh_timeout) === \"undefined\" || force === true) {\n",
       "    root._bokeh_timeout = Date.now() + 5000;\n",
       "    root._bokeh_failed_load = false;\n",
       "  }\n",
       "\n",
       "  var NB_LOAD_WARNING = {'data': {'text/html':\n",
       "     \"<div style='background-color: #fdd'>\\n\"+\n",
       "     \"<p>\\n\"+\n",
       "     \"BokehJS does not appear to have successfully loaded. If loading BokehJS from CDN, this \\n\"+\n",
       "     \"may be due to a slow or bad network connection. Possible fixes:\\n\"+\n",
       "     \"</p>\\n\"+\n",
       "     \"<ul>\\n\"+\n",
       "     \"<li>re-rerun `output_notebook()` to attempt to load from CDN again, or</li>\\n\"+\n",
       "     \"<li>use INLINE resources instead, as so:</li>\\n\"+\n",
       "     \"</ul>\\n\"+\n",
       "     \"<code>\\n\"+\n",
       "     \"from bokeh.resources import INLINE\\n\"+\n",
       "     \"output_notebook(resources=INLINE)\\n\"+\n",
       "     \"</code>\\n\"+\n",
       "     \"</div>\"}};\n",
       "\n",
       "  function display_loaded() {\n",
       "    var el = document.getElementById(\"4e8d742d-16b7-4827-8e41-2b7dd3ff1d9b\");\n",
       "    if (el != null) {\n",
       "      el.textContent = \"BokehJS is loading...\";\n",
       "    }\n",
       "    if (root.Bokeh !== undefined) {\n",
       "      if (el != null) {\n",
       "        el.textContent = \"BokehJS \" + root.Bokeh.version + \" successfully loaded.\";\n",
       "      }\n",
       "    } else if (Date.now() < root._bokeh_timeout) {\n",
       "      setTimeout(display_loaded, 100)\n",
       "    }\n",
       "  }\n",
       "\n",
       "\n",
       "  function run_callbacks() {\n",
       "    try {\n",
       "      root._bokeh_onload_callbacks.forEach(function(callback) { callback() });\n",
       "    }\n",
       "    finally {\n",
       "      delete root._bokeh_onload_callbacks\n",
       "    }\n",
       "    console.info(\"Bokeh: all callbacks have finished\");\n",
       "  }\n",
       "\n",
       "  function load_libs(js_urls, callback) {\n",
       "    root._bokeh_onload_callbacks.push(callback);\n",
       "    if (root._bokeh_is_loading > 0) {\n",
       "      console.log(\"Bokeh: BokehJS is being loaded, scheduling callback at\", now());\n",
       "      return null;\n",
       "    }\n",
       "    if (js_urls == null || js_urls.length === 0) {\n",
       "      run_callbacks();\n",
       "      return null;\n",
       "    }\n",
       "    console.log(\"Bokeh: BokehJS not loaded, scheduling load and callback at\", now());\n",
       "    root._bokeh_is_loading = js_urls.length;\n",
       "    for (var i = 0; i < js_urls.length; i++) {\n",
       "      var url = js_urls[i];\n",
       "      var s = document.createElement('script');\n",
       "      s.src = url;\n",
       "      s.async = false;\n",
       "      s.onreadystatechange = s.onload = function() {\n",
       "        root._bokeh_is_loading--;\n",
       "        if (root._bokeh_is_loading === 0) {\n",
       "          console.log(\"Bokeh: all BokehJS libraries loaded\");\n",
       "          run_callbacks()\n",
       "        }\n",
       "      };\n",
       "      s.onerror = function() {\n",
       "        console.warn(\"failed to load library \" + url);\n",
       "      };\n",
       "      console.log(\"Bokeh: injecting script tag for BokehJS library: \", url);\n",
       "      document.getElementsByTagName(\"head\")[0].appendChild(s);\n",
       "    }\n",
       "  };var element = document.getElementById(\"4e8d742d-16b7-4827-8e41-2b7dd3ff1d9b\");\n",
       "  if (element == null) {\n",
       "    console.log(\"Bokeh: ERROR: autoload.js configured with elementid '4e8d742d-16b7-4827-8e41-2b7dd3ff1d9b' but no matching script tag was found. \")\n",
       "    return false;\n",
       "  }\n",
       "\n",
       "  var js_urls = [\"https://cdn.pydata.org/bokeh/release/bokeh-0.12.14.min.js\", \"https://cdn.pydata.org/bokeh/release/bokeh-widgets-0.12.14.min.js\", \"https://cdn.pydata.org/bokeh/release/bokeh-tables-0.12.14.min.js\", \"https://cdn.pydata.org/bokeh/release/bokeh-gl-0.12.14.min.js\"];\n",
       "\n",
       "  var inline_js = [\n",
       "    function(Bokeh) {\n",
       "      Bokeh.set_log_level(\"info\");\n",
       "    },\n",
       "    \n",
       "    function(Bokeh) {\n",
       "      \n",
       "    },\n",
       "    function(Bokeh) {\n",
       "      console.log(\"Bokeh: injecting CSS: https://cdn.pydata.org/bokeh/release/bokeh-0.12.14.min.css\");\n",
       "      Bokeh.embed.inject_css(\"https://cdn.pydata.org/bokeh/release/bokeh-0.12.14.min.css\");\n",
       "      console.log(\"Bokeh: injecting CSS: https://cdn.pydata.org/bokeh/release/bokeh-widgets-0.12.14.min.css\");\n",
       "      Bokeh.embed.inject_css(\"https://cdn.pydata.org/bokeh/release/bokeh-widgets-0.12.14.min.css\");\n",
       "      console.log(\"Bokeh: injecting CSS: https://cdn.pydata.org/bokeh/release/bokeh-tables-0.12.14.min.css\");\n",
       "      Bokeh.embed.inject_css(\"https://cdn.pydata.org/bokeh/release/bokeh-tables-0.12.14.min.css\");\n",
       "    }\n",
       "  ];\n",
       "\n",
       "  function run_inline_js() {\n",
       "    \n",
       "    if ((root.Bokeh !== undefined) || (force === true)) {\n",
       "      for (var i = 0; i < inline_js.length; i++) {\n",
       "        inline_js[i].call(root, root.Bokeh);\n",
       "      }if (force === true) {\n",
       "        display_loaded();\n",
       "      }} else if (Date.now() < root._bokeh_timeout) {\n",
       "      setTimeout(run_inline_js, 100);\n",
       "    } else if (!root._bokeh_failed_load) {\n",
       "      console.log(\"Bokeh: BokehJS failed to load within specified timeout.\");\n",
       "      root._bokeh_failed_load = true;\n",
       "    } else if (force !== true) {\n",
       "      var cell = $(document.getElementById(\"4e8d742d-16b7-4827-8e41-2b7dd3ff1d9b\")).parents('.cell').data().cell;\n",
       "      cell.output_area.append_execute_result(NB_LOAD_WARNING)\n",
       "    }\n",
       "\n",
       "  }\n",
       "\n",
       "  if (root._bokeh_is_loading === 0) {\n",
       "    console.log(\"Bokeh: BokehJS loaded, going straight to plotting\");\n",
       "    run_inline_js();\n",
       "  } else {\n",
       "    load_libs(js_urls, function() {\n",
       "      console.log(\"Bokeh: BokehJS plotting callback run at\", now());\n",
       "      run_inline_js();\n",
       "    });\n",
       "  }\n",
       "}(window));"
      ],
      "application/vnd.bokehjs_load.v0+json": "\n(function(root) {\n  function now() {\n    return new Date();\n  }\n\n  var force = true;\n\n  if (typeof (root._bokeh_onload_callbacks) === \"undefined\" || force === true) {\n    root._bokeh_onload_callbacks = [];\n    root._bokeh_is_loading = undefined;\n  }\n\n  \n\n  \n  if (typeof (root._bokeh_timeout) === \"undefined\" || force === true) {\n    root._bokeh_timeout = Date.now() + 5000;\n    root._bokeh_failed_load = false;\n  }\n\n  var NB_LOAD_WARNING = {'data': {'text/html':\n     \"<div style='background-color: #fdd'>\\n\"+\n     \"<p>\\n\"+\n     \"BokehJS does not appear to have successfully loaded. If loading BokehJS from CDN, this \\n\"+\n     \"may be due to a slow or bad network connection. Possible fixes:\\n\"+\n     \"</p>\\n\"+\n     \"<ul>\\n\"+\n     \"<li>re-rerun `output_notebook()` to attempt to load from CDN again, or</li>\\n\"+\n     \"<li>use INLINE resources instead, as so:</li>\\n\"+\n     \"</ul>\\n\"+\n     \"<code>\\n\"+\n     \"from bokeh.resources import INLINE\\n\"+\n     \"output_notebook(resources=INLINE)\\n\"+\n     \"</code>\\n\"+\n     \"</div>\"}};\n\n  function display_loaded() {\n    var el = document.getElementById(\"4e8d742d-16b7-4827-8e41-2b7dd3ff1d9b\");\n    if (el != null) {\n      el.textContent = \"BokehJS is loading...\";\n    }\n    if (root.Bokeh !== undefined) {\n      if (el != null) {\n        el.textContent = \"BokehJS \" + root.Bokeh.version + \" successfully loaded.\";\n      }\n    } else if (Date.now() < root._bokeh_timeout) {\n      setTimeout(display_loaded, 100)\n    }\n  }\n\n\n  function run_callbacks() {\n    try {\n      root._bokeh_onload_callbacks.forEach(function(callback) { callback() });\n    }\n    finally {\n      delete root._bokeh_onload_callbacks\n    }\n    console.info(\"Bokeh: all callbacks have finished\");\n  }\n\n  function load_libs(js_urls, callback) {\n    root._bokeh_onload_callbacks.push(callback);\n    if (root._bokeh_is_loading > 0) {\n      console.log(\"Bokeh: BokehJS is being loaded, scheduling callback at\", now());\n      return null;\n    }\n    if (js_urls == null || js_urls.length === 0) {\n      run_callbacks();\n      return null;\n    }\n    console.log(\"Bokeh: BokehJS not loaded, scheduling load and callback at\", now());\n    root._bokeh_is_loading = js_urls.length;\n    for (var i = 0; i < js_urls.length; i++) {\n      var url = js_urls[i];\n      var s = document.createElement('script');\n      s.src = url;\n      s.async = false;\n      s.onreadystatechange = s.onload = function() {\n        root._bokeh_is_loading--;\n        if (root._bokeh_is_loading === 0) {\n          console.log(\"Bokeh: all BokehJS libraries loaded\");\n          run_callbacks()\n        }\n      };\n      s.onerror = function() {\n        console.warn(\"failed to load library \" + url);\n      };\n      console.log(\"Bokeh: injecting script tag for BokehJS library: \", url);\n      document.getElementsByTagName(\"head\")[0].appendChild(s);\n    }\n  };var element = document.getElementById(\"4e8d742d-16b7-4827-8e41-2b7dd3ff1d9b\");\n  if (element == null) {\n    console.log(\"Bokeh: ERROR: autoload.js configured with elementid '4e8d742d-16b7-4827-8e41-2b7dd3ff1d9b' but no matching script tag was found. \")\n    return false;\n  }\n\n  var js_urls = [\"https://cdn.pydata.org/bokeh/release/bokeh-0.12.14.min.js\", \"https://cdn.pydata.org/bokeh/release/bokeh-widgets-0.12.14.min.js\", \"https://cdn.pydata.org/bokeh/release/bokeh-tables-0.12.14.min.js\", \"https://cdn.pydata.org/bokeh/release/bokeh-gl-0.12.14.min.js\"];\n\n  var inline_js = [\n    function(Bokeh) {\n      Bokeh.set_log_level(\"info\");\n    },\n    \n    function(Bokeh) {\n      \n    },\n    function(Bokeh) {\n      console.log(\"Bokeh: injecting CSS: https://cdn.pydata.org/bokeh/release/bokeh-0.12.14.min.css\");\n      Bokeh.embed.inject_css(\"https://cdn.pydata.org/bokeh/release/bokeh-0.12.14.min.css\");\n      console.log(\"Bokeh: injecting CSS: https://cdn.pydata.org/bokeh/release/bokeh-widgets-0.12.14.min.css\");\n      Bokeh.embed.inject_css(\"https://cdn.pydata.org/bokeh/release/bokeh-widgets-0.12.14.min.css\");\n      console.log(\"Bokeh: injecting CSS: https://cdn.pydata.org/bokeh/release/bokeh-tables-0.12.14.min.css\");\n      Bokeh.embed.inject_css(\"https://cdn.pydata.org/bokeh/release/bokeh-tables-0.12.14.min.css\");\n    }\n  ];\n\n  function run_inline_js() {\n    \n    if ((root.Bokeh !== undefined) || (force === true)) {\n      for (var i = 0; i < inline_js.length; i++) {\n        inline_js[i].call(root, root.Bokeh);\n      }if (force === true) {\n        display_loaded();\n      }} else if (Date.now() < root._bokeh_timeout) {\n      setTimeout(run_inline_js, 100);\n    } else if (!root._bokeh_failed_load) {\n      console.log(\"Bokeh: BokehJS failed to load within specified timeout.\");\n      root._bokeh_failed_load = true;\n    } else if (force !== true) {\n      var cell = $(document.getElementById(\"4e8d742d-16b7-4827-8e41-2b7dd3ff1d9b\")).parents('.cell').data().cell;\n      cell.output_area.append_execute_result(NB_LOAD_WARNING)\n    }\n\n  }\n\n  if (root._bokeh_is_loading === 0) {\n    console.log(\"Bokeh: BokehJS loaded, going straight to plotting\");\n    run_inline_js();\n  } else {\n    load_libs(js_urls, function() {\n      console.log(\"Bokeh: BokehJS plotting callback run at\", now());\n      run_inline_js();\n    });\n  }\n}(window));"
     },
     "metadata": {},
     "output_type": "display_data"
    }
   ],
   "source": [
    "output_notebook()"
   ]
  },
  {
   "cell_type": "code",
   "execution_count": 8,
   "metadata": {
    "collapsed": true
   },
   "outputs": [],
   "source": [
    "def fmt_cool(ds_in):\n",
    "    ds = ds_in.copy(deep=True)\n",
    "    if 'igg' in ds.dims:\n",
    "        ds = ds.sel(igg=1)\n",
    "\n",
    "    if 'g' in ds.dims:\n",
    "        ds = ds.sum('g')\n",
    "            \n",
    "    if 'band' in ds.dims:\n",
    "        try:\n",
    "            ds = ds.squeeze('band')\n",
    "        except ValueError:\n",
    "            ds = ds.sum('band')\n",
    "                \n",
    "    return ds['coolrg']\n",
    "\n",
    "\n",
    "def pltdata_cooling_1(ds_cool=None,\n",
    "                      ds_cool_crd=None, ds_cool_wgt=None):\n",
    "    \n",
    "\n",
    "\n",
    "    colors = all_palettes['Set1'][4]\n",
    "    data = [{'label': 'CLIRAD `coolr_bands`',\n",
    "             'srs': fmt_cool(ds_cool),\n",
    "             'line_dash': 'dashed', 'line_width': 5,\n",
    "             'color': colors[0], 'alpha': .6},\n",
    "            {'label': 'CRD',\n",
    "             'srs': fmt_cool(ds_cool_crd),\n",
    "             'line_dash': 'solid', 'line_width': 1.5,\n",
    "             'marker': 'circle', 'marker_size': 5,\n",
    "             'color': colors[2], 'alpha': 1,},\n",
    "            {'label': 'WGT igg=10 wgt_flux=2',\n",
    "             'srs': fmt_cool(ds_cool_wgt),\n",
    "             'line_dash': 'solid', 'line_width': 3,\n",
    "             'marker': 'square', 'marker_size': 5,\n",
    "             'color': colors[3], 'alpha': .6}]\n",
    "    return data\n",
    "\n",
    "\n",
    "def nice_xlims(pltdata=None, prange=None):\n",
    "    \n",
    "    def get_slice(srs):\n",
    "        return srs.sel(pressure=slice(*prange))\n",
    "    \n",
    "    srss = [d['srs'] for d in pltdata]\n",
    "    vmin = min([get_slice(srs).min() for srs in srss])\n",
    "    vmax = max([get_slice(srs).max() for srs in srss])\n",
    "    dv = (vmax - vmin) * .01\n",
    "    return float(vmin - dv), float(vmax + dv)\n",
    "    \n",
    "\n",
    "def plt_cooling_bokeh(pltdata=None):\n",
    "    '''\n",
    "    Plot a list of cooling rate profiles using bokeh.\n",
    "    '''\n",
    "    ymin = 1e-2 \n",
    "    ymax = 1020 \n",
    "        \n",
    "    p1 = figure(title=\"Linear pressure scale\", \n",
    "                plot_width=400)        \n",
    "    xmin, xmax = nice_xlims(pltdata, prange=(50, 1050))\n",
    "    for d in pltdata:\n",
    "        if 'marker' in d:\n",
    "            getattr(p1, d['marker'])(d['srs'].values, \n",
    "                    d['srs'].coords['pressure'].values,\n",
    "                    color=d['color'], alpha=.7)\n",
    "        p1.line(d['srs'].values, \n",
    "                d['srs'].coords['pressure'].values,\n",
    "                color=d['color'], alpha=d['alpha'], \n",
    "                line_width=d['line_width'], line_dash=d['line_dash'])\n",
    "    \n",
    "    p1.y_range = Range1d(ymax, ymin)\n",
    "    p1.yaxis.axis_label = 'pressure [mb]'   \n",
    "    p1.x_range = Range1d(xmin, xmax)\n",
    "    p1.xaxis.axis_label = 'cooling rate [K/day]'\n",
    "            \n",
    "    p2 = figure(title='Log pressure scale', y_axis_type='log',\n",
    "                plot_width=560)\n",
    "    xmin, xmax = nice_xlims(pltdata, prange=(.01, 200))\n",
    "    \n",
    "    rs = []\n",
    "    for d in pltdata:\n",
    "        rd = []\n",
    "        if 'marker' in d:\n",
    "            r_mark = getattr(p2, d['marker'])(d['srs'].values, \n",
    "                        d['srs'].coords['pressure'].values,\n",
    "                        color=d['color'], alpha=.7)\n",
    "            rd.append(r_mark)\n",
    "        r_line = p2.line(d['srs'].values, \n",
    "                    d['srs'].coords['pressure'].values,\n",
    "                    color=d['color'], alpha=d['alpha'], \n",
    "                    line_width=d['line_width'], line_dash=d['line_dash'])\n",
    "        rd.append(r_line)\n",
    "      \n",
    "        rs.append(rd)\n",
    "        \n",
    "    p2.y_range = Range1d(ymax, ymin)  \n",
    "    p2.yaxis.axis_label = 'pressure [mb]'\n",
    "    \n",
    "    p2.x_range = Range1d(xmin, xmax)\n",
    "    p2.xaxis.axis_label = 'cooling rate [K/day]'\n",
    "    \n",
    "    items = [(d['label'], r) for r, d in zip(rs, pltdata)]\n",
    "    legend = Legend(items=items, location=(10, -30))\n",
    "    legend.label_text_font_size = '8pt'\n",
    "    \n",
    "    p2.add_layout(legend, 'right')  \n",
    "    \n",
    "    show(gridplot(p1, p2, ncols=2, plot_height=500))\n",
    "    \n",
    "\n",
    "def script_plt_cooling():\n",
    "    pltdata = pltdata_cooling_1(\n",
    "        ds_cool=DS_COOL,\n",
    "        ds_cool_crd=DS_COOL_CRD,\n",
    "        ds_cool_wgt=DS_COOL_WGT)\n",
    "    plt_cooling_bokeh(pltdata=pltdata)\n",
    "    print('''FIGURE. Cooling rate profiles.''')"
   ]
  },
  {
   "cell_type": "code",
   "execution_count": 9,
   "metadata": {
    "collapsed": true
   },
   "outputs": [],
   "source": [
    "def fmt_flux(ds_in):\n",
    "    ds = ds_in.copy(deep=True)\n",
    "    \n",
    "    for l in ('level', 'layer'):\n",
    "        if l in ds.data_vars:\n",
    "            if len(ds[l].dims) > 1:\n",
    "                surface = {d: 0 for d in ds.dims if d != 'pressure'}\n",
    "                coord_level = ds[l][surface]\n",
    "                ds.coords[l] = ('pressure', coord_level)\n",
    "            else:\n",
    "                ds.coords[l] = ('pressure', ds[l])\n",
    "        \n",
    "    ds = ds.isel(pressure=[0, 23, -1])\n",
    "        \n",
    "    if 'igg' in ds.dims:\n",
    "        ds = ds.sel(igg=[1])\n",
    "        ds = ds.squeeze('igg').drop('igg')\n",
    "    \n",
    "    if 'g' in ds.dims:\n",
    "        ds = ds.sum('g')\n",
    "            \n",
    "    if 'band' in ds.dims:\n",
    "        try:\n",
    "            ds = ds.squeeze('band').drop('band')\n",
    "        except ValueError:\n",
    "            ds = ds.sum('band')\n",
    "                \n",
    "    df = ds.to_dataframe()\n",
    "    df = df.set_index('level', append=True)               \n",
    "    return df\n",
    "\n",
    "\n",
    "def tbdata_flux(ds_flux=None, ds_flux_crd=None, ds_flux_wgt=None):\n",
    "    ilevels = [0, 23, -1]\n",
    "            \n",
    "    benchmark = {'label': 'WGT igg=10 wgt_flux=1',\n",
    "                 'df': fmt_flux(ds_flux_wgt)}\n",
    "    \n",
    "    tbs = [{'label': 'CRD',\n",
    "            'df': fmt_flux(ds_flux_crd)},\n",
    "           {'label': 'CLIRAD',\n",
    "            'df': fmt_flux(ds_flux)}]\n",
    "    \n",
    "    data = {'benchmark': benchmark, 'others': tbs}\n",
    "    return data\n",
    "\n",
    "\n",
    "def tb_flux(tbdata=None):\n",
    "    benchmark = tbdata['benchmark']\n",
    "    others = tbdata['others']\n",
    "    \n",
    "    def show_tb(d=None):\n",
    "        display.display(d['df'])\n",
    "        print('Table.', 'Fluxes.', d['label'])\n",
    "        \n",
    "    def show_tbdiff(d0=None, d=None):\n",
    "        df = d['df']\n",
    "        df.index = d0['df'].index\n",
    "        display.display(df - d0['df'])\n",
    "        print('Table.', 'Fluxes.', \n",
    "              '({}) - ({})'.format(d['label'], d0['label']))\n",
    "        \n",
    "    show_tb(benchmark)\n",
    "    for d in others:\n",
    "        show_tb(d)\n",
    "        \n",
    "    for d in others:\n",
    "        show_tbdiff(d=d, d0=benchmark)\n",
    "        \n",
    "        \n",
    "def script_tb_flux():\n",
    "    data = tbdata_flux(ds_flux=DS_FLUX,\n",
    "                       ds_flux_crd=DS_FLUX_CRD,\n",
    "                       ds_flux_wgt=DS_FLUX_WGT)\n",
    "    tb_flux(tbdata=data)"
   ]
  },
  {
   "cell_type": "code",
   "execution_count": 10,
   "metadata": {
    "collapsed": true
   },
   "outputs": [],
   "source": [
    "def band_map():\n",
    "    '''\n",
    "    Maps spectral bands in lblnew to spectral bands in clirad.\n",
    "    '''\n",
    "    lblnew2clirad = {'1': '1',\n",
    "            '2': '2',\n",
    "            '3a': '3',\n",
    "            '3b': '4',\n",
    "            '3c': '5',\n",
    "            '4': '6', \n",
    "            '5': '7',\n",
    "            '6': '8',\n",
    "            '7': '9', \n",
    "            '8': '10',\n",
    "            '9': '11'}\n",
    "    \n",
    "    clirad2lblnew = {clirad: lblnew \n",
    "                     for lblnew, clirad in lblnew2clirad.items()}\n",
    "    return clirad2lblnew\n",
    "\n",
    "\n",
    "def gasbands():\n",
    "    bmap = band_map()\n",
    "    gases = list(PARAM['molecule'].keys())\n",
    "    \n",
    "    bands = [bmap[str(b)] for b in PARAM['band']]\n",
    "    return list(itertools.product(gases, bands))\n",
    "\n",
    "\n",
    "def print_bestfit_params():\n",
    "    print('Best-fit values for each (gas, band)')\n",
    "    print('------------------------------------')\n",
    "    for gas, band in gasbands():\n",
    "        print('o {} band{}'.format(gas, band))\n",
    "        param = bestfits.kdist_params(molecule=gas, band=band)\n",
    "        for name, value in sorted(param.items()):\n",
    "            print(2 * ' ' + '{} = {}'.format(name, value))\n",
    "\n",
    "        \n",
    "def print_input_param():        \n",
    "    for name, value in PARAM.items():\n",
    "        print('{} = {}'.format(name, value))\n",
    "        \n",
    "        \n",
    "def print_lblnew_param():\n",
    "    for name, value in sorted(PARAM_LBLNEW.items()):\n",
    "        print('{} = {}'.format(name, value))\n"
   ]
  },
  {
   "cell_type": "code",
   "execution_count": 11,
   "metadata": {
    "collapsed": true,
    "scrolled": false
   },
   "outputs": [],
   "source": [
    "def show_html(s):\n",
    "    display.display(display.HTML(s))\n",
    "\n",
    "    \n",
    "def show_markdown(s):\n",
    "    display.display(display.Markdown(s))\n",
    "\n",
    "    \n",
    "def script():\n",
    "    \n",
    "    title = '### CLIRAD-LW'\n",
    "    s_input = 'Input Parameters'\n",
    "    s_lblnew_param = 'LBLNEW case compaired against'\n",
    "    s_bestfits = 'Best-fit Parameters'\n",
    "    s_plt_cooling = 'Cooling Rate Profiles'\n",
    "    s_tb_flux = 'Flux Comparison'\n",
    "    \n",
    "    # title\n",
    "    show_markdown('### CLIRAD-LW')\n",
    "    \n",
    "    # TOC\n",
    "    show_markdown('### Table of Contents')\n",
    "    show_html(climahtml.getHTML_hrefanchor(s_input))\n",
    "    show_html(climahtml.getHTML_hrefanchor(s_lblnew_param))\n",
    "    show_html(climahtml.getHTML_hrefanchor(s_plt_cooling))\n",
    "    show_html(climahtml.getHTML_hrefanchor(s_tb_flux))\n",
    "    show_html(climahtml.getHTML_hrefanchor(s_bestfits))\n",
    "    \n",
    "    # Input parameters\n",
    "    show_html(climahtml.getHTML_idanchor(s_input))\n",
    "    show_markdown(climahtml.getMarkdown_sectitle(s_input))\n",
    "    print_input_param()\n",
    "    \n",
    "    # LBLNEW parameters \n",
    "    show_html(climahtml.getHTML_idanchor(s_lblnew_param))\n",
    "    show_markdown(climahtml.getMarkdown_sectitle(s_lblnew_param))\n",
    "    print_lblnew_param()\n",
    "    \n",
    "    # Cooling rate profiles\n",
    "    show_html(climahtml.getHTML_idanchor(s_plt_cooling))\n",
    "    show_markdown(climahtml.getMarkdown_sectitle(s_plt_cooling))\n",
    "    script_plt_cooling()\n",
    "    \n",
    "    # Flux comparison\n",
    "    show_html(climahtml.getHTML_idanchor(s_tb_flux))\n",
    "    show_markdown(climahtml.getMarkdown_sectitle(s_tb_flux))\n",
    "    script_tb_flux()\n",
    "    \n",
    "    # Best-fit values\n",
    "    show_html(climahtml.getHTML_idanchor(s_bestfits))\n",
    "    show_markdown(climahtml.getMarkdown_sectitle(s_bestfits))\n",
    "    print_bestfit_params()\n",
    "   \n",
    "    "
   ]
  },
  {
   "cell_type": "code",
   "execution_count": 12,
   "metadata": {
    "collapsed": true,
    "scrolled": false
   },
   "outputs": [
    {
     "data": {
      "text/markdown": [
       "### CLIRAD-LW"
      ],
      "text/plain": [
       "<IPython.core.display.Markdown object>"
      ]
     },
     "metadata": {},
     "output_type": "display_data"
    },
    {
     "data": {
      "text/markdown": [
       "### Table of Contents"
      ],
      "text/plain": [
       "<IPython.core.display.Markdown object>"
      ]
     },
     "metadata": {},
     "output_type": "display_data"
    },
    {
     "data": {
      "text/html": [
       "<a href=\"#Input_Parameters\">Input Parameters</a>"
      ],
      "text/plain": [
       "<IPython.core.display.HTML object>"
      ]
     },
     "metadata": {},
     "output_type": "display_data"
    },
    {
     "data": {
      "text/html": [
       "<a href=\"#LBLNEW_case_compaired_against\">LBLNEW case compaired against</a>"
      ],
      "text/plain": [
       "<IPython.core.display.HTML object>"
      ]
     },
     "metadata": {},
     "output_type": "display_data"
    },
    {
     "data": {
      "text/html": [
       "<a href=\"#Cooling_Rate_Profiles\">Cooling Rate Profiles</a>"
      ],
      "text/plain": [
       "<IPython.core.display.HTML object>"
      ]
     },
     "metadata": {},
     "output_type": "display_data"
    },
    {
     "data": {
      "text/html": [
       "<a href=\"#Flux_Comparison\">Flux Comparison</a>"
      ],
      "text/plain": [
       "<IPython.core.display.HTML object>"
      ]
     },
     "metadata": {},
     "output_type": "display_data"
    },
    {
     "data": {
      "text/html": [
       "<a href=\"#Best-fit_Parameters\">Best-fit Parameters</a>"
      ],
      "text/plain": [
       "<IPython.core.display.HTML object>"
      ]
     },
     "metadata": {},
     "output_type": "display_data"
    },
    {
     "data": {
      "text/html": [
       "<a id=\"Input_Parameters\"></a>"
      ],
      "text/plain": [
       "<IPython.core.display.HTML object>"
      ]
     },
     "metadata": {},
     "output_type": "display_data"
    },
    {
     "data": {
      "text/markdown": [
       "# Input Parameters"
      ],
      "text/plain": [
       "<IPython.core.display.Markdown object>"
      ]
     },
     "metadata": {},
     "output_type": "display_data"
    },
    {
     "name": "stdout",
     "output_type": "stream",
     "text": [
      "atmpro = mls\n",
      "band = [3]\n",
      "commitnumber = 0c003ef\n",
      "molecule = {'co2': 0.0004, 'h2o': 'atmpro', 'n2o': 3.2e-07}\n",
      "tsfc = 294\n"
     ]
    },
    {
     "data": {
      "text/html": [
       "<a id=\"LBLNEW_case_compaired_against\"></a>"
      ],
      "text/plain": [
       "<IPython.core.display.HTML object>"
      ]
     },
     "metadata": {},
     "output_type": "display_data"
    },
    {
     "data": {
      "text/markdown": [
       "# LBLNEW case compaired against"
      ],
      "text/plain": [
       "<IPython.core.display.Markdown object>"
      ]
     },
     "metadata": {},
     "output_type": "display_data"
    },
    {
     "name": "stdout",
     "output_type": "stream",
     "text": [
      "atmpro = mls\n",
      "band = 3a\n",
      "commitnumber = 5014a19\n",
      "dv = 0.01\n",
      "molecule = {'co2': 0.0004, 'h2o': 'atmpro', 'n2o': 3.2e-07}\n",
      "nv = 100\n",
      "tsfc = 294\n"
     ]
    },
    {
     "data": {
      "text/html": [
       "<a id=\"Cooling_Rate_Profiles\"></a>"
      ],
      "text/plain": [
       "<IPython.core.display.HTML object>"
      ]
     },
     "metadata": {},
     "output_type": "display_data"
    },
    {
     "data": {
      "text/markdown": [
       "# Cooling Rate Profiles"
      ],
      "text/plain": [
       "<IPython.core.display.Markdown object>"
      ]
     },
     "metadata": {},
     "output_type": "display_data"
    },
    {
     "data": {
      "text/html": [
       "\n",
       "<div class=\"bk-root\">\n",
       "    <div class=\"bk-plotdiv\" id=\"fbc1e3c3-6979-4893-b4b4-c8019ae7f255\"></div>\n",
       "</div>"
      ]
     },
     "metadata": {},
     "output_type": "display_data"
    },
    {
     "data": {
      "application/javascript": [
       "(function(root) {\n",
       "  function embed_document(root) {\n",
       "    \n",
       "  var docs_json = {\"65c75096-f4b9-4682-ae0b-23ea2f5fdc7e\":{\"roots\":{\"references\":[{\"attributes\":{\"line_alpha\":0.1,\"line_color\":\"#1f77b4\",\"line_dash\":[6],\"line_width\":5,\"x\":{\"field\":\"x\"},\"y\":{\"field\":\"y\"}},\"id\":\"1aa9730e-2ca2-4ae5-81fc-95405e9b3ee6\",\"type\":\"Line\"},{\"attributes\":{},\"id\":\"e25ed341-2559-46ea-8161-6fdb944e6726\",\"type\":\"BasicTickFormatter\"},{\"attributes\":{\"data_source\":{\"id\":\"5f44781f-9981-419c-bb3e-e07e4bbcc048\",\"type\":\"ColumnDataSource\"},\"glyph\":{\"id\":\"277c4050-7794-479b-9133-f0c5c97086d5\",\"type\":\"Line\"},\"hover_glyph\":null,\"muted_glyph\":null,\"nonselection_glyph\":{\"id\":\"9c7c3e1f-5d69-4951-898b-a1cb57346f96\",\"type\":\"Line\"},\"selection_glyph\":null,\"view\":{\"id\":\"3084942c-0d93-48ad-b74b-4047761cfa8f\",\"type\":\"CDSView\"}},\"id\":\"23df7b48-1fcb-481a-b534-bd6ad9a5aa0b\",\"type\":\"GlyphRenderer\"},{\"attributes\":{\"callback\":null,\"column_names\":[\"x\",\"y\"],\"data\":{\"x\":{\"__ndarray__\":\"ywbC4xUn0j8TDXP+/ZTYP0R51blYh8E/VCd3Cn8nzT983qaiJU3TP555vSRj79A/yWst5d8b0j+uDVf/ztPSP7OnDRwKPtY/VWJD3EFR0j+bssueoUvTP3MXvEPletI/V1fLvqcJ0T+VdtXJOhjNP73ZzSlUeck/VpPxOcHIzD9GJOkeAtzRPxR0QZ7ZxdM/utXW/Lbv1D8S1ikDxRfXPyb2+b2Hqtw/pCq3/qfs4z+fmA4AyXLqP6yevF1p+Oo/m3VCvyE65j9GufJhD5DhP1tlInxaC9w/ys+6BK9v1j8zYByeVvjRP5LOwMjLGsw/dGD3JTQsxT8eXoTnrdO9PybbfACr07Q/xNNbni8/sD8I5XhjEymrP/t2iR+gUaU/YmXoYzSuoD+4vjiGOouaP4tZ0RRxoow/9k9LxgXtWz/aAmsh9C9yP3Xhix/4Upk/yl5ygLlGqT9ZVGG/aXKzPzdDYJtDCLo/AvTa8ORovj9V2yziZDDBP6+jYHyHEcM/AHdVd5fRxD9jKtx2yrjGP8RE/9uX+cg/WTda5XQfyz/5NMQEdxjNPwIXXFqq3s4/kFr2XltD0D82UwiB6AvRP92OV71P19E/pzyZAy0y0z9BijICx3HUP5JLb8FKbNU/JYC0YiwR1j+BpPxivlXWPwB2LL66TdY/IVu3vbQT1j9DnWY/WrXVPzxSGr1cPNU/nWn8oR2g1D985nKkr7fTP0r2QuDMWNI/AP9zHGiT0D9Zt4t60lPNP/1SuzaGxsk/Nn9lCHTkxj+UX3H+RyLFP+jIBNsMYMc/\",\"dtype\":\"float64\",\"shape\":[75]},\"y\":{\"__ndarray__\":\"S/O/Q+51ND/430zAtpRIP2vylNV0PVE/QxsjCssuWD/TR4Z78fVgP+inNsRxymc/OuuBfZWvcD/u3TFA02d3P2d3VoBnaoA/CD5h5MAGhz/1pA8HUCaQP+zrCsc9p5Y/Fb7LAKjGnz/nJ9c/SEmmPwBD+fzcQq8/FOZwv9nstT8Er5Y7M8G+P0c+r3jqkcU/yK72qKZBzj+tM989FzjVPxbgmr8yxN0/cOm5AXbg5D+5ctXAf0jtP5kqGJXUifQ/DsrqDELP/D8MCAhBojQEQDItVnmnVwxAiFXNvdHgE0BSSZ2AJuIbQAMJih9jjiNA5q4l5INuK0CPVN/5RT0zQHzxRXu8/DpAOZ7PgHrtQkAg8wGBzoxKQBSTN8DMeFJA2NmQf2ZqWEAAAAAAAFxeQEQX1LfMJmJAmpmZmZkfZUBmZmZmZhhoQLzoK0gzEWtAAAAAAAAKbkCiC+pbZoFwQAhyUMLM/XFA+I2vPTN6c0AQ5KCEmfZ0QAAAAAAAc3ZA8Btfe2bvd0AIclDCzGt5QPeNrz0z6HpAEOSghJlkfEAAAAAAAOF9QKML6ltmXX9ABTkoYeZsgED7xteeGSuBQAhyUMJM6YFAAAAAAICngkD4ja89s2WDQAU5KGHmI4RA+8bXnhnihEAIclDCTKCFQAAAAACAXoZA+I2vPbMch0AFOShh5tqHQPvG154ZmYhACHJQwkxXiUAAAAAAgBWKQPeNrz2z04pABTkoYeaRi0D7xteeGVCMQAlyUMJMDo1AAAAAAIDMjUD3ja89s4qOQGZmZmbmSI9A\",\"dtype\":\"float64\",\"shape\":[75]}}},\"id\":\"8fcb2223-c10a-473e-96a2-72f96ae35da0\",\"type\":\"ColumnDataSource\"},{\"attributes\":{\"source\":{\"id\":\"8fcb2223-c10a-473e-96a2-72f96ae35da0\",\"type\":\"ColumnDataSource\"}},\"id\":\"ebf6c287-4b5c-4266-bd4c-02fdb8b087b3\",\"type\":\"CDSView\"},{\"attributes\":{},\"id\":\"d59093bf-2e6d-41a2-a546-6676330434e0\",\"type\":\"BasicTickFormatter\"},{\"attributes\":{\"source\":{\"id\":\"5f44781f-9981-419c-bb3e-e07e4bbcc048\",\"type\":\"ColumnDataSource\"}},\"id\":\"3084942c-0d93-48ad-b74b-4047761cfa8f\",\"type\":\"CDSView\"},{\"attributes\":{},\"id\":\"db468ebd-9557-4c42-8333-a434fafbc672\",\"type\":\"BasicTickFormatter\"},{\"attributes\":{\"line_alpha\":0.6,\"line_color\":\"#e41a1c\",\"line_dash\":[6],\"line_width\":5,\"x\":{\"field\":\"x\"},\"y\":{\"field\":\"y\"}},\"id\":\"79d149f5-f628-4425-b710-0ac437cf17e3\",\"type\":\"Line\"},{\"attributes\":{\"callback\":null,\"column_names\":[\"x\",\"y\"],\"data\":{\"x\":{\"__ndarray__\":\"nluNkZGY2j/OtJKQJ03aP1/olduL4to/IL9tXLVh2z9FeKSPM6zbP2ckhD+qvts/Z3lg+G972z9XI/3uBNjaP+yhv8iyvdk/wlpK0D4a2D8NObaeIdzVPx0YSGmZ+dI/Hcua3BjQzj90gi7IMzvGP7mr9GYWmb8/doig5rvGwT8VdjDm16TJP8Xi3MsiudA/f4XMlUE11T+070BTZQ7bP0PHUEZDg+E/dazWskpj5z88gIeaz7btPxTAICvwPO0/Jtmwx8AR5z+xu+WPDnThP2H7yRgfJto/9R+I4kSq0z945Juvip7OP7XcPlATosg/jldiliRswz9v9gfKbfu8P5av/uFE+rU/KtJdD6+2sT/rIBykwRyrP+Oji245bqI/Wj8AIFw+mj/0E+98FraUP5Bx8EWurYU/rwGTW+tDNT9oQ/10HDRxP32rLAy8U5o/AaEH1CGLqj8YKRUGxYy0P6Ja6Vog5rs/1QRR9wFIwD+WBfJwK1LCP9NP9p7jhsQ/MS5N+ELUxj/GHhRzlCzJP5zJL2qUgcs/UsDR6dRwzT9jey3ovTHPP6xnMUZeddA/O4PQiyRL0T93taLufxfSP01URo4629I/EbZMRMcn1D+SeQUe70DVP7Z0NxXK/tU/FY7/hnlk1j9ZNs4B3XLWP1fBudCmNNY/CQg5MRy21T9qki/TvATVP7uB4eD7MNQ/J1Y+slZA0z92DWVu3x/SP4BWqlUFtNA/2KCKdnALzj8eohM6lpTKP2wTm01Pccc/kaC2FRTpxD+w7HpQ7V/DP///5mJf9MU/\",\"dtype\":\"float64\",\"shape\":[75]},\"y\":{\"__ndarray__\":\"GhExyth1ND/Sv8nbtpRIP2vylNV0PVE/aTum7souWD/At0SJ8fVgPw3Iuahxymc/MSNhhJWvcD/bTfBN02d3P2zb5nxnaoA/CD5h5MAGhz8NmeH1TyaQP+zrCsc9p5Y/LbKd76fGnz/bLW5ISEmmPww9YvTcQq8/JV2OstnstT8Er5Y7M8G+P0c+r3jqkcU/5h99k6ZBzj88bCIzFzjVP4enV8oyxN0//yH99nXg5D8qOpLLf0jtP5kqGJXUifQ/c9cS8kHP/D+/DpwzojQEQIEmwoanVwxA4lgXt9HgE0BSSZ2AJuIbQAMJih9jjiNA5q4l5INuK0AwTKYKRj0zQNv5fmq8/DpAaCJseHrtQkB/+zpwzoxKQM3MzMzMeFJAZmZmZmZqWEAAAAAAAFxeQM3MzMzMJmJAmpmZmZkfZUBmZmZmZhhoQDMzMzMzEWtAAAAAAAAKbkBmZmZmZoFwQM3MzMzM/XFAMzMzMzN6c0CamZmZmfZ0QAAAAAAAc3ZAZmZmZmbvd0DNzMzMzGt5QDMzMzMz6HpAmpmZmZlkfEAAAAAAAOF9QGZmZmZmXX9AZmZmZuZsgECamZmZGSuBQM3MzMxM6YFAAAAAAICngkAzMzMzs2WDQGZmZmbmI4RAmpmZmRnihEDNzMzMTKCFQAAAAACAXoZAMzMzM7Mch0BmZmZm5tqHQJqZmZkZmYhAzczMzExXiUAAAAAAgBWKQDMzMzOz04pAZmZmZuaRi0CamZmZGVCMQM3MzMxMDo1AAAAAAIDMjUAzMzMzs4qOQGZmZmbmSI9A\",\"dtype\":\"float64\",\"shape\":[75]}}},\"id\":\"e396170a-c63e-41a6-a5ea-cf4894c7fff1\",\"type\":\"ColumnDataSource\"},{\"attributes\":{\"source\":{\"id\":\"e396170a-c63e-41a6-a5ea-cf4894c7fff1\",\"type\":\"ColumnDataSource\"}},\"id\":\"864ce747-645f-4d7d-b3f7-d5ee66e2da3d\",\"type\":\"CDSView\"},{\"attributes\":{\"source\":{\"id\":\"647b2a39-d0bc-4d3c-918a-70fd795f399e\",\"type\":\"ColumnDataSource\"}},\"id\":\"0483a352-4b4e-418f-8c21-9f80be768118\",\"type\":\"CDSView\"},{\"attributes\":{\"fill_alpha\":{\"value\":0.7},\"fill_color\":{\"value\":\"#984ea3\"},\"line_alpha\":{\"value\":0.7},\"line_color\":{\"value\":\"#984ea3\"},\"x\":{\"field\":\"x\"},\"y\":{\"field\":\"y\"}},\"id\":\"b27a98da-e85d-42d6-aa62-cb31e6bc1287\",\"type\":\"Square\"},{\"attributes\":{\"line_color\":\"#4daf4a\",\"line_width\":1.5,\"x\":{\"field\":\"x\"},\"y\":{\"field\":\"y\"}},\"id\":\"0d28eb46-0509-414a-a493-1039d611ca99\",\"type\":\"Line\"},{\"attributes\":{\"source\":{\"id\":\"83544c20-1650-435b-8cb2-2523de1953fd\",\"type\":\"ColumnDataSource\"}},\"id\":\"9a1ee1c4-59db-4e5d-9412-239045c1cb29\",\"type\":\"CDSView\"},{\"attributes\":{\"line_alpha\":0.6,\"line_color\":\"#e41a1c\",\"line_dash\":[6],\"line_width\":5,\"x\":{\"field\":\"x\"},\"y\":{\"field\":\"y\"}},\"id\":\"277c4050-7794-479b-9133-f0c5c97086d5\",\"type\":\"Line\"},{\"attributes\":{\"data_source\":{\"id\":\"83544c20-1650-435b-8cb2-2523de1953fd\",\"type\":\"ColumnDataSource\"},\"glyph\":{\"id\":\"1ca078bb-a4cb-4307-bac8-fd735cec27f9\",\"type\":\"Circle\"},\"hover_glyph\":null,\"muted_glyph\":null,\"nonselection_glyph\":{\"id\":\"ab43cec8-8b89-467d-bb90-fcb26fe49aea\",\"type\":\"Circle\"},\"selection_glyph\":null,\"view\":{\"id\":\"9a1ee1c4-59db-4e5d-9412-239045c1cb29\",\"type\":\"CDSView\"}},\"id\":\"306c01e8-ef56-4eb4-918a-8d417593a447\",\"type\":\"GlyphRenderer\"},{\"attributes\":{\"callback\":null,\"column_names\":[\"x\",\"y\"],\"data\":{\"x\":{\"__ndarray__\":\"QNhrct9H1T+20QhPS2DVPwXHI8AC+9U/TJ8E07yl1j+B4hEm1jPXP8uiTWHnntc/ZehUCYHi1z+utgfGZuzXPwnVtCg/q9c/RhvTVbIK1z8JpAbLv/PVP0Op3pafRtQ/FfVRX/ng0T84QeWpWEbNP8/FtnfTTsg/WQZqayOiyj/LmwXSrMnQP+UJCNYGYdM/UMeEFBOG1T+HWg1obcPYP2a0Xbqs9t4/PMInpbn45D8BaBhnoTfrP5E9CCIHXOs/n3hK3msu5j9nTF7wq2rhPzmc+dUcoNs/uxh3QUwb1j89H/Ft8sLRP1oxGgEuK8w/4m73D3VhxT9wi0NHvIa+P4zbAB36L7Y/C1kaTlLGsT/badMnpd+sP/N6salTG6Y/ERQFG1OHoT8SVFW0rtucP5f1lRnM5ZA/TC3d2eV/cD8K1+tq7gB9P+CxckTLdZ0/T6oxrNgbrD+H48YbAyy1P4Z7n4k0Grw/1hTxa140wD+k3GTx7grCP+OwC3Fy4MM/SphI7W6zxT+cnGcNWp/HP5tYng/or8k/cLJP+FOAyz8nfpQqtCDNP9a0xRQwqs4/hwhqvmsM0D/tV2xZ37zQP1kmkbc7b9E/7sbMT7up0j8NLfwqCsXTP5HeJpKemNQ/8ezZEG8f1T8zPA9R+VXVP7hxrAejRNU/x4bqvWP+1D+b37QJxZDUPxoZYPYdCdQ/FT1s+bNl0z+CxBs+jovSPxSFK9r7WNE/euv0ah2ozz9tuch3CGfMP3aLXS4kWMk/WyU3DuXZxj8PMAy7nFDFP0Di9IEmusc/\",\"dtype\":\"float64\",\"shape\":[75]},\"y\":{\"__ndarray__\":\"GhExyth1ND/Sv8nbtpRIP2vylNV0PVE/aTum7souWD/At0SJ8fVgPw3Iuahxymc/MSNhhJWvcD/bTfBN02d3P2zb5nxnaoA/CD5h5MAGhz8NmeH1TyaQP+zrCsc9p5Y/LbKd76fGnz/bLW5ISEmmPww9YvTcQq8/JV2OstnstT8Er5Y7M8G+P0c+r3jqkcU/5h99k6ZBzj88bCIzFzjVP4enV8oyxN0//yH99nXg5D8qOpLLf0jtP5kqGJXUifQ/c9cS8kHP/D+/DpwzojQEQIEmwoanVwxA4lgXt9HgE0BSSZ2AJuIbQAMJih9jjiNA5q4l5INuK0AwTKYKRj0zQNv5fmq8/DpAaCJseHrtQkB/+zpwzoxKQM3MzMzMeFJAZmZmZmZqWEAAAAAAAFxeQM3MzMzMJmJAmpmZmZkfZUBmZmZmZhhoQDMzMzMzEWtAAAAAAAAKbkBmZmZmZoFwQM3MzMzM/XFAMzMzMzN6c0CamZmZmfZ0QAAAAAAAc3ZAZmZmZmbvd0DNzMzMzGt5QDMzMzMz6HpAmpmZmZlkfEAAAAAAAOF9QGZmZmZmXX9AZmZmZuZsgECamZmZGSuBQM3MzMxM6YFAAAAAAICngkAzMzMzs2WDQGZmZmbmI4RAmpmZmRnihEDNzMzMTKCFQAAAAACAXoZAMzMzM7Mch0BmZmZm5tqHQJqZmZkZmYhAzczMzExXiUAAAAAAgBWKQDMzMzOz04pAZmZmZuaRi0CamZmZGVCMQM3MzMxMDo1AAAAAAIDMjUAzMzMzs4qOQGZmZmbmSI9A\",\"dtype\":\"float64\",\"shape\":[75]}}},\"id\":\"40271ee6-927c-4583-8a6f-dc17fd1c7443\",\"type\":\"ColumnDataSource\"},{\"attributes\":{\"callback\":null,\"column_names\":[\"x\",\"y\"],\"data\":{\"x\":{\"__ndarray__\":\"QNhrct9H1T+20QhPS2DVPwXHI8AC+9U/TJ8E07yl1j+B4hEm1jPXP8uiTWHnntc/ZehUCYHi1z+utgfGZuzXPwnVtCg/q9c/RhvTVbIK1z8JpAbLv/PVP0Op3pafRtQ/FfVRX/ng0T84QeWpWEbNP8/FtnfTTsg/WQZqayOiyj/LmwXSrMnQP+UJCNYGYdM/UMeEFBOG1T+HWg1obcPYP2a0Xbqs9t4/PMInpbn45D8BaBhnoTfrP5E9CCIHXOs/n3hK3msu5j9nTF7wq2rhPzmc+dUcoNs/uxh3QUwb1j89H/Ft8sLRP1oxGgEuK8w/4m73D3VhxT9wi0NHvIa+P4zbAB36L7Y/C1kaTlLGsT/badMnpd+sP/N6salTG6Y/ERQFG1OHoT8SVFW0rtucP5f1lRnM5ZA/TC3d2eV/cD8K1+tq7gB9P+CxckTLdZ0/T6oxrNgbrD+H48YbAyy1P4Z7n4k0Grw/1hTxa140wD+k3GTx7grCP+OwC3Fy4MM/SphI7W6zxT+cnGcNWp/HP5tYng/or8k/cLJP+FOAyz8nfpQqtCDNP9a0xRQwqs4/hwhqvmsM0D/tV2xZ37zQP1kmkbc7b9E/7sbMT7up0j8NLfwqCsXTP5HeJpKemNQ/8ezZEG8f1T8zPA9R+VXVP7hxrAejRNU/x4bqvWP+1D+b37QJxZDUPxoZYPYdCdQ/FT1s+bNl0z+CxBs+jovSPxSFK9r7WNE/euv0ah2ozz9tuch3CGfMP3aLXS4kWMk/WyU3DuXZxj8PMAy7nFDFP0Di9IEmusc/\",\"dtype\":\"float64\",\"shape\":[75]},\"y\":{\"__ndarray__\":\"GhExyth1ND/Sv8nbtpRIP2vylNV0PVE/aTum7souWD/At0SJ8fVgPw3Iuahxymc/MSNhhJWvcD/bTfBN02d3P2zb5nxnaoA/CD5h5MAGhz8NmeH1TyaQP+zrCsc9p5Y/LbKd76fGnz/bLW5ISEmmPww9YvTcQq8/JV2OstnstT8Er5Y7M8G+P0c+r3jqkcU/5h99k6ZBzj88bCIzFzjVP4enV8oyxN0//yH99nXg5D8qOpLLf0jtP5kqGJXUifQ/c9cS8kHP/D+/DpwzojQEQIEmwoanVwxA4lgXt9HgE0BSSZ2AJuIbQAMJih9jjiNA5q4l5INuK0AwTKYKRj0zQNv5fmq8/DpAaCJseHrtQkB/+zpwzoxKQM3MzMzMeFJAZmZmZmZqWEAAAAAAAFxeQM3MzMzMJmJAmpmZmZkfZUBmZmZmZhhoQDMzMzMzEWtAAAAAAAAKbkBmZmZmZoFwQM3MzMzM/XFAMzMzMzN6c0CamZmZmfZ0QAAAAAAAc3ZAZmZmZmbvd0DNzMzMzGt5QDMzMzMz6HpAmpmZmZlkfEAAAAAAAOF9QGZmZmZmXX9AZmZmZuZsgECamZmZGSuBQM3MzMxM6YFAAAAAAICngkAzMzMzs2WDQGZmZmbmI4RAmpmZmRnihEDNzMzMTKCFQAAAAACAXoZAMzMzM7Mch0BmZmZm5tqHQJqZmZkZmYhAzczMzExXiUAAAAAAgBWKQDMzMzOz04pAZmZmZuaRi0CamZmZGVCMQM3MzMxMDo1AAAAAAIDMjUAzMzMzs4qOQGZmZmbmSI9A\",\"dtype\":\"float64\",\"shape\":[75]}}},\"id\":\"88fab303-723b-48f9-a04b-00e9b6be572d\",\"type\":\"ColumnDataSource\"},{\"attributes\":{\"below\":[{\"id\":\"a44953e0-5a3c-406d-8c37-c8f08f050a01\",\"type\":\"LinearAxis\"}],\"left\":[{\"id\":\"8c77d403-d7f3-4ffb-b13f-f992c6ff5781\",\"type\":\"LinearAxis\"}],\"plot_height\":500,\"plot_width\":400,\"renderers\":[{\"id\":\"a44953e0-5a3c-406d-8c37-c8f08f050a01\",\"type\":\"LinearAxis\"},{\"id\":\"ff446ab0-0ef3-49e9-b054-45a7bf8e76af\",\"type\":\"Grid\"},{\"id\":\"8c77d403-d7f3-4ffb-b13f-f992c6ff5781\",\"type\":\"LinearAxis\"},{\"id\":\"974eec6b-5daf-4136-9697-c0152868986d\",\"type\":\"Grid\"},{\"id\":\"cc3ed397-9b36-4016-8619-572bbaed1654\",\"type\":\"BoxAnnotation\"},{\"id\":\"61d5c97c-0cec-4510-9778-6b32f7d52ad5\",\"type\":\"GlyphRenderer\"},{\"id\":\"bbd7c36f-79e4-4faf-9739-78c35b1f043c\",\"type\":\"GlyphRenderer\"},{\"id\":\"1d6ac05d-3ebd-4d06-a913-1b152525c1d7\",\"type\":\"GlyphRenderer\"},{\"id\":\"2394e099-27f9-4270-92fb-3ba891331c13\",\"type\":\"GlyphRenderer\"},{\"id\":\"b6e706ba-e370-4f7b-9cfe-b4cfbcf40cac\",\"type\":\"GlyphRenderer\"}],\"title\":{\"id\":\"bc5f6af8-cc3f-4d84-94fa-5b9215907a45\",\"type\":\"Title\"},\"toolbar\":{\"id\":\"6f80e2d7-5bca-46d6-8355-e2b19778a756\",\"type\":\"Toolbar\"},\"toolbar_location\":null,\"x_range\":{\"id\":\"40b7562e-e440-4fbc-9e96-b70346d51143\",\"type\":\"Range1d\"},\"x_scale\":{\"id\":\"ea79b1e2-6778-45e2-a045-0c589df90e64\",\"type\":\"LinearScale\"},\"y_range\":{\"id\":\"da84f29c-5505-48df-a302-06653ac5c38f\",\"type\":\"Range1d\"},\"y_scale\":{\"id\":\"c8a4036f-0fde-4524-9829-34e2d0229d75\",\"type\":\"LinearScale\"}},\"id\":\"3e5981b3-44ce-4c67-ab64-281900233133\",\"subtype\":\"Figure\",\"type\":\"Plot\"},{\"attributes\":{\"data_source\":{\"id\":\"8fcb2223-c10a-473e-96a2-72f96ae35da0\",\"type\":\"ColumnDataSource\"},\"glyph\":{\"id\":\"79d149f5-f628-4425-b710-0ac437cf17e3\",\"type\":\"Line\"},\"hover_glyph\":null,\"muted_glyph\":null,\"nonselection_glyph\":{\"id\":\"1aa9730e-2ca2-4ae5-81fc-95405e9b3ee6\",\"type\":\"Line\"},\"selection_glyph\":null,\"view\":{\"id\":\"ebf6c287-4b5c-4266-bd4c-02fdb8b087b3\",\"type\":\"CDSView\"}},\"id\":\"61d5c97c-0cec-4510-9778-6b32f7d52ad5\",\"type\":\"GlyphRenderer\"},{\"attributes\":{\"children\":[{\"id\":\"3e5981b3-44ce-4c67-ab64-281900233133\",\"subtype\":\"Figure\",\"type\":\"Plot\"},{\"id\":\"6bd7d9b8-ac39-49de-8de7-98bf82127b56\",\"subtype\":\"Figure\",\"type\":\"Plot\"}]},\"id\":\"ddc1bfe4-49b8-431b-96a0-4e4ddca734ce\",\"type\":\"Row\"},{\"attributes\":{\"line_alpha\":0.1,\"line_color\":\"#1f77b4\",\"line_width\":1.5,\"x\":{\"field\":\"x\"},\"y\":{\"field\":\"y\"}},\"id\":\"e232877e-bf6e-491e-9796-7e3acd8ccd61\",\"type\":\"Line\"},{\"attributes\":{\"data_source\":{\"id\":\"40271ee6-927c-4583-8a6f-dc17fd1c7443\",\"type\":\"ColumnDataSource\"},\"glyph\":{\"id\":\"2ae5a50a-017e-44d2-bab2-0a89c864c163\",\"type\":\"Square\"},\"hover_glyph\":null,\"muted_glyph\":null,\"nonselection_glyph\":{\"id\":\"352a7825-c6da-4458-9607-d35f77f0602c\",\"type\":\"Square\"},\"selection_glyph\":null,\"view\":{\"id\":\"a80a3035-0c12-446f-9ee6-db0f50fc4414\",\"type\":\"CDSView\"}},\"id\":\"40cc30d8-9911-4f9b-babb-b156846d2bab\",\"type\":\"GlyphRenderer\"},{\"attributes\":{\"line_alpha\":0.6,\"line_color\":\"#984ea3\",\"line_width\":3,\"x\":{\"field\":\"x\"},\"y\":{\"field\":\"y\"}},\"id\":\"0dc8f1cc-1b6c-49c5-be42-07ba9275a9ce\",\"type\":\"Line\"},{\"attributes\":{\"axis_label\":\"pressure [mb]\",\"formatter\":{\"id\":\"cdb125a5-bf76-45d4-8517-a434250440b4\",\"type\":\"LogTickFormatter\"},\"plot\":{\"id\":\"6bd7d9b8-ac39-49de-8de7-98bf82127b56\",\"subtype\":\"Figure\",\"type\":\"Plot\"},\"ticker\":{\"id\":\"c046a651-1a30-4ffa-98da-6a8d62256e10\",\"type\":\"LogTicker\"}},\"id\":\"416f6b8b-a045-4ef0-89af-0ca420491062\",\"type\":\"LogAxis\"},{\"attributes\":{\"data_source\":{\"id\":\"65dea2a1-00af-4938-a30c-35f23e0298b3\",\"type\":\"ColumnDataSource\"},\"glyph\":{\"id\":\"0d28eb46-0509-414a-a493-1039d611ca99\",\"type\":\"Line\"},\"hover_glyph\":null,\"muted_glyph\":null,\"nonselection_glyph\":{\"id\":\"e232877e-bf6e-491e-9796-7e3acd8ccd61\",\"type\":\"Line\"},\"selection_glyph\":null,\"view\":{\"id\":\"4c497f9b-8d10-433a-b902-934f3a550247\",\"type\":\"CDSView\"}},\"id\":\"128d8ec9-952c-4b6c-ab9c-5abad2aceea5\",\"type\":\"GlyphRenderer\"},{\"attributes\":{\"callback\":null,\"column_names\":[\"x\",\"y\"],\"data\":{\"x\":{\"__ndarray__\":\"nluNkZGY2j/OtJKQJ03aP1/olduL4to/IL9tXLVh2z9FeKSPM6zbP2ckhD+qvts/Z3lg+G972z9XI/3uBNjaP+yhv8iyvdk/wlpK0D4a2D8NObaeIdzVPx0YSGmZ+dI/Hcua3BjQzj90gi7IMzvGP7mr9GYWmb8/doig5rvGwT8VdjDm16TJP8Xi3MsiudA/f4XMlUE11T+070BTZQ7bP0PHUEZDg+E/dazWskpj5z88gIeaz7btPxTAICvwPO0/Jtmwx8AR5z+xu+WPDnThP2H7yRgfJto/9R+I4kSq0z945Juvip7OP7XcPlATosg/jldiliRswz9v9gfKbfu8P5av/uFE+rU/KtJdD6+2sT/rIBykwRyrP+Oji245bqI/Wj8AIFw+mj/0E+98FraUP5Bx8EWurYU/rwGTW+tDNT9oQ/10HDRxP32rLAy8U5o/AaEH1CGLqj8YKRUGxYy0P6Ja6Vog5rs/1QRR9wFIwD+WBfJwK1LCP9NP9p7jhsQ/MS5N+ELUxj/GHhRzlCzJP5zJL2qUgcs/UsDR6dRwzT9jey3ovTHPP6xnMUZeddA/O4PQiyRL0T93taLufxfSP01URo4629I/EbZMRMcn1D+SeQUe70DVP7Z0NxXK/tU/FY7/hnlk1j9ZNs4B3XLWP1fBudCmNNY/CQg5MRy21T9qki/TvATVP7uB4eD7MNQ/J1Y+slZA0z92DWVu3x/SP4BWqlUFtNA/2KCKdnALzj8eohM6lpTKP2wTm01Pccc/kaC2FRTpxD+w7HpQ7V/DP///5mJf9MU/\",\"dtype\":\"float64\",\"shape\":[75]},\"y\":{\"__ndarray__\":\"GhExyth1ND/Sv8nbtpRIP2vylNV0PVE/aTum7souWD/At0SJ8fVgPw3Iuahxymc/MSNhhJWvcD/bTfBN02d3P2zb5nxnaoA/CD5h5MAGhz8NmeH1TyaQP+zrCsc9p5Y/LbKd76fGnz/bLW5ISEmmPww9YvTcQq8/JV2OstnstT8Er5Y7M8G+P0c+r3jqkcU/5h99k6ZBzj88bCIzFzjVP4enV8oyxN0//yH99nXg5D8qOpLLf0jtP5kqGJXUifQ/c9cS8kHP/D+/DpwzojQEQIEmwoanVwxA4lgXt9HgE0BSSZ2AJuIbQAMJih9jjiNA5q4l5INuK0AwTKYKRj0zQNv5fmq8/DpAaCJseHrtQkB/+zpwzoxKQM3MzMzMeFJAZmZmZmZqWEAAAAAAAFxeQM3MzMzMJmJAmpmZmZkfZUBmZmZmZhhoQDMzMzMzEWtAAAAAAAAKbkBmZmZmZoFwQM3MzMzM/XFAMzMzMzN6c0CamZmZmfZ0QAAAAAAAc3ZAZmZmZmbvd0DNzMzMzGt5QDMzMzMz6HpAmpmZmZlkfEAAAAAAAOF9QGZmZmZmXX9AZmZmZuZsgECamZmZGSuBQM3MzMxM6YFAAAAAAICngkAzMzMzs2WDQGZmZmbmI4RAmpmZmRnihEDNzMzMTKCFQAAAAACAXoZAMzMzM7Mch0BmZmZm5tqHQJqZmZkZmYhAzczMzExXiUAAAAAAgBWKQDMzMzOz04pAZmZmZuaRi0CamZmZGVCMQM3MzMxMDo1AAAAAAIDMjUAzMzMzs4qOQGZmZmbmSI9A\",\"dtype\":\"float64\",\"shape\":[75]}}},\"id\":\"65dea2a1-00af-4938-a30c-35f23e0298b3\",\"type\":\"ColumnDataSource\"},{\"attributes\":{\"fill_alpha\":{\"value\":0.7},\"fill_color\":{\"value\":\"#4daf4a\"},\"line_alpha\":{\"value\":0.7},\"line_color\":{\"value\":\"#4daf4a\"},\"x\":{\"field\":\"x\"},\"y\":{\"field\":\"y\"}},\"id\":\"1ca078bb-a4cb-4307-bac8-fd735cec27f9\",\"type\":\"Circle\"},{\"attributes\":{\"source\":{\"id\":\"65dea2a1-00af-4938-a30c-35f23e0298b3\",\"type\":\"ColumnDataSource\"}},\"id\":\"4c497f9b-8d10-433a-b902-934f3a550247\",\"type\":\"CDSView\"},{\"attributes\":{\"fill_alpha\":{\"value\":0.7},\"fill_color\":{\"value\":\"#984ea3\"},\"line_alpha\":{\"value\":0.7},\"line_color\":{\"value\":\"#984ea3\"},\"x\":{\"field\":\"x\"},\"y\":{\"field\":\"y\"}},\"id\":\"2ae5a50a-017e-44d2-bab2-0a89c864c163\",\"type\":\"Square\"},{\"attributes\":{\"fill_alpha\":{\"value\":0.1},\"fill_color\":{\"value\":\"#1f77b4\"},\"line_alpha\":{\"value\":0.1},\"line_color\":{\"value\":\"#1f77b4\"},\"x\":{\"field\":\"x\"},\"y\":{\"field\":\"y\"}},\"id\":\"352a7825-c6da-4458-9607-d35f77f0602c\",\"type\":\"Square\"},{\"attributes\":{\"data_source\":{\"id\":\"5b04d658-cd5c-4079-90f8-978313098c90\",\"type\":\"ColumnDataSource\"},\"glyph\":{\"id\":\"0dc8f1cc-1b6c-49c5-be42-07ba9275a9ce\",\"type\":\"Line\"},\"hover_glyph\":null,\"muted_glyph\":null,\"nonselection_glyph\":{\"id\":\"b988b057-ed4b-4460-8127-f66b7b142ea1\",\"type\":\"Line\"},\"selection_glyph\":null,\"view\":{\"id\":\"edf2f1fd-89ac-452e-959b-1d934f7f6c25\",\"type\":\"CDSView\"}},\"id\":\"b6e706ba-e370-4f7b-9cfe-b4cfbcf40cac\",\"type\":\"GlyphRenderer\"},{\"attributes\":{\"callback\":null,\"end\":0.9378482030712,\"start\":-0.008957930191200001},\"id\":\"297422fd-1c93-4431-acaa-e41e34894d1b\",\"type\":\"Range1d\"},{\"attributes\":{\"line_alpha\":0.1,\"line_color\":\"#1f77b4\",\"line_width\":1.5,\"x\":{\"field\":\"x\"},\"y\":{\"field\":\"y\"}},\"id\":\"0cec930c-8c61-4bee-93a2-b9d55ba1a225\",\"type\":\"Line\"},{\"attributes\":{\"source\":{\"id\":\"11cc8776-ec3a-4bdf-8376-bae518664261\",\"type\":\"ColumnDataSource\"}},\"id\":\"25475984-7e74-4898-89c8-97db89a2a921\",\"type\":\"CDSView\"},{\"attributes\":{\"data_source\":{\"id\":\"88fab303-723b-48f9-a04b-00e9b6be572d\",\"type\":\"ColumnDataSource\"},\"glyph\":{\"id\":\"1ed596f7-0475-419c-9b3b-94bd78c0e628\",\"type\":\"Line\"},\"hover_glyph\":null,\"muted_glyph\":null,\"nonselection_glyph\":{\"id\":\"2cd04902-c962-47be-a043-d956289ff4ec\",\"type\":\"Line\"},\"selection_glyph\":null,\"view\":{\"id\":\"6c7d1833-b5df-4ca9-8ad0-8c0df0b1f29b\",\"type\":\"CDSView\"}},\"id\":\"210acd47-bde7-4a8e-92c1-7a4cc4110262\",\"type\":\"GlyphRenderer\"},{\"attributes\":{},\"id\":\"e4fca618-9000-4050-ab91-f307a9b4ebd4\",\"type\":\"SaveTool\"},{\"attributes\":{\"items\":[{\"id\":\"7d4c413b-7d54-4bac-837e-d373e76f8e86\",\"type\":\"LegendItem\"},{\"id\":\"5f57c91d-a5fe-4b70-a7e5-ce33db3e997e\",\"type\":\"LegendItem\"},{\"id\":\"d9fb51aa-6c3d-4939-9144-0cb2d2225803\",\"type\":\"LegendItem\"}],\"label_text_font_size\":{\"value\":\"8pt\"},\"location\":[10,-30],\"plot\":{\"id\":\"6bd7d9b8-ac39-49de-8de7-98bf82127b56\",\"subtype\":\"Figure\",\"type\":\"Plot\"}},\"id\":\"5206b72f-5bad-489e-8548-d8b5e9eee069\",\"type\":\"Legend\"},{\"attributes\":{\"source\":{\"id\":\"5b04d658-cd5c-4079-90f8-978313098c90\",\"type\":\"ColumnDataSource\"}},\"id\":\"edf2f1fd-89ac-452e-959b-1d934f7f6c25\",\"type\":\"CDSView\"},{\"attributes\":{\"source\":{\"id\":\"40271ee6-927c-4583-8a6f-dc17fd1c7443\",\"type\":\"ColumnDataSource\"}},\"id\":\"a80a3035-0c12-446f-9ee6-db0f50fc4414\",\"type\":\"CDSView\"},{\"attributes\":{\"callback\":null,\"end\":0.35426506217119996,\"start\":-0.0031798792912},\"id\":\"40b7562e-e440-4fbc-9e96-b70346d51143\",\"type\":\"Range1d\"},{\"attributes\":{\"axis_label\":\"cooling rate [K/day]\",\"formatter\":{\"id\":\"e25ed341-2559-46ea-8161-6fdb944e6726\",\"type\":\"BasicTickFormatter\"},\"plot\":{\"id\":\"3e5981b3-44ce-4c67-ab64-281900233133\",\"subtype\":\"Figure\",\"type\":\"Plot\"},\"ticker\":{\"id\":\"97053e40-aecb-4a16-bef7-78716fcc6f4c\",\"type\":\"BasicTicker\"}},\"id\":\"a44953e0-5a3c-406d-8c37-c8f08f050a01\",\"type\":\"LinearAxis\"},{\"attributes\":{\"line_alpha\":0.6,\"line_color\":\"#984ea3\",\"line_width\":3,\"x\":{\"field\":\"x\"},\"y\":{\"field\":\"y\"}},\"id\":\"1ed596f7-0475-419c-9b3b-94bd78c0e628\",\"type\":\"Line\"},{\"attributes\":{\"below\":[{\"id\":\"37379cb9-d30b-4078-9005-0de9e6374d05\",\"type\":\"LinearAxis\"}],\"left\":[{\"id\":\"416f6b8b-a045-4ef0-89af-0ca420491062\",\"type\":\"LogAxis\"}],\"plot_height\":500,\"plot_width\":560,\"renderers\":[{\"id\":\"37379cb9-d30b-4078-9005-0de9e6374d05\",\"type\":\"LinearAxis\"},{\"id\":\"8f0cae07-20ae-4c7c-ba58-fbb971047d9f\",\"type\":\"Grid\"},{\"id\":\"416f6b8b-a045-4ef0-89af-0ca420491062\",\"type\":\"LogAxis\"},{\"id\":\"4157b03f-8fb9-44ec-8543-75e1eb42871a\",\"type\":\"Grid\"},{\"id\":\"fe548f26-8d1f-4ddd-92f3-dcd9c08ce04e\",\"type\":\"BoxAnnotation\"},{\"id\":\"23df7b48-1fcb-481a-b534-bd6ad9a5aa0b\",\"type\":\"GlyphRenderer\"},{\"id\":\"306c01e8-ef56-4eb4-918a-8d417593a447\",\"type\":\"GlyphRenderer\"},{\"id\":\"128d8ec9-952c-4b6c-ab9c-5abad2aceea5\",\"type\":\"GlyphRenderer\"},{\"id\":\"40cc30d8-9911-4f9b-babb-b156846d2bab\",\"type\":\"GlyphRenderer\"},{\"id\":\"210acd47-bde7-4a8e-92c1-7a4cc4110262\",\"type\":\"GlyphRenderer\"},{\"id\":\"5206b72f-5bad-489e-8548-d8b5e9eee069\",\"type\":\"Legend\"}],\"right\":[{\"id\":\"5206b72f-5bad-489e-8548-d8b5e9eee069\",\"type\":\"Legend\"}],\"title\":{\"id\":\"86fd9b28-236b-40a2-81e7-f52e66b4e10f\",\"type\":\"Title\"},\"toolbar\":{\"id\":\"527d6c97-6639-465d-8548-fa3ffe0e9f2b\",\"type\":\"Toolbar\"},\"toolbar_location\":null,\"x_range\":{\"id\":\"297422fd-1c93-4431-acaa-e41e34894d1b\",\"type\":\"Range1d\"},\"x_scale\":{\"id\":\"9e74d622-cfda-46da-90da-cc6247893beb\",\"type\":\"LinearScale\"},\"y_range\":{\"id\":\"c64e0c83-5579-4d73-aef9-322ab042e10d\",\"type\":\"Range1d\"},\"y_scale\":{\"id\":\"19a2504c-1678-4f37-9d79-7d4872bb66ca\",\"type\":\"LogScale\"}},\"id\":\"6bd7d9b8-ac39-49de-8de7-98bf82127b56\",\"subtype\":\"Figure\",\"type\":\"Plot\"},{\"attributes\":{\"line_alpha\":0.1,\"line_color\":\"#1f77b4\",\"line_width\":3,\"x\":{\"field\":\"x\"},\"y\":{\"field\":\"y\"}},\"id\":\"2cd04902-c962-47be-a043-d956289ff4ec\",\"type\":\"Line\"},{\"attributes\":{\"line_alpha\":0.1,\"line_color\":\"#1f77b4\",\"line_width\":3,\"x\":{\"field\":\"x\"},\"y\":{\"field\":\"y\"}},\"id\":\"b988b057-ed4b-4460-8127-f66b7b142ea1\",\"type\":\"Line\"},{\"attributes\":{\"toolbar\":{\"id\":\"47be929e-90a2-454a-9200-9448944cd29c\",\"type\":\"ProxyToolbar\"},\"toolbar_location\":\"above\"},\"id\":\"c412d694-8fd0-4d75-9f7c-8ef806b028d4\",\"type\":\"ToolbarBox\"},{\"attributes\":{\"source\":{\"id\":\"88fab303-723b-48f9-a04b-00e9b6be572d\",\"type\":\"ColumnDataSource\"}},\"id\":\"6c7d1833-b5df-4ca9-8ad0-8c0df0b1f29b\",\"type\":\"CDSView\"},{\"attributes\":{\"callback\":null,\"column_names\":[\"x\",\"y\"],\"data\":{\"x\":{\"__ndarray__\":\"ywbC4xUn0j8TDXP+/ZTYP0R51blYh8E/VCd3Cn8nzT983qaiJU3TP555vSRj79A/yWst5d8b0j+uDVf/ztPSP7OnDRwKPtY/VWJD3EFR0j+bssueoUvTP3MXvEPletI/V1fLvqcJ0T+VdtXJOhjNP73ZzSlUeck/VpPxOcHIzD9GJOkeAtzRPxR0QZ7ZxdM/utXW/Lbv1D8S1ikDxRfXPyb2+b2Hqtw/pCq3/qfs4z+fmA4AyXLqP6yevF1p+Oo/m3VCvyE65j9GufJhD5DhP1tlInxaC9w/ys+6BK9v1j8zYByeVvjRP5LOwMjLGsw/dGD3JTQsxT8eXoTnrdO9PybbfACr07Q/xNNbni8/sD8I5XhjEymrP/t2iR+gUaU/YmXoYzSuoD+4vjiGOouaP4tZ0RRxoow/9k9LxgXtWz/aAmsh9C9yP3Xhix/4Upk/yl5ygLlGqT9ZVGG/aXKzPzdDYJtDCLo/AvTa8ORovj9V2yziZDDBP6+jYHyHEcM/AHdVd5fRxD9jKtx2yrjGP8RE/9uX+cg/WTda5XQfyz/5NMQEdxjNPwIXXFqq3s4/kFr2XltD0D82UwiB6AvRP92OV71P19E/pzyZAy0y0z9BijICx3HUP5JLb8FKbNU/JYC0YiwR1j+BpPxivlXWPwB2LL66TdY/IVu3vbQT1j9DnWY/WrXVPzxSGr1cPNU/nWn8oR2g1D985nKkr7fTP0r2QuDMWNI/AP9zHGiT0D9Zt4t60lPNP/1SuzaGxsk/Nn9lCHTkxj+UX3H+RyLFP+jIBNsMYMc/\",\"dtype\":\"float64\",\"shape\":[75]},\"y\":{\"__ndarray__\":\"S/O/Q+51ND/430zAtpRIP2vylNV0PVE/QxsjCssuWD/TR4Z78fVgP+inNsRxymc/OuuBfZWvcD/u3TFA02d3P2d3VoBnaoA/CD5h5MAGhz/1pA8HUCaQP+zrCsc9p5Y/Fb7LAKjGnz/nJ9c/SEmmPwBD+fzcQq8/FOZwv9nstT8Er5Y7M8G+P0c+r3jqkcU/yK72qKZBzj+tM989FzjVPxbgmr8yxN0/cOm5AXbg5D+5ctXAf0jtP5kqGJXUifQ/DsrqDELP/D8MCAhBojQEQDItVnmnVwxAiFXNvdHgE0BSSZ2AJuIbQAMJih9jjiNA5q4l5INuK0CPVN/5RT0zQHzxRXu8/DpAOZ7PgHrtQkAg8wGBzoxKQBSTN8DMeFJA2NmQf2ZqWEAAAAAAAFxeQEQX1LfMJmJAmpmZmZkfZUBmZmZmZhhoQLzoK0gzEWtAAAAAAAAKbkCiC+pbZoFwQAhyUMLM/XFA+I2vPTN6c0AQ5KCEmfZ0QAAAAAAAc3ZA8Btfe2bvd0AIclDCzGt5QPeNrz0z6HpAEOSghJlkfEAAAAAAAOF9QKML6ltmXX9ABTkoYeZsgED7xteeGSuBQAhyUMJM6YFAAAAAAICngkD4ja89s2WDQAU5KGHmI4RA+8bXnhnihEAIclDCTKCFQAAAAACAXoZA+I2vPbMch0AFOShh5tqHQPvG154ZmYhACHJQwkxXiUAAAAAAgBWKQPeNrz2z04pABTkoYeaRi0D7xteeGVCMQAlyUMJMDo1AAAAAAIDMjUD3ja89s4qOQGZmZmbmSI9A\",\"dtype\":\"float64\",\"shape\":[75]}}},\"id\":\"5f44781f-9981-419c-bb3e-e07e4bbcc048\",\"type\":\"ColumnDataSource\"},{\"attributes\":{},\"id\":\"ea79b1e2-6778-45e2-a045-0c589df90e64\",\"type\":\"LinearScale\"},{\"attributes\":{\"line_color\":\"#4daf4a\",\"line_width\":1.5,\"x\":{\"field\":\"x\"},\"y\":{\"field\":\"y\"}},\"id\":\"1bbbfbfa-9327-4971-a63f-5cf5f78765eb\",\"type\":\"Line\"},{\"attributes\":{\"data_source\":{\"id\":\"e396170a-c63e-41a6-a5ea-cf4894c7fff1\",\"type\":\"ColumnDataSource\"},\"glyph\":{\"id\":\"78ca2c96-bd9b-4d9a-8131-f3e4dbdf5144\",\"type\":\"Circle\"},\"hover_glyph\":null,\"muted_glyph\":null,\"nonselection_glyph\":{\"id\":\"73f7f92f-c021-4de5-8889-a186cd646f8a\",\"type\":\"Circle\"},\"selection_glyph\":null,\"view\":{\"id\":\"864ce747-645f-4d7d-b3f7-d5ee66e2da3d\",\"type\":\"CDSView\"}},\"id\":\"bbd7c36f-79e4-4faf-9739-78c35b1f043c\",\"type\":\"GlyphRenderer\"},{\"attributes\":{\"active_drag\":\"auto\",\"active_inspect\":\"auto\",\"active_scroll\":\"auto\",\"active_tap\":\"auto\",\"tools\":[{\"id\":\"a0e45cf1-9d2c-4210-b99b-eabaec3026af\",\"type\":\"PanTool\"},{\"id\":\"c25e7472-30a5-457b-aa5f-2da551a4a081\",\"type\":\"WheelZoomTool\"},{\"id\":\"0c4778d8-dcae-4376-a8f0-8b11c42c94bc\",\"type\":\"BoxZoomTool\"},{\"id\":\"e4fca618-9000-4050-ab91-f307a9b4ebd4\",\"type\":\"SaveTool\"},{\"id\":\"8740a325-d026-43c4-a6cc-18562c5d5182\",\"type\":\"ResetTool\"},{\"id\":\"9567953d-7230-4e7e-9224-452aec804f9c\",\"type\":\"HelpTool\"}]},\"id\":\"527d6c97-6639-465d-8548-fa3ffe0e9f2b\",\"type\":\"Toolbar\"},{\"attributes\":{\"ticker\":null},\"id\":\"cdb125a5-bf76-45d4-8517-a434250440b4\",\"type\":\"LogTickFormatter\"},{\"attributes\":{\"label\":{\"value\":\"WGT igg=10 wgt_flux=2\"},\"renderers\":[{\"id\":\"40cc30d8-9911-4f9b-babb-b156846d2bab\",\"type\":\"GlyphRenderer\"},{\"id\":\"210acd47-bde7-4a8e-92c1-7a4cc4110262\",\"type\":\"GlyphRenderer\"}]},\"id\":\"d9fb51aa-6c3d-4939-9144-0cb2d2225803\",\"type\":\"LegendItem\"},{\"attributes\":{\"children\":[{\"id\":\"c412d694-8fd0-4d75-9f7c-8ef806b028d4\",\"type\":\"ToolbarBox\"},{\"id\":\"06f012f9-8712-4426-ad4a-889bf256fb2e\",\"type\":\"Column\"}]},\"id\":\"340f6d1f-507c-4260-b11d-214c850049df\",\"type\":\"Column\"},{\"attributes\":{\"axis_label\":\"cooling rate [K/day]\",\"formatter\":{\"id\":\"d59093bf-2e6d-41a2-a546-6676330434e0\",\"type\":\"BasicTickFormatter\"},\"plot\":{\"id\":\"6bd7d9b8-ac39-49de-8de7-98bf82127b56\",\"subtype\":\"Figure\",\"type\":\"Plot\"},\"ticker\":{\"id\":\"3394730e-6043-4b33-aa07-138ae71f145d\",\"type\":\"BasicTicker\"}},\"id\":\"37379cb9-d30b-4078-9005-0de9e6374d05\",\"type\":\"LinearAxis\"},{\"attributes\":{},\"id\":\"3394730e-6043-4b33-aa07-138ae71f145d\",\"type\":\"BasicTicker\"},{\"attributes\":{\"bottom_units\":\"screen\",\"fill_alpha\":{\"value\":0.5},\"fill_color\":{\"value\":\"lightgrey\"},\"left_units\":\"screen\",\"level\":\"overlay\",\"line_alpha\":{\"value\":1.0},\"line_color\":{\"value\":\"black\"},\"line_dash\":[4,4],\"line_width\":{\"value\":2},\"plot\":null,\"render_mode\":\"css\",\"right_units\":\"screen\",\"top_units\":\"screen\"},\"id\":\"fe548f26-8d1f-4ddd-92f3-dcd9c08ce04e\",\"type\":\"BoxAnnotation\"},{\"attributes\":{},\"id\":\"19a2504c-1678-4f37-9d79-7d4872bb66ca\",\"type\":\"LogScale\"},{\"attributes\":{\"active_drag\":\"auto\",\"active_inspect\":\"auto\",\"active_scroll\":\"auto\",\"active_tap\":\"auto\",\"tools\":[{\"id\":\"23f68d1d-4c00-44df-b78a-d6f369752c6e\",\"type\":\"PanTool\"},{\"id\":\"eaadfd84-4a64-4193-ac5c-ce727462f548\",\"type\":\"WheelZoomTool\"},{\"id\":\"2b61477b-2bef-4a6d-b1db-12e6480dd27e\",\"type\":\"BoxZoomTool\"},{\"id\":\"9b827e4a-0fc7-4126-a84c-1bc2e0178d55\",\"type\":\"SaveTool\"},{\"id\":\"5eb10491-91e0-4b00-8df5-e90bf8b30985\",\"type\":\"ResetTool\"},{\"id\":\"24b16f52-0403-4ede-93b3-03827d6ed7de\",\"type\":\"HelpTool\"}]},\"id\":\"6f80e2d7-5bca-46d6-8355-e2b19778a756\",\"type\":\"Toolbar\"},{\"attributes\":{},\"id\":\"9b827e4a-0fc7-4126-a84c-1bc2e0178d55\",\"type\":\"SaveTool\"},{\"attributes\":{},\"id\":\"a0e45cf1-9d2c-4210-b99b-eabaec3026af\",\"type\":\"PanTool\"},{\"attributes\":{\"overlay\":{\"id\":\"cc3ed397-9b36-4016-8619-572bbaed1654\",\"type\":\"BoxAnnotation\"}},\"id\":\"2b61477b-2bef-4a6d-b1db-12e6480dd27e\",\"type\":\"BoxZoomTool\"},{\"attributes\":{\"axis_label\":\"pressure [mb]\",\"formatter\":{\"id\":\"db468ebd-9557-4c42-8333-a434fafbc672\",\"type\":\"BasicTickFormatter\"},\"plot\":{\"id\":\"3e5981b3-44ce-4c67-ab64-281900233133\",\"subtype\":\"Figure\",\"type\":\"Plot\"},\"ticker\":{\"id\":\"730c8cd7-6d71-4c6a-8aca-e859b79ce256\",\"type\":\"BasicTicker\"}},\"id\":\"8c77d403-d7f3-4ffb-b13f-f992c6ff5781\",\"type\":\"LinearAxis\"},{\"attributes\":{\"dimension\":1,\"plot\":{\"id\":\"6bd7d9b8-ac39-49de-8de7-98bf82127b56\",\"subtype\":\"Figure\",\"type\":\"Plot\"},\"ticker\":{\"id\":\"c046a651-1a30-4ffa-98da-6a8d62256e10\",\"type\":\"LogTicker\"}},\"id\":\"4157b03f-8fb9-44ec-8543-75e1eb42871a\",\"type\":\"Grid\"},{\"attributes\":{\"plot\":null,\"text\":\"Log pressure scale\"},\"id\":\"86fd9b28-236b-40a2-81e7-f52e66b4e10f\",\"type\":\"Title\"},{\"attributes\":{},\"id\":\"9e74d622-cfda-46da-90da-cc6247893beb\",\"type\":\"LinearScale\"},{\"attributes\":{},\"id\":\"9567953d-7230-4e7e-9224-452aec804f9c\",\"type\":\"HelpTool\"},{\"attributes\":{\"callback\":null,\"column_names\":[\"x\",\"y\"],\"data\":{\"x\":{\"__ndarray__\":\"nluNkZGY2j/OtJKQJ03aP1/olduL4to/IL9tXLVh2z9FeKSPM6zbP2ckhD+qvts/Z3lg+G972z9XI/3uBNjaP+yhv8iyvdk/wlpK0D4a2D8NObaeIdzVPx0YSGmZ+dI/Hcua3BjQzj90gi7IMzvGP7mr9GYWmb8/doig5rvGwT8VdjDm16TJP8Xi3MsiudA/f4XMlUE11T+070BTZQ7bP0PHUEZDg+E/dazWskpj5z88gIeaz7btPxTAICvwPO0/Jtmwx8AR5z+xu+WPDnThP2H7yRgfJto/9R+I4kSq0z945Juvip7OP7XcPlATosg/jldiliRswz9v9gfKbfu8P5av/uFE+rU/KtJdD6+2sT/rIBykwRyrP+Oji245bqI/Wj8AIFw+mj/0E+98FraUP5Bx8EWurYU/rwGTW+tDNT9oQ/10HDRxP32rLAy8U5o/AaEH1CGLqj8YKRUGxYy0P6Ja6Vog5rs/1QRR9wFIwD+WBfJwK1LCP9NP9p7jhsQ/MS5N+ELUxj/GHhRzlCzJP5zJL2qUgcs/UsDR6dRwzT9jey3ovTHPP6xnMUZeddA/O4PQiyRL0T93taLufxfSP01URo4629I/EbZMRMcn1D+SeQUe70DVP7Z0NxXK/tU/FY7/hnlk1j9ZNs4B3XLWP1fBudCmNNY/CQg5MRy21T9qki/TvATVP7uB4eD7MNQ/J1Y+slZA0z92DWVu3x/SP4BWqlUFtNA/2KCKdnALzj8eohM6lpTKP2wTm01Pccc/kaC2FRTpxD+w7HpQ7V/DP///5mJf9MU/\",\"dtype\":\"float64\",\"shape\":[75]},\"y\":{\"__ndarray__\":\"GhExyth1ND/Sv8nbtpRIP2vylNV0PVE/aTum7souWD/At0SJ8fVgPw3Iuahxymc/MSNhhJWvcD/bTfBN02d3P2zb5nxnaoA/CD5h5MAGhz8NmeH1TyaQP+zrCsc9p5Y/LbKd76fGnz/bLW5ISEmmPww9YvTcQq8/JV2OstnstT8Er5Y7M8G+P0c+r3jqkcU/5h99k6ZBzj88bCIzFzjVP4enV8oyxN0//yH99nXg5D8qOpLLf0jtP5kqGJXUifQ/c9cS8kHP/D+/DpwzojQEQIEmwoanVwxA4lgXt9HgE0BSSZ2AJuIbQAMJih9jjiNA5q4l5INuK0AwTKYKRj0zQNv5fmq8/DpAaCJseHrtQkB/+zpwzoxKQM3MzMzMeFJAZmZmZmZqWEAAAAAAAFxeQM3MzMzMJmJAmpmZmZkfZUBmZmZmZhhoQDMzMzMzEWtAAAAAAAAKbkBmZmZmZoFwQM3MzMzM/XFAMzMzMzN6c0CamZmZmfZ0QAAAAAAAc3ZAZmZmZmbvd0DNzMzMzGt5QDMzMzMz6HpAmpmZmZlkfEAAAAAAAOF9QGZmZmZmXX9AZmZmZuZsgECamZmZGSuBQM3MzMxM6YFAAAAAAICngkAzMzMzs2WDQGZmZmbmI4RAmpmZmRnihEDNzMzMTKCFQAAAAACAXoZAMzMzM7Mch0BmZmZm5tqHQJqZmZkZmYhAzczMzExXiUAAAAAAgBWKQDMzMzOz04pAZmZmZuaRi0CamZmZGVCMQM3MzMxMDo1AAAAAAIDMjUAzMzMzs4qOQGZmZmbmSI9A\",\"dtype\":\"float64\",\"shape\":[75]}}},\"id\":\"83544c20-1650-435b-8cb2-2523de1953fd\",\"type\":\"ColumnDataSource\"},{\"attributes\":{\"children\":[{\"id\":\"ddc1bfe4-49b8-431b-96a0-4e4ddca734ce\",\"type\":\"Row\"}]},\"id\":\"06f012f9-8712-4426-ad4a-889bf256fb2e\",\"type\":\"Column\"},{\"attributes\":{\"fill_alpha\":{\"value\":0.1},\"fill_color\":{\"value\":\"#1f77b4\"},\"line_alpha\":{\"value\":0.1},\"line_color\":{\"value\":\"#1f77b4\"},\"x\":{\"field\":\"x\"},\"y\":{\"field\":\"y\"}},\"id\":\"73f7f92f-c021-4de5-8889-a186cd646f8a\",\"type\":\"Circle\"},{\"attributes\":{\"callback\":null,\"column_names\":[\"x\",\"y\"],\"data\":{\"x\":{\"__ndarray__\":\"QNhrct9H1T+20QhPS2DVPwXHI8AC+9U/TJ8E07yl1j+B4hEm1jPXP8uiTWHnntc/ZehUCYHi1z+utgfGZuzXPwnVtCg/q9c/RhvTVbIK1z8JpAbLv/PVP0Op3pafRtQ/FfVRX/ng0T84QeWpWEbNP8/FtnfTTsg/WQZqayOiyj/LmwXSrMnQP+UJCNYGYdM/UMeEFBOG1T+HWg1obcPYP2a0Xbqs9t4/PMInpbn45D8BaBhnoTfrP5E9CCIHXOs/n3hK3msu5j9nTF7wq2rhPzmc+dUcoNs/uxh3QUwb1j89H/Ft8sLRP1oxGgEuK8w/4m73D3VhxT9wi0NHvIa+P4zbAB36L7Y/C1kaTlLGsT/badMnpd+sP/N6salTG6Y/ERQFG1OHoT8SVFW0rtucP5f1lRnM5ZA/TC3d2eV/cD8K1+tq7gB9P+CxckTLdZ0/T6oxrNgbrD+H48YbAyy1P4Z7n4k0Grw/1hTxa140wD+k3GTx7grCP+OwC3Fy4MM/SphI7W6zxT+cnGcNWp/HP5tYng/or8k/cLJP+FOAyz8nfpQqtCDNP9a0xRQwqs4/hwhqvmsM0D/tV2xZ37zQP1kmkbc7b9E/7sbMT7up0j8NLfwqCsXTP5HeJpKemNQ/8ezZEG8f1T8zPA9R+VXVP7hxrAejRNU/x4bqvWP+1D+b37QJxZDUPxoZYPYdCdQ/FT1s+bNl0z+CxBs+jovSPxSFK9r7WNE/euv0ah2ozz9tuch3CGfMP3aLXS4kWMk/WyU3DuXZxj8PMAy7nFDFP0Di9IEmusc/\",\"dtype\":\"float64\",\"shape\":[75]},\"y\":{\"__ndarray__\":\"GhExyth1ND/Sv8nbtpRIP2vylNV0PVE/aTum7souWD/At0SJ8fVgPw3Iuahxymc/MSNhhJWvcD/bTfBN02d3P2zb5nxnaoA/CD5h5MAGhz8NmeH1TyaQP+zrCsc9p5Y/LbKd76fGnz/bLW5ISEmmPww9YvTcQq8/JV2OstnstT8Er5Y7M8G+P0c+r3jqkcU/5h99k6ZBzj88bCIzFzjVP4enV8oyxN0//yH99nXg5D8qOpLLf0jtP5kqGJXUifQ/c9cS8kHP/D+/DpwzojQEQIEmwoanVwxA4lgXt9HgE0BSSZ2AJuIbQAMJih9jjiNA5q4l5INuK0AwTKYKRj0zQNv5fmq8/DpAaCJseHrtQkB/+zpwzoxKQM3MzMzMeFJAZmZmZmZqWEAAAAAAAFxeQM3MzMzMJmJAmpmZmZkfZUBmZmZmZhhoQDMzMzMzEWtAAAAAAAAKbkBmZmZmZoFwQM3MzMzM/XFAMzMzMzN6c0CamZmZmfZ0QAAAAAAAc3ZAZmZmZmbvd0DNzMzMzGt5QDMzMzMz6HpAmpmZmZlkfEAAAAAAAOF9QGZmZmZmXX9AZmZmZuZsgECamZmZGSuBQM3MzMxM6YFAAAAAAICngkAzMzMzs2WDQGZmZmbmI4RAmpmZmRnihEDNzMzMTKCFQAAAAACAXoZAMzMzM7Mch0BmZmZm5tqHQJqZmZkZmYhAzczMzExXiUAAAAAAgBWKQDMzMzOz04pAZmZmZuaRi0CamZmZGVCMQM3MzMxMDo1AAAAAAIDMjUAzMzMzs4qOQGZmZmbmSI9A\",\"dtype\":\"float64\",\"shape\":[75]}}},\"id\":\"5b04d658-cd5c-4079-90f8-978313098c90\",\"type\":\"ColumnDataSource\"},{\"attributes\":{},\"id\":\"23f68d1d-4c00-44df-b78a-d6f369752c6e\",\"type\":\"PanTool\"},{\"attributes\":{},\"id\":\"8740a325-d026-43c4-a6cc-18562c5d5182\",\"type\":\"ResetTool\"},{\"attributes\":{\"callback\":null,\"column_names\":[\"x\",\"y\"],\"data\":{\"x\":{\"__ndarray__\":\"nluNkZGY2j/OtJKQJ03aP1/olduL4to/IL9tXLVh2z9FeKSPM6zbP2ckhD+qvts/Z3lg+G972z9XI/3uBNjaP+yhv8iyvdk/wlpK0D4a2D8NObaeIdzVPx0YSGmZ+dI/Hcua3BjQzj90gi7IMzvGP7mr9GYWmb8/doig5rvGwT8VdjDm16TJP8Xi3MsiudA/f4XMlUE11T+070BTZQ7bP0PHUEZDg+E/dazWskpj5z88gIeaz7btPxTAICvwPO0/Jtmwx8AR5z+xu+WPDnThP2H7yRgfJto/9R+I4kSq0z945Juvip7OP7XcPlATosg/jldiliRswz9v9gfKbfu8P5av/uFE+rU/KtJdD6+2sT/rIBykwRyrP+Oji245bqI/Wj8AIFw+mj/0E+98FraUP5Bx8EWurYU/rwGTW+tDNT9oQ/10HDRxP32rLAy8U5o/AaEH1CGLqj8YKRUGxYy0P6Ja6Vog5rs/1QRR9wFIwD+WBfJwK1LCP9NP9p7jhsQ/MS5N+ELUxj/GHhRzlCzJP5zJL2qUgcs/UsDR6dRwzT9jey3ovTHPP6xnMUZeddA/O4PQiyRL0T93taLufxfSP01URo4629I/EbZMRMcn1D+SeQUe70DVP7Z0NxXK/tU/FY7/hnlk1j9ZNs4B3XLWP1fBudCmNNY/CQg5MRy21T9qki/TvATVP7uB4eD7MNQ/J1Y+slZA0z92DWVu3x/SP4BWqlUFtNA/2KCKdnALzj8eohM6lpTKP2wTm01Pccc/kaC2FRTpxD+w7HpQ7V/DP///5mJf9MU/\",\"dtype\":\"float64\",\"shape\":[75]},\"y\":{\"__ndarray__\":\"GhExyth1ND/Sv8nbtpRIP2vylNV0PVE/aTum7souWD/At0SJ8fVgPw3Iuahxymc/MSNhhJWvcD/bTfBN02d3P2zb5nxnaoA/CD5h5MAGhz8NmeH1TyaQP+zrCsc9p5Y/LbKd76fGnz/bLW5ISEmmPww9YvTcQq8/JV2OstnstT8Er5Y7M8G+P0c+r3jqkcU/5h99k6ZBzj88bCIzFzjVP4enV8oyxN0//yH99nXg5D8qOpLLf0jtP5kqGJXUifQ/c9cS8kHP/D+/DpwzojQEQIEmwoanVwxA4lgXt9HgE0BSSZ2AJuIbQAMJih9jjiNA5q4l5INuK0AwTKYKRj0zQNv5fmq8/DpAaCJseHrtQkB/+zpwzoxKQM3MzMzMeFJAZmZmZmZqWEAAAAAAAFxeQM3MzMzMJmJAmpmZmZkfZUBmZmZmZhhoQDMzMzMzEWtAAAAAAAAKbkBmZmZmZoFwQM3MzMzM/XFAMzMzMzN6c0CamZmZmfZ0QAAAAAAAc3ZAZmZmZmbvd0DNzMzMzGt5QDMzMzMz6HpAmpmZmZlkfEAAAAAAAOF9QGZmZmZmXX9AZmZmZuZsgECamZmZGSuBQM3MzMxM6YFAAAAAAICngkAzMzMzs2WDQGZmZmbmI4RAmpmZmRnihEDNzMzMTKCFQAAAAACAXoZAMzMzM7Mch0BmZmZm5tqHQJqZmZkZmYhAzczMzExXiUAAAAAAgBWKQDMzMzOz04pAZmZmZuaRi0CamZmZGVCMQM3MzMxMDo1AAAAAAIDMjUAzMzMzs4qOQGZmZmbmSI9A\",\"dtype\":\"float64\",\"shape\":[75]}}},\"id\":\"647b2a39-d0bc-4d3c-918a-70fd795f399e\",\"type\":\"ColumnDataSource\"},{\"attributes\":{\"overlay\":{\"id\":\"fe548f26-8d1f-4ddd-92f3-dcd9c08ce04e\",\"type\":\"BoxAnnotation\"}},\"id\":\"0c4778d8-dcae-4376-a8f0-8b11c42c94bc\",\"type\":\"BoxZoomTool\"},{\"attributes\":{\"callback\":null,\"end\":0.01,\"start\":1020},\"id\":\"da84f29c-5505-48df-a302-06653ac5c38f\",\"type\":\"Range1d\"},{\"attributes\":{\"plot\":null,\"text\":\"Linear pressure scale\"},\"id\":\"bc5f6af8-cc3f-4d84-94fa-5b9215907a45\",\"type\":\"Title\"},{\"attributes\":{},\"id\":\"24b16f52-0403-4ede-93b3-03827d6ed7de\",\"type\":\"HelpTool\"},{\"attributes\":{\"plot\":{\"id\":\"3e5981b3-44ce-4c67-ab64-281900233133\",\"subtype\":\"Figure\",\"type\":\"Plot\"},\"ticker\":{\"id\":\"97053e40-aecb-4a16-bef7-78716fcc6f4c\",\"type\":\"BasicTicker\"}},\"id\":\"ff446ab0-0ef3-49e9-b054-45a7bf8e76af\",\"type\":\"Grid\"},{\"attributes\":{\"data_source\":{\"id\":\"11cc8776-ec3a-4bdf-8376-bae518664261\",\"type\":\"ColumnDataSource\"},\"glyph\":{\"id\":\"b27a98da-e85d-42d6-aa62-cb31e6bc1287\",\"type\":\"Square\"},\"hover_glyph\":null,\"muted_glyph\":null,\"nonselection_glyph\":{\"id\":\"fa34be8a-064f-4550-8a99-00caccccb12f\",\"type\":\"Square\"},\"selection_glyph\":null,\"view\":{\"id\":\"25475984-7e74-4898-89c8-97db89a2a921\",\"type\":\"CDSView\"}},\"id\":\"2394e099-27f9-4270-92fb-3ba891331c13\",\"type\":\"GlyphRenderer\"},{\"attributes\":{\"label\":{\"value\":\"CRD\"},\"renderers\":[{\"id\":\"306c01e8-ef56-4eb4-918a-8d417593a447\",\"type\":\"GlyphRenderer\"},{\"id\":\"128d8ec9-952c-4b6c-ab9c-5abad2aceea5\",\"type\":\"GlyphRenderer\"}]},\"id\":\"5f57c91d-a5fe-4b70-a7e5-ce33db3e997e\",\"type\":\"LegendItem\"},{\"attributes\":{\"fill_alpha\":{\"value\":0.7},\"fill_color\":{\"value\":\"#4daf4a\"},\"line_alpha\":{\"value\":0.7},\"line_color\":{\"value\":\"#4daf4a\"},\"x\":{\"field\":\"x\"},\"y\":{\"field\":\"y\"}},\"id\":\"78ca2c96-bd9b-4d9a-8131-f3e4dbdf5144\",\"type\":\"Circle\"},{\"attributes\":{\"dimension\":1,\"plot\":{\"id\":\"3e5981b3-44ce-4c67-ab64-281900233133\",\"subtype\":\"Figure\",\"type\":\"Plot\"},\"ticker\":{\"id\":\"730c8cd7-6d71-4c6a-8aca-e859b79ce256\",\"type\":\"BasicTicker\"}},\"id\":\"974eec6b-5daf-4136-9697-c0152868986d\",\"type\":\"Grid\"},{\"attributes\":{},\"id\":\"c8a4036f-0fde-4524-9829-34e2d0229d75\",\"type\":\"LinearScale\"},{\"attributes\":{\"plot\":{\"id\":\"6bd7d9b8-ac39-49de-8de7-98bf82127b56\",\"subtype\":\"Figure\",\"type\":\"Plot\"},\"ticker\":{\"id\":\"3394730e-6043-4b33-aa07-138ae71f145d\",\"type\":\"BasicTicker\"}},\"id\":\"8f0cae07-20ae-4c7c-ba58-fbb971047d9f\",\"type\":\"Grid\"},{\"attributes\":{\"callback\":null,\"end\":0.01,\"start\":1020},\"id\":\"c64e0c83-5579-4d73-aef9-322ab042e10d\",\"type\":\"Range1d\"},{\"attributes\":{\"bottom_units\":\"screen\",\"fill_alpha\":{\"value\":0.5},\"fill_color\":{\"value\":\"lightgrey\"},\"left_units\":\"screen\",\"level\":\"overlay\",\"line_alpha\":{\"value\":1.0},\"line_color\":{\"value\":\"black\"},\"line_dash\":[4,4],\"line_width\":{\"value\":2},\"plot\":null,\"render_mode\":\"css\",\"right_units\":\"screen\",\"top_units\":\"screen\"},\"id\":\"cc3ed397-9b36-4016-8619-572bbaed1654\",\"type\":\"BoxAnnotation\"},{\"attributes\":{\"num_minor_ticks\":10},\"id\":\"c046a651-1a30-4ffa-98da-6a8d62256e10\",\"type\":\"LogTicker\"},{\"attributes\":{},\"id\":\"c25e7472-30a5-457b-aa5f-2da551a4a081\",\"type\":\"WheelZoomTool\"},{\"attributes\":{},\"id\":\"eaadfd84-4a64-4193-ac5c-ce727462f548\",\"type\":\"WheelZoomTool\"},{\"attributes\":{},\"id\":\"97053e40-aecb-4a16-bef7-78716fcc6f4c\",\"type\":\"BasicTicker\"},{\"attributes\":{\"line_alpha\":0.1,\"line_color\":\"#1f77b4\",\"line_dash\":[6],\"line_width\":5,\"x\":{\"field\":\"x\"},\"y\":{\"field\":\"y\"}},\"id\":\"9c7c3e1f-5d69-4951-898b-a1cb57346f96\",\"type\":\"Line\"},{\"attributes\":{\"fill_alpha\":{\"value\":0.1},\"fill_color\":{\"value\":\"#1f77b4\"},\"line_alpha\":{\"value\":0.1},\"line_color\":{\"value\":\"#1f77b4\"},\"x\":{\"field\":\"x\"},\"y\":{\"field\":\"y\"}},\"id\":\"fa34be8a-064f-4550-8a99-00caccccb12f\",\"type\":\"Square\"},{\"attributes\":{\"fill_alpha\":{\"value\":0.1},\"fill_color\":{\"value\":\"#1f77b4\"},\"line_alpha\":{\"value\":0.1},\"line_color\":{\"value\":\"#1f77b4\"},\"x\":{\"field\":\"x\"},\"y\":{\"field\":\"y\"}},\"id\":\"ab43cec8-8b89-467d-bb90-fcb26fe49aea\",\"type\":\"Circle\"},{\"attributes\":{},\"id\":\"5eb10491-91e0-4b00-8df5-e90bf8b30985\",\"type\":\"ResetTool\"},{\"attributes\":{\"label\":{\"value\":\"CLIRAD `coolr_bands`\"},\"renderers\":[{\"id\":\"23df7b48-1fcb-481a-b534-bd6ad9a5aa0b\",\"type\":\"GlyphRenderer\"}]},\"id\":\"7d4c413b-7d54-4bac-837e-d373e76f8e86\",\"type\":\"LegendItem\"},{\"attributes\":{\"tools\":[{\"id\":\"23f68d1d-4c00-44df-b78a-d6f369752c6e\",\"type\":\"PanTool\"},{\"id\":\"eaadfd84-4a64-4193-ac5c-ce727462f548\",\"type\":\"WheelZoomTool\"},{\"id\":\"2b61477b-2bef-4a6d-b1db-12e6480dd27e\",\"type\":\"BoxZoomTool\"},{\"id\":\"9b827e4a-0fc7-4126-a84c-1bc2e0178d55\",\"type\":\"SaveTool\"},{\"id\":\"5eb10491-91e0-4b00-8df5-e90bf8b30985\",\"type\":\"ResetTool\"},{\"id\":\"24b16f52-0403-4ede-93b3-03827d6ed7de\",\"type\":\"HelpTool\"},{\"id\":\"a0e45cf1-9d2c-4210-b99b-eabaec3026af\",\"type\":\"PanTool\"},{\"id\":\"c25e7472-30a5-457b-aa5f-2da551a4a081\",\"type\":\"WheelZoomTool\"},{\"id\":\"0c4778d8-dcae-4376-a8f0-8b11c42c94bc\",\"type\":\"BoxZoomTool\"},{\"id\":\"e4fca618-9000-4050-ab91-f307a9b4ebd4\",\"type\":\"SaveTool\"},{\"id\":\"8740a325-d026-43c4-a6cc-18562c5d5182\",\"type\":\"ResetTool\"},{\"id\":\"9567953d-7230-4e7e-9224-452aec804f9c\",\"type\":\"HelpTool\"}]},\"id\":\"47be929e-90a2-454a-9200-9448944cd29c\",\"type\":\"ProxyToolbar\"},{\"attributes\":{\"data_source\":{\"id\":\"647b2a39-d0bc-4d3c-918a-70fd795f399e\",\"type\":\"ColumnDataSource\"},\"glyph\":{\"id\":\"1bbbfbfa-9327-4971-a63f-5cf5f78765eb\",\"type\":\"Line\"},\"hover_glyph\":null,\"muted_glyph\":null,\"nonselection_glyph\":{\"id\":\"0cec930c-8c61-4bee-93a2-b9d55ba1a225\",\"type\":\"Line\"},\"selection_glyph\":null,\"view\":{\"id\":\"0483a352-4b4e-418f-8c21-9f80be768118\",\"type\":\"CDSView\"}},\"id\":\"1d6ac05d-3ebd-4d06-a913-1b152525c1d7\",\"type\":\"GlyphRenderer\"},{\"attributes\":{\"callback\":null,\"column_names\":[\"x\",\"y\"],\"data\":{\"x\":{\"__ndarray__\":\"QNhrct9H1T+20QhPS2DVPwXHI8AC+9U/TJ8E07yl1j+B4hEm1jPXP8uiTWHnntc/ZehUCYHi1z+utgfGZuzXPwnVtCg/q9c/RhvTVbIK1z8JpAbLv/PVP0Op3pafRtQ/FfVRX/ng0T84QeWpWEbNP8/FtnfTTsg/WQZqayOiyj/LmwXSrMnQP+UJCNYGYdM/UMeEFBOG1T+HWg1obcPYP2a0Xbqs9t4/PMInpbn45D8BaBhnoTfrP5E9CCIHXOs/n3hK3msu5j9nTF7wq2rhPzmc+dUcoNs/uxh3QUwb1j89H/Ft8sLRP1oxGgEuK8w/4m73D3VhxT9wi0NHvIa+P4zbAB36L7Y/C1kaTlLGsT/badMnpd+sP/N6salTG6Y/ERQFG1OHoT8SVFW0rtucP5f1lRnM5ZA/TC3d2eV/cD8K1+tq7gB9P+CxckTLdZ0/T6oxrNgbrD+H48YbAyy1P4Z7n4k0Grw/1hTxa140wD+k3GTx7grCP+OwC3Fy4MM/SphI7W6zxT+cnGcNWp/HP5tYng/or8k/cLJP+FOAyz8nfpQqtCDNP9a0xRQwqs4/hwhqvmsM0D/tV2xZ37zQP1kmkbc7b9E/7sbMT7up0j8NLfwqCsXTP5HeJpKemNQ/8ezZEG8f1T8zPA9R+VXVP7hxrAejRNU/x4bqvWP+1D+b37QJxZDUPxoZYPYdCdQ/FT1s+bNl0z+CxBs+jovSPxSFK9r7WNE/euv0ah2ozz9tuch3CGfMP3aLXS4kWMk/WyU3DuXZxj8PMAy7nFDFP0Di9IEmusc/\",\"dtype\":\"float64\",\"shape\":[75]},\"y\":{\"__ndarray__\":\"GhExyth1ND/Sv8nbtpRIP2vylNV0PVE/aTum7souWD/At0SJ8fVgPw3Iuahxymc/MSNhhJWvcD/bTfBN02d3P2zb5nxnaoA/CD5h5MAGhz8NmeH1TyaQP+zrCsc9p5Y/LbKd76fGnz/bLW5ISEmmPww9YvTcQq8/JV2OstnstT8Er5Y7M8G+P0c+r3jqkcU/5h99k6ZBzj88bCIzFzjVP4enV8oyxN0//yH99nXg5D8qOpLLf0jtP5kqGJXUifQ/c9cS8kHP/D+/DpwzojQEQIEmwoanVwxA4lgXt9HgE0BSSZ2AJuIbQAMJih9jjiNA5q4l5INuK0AwTKYKRj0zQNv5fmq8/DpAaCJseHrtQkB/+zpwzoxKQM3MzMzMeFJAZmZmZmZqWEAAAAAAAFxeQM3MzMzMJmJAmpmZmZkfZUBmZmZmZhhoQDMzMzMzEWtAAAAAAAAKbkBmZmZmZoFwQM3MzMzM/XFAMzMzMzN6c0CamZmZmfZ0QAAAAAAAc3ZAZmZmZmbvd0DNzMzMzGt5QDMzMzMz6HpAmpmZmZlkfEAAAAAAAOF9QGZmZmZmXX9AZmZmZuZsgECamZmZGSuBQM3MzMxM6YFAAAAAAICngkAzMzMzs2WDQGZmZmbmI4RAmpmZmRnihEDNzMzMTKCFQAAAAACAXoZAMzMzM7Mch0BmZmZm5tqHQJqZmZkZmYhAzczMzExXiUAAAAAAgBWKQDMzMzOz04pAZmZmZuaRi0CamZmZGVCMQM3MzMxMDo1AAAAAAIDMjUAzMzMzs4qOQGZmZmbmSI9A\",\"dtype\":\"float64\",\"shape\":[75]}}},\"id\":\"11cc8776-ec3a-4bdf-8376-bae518664261\",\"type\":\"ColumnDataSource\"},{\"attributes\":{},\"id\":\"730c8cd7-6d71-4c6a-8aca-e859b79ce256\",\"type\":\"BasicTicker\"}],\"root_ids\":[\"340f6d1f-507c-4260-b11d-214c850049df\"]},\"title\":\"Bokeh Application\",\"version\":\"0.12.14\"}};\n",
       "  var render_items = [{\"docid\":\"65c75096-f4b9-4682-ae0b-23ea2f5fdc7e\",\"elementid\":\"fbc1e3c3-6979-4893-b4b4-c8019ae7f255\",\"modelid\":\"340f6d1f-507c-4260-b11d-214c850049df\"}];\n",
       "  root.Bokeh.embed.embed_items_notebook(docs_json, render_items);\n",
       "\n",
       "  }\n",
       "  if (root.Bokeh !== undefined) {\n",
       "    embed_document(root);\n",
       "  } else {\n",
       "    var attempts = 0;\n",
       "    var timer = setInterval(function(root) {\n",
       "      if (root.Bokeh !== undefined) {\n",
       "        embed_document(root);\n",
       "        clearInterval(timer);\n",
       "      }\n",
       "      attempts++;\n",
       "      if (attempts > 100) {\n",
       "        console.log(\"Bokeh: ERROR: Unable to run BokehJS code because BokehJS library is missing\")\n",
       "        clearInterval(timer);\n",
       "      }\n",
       "    }, 10, root)\n",
       "  }\n",
       "})(window);"
      ],
      "application/vnd.bokehjs_exec.v0+json": ""
     },
     "metadata": {
      "application/vnd.bokehjs_exec.v0+json": {
       "id": "340f6d1f-507c-4260-b11d-214c850049df"
      }
     },
     "output_type": "display_data"
    },
    {
     "name": "stdout",
     "output_type": "stream",
     "text": [
      "FIGURE. Cooling rate profiles.\n"
     ]
    },
    {
     "data": {
      "text/html": [
       "<a id=\"Flux_Comparison\"></a>"
      ],
      "text/plain": [
       "<IPython.core.display.HTML object>"
      ]
     },
     "metadata": {},
     "output_type": "display_data"
    },
    {
     "data": {
      "text/markdown": [
       "# Flux Comparison"
      ],
      "text/plain": [
       "<IPython.core.display.Markdown object>"
      ]
     },
     "metadata": {},
     "output_type": "display_data"
    },
    {
     "data": {
      "text/html": [
       "<div>\n",
       "<style>\n",
       "    .dataframe thead tr:only-child th {\n",
       "        text-align: right;\n",
       "    }\n",
       "\n",
       "    .dataframe thead th {\n",
       "        text-align: left;\n",
       "    }\n",
       "\n",
       "    .dataframe tbody tr th {\n",
       "        vertical-align: top;\n",
       "    }\n",
       "</style>\n",
       "<table border=\"1\" class=\"dataframe\">\n",
       "  <thead>\n",
       "    <tr style=\"text-align: right;\">\n",
       "      <th></th>\n",
       "      <th></th>\n",
       "      <th>flug</th>\n",
       "      <th>fldg</th>\n",
       "      <th>fnetg</th>\n",
       "    </tr>\n",
       "    <tr>\n",
       "      <th>pressure</th>\n",
       "      <th>level</th>\n",
       "      <th></th>\n",
       "      <th></th>\n",
       "      <th></th>\n",
       "    </tr>\n",
       "  </thead>\n",
       "  <tbody>\n",
       "    <tr>\n",
       "      <th>0.0000</th>\n",
       "      <th>1</th>\n",
       "      <td>-24.998405</td>\n",
       "      <td>0.000000</td>\n",
       "      <td>-24.998405</td>\n",
       "    </tr>\n",
       "    <tr>\n",
       "      <th>1.0685</th>\n",
       "      <th>24</th>\n",
       "      <td>-25.001253</td>\n",
       "      <td>0.074163</td>\n",
       "      <td>-24.927090</td>\n",
       "    </tr>\n",
       "    <tr>\n",
       "      <th>1013.0000</th>\n",
       "      <th>76</th>\n",
       "      <td>-36.235408</td>\n",
       "      <td>34.200482</td>\n",
       "      <td>-2.034926</td>\n",
       "    </tr>\n",
       "  </tbody>\n",
       "</table>\n",
       "</div>"
      ],
      "text/plain": [
       "                      flug       fldg      fnetg\n",
       "pressure  level                                 \n",
       "0.0000    1     -24.998405   0.000000 -24.998405\n",
       "1.0685    24    -25.001253   0.074163 -24.927090\n",
       "1013.0000 76    -36.235408  34.200482  -2.034926"
      ]
     },
     "metadata": {},
     "output_type": "display_data"
    },
    {
     "name": "stdout",
     "output_type": "stream",
     "text": [
      "Table. Fluxes. WGT igg=10 wgt_flux=1\n"
     ]
    },
    {
     "data": {
      "text/html": [
       "<div>\n",
       "<style>\n",
       "    .dataframe thead tr:only-child th {\n",
       "        text-align: right;\n",
       "    }\n",
       "\n",
       "    .dataframe thead th {\n",
       "        text-align: left;\n",
       "    }\n",
       "\n",
       "    .dataframe tbody tr th {\n",
       "        vertical-align: top;\n",
       "    }\n",
       "</style>\n",
       "<table border=\"1\" class=\"dataframe\">\n",
       "  <thead>\n",
       "    <tr style=\"text-align: right;\">\n",
       "      <th></th>\n",
       "      <th></th>\n",
       "      <th>flug</th>\n",
       "      <th>fldg</th>\n",
       "      <th>fnetg</th>\n",
       "    </tr>\n",
       "    <tr>\n",
       "      <th>pressure</th>\n",
       "      <th>level</th>\n",
       "      <th></th>\n",
       "      <th></th>\n",
       "      <th></th>\n",
       "    </tr>\n",
       "  </thead>\n",
       "  <tbody>\n",
       "    <tr>\n",
       "      <th>0.0000</th>\n",
       "      <th>1</th>\n",
       "      <td>-24.876840</td>\n",
       "      <td>0.000000</td>\n",
       "      <td>-24.876840</td>\n",
       "    </tr>\n",
       "    <tr>\n",
       "      <th>1.0685</th>\n",
       "      <th>24</th>\n",
       "      <td>-24.880528</td>\n",
       "      <td>0.080327</td>\n",
       "      <td>-24.800201</td>\n",
       "    </tr>\n",
       "    <tr>\n",
       "      <th>1013.0000</th>\n",
       "      <th>76</th>\n",
       "      <td>-36.235408</td>\n",
       "      <td>34.688214</td>\n",
       "      <td>-1.547194</td>\n",
       "    </tr>\n",
       "  </tbody>\n",
       "</table>\n",
       "</div>"
      ],
      "text/plain": [
       "                      flug       fldg      fnetg\n",
       "pressure  level                                 \n",
       "0.0000    1     -24.876840   0.000000 -24.876840\n",
       "1.0685    24    -24.880528   0.080327 -24.800201\n",
       "1013.0000 76    -36.235408  34.688214  -1.547194"
      ]
     },
     "metadata": {},
     "output_type": "display_data"
    },
    {
     "name": "stdout",
     "output_type": "stream",
     "text": [
      "Table. Fluxes. CRD\n"
     ]
    },
    {
     "data": {
      "text/html": [
       "<div>\n",
       "<style>\n",
       "    .dataframe thead tr:only-child th {\n",
       "        text-align: right;\n",
       "    }\n",
       "\n",
       "    .dataframe thead th {\n",
       "        text-align: left;\n",
       "    }\n",
       "\n",
       "    .dataframe tbody tr th {\n",
       "        vertical-align: top;\n",
       "    }\n",
       "</style>\n",
       "<table border=\"1\" class=\"dataframe\">\n",
       "  <thead>\n",
       "    <tr style=\"text-align: right;\">\n",
       "      <th></th>\n",
       "      <th></th>\n",
       "      <th>flug</th>\n",
       "      <th>fldg</th>\n",
       "      <th>fnetg</th>\n",
       "    </tr>\n",
       "    <tr>\n",
       "      <th>pressure</th>\n",
       "      <th>level</th>\n",
       "      <th></th>\n",
       "      <th></th>\n",
       "      <th></th>\n",
       "    </tr>\n",
       "  </thead>\n",
       "  <tbody>\n",
       "    <tr>\n",
       "      <th>1.000000e-08</th>\n",
       "      <th>1</th>\n",
       "      <td>-25.174475</td>\n",
       "      <td>0.000002</td>\n",
       "      <td>-25.174473</td>\n",
       "    </tr>\n",
       "    <tr>\n",
       "      <th>1.068500e+00</th>\n",
       "      <th>24</th>\n",
       "      <td>-25.176500</td>\n",
       "      <td>0.070558</td>\n",
       "      <td>-25.105942</td>\n",
       "    </tr>\n",
       "    <tr>\n",
       "      <th>1.013000e+03</th>\n",
       "      <th>76</th>\n",
       "      <td>-36.235409</td>\n",
       "      <td>34.392635</td>\n",
       "      <td>-1.842773</td>\n",
       "    </tr>\n",
       "  </tbody>\n",
       "</table>\n",
       "</div>"
      ],
      "text/plain": [
       "                         flug       fldg      fnetg\n",
       "pressure     level                                 \n",
       "1.000000e-08 1     -25.174475   0.000002 -25.174473\n",
       "1.068500e+00 24    -25.176500   0.070558 -25.105942\n",
       "1.013000e+03 76    -36.235409  34.392635  -1.842773"
      ]
     },
     "metadata": {},
     "output_type": "display_data"
    },
    {
     "name": "stdout",
     "output_type": "stream",
     "text": [
      "Table. Fluxes. CLIRAD\n"
     ]
    },
    {
     "data": {
      "text/html": [
       "<div>\n",
       "<style>\n",
       "    .dataframe thead tr:only-child th {\n",
       "        text-align: right;\n",
       "    }\n",
       "\n",
       "    .dataframe thead th {\n",
       "        text-align: left;\n",
       "    }\n",
       "\n",
       "    .dataframe tbody tr th {\n",
       "        vertical-align: top;\n",
       "    }\n",
       "</style>\n",
       "<table border=\"1\" class=\"dataframe\">\n",
       "  <thead>\n",
       "    <tr style=\"text-align: right;\">\n",
       "      <th></th>\n",
       "      <th></th>\n",
       "      <th>flug</th>\n",
       "      <th>fldg</th>\n",
       "      <th>fnetg</th>\n",
       "    </tr>\n",
       "    <tr>\n",
       "      <th>pressure</th>\n",
       "      <th>level</th>\n",
       "      <th></th>\n",
       "      <th></th>\n",
       "      <th></th>\n",
       "    </tr>\n",
       "  </thead>\n",
       "  <tbody>\n",
       "    <tr>\n",
       "      <th>0.0000</th>\n",
       "      <th>1</th>\n",
       "      <td>0.121565</td>\n",
       "      <td>0.000000</td>\n",
       "      <td>0.121565</td>\n",
       "    </tr>\n",
       "    <tr>\n",
       "      <th>1.0685</th>\n",
       "      <th>24</th>\n",
       "      <td>0.120725</td>\n",
       "      <td>0.006164</td>\n",
       "      <td>0.126889</td>\n",
       "    </tr>\n",
       "    <tr>\n",
       "      <th>1013.0000</th>\n",
       "      <th>76</th>\n",
       "      <td>0.000000</td>\n",
       "      <td>0.487732</td>\n",
       "      <td>0.487732</td>\n",
       "    </tr>\n",
       "  </tbody>\n",
       "</table>\n",
       "</div>"
      ],
      "text/plain": [
       "                     flug      fldg     fnetg\n",
       "pressure  level                              \n",
       "0.0000    1      0.121565  0.000000  0.121565\n",
       "1.0685    24     0.120725  0.006164  0.126889\n",
       "1013.0000 76     0.000000  0.487732  0.487732"
      ]
     },
     "metadata": {},
     "output_type": "display_data"
    },
    {
     "name": "stdout",
     "output_type": "stream",
     "text": [
      "Table. Fluxes. (CRD) - (WGT igg=10 wgt_flux=1)\n"
     ]
    },
    {
     "data": {
      "text/html": [
       "<div>\n",
       "<style>\n",
       "    .dataframe thead tr:only-child th {\n",
       "        text-align: right;\n",
       "    }\n",
       "\n",
       "    .dataframe thead th {\n",
       "        text-align: left;\n",
       "    }\n",
       "\n",
       "    .dataframe tbody tr th {\n",
       "        vertical-align: top;\n",
       "    }\n",
       "</style>\n",
       "<table border=\"1\" class=\"dataframe\">\n",
       "  <thead>\n",
       "    <tr style=\"text-align: right;\">\n",
       "      <th></th>\n",
       "      <th></th>\n",
       "      <th>flug</th>\n",
       "      <th>fldg</th>\n",
       "      <th>fnetg</th>\n",
       "    </tr>\n",
       "    <tr>\n",
       "      <th>pressure</th>\n",
       "      <th>level</th>\n",
       "      <th></th>\n",
       "      <th></th>\n",
       "      <th></th>\n",
       "    </tr>\n",
       "  </thead>\n",
       "  <tbody>\n",
       "    <tr>\n",
       "      <th>0.0000</th>\n",
       "      <th>1</th>\n",
       "      <td>-0.176070</td>\n",
       "      <td>0.000002</td>\n",
       "      <td>-0.176068</td>\n",
       "    </tr>\n",
       "    <tr>\n",
       "      <th>1.0685</th>\n",
       "      <th>24</th>\n",
       "      <td>-0.175247</td>\n",
       "      <td>-0.003605</td>\n",
       "      <td>-0.178852</td>\n",
       "    </tr>\n",
       "    <tr>\n",
       "      <th>1013.0000</th>\n",
       "      <th>76</th>\n",
       "      <td>-0.000001</td>\n",
       "      <td>0.192153</td>\n",
       "      <td>0.192152</td>\n",
       "    </tr>\n",
       "  </tbody>\n",
       "</table>\n",
       "</div>"
      ],
      "text/plain": [
       "                     flug      fldg     fnetg\n",
       "pressure  level                              \n",
       "0.0000    1     -0.176070  0.000002 -0.176068\n",
       "1.0685    24    -0.175247 -0.003605 -0.178852\n",
       "1013.0000 76    -0.000001  0.192153  0.192152"
      ]
     },
     "metadata": {},
     "output_type": "display_data"
    },
    {
     "name": "stdout",
     "output_type": "stream",
     "text": [
      "Table. Fluxes. (CLIRAD) - (WGT igg=10 wgt_flux=1)\n"
     ]
    },
    {
     "data": {
      "text/html": [
       "<a id=\"Best-fit_Parameters\"></a>"
      ],
      "text/plain": [
       "<IPython.core.display.HTML object>"
      ]
     },
     "metadata": {},
     "output_type": "display_data"
    },
    {
     "data": {
      "text/markdown": [
       "# Best-fit Parameters"
      ],
      "text/plain": [
       "<IPython.core.display.Markdown object>"
      ]
     },
     "metadata": {},
     "output_type": "display_data"
    },
    {
     "name": "stdout",
     "output_type": "stream",
     "text": [
      "Best-fit values for each (gas, band)\n",
      "------------------------------------\n",
      "o co2 band3a\n",
      "  atmpro = mls\n",
      "  band = 3a\n",
      "  commitnumber = 2bd1f75\n",
      "  conc = 0.0004\n",
      "  dv = 0.01\n",
      "  klin = 6.375563e-24\n",
      "  molecule = co2\n",
      "  ng_adju = [0, 0, 0]\n",
      "  ng_refs = [3, 2, 4]\n",
      "  nv = 100\n",
      "  option_compute_btable = 0\n",
      "  option_compute_ktable = 1\n",
      "  option_wgt_flux = 1\n",
      "  option_wgt_k = 1\n",
      "  ref_pts = [(1, 250), (10, 250), (500, 250)]\n",
      "  tsfc = 294\n",
      "  vmax = 620\n",
      "  vmin = 540\n",
      "  w_diffuse = [(1.6, 1.6, 1.7), (1.75, 1.75), (1.55, 1.55, 1.6, 1.85)]\n",
      "  wgt = [(0.7, 0.3, 0.7), (0.7, 0.6), (0.4, 0.5, 0.8, 0.95)]\n",
      "o h2o band3a\n",
      "  atmpro = mls\n",
      "  band = 3a\n",
      "  commitnumber = 2bd1f75\n",
      "  conc = None\n",
      "  dv = 0.01\n",
      "  klin = 0\n",
      "  molecule = h2o\n",
      "  ng_adju = [0, 0]\n",
      "  ng_refs = [2, 6]\n",
      "  nv = 100\n",
      "  option_compute_btable = 0\n",
      "  option_compute_ktable = 1\n",
      "  option_wgt_flux = 1\n",
      "  option_wgt_k = 1\n",
      "  ref_pts = [(10, 250), (600, 250)]\n",
      "  tsfc = 294\n",
      "  vmax = 620\n",
      "  vmin = 540\n",
      "  w_diffuse = [(1.9, 1.7), (1.4, 1.4, 1.4, 1.55, 1.6, 1.66)]\n",
      "  wgt = [(0.7, 0.7), (0.7, 0.5, 0.5, 0.5, 0.5, 0.5)]\n",
      "o n2o band3a\n",
      "  atmpro = mls\n",
      "  band = 3a\n",
      "  commitnumber = 2bd1f75\n",
      "  conc = 3.2e-07\n",
      "  dv = 0.01\n",
      "  klin = 2.22e-20\n",
      "  molecule = n2o\n",
      "  ng_adju = [0, 0]\n",
      "  ng_refs = [1, 2]\n",
      "  nv = 100\n",
      "  option_compute_btable = 0\n",
      "  option_compute_ktable = 1\n",
      "  option_wgt_flux = 1\n",
      "  option_wgt_k = 1\n",
      "  ref_pts = [(1, 250), (500, 250)]\n",
      "  tsfc = 294\n",
      "  vmax = 620\n",
      "  vmin = 540\n",
      "  w_diffuse = [(1.8,), (1.66, 1.8)]\n",
      "  wgt = [(0.9,), (0.5, 0.95)]\n"
     ]
    }
   ],
   "source": [
    "script()"
   ]
  },
  {
   "cell_type": "code",
   "execution_count": 13,
   "metadata": {
    "collapsed": true
   },
   "outputs": [
    {
     "data": {
      "text/html": [
       "<script>\n",
       "code_show=true; \n",
       "function code_toggle() {\n",
       " if (code_show){\n",
       " $('div.input').hide();\n",
       " } else {\n",
       " $('div.input').show();\n",
       " }\n",
       " code_show = !code_show\n",
       "} \n",
       "$( document ).ready(code_toggle);\n",
       "</script>\n",
       "<form action=\"javascript:code_toggle()\"><input type=\"submit\" value=\"Click here to toggle on/off the raw code.\"></form>"
      ],
      "text/plain": [
       "<IPython.core.display.HTML object>"
      ]
     },
     "execution_count": 13,
     "metadata": {},
     "output_type": "execute_result"
    }
   ],
   "source": [
    "display.HTML('''<script>\n",
    "code_show=true; \n",
    "function code_toggle() {\n",
    " if (code_show){\n",
    " $('div.input').hide();\n",
    " } else {\n",
    " $('div.input').show();\n",
    " }\n",
    " code_show = !code_show\n",
    "} \n",
    "$( document ).ready(code_toggle);\n",
    "</script>\n",
    "<form action=\"javascript:code_toggle()\"><input type=\"submit\" value=\"Click here to toggle on/off the raw code.\"></form>''')"
   ]
  }
 ],
 "metadata": {
  "kernelspec": {
   "display_name": "Python 3",
   "language": "python",
   "name": "python3"
  },
  "language_info": {
   "codemirror_mode": {
    "name": "ipython",
    "version": 3
   },
   "file_extension": ".py",
   "mimetype": "text/x-python",
   "name": "python",
   "nbconvert_exporter": "python",
   "pygments_lexer": "ipython3",
   "version": "3.6.1"
  }
 },
 "nbformat": 4,
 "nbformat_minor": 2
}
