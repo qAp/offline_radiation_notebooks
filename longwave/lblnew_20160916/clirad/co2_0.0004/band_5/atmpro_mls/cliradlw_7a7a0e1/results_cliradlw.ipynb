{
 "cells": [
  {
   "cell_type": "code",
   "execution_count": 1,
   "metadata": {
    "collapsed": true
   },
   "outputs": [],
   "source": [
    "%matplotlib inline\n",
    "import os\n",
    "import re\n",
    "import io\n",
    "import itertools\n",
    "import pprint\n",
    "\n",
    "from bokeh.io import output_notebook, show\n",
    "from bokeh.layouts import gridplot\n",
    "from bokeh.plotting import figure\n",
    "from bokeh.models import Range1d, Legend\n",
    "from bokeh.palettes import all_palettes\n",
    "\n",
    "import matplotlib\n",
    "import matplotlib.pyplot as plt\n",
    "import numpy as np\n",
    "import pandas as pd\n",
    "import xarray as xr\n",
    "\n",
    "import climatools.lblnew.bestfit_params as bestfits\n",
    "from climatools.lblnew import setup_bestfit, setup_overlap\n",
    "import climatools.lblnew.pipeline as pipe_lblnew\n",
    "import climatools.cliradlw.setup as setup_cliradlw\n",
    "import climatools.cliradlw.pipeline as pipe_cliradlw\n",
    "\n",
    "import climatools.html.html as climahtml\n",
    "from climatools.lblnew.dataio import *\n",
    "from climatools.plot.plot import *\n",
    "\n",
    "\n",
    "import IPython.display as display"
   ]
  },
  {
   "cell_type": "code",
   "execution_count": 2,
   "metadata": {
    "collapsed": true
   },
   "outputs": [],
   "source": [
    "%run param.py"
   ]
  },
  {
   "cell_type": "code",
   "execution_count": 3,
   "metadata": {
    "collapsed": true
   },
   "outputs": [],
   "source": [
    "def load_output_file(path_csv):\n",
    "    '''\n",
    "    Load lblnew output .csv file to xarray.Dataset\n",
    "    \n",
    "    Parameters\n",
    "    ----------\n",
    "    path_csv: str\n",
    "              Path to the .csv file to be loaded.\n",
    "    ds: xarray.Dataset\n",
    "        Data in the input file in the form of an xarray.Dataset.\n",
    "    '''\n",
    "    toindex = ['band', 'pressure', 'igg', 'g']    \n",
    "    df = pd.read_csv(path_csv, sep=r'\\s+')\n",
    "    df = df.set_index([i for i in toindex if i in df.columns])\n",
    "    df = df.rename(columns={'sfu': 'flug',\n",
    "                            'sfd': 'fldg',\n",
    "                            'fnet': 'fnetg',\n",
    "                            'coolr': 'coolrg'})\n",
    "    ds = xr.Dataset.from_dataframe(df)\n",
    "\n",
    "    for l in ('level', 'layer'):\n",
    "        if l in ds.data_vars:\n",
    "            if len(ds[l].dims) > 1:\n",
    "                surface = {d: 0 for d in ds.dims if d != 'pressure'}\n",
    "                coord_level = ds[l][surface]\n",
    "                ds.coords[l] = ('pressure', coord_level)\n",
    "            else:\n",
    "                ds.coords[l] = ('pressure', ds[l])\n",
    "    \n",
    "    return ds"
   ]
  },
  {
   "cell_type": "code",
   "execution_count": 4,
   "metadata": {
    "collapsed": true
   },
   "outputs": [],
   "source": [
    "def lblnew_setup(param=None):\n",
    "    if 'ng_refs' in param:\n",
    "        return {'setup': setup_bestfit,\n",
    "                'fname_flux_crd': 'output_flux.dat',\n",
    "                'fname_cool_crd': 'output_coolr.dat',\n",
    "                'fname_flux_wgt': 'output_wfluxg.dat',\n",
    "                'fname_cool_wgt': 'output_wcoolrg.dat'}\n",
    "    else:\n",
    "        return {'setup': setup_overlap,\n",
    "                'fname_flux_crd': 'output_flux.dat',\n",
    "                'fname_cool_crd': 'output_coolr.dat',\n",
    "                'fname_flux_wgt': 'output_wflux.dat',\n",
    "                'fname_cool_wgt': 'output_wcoolr.dat'}\n",
    "\n",
    "    \n",
    "def load_lblnew_data(param):\n",
    "    \n",
    "    fname_dsname = [('fname_flux_crd', 'ds_flux_crd'),\n",
    "                    ('fname_cool_crd', 'ds_cool_crd'),\n",
    "                    ('fname_flux_wgt', 'ds_flux_wgt'),\n",
    "                    ('fname_cool_wgt', 'ds_cool_wgt')]\n",
    "    \n",
    "    d = lblnew_setup(param)\n",
    "    dir_fortran = pipe_lblnew.get_dir_case(param, setup=d['setup'])\n",
    "    \n",
    "    data_dict = {}\n",
    "    for fname, dsname in fname_dsname:\n",
    "        fpath = os.path.join(dir_fortran, d[fname])\n",
    "        data_dict[dsname] = load_output_file(fpath)\n",
    "    return data_dict\n",
    "    \n",
    "\n",
    "    \n",
    "    "
   ]
  },
  {
   "cell_type": "code",
   "execution_count": 5,
   "metadata": {
    "collapsed": true
   },
   "outputs": [],
   "source": [
    "d = load_lblnew_data(PARAM_LBLNEW)\n",
    "\n",
    "DS_FLUX_CRD = d['ds_flux_crd']\n",
    "DS_COOL_CRD = d['ds_cool_crd']\n",
    "DS_FLUX_WGT = d['ds_flux_wgt']\n",
    "DS_COOL_WGT = d['ds_cool_wgt']"
   ]
  },
  {
   "cell_type": "code",
   "execution_count": 6,
   "metadata": {
    "collapsed": true
   },
   "outputs": [],
   "source": [
    "DIR_FORTRAN = pipe_cliradlw.get_fortran_dir(PARAM, \n",
    "                                            setup=setup_cliradlw)\n",
    "\n",
    "PATH_FLUX = os.path.join(DIR_FORTRAN, 'output_flux.dat')\n",
    "PATH_COOL = os.path.join(DIR_FORTRAN, 'output_coolr.dat')\n",
    "\n",
    "DS_FLUX = load_output_file(PATH_FLUX)\n",
    "DS_COOL = load_output_file(PATH_COOL)"
   ]
  },
  {
   "cell_type": "code",
   "execution_count": 7,
   "metadata": {},
   "outputs": [
    {
     "data": {
      "text/html": [
       "\n",
       "    <div class=\"bk-root\">\n",
       "        <a href=\"https://bokeh.pydata.org\" target=\"_blank\" class=\"bk-logo bk-logo-small bk-logo-notebook\"></a>\n",
       "        <span id=\"18f63c60-296c-4a1b-a84c-a8c0d2c30d2d\">Loading BokehJS ...</span>\n",
       "    </div>"
      ]
     },
     "metadata": {},
     "output_type": "display_data"
    },
    {
     "data": {
      "application/javascript": [
       "\n",
       "(function(root) {\n",
       "  function now() {\n",
       "    return new Date();\n",
       "  }\n",
       "\n",
       "  var force = true;\n",
       "\n",
       "  if (typeof (root._bokeh_onload_callbacks) === \"undefined\" || force === true) {\n",
       "    root._bokeh_onload_callbacks = [];\n",
       "    root._bokeh_is_loading = undefined;\n",
       "  }\n",
       "\n",
       "  var JS_MIME_TYPE = 'application/javascript';\n",
       "  var HTML_MIME_TYPE = 'text/html';\n",
       "  var EXEC_MIME_TYPE = 'application/vnd.bokehjs_exec.v0+json';\n",
       "  var CLASS_NAME = 'output_bokeh rendered_html';\n",
       "\n",
       "  /**\n",
       "   * Render data to the DOM node\n",
       "   */\n",
       "  function render(props, node) {\n",
       "    var script = document.createElement(\"script\");\n",
       "    node.appendChild(script);\n",
       "  }\n",
       "\n",
       "  /**\n",
       "   * Handle when an output is cleared or removed\n",
       "   */\n",
       "  function handleClearOutput(event, handle) {\n",
       "    var cell = handle.cell;\n",
       "\n",
       "    var id = cell.output_area._bokeh_element_id;\n",
       "    var server_id = cell.output_area._bokeh_server_id;\n",
       "    // Clean up Bokeh references\n",
       "    if (id !== undefined) {\n",
       "      Bokeh.index[id].model.document.clear();\n",
       "      delete Bokeh.index[id];\n",
       "    }\n",
       "\n",
       "    if (server_id !== undefined) {\n",
       "      // Clean up Bokeh references\n",
       "      var cmd = \"from bokeh.io.state import curstate; print(curstate().uuid_to_server['\" + server_id + \"'].get_sessions()[0].document.roots[0]._id)\";\n",
       "      cell.notebook.kernel.execute(cmd, {\n",
       "        iopub: {\n",
       "          output: function(msg) {\n",
       "            var element_id = msg.content.text.trim();\n",
       "            Bokeh.index[element_id].model.document.clear();\n",
       "            delete Bokeh.index[element_id];\n",
       "          }\n",
       "        }\n",
       "      });\n",
       "      // Destroy server and session\n",
       "      var cmd = \"import bokeh.io.notebook as ion; ion.destroy_server('\" + server_id + \"')\";\n",
       "      cell.notebook.kernel.execute(cmd);\n",
       "    }\n",
       "  }\n",
       "\n",
       "  /**\n",
       "   * Handle when a new output is added\n",
       "   */\n",
       "  function handleAddOutput(event, handle) {\n",
       "    var output_area = handle.output_area;\n",
       "    var output = handle.output;\n",
       "\n",
       "    // limit handleAddOutput to display_data with EXEC_MIME_TYPE content only\n",
       "    if ((output.output_type != \"display_data\") || (!output.data.hasOwnProperty(EXEC_MIME_TYPE))) {\n",
       "      return\n",
       "    }\n",
       "\n",
       "    var toinsert = output_area.element.find(\".\" + CLASS_NAME.split(' ')[0]);\n",
       "\n",
       "    if (output.metadata[EXEC_MIME_TYPE][\"id\"] !== undefined) {\n",
       "      toinsert[0].firstChild.textContent = output.data[JS_MIME_TYPE];\n",
       "      // store reference to embed id on output_area\n",
       "      output_area._bokeh_element_id = output.metadata[EXEC_MIME_TYPE][\"id\"];\n",
       "    }\n",
       "    if (output.metadata[EXEC_MIME_TYPE][\"server_id\"] !== undefined) {\n",
       "      var bk_div = document.createElement(\"div\");\n",
       "      bk_div.innerHTML = output.data[HTML_MIME_TYPE];\n",
       "      var script_attrs = bk_div.children[0].attributes;\n",
       "      for (var i = 0; i < script_attrs.length; i++) {\n",
       "        toinsert[0].firstChild.setAttribute(script_attrs[i].name, script_attrs[i].value);\n",
       "      }\n",
       "      // store reference to server id on output_area\n",
       "      output_area._bokeh_server_id = output.metadata[EXEC_MIME_TYPE][\"server_id\"];\n",
       "    }\n",
       "  }\n",
       "\n",
       "  function register_renderer(events, OutputArea) {\n",
       "\n",
       "    function append_mime(data, metadata, element) {\n",
       "      // create a DOM node to render to\n",
       "      var toinsert = this.create_output_subarea(\n",
       "        metadata,\n",
       "        CLASS_NAME,\n",
       "        EXEC_MIME_TYPE\n",
       "      );\n",
       "      this.keyboard_manager.register_events(toinsert);\n",
       "      // Render to node\n",
       "      var props = {data: data, metadata: metadata[EXEC_MIME_TYPE]};\n",
       "      render(props, toinsert[0]);\n",
       "      element.append(toinsert);\n",
       "      return toinsert\n",
       "    }\n",
       "\n",
       "    /* Handle when an output is cleared or removed */\n",
       "    events.on('clear_output.CodeCell', handleClearOutput);\n",
       "    events.on('delete.Cell', handleClearOutput);\n",
       "\n",
       "    /* Handle when a new output is added */\n",
       "    events.on('output_added.OutputArea', handleAddOutput);\n",
       "\n",
       "    /**\n",
       "     * Register the mime type and append_mime function with output_area\n",
       "     */\n",
       "    OutputArea.prototype.register_mime_type(EXEC_MIME_TYPE, append_mime, {\n",
       "      /* Is output safe? */\n",
       "      safe: true,\n",
       "      /* Index of renderer in `output_area.display_order` */\n",
       "      index: 0\n",
       "    });\n",
       "  }\n",
       "\n",
       "  // register the mime type if in Jupyter Notebook environment and previously unregistered\n",
       "  if (root.Jupyter !== undefined) {\n",
       "    var events = require('base/js/events');\n",
       "    var OutputArea = require('notebook/js/outputarea').OutputArea;\n",
       "\n",
       "    if (OutputArea.prototype.mime_types().indexOf(EXEC_MIME_TYPE) == -1) {\n",
       "      register_renderer(events, OutputArea);\n",
       "    }\n",
       "  }\n",
       "\n",
       "  \n",
       "  if (typeof (root._bokeh_timeout) === \"undefined\" || force === true) {\n",
       "    root._bokeh_timeout = Date.now() + 5000;\n",
       "    root._bokeh_failed_load = false;\n",
       "  }\n",
       "\n",
       "  var NB_LOAD_WARNING = {'data': {'text/html':\n",
       "     \"<div style='background-color: #fdd'>\\n\"+\n",
       "     \"<p>\\n\"+\n",
       "     \"BokehJS does not appear to have successfully loaded. If loading BokehJS from CDN, this \\n\"+\n",
       "     \"may be due to a slow or bad network connection. Possible fixes:\\n\"+\n",
       "     \"</p>\\n\"+\n",
       "     \"<ul>\\n\"+\n",
       "     \"<li>re-rerun `output_notebook()` to attempt to load from CDN again, or</li>\\n\"+\n",
       "     \"<li>use INLINE resources instead, as so:</li>\\n\"+\n",
       "     \"</ul>\\n\"+\n",
       "     \"<code>\\n\"+\n",
       "     \"from bokeh.resources import INLINE\\n\"+\n",
       "     \"output_notebook(resources=INLINE)\\n\"+\n",
       "     \"</code>\\n\"+\n",
       "     \"</div>\"}};\n",
       "\n",
       "  function display_loaded() {\n",
       "    var el = document.getElementById(\"18f63c60-296c-4a1b-a84c-a8c0d2c30d2d\");\n",
       "    if (el != null) {\n",
       "      el.textContent = \"BokehJS is loading...\";\n",
       "    }\n",
       "    if (root.Bokeh !== undefined) {\n",
       "      if (el != null) {\n",
       "        el.textContent = \"BokehJS \" + root.Bokeh.version + \" successfully loaded.\";\n",
       "      }\n",
       "    } else if (Date.now() < root._bokeh_timeout) {\n",
       "      setTimeout(display_loaded, 100)\n",
       "    }\n",
       "  }\n",
       "\n",
       "\n",
       "  function run_callbacks() {\n",
       "    try {\n",
       "      root._bokeh_onload_callbacks.forEach(function(callback) { callback() });\n",
       "    }\n",
       "    finally {\n",
       "      delete root._bokeh_onload_callbacks\n",
       "    }\n",
       "    console.info(\"Bokeh: all callbacks have finished\");\n",
       "  }\n",
       "\n",
       "  function load_libs(js_urls, callback) {\n",
       "    root._bokeh_onload_callbacks.push(callback);\n",
       "    if (root._bokeh_is_loading > 0) {\n",
       "      console.log(\"Bokeh: BokehJS is being loaded, scheduling callback at\", now());\n",
       "      return null;\n",
       "    }\n",
       "    if (js_urls == null || js_urls.length === 0) {\n",
       "      run_callbacks();\n",
       "      return null;\n",
       "    }\n",
       "    console.log(\"Bokeh: BokehJS not loaded, scheduling load and callback at\", now());\n",
       "    root._bokeh_is_loading = js_urls.length;\n",
       "    for (var i = 0; i < js_urls.length; i++) {\n",
       "      var url = js_urls[i];\n",
       "      var s = document.createElement('script');\n",
       "      s.src = url;\n",
       "      s.async = false;\n",
       "      s.onreadystatechange = s.onload = function() {\n",
       "        root._bokeh_is_loading--;\n",
       "        if (root._bokeh_is_loading === 0) {\n",
       "          console.log(\"Bokeh: all BokehJS libraries loaded\");\n",
       "          run_callbacks()\n",
       "        }\n",
       "      };\n",
       "      s.onerror = function() {\n",
       "        console.warn(\"failed to load library \" + url);\n",
       "      };\n",
       "      console.log(\"Bokeh: injecting script tag for BokehJS library: \", url);\n",
       "      document.getElementsByTagName(\"head\")[0].appendChild(s);\n",
       "    }\n",
       "  };var element = document.getElementById(\"18f63c60-296c-4a1b-a84c-a8c0d2c30d2d\");\n",
       "  if (element == null) {\n",
       "    console.log(\"Bokeh: ERROR: autoload.js configured with elementid '18f63c60-296c-4a1b-a84c-a8c0d2c30d2d' but no matching script tag was found. \")\n",
       "    return false;\n",
       "  }\n",
       "\n",
       "  var js_urls = [\"https://cdn.pydata.org/bokeh/release/bokeh-0.12.14.min.js\", \"https://cdn.pydata.org/bokeh/release/bokeh-widgets-0.12.14.min.js\", \"https://cdn.pydata.org/bokeh/release/bokeh-tables-0.12.14.min.js\", \"https://cdn.pydata.org/bokeh/release/bokeh-gl-0.12.14.min.js\"];\n",
       "\n",
       "  var inline_js = [\n",
       "    function(Bokeh) {\n",
       "      Bokeh.set_log_level(\"info\");\n",
       "    },\n",
       "    \n",
       "    function(Bokeh) {\n",
       "      \n",
       "    },\n",
       "    function(Bokeh) {\n",
       "      console.log(\"Bokeh: injecting CSS: https://cdn.pydata.org/bokeh/release/bokeh-0.12.14.min.css\");\n",
       "      Bokeh.embed.inject_css(\"https://cdn.pydata.org/bokeh/release/bokeh-0.12.14.min.css\");\n",
       "      console.log(\"Bokeh: injecting CSS: https://cdn.pydata.org/bokeh/release/bokeh-widgets-0.12.14.min.css\");\n",
       "      Bokeh.embed.inject_css(\"https://cdn.pydata.org/bokeh/release/bokeh-widgets-0.12.14.min.css\");\n",
       "      console.log(\"Bokeh: injecting CSS: https://cdn.pydata.org/bokeh/release/bokeh-tables-0.12.14.min.css\");\n",
       "      Bokeh.embed.inject_css(\"https://cdn.pydata.org/bokeh/release/bokeh-tables-0.12.14.min.css\");\n",
       "    }\n",
       "  ];\n",
       "\n",
       "  function run_inline_js() {\n",
       "    \n",
       "    if ((root.Bokeh !== undefined) || (force === true)) {\n",
       "      for (var i = 0; i < inline_js.length; i++) {\n",
       "        inline_js[i].call(root, root.Bokeh);\n",
       "      }if (force === true) {\n",
       "        display_loaded();\n",
       "      }} else if (Date.now() < root._bokeh_timeout) {\n",
       "      setTimeout(run_inline_js, 100);\n",
       "    } else if (!root._bokeh_failed_load) {\n",
       "      console.log(\"Bokeh: BokehJS failed to load within specified timeout.\");\n",
       "      root._bokeh_failed_load = true;\n",
       "    } else if (force !== true) {\n",
       "      var cell = $(document.getElementById(\"18f63c60-296c-4a1b-a84c-a8c0d2c30d2d\")).parents('.cell').data().cell;\n",
       "      cell.output_area.append_execute_result(NB_LOAD_WARNING)\n",
       "    }\n",
       "\n",
       "  }\n",
       "\n",
       "  if (root._bokeh_is_loading === 0) {\n",
       "    console.log(\"Bokeh: BokehJS loaded, going straight to plotting\");\n",
       "    run_inline_js();\n",
       "  } else {\n",
       "    load_libs(js_urls, function() {\n",
       "      console.log(\"Bokeh: BokehJS plotting callback run at\", now());\n",
       "      run_inline_js();\n",
       "    });\n",
       "  }\n",
       "}(window));"
      ],
      "application/vnd.bokehjs_load.v0+json": "\n(function(root) {\n  function now() {\n    return new Date();\n  }\n\n  var force = true;\n\n  if (typeof (root._bokeh_onload_callbacks) === \"undefined\" || force === true) {\n    root._bokeh_onload_callbacks = [];\n    root._bokeh_is_loading = undefined;\n  }\n\n  \n\n  \n  if (typeof (root._bokeh_timeout) === \"undefined\" || force === true) {\n    root._bokeh_timeout = Date.now() + 5000;\n    root._bokeh_failed_load = false;\n  }\n\n  var NB_LOAD_WARNING = {'data': {'text/html':\n     \"<div style='background-color: #fdd'>\\n\"+\n     \"<p>\\n\"+\n     \"BokehJS does not appear to have successfully loaded. If loading BokehJS from CDN, this \\n\"+\n     \"may be due to a slow or bad network connection. Possible fixes:\\n\"+\n     \"</p>\\n\"+\n     \"<ul>\\n\"+\n     \"<li>re-rerun `output_notebook()` to attempt to load from CDN again, or</li>\\n\"+\n     \"<li>use INLINE resources instead, as so:</li>\\n\"+\n     \"</ul>\\n\"+\n     \"<code>\\n\"+\n     \"from bokeh.resources import INLINE\\n\"+\n     \"output_notebook(resources=INLINE)\\n\"+\n     \"</code>\\n\"+\n     \"</div>\"}};\n\n  function display_loaded() {\n    var el = document.getElementById(\"18f63c60-296c-4a1b-a84c-a8c0d2c30d2d\");\n    if (el != null) {\n      el.textContent = \"BokehJS is loading...\";\n    }\n    if (root.Bokeh !== undefined) {\n      if (el != null) {\n        el.textContent = \"BokehJS \" + root.Bokeh.version + \" successfully loaded.\";\n      }\n    } else if (Date.now() < root._bokeh_timeout) {\n      setTimeout(display_loaded, 100)\n    }\n  }\n\n\n  function run_callbacks() {\n    try {\n      root._bokeh_onload_callbacks.forEach(function(callback) { callback() });\n    }\n    finally {\n      delete root._bokeh_onload_callbacks\n    }\n    console.info(\"Bokeh: all callbacks have finished\");\n  }\n\n  function load_libs(js_urls, callback) {\n    root._bokeh_onload_callbacks.push(callback);\n    if (root._bokeh_is_loading > 0) {\n      console.log(\"Bokeh: BokehJS is being loaded, scheduling callback at\", now());\n      return null;\n    }\n    if (js_urls == null || js_urls.length === 0) {\n      run_callbacks();\n      return null;\n    }\n    console.log(\"Bokeh: BokehJS not loaded, scheduling load and callback at\", now());\n    root._bokeh_is_loading = js_urls.length;\n    for (var i = 0; i < js_urls.length; i++) {\n      var url = js_urls[i];\n      var s = document.createElement('script');\n      s.src = url;\n      s.async = false;\n      s.onreadystatechange = s.onload = function() {\n        root._bokeh_is_loading--;\n        if (root._bokeh_is_loading === 0) {\n          console.log(\"Bokeh: all BokehJS libraries loaded\");\n          run_callbacks()\n        }\n      };\n      s.onerror = function() {\n        console.warn(\"failed to load library \" + url);\n      };\n      console.log(\"Bokeh: injecting script tag for BokehJS library: \", url);\n      document.getElementsByTagName(\"head\")[0].appendChild(s);\n    }\n  };var element = document.getElementById(\"18f63c60-296c-4a1b-a84c-a8c0d2c30d2d\");\n  if (element == null) {\n    console.log(\"Bokeh: ERROR: autoload.js configured with elementid '18f63c60-296c-4a1b-a84c-a8c0d2c30d2d' but no matching script tag was found. \")\n    return false;\n  }\n\n  var js_urls = [\"https://cdn.pydata.org/bokeh/release/bokeh-0.12.14.min.js\", \"https://cdn.pydata.org/bokeh/release/bokeh-widgets-0.12.14.min.js\", \"https://cdn.pydata.org/bokeh/release/bokeh-tables-0.12.14.min.js\", \"https://cdn.pydata.org/bokeh/release/bokeh-gl-0.12.14.min.js\"];\n\n  var inline_js = [\n    function(Bokeh) {\n      Bokeh.set_log_level(\"info\");\n    },\n    \n    function(Bokeh) {\n      \n    },\n    function(Bokeh) {\n      console.log(\"Bokeh: injecting CSS: https://cdn.pydata.org/bokeh/release/bokeh-0.12.14.min.css\");\n      Bokeh.embed.inject_css(\"https://cdn.pydata.org/bokeh/release/bokeh-0.12.14.min.css\");\n      console.log(\"Bokeh: injecting CSS: https://cdn.pydata.org/bokeh/release/bokeh-widgets-0.12.14.min.css\");\n      Bokeh.embed.inject_css(\"https://cdn.pydata.org/bokeh/release/bokeh-widgets-0.12.14.min.css\");\n      console.log(\"Bokeh: injecting CSS: https://cdn.pydata.org/bokeh/release/bokeh-tables-0.12.14.min.css\");\n      Bokeh.embed.inject_css(\"https://cdn.pydata.org/bokeh/release/bokeh-tables-0.12.14.min.css\");\n    }\n  ];\n\n  function run_inline_js() {\n    \n    if ((root.Bokeh !== undefined) || (force === true)) {\n      for (var i = 0; i < inline_js.length; i++) {\n        inline_js[i].call(root, root.Bokeh);\n      }if (force === true) {\n        display_loaded();\n      }} else if (Date.now() < root._bokeh_timeout) {\n      setTimeout(run_inline_js, 100);\n    } else if (!root._bokeh_failed_load) {\n      console.log(\"Bokeh: BokehJS failed to load within specified timeout.\");\n      root._bokeh_failed_load = true;\n    } else if (force !== true) {\n      var cell = $(document.getElementById(\"18f63c60-296c-4a1b-a84c-a8c0d2c30d2d\")).parents('.cell').data().cell;\n      cell.output_area.append_execute_result(NB_LOAD_WARNING)\n    }\n\n  }\n\n  if (root._bokeh_is_loading === 0) {\n    console.log(\"Bokeh: BokehJS loaded, going straight to plotting\");\n    run_inline_js();\n  } else {\n    load_libs(js_urls, function() {\n      console.log(\"Bokeh: BokehJS plotting callback run at\", now());\n      run_inline_js();\n    });\n  }\n}(window));"
     },
     "metadata": {},
     "output_type": "display_data"
    }
   ],
   "source": [
    "output_notebook()"
   ]
  },
  {
   "cell_type": "code",
   "execution_count": 8,
   "metadata": {
    "collapsed": true
   },
   "outputs": [],
   "source": [
    "def fmt_cool(ds_in):\n",
    "    ds = ds_in.copy(deep=True)\n",
    "    if 'igg' in ds.dims:\n",
    "        ds = ds.sel(igg=1)\n",
    "\n",
    "    if 'g' in ds.dims:\n",
    "        ds = ds.sum('g')\n",
    "            \n",
    "    if 'band' in ds.dims:\n",
    "        try:\n",
    "            ds = ds.squeeze('band')\n",
    "        except ValueError:\n",
    "            ds = ds.sum('band')\n",
    "                \n",
    "    return ds['coolrg']\n",
    "\n",
    "\n",
    "def pltdata_cooling_1(ds_cool=None,\n",
    "                      ds_cool_crd=None, ds_cool_wgt=None):\n",
    "    \n",
    "\n",
    "\n",
    "    colors = all_palettes['Set1'][4]\n",
    "    data = [{'label': 'CLIRAD `coolr_bands`',\n",
    "             'srs': fmt_cool(ds_cool),\n",
    "             'line_dash': 'dashed', 'line_width': 5,\n",
    "             'color': colors[0], 'alpha': .6},\n",
    "            {'label': 'CRD',\n",
    "             'srs': fmt_cool(ds_cool_crd),\n",
    "             'line_dash': 'solid', 'line_width': 1.5,\n",
    "             'marker': 'circle', 'marker_size': 5,\n",
    "             'color': colors[2], 'alpha': 1,},\n",
    "            {'label': 'WGT igg=10 wgt_flux=2',\n",
    "             'srs': fmt_cool(ds_cool_wgt),\n",
    "             'line_dash': 'solid', 'line_width': 3,\n",
    "             'marker': 'square', 'marker_size': 5,\n",
    "             'color': colors[3], 'alpha': .6}]\n",
    "    return data\n",
    "\n",
    "\n",
    "def nice_xlims(pltdata=None, prange=None):\n",
    "    \n",
    "    def get_slice(srs):\n",
    "        return srs.sel(pressure=slice(*prange))\n",
    "    \n",
    "    srss = [d['srs'] for d in pltdata]\n",
    "    vmin = min([get_slice(srs).min() for srs in srss])\n",
    "    vmax = max([get_slice(srs).max() for srs in srss])\n",
    "    dv = (vmax - vmin) * .01\n",
    "    return float(vmin - dv), float(vmax + dv)\n",
    "    \n",
    "\n",
    "def plt_cooling_bokeh(pltdata=None):\n",
    "    '''\n",
    "    Plot a list of cooling rate profiles using bokeh.\n",
    "    '''\n",
    "    ymin = 1e-2 \n",
    "    ymax = 1020 \n",
    "        \n",
    "    p1 = figure(title=\"Linear pressure scale\", \n",
    "                plot_width=400)        \n",
    "    xmin, xmax = nice_xlims(pltdata, prange=(50, 1050))\n",
    "    for d in pltdata:\n",
    "        if 'marker' in d:\n",
    "            getattr(p1, d['marker'])(d['srs'].values, \n",
    "                    d['srs'].coords['pressure'].values,\n",
    "                    color=d['color'], alpha=.7)\n",
    "        p1.line(d['srs'].values, \n",
    "                d['srs'].coords['pressure'].values,\n",
    "                color=d['color'], alpha=d['alpha'], \n",
    "                line_width=d['line_width'], line_dash=d['line_dash'])\n",
    "    \n",
    "    p1.y_range = Range1d(ymax, ymin)\n",
    "    p1.yaxis.axis_label = 'pressure [mb]'   \n",
    "    p1.x_range = Range1d(xmin, xmax)\n",
    "    p1.xaxis.axis_label = 'cooling rate [K/day]'\n",
    "            \n",
    "    p2 = figure(title='Log pressure scale', y_axis_type='log',\n",
    "                plot_width=560)\n",
    "    xmin, xmax = nice_xlims(pltdata, prange=(.01, 200))\n",
    "    \n",
    "    rs = []\n",
    "    for d in pltdata:\n",
    "        rd = []\n",
    "        if 'marker' in d:\n",
    "            r_mark = getattr(p2, d['marker'])(d['srs'].values, \n",
    "                        d['srs'].coords['pressure'].values,\n",
    "                        color=d['color'], alpha=.7)\n",
    "            rd.append(r_mark)\n",
    "        r_line = p2.line(d['srs'].values, \n",
    "                    d['srs'].coords['pressure'].values,\n",
    "                    color=d['color'], alpha=d['alpha'], \n",
    "                    line_width=d['line_width'], line_dash=d['line_dash'])\n",
    "        rd.append(r_line)\n",
    "      \n",
    "        rs.append(rd)\n",
    "        \n",
    "    p2.y_range = Range1d(ymax, ymin)  \n",
    "    p2.yaxis.axis_label = 'pressure [mb]'\n",
    "    \n",
    "    p2.x_range = Range1d(xmin, xmax)\n",
    "    p2.xaxis.axis_label = 'cooling rate [K/day]'\n",
    "    \n",
    "    items = [(d['label'], r) for r, d in zip(rs, pltdata)]\n",
    "    legend = Legend(items=items, location=(10, -30))\n",
    "    legend.label_text_font_size = '8pt'\n",
    "    \n",
    "    p2.add_layout(legend, 'right')  \n",
    "    \n",
    "    show(gridplot(p1, p2, ncols=2, plot_height=500))\n",
    "    \n",
    "\n",
    "def script_plt_cooling():\n",
    "    pltdata = pltdata_cooling_1(\n",
    "        ds_cool=DS_COOL,\n",
    "        ds_cool_crd=DS_COOL_CRD,\n",
    "        ds_cool_wgt=DS_COOL_WGT)\n",
    "    plt_cooling_bokeh(pltdata=pltdata)\n",
    "    print('''FIGURE. Cooling rate profiles.''')"
   ]
  },
  {
   "cell_type": "code",
   "execution_count": 9,
   "metadata": {
    "collapsed": true
   },
   "outputs": [],
   "source": [
    "def fmt_flux(ds_in):\n",
    "    ds = ds_in.copy(deep=True)\n",
    "    \n",
    "    for l in ('level', 'layer'):\n",
    "        if l in ds.data_vars:\n",
    "            if len(ds[l].dims) > 1:\n",
    "                surface = {d: 0 for d in ds.dims if d != 'pressure'}\n",
    "                coord_level = ds[l][surface]\n",
    "                ds.coords[l] = ('pressure', coord_level)\n",
    "            else:\n",
    "                ds.coords[l] = ('pressure', ds[l])\n",
    "        \n",
    "    ds = ds.isel(pressure=[0, 23, -1])\n",
    "        \n",
    "    if 'igg' in ds.dims:\n",
    "        ds = ds.sel(igg=[1])\n",
    "        ds = ds.squeeze('igg').drop('igg')\n",
    "    \n",
    "    if 'g' in ds.dims:\n",
    "        ds = ds.sum('g')\n",
    "            \n",
    "    if 'band' in ds.dims:\n",
    "        try:\n",
    "            ds = ds.squeeze('band').drop('band')\n",
    "        except ValueError:\n",
    "            ds = ds.sum('band')\n",
    "                \n",
    "    df = ds.to_dataframe()\n",
    "    df = df.set_index('level', append=True)               \n",
    "    return df\n",
    "\n",
    "\n",
    "def tbdata_flux(ds_flux=None, ds_flux_crd=None, ds_flux_wgt=None):\n",
    "    ilevels = [0, 23, -1]\n",
    "            \n",
    "    benchmark = {'label': 'WGT igg=10 wgt_flux=1',\n",
    "                 'df': fmt_flux(ds_flux_wgt)}\n",
    "    \n",
    "    tbs = [{'label': 'CRD',\n",
    "            'df': fmt_flux(ds_flux_crd)},\n",
    "           {'label': 'CLIRAD',\n",
    "            'df': fmt_flux(ds_flux)}]\n",
    "    \n",
    "    data = {'benchmark': benchmark, 'others': tbs}\n",
    "    return data\n",
    "\n",
    "\n",
    "def tb_flux(tbdata=None):\n",
    "    benchmark = tbdata['benchmark']\n",
    "    others = tbdata['others']\n",
    "    \n",
    "    def show_tb(d=None):\n",
    "        display.display(d['df'])\n",
    "        print('Table.', 'Fluxes.', d['label'])\n",
    "        \n",
    "    def show_tbdiff(d0=None, d=None):\n",
    "        df = d['df']\n",
    "        df.index = d0['df'].index\n",
    "        display.display(df - d0['df'])\n",
    "        print('Table.', 'Fluxes.', \n",
    "              '({}) - ({})'.format(d['label'], d0['label']))\n",
    "        \n",
    "    show_tb(benchmark)\n",
    "    for d in others:\n",
    "        show_tb(d)\n",
    "        \n",
    "    for d in others:\n",
    "        show_tbdiff(d=d, d0=benchmark)\n",
    "        \n",
    "        \n",
    "def script_tb_flux():\n",
    "    data = tbdata_flux(ds_flux=DS_FLUX,\n",
    "                       ds_flux_crd=DS_FLUX_CRD,\n",
    "                       ds_flux_wgt=DS_FLUX_WGT)\n",
    "    tb_flux(tbdata=data)"
   ]
  },
  {
   "cell_type": "code",
   "execution_count": 10,
   "metadata": {
    "collapsed": true
   },
   "outputs": [],
   "source": [
    "def band_map():\n",
    "    '''\n",
    "    Maps spectral bands in lblnew to spectral bands in clirad.\n",
    "    '''\n",
    "    lblnew2clirad = {'1': '1',\n",
    "            '2': '2',\n",
    "            '3a': '3',\n",
    "            '3b': '4',\n",
    "            '3c': '5',\n",
    "            '4': '6', \n",
    "            '5': '7',\n",
    "            '6': '8',\n",
    "            '7': '9', \n",
    "            '8': '10',\n",
    "            '9': '11'}\n",
    "    \n",
    "    clirad2lblnew = {clirad: lblnew \n",
    "                     for lblnew, clirad in lblnew2clirad.items()}\n",
    "    return clirad2lblnew\n",
    "\n",
    "\n",
    "def gasbands():\n",
    "    bmap = band_map()\n",
    "    gases = list(PARAM['molecule'].keys())\n",
    "    \n",
    "    bands = [bmap[str(b)] for b in PARAM['band']]\n",
    "    return list(itertools.product(gases, bands))\n",
    "\n",
    "\n",
    "def print_bestfit_params():\n",
    "    print('Best-fit values for each (gas, band)')\n",
    "    print('------------------------------------')\n",
    "    for gas, band in gasbands():\n",
    "        print('o {} band{}'.format(gas, band))\n",
    "        param = bestfits.kdist_params(molecule=gas, band=band)\n",
    "        for name, value in param.items():\n",
    "            print(2 * ' ' + '{} = {}'.format(name, value))\n",
    "\n",
    "        \n",
    "def print_input_param():        \n",
    "    for name, value in PARAM.items():\n",
    "        print('{} = {}'.format(name, value))\n",
    "        \n",
    "        \n",
    "def print_lblnew_param():\n",
    "    for name, value in PARAM_LBLNEW.items():\n",
    "        print('{} = {}'.format(name, value))\n"
   ]
  },
  {
   "cell_type": "code",
   "execution_count": 11,
   "metadata": {
    "collapsed": true,
    "scrolled": false
   },
   "outputs": [],
   "source": [
    "def show_html(s):\n",
    "    display.display(display.HTML(s))\n",
    "\n",
    "    \n",
    "def show_markdown(s):\n",
    "    display.display(display.Markdown(s))\n",
    "\n",
    "    \n",
    "def script():\n",
    "    \n",
    "    title = '### CLIRAD-LW'\n",
    "    s_input = 'Input Parameters'\n",
    "    s_lblnew_param = 'LBLNEW case compaired against'\n",
    "    s_bestfits = 'Best-fit Parameters'\n",
    "    s_plt_cooling = 'Cooling Rate Profiles'\n",
    "    s_tb_flux = 'Flux Comparison'\n",
    "    \n",
    "    # title\n",
    "    show_markdown('### CLIRAD-LW')\n",
    "    \n",
    "    # TOC\n",
    "    show_markdown('### Table of Contents')\n",
    "    show_html(climahtml.getHTML_hrefanchor(s_input))\n",
    "    show_html(climahtml.getHTML_hrefanchor(s_lblnew_param))\n",
    "    show_html(climahtml.getHTML_hrefanchor(s_plt_cooling))\n",
    "    show_html(climahtml.getHTML_hrefanchor(s_tb_flux))\n",
    "    show_html(climahtml.getHTML_hrefanchor(s_bestfits))\n",
    "    \n",
    "    # Input parameters\n",
    "    show_html(climahtml.getHTML_idanchor(s_input))\n",
    "    show_markdown(climahtml.getMarkdown_sectitle(s_input))\n",
    "    print_input_param()\n",
    "    \n",
    "    # LBLNEW parameters \n",
    "    show_html(climahtml.getHTML_idanchor(s_lblnew_param))\n",
    "    show_markdown(climahtml.getMarkdown_sectitle(s_lblnew_param))\n",
    "    print_lblnew_param()\n",
    "    \n",
    "    # Cooling rate profiles\n",
    "    show_html(climahtml.getHTML_idanchor(s_plt_cooling))\n",
    "    show_markdown(climahtml.getMarkdown_sectitle(s_plt_cooling))\n",
    "    script_plt_cooling()\n",
    "    \n",
    "    # Flux comparison\n",
    "    show_html(climahtml.getHTML_idanchor(s_tb_flux))\n",
    "    show_markdown(climahtml.getMarkdown_sectitle(s_tb_flux))\n",
    "    script_tb_flux()\n",
    "    \n",
    "    # Best-fit values\n",
    "    show_html(climahtml.getHTML_idanchor(s_bestfits))\n",
    "    show_markdown(climahtml.getMarkdown_sectitle(s_bestfits))\n",
    "    print_bestfit_params()\n",
    "   \n",
    "    "
   ]
  },
  {
   "cell_type": "code",
   "execution_count": 12,
   "metadata": {
    "scrolled": false
   },
   "outputs": [
    {
     "data": {
      "text/markdown": [
       "### CLIRAD-LW"
      ],
      "text/plain": [
       "<IPython.core.display.Markdown object>"
      ]
     },
     "metadata": {},
     "output_type": "display_data"
    },
    {
     "data": {
      "text/markdown": [
       "### Table of Contents"
      ],
      "text/plain": [
       "<IPython.core.display.Markdown object>"
      ]
     },
     "metadata": {},
     "output_type": "display_data"
    },
    {
     "data": {
      "text/html": [
       "<a href=\"#Input_Parameters\">Input Parameters</a>"
      ],
      "text/plain": [
       "<IPython.core.display.HTML object>"
      ]
     },
     "metadata": {},
     "output_type": "display_data"
    },
    {
     "data": {
      "text/html": [
       "<a href=\"#LBLNEW_case_compaired_against\">LBLNEW case compaired against</a>"
      ],
      "text/plain": [
       "<IPython.core.display.HTML object>"
      ]
     },
     "metadata": {},
     "output_type": "display_data"
    },
    {
     "data": {
      "text/html": [
       "<a href=\"#Cooling_Rate_Profiles\">Cooling Rate Profiles</a>"
      ],
      "text/plain": [
       "<IPython.core.display.HTML object>"
      ]
     },
     "metadata": {},
     "output_type": "display_data"
    },
    {
     "data": {
      "text/html": [
       "<a href=\"#Flux_Comparison\">Flux Comparison</a>"
      ],
      "text/plain": [
       "<IPython.core.display.HTML object>"
      ]
     },
     "metadata": {},
     "output_type": "display_data"
    },
    {
     "data": {
      "text/html": [
       "<a href=\"#Best-fit_Parameters\">Best-fit Parameters</a>"
      ],
      "text/plain": [
       "<IPython.core.display.HTML object>"
      ]
     },
     "metadata": {},
     "output_type": "display_data"
    },
    {
     "data": {
      "text/html": [
       "<a id=\"Input_Parameters\"></a>"
      ],
      "text/plain": [
       "<IPython.core.display.HTML object>"
      ]
     },
     "metadata": {},
     "output_type": "display_data"
    },
    {
     "data": {
      "text/markdown": [
       "# Input Parameters"
      ],
      "text/plain": [
       "<IPython.core.display.Markdown object>"
      ]
     },
     "metadata": {},
     "output_type": "display_data"
    },
    {
     "name": "stdout",
     "output_type": "stream",
     "text": [
      "atmpro = mls\n",
      "band = [5]\n",
      "commitnumber = 7a7a0e1\n",
      "molecule = {'co2': 0.0004}\n",
      "tsfc = 294\n"
     ]
    },
    {
     "data": {
      "text/html": [
       "<a id=\"LBLNEW_case_compaired_against\"></a>"
      ],
      "text/plain": [
       "<IPython.core.display.HTML object>"
      ]
     },
     "metadata": {},
     "output_type": "display_data"
    },
    {
     "data": {
      "text/markdown": [
       "# LBLNEW case compaired against"
      ],
      "text/plain": [
       "<IPython.core.display.Markdown object>"
      ]
     },
     "metadata": {},
     "output_type": "display_data"
    },
    {
     "name": "stdout",
     "output_type": "stream",
     "text": [
      "molecule = co2\n",
      "band = 3c\n",
      "commitnumber = d62b618\n",
      "vmin = 720\n",
      "vmax = 800\n",
      "dv = 0.001\n",
      "nv = 1000\n",
      "ref_pts = [(1, 250), (10, 250), (500, 250)]\n",
      "ng_refs = [3, 2, 4]\n",
      "ng_adju = [0, 0, 0]\n",
      "klin = 6.375563e-24\n",
      "option_wgt_k = 1\n",
      "wgt = [(0.6, 0.4, 0.7), (0.7, 0.4), (0.3, 0.4, 0.85, 0.9)]\n",
      "w_diffuse = [(1.7, 1.6, 1.8), (1.8, 1.7), (1.5, 1.6, 1.7, 1.8)]\n",
      "option_wgt_flux = 1\n",
      "atmpro = mls\n",
      "tsfc = 294\n",
      "conc = 0.0004\n",
      "option_compute_btable = 0\n",
      "option_compute_ktable = 1\n"
     ]
    },
    {
     "data": {
      "text/html": [
       "<a id=\"Cooling_Rate_Profiles\"></a>"
      ],
      "text/plain": [
       "<IPython.core.display.HTML object>"
      ]
     },
     "metadata": {},
     "output_type": "display_data"
    },
    {
     "data": {
      "text/markdown": [
       "# Cooling Rate Profiles"
      ],
      "text/plain": [
       "<IPython.core.display.Markdown object>"
      ]
     },
     "metadata": {},
     "output_type": "display_data"
    },
    {
     "data": {
      "text/html": [
       "\n",
       "<div class=\"bk-root\">\n",
       "    <div class=\"bk-plotdiv\" id=\"f94deee8-d27c-449e-a4c4-34ee0c40c580\"></div>\n",
       "</div>"
      ]
     },
     "metadata": {},
     "output_type": "display_data"
    },
    {
     "data": {
      "application/javascript": [
       "(function(root) {\n",
       "  function embed_document(root) {\n",
       "    \n",
       "  var docs_json = {\"745e6fd2-cf7c-473c-b739-5429f59bda13\":{\"roots\":{\"references\":[{\"attributes\":{\"data_source\":{\"id\":\"88fdf89a-40c3-4fed-b926-ad783b807721\",\"type\":\"ColumnDataSource\"},\"glyph\":{\"id\":\"67b79726-a0fb-45ec-bdec-8465612b708d\",\"type\":\"Line\"},\"hover_glyph\":null,\"muted_glyph\":null,\"nonselection_glyph\":{\"id\":\"b0ece4c5-4bb4-4365-99d9-10aa04f639b6\",\"type\":\"Line\"},\"selection_glyph\":null,\"view\":{\"id\":\"9596e7df-2394-4957-9e31-e6f923d693ac\",\"type\":\"CDSView\"}},\"id\":\"f5a72ed6-518f-4f17-b617-d07073c5cc1c\",\"type\":\"GlyphRenderer\"},{\"attributes\":{},\"id\":\"b593890e-6b0b-4409-96ab-155cab3a166c\",\"type\":\"LogScale\"},{\"attributes\":{\"source\":{\"id\":\"c4a131ce-623e-42b2-bdf3-c5c69f703bf2\",\"type\":\"ColumnDataSource\"}},\"id\":\"70a6781f-9446-4058-89ce-afe2844f7f75\",\"type\":\"CDSView\"},{\"attributes\":{\"fill_alpha\":{\"value\":0.7},\"fill_color\":{\"value\":\"#4daf4a\"},\"line_alpha\":{\"value\":0.7},\"line_color\":{\"value\":\"#4daf4a\"},\"x\":{\"field\":\"x\"},\"y\":{\"field\":\"y\"}},\"id\":\"ae4a3ccb-9232-4279-bd0a-559aababcc26\",\"type\":\"Circle\"},{\"attributes\":{\"dimension\":1,\"plot\":{\"id\":\"7ef4a50c-ad00-4eed-8834-f03e1b58ea47\",\"subtype\":\"Figure\",\"type\":\"Plot\"},\"ticker\":{\"id\":\"84ff5c5e-adc6-457e-8172-182230736f6f\",\"type\":\"LogTicker\"}},\"id\":\"2c545258-f571-4a7e-8d0e-74b2f0121a69\",\"type\":\"Grid\"},{\"attributes\":{\"fill_alpha\":{\"value\":0.1},\"fill_color\":{\"value\":\"#1f77b4\"},\"line_alpha\":{\"value\":0.1},\"line_color\":{\"value\":\"#1f77b4\"},\"x\":{\"field\":\"x\"},\"y\":{\"field\":\"y\"}},\"id\":\"3e0945cc-1c2f-4c9e-931a-0da9dfc39a7f\",\"type\":\"Circle\"},{\"attributes\":{\"callback\":null,\"column_names\":[\"x\",\"y\"],\"data\":{\"x\":{\"__ndarray__\":\"IPBd1gZf0D81Ymafx2jQP6H/N1kX9dA/RX+qApx70T9W7BYeh8PRPwDp1d+WONI/GL0qgsVC0j+0EboRNyPSP3ni3qHNltE/rFAHJvWt0D8dR2I4jaPOP6jhvoLyxso/Q+heL2auxT+nFCruLga+P9WCVuFIALQ/5G2OO/ERuD9M4/ZPYM/CP9aSCjqMj8g/XmaWDBnyzD+hoRxY0OzQPzjSvl4GiNQ/HcibeN542z+gy4qXXSbiP0DKPn4lpuE/OCmz3vvd2j9MxaWupVXUP3CrxUxHJc8/sgD5VEYKyD+nn8O+ldPCPzWlzDjTpb0/KI/6LTJotj86KIluu6WvP6tBIc0b0aY/RfUdluK3oT8pwiV+xxuZP1Arh0FZK4w/a90xNTzPfT+GZUlHFPZvP+U4rLt9h2e/W9j+jttBhr8Bnlm35jOFv/r5NI9UTku/2W+MrfdFgD+nSt2TXAWQP52Kvvz6k5c/+YJqEb7onj8f01m0oPqiP5i9fh4pdqY/qQ7BirbXqT/5YwSbDQ6tP6rcZzzhCrA/pnAHYaNpsT9HmHQkL5yyP6FhhenoqbM/TPa775metD/IDOziSn61P2GidPtCTrY/EBDTi8gatz9WropMzdm3P7jk1Khpkrg/EGx2U7NPuT/50l/YLxK6PySN+rnb1Lo/OGGpy7Wquz8OOUsDHpy8P7JqjK3So70/dNNmnIaovj8XOCxPGHu/P8cBJjZA5b8/6fr0jgnnvz8yLsm/nsi/P++/OjNmt78/y8TGH7nzvz/N3fgkwWXAPyCT78ZApsE/\",\"dtype\":\"float64\",\"shape\":[75]},\"y\":{\"__ndarray__\":\"GhExyth1ND/Sv8nbtpRIP2vylNV0PVE/aTum7souWD/At0SJ8fVgPw3Iuahxymc/MSNhhJWvcD/bTfBN02d3P2zb5nxnaoA/CD5h5MAGhz8NmeH1TyaQP+zrCsc9p5Y/LbKd76fGnz/bLW5ISEmmPww9YvTcQq8/JV2OstnstT8Er5Y7M8G+P0c+r3jqkcU/5h99k6ZBzj88bCIzFzjVP4enV8oyxN0//yH99nXg5D8qOpLLf0jtP5kqGJXUifQ/c9cS8kHP/D+/DpwzojQEQIEmwoanVwxA4lgXt9HgE0BSSZ2AJuIbQAMJih9jjiNA5q4l5INuK0AwTKYKRj0zQNv5fmq8/DpAaCJseHrtQkB/+zpwzoxKQM3MzMzMeFJAZmZmZmZqWEAAAAAAAFxeQM3MzMzMJmJAmpmZmZkfZUBmZmZmZhhoQDMzMzMzEWtAAAAAAAAKbkBmZmZmZoFwQM3MzMzM/XFAMzMzMzN6c0CamZmZmfZ0QAAAAAAAc3ZAZmZmZmbvd0DNzMzMzGt5QDMzMzMz6HpAmpmZmZlkfEAAAAAAAOF9QGZmZmZmXX9AZmZmZuZsgECamZmZGSuBQM3MzMxM6YFAAAAAAICngkAzMzMzs2WDQGZmZmbmI4RAmpmZmRnihEDNzMzMTKCFQAAAAACAXoZAMzMzM7Mch0BmZmZm5tqHQJqZmZkZmYhAzczMzExXiUAAAAAAgBWKQDMzMzOz04pAZmZmZuaRi0CamZmZGVCMQM3MzMxMDo1AAAAAAIDMjUAzMzMzs4qOQGZmZmbmSI9A\",\"dtype\":\"float64\",\"shape\":[75]}}},\"id\":\"bcea8500-c65c-44cd-b00d-313db622aa19\",\"type\":\"ColumnDataSource\"},{\"attributes\":{\"data_source\":{\"id\":\"b0150212-4a27-4927-a2db-6ced8e1f8097\",\"type\":\"ColumnDataSource\"},\"glyph\":{\"id\":\"ae4a3ccb-9232-4279-bd0a-559aababcc26\",\"type\":\"Circle\"},\"hover_glyph\":null,\"muted_glyph\":null,\"nonselection_glyph\":{\"id\":\"3e0945cc-1c2f-4c9e-931a-0da9dfc39a7f\",\"type\":\"Circle\"},\"selection_glyph\":null,\"view\":{\"id\":\"a1924ed9-3865-4784-805d-92ac6067f13a\",\"type\":\"CDSView\"}},\"id\":\"99a890fd-a9c0-4a3b-a80f-d5817d8c3bbf\",\"type\":\"GlyphRenderer\"},{\"attributes\":{\"below\":[{\"id\":\"536db50f-f9a9-434e-8eca-0d0501ffe723\",\"type\":\"LinearAxis\"}],\"left\":[{\"id\":\"f7168fbb-f98b-4e3e-b73b-c74ad840bb5f\",\"type\":\"LinearAxis\"}],\"plot_height\":500,\"plot_width\":400,\"renderers\":[{\"id\":\"536db50f-f9a9-434e-8eca-0d0501ffe723\",\"type\":\"LinearAxis\"},{\"id\":\"931a7ce4-f8c2-4983-80b7-4a0ea0767ee1\",\"type\":\"Grid\"},{\"id\":\"f7168fbb-f98b-4e3e-b73b-c74ad840bb5f\",\"type\":\"LinearAxis\"},{\"id\":\"682cb62c-5ad8-466d-9e36-1eefcfae463f\",\"type\":\"Grid\"},{\"id\":\"d2f707d8-5dfa-4e9a-948e-9cf1dfe14f50\",\"type\":\"BoxAnnotation\"},{\"id\":\"71580613-cafe-4342-945c-ef13d1cff9cf\",\"type\":\"GlyphRenderer\"},{\"id\":\"99151221-1204-4cfb-b18b-e0d92a0d5de6\",\"type\":\"GlyphRenderer\"},{\"id\":\"f5a72ed6-518f-4f17-b617-d07073c5cc1c\",\"type\":\"GlyphRenderer\"},{\"id\":\"a58aed7e-87d6-4370-9a77-e4c45c12a34e\",\"type\":\"GlyphRenderer\"},{\"id\":\"5110377a-e0b0-4eec-8513-10651be8326f\",\"type\":\"GlyphRenderer\"}],\"title\":{\"id\":\"48504433-aeda-465e-8fa7-9daa5b5f01f9\",\"type\":\"Title\"},\"toolbar\":{\"id\":\"981885aa-7bf6-4b50-b71a-dfa933b60def\",\"type\":\"Toolbar\"},\"toolbar_location\":null,\"x_range\":{\"id\":\"4d97c948-6922-4039-b0a7-a7e931fc0e5c\",\"type\":\"Range1d\"},\"x_scale\":{\"id\":\"c5c9cc0e-39b2-477a-ac5f-d63bf860944d\",\"type\":\"LinearScale\"},\"y_range\":{\"id\":\"c12a0242-3cd3-44f8-8bfb-74b2d6322f6d\",\"type\":\"Range1d\"},\"y_scale\":{\"id\":\"1edf5822-982b-4450-ac6b-8a31dd4f36cb\",\"type\":\"LinearScale\"}},\"id\":\"e97a6523-4927-4fea-9868-e06ea76bf9e4\",\"subtype\":\"Figure\",\"type\":\"Plot\"},{\"attributes\":{\"callback\":null,\"column_names\":[\"x\",\"y\"],\"data\":{\"x\":{\"__ndarray__\":\"nqCvxHOdwz8WlBXaJe/DP1U4u3tCIMU/+2YTtOhUxj/zaNhymmPHPyBIOUWZN8g/6kdiTNO3yD/7UoyBQRXJP/mzGOR2Uck/SGJ71DzwyD+cWmnH0XrHPyYiR+IEaMU/BY8lmGM0wj/ZWAfUG926PzgDxRZ0LLM/bF7J/+zeuD/oiTqJEdjEP+dpE69hz8o/ZA3berTezj/xQ36apGDQP/kAvfAWsdI/g7C/8JF92T8lnY5yenfhPyLRH3FDYOE/fSzEinwI2z95MY8C/4PUP+7cKSCmBdA/2x8P6ovEyT857kZcvunEP1WSx708RcE/+0c9SCfFtz98LsrKywewPzKDdtmswaU/LO8BLsOYnz8CIp7u5jOYP30cY5o5Y48/bO2sbzpygz98VuxxlLl0Pw2nOUe/52a/92XXNaj8hr8OW/yB20KLv0hJfx9e/my//ZSFjRj1dj8moB1LOESKP6InPuz7oJQ/Qy6WgfxWnj9zS8lLsZigPwxwtcwNnKM/QJTLZUo3pz8bo5RSZOqpP3JFw1P8pqw/70krcDpQrz8TVmU6mtmwP7XpCZb0CbI/GaIlDj0Nsz8NvjGsrCO0P9fBQ9/BCLU/xyNOaN0Utj/tmLTmGBq3P6g+pkfc/rc/+z21miMGuT/1Bctq/da5P+BUXiQV4bo/8okLohzruz8Q9epgNPe+P8uqoxy98r8/qxliOWgewD/eGX0U/GLAP81ZMySMesA/27+yC9l+wD+L+Dx1nmvAPzWx4Ew5WcA/wZZYTriMwD96s3WYBgrBP+t/pTu5Q8I/\",\"dtype\":\"float64\",\"shape\":[75]},\"y\":{\"__ndarray__\":\"GhExyth1ND/Sv8nbtpRIP2vylNV0PVE/aTum7souWD/At0SJ8fVgPw3Iuahxymc/MSNhhJWvcD/bTfBN02d3P2zb5nxnaoA/CD5h5MAGhz8NmeH1TyaQP+zrCsc9p5Y/LbKd76fGnz/bLW5ISEmmPww9YvTcQq8/JV2OstnstT8Er5Y7M8G+P0c+r3jqkcU/5h99k6ZBzj88bCIzFzjVP4enV8oyxN0//yH99nXg5D8qOpLLf0jtP5kqGJXUifQ/c9cS8kHP/D+/DpwzojQEQIEmwoanVwxA4lgXt9HgE0BSSZ2AJuIbQAMJih9jjiNA5q4l5INuK0AwTKYKRj0zQNv5fmq8/DpAaCJseHrtQkB/+zpwzoxKQM3MzMzMeFJAZmZmZmZqWEAAAAAAAFxeQM3MzMzMJmJAmpmZmZkfZUBmZmZmZhhoQDMzMzMzEWtAAAAAAAAKbkBmZmZmZoFwQM3MzMzM/XFAMzMzMzN6c0CamZmZmfZ0QAAAAAAAc3ZAZmZmZmbvd0DNzMzMzGt5QDMzMzMz6HpAmpmZmZlkfEAAAAAAAOF9QGZmZmZmXX9AZmZmZuZsgECamZmZGSuBQM3MzMxM6YFAAAAAAICngkAzMzMzs2WDQGZmZmbmI4RAmpmZmRnihEDNzMzMTKCFQAAAAACAXoZAMzMzM7Mch0BmZmZm5tqHQJqZmZkZmYhAzczMzExXiUAAAAAAgBWKQDMzMzOz04pAZmZmZuaRi0CamZmZGVCMQM3MzMxMDo1AAAAAAIDMjUAzMzMzs4qOQGZmZmbmSI9A\",\"dtype\":\"float64\",\"shape\":[75]}}},\"id\":\"da05e4c1-a747-41de-8b2f-4d5c3daeafb9\",\"type\":\"ColumnDataSource\"},{\"attributes\":{\"source\":{\"id\":\"482ce0f5-7087-4aed-8bf4-a938dcf4e409\",\"type\":\"ColumnDataSource\"}},\"id\":\"613a7f66-c659-42bd-899b-8aaa36071818\",\"type\":\"CDSView\"},{\"attributes\":{\"ticker\":null},\"id\":\"e1f68786-3ef3-4c94-821b-6f677474bd85\",\"type\":\"LogTickFormatter\"},{\"attributes\":{\"callback\":null,\"end\":0.01,\"start\":1020},\"id\":\"c12a0242-3cd3-44f8-8bfb-74b2d6322f6d\",\"type\":\"Range1d\"},{\"attributes\":{\"line_alpha\":0.6,\"line_color\":\"#984ea3\",\"line_width\":3,\"x\":{\"field\":\"x\"},\"y\":{\"field\":\"y\"}},\"id\":\"e8b3d53c-74c1-4710-a66a-876d4ce0b84e\",\"type\":\"Line\"},{\"attributes\":{\"callback\":null,\"column_names\":[\"x\",\"y\"],\"data\":{\"x\":{\"__ndarray__\":\"IPBd1gZf0D81Ymafx2jQP6H/N1kX9dA/RX+qApx70T9W7BYeh8PRPwDp1d+WONI/GL0qgsVC0j+0EboRNyPSP3ni3qHNltE/rFAHJvWt0D8dR2I4jaPOP6jhvoLyxso/Q+heL2auxT+nFCruLga+P9WCVuFIALQ/5G2OO/ERuD9M4/ZPYM/CP9aSCjqMj8g/XmaWDBnyzD+hoRxY0OzQPzjSvl4GiNQ/HcibeN542z+gy4qXXSbiP0DKPn4lpuE/OCmz3vvd2j9MxaWupVXUP3CrxUxHJc8/sgD5VEYKyD+nn8O+ldPCPzWlzDjTpb0/KI/6LTJotj86KIluu6WvP6tBIc0b0aY/RfUdluK3oT8pwiV+xxuZP1Arh0FZK4w/a90xNTzPfT+GZUlHFPZvP+U4rLt9h2e/W9j+jttBhr8Bnlm35jOFv/r5NI9UTku/2W+MrfdFgD+nSt2TXAWQP52Kvvz6k5c/+YJqEb7onj8f01m0oPqiP5i9fh4pdqY/qQ7BirbXqT/5YwSbDQ6tP6rcZzzhCrA/pnAHYaNpsT9HmHQkL5yyP6FhhenoqbM/TPa775metD/IDOziSn61P2GidPtCTrY/EBDTi8gatz9WropMzdm3P7jk1Khpkrg/EGx2U7NPuT/50l/YLxK6PySN+rnb1Lo/OGGpy7Wquz8OOUsDHpy8P7JqjK3So70/dNNmnIaovj8XOCxPGHu/P8cBJjZA5b8/6fr0jgnnvz8yLsm/nsi/P++/OjNmt78/y8TGH7nzvz/N3fgkwWXAPyCT78ZApsE/\",\"dtype\":\"float64\",\"shape\":[75]},\"y\":{\"__ndarray__\":\"GhExyth1ND/Sv8nbtpRIP2vylNV0PVE/aTum7souWD/At0SJ8fVgPw3Iuahxymc/MSNhhJWvcD/bTfBN02d3P2zb5nxnaoA/CD5h5MAGhz8NmeH1TyaQP+zrCsc9p5Y/LbKd76fGnz/bLW5ISEmmPww9YvTcQq8/JV2OstnstT8Er5Y7M8G+P0c+r3jqkcU/5h99k6ZBzj88bCIzFzjVP4enV8oyxN0//yH99nXg5D8qOpLLf0jtP5kqGJXUifQ/c9cS8kHP/D+/DpwzojQEQIEmwoanVwxA4lgXt9HgE0BSSZ2AJuIbQAMJih9jjiNA5q4l5INuK0AwTKYKRj0zQNv5fmq8/DpAaCJseHrtQkB/+zpwzoxKQM3MzMzMeFJAZmZmZmZqWEAAAAAAAFxeQM3MzMzMJmJAmpmZmZkfZUBmZmZmZhhoQDMzMzMzEWtAAAAAAAAKbkBmZmZmZoFwQM3MzMzM/XFAMzMzMzN6c0CamZmZmfZ0QAAAAAAAc3ZAZmZmZmbvd0DNzMzMzGt5QDMzMzMz6HpAmpmZmZlkfEAAAAAAAOF9QGZmZmZmXX9AZmZmZuZsgECamZmZGSuBQM3MzMxM6YFAAAAAAICngkAzMzMzs2WDQGZmZmbmI4RAmpmZmRnihEDNzMzMTKCFQAAAAACAXoZAMzMzM7Mch0BmZmZm5tqHQJqZmZkZmYhAzczMzExXiUAAAAAAgBWKQDMzMzOz04pAZmZmZuaRi0CamZmZGVCMQM3MzMxMDo1AAAAAAIDMjUAzMzMzs4qOQGZmZmbmSI9A\",\"dtype\":\"float64\",\"shape\":[75]}}},\"id\":\"b0150212-4a27-4927-a2db-6ced8e1f8097\",\"type\":\"ColumnDataSource\"},{\"attributes\":{\"data_source\":{\"id\":\"c4a131ce-623e-42b2-bdf3-c5c69f703bf2\",\"type\":\"ColumnDataSource\"},\"glyph\":{\"id\":\"2e1bc831-a17c-4dc6-87ee-3c5dd5b4d3c1\",\"type\":\"Line\"},\"hover_glyph\":null,\"muted_glyph\":null,\"nonselection_glyph\":{\"id\":\"5aaa776e-6a80-44dc-99c7-810b77f5fefb\",\"type\":\"Line\"},\"selection_glyph\":null,\"view\":{\"id\":\"70a6781f-9446-4058-89ce-afe2844f7f75\",\"type\":\"CDSView\"}},\"id\":\"71580613-cafe-4342-945c-ef13d1cff9cf\",\"type\":\"GlyphRenderer\"},{\"attributes\":{\"source\":{\"id\":\"88fdf89a-40c3-4fed-b926-ad783b807721\",\"type\":\"ColumnDataSource\"}},\"id\":\"9596e7df-2394-4957-9e31-e6f923d693ac\",\"type\":\"CDSView\"},{\"attributes\":{\"callback\":null,\"column_names\":[\"x\",\"y\"],\"data\":{\"x\":{\"__ndarray__\":\"nqCvxHOdwz8WlBXaJe/DP1U4u3tCIMU/+2YTtOhUxj/zaNhymmPHPyBIOUWZN8g/6kdiTNO3yD/7UoyBQRXJP/mzGOR2Uck/SGJ71DzwyD+cWmnH0XrHPyYiR+IEaMU/BY8lmGM0wj/ZWAfUG926PzgDxRZ0LLM/bF7J/+zeuD/oiTqJEdjEP+dpE69hz8o/ZA3berTezj/xQ36apGDQP/kAvfAWsdI/g7C/8JF92T8lnY5yenfhPyLRH3FDYOE/fSzEinwI2z95MY8C/4PUP+7cKSCmBdA/2x8P6ovEyT857kZcvunEP1WSx708RcE/+0c9SCfFtz98LsrKywewPzKDdtmswaU/LO8BLsOYnz8CIp7u5jOYP30cY5o5Y48/bO2sbzpygz98VuxxlLl0Pw2nOUe/52a/92XXNaj8hr8OW/yB20KLv0hJfx9e/my//ZSFjRj1dj8moB1LOESKP6InPuz7oJQ/Qy6WgfxWnj9zS8lLsZigPwxwtcwNnKM/QJTLZUo3pz8bo5RSZOqpP3JFw1P8pqw/70krcDpQrz8TVmU6mtmwP7XpCZb0CbI/GaIlDj0Nsz8NvjGsrCO0P9fBQ9/BCLU/xyNOaN0Utj/tmLTmGBq3P6g+pkfc/rc/+z21miMGuT/1Bctq/da5P+BUXiQV4bo/8okLohzruz8Q9epgNPe+P8uqoxy98r8/qxliOWgewD/eGX0U/GLAP81ZMySMesA/27+yC9l+wD+L+Dx1nmvAPzWx4Ew5WcA/wZZYTriMwD96s3WYBgrBP+t/pTu5Q8I/\",\"dtype\":\"float64\",\"shape\":[75]},\"y\":{\"__ndarray__\":\"GhExyth1ND/Sv8nbtpRIP2vylNV0PVE/aTum7souWD/At0SJ8fVgPw3Iuahxymc/MSNhhJWvcD/bTfBN02d3P2zb5nxnaoA/CD5h5MAGhz8NmeH1TyaQP+zrCsc9p5Y/LbKd76fGnz/bLW5ISEmmPww9YvTcQq8/JV2OstnstT8Er5Y7M8G+P0c+r3jqkcU/5h99k6ZBzj88bCIzFzjVP4enV8oyxN0//yH99nXg5D8qOpLLf0jtP5kqGJXUifQ/c9cS8kHP/D+/DpwzojQEQIEmwoanVwxA4lgXt9HgE0BSSZ2AJuIbQAMJih9jjiNA5q4l5INuK0AwTKYKRj0zQNv5fmq8/DpAaCJseHrtQkB/+zpwzoxKQM3MzMzMeFJAZmZmZmZqWEAAAAAAAFxeQM3MzMzMJmJAmpmZmZkfZUBmZmZmZhhoQDMzMzMzEWtAAAAAAAAKbkBmZmZmZoFwQM3MzMzM/XFAMzMzMzN6c0CamZmZmfZ0QAAAAAAAc3ZAZmZmZmbvd0DNzMzMzGt5QDMzMzMz6HpAmpmZmZlkfEAAAAAAAOF9QGZmZmZmXX9AZmZmZuZsgECamZmZGSuBQM3MzMxM6YFAAAAAAICngkAzMzMzs2WDQGZmZmbmI4RAmpmZmRnihEDNzMzMTKCFQAAAAACAXoZAMzMzM7Mch0BmZmZm5tqHQJqZmZkZmYhAzczMzExXiUAAAAAAgBWKQDMzMzOz04pAZmZmZuaRi0CamZmZGVCMQM3MzMxMDo1AAAAAAIDMjUAzMzMzs4qOQGZmZmbmSI9A\",\"dtype\":\"float64\",\"shape\":[75]}}},\"id\":\"33ad07a5-b30b-4679-a0af-d015b564a3bd\",\"type\":\"ColumnDataSource\"},{\"attributes\":{\"callback\":null,\"column_names\":[\"x\",\"y\"],\"data\":{\"x\":{\"__ndarray__\":\"nqCvxHOdwz8WlBXaJe/DP1U4u3tCIMU/+2YTtOhUxj/zaNhymmPHPyBIOUWZN8g/6kdiTNO3yD/7UoyBQRXJP/mzGOR2Uck/SGJ71DzwyD+cWmnH0XrHPyYiR+IEaMU/BY8lmGM0wj/ZWAfUG926PzgDxRZ0LLM/bF7J/+zeuD/oiTqJEdjEP+dpE69hz8o/ZA3berTezj/xQ36apGDQP/kAvfAWsdI/g7C/8JF92T8lnY5yenfhPyLRH3FDYOE/fSzEinwI2z95MY8C/4PUP+7cKSCmBdA/2x8P6ovEyT857kZcvunEP1WSx708RcE/+0c9SCfFtz98LsrKywewPzKDdtmswaU/LO8BLsOYnz8CIp7u5jOYP30cY5o5Y48/bO2sbzpygz98VuxxlLl0Pw2nOUe/52a/92XXNaj8hr8OW/yB20KLv0hJfx9e/my//ZSFjRj1dj8moB1LOESKP6InPuz7oJQ/Qy6WgfxWnj9zS8lLsZigPwxwtcwNnKM/QJTLZUo3pz8bo5RSZOqpP3JFw1P8pqw/70krcDpQrz8TVmU6mtmwP7XpCZb0CbI/GaIlDj0Nsz8NvjGsrCO0P9fBQ9/BCLU/xyNOaN0Utj/tmLTmGBq3P6g+pkfc/rc/+z21miMGuT/1Bctq/da5P+BUXiQV4bo/8okLohzruz8Q9epgNPe+P8uqoxy98r8/qxliOWgewD/eGX0U/GLAP81ZMySMesA/27+yC9l+wD+L+Dx1nmvAPzWx4Ew5WcA/wZZYTriMwD96s3WYBgrBP+t/pTu5Q8I/\",\"dtype\":\"float64\",\"shape\":[75]},\"y\":{\"__ndarray__\":\"GhExyth1ND/Sv8nbtpRIP2vylNV0PVE/aTum7souWD/At0SJ8fVgPw3Iuahxymc/MSNhhJWvcD/bTfBN02d3P2zb5nxnaoA/CD5h5MAGhz8NmeH1TyaQP+zrCsc9p5Y/LbKd76fGnz/bLW5ISEmmPww9YvTcQq8/JV2OstnstT8Er5Y7M8G+P0c+r3jqkcU/5h99k6ZBzj88bCIzFzjVP4enV8oyxN0//yH99nXg5D8qOpLLf0jtP5kqGJXUifQ/c9cS8kHP/D+/DpwzojQEQIEmwoanVwxA4lgXt9HgE0BSSZ2AJuIbQAMJih9jjiNA5q4l5INuK0AwTKYKRj0zQNv5fmq8/DpAaCJseHrtQkB/+zpwzoxKQM3MzMzMeFJAZmZmZmZqWEAAAAAAAFxeQM3MzMzMJmJAmpmZmZkfZUBmZmZmZhhoQDMzMzMzEWtAAAAAAAAKbkBmZmZmZoFwQM3MzMzM/XFAMzMzMzN6c0CamZmZmfZ0QAAAAAAAc3ZAZmZmZmbvd0DNzMzMzGt5QDMzMzMz6HpAmpmZmZlkfEAAAAAAAOF9QGZmZmZmXX9AZmZmZuZsgECamZmZGSuBQM3MzMxM6YFAAAAAAICngkAzMzMzs2WDQGZmZmbmI4RAmpmZmRnihEDNzMzMTKCFQAAAAACAXoZAMzMzM7Mch0BmZmZm5tqHQJqZmZkZmYhAzczMzExXiUAAAAAAgBWKQDMzMzOz04pAZmZmZuaRi0CamZmZGVCMQM3MzMxMDo1AAAAAAIDMjUAzMzMzs4qOQGZmZmbmSI9A\",\"dtype\":\"float64\",\"shape\":[75]}}},\"id\":\"7446c308-64fd-43dd-b102-ab0c5b00bcb4\",\"type\":\"ColumnDataSource\"},{\"attributes\":{\"source\":{\"id\":\"b0150212-4a27-4927-a2db-6ced8e1f8097\",\"type\":\"ColumnDataSource\"}},\"id\":\"a1924ed9-3865-4784-805d-92ac6067f13a\",\"type\":\"CDSView\"},{\"attributes\":{\"line_color\":\"#4daf4a\",\"line_width\":1.5,\"x\":{\"field\":\"x\"},\"y\":{\"field\":\"y\"}},\"id\":\"d9fb1bd7-0e42-47fa-a5e9-8f623e7ac834\",\"type\":\"Line\"},{\"attributes\":{\"fill_alpha\":{\"value\":0.1},\"fill_color\":{\"value\":\"#1f77b4\"},\"line_alpha\":{\"value\":0.1},\"line_color\":{\"value\":\"#1f77b4\"},\"x\":{\"field\":\"x\"},\"y\":{\"field\":\"y\"}},\"id\":\"6559bc07-9a34-4e25-8166-66d01a403bbf\",\"type\":\"Square\"},{\"attributes\":{\"data_source\":{\"id\":\"bcea8500-c65c-44cd-b00d-313db622aa19\",\"type\":\"ColumnDataSource\"},\"glyph\":{\"id\":\"d9fb1bd7-0e42-47fa-a5e9-8f623e7ac834\",\"type\":\"Line\"},\"hover_glyph\":null,\"muted_glyph\":null,\"nonselection_glyph\":{\"id\":\"f10c5f0f-53c4-4f6c-b16b-6aacdc579aac\",\"type\":\"Line\"},\"selection_glyph\":null,\"view\":{\"id\":\"7e18b8ab-69dc-47a8-8b12-9d4fc25471a3\",\"type\":\"CDSView\"}},\"id\":\"148df0bb-c3b6-4fc4-89b7-86d593f6d7dd\",\"type\":\"GlyphRenderer\"},{\"attributes\":{},\"id\":\"126299dc-2aaf-4e20-a575-b0193b533e5d\",\"type\":\"BasicTickFormatter\"},{\"attributes\":{\"line_alpha\":0.1,\"line_color\":\"#1f77b4\",\"line_width\":1.5,\"x\":{\"field\":\"x\"},\"y\":{\"field\":\"y\"}},\"id\":\"f10c5f0f-53c4-4f6c-b16b-6aacdc579aac\",\"type\":\"Line\"},{\"attributes\":{\"active_drag\":\"auto\",\"active_inspect\":\"auto\",\"active_scroll\":\"auto\",\"active_tap\":\"auto\",\"tools\":[{\"id\":\"d56fca08-3229-4834-aaa1-76cc11d4fa84\",\"type\":\"PanTool\"},{\"id\":\"530ff84b-99c0-4194-ae94-de9c91a09d19\",\"type\":\"WheelZoomTool\"},{\"id\":\"c2212b96-a687-45ad-9800-5c5b25a796bb\",\"type\":\"BoxZoomTool\"},{\"id\":\"957177a8-0bf1-4951-98b6-ede12edd40b8\",\"type\":\"SaveTool\"},{\"id\":\"34ee4589-544d-4830-8901-1de6558b5f93\",\"type\":\"ResetTool\"},{\"id\":\"4698cf70-3204-42d8-8b81-b243c5534870\",\"type\":\"HelpTool\"}]},\"id\":\"a8d80720-1804-4d86-a380-96ccc152e522\",\"type\":\"Toolbar\"},{\"attributes\":{\"source\":{\"id\":\"bcea8500-c65c-44cd-b00d-313db622aa19\",\"type\":\"ColumnDataSource\"}},\"id\":\"7e18b8ab-69dc-47a8-8b12-9d4fc25471a3\",\"type\":\"CDSView\"},{\"attributes\":{\"fill_alpha\":{\"value\":0.7},\"fill_color\":{\"value\":\"#984ea3\"},\"line_alpha\":{\"value\":0.7},\"line_color\":{\"value\":\"#984ea3\"},\"x\":{\"field\":\"x\"},\"y\":{\"field\":\"y\"}},\"id\":\"ae2c6226-94c0-48b6-b7c5-ca9c5fbfa399\",\"type\":\"Square\"},{\"attributes\":{\"data_source\":{\"id\":\"7446c308-64fd-43dd-b102-ab0c5b00bcb4\",\"type\":\"ColumnDataSource\"},\"glyph\":{\"id\":\"ae2c6226-94c0-48b6-b7c5-ca9c5fbfa399\",\"type\":\"Square\"},\"hover_glyph\":null,\"muted_glyph\":null,\"nonselection_glyph\":{\"id\":\"6559bc07-9a34-4e25-8166-66d01a403bbf\",\"type\":\"Square\"},\"selection_glyph\":null,\"view\":{\"id\":\"44351e15-d48c-4a51-9578-abf6ec2af26b\",\"type\":\"CDSView\"}},\"id\":\"997abd78-abd7-44f7-8fa4-1dc534f51227\",\"type\":\"GlyphRenderer\"},{\"attributes\":{\"callback\":null,\"column_names\":[\"x\",\"y\"],\"data\":{\"x\":{\"__ndarray__\":\"IPBd1gZf0D81Ymafx2jQP6H/N1kX9dA/RX+qApx70T9W7BYeh8PRPwDp1d+WONI/GL0qgsVC0j+0EboRNyPSP3ni3qHNltE/rFAHJvWt0D8dR2I4jaPOP6jhvoLyxso/Q+heL2auxT+nFCruLga+P9WCVuFIALQ/5G2OO/ERuD9M4/ZPYM/CP9aSCjqMj8g/XmaWDBnyzD+hoRxY0OzQPzjSvl4GiNQ/HcibeN542z+gy4qXXSbiP0DKPn4lpuE/OCmz3vvd2j9MxaWupVXUP3CrxUxHJc8/sgD5VEYKyD+nn8O+ldPCPzWlzDjTpb0/KI/6LTJotj86KIluu6WvP6tBIc0b0aY/RfUdluK3oT8pwiV+xxuZP1Arh0FZK4w/a90xNTzPfT+GZUlHFPZvP+U4rLt9h2e/W9j+jttBhr8Bnlm35jOFv/r5NI9UTku/2W+MrfdFgD+nSt2TXAWQP52Kvvz6k5c/+YJqEb7onj8f01m0oPqiP5i9fh4pdqY/qQ7BirbXqT/5YwSbDQ6tP6rcZzzhCrA/pnAHYaNpsT9HmHQkL5yyP6FhhenoqbM/TPa775metD/IDOziSn61P2GidPtCTrY/EBDTi8gatz9WropMzdm3P7jk1Khpkrg/EGx2U7NPuT/50l/YLxK6PySN+rnb1Lo/OGGpy7Wquz8OOUsDHpy8P7JqjK3So70/dNNmnIaovj8XOCxPGHu/P8cBJjZA5b8/6fr0jgnnvz8yLsm/nsi/P++/OjNmt78/y8TGH7nzvz/N3fgkwWXAPyCT78ZApsE/\",\"dtype\":\"float64\",\"shape\":[75]},\"y\":{\"__ndarray__\":\"GhExyth1ND/Sv8nbtpRIP2vylNV0PVE/aTum7souWD/At0SJ8fVgPw3Iuahxymc/MSNhhJWvcD/bTfBN02d3P2zb5nxnaoA/CD5h5MAGhz8NmeH1TyaQP+zrCsc9p5Y/LbKd76fGnz/bLW5ISEmmPww9YvTcQq8/JV2OstnstT8Er5Y7M8G+P0c+r3jqkcU/5h99k6ZBzj88bCIzFzjVP4enV8oyxN0//yH99nXg5D8qOpLLf0jtP5kqGJXUifQ/c9cS8kHP/D+/DpwzojQEQIEmwoanVwxA4lgXt9HgE0BSSZ2AJuIbQAMJih9jjiNA5q4l5INuK0AwTKYKRj0zQNv5fmq8/DpAaCJseHrtQkB/+zpwzoxKQM3MzMzMeFJAZmZmZmZqWEAAAAAAAFxeQM3MzMzMJmJAmpmZmZkfZUBmZmZmZhhoQDMzMzMzEWtAAAAAAAAKbkBmZmZmZoFwQM3MzMzM/XFAMzMzMzN6c0CamZmZmfZ0QAAAAAAAc3ZAZmZmZmbvd0DNzMzMzGt5QDMzMzMz6HpAmpmZmZlkfEAAAAAAAOF9QGZmZmZmXX9AZmZmZuZsgECamZmZGSuBQM3MzMxM6YFAAAAAAICngkAzMzMzs2WDQGZmZmbmI4RAmpmZmRnihEDNzMzMTKCFQAAAAACAXoZAMzMzM7Mch0BmZmZm5tqHQJqZmZkZmYhAzczMzExXiUAAAAAAgBWKQDMzMzOz04pAZmZmZuaRi0CamZmZGVCMQM3MzMxMDo1AAAAAAIDMjUAzMzMzs4qOQGZmZmbmSI9A\",\"dtype\":\"float64\",\"shape\":[75]}}},\"id\":\"199a25fb-315c-46fe-89a0-a9a4e7ea58b6\",\"type\":\"ColumnDataSource\"},{\"attributes\":{\"line_alpha\":0.1,\"line_color\":\"#1f77b4\",\"line_width\":3,\"x\":{\"field\":\"x\"},\"y\":{\"field\":\"y\"}},\"id\":\"e7f45354-35c8-4ab2-bc75-5619e49cd0db\",\"type\":\"Line\"},{\"attributes\":{\"callback\":null,\"end\":0.5729935416299999,\"start\":-0.01965110463},\"id\":\"95f83052-70be-4fca-a0cf-943b0e201126\",\"type\":\"Range1d\"},{\"attributes\":{\"plot\":{\"id\":\"7ef4a50c-ad00-4eed-8834-f03e1b58ea47\",\"subtype\":\"Figure\",\"type\":\"Plot\"},\"ticker\":{\"id\":\"e7f30b2e-3959-462b-8673-56faa6860a65\",\"type\":\"BasicTicker\"}},\"id\":\"9ec1d8a2-8c28-414c-823c-63ecb95303ec\",\"type\":\"Grid\"},{\"attributes\":{\"source\":{\"id\":\"7446c308-64fd-43dd-b102-ab0c5b00bcb4\",\"type\":\"ColumnDataSource\"}},\"id\":\"44351e15-d48c-4a51-9578-abf6ec2af26b\",\"type\":\"CDSView\"},{\"attributes\":{\"line_alpha\":0.6,\"line_color\":\"#984ea3\",\"line_width\":3,\"x\":{\"field\":\"x\"},\"y\":{\"field\":\"y\"}},\"id\":\"dfe2c31a-a8a3-432a-8bda-f60b6c0cd109\",\"type\":\"Line\"},{\"attributes\":{\"data_source\":{\"id\":\"da05e4c1-a747-41de-8b2f-4d5c3daeafb9\",\"type\":\"ColumnDataSource\"},\"glyph\":{\"id\":\"dfe2c31a-a8a3-432a-8bda-f60b6c0cd109\",\"type\":\"Line\"},\"hover_glyph\":null,\"muted_glyph\":null,\"nonselection_glyph\":{\"id\":\"e7f45354-35c8-4ab2-bc75-5619e49cd0db\",\"type\":\"Line\"},\"selection_glyph\":null,\"view\":{\"id\":\"aee1aea1-ac12-4058-abee-7c2a389b7ad3\",\"type\":\"CDSView\"}},\"id\":\"d0ba658b-e9b8-4bd6-8bba-b81757984890\",\"type\":\"GlyphRenderer\"},{\"attributes\":{\"data_source\":{\"id\":\"482ce0f5-7087-4aed-8bf4-a938dcf4e409\",\"type\":\"ColumnDataSource\"},\"glyph\":{\"id\":\"e8b3d53c-74c1-4710-a66a-876d4ce0b84e\",\"type\":\"Line\"},\"hover_glyph\":null,\"muted_glyph\":null,\"nonselection_glyph\":{\"id\":\"e942ca53-ba25-44ac-a3ea-d371b438d7f0\",\"type\":\"Line\"},\"selection_glyph\":null,\"view\":{\"id\":\"613a7f66-c659-42bd-899b-8aaa36071818\",\"type\":\"CDSView\"}},\"id\":\"5110377a-e0b0-4eec-8513-10651be8326f\",\"type\":\"GlyphRenderer\"},{\"attributes\":{\"line_alpha\":0.1,\"line_color\":\"#1f77b4\",\"line_width\":3,\"x\":{\"field\":\"x\"},\"y\":{\"field\":\"y\"}},\"id\":\"e942ca53-ba25-44ac-a3ea-d371b438d7f0\",\"type\":\"Line\"},{\"attributes\":{\"source\":{\"id\":\"33ad07a5-b30b-4679-a0af-d015b564a3bd\",\"type\":\"ColumnDataSource\"}},\"id\":\"8167f856-cd1d-4c7e-9c7c-ebba60bebd4c\",\"type\":\"CDSView\"},{\"attributes\":{\"source\":{\"id\":\"da05e4c1-a747-41de-8b2f-4d5c3daeafb9\",\"type\":\"ColumnDataSource\"}},\"id\":\"aee1aea1-ac12-4058-abee-7c2a389b7ad3\",\"type\":\"CDSView\"},{\"attributes\":{\"children\":[{\"id\":\"5a83ebf9-4b34-4084-8a2e-f1231f47f964\",\"type\":\"ToolbarBox\"},{\"id\":\"6a516721-2291-463c-a892-1d41cee1e65f\",\"type\":\"Column\"}]},\"id\":\"063b9022-a1f6-4585-b987-f7d6391ddf5b\",\"type\":\"Column\"},{\"attributes\":{\"fill_alpha\":{\"value\":0.1},\"fill_color\":{\"value\":\"#1f77b4\"},\"line_alpha\":{\"value\":0.1},\"line_color\":{\"value\":\"#1f77b4\"},\"x\":{\"field\":\"x\"},\"y\":{\"field\":\"y\"}},\"id\":\"dcb2dbb3-5145-4708-9944-13a73fd51a8a\",\"type\":\"Square\"},{\"attributes\":{\"label\":{\"value\":\"WGT igg=10 wgt_flux=2\"},\"renderers\":[{\"id\":\"997abd78-abd7-44f7-8fa4-1dc534f51227\",\"type\":\"GlyphRenderer\"},{\"id\":\"d0ba658b-e9b8-4bd6-8bba-b81757984890\",\"type\":\"GlyphRenderer\"}]},\"id\":\"22767ec5-d850-49b0-a9b4-c94c7834de4d\",\"type\":\"LegendItem\"},{\"attributes\":{\"toolbar\":{\"id\":\"5169b2b8-e18c-4e6a-ac5b-a1a2b79f0f1c\",\"type\":\"ProxyToolbar\"},\"toolbar_location\":\"above\"},\"id\":\"5a83ebf9-4b34-4084-8a2e-f1231f47f964\",\"type\":\"ToolbarBox\"},{\"attributes\":{\"fill_alpha\":{\"value\":0.7},\"fill_color\":{\"value\":\"#984ea3\"},\"line_alpha\":{\"value\":0.7},\"line_color\":{\"value\":\"#984ea3\"},\"x\":{\"field\":\"x\"},\"y\":{\"field\":\"y\"}},\"id\":\"b314c265-9934-44a6-8c00-6a2d99dca418\",\"type\":\"Square\"},{\"attributes\":{\"axis_label\":\"cooling rate [K/day]\",\"formatter\":{\"id\":\"126299dc-2aaf-4e20-a575-b0193b533e5d\",\"type\":\"BasicTickFormatter\"},\"plot\":{\"id\":\"7ef4a50c-ad00-4eed-8834-f03e1b58ea47\",\"subtype\":\"Figure\",\"type\":\"Plot\"},\"ticker\":{\"id\":\"e7f30b2e-3959-462b-8673-56faa6860a65\",\"type\":\"BasicTicker\"}},\"id\":\"223f100e-fb2c-4b21-ae40-58702fccd9f7\",\"type\":\"LinearAxis\"},{\"attributes\":{\"callback\":null,\"end\":0.14899123903,\"start\":-0.01545306203},\"id\":\"4d97c948-6922-4039-b0a7-a7e931fc0e5c\",\"type\":\"Range1d\"},{\"attributes\":{},\"id\":\"61249b4d-20cc-4aec-ae92-a1970d452271\",\"type\":\"LinearScale\"},{\"attributes\":{\"data_source\":{\"id\":\"33ad07a5-b30b-4679-a0af-d015b564a3bd\",\"type\":\"ColumnDataSource\"},\"glyph\":{\"id\":\"b314c265-9934-44a6-8c00-6a2d99dca418\",\"type\":\"Square\"},\"hover_glyph\":null,\"muted_glyph\":null,\"nonselection_glyph\":{\"id\":\"dcb2dbb3-5145-4708-9944-13a73fd51a8a\",\"type\":\"Square\"},\"selection_glyph\":null,\"view\":{\"id\":\"8167f856-cd1d-4c7e-9c7c-ebba60bebd4c\",\"type\":\"CDSView\"}},\"id\":\"a58aed7e-87d6-4370-9a77-e4c45c12a34e\",\"type\":\"GlyphRenderer\"},{\"attributes\":{\"plot\":null,\"text\":\"Log pressure scale\"},\"id\":\"c468b78d-531f-4c5a-9ade-94465cd66e6e\",\"type\":\"Title\"},{\"attributes\":{},\"id\":\"e7f30b2e-3959-462b-8673-56faa6860a65\",\"type\":\"BasicTicker\"},{\"attributes\":{\"line_alpha\":0.6,\"line_color\":\"#e41a1c\",\"line_dash\":[6],\"line_width\":5,\"x\":{\"field\":\"x\"},\"y\":{\"field\":\"y\"}},\"id\":\"2e1bc831-a17c-4dc6-87ee-3c5dd5b4d3c1\",\"type\":\"Line\"},{\"attributes\":{\"callback\":null,\"column_names\":[\"x\",\"y\"],\"data\":{\"x\":{\"__ndarray__\":\"nqCvxHOdwz8WlBXaJe/DP1U4u3tCIMU/+2YTtOhUxj/zaNhymmPHPyBIOUWZN8g/6kdiTNO3yD/7UoyBQRXJP/mzGOR2Uck/SGJ71DzwyD+cWmnH0XrHPyYiR+IEaMU/BY8lmGM0wj/ZWAfUG926PzgDxRZ0LLM/bF7J/+zeuD/oiTqJEdjEP+dpE69hz8o/ZA3berTezj/xQ36apGDQP/kAvfAWsdI/g7C/8JF92T8lnY5yenfhPyLRH3FDYOE/fSzEinwI2z95MY8C/4PUP+7cKSCmBdA/2x8P6ovEyT857kZcvunEP1WSx708RcE/+0c9SCfFtz98LsrKywewPzKDdtmswaU/LO8BLsOYnz8CIp7u5jOYP30cY5o5Y48/bO2sbzpygz98VuxxlLl0Pw2nOUe/52a/92XXNaj8hr8OW/yB20KLv0hJfx9e/my//ZSFjRj1dj8moB1LOESKP6InPuz7oJQ/Qy6WgfxWnj9zS8lLsZigPwxwtcwNnKM/QJTLZUo3pz8bo5RSZOqpP3JFw1P8pqw/70krcDpQrz8TVmU6mtmwP7XpCZb0CbI/GaIlDj0Nsz8NvjGsrCO0P9fBQ9/BCLU/xyNOaN0Utj/tmLTmGBq3P6g+pkfc/rc/+z21miMGuT/1Bctq/da5P+BUXiQV4bo/8okLohzruz8Q9epgNPe+P8uqoxy98r8/qxliOWgewD/eGX0U/GLAP81ZMySMesA/27+yC9l+wD+L+Dx1nmvAPzWx4Ew5WcA/wZZYTriMwD96s3WYBgrBP+t/pTu5Q8I/\",\"dtype\":\"float64\",\"shape\":[75]},\"y\":{\"__ndarray__\":\"GhExyth1ND/Sv8nbtpRIP2vylNV0PVE/aTum7souWD/At0SJ8fVgPw3Iuahxymc/MSNhhJWvcD/bTfBN02d3P2zb5nxnaoA/CD5h5MAGhz8NmeH1TyaQP+zrCsc9p5Y/LbKd76fGnz/bLW5ISEmmPww9YvTcQq8/JV2OstnstT8Er5Y7M8G+P0c+r3jqkcU/5h99k6ZBzj88bCIzFzjVP4enV8oyxN0//yH99nXg5D8qOpLLf0jtP5kqGJXUifQ/c9cS8kHP/D+/DpwzojQEQIEmwoanVwxA4lgXt9HgE0BSSZ2AJuIbQAMJih9jjiNA5q4l5INuK0AwTKYKRj0zQNv5fmq8/DpAaCJseHrtQkB/+zpwzoxKQM3MzMzMeFJAZmZmZmZqWEAAAAAAAFxeQM3MzMzMJmJAmpmZmZkfZUBmZmZmZhhoQDMzMzMzEWtAAAAAAAAKbkBmZmZmZoFwQM3MzMzM/XFAMzMzMzN6c0CamZmZmfZ0QAAAAAAAc3ZAZmZmZmbvd0DNzMzMzGt5QDMzMzMz6HpAmpmZmZlkfEAAAAAAAOF9QGZmZmZmXX9AZmZmZuZsgECamZmZGSuBQM3MzMxM6YFAAAAAAICngkAzMzMzs2WDQGZmZmbmI4RAmpmZmRnihEDNzMzMTKCFQAAAAACAXoZAMzMzM7Mch0BmZmZm5tqHQJqZmZkZmYhAzczMzExXiUAAAAAAgBWKQDMzMzOz04pAZmZmZuaRi0CamZmZGVCMQM3MzMxMDo1AAAAAAIDMjUAzMzMzs4qOQGZmZmbmSI9A\",\"dtype\":\"float64\",\"shape\":[75]}}},\"id\":\"482ce0f5-7087-4aed-8bf4-a938dcf4e409\",\"type\":\"ColumnDataSource\"},{\"attributes\":{\"data_source\":{\"id\":\"2fcb551b-0daf-4827-abd6-120739c81320\",\"type\":\"ColumnDataSource\"},\"glyph\":{\"id\":\"54cdc905-b9e2-4efc-aaad-ca5502a5fcb5\",\"type\":\"Line\"},\"hover_glyph\":null,\"muted_glyph\":null,\"nonselection_glyph\":{\"id\":\"73bfb874-a447-411b-9e30-40687d71bfae\",\"type\":\"Line\"},\"selection_glyph\":null,\"view\":{\"id\":\"d37b7141-5909-4873-9ce5-6972b52b116d\",\"type\":\"CDSView\"}},\"id\":\"8e0339dd-db20-4a58-a367-878fc00cdd49\",\"type\":\"GlyphRenderer\"},{\"attributes\":{\"below\":[{\"id\":\"223f100e-fb2c-4b21-ae40-58702fccd9f7\",\"type\":\"LinearAxis\"}],\"left\":[{\"id\":\"2a8d8c84-0723-4970-bd6e-7d50b574e8ff\",\"type\":\"LogAxis\"}],\"plot_height\":500,\"plot_width\":560,\"renderers\":[{\"id\":\"223f100e-fb2c-4b21-ae40-58702fccd9f7\",\"type\":\"LinearAxis\"},{\"id\":\"9ec1d8a2-8c28-414c-823c-63ecb95303ec\",\"type\":\"Grid\"},{\"id\":\"2a8d8c84-0723-4970-bd6e-7d50b574e8ff\",\"type\":\"LogAxis\"},{\"id\":\"2c545258-f571-4a7e-8d0e-74b2f0121a69\",\"type\":\"Grid\"},{\"id\":\"82c8982e-5bb4-4681-989b-e582decc6c8a\",\"type\":\"BoxAnnotation\"},{\"id\":\"8e0339dd-db20-4a58-a367-878fc00cdd49\",\"type\":\"GlyphRenderer\"},{\"id\":\"99a890fd-a9c0-4a3b-a80f-d5817d8c3bbf\",\"type\":\"GlyphRenderer\"},{\"id\":\"148df0bb-c3b6-4fc4-89b7-86d593f6d7dd\",\"type\":\"GlyphRenderer\"},{\"id\":\"997abd78-abd7-44f7-8fa4-1dc534f51227\",\"type\":\"GlyphRenderer\"},{\"id\":\"d0ba658b-e9b8-4bd6-8bba-b81757984890\",\"type\":\"GlyphRenderer\"},{\"id\":\"beee14ce-26a4-4d8f-baaa-1f1f2a13f08b\",\"type\":\"Legend\"}],\"right\":[{\"id\":\"beee14ce-26a4-4d8f-baaa-1f1f2a13f08b\",\"type\":\"Legend\"}],\"title\":{\"id\":\"c468b78d-531f-4c5a-9ade-94465cd66e6e\",\"type\":\"Title\"},\"toolbar\":{\"id\":\"a8d80720-1804-4d86-a380-96ccc152e522\",\"type\":\"Toolbar\"},\"toolbar_location\":null,\"x_range\":{\"id\":\"95f83052-70be-4fca-a0cf-943b0e201126\",\"type\":\"Range1d\"},\"x_scale\":{\"id\":\"61249b4d-20cc-4aec-ae92-a1970d452271\",\"type\":\"LinearScale\"},\"y_range\":{\"id\":\"aa25845b-e28e-4fe6-bfed-258db2add2a4\",\"type\":\"Range1d\"},\"y_scale\":{\"id\":\"b593890e-6b0b-4409-96ab-155cab3a166c\",\"type\":\"LogScale\"}},\"id\":\"7ef4a50c-ad00-4eed-8834-f03e1b58ea47\",\"subtype\":\"Figure\",\"type\":\"Plot\"},{\"attributes\":{\"label\":{\"value\":\"CRD\"},\"renderers\":[{\"id\":\"99a890fd-a9c0-4a3b-a80f-d5817d8c3bbf\",\"type\":\"GlyphRenderer\"},{\"id\":\"148df0bb-c3b6-4fc4-89b7-86d593f6d7dd\",\"type\":\"GlyphRenderer\"}]},\"id\":\"dd7da8bc-f431-4b66-9be2-fc6867cd40b9\",\"type\":\"LegendItem\"},{\"attributes\":{},\"id\":\"34ee4589-544d-4830-8901-1de6558b5f93\",\"type\":\"ResetTool\"},{\"attributes\":{\"line_color\":\"#4daf4a\",\"line_width\":1.5,\"x\":{\"field\":\"x\"},\"y\":{\"field\":\"y\"}},\"id\":\"67b79726-a0fb-45ec-bdec-8465612b708d\",\"type\":\"Line\"},{\"attributes\":{},\"id\":\"4698cf70-3204-42d8-8b81-b243c5534870\",\"type\":\"HelpTool\"},{\"attributes\":{},\"id\":\"e674f94a-f1c6-4640-bce4-fbe052e202ab\",\"type\":\"BasicTickFormatter\"},{\"attributes\":{\"tools\":[{\"id\":\"a7bbd3ab-2ee0-4334-a08c-7fb7be092a5c\",\"type\":\"PanTool\"},{\"id\":\"254202f6-1f4a-4b80-97a3-879e2e946a72\",\"type\":\"WheelZoomTool\"},{\"id\":\"53e3d96d-301a-4835-ab47-08d9248992c4\",\"type\":\"BoxZoomTool\"},{\"id\":\"76f3a65d-44d8-414f-923d-c7e6f8f4e588\",\"type\":\"SaveTool\"},{\"id\":\"0dd36e60-24a1-4b36-8f70-468d72f52f88\",\"type\":\"ResetTool\"},{\"id\":\"31320255-92f8-4116-9ecf-a28b195cf6f6\",\"type\":\"HelpTool\"},{\"id\":\"d56fca08-3229-4834-aaa1-76cc11d4fa84\",\"type\":\"PanTool\"},{\"id\":\"530ff84b-99c0-4194-ae94-de9c91a09d19\",\"type\":\"WheelZoomTool\"},{\"id\":\"c2212b96-a687-45ad-9800-5c5b25a796bb\",\"type\":\"BoxZoomTool\"},{\"id\":\"957177a8-0bf1-4951-98b6-ede12edd40b8\",\"type\":\"SaveTool\"},{\"id\":\"34ee4589-544d-4830-8901-1de6558b5f93\",\"type\":\"ResetTool\"},{\"id\":\"4698cf70-3204-42d8-8b81-b243c5534870\",\"type\":\"HelpTool\"}]},\"id\":\"5169b2b8-e18c-4e6a-ac5b-a1a2b79f0f1c\",\"type\":\"ProxyToolbar\"},{\"attributes\":{\"line_alpha\":0.1,\"line_color\":\"#1f77b4\",\"line_dash\":[6],\"line_width\":5,\"x\":{\"field\":\"x\"},\"y\":{\"field\":\"y\"}},\"id\":\"5aaa776e-6a80-44dc-99c7-810b77f5fefb\",\"type\":\"Line\"},{\"attributes\":{\"source\":{\"id\":\"199a25fb-315c-46fe-89a0-a9a4e7ea58b6\",\"type\":\"ColumnDataSource\"}},\"id\":\"a06f5518-c360-47ab-adf4-4d9006e1dc1a\",\"type\":\"CDSView\"},{\"attributes\":{\"children\":[{\"id\":\"e97a6523-4927-4fea-9868-e06ea76bf9e4\",\"subtype\":\"Figure\",\"type\":\"Plot\"},{\"id\":\"7ef4a50c-ad00-4eed-8834-f03e1b58ea47\",\"subtype\":\"Figure\",\"type\":\"Plot\"}]},\"id\":\"eae96fac-01a4-439d-9a62-1c88d74422dc\",\"type\":\"Row\"},{\"attributes\":{\"line_alpha\":0.1,\"line_color\":\"#1f77b4\",\"line_width\":1.5,\"x\":{\"field\":\"x\"},\"y\":{\"field\":\"y\"}},\"id\":\"b0ece4c5-4bb4-4365-99d9-10aa04f639b6\",\"type\":\"Line\"},{\"attributes\":{\"source\":{\"id\":\"2fcb551b-0daf-4827-abd6-120739c81320\",\"type\":\"ColumnDataSource\"}},\"id\":\"d37b7141-5909-4873-9ce5-6972b52b116d\",\"type\":\"CDSView\"},{\"attributes\":{},\"id\":\"530ff84b-99c0-4194-ae94-de9c91a09d19\",\"type\":\"WheelZoomTool\"},{\"attributes\":{\"callback\":null,\"end\":0.01,\"start\":1020},\"id\":\"aa25845b-e28e-4fe6-bfed-258db2add2a4\",\"type\":\"Range1d\"},{\"attributes\":{},\"id\":\"957177a8-0bf1-4951-98b6-ede12edd40b8\",\"type\":\"SaveTool\"},{\"attributes\":{\"callback\":null,\"column_names\":[\"x\",\"y\"],\"data\":{\"x\":{\"__ndarray__\":\"IPBd1gZf0D81Ymafx2jQP6H/N1kX9dA/RX+qApx70T9W7BYeh8PRPwDp1d+WONI/GL0qgsVC0j+0EboRNyPSP3ni3qHNltE/rFAHJvWt0D8dR2I4jaPOP6jhvoLyxso/Q+heL2auxT+nFCruLga+P9WCVuFIALQ/5G2OO/ERuD9M4/ZPYM/CP9aSCjqMj8g/XmaWDBnyzD+hoRxY0OzQPzjSvl4GiNQ/HcibeN542z+gy4qXXSbiP0DKPn4lpuE/OCmz3vvd2j9MxaWupVXUP3CrxUxHJc8/sgD5VEYKyD+nn8O+ldPCPzWlzDjTpb0/KI/6LTJotj86KIluu6WvP6tBIc0b0aY/RfUdluK3oT8pwiV+xxuZP1Arh0FZK4w/a90xNTzPfT+GZUlHFPZvP+U4rLt9h2e/W9j+jttBhr8Bnlm35jOFv/r5NI9UTku/2W+MrfdFgD+nSt2TXAWQP52Kvvz6k5c/+YJqEb7onj8f01m0oPqiP5i9fh4pdqY/qQ7BirbXqT/5YwSbDQ6tP6rcZzzhCrA/pnAHYaNpsT9HmHQkL5yyP6FhhenoqbM/TPa775metD/IDOziSn61P2GidPtCTrY/EBDTi8gatz9WropMzdm3P7jk1Khpkrg/EGx2U7NPuT/50l/YLxK6PySN+rnb1Lo/OGGpy7Wquz8OOUsDHpy8P7JqjK3So70/dNNmnIaovj8XOCxPGHu/P8cBJjZA5b8/6fr0jgnnvz8yLsm/nsi/P++/OjNmt78/y8TGH7nzvz/N3fgkwWXAPyCT78ZApsE/\",\"dtype\":\"float64\",\"shape\":[75]},\"y\":{\"__ndarray__\":\"GhExyth1ND/Sv8nbtpRIP2vylNV0PVE/aTum7souWD/At0SJ8fVgPw3Iuahxymc/MSNhhJWvcD/bTfBN02d3P2zb5nxnaoA/CD5h5MAGhz8NmeH1TyaQP+zrCsc9p5Y/LbKd76fGnz/bLW5ISEmmPww9YvTcQq8/JV2OstnstT8Er5Y7M8G+P0c+r3jqkcU/5h99k6ZBzj88bCIzFzjVP4enV8oyxN0//yH99nXg5D8qOpLLf0jtP5kqGJXUifQ/c9cS8kHP/D+/DpwzojQEQIEmwoanVwxA4lgXt9HgE0BSSZ2AJuIbQAMJih9jjiNA5q4l5INuK0AwTKYKRj0zQNv5fmq8/DpAaCJseHrtQkB/+zpwzoxKQM3MzMzMeFJAZmZmZmZqWEAAAAAAAFxeQM3MzMzMJmJAmpmZmZkfZUBmZmZmZhhoQDMzMzMzEWtAAAAAAAAKbkBmZmZmZoFwQM3MzMzM/XFAMzMzMzN6c0CamZmZmfZ0QAAAAAAAc3ZAZmZmZmbvd0DNzMzMzGt5QDMzMzMz6HpAmpmZmZlkfEAAAAAAAOF9QGZmZmZmXX9AZmZmZuZsgECamZmZGSuBQM3MzMxM6YFAAAAAAICngkAzMzMzs2WDQGZmZmbmI4RAmpmZmRnihEDNzMzMTKCFQAAAAACAXoZAMzMzM7Mch0BmZmZm5tqHQJqZmZkZmYhAzczMzExXiUAAAAAAgBWKQDMzMzOz04pAZmZmZuaRi0CamZmZGVCMQM3MzMxMDo1AAAAAAIDMjUAzMzMzs4qOQGZmZmbmSI9A\",\"dtype\":\"float64\",\"shape\":[75]}}},\"id\":\"88fdf89a-40c3-4fed-b926-ad783b807721\",\"type\":\"ColumnDataSource\"},{\"attributes\":{\"line_alpha\":0.6,\"line_color\":\"#e41a1c\",\"line_dash\":[6],\"line_width\":5,\"x\":{\"field\":\"x\"},\"y\":{\"field\":\"y\"}},\"id\":\"54cdc905-b9e2-4efc-aaad-ca5502a5fcb5\",\"type\":\"Line\"},{\"attributes\":{\"plot\":null,\"text\":\"Linear pressure scale\"},\"id\":\"48504433-aeda-465e-8fa7-9daa5b5f01f9\",\"type\":\"Title\"},{\"attributes\":{},\"id\":\"1edf5822-982b-4450-ac6b-8a31dd4f36cb\",\"type\":\"LinearScale\"},{\"attributes\":{\"axis_label\":\"pressure [mb]\",\"formatter\":{\"id\":\"e1f68786-3ef3-4c94-821b-6f677474bd85\",\"type\":\"LogTickFormatter\"},\"plot\":{\"id\":\"7ef4a50c-ad00-4eed-8834-f03e1b58ea47\",\"subtype\":\"Figure\",\"type\":\"Plot\"},\"ticker\":{\"id\":\"84ff5c5e-adc6-457e-8172-182230736f6f\",\"type\":\"LogTicker\"}},\"id\":\"2a8d8c84-0723-4970-bd6e-7d50b574e8ff\",\"type\":\"LogAxis\"},{\"attributes\":{},\"id\":\"76f3a65d-44d8-414f-923d-c7e6f8f4e588\",\"type\":\"SaveTool\"},{\"attributes\":{\"callback\":null,\"column_names\":[\"x\",\"y\"],\"data\":{\"x\":{\"__ndarray__\":\"8F/Nv2Vnuj8L32UAVGOwP0R51blYh8E/bMGc6tqowD91X8b7DtHBP555vSRj78A/WKRw2t8bwj8fUbpXWoTFPxmPUglPaMI/0xB2Bh3fxT+B7ol9G0XEP7AeGLy/LMM/swIquRZvwT+PnksGutW6P2hcWR57KLc/iOOOcaS3vT9SH7N5PRTHP+mv/J797cw/cEBLV7ANzz8GcMwVUjzPP1GLHH0nwdE/t7LInz2R2D+SO64+BR3hPwiY8Z01S+E/lbSHYpdN2z/uG0bexf3UPw1I6z3PftA/ViepRMA+yj8Tm7B5LGjFP54IRWdXqcA/+VVb3/fXtz/p5GV9ZQauP7wAwT1LZ6I/+bwDuDA9mz+e9Oa5g62VP7goNMI79ow/m8s34XFYgT/R1ynf/h9xP/b/oB+VvHC/uPoAkFKKi78Lo3cvmViMvxM8QT+sZ3O/FvhKnDXxbz9hgu89KYGHPwVkYegO65I/Kt9APKORmT8Xdvo8pOqfP6bcSp3qCqM/C8aL/C8Upj9LSTzEMkKpPwDMUj5Gcaw/2MURxKlxrz+JGozelx2xP3QTGmCdZbI/8NMHfpOnsz+6L8rg5ty0P4qq4yEhBLY/ITLDfgMetz8JdIbf1ii4PzF9ryE4Lrk/m881o1FHuj9oa22vP2i7P8YKK9M3grw/Y8BIHj6fvT/vbunBcr6+P9rJXPDU6b8/ElYZfFCGwD+XHk31ZP7AP+DCNrlKPcE/G9ee3UpEwT8vPyYIDTPBP/FfpEA0LcE/diXZVQ5OwT9PPdLgtrbBP2s7df5Q3cI/\",\"dtype\":\"float64\",\"shape\":[75]},\"y\":{\"__ndarray__\":\"S/O/Q+51ND/430zAtpRIP2vylNV0PVE/QxsjCssuWD/TR4Z78fVgP+inNsRxymc/OuuBfZWvcD/u3TFA02d3P2d3VoBnaoA/CD5h5MAGhz/1pA8HUCaQP+zrCsc9p5Y/Fb7LAKjGnz/nJ9c/SEmmPwBD+fzcQq8/FOZwv9nstT8Er5Y7M8G+P0c+r3jqkcU/yK72qKZBzj+tM989FzjVPxbgmr8yxN0/cOm5AXbg5D+5ctXAf0jtP5kqGJXUifQ/DsrqDELP/D8MCAhBojQEQDItVnmnVwxAiFXNvdHgE0BSSZ2AJuIbQAMJih9jjiNA5q4l5INuK0CPVN/5RT0zQHzxRXu8/DpAOZ7PgHrtQkAg8wGBzoxKQBSTN8DMeFJA2NmQf2ZqWEAAAAAAAFxeQEQX1LfMJmJAmpmZmZkfZUBmZmZmZhhoQLzoK0gzEWtAAAAAAAAKbkCiC+pbZoFwQAhyUMLM/XFA+I2vPTN6c0AQ5KCEmfZ0QAAAAAAAc3ZA8Btfe2bvd0AIclDCzGt5QPeNrz0z6HpAEOSghJlkfEAAAAAAAOF9QKML6ltmXX9ABTkoYeZsgED7xteeGSuBQAhyUMJM6YFAAAAAAICngkD4ja89s2WDQAU5KGHmI4RA+8bXnhnihEAIclDCTKCFQAAAAACAXoZA+I2vPbMch0AFOShh5tqHQPvG154ZmYhACHJQwkxXiUAAAAAAgBWKQPeNrz2z04pABTkoYeaRi0D7xteeGVCMQAlyUMJMDo1AAAAAAIDMjUD3ja89s4qOQGZmZmbmSI9A\",\"dtype\":\"float64\",\"shape\":[75]}}},\"id\":\"c4a131ce-623e-42b2-bdf3-c5c69f703bf2\",\"type\":\"ColumnDataSource\"},{\"attributes\":{\"callback\":null,\"column_names\":[\"x\",\"y\"],\"data\":{\"x\":{\"__ndarray__\":\"8F/Nv2Vnuj8L32UAVGOwP0R51blYh8E/bMGc6tqowD91X8b7DtHBP555vSRj78A/WKRw2t8bwj8fUbpXWoTFPxmPUglPaMI/0xB2Bh3fxT+B7ol9G0XEP7AeGLy/LMM/swIquRZvwT+PnksGutW6P2hcWR57KLc/iOOOcaS3vT9SH7N5PRTHP+mv/J797cw/cEBLV7ANzz8GcMwVUjzPP1GLHH0nwdE/t7LInz2R2D+SO64+BR3hPwiY8Z01S+E/lbSHYpdN2z/uG0bexf3UPw1I6z3PftA/ViepRMA+yj8Tm7B5LGjFP54IRWdXqcA/+VVb3/fXtz/p5GV9ZQauP7wAwT1LZ6I/+bwDuDA9mz+e9Oa5g62VP7goNMI79ow/m8s34XFYgT/R1ynf/h9xP/b/oB+VvHC/uPoAkFKKi78Lo3cvmViMvxM8QT+sZ3O/FvhKnDXxbz9hgu89KYGHPwVkYegO65I/Kt9APKORmT8Xdvo8pOqfP6bcSp3qCqM/C8aL/C8Upj9LSTzEMkKpPwDMUj5Gcaw/2MURxKlxrz+JGozelx2xP3QTGmCdZbI/8NMHfpOnsz+6L8rg5ty0P4qq4yEhBLY/ITLDfgMetz8JdIbf1ii4PzF9ryE4Lrk/m881o1FHuj9oa22vP2i7P8YKK9M3grw/Y8BIHj6fvT/vbunBcr6+P9rJXPDU6b8/ElYZfFCGwD+XHk31ZP7AP+DCNrlKPcE/G9ee3UpEwT8vPyYIDTPBP/FfpEA0LcE/diXZVQ5OwT9PPdLgtrbBP2s7df5Q3cI/\",\"dtype\":\"float64\",\"shape\":[75]},\"y\":{\"__ndarray__\":\"S/O/Q+51ND/430zAtpRIP2vylNV0PVE/QxsjCssuWD/TR4Z78fVgP+inNsRxymc/OuuBfZWvcD/u3TFA02d3P2d3VoBnaoA/CD5h5MAGhz/1pA8HUCaQP+zrCsc9p5Y/Fb7LAKjGnz/nJ9c/SEmmPwBD+fzcQq8/FOZwv9nstT8Er5Y7M8G+P0c+r3jqkcU/yK72qKZBzj+tM989FzjVPxbgmr8yxN0/cOm5AXbg5D+5ctXAf0jtP5kqGJXUifQ/DsrqDELP/D8MCAhBojQEQDItVnmnVwxAiFXNvdHgE0BSSZ2AJuIbQAMJih9jjiNA5q4l5INuK0CPVN/5RT0zQHzxRXu8/DpAOZ7PgHrtQkAg8wGBzoxKQBSTN8DMeFJA2NmQf2ZqWEAAAAAAAFxeQEQX1LfMJmJAmpmZmZkfZUBmZmZmZhhoQLzoK0gzEWtAAAAAAAAKbkCiC+pbZoFwQAhyUMLM/XFA+I2vPTN6c0AQ5KCEmfZ0QAAAAAAAc3ZA8Btfe2bvd0AIclDCzGt5QPeNrz0z6HpAEOSghJlkfEAAAAAAAOF9QKML6ltmXX9ABTkoYeZsgED7xteeGSuBQAhyUMJM6YFAAAAAAICngkD4ja89s2WDQAU5KGHmI4RA+8bXnhnihEAIclDCTKCFQAAAAACAXoZA+I2vPbMch0AFOShh5tqHQPvG154ZmYhACHJQwkxXiUAAAAAAgBWKQPeNrz2z04pABTkoYeaRi0D7xteeGVCMQAlyUMJMDo1AAAAAAIDMjUD3ja89s4qOQGZmZmbmSI9A\",\"dtype\":\"float64\",\"shape\":[75]}}},\"id\":\"2fcb551b-0daf-4827-abd6-120739c81320\",\"type\":\"ColumnDataSource\"},{\"attributes\":{\"plot\":{\"id\":\"e97a6523-4927-4fea-9868-e06ea76bf9e4\",\"subtype\":\"Figure\",\"type\":\"Plot\"},\"ticker\":{\"id\":\"bd004e99-ac9d-4681-9a8e-f280c4c1be96\",\"type\":\"BasicTicker\"}},\"id\":\"931a7ce4-f8c2-4983-80b7-4a0ea0767ee1\",\"type\":\"Grid\"},{\"attributes\":{\"axis_label\":\"pressure [mb]\",\"formatter\":{\"id\":\"02def5cd-7875-4864-b077-6c5e0d2a4d44\",\"type\":\"BasicTickFormatter\"},\"plot\":{\"id\":\"e97a6523-4927-4fea-9868-e06ea76bf9e4\",\"subtype\":\"Figure\",\"type\":\"Plot\"},\"ticker\":{\"id\":\"01bb7635-8716-4b59-8676-daa1738f2891\",\"type\":\"BasicTicker\"}},\"id\":\"f7168fbb-f98b-4e3e-b73b-c74ad840bb5f\",\"type\":\"LinearAxis\"},{\"attributes\":{\"active_drag\":\"auto\",\"active_inspect\":\"auto\",\"active_scroll\":\"auto\",\"active_tap\":\"auto\",\"tools\":[{\"id\":\"a7bbd3ab-2ee0-4334-a08c-7fb7be092a5c\",\"type\":\"PanTool\"},{\"id\":\"254202f6-1f4a-4b80-97a3-879e2e946a72\",\"type\":\"WheelZoomTool\"},{\"id\":\"53e3d96d-301a-4835-ab47-08d9248992c4\",\"type\":\"BoxZoomTool\"},{\"id\":\"76f3a65d-44d8-414f-923d-c7e6f8f4e588\",\"type\":\"SaveTool\"},{\"id\":\"0dd36e60-24a1-4b36-8f70-468d72f52f88\",\"type\":\"ResetTool\"},{\"id\":\"31320255-92f8-4116-9ecf-a28b195cf6f6\",\"type\":\"HelpTool\"}]},\"id\":\"981885aa-7bf6-4b50-b71a-dfa933b60def\",\"type\":\"Toolbar\"},{\"attributes\":{},\"id\":\"01bb7635-8716-4b59-8676-daa1738f2891\",\"type\":\"BasicTicker\"},{\"attributes\":{\"dimension\":1,\"plot\":{\"id\":\"e97a6523-4927-4fea-9868-e06ea76bf9e4\",\"subtype\":\"Figure\",\"type\":\"Plot\"},\"ticker\":{\"id\":\"01bb7635-8716-4b59-8676-daa1738f2891\",\"type\":\"BasicTicker\"}},\"id\":\"682cb62c-5ad8-466d-9e36-1eefcfae463f\",\"type\":\"Grid\"},{\"attributes\":{\"bottom_units\":\"screen\",\"fill_alpha\":{\"value\":0.5},\"fill_color\":{\"value\":\"lightgrey\"},\"left_units\":\"screen\",\"level\":\"overlay\",\"line_alpha\":{\"value\":1.0},\"line_color\":{\"value\":\"black\"},\"line_dash\":[4,4],\"line_width\":{\"value\":2},\"plot\":null,\"render_mode\":\"css\",\"right_units\":\"screen\",\"top_units\":\"screen\"},\"id\":\"d2f707d8-5dfa-4e9a-948e-9cf1dfe14f50\",\"type\":\"BoxAnnotation\"},{\"attributes\":{\"fill_alpha\":{\"value\":0.7},\"fill_color\":{\"value\":\"#4daf4a\"},\"line_alpha\":{\"value\":0.7},\"line_color\":{\"value\":\"#4daf4a\"},\"x\":{\"field\":\"x\"},\"y\":{\"field\":\"y\"}},\"id\":\"b5f6f1ac-4691-41af-a360-e5144ed7f724\",\"type\":\"Circle\"},{\"attributes\":{\"line_alpha\":0.1,\"line_color\":\"#1f77b4\",\"line_dash\":[6],\"line_width\":5,\"x\":{\"field\":\"x\"},\"y\":{\"field\":\"y\"}},\"id\":\"73bfb874-a447-411b-9e30-40687d71bfae\",\"type\":\"Line\"},{\"attributes\":{\"num_minor_ticks\":10},\"id\":\"84ff5c5e-adc6-457e-8172-182230736f6f\",\"type\":\"LogTicker\"},{\"attributes\":{},\"id\":\"a7bbd3ab-2ee0-4334-a08c-7fb7be092a5c\",\"type\":\"PanTool\"},{\"attributes\":{},\"id\":\"31320255-92f8-4116-9ecf-a28b195cf6f6\",\"type\":\"HelpTool\"},{\"attributes\":{\"bottom_units\":\"screen\",\"fill_alpha\":{\"value\":0.5},\"fill_color\":{\"value\":\"lightgrey\"},\"left_units\":\"screen\",\"level\":\"overlay\",\"line_alpha\":{\"value\":1.0},\"line_color\":{\"value\":\"black\"},\"line_dash\":[4,4],\"line_width\":{\"value\":2},\"plot\":null,\"render_mode\":\"css\",\"right_units\":\"screen\",\"top_units\":\"screen\"},\"id\":\"82c8982e-5bb4-4681-989b-e582decc6c8a\",\"type\":\"BoxAnnotation\"},{\"attributes\":{\"fill_alpha\":{\"value\":0.1},\"fill_color\":{\"value\":\"#1f77b4\"},\"line_alpha\":{\"value\":0.1},\"line_color\":{\"value\":\"#1f77b4\"},\"x\":{\"field\":\"x\"},\"y\":{\"field\":\"y\"}},\"id\":\"59f988fd-ce22-4873-b03f-2226c00a9f98\",\"type\":\"Circle\"},{\"attributes\":{\"data_source\":{\"id\":\"199a25fb-315c-46fe-89a0-a9a4e7ea58b6\",\"type\":\"ColumnDataSource\"},\"glyph\":{\"id\":\"b5f6f1ac-4691-41af-a360-e5144ed7f724\",\"type\":\"Circle\"},\"hover_glyph\":null,\"muted_glyph\":null,\"nonselection_glyph\":{\"id\":\"59f988fd-ce22-4873-b03f-2226c00a9f98\",\"type\":\"Circle\"},\"selection_glyph\":null,\"view\":{\"id\":\"a06f5518-c360-47ab-adf4-4d9006e1dc1a\",\"type\":\"CDSView\"}},\"id\":\"99151221-1204-4cfb-b18b-e0d92a0d5de6\",\"type\":\"GlyphRenderer\"},{\"attributes\":{},\"id\":\"c5c9cc0e-39b2-477a-ac5f-d63bf860944d\",\"type\":\"LinearScale\"},{\"attributes\":{},\"id\":\"02def5cd-7875-4864-b077-6c5e0d2a4d44\",\"type\":\"BasicTickFormatter\"},{\"attributes\":{\"axis_label\":\"cooling rate [K/day]\",\"formatter\":{\"id\":\"e674f94a-f1c6-4640-bce4-fbe052e202ab\",\"type\":\"BasicTickFormatter\"},\"plot\":{\"id\":\"e97a6523-4927-4fea-9868-e06ea76bf9e4\",\"subtype\":\"Figure\",\"type\":\"Plot\"},\"ticker\":{\"id\":\"bd004e99-ac9d-4681-9a8e-f280c4c1be96\",\"type\":\"BasicTicker\"}},\"id\":\"536db50f-f9a9-434e-8eca-0d0501ffe723\",\"type\":\"LinearAxis\"},{\"attributes\":{\"label\":{\"value\":\"CLIRAD `coolr_bands`\"},\"renderers\":[{\"id\":\"8e0339dd-db20-4a58-a367-878fc00cdd49\",\"type\":\"GlyphRenderer\"}]},\"id\":\"00f4eff1-2127-4f05-8e38-4a9c3bfeebc3\",\"type\":\"LegendItem\"},{\"attributes\":{},\"id\":\"d56fca08-3229-4834-aaa1-76cc11d4fa84\",\"type\":\"PanTool\"},{\"attributes\":{\"overlay\":{\"id\":\"d2f707d8-5dfa-4e9a-948e-9cf1dfe14f50\",\"type\":\"BoxAnnotation\"}},\"id\":\"53e3d96d-301a-4835-ab47-08d9248992c4\",\"type\":\"BoxZoomTool\"},{\"attributes\":{\"items\":[{\"id\":\"00f4eff1-2127-4f05-8e38-4a9c3bfeebc3\",\"type\":\"LegendItem\"},{\"id\":\"dd7da8bc-f431-4b66-9be2-fc6867cd40b9\",\"type\":\"LegendItem\"},{\"id\":\"22767ec5-d850-49b0-a9b4-c94c7834de4d\",\"type\":\"LegendItem\"}],\"label_text_font_size\":{\"value\":\"8pt\"},\"location\":[10,-30],\"plot\":{\"id\":\"7ef4a50c-ad00-4eed-8834-f03e1b58ea47\",\"subtype\":\"Figure\",\"type\":\"Plot\"}},\"id\":\"beee14ce-26a4-4d8f-baaa-1f1f2a13f08b\",\"type\":\"Legend\"},{\"attributes\":{\"overlay\":{\"id\":\"82c8982e-5bb4-4681-989b-e582decc6c8a\",\"type\":\"BoxAnnotation\"}},\"id\":\"c2212b96-a687-45ad-9800-5c5b25a796bb\",\"type\":\"BoxZoomTool\"},{\"attributes\":{},\"id\":\"0dd36e60-24a1-4b36-8f70-468d72f52f88\",\"type\":\"ResetTool\"},{\"attributes\":{},\"id\":\"254202f6-1f4a-4b80-97a3-879e2e946a72\",\"type\":\"WheelZoomTool\"},{\"attributes\":{},\"id\":\"bd004e99-ac9d-4681-9a8e-f280c4c1be96\",\"type\":\"BasicTicker\"},{\"attributes\":{\"children\":[{\"id\":\"eae96fac-01a4-439d-9a62-1c88d74422dc\",\"type\":\"Row\"}]},\"id\":\"6a516721-2291-463c-a892-1d41cee1e65f\",\"type\":\"Column\"}],\"root_ids\":[\"063b9022-a1f6-4585-b987-f7d6391ddf5b\"]},\"title\":\"Bokeh Application\",\"version\":\"0.12.14\"}};\n",
       "  var render_items = [{\"docid\":\"745e6fd2-cf7c-473c-b739-5429f59bda13\",\"elementid\":\"f94deee8-d27c-449e-a4c4-34ee0c40c580\",\"modelid\":\"063b9022-a1f6-4585-b987-f7d6391ddf5b\"}];\n",
       "  root.Bokeh.embed.embed_items_notebook(docs_json, render_items);\n",
       "\n",
       "  }\n",
       "  if (root.Bokeh !== undefined) {\n",
       "    embed_document(root);\n",
       "  } else {\n",
       "    var attempts = 0;\n",
       "    var timer = setInterval(function(root) {\n",
       "      if (root.Bokeh !== undefined) {\n",
       "        embed_document(root);\n",
       "        clearInterval(timer);\n",
       "      }\n",
       "      attempts++;\n",
       "      if (attempts > 100) {\n",
       "        console.log(\"Bokeh: ERROR: Unable to run BokehJS code because BokehJS library is missing\")\n",
       "        clearInterval(timer);\n",
       "      }\n",
       "    }, 10, root)\n",
       "  }\n",
       "})(window);"
      ],
      "application/vnd.bokehjs_exec.v0+json": ""
     },
     "metadata": {
      "application/vnd.bokehjs_exec.v0+json": {
       "id": "063b9022-a1f6-4585-b987-f7d6391ddf5b"
      }
     },
     "output_type": "display_data"
    },
    {
     "name": "stdout",
     "output_type": "stream",
     "text": [
      "FIGURE. Cooling rate profiles.\n"
     ]
    },
    {
     "data": {
      "text/html": [
       "<a id=\"Flux_Comparison\"></a>"
      ],
      "text/plain": [
       "<IPython.core.display.HTML object>"
      ]
     },
     "metadata": {},
     "output_type": "display_data"
    },
    {
     "data": {
      "text/markdown": [
       "# Flux Comparison"
      ],
      "text/plain": [
       "<IPython.core.display.Markdown object>"
      ]
     },
     "metadata": {},
     "output_type": "display_data"
    },
    {
     "data": {
      "text/html": [
       "<div>\n",
       "<style>\n",
       "    .dataframe thead tr:only-child th {\n",
       "        text-align: right;\n",
       "    }\n",
       "\n",
       "    .dataframe thead th {\n",
       "        text-align: left;\n",
       "    }\n",
       "\n",
       "    .dataframe tbody tr th {\n",
       "        vertical-align: top;\n",
       "    }\n",
       "</style>\n",
       "<table border=\"1\" class=\"dataframe\">\n",
       "  <thead>\n",
       "    <tr style=\"text-align: right;\">\n",
       "      <th></th>\n",
       "      <th></th>\n",
       "      <th>flug</th>\n",
       "      <th>fldg</th>\n",
       "      <th>fnetg</th>\n",
       "    </tr>\n",
       "    <tr>\n",
       "      <th>pressure</th>\n",
       "      <th>level</th>\n",
       "      <th></th>\n",
       "      <th></th>\n",
       "      <th></th>\n",
       "    </tr>\n",
       "  </thead>\n",
       "  <tbody>\n",
       "    <tr>\n",
       "      <th>0.0000</th>\n",
       "      <th>1</th>\n",
       "      <td>-25.633130</td>\n",
       "      <td>0.000000</td>\n",
       "      <td>-25.633130</td>\n",
       "    </tr>\n",
       "    <tr>\n",
       "      <th>1.0685</th>\n",
       "      <th>24</th>\n",
       "      <td>-25.641956</td>\n",
       "      <td>0.053609</td>\n",
       "      <td>-25.588347</td>\n",
       "    </tr>\n",
       "    <tr>\n",
       "      <th>1013.0000</th>\n",
       "      <th>76</th>\n",
       "      <td>-32.637543</td>\n",
       "      <td>15.505082</td>\n",
       "      <td>-17.132461</td>\n",
       "    </tr>\n",
       "  </tbody>\n",
       "</table>\n",
       "</div>"
      ],
      "text/plain": [
       "                      flug       fldg      fnetg\n",
       "pressure  level                                 \n",
       "0.0000    1     -25.633130   0.000000 -25.633130\n",
       "1.0685    24    -25.641956   0.053609 -25.588347\n",
       "1013.0000 76    -32.637543  15.505082 -17.132461"
      ]
     },
     "metadata": {},
     "output_type": "display_data"
    },
    {
     "name": "stdout",
     "output_type": "stream",
     "text": [
      "Table. Fluxes. WGT igg=10 wgt_flux=1\n"
     ]
    },
    {
     "data": {
      "text/html": [
       "<div>\n",
       "<style>\n",
       "    .dataframe thead tr:only-child th {\n",
       "        text-align: right;\n",
       "    }\n",
       "\n",
       "    .dataframe thead th {\n",
       "        text-align: left;\n",
       "    }\n",
       "\n",
       "    .dataframe tbody tr th {\n",
       "        vertical-align: top;\n",
       "    }\n",
       "</style>\n",
       "<table border=\"1\" class=\"dataframe\">\n",
       "  <thead>\n",
       "    <tr style=\"text-align: right;\">\n",
       "      <th></th>\n",
       "      <th></th>\n",
       "      <th>flug</th>\n",
       "      <th>fldg</th>\n",
       "      <th>fnetg</th>\n",
       "    </tr>\n",
       "    <tr>\n",
       "      <th>pressure</th>\n",
       "      <th>level</th>\n",
       "      <th></th>\n",
       "      <th></th>\n",
       "      <th></th>\n",
       "    </tr>\n",
       "  </thead>\n",
       "  <tbody>\n",
       "    <tr>\n",
       "      <th>0.0000</th>\n",
       "      <th>1</th>\n",
       "      <td>-25.965323</td>\n",
       "      <td>0.000000</td>\n",
       "      <td>-25.965323</td>\n",
       "    </tr>\n",
       "    <tr>\n",
       "      <th>1.0685</th>\n",
       "      <th>24</th>\n",
       "      <td>-25.974140</td>\n",
       "      <td>0.055739</td>\n",
       "      <td>-25.918400</td>\n",
       "    </tr>\n",
       "    <tr>\n",
       "      <th>1013.0000</th>\n",
       "      <th>76</th>\n",
       "      <td>-32.637543</td>\n",
       "      <td>15.233707</td>\n",
       "      <td>-17.403836</td>\n",
       "    </tr>\n",
       "  </tbody>\n",
       "</table>\n",
       "</div>"
      ],
      "text/plain": [
       "                      flug       fldg      fnetg\n",
       "pressure  level                                 \n",
       "0.0000    1     -25.965323   0.000000 -25.965323\n",
       "1.0685    24    -25.974140   0.055739 -25.918400\n",
       "1013.0000 76    -32.637543  15.233707 -17.403836"
      ]
     },
     "metadata": {},
     "output_type": "display_data"
    },
    {
     "name": "stdout",
     "output_type": "stream",
     "text": [
      "Table. Fluxes. CRD\n"
     ]
    },
    {
     "data": {
      "text/html": [
       "<div>\n",
       "<style>\n",
       "    .dataframe thead tr:only-child th {\n",
       "        text-align: right;\n",
       "    }\n",
       "\n",
       "    .dataframe thead th {\n",
       "        text-align: left;\n",
       "    }\n",
       "\n",
       "    .dataframe tbody tr th {\n",
       "        vertical-align: top;\n",
       "    }\n",
       "</style>\n",
       "<table border=\"1\" class=\"dataframe\">\n",
       "  <thead>\n",
       "    <tr style=\"text-align: right;\">\n",
       "      <th></th>\n",
       "      <th></th>\n",
       "      <th>flug</th>\n",
       "      <th>fldg</th>\n",
       "      <th>fnetg</th>\n",
       "    </tr>\n",
       "    <tr>\n",
       "      <th>pressure</th>\n",
       "      <th>level</th>\n",
       "      <th></th>\n",
       "      <th></th>\n",
       "      <th></th>\n",
       "    </tr>\n",
       "  </thead>\n",
       "  <tbody>\n",
       "    <tr>\n",
       "      <th>1.000000e-08</th>\n",
       "      <th>1</th>\n",
       "      <td>-25.676250</td>\n",
       "      <td>9.536743e-07</td>\n",
       "      <td>-25.676250</td>\n",
       "    </tr>\n",
       "    <tr>\n",
       "      <th>1.068500e+00</th>\n",
       "      <th>24</th>\n",
       "      <td>-25.684753</td>\n",
       "      <td>5.229711e-02</td>\n",
       "      <td>-25.632456</td>\n",
       "    </tr>\n",
       "    <tr>\n",
       "      <th>1.013000e+03</th>\n",
       "      <th>76</th>\n",
       "      <td>-32.637539</td>\n",
       "      <td>1.564469e+01</td>\n",
       "      <td>-16.992853</td>\n",
       "    </tr>\n",
       "  </tbody>\n",
       "</table>\n",
       "</div>"
      ],
      "text/plain": [
       "                         flug          fldg      fnetg\n",
       "pressure     level                                    \n",
       "1.000000e-08 1     -25.676250  9.536743e-07 -25.676250\n",
       "1.068500e+00 24    -25.684753  5.229711e-02 -25.632456\n",
       "1.013000e+03 76    -32.637539  1.564469e+01 -16.992853"
      ]
     },
     "metadata": {},
     "output_type": "display_data"
    },
    {
     "name": "stdout",
     "output_type": "stream",
     "text": [
      "Table. Fluxes. CLIRAD\n"
     ]
    },
    {
     "data": {
      "text/html": [
       "<div>\n",
       "<style>\n",
       "    .dataframe thead tr:only-child th {\n",
       "        text-align: right;\n",
       "    }\n",
       "\n",
       "    .dataframe thead th {\n",
       "        text-align: left;\n",
       "    }\n",
       "\n",
       "    .dataframe tbody tr th {\n",
       "        vertical-align: top;\n",
       "    }\n",
       "</style>\n",
       "<table border=\"1\" class=\"dataframe\">\n",
       "  <thead>\n",
       "    <tr style=\"text-align: right;\">\n",
       "      <th></th>\n",
       "      <th></th>\n",
       "      <th>flug</th>\n",
       "      <th>fldg</th>\n",
       "      <th>fnetg</th>\n",
       "    </tr>\n",
       "    <tr>\n",
       "      <th>pressure</th>\n",
       "      <th>level</th>\n",
       "      <th></th>\n",
       "      <th></th>\n",
       "      <th></th>\n",
       "    </tr>\n",
       "  </thead>\n",
       "  <tbody>\n",
       "    <tr>\n",
       "      <th>0.0000</th>\n",
       "      <th>1</th>\n",
       "      <td>-3.321926e-01</td>\n",
       "      <td>0.000000</td>\n",
       "      <td>-0.332193</td>\n",
       "    </tr>\n",
       "    <tr>\n",
       "      <th>1.0685</th>\n",
       "      <th>24</th>\n",
       "      <td>-3.321845e-01</td>\n",
       "      <td>0.002130</td>\n",
       "      <td>-0.330053</td>\n",
       "    </tr>\n",
       "    <tr>\n",
       "      <th>1013.0000</th>\n",
       "      <th>76</th>\n",
       "      <td>-3.300000e-07</td>\n",
       "      <td>-0.271375</td>\n",
       "      <td>-0.271375</td>\n",
       "    </tr>\n",
       "  </tbody>\n",
       "</table>\n",
       "</div>"
      ],
      "text/plain": [
       "                         flug      fldg     fnetg\n",
       "pressure  level                                  \n",
       "0.0000    1     -3.321926e-01  0.000000 -0.332193\n",
       "1.0685    24    -3.321845e-01  0.002130 -0.330053\n",
       "1013.0000 76    -3.300000e-07 -0.271375 -0.271375"
      ]
     },
     "metadata": {},
     "output_type": "display_data"
    },
    {
     "name": "stdout",
     "output_type": "stream",
     "text": [
      "Table. Fluxes. (CRD) - (WGT igg=10 wgt_flux=1)\n"
     ]
    },
    {
     "data": {
      "text/html": [
       "<div>\n",
       "<style>\n",
       "    .dataframe thead tr:only-child th {\n",
       "        text-align: right;\n",
       "    }\n",
       "\n",
       "    .dataframe thead th {\n",
       "        text-align: left;\n",
       "    }\n",
       "\n",
       "    .dataframe tbody tr th {\n",
       "        vertical-align: top;\n",
       "    }\n",
       "</style>\n",
       "<table border=\"1\" class=\"dataframe\">\n",
       "  <thead>\n",
       "    <tr style=\"text-align: right;\">\n",
       "      <th></th>\n",
       "      <th></th>\n",
       "      <th>flug</th>\n",
       "      <th>fldg</th>\n",
       "      <th>fnetg</th>\n",
       "    </tr>\n",
       "    <tr>\n",
       "      <th>pressure</th>\n",
       "      <th>level</th>\n",
       "      <th></th>\n",
       "      <th></th>\n",
       "      <th></th>\n",
       "    </tr>\n",
       "  </thead>\n",
       "  <tbody>\n",
       "    <tr>\n",
       "      <th>0.0000</th>\n",
       "      <th>1</th>\n",
       "      <td>-0.043120</td>\n",
       "      <td>9.536743e-07</td>\n",
       "      <td>-0.043120</td>\n",
       "    </tr>\n",
       "    <tr>\n",
       "      <th>1.0685</th>\n",
       "      <th>24</th>\n",
       "      <td>-0.042797</td>\n",
       "      <td>-1.311639e-03</td>\n",
       "      <td>-0.044109</td>\n",
       "    </tr>\n",
       "    <tr>\n",
       "      <th>1013.0000</th>\n",
       "      <th>76</th>\n",
       "      <td>0.000004</td>\n",
       "      <td>1.396036e-01</td>\n",
       "      <td>0.139608</td>\n",
       "    </tr>\n",
       "  </tbody>\n",
       "</table>\n",
       "</div>"
      ],
      "text/plain": [
       "                     flug          fldg     fnetg\n",
       "pressure  level                                  \n",
       "0.0000    1     -0.043120  9.536743e-07 -0.043120\n",
       "1.0685    24    -0.042797 -1.311639e-03 -0.044109\n",
       "1013.0000 76     0.000004  1.396036e-01  0.139608"
      ]
     },
     "metadata": {},
     "output_type": "display_data"
    },
    {
     "name": "stdout",
     "output_type": "stream",
     "text": [
      "Table. Fluxes. (CLIRAD) - (WGT igg=10 wgt_flux=1)\n"
     ]
    },
    {
     "data": {
      "text/html": [
       "<a id=\"Best-fit_Parameters\"></a>"
      ],
      "text/plain": [
       "<IPython.core.display.HTML object>"
      ]
     },
     "metadata": {},
     "output_type": "display_data"
    },
    {
     "data": {
      "text/markdown": [
       "# Best-fit Parameters"
      ],
      "text/plain": [
       "<IPython.core.display.Markdown object>"
      ]
     },
     "metadata": {},
     "output_type": "display_data"
    },
    {
     "name": "stdout",
     "output_type": "stream",
     "text": [
      "Best-fit values for each (gas, band)\n",
      "------------------------------------\n",
      "o co2 band3c\n",
      "  molecule = co2\n",
      "  band = 3c\n",
      "  commitnumber = d62b618\n",
      "  vmin = 720\n",
      "  vmax = 800\n",
      "  dv = 0.001\n",
      "  nv = 1000\n",
      "  ref_pts = [(1, 250), (10, 250), (500, 250)]\n",
      "  ng_refs = [3, 2, 4]\n",
      "  ng_adju = [0, 0, 0]\n",
      "  klin = 6.375563e-24\n",
      "  option_wgt_k = 1\n",
      "  wgt = [(0.6, 0.4, 0.7), (0.7, 0.4), (0.3, 0.4, 0.85, 0.9)]\n",
      "  w_diffuse = [(1.7, 1.6, 1.8), (1.8, 1.7), (1.5, 1.6, 1.7, 1.8)]\n",
      "  option_wgt_flux = 1\n",
      "  atmpro = mls\n",
      "  tsfc = 294\n",
      "  conc = 0.0004\n",
      "  option_compute_btable = 0\n",
      "  option_compute_ktable = 1\n"
     ]
    }
   ],
   "source": [
    "script()"
   ]
  },
  {
   "cell_type": "code",
   "execution_count": 13,
   "metadata": {},
   "outputs": [
    {
     "data": {
      "text/html": [
       "<script>\n",
       "code_show=true; \n",
       "function code_toggle() {\n",
       " if (code_show){\n",
       " $('div.input').hide();\n",
       " } else {\n",
       " $('div.input').show();\n",
       " }\n",
       " code_show = !code_show\n",
       "} \n",
       "$( document ).ready(code_toggle);\n",
       "</script>\n",
       "<form action=\"javascript:code_toggle()\"><input type=\"submit\" value=\"Click here to toggle on/off the raw code.\"></form>"
      ],
      "text/plain": [
       "<IPython.core.display.HTML object>"
      ]
     },
     "execution_count": 13,
     "metadata": {},
     "output_type": "execute_result"
    }
   ],
   "source": [
    "display.HTML('''<script>\n",
    "code_show=true; \n",
    "function code_toggle() {\n",
    " if (code_show){\n",
    " $('div.input').hide();\n",
    " } else {\n",
    " $('div.input').show();\n",
    " }\n",
    " code_show = !code_show\n",
    "} \n",
    "$( document ).ready(code_toggle);\n",
    "</script>\n",
    "<form action=\"javascript:code_toggle()\"><input type=\"submit\" value=\"Click here to toggle on/off the raw code.\"></form>''')"
   ]
  }
 ],
 "metadata": {
  "kernelspec": {
   "display_name": "Python 3",
   "language": "python",
   "name": "python3"
  },
  "language_info": {
   "codemirror_mode": {
    "name": "ipython",
    "version": 3
   },
   "file_extension": ".py",
   "mimetype": "text/x-python",
   "name": "python",
   "nbconvert_exporter": "python",
   "pygments_lexer": "ipython3",
   "version": "3.6.1"
  }
 },
 "nbformat": 4,
 "nbformat_minor": 2
}
