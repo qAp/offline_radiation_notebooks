{
 "cells": [
  {
   "cell_type": "code",
   "execution_count": 1,
   "metadata": {
    "collapsed": true
   },
   "outputs": [],
   "source": [
    "%matplotlib inline\n",
    "import os\n",
    "import re\n",
    "import io\n",
    "import itertools\n",
    "import pprint\n",
    "\n",
    "from bokeh.io import output_notebook, show\n",
    "from bokeh.layouts import gridplot\n",
    "from bokeh.plotting import figure\n",
    "from bokeh.models import Range1d, Legend\n",
    "from bokeh.palettes import all_palettes\n",
    "\n",
    "import matplotlib\n",
    "import matplotlib.pyplot as plt\n",
    "import numpy as np\n",
    "import pandas as pd\n",
    "import xarray as xr\n",
    "\n",
    "import climatools.lblnew.bestfit_params as bestfits\n",
    "from climatools.lblnew import setup_bestfit, setup_overlap\n",
    "import climatools.lblnew.pipeline as pipe_lblnew\n",
    "import climatools.cliradlw.setup as setup_cliradlw\n",
    "import climatools.cliradlw.pipeline as pipe_cliradlw\n",
    "\n",
    "import climatools.html.html as climahtml\n",
    "from climatools.lblnew.dataio import *\n",
    "from climatools.plot.plot import *\n",
    "\n",
    "\n",
    "import IPython.display as display"
   ]
  },
  {
   "cell_type": "code",
   "execution_count": 2,
   "metadata": {
    "collapsed": true
   },
   "outputs": [],
   "source": [
    "%run param.py"
   ]
  },
  {
   "cell_type": "code",
   "execution_count": 3,
   "metadata": {
    "collapsed": true
   },
   "outputs": [],
   "source": [
    "def load_output_file(path_csv):\n",
    "    '''\n",
    "    Load lblnew output .csv file to xarray.Dataset\n",
    "    \n",
    "    Parameters\n",
    "    ----------\n",
    "    path_csv: str\n",
    "              Path to the .csv file to be loaded.\n",
    "    ds: xarray.Dataset\n",
    "        Data in the input file in the form of an xarray.Dataset.\n",
    "    '''\n",
    "    toindex = ['band', 'pressure', 'igg', 'g']    \n",
    "    df = pd.read_csv(path_csv, sep=r'\\s+')\n",
    "    df = df.set_index([i for i in toindex if i in df.columns])\n",
    "    df = df.rename(columns={'sfu': 'flug',\n",
    "                            'sfd': 'fldg',\n",
    "                            'fnet': 'fnetg',\n",
    "                            'coolr': 'coolrg'})\n",
    "    ds = xr.Dataset.from_dataframe(df)\n",
    "\n",
    "    for l in ('level', 'layer'):\n",
    "        if l in ds.data_vars:\n",
    "            if len(ds[l].dims) > 1:\n",
    "                surface = {d: 0 for d in ds.dims if d != 'pressure'}\n",
    "                coord_level = ds[l][surface]\n",
    "                ds.coords[l] = ('pressure', coord_level)\n",
    "            else:\n",
    "                ds.coords[l] = ('pressure', ds[l])\n",
    "    \n",
    "    return ds"
   ]
  },
  {
   "cell_type": "code",
   "execution_count": 4,
   "metadata": {
    "collapsed": true
   },
   "outputs": [],
   "source": [
    "def lblnew_setup(param=None):\n",
    "    if 'ng_refs' in param:\n",
    "        return {'setup': setup_bestfit,\n",
    "                'fname_flux_crd': 'output_flux.dat',\n",
    "                'fname_cool_crd': 'output_coolr.dat',\n",
    "                'fname_flux_wgt': 'output_wfluxg.dat',\n",
    "                'fname_cool_wgt': 'output_wcoolrg.dat'}\n",
    "    else:\n",
    "        return {'setup': setup_overlap,\n",
    "                'fname_flux_crd': 'output_flux.dat',\n",
    "                'fname_cool_crd': 'output_coolr.dat',\n",
    "                'fname_flux_wgt': 'output_wflux.dat',\n",
    "                'fname_cool_wgt': 'output_wcoolr.dat'}\n",
    "\n",
    "    \n",
    "def load_lblnew_data(param):\n",
    "    \n",
    "    fname_dsname = [('fname_flux_crd', 'ds_flux_crd'),\n",
    "                    ('fname_cool_crd', 'ds_cool_crd'),\n",
    "                    ('fname_flux_wgt', 'ds_flux_wgt'),\n",
    "                    ('fname_cool_wgt', 'ds_cool_wgt')]\n",
    "    \n",
    "    d = lblnew_setup(param)\n",
    "    dir_fortran = pipe_lblnew.get_dir_case(param, setup=d['setup'])\n",
    "    \n",
    "    data_dict = {}\n",
    "    for fname, dsname in fname_dsname:\n",
    "        fpath = os.path.join(dir_fortran, d[fname])\n",
    "        data_dict[dsname] = load_output_file(fpath)\n",
    "    return data_dict\n",
    "    \n",
    "\n",
    "    \n",
    "    "
   ]
  },
  {
   "cell_type": "code",
   "execution_count": 5,
   "metadata": {
    "collapsed": true
   },
   "outputs": [],
   "source": [
    "d = load_lblnew_data(PARAM_LBLNEW)\n",
    "\n",
    "DS_FLUX_CRD = d['ds_flux_crd']\n",
    "DS_COOL_CRD = d['ds_cool_crd']\n",
    "DS_FLUX_WGT = d['ds_flux_wgt']\n",
    "DS_COOL_WGT = d['ds_cool_wgt']"
   ]
  },
  {
   "cell_type": "code",
   "execution_count": 6,
   "metadata": {
    "collapsed": true
   },
   "outputs": [],
   "source": [
    "DIR_FORTRAN = pipe_cliradlw.get_fortran_dir(PARAM, \n",
    "                                            setup=setup_cliradlw)\n",
    "\n",
    "PATH_FLUX = os.path.join(DIR_FORTRAN, 'output_flux.dat')\n",
    "PATH_COOL = os.path.join(DIR_FORTRAN, 'output_coolr.dat')\n",
    "\n",
    "DS_FLUX = load_output_file(PATH_FLUX)\n",
    "DS_COOL = load_output_file(PATH_COOL)"
   ]
  },
  {
   "cell_type": "code",
   "execution_count": 7,
   "metadata": {},
   "outputs": [
    {
     "data": {
      "text/html": [
       "\n",
       "    <div class=\"bk-root\">\n",
       "        <a href=\"https://bokeh.pydata.org\" target=\"_blank\" class=\"bk-logo bk-logo-small bk-logo-notebook\"></a>\n",
       "        <span id=\"4391c13f-e763-4eeb-89be-327780112eac\">Loading BokehJS ...</span>\n",
       "    </div>"
      ]
     },
     "metadata": {},
     "output_type": "display_data"
    },
    {
     "data": {
      "application/javascript": [
       "\n",
       "(function(root) {\n",
       "  function now() {\n",
       "    return new Date();\n",
       "  }\n",
       "\n",
       "  var force = true;\n",
       "\n",
       "  if (typeof (root._bokeh_onload_callbacks) === \"undefined\" || force === true) {\n",
       "    root._bokeh_onload_callbacks = [];\n",
       "    root._bokeh_is_loading = undefined;\n",
       "  }\n",
       "\n",
       "  var JS_MIME_TYPE = 'application/javascript';\n",
       "  var HTML_MIME_TYPE = 'text/html';\n",
       "  var EXEC_MIME_TYPE = 'application/vnd.bokehjs_exec.v0+json';\n",
       "  var CLASS_NAME = 'output_bokeh rendered_html';\n",
       "\n",
       "  /**\n",
       "   * Render data to the DOM node\n",
       "   */\n",
       "  function render(props, node) {\n",
       "    var script = document.createElement(\"script\");\n",
       "    node.appendChild(script);\n",
       "  }\n",
       "\n",
       "  /**\n",
       "   * Handle when an output is cleared or removed\n",
       "   */\n",
       "  function handleClearOutput(event, handle) {\n",
       "    var cell = handle.cell;\n",
       "\n",
       "    var id = cell.output_area._bokeh_element_id;\n",
       "    var server_id = cell.output_area._bokeh_server_id;\n",
       "    // Clean up Bokeh references\n",
       "    if (id !== undefined) {\n",
       "      Bokeh.index[id].model.document.clear();\n",
       "      delete Bokeh.index[id];\n",
       "    }\n",
       "\n",
       "    if (server_id !== undefined) {\n",
       "      // Clean up Bokeh references\n",
       "      var cmd = \"from bokeh.io.state import curstate; print(curstate().uuid_to_server['\" + server_id + \"'].get_sessions()[0].document.roots[0]._id)\";\n",
       "      cell.notebook.kernel.execute(cmd, {\n",
       "        iopub: {\n",
       "          output: function(msg) {\n",
       "            var element_id = msg.content.text.trim();\n",
       "            Bokeh.index[element_id].model.document.clear();\n",
       "            delete Bokeh.index[element_id];\n",
       "          }\n",
       "        }\n",
       "      });\n",
       "      // Destroy server and session\n",
       "      var cmd = \"import bokeh.io.notebook as ion; ion.destroy_server('\" + server_id + \"')\";\n",
       "      cell.notebook.kernel.execute(cmd);\n",
       "    }\n",
       "  }\n",
       "\n",
       "  /**\n",
       "   * Handle when a new output is added\n",
       "   */\n",
       "  function handleAddOutput(event, handle) {\n",
       "    var output_area = handle.output_area;\n",
       "    var output = handle.output;\n",
       "\n",
       "    // limit handleAddOutput to display_data with EXEC_MIME_TYPE content only\n",
       "    if ((output.output_type != \"display_data\") || (!output.data.hasOwnProperty(EXEC_MIME_TYPE))) {\n",
       "      return\n",
       "    }\n",
       "\n",
       "    var toinsert = output_area.element.find(\".\" + CLASS_NAME.split(' ')[0]);\n",
       "\n",
       "    if (output.metadata[EXEC_MIME_TYPE][\"id\"] !== undefined) {\n",
       "      toinsert[0].firstChild.textContent = output.data[JS_MIME_TYPE];\n",
       "      // store reference to embed id on output_area\n",
       "      output_area._bokeh_element_id = output.metadata[EXEC_MIME_TYPE][\"id\"];\n",
       "    }\n",
       "    if (output.metadata[EXEC_MIME_TYPE][\"server_id\"] !== undefined) {\n",
       "      var bk_div = document.createElement(\"div\");\n",
       "      bk_div.innerHTML = output.data[HTML_MIME_TYPE];\n",
       "      var script_attrs = bk_div.children[0].attributes;\n",
       "      for (var i = 0; i < script_attrs.length; i++) {\n",
       "        toinsert[0].firstChild.setAttribute(script_attrs[i].name, script_attrs[i].value);\n",
       "      }\n",
       "      // store reference to server id on output_area\n",
       "      output_area._bokeh_server_id = output.metadata[EXEC_MIME_TYPE][\"server_id\"];\n",
       "    }\n",
       "  }\n",
       "\n",
       "  function register_renderer(events, OutputArea) {\n",
       "\n",
       "    function append_mime(data, metadata, element) {\n",
       "      // create a DOM node to render to\n",
       "      var toinsert = this.create_output_subarea(\n",
       "        metadata,\n",
       "        CLASS_NAME,\n",
       "        EXEC_MIME_TYPE\n",
       "      );\n",
       "      this.keyboard_manager.register_events(toinsert);\n",
       "      // Render to node\n",
       "      var props = {data: data, metadata: metadata[EXEC_MIME_TYPE]};\n",
       "      render(props, toinsert[0]);\n",
       "      element.append(toinsert);\n",
       "      return toinsert\n",
       "    }\n",
       "\n",
       "    /* Handle when an output is cleared or removed */\n",
       "    events.on('clear_output.CodeCell', handleClearOutput);\n",
       "    events.on('delete.Cell', handleClearOutput);\n",
       "\n",
       "    /* Handle when a new output is added */\n",
       "    events.on('output_added.OutputArea', handleAddOutput);\n",
       "\n",
       "    /**\n",
       "     * Register the mime type and append_mime function with output_area\n",
       "     */\n",
       "    OutputArea.prototype.register_mime_type(EXEC_MIME_TYPE, append_mime, {\n",
       "      /* Is output safe? */\n",
       "      safe: true,\n",
       "      /* Index of renderer in `output_area.display_order` */\n",
       "      index: 0\n",
       "    });\n",
       "  }\n",
       "\n",
       "  // register the mime type if in Jupyter Notebook environment and previously unregistered\n",
       "  if (root.Jupyter !== undefined) {\n",
       "    var events = require('base/js/events');\n",
       "    var OutputArea = require('notebook/js/outputarea').OutputArea;\n",
       "\n",
       "    if (OutputArea.prototype.mime_types().indexOf(EXEC_MIME_TYPE) == -1) {\n",
       "      register_renderer(events, OutputArea);\n",
       "    }\n",
       "  }\n",
       "\n",
       "  \n",
       "  if (typeof (root._bokeh_timeout) === \"undefined\" || force === true) {\n",
       "    root._bokeh_timeout = Date.now() + 5000;\n",
       "    root._bokeh_failed_load = false;\n",
       "  }\n",
       "\n",
       "  var NB_LOAD_WARNING = {'data': {'text/html':\n",
       "     \"<div style='background-color: #fdd'>\\n\"+\n",
       "     \"<p>\\n\"+\n",
       "     \"BokehJS does not appear to have successfully loaded. If loading BokehJS from CDN, this \\n\"+\n",
       "     \"may be due to a slow or bad network connection. Possible fixes:\\n\"+\n",
       "     \"</p>\\n\"+\n",
       "     \"<ul>\\n\"+\n",
       "     \"<li>re-rerun `output_notebook()` to attempt to load from CDN again, or</li>\\n\"+\n",
       "     \"<li>use INLINE resources instead, as so:</li>\\n\"+\n",
       "     \"</ul>\\n\"+\n",
       "     \"<code>\\n\"+\n",
       "     \"from bokeh.resources import INLINE\\n\"+\n",
       "     \"output_notebook(resources=INLINE)\\n\"+\n",
       "     \"</code>\\n\"+\n",
       "     \"</div>\"}};\n",
       "\n",
       "  function display_loaded() {\n",
       "    var el = document.getElementById(\"4391c13f-e763-4eeb-89be-327780112eac\");\n",
       "    if (el != null) {\n",
       "      el.textContent = \"BokehJS is loading...\";\n",
       "    }\n",
       "    if (root.Bokeh !== undefined) {\n",
       "      if (el != null) {\n",
       "        el.textContent = \"BokehJS \" + root.Bokeh.version + \" successfully loaded.\";\n",
       "      }\n",
       "    } else if (Date.now() < root._bokeh_timeout) {\n",
       "      setTimeout(display_loaded, 100)\n",
       "    }\n",
       "  }\n",
       "\n",
       "\n",
       "  function run_callbacks() {\n",
       "    try {\n",
       "      root._bokeh_onload_callbacks.forEach(function(callback) { callback() });\n",
       "    }\n",
       "    finally {\n",
       "      delete root._bokeh_onload_callbacks\n",
       "    }\n",
       "    console.info(\"Bokeh: all callbacks have finished\");\n",
       "  }\n",
       "\n",
       "  function load_libs(js_urls, callback) {\n",
       "    root._bokeh_onload_callbacks.push(callback);\n",
       "    if (root._bokeh_is_loading > 0) {\n",
       "      console.log(\"Bokeh: BokehJS is being loaded, scheduling callback at\", now());\n",
       "      return null;\n",
       "    }\n",
       "    if (js_urls == null || js_urls.length === 0) {\n",
       "      run_callbacks();\n",
       "      return null;\n",
       "    }\n",
       "    console.log(\"Bokeh: BokehJS not loaded, scheduling load and callback at\", now());\n",
       "    root._bokeh_is_loading = js_urls.length;\n",
       "    for (var i = 0; i < js_urls.length; i++) {\n",
       "      var url = js_urls[i];\n",
       "      var s = document.createElement('script');\n",
       "      s.src = url;\n",
       "      s.async = false;\n",
       "      s.onreadystatechange = s.onload = function() {\n",
       "        root._bokeh_is_loading--;\n",
       "        if (root._bokeh_is_loading === 0) {\n",
       "          console.log(\"Bokeh: all BokehJS libraries loaded\");\n",
       "          run_callbacks()\n",
       "        }\n",
       "      };\n",
       "      s.onerror = function() {\n",
       "        console.warn(\"failed to load library \" + url);\n",
       "      };\n",
       "      console.log(\"Bokeh: injecting script tag for BokehJS library: \", url);\n",
       "      document.getElementsByTagName(\"head\")[0].appendChild(s);\n",
       "    }\n",
       "  };var element = document.getElementById(\"4391c13f-e763-4eeb-89be-327780112eac\");\n",
       "  if (element == null) {\n",
       "    console.log(\"Bokeh: ERROR: autoload.js configured with elementid '4391c13f-e763-4eeb-89be-327780112eac' but no matching script tag was found. \")\n",
       "    return false;\n",
       "  }\n",
       "\n",
       "  var js_urls = [\"https://cdn.pydata.org/bokeh/release/bokeh-0.12.14.min.js\", \"https://cdn.pydata.org/bokeh/release/bokeh-widgets-0.12.14.min.js\", \"https://cdn.pydata.org/bokeh/release/bokeh-tables-0.12.14.min.js\", \"https://cdn.pydata.org/bokeh/release/bokeh-gl-0.12.14.min.js\"];\n",
       "\n",
       "  var inline_js = [\n",
       "    function(Bokeh) {\n",
       "      Bokeh.set_log_level(\"info\");\n",
       "    },\n",
       "    \n",
       "    function(Bokeh) {\n",
       "      \n",
       "    },\n",
       "    function(Bokeh) {\n",
       "      console.log(\"Bokeh: injecting CSS: https://cdn.pydata.org/bokeh/release/bokeh-0.12.14.min.css\");\n",
       "      Bokeh.embed.inject_css(\"https://cdn.pydata.org/bokeh/release/bokeh-0.12.14.min.css\");\n",
       "      console.log(\"Bokeh: injecting CSS: https://cdn.pydata.org/bokeh/release/bokeh-widgets-0.12.14.min.css\");\n",
       "      Bokeh.embed.inject_css(\"https://cdn.pydata.org/bokeh/release/bokeh-widgets-0.12.14.min.css\");\n",
       "      console.log(\"Bokeh: injecting CSS: https://cdn.pydata.org/bokeh/release/bokeh-tables-0.12.14.min.css\");\n",
       "      Bokeh.embed.inject_css(\"https://cdn.pydata.org/bokeh/release/bokeh-tables-0.12.14.min.css\");\n",
       "    }\n",
       "  ];\n",
       "\n",
       "  function run_inline_js() {\n",
       "    \n",
       "    if ((root.Bokeh !== undefined) || (force === true)) {\n",
       "      for (var i = 0; i < inline_js.length; i++) {\n",
       "        inline_js[i].call(root, root.Bokeh);\n",
       "      }if (force === true) {\n",
       "        display_loaded();\n",
       "      }} else if (Date.now() < root._bokeh_timeout) {\n",
       "      setTimeout(run_inline_js, 100);\n",
       "    } else if (!root._bokeh_failed_load) {\n",
       "      console.log(\"Bokeh: BokehJS failed to load within specified timeout.\");\n",
       "      root._bokeh_failed_load = true;\n",
       "    } else if (force !== true) {\n",
       "      var cell = $(document.getElementById(\"4391c13f-e763-4eeb-89be-327780112eac\")).parents('.cell').data().cell;\n",
       "      cell.output_area.append_execute_result(NB_LOAD_WARNING)\n",
       "    }\n",
       "\n",
       "  }\n",
       "\n",
       "  if (root._bokeh_is_loading === 0) {\n",
       "    console.log(\"Bokeh: BokehJS loaded, going straight to plotting\");\n",
       "    run_inline_js();\n",
       "  } else {\n",
       "    load_libs(js_urls, function() {\n",
       "      console.log(\"Bokeh: BokehJS plotting callback run at\", now());\n",
       "      run_inline_js();\n",
       "    });\n",
       "  }\n",
       "}(window));"
      ],
      "application/vnd.bokehjs_load.v0+json": "\n(function(root) {\n  function now() {\n    return new Date();\n  }\n\n  var force = true;\n\n  if (typeof (root._bokeh_onload_callbacks) === \"undefined\" || force === true) {\n    root._bokeh_onload_callbacks = [];\n    root._bokeh_is_loading = undefined;\n  }\n\n  \n\n  \n  if (typeof (root._bokeh_timeout) === \"undefined\" || force === true) {\n    root._bokeh_timeout = Date.now() + 5000;\n    root._bokeh_failed_load = false;\n  }\n\n  var NB_LOAD_WARNING = {'data': {'text/html':\n     \"<div style='background-color: #fdd'>\\n\"+\n     \"<p>\\n\"+\n     \"BokehJS does not appear to have successfully loaded. If loading BokehJS from CDN, this \\n\"+\n     \"may be due to a slow or bad network connection. Possible fixes:\\n\"+\n     \"</p>\\n\"+\n     \"<ul>\\n\"+\n     \"<li>re-rerun `output_notebook()` to attempt to load from CDN again, or</li>\\n\"+\n     \"<li>use INLINE resources instead, as so:</li>\\n\"+\n     \"</ul>\\n\"+\n     \"<code>\\n\"+\n     \"from bokeh.resources import INLINE\\n\"+\n     \"output_notebook(resources=INLINE)\\n\"+\n     \"</code>\\n\"+\n     \"</div>\"}};\n\n  function display_loaded() {\n    var el = document.getElementById(\"4391c13f-e763-4eeb-89be-327780112eac\");\n    if (el != null) {\n      el.textContent = \"BokehJS is loading...\";\n    }\n    if (root.Bokeh !== undefined) {\n      if (el != null) {\n        el.textContent = \"BokehJS \" + root.Bokeh.version + \" successfully loaded.\";\n      }\n    } else if (Date.now() < root._bokeh_timeout) {\n      setTimeout(display_loaded, 100)\n    }\n  }\n\n\n  function run_callbacks() {\n    try {\n      root._bokeh_onload_callbacks.forEach(function(callback) { callback() });\n    }\n    finally {\n      delete root._bokeh_onload_callbacks\n    }\n    console.info(\"Bokeh: all callbacks have finished\");\n  }\n\n  function load_libs(js_urls, callback) {\n    root._bokeh_onload_callbacks.push(callback);\n    if (root._bokeh_is_loading > 0) {\n      console.log(\"Bokeh: BokehJS is being loaded, scheduling callback at\", now());\n      return null;\n    }\n    if (js_urls == null || js_urls.length === 0) {\n      run_callbacks();\n      return null;\n    }\n    console.log(\"Bokeh: BokehJS not loaded, scheduling load and callback at\", now());\n    root._bokeh_is_loading = js_urls.length;\n    for (var i = 0; i < js_urls.length; i++) {\n      var url = js_urls[i];\n      var s = document.createElement('script');\n      s.src = url;\n      s.async = false;\n      s.onreadystatechange = s.onload = function() {\n        root._bokeh_is_loading--;\n        if (root._bokeh_is_loading === 0) {\n          console.log(\"Bokeh: all BokehJS libraries loaded\");\n          run_callbacks()\n        }\n      };\n      s.onerror = function() {\n        console.warn(\"failed to load library \" + url);\n      };\n      console.log(\"Bokeh: injecting script tag for BokehJS library: \", url);\n      document.getElementsByTagName(\"head\")[0].appendChild(s);\n    }\n  };var element = document.getElementById(\"4391c13f-e763-4eeb-89be-327780112eac\");\n  if (element == null) {\n    console.log(\"Bokeh: ERROR: autoload.js configured with elementid '4391c13f-e763-4eeb-89be-327780112eac' but no matching script tag was found. \")\n    return false;\n  }\n\n  var js_urls = [\"https://cdn.pydata.org/bokeh/release/bokeh-0.12.14.min.js\", \"https://cdn.pydata.org/bokeh/release/bokeh-widgets-0.12.14.min.js\", \"https://cdn.pydata.org/bokeh/release/bokeh-tables-0.12.14.min.js\", \"https://cdn.pydata.org/bokeh/release/bokeh-gl-0.12.14.min.js\"];\n\n  var inline_js = [\n    function(Bokeh) {\n      Bokeh.set_log_level(\"info\");\n    },\n    \n    function(Bokeh) {\n      \n    },\n    function(Bokeh) {\n      console.log(\"Bokeh: injecting CSS: https://cdn.pydata.org/bokeh/release/bokeh-0.12.14.min.css\");\n      Bokeh.embed.inject_css(\"https://cdn.pydata.org/bokeh/release/bokeh-0.12.14.min.css\");\n      console.log(\"Bokeh: injecting CSS: https://cdn.pydata.org/bokeh/release/bokeh-widgets-0.12.14.min.css\");\n      Bokeh.embed.inject_css(\"https://cdn.pydata.org/bokeh/release/bokeh-widgets-0.12.14.min.css\");\n      console.log(\"Bokeh: injecting CSS: https://cdn.pydata.org/bokeh/release/bokeh-tables-0.12.14.min.css\");\n      Bokeh.embed.inject_css(\"https://cdn.pydata.org/bokeh/release/bokeh-tables-0.12.14.min.css\");\n    }\n  ];\n\n  function run_inline_js() {\n    \n    if ((root.Bokeh !== undefined) || (force === true)) {\n      for (var i = 0; i < inline_js.length; i++) {\n        inline_js[i].call(root, root.Bokeh);\n      }if (force === true) {\n        display_loaded();\n      }} else if (Date.now() < root._bokeh_timeout) {\n      setTimeout(run_inline_js, 100);\n    } else if (!root._bokeh_failed_load) {\n      console.log(\"Bokeh: BokehJS failed to load within specified timeout.\");\n      root._bokeh_failed_load = true;\n    } else if (force !== true) {\n      var cell = $(document.getElementById(\"4391c13f-e763-4eeb-89be-327780112eac\")).parents('.cell').data().cell;\n      cell.output_area.append_execute_result(NB_LOAD_WARNING)\n    }\n\n  }\n\n  if (root._bokeh_is_loading === 0) {\n    console.log(\"Bokeh: BokehJS loaded, going straight to plotting\");\n    run_inline_js();\n  } else {\n    load_libs(js_urls, function() {\n      console.log(\"Bokeh: BokehJS plotting callback run at\", now());\n      run_inline_js();\n    });\n  }\n}(window));"
     },
     "metadata": {},
     "output_type": "display_data"
    }
   ],
   "source": [
    "output_notebook()"
   ]
  },
  {
   "cell_type": "code",
   "execution_count": 8,
   "metadata": {
    "collapsed": true
   },
   "outputs": [],
   "source": [
    "def fmt_cool(ds_in):\n",
    "    ds = ds_in.copy(deep=True)\n",
    "    if 'igg' in ds.dims:\n",
    "        ds = ds.sel(igg=1)\n",
    "\n",
    "    if 'g' in ds.dims:\n",
    "        ds = ds.sum('g')\n",
    "            \n",
    "    if 'band' in ds.dims:\n",
    "        try:\n",
    "            ds = ds.squeeze('band')\n",
    "        except ValueError:\n",
    "            ds = ds.sum('band')\n",
    "                \n",
    "    return ds['coolrg']\n",
    "\n",
    "\n",
    "def pltdata_cooling_1(ds_cool=None,\n",
    "                      ds_cool_crd=None, ds_cool_wgt=None):\n",
    "    \n",
    "\n",
    "\n",
    "    colors = all_palettes['Set1'][4]\n",
    "    data = [{'label': 'CLIRAD `coolr_bands`',\n",
    "             'srs': fmt_cool(ds_cool),\n",
    "             'line_dash': 'dashed', 'line_width': 5,\n",
    "             'color': colors[0], 'alpha': .6},\n",
    "            {'label': 'CRD',\n",
    "             'srs': fmt_cool(ds_cool_crd),\n",
    "             'line_dash': 'solid', 'line_width': 1.5,\n",
    "             'marker': 'circle', 'marker_size': 5,\n",
    "             'color': colors[2], 'alpha': 1,},\n",
    "            {'label': 'WGT igg=10 wgt_flux=2',\n",
    "             'srs': fmt_cool(ds_cool_wgt),\n",
    "             'line_dash': 'solid', 'line_width': 3,\n",
    "             'marker': 'square', 'marker_size': 5,\n",
    "             'color': colors[3], 'alpha': .6}]\n",
    "    return data\n",
    "\n",
    "\n",
    "def nice_xlims(pltdata=None, prange=None):\n",
    "    \n",
    "    def get_slice(srs):\n",
    "        return srs.sel(pressure=slice(*prange))\n",
    "    \n",
    "    srss = [d['srs'] for d in pltdata]\n",
    "    vmin = min([get_slice(srs).min() for srs in srss])\n",
    "    vmax = max([get_slice(srs).max() for srs in srss])\n",
    "    dv = (vmax - vmin) * .01\n",
    "    return float(vmin - dv), float(vmax + dv)\n",
    "    \n",
    "\n",
    "def plt_cooling_bokeh(pltdata=None):\n",
    "    '''\n",
    "    Plot a list of cooling rate profiles using bokeh.\n",
    "    '''\n",
    "    ymin = 1e-2 \n",
    "    ymax = 1020 \n",
    "        \n",
    "    p1 = figure(title=\"Linear pressure scale\", \n",
    "                plot_width=400)        \n",
    "    xmin, xmax = nice_xlims(pltdata, prange=(50, 1050))\n",
    "    for d in pltdata:\n",
    "        if 'marker' in d:\n",
    "            getattr(p1, d['marker'])(d['srs'].values, \n",
    "                    d['srs'].coords['pressure'].values,\n",
    "                    color=d['color'], alpha=.7)\n",
    "        p1.line(d['srs'].values, \n",
    "                d['srs'].coords['pressure'].values,\n",
    "                color=d['color'], alpha=d['alpha'], \n",
    "                line_width=d['line_width'], line_dash=d['line_dash'])\n",
    "    \n",
    "    p1.y_range = Range1d(ymax, ymin)\n",
    "    p1.yaxis.axis_label = 'pressure [mb]'   \n",
    "    p1.x_range = Range1d(xmin, xmax)\n",
    "    p1.xaxis.axis_label = 'cooling rate [K/day]'\n",
    "            \n",
    "    p2 = figure(title='Log pressure scale', y_axis_type='log',\n",
    "                plot_width=560)\n",
    "    xmin, xmax = nice_xlims(pltdata, prange=(.01, 200))\n",
    "    \n",
    "    rs = []\n",
    "    for d in pltdata:\n",
    "        rd = []\n",
    "        if 'marker' in d:\n",
    "            r_mark = getattr(p2, d['marker'])(d['srs'].values, \n",
    "                        d['srs'].coords['pressure'].values,\n",
    "                        color=d['color'], alpha=.7)\n",
    "            rd.append(r_mark)\n",
    "        r_line = p2.line(d['srs'].values, \n",
    "                    d['srs'].coords['pressure'].values,\n",
    "                    color=d['color'], alpha=d['alpha'], \n",
    "                    line_width=d['line_width'], line_dash=d['line_dash'])\n",
    "        rd.append(r_line)\n",
    "      \n",
    "        rs.append(rd)\n",
    "        \n",
    "    p2.y_range = Range1d(ymax, ymin)  \n",
    "    p2.yaxis.axis_label = 'pressure [mb]'\n",
    "    \n",
    "    p2.x_range = Range1d(xmin, xmax)\n",
    "    p2.xaxis.axis_label = 'cooling rate [K/day]'\n",
    "    \n",
    "    items = [(d['label'], r) for r, d in zip(rs, pltdata)]\n",
    "    legend = Legend(items=items, location=(10, -30))\n",
    "    legend.label_text_font_size = '8pt'\n",
    "    \n",
    "    p2.add_layout(legend, 'right')  \n",
    "    \n",
    "    show(gridplot(p1, p2, ncols=2, plot_height=500))\n",
    "    \n",
    "\n",
    "def script_plt_cooling():\n",
    "    pltdata = pltdata_cooling_1(\n",
    "        ds_cool=DS_COOL,\n",
    "        ds_cool_crd=DS_COOL_CRD,\n",
    "        ds_cool_wgt=DS_COOL_WGT)\n",
    "    plt_cooling_bokeh(pltdata=pltdata)\n",
    "    print('''FIGURE. Cooling rate profiles.''')"
   ]
  },
  {
   "cell_type": "code",
   "execution_count": 9,
   "metadata": {
    "collapsed": true
   },
   "outputs": [],
   "source": [
    "def fmt_flux(ds_in):\n",
    "    ds = ds_in.copy(deep=True)\n",
    "    \n",
    "    for l in ('level', 'layer'):\n",
    "        if l in ds.data_vars:\n",
    "            if len(ds[l].dims) > 1:\n",
    "                surface = {d: 0 for d in ds.dims if d != 'pressure'}\n",
    "                coord_level = ds[l][surface]\n",
    "                ds.coords[l] = ('pressure', coord_level)\n",
    "            else:\n",
    "                ds.coords[l] = ('pressure', ds[l])\n",
    "        \n",
    "    ds = ds.isel(pressure=[0, 23, -1])\n",
    "        \n",
    "    if 'igg' in ds.dims:\n",
    "        ds = ds.sel(igg=[1])\n",
    "        ds = ds.squeeze('igg').drop('igg')\n",
    "    \n",
    "    if 'g' in ds.dims:\n",
    "        ds = ds.sum('g')\n",
    "            \n",
    "    if 'band' in ds.dims:\n",
    "        try:\n",
    "            ds = ds.squeeze('band').drop('band')\n",
    "        except ValueError:\n",
    "            ds = ds.sum('band')\n",
    "                \n",
    "    df = ds.to_dataframe()\n",
    "    df = df.set_index('level', append=True)               \n",
    "    return df\n",
    "\n",
    "\n",
    "def tbdata_flux(ds_flux=None, ds_flux_crd=None, ds_flux_wgt=None):\n",
    "    ilevels = [0, 23, -1]\n",
    "            \n",
    "    benchmark = {'label': 'WGT igg=10 wgt_flux=1',\n",
    "                 'df': fmt_flux(ds_flux_wgt)}\n",
    "    \n",
    "    tbs = [{'label': 'CRD',\n",
    "            'df': fmt_flux(ds_flux_crd)},\n",
    "           {'label': 'CLIRAD',\n",
    "            'df': fmt_flux(ds_flux)}]\n",
    "    \n",
    "    data = {'benchmark': benchmark, 'others': tbs}\n",
    "    return data\n",
    "\n",
    "\n",
    "def tb_flux(tbdata=None):\n",
    "    benchmark = tbdata['benchmark']\n",
    "    others = tbdata['others']\n",
    "    \n",
    "    def show_tb(d=None):\n",
    "        display.display(d['df'])\n",
    "        print('Table.', 'Fluxes.', d['label'])\n",
    "        \n",
    "    def show_tbdiff(d0=None, d=None):\n",
    "        df = d['df']\n",
    "        df.index = d0['df'].index\n",
    "        display.display(df - d0['df'])\n",
    "        print('Table.', 'Fluxes.', \n",
    "              '({}) - ({})'.format(d['label'], d0['label']))\n",
    "        \n",
    "    show_tb(benchmark)\n",
    "    for d in others:\n",
    "        show_tb(d)\n",
    "        \n",
    "    for d in others:\n",
    "        show_tbdiff(d=d, d0=benchmark)\n",
    "        \n",
    "        \n",
    "def script_tb_flux():\n",
    "    data = tbdata_flux(ds_flux=DS_FLUX,\n",
    "                       ds_flux_crd=DS_FLUX_CRD,\n",
    "                       ds_flux_wgt=DS_FLUX_WGT)\n",
    "    tb_flux(tbdata=data)"
   ]
  },
  {
   "cell_type": "code",
   "execution_count": 10,
   "metadata": {
    "collapsed": true
   },
   "outputs": [],
   "source": [
    "def band_map():\n",
    "    '''\n",
    "    Maps spectral bands in lblnew to spectral bands in clirad.\n",
    "    '''\n",
    "    lblnew2clirad = {'1': '1',\n",
    "            '2': '2',\n",
    "            '3a': '3',\n",
    "            '3b': '4',\n",
    "            '3c': '5',\n",
    "            '4': '6', \n",
    "            '5': '7',\n",
    "            '6': '8',\n",
    "            '7': '9', \n",
    "            '8': '10',\n",
    "            '9': '11'}\n",
    "    \n",
    "    clirad2lblnew = {clirad: lblnew \n",
    "                     for lblnew, clirad in lblnew2clirad.items()}\n",
    "    return clirad2lblnew\n",
    "\n",
    "\n",
    "def gasbands():\n",
    "    bmap = band_map()\n",
    "    gases = list(PARAM['molecule'].keys())\n",
    "    \n",
    "    bands = [bmap[str(b)] for b in PARAM['band']]\n",
    "    return list(itertools.product(gases, bands))\n",
    "\n",
    "\n",
    "def print_bestfit_params():\n",
    "    print('Best-fit values for each (gas, band)')\n",
    "    print('------------------------------------')\n",
    "    for gas, band in gasbands():\n",
    "        print('o {} band{}'.format(gas, band))\n",
    "        param = bestfits.kdist_params(molecule=gas, band=band)\n",
    "        for name, value in param.items():\n",
    "            print(2 * ' ' + '{} = {}'.format(name, value))\n",
    "\n",
    "        \n",
    "def print_input_param():        \n",
    "    for name, value in PARAM.items():\n",
    "        print('{} = {}'.format(name, value))\n",
    "        \n",
    "        \n",
    "def print_lblnew_param():\n",
    "    for name, value in PARAM_LBLNEW.items():\n",
    "        print('{} = {}'.format(name, value))\n"
   ]
  },
  {
   "cell_type": "code",
   "execution_count": 11,
   "metadata": {
    "collapsed": true,
    "scrolled": false
   },
   "outputs": [],
   "source": [
    "def show_html(s):\n",
    "    display.display(display.HTML(s))\n",
    "\n",
    "    \n",
    "def show_markdown(s):\n",
    "    display.display(display.Markdown(s))\n",
    "\n",
    "    \n",
    "def script():\n",
    "    \n",
    "    title = '### CLIRAD-LW'\n",
    "    s_input = 'Input Parameters'\n",
    "    s_lblnew_param = 'LBLNEW case compaired against'\n",
    "    s_bestfits = 'Best-fit Parameters'\n",
    "    s_plt_cooling = 'Cooling Rate Profiles'\n",
    "    s_tb_flux = 'Flux Comparison'\n",
    "    \n",
    "    # title\n",
    "    show_markdown('### CLIRAD-LW')\n",
    "    \n",
    "    # TOC\n",
    "    show_markdown('### Table of Contents')\n",
    "    show_html(climahtml.getHTML_hrefanchor(s_input))\n",
    "    show_html(climahtml.getHTML_hrefanchor(s_lblnew_param))\n",
    "    show_html(climahtml.getHTML_hrefanchor(s_plt_cooling))\n",
    "    show_html(climahtml.getHTML_hrefanchor(s_tb_flux))\n",
    "    show_html(climahtml.getHTML_hrefanchor(s_bestfits))\n",
    "    \n",
    "    # Input parameters\n",
    "    show_html(climahtml.getHTML_idanchor(s_input))\n",
    "    show_markdown(climahtml.getMarkdown_sectitle(s_input))\n",
    "    print_input_param()\n",
    "    \n",
    "    # LBLNEW parameters \n",
    "    show_html(climahtml.getHTML_idanchor(s_lblnew_param))\n",
    "    show_markdown(climahtml.getMarkdown_sectitle(s_lblnew_param))\n",
    "    print_lblnew_param()\n",
    "    \n",
    "    # Cooling rate profiles\n",
    "    show_html(climahtml.getHTML_idanchor(s_plt_cooling))\n",
    "    show_markdown(climahtml.getMarkdown_sectitle(s_plt_cooling))\n",
    "    script_plt_cooling()\n",
    "    \n",
    "    # Flux comparison\n",
    "    show_html(climahtml.getHTML_idanchor(s_tb_flux))\n",
    "    show_markdown(climahtml.getMarkdown_sectitle(s_tb_flux))\n",
    "    script_tb_flux()\n",
    "    \n",
    "    # Best-fit values\n",
    "    show_html(climahtml.getHTML_idanchor(s_bestfits))\n",
    "    show_markdown(climahtml.getMarkdown_sectitle(s_bestfits))\n",
    "    print_bestfit_params()\n",
    "   \n",
    "    "
   ]
  },
  {
   "cell_type": "code",
   "execution_count": 12,
   "metadata": {
    "scrolled": false
   },
   "outputs": [
    {
     "data": {
      "text/markdown": [
       "### CLIRAD-LW"
      ],
      "text/plain": [
       "<IPython.core.display.Markdown object>"
      ]
     },
     "metadata": {},
     "output_type": "display_data"
    },
    {
     "data": {
      "text/markdown": [
       "### Table of Contents"
      ],
      "text/plain": [
       "<IPython.core.display.Markdown object>"
      ]
     },
     "metadata": {},
     "output_type": "display_data"
    },
    {
     "data": {
      "text/html": [
       "<a href=\"#Input_Parameters\">Input Parameters</a>"
      ],
      "text/plain": [
       "<IPython.core.display.HTML object>"
      ]
     },
     "metadata": {},
     "output_type": "display_data"
    },
    {
     "data": {
      "text/html": [
       "<a href=\"#LBLNEW_case_compaired_against\">LBLNEW case compaired against</a>"
      ],
      "text/plain": [
       "<IPython.core.display.HTML object>"
      ]
     },
     "metadata": {},
     "output_type": "display_data"
    },
    {
     "data": {
      "text/html": [
       "<a href=\"#Cooling_Rate_Profiles\">Cooling Rate Profiles</a>"
      ],
      "text/plain": [
       "<IPython.core.display.HTML object>"
      ]
     },
     "metadata": {},
     "output_type": "display_data"
    },
    {
     "data": {
      "text/html": [
       "<a href=\"#Flux_Comparison\">Flux Comparison</a>"
      ],
      "text/plain": [
       "<IPython.core.display.HTML object>"
      ]
     },
     "metadata": {},
     "output_type": "display_data"
    },
    {
     "data": {
      "text/html": [
       "<a href=\"#Best-fit_Parameters\">Best-fit Parameters</a>"
      ],
      "text/plain": [
       "<IPython.core.display.HTML object>"
      ]
     },
     "metadata": {},
     "output_type": "display_data"
    },
    {
     "data": {
      "text/html": [
       "<a id=\"Input_Parameters\"></a>"
      ],
      "text/plain": [
       "<IPython.core.display.HTML object>"
      ]
     },
     "metadata": {},
     "output_type": "display_data"
    },
    {
     "data": {
      "text/markdown": [
       "# Input Parameters"
      ],
      "text/plain": [
       "<IPython.core.display.Markdown object>"
      ]
     },
     "metadata": {},
     "output_type": "display_data"
    },
    {
     "name": "stdout",
     "output_type": "stream",
     "text": [
      "atmpro = mls\n",
      "band = [5]\n",
      "commitnumber = 7a7a0e1\n",
      "molecule = {'co2': 0.0004}\n",
      "tsfc = 294\n"
     ]
    },
    {
     "data": {
      "text/html": [
       "<a id=\"LBLNEW_case_compaired_against\"></a>"
      ],
      "text/plain": [
       "<IPython.core.display.HTML object>"
      ]
     },
     "metadata": {},
     "output_type": "display_data"
    },
    {
     "data": {
      "text/markdown": [
       "# LBLNEW case compaired against"
      ],
      "text/plain": [
       "<IPython.core.display.Markdown object>"
      ]
     },
     "metadata": {},
     "output_type": "display_data"
    },
    {
     "name": "stdout",
     "output_type": "stream",
     "text": [
      "molecule = co2\n",
      "band = 3c\n",
      "commitnumber = d62b618\n",
      "vmin = 720\n",
      "vmax = 800\n",
      "dv = 0.001\n",
      "nv = 1000\n",
      "ref_pts = [(1, 250), (10, 250), (500, 250)]\n",
      "ng_refs = [3, 2, 4]\n",
      "ng_adju = [0, 0, 0]\n",
      "klin = 6.375563e-24\n",
      "option_wgt_k = 1\n",
      "wgt = [(0.6, 0.4, 0.7), (0.7, 0.4), (0.3, 0.4, 0.85, 0.9)]\n",
      "w_diffuse = [(1.7, 1.6, 1.8), (1.8, 1.7), (1.5, 1.6, 1.7, 1.8)]\n",
      "option_wgt_flux = 1\n",
      "atmpro = mls\n",
      "tsfc = 294\n",
      "conc = 0.0004\n",
      "option_compute_btable = 0\n",
      "option_compute_ktable = 1\n"
     ]
    },
    {
     "data": {
      "text/html": [
       "<a id=\"Cooling_Rate_Profiles\"></a>"
      ],
      "text/plain": [
       "<IPython.core.display.HTML object>"
      ]
     },
     "metadata": {},
     "output_type": "display_data"
    },
    {
     "data": {
      "text/markdown": [
       "# Cooling Rate Profiles"
      ],
      "text/plain": [
       "<IPython.core.display.Markdown object>"
      ]
     },
     "metadata": {},
     "output_type": "display_data"
    },
    {
     "data": {
      "text/html": [
       "\n",
       "<div class=\"bk-root\">\n",
       "    <div class=\"bk-plotdiv\" id=\"819b2f87-76cb-425a-bd28-2af2b1918553\"></div>\n",
       "</div>"
      ]
     },
     "metadata": {},
     "output_type": "display_data"
    },
    {
     "data": {
      "application/javascript": [
       "(function(root) {\n",
       "  function embed_document(root) {\n",
       "    \n",
       "  var docs_json = {\"9f233dc5-6fc2-42b3-9207-3f88038ad3b2\":{\"roots\":{\"references\":[{\"attributes\":{\"fill_alpha\":{\"value\":0.7},\"fill_color\":{\"value\":\"#4daf4a\"},\"line_alpha\":{\"value\":0.7},\"line_color\":{\"value\":\"#4daf4a\"},\"x\":{\"field\":\"x\"},\"y\":{\"field\":\"y\"}},\"id\":\"6ca9ce70-e51b-4b9a-824b-da47974a1967\",\"type\":\"Circle\"},{\"attributes\":{\"callback\":null,\"column_names\":[\"x\",\"y\"],\"data\":{\"x\":{\"__ndarray__\":\"8F/Nv2Vnuj8L32UAVGOwP0R51blYh8E/bMGc6tqowD91X8b7DtHBP555vSRj78A/WKRw2t8bwj8fUbpXWoTFPxmPUglPaMI/0xB2Bh3fxT+B7ol9G0XEP7AeGLy/LMM/swIquRZvwT+PnksGutW6P2hcWR57KLc/iOOOcaS3vT9SH7N5PRTHP+mv/J797cw/cEBLV7ANzz8GcMwVUjzPP1GLHH0nwdE/t7LInz2R2D+SO64+BR3hPwiY8Z01S+E/lbSHYpdN2z/uG0bexf3UPw1I6z3PftA/ViepRMA+yj8Tm7B5LGjFP54IRWdXqcA/+VVb3/fXtz/p5GV9ZQauP7wAwT1LZ6I/+bwDuDA9mz+e9Oa5g62VP7goNMI79ow/m8s34XFYgT/R1ynf/h9xP/b/oB+VvHC/uPoAkFKKi78Lo3cvmViMvxM8QT+sZ3O/FvhKnDXxbz9hgu89KYGHPwVkYegO65I/Kt9APKORmT8Xdvo8pOqfP6bcSp3qCqM/C8aL/C8Upj9LSTzEMkKpPwDMUj5Gcaw/2MURxKlxrz+JGozelx2xP3QTGmCdZbI/8NMHfpOnsz+6L8rg5ty0P4qq4yEhBLY/ITLDfgMetz8JdIbf1ii4PzF9ryE4Lrk/m881o1FHuj9oa22vP2i7P8YKK9M3grw/Y8BIHj6fvT/vbunBcr6+P9rJXPDU6b8/ElYZfFCGwD+XHk31ZP7AP+DCNrlKPcE/G9ee3UpEwT8vPyYIDTPBP/FfpEA0LcE/diXZVQ5OwT9PPdLgtrbBP2s7df5Q3cI/\",\"dtype\":\"float64\",\"shape\":[75]},\"y\":{\"__ndarray__\":\"S/O/Q+51ND/430zAtpRIP2vylNV0PVE/QxsjCssuWD/TR4Z78fVgP+inNsRxymc/OuuBfZWvcD/u3TFA02d3P2d3VoBnaoA/CD5h5MAGhz/1pA8HUCaQP+zrCsc9p5Y/Fb7LAKjGnz/nJ9c/SEmmPwBD+fzcQq8/FOZwv9nstT8Er5Y7M8G+P0c+r3jqkcU/yK72qKZBzj+tM989FzjVPxbgmr8yxN0/cOm5AXbg5D+5ctXAf0jtP5kqGJXUifQ/DsrqDELP/D8MCAhBojQEQDItVnmnVwxAiFXNvdHgE0BSSZ2AJuIbQAMJih9jjiNA5q4l5INuK0CPVN/5RT0zQHzxRXu8/DpAOZ7PgHrtQkAg8wGBzoxKQBSTN8DMeFJA2NmQf2ZqWEAAAAAAAFxeQEQX1LfMJmJAmpmZmZkfZUBmZmZmZhhoQLzoK0gzEWtAAAAAAAAKbkCiC+pbZoFwQAhyUMLM/XFA+I2vPTN6c0AQ5KCEmfZ0QAAAAAAAc3ZA8Btfe2bvd0AIclDCzGt5QPeNrz0z6HpAEOSghJlkfEAAAAAAAOF9QKML6ltmXX9ABTkoYeZsgED7xteeGSuBQAhyUMJM6YFAAAAAAICngkD4ja89s2WDQAU5KGHmI4RA+8bXnhnihEAIclDCTKCFQAAAAACAXoZA+I2vPbMch0AFOShh5tqHQPvG154ZmYhACHJQwkxXiUAAAAAAgBWKQPeNrz2z04pABTkoYeaRi0D7xteeGVCMQAlyUMJMDo1AAAAAAIDMjUD3ja89s4qOQGZmZmbmSI9A\",\"dtype\":\"float64\",\"shape\":[75]}}},\"id\":\"51e771e7-3874-485c-bddf-b82f4a705c0c\",\"type\":\"ColumnDataSource\"},{\"attributes\":{\"axis_label\":\"cooling rate [K/day]\",\"formatter\":{\"id\":\"f8ee8fe8-d00b-4c4f-b81e-95efb2ff658b\",\"type\":\"BasicTickFormatter\"},\"plot\":{\"id\":\"3dc5dc00-e7f5-4d4a-9471-d2ac25c24855\",\"subtype\":\"Figure\",\"type\":\"Plot\"},\"ticker\":{\"id\":\"ea109533-a734-453c-9b77-cd6163d889dc\",\"type\":\"BasicTicker\"}},\"id\":\"30904af8-c681-4f4c-a8d7-5cb3f3ca9739\",\"type\":\"LinearAxis\"},{\"attributes\":{\"line_alpha\":0.1,\"line_color\":\"#1f77b4\",\"line_dash\":[6],\"line_width\":5,\"x\":{\"field\":\"x\"},\"y\":{\"field\":\"y\"}},\"id\":\"55c31715-ec7c-40c6-adfb-ef0a25f0301b\",\"type\":\"Line\"},{\"attributes\":{\"data_source\":{\"id\":\"cd5edbd2-abab-46f7-b9fe-6b44730b9b97\",\"type\":\"ColumnDataSource\"},\"glyph\":{\"id\":\"6ca9ce70-e51b-4b9a-824b-da47974a1967\",\"type\":\"Circle\"},\"hover_glyph\":null,\"muted_glyph\":null,\"nonselection_glyph\":{\"id\":\"53088287-73fe-4ffe-adf4-b2db035b0046\",\"type\":\"Circle\"},\"selection_glyph\":null,\"view\":{\"id\":\"23425b05-76db-4af5-98cb-e37a12e7f9bb\",\"type\":\"CDSView\"}},\"id\":\"0a8a708b-5188-4a45-8c52-30882d20e512\",\"type\":\"GlyphRenderer\"},{\"attributes\":{\"axis_label\":\"pressure [mb]\",\"formatter\":{\"id\":\"b1736429-1188-4a25-837b-4ccadccc5db7\",\"type\":\"LogTickFormatter\"},\"plot\":{\"id\":\"3dc5dc00-e7f5-4d4a-9471-d2ac25c24855\",\"subtype\":\"Figure\",\"type\":\"Plot\"},\"ticker\":{\"id\":\"1f988a20-ab89-47ca-a5e0-ade99f04e76a\",\"type\":\"LogTicker\"}},\"id\":\"916e7323-24ad-4b04-9968-7034c424a401\",\"type\":\"LogAxis\"},{\"attributes\":{},\"id\":\"dbff8f37-a37b-4c27-9be8-ea44b38d2c3f\",\"type\":\"LinearScale\"},{\"attributes\":{\"callback\":null,\"column_names\":[\"x\",\"y\"],\"data\":{\"x\":{\"__ndarray__\":\"IPBd1gZf0D81Ymafx2jQP6H/N1kX9dA/RX+qApx70T9W7BYeh8PRPwDp1d+WONI/GL0qgsVC0j+0EboRNyPSP3ni3qHNltE/rFAHJvWt0D8dR2I4jaPOP6jhvoLyxso/Q+heL2auxT+nFCruLga+P9WCVuFIALQ/5G2OO/ERuD9M4/ZPYM/CP9aSCjqMj8g/XmaWDBnyzD+hoRxY0OzQPzjSvl4GiNQ/HcibeN542z+gy4qXXSbiP0DKPn4lpuE/OCmz3vvd2j9MxaWupVXUP3CrxUxHJc8/sgD5VEYKyD+nn8O+ldPCPzWlzDjTpb0/KI/6LTJotj86KIluu6WvP6tBIc0b0aY/RfUdluK3oT8pwiV+xxuZP1Arh0FZK4w/a90xNTzPfT+GZUlHFPZvP+U4rLt9h2e/W9j+jttBhr8Bnlm35jOFv/r5NI9UTku/2W+MrfdFgD+nSt2TXAWQP52Kvvz6k5c/+YJqEb7onj8f01m0oPqiP5i9fh4pdqY/qQ7BirbXqT/5YwSbDQ6tP6rcZzzhCrA/pnAHYaNpsT9HmHQkL5yyP6FhhenoqbM/TPa775metD/IDOziSn61P2GidPtCTrY/EBDTi8gatz9WropMzdm3P7jk1Khpkrg/EGx2U7NPuT/50l/YLxK6PySN+rnb1Lo/OGGpy7Wquz8OOUsDHpy8P7JqjK3So70/dNNmnIaovj8XOCxPGHu/P8cBJjZA5b8/6fr0jgnnvz8yLsm/nsi/P++/OjNmt78/y8TGH7nzvz/N3fgkwWXAPyCT78ZApsE/\",\"dtype\":\"float64\",\"shape\":[75]},\"y\":{\"__ndarray__\":\"GhExyth1ND/Sv8nbtpRIP2vylNV0PVE/aTum7souWD/At0SJ8fVgPw3Iuahxymc/MSNhhJWvcD/bTfBN02d3P2zb5nxnaoA/CD5h5MAGhz8NmeH1TyaQP+zrCsc9p5Y/LbKd76fGnz/bLW5ISEmmPww9YvTcQq8/JV2OstnstT8Er5Y7M8G+P0c+r3jqkcU/5h99k6ZBzj88bCIzFzjVP4enV8oyxN0//yH99nXg5D8qOpLLf0jtP5kqGJXUifQ/c9cS8kHP/D+/DpwzojQEQIEmwoanVwxA4lgXt9HgE0BSSZ2AJuIbQAMJih9jjiNA5q4l5INuK0AwTKYKRj0zQNv5fmq8/DpAaCJseHrtQkB/+zpwzoxKQM3MzMzMeFJAZmZmZmZqWEAAAAAAAFxeQM3MzMzMJmJAmpmZmZkfZUBmZmZmZhhoQDMzMzMzEWtAAAAAAAAKbkBmZmZmZoFwQM3MzMzM/XFAMzMzMzN6c0CamZmZmfZ0QAAAAAAAc3ZAZmZmZmbvd0DNzMzMzGt5QDMzMzMz6HpAmpmZmZlkfEAAAAAAAOF9QGZmZmZmXX9AZmZmZuZsgECamZmZGSuBQM3MzMxM6YFAAAAAAICngkAzMzMzs2WDQGZmZmbmI4RAmpmZmRnihEDNzMzMTKCFQAAAAACAXoZAMzMzM7Mch0BmZmZm5tqHQJqZmZkZmYhAzczMzExXiUAAAAAAgBWKQDMzMzOz04pAZmZmZuaRi0CamZmZGVCMQM3MzMxMDo1AAAAAAIDMjUAzMzMzs4qOQGZmZmbmSI9A\",\"dtype\":\"float64\",\"shape\":[75]}}},\"id\":\"d294c740-b989-40eb-ad7a-f328d5bf68db\",\"type\":\"ColumnDataSource\"},{\"attributes\":{\"dimension\":1,\"plot\":{\"id\":\"3dc5dc00-e7f5-4d4a-9471-d2ac25c24855\",\"subtype\":\"Figure\",\"type\":\"Plot\"},\"ticker\":{\"id\":\"1f988a20-ab89-47ca-a5e0-ade99f04e76a\",\"type\":\"LogTicker\"}},\"id\":\"5a13ba55-bfbd-4b3e-abec-fccfaf02f5c9\",\"type\":\"Grid\"},{\"attributes\":{\"line_color\":\"#4daf4a\",\"line_width\":1.5,\"x\":{\"field\":\"x\"},\"y\":{\"field\":\"y\"}},\"id\":\"5a0e4a57-5ae6-4971-ba77-50306e08c21d\",\"type\":\"Line\"},{\"attributes\":{\"bottom_units\":\"screen\",\"fill_alpha\":{\"value\":0.5},\"fill_color\":{\"value\":\"lightgrey\"},\"left_units\":\"screen\",\"level\":\"overlay\",\"line_alpha\":{\"value\":1.0},\"line_color\":{\"value\":\"black\"},\"line_dash\":[4,4],\"line_width\":{\"value\":2},\"plot\":null,\"render_mode\":\"css\",\"right_units\":\"screen\",\"top_units\":\"screen\"},\"id\":\"12f7f7de-4f18-4096-af03-5c482a6ceb96\",\"type\":\"BoxAnnotation\"},{\"attributes\":{\"plot\":{\"id\":\"780618ea-52cb-4e8d-83b7-03f53338d5e9\",\"subtype\":\"Figure\",\"type\":\"Plot\"},\"ticker\":{\"id\":\"ab12f384-e4e7-4867-9015-28db215bfef7\",\"type\":\"BasicTicker\"}},\"id\":\"277a3d40-4f57-4e2c-8530-de3bf58d32fb\",\"type\":\"Grid\"},{\"attributes\":{},\"id\":\"5776c052-405e-4f3d-9a58-b4eb0f8325d7\",\"type\":\"BasicTicker\"},{\"attributes\":{\"active_drag\":\"auto\",\"active_inspect\":\"auto\",\"active_scroll\":\"auto\",\"active_tap\":\"auto\",\"tools\":[{\"id\":\"4d8d4c00-058a-4975-952a-4b028c1c2ad3\",\"type\":\"PanTool\"},{\"id\":\"bab96ee7-764b-470b-b5d3-db27598127e1\",\"type\":\"WheelZoomTool\"},{\"id\":\"b32ad36d-9213-4a68-abef-1f23560081b0\",\"type\":\"BoxZoomTool\"},{\"id\":\"9b490520-a3e8-431d-a742-28bc4d396732\",\"type\":\"SaveTool\"},{\"id\":\"a38ea3b6-5934-41bd-a7fa-4f852bca005c\",\"type\":\"ResetTool\"},{\"id\":\"73f0e561-39fc-4617-bb63-2727d321957e\",\"type\":\"HelpTool\"}]},\"id\":\"6d77c3ba-627f-4848-8b11-e5ee46fcc969\",\"type\":\"Toolbar\"},{\"attributes\":{},\"id\":\"7d05edad-c4a1-454b-9189-c0faaceb15cf\",\"type\":\"BasicTickFormatter\"},{\"attributes\":{\"line_alpha\":0.1,\"line_color\":\"#1f77b4\",\"line_width\":1.5,\"x\":{\"field\":\"x\"},\"y\":{\"field\":\"y\"}},\"id\":\"a681b305-961a-4297-ae14-0911a1626a52\",\"type\":\"Line\"},{\"attributes\":{},\"id\":\"ea109533-a734-453c-9b77-cd6163d889dc\",\"type\":\"BasicTicker\"},{\"attributes\":{\"num_minor_ticks\":10},\"id\":\"1f988a20-ab89-47ca-a5e0-ade99f04e76a\",\"type\":\"LogTicker\"},{\"attributes\":{\"axis_label\":\"cooling rate [K/day]\",\"formatter\":{\"id\":\"7d05edad-c4a1-454b-9189-c0faaceb15cf\",\"type\":\"BasicTickFormatter\"},\"plot\":{\"id\":\"780618ea-52cb-4e8d-83b7-03f53338d5e9\",\"subtype\":\"Figure\",\"type\":\"Plot\"},\"ticker\":{\"id\":\"ab12f384-e4e7-4867-9015-28db215bfef7\",\"type\":\"BasicTicker\"}},\"id\":\"6f17f317-1b7b-4d92-9409-a68f1619f21f\",\"type\":\"LinearAxis\"},{\"attributes\":{\"data_source\":{\"id\":\"51e771e7-3874-485c-bddf-b82f4a705c0c\",\"type\":\"ColumnDataSource\"},\"glyph\":{\"id\":\"34c671d8-1bb9-4f82-8e3b-c0f343f66ad7\",\"type\":\"Line\"},\"hover_glyph\":null,\"muted_glyph\":null,\"nonselection_glyph\":{\"id\":\"55c31715-ec7c-40c6-adfb-ef0a25f0301b\",\"type\":\"Line\"},\"selection_glyph\":null,\"view\":{\"id\":\"1a8599d8-ba74-4e4f-87ce-e63c38de61b2\",\"type\":\"CDSView\"}},\"id\":\"b98b7524-178c-4fa3-8552-e9750a39fbe9\",\"type\":\"GlyphRenderer\"},{\"attributes\":{\"plot\":null,\"text\":\"Linear pressure scale\"},\"id\":\"c19ace27-51a4-4dae-9cb0-c8ecffd78969\",\"type\":\"Title\"},{\"attributes\":{},\"id\":\"73f0e561-39fc-4617-bb63-2727d321957e\",\"type\":\"HelpTool\"},{\"attributes\":{\"overlay\":{\"id\":\"12f7f7de-4f18-4096-af03-5c482a6ceb96\",\"type\":\"BoxAnnotation\"}},\"id\":\"b32ad36d-9213-4a68-abef-1f23560081b0\",\"type\":\"BoxZoomTool\"},{\"attributes\":{},\"id\":\"e01cb93d-ebb8-4dd7-9ff6-b6e11556facd\",\"type\":\"BasicTickFormatter\"},{\"attributes\":{},\"id\":\"44f51b71-0d20-42a8-ae66-34434d53370a\",\"type\":\"LinearScale\"},{\"attributes\":{\"line_alpha\":0.6,\"line_color\":\"#e41a1c\",\"line_dash\":[6],\"line_width\":5,\"x\":{\"field\":\"x\"},\"y\":{\"field\":\"y\"}},\"id\":\"34c671d8-1bb9-4f82-8e3b-c0f343f66ad7\",\"type\":\"Line\"},{\"attributes\":{\"data_source\":{\"id\":\"d294c740-b989-40eb-ad7a-f328d5bf68db\",\"type\":\"ColumnDataSource\"},\"glyph\":{\"id\":\"5a0e4a57-5ae6-4971-ba77-50306e08c21d\",\"type\":\"Line\"},\"hover_glyph\":null,\"muted_glyph\":null,\"nonselection_glyph\":{\"id\":\"a681b305-961a-4297-ae14-0911a1626a52\",\"type\":\"Line\"},\"selection_glyph\":null,\"view\":{\"id\":\"4c72ecea-3b05-4c4f-be05-b1491c29d15d\",\"type\":\"CDSView\"}},\"id\":\"70d1a293-0ed0-469d-94e7-8aaf5e79df64\",\"type\":\"GlyphRenderer\"},{\"attributes\":{},\"id\":\"4d8d4c00-058a-4975-952a-4b028c1c2ad3\",\"type\":\"PanTool\"},{\"attributes\":{\"fill_alpha\":{\"value\":0.1},\"fill_color\":{\"value\":\"#1f77b4\"},\"line_alpha\":{\"value\":0.1},\"line_color\":{\"value\":\"#1f77b4\"},\"x\":{\"field\":\"x\"},\"y\":{\"field\":\"y\"}},\"id\":\"53088287-73fe-4ffe-adf4-b2db035b0046\",\"type\":\"Circle\"},{\"attributes\":{},\"id\":\"9b490520-a3e8-431d-a742-28bc4d396732\",\"type\":\"SaveTool\"},{\"attributes\":{\"axis_label\":\"pressure [mb]\",\"formatter\":{\"id\":\"e01cb93d-ebb8-4dd7-9ff6-b6e11556facd\",\"type\":\"BasicTickFormatter\"},\"plot\":{\"id\":\"780618ea-52cb-4e8d-83b7-03f53338d5e9\",\"subtype\":\"Figure\",\"type\":\"Plot\"},\"ticker\":{\"id\":\"5776c052-405e-4f3d-9a58-b4eb0f8325d7\",\"type\":\"BasicTicker\"}},\"id\":\"dc242512-1bf6-43a4-bdfe-f8c00f7009a4\",\"type\":\"LinearAxis\"},{\"attributes\":{},\"id\":\"a38ea3b6-5934-41bd-a7fa-4f852bca005c\",\"type\":\"ResetTool\"},{\"attributes\":{\"dimension\":1,\"plot\":{\"id\":\"780618ea-52cb-4e8d-83b7-03f53338d5e9\",\"subtype\":\"Figure\",\"type\":\"Plot\"},\"ticker\":{\"id\":\"5776c052-405e-4f3d-9a58-b4eb0f8325d7\",\"type\":\"BasicTicker\"}},\"id\":\"66f646ab-bdc2-4385-8315-d69d8ecc645b\",\"type\":\"Grid\"},{\"attributes\":{},\"id\":\"bab96ee7-764b-470b-b5d3-db27598127e1\",\"type\":\"WheelZoomTool\"},{\"attributes\":{},\"id\":\"ab12f384-e4e7-4867-9015-28db215bfef7\",\"type\":\"BasicTicker\"},{\"attributes\":{\"callback\":null,\"column_names\":[\"x\",\"y\"],\"data\":{\"x\":{\"__ndarray__\":\"IPBd1gZf0D81Ymafx2jQP6H/N1kX9dA/RX+qApx70T9W7BYeh8PRPwDp1d+WONI/GL0qgsVC0j+0EboRNyPSP3ni3qHNltE/rFAHJvWt0D8dR2I4jaPOP6jhvoLyxso/Q+heL2auxT+nFCruLga+P9WCVuFIALQ/5G2OO/ERuD9M4/ZPYM/CP9aSCjqMj8g/XmaWDBnyzD+hoRxY0OzQPzjSvl4GiNQ/HcibeN542z+gy4qXXSbiP0DKPn4lpuE/OCmz3vvd2j9MxaWupVXUP3CrxUxHJc8/sgD5VEYKyD+nn8O+ldPCPzWlzDjTpb0/KI/6LTJotj86KIluu6WvP6tBIc0b0aY/RfUdluK3oT8pwiV+xxuZP1Arh0FZK4w/a90xNTzPfT+GZUlHFPZvP+U4rLt9h2e/W9j+jttBhr8Bnlm35jOFv/r5NI9UTku/2W+MrfdFgD+nSt2TXAWQP52Kvvz6k5c/+YJqEb7onj8f01m0oPqiP5i9fh4pdqY/qQ7BirbXqT/5YwSbDQ6tP6rcZzzhCrA/pnAHYaNpsT9HmHQkL5yyP6FhhenoqbM/TPa775metD/IDOziSn61P2GidPtCTrY/EBDTi8gatz9WropMzdm3P7jk1Khpkrg/EGx2U7NPuT/50l/YLxK6PySN+rnb1Lo/OGGpy7Wquz8OOUsDHpy8P7JqjK3So70/dNNmnIaovj8XOCxPGHu/P8cBJjZA5b8/6fr0jgnnvz8yLsm/nsi/P++/OjNmt78/y8TGH7nzvz/N3fgkwWXAPyCT78ZApsE/\",\"dtype\":\"float64\",\"shape\":[75]},\"y\":{\"__ndarray__\":\"GhExyth1ND/Sv8nbtpRIP2vylNV0PVE/aTum7souWD/At0SJ8fVgPw3Iuahxymc/MSNhhJWvcD/bTfBN02d3P2zb5nxnaoA/CD5h5MAGhz8NmeH1TyaQP+zrCsc9p5Y/LbKd76fGnz/bLW5ISEmmPww9YvTcQq8/JV2OstnstT8Er5Y7M8G+P0c+r3jqkcU/5h99k6ZBzj88bCIzFzjVP4enV8oyxN0//yH99nXg5D8qOpLLf0jtP5kqGJXUifQ/c9cS8kHP/D+/DpwzojQEQIEmwoanVwxA4lgXt9HgE0BSSZ2AJuIbQAMJih9jjiNA5q4l5INuK0AwTKYKRj0zQNv5fmq8/DpAaCJseHrtQkB/+zpwzoxKQM3MzMzMeFJAZmZmZmZqWEAAAAAAAFxeQM3MzMzMJmJAmpmZmZkfZUBmZmZmZhhoQDMzMzMzEWtAAAAAAAAKbkBmZmZmZoFwQM3MzMzM/XFAMzMzMzN6c0CamZmZmfZ0QAAAAAAAc3ZAZmZmZmbvd0DNzMzMzGt5QDMzMzMz6HpAmpmZmZlkfEAAAAAAAOF9QGZmZmZmXX9AZmZmZuZsgECamZmZGSuBQM3MzMxM6YFAAAAAAICngkAzMzMzs2WDQGZmZmbmI4RAmpmZmRnihEDNzMzMTKCFQAAAAACAXoZAMzMzM7Mch0BmZmZm5tqHQJqZmZkZmYhAzczMzExXiUAAAAAAgBWKQDMzMzOz04pAZmZmZuaRi0CamZmZGVCMQM3MzMxMDo1AAAAAAIDMjUAzMzMzs4qOQGZmZmbmSI9A\",\"dtype\":\"float64\",\"shape\":[75]}}},\"id\":\"8cd1f948-91fa-47db-8239-be92d17fdf5b\",\"type\":\"ColumnDataSource\"},{\"attributes\":{\"callback\":null,\"column_names\":[\"x\",\"y\"],\"data\":{\"x\":{\"__ndarray__\":\"nqCvxHOdwz8WlBXaJe/DP1U4u3tCIMU/+2YTtOhUxj/zaNhymmPHPyBIOUWZN8g/6kdiTNO3yD/7UoyBQRXJP/mzGOR2Uck/SGJ71DzwyD+cWmnH0XrHPyYiR+IEaMU/BY8lmGM0wj/ZWAfUG926PzgDxRZ0LLM/bF7J/+zeuD/oiTqJEdjEP+dpE69hz8o/ZA3berTezj/xQ36apGDQP/kAvfAWsdI/g7C/8JF92T8lnY5yenfhPyLRH3FDYOE/fSzEinwI2z95MY8C/4PUP+7cKSCmBdA/2x8P6ovEyT857kZcvunEP1WSx708RcE/+0c9SCfFtz98LsrKywewPzKDdtmswaU/LO8BLsOYnz8CIp7u5jOYP30cY5o5Y48/bO2sbzpygz98VuxxlLl0Pw2nOUe/52a/92XXNaj8hr8OW/yB20KLv0hJfx9e/my//ZSFjRj1dj8moB1LOESKP6InPuz7oJQ/Qy6WgfxWnj9zS8lLsZigPwxwtcwNnKM/QJTLZUo3pz8bo5RSZOqpP3JFw1P8pqw/70krcDpQrz8TVmU6mtmwP7XpCZb0CbI/GaIlDj0Nsz8NvjGsrCO0P9fBQ9/BCLU/xyNOaN0Utj/tmLTmGBq3P6g+pkfc/rc/+z21miMGuT/1Bctq/da5P+BUXiQV4bo/8okLohzruz8Q9epgNPe+P8uqoxy98r8/qxliOWgewD/eGX0U/GLAP81ZMySMesA/27+yC9l+wD+L+Dx1nmvAPzWx4Ew5WcA/wZZYTriMwD96s3WYBgrBP+t/pTu5Q8I/\",\"dtype\":\"float64\",\"shape\":[75]},\"y\":{\"__ndarray__\":\"GhExyth1ND/Sv8nbtpRIP2vylNV0PVE/aTum7souWD/At0SJ8fVgPw3Iuahxymc/MSNhhJWvcD/bTfBN02d3P2zb5nxnaoA/CD5h5MAGhz8NmeH1TyaQP+zrCsc9p5Y/LbKd76fGnz/bLW5ISEmmPww9YvTcQq8/JV2OstnstT8Er5Y7M8G+P0c+r3jqkcU/5h99k6ZBzj88bCIzFzjVP4enV8oyxN0//yH99nXg5D8qOpLLf0jtP5kqGJXUifQ/c9cS8kHP/D+/DpwzojQEQIEmwoanVwxA4lgXt9HgE0BSSZ2AJuIbQAMJih9jjiNA5q4l5INuK0AwTKYKRj0zQNv5fmq8/DpAaCJseHrtQkB/+zpwzoxKQM3MzMzMeFJAZmZmZmZqWEAAAAAAAFxeQM3MzMzMJmJAmpmZmZkfZUBmZmZmZhhoQDMzMzMzEWtAAAAAAAAKbkBmZmZmZoFwQM3MzMzM/XFAMzMzMzN6c0CamZmZmfZ0QAAAAAAAc3ZAZmZmZmbvd0DNzMzMzGt5QDMzMzMz6HpAmpmZmZlkfEAAAAAAAOF9QGZmZmZmXX9AZmZmZuZsgECamZmZGSuBQM3MzMxM6YFAAAAAAICngkAzMzMzs2WDQGZmZmbmI4RAmpmZmRnihEDNzMzMTKCFQAAAAACAXoZAMzMzM7Mch0BmZmZm5tqHQJqZmZkZmYhAzczMzExXiUAAAAAAgBWKQDMzMzOz04pAZmZmZuaRi0CamZmZGVCMQM3MzMxMDo1AAAAAAIDMjUAzMzMzs4qOQGZmZmbmSI9A\",\"dtype\":\"float64\",\"shape\":[75]}}},\"id\":\"bcaa8b07-d061-48fb-ba63-bb9ead941b7b\",\"type\":\"ColumnDataSource\"},{\"attributes\":{\"below\":[{\"id\":\"6f17f317-1b7b-4d92-9409-a68f1619f21f\",\"type\":\"LinearAxis\"}],\"left\":[{\"id\":\"dc242512-1bf6-43a4-bdfe-f8c00f7009a4\",\"type\":\"LinearAxis\"}],\"plot_height\":500,\"plot_width\":400,\"renderers\":[{\"id\":\"6f17f317-1b7b-4d92-9409-a68f1619f21f\",\"type\":\"LinearAxis\"},{\"id\":\"277a3d40-4f57-4e2c-8530-de3bf58d32fb\",\"type\":\"Grid\"},{\"id\":\"dc242512-1bf6-43a4-bdfe-f8c00f7009a4\",\"type\":\"LinearAxis\"},{\"id\":\"66f646ab-bdc2-4385-8315-d69d8ecc645b\",\"type\":\"Grid\"},{\"id\":\"12f7f7de-4f18-4096-af03-5c482a6ceb96\",\"type\":\"BoxAnnotation\"},{\"id\":\"b98b7524-178c-4fa3-8552-e9750a39fbe9\",\"type\":\"GlyphRenderer\"},{\"id\":\"0a8a708b-5188-4a45-8c52-30882d20e512\",\"type\":\"GlyphRenderer\"},{\"id\":\"70d1a293-0ed0-469d-94e7-8aaf5e79df64\",\"type\":\"GlyphRenderer\"},{\"id\":\"01ca695a-52a9-492d-b12a-7418ee9f3bec\",\"type\":\"GlyphRenderer\"},{\"id\":\"f0583c7a-950a-47ca-a0e7-7dd2f2624b25\",\"type\":\"GlyphRenderer\"}],\"title\":{\"id\":\"c19ace27-51a4-4dae-9cb0-c8ecffd78969\",\"type\":\"Title\"},\"toolbar\":{\"id\":\"6d77c3ba-627f-4848-8b11-e5ee46fcc969\",\"type\":\"Toolbar\"},\"toolbar_location\":null,\"x_range\":{\"id\":\"8c47bdab-b704-4c18-993e-f6f23b3a818b\",\"type\":\"Range1d\"},\"x_scale\":{\"id\":\"44f51b71-0d20-42a8-ae66-34434d53370a\",\"type\":\"LinearScale\"},\"y_range\":{\"id\":\"adb91b74-7be8-4f00-84fb-44a8e18bf595\",\"type\":\"Range1d\"},\"y_scale\":{\"id\":\"dbff8f37-a37b-4c27-9be8-ea44b38d2c3f\",\"type\":\"LinearScale\"}},\"id\":\"780618ea-52cb-4e8d-83b7-03f53338d5e9\",\"subtype\":\"Figure\",\"type\":\"Plot\"},{\"attributes\":{\"items\":[{\"id\":\"9d8dedcb-c22b-4afa-a814-ada86c689ddf\",\"type\":\"LegendItem\"},{\"id\":\"42158023-5221-4ad5-a82b-211d02f93510\",\"type\":\"LegendItem\"},{\"id\":\"8341592c-ac6d-4cba-bd11-30236b9c3df8\",\"type\":\"LegendItem\"}],\"label_text_font_size\":{\"value\":\"8pt\"},\"location\":[10,-30],\"plot\":{\"id\":\"3dc5dc00-e7f5-4d4a-9471-d2ac25c24855\",\"subtype\":\"Figure\",\"type\":\"Plot\"}},\"id\":\"11f42165-765d-41ef-9674-a0778cba2e74\",\"type\":\"Legend\"},{\"attributes\":{\"source\":{\"id\":\"51e771e7-3874-485c-bddf-b82f4a705c0c\",\"type\":\"ColumnDataSource\"}},\"id\":\"1a8599d8-ba74-4e4f-87ce-e63c38de61b2\",\"type\":\"CDSView\"},{\"attributes\":{\"bottom_units\":\"screen\",\"fill_alpha\":{\"value\":0.5},\"fill_color\":{\"value\":\"lightgrey\"},\"left_units\":\"screen\",\"level\":\"overlay\",\"line_alpha\":{\"value\":1.0},\"line_color\":{\"value\":\"black\"},\"line_dash\":[4,4],\"line_width\":{\"value\":2},\"plot\":null,\"render_mode\":\"css\",\"right_units\":\"screen\",\"top_units\":\"screen\"},\"id\":\"d542c6d3-b7b3-41d2-95b8-cbe3dab60c9f\",\"type\":\"BoxAnnotation\"},{\"attributes\":{\"plot\":null,\"text\":\"Log pressure scale\"},\"id\":\"967c6470-e839-47d4-8b39-343cdefef327\",\"type\":\"Title\"},{\"attributes\":{\"fill_alpha\":{\"value\":0.1},\"fill_color\":{\"value\":\"#1f77b4\"},\"line_alpha\":{\"value\":0.1},\"line_color\":{\"value\":\"#1f77b4\"},\"x\":{\"field\":\"x\"},\"y\":{\"field\":\"y\"}},\"id\":\"dee3a6ca-f39c-4195-8874-25026a3ef2bb\",\"type\":\"Square\"},{\"attributes\":{\"ticker\":null},\"id\":\"b1736429-1188-4a25-837b-4ccadccc5db7\",\"type\":\"LogTickFormatter\"},{\"attributes\":{\"data_source\":{\"id\":\"56ed8d91-ab9d-4bfa-b4af-74bbf1476858\",\"type\":\"ColumnDataSource\"},\"glyph\":{\"id\":\"2727666a-f084-4c93-aebc-a32acaa55e71\",\"type\":\"Circle\"},\"hover_glyph\":null,\"muted_glyph\":null,\"nonselection_glyph\":{\"id\":\"f55a741a-3b67-493d-a679-5b3f1f79dfe7\",\"type\":\"Circle\"},\"selection_glyph\":null,\"view\":{\"id\":\"4caeb169-0dc6-4ec8-b7fc-18da110c6cec\",\"type\":\"CDSView\"}},\"id\":\"565d9d9d-3f74-4071-8ce5-44f37b43d20a\",\"type\":\"GlyphRenderer\"},{\"attributes\":{\"source\":{\"id\":\"d294c740-b989-40eb-ad7a-f328d5bf68db\",\"type\":\"ColumnDataSource\"}},\"id\":\"4c72ecea-3b05-4c4f-be05-b1491c29d15d\",\"type\":\"CDSView\"},{\"attributes\":{\"line_alpha\":0.6,\"line_color\":\"#e41a1c\",\"line_dash\":[6],\"line_width\":5,\"x\":{\"field\":\"x\"},\"y\":{\"field\":\"y\"}},\"id\":\"fb5fd761-ddbe-423a-96bb-8a63dbdb07ac\",\"type\":\"Line\"},{\"attributes\":{\"below\":[{\"id\":\"30904af8-c681-4f4c-a8d7-5cb3f3ca9739\",\"type\":\"LinearAxis\"}],\"left\":[{\"id\":\"916e7323-24ad-4b04-9968-7034c424a401\",\"type\":\"LogAxis\"}],\"plot_height\":500,\"plot_width\":560,\"renderers\":[{\"id\":\"30904af8-c681-4f4c-a8d7-5cb3f3ca9739\",\"type\":\"LinearAxis\"},{\"id\":\"be6055a3-a1f5-4f0f-8a05-548e9cf9e0fc\",\"type\":\"Grid\"},{\"id\":\"916e7323-24ad-4b04-9968-7034c424a401\",\"type\":\"LogAxis\"},{\"id\":\"5a13ba55-bfbd-4b3e-abec-fccfaf02f5c9\",\"type\":\"Grid\"},{\"id\":\"d542c6d3-b7b3-41d2-95b8-cbe3dab60c9f\",\"type\":\"BoxAnnotation\"},{\"id\":\"66c937b9-192b-4bfd-98dc-c6aee621e336\",\"type\":\"GlyphRenderer\"},{\"id\":\"565d9d9d-3f74-4071-8ce5-44f37b43d20a\",\"type\":\"GlyphRenderer\"},{\"id\":\"3e78fbfc-8a7b-4f48-a9f3-a502c4e60348\",\"type\":\"GlyphRenderer\"},{\"id\":\"46077ec7-00e2-40ba-bf5f-070a0d6f0897\",\"type\":\"GlyphRenderer\"},{\"id\":\"77fca9cd-2bd8-4b99-b81b-a05213b6f145\",\"type\":\"GlyphRenderer\"},{\"id\":\"11f42165-765d-41ef-9674-a0778cba2e74\",\"type\":\"Legend\"}],\"right\":[{\"id\":\"11f42165-765d-41ef-9674-a0778cba2e74\",\"type\":\"Legend\"}],\"title\":{\"id\":\"967c6470-e839-47d4-8b39-343cdefef327\",\"type\":\"Title\"},\"toolbar\":{\"id\":\"3053ba01-3328-43b2-a8e2-59e569664a3d\",\"type\":\"Toolbar\"},\"toolbar_location\":null,\"x_range\":{\"id\":\"9d18e049-9ba7-4a0e-990e-5a7d8b26e8eb\",\"type\":\"Range1d\"},\"x_scale\":{\"id\":\"a2a916c2-c8b5-4db6-af0c-4354f8a1cb7c\",\"type\":\"LinearScale\"},\"y_range\":{\"id\":\"0d4365ee-6a2d-4ba7-b4fa-76d0c40303b8\",\"type\":\"Range1d\"},\"y_scale\":{\"id\":\"f068384f-011d-4ce6-9b84-555cf6509be4\",\"type\":\"LogScale\"}},\"id\":\"3dc5dc00-e7f5-4d4a-9471-d2ac25c24855\",\"subtype\":\"Figure\",\"type\":\"Plot\"},{\"attributes\":{},\"id\":\"f068384f-011d-4ce6-9b84-555cf6509be4\",\"type\":\"LogScale\"},{\"attributes\":{\"callback\":null,\"column_names\":[\"x\",\"y\"],\"data\":{\"x\":{\"__ndarray__\":\"IPBd1gZf0D81Ymafx2jQP6H/N1kX9dA/RX+qApx70T9W7BYeh8PRPwDp1d+WONI/GL0qgsVC0j+0EboRNyPSP3ni3qHNltE/rFAHJvWt0D8dR2I4jaPOP6jhvoLyxso/Q+heL2auxT+nFCruLga+P9WCVuFIALQ/5G2OO/ERuD9M4/ZPYM/CP9aSCjqMj8g/XmaWDBnyzD+hoRxY0OzQPzjSvl4GiNQ/HcibeN542z+gy4qXXSbiP0DKPn4lpuE/OCmz3vvd2j9MxaWupVXUP3CrxUxHJc8/sgD5VEYKyD+nn8O+ldPCPzWlzDjTpb0/KI/6LTJotj86KIluu6WvP6tBIc0b0aY/RfUdluK3oT8pwiV+xxuZP1Arh0FZK4w/a90xNTzPfT+GZUlHFPZvP+U4rLt9h2e/W9j+jttBhr8Bnlm35jOFv/r5NI9UTku/2W+MrfdFgD+nSt2TXAWQP52Kvvz6k5c/+YJqEb7onj8f01m0oPqiP5i9fh4pdqY/qQ7BirbXqT/5YwSbDQ6tP6rcZzzhCrA/pnAHYaNpsT9HmHQkL5yyP6FhhenoqbM/TPa775metD/IDOziSn61P2GidPtCTrY/EBDTi8gatz9WropMzdm3P7jk1Khpkrg/EGx2U7NPuT/50l/YLxK6PySN+rnb1Lo/OGGpy7Wquz8OOUsDHpy8P7JqjK3So70/dNNmnIaovj8XOCxPGHu/P8cBJjZA5b8/6fr0jgnnvz8yLsm/nsi/P++/OjNmt78/y8TGH7nzvz/N3fgkwWXAPyCT78ZApsE/\",\"dtype\":\"float64\",\"shape\":[75]},\"y\":{\"__ndarray__\":\"GhExyth1ND/Sv8nbtpRIP2vylNV0PVE/aTum7souWD/At0SJ8fVgPw3Iuahxymc/MSNhhJWvcD/bTfBN02d3P2zb5nxnaoA/CD5h5MAGhz8NmeH1TyaQP+zrCsc9p5Y/LbKd76fGnz/bLW5ISEmmPww9YvTcQq8/JV2OstnstT8Er5Y7M8G+P0c+r3jqkcU/5h99k6ZBzj88bCIzFzjVP4enV8oyxN0//yH99nXg5D8qOpLLf0jtP5kqGJXUifQ/c9cS8kHP/D+/DpwzojQEQIEmwoanVwxA4lgXt9HgE0BSSZ2AJuIbQAMJih9jjiNA5q4l5INuK0AwTKYKRj0zQNv5fmq8/DpAaCJseHrtQkB/+zpwzoxKQM3MzMzMeFJAZmZmZmZqWEAAAAAAAFxeQM3MzMzMJmJAmpmZmZkfZUBmZmZmZhhoQDMzMzMzEWtAAAAAAAAKbkBmZmZmZoFwQM3MzMzM/XFAMzMzMzN6c0CamZmZmfZ0QAAAAAAAc3ZAZmZmZmbvd0DNzMzMzGt5QDMzMzMz6HpAmpmZmZlkfEAAAAAAAOF9QGZmZmZmXX9AZmZmZuZsgECamZmZGSuBQM3MzMxM6YFAAAAAAICngkAzMzMzs2WDQGZmZmbmI4RAmpmZmRnihEDNzMzMTKCFQAAAAACAXoZAMzMzM7Mch0BmZmZm5tqHQJqZmZkZmYhAzczMzExXiUAAAAAAgBWKQDMzMzOz04pAZmZmZuaRi0CamZmZGVCMQM3MzMxMDo1AAAAAAIDMjUAzMzMzs4qOQGZmZmbmSI9A\",\"dtype\":\"float64\",\"shape\":[75]}}},\"id\":\"56ed8d91-ab9d-4bfa-b4af-74bbf1476858\",\"type\":\"ColumnDataSource\"},{\"attributes\":{},\"id\":\"a2a916c2-c8b5-4db6-af0c-4354f8a1cb7c\",\"type\":\"LinearScale\"},{\"attributes\":{\"fill_alpha\":{\"value\":0.1},\"fill_color\":{\"value\":\"#1f77b4\"},\"line_alpha\":{\"value\":0.1},\"line_color\":{\"value\":\"#1f77b4\"},\"x\":{\"field\":\"x\"},\"y\":{\"field\":\"y\"}},\"id\":\"f55a741a-3b67-493d-a679-5b3f1f79dfe7\",\"type\":\"Circle\"},{\"attributes\":{\"callback\":null,\"end\":0.01,\"start\":1020},\"id\":\"0d4365ee-6a2d-4ba7-b4fa-76d0c40303b8\",\"type\":\"Range1d\"},{\"attributes\":{\"callback\":null,\"column_names\":[\"x\",\"y\"],\"data\":{\"x\":{\"__ndarray__\":\"nqCvxHOdwz8WlBXaJe/DP1U4u3tCIMU/+2YTtOhUxj/zaNhymmPHPyBIOUWZN8g/6kdiTNO3yD/7UoyBQRXJP/mzGOR2Uck/SGJ71DzwyD+cWmnH0XrHPyYiR+IEaMU/BY8lmGM0wj/ZWAfUG926PzgDxRZ0LLM/bF7J/+zeuD/oiTqJEdjEP+dpE69hz8o/ZA3berTezj/xQ36apGDQP/kAvfAWsdI/g7C/8JF92T8lnY5yenfhPyLRH3FDYOE/fSzEinwI2z95MY8C/4PUP+7cKSCmBdA/2x8P6ovEyT857kZcvunEP1WSx708RcE/+0c9SCfFtz98LsrKywewPzKDdtmswaU/LO8BLsOYnz8CIp7u5jOYP30cY5o5Y48/bO2sbzpygz98VuxxlLl0Pw2nOUe/52a/92XXNaj8hr8OW/yB20KLv0hJfx9e/my//ZSFjRj1dj8moB1LOESKP6InPuz7oJQ/Qy6WgfxWnj9zS8lLsZigPwxwtcwNnKM/QJTLZUo3pz8bo5RSZOqpP3JFw1P8pqw/70krcDpQrz8TVmU6mtmwP7XpCZb0CbI/GaIlDj0Nsz8NvjGsrCO0P9fBQ9/BCLU/xyNOaN0Utj/tmLTmGBq3P6g+pkfc/rc/+z21miMGuT/1Bctq/da5P+BUXiQV4bo/8okLohzruz8Q9epgNPe+P8uqoxy98r8/qxliOWgewD/eGX0U/GLAP81ZMySMesA/27+yC9l+wD+L+Dx1nmvAPzWx4Ew5WcA/wZZYTriMwD96s3WYBgrBP+t/pTu5Q8I/\",\"dtype\":\"float64\",\"shape\":[75]},\"y\":{\"__ndarray__\":\"GhExyth1ND/Sv8nbtpRIP2vylNV0PVE/aTum7souWD/At0SJ8fVgPw3Iuahxymc/MSNhhJWvcD/bTfBN02d3P2zb5nxnaoA/CD5h5MAGhz8NmeH1TyaQP+zrCsc9p5Y/LbKd76fGnz/bLW5ISEmmPww9YvTcQq8/JV2OstnstT8Er5Y7M8G+P0c+r3jqkcU/5h99k6ZBzj88bCIzFzjVP4enV8oyxN0//yH99nXg5D8qOpLLf0jtP5kqGJXUifQ/c9cS8kHP/D+/DpwzojQEQIEmwoanVwxA4lgXt9HgE0BSSZ2AJuIbQAMJih9jjiNA5q4l5INuK0AwTKYKRj0zQNv5fmq8/DpAaCJseHrtQkB/+zpwzoxKQM3MzMzMeFJAZmZmZmZqWEAAAAAAAFxeQM3MzMzMJmJAmpmZmZkfZUBmZmZmZhhoQDMzMzMzEWtAAAAAAAAKbkBmZmZmZoFwQM3MzMzM/XFAMzMzMzN6c0CamZmZmfZ0QAAAAAAAc3ZAZmZmZmbvd0DNzMzMzGt5QDMzMzMz6HpAmpmZmZlkfEAAAAAAAOF9QGZmZmZmXX9AZmZmZuZsgECamZmZGSuBQM3MzMxM6YFAAAAAAICngkAzMzMzs2WDQGZmZmbmI4RAmpmZmRnihEDNzMzMTKCFQAAAAACAXoZAMzMzM7Mch0BmZmZm5tqHQJqZmZkZmYhAzczMzExXiUAAAAAAgBWKQDMzMzOz04pAZmZmZuaRi0CamZmZGVCMQM3MzMxMDo1AAAAAAIDMjUAzMzMzs4qOQGZmZmbmSI9A\",\"dtype\":\"float64\",\"shape\":[75]}}},\"id\":\"38b3fd9f-be94-4d13-9431-251976044ace\",\"type\":\"ColumnDataSource\"},{\"attributes\":{},\"id\":\"320e9244-1389-4b47-9f2c-7e3a9ecbba27\",\"type\":\"PanTool\"},{\"attributes\":{\"overlay\":{\"id\":\"d542c6d3-b7b3-41d2-95b8-cbe3dab60c9f\",\"type\":\"BoxAnnotation\"}},\"id\":\"334dd435-da25-4f77-9f81-187ee81f6d4a\",\"type\":\"BoxZoomTool\"},{\"attributes\":{\"source\":{\"id\":\"a5b19a7c-125a-4fa5-8fa9-41d401ae0045\",\"type\":\"ColumnDataSource\"}},\"id\":\"0de2f8f9-4be9-4115-b265-f5e068e8bca3\",\"type\":\"CDSView\"},{\"attributes\":{\"fill_alpha\":{\"value\":0.7},\"fill_color\":{\"value\":\"#4daf4a\"},\"line_alpha\":{\"value\":0.7},\"line_color\":{\"value\":\"#4daf4a\"},\"x\":{\"field\":\"x\"},\"y\":{\"field\":\"y\"}},\"id\":\"2727666a-f084-4c93-aebc-a32acaa55e71\",\"type\":\"Circle\"},{\"attributes\":{},\"id\":\"6195b05f-ca43-4737-b76d-77ec8c5b684c\",\"type\":\"HelpTool\"},{\"attributes\":{},\"id\":\"f8ee8fe8-d00b-4c4f-b81e-95efb2ff658b\",\"type\":\"BasicTickFormatter\"},{\"attributes\":{},\"id\":\"97f60f85-7e2b-4a13-82c6-779d074297a8\",\"type\":\"SaveTool\"},{\"attributes\":{\"data_source\":{\"id\":\"38b3fd9f-be94-4d13-9431-251976044ace\",\"type\":\"ColumnDataSource\"},\"glyph\":{\"id\":\"e5cdbf15-a40b-4bd3-8fcc-6bea6e1b682e\",\"type\":\"Square\"},\"hover_glyph\":null,\"muted_glyph\":null,\"nonselection_glyph\":{\"id\":\"59e4de4c-e91b-481a-974b-dbe624ea92ed\",\"type\":\"Square\"},\"selection_glyph\":null,\"view\":{\"id\":\"5fe889e7-e205-4af2-9ac9-54c9f7aefaed\",\"type\":\"CDSView\"}},\"id\":\"46077ec7-00e2-40ba-bf5f-070a0d6f0897\",\"type\":\"GlyphRenderer\"},{\"attributes\":{\"source\":{\"id\":\"56ed8d91-ab9d-4bfa-b4af-74bbf1476858\",\"type\":\"ColumnDataSource\"}},\"id\":\"4caeb169-0dc6-4ec8-b7fc-18da110c6cec\",\"type\":\"CDSView\"},{\"attributes\":{\"line_color\":\"#4daf4a\",\"line_width\":1.5,\"x\":{\"field\":\"x\"},\"y\":{\"field\":\"y\"}},\"id\":\"fe5ef08e-d1f0-4206-8079-97f41f1322e9\",\"type\":\"Line\"},{\"attributes\":{\"data_source\":{\"id\":\"8cd1f948-91fa-47db-8239-be92d17fdf5b\",\"type\":\"ColumnDataSource\"},\"glyph\":{\"id\":\"fe5ef08e-d1f0-4206-8079-97f41f1322e9\",\"type\":\"Line\"},\"hover_glyph\":null,\"muted_glyph\":null,\"nonselection_glyph\":{\"id\":\"648718ed-1f43-4509-81dd-919498059866\",\"type\":\"Line\"},\"selection_glyph\":null,\"view\":{\"id\":\"1d927bdd-22df-49a3-a72c-efc4ad16fa70\",\"type\":\"CDSView\"}},\"id\":\"3e78fbfc-8a7b-4f48-a9f3-a502c4e60348\",\"type\":\"GlyphRenderer\"},{\"attributes\":{\"callback\":null,\"column_names\":[\"x\",\"y\"],\"data\":{\"x\":{\"__ndarray__\":\"nqCvxHOdwz8WlBXaJe/DP1U4u3tCIMU/+2YTtOhUxj/zaNhymmPHPyBIOUWZN8g/6kdiTNO3yD/7UoyBQRXJP/mzGOR2Uck/SGJ71DzwyD+cWmnH0XrHPyYiR+IEaMU/BY8lmGM0wj/ZWAfUG926PzgDxRZ0LLM/bF7J/+zeuD/oiTqJEdjEP+dpE69hz8o/ZA3berTezj/xQ36apGDQP/kAvfAWsdI/g7C/8JF92T8lnY5yenfhPyLRH3FDYOE/fSzEinwI2z95MY8C/4PUP+7cKSCmBdA/2x8P6ovEyT857kZcvunEP1WSx708RcE/+0c9SCfFtz98LsrKywewPzKDdtmswaU/LO8BLsOYnz8CIp7u5jOYP30cY5o5Y48/bO2sbzpygz98VuxxlLl0Pw2nOUe/52a/92XXNaj8hr8OW/yB20KLv0hJfx9e/my//ZSFjRj1dj8moB1LOESKP6InPuz7oJQ/Qy6WgfxWnj9zS8lLsZigPwxwtcwNnKM/QJTLZUo3pz8bo5RSZOqpP3JFw1P8pqw/70krcDpQrz8TVmU6mtmwP7XpCZb0CbI/GaIlDj0Nsz8NvjGsrCO0P9fBQ9/BCLU/xyNOaN0Utj/tmLTmGBq3P6g+pkfc/rc/+z21miMGuT/1Bctq/da5P+BUXiQV4bo/8okLohzruz8Q9epgNPe+P8uqoxy98r8/qxliOWgewD/eGX0U/GLAP81ZMySMesA/27+yC9l+wD+L+Dx1nmvAPzWx4Ew5WcA/wZZYTriMwD96s3WYBgrBP+t/pTu5Q8I/\",\"dtype\":\"float64\",\"shape\":[75]},\"y\":{\"__ndarray__\":\"GhExyth1ND/Sv8nbtpRIP2vylNV0PVE/aTum7souWD/At0SJ8fVgPw3Iuahxymc/MSNhhJWvcD/bTfBN02d3P2zb5nxnaoA/CD5h5MAGhz8NmeH1TyaQP+zrCsc9p5Y/LbKd76fGnz/bLW5ISEmmPww9YvTcQq8/JV2OstnstT8Er5Y7M8G+P0c+r3jqkcU/5h99k6ZBzj88bCIzFzjVP4enV8oyxN0//yH99nXg5D8qOpLLf0jtP5kqGJXUifQ/c9cS8kHP/D+/DpwzojQEQIEmwoanVwxA4lgXt9HgE0BSSZ2AJuIbQAMJih9jjiNA5q4l5INuK0AwTKYKRj0zQNv5fmq8/DpAaCJseHrtQkB/+zpwzoxKQM3MzMzMeFJAZmZmZmZqWEAAAAAAAFxeQM3MzMzMJmJAmpmZmZkfZUBmZmZmZhhoQDMzMzMzEWtAAAAAAAAKbkBmZmZmZoFwQM3MzMzM/XFAMzMzMzN6c0CamZmZmfZ0QAAAAAAAc3ZAZmZmZmbvd0DNzMzMzGt5QDMzMzMz6HpAmpmZmZlkfEAAAAAAAOF9QGZmZmZmXX9AZmZmZuZsgECamZmZGSuBQM3MzMxM6YFAAAAAAICngkAzMzMzs2WDQGZmZmbmI4RAmpmZmRnihEDNzMzMTKCFQAAAAACAXoZAMzMzM7Mch0BmZmZm5tqHQJqZmZkZmYhAzczMzExXiUAAAAAAgBWKQDMzMzOz04pAZmZmZuaRi0CamZmZGVCMQM3MzMxMDo1AAAAAAIDMjUAzMzMzs4qOQGZmZmbmSI9A\",\"dtype\":\"float64\",\"shape\":[75]}}},\"id\":\"943888c1-3736-4493-8125-a7fd6bd944ae\",\"type\":\"ColumnDataSource\"},{\"attributes\":{\"plot\":{\"id\":\"3dc5dc00-e7f5-4d4a-9471-d2ac25c24855\",\"subtype\":\"Figure\",\"type\":\"Plot\"},\"ticker\":{\"id\":\"ea109533-a734-453c-9b77-cd6163d889dc\",\"type\":\"BasicTicker\"}},\"id\":\"be6055a3-a1f5-4f0f-8a05-548e9cf9e0fc\",\"type\":\"Grid\"},{\"attributes\":{\"callback\":null,\"column_names\":[\"x\",\"y\"],\"data\":{\"x\":{\"__ndarray__\":\"IPBd1gZf0D81Ymafx2jQP6H/N1kX9dA/RX+qApx70T9W7BYeh8PRPwDp1d+WONI/GL0qgsVC0j+0EboRNyPSP3ni3qHNltE/rFAHJvWt0D8dR2I4jaPOP6jhvoLyxso/Q+heL2auxT+nFCruLga+P9WCVuFIALQ/5G2OO/ERuD9M4/ZPYM/CP9aSCjqMj8g/XmaWDBnyzD+hoRxY0OzQPzjSvl4GiNQ/HcibeN542z+gy4qXXSbiP0DKPn4lpuE/OCmz3vvd2j9MxaWupVXUP3CrxUxHJc8/sgD5VEYKyD+nn8O+ldPCPzWlzDjTpb0/KI/6LTJotj86KIluu6WvP6tBIc0b0aY/RfUdluK3oT8pwiV+xxuZP1Arh0FZK4w/a90xNTzPfT+GZUlHFPZvP+U4rLt9h2e/W9j+jttBhr8Bnlm35jOFv/r5NI9UTku/2W+MrfdFgD+nSt2TXAWQP52Kvvz6k5c/+YJqEb7onj8f01m0oPqiP5i9fh4pdqY/qQ7BirbXqT/5YwSbDQ6tP6rcZzzhCrA/pnAHYaNpsT9HmHQkL5yyP6FhhenoqbM/TPa775metD/IDOziSn61P2GidPtCTrY/EBDTi8gatz9WropMzdm3P7jk1Khpkrg/EGx2U7NPuT/50l/YLxK6PySN+rnb1Lo/OGGpy7Wquz8OOUsDHpy8P7JqjK3So70/dNNmnIaovj8XOCxPGHu/P8cBJjZA5b8/6fr0jgnnvz8yLsm/nsi/P++/OjNmt78/y8TGH7nzvz/N3fgkwWXAPyCT78ZApsE/\",\"dtype\":\"float64\",\"shape\":[75]},\"y\":{\"__ndarray__\":\"GhExyth1ND/Sv8nbtpRIP2vylNV0PVE/aTum7souWD/At0SJ8fVgPw3Iuahxymc/MSNhhJWvcD/bTfBN02d3P2zb5nxnaoA/CD5h5MAGhz8NmeH1TyaQP+zrCsc9p5Y/LbKd76fGnz/bLW5ISEmmPww9YvTcQq8/JV2OstnstT8Er5Y7M8G+P0c+r3jqkcU/5h99k6ZBzj88bCIzFzjVP4enV8oyxN0//yH99nXg5D8qOpLLf0jtP5kqGJXUifQ/c9cS8kHP/D+/DpwzojQEQIEmwoanVwxA4lgXt9HgE0BSSZ2AJuIbQAMJih9jjiNA5q4l5INuK0AwTKYKRj0zQNv5fmq8/DpAaCJseHrtQkB/+zpwzoxKQM3MzMzMeFJAZmZmZmZqWEAAAAAAAFxeQM3MzMzMJmJAmpmZmZkfZUBmZmZmZhhoQDMzMzMzEWtAAAAAAAAKbkBmZmZmZoFwQM3MzMzM/XFAMzMzMzN6c0CamZmZmfZ0QAAAAAAAc3ZAZmZmZmbvd0DNzMzMzGt5QDMzMzMz6HpAmpmZmZlkfEAAAAAAAOF9QGZmZmZmXX9AZmZmZuZsgECamZmZGSuBQM3MzMxM6YFAAAAAAICngkAzMzMzs2WDQGZmZmbmI4RAmpmZmRnihEDNzMzMTKCFQAAAAACAXoZAMzMzM7Mch0BmZmZm5tqHQJqZmZkZmYhAzczMzExXiUAAAAAAgBWKQDMzMzOz04pAZmZmZuaRi0CamZmZGVCMQM3MzMxMDo1AAAAAAIDMjUAzMzMzs4qOQGZmZmbmSI9A\",\"dtype\":\"float64\",\"shape\":[75]}}},\"id\":\"cd5edbd2-abab-46f7-b9fe-6b44730b9b97\",\"type\":\"ColumnDataSource\"},{\"attributes\":{\"line_alpha\":0.1,\"line_color\":\"#1f77b4\",\"line_width\":1.5,\"x\":{\"field\":\"x\"},\"y\":{\"field\":\"y\"}},\"id\":\"648718ed-1f43-4509-81dd-919498059866\",\"type\":\"Line\"},{\"attributes\":{\"source\":{\"id\":\"8cd1f948-91fa-47db-8239-be92d17fdf5b\",\"type\":\"ColumnDataSource\"}},\"id\":\"1d927bdd-22df-49a3-a72c-efc4ad16fa70\",\"type\":\"CDSView\"},{\"attributes\":{\"fill_alpha\":{\"value\":0.7},\"fill_color\":{\"value\":\"#984ea3\"},\"line_alpha\":{\"value\":0.7},\"line_color\":{\"value\":\"#984ea3\"},\"x\":{\"field\":\"x\"},\"y\":{\"field\":\"y\"}},\"id\":\"e5cdbf15-a40b-4bd3-8fcc-6bea6e1b682e\",\"type\":\"Square\"},{\"attributes\":{\"data_source\":{\"id\":\"943888c1-3736-4493-8125-a7fd6bd944ae\",\"type\":\"ColumnDataSource\"},\"glyph\":{\"id\":\"6dd24c0e-5450-4da6-a83a-d99a34001cbe\",\"type\":\"Line\"},\"hover_glyph\":null,\"muted_glyph\":null,\"nonselection_glyph\":{\"id\":\"0d22e80b-034a-41a6-a485-c1369dbc8f46\",\"type\":\"Line\"},\"selection_glyph\":null,\"view\":{\"id\":\"af2a5237-0d1d-4baf-b464-cf0c81b60eaa\",\"type\":\"CDSView\"}},\"id\":\"77fca9cd-2bd8-4b99-b81b-a05213b6f145\",\"type\":\"GlyphRenderer\"},{\"attributes\":{\"source\":{\"id\":\"bcaa8b07-d061-48fb-ba63-bb9ead941b7b\",\"type\":\"ColumnDataSource\"}},\"id\":\"f8c5a603-e272-45d1-88d0-ce2be67350bc\",\"type\":\"CDSView\"},{\"attributes\":{\"line_alpha\":0.1,\"line_color\":\"#1f77b4\",\"line_width\":3,\"x\":{\"field\":\"x\"},\"y\":{\"field\":\"y\"}},\"id\":\"791291d8-ad51-4859-b937-8612d47600b2\",\"type\":\"Line\"},{\"attributes\":{\"children\":[{\"id\":\"780618ea-52cb-4e8d-83b7-03f53338d5e9\",\"subtype\":\"Figure\",\"type\":\"Plot\"},{\"id\":\"3dc5dc00-e7f5-4d4a-9471-d2ac25c24855\",\"subtype\":\"Figure\",\"type\":\"Plot\"}]},\"id\":\"9da4b2ac-a4eb-4c0c-b139-355ca5025808\",\"type\":\"Row\"},{\"attributes\":{\"fill_alpha\":{\"value\":0.1},\"fill_color\":{\"value\":\"#1f77b4\"},\"line_alpha\":{\"value\":0.1},\"line_color\":{\"value\":\"#1f77b4\"},\"x\":{\"field\":\"x\"},\"y\":{\"field\":\"y\"}},\"id\":\"59e4de4c-e91b-481a-974b-dbe624ea92ed\",\"type\":\"Square\"},{\"attributes\":{\"callback\":null,\"end\":0.5729935416299999,\"start\":-0.01965110463},\"id\":\"9d18e049-9ba7-4a0e-990e-5a7d8b26e8eb\",\"type\":\"Range1d\"},{\"attributes\":{\"source\":{\"id\":\"38b3fd9f-be94-4d13-9431-251976044ace\",\"type\":\"ColumnDataSource\"}},\"id\":\"5fe889e7-e205-4af2-9ac9-54c9f7aefaed\",\"type\":\"CDSView\"},{\"attributes\":{\"line_alpha\":0.6,\"line_color\":\"#984ea3\",\"line_width\":3,\"x\":{\"field\":\"x\"},\"y\":{\"field\":\"y\"}},\"id\":\"6dd24c0e-5450-4da6-a83a-d99a34001cbe\",\"type\":\"Line\"},{\"attributes\":{\"line_alpha\":0.1,\"line_color\":\"#1f77b4\",\"line_width\":3,\"x\":{\"field\":\"x\"},\"y\":{\"field\":\"y\"}},\"id\":\"0d22e80b-034a-41a6-a485-c1369dbc8f46\",\"type\":\"Line\"},{\"attributes\":{\"children\":[{\"id\":\"9da4b2ac-a4eb-4c0c-b139-355ca5025808\",\"type\":\"Row\"}]},\"id\":\"1cbcb52b-9102-4cd7-a98d-4fb8060f554a\",\"type\":\"Column\"},{\"attributes\":{\"callback\":null,\"end\":0.01,\"start\":1020},\"id\":\"adb91b74-7be8-4f00-84fb-44a8e18bf595\",\"type\":\"Range1d\"},{\"attributes\":{\"label\":{\"value\":\"CRD\"},\"renderers\":[{\"id\":\"565d9d9d-3f74-4071-8ce5-44f37b43d20a\",\"type\":\"GlyphRenderer\"},{\"id\":\"3e78fbfc-8a7b-4f48-a9f3-a502c4e60348\",\"type\":\"GlyphRenderer\"}]},\"id\":\"42158023-5221-4ad5-a82b-211d02f93510\",\"type\":\"LegendItem\"},{\"attributes\":{\"source\":{\"id\":\"943888c1-3736-4493-8125-a7fd6bd944ae\",\"type\":\"ColumnDataSource\"}},\"id\":\"af2a5237-0d1d-4baf-b464-cf0c81b60eaa\",\"type\":\"CDSView\"},{\"attributes\":{\"toolbar\":{\"id\":\"3fac70ef-b602-4207-a48b-1cc43f13ba88\",\"type\":\"ProxyToolbar\"},\"toolbar_location\":\"above\"},\"id\":\"31e482b0-c648-4574-9d04-9dc1c13ef616\",\"type\":\"ToolbarBox\"},{\"attributes\":{\"callback\":null,\"end\":0.14899123903,\"start\":-0.01545306203},\"id\":\"8c47bdab-b704-4c18-993e-f6f23b3a818b\",\"type\":\"Range1d\"},{\"attributes\":{\"label\":{\"value\":\"WGT igg=10 wgt_flux=2\"},\"renderers\":[{\"id\":\"46077ec7-00e2-40ba-bf5f-070a0d6f0897\",\"type\":\"GlyphRenderer\"},{\"id\":\"77fca9cd-2bd8-4b99-b81b-a05213b6f145\",\"type\":\"GlyphRenderer\"}]},\"id\":\"8341592c-ac6d-4cba-bd11-30236b9c3df8\",\"type\":\"LegendItem\"},{\"attributes\":{\"tools\":[{\"id\":\"4d8d4c00-058a-4975-952a-4b028c1c2ad3\",\"type\":\"PanTool\"},{\"id\":\"bab96ee7-764b-470b-b5d3-db27598127e1\",\"type\":\"WheelZoomTool\"},{\"id\":\"b32ad36d-9213-4a68-abef-1f23560081b0\",\"type\":\"BoxZoomTool\"},{\"id\":\"9b490520-a3e8-431d-a742-28bc4d396732\",\"type\":\"SaveTool\"},{\"id\":\"a38ea3b6-5934-41bd-a7fa-4f852bca005c\",\"type\":\"ResetTool\"},{\"id\":\"73f0e561-39fc-4617-bb63-2727d321957e\",\"type\":\"HelpTool\"},{\"id\":\"320e9244-1389-4b47-9f2c-7e3a9ecbba27\",\"type\":\"PanTool\"},{\"id\":\"003c602f-5fa1-48a2-b3d4-55693ee056a8\",\"type\":\"WheelZoomTool\"},{\"id\":\"334dd435-da25-4f77-9f81-187ee81f6d4a\",\"type\":\"BoxZoomTool\"},{\"id\":\"97f60f85-7e2b-4a13-82c6-779d074297a8\",\"type\":\"SaveTool\"},{\"id\":\"e0b5fe6d-3214-40d6-a51d-4d4d17743ca0\",\"type\":\"ResetTool\"},{\"id\":\"6195b05f-ca43-4737-b76d-77ec8c5b684c\",\"type\":\"HelpTool\"}]},\"id\":\"3fac70ef-b602-4207-a48b-1cc43f13ba88\",\"type\":\"ProxyToolbar\"},{\"attributes\":{\"active_drag\":\"auto\",\"active_inspect\":\"auto\",\"active_scroll\":\"auto\",\"active_tap\":\"auto\",\"tools\":[{\"id\":\"320e9244-1389-4b47-9f2c-7e3a9ecbba27\",\"type\":\"PanTool\"},{\"id\":\"003c602f-5fa1-48a2-b3d4-55693ee056a8\",\"type\":\"WheelZoomTool\"},{\"id\":\"334dd435-da25-4f77-9f81-187ee81f6d4a\",\"type\":\"BoxZoomTool\"},{\"id\":\"97f60f85-7e2b-4a13-82c6-779d074297a8\",\"type\":\"SaveTool\"},{\"id\":\"e0b5fe6d-3214-40d6-a51d-4d4d17743ca0\",\"type\":\"ResetTool\"},{\"id\":\"6195b05f-ca43-4737-b76d-77ec8c5b684c\",\"type\":\"HelpTool\"}]},\"id\":\"3053ba01-3328-43b2-a8e2-59e569664a3d\",\"type\":\"Toolbar\"},{\"attributes\":{\"source\":{\"id\":\"cd5edbd2-abab-46f7-b9fe-6b44730b9b97\",\"type\":\"ColumnDataSource\"}},\"id\":\"23425b05-76db-4af5-98cb-e37a12e7f9bb\",\"type\":\"CDSView\"},{\"attributes\":{\"children\":[{\"id\":\"31e482b0-c648-4574-9d04-9dc1c13ef616\",\"type\":\"ToolbarBox\"},{\"id\":\"1cbcb52b-9102-4cd7-a98d-4fb8060f554a\",\"type\":\"Column\"}]},\"id\":\"a7824ff3-5f30-4bea-921c-270447d40d74\",\"type\":\"Column\"},{\"attributes\":{\"data_source\":{\"id\":\"bcaa8b07-d061-48fb-ba63-bb9ead941b7b\",\"type\":\"ColumnDataSource\"},\"glyph\":{\"id\":\"136681db-4dee-455c-9d36-48f88ff58b36\",\"type\":\"Square\"},\"hover_glyph\":null,\"muted_glyph\":null,\"nonselection_glyph\":{\"id\":\"dee3a6ca-f39c-4195-8874-25026a3ef2bb\",\"type\":\"Square\"},\"selection_glyph\":null,\"view\":{\"id\":\"f8c5a603-e272-45d1-88d0-ce2be67350bc\",\"type\":\"CDSView\"}},\"id\":\"01ca695a-52a9-492d-b12a-7418ee9f3bec\",\"type\":\"GlyphRenderer\"},{\"attributes\":{\"label\":{\"value\":\"CLIRAD `coolr_bands`\"},\"renderers\":[{\"id\":\"66c937b9-192b-4bfd-98dc-c6aee621e336\",\"type\":\"GlyphRenderer\"}]},\"id\":\"9d8dedcb-c22b-4afa-a814-ada86c689ddf\",\"type\":\"LegendItem\"},{\"attributes\":{\"callback\":null,\"column_names\":[\"x\",\"y\"],\"data\":{\"x\":{\"__ndarray__\":\"nqCvxHOdwz8WlBXaJe/DP1U4u3tCIMU/+2YTtOhUxj/zaNhymmPHPyBIOUWZN8g/6kdiTNO3yD/7UoyBQRXJP/mzGOR2Uck/SGJ71DzwyD+cWmnH0XrHPyYiR+IEaMU/BY8lmGM0wj/ZWAfUG926PzgDxRZ0LLM/bF7J/+zeuD/oiTqJEdjEP+dpE69hz8o/ZA3berTezj/xQ36apGDQP/kAvfAWsdI/g7C/8JF92T8lnY5yenfhPyLRH3FDYOE/fSzEinwI2z95MY8C/4PUP+7cKSCmBdA/2x8P6ovEyT857kZcvunEP1WSx708RcE/+0c9SCfFtz98LsrKywewPzKDdtmswaU/LO8BLsOYnz8CIp7u5jOYP30cY5o5Y48/bO2sbzpygz98VuxxlLl0Pw2nOUe/52a/92XXNaj8hr8OW/yB20KLv0hJfx9e/my//ZSFjRj1dj8moB1LOESKP6InPuz7oJQ/Qy6WgfxWnj9zS8lLsZigPwxwtcwNnKM/QJTLZUo3pz8bo5RSZOqpP3JFw1P8pqw/70krcDpQrz8TVmU6mtmwP7XpCZb0CbI/GaIlDj0Nsz8NvjGsrCO0P9fBQ9/BCLU/xyNOaN0Utj/tmLTmGBq3P6g+pkfc/rc/+z21miMGuT/1Bctq/da5P+BUXiQV4bo/8okLohzruz8Q9epgNPe+P8uqoxy98r8/qxliOWgewD/eGX0U/GLAP81ZMySMesA/27+yC9l+wD+L+Dx1nmvAPzWx4Ew5WcA/wZZYTriMwD96s3WYBgrBP+t/pTu5Q8I/\",\"dtype\":\"float64\",\"shape\":[75]},\"y\":{\"__ndarray__\":\"GhExyth1ND/Sv8nbtpRIP2vylNV0PVE/aTum7souWD/At0SJ8fVgPw3Iuahxymc/MSNhhJWvcD/bTfBN02d3P2zb5nxnaoA/CD5h5MAGhz8NmeH1TyaQP+zrCsc9p5Y/LbKd76fGnz/bLW5ISEmmPww9YvTcQq8/JV2OstnstT8Er5Y7M8G+P0c+r3jqkcU/5h99k6ZBzj88bCIzFzjVP4enV8oyxN0//yH99nXg5D8qOpLLf0jtP5kqGJXUifQ/c9cS8kHP/D+/DpwzojQEQIEmwoanVwxA4lgXt9HgE0BSSZ2AJuIbQAMJih9jjiNA5q4l5INuK0AwTKYKRj0zQNv5fmq8/DpAaCJseHrtQkB/+zpwzoxKQM3MzMzMeFJAZmZmZmZqWEAAAAAAAFxeQM3MzMzMJmJAmpmZmZkfZUBmZmZmZhhoQDMzMzMzEWtAAAAAAAAKbkBmZmZmZoFwQM3MzMzM/XFAMzMzMzN6c0CamZmZmfZ0QAAAAAAAc3ZAZmZmZmbvd0DNzMzMzGt5QDMzMzMz6HpAmpmZmZlkfEAAAAAAAOF9QGZmZmZmXX9AZmZmZuZsgECamZmZGSuBQM3MzMxM6YFAAAAAAICngkAzMzMzs2WDQGZmZmbmI4RAmpmZmRnihEDNzMzMTKCFQAAAAACAXoZAMzMzM7Mch0BmZmZm5tqHQJqZmZkZmYhAzczMzExXiUAAAAAAgBWKQDMzMzOz04pAZmZmZuaRi0CamZmZGVCMQM3MzMxMDo1AAAAAAIDMjUAzMzMzs4qOQGZmZmbmSI9A\",\"dtype\":\"float64\",\"shape\":[75]}}},\"id\":\"a5b19a7c-125a-4fa5-8fa9-41d401ae0045\",\"type\":\"ColumnDataSource\"},{\"attributes\":{\"line_alpha\":0.6,\"line_color\":\"#984ea3\",\"line_width\":3,\"x\":{\"field\":\"x\"},\"y\":{\"field\":\"y\"}},\"id\":\"9d79bcbd-fd27-4670-83c7-37bd6133bf4f\",\"type\":\"Line\"},{\"attributes\":{\"data_source\":{\"id\":\"176901e0-0f50-4078-a6bb-dac721ef396e\",\"type\":\"ColumnDataSource\"},\"glyph\":{\"id\":\"fb5fd761-ddbe-423a-96bb-8a63dbdb07ac\",\"type\":\"Line\"},\"hover_glyph\":null,\"muted_glyph\":null,\"nonselection_glyph\":{\"id\":\"4bb6df3c-068e-4eb3-b618-ca0a7a325f08\",\"type\":\"Line\"},\"selection_glyph\":null,\"view\":{\"id\":\"b20c433f-c9a9-44af-91a7-fe352e418bb3\",\"type\":\"CDSView\"}},\"id\":\"66c937b9-192b-4bfd-98dc-c6aee621e336\",\"type\":\"GlyphRenderer\"},{\"attributes\":{\"line_alpha\":0.1,\"line_color\":\"#1f77b4\",\"line_dash\":[6],\"line_width\":5,\"x\":{\"field\":\"x\"},\"y\":{\"field\":\"y\"}},\"id\":\"4bb6df3c-068e-4eb3-b618-ca0a7a325f08\",\"type\":\"Line\"},{\"attributes\":{\"data_source\":{\"id\":\"a5b19a7c-125a-4fa5-8fa9-41d401ae0045\",\"type\":\"ColumnDataSource\"},\"glyph\":{\"id\":\"9d79bcbd-fd27-4670-83c7-37bd6133bf4f\",\"type\":\"Line\"},\"hover_glyph\":null,\"muted_glyph\":null,\"nonselection_glyph\":{\"id\":\"791291d8-ad51-4859-b937-8612d47600b2\",\"type\":\"Line\"},\"selection_glyph\":null,\"view\":{\"id\":\"0de2f8f9-4be9-4115-b265-f5e068e8bca3\",\"type\":\"CDSView\"}},\"id\":\"f0583c7a-950a-47ca-a0e7-7dd2f2624b25\",\"type\":\"GlyphRenderer\"},{\"attributes\":{\"fill_alpha\":{\"value\":0.7},\"fill_color\":{\"value\":\"#984ea3\"},\"line_alpha\":{\"value\":0.7},\"line_color\":{\"value\":\"#984ea3\"},\"x\":{\"field\":\"x\"},\"y\":{\"field\":\"y\"}},\"id\":\"136681db-4dee-455c-9d36-48f88ff58b36\",\"type\":\"Square\"},{\"attributes\":{},\"id\":\"e0b5fe6d-3214-40d6-a51d-4d4d17743ca0\",\"type\":\"ResetTool\"},{\"attributes\":{},\"id\":\"003c602f-5fa1-48a2-b3d4-55693ee056a8\",\"type\":\"WheelZoomTool\"},{\"attributes\":{\"source\":{\"id\":\"176901e0-0f50-4078-a6bb-dac721ef396e\",\"type\":\"ColumnDataSource\"}},\"id\":\"b20c433f-c9a9-44af-91a7-fe352e418bb3\",\"type\":\"CDSView\"},{\"attributes\":{\"callback\":null,\"column_names\":[\"x\",\"y\"],\"data\":{\"x\":{\"__ndarray__\":\"8F/Nv2Vnuj8L32UAVGOwP0R51blYh8E/bMGc6tqowD91X8b7DtHBP555vSRj78A/WKRw2t8bwj8fUbpXWoTFPxmPUglPaMI/0xB2Bh3fxT+B7ol9G0XEP7AeGLy/LMM/swIquRZvwT+PnksGutW6P2hcWR57KLc/iOOOcaS3vT9SH7N5PRTHP+mv/J797cw/cEBLV7ANzz8GcMwVUjzPP1GLHH0nwdE/t7LInz2R2D+SO64+BR3hPwiY8Z01S+E/lbSHYpdN2z/uG0bexf3UPw1I6z3PftA/ViepRMA+yj8Tm7B5LGjFP54IRWdXqcA/+VVb3/fXtz/p5GV9ZQauP7wAwT1LZ6I/+bwDuDA9mz+e9Oa5g62VP7goNMI79ow/m8s34XFYgT/R1ynf/h9xP/b/oB+VvHC/uPoAkFKKi78Lo3cvmViMvxM8QT+sZ3O/FvhKnDXxbz9hgu89KYGHPwVkYegO65I/Kt9APKORmT8Xdvo8pOqfP6bcSp3qCqM/C8aL/C8Upj9LSTzEMkKpPwDMUj5Gcaw/2MURxKlxrz+JGozelx2xP3QTGmCdZbI/8NMHfpOnsz+6L8rg5ty0P4qq4yEhBLY/ITLDfgMetz8JdIbf1ii4PzF9ryE4Lrk/m881o1FHuj9oa22vP2i7P8YKK9M3grw/Y8BIHj6fvT/vbunBcr6+P9rJXPDU6b8/ElYZfFCGwD+XHk31ZP7AP+DCNrlKPcE/G9ee3UpEwT8vPyYIDTPBP/FfpEA0LcE/diXZVQ5OwT9PPdLgtrbBP2s7df5Q3cI/\",\"dtype\":\"float64\",\"shape\":[75]},\"y\":{\"__ndarray__\":\"S/O/Q+51ND/430zAtpRIP2vylNV0PVE/QxsjCssuWD/TR4Z78fVgP+inNsRxymc/OuuBfZWvcD/u3TFA02d3P2d3VoBnaoA/CD5h5MAGhz/1pA8HUCaQP+zrCsc9p5Y/Fb7LAKjGnz/nJ9c/SEmmPwBD+fzcQq8/FOZwv9nstT8Er5Y7M8G+P0c+r3jqkcU/yK72qKZBzj+tM989FzjVPxbgmr8yxN0/cOm5AXbg5D+5ctXAf0jtP5kqGJXUifQ/DsrqDELP/D8MCAhBojQEQDItVnmnVwxAiFXNvdHgE0BSSZ2AJuIbQAMJih9jjiNA5q4l5INuK0CPVN/5RT0zQHzxRXu8/DpAOZ7PgHrtQkAg8wGBzoxKQBSTN8DMeFJA2NmQf2ZqWEAAAAAAAFxeQEQX1LfMJmJAmpmZmZkfZUBmZmZmZhhoQLzoK0gzEWtAAAAAAAAKbkCiC+pbZoFwQAhyUMLM/XFA+I2vPTN6c0AQ5KCEmfZ0QAAAAAAAc3ZA8Btfe2bvd0AIclDCzGt5QPeNrz0z6HpAEOSghJlkfEAAAAAAAOF9QKML6ltmXX9ABTkoYeZsgED7xteeGSuBQAhyUMJM6YFAAAAAAICngkD4ja89s2WDQAU5KGHmI4RA+8bXnhnihEAIclDCTKCFQAAAAACAXoZA+I2vPbMch0AFOShh5tqHQPvG154ZmYhACHJQwkxXiUAAAAAAgBWKQPeNrz2z04pABTkoYeaRi0D7xteeGVCMQAlyUMJMDo1AAAAAAIDMjUD3ja89s4qOQGZmZmbmSI9A\",\"dtype\":\"float64\",\"shape\":[75]}}},\"id\":\"176901e0-0f50-4078-a6bb-dac721ef396e\",\"type\":\"ColumnDataSource\"}],\"root_ids\":[\"a7824ff3-5f30-4bea-921c-270447d40d74\"]},\"title\":\"Bokeh Application\",\"version\":\"0.12.14\"}};\n",
       "  var render_items = [{\"docid\":\"9f233dc5-6fc2-42b3-9207-3f88038ad3b2\",\"elementid\":\"819b2f87-76cb-425a-bd28-2af2b1918553\",\"modelid\":\"a7824ff3-5f30-4bea-921c-270447d40d74\"}];\n",
       "  root.Bokeh.embed.embed_items_notebook(docs_json, render_items);\n",
       "\n",
       "  }\n",
       "  if (root.Bokeh !== undefined) {\n",
       "    embed_document(root);\n",
       "  } else {\n",
       "    var attempts = 0;\n",
       "    var timer = setInterval(function(root) {\n",
       "      if (root.Bokeh !== undefined) {\n",
       "        embed_document(root);\n",
       "        clearInterval(timer);\n",
       "      }\n",
       "      attempts++;\n",
       "      if (attempts > 100) {\n",
       "        console.log(\"Bokeh: ERROR: Unable to run BokehJS code because BokehJS library is missing\")\n",
       "        clearInterval(timer);\n",
       "      }\n",
       "    }, 10, root)\n",
       "  }\n",
       "})(window);"
      ],
      "application/vnd.bokehjs_exec.v0+json": ""
     },
     "metadata": {
      "application/vnd.bokehjs_exec.v0+json": {
       "id": "a7824ff3-5f30-4bea-921c-270447d40d74"
      }
     },
     "output_type": "display_data"
    },
    {
     "name": "stdout",
     "output_type": "stream",
     "text": [
      "FIGURE. Cooling rate profiles.\n"
     ]
    },
    {
     "data": {
      "text/html": [
       "<a id=\"Flux_Comparison\"></a>"
      ],
      "text/plain": [
       "<IPython.core.display.HTML object>"
      ]
     },
     "metadata": {},
     "output_type": "display_data"
    },
    {
     "data": {
      "text/markdown": [
       "# Flux Comparison"
      ],
      "text/plain": [
       "<IPython.core.display.Markdown object>"
      ]
     },
     "metadata": {},
     "output_type": "display_data"
    },
    {
     "data": {
      "text/html": [
       "<div>\n",
       "<style>\n",
       "    .dataframe thead tr:only-child th {\n",
       "        text-align: right;\n",
       "    }\n",
       "\n",
       "    .dataframe thead th {\n",
       "        text-align: left;\n",
       "    }\n",
       "\n",
       "    .dataframe tbody tr th {\n",
       "        vertical-align: top;\n",
       "    }\n",
       "</style>\n",
       "<table border=\"1\" class=\"dataframe\">\n",
       "  <thead>\n",
       "    <tr style=\"text-align: right;\">\n",
       "      <th></th>\n",
       "      <th></th>\n",
       "      <th>flug</th>\n",
       "      <th>fldg</th>\n",
       "      <th>fnetg</th>\n",
       "    </tr>\n",
       "    <tr>\n",
       "      <th>pressure</th>\n",
       "      <th>level</th>\n",
       "      <th></th>\n",
       "      <th></th>\n",
       "      <th></th>\n",
       "    </tr>\n",
       "  </thead>\n",
       "  <tbody>\n",
       "    <tr>\n",
       "      <th>0.0000</th>\n",
       "      <th>1</th>\n",
       "      <td>-25.633130</td>\n",
       "      <td>0.000000</td>\n",
       "      <td>-25.633130</td>\n",
       "    </tr>\n",
       "    <tr>\n",
       "      <th>1.0685</th>\n",
       "      <th>24</th>\n",
       "      <td>-25.641956</td>\n",
       "      <td>0.053609</td>\n",
       "      <td>-25.588347</td>\n",
       "    </tr>\n",
       "    <tr>\n",
       "      <th>1013.0000</th>\n",
       "      <th>76</th>\n",
       "      <td>-32.637543</td>\n",
       "      <td>15.505082</td>\n",
       "      <td>-17.132461</td>\n",
       "    </tr>\n",
       "  </tbody>\n",
       "</table>\n",
       "</div>"
      ],
      "text/plain": [
       "                      flug       fldg      fnetg\n",
       "pressure  level                                 \n",
       "0.0000    1     -25.633130   0.000000 -25.633130\n",
       "1.0685    24    -25.641956   0.053609 -25.588347\n",
       "1013.0000 76    -32.637543  15.505082 -17.132461"
      ]
     },
     "metadata": {},
     "output_type": "display_data"
    },
    {
     "name": "stdout",
     "output_type": "stream",
     "text": [
      "Table. Fluxes. WGT igg=10 wgt_flux=1\n"
     ]
    },
    {
     "data": {
      "text/html": [
       "<div>\n",
       "<style>\n",
       "    .dataframe thead tr:only-child th {\n",
       "        text-align: right;\n",
       "    }\n",
       "\n",
       "    .dataframe thead th {\n",
       "        text-align: left;\n",
       "    }\n",
       "\n",
       "    .dataframe tbody tr th {\n",
       "        vertical-align: top;\n",
       "    }\n",
       "</style>\n",
       "<table border=\"1\" class=\"dataframe\">\n",
       "  <thead>\n",
       "    <tr style=\"text-align: right;\">\n",
       "      <th></th>\n",
       "      <th></th>\n",
       "      <th>flug</th>\n",
       "      <th>fldg</th>\n",
       "      <th>fnetg</th>\n",
       "    </tr>\n",
       "    <tr>\n",
       "      <th>pressure</th>\n",
       "      <th>level</th>\n",
       "      <th></th>\n",
       "      <th></th>\n",
       "      <th></th>\n",
       "    </tr>\n",
       "  </thead>\n",
       "  <tbody>\n",
       "    <tr>\n",
       "      <th>0.0000</th>\n",
       "      <th>1</th>\n",
       "      <td>-25.965323</td>\n",
       "      <td>0.000000</td>\n",
       "      <td>-25.965323</td>\n",
       "    </tr>\n",
       "    <tr>\n",
       "      <th>1.0685</th>\n",
       "      <th>24</th>\n",
       "      <td>-25.974140</td>\n",
       "      <td>0.055739</td>\n",
       "      <td>-25.918400</td>\n",
       "    </tr>\n",
       "    <tr>\n",
       "      <th>1013.0000</th>\n",
       "      <th>76</th>\n",
       "      <td>-32.637543</td>\n",
       "      <td>15.233707</td>\n",
       "      <td>-17.403836</td>\n",
       "    </tr>\n",
       "  </tbody>\n",
       "</table>\n",
       "</div>"
      ],
      "text/plain": [
       "                      flug       fldg      fnetg\n",
       "pressure  level                                 \n",
       "0.0000    1     -25.965323   0.000000 -25.965323\n",
       "1.0685    24    -25.974140   0.055739 -25.918400\n",
       "1013.0000 76    -32.637543  15.233707 -17.403836"
      ]
     },
     "metadata": {},
     "output_type": "display_data"
    },
    {
     "name": "stdout",
     "output_type": "stream",
     "text": [
      "Table. Fluxes. CRD\n"
     ]
    },
    {
     "data": {
      "text/html": [
       "<div>\n",
       "<style>\n",
       "    .dataframe thead tr:only-child th {\n",
       "        text-align: right;\n",
       "    }\n",
       "\n",
       "    .dataframe thead th {\n",
       "        text-align: left;\n",
       "    }\n",
       "\n",
       "    .dataframe tbody tr th {\n",
       "        vertical-align: top;\n",
       "    }\n",
       "</style>\n",
       "<table border=\"1\" class=\"dataframe\">\n",
       "  <thead>\n",
       "    <tr style=\"text-align: right;\">\n",
       "      <th></th>\n",
       "      <th></th>\n",
       "      <th>flug</th>\n",
       "      <th>fldg</th>\n",
       "      <th>fnetg</th>\n",
       "    </tr>\n",
       "    <tr>\n",
       "      <th>pressure</th>\n",
       "      <th>level</th>\n",
       "      <th></th>\n",
       "      <th></th>\n",
       "      <th></th>\n",
       "    </tr>\n",
       "  </thead>\n",
       "  <tbody>\n",
       "    <tr>\n",
       "      <th>1.000000e-08</th>\n",
       "      <th>1</th>\n",
       "      <td>-25.676250</td>\n",
       "      <td>9.536743e-07</td>\n",
       "      <td>-25.676250</td>\n",
       "    </tr>\n",
       "    <tr>\n",
       "      <th>1.068500e+00</th>\n",
       "      <th>24</th>\n",
       "      <td>-25.684753</td>\n",
       "      <td>5.229711e-02</td>\n",
       "      <td>-25.632456</td>\n",
       "    </tr>\n",
       "    <tr>\n",
       "      <th>1.013000e+03</th>\n",
       "      <th>76</th>\n",
       "      <td>-32.637539</td>\n",
       "      <td>1.564469e+01</td>\n",
       "      <td>-16.992853</td>\n",
       "    </tr>\n",
       "  </tbody>\n",
       "</table>\n",
       "</div>"
      ],
      "text/plain": [
       "                         flug          fldg      fnetg\n",
       "pressure     level                                    \n",
       "1.000000e-08 1     -25.676250  9.536743e-07 -25.676250\n",
       "1.068500e+00 24    -25.684753  5.229711e-02 -25.632456\n",
       "1.013000e+03 76    -32.637539  1.564469e+01 -16.992853"
      ]
     },
     "metadata": {},
     "output_type": "display_data"
    },
    {
     "name": "stdout",
     "output_type": "stream",
     "text": [
      "Table. Fluxes. CLIRAD\n"
     ]
    },
    {
     "data": {
      "text/html": [
       "<div>\n",
       "<style>\n",
       "    .dataframe thead tr:only-child th {\n",
       "        text-align: right;\n",
       "    }\n",
       "\n",
       "    .dataframe thead th {\n",
       "        text-align: left;\n",
       "    }\n",
       "\n",
       "    .dataframe tbody tr th {\n",
       "        vertical-align: top;\n",
       "    }\n",
       "</style>\n",
       "<table border=\"1\" class=\"dataframe\">\n",
       "  <thead>\n",
       "    <tr style=\"text-align: right;\">\n",
       "      <th></th>\n",
       "      <th></th>\n",
       "      <th>flug</th>\n",
       "      <th>fldg</th>\n",
       "      <th>fnetg</th>\n",
       "    </tr>\n",
       "    <tr>\n",
       "      <th>pressure</th>\n",
       "      <th>level</th>\n",
       "      <th></th>\n",
       "      <th></th>\n",
       "      <th></th>\n",
       "    </tr>\n",
       "  </thead>\n",
       "  <tbody>\n",
       "    <tr>\n",
       "      <th>0.0000</th>\n",
       "      <th>1</th>\n",
       "      <td>-3.321926e-01</td>\n",
       "      <td>0.000000</td>\n",
       "      <td>-0.332193</td>\n",
       "    </tr>\n",
       "    <tr>\n",
       "      <th>1.0685</th>\n",
       "      <th>24</th>\n",
       "      <td>-3.321845e-01</td>\n",
       "      <td>0.002130</td>\n",
       "      <td>-0.330053</td>\n",
       "    </tr>\n",
       "    <tr>\n",
       "      <th>1013.0000</th>\n",
       "      <th>76</th>\n",
       "      <td>-3.300000e-07</td>\n",
       "      <td>-0.271375</td>\n",
       "      <td>-0.271375</td>\n",
       "    </tr>\n",
       "  </tbody>\n",
       "</table>\n",
       "</div>"
      ],
      "text/plain": [
       "                         flug      fldg     fnetg\n",
       "pressure  level                                  \n",
       "0.0000    1     -3.321926e-01  0.000000 -0.332193\n",
       "1.0685    24    -3.321845e-01  0.002130 -0.330053\n",
       "1013.0000 76    -3.300000e-07 -0.271375 -0.271375"
      ]
     },
     "metadata": {},
     "output_type": "display_data"
    },
    {
     "name": "stdout",
     "output_type": "stream",
     "text": [
      "Table. Fluxes. (CRD) - (WGT igg=10 wgt_flux=1)\n"
     ]
    },
    {
     "data": {
      "text/html": [
       "<div>\n",
       "<style>\n",
       "    .dataframe thead tr:only-child th {\n",
       "        text-align: right;\n",
       "    }\n",
       "\n",
       "    .dataframe thead th {\n",
       "        text-align: left;\n",
       "    }\n",
       "\n",
       "    .dataframe tbody tr th {\n",
       "        vertical-align: top;\n",
       "    }\n",
       "</style>\n",
       "<table border=\"1\" class=\"dataframe\">\n",
       "  <thead>\n",
       "    <tr style=\"text-align: right;\">\n",
       "      <th></th>\n",
       "      <th></th>\n",
       "      <th>flug</th>\n",
       "      <th>fldg</th>\n",
       "      <th>fnetg</th>\n",
       "    </tr>\n",
       "    <tr>\n",
       "      <th>pressure</th>\n",
       "      <th>level</th>\n",
       "      <th></th>\n",
       "      <th></th>\n",
       "      <th></th>\n",
       "    </tr>\n",
       "  </thead>\n",
       "  <tbody>\n",
       "    <tr>\n",
       "      <th>0.0000</th>\n",
       "      <th>1</th>\n",
       "      <td>-0.043120</td>\n",
       "      <td>9.536743e-07</td>\n",
       "      <td>-0.043120</td>\n",
       "    </tr>\n",
       "    <tr>\n",
       "      <th>1.0685</th>\n",
       "      <th>24</th>\n",
       "      <td>-0.042797</td>\n",
       "      <td>-1.311639e-03</td>\n",
       "      <td>-0.044109</td>\n",
       "    </tr>\n",
       "    <tr>\n",
       "      <th>1013.0000</th>\n",
       "      <th>76</th>\n",
       "      <td>0.000004</td>\n",
       "      <td>1.396036e-01</td>\n",
       "      <td>0.139608</td>\n",
       "    </tr>\n",
       "  </tbody>\n",
       "</table>\n",
       "</div>"
      ],
      "text/plain": [
       "                     flug          fldg     fnetg\n",
       "pressure  level                                  \n",
       "0.0000    1     -0.043120  9.536743e-07 -0.043120\n",
       "1.0685    24    -0.042797 -1.311639e-03 -0.044109\n",
       "1013.0000 76     0.000004  1.396036e-01  0.139608"
      ]
     },
     "metadata": {},
     "output_type": "display_data"
    },
    {
     "name": "stdout",
     "output_type": "stream",
     "text": [
      "Table. Fluxes. (CLIRAD) - (WGT igg=10 wgt_flux=1)\n"
     ]
    },
    {
     "data": {
      "text/html": [
       "<a id=\"Best-fit_Parameters\"></a>"
      ],
      "text/plain": [
       "<IPython.core.display.HTML object>"
      ]
     },
     "metadata": {},
     "output_type": "display_data"
    },
    {
     "data": {
      "text/markdown": [
       "# Best-fit Parameters"
      ],
      "text/plain": [
       "<IPython.core.display.Markdown object>"
      ]
     },
     "metadata": {},
     "output_type": "display_data"
    },
    {
     "name": "stdout",
     "output_type": "stream",
     "text": [
      "Best-fit values for each (gas, band)\n",
      "------------------------------------\n",
      "o co2 band3c\n",
      "  molecule = co2\n",
      "  band = 3c\n",
      "  commitnumber = d62b618\n",
      "  vmin = 720\n",
      "  vmax = 800\n",
      "  dv = 0.001\n",
      "  nv = 1000\n",
      "  ref_pts = [(1, 250), (10, 250), (500, 250)]\n",
      "  ng_refs = [3, 2, 4]\n",
      "  ng_adju = [0, 0, 0]\n",
      "  klin = 6.375563e-24\n",
      "  option_wgt_k = 1\n",
      "  wgt = [(0.6, 0.4, 0.7), (0.7, 0.4), (0.3, 0.4, 0.85, 0.9)]\n",
      "  w_diffuse = [(1.7, 1.6, 1.8), (1.8, 1.7), (1.5, 1.6, 1.7, 1.8)]\n",
      "  option_wgt_flux = 1\n",
      "  atmpro = mls\n",
      "  tsfc = 294\n",
      "  conc = 0.0004\n",
      "  option_compute_btable = 0\n",
      "  option_compute_ktable = 1\n"
     ]
    }
   ],
   "source": [
    "script()"
   ]
  },
  {
   "cell_type": "code",
   "execution_count": 13,
   "metadata": {},
   "outputs": [
    {
     "data": {
      "text/html": [
       "<script>\n",
       "code_show=true; \n",
       "function code_toggle() {\n",
       " if (code_show){\n",
       " $('div.input').hide();\n",
       " } else {\n",
       " $('div.input').show();\n",
       " }\n",
       " code_show = !code_show\n",
       "} \n",
       "$( document ).ready(code_toggle);\n",
       "</script>\n",
       "<form action=\"javascript:code_toggle()\"><input type=\"submit\" value=\"Click here to toggle on/off the raw code.\"></form>"
      ],
      "text/plain": [
       "<IPython.core.display.HTML object>"
      ]
     },
     "execution_count": 13,
     "metadata": {},
     "output_type": "execute_result"
    }
   ],
   "source": [
    "display.HTML('''<script>\n",
    "code_show=true; \n",
    "function code_toggle() {\n",
    " if (code_show){\n",
    " $('div.input').hide();\n",
    " } else {\n",
    " $('div.input').show();\n",
    " }\n",
    " code_show = !code_show\n",
    "} \n",
    "$( document ).ready(code_toggle);\n",
    "</script>\n",
    "<form action=\"javascript:code_toggle()\"><input type=\"submit\" value=\"Click here to toggle on/off the raw code.\"></form>''')"
   ]
  }
 ],
 "metadata": {
  "kernelspec": {
   "display_name": "Python 3",
   "language": "python",
   "name": "python3"
  },
  "language_info": {
   "codemirror_mode": {
    "name": "ipython",
    "version": 3
   },
   "file_extension": ".py",
   "mimetype": "text/x-python",
   "name": "python",
   "nbconvert_exporter": "python",
   "pygments_lexer": "ipython3",
   "version": "3.6.1"
  }
 },
 "nbformat": 4,
 "nbformat_minor": 2
}
