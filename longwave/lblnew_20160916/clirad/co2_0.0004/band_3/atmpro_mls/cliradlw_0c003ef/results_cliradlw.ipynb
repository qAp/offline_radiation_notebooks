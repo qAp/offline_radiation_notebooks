{
 "cells": [
  {
   "cell_type": "code",
   "execution_count": 1,
   "metadata": {
    "collapsed": true
   },
   "outputs": [],
   "source": [
    "%matplotlib inline\n",
    "import os\n",
    "import re\n",
    "import io\n",
    "import itertools\n",
    "import pprint\n",
    "\n",
    "from bokeh.io import output_notebook, show\n",
    "from bokeh.layouts import gridplot\n",
    "from bokeh.plotting import figure\n",
    "from bokeh.models import Range1d, Legend\n",
    "from bokeh.palettes import all_palettes\n",
    "\n",
    "import matplotlib\n",
    "import matplotlib.pyplot as plt\n",
    "import numpy as np\n",
    "import pandas as pd\n",
    "import xarray as xr\n",
    "\n",
    "import climatools.lblnew.bestfit_params as bestfits\n",
    "from climatools.lblnew import setup_bestfit, setup_overlap\n",
    "import climatools.lblnew.pipeline as pipe_lblnew\n",
    "import climatools.cliradlw.setup as setup_cliradlw\n",
    "import climatools.cliradlw.pipeline as pipe_cliradlw\n",
    "\n",
    "import climatools.html.html as climahtml\n",
    "from climatools.lblnew.dataio import *\n",
    "from climatools.plot.plot import *\n",
    "\n",
    "\n",
    "import IPython.display as display"
   ]
  },
  {
   "cell_type": "code",
   "execution_count": 2,
   "metadata": {
    "collapsed": true
   },
   "outputs": [],
   "source": [
    "%run param.py"
   ]
  },
  {
   "cell_type": "code",
   "execution_count": 3,
   "metadata": {
    "collapsed": true
   },
   "outputs": [],
   "source": [
    "def load_output_file(path_csv):\n",
    "    '''\n",
    "    Load lblnew output .csv file to xarray.Dataset\n",
    "    \n",
    "    Parameters\n",
    "    ----------\n",
    "    path_csv: str\n",
    "              Path to the .csv file to be loaded.\n",
    "    ds: xarray.Dataset\n",
    "        Data in the input file in the form of an xarray.Dataset.\n",
    "    '''\n",
    "    toindex = ['band', 'pressure', 'igg', 'g']    \n",
    "    df = pd.read_csv(path_csv, sep=r'\\s+')\n",
    "    df = df.set_index([i for i in toindex if i in df.columns])\n",
    "    df = df.rename(columns={'sfu': 'flug',\n",
    "                            'sfd': 'fldg',\n",
    "                            'fnet': 'fnetg',\n",
    "                            'coolr': 'coolrg'})\n",
    "    ds = xr.Dataset.from_dataframe(df)\n",
    "\n",
    "    for l in ('level', 'layer'):\n",
    "        if l in ds.data_vars:\n",
    "            if len(ds[l].dims) > 1:\n",
    "                surface = {d: 0 for d in ds.dims if d != 'pressure'}\n",
    "                coord_level = ds[l][surface]\n",
    "                ds.coords[l] = ('pressure', coord_level)\n",
    "            else:\n",
    "                ds.coords[l] = ('pressure', ds[l])\n",
    "    \n",
    "    return ds"
   ]
  },
  {
   "cell_type": "code",
   "execution_count": 4,
   "metadata": {
    "collapsed": true
   },
   "outputs": [],
   "source": [
    "def lblnew_setup(param=None):\n",
    "    if 'ng_refs' in param:\n",
    "        return {'setup': setup_bestfit,\n",
    "                'fname_flux_crd': 'output_flux.dat',\n",
    "                'fname_cool_crd': 'output_coolr.dat',\n",
    "                'fname_flux_wgt': 'output_wfluxg.dat',\n",
    "                'fname_cool_wgt': 'output_wcoolrg.dat'}\n",
    "    else:\n",
    "        return {'setup': setup_overlap,\n",
    "                'fname_flux_crd': 'output_flux.dat',\n",
    "                'fname_cool_crd': 'output_coolr.dat',\n",
    "                'fname_flux_wgt': 'output_wflux.dat',\n",
    "                'fname_cool_wgt': 'output_wcoolr.dat'}\n",
    "\n",
    "    \n",
    "def load_lblnew_data(param):\n",
    "    \n",
    "    fname_dsname = [('fname_flux_crd', 'ds_flux_crd'),\n",
    "                    ('fname_cool_crd', 'ds_cool_crd'),\n",
    "                    ('fname_flux_wgt', 'ds_flux_wgt'),\n",
    "                    ('fname_cool_wgt', 'ds_cool_wgt')]\n",
    "    \n",
    "    d = lblnew_setup(param)\n",
    "    dir_fortran = pipe_lblnew.get_dir_case(param, setup=d['setup'])\n",
    "    \n",
    "    data_dict = {}\n",
    "    for fname, dsname in fname_dsname:\n",
    "        fpath = os.path.join(dir_fortran, d[fname])\n",
    "        data_dict[dsname] = load_output_file(fpath)\n",
    "    return data_dict\n",
    "    \n",
    "\n",
    "    \n",
    "    "
   ]
  },
  {
   "cell_type": "code",
   "execution_count": 5,
   "metadata": {
    "collapsed": true
   },
   "outputs": [],
   "source": [
    "d = load_lblnew_data(PARAM_LBLNEW)\n",
    "\n",
    "DS_FLUX_CRD = d['ds_flux_crd']\n",
    "DS_COOL_CRD = d['ds_cool_crd']\n",
    "DS_FLUX_WGT = d['ds_flux_wgt']\n",
    "DS_COOL_WGT = d['ds_cool_wgt']"
   ]
  },
  {
   "cell_type": "code",
   "execution_count": 6,
   "metadata": {
    "collapsed": true
   },
   "outputs": [],
   "source": [
    "DIR_FORTRAN = pipe_cliradlw.get_fortran_dir(PARAM, \n",
    "                                            setup=setup_cliradlw)\n",
    "\n",
    "PATH_FLUX = os.path.join(DIR_FORTRAN, 'output_flux.dat')\n",
    "PATH_COOL = os.path.join(DIR_FORTRAN, 'output_coolr.dat')\n",
    "\n",
    "DS_FLUX = load_output_file(PATH_FLUX)\n",
    "DS_COOL = load_output_file(PATH_COOL)"
   ]
  },
  {
   "cell_type": "code",
   "execution_count": 7,
   "metadata": {
    "collapsed": true
   },
   "outputs": [
    {
     "data": {
      "text/html": [
       "\n",
       "    <div class=\"bk-root\">\n",
       "        <a href=\"https://bokeh.pydata.org\" target=\"_blank\" class=\"bk-logo bk-logo-small bk-logo-notebook\"></a>\n",
       "        <span id=\"20c7e55e-e417-4ef9-8c5b-8432b2856a04\">Loading BokehJS ...</span>\n",
       "    </div>"
      ]
     },
     "metadata": {},
     "output_type": "display_data"
    },
    {
     "data": {
      "application/javascript": [
       "\n",
       "(function(root) {\n",
       "  function now() {\n",
       "    return new Date();\n",
       "  }\n",
       "\n",
       "  var force = true;\n",
       "\n",
       "  if (typeof (root._bokeh_onload_callbacks) === \"undefined\" || force === true) {\n",
       "    root._bokeh_onload_callbacks = [];\n",
       "    root._bokeh_is_loading = undefined;\n",
       "  }\n",
       "\n",
       "  var JS_MIME_TYPE = 'application/javascript';\n",
       "  var HTML_MIME_TYPE = 'text/html';\n",
       "  var EXEC_MIME_TYPE = 'application/vnd.bokehjs_exec.v0+json';\n",
       "  var CLASS_NAME = 'output_bokeh rendered_html';\n",
       "\n",
       "  /**\n",
       "   * Render data to the DOM node\n",
       "   */\n",
       "  function render(props, node) {\n",
       "    var script = document.createElement(\"script\");\n",
       "    node.appendChild(script);\n",
       "  }\n",
       "\n",
       "  /**\n",
       "   * Handle when an output is cleared or removed\n",
       "   */\n",
       "  function handleClearOutput(event, handle) {\n",
       "    var cell = handle.cell;\n",
       "\n",
       "    var id = cell.output_area._bokeh_element_id;\n",
       "    var server_id = cell.output_area._bokeh_server_id;\n",
       "    // Clean up Bokeh references\n",
       "    if (id !== undefined) {\n",
       "      Bokeh.index[id].model.document.clear();\n",
       "      delete Bokeh.index[id];\n",
       "    }\n",
       "\n",
       "    if (server_id !== undefined) {\n",
       "      // Clean up Bokeh references\n",
       "      var cmd = \"from bokeh.io.state import curstate; print(curstate().uuid_to_server['\" + server_id + \"'].get_sessions()[0].document.roots[0]._id)\";\n",
       "      cell.notebook.kernel.execute(cmd, {\n",
       "        iopub: {\n",
       "          output: function(msg) {\n",
       "            var element_id = msg.content.text.trim();\n",
       "            Bokeh.index[element_id].model.document.clear();\n",
       "            delete Bokeh.index[element_id];\n",
       "          }\n",
       "        }\n",
       "      });\n",
       "      // Destroy server and session\n",
       "      var cmd = \"import bokeh.io.notebook as ion; ion.destroy_server('\" + server_id + \"')\";\n",
       "      cell.notebook.kernel.execute(cmd);\n",
       "    }\n",
       "  }\n",
       "\n",
       "  /**\n",
       "   * Handle when a new output is added\n",
       "   */\n",
       "  function handleAddOutput(event, handle) {\n",
       "    var output_area = handle.output_area;\n",
       "    var output = handle.output;\n",
       "\n",
       "    // limit handleAddOutput to display_data with EXEC_MIME_TYPE content only\n",
       "    if ((output.output_type != \"display_data\") || (!output.data.hasOwnProperty(EXEC_MIME_TYPE))) {\n",
       "      return\n",
       "    }\n",
       "\n",
       "    var toinsert = output_area.element.find(\".\" + CLASS_NAME.split(' ')[0]);\n",
       "\n",
       "    if (output.metadata[EXEC_MIME_TYPE][\"id\"] !== undefined) {\n",
       "      toinsert[0].firstChild.textContent = output.data[JS_MIME_TYPE];\n",
       "      // store reference to embed id on output_area\n",
       "      output_area._bokeh_element_id = output.metadata[EXEC_MIME_TYPE][\"id\"];\n",
       "    }\n",
       "    if (output.metadata[EXEC_MIME_TYPE][\"server_id\"] !== undefined) {\n",
       "      var bk_div = document.createElement(\"div\");\n",
       "      bk_div.innerHTML = output.data[HTML_MIME_TYPE];\n",
       "      var script_attrs = bk_div.children[0].attributes;\n",
       "      for (var i = 0; i < script_attrs.length; i++) {\n",
       "        toinsert[0].firstChild.setAttribute(script_attrs[i].name, script_attrs[i].value);\n",
       "      }\n",
       "      // store reference to server id on output_area\n",
       "      output_area._bokeh_server_id = output.metadata[EXEC_MIME_TYPE][\"server_id\"];\n",
       "    }\n",
       "  }\n",
       "\n",
       "  function register_renderer(events, OutputArea) {\n",
       "\n",
       "    function append_mime(data, metadata, element) {\n",
       "      // create a DOM node to render to\n",
       "      var toinsert = this.create_output_subarea(\n",
       "        metadata,\n",
       "        CLASS_NAME,\n",
       "        EXEC_MIME_TYPE\n",
       "      );\n",
       "      this.keyboard_manager.register_events(toinsert);\n",
       "      // Render to node\n",
       "      var props = {data: data, metadata: metadata[EXEC_MIME_TYPE]};\n",
       "      render(props, toinsert[0]);\n",
       "      element.append(toinsert);\n",
       "      return toinsert\n",
       "    }\n",
       "\n",
       "    /* Handle when an output is cleared or removed */\n",
       "    events.on('clear_output.CodeCell', handleClearOutput);\n",
       "    events.on('delete.Cell', handleClearOutput);\n",
       "\n",
       "    /* Handle when a new output is added */\n",
       "    events.on('output_added.OutputArea', handleAddOutput);\n",
       "\n",
       "    /**\n",
       "     * Register the mime type and append_mime function with output_area\n",
       "     */\n",
       "    OutputArea.prototype.register_mime_type(EXEC_MIME_TYPE, append_mime, {\n",
       "      /* Is output safe? */\n",
       "      safe: true,\n",
       "      /* Index of renderer in `output_area.display_order` */\n",
       "      index: 0\n",
       "    });\n",
       "  }\n",
       "\n",
       "  // register the mime type if in Jupyter Notebook environment and previously unregistered\n",
       "  if (root.Jupyter !== undefined) {\n",
       "    var events = require('base/js/events');\n",
       "    var OutputArea = require('notebook/js/outputarea').OutputArea;\n",
       "\n",
       "    if (OutputArea.prototype.mime_types().indexOf(EXEC_MIME_TYPE) == -1) {\n",
       "      register_renderer(events, OutputArea);\n",
       "    }\n",
       "  }\n",
       "\n",
       "  \n",
       "  if (typeof (root._bokeh_timeout) === \"undefined\" || force === true) {\n",
       "    root._bokeh_timeout = Date.now() + 5000;\n",
       "    root._bokeh_failed_load = false;\n",
       "  }\n",
       "\n",
       "  var NB_LOAD_WARNING = {'data': {'text/html':\n",
       "     \"<div style='background-color: #fdd'>\\n\"+\n",
       "     \"<p>\\n\"+\n",
       "     \"BokehJS does not appear to have successfully loaded. If loading BokehJS from CDN, this \\n\"+\n",
       "     \"may be due to a slow or bad network connection. Possible fixes:\\n\"+\n",
       "     \"</p>\\n\"+\n",
       "     \"<ul>\\n\"+\n",
       "     \"<li>re-rerun `output_notebook()` to attempt to load from CDN again, or</li>\\n\"+\n",
       "     \"<li>use INLINE resources instead, as so:</li>\\n\"+\n",
       "     \"</ul>\\n\"+\n",
       "     \"<code>\\n\"+\n",
       "     \"from bokeh.resources import INLINE\\n\"+\n",
       "     \"output_notebook(resources=INLINE)\\n\"+\n",
       "     \"</code>\\n\"+\n",
       "     \"</div>\"}};\n",
       "\n",
       "  function display_loaded() {\n",
       "    var el = document.getElementById(\"20c7e55e-e417-4ef9-8c5b-8432b2856a04\");\n",
       "    if (el != null) {\n",
       "      el.textContent = \"BokehJS is loading...\";\n",
       "    }\n",
       "    if (root.Bokeh !== undefined) {\n",
       "      if (el != null) {\n",
       "        el.textContent = \"BokehJS \" + root.Bokeh.version + \" successfully loaded.\";\n",
       "      }\n",
       "    } else if (Date.now() < root._bokeh_timeout) {\n",
       "      setTimeout(display_loaded, 100)\n",
       "    }\n",
       "  }\n",
       "\n",
       "\n",
       "  function run_callbacks() {\n",
       "    try {\n",
       "      root._bokeh_onload_callbacks.forEach(function(callback) { callback() });\n",
       "    }\n",
       "    finally {\n",
       "      delete root._bokeh_onload_callbacks\n",
       "    }\n",
       "    console.info(\"Bokeh: all callbacks have finished\");\n",
       "  }\n",
       "\n",
       "  function load_libs(js_urls, callback) {\n",
       "    root._bokeh_onload_callbacks.push(callback);\n",
       "    if (root._bokeh_is_loading > 0) {\n",
       "      console.log(\"Bokeh: BokehJS is being loaded, scheduling callback at\", now());\n",
       "      return null;\n",
       "    }\n",
       "    if (js_urls == null || js_urls.length === 0) {\n",
       "      run_callbacks();\n",
       "      return null;\n",
       "    }\n",
       "    console.log(\"Bokeh: BokehJS not loaded, scheduling load and callback at\", now());\n",
       "    root._bokeh_is_loading = js_urls.length;\n",
       "    for (var i = 0; i < js_urls.length; i++) {\n",
       "      var url = js_urls[i];\n",
       "      var s = document.createElement('script');\n",
       "      s.src = url;\n",
       "      s.async = false;\n",
       "      s.onreadystatechange = s.onload = function() {\n",
       "        root._bokeh_is_loading--;\n",
       "        if (root._bokeh_is_loading === 0) {\n",
       "          console.log(\"Bokeh: all BokehJS libraries loaded\");\n",
       "          run_callbacks()\n",
       "        }\n",
       "      };\n",
       "      s.onerror = function() {\n",
       "        console.warn(\"failed to load library \" + url);\n",
       "      };\n",
       "      console.log(\"Bokeh: injecting script tag for BokehJS library: \", url);\n",
       "      document.getElementsByTagName(\"head\")[0].appendChild(s);\n",
       "    }\n",
       "  };var element = document.getElementById(\"20c7e55e-e417-4ef9-8c5b-8432b2856a04\");\n",
       "  if (element == null) {\n",
       "    console.log(\"Bokeh: ERROR: autoload.js configured with elementid '20c7e55e-e417-4ef9-8c5b-8432b2856a04' but no matching script tag was found. \")\n",
       "    return false;\n",
       "  }\n",
       "\n",
       "  var js_urls = [\"https://cdn.pydata.org/bokeh/release/bokeh-0.12.14.min.js\", \"https://cdn.pydata.org/bokeh/release/bokeh-widgets-0.12.14.min.js\", \"https://cdn.pydata.org/bokeh/release/bokeh-tables-0.12.14.min.js\", \"https://cdn.pydata.org/bokeh/release/bokeh-gl-0.12.14.min.js\"];\n",
       "\n",
       "  var inline_js = [\n",
       "    function(Bokeh) {\n",
       "      Bokeh.set_log_level(\"info\");\n",
       "    },\n",
       "    \n",
       "    function(Bokeh) {\n",
       "      \n",
       "    },\n",
       "    function(Bokeh) {\n",
       "      console.log(\"Bokeh: injecting CSS: https://cdn.pydata.org/bokeh/release/bokeh-0.12.14.min.css\");\n",
       "      Bokeh.embed.inject_css(\"https://cdn.pydata.org/bokeh/release/bokeh-0.12.14.min.css\");\n",
       "      console.log(\"Bokeh: injecting CSS: https://cdn.pydata.org/bokeh/release/bokeh-widgets-0.12.14.min.css\");\n",
       "      Bokeh.embed.inject_css(\"https://cdn.pydata.org/bokeh/release/bokeh-widgets-0.12.14.min.css\");\n",
       "      console.log(\"Bokeh: injecting CSS: https://cdn.pydata.org/bokeh/release/bokeh-tables-0.12.14.min.css\");\n",
       "      Bokeh.embed.inject_css(\"https://cdn.pydata.org/bokeh/release/bokeh-tables-0.12.14.min.css\");\n",
       "    }\n",
       "  ];\n",
       "\n",
       "  function run_inline_js() {\n",
       "    \n",
       "    if ((root.Bokeh !== undefined) || (force === true)) {\n",
       "      for (var i = 0; i < inline_js.length; i++) {\n",
       "        inline_js[i].call(root, root.Bokeh);\n",
       "      }if (force === true) {\n",
       "        display_loaded();\n",
       "      }} else if (Date.now() < root._bokeh_timeout) {\n",
       "      setTimeout(run_inline_js, 100);\n",
       "    } else if (!root._bokeh_failed_load) {\n",
       "      console.log(\"Bokeh: BokehJS failed to load within specified timeout.\");\n",
       "      root._bokeh_failed_load = true;\n",
       "    } else if (force !== true) {\n",
       "      var cell = $(document.getElementById(\"20c7e55e-e417-4ef9-8c5b-8432b2856a04\")).parents('.cell').data().cell;\n",
       "      cell.output_area.append_execute_result(NB_LOAD_WARNING)\n",
       "    }\n",
       "\n",
       "  }\n",
       "\n",
       "  if (root._bokeh_is_loading === 0) {\n",
       "    console.log(\"Bokeh: BokehJS loaded, going straight to plotting\");\n",
       "    run_inline_js();\n",
       "  } else {\n",
       "    load_libs(js_urls, function() {\n",
       "      console.log(\"Bokeh: BokehJS plotting callback run at\", now());\n",
       "      run_inline_js();\n",
       "    });\n",
       "  }\n",
       "}(window));"
      ],
      "application/vnd.bokehjs_load.v0+json": "\n(function(root) {\n  function now() {\n    return new Date();\n  }\n\n  var force = true;\n\n  if (typeof (root._bokeh_onload_callbacks) === \"undefined\" || force === true) {\n    root._bokeh_onload_callbacks = [];\n    root._bokeh_is_loading = undefined;\n  }\n\n  \n\n  \n  if (typeof (root._bokeh_timeout) === \"undefined\" || force === true) {\n    root._bokeh_timeout = Date.now() + 5000;\n    root._bokeh_failed_load = false;\n  }\n\n  var NB_LOAD_WARNING = {'data': {'text/html':\n     \"<div style='background-color: #fdd'>\\n\"+\n     \"<p>\\n\"+\n     \"BokehJS does not appear to have successfully loaded. If loading BokehJS from CDN, this \\n\"+\n     \"may be due to a slow or bad network connection. Possible fixes:\\n\"+\n     \"</p>\\n\"+\n     \"<ul>\\n\"+\n     \"<li>re-rerun `output_notebook()` to attempt to load from CDN again, or</li>\\n\"+\n     \"<li>use INLINE resources instead, as so:</li>\\n\"+\n     \"</ul>\\n\"+\n     \"<code>\\n\"+\n     \"from bokeh.resources import INLINE\\n\"+\n     \"output_notebook(resources=INLINE)\\n\"+\n     \"</code>\\n\"+\n     \"</div>\"}};\n\n  function display_loaded() {\n    var el = document.getElementById(\"20c7e55e-e417-4ef9-8c5b-8432b2856a04\");\n    if (el != null) {\n      el.textContent = \"BokehJS is loading...\";\n    }\n    if (root.Bokeh !== undefined) {\n      if (el != null) {\n        el.textContent = \"BokehJS \" + root.Bokeh.version + \" successfully loaded.\";\n      }\n    } else if (Date.now() < root._bokeh_timeout) {\n      setTimeout(display_loaded, 100)\n    }\n  }\n\n\n  function run_callbacks() {\n    try {\n      root._bokeh_onload_callbacks.forEach(function(callback) { callback() });\n    }\n    finally {\n      delete root._bokeh_onload_callbacks\n    }\n    console.info(\"Bokeh: all callbacks have finished\");\n  }\n\n  function load_libs(js_urls, callback) {\n    root._bokeh_onload_callbacks.push(callback);\n    if (root._bokeh_is_loading > 0) {\n      console.log(\"Bokeh: BokehJS is being loaded, scheduling callback at\", now());\n      return null;\n    }\n    if (js_urls == null || js_urls.length === 0) {\n      run_callbacks();\n      return null;\n    }\n    console.log(\"Bokeh: BokehJS not loaded, scheduling load and callback at\", now());\n    root._bokeh_is_loading = js_urls.length;\n    for (var i = 0; i < js_urls.length; i++) {\n      var url = js_urls[i];\n      var s = document.createElement('script');\n      s.src = url;\n      s.async = false;\n      s.onreadystatechange = s.onload = function() {\n        root._bokeh_is_loading--;\n        if (root._bokeh_is_loading === 0) {\n          console.log(\"Bokeh: all BokehJS libraries loaded\");\n          run_callbacks()\n        }\n      };\n      s.onerror = function() {\n        console.warn(\"failed to load library \" + url);\n      };\n      console.log(\"Bokeh: injecting script tag for BokehJS library: \", url);\n      document.getElementsByTagName(\"head\")[0].appendChild(s);\n    }\n  };var element = document.getElementById(\"20c7e55e-e417-4ef9-8c5b-8432b2856a04\");\n  if (element == null) {\n    console.log(\"Bokeh: ERROR: autoload.js configured with elementid '20c7e55e-e417-4ef9-8c5b-8432b2856a04' but no matching script tag was found. \")\n    return false;\n  }\n\n  var js_urls = [\"https://cdn.pydata.org/bokeh/release/bokeh-0.12.14.min.js\", \"https://cdn.pydata.org/bokeh/release/bokeh-widgets-0.12.14.min.js\", \"https://cdn.pydata.org/bokeh/release/bokeh-tables-0.12.14.min.js\", \"https://cdn.pydata.org/bokeh/release/bokeh-gl-0.12.14.min.js\"];\n\n  var inline_js = [\n    function(Bokeh) {\n      Bokeh.set_log_level(\"info\");\n    },\n    \n    function(Bokeh) {\n      \n    },\n    function(Bokeh) {\n      console.log(\"Bokeh: injecting CSS: https://cdn.pydata.org/bokeh/release/bokeh-0.12.14.min.css\");\n      Bokeh.embed.inject_css(\"https://cdn.pydata.org/bokeh/release/bokeh-0.12.14.min.css\");\n      console.log(\"Bokeh: injecting CSS: https://cdn.pydata.org/bokeh/release/bokeh-widgets-0.12.14.min.css\");\n      Bokeh.embed.inject_css(\"https://cdn.pydata.org/bokeh/release/bokeh-widgets-0.12.14.min.css\");\n      console.log(\"Bokeh: injecting CSS: https://cdn.pydata.org/bokeh/release/bokeh-tables-0.12.14.min.css\");\n      Bokeh.embed.inject_css(\"https://cdn.pydata.org/bokeh/release/bokeh-tables-0.12.14.min.css\");\n    }\n  ];\n\n  function run_inline_js() {\n    \n    if ((root.Bokeh !== undefined) || (force === true)) {\n      for (var i = 0; i < inline_js.length; i++) {\n        inline_js[i].call(root, root.Bokeh);\n      }if (force === true) {\n        display_loaded();\n      }} else if (Date.now() < root._bokeh_timeout) {\n      setTimeout(run_inline_js, 100);\n    } else if (!root._bokeh_failed_load) {\n      console.log(\"Bokeh: BokehJS failed to load within specified timeout.\");\n      root._bokeh_failed_load = true;\n    } else if (force !== true) {\n      var cell = $(document.getElementById(\"20c7e55e-e417-4ef9-8c5b-8432b2856a04\")).parents('.cell').data().cell;\n      cell.output_area.append_execute_result(NB_LOAD_WARNING)\n    }\n\n  }\n\n  if (root._bokeh_is_loading === 0) {\n    console.log(\"Bokeh: BokehJS loaded, going straight to plotting\");\n    run_inline_js();\n  } else {\n    load_libs(js_urls, function() {\n      console.log(\"Bokeh: BokehJS plotting callback run at\", now());\n      run_inline_js();\n    });\n  }\n}(window));"
     },
     "metadata": {},
     "output_type": "display_data"
    }
   ],
   "source": [
    "output_notebook()"
   ]
  },
  {
   "cell_type": "code",
   "execution_count": 8,
   "metadata": {
    "collapsed": true
   },
   "outputs": [],
   "source": [
    "def fmt_cool(ds_in):\n",
    "    ds = ds_in.copy(deep=True)\n",
    "    if 'igg' in ds.dims:\n",
    "        ds = ds.sel(igg=1)\n",
    "\n",
    "    if 'g' in ds.dims:\n",
    "        ds = ds.sum('g')\n",
    "            \n",
    "    if 'band' in ds.dims:\n",
    "        try:\n",
    "            ds = ds.squeeze('band')\n",
    "        except ValueError:\n",
    "            ds = ds.sum('band')\n",
    "                \n",
    "    return ds['coolrg']\n",
    "\n",
    "\n",
    "def pltdata_cooling_1(ds_cool=None,\n",
    "                      ds_cool_crd=None, ds_cool_wgt=None):\n",
    "    \n",
    "\n",
    "\n",
    "    colors = all_palettes['Set1'][4]\n",
    "    data = [{'label': 'CLIRAD `coolr_bands`',\n",
    "             'srs': fmt_cool(ds_cool),\n",
    "             'line_dash': 'dashed', 'line_width': 5,\n",
    "             'color': colors[0], 'alpha': .6},\n",
    "            {'label': 'CRD',\n",
    "             'srs': fmt_cool(ds_cool_crd),\n",
    "             'line_dash': 'solid', 'line_width': 1.5,\n",
    "             'marker': 'circle', 'marker_size': 5,\n",
    "             'color': colors[2], 'alpha': 1,},\n",
    "            {'label': 'WGT igg=10 wgt_flux=2',\n",
    "             'srs': fmt_cool(ds_cool_wgt),\n",
    "             'line_dash': 'solid', 'line_width': 3,\n",
    "             'marker': 'square', 'marker_size': 5,\n",
    "             'color': colors[3], 'alpha': .6}]\n",
    "    return data\n",
    "\n",
    "\n",
    "def nice_xlims(pltdata=None, prange=None):\n",
    "    \n",
    "    def get_slice(srs):\n",
    "        return srs.sel(pressure=slice(*prange))\n",
    "    \n",
    "    srss = [d['srs'] for d in pltdata]\n",
    "    vmin = min([get_slice(srs).min() for srs in srss])\n",
    "    vmax = max([get_slice(srs).max() for srs in srss])\n",
    "    dv = (vmax - vmin) * .01\n",
    "    return float(vmin - dv), float(vmax + dv)\n",
    "    \n",
    "\n",
    "def plt_cooling_bokeh(pltdata=None):\n",
    "    '''\n",
    "    Plot a list of cooling rate profiles using bokeh.\n",
    "    '''\n",
    "    ymin = 1e-2 \n",
    "    ymax = 1020 \n",
    "        \n",
    "    p1 = figure(title=\"Linear pressure scale\", \n",
    "                plot_width=400)        \n",
    "    xmin, xmax = nice_xlims(pltdata, prange=(50, 1050))\n",
    "    for d in pltdata:\n",
    "        if 'marker' in d:\n",
    "            getattr(p1, d['marker'])(d['srs'].values, \n",
    "                    d['srs'].coords['pressure'].values,\n",
    "                    color=d['color'], alpha=.7)\n",
    "        p1.line(d['srs'].values, \n",
    "                d['srs'].coords['pressure'].values,\n",
    "                color=d['color'], alpha=d['alpha'], \n",
    "                line_width=d['line_width'], line_dash=d['line_dash'])\n",
    "    \n",
    "    p1.y_range = Range1d(ymax, ymin)\n",
    "    p1.yaxis.axis_label = 'pressure [mb]'   \n",
    "    p1.x_range = Range1d(xmin, xmax)\n",
    "    p1.xaxis.axis_label = 'cooling rate [K/day]'\n",
    "            \n",
    "    p2 = figure(title='Log pressure scale', y_axis_type='log',\n",
    "                plot_width=560)\n",
    "    xmin, xmax = nice_xlims(pltdata, prange=(.01, 200))\n",
    "    \n",
    "    rs = []\n",
    "    for d in pltdata:\n",
    "        rd = []\n",
    "        if 'marker' in d:\n",
    "            r_mark = getattr(p2, d['marker'])(d['srs'].values, \n",
    "                        d['srs'].coords['pressure'].values,\n",
    "                        color=d['color'], alpha=.7)\n",
    "            rd.append(r_mark)\n",
    "        r_line = p2.line(d['srs'].values, \n",
    "                    d['srs'].coords['pressure'].values,\n",
    "                    color=d['color'], alpha=d['alpha'], \n",
    "                    line_width=d['line_width'], line_dash=d['line_dash'])\n",
    "        rd.append(r_line)\n",
    "      \n",
    "        rs.append(rd)\n",
    "        \n",
    "    p2.y_range = Range1d(ymax, ymin)  \n",
    "    p2.yaxis.axis_label = 'pressure [mb]'\n",
    "    \n",
    "    p2.x_range = Range1d(xmin, xmax)\n",
    "    p2.xaxis.axis_label = 'cooling rate [K/day]'\n",
    "    \n",
    "    items = [(d['label'], r) for r, d in zip(rs, pltdata)]\n",
    "    legend = Legend(items=items, location=(10, -30))\n",
    "    legend.label_text_font_size = '8pt'\n",
    "    \n",
    "    p2.add_layout(legend, 'right')  \n",
    "    \n",
    "    show(gridplot(p1, p2, ncols=2, plot_height=500))\n",
    "    \n",
    "\n",
    "def script_plt_cooling():\n",
    "    pltdata = pltdata_cooling_1(\n",
    "        ds_cool=DS_COOL,\n",
    "        ds_cool_crd=DS_COOL_CRD,\n",
    "        ds_cool_wgt=DS_COOL_WGT)\n",
    "    plt_cooling_bokeh(pltdata=pltdata)\n",
    "    print('''FIGURE. Cooling rate profiles.''')"
   ]
  },
  {
   "cell_type": "code",
   "execution_count": 9,
   "metadata": {
    "collapsed": true
   },
   "outputs": [],
   "source": [
    "def fmt_flux(ds_in):\n",
    "    ds = ds_in.copy(deep=True)\n",
    "    \n",
    "    for l in ('level', 'layer'):\n",
    "        if l in ds.data_vars:\n",
    "            if len(ds[l].dims) > 1:\n",
    "                surface = {d: 0 for d in ds.dims if d != 'pressure'}\n",
    "                coord_level = ds[l][surface]\n",
    "                ds.coords[l] = ('pressure', coord_level)\n",
    "            else:\n",
    "                ds.coords[l] = ('pressure', ds[l])\n",
    "        \n",
    "    ds = ds.isel(pressure=[0, 23, -1])\n",
    "        \n",
    "    if 'igg' in ds.dims:\n",
    "        ds = ds.sel(igg=[1])\n",
    "        ds = ds.squeeze('igg').drop('igg')\n",
    "    \n",
    "    if 'g' in ds.dims:\n",
    "        ds = ds.sum('g')\n",
    "            \n",
    "    if 'band' in ds.dims:\n",
    "        try:\n",
    "            ds = ds.squeeze('band').drop('band')\n",
    "        except ValueError:\n",
    "            ds = ds.sum('band')\n",
    "                \n",
    "    df = ds.to_dataframe()\n",
    "    df = df.set_index('level', append=True)               \n",
    "    return df\n",
    "\n",
    "\n",
    "def tbdata_flux(ds_flux=None, ds_flux_crd=None, ds_flux_wgt=None):\n",
    "    ilevels = [0, 23, -1]\n",
    "            \n",
    "    benchmark = {'label': 'WGT igg=10 wgt_flux=1',\n",
    "                 'df': fmt_flux(ds_flux_wgt)}\n",
    "    \n",
    "    tbs = [{'label': 'CRD',\n",
    "            'df': fmt_flux(ds_flux_crd)},\n",
    "           {'label': 'CLIRAD',\n",
    "            'df': fmt_flux(ds_flux)}]\n",
    "    \n",
    "    data = {'benchmark': benchmark, 'others': tbs}\n",
    "    return data\n",
    "\n",
    "\n",
    "def tb_flux(tbdata=None):\n",
    "    benchmark = tbdata['benchmark']\n",
    "    others = tbdata['others']\n",
    "    \n",
    "    def show_tb(d=None):\n",
    "        display.display(d['df'])\n",
    "        print('Table.', 'Fluxes.', d['label'])\n",
    "        \n",
    "    def show_tbdiff(d0=None, d=None):\n",
    "        df = d['df']\n",
    "        df.index = d0['df'].index\n",
    "        display.display(df - d0['df'])\n",
    "        print('Table.', 'Fluxes.', \n",
    "              '({}) - ({})'.format(d['label'], d0['label']))\n",
    "        \n",
    "    show_tb(benchmark)\n",
    "    for d in others:\n",
    "        show_tb(d)\n",
    "        \n",
    "    for d in others:\n",
    "        show_tbdiff(d=d, d0=benchmark)\n",
    "        \n",
    "        \n",
    "def script_tb_flux():\n",
    "    data = tbdata_flux(ds_flux=DS_FLUX,\n",
    "                       ds_flux_crd=DS_FLUX_CRD,\n",
    "                       ds_flux_wgt=DS_FLUX_WGT)\n",
    "    tb_flux(tbdata=data)"
   ]
  },
  {
   "cell_type": "code",
   "execution_count": 10,
   "metadata": {
    "collapsed": true
   },
   "outputs": [],
   "source": [
    "def band_map():\n",
    "    '''\n",
    "    Maps spectral bands in lblnew to spectral bands in clirad.\n",
    "    '''\n",
    "    lblnew2clirad = {'1': '1',\n",
    "            '2': '2',\n",
    "            '3a': '3',\n",
    "            '3b': '4',\n",
    "            '3c': '5',\n",
    "            '4': '6', \n",
    "            '5': '7',\n",
    "            '6': '8',\n",
    "            '7': '9', \n",
    "            '8': '10',\n",
    "            '9': '11'}\n",
    "    \n",
    "    clirad2lblnew = {clirad: lblnew \n",
    "                     for lblnew, clirad in lblnew2clirad.items()}\n",
    "    return clirad2lblnew\n",
    "\n",
    "\n",
    "def gasbands():\n",
    "    bmap = band_map()\n",
    "    gases = list(PARAM['molecule'].keys())\n",
    "    \n",
    "    bands = [bmap[str(b)] for b in PARAM['band']]\n",
    "    return list(itertools.product(gases, bands))\n",
    "\n",
    "\n",
    "def print_bestfit_params():\n",
    "    print('Best-fit values for each (gas, band)')\n",
    "    print('------------------------------------')\n",
    "    for gas, band in gasbands():\n",
    "        print('o {} band{}'.format(gas, band))\n",
    "        param = bestfits.kdist_params(molecule=gas, band=band)\n",
    "        for name, value in sorted(param.items()):\n",
    "            print(2 * ' ' + '{} = {}'.format(name, value))\n",
    "\n",
    "        \n",
    "def print_input_param():        \n",
    "    for name, value in PARAM.items():\n",
    "        print('{} = {}'.format(name, value))\n",
    "        \n",
    "        \n",
    "def print_lblnew_param():\n",
    "    for name, value in sorted(PARAM_LBLNEW.items()):\n",
    "        print('{} = {}'.format(name, value))\n"
   ]
  },
  {
   "cell_type": "code",
   "execution_count": 11,
   "metadata": {
    "collapsed": true,
    "scrolled": false
   },
   "outputs": [],
   "source": [
    "def show_html(s):\n",
    "    display.display(display.HTML(s))\n",
    "\n",
    "    \n",
    "def show_markdown(s):\n",
    "    display.display(display.Markdown(s))\n",
    "\n",
    "    \n",
    "def script():\n",
    "    \n",
    "    title = '### CLIRAD-LW'\n",
    "    s_input = 'Input Parameters'\n",
    "    s_lblnew_param = 'LBLNEW case compaired against'\n",
    "    s_bestfits = 'Best-fit Parameters'\n",
    "    s_plt_cooling = 'Cooling Rate Profiles'\n",
    "    s_tb_flux = 'Flux Comparison'\n",
    "    \n",
    "    # title\n",
    "    show_markdown('### CLIRAD-LW')\n",
    "    \n",
    "    # TOC\n",
    "    show_markdown('### Table of Contents')\n",
    "    show_html(climahtml.getHTML_hrefanchor(s_input))\n",
    "    show_html(climahtml.getHTML_hrefanchor(s_lblnew_param))\n",
    "    show_html(climahtml.getHTML_hrefanchor(s_plt_cooling))\n",
    "    show_html(climahtml.getHTML_hrefanchor(s_tb_flux))\n",
    "    show_html(climahtml.getHTML_hrefanchor(s_bestfits))\n",
    "    \n",
    "    # Input parameters\n",
    "    show_html(climahtml.getHTML_idanchor(s_input))\n",
    "    show_markdown(climahtml.getMarkdown_sectitle(s_input))\n",
    "    print_input_param()\n",
    "    \n",
    "    # LBLNEW parameters \n",
    "    show_html(climahtml.getHTML_idanchor(s_lblnew_param))\n",
    "    show_markdown(climahtml.getMarkdown_sectitle(s_lblnew_param))\n",
    "    print_lblnew_param()\n",
    "    \n",
    "    # Cooling rate profiles\n",
    "    show_html(climahtml.getHTML_idanchor(s_plt_cooling))\n",
    "    show_markdown(climahtml.getMarkdown_sectitle(s_plt_cooling))\n",
    "    script_plt_cooling()\n",
    "    \n",
    "    # Flux comparison\n",
    "    show_html(climahtml.getHTML_idanchor(s_tb_flux))\n",
    "    show_markdown(climahtml.getMarkdown_sectitle(s_tb_flux))\n",
    "    script_tb_flux()\n",
    "    \n",
    "    # Best-fit values\n",
    "    show_html(climahtml.getHTML_idanchor(s_bestfits))\n",
    "    show_markdown(climahtml.getMarkdown_sectitle(s_bestfits))\n",
    "    print_bestfit_params()\n",
    "   \n",
    "    "
   ]
  },
  {
   "cell_type": "code",
   "execution_count": 12,
   "metadata": {
    "collapsed": true,
    "scrolled": false
   },
   "outputs": [
    {
     "data": {
      "text/markdown": [
       "### CLIRAD-LW"
      ],
      "text/plain": [
       "<IPython.core.display.Markdown object>"
      ]
     },
     "metadata": {},
     "output_type": "display_data"
    },
    {
     "data": {
      "text/markdown": [
       "### Table of Contents"
      ],
      "text/plain": [
       "<IPython.core.display.Markdown object>"
      ]
     },
     "metadata": {},
     "output_type": "display_data"
    },
    {
     "data": {
      "text/html": [
       "<a href=\"#Input_Parameters\">Input Parameters</a>"
      ],
      "text/plain": [
       "<IPython.core.display.HTML object>"
      ]
     },
     "metadata": {},
     "output_type": "display_data"
    },
    {
     "data": {
      "text/html": [
       "<a href=\"#LBLNEW_case_compaired_against\">LBLNEW case compaired against</a>"
      ],
      "text/plain": [
       "<IPython.core.display.HTML object>"
      ]
     },
     "metadata": {},
     "output_type": "display_data"
    },
    {
     "data": {
      "text/html": [
       "<a href=\"#Cooling_Rate_Profiles\">Cooling Rate Profiles</a>"
      ],
      "text/plain": [
       "<IPython.core.display.HTML object>"
      ]
     },
     "metadata": {},
     "output_type": "display_data"
    },
    {
     "data": {
      "text/html": [
       "<a href=\"#Flux_Comparison\">Flux Comparison</a>"
      ],
      "text/plain": [
       "<IPython.core.display.HTML object>"
      ]
     },
     "metadata": {},
     "output_type": "display_data"
    },
    {
     "data": {
      "text/html": [
       "<a href=\"#Best-fit_Parameters\">Best-fit Parameters</a>"
      ],
      "text/plain": [
       "<IPython.core.display.HTML object>"
      ]
     },
     "metadata": {},
     "output_type": "display_data"
    },
    {
     "data": {
      "text/html": [
       "<a id=\"Input_Parameters\"></a>"
      ],
      "text/plain": [
       "<IPython.core.display.HTML object>"
      ]
     },
     "metadata": {},
     "output_type": "display_data"
    },
    {
     "data": {
      "text/markdown": [
       "# Input Parameters"
      ],
      "text/plain": [
       "<IPython.core.display.Markdown object>"
      ]
     },
     "metadata": {},
     "output_type": "display_data"
    },
    {
     "name": "stdout",
     "output_type": "stream",
     "text": [
      "atmpro = mls\n",
      "band = [3]\n",
      "commitnumber = 0c003ef\n",
      "molecule = {'co2': 0.0004}\n",
      "tsfc = 294\n"
     ]
    },
    {
     "data": {
      "text/html": [
       "<a id=\"LBLNEW_case_compaired_against\"></a>"
      ],
      "text/plain": [
       "<IPython.core.display.HTML object>"
      ]
     },
     "metadata": {},
     "output_type": "display_data"
    },
    {
     "data": {
      "text/markdown": [
       "# LBLNEW case compaired against"
      ],
      "text/plain": [
       "<IPython.core.display.Markdown object>"
      ]
     },
     "metadata": {},
     "output_type": "display_data"
    },
    {
     "name": "stdout",
     "output_type": "stream",
     "text": [
      "atmpro = mls\n",
      "band = 3a\n",
      "commitnumber = 2bd1f75\n",
      "conc = 0.0004\n",
      "dv = 0.01\n",
      "klin = 6.375563e-24\n",
      "molecule = co2\n",
      "ng_adju = [0, 0, 0]\n",
      "ng_refs = [3, 2, 4]\n",
      "nv = 100\n",
      "option_compute_btable = 0\n",
      "option_compute_ktable = 0\n",
      "option_wgt_flux = 1\n",
      "option_wgt_k = 1\n",
      "ref_pts = [(1, 250), (10, 250), (500, 250)]\n",
      "tsfc = 294\n",
      "vmax = 620\n",
      "vmin = 540\n",
      "w_diffuse = [(1.6, 1.6, 1.7), (1.75, 1.75), (1.55, 1.55, 1.6, 1.85)]\n",
      "wgt = [(0.7, 0.3, 0.7), (0.7, 0.6), (0.4, 0.5, 0.8, 0.95)]\n"
     ]
    },
    {
     "data": {
      "text/html": [
       "<a id=\"Cooling_Rate_Profiles\"></a>"
      ],
      "text/plain": [
       "<IPython.core.display.HTML object>"
      ]
     },
     "metadata": {},
     "output_type": "display_data"
    },
    {
     "data": {
      "text/markdown": [
       "# Cooling Rate Profiles"
      ],
      "text/plain": [
       "<IPython.core.display.Markdown object>"
      ]
     },
     "metadata": {},
     "output_type": "display_data"
    },
    {
     "data": {
      "text/html": [
       "\n",
       "<div class=\"bk-root\">\n",
       "    <div class=\"bk-plotdiv\" id=\"d883dcef-e71d-4b70-9d57-d3a0306f816f\"></div>\n",
       "</div>"
      ]
     },
     "metadata": {},
     "output_type": "display_data"
    },
    {
     "data": {
      "application/javascript": [
       "(function(root) {\n",
       "  function embed_document(root) {\n",
       "    \n",
       "  var docs_json = {\"32934afe-615e-4c1d-825b-14637ebde63d\":{\"roots\":{\"references\":[{\"attributes\":{\"below\":[{\"id\":\"df98d834-c62f-4865-963c-b8bbb967b95c\",\"type\":\"LinearAxis\"}],\"left\":[{\"id\":\"67a8ce7c-5f62-427b-8000-c9cb5ae05840\",\"type\":\"LinearAxis\"}],\"plot_height\":500,\"plot_width\":400,\"renderers\":[{\"id\":\"df98d834-c62f-4865-963c-b8bbb967b95c\",\"type\":\"LinearAxis\"},{\"id\":\"e9c69556-4c06-4c96-ba0e-49da7d3e749e\",\"type\":\"Grid\"},{\"id\":\"67a8ce7c-5f62-427b-8000-c9cb5ae05840\",\"type\":\"LinearAxis\"},{\"id\":\"91b128ed-e355-4980-bed5-48a279f8cb22\",\"type\":\"Grid\"},{\"id\":\"246d3d10-0624-474a-9f56-b524fdf5cec9\",\"type\":\"BoxAnnotation\"},{\"id\":\"5b5ea525-db66-4540-bf95-83a057e011d5\",\"type\":\"GlyphRenderer\"},{\"id\":\"00bbe3a3-9a11-41a2-a6d0-27994d21106a\",\"type\":\"GlyphRenderer\"},{\"id\":\"8366c51d-4af9-4398-95a8-c47cc8814c75\",\"type\":\"GlyphRenderer\"},{\"id\":\"0d016208-193f-4ec3-ba80-a4e165fc99c5\",\"type\":\"GlyphRenderer\"},{\"id\":\"9092ba03-a6e4-4d1a-b63b-0998eb39dc10\",\"type\":\"GlyphRenderer\"}],\"title\":{\"id\":\"b85a2065-8933-492e-bcd3-52fec2f77fdc\",\"type\":\"Title\"},\"toolbar\":{\"id\":\"c0ec42ea-52d1-46d0-9bdc-ddc7ece3bca0\",\"type\":\"Toolbar\"},\"toolbar_location\":null,\"x_range\":{\"id\":\"91b5f671-66ae-4174-80e5-2e25ffdf9619\",\"type\":\"Range1d\"},\"x_scale\":{\"id\":\"54978fb3-c620-46bd-906e-f85ace5dac44\",\"type\":\"LinearScale\"},\"y_range\":{\"id\":\"63c47c03-4f55-46c8-87de-0652cafd00f3\",\"type\":\"Range1d\"},\"y_scale\":{\"id\":\"c8310a74-f4c4-4ba6-9a18-93e8c155c568\",\"type\":\"LinearScale\"}},\"id\":\"82f88a53-17a6-4c92-b864-455ddf0817cd\",\"subtype\":\"Figure\",\"type\":\"Plot\"},{\"attributes\":{},\"id\":\"cc999fbf-684f-4331-b7be-dc6400163c4d\",\"type\":\"SaveTool\"},{\"attributes\":{},\"id\":\"6fc9e8bc-6079-4368-8568-07261ba3c90e\",\"type\":\"ResetTool\"},{\"attributes\":{},\"id\":\"357d3c3c-9c6e-4e55-be7f-2bc827fca74a\",\"type\":\"HelpTool\"},{\"attributes\":{},\"id\":\"7f090cd8-d451-469c-a482-253f598ce4f9\",\"type\":\"WheelZoomTool\"},{\"attributes\":{\"overlay\":{\"id\":\"246d3d10-0624-474a-9f56-b524fdf5cec9\",\"type\":\"BoxAnnotation\"}},\"id\":\"27b55a60-366b-497a-a0f6-b453aa5bb878\",\"type\":\"BoxZoomTool\"},{\"attributes\":{\"bottom_units\":\"screen\",\"fill_alpha\":{\"value\":0.5},\"fill_color\":{\"value\":\"lightgrey\"},\"left_units\":\"screen\",\"level\":\"overlay\",\"line_alpha\":{\"value\":1.0},\"line_color\":{\"value\":\"black\"},\"line_dash\":[4,4],\"line_width\":{\"value\":2},\"plot\":null,\"render_mode\":\"css\",\"right_units\":\"screen\",\"top_units\":\"screen\"},\"id\":\"e2197c3c-9d49-43fa-bebe-473977c4f1e6\",\"type\":\"BoxAnnotation\"},{\"attributes\":{\"source\":{\"id\":\"64859f13-7602-4d1f-b7de-61f630ee5f2c\",\"type\":\"ColumnDataSource\"}},\"id\":\"4691b1f1-a0cd-4559-9e43-473fbcf2526a\",\"type\":\"CDSView\"},{\"attributes\":{\"source\":{\"id\":\"1f7a3df0-e551-47ca-b819-e77e00c40895\",\"type\":\"ColumnDataSource\"}},\"id\":\"fc911d2c-a9c5-4ca1-ab4c-129cb4377867\",\"type\":\"CDSView\"},{\"attributes\":{\"below\":[{\"id\":\"29da7471-555a-4d72-b994-fb15769c9b59\",\"type\":\"LinearAxis\"}],\"left\":[{\"id\":\"c36bf952-714b-49ee-bfbb-49074f88b019\",\"type\":\"LogAxis\"}],\"plot_height\":500,\"plot_width\":560,\"renderers\":[{\"id\":\"29da7471-555a-4d72-b994-fb15769c9b59\",\"type\":\"LinearAxis\"},{\"id\":\"9d252207-2732-43f8-b423-79fab4439b3b\",\"type\":\"Grid\"},{\"id\":\"c36bf952-714b-49ee-bfbb-49074f88b019\",\"type\":\"LogAxis\"},{\"id\":\"51eca79e-55a6-4455-b341-7c2a3a85c04c\",\"type\":\"Grid\"},{\"id\":\"e2197c3c-9d49-43fa-bebe-473977c4f1e6\",\"type\":\"BoxAnnotation\"},{\"id\":\"72e28a20-7c15-45a5-83a4-768d223b5fb7\",\"type\":\"GlyphRenderer\"},{\"id\":\"b9a873f9-1d93-439c-82e6-5fa884d6058b\",\"type\":\"GlyphRenderer\"},{\"id\":\"88d4dc84-0671-4c5c-9247-aa52bcb384a7\",\"type\":\"GlyphRenderer\"},{\"id\":\"9a943594-eecd-49ca-a4eb-6aefea21e006\",\"type\":\"GlyphRenderer\"},{\"id\":\"37864636-8161-4be3-aa42-d1433d18830d\",\"type\":\"GlyphRenderer\"},{\"id\":\"44c38ee6-aa1d-451b-83f3-882b8945a79b\",\"type\":\"Legend\"}],\"right\":[{\"id\":\"44c38ee6-aa1d-451b-83f3-882b8945a79b\",\"type\":\"Legend\"}],\"title\":{\"id\":\"4928c6ab-83ad-449b-9c24-bb80e839e81f\",\"type\":\"Title\"},\"toolbar\":{\"id\":\"3a7b3e75-d90a-49de-aec0-f19af240ce60\",\"type\":\"Toolbar\"},\"toolbar_location\":null,\"x_range\":{\"id\":\"31a40f5b-d0f4-44d3-a3f4-14ba96ac7701\",\"type\":\"Range1d\"},\"x_scale\":{\"id\":\"1a8bd904-ef2d-4983-98a4-7e4efd9a5c42\",\"type\":\"LinearScale\"},\"y_range\":{\"id\":\"7eb928da-395d-4e8c-946e-778bf8043e9c\",\"type\":\"Range1d\"},\"y_scale\":{\"id\":\"e0478916-4626-4bfa-8ba9-dedbea31c849\",\"type\":\"LogScale\"}},\"id\":\"35ddc626-cb00-4b2e-a952-cf504d2239dd\",\"subtype\":\"Figure\",\"type\":\"Plot\"},{\"attributes\":{\"line_alpha\":0.1,\"line_color\":\"#1f77b4\",\"line_dash\":[6],\"line_width\":5,\"x\":{\"field\":\"x\"},\"y\":{\"field\":\"y\"}},\"id\":\"919ce9d5-83a5-4294-8538-beec28776cc5\",\"type\":\"Line\"},{\"attributes\":{\"line_alpha\":0.6,\"line_color\":\"#e41a1c\",\"line_dash\":[6],\"line_width\":5,\"x\":{\"field\":\"x\"},\"y\":{\"field\":\"y\"}},\"id\":\"cc526746-be13-4645-bfd1-b545c78a5737\",\"type\":\"Line\"},{\"attributes\":{},\"id\":\"ee261bf0-d334-4694-a9d2-b3eac57d5526\",\"type\":\"HelpTool\"},{\"attributes\":{\"plot\":{\"id\":\"35ddc626-cb00-4b2e-a952-cf504d2239dd\",\"subtype\":\"Figure\",\"type\":\"Plot\"},\"ticker\":{\"id\":\"c3669385-c526-4364-8129-04f65237d0a9\",\"type\":\"BasicTicker\"}},\"id\":\"9d252207-2732-43f8-b423-79fab4439b3b\",\"type\":\"Grid\"},{\"attributes\":{\"dimension\":1,\"plot\":{\"id\":\"35ddc626-cb00-4b2e-a952-cf504d2239dd\",\"subtype\":\"Figure\",\"type\":\"Plot\"},\"ticker\":{\"id\":\"e1b8d0b7-392e-4f01-abf9-c3c69ef3ee48\",\"type\":\"LogTicker\"}},\"id\":\"51eca79e-55a6-4455-b341-7c2a3a85c04c\",\"type\":\"Grid\"},{\"attributes\":{\"data_source\":{\"id\":\"af40383b-7481-411a-acfa-34c0d08a8402\",\"type\":\"ColumnDataSource\"},\"glyph\":{\"id\":\"cc526746-be13-4645-bfd1-b545c78a5737\",\"type\":\"Line\"},\"hover_glyph\":null,\"muted_glyph\":null,\"nonselection_glyph\":{\"id\":\"a4975563-05f8-4a6b-90de-df58711d0f29\",\"type\":\"Line\"},\"selection_glyph\":null,\"view\":{\"id\":\"5851d30a-7572-4d39-87e7-411450cd29f1\",\"type\":\"CDSView\"}},\"id\":\"72e28a20-7c15-45a5-83a4-768d223b5fb7\",\"type\":\"GlyphRenderer\"},{\"attributes\":{},\"id\":\"dd9ea9ba-8899-4205-b8c2-ee16200caf4b\",\"type\":\"PanTool\"},{\"attributes\":{},\"id\":\"c3669385-c526-4364-8129-04f65237d0a9\",\"type\":\"BasicTicker\"},{\"attributes\":{\"axis_label\":\"cooling rate [K/day]\",\"formatter\":{\"id\":\"67c5c884-3418-4750-98e7-cc8f91c8207b\",\"type\":\"BasicTickFormatter\"},\"plot\":{\"id\":\"35ddc626-cb00-4b2e-a952-cf504d2239dd\",\"subtype\":\"Figure\",\"type\":\"Plot\"},\"ticker\":{\"id\":\"c3669385-c526-4364-8129-04f65237d0a9\",\"type\":\"BasicTicker\"}},\"id\":\"29da7471-555a-4d72-b994-fb15769c9b59\",\"type\":\"LinearAxis\"},{\"attributes\":{\"data_source\":{\"id\":\"8c42fc49-34e5-4528-89e3-7225d09849eb\",\"type\":\"ColumnDataSource\"},\"glyph\":{\"id\":\"357eea8c-f439-4103-82c9-297dfd9e7b06\",\"type\":\"Line\"},\"hover_glyph\":null,\"muted_glyph\":null,\"nonselection_glyph\":{\"id\":\"3e6f5570-9904-4570-ae3f-599387b4b4b3\",\"type\":\"Line\"},\"selection_glyph\":null,\"view\":{\"id\":\"c8e7ae71-53cd-4bf6-a02b-307e78fc1bfc\",\"type\":\"CDSView\"}},\"id\":\"8366c51d-4af9-4398-95a8-c47cc8814c75\",\"type\":\"GlyphRenderer\"},{\"attributes\":{\"plot\":null,\"text\":\"Log pressure scale\"},\"id\":\"4928c6ab-83ad-449b-9c24-bb80e839e81f\",\"type\":\"Title\"},{\"attributes\":{\"active_drag\":\"auto\",\"active_inspect\":\"auto\",\"active_scroll\":\"auto\",\"active_tap\":\"auto\",\"tools\":[{\"id\":\"dd9ea9ba-8899-4205-b8c2-ee16200caf4b\",\"type\":\"PanTool\"},{\"id\":\"1709ac5f-429f-4147-a6e0-ef4e4e2442a1\",\"type\":\"WheelZoomTool\"},{\"id\":\"c0862183-fce3-42f0-8f19-14ef42ea615f\",\"type\":\"BoxZoomTool\"},{\"id\":\"5535007a-54a3-4165-ac4a-85f0bb16729b\",\"type\":\"SaveTool\"},{\"id\":\"e0454f92-47ad-41c9-ae31-5e09c348e9ac\",\"type\":\"ResetTool\"},{\"id\":\"ee261bf0-d334-4694-a9d2-b3eac57d5526\",\"type\":\"HelpTool\"}]},\"id\":\"3a7b3e75-d90a-49de-aec0-f19af240ce60\",\"type\":\"Toolbar\"},{\"attributes\":{\"source\":{\"id\":\"8c42fc49-34e5-4528-89e3-7225d09849eb\",\"type\":\"ColumnDataSource\"}},\"id\":\"c8e7ae71-53cd-4bf6-a02b-307e78fc1bfc\",\"type\":\"CDSView\"},{\"attributes\":{\"fill_alpha\":{\"value\":0.7},\"fill_color\":{\"value\":\"#4daf4a\"},\"line_alpha\":{\"value\":0.7},\"line_color\":{\"value\":\"#4daf4a\"},\"x\":{\"field\":\"x\"},\"y\":{\"field\":\"y\"}},\"id\":\"896ceb06-accd-46fd-996f-6c2d9e9e5d48\",\"type\":\"Circle\"},{\"attributes\":{\"source\":{\"id\":\"af40383b-7481-411a-acfa-34c0d08a8402\",\"type\":\"ColumnDataSource\"}},\"id\":\"5851d30a-7572-4d39-87e7-411450cd29f1\",\"type\":\"CDSView\"},{\"attributes\":{\"label\":{\"value\":\"WGT igg=10 wgt_flux=2\"},\"renderers\":[{\"id\":\"9a943594-eecd-49ca-a4eb-6aefea21e006\",\"type\":\"GlyphRenderer\"},{\"id\":\"37864636-8161-4be3-aa42-d1433d18830d\",\"type\":\"GlyphRenderer\"}]},\"id\":\"c767fc46-172d-4d58-ad17-273c658a22d7\",\"type\":\"LegendItem\"},{\"attributes\":{\"callback\":null,\"column_names\":[\"x\",\"y\"],\"data\":{\"x\":{\"__ndarray__\":\"8F/Nv2Vnyj+IoIsCVGPQP7VAksRYh9E/VCd3Cn8nzT983qaiJU3TP6kYxmFZ/tE/yWst5d8b0j+FozceZMDRP6onFJ6nLNM/Qz4ihTZp0z9jINefJ1LSPzc+an7COtE/1VsDWyVY0D/6KGVK0tLLP9BI3/8iw8c/bxrT+vhXyj8cDqa8sfvPP1bFK3vYrNE/Ln7ovKUg0j/j6Usl8pPTPwg9vGOITtg/3E9CwIxP4T8SSVddRW7nP+6cfx4X8+c/1//WodyO4z/u7n2Bi5veP+5thl0MTNg/KqVO3ehl0z97CYC3YRDPP3iYWfi4Psg/3eJt5/M4wj+SfuSe+ny5P4xy/mC/q7E/gHl/vljYqz+Yzx++P+qnP5IGRWCdRKM/j1BP+bmcnj8pO9Ig0l2YP2V4RyEkZok/J7nVqkGoJT9a0RteGchLPzmfpDrJyIw/Kc1YxwBvmj8AntN9F+6hP56zr4Md26U/JWx3w0E4qT+CK31BO0KsPyeW5wP6K68/BMibv7MEsT/2D3NgcWyyP1OMbf7RyrM/O3EiwgsXtT8RTNVAaki2P8m4JgCmXLc/7tlw4QtWuD+WbB6CCEO5P8o8TcF1ILo/rD6RBjvuuj8Gc2hP0aq7P8rHSbyXVrw/oE3U8+rzvD8XnOLtGIm9Py4iSK1JGr4/Ps9+KMGwvj/jMPvp/U6/P9QMDM0z/r8/UJkPxldUwD85TkSeqJXAP3lQeQmIqMA/jmn5w8eOwD/0PdmD/2PAP34LoTmhRsA/mLtc5YVLwD8haaKVnI/AP4X6K55ZlsE/\",\"dtype\":\"float64\",\"shape\":[75]},\"y\":{\"__ndarray__\":\"S/O/Q+51ND/430zAtpRIP2vylNV0PVE/QxsjCssuWD/TR4Z78fVgP+inNsRxymc/OuuBfZWvcD/u3TFA02d3P2d3VoBnaoA/CD5h5MAGhz/1pA8HUCaQP+zrCsc9p5Y/Fb7LAKjGnz/nJ9c/SEmmPwBD+fzcQq8/FOZwv9nstT8Er5Y7M8G+P0c+r3jqkcU/yK72qKZBzj+tM989FzjVPxbgmr8yxN0/cOm5AXbg5D+5ctXAf0jtP5kqGJXUifQ/DsrqDELP/D8MCAhBojQEQDItVnmnVwxAiFXNvdHgE0BSSZ2AJuIbQAMJih9jjiNA5q4l5INuK0CPVN/5RT0zQHzxRXu8/DpAOZ7PgHrtQkAg8wGBzoxKQBSTN8DMeFJA2NmQf2ZqWEAAAAAAAFxeQEQX1LfMJmJAmpmZmZkfZUBmZmZmZhhoQLzoK0gzEWtAAAAAAAAKbkCiC+pbZoFwQAhyUMLM/XFA+I2vPTN6c0AQ5KCEmfZ0QAAAAAAAc3ZA8Btfe2bvd0AIclDCzGt5QPeNrz0z6HpAEOSghJlkfEAAAAAAAOF9QKML6ltmXX9ABTkoYeZsgED7xteeGSuBQAhyUMJM6YFAAAAAAICngkD4ja89s2WDQAU5KGHmI4RA+8bXnhnihEAIclDCTKCFQAAAAACAXoZA+I2vPbMch0AFOShh5tqHQPvG154ZmYhACHJQwkxXiUAAAAAAgBWKQPeNrz2z04pABTkoYeaRi0D7xteeGVCMQAlyUMJMDo1AAAAAAIDMjUD3ja89s4qOQGZmZmbmSI9A\",\"dtype\":\"float64\",\"shape\":[75]}}},\"id\":\"1f7a3df0-e551-47ca-b819-e77e00c40895\",\"type\":\"ColumnDataSource\"},{\"attributes\":{\"data_source\":{\"id\":\"44a89ef6-54fb-484e-ad77-f3c8a8ab4752\",\"type\":\"ColumnDataSource\"},\"glyph\":{\"id\":\"896ceb06-accd-46fd-996f-6c2d9e9e5d48\",\"type\":\"Circle\"},\"hover_glyph\":null,\"muted_glyph\":null,\"nonselection_glyph\":{\"id\":\"7c103873-9bba-4f8e-b842-9916957decc4\",\"type\":\"Circle\"},\"selection_glyph\":null,\"view\":{\"id\":\"25962a2a-4998-4246-b42d-ddc0203825f9\",\"type\":\"CDSView\"}},\"id\":\"00bbe3a3-9a11-41a2-a6d0-27994d21106a\",\"type\":\"GlyphRenderer\"},{\"attributes\":{\"line_alpha\":0.6,\"line_color\":\"#984ea3\",\"line_width\":3,\"x\":{\"field\":\"x\"},\"y\":{\"field\":\"y\"}},\"id\":\"d7eb014e-2f44-4caa-b2c8-8c253d72cdd8\",\"type\":\"Line\"},{\"attributes\":{},\"id\":\"54978fb3-c620-46bd-906e-f85ace5dac44\",\"type\":\"LinearScale\"},{\"attributes\":{\"data_source\":{\"id\":\"ef773ee7-8937-43fe-8ad4-42545c6e12dc\",\"type\":\"ColumnDataSource\"},\"glyph\":{\"id\":\"d7eb014e-2f44-4caa-b2c8-8c253d72cdd8\",\"type\":\"Line\"},\"hover_glyph\":null,\"muted_glyph\":null,\"nonselection_glyph\":{\"id\":\"ebc63509-4906-4161-b935-7f95480a28e2\",\"type\":\"Line\"},\"selection_glyph\":null,\"view\":{\"id\":\"e1dd4b6e-0d4f-42f4-91a4-5f18f84290f7\",\"type\":\"CDSView\"}},\"id\":\"9092ba03-a6e4-4d1a-b63b-0998eb39dc10\",\"type\":\"GlyphRenderer\"},{\"attributes\":{},\"id\":\"c8310a74-f4c4-4ba6-9a18-93e8c155c568\",\"type\":\"LinearScale\"},{\"attributes\":{},\"id\":\"1a8bd904-ef2d-4983-98a4-7e4efd9a5c42\",\"type\":\"LinearScale\"},{\"attributes\":{},\"id\":\"7ebd4b14-cf3a-4f48-8f11-741e2ce3e252\",\"type\":\"BasicTickFormatter\"},{\"attributes\":{},\"id\":\"5535007a-54a3-4165-ac4a-85f0bb16729b\",\"type\":\"SaveTool\"},{\"attributes\":{},\"id\":\"e0478916-4626-4bfa-8ba9-dedbea31c849\",\"type\":\"LogScale\"},{\"attributes\":{\"callback\":null,\"column_names\":[\"x\",\"y\"],\"data\":{\"x\":{\"__ndarray__\":\"/Dh5FUJc2j9aPMRYCQraP0/An6+Tmdo/sINSzQ8Q2z9iu72cwFHbP6SkTfZLW9s/IQeAhScP2z++Mi25o2LaPwSwfdg9P9k/7ECMxpCS1z+I0+78R0vVP63FArqKYNI/N0BAKSCOzT+XKXuF5OjEP9zIp40Lg7w/6qIyD6oevz8DpGirs1bGPw4LvRfC3sw/DzEUZpAx0j/NJ6dNBzjXPwwQu6WLQ94/4JWPavl95D8WIyJnJ2TqP9T7Wzyb+ek/vOsJnoRK5D/eGMjU2WDePwE4crQVgdY/mPjlxAW90D9Pb04+oODJP5CQWL2JwsQ/UQ80E8pKwD+crQhzxQm4P7XKHjESC7I/e+JNPycLrT8huDmxYS+mP2Tm7rLg950/vwcfspdZlT+TZiYqsfGQP+IFHWUneYA/SKLAhz4bWr/aC3NvAj4wP23Dsfl704s/BnlX7Bgfmj+PJcUqUh+iP3x1kAIEpqY/Ti53embIqj8DlVQa75auP3TJ2NOFDbE/nQZ3LUKtsj/+l0UKYCi0P03rcQrrebU/PI0eOX6atj9O3oZsroe3PwarF2f/SLg/L6uoqJfruD9wx5RCMnq5P55zfUAc+7k/5+7GxN5yuj+USbKzjeS6P6m96+AeU7s/WQ4d0AzBuz/mXAZzJjO8P0PEcvDxrrw/u5obV0w6vT9677ldedq9Pwnr1p20kb4/jAdCT1ZOvz+Cb5o+O+C/Pw6iUngSCcA/CZ0AWFfkvz/ebDm48JO/P/UfRsZyZL8/2ibsDYSFvz8BC2g7CRnAP2tDan8MQsE/\",\"dtype\":\"float64\",\"shape\":[75]},\"y\":{\"__ndarray__\":\"GhExyth1ND/Sv8nbtpRIP2vylNV0PVE/aTum7souWD/At0SJ8fVgPw3Iuahxymc/MSNhhJWvcD/bTfBN02d3P2zb5nxnaoA/CD5h5MAGhz8NmeH1TyaQP+zrCsc9p5Y/LbKd76fGnz/bLW5ISEmmPww9YvTcQq8/JV2OstnstT8Er5Y7M8G+P0c+r3jqkcU/5h99k6ZBzj88bCIzFzjVP4enV8oyxN0//yH99nXg5D8qOpLLf0jtP5kqGJXUifQ/c9cS8kHP/D+/DpwzojQEQIEmwoanVwxA4lgXt9HgE0BSSZ2AJuIbQAMJih9jjiNA5q4l5INuK0AwTKYKRj0zQNv5fmq8/DpAaCJseHrtQkB/+zpwzoxKQM3MzMzMeFJAZmZmZmZqWEAAAAAAAFxeQM3MzMzMJmJAmpmZmZkfZUBmZmZmZhhoQDMzMzMzEWtAAAAAAAAKbkBmZmZmZoFwQM3MzMzM/XFAMzMzMzN6c0CamZmZmfZ0QAAAAAAAc3ZAZmZmZmbvd0DNzMzMzGt5QDMzMzMz6HpAmpmZmZlkfEAAAAAAAOF9QGZmZmZmXX9AZmZmZuZsgECamZmZGSuBQM3MzMxM6YFAAAAAAICngkAzMzMzs2WDQGZmZmbmI4RAmpmZmRnihEDNzMzMTKCFQAAAAACAXoZAMzMzM7Mch0BmZmZm5tqHQJqZmZkZmYhAzczMzExXiUAAAAAAgBWKQDMzMzOz04pAZmZmZuaRi0CamZmZGVCMQM3MzMxMDo1AAAAAAIDMjUAzMzMzs4qOQGZmZmbmSI9A\",\"dtype\":\"float64\",\"shape\":[75]}}},\"id\":\"8c42fc49-34e5-4528-89e3-7225d09849eb\",\"type\":\"ColumnDataSource\"},{\"attributes\":{\"callback\":null,\"end\":0.01,\"start\":1020},\"id\":\"7eb928da-395d-4e8c-946e-778bf8043e9c\",\"type\":\"Range1d\"},{\"attributes\":{},\"id\":\"d5dcba88-2d32-41c4-9dbd-071a9e644afe\",\"type\":\"BasicTickFormatter\"},{\"attributes\":{\"line_alpha\":0.1,\"line_color\":\"#1f77b4\",\"line_width\":1.5,\"x\":{\"field\":\"x\"},\"y\":{\"field\":\"y\"}},\"id\":\"3e6f5570-9904-4570-ae3f-599387b4b4b3\",\"type\":\"Line\"},{\"attributes\":{\"dimension\":1,\"plot\":{\"id\":\"82f88a53-17a6-4c92-b864-455ddf0817cd\",\"subtype\":\"Figure\",\"type\":\"Plot\"},\"ticker\":{\"id\":\"0bd58f8f-058a-4915-9f53-c8242cf7a6ee\",\"type\":\"BasicTicker\"}},\"id\":\"91b128ed-e355-4980-bed5-48a279f8cb22\",\"type\":\"Grid\"},{\"attributes\":{\"label\":{\"value\":\"CLIRAD `coolr_bands`\"},\"renderers\":[{\"id\":\"72e28a20-7c15-45a5-83a4-768d223b5fb7\",\"type\":\"GlyphRenderer\"}]},\"id\":\"091f4a45-eddc-439d-8dc3-cedcd4cf1589\",\"type\":\"LegendItem\"},{\"attributes\":{\"callback\":null,\"column_names\":[\"x\",\"y\"],\"data\":{\"x\":{\"__ndarray__\":\"6p3H2iXP1D8awuWgS+TUP55fHuIAeNU/lJpPnTkb1j+QmPz/uKHWP0AIq04ZBdc/GEa75upA1z87sVE38ULXP2KgRdHR+dY/oWNwcThR1j/NwJ3jHjLVP9TlrnXwfNM/TuCUPxcP0T9fJaisaZDLP0Sa3SYaYsY/jcbK+ncbyD+hgPodpBfOPxQT2YNvE9E/OV7rBR6T0j9Vo3D/4BXVP9BDckk5c9o/0JCVSv0+4j9SqTjj8hboP82+Tkj0POg/dGDYYZVx4z85XjacLj3eP7KyBPs12dc/qxHVIxcN0z+uxFIdlaHOP+mBiIgjTcg/NZNbRwxowj8UY4VUVBy6P03QrgH26bI/j/grcKCNrj9rBe81hjOpP2DCgO4Hm6M/WNCXr8Rznz9ar/KxNueZP1bb182cPY0/MpmeoToqYD/8F3Lte7FmP9zQkJXJwpA/nXUY9VL2nD+kDxJpEjyjP0eVbqXuNac/YtI0Vh2qqj/yF5xD58etPxm48SoIVbA/HfofrbqzsT/u6k3RnQCzPzixPk0uObQ/IQbAqSZWtT/25d9mZEm2Pzt+9AsKJLc/IaRSy0Lptz9gJQU5eKC4PzxtEbBETbk/JFgg1PnvuT/yqHm/u4q6PwkBRcwtHrs/Pt2ZwbSruz89wZFT2zu8P1bXxnQrxrw/5KgGTblgvT/9UUfuEAq+P96B8NZ8xL4/nIzevzmDvz+GC2sJFwvAP/MLqllfJcA/ZKfNlskRwD9sgqqmr9i/PzjR1iDiqr8/6YaXEeXFvz80U/8yPjLAP10Io8dbTME/\",\"dtype\":\"float64\",\"shape\":[75]},\"y\":{\"__ndarray__\":\"GhExyth1ND/Sv8nbtpRIP2vylNV0PVE/aTum7souWD/At0SJ8fVgPw3Iuahxymc/MSNhhJWvcD/bTfBN02d3P2zb5nxnaoA/CD5h5MAGhz8NmeH1TyaQP+zrCsc9p5Y/LbKd76fGnz/bLW5ISEmmPww9YvTcQq8/JV2OstnstT8Er5Y7M8G+P0c+r3jqkcU/5h99k6ZBzj88bCIzFzjVP4enV8oyxN0//yH99nXg5D8qOpLLf0jtP5kqGJXUifQ/c9cS8kHP/D+/DpwzojQEQIEmwoanVwxA4lgXt9HgE0BSSZ2AJuIbQAMJih9jjiNA5q4l5INuK0AwTKYKRj0zQNv5fmq8/DpAaCJseHrtQkB/+zpwzoxKQM3MzMzMeFJAZmZmZmZqWEAAAAAAAFxeQM3MzMzMJmJAmpmZmZkfZUBmZmZmZhhoQDMzMzMzEWtAAAAAAAAKbkBmZmZmZoFwQM3MzMzM/XFAMzMzMzN6c0CamZmZmfZ0QAAAAAAAc3ZAZmZmZmbvd0DNzMzMzGt5QDMzMzMz6HpAmpmZmZlkfEAAAAAAAOF9QGZmZmZmXX9AZmZmZuZsgECamZmZGSuBQM3MzMxM6YFAAAAAAICngkAzMzMzs2WDQGZmZmbmI4RAmpmZmRnihEDNzMzMTKCFQAAAAACAXoZAMzMzM7Mch0BmZmZm5tqHQJqZmZkZmYhAzczMzExXiUAAAAAAgBWKQDMzMzOz04pAZmZmZuaRi0CamZmZGVCMQM3MzMxMDo1AAAAAAIDMjUAzMzMzs4qOQGZmZmbmSI9A\",\"dtype\":\"float64\",\"shape\":[75]}}},\"id\":\"ef773ee7-8937-43fe-8ad4-42545c6e12dc\",\"type\":\"ColumnDataSource\"},{\"attributes\":{\"line_color\":\"#4daf4a\",\"line_width\":1.5,\"x\":{\"field\":\"x\"},\"y\":{\"field\":\"y\"}},\"id\":\"357eea8c-f439-4103-82c9-297dfd9e7b06\",\"type\":\"Line\"},{\"attributes\":{\"children\":[{\"id\":\"82f88a53-17a6-4c92-b864-455ddf0817cd\",\"subtype\":\"Figure\",\"type\":\"Plot\"},{\"id\":\"35ddc626-cb00-4b2e-a952-cf504d2239dd\",\"subtype\":\"Figure\",\"type\":\"Plot\"}]},\"id\":\"f33317db-b8cf-4442-b771-7315884750ff\",\"type\":\"Row\"},{\"attributes\":{\"axis_label\":\"pressure [mb]\",\"formatter\":{\"id\":\"1ecbb331-c7e8-4912-8e41-9208627df030\",\"type\":\"LogTickFormatter\"},\"plot\":{\"id\":\"35ddc626-cb00-4b2e-a952-cf504d2239dd\",\"subtype\":\"Figure\",\"type\":\"Plot\"},\"ticker\":{\"id\":\"e1b8d0b7-392e-4f01-abf9-c3c69ef3ee48\",\"type\":\"LogTicker\"}},\"id\":\"c36bf952-714b-49ee-bfbb-49074f88b019\",\"type\":\"LogAxis\"},{\"attributes\":{\"active_drag\":\"auto\",\"active_inspect\":\"auto\",\"active_scroll\":\"auto\",\"active_tap\":\"auto\",\"tools\":[{\"id\":\"c677ffbf-d46b-42c4-bae4-5be2b14fb360\",\"type\":\"PanTool\"},{\"id\":\"7f090cd8-d451-469c-a482-253f598ce4f9\",\"type\":\"WheelZoomTool\"},{\"id\":\"27b55a60-366b-497a-a0f6-b453aa5bb878\",\"type\":\"BoxZoomTool\"},{\"id\":\"cc999fbf-684f-4331-b7be-dc6400163c4d\",\"type\":\"SaveTool\"},{\"id\":\"6fc9e8bc-6079-4368-8568-07261ba3c90e\",\"type\":\"ResetTool\"},{\"id\":\"357d3c3c-9c6e-4e55-be7f-2bc827fca74a\",\"type\":\"HelpTool\"}]},\"id\":\"c0ec42ea-52d1-46d0-9bdc-ddc7ece3bca0\",\"type\":\"Toolbar\"},{\"attributes\":{\"plot\":null,\"text\":\"Linear pressure scale\"},\"id\":\"b85a2065-8933-492e-bcd3-52fec2f77fdc\",\"type\":\"Title\"},{\"attributes\":{\"axis_label\":\"cooling rate [K/day]\",\"formatter\":{\"id\":\"d5dcba88-2d32-41c4-9dbd-071a9e644afe\",\"type\":\"BasicTickFormatter\"},\"plot\":{\"id\":\"82f88a53-17a6-4c92-b864-455ddf0817cd\",\"subtype\":\"Figure\",\"type\":\"Plot\"},\"ticker\":{\"id\":\"a71bc7c0-59f8-4a5d-a0e0-5281e83fc1a7\",\"type\":\"BasicTicker\"}},\"id\":\"df98d834-c62f-4865-963c-b8bbb967b95c\",\"type\":\"LinearAxis\"},{\"attributes\":{\"fill_alpha\":{\"value\":0.1},\"fill_color\":{\"value\":\"#1f77b4\"},\"line_alpha\":{\"value\":0.1},\"line_color\":{\"value\":\"#1f77b4\"},\"x\":{\"field\":\"x\"},\"y\":{\"field\":\"y\"}},\"id\":\"eb7c4a80-6701-4d6d-95c1-b3aa60181cba\",\"type\":\"Square\"},{\"attributes\":{\"callback\":null,\"column_names\":[\"x\",\"y\"],\"data\":{\"x\":{\"__ndarray__\":\"6p3H2iXP1D8awuWgS+TUP55fHuIAeNU/lJpPnTkb1j+QmPz/uKHWP0AIq04ZBdc/GEa75upA1z87sVE38ULXP2KgRdHR+dY/oWNwcThR1j/NwJ3jHjLVP9TlrnXwfNM/TuCUPxcP0T9fJaisaZDLP0Sa3SYaYsY/jcbK+ncbyD+hgPodpBfOPxQT2YNvE9E/OV7rBR6T0j9Vo3D/4BXVP9BDckk5c9o/0JCVSv0+4j9SqTjj8hboP82+Tkj0POg/dGDYYZVx4z85XjacLj3eP7KyBPs12dc/qxHVIxcN0z+uxFIdlaHOP+mBiIgjTcg/NZNbRwxowj8UY4VUVBy6P03QrgH26bI/j/grcKCNrj9rBe81hjOpP2DCgO4Hm6M/WNCXr8Rznz9ar/KxNueZP1bb182cPY0/MpmeoToqYD/8F3Lte7FmP9zQkJXJwpA/nXUY9VL2nD+kDxJpEjyjP0eVbqXuNac/YtI0Vh2qqj/yF5xD58etPxm48SoIVbA/HfofrbqzsT/u6k3RnQCzPzixPk0uObQ/IQbAqSZWtT/25d9mZEm2Pzt+9AsKJLc/IaRSy0Lptz9gJQU5eKC4PzxtEbBETbk/JFgg1PnvuT/yqHm/u4q6PwkBRcwtHrs/Pt2ZwbSruz89wZFT2zu8P1bXxnQrxrw/5KgGTblgvT/9UUfuEAq+P96B8NZ8xL4/nIzevzmDvz+GC2sJFwvAP/MLqllfJcA/ZKfNlskRwD9sgqqmr9i/PzjR1iDiqr8/6YaXEeXFvz80U/8yPjLAP10Io8dbTME/\",\"dtype\":\"float64\",\"shape\":[75]},\"y\":{\"__ndarray__\":\"GhExyth1ND/Sv8nbtpRIP2vylNV0PVE/aTum7souWD/At0SJ8fVgPw3Iuahxymc/MSNhhJWvcD/bTfBN02d3P2zb5nxnaoA/CD5h5MAGhz8NmeH1TyaQP+zrCsc9p5Y/LbKd76fGnz/bLW5ISEmmPww9YvTcQq8/JV2OstnstT8Er5Y7M8G+P0c+r3jqkcU/5h99k6ZBzj88bCIzFzjVP4enV8oyxN0//yH99nXg5D8qOpLLf0jtP5kqGJXUifQ/c9cS8kHP/D+/DpwzojQEQIEmwoanVwxA4lgXt9HgE0BSSZ2AJuIbQAMJih9jjiNA5q4l5INuK0AwTKYKRj0zQNv5fmq8/DpAaCJseHrtQkB/+zpwzoxKQM3MzMzMeFJAZmZmZmZqWEAAAAAAAFxeQM3MzMzMJmJAmpmZmZkfZUBmZmZmZhhoQDMzMzMzEWtAAAAAAAAKbkBmZmZmZoFwQM3MzMzM/XFAMzMzMzN6c0CamZmZmfZ0QAAAAAAAc3ZAZmZmZmbvd0DNzMzMzGt5QDMzMzMz6HpAmpmZmZlkfEAAAAAAAOF9QGZmZmZmXX9AZmZmZuZsgECamZmZGSuBQM3MzMxM6YFAAAAAAICngkAzMzMzs2WDQGZmZmbmI4RAmpmZmRnihEDNzMzMTKCFQAAAAACAXoZAMzMzM7Mch0BmZmZm5tqHQJqZmZkZmYhAzczMzExXiUAAAAAAgBWKQDMzMzOz04pAZmZmZuaRi0CamZmZGVCMQM3MzMxMDo1AAAAAAIDMjUAzMzMzs4qOQGZmZmbmSI9A\",\"dtype\":\"float64\",\"shape\":[75]}}},\"id\":\"64859f13-7602-4d1f-b7de-61f630ee5f2c\",\"type\":\"ColumnDataSource\"},{\"attributes\":{\"fill_alpha\":{\"value\":0.7},\"fill_color\":{\"value\":\"#984ea3\"},\"line_alpha\":{\"value\":0.7},\"line_color\":{\"value\":\"#984ea3\"},\"x\":{\"field\":\"x\"},\"y\":{\"field\":\"y\"}},\"id\":\"033ab285-9977-4ea1-98b7-c2f55e3b5a49\",\"type\":\"Square\"},{\"attributes\":{\"callback\":null,\"end\":0.13879076229600001,\"start\":-0.0029833518960000003},\"id\":\"91b5f671-66ae-4174-80e5-2e25ffdf9619\",\"type\":\"Range1d\"},{\"attributes\":{\"plot\":{\"id\":\"82f88a53-17a6-4c92-b864-455ddf0817cd\",\"subtype\":\"Figure\",\"type\":\"Plot\"},\"ticker\":{\"id\":\"a71bc7c0-59f8-4a5d-a0e0-5281e83fc1a7\",\"type\":\"BasicTicker\"}},\"id\":\"e9c69556-4c06-4c96-ba0e-49da7d3e749e\",\"type\":\"Grid\"},{\"attributes\":{\"line_alpha\":0.6,\"line_color\":\"#e41a1c\",\"line_dash\":[6],\"line_width\":5,\"x\":{\"field\":\"x\"},\"y\":{\"field\":\"y\"}},\"id\":\"7ab6deec-d79f-4b24-8b98-b1b8ac53606a\",\"type\":\"Line\"},{\"attributes\":{\"overlay\":{\"id\":\"e2197c3c-9d49-43fa-bebe-473977c4f1e6\",\"type\":\"BoxAnnotation\"}},\"id\":\"c0862183-fce3-42f0-8f19-14ef42ea615f\",\"type\":\"BoxZoomTool\"},{\"attributes\":{},\"id\":\"0bd58f8f-058a-4915-9f53-c8242cf7a6ee\",\"type\":\"BasicTicker\"},{\"attributes\":{\"label\":{\"value\":\"CRD\"},\"renderers\":[{\"id\":\"b9a873f9-1d93-439c-82e6-5fa884d6058b\",\"type\":\"GlyphRenderer\"},{\"id\":\"88d4dc84-0671-4c5c-9247-aa52bcb384a7\",\"type\":\"GlyphRenderer\"}]},\"id\":\"4276fb3f-ee1d-48ac-8520-70cd393b79b0\",\"type\":\"LegendItem\"},{\"attributes\":{\"line_alpha\":0.1,\"line_color\":\"#1f77b4\",\"line_dash\":[6],\"line_width\":5,\"x\":{\"field\":\"x\"},\"y\":{\"field\":\"y\"}},\"id\":\"a4975563-05f8-4a6b-90de-df58711d0f29\",\"type\":\"Line\"},{\"attributes\":{\"axis_label\":\"pressure [mb]\",\"formatter\":{\"id\":\"7ebd4b14-cf3a-4f48-8f11-741e2ce3e252\",\"type\":\"BasicTickFormatter\"},\"plot\":{\"id\":\"82f88a53-17a6-4c92-b864-455ddf0817cd\",\"subtype\":\"Figure\",\"type\":\"Plot\"},\"ticker\":{\"id\":\"0bd58f8f-058a-4915-9f53-c8242cf7a6ee\",\"type\":\"BasicTicker\"}},\"id\":\"67a8ce7c-5f62-427b-8000-c9cb5ae05840\",\"type\":\"LinearAxis\"},{\"attributes\":{\"source\":{\"id\":\"ef773ee7-8937-43fe-8ad4-42545c6e12dc\",\"type\":\"ColumnDataSource\"}},\"id\":\"e1dd4b6e-0d4f-42f4-91a4-5f18f84290f7\",\"type\":\"CDSView\"},{\"attributes\":{},\"id\":\"1709ac5f-429f-4147-a6e0-ef4e4e2442a1\",\"type\":\"WheelZoomTool\"},{\"attributes\":{\"data_source\":{\"id\":\"64859f13-7602-4d1f-b7de-61f630ee5f2c\",\"type\":\"ColumnDataSource\"},\"glyph\":{\"id\":\"033ab285-9977-4ea1-98b7-c2f55e3b5a49\",\"type\":\"Square\"},\"hover_glyph\":null,\"muted_glyph\":null,\"nonselection_glyph\":{\"id\":\"eb7c4a80-6701-4d6d-95c1-b3aa60181cba\",\"type\":\"Square\"},\"selection_glyph\":null,\"view\":{\"id\":\"4691b1f1-a0cd-4559-9e43-473fbcf2526a\",\"type\":\"CDSView\"}},\"id\":\"0d016208-193f-4ec3-ba80-a4e165fc99c5\",\"type\":\"GlyphRenderer\"},{\"attributes\":{},\"id\":\"a71bc7c0-59f8-4a5d-a0e0-5281e83fc1a7\",\"type\":\"BasicTicker\"},{\"attributes\":{\"children\":[{\"id\":\"f33317db-b8cf-4442-b771-7315884750ff\",\"type\":\"Row\"}]},\"id\":\"df37039a-2099-442c-adbd-48820ef2971c\",\"type\":\"Column\"},{\"attributes\":{},\"id\":\"c677ffbf-d46b-42c4-bae4-5be2b14fb360\",\"type\":\"PanTool\"},{\"attributes\":{\"line_alpha\":0.1,\"line_color\":\"#1f77b4\",\"line_width\":3,\"x\":{\"field\":\"x\"},\"y\":{\"field\":\"y\"}},\"id\":\"ebc63509-4906-4161-b935-7f95480a28e2\",\"type\":\"Line\"},{\"attributes\":{\"callback\":null,\"column_names\":[\"x\",\"y\"],\"data\":{\"x\":{\"__ndarray__\":\"8F/Nv2Vnyj+IoIsCVGPQP7VAksRYh9E/VCd3Cn8nzT983qaiJU3TP6kYxmFZ/tE/yWst5d8b0j+FozceZMDRP6onFJ6nLNM/Qz4ihTZp0z9jINefJ1LSPzc+an7COtE/1VsDWyVY0D/6KGVK0tLLP9BI3/8iw8c/bxrT+vhXyj8cDqa8sfvPP1bFK3vYrNE/Ln7ovKUg0j/j6Usl8pPTPwg9vGOITtg/3E9CwIxP4T8SSVddRW7nP+6cfx4X8+c/1//WodyO4z/u7n2Bi5veP+5thl0MTNg/KqVO3ehl0z97CYC3YRDPP3iYWfi4Psg/3eJt5/M4wj+SfuSe+ny5P4xy/mC/q7E/gHl/vljYqz+Yzx++P+qnP5IGRWCdRKM/j1BP+bmcnj8pO9Ig0l2YP2V4RyEkZok/J7nVqkGoJT9a0RteGchLPzmfpDrJyIw/Kc1YxwBvmj8AntN9F+6hP56zr4Md26U/JWx3w0E4qT+CK31BO0KsPyeW5wP6K68/BMibv7MEsT/2D3NgcWyyP1OMbf7RyrM/O3EiwgsXtT8RTNVAaki2P8m4JgCmXLc/7tlw4QtWuD+WbB6CCEO5P8o8TcF1ILo/rD6RBjvuuj8Gc2hP0aq7P8rHSbyXVrw/oE3U8+rzvD8XnOLtGIm9Py4iSK1JGr4/Ps9+KMGwvj/jMPvp/U6/P9QMDM0z/r8/UJkPxldUwD85TkSeqJXAP3lQeQmIqMA/jmn5w8eOwD/0PdmD/2PAP34LoTmhRsA/mLtc5YVLwD8haaKVnI/AP4X6K55ZlsE/\",\"dtype\":\"float64\",\"shape\":[75]},\"y\":{\"__ndarray__\":\"S/O/Q+51ND/430zAtpRIP2vylNV0PVE/QxsjCssuWD/TR4Z78fVgP+inNsRxymc/OuuBfZWvcD/u3TFA02d3P2d3VoBnaoA/CD5h5MAGhz/1pA8HUCaQP+zrCsc9p5Y/Fb7LAKjGnz/nJ9c/SEmmPwBD+fzcQq8/FOZwv9nstT8Er5Y7M8G+P0c+r3jqkcU/yK72qKZBzj+tM989FzjVPxbgmr8yxN0/cOm5AXbg5D+5ctXAf0jtP5kqGJXUifQ/DsrqDELP/D8MCAhBojQEQDItVnmnVwxAiFXNvdHgE0BSSZ2AJuIbQAMJih9jjiNA5q4l5INuK0CPVN/5RT0zQHzxRXu8/DpAOZ7PgHrtQkAg8wGBzoxKQBSTN8DMeFJA2NmQf2ZqWEAAAAAAAFxeQEQX1LfMJmJAmpmZmZkfZUBmZmZmZhhoQLzoK0gzEWtAAAAAAAAKbkCiC+pbZoFwQAhyUMLM/XFA+I2vPTN6c0AQ5KCEmfZ0QAAAAAAAc3ZA8Btfe2bvd0AIclDCzGt5QPeNrz0z6HpAEOSghJlkfEAAAAAAAOF9QKML6ltmXX9ABTkoYeZsgED7xteeGSuBQAhyUMJM6YFAAAAAAICngkD4ja89s2WDQAU5KGHmI4RA+8bXnhnihEAIclDCTKCFQAAAAACAXoZA+I2vPbMch0AFOShh5tqHQPvG154ZmYhACHJQwkxXiUAAAAAAgBWKQPeNrz2z04pABTkoYeaRi0D7xteeGVCMQAlyUMJMDo1AAAAAAIDMjUD3ja89s4qOQGZmZmbmSI9A\",\"dtype\":\"float64\",\"shape\":[75]}}},\"id\":\"af40383b-7481-411a-acfa-34c0d08a8402\",\"type\":\"ColumnDataSource\"},{\"attributes\":{\"bottom_units\":\"screen\",\"fill_alpha\":{\"value\":0.5},\"fill_color\":{\"value\":\"lightgrey\"},\"left_units\":\"screen\",\"level\":\"overlay\",\"line_alpha\":{\"value\":1.0},\"line_color\":{\"value\":\"black\"},\"line_dash\":[4,4],\"line_width\":{\"value\":2},\"plot\":null,\"render_mode\":\"css\",\"right_units\":\"screen\",\"top_units\":\"screen\"},\"id\":\"246d3d10-0624-474a-9f56-b524fdf5cec9\",\"type\":\"BoxAnnotation\"},{\"attributes\":{\"num_minor_ticks\":10},\"id\":\"e1b8d0b7-392e-4f01-abf9-c3c69ef3ee48\",\"type\":\"LogTicker\"},{\"attributes\":{},\"id\":\"e0454f92-47ad-41c9-ae31-5e09c348e9ac\",\"type\":\"ResetTool\"},{\"attributes\":{\"source\":{\"id\":\"44a89ef6-54fb-484e-ad77-f3c8a8ab4752\",\"type\":\"ColumnDataSource\"}},\"id\":\"25962a2a-4998-4246-b42d-ddc0203825f9\",\"type\":\"CDSView\"},{\"attributes\":{\"ticker\":null},\"id\":\"1ecbb331-c7e8-4912-8e41-9208627df030\",\"type\":\"LogTickFormatter\"},{\"attributes\":{\"callback\":null,\"end\":0.01,\"start\":1020},\"id\":\"63c47c03-4f55-46c8-87de-0652cafd00f3\",\"type\":\"Range1d\"},{\"attributes\":{\"data_source\":{\"id\":\"9e5cf5ac-3f83-433b-a195-11bee9d51c64\",\"type\":\"ColumnDataSource\"},\"glyph\":{\"id\":\"bfb1579f-f1ce-4b44-a2a8-61051a3f8ed2\",\"type\":\"Line\"},\"hover_glyph\":null,\"muted_glyph\":null,\"nonselection_glyph\":{\"id\":\"b8dc3112-4431-4299-a688-74d7e5d83258\",\"type\":\"Line\"},\"selection_glyph\":null,\"view\":{\"id\":\"8e4e74c4-94e5-481f-9773-a7a1d7b9d701\",\"type\":\"CDSView\"}},\"id\":\"88d4dc84-0671-4c5c-9247-aa52bcb384a7\",\"type\":\"GlyphRenderer\"},{\"attributes\":{\"fill_alpha\":{\"value\":0.7},\"fill_color\":{\"value\":\"#4daf4a\"},\"line_alpha\":{\"value\":0.7},\"line_color\":{\"value\":\"#4daf4a\"},\"x\":{\"field\":\"x\"},\"y\":{\"field\":\"y\"}},\"id\":\"fafcc0d5-70c2-4ec9-a0d5-55f94b2b03d0\",\"type\":\"Circle\"},{\"attributes\":{\"callback\":null,\"column_names\":[\"x\",\"y\"],\"data\":{\"x\":{\"__ndarray__\":\"/Dh5FUJc2j9aPMRYCQraP0/An6+Tmdo/sINSzQ8Q2z9iu72cwFHbP6SkTfZLW9s/IQeAhScP2z++Mi25o2LaPwSwfdg9P9k/7ECMxpCS1z+I0+78R0vVP63FArqKYNI/N0BAKSCOzT+XKXuF5OjEP9zIp40Lg7w/6qIyD6oevz8DpGirs1bGPw4LvRfC3sw/DzEUZpAx0j/NJ6dNBzjXPwwQu6WLQ94/4JWPavl95D8WIyJnJ2TqP9T7Wzyb+ek/vOsJnoRK5D/eGMjU2WDePwE4crQVgdY/mPjlxAW90D9Pb04+oODJP5CQWL2JwsQ/UQ80E8pKwD+crQhzxQm4P7XKHjESC7I/e+JNPycLrT8huDmxYS+mP2Tm7rLg950/vwcfspdZlT+TZiYqsfGQP+IFHWUneYA/SKLAhz4bWr/aC3NvAj4wP23Dsfl704s/BnlX7Bgfmj+PJcUqUh+iP3x1kAIEpqY/Ti53embIqj8DlVQa75auP3TJ2NOFDbE/nQZ3LUKtsj/+l0UKYCi0P03rcQrrebU/PI0eOX6atj9O3oZsroe3PwarF2f/SLg/L6uoqJfruD9wx5RCMnq5P55zfUAc+7k/5+7GxN5yuj+USbKzjeS6P6m96+AeU7s/WQ4d0AzBuz/mXAZzJjO8P0PEcvDxrrw/u5obV0w6vT9677ldedq9Pwnr1p20kb4/jAdCT1ZOvz+Cb5o+O+C/Pw6iUngSCcA/CZ0AWFfkvz/ebDm48JO/P/UfRsZyZL8/2ibsDYSFvz8BC2g7CRnAP2tDan8MQsE/\",\"dtype\":\"float64\",\"shape\":[75]},\"y\":{\"__ndarray__\":\"GhExyth1ND/Sv8nbtpRIP2vylNV0PVE/aTum7souWD/At0SJ8fVgPw3Iuahxymc/MSNhhJWvcD/bTfBN02d3P2zb5nxnaoA/CD5h5MAGhz8NmeH1TyaQP+zrCsc9p5Y/LbKd76fGnz/bLW5ISEmmPww9YvTcQq8/JV2OstnstT8Er5Y7M8G+P0c+r3jqkcU/5h99k6ZBzj88bCIzFzjVP4enV8oyxN0//yH99nXg5D8qOpLLf0jtP5kqGJXUifQ/c9cS8kHP/D+/DpwzojQEQIEmwoanVwxA4lgXt9HgE0BSSZ2AJuIbQAMJih9jjiNA5q4l5INuK0AwTKYKRj0zQNv5fmq8/DpAaCJseHrtQkB/+zpwzoxKQM3MzMzMeFJAZmZmZmZqWEAAAAAAAFxeQM3MzMzMJmJAmpmZmZkfZUBmZmZmZhhoQDMzMzMzEWtAAAAAAAAKbkBmZmZmZoFwQM3MzMzM/XFAMzMzMzN6c0CamZmZmfZ0QAAAAAAAc3ZAZmZmZmbvd0DNzMzMzGt5QDMzMzMz6HpAmpmZmZlkfEAAAAAAAOF9QGZmZmZmXX9AZmZmZuZsgECamZmZGSuBQM3MzMxM6YFAAAAAAICngkAzMzMzs2WDQGZmZmbmI4RAmpmZmRnihEDNzMzMTKCFQAAAAACAXoZAMzMzM7Mch0BmZmZm5tqHQJqZmZkZmYhAzczMzExXiUAAAAAAgBWKQDMzMzOz04pAZmZmZuaRi0CamZmZGVCMQM3MzMxMDo1AAAAAAIDMjUAzMzMzs4qOQGZmZmbmSI9A\",\"dtype\":\"float64\",\"shape\":[75]}}},\"id\":\"526d0e6d-7f02-4010-b0f0-f8f234c89a78\",\"type\":\"ColumnDataSource\"},{\"attributes\":{\"fill_alpha\":{\"value\":0.1},\"fill_color\":{\"value\":\"#1f77b4\"},\"line_alpha\":{\"value\":0.1},\"line_color\":{\"value\":\"#1f77b4\"},\"x\":{\"field\":\"x\"},\"y\":{\"field\":\"y\"}},\"id\":\"7c103873-9bba-4f8e-b842-9916957decc4\",\"type\":\"Circle\"},{\"attributes\":{\"callback\":null,\"column_names\":[\"x\",\"y\"],\"data\":{\"x\":{\"__ndarray__\":\"/Dh5FUJc2j9aPMRYCQraP0/An6+Tmdo/sINSzQ8Q2z9iu72cwFHbP6SkTfZLW9s/IQeAhScP2z++Mi25o2LaPwSwfdg9P9k/7ECMxpCS1z+I0+78R0vVP63FArqKYNI/N0BAKSCOzT+XKXuF5OjEP9zIp40Lg7w/6qIyD6oevz8DpGirs1bGPw4LvRfC3sw/DzEUZpAx0j/NJ6dNBzjXPwwQu6WLQ94/4JWPavl95D8WIyJnJ2TqP9T7Wzyb+ek/vOsJnoRK5D/eGMjU2WDePwE4crQVgdY/mPjlxAW90D9Pb04+oODJP5CQWL2JwsQ/UQ80E8pKwD+crQhzxQm4P7XKHjESC7I/e+JNPycLrT8huDmxYS+mP2Tm7rLg950/vwcfspdZlT+TZiYqsfGQP+IFHWUneYA/SKLAhz4bWr/aC3NvAj4wP23Dsfl704s/BnlX7Bgfmj+PJcUqUh+iP3x1kAIEpqY/Ti53embIqj8DlVQa75auP3TJ2NOFDbE/nQZ3LUKtsj/+l0UKYCi0P03rcQrrebU/PI0eOX6atj9O3oZsroe3PwarF2f/SLg/L6uoqJfruD9wx5RCMnq5P55zfUAc+7k/5+7GxN5yuj+USbKzjeS6P6m96+AeU7s/WQ4d0AzBuz/mXAZzJjO8P0PEcvDxrrw/u5obV0w6vT9677ldedq9Pwnr1p20kb4/jAdCT1ZOvz+Cb5o+O+C/Pw6iUngSCcA/CZ0AWFfkvz/ebDm48JO/P/UfRsZyZL8/2ibsDYSFvz8BC2g7CRnAP2tDan8MQsE/\",\"dtype\":\"float64\",\"shape\":[75]},\"y\":{\"__ndarray__\":\"GhExyth1ND/Sv8nbtpRIP2vylNV0PVE/aTum7souWD/At0SJ8fVgPw3Iuahxymc/MSNhhJWvcD/bTfBN02d3P2zb5nxnaoA/CD5h5MAGhz8NmeH1TyaQP+zrCsc9p5Y/LbKd76fGnz/bLW5ISEmmPww9YvTcQq8/JV2OstnstT8Er5Y7M8G+P0c+r3jqkcU/5h99k6ZBzj88bCIzFzjVP4enV8oyxN0//yH99nXg5D8qOpLLf0jtP5kqGJXUifQ/c9cS8kHP/D+/DpwzojQEQIEmwoanVwxA4lgXt9HgE0BSSZ2AJuIbQAMJih9jjiNA5q4l5INuK0AwTKYKRj0zQNv5fmq8/DpAaCJseHrtQkB/+zpwzoxKQM3MzMzMeFJAZmZmZmZqWEAAAAAAAFxeQM3MzMzMJmJAmpmZmZkfZUBmZmZmZhhoQDMzMzMzEWtAAAAAAAAKbkBmZmZmZoFwQM3MzMzM/XFAMzMzMzN6c0CamZmZmfZ0QAAAAAAAc3ZAZmZmZmbvd0DNzMzMzGt5QDMzMzMz6HpAmpmZmZlkfEAAAAAAAOF9QGZmZmZmXX9AZmZmZuZsgECamZmZGSuBQM3MzMxM6YFAAAAAAICngkAzMzMzs2WDQGZmZmbmI4RAmpmZmRnihEDNzMzMTKCFQAAAAACAXoZAMzMzM7Mch0BmZmZm5tqHQJqZmZkZmYhAzczMzExXiUAAAAAAgBWKQDMzMzOz04pAZmZmZuaRi0CamZmZGVCMQM3MzMxMDo1AAAAAAIDMjUAzMzMzs4qOQGZmZmbmSI9A\",\"dtype\":\"float64\",\"shape\":[75]}}},\"id\":\"9e5cf5ac-3f83-433b-a195-11bee9d51c64\",\"type\":\"ColumnDataSource\"},{\"attributes\":{\"callback\":null,\"column_names\":[\"x\",\"y\"],\"data\":{\"x\":{\"__ndarray__\":\"6p3H2iXP1D8awuWgS+TUP55fHuIAeNU/lJpPnTkb1j+QmPz/uKHWP0AIq04ZBdc/GEa75upA1z87sVE38ULXP2KgRdHR+dY/oWNwcThR1j/NwJ3jHjLVP9TlrnXwfNM/TuCUPxcP0T9fJaisaZDLP0Sa3SYaYsY/jcbK+ncbyD+hgPodpBfOPxQT2YNvE9E/OV7rBR6T0j9Vo3D/4BXVP9BDckk5c9o/0JCVSv0+4j9SqTjj8hboP82+Tkj0POg/dGDYYZVx4z85XjacLj3eP7KyBPs12dc/qxHVIxcN0z+uxFIdlaHOP+mBiIgjTcg/NZNbRwxowj8UY4VUVBy6P03QrgH26bI/j/grcKCNrj9rBe81hjOpP2DCgO4Hm6M/WNCXr8Rznz9ar/KxNueZP1bb182cPY0/MpmeoToqYD/8F3Lte7FmP9zQkJXJwpA/nXUY9VL2nD+kDxJpEjyjP0eVbqXuNac/YtI0Vh2qqj/yF5xD58etPxm48SoIVbA/HfofrbqzsT/u6k3RnQCzPzixPk0uObQ/IQbAqSZWtT/25d9mZEm2Pzt+9AsKJLc/IaRSy0Lptz9gJQU5eKC4PzxtEbBETbk/JFgg1PnvuT/yqHm/u4q6PwkBRcwtHrs/Pt2ZwbSruz89wZFT2zu8P1bXxnQrxrw/5KgGTblgvT/9UUfuEAq+P96B8NZ8xL4/nIzevzmDvz+GC2sJFwvAP/MLqllfJcA/ZKfNlskRwD9sgqqmr9i/PzjR1iDiqr8/6YaXEeXFvz80U/8yPjLAP10Io8dbTME/\",\"dtype\":\"float64\",\"shape\":[75]},\"y\":{\"__ndarray__\":\"GhExyth1ND/Sv8nbtpRIP2vylNV0PVE/aTum7souWD/At0SJ8fVgPw3Iuahxymc/MSNhhJWvcD/bTfBN02d3P2zb5nxnaoA/CD5h5MAGhz8NmeH1TyaQP+zrCsc9p5Y/LbKd76fGnz/bLW5ISEmmPww9YvTcQq8/JV2OstnstT8Er5Y7M8G+P0c+r3jqkcU/5h99k6ZBzj88bCIzFzjVP4enV8oyxN0//yH99nXg5D8qOpLLf0jtP5kqGJXUifQ/c9cS8kHP/D+/DpwzojQEQIEmwoanVwxA4lgXt9HgE0BSSZ2AJuIbQAMJih9jjiNA5q4l5INuK0AwTKYKRj0zQNv5fmq8/DpAaCJseHrtQkB/+zpwzoxKQM3MzMzMeFJAZmZmZmZqWEAAAAAAAFxeQM3MzMzMJmJAmpmZmZkfZUBmZmZmZhhoQDMzMzMzEWtAAAAAAAAKbkBmZmZmZoFwQM3MzMzM/XFAMzMzMzN6c0CamZmZmfZ0QAAAAAAAc3ZAZmZmZmbvd0DNzMzMzGt5QDMzMzMz6HpAmpmZmZlkfEAAAAAAAOF9QGZmZmZmXX9AZmZmZuZsgECamZmZGSuBQM3MzMxM6YFAAAAAAICngkAzMzMzs2WDQGZmZmbmI4RAmpmZmRnihEDNzMzMTKCFQAAAAACAXoZAMzMzM7Mch0BmZmZm5tqHQJqZmZkZmYhAzczMzExXiUAAAAAAgBWKQDMzMzOz04pAZmZmZuaRi0CamZmZGVCMQM3MzMxMDo1AAAAAAIDMjUAzMzMzs4qOQGZmZmbmSI9A\",\"dtype\":\"float64\",\"shape\":[75]}}},\"id\":\"1bd78c0a-5c5c-433a-9bed-5d1910d93e5b\",\"type\":\"ColumnDataSource\"},{\"attributes\":{\"fill_alpha\":{\"value\":0.1},\"fill_color\":{\"value\":\"#1f77b4\"},\"line_alpha\":{\"value\":0.1},\"line_color\":{\"value\":\"#1f77b4\"},\"x\":{\"field\":\"x\"},\"y\":{\"field\":\"y\"}},\"id\":\"d1857bfc-72de-48bb-b665-a017ce5c04e1\",\"type\":\"Circle\"},{\"attributes\":{},\"id\":\"67c5c884-3418-4750-98e7-cc8f91c8207b\",\"type\":\"BasicTickFormatter\"},{\"attributes\":{\"data_source\":{\"id\":\"526d0e6d-7f02-4010-b0f0-f8f234c89a78\",\"type\":\"ColumnDataSource\"},\"glyph\":{\"id\":\"fafcc0d5-70c2-4ec9-a0d5-55f94b2b03d0\",\"type\":\"Circle\"},\"hover_glyph\":null,\"muted_glyph\":null,\"nonselection_glyph\":{\"id\":\"d1857bfc-72de-48bb-b665-a017ce5c04e1\",\"type\":\"Circle\"},\"selection_glyph\":null,\"view\":{\"id\":\"6a65dbff-27f0-42d9-8851-41ccdebdb448\",\"type\":\"CDSView\"}},\"id\":\"b9a873f9-1d93-439c-82e6-5fa884d6058b\",\"type\":\"GlyphRenderer\"},{\"attributes\":{\"source\":{\"id\":\"526d0e6d-7f02-4010-b0f0-f8f234c89a78\",\"type\":\"ColumnDataSource\"}},\"id\":\"6a65dbff-27f0-42d9-8851-41ccdebdb448\",\"type\":\"CDSView\"},{\"attributes\":{\"line_color\":\"#4daf4a\",\"line_width\":1.5,\"x\":{\"field\":\"x\"},\"y\":{\"field\":\"y\"}},\"id\":\"bfb1579f-f1ce-4b44-a2a8-61051a3f8ed2\",\"type\":\"Line\"},{\"attributes\":{\"line_alpha\":0.6,\"line_color\":\"#984ea3\",\"line_width\":3,\"x\":{\"field\":\"x\"},\"y\":{\"field\":\"y\"}},\"id\":\"a41fa0a5-f97f-479d-93e1-ef2a93dfbf44\",\"type\":\"Line\"},{\"attributes\":{\"line_alpha\":0.1,\"line_color\":\"#1f77b4\",\"line_width\":1.5,\"x\":{\"field\":\"x\"},\"y\":{\"field\":\"y\"}},\"id\":\"b8dc3112-4431-4299-a688-74d7e5d83258\",\"type\":\"Line\"},{\"attributes\":{\"callback\":null,\"column_names\":[\"x\",\"y\"],\"data\":{\"x\":{\"__ndarray__\":\"6p3H2iXP1D8awuWgS+TUP55fHuIAeNU/lJpPnTkb1j+QmPz/uKHWP0AIq04ZBdc/GEa75upA1z87sVE38ULXP2KgRdHR+dY/oWNwcThR1j/NwJ3jHjLVP9TlrnXwfNM/TuCUPxcP0T9fJaisaZDLP0Sa3SYaYsY/jcbK+ncbyD+hgPodpBfOPxQT2YNvE9E/OV7rBR6T0j9Vo3D/4BXVP9BDckk5c9o/0JCVSv0+4j9SqTjj8hboP82+Tkj0POg/dGDYYZVx4z85XjacLj3eP7KyBPs12dc/qxHVIxcN0z+uxFIdlaHOP+mBiIgjTcg/NZNbRwxowj8UY4VUVBy6P03QrgH26bI/j/grcKCNrj9rBe81hjOpP2DCgO4Hm6M/WNCXr8Rznz9ar/KxNueZP1bb182cPY0/MpmeoToqYD/8F3Lte7FmP9zQkJXJwpA/nXUY9VL2nD+kDxJpEjyjP0eVbqXuNac/YtI0Vh2qqj/yF5xD58etPxm48SoIVbA/HfofrbqzsT/u6k3RnQCzPzixPk0uObQ/IQbAqSZWtT/25d9mZEm2Pzt+9AsKJLc/IaRSy0Lptz9gJQU5eKC4PzxtEbBETbk/JFgg1PnvuT/yqHm/u4q6PwkBRcwtHrs/Pt2ZwbSruz89wZFT2zu8P1bXxnQrxrw/5KgGTblgvT/9UUfuEAq+P96B8NZ8xL4/nIzevzmDvz+GC2sJFwvAP/MLqllfJcA/ZKfNlskRwD9sgqqmr9i/PzjR1iDiqr8/6YaXEeXFvz80U/8yPjLAP10Io8dbTME/\",\"dtype\":\"float64\",\"shape\":[75]},\"y\":{\"__ndarray__\":\"GhExyth1ND/Sv8nbtpRIP2vylNV0PVE/aTum7souWD/At0SJ8fVgPw3Iuahxymc/MSNhhJWvcD/bTfBN02d3P2zb5nxnaoA/CD5h5MAGhz8NmeH1TyaQP+zrCsc9p5Y/LbKd76fGnz/bLW5ISEmmPww9YvTcQq8/JV2OstnstT8Er5Y7M8G+P0c+r3jqkcU/5h99k6ZBzj88bCIzFzjVP4enV8oyxN0//yH99nXg5D8qOpLLf0jtP5kqGJXUifQ/c9cS8kHP/D+/DpwzojQEQIEmwoanVwxA4lgXt9HgE0BSSZ2AJuIbQAMJih9jjiNA5q4l5INuK0AwTKYKRj0zQNv5fmq8/DpAaCJseHrtQkB/+zpwzoxKQM3MzMzMeFJAZmZmZmZqWEAAAAAAAFxeQM3MzMzMJmJAmpmZmZkfZUBmZmZmZhhoQDMzMzMzEWtAAAAAAAAKbkBmZmZmZoFwQM3MzMzM/XFAMzMzMzN6c0CamZmZmfZ0QAAAAAAAc3ZAZmZmZmbvd0DNzMzMzGt5QDMzMzMz6HpAmpmZmZlkfEAAAAAAAOF9QGZmZmZmXX9AZmZmZuZsgECamZmZGSuBQM3MzMxM6YFAAAAAAICngkAzMzMzs2WDQGZmZmbmI4RAmpmZmRnihEDNzMzMTKCFQAAAAACAXoZAMzMzM7Mch0BmZmZm5tqHQJqZmZkZmYhAzczMzExXiUAAAAAAgBWKQDMzMzOz04pAZmZmZuaRi0CamZmZGVCMQM3MzMxMDo1AAAAAAIDMjUAzMzMzs4qOQGZmZmbmSI9A\",\"dtype\":\"float64\",\"shape\":[75]}}},\"id\":\"a2b38aed-968b-4c3e-879a-b59a0c3fb1dd\",\"type\":\"ColumnDataSource\"},{\"attributes\":{\"source\":{\"id\":\"9e5cf5ac-3f83-433b-a195-11bee9d51c64\",\"type\":\"ColumnDataSource\"}},\"id\":\"8e4e74c4-94e5-481f-9773-a7a1d7b9d701\",\"type\":\"CDSView\"},{\"attributes\":{\"fill_alpha\":{\"value\":0.7},\"fill_color\":{\"value\":\"#984ea3\"},\"line_alpha\":{\"value\":0.7},\"line_color\":{\"value\":\"#984ea3\"},\"x\":{\"field\":\"x\"},\"y\":{\"field\":\"y\"}},\"id\":\"71191e6e-c5ee-403d-a176-62b452af6847\",\"type\":\"Square\"},{\"attributes\":{\"items\":[{\"id\":\"091f4a45-eddc-439d-8dc3-cedcd4cf1589\",\"type\":\"LegendItem\"},{\"id\":\"4276fb3f-ee1d-48ac-8520-70cd393b79b0\",\"type\":\"LegendItem\"},{\"id\":\"c767fc46-172d-4d58-ad17-273c658a22d7\",\"type\":\"LegendItem\"}],\"label_text_font_size\":{\"value\":\"8pt\"},\"location\":[10,-30],\"plot\":{\"id\":\"35ddc626-cb00-4b2e-a952-cf504d2239dd\",\"subtype\":\"Figure\",\"type\":\"Plot\"}},\"id\":\"44c38ee6-aa1d-451b-83f3-882b8945a79b\",\"type\":\"Legend\"},{\"attributes\":{\"source\":{\"id\":\"1bd78c0a-5c5c-433a-9bed-5d1910d93e5b\",\"type\":\"ColumnDataSource\"}},\"id\":\"9a6879e9-2efe-48ea-af4e-026bdbc5cb2a\",\"type\":\"CDSView\"},{\"attributes\":{\"callback\":null,\"end\":0.8329890122960001,\"start\":-0.009856601896000001},\"id\":\"31a40f5b-d0f4-44d3-a3f4-14ba96ac7701\",\"type\":\"Range1d\"},{\"attributes\":{\"fill_alpha\":{\"value\":0.1},\"fill_color\":{\"value\":\"#1f77b4\"},\"line_alpha\":{\"value\":0.1},\"line_color\":{\"value\":\"#1f77b4\"},\"x\":{\"field\":\"x\"},\"y\":{\"field\":\"y\"}},\"id\":\"8794df8e-6010-4dfa-8c9a-1a2d726d7e88\",\"type\":\"Square\"},{\"attributes\":{\"data_source\":{\"id\":\"1bd78c0a-5c5c-433a-9bed-5d1910d93e5b\",\"type\":\"ColumnDataSource\"},\"glyph\":{\"id\":\"71191e6e-c5ee-403d-a176-62b452af6847\",\"type\":\"Square\"},\"hover_glyph\":null,\"muted_glyph\":null,\"nonselection_glyph\":{\"id\":\"8794df8e-6010-4dfa-8c9a-1a2d726d7e88\",\"type\":\"Square\"},\"selection_glyph\":null,\"view\":{\"id\":\"9a6879e9-2efe-48ea-af4e-026bdbc5cb2a\",\"type\":\"CDSView\"}},\"id\":\"9a943594-eecd-49ca-a4eb-6aefea21e006\",\"type\":\"GlyphRenderer\"},{\"attributes\":{\"callback\":null,\"column_names\":[\"x\",\"y\"],\"data\":{\"x\":{\"__ndarray__\":\"/Dh5FUJc2j9aPMRYCQraP0/An6+Tmdo/sINSzQ8Q2z9iu72cwFHbP6SkTfZLW9s/IQeAhScP2z++Mi25o2LaPwSwfdg9P9k/7ECMxpCS1z+I0+78R0vVP63FArqKYNI/N0BAKSCOzT+XKXuF5OjEP9zIp40Lg7w/6qIyD6oevz8DpGirs1bGPw4LvRfC3sw/DzEUZpAx0j/NJ6dNBzjXPwwQu6WLQ94/4JWPavl95D8WIyJnJ2TqP9T7Wzyb+ek/vOsJnoRK5D/eGMjU2WDePwE4crQVgdY/mPjlxAW90D9Pb04+oODJP5CQWL2JwsQ/UQ80E8pKwD+crQhzxQm4P7XKHjESC7I/e+JNPycLrT8huDmxYS+mP2Tm7rLg950/vwcfspdZlT+TZiYqsfGQP+IFHWUneYA/SKLAhz4bWr/aC3NvAj4wP23Dsfl704s/BnlX7Bgfmj+PJcUqUh+iP3x1kAIEpqY/Ti53embIqj8DlVQa75auP3TJ2NOFDbE/nQZ3LUKtsj/+l0UKYCi0P03rcQrrebU/PI0eOX6atj9O3oZsroe3PwarF2f/SLg/L6uoqJfruD9wx5RCMnq5P55zfUAc+7k/5+7GxN5yuj+USbKzjeS6P6m96+AeU7s/WQ4d0AzBuz/mXAZzJjO8P0PEcvDxrrw/u5obV0w6vT9677ldedq9Pwnr1p20kb4/jAdCT1ZOvz+Cb5o+O+C/Pw6iUngSCcA/CZ0AWFfkvz/ebDm48JO/P/UfRsZyZL8/2ibsDYSFvz8BC2g7CRnAP2tDan8MQsE/\",\"dtype\":\"float64\",\"shape\":[75]},\"y\":{\"__ndarray__\":\"GhExyth1ND/Sv8nbtpRIP2vylNV0PVE/aTum7souWD/At0SJ8fVgPw3Iuahxymc/MSNhhJWvcD/bTfBN02d3P2zb5nxnaoA/CD5h5MAGhz8NmeH1TyaQP+zrCsc9p5Y/LbKd76fGnz/bLW5ISEmmPww9YvTcQq8/JV2OstnstT8Er5Y7M8G+P0c+r3jqkcU/5h99k6ZBzj88bCIzFzjVP4enV8oyxN0//yH99nXg5D8qOpLLf0jtP5kqGJXUifQ/c9cS8kHP/D+/DpwzojQEQIEmwoanVwxA4lgXt9HgE0BSSZ2AJuIbQAMJih9jjiNA5q4l5INuK0AwTKYKRj0zQNv5fmq8/DpAaCJseHrtQkB/+zpwzoxKQM3MzMzMeFJAZmZmZmZqWEAAAAAAAFxeQM3MzMzMJmJAmpmZmZkfZUBmZmZmZhhoQDMzMzMzEWtAAAAAAAAKbkBmZmZmZoFwQM3MzMzM/XFAMzMzMzN6c0CamZmZmfZ0QAAAAAAAc3ZAZmZmZmbvd0DNzMzMzGt5QDMzMzMz6HpAmpmZmZlkfEAAAAAAAOF9QGZmZmZmXX9AZmZmZuZsgECamZmZGSuBQM3MzMxM6YFAAAAAAICngkAzMzMzs2WDQGZmZmbmI4RAmpmZmRnihEDNzMzMTKCFQAAAAACAXoZAMzMzM7Mch0BmZmZm5tqHQJqZmZkZmYhAzczMzExXiUAAAAAAgBWKQDMzMzOz04pAZmZmZuaRi0CamZmZGVCMQM3MzMxMDo1AAAAAAIDMjUAzMzMzs4qOQGZmZmbmSI9A\",\"dtype\":\"float64\",\"shape\":[75]}}},\"id\":\"44a89ef6-54fb-484e-ad77-f3c8a8ab4752\",\"type\":\"ColumnDataSource\"},{\"attributes\":{\"source\":{\"id\":\"a2b38aed-968b-4c3e-879a-b59a0c3fb1dd\",\"type\":\"ColumnDataSource\"}},\"id\":\"7c09cd7e-cd38-41cb-af6a-2ab51af9ad14\",\"type\":\"CDSView\"},{\"attributes\":{\"line_alpha\":0.1,\"line_color\":\"#1f77b4\",\"line_width\":3,\"x\":{\"field\":\"x\"},\"y\":{\"field\":\"y\"}},\"id\":\"3fa415d3-c54f-4041-9917-c90031f71215\",\"type\":\"Line\"},{\"attributes\":{\"data_source\":{\"id\":\"1f7a3df0-e551-47ca-b819-e77e00c40895\",\"type\":\"ColumnDataSource\"},\"glyph\":{\"id\":\"7ab6deec-d79f-4b24-8b98-b1b8ac53606a\",\"type\":\"Line\"},\"hover_glyph\":null,\"muted_glyph\":null,\"nonselection_glyph\":{\"id\":\"919ce9d5-83a5-4294-8538-beec28776cc5\",\"type\":\"Line\"},\"selection_glyph\":null,\"view\":{\"id\":\"fc911d2c-a9c5-4ca1-ab4c-129cb4377867\",\"type\":\"CDSView\"}},\"id\":\"5b5ea525-db66-4540-bf95-83a057e011d5\",\"type\":\"GlyphRenderer\"},{\"attributes\":{\"data_source\":{\"id\":\"a2b38aed-968b-4c3e-879a-b59a0c3fb1dd\",\"type\":\"ColumnDataSource\"},\"glyph\":{\"id\":\"a41fa0a5-f97f-479d-93e1-ef2a93dfbf44\",\"type\":\"Line\"},\"hover_glyph\":null,\"muted_glyph\":null,\"nonselection_glyph\":{\"id\":\"3fa415d3-c54f-4041-9917-c90031f71215\",\"type\":\"Line\"},\"selection_glyph\":null,\"view\":{\"id\":\"7c09cd7e-cd38-41cb-af6a-2ab51af9ad14\",\"type\":\"CDSView\"}},\"id\":\"37864636-8161-4be3-aa42-d1433d18830d\",\"type\":\"GlyphRenderer\"},{\"attributes\":{\"tools\":[{\"id\":\"c677ffbf-d46b-42c4-bae4-5be2b14fb360\",\"type\":\"PanTool\"},{\"id\":\"7f090cd8-d451-469c-a482-253f598ce4f9\",\"type\":\"WheelZoomTool\"},{\"id\":\"27b55a60-366b-497a-a0f6-b453aa5bb878\",\"type\":\"BoxZoomTool\"},{\"id\":\"cc999fbf-684f-4331-b7be-dc6400163c4d\",\"type\":\"SaveTool\"},{\"id\":\"6fc9e8bc-6079-4368-8568-07261ba3c90e\",\"type\":\"ResetTool\"},{\"id\":\"357d3c3c-9c6e-4e55-be7f-2bc827fca74a\",\"type\":\"HelpTool\"},{\"id\":\"dd9ea9ba-8899-4205-b8c2-ee16200caf4b\",\"type\":\"PanTool\"},{\"id\":\"1709ac5f-429f-4147-a6e0-ef4e4e2442a1\",\"type\":\"WheelZoomTool\"},{\"id\":\"c0862183-fce3-42f0-8f19-14ef42ea615f\",\"type\":\"BoxZoomTool\"},{\"id\":\"5535007a-54a3-4165-ac4a-85f0bb16729b\",\"type\":\"SaveTool\"},{\"id\":\"e0454f92-47ad-41c9-ae31-5e09c348e9ac\",\"type\":\"ResetTool\"},{\"id\":\"ee261bf0-d334-4694-a9d2-b3eac57d5526\",\"type\":\"HelpTool\"}]},\"id\":\"14d8d24c-b0bd-4919-8097-4f1ee39a6065\",\"type\":\"ProxyToolbar\"},{\"attributes\":{\"toolbar\":{\"id\":\"14d8d24c-b0bd-4919-8097-4f1ee39a6065\",\"type\":\"ProxyToolbar\"},\"toolbar_location\":\"above\"},\"id\":\"808d7147-35eb-4a62-b44a-e0840a5908c9\",\"type\":\"ToolbarBox\"},{\"attributes\":{\"children\":[{\"id\":\"808d7147-35eb-4a62-b44a-e0840a5908c9\",\"type\":\"ToolbarBox\"},{\"id\":\"df37039a-2099-442c-adbd-48820ef2971c\",\"type\":\"Column\"}]},\"id\":\"cb0fa15f-79c7-4736-8140-e54feeb9ec20\",\"type\":\"Column\"}],\"root_ids\":[\"cb0fa15f-79c7-4736-8140-e54feeb9ec20\"]},\"title\":\"Bokeh Application\",\"version\":\"0.12.14\"}};\n",
       "  var render_items = [{\"docid\":\"32934afe-615e-4c1d-825b-14637ebde63d\",\"elementid\":\"d883dcef-e71d-4b70-9d57-d3a0306f816f\",\"modelid\":\"cb0fa15f-79c7-4736-8140-e54feeb9ec20\"}];\n",
       "  root.Bokeh.embed.embed_items_notebook(docs_json, render_items);\n",
       "\n",
       "  }\n",
       "  if (root.Bokeh !== undefined) {\n",
       "    embed_document(root);\n",
       "  } else {\n",
       "    var attempts = 0;\n",
       "    var timer = setInterval(function(root) {\n",
       "      if (root.Bokeh !== undefined) {\n",
       "        embed_document(root);\n",
       "        clearInterval(timer);\n",
       "      }\n",
       "      attempts++;\n",
       "      if (attempts > 100) {\n",
       "        console.log(\"Bokeh: ERROR: Unable to run BokehJS code because BokehJS library is missing\")\n",
       "        clearInterval(timer);\n",
       "      }\n",
       "    }, 10, root)\n",
       "  }\n",
       "})(window);"
      ],
      "application/vnd.bokehjs_exec.v0+json": ""
     },
     "metadata": {
      "application/vnd.bokehjs_exec.v0+json": {
       "id": "cb0fa15f-79c7-4736-8140-e54feeb9ec20"
      }
     },
     "output_type": "display_data"
    },
    {
     "name": "stdout",
     "output_type": "stream",
     "text": [
      "FIGURE. Cooling rate profiles.\n"
     ]
    },
    {
     "data": {
      "text/html": [
       "<a id=\"Flux_Comparison\"></a>"
      ],
      "text/plain": [
       "<IPython.core.display.HTML object>"
      ]
     },
     "metadata": {},
     "output_type": "display_data"
    },
    {
     "data": {
      "text/markdown": [
       "# Flux Comparison"
      ],
      "text/plain": [
       "<IPython.core.display.Markdown object>"
      ]
     },
     "metadata": {},
     "output_type": "display_data"
    },
    {
     "data": {
      "text/html": [
       "<div>\n",
       "<style>\n",
       "    .dataframe thead tr:only-child th {\n",
       "        text-align: right;\n",
       "    }\n",
       "\n",
       "    .dataframe thead th {\n",
       "        text-align: left;\n",
       "    }\n",
       "\n",
       "    .dataframe tbody tr th {\n",
       "        vertical-align: top;\n",
       "    }\n",
       "</style>\n",
       "<table border=\"1\" class=\"dataframe\">\n",
       "  <thead>\n",
       "    <tr style=\"text-align: right;\">\n",
       "      <th></th>\n",
       "      <th></th>\n",
       "      <th>flug</th>\n",
       "      <th>fldg</th>\n",
       "      <th>fnetg</th>\n",
       "    </tr>\n",
       "    <tr>\n",
       "      <th>pressure</th>\n",
       "      <th>level</th>\n",
       "      <th></th>\n",
       "      <th></th>\n",
       "      <th></th>\n",
       "    </tr>\n",
       "  </thead>\n",
       "  <tbody>\n",
       "    <tr>\n",
       "      <th>0.0000</th>\n",
       "      <th>1</th>\n",
       "      <td>-29.605354</td>\n",
       "      <td>0.000000</td>\n",
       "      <td>-29.605354</td>\n",
       "    </tr>\n",
       "    <tr>\n",
       "      <th>1.0685</th>\n",
       "      <th>24</th>\n",
       "      <td>-29.609930</td>\n",
       "      <td>0.067093</td>\n",
       "      <td>-29.542837</td>\n",
       "    </tr>\n",
       "    <tr>\n",
       "      <th>1013.0000</th>\n",
       "      <th>76</th>\n",
       "      <td>-36.235409</td>\n",
       "      <td>16.836775</td>\n",
       "      <td>-19.398633</td>\n",
       "    </tr>\n",
       "  </tbody>\n",
       "</table>\n",
       "</div>"
      ],
      "text/plain": [
       "                      flug       fldg      fnetg\n",
       "pressure  level                                 \n",
       "0.0000    1     -29.605354   0.000000 -29.605354\n",
       "1.0685    24    -29.609930   0.067093 -29.542837\n",
       "1013.0000 76    -36.235409  16.836775 -19.398633"
      ]
     },
     "metadata": {},
     "output_type": "display_data"
    },
    {
     "name": "stdout",
     "output_type": "stream",
     "text": [
      "Table. Fluxes. WGT igg=10 wgt_flux=1\n"
     ]
    },
    {
     "data": {
      "text/html": [
       "<div>\n",
       "<style>\n",
       "    .dataframe thead tr:only-child th {\n",
       "        text-align: right;\n",
       "    }\n",
       "\n",
       "    .dataframe thead th {\n",
       "        text-align: left;\n",
       "    }\n",
       "\n",
       "    .dataframe tbody tr th {\n",
       "        vertical-align: top;\n",
       "    }\n",
       "</style>\n",
       "<table border=\"1\" class=\"dataframe\">\n",
       "  <thead>\n",
       "    <tr style=\"text-align: right;\">\n",
       "      <th></th>\n",
       "      <th></th>\n",
       "      <th>flug</th>\n",
       "      <th>fldg</th>\n",
       "      <th>fnetg</th>\n",
       "    </tr>\n",
       "    <tr>\n",
       "      <th>pressure</th>\n",
       "      <th>level</th>\n",
       "      <th></th>\n",
       "      <th></th>\n",
       "      <th></th>\n",
       "    </tr>\n",
       "  </thead>\n",
       "  <tbody>\n",
       "    <tr>\n",
       "      <th>0.0000</th>\n",
       "      <th>1</th>\n",
       "      <td>-29.591178</td>\n",
       "      <td>0.000000</td>\n",
       "      <td>-29.591178</td>\n",
       "    </tr>\n",
       "    <tr>\n",
       "      <th>1.0685</th>\n",
       "      <th>24</th>\n",
       "      <td>-29.596461</td>\n",
       "      <td>0.072693</td>\n",
       "      <td>-29.523768</td>\n",
       "    </tr>\n",
       "    <tr>\n",
       "      <th>1013.0000</th>\n",
       "      <th>76</th>\n",
       "      <td>-36.235408</td>\n",
       "      <td>16.758790</td>\n",
       "      <td>-19.476618</td>\n",
       "    </tr>\n",
       "  </tbody>\n",
       "</table>\n",
       "</div>"
      ],
      "text/plain": [
       "                      flug       fldg      fnetg\n",
       "pressure  level                                 \n",
       "0.0000    1     -29.591178   0.000000 -29.591178\n",
       "1.0685    24    -29.596461   0.072693 -29.523768\n",
       "1013.0000 76    -36.235408  16.758790 -19.476618"
      ]
     },
     "metadata": {},
     "output_type": "display_data"
    },
    {
     "name": "stdout",
     "output_type": "stream",
     "text": [
      "Table. Fluxes. CRD\n"
     ]
    },
    {
     "data": {
      "text/html": [
       "<div>\n",
       "<style>\n",
       "    .dataframe thead tr:only-child th {\n",
       "        text-align: right;\n",
       "    }\n",
       "\n",
       "    .dataframe thead th {\n",
       "        text-align: left;\n",
       "    }\n",
       "\n",
       "    .dataframe tbody tr th {\n",
       "        vertical-align: top;\n",
       "    }\n",
       "</style>\n",
       "<table border=\"1\" class=\"dataframe\">\n",
       "  <thead>\n",
       "    <tr style=\"text-align: right;\">\n",
       "      <th></th>\n",
       "      <th></th>\n",
       "      <th>flug</th>\n",
       "      <th>fldg</th>\n",
       "      <th>fnetg</th>\n",
       "    </tr>\n",
       "    <tr>\n",
       "      <th>pressure</th>\n",
       "      <th>level</th>\n",
       "      <th></th>\n",
       "      <th></th>\n",
       "      <th></th>\n",
       "    </tr>\n",
       "  </thead>\n",
       "  <tbody>\n",
       "    <tr>\n",
       "      <th>1.000000e-08</th>\n",
       "      <th>1</th>\n",
       "      <td>-29.698008</td>\n",
       "      <td>0.000002</td>\n",
       "      <td>-29.698006</td>\n",
       "    </tr>\n",
       "    <tr>\n",
       "      <th>1.068500e+00</th>\n",
       "      <th>24</th>\n",
       "      <td>-29.701851</td>\n",
       "      <td>0.063913</td>\n",
       "      <td>-29.637938</td>\n",
       "    </tr>\n",
       "    <tr>\n",
       "      <th>1.013000e+03</th>\n",
       "      <th>76</th>\n",
       "      <td>-36.235409</td>\n",
       "      <td>16.861393</td>\n",
       "      <td>-19.374016</td>\n",
       "    </tr>\n",
       "  </tbody>\n",
       "</table>\n",
       "</div>"
      ],
      "text/plain": [
       "                         flug       fldg      fnetg\n",
       "pressure     level                                 \n",
       "1.000000e-08 1     -29.698008   0.000002 -29.698006\n",
       "1.068500e+00 24    -29.701851   0.063913 -29.637938\n",
       "1.013000e+03 76    -36.235409  16.861393 -19.374016"
      ]
     },
     "metadata": {},
     "output_type": "display_data"
    },
    {
     "name": "stdout",
     "output_type": "stream",
     "text": [
      "Table. Fluxes. CLIRAD\n"
     ]
    },
    {
     "data": {
      "text/html": [
       "<div>\n",
       "<style>\n",
       "    .dataframe thead tr:only-child th {\n",
       "        text-align: right;\n",
       "    }\n",
       "\n",
       "    .dataframe thead th {\n",
       "        text-align: left;\n",
       "    }\n",
       "\n",
       "    .dataframe tbody tr th {\n",
       "        vertical-align: top;\n",
       "    }\n",
       "</style>\n",
       "<table border=\"1\" class=\"dataframe\">\n",
       "  <thead>\n",
       "    <tr style=\"text-align: right;\">\n",
       "      <th></th>\n",
       "      <th></th>\n",
       "      <th>flug</th>\n",
       "      <th>fldg</th>\n",
       "      <th>fnetg</th>\n",
       "    </tr>\n",
       "    <tr>\n",
       "      <th>pressure</th>\n",
       "      <th>level</th>\n",
       "      <th></th>\n",
       "      <th></th>\n",
       "      <th></th>\n",
       "    </tr>\n",
       "  </thead>\n",
       "  <tbody>\n",
       "    <tr>\n",
       "      <th>0.0000</th>\n",
       "      <th>1</th>\n",
       "      <td>1.417613e-02</td>\n",
       "      <td>0.000000</td>\n",
       "      <td>0.014176</td>\n",
       "    </tr>\n",
       "    <tr>\n",
       "      <th>1.0685</th>\n",
       "      <th>24</th>\n",
       "      <td>1.346853e-02</td>\n",
       "      <td>0.005601</td>\n",
       "      <td>0.019069</td>\n",
       "    </tr>\n",
       "    <tr>\n",
       "      <th>1013.0000</th>\n",
       "      <th>76</th>\n",
       "      <td>5.330000e-07</td>\n",
       "      <td>-0.077985</td>\n",
       "      <td>-0.077985</td>\n",
       "    </tr>\n",
       "  </tbody>\n",
       "</table>\n",
       "</div>"
      ],
      "text/plain": [
       "                         flug      fldg     fnetg\n",
       "pressure  level                                  \n",
       "0.0000    1      1.417613e-02  0.000000  0.014176\n",
       "1.0685    24     1.346853e-02  0.005601  0.019069\n",
       "1013.0000 76     5.330000e-07 -0.077985 -0.077985"
      ]
     },
     "metadata": {},
     "output_type": "display_data"
    },
    {
     "name": "stdout",
     "output_type": "stream",
     "text": [
      "Table. Fluxes. (CRD) - (WGT igg=10 wgt_flux=1)\n"
     ]
    },
    {
     "data": {
      "text/html": [
       "<div>\n",
       "<style>\n",
       "    .dataframe thead tr:only-child th {\n",
       "        text-align: right;\n",
       "    }\n",
       "\n",
       "    .dataframe thead th {\n",
       "        text-align: left;\n",
       "    }\n",
       "\n",
       "    .dataframe tbody tr th {\n",
       "        vertical-align: top;\n",
       "    }\n",
       "</style>\n",
       "<table border=\"1\" class=\"dataframe\">\n",
       "  <thead>\n",
       "    <tr style=\"text-align: right;\">\n",
       "      <th></th>\n",
       "      <th></th>\n",
       "      <th>flug</th>\n",
       "      <th>fldg</th>\n",
       "      <th>fnetg</th>\n",
       "    </tr>\n",
       "    <tr>\n",
       "      <th>pressure</th>\n",
       "      <th>level</th>\n",
       "      <th></th>\n",
       "      <th></th>\n",
       "      <th></th>\n",
       "    </tr>\n",
       "  </thead>\n",
       "  <tbody>\n",
       "    <tr>\n",
       "      <th>0.0000</th>\n",
       "      <th>1</th>\n",
       "      <td>-9.265387e-02</td>\n",
       "      <td>0.000002</td>\n",
       "      <td>-0.092652</td>\n",
       "    </tr>\n",
       "    <tr>\n",
       "      <th>1.0685</th>\n",
       "      <th>24</th>\n",
       "      <td>-9.192147e-02</td>\n",
       "      <td>-0.003179</td>\n",
       "      <td>-0.095101</td>\n",
       "    </tr>\n",
       "    <tr>\n",
       "      <th>1013.0000</th>\n",
       "      <th>76</th>\n",
       "      <td>-4.670000e-07</td>\n",
       "      <td>0.024618</td>\n",
       "      <td>0.024617</td>\n",
       "    </tr>\n",
       "  </tbody>\n",
       "</table>\n",
       "</div>"
      ],
      "text/plain": [
       "                         flug      fldg     fnetg\n",
       "pressure  level                                  \n",
       "0.0000    1     -9.265387e-02  0.000002 -0.092652\n",
       "1.0685    24    -9.192147e-02 -0.003179 -0.095101\n",
       "1013.0000 76    -4.670000e-07  0.024618  0.024617"
      ]
     },
     "metadata": {},
     "output_type": "display_data"
    },
    {
     "name": "stdout",
     "output_type": "stream",
     "text": [
      "Table. Fluxes. (CLIRAD) - (WGT igg=10 wgt_flux=1)\n"
     ]
    },
    {
     "data": {
      "text/html": [
       "<a id=\"Best-fit_Parameters\"></a>"
      ],
      "text/plain": [
       "<IPython.core.display.HTML object>"
      ]
     },
     "metadata": {},
     "output_type": "display_data"
    },
    {
     "data": {
      "text/markdown": [
       "# Best-fit Parameters"
      ],
      "text/plain": [
       "<IPython.core.display.Markdown object>"
      ]
     },
     "metadata": {},
     "output_type": "display_data"
    },
    {
     "name": "stdout",
     "output_type": "stream",
     "text": [
      "Best-fit values for each (gas, band)\n",
      "------------------------------------\n",
      "o co2 band3a\n",
      "  atmpro = mls\n",
      "  band = 3a\n",
      "  commitnumber = 2bd1f75\n",
      "  conc = 0.0004\n",
      "  dv = 0.01\n",
      "  klin = 6.375563e-24\n",
      "  molecule = co2\n",
      "  ng_adju = [0, 0, 0]\n",
      "  ng_refs = [3, 2, 4]\n",
      "  nv = 100\n",
      "  option_compute_btable = 0\n",
      "  option_compute_ktable = 1\n",
      "  option_wgt_flux = 1\n",
      "  option_wgt_k = 1\n",
      "  ref_pts = [(1, 250), (10, 250), (500, 250)]\n",
      "  tsfc = 294\n",
      "  vmax = 620\n",
      "  vmin = 540\n",
      "  w_diffuse = [(1.6, 1.6, 1.7), (1.75, 1.75), (1.55, 1.55, 1.6, 1.85)]\n",
      "  wgt = [(0.7, 0.3, 0.7), (0.7, 0.6), (0.4, 0.5, 0.8, 0.95)]\n"
     ]
    }
   ],
   "source": [
    "script()"
   ]
  },
  {
   "cell_type": "code",
   "execution_count": 13,
   "metadata": {
    "collapsed": true
   },
   "outputs": [
    {
     "data": {
      "text/html": [
       "<script>\n",
       "code_show=true; \n",
       "function code_toggle() {\n",
       " if (code_show){\n",
       " $('div.input').hide();\n",
       " } else {\n",
       " $('div.input').show();\n",
       " }\n",
       " code_show = !code_show\n",
       "} \n",
       "$( document ).ready(code_toggle);\n",
       "</script>\n",
       "<form action=\"javascript:code_toggle()\"><input type=\"submit\" value=\"Click here to toggle on/off the raw code.\"></form>"
      ],
      "text/plain": [
       "<IPython.core.display.HTML object>"
      ]
     },
     "execution_count": 13,
     "metadata": {},
     "output_type": "execute_result"
    }
   ],
   "source": [
    "display.HTML('''<script>\n",
    "code_show=true; \n",
    "function code_toggle() {\n",
    " if (code_show){\n",
    " $('div.input').hide();\n",
    " } else {\n",
    " $('div.input').show();\n",
    " }\n",
    " code_show = !code_show\n",
    "} \n",
    "$( document ).ready(code_toggle);\n",
    "</script>\n",
    "<form action=\"javascript:code_toggle()\"><input type=\"submit\" value=\"Click here to toggle on/off the raw code.\"></form>''')"
   ]
  }
 ],
 "metadata": {
  "kernelspec": {
   "display_name": "Python 3",
   "language": "python",
   "name": "python3"
  },
  "language_info": {
   "codemirror_mode": {
    "name": "ipython",
    "version": 3
   },
   "file_extension": ".py",
   "mimetype": "text/x-python",
   "name": "python",
   "nbconvert_exporter": "python",
   "pygments_lexer": "ipython3",
   "version": "3.6.1"
  }
 },
 "nbformat": 4,
 "nbformat_minor": 2
}
