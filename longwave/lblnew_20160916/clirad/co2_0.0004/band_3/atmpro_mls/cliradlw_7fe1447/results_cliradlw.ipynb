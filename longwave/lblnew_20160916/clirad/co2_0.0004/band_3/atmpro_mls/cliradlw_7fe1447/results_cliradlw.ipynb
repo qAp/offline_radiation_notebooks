{
 "cells": [
  {
   "cell_type": "code",
   "execution_count": 1,
   "metadata": {
    "collapsed": true
   },
   "outputs": [],
   "source": [
    "%matplotlib inline\n",
    "import os\n",
    "import re\n",
    "import io\n",
    "import itertools\n",
    "import pprint\n",
    "\n",
    "from bokeh.io import output_notebook, show\n",
    "from bokeh.layouts import gridplot\n",
    "from bokeh.plotting import figure\n",
    "from bokeh.models import Range1d, Legend\n",
    "from bokeh.palettes import all_palettes\n",
    "\n",
    "import matplotlib\n",
    "import matplotlib.pyplot as plt\n",
    "import numpy as np\n",
    "import pandas as pd\n",
    "import xarray as xr\n",
    "\n",
    "import climatools.lblnew.bestfit_params as bestfits\n",
    "from climatools.lblnew import setup_bestfit, setup_overlap\n",
    "import climatools.lblnew.pipeline as pipe_lblnew\n",
    "import climatools.cliradlw.setup as setup_cliradlw\n",
    "import climatools.cliradlw.pipeline as pipe_cliradlw\n",
    "\n",
    "import climatools.html.html as climahtml\n",
    "from climatools.lblnew.dataio import *\n",
    "from climatools.plot.plot import *\n",
    "\n",
    "\n",
    "import IPython.display as display"
   ]
  },
  {
   "cell_type": "code",
   "execution_count": 2,
   "metadata": {
    "collapsed": true
   },
   "outputs": [],
   "source": [
    "%run param.py"
   ]
  },
  {
   "cell_type": "code",
   "execution_count": 3,
   "metadata": {
    "collapsed": true
   },
   "outputs": [],
   "source": [
    "def load_output_file(path_csv):\n",
    "    '''\n",
    "    Load lblnew output .csv file to xarray.Dataset\n",
    "    \n",
    "    Parameters\n",
    "    ----------\n",
    "    path_csv: str\n",
    "              Path to the .csv file to be loaded.\n",
    "    ds: xarray.Dataset\n",
    "        Data in the input file in the form of an xarray.Dataset.\n",
    "    '''\n",
    "    toindex = ['band', 'pressure', 'igg', 'g']    \n",
    "    df = pd.read_csv(path_csv, sep=r'\\s+')\n",
    "    df = df.set_index([i for i in toindex if i in df.columns])\n",
    "    df = df.rename(columns={'sfu': 'flug',\n",
    "                            'sfd': 'fldg',\n",
    "                            'fnet': 'fnetg',\n",
    "                            'coolr': 'coolrg'})\n",
    "    ds = xr.Dataset.from_dataframe(df)\n",
    "\n",
    "    for l in ('level', 'layer'):\n",
    "        if l in ds.data_vars:\n",
    "            if len(ds[l].dims) > 1:\n",
    "                surface = {d: 0 for d in ds.dims if d != 'pressure'}\n",
    "                coord_level = ds[l][surface]\n",
    "                ds.coords[l] = ('pressure', coord_level)\n",
    "            else:\n",
    "                ds.coords[l] = ('pressure', ds[l])\n",
    "    \n",
    "    return ds"
   ]
  },
  {
   "cell_type": "code",
   "execution_count": 4,
   "metadata": {
    "collapsed": true
   },
   "outputs": [],
   "source": [
    "def lblnew_setup(param=None):\n",
    "    if 'ng_refs' in param:\n",
    "        return {'setup': setup_bestfit,\n",
    "                'fname_flux_crd': 'output_flux.dat',\n",
    "                'fname_cool_crd': 'output_coolr.dat',\n",
    "                'fname_flux_wgt': 'output_wfluxg.dat',\n",
    "                'fname_cool_wgt': 'output_wcoolrg.dat'}\n",
    "    else:\n",
    "        return {'setup': setup_overlap,\n",
    "                'fname_flux_crd': 'output_flux.dat',\n",
    "                'fname_cool_crd': 'output_coolr.dat',\n",
    "                'fname_flux_wgt': 'output_wflux.dat',\n",
    "                'fname_cool_wgt': 'output_wcoolr.dat'}\n",
    "\n",
    "    \n",
    "def load_lblnew_data(param):\n",
    "    \n",
    "    fname_dsname = [('fname_flux_crd', 'ds_flux_crd'),\n",
    "                    ('fname_cool_crd', 'ds_cool_crd'),\n",
    "                    ('fname_flux_wgt', 'ds_flux_wgt'),\n",
    "                    ('fname_cool_wgt', 'ds_cool_wgt')]\n",
    "    \n",
    "    d = lblnew_setup(param)\n",
    "    dir_fortran = pipe_lblnew.get_dir_case(param, setup=d['setup'])\n",
    "    \n",
    "    data_dict = {}\n",
    "    for fname, dsname in fname_dsname:\n",
    "        fpath = os.path.join(dir_fortran, d[fname])\n",
    "        data_dict[dsname] = load_output_file(fpath)\n",
    "    return data_dict\n",
    "    \n",
    "\n",
    "    \n",
    "    "
   ]
  },
  {
   "cell_type": "code",
   "execution_count": 5,
   "metadata": {
    "collapsed": true
   },
   "outputs": [],
   "source": [
    "d = load_lblnew_data(PARAM_LBLNEW)\n",
    "\n",
    "DS_FLUX_CRD = d['ds_flux_crd']\n",
    "DS_COOL_CRD = d['ds_cool_crd']\n",
    "DS_FLUX_WGT = d['ds_flux_wgt']\n",
    "DS_COOL_WGT = d['ds_cool_wgt']"
   ]
  },
  {
   "cell_type": "code",
   "execution_count": 6,
   "metadata": {
    "collapsed": true
   },
   "outputs": [],
   "source": [
    "DIR_FORTRAN = pipe_cliradlw.get_fortran_dir(PARAM, \n",
    "                                            setup=setup_cliradlw)\n",
    "\n",
    "PATH_FLUX = os.path.join(DIR_FORTRAN, 'output_flux.dat')\n",
    "PATH_COOL = os.path.join(DIR_FORTRAN, 'output_coolr.dat')\n",
    "\n",
    "DS_FLUX = load_output_file(PATH_FLUX)\n",
    "DS_COOL = load_output_file(PATH_COOL)"
   ]
  },
  {
   "cell_type": "code",
   "execution_count": 7,
   "metadata": {
    "collapsed": true
   },
   "outputs": [
    {
     "data": {
      "text/html": [
       "\n",
       "    <div class=\"bk-root\">\n",
       "        <a href=\"https://bokeh.pydata.org\" target=\"_blank\" class=\"bk-logo bk-logo-small bk-logo-notebook\"></a>\n",
       "        <span id=\"6f495414-22a8-43f0-99b0-3fdfe02c71db\">Loading BokehJS ...</span>\n",
       "    </div>"
      ]
     },
     "metadata": {},
     "output_type": "display_data"
    },
    {
     "data": {
      "application/javascript": [
       "\n",
       "(function(root) {\n",
       "  function now() {\n",
       "    return new Date();\n",
       "  }\n",
       "\n",
       "  var force = true;\n",
       "\n",
       "  if (typeof (root._bokeh_onload_callbacks) === \"undefined\" || force === true) {\n",
       "    root._bokeh_onload_callbacks = [];\n",
       "    root._bokeh_is_loading = undefined;\n",
       "  }\n",
       "\n",
       "  var JS_MIME_TYPE = 'application/javascript';\n",
       "  var HTML_MIME_TYPE = 'text/html';\n",
       "  var EXEC_MIME_TYPE = 'application/vnd.bokehjs_exec.v0+json';\n",
       "  var CLASS_NAME = 'output_bokeh rendered_html';\n",
       "\n",
       "  /**\n",
       "   * Render data to the DOM node\n",
       "   */\n",
       "  function render(props, node) {\n",
       "    var script = document.createElement(\"script\");\n",
       "    node.appendChild(script);\n",
       "  }\n",
       "\n",
       "  /**\n",
       "   * Handle when an output is cleared or removed\n",
       "   */\n",
       "  function handleClearOutput(event, handle) {\n",
       "    var cell = handle.cell;\n",
       "\n",
       "    var id = cell.output_area._bokeh_element_id;\n",
       "    var server_id = cell.output_area._bokeh_server_id;\n",
       "    // Clean up Bokeh references\n",
       "    if (id !== undefined) {\n",
       "      Bokeh.index[id].model.document.clear();\n",
       "      delete Bokeh.index[id];\n",
       "    }\n",
       "\n",
       "    if (server_id !== undefined) {\n",
       "      // Clean up Bokeh references\n",
       "      var cmd = \"from bokeh.io.state import curstate; print(curstate().uuid_to_server['\" + server_id + \"'].get_sessions()[0].document.roots[0]._id)\";\n",
       "      cell.notebook.kernel.execute(cmd, {\n",
       "        iopub: {\n",
       "          output: function(msg) {\n",
       "            var element_id = msg.content.text.trim();\n",
       "            Bokeh.index[element_id].model.document.clear();\n",
       "            delete Bokeh.index[element_id];\n",
       "          }\n",
       "        }\n",
       "      });\n",
       "      // Destroy server and session\n",
       "      var cmd = \"import bokeh.io.notebook as ion; ion.destroy_server('\" + server_id + \"')\";\n",
       "      cell.notebook.kernel.execute(cmd);\n",
       "    }\n",
       "  }\n",
       "\n",
       "  /**\n",
       "   * Handle when a new output is added\n",
       "   */\n",
       "  function handleAddOutput(event, handle) {\n",
       "    var output_area = handle.output_area;\n",
       "    var output = handle.output;\n",
       "\n",
       "    // limit handleAddOutput to display_data with EXEC_MIME_TYPE content only\n",
       "    if ((output.output_type != \"display_data\") || (!output.data.hasOwnProperty(EXEC_MIME_TYPE))) {\n",
       "      return\n",
       "    }\n",
       "\n",
       "    var toinsert = output_area.element.find(\".\" + CLASS_NAME.split(' ')[0]);\n",
       "\n",
       "    if (output.metadata[EXEC_MIME_TYPE][\"id\"] !== undefined) {\n",
       "      toinsert[0].firstChild.textContent = output.data[JS_MIME_TYPE];\n",
       "      // store reference to embed id on output_area\n",
       "      output_area._bokeh_element_id = output.metadata[EXEC_MIME_TYPE][\"id\"];\n",
       "    }\n",
       "    if (output.metadata[EXEC_MIME_TYPE][\"server_id\"] !== undefined) {\n",
       "      var bk_div = document.createElement(\"div\");\n",
       "      bk_div.innerHTML = output.data[HTML_MIME_TYPE];\n",
       "      var script_attrs = bk_div.children[0].attributes;\n",
       "      for (var i = 0; i < script_attrs.length; i++) {\n",
       "        toinsert[0].firstChild.setAttribute(script_attrs[i].name, script_attrs[i].value);\n",
       "      }\n",
       "      // store reference to server id on output_area\n",
       "      output_area._bokeh_server_id = output.metadata[EXEC_MIME_TYPE][\"server_id\"];\n",
       "    }\n",
       "  }\n",
       "\n",
       "  function register_renderer(events, OutputArea) {\n",
       "\n",
       "    function append_mime(data, metadata, element) {\n",
       "      // create a DOM node to render to\n",
       "      var toinsert = this.create_output_subarea(\n",
       "        metadata,\n",
       "        CLASS_NAME,\n",
       "        EXEC_MIME_TYPE\n",
       "      );\n",
       "      this.keyboard_manager.register_events(toinsert);\n",
       "      // Render to node\n",
       "      var props = {data: data, metadata: metadata[EXEC_MIME_TYPE]};\n",
       "      render(props, toinsert[0]);\n",
       "      element.append(toinsert);\n",
       "      return toinsert\n",
       "    }\n",
       "\n",
       "    /* Handle when an output is cleared or removed */\n",
       "    events.on('clear_output.CodeCell', handleClearOutput);\n",
       "    events.on('delete.Cell', handleClearOutput);\n",
       "\n",
       "    /* Handle when a new output is added */\n",
       "    events.on('output_added.OutputArea', handleAddOutput);\n",
       "\n",
       "    /**\n",
       "     * Register the mime type and append_mime function with output_area\n",
       "     */\n",
       "    OutputArea.prototype.register_mime_type(EXEC_MIME_TYPE, append_mime, {\n",
       "      /* Is output safe? */\n",
       "      safe: true,\n",
       "      /* Index of renderer in `output_area.display_order` */\n",
       "      index: 0\n",
       "    });\n",
       "  }\n",
       "\n",
       "  // register the mime type if in Jupyter Notebook environment and previously unregistered\n",
       "  if (root.Jupyter !== undefined) {\n",
       "    var events = require('base/js/events');\n",
       "    var OutputArea = require('notebook/js/outputarea').OutputArea;\n",
       "\n",
       "    if (OutputArea.prototype.mime_types().indexOf(EXEC_MIME_TYPE) == -1) {\n",
       "      register_renderer(events, OutputArea);\n",
       "    }\n",
       "  }\n",
       "\n",
       "  \n",
       "  if (typeof (root._bokeh_timeout) === \"undefined\" || force === true) {\n",
       "    root._bokeh_timeout = Date.now() + 5000;\n",
       "    root._bokeh_failed_load = false;\n",
       "  }\n",
       "\n",
       "  var NB_LOAD_WARNING = {'data': {'text/html':\n",
       "     \"<div style='background-color: #fdd'>\\n\"+\n",
       "     \"<p>\\n\"+\n",
       "     \"BokehJS does not appear to have successfully loaded. If loading BokehJS from CDN, this \\n\"+\n",
       "     \"may be due to a slow or bad network connection. Possible fixes:\\n\"+\n",
       "     \"</p>\\n\"+\n",
       "     \"<ul>\\n\"+\n",
       "     \"<li>re-rerun `output_notebook()` to attempt to load from CDN again, or</li>\\n\"+\n",
       "     \"<li>use INLINE resources instead, as so:</li>\\n\"+\n",
       "     \"</ul>\\n\"+\n",
       "     \"<code>\\n\"+\n",
       "     \"from bokeh.resources import INLINE\\n\"+\n",
       "     \"output_notebook(resources=INLINE)\\n\"+\n",
       "     \"</code>\\n\"+\n",
       "     \"</div>\"}};\n",
       "\n",
       "  function display_loaded() {\n",
       "    var el = document.getElementById(\"6f495414-22a8-43f0-99b0-3fdfe02c71db\");\n",
       "    if (el != null) {\n",
       "      el.textContent = \"BokehJS is loading...\";\n",
       "    }\n",
       "    if (root.Bokeh !== undefined) {\n",
       "      if (el != null) {\n",
       "        el.textContent = \"BokehJS \" + root.Bokeh.version + \" successfully loaded.\";\n",
       "      }\n",
       "    } else if (Date.now() < root._bokeh_timeout) {\n",
       "      setTimeout(display_loaded, 100)\n",
       "    }\n",
       "  }\n",
       "\n",
       "\n",
       "  function run_callbacks() {\n",
       "    try {\n",
       "      root._bokeh_onload_callbacks.forEach(function(callback) { callback() });\n",
       "    }\n",
       "    finally {\n",
       "      delete root._bokeh_onload_callbacks\n",
       "    }\n",
       "    console.info(\"Bokeh: all callbacks have finished\");\n",
       "  }\n",
       "\n",
       "  function load_libs(js_urls, callback) {\n",
       "    root._bokeh_onload_callbacks.push(callback);\n",
       "    if (root._bokeh_is_loading > 0) {\n",
       "      console.log(\"Bokeh: BokehJS is being loaded, scheduling callback at\", now());\n",
       "      return null;\n",
       "    }\n",
       "    if (js_urls == null || js_urls.length === 0) {\n",
       "      run_callbacks();\n",
       "      return null;\n",
       "    }\n",
       "    console.log(\"Bokeh: BokehJS not loaded, scheduling load and callback at\", now());\n",
       "    root._bokeh_is_loading = js_urls.length;\n",
       "    for (var i = 0; i < js_urls.length; i++) {\n",
       "      var url = js_urls[i];\n",
       "      var s = document.createElement('script');\n",
       "      s.src = url;\n",
       "      s.async = false;\n",
       "      s.onreadystatechange = s.onload = function() {\n",
       "        root._bokeh_is_loading--;\n",
       "        if (root._bokeh_is_loading === 0) {\n",
       "          console.log(\"Bokeh: all BokehJS libraries loaded\");\n",
       "          run_callbacks()\n",
       "        }\n",
       "      };\n",
       "      s.onerror = function() {\n",
       "        console.warn(\"failed to load library \" + url);\n",
       "      };\n",
       "      console.log(\"Bokeh: injecting script tag for BokehJS library: \", url);\n",
       "      document.getElementsByTagName(\"head\")[0].appendChild(s);\n",
       "    }\n",
       "  };var element = document.getElementById(\"6f495414-22a8-43f0-99b0-3fdfe02c71db\");\n",
       "  if (element == null) {\n",
       "    console.log(\"Bokeh: ERROR: autoload.js configured with elementid '6f495414-22a8-43f0-99b0-3fdfe02c71db' but no matching script tag was found. \")\n",
       "    return false;\n",
       "  }\n",
       "\n",
       "  var js_urls = [\"https://cdn.pydata.org/bokeh/release/bokeh-0.12.14.min.js\", \"https://cdn.pydata.org/bokeh/release/bokeh-widgets-0.12.14.min.js\", \"https://cdn.pydata.org/bokeh/release/bokeh-tables-0.12.14.min.js\", \"https://cdn.pydata.org/bokeh/release/bokeh-gl-0.12.14.min.js\"];\n",
       "\n",
       "  var inline_js = [\n",
       "    function(Bokeh) {\n",
       "      Bokeh.set_log_level(\"info\");\n",
       "    },\n",
       "    \n",
       "    function(Bokeh) {\n",
       "      \n",
       "    },\n",
       "    function(Bokeh) {\n",
       "      console.log(\"Bokeh: injecting CSS: https://cdn.pydata.org/bokeh/release/bokeh-0.12.14.min.css\");\n",
       "      Bokeh.embed.inject_css(\"https://cdn.pydata.org/bokeh/release/bokeh-0.12.14.min.css\");\n",
       "      console.log(\"Bokeh: injecting CSS: https://cdn.pydata.org/bokeh/release/bokeh-widgets-0.12.14.min.css\");\n",
       "      Bokeh.embed.inject_css(\"https://cdn.pydata.org/bokeh/release/bokeh-widgets-0.12.14.min.css\");\n",
       "      console.log(\"Bokeh: injecting CSS: https://cdn.pydata.org/bokeh/release/bokeh-tables-0.12.14.min.css\");\n",
       "      Bokeh.embed.inject_css(\"https://cdn.pydata.org/bokeh/release/bokeh-tables-0.12.14.min.css\");\n",
       "    }\n",
       "  ];\n",
       "\n",
       "  function run_inline_js() {\n",
       "    \n",
       "    if ((root.Bokeh !== undefined) || (force === true)) {\n",
       "      for (var i = 0; i < inline_js.length; i++) {\n",
       "        inline_js[i].call(root, root.Bokeh);\n",
       "      }if (force === true) {\n",
       "        display_loaded();\n",
       "      }} else if (Date.now() < root._bokeh_timeout) {\n",
       "      setTimeout(run_inline_js, 100);\n",
       "    } else if (!root._bokeh_failed_load) {\n",
       "      console.log(\"Bokeh: BokehJS failed to load within specified timeout.\");\n",
       "      root._bokeh_failed_load = true;\n",
       "    } else if (force !== true) {\n",
       "      var cell = $(document.getElementById(\"6f495414-22a8-43f0-99b0-3fdfe02c71db\")).parents('.cell').data().cell;\n",
       "      cell.output_area.append_execute_result(NB_LOAD_WARNING)\n",
       "    }\n",
       "\n",
       "  }\n",
       "\n",
       "  if (root._bokeh_is_loading === 0) {\n",
       "    console.log(\"Bokeh: BokehJS loaded, going straight to plotting\");\n",
       "    run_inline_js();\n",
       "  } else {\n",
       "    load_libs(js_urls, function() {\n",
       "      console.log(\"Bokeh: BokehJS plotting callback run at\", now());\n",
       "      run_inline_js();\n",
       "    });\n",
       "  }\n",
       "}(window));"
      ],
      "application/vnd.bokehjs_load.v0+json": "\n(function(root) {\n  function now() {\n    return new Date();\n  }\n\n  var force = true;\n\n  if (typeof (root._bokeh_onload_callbacks) === \"undefined\" || force === true) {\n    root._bokeh_onload_callbacks = [];\n    root._bokeh_is_loading = undefined;\n  }\n\n  \n\n  \n  if (typeof (root._bokeh_timeout) === \"undefined\" || force === true) {\n    root._bokeh_timeout = Date.now() + 5000;\n    root._bokeh_failed_load = false;\n  }\n\n  var NB_LOAD_WARNING = {'data': {'text/html':\n     \"<div style='background-color: #fdd'>\\n\"+\n     \"<p>\\n\"+\n     \"BokehJS does not appear to have successfully loaded. If loading BokehJS from CDN, this \\n\"+\n     \"may be due to a slow or bad network connection. Possible fixes:\\n\"+\n     \"</p>\\n\"+\n     \"<ul>\\n\"+\n     \"<li>re-rerun `output_notebook()` to attempt to load from CDN again, or</li>\\n\"+\n     \"<li>use INLINE resources instead, as so:</li>\\n\"+\n     \"</ul>\\n\"+\n     \"<code>\\n\"+\n     \"from bokeh.resources import INLINE\\n\"+\n     \"output_notebook(resources=INLINE)\\n\"+\n     \"</code>\\n\"+\n     \"</div>\"}};\n\n  function display_loaded() {\n    var el = document.getElementById(\"6f495414-22a8-43f0-99b0-3fdfe02c71db\");\n    if (el != null) {\n      el.textContent = \"BokehJS is loading...\";\n    }\n    if (root.Bokeh !== undefined) {\n      if (el != null) {\n        el.textContent = \"BokehJS \" + root.Bokeh.version + \" successfully loaded.\";\n      }\n    } else if (Date.now() < root._bokeh_timeout) {\n      setTimeout(display_loaded, 100)\n    }\n  }\n\n\n  function run_callbacks() {\n    try {\n      root._bokeh_onload_callbacks.forEach(function(callback) { callback() });\n    }\n    finally {\n      delete root._bokeh_onload_callbacks\n    }\n    console.info(\"Bokeh: all callbacks have finished\");\n  }\n\n  function load_libs(js_urls, callback) {\n    root._bokeh_onload_callbacks.push(callback);\n    if (root._bokeh_is_loading > 0) {\n      console.log(\"Bokeh: BokehJS is being loaded, scheduling callback at\", now());\n      return null;\n    }\n    if (js_urls == null || js_urls.length === 0) {\n      run_callbacks();\n      return null;\n    }\n    console.log(\"Bokeh: BokehJS not loaded, scheduling load and callback at\", now());\n    root._bokeh_is_loading = js_urls.length;\n    for (var i = 0; i < js_urls.length; i++) {\n      var url = js_urls[i];\n      var s = document.createElement('script');\n      s.src = url;\n      s.async = false;\n      s.onreadystatechange = s.onload = function() {\n        root._bokeh_is_loading--;\n        if (root._bokeh_is_loading === 0) {\n          console.log(\"Bokeh: all BokehJS libraries loaded\");\n          run_callbacks()\n        }\n      };\n      s.onerror = function() {\n        console.warn(\"failed to load library \" + url);\n      };\n      console.log(\"Bokeh: injecting script tag for BokehJS library: \", url);\n      document.getElementsByTagName(\"head\")[0].appendChild(s);\n    }\n  };var element = document.getElementById(\"6f495414-22a8-43f0-99b0-3fdfe02c71db\");\n  if (element == null) {\n    console.log(\"Bokeh: ERROR: autoload.js configured with elementid '6f495414-22a8-43f0-99b0-3fdfe02c71db' but no matching script tag was found. \")\n    return false;\n  }\n\n  var js_urls = [\"https://cdn.pydata.org/bokeh/release/bokeh-0.12.14.min.js\", \"https://cdn.pydata.org/bokeh/release/bokeh-widgets-0.12.14.min.js\", \"https://cdn.pydata.org/bokeh/release/bokeh-tables-0.12.14.min.js\", \"https://cdn.pydata.org/bokeh/release/bokeh-gl-0.12.14.min.js\"];\n\n  var inline_js = [\n    function(Bokeh) {\n      Bokeh.set_log_level(\"info\");\n    },\n    \n    function(Bokeh) {\n      \n    },\n    function(Bokeh) {\n      console.log(\"Bokeh: injecting CSS: https://cdn.pydata.org/bokeh/release/bokeh-0.12.14.min.css\");\n      Bokeh.embed.inject_css(\"https://cdn.pydata.org/bokeh/release/bokeh-0.12.14.min.css\");\n      console.log(\"Bokeh: injecting CSS: https://cdn.pydata.org/bokeh/release/bokeh-widgets-0.12.14.min.css\");\n      Bokeh.embed.inject_css(\"https://cdn.pydata.org/bokeh/release/bokeh-widgets-0.12.14.min.css\");\n      console.log(\"Bokeh: injecting CSS: https://cdn.pydata.org/bokeh/release/bokeh-tables-0.12.14.min.css\");\n      Bokeh.embed.inject_css(\"https://cdn.pydata.org/bokeh/release/bokeh-tables-0.12.14.min.css\");\n    }\n  ];\n\n  function run_inline_js() {\n    \n    if ((root.Bokeh !== undefined) || (force === true)) {\n      for (var i = 0; i < inline_js.length; i++) {\n        inline_js[i].call(root, root.Bokeh);\n      }if (force === true) {\n        display_loaded();\n      }} else if (Date.now() < root._bokeh_timeout) {\n      setTimeout(run_inline_js, 100);\n    } else if (!root._bokeh_failed_load) {\n      console.log(\"Bokeh: BokehJS failed to load within specified timeout.\");\n      root._bokeh_failed_load = true;\n    } else if (force !== true) {\n      var cell = $(document.getElementById(\"6f495414-22a8-43f0-99b0-3fdfe02c71db\")).parents('.cell').data().cell;\n      cell.output_area.append_execute_result(NB_LOAD_WARNING)\n    }\n\n  }\n\n  if (root._bokeh_is_loading === 0) {\n    console.log(\"Bokeh: BokehJS loaded, going straight to plotting\");\n    run_inline_js();\n  } else {\n    load_libs(js_urls, function() {\n      console.log(\"Bokeh: BokehJS plotting callback run at\", now());\n      run_inline_js();\n    });\n  }\n}(window));"
     },
     "metadata": {},
     "output_type": "display_data"
    }
   ],
   "source": [
    "output_notebook()"
   ]
  },
  {
   "cell_type": "code",
   "execution_count": 8,
   "metadata": {
    "collapsed": true
   },
   "outputs": [],
   "source": [
    "def fmt_cool(ds_in):\n",
    "    ds = ds_in.copy(deep=True)\n",
    "    if 'igg' in ds.dims:\n",
    "        ds = ds.sel(igg=1)\n",
    "\n",
    "    if 'g' in ds.dims:\n",
    "        ds = ds.sum('g')\n",
    "            \n",
    "    if 'band' in ds.dims:\n",
    "        try:\n",
    "            ds = ds.squeeze('band')\n",
    "        except ValueError:\n",
    "            ds = ds.sum('band')\n",
    "                \n",
    "    return ds['coolrg']\n",
    "\n",
    "\n",
    "def pltdata_cooling_1(ds_cool=None,\n",
    "                      ds_cool_crd=None, ds_cool_wgt=None):\n",
    "    \n",
    "\n",
    "\n",
    "    colors = all_palettes['Set1'][4]\n",
    "    data = [{'label': 'CLIRAD `coolr_bands`',\n",
    "             'srs': fmt_cool(ds_cool),\n",
    "             'line_dash': 'dashed', 'line_width': 5,\n",
    "             'color': colors[0], 'alpha': .6},\n",
    "            {'label': 'CRD',\n",
    "             'srs': fmt_cool(ds_cool_crd),\n",
    "             'line_dash': 'solid', 'line_width': 1.5,\n",
    "             'marker': 'circle', 'marker_size': 5,\n",
    "             'color': colors[2], 'alpha': 1,},\n",
    "            {'label': 'WGT igg=10 wgt_flux=2',\n",
    "             'srs': fmt_cool(ds_cool_wgt),\n",
    "             'line_dash': 'solid', 'line_width': 3,\n",
    "             'marker': 'square', 'marker_size': 5,\n",
    "             'color': colors[3], 'alpha': .6}]\n",
    "    return data\n",
    "\n",
    "\n",
    "def nice_xlims(pltdata=None, prange=None):\n",
    "    \n",
    "    def get_slice(srs):\n",
    "        return srs.sel(pressure=slice(*prange))\n",
    "    \n",
    "    srss = [d['srs'] for d in pltdata]\n",
    "    vmin = min([get_slice(srs).min() for srs in srss])\n",
    "    vmax = max([get_slice(srs).max() for srs in srss])\n",
    "    dv = (vmax - vmin) * .01\n",
    "    return float(vmin - dv), float(vmax + dv)\n",
    "    \n",
    "\n",
    "def plt_cooling_bokeh(pltdata=None):\n",
    "    '''\n",
    "    Plot a list of cooling rate profiles using bokeh.\n",
    "    '''\n",
    "    ymin = 1e-2 \n",
    "    ymax = 1020 \n",
    "        \n",
    "    p1 = figure(title=\"Linear pressure scale\", \n",
    "                plot_width=400)        \n",
    "    xmin, xmax = nice_xlims(pltdata, prange=(50, 1050))\n",
    "    for d in pltdata:\n",
    "        if 'marker' in d:\n",
    "            getattr(p1, d['marker'])(d['srs'].values, \n",
    "                    d['srs'].coords['pressure'].values,\n",
    "                    color=d['color'], alpha=.7)\n",
    "        p1.line(d['srs'].values, \n",
    "                d['srs'].coords['pressure'].values,\n",
    "                color=d['color'], alpha=d['alpha'], \n",
    "                line_width=d['line_width'], line_dash=d['line_dash'])\n",
    "    \n",
    "    p1.y_range = Range1d(ymax, ymin)\n",
    "    p1.yaxis.axis_label = 'pressure [mb]'   \n",
    "    p1.x_range = Range1d(xmin, xmax)\n",
    "    p1.xaxis.axis_label = 'cooling rate [K/day]'\n",
    "            \n",
    "    p2 = figure(title='Log pressure scale', y_axis_type='log',\n",
    "                plot_width=560)\n",
    "    xmin, xmax = nice_xlims(pltdata, prange=(.01, 200))\n",
    "    \n",
    "    rs = []\n",
    "    for d in pltdata:\n",
    "        rd = []\n",
    "        if 'marker' in d:\n",
    "            r_mark = getattr(p2, d['marker'])(d['srs'].values, \n",
    "                        d['srs'].coords['pressure'].values,\n",
    "                        color=d['color'], alpha=.7)\n",
    "            rd.append(r_mark)\n",
    "        r_line = p2.line(d['srs'].values, \n",
    "                    d['srs'].coords['pressure'].values,\n",
    "                    color=d['color'], alpha=d['alpha'], \n",
    "                    line_width=d['line_width'], line_dash=d['line_dash'])\n",
    "        rd.append(r_line)\n",
    "      \n",
    "        rs.append(rd)\n",
    "        \n",
    "    p2.y_range = Range1d(ymax, ymin)  \n",
    "    p2.yaxis.axis_label = 'pressure [mb]'\n",
    "    \n",
    "    p2.x_range = Range1d(xmin, xmax)\n",
    "    p2.xaxis.axis_label = 'cooling rate [K/day]'\n",
    "    \n",
    "    items = [(d['label'], r) for r, d in zip(rs, pltdata)]\n",
    "    legend = Legend(items=items, location=(10, -30))\n",
    "    legend.label_text_font_size = '8pt'\n",
    "    \n",
    "    p2.add_layout(legend, 'right')  \n",
    "    \n",
    "    show(gridplot(p1, p2, ncols=2, plot_height=500))\n",
    "    \n",
    "\n",
    "def script_plt_cooling():\n",
    "    pltdata = pltdata_cooling_1(\n",
    "        ds_cool=DS_COOL,\n",
    "        ds_cool_crd=DS_COOL_CRD,\n",
    "        ds_cool_wgt=DS_COOL_WGT)\n",
    "    plt_cooling_bokeh(pltdata=pltdata)\n",
    "    print('''FIGURE. Cooling rate profiles.''')"
   ]
  },
  {
   "cell_type": "code",
   "execution_count": 9,
   "metadata": {
    "collapsed": true
   },
   "outputs": [],
   "source": [
    "def fmt_flux(ds_in):\n",
    "    ds = ds_in.copy(deep=True)\n",
    "    \n",
    "    for l in ('level', 'layer'):\n",
    "        if l in ds.data_vars:\n",
    "            if len(ds[l].dims) > 1:\n",
    "                surface = {d: 0 for d in ds.dims if d != 'pressure'}\n",
    "                coord_level = ds[l][surface]\n",
    "                ds.coords[l] = ('pressure', coord_level)\n",
    "            else:\n",
    "                ds.coords[l] = ('pressure', ds[l])\n",
    "        \n",
    "    ds = ds.isel(pressure=[0, 23, -1])\n",
    "        \n",
    "    if 'igg' in ds.dims:\n",
    "        ds = ds.sel(igg=[1])\n",
    "        ds = ds.squeeze('igg').drop('igg')\n",
    "    \n",
    "    if 'g' in ds.dims:\n",
    "        ds = ds.sum('g')\n",
    "            \n",
    "    if 'band' in ds.dims:\n",
    "        try:\n",
    "            ds = ds.squeeze('band').drop('band')\n",
    "        except ValueError:\n",
    "            ds = ds.sum('band')\n",
    "                \n",
    "    df = ds.to_dataframe()\n",
    "    df = df.set_index('level', append=True)               \n",
    "    return df\n",
    "\n",
    "\n",
    "def tbdata_flux(ds_flux=None, ds_flux_crd=None, ds_flux_wgt=None):\n",
    "    ilevels = [0, 23, -1]\n",
    "            \n",
    "    benchmark = {'label': 'WGT igg=10 wgt_flux=1',\n",
    "                 'df': fmt_flux(ds_flux_wgt)}\n",
    "    \n",
    "    tbs = [{'label': 'CRD',\n",
    "            'df': fmt_flux(ds_flux_crd)},\n",
    "           {'label': 'CLIRAD',\n",
    "            'df': fmt_flux(ds_flux)}]\n",
    "    \n",
    "    data = {'benchmark': benchmark, 'others': tbs}\n",
    "    return data\n",
    "\n",
    "\n",
    "def tb_flux(tbdata=None):\n",
    "    benchmark = tbdata['benchmark']\n",
    "    others = tbdata['others']\n",
    "    \n",
    "    def show_tb(d=None):\n",
    "        display.display(d['df'])\n",
    "        print('Table.', 'Fluxes.', d['label'])\n",
    "        \n",
    "    def show_tbdiff(d0=None, d=None):\n",
    "        df = d['df']\n",
    "        df.index = d0['df'].index\n",
    "        display.display(df - d0['df'])\n",
    "        print('Table.', 'Fluxes.', \n",
    "              '({}) - ({})'.format(d['label'], d0['label']))\n",
    "        \n",
    "    show_tb(benchmark)\n",
    "    for d in others:\n",
    "        show_tb(d)\n",
    "        \n",
    "    for d in others:\n",
    "        show_tbdiff(d=d, d0=benchmark)\n",
    "        \n",
    "        \n",
    "def script_tb_flux():\n",
    "    data = tbdata_flux(ds_flux=DS_FLUX,\n",
    "                       ds_flux_crd=DS_FLUX_CRD,\n",
    "                       ds_flux_wgt=DS_FLUX_WGT)\n",
    "    tb_flux(tbdata=data)"
   ]
  },
  {
   "cell_type": "code",
   "execution_count": 10,
   "metadata": {
    "collapsed": true
   },
   "outputs": [],
   "source": [
    "def band_map():\n",
    "    '''\n",
    "    Maps spectral bands in lblnew to spectral bands in clirad.\n",
    "    '''\n",
    "    lblnew2clirad = {'1': '1',\n",
    "            '2': '2',\n",
    "            '3a': '3',\n",
    "            '3b': '4',\n",
    "            '3c': '5',\n",
    "            '4': '6', \n",
    "            '5': '7',\n",
    "            '6': '8',\n",
    "            '7': '9', \n",
    "            '8': '10',\n",
    "            '9': '11'}\n",
    "    \n",
    "    clirad2lblnew = {clirad: lblnew \n",
    "                     for lblnew, clirad in lblnew2clirad.items()}\n",
    "    return clirad2lblnew\n",
    "\n",
    "\n",
    "def gasbands():\n",
    "    bmap = band_map()\n",
    "    gases = list(PARAM['molecule'].keys())\n",
    "    \n",
    "    bands = [bmap[str(b)] for b in PARAM['band']]\n",
    "    return list(itertools.product(gases, bands))\n",
    "\n",
    "\n",
    "def print_bestfit_params():\n",
    "    print('Best-fit values for each (gas, band)')\n",
    "    print('------------------------------------')\n",
    "    for gas, band in gasbands():\n",
    "        print('o {} band{}'.format(gas, band))\n",
    "        param = bestfits.kdist_params(molecule=gas, band=band)\n",
    "        for name, value in sorted(param.items()):\n",
    "            print(2 * ' ' + '{} = {}'.format(name, value))\n",
    "\n",
    "        \n",
    "def print_input_param():        \n",
    "    for name, value in PARAM.items():\n",
    "        print('{} = {}'.format(name, value))\n",
    "        \n",
    "        \n",
    "def print_lblnew_param():\n",
    "    for name, value in sorted(PARAM_LBLNEW.items()):\n",
    "        print('{} = {}'.format(name, value))\n"
   ]
  },
  {
   "cell_type": "code",
   "execution_count": 11,
   "metadata": {
    "collapsed": true,
    "scrolled": false
   },
   "outputs": [],
   "source": [
    "def show_html(s):\n",
    "    display.display(display.HTML(s))\n",
    "\n",
    "    \n",
    "def show_markdown(s):\n",
    "    display.display(display.Markdown(s))\n",
    "\n",
    "    \n",
    "def script():\n",
    "    \n",
    "    title = '### CLIRAD-LW'\n",
    "    s_input = 'Input Parameters'\n",
    "    s_lblnew_param = 'LBLNEW case compaired against'\n",
    "    s_bestfits = 'Best-fit Parameters'\n",
    "    s_plt_cooling = 'Cooling Rate Profiles'\n",
    "    s_tb_flux = 'Flux Comparison'\n",
    "    \n",
    "    # title\n",
    "    show_markdown('### CLIRAD-LW')\n",
    "    \n",
    "    # TOC\n",
    "    show_markdown('### Table of Contents')\n",
    "    show_html(climahtml.getHTML_hrefanchor(s_input))\n",
    "    show_html(climahtml.getHTML_hrefanchor(s_lblnew_param))\n",
    "    show_html(climahtml.getHTML_hrefanchor(s_plt_cooling))\n",
    "    show_html(climahtml.getHTML_hrefanchor(s_tb_flux))\n",
    "    show_html(climahtml.getHTML_hrefanchor(s_bestfits))\n",
    "    \n",
    "    # Input parameters\n",
    "    show_html(climahtml.getHTML_idanchor(s_input))\n",
    "    show_markdown(climahtml.getMarkdown_sectitle(s_input))\n",
    "    print_input_param()\n",
    "    \n",
    "    # LBLNEW parameters \n",
    "    show_html(climahtml.getHTML_idanchor(s_lblnew_param))\n",
    "    show_markdown(climahtml.getMarkdown_sectitle(s_lblnew_param))\n",
    "    print_lblnew_param()\n",
    "    \n",
    "    # Cooling rate profiles\n",
    "    show_html(climahtml.getHTML_idanchor(s_plt_cooling))\n",
    "    show_markdown(climahtml.getMarkdown_sectitle(s_plt_cooling))\n",
    "    script_plt_cooling()\n",
    "    \n",
    "    # Flux comparison\n",
    "    show_html(climahtml.getHTML_idanchor(s_tb_flux))\n",
    "    show_markdown(climahtml.getMarkdown_sectitle(s_tb_flux))\n",
    "    script_tb_flux()\n",
    "    \n",
    "    # Best-fit values\n",
    "    show_html(climahtml.getHTML_idanchor(s_bestfits))\n",
    "    show_markdown(climahtml.getMarkdown_sectitle(s_bestfits))\n",
    "    print_bestfit_params()\n",
    "   \n",
    "    "
   ]
  },
  {
   "cell_type": "code",
   "execution_count": 12,
   "metadata": {
    "collapsed": true,
    "scrolled": false
   },
   "outputs": [
    {
     "data": {
      "text/markdown": [
       "### CLIRAD-LW"
      ],
      "text/plain": [
       "<IPython.core.display.Markdown object>"
      ]
     },
     "metadata": {},
     "output_type": "display_data"
    },
    {
     "data": {
      "text/markdown": [
       "### Table of Contents"
      ],
      "text/plain": [
       "<IPython.core.display.Markdown object>"
      ]
     },
     "metadata": {},
     "output_type": "display_data"
    },
    {
     "data": {
      "text/html": [
       "<a href=\"#Input_Parameters\">Input Parameters</a>"
      ],
      "text/plain": [
       "<IPython.core.display.HTML object>"
      ]
     },
     "metadata": {},
     "output_type": "display_data"
    },
    {
     "data": {
      "text/html": [
       "<a href=\"#LBLNEW_case_compaired_against\">LBLNEW case compaired against</a>"
      ],
      "text/plain": [
       "<IPython.core.display.HTML object>"
      ]
     },
     "metadata": {},
     "output_type": "display_data"
    },
    {
     "data": {
      "text/html": [
       "<a href=\"#Cooling_Rate_Profiles\">Cooling Rate Profiles</a>"
      ],
      "text/plain": [
       "<IPython.core.display.HTML object>"
      ]
     },
     "metadata": {},
     "output_type": "display_data"
    },
    {
     "data": {
      "text/html": [
       "<a href=\"#Flux_Comparison\">Flux Comparison</a>"
      ],
      "text/plain": [
       "<IPython.core.display.HTML object>"
      ]
     },
     "metadata": {},
     "output_type": "display_data"
    },
    {
     "data": {
      "text/html": [
       "<a href=\"#Best-fit_Parameters\">Best-fit Parameters</a>"
      ],
      "text/plain": [
       "<IPython.core.display.HTML object>"
      ]
     },
     "metadata": {},
     "output_type": "display_data"
    },
    {
     "data": {
      "text/html": [
       "<a id=\"Input_Parameters\"></a>"
      ],
      "text/plain": [
       "<IPython.core.display.HTML object>"
      ]
     },
     "metadata": {},
     "output_type": "display_data"
    },
    {
     "data": {
      "text/markdown": [
       "# Input Parameters"
      ],
      "text/plain": [
       "<IPython.core.display.Markdown object>"
      ]
     },
     "metadata": {},
     "output_type": "display_data"
    },
    {
     "name": "stdout",
     "output_type": "stream",
     "text": [
      "atmpro = mls\n",
      "band = [3]\n",
      "commitnumber = 7fe1447\n",
      "molecule = {'co2': 0.0004}\n",
      "tsfc = 294\n"
     ]
    },
    {
     "data": {
      "text/html": [
       "<a id=\"LBLNEW_case_compaired_against\"></a>"
      ],
      "text/plain": [
       "<IPython.core.display.HTML object>"
      ]
     },
     "metadata": {},
     "output_type": "display_data"
    },
    {
     "data": {
      "text/markdown": [
       "# LBLNEW case compaired against"
      ],
      "text/plain": [
       "<IPython.core.display.Markdown object>"
      ]
     },
     "metadata": {},
     "output_type": "display_data"
    },
    {
     "name": "stdout",
     "output_type": "stream",
     "text": [
      "atmpro = mls\n",
      "band = 3a\n",
      "commitnumber = a06b618\n",
      "conc = 0.0004\n",
      "dv = 0.001\n",
      "klin = 6.375563e-24\n",
      "molecule = co2\n",
      "ng_adju = [0, 0, 0]\n",
      "ng_refs = [3, 2, 4]\n",
      "nv = 1000\n",
      "option_compute_btable = 0\n",
      "option_compute_ktable = 0\n",
      "option_wgt_flux = 1\n",
      "option_wgt_k = 1\n",
      "ref_pts = [(1, 250), (10, 250), (500, 250)]\n",
      "tsfc = 294\n",
      "vmax = 620\n",
      "vmin = 540\n",
      "w_diffuse = [(1.6, 1.6, 1.7), (1.75, 1.75), (1.55, 1.55, 1.6, 1.85)]\n",
      "wgt = [(0.7, 0.3, 0.7), (0.7, 0.6), (0.4, 0.5, 0.8, 0.95)]\n"
     ]
    },
    {
     "data": {
      "text/html": [
       "<a id=\"Cooling_Rate_Profiles\"></a>"
      ],
      "text/plain": [
       "<IPython.core.display.HTML object>"
      ]
     },
     "metadata": {},
     "output_type": "display_data"
    },
    {
     "data": {
      "text/markdown": [
       "# Cooling Rate Profiles"
      ],
      "text/plain": [
       "<IPython.core.display.Markdown object>"
      ]
     },
     "metadata": {},
     "output_type": "display_data"
    },
    {
     "data": {
      "text/html": [
       "\n",
       "<div class=\"bk-root\">\n",
       "    <div class=\"bk-plotdiv\" id=\"b58a1166-920e-4507-82ad-61151d963124\"></div>\n",
       "</div>"
      ]
     },
     "metadata": {},
     "output_type": "display_data"
    },
    {
     "data": {
      "application/javascript": [
       "(function(root) {\n",
       "  function embed_document(root) {\n",
       "    \n",
       "  var docs_json = {\"03f09848-2145-4001-a8d3-629867f7a45f\":{\"roots\":{\"references\":[{\"attributes\":{\"ticker\":null},\"id\":\"96637dc9-42d3-47f3-887d-c677485fbdd7\",\"type\":\"LogTickFormatter\"},{\"attributes\":{\"source\":{\"id\":\"b3479355-2fe2-4019-8c8f-8f9eab6949ad\",\"type\":\"ColumnDataSource\"}},\"id\":\"28fca2f9-31e5-45b0-8406-92ec52ef62d9\",\"type\":\"CDSView\"},{\"attributes\":{},\"id\":\"db1778d9-c0a9-46a1-afe0-6490771053d4\",\"type\":\"WheelZoomTool\"},{\"attributes\":{\"bottom_units\":\"screen\",\"fill_alpha\":{\"value\":0.5},\"fill_color\":{\"value\":\"lightgrey\"},\"left_units\":\"screen\",\"level\":\"overlay\",\"line_alpha\":{\"value\":1.0},\"line_color\":{\"value\":\"black\"},\"line_dash\":[4,4],\"line_width\":{\"value\":2},\"plot\":null,\"render_mode\":\"css\",\"right_units\":\"screen\",\"top_units\":\"screen\"},\"id\":\"bbe62d58-9629-4262-86ee-6e4443c57542\",\"type\":\"BoxAnnotation\"},{\"attributes\":{\"num_minor_ticks\":10},\"id\":\"042d6bf0-a2f7-4c84-bfab-aa78c518ebad\",\"type\":\"LogTicker\"},{\"attributes\":{\"plot\":{\"id\":\"92581f8d-c949-4403-b847-3fadcb94a409\",\"subtype\":\"Figure\",\"type\":\"Plot\"},\"ticker\":{\"id\":\"51eec64f-9b21-4bd2-b4ec-30dd2c84d370\",\"type\":\"BasicTicker\"}},\"id\":\"bf3c859c-7250-46b7-8efd-98e07df04a1f\",\"type\":\"Grid\"},{\"attributes\":{},\"id\":\"1065dd44-9a8c-47b8-a722-12ca8369c541\",\"type\":\"BasicTickFormatter\"},{\"attributes\":{\"line_color\":\"#4daf4a\",\"line_width\":1.5,\"x\":{\"field\":\"x\"},\"y\":{\"field\":\"y\"}},\"id\":\"fec5ad8e-91ab-42b9-bc71-5c52dbff58e6\",\"type\":\"Line\"},{\"attributes\":{\"axis_label\":\"pressure [mb]\",\"formatter\":{\"id\":\"96637dc9-42d3-47f3-887d-c677485fbdd7\",\"type\":\"LogTickFormatter\"},\"plot\":{\"id\":\"62c8b7f0-a1a4-4217-8cca-ca6a1f93aa0c\",\"subtype\":\"Figure\",\"type\":\"Plot\"},\"ticker\":{\"id\":\"042d6bf0-a2f7-4c84-bfab-aa78c518ebad\",\"type\":\"LogTicker\"}},\"id\":\"c31ec4d4-2b8b-428e-ac94-89c6bf1672ef\",\"type\":\"LogAxis\"},{\"attributes\":{},\"id\":\"1a8ca2b9-29a1-47e2-83c1-fdc3e7ef15a7\",\"type\":\"PanTool\"},{\"attributes\":{},\"id\":\"727f0060-dc78-47d9-8c51-36bc7a1c83da\",\"type\":\"HelpTool\"},{\"attributes\":{},\"id\":\"51eec64f-9b21-4bd2-b4ec-30dd2c84d370\",\"type\":\"BasicTicker\"},{\"attributes\":{},\"id\":\"468f1b20-8620-46fb-8464-7abcd14867ef\",\"type\":\"LinearScale\"},{\"attributes\":{\"fill_alpha\":{\"value\":0.1},\"fill_color\":{\"value\":\"#1f77b4\"},\"line_alpha\":{\"value\":0.1},\"line_color\":{\"value\":\"#1f77b4\"},\"x\":{\"field\":\"x\"},\"y\":{\"field\":\"y\"}},\"id\":\"4ee9ec6d-cd89-45ee-ba8a-f7cc39452116\",\"type\":\"Circle\"},{\"attributes\":{\"source\":{\"id\":\"79a52950-6d47-45e9-a31e-0176d982dc54\",\"type\":\"ColumnDataSource\"}},\"id\":\"db245fe7-4bde-48df-8516-16ca933e2cac\",\"type\":\"CDSView\"},{\"attributes\":{\"plot\":null,\"text\":\"Linear pressure scale\"},\"id\":\"f8be4063-a55c-4a6d-a500-1a97f0ba7172\",\"type\":\"Title\"},{\"attributes\":{\"line_alpha\":0.1,\"line_color\":\"#1f77b4\",\"line_width\":1.5,\"x\":{\"field\":\"x\"},\"y\":{\"field\":\"y\"}},\"id\":\"15117e27-902f-466c-853e-cc9d1ad2d22a\",\"type\":\"Line\"},{\"attributes\":{\"axis_label\":\"pressure [mb]\",\"formatter\":{\"id\":\"918baffe-0edb-49c7-acd0-3c894400711c\",\"type\":\"BasicTickFormatter\"},\"plot\":{\"id\":\"92581f8d-c949-4403-b847-3fadcb94a409\",\"subtype\":\"Figure\",\"type\":\"Plot\"},\"ticker\":{\"id\":\"d24bc58e-7e1c-466d-9416-9a801052ed40\",\"type\":\"BasicTicker\"}},\"id\":\"26e56bd3-c830-457c-9f2b-81db5a5a419d\",\"type\":\"LinearAxis\"},{\"attributes\":{},\"id\":\"d89f0f3b-cb74-4579-8bc9-f16d5e75c627\",\"type\":\"ResetTool\"},{\"attributes\":{\"callback\":null,\"column_names\":[\"x\",\"y\"],\"data\":{\"x\":{\"__ndarray__\":\"/E2sfGTt2D/g5+iG4NfYP9nL+O+ojtk/07Brvdc32j+xPhaJpr/aP3qyk6i0Eds/gWzlZxsm2z+x5vhP1OXaP366iXM3PNo/kg2cGgUU2T9NWE2daFPXPx3s6uEN4dQ/OPVg1rSg0T/Mypto/OfKP5gfTS8QiMQ/3ZTyWgndxj8s1UfYnvbOP5GgthUUqdI/emwuq2491T+VBmW3IjPYP+CiUYkEttw/sKXLi+Fk4j8xMtg/FRjnP0ghfx/EJOY/SRQ5yBQh4T9PjxJg/YTaP/fWl9fX29Q/ByrC0X550D+Fs/igqU/KP5SQ3T/1E8U/dkKeEzFbwD/uC9tbORe4P8qro0XeO7I/3lAFlx+crT+f+BOQVLGmPxYHu1SxoJ4/1TDPjHbDlT+rFo+NazyRPw6huI5y6oA/DDNLOn4zV7+h2vzbyr46P6eaub0tI4w/SXHNnn1Fmj/pyLDbfjGiP3qQ2M0Qt6Y/bn+o4GLYqj8msTSIwKWuPx8xIbZZFLE/TBWC2Hazsj9x9Fnn3S20P9PixgzYfrU/fsxx6Nmetj901twOY4u3PxLNSCxFTLg/y6P6UmjuuD+9hEK4jXy5P8lUZu8x/bk/iymBYp50uj8SolszIua6Pz4c6phvVLs/qRnvGjbCuz9zVpeVHjS8Pw8j53HWr7w/k3y69A47vT823bq0RNu9PzmpedhVkr4/CpwRSgRPvz9t1LeKzeC/PxeKbM5eCcA/sSUWvt/kvz8hqAEgepS/Pz/Ytf/5ZL8/hix/fBGGvz9L1U2UShnAP2W04fJQQsE/\",\"dtype\":\"float64\",\"shape\":[75]},\"y\":{\"__ndarray__\":\"GhExyth1ND/Sv8nbtpRIP2vylNV0PVE/aTum7souWD/At0SJ8fVgPw3Iuahxymc/MSNhhJWvcD/bTfBN02d3P2zb5nxnaoA/CD5h5MAGhz8NmeH1TyaQP+zrCsc9p5Y/LbKd76fGnz/bLW5ISEmmPww9YvTcQq8/JV2OstnstT8Er5Y7M8G+P0c+r3jqkcU/5h99k6ZBzj88bCIzFzjVP4enV8oyxN0//yH99nXg5D8qOpLLf0jtP5kqGJXUifQ/c9cS8kHP/D+/DpwzojQEQIEmwoanVwxA4lgXt9HgE0BSSZ2AJuIbQAMJih9jjiNA5q4l5INuK0AwTKYKRj0zQNv5fmq8/DpAaCJseHrtQkB/+zpwzoxKQM3MzMzMeFJAZmZmZmZqWEAAAAAAAFxeQM3MzMzMJmJAmpmZmZkfZUBmZmZmZhhoQDMzMzMzEWtAAAAAAAAKbkBmZmZmZoFwQM3MzMzM/XFAMzMzMzN6c0CamZmZmfZ0QAAAAAAAc3ZAZmZmZmbvd0DNzMzMzGt5QDMzMzMz6HpAmpmZmZlkfEAAAAAAAOF9QGZmZmZmXX9AZmZmZuZsgECamZmZGSuBQM3MzMxM6YFAAAAAAICngkAzMzMzs2WDQGZmZmbmI4RAmpmZmRnihEDNzMzMTKCFQAAAAACAXoZAMzMzM7Mch0BmZmZm5tqHQJqZmZkZmYhAzczMzExXiUAAAAAAgBWKQDMzMzOz04pAZmZmZuaRi0CamZmZGVCMQM3MzMxMDo1AAAAAAIDMjUAzMzMzs4qOQGZmZmbmSI9A\",\"dtype\":\"float64\",\"shape\":[75]}}},\"id\":\"f457e3e3-b577-4ac1-b8b3-ba1bffe44a28\",\"type\":\"ColumnDataSource\"},{\"attributes\":{\"overlay\":{\"id\":\"bbe62d58-9629-4262-86ee-6e4443c57542\",\"type\":\"BoxAnnotation\"}},\"id\":\"50cd5e93-eae9-40cd-a759-6ce75d3549fb\",\"type\":\"BoxZoomTool\"},{\"attributes\":{\"fill_alpha\":{\"value\":0.7},\"fill_color\":{\"value\":\"#4daf4a\"},\"line_alpha\":{\"value\":0.7},\"line_color\":{\"value\":\"#4daf4a\"},\"x\":{\"field\":\"x\"},\"y\":{\"field\":\"y\"}},\"id\":\"e4fd0dfc-39b6-4d94-8258-8f37a2740acf\",\"type\":\"Circle\"},{\"attributes\":{\"data_source\":{\"id\":\"79a52950-6d47-45e9-a31e-0176d982dc54\",\"type\":\"ColumnDataSource\"},\"glyph\":{\"id\":\"e4fd0dfc-39b6-4d94-8258-8f37a2740acf\",\"type\":\"Circle\"},\"hover_glyph\":null,\"muted_glyph\":null,\"nonselection_glyph\":{\"id\":\"4ee9ec6d-cd89-45ee-ba8a-f7cc39452116\",\"type\":\"Circle\"},\"selection_glyph\":null,\"view\":{\"id\":\"db245fe7-4bde-48df-8516-16ca933e2cac\",\"type\":\"CDSView\"}},\"id\":\"3070f2f2-57f4-44c0-950d-c916048771c9\",\"type\":\"GlyphRenderer\"},{\"attributes\":{\"active_drag\":\"auto\",\"active_inspect\":\"auto\",\"active_scroll\":\"auto\",\"active_tap\":\"auto\",\"tools\":[{\"id\":\"1a8ca2b9-29a1-47e2-83c1-fdc3e7ef15a7\",\"type\":\"PanTool\"},{\"id\":\"db1778d9-c0a9-46a1-afe0-6490771053d4\",\"type\":\"WheelZoomTool\"},{\"id\":\"50cd5e93-eae9-40cd-a759-6ce75d3549fb\",\"type\":\"BoxZoomTool\"},{\"id\":\"b7f21f58-866d-4bf3-9c1b-1b41d3162ccf\",\"type\":\"SaveTool\"},{\"id\":\"d89f0f3b-cb74-4579-8bc9-f16d5e75c627\",\"type\":\"ResetTool\"},{\"id\":\"727f0060-dc78-47d9-8c51-36bc7a1c83da\",\"type\":\"HelpTool\"}]},\"id\":\"a217375d-0e51-44f9-a3bf-f3e47a626711\",\"type\":\"Toolbar\"},{\"attributes\":{\"axis_label\":\"cooling rate [K/day]\",\"formatter\":{\"id\":\"5d815291-3ecd-4009-b70c-694da9e33741\",\"type\":\"BasicTickFormatter\"},\"plot\":{\"id\":\"92581f8d-c949-4403-b847-3fadcb94a409\",\"subtype\":\"Figure\",\"type\":\"Plot\"},\"ticker\":{\"id\":\"51eec64f-9b21-4bd2-b4ec-30dd2c84d370\",\"type\":\"BasicTicker\"}},\"id\":\"4c89c4a6-982a-497e-8b30-a44f90a6435e\",\"type\":\"LinearAxis\"},{\"attributes\":{\"data_source\":{\"id\":\"f457e3e3-b577-4ac1-b8b3-ba1bffe44a28\",\"type\":\"ColumnDataSource\"},\"glyph\":{\"id\":\"fec5ad8e-91ab-42b9-bc71-5c52dbff58e6\",\"type\":\"Line\"},\"hover_glyph\":null,\"muted_glyph\":null,\"nonselection_glyph\":{\"id\":\"15117e27-902f-466c-853e-cc9d1ad2d22a\",\"type\":\"Line\"},\"selection_glyph\":null,\"view\":{\"id\":\"eb18d343-7e56-4128-ad80-7d56f7d2b259\",\"type\":\"CDSView\"}},\"id\":\"a397b29c-833d-4e89-a345-dd466bf6bfcb\",\"type\":\"GlyphRenderer\"},{\"attributes\":{},\"id\":\"5c202514-2f42-4ca8-9b97-0db1cbab6e12\",\"type\":\"LinearScale\"},{\"attributes\":{},\"id\":\"b7f21f58-866d-4bf3-9c1b-1b41d3162ccf\",\"type\":\"SaveTool\"},{\"attributes\":{\"dimension\":1,\"plot\":{\"id\":\"92581f8d-c949-4403-b847-3fadcb94a409\",\"subtype\":\"Figure\",\"type\":\"Plot\"},\"ticker\":{\"id\":\"d24bc58e-7e1c-466d-9416-9a801052ed40\",\"type\":\"BasicTicker\"}},\"id\":\"e30f52ae-745f-47f5-987d-54990c695416\",\"type\":\"Grid\"},{\"attributes\":{\"callback\":null,\"end\":0.01,\"start\":1020},\"id\":\"19eba59d-528f-4d66-a4ed-3741fb9d3737\",\"type\":\"Range1d\"},{\"attributes\":{\"below\":[{\"id\":\"4c89c4a6-982a-497e-8b30-a44f90a6435e\",\"type\":\"LinearAxis\"}],\"left\":[{\"id\":\"26e56bd3-c830-457c-9f2b-81db5a5a419d\",\"type\":\"LinearAxis\"}],\"plot_height\":500,\"plot_width\":400,\"renderers\":[{\"id\":\"4c89c4a6-982a-497e-8b30-a44f90a6435e\",\"type\":\"LinearAxis\"},{\"id\":\"bf3c859c-7250-46b7-8efd-98e07df04a1f\",\"type\":\"Grid\"},{\"id\":\"26e56bd3-c830-457c-9f2b-81db5a5a419d\",\"type\":\"LinearAxis\"},{\"id\":\"e30f52ae-745f-47f5-987d-54990c695416\",\"type\":\"Grid\"},{\"id\":\"bbe62d58-9629-4262-86ee-6e4443c57542\",\"type\":\"BoxAnnotation\"},{\"id\":\"7eab80f2-b5a9-435a-8a19-d10d5140a92a\",\"type\":\"GlyphRenderer\"},{\"id\":\"3070f2f2-57f4-44c0-950d-c916048771c9\",\"type\":\"GlyphRenderer\"},{\"id\":\"a397b29c-833d-4e89-a345-dd466bf6bfcb\",\"type\":\"GlyphRenderer\"},{\"id\":\"fdd5e53a-454b-4337-90c5-e6b587048f63\",\"type\":\"GlyphRenderer\"},{\"id\":\"6daca1d6-2878-427b-b4ac-33c922fe770e\",\"type\":\"GlyphRenderer\"}],\"title\":{\"id\":\"f8be4063-a55c-4a6d-a500-1a97f0ba7172\",\"type\":\"Title\"},\"toolbar\":{\"id\":\"a217375d-0e51-44f9-a3bf-f3e47a626711\",\"type\":\"Toolbar\"},\"toolbar_location\":null,\"x_range\":{\"id\":\"de284ee2-4e0b-419c-817d-cd36c56540b8\",\"type\":\"Range1d\"},\"x_scale\":{\"id\":\"468f1b20-8620-46fb-8464-7abcd14867ef\",\"type\":\"LinearScale\"},\"y_range\":{\"id\":\"19eba59d-528f-4d66-a4ed-3741fb9d3737\",\"type\":\"Range1d\"},\"y_scale\":{\"id\":\"5c202514-2f42-4ca8-9b97-0db1cbab6e12\",\"type\":\"LinearScale\"}},\"id\":\"92581f8d-c949-4403-b847-3fadcb94a409\",\"subtype\":\"Figure\",\"type\":\"Plot\"},{\"attributes\":{},\"id\":\"d24bc58e-7e1c-466d-9416-9a801052ed40\",\"type\":\"BasicTicker\"},{\"attributes\":{\"data_source\":{\"id\":\"6750a31d-61ea-4bdb-85ad-7afc263510b7\",\"type\":\"ColumnDataSource\"},\"glyph\":{\"id\":\"957c0f43-76ec-4722-b41a-38261695513a\",\"type\":\"Square\"},\"hover_glyph\":null,\"muted_glyph\":null,\"nonselection_glyph\":{\"id\":\"08f63d24-7bcc-4989-91fd-ef4f89229293\",\"type\":\"Square\"},\"selection_glyph\":null,\"view\":{\"id\":\"8c1ce1fe-5c01-487c-9193-3ae4de8f09bf\",\"type\":\"CDSView\"}},\"id\":\"fdd5e53a-454b-4337-90c5-e6b587048f63\",\"type\":\"GlyphRenderer\"},{\"attributes\":{\"callback\":null,\"column_names\":[\"x\",\"y\"],\"data\":{\"x\":{\"__ndarray__\":\"zIc1z/Dqzj9kf/LaGWTPP9GsrjvEXNA/d1KZQQAZ0T8yrlUOb87RPysfm0dyd9I/icOIM3UN0z89AHcTW4XTPyM15fFR0tM/q7dAYdTe0z9tYtT3EpHTPxEQetOAw9I/uxBIFQdI0T95Kvk7iNvNP20bqWurYco/XLYQw5KbzT8qMbatuWXSPyRVBM0hSNQ/KjLfZpZp1D9u57Ec17XUP/BPZ/aS6dc/hf9bZmQy4D/7j46jIFXlP7TOU3grJuU/GQrQnf3U4D/ZkyMR2GTaP4ilea6MmdU/cTFQY4wZ0j8ik2MdVIPOPwYJWS/pnMg/qe0uae+Awj9KVhg3Qnq5PwPAUD4/t7E/ffUeUv9lrD97uUUcj3KoP0gOmXGhkqM/H0ZKqwjUnj+dfkHs+1mYP27NMph6bok/C+3fMj9zND8z3wSnoKtPP2XHzxG8y4w/bDzTqf1mmj+6BFmvH+uhP2yMxm9E1qU/exxPyQ4xqT+E47XvqjesP9MHDD4/H68/RQHBbYT9sD94Q++U22SyP3ndBNp7w7M/Rrz2fgMQtT8nSYu+eEK2PwPZNLTWV7c/mefzF5tSuD8AzaG+xUC5PwXAmRT2H7o/nRSkIfzuuj+3d9NOSa27P05+i06WWrw/Y/00KHn5vD+qpIjrnI+9P0SVzHcRIr4//B0n2MG5vj+zK+sGI1m/P20tQJlOBMA/6dfWT/9ZwD8IdbJQQpvAP4q+zMF9rsA/KJbfkrGUwD+pz/7VHWrAPyGjTR/LTMA/dTvavJpRwD87195EgJXAP6M/NPPkmsE/\",\"dtype\":\"float64\",\"shape\":[75]},\"y\":{\"__ndarray__\":\"S/O/Q+51ND/Sv8nbtpRIP2vylNV0PVE/aTum7souWD/At0SJ8fVgPw3Iuahxymc/MSNhhJWvcD/bTfBN02d3P2zb5nxnaoA/CD5h5MAGhz8NmeH1TyaQP+zrCsc9p5Y/LbKd76fGnz/bLW5ISEmmPww9YvTcQq8/JV2OstnstT8Er5Y7M8G+P0c+r3jqkcU/5h99k6ZBzj88bCIzFzjVP4enV8oyxN0//yH99nXg5D8qOpLLf0jtP5kqGJXUifQ/c9cS8kHP/D+/DpwzojQEQIEmwoanVwxA4lgXt9HgE0BSSZ2AJuIbQAMJih9jjiNA5q4l5INuK0AwTKYKRj0zQNv5fmq8/DpAaCJseHrtQkB/+zpwzoxKQM3MzMzMeFJAZmZmZmZqWEAAAAAAAFxeQM3MzMzMJmJAmpmZmZkfZUBmZmZmZhhoQDMzMzMzEWtAAAAAAAAKbkBmZmZmZoFwQM3MzMzM/XFAMzMzMzN6c0CamZmZmfZ0QAAAAAAAc3ZAZmZmZmbvd0DNzMzMzGt5QDMzMzMz6HpAmpmZmZlkfEAAAAAAAOF9QGZmZmZmXX9AZmZmZuZsgECamZmZGSuBQM3MzMxM6YFAAAAAAICngkAzMzMzs2WDQGZmZmbmI4RAmpmZmRnihEDNzMzMTKCFQAAAAACAXoZAMzMzM7Mch0BmZmZm5tqHQJqZmZkZmYhAzczMzExXiUAAAAAAgBWKQDMzMzOz04pAZmZmZuaRi0CamZmZGVCMQM3MzMxMDo1AAAAAAIDMjUAzMzMzs4qOQGZmZmbmSI9A\",\"dtype\":\"float64\",\"shape\":[75]}}},\"id\":\"b3479355-2fe2-4019-8c8f-8f9eab6949ad\",\"type\":\"ColumnDataSource\"},{\"attributes\":{\"data_source\":{\"id\":\"b5b1aa2e-f7b2-4bab-b472-f8a7b015f321\",\"type\":\"ColumnDataSource\"},\"glyph\":{\"id\":\"1139d0dc-bf9c-489d-95ae-8df4e2acaebe\",\"type\":\"Line\"},\"hover_glyph\":null,\"muted_glyph\":null,\"nonselection_glyph\":{\"id\":\"7db1f53d-d05f-45b3-9ab4-27600cd3540e\",\"type\":\"Line\"},\"selection_glyph\":null,\"view\":{\"id\":\"2d4a553d-5c59-44fd-ae1e-79a0292a9cbe\",\"type\":\"CDSView\"}},\"id\":\"86912b96-81de-42b0-95ae-6b344f64ec0a\",\"type\":\"GlyphRenderer\"},{\"attributes\":{},\"id\":\"5d815291-3ecd-4009-b70c-694da9e33741\",\"type\":\"BasicTickFormatter\"},{\"attributes\":{\"line_alpha\":0.1,\"line_color\":\"#1f77b4\",\"line_dash\":[6],\"line_width\":5,\"x\":{\"field\":\"x\"},\"y\":{\"field\":\"y\"}},\"id\":\"7db1f53d-d05f-45b3-9ab4-27600cd3540e\",\"type\":\"Line\"},{\"attributes\":{\"children\":[{\"id\":\"cb54e15c-72aa-40c3-883d-2608881ed4c9\",\"type\":\"Row\"}]},\"id\":\"95a7814d-2b29-4e73-9ca0-53b7bc071a73\",\"type\":\"Column\"},{\"attributes\":{\"data_source\":{\"id\":\"f243f9fe-d0b5-40a2-b4e4-53a886119fdf\",\"type\":\"ColumnDataSource\"},\"glyph\":{\"id\":\"a7d102ba-112b-4e3e-a7b6-3416e86f5124\",\"type\":\"Line\"},\"hover_glyph\":null,\"muted_glyph\":null,\"nonselection_glyph\":{\"id\":\"3793e38c-e9bd-47c7-8521-2250e6c97ee8\",\"type\":\"Line\"},\"selection_glyph\":null,\"view\":{\"id\":\"0f69608d-09ea-49a1-8dc1-59e258962eb0\",\"type\":\"CDSView\"}},\"id\":\"6daca1d6-2878-427b-b4ac-33c922fe770e\",\"type\":\"GlyphRenderer\"},{\"attributes\":{\"source\":{\"id\":\"b5b1aa2e-f7b2-4bab-b472-f8a7b015f321\",\"type\":\"ColumnDataSource\"}},\"id\":\"2d4a553d-5c59-44fd-ae1e-79a0292a9cbe\",\"type\":\"CDSView\"},{\"attributes\":{\"line_alpha\":0.1,\"line_color\":\"#1f77b4\",\"line_dash\":[6],\"line_width\":5,\"x\":{\"field\":\"x\"},\"y\":{\"field\":\"y\"}},\"id\":\"20634057-003e-48b3-9d1f-48a258177420\",\"type\":\"Line\"},{\"attributes\":{\"fill_alpha\":{\"value\":0.7},\"fill_color\":{\"value\":\"#4daf4a\"},\"line_alpha\":{\"value\":0.7},\"line_color\":{\"value\":\"#4daf4a\"},\"x\":{\"field\":\"x\"},\"y\":{\"field\":\"y\"}},\"id\":\"97f2ee0f-569a-455f-8a36-856aaf1b030d\",\"type\":\"Circle\"},{\"attributes\":{\"callback\":null,\"column_names\":[\"x\",\"y\"],\"data\":{\"x\":{\"__ndarray__\":\"/E2sfGTt2D/g5+iG4NfYP9nL+O+ojtk/07Brvdc32j+xPhaJpr/aP3qyk6i0Eds/gWzlZxsm2z+x5vhP1OXaP366iXM3PNo/kg2cGgUU2T9NWE2daFPXPx3s6uEN4dQ/OPVg1rSg0T/Mypto/OfKP5gfTS8QiMQ/3ZTyWgndxj8s1UfYnvbOP5GgthUUqdI/emwuq2491T+VBmW3IjPYP+CiUYkEttw/sKXLi+Fk4j8xMtg/FRjnP0ghfx/EJOY/SRQ5yBQh4T9PjxJg/YTaP/fWl9fX29Q/ByrC0X550D+Fs/igqU/KP5SQ3T/1E8U/dkKeEzFbwD/uC9tbORe4P8qro0XeO7I/3lAFlx+crT+f+BOQVLGmPxYHu1SxoJ4/1TDPjHbDlT+rFo+NazyRPw6huI5y6oA/DDNLOn4zV7+h2vzbyr46P6eaub0tI4w/SXHNnn1Fmj/pyLDbfjGiP3qQ2M0Qt6Y/bn+o4GLYqj8msTSIwKWuPx8xIbZZFLE/TBWC2Hazsj9x9Fnn3S20P9PixgzYfrU/fsxx6Nmetj901twOY4u3PxLNSCxFTLg/y6P6UmjuuD+9hEK4jXy5P8lUZu8x/bk/iymBYp50uj8SolszIua6Pz4c6phvVLs/qRnvGjbCuz9zVpeVHjS8Pw8j53HWr7w/k3y69A47vT823bq0RNu9PzmpedhVkr4/CpwRSgRPvz9t1LeKzeC/PxeKbM5eCcA/sSUWvt/kvz8hqAEgepS/Pz/Ytf/5ZL8/hix/fBGGvz9L1U2UShnAP2W04fJQQsE/\",\"dtype\":\"float64\",\"shape\":[75]},\"y\":{\"__ndarray__\":\"GhExyth1ND/Sv8nbtpRIP2vylNV0PVE/aTum7souWD/At0SJ8fVgPw3Iuahxymc/MSNhhJWvcD/bTfBN02d3P2zb5nxnaoA/CD5h5MAGhz8NmeH1TyaQP+zrCsc9p5Y/LbKd76fGnz/bLW5ISEmmPww9YvTcQq8/JV2OstnstT8Er5Y7M8G+P0c+r3jqkcU/5h99k6ZBzj88bCIzFzjVP4enV8oyxN0//yH99nXg5D8qOpLLf0jtP5kqGJXUifQ/c9cS8kHP/D+/DpwzojQEQIEmwoanVwxA4lgXt9HgE0BSSZ2AJuIbQAMJih9jjiNA5q4l5INuK0AwTKYKRj0zQNv5fmq8/DpAaCJseHrtQkB/+zpwzoxKQM3MzMzMeFJAZmZmZmZqWEAAAAAAAFxeQM3MzMzMJmJAmpmZmZkfZUBmZmZmZhhoQDMzMzMzEWtAAAAAAAAKbkBmZmZmZoFwQM3MzMzM/XFAMzMzMzN6c0CamZmZmfZ0QAAAAAAAc3ZAZmZmZmbvd0DNzMzMzGt5QDMzMzMz6HpAmpmZmZlkfEAAAAAAAOF9QGZmZmZmXX9AZmZmZuZsgECamZmZGSuBQM3MzMxM6YFAAAAAAICngkAzMzMzs2WDQGZmZmbmI4RAmpmZmRnihEDNzMzMTKCFQAAAAACAXoZAMzMzM7Mch0BmZmZm5tqHQJqZmZkZmYhAzczMzExXiUAAAAAAgBWKQDMzMzOz04pAZmZmZuaRi0CamZmZGVCMQM3MzMxMDo1AAAAAAIDMjUAzMzMzs4qOQGZmZmbmSI9A\",\"dtype\":\"float64\",\"shape\":[75]}}},\"id\":\"3cd89c46-9c61-40e3-bd04-8178f2cb37ba\",\"type\":\"ColumnDataSource\"},{\"attributes\":{\"callback\":null,\"column_names\":[\"x\",\"y\"],\"data\":{\"x\":{\"__ndarray__\":\"/E2sfGTt2D/g5+iG4NfYP9nL+O+ojtk/07Brvdc32j+xPhaJpr/aP3qyk6i0Eds/gWzlZxsm2z+x5vhP1OXaP366iXM3PNo/kg2cGgUU2T9NWE2daFPXPx3s6uEN4dQ/OPVg1rSg0T/Mypto/OfKP5gfTS8QiMQ/3ZTyWgndxj8s1UfYnvbOP5GgthUUqdI/emwuq2491T+VBmW3IjPYP+CiUYkEttw/sKXLi+Fk4j8xMtg/FRjnP0ghfx/EJOY/SRQ5yBQh4T9PjxJg/YTaP/fWl9fX29Q/ByrC0X550D+Fs/igqU/KP5SQ3T/1E8U/dkKeEzFbwD/uC9tbORe4P8qro0XeO7I/3lAFlx+crT+f+BOQVLGmPxYHu1SxoJ4/1TDPjHbDlT+rFo+NazyRPw6huI5y6oA/DDNLOn4zV7+h2vzbyr46P6eaub0tI4w/SXHNnn1Fmj/pyLDbfjGiP3qQ2M0Qt6Y/bn+o4GLYqj8msTSIwKWuPx8xIbZZFLE/TBWC2Hazsj9x9Fnn3S20P9PixgzYfrU/fsxx6Nmetj901twOY4u3PxLNSCxFTLg/y6P6UmjuuD+9hEK4jXy5P8lUZu8x/bk/iymBYp50uj8SolszIua6Pz4c6phvVLs/qRnvGjbCuz9zVpeVHjS8Pw8j53HWr7w/k3y69A47vT823bq0RNu9PzmpedhVkr4/CpwRSgRPvz9t1LeKzeC/PxeKbM5eCcA/sSUWvt/kvz8hqAEgepS/Pz/Ytf/5ZL8/hix/fBGGvz9L1U2UShnAP2W04fJQQsE/\",\"dtype\":\"float64\",\"shape\":[75]},\"y\":{\"__ndarray__\":\"GhExyth1ND/Sv8nbtpRIP2vylNV0PVE/aTum7souWD/At0SJ8fVgPw3Iuahxymc/MSNhhJWvcD/bTfBN02d3P2zb5nxnaoA/CD5h5MAGhz8NmeH1TyaQP+zrCsc9p5Y/LbKd76fGnz/bLW5ISEmmPww9YvTcQq8/JV2OstnstT8Er5Y7M8G+P0c+r3jqkcU/5h99k6ZBzj88bCIzFzjVP4enV8oyxN0//yH99nXg5D8qOpLLf0jtP5kqGJXUifQ/c9cS8kHP/D+/DpwzojQEQIEmwoanVwxA4lgXt9HgE0BSSZ2AJuIbQAMJih9jjiNA5q4l5INuK0AwTKYKRj0zQNv5fmq8/DpAaCJseHrtQkB/+zpwzoxKQM3MzMzMeFJAZmZmZmZqWEAAAAAAAFxeQM3MzMzMJmJAmpmZmZkfZUBmZmZmZhhoQDMzMzMzEWtAAAAAAAAKbkBmZmZmZoFwQM3MzMzM/XFAMzMzMzN6c0CamZmZmfZ0QAAAAAAAc3ZAZmZmZmbvd0DNzMzMzGt5QDMzMzMz6HpAmpmZmZlkfEAAAAAAAOF9QGZmZmZmXX9AZmZmZuZsgECamZmZGSuBQM3MzMxM6YFAAAAAAICngkAzMzMzs2WDQGZmZmbmI4RAmpmZmRnihEDNzMzMTKCFQAAAAACAXoZAMzMzM7Mch0BmZmZm5tqHQJqZmZkZmYhAzczMzExXiUAAAAAAgBWKQDMzMzOz04pAZmZmZuaRi0CamZmZGVCMQM3MzMxMDo1AAAAAAIDMjUAzMzMzs4qOQGZmZmbmSI9A\",\"dtype\":\"float64\",\"shape\":[75]}}},\"id\":\"a3b1d23d-e1bf-47f8-9277-74e3f7996425\",\"type\":\"ColumnDataSource\"},{\"attributes\":{\"callback\":null,\"column_names\":[\"x\",\"y\"],\"data\":{\"x\":{\"__ndarray__\":\"+M2DMUGx1T+w60Jjs8PVPzjqTNDff9Y/qV7tJSM11z/WzCPni9PXP6jSnf2OUNg/1cw2ih6j2D+CWHanTbzYP/F7HoeliNg/WoACyUDw1z9AffkQH9XWP9h8UeM9INU/NSRWgq2i0j9ReGlREnPOPzBzuzF1Nsk/+Qp6LLW0yz+DkvcQMXLRP0KpwPsPqdM/VKZ7L8S21D8iyfEKdxnWPwjJ2yMbytk/WDYKQNDv4D8M+CWwc9LlPxKfva9Yd+U/JHFPimj54D+f6Vl9UKXaP4eMbeVglNU/fTdgYXTe0T96VG+WJM/NP6U9WV8MS8g/FylnfwOUwj/e9WRsC0a6P2LQdpmN/7I/ko4BJlDnrj/vhF3MVZupP1qGPWzY4aM/4RDygq21nz9XY5t48vmZPxNzi0PbdY0/0zuU6EHZYT8HZzp+LvlnPwIVfCodyZA/3v/ZZNnsnD+CYut5ozWjPxkZLDleL6c/UmMDy7uiqj//E98yL76tP0E2KoXdT7A/HyG8Lw2usT/8Tj5PIvuyP2KRL47mM7Q/CVPyQPBQtT+3JkTRDEa2Pw5eB+l9Ibc/y9xAKIfntz+Tgark75+4P6JA7BQ7Trk/PuCrVKTxuT/twvbazY26P1lg6HNVIrs/IiF6teqwuz996w6FF0K8P1cccMcrzbw/janGnE9ovT8QOpnJaBK+P4qdwY1bzb4/J5zVHHCMvz8MhMYTww/AP6xfGrU7KsA/31s7K8UWwD9Dc4r1FuO/PxJQIw5+tb8//Ih9upTQvz92qUI2RzfAPyMbO8RPUME/\",\"dtype\":\"float64\",\"shape\":[75]},\"y\":{\"__ndarray__\":\"GhExyth1ND/Sv8nbtpRIP2vylNV0PVE/aTum7souWD/At0SJ8fVgPw3Iuahxymc/MSNhhJWvcD/bTfBN02d3P2zb5nxnaoA/CD5h5MAGhz8NmeH1TyaQP+zrCsc9p5Y/LbKd76fGnz/bLW5ISEmmPww9YvTcQq8/JV2OstnstT8Er5Y7M8G+P0c+r3jqkcU/5h99k6ZBzj88bCIzFzjVP4enV8oyxN0//yH99nXg5D8qOpLLf0jtP5kqGJXUifQ/c9cS8kHP/D+/DpwzojQEQIEmwoanVwxA4lgXt9HgE0BSSZ2AJuIbQAMJih9jjiNA5q4l5INuK0AwTKYKRj0zQNv5fmq8/DpAaCJseHrtQkB/+zpwzoxKQM3MzMzMeFJAZmZmZmZqWEAAAAAAAFxeQM3MzMzMJmJAmpmZmZkfZUBmZmZmZhhoQDMzMzMzEWtAAAAAAAAKbkBmZmZmZoFwQM3MzMzM/XFAMzMzMzN6c0CamZmZmfZ0QAAAAAAAc3ZAZmZmZmbvd0DNzMzMzGt5QDMzMzMz6HpAmpmZmZlkfEAAAAAAAOF9QGZmZmZmXX9AZmZmZuZsgECamZmZGSuBQM3MzMxM6YFAAAAAAICngkAzMzMzs2WDQGZmZmbmI4RAmpmZmRnihEDNzMzMTKCFQAAAAACAXoZAMzMzM7Mch0BmZmZm5tqHQJqZmZkZmYhAzczMzExXiUAAAAAAgBWKQDMzMzOz04pAZmZmZuaRi0CamZmZGVCMQM3MzMxMDo1AAAAAAIDMjUAzMzMzs4qOQGZmZmbmSI9A\",\"dtype\":\"float64\",\"shape\":[75]}}},\"id\":\"ea567ff2-f2ff-457a-abdf-18ffa6d07cb1\",\"type\":\"ColumnDataSource\"},{\"attributes\":{\"source\":{\"id\":\"6750a31d-61ea-4bdb-85ad-7afc263510b7\",\"type\":\"ColumnDataSource\"}},\"id\":\"8c1ce1fe-5c01-487c-9193-3ae4de8f09bf\",\"type\":\"CDSView\"},{\"attributes\":{\"fill_alpha\":{\"value\":0.1},\"fill_color\":{\"value\":\"#1f77b4\"},\"line_alpha\":{\"value\":0.1},\"line_color\":{\"value\":\"#1f77b4\"},\"x\":{\"field\":\"x\"},\"y\":{\"field\":\"y\"}},\"id\":\"277352c2-8b9a-46e2-b773-d96302a70587\",\"type\":\"Circle\"},{\"attributes\":{\"line_alpha\":0.1,\"line_color\":\"#1f77b4\",\"line_width\":1.5,\"x\":{\"field\":\"x\"},\"y\":{\"field\":\"y\"}},\"id\":\"946a569e-951e-49de-810f-74c139c42e5c\",\"type\":\"Line\"},{\"attributes\":{\"line_alpha\":0.6,\"line_color\":\"#e41a1c\",\"line_dash\":[6],\"line_width\":5,\"x\":{\"field\":\"x\"},\"y\":{\"field\":\"y\"}},\"id\":\"1139d0dc-bf9c-489d-95ae-8df4e2acaebe\",\"type\":\"Line\"},{\"attributes\":{\"data_source\":{\"id\":\"a3b1d23d-e1bf-47f8-9277-74e3f7996425\",\"type\":\"ColumnDataSource\"},\"glyph\":{\"id\":\"97f2ee0f-569a-455f-8a36-856aaf1b030d\",\"type\":\"Circle\"},\"hover_glyph\":null,\"muted_glyph\":null,\"nonselection_glyph\":{\"id\":\"277352c2-8b9a-46e2-b773-d96302a70587\",\"type\":\"Circle\"},\"selection_glyph\":null,\"view\":{\"id\":\"47222f37-2fbe-4790-ba92-ded2c8718102\",\"type\":\"CDSView\"}},\"id\":\"19cbc423-1d48-4aa9-9cb8-f9b834c52abd\",\"type\":\"GlyphRenderer\"},{\"attributes\":{\"source\":{\"id\":\"a3b1d23d-e1bf-47f8-9277-74e3f7996425\",\"type\":\"ColumnDataSource\"}},\"id\":\"47222f37-2fbe-4790-ba92-ded2c8718102\",\"type\":\"CDSView\"},{\"attributes\":{\"callback\":null,\"end\":0.138929055855,\"start\":-0.002805641355},\"id\":\"de284ee2-4e0b-419c-817d-cd36c56540b8\",\"type\":\"Range1d\"},{\"attributes\":{},\"id\":\"9e8c943c-b2af-4525-8238-e14818fcd828\",\"type\":\"LinearScale\"},{\"attributes\":{\"line_color\":\"#4daf4a\",\"line_width\":1.5,\"x\":{\"field\":\"x\"},\"y\":{\"field\":\"y\"}},\"id\":\"051acd86-adfe-4af8-823e-0b25b3dc07e6\",\"type\":\"Line\"},{\"attributes\":{\"callback\":null,\"column_names\":[\"x\",\"y\"],\"data\":{\"x\":{\"__ndarray__\":\"+M2DMUGx1T+w60Jjs8PVPzjqTNDff9Y/qV7tJSM11z/WzCPni9PXP6jSnf2OUNg/1cw2ih6j2D+CWHanTbzYP/F7HoeliNg/WoACyUDw1z9AffkQH9XWP9h8UeM9INU/NSRWgq2i0j9ReGlREnPOPzBzuzF1Nsk/+Qp6LLW0yz+DkvcQMXLRP0KpwPsPqdM/VKZ7L8S21D8iyfEKdxnWPwjJ2yMbytk/WDYKQNDv4D8M+CWwc9LlPxKfva9Yd+U/JHFPimj54D+f6Vl9UKXaP4eMbeVglNU/fTdgYXTe0T96VG+WJM/NP6U9WV8MS8g/FylnfwOUwj/e9WRsC0a6P2LQdpmN/7I/ko4BJlDnrj/vhF3MVZupP1qGPWzY4aM/4RDygq21nz9XY5t48vmZPxNzi0PbdY0/0zuU6EHZYT8HZzp+LvlnPwIVfCodyZA/3v/ZZNnsnD+CYut5ozWjPxkZLDleL6c/UmMDy7uiqj//E98yL76tP0E2KoXdT7A/HyG8Lw2usT/8Tj5PIvuyP2KRL47mM7Q/CVPyQPBQtT+3JkTRDEa2Pw5eB+l9Ibc/y9xAKIfntz+Tgark75+4P6JA7BQ7Trk/PuCrVKTxuT/twvbazY26P1lg6HNVIrs/IiF6teqwuz996w6FF0K8P1cccMcrzbw/janGnE9ovT8QOpnJaBK+P4qdwY1bzb4/J5zVHHCMvz8MhMYTww/AP6xfGrU7KsA/31s7K8UWwD9Dc4r1FuO/PxJQIw5+tb8//Ih9upTQvz92qUI2RzfAPyMbO8RPUME/\",\"dtype\":\"float64\",\"shape\":[75]},\"y\":{\"__ndarray__\":\"GhExyth1ND/Sv8nbtpRIP2vylNV0PVE/aTum7souWD/At0SJ8fVgPw3Iuahxymc/MSNhhJWvcD/bTfBN02d3P2zb5nxnaoA/CD5h5MAGhz8NmeH1TyaQP+zrCsc9p5Y/LbKd76fGnz/bLW5ISEmmPww9YvTcQq8/JV2OstnstT8Er5Y7M8G+P0c+r3jqkcU/5h99k6ZBzj88bCIzFzjVP4enV8oyxN0//yH99nXg5D8qOpLLf0jtP5kqGJXUifQ/c9cS8kHP/D+/DpwzojQEQIEmwoanVwxA4lgXt9HgE0BSSZ2AJuIbQAMJih9jjiNA5q4l5INuK0AwTKYKRj0zQNv5fmq8/DpAaCJseHrtQkB/+zpwzoxKQM3MzMzMeFJAZmZmZmZqWEAAAAAAAFxeQM3MzMzMJmJAmpmZmZkfZUBmZmZmZhhoQDMzMzMzEWtAAAAAAAAKbkBmZmZmZoFwQM3MzMzM/XFAMzMzMzN6c0CamZmZmfZ0QAAAAAAAc3ZAZmZmZmbvd0DNzMzMzGt5QDMzMzMz6HpAmpmZmZlkfEAAAAAAAOF9QGZmZmZmXX9AZmZmZuZsgECamZmZGSuBQM3MzMxM6YFAAAAAAICngkAzMzMzs2WDQGZmZmbmI4RAmpmZmRnihEDNzMzMTKCFQAAAAACAXoZAMzMzM7Mch0BmZmZm5tqHQJqZmZkZmYhAzczMzExXiUAAAAAAgBWKQDMzMzOz04pAZmZmZuaRi0CamZmZGVCMQM3MzMxMDo1AAAAAAIDMjUAzMzMzs4qOQGZmZmbmSI9A\",\"dtype\":\"float64\",\"shape\":[75]}}},\"id\":\"0b78cced-5074-4213-92f6-8d4274bf3d33\",\"type\":\"ColumnDataSource\"},{\"attributes\":{\"data_source\":{\"id\":\"3cd89c46-9c61-40e3-bd04-8178f2cb37ba\",\"type\":\"ColumnDataSource\"},\"glyph\":{\"id\":\"051acd86-adfe-4af8-823e-0b25b3dc07e6\",\"type\":\"Line\"},\"hover_glyph\":null,\"muted_glyph\":null,\"nonselection_glyph\":{\"id\":\"946a569e-951e-49de-810f-74c139c42e5c\",\"type\":\"Line\"},\"selection_glyph\":null,\"view\":{\"id\":\"87e5cba3-1f6a-4412-803f-0bd7d5a6db72\",\"type\":\"CDSView\"}},\"id\":\"f5d69e7e-e982-40d0-84e0-ee1bf657df9d\",\"type\":\"GlyphRenderer\"},{\"attributes\":{\"callback\":null,\"end\":0.728920879055,\"start\":-0.008647144555},\"id\":\"fa1b9344-5a6d-49c0-a90a-1dea85a3c307\",\"type\":\"Range1d\"},{\"attributes\":{\"line_alpha\":0.1,\"line_color\":\"#1f77b4\",\"line_width\":3,\"x\":{\"field\":\"x\"},\"y\":{\"field\":\"y\"}},\"id\":\"3793e38c-e9bd-47c7-8521-2250e6c97ee8\",\"type\":\"Line\"},{\"attributes\":{\"source\":{\"id\":\"3cd89c46-9c61-40e3-bd04-8178f2cb37ba\",\"type\":\"ColumnDataSource\"}},\"id\":\"87e5cba3-1f6a-4412-803f-0bd7d5a6db72\",\"type\":\"CDSView\"},{\"attributes\":{\"plot\":null,\"text\":\"Log pressure scale\"},\"id\":\"0fa5dbac-8746-4e54-9824-61a1179bf95a\",\"type\":\"Title\"},{\"attributes\":{\"fill_alpha\":{\"value\":0.7},\"fill_color\":{\"value\":\"#984ea3\"},\"line_alpha\":{\"value\":0.7},\"line_color\":{\"value\":\"#984ea3\"},\"x\":{\"field\":\"x\"},\"y\":{\"field\":\"y\"}},\"id\":\"b655cb3c-7141-4281-9ab5-fce0426989f7\",\"type\":\"Square\"},{\"attributes\":{\"fill_alpha\":{\"value\":0.1},\"fill_color\":{\"value\":\"#1f77b4\"},\"line_alpha\":{\"value\":0.1},\"line_color\":{\"value\":\"#1f77b4\"},\"x\":{\"field\":\"x\"},\"y\":{\"field\":\"y\"}},\"id\":\"a6145d32-1934-4c5a-b8d6-f927f69a0b7b\",\"type\":\"Square\"},{\"attributes\":{\"source\":{\"id\":\"f457e3e3-b577-4ac1-b8b3-ba1bffe44a28\",\"type\":\"ColumnDataSource\"}},\"id\":\"eb18d343-7e56-4128-ad80-7d56f7d2b259\",\"type\":\"CDSView\"},{\"attributes\":{\"label\":{\"value\":\"CRD\"},\"renderers\":[{\"id\":\"19cbc423-1d48-4aa9-9cb8-f9b834c52abd\",\"type\":\"GlyphRenderer\"},{\"id\":\"f5d69e7e-e982-40d0-84e0-ee1bf657df9d\",\"type\":\"GlyphRenderer\"}]},\"id\":\"c9b3caea-cf57-42be-8bb0-f689b6f85b2b\",\"type\":\"LegendItem\"},{\"attributes\":{\"below\":[{\"id\":\"bdb1a287-3d7e-40ff-b572-bf5c766899ad\",\"type\":\"LinearAxis\"}],\"left\":[{\"id\":\"c31ec4d4-2b8b-428e-ac94-89c6bf1672ef\",\"type\":\"LogAxis\"}],\"plot_height\":500,\"plot_width\":560,\"renderers\":[{\"id\":\"bdb1a287-3d7e-40ff-b572-bf5c766899ad\",\"type\":\"LinearAxis\"},{\"id\":\"9d4f222d-2c96-4504-9e49-4ddf16053f24\",\"type\":\"Grid\"},{\"id\":\"c31ec4d4-2b8b-428e-ac94-89c6bf1672ef\",\"type\":\"LogAxis\"},{\"id\":\"8d50dd8a-7179-40e2-9491-983dadfc5c2b\",\"type\":\"Grid\"},{\"id\":\"22fc3925-aede-445a-9a3a-5631e06ab238\",\"type\":\"BoxAnnotation\"},{\"id\":\"86912b96-81de-42b0-95ae-6b344f64ec0a\",\"type\":\"GlyphRenderer\"},{\"id\":\"19cbc423-1d48-4aa9-9cb8-f9b834c52abd\",\"type\":\"GlyphRenderer\"},{\"id\":\"f5d69e7e-e982-40d0-84e0-ee1bf657df9d\",\"type\":\"GlyphRenderer\"},{\"id\":\"1c9efab8-32a8-49f5-97bf-1795929bec36\",\"type\":\"GlyphRenderer\"},{\"id\":\"1b109dd7-1de3-4c1f-aff4-ce068abccbc9\",\"type\":\"GlyphRenderer\"},{\"id\":\"786f96c7-3df0-417e-9d9b-9112c37df867\",\"type\":\"Legend\"}],\"right\":[{\"id\":\"786f96c7-3df0-417e-9d9b-9112c37df867\",\"type\":\"Legend\"}],\"title\":{\"id\":\"0fa5dbac-8746-4e54-9824-61a1179bf95a\",\"type\":\"Title\"},\"toolbar\":{\"id\":\"6d96545b-390b-4561-bb50-b8a4c32fc163\",\"type\":\"Toolbar\"},\"toolbar_location\":null,\"x_range\":{\"id\":\"fa1b9344-5a6d-49c0-a90a-1dea85a3c307\",\"type\":\"Range1d\"},\"x_scale\":{\"id\":\"9e8c943c-b2af-4525-8238-e14818fcd828\",\"type\":\"LinearScale\"},\"y_range\":{\"id\":\"b8d1eb40-2cb4-474a-80c5-d1800c4050d4\",\"type\":\"Range1d\"},\"y_scale\":{\"id\":\"be62e099-ddf8-4587-9f00-4e3105d3e456\",\"type\":\"LogScale\"}},\"id\":\"62c8b7f0-a1a4-4217-8cca-ca6a1f93aa0c\",\"subtype\":\"Figure\",\"type\":\"Plot\"},{\"attributes\":{\"data_source\":{\"id\":\"ea567ff2-f2ff-457a-abdf-18ffa6d07cb1\",\"type\":\"ColumnDataSource\"},\"glyph\":{\"id\":\"b655cb3c-7141-4281-9ab5-fce0426989f7\",\"type\":\"Square\"},\"hover_glyph\":null,\"muted_glyph\":null,\"nonselection_glyph\":{\"id\":\"a6145d32-1934-4c5a-b8d6-f927f69a0b7b\",\"type\":\"Square\"},\"selection_glyph\":null,\"view\":{\"id\":\"8b198026-3e3d-4dfd-8e17-27436178bda4\",\"type\":\"CDSView\"}},\"id\":\"1c9efab8-32a8-49f5-97bf-1795929bec36\",\"type\":\"GlyphRenderer\"},{\"attributes\":{\"active_drag\":\"auto\",\"active_inspect\":\"auto\",\"active_scroll\":\"auto\",\"active_tap\":\"auto\",\"tools\":[{\"id\":\"5e521ace-97f1-4804-a3af-107b91617899\",\"type\":\"PanTool\"},{\"id\":\"5a27f239-f091-4747-be86-db18e959bccc\",\"type\":\"WheelZoomTool\"},{\"id\":\"61fd1983-a11a-4709-9660-7229c07c284b\",\"type\":\"BoxZoomTool\"},{\"id\":\"f9bee6cd-21ae-4e4a-8deb-c8c5b1e899e1\",\"type\":\"SaveTool\"},{\"id\":\"2fd5b7f6-eb0d-425c-8042-56ff93ad90ed\",\"type\":\"ResetTool\"},{\"id\":\"045e77b3-0cdc-44f1-be49-051e9063cc01\",\"type\":\"HelpTool\"}]},\"id\":\"6d96545b-390b-4561-bb50-b8a4c32fc163\",\"type\":\"Toolbar\"},{\"attributes\":{\"source\":{\"id\":\"ea567ff2-f2ff-457a-abdf-18ffa6d07cb1\",\"type\":\"ColumnDataSource\"}},\"id\":\"8b198026-3e3d-4dfd-8e17-27436178bda4\",\"type\":\"CDSView\"},{\"attributes\":{\"line_alpha\":0.6,\"line_color\":\"#984ea3\",\"line_width\":3,\"x\":{\"field\":\"x\"},\"y\":{\"field\":\"y\"}},\"id\":\"fe3b64a1-cd2b-4428-bf4f-dabbd5febb17\",\"type\":\"Line\"},{\"attributes\":{\"line_alpha\":0.1,\"line_color\":\"#1f77b4\",\"line_width\":3,\"x\":{\"field\":\"x\"},\"y\":{\"field\":\"y\"}},\"id\":\"b2c6a272-950c-42ef-8849-4e2af9e38c6c\",\"type\":\"Line\"},{\"attributes\":{\"axis_label\":\"cooling rate [K/day]\",\"formatter\":{\"id\":\"1065dd44-9a8c-47b8-a722-12ca8369c541\",\"type\":\"BasicTickFormatter\"},\"plot\":{\"id\":\"62c8b7f0-a1a4-4217-8cca-ca6a1f93aa0c\",\"subtype\":\"Figure\",\"type\":\"Plot\"},\"ticker\":{\"id\":\"d28531ca-8583-4aa0-b457-c9ed61b91b68\",\"type\":\"BasicTicker\"}},\"id\":\"bdb1a287-3d7e-40ff-b572-bf5c766899ad\",\"type\":\"LinearAxis\"},{\"attributes\":{\"label\":{\"value\":\"WGT igg=10 wgt_flux=2\"},\"renderers\":[{\"id\":\"1c9efab8-32a8-49f5-97bf-1795929bec36\",\"type\":\"GlyphRenderer\"},{\"id\":\"1b109dd7-1de3-4c1f-aff4-ce068abccbc9\",\"type\":\"GlyphRenderer\"}]},\"id\":\"bd19afd5-f5ac-4348-80de-d5bfdfe75aa9\",\"type\":\"LegendItem\"},{\"attributes\":{\"data_source\":{\"id\":\"0b78cced-5074-4213-92f6-8d4274bf3d33\",\"type\":\"ColumnDataSource\"},\"glyph\":{\"id\":\"fe3b64a1-cd2b-4428-bf4f-dabbd5febb17\",\"type\":\"Line\"},\"hover_glyph\":null,\"muted_glyph\":null,\"nonselection_glyph\":{\"id\":\"b2c6a272-950c-42ef-8849-4e2af9e38c6c\",\"type\":\"Line\"},\"selection_glyph\":null,\"view\":{\"id\":\"da89ae7d-b931-4e32-87cc-e203843ab734\",\"type\":\"CDSView\"}},\"id\":\"1b109dd7-1de3-4c1f-aff4-ce068abccbc9\",\"type\":\"GlyphRenderer\"},{\"attributes\":{\"fill_alpha\":{\"value\":0.7},\"fill_color\":{\"value\":\"#984ea3\"},\"line_alpha\":{\"value\":0.7},\"line_color\":{\"value\":\"#984ea3\"},\"x\":{\"field\":\"x\"},\"y\":{\"field\":\"y\"}},\"id\":\"957c0f43-76ec-4722-b41a-38261695513a\",\"type\":\"Square\"},{\"attributes\":{\"callback\":null,\"column_names\":[\"x\",\"y\"],\"data\":{\"x\":{\"__ndarray__\":\"/E2sfGTt2D/g5+iG4NfYP9nL+O+ojtk/07Brvdc32j+xPhaJpr/aP3qyk6i0Eds/gWzlZxsm2z+x5vhP1OXaP366iXM3PNo/kg2cGgUU2T9NWE2daFPXPx3s6uEN4dQ/OPVg1rSg0T/Mypto/OfKP5gfTS8QiMQ/3ZTyWgndxj8s1UfYnvbOP5GgthUUqdI/emwuq2491T+VBmW3IjPYP+CiUYkEttw/sKXLi+Fk4j8xMtg/FRjnP0ghfx/EJOY/SRQ5yBQh4T9PjxJg/YTaP/fWl9fX29Q/ByrC0X550D+Fs/igqU/KP5SQ3T/1E8U/dkKeEzFbwD/uC9tbORe4P8qro0XeO7I/3lAFlx+crT+f+BOQVLGmPxYHu1SxoJ4/1TDPjHbDlT+rFo+NazyRPw6huI5y6oA/DDNLOn4zV7+h2vzbyr46P6eaub0tI4w/SXHNnn1Fmj/pyLDbfjGiP3qQ2M0Qt6Y/bn+o4GLYqj8msTSIwKWuPx8xIbZZFLE/TBWC2Hazsj9x9Fnn3S20P9PixgzYfrU/fsxx6Nmetj901twOY4u3PxLNSCxFTLg/y6P6UmjuuD+9hEK4jXy5P8lUZu8x/bk/iymBYp50uj8SolszIua6Pz4c6phvVLs/qRnvGjbCuz9zVpeVHjS8Pw8j53HWr7w/k3y69A47vT823bq0RNu9PzmpedhVkr4/CpwRSgRPvz9t1LeKzeC/PxeKbM5eCcA/sSUWvt/kvz8hqAEgepS/Pz/Ytf/5ZL8/hix/fBGGvz9L1U2UShnAP2W04fJQQsE/\",\"dtype\":\"float64\",\"shape\":[75]},\"y\":{\"__ndarray__\":\"GhExyth1ND/Sv8nbtpRIP2vylNV0PVE/aTum7souWD/At0SJ8fVgPw3Iuahxymc/MSNhhJWvcD/bTfBN02d3P2zb5nxnaoA/CD5h5MAGhz8NmeH1TyaQP+zrCsc9p5Y/LbKd76fGnz/bLW5ISEmmPww9YvTcQq8/JV2OstnstT8Er5Y7M8G+P0c+r3jqkcU/5h99k6ZBzj88bCIzFzjVP4enV8oyxN0//yH99nXg5D8qOpLLf0jtP5kqGJXUifQ/c9cS8kHP/D+/DpwzojQEQIEmwoanVwxA4lgXt9HgE0BSSZ2AJuIbQAMJih9jjiNA5q4l5INuK0AwTKYKRj0zQNv5fmq8/DpAaCJseHrtQkB/+zpwzoxKQM3MzMzMeFJAZmZmZmZqWEAAAAAAAFxeQM3MzMzMJmJAmpmZmZkfZUBmZmZmZhhoQDMzMzMzEWtAAAAAAAAKbkBmZmZmZoFwQM3MzMzM/XFAMzMzMzN6c0CamZmZmfZ0QAAAAAAAc3ZAZmZmZmbvd0DNzMzMzGt5QDMzMzMz6HpAmpmZmZlkfEAAAAAAAOF9QGZmZmZmXX9AZmZmZuZsgECamZmZGSuBQM3MzMxM6YFAAAAAAICngkAzMzMzs2WDQGZmZmbmI4RAmpmZmRnihEDNzMzMTKCFQAAAAACAXoZAMzMzM7Mch0BmZmZm5tqHQJqZmZkZmYhAzczMzExXiUAAAAAAgBWKQDMzMzOz04pAZmZmZuaRi0CamZmZGVCMQM3MzMxMDo1AAAAAAIDMjUAzMzMzs4qOQGZmZmbmSI9A\",\"dtype\":\"float64\",\"shape\":[75]}}},\"id\":\"79a52950-6d47-45e9-a31e-0176d982dc54\",\"type\":\"ColumnDataSource\"},{\"attributes\":{\"source\":{\"id\":\"f243f9fe-d0b5-40a2-b4e4-53a886119fdf\",\"type\":\"ColumnDataSource\"}},\"id\":\"0f69608d-09ea-49a1-8dc1-59e258962eb0\",\"type\":\"CDSView\"},{\"attributes\":{\"source\":{\"id\":\"0b78cced-5074-4213-92f6-8d4274bf3d33\",\"type\":\"ColumnDataSource\"}},\"id\":\"da89ae7d-b931-4e32-87cc-e203843ab734\",\"type\":\"CDSView\"},{\"attributes\":{\"toolbar\":{\"id\":\"f38b9ed2-9e15-468f-a4a7-b132ec94dd15\",\"type\":\"ProxyToolbar\"},\"toolbar_location\":\"above\"},\"id\":\"36b507ff-d188-4844-8a72-2d227eb29806\",\"type\":\"ToolbarBox\"},{\"attributes\":{\"callback\":null,\"column_names\":[\"x\",\"y\"],\"data\":{\"x\":{\"__ndarray__\":\"+M2DMUGx1T+w60Jjs8PVPzjqTNDff9Y/qV7tJSM11z/WzCPni9PXP6jSnf2OUNg/1cw2ih6j2D+CWHanTbzYP/F7HoeliNg/WoACyUDw1z9AffkQH9XWP9h8UeM9INU/NSRWgq2i0j9ReGlREnPOPzBzuzF1Nsk/+Qp6LLW0yz+DkvcQMXLRP0KpwPsPqdM/VKZ7L8S21D8iyfEKdxnWPwjJ2yMbytk/WDYKQNDv4D8M+CWwc9LlPxKfva9Yd+U/JHFPimj54D+f6Vl9UKXaP4eMbeVglNU/fTdgYXTe0T96VG+WJM/NP6U9WV8MS8g/FylnfwOUwj/e9WRsC0a6P2LQdpmN/7I/ko4BJlDnrj/vhF3MVZupP1qGPWzY4aM/4RDygq21nz9XY5t48vmZPxNzi0PbdY0/0zuU6EHZYT8HZzp+LvlnPwIVfCodyZA/3v/ZZNnsnD+CYut5ozWjPxkZLDleL6c/UmMDy7uiqj//E98yL76tP0E2KoXdT7A/HyG8Lw2usT/8Tj5PIvuyP2KRL47mM7Q/CVPyQPBQtT+3JkTRDEa2Pw5eB+l9Ibc/y9xAKIfntz+Tgark75+4P6JA7BQ7Trk/PuCrVKTxuT/twvbazY26P1lg6HNVIrs/IiF6teqwuz996w6FF0K8P1cccMcrzbw/janGnE9ovT8QOpnJaBK+P4qdwY1bzb4/J5zVHHCMvz8MhMYTww/AP6xfGrU7KsA/31s7K8UWwD9Dc4r1FuO/PxJQIw5+tb8//Ih9upTQvz92qUI2RzfAPyMbO8RPUME/\",\"dtype\":\"float64\",\"shape\":[75]},\"y\":{\"__ndarray__\":\"GhExyth1ND/Sv8nbtpRIP2vylNV0PVE/aTum7souWD/At0SJ8fVgPw3Iuahxymc/MSNhhJWvcD/bTfBN02d3P2zb5nxnaoA/CD5h5MAGhz8NmeH1TyaQP+zrCsc9p5Y/LbKd76fGnz/bLW5ISEmmPww9YvTcQq8/JV2OstnstT8Er5Y7M8G+P0c+r3jqkcU/5h99k6ZBzj88bCIzFzjVP4enV8oyxN0//yH99nXg5D8qOpLLf0jtP5kqGJXUifQ/c9cS8kHP/D+/DpwzojQEQIEmwoanVwxA4lgXt9HgE0BSSZ2AJuIbQAMJih9jjiNA5q4l5INuK0AwTKYKRj0zQNv5fmq8/DpAaCJseHrtQkB/+zpwzoxKQM3MzMzMeFJAZmZmZmZqWEAAAAAAAFxeQM3MzMzMJmJAmpmZmZkfZUBmZmZmZhhoQDMzMzMzEWtAAAAAAAAKbkBmZmZmZoFwQM3MzMzM/XFAMzMzMzN6c0CamZmZmfZ0QAAAAAAAc3ZAZmZmZmbvd0DNzMzMzGt5QDMzMzMz6HpAmpmZmZlkfEAAAAAAAOF9QGZmZmZmXX9AZmZmZuZsgECamZmZGSuBQM3MzMxM6YFAAAAAAICngkAzMzMzs2WDQGZmZmbmI4RAmpmZmRnihEDNzMzMTKCFQAAAAACAXoZAMzMzM7Mch0BmZmZm5tqHQJqZmZkZmYhAzczMzExXiUAAAAAAgBWKQDMzMzOz04pAZmZmZuaRi0CamZmZGVCMQM3MzMxMDo1AAAAAAIDMjUAzMzMzs4qOQGZmZmbmSI9A\",\"dtype\":\"float64\",\"shape\":[75]}}},\"id\":\"f243f9fe-d0b5-40a2-b4e4-53a886119fdf\",\"type\":\"ColumnDataSource\"},{\"attributes\":{\"children\":[{\"id\":\"36b507ff-d188-4844-8a72-2d227eb29806\",\"type\":\"ToolbarBox\"},{\"id\":\"95a7814d-2b29-4e73-9ca0-53b7bc071a73\",\"type\":\"Column\"}]},\"id\":\"4e4a690e-3e84-4ef4-83a5-b017090dcf2c\",\"type\":\"Column\"},{\"attributes\":{\"callback\":null,\"column_names\":[\"x\",\"y\"],\"data\":{\"x\":{\"__ndarray__\":\"zIc1z/Dqzj9kf/LaGWTPP9GsrjvEXNA/d1KZQQAZ0T8yrlUOb87RPysfm0dyd9I/icOIM3UN0z89AHcTW4XTPyM15fFR0tM/q7dAYdTe0z9tYtT3EpHTPxEQetOAw9I/uxBIFQdI0T95Kvk7iNvNP20bqWurYco/XLYQw5KbzT8qMbatuWXSPyRVBM0hSNQ/KjLfZpZp1D9u57Ec17XUP/BPZ/aS6dc/hf9bZmQy4D/7j46jIFXlP7TOU3grJuU/GQrQnf3U4D/ZkyMR2GTaP4ilea6MmdU/cTFQY4wZ0j8ik2MdVIPOPwYJWS/pnMg/qe0uae+Awj9KVhg3Qnq5PwPAUD4/t7E/ffUeUv9lrD97uUUcj3KoP0gOmXGhkqM/H0ZKqwjUnj+dfkHs+1mYP27NMph6bok/C+3fMj9zND8z3wSnoKtPP2XHzxG8y4w/bDzTqf1mmj+6BFmvH+uhP2yMxm9E1qU/exxPyQ4xqT+E47XvqjesP9MHDD4/H68/RQHBbYT9sD94Q++U22SyP3ndBNp7w7M/Rrz2fgMQtT8nSYu+eEK2PwPZNLTWV7c/mefzF5tSuD8AzaG+xUC5PwXAmRT2H7o/nRSkIfzuuj+3d9NOSa27P05+i06WWrw/Y/00KHn5vD+qpIjrnI+9P0SVzHcRIr4//B0n2MG5vj+zK+sGI1m/P20tQJlOBMA/6dfWT/9ZwD8IdbJQQpvAP4q+zMF9rsA/KJbfkrGUwD+pz/7VHWrAPyGjTR/LTMA/dTvavJpRwD87195EgJXAP6M/NPPkmsE/\",\"dtype\":\"float64\",\"shape\":[75]},\"y\":{\"__ndarray__\":\"S/O/Q+51ND/Sv8nbtpRIP2vylNV0PVE/aTum7souWD/At0SJ8fVgPw3Iuahxymc/MSNhhJWvcD/bTfBN02d3P2zb5nxnaoA/CD5h5MAGhz8NmeH1TyaQP+zrCsc9p5Y/LbKd76fGnz/bLW5ISEmmPww9YvTcQq8/JV2OstnstT8Er5Y7M8G+P0c+r3jqkcU/5h99k6ZBzj88bCIzFzjVP4enV8oyxN0//yH99nXg5D8qOpLLf0jtP5kqGJXUifQ/c9cS8kHP/D+/DpwzojQEQIEmwoanVwxA4lgXt9HgE0BSSZ2AJuIbQAMJih9jjiNA5q4l5INuK0AwTKYKRj0zQNv5fmq8/DpAaCJseHrtQkB/+zpwzoxKQM3MzMzMeFJAZmZmZmZqWEAAAAAAAFxeQM3MzMzMJmJAmpmZmZkfZUBmZmZmZhhoQDMzMzMzEWtAAAAAAAAKbkBmZmZmZoFwQM3MzMzM/XFAMzMzMzN6c0CamZmZmfZ0QAAAAAAAc3ZAZmZmZmbvd0DNzMzMzGt5QDMzMzMz6HpAmpmZmZlkfEAAAAAAAOF9QGZmZmZmXX9AZmZmZuZsgECamZmZGSuBQM3MzMxM6YFAAAAAAICngkAzMzMzs2WDQGZmZmbmI4RAmpmZmRnihEDNzMzMTKCFQAAAAACAXoZAMzMzM7Mch0BmZmZm5tqHQJqZmZkZmYhAzczMzExXiUAAAAAAgBWKQDMzMzOz04pAZmZmZuaRi0CamZmZGVCMQM3MzMxMDo1AAAAAAIDMjUAzMzMzs4qOQGZmZmbmSI9A\",\"dtype\":\"float64\",\"shape\":[75]}}},\"id\":\"b5b1aa2e-f7b2-4bab-b472-f8a7b015f321\",\"type\":\"ColumnDataSource\"},{\"attributes\":{\"bottom_units\":\"screen\",\"fill_alpha\":{\"value\":0.5},\"fill_color\":{\"value\":\"lightgrey\"},\"left_units\":\"screen\",\"level\":\"overlay\",\"line_alpha\":{\"value\":1.0},\"line_color\":{\"value\":\"black\"},\"line_dash\":[4,4],\"line_width\":{\"value\":2},\"plot\":null,\"render_mode\":\"css\",\"right_units\":\"screen\",\"top_units\":\"screen\"},\"id\":\"22fc3925-aede-445a-9a3a-5631e06ab238\",\"type\":\"BoxAnnotation\"},{\"attributes\":{\"callback\":null,\"end\":0.01,\"start\":1020},\"id\":\"b8d1eb40-2cb4-474a-80c5-d1800c4050d4\",\"type\":\"Range1d\"},{\"attributes\":{},\"id\":\"5e521ace-97f1-4804-a3af-107b91617899\",\"type\":\"PanTool\"},{\"attributes\":{\"tools\":[{\"id\":\"1a8ca2b9-29a1-47e2-83c1-fdc3e7ef15a7\",\"type\":\"PanTool\"},{\"id\":\"db1778d9-c0a9-46a1-afe0-6490771053d4\",\"type\":\"WheelZoomTool\"},{\"id\":\"50cd5e93-eae9-40cd-a759-6ce75d3549fb\",\"type\":\"BoxZoomTool\"},{\"id\":\"b7f21f58-866d-4bf3-9c1b-1b41d3162ccf\",\"type\":\"SaveTool\"},{\"id\":\"d89f0f3b-cb74-4579-8bc9-f16d5e75c627\",\"type\":\"ResetTool\"},{\"id\":\"727f0060-dc78-47d9-8c51-36bc7a1c83da\",\"type\":\"HelpTool\"},{\"id\":\"5e521ace-97f1-4804-a3af-107b91617899\",\"type\":\"PanTool\"},{\"id\":\"5a27f239-f091-4747-be86-db18e959bccc\",\"type\":\"WheelZoomTool\"},{\"id\":\"61fd1983-a11a-4709-9660-7229c07c284b\",\"type\":\"BoxZoomTool\"},{\"id\":\"f9bee6cd-21ae-4e4a-8deb-c8c5b1e899e1\",\"type\":\"SaveTool\"},{\"id\":\"2fd5b7f6-eb0d-425c-8042-56ff93ad90ed\",\"type\":\"ResetTool\"},{\"id\":\"045e77b3-0cdc-44f1-be49-051e9063cc01\",\"type\":\"HelpTool\"}]},\"id\":\"f38b9ed2-9e15-468f-a4a7-b132ec94dd15\",\"type\":\"ProxyToolbar\"},{\"attributes\":{\"data_source\":{\"id\":\"b3479355-2fe2-4019-8c8f-8f9eab6949ad\",\"type\":\"ColumnDataSource\"},\"glyph\":{\"id\":\"5b8ede49-8ff6-46cc-9aa7-e30ab6f1d2eb\",\"type\":\"Line\"},\"hover_glyph\":null,\"muted_glyph\":null,\"nonselection_glyph\":{\"id\":\"20634057-003e-48b3-9d1f-48a258177420\",\"type\":\"Line\"},\"selection_glyph\":null,\"view\":{\"id\":\"28fca2f9-31e5-45b0-8406-92ec52ef62d9\",\"type\":\"CDSView\"}},\"id\":\"7eab80f2-b5a9-435a-8a19-d10d5140a92a\",\"type\":\"GlyphRenderer\"},{\"attributes\":{},\"id\":\"2fd5b7f6-eb0d-425c-8042-56ff93ad90ed\",\"type\":\"ResetTool\"},{\"attributes\":{\"overlay\":{\"id\":\"22fc3925-aede-445a-9a3a-5631e06ab238\",\"type\":\"BoxAnnotation\"}},\"id\":\"61fd1983-a11a-4709-9660-7229c07c284b\",\"type\":\"BoxZoomTool\"},{\"attributes\":{},\"id\":\"f9bee6cd-21ae-4e4a-8deb-c8c5b1e899e1\",\"type\":\"SaveTool\"},{\"attributes\":{\"fill_alpha\":{\"value\":0.1},\"fill_color\":{\"value\":\"#1f77b4\"},\"line_alpha\":{\"value\":0.1},\"line_color\":{\"value\":\"#1f77b4\"},\"x\":{\"field\":\"x\"},\"y\":{\"field\":\"y\"}},\"id\":\"08f63d24-7bcc-4989-91fd-ef4f89229293\",\"type\":\"Square\"},{\"attributes\":{},\"id\":\"5a27f239-f091-4747-be86-db18e959bccc\",\"type\":\"WheelZoomTool\"},{\"attributes\":{},\"id\":\"918baffe-0edb-49c7-acd0-3c894400711c\",\"type\":\"BasicTickFormatter\"},{\"attributes\":{},\"id\":\"045e77b3-0cdc-44f1-be49-051e9063cc01\",\"type\":\"HelpTool\"},{\"attributes\":{\"line_alpha\":0.6,\"line_color\":\"#984ea3\",\"line_width\":3,\"x\":{\"field\":\"x\"},\"y\":{\"field\":\"y\"}},\"id\":\"a7d102ba-112b-4e3e-a7b6-3416e86f5124\",\"type\":\"Line\"},{\"attributes\":{},\"id\":\"d28531ca-8583-4aa0-b457-c9ed61b91b68\",\"type\":\"BasicTicker\"},{\"attributes\":{\"plot\":{\"id\":\"62c8b7f0-a1a4-4217-8cca-ca6a1f93aa0c\",\"subtype\":\"Figure\",\"type\":\"Plot\"},\"ticker\":{\"id\":\"d28531ca-8583-4aa0-b457-c9ed61b91b68\",\"type\":\"BasicTicker\"}},\"id\":\"9d4f222d-2c96-4504-9e49-4ddf16053f24\",\"type\":\"Grid\"},{\"attributes\":{},\"id\":\"be62e099-ddf8-4587-9f00-4e3105d3e456\",\"type\":\"LogScale\"},{\"attributes\":{\"label\":{\"value\":\"CLIRAD `coolr_bands`\"},\"renderers\":[{\"id\":\"86912b96-81de-42b0-95ae-6b344f64ec0a\",\"type\":\"GlyphRenderer\"}]},\"id\":\"200606fa-02df-4514-9d4b-ae3eebbd09ed\",\"type\":\"LegendItem\"},{\"attributes\":{\"line_alpha\":0.6,\"line_color\":\"#e41a1c\",\"line_dash\":[6],\"line_width\":5,\"x\":{\"field\":\"x\"},\"y\":{\"field\":\"y\"}},\"id\":\"5b8ede49-8ff6-46cc-9aa7-e30ab6f1d2eb\",\"type\":\"Line\"},{\"attributes\":{\"children\":[{\"id\":\"92581f8d-c949-4403-b847-3fadcb94a409\",\"subtype\":\"Figure\",\"type\":\"Plot\"},{\"id\":\"62c8b7f0-a1a4-4217-8cca-ca6a1f93aa0c\",\"subtype\":\"Figure\",\"type\":\"Plot\"}]},\"id\":\"cb54e15c-72aa-40c3-883d-2608881ed4c9\",\"type\":\"Row\"},{\"attributes\":{\"items\":[{\"id\":\"200606fa-02df-4514-9d4b-ae3eebbd09ed\",\"type\":\"LegendItem\"},{\"id\":\"c9b3caea-cf57-42be-8bb0-f689b6f85b2b\",\"type\":\"LegendItem\"},{\"id\":\"bd19afd5-f5ac-4348-80de-d5bfdfe75aa9\",\"type\":\"LegendItem\"}],\"label_text_font_size\":{\"value\":\"8pt\"},\"location\":[10,-30],\"plot\":{\"id\":\"62c8b7f0-a1a4-4217-8cca-ca6a1f93aa0c\",\"subtype\":\"Figure\",\"type\":\"Plot\"}},\"id\":\"786f96c7-3df0-417e-9d9b-9112c37df867\",\"type\":\"Legend\"},{\"attributes\":{\"callback\":null,\"column_names\":[\"x\",\"y\"],\"data\":{\"x\":{\"__ndarray__\":\"+M2DMUGx1T+w60Jjs8PVPzjqTNDff9Y/qV7tJSM11z/WzCPni9PXP6jSnf2OUNg/1cw2ih6j2D+CWHanTbzYP/F7HoeliNg/WoACyUDw1z9AffkQH9XWP9h8UeM9INU/NSRWgq2i0j9ReGlREnPOPzBzuzF1Nsk/+Qp6LLW0yz+DkvcQMXLRP0KpwPsPqdM/VKZ7L8S21D8iyfEKdxnWPwjJ2yMbytk/WDYKQNDv4D8M+CWwc9LlPxKfva9Yd+U/JHFPimj54D+f6Vl9UKXaP4eMbeVglNU/fTdgYXTe0T96VG+WJM/NP6U9WV8MS8g/FylnfwOUwj/e9WRsC0a6P2LQdpmN/7I/ko4BJlDnrj/vhF3MVZupP1qGPWzY4aM/4RDygq21nz9XY5t48vmZPxNzi0PbdY0/0zuU6EHZYT8HZzp+LvlnPwIVfCodyZA/3v/ZZNnsnD+CYut5ozWjPxkZLDleL6c/UmMDy7uiqj//E98yL76tP0E2KoXdT7A/HyG8Lw2usT/8Tj5PIvuyP2KRL47mM7Q/CVPyQPBQtT+3JkTRDEa2Pw5eB+l9Ibc/y9xAKIfntz+Tgark75+4P6JA7BQ7Trk/PuCrVKTxuT/twvbazY26P1lg6HNVIrs/IiF6teqwuz996w6FF0K8P1cccMcrzbw/janGnE9ovT8QOpnJaBK+P4qdwY1bzb4/J5zVHHCMvz8MhMYTww/AP6xfGrU7KsA/31s7K8UWwD9Dc4r1FuO/PxJQIw5+tb8//Ih9upTQvz92qUI2RzfAPyMbO8RPUME/\",\"dtype\":\"float64\",\"shape\":[75]},\"y\":{\"__ndarray__\":\"GhExyth1ND/Sv8nbtpRIP2vylNV0PVE/aTum7souWD/At0SJ8fVgPw3Iuahxymc/MSNhhJWvcD/bTfBN02d3P2zb5nxnaoA/CD5h5MAGhz8NmeH1TyaQP+zrCsc9p5Y/LbKd76fGnz/bLW5ISEmmPww9YvTcQq8/JV2OstnstT8Er5Y7M8G+P0c+r3jqkcU/5h99k6ZBzj88bCIzFzjVP4enV8oyxN0//yH99nXg5D8qOpLLf0jtP5kqGJXUifQ/c9cS8kHP/D+/DpwzojQEQIEmwoanVwxA4lgXt9HgE0BSSZ2AJuIbQAMJih9jjiNA5q4l5INuK0AwTKYKRj0zQNv5fmq8/DpAaCJseHrtQkB/+zpwzoxKQM3MzMzMeFJAZmZmZmZqWEAAAAAAAFxeQM3MzMzMJmJAmpmZmZkfZUBmZmZmZhhoQDMzMzMzEWtAAAAAAAAKbkBmZmZmZoFwQM3MzMzM/XFAMzMzMzN6c0CamZmZmfZ0QAAAAAAAc3ZAZmZmZmbvd0DNzMzMzGt5QDMzMzMz6HpAmpmZmZlkfEAAAAAAAOF9QGZmZmZmXX9AZmZmZuZsgECamZmZGSuBQM3MzMxM6YFAAAAAAICngkAzMzMzs2WDQGZmZmbmI4RAmpmZmRnihEDNzMzMTKCFQAAAAACAXoZAMzMzM7Mch0BmZmZm5tqHQJqZmZkZmYhAzczMzExXiUAAAAAAgBWKQDMzMzOz04pAZmZmZuaRi0CamZmZGVCMQM3MzMxMDo1AAAAAAIDMjUAzMzMzs4qOQGZmZmbmSI9A\",\"dtype\":\"float64\",\"shape\":[75]}}},\"id\":\"6750a31d-61ea-4bdb-85ad-7afc263510b7\",\"type\":\"ColumnDataSource\"},{\"attributes\":{\"dimension\":1,\"plot\":{\"id\":\"62c8b7f0-a1a4-4217-8cca-ca6a1f93aa0c\",\"subtype\":\"Figure\",\"type\":\"Plot\"},\"ticker\":{\"id\":\"042d6bf0-a2f7-4c84-bfab-aa78c518ebad\",\"type\":\"LogTicker\"}},\"id\":\"8d50dd8a-7179-40e2-9491-983dadfc5c2b\",\"type\":\"Grid\"}],\"root_ids\":[\"4e4a690e-3e84-4ef4-83a5-b017090dcf2c\"]},\"title\":\"Bokeh Application\",\"version\":\"0.12.14\"}};\n",
       "  var render_items = [{\"docid\":\"03f09848-2145-4001-a8d3-629867f7a45f\",\"elementid\":\"b58a1166-920e-4507-82ad-61151d963124\",\"modelid\":\"4e4a690e-3e84-4ef4-83a5-b017090dcf2c\"}];\n",
       "  root.Bokeh.embed.embed_items_notebook(docs_json, render_items);\n",
       "\n",
       "  }\n",
       "  if (root.Bokeh !== undefined) {\n",
       "    embed_document(root);\n",
       "  } else {\n",
       "    var attempts = 0;\n",
       "    var timer = setInterval(function(root) {\n",
       "      if (root.Bokeh !== undefined) {\n",
       "        embed_document(root);\n",
       "        clearInterval(timer);\n",
       "      }\n",
       "      attempts++;\n",
       "      if (attempts > 100) {\n",
       "        console.log(\"Bokeh: ERROR: Unable to run BokehJS code because BokehJS library is missing\")\n",
       "        clearInterval(timer);\n",
       "      }\n",
       "    }, 10, root)\n",
       "  }\n",
       "})(window);"
      ],
      "application/vnd.bokehjs_exec.v0+json": ""
     },
     "metadata": {
      "application/vnd.bokehjs_exec.v0+json": {
       "id": "4e4a690e-3e84-4ef4-83a5-b017090dcf2c"
      }
     },
     "output_type": "display_data"
    },
    {
     "name": "stdout",
     "output_type": "stream",
     "text": [
      "FIGURE. Cooling rate profiles.\n"
     ]
    },
    {
     "data": {
      "text/html": [
       "<a id=\"Flux_Comparison\"></a>"
      ],
      "text/plain": [
       "<IPython.core.display.HTML object>"
      ]
     },
     "metadata": {},
     "output_type": "display_data"
    },
    {
     "data": {
      "text/markdown": [
       "# Flux Comparison"
      ],
      "text/plain": [
       "<IPython.core.display.Markdown object>"
      ]
     },
     "metadata": {},
     "output_type": "display_data"
    },
    {
     "data": {
      "text/html": [
       "<div>\n",
       "<style>\n",
       "    .dataframe thead tr:only-child th {\n",
       "        text-align: right;\n",
       "    }\n",
       "\n",
       "    .dataframe thead th {\n",
       "        text-align: left;\n",
       "    }\n",
       "\n",
       "    .dataframe tbody tr th {\n",
       "        vertical-align: top;\n",
       "    }\n",
       "</style>\n",
       "<table border=\"1\" class=\"dataframe\">\n",
       "  <thead>\n",
       "    <tr style=\"text-align: right;\">\n",
       "      <th></th>\n",
       "      <th></th>\n",
       "      <th>flug</th>\n",
       "      <th>fldg</th>\n",
       "      <th>fnetg</th>\n",
       "    </tr>\n",
       "    <tr>\n",
       "      <th>pressure</th>\n",
       "      <th>level</th>\n",
       "      <th></th>\n",
       "      <th></th>\n",
       "      <th></th>\n",
       "    </tr>\n",
       "  </thead>\n",
       "  <tbody>\n",
       "    <tr>\n",
       "      <th>0.0000</th>\n",
       "      <th>1</th>\n",
       "      <td>-29.609843</td>\n",
       "      <td>0.000000</td>\n",
       "      <td>-29.609843</td>\n",
       "    </tr>\n",
       "    <tr>\n",
       "      <th>1.0685</th>\n",
       "      <th>24</th>\n",
       "      <td>-29.617427</td>\n",
       "      <td>0.067539</td>\n",
       "      <td>-29.549889</td>\n",
       "    </tr>\n",
       "    <tr>\n",
       "      <th>1013.0000</th>\n",
       "      <th>76</th>\n",
       "      <td>-36.235408</td>\n",
       "      <td>16.815622</td>\n",
       "      <td>-19.419786</td>\n",
       "    </tr>\n",
       "  </tbody>\n",
       "</table>\n",
       "</div>"
      ],
      "text/plain": [
       "                      flug       fldg      fnetg\n",
       "pressure  level                                 \n",
       "0.0000    1     -29.609843   0.000000 -29.609843\n",
       "1.0685    24    -29.617427   0.067539 -29.549889\n",
       "1013.0000 76    -36.235408  16.815622 -19.419786"
      ]
     },
     "metadata": {},
     "output_type": "display_data"
    },
    {
     "name": "stdout",
     "output_type": "stream",
     "text": [
      "Table. Fluxes. WGT igg=10 wgt_flux=1\n"
     ]
    },
    {
     "data": {
      "text/html": [
       "<div>\n",
       "<style>\n",
       "    .dataframe thead tr:only-child th {\n",
       "        text-align: right;\n",
       "    }\n",
       "\n",
       "    .dataframe thead th {\n",
       "        text-align: left;\n",
       "    }\n",
       "\n",
       "    .dataframe tbody tr th {\n",
       "        vertical-align: top;\n",
       "    }\n",
       "</style>\n",
       "<table border=\"1\" class=\"dataframe\">\n",
       "  <thead>\n",
       "    <tr style=\"text-align: right;\">\n",
       "      <th></th>\n",
       "      <th></th>\n",
       "      <th>flug</th>\n",
       "      <th>fldg</th>\n",
       "      <th>fnetg</th>\n",
       "    </tr>\n",
       "    <tr>\n",
       "      <th>pressure</th>\n",
       "      <th>level</th>\n",
       "      <th></th>\n",
       "      <th></th>\n",
       "      <th></th>\n",
       "    </tr>\n",
       "  </thead>\n",
       "  <tbody>\n",
       "    <tr>\n",
       "      <th>0.0000</th>\n",
       "      <th>1</th>\n",
       "      <td>-29.581934</td>\n",
       "      <td>0.000000</td>\n",
       "      <td>-29.581934</td>\n",
       "    </tr>\n",
       "    <tr>\n",
       "      <th>1.0685</th>\n",
       "      <th>24</th>\n",
       "      <td>-29.591321</td>\n",
       "      <td>0.072834</td>\n",
       "      <td>-29.518487</td>\n",
       "    </tr>\n",
       "    <tr>\n",
       "      <th>1013.0000</th>\n",
       "      <th>76</th>\n",
       "      <td>-36.235408</td>\n",
       "      <td>16.757329</td>\n",
       "      <td>-19.478079</td>\n",
       "    </tr>\n",
       "  </tbody>\n",
       "</table>\n",
       "</div>"
      ],
      "text/plain": [
       "                      flug       fldg      fnetg\n",
       "pressure  level                                 \n",
       "0.0000    1     -29.581934   0.000000 -29.581934\n",
       "1.0685    24    -29.591321   0.072834 -29.518487\n",
       "1013.0000 76    -36.235408  16.757329 -19.478079"
      ]
     },
     "metadata": {},
     "output_type": "display_data"
    },
    {
     "name": "stdout",
     "output_type": "stream",
     "text": [
      "Table. Fluxes. CRD\n"
     ]
    },
    {
     "data": {
      "text/html": [
       "<div>\n",
       "<style>\n",
       "    .dataframe thead tr:only-child th {\n",
       "        text-align: right;\n",
       "    }\n",
       "\n",
       "    .dataframe thead th {\n",
       "        text-align: left;\n",
       "    }\n",
       "\n",
       "    .dataframe tbody tr th {\n",
       "        vertical-align: top;\n",
       "    }\n",
       "</style>\n",
       "<table border=\"1\" class=\"dataframe\">\n",
       "  <thead>\n",
       "    <tr style=\"text-align: right;\">\n",
       "      <th></th>\n",
       "      <th></th>\n",
       "      <th>flug</th>\n",
       "      <th>fldg</th>\n",
       "      <th>fnetg</th>\n",
       "    </tr>\n",
       "    <tr>\n",
       "      <th>pressure</th>\n",
       "      <th>level</th>\n",
       "      <th></th>\n",
       "      <th></th>\n",
       "      <th></th>\n",
       "    </tr>\n",
       "  </thead>\n",
       "  <tbody>\n",
       "    <tr>\n",
       "      <th>1.000000e-08</th>\n",
       "      <th>1</th>\n",
       "      <td>-29.702361</td>\n",
       "      <td>0.000002</td>\n",
       "      <td>-29.702359</td>\n",
       "    </tr>\n",
       "    <tr>\n",
       "      <th>1.068500e+00</th>\n",
       "      <th>24</th>\n",
       "      <td>-29.709350</td>\n",
       "      <td>0.064914</td>\n",
       "      <td>-29.644437</td>\n",
       "    </tr>\n",
       "    <tr>\n",
       "      <th>1.013000e+03</th>\n",
       "      <th>76</th>\n",
       "      <td>-36.235410</td>\n",
       "      <td>16.839945</td>\n",
       "      <td>-19.395465</td>\n",
       "    </tr>\n",
       "  </tbody>\n",
       "</table>\n",
       "</div>"
      ],
      "text/plain": [
       "                         flug       fldg      fnetg\n",
       "pressure     level                                 \n",
       "1.000000e-08 1     -29.702361   0.000002 -29.702359\n",
       "1.068500e+00 24    -29.709350   0.064914 -29.644437\n",
       "1.013000e+03 76    -36.235410  16.839945 -19.395465"
      ]
     },
     "metadata": {},
     "output_type": "display_data"
    },
    {
     "name": "stdout",
     "output_type": "stream",
     "text": [
      "Table. Fluxes. CLIRAD\n"
     ]
    },
    {
     "data": {
      "text/html": [
       "<div>\n",
       "<style>\n",
       "    .dataframe thead tr:only-child th {\n",
       "        text-align: right;\n",
       "    }\n",
       "\n",
       "    .dataframe thead th {\n",
       "        text-align: left;\n",
       "    }\n",
       "\n",
       "    .dataframe tbody tr th {\n",
       "        vertical-align: top;\n",
       "    }\n",
       "</style>\n",
       "<table border=\"1\" class=\"dataframe\">\n",
       "  <thead>\n",
       "    <tr style=\"text-align: right;\">\n",
       "      <th></th>\n",
       "      <th></th>\n",
       "      <th>flug</th>\n",
       "      <th>fldg</th>\n",
       "      <th>fnetg</th>\n",
       "    </tr>\n",
       "    <tr>\n",
       "      <th>pressure</th>\n",
       "      <th>level</th>\n",
       "      <th></th>\n",
       "      <th></th>\n",
       "      <th></th>\n",
       "    </tr>\n",
       "  </thead>\n",
       "  <tbody>\n",
       "    <tr>\n",
       "      <th>0.0000</th>\n",
       "      <th>1</th>\n",
       "      <td>2.790911e-02</td>\n",
       "      <td>0.000000</td>\n",
       "      <td>0.027909</td>\n",
       "    </tr>\n",
       "    <tr>\n",
       "      <th>1.0685</th>\n",
       "      <th>24</th>\n",
       "      <td>2.610649e-02</td>\n",
       "      <td>0.005295</td>\n",
       "      <td>0.031402</td>\n",
       "    </tr>\n",
       "    <tr>\n",
       "      <th>1013.0000</th>\n",
       "      <th>76</th>\n",
       "      <td>4.190000e-07</td>\n",
       "      <td>-0.058293</td>\n",
       "      <td>-0.058293</td>\n",
       "    </tr>\n",
       "  </tbody>\n",
       "</table>\n",
       "</div>"
      ],
      "text/plain": [
       "                         flug      fldg     fnetg\n",
       "pressure  level                                  \n",
       "0.0000    1      2.790911e-02  0.000000  0.027909\n",
       "1.0685    24     2.610649e-02  0.005295  0.031402\n",
       "1013.0000 76     4.190000e-07 -0.058293 -0.058293"
      ]
     },
     "metadata": {},
     "output_type": "display_data"
    },
    {
     "name": "stdout",
     "output_type": "stream",
     "text": [
      "Table. Fluxes. (CRD) - (WGT igg=10 wgt_flux=1)\n"
     ]
    },
    {
     "data": {
      "text/html": [
       "<div>\n",
       "<style>\n",
       "    .dataframe thead tr:only-child th {\n",
       "        text-align: right;\n",
       "    }\n",
       "\n",
       "    .dataframe thead th {\n",
       "        text-align: left;\n",
       "    }\n",
       "\n",
       "    .dataframe tbody tr th {\n",
       "        vertical-align: top;\n",
       "    }\n",
       "</style>\n",
       "<table border=\"1\" class=\"dataframe\">\n",
       "  <thead>\n",
       "    <tr style=\"text-align: right;\">\n",
       "      <th></th>\n",
       "      <th></th>\n",
       "      <th>flug</th>\n",
       "      <th>fldg</th>\n",
       "      <th>fnetg</th>\n",
       "    </tr>\n",
       "    <tr>\n",
       "      <th>pressure</th>\n",
       "      <th>level</th>\n",
       "      <th></th>\n",
       "      <th></th>\n",
       "      <th></th>\n",
       "    </tr>\n",
       "  </thead>\n",
       "  <tbody>\n",
       "    <tr>\n",
       "      <th>0.0000</th>\n",
       "      <th>1</th>\n",
       "      <td>-0.092518</td>\n",
       "      <td>0.000002</td>\n",
       "      <td>-0.092516</td>\n",
       "    </tr>\n",
       "    <tr>\n",
       "      <th>1.0685</th>\n",
       "      <th>24</th>\n",
       "      <td>-0.091923</td>\n",
       "      <td>-0.002625</td>\n",
       "      <td>-0.094548</td>\n",
       "    </tr>\n",
       "    <tr>\n",
       "      <th>1013.0000</th>\n",
       "      <th>76</th>\n",
       "      <td>-0.000002</td>\n",
       "      <td>0.024323</td>\n",
       "      <td>0.024321</td>\n",
       "    </tr>\n",
       "  </tbody>\n",
       "</table>\n",
       "</div>"
      ],
      "text/plain": [
       "                     flug      fldg     fnetg\n",
       "pressure  level                              \n",
       "0.0000    1     -0.092518  0.000002 -0.092516\n",
       "1.0685    24    -0.091923 -0.002625 -0.094548\n",
       "1013.0000 76    -0.000002  0.024323  0.024321"
      ]
     },
     "metadata": {},
     "output_type": "display_data"
    },
    {
     "name": "stdout",
     "output_type": "stream",
     "text": [
      "Table. Fluxes. (CLIRAD) - (WGT igg=10 wgt_flux=1)\n"
     ]
    },
    {
     "data": {
      "text/html": [
       "<a id=\"Best-fit_Parameters\"></a>"
      ],
      "text/plain": [
       "<IPython.core.display.HTML object>"
      ]
     },
     "metadata": {},
     "output_type": "display_data"
    },
    {
     "data": {
      "text/markdown": [
       "# Best-fit Parameters"
      ],
      "text/plain": [
       "<IPython.core.display.Markdown object>"
      ]
     },
     "metadata": {},
     "output_type": "display_data"
    },
    {
     "name": "stdout",
     "output_type": "stream",
     "text": [
      "Best-fit values for each (gas, band)\n",
      "------------------------------------\n",
      "o co2 band3a\n",
      "  atmpro = mls\n",
      "  band = 3a\n",
      "  commitnumber = a06b618\n",
      "  conc = 0.0004\n",
      "  dv = 0.001\n",
      "  klin = 6.375563e-24\n",
      "  molecule = co2\n",
      "  ng_adju = [0, 0, 0]\n",
      "  ng_refs = [3, 2, 4]\n",
      "  nv = 1000\n",
      "  option_compute_btable = 0\n",
      "  option_compute_ktable = 1\n",
      "  option_wgt_flux = 1\n",
      "  option_wgt_k = 1\n",
      "  ref_pts = [(1, 250), (10, 250), (500, 250)]\n",
      "  tsfc = 294\n",
      "  vmax = 620\n",
      "  vmin = 540\n",
      "  w_diffuse = [(1.6, 1.6, 1.7), (1.75, 1.75), (1.55, 1.55, 1.6, 1.85)]\n",
      "  wgt = [(0.7, 0.3, 0.7), (0.7, 0.6), (0.4, 0.5, 0.8, 0.95)]\n"
     ]
    }
   ],
   "source": [
    "script()"
   ]
  },
  {
   "cell_type": "code",
   "execution_count": 13,
   "metadata": {
    "collapsed": true
   },
   "outputs": [
    {
     "data": {
      "text/html": [
       "<script>\n",
       "code_show=true; \n",
       "function code_toggle() {\n",
       " if (code_show){\n",
       " $('div.input').hide();\n",
       " } else {\n",
       " $('div.input').show();\n",
       " }\n",
       " code_show = !code_show\n",
       "} \n",
       "$( document ).ready(code_toggle);\n",
       "</script>\n",
       "<form action=\"javascript:code_toggle()\"><input type=\"submit\" value=\"Click here to toggle on/off the raw code.\"></form>"
      ],
      "text/plain": [
       "<IPython.core.display.HTML object>"
      ]
     },
     "execution_count": 13,
     "metadata": {},
     "output_type": "execute_result"
    }
   ],
   "source": [
    "display.HTML('''<script>\n",
    "code_show=true; \n",
    "function code_toggle() {\n",
    " if (code_show){\n",
    " $('div.input').hide();\n",
    " } else {\n",
    " $('div.input').show();\n",
    " }\n",
    " code_show = !code_show\n",
    "} \n",
    "$( document ).ready(code_toggle);\n",
    "</script>\n",
    "<form action=\"javascript:code_toggle()\"><input type=\"submit\" value=\"Click here to toggle on/off the raw code.\"></form>''')"
   ]
  }
 ],
 "metadata": {
  "kernelspec": {
   "display_name": "Python 3",
   "language": "python",
   "name": "python3"
  },
  "language_info": {
   "codemirror_mode": {
    "name": "ipython",
    "version": 3
   },
   "file_extension": ".py",
   "mimetype": "text/x-python",
   "name": "python",
   "nbconvert_exporter": "python",
   "pygments_lexer": "ipython3",
   "version": "3.6.1"
  }
 },
 "nbformat": 4,
 "nbformat_minor": 2
}
