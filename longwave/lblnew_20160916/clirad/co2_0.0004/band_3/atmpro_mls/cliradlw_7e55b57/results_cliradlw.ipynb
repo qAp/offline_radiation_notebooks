{
 "cells": [
  {
   "cell_type": "code",
   "execution_count": 1,
   "metadata": {
    "collapsed": true
   },
   "outputs": [],
   "source": [
    "%matplotlib inline\n",
    "import os\n",
    "import re\n",
    "import io\n",
    "import itertools\n",
    "import pprint\n",
    "\n",
    "from bokeh.io import output_notebook, show\n",
    "from bokeh.layouts import gridplot\n",
    "from bokeh.plotting import figure\n",
    "from bokeh.models import Range1d, Legend\n",
    "from bokeh.palettes import all_palettes\n",
    "\n",
    "import matplotlib\n",
    "import matplotlib.pyplot as plt\n",
    "import numpy as np\n",
    "import pandas as pd\n",
    "import xarray as xr\n",
    "\n",
    "import climatools.lblnew.bestfit_params as bestfits\n",
    "from climatools.lblnew import setup_bestfit, setup_overlap\n",
    "import climatools.lblnew.pipeline as pipe_lblnew\n",
    "import climatools.cliradlw.setup as setup_cliradlw\n",
    "import climatools.cliradlw.pipeline as pipe_cliradlw\n",
    "\n",
    "import climatools.html.html as climahtml\n",
    "from climatools.lblnew.dataio import *\n",
    "from climatools.plot.plot import *\n",
    "\n",
    "\n",
    "import IPython.display as display"
   ]
  },
  {
   "cell_type": "code",
   "execution_count": 2,
   "metadata": {
    "collapsed": true
   },
   "outputs": [],
   "source": [
    "%run param.py"
   ]
  },
  {
   "cell_type": "code",
   "execution_count": 3,
   "metadata": {
    "collapsed": true
   },
   "outputs": [
    {
     "name": "stdout",
     "output_type": "stream",
     "text": [
      "The history saving thread hit an unexpected error (OperationalError('database is locked',)).History will not be written to the database.\n"
     ]
    }
   ],
   "source": [
    "def load_output_file(path_csv):\n",
    "    '''\n",
    "    Load lblnew output .csv file to xarray.Dataset\n",
    "    \n",
    "    Parameters\n",
    "    ----------\n",
    "    path_csv: str\n",
    "              Path to the .csv file to be loaded.\n",
    "    ds: xarray.Dataset\n",
    "        Data in the input file in the form of an xarray.Dataset.\n",
    "    '''\n",
    "    toindex = ['band', 'pressure', 'igg', 'g']    \n",
    "    df = pd.read_csv(path_csv, sep=r'\\s+')\n",
    "    df = df.set_index([i for i in toindex if i in df.columns])\n",
    "    df = df.rename(columns={'sfu': 'flug',\n",
    "                            'sfd': 'fldg',\n",
    "                            'fnet': 'fnetg',\n",
    "                            'coolr': 'coolrg'})\n",
    "    ds = xr.Dataset.from_dataframe(df)\n",
    "\n",
    "    for l in ('level', 'layer'):\n",
    "        if l in ds.data_vars:\n",
    "            if len(ds[l].dims) > 1:\n",
    "                surface = {d: 0 for d in ds.dims if d != 'pressure'}\n",
    "                coord_level = ds[l][surface]\n",
    "                ds.coords[l] = ('pressure', coord_level)\n",
    "            else:\n",
    "                ds.coords[l] = ('pressure', ds[l])\n",
    "    \n",
    "    return ds"
   ]
  },
  {
   "cell_type": "code",
   "execution_count": 4,
   "metadata": {
    "collapsed": true
   },
   "outputs": [],
   "source": [
    "def lblnew_setup(param=None):\n",
    "    if 'ng_refs' in param:\n",
    "        return {'setup': setup_bestfit,\n",
    "                'fname_flux_crd': 'output_flux.dat',\n",
    "                'fname_cool_crd': 'output_coolr.dat',\n",
    "                'fname_flux_wgt': 'output_wfluxg.dat',\n",
    "                'fname_cool_wgt': 'output_wcoolrg.dat'}\n",
    "    else:\n",
    "        return {'setup': setup_overlap,\n",
    "                'fname_flux_crd': 'output_flux.dat',\n",
    "                'fname_cool_crd': 'output_coolr.dat',\n",
    "                'fname_flux_wgt': 'output_wflux.dat',\n",
    "                'fname_cool_wgt': 'output_wcoolr.dat'}\n",
    "\n",
    "    \n",
    "def load_lblnew_data(param):\n",
    "    \n",
    "    fname_dsname = [('fname_flux_crd', 'ds_flux_crd'),\n",
    "                    ('fname_cool_crd', 'ds_cool_crd'),\n",
    "                    ('fname_flux_wgt', 'ds_flux_wgt'),\n",
    "                    ('fname_cool_wgt', 'ds_cool_wgt')]\n",
    "    \n",
    "    d = lblnew_setup(param)\n",
    "    dir_fortran = pipe_lblnew.get_dir_case(param, setup=d['setup'])\n",
    "    \n",
    "    data_dict = {}\n",
    "    for fname, dsname in fname_dsname:\n",
    "        fpath = os.path.join(dir_fortran, d[fname])\n",
    "        data_dict[dsname] = load_output_file(fpath)\n",
    "    return data_dict\n",
    "    \n",
    "\n",
    "    \n",
    "    "
   ]
  },
  {
   "cell_type": "code",
   "execution_count": 5,
   "metadata": {
    "collapsed": true
   },
   "outputs": [],
   "source": [
    "d = load_lblnew_data(PARAM_LBLNEW)\n",
    "\n",
    "DS_FLUX_CRD = d['ds_flux_crd']\n",
    "DS_COOL_CRD = d['ds_cool_crd']\n",
    "DS_FLUX_WGT = d['ds_flux_wgt']\n",
    "DS_COOL_WGT = d['ds_cool_wgt']"
   ]
  },
  {
   "cell_type": "code",
   "execution_count": 6,
   "metadata": {
    "collapsed": true
   },
   "outputs": [],
   "source": [
    "DIR_FORTRAN = pipe_cliradlw.get_fortran_dir(PARAM, \n",
    "                                            setup=setup_cliradlw)\n",
    "\n",
    "PATH_FLUX = os.path.join(DIR_FORTRAN, 'output_flux.dat')\n",
    "PATH_COOL = os.path.join(DIR_FORTRAN, 'output_coolr.dat')\n",
    "\n",
    "DS_FLUX = load_output_file(PATH_FLUX)\n",
    "DS_COOL = load_output_file(PATH_COOL)"
   ]
  },
  {
   "cell_type": "code",
   "execution_count": 7,
   "metadata": {
    "collapsed": true
   },
   "outputs": [
    {
     "data": {
      "text/html": [
       "\n",
       "    <div class=\"bk-root\">\n",
       "        <a href=\"https://bokeh.pydata.org\" target=\"_blank\" class=\"bk-logo bk-logo-small bk-logo-notebook\"></a>\n",
       "        <span id=\"0bbe326e-5b42-4ba3-8320-ffcc0d9cae56\">Loading BokehJS ...</span>\n",
       "    </div>"
      ]
     },
     "metadata": {},
     "output_type": "display_data"
    },
    {
     "data": {
      "application/javascript": [
       "\n",
       "(function(root) {\n",
       "  function now() {\n",
       "    return new Date();\n",
       "  }\n",
       "\n",
       "  var force = true;\n",
       "\n",
       "  if (typeof (root._bokeh_onload_callbacks) === \"undefined\" || force === true) {\n",
       "    root._bokeh_onload_callbacks = [];\n",
       "    root._bokeh_is_loading = undefined;\n",
       "  }\n",
       "\n",
       "  var JS_MIME_TYPE = 'application/javascript';\n",
       "  var HTML_MIME_TYPE = 'text/html';\n",
       "  var EXEC_MIME_TYPE = 'application/vnd.bokehjs_exec.v0+json';\n",
       "  var CLASS_NAME = 'output_bokeh rendered_html';\n",
       "\n",
       "  /**\n",
       "   * Render data to the DOM node\n",
       "   */\n",
       "  function render(props, node) {\n",
       "    var script = document.createElement(\"script\");\n",
       "    node.appendChild(script);\n",
       "  }\n",
       "\n",
       "  /**\n",
       "   * Handle when an output is cleared or removed\n",
       "   */\n",
       "  function handleClearOutput(event, handle) {\n",
       "    var cell = handle.cell;\n",
       "\n",
       "    var id = cell.output_area._bokeh_element_id;\n",
       "    var server_id = cell.output_area._bokeh_server_id;\n",
       "    // Clean up Bokeh references\n",
       "    if (id !== undefined) {\n",
       "      Bokeh.index[id].model.document.clear();\n",
       "      delete Bokeh.index[id];\n",
       "    }\n",
       "\n",
       "    if (server_id !== undefined) {\n",
       "      // Clean up Bokeh references\n",
       "      var cmd = \"from bokeh.io.state import curstate; print(curstate().uuid_to_server['\" + server_id + \"'].get_sessions()[0].document.roots[0]._id)\";\n",
       "      cell.notebook.kernel.execute(cmd, {\n",
       "        iopub: {\n",
       "          output: function(msg) {\n",
       "            var element_id = msg.content.text.trim();\n",
       "            Bokeh.index[element_id].model.document.clear();\n",
       "            delete Bokeh.index[element_id];\n",
       "          }\n",
       "        }\n",
       "      });\n",
       "      // Destroy server and session\n",
       "      var cmd = \"import bokeh.io.notebook as ion; ion.destroy_server('\" + server_id + \"')\";\n",
       "      cell.notebook.kernel.execute(cmd);\n",
       "    }\n",
       "  }\n",
       "\n",
       "  /**\n",
       "   * Handle when a new output is added\n",
       "   */\n",
       "  function handleAddOutput(event, handle) {\n",
       "    var output_area = handle.output_area;\n",
       "    var output = handle.output;\n",
       "\n",
       "    // limit handleAddOutput to display_data with EXEC_MIME_TYPE content only\n",
       "    if ((output.output_type != \"display_data\") || (!output.data.hasOwnProperty(EXEC_MIME_TYPE))) {\n",
       "      return\n",
       "    }\n",
       "\n",
       "    var toinsert = output_area.element.find(\".\" + CLASS_NAME.split(' ')[0]);\n",
       "\n",
       "    if (output.metadata[EXEC_MIME_TYPE][\"id\"] !== undefined) {\n",
       "      toinsert[0].firstChild.textContent = output.data[JS_MIME_TYPE];\n",
       "      // store reference to embed id on output_area\n",
       "      output_area._bokeh_element_id = output.metadata[EXEC_MIME_TYPE][\"id\"];\n",
       "    }\n",
       "    if (output.metadata[EXEC_MIME_TYPE][\"server_id\"] !== undefined) {\n",
       "      var bk_div = document.createElement(\"div\");\n",
       "      bk_div.innerHTML = output.data[HTML_MIME_TYPE];\n",
       "      var script_attrs = bk_div.children[0].attributes;\n",
       "      for (var i = 0; i < script_attrs.length; i++) {\n",
       "        toinsert[0].firstChild.setAttribute(script_attrs[i].name, script_attrs[i].value);\n",
       "      }\n",
       "      // store reference to server id on output_area\n",
       "      output_area._bokeh_server_id = output.metadata[EXEC_MIME_TYPE][\"server_id\"];\n",
       "    }\n",
       "  }\n",
       "\n",
       "  function register_renderer(events, OutputArea) {\n",
       "\n",
       "    function append_mime(data, metadata, element) {\n",
       "      // create a DOM node to render to\n",
       "      var toinsert = this.create_output_subarea(\n",
       "        metadata,\n",
       "        CLASS_NAME,\n",
       "        EXEC_MIME_TYPE\n",
       "      );\n",
       "      this.keyboard_manager.register_events(toinsert);\n",
       "      // Render to node\n",
       "      var props = {data: data, metadata: metadata[EXEC_MIME_TYPE]};\n",
       "      render(props, toinsert[0]);\n",
       "      element.append(toinsert);\n",
       "      return toinsert\n",
       "    }\n",
       "\n",
       "    /* Handle when an output is cleared or removed */\n",
       "    events.on('clear_output.CodeCell', handleClearOutput);\n",
       "    events.on('delete.Cell', handleClearOutput);\n",
       "\n",
       "    /* Handle when a new output is added */\n",
       "    events.on('output_added.OutputArea', handleAddOutput);\n",
       "\n",
       "    /**\n",
       "     * Register the mime type and append_mime function with output_area\n",
       "     */\n",
       "    OutputArea.prototype.register_mime_type(EXEC_MIME_TYPE, append_mime, {\n",
       "      /* Is output safe? */\n",
       "      safe: true,\n",
       "      /* Index of renderer in `output_area.display_order` */\n",
       "      index: 0\n",
       "    });\n",
       "  }\n",
       "\n",
       "  // register the mime type if in Jupyter Notebook environment and previously unregistered\n",
       "  if (root.Jupyter !== undefined) {\n",
       "    var events = require('base/js/events');\n",
       "    var OutputArea = require('notebook/js/outputarea').OutputArea;\n",
       "\n",
       "    if (OutputArea.prototype.mime_types().indexOf(EXEC_MIME_TYPE) == -1) {\n",
       "      register_renderer(events, OutputArea);\n",
       "    }\n",
       "  }\n",
       "\n",
       "  \n",
       "  if (typeof (root._bokeh_timeout) === \"undefined\" || force === true) {\n",
       "    root._bokeh_timeout = Date.now() + 5000;\n",
       "    root._bokeh_failed_load = false;\n",
       "  }\n",
       "\n",
       "  var NB_LOAD_WARNING = {'data': {'text/html':\n",
       "     \"<div style='background-color: #fdd'>\\n\"+\n",
       "     \"<p>\\n\"+\n",
       "     \"BokehJS does not appear to have successfully loaded. If loading BokehJS from CDN, this \\n\"+\n",
       "     \"may be due to a slow or bad network connection. Possible fixes:\\n\"+\n",
       "     \"</p>\\n\"+\n",
       "     \"<ul>\\n\"+\n",
       "     \"<li>re-rerun `output_notebook()` to attempt to load from CDN again, or</li>\\n\"+\n",
       "     \"<li>use INLINE resources instead, as so:</li>\\n\"+\n",
       "     \"</ul>\\n\"+\n",
       "     \"<code>\\n\"+\n",
       "     \"from bokeh.resources import INLINE\\n\"+\n",
       "     \"output_notebook(resources=INLINE)\\n\"+\n",
       "     \"</code>\\n\"+\n",
       "     \"</div>\"}};\n",
       "\n",
       "  function display_loaded() {\n",
       "    var el = document.getElementById(\"0bbe326e-5b42-4ba3-8320-ffcc0d9cae56\");\n",
       "    if (el != null) {\n",
       "      el.textContent = \"BokehJS is loading...\";\n",
       "    }\n",
       "    if (root.Bokeh !== undefined) {\n",
       "      if (el != null) {\n",
       "        el.textContent = \"BokehJS \" + root.Bokeh.version + \" successfully loaded.\";\n",
       "      }\n",
       "    } else if (Date.now() < root._bokeh_timeout) {\n",
       "      setTimeout(display_loaded, 100)\n",
       "    }\n",
       "  }\n",
       "\n",
       "\n",
       "  function run_callbacks() {\n",
       "    try {\n",
       "      root._bokeh_onload_callbacks.forEach(function(callback) { callback() });\n",
       "    }\n",
       "    finally {\n",
       "      delete root._bokeh_onload_callbacks\n",
       "    }\n",
       "    console.info(\"Bokeh: all callbacks have finished\");\n",
       "  }\n",
       "\n",
       "  function load_libs(js_urls, callback) {\n",
       "    root._bokeh_onload_callbacks.push(callback);\n",
       "    if (root._bokeh_is_loading > 0) {\n",
       "      console.log(\"Bokeh: BokehJS is being loaded, scheduling callback at\", now());\n",
       "      return null;\n",
       "    }\n",
       "    if (js_urls == null || js_urls.length === 0) {\n",
       "      run_callbacks();\n",
       "      return null;\n",
       "    }\n",
       "    console.log(\"Bokeh: BokehJS not loaded, scheduling load and callback at\", now());\n",
       "    root._bokeh_is_loading = js_urls.length;\n",
       "    for (var i = 0; i < js_urls.length; i++) {\n",
       "      var url = js_urls[i];\n",
       "      var s = document.createElement('script');\n",
       "      s.src = url;\n",
       "      s.async = false;\n",
       "      s.onreadystatechange = s.onload = function() {\n",
       "        root._bokeh_is_loading--;\n",
       "        if (root._bokeh_is_loading === 0) {\n",
       "          console.log(\"Bokeh: all BokehJS libraries loaded\");\n",
       "          run_callbacks()\n",
       "        }\n",
       "      };\n",
       "      s.onerror = function() {\n",
       "        console.warn(\"failed to load library \" + url);\n",
       "      };\n",
       "      console.log(\"Bokeh: injecting script tag for BokehJS library: \", url);\n",
       "      document.getElementsByTagName(\"head\")[0].appendChild(s);\n",
       "    }\n",
       "  };var element = document.getElementById(\"0bbe326e-5b42-4ba3-8320-ffcc0d9cae56\");\n",
       "  if (element == null) {\n",
       "    console.log(\"Bokeh: ERROR: autoload.js configured with elementid '0bbe326e-5b42-4ba3-8320-ffcc0d9cae56' but no matching script tag was found. \")\n",
       "    return false;\n",
       "  }\n",
       "\n",
       "  var js_urls = [\"https://cdn.pydata.org/bokeh/release/bokeh-0.12.14.min.js\", \"https://cdn.pydata.org/bokeh/release/bokeh-widgets-0.12.14.min.js\", \"https://cdn.pydata.org/bokeh/release/bokeh-tables-0.12.14.min.js\", \"https://cdn.pydata.org/bokeh/release/bokeh-gl-0.12.14.min.js\"];\n",
       "\n",
       "  var inline_js = [\n",
       "    function(Bokeh) {\n",
       "      Bokeh.set_log_level(\"info\");\n",
       "    },\n",
       "    \n",
       "    function(Bokeh) {\n",
       "      \n",
       "    },\n",
       "    function(Bokeh) {\n",
       "      console.log(\"Bokeh: injecting CSS: https://cdn.pydata.org/bokeh/release/bokeh-0.12.14.min.css\");\n",
       "      Bokeh.embed.inject_css(\"https://cdn.pydata.org/bokeh/release/bokeh-0.12.14.min.css\");\n",
       "      console.log(\"Bokeh: injecting CSS: https://cdn.pydata.org/bokeh/release/bokeh-widgets-0.12.14.min.css\");\n",
       "      Bokeh.embed.inject_css(\"https://cdn.pydata.org/bokeh/release/bokeh-widgets-0.12.14.min.css\");\n",
       "      console.log(\"Bokeh: injecting CSS: https://cdn.pydata.org/bokeh/release/bokeh-tables-0.12.14.min.css\");\n",
       "      Bokeh.embed.inject_css(\"https://cdn.pydata.org/bokeh/release/bokeh-tables-0.12.14.min.css\");\n",
       "    }\n",
       "  ];\n",
       "\n",
       "  function run_inline_js() {\n",
       "    \n",
       "    if ((root.Bokeh !== undefined) || (force === true)) {\n",
       "      for (var i = 0; i < inline_js.length; i++) {\n",
       "        inline_js[i].call(root, root.Bokeh);\n",
       "      }if (force === true) {\n",
       "        display_loaded();\n",
       "      }} else if (Date.now() < root._bokeh_timeout) {\n",
       "      setTimeout(run_inline_js, 100);\n",
       "    } else if (!root._bokeh_failed_load) {\n",
       "      console.log(\"Bokeh: BokehJS failed to load within specified timeout.\");\n",
       "      root._bokeh_failed_load = true;\n",
       "    } else if (force !== true) {\n",
       "      var cell = $(document.getElementById(\"0bbe326e-5b42-4ba3-8320-ffcc0d9cae56\")).parents('.cell').data().cell;\n",
       "      cell.output_area.append_execute_result(NB_LOAD_WARNING)\n",
       "    }\n",
       "\n",
       "  }\n",
       "\n",
       "  if (root._bokeh_is_loading === 0) {\n",
       "    console.log(\"Bokeh: BokehJS loaded, going straight to plotting\");\n",
       "    run_inline_js();\n",
       "  } else {\n",
       "    load_libs(js_urls, function() {\n",
       "      console.log(\"Bokeh: BokehJS plotting callback run at\", now());\n",
       "      run_inline_js();\n",
       "    });\n",
       "  }\n",
       "}(window));"
      ],
      "application/vnd.bokehjs_load.v0+json": "\n(function(root) {\n  function now() {\n    return new Date();\n  }\n\n  var force = true;\n\n  if (typeof (root._bokeh_onload_callbacks) === \"undefined\" || force === true) {\n    root._bokeh_onload_callbacks = [];\n    root._bokeh_is_loading = undefined;\n  }\n\n  \n\n  \n  if (typeof (root._bokeh_timeout) === \"undefined\" || force === true) {\n    root._bokeh_timeout = Date.now() + 5000;\n    root._bokeh_failed_load = false;\n  }\n\n  var NB_LOAD_WARNING = {'data': {'text/html':\n     \"<div style='background-color: #fdd'>\\n\"+\n     \"<p>\\n\"+\n     \"BokehJS does not appear to have successfully loaded. If loading BokehJS from CDN, this \\n\"+\n     \"may be due to a slow or bad network connection. Possible fixes:\\n\"+\n     \"</p>\\n\"+\n     \"<ul>\\n\"+\n     \"<li>re-rerun `output_notebook()` to attempt to load from CDN again, or</li>\\n\"+\n     \"<li>use INLINE resources instead, as so:</li>\\n\"+\n     \"</ul>\\n\"+\n     \"<code>\\n\"+\n     \"from bokeh.resources import INLINE\\n\"+\n     \"output_notebook(resources=INLINE)\\n\"+\n     \"</code>\\n\"+\n     \"</div>\"}};\n\n  function display_loaded() {\n    var el = document.getElementById(\"0bbe326e-5b42-4ba3-8320-ffcc0d9cae56\");\n    if (el != null) {\n      el.textContent = \"BokehJS is loading...\";\n    }\n    if (root.Bokeh !== undefined) {\n      if (el != null) {\n        el.textContent = \"BokehJS \" + root.Bokeh.version + \" successfully loaded.\";\n      }\n    } else if (Date.now() < root._bokeh_timeout) {\n      setTimeout(display_loaded, 100)\n    }\n  }\n\n\n  function run_callbacks() {\n    try {\n      root._bokeh_onload_callbacks.forEach(function(callback) { callback() });\n    }\n    finally {\n      delete root._bokeh_onload_callbacks\n    }\n    console.info(\"Bokeh: all callbacks have finished\");\n  }\n\n  function load_libs(js_urls, callback) {\n    root._bokeh_onload_callbacks.push(callback);\n    if (root._bokeh_is_loading > 0) {\n      console.log(\"Bokeh: BokehJS is being loaded, scheduling callback at\", now());\n      return null;\n    }\n    if (js_urls == null || js_urls.length === 0) {\n      run_callbacks();\n      return null;\n    }\n    console.log(\"Bokeh: BokehJS not loaded, scheduling load and callback at\", now());\n    root._bokeh_is_loading = js_urls.length;\n    for (var i = 0; i < js_urls.length; i++) {\n      var url = js_urls[i];\n      var s = document.createElement('script');\n      s.src = url;\n      s.async = false;\n      s.onreadystatechange = s.onload = function() {\n        root._bokeh_is_loading--;\n        if (root._bokeh_is_loading === 0) {\n          console.log(\"Bokeh: all BokehJS libraries loaded\");\n          run_callbacks()\n        }\n      };\n      s.onerror = function() {\n        console.warn(\"failed to load library \" + url);\n      };\n      console.log(\"Bokeh: injecting script tag for BokehJS library: \", url);\n      document.getElementsByTagName(\"head\")[0].appendChild(s);\n    }\n  };var element = document.getElementById(\"0bbe326e-5b42-4ba3-8320-ffcc0d9cae56\");\n  if (element == null) {\n    console.log(\"Bokeh: ERROR: autoload.js configured with elementid '0bbe326e-5b42-4ba3-8320-ffcc0d9cae56' but no matching script tag was found. \")\n    return false;\n  }\n\n  var js_urls = [\"https://cdn.pydata.org/bokeh/release/bokeh-0.12.14.min.js\", \"https://cdn.pydata.org/bokeh/release/bokeh-widgets-0.12.14.min.js\", \"https://cdn.pydata.org/bokeh/release/bokeh-tables-0.12.14.min.js\", \"https://cdn.pydata.org/bokeh/release/bokeh-gl-0.12.14.min.js\"];\n\n  var inline_js = [\n    function(Bokeh) {\n      Bokeh.set_log_level(\"info\");\n    },\n    \n    function(Bokeh) {\n      \n    },\n    function(Bokeh) {\n      console.log(\"Bokeh: injecting CSS: https://cdn.pydata.org/bokeh/release/bokeh-0.12.14.min.css\");\n      Bokeh.embed.inject_css(\"https://cdn.pydata.org/bokeh/release/bokeh-0.12.14.min.css\");\n      console.log(\"Bokeh: injecting CSS: https://cdn.pydata.org/bokeh/release/bokeh-widgets-0.12.14.min.css\");\n      Bokeh.embed.inject_css(\"https://cdn.pydata.org/bokeh/release/bokeh-widgets-0.12.14.min.css\");\n      console.log(\"Bokeh: injecting CSS: https://cdn.pydata.org/bokeh/release/bokeh-tables-0.12.14.min.css\");\n      Bokeh.embed.inject_css(\"https://cdn.pydata.org/bokeh/release/bokeh-tables-0.12.14.min.css\");\n    }\n  ];\n\n  function run_inline_js() {\n    \n    if ((root.Bokeh !== undefined) || (force === true)) {\n      for (var i = 0; i < inline_js.length; i++) {\n        inline_js[i].call(root, root.Bokeh);\n      }if (force === true) {\n        display_loaded();\n      }} else if (Date.now() < root._bokeh_timeout) {\n      setTimeout(run_inline_js, 100);\n    } else if (!root._bokeh_failed_load) {\n      console.log(\"Bokeh: BokehJS failed to load within specified timeout.\");\n      root._bokeh_failed_load = true;\n    } else if (force !== true) {\n      var cell = $(document.getElementById(\"0bbe326e-5b42-4ba3-8320-ffcc0d9cae56\")).parents('.cell').data().cell;\n      cell.output_area.append_execute_result(NB_LOAD_WARNING)\n    }\n\n  }\n\n  if (root._bokeh_is_loading === 0) {\n    console.log(\"Bokeh: BokehJS loaded, going straight to plotting\");\n    run_inline_js();\n  } else {\n    load_libs(js_urls, function() {\n      console.log(\"Bokeh: BokehJS plotting callback run at\", now());\n      run_inline_js();\n    });\n  }\n}(window));"
     },
     "metadata": {},
     "output_type": "display_data"
    }
   ],
   "source": [
    "output_notebook()"
   ]
  },
  {
   "cell_type": "code",
   "execution_count": 8,
   "metadata": {
    "collapsed": true
   },
   "outputs": [],
   "source": [
    "def fmt_cool(ds_in):\n",
    "    ds = ds_in.copy(deep=True)\n",
    "    if 'igg' in ds.dims:\n",
    "        ds = ds.sel(igg=1)\n",
    "\n",
    "    if 'g' in ds.dims:\n",
    "        ds = ds.sum('g')\n",
    "            \n",
    "    if 'band' in ds.dims:\n",
    "        try:\n",
    "            ds = ds.squeeze('band')\n",
    "        except ValueError:\n",
    "            ds = ds.sum('band')\n",
    "                \n",
    "    return ds['coolrg']\n",
    "\n",
    "\n",
    "def pltdata_cooling_1(ds_cool=None,\n",
    "                      ds_cool_crd=None, ds_cool_wgt=None):\n",
    "    \n",
    "\n",
    "\n",
    "    colors = all_palettes['Set1'][4]\n",
    "    data = [{'label': 'CLIRAD `coolr_bands`',\n",
    "             'srs': fmt_cool(ds_cool),\n",
    "             'line_dash': 'dashed', 'line_width': 5,\n",
    "             'color': colors[0], 'alpha': .6},\n",
    "            {'label': 'CRD',\n",
    "             'srs': fmt_cool(ds_cool_crd),\n",
    "             'line_dash': 'solid', 'line_width': 1.5,\n",
    "             'marker': 'circle', 'marker_size': 5,\n",
    "             'color': colors[2], 'alpha': 1,},\n",
    "            {'label': 'WGT igg=10 wgt_flux=2',\n",
    "             'srs': fmt_cool(ds_cool_wgt),\n",
    "             'line_dash': 'solid', 'line_width': 3,\n",
    "             'marker': 'square', 'marker_size': 5,\n",
    "             'color': colors[3], 'alpha': .6}]\n",
    "    return data\n",
    "\n",
    "\n",
    "def nice_xlims(pltdata=None, prange=None):\n",
    "    \n",
    "    def get_slice(srs):\n",
    "        return srs.sel(pressure=slice(*prange))\n",
    "    \n",
    "    srss = [d['srs'] for d in pltdata]\n",
    "    vmin = min([get_slice(srs).min() for srs in srss])\n",
    "    vmax = max([get_slice(srs).max() for srs in srss])\n",
    "    dv = (vmax - vmin) * .01\n",
    "    return float(vmin - dv), float(vmax + dv)\n",
    "    \n",
    "\n",
    "def plt_cooling_bokeh(pltdata=None):\n",
    "    '''\n",
    "    Plot a list of cooling rate profiles using bokeh.\n",
    "    '''\n",
    "    ymin = 1e-2 \n",
    "    ymax = 1020 \n",
    "        \n",
    "    p1 = figure(title=\"Linear pressure scale\", \n",
    "                plot_width=400)        \n",
    "    xmin, xmax = nice_xlims(pltdata, prange=(50, 1050))\n",
    "    for d in pltdata:\n",
    "        if 'marker' in d:\n",
    "            getattr(p1, d['marker'])(d['srs'].values, \n",
    "                    d['srs'].coords['pressure'].values,\n",
    "                    color=d['color'], alpha=.7)\n",
    "        p1.line(d['srs'].values, \n",
    "                d['srs'].coords['pressure'].values,\n",
    "                color=d['color'], alpha=d['alpha'], \n",
    "                line_width=d['line_width'], line_dash=d['line_dash'])\n",
    "    \n",
    "    p1.y_range = Range1d(ymax, ymin)\n",
    "    p1.yaxis.axis_label = 'pressure [mb]'   \n",
    "    p1.x_range = Range1d(xmin, xmax)\n",
    "    p1.xaxis.axis_label = 'cooling rate [K/day]'\n",
    "            \n",
    "    p2 = figure(title='Log pressure scale', y_axis_type='log',\n",
    "                plot_width=560)\n",
    "    xmin, xmax = nice_xlims(pltdata, prange=(.01, 200))\n",
    "    \n",
    "    rs = []\n",
    "    for d in pltdata:\n",
    "        rd = []\n",
    "        if 'marker' in d:\n",
    "            r_mark = getattr(p2, d['marker'])(d['srs'].values, \n",
    "                        d['srs'].coords['pressure'].values,\n",
    "                        color=d['color'], alpha=.7)\n",
    "            rd.append(r_mark)\n",
    "        r_line = p2.line(d['srs'].values, \n",
    "                    d['srs'].coords['pressure'].values,\n",
    "                    color=d['color'], alpha=d['alpha'], \n",
    "                    line_width=d['line_width'], line_dash=d['line_dash'])\n",
    "        rd.append(r_line)\n",
    "      \n",
    "        rs.append(rd)\n",
    "        \n",
    "    p2.y_range = Range1d(ymax, ymin)  \n",
    "    p2.yaxis.axis_label = 'pressure [mb]'\n",
    "    \n",
    "    p2.x_range = Range1d(xmin, xmax)\n",
    "    p2.xaxis.axis_label = 'cooling rate [K/day]'\n",
    "    \n",
    "    items = [(d['label'], r) for r, d in zip(rs, pltdata)]\n",
    "    legend = Legend(items=items, location=(10, -30))\n",
    "    legend.label_text_font_size = '8pt'\n",
    "    \n",
    "    p2.add_layout(legend, 'right')  \n",
    "    \n",
    "    show(gridplot(p1, p2, ncols=2, plot_height=500))\n",
    "    \n",
    "\n",
    "def script_plt_cooling():\n",
    "    pltdata = pltdata_cooling_1(\n",
    "        ds_cool=DS_COOL,\n",
    "        ds_cool_crd=DS_COOL_CRD,\n",
    "        ds_cool_wgt=DS_COOL_WGT)\n",
    "    plt_cooling_bokeh(pltdata=pltdata)\n",
    "    print('''FIGURE. Cooling rate profiles.''')"
   ]
  },
  {
   "cell_type": "code",
   "execution_count": 9,
   "metadata": {
    "collapsed": true
   },
   "outputs": [],
   "source": [
    "def fmt_flux(ds_in):\n",
    "    ds = ds_in.copy(deep=True)\n",
    "    \n",
    "    for l in ('level', 'layer'):\n",
    "        if l in ds.data_vars:\n",
    "            if len(ds[l].dims) > 1:\n",
    "                surface = {d: 0 for d in ds.dims if d != 'pressure'}\n",
    "                coord_level = ds[l][surface]\n",
    "                ds.coords[l] = ('pressure', coord_level)\n",
    "            else:\n",
    "                ds.coords[l] = ('pressure', ds[l])\n",
    "        \n",
    "    ds = ds.isel(pressure=[0, 23, -1])\n",
    "        \n",
    "    if 'igg' in ds.dims:\n",
    "        ds = ds.sel(igg=[1])\n",
    "        ds = ds.squeeze('igg').drop('igg')\n",
    "    \n",
    "    if 'g' in ds.dims:\n",
    "        ds = ds.sum('g')\n",
    "            \n",
    "    if 'band' in ds.dims:\n",
    "        try:\n",
    "            ds = ds.squeeze('band').drop('band')\n",
    "        except ValueError:\n",
    "            ds = ds.sum('band')\n",
    "                \n",
    "    df = ds.to_dataframe()\n",
    "    df = df.set_index('level', append=True)               \n",
    "    return df\n",
    "\n",
    "\n",
    "def tbdata_flux(ds_flux=None, ds_flux_crd=None, ds_flux_wgt=None):\n",
    "    ilevels = [0, 23, -1]\n",
    "            \n",
    "    benchmark = {'label': 'WGT igg=10 wgt_flux=1',\n",
    "                 'df': fmt_flux(ds_flux_wgt)}\n",
    "    \n",
    "    tbs = [{'label': 'CRD',\n",
    "            'df': fmt_flux(ds_flux_crd)},\n",
    "           {'label': 'CLIRAD',\n",
    "            'df': fmt_flux(ds_flux)}]\n",
    "    \n",
    "    data = {'benchmark': benchmark, 'others': tbs}\n",
    "    return data\n",
    "\n",
    "\n",
    "def tb_flux(tbdata=None):\n",
    "    benchmark = tbdata['benchmark']\n",
    "    others = tbdata['others']\n",
    "    \n",
    "    def show_tb(d=None):\n",
    "        display.display(d['df'])\n",
    "        print('Table.', 'Fluxes.', d['label'])\n",
    "        \n",
    "    def show_tbdiff(d0=None, d=None):\n",
    "        df = d['df']\n",
    "        df.index = d0['df'].index\n",
    "        display.display(df - d0['df'])\n",
    "        print('Table.', 'Fluxes.', \n",
    "              '({}) - ({})'.format(d['label'], d0['label']))\n",
    "        \n",
    "    show_tb(benchmark)\n",
    "    for d in others:\n",
    "        show_tb(d)\n",
    "        \n",
    "    for d in others:\n",
    "        show_tbdiff(d=d, d0=benchmark)\n",
    "        \n",
    "        \n",
    "def script_tb_flux():\n",
    "    data = tbdata_flux(ds_flux=DS_FLUX,\n",
    "                       ds_flux_crd=DS_FLUX_CRD,\n",
    "                       ds_flux_wgt=DS_FLUX_WGT)\n",
    "    tb_flux(tbdata=data)"
   ]
  },
  {
   "cell_type": "code",
   "execution_count": 10,
   "metadata": {
    "collapsed": true
   },
   "outputs": [],
   "source": [
    "def band_map():\n",
    "    '''\n",
    "    Maps spectral bands in lblnew to spectral bands in clirad.\n",
    "    '''\n",
    "    lblnew2clirad = {'1': '1',\n",
    "            '2': '2',\n",
    "            '3a': '3',\n",
    "            '3b': '4',\n",
    "            '3c': '5',\n",
    "            '4': '6', \n",
    "            '5': '7',\n",
    "            '6': '8',\n",
    "            '7': '9', \n",
    "            '8': '10',\n",
    "            '9': '11'}\n",
    "    \n",
    "    clirad2lblnew = {clirad: lblnew \n",
    "                     for lblnew, clirad in lblnew2clirad.items()}\n",
    "    return clirad2lblnew\n",
    "\n",
    "\n",
    "def gasbands():\n",
    "    bmap = band_map()\n",
    "    gases = list(PARAM['molecule'].keys())\n",
    "    \n",
    "    bands = [bmap[str(b)] for b in PARAM['band']]\n",
    "    return list(itertools.product(gases, bands))\n",
    "\n",
    "\n",
    "def print_bestfit_params():\n",
    "    print('Best-fit values for each (gas, band)')\n",
    "    print('------------------------------------')\n",
    "    for gas, band in gasbands():\n",
    "        print('o {} band{}'.format(gas, band))\n",
    "        param = bestfits.kdist_params(molecule=gas, band=band)\n",
    "        for name, value in sorted(param.items()):\n",
    "            print(2 * ' ' + '{} = {}'.format(name, value))\n",
    "\n",
    "        \n",
    "def print_input_param():        \n",
    "    for name, value in PARAM.items():\n",
    "        print('{} = {}'.format(name, value))\n",
    "        \n",
    "        \n",
    "def print_lblnew_param():\n",
    "    for name, value in sorted(PARAM_LBLNEW.items()):\n",
    "        print('{} = {}'.format(name, value))\n"
   ]
  },
  {
   "cell_type": "code",
   "execution_count": 11,
   "metadata": {
    "collapsed": true,
    "scrolled": false
   },
   "outputs": [],
   "source": [
    "def show_html(s):\n",
    "    display.display(display.HTML(s))\n",
    "\n",
    "    \n",
    "def show_markdown(s):\n",
    "    display.display(display.Markdown(s))\n",
    "\n",
    "    \n",
    "def script():\n",
    "    \n",
    "    title = '### CLIRAD-LW'\n",
    "    s_input = 'Input Parameters'\n",
    "    s_lblnew_param = 'LBLNEW case compaired against'\n",
    "    s_bestfits = 'Best-fit Parameters'\n",
    "    s_plt_cooling = 'Cooling Rate Profiles'\n",
    "    s_tb_flux = 'Flux Comparison'\n",
    "    \n",
    "    # title\n",
    "    show_markdown('### CLIRAD-LW')\n",
    "    \n",
    "    # TOC\n",
    "    show_markdown('### Table of Contents')\n",
    "    show_html(climahtml.getHTML_hrefanchor(s_input))\n",
    "    show_html(climahtml.getHTML_hrefanchor(s_lblnew_param))\n",
    "    show_html(climahtml.getHTML_hrefanchor(s_plt_cooling))\n",
    "    show_html(climahtml.getHTML_hrefanchor(s_tb_flux))\n",
    "    show_html(climahtml.getHTML_hrefanchor(s_bestfits))\n",
    "    \n",
    "    # Input parameters\n",
    "    show_html(climahtml.getHTML_idanchor(s_input))\n",
    "    show_markdown(climahtml.getMarkdown_sectitle(s_input))\n",
    "    print_input_param()\n",
    "    \n",
    "    # LBLNEW parameters \n",
    "    show_html(climahtml.getHTML_idanchor(s_lblnew_param))\n",
    "    show_markdown(climahtml.getMarkdown_sectitle(s_lblnew_param))\n",
    "    print_lblnew_param()\n",
    "    \n",
    "    # Cooling rate profiles\n",
    "    show_html(climahtml.getHTML_idanchor(s_plt_cooling))\n",
    "    show_markdown(climahtml.getMarkdown_sectitle(s_plt_cooling))\n",
    "    script_plt_cooling()\n",
    "    \n",
    "    # Flux comparison\n",
    "    show_html(climahtml.getHTML_idanchor(s_tb_flux))\n",
    "    show_markdown(climahtml.getMarkdown_sectitle(s_tb_flux))\n",
    "    script_tb_flux()\n",
    "    \n",
    "    # Best-fit values\n",
    "    show_html(climahtml.getHTML_idanchor(s_bestfits))\n",
    "    show_markdown(climahtml.getMarkdown_sectitle(s_bestfits))\n",
    "    print_bestfit_params()\n",
    "   \n",
    "    "
   ]
  },
  {
   "cell_type": "code",
   "execution_count": 12,
   "metadata": {
    "collapsed": true,
    "scrolled": false
   },
   "outputs": [
    {
     "data": {
      "text/markdown": [
       "### CLIRAD-LW"
      ],
      "text/plain": [
       "<IPython.core.display.Markdown object>"
      ]
     },
     "metadata": {},
     "output_type": "display_data"
    },
    {
     "data": {
      "text/markdown": [
       "### Table of Contents"
      ],
      "text/plain": [
       "<IPython.core.display.Markdown object>"
      ]
     },
     "metadata": {},
     "output_type": "display_data"
    },
    {
     "data": {
      "text/html": [
       "<a href=\"#Input_Parameters\">Input Parameters</a>"
      ],
      "text/plain": [
       "<IPython.core.display.HTML object>"
      ]
     },
     "metadata": {},
     "output_type": "display_data"
    },
    {
     "data": {
      "text/html": [
       "<a href=\"#LBLNEW_case_compaired_against\">LBLNEW case compaired against</a>"
      ],
      "text/plain": [
       "<IPython.core.display.HTML object>"
      ]
     },
     "metadata": {},
     "output_type": "display_data"
    },
    {
     "data": {
      "text/html": [
       "<a href=\"#Cooling_Rate_Profiles\">Cooling Rate Profiles</a>"
      ],
      "text/plain": [
       "<IPython.core.display.HTML object>"
      ]
     },
     "metadata": {},
     "output_type": "display_data"
    },
    {
     "data": {
      "text/html": [
       "<a href=\"#Flux_Comparison\">Flux Comparison</a>"
      ],
      "text/plain": [
       "<IPython.core.display.HTML object>"
      ]
     },
     "metadata": {},
     "output_type": "display_data"
    },
    {
     "data": {
      "text/html": [
       "<a href=\"#Best-fit_Parameters\">Best-fit Parameters</a>"
      ],
      "text/plain": [
       "<IPython.core.display.HTML object>"
      ]
     },
     "metadata": {},
     "output_type": "display_data"
    },
    {
     "data": {
      "text/html": [
       "<a id=\"Input_Parameters\"></a>"
      ],
      "text/plain": [
       "<IPython.core.display.HTML object>"
      ]
     },
     "metadata": {},
     "output_type": "display_data"
    },
    {
     "data": {
      "text/markdown": [
       "# Input Parameters"
      ],
      "text/plain": [
       "<IPython.core.display.Markdown object>"
      ]
     },
     "metadata": {},
     "output_type": "display_data"
    },
    {
     "name": "stdout",
     "output_type": "stream",
     "text": [
      "atmpro = mls\n",
      "band = [3]\n",
      "commitnumber = 7e55b57\n",
      "molecule = {'co2': 0.0004}\n",
      "tsfc = 294\n"
     ]
    },
    {
     "data": {
      "text/html": [
       "<a id=\"LBLNEW_case_compaired_against\"></a>"
      ],
      "text/plain": [
       "<IPython.core.display.HTML object>"
      ]
     },
     "metadata": {},
     "output_type": "display_data"
    },
    {
     "data": {
      "text/markdown": [
       "# LBLNEW case compaired against"
      ],
      "text/plain": [
       "<IPython.core.display.Markdown object>"
      ]
     },
     "metadata": {},
     "output_type": "display_data"
    },
    {
     "name": "stdout",
     "output_type": "stream",
     "text": [
      "atmpro = mls\n",
      "band = 3a\n",
      "commitnumber = 5014a19\n",
      "conc = 0.0004\n",
      "dv = 0.01\n",
      "klin = 6.375563e-24\n",
      "molecule = co2\n",
      "ng_adju = [0, 0, 0]\n",
      "ng_refs = [3, 2, 4]\n",
      "nv = 100\n",
      "option_compute_btable = 0\n",
      "option_compute_ktable = 0\n",
      "option_wgt_flux = 1\n",
      "option_wgt_k = 1\n",
      "ref_pts = [(1, 250), (10, 250), (500, 250)]\n",
      "tsfc = 294\n",
      "vmax = 620\n",
      "vmin = 540\n",
      "w_diffuse = [(1.6, 1.6, 1.7), (1.75, 1.75), (1.55, 1.55, 1.6, 1.85)]\n",
      "wgt = [(0.7, 0.3, 0.7), (0.7, 0.6), (0.4, 0.5, 0.8, 0.95)]\n"
     ]
    },
    {
     "data": {
      "text/html": [
       "<a id=\"Cooling_Rate_Profiles\"></a>"
      ],
      "text/plain": [
       "<IPython.core.display.HTML object>"
      ]
     },
     "metadata": {},
     "output_type": "display_data"
    },
    {
     "data": {
      "text/markdown": [
       "# Cooling Rate Profiles"
      ],
      "text/plain": [
       "<IPython.core.display.Markdown object>"
      ]
     },
     "metadata": {},
     "output_type": "display_data"
    },
    {
     "data": {
      "text/html": [
       "\n",
       "<div class=\"bk-root\">\n",
       "    <div class=\"bk-plotdiv\" id=\"58288749-a6b1-41ef-975a-5b1577a71161\"></div>\n",
       "</div>"
      ]
     },
     "metadata": {},
     "output_type": "display_data"
    },
    {
     "data": {
      "application/javascript": [
       "(function(root) {\n",
       "  function embed_document(root) {\n",
       "    \n",
       "  var docs_json = {\"c971b84c-281e-4bde-a55e-57d9326287a1\":{\"roots\":{\"references\":[{\"attributes\":{\"bottom_units\":\"screen\",\"fill_alpha\":{\"value\":0.5},\"fill_color\":{\"value\":\"lightgrey\"},\"left_units\":\"screen\",\"level\":\"overlay\",\"line_alpha\":{\"value\":1.0},\"line_color\":{\"value\":\"black\"},\"line_dash\":[4,4],\"line_width\":{\"value\":2},\"plot\":null,\"render_mode\":\"css\",\"right_units\":\"screen\",\"top_units\":\"screen\"},\"id\":\"e915612b-25fa-407e-acb3-e10ce18efdef\",\"type\":\"BoxAnnotation\"},{\"attributes\":{},\"id\":\"09c1cb51-d4af-4491-bc3d-01f8efe4f20a\",\"type\":\"BasicTicker\"},{\"attributes\":{\"fill_alpha\":{\"value\":0.7},\"fill_color\":{\"value\":\"#4daf4a\"},\"line_alpha\":{\"value\":0.7},\"line_color\":{\"value\":\"#4daf4a\"},\"x\":{\"field\":\"x\"},\"y\":{\"field\":\"y\"}},\"id\":\"8be06210-c08a-40b6-ab3a-509d3d3a9fe8\",\"type\":\"Circle\"},{\"attributes\":{},\"id\":\"4e7af08d-9cb0-4d7c-a32c-085785cd9661\",\"type\":\"WheelZoomTool\"},{\"attributes\":{\"plot\":{\"id\":\"a1564234-69f7-43fe-a583-055f3aa8b5ff\",\"subtype\":\"Figure\",\"type\":\"Plot\"},\"ticker\":{\"id\":\"3c2e65c7-55b4-4c3f-b234-c12f3c1bbade\",\"type\":\"BasicTicker\"}},\"id\":\"2f3107ba-6d85-439f-98e3-ff094fc59d4b\",\"type\":\"Grid\"},{\"attributes\":{\"line_alpha\":0.1,\"line_color\":\"#1f77b4\",\"line_dash\":[6],\"line_width\":5,\"x\":{\"field\":\"x\"},\"y\":{\"field\":\"y\"}},\"id\":\"7bb89c38-c339-435f-b58a-b5c52caf8bd4\",\"type\":\"Line\"},{\"attributes\":{},\"id\":\"f9a11686-cf13-4d3e-bf63-e7a551cadad9\",\"type\":\"LinearScale\"},{\"attributes\":{\"data_source\":{\"id\":\"a56d574e-4ed3-463c-a289-5f82619e9f04\",\"type\":\"ColumnDataSource\"},\"glyph\":{\"id\":\"8be06210-c08a-40b6-ab3a-509d3d3a9fe8\",\"type\":\"Circle\"},\"hover_glyph\":null,\"muted_glyph\":null,\"nonselection_glyph\":{\"id\":\"365d2f51-73a7-44f3-8494-03d62bac2533\",\"type\":\"Circle\"},\"selection_glyph\":null,\"view\":{\"id\":\"ba7d8531-0edf-432f-9cc4-c3767ffda521\",\"type\":\"CDSView\"}},\"id\":\"7a5a1f49-3c8e-4390-8a25-36053580aa35\",\"type\":\"GlyphRenderer\"},{\"attributes\":{\"below\":[{\"id\":\"d7cdb3ec-48e7-49a2-8ed0-d2fa14adef55\",\"type\":\"LinearAxis\"}],\"left\":[{\"id\":\"4de798ac-7090-4937-a209-0d9d8b7eaf1d\",\"type\":\"LinearAxis\"}],\"plot_height\":500,\"plot_width\":400,\"renderers\":[{\"id\":\"d7cdb3ec-48e7-49a2-8ed0-d2fa14adef55\",\"type\":\"LinearAxis\"},{\"id\":\"2f3107ba-6d85-439f-98e3-ff094fc59d4b\",\"type\":\"Grid\"},{\"id\":\"4de798ac-7090-4937-a209-0d9d8b7eaf1d\",\"type\":\"LinearAxis\"},{\"id\":\"e10367e3-0305-4976-9354-efe8ac9bdc9f\",\"type\":\"Grid\"},{\"id\":\"e915612b-25fa-407e-acb3-e10ce18efdef\",\"type\":\"BoxAnnotation\"},{\"id\":\"1ff5a319-ff1b-4e97-b5af-396c0d0d65f8\",\"type\":\"GlyphRenderer\"},{\"id\":\"7a5a1f49-3c8e-4390-8a25-36053580aa35\",\"type\":\"GlyphRenderer\"},{\"id\":\"c8b46f3b-f89b-4615-ae10-f211afc6d592\",\"type\":\"GlyphRenderer\"},{\"id\":\"2006288a-c7d6-429c-a94e-a7f7516d0ff0\",\"type\":\"GlyphRenderer\"},{\"id\":\"a148843a-7c0e-4344-8cb2-d034e36111cd\",\"type\":\"GlyphRenderer\"}],\"title\":{\"id\":\"2bc68772-1547-4f61-8cad-9013db9a4854\",\"type\":\"Title\"},\"toolbar\":{\"id\":\"eb436c79-a133-4d47-87c1-ff80dec015a6\",\"type\":\"Toolbar\"},\"toolbar_location\":null,\"x_range\":{\"id\":\"925ea4e8-4f2a-48d0-abc0-aa25a636bc08\",\"type\":\"Range1d\"},\"x_scale\":{\"id\":\"f9a11686-cf13-4d3e-bf63-e7a551cadad9\",\"type\":\"LinearScale\"},\"y_range\":{\"id\":\"245e4cf6-784a-4ba1-9e6e-6bdcfc0e14f3\",\"type\":\"Range1d\"},\"y_scale\":{\"id\":\"dc83e3c5-378b-466b-bf26-d317bf2e0f50\",\"type\":\"LinearScale\"}},\"id\":\"a1564234-69f7-43fe-a583-055f3aa8b5ff\",\"subtype\":\"Figure\",\"type\":\"Plot\"},{\"attributes\":{\"axis_label\":\"cooling rate [K/day]\",\"formatter\":{\"id\":\"4492f289-0ac5-4608-ae58-ff053d74eac8\",\"type\":\"BasicTickFormatter\"},\"plot\":{\"id\":\"a1564234-69f7-43fe-a583-055f3aa8b5ff\",\"subtype\":\"Figure\",\"type\":\"Plot\"},\"ticker\":{\"id\":\"3c2e65c7-55b4-4c3f-b234-c12f3c1bbade\",\"type\":\"BasicTicker\"}},\"id\":\"d7cdb3ec-48e7-49a2-8ed0-d2fa14adef55\",\"type\":\"LinearAxis\"},{\"attributes\":{\"axis_label\":\"pressure [mb]\",\"formatter\":{\"id\":\"c578ba77-468b-4a53-8010-e67d89e1da24\",\"type\":\"BasicTickFormatter\"},\"plot\":{\"id\":\"a1564234-69f7-43fe-a583-055f3aa8b5ff\",\"subtype\":\"Figure\",\"type\":\"Plot\"},\"ticker\":{\"id\":\"09c1cb51-d4af-4491-bc3d-01f8efe4f20a\",\"type\":\"BasicTicker\"}},\"id\":\"4de798ac-7090-4937-a209-0d9d8b7eaf1d\",\"type\":\"LinearAxis\"},{\"attributes\":{\"callback\":null,\"column_names\":[\"x\",\"y\"],\"data\":{\"x\":{\"__ndarray__\":\"8F/Nv2Vnyj8V8yD7KHzUP7VAksRYh9E/VCd3Cn8nzT91X8b7DtHRP+dmZgM8K9U/6icYpbZa0T+FozceZMDRPzqQFuPTjtM/VWJD3EFR0j8pYLffDITSP+UMgwGd7NE/dCmNHBIM0D+OgwE6gorLP+fNGwZ3EMg/onoQpzgzyj8cDqa8sfvPP4zGb0TWntE/Ln7ovKUg0j+FqOseE4jTPw7ABkSIq9g/5U00/jNZ4T/lz/khHTvnP5jR+iFXxuc/9qm23fyN4z8/6V0fSrLePwQHMDxhT9g/NBOpvF890z9cE/uZtAjPP39XmWNYScg/GnAzaCo8wj/c2RUC0mG5P+gB+QBHfLE/CD3n4+TCqz8GKepfofWnP67EHR6rXKM/gfCKqNXMnj/ahOu5m5OYPzy3kTHFvIk//5B4B8/hIz+lJ4UeAttGP+qfVLlYaow/EZg4BiVLmj+AmSxEQOuhP4XMP0H82KU/pknGvTsqqT+b3I/e5y2sPyr6uEDG/64/br+dwEvbsD+EmGf/5VWyP6FV2qD+zLM/yHCQno8jtT9A2v8Aa1W2P85Q/f8PYrc/WrsvX0VjuD9Y9oAgEE25P8NPVutIHro/JiDkxHDYuj8EMgHgVHu7P3jMSNZEE7w/dXuDDj69vD/6XX3hOmu9P3OHZgGHDr4/2uyjrhCxvj/+bi68mlW/P2h7smopA8A/iFTmIMdawD+y8Fjg6Z3AP4OBaxdoscA/0biJvcSWwD/kq7IpNmrAP6GGyhpQSsA/c6lC6hNMwD/Zz0EbqYzAP1xpQigpj8E/\",\"dtype\":\"float64\",\"shape\":[75]},\"y\":{\"__ndarray__\":\"S/O/Q+51ND/430zAtpRIP2vylNV0PVE/QxsjCssuWD/TR4Z78fVgP+inNsRxymc/OuuBfZWvcD/u3TFA02d3P2d3VoBnaoA/CD5h5MAGhz/1pA8HUCaQP+zrCsc9p5Y/Fb7LAKjGnz/nJ9c/SEmmPwBD+fzcQq8/FOZwv9nstT8Er5Y7M8G+P0c+r3jqkcU/yK72qKZBzj+tM989FzjVPxbgmr8yxN0/cOm5AXbg5D+5ctXAf0jtP5kqGJXUifQ/DsrqDELP/D8MCAhBojQEQDItVnmnVwxAiFXNvdHgE0BSSZ2AJuIbQAMJih9jjiNA5q4l5INuK0CPVN/5RT0zQHzxRXu8/DpAOZ7PgHrtQkAg8wGBzoxKQBSTN8DMeFJA2NmQf2ZqWEAAAAAAAFxeQEQX1LfMJmJAmpmZmZkfZUBmZmZmZhhoQLzoK0gzEWtAAAAAAAAKbkCiC+pbZoFwQAhyUMLM/XFA+I2vPTN6c0AQ5KCEmfZ0QAAAAAAAc3ZA8Btfe2bvd0AIclDCzGt5QPeNrz0z6HpAEOSghJlkfEAAAAAAAOF9QKML6ltmXX9ABTkoYeZsgED7xteeGSuBQAhyUMJM6YFAAAAAAICngkD4ja89s2WDQAU5KGHmI4RA+8bXnhnihEAIclDCTKCFQAAAAACAXoZA+I2vPbMch0AFOShh5tqHQPvG154ZmYhACHJQwkxXiUAAAAAAgBWKQPeNrz2z04pABTkoYeaRi0D7xteeGVCMQAlyUMJMDo1AAAAAAIDMjUD3ja89s4qOQGZmZmbmSI9A\",\"dtype\":\"float64\",\"shape\":[75]}}},\"id\":\"1340a972-ec62-423f-bbf9-077bae762dfb\",\"type\":\"ColumnDataSource\"},{\"attributes\":{},\"id\":\"9f095c30-e915-4022-b9d5-a5a310de5177\",\"type\":\"ResetTool\"},{\"attributes\":{\"dimension\":1,\"plot\":{\"id\":\"86d9b656-afde-4545-b109-7e3076542745\",\"subtype\":\"Figure\",\"type\":\"Plot\"},\"ticker\":{\"id\":\"c1cf0baa-f4a7-4f6e-a0a9-c00966586ab8\",\"type\":\"LogTicker\"}},\"id\":\"d3b1619d-015f-4c32-a8c8-8d120ef2ab26\",\"type\":\"Grid\"},{\"attributes\":{\"callback\":null,\"end\":0.138569168296,\"start\":-0.002981157896},\"id\":\"925ea4e8-4f2a-48d0-abc0-aa25a636bc08\",\"type\":\"Range1d\"},{\"attributes\":{\"source\":{\"id\":\"760e9e70-aafc-4da0-a753-0b1a5c25f70e\",\"type\":\"ColumnDataSource\"}},\"id\":\"15b2dd9e-a2b4-4924-be22-44e71f2110dc\",\"type\":\"CDSView\"},{\"attributes\":{\"source\":{\"id\":\"a56d574e-4ed3-463c-a289-5f82619e9f04\",\"type\":\"ColumnDataSource\"}},\"id\":\"ba7d8531-0edf-432f-9cc4-c3767ffda521\",\"type\":\"CDSView\"},{\"attributes\":{},\"id\":\"dc83e3c5-378b-466b-bf26-d317bf2e0f50\",\"type\":\"LinearScale\"},{\"attributes\":{\"source\":{\"id\":\"1340a972-ec62-423f-bbf9-077bae762dfb\",\"type\":\"ColumnDataSource\"}},\"id\":\"b77ee006-69ea-46a1-bf23-048c4da8dcde\",\"type\":\"CDSView\"},{\"attributes\":{\"below\":[{\"id\":\"0b01dc39-0b1a-4838-9473-8da8830509cc\",\"type\":\"LinearAxis\"}],\"left\":[{\"id\":\"d6a163d8-b4f3-4ace-ad26-8c3c45314c6c\",\"type\":\"LogAxis\"}],\"plot_height\":500,\"plot_width\":560,\"renderers\":[{\"id\":\"0b01dc39-0b1a-4838-9473-8da8830509cc\",\"type\":\"LinearAxis\"},{\"id\":\"3c5ed4fe-7058-41d6-9692-d2ddbdd6785a\",\"type\":\"Grid\"},{\"id\":\"d6a163d8-b4f3-4ace-ad26-8c3c45314c6c\",\"type\":\"LogAxis\"},{\"id\":\"d3b1619d-015f-4c32-a8c8-8d120ef2ab26\",\"type\":\"Grid\"},{\"id\":\"f8b65f22-36ec-4943-aea4-e89b82f62e74\",\"type\":\"BoxAnnotation\"},{\"id\":\"08f2e909-1447-4df8-b580-4a8151c5c56f\",\"type\":\"GlyphRenderer\"},{\"id\":\"37f4ed63-0723-4010-964b-c885c184ecba\",\"type\":\"GlyphRenderer\"},{\"id\":\"53592295-c529-43ae-95ec-ed7647c08a38\",\"type\":\"GlyphRenderer\"},{\"id\":\"38204d64-6c9e-488b-a630-8e126098b40f\",\"type\":\"GlyphRenderer\"},{\"id\":\"7b1aa1d8-2558-4bb8-bb67-225fcc7a9351\",\"type\":\"GlyphRenderer\"},{\"id\":\"3a2a83fa-853b-4f7a-b68f-f1cdf20ae4f4\",\"type\":\"Legend\"}],\"right\":[{\"id\":\"3a2a83fa-853b-4f7a-b68f-f1cdf20ae4f4\",\"type\":\"Legend\"}],\"title\":{\"id\":\"f824eba7-5b2c-413e-a7a6-48b01f0c005a\",\"type\":\"Title\"},\"toolbar\":{\"id\":\"b262cef5-bd11-47b6-ba6d-a9e3117ff751\",\"type\":\"Toolbar\"},\"toolbar_location\":null,\"x_range\":{\"id\":\"f7796095-38bf-4bb6-91f7-fbc22f8b3e97\",\"type\":\"Range1d\"},\"x_scale\":{\"id\":\"0ad2e670-33e6-49f0-985a-9cb7611699db\",\"type\":\"LinearScale\"},\"y_range\":{\"id\":\"bb125c2f-f73c-482e-b7e9-30ff011b436e\",\"type\":\"Range1d\"},\"y_scale\":{\"id\":\"f685e028-3330-4c5e-9cfe-6120aecf7658\",\"type\":\"LogScale\"}},\"id\":\"86d9b656-afde-4545-b109-7e3076542745\",\"subtype\":\"Figure\",\"type\":\"Plot\"},{\"attributes\":{\"line_color\":\"#4daf4a\",\"line_width\":1.5,\"x\":{\"field\":\"x\"},\"y\":{\"field\":\"y\"}},\"id\":\"24b2f050-69d2-4abd-bd92-394202488a39\",\"type\":\"Line\"},{\"attributes\":{\"overlay\":{\"id\":\"e915612b-25fa-407e-acb3-e10ce18efdef\",\"type\":\"BoxAnnotation\"}},\"id\":\"2c66acbf-c166-4e3c-9e33-3a3b2f06af31\",\"type\":\"BoxZoomTool\"},{\"attributes\":{},\"id\":\"6377762c-d498-4d4c-beae-193a9d19eaee\",\"type\":\"HelpTool\"},{\"attributes\":{},\"id\":\"c906f1a7-afd6-43a6-b7da-85820bd4b4ea\",\"type\":\"SaveTool\"},{\"attributes\":{\"dimension\":1,\"plot\":{\"id\":\"a1564234-69f7-43fe-a583-055f3aa8b5ff\",\"subtype\":\"Figure\",\"type\":\"Plot\"},\"ticker\":{\"id\":\"09c1cb51-d4af-4491-bc3d-01f8efe4f20a\",\"type\":\"BasicTicker\"}},\"id\":\"e10367e3-0305-4976-9354-efe8ac9bdc9f\",\"type\":\"Grid\"},{\"attributes\":{},\"id\":\"16bba427-c697-4a06-9257-2f018df5ce6c\",\"type\":\"PanTool\"},{\"attributes\":{},\"id\":\"4492f289-0ac5-4608-ae58-ff053d74eac8\",\"type\":\"BasicTickFormatter\"},{\"attributes\":{\"toolbar\":{\"id\":\"78b11874-624c-4b20-8815-6c8d5a224f3b\",\"type\":\"ProxyToolbar\"},\"toolbar_location\":\"above\"},\"id\":\"c5b73824-0219-40df-9b9a-902491eaea92\",\"type\":\"ToolbarBox\"},{\"attributes\":{\"active_drag\":\"auto\",\"active_inspect\":\"auto\",\"active_scroll\":\"auto\",\"active_tap\":\"auto\",\"tools\":[{\"id\":\"16bba427-c697-4a06-9257-2f018df5ce6c\",\"type\":\"PanTool\"},{\"id\":\"4e7af08d-9cb0-4d7c-a32c-085785cd9661\",\"type\":\"WheelZoomTool\"},{\"id\":\"2c66acbf-c166-4e3c-9e33-3a3b2f06af31\",\"type\":\"BoxZoomTool\"},{\"id\":\"c906f1a7-afd6-43a6-b7da-85820bd4b4ea\",\"type\":\"SaveTool\"},{\"id\":\"9f095c30-e915-4022-b9d5-a5a310de5177\",\"type\":\"ResetTool\"},{\"id\":\"6377762c-d498-4d4c-beae-193a9d19eaee\",\"type\":\"HelpTool\"}]},\"id\":\"eb436c79-a133-4d47-87c1-ff80dec015a6\",\"type\":\"Toolbar\"},{\"attributes\":{\"plot\":null,\"text\":\"Linear pressure scale\"},\"id\":\"2bc68772-1547-4f61-8cad-9013db9a4854\",\"type\":\"Title\"},{\"attributes\":{\"callback\":null,\"end\":0.01,\"start\":1020},\"id\":\"bb125c2f-f73c-482e-b7e9-30ff011b436e\",\"type\":\"Range1d\"},{\"attributes\":{\"callback\":null,\"column_names\":[\"x\",\"y\"],\"data\":{\"x\":{\"__ndarray__\":\"/Dh5FUJc2j9aPMRYCQraP0/An6+Tmdo/sINSzQ8Q2z9iu72cwFHbP6SkTfZLW9s/IQeAhScP2z++Mi25o2LaPwSwfdg9P9k/7ECMxpCS1z+I0+78R0vVP63FArqKYNI/N0BAKSCOzT+XKXuF5OjEP9zIp40Lg7w/6qIyD6oevz8DpGirs1bGPw4LvRfC3sw/DzEUZpAx0j/NJ6dNBzjXPwwQu6WLQ94/4JWPavl95D8WIyJnJ2TqP9T7Wzyb+ek/vOsJnoRK5D/eGMjU2WDePwE4crQVgdY/mPjlxAW90D9Pb04+oODJP5CQWL2JwsQ/UQ80E8pKwD+crQhzxQm4P7XKHjESC7I/e+JNPycLrT8huDmxYS+mP2Tm7rLg950/vwcfspdZlT+TZiYqsfGQP+IFHWUneYA/SKLAhz4bWr/aC3NvAj4wP23Dsfl704s/BnlX7Bgfmj+PJcUqUh+iP3x1kAIEpqY/Ti53embIqj8DlVQa75auP3TJ2NOFDbE/nQZ3LUKtsj/+l0UKYCi0P03rcQrrebU/PI0eOX6atj9O3oZsroe3PwarF2f/SLg/L6uoqJfruD9wx5RCMnq5P55zfUAc+7k/5+7GxN5yuj+USbKzjeS6P6m96+AeU7s/WQ4d0AzBuz/mXAZzJjO8P0PEcvDxrrw/u5obV0w6vT9677ldedq9Pwnr1p20kb4/jAdCT1ZOvz+Cb5o+O+C/Pw6iUngSCcA/CZ0AWFfkvz/ebDm48JO/P/UfRsZyZL8/2ibsDYSFvz8BC2g7CRnAP2tDan8MQsE/\",\"dtype\":\"float64\",\"shape\":[75]},\"y\":{\"__ndarray__\":\"GhExyth1ND/Sv8nbtpRIP2vylNV0PVE/aTum7souWD/At0SJ8fVgPw3Iuahxymc/MSNhhJWvcD/bTfBN02d3P2zb5nxnaoA/CD5h5MAGhz8NmeH1TyaQP+zrCsc9p5Y/LbKd76fGnz/bLW5ISEmmPww9YvTcQq8/JV2OstnstT8Er5Y7M8G+P0c+r3jqkcU/5h99k6ZBzj88bCIzFzjVP4enV8oyxN0//yH99nXg5D8qOpLLf0jtP5kqGJXUifQ/c9cS8kHP/D+/DpwzojQEQIEmwoanVwxA4lgXt9HgE0BSSZ2AJuIbQAMJih9jjiNA5q4l5INuK0AwTKYKRj0zQNv5fmq8/DpAaCJseHrtQkB/+zpwzoxKQM3MzMzMeFJAZmZmZmZqWEAAAAAAAFxeQM3MzMzMJmJAmpmZmZkfZUBmZmZmZhhoQDMzMzMzEWtAAAAAAAAKbkBmZmZmZoFwQM3MzMzM/XFAMzMzMzN6c0CamZmZmfZ0QAAAAAAAc3ZAZmZmZmbvd0DNzMzMzGt5QDMzMzMz6HpAmpmZmZlkfEAAAAAAAOF9QGZmZmZmXX9AZmZmZuZsgECamZmZGSuBQM3MzMxM6YFAAAAAAICngkAzMzMzs2WDQGZmZmbmI4RAmpmZmRnihEDNzMzMTKCFQAAAAACAXoZAMzMzM7Mch0BmZmZm5tqHQJqZmZkZmYhAzczMzExXiUAAAAAAgBWKQDMzMzOz04pAZmZmZuaRi0CamZmZGVCMQM3MzMxMDo1AAAAAAIDMjUAzMzMzs4qOQGZmZmbmSI9A\",\"dtype\":\"float64\",\"shape\":[75]}}},\"id\":\"44c95e7b-a71c-4bac-9fbc-6e329cabaac2\",\"type\":\"ColumnDataSource\"},{\"attributes\":{},\"id\":\"c578ba77-468b-4a53-8010-e67d89e1da24\",\"type\":\"BasicTickFormatter\"},{\"attributes\":{\"callback\":null,\"end\":0.01,\"start\":1020},\"id\":\"245e4cf6-784a-4ba1-9e6e-6bdcfc0e14f3\",\"type\":\"Range1d\"},{\"attributes\":{},\"id\":\"3c2e65c7-55b4-4c3f-b234-c12f3c1bbade\",\"type\":\"BasicTicker\"},{\"attributes\":{\"source\":{\"id\":\"44c95e7b-a71c-4bac-9fbc-6e329cabaac2\",\"type\":\"ColumnDataSource\"}},\"id\":\"5aef087e-5364-4848-ac09-dfa2bb58e8bd\",\"type\":\"CDSView\"},{\"attributes\":{\"data_source\":{\"id\":\"760e9e70-aafc-4da0-a753-0b1a5c25f70e\",\"type\":\"ColumnDataSource\"},\"glyph\":{\"id\":\"b1d74a50-d110-4343-a315-97dca4d5b2ea\",\"type\":\"Line\"},\"hover_glyph\":null,\"muted_glyph\":null,\"nonselection_glyph\":{\"id\":\"b83f35f4-8346-4598-a316-31daef7f2c12\",\"type\":\"Line\"},\"selection_glyph\":null,\"view\":{\"id\":\"15b2dd9e-a2b4-4924-be22-44e71f2110dc\",\"type\":\"CDSView\"}},\"id\":\"a148843a-7c0e-4344-8cb2-d034e36111cd\",\"type\":\"GlyphRenderer\"},{\"attributes\":{},\"id\":\"0ad2e670-33e6-49f0-985a-9cb7611699db\",\"type\":\"LinearScale\"},{\"attributes\":{\"plot\":null,\"text\":\"Log pressure scale\"},\"id\":\"f824eba7-5b2c-413e-a7a6-48b01f0c005a\",\"type\":\"Title\"},{\"attributes\":{\"source\":{\"id\":\"93520fdc-d57e-474b-9074-f132360ff03c\",\"type\":\"ColumnDataSource\"}},\"id\":\"711e8c56-9bc0-492e-81ed-a7b123fc3803\",\"type\":\"CDSView\"},{\"attributes\":{\"active_drag\":\"auto\",\"active_inspect\":\"auto\",\"active_scroll\":\"auto\",\"active_tap\":\"auto\",\"tools\":[{\"id\":\"f4be4711-c7b0-4786-afe8-5a66c631f6a7\",\"type\":\"PanTool\"},{\"id\":\"062fac14-ad01-4674-8fc3-636859fc4c2e\",\"type\":\"WheelZoomTool\"},{\"id\":\"62b743da-2af8-4354-849e-aecf67e0fcfc\",\"type\":\"BoxZoomTool\"},{\"id\":\"cdae9956-abdd-4836-8e74-1a1d40bca817\",\"type\":\"SaveTool\"},{\"id\":\"196b72a2-15a3-43b9-a78a-d11e64277898\",\"type\":\"ResetTool\"},{\"id\":\"f8f2a0b9-9f1f-44eb-876e-3b099e31eec2\",\"type\":\"HelpTool\"}]},\"id\":\"b262cef5-bd11-47b6-ba6d-a9e3117ff751\",\"type\":\"Toolbar\"},{\"attributes\":{\"source\":{\"id\":\"e63f48c0-91c9-4d1c-b980-44c56cf1a3ac\",\"type\":\"ColumnDataSource\"}},\"id\":\"8c57cb86-19d1-4133-8eb0-22bd34e9d4fb\",\"type\":\"CDSView\"},{\"attributes\":{\"line_alpha\":0.6,\"line_color\":\"#984ea3\",\"line_width\":3,\"x\":{\"field\":\"x\"},\"y\":{\"field\":\"y\"}},\"id\":\"b1d74a50-d110-4343-a315-97dca4d5b2ea\",\"type\":\"Line\"},{\"attributes\":{\"num_minor_ticks\":10},\"id\":\"c1cf0baa-f4a7-4f6e-a0a9-c00966586ab8\",\"type\":\"LogTicker\"},{\"attributes\":{},\"id\":\"f685e028-3330-4c5e-9cfe-6120aecf7658\",\"type\":\"LogScale\"},{\"attributes\":{\"callback\":null,\"column_names\":[\"x\",\"y\"],\"data\":{\"x\":{\"__ndarray__\":\"/Dh5FUJc2j9aPMRYCQraP0/An6+Tmdo/sINSzQ8Q2z9iu72cwFHbP6SkTfZLW9s/IQeAhScP2z++Mi25o2LaPwSwfdg9P9k/7ECMxpCS1z+I0+78R0vVP63FArqKYNI/N0BAKSCOzT+XKXuF5OjEP9zIp40Lg7w/6qIyD6oevz8DpGirs1bGPw4LvRfC3sw/DzEUZpAx0j/NJ6dNBzjXPwwQu6WLQ94/4JWPavl95D8WIyJnJ2TqP9T7Wzyb+ek/vOsJnoRK5D/eGMjU2WDePwE4crQVgdY/mPjlxAW90D9Pb04+oODJP5CQWL2JwsQ/UQ80E8pKwD+crQhzxQm4P7XKHjESC7I/e+JNPycLrT8huDmxYS+mP2Tm7rLg950/vwcfspdZlT+TZiYqsfGQP+IFHWUneYA/SKLAhz4bWr/aC3NvAj4wP23Dsfl704s/BnlX7Bgfmj+PJcUqUh+iP3x1kAIEpqY/Ti53embIqj8DlVQa75auP3TJ2NOFDbE/nQZ3LUKtsj/+l0UKYCi0P03rcQrrebU/PI0eOX6atj9O3oZsroe3PwarF2f/SLg/L6uoqJfruD9wx5RCMnq5P55zfUAc+7k/5+7GxN5yuj+USbKzjeS6P6m96+AeU7s/WQ4d0AzBuz/mXAZzJjO8P0PEcvDxrrw/u5obV0w6vT9677ldedq9Pwnr1p20kb4/jAdCT1ZOvz+Cb5o+O+C/Pw6iUngSCcA/CZ0AWFfkvz/ebDm48JO/P/UfRsZyZL8/2ibsDYSFvz8BC2g7CRnAP2tDan8MQsE/\",\"dtype\":\"float64\",\"shape\":[75]},\"y\":{\"__ndarray__\":\"GhExyth1ND/Sv8nbtpRIP2vylNV0PVE/aTum7souWD/At0SJ8fVgPw3Iuahxymc/MSNhhJWvcD/bTfBN02d3P2zb5nxnaoA/CD5h5MAGhz8NmeH1TyaQP+zrCsc9p5Y/LbKd76fGnz/bLW5ISEmmPww9YvTcQq8/JV2OstnstT8Er5Y7M8G+P0c+r3jqkcU/5h99k6ZBzj88bCIzFzjVP4enV8oyxN0//yH99nXg5D8qOpLLf0jtP5kqGJXUifQ/c9cS8kHP/D+/DpwzojQEQIEmwoanVwxA4lgXt9HgE0BSSZ2AJuIbQAMJih9jjiNA5q4l5INuK0AwTKYKRj0zQNv5fmq8/DpAaCJseHrtQkB/+zpwzoxKQM3MzMzMeFJAZmZmZmZqWEAAAAAAAFxeQM3MzMzMJmJAmpmZmZkfZUBmZmZmZhhoQDMzMzMzEWtAAAAAAAAKbkBmZmZmZoFwQM3MzMzM/XFAMzMzMzN6c0CamZmZmfZ0QAAAAAAAc3ZAZmZmZmbvd0DNzMzMzGt5QDMzMzMz6HpAmpmZmZlkfEAAAAAAAOF9QGZmZmZmXX9AZmZmZuZsgECamZmZGSuBQM3MzMxM6YFAAAAAAICngkAzMzMzs2WDQGZmZmbmI4RAmpmZmRnihEDNzMzMTKCFQAAAAACAXoZAMzMzM7Mch0BmZmZm5tqHQJqZmZkZmYhAzczMzExXiUAAAAAAgBWKQDMzMzOz04pAZmZmZuaRi0CamZmZGVCMQM3MzMxMDo1AAAAAAIDMjUAzMzMzs4qOQGZmZmbmSI9A\",\"dtype\":\"float64\",\"shape\":[75]}}},\"id\":\"d41cc8fb-8ccc-44d2-8d1c-5c8a81e13823\",\"type\":\"ColumnDataSource\"},{\"attributes\":{\"fill_alpha\":{\"value\":0.1},\"fill_color\":{\"value\":\"#1f77b4\"},\"line_alpha\":{\"value\":0.1},\"line_color\":{\"value\":\"#1f77b4\"},\"x\":{\"field\":\"x\"},\"y\":{\"field\":\"y\"}},\"id\":\"57d11e95-00fd-47d3-81bd-4beda7891483\",\"type\":\"Square\"},{\"attributes\":{\"data_source\":{\"id\":\"1340a972-ec62-423f-bbf9-077bae762dfb\",\"type\":\"ColumnDataSource\"},\"glyph\":{\"id\":\"ea40e9e2-43cf-4f0a-88a9-366c48ec16fb\",\"type\":\"Line\"},\"hover_glyph\":null,\"muted_glyph\":null,\"nonselection_glyph\":{\"id\":\"7bb89c38-c339-435f-b58a-b5c52caf8bd4\",\"type\":\"Line\"},\"selection_glyph\":null,\"view\":{\"id\":\"b77ee006-69ea-46a1-bf23-048c4da8dcde\",\"type\":\"CDSView\"}},\"id\":\"1ff5a319-ff1b-4e97-b5af-396c0d0d65f8\",\"type\":\"GlyphRenderer\"},{\"attributes\":{\"axis_label\":\"cooling rate [K/day]\",\"formatter\":{\"id\":\"8262f972-b2aa-4433-b0c1-5637000a0c7f\",\"type\":\"BasicTickFormatter\"},\"plot\":{\"id\":\"86d9b656-afde-4545-b109-7e3076542745\",\"subtype\":\"Figure\",\"type\":\"Plot\"},\"ticker\":{\"id\":\"04eb550c-15b3-40cd-90dc-c21245eb9523\",\"type\":\"BasicTicker\"}},\"id\":\"0b01dc39-0b1a-4838-9473-8da8830509cc\",\"type\":\"LinearAxis\"},{\"attributes\":{\"callback\":null,\"column_names\":[\"x\",\"y\"],\"data\":{\"x\":{\"__ndarray__\":\"/Dh5FUJc2j9aPMRYCQraP0/An6+Tmdo/sINSzQ8Q2z9iu72cwFHbP6SkTfZLW9s/IQeAhScP2z++Mi25o2LaPwSwfdg9P9k/7ECMxpCS1z+I0+78R0vVP63FArqKYNI/N0BAKSCOzT+XKXuF5OjEP9zIp40Lg7w/6qIyD6oevz8DpGirs1bGPw4LvRfC3sw/DzEUZpAx0j/NJ6dNBzjXPwwQu6WLQ94/4JWPavl95D8WIyJnJ2TqP9T7Wzyb+ek/vOsJnoRK5D/eGMjU2WDePwE4crQVgdY/mPjlxAW90D9Pb04+oODJP5CQWL2JwsQ/UQ80E8pKwD+crQhzxQm4P7XKHjESC7I/e+JNPycLrT8huDmxYS+mP2Tm7rLg950/vwcfspdZlT+TZiYqsfGQP+IFHWUneYA/SKLAhz4bWr/aC3NvAj4wP23Dsfl704s/BnlX7Bgfmj+PJcUqUh+iP3x1kAIEpqY/Ti53embIqj8DlVQa75auP3TJ2NOFDbE/nQZ3LUKtsj/+l0UKYCi0P03rcQrrebU/PI0eOX6atj9O3oZsroe3PwarF2f/SLg/L6uoqJfruD9wx5RCMnq5P55zfUAc+7k/5+7GxN5yuj+USbKzjeS6P6m96+AeU7s/WQ4d0AzBuz/mXAZzJjO8P0PEcvDxrrw/u5obV0w6vT9677ldedq9Pwnr1p20kb4/jAdCT1ZOvz+Cb5o+O+C/Pw6iUngSCcA/CZ0AWFfkvz/ebDm48JO/P/UfRsZyZL8/2ibsDYSFvz8BC2g7CRnAP2tDan8MQsE/\",\"dtype\":\"float64\",\"shape\":[75]},\"y\":{\"__ndarray__\":\"GhExyth1ND/Sv8nbtpRIP2vylNV0PVE/aTum7souWD/At0SJ8fVgPw3Iuahxymc/MSNhhJWvcD/bTfBN02d3P2zb5nxnaoA/CD5h5MAGhz8NmeH1TyaQP+zrCsc9p5Y/LbKd76fGnz/bLW5ISEmmPww9YvTcQq8/JV2OstnstT8Er5Y7M8G+P0c+r3jqkcU/5h99k6ZBzj88bCIzFzjVP4enV8oyxN0//yH99nXg5D8qOpLLf0jtP5kqGJXUifQ/c9cS8kHP/D+/DpwzojQEQIEmwoanVwxA4lgXt9HgE0BSSZ2AJuIbQAMJih9jjiNA5q4l5INuK0AwTKYKRj0zQNv5fmq8/DpAaCJseHrtQkB/+zpwzoxKQM3MzMzMeFJAZmZmZmZqWEAAAAAAAFxeQM3MzMzMJmJAmpmZmZkfZUBmZmZmZhhoQDMzMzMzEWtAAAAAAAAKbkBmZmZmZoFwQM3MzMzM/XFAMzMzMzN6c0CamZmZmfZ0QAAAAAAAc3ZAZmZmZmbvd0DNzMzMzGt5QDMzMzMz6HpAmpmZmZlkfEAAAAAAAOF9QGZmZmZmXX9AZmZmZuZsgECamZmZGSuBQM3MzMxM6YFAAAAAAICngkAzMzMzs2WDQGZmZmbmI4RAmpmZmRnihEDNzMzMTKCFQAAAAACAXoZAMzMzM7Mch0BmZmZm5tqHQJqZmZkZmYhAzczMzExXiUAAAAAAgBWKQDMzMzOz04pAZmZmZuaRi0CamZmZGVCMQM3MzMxMDo1AAAAAAIDMjUAzMzMzs4qOQGZmZmbmSI9A\",\"dtype\":\"float64\",\"shape\":[75]}}},\"id\":\"f2024ce0-41e4-4180-84c6-9524e5b507b0\",\"type\":\"ColumnDataSource\"},{\"attributes\":{},\"id\":\"04eb550c-15b3-40cd-90dc-c21245eb9523\",\"type\":\"BasicTicker\"},{\"attributes\":{\"fill_alpha\":{\"value\":0.1},\"fill_color\":{\"value\":\"#1f77b4\"},\"line_alpha\":{\"value\":0.1},\"line_color\":{\"value\":\"#1f77b4\"},\"x\":{\"field\":\"x\"},\"y\":{\"field\":\"y\"}},\"id\":\"558ed71a-ade4-43d9-93ef-9e5a3256afd5\",\"type\":\"Circle\"},{\"attributes\":{\"plot\":{\"id\":\"86d9b656-afde-4545-b109-7e3076542745\",\"subtype\":\"Figure\",\"type\":\"Plot\"},\"ticker\":{\"id\":\"04eb550c-15b3-40cd-90dc-c21245eb9523\",\"type\":\"BasicTicker\"}},\"id\":\"3c5ed4fe-7058-41d6-9692-d2ddbdd6785a\",\"type\":\"Grid\"},{\"attributes\":{\"fill_alpha\":{\"value\":0.7},\"fill_color\":{\"value\":\"#984ea3\"},\"line_alpha\":{\"value\":0.7},\"line_color\":{\"value\":\"#984ea3\"},\"x\":{\"field\":\"x\"},\"y\":{\"field\":\"y\"}},\"id\":\"b9219143-0a52-4e99-8141-79023111a63b\",\"type\":\"Square\"},{\"attributes\":{\"axis_label\":\"pressure [mb]\",\"formatter\":{\"id\":\"e917b861-7eec-4e1e-a695-00d668adb8db\",\"type\":\"LogTickFormatter\"},\"plot\":{\"id\":\"86d9b656-afde-4545-b109-7e3076542745\",\"subtype\":\"Figure\",\"type\":\"Plot\"},\"ticker\":{\"id\":\"c1cf0baa-f4a7-4f6e-a0a9-c00966586ab8\",\"type\":\"LogTicker\"}},\"id\":\"d6a163d8-b4f3-4ace-ad26-8c3c45314c6c\",\"type\":\"LogAxis\"},{\"attributes\":{\"callback\":null,\"column_names\":[\"x\",\"y\"],\"data\":{\"x\":{\"__ndarray__\":\"6p3H2iXP1D8awuWgS+TUP55fHuIAeNU/lJpPnTkb1j+QmPz/uKHWP0AIq04ZBdc/GEa75upA1z87sVE38ULXP2KgRdHR+dY/oWNwcThR1j/NwJ3jHjLVP9TlrnXwfNM/TuCUPxcP0T9fJaisaZDLP0Sa3SYaYsY/jcbK+ncbyD+hgPodpBfOPxQT2YNvE9E/OV7rBR6T0j9Vo3D/4BXVP9BDckk5c9o/0JCVSv0+4j9SqTjj8hboP82+Tkj0POg/dGDYYZVx4z85XjacLj3eP7KyBPs12dc/qxHVIxcN0z+uxFIdlaHOP+mBiIgjTcg/NZNbRwxowj8UY4VUVBy6P03QrgH26bI/j/grcKCNrj9rBe81hjOpP2DCgO4Hm6M/WNCXr8Rznz9ar/KxNueZP1bb182cPY0/MpmeoToqYD/8F3Lte7FmP9zQkJXJwpA/nXUY9VL2nD+kDxJpEjyjP0eVbqXuNac/YtI0Vh2qqj/yF5xD58etPxm48SoIVbA/HfofrbqzsT/u6k3RnQCzPzixPk0uObQ/IQbAqSZWtT/25d9mZEm2Pzt+9AsKJLc/IaRSy0Lptz9gJQU5eKC4PzxtEbBETbk/JFgg1PnvuT/yqHm/u4q6PwkBRcwtHrs/Pt2ZwbSruz89wZFT2zu8P1bXxnQrxrw/5KgGTblgvT/9UUfuEAq+P96B8NZ8xL4/nIzevzmDvz+GC2sJFwvAP/MLqllfJcA/ZKfNlskRwD9sgqqmr9i/PzjR1iDiqr8/6YaXEeXFvz80U/8yPjLAP10Io8dbTME/\",\"dtype\":\"float64\",\"shape\":[75]},\"y\":{\"__ndarray__\":\"GhExyth1ND/Sv8nbtpRIP2vylNV0PVE/aTum7souWD/At0SJ8fVgPw3Iuahxymc/MSNhhJWvcD/bTfBN02d3P2zb5nxnaoA/CD5h5MAGhz8NmeH1TyaQP+zrCsc9p5Y/LbKd76fGnz/bLW5ISEmmPww9YvTcQq8/JV2OstnstT8Er5Y7M8G+P0c+r3jqkcU/5h99k6ZBzj88bCIzFzjVP4enV8oyxN0//yH99nXg5D8qOpLLf0jtP5kqGJXUifQ/c9cS8kHP/D+/DpwzojQEQIEmwoanVwxA4lgXt9HgE0BSSZ2AJuIbQAMJih9jjiNA5q4l5INuK0AwTKYKRj0zQNv5fmq8/DpAaCJseHrtQkB/+zpwzoxKQM3MzMzMeFJAZmZmZmZqWEAAAAAAAFxeQM3MzMzMJmJAmpmZmZkfZUBmZmZmZhhoQDMzMzMzEWtAAAAAAAAKbkBmZmZmZoFwQM3MzMzM/XFAMzMzMzN6c0CamZmZmfZ0QAAAAAAAc3ZAZmZmZmbvd0DNzMzMzGt5QDMzMzMz6HpAmpmZmZlkfEAAAAAAAOF9QGZmZmZmXX9AZmZmZuZsgECamZmZGSuBQM3MzMxM6YFAAAAAAICngkAzMzMzs2WDQGZmZmbmI4RAmpmZmRnihEDNzMzMTKCFQAAAAACAXoZAMzMzM7Mch0BmZmZm5tqHQJqZmZkZmYhAzczMzExXiUAAAAAAgBWKQDMzMzOz04pAZmZmZuaRi0CamZmZGVCMQM3MzMxMDo1AAAAAAIDMjUAzMzMzs4qOQGZmZmbmSI9A\",\"dtype\":\"float64\",\"shape\":[75]}}},\"id\":\"97c75e6c-3187-49cb-9f98-6a1864cbbff2\",\"type\":\"ColumnDataSource\"},{\"attributes\":{\"children\":[{\"id\":\"8cc36308-65b3-43a4-8d16-999788e0614d\",\"type\":\"Row\"}]},\"id\":\"22873b5b-37b0-40cc-bd92-bd9be912469e\",\"type\":\"Column\"},{\"attributes\":{\"line_alpha\":0.1,\"line_color\":\"#1f77b4\",\"line_width\":1.5,\"x\":{\"field\":\"x\"},\"y\":{\"field\":\"y\"}},\"id\":\"ab9a9002-bcc2-42cd-bea3-ec9b951d82e9\",\"type\":\"Line\"},{\"attributes\":{\"bottom_units\":\"screen\",\"fill_alpha\":{\"value\":0.5},\"fill_color\":{\"value\":\"lightgrey\"},\"left_units\":\"screen\",\"level\":\"overlay\",\"line_alpha\":{\"value\":1.0},\"line_color\":{\"value\":\"black\"},\"line_dash\":[4,4],\"line_width\":{\"value\":2},\"plot\":null,\"render_mode\":\"css\",\"right_units\":\"screen\",\"top_units\":\"screen\"},\"id\":\"f8b65f22-36ec-4943-aea4-e89b82f62e74\",\"type\":\"BoxAnnotation\"},{\"attributes\":{},\"id\":\"f4be4711-c7b0-4786-afe8-5a66c631f6a7\",\"type\":\"PanTool\"},{\"attributes\":{},\"id\":\"8262f972-b2aa-4433-b0c1-5637000a0c7f\",\"type\":\"BasicTickFormatter\"},{\"attributes\":{},\"id\":\"196b72a2-15a3-43b9-a78a-d11e64277898\",\"type\":\"ResetTool\"},{\"attributes\":{\"data_source\":{\"id\":\"44c95e7b-a71c-4bac-9fbc-6e329cabaac2\",\"type\":\"ColumnDataSource\"},\"glyph\":{\"id\":\"24b2f050-69d2-4abd-bd92-394202488a39\",\"type\":\"Line\"},\"hover_glyph\":null,\"muted_glyph\":null,\"nonselection_glyph\":{\"id\":\"ab9a9002-bcc2-42cd-bea3-ec9b951d82e9\",\"type\":\"Line\"},\"selection_glyph\":null,\"view\":{\"id\":\"5aef087e-5364-4848-ac09-dfa2bb58e8bd\",\"type\":\"CDSView\"}},\"id\":\"c8b46f3b-f89b-4615-ae10-f211afc6d592\",\"type\":\"GlyphRenderer\"},{\"attributes\":{\"overlay\":{\"id\":\"f8b65f22-36ec-4943-aea4-e89b82f62e74\",\"type\":\"BoxAnnotation\"}},\"id\":\"62b743da-2af8-4354-849e-aecf67e0fcfc\",\"type\":\"BoxZoomTool\"},{\"attributes\":{\"fill_alpha\":{\"value\":0.7},\"fill_color\":{\"value\":\"#4daf4a\"},\"line_alpha\":{\"value\":0.7},\"line_color\":{\"value\":\"#4daf4a\"},\"x\":{\"field\":\"x\"},\"y\":{\"field\":\"y\"}},\"id\":\"0488f263-47cb-48e1-ba71-6da86abc6c16\",\"type\":\"Circle\"},{\"attributes\":{},\"id\":\"cdae9956-abdd-4836-8e74-1a1d40bca817\",\"type\":\"SaveTool\"},{\"attributes\":{\"data_source\":{\"id\":\"f2024ce0-41e4-4180-84c6-9524e5b507b0\",\"type\":\"ColumnDataSource\"},\"glyph\":{\"id\":\"0488f263-47cb-48e1-ba71-6da86abc6c16\",\"type\":\"Circle\"},\"hover_glyph\":null,\"muted_glyph\":null,\"nonselection_glyph\":{\"id\":\"558ed71a-ade4-43d9-93ef-9e5a3256afd5\",\"type\":\"Circle\"},\"selection_glyph\":null,\"view\":{\"id\":\"6166ea44-0623-4e11-b781-a1af418215dc\",\"type\":\"CDSView\"}},\"id\":\"37f4ed63-0723-4010-964b-c885c184ecba\",\"type\":\"GlyphRenderer\"},{\"attributes\":{},\"id\":\"062fac14-ad01-4674-8fc3-636859fc4c2e\",\"type\":\"WheelZoomTool\"},{\"attributes\":{},\"id\":\"f8f2a0b9-9f1f-44eb-876e-3b099e31eec2\",\"type\":\"HelpTool\"},{\"attributes\":{\"source\":{\"id\":\"f2024ce0-41e4-4180-84c6-9524e5b507b0\",\"type\":\"ColumnDataSource\"}},\"id\":\"6166ea44-0623-4e11-b781-a1af418215dc\",\"type\":\"CDSView\"},{\"attributes\":{\"line_color\":\"#4daf4a\",\"line_width\":1.5,\"x\":{\"field\":\"x\"},\"y\":{\"field\":\"y\"}},\"id\":\"bdf03ae2-0048-4ba8-8aa7-c7778ccc6526\",\"type\":\"Line\"},{\"attributes\":{\"callback\":null,\"column_names\":[\"x\",\"y\"],\"data\":{\"x\":{\"__ndarray__\":\"6p3H2iXP1D8awuWgS+TUP55fHuIAeNU/lJpPnTkb1j+QmPz/uKHWP0AIq04ZBdc/GEa75upA1z87sVE38ULXP2KgRdHR+dY/oWNwcThR1j/NwJ3jHjLVP9TlrnXwfNM/TuCUPxcP0T9fJaisaZDLP0Sa3SYaYsY/jcbK+ncbyD+hgPodpBfOPxQT2YNvE9E/OV7rBR6T0j9Vo3D/4BXVP9BDckk5c9o/0JCVSv0+4j9SqTjj8hboP82+Tkj0POg/dGDYYZVx4z85XjacLj3eP7KyBPs12dc/qxHVIxcN0z+uxFIdlaHOP+mBiIgjTcg/NZNbRwxowj8UY4VUVBy6P03QrgH26bI/j/grcKCNrj9rBe81hjOpP2DCgO4Hm6M/WNCXr8Rznz9ar/KxNueZP1bb182cPY0/MpmeoToqYD/8F3Lte7FmP9zQkJXJwpA/nXUY9VL2nD+kDxJpEjyjP0eVbqXuNac/YtI0Vh2qqj/yF5xD58etPxm48SoIVbA/HfofrbqzsT/u6k3RnQCzPzixPk0uObQ/IQbAqSZWtT/25d9mZEm2Pzt+9AsKJLc/IaRSy0Lptz9gJQU5eKC4PzxtEbBETbk/JFgg1PnvuT/yqHm/u4q6PwkBRcwtHrs/Pt2ZwbSruz89wZFT2zu8P1bXxnQrxrw/5KgGTblgvT/9UUfuEAq+P96B8NZ8xL4/nIzevzmDvz+GC2sJFwvAP/MLqllfJcA/ZKfNlskRwD9sgqqmr9i/PzjR1iDiqr8/6YaXEeXFvz80U/8yPjLAP10Io8dbTME/\",\"dtype\":\"float64\",\"shape\":[75]},\"y\":{\"__ndarray__\":\"GhExyth1ND/Sv8nbtpRIP2vylNV0PVE/aTum7souWD/At0SJ8fVgPw3Iuahxymc/MSNhhJWvcD/bTfBN02d3P2zb5nxnaoA/CD5h5MAGhz8NmeH1TyaQP+zrCsc9p5Y/LbKd76fGnz/bLW5ISEmmPww9YvTcQq8/JV2OstnstT8Er5Y7M8G+P0c+r3jqkcU/5h99k6ZBzj88bCIzFzjVP4enV8oyxN0//yH99nXg5D8qOpLLf0jtP5kqGJXUifQ/c9cS8kHP/D+/DpwzojQEQIEmwoanVwxA4lgXt9HgE0BSSZ2AJuIbQAMJih9jjiNA5q4l5INuK0AwTKYKRj0zQNv5fmq8/DpAaCJseHrtQkB/+zpwzoxKQM3MzMzMeFJAZmZmZmZqWEAAAAAAAFxeQM3MzMzMJmJAmpmZmZkfZUBmZmZmZhhoQDMzMzMzEWtAAAAAAAAKbkBmZmZmZoFwQM3MzMzM/XFAMzMzMzN6c0CamZmZmfZ0QAAAAAAAc3ZAZmZmZmbvd0DNzMzMzGt5QDMzMzMz6HpAmpmZmZlkfEAAAAAAAOF9QGZmZmZmXX9AZmZmZuZsgECamZmZGSuBQM3MzMxM6YFAAAAAAICngkAzMzMzs2WDQGZmZmbmI4RAmpmZmRnihEDNzMzMTKCFQAAAAACAXoZAMzMzM7Mch0BmZmZm5tqHQJqZmZkZmYhAzczMzExXiUAAAAAAgBWKQDMzMzOz04pAZmZmZuaRi0CamZmZGVCMQM3MzMxMDo1AAAAAAIDMjUAzMzMzs4qOQGZmZmbmSI9A\",\"dtype\":\"float64\",\"shape\":[75]}}},\"id\":\"e4976d68-94d9-4001-bb23-519f131e7c3a\",\"type\":\"ColumnDataSource\"},{\"attributes\":{\"line_alpha\":0.1,\"line_color\":\"#1f77b4\",\"line_width\":1.5,\"x\":{\"field\":\"x\"},\"y\":{\"field\":\"y\"}},\"id\":\"66d718a0-b912-49e8-96ad-edc10373d1f8\",\"type\":\"Line\"},{\"attributes\":{\"children\":[{\"id\":\"a1564234-69f7-43fe-a583-055f3aa8b5ff\",\"subtype\":\"Figure\",\"type\":\"Plot\"},{\"id\":\"86d9b656-afde-4545-b109-7e3076542745\",\"subtype\":\"Figure\",\"type\":\"Plot\"}]},\"id\":\"8cc36308-65b3-43a4-8d16-999788e0614d\",\"type\":\"Row\"},{\"attributes\":{\"data_source\":{\"id\":\"d41cc8fb-8ccc-44d2-8d1c-5c8a81e13823\",\"type\":\"ColumnDataSource\"},\"glyph\":{\"id\":\"bdf03ae2-0048-4ba8-8aa7-c7778ccc6526\",\"type\":\"Line\"},\"hover_glyph\":null,\"muted_glyph\":null,\"nonselection_glyph\":{\"id\":\"66d718a0-b912-49e8-96ad-edc10373d1f8\",\"type\":\"Line\"},\"selection_glyph\":null,\"view\":{\"id\":\"1371a146-2534-4386-a069-f9323d887cac\",\"type\":\"CDSView\"}},\"id\":\"53592295-c529-43ae-95ec-ed7647c08a38\",\"type\":\"GlyphRenderer\"},{\"attributes\":{\"source\":{\"id\":\"d41cc8fb-8ccc-44d2-8d1c-5c8a81e13823\",\"type\":\"ColumnDataSource\"}},\"id\":\"1371a146-2534-4386-a069-f9323d887cac\",\"type\":\"CDSView\"},{\"attributes\":{\"fill_alpha\":{\"value\":0.7},\"fill_color\":{\"value\":\"#984ea3\"},\"line_alpha\":{\"value\":0.7},\"line_color\":{\"value\":\"#984ea3\"},\"x\":{\"field\":\"x\"},\"y\":{\"field\":\"y\"}},\"id\":\"f75fc89d-9248-4153-b47e-c0f625479d2f\",\"type\":\"Square\"},{\"attributes\":{\"callback\":null,\"end\":0.8329890122960001,\"start\":-0.009856601896000001},\"id\":\"f7796095-38bf-4bb6-91f7-fbc22f8b3e97\",\"type\":\"Range1d\"},{\"attributes\":{\"fill_alpha\":{\"value\":0.1},\"fill_color\":{\"value\":\"#1f77b4\"},\"line_alpha\":{\"value\":0.1},\"line_color\":{\"value\":\"#1f77b4\"},\"x\":{\"field\":\"x\"},\"y\":{\"field\":\"y\"}},\"id\":\"365d2f51-73a7-44f3-8494-03d62bac2533\",\"type\":\"Circle\"},{\"attributes\":{\"source\":{\"id\":\"97c75e6c-3187-49cb-9f98-6a1864cbbff2\",\"type\":\"ColumnDataSource\"}},\"id\":\"910388e2-0ab6-4074-94a8-e91a217bd624\",\"type\":\"CDSView\"},{\"attributes\":{\"callback\":null,\"column_names\":[\"x\",\"y\"],\"data\":{\"x\":{\"__ndarray__\":\"6p3H2iXP1D8awuWgS+TUP55fHuIAeNU/lJpPnTkb1j+QmPz/uKHWP0AIq04ZBdc/GEa75upA1z87sVE38ULXP2KgRdHR+dY/oWNwcThR1j/NwJ3jHjLVP9TlrnXwfNM/TuCUPxcP0T9fJaisaZDLP0Sa3SYaYsY/jcbK+ncbyD+hgPodpBfOPxQT2YNvE9E/OV7rBR6T0j9Vo3D/4BXVP9BDckk5c9o/0JCVSv0+4j9SqTjj8hboP82+Tkj0POg/dGDYYZVx4z85XjacLj3eP7KyBPs12dc/qxHVIxcN0z+uxFIdlaHOP+mBiIgjTcg/NZNbRwxowj8UY4VUVBy6P03QrgH26bI/j/grcKCNrj9rBe81hjOpP2DCgO4Hm6M/WNCXr8Rznz9ar/KxNueZP1bb182cPY0/MpmeoToqYD/8F3Lte7FmP9zQkJXJwpA/nXUY9VL2nD+kDxJpEjyjP0eVbqXuNac/YtI0Vh2qqj/yF5xD58etPxm48SoIVbA/HfofrbqzsT/u6k3RnQCzPzixPk0uObQ/IQbAqSZWtT/25d9mZEm2Pzt+9AsKJLc/IaRSy0Lptz9gJQU5eKC4PzxtEbBETbk/JFgg1PnvuT/yqHm/u4q6PwkBRcwtHrs/Pt2ZwbSruz89wZFT2zu8P1bXxnQrxrw/5KgGTblgvT/9UUfuEAq+P96B8NZ8xL4/nIzevzmDvz+GC2sJFwvAP/MLqllfJcA/ZKfNlskRwD9sgqqmr9i/PzjR1iDiqr8/6YaXEeXFvz80U/8yPjLAP10Io8dbTME/\",\"dtype\":\"float64\",\"shape\":[75]},\"y\":{\"__ndarray__\":\"GhExyth1ND/Sv8nbtpRIP2vylNV0PVE/aTum7souWD/At0SJ8fVgPw3Iuahxymc/MSNhhJWvcD/bTfBN02d3P2zb5nxnaoA/CD5h5MAGhz8NmeH1TyaQP+zrCsc9p5Y/LbKd76fGnz/bLW5ISEmmPww9YvTcQq8/JV2OstnstT8Er5Y7M8G+P0c+r3jqkcU/5h99k6ZBzj88bCIzFzjVP4enV8oyxN0//yH99nXg5D8qOpLLf0jtP5kqGJXUifQ/c9cS8kHP/D+/DpwzojQEQIEmwoanVwxA4lgXt9HgE0BSSZ2AJuIbQAMJih9jjiNA5q4l5INuK0AwTKYKRj0zQNv5fmq8/DpAaCJseHrtQkB/+zpwzoxKQM3MzMzMeFJAZmZmZmZqWEAAAAAAAFxeQM3MzMzMJmJAmpmZmZkfZUBmZmZmZhhoQDMzMzMzEWtAAAAAAAAKbkBmZmZmZoFwQM3MzMzM/XFAMzMzMzN6c0CamZmZmfZ0QAAAAAAAc3ZAZmZmZmbvd0DNzMzMzGt5QDMzMzMz6HpAmpmZmZlkfEAAAAAAAOF9QGZmZmZmXX9AZmZmZuZsgECamZmZGSuBQM3MzMxM6YFAAAAAAICngkAzMzMzs2WDQGZmZmbmI4RAmpmZmRnihEDNzMzMTKCFQAAAAACAXoZAMzMzM7Mch0BmZmZm5tqHQJqZmZkZmYhAzczMzExXiUAAAAAAgBWKQDMzMzOz04pAZmZmZuaRi0CamZmZGVCMQM3MzMxMDo1AAAAAAIDMjUAzMzMzs4qOQGZmZmbmSI9A\",\"dtype\":\"float64\",\"shape\":[75]}}},\"id\":\"e63f48c0-91c9-4d1c-b980-44c56cf1a3ac\",\"type\":\"ColumnDataSource\"},{\"attributes\":{\"line_alpha\":0.6,\"line_color\":\"#984ea3\",\"line_width\":3,\"x\":{\"field\":\"x\"},\"y\":{\"field\":\"y\"}},\"id\":\"65e515a1-5cbe-475a-8232-6ba9092cb1a1\",\"type\":\"Line\"},{\"attributes\":{\"fill_alpha\":{\"value\":0.1},\"fill_color\":{\"value\":\"#1f77b4\"},\"line_alpha\":{\"value\":0.1},\"line_color\":{\"value\":\"#1f77b4\"},\"x\":{\"field\":\"x\"},\"y\":{\"field\":\"y\"}},\"id\":\"575502a6-4f1d-4283-85ec-033dbaeb1fe9\",\"type\":\"Square\"},{\"attributes\":{\"data_source\":{\"id\":\"97c75e6c-3187-49cb-9f98-6a1864cbbff2\",\"type\":\"ColumnDataSource\"},\"glyph\":{\"id\":\"f75fc89d-9248-4153-b47e-c0f625479d2f\",\"type\":\"Square\"},\"hover_glyph\":null,\"muted_glyph\":null,\"nonselection_glyph\":{\"id\":\"575502a6-4f1d-4283-85ec-033dbaeb1fe9\",\"type\":\"Square\"},\"selection_glyph\":null,\"view\":{\"id\":\"910388e2-0ab6-4074-94a8-e91a217bd624\",\"type\":\"CDSView\"}},\"id\":\"38204d64-6c9e-488b-a630-8e126098b40f\",\"type\":\"GlyphRenderer\"},{\"attributes\":{\"source\":{\"id\":\"e4976d68-94d9-4001-bb23-519f131e7c3a\",\"type\":\"ColumnDataSource\"}},\"id\":\"af17cea3-f9c3-48ee-8595-98fc2febdd07\",\"type\":\"CDSView\"},{\"attributes\":{\"items\":[{\"id\":\"bfcfcc6d-4792-414e-9422-208ec6f8420e\",\"type\":\"LegendItem\"},{\"id\":\"6db02b0a-cd2b-4109-9b24-ca3ee59d521b\",\"type\":\"LegendItem\"},{\"id\":\"516d0ef6-5152-4e93-8111-e418832f00cf\",\"type\":\"LegendItem\"}],\"label_text_font_size\":{\"value\":\"8pt\"},\"location\":[10,-30],\"plot\":{\"id\":\"86d9b656-afde-4545-b109-7e3076542745\",\"subtype\":\"Figure\",\"type\":\"Plot\"}},\"id\":\"3a2a83fa-853b-4f7a-b68f-f1cdf20ae4f4\",\"type\":\"Legend\"},{\"attributes\":{\"line_alpha\":0.6,\"line_color\":\"#e41a1c\",\"line_dash\":[6],\"line_width\":5,\"x\":{\"field\":\"x\"},\"y\":{\"field\":\"y\"}},\"id\":\"e46bdf57-cf3a-4d53-b3e6-69524824fec8\",\"type\":\"Line\"},{\"attributes\":{\"line_alpha\":0.1,\"line_color\":\"#1f77b4\",\"line_width\":3,\"x\":{\"field\":\"x\"},\"y\":{\"field\":\"y\"}},\"id\":\"7f610c91-c480-4c19-b24d-309cd434e774\",\"type\":\"Line\"},{\"attributes\":{\"data_source\":{\"id\":\"e4976d68-94d9-4001-bb23-519f131e7c3a\",\"type\":\"ColumnDataSource\"},\"glyph\":{\"id\":\"65e515a1-5cbe-475a-8232-6ba9092cb1a1\",\"type\":\"Line\"},\"hover_glyph\":null,\"muted_glyph\":null,\"nonselection_glyph\":{\"id\":\"7f610c91-c480-4c19-b24d-309cd434e774\",\"type\":\"Line\"},\"selection_glyph\":null,\"view\":{\"id\":\"af17cea3-f9c3-48ee-8595-98fc2febdd07\",\"type\":\"CDSView\"}},\"id\":\"7b1aa1d8-2558-4bb8-bb67-225fcc7a9351\",\"type\":\"GlyphRenderer\"},{\"attributes\":{\"children\":[{\"id\":\"c5b73824-0219-40df-9b9a-902491eaea92\",\"type\":\"ToolbarBox\"},{\"id\":\"22873b5b-37b0-40cc-bd92-bd9be912469e\",\"type\":\"Column\"}]},\"id\":\"d1be1082-b982-4fa6-979e-8a9c8c6e91ef\",\"type\":\"Column\"},{\"attributes\":{\"label\":{\"value\":\"WGT igg=10 wgt_flux=2\"},\"renderers\":[{\"id\":\"38204d64-6c9e-488b-a630-8e126098b40f\",\"type\":\"GlyphRenderer\"},{\"id\":\"7b1aa1d8-2558-4bb8-bb67-225fcc7a9351\",\"type\":\"GlyphRenderer\"}]},\"id\":\"516d0ef6-5152-4e93-8111-e418832f00cf\",\"type\":\"LegendItem\"},{\"attributes\":{\"label\":{\"value\":\"CLIRAD `coolr_bands`\"},\"renderers\":[{\"id\":\"08f2e909-1447-4df8-b580-4a8151c5c56f\",\"type\":\"GlyphRenderer\"}]},\"id\":\"bfcfcc6d-4792-414e-9422-208ec6f8420e\",\"type\":\"LegendItem\"},{\"attributes\":{\"data_source\":{\"id\":\"e63f48c0-91c9-4d1c-b980-44c56cf1a3ac\",\"type\":\"ColumnDataSource\"},\"glyph\":{\"id\":\"b9219143-0a52-4e99-8141-79023111a63b\",\"type\":\"Square\"},\"hover_glyph\":null,\"muted_glyph\":null,\"nonselection_glyph\":{\"id\":\"57d11e95-00fd-47d3-81bd-4beda7891483\",\"type\":\"Square\"},\"selection_glyph\":null,\"view\":{\"id\":\"8c57cb86-19d1-4133-8eb0-22bd34e9d4fb\",\"type\":\"CDSView\"}},\"id\":\"2006288a-c7d6-429c-a94e-a7f7516d0ff0\",\"type\":\"GlyphRenderer\"},{\"attributes\":{\"ticker\":null},\"id\":\"e917b861-7eec-4e1e-a695-00d668adb8db\",\"type\":\"LogTickFormatter\"},{\"attributes\":{\"line_alpha\":0.1,\"line_color\":\"#1f77b4\",\"line_dash\":[6],\"line_width\":5,\"x\":{\"field\":\"x\"},\"y\":{\"field\":\"y\"}},\"id\":\"9a8ff3e8-cb60-44a7-8b20-50e41385d543\",\"type\":\"Line\"},{\"attributes\":{\"line_alpha\":0.1,\"line_color\":\"#1f77b4\",\"line_width\":3,\"x\":{\"field\":\"x\"},\"y\":{\"field\":\"y\"}},\"id\":\"b83f35f4-8346-4598-a316-31daef7f2c12\",\"type\":\"Line\"},{\"attributes\":{\"tools\":[{\"id\":\"16bba427-c697-4a06-9257-2f018df5ce6c\",\"type\":\"PanTool\"},{\"id\":\"4e7af08d-9cb0-4d7c-a32c-085785cd9661\",\"type\":\"WheelZoomTool\"},{\"id\":\"2c66acbf-c166-4e3c-9e33-3a3b2f06af31\",\"type\":\"BoxZoomTool\"},{\"id\":\"c906f1a7-afd6-43a6-b7da-85820bd4b4ea\",\"type\":\"SaveTool\"},{\"id\":\"9f095c30-e915-4022-b9d5-a5a310de5177\",\"type\":\"ResetTool\"},{\"id\":\"6377762c-d498-4d4c-beae-193a9d19eaee\",\"type\":\"HelpTool\"},{\"id\":\"f4be4711-c7b0-4786-afe8-5a66c631f6a7\",\"type\":\"PanTool\"},{\"id\":\"062fac14-ad01-4674-8fc3-636859fc4c2e\",\"type\":\"WheelZoomTool\"},{\"id\":\"62b743da-2af8-4354-849e-aecf67e0fcfc\",\"type\":\"BoxZoomTool\"},{\"id\":\"cdae9956-abdd-4836-8e74-1a1d40bca817\",\"type\":\"SaveTool\"},{\"id\":\"196b72a2-15a3-43b9-a78a-d11e64277898\",\"type\":\"ResetTool\"},{\"id\":\"f8f2a0b9-9f1f-44eb-876e-3b099e31eec2\",\"type\":\"HelpTool\"}]},\"id\":\"78b11874-624c-4b20-8815-6c8d5a224f3b\",\"type\":\"ProxyToolbar\"},{\"attributes\":{\"callback\":null,\"column_names\":[\"x\",\"y\"],\"data\":{\"x\":{\"__ndarray__\":\"/Dh5FUJc2j9aPMRYCQraP0/An6+Tmdo/sINSzQ8Q2z9iu72cwFHbP6SkTfZLW9s/IQeAhScP2z++Mi25o2LaPwSwfdg9P9k/7ECMxpCS1z+I0+78R0vVP63FArqKYNI/N0BAKSCOzT+XKXuF5OjEP9zIp40Lg7w/6qIyD6oevz8DpGirs1bGPw4LvRfC3sw/DzEUZpAx0j/NJ6dNBzjXPwwQu6WLQ94/4JWPavl95D8WIyJnJ2TqP9T7Wzyb+ek/vOsJnoRK5D/eGMjU2WDePwE4crQVgdY/mPjlxAW90D9Pb04+oODJP5CQWL2JwsQ/UQ80E8pKwD+crQhzxQm4P7XKHjESC7I/e+JNPycLrT8huDmxYS+mP2Tm7rLg950/vwcfspdZlT+TZiYqsfGQP+IFHWUneYA/SKLAhz4bWr/aC3NvAj4wP23Dsfl704s/BnlX7Bgfmj+PJcUqUh+iP3x1kAIEpqY/Ti53embIqj8DlVQa75auP3TJ2NOFDbE/nQZ3LUKtsj/+l0UKYCi0P03rcQrrebU/PI0eOX6atj9O3oZsroe3PwarF2f/SLg/L6uoqJfruD9wx5RCMnq5P55zfUAc+7k/5+7GxN5yuj+USbKzjeS6P6m96+AeU7s/WQ4d0AzBuz/mXAZzJjO8P0PEcvDxrrw/u5obV0w6vT9677ldedq9Pwnr1p20kb4/jAdCT1ZOvz+Cb5o+O+C/Pw6iUngSCcA/CZ0AWFfkvz/ebDm48JO/P/UfRsZyZL8/2ibsDYSFvz8BC2g7CRnAP2tDan8MQsE/\",\"dtype\":\"float64\",\"shape\":[75]},\"y\":{\"__ndarray__\":\"GhExyth1ND/Sv8nbtpRIP2vylNV0PVE/aTum7souWD/At0SJ8fVgPw3Iuahxymc/MSNhhJWvcD/bTfBN02d3P2zb5nxnaoA/CD5h5MAGhz8NmeH1TyaQP+zrCsc9p5Y/LbKd76fGnz/bLW5ISEmmPww9YvTcQq8/JV2OstnstT8Er5Y7M8G+P0c+r3jqkcU/5h99k6ZBzj88bCIzFzjVP4enV8oyxN0//yH99nXg5D8qOpLLf0jtP5kqGJXUifQ/c9cS8kHP/D+/DpwzojQEQIEmwoanVwxA4lgXt9HgE0BSSZ2AJuIbQAMJih9jjiNA5q4l5INuK0AwTKYKRj0zQNv5fmq8/DpAaCJseHrtQkB/+zpwzoxKQM3MzMzMeFJAZmZmZmZqWEAAAAAAAFxeQM3MzMzMJmJAmpmZmZkfZUBmZmZmZhhoQDMzMzMzEWtAAAAAAAAKbkBmZmZmZoFwQM3MzMzM/XFAMzMzMzN6c0CamZmZmfZ0QAAAAAAAc3ZAZmZmZmbvd0DNzMzMzGt5QDMzMzMz6HpAmpmZmZlkfEAAAAAAAOF9QGZmZmZmXX9AZmZmZuZsgECamZmZGSuBQM3MzMxM6YFAAAAAAICngkAzMzMzs2WDQGZmZmbmI4RAmpmZmRnihEDNzMzMTKCFQAAAAACAXoZAMzMzM7Mch0BmZmZm5tqHQJqZmZkZmYhAzczMzExXiUAAAAAAgBWKQDMzMzOz04pAZmZmZuaRi0CamZmZGVCMQM3MzMxMDo1AAAAAAIDMjUAzMzMzs4qOQGZmZmbmSI9A\",\"dtype\":\"float64\",\"shape\":[75]}}},\"id\":\"a56d574e-4ed3-463c-a289-5f82619e9f04\",\"type\":\"ColumnDataSource\"},{\"attributes\":{\"callback\":null,\"column_names\":[\"x\",\"y\"],\"data\":{\"x\":{\"__ndarray__\":\"6p3H2iXP1D8awuWgS+TUP55fHuIAeNU/lJpPnTkb1j+QmPz/uKHWP0AIq04ZBdc/GEa75upA1z87sVE38ULXP2KgRdHR+dY/oWNwcThR1j/NwJ3jHjLVP9TlrnXwfNM/TuCUPxcP0T9fJaisaZDLP0Sa3SYaYsY/jcbK+ncbyD+hgPodpBfOPxQT2YNvE9E/OV7rBR6T0j9Vo3D/4BXVP9BDckk5c9o/0JCVSv0+4j9SqTjj8hboP82+Tkj0POg/dGDYYZVx4z85XjacLj3eP7KyBPs12dc/qxHVIxcN0z+uxFIdlaHOP+mBiIgjTcg/NZNbRwxowj8UY4VUVBy6P03QrgH26bI/j/grcKCNrj9rBe81hjOpP2DCgO4Hm6M/WNCXr8Rznz9ar/KxNueZP1bb182cPY0/MpmeoToqYD/8F3Lte7FmP9zQkJXJwpA/nXUY9VL2nD+kDxJpEjyjP0eVbqXuNac/YtI0Vh2qqj/yF5xD58etPxm48SoIVbA/HfofrbqzsT/u6k3RnQCzPzixPk0uObQ/IQbAqSZWtT/25d9mZEm2Pzt+9AsKJLc/IaRSy0Lptz9gJQU5eKC4PzxtEbBETbk/JFgg1PnvuT/yqHm/u4q6PwkBRcwtHrs/Pt2ZwbSruz89wZFT2zu8P1bXxnQrxrw/5KgGTblgvT/9UUfuEAq+P96B8NZ8xL4/nIzevzmDvz+GC2sJFwvAP/MLqllfJcA/ZKfNlskRwD9sgqqmr9i/PzjR1iDiqr8/6YaXEeXFvz80U/8yPjLAP10Io8dbTME/\",\"dtype\":\"float64\",\"shape\":[75]},\"y\":{\"__ndarray__\":\"GhExyth1ND/Sv8nbtpRIP2vylNV0PVE/aTum7souWD/At0SJ8fVgPw3Iuahxymc/MSNhhJWvcD/bTfBN02d3P2zb5nxnaoA/CD5h5MAGhz8NmeH1TyaQP+zrCsc9p5Y/LbKd76fGnz/bLW5ISEmmPww9YvTcQq8/JV2OstnstT8Er5Y7M8G+P0c+r3jqkcU/5h99k6ZBzj88bCIzFzjVP4enV8oyxN0//yH99nXg5D8qOpLLf0jtP5kqGJXUifQ/c9cS8kHP/D+/DpwzojQEQIEmwoanVwxA4lgXt9HgE0BSSZ2AJuIbQAMJih9jjiNA5q4l5INuK0AwTKYKRj0zQNv5fmq8/DpAaCJseHrtQkB/+zpwzoxKQM3MzMzMeFJAZmZmZmZqWEAAAAAAAFxeQM3MzMzMJmJAmpmZmZkfZUBmZmZmZhhoQDMzMzMzEWtAAAAAAAAKbkBmZmZmZoFwQM3MzMzM/XFAMzMzMzN6c0CamZmZmfZ0QAAAAAAAc3ZAZmZmZmbvd0DNzMzMzGt5QDMzMzMz6HpAmpmZmZlkfEAAAAAAAOF9QGZmZmZmXX9AZmZmZuZsgECamZmZGSuBQM3MzMxM6YFAAAAAAICngkAzMzMzs2WDQGZmZmbmI4RAmpmZmRnihEDNzMzMTKCFQAAAAACAXoZAMzMzM7Mch0BmZmZm5tqHQJqZmZkZmYhAzczMzExXiUAAAAAAgBWKQDMzMzOz04pAZmZmZuaRi0CamZmZGVCMQM3MzMxMDo1AAAAAAIDMjUAzMzMzs4qOQGZmZmbmSI9A\",\"dtype\":\"float64\",\"shape\":[75]}}},\"id\":\"760e9e70-aafc-4da0-a753-0b1a5c25f70e\",\"type\":\"ColumnDataSource\"},{\"attributes\":{\"line_alpha\":0.6,\"line_color\":\"#e41a1c\",\"line_dash\":[6],\"line_width\":5,\"x\":{\"field\":\"x\"},\"y\":{\"field\":\"y\"}},\"id\":\"ea40e9e2-43cf-4f0a-88a9-366c48ec16fb\",\"type\":\"Line\"},{\"attributes\":{\"data_source\":{\"id\":\"93520fdc-d57e-474b-9074-f132360ff03c\",\"type\":\"ColumnDataSource\"},\"glyph\":{\"id\":\"e46bdf57-cf3a-4d53-b3e6-69524824fec8\",\"type\":\"Line\"},\"hover_glyph\":null,\"muted_glyph\":null,\"nonselection_glyph\":{\"id\":\"9a8ff3e8-cb60-44a7-8b20-50e41385d543\",\"type\":\"Line\"},\"selection_glyph\":null,\"view\":{\"id\":\"711e8c56-9bc0-492e-81ed-a7b123fc3803\",\"type\":\"CDSView\"}},\"id\":\"08f2e909-1447-4df8-b580-4a8151c5c56f\",\"type\":\"GlyphRenderer\"},{\"attributes\":{\"callback\":null,\"column_names\":[\"x\",\"y\"],\"data\":{\"x\":{\"__ndarray__\":\"8F/Nv2Vnyj8V8yD7KHzUP7VAksRYh9E/VCd3Cn8nzT91X8b7DtHRP+dmZgM8K9U/6icYpbZa0T+FozceZMDRPzqQFuPTjtM/VWJD3EFR0j8pYLffDITSP+UMgwGd7NE/dCmNHBIM0D+OgwE6gorLP+fNGwZ3EMg/onoQpzgzyj8cDqa8sfvPP4zGb0TWntE/Ln7ovKUg0j+FqOseE4jTPw7ABkSIq9g/5U00/jNZ4T/lz/khHTvnP5jR+iFXxuc/9qm23fyN4z8/6V0fSrLePwQHMDxhT9g/NBOpvF890z9cE/uZtAjPP39XmWNYScg/GnAzaCo8wj/c2RUC0mG5P+gB+QBHfLE/CD3n4+TCqz8GKepfofWnP67EHR6rXKM/gfCKqNXMnj/ahOu5m5OYPzy3kTHFvIk//5B4B8/hIz+lJ4UeAttGP+qfVLlYaow/EZg4BiVLmj+AmSxEQOuhP4XMP0H82KU/pknGvTsqqT+b3I/e5y2sPyr6uEDG/64/br+dwEvbsD+EmGf/5VWyP6FV2qD+zLM/yHCQno8jtT9A2v8Aa1W2P85Q/f8PYrc/WrsvX0VjuD9Y9oAgEE25P8NPVutIHro/JiDkxHDYuj8EMgHgVHu7P3jMSNZEE7w/dXuDDj69vD/6XX3hOmu9P3OHZgGHDr4/2uyjrhCxvj/+bi68mlW/P2h7smopA8A/iFTmIMdawD+y8Fjg6Z3AP4OBaxdoscA/0biJvcSWwD/kq7IpNmrAP6GGyhpQSsA/c6lC6hNMwD/Zz0EbqYzAP1xpQigpj8E/\",\"dtype\":\"float64\",\"shape\":[75]},\"y\":{\"__ndarray__\":\"S/O/Q+51ND/430zAtpRIP2vylNV0PVE/QxsjCssuWD/TR4Z78fVgP+inNsRxymc/OuuBfZWvcD/u3TFA02d3P2d3VoBnaoA/CD5h5MAGhz/1pA8HUCaQP+zrCsc9p5Y/Fb7LAKjGnz/nJ9c/SEmmPwBD+fzcQq8/FOZwv9nstT8Er5Y7M8G+P0c+r3jqkcU/yK72qKZBzj+tM989FzjVPxbgmr8yxN0/cOm5AXbg5D+5ctXAf0jtP5kqGJXUifQ/DsrqDELP/D8MCAhBojQEQDItVnmnVwxAiFXNvdHgE0BSSZ2AJuIbQAMJih9jjiNA5q4l5INuK0CPVN/5RT0zQHzxRXu8/DpAOZ7PgHrtQkAg8wGBzoxKQBSTN8DMeFJA2NmQf2ZqWEAAAAAAAFxeQEQX1LfMJmJAmpmZmZkfZUBmZmZmZhhoQLzoK0gzEWtAAAAAAAAKbkCiC+pbZoFwQAhyUMLM/XFA+I2vPTN6c0AQ5KCEmfZ0QAAAAAAAc3ZA8Btfe2bvd0AIclDCzGt5QPeNrz0z6HpAEOSghJlkfEAAAAAAAOF9QKML6ltmXX9ABTkoYeZsgED7xteeGSuBQAhyUMJM6YFAAAAAAICngkD4ja89s2WDQAU5KGHmI4RA+8bXnhnihEAIclDCTKCFQAAAAACAXoZA+I2vPbMch0AFOShh5tqHQPvG154ZmYhACHJQwkxXiUAAAAAAgBWKQPeNrz2z04pABTkoYeaRi0D7xteeGVCMQAlyUMJMDo1AAAAAAIDMjUD3ja89s4qOQGZmZmbmSI9A\",\"dtype\":\"float64\",\"shape\":[75]}}},\"id\":\"93520fdc-d57e-474b-9074-f132360ff03c\",\"type\":\"ColumnDataSource\"},{\"attributes\":{\"label\":{\"value\":\"CRD\"},\"renderers\":[{\"id\":\"37f4ed63-0723-4010-964b-c885c184ecba\",\"type\":\"GlyphRenderer\"},{\"id\":\"53592295-c529-43ae-95ec-ed7647c08a38\",\"type\":\"GlyphRenderer\"}]},\"id\":\"6db02b0a-cd2b-4109-9b24-ca3ee59d521b\",\"type\":\"LegendItem\"}],\"root_ids\":[\"d1be1082-b982-4fa6-979e-8a9c8c6e91ef\"]},\"title\":\"Bokeh Application\",\"version\":\"0.12.14\"}};\n",
       "  var render_items = [{\"docid\":\"c971b84c-281e-4bde-a55e-57d9326287a1\",\"elementid\":\"58288749-a6b1-41ef-975a-5b1577a71161\",\"modelid\":\"d1be1082-b982-4fa6-979e-8a9c8c6e91ef\"}];\n",
       "  root.Bokeh.embed.embed_items_notebook(docs_json, render_items);\n",
       "\n",
       "  }\n",
       "  if (root.Bokeh !== undefined) {\n",
       "    embed_document(root);\n",
       "  } else {\n",
       "    var attempts = 0;\n",
       "    var timer = setInterval(function(root) {\n",
       "      if (root.Bokeh !== undefined) {\n",
       "        embed_document(root);\n",
       "        clearInterval(timer);\n",
       "      }\n",
       "      attempts++;\n",
       "      if (attempts > 100) {\n",
       "        console.log(\"Bokeh: ERROR: Unable to run BokehJS code because BokehJS library is missing\")\n",
       "        clearInterval(timer);\n",
       "      }\n",
       "    }, 10, root)\n",
       "  }\n",
       "})(window);"
      ],
      "application/vnd.bokehjs_exec.v0+json": ""
     },
     "metadata": {
      "application/vnd.bokehjs_exec.v0+json": {
       "id": "d1be1082-b982-4fa6-979e-8a9c8c6e91ef"
      }
     },
     "output_type": "display_data"
    },
    {
     "name": "stdout",
     "output_type": "stream",
     "text": [
      "FIGURE. Cooling rate profiles.\n"
     ]
    },
    {
     "data": {
      "text/html": [
       "<a id=\"Flux_Comparison\"></a>"
      ],
      "text/plain": [
       "<IPython.core.display.HTML object>"
      ]
     },
     "metadata": {},
     "output_type": "display_data"
    },
    {
     "data": {
      "text/markdown": [
       "# Flux Comparison"
      ],
      "text/plain": [
       "<IPython.core.display.Markdown object>"
      ]
     },
     "metadata": {},
     "output_type": "display_data"
    },
    {
     "data": {
      "text/html": [
       "<div>\n",
       "<style>\n",
       "    .dataframe thead tr:only-child th {\n",
       "        text-align: right;\n",
       "    }\n",
       "\n",
       "    .dataframe thead th {\n",
       "        text-align: left;\n",
       "    }\n",
       "\n",
       "    .dataframe tbody tr th {\n",
       "        vertical-align: top;\n",
       "    }\n",
       "</style>\n",
       "<table border=\"1\" class=\"dataframe\">\n",
       "  <thead>\n",
       "    <tr style=\"text-align: right;\">\n",
       "      <th></th>\n",
       "      <th></th>\n",
       "      <th>flug</th>\n",
       "      <th>fldg</th>\n",
       "      <th>fnetg</th>\n",
       "    </tr>\n",
       "    <tr>\n",
       "      <th>pressure</th>\n",
       "      <th>level</th>\n",
       "      <th></th>\n",
       "      <th></th>\n",
       "      <th></th>\n",
       "    </tr>\n",
       "  </thead>\n",
       "  <tbody>\n",
       "    <tr>\n",
       "      <th>0.0000</th>\n",
       "      <th>1</th>\n",
       "      <td>-29.605354</td>\n",
       "      <td>0.000000</td>\n",
       "      <td>-29.605354</td>\n",
       "    </tr>\n",
       "    <tr>\n",
       "      <th>1.0685</th>\n",
       "      <th>24</th>\n",
       "      <td>-29.609930</td>\n",
       "      <td>0.067093</td>\n",
       "      <td>-29.542837</td>\n",
       "    </tr>\n",
       "    <tr>\n",
       "      <th>1013.0000</th>\n",
       "      <th>76</th>\n",
       "      <td>-36.235409</td>\n",
       "      <td>16.836775</td>\n",
       "      <td>-19.398633</td>\n",
       "    </tr>\n",
       "  </tbody>\n",
       "</table>\n",
       "</div>"
      ],
      "text/plain": [
       "                      flug       fldg      fnetg\n",
       "pressure  level                                 \n",
       "0.0000    1     -29.605354   0.000000 -29.605354\n",
       "1.0685    24    -29.609930   0.067093 -29.542837\n",
       "1013.0000 76    -36.235409  16.836775 -19.398633"
      ]
     },
     "metadata": {},
     "output_type": "display_data"
    },
    {
     "name": "stdout",
     "output_type": "stream",
     "text": [
      "Table. Fluxes. WGT igg=10 wgt_flux=1\n"
     ]
    },
    {
     "data": {
      "text/html": [
       "<div>\n",
       "<style>\n",
       "    .dataframe thead tr:only-child th {\n",
       "        text-align: right;\n",
       "    }\n",
       "\n",
       "    .dataframe thead th {\n",
       "        text-align: left;\n",
       "    }\n",
       "\n",
       "    .dataframe tbody tr th {\n",
       "        vertical-align: top;\n",
       "    }\n",
       "</style>\n",
       "<table border=\"1\" class=\"dataframe\">\n",
       "  <thead>\n",
       "    <tr style=\"text-align: right;\">\n",
       "      <th></th>\n",
       "      <th></th>\n",
       "      <th>flug</th>\n",
       "      <th>fldg</th>\n",
       "      <th>fnetg</th>\n",
       "    </tr>\n",
       "    <tr>\n",
       "      <th>pressure</th>\n",
       "      <th>level</th>\n",
       "      <th></th>\n",
       "      <th></th>\n",
       "      <th></th>\n",
       "    </tr>\n",
       "  </thead>\n",
       "  <tbody>\n",
       "    <tr>\n",
       "      <th>0.0000</th>\n",
       "      <th>1</th>\n",
       "      <td>-29.591178</td>\n",
       "      <td>0.000000</td>\n",
       "      <td>-29.591178</td>\n",
       "    </tr>\n",
       "    <tr>\n",
       "      <th>1.0685</th>\n",
       "      <th>24</th>\n",
       "      <td>-29.596461</td>\n",
       "      <td>0.072693</td>\n",
       "      <td>-29.523768</td>\n",
       "    </tr>\n",
       "    <tr>\n",
       "      <th>1013.0000</th>\n",
       "      <th>76</th>\n",
       "      <td>-36.235408</td>\n",
       "      <td>16.758790</td>\n",
       "      <td>-19.476618</td>\n",
       "    </tr>\n",
       "  </tbody>\n",
       "</table>\n",
       "</div>"
      ],
      "text/plain": [
       "                      flug       fldg      fnetg\n",
       "pressure  level                                 \n",
       "0.0000    1     -29.591178   0.000000 -29.591178\n",
       "1.0685    24    -29.596461   0.072693 -29.523768\n",
       "1013.0000 76    -36.235408  16.758790 -19.476618"
      ]
     },
     "metadata": {},
     "output_type": "display_data"
    },
    {
     "name": "stdout",
     "output_type": "stream",
     "text": [
      "Table. Fluxes. CRD\n"
     ]
    },
    {
     "data": {
      "text/html": [
       "<div>\n",
       "<style>\n",
       "    .dataframe thead tr:only-child th {\n",
       "        text-align: right;\n",
       "    }\n",
       "\n",
       "    .dataframe thead th {\n",
       "        text-align: left;\n",
       "    }\n",
       "\n",
       "    .dataframe tbody tr th {\n",
       "        vertical-align: top;\n",
       "    }\n",
       "</style>\n",
       "<table border=\"1\" class=\"dataframe\">\n",
       "  <thead>\n",
       "    <tr style=\"text-align: right;\">\n",
       "      <th></th>\n",
       "      <th></th>\n",
       "      <th>flug</th>\n",
       "      <th>fldg</th>\n",
       "      <th>fnetg</th>\n",
       "    </tr>\n",
       "    <tr>\n",
       "      <th>pressure</th>\n",
       "      <th>level</th>\n",
       "      <th></th>\n",
       "      <th></th>\n",
       "      <th></th>\n",
       "    </tr>\n",
       "  </thead>\n",
       "  <tbody>\n",
       "    <tr>\n",
       "      <th>1.000000e-08</th>\n",
       "      <th>1</th>\n",
       "      <td>-29.699995</td>\n",
       "      <td>0.000002</td>\n",
       "      <td>-29.699993</td>\n",
       "    </tr>\n",
       "    <tr>\n",
       "      <th>1.068500e+00</th>\n",
       "      <th>24</th>\n",
       "      <td>-29.703854</td>\n",
       "      <td>0.063823</td>\n",
       "      <td>-29.640030</td>\n",
       "    </tr>\n",
       "    <tr>\n",
       "      <th>1.013000e+03</th>\n",
       "      <th>76</th>\n",
       "      <td>-36.235409</td>\n",
       "      <td>16.849537</td>\n",
       "      <td>-19.385872</td>\n",
       "    </tr>\n",
       "  </tbody>\n",
       "</table>\n",
       "</div>"
      ],
      "text/plain": [
       "                         flug       fldg      fnetg\n",
       "pressure     level                                 \n",
       "1.000000e-08 1     -29.699995   0.000002 -29.699993\n",
       "1.068500e+00 24    -29.703854   0.063823 -29.640030\n",
       "1.013000e+03 76    -36.235409  16.849537 -19.385872"
      ]
     },
     "metadata": {},
     "output_type": "display_data"
    },
    {
     "name": "stdout",
     "output_type": "stream",
     "text": [
      "Table. Fluxes. CLIRAD\n"
     ]
    },
    {
     "data": {
      "text/html": [
       "<div>\n",
       "<style>\n",
       "    .dataframe thead tr:only-child th {\n",
       "        text-align: right;\n",
       "    }\n",
       "\n",
       "    .dataframe thead th {\n",
       "        text-align: left;\n",
       "    }\n",
       "\n",
       "    .dataframe tbody tr th {\n",
       "        vertical-align: top;\n",
       "    }\n",
       "</style>\n",
       "<table border=\"1\" class=\"dataframe\">\n",
       "  <thead>\n",
       "    <tr style=\"text-align: right;\">\n",
       "      <th></th>\n",
       "      <th></th>\n",
       "      <th>flug</th>\n",
       "      <th>fldg</th>\n",
       "      <th>fnetg</th>\n",
       "    </tr>\n",
       "    <tr>\n",
       "      <th>pressure</th>\n",
       "      <th>level</th>\n",
       "      <th></th>\n",
       "      <th></th>\n",
       "      <th></th>\n",
       "    </tr>\n",
       "  </thead>\n",
       "  <tbody>\n",
       "    <tr>\n",
       "      <th>0.0000</th>\n",
       "      <th>1</th>\n",
       "      <td>1.417613e-02</td>\n",
       "      <td>0.000000</td>\n",
       "      <td>0.014176</td>\n",
       "    </tr>\n",
       "    <tr>\n",
       "      <th>1.0685</th>\n",
       "      <th>24</th>\n",
       "      <td>1.346853e-02</td>\n",
       "      <td>0.005601</td>\n",
       "      <td>0.019069</td>\n",
       "    </tr>\n",
       "    <tr>\n",
       "      <th>1013.0000</th>\n",
       "      <th>76</th>\n",
       "      <td>5.330000e-07</td>\n",
       "      <td>-0.077985</td>\n",
       "      <td>-0.077985</td>\n",
       "    </tr>\n",
       "  </tbody>\n",
       "</table>\n",
       "</div>"
      ],
      "text/plain": [
       "                         flug      fldg     fnetg\n",
       "pressure  level                                  \n",
       "0.0000    1      1.417613e-02  0.000000  0.014176\n",
       "1.0685    24     1.346853e-02  0.005601  0.019069\n",
       "1013.0000 76     5.330000e-07 -0.077985 -0.077985"
      ]
     },
     "metadata": {},
     "output_type": "display_data"
    },
    {
     "name": "stdout",
     "output_type": "stream",
     "text": [
      "Table. Fluxes. (CRD) - (WGT igg=10 wgt_flux=1)\n"
     ]
    },
    {
     "data": {
      "text/html": [
       "<div>\n",
       "<style>\n",
       "    .dataframe thead tr:only-child th {\n",
       "        text-align: right;\n",
       "    }\n",
       "\n",
       "    .dataframe thead th {\n",
       "        text-align: left;\n",
       "    }\n",
       "\n",
       "    .dataframe tbody tr th {\n",
       "        vertical-align: top;\n",
       "    }\n",
       "</style>\n",
       "<table border=\"1\" class=\"dataframe\">\n",
       "  <thead>\n",
       "    <tr style=\"text-align: right;\">\n",
       "      <th></th>\n",
       "      <th></th>\n",
       "      <th>flug</th>\n",
       "      <th>fldg</th>\n",
       "      <th>fnetg</th>\n",
       "    </tr>\n",
       "    <tr>\n",
       "      <th>pressure</th>\n",
       "      <th>level</th>\n",
       "      <th></th>\n",
       "      <th></th>\n",
       "      <th></th>\n",
       "    </tr>\n",
       "  </thead>\n",
       "  <tbody>\n",
       "    <tr>\n",
       "      <th>0.0000</th>\n",
       "      <th>1</th>\n",
       "      <td>-9.464087e-02</td>\n",
       "      <td>0.000002</td>\n",
       "      <td>-0.094639</td>\n",
       "    </tr>\n",
       "    <tr>\n",
       "      <th>1.0685</th>\n",
       "      <th>24</th>\n",
       "      <td>-9.392447e-02</td>\n",
       "      <td>-0.003270</td>\n",
       "      <td>-0.097193</td>\n",
       "    </tr>\n",
       "    <tr>\n",
       "      <th>1013.0000</th>\n",
       "      <th>76</th>\n",
       "      <td>-4.670000e-07</td>\n",
       "      <td>0.012762</td>\n",
       "      <td>0.012761</td>\n",
       "    </tr>\n",
       "  </tbody>\n",
       "</table>\n",
       "</div>"
      ],
      "text/plain": [
       "                         flug      fldg     fnetg\n",
       "pressure  level                                  \n",
       "0.0000    1     -9.464087e-02  0.000002 -0.094639\n",
       "1.0685    24    -9.392447e-02 -0.003270 -0.097193\n",
       "1013.0000 76    -4.670000e-07  0.012762  0.012761"
      ]
     },
     "metadata": {},
     "output_type": "display_data"
    },
    {
     "name": "stdout",
     "output_type": "stream",
     "text": [
      "Table. Fluxes. (CLIRAD) - (WGT igg=10 wgt_flux=1)\n"
     ]
    },
    {
     "data": {
      "text/html": [
       "<a id=\"Best-fit_Parameters\"></a>"
      ],
      "text/plain": [
       "<IPython.core.display.HTML object>"
      ]
     },
     "metadata": {},
     "output_type": "display_data"
    },
    {
     "data": {
      "text/markdown": [
       "# Best-fit Parameters"
      ],
      "text/plain": [
       "<IPython.core.display.Markdown object>"
      ]
     },
     "metadata": {},
     "output_type": "display_data"
    },
    {
     "name": "stdout",
     "output_type": "stream",
     "text": [
      "Best-fit values for each (gas, band)\n",
      "------------------------------------\n",
      "o co2 band3a\n",
      "  atmpro = mls\n",
      "  band = 3a\n",
      "  commitnumber = 5014a19\n",
      "  conc = 0.0004\n",
      "  dv = 0.01\n",
      "  klin = 6.375563e-24\n",
      "  molecule = co2\n",
      "  ng_adju = [0, 0, 0]\n",
      "  ng_refs = [3, 2, 4]\n",
      "  nv = 100\n",
      "  option_compute_btable = 0\n",
      "  option_compute_ktable = 1\n",
      "  option_wgt_flux = 1\n",
      "  option_wgt_k = 1\n",
      "  ref_pts = [(1, 250), (10, 250), (500, 250)]\n",
      "  tsfc = 294\n",
      "  vmax = 620\n",
      "  vmin = 540\n",
      "  w_diffuse = [(1.6, 1.6, 1.7), (1.75, 1.75), (1.55, 1.55, 1.6, 1.85)]\n",
      "  wgt = [(0.7, 0.3, 0.7), (0.7, 0.6), (0.4, 0.5, 0.8, 0.95)]\n"
     ]
    }
   ],
   "source": [
    "script()"
   ]
  },
  {
   "cell_type": "code",
   "execution_count": 13,
   "metadata": {
    "collapsed": true
   },
   "outputs": [
    {
     "data": {
      "text/html": [
       "<script>\n",
       "code_show=true; \n",
       "function code_toggle() {\n",
       " if (code_show){\n",
       " $('div.input').hide();\n",
       " } else {\n",
       " $('div.input').show();\n",
       " }\n",
       " code_show = !code_show\n",
       "} \n",
       "$( document ).ready(code_toggle);\n",
       "</script>\n",
       "<form action=\"javascript:code_toggle()\"><input type=\"submit\" value=\"Click here to toggle on/off the raw code.\"></form>"
      ],
      "text/plain": [
       "<IPython.core.display.HTML object>"
      ]
     },
     "execution_count": 13,
     "metadata": {},
     "output_type": "execute_result"
    }
   ],
   "source": [
    "display.HTML('''<script>\n",
    "code_show=true; \n",
    "function code_toggle() {\n",
    " if (code_show){\n",
    " $('div.input').hide();\n",
    " } else {\n",
    " $('div.input').show();\n",
    " }\n",
    " code_show = !code_show\n",
    "} \n",
    "$( document ).ready(code_toggle);\n",
    "</script>\n",
    "<form action=\"javascript:code_toggle()\"><input type=\"submit\" value=\"Click here to toggle on/off the raw code.\"></form>''')"
   ]
  }
 ],
 "metadata": {
  "kernelspec": {
   "display_name": "Python 3",
   "language": "python",
   "name": "python3"
  },
  "language_info": {
   "codemirror_mode": {
    "name": "ipython",
    "version": 3
   },
   "file_extension": ".py",
   "mimetype": "text/x-python",
   "name": "python",
   "nbconvert_exporter": "python",
   "pygments_lexer": "ipython3",
   "version": "3.6.1"
  }
 },
 "nbformat": 4,
 "nbformat_minor": 2
}
