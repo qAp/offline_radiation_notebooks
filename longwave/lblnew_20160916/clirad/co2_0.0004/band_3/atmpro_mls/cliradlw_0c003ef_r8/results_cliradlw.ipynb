{
 "cells": [
  {
   "cell_type": "code",
   "execution_count": 1,
   "metadata": {
    "collapsed": true
   },
   "outputs": [],
   "source": [
    "%matplotlib inline\n",
    "import os\n",
    "import re\n",
    "import io\n",
    "import itertools\n",
    "import pprint\n",
    "\n",
    "from bokeh.io import output_notebook, show\n",
    "from bokeh.layouts import gridplot\n",
    "from bokeh.plotting import figure\n",
    "from bokeh.models import Range1d, Legend\n",
    "from bokeh.palettes import all_palettes\n",
    "\n",
    "import matplotlib\n",
    "import matplotlib.pyplot as plt\n",
    "import numpy as np\n",
    "import pandas as pd\n",
    "import xarray as xr\n",
    "\n",
    "import climatools.lblnew.bestfit_params as bestfits\n",
    "from climatools.lblnew import setup_bestfit, setup_overlap\n",
    "import climatools.lblnew.pipeline as pipe_lblnew\n",
    "import climatools.cliradlw.setup as setup_cliradlw\n",
    "import climatools.cliradlw.pipeline as pipe_cliradlw\n",
    "\n",
    "import climatools.html.html as climahtml\n",
    "from climatools.lblnew.dataio import *\n",
    "from climatools.plot.plot import *\n",
    "\n",
    "\n",
    "import IPython.display as display"
   ]
  },
  {
   "cell_type": "code",
   "execution_count": 2,
   "metadata": {
    "collapsed": true
   },
   "outputs": [],
   "source": [
    "%run param.py"
   ]
  },
  {
   "cell_type": "code",
   "execution_count": 3,
   "metadata": {
    "collapsed": true
   },
   "outputs": [],
   "source": [
    "def load_output_file(path_csv):\n",
    "    '''\n",
    "    Load lblnew output .csv file to xarray.Dataset\n",
    "    \n",
    "    Parameters\n",
    "    ----------\n",
    "    path_csv: str\n",
    "              Path to the .csv file to be loaded.\n",
    "    ds: xarray.Dataset\n",
    "        Data in the input file in the form of an xarray.Dataset.\n",
    "    '''\n",
    "    toindex = ['band', 'pressure', 'igg', 'g']    \n",
    "    df = pd.read_csv(path_csv, sep=r'\\s+')\n",
    "    df = df.set_index([i for i in toindex if i in df.columns])\n",
    "    df = df.rename(columns={'sfu': 'flug',\n",
    "                            'sfd': 'fldg',\n",
    "                            'fnet': 'fnetg',\n",
    "                            'coolr': 'coolrg'})\n",
    "    ds = xr.Dataset.from_dataframe(df)\n",
    "\n",
    "    for l in ('level', 'layer'):\n",
    "        if l in ds.data_vars:\n",
    "            if len(ds[l].dims) > 1:\n",
    "                surface = {d: 0 for d in ds.dims if d != 'pressure'}\n",
    "                coord_level = ds[l][surface]\n",
    "                ds.coords[l] = ('pressure', coord_level)\n",
    "            else:\n",
    "                ds.coords[l] = ('pressure', ds[l])\n",
    "    \n",
    "    return ds"
   ]
  },
  {
   "cell_type": "code",
   "execution_count": 4,
   "metadata": {
    "collapsed": true
   },
   "outputs": [],
   "source": [
    "def lblnew_setup(param=None):\n",
    "    if 'ng_refs' in param:\n",
    "        return {'setup': setup_bestfit,\n",
    "                'fname_flux_crd': 'output_flux.dat',\n",
    "                'fname_cool_crd': 'output_coolr.dat',\n",
    "                'fname_flux_wgt': 'output_wfluxg.dat',\n",
    "                'fname_cool_wgt': 'output_wcoolrg.dat'}\n",
    "    else:\n",
    "        return {'setup': setup_overlap,\n",
    "                'fname_flux_crd': 'output_flux.dat',\n",
    "                'fname_cool_crd': 'output_coolr.dat',\n",
    "                'fname_flux_wgt': 'output_wflux.dat',\n",
    "                'fname_cool_wgt': 'output_wcoolr.dat'}\n",
    "\n",
    "    \n",
    "def load_lblnew_data(param):\n",
    "    \n",
    "    fname_dsname = [('fname_flux_crd', 'ds_flux_crd'),\n",
    "                    ('fname_cool_crd', 'ds_cool_crd'),\n",
    "                    ('fname_flux_wgt', 'ds_flux_wgt'),\n",
    "                    ('fname_cool_wgt', 'ds_cool_wgt')]\n",
    "    \n",
    "    d = lblnew_setup(param)\n",
    "    dir_fortran = pipe_lblnew.get_dir_case(param, setup=d['setup'])\n",
    "    \n",
    "    data_dict = {}\n",
    "    for fname, dsname in fname_dsname:\n",
    "        fpath = os.path.join(dir_fortran, d[fname])\n",
    "        data_dict[dsname] = load_output_file(fpath)\n",
    "    return data_dict\n",
    "    \n",
    "\n",
    "    \n",
    "    "
   ]
  },
  {
   "cell_type": "code",
   "execution_count": 5,
   "metadata": {
    "collapsed": true
   },
   "outputs": [],
   "source": [
    "d = load_lblnew_data(PARAM_LBLNEW)\n",
    "\n",
    "DS_FLUX_CRD = d['ds_flux_crd']\n",
    "DS_COOL_CRD = d['ds_cool_crd']\n",
    "DS_FLUX_WGT = d['ds_flux_wgt']\n",
    "DS_COOL_WGT = d['ds_cool_wgt']"
   ]
  },
  {
   "cell_type": "code",
   "execution_count": 6,
   "metadata": {
    "collapsed": true
   },
   "outputs": [],
   "source": [
    "DIR_FORTRAN = pipe_cliradlw.get_fortran_dir(PARAM, \n",
    "                                            setup=setup_cliradlw)\n",
    "\n",
    "PATH_FLUX = os.path.join(DIR_FORTRAN, 'output_flux.dat')\n",
    "PATH_COOL = os.path.join(DIR_FORTRAN, 'output_coolr.dat')\n",
    "\n",
    "DS_FLUX = load_output_file(PATH_FLUX)\n",
    "DS_COOL = load_output_file(PATH_COOL)"
   ]
  },
  {
   "cell_type": "code",
   "execution_count": 7,
   "metadata": {
    "collapsed": true
   },
   "outputs": [
    {
     "data": {
      "text/html": [
       "\n",
       "    <div class=\"bk-root\">\n",
       "        <a href=\"https://bokeh.pydata.org\" target=\"_blank\" class=\"bk-logo bk-logo-small bk-logo-notebook\"></a>\n",
       "        <span id=\"28e96ede-aaef-4065-9a34-a6c42349da2f\">Loading BokehJS ...</span>\n",
       "    </div>"
      ]
     },
     "metadata": {},
     "output_type": "display_data"
    },
    {
     "data": {
      "application/javascript": [
       "\n",
       "(function(root) {\n",
       "  function now() {\n",
       "    return new Date();\n",
       "  }\n",
       "\n",
       "  var force = true;\n",
       "\n",
       "  if (typeof (root._bokeh_onload_callbacks) === \"undefined\" || force === true) {\n",
       "    root._bokeh_onload_callbacks = [];\n",
       "    root._bokeh_is_loading = undefined;\n",
       "  }\n",
       "\n",
       "  var JS_MIME_TYPE = 'application/javascript';\n",
       "  var HTML_MIME_TYPE = 'text/html';\n",
       "  var EXEC_MIME_TYPE = 'application/vnd.bokehjs_exec.v0+json';\n",
       "  var CLASS_NAME = 'output_bokeh rendered_html';\n",
       "\n",
       "  /**\n",
       "   * Render data to the DOM node\n",
       "   */\n",
       "  function render(props, node) {\n",
       "    var script = document.createElement(\"script\");\n",
       "    node.appendChild(script);\n",
       "  }\n",
       "\n",
       "  /**\n",
       "   * Handle when an output is cleared or removed\n",
       "   */\n",
       "  function handleClearOutput(event, handle) {\n",
       "    var cell = handle.cell;\n",
       "\n",
       "    var id = cell.output_area._bokeh_element_id;\n",
       "    var server_id = cell.output_area._bokeh_server_id;\n",
       "    // Clean up Bokeh references\n",
       "    if (id !== undefined) {\n",
       "      Bokeh.index[id].model.document.clear();\n",
       "      delete Bokeh.index[id];\n",
       "    }\n",
       "\n",
       "    if (server_id !== undefined) {\n",
       "      // Clean up Bokeh references\n",
       "      var cmd = \"from bokeh.io.state import curstate; print(curstate().uuid_to_server['\" + server_id + \"'].get_sessions()[0].document.roots[0]._id)\";\n",
       "      cell.notebook.kernel.execute(cmd, {\n",
       "        iopub: {\n",
       "          output: function(msg) {\n",
       "            var element_id = msg.content.text.trim();\n",
       "            Bokeh.index[element_id].model.document.clear();\n",
       "            delete Bokeh.index[element_id];\n",
       "          }\n",
       "        }\n",
       "      });\n",
       "      // Destroy server and session\n",
       "      var cmd = \"import bokeh.io.notebook as ion; ion.destroy_server('\" + server_id + \"')\";\n",
       "      cell.notebook.kernel.execute(cmd);\n",
       "    }\n",
       "  }\n",
       "\n",
       "  /**\n",
       "   * Handle when a new output is added\n",
       "   */\n",
       "  function handleAddOutput(event, handle) {\n",
       "    var output_area = handle.output_area;\n",
       "    var output = handle.output;\n",
       "\n",
       "    // limit handleAddOutput to display_data with EXEC_MIME_TYPE content only\n",
       "    if ((output.output_type != \"display_data\") || (!output.data.hasOwnProperty(EXEC_MIME_TYPE))) {\n",
       "      return\n",
       "    }\n",
       "\n",
       "    var toinsert = output_area.element.find(\".\" + CLASS_NAME.split(' ')[0]);\n",
       "\n",
       "    if (output.metadata[EXEC_MIME_TYPE][\"id\"] !== undefined) {\n",
       "      toinsert[0].firstChild.textContent = output.data[JS_MIME_TYPE];\n",
       "      // store reference to embed id on output_area\n",
       "      output_area._bokeh_element_id = output.metadata[EXEC_MIME_TYPE][\"id\"];\n",
       "    }\n",
       "    if (output.metadata[EXEC_MIME_TYPE][\"server_id\"] !== undefined) {\n",
       "      var bk_div = document.createElement(\"div\");\n",
       "      bk_div.innerHTML = output.data[HTML_MIME_TYPE];\n",
       "      var script_attrs = bk_div.children[0].attributes;\n",
       "      for (var i = 0; i < script_attrs.length; i++) {\n",
       "        toinsert[0].firstChild.setAttribute(script_attrs[i].name, script_attrs[i].value);\n",
       "      }\n",
       "      // store reference to server id on output_area\n",
       "      output_area._bokeh_server_id = output.metadata[EXEC_MIME_TYPE][\"server_id\"];\n",
       "    }\n",
       "  }\n",
       "\n",
       "  function register_renderer(events, OutputArea) {\n",
       "\n",
       "    function append_mime(data, metadata, element) {\n",
       "      // create a DOM node to render to\n",
       "      var toinsert = this.create_output_subarea(\n",
       "        metadata,\n",
       "        CLASS_NAME,\n",
       "        EXEC_MIME_TYPE\n",
       "      );\n",
       "      this.keyboard_manager.register_events(toinsert);\n",
       "      // Render to node\n",
       "      var props = {data: data, metadata: metadata[EXEC_MIME_TYPE]};\n",
       "      render(props, toinsert[0]);\n",
       "      element.append(toinsert);\n",
       "      return toinsert\n",
       "    }\n",
       "\n",
       "    /* Handle when an output is cleared or removed */\n",
       "    events.on('clear_output.CodeCell', handleClearOutput);\n",
       "    events.on('delete.Cell', handleClearOutput);\n",
       "\n",
       "    /* Handle when a new output is added */\n",
       "    events.on('output_added.OutputArea', handleAddOutput);\n",
       "\n",
       "    /**\n",
       "     * Register the mime type and append_mime function with output_area\n",
       "     */\n",
       "    OutputArea.prototype.register_mime_type(EXEC_MIME_TYPE, append_mime, {\n",
       "      /* Is output safe? */\n",
       "      safe: true,\n",
       "      /* Index of renderer in `output_area.display_order` */\n",
       "      index: 0\n",
       "    });\n",
       "  }\n",
       "\n",
       "  // register the mime type if in Jupyter Notebook environment and previously unregistered\n",
       "  if (root.Jupyter !== undefined) {\n",
       "    var events = require('base/js/events');\n",
       "    var OutputArea = require('notebook/js/outputarea').OutputArea;\n",
       "\n",
       "    if (OutputArea.prototype.mime_types().indexOf(EXEC_MIME_TYPE) == -1) {\n",
       "      register_renderer(events, OutputArea);\n",
       "    }\n",
       "  }\n",
       "\n",
       "  \n",
       "  if (typeof (root._bokeh_timeout) === \"undefined\" || force === true) {\n",
       "    root._bokeh_timeout = Date.now() + 5000;\n",
       "    root._bokeh_failed_load = false;\n",
       "  }\n",
       "\n",
       "  var NB_LOAD_WARNING = {'data': {'text/html':\n",
       "     \"<div style='background-color: #fdd'>\\n\"+\n",
       "     \"<p>\\n\"+\n",
       "     \"BokehJS does not appear to have successfully loaded. If loading BokehJS from CDN, this \\n\"+\n",
       "     \"may be due to a slow or bad network connection. Possible fixes:\\n\"+\n",
       "     \"</p>\\n\"+\n",
       "     \"<ul>\\n\"+\n",
       "     \"<li>re-rerun `output_notebook()` to attempt to load from CDN again, or</li>\\n\"+\n",
       "     \"<li>use INLINE resources instead, as so:</li>\\n\"+\n",
       "     \"</ul>\\n\"+\n",
       "     \"<code>\\n\"+\n",
       "     \"from bokeh.resources import INLINE\\n\"+\n",
       "     \"output_notebook(resources=INLINE)\\n\"+\n",
       "     \"</code>\\n\"+\n",
       "     \"</div>\"}};\n",
       "\n",
       "  function display_loaded() {\n",
       "    var el = document.getElementById(\"28e96ede-aaef-4065-9a34-a6c42349da2f\");\n",
       "    if (el != null) {\n",
       "      el.textContent = \"BokehJS is loading...\";\n",
       "    }\n",
       "    if (root.Bokeh !== undefined) {\n",
       "      if (el != null) {\n",
       "        el.textContent = \"BokehJS \" + root.Bokeh.version + \" successfully loaded.\";\n",
       "      }\n",
       "    } else if (Date.now() < root._bokeh_timeout) {\n",
       "      setTimeout(display_loaded, 100)\n",
       "    }\n",
       "  }\n",
       "\n",
       "\n",
       "  function run_callbacks() {\n",
       "    try {\n",
       "      root._bokeh_onload_callbacks.forEach(function(callback) { callback() });\n",
       "    }\n",
       "    finally {\n",
       "      delete root._bokeh_onload_callbacks\n",
       "    }\n",
       "    console.info(\"Bokeh: all callbacks have finished\");\n",
       "  }\n",
       "\n",
       "  function load_libs(js_urls, callback) {\n",
       "    root._bokeh_onload_callbacks.push(callback);\n",
       "    if (root._bokeh_is_loading > 0) {\n",
       "      console.log(\"Bokeh: BokehJS is being loaded, scheduling callback at\", now());\n",
       "      return null;\n",
       "    }\n",
       "    if (js_urls == null || js_urls.length === 0) {\n",
       "      run_callbacks();\n",
       "      return null;\n",
       "    }\n",
       "    console.log(\"Bokeh: BokehJS not loaded, scheduling load and callback at\", now());\n",
       "    root._bokeh_is_loading = js_urls.length;\n",
       "    for (var i = 0; i < js_urls.length; i++) {\n",
       "      var url = js_urls[i];\n",
       "      var s = document.createElement('script');\n",
       "      s.src = url;\n",
       "      s.async = false;\n",
       "      s.onreadystatechange = s.onload = function() {\n",
       "        root._bokeh_is_loading--;\n",
       "        if (root._bokeh_is_loading === 0) {\n",
       "          console.log(\"Bokeh: all BokehJS libraries loaded\");\n",
       "          run_callbacks()\n",
       "        }\n",
       "      };\n",
       "      s.onerror = function() {\n",
       "        console.warn(\"failed to load library \" + url);\n",
       "      };\n",
       "      console.log(\"Bokeh: injecting script tag for BokehJS library: \", url);\n",
       "      document.getElementsByTagName(\"head\")[0].appendChild(s);\n",
       "    }\n",
       "  };var element = document.getElementById(\"28e96ede-aaef-4065-9a34-a6c42349da2f\");\n",
       "  if (element == null) {\n",
       "    console.log(\"Bokeh: ERROR: autoload.js configured with elementid '28e96ede-aaef-4065-9a34-a6c42349da2f' but no matching script tag was found. \")\n",
       "    return false;\n",
       "  }\n",
       "\n",
       "  var js_urls = [\"https://cdn.pydata.org/bokeh/release/bokeh-0.12.14.min.js\", \"https://cdn.pydata.org/bokeh/release/bokeh-widgets-0.12.14.min.js\", \"https://cdn.pydata.org/bokeh/release/bokeh-tables-0.12.14.min.js\", \"https://cdn.pydata.org/bokeh/release/bokeh-gl-0.12.14.min.js\"];\n",
       "\n",
       "  var inline_js = [\n",
       "    function(Bokeh) {\n",
       "      Bokeh.set_log_level(\"info\");\n",
       "    },\n",
       "    \n",
       "    function(Bokeh) {\n",
       "      \n",
       "    },\n",
       "    function(Bokeh) {\n",
       "      console.log(\"Bokeh: injecting CSS: https://cdn.pydata.org/bokeh/release/bokeh-0.12.14.min.css\");\n",
       "      Bokeh.embed.inject_css(\"https://cdn.pydata.org/bokeh/release/bokeh-0.12.14.min.css\");\n",
       "      console.log(\"Bokeh: injecting CSS: https://cdn.pydata.org/bokeh/release/bokeh-widgets-0.12.14.min.css\");\n",
       "      Bokeh.embed.inject_css(\"https://cdn.pydata.org/bokeh/release/bokeh-widgets-0.12.14.min.css\");\n",
       "      console.log(\"Bokeh: injecting CSS: https://cdn.pydata.org/bokeh/release/bokeh-tables-0.12.14.min.css\");\n",
       "      Bokeh.embed.inject_css(\"https://cdn.pydata.org/bokeh/release/bokeh-tables-0.12.14.min.css\");\n",
       "    }\n",
       "  ];\n",
       "\n",
       "  function run_inline_js() {\n",
       "    \n",
       "    if ((root.Bokeh !== undefined) || (force === true)) {\n",
       "      for (var i = 0; i < inline_js.length; i++) {\n",
       "        inline_js[i].call(root, root.Bokeh);\n",
       "      }if (force === true) {\n",
       "        display_loaded();\n",
       "      }} else if (Date.now() < root._bokeh_timeout) {\n",
       "      setTimeout(run_inline_js, 100);\n",
       "    } else if (!root._bokeh_failed_load) {\n",
       "      console.log(\"Bokeh: BokehJS failed to load within specified timeout.\");\n",
       "      root._bokeh_failed_load = true;\n",
       "    } else if (force !== true) {\n",
       "      var cell = $(document.getElementById(\"28e96ede-aaef-4065-9a34-a6c42349da2f\")).parents('.cell').data().cell;\n",
       "      cell.output_area.append_execute_result(NB_LOAD_WARNING)\n",
       "    }\n",
       "\n",
       "  }\n",
       "\n",
       "  if (root._bokeh_is_loading === 0) {\n",
       "    console.log(\"Bokeh: BokehJS loaded, going straight to plotting\");\n",
       "    run_inline_js();\n",
       "  } else {\n",
       "    load_libs(js_urls, function() {\n",
       "      console.log(\"Bokeh: BokehJS plotting callback run at\", now());\n",
       "      run_inline_js();\n",
       "    });\n",
       "  }\n",
       "}(window));"
      ],
      "application/vnd.bokehjs_load.v0+json": "\n(function(root) {\n  function now() {\n    return new Date();\n  }\n\n  var force = true;\n\n  if (typeof (root._bokeh_onload_callbacks) === \"undefined\" || force === true) {\n    root._bokeh_onload_callbacks = [];\n    root._bokeh_is_loading = undefined;\n  }\n\n  \n\n  \n  if (typeof (root._bokeh_timeout) === \"undefined\" || force === true) {\n    root._bokeh_timeout = Date.now() + 5000;\n    root._bokeh_failed_load = false;\n  }\n\n  var NB_LOAD_WARNING = {'data': {'text/html':\n     \"<div style='background-color: #fdd'>\\n\"+\n     \"<p>\\n\"+\n     \"BokehJS does not appear to have successfully loaded. If loading BokehJS from CDN, this \\n\"+\n     \"may be due to a slow or bad network connection. Possible fixes:\\n\"+\n     \"</p>\\n\"+\n     \"<ul>\\n\"+\n     \"<li>re-rerun `output_notebook()` to attempt to load from CDN again, or</li>\\n\"+\n     \"<li>use INLINE resources instead, as so:</li>\\n\"+\n     \"</ul>\\n\"+\n     \"<code>\\n\"+\n     \"from bokeh.resources import INLINE\\n\"+\n     \"output_notebook(resources=INLINE)\\n\"+\n     \"</code>\\n\"+\n     \"</div>\"}};\n\n  function display_loaded() {\n    var el = document.getElementById(\"28e96ede-aaef-4065-9a34-a6c42349da2f\");\n    if (el != null) {\n      el.textContent = \"BokehJS is loading...\";\n    }\n    if (root.Bokeh !== undefined) {\n      if (el != null) {\n        el.textContent = \"BokehJS \" + root.Bokeh.version + \" successfully loaded.\";\n      }\n    } else if (Date.now() < root._bokeh_timeout) {\n      setTimeout(display_loaded, 100)\n    }\n  }\n\n\n  function run_callbacks() {\n    try {\n      root._bokeh_onload_callbacks.forEach(function(callback) { callback() });\n    }\n    finally {\n      delete root._bokeh_onload_callbacks\n    }\n    console.info(\"Bokeh: all callbacks have finished\");\n  }\n\n  function load_libs(js_urls, callback) {\n    root._bokeh_onload_callbacks.push(callback);\n    if (root._bokeh_is_loading > 0) {\n      console.log(\"Bokeh: BokehJS is being loaded, scheduling callback at\", now());\n      return null;\n    }\n    if (js_urls == null || js_urls.length === 0) {\n      run_callbacks();\n      return null;\n    }\n    console.log(\"Bokeh: BokehJS not loaded, scheduling load and callback at\", now());\n    root._bokeh_is_loading = js_urls.length;\n    for (var i = 0; i < js_urls.length; i++) {\n      var url = js_urls[i];\n      var s = document.createElement('script');\n      s.src = url;\n      s.async = false;\n      s.onreadystatechange = s.onload = function() {\n        root._bokeh_is_loading--;\n        if (root._bokeh_is_loading === 0) {\n          console.log(\"Bokeh: all BokehJS libraries loaded\");\n          run_callbacks()\n        }\n      };\n      s.onerror = function() {\n        console.warn(\"failed to load library \" + url);\n      };\n      console.log(\"Bokeh: injecting script tag for BokehJS library: \", url);\n      document.getElementsByTagName(\"head\")[0].appendChild(s);\n    }\n  };var element = document.getElementById(\"28e96ede-aaef-4065-9a34-a6c42349da2f\");\n  if (element == null) {\n    console.log(\"Bokeh: ERROR: autoload.js configured with elementid '28e96ede-aaef-4065-9a34-a6c42349da2f' but no matching script tag was found. \")\n    return false;\n  }\n\n  var js_urls = [\"https://cdn.pydata.org/bokeh/release/bokeh-0.12.14.min.js\", \"https://cdn.pydata.org/bokeh/release/bokeh-widgets-0.12.14.min.js\", \"https://cdn.pydata.org/bokeh/release/bokeh-tables-0.12.14.min.js\", \"https://cdn.pydata.org/bokeh/release/bokeh-gl-0.12.14.min.js\"];\n\n  var inline_js = [\n    function(Bokeh) {\n      Bokeh.set_log_level(\"info\");\n    },\n    \n    function(Bokeh) {\n      \n    },\n    function(Bokeh) {\n      console.log(\"Bokeh: injecting CSS: https://cdn.pydata.org/bokeh/release/bokeh-0.12.14.min.css\");\n      Bokeh.embed.inject_css(\"https://cdn.pydata.org/bokeh/release/bokeh-0.12.14.min.css\");\n      console.log(\"Bokeh: injecting CSS: https://cdn.pydata.org/bokeh/release/bokeh-widgets-0.12.14.min.css\");\n      Bokeh.embed.inject_css(\"https://cdn.pydata.org/bokeh/release/bokeh-widgets-0.12.14.min.css\");\n      console.log(\"Bokeh: injecting CSS: https://cdn.pydata.org/bokeh/release/bokeh-tables-0.12.14.min.css\");\n      Bokeh.embed.inject_css(\"https://cdn.pydata.org/bokeh/release/bokeh-tables-0.12.14.min.css\");\n    }\n  ];\n\n  function run_inline_js() {\n    \n    if ((root.Bokeh !== undefined) || (force === true)) {\n      for (var i = 0; i < inline_js.length; i++) {\n        inline_js[i].call(root, root.Bokeh);\n      }if (force === true) {\n        display_loaded();\n      }} else if (Date.now() < root._bokeh_timeout) {\n      setTimeout(run_inline_js, 100);\n    } else if (!root._bokeh_failed_load) {\n      console.log(\"Bokeh: BokehJS failed to load within specified timeout.\");\n      root._bokeh_failed_load = true;\n    } else if (force !== true) {\n      var cell = $(document.getElementById(\"28e96ede-aaef-4065-9a34-a6c42349da2f\")).parents('.cell').data().cell;\n      cell.output_area.append_execute_result(NB_LOAD_WARNING)\n    }\n\n  }\n\n  if (root._bokeh_is_loading === 0) {\n    console.log(\"Bokeh: BokehJS loaded, going straight to plotting\");\n    run_inline_js();\n  } else {\n    load_libs(js_urls, function() {\n      console.log(\"Bokeh: BokehJS plotting callback run at\", now());\n      run_inline_js();\n    });\n  }\n}(window));"
     },
     "metadata": {},
     "output_type": "display_data"
    }
   ],
   "source": [
    "output_notebook()"
   ]
  },
  {
   "cell_type": "code",
   "execution_count": 8,
   "metadata": {
    "collapsed": true
   },
   "outputs": [],
   "source": [
    "def fmt_cool(ds_in):\n",
    "    ds = ds_in.copy(deep=True)\n",
    "    if 'igg' in ds.dims:\n",
    "        ds = ds.sel(igg=1)\n",
    "\n",
    "    if 'g' in ds.dims:\n",
    "        ds = ds.sum('g')\n",
    "            \n",
    "    if 'band' in ds.dims:\n",
    "        try:\n",
    "            ds = ds.squeeze('band')\n",
    "        except ValueError:\n",
    "            ds = ds.sum('band')\n",
    "                \n",
    "    return ds['coolrg']\n",
    "\n",
    "\n",
    "def pltdata_cooling_1(ds_cool=None,\n",
    "                      ds_cool_crd=None, ds_cool_wgt=None):\n",
    "    \n",
    "\n",
    "\n",
    "    colors = all_palettes['Set1'][4]\n",
    "    data = [{'label': 'CLIRAD `coolr_bands`',\n",
    "             'srs': fmt_cool(ds_cool),\n",
    "             'line_dash': 'dashed', 'line_width': 5,\n",
    "             'color': colors[0], 'alpha': .6},\n",
    "            {'label': 'CRD',\n",
    "             'srs': fmt_cool(ds_cool_crd),\n",
    "             'line_dash': 'solid', 'line_width': 1.5,\n",
    "             'marker': 'circle', 'marker_size': 5,\n",
    "             'color': colors[2], 'alpha': 1,},\n",
    "            {'label': 'WGT igg=10 wgt_flux=2',\n",
    "             'srs': fmt_cool(ds_cool_wgt),\n",
    "             'line_dash': 'solid', 'line_width': 3,\n",
    "             'marker': 'square', 'marker_size': 5,\n",
    "             'color': colors[3], 'alpha': .6}]\n",
    "    return data\n",
    "\n",
    "\n",
    "def nice_xlims(pltdata=None, prange=None):\n",
    "    \n",
    "    def get_slice(srs):\n",
    "        return srs.sel(pressure=slice(*prange))\n",
    "    \n",
    "    srss = [d['srs'] for d in pltdata]\n",
    "    vmin = min([get_slice(srs).min() for srs in srss])\n",
    "    vmax = max([get_slice(srs).max() for srs in srss])\n",
    "    dv = (vmax - vmin) * .01\n",
    "    return float(vmin - dv), float(vmax + dv)\n",
    "    \n",
    "\n",
    "def plt_cooling_bokeh(pltdata=None):\n",
    "    '''\n",
    "    Plot a list of cooling rate profiles using bokeh.\n",
    "    '''\n",
    "    ymin = 1e-2 \n",
    "    ymax = 1020 \n",
    "        \n",
    "    p1 = figure(title=\"Linear pressure scale\", \n",
    "                plot_width=400)        \n",
    "    xmin, xmax = nice_xlims(pltdata, prange=(50, 1050))\n",
    "    for d in pltdata:\n",
    "        if 'marker' in d:\n",
    "            getattr(p1, d['marker'])(d['srs'].values, \n",
    "                    d['srs'].coords['pressure'].values,\n",
    "                    color=d['color'], alpha=.7)\n",
    "        p1.line(d['srs'].values, \n",
    "                d['srs'].coords['pressure'].values,\n",
    "                color=d['color'], alpha=d['alpha'], \n",
    "                line_width=d['line_width'], line_dash=d['line_dash'])\n",
    "    \n",
    "    p1.y_range = Range1d(ymax, ymin)\n",
    "    p1.yaxis.axis_label = 'pressure [mb]'   \n",
    "    p1.x_range = Range1d(xmin, xmax)\n",
    "    p1.xaxis.axis_label = 'cooling rate [K/day]'\n",
    "            \n",
    "    p2 = figure(title='Log pressure scale', y_axis_type='log',\n",
    "                plot_width=560)\n",
    "    xmin, xmax = nice_xlims(pltdata, prange=(.01, 200))\n",
    "    \n",
    "    rs = []\n",
    "    for d in pltdata:\n",
    "        rd = []\n",
    "        if 'marker' in d:\n",
    "            r_mark = getattr(p2, d['marker'])(d['srs'].values, \n",
    "                        d['srs'].coords['pressure'].values,\n",
    "                        color=d['color'], alpha=.7)\n",
    "            rd.append(r_mark)\n",
    "        r_line = p2.line(d['srs'].values, \n",
    "                    d['srs'].coords['pressure'].values,\n",
    "                    color=d['color'], alpha=d['alpha'], \n",
    "                    line_width=d['line_width'], line_dash=d['line_dash'])\n",
    "        rd.append(r_line)\n",
    "      \n",
    "        rs.append(rd)\n",
    "        \n",
    "    p2.y_range = Range1d(ymax, ymin)  \n",
    "    p2.yaxis.axis_label = 'pressure [mb]'\n",
    "    \n",
    "    p2.x_range = Range1d(xmin, xmax)\n",
    "    p2.xaxis.axis_label = 'cooling rate [K/day]'\n",
    "    \n",
    "    items = [(d['label'], r) for r, d in zip(rs, pltdata)]\n",
    "    legend = Legend(items=items, location=(10, -30))\n",
    "    legend.label_text_font_size = '8pt'\n",
    "    \n",
    "    p2.add_layout(legend, 'right')  \n",
    "    \n",
    "    show(gridplot(p1, p2, ncols=2, plot_height=500))\n",
    "    \n",
    "\n",
    "def script_plt_cooling():\n",
    "    pltdata = pltdata_cooling_1(\n",
    "        ds_cool=DS_COOL,\n",
    "        ds_cool_crd=DS_COOL_CRD,\n",
    "        ds_cool_wgt=DS_COOL_WGT)\n",
    "    plt_cooling_bokeh(pltdata=pltdata)\n",
    "    print('''FIGURE. Cooling rate profiles.''')"
   ]
  },
  {
   "cell_type": "code",
   "execution_count": 9,
   "metadata": {
    "collapsed": true
   },
   "outputs": [],
   "source": [
    "def fmt_flux(ds_in):\n",
    "    ds = ds_in.copy(deep=True)\n",
    "    \n",
    "    for l in ('level', 'layer'):\n",
    "        if l in ds.data_vars:\n",
    "            if len(ds[l].dims) > 1:\n",
    "                surface = {d: 0 for d in ds.dims if d != 'pressure'}\n",
    "                coord_level = ds[l][surface]\n",
    "                ds.coords[l] = ('pressure', coord_level)\n",
    "            else:\n",
    "                ds.coords[l] = ('pressure', ds[l])\n",
    "        \n",
    "    ds = ds.isel(pressure=[0, 23, -1])\n",
    "        \n",
    "    if 'igg' in ds.dims:\n",
    "        ds = ds.sel(igg=[1])\n",
    "        ds = ds.squeeze('igg').drop('igg')\n",
    "    \n",
    "    if 'g' in ds.dims:\n",
    "        ds = ds.sum('g')\n",
    "            \n",
    "    if 'band' in ds.dims:\n",
    "        try:\n",
    "            ds = ds.squeeze('band').drop('band')\n",
    "        except ValueError:\n",
    "            ds = ds.sum('band')\n",
    "                \n",
    "    df = ds.to_dataframe()\n",
    "    df = df.set_index('level', append=True)               \n",
    "    return df\n",
    "\n",
    "\n",
    "def tbdata_flux(ds_flux=None, ds_flux_crd=None, ds_flux_wgt=None):\n",
    "    ilevels = [0, 23, -1]\n",
    "            \n",
    "    benchmark = {'label': 'WGT igg=10 wgt_flux=1',\n",
    "                 'df': fmt_flux(ds_flux_wgt)}\n",
    "    \n",
    "    tbs = [{'label': 'CRD',\n",
    "            'df': fmt_flux(ds_flux_crd)},\n",
    "           {'label': 'CLIRAD',\n",
    "            'df': fmt_flux(ds_flux)}]\n",
    "    \n",
    "    data = {'benchmark': benchmark, 'others': tbs}\n",
    "    return data\n",
    "\n",
    "\n",
    "def tb_flux(tbdata=None):\n",
    "    benchmark = tbdata['benchmark']\n",
    "    others = tbdata['others']\n",
    "    \n",
    "    def show_tb(d=None):\n",
    "        display.display(d['df'])\n",
    "        print('Table.', 'Fluxes.', d['label'])\n",
    "        \n",
    "    def show_tbdiff(d0=None, d=None):\n",
    "        df = d['df']\n",
    "        df.index = d0['df'].index\n",
    "        display.display(df - d0['df'])\n",
    "        print('Table.', 'Fluxes.', \n",
    "              '({}) - ({})'.format(d['label'], d0['label']))\n",
    "        \n",
    "    show_tb(benchmark)\n",
    "    for d in others:\n",
    "        show_tb(d)\n",
    "        \n",
    "    for d in others:\n",
    "        show_tbdiff(d=d, d0=benchmark)\n",
    "        \n",
    "        \n",
    "def script_tb_flux():\n",
    "    data = tbdata_flux(ds_flux=DS_FLUX,\n",
    "                       ds_flux_crd=DS_FLUX_CRD,\n",
    "                       ds_flux_wgt=DS_FLUX_WGT)\n",
    "    tb_flux(tbdata=data)"
   ]
  },
  {
   "cell_type": "code",
   "execution_count": 10,
   "metadata": {
    "collapsed": true
   },
   "outputs": [],
   "source": [
    "def band_map():\n",
    "    '''\n",
    "    Maps spectral bands in lblnew to spectral bands in clirad.\n",
    "    '''\n",
    "    lblnew2clirad = {'1': '1',\n",
    "            '2': '2',\n",
    "            '3a': '3',\n",
    "            '3b': '4',\n",
    "            '3c': '5',\n",
    "            '4': '6', \n",
    "            '5': '7',\n",
    "            '6': '8',\n",
    "            '7': '9', \n",
    "            '8': '10',\n",
    "            '9': '11'}\n",
    "    \n",
    "    clirad2lblnew = {clirad: lblnew \n",
    "                     for lblnew, clirad in lblnew2clirad.items()}\n",
    "    return clirad2lblnew\n",
    "\n",
    "\n",
    "def gasbands():\n",
    "    bmap = band_map()\n",
    "    gases = list(PARAM['molecule'].keys())\n",
    "    \n",
    "    bands = [bmap[str(b)] for b in PARAM['band']]\n",
    "    return list(itertools.product(gases, bands))\n",
    "\n",
    "\n",
    "def print_bestfit_params():\n",
    "    print('Best-fit values for each (gas, band)')\n",
    "    print('------------------------------------')\n",
    "    for gas, band in gasbands():\n",
    "        print('o {} band{}'.format(gas, band))\n",
    "        param = bestfits.kdist_params(molecule=gas, band=band)\n",
    "        for name, value in sorted(param.items()):\n",
    "            print(2 * ' ' + '{} = {}'.format(name, value))\n",
    "\n",
    "        \n",
    "def print_input_param():        \n",
    "    for name, value in PARAM.items():\n",
    "        print('{} = {}'.format(name, value))\n",
    "        \n",
    "        \n",
    "def print_lblnew_param():\n",
    "    for name, value in sorted(PARAM_LBLNEW.items()):\n",
    "        print('{} = {}'.format(name, value))\n"
   ]
  },
  {
   "cell_type": "code",
   "execution_count": 11,
   "metadata": {
    "collapsed": true,
    "scrolled": false
   },
   "outputs": [],
   "source": [
    "def show_html(s):\n",
    "    display.display(display.HTML(s))\n",
    "\n",
    "    \n",
    "def show_markdown(s):\n",
    "    display.display(display.Markdown(s))\n",
    "\n",
    "    \n",
    "def script():\n",
    "    \n",
    "    title = '### CLIRAD-LW'\n",
    "    s_input = 'Input Parameters'\n",
    "    s_lblnew_param = 'LBLNEW case compaired against'\n",
    "    s_bestfits = 'Best-fit Parameters'\n",
    "    s_plt_cooling = 'Cooling Rate Profiles'\n",
    "    s_tb_flux = 'Flux Comparison'\n",
    "    \n",
    "    # title\n",
    "    show_markdown('### CLIRAD-LW')\n",
    "    \n",
    "    # TOC\n",
    "    show_markdown('### Table of Contents')\n",
    "    show_html(climahtml.getHTML_hrefanchor(s_input))\n",
    "    show_html(climahtml.getHTML_hrefanchor(s_lblnew_param))\n",
    "    show_html(climahtml.getHTML_hrefanchor(s_plt_cooling))\n",
    "    show_html(climahtml.getHTML_hrefanchor(s_tb_flux))\n",
    "    show_html(climahtml.getHTML_hrefanchor(s_bestfits))\n",
    "    \n",
    "    # Input parameters\n",
    "    show_html(climahtml.getHTML_idanchor(s_input))\n",
    "    show_markdown(climahtml.getMarkdown_sectitle(s_input))\n",
    "    print_input_param()\n",
    "    \n",
    "    # LBLNEW parameters \n",
    "    show_html(climahtml.getHTML_idanchor(s_lblnew_param))\n",
    "    show_markdown(climahtml.getMarkdown_sectitle(s_lblnew_param))\n",
    "    print_lblnew_param()\n",
    "    \n",
    "    # Cooling rate profiles\n",
    "    show_html(climahtml.getHTML_idanchor(s_plt_cooling))\n",
    "    show_markdown(climahtml.getMarkdown_sectitle(s_plt_cooling))\n",
    "    script_plt_cooling()\n",
    "    \n",
    "    # Flux comparison\n",
    "    show_html(climahtml.getHTML_idanchor(s_tb_flux))\n",
    "    show_markdown(climahtml.getMarkdown_sectitle(s_tb_flux))\n",
    "    script_tb_flux()\n",
    "    \n",
    "    # Best-fit values\n",
    "    show_html(climahtml.getHTML_idanchor(s_bestfits))\n",
    "    show_markdown(climahtml.getMarkdown_sectitle(s_bestfits))\n",
    "    print_bestfit_params()\n",
    "   \n",
    "    "
   ]
  },
  {
   "cell_type": "code",
   "execution_count": 12,
   "metadata": {
    "collapsed": true,
    "scrolled": false
   },
   "outputs": [
    {
     "data": {
      "text/markdown": [
       "### CLIRAD-LW"
      ],
      "text/plain": [
       "<IPython.core.display.Markdown object>"
      ]
     },
     "metadata": {},
     "output_type": "display_data"
    },
    {
     "data": {
      "text/markdown": [
       "### Table of Contents"
      ],
      "text/plain": [
       "<IPython.core.display.Markdown object>"
      ]
     },
     "metadata": {},
     "output_type": "display_data"
    },
    {
     "data": {
      "text/html": [
       "<a href=\"#Input_Parameters\">Input Parameters</a>"
      ],
      "text/plain": [
       "<IPython.core.display.HTML object>"
      ]
     },
     "metadata": {},
     "output_type": "display_data"
    },
    {
     "data": {
      "text/html": [
       "<a href=\"#LBLNEW_case_compaired_against\">LBLNEW case compaired against</a>"
      ],
      "text/plain": [
       "<IPython.core.display.HTML object>"
      ]
     },
     "metadata": {},
     "output_type": "display_data"
    },
    {
     "data": {
      "text/html": [
       "<a href=\"#Cooling_Rate_Profiles\">Cooling Rate Profiles</a>"
      ],
      "text/plain": [
       "<IPython.core.display.HTML object>"
      ]
     },
     "metadata": {},
     "output_type": "display_data"
    },
    {
     "data": {
      "text/html": [
       "<a href=\"#Flux_Comparison\">Flux Comparison</a>"
      ],
      "text/plain": [
       "<IPython.core.display.HTML object>"
      ]
     },
     "metadata": {},
     "output_type": "display_data"
    },
    {
     "data": {
      "text/html": [
       "<a href=\"#Best-fit_Parameters\">Best-fit Parameters</a>"
      ],
      "text/plain": [
       "<IPython.core.display.HTML object>"
      ]
     },
     "metadata": {},
     "output_type": "display_data"
    },
    {
     "data": {
      "text/html": [
       "<a id=\"Input_Parameters\"></a>"
      ],
      "text/plain": [
       "<IPython.core.display.HTML object>"
      ]
     },
     "metadata": {},
     "output_type": "display_data"
    },
    {
     "data": {
      "text/markdown": [
       "# Input Parameters"
      ],
      "text/plain": [
       "<IPython.core.display.Markdown object>"
      ]
     },
     "metadata": {},
     "output_type": "display_data"
    },
    {
     "name": "stdout",
     "output_type": "stream",
     "text": [
      "atmpro = mls\n",
      "band = [3]\n",
      "commitnumber = 0c003ef_r8\n",
      "molecule = {'co2': 0.0004}\n",
      "tsfc = 294\n"
     ]
    },
    {
     "data": {
      "text/html": [
       "<a id=\"LBLNEW_case_compaired_against\"></a>"
      ],
      "text/plain": [
       "<IPython.core.display.HTML object>"
      ]
     },
     "metadata": {},
     "output_type": "display_data"
    },
    {
     "data": {
      "text/markdown": [
       "# LBLNEW case compaired against"
      ],
      "text/plain": [
       "<IPython.core.display.Markdown object>"
      ]
     },
     "metadata": {},
     "output_type": "display_data"
    },
    {
     "name": "stdout",
     "output_type": "stream",
     "text": [
      "atmpro = mls\n",
      "band = 3a\n",
      "commitnumber = 2bd1f75\n",
      "conc = 0.0004\n",
      "dv = 0.01\n",
      "klin = 6.375563e-24\n",
      "molecule = co2\n",
      "ng_adju = [0, 0, 0]\n",
      "ng_refs = [3, 2, 4]\n",
      "nv = 100\n",
      "option_compute_btable = 0\n",
      "option_compute_ktable = 0\n",
      "option_wgt_flux = 1\n",
      "option_wgt_k = 1\n",
      "ref_pts = [(1, 250), (10, 250), (500, 250)]\n",
      "tsfc = 294\n",
      "vmax = 620\n",
      "vmin = 540\n",
      "w_diffuse = [(1.6, 1.6, 1.7), (1.75, 1.75), (1.55, 1.55, 1.6, 1.85)]\n",
      "wgt = [(0.7, 0.3, 0.7), (0.7, 0.6), (0.4, 0.5, 0.8, 0.95)]\n"
     ]
    },
    {
     "data": {
      "text/html": [
       "<a id=\"Cooling_Rate_Profiles\"></a>"
      ],
      "text/plain": [
       "<IPython.core.display.HTML object>"
      ]
     },
     "metadata": {},
     "output_type": "display_data"
    },
    {
     "data": {
      "text/markdown": [
       "# Cooling Rate Profiles"
      ],
      "text/plain": [
       "<IPython.core.display.Markdown object>"
      ]
     },
     "metadata": {},
     "output_type": "display_data"
    },
    {
     "data": {
      "text/html": [
       "\n",
       "<div class=\"bk-root\">\n",
       "    <div class=\"bk-plotdiv\" id=\"52fc619e-c0ed-4e82-b867-27535df7419c\"></div>\n",
       "</div>"
      ]
     },
     "metadata": {},
     "output_type": "display_data"
    },
    {
     "data": {
      "application/javascript": [
       "(function(root) {\n",
       "  function embed_document(root) {\n",
       "    \n",
       "  var docs_json = {\"805f33c7-eba6-40d3-84d8-7b8c0250bf2c\":{\"roots\":{\"references\":[{\"attributes\":{\"fill_alpha\":{\"value\":0.1},\"fill_color\":{\"value\":\"#1f77b4\"},\"line_alpha\":{\"value\":0.1},\"line_color\":{\"value\":\"#1f77b4\"},\"x\":{\"field\":\"x\"},\"y\":{\"field\":\"y\"}},\"id\":\"b1cbf8e1-de67-45fe-96cf-8d82cd742232\",\"type\":\"Circle\"},{\"attributes\":{\"data_source\":{\"id\":\"a27fcb52-f5cf-48ef-be09-5e50edaa79c1\",\"type\":\"ColumnDataSource\"},\"glyph\":{\"id\":\"9c15c55c-5c4e-42d4-8376-0ccf47a9e3e7\",\"type\":\"Line\"},\"hover_glyph\":null,\"muted_glyph\":null,\"nonselection_glyph\":{\"id\":\"8189c319-e326-4c28-9762-af50b673f6bf\",\"type\":\"Line\"},\"selection_glyph\":null,\"view\":{\"id\":\"fa04b194-fc45-4543-80ac-b9ae7228e74f\",\"type\":\"CDSView\"}},\"id\":\"dc960d44-0665-4f78-9fd0-5cd1b05606c5\",\"type\":\"GlyphRenderer\"},{\"attributes\":{\"callback\":null,\"column_names\":[\"x\",\"y\"],\"data\":{\"x\":{\"__ndarray__\":\"/Dh5FUJc2j9aPMRYCQraP0/An6+Tmdo/sINSzQ8Q2z9iu72cwFHbP6SkTfZLW9s/IQeAhScP2z++Mi25o2LaPwSwfdg9P9k/7ECMxpCS1z+I0+78R0vVP63FArqKYNI/N0BAKSCOzT+XKXuF5OjEP9zIp40Lg7w/6qIyD6oevz8DpGirs1bGPw4LvRfC3sw/DzEUZpAx0j/NJ6dNBzjXPwwQu6WLQ94/4JWPavl95D8WIyJnJ2TqP9T7Wzyb+ek/vOsJnoRK5D/eGMjU2WDePwE4crQVgdY/mPjlxAW90D9Pb04+oODJP5CQWL2JwsQ/UQ80E8pKwD+crQhzxQm4P7XKHjESC7I/e+JNPycLrT8huDmxYS+mP2Tm7rLg950/vwcfspdZlT+TZiYqsfGQP+IFHWUneYA/SKLAhz4bWr/aC3NvAj4wP23Dsfl704s/BnlX7Bgfmj+PJcUqUh+iP3x1kAIEpqY/Ti53embIqj8DlVQa75auP3TJ2NOFDbE/nQZ3LUKtsj/+l0UKYCi0P03rcQrrebU/PI0eOX6atj9O3oZsroe3PwarF2f/SLg/L6uoqJfruD9wx5RCMnq5P55zfUAc+7k/5+7GxN5yuj+USbKzjeS6P6m96+AeU7s/WQ4d0AzBuz/mXAZzJjO8P0PEcvDxrrw/u5obV0w6vT9677ldedq9Pwnr1p20kb4/jAdCT1ZOvz+Cb5o+O+C/Pw6iUngSCcA/CZ0AWFfkvz/ebDm48JO/P/UfRsZyZL8/2ibsDYSFvz8BC2g7CRnAP2tDan8MQsE/\",\"dtype\":\"float64\",\"shape\":[75]},\"y\":{\"__ndarray__\":\"GhExyth1ND/Sv8nbtpRIP2vylNV0PVE/aTum7souWD/At0SJ8fVgPw3Iuahxymc/MSNhhJWvcD/bTfBN02d3P2zb5nxnaoA/CD5h5MAGhz8NmeH1TyaQP+zrCsc9p5Y/LbKd76fGnz/bLW5ISEmmPww9YvTcQq8/JV2OstnstT8Er5Y7M8G+P0c+r3jqkcU/5h99k6ZBzj88bCIzFzjVP4enV8oyxN0//yH99nXg5D8qOpLLf0jtP5kqGJXUifQ/c9cS8kHP/D+/DpwzojQEQIEmwoanVwxA4lgXt9HgE0BSSZ2AJuIbQAMJih9jjiNA5q4l5INuK0AwTKYKRj0zQNv5fmq8/DpAaCJseHrtQkB/+zpwzoxKQM3MzMzMeFJAZmZmZmZqWEAAAAAAAFxeQM3MzMzMJmJAmpmZmZkfZUBmZmZmZhhoQDMzMzMzEWtAAAAAAAAKbkBmZmZmZoFwQM3MzMzM/XFAMzMzMzN6c0CamZmZmfZ0QAAAAAAAc3ZAZmZmZmbvd0DNzMzMzGt5QDMzMzMz6HpAmpmZmZlkfEAAAAAAAOF9QGZmZmZmXX9AZmZmZuZsgECamZmZGSuBQM3MzMxM6YFAAAAAAICngkAzMzMzs2WDQGZmZmbmI4RAmpmZmRnihEDNzMzMTKCFQAAAAACAXoZAMzMzM7Mch0BmZmZm5tqHQJqZmZkZmYhAzczMzExXiUAAAAAAgBWKQDMzMzOz04pAZmZmZuaRi0CamZmZGVCMQM3MzMxMDo1AAAAAAIDMjUAzMzMzs4qOQGZmZmbmSI9A\",\"dtype\":\"float64\",\"shape\":[75]}}},\"id\":\"49983438-53c0-4990-a7dd-7c02afaf73c2\",\"type\":\"ColumnDataSource\"},{\"attributes\":{\"source\":{\"id\":\"49983438-53c0-4990-a7dd-7c02afaf73c2\",\"type\":\"ColumnDataSource\"}},\"id\":\"98f658d3-3b49-414b-8b0d-2dc7ef8e9e78\",\"type\":\"CDSView\"},{\"attributes\":{},\"id\":\"28cc73b0-c627-4b52-811e-34a9e6715814\",\"type\":\"ResetTool\"},{\"attributes\":{\"line_alpha\":0.6,\"line_color\":\"#e41a1c\",\"line_dash\":[6],\"line_width\":5,\"x\":{\"field\":\"x\"},\"y\":{\"field\":\"y\"}},\"id\":\"9c15c55c-5c4e-42d4-8376-0ccf47a9e3e7\",\"type\":\"Line\"},{\"attributes\":{\"callback\":null,\"column_names\":[\"x\",\"y\"],\"data\":{\"x\":{\"__ndarray__\":\"/Dh5FUJc2j9aPMRYCQraP0/An6+Tmdo/sINSzQ8Q2z9iu72cwFHbP6SkTfZLW9s/IQeAhScP2z++Mi25o2LaPwSwfdg9P9k/7ECMxpCS1z+I0+78R0vVP63FArqKYNI/N0BAKSCOzT+XKXuF5OjEP9zIp40Lg7w/6qIyD6oevz8DpGirs1bGPw4LvRfC3sw/DzEUZpAx0j/NJ6dNBzjXPwwQu6WLQ94/4JWPavl95D8WIyJnJ2TqP9T7Wzyb+ek/vOsJnoRK5D/eGMjU2WDePwE4crQVgdY/mPjlxAW90D9Pb04+oODJP5CQWL2JwsQ/UQ80E8pKwD+crQhzxQm4P7XKHjESC7I/e+JNPycLrT8huDmxYS+mP2Tm7rLg950/vwcfspdZlT+TZiYqsfGQP+IFHWUneYA/SKLAhz4bWr/aC3NvAj4wP23Dsfl704s/BnlX7Bgfmj+PJcUqUh+iP3x1kAIEpqY/Ti53embIqj8DlVQa75auP3TJ2NOFDbE/nQZ3LUKtsj/+l0UKYCi0P03rcQrrebU/PI0eOX6atj9O3oZsroe3PwarF2f/SLg/L6uoqJfruD9wx5RCMnq5P55zfUAc+7k/5+7GxN5yuj+USbKzjeS6P6m96+AeU7s/WQ4d0AzBuz/mXAZzJjO8P0PEcvDxrrw/u5obV0w6vT9677ldedq9Pwnr1p20kb4/jAdCT1ZOvz+Cb5o+O+C/Pw6iUngSCcA/CZ0AWFfkvz/ebDm48JO/P/UfRsZyZL8/2ibsDYSFvz8BC2g7CRnAP2tDan8MQsE/\",\"dtype\":\"float64\",\"shape\":[75]},\"y\":{\"__ndarray__\":\"GhExyth1ND/Sv8nbtpRIP2vylNV0PVE/aTum7souWD/At0SJ8fVgPw3Iuahxymc/MSNhhJWvcD/bTfBN02d3P2zb5nxnaoA/CD5h5MAGhz8NmeH1TyaQP+zrCsc9p5Y/LbKd76fGnz/bLW5ISEmmPww9YvTcQq8/JV2OstnstT8Er5Y7M8G+P0c+r3jqkcU/5h99k6ZBzj88bCIzFzjVP4enV8oyxN0//yH99nXg5D8qOpLLf0jtP5kqGJXUifQ/c9cS8kHP/D+/DpwzojQEQIEmwoanVwxA4lgXt9HgE0BSSZ2AJuIbQAMJih9jjiNA5q4l5INuK0AwTKYKRj0zQNv5fmq8/DpAaCJseHrtQkB/+zpwzoxKQM3MzMzMeFJAZmZmZmZqWEAAAAAAAFxeQM3MzMzMJmJAmpmZmZkfZUBmZmZmZhhoQDMzMzMzEWtAAAAAAAAKbkBmZmZmZoFwQM3MzMzM/XFAMzMzMzN6c0CamZmZmfZ0QAAAAAAAc3ZAZmZmZmbvd0DNzMzMzGt5QDMzMzMz6HpAmpmZmZlkfEAAAAAAAOF9QGZmZmZmXX9AZmZmZuZsgECamZmZGSuBQM3MzMxM6YFAAAAAAICngkAzMzMzs2WDQGZmZmbmI4RAmpmZmRnihEDNzMzMTKCFQAAAAACAXoZAMzMzM7Mch0BmZmZm5tqHQJqZmZkZmYhAzczMzExXiUAAAAAAgBWKQDMzMzOz04pAZmZmZuaRi0CamZmZGVCMQM3MzMxMDo1AAAAAAIDMjUAzMzMzs4qOQGZmZmbmSI9A\",\"dtype\":\"float64\",\"shape\":[75]}}},\"id\":\"b44281b1-f212-4c0d-a265-b5312c529d29\",\"type\":\"ColumnDataSource\"},{\"attributes\":{\"data_source\":{\"id\":\"b44281b1-f212-4c0d-a265-b5312c529d29\",\"type\":\"ColumnDataSource\"},\"glyph\":{\"id\":\"304237e9-025b-4d28-b90f-0fff0e53b5db\",\"type\":\"Line\"},\"hover_glyph\":null,\"muted_glyph\":null,\"nonselection_glyph\":{\"id\":\"a4644a58-7696-4a13-af0a-4f61ba978b22\",\"type\":\"Line\"},\"selection_glyph\":null,\"view\":{\"id\":\"da28dd39-6668-4802-967c-bd213156c5e7\",\"type\":\"CDSView\"}},\"id\":\"9384b146-3a27-460c-ba21-0bc4ea73aab9\",\"type\":\"GlyphRenderer\"},{\"attributes\":{\"children\":[{\"id\":\"a1211d96-5f73-4311-acc8-5eea34defec9\",\"type\":\"Row\"}]},\"id\":\"5b1d9ffd-e81b-4dca-a472-1197f5be49ee\",\"type\":\"Column\"},{\"attributes\":{},\"id\":\"e6ad4c09-b933-4e66-9f3d-169408453248\",\"type\":\"HelpTool\"},{\"attributes\":{\"callback\":null,\"end\":0.13878925739599998,\"start\":-0.002983336996},\"id\":\"299472ac-85ba-46c2-8ca1-5fad709779e0\",\"type\":\"Range1d\"},{\"attributes\":{\"callback\":null,\"end\":0.01,\"start\":1020},\"id\":\"9b201fbb-7ad4-4df9-8fed-798e9a43ba10\",\"type\":\"Range1d\"},{\"attributes\":{\"data_source\":{\"id\":\"7dfe122c-85d9-4cc8-9776-3fad5d5c0392\",\"type\":\"ColumnDataSource\"},\"glyph\":{\"id\":\"33d0d424-9a77-4d3e-b936-153acca8a950\",\"type\":\"Square\"},\"hover_glyph\":null,\"muted_glyph\":null,\"nonselection_glyph\":{\"id\":\"e4dd66b7-4aaa-4130-8c1d-a2977753d327\",\"type\":\"Square\"},\"selection_glyph\":null,\"view\":{\"id\":\"ec95bfbe-e84a-44ee-ae6e-53bf0a82bfcf\",\"type\":\"CDSView\"}},\"id\":\"3964cc26-1230-411e-920f-1c4678686ecd\",\"type\":\"GlyphRenderer\"},{\"attributes\":{\"source\":{\"id\":\"a27fcb52-f5cf-48ef-be09-5e50edaa79c1\",\"type\":\"ColumnDataSource\"}},\"id\":\"fa04b194-fc45-4543-80ac-b9ae7228e74f\",\"type\":\"CDSView\"},{\"attributes\":{\"fill_alpha\":{\"value\":0.7},\"fill_color\":{\"value\":\"#4daf4a\"},\"line_alpha\":{\"value\":0.7},\"line_color\":{\"value\":\"#4daf4a\"},\"x\":{\"field\":\"x\"},\"y\":{\"field\":\"y\"}},\"id\":\"a94b1127-5753-4d7c-bd6c-88bfc3d2c691\",\"type\":\"Circle\"},{\"attributes\":{\"line_alpha\":0.1,\"line_color\":\"#1f77b4\",\"line_width\":1.5,\"x\":{\"field\":\"x\"},\"y\":{\"field\":\"y\"}},\"id\":\"a4644a58-7696-4a13-af0a-4f61ba978b22\",\"type\":\"Line\"},{\"attributes\":{\"data_source\":{\"id\":\"6ce5fbc1-a124-4f68-b95e-1524c18b9a2f\",\"type\":\"ColumnDataSource\"},\"glyph\":{\"id\":\"a94b1127-5753-4d7c-bd6c-88bfc3d2c691\",\"type\":\"Circle\"},\"hover_glyph\":null,\"muted_glyph\":null,\"nonselection_glyph\":{\"id\":\"eff4c5d2-7ec8-437f-95f0-0b355efa7f67\",\"type\":\"Circle\"},\"selection_glyph\":null,\"view\":{\"id\":\"e222d663-fead-4be4-89d0-7d2e430c9392\",\"type\":\"CDSView\"}},\"id\":\"17f927f3-927a-4ba0-bacf-af5e64d5451c\",\"type\":\"GlyphRenderer\"},{\"attributes\":{},\"id\":\"23898854-fb07-4977-bdfb-974081ce9ac1\",\"type\":\"LinearScale\"},{\"attributes\":{\"data_source\":{\"id\":\"d47dd36e-bc58-4f82-a8ed-c8de6ea35d87\",\"type\":\"ColumnDataSource\"},\"glyph\":{\"id\":\"83a055e7-1079-4026-b364-add77af18eb4\",\"type\":\"Line\"},\"hover_glyph\":null,\"muted_glyph\":null,\"nonselection_glyph\":{\"id\":\"707cfce2-9464-4cdf-b972-f0919e0cb3e6\",\"type\":\"Line\"},\"selection_glyph\":null,\"view\":{\"id\":\"b1f21b36-6f15-43c5-bc3f-3040fd2baf22\",\"type\":\"CDSView\"}},\"id\":\"133141bf-e8f7-401b-b14d-13dfed24d5e3\",\"type\":\"GlyphRenderer\"},{\"attributes\":{\"fill_alpha\":{\"value\":0.1},\"fill_color\":{\"value\":\"#1f77b4\"},\"line_alpha\":{\"value\":0.1},\"line_color\":{\"value\":\"#1f77b4\"},\"x\":{\"field\":\"x\"},\"y\":{\"field\":\"y\"}},\"id\":\"eff4c5d2-7ec8-437f-95f0-0b355efa7f67\",\"type\":\"Circle\"},{\"attributes\":{\"source\":{\"id\":\"7dfe122c-85d9-4cc8-9776-3fad5d5c0392\",\"type\":\"ColumnDataSource\"}},\"id\":\"ec95bfbe-e84a-44ee-ae6e-53bf0a82bfcf\",\"type\":\"CDSView\"},{\"attributes\":{\"callback\":null,\"column_names\":[\"x\",\"y\"],\"data\":{\"x\":{\"__ndarray__\":\"/Dh5FUJc2j9aPMRYCQraP0/An6+Tmdo/sINSzQ8Q2z9iu72cwFHbP6SkTfZLW9s/IQeAhScP2z++Mi25o2LaPwSwfdg9P9k/7ECMxpCS1z+I0+78R0vVP63FArqKYNI/N0BAKSCOzT+XKXuF5OjEP9zIp40Lg7w/6qIyD6oevz8DpGirs1bGPw4LvRfC3sw/DzEUZpAx0j/NJ6dNBzjXPwwQu6WLQ94/4JWPavl95D8WIyJnJ2TqP9T7Wzyb+ek/vOsJnoRK5D/eGMjU2WDePwE4crQVgdY/mPjlxAW90D9Pb04+oODJP5CQWL2JwsQ/UQ80E8pKwD+crQhzxQm4P7XKHjESC7I/e+JNPycLrT8huDmxYS+mP2Tm7rLg950/vwcfspdZlT+TZiYqsfGQP+IFHWUneYA/SKLAhz4bWr/aC3NvAj4wP23Dsfl704s/BnlX7Bgfmj+PJcUqUh+iP3x1kAIEpqY/Ti53embIqj8DlVQa75auP3TJ2NOFDbE/nQZ3LUKtsj/+l0UKYCi0P03rcQrrebU/PI0eOX6atj9O3oZsroe3PwarF2f/SLg/L6uoqJfruD9wx5RCMnq5P55zfUAc+7k/5+7GxN5yuj+USbKzjeS6P6m96+AeU7s/WQ4d0AzBuz/mXAZzJjO8P0PEcvDxrrw/u5obV0w6vT9677ldedq9Pwnr1p20kb4/jAdCT1ZOvz+Cb5o+O+C/Pw6iUngSCcA/CZ0AWFfkvz/ebDm48JO/P/UfRsZyZL8/2ibsDYSFvz8BC2g7CRnAP2tDan8MQsE/\",\"dtype\":\"float64\",\"shape\":[75]},\"y\":{\"__ndarray__\":\"GhExyth1ND/Sv8nbtpRIP2vylNV0PVE/aTum7souWD/At0SJ8fVgPw3Iuahxymc/MSNhhJWvcD/bTfBN02d3P2zb5nxnaoA/CD5h5MAGhz8NmeH1TyaQP+zrCsc9p5Y/LbKd76fGnz/bLW5ISEmmPww9YvTcQq8/JV2OstnstT8Er5Y7M8G+P0c+r3jqkcU/5h99k6ZBzj88bCIzFzjVP4enV8oyxN0//yH99nXg5D8qOpLLf0jtP5kqGJXUifQ/c9cS8kHP/D+/DpwzojQEQIEmwoanVwxA4lgXt9HgE0BSSZ2AJuIbQAMJih9jjiNA5q4l5INuK0AwTKYKRj0zQNv5fmq8/DpAaCJseHrtQkB/+zpwzoxKQM3MzMzMeFJAZmZmZmZqWEAAAAAAAFxeQM3MzMzMJmJAmpmZmZkfZUBmZmZmZhhoQDMzMzMzEWtAAAAAAAAKbkBmZmZmZoFwQM3MzMzM/XFAMzMzMzN6c0CamZmZmfZ0QAAAAAAAc3ZAZmZmZmbvd0DNzMzMzGt5QDMzMzMz6HpAmpmZmZlkfEAAAAAAAOF9QGZmZmZmXX9AZmZmZuZsgECamZmZGSuBQM3MzMxM6YFAAAAAAICngkAzMzMzs2WDQGZmZmbmI4RAmpmZmRnihEDNzMzMTKCFQAAAAACAXoZAMzMzM7Mch0BmZmZm5tqHQJqZmZkZmYhAzczMzExXiUAAAAAAgBWKQDMzMzOz04pAZmZmZuaRi0CamZmZGVCMQM3MzMxMDo1AAAAAAIDMjUAzMzMzs4qOQGZmZmbmSI9A\",\"dtype\":\"float64\",\"shape\":[75]}}},\"id\":\"6ce5fbc1-a124-4f68-b95e-1524c18b9a2f\",\"type\":\"ColumnDataSource\"},{\"attributes\":{\"axis_label\":\"pressure [mb]\",\"formatter\":{\"id\":\"f7811032-b01e-4f1e-9b2f-5a2c5b36af71\",\"type\":\"LogTickFormatter\"},\"plot\":{\"id\":\"c6bea666-6393-470b-baeb-27dde9414980\",\"subtype\":\"Figure\",\"type\":\"Plot\"},\"ticker\":{\"id\":\"193098fe-bcf8-479e-bf2a-71598e5be95c\",\"type\":\"LogTicker\"}},\"id\":\"3115b4ed-3840-4fff-aedc-9126198923d6\",\"type\":\"LogAxis\"},{\"attributes\":{},\"id\":\"6fc15f20-849a-414d-9836-74aec0d40a0c\",\"type\":\"BasicTickFormatter\"},{\"attributes\":{\"callback\":null,\"column_names\":[\"x\",\"y\"],\"data\":{\"x\":{\"__ndarray__\":\"6p3H2iXP1D8awuWgS+TUP55fHuIAeNU/lJpPnTkb1j+QmPz/uKHWP0AIq04ZBdc/GEa75upA1z87sVE38ULXP2KgRdHR+dY/oWNwcThR1j/NwJ3jHjLVP9TlrnXwfNM/TuCUPxcP0T9fJaisaZDLP0Sa3SYaYsY/jcbK+ncbyD+hgPodpBfOPxQT2YNvE9E/OV7rBR6T0j9Vo3D/4BXVP9BDckk5c9o/0JCVSv0+4j9SqTjj8hboP82+Tkj0POg/dGDYYZVx4z85XjacLj3eP7KyBPs12dc/qxHVIxcN0z+uxFIdlaHOP+mBiIgjTcg/NZNbRwxowj8UY4VUVBy6P03QrgH26bI/j/grcKCNrj9rBe81hjOpP2DCgO4Hm6M/WNCXr8Rznz9ar/KxNueZP1bb182cPY0/MpmeoToqYD/8F3Lte7FmP9zQkJXJwpA/nXUY9VL2nD+kDxJpEjyjP0eVbqXuNac/YtI0Vh2qqj/yF5xD58etPxm48SoIVbA/HfofrbqzsT/u6k3RnQCzPzixPk0uObQ/IQbAqSZWtT/25d9mZEm2Pzt+9AsKJLc/IaRSy0Lptz9gJQU5eKC4PzxtEbBETbk/JFgg1PnvuT/yqHm/u4q6PwkBRcwtHrs/Pt2ZwbSruz89wZFT2zu8P1bXxnQrxrw/5KgGTblgvT/9UUfuEAq+P96B8NZ8xL4/nIzevzmDvz+GC2sJFwvAP/MLqllfJcA/ZKfNlskRwD9sgqqmr9i/PzjR1iDiqr8/6YaXEeXFvz80U/8yPjLAP10Io8dbTME/\",\"dtype\":\"float64\",\"shape\":[75]},\"y\":{\"__ndarray__\":\"GhExyth1ND/Sv8nbtpRIP2vylNV0PVE/aTum7souWD/At0SJ8fVgPw3Iuahxymc/MSNhhJWvcD/bTfBN02d3P2zb5nxnaoA/CD5h5MAGhz8NmeH1TyaQP+zrCsc9p5Y/LbKd76fGnz/bLW5ISEmmPww9YvTcQq8/JV2OstnstT8Er5Y7M8G+P0c+r3jqkcU/5h99k6ZBzj88bCIzFzjVP4enV8oyxN0//yH99nXg5D8qOpLLf0jtP5kqGJXUifQ/c9cS8kHP/D+/DpwzojQEQIEmwoanVwxA4lgXt9HgE0BSSZ2AJuIbQAMJih9jjiNA5q4l5INuK0AwTKYKRj0zQNv5fmq8/DpAaCJseHrtQkB/+zpwzoxKQM3MzMzMeFJAZmZmZmZqWEAAAAAAAFxeQM3MzMzMJmJAmpmZmZkfZUBmZmZmZhhoQDMzMzMzEWtAAAAAAAAKbkBmZmZmZoFwQM3MzMzM/XFAMzMzMzN6c0CamZmZmfZ0QAAAAAAAc3ZAZmZmZmbvd0DNzMzMzGt5QDMzMzMz6HpAmpmZmZlkfEAAAAAAAOF9QGZmZmZmXX9AZmZmZuZsgECamZmZGSuBQM3MzMxM6YFAAAAAAICngkAzMzMzs2WDQGZmZmbmI4RAmpmZmRnihEDNzMzMTKCFQAAAAACAXoZAMzMzM7Mch0BmZmZm5tqHQJqZmZkZmYhAzczMzExXiUAAAAAAgBWKQDMzMzOz04pAZmZmZuaRi0CamZmZGVCMQM3MzMxMDo1AAAAAAIDMjUAzMzMzs4qOQGZmZmbmSI9A\",\"dtype\":\"float64\",\"shape\":[75]}}},\"id\":\"dbbc3efe-baf2-4779-bdfe-e94009bc996d\",\"type\":\"ColumnDataSource\"},{\"attributes\":{\"below\":[{\"id\":\"d594a4f9-997e-47c9-b7b2-517c004e963e\",\"type\":\"LinearAxis\"}],\"left\":[{\"id\":\"3115b4ed-3840-4fff-aedc-9126198923d6\",\"type\":\"LogAxis\"}],\"plot_height\":500,\"plot_width\":560,\"renderers\":[{\"id\":\"d594a4f9-997e-47c9-b7b2-517c004e963e\",\"type\":\"LinearAxis\"},{\"id\":\"1923ba6b-cc8d-4f28-b206-e7e5f3875c7f\",\"type\":\"Grid\"},{\"id\":\"3115b4ed-3840-4fff-aedc-9126198923d6\",\"type\":\"LogAxis\"},{\"id\":\"17cdd73d-7162-4c43-8df5-89c490b39253\",\"type\":\"Grid\"},{\"id\":\"2e30ef85-70e0-4ef3-ba88-7e8d0417b87a\",\"type\":\"BoxAnnotation\"},{\"id\":\"133141bf-e8f7-401b-b14d-13dfed24d5e3\",\"type\":\"GlyphRenderer\"},{\"id\":\"17f927f3-927a-4ba0-bacf-af5e64d5451c\",\"type\":\"GlyphRenderer\"},{\"id\":\"cd181343-d909-4b5e-94b0-d68de51869d4\",\"type\":\"GlyphRenderer\"},{\"id\":\"41ef7394-ebe9-4704-9659-ac48cb58a4de\",\"type\":\"GlyphRenderer\"},{\"id\":\"d6adc41d-4a67-46df-9fd4-6b685d61770a\",\"type\":\"GlyphRenderer\"},{\"id\":\"3f8d4e6c-3b79-45b7-87e5-ed89153a86f6\",\"type\":\"Legend\"}],\"right\":[{\"id\":\"3f8d4e6c-3b79-45b7-87e5-ed89153a86f6\",\"type\":\"Legend\"}],\"title\":{\"id\":\"ff2cf3ba-658e-4398-bf3b-40873f22ee73\",\"type\":\"Title\"},\"toolbar\":{\"id\":\"9c131275-7cb4-4a60-be4d-9e98fee01942\",\"type\":\"Toolbar\"},\"toolbar_location\":null,\"x_range\":{\"id\":\"d2453501-0486-4d80-94c1-ca1d368fb41f\",\"type\":\"Range1d\"},\"x_scale\":{\"id\":\"694a610c-3ad1-4197-a607-f1a1fd81f45b\",\"type\":\"LinearScale\"},\"y_range\":{\"id\":\"9b201fbb-7ad4-4df9-8fed-798e9a43ba10\",\"type\":\"Range1d\"},\"y_scale\":{\"id\":\"b1804d5b-6f03-4429-8127-4c6d15f6ced3\",\"type\":\"LogScale\"}},\"id\":\"c6bea666-6393-470b-baeb-27dde9414980\",\"subtype\":\"Figure\",\"type\":\"Plot\"},{\"attributes\":{\"overlay\":{\"id\":\"c10721f6-f577-4383-945c-5615dd3e2513\",\"type\":\"BoxAnnotation\"}},\"id\":\"86577fcb-31f9-4eeb-bb01-b0dacfb44671\",\"type\":\"BoxZoomTool\"},{\"attributes\":{\"ticker\":null},\"id\":\"f7811032-b01e-4f1e-9b2f-5a2c5b36af71\",\"type\":\"LogTickFormatter\"},{\"attributes\":{},\"id\":\"bfb8a98f-644d-44a8-bc96-4edd755a18ad\",\"type\":\"WheelZoomTool\"},{\"attributes\":{\"callback\":null,\"column_names\":[\"x\",\"y\"],\"data\":{\"x\":{\"__ndarray__\":\"/Dh5FUJc2j9aPMRYCQraP0/An6+Tmdo/sINSzQ8Q2z9iu72cwFHbP6SkTfZLW9s/IQeAhScP2z++Mi25o2LaPwSwfdg9P9k/7ECMxpCS1z+I0+78R0vVP63FArqKYNI/N0BAKSCOzT+XKXuF5OjEP9zIp40Lg7w/6qIyD6oevz8DpGirs1bGPw4LvRfC3sw/DzEUZpAx0j/NJ6dNBzjXPwwQu6WLQ94/4JWPavl95D8WIyJnJ2TqP9T7Wzyb+ek/vOsJnoRK5D/eGMjU2WDePwE4crQVgdY/mPjlxAW90D9Pb04+oODJP5CQWL2JwsQ/UQ80E8pKwD+crQhzxQm4P7XKHjESC7I/e+JNPycLrT8huDmxYS+mP2Tm7rLg950/vwcfspdZlT+TZiYqsfGQP+IFHWUneYA/SKLAhz4bWr/aC3NvAj4wP23Dsfl704s/BnlX7Bgfmj+PJcUqUh+iP3x1kAIEpqY/Ti53embIqj8DlVQa75auP3TJ2NOFDbE/nQZ3LUKtsj/+l0UKYCi0P03rcQrrebU/PI0eOX6atj9O3oZsroe3PwarF2f/SLg/L6uoqJfruD9wx5RCMnq5P55zfUAc+7k/5+7GxN5yuj+USbKzjeS6P6m96+AeU7s/WQ4d0AzBuz/mXAZzJjO8P0PEcvDxrrw/u5obV0w6vT9677ldedq9Pwnr1p20kb4/jAdCT1ZOvz+Cb5o+O+C/Pw6iUngSCcA/CZ0AWFfkvz/ebDm48JO/P/UfRsZyZL8/2ibsDYSFvz8BC2g7CRnAP2tDan8MQsE/\",\"dtype\":\"float64\",\"shape\":[75]},\"y\":{\"__ndarray__\":\"GhExyth1ND/Sv8nbtpRIP2vylNV0PVE/aTum7souWD/At0SJ8fVgPw3Iuahxymc/MSNhhJWvcD/bTfBN02d3P2zb5nxnaoA/CD5h5MAGhz8NmeH1TyaQP+zrCsc9p5Y/LbKd76fGnz/bLW5ISEmmPww9YvTcQq8/JV2OstnstT8Er5Y7M8G+P0c+r3jqkcU/5h99k6ZBzj88bCIzFzjVP4enV8oyxN0//yH99nXg5D8qOpLLf0jtP5kqGJXUifQ/c9cS8kHP/D+/DpwzojQEQIEmwoanVwxA4lgXt9HgE0BSSZ2AJuIbQAMJih9jjiNA5q4l5INuK0AwTKYKRj0zQNv5fmq8/DpAaCJseHrtQkB/+zpwzoxKQM3MzMzMeFJAZmZmZmZqWEAAAAAAAFxeQM3MzMzMJmJAmpmZmZkfZUBmZmZmZhhoQDMzMzMzEWtAAAAAAAAKbkBmZmZmZoFwQM3MzMzM/XFAMzMzMzN6c0CamZmZmfZ0QAAAAAAAc3ZAZmZmZmbvd0DNzMzMzGt5QDMzMzMz6HpAmpmZmZlkfEAAAAAAAOF9QGZmZmZmXX9AZmZmZuZsgECamZmZGSuBQM3MzMxM6YFAAAAAAICngkAzMzMzs2WDQGZmZmbmI4RAmpmZmRnihEDNzMzMTKCFQAAAAACAXoZAMzMzM7Mch0BmZmZm5tqHQJqZmZkZmYhAzczMzExXiUAAAAAAgBWKQDMzMzOz04pAZmZmZuaRi0CamZmZGVCMQM3MzMxMDo1AAAAAAIDMjUAzMzMzs4qOQGZmZmbmSI9A\",\"dtype\":\"float64\",\"shape\":[75]}}},\"id\":\"d4cffa56-4a8f-4253-95f8-255dfaab380d\",\"type\":\"ColumnDataSource\"},{\"attributes\":{},\"id\":\"e477be0c-068c-4a93-a774-49b0747c329e\",\"type\":\"PanTool\"},{\"attributes\":{\"callback\":null,\"column_names\":[\"x\",\"y\"],\"data\":{\"x\":{\"__ndarray__\":\"6p3H2iXP1D8awuWgS+TUP55fHuIAeNU/lJpPnTkb1j+QmPz/uKHWP0AIq04ZBdc/GEa75upA1z87sVE38ULXP2KgRdHR+dY/oWNwcThR1j/NwJ3jHjLVP9TlrnXwfNM/TuCUPxcP0T9fJaisaZDLP0Sa3SYaYsY/jcbK+ncbyD+hgPodpBfOPxQT2YNvE9E/OV7rBR6T0j9Vo3D/4BXVP9BDckk5c9o/0JCVSv0+4j9SqTjj8hboP82+Tkj0POg/dGDYYZVx4z85XjacLj3eP7KyBPs12dc/qxHVIxcN0z+uxFIdlaHOP+mBiIgjTcg/NZNbRwxowj8UY4VUVBy6P03QrgH26bI/j/grcKCNrj9rBe81hjOpP2DCgO4Hm6M/WNCXr8Rznz9ar/KxNueZP1bb182cPY0/MpmeoToqYD/8F3Lte7FmP9zQkJXJwpA/nXUY9VL2nD+kDxJpEjyjP0eVbqXuNac/YtI0Vh2qqj/yF5xD58etPxm48SoIVbA/HfofrbqzsT/u6k3RnQCzPzixPk0uObQ/IQbAqSZWtT/25d9mZEm2Pzt+9AsKJLc/IaRSy0Lptz9gJQU5eKC4PzxtEbBETbk/JFgg1PnvuT/yqHm/u4q6PwkBRcwtHrs/Pt2ZwbSruz89wZFT2zu8P1bXxnQrxrw/5KgGTblgvT/9UUfuEAq+P96B8NZ8xL4/nIzevzmDvz+GC2sJFwvAP/MLqllfJcA/ZKfNlskRwD9sgqqmr9i/PzjR1iDiqr8/6YaXEeXFvz80U/8yPjLAP10Io8dbTME/\",\"dtype\":\"float64\",\"shape\":[75]},\"y\":{\"__ndarray__\":\"GhExyth1ND/Sv8nbtpRIP2vylNV0PVE/aTum7souWD/At0SJ8fVgPw3Iuahxymc/MSNhhJWvcD/bTfBN02d3P2zb5nxnaoA/CD5h5MAGhz8NmeH1TyaQP+zrCsc9p5Y/LbKd76fGnz/bLW5ISEmmPww9YvTcQq8/JV2OstnstT8Er5Y7M8G+P0c+r3jqkcU/5h99k6ZBzj88bCIzFzjVP4enV8oyxN0//yH99nXg5D8qOpLLf0jtP5kqGJXUifQ/c9cS8kHP/D+/DpwzojQEQIEmwoanVwxA4lgXt9HgE0BSSZ2AJuIbQAMJih9jjiNA5q4l5INuK0AwTKYKRj0zQNv5fmq8/DpAaCJseHrtQkB/+zpwzoxKQM3MzMzMeFJAZmZmZmZqWEAAAAAAAFxeQM3MzMzMJmJAmpmZmZkfZUBmZmZmZhhoQDMzMzMzEWtAAAAAAAAKbkBmZmZmZoFwQM3MzMzM/XFAMzMzMzN6c0CamZmZmfZ0QAAAAAAAc3ZAZmZmZmbvd0DNzMzMzGt5QDMzMzMz6HpAmpmZmZlkfEAAAAAAAOF9QGZmZmZmXX9AZmZmZuZsgECamZmZGSuBQM3MzMxM6YFAAAAAAICngkAzMzMzs2WDQGZmZmbmI4RAmpmZmRnihEDNzMzMTKCFQAAAAACAXoZAMzMzM7Mch0BmZmZm5tqHQJqZmZkZmYhAzczMzExXiUAAAAAAgBWKQDMzMzOz04pAZmZmZuaRi0CamZmZGVCMQM3MzMxMDo1AAAAAAIDMjUAzMzMzs4qOQGZmZmbmSI9A\",\"dtype\":\"float64\",\"shape\":[75]}}},\"id\":\"4cc09229-5388-4ebf-94c0-b878532cb339\",\"type\":\"ColumnDataSource\"},{\"attributes\":{\"source\":{\"id\":\"6ce5fbc1-a124-4f68-b95e-1524c18b9a2f\",\"type\":\"ColumnDataSource\"}},\"id\":\"e222d663-fead-4be4-89d0-7d2e430c9392\",\"type\":\"CDSView\"},{\"attributes\":{\"plot\":{\"id\":\"c6bea666-6393-470b-baeb-27dde9414980\",\"subtype\":\"Figure\",\"type\":\"Plot\"},\"ticker\":{\"id\":\"d8f080d3-cb92-4876-af63-2175a672d34b\",\"type\":\"BasicTicker\"}},\"id\":\"1923ba6b-cc8d-4f28-b206-e7e5f3875c7f\",\"type\":\"Grid\"},{\"attributes\":{\"line_color\":\"#4daf4a\",\"line_width\":1.5,\"x\":{\"field\":\"x\"},\"y\":{\"field\":\"y\"}},\"id\":\"453d02c4-e852-44d6-8588-4284e2dc5036\",\"type\":\"Line\"},{\"attributes\":{\"callback\":null,\"column_names\":[\"x\",\"y\"],\"data\":{\"x\":{\"__ndarray__\":\"6p3H2iXP1D8awuWgS+TUP55fHuIAeNU/lJpPnTkb1j+QmPz/uKHWP0AIq04ZBdc/GEa75upA1z87sVE38ULXP2KgRdHR+dY/oWNwcThR1j/NwJ3jHjLVP9TlrnXwfNM/TuCUPxcP0T9fJaisaZDLP0Sa3SYaYsY/jcbK+ncbyD+hgPodpBfOPxQT2YNvE9E/OV7rBR6T0j9Vo3D/4BXVP9BDckk5c9o/0JCVSv0+4j9SqTjj8hboP82+Tkj0POg/dGDYYZVx4z85XjacLj3eP7KyBPs12dc/qxHVIxcN0z+uxFIdlaHOP+mBiIgjTcg/NZNbRwxowj8UY4VUVBy6P03QrgH26bI/j/grcKCNrj9rBe81hjOpP2DCgO4Hm6M/WNCXr8Rznz9ar/KxNueZP1bb182cPY0/MpmeoToqYD/8F3Lte7FmP9zQkJXJwpA/nXUY9VL2nD+kDxJpEjyjP0eVbqXuNac/YtI0Vh2qqj/yF5xD58etPxm48SoIVbA/HfofrbqzsT/u6k3RnQCzPzixPk0uObQ/IQbAqSZWtT/25d9mZEm2Pzt+9AsKJLc/IaRSy0Lptz9gJQU5eKC4PzxtEbBETbk/JFgg1PnvuT/yqHm/u4q6PwkBRcwtHrs/Pt2ZwbSruz89wZFT2zu8P1bXxnQrxrw/5KgGTblgvT/9UUfuEAq+P96B8NZ8xL4/nIzevzmDvz+GC2sJFwvAP/MLqllfJcA/ZKfNlskRwD9sgqqmr9i/PzjR1iDiqr8/6YaXEeXFvz80U/8yPjLAP10Io8dbTME/\",\"dtype\":\"float64\",\"shape\":[75]},\"y\":{\"__ndarray__\":\"GhExyth1ND/Sv8nbtpRIP2vylNV0PVE/aTum7souWD/At0SJ8fVgPw3Iuahxymc/MSNhhJWvcD/bTfBN02d3P2zb5nxnaoA/CD5h5MAGhz8NmeH1TyaQP+zrCsc9p5Y/LbKd76fGnz/bLW5ISEmmPww9YvTcQq8/JV2OstnstT8Er5Y7M8G+P0c+r3jqkcU/5h99k6ZBzj88bCIzFzjVP4enV8oyxN0//yH99nXg5D8qOpLLf0jtP5kqGJXUifQ/c9cS8kHP/D+/DpwzojQEQIEmwoanVwxA4lgXt9HgE0BSSZ2AJuIbQAMJih9jjiNA5q4l5INuK0AwTKYKRj0zQNv5fmq8/DpAaCJseHrtQkB/+zpwzoxKQM3MzMzMeFJAZmZmZmZqWEAAAAAAAFxeQM3MzMzMJmJAmpmZmZkfZUBmZmZmZhhoQDMzMzMzEWtAAAAAAAAKbkBmZmZmZoFwQM3MzMzM/XFAMzMzMzN6c0CamZmZmfZ0QAAAAAAAc3ZAZmZmZmbvd0DNzMzMzGt5QDMzMzMz6HpAmpmZmZlkfEAAAAAAAOF9QGZmZmZmXX9AZmZmZuZsgECamZmZGSuBQM3MzMxM6YFAAAAAAICngkAzMzMzs2WDQGZmZmbmI4RAmpmZmRnihEDNzMzMTKCFQAAAAACAXoZAMzMzM7Mch0BmZmZm5tqHQJqZmZkZmYhAzczMzExXiUAAAAAAgBWKQDMzMzOz04pAZmZmZuaRi0CamZmZGVCMQM3MzMxMDo1AAAAAAIDMjUAzMzMzs4qOQGZmZmbmSI9A\",\"dtype\":\"float64\",\"shape\":[75]}}},\"id\":\"61be3088-b298-476b-ac15-1ce03be482f4\",\"type\":\"ColumnDataSource\"},{\"attributes\":{\"line_alpha\":0.1,\"line_color\":\"#1f77b4\",\"line_width\":1.5,\"x\":{\"field\":\"x\"},\"y\":{\"field\":\"y\"}},\"id\":\"afdffc80-1e85-4e68-b86f-bc048290ec10\",\"type\":\"Line\"},{\"attributes\":{\"axis_label\":\"pressure [mb]\",\"formatter\":{\"id\":\"54337cca-f4ee-4426-8a4a-846e26186898\",\"type\":\"BasicTickFormatter\"},\"plot\":{\"id\":\"bee501a0-71ef-4502-a15c-edd86a38688c\",\"subtype\":\"Figure\",\"type\":\"Plot\"},\"ticker\":{\"id\":\"23648507-d6fd-4f96-84e6-6687e7033d09\",\"type\":\"BasicTicker\"}},\"id\":\"38c4f6e2-0052-4684-8b91-57a1eb798946\",\"type\":\"LinearAxis\"},{\"attributes\":{\"data_source\":{\"id\":\"d4cffa56-4a8f-4253-95f8-255dfaab380d\",\"type\":\"ColumnDataSource\"},\"glyph\":{\"id\":\"453d02c4-e852-44d6-8588-4284e2dc5036\",\"type\":\"Line\"},\"hover_glyph\":null,\"muted_glyph\":null,\"nonselection_glyph\":{\"id\":\"afdffc80-1e85-4e68-b86f-bc048290ec10\",\"type\":\"Line\"},\"selection_glyph\":null,\"view\":{\"id\":\"3d5864c6-6df8-4cb6-a6ec-b9a8fc01cad5\",\"type\":\"CDSView\"}},\"id\":\"cd181343-d909-4b5e-94b0-d68de51869d4\",\"type\":\"GlyphRenderer\"},{\"attributes\":{\"fill_alpha\":{\"value\":0.7},\"fill_color\":{\"value\":\"#4daf4a\"},\"line_alpha\":{\"value\":0.7},\"line_color\":{\"value\":\"#4daf4a\"},\"x\":{\"field\":\"x\"},\"y\":{\"field\":\"y\"}},\"id\":\"2611bcc8-b566-487a-9753-33ddafa74ef7\",\"type\":\"Circle\"},{\"attributes\":{\"source\":{\"id\":\"d4cffa56-4a8f-4253-95f8-255dfaab380d\",\"type\":\"ColumnDataSource\"}},\"id\":\"3d5864c6-6df8-4cb6-a6ec-b9a8fc01cad5\",\"type\":\"CDSView\"},{\"attributes\":{\"label\":{\"value\":\"CRD\"},\"renderers\":[{\"id\":\"17f927f3-927a-4ba0-bacf-af5e64d5451c\",\"type\":\"GlyphRenderer\"},{\"id\":\"cd181343-d909-4b5e-94b0-d68de51869d4\",\"type\":\"GlyphRenderer\"}]},\"id\":\"d1604520-6267-4d93-9dd4-a3c5054d392d\",\"type\":\"LegendItem\"},{\"attributes\":{\"callback\":null,\"column_names\":[\"x\",\"y\"],\"data\":{\"x\":{\"__ndarray__\":\"6p3H2iXP1D8awuWgS+TUP55fHuIAeNU/lJpPnTkb1j+QmPz/uKHWP0AIq04ZBdc/GEa75upA1z87sVE38ULXP2KgRdHR+dY/oWNwcThR1j/NwJ3jHjLVP9TlrnXwfNM/TuCUPxcP0T9fJaisaZDLP0Sa3SYaYsY/jcbK+ncbyD+hgPodpBfOPxQT2YNvE9E/OV7rBR6T0j9Vo3D/4BXVP9BDckk5c9o/0JCVSv0+4j9SqTjj8hboP82+Tkj0POg/dGDYYZVx4z85XjacLj3eP7KyBPs12dc/qxHVIxcN0z+uxFIdlaHOP+mBiIgjTcg/NZNbRwxowj8UY4VUVBy6P03QrgH26bI/j/grcKCNrj9rBe81hjOpP2DCgO4Hm6M/WNCXr8Rznz9ar/KxNueZP1bb182cPY0/MpmeoToqYD/8F3Lte7FmP9zQkJXJwpA/nXUY9VL2nD+kDxJpEjyjP0eVbqXuNac/YtI0Vh2qqj/yF5xD58etPxm48SoIVbA/HfofrbqzsT/u6k3RnQCzPzixPk0uObQ/IQbAqSZWtT/25d9mZEm2Pzt+9AsKJLc/IaRSy0Lptz9gJQU5eKC4PzxtEbBETbk/JFgg1PnvuT/yqHm/u4q6PwkBRcwtHrs/Pt2ZwbSruz89wZFT2zu8P1bXxnQrxrw/5KgGTblgvT/9UUfuEAq+P96B8NZ8xL4/nIzevzmDvz+GC2sJFwvAP/MLqllfJcA/ZKfNlskRwD9sgqqmr9i/PzjR1iDiqr8/6YaXEeXFvz80U/8yPjLAP10Io8dbTME/\",\"dtype\":\"float64\",\"shape\":[75]},\"y\":{\"__ndarray__\":\"GhExyth1ND/Sv8nbtpRIP2vylNV0PVE/aTum7souWD/At0SJ8fVgPw3Iuahxymc/MSNhhJWvcD/bTfBN02d3P2zb5nxnaoA/CD5h5MAGhz8NmeH1TyaQP+zrCsc9p5Y/LbKd76fGnz/bLW5ISEmmPww9YvTcQq8/JV2OstnstT8Er5Y7M8G+P0c+r3jqkcU/5h99k6ZBzj88bCIzFzjVP4enV8oyxN0//yH99nXg5D8qOpLLf0jtP5kqGJXUifQ/c9cS8kHP/D+/DpwzojQEQIEmwoanVwxA4lgXt9HgE0BSSZ2AJuIbQAMJih9jjiNA5q4l5INuK0AwTKYKRj0zQNv5fmq8/DpAaCJseHrtQkB/+zpwzoxKQM3MzMzMeFJAZmZmZmZqWEAAAAAAAFxeQM3MzMzMJmJAmpmZmZkfZUBmZmZmZhhoQDMzMzMzEWtAAAAAAAAKbkBmZmZmZoFwQM3MzMzM/XFAMzMzMzN6c0CamZmZmfZ0QAAAAAAAc3ZAZmZmZmbvd0DNzMzMzGt5QDMzMzMz6HpAmpmZmZlkfEAAAAAAAOF9QGZmZmZmXX9AZmZmZuZsgECamZmZGSuBQM3MzMxM6YFAAAAAAICngkAzMzMzs2WDQGZmZmbmI4RAmpmZmRnihEDNzMzMTKCFQAAAAACAXoZAMzMzM7Mch0BmZmZm5tqHQJqZmZkZmYhAzczMzExXiUAAAAAAgBWKQDMzMzOz04pAZmZmZuaRi0CamZmZGVCMQM3MzMxMDo1AAAAAAIDMjUAzMzMzs4qOQGZmZmbmSI9A\",\"dtype\":\"float64\",\"shape\":[75]}}},\"id\":\"7dfe122c-85d9-4cc8-9776-3fad5d5c0392\",\"type\":\"ColumnDataSource\"},{\"attributes\":{},\"id\":\"d8f080d3-cb92-4876-af63-2175a672d34b\",\"type\":\"BasicTicker\"},{\"attributes\":{\"fill_alpha\":{\"value\":0.7},\"fill_color\":{\"value\":\"#984ea3\"},\"line_alpha\":{\"value\":0.7},\"line_color\":{\"value\":\"#984ea3\"},\"x\":{\"field\":\"x\"},\"y\":{\"field\":\"y\"}},\"id\":\"486edfd2-c20b-488c-8a05-d2d1c67324fa\",\"type\":\"Square\"},{\"attributes\":{\"dimension\":1,\"plot\":{\"id\":\"c6bea666-6393-470b-baeb-27dde9414980\",\"subtype\":\"Figure\",\"type\":\"Plot\"},\"ticker\":{\"id\":\"193098fe-bcf8-479e-bf2a-71598e5be95c\",\"type\":\"LogTicker\"}},\"id\":\"17cdd73d-7162-4c43-8df5-89c490b39253\",\"type\":\"Grid\"},{\"attributes\":{\"callback\":null,\"end\":0.8329890122960001,\"start\":-0.009856601896000001},\"id\":\"d2453501-0486-4d80-94c1-ca1d368fb41f\",\"type\":\"Range1d\"},{\"attributes\":{\"source\":{\"id\":\"b44281b1-f212-4c0d-a265-b5312c529d29\",\"type\":\"ColumnDataSource\"}},\"id\":\"da28dd39-6668-4802-967c-bd213156c5e7\",\"type\":\"CDSView\"},{\"attributes\":{\"source\":{\"id\":\"4cc09229-5388-4ebf-94c0-b878532cb339\",\"type\":\"ColumnDataSource\"}},\"id\":\"a822ac35-48d8-44e0-91cd-2957ff22570d\",\"type\":\"CDSView\"},{\"attributes\":{\"bottom_units\":\"screen\",\"fill_alpha\":{\"value\":0.5},\"fill_color\":{\"value\":\"lightgrey\"},\"left_units\":\"screen\",\"level\":\"overlay\",\"line_alpha\":{\"value\":1.0},\"line_color\":{\"value\":\"black\"},\"line_dash\":[4,4],\"line_width\":{\"value\":2},\"plot\":null,\"render_mode\":\"css\",\"right_units\":\"screen\",\"top_units\":\"screen\"},\"id\":\"2e30ef85-70e0-4ef3-ba88-7e8d0417b87a\",\"type\":\"BoxAnnotation\"},{\"attributes\":{\"line_alpha\":0.6,\"line_color\":\"#984ea3\",\"line_width\":3,\"x\":{\"field\":\"x\"},\"y\":{\"field\":\"y\"}},\"id\":\"5a4315f1-83bc-407c-b567-3ee059f170de\",\"type\":\"Line\"},{\"attributes\":{\"plot\":null,\"text\":\"Linear pressure scale\"},\"id\":\"371b626f-3d9d-4841-afb3-5fd83dcfc49d\",\"type\":\"Title\"},{\"attributes\":{\"data_source\":{\"id\":\"dbbc3efe-baf2-4779-bdfe-e94009bc996d\",\"type\":\"ColumnDataSource\"},\"glyph\":{\"id\":\"7df1c0a3-1b90-4a0d-89ee-3dc1f688a78d\",\"type\":\"Line\"},\"hover_glyph\":null,\"muted_glyph\":null,\"nonselection_glyph\":{\"id\":\"4490f0e9-551a-4223-b048-86aadfb956ab\",\"type\":\"Line\"},\"selection_glyph\":null,\"view\":{\"id\":\"c4605dd9-8a9c-4fd1-ae36-0392ec5e2300\",\"type\":\"CDSView\"}},\"id\":\"5bf0d4af-8c8a-4345-ab28-34982d0cd7aa\",\"type\":\"GlyphRenderer\"},{\"attributes\":{\"fill_alpha\":{\"value\":0.1},\"fill_color\":{\"value\":\"#1f77b4\"},\"line_alpha\":{\"value\":0.1},\"line_color\":{\"value\":\"#1f77b4\"},\"x\":{\"field\":\"x\"},\"y\":{\"field\":\"y\"}},\"id\":\"a56a9db9-fae8-4119-bea6-63ac0909fbcd\",\"type\":\"Square\"},{\"attributes\":{\"line_alpha\":0.6,\"line_color\":\"#e41a1c\",\"line_dash\":[6],\"line_width\":5,\"x\":{\"field\":\"x\"},\"y\":{\"field\":\"y\"}},\"id\":\"83a055e7-1079-4026-b364-add77af18eb4\",\"type\":\"Line\"},{\"attributes\":{\"data_source\":{\"id\":\"4cc09229-5388-4ebf-94c0-b878532cb339\",\"type\":\"ColumnDataSource\"},\"glyph\":{\"id\":\"486edfd2-c20b-488c-8a05-d2d1c67324fa\",\"type\":\"Square\"},\"hover_glyph\":null,\"muted_glyph\":null,\"nonselection_glyph\":{\"id\":\"a56a9db9-fae8-4119-bea6-63ac0909fbcd\",\"type\":\"Square\"},\"selection_glyph\":null,\"view\":{\"id\":\"a822ac35-48d8-44e0-91cd-2957ff22570d\",\"type\":\"CDSView\"}},\"id\":\"41ef7394-ebe9-4704-9659-ac48cb58a4de\",\"type\":\"GlyphRenderer\"},{\"attributes\":{},\"id\":\"dc0ab45b-2f8f-429b-b48d-ab056beaa2b3\",\"type\":\"SaveTool\"},{\"attributes\":{},\"id\":\"694a610c-3ad1-4197-a607-f1a1fd81f45b\",\"type\":\"LinearScale\"},{\"attributes\":{\"line_color\":\"#4daf4a\",\"line_width\":1.5,\"x\":{\"field\":\"x\"},\"y\":{\"field\":\"y\"}},\"id\":\"304237e9-025b-4d28-b90f-0fff0e53b5db\",\"type\":\"Line\"},{\"attributes\":{\"source\":{\"id\":\"61be3088-b298-476b-ac15-1ce03be482f4\",\"type\":\"ColumnDataSource\"}},\"id\":\"114ca33b-c5d3-4e53-9600-901de53a1e66\",\"type\":\"CDSView\"},{\"attributes\":{},\"id\":\"b767f40b-5a5f-4983-8ec7-6e9beb8ee833\",\"type\":\"ResetTool\"},{\"attributes\":{\"active_drag\":\"auto\",\"active_inspect\":\"auto\",\"active_scroll\":\"auto\",\"active_tap\":\"auto\",\"tools\":[{\"id\":\"e477be0c-068c-4a93-a774-49b0747c329e\",\"type\":\"PanTool\"},{\"id\":\"bfb8a98f-644d-44a8-bc96-4edd755a18ad\",\"type\":\"WheelZoomTool\"},{\"id\":\"d343328a-ecfa-4afe-b5cd-8fd735a20ea1\",\"type\":\"BoxZoomTool\"},{\"id\":\"f9efe865-4b3a-4702-b31c-a85f8d1f2a68\",\"type\":\"SaveTool\"},{\"id\":\"28cc73b0-c627-4b52-811e-34a9e6715814\",\"type\":\"ResetTool\"},{\"id\":\"e5561bfc-f6d5-4f4e-b3dd-7113bfba01c3\",\"type\":\"HelpTool\"}]},\"id\":\"9c131275-7cb4-4a60-be4d-9e98fee01942\",\"type\":\"Toolbar\"},{\"attributes\":{\"items\":[{\"id\":\"397a3e55-0b0a-4613-8023-7a4dded68db7\",\"type\":\"LegendItem\"},{\"id\":\"d1604520-6267-4d93-9dd4-a3c5054d392d\",\"type\":\"LegendItem\"},{\"id\":\"44c54b1a-d0c9-4847-b56e-6320655b82dd\",\"type\":\"LegendItem\"}],\"label_text_font_size\":{\"value\":\"8pt\"},\"location\":[10,-30],\"plot\":{\"id\":\"c6bea666-6393-470b-baeb-27dde9414980\",\"subtype\":\"Figure\",\"type\":\"Plot\"}},\"id\":\"3f8d4e6c-3b79-45b7-87e5-ed89153a86f6\",\"type\":\"Legend\"},{\"attributes\":{\"source\":{\"id\":\"d47dd36e-bc58-4f82-a8ed-c8de6ea35d87\",\"type\":\"ColumnDataSource\"}},\"id\":\"b1f21b36-6f15-43c5-bc3f-3040fd2baf22\",\"type\":\"CDSView\"},{\"attributes\":{\"line_alpha\":0.1,\"line_color\":\"#1f77b4\",\"line_width\":3,\"x\":{\"field\":\"x\"},\"y\":{\"field\":\"y\"}},\"id\":\"0e554530-7584-4f24-b76d-76f4489ae002\",\"type\":\"Line\"},{\"attributes\":{\"data_source\":{\"id\":\"61be3088-b298-476b-ac15-1ce03be482f4\",\"type\":\"ColumnDataSource\"},\"glyph\":{\"id\":\"5a4315f1-83bc-407c-b567-3ee059f170de\",\"type\":\"Line\"},\"hover_glyph\":null,\"muted_glyph\":null,\"nonselection_glyph\":{\"id\":\"0e554530-7584-4f24-b76d-76f4489ae002\",\"type\":\"Line\"},\"selection_glyph\":null,\"view\":{\"id\":\"114ca33b-c5d3-4e53-9600-901de53a1e66\",\"type\":\"CDSView\"}},\"id\":\"d6adc41d-4a67-46df-9fd4-6b685d61770a\",\"type\":\"GlyphRenderer\"},{\"attributes\":{\"plot\":null,\"text\":\"Log pressure scale\"},\"id\":\"ff2cf3ba-658e-4398-bf3b-40873f22ee73\",\"type\":\"Title\"},{\"attributes\":{\"tools\":[{\"id\":\"780cc962-fa42-40c1-a3b2-158e50dba12e\",\"type\":\"PanTool\"},{\"id\":\"a778963b-45d6-48d6-af74-879aa93fcb58\",\"type\":\"WheelZoomTool\"},{\"id\":\"86577fcb-31f9-4eeb-bb01-b0dacfb44671\",\"type\":\"BoxZoomTool\"},{\"id\":\"dc0ab45b-2f8f-429b-b48d-ab056beaa2b3\",\"type\":\"SaveTool\"},{\"id\":\"b767f40b-5a5f-4983-8ec7-6e9beb8ee833\",\"type\":\"ResetTool\"},{\"id\":\"e6ad4c09-b933-4e66-9f3d-169408453248\",\"type\":\"HelpTool\"},{\"id\":\"e477be0c-068c-4a93-a774-49b0747c329e\",\"type\":\"PanTool\"},{\"id\":\"bfb8a98f-644d-44a8-bc96-4edd755a18ad\",\"type\":\"WheelZoomTool\"},{\"id\":\"d343328a-ecfa-4afe-b5cd-8fd735a20ea1\",\"type\":\"BoxZoomTool\"},{\"id\":\"f9efe865-4b3a-4702-b31c-a85f8d1f2a68\",\"type\":\"SaveTool\"},{\"id\":\"28cc73b0-c627-4b52-811e-34a9e6715814\",\"type\":\"ResetTool\"},{\"id\":\"e5561bfc-f6d5-4f4e-b3dd-7113bfba01c3\",\"type\":\"HelpTool\"}]},\"id\":\"11e4c5a9-2598-4d23-83d0-7d642760a127\",\"type\":\"ProxyToolbar\"},{\"attributes\":{},\"id\":\"b8da266f-9d8e-4646-ac13-6060f07f1ac3\",\"type\":\"BasicTicker\"},{\"attributes\":{\"children\":[{\"id\":\"f1269064-b072-4017-8a71-0e9fb2899c98\",\"type\":\"ToolbarBox\"},{\"id\":\"5b1d9ffd-e81b-4dca-a472-1197f5be49ee\",\"type\":\"Column\"}]},\"id\":\"34e80293-64c7-426c-87cd-0d72c35dc8de\",\"type\":\"Column\"},{\"attributes\":{\"toolbar\":{\"id\":\"11e4c5a9-2598-4d23-83d0-7d642760a127\",\"type\":\"ProxyToolbar\"},\"toolbar_location\":\"above\"},\"id\":\"f1269064-b072-4017-8a71-0e9fb2899c98\",\"type\":\"ToolbarBox\"},{\"attributes\":{\"line_alpha\":0.1,\"line_color\":\"#1f77b4\",\"line_dash\":[6],\"line_width\":5,\"x\":{\"field\":\"x\"},\"y\":{\"field\":\"y\"}},\"id\":\"8189c319-e326-4c28-9762-af50b673f6bf\",\"type\":\"Line\"},{\"attributes\":{\"data_source\":{\"id\":\"49983438-53c0-4990-a7dd-7c02afaf73c2\",\"type\":\"ColumnDataSource\"},\"glyph\":{\"id\":\"2611bcc8-b566-487a-9753-33ddafa74ef7\",\"type\":\"Circle\"},\"hover_glyph\":null,\"muted_glyph\":null,\"nonselection_glyph\":{\"id\":\"b1cbf8e1-de67-45fe-96cf-8d82cd742232\",\"type\":\"Circle\"},\"selection_glyph\":null,\"view\":{\"id\":\"98f658d3-3b49-414b-8b0d-2dc7ef8e9e78\",\"type\":\"CDSView\"}},\"id\":\"67b5c85b-486d-4518-96e3-b37ecaa1aa3b\",\"type\":\"GlyphRenderer\"},{\"attributes\":{},\"id\":\"23648507-d6fd-4f96-84e6-6687e7033d09\",\"type\":\"BasicTicker\"},{\"attributes\":{\"children\":[{\"id\":\"bee501a0-71ef-4502-a15c-edd86a38688c\",\"subtype\":\"Figure\",\"type\":\"Plot\"},{\"id\":\"c6bea666-6393-470b-baeb-27dde9414980\",\"subtype\":\"Figure\",\"type\":\"Plot\"}]},\"id\":\"a1211d96-5f73-4311-acc8-5eea34defec9\",\"type\":\"Row\"},{\"attributes\":{},\"id\":\"54337cca-f4ee-4426-8a4a-846e26186898\",\"type\":\"BasicTickFormatter\"},{\"attributes\":{\"bottom_units\":\"screen\",\"fill_alpha\":{\"value\":0.5},\"fill_color\":{\"value\":\"lightgrey\"},\"left_units\":\"screen\",\"level\":\"overlay\",\"line_alpha\":{\"value\":1.0},\"line_color\":{\"value\":\"black\"},\"line_dash\":[4,4],\"line_width\":{\"value\":2},\"plot\":null,\"render_mode\":\"css\",\"right_units\":\"screen\",\"top_units\":\"screen\"},\"id\":\"c10721f6-f577-4383-945c-5615dd3e2513\",\"type\":\"BoxAnnotation\"},{\"attributes\":{\"axis_label\":\"cooling rate [K/day]\",\"formatter\":{\"id\":\"283a5eab-b4a2-403f-971a-c287badf742f\",\"type\":\"BasicTickFormatter\"},\"plot\":{\"id\":\"c6bea666-6393-470b-baeb-27dde9414980\",\"subtype\":\"Figure\",\"type\":\"Plot\"},\"ticker\":{\"id\":\"d8f080d3-cb92-4876-af63-2175a672d34b\",\"type\":\"BasicTicker\"}},\"id\":\"d594a4f9-997e-47c9-b7b2-517c004e963e\",\"type\":\"LinearAxis\"},{\"attributes\":{\"label\":{\"value\":\"WGT igg=10 wgt_flux=2\"},\"renderers\":[{\"id\":\"41ef7394-ebe9-4704-9659-ac48cb58a4de\",\"type\":\"GlyphRenderer\"},{\"id\":\"d6adc41d-4a67-46df-9fd4-6b685d61770a\",\"type\":\"GlyphRenderer\"}]},\"id\":\"44c54b1a-d0c9-4847-b56e-6320655b82dd\",\"type\":\"LegendItem\"},{\"attributes\":{},\"id\":\"44024088-2138-4137-bea6-eb4fbfc5ffc3\",\"type\":\"LinearScale\"},{\"attributes\":{\"num_minor_ticks\":10},\"id\":\"193098fe-bcf8-479e-bf2a-71598e5be95c\",\"type\":\"LogTicker\"},{\"attributes\":{\"callback\":null,\"column_names\":[\"x\",\"y\"],\"data\":{\"x\":{\"__ndarray__\":\"+V4q07s6zj/poGTVlKLOP1y/y9Jv288/+UqDTzGW0D+Hgdf8MjfRP4VKVFZwy9E/sHMVg25M0j8hteRMbq/SP3t6Uy7g59I/5YP5hh3h0j8Y4RbBOYLSP5KAqGacp9E/C0NHH7El0D/RIEdr85zLPxwU5qD478c/85ftdRg0yj/X6ItzigTQP4zoSy1jnNE/THsYlEgm0j+1gBoIE5DTP5x6MGtaUNg/l2rqZalP4T9rinT9im7nP+ZKkFNs8+c/vHv8tSeO4z9uMzbwepvePzK1AMhkTNg/ITHNtstl0z8CJz7r2BDPPy3UN7xiPsg/Ta2MgOk4wj8Z+xEN8n25Pw5DBEx7q7E/eJ25+dnXqz+kUuxoHOqnP9Br5KGMRKM/uhryMjednj+LBUmV5F2YP5w89eCfZok/woPwYnrjJT9y8KjYaJ5LPzGwmw2Kyow/HvfbDnVumj/0DpntaO6hP6m/PVPY2qU/6He924w4qT9SzJqIGUKsP3RsFMQGLK8/4dkCaLIEsT+MyAPTYWyyPyAhlSXkyrM/jVMrTuAWtT8MTAnpcki2Pw2VFJKrXLc/PKrZhC1WuD+wZt5W7EK5P6bFrieZILo/7KnN5g7uuj+kJUUay6q7PyWYxR+gVrw//RHIHR30vD+I7wbJ6Yi9PxM6XGkhGr4/7fgnn7uwvj9SbLu/ME+/P8AkdBv9/b8/km++KnpUwD98MKUFmpXAPx904AetqMA/JyJw4rOOwD/jxgzY/mPAP3IR5/qhRsA/DAP5hoBLwD8m5rQCno/AP97Qax5NlsE/\",\"dtype\":\"float64\",\"shape\":[75]},\"y\":{\"__ndarray__\":\"S/O/Q+51ND/Sv8nbtpRIP2vylNV0PVE/aTum7souWD/At0SJ8fVgPw3Iuahxymc/MSNhhJWvcD/bTfBN02d3P2zb5nxnaoA/CD5h5MAGhz8NmeH1TyaQP+zrCsc9p5Y/LbKd76fGnz/bLW5ISEmmPww9YvTcQq8/JV2OstnstT8Er5Y7M8G+P0c+r3jqkcU/5h99k6ZBzj88bCIzFzjVP4enV8oyxN0//yH99nXg5D8qOpLLf0jtP5kqGJXUifQ/c9cS8kHP/D+/DpwzojQEQIEmwoanVwxA4lgXt9HgE0BSSZ2AJuIbQAMJih9jjiNA5q4l5INuK0AwTKYKRj0zQNv5fmq8/DpAaCJseHrtQkB/+zpwzoxKQM3MzMzMeFJAZmZmZmZqWEAAAAAAAFxeQM3MzMzMJmJAmpmZmZkfZUBmZmZmZhhoQDMzMzMzEWtAAAAAAAAKbkBmZmZmZoFwQM3MzMzM/XFAMzMzMzN6c0CamZmZmfZ0QAAAAAAAc3ZAZmZmZmbvd0DNzMzMzGt5QDMzMzMz6HpAmpmZmZlkfEAAAAAAAOF9QGZmZmZmXX9AZmZmZuZsgECamZmZGSuBQM3MzMxM6YFAAAAAAICngkAzMzMzs2WDQGZmZmbmI4RAmpmZmRnihEDNzMzMTKCFQAAAAACAXoZAMzMzM7Mch0BmZmZm5tqHQJqZmZkZmYhAzczMzExXiUAAAAAAgBWKQDMzMzOz04pAZmZmZuaRi0CamZmZGVCMQM3MzMxMDo1AAAAAAIDMjUAzMzMzs4qOQGZmZmbmSI9A\",\"dtype\":\"float64\",\"shape\":[75]}}},\"id\":\"a27fcb52-f5cf-48ef-be09-5e50edaa79c1\",\"type\":\"ColumnDataSource\"},{\"attributes\":{\"overlay\":{\"id\":\"2e30ef85-70e0-4ef3-ba88-7e8d0417b87a\",\"type\":\"BoxAnnotation\"}},\"id\":\"d343328a-ecfa-4afe-b5cd-8fd735a20ea1\",\"type\":\"BoxZoomTool\"},{\"attributes\":{},\"id\":\"780cc962-fa42-40c1-a3b2-158e50dba12e\",\"type\":\"PanTool\"},{\"attributes\":{\"line_alpha\":0.1,\"line_color\":\"#1f77b4\",\"line_dash\":[6],\"line_width\":5,\"x\":{\"field\":\"x\"},\"y\":{\"field\":\"y\"}},\"id\":\"707cfce2-9464-4cdf-b972-f0919e0cb3e6\",\"type\":\"Line\"},{\"attributes\":{},\"id\":\"a778963b-45d6-48d6-af74-879aa93fcb58\",\"type\":\"WheelZoomTool\"},{\"attributes\":{},\"id\":\"283a5eab-b4a2-403f-971a-c287badf742f\",\"type\":\"BasicTickFormatter\"},{\"attributes\":{\"below\":[{\"id\":\"11a3662e-ec28-4566-b66a-6fb8b689db5a\",\"type\":\"LinearAxis\"}],\"left\":[{\"id\":\"38c4f6e2-0052-4684-8b91-57a1eb798946\",\"type\":\"LinearAxis\"}],\"plot_height\":500,\"plot_width\":400,\"renderers\":[{\"id\":\"11a3662e-ec28-4566-b66a-6fb8b689db5a\",\"type\":\"LinearAxis\"},{\"id\":\"f29eaf4a-ef9d-4044-9452-885c94dc0b33\",\"type\":\"Grid\"},{\"id\":\"38c4f6e2-0052-4684-8b91-57a1eb798946\",\"type\":\"LinearAxis\"},{\"id\":\"08b92f15-2b54-40cc-b1c5-e9543531b9cc\",\"type\":\"Grid\"},{\"id\":\"c10721f6-f577-4383-945c-5615dd3e2513\",\"type\":\"BoxAnnotation\"},{\"id\":\"dc960d44-0665-4f78-9fd0-5cd1b05606c5\",\"type\":\"GlyphRenderer\"},{\"id\":\"67b5c85b-486d-4518-96e3-b37ecaa1aa3b\",\"type\":\"GlyphRenderer\"},{\"id\":\"9384b146-3a27-460c-ba21-0bc4ea73aab9\",\"type\":\"GlyphRenderer\"},{\"id\":\"3964cc26-1230-411e-920f-1c4678686ecd\",\"type\":\"GlyphRenderer\"},{\"id\":\"5bf0d4af-8c8a-4345-ab28-34982d0cd7aa\",\"type\":\"GlyphRenderer\"}],\"title\":{\"id\":\"371b626f-3d9d-4841-afb3-5fd83dcfc49d\",\"type\":\"Title\"},\"toolbar\":{\"id\":\"79e6d1fb-4a1b-4689-b025-45c45e4a5519\",\"type\":\"Toolbar\"},\"toolbar_location\":null,\"x_range\":{\"id\":\"299472ac-85ba-46c2-8ca1-5fad709779e0\",\"type\":\"Range1d\"},\"x_scale\":{\"id\":\"23898854-fb07-4977-bdfb-974081ce9ac1\",\"type\":\"LinearScale\"},\"y_range\":{\"id\":\"73227f41-1801-464d-92cd-06a66a3d8336\",\"type\":\"Range1d\"},\"y_scale\":{\"id\":\"44024088-2138-4137-bea6-eb4fbfc5ffc3\",\"type\":\"LinearScale\"}},\"id\":\"bee501a0-71ef-4502-a15c-edd86a38688c\",\"subtype\":\"Figure\",\"type\":\"Plot\"},{\"attributes\":{\"callback\":null,\"end\":0.01,\"start\":1020},\"id\":\"73227f41-1801-464d-92cd-06a66a3d8336\",\"type\":\"Range1d\"},{\"attributes\":{\"label\":{\"value\":\"CLIRAD `coolr_bands`\"},\"renderers\":[{\"id\":\"133141bf-e8f7-401b-b14d-13dfed24d5e3\",\"type\":\"GlyphRenderer\"}]},\"id\":\"397a3e55-0b0a-4613-8023-7a4dded68db7\",\"type\":\"LegendItem\"},{\"attributes\":{\"dimension\":1,\"plot\":{\"id\":\"bee501a0-71ef-4502-a15c-edd86a38688c\",\"subtype\":\"Figure\",\"type\":\"Plot\"},\"ticker\":{\"id\":\"23648507-d6fd-4f96-84e6-6687e7033d09\",\"type\":\"BasicTicker\"}},\"id\":\"08b92f15-2b54-40cc-b1c5-e9543531b9cc\",\"type\":\"Grid\"},{\"attributes\":{\"active_drag\":\"auto\",\"active_inspect\":\"auto\",\"active_scroll\":\"auto\",\"active_tap\":\"auto\",\"tools\":[{\"id\":\"780cc962-fa42-40c1-a3b2-158e50dba12e\",\"type\":\"PanTool\"},{\"id\":\"a778963b-45d6-48d6-af74-879aa93fcb58\",\"type\":\"WheelZoomTool\"},{\"id\":\"86577fcb-31f9-4eeb-bb01-b0dacfb44671\",\"type\":\"BoxZoomTool\"},{\"id\":\"dc0ab45b-2f8f-429b-b48d-ab056beaa2b3\",\"type\":\"SaveTool\"},{\"id\":\"b767f40b-5a5f-4983-8ec7-6e9beb8ee833\",\"type\":\"ResetTool\"},{\"id\":\"e6ad4c09-b933-4e66-9f3d-169408453248\",\"type\":\"HelpTool\"}]},\"id\":\"79e6d1fb-4a1b-4689-b025-45c45e4a5519\",\"type\":\"Toolbar\"},{\"attributes\":{},\"id\":\"b1804d5b-6f03-4429-8127-4c6d15f6ced3\",\"type\":\"LogScale\"},{\"attributes\":{},\"id\":\"e5561bfc-f6d5-4f4e-b3dd-7113bfba01c3\",\"type\":\"HelpTool\"},{\"attributes\":{\"axis_label\":\"cooling rate [K/day]\",\"formatter\":{\"id\":\"6fc15f20-849a-414d-9836-74aec0d40a0c\",\"type\":\"BasicTickFormatter\"},\"plot\":{\"id\":\"bee501a0-71ef-4502-a15c-edd86a38688c\",\"subtype\":\"Figure\",\"type\":\"Plot\"},\"ticker\":{\"id\":\"b8da266f-9d8e-4646-ac13-6060f07f1ac3\",\"type\":\"BasicTicker\"}},\"id\":\"11a3662e-ec28-4566-b66a-6fb8b689db5a\",\"type\":\"LinearAxis\"},{\"attributes\":{\"line_alpha\":0.1,\"line_color\":\"#1f77b4\",\"line_width\":3,\"x\":{\"field\":\"x\"},\"y\":{\"field\":\"y\"}},\"id\":\"4490f0e9-551a-4223-b048-86aadfb956ab\",\"type\":\"Line\"},{\"attributes\":{\"callback\":null,\"column_names\":[\"x\",\"y\"],\"data\":{\"x\":{\"__ndarray__\":\"+V4q07s6zj/poGTVlKLOP1y/y9Jv288/+UqDTzGW0D+Hgdf8MjfRP4VKVFZwy9E/sHMVg25M0j8hteRMbq/SP3t6Uy7g59I/5YP5hh3h0j8Y4RbBOYLSP5KAqGacp9E/C0NHH7El0D/RIEdr85zLPxwU5qD478c/85ftdRg0yj/X6ItzigTQP4zoSy1jnNE/THsYlEgm0j+1gBoIE5DTP5x6MGtaUNg/l2rqZalP4T9rinT9im7nP+ZKkFNs8+c/vHv8tSeO4z9uMzbwepvePzK1AMhkTNg/ITHNtstl0z8CJz7r2BDPPy3UN7xiPsg/Ta2MgOk4wj8Z+xEN8n25Pw5DBEx7q7E/eJ25+dnXqz+kUuxoHOqnP9Br5KGMRKM/uhryMjednj+LBUmV5F2YP5w89eCfZok/woPwYnrjJT9y8KjYaJ5LPzGwmw2Kyow/HvfbDnVumj/0DpntaO6hP6m/PVPY2qU/6He924w4qT9SzJqIGUKsP3RsFMQGLK8/4dkCaLIEsT+MyAPTYWyyPyAhlSXkyrM/jVMrTuAWtT8MTAnpcki2Pw2VFJKrXLc/PKrZhC1WuD+wZt5W7EK5P6bFrieZILo/7KnN5g7uuj+kJUUay6q7PyWYxR+gVrw//RHIHR30vD+I7wbJ6Yi9PxM6XGkhGr4/7fgnn7uwvj9SbLu/ME+/P8AkdBv9/b8/km++KnpUwD98MKUFmpXAPx904AetqMA/JyJw4rOOwD/jxgzY/mPAP3IR5/qhRsA/DAP5hoBLwD8m5rQCno/AP97Qax5NlsE/\",\"dtype\":\"float64\",\"shape\":[75]},\"y\":{\"__ndarray__\":\"S/O/Q+51ND/Sv8nbtpRIP2vylNV0PVE/aTum7souWD/At0SJ8fVgPw3Iuahxymc/MSNhhJWvcD/bTfBN02d3P2zb5nxnaoA/CD5h5MAGhz8NmeH1TyaQP+zrCsc9p5Y/LbKd76fGnz/bLW5ISEmmPww9YvTcQq8/JV2OstnstT8Er5Y7M8G+P0c+r3jqkcU/5h99k6ZBzj88bCIzFzjVP4enV8oyxN0//yH99nXg5D8qOpLLf0jtP5kqGJXUifQ/c9cS8kHP/D+/DpwzojQEQIEmwoanVwxA4lgXt9HgE0BSSZ2AJuIbQAMJih9jjiNA5q4l5INuK0AwTKYKRj0zQNv5fmq8/DpAaCJseHrtQkB/+zpwzoxKQM3MzMzMeFJAZmZmZmZqWEAAAAAAAFxeQM3MzMzMJmJAmpmZmZkfZUBmZmZmZhhoQDMzMzMzEWtAAAAAAAAKbkBmZmZmZoFwQM3MzMzM/XFAMzMzMzN6c0CamZmZmfZ0QAAAAAAAc3ZAZmZmZmbvd0DNzMzMzGt5QDMzMzMz6HpAmpmZmZlkfEAAAAAAAOF9QGZmZmZmXX9AZmZmZuZsgECamZmZGSuBQM3MzMxM6YFAAAAAAICngkAzMzMzs2WDQGZmZmbmI4RAmpmZmRnihEDNzMzMTKCFQAAAAACAXoZAMzMzM7Mch0BmZmZm5tqHQJqZmZkZmYhAzczMzExXiUAAAAAAgBWKQDMzMzOz04pAZmZmZuaRi0CamZmZGVCMQM3MzMxMDo1AAAAAAIDMjUAzMzMzs4qOQGZmZmbmSI9A\",\"dtype\":\"float64\",\"shape\":[75]}}},\"id\":\"d47dd36e-bc58-4f82-a8ed-c8de6ea35d87\",\"type\":\"ColumnDataSource\"},{\"attributes\":{},\"id\":\"f9efe865-4b3a-4702-b31c-a85f8d1f2a68\",\"type\":\"SaveTool\"},{\"attributes\":{\"source\":{\"id\":\"dbbc3efe-baf2-4779-bdfe-e94009bc996d\",\"type\":\"ColumnDataSource\"}},\"id\":\"c4605dd9-8a9c-4fd1-ae36-0392ec5e2300\",\"type\":\"CDSView\"},{\"attributes\":{\"fill_alpha\":{\"value\":0.7},\"fill_color\":{\"value\":\"#984ea3\"},\"line_alpha\":{\"value\":0.7},\"line_color\":{\"value\":\"#984ea3\"},\"x\":{\"field\":\"x\"},\"y\":{\"field\":\"y\"}},\"id\":\"33d0d424-9a77-4d3e-b936-153acca8a950\",\"type\":\"Square\"},{\"attributes\":{\"plot\":{\"id\":\"bee501a0-71ef-4502-a15c-edd86a38688c\",\"subtype\":\"Figure\",\"type\":\"Plot\"},\"ticker\":{\"id\":\"b8da266f-9d8e-4646-ac13-6060f07f1ac3\",\"type\":\"BasicTicker\"}},\"id\":\"f29eaf4a-ef9d-4044-9452-885c94dc0b33\",\"type\":\"Grid\"},{\"attributes\":{\"line_alpha\":0.6,\"line_color\":\"#984ea3\",\"line_width\":3,\"x\":{\"field\":\"x\"},\"y\":{\"field\":\"y\"}},\"id\":\"7df1c0a3-1b90-4a0d-89ee-3dc1f688a78d\",\"type\":\"Line\"},{\"attributes\":{\"fill_alpha\":{\"value\":0.1},\"fill_color\":{\"value\":\"#1f77b4\"},\"line_alpha\":{\"value\":0.1},\"line_color\":{\"value\":\"#1f77b4\"},\"x\":{\"field\":\"x\"},\"y\":{\"field\":\"y\"}},\"id\":\"e4dd66b7-4aaa-4130-8c1d-a2977753d327\",\"type\":\"Square\"}],\"root_ids\":[\"34e80293-64c7-426c-87cd-0d72c35dc8de\"]},\"title\":\"Bokeh Application\",\"version\":\"0.12.14\"}};\n",
       "  var render_items = [{\"docid\":\"805f33c7-eba6-40d3-84d8-7b8c0250bf2c\",\"elementid\":\"52fc619e-c0ed-4e82-b867-27535df7419c\",\"modelid\":\"34e80293-64c7-426c-87cd-0d72c35dc8de\"}];\n",
       "  root.Bokeh.embed.embed_items_notebook(docs_json, render_items);\n",
       "\n",
       "  }\n",
       "  if (root.Bokeh !== undefined) {\n",
       "    embed_document(root);\n",
       "  } else {\n",
       "    var attempts = 0;\n",
       "    var timer = setInterval(function(root) {\n",
       "      if (root.Bokeh !== undefined) {\n",
       "        embed_document(root);\n",
       "        clearInterval(timer);\n",
       "      }\n",
       "      attempts++;\n",
       "      if (attempts > 100) {\n",
       "        console.log(\"Bokeh: ERROR: Unable to run BokehJS code because BokehJS library is missing\")\n",
       "        clearInterval(timer);\n",
       "      }\n",
       "    }, 10, root)\n",
       "  }\n",
       "})(window);"
      ],
      "application/vnd.bokehjs_exec.v0+json": ""
     },
     "metadata": {
      "application/vnd.bokehjs_exec.v0+json": {
       "id": "34e80293-64c7-426c-87cd-0d72c35dc8de"
      }
     },
     "output_type": "display_data"
    },
    {
     "name": "stdout",
     "output_type": "stream",
     "text": [
      "FIGURE. Cooling rate profiles.\n"
     ]
    },
    {
     "data": {
      "text/html": [
       "<a id=\"Flux_Comparison\"></a>"
      ],
      "text/plain": [
       "<IPython.core.display.HTML object>"
      ]
     },
     "metadata": {},
     "output_type": "display_data"
    },
    {
     "data": {
      "text/markdown": [
       "# Flux Comparison"
      ],
      "text/plain": [
       "<IPython.core.display.Markdown object>"
      ]
     },
     "metadata": {},
     "output_type": "display_data"
    },
    {
     "data": {
      "text/html": [
       "<div>\n",
       "<style>\n",
       "    .dataframe thead tr:only-child th {\n",
       "        text-align: right;\n",
       "    }\n",
       "\n",
       "    .dataframe thead th {\n",
       "        text-align: left;\n",
       "    }\n",
       "\n",
       "    .dataframe tbody tr th {\n",
       "        vertical-align: top;\n",
       "    }\n",
       "</style>\n",
       "<table border=\"1\" class=\"dataframe\">\n",
       "  <thead>\n",
       "    <tr style=\"text-align: right;\">\n",
       "      <th></th>\n",
       "      <th></th>\n",
       "      <th>flug</th>\n",
       "      <th>fldg</th>\n",
       "      <th>fnetg</th>\n",
       "    </tr>\n",
       "    <tr>\n",
       "      <th>pressure</th>\n",
       "      <th>level</th>\n",
       "      <th></th>\n",
       "      <th></th>\n",
       "      <th></th>\n",
       "    </tr>\n",
       "  </thead>\n",
       "  <tbody>\n",
       "    <tr>\n",
       "      <th>0.0000</th>\n",
       "      <th>1</th>\n",
       "      <td>-29.605354</td>\n",
       "      <td>0.000000</td>\n",
       "      <td>-29.605354</td>\n",
       "    </tr>\n",
       "    <tr>\n",
       "      <th>1.0685</th>\n",
       "      <th>24</th>\n",
       "      <td>-29.609930</td>\n",
       "      <td>0.067093</td>\n",
       "      <td>-29.542837</td>\n",
       "    </tr>\n",
       "    <tr>\n",
       "      <th>1013.0000</th>\n",
       "      <th>76</th>\n",
       "      <td>-36.235409</td>\n",
       "      <td>16.836775</td>\n",
       "      <td>-19.398633</td>\n",
       "    </tr>\n",
       "  </tbody>\n",
       "</table>\n",
       "</div>"
      ],
      "text/plain": [
       "                      flug       fldg      fnetg\n",
       "pressure  level                                 \n",
       "0.0000    1     -29.605354   0.000000 -29.605354\n",
       "1.0685    24    -29.609930   0.067093 -29.542837\n",
       "1013.0000 76    -36.235409  16.836775 -19.398633"
      ]
     },
     "metadata": {},
     "output_type": "display_data"
    },
    {
     "name": "stdout",
     "output_type": "stream",
     "text": [
      "Table. Fluxes. WGT igg=10 wgt_flux=1\n"
     ]
    },
    {
     "data": {
      "text/html": [
       "<div>\n",
       "<style>\n",
       "    .dataframe thead tr:only-child th {\n",
       "        text-align: right;\n",
       "    }\n",
       "\n",
       "    .dataframe thead th {\n",
       "        text-align: left;\n",
       "    }\n",
       "\n",
       "    .dataframe tbody tr th {\n",
       "        vertical-align: top;\n",
       "    }\n",
       "</style>\n",
       "<table border=\"1\" class=\"dataframe\">\n",
       "  <thead>\n",
       "    <tr style=\"text-align: right;\">\n",
       "      <th></th>\n",
       "      <th></th>\n",
       "      <th>flug</th>\n",
       "      <th>fldg</th>\n",
       "      <th>fnetg</th>\n",
       "    </tr>\n",
       "    <tr>\n",
       "      <th>pressure</th>\n",
       "      <th>level</th>\n",
       "      <th></th>\n",
       "      <th></th>\n",
       "      <th></th>\n",
       "    </tr>\n",
       "  </thead>\n",
       "  <tbody>\n",
       "    <tr>\n",
       "      <th>0.0000</th>\n",
       "      <th>1</th>\n",
       "      <td>-29.591178</td>\n",
       "      <td>0.000000</td>\n",
       "      <td>-29.591178</td>\n",
       "    </tr>\n",
       "    <tr>\n",
       "      <th>1.0685</th>\n",
       "      <th>24</th>\n",
       "      <td>-29.596461</td>\n",
       "      <td>0.072693</td>\n",
       "      <td>-29.523768</td>\n",
       "    </tr>\n",
       "    <tr>\n",
       "      <th>1013.0000</th>\n",
       "      <th>76</th>\n",
       "      <td>-36.235408</td>\n",
       "      <td>16.758790</td>\n",
       "      <td>-19.476618</td>\n",
       "    </tr>\n",
       "  </tbody>\n",
       "</table>\n",
       "</div>"
      ],
      "text/plain": [
       "                      flug       fldg      fnetg\n",
       "pressure  level                                 \n",
       "0.0000    1     -29.591178   0.000000 -29.591178\n",
       "1.0685    24    -29.596461   0.072693 -29.523768\n",
       "1013.0000 76    -36.235408  16.758790 -19.476618"
      ]
     },
     "metadata": {},
     "output_type": "display_data"
    },
    {
     "name": "stdout",
     "output_type": "stream",
     "text": [
      "Table. Fluxes. CRD\n"
     ]
    },
    {
     "data": {
      "text/html": [
       "<div>\n",
       "<style>\n",
       "    .dataframe thead tr:only-child th {\n",
       "        text-align: right;\n",
       "    }\n",
       "\n",
       "    .dataframe thead th {\n",
       "        text-align: left;\n",
       "    }\n",
       "\n",
       "    .dataframe tbody tr th {\n",
       "        vertical-align: top;\n",
       "    }\n",
       "</style>\n",
       "<table border=\"1\" class=\"dataframe\">\n",
       "  <thead>\n",
       "    <tr style=\"text-align: right;\">\n",
       "      <th></th>\n",
       "      <th></th>\n",
       "      <th>flug</th>\n",
       "      <th>fldg</th>\n",
       "      <th>fnetg</th>\n",
       "    </tr>\n",
       "    <tr>\n",
       "      <th>pressure</th>\n",
       "      <th>level</th>\n",
       "      <th></th>\n",
       "      <th></th>\n",
       "      <th></th>\n",
       "    </tr>\n",
       "  </thead>\n",
       "  <tbody>\n",
       "    <tr>\n",
       "      <th>1.000000e-08</th>\n",
       "      <th>1</th>\n",
       "      <td>-29.698005</td>\n",
       "      <td>0.000002</td>\n",
       "      <td>-29.698003</td>\n",
       "    </tr>\n",
       "    <tr>\n",
       "      <th>1.068500e+00</th>\n",
       "      <th>24</th>\n",
       "      <td>-29.701853</td>\n",
       "      <td>0.063916</td>\n",
       "      <td>-29.637937</td>\n",
       "    </tr>\n",
       "    <tr>\n",
       "      <th>1.013000e+03</th>\n",
       "      <th>76</th>\n",
       "      <td>-36.235410</td>\n",
       "      <td>16.861391</td>\n",
       "      <td>-19.374019</td>\n",
       "    </tr>\n",
       "  </tbody>\n",
       "</table>\n",
       "</div>"
      ],
      "text/plain": [
       "                         flug       fldg      fnetg\n",
       "pressure     level                                 \n",
       "1.000000e-08 1     -29.698005   0.000002 -29.698003\n",
       "1.068500e+00 24    -29.701853   0.063916 -29.637937\n",
       "1.013000e+03 76    -36.235410  16.861391 -19.374019"
      ]
     },
     "metadata": {},
     "output_type": "display_data"
    },
    {
     "name": "stdout",
     "output_type": "stream",
     "text": [
      "Table. Fluxes. CLIRAD\n"
     ]
    },
    {
     "data": {
      "text/html": [
       "<div>\n",
       "<style>\n",
       "    .dataframe thead tr:only-child th {\n",
       "        text-align: right;\n",
       "    }\n",
       "\n",
       "    .dataframe thead th {\n",
       "        text-align: left;\n",
       "    }\n",
       "\n",
       "    .dataframe tbody tr th {\n",
       "        vertical-align: top;\n",
       "    }\n",
       "</style>\n",
       "<table border=\"1\" class=\"dataframe\">\n",
       "  <thead>\n",
       "    <tr style=\"text-align: right;\">\n",
       "      <th></th>\n",
       "      <th></th>\n",
       "      <th>flug</th>\n",
       "      <th>fldg</th>\n",
       "      <th>fnetg</th>\n",
       "    </tr>\n",
       "    <tr>\n",
       "      <th>pressure</th>\n",
       "      <th>level</th>\n",
       "      <th></th>\n",
       "      <th></th>\n",
       "      <th></th>\n",
       "    </tr>\n",
       "  </thead>\n",
       "  <tbody>\n",
       "    <tr>\n",
       "      <th>0.0000</th>\n",
       "      <th>1</th>\n",
       "      <td>1.417613e-02</td>\n",
       "      <td>0.000000</td>\n",
       "      <td>0.014176</td>\n",
       "    </tr>\n",
       "    <tr>\n",
       "      <th>1.0685</th>\n",
       "      <th>24</th>\n",
       "      <td>1.346853e-02</td>\n",
       "      <td>0.005601</td>\n",
       "      <td>0.019069</td>\n",
       "    </tr>\n",
       "    <tr>\n",
       "      <th>1013.0000</th>\n",
       "      <th>76</th>\n",
       "      <td>5.330000e-07</td>\n",
       "      <td>-0.077985</td>\n",
       "      <td>-0.077985</td>\n",
       "    </tr>\n",
       "  </tbody>\n",
       "</table>\n",
       "</div>"
      ],
      "text/plain": [
       "                         flug      fldg     fnetg\n",
       "pressure  level                                  \n",
       "0.0000    1      1.417613e-02  0.000000  0.014176\n",
       "1.0685    24     1.346853e-02  0.005601  0.019069\n",
       "1013.0000 76     5.330000e-07 -0.077985 -0.077985"
      ]
     },
     "metadata": {},
     "output_type": "display_data"
    },
    {
     "name": "stdout",
     "output_type": "stream",
     "text": [
      "Table. Fluxes. (CRD) - (WGT igg=10 wgt_flux=1)\n"
     ]
    },
    {
     "data": {
      "text/html": [
       "<div>\n",
       "<style>\n",
       "    .dataframe thead tr:only-child th {\n",
       "        text-align: right;\n",
       "    }\n",
       "\n",
       "    .dataframe thead th {\n",
       "        text-align: left;\n",
       "    }\n",
       "\n",
       "    .dataframe tbody tr th {\n",
       "        vertical-align: top;\n",
       "    }\n",
       "</style>\n",
       "<table border=\"1\" class=\"dataframe\">\n",
       "  <thead>\n",
       "    <tr style=\"text-align: right;\">\n",
       "      <th></th>\n",
       "      <th></th>\n",
       "      <th>flug</th>\n",
       "      <th>fldg</th>\n",
       "      <th>fnetg</th>\n",
       "    </tr>\n",
       "    <tr>\n",
       "      <th>pressure</th>\n",
       "      <th>level</th>\n",
       "      <th></th>\n",
       "      <th></th>\n",
       "      <th></th>\n",
       "    </tr>\n",
       "  </thead>\n",
       "  <tbody>\n",
       "    <tr>\n",
       "      <th>0.0000</th>\n",
       "      <th>1</th>\n",
       "      <td>-0.092651</td>\n",
       "      <td>0.000002</td>\n",
       "      <td>-0.092649</td>\n",
       "    </tr>\n",
       "    <tr>\n",
       "      <th>1.0685</th>\n",
       "      <th>24</th>\n",
       "      <td>-0.091923</td>\n",
       "      <td>-0.003176</td>\n",
       "      <td>-0.095100</td>\n",
       "    </tr>\n",
       "    <tr>\n",
       "      <th>1013.0000</th>\n",
       "      <th>76</th>\n",
       "      <td>-0.000001</td>\n",
       "      <td>0.024616</td>\n",
       "      <td>0.024614</td>\n",
       "    </tr>\n",
       "  </tbody>\n",
       "</table>\n",
       "</div>"
      ],
      "text/plain": [
       "                     flug      fldg     fnetg\n",
       "pressure  level                              \n",
       "0.0000    1     -0.092651  0.000002 -0.092649\n",
       "1.0685    24    -0.091923 -0.003176 -0.095100\n",
       "1013.0000 76    -0.000001  0.024616  0.024614"
      ]
     },
     "metadata": {},
     "output_type": "display_data"
    },
    {
     "name": "stdout",
     "output_type": "stream",
     "text": [
      "Table. Fluxes. (CLIRAD) - (WGT igg=10 wgt_flux=1)\n"
     ]
    },
    {
     "data": {
      "text/html": [
       "<a id=\"Best-fit_Parameters\"></a>"
      ],
      "text/plain": [
       "<IPython.core.display.HTML object>"
      ]
     },
     "metadata": {},
     "output_type": "display_data"
    },
    {
     "data": {
      "text/markdown": [
       "# Best-fit Parameters"
      ],
      "text/plain": [
       "<IPython.core.display.Markdown object>"
      ]
     },
     "metadata": {},
     "output_type": "display_data"
    },
    {
     "name": "stdout",
     "output_type": "stream",
     "text": [
      "Best-fit values for each (gas, band)\n",
      "------------------------------------\n",
      "o co2 band3a\n",
      "  atmpro = mls\n",
      "  band = 3a\n",
      "  commitnumber = 2bd1f75\n",
      "  conc = 0.0004\n",
      "  dv = 0.01\n",
      "  klin = 6.375563e-24\n",
      "  molecule = co2\n",
      "  ng_adju = [0, 0, 0]\n",
      "  ng_refs = [3, 2, 4]\n",
      "  nv = 100\n",
      "  option_compute_btable = 0\n",
      "  option_compute_ktable = 1\n",
      "  option_wgt_flux = 1\n",
      "  option_wgt_k = 1\n",
      "  ref_pts = [(1, 250), (10, 250), (500, 250)]\n",
      "  tsfc = 294\n",
      "  vmax = 620\n",
      "  vmin = 540\n",
      "  w_diffuse = [(1.6, 1.6, 1.7), (1.75, 1.75), (1.55, 1.55, 1.6, 1.85)]\n",
      "  wgt = [(0.7, 0.3, 0.7), (0.7, 0.6), (0.4, 0.5, 0.8, 0.95)]\n"
     ]
    }
   ],
   "source": [
    "script()"
   ]
  },
  {
   "cell_type": "code",
   "execution_count": 13,
   "metadata": {
    "collapsed": true
   },
   "outputs": [
    {
     "data": {
      "text/html": [
       "<script>\n",
       "code_show=true; \n",
       "function code_toggle() {\n",
       " if (code_show){\n",
       " $('div.input').hide();\n",
       " } else {\n",
       " $('div.input').show();\n",
       " }\n",
       " code_show = !code_show\n",
       "} \n",
       "$( document ).ready(code_toggle);\n",
       "</script>\n",
       "<form action=\"javascript:code_toggle()\"><input type=\"submit\" value=\"Click here to toggle on/off the raw code.\"></form>"
      ],
      "text/plain": [
       "<IPython.core.display.HTML object>"
      ]
     },
     "execution_count": 13,
     "metadata": {},
     "output_type": "execute_result"
    }
   ],
   "source": [
    "display.HTML('''<script>\n",
    "code_show=true; \n",
    "function code_toggle() {\n",
    " if (code_show){\n",
    " $('div.input').hide();\n",
    " } else {\n",
    " $('div.input').show();\n",
    " }\n",
    " code_show = !code_show\n",
    "} \n",
    "$( document ).ready(code_toggle);\n",
    "</script>\n",
    "<form action=\"javascript:code_toggle()\"><input type=\"submit\" value=\"Click here to toggle on/off the raw code.\"></form>''')"
   ]
  }
 ],
 "metadata": {
  "kernelspec": {
   "display_name": "Python 3",
   "language": "python",
   "name": "python3"
  },
  "language_info": {
   "codemirror_mode": {
    "name": "ipython",
    "version": 3
   },
   "file_extension": ".py",
   "mimetype": "text/x-python",
   "name": "python",
   "nbconvert_exporter": "python",
   "pygments_lexer": "ipython3",
   "version": "3.6.1"
  }
 },
 "nbformat": 4,
 "nbformat_minor": 2
}
