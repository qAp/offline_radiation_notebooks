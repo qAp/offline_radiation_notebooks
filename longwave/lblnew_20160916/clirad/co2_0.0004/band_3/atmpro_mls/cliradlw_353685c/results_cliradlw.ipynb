{
 "cells": [
  {
   "cell_type": "code",
   "execution_count": 1,
   "metadata": {
    "collapsed": true
   },
   "outputs": [],
   "source": [
    "%matplotlib inline\n",
    "import os\n",
    "import re\n",
    "import io\n",
    "import itertools\n",
    "import pprint\n",
    "\n",
    "from bokeh.io import output_notebook, show\n",
    "from bokeh.layouts import gridplot\n",
    "from bokeh.plotting import figure\n",
    "from bokeh.models import Range1d, Legend\n",
    "from bokeh.palettes import all_palettes\n",
    "\n",
    "import matplotlib\n",
    "import matplotlib.pyplot as plt\n",
    "import numpy as np\n",
    "import pandas as pd\n",
    "import xarray as xr\n",
    "\n",
    "import climatools.lblnew.bestfit_params as bestfits\n",
    "from climatools.lblnew import setup_bestfit, setup_overlap\n",
    "import climatools.lblnew.pipeline as pipe_lblnew\n",
    "import climatools.cliradlw.setup as setup_cliradlw\n",
    "import climatools.cliradlw.pipeline as pipe_cliradlw\n",
    "\n",
    "import climatools.html.html as climahtml\n",
    "from climatools.lblnew.dataio import *\n",
    "from climatools.plot.plot import *\n",
    "\n",
    "\n",
    "import IPython.display as display"
   ]
  },
  {
   "cell_type": "code",
   "execution_count": 2,
   "metadata": {
    "collapsed": true
   },
   "outputs": [],
   "source": [
    "%run param.py"
   ]
  },
  {
   "cell_type": "code",
   "execution_count": 3,
   "metadata": {
    "collapsed": true
   },
   "outputs": [
    {
     "name": "stdout",
     "output_type": "stream",
     "text": [
      "The history saving thread hit an unexpected error (OperationalError('database is locked',)).History will not be written to the database.\n"
     ]
    }
   ],
   "source": [
    "def load_output_file(path_csv):\n",
    "    '''\n",
    "    Load lblnew output .csv file to xarray.Dataset\n",
    "    \n",
    "    Parameters\n",
    "    ----------\n",
    "    path_csv: str\n",
    "              Path to the .csv file to be loaded.\n",
    "    ds: xarray.Dataset\n",
    "        Data in the input file in the form of an xarray.Dataset.\n",
    "    '''\n",
    "    toindex = ['band', 'pressure', 'igg', 'g']    \n",
    "    df = pd.read_csv(path_csv, sep=r'\\s+')\n",
    "    df = df.set_index([i for i in toindex if i in df.columns])\n",
    "    df = df.rename(columns={'sfu': 'flug',\n",
    "                            'sfd': 'fldg',\n",
    "                            'fnet': 'fnetg',\n",
    "                            'coolr': 'coolrg'})\n",
    "    ds = xr.Dataset.from_dataframe(df)\n",
    "\n",
    "    for l in ('level', 'layer'):\n",
    "        if l in ds.data_vars:\n",
    "            if len(ds[l].dims) > 1:\n",
    "                surface = {d: 0 for d in ds.dims if d != 'pressure'}\n",
    "                coord_level = ds[l][surface]\n",
    "                ds.coords[l] = ('pressure', coord_level)\n",
    "            else:\n",
    "                ds.coords[l] = ('pressure', ds[l])\n",
    "    \n",
    "    return ds"
   ]
  },
  {
   "cell_type": "code",
   "execution_count": 4,
   "metadata": {
    "collapsed": true
   },
   "outputs": [],
   "source": [
    "def lblnew_setup(param=None):\n",
    "    if 'ng_refs' in param:\n",
    "        return {'setup': setup_bestfit,\n",
    "                'fname_flux_crd': 'output_flux.dat',\n",
    "                'fname_cool_crd': 'output_coolr.dat',\n",
    "                'fname_flux_wgt': 'output_wfluxg.dat',\n",
    "                'fname_cool_wgt': 'output_wcoolrg.dat'}\n",
    "    else:\n",
    "        return {'setup': setup_overlap,\n",
    "                'fname_flux_crd': 'output_flux.dat',\n",
    "                'fname_cool_crd': 'output_coolr.dat',\n",
    "                'fname_flux_wgt': 'output_wflux.dat',\n",
    "                'fname_cool_wgt': 'output_wcoolr.dat'}\n",
    "\n",
    "    \n",
    "def load_lblnew_data(param):\n",
    "    \n",
    "    fname_dsname = [('fname_flux_crd', 'ds_flux_crd'),\n",
    "                    ('fname_cool_crd', 'ds_cool_crd'),\n",
    "                    ('fname_flux_wgt', 'ds_flux_wgt'),\n",
    "                    ('fname_cool_wgt', 'ds_cool_wgt')]\n",
    "    \n",
    "    d = lblnew_setup(param)\n",
    "    dir_fortran = pipe_lblnew.get_dir_case(param, setup=d['setup'])\n",
    "    \n",
    "    data_dict = {}\n",
    "    for fname, dsname in fname_dsname:\n",
    "        fpath = os.path.join(dir_fortran, d[fname])\n",
    "        data_dict[dsname] = load_output_file(fpath)\n",
    "    return data_dict\n",
    "    \n",
    "\n",
    "    \n",
    "    "
   ]
  },
  {
   "cell_type": "code",
   "execution_count": 5,
   "metadata": {
    "collapsed": true
   },
   "outputs": [],
   "source": [
    "d = load_lblnew_data(PARAM_LBLNEW)\n",
    "\n",
    "DS_FLUX_CRD = d['ds_flux_crd']\n",
    "DS_COOL_CRD = d['ds_cool_crd']\n",
    "DS_FLUX_WGT = d['ds_flux_wgt']\n",
    "DS_COOL_WGT = d['ds_cool_wgt']"
   ]
  },
  {
   "cell_type": "code",
   "execution_count": 6,
   "metadata": {
    "collapsed": true
   },
   "outputs": [],
   "source": [
    "DIR_FORTRAN = pipe_cliradlw.get_fortran_dir(PARAM, \n",
    "                                            setup=setup_cliradlw)\n",
    "\n",
    "PATH_FLUX = os.path.join(DIR_FORTRAN, 'output_flux.dat')\n",
    "PATH_COOL = os.path.join(DIR_FORTRAN, 'output_coolr.dat')\n",
    "\n",
    "DS_FLUX = load_output_file(PATH_FLUX)\n",
    "DS_COOL = load_output_file(PATH_COOL)"
   ]
  },
  {
   "cell_type": "code",
   "execution_count": 7,
   "metadata": {
    "collapsed": true
   },
   "outputs": [
    {
     "data": {
      "text/html": [
       "\n",
       "    <div class=\"bk-root\">\n",
       "        <a href=\"https://bokeh.pydata.org\" target=\"_blank\" class=\"bk-logo bk-logo-small bk-logo-notebook\"></a>\n",
       "        <span id=\"ac8901a1-16c4-4fb9-9ce2-070d7d044f79\">Loading BokehJS ...</span>\n",
       "    </div>"
      ]
     },
     "metadata": {},
     "output_type": "display_data"
    },
    {
     "data": {
      "application/javascript": [
       "\n",
       "(function(root) {\n",
       "  function now() {\n",
       "    return new Date();\n",
       "  }\n",
       "\n",
       "  var force = true;\n",
       "\n",
       "  if (typeof (root._bokeh_onload_callbacks) === \"undefined\" || force === true) {\n",
       "    root._bokeh_onload_callbacks = [];\n",
       "    root._bokeh_is_loading = undefined;\n",
       "  }\n",
       "\n",
       "  var JS_MIME_TYPE = 'application/javascript';\n",
       "  var HTML_MIME_TYPE = 'text/html';\n",
       "  var EXEC_MIME_TYPE = 'application/vnd.bokehjs_exec.v0+json';\n",
       "  var CLASS_NAME = 'output_bokeh rendered_html';\n",
       "\n",
       "  /**\n",
       "   * Render data to the DOM node\n",
       "   */\n",
       "  function render(props, node) {\n",
       "    var script = document.createElement(\"script\");\n",
       "    node.appendChild(script);\n",
       "  }\n",
       "\n",
       "  /**\n",
       "   * Handle when an output is cleared or removed\n",
       "   */\n",
       "  function handleClearOutput(event, handle) {\n",
       "    var cell = handle.cell;\n",
       "\n",
       "    var id = cell.output_area._bokeh_element_id;\n",
       "    var server_id = cell.output_area._bokeh_server_id;\n",
       "    // Clean up Bokeh references\n",
       "    if (id !== undefined) {\n",
       "      Bokeh.index[id].model.document.clear();\n",
       "      delete Bokeh.index[id];\n",
       "    }\n",
       "\n",
       "    if (server_id !== undefined) {\n",
       "      // Clean up Bokeh references\n",
       "      var cmd = \"from bokeh.io.state import curstate; print(curstate().uuid_to_server['\" + server_id + \"'].get_sessions()[0].document.roots[0]._id)\";\n",
       "      cell.notebook.kernel.execute(cmd, {\n",
       "        iopub: {\n",
       "          output: function(msg) {\n",
       "            var element_id = msg.content.text.trim();\n",
       "            Bokeh.index[element_id].model.document.clear();\n",
       "            delete Bokeh.index[element_id];\n",
       "          }\n",
       "        }\n",
       "      });\n",
       "      // Destroy server and session\n",
       "      var cmd = \"import bokeh.io.notebook as ion; ion.destroy_server('\" + server_id + \"')\";\n",
       "      cell.notebook.kernel.execute(cmd);\n",
       "    }\n",
       "  }\n",
       "\n",
       "  /**\n",
       "   * Handle when a new output is added\n",
       "   */\n",
       "  function handleAddOutput(event, handle) {\n",
       "    var output_area = handle.output_area;\n",
       "    var output = handle.output;\n",
       "\n",
       "    // limit handleAddOutput to display_data with EXEC_MIME_TYPE content only\n",
       "    if ((output.output_type != \"display_data\") || (!output.data.hasOwnProperty(EXEC_MIME_TYPE))) {\n",
       "      return\n",
       "    }\n",
       "\n",
       "    var toinsert = output_area.element.find(\".\" + CLASS_NAME.split(' ')[0]);\n",
       "\n",
       "    if (output.metadata[EXEC_MIME_TYPE][\"id\"] !== undefined) {\n",
       "      toinsert[0].firstChild.textContent = output.data[JS_MIME_TYPE];\n",
       "      // store reference to embed id on output_area\n",
       "      output_area._bokeh_element_id = output.metadata[EXEC_MIME_TYPE][\"id\"];\n",
       "    }\n",
       "    if (output.metadata[EXEC_MIME_TYPE][\"server_id\"] !== undefined) {\n",
       "      var bk_div = document.createElement(\"div\");\n",
       "      bk_div.innerHTML = output.data[HTML_MIME_TYPE];\n",
       "      var script_attrs = bk_div.children[0].attributes;\n",
       "      for (var i = 0; i < script_attrs.length; i++) {\n",
       "        toinsert[0].firstChild.setAttribute(script_attrs[i].name, script_attrs[i].value);\n",
       "      }\n",
       "      // store reference to server id on output_area\n",
       "      output_area._bokeh_server_id = output.metadata[EXEC_MIME_TYPE][\"server_id\"];\n",
       "    }\n",
       "  }\n",
       "\n",
       "  function register_renderer(events, OutputArea) {\n",
       "\n",
       "    function append_mime(data, metadata, element) {\n",
       "      // create a DOM node to render to\n",
       "      var toinsert = this.create_output_subarea(\n",
       "        metadata,\n",
       "        CLASS_NAME,\n",
       "        EXEC_MIME_TYPE\n",
       "      );\n",
       "      this.keyboard_manager.register_events(toinsert);\n",
       "      // Render to node\n",
       "      var props = {data: data, metadata: metadata[EXEC_MIME_TYPE]};\n",
       "      render(props, toinsert[0]);\n",
       "      element.append(toinsert);\n",
       "      return toinsert\n",
       "    }\n",
       "\n",
       "    /* Handle when an output is cleared or removed */\n",
       "    events.on('clear_output.CodeCell', handleClearOutput);\n",
       "    events.on('delete.Cell', handleClearOutput);\n",
       "\n",
       "    /* Handle when a new output is added */\n",
       "    events.on('output_added.OutputArea', handleAddOutput);\n",
       "\n",
       "    /**\n",
       "     * Register the mime type and append_mime function with output_area\n",
       "     */\n",
       "    OutputArea.prototype.register_mime_type(EXEC_MIME_TYPE, append_mime, {\n",
       "      /* Is output safe? */\n",
       "      safe: true,\n",
       "      /* Index of renderer in `output_area.display_order` */\n",
       "      index: 0\n",
       "    });\n",
       "  }\n",
       "\n",
       "  // register the mime type if in Jupyter Notebook environment and previously unregistered\n",
       "  if (root.Jupyter !== undefined) {\n",
       "    var events = require('base/js/events');\n",
       "    var OutputArea = require('notebook/js/outputarea').OutputArea;\n",
       "\n",
       "    if (OutputArea.prototype.mime_types().indexOf(EXEC_MIME_TYPE) == -1) {\n",
       "      register_renderer(events, OutputArea);\n",
       "    }\n",
       "  }\n",
       "\n",
       "  \n",
       "  if (typeof (root._bokeh_timeout) === \"undefined\" || force === true) {\n",
       "    root._bokeh_timeout = Date.now() + 5000;\n",
       "    root._bokeh_failed_load = false;\n",
       "  }\n",
       "\n",
       "  var NB_LOAD_WARNING = {'data': {'text/html':\n",
       "     \"<div style='background-color: #fdd'>\\n\"+\n",
       "     \"<p>\\n\"+\n",
       "     \"BokehJS does not appear to have successfully loaded. If loading BokehJS from CDN, this \\n\"+\n",
       "     \"may be due to a slow or bad network connection. Possible fixes:\\n\"+\n",
       "     \"</p>\\n\"+\n",
       "     \"<ul>\\n\"+\n",
       "     \"<li>re-rerun `output_notebook()` to attempt to load from CDN again, or</li>\\n\"+\n",
       "     \"<li>use INLINE resources instead, as so:</li>\\n\"+\n",
       "     \"</ul>\\n\"+\n",
       "     \"<code>\\n\"+\n",
       "     \"from bokeh.resources import INLINE\\n\"+\n",
       "     \"output_notebook(resources=INLINE)\\n\"+\n",
       "     \"</code>\\n\"+\n",
       "     \"</div>\"}};\n",
       "\n",
       "  function display_loaded() {\n",
       "    var el = document.getElementById(\"ac8901a1-16c4-4fb9-9ce2-070d7d044f79\");\n",
       "    if (el != null) {\n",
       "      el.textContent = \"BokehJS is loading...\";\n",
       "    }\n",
       "    if (root.Bokeh !== undefined) {\n",
       "      if (el != null) {\n",
       "        el.textContent = \"BokehJS \" + root.Bokeh.version + \" successfully loaded.\";\n",
       "      }\n",
       "    } else if (Date.now() < root._bokeh_timeout) {\n",
       "      setTimeout(display_loaded, 100)\n",
       "    }\n",
       "  }\n",
       "\n",
       "\n",
       "  function run_callbacks() {\n",
       "    try {\n",
       "      root._bokeh_onload_callbacks.forEach(function(callback) { callback() });\n",
       "    }\n",
       "    finally {\n",
       "      delete root._bokeh_onload_callbacks\n",
       "    }\n",
       "    console.info(\"Bokeh: all callbacks have finished\");\n",
       "  }\n",
       "\n",
       "  function load_libs(js_urls, callback) {\n",
       "    root._bokeh_onload_callbacks.push(callback);\n",
       "    if (root._bokeh_is_loading > 0) {\n",
       "      console.log(\"Bokeh: BokehJS is being loaded, scheduling callback at\", now());\n",
       "      return null;\n",
       "    }\n",
       "    if (js_urls == null || js_urls.length === 0) {\n",
       "      run_callbacks();\n",
       "      return null;\n",
       "    }\n",
       "    console.log(\"Bokeh: BokehJS not loaded, scheduling load and callback at\", now());\n",
       "    root._bokeh_is_loading = js_urls.length;\n",
       "    for (var i = 0; i < js_urls.length; i++) {\n",
       "      var url = js_urls[i];\n",
       "      var s = document.createElement('script');\n",
       "      s.src = url;\n",
       "      s.async = false;\n",
       "      s.onreadystatechange = s.onload = function() {\n",
       "        root._bokeh_is_loading--;\n",
       "        if (root._bokeh_is_loading === 0) {\n",
       "          console.log(\"Bokeh: all BokehJS libraries loaded\");\n",
       "          run_callbacks()\n",
       "        }\n",
       "      };\n",
       "      s.onerror = function() {\n",
       "        console.warn(\"failed to load library \" + url);\n",
       "      };\n",
       "      console.log(\"Bokeh: injecting script tag for BokehJS library: \", url);\n",
       "      document.getElementsByTagName(\"head\")[0].appendChild(s);\n",
       "    }\n",
       "  };var element = document.getElementById(\"ac8901a1-16c4-4fb9-9ce2-070d7d044f79\");\n",
       "  if (element == null) {\n",
       "    console.log(\"Bokeh: ERROR: autoload.js configured with elementid 'ac8901a1-16c4-4fb9-9ce2-070d7d044f79' but no matching script tag was found. \")\n",
       "    return false;\n",
       "  }\n",
       "\n",
       "  var js_urls = [\"https://cdn.pydata.org/bokeh/release/bokeh-0.12.14.min.js\", \"https://cdn.pydata.org/bokeh/release/bokeh-widgets-0.12.14.min.js\", \"https://cdn.pydata.org/bokeh/release/bokeh-tables-0.12.14.min.js\", \"https://cdn.pydata.org/bokeh/release/bokeh-gl-0.12.14.min.js\"];\n",
       "\n",
       "  var inline_js = [\n",
       "    function(Bokeh) {\n",
       "      Bokeh.set_log_level(\"info\");\n",
       "    },\n",
       "    \n",
       "    function(Bokeh) {\n",
       "      \n",
       "    },\n",
       "    function(Bokeh) {\n",
       "      console.log(\"Bokeh: injecting CSS: https://cdn.pydata.org/bokeh/release/bokeh-0.12.14.min.css\");\n",
       "      Bokeh.embed.inject_css(\"https://cdn.pydata.org/bokeh/release/bokeh-0.12.14.min.css\");\n",
       "      console.log(\"Bokeh: injecting CSS: https://cdn.pydata.org/bokeh/release/bokeh-widgets-0.12.14.min.css\");\n",
       "      Bokeh.embed.inject_css(\"https://cdn.pydata.org/bokeh/release/bokeh-widgets-0.12.14.min.css\");\n",
       "      console.log(\"Bokeh: injecting CSS: https://cdn.pydata.org/bokeh/release/bokeh-tables-0.12.14.min.css\");\n",
       "      Bokeh.embed.inject_css(\"https://cdn.pydata.org/bokeh/release/bokeh-tables-0.12.14.min.css\");\n",
       "    }\n",
       "  ];\n",
       "\n",
       "  function run_inline_js() {\n",
       "    \n",
       "    if ((root.Bokeh !== undefined) || (force === true)) {\n",
       "      for (var i = 0; i < inline_js.length; i++) {\n",
       "        inline_js[i].call(root, root.Bokeh);\n",
       "      }if (force === true) {\n",
       "        display_loaded();\n",
       "      }} else if (Date.now() < root._bokeh_timeout) {\n",
       "      setTimeout(run_inline_js, 100);\n",
       "    } else if (!root._bokeh_failed_load) {\n",
       "      console.log(\"Bokeh: BokehJS failed to load within specified timeout.\");\n",
       "      root._bokeh_failed_load = true;\n",
       "    } else if (force !== true) {\n",
       "      var cell = $(document.getElementById(\"ac8901a1-16c4-4fb9-9ce2-070d7d044f79\")).parents('.cell').data().cell;\n",
       "      cell.output_area.append_execute_result(NB_LOAD_WARNING)\n",
       "    }\n",
       "\n",
       "  }\n",
       "\n",
       "  if (root._bokeh_is_loading === 0) {\n",
       "    console.log(\"Bokeh: BokehJS loaded, going straight to plotting\");\n",
       "    run_inline_js();\n",
       "  } else {\n",
       "    load_libs(js_urls, function() {\n",
       "      console.log(\"Bokeh: BokehJS plotting callback run at\", now());\n",
       "      run_inline_js();\n",
       "    });\n",
       "  }\n",
       "}(window));"
      ],
      "application/vnd.bokehjs_load.v0+json": "\n(function(root) {\n  function now() {\n    return new Date();\n  }\n\n  var force = true;\n\n  if (typeof (root._bokeh_onload_callbacks) === \"undefined\" || force === true) {\n    root._bokeh_onload_callbacks = [];\n    root._bokeh_is_loading = undefined;\n  }\n\n  \n\n  \n  if (typeof (root._bokeh_timeout) === \"undefined\" || force === true) {\n    root._bokeh_timeout = Date.now() + 5000;\n    root._bokeh_failed_load = false;\n  }\n\n  var NB_LOAD_WARNING = {'data': {'text/html':\n     \"<div style='background-color: #fdd'>\\n\"+\n     \"<p>\\n\"+\n     \"BokehJS does not appear to have successfully loaded. If loading BokehJS from CDN, this \\n\"+\n     \"may be due to a slow or bad network connection. Possible fixes:\\n\"+\n     \"</p>\\n\"+\n     \"<ul>\\n\"+\n     \"<li>re-rerun `output_notebook()` to attempt to load from CDN again, or</li>\\n\"+\n     \"<li>use INLINE resources instead, as so:</li>\\n\"+\n     \"</ul>\\n\"+\n     \"<code>\\n\"+\n     \"from bokeh.resources import INLINE\\n\"+\n     \"output_notebook(resources=INLINE)\\n\"+\n     \"</code>\\n\"+\n     \"</div>\"}};\n\n  function display_loaded() {\n    var el = document.getElementById(\"ac8901a1-16c4-4fb9-9ce2-070d7d044f79\");\n    if (el != null) {\n      el.textContent = \"BokehJS is loading...\";\n    }\n    if (root.Bokeh !== undefined) {\n      if (el != null) {\n        el.textContent = \"BokehJS \" + root.Bokeh.version + \" successfully loaded.\";\n      }\n    } else if (Date.now() < root._bokeh_timeout) {\n      setTimeout(display_loaded, 100)\n    }\n  }\n\n\n  function run_callbacks() {\n    try {\n      root._bokeh_onload_callbacks.forEach(function(callback) { callback() });\n    }\n    finally {\n      delete root._bokeh_onload_callbacks\n    }\n    console.info(\"Bokeh: all callbacks have finished\");\n  }\n\n  function load_libs(js_urls, callback) {\n    root._bokeh_onload_callbacks.push(callback);\n    if (root._bokeh_is_loading > 0) {\n      console.log(\"Bokeh: BokehJS is being loaded, scheduling callback at\", now());\n      return null;\n    }\n    if (js_urls == null || js_urls.length === 0) {\n      run_callbacks();\n      return null;\n    }\n    console.log(\"Bokeh: BokehJS not loaded, scheduling load and callback at\", now());\n    root._bokeh_is_loading = js_urls.length;\n    for (var i = 0; i < js_urls.length; i++) {\n      var url = js_urls[i];\n      var s = document.createElement('script');\n      s.src = url;\n      s.async = false;\n      s.onreadystatechange = s.onload = function() {\n        root._bokeh_is_loading--;\n        if (root._bokeh_is_loading === 0) {\n          console.log(\"Bokeh: all BokehJS libraries loaded\");\n          run_callbacks()\n        }\n      };\n      s.onerror = function() {\n        console.warn(\"failed to load library \" + url);\n      };\n      console.log(\"Bokeh: injecting script tag for BokehJS library: \", url);\n      document.getElementsByTagName(\"head\")[0].appendChild(s);\n    }\n  };var element = document.getElementById(\"ac8901a1-16c4-4fb9-9ce2-070d7d044f79\");\n  if (element == null) {\n    console.log(\"Bokeh: ERROR: autoload.js configured with elementid 'ac8901a1-16c4-4fb9-9ce2-070d7d044f79' but no matching script tag was found. \")\n    return false;\n  }\n\n  var js_urls = [\"https://cdn.pydata.org/bokeh/release/bokeh-0.12.14.min.js\", \"https://cdn.pydata.org/bokeh/release/bokeh-widgets-0.12.14.min.js\", \"https://cdn.pydata.org/bokeh/release/bokeh-tables-0.12.14.min.js\", \"https://cdn.pydata.org/bokeh/release/bokeh-gl-0.12.14.min.js\"];\n\n  var inline_js = [\n    function(Bokeh) {\n      Bokeh.set_log_level(\"info\");\n    },\n    \n    function(Bokeh) {\n      \n    },\n    function(Bokeh) {\n      console.log(\"Bokeh: injecting CSS: https://cdn.pydata.org/bokeh/release/bokeh-0.12.14.min.css\");\n      Bokeh.embed.inject_css(\"https://cdn.pydata.org/bokeh/release/bokeh-0.12.14.min.css\");\n      console.log(\"Bokeh: injecting CSS: https://cdn.pydata.org/bokeh/release/bokeh-widgets-0.12.14.min.css\");\n      Bokeh.embed.inject_css(\"https://cdn.pydata.org/bokeh/release/bokeh-widgets-0.12.14.min.css\");\n      console.log(\"Bokeh: injecting CSS: https://cdn.pydata.org/bokeh/release/bokeh-tables-0.12.14.min.css\");\n      Bokeh.embed.inject_css(\"https://cdn.pydata.org/bokeh/release/bokeh-tables-0.12.14.min.css\");\n    }\n  ];\n\n  function run_inline_js() {\n    \n    if ((root.Bokeh !== undefined) || (force === true)) {\n      for (var i = 0; i < inline_js.length; i++) {\n        inline_js[i].call(root, root.Bokeh);\n      }if (force === true) {\n        display_loaded();\n      }} else if (Date.now() < root._bokeh_timeout) {\n      setTimeout(run_inline_js, 100);\n    } else if (!root._bokeh_failed_load) {\n      console.log(\"Bokeh: BokehJS failed to load within specified timeout.\");\n      root._bokeh_failed_load = true;\n    } else if (force !== true) {\n      var cell = $(document.getElementById(\"ac8901a1-16c4-4fb9-9ce2-070d7d044f79\")).parents('.cell').data().cell;\n      cell.output_area.append_execute_result(NB_LOAD_WARNING)\n    }\n\n  }\n\n  if (root._bokeh_is_loading === 0) {\n    console.log(\"Bokeh: BokehJS loaded, going straight to plotting\");\n    run_inline_js();\n  } else {\n    load_libs(js_urls, function() {\n      console.log(\"Bokeh: BokehJS plotting callback run at\", now());\n      run_inline_js();\n    });\n  }\n}(window));"
     },
     "metadata": {},
     "output_type": "display_data"
    }
   ],
   "source": [
    "output_notebook()"
   ]
  },
  {
   "cell_type": "code",
   "execution_count": 8,
   "metadata": {
    "collapsed": true
   },
   "outputs": [],
   "source": [
    "def fmt_cool(ds_in):\n",
    "    ds = ds_in.copy(deep=True)\n",
    "    if 'igg' in ds.dims:\n",
    "        ds = ds.sel(igg=1)\n",
    "\n",
    "    if 'g' in ds.dims:\n",
    "        ds = ds.sum('g')\n",
    "            \n",
    "    if 'band' in ds.dims:\n",
    "        try:\n",
    "            ds = ds.squeeze('band')\n",
    "        except ValueError:\n",
    "            ds = ds.sum('band')\n",
    "                \n",
    "    return ds['coolrg']\n",
    "\n",
    "\n",
    "def pltdata_cooling_1(ds_cool=None,\n",
    "                      ds_cool_crd=None, ds_cool_wgt=None):\n",
    "    \n",
    "\n",
    "\n",
    "    colors = all_palettes['Set1'][4]\n",
    "    data = [{'label': 'CLIRAD `coolr_bands`',\n",
    "             'srs': fmt_cool(ds_cool),\n",
    "             'line_dash': 'dashed', 'line_width': 5,\n",
    "             'color': colors[0], 'alpha': .6},\n",
    "            {'label': 'CRD',\n",
    "             'srs': fmt_cool(ds_cool_crd),\n",
    "             'line_dash': 'solid', 'line_width': 1.5,\n",
    "             'marker': 'circle', 'marker_size': 5,\n",
    "             'color': colors[2], 'alpha': 1,},\n",
    "            {'label': 'WGT igg=10 wgt_flux=2',\n",
    "             'srs': fmt_cool(ds_cool_wgt),\n",
    "             'line_dash': 'solid', 'line_width': 3,\n",
    "             'marker': 'square', 'marker_size': 5,\n",
    "             'color': colors[3], 'alpha': .6}]\n",
    "    return data\n",
    "\n",
    "\n",
    "def nice_xlims(pltdata=None, prange=None):\n",
    "    \n",
    "    def get_slice(srs):\n",
    "        return srs.sel(pressure=slice(*prange))\n",
    "    \n",
    "    srss = [d['srs'] for d in pltdata]\n",
    "    vmin = min([get_slice(srs).min() for srs in srss])\n",
    "    vmax = max([get_slice(srs).max() for srs in srss])\n",
    "    dv = (vmax - vmin) * .01\n",
    "    return float(vmin - dv), float(vmax + dv)\n",
    "    \n",
    "\n",
    "def plt_cooling_bokeh(pltdata=None):\n",
    "    '''\n",
    "    Plot a list of cooling rate profiles using bokeh.\n",
    "    '''\n",
    "    ymin = 1e-2 \n",
    "    ymax = 1020 \n",
    "        \n",
    "    p1 = figure(title=\"Linear pressure scale\", \n",
    "                plot_width=400)        \n",
    "    xmin, xmax = nice_xlims(pltdata, prange=(50, 1050))\n",
    "    for d in pltdata:\n",
    "        if 'marker' in d:\n",
    "            getattr(p1, d['marker'])(d['srs'].values, \n",
    "                    d['srs'].coords['pressure'].values,\n",
    "                    color=d['color'], alpha=.7)\n",
    "        p1.line(d['srs'].values, \n",
    "                d['srs'].coords['pressure'].values,\n",
    "                color=d['color'], alpha=d['alpha'], \n",
    "                line_width=d['line_width'], line_dash=d['line_dash'])\n",
    "    \n",
    "    p1.y_range = Range1d(ymax, ymin)\n",
    "    p1.yaxis.axis_label = 'pressure [mb]'   \n",
    "    p1.x_range = Range1d(xmin, xmax)\n",
    "    p1.xaxis.axis_label = 'cooling rate [K/day]'\n",
    "            \n",
    "    p2 = figure(title='Log pressure scale', y_axis_type='log',\n",
    "                plot_width=560)\n",
    "    xmin, xmax = nice_xlims(pltdata, prange=(.01, 200))\n",
    "    \n",
    "    rs = []\n",
    "    for d in pltdata:\n",
    "        rd = []\n",
    "        if 'marker' in d:\n",
    "            r_mark = getattr(p2, d['marker'])(d['srs'].values, \n",
    "                        d['srs'].coords['pressure'].values,\n",
    "                        color=d['color'], alpha=.7)\n",
    "            rd.append(r_mark)\n",
    "        r_line = p2.line(d['srs'].values, \n",
    "                    d['srs'].coords['pressure'].values,\n",
    "                    color=d['color'], alpha=d['alpha'], \n",
    "                    line_width=d['line_width'], line_dash=d['line_dash'])\n",
    "        rd.append(r_line)\n",
    "      \n",
    "        rs.append(rd)\n",
    "        \n",
    "    p2.y_range = Range1d(ymax, ymin)  \n",
    "    p2.yaxis.axis_label = 'pressure [mb]'\n",
    "    \n",
    "    p2.x_range = Range1d(xmin, xmax)\n",
    "    p2.xaxis.axis_label = 'cooling rate [K/day]'\n",
    "    \n",
    "    items = [(d['label'], r) for r, d in zip(rs, pltdata)]\n",
    "    legend = Legend(items=items, location=(10, -30))\n",
    "    legend.label_text_font_size = '8pt'\n",
    "    \n",
    "    p2.add_layout(legend, 'right')  \n",
    "    \n",
    "    show(gridplot(p1, p2, ncols=2, plot_height=500))\n",
    "    \n",
    "\n",
    "def script_plt_cooling():\n",
    "    pltdata = pltdata_cooling_1(\n",
    "        ds_cool=DS_COOL,\n",
    "        ds_cool_crd=DS_COOL_CRD,\n",
    "        ds_cool_wgt=DS_COOL_WGT)\n",
    "    plt_cooling_bokeh(pltdata=pltdata)\n",
    "    print('''FIGURE. Cooling rate profiles.''')"
   ]
  },
  {
   "cell_type": "code",
   "execution_count": 9,
   "metadata": {
    "collapsed": true
   },
   "outputs": [],
   "source": [
    "def fmt_flux(ds_in):\n",
    "    ds = ds_in.copy(deep=True)\n",
    "    \n",
    "    for l in ('level', 'layer'):\n",
    "        if l in ds.data_vars:\n",
    "            if len(ds[l].dims) > 1:\n",
    "                surface = {d: 0 for d in ds.dims if d != 'pressure'}\n",
    "                coord_level = ds[l][surface]\n",
    "                ds.coords[l] = ('pressure', coord_level)\n",
    "            else:\n",
    "                ds.coords[l] = ('pressure', ds[l])\n",
    "        \n",
    "    ds = ds.isel(pressure=[0, 23, -1])\n",
    "        \n",
    "    if 'igg' in ds.dims:\n",
    "        ds = ds.sel(igg=[1])\n",
    "        ds = ds.squeeze('igg').drop('igg')\n",
    "    \n",
    "    if 'g' in ds.dims:\n",
    "        ds = ds.sum('g')\n",
    "            \n",
    "    if 'band' in ds.dims:\n",
    "        try:\n",
    "            ds = ds.squeeze('band').drop('band')\n",
    "        except ValueError:\n",
    "            ds = ds.sum('band')\n",
    "                \n",
    "    df = ds.to_dataframe()\n",
    "    df = df.set_index('level', append=True)               \n",
    "    return df\n",
    "\n",
    "\n",
    "def tbdata_flux(ds_flux=None, ds_flux_crd=None, ds_flux_wgt=None):\n",
    "    ilevels = [0, 23, -1]\n",
    "            \n",
    "    benchmark = {'label': 'WGT igg=10 wgt_flux=1',\n",
    "                 'df': fmt_flux(ds_flux_wgt)}\n",
    "    \n",
    "    tbs = [{'label': 'CRD',\n",
    "            'df': fmt_flux(ds_flux_crd)},\n",
    "           {'label': 'CLIRAD',\n",
    "            'df': fmt_flux(ds_flux)}]\n",
    "    \n",
    "    data = {'benchmark': benchmark, 'others': tbs}\n",
    "    return data\n",
    "\n",
    "\n",
    "def tb_flux(tbdata=None):\n",
    "    benchmark = tbdata['benchmark']\n",
    "    others = tbdata['others']\n",
    "    \n",
    "    def show_tb(d=None):\n",
    "        display.display(d['df'])\n",
    "        print('Table.', 'Fluxes.', d['label'])\n",
    "        \n",
    "    def show_tbdiff(d0=None, d=None):\n",
    "        df = d['df']\n",
    "        df.index = d0['df'].index\n",
    "        display.display(df - d0['df'])\n",
    "        print('Table.', 'Fluxes.', \n",
    "              '({}) - ({})'.format(d['label'], d0['label']))\n",
    "        \n",
    "    show_tb(benchmark)\n",
    "    for d in others:\n",
    "        show_tb(d)\n",
    "        \n",
    "    for d in others:\n",
    "        show_tbdiff(d=d, d0=benchmark)\n",
    "        \n",
    "        \n",
    "def script_tb_flux():\n",
    "    data = tbdata_flux(ds_flux=DS_FLUX,\n",
    "                       ds_flux_crd=DS_FLUX_CRD,\n",
    "                       ds_flux_wgt=DS_FLUX_WGT)\n",
    "    tb_flux(tbdata=data)"
   ]
  },
  {
   "cell_type": "code",
   "execution_count": 10,
   "metadata": {
    "collapsed": true
   },
   "outputs": [],
   "source": [
    "def band_map():\n",
    "    '''\n",
    "    Maps spectral bands in lblnew to spectral bands in clirad.\n",
    "    '''\n",
    "    lblnew2clirad = {'1': '1',\n",
    "            '2': '2',\n",
    "            '3a': '3',\n",
    "            '3b': '4',\n",
    "            '3c': '5',\n",
    "            '4': '6', \n",
    "            '5': '7',\n",
    "            '6': '8',\n",
    "            '7': '9', \n",
    "            '8': '10',\n",
    "            '9': '11'}\n",
    "    \n",
    "    clirad2lblnew = {clirad: lblnew \n",
    "                     for lblnew, clirad in lblnew2clirad.items()}\n",
    "    return clirad2lblnew\n",
    "\n",
    "\n",
    "def gasbands():\n",
    "    bmap = band_map()\n",
    "    gases = list(PARAM['molecule'].keys())\n",
    "    \n",
    "    bands = [bmap[str(b)] for b in PARAM['band']]\n",
    "    return list(itertools.product(gases, bands))\n",
    "\n",
    "\n",
    "def print_bestfit_params():\n",
    "    print('Best-fit values for each (gas, band)')\n",
    "    print('------------------------------------')\n",
    "    for gas, band in gasbands():\n",
    "        print('o {} band{}'.format(gas, band))\n",
    "        param = bestfits.kdist_params(molecule=gas, band=band)\n",
    "        for name, value in sorted(param.items()):\n",
    "            print(2 * ' ' + '{} = {}'.format(name, value))\n",
    "\n",
    "        \n",
    "def print_input_param():        \n",
    "    for name, value in PARAM.items():\n",
    "        print('{} = {}'.format(name, value))\n",
    "        \n",
    "        \n",
    "def print_lblnew_param():\n",
    "    for name, value in sorted(PARAM_LBLNEW.items()):\n",
    "        print('{} = {}'.format(name, value))\n"
   ]
  },
  {
   "cell_type": "code",
   "execution_count": 11,
   "metadata": {
    "collapsed": true,
    "scrolled": false
   },
   "outputs": [],
   "source": [
    "def show_html(s):\n",
    "    display.display(display.HTML(s))\n",
    "\n",
    "    \n",
    "def show_markdown(s):\n",
    "    display.display(display.Markdown(s))\n",
    "\n",
    "    \n",
    "def script():\n",
    "    \n",
    "    title = '### CLIRAD-LW'\n",
    "    s_input = 'Input Parameters'\n",
    "    s_lblnew_param = 'LBLNEW case compaired against'\n",
    "    s_bestfits = 'Best-fit Parameters'\n",
    "    s_plt_cooling = 'Cooling Rate Profiles'\n",
    "    s_tb_flux = 'Flux Comparison'\n",
    "    \n",
    "    # title\n",
    "    show_markdown('### CLIRAD-LW')\n",
    "    \n",
    "    # TOC\n",
    "    show_markdown('### Table of Contents')\n",
    "    show_html(climahtml.getHTML_hrefanchor(s_input))\n",
    "    show_html(climahtml.getHTML_hrefanchor(s_lblnew_param))\n",
    "    show_html(climahtml.getHTML_hrefanchor(s_plt_cooling))\n",
    "    show_html(climahtml.getHTML_hrefanchor(s_tb_flux))\n",
    "    show_html(climahtml.getHTML_hrefanchor(s_bestfits))\n",
    "    \n",
    "    # Input parameters\n",
    "    show_html(climahtml.getHTML_idanchor(s_input))\n",
    "    show_markdown(climahtml.getMarkdown_sectitle(s_input))\n",
    "    print_input_param()\n",
    "    \n",
    "    # LBLNEW parameters \n",
    "    show_html(climahtml.getHTML_idanchor(s_lblnew_param))\n",
    "    show_markdown(climahtml.getMarkdown_sectitle(s_lblnew_param))\n",
    "    print_lblnew_param()\n",
    "    \n",
    "    # Cooling rate profiles\n",
    "    show_html(climahtml.getHTML_idanchor(s_plt_cooling))\n",
    "    show_markdown(climahtml.getMarkdown_sectitle(s_plt_cooling))\n",
    "    script_plt_cooling()\n",
    "    \n",
    "    # Flux comparison\n",
    "    show_html(climahtml.getHTML_idanchor(s_tb_flux))\n",
    "    show_markdown(climahtml.getMarkdown_sectitle(s_tb_flux))\n",
    "    script_tb_flux()\n",
    "    \n",
    "    # Best-fit values\n",
    "    show_html(climahtml.getHTML_idanchor(s_bestfits))\n",
    "    show_markdown(climahtml.getMarkdown_sectitle(s_bestfits))\n",
    "    print_bestfit_params()\n",
    "   \n",
    "    "
   ]
  },
  {
   "cell_type": "code",
   "execution_count": 12,
   "metadata": {
    "collapsed": true,
    "scrolled": false
   },
   "outputs": [
    {
     "data": {
      "text/markdown": [
       "### CLIRAD-LW"
      ],
      "text/plain": [
       "<IPython.core.display.Markdown object>"
      ]
     },
     "metadata": {},
     "output_type": "display_data"
    },
    {
     "data": {
      "text/markdown": [
       "### Table of Contents"
      ],
      "text/plain": [
       "<IPython.core.display.Markdown object>"
      ]
     },
     "metadata": {},
     "output_type": "display_data"
    },
    {
     "data": {
      "text/html": [
       "<a href=\"#Input_Parameters\">Input Parameters</a>"
      ],
      "text/plain": [
       "<IPython.core.display.HTML object>"
      ]
     },
     "metadata": {},
     "output_type": "display_data"
    },
    {
     "data": {
      "text/html": [
       "<a href=\"#LBLNEW_case_compaired_against\">LBLNEW case compaired against</a>"
      ],
      "text/plain": [
       "<IPython.core.display.HTML object>"
      ]
     },
     "metadata": {},
     "output_type": "display_data"
    },
    {
     "data": {
      "text/html": [
       "<a href=\"#Cooling_Rate_Profiles\">Cooling Rate Profiles</a>"
      ],
      "text/plain": [
       "<IPython.core.display.HTML object>"
      ]
     },
     "metadata": {},
     "output_type": "display_data"
    },
    {
     "data": {
      "text/html": [
       "<a href=\"#Flux_Comparison\">Flux Comparison</a>"
      ],
      "text/plain": [
       "<IPython.core.display.HTML object>"
      ]
     },
     "metadata": {},
     "output_type": "display_data"
    },
    {
     "data": {
      "text/html": [
       "<a href=\"#Best-fit_Parameters\">Best-fit Parameters</a>"
      ],
      "text/plain": [
       "<IPython.core.display.HTML object>"
      ]
     },
     "metadata": {},
     "output_type": "display_data"
    },
    {
     "data": {
      "text/html": [
       "<a id=\"Input_Parameters\"></a>"
      ],
      "text/plain": [
       "<IPython.core.display.HTML object>"
      ]
     },
     "metadata": {},
     "output_type": "display_data"
    },
    {
     "data": {
      "text/markdown": [
       "# Input Parameters"
      ],
      "text/plain": [
       "<IPython.core.display.Markdown object>"
      ]
     },
     "metadata": {},
     "output_type": "display_data"
    },
    {
     "name": "stdout",
     "output_type": "stream",
     "text": [
      "atmpro = mls\n",
      "band = [3]\n",
      "commitnumber = 353685c\n",
      "molecule = {'co2': 0.0004}\n",
      "tsfc = 294\n"
     ]
    },
    {
     "data": {
      "text/html": [
       "<a id=\"LBLNEW_case_compaired_against\"></a>"
      ],
      "text/plain": [
       "<IPython.core.display.HTML object>"
      ]
     },
     "metadata": {},
     "output_type": "display_data"
    },
    {
     "data": {
      "text/markdown": [
       "# LBLNEW case compaired against"
      ],
      "text/plain": [
       "<IPython.core.display.Markdown object>"
      ]
     },
     "metadata": {},
     "output_type": "display_data"
    },
    {
     "name": "stdout",
     "output_type": "stream",
     "text": [
      "atmpro = mls\n",
      "band = 3a\n",
      "commitnumber = 2bd1f75\n",
      "conc = 0.0004\n",
      "dv = 0.01\n",
      "klin = 6.375563e-24\n",
      "molecule = co2\n",
      "ng_adju = [0, 0, 0]\n",
      "ng_refs = [3, 2, 4]\n",
      "nv = 100\n",
      "option_compute_btable = 0\n",
      "option_compute_ktable = 0\n",
      "option_wgt_flux = 1\n",
      "option_wgt_k = 1\n",
      "ref_pts = [(1, 250), (10, 250), (500, 250)]\n",
      "tsfc = 294\n",
      "vmax = 620\n",
      "vmin = 540\n",
      "w_diffuse = [(1.6, 1.6, 1.7), (1.75, 1.75), (1.55, 1.55, 1.6, 1.85)]\n",
      "wgt = [(0.7, 0.3, 0.7), (0.7, 0.6), (0.4, 0.5, 0.8, 0.95)]\n"
     ]
    },
    {
     "data": {
      "text/html": [
       "<a id=\"Cooling_Rate_Profiles\"></a>"
      ],
      "text/plain": [
       "<IPython.core.display.HTML object>"
      ]
     },
     "metadata": {},
     "output_type": "display_data"
    },
    {
     "data": {
      "text/markdown": [
       "# Cooling Rate Profiles"
      ],
      "text/plain": [
       "<IPython.core.display.Markdown object>"
      ]
     },
     "metadata": {},
     "output_type": "display_data"
    },
    {
     "data": {
      "text/html": [
       "\n",
       "<div class=\"bk-root\">\n",
       "    <div class=\"bk-plotdiv\" id=\"473a2ef4-a10b-494b-a852-49ae714f82fc\"></div>\n",
       "</div>"
      ]
     },
     "metadata": {},
     "output_type": "display_data"
    },
    {
     "data": {
      "application/javascript": [
       "(function(root) {\n",
       "  function embed_document(root) {\n",
       "    \n",
       "  var docs_json = {\"a2922ab6-34d4-4aab-9eda-6c7f8a30e9fc\":{\"roots\":{\"references\":[{\"attributes\":{\"axis_label\":\"pressure [mb]\",\"formatter\":{\"id\":\"7bfc9c39-780a-4b43-b62b-ec3327d7a352\",\"type\":\"BasicTickFormatter\"},\"plot\":{\"id\":\"d4a0e117-e2c5-40dc-882e-3c0e65c0de2a\",\"subtype\":\"Figure\",\"type\":\"Plot\"},\"ticker\":{\"id\":\"c1b831aa-f74c-4194-8835-ae1ba4fbbe1e\",\"type\":\"BasicTicker\"}},\"id\":\"f4a89faa-5bf5-4be2-8d6d-b97659cc2024\",\"type\":\"LinearAxis\"},{\"attributes\":{\"callback\":null,\"column_names\":[\"x\",\"y\"],\"data\":{\"x\":{\"__ndarray__\":\"/Dh5FUJc2j9aPMRYCQraP0/An6+Tmdo/sINSzQ8Q2z9iu72cwFHbP6SkTfZLW9s/IQeAhScP2z++Mi25o2LaPwSwfdg9P9k/7ECMxpCS1z+I0+78R0vVP63FArqKYNI/N0BAKSCOzT+XKXuF5OjEP9zIp40Lg7w/6qIyD6oevz8DpGirs1bGPw4LvRfC3sw/DzEUZpAx0j/NJ6dNBzjXPwwQu6WLQ94/4JWPavl95D8WIyJnJ2TqP9T7Wzyb+ek/vOsJnoRK5D/eGMjU2WDePwE4crQVgdY/mPjlxAW90D9Pb04+oODJP5CQWL2JwsQ/UQ80E8pKwD+crQhzxQm4P7XKHjESC7I/e+JNPycLrT8huDmxYS+mP2Tm7rLg950/vwcfspdZlT+TZiYqsfGQP+IFHWUneYA/SKLAhz4bWr/aC3NvAj4wP23Dsfl704s/BnlX7Bgfmj+PJcUqUh+iP3x1kAIEpqY/Ti53embIqj8DlVQa75auP3TJ2NOFDbE/nQZ3LUKtsj/+l0UKYCi0P03rcQrrebU/PI0eOX6atj9O3oZsroe3PwarF2f/SLg/L6uoqJfruD9wx5RCMnq5P55zfUAc+7k/5+7GxN5yuj+USbKzjeS6P6m96+AeU7s/WQ4d0AzBuz/mXAZzJjO8P0PEcvDxrrw/u5obV0w6vT9677ldedq9Pwnr1p20kb4/jAdCT1ZOvz+Cb5o+O+C/Pw6iUngSCcA/CZ0AWFfkvz/ebDm48JO/P/UfRsZyZL8/2ibsDYSFvz8BC2g7CRnAP2tDan8MQsE/\",\"dtype\":\"float64\",\"shape\":[75]},\"y\":{\"__ndarray__\":\"GhExyth1ND/Sv8nbtpRIP2vylNV0PVE/aTum7souWD/At0SJ8fVgPw3Iuahxymc/MSNhhJWvcD/bTfBN02d3P2zb5nxnaoA/CD5h5MAGhz8NmeH1TyaQP+zrCsc9p5Y/LbKd76fGnz/bLW5ISEmmPww9YvTcQq8/JV2OstnstT8Er5Y7M8G+P0c+r3jqkcU/5h99k6ZBzj88bCIzFzjVP4enV8oyxN0//yH99nXg5D8qOpLLf0jtP5kqGJXUifQ/c9cS8kHP/D+/DpwzojQEQIEmwoanVwxA4lgXt9HgE0BSSZ2AJuIbQAMJih9jjiNA5q4l5INuK0AwTKYKRj0zQNv5fmq8/DpAaCJseHrtQkB/+zpwzoxKQM3MzMzMeFJAZmZmZmZqWEAAAAAAAFxeQM3MzMzMJmJAmpmZmZkfZUBmZmZmZhhoQDMzMzMzEWtAAAAAAAAKbkBmZmZmZoFwQM3MzMzM/XFAMzMzMzN6c0CamZmZmfZ0QAAAAAAAc3ZAZmZmZmbvd0DNzMzMzGt5QDMzMzMz6HpAmpmZmZlkfEAAAAAAAOF9QGZmZmZmXX9AZmZmZuZsgECamZmZGSuBQM3MzMxM6YFAAAAAAICngkAzMzMzs2WDQGZmZmbmI4RAmpmZmRnihEDNzMzMTKCFQAAAAACAXoZAMzMzM7Mch0BmZmZm5tqHQJqZmZkZmYhAzczMzExXiUAAAAAAgBWKQDMzMzOz04pAZmZmZuaRi0CamZmZGVCMQM3MzMxMDo1AAAAAAIDMjUAzMzMzs4qOQGZmZmbmSI9A\",\"dtype\":\"float64\",\"shape\":[75]}}},\"id\":\"f8677271-4e41-48c2-bf9c-51aaebd654f0\",\"type\":\"ColumnDataSource\"},{\"attributes\":{\"line_alpha\":0.1,\"line_color\":\"#1f77b4\",\"line_width\":1.5,\"x\":{\"field\":\"x\"},\"y\":{\"field\":\"y\"}},\"id\":\"6109a56f-b4c9-48d7-bc93-31633c11e3cb\",\"type\":\"Line\"},{\"attributes\":{\"data_source\":{\"id\":\"4e279771-bdb8-4ebf-800e-d2760c24a780\",\"type\":\"ColumnDataSource\"},\"glyph\":{\"id\":\"3b7fcdb4-ba31-41cc-bfa8-de60fdbe7a5f\",\"type\":\"Line\"},\"hover_glyph\":null,\"muted_glyph\":null,\"nonselection_glyph\":{\"id\":\"ce5aa8dd-e99d-42f9-81c4-614bd7d6a322\",\"type\":\"Line\"},\"selection_glyph\":null,\"view\":{\"id\":\"dd10e854-28e8-4b6c-babb-c40d36ebc6d3\",\"type\":\"CDSView\"}},\"id\":\"b5622598-73f7-42a9-a93e-c3db820ff23e\",\"type\":\"GlyphRenderer\"},{\"attributes\":{\"line_alpha\":0.6,\"line_color\":\"#e41a1c\",\"line_dash\":[6],\"line_width\":5,\"x\":{\"field\":\"x\"},\"y\":{\"field\":\"y\"}},\"id\":\"3b7fcdb4-ba31-41cc-bfa8-de60fdbe7a5f\",\"type\":\"Line\"},{\"attributes\":{\"source\":{\"id\":\"f8677271-4e41-48c2-bf9c-51aaebd654f0\",\"type\":\"ColumnDataSource\"}},\"id\":\"26f8d3bf-01d1-432c-aa33-64ab083bc37d\",\"type\":\"CDSView\"},{\"attributes\":{},\"id\":\"c2db740e-3260-4420-8d7f-a5042f8e655a\",\"type\":\"BasicTickFormatter\"},{\"attributes\":{\"data_source\":{\"id\":\"f8677271-4e41-48c2-bf9c-51aaebd654f0\",\"type\":\"ColumnDataSource\"},\"glyph\":{\"id\":\"cd723acb-450b-4d8f-a6d1-efc1c414d9b6\",\"type\":\"Line\"},\"hover_glyph\":null,\"muted_glyph\":null,\"nonselection_glyph\":{\"id\":\"6109a56f-b4c9-48d7-bc93-31633c11e3cb\",\"type\":\"Line\"},\"selection_glyph\":null,\"view\":{\"id\":\"26f8d3bf-01d1-432c-aa33-64ab083bc37d\",\"type\":\"CDSView\"}},\"id\":\"c9dbe7af-e910-49a8-8867-edbe3300f5f6\",\"type\":\"GlyphRenderer\"},{\"attributes\":{\"line_color\":\"#4daf4a\",\"line_width\":1.5,\"x\":{\"field\":\"x\"},\"y\":{\"field\":\"y\"}},\"id\":\"cd723acb-450b-4d8f-a6d1-efc1c414d9b6\",\"type\":\"Line\"},{\"attributes\":{\"tools\":[{\"id\":\"0e4ff6fa-b618-426b-b8d3-93760574bd0c\",\"type\":\"PanTool\"},{\"id\":\"4cb4741c-ec0b-49ca-894f-fe8b34b139c6\",\"type\":\"WheelZoomTool\"},{\"id\":\"d8001054-1044-4aef-961c-e164baa40423\",\"type\":\"BoxZoomTool\"},{\"id\":\"4ef1b1e4-b6a3-42e8-8093-42e9fba4aeaa\",\"type\":\"SaveTool\"},{\"id\":\"243df105-bc2e-4a69-a6c0-e2862bd2e7d4\",\"type\":\"ResetTool\"},{\"id\":\"57331759-511c-4343-9e61-6b45a75b0be2\",\"type\":\"HelpTool\"},{\"id\":\"7b54d3ee-603e-465b-adb5-ffd2b99c1655\",\"type\":\"PanTool\"},{\"id\":\"2c0220f9-bffa-4077-beb7-47ca81fe53cb\",\"type\":\"WheelZoomTool\"},{\"id\":\"2aae793c-991e-4caa-86b7-b75b94a99c73\",\"type\":\"BoxZoomTool\"},{\"id\":\"3c85730b-b3e0-4df5-af34-3ef175a0ea3d\",\"type\":\"SaveTool\"},{\"id\":\"86b2c42c-f99d-400d-a27d-0038d7b61b0e\",\"type\":\"ResetTool\"},{\"id\":\"2d37a8da-c36a-4872-afaf-364fd7e215e7\",\"type\":\"HelpTool\"}]},\"id\":\"0e3e7b35-cc92-4c07-b357-aa066f79684a\",\"type\":\"ProxyToolbar\"},{\"attributes\":{\"source\":{\"id\":\"4e279771-bdb8-4ebf-800e-d2760c24a780\",\"type\":\"ColumnDataSource\"}},\"id\":\"dd10e854-28e8-4b6c-babb-c40d36ebc6d3\",\"type\":\"CDSView\"},{\"attributes\":{\"source\":{\"id\":\"b17244b0-395d-4737-b32e-deb482f36e90\",\"type\":\"ColumnDataSource\"}},\"id\":\"0c6bbf14-73f3-44c5-870c-2ee826e8f181\",\"type\":\"CDSView\"},{\"attributes\":{\"callback\":null,\"column_names\":[\"x\",\"y\"],\"data\":{\"x\":{\"__ndarray__\":\"/Dh5FUJc2j9aPMRYCQraP0/An6+Tmdo/sINSzQ8Q2z9iu72cwFHbP6SkTfZLW9s/IQeAhScP2z++Mi25o2LaPwSwfdg9P9k/7ECMxpCS1z+I0+78R0vVP63FArqKYNI/N0BAKSCOzT+XKXuF5OjEP9zIp40Lg7w/6qIyD6oevz8DpGirs1bGPw4LvRfC3sw/DzEUZpAx0j/NJ6dNBzjXPwwQu6WLQ94/4JWPavl95D8WIyJnJ2TqP9T7Wzyb+ek/vOsJnoRK5D/eGMjU2WDePwE4crQVgdY/mPjlxAW90D9Pb04+oODJP5CQWL2JwsQ/UQ80E8pKwD+crQhzxQm4P7XKHjESC7I/e+JNPycLrT8huDmxYS+mP2Tm7rLg950/vwcfspdZlT+TZiYqsfGQP+IFHWUneYA/SKLAhz4bWr/aC3NvAj4wP23Dsfl704s/BnlX7Bgfmj+PJcUqUh+iP3x1kAIEpqY/Ti53embIqj8DlVQa75auP3TJ2NOFDbE/nQZ3LUKtsj/+l0UKYCi0P03rcQrrebU/PI0eOX6atj9O3oZsroe3PwarF2f/SLg/L6uoqJfruD9wx5RCMnq5P55zfUAc+7k/5+7GxN5yuj+USbKzjeS6P6m96+AeU7s/WQ4d0AzBuz/mXAZzJjO8P0PEcvDxrrw/u5obV0w6vT9677ldedq9Pwnr1p20kb4/jAdCT1ZOvz+Cb5o+O+C/Pw6iUngSCcA/CZ0AWFfkvz/ebDm48JO/P/UfRsZyZL8/2ibsDYSFvz8BC2g7CRnAP2tDan8MQsE/\",\"dtype\":\"float64\",\"shape\":[75]},\"y\":{\"__ndarray__\":\"GhExyth1ND/Sv8nbtpRIP2vylNV0PVE/aTum7souWD/At0SJ8fVgPw3Iuahxymc/MSNhhJWvcD/bTfBN02d3P2zb5nxnaoA/CD5h5MAGhz8NmeH1TyaQP+zrCsc9p5Y/LbKd76fGnz/bLW5ISEmmPww9YvTcQq8/JV2OstnstT8Er5Y7M8G+P0c+r3jqkcU/5h99k6ZBzj88bCIzFzjVP4enV8oyxN0//yH99nXg5D8qOpLLf0jtP5kqGJXUifQ/c9cS8kHP/D+/DpwzojQEQIEmwoanVwxA4lgXt9HgE0BSSZ2AJuIbQAMJih9jjiNA5q4l5INuK0AwTKYKRj0zQNv5fmq8/DpAaCJseHrtQkB/+zpwzoxKQM3MzMzMeFJAZmZmZmZqWEAAAAAAAFxeQM3MzMzMJmJAmpmZmZkfZUBmZmZmZhhoQDMzMzMzEWtAAAAAAAAKbkBmZmZmZoFwQM3MzMzM/XFAMzMzMzN6c0CamZmZmfZ0QAAAAAAAc3ZAZmZmZmbvd0DNzMzMzGt5QDMzMzMz6HpAmpmZmZlkfEAAAAAAAOF9QGZmZmZmXX9AZmZmZuZsgECamZmZGSuBQM3MzMxM6YFAAAAAAICngkAzMzMzs2WDQGZmZmbmI4RAmpmZmRnihEDNzMzMTKCFQAAAAACAXoZAMzMzM7Mch0BmZmZm5tqHQJqZmZkZmYhAzczMzExXiUAAAAAAgBWKQDMzMzOz04pAZmZmZuaRi0CamZmZGVCMQM3MzMxMDo1AAAAAAIDMjUAzMzMzs4qOQGZmZmbmSI9A\",\"dtype\":\"float64\",\"shape\":[75]}}},\"id\":\"b17244b0-395d-4737-b32e-deb482f36e90\",\"type\":\"ColumnDataSource\"},{\"attributes\":{\"fill_alpha\":{\"value\":0.1},\"fill_color\":{\"value\":\"#1f77b4\"},\"line_alpha\":{\"value\":0.1},\"line_color\":{\"value\":\"#1f77b4\"},\"x\":{\"field\":\"x\"},\"y\":{\"field\":\"y\"}},\"id\":\"80de6554-f9f9-45d1-a52e-763847f8e18c\",\"type\":\"Circle\"},{\"attributes\":{\"label\":{\"value\":\"WGT igg=10 wgt_flux=2\"},\"renderers\":[{\"id\":\"2f590227-28a0-4004-ba3b-3f4165b99b2a\",\"type\":\"GlyphRenderer\"},{\"id\":\"f5c8bf81-41d4-45a0-be10-1e4180faf88c\",\"type\":\"GlyphRenderer\"}]},\"id\":\"948b5de4-e049-4ad4-af04-964e15c53023\",\"type\":\"LegendItem\"},{\"attributes\":{\"data_source\":{\"id\":\"f5bf193a-f445-4569-9147-fb611ff14dd1\",\"type\":\"ColumnDataSource\"},\"glyph\":{\"id\":\"4b9edf2c-f037-4b15-b7d8-d171dce86a4e\",\"type\":\"Circle\"},\"hover_glyph\":null,\"muted_glyph\":null,\"nonselection_glyph\":{\"id\":\"80de6554-f9f9-45d1-a52e-763847f8e18c\",\"type\":\"Circle\"},\"selection_glyph\":null,\"view\":{\"id\":\"6f7698be-7f2a-4a0e-8361-8170ad53ee18\",\"type\":\"CDSView\"}},\"id\":\"0abd2564-bc48-4f9c-b540-e4d076635576\",\"type\":\"GlyphRenderer\"},{\"attributes\":{\"data_source\":{\"id\":\"0f98c4d0-97fa-40a9-90c1-68ac7bf08c5f\",\"type\":\"ColumnDataSource\"},\"glyph\":{\"id\":\"48f83b3a-29a4-4e7a-b2f1-4fed3d78067f\",\"type\":\"Line\"},\"hover_glyph\":null,\"muted_glyph\":null,\"nonselection_glyph\":{\"id\":\"70469ca8-3991-4154-901f-bb15251784bb\",\"type\":\"Line\"},\"selection_glyph\":null,\"view\":{\"id\":\"5e19959e-7d8f-415d-b5bf-649e7d124a98\",\"type\":\"CDSView\"}},\"id\":\"93110bde-3662-41df-b8ca-35b0e502f498\",\"type\":\"GlyphRenderer\"},{\"attributes\":{\"source\":{\"id\":\"fcd87c72-5542-4cc0-97ae-76a425775348\",\"type\":\"ColumnDataSource\"}},\"id\":\"89dce18f-29e0-4372-abd6-8f1c91db2d49\",\"type\":\"CDSView\"},{\"attributes\":{\"callback\":null,\"column_names\":[\"x\",\"y\"],\"data\":{\"x\":{\"__ndarray__\":\"/Dh5FUJc2j9aPMRYCQraP0/An6+Tmdo/sINSzQ8Q2z9iu72cwFHbP6SkTfZLW9s/IQeAhScP2z++Mi25o2LaPwSwfdg9P9k/7ECMxpCS1z+I0+78R0vVP63FArqKYNI/N0BAKSCOzT+XKXuF5OjEP9zIp40Lg7w/6qIyD6oevz8DpGirs1bGPw4LvRfC3sw/DzEUZpAx0j/NJ6dNBzjXPwwQu6WLQ94/4JWPavl95D8WIyJnJ2TqP9T7Wzyb+ek/vOsJnoRK5D/eGMjU2WDePwE4crQVgdY/mPjlxAW90D9Pb04+oODJP5CQWL2JwsQ/UQ80E8pKwD+crQhzxQm4P7XKHjESC7I/e+JNPycLrT8huDmxYS+mP2Tm7rLg950/vwcfspdZlT+TZiYqsfGQP+IFHWUneYA/SKLAhz4bWr/aC3NvAj4wP23Dsfl704s/BnlX7Bgfmj+PJcUqUh+iP3x1kAIEpqY/Ti53embIqj8DlVQa75auP3TJ2NOFDbE/nQZ3LUKtsj/+l0UKYCi0P03rcQrrebU/PI0eOX6atj9O3oZsroe3PwarF2f/SLg/L6uoqJfruD9wx5RCMnq5P55zfUAc+7k/5+7GxN5yuj+USbKzjeS6P6m96+AeU7s/WQ4d0AzBuz/mXAZzJjO8P0PEcvDxrrw/u5obV0w6vT9677ldedq9Pwnr1p20kb4/jAdCT1ZOvz+Cb5o+O+C/Pw6iUngSCcA/CZ0AWFfkvz/ebDm48JO/P/UfRsZyZL8/2ibsDYSFvz8BC2g7CRnAP2tDan8MQsE/\",\"dtype\":\"float64\",\"shape\":[75]},\"y\":{\"__ndarray__\":\"GhExyth1ND/Sv8nbtpRIP2vylNV0PVE/aTum7souWD/At0SJ8fVgPw3Iuahxymc/MSNhhJWvcD/bTfBN02d3P2zb5nxnaoA/CD5h5MAGhz8NmeH1TyaQP+zrCsc9p5Y/LbKd76fGnz/bLW5ISEmmPww9YvTcQq8/JV2OstnstT8Er5Y7M8G+P0c+r3jqkcU/5h99k6ZBzj88bCIzFzjVP4enV8oyxN0//yH99nXg5D8qOpLLf0jtP5kqGJXUifQ/c9cS8kHP/D+/DpwzojQEQIEmwoanVwxA4lgXt9HgE0BSSZ2AJuIbQAMJih9jjiNA5q4l5INuK0AwTKYKRj0zQNv5fmq8/DpAaCJseHrtQkB/+zpwzoxKQM3MzMzMeFJAZmZmZmZqWEAAAAAAAFxeQM3MzMzMJmJAmpmZmZkfZUBmZmZmZhhoQDMzMzMzEWtAAAAAAAAKbkBmZmZmZoFwQM3MzMzM/XFAMzMzMzN6c0CamZmZmfZ0QAAAAAAAc3ZAZmZmZmbvd0DNzMzMzGt5QDMzMzMz6HpAmpmZmZlkfEAAAAAAAOF9QGZmZmZmXX9AZmZmZuZsgECamZmZGSuBQM3MzMxM6YFAAAAAAICngkAzMzMzs2WDQGZmZmbmI4RAmpmZmRnihEDNzMzMTKCFQAAAAACAXoZAMzMzM7Mch0BmZmZm5tqHQJqZmZkZmYhAzczMzExXiUAAAAAAgBWKQDMzMzOz04pAZmZmZuaRi0CamZmZGVCMQM3MzMxMDo1AAAAAAIDMjUAzMzMzs4qOQGZmZmbmSI9A\",\"dtype\":\"float64\",\"shape\":[75]}}},\"id\":\"261917aa-3615-4ee0-8c7a-fb777235d5cd\",\"type\":\"ColumnDataSource\"},{\"attributes\":{\"line_alpha\":0.6,\"line_color\":\"#984ea3\",\"line_width\":3,\"x\":{\"field\":\"x\"},\"y\":{\"field\":\"y\"}},\"id\":\"f6fb2e9e-6503-415b-b532-7d05511e2c73\",\"type\":\"Line\"},{\"attributes\":{\"fill_alpha\":{\"value\":0.7},\"fill_color\":{\"value\":\"#4daf4a\"},\"line_alpha\":{\"value\":0.7},\"line_color\":{\"value\":\"#4daf4a\"},\"x\":{\"field\":\"x\"},\"y\":{\"field\":\"y\"}},\"id\":\"4b9edf2c-f037-4b15-b7d8-d171dce86a4e\",\"type\":\"Circle\"},{\"attributes\":{\"callback\":null,\"column_names\":[\"x\",\"y\"],\"data\":{\"x\":{\"__ndarray__\":\"6p3H2iXP1D8awuWgS+TUP55fHuIAeNU/lJpPnTkb1j+QmPz/uKHWP0AIq04ZBdc/GEa75upA1z87sVE38ULXP2KgRdHR+dY/oWNwcThR1j/NwJ3jHjLVP9TlrnXwfNM/TuCUPxcP0T9fJaisaZDLP0Sa3SYaYsY/jcbK+ncbyD+hgPodpBfOPxQT2YNvE9E/OV7rBR6T0j9Vo3D/4BXVP9BDckk5c9o/0JCVSv0+4j9SqTjj8hboP82+Tkj0POg/dGDYYZVx4z85XjacLj3eP7KyBPs12dc/qxHVIxcN0z+uxFIdlaHOP+mBiIgjTcg/NZNbRwxowj8UY4VUVBy6P03QrgH26bI/j/grcKCNrj9rBe81hjOpP2DCgO4Hm6M/WNCXr8Rznz9ar/KxNueZP1bb182cPY0/MpmeoToqYD/8F3Lte7FmP9zQkJXJwpA/nXUY9VL2nD+kDxJpEjyjP0eVbqXuNac/YtI0Vh2qqj/yF5xD58etPxm48SoIVbA/HfofrbqzsT/u6k3RnQCzPzixPk0uObQ/IQbAqSZWtT/25d9mZEm2Pzt+9AsKJLc/IaRSy0Lptz9gJQU5eKC4PzxtEbBETbk/JFgg1PnvuT/yqHm/u4q6PwkBRcwtHrs/Pt2ZwbSruz89wZFT2zu8P1bXxnQrxrw/5KgGTblgvT/9UUfuEAq+P96B8NZ8xL4/nIzevzmDvz+GC2sJFwvAP/MLqllfJcA/ZKfNlskRwD9sgqqmr9i/PzjR1iDiqr8/6YaXEeXFvz80U/8yPjLAP10Io8dbTME/\",\"dtype\":\"float64\",\"shape\":[75]},\"y\":{\"__ndarray__\":\"GhExyth1ND/Sv8nbtpRIP2vylNV0PVE/aTum7souWD/At0SJ8fVgPw3Iuahxymc/MSNhhJWvcD/bTfBN02d3P2zb5nxnaoA/CD5h5MAGhz8NmeH1TyaQP+zrCsc9p5Y/LbKd76fGnz/bLW5ISEmmPww9YvTcQq8/JV2OstnstT8Er5Y7M8G+P0c+r3jqkcU/5h99k6ZBzj88bCIzFzjVP4enV8oyxN0//yH99nXg5D8qOpLLf0jtP5kqGJXUifQ/c9cS8kHP/D+/DpwzojQEQIEmwoanVwxA4lgXt9HgE0BSSZ2AJuIbQAMJih9jjiNA5q4l5INuK0AwTKYKRj0zQNv5fmq8/DpAaCJseHrtQkB/+zpwzoxKQM3MzMzMeFJAZmZmZmZqWEAAAAAAAFxeQM3MzMzMJmJAmpmZmZkfZUBmZmZmZhhoQDMzMzMzEWtAAAAAAAAKbkBmZmZmZoFwQM3MzMzM/XFAMzMzMzN6c0CamZmZmfZ0QAAAAAAAc3ZAZmZmZmbvd0DNzMzMzGt5QDMzMzMz6HpAmpmZmZlkfEAAAAAAAOF9QGZmZmZmXX9AZmZmZuZsgECamZmZGSuBQM3MzMxM6YFAAAAAAICngkAzMzMzs2WDQGZmZmbmI4RAmpmZmRnihEDNzMzMTKCFQAAAAACAXoZAMzMzM7Mch0BmZmZm5tqHQJqZmZkZmYhAzczMzExXiUAAAAAAgBWKQDMzMzOz04pAZmZmZuaRi0CamZmZGVCMQM3MzMxMDo1AAAAAAIDMjUAzMzMzs4qOQGZmZmbmSI9A\",\"dtype\":\"float64\",\"shape\":[75]}}},\"id\":\"2d7021f3-7ffb-4ee9-ae92-27ebb6b97e93\",\"type\":\"ColumnDataSource\"},{\"attributes\":{\"line_alpha\":0.1,\"line_color\":\"#1f77b4\",\"line_dash\":[6],\"line_width\":5,\"x\":{\"field\":\"x\"},\"y\":{\"field\":\"y\"}},\"id\":\"ce5aa8dd-e99d-42f9-81c4-614bd7d6a322\",\"type\":\"Line\"},{\"attributes\":{\"fill_alpha\":{\"value\":0.7},\"fill_color\":{\"value\":\"#984ea3\"},\"line_alpha\":{\"value\":0.7},\"line_color\":{\"value\":\"#984ea3\"},\"x\":{\"field\":\"x\"},\"y\":{\"field\":\"y\"}},\"id\":\"8947b479-69b4-4661-a979-21a9817e9fdc\",\"type\":\"Square\"},{\"attributes\":{},\"id\":\"6f34e8b8-157a-46a1-a7ad-eddf494a636f\",\"type\":\"BasicTickFormatter\"},{\"attributes\":{\"source\":{\"id\":\"0f98c4d0-97fa-40a9-90c1-68ac7bf08c5f\",\"type\":\"ColumnDataSource\"}},\"id\":\"5e19959e-7d8f-415d-b5bf-649e7d124a98\",\"type\":\"CDSView\"},{\"attributes\":{\"ticker\":null},\"id\":\"1dc6240c-4854-41c5-8714-b226960774fa\",\"type\":\"LogTickFormatter\"},{\"attributes\":{},\"id\":\"2c0220f9-bffa-4077-beb7-47ca81fe53cb\",\"type\":\"WheelZoomTool\"},{\"attributes\":{\"callback\":null,\"column_names\":[\"x\",\"y\"],\"data\":{\"x\":{\"__ndarray__\":\"/Dh5FUJc2j9aPMRYCQraP0/An6+Tmdo/sINSzQ8Q2z9iu72cwFHbP6SkTfZLW9s/IQeAhScP2z++Mi25o2LaPwSwfdg9P9k/7ECMxpCS1z+I0+78R0vVP63FArqKYNI/N0BAKSCOzT+XKXuF5OjEP9zIp40Lg7w/6qIyD6oevz8DpGirs1bGPw4LvRfC3sw/DzEUZpAx0j/NJ6dNBzjXPwwQu6WLQ94/4JWPavl95D8WIyJnJ2TqP9T7Wzyb+ek/vOsJnoRK5D/eGMjU2WDePwE4crQVgdY/mPjlxAW90D9Pb04+oODJP5CQWL2JwsQ/UQ80E8pKwD+crQhzxQm4P7XKHjESC7I/e+JNPycLrT8huDmxYS+mP2Tm7rLg950/vwcfspdZlT+TZiYqsfGQP+IFHWUneYA/SKLAhz4bWr/aC3NvAj4wP23Dsfl704s/BnlX7Bgfmj+PJcUqUh+iP3x1kAIEpqY/Ti53embIqj8DlVQa75auP3TJ2NOFDbE/nQZ3LUKtsj/+l0UKYCi0P03rcQrrebU/PI0eOX6atj9O3oZsroe3PwarF2f/SLg/L6uoqJfruD9wx5RCMnq5P55zfUAc+7k/5+7GxN5yuj+USbKzjeS6P6m96+AeU7s/WQ4d0AzBuz/mXAZzJjO8P0PEcvDxrrw/u5obV0w6vT9677ldedq9Pwnr1p20kb4/jAdCT1ZOvz+Cb5o+O+C/Pw6iUngSCcA/CZ0AWFfkvz/ebDm48JO/P/UfRsZyZL8/2ibsDYSFvz8BC2g7CRnAP2tDan8MQsE/\",\"dtype\":\"float64\",\"shape\":[75]},\"y\":{\"__ndarray__\":\"GhExyth1ND/Sv8nbtpRIP2vylNV0PVE/aTum7souWD/At0SJ8fVgPw3Iuahxymc/MSNhhJWvcD/bTfBN02d3P2zb5nxnaoA/CD5h5MAGhz8NmeH1TyaQP+zrCsc9p5Y/LbKd76fGnz/bLW5ISEmmPww9YvTcQq8/JV2OstnstT8Er5Y7M8G+P0c+r3jqkcU/5h99k6ZBzj88bCIzFzjVP4enV8oyxN0//yH99nXg5D8qOpLLf0jtP5kqGJXUifQ/c9cS8kHP/D+/DpwzojQEQIEmwoanVwxA4lgXt9HgE0BSSZ2AJuIbQAMJih9jjiNA5q4l5INuK0AwTKYKRj0zQNv5fmq8/DpAaCJseHrtQkB/+zpwzoxKQM3MzMzMeFJAZmZmZmZqWEAAAAAAAFxeQM3MzMzMJmJAmpmZmZkfZUBmZmZmZhhoQDMzMzMzEWtAAAAAAAAKbkBmZmZmZoFwQM3MzMzM/XFAMzMzMzN6c0CamZmZmfZ0QAAAAAAAc3ZAZmZmZmbvd0DNzMzMzGt5QDMzMzMz6HpAmpmZmZlkfEAAAAAAAOF9QGZmZmZmXX9AZmZmZuZsgECamZmZGSuBQM3MzMxM6YFAAAAAAICngkAzMzMzs2WDQGZmZmbmI4RAmpmZmRnihEDNzMzMTKCFQAAAAACAXoZAMzMzM7Mch0BmZmZm5tqHQJqZmZkZmYhAzczMzExXiUAAAAAAgBWKQDMzMzOz04pAZmZmZuaRi0CamZmZGVCMQM3MzMxMDo1AAAAAAIDMjUAzMzMzs4qOQGZmZmbmSI9A\",\"dtype\":\"float64\",\"shape\":[75]}}},\"id\":\"f5bf193a-f445-4569-9147-fb611ff14dd1\",\"type\":\"ColumnDataSource\"},{\"attributes\":{\"line_alpha\":0.1,\"line_color\":\"#1f77b4\",\"line_width\":1.5,\"x\":{\"field\":\"x\"},\"y\":{\"field\":\"y\"}},\"id\":\"1f0d22ec-2c69-4351-b502-90c8f3d0df85\",\"type\":\"Line\"},{\"attributes\":{\"active_drag\":\"auto\",\"active_inspect\":\"auto\",\"active_scroll\":\"auto\",\"active_tap\":\"auto\",\"tools\":[{\"id\":\"0e4ff6fa-b618-426b-b8d3-93760574bd0c\",\"type\":\"PanTool\"},{\"id\":\"4cb4741c-ec0b-49ca-894f-fe8b34b139c6\",\"type\":\"WheelZoomTool\"},{\"id\":\"d8001054-1044-4aef-961c-e164baa40423\",\"type\":\"BoxZoomTool\"},{\"id\":\"4ef1b1e4-b6a3-42e8-8093-42e9fba4aeaa\",\"type\":\"SaveTool\"},{\"id\":\"243df105-bc2e-4a69-a6c0-e2862bd2e7d4\",\"type\":\"ResetTool\"},{\"id\":\"57331759-511c-4343-9e61-6b45a75b0be2\",\"type\":\"HelpTool\"}]},\"id\":\"bc863fe7-6d6c-465c-be1d-fae20379fff7\",\"type\":\"Toolbar\"},{\"attributes\":{\"source\":{\"id\":\"c1e37e1a-0ed3-4753-9900-9bcc3030670b\",\"type\":\"ColumnDataSource\"}},\"id\":\"e65637eb-f554-459d-bff1-770bfe5e894d\",\"type\":\"CDSView\"},{\"attributes\":{\"source\":{\"id\":\"f5bf193a-f445-4569-9147-fb611ff14dd1\",\"type\":\"ColumnDataSource\"}},\"id\":\"6f7698be-7f2a-4a0e-8361-8170ad53ee18\",\"type\":\"CDSView\"},{\"attributes\":{\"axis_label\":\"pressure [mb]\",\"formatter\":{\"id\":\"1dc6240c-4854-41c5-8714-b226960774fa\",\"type\":\"LogTickFormatter\"},\"plot\":{\"id\":\"7be7083a-eebc-42ea-ad4c-c2b33a432bd6\",\"subtype\":\"Figure\",\"type\":\"Plot\"},\"ticker\":{\"id\":\"45e35812-7705-44b8-9a39-6dc32c0caa23\",\"type\":\"LogTicker\"}},\"id\":\"f0041be6-29a1-4860-9369-f32ae7f4963c\",\"type\":\"LogAxis\"},{\"attributes\":{\"line_color\":\"#4daf4a\",\"line_width\":1.5,\"x\":{\"field\":\"x\"},\"y\":{\"field\":\"y\"}},\"id\":\"61f1d580-8046-4846-bebb-6c1da50eea74\",\"type\":\"Line\"},{\"attributes\":{\"overlay\":{\"id\":\"367e18b3-7528-489b-85b5-f75442d5ab21\",\"type\":\"BoxAnnotation\"}},\"id\":\"2aae793c-991e-4caa-86b7-b75b94a99c73\",\"type\":\"BoxZoomTool\"},{\"attributes\":{\"data_source\":{\"id\":\"261917aa-3615-4ee0-8c7a-fb777235d5cd\",\"type\":\"ColumnDataSource\"},\"glyph\":{\"id\":\"61f1d580-8046-4846-bebb-6c1da50eea74\",\"type\":\"Line\"},\"hover_glyph\":null,\"muted_glyph\":null,\"nonselection_glyph\":{\"id\":\"1f0d22ec-2c69-4351-b502-90c8f3d0df85\",\"type\":\"Line\"},\"selection_glyph\":null,\"view\":{\"id\":\"88a816c7-07a0-4ef9-b6d5-ced26b3a334e\",\"type\":\"CDSView\"}},\"id\":\"85aa15a9-ab5a-4097-8e4d-13445665c238\",\"type\":\"GlyphRenderer\"},{\"attributes\":{\"fill_alpha\":{\"value\":0.1},\"fill_color\":{\"value\":\"#1f77b4\"},\"line_alpha\":{\"value\":0.1},\"line_color\":{\"value\":\"#1f77b4\"},\"x\":{\"field\":\"x\"},\"y\":{\"field\":\"y\"}},\"id\":\"8ebca10f-63e4-4897-910c-310995024eb3\",\"type\":\"Circle\"},{\"attributes\":{\"data_source\":{\"id\":\"c1e37e1a-0ed3-4753-9900-9bcc3030670b\",\"type\":\"ColumnDataSource\"},\"glyph\":{\"id\":\"f6fb2e9e-6503-415b-b532-7d05511e2c73\",\"type\":\"Line\"},\"hover_glyph\":null,\"muted_glyph\":null,\"nonselection_glyph\":{\"id\":\"196d4602-e928-450f-90e6-ce0db36dee69\",\"type\":\"Line\"},\"selection_glyph\":null,\"view\":{\"id\":\"e65637eb-f554-459d-bff1-770bfe5e894d\",\"type\":\"CDSView\"}},\"id\":\"312f279f-3e9a-4c7f-8fa6-9699d39f0569\",\"type\":\"GlyphRenderer\"},{\"attributes\":{\"dimension\":1,\"plot\":{\"id\":\"7be7083a-eebc-42ea-ad4c-c2b33a432bd6\",\"subtype\":\"Figure\",\"type\":\"Plot\"},\"ticker\":{\"id\":\"45e35812-7705-44b8-9a39-6dc32c0caa23\",\"type\":\"LogTicker\"}},\"id\":\"e2070ed7-e0ec-45c8-ac8b-bd99e2d70949\",\"type\":\"Grid\"},{\"attributes\":{\"callback\":null,\"end\":0.9764732088270001,\"start\":-0.011953591527},\"id\":\"91ed79c9-bd25-4f50-aeaf-5fa34b66df4a\",\"type\":\"Range1d\"},{\"attributes\":{\"below\":[{\"id\":\"50ab1e02-675b-43e8-8f59-dbb2cc2b1457\",\"type\":\"LinearAxis\"}],\"left\":[{\"id\":\"f0041be6-29a1-4860-9369-f32ae7f4963c\",\"type\":\"LogAxis\"}],\"plot_height\":500,\"plot_width\":560,\"renderers\":[{\"id\":\"50ab1e02-675b-43e8-8f59-dbb2cc2b1457\",\"type\":\"LinearAxis\"},{\"id\":\"9b63737f-5ed9-44bc-a73b-bc6f352c7088\",\"type\":\"Grid\"},{\"id\":\"f0041be6-29a1-4860-9369-f32ae7f4963c\",\"type\":\"LogAxis\"},{\"id\":\"e2070ed7-e0ec-45c8-ac8b-bd99e2d70949\",\"type\":\"Grid\"},{\"id\":\"367e18b3-7528-489b-85b5-f75442d5ab21\",\"type\":\"BoxAnnotation\"},{\"id\":\"93110bde-3662-41df-b8ca-35b0e502f498\",\"type\":\"GlyphRenderer\"},{\"id\":\"0abd2564-bc48-4f9c-b540-e4d076635576\",\"type\":\"GlyphRenderer\"},{\"id\":\"85aa15a9-ab5a-4097-8e4d-13445665c238\",\"type\":\"GlyphRenderer\"},{\"id\":\"2f590227-28a0-4004-ba3b-3f4165b99b2a\",\"type\":\"GlyphRenderer\"},{\"id\":\"f5c8bf81-41d4-45a0-be10-1e4180faf88c\",\"type\":\"GlyphRenderer\"},{\"id\":\"6eeefa6e-312b-4c4f-984c-9ade6bb9d224\",\"type\":\"Legend\"}],\"right\":[{\"id\":\"6eeefa6e-312b-4c4f-984c-9ade6bb9d224\",\"type\":\"Legend\"}],\"title\":{\"id\":\"e1d05605-3324-4eb7-9266-3284e27c44d5\",\"type\":\"Title\"},\"toolbar\":{\"id\":\"3347e8dc-1092-4a67-b32d-ab23dbf96c29\",\"type\":\"Toolbar\"},\"toolbar_location\":null,\"x_range\":{\"id\":\"91ed79c9-bd25-4f50-aeaf-5fa34b66df4a\",\"type\":\"Range1d\"},\"x_scale\":{\"id\":\"cc770225-6d43-44b8-86ca-fa36d8721953\",\"type\":\"LinearScale\"},\"y_range\":{\"id\":\"9b44be2c-cfb0-4c27-8322-7e164899775b\",\"type\":\"Range1d\"},\"y_scale\":{\"id\":\"4d4f1435-78bd-4ddd-b423-e7af68cb18d5\",\"type\":\"LogScale\"}},\"id\":\"7be7083a-eebc-42ea-ad4c-c2b33a432bd6\",\"subtype\":\"Figure\",\"type\":\"Plot\"},{\"attributes\":{\"callback\":null,\"column_names\":[\"x\",\"y\"],\"data\":{\"x\":{\"__ndarray__\":\"6p3H2iXP1D8awuWgS+TUP55fHuIAeNU/lJpPnTkb1j+QmPz/uKHWP0AIq04ZBdc/GEa75upA1z87sVE38ULXP2KgRdHR+dY/oWNwcThR1j/NwJ3jHjLVP9TlrnXwfNM/TuCUPxcP0T9fJaisaZDLP0Sa3SYaYsY/jcbK+ncbyD+hgPodpBfOPxQT2YNvE9E/OV7rBR6T0j9Vo3D/4BXVP9BDckk5c9o/0JCVSv0+4j9SqTjj8hboP82+Tkj0POg/dGDYYZVx4z85XjacLj3eP7KyBPs12dc/qxHVIxcN0z+uxFIdlaHOP+mBiIgjTcg/NZNbRwxowj8UY4VUVBy6P03QrgH26bI/j/grcKCNrj9rBe81hjOpP2DCgO4Hm6M/WNCXr8Rznz9ar/KxNueZP1bb182cPY0/MpmeoToqYD/8F3Lte7FmP9zQkJXJwpA/nXUY9VL2nD+kDxJpEjyjP0eVbqXuNac/YtI0Vh2qqj/yF5xD58etPxm48SoIVbA/HfofrbqzsT/u6k3RnQCzPzixPk0uObQ/IQbAqSZWtT/25d9mZEm2Pzt+9AsKJLc/IaRSy0Lptz9gJQU5eKC4PzxtEbBETbk/JFgg1PnvuT/yqHm/u4q6PwkBRcwtHrs/Pt2ZwbSruz89wZFT2zu8P1bXxnQrxrw/5KgGTblgvT/9UUfuEAq+P96B8NZ8xL4/nIzevzmDvz+GC2sJFwvAP/MLqllfJcA/ZKfNlskRwD9sgqqmr9i/PzjR1iDiqr8/6YaXEeXFvz80U/8yPjLAP10Io8dbTME/\",\"dtype\":\"float64\",\"shape\":[75]},\"y\":{\"__ndarray__\":\"GhExyth1ND/Sv8nbtpRIP2vylNV0PVE/aTum7souWD/At0SJ8fVgPw3Iuahxymc/MSNhhJWvcD/bTfBN02d3P2zb5nxnaoA/CD5h5MAGhz8NmeH1TyaQP+zrCsc9p5Y/LbKd76fGnz/bLW5ISEmmPww9YvTcQq8/JV2OstnstT8Er5Y7M8G+P0c+r3jqkcU/5h99k6ZBzj88bCIzFzjVP4enV8oyxN0//yH99nXg5D8qOpLLf0jtP5kqGJXUifQ/c9cS8kHP/D+/DpwzojQEQIEmwoanVwxA4lgXt9HgE0BSSZ2AJuIbQAMJih9jjiNA5q4l5INuK0AwTKYKRj0zQNv5fmq8/DpAaCJseHrtQkB/+zpwzoxKQM3MzMzMeFJAZmZmZmZqWEAAAAAAAFxeQM3MzMzMJmJAmpmZmZkfZUBmZmZmZhhoQDMzMzMzEWtAAAAAAAAKbkBmZmZmZoFwQM3MzMzM/XFAMzMzMzN6c0CamZmZmfZ0QAAAAAAAc3ZAZmZmZmbvd0DNzMzMzGt5QDMzMzMz6HpAmpmZmZlkfEAAAAAAAOF9QGZmZmZmXX9AZmZmZuZsgECamZmZGSuBQM3MzMxM6YFAAAAAAICngkAzMzMzs2WDQGZmZmbmI4RAmpmZmRnihEDNzMzMTKCFQAAAAACAXoZAMzMzM7Mch0BmZmZm5tqHQJqZmZkZmYhAzczMzExXiUAAAAAAgBWKQDMzMzOz04pAZmZmZuaRi0CamZmZGVCMQM3MzMxMDo1AAAAAAIDMjUAzMzMzs4qOQGZmZmbmSI9A\",\"dtype\":\"float64\",\"shape\":[75]}}},\"id\":\"f7c38622-59e5-4f13-8e28-2850d546b8e5\",\"type\":\"ColumnDataSource\"},{\"attributes\":{\"source\":{\"id\":\"261917aa-3615-4ee0-8c7a-fb777235d5cd\",\"type\":\"ColumnDataSource\"}},\"id\":\"88a816c7-07a0-4ef9-b6d5-ced26b3a334e\",\"type\":\"CDSView\"},{\"attributes\":{},\"id\":\"beae4237-678c-4f7f-af92-49277aa67679\",\"type\":\"LinearScale\"},{\"attributes\":{\"fill_alpha\":{\"value\":0.1},\"fill_color\":{\"value\":\"#1f77b4\"},\"line_alpha\":{\"value\":0.1},\"line_color\":{\"value\":\"#1f77b4\"},\"x\":{\"field\":\"x\"},\"y\":{\"field\":\"y\"}},\"id\":\"32b97a31-588d-4da7-b152-8c0592af9947\",\"type\":\"Square\"},{\"attributes\":{\"fill_alpha\":{\"value\":0.7},\"fill_color\":{\"value\":\"#984ea3\"},\"line_alpha\":{\"value\":0.7},\"line_color\":{\"value\":\"#984ea3\"},\"x\":{\"field\":\"x\"},\"y\":{\"field\":\"y\"}},\"id\":\"94adde41-2821-414a-bf2e-3cb68d9091c3\",\"type\":\"Square\"},{\"attributes\":{\"plot\":null,\"text\":\"Log pressure scale\"},\"id\":\"e1d05605-3324-4eb7-9266-3284e27c44d5\",\"type\":\"Title\"},{\"attributes\":{\"data_source\":{\"id\":\"2d7021f3-7ffb-4ee9-ae92-27ebb6b97e93\",\"type\":\"ColumnDataSource\"},\"glyph\":{\"id\":\"94adde41-2821-414a-bf2e-3cb68d9091c3\",\"type\":\"Square\"},\"hover_glyph\":null,\"muted_glyph\":null,\"nonselection_glyph\":{\"id\":\"d01347c7-1950-4cee-a829-2bdb56f057de\",\"type\":\"Square\"},\"selection_glyph\":null,\"view\":{\"id\":\"b938de64-8904-4bd7-bee7-01603fe88f7f\",\"type\":\"CDSView\"}},\"id\":\"2f590227-28a0-4004-ba3b-3f4165b99b2a\",\"type\":\"GlyphRenderer\"},{\"attributes\":{},\"id\":\"cc770225-6d43-44b8-86ca-fa36d8721953\",\"type\":\"LinearScale\"},{\"attributes\":{},\"id\":\"4d4f1435-78bd-4ddd-b423-e7af68cb18d5\",\"type\":\"LogScale\"},{\"attributes\":{\"fill_alpha\":{\"value\":0.1},\"fill_color\":{\"value\":\"#1f77b4\"},\"line_alpha\":{\"value\":0.1},\"line_color\":{\"value\":\"#1f77b4\"},\"x\":{\"field\":\"x\"},\"y\":{\"field\":\"y\"}},\"id\":\"d01347c7-1950-4cee-a829-2bdb56f057de\",\"type\":\"Square\"},{\"attributes\":{\"axis_label\":\"cooling rate [K/day]\",\"formatter\":{\"id\":\"c2db740e-3260-4420-8d7f-a5042f8e655a\",\"type\":\"BasicTickFormatter\"},\"plot\":{\"id\":\"d4a0e117-e2c5-40dc-882e-3c0e65c0de2a\",\"subtype\":\"Figure\",\"type\":\"Plot\"},\"ticker\":{\"id\":\"5c4413e1-509e-4224-b704-9f0b21321c71\",\"type\":\"BasicTicker\"}},\"id\":\"14247a56-27c3-4252-9c9b-32d35636d511\",\"type\":\"LinearAxis\"},{\"attributes\":{\"line_alpha\":0.1,\"line_color\":\"#1f77b4\",\"line_width\":3,\"x\":{\"field\":\"x\"},\"y\":{\"field\":\"y\"}},\"id\":\"196d4602-e928-450f-90e6-ce0db36dee69\",\"type\":\"Line\"},{\"attributes\":{\"source\":{\"id\":\"2d7021f3-7ffb-4ee9-ae92-27ebb6b97e93\",\"type\":\"ColumnDataSource\"}},\"id\":\"b938de64-8904-4bd7-bee7-01603fe88f7f\",\"type\":\"CDSView\"},{\"attributes\":{},\"id\":\"2d37a8da-c36a-4872-afaf-364fd7e215e7\",\"type\":\"HelpTool\"},{\"attributes\":{\"line_alpha\":0.6,\"line_color\":\"#984ea3\",\"line_width\":3,\"x\":{\"field\":\"x\"},\"y\":{\"field\":\"y\"}},\"id\":\"dfe7bd61-70a8-4ab0-89c5-299859abe016\",\"type\":\"Line\"},{\"attributes\":{\"callback\":null,\"end\":0.01,\"start\":1020},\"id\":\"75f313f0-950e-40f8-b741-945bad2bd566\",\"type\":\"Range1d\"},{\"attributes\":{\"callback\":null,\"column_names\":[\"x\",\"y\"],\"data\":{\"x\":{\"__ndarray__\":\"6p3H2iXP1D8awuWgS+TUP55fHuIAeNU/lJpPnTkb1j+QmPz/uKHWP0AIq04ZBdc/GEa75upA1z87sVE38ULXP2KgRdHR+dY/oWNwcThR1j/NwJ3jHjLVP9TlrnXwfNM/TuCUPxcP0T9fJaisaZDLP0Sa3SYaYsY/jcbK+ncbyD+hgPodpBfOPxQT2YNvE9E/OV7rBR6T0j9Vo3D/4BXVP9BDckk5c9o/0JCVSv0+4j9SqTjj8hboP82+Tkj0POg/dGDYYZVx4z85XjacLj3eP7KyBPs12dc/qxHVIxcN0z+uxFIdlaHOP+mBiIgjTcg/NZNbRwxowj8UY4VUVBy6P03QrgH26bI/j/grcKCNrj9rBe81hjOpP2DCgO4Hm6M/WNCXr8Rznz9ar/KxNueZP1bb182cPY0/MpmeoToqYD/8F3Lte7FmP9zQkJXJwpA/nXUY9VL2nD+kDxJpEjyjP0eVbqXuNac/YtI0Vh2qqj/yF5xD58etPxm48SoIVbA/HfofrbqzsT/u6k3RnQCzPzixPk0uObQ/IQbAqSZWtT/25d9mZEm2Pzt+9AsKJLc/IaRSy0Lptz9gJQU5eKC4PzxtEbBETbk/JFgg1PnvuT/yqHm/u4q6PwkBRcwtHrs/Pt2ZwbSruz89wZFT2zu8P1bXxnQrxrw/5KgGTblgvT/9UUfuEAq+P96B8NZ8xL4/nIzevzmDvz+GC2sJFwvAP/MLqllfJcA/ZKfNlskRwD9sgqqmr9i/PzjR1iDiqr8/6YaXEeXFvz80U/8yPjLAP10Io8dbTME/\",\"dtype\":\"float64\",\"shape\":[75]},\"y\":{\"__ndarray__\":\"GhExyth1ND/Sv8nbtpRIP2vylNV0PVE/aTum7souWD/At0SJ8fVgPw3Iuahxymc/MSNhhJWvcD/bTfBN02d3P2zb5nxnaoA/CD5h5MAGhz8NmeH1TyaQP+zrCsc9p5Y/LbKd76fGnz/bLW5ISEmmPww9YvTcQq8/JV2OstnstT8Er5Y7M8G+P0c+r3jqkcU/5h99k6ZBzj88bCIzFzjVP4enV8oyxN0//yH99nXg5D8qOpLLf0jtP5kqGJXUifQ/c9cS8kHP/D+/DpwzojQEQIEmwoanVwxA4lgXt9HgE0BSSZ2AJuIbQAMJih9jjiNA5q4l5INuK0AwTKYKRj0zQNv5fmq8/DpAaCJseHrtQkB/+zpwzoxKQM3MzMzMeFJAZmZmZmZqWEAAAAAAAFxeQM3MzMzMJmJAmpmZmZkfZUBmZmZmZhhoQDMzMzMzEWtAAAAAAAAKbkBmZmZmZoFwQM3MzMzM/XFAMzMzMzN6c0CamZmZmfZ0QAAAAAAAc3ZAZmZmZmbvd0DNzMzMzGt5QDMzMzMz6HpAmpmZmZlkfEAAAAAAAOF9QGZmZmZmXX9AZmZmZuZsgECamZmZGSuBQM3MzMxM6YFAAAAAAICngkAzMzMzs2WDQGZmZmbmI4RAmpmZmRnihEDNzMzMTKCFQAAAAACAXoZAMzMzM7Mch0BmZmZm5tqHQJqZmZkZmYhAzczMzExXiUAAAAAAgBWKQDMzMzOz04pAZmZmZuaRi0CamZmZGVCMQM3MzMxMDo1AAAAAAIDMjUAzMzMzs4qOQGZmZmbmSI9A\",\"dtype\":\"float64\",\"shape\":[75]}}},\"id\":\"fcd87c72-5542-4cc0-97ae-76a425775348\",\"type\":\"ColumnDataSource\"},{\"attributes\":{\"line_alpha\":0.6,\"line_color\":\"#e41a1c\",\"line_dash\":[6],\"line_width\":5,\"x\":{\"field\":\"x\"},\"y\":{\"field\":\"y\"}},\"id\":\"48f83b3a-29a4-4e7a-b2f1-4fed3d78067f\",\"type\":\"Line\"},{\"attributes\":{\"data_source\":{\"id\":\"f7c38622-59e5-4f13-8e28-2850d546b8e5\",\"type\":\"ColumnDataSource\"},\"glyph\":{\"id\":\"dfe7bd61-70a8-4ab0-89c5-299859abe016\",\"type\":\"Line\"},\"hover_glyph\":null,\"muted_glyph\":null,\"nonselection_glyph\":{\"id\":\"ddb228ad-2d6f-4b48-9493-d87195e8e0b9\",\"type\":\"Line\"},\"selection_glyph\":null,\"view\":{\"id\":\"4f525d2a-6755-4719-a318-9d55c8082027\",\"type\":\"CDSView\"}},\"id\":\"f5c8bf81-41d4-45a0-be10-1e4180faf88c\",\"type\":\"GlyphRenderer\"},{\"attributes\":{},\"id\":\"3c85730b-b3e0-4df5-af34-3ef175a0ea3d\",\"type\":\"SaveTool\"},{\"attributes\":{\"line_alpha\":0.1,\"line_color\":\"#1f77b4\",\"line_width\":3,\"x\":{\"field\":\"x\"},\"y\":{\"field\":\"y\"}},\"id\":\"ddb228ad-2d6f-4b48-9493-d87195e8e0b9\",\"type\":\"Line\"},{\"attributes\":{},\"id\":\"c1b831aa-f74c-4194-8835-ae1ba4fbbe1e\",\"type\":\"BasicTicker\"},{\"attributes\":{\"source\":{\"id\":\"f7c38622-59e5-4f13-8e28-2850d546b8e5\",\"type\":\"ColumnDataSource\"}},\"id\":\"4f525d2a-6755-4719-a318-9d55c8082027\",\"type\":\"CDSView\"},{\"attributes\":{\"items\":[{\"id\":\"e8db37ae-877c-4061-a484-e9c12b6ee7b4\",\"type\":\"LegendItem\"},{\"id\":\"23e81f4b-ce07-43f8-9fd6-132a8d5e2c3b\",\"type\":\"LegendItem\"},{\"id\":\"948b5de4-e049-4ad4-af04-964e15c53023\",\"type\":\"LegendItem\"}],\"label_text_font_size\":{\"value\":\"8pt\"},\"location\":[10,-30],\"plot\":{\"id\":\"7be7083a-eebc-42ea-ad4c-c2b33a432bd6\",\"subtype\":\"Figure\",\"type\":\"Plot\"}},\"id\":\"6eeefa6e-312b-4c4f-984c-9ade6bb9d224\",\"type\":\"Legend\"},{\"attributes\":{\"callback\":null,\"column_names\":[\"x\",\"y\"],\"data\":{\"x\":{\"__ndarray__\":\"6p3H2iXP1D8awuWgS+TUP55fHuIAeNU/lJpPnTkb1j+QmPz/uKHWP0AIq04ZBdc/GEa75upA1z87sVE38ULXP2KgRdHR+dY/oWNwcThR1j/NwJ3jHjLVP9TlrnXwfNM/TuCUPxcP0T9fJaisaZDLP0Sa3SYaYsY/jcbK+ncbyD+hgPodpBfOPxQT2YNvE9E/OV7rBR6T0j9Vo3D/4BXVP9BDckk5c9o/0JCVSv0+4j9SqTjj8hboP82+Tkj0POg/dGDYYZVx4z85XjacLj3eP7KyBPs12dc/qxHVIxcN0z+uxFIdlaHOP+mBiIgjTcg/NZNbRwxowj8UY4VUVBy6P03QrgH26bI/j/grcKCNrj9rBe81hjOpP2DCgO4Hm6M/WNCXr8Rznz9ar/KxNueZP1bb182cPY0/MpmeoToqYD/8F3Lte7FmP9zQkJXJwpA/nXUY9VL2nD+kDxJpEjyjP0eVbqXuNac/YtI0Vh2qqj/yF5xD58etPxm48SoIVbA/HfofrbqzsT/u6k3RnQCzPzixPk0uObQ/IQbAqSZWtT/25d9mZEm2Pzt+9AsKJLc/IaRSy0Lptz9gJQU5eKC4PzxtEbBETbk/JFgg1PnvuT/yqHm/u4q6PwkBRcwtHrs/Pt2ZwbSruz89wZFT2zu8P1bXxnQrxrw/5KgGTblgvT/9UUfuEAq+P96B8NZ8xL4/nIzevzmDvz+GC2sJFwvAP/MLqllfJcA/ZKfNlskRwD9sgqqmr9i/PzjR1iDiqr8/6YaXEeXFvz80U/8yPjLAP10Io8dbTME/\",\"dtype\":\"float64\",\"shape\":[75]},\"y\":{\"__ndarray__\":\"GhExyth1ND/Sv8nbtpRIP2vylNV0PVE/aTum7souWD/At0SJ8fVgPw3Iuahxymc/MSNhhJWvcD/bTfBN02d3P2zb5nxnaoA/CD5h5MAGhz8NmeH1TyaQP+zrCsc9p5Y/LbKd76fGnz/bLW5ISEmmPww9YvTcQq8/JV2OstnstT8Er5Y7M8G+P0c+r3jqkcU/5h99k6ZBzj88bCIzFzjVP4enV8oyxN0//yH99nXg5D8qOpLLf0jtP5kqGJXUifQ/c9cS8kHP/D+/DpwzojQEQIEmwoanVwxA4lgXt9HgE0BSSZ2AJuIbQAMJih9jjiNA5q4l5INuK0AwTKYKRj0zQNv5fmq8/DpAaCJseHrtQkB/+zpwzoxKQM3MzMzMeFJAZmZmZmZqWEAAAAAAAFxeQM3MzMzMJmJAmpmZmZkfZUBmZmZmZhhoQDMzMzMzEWtAAAAAAAAKbkBmZmZmZoFwQM3MzMzM/XFAMzMzMzN6c0CamZmZmfZ0QAAAAAAAc3ZAZmZmZmbvd0DNzMzMzGt5QDMzMzMz6HpAmpmZmZlkfEAAAAAAAOF9QGZmZmZmXX9AZmZmZuZsgECamZmZGSuBQM3MzMxM6YFAAAAAAICngkAzMzMzs2WDQGZmZmbmI4RAmpmZmRnihEDNzMzMTKCFQAAAAACAXoZAMzMzM7Mch0BmZmZm5tqHQJqZmZkZmYhAzczMzExXiUAAAAAAgBWKQDMzMzOz04pAZmZmZuaRi0CamZmZGVCMQM3MzMxMDo1AAAAAAIDMjUAzMzMzs4qOQGZmZmbmSI9A\",\"dtype\":\"float64\",\"shape\":[75]}}},\"id\":\"c1e37e1a-0ed3-4753-9900-9bcc3030670b\",\"type\":\"ColumnDataSource\"},{\"attributes\":{\"children\":[{\"id\":\"7b46769c-4bae-4f3d-ab88-50a557f54459\",\"type\":\"ToolbarBox\"},{\"id\":\"166e6996-e6ff-426b-87f3-d7ffb1b603aa\",\"type\":\"Column\"}]},\"id\":\"ddf4516a-ac5a-41af-aba4-9d16f412f41b\",\"type\":\"Column\"},{\"attributes\":{\"bottom_units\":\"screen\",\"fill_alpha\":{\"value\":0.5},\"fill_color\":{\"value\":\"lightgrey\"},\"left_units\":\"screen\",\"level\":\"overlay\",\"line_alpha\":{\"value\":1.0},\"line_color\":{\"value\":\"black\"},\"line_dash\":[4,4],\"line_width\":{\"value\":2},\"plot\":null,\"render_mode\":\"css\",\"right_units\":\"screen\",\"top_units\":\"screen\"},\"id\":\"7fd50fcd-e470-4f59-b616-529624e097a4\",\"type\":\"BoxAnnotation\"},{\"attributes\":{\"dimension\":1,\"plot\":{\"id\":\"d4a0e117-e2c5-40dc-882e-3c0e65c0de2a\",\"subtype\":\"Figure\",\"type\":\"Plot\"},\"ticker\":{\"id\":\"c1b831aa-f74c-4194-8835-ae1ba4fbbe1e\",\"type\":\"BasicTicker\"}},\"id\":\"2e273945-9c8c-4204-a68a-6911f20a4fc5\",\"type\":\"Grid\"},{\"attributes\":{\"label\":{\"value\":\"CLIRAD `coolr_bands`\"},\"renderers\":[{\"id\":\"93110bde-3662-41df-b8ca-35b0e502f498\",\"type\":\"GlyphRenderer\"}]},\"id\":\"e8db37ae-877c-4061-a484-e9c12b6ee7b4\",\"type\":\"LegendItem\"},{\"attributes\":{\"below\":[{\"id\":\"14247a56-27c3-4252-9c9b-32d35636d511\",\"type\":\"LinearAxis\"}],\"left\":[{\"id\":\"f4a89faa-5bf5-4be2-8d6d-b97659cc2024\",\"type\":\"LinearAxis\"}],\"plot_height\":500,\"plot_width\":400,\"renderers\":[{\"id\":\"14247a56-27c3-4252-9c9b-32d35636d511\",\"type\":\"LinearAxis\"},{\"id\":\"8cb9bb79-b78f-47ff-b455-f97b9054031d\",\"type\":\"Grid\"},{\"id\":\"f4a89faa-5bf5-4be2-8d6d-b97659cc2024\",\"type\":\"LinearAxis\"},{\"id\":\"2e273945-9c8c-4204-a68a-6911f20a4fc5\",\"type\":\"Grid\"},{\"id\":\"7fd50fcd-e470-4f59-b616-529624e097a4\",\"type\":\"BoxAnnotation\"},{\"id\":\"b5622598-73f7-42a9-a93e-c3db820ff23e\",\"type\":\"GlyphRenderer\"},{\"id\":\"1e088b5b-1188-4307-a01b-b973f93ec2b5\",\"type\":\"GlyphRenderer\"},{\"id\":\"c9dbe7af-e910-49a8-8867-edbe3300f5f6\",\"type\":\"GlyphRenderer\"},{\"id\":\"249dcc12-e7f9-4a53-8c1e-e6c11f117507\",\"type\":\"GlyphRenderer\"},{\"id\":\"312f279f-3e9a-4c7f-8fa6-9699d39f0569\",\"type\":\"GlyphRenderer\"}],\"title\":{\"id\":\"0522eff4-785e-40d9-8a71-216b15a958c3\",\"type\":\"Title\"},\"toolbar\":{\"id\":\"bc863fe7-6d6c-465c-be1d-fae20379fff7\",\"type\":\"Toolbar\"},\"toolbar_location\":null,\"x_range\":{\"id\":\"0580682a-9d26-4dcc-8ba6-691178f9fd41\",\"type\":\"Range1d\"},\"x_scale\":{\"id\":\"88517f57-4fb0-4af9-9933-1476ef7eb253\",\"type\":\"LinearScale\"},\"y_range\":{\"id\":\"75f313f0-950e-40f8-b741-945bad2bd566\",\"type\":\"Range1d\"},\"y_scale\":{\"id\":\"beae4237-678c-4f7f-af92-49277aa67679\",\"type\":\"LinearScale\"}},\"id\":\"d4a0e117-e2c5-40dc-882e-3c0e65c0de2a\",\"subtype\":\"Figure\",\"type\":\"Plot\"},{\"attributes\":{\"line_alpha\":0.1,\"line_color\":\"#1f77b4\",\"line_dash\":[6],\"line_width\":5,\"x\":{\"field\":\"x\"},\"y\":{\"field\":\"y\"}},\"id\":\"70469ca8-3991-4154-901f-bb15251784bb\",\"type\":\"Line\"},{\"attributes\":{},\"id\":\"0e4ff6fa-b618-426b-b8d3-93760574bd0c\",\"type\":\"PanTool\"},{\"attributes\":{\"toolbar\":{\"id\":\"0e3e7b35-cc92-4c07-b357-aa066f79684a\",\"type\":\"ProxyToolbar\"},\"toolbar_location\":\"above\"},\"id\":\"7b46769c-4bae-4f3d-ab88-50a557f54459\",\"type\":\"ToolbarBox\"},{\"attributes\":{},\"id\":\"243df105-bc2e-4a69-a6c0-e2862bd2e7d4\",\"type\":\"ResetTool\"},{\"attributes\":{\"bottom_units\":\"screen\",\"fill_alpha\":{\"value\":0.5},\"fill_color\":{\"value\":\"lightgrey\"},\"left_units\":\"screen\",\"level\":\"overlay\",\"line_alpha\":{\"value\":1.0},\"line_color\":{\"value\":\"black\"},\"line_dash\":[4,4],\"line_width\":{\"value\":2},\"plot\":null,\"render_mode\":\"css\",\"right_units\":\"screen\",\"top_units\":\"screen\"},\"id\":\"367e18b3-7528-489b-85b5-f75442d5ab21\",\"type\":\"BoxAnnotation\"},{\"attributes\":{\"overlay\":{\"id\":\"7fd50fcd-e470-4f59-b616-529624e097a4\",\"type\":\"BoxAnnotation\"}},\"id\":\"d8001054-1044-4aef-961c-e164baa40423\",\"type\":\"BoxZoomTool\"},{\"attributes\":{},\"id\":\"4ef1b1e4-b6a3-42e8-8093-42e9fba4aeaa\",\"type\":\"SaveTool\"},{\"attributes\":{\"plot\":null,\"text\":\"Linear pressure scale\"},\"id\":\"0522eff4-785e-40d9-8a71-216b15a958c3\",\"type\":\"Title\"},{\"attributes\":{\"children\":[{\"id\":\"d4a0e117-e2c5-40dc-882e-3c0e65c0de2a\",\"subtype\":\"Figure\",\"type\":\"Plot\"},{\"id\":\"7be7083a-eebc-42ea-ad4c-c2b33a432bd6\",\"subtype\":\"Figure\",\"type\":\"Plot\"}]},\"id\":\"e6f4a05e-1363-4d70-8450-f70f927c01f3\",\"type\":\"Row\"},{\"attributes\":{},\"id\":\"7b54d3ee-603e-465b-adb5-ffd2b99c1655\",\"type\":\"PanTool\"},{\"attributes\":{\"callback\":null,\"column_names\":[\"x\",\"y\"],\"data\":{\"x\":{\"__ndarray__\":\"X9ODglK03T8RJ8UB063cP7VAksRYh9E/pY0bZZo83z82DoogrTXcP5VGq94Kdto/3JcaPnUu3j9IL80hZ6neP1rQ/5usS94/v2p+X9BA3T9q7hH/6hDcPx+0wwTaQto/QIJmAD1H1z+9Kfbham7SPwQb17/rs80/plQVXKS3zT+uFDxkToDRP9wyfQJqItM/yN1zolUU1T++bkvDdErZP680Wz8e1uA/1mONQN285z8/yLJg4u/uP5LDDgCoxO4/OVvEoOGH6D9BP1sgpLviP5/w6RzJBt0/Rw5kf9GM1j/YwiRDK8PRP76P3eQ7Icw/dGWKGPrQxT8DcB4UtbC+PwaVFgBzxbU/Ig2zP2zDsj/NcoihnZ+wP2kr7934cKk/bOKgYYqioj94X29E8vObP9Cs3HOvf4o/+DPbHSKKYr9m5lFLXbRTvxgiWyGiVI8/xRNlYv/knT9iSnBfEUCkP8OqD16apqg/7bIWoQOLrD/qdBHAfBuwPxcgESAx5LE/SYPEPk2isz+aypg+GFG1PzX1a/+L5rY/H/V0AXFPuD+R5Vw+HYW5P2iFljPjhro/yT+vT2tguz8qkm3ofxy8P5SebV5qvrw/0rWj9ipLvT+tvZFxc8e9Py7jCTFVOL4/4WsAHYOhvj+zBlLWLQq/P6ZQzDCkeb8/PTIMDuX6vz+Yb/kfy0jAP+1qLEBfo8A/LVgNNjMCwT8c17d660/BP63Ts+bobcE/MAABKblcwT/MHB4EFTzBP4izbPe8LME/9sSE4thEwT+66Boc26HBP0wz/vmN4cI/\",\"dtype\":\"float64\",\"shape\":[75]},\"y\":{\"__ndarray__\":\"S/O/Q+51ND/430zAtpRIP2vylNV0PVE/QxsjCssuWD/TR4Z78fVgP+inNsRxymc/OuuBfZWvcD/u3TFA02d3P2d3VoBnaoA/CD5h5MAGhz/1pA8HUCaQP+zrCsc9p5Y/Fb7LAKjGnz/nJ9c/SEmmPwBD+fzcQq8/FOZwv9nstT8Er5Y7M8G+P0c+r3jqkcU/yK72qKZBzj+tM989FzjVPxbgmr8yxN0/cOm5AXbg5D+5ctXAf0jtP5kqGJXUifQ/DsrqDELP/D8MCAhBojQEQDItVnmnVwxAiFXNvdHgE0BSSZ2AJuIbQAMJih9jjiNA5q4l5INuK0CPVN/5RT0zQHzxRXu8/DpAOZ7PgHrtQkAg8wGBzoxKQBSTN8DMeFJA2NmQf2ZqWEAAAAAAAFxeQEQX1LfMJmJAmpmZmZkfZUBmZmZmZhhoQLzoK0gzEWtAAAAAAAAKbkCiC+pbZoFwQAhyUMLM/XFA+I2vPTN6c0AQ5KCEmfZ0QAAAAAAAc3ZA8Btfe2bvd0AIclDCzGt5QPeNrz0z6HpAEOSghJlkfEAAAAAAAOF9QKML6ltmXX9ABTkoYeZsgED7xteeGSuBQAhyUMJM6YFAAAAAAICngkD4ja89s2WDQAU5KGHmI4RA+8bXnhnihEAIclDCTKCFQAAAAACAXoZA+I2vPbMch0AFOShh5tqHQPvG154ZmYhACHJQwkxXiUAAAAAAgBWKQPeNrz2z04pABTkoYeaRi0D7xteeGVCMQAlyUMJMDo1AAAAAAIDMjUD3ja89s4qOQGZmZmbmSI9A\",\"dtype\":\"float64\",\"shape\":[75]}}},\"id\":\"4e279771-bdb8-4ebf-800e-d2760c24a780\",\"type\":\"ColumnDataSource\"},{\"attributes\":{},\"id\":\"88517f57-4fb0-4af9-9933-1476ef7eb253\",\"type\":\"LinearScale\"},{\"attributes\":{\"data_source\":{\"id\":\"fcd87c72-5542-4cc0-97ae-76a425775348\",\"type\":\"ColumnDataSource\"},\"glyph\":{\"id\":\"8947b479-69b4-4661-a979-21a9817e9fdc\",\"type\":\"Square\"},\"hover_glyph\":null,\"muted_glyph\":null,\"nonselection_glyph\":{\"id\":\"32b97a31-588d-4da7-b152-8c0592af9947\",\"type\":\"Square\"},\"selection_glyph\":null,\"view\":{\"id\":\"89dce18f-29e0-4372-abd6-8f1c91db2d49\",\"type\":\"CDSView\"}},\"id\":\"249dcc12-e7f9-4a53-8c1e-e6c11f117507\",\"type\":\"GlyphRenderer\"},{\"attributes\":{\"callback\":null,\"end\":0.149006095127,\"start\":-0.003760847827},\"id\":\"0580682a-9d26-4dcc-8ba6-691178f9fd41\",\"type\":\"Range1d\"},{\"attributes\":{\"plot\":{\"id\":\"d4a0e117-e2c5-40dc-882e-3c0e65c0de2a\",\"subtype\":\"Figure\",\"type\":\"Plot\"},\"ticker\":{\"id\":\"5c4413e1-509e-4224-b704-9f0b21321c71\",\"type\":\"BasicTicker\"}},\"id\":\"8cb9bb79-b78f-47ff-b455-f97b9054031d\",\"type\":\"Grid\"},{\"attributes\":{\"label\":{\"value\":\"CRD\"},\"renderers\":[{\"id\":\"0abd2564-bc48-4f9c-b540-e4d076635576\",\"type\":\"GlyphRenderer\"},{\"id\":\"85aa15a9-ab5a-4097-8e4d-13445665c238\",\"type\":\"GlyphRenderer\"}]},\"id\":\"23e81f4b-ce07-43f8-9fd6-132a8d5e2c3b\",\"type\":\"LegendItem\"},{\"attributes\":{},\"id\":\"86b2c42c-f99d-400d-a27d-0038d7b61b0e\",\"type\":\"ResetTool\"},{\"attributes\":{},\"id\":\"4cb4741c-ec0b-49ca-894f-fe8b34b139c6\",\"type\":\"WheelZoomTool\"},{\"attributes\":{\"data_source\":{\"id\":\"b17244b0-395d-4737-b32e-deb482f36e90\",\"type\":\"ColumnDataSource\"},\"glyph\":{\"id\":\"7d878e1e-f962-43ae-9f67-5c53c3265d15\",\"type\":\"Circle\"},\"hover_glyph\":null,\"muted_glyph\":null,\"nonselection_glyph\":{\"id\":\"8ebca10f-63e4-4897-910c-310995024eb3\",\"type\":\"Circle\"},\"selection_glyph\":null,\"view\":{\"id\":\"0c6bbf14-73f3-44c5-870c-2ee826e8f181\",\"type\":\"CDSView\"}},\"id\":\"1e088b5b-1188-4307-a01b-b973f93ec2b5\",\"type\":\"GlyphRenderer\"},{\"attributes\":{\"axis_label\":\"cooling rate [K/day]\",\"formatter\":{\"id\":\"6f34e8b8-157a-46a1-a7ad-eddf494a636f\",\"type\":\"BasicTickFormatter\"},\"plot\":{\"id\":\"7be7083a-eebc-42ea-ad4c-c2b33a432bd6\",\"subtype\":\"Figure\",\"type\":\"Plot\"},\"ticker\":{\"id\":\"7025f536-8250-40d2-b985-274079010115\",\"type\":\"BasicTicker\"}},\"id\":\"50ab1e02-675b-43e8-8f59-dbb2cc2b1457\",\"type\":\"LinearAxis\"},{\"attributes\":{},\"id\":\"5c4413e1-509e-4224-b704-9f0b21321c71\",\"type\":\"BasicTicker\"},{\"attributes\":{\"children\":[{\"id\":\"e6f4a05e-1363-4d70-8450-f70f927c01f3\",\"type\":\"Row\"}]},\"id\":\"166e6996-e6ff-426b-87f3-d7ffb1b603aa\",\"type\":\"Column\"},{\"attributes\":{},\"id\":\"7025f536-8250-40d2-b985-274079010115\",\"type\":\"BasicTicker\"},{\"attributes\":{},\"id\":\"57331759-511c-4343-9e61-6b45a75b0be2\",\"type\":\"HelpTool\"},{\"attributes\":{\"num_minor_ticks\":10},\"id\":\"45e35812-7705-44b8-9a39-6dc32c0caa23\",\"type\":\"LogTicker\"},{\"attributes\":{\"active_drag\":\"auto\",\"active_inspect\":\"auto\",\"active_scroll\":\"auto\",\"active_tap\":\"auto\",\"tools\":[{\"id\":\"7b54d3ee-603e-465b-adb5-ffd2b99c1655\",\"type\":\"PanTool\"},{\"id\":\"2c0220f9-bffa-4077-beb7-47ca81fe53cb\",\"type\":\"WheelZoomTool\"},{\"id\":\"2aae793c-991e-4caa-86b7-b75b94a99c73\",\"type\":\"BoxZoomTool\"},{\"id\":\"3c85730b-b3e0-4df5-af34-3ef175a0ea3d\",\"type\":\"SaveTool\"},{\"id\":\"86b2c42c-f99d-400d-a27d-0038d7b61b0e\",\"type\":\"ResetTool\"},{\"id\":\"2d37a8da-c36a-4872-afaf-364fd7e215e7\",\"type\":\"HelpTool\"}]},\"id\":\"3347e8dc-1092-4a67-b32d-ab23dbf96c29\",\"type\":\"Toolbar\"},{\"attributes\":{},\"id\":\"7bfc9c39-780a-4b43-b62b-ec3327d7a352\",\"type\":\"BasicTickFormatter\"},{\"attributes\":{\"callback\":null,\"end\":0.01,\"start\":1020},\"id\":\"9b44be2c-cfb0-4c27-8322-7e164899775b\",\"type\":\"Range1d\"},{\"attributes\":{\"callback\":null,\"column_names\":[\"x\",\"y\"],\"data\":{\"x\":{\"__ndarray__\":\"X9ODglK03T8RJ8UB063cP7VAksRYh9E/pY0bZZo83z82DoogrTXcP5VGq94Kdto/3JcaPnUu3j9IL80hZ6neP1rQ/5usS94/v2p+X9BA3T9q7hH/6hDcPx+0wwTaQto/QIJmAD1H1z+9Kfbham7SPwQb17/rs80/plQVXKS3zT+uFDxkToDRP9wyfQJqItM/yN1zolUU1T++bkvDdErZP680Wz8e1uA/1mONQN285z8/yLJg4u/uP5LDDgCoxO4/OVvEoOGH6D9BP1sgpLviP5/w6RzJBt0/Rw5kf9GM1j/YwiRDK8PRP76P3eQ7Icw/dGWKGPrQxT8DcB4UtbC+PwaVFgBzxbU/Ig2zP2zDsj/NcoihnZ+wP2kr7934cKk/bOKgYYqioj94X29E8vObP9Cs3HOvf4o/+DPbHSKKYr9m5lFLXbRTvxgiWyGiVI8/xRNlYv/knT9iSnBfEUCkP8OqD16apqg/7bIWoQOLrD/qdBHAfBuwPxcgESAx5LE/SYPEPk2isz+aypg+GFG1PzX1a/+L5rY/H/V0AXFPuD+R5Vw+HYW5P2iFljPjhro/yT+vT2tguz8qkm3ofxy8P5SebV5qvrw/0rWj9ipLvT+tvZFxc8e9Py7jCTFVOL4/4WsAHYOhvj+zBlLWLQq/P6ZQzDCkeb8/PTIMDuX6vz+Yb/kfy0jAP+1qLEBfo8A/LVgNNjMCwT8c17d660/BP63Ts+bobcE/MAABKblcwT/MHB4EFTzBP4izbPe8LME/9sSE4thEwT+66Boc26HBP0wz/vmN4cI/\",\"dtype\":\"float64\",\"shape\":[75]},\"y\":{\"__ndarray__\":\"S/O/Q+51ND/430zAtpRIP2vylNV0PVE/QxsjCssuWD/TR4Z78fVgP+inNsRxymc/OuuBfZWvcD/u3TFA02d3P2d3VoBnaoA/CD5h5MAGhz/1pA8HUCaQP+zrCsc9p5Y/Fb7LAKjGnz/nJ9c/SEmmPwBD+fzcQq8/FOZwv9nstT8Er5Y7M8G+P0c+r3jqkcU/yK72qKZBzj+tM989FzjVPxbgmr8yxN0/cOm5AXbg5D+5ctXAf0jtP5kqGJXUifQ/DsrqDELP/D8MCAhBojQEQDItVnmnVwxAiFXNvdHgE0BSSZ2AJuIbQAMJih9jjiNA5q4l5INuK0CPVN/5RT0zQHzxRXu8/DpAOZ7PgHrtQkAg8wGBzoxKQBSTN8DMeFJA2NmQf2ZqWEAAAAAAAFxeQEQX1LfMJmJAmpmZmZkfZUBmZmZmZhhoQLzoK0gzEWtAAAAAAAAKbkCiC+pbZoFwQAhyUMLM/XFA+I2vPTN6c0AQ5KCEmfZ0QAAAAAAAc3ZA8Btfe2bvd0AIclDCzGt5QPeNrz0z6HpAEOSghJlkfEAAAAAAAOF9QKML6ltmXX9ABTkoYeZsgED7xteeGSuBQAhyUMJM6YFAAAAAAICngkD4ja89s2WDQAU5KGHmI4RA+8bXnhnihEAIclDCTKCFQAAAAACAXoZA+I2vPbMch0AFOShh5tqHQPvG154ZmYhACHJQwkxXiUAAAAAAgBWKQPeNrz2z04pABTkoYeaRi0D7xteeGVCMQAlyUMJMDo1AAAAAAIDMjUD3ja89s4qOQGZmZmbmSI9A\",\"dtype\":\"float64\",\"shape\":[75]}}},\"id\":\"0f98c4d0-97fa-40a9-90c1-68ac7bf08c5f\",\"type\":\"ColumnDataSource\"},{\"attributes\":{\"fill_alpha\":{\"value\":0.7},\"fill_color\":{\"value\":\"#4daf4a\"},\"line_alpha\":{\"value\":0.7},\"line_color\":{\"value\":\"#4daf4a\"},\"x\":{\"field\":\"x\"},\"y\":{\"field\":\"y\"}},\"id\":\"7d878e1e-f962-43ae-9f67-5c53c3265d15\",\"type\":\"Circle\"},{\"attributes\":{\"plot\":{\"id\":\"7be7083a-eebc-42ea-ad4c-c2b33a432bd6\",\"subtype\":\"Figure\",\"type\":\"Plot\"},\"ticker\":{\"id\":\"7025f536-8250-40d2-b985-274079010115\",\"type\":\"BasicTicker\"}},\"id\":\"9b63737f-5ed9-44bc-a73b-bc6f352c7088\",\"type\":\"Grid\"}],\"root_ids\":[\"ddf4516a-ac5a-41af-aba4-9d16f412f41b\"]},\"title\":\"Bokeh Application\",\"version\":\"0.12.14\"}};\n",
       "  var render_items = [{\"docid\":\"a2922ab6-34d4-4aab-9eda-6c7f8a30e9fc\",\"elementid\":\"473a2ef4-a10b-494b-a852-49ae714f82fc\",\"modelid\":\"ddf4516a-ac5a-41af-aba4-9d16f412f41b\"}];\n",
       "  root.Bokeh.embed.embed_items_notebook(docs_json, render_items);\n",
       "\n",
       "  }\n",
       "  if (root.Bokeh !== undefined) {\n",
       "    embed_document(root);\n",
       "  } else {\n",
       "    var attempts = 0;\n",
       "    var timer = setInterval(function(root) {\n",
       "      if (root.Bokeh !== undefined) {\n",
       "        embed_document(root);\n",
       "        clearInterval(timer);\n",
       "      }\n",
       "      attempts++;\n",
       "      if (attempts > 100) {\n",
       "        console.log(\"Bokeh: ERROR: Unable to run BokehJS code because BokehJS library is missing\")\n",
       "        clearInterval(timer);\n",
       "      }\n",
       "    }, 10, root)\n",
       "  }\n",
       "})(window);"
      ],
      "application/vnd.bokehjs_exec.v0+json": ""
     },
     "metadata": {
      "application/vnd.bokehjs_exec.v0+json": {
       "id": "ddf4516a-ac5a-41af-aba4-9d16f412f41b"
      }
     },
     "output_type": "display_data"
    },
    {
     "name": "stdout",
     "output_type": "stream",
     "text": [
      "FIGURE. Cooling rate profiles.\n"
     ]
    },
    {
     "data": {
      "text/html": [
       "<a id=\"Flux_Comparison\"></a>"
      ],
      "text/plain": [
       "<IPython.core.display.HTML object>"
      ]
     },
     "metadata": {},
     "output_type": "display_data"
    },
    {
     "data": {
      "text/markdown": [
       "# Flux Comparison"
      ],
      "text/plain": [
       "<IPython.core.display.Markdown object>"
      ]
     },
     "metadata": {},
     "output_type": "display_data"
    },
    {
     "data": {
      "text/html": [
       "<div>\n",
       "<style>\n",
       "    .dataframe thead tr:only-child th {\n",
       "        text-align: right;\n",
       "    }\n",
       "\n",
       "    .dataframe thead th {\n",
       "        text-align: left;\n",
       "    }\n",
       "\n",
       "    .dataframe tbody tr th {\n",
       "        vertical-align: top;\n",
       "    }\n",
       "</style>\n",
       "<table border=\"1\" class=\"dataframe\">\n",
       "  <thead>\n",
       "    <tr style=\"text-align: right;\">\n",
       "      <th></th>\n",
       "      <th></th>\n",
       "      <th>flug</th>\n",
       "      <th>fldg</th>\n",
       "      <th>fnetg</th>\n",
       "    </tr>\n",
       "    <tr>\n",
       "      <th>pressure</th>\n",
       "      <th>level</th>\n",
       "      <th></th>\n",
       "      <th></th>\n",
       "      <th></th>\n",
       "    </tr>\n",
       "  </thead>\n",
       "  <tbody>\n",
       "    <tr>\n",
       "      <th>0.0000</th>\n",
       "      <th>1</th>\n",
       "      <td>-29.605354</td>\n",
       "      <td>0.000000</td>\n",
       "      <td>-29.605354</td>\n",
       "    </tr>\n",
       "    <tr>\n",
       "      <th>1.0685</th>\n",
       "      <th>24</th>\n",
       "      <td>-29.609930</td>\n",
       "      <td>0.067093</td>\n",
       "      <td>-29.542837</td>\n",
       "    </tr>\n",
       "    <tr>\n",
       "      <th>1013.0000</th>\n",
       "      <th>76</th>\n",
       "      <td>-36.235409</td>\n",
       "      <td>16.836775</td>\n",
       "      <td>-19.398633</td>\n",
       "    </tr>\n",
       "  </tbody>\n",
       "</table>\n",
       "</div>"
      ],
      "text/plain": [
       "                      flug       fldg      fnetg\n",
       "pressure  level                                 \n",
       "0.0000    1     -29.605354   0.000000 -29.605354\n",
       "1.0685    24    -29.609930   0.067093 -29.542837\n",
       "1013.0000 76    -36.235409  16.836775 -19.398633"
      ]
     },
     "metadata": {},
     "output_type": "display_data"
    },
    {
     "name": "stdout",
     "output_type": "stream",
     "text": [
      "Table. Fluxes. WGT igg=10 wgt_flux=1\n"
     ]
    },
    {
     "data": {
      "text/html": [
       "<div>\n",
       "<style>\n",
       "    .dataframe thead tr:only-child th {\n",
       "        text-align: right;\n",
       "    }\n",
       "\n",
       "    .dataframe thead th {\n",
       "        text-align: left;\n",
       "    }\n",
       "\n",
       "    .dataframe tbody tr th {\n",
       "        vertical-align: top;\n",
       "    }\n",
       "</style>\n",
       "<table border=\"1\" class=\"dataframe\">\n",
       "  <thead>\n",
       "    <tr style=\"text-align: right;\">\n",
       "      <th></th>\n",
       "      <th></th>\n",
       "      <th>flug</th>\n",
       "      <th>fldg</th>\n",
       "      <th>fnetg</th>\n",
       "    </tr>\n",
       "    <tr>\n",
       "      <th>pressure</th>\n",
       "      <th>level</th>\n",
       "      <th></th>\n",
       "      <th></th>\n",
       "      <th></th>\n",
       "    </tr>\n",
       "  </thead>\n",
       "  <tbody>\n",
       "    <tr>\n",
       "      <th>0.0000</th>\n",
       "      <th>1</th>\n",
       "      <td>-29.591178</td>\n",
       "      <td>0.000000</td>\n",
       "      <td>-29.591178</td>\n",
       "    </tr>\n",
       "    <tr>\n",
       "      <th>1.0685</th>\n",
       "      <th>24</th>\n",
       "      <td>-29.596461</td>\n",
       "      <td>0.072693</td>\n",
       "      <td>-29.523768</td>\n",
       "    </tr>\n",
       "    <tr>\n",
       "      <th>1013.0000</th>\n",
       "      <th>76</th>\n",
       "      <td>-36.235408</td>\n",
       "      <td>16.758790</td>\n",
       "      <td>-19.476618</td>\n",
       "    </tr>\n",
       "  </tbody>\n",
       "</table>\n",
       "</div>"
      ],
      "text/plain": [
       "                      flug       fldg      fnetg\n",
       "pressure  level                                 \n",
       "0.0000    1     -29.591178   0.000000 -29.591178\n",
       "1.0685    24    -29.596461   0.072693 -29.523768\n",
       "1013.0000 76    -36.235408  16.758790 -19.476618"
      ]
     },
     "metadata": {},
     "output_type": "display_data"
    },
    {
     "name": "stdout",
     "output_type": "stream",
     "text": [
      "Table. Fluxes. CRD\n"
     ]
    },
    {
     "data": {
      "text/html": [
       "<div>\n",
       "<style>\n",
       "    .dataframe thead tr:only-child th {\n",
       "        text-align: right;\n",
       "    }\n",
       "\n",
       "    .dataframe thead th {\n",
       "        text-align: left;\n",
       "    }\n",
       "\n",
       "    .dataframe tbody tr th {\n",
       "        vertical-align: top;\n",
       "    }\n",
       "</style>\n",
       "<table border=\"1\" class=\"dataframe\">\n",
       "  <thead>\n",
       "    <tr style=\"text-align: right;\">\n",
       "      <th></th>\n",
       "      <th></th>\n",
       "      <th>flug</th>\n",
       "      <th>fldg</th>\n",
       "      <th>fnetg</th>\n",
       "    </tr>\n",
       "    <tr>\n",
       "      <th>pressure</th>\n",
       "      <th>level</th>\n",
       "      <th></th>\n",
       "      <th></th>\n",
       "      <th></th>\n",
       "    </tr>\n",
       "  </thead>\n",
       "  <tbody>\n",
       "    <tr>\n",
       "      <th>1.000000e-08</th>\n",
       "      <th>1</th>\n",
       "      <td>-28.548639</td>\n",
       "      <td>0.000003</td>\n",
       "      <td>-28.548637</td>\n",
       "    </tr>\n",
       "    <tr>\n",
       "      <th>1.068500e+00</th>\n",
       "      <th>24</th>\n",
       "      <td>-28.553516</td>\n",
       "      <td>0.084197</td>\n",
       "      <td>-28.469320</td>\n",
       "    </tr>\n",
       "    <tr>\n",
       "      <th>1.013000e+03</th>\n",
       "      <th>76</th>\n",
       "      <td>-36.235409</td>\n",
       "      <td>19.010685</td>\n",
       "      <td>-17.224724</td>\n",
       "    </tr>\n",
       "  </tbody>\n",
       "</table>\n",
       "</div>"
      ],
      "text/plain": [
       "                         flug       fldg      fnetg\n",
       "pressure     level                                 \n",
       "1.000000e-08 1     -28.548639   0.000003 -28.548637\n",
       "1.068500e+00 24    -28.553516   0.084197 -28.469320\n",
       "1.013000e+03 76    -36.235409  19.010685 -17.224724"
      ]
     },
     "metadata": {},
     "output_type": "display_data"
    },
    {
     "name": "stdout",
     "output_type": "stream",
     "text": [
      "Table. Fluxes. CLIRAD\n"
     ]
    },
    {
     "data": {
      "text/html": [
       "<div>\n",
       "<style>\n",
       "    .dataframe thead tr:only-child th {\n",
       "        text-align: right;\n",
       "    }\n",
       "\n",
       "    .dataframe thead th {\n",
       "        text-align: left;\n",
       "    }\n",
       "\n",
       "    .dataframe tbody tr th {\n",
       "        vertical-align: top;\n",
       "    }\n",
       "</style>\n",
       "<table border=\"1\" class=\"dataframe\">\n",
       "  <thead>\n",
       "    <tr style=\"text-align: right;\">\n",
       "      <th></th>\n",
       "      <th></th>\n",
       "      <th>flug</th>\n",
       "      <th>fldg</th>\n",
       "      <th>fnetg</th>\n",
       "    </tr>\n",
       "    <tr>\n",
       "      <th>pressure</th>\n",
       "      <th>level</th>\n",
       "      <th></th>\n",
       "      <th></th>\n",
       "      <th></th>\n",
       "    </tr>\n",
       "  </thead>\n",
       "  <tbody>\n",
       "    <tr>\n",
       "      <th>0.0000</th>\n",
       "      <th>1</th>\n",
       "      <td>1.417613e-02</td>\n",
       "      <td>0.000000</td>\n",
       "      <td>0.014176</td>\n",
       "    </tr>\n",
       "    <tr>\n",
       "      <th>1.0685</th>\n",
       "      <th>24</th>\n",
       "      <td>1.346853e-02</td>\n",
       "      <td>0.005601</td>\n",
       "      <td>0.019069</td>\n",
       "    </tr>\n",
       "    <tr>\n",
       "      <th>1013.0000</th>\n",
       "      <th>76</th>\n",
       "      <td>5.330000e-07</td>\n",
       "      <td>-0.077985</td>\n",
       "      <td>-0.077985</td>\n",
       "    </tr>\n",
       "  </tbody>\n",
       "</table>\n",
       "</div>"
      ],
      "text/plain": [
       "                         flug      fldg     fnetg\n",
       "pressure  level                                  \n",
       "0.0000    1      1.417613e-02  0.000000  0.014176\n",
       "1.0685    24     1.346853e-02  0.005601  0.019069\n",
       "1013.0000 76     5.330000e-07 -0.077985 -0.077985"
      ]
     },
     "metadata": {},
     "output_type": "display_data"
    },
    {
     "name": "stdout",
     "output_type": "stream",
     "text": [
      "Table. Fluxes. (CRD) - (WGT igg=10 wgt_flux=1)\n"
     ]
    },
    {
     "data": {
      "text/html": [
       "<div>\n",
       "<style>\n",
       "    .dataframe thead tr:only-child th {\n",
       "        text-align: right;\n",
       "    }\n",
       "\n",
       "    .dataframe thead th {\n",
       "        text-align: left;\n",
       "    }\n",
       "\n",
       "    .dataframe tbody tr th {\n",
       "        vertical-align: top;\n",
       "    }\n",
       "</style>\n",
       "<table border=\"1\" class=\"dataframe\">\n",
       "  <thead>\n",
       "    <tr style=\"text-align: right;\">\n",
       "      <th></th>\n",
       "      <th></th>\n",
       "      <th>flug</th>\n",
       "      <th>fldg</th>\n",
       "      <th>fnetg</th>\n",
       "    </tr>\n",
       "    <tr>\n",
       "      <th>pressure</th>\n",
       "      <th>level</th>\n",
       "      <th></th>\n",
       "      <th></th>\n",
       "      <th></th>\n",
       "    </tr>\n",
       "  </thead>\n",
       "  <tbody>\n",
       "    <tr>\n",
       "      <th>0.0000</th>\n",
       "      <th>1</th>\n",
       "      <td>1.056715e+00</td>\n",
       "      <td>0.000003</td>\n",
       "      <td>1.056717</td>\n",
       "    </tr>\n",
       "    <tr>\n",
       "      <th>1.0685</th>\n",
       "      <th>24</th>\n",
       "      <td>1.056414e+00</td>\n",
       "      <td>0.017104</td>\n",
       "      <td>1.073517</td>\n",
       "    </tr>\n",
       "    <tr>\n",
       "      <th>1013.0000</th>\n",
       "      <th>76</th>\n",
       "      <td>-4.670000e-07</td>\n",
       "      <td>2.173910</td>\n",
       "      <td>2.173909</td>\n",
       "    </tr>\n",
       "  </tbody>\n",
       "</table>\n",
       "</div>"
      ],
      "text/plain": [
       "                         flug      fldg     fnetg\n",
       "pressure  level                                  \n",
       "0.0000    1      1.056715e+00  0.000003  1.056717\n",
       "1.0685    24     1.056414e+00  0.017104  1.073517\n",
       "1013.0000 76    -4.670000e-07  2.173910  2.173909"
      ]
     },
     "metadata": {},
     "output_type": "display_data"
    },
    {
     "name": "stdout",
     "output_type": "stream",
     "text": [
      "Table. Fluxes. (CLIRAD) - (WGT igg=10 wgt_flux=1)\n"
     ]
    },
    {
     "data": {
      "text/html": [
       "<a id=\"Best-fit_Parameters\"></a>"
      ],
      "text/plain": [
       "<IPython.core.display.HTML object>"
      ]
     },
     "metadata": {},
     "output_type": "display_data"
    },
    {
     "data": {
      "text/markdown": [
       "# Best-fit Parameters"
      ],
      "text/plain": [
       "<IPython.core.display.Markdown object>"
      ]
     },
     "metadata": {},
     "output_type": "display_data"
    },
    {
     "name": "stdout",
     "output_type": "stream",
     "text": [
      "Best-fit values for each (gas, band)\n",
      "------------------------------------\n",
      "o co2 band3a\n",
      "  atmpro = mls\n",
      "  band = 3a\n",
      "  commitnumber = 2bd1f75\n",
      "  conc = 0.0004\n",
      "  dv = 0.01\n",
      "  klin = 6.375563e-24\n",
      "  molecule = co2\n",
      "  ng_adju = [0, 0, 0]\n",
      "  ng_refs = [3, 2, 4]\n",
      "  nv = 100\n",
      "  option_compute_btable = 0\n",
      "  option_compute_ktable = 1\n",
      "  option_wgt_flux = 1\n",
      "  option_wgt_k = 1\n",
      "  ref_pts = [(1, 250), (10, 250), (500, 250)]\n",
      "  tsfc = 294\n",
      "  vmax = 620\n",
      "  vmin = 540\n",
      "  w_diffuse = [(1.6, 1.6, 1.7), (1.75, 1.75), (1.55, 1.55, 1.6, 1.85)]\n",
      "  wgt = [(0.7, 0.3, 0.7), (0.7, 0.6), (0.4, 0.5, 0.8, 0.95)]\n"
     ]
    }
   ],
   "source": [
    "script()"
   ]
  },
  {
   "cell_type": "code",
   "execution_count": 13,
   "metadata": {
    "collapsed": true
   },
   "outputs": [
    {
     "data": {
      "text/html": [
       "<script>\n",
       "code_show=true; \n",
       "function code_toggle() {\n",
       " if (code_show){\n",
       " $('div.input').hide();\n",
       " } else {\n",
       " $('div.input').show();\n",
       " }\n",
       " code_show = !code_show\n",
       "} \n",
       "$( document ).ready(code_toggle);\n",
       "</script>\n",
       "<form action=\"javascript:code_toggle()\"><input type=\"submit\" value=\"Click here to toggle on/off the raw code.\"></form>"
      ],
      "text/plain": [
       "<IPython.core.display.HTML object>"
      ]
     },
     "execution_count": 13,
     "metadata": {},
     "output_type": "execute_result"
    }
   ],
   "source": [
    "display.HTML('''<script>\n",
    "code_show=true; \n",
    "function code_toggle() {\n",
    " if (code_show){\n",
    " $('div.input').hide();\n",
    " } else {\n",
    " $('div.input').show();\n",
    " }\n",
    " code_show = !code_show\n",
    "} \n",
    "$( document ).ready(code_toggle);\n",
    "</script>\n",
    "<form action=\"javascript:code_toggle()\"><input type=\"submit\" value=\"Click here to toggle on/off the raw code.\"></form>''')"
   ]
  }
 ],
 "metadata": {
  "kernelspec": {
   "display_name": "Python 3",
   "language": "python",
   "name": "python3"
  },
  "language_info": {
   "codemirror_mode": {
    "name": "ipython",
    "version": 3
   },
   "file_extension": ".py",
   "mimetype": "text/x-python",
   "name": "python",
   "nbconvert_exporter": "python",
   "pygments_lexer": "ipython3",
   "version": "3.6.1"
  }
 },
 "nbformat": 4,
 "nbformat_minor": 2
}
