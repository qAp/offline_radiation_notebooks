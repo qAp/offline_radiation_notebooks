{
 "cells": [
  {
   "cell_type": "code",
   "execution_count": 1,
   "metadata": {
    "collapsed": true
   },
   "outputs": [],
   "source": [
    "%matplotlib inline\n",
    "import os\n",
    "import re\n",
    "import io\n",
    "import itertools\n",
    "import pprint\n",
    "\n",
    "from bokeh.io import output_notebook, show\n",
    "from bokeh.layouts import gridplot\n",
    "from bokeh.plotting import figure\n",
    "from bokeh.models import Range1d, Legend\n",
    "from bokeh.palettes import all_palettes\n",
    "\n",
    "import matplotlib\n",
    "import matplotlib.pyplot as plt\n",
    "import numpy as np\n",
    "import pandas as pd\n",
    "import xarray as xr\n",
    "\n",
    "import climatools.lblnew.bestfit_params as bestfits\n",
    "from climatools.lblnew import setup_bestfit, setup_overlap\n",
    "import climatools.lblnew.pipeline as pipe_lblnew\n",
    "import climatools.cliradlw.setup as setup_cliradlw\n",
    "import climatools.cliradlw.pipeline as pipe_cliradlw\n",
    "\n",
    "import climatools.html.html as climahtml\n",
    "from climatools.lblnew.dataio import *\n",
    "from climatools.plot.plot import *\n",
    "\n",
    "\n",
    "import IPython.display as display"
   ]
  },
  {
   "cell_type": "code",
   "execution_count": 2,
   "metadata": {
    "collapsed": true
   },
   "outputs": [],
   "source": [
    "%run param.py"
   ]
  },
  {
   "cell_type": "code",
   "execution_count": 3,
   "metadata": {
    "collapsed": true
   },
   "outputs": [],
   "source": [
    "def load_output_file(path_csv):\n",
    "    '''\n",
    "    Load lblnew output .csv file to xarray.Dataset\n",
    "    \n",
    "    Parameters\n",
    "    ----------\n",
    "    path_csv: str\n",
    "              Path to the .csv file to be loaded.\n",
    "    ds: xarray.Dataset\n",
    "        Data in the input file in the form of an xarray.Dataset.\n",
    "    '''\n",
    "    toindex = ['band', 'pressure', 'igg', 'g']    \n",
    "    df = pd.read_csv(path_csv, sep=r'\\s+')\n",
    "    df = df.set_index([i for i in toindex if i in df.columns])\n",
    "    df = df.rename(columns={'sfu': 'flug',\n",
    "                            'sfd': 'fldg',\n",
    "                            'fnet': 'fnetg',\n",
    "                            'coolr': 'coolrg'})\n",
    "    ds = xr.Dataset.from_dataframe(df)\n",
    "\n",
    "    for l in ('level', 'layer'):\n",
    "        if l in ds.data_vars:\n",
    "            if len(ds[l].dims) > 1:\n",
    "                surface = {d: 0 for d in ds.dims if d != 'pressure'}\n",
    "                coord_level = ds[l][surface]\n",
    "                ds.coords[l] = ('pressure', coord_level)\n",
    "            else:\n",
    "                ds.coords[l] = ('pressure', ds[l])\n",
    "    \n",
    "    return ds"
   ]
  },
  {
   "cell_type": "code",
   "execution_count": 4,
   "metadata": {
    "collapsed": true
   },
   "outputs": [],
   "source": [
    "def lblnew_setup(param=None):\n",
    "    if 'ng_refs' in param:\n",
    "        return {'setup': setup_bestfit,\n",
    "                'fname_flux_crd': 'output_flux.dat',\n",
    "                'fname_cool_crd': 'output_coolr.dat',\n",
    "                'fname_flux_wgt': 'output_wfluxg.dat',\n",
    "                'fname_cool_wgt': 'output_wcoolrg.dat'}\n",
    "    else:\n",
    "        return {'setup': setup_overlap,\n",
    "                'fname_flux_crd': 'output_flux.dat',\n",
    "                'fname_cool_crd': 'output_coolr.dat',\n",
    "                'fname_flux_wgt': 'output_wflux.dat',\n",
    "                'fname_cool_wgt': 'output_wcoolr.dat'}\n",
    "\n",
    "    \n",
    "def load_lblnew_data(param):\n",
    "    \n",
    "    fname_dsname = [('fname_flux_crd', 'ds_flux_crd'),\n",
    "                    ('fname_cool_crd', 'ds_cool_crd'),\n",
    "                    ('fname_flux_wgt', 'ds_flux_wgt'),\n",
    "                    ('fname_cool_wgt', 'ds_cool_wgt')]\n",
    "    \n",
    "    d = lblnew_setup(param)\n",
    "    dir_fortran = pipe_lblnew.get_dir_case(param, setup=d['setup'])\n",
    "    \n",
    "    data_dict = {}\n",
    "    for fname, dsname in fname_dsname:\n",
    "        fpath = os.path.join(dir_fortran, d[fname])\n",
    "        data_dict[dsname] = load_output_file(fpath)\n",
    "    return data_dict\n",
    "    \n",
    "\n",
    "    \n",
    "    "
   ]
  },
  {
   "cell_type": "code",
   "execution_count": 5,
   "metadata": {
    "collapsed": true
   },
   "outputs": [],
   "source": [
    "d = load_lblnew_data(PARAM_LBLNEW)\n",
    "\n",
    "DS_FLUX_CRD = d['ds_flux_crd']\n",
    "DS_COOL_CRD = d['ds_cool_crd']\n",
    "DS_FLUX_WGT = d['ds_flux_wgt']\n",
    "DS_COOL_WGT = d['ds_cool_wgt']"
   ]
  },
  {
   "cell_type": "code",
   "execution_count": 6,
   "metadata": {
    "collapsed": true
   },
   "outputs": [],
   "source": [
    "DIR_FORTRAN = pipe_cliradlw.get_fortran_dir(PARAM, \n",
    "                                            setup=setup_cliradlw)\n",
    "\n",
    "PATH_FLUX = os.path.join(DIR_FORTRAN, 'output_flux.dat')\n",
    "PATH_COOL = os.path.join(DIR_FORTRAN, 'output_coolr.dat')\n",
    "\n",
    "DS_FLUX = load_output_file(PATH_FLUX)\n",
    "DS_COOL = load_output_file(PATH_COOL)"
   ]
  },
  {
   "cell_type": "code",
   "execution_count": 7,
   "metadata": {
    "collapsed": true
   },
   "outputs": [
    {
     "data": {
      "text/html": [
       "\n",
       "    <div class=\"bk-root\">\n",
       "        <a href=\"https://bokeh.pydata.org\" target=\"_blank\" class=\"bk-logo bk-logo-small bk-logo-notebook\"></a>\n",
       "        <span id=\"404ceea7-58c9-4757-9a7f-d478c8df385c\">Loading BokehJS ...</span>\n",
       "    </div>"
      ]
     },
     "metadata": {},
     "output_type": "display_data"
    },
    {
     "data": {
      "application/javascript": [
       "\n",
       "(function(root) {\n",
       "  function now() {\n",
       "    return new Date();\n",
       "  }\n",
       "\n",
       "  var force = true;\n",
       "\n",
       "  if (typeof (root._bokeh_onload_callbacks) === \"undefined\" || force === true) {\n",
       "    root._bokeh_onload_callbacks = [];\n",
       "    root._bokeh_is_loading = undefined;\n",
       "  }\n",
       "\n",
       "  var JS_MIME_TYPE = 'application/javascript';\n",
       "  var HTML_MIME_TYPE = 'text/html';\n",
       "  var EXEC_MIME_TYPE = 'application/vnd.bokehjs_exec.v0+json';\n",
       "  var CLASS_NAME = 'output_bokeh rendered_html';\n",
       "\n",
       "  /**\n",
       "   * Render data to the DOM node\n",
       "   */\n",
       "  function render(props, node) {\n",
       "    var script = document.createElement(\"script\");\n",
       "    node.appendChild(script);\n",
       "  }\n",
       "\n",
       "  /**\n",
       "   * Handle when an output is cleared or removed\n",
       "   */\n",
       "  function handleClearOutput(event, handle) {\n",
       "    var cell = handle.cell;\n",
       "\n",
       "    var id = cell.output_area._bokeh_element_id;\n",
       "    var server_id = cell.output_area._bokeh_server_id;\n",
       "    // Clean up Bokeh references\n",
       "    if (id !== undefined) {\n",
       "      Bokeh.index[id].model.document.clear();\n",
       "      delete Bokeh.index[id];\n",
       "    }\n",
       "\n",
       "    if (server_id !== undefined) {\n",
       "      // Clean up Bokeh references\n",
       "      var cmd = \"from bokeh.io.state import curstate; print(curstate().uuid_to_server['\" + server_id + \"'].get_sessions()[0].document.roots[0]._id)\";\n",
       "      cell.notebook.kernel.execute(cmd, {\n",
       "        iopub: {\n",
       "          output: function(msg) {\n",
       "            var element_id = msg.content.text.trim();\n",
       "            Bokeh.index[element_id].model.document.clear();\n",
       "            delete Bokeh.index[element_id];\n",
       "          }\n",
       "        }\n",
       "      });\n",
       "      // Destroy server and session\n",
       "      var cmd = \"import bokeh.io.notebook as ion; ion.destroy_server('\" + server_id + \"')\";\n",
       "      cell.notebook.kernel.execute(cmd);\n",
       "    }\n",
       "  }\n",
       "\n",
       "  /**\n",
       "   * Handle when a new output is added\n",
       "   */\n",
       "  function handleAddOutput(event, handle) {\n",
       "    var output_area = handle.output_area;\n",
       "    var output = handle.output;\n",
       "\n",
       "    // limit handleAddOutput to display_data with EXEC_MIME_TYPE content only\n",
       "    if ((output.output_type != \"display_data\") || (!output.data.hasOwnProperty(EXEC_MIME_TYPE))) {\n",
       "      return\n",
       "    }\n",
       "\n",
       "    var toinsert = output_area.element.find(\".\" + CLASS_NAME.split(' ')[0]);\n",
       "\n",
       "    if (output.metadata[EXEC_MIME_TYPE][\"id\"] !== undefined) {\n",
       "      toinsert[0].firstChild.textContent = output.data[JS_MIME_TYPE];\n",
       "      // store reference to embed id on output_area\n",
       "      output_area._bokeh_element_id = output.metadata[EXEC_MIME_TYPE][\"id\"];\n",
       "    }\n",
       "    if (output.metadata[EXEC_MIME_TYPE][\"server_id\"] !== undefined) {\n",
       "      var bk_div = document.createElement(\"div\");\n",
       "      bk_div.innerHTML = output.data[HTML_MIME_TYPE];\n",
       "      var script_attrs = bk_div.children[0].attributes;\n",
       "      for (var i = 0; i < script_attrs.length; i++) {\n",
       "        toinsert[0].firstChild.setAttribute(script_attrs[i].name, script_attrs[i].value);\n",
       "      }\n",
       "      // store reference to server id on output_area\n",
       "      output_area._bokeh_server_id = output.metadata[EXEC_MIME_TYPE][\"server_id\"];\n",
       "    }\n",
       "  }\n",
       "\n",
       "  function register_renderer(events, OutputArea) {\n",
       "\n",
       "    function append_mime(data, metadata, element) {\n",
       "      // create a DOM node to render to\n",
       "      var toinsert = this.create_output_subarea(\n",
       "        metadata,\n",
       "        CLASS_NAME,\n",
       "        EXEC_MIME_TYPE\n",
       "      );\n",
       "      this.keyboard_manager.register_events(toinsert);\n",
       "      // Render to node\n",
       "      var props = {data: data, metadata: metadata[EXEC_MIME_TYPE]};\n",
       "      render(props, toinsert[0]);\n",
       "      element.append(toinsert);\n",
       "      return toinsert\n",
       "    }\n",
       "\n",
       "    /* Handle when an output is cleared or removed */\n",
       "    events.on('clear_output.CodeCell', handleClearOutput);\n",
       "    events.on('delete.Cell', handleClearOutput);\n",
       "\n",
       "    /* Handle when a new output is added */\n",
       "    events.on('output_added.OutputArea', handleAddOutput);\n",
       "\n",
       "    /**\n",
       "     * Register the mime type and append_mime function with output_area\n",
       "     */\n",
       "    OutputArea.prototype.register_mime_type(EXEC_MIME_TYPE, append_mime, {\n",
       "      /* Is output safe? */\n",
       "      safe: true,\n",
       "      /* Index of renderer in `output_area.display_order` */\n",
       "      index: 0\n",
       "    });\n",
       "  }\n",
       "\n",
       "  // register the mime type if in Jupyter Notebook environment and previously unregistered\n",
       "  if (root.Jupyter !== undefined) {\n",
       "    var events = require('base/js/events');\n",
       "    var OutputArea = require('notebook/js/outputarea').OutputArea;\n",
       "\n",
       "    if (OutputArea.prototype.mime_types().indexOf(EXEC_MIME_TYPE) == -1) {\n",
       "      register_renderer(events, OutputArea);\n",
       "    }\n",
       "  }\n",
       "\n",
       "  \n",
       "  if (typeof (root._bokeh_timeout) === \"undefined\" || force === true) {\n",
       "    root._bokeh_timeout = Date.now() + 5000;\n",
       "    root._bokeh_failed_load = false;\n",
       "  }\n",
       "\n",
       "  var NB_LOAD_WARNING = {'data': {'text/html':\n",
       "     \"<div style='background-color: #fdd'>\\n\"+\n",
       "     \"<p>\\n\"+\n",
       "     \"BokehJS does not appear to have successfully loaded. If loading BokehJS from CDN, this \\n\"+\n",
       "     \"may be due to a slow or bad network connection. Possible fixes:\\n\"+\n",
       "     \"</p>\\n\"+\n",
       "     \"<ul>\\n\"+\n",
       "     \"<li>re-rerun `output_notebook()` to attempt to load from CDN again, or</li>\\n\"+\n",
       "     \"<li>use INLINE resources instead, as so:</li>\\n\"+\n",
       "     \"</ul>\\n\"+\n",
       "     \"<code>\\n\"+\n",
       "     \"from bokeh.resources import INLINE\\n\"+\n",
       "     \"output_notebook(resources=INLINE)\\n\"+\n",
       "     \"</code>\\n\"+\n",
       "     \"</div>\"}};\n",
       "\n",
       "  function display_loaded() {\n",
       "    var el = document.getElementById(\"404ceea7-58c9-4757-9a7f-d478c8df385c\");\n",
       "    if (el != null) {\n",
       "      el.textContent = \"BokehJS is loading...\";\n",
       "    }\n",
       "    if (root.Bokeh !== undefined) {\n",
       "      if (el != null) {\n",
       "        el.textContent = \"BokehJS \" + root.Bokeh.version + \" successfully loaded.\";\n",
       "      }\n",
       "    } else if (Date.now() < root._bokeh_timeout) {\n",
       "      setTimeout(display_loaded, 100)\n",
       "    }\n",
       "  }\n",
       "\n",
       "\n",
       "  function run_callbacks() {\n",
       "    try {\n",
       "      root._bokeh_onload_callbacks.forEach(function(callback) { callback() });\n",
       "    }\n",
       "    finally {\n",
       "      delete root._bokeh_onload_callbacks\n",
       "    }\n",
       "    console.info(\"Bokeh: all callbacks have finished\");\n",
       "  }\n",
       "\n",
       "  function load_libs(js_urls, callback) {\n",
       "    root._bokeh_onload_callbacks.push(callback);\n",
       "    if (root._bokeh_is_loading > 0) {\n",
       "      console.log(\"Bokeh: BokehJS is being loaded, scheduling callback at\", now());\n",
       "      return null;\n",
       "    }\n",
       "    if (js_urls == null || js_urls.length === 0) {\n",
       "      run_callbacks();\n",
       "      return null;\n",
       "    }\n",
       "    console.log(\"Bokeh: BokehJS not loaded, scheduling load and callback at\", now());\n",
       "    root._bokeh_is_loading = js_urls.length;\n",
       "    for (var i = 0; i < js_urls.length; i++) {\n",
       "      var url = js_urls[i];\n",
       "      var s = document.createElement('script');\n",
       "      s.src = url;\n",
       "      s.async = false;\n",
       "      s.onreadystatechange = s.onload = function() {\n",
       "        root._bokeh_is_loading--;\n",
       "        if (root._bokeh_is_loading === 0) {\n",
       "          console.log(\"Bokeh: all BokehJS libraries loaded\");\n",
       "          run_callbacks()\n",
       "        }\n",
       "      };\n",
       "      s.onerror = function() {\n",
       "        console.warn(\"failed to load library \" + url);\n",
       "      };\n",
       "      console.log(\"Bokeh: injecting script tag for BokehJS library: \", url);\n",
       "      document.getElementsByTagName(\"head\")[0].appendChild(s);\n",
       "    }\n",
       "  };var element = document.getElementById(\"404ceea7-58c9-4757-9a7f-d478c8df385c\");\n",
       "  if (element == null) {\n",
       "    console.log(\"Bokeh: ERROR: autoload.js configured with elementid '404ceea7-58c9-4757-9a7f-d478c8df385c' but no matching script tag was found. \")\n",
       "    return false;\n",
       "  }\n",
       "\n",
       "  var js_urls = [\"https://cdn.pydata.org/bokeh/release/bokeh-0.12.14.min.js\", \"https://cdn.pydata.org/bokeh/release/bokeh-widgets-0.12.14.min.js\", \"https://cdn.pydata.org/bokeh/release/bokeh-tables-0.12.14.min.js\", \"https://cdn.pydata.org/bokeh/release/bokeh-gl-0.12.14.min.js\"];\n",
       "\n",
       "  var inline_js = [\n",
       "    function(Bokeh) {\n",
       "      Bokeh.set_log_level(\"info\");\n",
       "    },\n",
       "    \n",
       "    function(Bokeh) {\n",
       "      \n",
       "    },\n",
       "    function(Bokeh) {\n",
       "      console.log(\"Bokeh: injecting CSS: https://cdn.pydata.org/bokeh/release/bokeh-0.12.14.min.css\");\n",
       "      Bokeh.embed.inject_css(\"https://cdn.pydata.org/bokeh/release/bokeh-0.12.14.min.css\");\n",
       "      console.log(\"Bokeh: injecting CSS: https://cdn.pydata.org/bokeh/release/bokeh-widgets-0.12.14.min.css\");\n",
       "      Bokeh.embed.inject_css(\"https://cdn.pydata.org/bokeh/release/bokeh-widgets-0.12.14.min.css\");\n",
       "      console.log(\"Bokeh: injecting CSS: https://cdn.pydata.org/bokeh/release/bokeh-tables-0.12.14.min.css\");\n",
       "      Bokeh.embed.inject_css(\"https://cdn.pydata.org/bokeh/release/bokeh-tables-0.12.14.min.css\");\n",
       "    }\n",
       "  ];\n",
       "\n",
       "  function run_inline_js() {\n",
       "    \n",
       "    if ((root.Bokeh !== undefined) || (force === true)) {\n",
       "      for (var i = 0; i < inline_js.length; i++) {\n",
       "        inline_js[i].call(root, root.Bokeh);\n",
       "      }if (force === true) {\n",
       "        display_loaded();\n",
       "      }} else if (Date.now() < root._bokeh_timeout) {\n",
       "      setTimeout(run_inline_js, 100);\n",
       "    } else if (!root._bokeh_failed_load) {\n",
       "      console.log(\"Bokeh: BokehJS failed to load within specified timeout.\");\n",
       "      root._bokeh_failed_load = true;\n",
       "    } else if (force !== true) {\n",
       "      var cell = $(document.getElementById(\"404ceea7-58c9-4757-9a7f-d478c8df385c\")).parents('.cell').data().cell;\n",
       "      cell.output_area.append_execute_result(NB_LOAD_WARNING)\n",
       "    }\n",
       "\n",
       "  }\n",
       "\n",
       "  if (root._bokeh_is_loading === 0) {\n",
       "    console.log(\"Bokeh: BokehJS loaded, going straight to plotting\");\n",
       "    run_inline_js();\n",
       "  } else {\n",
       "    load_libs(js_urls, function() {\n",
       "      console.log(\"Bokeh: BokehJS plotting callback run at\", now());\n",
       "      run_inline_js();\n",
       "    });\n",
       "  }\n",
       "}(window));"
      ],
      "application/vnd.bokehjs_load.v0+json": "\n(function(root) {\n  function now() {\n    return new Date();\n  }\n\n  var force = true;\n\n  if (typeof (root._bokeh_onload_callbacks) === \"undefined\" || force === true) {\n    root._bokeh_onload_callbacks = [];\n    root._bokeh_is_loading = undefined;\n  }\n\n  \n\n  \n  if (typeof (root._bokeh_timeout) === \"undefined\" || force === true) {\n    root._bokeh_timeout = Date.now() + 5000;\n    root._bokeh_failed_load = false;\n  }\n\n  var NB_LOAD_WARNING = {'data': {'text/html':\n     \"<div style='background-color: #fdd'>\\n\"+\n     \"<p>\\n\"+\n     \"BokehJS does not appear to have successfully loaded. If loading BokehJS from CDN, this \\n\"+\n     \"may be due to a slow or bad network connection. Possible fixes:\\n\"+\n     \"</p>\\n\"+\n     \"<ul>\\n\"+\n     \"<li>re-rerun `output_notebook()` to attempt to load from CDN again, or</li>\\n\"+\n     \"<li>use INLINE resources instead, as so:</li>\\n\"+\n     \"</ul>\\n\"+\n     \"<code>\\n\"+\n     \"from bokeh.resources import INLINE\\n\"+\n     \"output_notebook(resources=INLINE)\\n\"+\n     \"</code>\\n\"+\n     \"</div>\"}};\n\n  function display_loaded() {\n    var el = document.getElementById(\"404ceea7-58c9-4757-9a7f-d478c8df385c\");\n    if (el != null) {\n      el.textContent = \"BokehJS is loading...\";\n    }\n    if (root.Bokeh !== undefined) {\n      if (el != null) {\n        el.textContent = \"BokehJS \" + root.Bokeh.version + \" successfully loaded.\";\n      }\n    } else if (Date.now() < root._bokeh_timeout) {\n      setTimeout(display_loaded, 100)\n    }\n  }\n\n\n  function run_callbacks() {\n    try {\n      root._bokeh_onload_callbacks.forEach(function(callback) { callback() });\n    }\n    finally {\n      delete root._bokeh_onload_callbacks\n    }\n    console.info(\"Bokeh: all callbacks have finished\");\n  }\n\n  function load_libs(js_urls, callback) {\n    root._bokeh_onload_callbacks.push(callback);\n    if (root._bokeh_is_loading > 0) {\n      console.log(\"Bokeh: BokehJS is being loaded, scheduling callback at\", now());\n      return null;\n    }\n    if (js_urls == null || js_urls.length === 0) {\n      run_callbacks();\n      return null;\n    }\n    console.log(\"Bokeh: BokehJS not loaded, scheduling load and callback at\", now());\n    root._bokeh_is_loading = js_urls.length;\n    for (var i = 0; i < js_urls.length; i++) {\n      var url = js_urls[i];\n      var s = document.createElement('script');\n      s.src = url;\n      s.async = false;\n      s.onreadystatechange = s.onload = function() {\n        root._bokeh_is_loading--;\n        if (root._bokeh_is_loading === 0) {\n          console.log(\"Bokeh: all BokehJS libraries loaded\");\n          run_callbacks()\n        }\n      };\n      s.onerror = function() {\n        console.warn(\"failed to load library \" + url);\n      };\n      console.log(\"Bokeh: injecting script tag for BokehJS library: \", url);\n      document.getElementsByTagName(\"head\")[0].appendChild(s);\n    }\n  };var element = document.getElementById(\"404ceea7-58c9-4757-9a7f-d478c8df385c\");\n  if (element == null) {\n    console.log(\"Bokeh: ERROR: autoload.js configured with elementid '404ceea7-58c9-4757-9a7f-d478c8df385c' but no matching script tag was found. \")\n    return false;\n  }\n\n  var js_urls = [\"https://cdn.pydata.org/bokeh/release/bokeh-0.12.14.min.js\", \"https://cdn.pydata.org/bokeh/release/bokeh-widgets-0.12.14.min.js\", \"https://cdn.pydata.org/bokeh/release/bokeh-tables-0.12.14.min.js\", \"https://cdn.pydata.org/bokeh/release/bokeh-gl-0.12.14.min.js\"];\n\n  var inline_js = [\n    function(Bokeh) {\n      Bokeh.set_log_level(\"info\");\n    },\n    \n    function(Bokeh) {\n      \n    },\n    function(Bokeh) {\n      console.log(\"Bokeh: injecting CSS: https://cdn.pydata.org/bokeh/release/bokeh-0.12.14.min.css\");\n      Bokeh.embed.inject_css(\"https://cdn.pydata.org/bokeh/release/bokeh-0.12.14.min.css\");\n      console.log(\"Bokeh: injecting CSS: https://cdn.pydata.org/bokeh/release/bokeh-widgets-0.12.14.min.css\");\n      Bokeh.embed.inject_css(\"https://cdn.pydata.org/bokeh/release/bokeh-widgets-0.12.14.min.css\");\n      console.log(\"Bokeh: injecting CSS: https://cdn.pydata.org/bokeh/release/bokeh-tables-0.12.14.min.css\");\n      Bokeh.embed.inject_css(\"https://cdn.pydata.org/bokeh/release/bokeh-tables-0.12.14.min.css\");\n    }\n  ];\n\n  function run_inline_js() {\n    \n    if ((root.Bokeh !== undefined) || (force === true)) {\n      for (var i = 0; i < inline_js.length; i++) {\n        inline_js[i].call(root, root.Bokeh);\n      }if (force === true) {\n        display_loaded();\n      }} else if (Date.now() < root._bokeh_timeout) {\n      setTimeout(run_inline_js, 100);\n    } else if (!root._bokeh_failed_load) {\n      console.log(\"Bokeh: BokehJS failed to load within specified timeout.\");\n      root._bokeh_failed_load = true;\n    } else if (force !== true) {\n      var cell = $(document.getElementById(\"404ceea7-58c9-4757-9a7f-d478c8df385c\")).parents('.cell').data().cell;\n      cell.output_area.append_execute_result(NB_LOAD_WARNING)\n    }\n\n  }\n\n  if (root._bokeh_is_loading === 0) {\n    console.log(\"Bokeh: BokehJS loaded, going straight to plotting\");\n    run_inline_js();\n  } else {\n    load_libs(js_urls, function() {\n      console.log(\"Bokeh: BokehJS plotting callback run at\", now());\n      run_inline_js();\n    });\n  }\n}(window));"
     },
     "metadata": {},
     "output_type": "display_data"
    }
   ],
   "source": [
    "output_notebook()"
   ]
  },
  {
   "cell_type": "code",
   "execution_count": 8,
   "metadata": {
    "collapsed": true
   },
   "outputs": [],
   "source": [
    "def fmt_cool(ds_in):\n",
    "    ds = ds_in.copy(deep=True)\n",
    "    if 'igg' in ds.dims:\n",
    "        ds = ds.sel(igg=1)\n",
    "\n",
    "    if 'g' in ds.dims:\n",
    "        ds = ds.sum('g')\n",
    "            \n",
    "    if 'band' in ds.dims:\n",
    "        try:\n",
    "            ds = ds.squeeze('band')\n",
    "        except ValueError:\n",
    "            ds = ds.sum('band')\n",
    "                \n",
    "    return ds['coolrg']\n",
    "\n",
    "\n",
    "def pltdata_cooling_1(ds_cool=None,\n",
    "                      ds_cool_crd=None, ds_cool_wgt=None):\n",
    "    \n",
    "\n",
    "\n",
    "    colors = all_palettes['Set1'][4]\n",
    "    data = [{'label': 'CLIRAD `coolr_bands`',\n",
    "             'srs': fmt_cool(ds_cool),\n",
    "             'line_dash': 'dashed', 'line_width': 5,\n",
    "             'color': colors[0], 'alpha': .6},\n",
    "            {'label': 'CRD',\n",
    "             'srs': fmt_cool(ds_cool_crd),\n",
    "             'line_dash': 'solid', 'line_width': 1.5,\n",
    "             'marker': 'circle', 'marker_size': 5,\n",
    "             'color': colors[2], 'alpha': 1,},\n",
    "            {'label': 'WGT igg=10 wgt_flux=2',\n",
    "             'srs': fmt_cool(ds_cool_wgt),\n",
    "             'line_dash': 'solid', 'line_width': 3,\n",
    "             'marker': 'square', 'marker_size': 5,\n",
    "             'color': colors[3], 'alpha': .6}]\n",
    "    return data\n",
    "\n",
    "\n",
    "def nice_xlims(pltdata=None, prange=None):\n",
    "    \n",
    "    def get_slice(srs):\n",
    "        return srs.sel(pressure=slice(*prange))\n",
    "    \n",
    "    srss = [d['srs'] for d in pltdata]\n",
    "    vmin = min([get_slice(srs).min() for srs in srss])\n",
    "    vmax = max([get_slice(srs).max() for srs in srss])\n",
    "    dv = (vmax - vmin) * .01\n",
    "    return float(vmin - dv), float(vmax + dv)\n",
    "    \n",
    "\n",
    "def plt_cooling_bokeh(pltdata=None):\n",
    "    '''\n",
    "    Plot a list of cooling rate profiles using bokeh.\n",
    "    '''\n",
    "    ymin = 1e-2 \n",
    "    ymax = 1020 \n",
    "        \n",
    "    p1 = figure(title=\"Linear pressure scale\", \n",
    "                plot_width=400)        \n",
    "    xmin, xmax = nice_xlims(pltdata, prange=(50, 1050))\n",
    "    for d in pltdata:\n",
    "        if 'marker' in d:\n",
    "            getattr(p1, d['marker'])(d['srs'].values, \n",
    "                    d['srs'].coords['pressure'].values,\n",
    "                    color=d['color'], alpha=.7)\n",
    "        p1.line(d['srs'].values, \n",
    "                d['srs'].coords['pressure'].values,\n",
    "                color=d['color'], alpha=d['alpha'], \n",
    "                line_width=d['line_width'], line_dash=d['line_dash'])\n",
    "    \n",
    "    p1.y_range = Range1d(ymax, ymin)\n",
    "    p1.yaxis.axis_label = 'pressure [mb]'   \n",
    "    p1.x_range = Range1d(xmin, xmax)\n",
    "    p1.xaxis.axis_label = 'cooling rate [K/day]'\n",
    "            \n",
    "    p2 = figure(title='Log pressure scale', y_axis_type='log',\n",
    "                plot_width=560)\n",
    "    xmin, xmax = nice_xlims(pltdata, prange=(.01, 200))\n",
    "    \n",
    "    rs = []\n",
    "    for d in pltdata:\n",
    "        rd = []\n",
    "        if 'marker' in d:\n",
    "            r_mark = getattr(p2, d['marker'])(d['srs'].values, \n",
    "                        d['srs'].coords['pressure'].values,\n",
    "                        color=d['color'], alpha=.7)\n",
    "            rd.append(r_mark)\n",
    "        r_line = p2.line(d['srs'].values, \n",
    "                    d['srs'].coords['pressure'].values,\n",
    "                    color=d['color'], alpha=d['alpha'], \n",
    "                    line_width=d['line_width'], line_dash=d['line_dash'])\n",
    "        rd.append(r_line)\n",
    "      \n",
    "        rs.append(rd)\n",
    "        \n",
    "    p2.y_range = Range1d(ymax, ymin)  \n",
    "    p2.yaxis.axis_label = 'pressure [mb]'\n",
    "    \n",
    "    p2.x_range = Range1d(xmin, xmax)\n",
    "    p2.xaxis.axis_label = 'cooling rate [K/day]'\n",
    "    \n",
    "    items = [(d['label'], r) for r, d in zip(rs, pltdata)]\n",
    "    legend = Legend(items=items, location=(10, -30))\n",
    "    legend.label_text_font_size = '8pt'\n",
    "    \n",
    "    p2.add_layout(legend, 'right')  \n",
    "    \n",
    "    show(gridplot(p1, p2, ncols=2, plot_height=500))\n",
    "    \n",
    "\n",
    "def script_plt_cooling():\n",
    "    pltdata = pltdata_cooling_1(\n",
    "        ds_cool=DS_COOL,\n",
    "        ds_cool_crd=DS_COOL_CRD,\n",
    "        ds_cool_wgt=DS_COOL_WGT)\n",
    "    plt_cooling_bokeh(pltdata=pltdata)\n",
    "    print('''FIGURE. Cooling rate profiles.''')"
   ]
  },
  {
   "cell_type": "code",
   "execution_count": 9,
   "metadata": {
    "collapsed": true
   },
   "outputs": [],
   "source": [
    "def fmt_flux(ds_in):\n",
    "    ds = ds_in.copy(deep=True)\n",
    "    \n",
    "    for l in ('level', 'layer'):\n",
    "        if l in ds.data_vars:\n",
    "            if len(ds[l].dims) > 1:\n",
    "                surface = {d: 0 for d in ds.dims if d != 'pressure'}\n",
    "                coord_level = ds[l][surface]\n",
    "                ds.coords[l] = ('pressure', coord_level)\n",
    "            else:\n",
    "                ds.coords[l] = ('pressure', ds[l])\n",
    "        \n",
    "    ds = ds.isel(pressure=[0, 23, -1])\n",
    "        \n",
    "    if 'igg' in ds.dims:\n",
    "        ds = ds.sel(igg=[1])\n",
    "        ds = ds.squeeze('igg').drop('igg')\n",
    "    \n",
    "    if 'g' in ds.dims:\n",
    "        ds = ds.sum('g')\n",
    "            \n",
    "    if 'band' in ds.dims:\n",
    "        try:\n",
    "            ds = ds.squeeze('band').drop('band')\n",
    "        except ValueError:\n",
    "            ds = ds.sum('band')\n",
    "                \n",
    "    df = ds.to_dataframe()\n",
    "    df = df.set_index('level', append=True)               \n",
    "    return df\n",
    "\n",
    "\n",
    "def tbdata_flux(ds_flux=None, ds_flux_crd=None, ds_flux_wgt=None):\n",
    "    ilevels = [0, 23, -1]\n",
    "            \n",
    "    benchmark = {'label': 'WGT igg=10 wgt_flux=1',\n",
    "                 'df': fmt_flux(ds_flux_wgt)}\n",
    "    \n",
    "    tbs = [{'label': 'CRD',\n",
    "            'df': fmt_flux(ds_flux_crd)},\n",
    "           {'label': 'CLIRAD',\n",
    "            'df': fmt_flux(ds_flux)}]\n",
    "    \n",
    "    data = {'benchmark': benchmark, 'others': tbs}\n",
    "    return data\n",
    "\n",
    "\n",
    "def tb_flux(tbdata=None):\n",
    "    benchmark = tbdata['benchmark']\n",
    "    others = tbdata['others']\n",
    "    \n",
    "    def show_tb(d=None):\n",
    "        display.display(d['df'])\n",
    "        print('Table.', 'Fluxes.', d['label'])\n",
    "        \n",
    "    def show_tbdiff(d0=None, d=None):\n",
    "        df = d['df']\n",
    "        df.index = d0['df'].index\n",
    "        display.display(df - d0['df'])\n",
    "        print('Table.', 'Fluxes.', \n",
    "              '({}) - ({})'.format(d['label'], d0['label']))\n",
    "        \n",
    "    show_tb(benchmark)\n",
    "    for d in others:\n",
    "        show_tb(d)\n",
    "        \n",
    "    for d in others:\n",
    "        show_tbdiff(d=d, d0=benchmark)\n",
    "        \n",
    "        \n",
    "def script_tb_flux():\n",
    "    data = tbdata_flux(ds_flux=DS_FLUX,\n",
    "                       ds_flux_crd=DS_FLUX_CRD,\n",
    "                       ds_flux_wgt=DS_FLUX_WGT)\n",
    "    tb_flux(tbdata=data)"
   ]
  },
  {
   "cell_type": "code",
   "execution_count": 10,
   "metadata": {
    "collapsed": true
   },
   "outputs": [],
   "source": [
    "def band_map():\n",
    "    '''\n",
    "    Maps spectral bands in lblnew to spectral bands in clirad.\n",
    "    '''\n",
    "    lblnew2clirad = {'1': '1',\n",
    "            '2': '2',\n",
    "            '3a': '3',\n",
    "            '3b': '4',\n",
    "            '3c': '5',\n",
    "            '4': '6', \n",
    "            '5': '7',\n",
    "            '6': '8',\n",
    "            '7': '9', \n",
    "            '8': '10',\n",
    "            '9': '11'}\n",
    "    \n",
    "    clirad2lblnew = {clirad: lblnew \n",
    "                     for lblnew, clirad in lblnew2clirad.items()}\n",
    "    return clirad2lblnew\n",
    "\n",
    "\n",
    "def gasbands():\n",
    "    bmap = band_map()\n",
    "    gases = list(PARAM['molecule'].keys())\n",
    "    \n",
    "    bands = [bmap[str(b)] for b in PARAM['band']]\n",
    "    return list(itertools.product(gases, bands))\n",
    "\n",
    "\n",
    "def print_bestfit_params():\n",
    "    print('Best-fit values for each (gas, band)')\n",
    "    print('------------------------------------')\n",
    "    for gas, band in gasbands():\n",
    "        print('o {} band{}'.format(gas, band))\n",
    "        param = bestfits.kdist_params(molecule=gas, band=band)\n",
    "        for name, value in sorted(param.items()):\n",
    "            print(2 * ' ' + '{} = {}'.format(name, value))\n",
    "\n",
    "        \n",
    "def print_input_param():        \n",
    "    for name, value in PARAM.items():\n",
    "        print('{} = {}'.format(name, value))\n",
    "        \n",
    "        \n",
    "def print_lblnew_param():\n",
    "    for name, value in sorted(PARAM_LBLNEW.items()):\n",
    "        print('{} = {}'.format(name, value))\n"
   ]
  },
  {
   "cell_type": "code",
   "execution_count": 11,
   "metadata": {
    "collapsed": true,
    "scrolled": false
   },
   "outputs": [],
   "source": [
    "def show_html(s):\n",
    "    display.display(display.HTML(s))\n",
    "\n",
    "    \n",
    "def show_markdown(s):\n",
    "    display.display(display.Markdown(s))\n",
    "\n",
    "    \n",
    "def script():\n",
    "    \n",
    "    title = '### CLIRAD-LW'\n",
    "    s_input = 'Input Parameters'\n",
    "    s_lblnew_param = 'LBLNEW case compaired against'\n",
    "    s_bestfits = 'Best-fit Parameters'\n",
    "    s_plt_cooling = 'Cooling Rate Profiles'\n",
    "    s_tb_flux = 'Flux Comparison'\n",
    "    \n",
    "    # title\n",
    "    show_markdown('### CLIRAD-LW')\n",
    "    \n",
    "    # TOC\n",
    "    show_markdown('### Table of Contents')\n",
    "    show_html(climahtml.getHTML_hrefanchor(s_input))\n",
    "    show_html(climahtml.getHTML_hrefanchor(s_lblnew_param))\n",
    "    show_html(climahtml.getHTML_hrefanchor(s_plt_cooling))\n",
    "    show_html(climahtml.getHTML_hrefanchor(s_tb_flux))\n",
    "    show_html(climahtml.getHTML_hrefanchor(s_bestfits))\n",
    "    \n",
    "    # Input parameters\n",
    "    show_html(climahtml.getHTML_idanchor(s_input))\n",
    "    show_markdown(climahtml.getMarkdown_sectitle(s_input))\n",
    "    print_input_param()\n",
    "    \n",
    "    # LBLNEW parameters \n",
    "    show_html(climahtml.getHTML_idanchor(s_lblnew_param))\n",
    "    show_markdown(climahtml.getMarkdown_sectitle(s_lblnew_param))\n",
    "    print_lblnew_param()\n",
    "    \n",
    "    # Cooling rate profiles\n",
    "    show_html(climahtml.getHTML_idanchor(s_plt_cooling))\n",
    "    show_markdown(climahtml.getMarkdown_sectitle(s_plt_cooling))\n",
    "    script_plt_cooling()\n",
    "    \n",
    "    # Flux comparison\n",
    "    show_html(climahtml.getHTML_idanchor(s_tb_flux))\n",
    "    show_markdown(climahtml.getMarkdown_sectitle(s_tb_flux))\n",
    "    script_tb_flux()\n",
    "    \n",
    "    # Best-fit values\n",
    "    show_html(climahtml.getHTML_idanchor(s_bestfits))\n",
    "    show_markdown(climahtml.getMarkdown_sectitle(s_bestfits))\n",
    "    print_bestfit_params()\n",
    "   \n",
    "    "
   ]
  },
  {
   "cell_type": "code",
   "execution_count": 12,
   "metadata": {
    "collapsed": true,
    "scrolled": false
   },
   "outputs": [
    {
     "data": {
      "text/markdown": [
       "### CLIRAD-LW"
      ],
      "text/plain": [
       "<IPython.core.display.Markdown object>"
      ]
     },
     "metadata": {},
     "output_type": "display_data"
    },
    {
     "data": {
      "text/markdown": [
       "### Table of Contents"
      ],
      "text/plain": [
       "<IPython.core.display.Markdown object>"
      ]
     },
     "metadata": {},
     "output_type": "display_data"
    },
    {
     "data": {
      "text/html": [
       "<a href=\"#Input_Parameters\">Input Parameters</a>"
      ],
      "text/plain": [
       "<IPython.core.display.HTML object>"
      ]
     },
     "metadata": {},
     "output_type": "display_data"
    },
    {
     "data": {
      "text/html": [
       "<a href=\"#LBLNEW_case_compaired_against\">LBLNEW case compaired against</a>"
      ],
      "text/plain": [
       "<IPython.core.display.HTML object>"
      ]
     },
     "metadata": {},
     "output_type": "display_data"
    },
    {
     "data": {
      "text/html": [
       "<a href=\"#Cooling_Rate_Profiles\">Cooling Rate Profiles</a>"
      ],
      "text/plain": [
       "<IPython.core.display.HTML object>"
      ]
     },
     "metadata": {},
     "output_type": "display_data"
    },
    {
     "data": {
      "text/html": [
       "<a href=\"#Flux_Comparison\">Flux Comparison</a>"
      ],
      "text/plain": [
       "<IPython.core.display.HTML object>"
      ]
     },
     "metadata": {},
     "output_type": "display_data"
    },
    {
     "data": {
      "text/html": [
       "<a href=\"#Best-fit_Parameters\">Best-fit Parameters</a>"
      ],
      "text/plain": [
       "<IPython.core.display.HTML object>"
      ]
     },
     "metadata": {},
     "output_type": "display_data"
    },
    {
     "data": {
      "text/html": [
       "<a id=\"Input_Parameters\"></a>"
      ],
      "text/plain": [
       "<IPython.core.display.HTML object>"
      ]
     },
     "metadata": {},
     "output_type": "display_data"
    },
    {
     "data": {
      "text/markdown": [
       "# Input Parameters"
      ],
      "text/plain": [
       "<IPython.core.display.Markdown object>"
      ]
     },
     "metadata": {},
     "output_type": "display_data"
    },
    {
     "name": "stdout",
     "output_type": "stream",
     "text": [
      "atmpro = mls\n",
      "band = [3]\n",
      "commitnumber = 9a64c27\n",
      "molecule = {'co2': 0.0004}\n",
      "tsfc = 294\n"
     ]
    },
    {
     "data": {
      "text/html": [
       "<a id=\"LBLNEW_case_compaired_against\"></a>"
      ],
      "text/plain": [
       "<IPython.core.display.HTML object>"
      ]
     },
     "metadata": {},
     "output_type": "display_data"
    },
    {
     "data": {
      "text/markdown": [
       "# LBLNEW case compaired against"
      ],
      "text/plain": [
       "<IPython.core.display.Markdown object>"
      ]
     },
     "metadata": {},
     "output_type": "display_data"
    },
    {
     "name": "stdout",
     "output_type": "stream",
     "text": [
      "atmpro = mls\n",
      "band = 3a\n",
      "commitnumber = 2bd1f75\n",
      "conc = 0.0004\n",
      "dv = 0.01\n",
      "klin = 6.375563e-24\n",
      "molecule = co2\n",
      "ng_adju = [0, 0, 0]\n",
      "ng_refs = [3, 2, 4]\n",
      "nv = 100\n",
      "option_compute_btable = 0\n",
      "option_compute_ktable = 0\n",
      "option_wgt_flux = 1\n",
      "option_wgt_k = 1\n",
      "ref_pts = [(1, 250), (10, 250), (500, 250)]\n",
      "tsfc = 294\n",
      "vmax = 620\n",
      "vmin = 540\n",
      "w_diffuse = [(1.6, 1.6, 1.7), (1.75, 1.75), (1.55, 1.55, 1.6, 1.85)]\n",
      "wgt = [(0.7, 0.3, 0.7), (0.7, 0.6), (0.4, 0.5, 0.8, 0.95)]\n"
     ]
    },
    {
     "data": {
      "text/html": [
       "<a id=\"Cooling_Rate_Profiles\"></a>"
      ],
      "text/plain": [
       "<IPython.core.display.HTML object>"
      ]
     },
     "metadata": {},
     "output_type": "display_data"
    },
    {
     "data": {
      "text/markdown": [
       "# Cooling Rate Profiles"
      ],
      "text/plain": [
       "<IPython.core.display.Markdown object>"
      ]
     },
     "metadata": {},
     "output_type": "display_data"
    },
    {
     "data": {
      "text/html": [
       "\n",
       "<div class=\"bk-root\">\n",
       "    <div class=\"bk-plotdiv\" id=\"19d05fe1-9ac9-4777-b3b9-3a30a9ff6f9f\"></div>\n",
       "</div>"
      ]
     },
     "metadata": {},
     "output_type": "display_data"
    },
    {
     "data": {
      "application/javascript": [
       "(function(root) {\n",
       "  function embed_document(root) {\n",
       "    \n",
       "  var docs_json = {\"0b8ef6c5-3bb8-4bbf-9df8-35423b89af68\":{\"roots\":{\"references\":[{\"attributes\":{\"data_source\":{\"id\":\"a83123e7-6e9a-4f96-bea8-9dc140bf94a4\",\"type\":\"ColumnDataSource\"},\"glyph\":{\"id\":\"bc6557c7-aab6-423b-a13f-f142785d0465\",\"type\":\"Circle\"},\"hover_glyph\":null,\"muted_glyph\":null,\"nonselection_glyph\":{\"id\":\"09f31028-e2be-461f-9550-de72d873e1a0\",\"type\":\"Circle\"},\"selection_glyph\":null,\"view\":{\"id\":\"302b3a20-ff62-4abc-8bf9-95c3a5c84d38\",\"type\":\"CDSView\"}},\"id\":\"38985a2b-3414-4e97-83f7-e57af5155c6e\",\"type\":\"GlyphRenderer\"},{\"attributes\":{},\"id\":\"172c7819-d012-4a15-b147-45097139bfa2\",\"type\":\"BasicTicker\"},{\"attributes\":{},\"id\":\"c0174dc4-1b34-4d67-b0f2-91576c4e3618\",\"type\":\"PanTool\"},{\"attributes\":{\"callback\":null,\"column_names\":[\"x\",\"y\"],\"data\":{\"x\":{\"__ndarray__\":\"6p3H2iXP1D8awuWgS+TUP55fHuIAeNU/lJpPnTkb1j+QmPz/uKHWP0AIq04ZBdc/GEa75upA1z87sVE38ULXP2KgRdHR+dY/oWNwcThR1j/NwJ3jHjLVP9TlrnXwfNM/TuCUPxcP0T9fJaisaZDLP0Sa3SYaYsY/jcbK+ncbyD+hgPodpBfOPxQT2YNvE9E/OV7rBR6T0j9Vo3D/4BXVP9BDckk5c9o/0JCVSv0+4j9SqTjj8hboP82+Tkj0POg/dGDYYZVx4z85XjacLj3eP7KyBPs12dc/qxHVIxcN0z+uxFIdlaHOP+mBiIgjTcg/NZNbRwxowj8UY4VUVBy6P03QrgH26bI/j/grcKCNrj9rBe81hjOpP2DCgO4Hm6M/WNCXr8Rznz9ar/KxNueZP1bb182cPY0/MpmeoToqYD/8F3Lte7FmP9zQkJXJwpA/nXUY9VL2nD+kDxJpEjyjP0eVbqXuNac/YtI0Vh2qqj/yF5xD58etPxm48SoIVbA/HfofrbqzsT/u6k3RnQCzPzixPk0uObQ/IQbAqSZWtT/25d9mZEm2Pzt+9AsKJLc/IaRSy0Lptz9gJQU5eKC4PzxtEbBETbk/JFgg1PnvuT/yqHm/u4q6PwkBRcwtHrs/Pt2ZwbSruz89wZFT2zu8P1bXxnQrxrw/5KgGTblgvT/9UUfuEAq+P96B8NZ8xL4/nIzevzmDvz+GC2sJFwvAP/MLqllfJcA/ZKfNlskRwD9sgqqmr9i/PzjR1iDiqr8/6YaXEeXFvz80U/8yPjLAP10Io8dbTME/\",\"dtype\":\"float64\",\"shape\":[75]},\"y\":{\"__ndarray__\":\"GhExyth1ND/Sv8nbtpRIP2vylNV0PVE/aTum7souWD/At0SJ8fVgPw3Iuahxymc/MSNhhJWvcD/bTfBN02d3P2zb5nxnaoA/CD5h5MAGhz8NmeH1TyaQP+zrCsc9p5Y/LbKd76fGnz/bLW5ISEmmPww9YvTcQq8/JV2OstnstT8Er5Y7M8G+P0c+r3jqkcU/5h99k6ZBzj88bCIzFzjVP4enV8oyxN0//yH99nXg5D8qOpLLf0jtP5kqGJXUifQ/c9cS8kHP/D+/DpwzojQEQIEmwoanVwxA4lgXt9HgE0BSSZ2AJuIbQAMJih9jjiNA5q4l5INuK0AwTKYKRj0zQNv5fmq8/DpAaCJseHrtQkB/+zpwzoxKQM3MzMzMeFJAZmZmZmZqWEAAAAAAAFxeQM3MzMzMJmJAmpmZmZkfZUBmZmZmZhhoQDMzMzMzEWtAAAAAAAAKbkBmZmZmZoFwQM3MzMzM/XFAMzMzMzN6c0CamZmZmfZ0QAAAAAAAc3ZAZmZmZmbvd0DNzMzMzGt5QDMzMzMz6HpAmpmZmZlkfEAAAAAAAOF9QGZmZmZmXX9AZmZmZuZsgECamZmZGSuBQM3MzMxM6YFAAAAAAICngkAzMzMzs2WDQGZmZmbmI4RAmpmZmRnihEDNzMzMTKCFQAAAAACAXoZAMzMzM7Mch0BmZmZm5tqHQJqZmZkZmYhAzczMzExXiUAAAAAAgBWKQDMzMzOz04pAZmZmZuaRi0CamZmZGVCMQM3MzMxMDo1AAAAAAIDMjUAzMzMzs4qOQGZmZmbmSI9A\",\"dtype\":\"float64\",\"shape\":[75]}}},\"id\":\"a4411903-a190-4d30-8972-f3c086f8eecb\",\"type\":\"ColumnDataSource\"},{\"attributes\":{\"dimension\":1,\"plot\":{\"id\":\"af5bbf96-5de3-4bfe-a947-e8f0a41455ca\",\"subtype\":\"Figure\",\"type\":\"Plot\"},\"ticker\":{\"id\":\"172c7819-d012-4a15-b147-45097139bfa2\",\"type\":\"BasicTicker\"}},\"id\":\"70fe7ed7-2876-469b-a5b5-a76b62d2fdf1\",\"type\":\"Grid\"},{\"attributes\":{\"data_source\":{\"id\":\"f10d6268-3d3a-42f2-9103-d4e203a8f99d\",\"type\":\"ColumnDataSource\"},\"glyph\":{\"id\":\"2e0aee2b-b11f-41c2-a01e-e637bc746d83\",\"type\":\"Line\"},\"hover_glyph\":null,\"muted_glyph\":null,\"nonselection_glyph\":{\"id\":\"1f386eb7-2ef8-4a8f-8f88-4cc4a2f01535\",\"type\":\"Line\"},\"selection_glyph\":null,\"view\":{\"id\":\"719c96f3-ad4c-4dc8-bebb-de0991437213\",\"type\":\"CDSView\"}},\"id\":\"42c4cf35-da4b-4e78-afa7-1b0b030cd02f\",\"type\":\"GlyphRenderer\"},{\"attributes\":{\"callback\":null,\"column_names\":[\"x\",\"y\"],\"data\":{\"x\":{\"__ndarray__\":\"6p3H2iXP1D8awuWgS+TUP55fHuIAeNU/lJpPnTkb1j+QmPz/uKHWP0AIq04ZBdc/GEa75upA1z87sVE38ULXP2KgRdHR+dY/oWNwcThR1j/NwJ3jHjLVP9TlrnXwfNM/TuCUPxcP0T9fJaisaZDLP0Sa3SYaYsY/jcbK+ncbyD+hgPodpBfOPxQT2YNvE9E/OV7rBR6T0j9Vo3D/4BXVP9BDckk5c9o/0JCVSv0+4j9SqTjj8hboP82+Tkj0POg/dGDYYZVx4z85XjacLj3eP7KyBPs12dc/qxHVIxcN0z+uxFIdlaHOP+mBiIgjTcg/NZNbRwxowj8UY4VUVBy6P03QrgH26bI/j/grcKCNrj9rBe81hjOpP2DCgO4Hm6M/WNCXr8Rznz9ar/KxNueZP1bb182cPY0/MpmeoToqYD/8F3Lte7FmP9zQkJXJwpA/nXUY9VL2nD+kDxJpEjyjP0eVbqXuNac/YtI0Vh2qqj/yF5xD58etPxm48SoIVbA/HfofrbqzsT/u6k3RnQCzPzixPk0uObQ/IQbAqSZWtT/25d9mZEm2Pzt+9AsKJLc/IaRSy0Lptz9gJQU5eKC4PzxtEbBETbk/JFgg1PnvuT/yqHm/u4q6PwkBRcwtHrs/Pt2ZwbSruz89wZFT2zu8P1bXxnQrxrw/5KgGTblgvT/9UUfuEAq+P96B8NZ8xL4/nIzevzmDvz+GC2sJFwvAP/MLqllfJcA/ZKfNlskRwD9sgqqmr9i/PzjR1iDiqr8/6YaXEeXFvz80U/8yPjLAP10Io8dbTME/\",\"dtype\":\"float64\",\"shape\":[75]},\"y\":{\"__ndarray__\":\"GhExyth1ND/Sv8nbtpRIP2vylNV0PVE/aTum7souWD/At0SJ8fVgPw3Iuahxymc/MSNhhJWvcD/bTfBN02d3P2zb5nxnaoA/CD5h5MAGhz8NmeH1TyaQP+zrCsc9p5Y/LbKd76fGnz/bLW5ISEmmPww9YvTcQq8/JV2OstnstT8Er5Y7M8G+P0c+r3jqkcU/5h99k6ZBzj88bCIzFzjVP4enV8oyxN0//yH99nXg5D8qOpLLf0jtP5kqGJXUifQ/c9cS8kHP/D+/DpwzojQEQIEmwoanVwxA4lgXt9HgE0BSSZ2AJuIbQAMJih9jjiNA5q4l5INuK0AwTKYKRj0zQNv5fmq8/DpAaCJseHrtQkB/+zpwzoxKQM3MzMzMeFJAZmZmZmZqWEAAAAAAAFxeQM3MzMzMJmJAmpmZmZkfZUBmZmZmZhhoQDMzMzMzEWtAAAAAAAAKbkBmZmZmZoFwQM3MzMzM/XFAMzMzMzN6c0CamZmZmfZ0QAAAAAAAc3ZAZmZmZmbvd0DNzMzMzGt5QDMzMzMz6HpAmpmZmZlkfEAAAAAAAOF9QGZmZmZmXX9AZmZmZuZsgECamZmZGSuBQM3MzMxM6YFAAAAAAICngkAzMzMzs2WDQGZmZmbmI4RAmpmZmRnihEDNzMzMTKCFQAAAAACAXoZAMzMzM7Mch0BmZmZm5tqHQJqZmZkZmYhAzczMzExXiUAAAAAAgBWKQDMzMzOz04pAZmZmZuaRi0CamZmZGVCMQM3MzMxMDo1AAAAAAIDMjUAzMzMzs4qOQGZmZmbmSI9A\",\"dtype\":\"float64\",\"shape\":[75]}}},\"id\":\"5bde9b91-5ebd-495d-a420-4362d4c33a1e\",\"type\":\"ColumnDataSource\"},{\"attributes\":{},\"id\":\"afd12a8b-f499-4ede-972f-3d5d60756338\",\"type\":\"WheelZoomTool\"},{\"attributes\":{},\"id\":\"9944d20c-c585-445c-b9d2-d0eefc252b63\",\"type\":\"BasicTickFormatter\"},{\"attributes\":{\"source\":{\"id\":\"4a486d9a-1ce3-433b-9ef8-b84dfca2bac4\",\"type\":\"ColumnDataSource\"}},\"id\":\"2762090a-e6e1-44c1-997b-7bb589807e17\",\"type\":\"CDSView\"},{\"attributes\":{\"bottom_units\":\"screen\",\"fill_alpha\":{\"value\":0.5},\"fill_color\":{\"value\":\"lightgrey\"},\"left_units\":\"screen\",\"level\":\"overlay\",\"line_alpha\":{\"value\":1.0},\"line_color\":{\"value\":\"black\"},\"line_dash\":[4,4],\"line_width\":{\"value\":2},\"plot\":null,\"render_mode\":\"css\",\"right_units\":\"screen\",\"top_units\":\"screen\"},\"id\":\"36814a97-2185-4f37-8769-cb83212df5ff\",\"type\":\"BoxAnnotation\"},{\"attributes\":{\"label\":{\"value\":\"WGT igg=10 wgt_flux=2\"},\"renderers\":[{\"id\":\"672a8d6e-dcb9-4c2b-83c0-abf86ce63f2d\",\"type\":\"GlyphRenderer\"},{\"id\":\"e6aa781d-1729-43fb-b4e0-7720ee6de373\",\"type\":\"GlyphRenderer\"}]},\"id\":\"9a702c47-1882-4b96-a23a-4e0c14bf4483\",\"type\":\"LegendItem\"},{\"attributes\":{\"data_source\":{\"id\":\"a4411903-a190-4d30-8972-f3c086f8eecb\",\"type\":\"ColumnDataSource\"},\"glyph\":{\"id\":\"abc36219-a94e-4413-9c68-210afe69ae88\",\"type\":\"Square\"},\"hover_glyph\":null,\"muted_glyph\":null,\"nonselection_glyph\":{\"id\":\"7caa30e1-31be-4b45-99c9-895155204f4b\",\"type\":\"Square\"},\"selection_glyph\":null,\"view\":{\"id\":\"f847820a-e7c0-49da-8a7f-6c104cdc9469\",\"type\":\"CDSView\"}},\"id\":\"001b87b4-8066-4bff-84a1-19dab94d049b\",\"type\":\"GlyphRenderer\"},{\"attributes\":{\"active_drag\":\"auto\",\"active_inspect\":\"auto\",\"active_scroll\":\"auto\",\"active_tap\":\"auto\",\"tools\":[{\"id\":\"5ab8b310-458a-442a-8bf1-4d0fbf5a0a95\",\"type\":\"PanTool\"},{\"id\":\"9ae039d6-46f9-41e1-89af-8a30f46ac474\",\"type\":\"WheelZoomTool\"},{\"id\":\"fa746ac1-6b78-4e7f-854a-10ee9948dbe5\",\"type\":\"BoxZoomTool\"},{\"id\":\"8630f87e-eeb6-4eab-813a-5de757d3573d\",\"type\":\"SaveTool\"},{\"id\":\"8e665aad-9615-4def-8239-e44a5e51171d\",\"type\":\"ResetTool\"},{\"id\":\"4cedaaee-3c0a-4609-bb47-2790fec6c828\",\"type\":\"HelpTool\"}]},\"id\":\"1712de5e-8f00-4ea3-9651-f21724fe5549\",\"type\":\"Toolbar\"},{\"attributes\":{\"callback\":null,\"end\":0.01,\"start\":1020},\"id\":\"d6aa0aaa-cb8e-4afa-ad02-1b8af227237b\",\"type\":\"Range1d\"},{\"attributes\":{},\"id\":\"900a42ff-7261-4620-9f4c-3140d1271070\",\"type\":\"BasicTickFormatter\"},{\"attributes\":{\"num_minor_ticks\":10},\"id\":\"609c6e7f-2a62-4afc-85f1-fb07136646e7\",\"type\":\"LogTicker\"},{\"attributes\":{\"callback\":null,\"column_names\":[\"x\",\"y\"],\"data\":{\"x\":{\"__ndarray__\":\"/Dh5FUJc2j9aPMRYCQraP0/An6+Tmdo/sINSzQ8Q2z9iu72cwFHbP6SkTfZLW9s/IQeAhScP2z++Mi25o2LaPwSwfdg9P9k/7ECMxpCS1z+I0+78R0vVP63FArqKYNI/N0BAKSCOzT+XKXuF5OjEP9zIp40Lg7w/6qIyD6oevz8DpGirs1bGPw4LvRfC3sw/DzEUZpAx0j/NJ6dNBzjXPwwQu6WLQ94/4JWPavl95D8WIyJnJ2TqP9T7Wzyb+ek/vOsJnoRK5D/eGMjU2WDePwE4crQVgdY/mPjlxAW90D9Pb04+oODJP5CQWL2JwsQ/UQ80E8pKwD+crQhzxQm4P7XKHjESC7I/e+JNPycLrT8huDmxYS+mP2Tm7rLg950/vwcfspdZlT+TZiYqsfGQP+IFHWUneYA/SKLAhz4bWr/aC3NvAj4wP23Dsfl704s/BnlX7Bgfmj+PJcUqUh+iP3x1kAIEpqY/Ti53embIqj8DlVQa75auP3TJ2NOFDbE/nQZ3LUKtsj/+l0UKYCi0P03rcQrrebU/PI0eOX6atj9O3oZsroe3PwarF2f/SLg/L6uoqJfruD9wx5RCMnq5P55zfUAc+7k/5+7GxN5yuj+USbKzjeS6P6m96+AeU7s/WQ4d0AzBuz/mXAZzJjO8P0PEcvDxrrw/u5obV0w6vT9677ldedq9Pwnr1p20kb4/jAdCT1ZOvz+Cb5o+O+C/Pw6iUngSCcA/CZ0AWFfkvz/ebDm48JO/P/UfRsZyZL8/2ibsDYSFvz8BC2g7CRnAP2tDan8MQsE/\",\"dtype\":\"float64\",\"shape\":[75]},\"y\":{\"__ndarray__\":\"GhExyth1ND/Sv8nbtpRIP2vylNV0PVE/aTum7souWD/At0SJ8fVgPw3Iuahxymc/MSNhhJWvcD/bTfBN02d3P2zb5nxnaoA/CD5h5MAGhz8NmeH1TyaQP+zrCsc9p5Y/LbKd76fGnz/bLW5ISEmmPww9YvTcQq8/JV2OstnstT8Er5Y7M8G+P0c+r3jqkcU/5h99k6ZBzj88bCIzFzjVP4enV8oyxN0//yH99nXg5D8qOpLLf0jtP5kqGJXUifQ/c9cS8kHP/D+/DpwzojQEQIEmwoanVwxA4lgXt9HgE0BSSZ2AJuIbQAMJih9jjiNA5q4l5INuK0AwTKYKRj0zQNv5fmq8/DpAaCJseHrtQkB/+zpwzoxKQM3MzMzMeFJAZmZmZmZqWEAAAAAAAFxeQM3MzMzMJmJAmpmZmZkfZUBmZmZmZhhoQDMzMzMzEWtAAAAAAAAKbkBmZmZmZoFwQM3MzMzM/XFAMzMzMzN6c0CamZmZmfZ0QAAAAAAAc3ZAZmZmZmbvd0DNzMzMzGt5QDMzMzMz6HpAmpmZmZlkfEAAAAAAAOF9QGZmZmZmXX9AZmZmZuZsgECamZmZGSuBQM3MzMxM6YFAAAAAAICngkAzMzMzs2WDQGZmZmbmI4RAmpmZmRnihEDNzMzMTKCFQAAAAACAXoZAMzMzM7Mch0BmZmZm5tqHQJqZmZkZmYhAzczMzExXiUAAAAAAgBWKQDMzMzOz04pAZmZmZuaRi0CamZmZGVCMQM3MzMxMDo1AAAAAAIDMjUAzMzMzs4qOQGZmZmbmSI9A\",\"dtype\":\"float64\",\"shape\":[75]}}},\"id\":\"1f940d9d-bc08-4dbe-8233-75803b6bb9a6\",\"type\":\"ColumnDataSource\"},{\"attributes\":{\"fill_alpha\":{\"value\":0.7},\"fill_color\":{\"value\":\"#984ea3\"},\"line_alpha\":{\"value\":0.7},\"line_color\":{\"value\":\"#984ea3\"},\"x\":{\"field\":\"x\"},\"y\":{\"field\":\"y\"}},\"id\":\"abc36219-a94e-4413-9c68-210afe69ae88\",\"type\":\"Square\"},{\"attributes\":{\"fill_alpha\":{\"value\":0.7},\"fill_color\":{\"value\":\"#4daf4a\"},\"line_alpha\":{\"value\":0.7},\"line_color\":{\"value\":\"#4daf4a\"},\"x\":{\"field\":\"x\"},\"y\":{\"field\":\"y\"}},\"id\":\"bc6557c7-aab6-423b-a13f-f142785d0465\",\"type\":\"Circle\"},{\"attributes\":{\"callback\":null,\"column_names\":[\"x\",\"y\"],\"data\":{\"x\":{\"__ndarray__\":\"+V4q07s6zj/poGTVlKLOP1y/y9Jv288/+UqDTzGW0D+Hgdf8MjfRP4VKVFZwy9E/sHMVg25M0j8hteRMbq/SP3t6Uy7g59I/5YP5hh3h0j8Y4RbBOYLSP5KAqGacp9E/C0NHH7El0D/RIEdr85zLPxwU5qD478c/85ftdRg0yj/X6ItzigTQP4zoSy1jnNE/THsYlEgm0j+1gBoIE5DTP5x6MGtaUNg/l2rqZalP4T9rinT9im7nP+ZKkFNs8+c/vHv8tSeO4z9uMzbwepvePzK1AMhkTNg/ITHNtstl0z8CJz7r2BDPPy3UN7xiPsg/Ta2MgOk4wj8Z+xEN8n25Pw5DBEx7q7E/eJ25+dnXqz+kUuxoHOqnP9Br5KGMRKM/uhryMjednj+LBUmV5F2YP5w89eCfZok/woPwYnrjJT9y8KjYaJ5LPzGwmw2Kyow/HvfbDnVumj/0DpntaO6hP6m/PVPY2qU/6He924w4qT9SzJqIGUKsP3RsFMQGLK8/4dkCaLIEsT+MyAPTYWyyPyAhlSXkyrM/jVMrTuAWtT8MTAnpcki2Pw2VFJKrXLc/PKrZhC1WuD+wZt5W7EK5P6bFrieZILo/7KnN5g7uuj+kJUUay6q7PyWYxR+gVrw//RHIHR30vD+I7wbJ6Yi9PxM6XGkhGr4/7fgnn7uwvj9SbLu/ME+/P8AkdBv9/b8/km++KnpUwD98MKUFmpXAPx904AetqMA/JyJw4rOOwD/jxgzY/mPAP3IR5/qhRsA/DAP5hoBLwD8m5rQCno/AP97Qax5NlsE/\",\"dtype\":\"float64\",\"shape\":[75]},\"y\":{\"__ndarray__\":\"S/O/Q+51ND/Sv8nbtpRIP2vylNV0PVE/aTum7souWD/At0SJ8fVgPw3Iuahxymc/MSNhhJWvcD/bTfBN02d3P2zb5nxnaoA/CD5h5MAGhz8NmeH1TyaQP+zrCsc9p5Y/LbKd76fGnz/bLW5ISEmmPww9YvTcQq8/JV2OstnstT8Er5Y7M8G+P0c+r3jqkcU/5h99k6ZBzj88bCIzFzjVP4enV8oyxN0//yH99nXg5D8qOpLLf0jtP5kqGJXUifQ/c9cS8kHP/D+/DpwzojQEQIEmwoanVwxA4lgXt9HgE0BSSZ2AJuIbQAMJih9jjiNA5q4l5INuK0AwTKYKRj0zQNv5fmq8/DpAaCJseHrtQkB/+zpwzoxKQM3MzMzMeFJAZmZmZmZqWEAAAAAAAFxeQM3MzMzMJmJAmpmZmZkfZUBmZmZmZhhoQDMzMzMzEWtAAAAAAAAKbkBmZmZmZoFwQM3MzMzM/XFAMzMzMzN6c0CamZmZmfZ0QAAAAAAAc3ZAZmZmZmbvd0DNzMzMzGt5QDMzMzMz6HpAmpmZmZlkfEAAAAAAAOF9QGZmZmZmXX9AZmZmZuZsgECamZmZGSuBQM3MzMxM6YFAAAAAAICngkAzMzMzs2WDQGZmZmbmI4RAmpmZmRnihEDNzMzMTKCFQAAAAACAXoZAMzMzM7Mch0BmZmZm5tqHQJqZmZkZmYhAzczMzExXiUAAAAAAgBWKQDMzMzOz04pAZmZmZuaRi0CamZmZGVCMQM3MzMxMDo1AAAAAAIDMjUAzMzMzs4qOQGZmZmbmSI9A\",\"dtype\":\"float64\",\"shape\":[75]}}},\"id\":\"535e554e-dd62-4149-a598-da13683a822e\",\"type\":\"ColumnDataSource\"},{\"attributes\":{\"source\":{\"id\":\"a4411903-a190-4d30-8972-f3c086f8eecb\",\"type\":\"ColumnDataSource\"}},\"id\":\"f847820a-e7c0-49da-8a7f-6c104cdc9469\",\"type\":\"CDSView\"},{\"attributes\":{\"ticker\":null},\"id\":\"1bd97451-d1d3-4c85-be19-b7257e6c7475\",\"type\":\"LogTickFormatter\"},{\"attributes\":{\"overlay\":{\"id\":\"36814a97-2185-4f37-8769-cb83212df5ff\",\"type\":\"BoxAnnotation\"}},\"id\":\"483c3dcd-c6f7-4998-abfd-5d3cf78f244c\",\"type\":\"BoxZoomTool\"},{\"attributes\":{},\"id\":\"592ad931-4d98-4fda-af60-9c582ea2e88c\",\"type\":\"SaveTool\"},{\"attributes\":{\"callback\":null,\"column_names\":[\"x\",\"y\"],\"data\":{\"x\":{\"__ndarray__\":\"/Dh5FUJc2j9aPMRYCQraP0/An6+Tmdo/sINSzQ8Q2z9iu72cwFHbP6SkTfZLW9s/IQeAhScP2z++Mi25o2LaPwSwfdg9P9k/7ECMxpCS1z+I0+78R0vVP63FArqKYNI/N0BAKSCOzT+XKXuF5OjEP9zIp40Lg7w/6qIyD6oevz8DpGirs1bGPw4LvRfC3sw/DzEUZpAx0j/NJ6dNBzjXPwwQu6WLQ94/4JWPavl95D8WIyJnJ2TqP9T7Wzyb+ek/vOsJnoRK5D/eGMjU2WDePwE4crQVgdY/mPjlxAW90D9Pb04+oODJP5CQWL2JwsQ/UQ80E8pKwD+crQhzxQm4P7XKHjESC7I/e+JNPycLrT8huDmxYS+mP2Tm7rLg950/vwcfspdZlT+TZiYqsfGQP+IFHWUneYA/SKLAhz4bWr/aC3NvAj4wP23Dsfl704s/BnlX7Bgfmj+PJcUqUh+iP3x1kAIEpqY/Ti53embIqj8DlVQa75auP3TJ2NOFDbE/nQZ3LUKtsj/+l0UKYCi0P03rcQrrebU/PI0eOX6atj9O3oZsroe3PwarF2f/SLg/L6uoqJfruD9wx5RCMnq5P55zfUAc+7k/5+7GxN5yuj+USbKzjeS6P6m96+AeU7s/WQ4d0AzBuz/mXAZzJjO8P0PEcvDxrrw/u5obV0w6vT9677ldedq9Pwnr1p20kb4/jAdCT1ZOvz+Cb5o+O+C/Pw6iUngSCcA/CZ0AWFfkvz/ebDm48JO/P/UfRsZyZL8/2ibsDYSFvz8BC2g7CRnAP2tDan8MQsE/\",\"dtype\":\"float64\",\"shape\":[75]},\"y\":{\"__ndarray__\":\"GhExyth1ND/Sv8nbtpRIP2vylNV0PVE/aTum7souWD/At0SJ8fVgPw3Iuahxymc/MSNhhJWvcD/bTfBN02d3P2zb5nxnaoA/CD5h5MAGhz8NmeH1TyaQP+zrCsc9p5Y/LbKd76fGnz/bLW5ISEmmPww9YvTcQq8/JV2OstnstT8Er5Y7M8G+P0c+r3jqkcU/5h99k6ZBzj88bCIzFzjVP4enV8oyxN0//yH99nXg5D8qOpLLf0jtP5kqGJXUifQ/c9cS8kHP/D+/DpwzojQEQIEmwoanVwxA4lgXt9HgE0BSSZ2AJuIbQAMJih9jjiNA5q4l5INuK0AwTKYKRj0zQNv5fmq8/DpAaCJseHrtQkB/+zpwzoxKQM3MzMzMeFJAZmZmZmZqWEAAAAAAAFxeQM3MzMzMJmJAmpmZmZkfZUBmZmZmZhhoQDMzMzMzEWtAAAAAAAAKbkBmZmZmZoFwQM3MzMzM/XFAMzMzMzN6c0CamZmZmfZ0QAAAAAAAc3ZAZmZmZmbvd0DNzMzMzGt5QDMzMzMz6HpAmpmZmZlkfEAAAAAAAOF9QGZmZmZmXX9AZmZmZuZsgECamZmZGSuBQM3MzMxM6YFAAAAAAICngkAzMzMzs2WDQGZmZmbmI4RAmpmZmRnihEDNzMzMTKCFQAAAAACAXoZAMzMzM7Mch0BmZmZm5tqHQJqZmZkZmYhAzczMzExXiUAAAAAAgBWKQDMzMzOz04pAZmZmZuaRi0CamZmZGVCMQM3MzMxMDo1AAAAAAIDMjUAzMzMzs4qOQGZmZmbmSI9A\",\"dtype\":\"float64\",\"shape\":[75]}}},\"id\":\"a83123e7-6e9a-4f96-bea8-9dc140bf94a4\",\"type\":\"ColumnDataSource\"},{\"attributes\":{\"line_color\":\"#4daf4a\",\"line_width\":1.5,\"x\":{\"field\":\"x\"},\"y\":{\"field\":\"y\"}},\"id\":\"2e0aee2b-b11f-41c2-a01e-e637bc746d83\",\"type\":\"Line\"},{\"attributes\":{\"fill_alpha\":{\"value\":0.1},\"fill_color\":{\"value\":\"#1f77b4\"},\"line_alpha\":{\"value\":0.1},\"line_color\":{\"value\":\"#1f77b4\"},\"x\":{\"field\":\"x\"},\"y\":{\"field\":\"y\"}},\"id\":\"09f31028-e2be-461f-9550-de72d873e1a0\",\"type\":\"Circle\"},{\"attributes\":{},\"id\":\"93eff3bf-9f33-4ee4-909a-18b701fc1f41\",\"type\":\"HelpTool\"},{\"attributes\":{},\"id\":\"0053ee18-c478-4ad5-a5cd-57e91603c165\",\"type\":\"ResetTool\"},{\"attributes\":{\"source\":{\"id\":\"4adf5c55-0d02-470d-9e90-d5ad7f85ea51\",\"type\":\"ColumnDataSource\"}},\"id\":\"f6f7fc6d-9d61-437c-98e0-238ef41fab1a\",\"type\":\"CDSView\"},{\"attributes\":{\"callback\":null,\"end\":0.01,\"start\":1020},\"id\":\"ec261b68-7dab-4ec2-96dc-0e64c2a98ba4\",\"type\":\"Range1d\"},{\"attributes\":{\"callback\":null,\"column_names\":[\"x\",\"y\"],\"data\":{\"x\":{\"__ndarray__\":\"6p3H2iXP1D8awuWgS+TUP55fHuIAeNU/lJpPnTkb1j+QmPz/uKHWP0AIq04ZBdc/GEa75upA1z87sVE38ULXP2KgRdHR+dY/oWNwcThR1j/NwJ3jHjLVP9TlrnXwfNM/TuCUPxcP0T9fJaisaZDLP0Sa3SYaYsY/jcbK+ncbyD+hgPodpBfOPxQT2YNvE9E/OV7rBR6T0j9Vo3D/4BXVP9BDckk5c9o/0JCVSv0+4j9SqTjj8hboP82+Tkj0POg/dGDYYZVx4z85XjacLj3eP7KyBPs12dc/qxHVIxcN0z+uxFIdlaHOP+mBiIgjTcg/NZNbRwxowj8UY4VUVBy6P03QrgH26bI/j/grcKCNrj9rBe81hjOpP2DCgO4Hm6M/WNCXr8Rznz9ar/KxNueZP1bb182cPY0/MpmeoToqYD/8F3Lte7FmP9zQkJXJwpA/nXUY9VL2nD+kDxJpEjyjP0eVbqXuNac/YtI0Vh2qqj/yF5xD58etPxm48SoIVbA/HfofrbqzsT/u6k3RnQCzPzixPk0uObQ/IQbAqSZWtT/25d9mZEm2Pzt+9AsKJLc/IaRSy0Lptz9gJQU5eKC4PzxtEbBETbk/JFgg1PnvuT/yqHm/u4q6PwkBRcwtHrs/Pt2ZwbSruz89wZFT2zu8P1bXxnQrxrw/5KgGTblgvT/9UUfuEAq+P96B8NZ8xL4/nIzevzmDvz+GC2sJFwvAP/MLqllfJcA/ZKfNlskRwD9sgqqmr9i/PzjR1iDiqr8/6YaXEeXFvz80U/8yPjLAP10Io8dbTME/\",\"dtype\":\"float64\",\"shape\":[75]},\"y\":{\"__ndarray__\":\"GhExyth1ND/Sv8nbtpRIP2vylNV0PVE/aTum7souWD/At0SJ8fVgPw3Iuahxymc/MSNhhJWvcD/bTfBN02d3P2zb5nxnaoA/CD5h5MAGhz8NmeH1TyaQP+zrCsc9p5Y/LbKd76fGnz/bLW5ISEmmPww9YvTcQq8/JV2OstnstT8Er5Y7M8G+P0c+r3jqkcU/5h99k6ZBzj88bCIzFzjVP4enV8oyxN0//yH99nXg5D8qOpLLf0jtP5kqGJXUifQ/c9cS8kHP/D+/DpwzojQEQIEmwoanVwxA4lgXt9HgE0BSSZ2AJuIbQAMJih9jjiNA5q4l5INuK0AwTKYKRj0zQNv5fmq8/DpAaCJseHrtQkB/+zpwzoxKQM3MzMzMeFJAZmZmZmZqWEAAAAAAAFxeQM3MzMzMJmJAmpmZmZkfZUBmZmZmZhhoQDMzMzMzEWtAAAAAAAAKbkBmZmZmZoFwQM3MzMzM/XFAMzMzMzN6c0CamZmZmfZ0QAAAAAAAc3ZAZmZmZmbvd0DNzMzMzGt5QDMzMzMz6HpAmpmZmZlkfEAAAAAAAOF9QGZmZmZmXX9AZmZmZuZsgECamZmZGSuBQM3MzMxM6YFAAAAAAICngkAzMzMzs2WDQGZmZmbmI4RAmpmZmRnihEDNzMzMTKCFQAAAAACAXoZAMzMzM7Mch0BmZmZm5tqHQJqZmZkZmYhAzczMzExXiUAAAAAAgBWKQDMzMzOz04pAZmZmZuaRi0CamZmZGVCMQM3MzMxMDo1AAAAAAIDMjUAzMzMzs4qOQGZmZmbmSI9A\",\"dtype\":\"float64\",\"shape\":[75]}}},\"id\":\"bc15aa24-cb0e-49ae-b951-33d947bdb08b\",\"type\":\"ColumnDataSource\"},{\"attributes\":{\"below\":[{\"id\":\"6d97f9aa-32ec-4ecf-b696-63b0d6944e47\",\"type\":\"LinearAxis\"}],\"left\":[{\"id\":\"09ce4579-ae2f-43cc-8642-f768041f14cd\",\"type\":\"LinearAxis\"}],\"plot_height\":500,\"plot_width\":400,\"renderers\":[{\"id\":\"6d97f9aa-32ec-4ecf-b696-63b0d6944e47\",\"type\":\"LinearAxis\"},{\"id\":\"dccaa7db-7060-415a-8a3b-bad50ac27c5c\",\"type\":\"Grid\"},{\"id\":\"09ce4579-ae2f-43cc-8642-f768041f14cd\",\"type\":\"LinearAxis\"},{\"id\":\"70fe7ed7-2876-469b-a5b5-a76b62d2fdf1\",\"type\":\"Grid\"},{\"id\":\"36814a97-2185-4f37-8769-cb83212df5ff\",\"type\":\"BoxAnnotation\"},{\"id\":\"63f431d0-0b67-45ff-854e-c16106b85ca4\",\"type\":\"GlyphRenderer\"},{\"id\":\"ffaacb76-f847-4842-9cda-a5469bf9e387\",\"type\":\"GlyphRenderer\"},{\"id\":\"42c4cf35-da4b-4e78-afa7-1b0b030cd02f\",\"type\":\"GlyphRenderer\"},{\"id\":\"001b87b4-8066-4bff-84a1-19dab94d049b\",\"type\":\"GlyphRenderer\"},{\"id\":\"51a092fc-21bb-4ed9-bf8d-443df86ab0db\",\"type\":\"GlyphRenderer\"}],\"title\":{\"id\":\"5f95cd58-fce0-4195-a717-09d8da00c629\",\"type\":\"Title\"},\"toolbar\":{\"id\":\"9729e238-6d1d-4497-9df4-b38c05ec2697\",\"type\":\"Toolbar\"},\"toolbar_location\":null,\"x_range\":{\"id\":\"061af7fe-d437-45e2-9cee-6ad81082265c\",\"type\":\"Range1d\"},\"x_scale\":{\"id\":\"caeeca90-7887-443f-b4c5-53593d0bf4c4\",\"type\":\"LinearScale\"},\"y_range\":{\"id\":\"d6aa0aaa-cb8e-4afa-ad02-1b8af227237b\",\"type\":\"Range1d\"},\"y_scale\":{\"id\":\"893f62c5-ad8d-49da-ada4-e60e6e59d841\",\"type\":\"LinearScale\"}},\"id\":\"af5bbf96-5de3-4bfe-a947-e8f0a41455ca\",\"subtype\":\"Figure\",\"type\":\"Plot\"},{\"attributes\":{\"source\":{\"id\":\"a83123e7-6e9a-4f96-bea8-9dc140bf94a4\",\"type\":\"ColumnDataSource\"}},\"id\":\"302b3a20-ff62-4abc-8bf9-95c3a5c84d38\",\"type\":\"CDSView\"},{\"attributes\":{\"line_color\":\"#4daf4a\",\"line_width\":1.5,\"x\":{\"field\":\"x\"},\"y\":{\"field\":\"y\"}},\"id\":\"095199b9-aad0-41ed-8578-a48eae23d385\",\"type\":\"Line\"},{\"attributes\":{\"line_alpha\":0.1,\"line_color\":\"#1f77b4\",\"line_width\":1.5,\"x\":{\"field\":\"x\"},\"y\":{\"field\":\"y\"}},\"id\":\"2ea32171-06b3-4a2a-8665-1990593bb704\",\"type\":\"Line\"},{\"attributes\":{\"fill_alpha\":{\"value\":0.1},\"fill_color\":{\"value\":\"#1f77b4\"},\"line_alpha\":{\"value\":0.1},\"line_color\":{\"value\":\"#1f77b4\"},\"x\":{\"field\":\"x\"},\"y\":{\"field\":\"y\"}},\"id\":\"2ba3052b-9984-4ab1-9c70-9e11f0b8160f\",\"type\":\"Square\"},{\"attributes\":{\"data_source\":{\"id\":\"1f940d9d-bc08-4dbe-8233-75803b6bb9a6\",\"type\":\"ColumnDataSource\"},\"glyph\":{\"id\":\"095199b9-aad0-41ed-8578-a48eae23d385\",\"type\":\"Line\"},\"hover_glyph\":null,\"muted_glyph\":null,\"nonselection_glyph\":{\"id\":\"2ea32171-06b3-4a2a-8665-1990593bb704\",\"type\":\"Line\"},\"selection_glyph\":null,\"view\":{\"id\":\"8b4643f7-fa32-4a65-aacb-b2534cbd0894\",\"type\":\"CDSView\"}},\"id\":\"0e54a492-a2e9-42c0-a65d-2a37b363433f\",\"type\":\"GlyphRenderer\"},{\"attributes\":{\"line_alpha\":0.1,\"line_color\":\"#1f77b4\",\"line_width\":3,\"x\":{\"field\":\"x\"},\"y\":{\"field\":\"y\"}},\"id\":\"4ab9ed41-f730-41c6-bd8f-c6ec66b7f183\",\"type\":\"Line\"},{\"attributes\":{\"source\":{\"id\":\"4b22233d-99fa-4c50-a409-e7b1159575f3\",\"type\":\"ColumnDataSource\"}},\"id\":\"15b7def9-5cb3-4c19-bbad-e1d800dee5fd\",\"type\":\"CDSView\"},{\"attributes\":{\"source\":{\"id\":\"1f940d9d-bc08-4dbe-8233-75803b6bb9a6\",\"type\":\"ColumnDataSource\"}},\"id\":\"8b4643f7-fa32-4a65-aacb-b2534cbd0894\",\"type\":\"CDSView\"},{\"attributes\":{\"fill_alpha\":{\"value\":0.7},\"fill_color\":{\"value\":\"#984ea3\"},\"line_alpha\":{\"value\":0.7},\"line_color\":{\"value\":\"#984ea3\"},\"x\":{\"field\":\"x\"},\"y\":{\"field\":\"y\"}},\"id\":\"bc64b0b3-594c-490f-b0e0-d9f1ff184d52\",\"type\":\"Square\"},{\"attributes\":{\"source\":{\"id\":\"f10d6268-3d3a-42f2-9103-d4e203a8f99d\",\"type\":\"ColumnDataSource\"}},\"id\":\"719c96f3-ad4c-4dc8-bebb-de0991437213\",\"type\":\"CDSView\"},{\"attributes\":{\"callback\":null,\"end\":0.8329890122960001,\"start\":-0.009856601896000001},\"id\":\"b0bea26c-d043-458e-9f2b-049db8704e38\",\"type\":\"Range1d\"},{\"attributes\":{\"data_source\":{\"id\":\"4a486d9a-1ce3-433b-9ef8-b84dfca2bac4\",\"type\":\"ColumnDataSource\"},\"glyph\":{\"id\":\"9f85c5e4-9060-4c23-8393-7bdc9bbb4b3a\",\"type\":\"Circle\"},\"hover_glyph\":null,\"muted_glyph\":null,\"nonselection_glyph\":{\"id\":\"f9ed31b1-493b-4fd5-9716-7f37c9efd6a2\",\"type\":\"Circle\"},\"selection_glyph\":null,\"view\":{\"id\":\"2762090a-e6e1-44c1-997b-7bb589807e17\",\"type\":\"CDSView\"}},\"id\":\"ffaacb76-f847-4842-9cda-a5469bf9e387\",\"type\":\"GlyphRenderer\"},{\"attributes\":{\"axis_label\":\"cooling rate [K/day]\",\"formatter\":{\"id\":\"9944d20c-c585-445c-b9d2-d0eefc252b63\",\"type\":\"BasicTickFormatter\"},\"plot\":{\"id\":\"af5bbf96-5de3-4bfe-a947-e8f0a41455ca\",\"subtype\":\"Figure\",\"type\":\"Plot\"},\"ticker\":{\"id\":\"512f8871-1e2e-4311-a7f8-985a5713e2ca\",\"type\":\"BasicTicker\"}},\"id\":\"6d97f9aa-32ec-4ecf-b696-63b0d6944e47\",\"type\":\"LinearAxis\"},{\"attributes\":{\"data_source\":{\"id\":\"bc15aa24-cb0e-49ae-b951-33d947bdb08b\",\"type\":\"ColumnDataSource\"},\"glyph\":{\"id\":\"bc64b0b3-594c-490f-b0e0-d9f1ff184d52\",\"type\":\"Square\"},\"hover_glyph\":null,\"muted_glyph\":null,\"nonselection_glyph\":{\"id\":\"2ba3052b-9984-4ab1-9c70-9e11f0b8160f\",\"type\":\"Square\"},\"selection_glyph\":null,\"view\":{\"id\":\"2d7ff6ed-b304-408a-b7d5-bb6ef3c09755\",\"type\":\"CDSView\"}},\"id\":\"672a8d6e-dcb9-4c2b-83c0-abf86ce63f2d\",\"type\":\"GlyphRenderer\"},{\"attributes\":{\"line_alpha\":0.1,\"line_color\":\"#1f77b4\",\"line_width\":3,\"x\":{\"field\":\"x\"},\"y\":{\"field\":\"y\"}},\"id\":\"32dc92c2-6f93-442e-9c2b-ca3d553d7575\",\"type\":\"Line\"},{\"attributes\":{\"source\":{\"id\":\"bc15aa24-cb0e-49ae-b951-33d947bdb08b\",\"type\":\"ColumnDataSource\"}},\"id\":\"2d7ff6ed-b304-408a-b7d5-bb6ef3c09755\",\"type\":\"CDSView\"},{\"attributes\":{\"source\":{\"id\":\"535e554e-dd62-4149-a598-da13683a822e\",\"type\":\"ColumnDataSource\"}},\"id\":\"70a3a419-95b8-4788-ad97-0ba06105818d\",\"type\":\"CDSView\"},{\"attributes\":{\"line_alpha\":0.6,\"line_color\":\"#984ea3\",\"line_width\":3,\"x\":{\"field\":\"x\"},\"y\":{\"field\":\"y\"}},\"id\":\"27b28eff-4851-433e-8f59-7ca50b511c6c\",\"type\":\"Line\"},{\"attributes\":{},\"id\":\"43e2561a-7328-4d5f-a290-47b448489c6a\",\"type\":\"BasicTickFormatter\"},{\"attributes\":{\"callback\":null,\"column_names\":[\"x\",\"y\"],\"data\":{\"x\":{\"__ndarray__\":\"+V4q07s6zj/poGTVlKLOP1y/y9Jv288/+UqDTzGW0D+Hgdf8MjfRP4VKVFZwy9E/sHMVg25M0j8hteRMbq/SP3t6Uy7g59I/5YP5hh3h0j8Y4RbBOYLSP5KAqGacp9E/C0NHH7El0D/RIEdr85zLPxwU5qD478c/85ftdRg0yj/X6ItzigTQP4zoSy1jnNE/THsYlEgm0j+1gBoIE5DTP5x6MGtaUNg/l2rqZalP4T9rinT9im7nP+ZKkFNs8+c/vHv8tSeO4z9uMzbwepvePzK1AMhkTNg/ITHNtstl0z8CJz7r2BDPPy3UN7xiPsg/Ta2MgOk4wj8Z+xEN8n25Pw5DBEx7q7E/eJ25+dnXqz+kUuxoHOqnP9Br5KGMRKM/uhryMjednj+LBUmV5F2YP5w89eCfZok/woPwYnrjJT9y8KjYaJ5LPzGwmw2Kyow/HvfbDnVumj/0DpntaO6hP6m/PVPY2qU/6He924w4qT9SzJqIGUKsP3RsFMQGLK8/4dkCaLIEsT+MyAPTYWyyPyAhlSXkyrM/jVMrTuAWtT8MTAnpcki2Pw2VFJKrXLc/PKrZhC1WuD+wZt5W7EK5P6bFrieZILo/7KnN5g7uuj+kJUUay6q7PyWYxR+gVrw//RHIHR30vD+I7wbJ6Yi9PxM6XGkhGr4/7fgnn7uwvj9SbLu/ME+/P8AkdBv9/b8/km++KnpUwD98MKUFmpXAPx904AetqMA/JyJw4rOOwD/jxgzY/mPAP3IR5/qhRsA/DAP5hoBLwD8m5rQCno/AP97Qax5NlsE/\",\"dtype\":\"float64\",\"shape\":[75]},\"y\":{\"__ndarray__\":\"S/O/Q+51ND/Sv8nbtpRIP2vylNV0PVE/aTum7souWD/At0SJ8fVgPw3Iuahxymc/MSNhhJWvcD/bTfBN02d3P2zb5nxnaoA/CD5h5MAGhz8NmeH1TyaQP+zrCsc9p5Y/LbKd76fGnz/bLW5ISEmmPww9YvTcQq8/JV2OstnstT8Er5Y7M8G+P0c+r3jqkcU/5h99k6ZBzj88bCIzFzjVP4enV8oyxN0//yH99nXg5D8qOpLLf0jtP5kqGJXUifQ/c9cS8kHP/D+/DpwzojQEQIEmwoanVwxA4lgXt9HgE0BSSZ2AJuIbQAMJih9jjiNA5q4l5INuK0AwTKYKRj0zQNv5fmq8/DpAaCJseHrtQkB/+zpwzoxKQM3MzMzMeFJAZmZmZmZqWEAAAAAAAFxeQM3MzMzMJmJAmpmZmZkfZUBmZmZmZhhoQDMzMzMzEWtAAAAAAAAKbkBmZmZmZoFwQM3MzMzM/XFAMzMzMzN6c0CamZmZmfZ0QAAAAAAAc3ZAZmZmZmbvd0DNzMzMzGt5QDMzMzMz6HpAmpmZmZlkfEAAAAAAAOF9QGZmZmZmXX9AZmZmZuZsgECamZmZGSuBQM3MzMxM6YFAAAAAAICngkAzMzMzs2WDQGZmZmbmI4RAmpmZmRnihEDNzMzMTKCFQAAAAACAXoZAMzMzM7Mch0BmZmZm5tqHQJqZmZkZmYhAzczMzExXiUAAAAAAgBWKQDMzMzOz04pAZmZmZuaRi0CamZmZGVCMQM3MzMxMDo1AAAAAAIDMjUAzMzMzs4qOQGZmZmbmSI9A\",\"dtype\":\"float64\",\"shape\":[75]}}},\"id\":\"4adf5c55-0d02-470d-9e90-d5ad7f85ea51\",\"type\":\"ColumnDataSource\"},{\"attributes\":{\"data_source\":{\"id\":\"5bde9b91-5ebd-495d-a420-4362d4c33a1e\",\"type\":\"ColumnDataSource\"},\"glyph\":{\"id\":\"27b28eff-4851-433e-8f59-7ca50b511c6c\",\"type\":\"Line\"},\"hover_glyph\":null,\"muted_glyph\":null,\"nonselection_glyph\":{\"id\":\"32dc92c2-6f93-442e-9c2b-ca3d553d7575\",\"type\":\"Line\"},\"selection_glyph\":null,\"view\":{\"id\":\"c8eb39cd-e81f-48c2-a0f3-393e35afc1f9\",\"type\":\"CDSView\"}},\"id\":\"e6aa781d-1729-43fb-b4e0-7720ee6de373\",\"type\":\"GlyphRenderer\"},{\"attributes\":{},\"id\":\"512f8871-1e2e-4311-a7f8-985a5713e2ca\",\"type\":\"BasicTicker\"},{\"attributes\":{\"callback\":null,\"column_names\":[\"x\",\"y\"],\"data\":{\"x\":{\"__ndarray__\":\"6p3H2iXP1D8awuWgS+TUP55fHuIAeNU/lJpPnTkb1j+QmPz/uKHWP0AIq04ZBdc/GEa75upA1z87sVE38ULXP2KgRdHR+dY/oWNwcThR1j/NwJ3jHjLVP9TlrnXwfNM/TuCUPxcP0T9fJaisaZDLP0Sa3SYaYsY/jcbK+ncbyD+hgPodpBfOPxQT2YNvE9E/OV7rBR6T0j9Vo3D/4BXVP9BDckk5c9o/0JCVSv0+4j9SqTjj8hboP82+Tkj0POg/dGDYYZVx4z85XjacLj3eP7KyBPs12dc/qxHVIxcN0z+uxFIdlaHOP+mBiIgjTcg/NZNbRwxowj8UY4VUVBy6P03QrgH26bI/j/grcKCNrj9rBe81hjOpP2DCgO4Hm6M/WNCXr8Rznz9ar/KxNueZP1bb182cPY0/MpmeoToqYD/8F3Lte7FmP9zQkJXJwpA/nXUY9VL2nD+kDxJpEjyjP0eVbqXuNac/YtI0Vh2qqj/yF5xD58etPxm48SoIVbA/HfofrbqzsT/u6k3RnQCzPzixPk0uObQ/IQbAqSZWtT/25d9mZEm2Pzt+9AsKJLc/IaRSy0Lptz9gJQU5eKC4PzxtEbBETbk/JFgg1PnvuT/yqHm/u4q6PwkBRcwtHrs/Pt2ZwbSruz89wZFT2zu8P1bXxnQrxrw/5KgGTblgvT/9UUfuEAq+P96B8NZ8xL4/nIzevzmDvz+GC2sJFwvAP/MLqllfJcA/ZKfNlskRwD9sgqqmr9i/PzjR1iDiqr8/6YaXEeXFvz80U/8yPjLAP10Io8dbTME/\",\"dtype\":\"float64\",\"shape\":[75]},\"y\":{\"__ndarray__\":\"GhExyth1ND/Sv8nbtpRIP2vylNV0PVE/aTum7souWD/At0SJ8fVgPw3Iuahxymc/MSNhhJWvcD/bTfBN02d3P2zb5nxnaoA/CD5h5MAGhz8NmeH1TyaQP+zrCsc9p5Y/LbKd76fGnz/bLW5ISEmmPww9YvTcQq8/JV2OstnstT8Er5Y7M8G+P0c+r3jqkcU/5h99k6ZBzj88bCIzFzjVP4enV8oyxN0//yH99nXg5D8qOpLLf0jtP5kqGJXUifQ/c9cS8kHP/D+/DpwzojQEQIEmwoanVwxA4lgXt9HgE0BSSZ2AJuIbQAMJih9jjiNA5q4l5INuK0AwTKYKRj0zQNv5fmq8/DpAaCJseHrtQkB/+zpwzoxKQM3MzMzMeFJAZmZmZmZqWEAAAAAAAFxeQM3MzMzMJmJAmpmZmZkfZUBmZmZmZhhoQDMzMzMzEWtAAAAAAAAKbkBmZmZmZoFwQM3MzMzM/XFAMzMzMzN6c0CamZmZmfZ0QAAAAAAAc3ZAZmZmZmbvd0DNzMzMzGt5QDMzMzMz6HpAmpmZmZlkfEAAAAAAAOF9QGZmZmZmXX9AZmZmZuZsgECamZmZGSuBQM3MzMxM6YFAAAAAAICngkAzMzMzs2WDQGZmZmbmI4RAmpmZmRnihEDNzMzMTKCFQAAAAACAXoZAMzMzM7Mch0BmZmZm5tqHQJqZmZkZmYhAzczMzExXiUAAAAAAgBWKQDMzMzOz04pAZmZmZuaRi0CamZmZGVCMQM3MzMxMDo1AAAAAAIDMjUAzMzMzs4qOQGZmZmbmSI9A\",\"dtype\":\"float64\",\"shape\":[75]}}},\"id\":\"4b22233d-99fa-4c50-a409-e7b1159575f3\",\"type\":\"ColumnDataSource\"},{\"attributes\":{\"source\":{\"id\":\"5bde9b91-5ebd-495d-a420-4362d4c33a1e\",\"type\":\"ColumnDataSource\"}},\"id\":\"c8eb39cd-e81f-48c2-a0f3-393e35afc1f9\",\"type\":\"CDSView\"},{\"attributes\":{\"children\":[{\"id\":\"b4abe879-22ec-42ea-8ad2-98dd918c9e3f\",\"type\":\"ToolbarBox\"},{\"id\":\"f0926930-0cc3-4e67-bab8-4cff4e9d5be6\",\"type\":\"Column\"}]},\"id\":\"f4a19fc1-9af5-4e45-b0f1-549247ea14db\",\"type\":\"Column\"},{\"attributes\":{\"data_source\":{\"id\":\"4b22233d-99fa-4c50-a409-e7b1159575f3\",\"type\":\"ColumnDataSource\"},\"glyph\":{\"id\":\"d377cbc8-28c0-41a1-abf9-07cd0c5b9ffd\",\"type\":\"Line\"},\"hover_glyph\":null,\"muted_glyph\":null,\"nonselection_glyph\":{\"id\":\"4ab9ed41-f730-41c6-bd8f-c6ec66b7f183\",\"type\":\"Line\"},\"selection_glyph\":null,\"view\":{\"id\":\"15b7def9-5cb3-4c19-bbad-e1d800dee5fd\",\"type\":\"CDSView\"}},\"id\":\"51a092fc-21bb-4ed9-bf8d-443df86ab0db\",\"type\":\"GlyphRenderer\"},{\"attributes\":{\"toolbar\":{\"id\":\"a11504ba-44e8-4e52-b7a9-3efd54dd81b9\",\"type\":\"ProxyToolbar\"},\"toolbar_location\":\"above\"},\"id\":\"b4abe879-22ec-42ea-8ad2-98dd918c9e3f\",\"type\":\"ToolbarBox\"},{\"attributes\":{\"fill_alpha\":{\"value\":0.1},\"fill_color\":{\"value\":\"#1f77b4\"},\"line_alpha\":{\"value\":0.1},\"line_color\":{\"value\":\"#1f77b4\"},\"x\":{\"field\":\"x\"},\"y\":{\"field\":\"y\"}},\"id\":\"7caa30e1-31be-4b45-99c9-895155204f4b\",\"type\":\"Square\"},{\"attributes\":{\"line_alpha\":0.1,\"line_color\":\"#1f77b4\",\"line_dash\":[6],\"line_width\":5,\"x\":{\"field\":\"x\"},\"y\":{\"field\":\"y\"}},\"id\":\"966c34c7-a1d5-40cf-a4ed-fd6ece865965\",\"type\":\"Line\"},{\"attributes\":{},\"id\":\"caeeca90-7887-443f-b4c5-53593d0bf4c4\",\"type\":\"LinearScale\"},{\"attributes\":{\"fill_alpha\":{\"value\":0.1},\"fill_color\":{\"value\":\"#1f77b4\"},\"line_alpha\":{\"value\":0.1},\"line_color\":{\"value\":\"#1f77b4\"},\"x\":{\"field\":\"x\"},\"y\":{\"field\":\"y\"}},\"id\":\"f9ed31b1-493b-4fd5-9716-7f37c9efd6a2\",\"type\":\"Circle\"},{\"attributes\":{\"plot\":null,\"text\":\"Linear pressure scale\"},\"id\":\"5f95cd58-fce0-4195-a717-09d8da00c629\",\"type\":\"Title\"},{\"attributes\":{\"plot\":null,\"text\":\"Log pressure scale\"},\"id\":\"8d510747-61ef-4a74-b7a3-6714d43ee211\",\"type\":\"Title\"},{\"attributes\":{},\"id\":\"893f62c5-ad8d-49da-ada4-e60e6e59d841\",\"type\":\"LinearScale\"},{\"attributes\":{\"dimension\":1,\"plot\":{\"id\":\"15548be8-20de-4be1-a1a0-cd9ccadbced3\",\"subtype\":\"Figure\",\"type\":\"Plot\"},\"ticker\":{\"id\":\"609c6e7f-2a62-4afc-85f1-fb07136646e7\",\"type\":\"LogTicker\"}},\"id\":\"21977818-e908-473c-b194-546bef15d5d0\",\"type\":\"Grid\"},{\"attributes\":{\"callback\":null,\"end\":0.13878925739599998,\"start\":-0.002983336996},\"id\":\"061af7fe-d437-45e2-9cee-6ad81082265c\",\"type\":\"Range1d\"},{\"attributes\":{\"active_drag\":\"auto\",\"active_inspect\":\"auto\",\"active_scroll\":\"auto\",\"active_tap\":\"auto\",\"tools\":[{\"id\":\"c0174dc4-1b34-4d67-b0f2-91576c4e3618\",\"type\":\"PanTool\"},{\"id\":\"afd12a8b-f499-4ede-972f-3d5d60756338\",\"type\":\"WheelZoomTool\"},{\"id\":\"483c3dcd-c6f7-4998-abfd-5d3cf78f244c\",\"type\":\"BoxZoomTool\"},{\"id\":\"592ad931-4d98-4fda-af60-9c582ea2e88c\",\"type\":\"SaveTool\"},{\"id\":\"0053ee18-c478-4ad5-a5cd-57e91603c165\",\"type\":\"ResetTool\"},{\"id\":\"93eff3bf-9f33-4ee4-909a-18b701fc1f41\",\"type\":\"HelpTool\"}]},\"id\":\"9729e238-6d1d-4497-9df4-b38c05ec2697\",\"type\":\"Toolbar\"},{\"attributes\":{\"line_alpha\":0.6,\"line_color\":\"#984ea3\",\"line_width\":3,\"x\":{\"field\":\"x\"},\"y\":{\"field\":\"y\"}},\"id\":\"d377cbc8-28c0-41a1-abf9-07cd0c5b9ffd\",\"type\":\"Line\"},{\"attributes\":{\"line_alpha\":0.1,\"line_color\":\"#1f77b4\",\"line_width\":1.5,\"x\":{\"field\":\"x\"},\"y\":{\"field\":\"y\"}},\"id\":\"1f386eb7-2ef8-4a8f-8f88-4cc4a2f01535\",\"type\":\"Line\"},{\"attributes\":{\"axis_label\":\"pressure [mb]\",\"formatter\":{\"id\":\"43e2561a-7328-4d5f-a290-47b448489c6a\",\"type\":\"BasicTickFormatter\"},\"plot\":{\"id\":\"af5bbf96-5de3-4bfe-a947-e8f0a41455ca\",\"subtype\":\"Figure\",\"type\":\"Plot\"},\"ticker\":{\"id\":\"172c7819-d012-4a15-b147-45097139bfa2\",\"type\":\"BasicTicker\"}},\"id\":\"09ce4579-ae2f-43cc-8642-f768041f14cd\",\"type\":\"LinearAxis\"},{\"attributes\":{\"below\":[{\"id\":\"9c3b488f-13ec-4ca6-9963-b0c73ab4bdfe\",\"type\":\"LinearAxis\"}],\"left\":[{\"id\":\"35d10295-5b60-48a9-8669-f2afa79c0fda\",\"type\":\"LogAxis\"}],\"plot_height\":500,\"plot_width\":560,\"renderers\":[{\"id\":\"9c3b488f-13ec-4ca6-9963-b0c73ab4bdfe\",\"type\":\"LinearAxis\"},{\"id\":\"b453f144-1782-4313-a2bb-b784b511f6ec\",\"type\":\"Grid\"},{\"id\":\"35d10295-5b60-48a9-8669-f2afa79c0fda\",\"type\":\"LogAxis\"},{\"id\":\"21977818-e908-473c-b194-546bef15d5d0\",\"type\":\"Grid\"},{\"id\":\"004441aa-deb9-4926-9d1e-73ff8d87fdb0\",\"type\":\"BoxAnnotation\"},{\"id\":\"3693642a-2f48-45b9-81cb-5b085578d360\",\"type\":\"GlyphRenderer\"},{\"id\":\"38985a2b-3414-4e97-83f7-e57af5155c6e\",\"type\":\"GlyphRenderer\"},{\"id\":\"0e54a492-a2e9-42c0-a65d-2a37b363433f\",\"type\":\"GlyphRenderer\"},{\"id\":\"672a8d6e-dcb9-4c2b-83c0-abf86ce63f2d\",\"type\":\"GlyphRenderer\"},{\"id\":\"e6aa781d-1729-43fb-b4e0-7720ee6de373\",\"type\":\"GlyphRenderer\"},{\"id\":\"6072d14a-64f8-4e42-9058-5b12ec469105\",\"type\":\"Legend\"}],\"right\":[{\"id\":\"6072d14a-64f8-4e42-9058-5b12ec469105\",\"type\":\"Legend\"}],\"title\":{\"id\":\"8d510747-61ef-4a74-b7a3-6714d43ee211\",\"type\":\"Title\"},\"toolbar\":{\"id\":\"1712de5e-8f00-4ea3-9651-f21724fe5549\",\"type\":\"Toolbar\"},\"toolbar_location\":null,\"x_range\":{\"id\":\"b0bea26c-d043-458e-9f2b-049db8704e38\",\"type\":\"Range1d\"},\"x_scale\":{\"id\":\"601a9bea-22eb-4012-a165-594c4cdb48f8\",\"type\":\"LinearScale\"},\"y_range\":{\"id\":\"ec261b68-7dab-4ec2-96dc-0e64c2a98ba4\",\"type\":\"Range1d\"},\"y_scale\":{\"id\":\"02b19db6-a88e-4122-ad37-36dfed1d6117\",\"type\":\"LogScale\"}},\"id\":\"15548be8-20de-4be1-a1a0-cd9ccadbced3\",\"subtype\":\"Figure\",\"type\":\"Plot\"},{\"attributes\":{\"callback\":null,\"column_names\":[\"x\",\"y\"],\"data\":{\"x\":{\"__ndarray__\":\"/Dh5FUJc2j9aPMRYCQraP0/An6+Tmdo/sINSzQ8Q2z9iu72cwFHbP6SkTfZLW9s/IQeAhScP2z++Mi25o2LaPwSwfdg9P9k/7ECMxpCS1z+I0+78R0vVP63FArqKYNI/N0BAKSCOzT+XKXuF5OjEP9zIp40Lg7w/6qIyD6oevz8DpGirs1bGPw4LvRfC3sw/DzEUZpAx0j/NJ6dNBzjXPwwQu6WLQ94/4JWPavl95D8WIyJnJ2TqP9T7Wzyb+ek/vOsJnoRK5D/eGMjU2WDePwE4crQVgdY/mPjlxAW90D9Pb04+oODJP5CQWL2JwsQ/UQ80E8pKwD+crQhzxQm4P7XKHjESC7I/e+JNPycLrT8huDmxYS+mP2Tm7rLg950/vwcfspdZlT+TZiYqsfGQP+IFHWUneYA/SKLAhz4bWr/aC3NvAj4wP23Dsfl704s/BnlX7Bgfmj+PJcUqUh+iP3x1kAIEpqY/Ti53embIqj8DlVQa75auP3TJ2NOFDbE/nQZ3LUKtsj/+l0UKYCi0P03rcQrrebU/PI0eOX6atj9O3oZsroe3PwarF2f/SLg/L6uoqJfruD9wx5RCMnq5P55zfUAc+7k/5+7GxN5yuj+USbKzjeS6P6m96+AeU7s/WQ4d0AzBuz/mXAZzJjO8P0PEcvDxrrw/u5obV0w6vT9677ldedq9Pwnr1p20kb4/jAdCT1ZOvz+Cb5o+O+C/Pw6iUngSCcA/CZ0AWFfkvz/ebDm48JO/P/UfRsZyZL8/2ibsDYSFvz8BC2g7CRnAP2tDan8MQsE/\",\"dtype\":\"float64\",\"shape\":[75]},\"y\":{\"__ndarray__\":\"GhExyth1ND/Sv8nbtpRIP2vylNV0PVE/aTum7souWD/At0SJ8fVgPw3Iuahxymc/MSNhhJWvcD/bTfBN02d3P2zb5nxnaoA/CD5h5MAGhz8NmeH1TyaQP+zrCsc9p5Y/LbKd76fGnz/bLW5ISEmmPww9YvTcQq8/JV2OstnstT8Er5Y7M8G+P0c+r3jqkcU/5h99k6ZBzj88bCIzFzjVP4enV8oyxN0//yH99nXg5D8qOpLLf0jtP5kqGJXUifQ/c9cS8kHP/D+/DpwzojQEQIEmwoanVwxA4lgXt9HgE0BSSZ2AJuIbQAMJih9jjiNA5q4l5INuK0AwTKYKRj0zQNv5fmq8/DpAaCJseHrtQkB/+zpwzoxKQM3MzMzMeFJAZmZmZmZqWEAAAAAAAFxeQM3MzMzMJmJAmpmZmZkfZUBmZmZmZhhoQDMzMzMzEWtAAAAAAAAKbkBmZmZmZoFwQM3MzMzM/XFAMzMzMzN6c0CamZmZmfZ0QAAAAAAAc3ZAZmZmZmbvd0DNzMzMzGt5QDMzMzMz6HpAmpmZmZlkfEAAAAAAAOF9QGZmZmZmXX9AZmZmZuZsgECamZmZGSuBQM3MzMxM6YFAAAAAAICngkAzMzMzs2WDQGZmZmbmI4RAmpmZmRnihEDNzMzMTKCFQAAAAACAXoZAMzMzM7Mch0BmZmZm5tqHQJqZmZkZmYhAzczMzExXiUAAAAAAgBWKQDMzMzOz04pAZmZmZuaRi0CamZmZGVCMQM3MzMxMDo1AAAAAAIDMjUAzMzMzs4qOQGZmZmbmSI9A\",\"dtype\":\"float64\",\"shape\":[75]}}},\"id\":\"f10d6268-3d3a-42f2-9103-d4e203a8f99d\",\"type\":\"ColumnDataSource\"},{\"attributes\":{\"plot\":{\"id\":\"af5bbf96-5de3-4bfe-a947-e8f0a41455ca\",\"subtype\":\"Figure\",\"type\":\"Plot\"},\"ticker\":{\"id\":\"512f8871-1e2e-4311-a7f8-985a5713e2ca\",\"type\":\"BasicTicker\"}},\"id\":\"dccaa7db-7060-415a-8a3b-bad50ac27c5c\",\"type\":\"Grid\"},{\"attributes\":{\"bottom_units\":\"screen\",\"fill_alpha\":{\"value\":0.5},\"fill_color\":{\"value\":\"lightgrey\"},\"left_units\":\"screen\",\"level\":\"overlay\",\"line_alpha\":{\"value\":1.0},\"line_color\":{\"value\":\"black\"},\"line_dash\":[4,4],\"line_width\":{\"value\":2},\"plot\":null,\"render_mode\":\"css\",\"right_units\":\"screen\",\"top_units\":\"screen\"},\"id\":\"004441aa-deb9-4926-9d1e-73ff8d87fdb0\",\"type\":\"BoxAnnotation\"},{\"attributes\":{\"data_source\":{\"id\":\"535e554e-dd62-4149-a598-da13683a822e\",\"type\":\"ColumnDataSource\"},\"glyph\":{\"id\":\"d39190fc-5e0d-4995-acd5-6c6c5996d1b0\",\"type\":\"Line\"},\"hover_glyph\":null,\"muted_glyph\":null,\"nonselection_glyph\":{\"id\":\"966c34c7-a1d5-40cf-a4ed-fd6ece865965\",\"type\":\"Line\"},\"selection_glyph\":null,\"view\":{\"id\":\"70a3a419-95b8-4788-ad97-0ba06105818d\",\"type\":\"CDSView\"}},\"id\":\"63f431d0-0b67-45ff-854e-c16106b85ca4\",\"type\":\"GlyphRenderer\"},{\"attributes\":{},\"id\":\"0d28a375-3102-444b-a55d-3d1782c59116\",\"type\":\"BasicTicker\"},{\"attributes\":{\"tools\":[{\"id\":\"c0174dc4-1b34-4d67-b0f2-91576c4e3618\",\"type\":\"PanTool\"},{\"id\":\"afd12a8b-f499-4ede-972f-3d5d60756338\",\"type\":\"WheelZoomTool\"},{\"id\":\"483c3dcd-c6f7-4998-abfd-5d3cf78f244c\",\"type\":\"BoxZoomTool\"},{\"id\":\"592ad931-4d98-4fda-af60-9c582ea2e88c\",\"type\":\"SaveTool\"},{\"id\":\"0053ee18-c478-4ad5-a5cd-57e91603c165\",\"type\":\"ResetTool\"},{\"id\":\"93eff3bf-9f33-4ee4-909a-18b701fc1f41\",\"type\":\"HelpTool\"},{\"id\":\"5ab8b310-458a-442a-8bf1-4d0fbf5a0a95\",\"type\":\"PanTool\"},{\"id\":\"9ae039d6-46f9-41e1-89af-8a30f46ac474\",\"type\":\"WheelZoomTool\"},{\"id\":\"fa746ac1-6b78-4e7f-854a-10ee9948dbe5\",\"type\":\"BoxZoomTool\"},{\"id\":\"8630f87e-eeb6-4eab-813a-5de757d3573d\",\"type\":\"SaveTool\"},{\"id\":\"8e665aad-9615-4def-8239-e44a5e51171d\",\"type\":\"ResetTool\"},{\"id\":\"4cedaaee-3c0a-4609-bb47-2790fec6c828\",\"type\":\"HelpTool\"}]},\"id\":\"a11504ba-44e8-4e52-b7a9-3efd54dd81b9\",\"type\":\"ProxyToolbar\"},{\"attributes\":{\"line_alpha\":0.1,\"line_color\":\"#1f77b4\",\"line_dash\":[6],\"line_width\":5,\"x\":{\"field\":\"x\"},\"y\":{\"field\":\"y\"}},\"id\":\"45c292f0-eadd-41ab-bd2a-908c8fc1751d\",\"type\":\"Line\"},{\"attributes\":{\"axis_label\":\"cooling rate [K/day]\",\"formatter\":{\"id\":\"900a42ff-7261-4620-9f4c-3140d1271070\",\"type\":\"BasicTickFormatter\"},\"plot\":{\"id\":\"15548be8-20de-4be1-a1a0-cd9ccadbced3\",\"subtype\":\"Figure\",\"type\":\"Plot\"},\"ticker\":{\"id\":\"0d28a375-3102-444b-a55d-3d1782c59116\",\"type\":\"BasicTicker\"}},\"id\":\"9c3b488f-13ec-4ca6-9963-b0c73ab4bdfe\",\"type\":\"LinearAxis\"},{\"attributes\":{\"label\":{\"value\":\"CRD\"},\"renderers\":[{\"id\":\"38985a2b-3414-4e97-83f7-e57af5155c6e\",\"type\":\"GlyphRenderer\"},{\"id\":\"0e54a492-a2e9-42c0-a65d-2a37b363433f\",\"type\":\"GlyphRenderer\"}]},\"id\":\"cf3fbed0-64d1-4b54-b00f-ce640d658b2f\",\"type\":\"LegendItem\"},{\"attributes\":{},\"id\":\"5ab8b310-458a-442a-8bf1-4d0fbf5a0a95\",\"type\":\"PanTool\"},{\"attributes\":{\"overlay\":{\"id\":\"004441aa-deb9-4926-9d1e-73ff8d87fdb0\",\"type\":\"BoxAnnotation\"}},\"id\":\"fa746ac1-6b78-4e7f-854a-10ee9948dbe5\",\"type\":\"BoxZoomTool\"},{\"attributes\":{\"items\":[{\"id\":\"00d368e6-afea-4fdc-8708-63d63b29c3d3\",\"type\":\"LegendItem\"},{\"id\":\"cf3fbed0-64d1-4b54-b00f-ce640d658b2f\",\"type\":\"LegendItem\"},{\"id\":\"9a702c47-1882-4b96-a23a-4e0c14bf4483\",\"type\":\"LegendItem\"}],\"label_text_font_size\":{\"value\":\"8pt\"},\"location\":[10,-30],\"plot\":{\"id\":\"15548be8-20de-4be1-a1a0-cd9ccadbced3\",\"subtype\":\"Figure\",\"type\":\"Plot\"}},\"id\":\"6072d14a-64f8-4e42-9058-5b12ec469105\",\"type\":\"Legend\"},{\"attributes\":{\"line_alpha\":0.6,\"line_color\":\"#e41a1c\",\"line_dash\":[6],\"line_width\":5,\"x\":{\"field\":\"x\"},\"y\":{\"field\":\"y\"}},\"id\":\"c5c1c478-100c-49cb-853f-58bcc9cdc43e\",\"type\":\"Line\"},{\"attributes\":{\"fill_alpha\":{\"value\":0.7},\"fill_color\":{\"value\":\"#4daf4a\"},\"line_alpha\":{\"value\":0.7},\"line_color\":{\"value\":\"#4daf4a\"},\"x\":{\"field\":\"x\"},\"y\":{\"field\":\"y\"}},\"id\":\"9f85c5e4-9060-4c23-8393-7bdc9bbb4b3a\",\"type\":\"Circle\"},{\"attributes\":{},\"id\":\"9ae039d6-46f9-41e1-89af-8a30f46ac474\",\"type\":\"WheelZoomTool\"},{\"attributes\":{\"label\":{\"value\":\"CLIRAD `coolr_bands`\"},\"renderers\":[{\"id\":\"3693642a-2f48-45b9-81cb-5b085578d360\",\"type\":\"GlyphRenderer\"}]},\"id\":\"00d368e6-afea-4fdc-8708-63d63b29c3d3\",\"type\":\"LegendItem\"},{\"attributes\":{},\"id\":\"8630f87e-eeb6-4eab-813a-5de757d3573d\",\"type\":\"SaveTool\"},{\"attributes\":{\"children\":[{\"id\":\"af5bbf96-5de3-4bfe-a947-e8f0a41455ca\",\"subtype\":\"Figure\",\"type\":\"Plot\"},{\"id\":\"15548be8-20de-4be1-a1a0-cd9ccadbced3\",\"subtype\":\"Figure\",\"type\":\"Plot\"}]},\"id\":\"3ff0a1c9-7e70-44bb-b503-b1b7246b3944\",\"type\":\"Row\"},{\"attributes\":{},\"id\":\"4cedaaee-3c0a-4609-bb47-2790fec6c828\",\"type\":\"HelpTool\"},{\"attributes\":{},\"id\":\"02b19db6-a88e-4122-ad37-36dfed1d6117\",\"type\":\"LogScale\"},{\"attributes\":{\"callback\":null,\"column_names\":[\"x\",\"y\"],\"data\":{\"x\":{\"__ndarray__\":\"/Dh5FUJc2j9aPMRYCQraP0/An6+Tmdo/sINSzQ8Q2z9iu72cwFHbP6SkTfZLW9s/IQeAhScP2z++Mi25o2LaPwSwfdg9P9k/7ECMxpCS1z+I0+78R0vVP63FArqKYNI/N0BAKSCOzT+XKXuF5OjEP9zIp40Lg7w/6qIyD6oevz8DpGirs1bGPw4LvRfC3sw/DzEUZpAx0j/NJ6dNBzjXPwwQu6WLQ94/4JWPavl95D8WIyJnJ2TqP9T7Wzyb+ek/vOsJnoRK5D/eGMjU2WDePwE4crQVgdY/mPjlxAW90D9Pb04+oODJP5CQWL2JwsQ/UQ80E8pKwD+crQhzxQm4P7XKHjESC7I/e+JNPycLrT8huDmxYS+mP2Tm7rLg950/vwcfspdZlT+TZiYqsfGQP+IFHWUneYA/SKLAhz4bWr/aC3NvAj4wP23Dsfl704s/BnlX7Bgfmj+PJcUqUh+iP3x1kAIEpqY/Ti53embIqj8DlVQa75auP3TJ2NOFDbE/nQZ3LUKtsj/+l0UKYCi0P03rcQrrebU/PI0eOX6atj9O3oZsroe3PwarF2f/SLg/L6uoqJfruD9wx5RCMnq5P55zfUAc+7k/5+7GxN5yuj+USbKzjeS6P6m96+AeU7s/WQ4d0AzBuz/mXAZzJjO8P0PEcvDxrrw/u5obV0w6vT9677ldedq9Pwnr1p20kb4/jAdCT1ZOvz+Cb5o+O+C/Pw6iUngSCcA/CZ0AWFfkvz/ebDm48JO/P/UfRsZyZL8/2ibsDYSFvz8BC2g7CRnAP2tDan8MQsE/\",\"dtype\":\"float64\",\"shape\":[75]},\"y\":{\"__ndarray__\":\"GhExyth1ND/Sv8nbtpRIP2vylNV0PVE/aTum7souWD/At0SJ8fVgPw3Iuahxymc/MSNhhJWvcD/bTfBN02d3P2zb5nxnaoA/CD5h5MAGhz8NmeH1TyaQP+zrCsc9p5Y/LbKd76fGnz/bLW5ISEmmPww9YvTcQq8/JV2OstnstT8Er5Y7M8G+P0c+r3jqkcU/5h99k6ZBzj88bCIzFzjVP4enV8oyxN0//yH99nXg5D8qOpLLf0jtP5kqGJXUifQ/c9cS8kHP/D+/DpwzojQEQIEmwoanVwxA4lgXt9HgE0BSSZ2AJuIbQAMJih9jjiNA5q4l5INuK0AwTKYKRj0zQNv5fmq8/DpAaCJseHrtQkB/+zpwzoxKQM3MzMzMeFJAZmZmZmZqWEAAAAAAAFxeQM3MzMzMJmJAmpmZmZkfZUBmZmZmZhhoQDMzMzMzEWtAAAAAAAAKbkBmZmZmZoFwQM3MzMzM/XFAMzMzMzN6c0CamZmZmfZ0QAAAAAAAc3ZAZmZmZmbvd0DNzMzMzGt5QDMzMzMz6HpAmpmZmZlkfEAAAAAAAOF9QGZmZmZmXX9AZmZmZuZsgECamZmZGSuBQM3MzMxM6YFAAAAAAICngkAzMzMzs2WDQGZmZmbmI4RAmpmZmRnihEDNzMzMTKCFQAAAAACAXoZAMzMzM7Mch0BmZmZm5tqHQJqZmZkZmYhAzczMzExXiUAAAAAAgBWKQDMzMzOz04pAZmZmZuaRi0CamZmZGVCMQM3MzMxMDo1AAAAAAIDMjUAzMzMzs4qOQGZmZmbmSI9A\",\"dtype\":\"float64\",\"shape\":[75]}}},\"id\":\"4a486d9a-1ce3-433b-9ef8-b84dfca2bac4\",\"type\":\"ColumnDataSource\"},{\"attributes\":{},\"id\":\"8e665aad-9615-4def-8239-e44a5e51171d\",\"type\":\"ResetTool\"},{\"attributes\":{\"data_source\":{\"id\":\"4adf5c55-0d02-470d-9e90-d5ad7f85ea51\",\"type\":\"ColumnDataSource\"},\"glyph\":{\"id\":\"c5c1c478-100c-49cb-853f-58bcc9cdc43e\",\"type\":\"Line\"},\"hover_glyph\":null,\"muted_glyph\":null,\"nonselection_glyph\":{\"id\":\"45c292f0-eadd-41ab-bd2a-908c8fc1751d\",\"type\":\"Line\"},\"selection_glyph\":null,\"view\":{\"id\":\"f6f7fc6d-9d61-437c-98e0-238ef41fab1a\",\"type\":\"CDSView\"}},\"id\":\"3693642a-2f48-45b9-81cb-5b085578d360\",\"type\":\"GlyphRenderer\"},{\"attributes\":{\"axis_label\":\"pressure [mb]\",\"formatter\":{\"id\":\"1bd97451-d1d3-4c85-be19-b7257e6c7475\",\"type\":\"LogTickFormatter\"},\"plot\":{\"id\":\"15548be8-20de-4be1-a1a0-cd9ccadbced3\",\"subtype\":\"Figure\",\"type\":\"Plot\"},\"ticker\":{\"id\":\"609c6e7f-2a62-4afc-85f1-fb07136646e7\",\"type\":\"LogTicker\"}},\"id\":\"35d10295-5b60-48a9-8669-f2afa79c0fda\",\"type\":\"LogAxis\"},{\"attributes\":{\"plot\":{\"id\":\"15548be8-20de-4be1-a1a0-cd9ccadbced3\",\"subtype\":\"Figure\",\"type\":\"Plot\"},\"ticker\":{\"id\":\"0d28a375-3102-444b-a55d-3d1782c59116\",\"type\":\"BasicTicker\"}},\"id\":\"b453f144-1782-4313-a2bb-b784b511f6ec\",\"type\":\"Grid\"},{\"attributes\":{},\"id\":\"601a9bea-22eb-4012-a165-594c4cdb48f8\",\"type\":\"LinearScale\"},{\"attributes\":{\"line_alpha\":0.6,\"line_color\":\"#e41a1c\",\"line_dash\":[6],\"line_width\":5,\"x\":{\"field\":\"x\"},\"y\":{\"field\":\"y\"}},\"id\":\"d39190fc-5e0d-4995-acd5-6c6c5996d1b0\",\"type\":\"Line\"},{\"attributes\":{\"children\":[{\"id\":\"3ff0a1c9-7e70-44bb-b503-b1b7246b3944\",\"type\":\"Row\"}]},\"id\":\"f0926930-0cc3-4e67-bab8-4cff4e9d5be6\",\"type\":\"Column\"}],\"root_ids\":[\"f4a19fc1-9af5-4e45-b0f1-549247ea14db\"]},\"title\":\"Bokeh Application\",\"version\":\"0.12.14\"}};\n",
       "  var render_items = [{\"docid\":\"0b8ef6c5-3bb8-4bbf-9df8-35423b89af68\",\"elementid\":\"19d05fe1-9ac9-4777-b3b9-3a30a9ff6f9f\",\"modelid\":\"f4a19fc1-9af5-4e45-b0f1-549247ea14db\"}];\n",
       "  root.Bokeh.embed.embed_items_notebook(docs_json, render_items);\n",
       "\n",
       "  }\n",
       "  if (root.Bokeh !== undefined) {\n",
       "    embed_document(root);\n",
       "  } else {\n",
       "    var attempts = 0;\n",
       "    var timer = setInterval(function(root) {\n",
       "      if (root.Bokeh !== undefined) {\n",
       "        embed_document(root);\n",
       "        clearInterval(timer);\n",
       "      }\n",
       "      attempts++;\n",
       "      if (attempts > 100) {\n",
       "        console.log(\"Bokeh: ERROR: Unable to run BokehJS code because BokehJS library is missing\")\n",
       "        clearInterval(timer);\n",
       "      }\n",
       "    }, 10, root)\n",
       "  }\n",
       "})(window);"
      ],
      "application/vnd.bokehjs_exec.v0+json": ""
     },
     "metadata": {
      "application/vnd.bokehjs_exec.v0+json": {
       "id": "f4a19fc1-9af5-4e45-b0f1-549247ea14db"
      }
     },
     "output_type": "display_data"
    },
    {
     "name": "stdout",
     "output_type": "stream",
     "text": [
      "FIGURE. Cooling rate profiles.\n"
     ]
    },
    {
     "data": {
      "text/html": [
       "<a id=\"Flux_Comparison\"></a>"
      ],
      "text/plain": [
       "<IPython.core.display.HTML object>"
      ]
     },
     "metadata": {},
     "output_type": "display_data"
    },
    {
     "data": {
      "text/markdown": [
       "# Flux Comparison"
      ],
      "text/plain": [
       "<IPython.core.display.Markdown object>"
      ]
     },
     "metadata": {},
     "output_type": "display_data"
    },
    {
     "data": {
      "text/html": [
       "<div>\n",
       "<style>\n",
       "    .dataframe thead tr:only-child th {\n",
       "        text-align: right;\n",
       "    }\n",
       "\n",
       "    .dataframe thead th {\n",
       "        text-align: left;\n",
       "    }\n",
       "\n",
       "    .dataframe tbody tr th {\n",
       "        vertical-align: top;\n",
       "    }\n",
       "</style>\n",
       "<table border=\"1\" class=\"dataframe\">\n",
       "  <thead>\n",
       "    <tr style=\"text-align: right;\">\n",
       "      <th></th>\n",
       "      <th></th>\n",
       "      <th>flug</th>\n",
       "      <th>fldg</th>\n",
       "      <th>fnetg</th>\n",
       "    </tr>\n",
       "    <tr>\n",
       "      <th>pressure</th>\n",
       "      <th>level</th>\n",
       "      <th></th>\n",
       "      <th></th>\n",
       "      <th></th>\n",
       "    </tr>\n",
       "  </thead>\n",
       "  <tbody>\n",
       "    <tr>\n",
       "      <th>0.0000</th>\n",
       "      <th>1</th>\n",
       "      <td>-29.605354</td>\n",
       "      <td>0.000000</td>\n",
       "      <td>-29.605354</td>\n",
       "    </tr>\n",
       "    <tr>\n",
       "      <th>1.0685</th>\n",
       "      <th>24</th>\n",
       "      <td>-29.609930</td>\n",
       "      <td>0.067093</td>\n",
       "      <td>-29.542837</td>\n",
       "    </tr>\n",
       "    <tr>\n",
       "      <th>1013.0000</th>\n",
       "      <th>76</th>\n",
       "      <td>-36.235409</td>\n",
       "      <td>16.836775</td>\n",
       "      <td>-19.398633</td>\n",
       "    </tr>\n",
       "  </tbody>\n",
       "</table>\n",
       "</div>"
      ],
      "text/plain": [
       "                      flug       fldg      fnetg\n",
       "pressure  level                                 \n",
       "0.0000    1     -29.605354   0.000000 -29.605354\n",
       "1.0685    24    -29.609930   0.067093 -29.542837\n",
       "1013.0000 76    -36.235409  16.836775 -19.398633"
      ]
     },
     "metadata": {},
     "output_type": "display_data"
    },
    {
     "name": "stdout",
     "output_type": "stream",
     "text": [
      "Table. Fluxes. WGT igg=10 wgt_flux=1\n"
     ]
    },
    {
     "data": {
      "text/html": [
       "<div>\n",
       "<style>\n",
       "    .dataframe thead tr:only-child th {\n",
       "        text-align: right;\n",
       "    }\n",
       "\n",
       "    .dataframe thead th {\n",
       "        text-align: left;\n",
       "    }\n",
       "\n",
       "    .dataframe tbody tr th {\n",
       "        vertical-align: top;\n",
       "    }\n",
       "</style>\n",
       "<table border=\"1\" class=\"dataframe\">\n",
       "  <thead>\n",
       "    <tr style=\"text-align: right;\">\n",
       "      <th></th>\n",
       "      <th></th>\n",
       "      <th>flug</th>\n",
       "      <th>fldg</th>\n",
       "      <th>fnetg</th>\n",
       "    </tr>\n",
       "    <tr>\n",
       "      <th>pressure</th>\n",
       "      <th>level</th>\n",
       "      <th></th>\n",
       "      <th></th>\n",
       "      <th></th>\n",
       "    </tr>\n",
       "  </thead>\n",
       "  <tbody>\n",
       "    <tr>\n",
       "      <th>0.0000</th>\n",
       "      <th>1</th>\n",
       "      <td>-29.591178</td>\n",
       "      <td>0.000000</td>\n",
       "      <td>-29.591178</td>\n",
       "    </tr>\n",
       "    <tr>\n",
       "      <th>1.0685</th>\n",
       "      <th>24</th>\n",
       "      <td>-29.596461</td>\n",
       "      <td>0.072693</td>\n",
       "      <td>-29.523768</td>\n",
       "    </tr>\n",
       "    <tr>\n",
       "      <th>1013.0000</th>\n",
       "      <th>76</th>\n",
       "      <td>-36.235408</td>\n",
       "      <td>16.758790</td>\n",
       "      <td>-19.476618</td>\n",
       "    </tr>\n",
       "  </tbody>\n",
       "</table>\n",
       "</div>"
      ],
      "text/plain": [
       "                      flug       fldg      fnetg\n",
       "pressure  level                                 \n",
       "0.0000    1     -29.591178   0.000000 -29.591178\n",
       "1.0685    24    -29.596461   0.072693 -29.523768\n",
       "1013.0000 76    -36.235408  16.758790 -19.476618"
      ]
     },
     "metadata": {},
     "output_type": "display_data"
    },
    {
     "name": "stdout",
     "output_type": "stream",
     "text": [
      "Table. Fluxes. CRD\n"
     ]
    },
    {
     "data": {
      "text/html": [
       "<div>\n",
       "<style>\n",
       "    .dataframe thead tr:only-child th {\n",
       "        text-align: right;\n",
       "    }\n",
       "\n",
       "    .dataframe thead th {\n",
       "        text-align: left;\n",
       "    }\n",
       "\n",
       "    .dataframe tbody tr th {\n",
       "        vertical-align: top;\n",
       "    }\n",
       "</style>\n",
       "<table border=\"1\" class=\"dataframe\">\n",
       "  <thead>\n",
       "    <tr style=\"text-align: right;\">\n",
       "      <th></th>\n",
       "      <th></th>\n",
       "      <th>flug</th>\n",
       "      <th>fldg</th>\n",
       "      <th>fnetg</th>\n",
       "    </tr>\n",
       "    <tr>\n",
       "      <th>pressure</th>\n",
       "      <th>level</th>\n",
       "      <th></th>\n",
       "      <th></th>\n",
       "      <th></th>\n",
       "    </tr>\n",
       "  </thead>\n",
       "  <tbody>\n",
       "    <tr>\n",
       "      <th>1.000000e-08</th>\n",
       "      <th>1</th>\n",
       "      <td>-29.698005</td>\n",
       "      <td>0.000002</td>\n",
       "      <td>-29.698003</td>\n",
       "    </tr>\n",
       "    <tr>\n",
       "      <th>1.068500e+00</th>\n",
       "      <th>24</th>\n",
       "      <td>-29.701853</td>\n",
       "      <td>0.063916</td>\n",
       "      <td>-29.637937</td>\n",
       "    </tr>\n",
       "    <tr>\n",
       "      <th>1.013000e+03</th>\n",
       "      <th>76</th>\n",
       "      <td>-36.235410</td>\n",
       "      <td>16.861391</td>\n",
       "      <td>-19.374019</td>\n",
       "    </tr>\n",
       "  </tbody>\n",
       "</table>\n",
       "</div>"
      ],
      "text/plain": [
       "                         flug       fldg      fnetg\n",
       "pressure     level                                 \n",
       "1.000000e-08 1     -29.698005   0.000002 -29.698003\n",
       "1.068500e+00 24    -29.701853   0.063916 -29.637937\n",
       "1.013000e+03 76    -36.235410  16.861391 -19.374019"
      ]
     },
     "metadata": {},
     "output_type": "display_data"
    },
    {
     "name": "stdout",
     "output_type": "stream",
     "text": [
      "Table. Fluxes. CLIRAD\n"
     ]
    },
    {
     "data": {
      "text/html": [
       "<div>\n",
       "<style>\n",
       "    .dataframe thead tr:only-child th {\n",
       "        text-align: right;\n",
       "    }\n",
       "\n",
       "    .dataframe thead th {\n",
       "        text-align: left;\n",
       "    }\n",
       "\n",
       "    .dataframe tbody tr th {\n",
       "        vertical-align: top;\n",
       "    }\n",
       "</style>\n",
       "<table border=\"1\" class=\"dataframe\">\n",
       "  <thead>\n",
       "    <tr style=\"text-align: right;\">\n",
       "      <th></th>\n",
       "      <th></th>\n",
       "      <th>flug</th>\n",
       "      <th>fldg</th>\n",
       "      <th>fnetg</th>\n",
       "    </tr>\n",
       "    <tr>\n",
       "      <th>pressure</th>\n",
       "      <th>level</th>\n",
       "      <th></th>\n",
       "      <th></th>\n",
       "      <th></th>\n",
       "    </tr>\n",
       "  </thead>\n",
       "  <tbody>\n",
       "    <tr>\n",
       "      <th>0.0000</th>\n",
       "      <th>1</th>\n",
       "      <td>1.417613e-02</td>\n",
       "      <td>0.000000</td>\n",
       "      <td>0.014176</td>\n",
       "    </tr>\n",
       "    <tr>\n",
       "      <th>1.0685</th>\n",
       "      <th>24</th>\n",
       "      <td>1.346853e-02</td>\n",
       "      <td>0.005601</td>\n",
       "      <td>0.019069</td>\n",
       "    </tr>\n",
       "    <tr>\n",
       "      <th>1013.0000</th>\n",
       "      <th>76</th>\n",
       "      <td>5.330000e-07</td>\n",
       "      <td>-0.077985</td>\n",
       "      <td>-0.077985</td>\n",
       "    </tr>\n",
       "  </tbody>\n",
       "</table>\n",
       "</div>"
      ],
      "text/plain": [
       "                         flug      fldg     fnetg\n",
       "pressure  level                                  \n",
       "0.0000    1      1.417613e-02  0.000000  0.014176\n",
       "1.0685    24     1.346853e-02  0.005601  0.019069\n",
       "1013.0000 76     5.330000e-07 -0.077985 -0.077985"
      ]
     },
     "metadata": {},
     "output_type": "display_data"
    },
    {
     "name": "stdout",
     "output_type": "stream",
     "text": [
      "Table. Fluxes. (CRD) - (WGT igg=10 wgt_flux=1)\n"
     ]
    },
    {
     "data": {
      "text/html": [
       "<div>\n",
       "<style>\n",
       "    .dataframe thead tr:only-child th {\n",
       "        text-align: right;\n",
       "    }\n",
       "\n",
       "    .dataframe thead th {\n",
       "        text-align: left;\n",
       "    }\n",
       "\n",
       "    .dataframe tbody tr th {\n",
       "        vertical-align: top;\n",
       "    }\n",
       "</style>\n",
       "<table border=\"1\" class=\"dataframe\">\n",
       "  <thead>\n",
       "    <tr style=\"text-align: right;\">\n",
       "      <th></th>\n",
       "      <th></th>\n",
       "      <th>flug</th>\n",
       "      <th>fldg</th>\n",
       "      <th>fnetg</th>\n",
       "    </tr>\n",
       "    <tr>\n",
       "      <th>pressure</th>\n",
       "      <th>level</th>\n",
       "      <th></th>\n",
       "      <th></th>\n",
       "      <th></th>\n",
       "    </tr>\n",
       "  </thead>\n",
       "  <tbody>\n",
       "    <tr>\n",
       "      <th>0.0000</th>\n",
       "      <th>1</th>\n",
       "      <td>-0.092651</td>\n",
       "      <td>0.000002</td>\n",
       "      <td>-0.092649</td>\n",
       "    </tr>\n",
       "    <tr>\n",
       "      <th>1.0685</th>\n",
       "      <th>24</th>\n",
       "      <td>-0.091923</td>\n",
       "      <td>-0.003176</td>\n",
       "      <td>-0.095100</td>\n",
       "    </tr>\n",
       "    <tr>\n",
       "      <th>1013.0000</th>\n",
       "      <th>76</th>\n",
       "      <td>-0.000001</td>\n",
       "      <td>0.024616</td>\n",
       "      <td>0.024614</td>\n",
       "    </tr>\n",
       "  </tbody>\n",
       "</table>\n",
       "</div>"
      ],
      "text/plain": [
       "                     flug      fldg     fnetg\n",
       "pressure  level                              \n",
       "0.0000    1     -0.092651  0.000002 -0.092649\n",
       "1.0685    24    -0.091923 -0.003176 -0.095100\n",
       "1013.0000 76    -0.000001  0.024616  0.024614"
      ]
     },
     "metadata": {},
     "output_type": "display_data"
    },
    {
     "name": "stdout",
     "output_type": "stream",
     "text": [
      "Table. Fluxes. (CLIRAD) - (WGT igg=10 wgt_flux=1)\n"
     ]
    },
    {
     "data": {
      "text/html": [
       "<a id=\"Best-fit_Parameters\"></a>"
      ],
      "text/plain": [
       "<IPython.core.display.HTML object>"
      ]
     },
     "metadata": {},
     "output_type": "display_data"
    },
    {
     "data": {
      "text/markdown": [
       "# Best-fit Parameters"
      ],
      "text/plain": [
       "<IPython.core.display.Markdown object>"
      ]
     },
     "metadata": {},
     "output_type": "display_data"
    },
    {
     "name": "stdout",
     "output_type": "stream",
     "text": [
      "Best-fit values for each (gas, band)\n",
      "------------------------------------\n",
      "o co2 band3a\n",
      "  atmpro = mls\n",
      "  band = 3a\n",
      "  commitnumber = 2bd1f75\n",
      "  conc = 0.0004\n",
      "  dv = 0.01\n",
      "  klin = 6.375563e-24\n",
      "  molecule = co2\n",
      "  ng_adju = [0, 0, 0]\n",
      "  ng_refs = [3, 2, 4]\n",
      "  nv = 100\n",
      "  option_compute_btable = 0\n",
      "  option_compute_ktable = 1\n",
      "  option_wgt_flux = 1\n",
      "  option_wgt_k = 1\n",
      "  ref_pts = [(1, 250), (10, 250), (500, 250)]\n",
      "  tsfc = 294\n",
      "  vmax = 620\n",
      "  vmin = 540\n",
      "  w_diffuse = [(1.6, 1.6, 1.7), (1.75, 1.75), (1.55, 1.55, 1.6, 1.85)]\n",
      "  wgt = [(0.7, 0.3, 0.7), (0.7, 0.6), (0.4, 0.5, 0.8, 0.95)]\n"
     ]
    }
   ],
   "source": [
    "script()"
   ]
  },
  {
   "cell_type": "code",
   "execution_count": 13,
   "metadata": {
    "collapsed": true
   },
   "outputs": [
    {
     "data": {
      "text/html": [
       "<script>\n",
       "code_show=true; \n",
       "function code_toggle() {\n",
       " if (code_show){\n",
       " $('div.input').hide();\n",
       " } else {\n",
       " $('div.input').show();\n",
       " }\n",
       " code_show = !code_show\n",
       "} \n",
       "$( document ).ready(code_toggle);\n",
       "</script>\n",
       "<form action=\"javascript:code_toggle()\"><input type=\"submit\" value=\"Click here to toggle on/off the raw code.\"></form>"
      ],
      "text/plain": [
       "<IPython.core.display.HTML object>"
      ]
     },
     "execution_count": 13,
     "metadata": {},
     "output_type": "execute_result"
    }
   ],
   "source": [
    "display.HTML('''<script>\n",
    "code_show=true; \n",
    "function code_toggle() {\n",
    " if (code_show){\n",
    " $('div.input').hide();\n",
    " } else {\n",
    " $('div.input').show();\n",
    " }\n",
    " code_show = !code_show\n",
    "} \n",
    "$( document ).ready(code_toggle);\n",
    "</script>\n",
    "<form action=\"javascript:code_toggle()\"><input type=\"submit\" value=\"Click here to toggle on/off the raw code.\"></form>''')"
   ]
  }
 ],
 "metadata": {
  "kernelspec": {
   "display_name": "Python 3",
   "language": "python",
   "name": "python3"
  },
  "language_info": {
   "codemirror_mode": {
    "name": "ipython",
    "version": 3
   },
   "file_extension": ".py",
   "mimetype": "text/x-python",
   "name": "python",
   "nbconvert_exporter": "python",
   "pygments_lexer": "ipython3",
   "version": "3.6.1"
  }
 },
 "nbformat": 4,
 "nbformat_minor": 2
}
