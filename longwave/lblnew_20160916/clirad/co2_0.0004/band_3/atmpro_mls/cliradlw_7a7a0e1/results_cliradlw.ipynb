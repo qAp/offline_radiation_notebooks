{
 "cells": [
  {
   "cell_type": "code",
   "execution_count": 1,
   "metadata": {
    "collapsed": true
   },
   "outputs": [],
   "source": [
    "%matplotlib inline\n",
    "import os\n",
    "import re\n",
    "import io\n",
    "import itertools\n",
    "import pprint\n",
    "\n",
    "from bokeh.io import output_notebook, show\n",
    "from bokeh.layouts import gridplot\n",
    "from bokeh.plotting import figure\n",
    "from bokeh.models import Range1d, Legend\n",
    "from bokeh.palettes import all_palettes\n",
    "\n",
    "import matplotlib\n",
    "import matplotlib.pyplot as plt\n",
    "import numpy as np\n",
    "import pandas as pd\n",
    "import xarray as xr\n",
    "\n",
    "import climatools.lblnew.bestfit_params as bestfits\n",
    "from climatools.lblnew import setup_bestfit, setup_overlap\n",
    "import climatools.lblnew.pipeline as pipe_lblnew\n",
    "import climatools.cliradlw.setup as setup_cliradlw\n",
    "import climatools.cliradlw.pipeline as pipe_cliradlw\n",
    "\n",
    "import climatools.html.html as climahtml\n",
    "from climatools.lblnew.dataio import *\n",
    "from climatools.plot.plot import *\n",
    "\n",
    "\n",
    "import IPython.display as display"
   ]
  },
  {
   "cell_type": "code",
   "execution_count": 2,
   "metadata": {
    "collapsed": true
   },
   "outputs": [],
   "source": [
    "%run param.py"
   ]
  },
  {
   "cell_type": "code",
   "execution_count": 3,
   "metadata": {
    "collapsed": true
   },
   "outputs": [
    {
     "name": "stdout",
     "output_type": "stream",
     "text": [
      "The history saving thread hit an unexpected error (OperationalError('database is locked',)).History will not be written to the database.\n"
     ]
    }
   ],
   "source": [
    "def load_output_file(path_csv):\n",
    "    '''\n",
    "    Load lblnew output .csv file to xarray.Dataset\n",
    "    \n",
    "    Parameters\n",
    "    ----------\n",
    "    path_csv: str\n",
    "              Path to the .csv file to be loaded.\n",
    "    ds: xarray.Dataset\n",
    "        Data in the input file in the form of an xarray.Dataset.\n",
    "    '''\n",
    "    toindex = ['band', 'pressure', 'igg', 'g']    \n",
    "    df = pd.read_csv(path_csv, sep=r'\\s+')\n",
    "    df = df.set_index([i for i in toindex if i in df.columns])\n",
    "    df = df.rename(columns={'sfu': 'flug',\n",
    "                            'sfd': 'fldg',\n",
    "                            'fnet': 'fnetg',\n",
    "                            'coolr': 'coolrg'})\n",
    "    ds = xr.Dataset.from_dataframe(df)\n",
    "\n",
    "    for l in ('level', 'layer'):\n",
    "        if l in ds.data_vars:\n",
    "            if len(ds[l].dims) > 1:\n",
    "                surface = {d: 0 for d in ds.dims if d != 'pressure'}\n",
    "                coord_level = ds[l][surface]\n",
    "                ds.coords[l] = ('pressure', coord_level)\n",
    "            else:\n",
    "                ds.coords[l] = ('pressure', ds[l])\n",
    "    \n",
    "    return ds"
   ]
  },
  {
   "cell_type": "code",
   "execution_count": 4,
   "metadata": {
    "collapsed": true
   },
   "outputs": [],
   "source": [
    "def lblnew_setup(param=None):\n",
    "    if 'ng_refs' in param:\n",
    "        return {'setup': setup_bestfit,\n",
    "                'fname_flux_crd': 'output_flux.dat',\n",
    "                'fname_cool_crd': 'output_coolr.dat',\n",
    "                'fname_flux_wgt': 'output_wfluxg.dat',\n",
    "                'fname_cool_wgt': 'output_wcoolrg.dat'}\n",
    "    else:\n",
    "        return {'setup': setup_overlap,\n",
    "                'fname_flux_crd': 'output_flux.dat',\n",
    "                'fname_cool_crd': 'output_coolr.dat',\n",
    "                'fname_flux_wgt': 'output_wflux.dat',\n",
    "                'fname_cool_wgt': 'output_wcoolr.dat'}\n",
    "\n",
    "    \n",
    "def load_lblnew_data(param):\n",
    "    \n",
    "    fname_dsname = [('fname_flux_crd', 'ds_flux_crd'),\n",
    "                    ('fname_cool_crd', 'ds_cool_crd'),\n",
    "                    ('fname_flux_wgt', 'ds_flux_wgt'),\n",
    "                    ('fname_cool_wgt', 'ds_cool_wgt')]\n",
    "    \n",
    "    d = lblnew_setup(param)\n",
    "    dir_fortran = pipe_lblnew.get_dir_case(param, setup=d['setup'])\n",
    "    \n",
    "    data_dict = {}\n",
    "    for fname, dsname in fname_dsname:\n",
    "        fpath = os.path.join(dir_fortran, d[fname])\n",
    "        data_dict[dsname] = load_output_file(fpath)\n",
    "    return data_dict\n",
    "    \n",
    "\n",
    "    \n",
    "    "
   ]
  },
  {
   "cell_type": "code",
   "execution_count": 5,
   "metadata": {
    "collapsed": true
   },
   "outputs": [],
   "source": [
    "d = load_lblnew_data(PARAM_LBLNEW)\n",
    "\n",
    "DS_FLUX_CRD = d['ds_flux_crd']\n",
    "DS_COOL_CRD = d['ds_cool_crd']\n",
    "DS_FLUX_WGT = d['ds_flux_wgt']\n",
    "DS_COOL_WGT = d['ds_cool_wgt']"
   ]
  },
  {
   "cell_type": "code",
   "execution_count": 6,
   "metadata": {
    "collapsed": true
   },
   "outputs": [],
   "source": [
    "DIR_FORTRAN = pipe_cliradlw.get_fortran_dir(PARAM, \n",
    "                                            setup=setup_cliradlw)\n",
    "\n",
    "PATH_FLUX = os.path.join(DIR_FORTRAN, 'output_flux.dat')\n",
    "PATH_COOL = os.path.join(DIR_FORTRAN, 'output_coolr.dat')\n",
    "\n",
    "DS_FLUX = load_output_file(PATH_FLUX)\n",
    "DS_COOL = load_output_file(PATH_COOL)"
   ]
  },
  {
   "cell_type": "code",
   "execution_count": 7,
   "metadata": {},
   "outputs": [
    {
     "data": {
      "text/html": [
       "\n",
       "    <div class=\"bk-root\">\n",
       "        <a href=\"https://bokeh.pydata.org\" target=\"_blank\" class=\"bk-logo bk-logo-small bk-logo-notebook\"></a>\n",
       "        <span id=\"871581e1-40bd-405a-8b64-e279d3e8ed76\">Loading BokehJS ...</span>\n",
       "    </div>"
      ]
     },
     "metadata": {},
     "output_type": "display_data"
    },
    {
     "data": {
      "application/javascript": [
       "\n",
       "(function(root) {\n",
       "  function now() {\n",
       "    return new Date();\n",
       "  }\n",
       "\n",
       "  var force = true;\n",
       "\n",
       "  if (typeof (root._bokeh_onload_callbacks) === \"undefined\" || force === true) {\n",
       "    root._bokeh_onload_callbacks = [];\n",
       "    root._bokeh_is_loading = undefined;\n",
       "  }\n",
       "\n",
       "  var JS_MIME_TYPE = 'application/javascript';\n",
       "  var HTML_MIME_TYPE = 'text/html';\n",
       "  var EXEC_MIME_TYPE = 'application/vnd.bokehjs_exec.v0+json';\n",
       "  var CLASS_NAME = 'output_bokeh rendered_html';\n",
       "\n",
       "  /**\n",
       "   * Render data to the DOM node\n",
       "   */\n",
       "  function render(props, node) {\n",
       "    var script = document.createElement(\"script\");\n",
       "    node.appendChild(script);\n",
       "  }\n",
       "\n",
       "  /**\n",
       "   * Handle when an output is cleared or removed\n",
       "   */\n",
       "  function handleClearOutput(event, handle) {\n",
       "    var cell = handle.cell;\n",
       "\n",
       "    var id = cell.output_area._bokeh_element_id;\n",
       "    var server_id = cell.output_area._bokeh_server_id;\n",
       "    // Clean up Bokeh references\n",
       "    if (id !== undefined) {\n",
       "      Bokeh.index[id].model.document.clear();\n",
       "      delete Bokeh.index[id];\n",
       "    }\n",
       "\n",
       "    if (server_id !== undefined) {\n",
       "      // Clean up Bokeh references\n",
       "      var cmd = \"from bokeh.io.state import curstate; print(curstate().uuid_to_server['\" + server_id + \"'].get_sessions()[0].document.roots[0]._id)\";\n",
       "      cell.notebook.kernel.execute(cmd, {\n",
       "        iopub: {\n",
       "          output: function(msg) {\n",
       "            var element_id = msg.content.text.trim();\n",
       "            Bokeh.index[element_id].model.document.clear();\n",
       "            delete Bokeh.index[element_id];\n",
       "          }\n",
       "        }\n",
       "      });\n",
       "      // Destroy server and session\n",
       "      var cmd = \"import bokeh.io.notebook as ion; ion.destroy_server('\" + server_id + \"')\";\n",
       "      cell.notebook.kernel.execute(cmd);\n",
       "    }\n",
       "  }\n",
       "\n",
       "  /**\n",
       "   * Handle when a new output is added\n",
       "   */\n",
       "  function handleAddOutput(event, handle) {\n",
       "    var output_area = handle.output_area;\n",
       "    var output = handle.output;\n",
       "\n",
       "    // limit handleAddOutput to display_data with EXEC_MIME_TYPE content only\n",
       "    if ((output.output_type != \"display_data\") || (!output.data.hasOwnProperty(EXEC_MIME_TYPE))) {\n",
       "      return\n",
       "    }\n",
       "\n",
       "    var toinsert = output_area.element.find(\".\" + CLASS_NAME.split(' ')[0]);\n",
       "\n",
       "    if (output.metadata[EXEC_MIME_TYPE][\"id\"] !== undefined) {\n",
       "      toinsert[0].firstChild.textContent = output.data[JS_MIME_TYPE];\n",
       "      // store reference to embed id on output_area\n",
       "      output_area._bokeh_element_id = output.metadata[EXEC_MIME_TYPE][\"id\"];\n",
       "    }\n",
       "    if (output.metadata[EXEC_MIME_TYPE][\"server_id\"] !== undefined) {\n",
       "      var bk_div = document.createElement(\"div\");\n",
       "      bk_div.innerHTML = output.data[HTML_MIME_TYPE];\n",
       "      var script_attrs = bk_div.children[0].attributes;\n",
       "      for (var i = 0; i < script_attrs.length; i++) {\n",
       "        toinsert[0].firstChild.setAttribute(script_attrs[i].name, script_attrs[i].value);\n",
       "      }\n",
       "      // store reference to server id on output_area\n",
       "      output_area._bokeh_server_id = output.metadata[EXEC_MIME_TYPE][\"server_id\"];\n",
       "    }\n",
       "  }\n",
       "\n",
       "  function register_renderer(events, OutputArea) {\n",
       "\n",
       "    function append_mime(data, metadata, element) {\n",
       "      // create a DOM node to render to\n",
       "      var toinsert = this.create_output_subarea(\n",
       "        metadata,\n",
       "        CLASS_NAME,\n",
       "        EXEC_MIME_TYPE\n",
       "      );\n",
       "      this.keyboard_manager.register_events(toinsert);\n",
       "      // Render to node\n",
       "      var props = {data: data, metadata: metadata[EXEC_MIME_TYPE]};\n",
       "      render(props, toinsert[0]);\n",
       "      element.append(toinsert);\n",
       "      return toinsert\n",
       "    }\n",
       "\n",
       "    /* Handle when an output is cleared or removed */\n",
       "    events.on('clear_output.CodeCell', handleClearOutput);\n",
       "    events.on('delete.Cell', handleClearOutput);\n",
       "\n",
       "    /* Handle when a new output is added */\n",
       "    events.on('output_added.OutputArea', handleAddOutput);\n",
       "\n",
       "    /**\n",
       "     * Register the mime type and append_mime function with output_area\n",
       "     */\n",
       "    OutputArea.prototype.register_mime_type(EXEC_MIME_TYPE, append_mime, {\n",
       "      /* Is output safe? */\n",
       "      safe: true,\n",
       "      /* Index of renderer in `output_area.display_order` */\n",
       "      index: 0\n",
       "    });\n",
       "  }\n",
       "\n",
       "  // register the mime type if in Jupyter Notebook environment and previously unregistered\n",
       "  if (root.Jupyter !== undefined) {\n",
       "    var events = require('base/js/events');\n",
       "    var OutputArea = require('notebook/js/outputarea').OutputArea;\n",
       "\n",
       "    if (OutputArea.prototype.mime_types().indexOf(EXEC_MIME_TYPE) == -1) {\n",
       "      register_renderer(events, OutputArea);\n",
       "    }\n",
       "  }\n",
       "\n",
       "  \n",
       "  if (typeof (root._bokeh_timeout) === \"undefined\" || force === true) {\n",
       "    root._bokeh_timeout = Date.now() + 5000;\n",
       "    root._bokeh_failed_load = false;\n",
       "  }\n",
       "\n",
       "  var NB_LOAD_WARNING = {'data': {'text/html':\n",
       "     \"<div style='background-color: #fdd'>\\n\"+\n",
       "     \"<p>\\n\"+\n",
       "     \"BokehJS does not appear to have successfully loaded. If loading BokehJS from CDN, this \\n\"+\n",
       "     \"may be due to a slow or bad network connection. Possible fixes:\\n\"+\n",
       "     \"</p>\\n\"+\n",
       "     \"<ul>\\n\"+\n",
       "     \"<li>re-rerun `output_notebook()` to attempt to load from CDN again, or</li>\\n\"+\n",
       "     \"<li>use INLINE resources instead, as so:</li>\\n\"+\n",
       "     \"</ul>\\n\"+\n",
       "     \"<code>\\n\"+\n",
       "     \"from bokeh.resources import INLINE\\n\"+\n",
       "     \"output_notebook(resources=INLINE)\\n\"+\n",
       "     \"</code>\\n\"+\n",
       "     \"</div>\"}};\n",
       "\n",
       "  function display_loaded() {\n",
       "    var el = document.getElementById(\"871581e1-40bd-405a-8b64-e279d3e8ed76\");\n",
       "    if (el != null) {\n",
       "      el.textContent = \"BokehJS is loading...\";\n",
       "    }\n",
       "    if (root.Bokeh !== undefined) {\n",
       "      if (el != null) {\n",
       "        el.textContent = \"BokehJS \" + root.Bokeh.version + \" successfully loaded.\";\n",
       "      }\n",
       "    } else if (Date.now() < root._bokeh_timeout) {\n",
       "      setTimeout(display_loaded, 100)\n",
       "    }\n",
       "  }\n",
       "\n",
       "\n",
       "  function run_callbacks() {\n",
       "    try {\n",
       "      root._bokeh_onload_callbacks.forEach(function(callback) { callback() });\n",
       "    }\n",
       "    finally {\n",
       "      delete root._bokeh_onload_callbacks\n",
       "    }\n",
       "    console.info(\"Bokeh: all callbacks have finished\");\n",
       "  }\n",
       "\n",
       "  function load_libs(js_urls, callback) {\n",
       "    root._bokeh_onload_callbacks.push(callback);\n",
       "    if (root._bokeh_is_loading > 0) {\n",
       "      console.log(\"Bokeh: BokehJS is being loaded, scheduling callback at\", now());\n",
       "      return null;\n",
       "    }\n",
       "    if (js_urls == null || js_urls.length === 0) {\n",
       "      run_callbacks();\n",
       "      return null;\n",
       "    }\n",
       "    console.log(\"Bokeh: BokehJS not loaded, scheduling load and callback at\", now());\n",
       "    root._bokeh_is_loading = js_urls.length;\n",
       "    for (var i = 0; i < js_urls.length; i++) {\n",
       "      var url = js_urls[i];\n",
       "      var s = document.createElement('script');\n",
       "      s.src = url;\n",
       "      s.async = false;\n",
       "      s.onreadystatechange = s.onload = function() {\n",
       "        root._bokeh_is_loading--;\n",
       "        if (root._bokeh_is_loading === 0) {\n",
       "          console.log(\"Bokeh: all BokehJS libraries loaded\");\n",
       "          run_callbacks()\n",
       "        }\n",
       "      };\n",
       "      s.onerror = function() {\n",
       "        console.warn(\"failed to load library \" + url);\n",
       "      };\n",
       "      console.log(\"Bokeh: injecting script tag for BokehJS library: \", url);\n",
       "      document.getElementsByTagName(\"head\")[0].appendChild(s);\n",
       "    }\n",
       "  };var element = document.getElementById(\"871581e1-40bd-405a-8b64-e279d3e8ed76\");\n",
       "  if (element == null) {\n",
       "    console.log(\"Bokeh: ERROR: autoload.js configured with elementid '871581e1-40bd-405a-8b64-e279d3e8ed76' but no matching script tag was found. \")\n",
       "    return false;\n",
       "  }\n",
       "\n",
       "  var js_urls = [\"https://cdn.pydata.org/bokeh/release/bokeh-0.12.14.min.js\", \"https://cdn.pydata.org/bokeh/release/bokeh-widgets-0.12.14.min.js\", \"https://cdn.pydata.org/bokeh/release/bokeh-tables-0.12.14.min.js\", \"https://cdn.pydata.org/bokeh/release/bokeh-gl-0.12.14.min.js\"];\n",
       "\n",
       "  var inline_js = [\n",
       "    function(Bokeh) {\n",
       "      Bokeh.set_log_level(\"info\");\n",
       "    },\n",
       "    \n",
       "    function(Bokeh) {\n",
       "      \n",
       "    },\n",
       "    function(Bokeh) {\n",
       "      console.log(\"Bokeh: injecting CSS: https://cdn.pydata.org/bokeh/release/bokeh-0.12.14.min.css\");\n",
       "      Bokeh.embed.inject_css(\"https://cdn.pydata.org/bokeh/release/bokeh-0.12.14.min.css\");\n",
       "      console.log(\"Bokeh: injecting CSS: https://cdn.pydata.org/bokeh/release/bokeh-widgets-0.12.14.min.css\");\n",
       "      Bokeh.embed.inject_css(\"https://cdn.pydata.org/bokeh/release/bokeh-widgets-0.12.14.min.css\");\n",
       "      console.log(\"Bokeh: injecting CSS: https://cdn.pydata.org/bokeh/release/bokeh-tables-0.12.14.min.css\");\n",
       "      Bokeh.embed.inject_css(\"https://cdn.pydata.org/bokeh/release/bokeh-tables-0.12.14.min.css\");\n",
       "    }\n",
       "  ];\n",
       "\n",
       "  function run_inline_js() {\n",
       "    \n",
       "    if ((root.Bokeh !== undefined) || (force === true)) {\n",
       "      for (var i = 0; i < inline_js.length; i++) {\n",
       "        inline_js[i].call(root, root.Bokeh);\n",
       "      }if (force === true) {\n",
       "        display_loaded();\n",
       "      }} else if (Date.now() < root._bokeh_timeout) {\n",
       "      setTimeout(run_inline_js, 100);\n",
       "    } else if (!root._bokeh_failed_load) {\n",
       "      console.log(\"Bokeh: BokehJS failed to load within specified timeout.\");\n",
       "      root._bokeh_failed_load = true;\n",
       "    } else if (force !== true) {\n",
       "      var cell = $(document.getElementById(\"871581e1-40bd-405a-8b64-e279d3e8ed76\")).parents('.cell').data().cell;\n",
       "      cell.output_area.append_execute_result(NB_LOAD_WARNING)\n",
       "    }\n",
       "\n",
       "  }\n",
       "\n",
       "  if (root._bokeh_is_loading === 0) {\n",
       "    console.log(\"Bokeh: BokehJS loaded, going straight to plotting\");\n",
       "    run_inline_js();\n",
       "  } else {\n",
       "    load_libs(js_urls, function() {\n",
       "      console.log(\"Bokeh: BokehJS plotting callback run at\", now());\n",
       "      run_inline_js();\n",
       "    });\n",
       "  }\n",
       "}(window));"
      ],
      "application/vnd.bokehjs_load.v0+json": "\n(function(root) {\n  function now() {\n    return new Date();\n  }\n\n  var force = true;\n\n  if (typeof (root._bokeh_onload_callbacks) === \"undefined\" || force === true) {\n    root._bokeh_onload_callbacks = [];\n    root._bokeh_is_loading = undefined;\n  }\n\n  \n\n  \n  if (typeof (root._bokeh_timeout) === \"undefined\" || force === true) {\n    root._bokeh_timeout = Date.now() + 5000;\n    root._bokeh_failed_load = false;\n  }\n\n  var NB_LOAD_WARNING = {'data': {'text/html':\n     \"<div style='background-color: #fdd'>\\n\"+\n     \"<p>\\n\"+\n     \"BokehJS does not appear to have successfully loaded. If loading BokehJS from CDN, this \\n\"+\n     \"may be due to a slow or bad network connection. Possible fixes:\\n\"+\n     \"</p>\\n\"+\n     \"<ul>\\n\"+\n     \"<li>re-rerun `output_notebook()` to attempt to load from CDN again, or</li>\\n\"+\n     \"<li>use INLINE resources instead, as so:</li>\\n\"+\n     \"</ul>\\n\"+\n     \"<code>\\n\"+\n     \"from bokeh.resources import INLINE\\n\"+\n     \"output_notebook(resources=INLINE)\\n\"+\n     \"</code>\\n\"+\n     \"</div>\"}};\n\n  function display_loaded() {\n    var el = document.getElementById(\"871581e1-40bd-405a-8b64-e279d3e8ed76\");\n    if (el != null) {\n      el.textContent = \"BokehJS is loading...\";\n    }\n    if (root.Bokeh !== undefined) {\n      if (el != null) {\n        el.textContent = \"BokehJS \" + root.Bokeh.version + \" successfully loaded.\";\n      }\n    } else if (Date.now() < root._bokeh_timeout) {\n      setTimeout(display_loaded, 100)\n    }\n  }\n\n\n  function run_callbacks() {\n    try {\n      root._bokeh_onload_callbacks.forEach(function(callback) { callback() });\n    }\n    finally {\n      delete root._bokeh_onload_callbacks\n    }\n    console.info(\"Bokeh: all callbacks have finished\");\n  }\n\n  function load_libs(js_urls, callback) {\n    root._bokeh_onload_callbacks.push(callback);\n    if (root._bokeh_is_loading > 0) {\n      console.log(\"Bokeh: BokehJS is being loaded, scheduling callback at\", now());\n      return null;\n    }\n    if (js_urls == null || js_urls.length === 0) {\n      run_callbacks();\n      return null;\n    }\n    console.log(\"Bokeh: BokehJS not loaded, scheduling load and callback at\", now());\n    root._bokeh_is_loading = js_urls.length;\n    for (var i = 0; i < js_urls.length; i++) {\n      var url = js_urls[i];\n      var s = document.createElement('script');\n      s.src = url;\n      s.async = false;\n      s.onreadystatechange = s.onload = function() {\n        root._bokeh_is_loading--;\n        if (root._bokeh_is_loading === 0) {\n          console.log(\"Bokeh: all BokehJS libraries loaded\");\n          run_callbacks()\n        }\n      };\n      s.onerror = function() {\n        console.warn(\"failed to load library \" + url);\n      };\n      console.log(\"Bokeh: injecting script tag for BokehJS library: \", url);\n      document.getElementsByTagName(\"head\")[0].appendChild(s);\n    }\n  };var element = document.getElementById(\"871581e1-40bd-405a-8b64-e279d3e8ed76\");\n  if (element == null) {\n    console.log(\"Bokeh: ERROR: autoload.js configured with elementid '871581e1-40bd-405a-8b64-e279d3e8ed76' but no matching script tag was found. \")\n    return false;\n  }\n\n  var js_urls = [\"https://cdn.pydata.org/bokeh/release/bokeh-0.12.14.min.js\", \"https://cdn.pydata.org/bokeh/release/bokeh-widgets-0.12.14.min.js\", \"https://cdn.pydata.org/bokeh/release/bokeh-tables-0.12.14.min.js\", \"https://cdn.pydata.org/bokeh/release/bokeh-gl-0.12.14.min.js\"];\n\n  var inline_js = [\n    function(Bokeh) {\n      Bokeh.set_log_level(\"info\");\n    },\n    \n    function(Bokeh) {\n      \n    },\n    function(Bokeh) {\n      console.log(\"Bokeh: injecting CSS: https://cdn.pydata.org/bokeh/release/bokeh-0.12.14.min.css\");\n      Bokeh.embed.inject_css(\"https://cdn.pydata.org/bokeh/release/bokeh-0.12.14.min.css\");\n      console.log(\"Bokeh: injecting CSS: https://cdn.pydata.org/bokeh/release/bokeh-widgets-0.12.14.min.css\");\n      Bokeh.embed.inject_css(\"https://cdn.pydata.org/bokeh/release/bokeh-widgets-0.12.14.min.css\");\n      console.log(\"Bokeh: injecting CSS: https://cdn.pydata.org/bokeh/release/bokeh-tables-0.12.14.min.css\");\n      Bokeh.embed.inject_css(\"https://cdn.pydata.org/bokeh/release/bokeh-tables-0.12.14.min.css\");\n    }\n  ];\n\n  function run_inline_js() {\n    \n    if ((root.Bokeh !== undefined) || (force === true)) {\n      for (var i = 0; i < inline_js.length; i++) {\n        inline_js[i].call(root, root.Bokeh);\n      }if (force === true) {\n        display_loaded();\n      }} else if (Date.now() < root._bokeh_timeout) {\n      setTimeout(run_inline_js, 100);\n    } else if (!root._bokeh_failed_load) {\n      console.log(\"Bokeh: BokehJS failed to load within specified timeout.\");\n      root._bokeh_failed_load = true;\n    } else if (force !== true) {\n      var cell = $(document.getElementById(\"871581e1-40bd-405a-8b64-e279d3e8ed76\")).parents('.cell').data().cell;\n      cell.output_area.append_execute_result(NB_LOAD_WARNING)\n    }\n\n  }\n\n  if (root._bokeh_is_loading === 0) {\n    console.log(\"Bokeh: BokehJS loaded, going straight to plotting\");\n    run_inline_js();\n  } else {\n    load_libs(js_urls, function() {\n      console.log(\"Bokeh: BokehJS plotting callback run at\", now());\n      run_inline_js();\n    });\n  }\n}(window));"
     },
     "metadata": {},
     "output_type": "display_data"
    }
   ],
   "source": [
    "output_notebook()"
   ]
  },
  {
   "cell_type": "code",
   "execution_count": 8,
   "metadata": {
    "collapsed": true
   },
   "outputs": [],
   "source": [
    "def fmt_cool(ds_in):\n",
    "    ds = ds_in.copy(deep=True)\n",
    "    if 'igg' in ds.dims:\n",
    "        ds = ds.sel(igg=1)\n",
    "\n",
    "    if 'g' in ds.dims:\n",
    "        ds = ds.sum('g')\n",
    "            \n",
    "    if 'band' in ds.dims:\n",
    "        try:\n",
    "            ds = ds.squeeze('band')\n",
    "        except ValueError:\n",
    "            ds = ds.sum('band')\n",
    "                \n",
    "    return ds['coolrg']\n",
    "\n",
    "\n",
    "def pltdata_cooling_1(ds_cool=None,\n",
    "                      ds_cool_crd=None, ds_cool_wgt=None):\n",
    "    \n",
    "\n",
    "\n",
    "    colors = all_palettes['Set1'][4]\n",
    "    data = [{'label': 'CLIRAD `coolr_bands`',\n",
    "             'srs': fmt_cool(ds_cool),\n",
    "             'line_dash': 'dashed', 'line_width': 5,\n",
    "             'color': colors[0], 'alpha': .6},\n",
    "            {'label': 'CRD',\n",
    "             'srs': fmt_cool(ds_cool_crd),\n",
    "             'line_dash': 'solid', 'line_width': 1.5,\n",
    "             'marker': 'circle', 'marker_size': 5,\n",
    "             'color': colors[2], 'alpha': 1,},\n",
    "            {'label': 'WGT igg=10 wgt_flux=2',\n",
    "             'srs': fmt_cool(ds_cool_wgt),\n",
    "             'line_dash': 'solid', 'line_width': 3,\n",
    "             'marker': 'square', 'marker_size': 5,\n",
    "             'color': colors[3], 'alpha': .6}]\n",
    "    return data\n",
    "\n",
    "\n",
    "def nice_xlims(pltdata=None, prange=None):\n",
    "    \n",
    "    def get_slice(srs):\n",
    "        return srs.sel(pressure=slice(*prange))\n",
    "    \n",
    "    srss = [d['srs'] for d in pltdata]\n",
    "    vmin = min([get_slice(srs).min() for srs in srss])\n",
    "    vmax = max([get_slice(srs).max() for srs in srss])\n",
    "    dv = (vmax - vmin) * .01\n",
    "    return float(vmin - dv), float(vmax + dv)\n",
    "    \n",
    "\n",
    "def plt_cooling_bokeh(pltdata=None):\n",
    "    '''\n",
    "    Plot a list of cooling rate profiles using bokeh.\n",
    "    '''\n",
    "    ymin = 1e-2 \n",
    "    ymax = 1020 \n",
    "        \n",
    "    p1 = figure(title=\"Linear pressure scale\", \n",
    "                plot_width=400)        \n",
    "    xmin, xmax = nice_xlims(pltdata, prange=(50, 1050))\n",
    "    for d in pltdata:\n",
    "        if 'marker' in d:\n",
    "            getattr(p1, d['marker'])(d['srs'].values, \n",
    "                    d['srs'].coords['pressure'].values,\n",
    "                    color=d['color'], alpha=.7)\n",
    "        p1.line(d['srs'].values, \n",
    "                d['srs'].coords['pressure'].values,\n",
    "                color=d['color'], alpha=d['alpha'], \n",
    "                line_width=d['line_width'], line_dash=d['line_dash'])\n",
    "    \n",
    "    p1.y_range = Range1d(ymax, ymin)\n",
    "    p1.yaxis.axis_label = 'pressure [mb]'   \n",
    "    p1.x_range = Range1d(xmin, xmax)\n",
    "    p1.xaxis.axis_label = 'cooling rate [K/day]'\n",
    "            \n",
    "    p2 = figure(title='Log pressure scale', y_axis_type='log',\n",
    "                plot_width=560)\n",
    "    xmin, xmax = nice_xlims(pltdata, prange=(.01, 200))\n",
    "    \n",
    "    rs = []\n",
    "    for d in pltdata:\n",
    "        rd = []\n",
    "        if 'marker' in d:\n",
    "            r_mark = getattr(p2, d['marker'])(d['srs'].values, \n",
    "                        d['srs'].coords['pressure'].values,\n",
    "                        color=d['color'], alpha=.7)\n",
    "            rd.append(r_mark)\n",
    "        r_line = p2.line(d['srs'].values, \n",
    "                    d['srs'].coords['pressure'].values,\n",
    "                    color=d['color'], alpha=d['alpha'], \n",
    "                    line_width=d['line_width'], line_dash=d['line_dash'])\n",
    "        rd.append(r_line)\n",
    "      \n",
    "        rs.append(rd)\n",
    "        \n",
    "    p2.y_range = Range1d(ymax, ymin)  \n",
    "    p2.yaxis.axis_label = 'pressure [mb]'\n",
    "    \n",
    "    p2.x_range = Range1d(xmin, xmax)\n",
    "    p2.xaxis.axis_label = 'cooling rate [K/day]'\n",
    "    \n",
    "    items = [(d['label'], r) for r, d in zip(rs, pltdata)]\n",
    "    legend = Legend(items=items, location=(10, -30))\n",
    "    legend.label_text_font_size = '8pt'\n",
    "    \n",
    "    p2.add_layout(legend, 'right')  \n",
    "    \n",
    "    show(gridplot(p1, p2, ncols=2, plot_height=500))\n",
    "    \n",
    "\n",
    "def script_plt_cooling():\n",
    "    pltdata = pltdata_cooling_1(\n",
    "        ds_cool=DS_COOL,\n",
    "        ds_cool_crd=DS_COOL_CRD,\n",
    "        ds_cool_wgt=DS_COOL_WGT)\n",
    "    plt_cooling_bokeh(pltdata=pltdata)\n",
    "    print('''FIGURE. Cooling rate profiles.''')"
   ]
  },
  {
   "cell_type": "code",
   "execution_count": 9,
   "metadata": {
    "collapsed": true
   },
   "outputs": [],
   "source": [
    "def fmt_flux(ds_in):\n",
    "    ds = ds_in.copy(deep=True)\n",
    "    \n",
    "    for l in ('level', 'layer'):\n",
    "        if l in ds.data_vars:\n",
    "            if len(ds[l].dims) > 1:\n",
    "                surface = {d: 0 for d in ds.dims if d != 'pressure'}\n",
    "                coord_level = ds[l][surface]\n",
    "                ds.coords[l] = ('pressure', coord_level)\n",
    "            else:\n",
    "                ds.coords[l] = ('pressure', ds[l])\n",
    "        \n",
    "    ds = ds.isel(pressure=[0, 23, -1])\n",
    "        \n",
    "    if 'igg' in ds.dims:\n",
    "        ds = ds.sel(igg=[1])\n",
    "        ds = ds.squeeze('igg').drop('igg')\n",
    "    \n",
    "    if 'g' in ds.dims:\n",
    "        ds = ds.sum('g')\n",
    "            \n",
    "    if 'band' in ds.dims:\n",
    "        try:\n",
    "            ds = ds.squeeze('band').drop('band')\n",
    "        except ValueError:\n",
    "            ds = ds.sum('band')\n",
    "                \n",
    "    df = ds.to_dataframe()\n",
    "    df = df.set_index('level', append=True)               \n",
    "    return df\n",
    "\n",
    "\n",
    "def tbdata_flux(ds_flux=None, ds_flux_crd=None, ds_flux_wgt=None):\n",
    "    ilevels = [0, 23, -1]\n",
    "            \n",
    "    benchmark = {'label': 'WGT igg=10 wgt_flux=1',\n",
    "                 'df': fmt_flux(ds_flux_wgt)}\n",
    "    \n",
    "    tbs = [{'label': 'CRD',\n",
    "            'df': fmt_flux(ds_flux_crd)},\n",
    "           {'label': 'CLIRAD',\n",
    "            'df': fmt_flux(ds_flux)}]\n",
    "    \n",
    "    data = {'benchmark': benchmark, 'others': tbs}\n",
    "    return data\n",
    "\n",
    "\n",
    "def tb_flux(tbdata=None):\n",
    "    benchmark = tbdata['benchmark']\n",
    "    others = tbdata['others']\n",
    "    \n",
    "    def show_tb(d=None):\n",
    "        display.display(d['df'])\n",
    "        print('Table.', 'Fluxes.', d['label'])\n",
    "        \n",
    "    def show_tbdiff(d0=None, d=None):\n",
    "        df = d['df']\n",
    "        df.index = d0['df'].index\n",
    "        display.display(df - d0['df'])\n",
    "        print('Table.', 'Fluxes.', \n",
    "              '({}) - ({})'.format(d['label'], d0['label']))\n",
    "        \n",
    "    show_tb(benchmark)\n",
    "    for d in others:\n",
    "        show_tb(d)\n",
    "        \n",
    "    for d in others:\n",
    "        show_tbdiff(d=d, d0=benchmark)\n",
    "        \n",
    "        \n",
    "def script_tb_flux():\n",
    "    data = tbdata_flux(ds_flux=DS_FLUX,\n",
    "                       ds_flux_crd=DS_FLUX_CRD,\n",
    "                       ds_flux_wgt=DS_FLUX_WGT)\n",
    "    tb_flux(tbdata=data)"
   ]
  },
  {
   "cell_type": "code",
   "execution_count": 10,
   "metadata": {
    "collapsed": true
   },
   "outputs": [],
   "source": [
    "def band_map():\n",
    "    '''\n",
    "    Maps spectral bands in lblnew to spectral bands in clirad.\n",
    "    '''\n",
    "    lblnew2clirad = {'1': '1',\n",
    "            '2': '2',\n",
    "            '3a': '3',\n",
    "            '3b': '4',\n",
    "            '3c': '5',\n",
    "            '4': '6', \n",
    "            '5': '7',\n",
    "            '6': '8',\n",
    "            '7': '9', \n",
    "            '8': '10',\n",
    "            '9': '11'}\n",
    "    \n",
    "    clirad2lblnew = {clirad: lblnew \n",
    "                     for lblnew, clirad in lblnew2clirad.items()}\n",
    "    return clirad2lblnew\n",
    "\n",
    "\n",
    "def gasbands():\n",
    "    bmap = band_map()\n",
    "    gases = list(PARAM['molecule'].keys())\n",
    "    \n",
    "    bands = [bmap[str(b)] for b in PARAM['band']]\n",
    "    return list(itertools.product(gases, bands))\n",
    "\n",
    "\n",
    "def print_bestfit_params():\n",
    "    print('Best-fit values for each (gas, band)')\n",
    "    print('------------------------------------')\n",
    "    for gas, band in gasbands():\n",
    "        print('o {} band{}'.format(gas, band))\n",
    "        param = bestfits.kdist_params(molecule=gas, band=band)\n",
    "        for name, value in param.items():\n",
    "            print(2 * ' ' + '{} = {}'.format(name, value))\n",
    "\n",
    "        \n",
    "def print_input_param():        \n",
    "    for name, value in PARAM.items():\n",
    "        print('{} = {}'.format(name, value))\n",
    "        \n",
    "        \n",
    "def print_lblnew_param():\n",
    "    for name, value in PARAM_LBLNEW.items():\n",
    "        print('{} = {}'.format(name, value))\n"
   ]
  },
  {
   "cell_type": "code",
   "execution_count": 11,
   "metadata": {
    "collapsed": true,
    "scrolled": false
   },
   "outputs": [],
   "source": [
    "def show_html(s):\n",
    "    display.display(display.HTML(s))\n",
    "\n",
    "    \n",
    "def show_markdown(s):\n",
    "    display.display(display.Markdown(s))\n",
    "\n",
    "    \n",
    "def script():\n",
    "    \n",
    "    title = '### CLIRAD-LW'\n",
    "    s_input = 'Input Parameters'\n",
    "    s_lblnew_param = 'LBLNEW case compaired against'\n",
    "    s_bestfits = 'Best-fit Parameters'\n",
    "    s_plt_cooling = 'Cooling Rate Profiles'\n",
    "    s_tb_flux = 'Flux Comparison'\n",
    "    \n",
    "    # title\n",
    "    show_markdown('### CLIRAD-LW')\n",
    "    \n",
    "    # TOC\n",
    "    show_markdown('### Table of Contents')\n",
    "    show_html(climahtml.getHTML_hrefanchor(s_input))\n",
    "    show_html(climahtml.getHTML_hrefanchor(s_lblnew_param))\n",
    "    show_html(climahtml.getHTML_hrefanchor(s_plt_cooling))\n",
    "    show_html(climahtml.getHTML_hrefanchor(s_tb_flux))\n",
    "    show_html(climahtml.getHTML_hrefanchor(s_bestfits))\n",
    "    \n",
    "    # Input parameters\n",
    "    show_html(climahtml.getHTML_idanchor(s_input))\n",
    "    show_markdown(climahtml.getMarkdown_sectitle(s_input))\n",
    "    print_input_param()\n",
    "    \n",
    "    # LBLNEW parameters \n",
    "    show_html(climahtml.getHTML_idanchor(s_lblnew_param))\n",
    "    show_markdown(climahtml.getMarkdown_sectitle(s_lblnew_param))\n",
    "    print_lblnew_param()\n",
    "    \n",
    "    # Cooling rate profiles\n",
    "    show_html(climahtml.getHTML_idanchor(s_plt_cooling))\n",
    "    show_markdown(climahtml.getMarkdown_sectitle(s_plt_cooling))\n",
    "    script_plt_cooling()\n",
    "    \n",
    "    # Flux comparison\n",
    "    show_html(climahtml.getHTML_idanchor(s_tb_flux))\n",
    "    show_markdown(climahtml.getMarkdown_sectitle(s_tb_flux))\n",
    "    script_tb_flux()\n",
    "    \n",
    "    # Best-fit values\n",
    "    show_html(climahtml.getHTML_idanchor(s_bestfits))\n",
    "    show_markdown(climahtml.getMarkdown_sectitle(s_bestfits))\n",
    "    print_bestfit_params()\n",
    "   \n",
    "    "
   ]
  },
  {
   "cell_type": "code",
   "execution_count": 12,
   "metadata": {
    "scrolled": false
   },
   "outputs": [
    {
     "data": {
      "text/markdown": [
       "### CLIRAD-LW"
      ],
      "text/plain": [
       "<IPython.core.display.Markdown object>"
      ]
     },
     "metadata": {},
     "output_type": "display_data"
    },
    {
     "data": {
      "text/markdown": [
       "### Table of Contents"
      ],
      "text/plain": [
       "<IPython.core.display.Markdown object>"
      ]
     },
     "metadata": {},
     "output_type": "display_data"
    },
    {
     "data": {
      "text/html": [
       "<a href=\"#Input_Parameters\">Input Parameters</a>"
      ],
      "text/plain": [
       "<IPython.core.display.HTML object>"
      ]
     },
     "metadata": {},
     "output_type": "display_data"
    },
    {
     "data": {
      "text/html": [
       "<a href=\"#LBLNEW_case_compaired_against\">LBLNEW case compaired against</a>"
      ],
      "text/plain": [
       "<IPython.core.display.HTML object>"
      ]
     },
     "metadata": {},
     "output_type": "display_data"
    },
    {
     "data": {
      "text/html": [
       "<a href=\"#Cooling_Rate_Profiles\">Cooling Rate Profiles</a>"
      ],
      "text/plain": [
       "<IPython.core.display.HTML object>"
      ]
     },
     "metadata": {},
     "output_type": "display_data"
    },
    {
     "data": {
      "text/html": [
       "<a href=\"#Flux_Comparison\">Flux Comparison</a>"
      ],
      "text/plain": [
       "<IPython.core.display.HTML object>"
      ]
     },
     "metadata": {},
     "output_type": "display_data"
    },
    {
     "data": {
      "text/html": [
       "<a href=\"#Best-fit_Parameters\">Best-fit Parameters</a>"
      ],
      "text/plain": [
       "<IPython.core.display.HTML object>"
      ]
     },
     "metadata": {},
     "output_type": "display_data"
    },
    {
     "data": {
      "text/html": [
       "<a id=\"Input_Parameters\"></a>"
      ],
      "text/plain": [
       "<IPython.core.display.HTML object>"
      ]
     },
     "metadata": {},
     "output_type": "display_data"
    },
    {
     "data": {
      "text/markdown": [
       "# Input Parameters"
      ],
      "text/plain": [
       "<IPython.core.display.Markdown object>"
      ]
     },
     "metadata": {},
     "output_type": "display_data"
    },
    {
     "name": "stdout",
     "output_type": "stream",
     "text": [
      "atmpro = mls\n",
      "band = [3]\n",
      "commitnumber = 7a7a0e1\n",
      "molecule = {'co2': 0.0004}\n",
      "tsfc = 294\n"
     ]
    },
    {
     "data": {
      "text/html": [
       "<a id=\"LBLNEW_case_compaired_against\"></a>"
      ],
      "text/plain": [
       "<IPython.core.display.HTML object>"
      ]
     },
     "metadata": {},
     "output_type": "display_data"
    },
    {
     "data": {
      "text/markdown": [
       "# LBLNEW case compaired against"
      ],
      "text/plain": [
       "<IPython.core.display.Markdown object>"
      ]
     },
     "metadata": {},
     "output_type": "display_data"
    },
    {
     "name": "stdout",
     "output_type": "stream",
     "text": [
      "molecule = co2\n",
      "band = 3a\n",
      "commitnumber = d62b618\n",
      "vmin = 540\n",
      "vmax = 620\n",
      "dv = 0.001\n",
      "nv = 1000\n",
      "ref_pts = [(1, 250), (10, 250), (500, 250)]\n",
      "ng_refs = [3, 2, 4]\n",
      "ng_adju = [0, 0, 0]\n",
      "klin = 6.375563e-24\n",
      "option_wgt_k = 1\n",
      "wgt = [(0.7, 0.3, 0.7), (0.7, 0.6), (0.4, 0.5, 0.8, 0.95)]\n",
      "w_diffuse = [(1.6, 1.6, 1.7), (1.75, 1.75), (1.55, 1.55, 1.6, 1.85)]\n",
      "option_wgt_flux = 1\n",
      "atmpro = mls\n",
      "tsfc = 294\n",
      "conc = 0.0004\n",
      "option_compute_btable = 0\n",
      "option_compute_ktable = 1\n"
     ]
    },
    {
     "data": {
      "text/html": [
       "<a id=\"Cooling_Rate_Profiles\"></a>"
      ],
      "text/plain": [
       "<IPython.core.display.HTML object>"
      ]
     },
     "metadata": {},
     "output_type": "display_data"
    },
    {
     "data": {
      "text/markdown": [
       "# Cooling Rate Profiles"
      ],
      "text/plain": [
       "<IPython.core.display.Markdown object>"
      ]
     },
     "metadata": {},
     "output_type": "display_data"
    },
    {
     "data": {
      "text/html": [
       "\n",
       "<div class=\"bk-root\">\n",
       "    <div class=\"bk-plotdiv\" id=\"ac4aa840-24e1-457f-842d-344b529fb619\"></div>\n",
       "</div>"
      ]
     },
     "metadata": {},
     "output_type": "display_data"
    },
    {
     "data": {
      "application/javascript": [
       "(function(root) {\n",
       "  function embed_document(root) {\n",
       "    \n",
       "  var docs_json = {\"aa868b42-da27-45a6-95ed-b184547e9b1e\":{\"roots\":{\"references\":[{\"attributes\":{\"source\":{\"id\":\"8d1dace1-d6c3-49fa-9a31-7c8bba335b9d\",\"type\":\"ColumnDataSource\"}},\"id\":\"dca41783-60da-4a27-8a58-27bf0ce60e32\",\"type\":\"CDSView\"},{\"attributes\":{\"callback\":null,\"column_names\":[\"x\",\"y\"],\"data\":{\"x\":{\"__ndarray__\":\"HjG8inPx2D/Qn7JxL7bYP+O55444g9k/bYtTKU012j/EO0TMurnaP9p+phyb9to/+9x9THME2z/W+Z4u3tHaP1eof1pWK9o/SK1qKDkQ2T+FD8IvN1DXP72jzvXg4tQ/ST8revGP0T9XaxeJv9zKPzcZVYZxt8Q/oXMrQrkGxz8F8z4rvA3PP3TRsf8RuNI/yGSrqhtY1T9Lx0GueTrYPxc7CqVpr9w/NCWjFL5o4j+exDHcyhznPyVJ5y5PKOY/pwcFpWgl4T/5X9fEPIraP2lUQ4/W4NQ/wkSsk21/0D8SmiwH3VLKP1VixxTmHMU/+yDskHJiwD9LMjOysh24PzO1zda/QLI/EGXVCzGjrT/htuYp07GmP/jtVlw9o54/PfM/59i7lT8VPyZP4j6RPz4H/gbZ8YA/RMo5My0xV7+XC/6dVKY4P0MmAp2VKYw/JvFXoJRLmj+y6ahtOjeiPye1rezWwKY/G0sW/5Dhqj8KEL5dGrKuP0+fZkYUGrE/qc8VcpO7sj9eJZ469ja0P1RFmHIjhLU/JM7t0kSntj/F4ILoIJq3P5kkGs1fW7g/h4FOC9UCuT9Bam7gaY25P39t3Oa2Ero/nIZNCS2Quj8lSecuTwi7P4ewjqFreLs/zqZEjoTouz8HRyRl5l28P62dMHrRy7w/a/3jc91KvT8cCZcCkOK9P8Sn53oulb4/lobQ9wlWvz99I/yDL+m/P1aHFrjADsA/NAzlZcnzvz9lcHOuUaS/P8YEyuAHa78/m+y4RKKOvz/Rlu/wCR/AP0rDfLsdSME/\",\"dtype\":\"float64\",\"shape\":[75]},\"y\":{\"__ndarray__\":\"GhExyth1ND/Sv8nbtpRIP2vylNV0PVE/aTum7souWD/At0SJ8fVgPw3Iuahxymc/MSNhhJWvcD/bTfBN02d3P2zb5nxnaoA/CD5h5MAGhz8NmeH1TyaQP+zrCsc9p5Y/LbKd76fGnz/bLW5ISEmmPww9YvTcQq8/JV2OstnstT8Er5Y7M8G+P0c+r3jqkcU/5h99k6ZBzj88bCIzFzjVP4enV8oyxN0//yH99nXg5D8qOpLLf0jtP5kqGJXUifQ/c9cS8kHP/D+/DpwzojQEQIEmwoanVwxA4lgXt9HgE0BSSZ2AJuIbQAMJih9jjiNA5q4l5INuK0AwTKYKRj0zQNv5fmq8/DpAaCJseHrtQkB/+zpwzoxKQM3MzMzMeFJAZmZmZmZqWEAAAAAAAFxeQM3MzMzMJmJAmpmZmZkfZUBmZmZmZhhoQDMzMzMzEWtAAAAAAAAKbkBmZmZmZoFwQM3MzMzM/XFAMzMzMzN6c0CamZmZmfZ0QAAAAAAAc3ZAZmZmZmbvd0DNzMzMzGt5QDMzMzMz6HpAmpmZmZlkfEAAAAAAAOF9QGZmZmZmXX9AZmZmZuZsgECamZmZGSuBQM3MzMxM6YFAAAAAAICngkAzMzMzs2WDQGZmZmbmI4RAmpmZmRnihEDNzMzMTKCFQAAAAACAXoZAMzMzM7Mch0BmZmZm5tqHQJqZmZkZmYhAzczMzExXiUAAAAAAgBWKQDMzMzOz04pAZmZmZuaRi0CamZmZGVCMQM3MzMxMDo1AAAAAAIDMjUAzMzMzs4qOQGZmZmbmSI9A\",\"dtype\":\"float64\",\"shape\":[75]}}},\"id\":\"29ce0535-bb1e-4c62-b9f4-b5207ba4d947\",\"type\":\"ColumnDataSource\"},{\"attributes\":{\"data_source\":{\"id\":\"29ce0535-bb1e-4c62-b9f4-b5207ba4d947\",\"type\":\"ColumnDataSource\"},\"glyph\":{\"id\":\"4e3da755-4160-4e6d-9a87-948258404820\",\"type\":\"Circle\"},\"hover_glyph\":null,\"muted_glyph\":null,\"nonselection_glyph\":{\"id\":\"64deb72b-d187-4805-8ee0-507059da9e5c\",\"type\":\"Circle\"},\"selection_glyph\":null,\"view\":{\"id\":\"d0c958ab-7014-4888-806c-0515c826f464\",\"type\":\"CDSView\"}},\"id\":\"c8757995-8a09-43d8-bc40-be0d5aa8122a\",\"type\":\"GlyphRenderer\"},{\"attributes\":{\"callback\":null,\"column_names\":[\"x\",\"y\"],\"data\":{\"x\":{\"__ndarray__\":\"HjG8inPx2D/Qn7JxL7bYP+O55444g9k/bYtTKU012j/EO0TMurnaP9p+phyb9to/+9x9THME2z/W+Z4u3tHaP1eof1pWK9o/SK1qKDkQ2T+FD8IvN1DXP72jzvXg4tQ/ST8revGP0T9XaxeJv9zKPzcZVYZxt8Q/oXMrQrkGxz8F8z4rvA3PP3TRsf8RuNI/yGSrqhtY1T9Lx0GueTrYPxc7CqVpr9w/NCWjFL5o4j+exDHcyhznPyVJ5y5PKOY/pwcFpWgl4T/5X9fEPIraP2lUQ4/W4NQ/wkSsk21/0D8SmiwH3VLKP1VixxTmHMU/+yDskHJiwD9LMjOysh24PzO1zda/QLI/EGXVCzGjrT/htuYp07GmP/jtVlw9o54/PfM/59i7lT8VPyZP4j6RPz4H/gbZ8YA/RMo5My0xV7+XC/6dVKY4P0MmAp2VKYw/JvFXoJRLmj+y6ahtOjeiPye1rezWwKY/G0sW/5Dhqj8KEL5dGrKuP0+fZkYUGrE/qc8VcpO7sj9eJZ469ja0P1RFmHIjhLU/JM7t0kSntj/F4ILoIJq3P5kkGs1fW7g/h4FOC9UCuT9Bam7gaY25P39t3Oa2Ero/nIZNCS2Quj8lSecuTwi7P4ewjqFreLs/zqZEjoTouz8HRyRl5l28P62dMHrRy7w/a/3jc91KvT8cCZcCkOK9P8Sn53oulb4/lobQ9wlWvz99I/yDL+m/P1aHFrjADsA/NAzlZcnzvz9lcHOuUaS/P8YEyuAHa78/m+y4RKKOvz/Rlu/wCR/AP0rDfLsdSME/\",\"dtype\":\"float64\",\"shape\":[75]},\"y\":{\"__ndarray__\":\"GhExyth1ND/Sv8nbtpRIP2vylNV0PVE/aTum7souWD/At0SJ8fVgPw3Iuahxymc/MSNhhJWvcD/bTfBN02d3P2zb5nxnaoA/CD5h5MAGhz8NmeH1TyaQP+zrCsc9p5Y/LbKd76fGnz/bLW5ISEmmPww9YvTcQq8/JV2OstnstT8Er5Y7M8G+P0c+r3jqkcU/5h99k6ZBzj88bCIzFzjVP4enV8oyxN0//yH99nXg5D8qOpLLf0jtP5kqGJXUifQ/c9cS8kHP/D+/DpwzojQEQIEmwoanVwxA4lgXt9HgE0BSSZ2AJuIbQAMJih9jjiNA5q4l5INuK0AwTKYKRj0zQNv5fmq8/DpAaCJseHrtQkB/+zpwzoxKQM3MzMzMeFJAZmZmZmZqWEAAAAAAAFxeQM3MzMzMJmJAmpmZmZkfZUBmZmZmZhhoQDMzMzMzEWtAAAAAAAAKbkBmZmZmZoFwQM3MzMzM/XFAMzMzMzN6c0CamZmZmfZ0QAAAAAAAc3ZAZmZmZmbvd0DNzMzMzGt5QDMzMzMz6HpAmpmZmZlkfEAAAAAAAOF9QGZmZmZmXX9AZmZmZuZsgECamZmZGSuBQM3MzMxM6YFAAAAAAICngkAzMzMzs2WDQGZmZmbmI4RAmpmZmRnihEDNzMzMTKCFQAAAAACAXoZAMzMzM7Mch0BmZmZm5tqHQJqZmZkZmYhAzczMzExXiUAAAAAAgBWKQDMzMzOz04pAZmZmZuaRi0CamZmZGVCMQM3MzMxMDo1AAAAAAIDMjUAzMzMzs4qOQGZmZmbmSI9A\",\"dtype\":\"float64\",\"shape\":[75]}}},\"id\":\"7264a6bb-9255-43b4-95e9-d9b56e2607bf\",\"type\":\"ColumnDataSource\"},{\"attributes\":{\"callback\":null,\"column_names\":[\"x\",\"y\"],\"data\":{\"x\":{\"__ndarray__\":\"olmOGvmn1T+6UF1aqMbVP9B0o6I1gNY//RgkFmM91z//PmO2UqfRP71+eTGqe9Y/5wqSFkpn2D+p/A7xA9zYP1wXyMf1mNg/yUOwAg741z+DtAaWQuDWP89ac1+qLdU/fbm4nD6/0j8xzt/W1JDOP7Oillj7Wck/IsRTfkfOyz/XEB++2jfRP710FCnYVtQ/+cQ3inPA1D8srNBZVALWP+O4B2prx9k/D0QL0knk4D8fPSL//MnlP53Gu0ECf+U/nbUT2ZIr4T+loVgaEpvaPxYyNx0RfNU/jwVfG0rX0T/cX7Nvub7NP8l1WasbA8k/GOKGTNE/wj/vdx/Adh26P7sUwYkIV7M/fQE3wt6Lrj9hjq+yxp2pP2GANVpjzKM/Qiqq0CTUnz/vtXs//++ZP8Yz4+xTrZE/r26WAHteOz9RrgnwNFVjP/U2HKh3UZA/cUaxQXB5nD9yNzUimlGjP8AEcGBMdqg/qRs5J0xRqj/Pb6aj4rWtP8aaiP3PH7A/ueEI9uS2sT+MaUZpebKyP+TYS8O1J7Q/AJMnYVkstT9qRpJ5YS22PxssFSHpALc/esiPTVfetz+xw0E3OYS4P3DDRIw4Sbk/KgXLFFPiuT/LgYqosHi6P+mK2QXzHbs/yJzkY5ORuz/xJcDh3zG8P+ESIeDzvr8/OMNib574vj/pIDH3BZq+P3K0CnAZ3b4/c5kWYdptvz9fVfFLTem/P6/FAvlgDMA/FYkwQUzxvz+UZ2FNJoy/PxGTbTtxhr8/4ia6KuSAvz9kCIZIRxnAPxzPbhp4LME/\",\"dtype\":\"float64\",\"shape\":[75]},\"y\":{\"__ndarray__\":\"GhExyth1ND/Sv8nbtpRIP2vylNV0PVE/aTum7souWD/At0SJ8fVgPw3Iuahxymc/MSNhhJWvcD/bTfBN02d3P2zb5nxnaoA/CD5h5MAGhz8NmeH1TyaQP+zrCsc9p5Y/LbKd76fGnz/bLW5ISEmmPww9YvTcQq8/JV2OstnstT8Er5Y7M8G+P0c+r3jqkcU/5h99k6ZBzj88bCIzFzjVP4enV8oyxN0//yH99nXg5D8qOpLLf0jtP5kqGJXUifQ/c9cS8kHP/D+/DpwzojQEQIEmwoanVwxA4lgXt9HgE0BSSZ2AJuIbQAMJih9jjiNA5q4l5INuK0AwTKYKRj0zQNv5fmq8/DpAaCJseHrtQkB/+zpwzoxKQM3MzMzMeFJAZmZmZmZqWEAAAAAAAFxeQM3MzMzMJmJAmpmZmZkfZUBmZmZmZhhoQDMzMzMzEWtAAAAAAAAKbkBmZmZmZoFwQM3MzMzM/XFAMzMzMzN6c0CamZmZmfZ0QAAAAAAAc3ZAZmZmZmbvd0DNzMzMzGt5QDMzMzMz6HpAmpmZmZlkfEAAAAAAAOF9QGZmZmZmXX9AZmZmZuZsgECamZmZGSuBQM3MzMxM6YFAAAAAAICngkAzMzMzs2WDQGZmZmbmI4RAmpmZmRnihEDNzMzMTKCFQAAAAACAXoZAMzMzM7Mch0BmZmZm5tqHQJqZmZkZmYhAzczMzExXiUAAAAAAgBWKQDMzMzOz04pAZmZmZuaRi0CamZmZGVCMQM3MzMxMDo1AAAAAAIDMjUAzMzMzs4qOQGZmZmbmSI9A\",\"dtype\":\"float64\",\"shape\":[75]}}},\"id\":\"55adc6ab-2c73-486d-b556-3ddd17739011\",\"type\":\"ColumnDataSource\"},{\"attributes\":{\"fill_alpha\":{\"value\":0.7},\"fill_color\":{\"value\":\"#4daf4a\"},\"line_alpha\":{\"value\":0.7},\"line_color\":{\"value\":\"#4daf4a\"},\"x\":{\"field\":\"x\"},\"y\":{\"field\":\"y\"}},\"id\":\"4e3da755-4160-4e6d-9a87-948258404820\",\"type\":\"Circle\"},{\"attributes\":{\"fill_alpha\":{\"value\":0.1},\"fill_color\":{\"value\":\"#1f77b4\"},\"line_alpha\":{\"value\":0.1},\"line_color\":{\"value\":\"#1f77b4\"},\"x\":{\"field\":\"x\"},\"y\":{\"field\":\"y\"}},\"id\":\"64deb72b-d187-4805-8ee0-507059da9e5c\",\"type\":\"Circle\"},{\"attributes\":{\"data_source\":{\"id\":\"7264a6bb-9255-43b4-95e9-d9b56e2607bf\",\"type\":\"ColumnDataSource\"},\"glyph\":{\"id\":\"bcce64a4-aa2e-40e4-8725-b0c52bb43307\",\"type\":\"Line\"},\"hover_glyph\":null,\"muted_glyph\":null,\"nonselection_glyph\":{\"id\":\"90837672-82ab-4ac1-99cf-91a9a7e994f8\",\"type\":\"Line\"},\"selection_glyph\":null,\"view\":{\"id\":\"b5f0abdb-0570-4f23-8486-f400833fe328\",\"type\":\"CDSView\"}},\"id\":\"abcb756c-0220-4333-8601-7ac4ff4a4590\",\"type\":\"GlyphRenderer\"},{\"attributes\":{\"callback\":null,\"column_names\":[\"x\",\"y\"],\"data\":{\"x\":{\"__ndarray__\":\"HjG8inPx2D/Qn7JxL7bYP+O55444g9k/bYtTKU012j/EO0TMurnaP9p+phyb9to/+9x9THME2z/W+Z4u3tHaP1eof1pWK9o/SK1qKDkQ2T+FD8IvN1DXP72jzvXg4tQ/ST8revGP0T9XaxeJv9zKPzcZVYZxt8Q/oXMrQrkGxz8F8z4rvA3PP3TRsf8RuNI/yGSrqhtY1T9Lx0GueTrYPxc7CqVpr9w/NCWjFL5o4j+exDHcyhznPyVJ5y5PKOY/pwcFpWgl4T/5X9fEPIraP2lUQ4/W4NQ/wkSsk21/0D8SmiwH3VLKP1VixxTmHMU/+yDskHJiwD9LMjOysh24PzO1zda/QLI/EGXVCzGjrT/htuYp07GmP/jtVlw9o54/PfM/59i7lT8VPyZP4j6RPz4H/gbZ8YA/RMo5My0xV7+XC/6dVKY4P0MmAp2VKYw/JvFXoJRLmj+y6ahtOjeiPye1rezWwKY/G0sW/5Dhqj8KEL5dGrKuP0+fZkYUGrE/qc8VcpO7sj9eJZ469ja0P1RFmHIjhLU/JM7t0kSntj/F4ILoIJq3P5kkGs1fW7g/h4FOC9UCuT9Bam7gaY25P39t3Oa2Ero/nIZNCS2Quj8lSecuTwi7P4ewjqFreLs/zqZEjoTouz8HRyRl5l28P62dMHrRy7w/a/3jc91KvT8cCZcCkOK9P8Sn53oulb4/lobQ9wlWvz99I/yDL+m/P1aHFrjADsA/NAzlZcnzvz9lcHOuUaS/P8YEyuAHa78/m+y4RKKOvz/Rlu/wCR/AP0rDfLsdSME/\",\"dtype\":\"float64\",\"shape\":[75]},\"y\":{\"__ndarray__\":\"GhExyth1ND/Sv8nbtpRIP2vylNV0PVE/aTum7souWD/At0SJ8fVgPw3Iuahxymc/MSNhhJWvcD/bTfBN02d3P2zb5nxnaoA/CD5h5MAGhz8NmeH1TyaQP+zrCsc9p5Y/LbKd76fGnz/bLW5ISEmmPww9YvTcQq8/JV2OstnstT8Er5Y7M8G+P0c+r3jqkcU/5h99k6ZBzj88bCIzFzjVP4enV8oyxN0//yH99nXg5D8qOpLLf0jtP5kqGJXUifQ/c9cS8kHP/D+/DpwzojQEQIEmwoanVwxA4lgXt9HgE0BSSZ2AJuIbQAMJih9jjiNA5q4l5INuK0AwTKYKRj0zQNv5fmq8/DpAaCJseHrtQkB/+zpwzoxKQM3MzMzMeFJAZmZmZmZqWEAAAAAAAFxeQM3MzMzMJmJAmpmZmZkfZUBmZmZmZhhoQDMzMzMzEWtAAAAAAAAKbkBmZmZmZoFwQM3MzMzM/XFAMzMzMzN6c0CamZmZmfZ0QAAAAAAAc3ZAZmZmZmbvd0DNzMzMzGt5QDMzMzMz6HpAmpmZmZlkfEAAAAAAAOF9QGZmZmZmXX9AZmZmZuZsgECamZmZGSuBQM3MzMxM6YFAAAAAAICngkAzMzMzs2WDQGZmZmbmI4RAmpmZmRnihEDNzMzMTKCFQAAAAACAXoZAMzMzM7Mch0BmZmZm5tqHQJqZmZkZmYhAzczMzExXiUAAAAAAgBWKQDMzMzOz04pAZmZmZuaRi0CamZmZGVCMQM3MzMxMDo1AAAAAAIDMjUAzMzMzs4qOQGZmZmbmSI9A\",\"dtype\":\"float64\",\"shape\":[75]}}},\"id\":\"d6e2d6a3-15b0-4044-9c03-b77f8417bc3c\",\"type\":\"ColumnDataSource\"},{\"attributes\":{\"source\":{\"id\":\"29ce0535-bb1e-4c62-b9f4-b5207ba4d947\",\"type\":\"ColumnDataSource\"}},\"id\":\"d0c958ab-7014-4888-806c-0515c826f464\",\"type\":\"CDSView\"},{\"attributes\":{\"ticker\":null},\"id\":\"5fa33c35-87a6-4c45-9733-a6a9a10649e8\",\"type\":\"LogTickFormatter\"},{\"attributes\":{\"line_color\":\"#4daf4a\",\"line_width\":1.5,\"x\":{\"field\":\"x\"},\"y\":{\"field\":\"y\"}},\"id\":\"bcce64a4-aa2e-40e4-8725-b0c52bb43307\",\"type\":\"Line\"},{\"attributes\":{\"line_alpha\":0.1,\"line_color\":\"#1f77b4\",\"line_width\":1.5,\"x\":{\"field\":\"x\"},\"y\":{\"field\":\"y\"}},\"id\":\"90837672-82ab-4ac1-99cf-91a9a7e994f8\",\"type\":\"Line\"},{\"attributes\":{\"callback\":null,\"column_names\":[\"x\",\"y\"],\"data\":{\"x\":{\"__ndarray__\":\"olmOGvmn1T+6UF1aqMbVP9B0o6I1gNY//RgkFmM91z//PmO2UqfRP71+eTGqe9Y/5wqSFkpn2D+p/A7xA9zYP1wXyMf1mNg/yUOwAg741z+DtAaWQuDWP89ac1+qLdU/fbm4nD6/0j8xzt/W1JDOP7Oillj7Wck/IsRTfkfOyz/XEB++2jfRP710FCnYVtQ/+cQ3inPA1D8srNBZVALWP+O4B2prx9k/D0QL0knk4D8fPSL//MnlP53Gu0ECf+U/nbUT2ZIr4T+loVgaEpvaPxYyNx0RfNU/jwVfG0rX0T/cX7Nvub7NP8l1WasbA8k/GOKGTNE/wj/vdx/Adh26P7sUwYkIV7M/fQE3wt6Lrj9hjq+yxp2pP2GANVpjzKM/Qiqq0CTUnz/vtXs//++ZP8Yz4+xTrZE/r26WAHteOz9RrgnwNFVjP/U2HKh3UZA/cUaxQXB5nD9yNzUimlGjP8AEcGBMdqg/qRs5J0xRqj/Pb6aj4rWtP8aaiP3PH7A/ueEI9uS2sT+MaUZpebKyP+TYS8O1J7Q/AJMnYVkstT9qRpJ5YS22PxssFSHpALc/esiPTVfetz+xw0E3OYS4P3DDRIw4Sbk/KgXLFFPiuT/LgYqosHi6P+mK2QXzHbs/yJzkY5ORuz/xJcDh3zG8P+ESIeDzvr8/OMNib574vj/pIDH3BZq+P3K0CnAZ3b4/c5kWYdptvz9fVfFLTem/P6/FAvlgDMA/FYkwQUzxvz+UZ2FNJoy/PxGTbTtxhr8/4ia6KuSAvz9kCIZIRxnAPxzPbhp4LME/\",\"dtype\":\"float64\",\"shape\":[75]},\"y\":{\"__ndarray__\":\"GhExyth1ND/Sv8nbtpRIP2vylNV0PVE/aTum7souWD/At0SJ8fVgPw3Iuahxymc/MSNhhJWvcD/bTfBN02d3P2zb5nxnaoA/CD5h5MAGhz8NmeH1TyaQP+zrCsc9p5Y/LbKd76fGnz/bLW5ISEmmPww9YvTcQq8/JV2OstnstT8Er5Y7M8G+P0c+r3jqkcU/5h99k6ZBzj88bCIzFzjVP4enV8oyxN0//yH99nXg5D8qOpLLf0jtP5kqGJXUifQ/c9cS8kHP/D+/DpwzojQEQIEmwoanVwxA4lgXt9HgE0BSSZ2AJuIbQAMJih9jjiNA5q4l5INuK0AwTKYKRj0zQNv5fmq8/DpAaCJseHrtQkB/+zpwzoxKQM3MzMzMeFJAZmZmZmZqWEAAAAAAAFxeQM3MzMzMJmJAmpmZmZkfZUBmZmZmZhhoQDMzMzMzEWtAAAAAAAAKbkBmZmZmZoFwQM3MzMzM/XFAMzMzMzN6c0CamZmZmfZ0QAAAAAAAc3ZAZmZmZmbvd0DNzMzMzGt5QDMzMzMz6HpAmpmZmZlkfEAAAAAAAOF9QGZmZmZmXX9AZmZmZuZsgECamZmZGSuBQM3MzMxM6YFAAAAAAICngkAzMzMzs2WDQGZmZmbmI4RAmpmZmRnihEDNzMzMTKCFQAAAAACAXoZAMzMzM7Mch0BmZmZm5tqHQJqZmZkZmYhAzczMzExXiUAAAAAAgBWKQDMzMzOz04pAZmZmZuaRi0CamZmZGVCMQM3MzMxMDo1AAAAAAIDMjUAzMzMzs4qOQGZmZmbmSI9A\",\"dtype\":\"float64\",\"shape\":[75]}}},\"id\":\"1b8d0e95-0a3e-47fe-b09c-338687fae960\",\"type\":\"ColumnDataSource\"},{\"attributes\":{\"line_alpha\":0.6,\"line_color\":\"#984ea3\",\"line_width\":3,\"x\":{\"field\":\"x\"},\"y\":{\"field\":\"y\"}},\"id\":\"947868e6-48ae-4ae3-8c7e-b0723a3ebb81\",\"type\":\"Line\"},{\"attributes\":{\"source\":{\"id\":\"7264a6bb-9255-43b4-95e9-d9b56e2607bf\",\"type\":\"ColumnDataSource\"}},\"id\":\"b5f0abdb-0570-4f23-8486-f400833fe328\",\"type\":\"CDSView\"},{\"attributes\":{\"fill_alpha\":{\"value\":0.7},\"fill_color\":{\"value\":\"#984ea3\"},\"line_alpha\":{\"value\":0.7},\"line_color\":{\"value\":\"#984ea3\"},\"x\":{\"field\":\"x\"},\"y\":{\"field\":\"y\"}},\"id\":\"0573b931-3f9d-4256-aef9-746367cd9135\",\"type\":\"Square\"},{\"attributes\":{\"source\":{\"id\":\"55adc6ab-2c73-486d-b556-3ddd17739011\",\"type\":\"ColumnDataSource\"}},\"id\":\"865bfa5f-3f60-402f-b36c-a05233296d78\",\"type\":\"CDSView\"},{\"attributes\":{\"callback\":null,\"end\":0.729501502332,\"start\":-0.008652335532},\"id\":\"6350402f-3de0-4fac-a7b8-f52aa9b28dc9\",\"type\":\"Range1d\"},{\"attributes\":{\"items\":[{\"id\":\"6ec0c951-1bd4-45f9-b5b8-a1472206fece\",\"type\":\"LegendItem\"},{\"id\":\"0dc90d3d-94d9-4c9a-9c04-847ad7d961a3\",\"type\":\"LegendItem\"},{\"id\":\"ee9b3c2c-890d-4e04-a09f-61b28e85fb7c\",\"type\":\"LegendItem\"}],\"label_text_font_size\":{\"value\":\"8pt\"},\"location\":[10,-30],\"plot\":{\"id\":\"604bcd2b-1689-44be-895c-222a173ff5dd\",\"subtype\":\"Figure\",\"type\":\"Plot\"}},\"id\":\"dd6184e5-b35f-41f5-bdc3-b91b4c2085f2\",\"type\":\"Legend\"},{\"attributes\":{\"fill_alpha\":{\"value\":0.1},\"fill_color\":{\"value\":\"#1f77b4\"},\"line_alpha\":{\"value\":0.1},\"line_color\":{\"value\":\"#1f77b4\"},\"x\":{\"field\":\"x\"},\"y\":{\"field\":\"y\"}},\"id\":\"c0d9be5e-4526-4ade-95b9-e2c6799f3a9b\",\"type\":\"Square\"},{\"attributes\":{\"data_source\":{\"id\":\"55adc6ab-2c73-486d-b556-3ddd17739011\",\"type\":\"ColumnDataSource\"},\"glyph\":{\"id\":\"0573b931-3f9d-4256-aef9-746367cd9135\",\"type\":\"Square\"},\"hover_glyph\":null,\"muted_glyph\":null,\"nonselection_glyph\":{\"id\":\"c0d9be5e-4526-4ade-95b9-e2c6799f3a9b\",\"type\":\"Square\"},\"selection_glyph\":null,\"view\":{\"id\":\"865bfa5f-3f60-402f-b36c-a05233296d78\",\"type\":\"CDSView\"}},\"id\":\"b103ddb6-d0e7-48d1-90a7-a71956774415\",\"type\":\"GlyphRenderer\"},{\"attributes\":{\"source\":{\"id\":\"1b8d0e95-0a3e-47fe-b09c-338687fae960\",\"type\":\"ColumnDataSource\"}},\"id\":\"cd49b475-8466-458f-a37e-342c8f5bf047\",\"type\":\"CDSView\"},{\"attributes\":{\"line_alpha\":0.1,\"line_color\":\"#1f77b4\",\"line_width\":3,\"x\":{\"field\":\"x\"},\"y\":{\"field\":\"y\"}},\"id\":\"80ce2f31-0f7d-4130-a76a-86080b3fd077\",\"type\":\"Line\"},{\"attributes\":{\"data_source\":{\"id\":\"1b8d0e95-0a3e-47fe-b09c-338687fae960\",\"type\":\"ColumnDataSource\"},\"glyph\":{\"id\":\"947868e6-48ae-4ae3-8c7e-b0723a3ebb81\",\"type\":\"Line\"},\"hover_glyph\":null,\"muted_glyph\":null,\"nonselection_glyph\":{\"id\":\"80ce2f31-0f7d-4130-a76a-86080b3fd077\",\"type\":\"Line\"},\"selection_glyph\":null,\"view\":{\"id\":\"cd49b475-8466-458f-a37e-342c8f5bf047\",\"type\":\"CDSView\"}},\"id\":\"dc8d91b5-51d2-4ecb-99d1-318d718348d3\",\"type\":\"GlyphRenderer\"},{\"attributes\":{\"label\":{\"value\":\"CLIRAD `coolr_bands`\"},\"renderers\":[{\"id\":\"6508e696-9b39-43ff-95e6-ec6aa7a43dcf\",\"type\":\"GlyphRenderer\"}]},\"id\":\"6ec0c951-1bd4-45f9-b5b8-a1472206fece\",\"type\":\"LegendItem\"},{\"attributes\":{\"data_source\":{\"id\":\"8d1dace1-d6c3-49fa-9a31-7c8bba335b9d\",\"type\":\"ColumnDataSource\"},\"glyph\":{\"id\":\"69177322-2138-4881-b4d9-a17d328e2236\",\"type\":\"Line\"},\"hover_glyph\":null,\"muted_glyph\":null,\"nonselection_glyph\":{\"id\":\"bd635a5b-1eef-4116-ba9e-9be22d22d8d3\",\"type\":\"Line\"},\"selection_glyph\":null,\"view\":{\"id\":\"dca41783-60da-4a27-8a58-27bf0ce60e32\",\"type\":\"CDSView\"}},\"id\":\"20c8c461-47a9-447a-90b9-7e5d91aec91c\",\"type\":\"GlyphRenderer\"},{\"attributes\":{\"line_alpha\":0.6,\"line_color\":\"#e41a1c\",\"line_dash\":[6],\"line_width\":5,\"x\":{\"field\":\"x\"},\"y\":{\"field\":\"y\"}},\"id\":\"69177322-2138-4881-b4d9-a17d328e2236\",\"type\":\"Line\"},{\"attributes\":{},\"id\":\"f351a9b1-e886-4d21-8052-5509979a0cae\",\"type\":\"BasicTickFormatter\"},{\"attributes\":{\"children\":[{\"id\":\"5109485a-cfc1-4df2-8302-0847ba1959ff\",\"type\":\"Row\"}]},\"id\":\"a1d04c31-80ab-472c-8ab3-4573922adb01\",\"type\":\"Column\"},{\"attributes\":{\"tools\":[{\"id\":\"9b265b00-df8a-4164-9852-1f434cdadc0a\",\"type\":\"PanTool\"},{\"id\":\"8b882c18-7251-49df-a634-cbf6273db229\",\"type\":\"WheelZoomTool\"},{\"id\":\"8b8ca9d0-28a9-46f3-b37d-3cb089a5da63\",\"type\":\"BoxZoomTool\"},{\"id\":\"a70450e9-3ec5-4d78-bfcc-b7eb290ce530\",\"type\":\"SaveTool\"},{\"id\":\"518396f6-05e6-4edb-ae77-f7de5294171a\",\"type\":\"ResetTool\"},{\"id\":\"97fa89c1-02ef-4007-89aa-ab2d30935f8c\",\"type\":\"HelpTool\"},{\"id\":\"d4184726-83ef-40d9-afdc-079a68dad4db\",\"type\":\"PanTool\"},{\"id\":\"846967ad-2048-49a7-9c07-99aebca6892e\",\"type\":\"WheelZoomTool\"},{\"id\":\"442501a2-598d-477e-a242-56b25f126e5b\",\"type\":\"BoxZoomTool\"},{\"id\":\"5b949c40-db7c-4c0e-bb4e-c4c3c0ac76de\",\"type\":\"SaveTool\"},{\"id\":\"d33f7b07-272b-4e3f-8d9f-02d94d4cd568\",\"type\":\"ResetTool\"},{\"id\":\"74f33623-8a1d-426c-92b0-3073bac4de42\",\"type\":\"HelpTool\"}]},\"id\":\"b5aa2403-409b-4dfe-be6e-5bb3073e0784\",\"type\":\"ProxyToolbar\"},{\"attributes\":{\"plot\":null,\"text\":\"Log pressure scale\"},\"id\":\"bf7c267e-999a-4c8f-9ac8-c42241a94e79\",\"type\":\"Title\"},{\"attributes\":{\"num_minor_ticks\":10},\"id\":\"d76f9524-8960-4a0b-8980-af3df9e4ed2b\",\"type\":\"LogTicker\"},{\"attributes\":{},\"id\":\"518396f6-05e6-4edb-ae77-f7de5294171a\",\"type\":\"ResetTool\"},{\"attributes\":{\"plot\":{\"id\":\"604bcd2b-1689-44be-895c-222a173ff5dd\",\"subtype\":\"Figure\",\"type\":\"Plot\"},\"ticker\":{\"id\":\"7bf0c743-05e5-45be-a6ae-3ad746aed235\",\"type\":\"BasicTicker\"}},\"id\":\"c929e0bf-879c-465a-96dc-cb6dcf3a947f\",\"type\":\"Grid\"},{\"attributes\":{\"axis_label\":\"cooling rate [K/day]\",\"formatter\":{\"id\":\"36ffdf50-4c8e-4af8-9ab7-821d3365ec82\",\"type\":\"BasicTickFormatter\"},\"plot\":{\"id\":\"604bcd2b-1689-44be-895c-222a173ff5dd\",\"subtype\":\"Figure\",\"type\":\"Plot\"},\"ticker\":{\"id\":\"7bf0c743-05e5-45be-a6ae-3ad746aed235\",\"type\":\"BasicTicker\"}},\"id\":\"043bc7fa-d84e-4acf-98cd-058e1a10c56a\",\"type\":\"LinearAxis\"},{\"attributes\":{\"line_alpha\":0.1,\"line_color\":\"#1f77b4\",\"line_width\":3,\"x\":{\"field\":\"x\"},\"y\":{\"field\":\"y\"}},\"id\":\"62f9519e-3833-4575-848a-59f13bf70013\",\"type\":\"Line\"},{\"attributes\":{\"axis_label\":\"pressure [mb]\",\"formatter\":{\"id\":\"3c7f0bcc-6da7-48a5-9789-7ff2e6cfeedb\",\"type\":\"BasicTickFormatter\"},\"plot\":{\"id\":\"3b15a366-25ba-4542-9c1d-4ae923a37a80\",\"subtype\":\"Figure\",\"type\":\"Plot\"},\"ticker\":{\"id\":\"890c332b-26f6-4d7d-b454-7a8dd1077f67\",\"type\":\"BasicTicker\"}},\"id\":\"57df4d6e-0c3d-49b2-badd-f6090e87f091\",\"type\":\"LinearAxis\"},{\"attributes\":{\"data_source\":{\"id\":\"8191ec87-8363-42fe-b28e-b41d01900921\",\"type\":\"ColumnDataSource\"},\"glyph\":{\"id\":\"6fe45869-abcb-43c1-959c-ff00091482f4\",\"type\":\"Line\"},\"hover_glyph\":null,\"muted_glyph\":null,\"nonselection_glyph\":{\"id\":\"62f9519e-3833-4575-848a-59f13bf70013\",\"type\":\"Line\"},\"selection_glyph\":null,\"view\":{\"id\":\"55ca4a53-0b89-46f1-aa9d-286b4d3b7215\",\"type\":\"CDSView\"}},\"id\":\"c0622800-99c1-4830-8c76-8964646dcbdf\",\"type\":\"GlyphRenderer\"},{\"attributes\":{\"active_drag\":\"auto\",\"active_inspect\":\"auto\",\"active_scroll\":\"auto\",\"active_tap\":\"auto\",\"tools\":[{\"id\":\"d4184726-83ef-40d9-afdc-079a68dad4db\",\"type\":\"PanTool\"},{\"id\":\"846967ad-2048-49a7-9c07-99aebca6892e\",\"type\":\"WheelZoomTool\"},{\"id\":\"442501a2-598d-477e-a242-56b25f126e5b\",\"type\":\"BoxZoomTool\"},{\"id\":\"5b949c40-db7c-4c0e-bb4e-c4c3c0ac76de\",\"type\":\"SaveTool\"},{\"id\":\"d33f7b07-272b-4e3f-8d9f-02d94d4cd568\",\"type\":\"ResetTool\"},{\"id\":\"74f33623-8a1d-426c-92b0-3073bac4de42\",\"type\":\"HelpTool\"}]},\"id\":\"8c6b59a2-a759-4b87-9717-3b2ae5a9be52\",\"type\":\"Toolbar\"},{\"attributes\":{},\"id\":\"7bf0c743-05e5-45be-a6ae-3ad746aed235\",\"type\":\"BasicTicker\"},{\"attributes\":{\"axis_label\":\"pressure [mb]\",\"formatter\":{\"id\":\"5fa33c35-87a6-4c45-9733-a6a9a10649e8\",\"type\":\"LogTickFormatter\"},\"plot\":{\"id\":\"604bcd2b-1689-44be-895c-222a173ff5dd\",\"subtype\":\"Figure\",\"type\":\"Plot\"},\"ticker\":{\"id\":\"d76f9524-8960-4a0b-8980-af3df9e4ed2b\",\"type\":\"LogTicker\"}},\"id\":\"3c7dc457-ea50-4b76-84d8-d776d20b42bd\",\"type\":\"LogAxis\"},{\"attributes\":{\"source\":{\"id\":\"8191ec87-8363-42fe-b28e-b41d01900921\",\"type\":\"ColumnDataSource\"}},\"id\":\"55ca4a53-0b89-46f1-aa9d-286b4d3b7215\",\"type\":\"CDSView\"},{\"attributes\":{\"callback\":null,\"column_names\":[\"x\",\"y\"],\"data\":{\"x\":{\"__ndarray__\":\"ZyOdop+A0D+IoIsCVGPQP1pMx/cgX8c/vidBRfa90j983qaiJU3TP6kYxmFZ/tE/ij68Ognd0j8UWCFh73DUP6onFJ6nLNM/AOtIYDkj0z/V21X+a6/TP+OwbpstCdM/JMrmwxZv0T9FJ67XsoTNPx7aCSdQYco/TLgEnoOAzT93pkxB6VHSP43lp4KbVtQ/Ak+UYzZx1D93D9B9ObPUP3m8f+K2LNg/XZTyvTM44D8fP6diWy3lP91r92FzBOU/iCtG4aPT4D8cH/Mij3faP7ExryMOmdU/94WhH1f00T8gRRmB43jOP+2kGeZfpsg/yP27/FaEwj+DKeFBZ125Pwsi4H1Gg7E/WtIcHJZNrD8QMPUeJ3+oP8Zso+Nlq6M/+DL7gxsFnz+7LOQZTZGYP+2U8H+lxYk/OwxW/dVkMz9yEn4AmftKPzGSeqXlbYw/fjXzI/9Fmj9PsxKDWOehPxkK0J391KU/R2VY/8YiqT8C4nP8VyOsP+assmPh864/LyKoH3bUsD/v3Rl/OE6yPxkGfQCKxbM/q9kPIF8ctT/slWh/Vk+2P30viL9bXbc/AF4JHotfuD8/A/Q/HEu5P7QU2oNaHbo/QcZQDJjZuj8AnM2Zo327P0LowVkhF7w/PsDFUG/CvD/ONnnC+XG9P5hxja5WFr4/bU1fdB66vj+udVbJz1+/P6INwAZECMA/Xvj7pF5gwD9WI4EnqaPAP2aQcXs4t8A/i9PeGrecwD/dlsgFZ3DAPyCz9QRwUMA/bJRYxkRSwD/FW4S1c5LAPxdbzsbGk8E/\",\"dtype\":\"float64\",\"shape\":[75]},\"y\":{\"__ndarray__\":\"S/O/Q+51ND/430zAtpRIP2vylNV0PVE/QxsjCssuWD/TR4Z78fVgP+inNsRxymc/OuuBfZWvcD/u3TFA02d3P2d3VoBnaoA/CD5h5MAGhz/1pA8HUCaQP+zrCsc9p5Y/Fb7LAKjGnz/nJ9c/SEmmPwBD+fzcQq8/FOZwv9nstT8Er5Y7M8G+P0c+r3jqkcU/yK72qKZBzj+tM989FzjVPxbgmr8yxN0/cOm5AXbg5D+5ctXAf0jtP5kqGJXUifQ/DsrqDELP/D8MCAhBojQEQDItVnmnVwxAiFXNvdHgE0BSSZ2AJuIbQAMJih9jjiNA5q4l5INuK0CPVN/5RT0zQHzxRXu8/DpAOZ7PgHrtQkAg8wGBzoxKQBSTN8DMeFJA2NmQf2ZqWEAAAAAAAFxeQEQX1LfMJmJAmpmZmZkfZUBmZmZmZhhoQLzoK0gzEWtAAAAAAAAKbkCiC+pbZoFwQAhyUMLM/XFA+I2vPTN6c0AQ5KCEmfZ0QAAAAAAAc3ZA8Btfe2bvd0AIclDCzGt5QPeNrz0z6HpAEOSghJlkfEAAAAAAAOF9QKML6ltmXX9ABTkoYeZsgED7xteeGSuBQAhyUMJM6YFAAAAAAICngkD4ja89s2WDQAU5KGHmI4RA+8bXnhnihEAIclDCTKCFQAAAAACAXoZA+I2vPbMch0AFOShh5tqHQPvG154ZmYhACHJQwkxXiUAAAAAAgBWKQPeNrz2z04pABTkoYeaRi0D7xteeGVCMQAlyUMJMDo1AAAAAAIDMjUD3ja89s4qOQGZmZmbmSI9A\",\"dtype\":\"float64\",\"shape\":[75]}}},\"id\":\"4dde63da-596b-4ac2-9e03-87365f22baa8\",\"type\":\"ColumnDataSource\"},{\"attributes\":{\"data_source\":{\"id\":\"21512140-1089-463f-b5a4-67c2c04e7277\",\"type\":\"ColumnDataSource\"},\"glyph\":{\"id\":\"146ac956-0834-429d-a732-889c1a58edcc\",\"type\":\"Square\"},\"hover_glyph\":null,\"muted_glyph\":null,\"nonselection_glyph\":{\"id\":\"a557bcfd-9552-48c5-b272-bf039a9c34f5\",\"type\":\"Square\"},\"selection_glyph\":null,\"view\":{\"id\":\"4d3ad1a9-897d-4d95-905b-0b7300198759\",\"type\":\"CDSView\"}},\"id\":\"2227abd9-73b7-402a-9ced-88e47192bf9f\",\"type\":\"GlyphRenderer\"},{\"attributes\":{},\"id\":\"78f749d9-cffe-46ca-a954-0770ce3f5212\",\"type\":\"LogScale\"},{\"attributes\":{\"bottom_units\":\"screen\",\"fill_alpha\":{\"value\":0.5},\"fill_color\":{\"value\":\"lightgrey\"},\"left_units\":\"screen\",\"level\":\"overlay\",\"line_alpha\":{\"value\":1.0},\"line_color\":{\"value\":\"black\"},\"line_dash\":[4,4],\"line_width\":{\"value\":2},\"plot\":null,\"render_mode\":\"css\",\"right_units\":\"screen\",\"top_units\":\"screen\"},\"id\":\"2e58c194-b05a-42c7-bfbe-7c7355e338dd\",\"type\":\"BoxAnnotation\"},{\"attributes\":{\"line_alpha\":0.1,\"line_color\":\"#1f77b4\",\"line_dash\":[6],\"line_width\":5,\"x\":{\"field\":\"x\"},\"y\":{\"field\":\"y\"}},\"id\":\"bd635a5b-1eef-4116-ba9e-9be22d22d8d3\",\"type\":\"Line\"},{\"attributes\":{\"fill_alpha\":{\"value\":0.7},\"fill_color\":{\"value\":\"#4daf4a\"},\"line_alpha\":{\"value\":0.7},\"line_color\":{\"value\":\"#4daf4a\"},\"x\":{\"field\":\"x\"},\"y\":{\"field\":\"y\"}},\"id\":\"39c9da5e-e56d-4c2b-9525-228cd3f68548\",\"type\":\"Circle\"},{\"attributes\":{},\"id\":\"d4184726-83ef-40d9-afdc-079a68dad4db\",\"type\":\"PanTool\"},{\"attributes\":{\"fill_alpha\":{\"value\":0.1},\"fill_color\":{\"value\":\"#1f77b4\"},\"line_alpha\":{\"value\":0.1},\"line_color\":{\"value\":\"#1f77b4\"},\"x\":{\"field\":\"x\"},\"y\":{\"field\":\"y\"}},\"id\":\"a557bcfd-9552-48c5-b272-bf039a9c34f5\",\"type\":\"Square\"},{\"attributes\":{},\"id\":\"846967ad-2048-49a7-9c07-99aebca6892e\",\"type\":\"WheelZoomTool\"},{\"attributes\":{\"overlay\":{\"id\":\"2e58c194-b05a-42c7-bfbe-7c7355e338dd\",\"type\":\"BoxAnnotation\"}},\"id\":\"442501a2-598d-477e-a242-56b25f126e5b\",\"type\":\"BoxZoomTool\"},{\"attributes\":{\"plot\":null,\"text\":\"Linear pressure scale\"},\"id\":\"50f33ad9-da4a-44c5-a09d-1eae2270e6cf\",\"type\":\"Title\"},{\"attributes\":{\"data_source\":{\"id\":\"5d531df3-a1ab-4d56-82fe-c136003ac94c\",\"type\":\"ColumnDataSource\"},\"glyph\":{\"id\":\"b608ad6b-c3c0-47f5-88f7-324bfcb60312\",\"type\":\"Line\"},\"hover_glyph\":null,\"muted_glyph\":null,\"nonselection_glyph\":{\"id\":\"bf836c23-bff9-497d-a19f-9f1602f11ceb\",\"type\":\"Line\"},\"selection_glyph\":null,\"view\":{\"id\":\"7a66066b-2fcc-498f-867b-23e76312b342\",\"type\":\"CDSView\"}},\"id\":\"21c2163a-0f1b-4fd5-9966-de57c638e4ff\",\"type\":\"GlyphRenderer\"},{\"attributes\":{\"plot\":{\"id\":\"3b15a366-25ba-4542-9c1d-4ae923a37a80\",\"subtype\":\"Figure\",\"type\":\"Plot\"},\"ticker\":{\"id\":\"48345c99-aa8c-4612-ae3f-555ab2ff42e5\",\"type\":\"BasicTicker\"}},\"id\":\"3cb78812-4c1b-4327-b8bc-d9994d49baa5\",\"type\":\"Grid\"},{\"attributes\":{},\"id\":\"5b949c40-db7c-4c0e-bb4e-c4c3c0ac76de\",\"type\":\"SaveTool\"},{\"attributes\":{\"callback\":null,\"column_names\":[\"x\",\"y\"],\"data\":{\"x\":{\"__ndarray__\":\"ZyOdop+A0D+IoIsCVGPQP1pMx/cgX8c/vidBRfa90j983qaiJU3TP6kYxmFZ/tE/ij68Ognd0j8UWCFh73DUP6onFJ6nLNM/AOtIYDkj0z/V21X+a6/TP+OwbpstCdM/JMrmwxZv0T9FJ67XsoTNPx7aCSdQYco/TLgEnoOAzT93pkxB6VHSP43lp4KbVtQ/Ak+UYzZx1D93D9B9ObPUP3m8f+K2LNg/XZTyvTM44D8fP6diWy3lP91r92FzBOU/iCtG4aPT4D8cH/Mij3faP7ExryMOmdU/94WhH1f00T8gRRmB43jOP+2kGeZfpsg/yP27/FaEwj+DKeFBZ125Pwsi4H1Gg7E/WtIcHJZNrD8QMPUeJ3+oP8Zso+Nlq6M/+DL7gxsFnz+7LOQZTZGYP+2U8H+lxYk/OwxW/dVkMz9yEn4AmftKPzGSeqXlbYw/fjXzI/9Fmj9PsxKDWOehPxkK0J391KU/R2VY/8YiqT8C4nP8VyOsP+assmPh864/LyKoH3bUsD/v3Rl/OE6yPxkGfQCKxbM/q9kPIF8ctT/slWh/Vk+2P30viL9bXbc/AF4JHotfuD8/A/Q/HEu5P7QU2oNaHbo/QcZQDJjZuj8AnM2Zo327P0LowVkhF7w/PsDFUG/CvD/ONnnC+XG9P5hxja5WFr4/bU1fdB66vj+udVbJz1+/P6INwAZECMA/Xvj7pF5gwD9WI4EnqaPAP2aQcXs4t8A/i9PeGrecwD/dlsgFZ3DAPyCz9QRwUMA/bJRYxkRSwD/FW4S1c5LAPxdbzsbGk8E/\",\"dtype\":\"float64\",\"shape\":[75]},\"y\":{\"__ndarray__\":\"S/O/Q+51ND/430zAtpRIP2vylNV0PVE/QxsjCssuWD/TR4Z78fVgP+inNsRxymc/OuuBfZWvcD/u3TFA02d3P2d3VoBnaoA/CD5h5MAGhz/1pA8HUCaQP+zrCsc9p5Y/Fb7LAKjGnz/nJ9c/SEmmPwBD+fzcQq8/FOZwv9nstT8Er5Y7M8G+P0c+r3jqkcU/yK72qKZBzj+tM989FzjVPxbgmr8yxN0/cOm5AXbg5D+5ctXAf0jtP5kqGJXUifQ/DsrqDELP/D8MCAhBojQEQDItVnmnVwxAiFXNvdHgE0BSSZ2AJuIbQAMJih9jjiNA5q4l5INuK0CPVN/5RT0zQHzxRXu8/DpAOZ7PgHrtQkAg8wGBzoxKQBSTN8DMeFJA2NmQf2ZqWEAAAAAAAFxeQEQX1LfMJmJAmpmZmZkfZUBmZmZmZhhoQLzoK0gzEWtAAAAAAAAKbkCiC+pbZoFwQAhyUMLM/XFA+I2vPTN6c0AQ5KCEmfZ0QAAAAAAAc3ZA8Btfe2bvd0AIclDCzGt5QPeNrz0z6HpAEOSghJlkfEAAAAAAAOF9QKML6ltmXX9ABTkoYeZsgED7xteeGSuBQAhyUMJM6YFAAAAAAICngkD4ja89s2WDQAU5KGHmI4RA+8bXnhnihEAIclDCTKCFQAAAAACAXoZA+I2vPbMch0AFOShh5tqHQPvG154ZmYhACHJQwkxXiUAAAAAAgBWKQPeNrz2z04pABTkoYeaRi0D7xteeGVCMQAlyUMJMDo1AAAAAAIDMjUD3ja89s4qOQGZmZmbmSI9A\",\"dtype\":\"float64\",\"shape\":[75]}}},\"id\":\"8d1dace1-d6c3-49fa-9a31-7c8bba335b9d\",\"type\":\"ColumnDataSource\"},{\"attributes\":{\"fill_alpha\":{\"value\":0.7},\"fill_color\":{\"value\":\"#984ea3\"},\"line_alpha\":{\"value\":0.7},\"line_color\":{\"value\":\"#984ea3\"},\"x\":{\"field\":\"x\"},\"y\":{\"field\":\"y\"}},\"id\":\"146ac956-0834-429d-a732-889c1a58edcc\",\"type\":\"Square\"},{\"attributes\":{\"below\":[{\"id\":\"043bc7fa-d84e-4acf-98cd-058e1a10c56a\",\"type\":\"LinearAxis\"}],\"left\":[{\"id\":\"3c7dc457-ea50-4b76-84d8-d776d20b42bd\",\"type\":\"LogAxis\"}],\"plot_height\":500,\"plot_width\":560,\"renderers\":[{\"id\":\"043bc7fa-d84e-4acf-98cd-058e1a10c56a\",\"type\":\"LinearAxis\"},{\"id\":\"c929e0bf-879c-465a-96dc-cb6dcf3a947f\",\"type\":\"Grid\"},{\"id\":\"3c7dc457-ea50-4b76-84d8-d776d20b42bd\",\"type\":\"LogAxis\"},{\"id\":\"ea1d0c02-3a69-4139-8ba6-82b1c01f27f3\",\"type\":\"Grid\"},{\"id\":\"2e58c194-b05a-42c7-bfbe-7c7355e338dd\",\"type\":\"BoxAnnotation\"},{\"id\":\"6508e696-9b39-43ff-95e6-ec6aa7a43dcf\",\"type\":\"GlyphRenderer\"},{\"id\":\"c8757995-8a09-43d8-bc40-be0d5aa8122a\",\"type\":\"GlyphRenderer\"},{\"id\":\"abcb756c-0220-4333-8601-7ac4ff4a4590\",\"type\":\"GlyphRenderer\"},{\"id\":\"b103ddb6-d0e7-48d1-90a7-a71956774415\",\"type\":\"GlyphRenderer\"},{\"id\":\"dc8d91b5-51d2-4ecb-99d1-318d718348d3\",\"type\":\"GlyphRenderer\"},{\"id\":\"dd6184e5-b35f-41f5-bdc3-b91b4c2085f2\",\"type\":\"Legend\"}],\"right\":[{\"id\":\"dd6184e5-b35f-41f5-bdc3-b91b4c2085f2\",\"type\":\"Legend\"}],\"title\":{\"id\":\"bf7c267e-999a-4c8f-9ac8-c42241a94e79\",\"type\":\"Title\"},\"toolbar\":{\"id\":\"8c6b59a2-a759-4b87-9717-3b2ae5a9be52\",\"type\":\"Toolbar\"},\"toolbar_location\":null,\"x_range\":{\"id\":\"6350402f-3de0-4fac-a7b8-f52aa9b28dc9\",\"type\":\"Range1d\"},\"x_scale\":{\"id\":\"078b2211-9507-41b6-84bb-17a585441c9b\",\"type\":\"LinearScale\"},\"y_range\":{\"id\":\"dc3cdb4f-846d-4156-95c3-090e5049e421\",\"type\":\"Range1d\"},\"y_scale\":{\"id\":\"78f749d9-cffe-46ca-a954-0770ce3f5212\",\"type\":\"LogScale\"}},\"id\":\"604bcd2b-1689-44be-895c-222a173ff5dd\",\"subtype\":\"Figure\",\"type\":\"Plot\"},{\"attributes\":{},\"id\":\"74f33623-8a1d-426c-92b0-3073bac4de42\",\"type\":\"HelpTool\"},{\"attributes\":{\"overlay\":{\"id\":\"7e02216a-f7c4-4892-a03a-f0cff9444b46\",\"type\":\"BoxAnnotation\"}},\"id\":\"8b8ca9d0-28a9-46f3-b37d-3cb089a5da63\",\"type\":\"BoxZoomTool\"},{\"attributes\":{},\"id\":\"d33f7b07-272b-4e3f-8d9f-02d94d4cd568\",\"type\":\"ResetTool\"},{\"attributes\":{},\"id\":\"48345c99-aa8c-4612-ae3f-555ab2ff42e5\",\"type\":\"BasicTicker\"},{\"attributes\":{\"children\":[{\"id\":\"5dbada2f-d401-46a5-963f-0460102d9f15\",\"type\":\"ToolbarBox\"},{\"id\":\"a1d04c31-80ab-472c-8ab3-4573922adb01\",\"type\":\"Column\"}]},\"id\":\"589dd742-1aff-4e06-859d-993e773a2a1d\",\"type\":\"Column\"},{\"attributes\":{\"callback\":null,\"column_names\":[\"x\",\"y\"],\"data\":{\"x\":{\"__ndarray__\":\"olmOGvmn1T+6UF1aqMbVP9B0o6I1gNY//RgkFmM91z//PmO2UqfRP71+eTGqe9Y/5wqSFkpn2D+p/A7xA9zYP1wXyMf1mNg/yUOwAg741z+DtAaWQuDWP89ac1+qLdU/fbm4nD6/0j8xzt/W1JDOP7Oillj7Wck/IsRTfkfOyz/XEB++2jfRP710FCnYVtQ/+cQ3inPA1D8srNBZVALWP+O4B2prx9k/D0QL0knk4D8fPSL//MnlP53Gu0ECf+U/nbUT2ZIr4T+loVgaEpvaPxYyNx0RfNU/jwVfG0rX0T/cX7Nvub7NP8l1WasbA8k/GOKGTNE/wj/vdx/Adh26P7sUwYkIV7M/fQE3wt6Lrj9hjq+yxp2pP2GANVpjzKM/Qiqq0CTUnz/vtXs//++ZP8Yz4+xTrZE/r26WAHteOz9RrgnwNFVjP/U2HKh3UZA/cUaxQXB5nD9yNzUimlGjP8AEcGBMdqg/qRs5J0xRqj/Pb6aj4rWtP8aaiP3PH7A/ueEI9uS2sT+MaUZpebKyP+TYS8O1J7Q/AJMnYVkstT9qRpJ5YS22PxssFSHpALc/esiPTVfetz+xw0E3OYS4P3DDRIw4Sbk/KgXLFFPiuT/LgYqosHi6P+mK2QXzHbs/yJzkY5ORuz/xJcDh3zG8P+ESIeDzvr8/OMNib574vj/pIDH3BZq+P3K0CnAZ3b4/c5kWYdptvz9fVfFLTem/P6/FAvlgDMA/FYkwQUzxvz+UZ2FNJoy/PxGTbTtxhr8/4ia6KuSAvz9kCIZIRxnAPxzPbhp4LME/\",\"dtype\":\"float64\",\"shape\":[75]},\"y\":{\"__ndarray__\":\"GhExyth1ND/Sv8nbtpRIP2vylNV0PVE/aTum7souWD/At0SJ8fVgPw3Iuahxymc/MSNhhJWvcD/bTfBN02d3P2zb5nxnaoA/CD5h5MAGhz8NmeH1TyaQP+zrCsc9p5Y/LbKd76fGnz/bLW5ISEmmPww9YvTcQq8/JV2OstnstT8Er5Y7M8G+P0c+r3jqkcU/5h99k6ZBzj88bCIzFzjVP4enV8oyxN0//yH99nXg5D8qOpLLf0jtP5kqGJXUifQ/c9cS8kHP/D+/DpwzojQEQIEmwoanVwxA4lgXt9HgE0BSSZ2AJuIbQAMJih9jjiNA5q4l5INuK0AwTKYKRj0zQNv5fmq8/DpAaCJseHrtQkB/+zpwzoxKQM3MzMzMeFJAZmZmZmZqWEAAAAAAAFxeQM3MzMzMJmJAmpmZmZkfZUBmZmZmZhhoQDMzMzMzEWtAAAAAAAAKbkBmZmZmZoFwQM3MzMzM/XFAMzMzMzN6c0CamZmZmfZ0QAAAAAAAc3ZAZmZmZmbvd0DNzMzMzGt5QDMzMzMz6HpAmpmZmZlkfEAAAAAAAOF9QGZmZmZmXX9AZmZmZuZsgECamZmZGSuBQM3MzMxM6YFAAAAAAICngkAzMzMzs2WDQGZmZmbmI4RAmpmZmRnihEDNzMzMTKCFQAAAAACAXoZAMzMzM7Mch0BmZmZm5tqHQJqZmZkZmYhAzczMzExXiUAAAAAAgBWKQDMzMzOz04pAZmZmZuaRi0CamZmZGVCMQM3MzMxMDo1AAAAAAIDMjUAzMzMzs4qOQGZmZmbmSI9A\",\"dtype\":\"float64\",\"shape\":[75]}}},\"id\":\"8191ec87-8363-42fe-b28e-b41d01900921\",\"type\":\"ColumnDataSource\"},{\"attributes\":{\"callback\":null,\"end\":0.01,\"start\":1020},\"id\":\"6d7f638e-6ed9-4590-aee7-4613df2f8952\",\"type\":\"Range1d\"},{\"attributes\":{\"callback\":null,\"end\":0.01,\"start\":1020},\"id\":\"dc3cdb4f-846d-4156-95c3-090e5049e421\",\"type\":\"Range1d\"},{\"attributes\":{\"toolbar\":{\"id\":\"b5aa2403-409b-4dfe-be6e-5bb3073e0784\",\"type\":\"ProxyToolbar\"},\"toolbar_location\":\"above\"},\"id\":\"5dbada2f-d401-46a5-963f-0460102d9f15\",\"type\":\"ToolbarBox\"},{\"attributes\":{},\"id\":\"3c7f0bcc-6da7-48a5-9789-7ff2e6cfeedb\",\"type\":\"BasicTickFormatter\"},{\"attributes\":{\"line_alpha\":0.6,\"line_color\":\"#e41a1c\",\"line_dash\":[6],\"line_width\":5,\"x\":{\"field\":\"x\"},\"y\":{\"field\":\"y\"}},\"id\":\"0aa16f38-8689-4369-b767-6047da88c7c4\",\"type\":\"Line\"},{\"attributes\":{},\"id\":\"a70450e9-3ec5-4d78-bfcc-b7eb290ce530\",\"type\":\"SaveTool\"},{\"attributes\":{},\"id\":\"890c332b-26f6-4d7d-b454-7a8dd1077f67\",\"type\":\"BasicTicker\"},{\"attributes\":{\"bottom_units\":\"screen\",\"fill_alpha\":{\"value\":0.5},\"fill_color\":{\"value\":\"lightgrey\"},\"left_units\":\"screen\",\"level\":\"overlay\",\"line_alpha\":{\"value\":1.0},\"line_color\":{\"value\":\"black\"},\"line_dash\":[4,4],\"line_width\":{\"value\":2},\"plot\":null,\"render_mode\":\"css\",\"right_units\":\"screen\",\"top_units\":\"screen\"},\"id\":\"7e02216a-f7c4-4892-a03a-f0cff9444b46\",\"type\":\"BoxAnnotation\"},{\"attributes\":{\"children\":[{\"id\":\"3b15a366-25ba-4542-9c1d-4ae923a37a80\",\"subtype\":\"Figure\",\"type\":\"Plot\"},{\"id\":\"604bcd2b-1689-44be-895c-222a173ff5dd\",\"subtype\":\"Figure\",\"type\":\"Plot\"}]},\"id\":\"5109485a-cfc1-4df2-8302-0847ba1959ff\",\"type\":\"Row\"},{\"attributes\":{\"active_drag\":\"auto\",\"active_inspect\":\"auto\",\"active_scroll\":\"auto\",\"active_tap\":\"auto\",\"tools\":[{\"id\":\"9b265b00-df8a-4164-9852-1f434cdadc0a\",\"type\":\"PanTool\"},{\"id\":\"8b882c18-7251-49df-a634-cbf6273db229\",\"type\":\"WheelZoomTool\"},{\"id\":\"8b8ca9d0-28a9-46f3-b37d-3cb089a5da63\",\"type\":\"BoxZoomTool\"},{\"id\":\"a70450e9-3ec5-4d78-bfcc-b7eb290ce530\",\"type\":\"SaveTool\"},{\"id\":\"518396f6-05e6-4edb-ae77-f7de5294171a\",\"type\":\"ResetTool\"},{\"id\":\"97fa89c1-02ef-4007-89aa-ab2d30935f8c\",\"type\":\"HelpTool\"}]},\"id\":\"397902e0-1a6b-4fd9-97c5-c7e39e0e6b0d\",\"type\":\"Toolbar\"},{\"attributes\":{\"line_alpha\":0.6,\"line_color\":\"#984ea3\",\"line_width\":3,\"x\":{\"field\":\"x\"},\"y\":{\"field\":\"y\"}},\"id\":\"6fe45869-abcb-43c1-959c-ff00091482f4\",\"type\":\"Line\"},{\"attributes\":{\"below\":[{\"id\":\"49ee6e33-9465-4c7a-8708-0a990c1cf796\",\"type\":\"LinearAxis\"}],\"left\":[{\"id\":\"57df4d6e-0c3d-49b2-badd-f6090e87f091\",\"type\":\"LinearAxis\"}],\"plot_height\":500,\"plot_width\":400,\"renderers\":[{\"id\":\"49ee6e33-9465-4c7a-8708-0a990c1cf796\",\"type\":\"LinearAxis\"},{\"id\":\"3cb78812-4c1b-4327-b8bc-d9994d49baa5\",\"type\":\"Grid\"},{\"id\":\"57df4d6e-0c3d-49b2-badd-f6090e87f091\",\"type\":\"LinearAxis\"},{\"id\":\"126e462c-2560-41d7-9626-453d89b49c18\",\"type\":\"Grid\"},{\"id\":\"7e02216a-f7c4-4892-a03a-f0cff9444b46\",\"type\":\"BoxAnnotation\"},{\"id\":\"20c8c461-47a9-447a-90b9-7e5d91aec91c\",\"type\":\"GlyphRenderer\"},{\"id\":\"421c3225-b778-4219-baed-4381a78af390\",\"type\":\"GlyphRenderer\"},{\"id\":\"21c2163a-0f1b-4fd5-9966-de57c638e4ff\",\"type\":\"GlyphRenderer\"},{\"id\":\"2227abd9-73b7-402a-9ced-88e47192bf9f\",\"type\":\"GlyphRenderer\"},{\"id\":\"c0622800-99c1-4830-8c76-8964646dcbdf\",\"type\":\"GlyphRenderer\"}],\"title\":{\"id\":\"50f33ad9-da4a-44c5-a09d-1eae2270e6cf\",\"type\":\"Title\"},\"toolbar\":{\"id\":\"397902e0-1a6b-4fd9-97c5-c7e39e0e6b0d\",\"type\":\"Toolbar\"},\"toolbar_location\":null,\"x_range\":{\"id\":\"2eeb785d-a162-4582-a445-116d2f9fd6a9\",\"type\":\"Range1d\"},\"x_scale\":{\"id\":\"63f26139-2a07-4627-83cc-3788c85d423b\",\"type\":\"LinearScale\"},\"y_range\":{\"id\":\"6d7f638e-6ed9-4590-aee7-4613df2f8952\",\"type\":\"Range1d\"},\"y_scale\":{\"id\":\"432a188a-e063-4d9c-b203-5fdd57db897f\",\"type\":\"LinearScale\"}},\"id\":\"3b15a366-25ba-4542-9c1d-4ae923a37a80\",\"subtype\":\"Figure\",\"type\":\"Plot\"},{\"attributes\":{\"fill_alpha\":{\"value\":0.1},\"fill_color\":{\"value\":\"#1f77b4\"},\"line_alpha\":{\"value\":0.1},\"line_color\":{\"value\":\"#1f77b4\"},\"x\":{\"field\":\"x\"},\"y\":{\"field\":\"y\"}},\"id\":\"266c3274-8dc6-4ada-956c-b0c1bdd12aa9\",\"type\":\"Circle\"},{\"attributes\":{\"line_color\":\"#4daf4a\",\"line_width\":1.5,\"x\":{\"field\":\"x\"},\"y\":{\"field\":\"y\"}},\"id\":\"b608ad6b-c3c0-47f5-88f7-324bfcb60312\",\"type\":\"Line\"},{\"attributes\":{\"source\":{\"id\":\"d6e2d6a3-15b0-4044-9c03-b77f8417bc3c\",\"type\":\"ColumnDataSource\"}},\"id\":\"a0a60852-1cbe-4c27-b03b-d73b9e4a848b\",\"type\":\"CDSView\"},{\"attributes\":{\"source\":{\"id\":\"21512140-1089-463f-b5a4-67c2c04e7277\",\"type\":\"ColumnDataSource\"}},\"id\":\"4d3ad1a9-897d-4d95-905b-0b7300198759\",\"type\":\"CDSView\"},{\"attributes\":{\"line_alpha\":0.1,\"line_color\":\"#1f77b4\",\"line_dash\":[6],\"line_width\":5,\"x\":{\"field\":\"x\"},\"y\":{\"field\":\"y\"}},\"id\":\"cfa2ae7c-9499-4b5d-be2d-0a4794dd2057\",\"type\":\"Line\"},{\"attributes\":{\"dimension\":1,\"plot\":{\"id\":\"3b15a366-25ba-4542-9c1d-4ae923a37a80\",\"subtype\":\"Figure\",\"type\":\"Plot\"},\"ticker\":{\"id\":\"890c332b-26f6-4d7d-b454-7a8dd1077f67\",\"type\":\"BasicTicker\"}},\"id\":\"126e462c-2560-41d7-9626-453d89b49c18\",\"type\":\"Grid\"},{\"attributes\":{},\"id\":\"8b882c18-7251-49df-a634-cbf6273db229\",\"type\":\"WheelZoomTool\"},{\"attributes\":{\"source\":{\"id\":\"5d531df3-a1ab-4d56-82fe-c136003ac94c\",\"type\":\"ColumnDataSource\"}},\"id\":\"7a66066b-2fcc-498f-867b-23e76312b342\",\"type\":\"CDSView\"},{\"attributes\":{\"label\":{\"value\":\"WGT igg=10 wgt_flux=2\"},\"renderers\":[{\"id\":\"b103ddb6-d0e7-48d1-90a7-a71956774415\",\"type\":\"GlyphRenderer\"},{\"id\":\"dc8d91b5-51d2-4ecb-99d1-318d718348d3\",\"type\":\"GlyphRenderer\"}]},\"id\":\"ee9b3c2c-890d-4e04-a09f-61b28e85fb7c\",\"type\":\"LegendItem\"},{\"attributes\":{},\"id\":\"9b265b00-df8a-4164-9852-1f434cdadc0a\",\"type\":\"PanTool\"},{\"attributes\":{\"axis_label\":\"cooling rate [K/day]\",\"formatter\":{\"id\":\"f351a9b1-e886-4d21-8052-5509979a0cae\",\"type\":\"BasicTickFormatter\"},\"plot\":{\"id\":\"3b15a366-25ba-4542-9c1d-4ae923a37a80\",\"subtype\":\"Figure\",\"type\":\"Plot\"},\"ticker\":{\"id\":\"48345c99-aa8c-4612-ae3f-555ab2ff42e5\",\"type\":\"BasicTicker\"}},\"id\":\"49ee6e33-9465-4c7a-8708-0a990c1cf796\",\"type\":\"LinearAxis\"},{\"attributes\":{\"dimension\":1,\"plot\":{\"id\":\"604bcd2b-1689-44be-895c-222a173ff5dd\",\"subtype\":\"Figure\",\"type\":\"Plot\"},\"ticker\":{\"id\":\"d76f9524-8960-4a0b-8980-af3df9e4ed2b\",\"type\":\"LogTicker\"}},\"id\":\"ea1d0c02-3a69-4139-8ba6-82b1c01f27f3\",\"type\":\"Grid\"},{\"attributes\":{\"data_source\":{\"id\":\"d6e2d6a3-15b0-4044-9c03-b77f8417bc3c\",\"type\":\"ColumnDataSource\"},\"glyph\":{\"id\":\"39c9da5e-e56d-4c2b-9525-228cd3f68548\",\"type\":\"Circle\"},\"hover_glyph\":null,\"muted_glyph\":null,\"nonselection_glyph\":{\"id\":\"266c3274-8dc6-4ada-956c-b0c1bdd12aa9\",\"type\":\"Circle\"},\"selection_glyph\":null,\"view\":{\"id\":\"a0a60852-1cbe-4c27-b03b-d73b9e4a848b\",\"type\":\"CDSView\"}},\"id\":\"421c3225-b778-4219-baed-4381a78af390\",\"type\":\"GlyphRenderer\"},{\"attributes\":{},\"id\":\"97fa89c1-02ef-4007-89aa-ab2d30935f8c\",\"type\":\"HelpTool\"},{\"attributes\":{},\"id\":\"432a188a-e063-4d9c-b203-5fdd57db897f\",\"type\":\"LinearScale\"},{\"attributes\":{\"label\":{\"value\":\"CRD\"},\"renderers\":[{\"id\":\"c8757995-8a09-43d8-bc40-be0d5aa8122a\",\"type\":\"GlyphRenderer\"},{\"id\":\"abcb756c-0220-4333-8601-7ac4ff4a4590\",\"type\":\"GlyphRenderer\"}]},\"id\":\"0dc90d3d-94d9-4c9a-9c04-847ad7d961a3\",\"type\":\"LegendItem\"},{\"attributes\":{\"callback\":null,\"column_names\":[\"x\",\"y\"],\"data\":{\"x\":{\"__ndarray__\":\"olmOGvmn1T+6UF1aqMbVP9B0o6I1gNY//RgkFmM91z//PmO2UqfRP71+eTGqe9Y/5wqSFkpn2D+p/A7xA9zYP1wXyMf1mNg/yUOwAg741z+DtAaWQuDWP89ac1+qLdU/fbm4nD6/0j8xzt/W1JDOP7Oillj7Wck/IsRTfkfOyz/XEB++2jfRP710FCnYVtQ/+cQ3inPA1D8srNBZVALWP+O4B2prx9k/D0QL0knk4D8fPSL//MnlP53Gu0ECf+U/nbUT2ZIr4T+loVgaEpvaPxYyNx0RfNU/jwVfG0rX0T/cX7Nvub7NP8l1WasbA8k/GOKGTNE/wj/vdx/Adh26P7sUwYkIV7M/fQE3wt6Lrj9hjq+yxp2pP2GANVpjzKM/Qiqq0CTUnz/vtXs//++ZP8Yz4+xTrZE/r26WAHteOz9RrgnwNFVjP/U2HKh3UZA/cUaxQXB5nD9yNzUimlGjP8AEcGBMdqg/qRs5J0xRqj/Pb6aj4rWtP8aaiP3PH7A/ueEI9uS2sT+MaUZpebKyP+TYS8O1J7Q/AJMnYVkstT9qRpJ5YS22PxssFSHpALc/esiPTVfetz+xw0E3OYS4P3DDRIw4Sbk/KgXLFFPiuT/LgYqosHi6P+mK2QXzHbs/yJzkY5ORuz/xJcDh3zG8P+ESIeDzvr8/OMNib574vj/pIDH3BZq+P3K0CnAZ3b4/c5kWYdptvz9fVfFLTem/P6/FAvlgDMA/FYkwQUzxvz+UZ2FNJoy/PxGTbTtxhr8/4ia6KuSAvz9kCIZIRxnAPxzPbhp4LME/\",\"dtype\":\"float64\",\"shape\":[75]},\"y\":{\"__ndarray__\":\"GhExyth1ND/Sv8nbtpRIP2vylNV0PVE/aTum7souWD/At0SJ8fVgPw3Iuahxymc/MSNhhJWvcD/bTfBN02d3P2zb5nxnaoA/CD5h5MAGhz8NmeH1TyaQP+zrCsc9p5Y/LbKd76fGnz/bLW5ISEmmPww9YvTcQq8/JV2OstnstT8Er5Y7M8G+P0c+r3jqkcU/5h99k6ZBzj88bCIzFzjVP4enV8oyxN0//yH99nXg5D8qOpLLf0jtP5kqGJXUifQ/c9cS8kHP/D+/DpwzojQEQIEmwoanVwxA4lgXt9HgE0BSSZ2AJuIbQAMJih9jjiNA5q4l5INuK0AwTKYKRj0zQNv5fmq8/DpAaCJseHrtQkB/+zpwzoxKQM3MzMzMeFJAZmZmZmZqWEAAAAAAAFxeQM3MzMzMJmJAmpmZmZkfZUBmZmZmZhhoQDMzMzMzEWtAAAAAAAAKbkBmZmZmZoFwQM3MzMzM/XFAMzMzMzN6c0CamZmZmfZ0QAAAAAAAc3ZAZmZmZmbvd0DNzMzMzGt5QDMzMzMz6HpAmpmZmZlkfEAAAAAAAOF9QGZmZmZmXX9AZmZmZuZsgECamZmZGSuBQM3MzMxM6YFAAAAAAICngkAzMzMzs2WDQGZmZmbmI4RAmpmZmRnihEDNzMzMTKCFQAAAAACAXoZAMzMzM7Mch0BmZmZm5tqHQJqZmZkZmYhAzczMzExXiUAAAAAAgBWKQDMzMzOz04pAZmZmZuaRi0CamZmZGVCMQM3MzMxMDo1AAAAAAIDMjUAzMzMzs4qOQGZmZmbmSI9A\",\"dtype\":\"float64\",\"shape\":[75]}}},\"id\":\"21512140-1089-463f-b5a4-67c2c04e7277\",\"type\":\"ColumnDataSource\"},{\"attributes\":{\"callback\":null,\"column_names\":[\"x\",\"y\"],\"data\":{\"x\":{\"__ndarray__\":\"HjG8inPx2D/Qn7JxL7bYP+O55444g9k/bYtTKU012j/EO0TMurnaP9p+phyb9to/+9x9THME2z/W+Z4u3tHaP1eof1pWK9o/SK1qKDkQ2T+FD8IvN1DXP72jzvXg4tQ/ST8revGP0T9XaxeJv9zKPzcZVYZxt8Q/oXMrQrkGxz8F8z4rvA3PP3TRsf8RuNI/yGSrqhtY1T9Lx0GueTrYPxc7CqVpr9w/NCWjFL5o4j+exDHcyhznPyVJ5y5PKOY/pwcFpWgl4T/5X9fEPIraP2lUQ4/W4NQ/wkSsk21/0D8SmiwH3VLKP1VixxTmHMU/+yDskHJiwD9LMjOysh24PzO1zda/QLI/EGXVCzGjrT/htuYp07GmP/jtVlw9o54/PfM/59i7lT8VPyZP4j6RPz4H/gbZ8YA/RMo5My0xV7+XC/6dVKY4P0MmAp2VKYw/JvFXoJRLmj+y6ahtOjeiPye1rezWwKY/G0sW/5Dhqj8KEL5dGrKuP0+fZkYUGrE/qc8VcpO7sj9eJZ469ja0P1RFmHIjhLU/JM7t0kSntj/F4ILoIJq3P5kkGs1fW7g/h4FOC9UCuT9Bam7gaY25P39t3Oa2Ero/nIZNCS2Quj8lSecuTwi7P4ewjqFreLs/zqZEjoTouz8HRyRl5l28P62dMHrRy7w/a/3jc91KvT8cCZcCkOK9P8Sn53oulb4/lobQ9wlWvz99I/yDL+m/P1aHFrjADsA/NAzlZcnzvz9lcHOuUaS/P8YEyuAHa78/m+y4RKKOvz/Rlu/wCR/AP0rDfLsdSME/\",\"dtype\":\"float64\",\"shape\":[75]},\"y\":{\"__ndarray__\":\"GhExyth1ND/Sv8nbtpRIP2vylNV0PVE/aTum7souWD/At0SJ8fVgPw3Iuahxymc/MSNhhJWvcD/bTfBN02d3P2zb5nxnaoA/CD5h5MAGhz8NmeH1TyaQP+zrCsc9p5Y/LbKd76fGnz/bLW5ISEmmPww9YvTcQq8/JV2OstnstT8Er5Y7M8G+P0c+r3jqkcU/5h99k6ZBzj88bCIzFzjVP4enV8oyxN0//yH99nXg5D8qOpLLf0jtP5kqGJXUifQ/c9cS8kHP/D+/DpwzojQEQIEmwoanVwxA4lgXt9HgE0BSSZ2AJuIbQAMJih9jjiNA5q4l5INuK0AwTKYKRj0zQNv5fmq8/DpAaCJseHrtQkB/+zpwzoxKQM3MzMzMeFJAZmZmZmZqWEAAAAAAAFxeQM3MzMzMJmJAmpmZmZkfZUBmZmZmZhhoQDMzMzMzEWtAAAAAAAAKbkBmZmZmZoFwQM3MzMzM/XFAMzMzMzN6c0CamZmZmfZ0QAAAAAAAc3ZAZmZmZmbvd0DNzMzMzGt5QDMzMzMz6HpAmpmZmZlkfEAAAAAAAOF9QGZmZmZmXX9AZmZmZuZsgECamZmZGSuBQM3MzMxM6YFAAAAAAICngkAzMzMzs2WDQGZmZmbmI4RAmpmZmRnihEDNzMzMTKCFQAAAAACAXoZAMzMzM7Mch0BmZmZm5tqHQJqZmZkZmYhAzczMzExXiUAAAAAAgBWKQDMzMzOz04pAZmZmZuaRi0CamZmZGVCMQM3MzMxMDo1AAAAAAIDMjUAzMzMzs4qOQGZmZmbmSI9A\",\"dtype\":\"float64\",\"shape\":[75]}}},\"id\":\"5d531df3-a1ab-4d56-82fe-c136003ac94c\",\"type\":\"ColumnDataSource\"},{\"attributes\":{\"line_alpha\":0.1,\"line_color\":\"#1f77b4\",\"line_width\":1.5,\"x\":{\"field\":\"x\"},\"y\":{\"field\":\"y\"}},\"id\":\"bf836c23-bff9-497d-a19f-9f1602f11ceb\",\"type\":\"Line\"},{\"attributes\":{},\"id\":\"63f26139-2a07-4627-83cc-3788c85d423b\",\"type\":\"LinearScale\"},{\"attributes\":{},\"id\":\"078b2211-9507-41b6-84bb-17a585441c9b\",\"type\":\"LinearScale\"},{\"attributes\":{\"source\":{\"id\":\"4dde63da-596b-4ac2-9e03-87365f22baa8\",\"type\":\"ColumnDataSource\"}},\"id\":\"1cf7936a-1219-410a-a2d2-acf70d33b1a5\",\"type\":\"CDSView\"},{\"attributes\":{\"callback\":null,\"end\":0.13870965813199998,\"start\":-0.0028029113320000004},\"id\":\"2eeb785d-a162-4582-a445-116d2f9fd6a9\",\"type\":\"Range1d\"},{\"attributes\":{},\"id\":\"36ffdf50-4c8e-4af8-9ab7-821d3365ec82\",\"type\":\"BasicTickFormatter\"},{\"attributes\":{\"data_source\":{\"id\":\"4dde63da-596b-4ac2-9e03-87365f22baa8\",\"type\":\"ColumnDataSource\"},\"glyph\":{\"id\":\"0aa16f38-8689-4369-b767-6047da88c7c4\",\"type\":\"Line\"},\"hover_glyph\":null,\"muted_glyph\":null,\"nonselection_glyph\":{\"id\":\"cfa2ae7c-9499-4b5d-be2d-0a4794dd2057\",\"type\":\"Line\"},\"selection_glyph\":null,\"view\":{\"id\":\"1cf7936a-1219-410a-a2d2-acf70d33b1a5\",\"type\":\"CDSView\"}},\"id\":\"6508e696-9b39-43ff-95e6-ec6aa7a43dcf\",\"type\":\"GlyphRenderer\"}],\"root_ids\":[\"589dd742-1aff-4e06-859d-993e773a2a1d\"]},\"title\":\"Bokeh Application\",\"version\":\"0.12.14\"}};\n",
       "  var render_items = [{\"docid\":\"aa868b42-da27-45a6-95ed-b184547e9b1e\",\"elementid\":\"ac4aa840-24e1-457f-842d-344b529fb619\",\"modelid\":\"589dd742-1aff-4e06-859d-993e773a2a1d\"}];\n",
       "  root.Bokeh.embed.embed_items_notebook(docs_json, render_items);\n",
       "\n",
       "  }\n",
       "  if (root.Bokeh !== undefined) {\n",
       "    embed_document(root);\n",
       "  } else {\n",
       "    var attempts = 0;\n",
       "    var timer = setInterval(function(root) {\n",
       "      if (root.Bokeh !== undefined) {\n",
       "        embed_document(root);\n",
       "        clearInterval(timer);\n",
       "      }\n",
       "      attempts++;\n",
       "      if (attempts > 100) {\n",
       "        console.log(\"Bokeh: ERROR: Unable to run BokehJS code because BokehJS library is missing\")\n",
       "        clearInterval(timer);\n",
       "      }\n",
       "    }, 10, root)\n",
       "  }\n",
       "})(window);"
      ],
      "application/vnd.bokehjs_exec.v0+json": ""
     },
     "metadata": {
      "application/vnd.bokehjs_exec.v0+json": {
       "id": "589dd742-1aff-4e06-859d-993e773a2a1d"
      }
     },
     "output_type": "display_data"
    },
    {
     "name": "stdout",
     "output_type": "stream",
     "text": [
      "FIGURE. Cooling rate profiles.\n"
     ]
    },
    {
     "data": {
      "text/html": [
       "<a id=\"Flux_Comparison\"></a>"
      ],
      "text/plain": [
       "<IPython.core.display.HTML object>"
      ]
     },
     "metadata": {},
     "output_type": "display_data"
    },
    {
     "data": {
      "text/markdown": [
       "# Flux Comparison"
      ],
      "text/plain": [
       "<IPython.core.display.Markdown object>"
      ]
     },
     "metadata": {},
     "output_type": "display_data"
    },
    {
     "data": {
      "text/html": [
       "<div>\n",
       "<style>\n",
       "    .dataframe thead tr:only-child th {\n",
       "        text-align: right;\n",
       "    }\n",
       "\n",
       "    .dataframe thead th {\n",
       "        text-align: left;\n",
       "    }\n",
       "\n",
       "    .dataframe tbody tr th {\n",
       "        vertical-align: top;\n",
       "    }\n",
       "</style>\n",
       "<table border=\"1\" class=\"dataframe\">\n",
       "  <thead>\n",
       "    <tr style=\"text-align: right;\">\n",
       "      <th></th>\n",
       "      <th></th>\n",
       "      <th>flug</th>\n",
       "      <th>fldg</th>\n",
       "      <th>fnetg</th>\n",
       "    </tr>\n",
       "    <tr>\n",
       "      <th>pressure</th>\n",
       "      <th>level</th>\n",
       "      <th></th>\n",
       "      <th></th>\n",
       "      <th></th>\n",
       "    </tr>\n",
       "  </thead>\n",
       "  <tbody>\n",
       "    <tr>\n",
       "      <th>0.0000</th>\n",
       "      <th>1</th>\n",
       "      <td>-29.596087</td>\n",
       "      <td>0.000000</td>\n",
       "      <td>-29.596087</td>\n",
       "    </tr>\n",
       "    <tr>\n",
       "      <th>1.0685</th>\n",
       "      <th>24</th>\n",
       "      <td>-29.603700</td>\n",
       "      <td>0.067532</td>\n",
       "      <td>-29.536169</td>\n",
       "    </tr>\n",
       "    <tr>\n",
       "      <th>1013.0000</th>\n",
       "      <th>76</th>\n",
       "      <td>-36.235408</td>\n",
       "      <td>16.852038</td>\n",
       "      <td>-19.383370</td>\n",
       "    </tr>\n",
       "  </tbody>\n",
       "</table>\n",
       "</div>"
      ],
      "text/plain": [
       "                      flug       fldg      fnetg\n",
       "pressure  level                                 \n",
       "0.0000    1     -29.596087   0.000000 -29.596087\n",
       "1.0685    24    -29.603700   0.067532 -29.536169\n",
       "1013.0000 76    -36.235408  16.852038 -19.383370"
      ]
     },
     "metadata": {},
     "output_type": "display_data"
    },
    {
     "name": "stdout",
     "output_type": "stream",
     "text": [
      "Table. Fluxes. WGT igg=10 wgt_flux=1\n"
     ]
    },
    {
     "data": {
      "text/html": [
       "<div>\n",
       "<style>\n",
       "    .dataframe thead tr:only-child th {\n",
       "        text-align: right;\n",
       "    }\n",
       "\n",
       "    .dataframe thead th {\n",
       "        text-align: left;\n",
       "    }\n",
       "\n",
       "    .dataframe tbody tr th {\n",
       "        vertical-align: top;\n",
       "    }\n",
       "</style>\n",
       "<table border=\"1\" class=\"dataframe\">\n",
       "  <thead>\n",
       "    <tr style=\"text-align: right;\">\n",
       "      <th></th>\n",
       "      <th></th>\n",
       "      <th>flug</th>\n",
       "      <th>fldg</th>\n",
       "      <th>fnetg</th>\n",
       "    </tr>\n",
       "    <tr>\n",
       "      <th>pressure</th>\n",
       "      <th>level</th>\n",
       "      <th></th>\n",
       "      <th></th>\n",
       "      <th></th>\n",
       "    </tr>\n",
       "  </thead>\n",
       "  <tbody>\n",
       "    <tr>\n",
       "      <th>0.0000</th>\n",
       "      <th>1</th>\n",
       "      <td>-29.569465</td>\n",
       "      <td>0.000000</td>\n",
       "      <td>-29.569465</td>\n",
       "    </tr>\n",
       "    <tr>\n",
       "      <th>1.0685</th>\n",
       "      <th>24</th>\n",
       "      <td>-29.578863</td>\n",
       "      <td>0.072906</td>\n",
       "      <td>-29.505957</td>\n",
       "    </tr>\n",
       "    <tr>\n",
       "      <th>1013.0000</th>\n",
       "      <th>76</th>\n",
       "      <td>-36.235408</td>\n",
       "      <td>16.790792</td>\n",
       "      <td>-19.444616</td>\n",
       "    </tr>\n",
       "  </tbody>\n",
       "</table>\n",
       "</div>"
      ],
      "text/plain": [
       "                      flug       fldg      fnetg\n",
       "pressure  level                                 \n",
       "0.0000    1     -29.569465   0.000000 -29.569465\n",
       "1.0685    24    -29.578863   0.072906 -29.505957\n",
       "1013.0000 76    -36.235408  16.790792 -19.444616"
      ]
     },
     "metadata": {},
     "output_type": "display_data"
    },
    {
     "name": "stdout",
     "output_type": "stream",
     "text": [
      "Table. Fluxes. CRD\n"
     ]
    },
    {
     "data": {
      "text/html": [
       "<div>\n",
       "<style>\n",
       "    .dataframe thead tr:only-child th {\n",
       "        text-align: right;\n",
       "    }\n",
       "\n",
       "    .dataframe thead th {\n",
       "        text-align: left;\n",
       "    }\n",
       "\n",
       "    .dataframe tbody tr th {\n",
       "        vertical-align: top;\n",
       "    }\n",
       "</style>\n",
       "<table border=\"1\" class=\"dataframe\">\n",
       "  <thead>\n",
       "    <tr style=\"text-align: right;\">\n",
       "      <th></th>\n",
       "      <th></th>\n",
       "      <th>flug</th>\n",
       "      <th>fldg</th>\n",
       "      <th>fnetg</th>\n",
       "    </tr>\n",
       "    <tr>\n",
       "      <th>pressure</th>\n",
       "      <th>level</th>\n",
       "      <th></th>\n",
       "      <th></th>\n",
       "      <th></th>\n",
       "    </tr>\n",
       "  </thead>\n",
       "  <tbody>\n",
       "    <tr>\n",
       "      <th>1.000000e-08</th>\n",
       "      <th>1</th>\n",
       "      <td>-29.704386</td>\n",
       "      <td>0.000002</td>\n",
       "      <td>-29.704384</td>\n",
       "    </tr>\n",
       "    <tr>\n",
       "      <th>1.068500e+00</th>\n",
       "      <th>24</th>\n",
       "      <td>-29.711380</td>\n",
       "      <td>0.064835</td>\n",
       "      <td>-29.646545</td>\n",
       "    </tr>\n",
       "    <tr>\n",
       "      <th>1.013000e+03</th>\n",
       "      <th>76</th>\n",
       "      <td>-36.235409</td>\n",
       "      <td>16.828064</td>\n",
       "      <td>-19.407345</td>\n",
       "    </tr>\n",
       "  </tbody>\n",
       "</table>\n",
       "</div>"
      ],
      "text/plain": [
       "                         flug       fldg      fnetg\n",
       "pressure     level                                 \n",
       "1.000000e-08 1     -29.704386   0.000002 -29.704384\n",
       "1.068500e+00 24    -29.711380   0.064835 -29.646545\n",
       "1.013000e+03 76    -36.235409  16.828064 -19.407345"
      ]
     },
     "metadata": {},
     "output_type": "display_data"
    },
    {
     "name": "stdout",
     "output_type": "stream",
     "text": [
      "Table. Fluxes. CLIRAD\n"
     ]
    },
    {
     "data": {
      "text/html": [
       "<div>\n",
       "<style>\n",
       "    .dataframe thead tr:only-child th {\n",
       "        text-align: right;\n",
       "    }\n",
       "\n",
       "    .dataframe thead th {\n",
       "        text-align: left;\n",
       "    }\n",
       "\n",
       "    .dataframe tbody tr th {\n",
       "        vertical-align: top;\n",
       "    }\n",
       "</style>\n",
       "<table border=\"1\" class=\"dataframe\">\n",
       "  <thead>\n",
       "    <tr style=\"text-align: right;\">\n",
       "      <th></th>\n",
       "      <th></th>\n",
       "      <th>flug</th>\n",
       "      <th>fldg</th>\n",
       "      <th>fnetg</th>\n",
       "    </tr>\n",
       "    <tr>\n",
       "      <th>pressure</th>\n",
       "      <th>level</th>\n",
       "      <th></th>\n",
       "      <th></th>\n",
       "      <th></th>\n",
       "    </tr>\n",
       "  </thead>\n",
       "  <tbody>\n",
       "    <tr>\n",
       "      <th>0.0000</th>\n",
       "      <th>1</th>\n",
       "      <td>2.662195e-02</td>\n",
       "      <td>0.000000</td>\n",
       "      <td>0.026622</td>\n",
       "    </tr>\n",
       "    <tr>\n",
       "      <th>1.0685</th>\n",
       "      <th>24</th>\n",
       "      <td>2.483734e-02</td>\n",
       "      <td>0.005374</td>\n",
       "      <td>0.030212</td>\n",
       "    </tr>\n",
       "    <tr>\n",
       "      <th>1013.0000</th>\n",
       "      <th>76</th>\n",
       "      <td>4.190000e-07</td>\n",
       "      <td>-0.061246</td>\n",
       "      <td>-0.061246</td>\n",
       "    </tr>\n",
       "  </tbody>\n",
       "</table>\n",
       "</div>"
      ],
      "text/plain": [
       "                         flug      fldg     fnetg\n",
       "pressure  level                                  \n",
       "0.0000    1      2.662195e-02  0.000000  0.026622\n",
       "1.0685    24     2.483734e-02  0.005374  0.030212\n",
       "1013.0000 76     4.190000e-07 -0.061246 -0.061246"
      ]
     },
     "metadata": {},
     "output_type": "display_data"
    },
    {
     "name": "stdout",
     "output_type": "stream",
     "text": [
      "Table. Fluxes. (CRD) - (WGT igg=10 wgt_flux=1)\n"
     ]
    },
    {
     "data": {
      "text/html": [
       "<div>\n",
       "<style>\n",
       "    .dataframe thead tr:only-child th {\n",
       "        text-align: right;\n",
       "    }\n",
       "\n",
       "    .dataframe thead th {\n",
       "        text-align: left;\n",
       "    }\n",
       "\n",
       "    .dataframe tbody tr th {\n",
       "        vertical-align: top;\n",
       "    }\n",
       "</style>\n",
       "<table border=\"1\" class=\"dataframe\">\n",
       "  <thead>\n",
       "    <tr style=\"text-align: right;\">\n",
       "      <th></th>\n",
       "      <th></th>\n",
       "      <th>flug</th>\n",
       "      <th>fldg</th>\n",
       "      <th>fnetg</th>\n",
       "    </tr>\n",
       "    <tr>\n",
       "      <th>pressure</th>\n",
       "      <th>level</th>\n",
       "      <th></th>\n",
       "      <th></th>\n",
       "      <th></th>\n",
       "    </tr>\n",
       "  </thead>\n",
       "  <tbody>\n",
       "    <tr>\n",
       "      <th>0.0000</th>\n",
       "      <th>1</th>\n",
       "      <td>-1.082991e-01</td>\n",
       "      <td>0.000002</td>\n",
       "      <td>-0.108297</td>\n",
       "    </tr>\n",
       "    <tr>\n",
       "      <th>1.0685</th>\n",
       "      <th>24</th>\n",
       "      <td>-1.076797e-01</td>\n",
       "      <td>-0.002697</td>\n",
       "      <td>-0.110376</td>\n",
       "    </tr>\n",
       "    <tr>\n",
       "      <th>1013.0000</th>\n",
       "      <th>76</th>\n",
       "      <td>-5.810000e-07</td>\n",
       "      <td>-0.023974</td>\n",
       "      <td>-0.023975</td>\n",
       "    </tr>\n",
       "  </tbody>\n",
       "</table>\n",
       "</div>"
      ],
      "text/plain": [
       "                         flug      fldg     fnetg\n",
       "pressure  level                                  \n",
       "0.0000    1     -1.082991e-01  0.000002 -0.108297\n",
       "1.0685    24    -1.076797e-01 -0.002697 -0.110376\n",
       "1013.0000 76    -5.810000e-07 -0.023974 -0.023975"
      ]
     },
     "metadata": {},
     "output_type": "display_data"
    },
    {
     "name": "stdout",
     "output_type": "stream",
     "text": [
      "Table. Fluxes. (CLIRAD) - (WGT igg=10 wgt_flux=1)\n"
     ]
    },
    {
     "data": {
      "text/html": [
       "<a id=\"Best-fit_Parameters\"></a>"
      ],
      "text/plain": [
       "<IPython.core.display.HTML object>"
      ]
     },
     "metadata": {},
     "output_type": "display_data"
    },
    {
     "data": {
      "text/markdown": [
       "# Best-fit Parameters"
      ],
      "text/plain": [
       "<IPython.core.display.Markdown object>"
      ]
     },
     "metadata": {},
     "output_type": "display_data"
    },
    {
     "name": "stdout",
     "output_type": "stream",
     "text": [
      "Best-fit values for each (gas, band)\n",
      "------------------------------------\n",
      "o co2 band3a\n",
      "  molecule = co2\n",
      "  band = 3a\n",
      "  commitnumber = d62b618\n",
      "  vmin = 540\n",
      "  vmax = 620\n",
      "  dv = 0.001\n",
      "  nv = 1000\n",
      "  ref_pts = [(1, 250), (10, 250), (500, 250)]\n",
      "  ng_refs = [3, 2, 4]\n",
      "  ng_adju = [0, 0, 0]\n",
      "  klin = 6.375563e-24\n",
      "  option_wgt_k = 1\n",
      "  wgt = [(0.7, 0.3, 0.7), (0.7, 0.6), (0.4, 0.5, 0.8, 0.95)]\n",
      "  w_diffuse = [(1.6, 1.6, 1.7), (1.75, 1.75), (1.55, 1.55, 1.6, 1.85)]\n",
      "  option_wgt_flux = 1\n",
      "  atmpro = mls\n",
      "  tsfc = 294\n",
      "  conc = 0.0004\n",
      "  option_compute_btable = 0\n",
      "  option_compute_ktable = 1\n"
     ]
    }
   ],
   "source": [
    "script()"
   ]
  },
  {
   "cell_type": "code",
   "execution_count": 13,
   "metadata": {},
   "outputs": [
    {
     "data": {
      "text/html": [
       "<script>\n",
       "code_show=true; \n",
       "function code_toggle() {\n",
       " if (code_show){\n",
       " $('div.input').hide();\n",
       " } else {\n",
       " $('div.input').show();\n",
       " }\n",
       " code_show = !code_show\n",
       "} \n",
       "$( document ).ready(code_toggle);\n",
       "</script>\n",
       "<form action=\"javascript:code_toggle()\"><input type=\"submit\" value=\"Click here to toggle on/off the raw code.\"></form>"
      ],
      "text/plain": [
       "<IPython.core.display.HTML object>"
      ]
     },
     "execution_count": 13,
     "metadata": {},
     "output_type": "execute_result"
    }
   ],
   "source": [
    "display.HTML('''<script>\n",
    "code_show=true; \n",
    "function code_toggle() {\n",
    " if (code_show){\n",
    " $('div.input').hide();\n",
    " } else {\n",
    " $('div.input').show();\n",
    " }\n",
    " code_show = !code_show\n",
    "} \n",
    "$( document ).ready(code_toggle);\n",
    "</script>\n",
    "<form action=\"javascript:code_toggle()\"><input type=\"submit\" value=\"Click here to toggle on/off the raw code.\"></form>''')"
   ]
  }
 ],
 "metadata": {
  "kernelspec": {
   "display_name": "Python 3",
   "language": "python",
   "name": "python3"
  },
  "language_info": {
   "codemirror_mode": {
    "name": "ipython",
    "version": 3
   },
   "file_extension": ".py",
   "mimetype": "text/x-python",
   "name": "python",
   "nbconvert_exporter": "python",
   "pygments_lexer": "ipython3",
   "version": "3.6.1"
  }
 },
 "nbformat": 4,
 "nbformat_minor": 2
}
