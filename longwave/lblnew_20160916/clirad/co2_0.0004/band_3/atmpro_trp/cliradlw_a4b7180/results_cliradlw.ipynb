{
 "cells": [
  {
   "cell_type": "code",
   "execution_count": 1,
   "metadata": {
    "collapsed": true
   },
   "outputs": [],
   "source": [
    "%matplotlib inline\n",
    "import os\n",
    "import re\n",
    "import io\n",
    "import itertools\n",
    "import pprint\n",
    "\n",
    "from bokeh.io import output_notebook, show\n",
    "from bokeh.layouts import gridplot\n",
    "from bokeh.plotting import figure\n",
    "from bokeh.models import Range1d, Legend\n",
    "from bokeh.palettes import all_palettes\n",
    "\n",
    "import matplotlib\n",
    "import matplotlib.pyplot as plt\n",
    "import numpy as np\n",
    "import pandas as pd\n",
    "import xarray as xr\n",
    "\n",
    "import climatools.lblnew.bestfit_params as bestfits\n",
    "from climatools.lblnew import setup_bestfit, setup_overlap\n",
    "import climatools.lblnew.pipeline as pipe_lblnew\n",
    "import climatools.cliradlw.setup as setup_cliradlw\n",
    "import climatools.cliradlw.pipeline as pipe_cliradlw\n",
    "\n",
    "import climatools.html.html as climahtml\n",
    "from climatools.lblnew.dataio import *\n",
    "from climatools.plot.plot import *\n",
    "\n",
    "\n",
    "import IPython.display as display"
   ]
  },
  {
   "cell_type": "code",
   "execution_count": 2,
   "metadata": {
    "collapsed": true
   },
   "outputs": [
    {
     "name": "stdout",
     "output_type": "stream",
     "text": [
      "The history saving thread hit an unexpected error (OperationalError('attempt to write a readonly database',)).History will not be written to the database.\n"
     ]
    }
   ],
   "source": [
    "%run param.py"
   ]
  },
  {
   "cell_type": "code",
   "execution_count": 3,
   "metadata": {
    "collapsed": true
   },
   "outputs": [],
   "source": [
    "def load_output_file(path_csv):\n",
    "    '''\n",
    "    Load lblnew output .csv file to xarray.Dataset\n",
    "    \n",
    "    Parameters\n",
    "    ----------\n",
    "    path_csv: str\n",
    "              Path to the .csv file to be loaded.\n",
    "    ds: xarray.Dataset\n",
    "        Data in the input file in the form of an xarray.Dataset.\n",
    "    '''\n",
    "    toindex = ['band', 'pressure', 'igg', 'g']    \n",
    "    df = pd.read_csv(path_csv, sep=r'\\s+')\n",
    "    df = df.set_index([i for i in toindex if i in df.columns])\n",
    "    df = df.rename(columns={'sfu': 'flug',\n",
    "                            'sfd': 'fldg',\n",
    "                            'fnet': 'fnetg',\n",
    "                            'coolr': 'coolrg'})\n",
    "    ds = xr.Dataset.from_dataframe(df)\n",
    "\n",
    "    for l in ('level', 'layer'):\n",
    "        if l in ds.data_vars:\n",
    "            if len(ds[l].dims) > 1:\n",
    "                surface = {d: 0 for d in ds.dims if d != 'pressure'}\n",
    "                coord_level = ds[l][surface]\n",
    "                ds.coords[l] = ('pressure', coord_level)\n",
    "            else:\n",
    "                ds.coords[l] = ('pressure', ds[l])\n",
    "    \n",
    "    return ds"
   ]
  },
  {
   "cell_type": "code",
   "execution_count": 4,
   "metadata": {
    "collapsed": true
   },
   "outputs": [],
   "source": [
    "def lblnew_setup(param=None):\n",
    "    if 'ng_refs' in param:\n",
    "        return {'setup': setup_bestfit,\n",
    "                'fname_flux_crd': 'output_flux.dat',\n",
    "                'fname_cool_crd': 'output_coolr.dat',\n",
    "                'fname_flux_wgt': 'output_wfluxg.dat',\n",
    "                'fname_cool_wgt': 'output_wcoolrg.dat'}\n",
    "    else:\n",
    "        return {'setup': setup_overlap,\n",
    "                'fname_flux_crd': 'output_flux.dat',\n",
    "                'fname_cool_crd': 'output_coolr.dat',\n",
    "                'fname_flux_wgt': 'output_wflux.dat',\n",
    "                'fname_cool_wgt': 'output_wcoolr.dat'}\n",
    "\n",
    "    \n",
    "def load_lblnew_data(param):\n",
    "    \n",
    "    fname_dsname = [('fname_flux_crd', 'ds_flux_crd'),\n",
    "                    ('fname_cool_crd', 'ds_cool_crd'),\n",
    "                    ('fname_flux_wgt', 'ds_flux_wgt'),\n",
    "                    ('fname_cool_wgt', 'ds_cool_wgt')]\n",
    "    \n",
    "    d = lblnew_setup(param)\n",
    "    dir_fortran = pipe_lblnew.get_dir_case(param, setup=d['setup'])\n",
    "    \n",
    "    data_dict = {}\n",
    "    for fname, dsname in fname_dsname:\n",
    "        fpath = os.path.join(dir_fortran, d[fname])\n",
    "        data_dict[dsname] = load_output_file(fpath)\n",
    "    return data_dict\n",
    "    \n",
    "\n",
    "    \n",
    "    "
   ]
  },
  {
   "cell_type": "code",
   "execution_count": 5,
   "metadata": {
    "collapsed": true
   },
   "outputs": [],
   "source": [
    "d = load_lblnew_data(PARAM_LBLNEW)\n",
    "\n",
    "DS_FLUX_CRD = d['ds_flux_crd']\n",
    "DS_COOL_CRD = d['ds_cool_crd']\n",
    "DS_FLUX_WGT = d['ds_flux_wgt']\n",
    "DS_COOL_WGT = d['ds_cool_wgt']"
   ]
  },
  {
   "cell_type": "code",
   "execution_count": 6,
   "metadata": {
    "collapsed": true
   },
   "outputs": [],
   "source": [
    "DIR_FORTRAN = pipe_cliradlw.get_fortran_dir(PARAM, \n",
    "                                            setup=setup_cliradlw)\n",
    "\n",
    "PATH_FLUX = os.path.join(DIR_FORTRAN, 'output_flux.dat')\n",
    "PATH_COOL = os.path.join(DIR_FORTRAN, 'output_coolr.dat')\n",
    "\n",
    "DS_FLUX = load_output_file(PATH_FLUX)\n",
    "DS_COOL = load_output_file(PATH_COOL)"
   ]
  },
  {
   "cell_type": "code",
   "execution_count": 7,
   "metadata": {
    "collapsed": true
   },
   "outputs": [
    {
     "data": {
      "text/html": [
       "\n",
       "    <div class=\"bk-root\">\n",
       "        <a href=\"https://bokeh.pydata.org\" target=\"_blank\" class=\"bk-logo bk-logo-small bk-logo-notebook\"></a>\n",
       "        <span id=\"4df06e61-6ce4-4cee-9159-86a0e1f57b4a\">Loading BokehJS ...</span>\n",
       "    </div>"
      ]
     },
     "metadata": {},
     "output_type": "display_data"
    },
    {
     "data": {
      "application/javascript": [
       "\n",
       "(function(root) {\n",
       "  function now() {\n",
       "    return new Date();\n",
       "  }\n",
       "\n",
       "  var force = true;\n",
       "\n",
       "  if (typeof (root._bokeh_onload_callbacks) === \"undefined\" || force === true) {\n",
       "    root._bokeh_onload_callbacks = [];\n",
       "    root._bokeh_is_loading = undefined;\n",
       "  }\n",
       "\n",
       "  var JS_MIME_TYPE = 'application/javascript';\n",
       "  var HTML_MIME_TYPE = 'text/html';\n",
       "  var EXEC_MIME_TYPE = 'application/vnd.bokehjs_exec.v0+json';\n",
       "  var CLASS_NAME = 'output_bokeh rendered_html';\n",
       "\n",
       "  /**\n",
       "   * Render data to the DOM node\n",
       "   */\n",
       "  function render(props, node) {\n",
       "    var script = document.createElement(\"script\");\n",
       "    node.appendChild(script);\n",
       "  }\n",
       "\n",
       "  /**\n",
       "   * Handle when an output is cleared or removed\n",
       "   */\n",
       "  function handleClearOutput(event, handle) {\n",
       "    var cell = handle.cell;\n",
       "\n",
       "    var id = cell.output_area._bokeh_element_id;\n",
       "    var server_id = cell.output_area._bokeh_server_id;\n",
       "    // Clean up Bokeh references\n",
       "    if (id !== undefined) {\n",
       "      Bokeh.index[id].model.document.clear();\n",
       "      delete Bokeh.index[id];\n",
       "    }\n",
       "\n",
       "    if (server_id !== undefined) {\n",
       "      // Clean up Bokeh references\n",
       "      var cmd = \"from bokeh.io.state import curstate; print(curstate().uuid_to_server['\" + server_id + \"'].get_sessions()[0].document.roots[0]._id)\";\n",
       "      cell.notebook.kernel.execute(cmd, {\n",
       "        iopub: {\n",
       "          output: function(msg) {\n",
       "            var element_id = msg.content.text.trim();\n",
       "            Bokeh.index[element_id].model.document.clear();\n",
       "            delete Bokeh.index[element_id];\n",
       "          }\n",
       "        }\n",
       "      });\n",
       "      // Destroy server and session\n",
       "      var cmd = \"import bokeh.io.notebook as ion; ion.destroy_server('\" + server_id + \"')\";\n",
       "      cell.notebook.kernel.execute(cmd);\n",
       "    }\n",
       "  }\n",
       "\n",
       "  /**\n",
       "   * Handle when a new output is added\n",
       "   */\n",
       "  function handleAddOutput(event, handle) {\n",
       "    var output_area = handle.output_area;\n",
       "    var output = handle.output;\n",
       "\n",
       "    // limit handleAddOutput to display_data with EXEC_MIME_TYPE content only\n",
       "    if ((output.output_type != \"display_data\") || (!output.data.hasOwnProperty(EXEC_MIME_TYPE))) {\n",
       "      return\n",
       "    }\n",
       "\n",
       "    var toinsert = output_area.element.find(\".\" + CLASS_NAME.split(' ')[0]);\n",
       "\n",
       "    if (output.metadata[EXEC_MIME_TYPE][\"id\"] !== undefined) {\n",
       "      toinsert[0].firstChild.textContent = output.data[JS_MIME_TYPE];\n",
       "      // store reference to embed id on output_area\n",
       "      output_area._bokeh_element_id = output.metadata[EXEC_MIME_TYPE][\"id\"];\n",
       "    }\n",
       "    if (output.metadata[EXEC_MIME_TYPE][\"server_id\"] !== undefined) {\n",
       "      var bk_div = document.createElement(\"div\");\n",
       "      bk_div.innerHTML = output.data[HTML_MIME_TYPE];\n",
       "      var script_attrs = bk_div.children[0].attributes;\n",
       "      for (var i = 0; i < script_attrs.length; i++) {\n",
       "        toinsert[0].firstChild.setAttribute(script_attrs[i].name, script_attrs[i].value);\n",
       "      }\n",
       "      // store reference to server id on output_area\n",
       "      output_area._bokeh_server_id = output.metadata[EXEC_MIME_TYPE][\"server_id\"];\n",
       "    }\n",
       "  }\n",
       "\n",
       "  function register_renderer(events, OutputArea) {\n",
       "\n",
       "    function append_mime(data, metadata, element) {\n",
       "      // create a DOM node to render to\n",
       "      var toinsert = this.create_output_subarea(\n",
       "        metadata,\n",
       "        CLASS_NAME,\n",
       "        EXEC_MIME_TYPE\n",
       "      );\n",
       "      this.keyboard_manager.register_events(toinsert);\n",
       "      // Render to node\n",
       "      var props = {data: data, metadata: metadata[EXEC_MIME_TYPE]};\n",
       "      render(props, toinsert[0]);\n",
       "      element.append(toinsert);\n",
       "      return toinsert\n",
       "    }\n",
       "\n",
       "    /* Handle when an output is cleared or removed */\n",
       "    events.on('clear_output.CodeCell', handleClearOutput);\n",
       "    events.on('delete.Cell', handleClearOutput);\n",
       "\n",
       "    /* Handle when a new output is added */\n",
       "    events.on('output_added.OutputArea', handleAddOutput);\n",
       "\n",
       "    /**\n",
       "     * Register the mime type and append_mime function with output_area\n",
       "     */\n",
       "    OutputArea.prototype.register_mime_type(EXEC_MIME_TYPE, append_mime, {\n",
       "      /* Is output safe? */\n",
       "      safe: true,\n",
       "      /* Index of renderer in `output_area.display_order` */\n",
       "      index: 0\n",
       "    });\n",
       "  }\n",
       "\n",
       "  // register the mime type if in Jupyter Notebook environment and previously unregistered\n",
       "  if (root.Jupyter !== undefined) {\n",
       "    var events = require('base/js/events');\n",
       "    var OutputArea = require('notebook/js/outputarea').OutputArea;\n",
       "\n",
       "    if (OutputArea.prototype.mime_types().indexOf(EXEC_MIME_TYPE) == -1) {\n",
       "      register_renderer(events, OutputArea);\n",
       "    }\n",
       "  }\n",
       "\n",
       "  \n",
       "  if (typeof (root._bokeh_timeout) === \"undefined\" || force === true) {\n",
       "    root._bokeh_timeout = Date.now() + 5000;\n",
       "    root._bokeh_failed_load = false;\n",
       "  }\n",
       "\n",
       "  var NB_LOAD_WARNING = {'data': {'text/html':\n",
       "     \"<div style='background-color: #fdd'>\\n\"+\n",
       "     \"<p>\\n\"+\n",
       "     \"BokehJS does not appear to have successfully loaded. If loading BokehJS from CDN, this \\n\"+\n",
       "     \"may be due to a slow or bad network connection. Possible fixes:\\n\"+\n",
       "     \"</p>\\n\"+\n",
       "     \"<ul>\\n\"+\n",
       "     \"<li>re-rerun `output_notebook()` to attempt to load from CDN again, or</li>\\n\"+\n",
       "     \"<li>use INLINE resources instead, as so:</li>\\n\"+\n",
       "     \"</ul>\\n\"+\n",
       "     \"<code>\\n\"+\n",
       "     \"from bokeh.resources import INLINE\\n\"+\n",
       "     \"output_notebook(resources=INLINE)\\n\"+\n",
       "     \"</code>\\n\"+\n",
       "     \"</div>\"}};\n",
       "\n",
       "  function display_loaded() {\n",
       "    var el = document.getElementById(\"4df06e61-6ce4-4cee-9159-86a0e1f57b4a\");\n",
       "    if (el != null) {\n",
       "      el.textContent = \"BokehJS is loading...\";\n",
       "    }\n",
       "    if (root.Bokeh !== undefined) {\n",
       "      if (el != null) {\n",
       "        el.textContent = \"BokehJS \" + root.Bokeh.version + \" successfully loaded.\";\n",
       "      }\n",
       "    } else if (Date.now() < root._bokeh_timeout) {\n",
       "      setTimeout(display_loaded, 100)\n",
       "    }\n",
       "  }\n",
       "\n",
       "\n",
       "  function run_callbacks() {\n",
       "    try {\n",
       "      root._bokeh_onload_callbacks.forEach(function(callback) { callback() });\n",
       "    }\n",
       "    finally {\n",
       "      delete root._bokeh_onload_callbacks\n",
       "    }\n",
       "    console.info(\"Bokeh: all callbacks have finished\");\n",
       "  }\n",
       "\n",
       "  function load_libs(js_urls, callback) {\n",
       "    root._bokeh_onload_callbacks.push(callback);\n",
       "    if (root._bokeh_is_loading > 0) {\n",
       "      console.log(\"Bokeh: BokehJS is being loaded, scheduling callback at\", now());\n",
       "      return null;\n",
       "    }\n",
       "    if (js_urls == null || js_urls.length === 0) {\n",
       "      run_callbacks();\n",
       "      return null;\n",
       "    }\n",
       "    console.log(\"Bokeh: BokehJS not loaded, scheduling load and callback at\", now());\n",
       "    root._bokeh_is_loading = js_urls.length;\n",
       "    for (var i = 0; i < js_urls.length; i++) {\n",
       "      var url = js_urls[i];\n",
       "      var s = document.createElement('script');\n",
       "      s.src = url;\n",
       "      s.async = false;\n",
       "      s.onreadystatechange = s.onload = function() {\n",
       "        root._bokeh_is_loading--;\n",
       "        if (root._bokeh_is_loading === 0) {\n",
       "          console.log(\"Bokeh: all BokehJS libraries loaded\");\n",
       "          run_callbacks()\n",
       "        }\n",
       "      };\n",
       "      s.onerror = function() {\n",
       "        console.warn(\"failed to load library \" + url);\n",
       "      };\n",
       "      console.log(\"Bokeh: injecting script tag for BokehJS library: \", url);\n",
       "      document.getElementsByTagName(\"head\")[0].appendChild(s);\n",
       "    }\n",
       "  };var element = document.getElementById(\"4df06e61-6ce4-4cee-9159-86a0e1f57b4a\");\n",
       "  if (element == null) {\n",
       "    console.log(\"Bokeh: ERROR: autoload.js configured with elementid '4df06e61-6ce4-4cee-9159-86a0e1f57b4a' but no matching script tag was found. \")\n",
       "    return false;\n",
       "  }\n",
       "\n",
       "  var js_urls = [\"https://cdn.pydata.org/bokeh/release/bokeh-0.12.14.min.js\", \"https://cdn.pydata.org/bokeh/release/bokeh-widgets-0.12.14.min.js\", \"https://cdn.pydata.org/bokeh/release/bokeh-tables-0.12.14.min.js\", \"https://cdn.pydata.org/bokeh/release/bokeh-gl-0.12.14.min.js\"];\n",
       "\n",
       "  var inline_js = [\n",
       "    function(Bokeh) {\n",
       "      Bokeh.set_log_level(\"info\");\n",
       "    },\n",
       "    \n",
       "    function(Bokeh) {\n",
       "      \n",
       "    },\n",
       "    function(Bokeh) {\n",
       "      console.log(\"Bokeh: injecting CSS: https://cdn.pydata.org/bokeh/release/bokeh-0.12.14.min.css\");\n",
       "      Bokeh.embed.inject_css(\"https://cdn.pydata.org/bokeh/release/bokeh-0.12.14.min.css\");\n",
       "      console.log(\"Bokeh: injecting CSS: https://cdn.pydata.org/bokeh/release/bokeh-widgets-0.12.14.min.css\");\n",
       "      Bokeh.embed.inject_css(\"https://cdn.pydata.org/bokeh/release/bokeh-widgets-0.12.14.min.css\");\n",
       "      console.log(\"Bokeh: injecting CSS: https://cdn.pydata.org/bokeh/release/bokeh-tables-0.12.14.min.css\");\n",
       "      Bokeh.embed.inject_css(\"https://cdn.pydata.org/bokeh/release/bokeh-tables-0.12.14.min.css\");\n",
       "    }\n",
       "  ];\n",
       "\n",
       "  function run_inline_js() {\n",
       "    \n",
       "    if ((root.Bokeh !== undefined) || (force === true)) {\n",
       "      for (var i = 0; i < inline_js.length; i++) {\n",
       "        inline_js[i].call(root, root.Bokeh);\n",
       "      }if (force === true) {\n",
       "        display_loaded();\n",
       "      }} else if (Date.now() < root._bokeh_timeout) {\n",
       "      setTimeout(run_inline_js, 100);\n",
       "    } else if (!root._bokeh_failed_load) {\n",
       "      console.log(\"Bokeh: BokehJS failed to load within specified timeout.\");\n",
       "      root._bokeh_failed_load = true;\n",
       "    } else if (force !== true) {\n",
       "      var cell = $(document.getElementById(\"4df06e61-6ce4-4cee-9159-86a0e1f57b4a\")).parents('.cell').data().cell;\n",
       "      cell.output_area.append_execute_result(NB_LOAD_WARNING)\n",
       "    }\n",
       "\n",
       "  }\n",
       "\n",
       "  if (root._bokeh_is_loading === 0) {\n",
       "    console.log(\"Bokeh: BokehJS loaded, going straight to plotting\");\n",
       "    run_inline_js();\n",
       "  } else {\n",
       "    load_libs(js_urls, function() {\n",
       "      console.log(\"Bokeh: BokehJS plotting callback run at\", now());\n",
       "      run_inline_js();\n",
       "    });\n",
       "  }\n",
       "}(window));"
      ],
      "application/vnd.bokehjs_load.v0+json": "\n(function(root) {\n  function now() {\n    return new Date();\n  }\n\n  var force = true;\n\n  if (typeof (root._bokeh_onload_callbacks) === \"undefined\" || force === true) {\n    root._bokeh_onload_callbacks = [];\n    root._bokeh_is_loading = undefined;\n  }\n\n  \n\n  \n  if (typeof (root._bokeh_timeout) === \"undefined\" || force === true) {\n    root._bokeh_timeout = Date.now() + 5000;\n    root._bokeh_failed_load = false;\n  }\n\n  var NB_LOAD_WARNING = {'data': {'text/html':\n     \"<div style='background-color: #fdd'>\\n\"+\n     \"<p>\\n\"+\n     \"BokehJS does not appear to have successfully loaded. If loading BokehJS from CDN, this \\n\"+\n     \"may be due to a slow or bad network connection. Possible fixes:\\n\"+\n     \"</p>\\n\"+\n     \"<ul>\\n\"+\n     \"<li>re-rerun `output_notebook()` to attempt to load from CDN again, or</li>\\n\"+\n     \"<li>use INLINE resources instead, as so:</li>\\n\"+\n     \"</ul>\\n\"+\n     \"<code>\\n\"+\n     \"from bokeh.resources import INLINE\\n\"+\n     \"output_notebook(resources=INLINE)\\n\"+\n     \"</code>\\n\"+\n     \"</div>\"}};\n\n  function display_loaded() {\n    var el = document.getElementById(\"4df06e61-6ce4-4cee-9159-86a0e1f57b4a\");\n    if (el != null) {\n      el.textContent = \"BokehJS is loading...\";\n    }\n    if (root.Bokeh !== undefined) {\n      if (el != null) {\n        el.textContent = \"BokehJS \" + root.Bokeh.version + \" successfully loaded.\";\n      }\n    } else if (Date.now() < root._bokeh_timeout) {\n      setTimeout(display_loaded, 100)\n    }\n  }\n\n\n  function run_callbacks() {\n    try {\n      root._bokeh_onload_callbacks.forEach(function(callback) { callback() });\n    }\n    finally {\n      delete root._bokeh_onload_callbacks\n    }\n    console.info(\"Bokeh: all callbacks have finished\");\n  }\n\n  function load_libs(js_urls, callback) {\n    root._bokeh_onload_callbacks.push(callback);\n    if (root._bokeh_is_loading > 0) {\n      console.log(\"Bokeh: BokehJS is being loaded, scheduling callback at\", now());\n      return null;\n    }\n    if (js_urls == null || js_urls.length === 0) {\n      run_callbacks();\n      return null;\n    }\n    console.log(\"Bokeh: BokehJS not loaded, scheduling load and callback at\", now());\n    root._bokeh_is_loading = js_urls.length;\n    for (var i = 0; i < js_urls.length; i++) {\n      var url = js_urls[i];\n      var s = document.createElement('script');\n      s.src = url;\n      s.async = false;\n      s.onreadystatechange = s.onload = function() {\n        root._bokeh_is_loading--;\n        if (root._bokeh_is_loading === 0) {\n          console.log(\"Bokeh: all BokehJS libraries loaded\");\n          run_callbacks()\n        }\n      };\n      s.onerror = function() {\n        console.warn(\"failed to load library \" + url);\n      };\n      console.log(\"Bokeh: injecting script tag for BokehJS library: \", url);\n      document.getElementsByTagName(\"head\")[0].appendChild(s);\n    }\n  };var element = document.getElementById(\"4df06e61-6ce4-4cee-9159-86a0e1f57b4a\");\n  if (element == null) {\n    console.log(\"Bokeh: ERROR: autoload.js configured with elementid '4df06e61-6ce4-4cee-9159-86a0e1f57b4a' but no matching script tag was found. \")\n    return false;\n  }\n\n  var js_urls = [\"https://cdn.pydata.org/bokeh/release/bokeh-0.12.14.min.js\", \"https://cdn.pydata.org/bokeh/release/bokeh-widgets-0.12.14.min.js\", \"https://cdn.pydata.org/bokeh/release/bokeh-tables-0.12.14.min.js\", \"https://cdn.pydata.org/bokeh/release/bokeh-gl-0.12.14.min.js\"];\n\n  var inline_js = [\n    function(Bokeh) {\n      Bokeh.set_log_level(\"info\");\n    },\n    \n    function(Bokeh) {\n      \n    },\n    function(Bokeh) {\n      console.log(\"Bokeh: injecting CSS: https://cdn.pydata.org/bokeh/release/bokeh-0.12.14.min.css\");\n      Bokeh.embed.inject_css(\"https://cdn.pydata.org/bokeh/release/bokeh-0.12.14.min.css\");\n      console.log(\"Bokeh: injecting CSS: https://cdn.pydata.org/bokeh/release/bokeh-widgets-0.12.14.min.css\");\n      Bokeh.embed.inject_css(\"https://cdn.pydata.org/bokeh/release/bokeh-widgets-0.12.14.min.css\");\n      console.log(\"Bokeh: injecting CSS: https://cdn.pydata.org/bokeh/release/bokeh-tables-0.12.14.min.css\");\n      Bokeh.embed.inject_css(\"https://cdn.pydata.org/bokeh/release/bokeh-tables-0.12.14.min.css\");\n    }\n  ];\n\n  function run_inline_js() {\n    \n    if ((root.Bokeh !== undefined) || (force === true)) {\n      for (var i = 0; i < inline_js.length; i++) {\n        inline_js[i].call(root, root.Bokeh);\n      }if (force === true) {\n        display_loaded();\n      }} else if (Date.now() < root._bokeh_timeout) {\n      setTimeout(run_inline_js, 100);\n    } else if (!root._bokeh_failed_load) {\n      console.log(\"Bokeh: BokehJS failed to load within specified timeout.\");\n      root._bokeh_failed_load = true;\n    } else if (force !== true) {\n      var cell = $(document.getElementById(\"4df06e61-6ce4-4cee-9159-86a0e1f57b4a\")).parents('.cell').data().cell;\n      cell.output_area.append_execute_result(NB_LOAD_WARNING)\n    }\n\n  }\n\n  if (root._bokeh_is_loading === 0) {\n    console.log(\"Bokeh: BokehJS loaded, going straight to plotting\");\n    run_inline_js();\n  } else {\n    load_libs(js_urls, function() {\n      console.log(\"Bokeh: BokehJS plotting callback run at\", now());\n      run_inline_js();\n    });\n  }\n}(window));"
     },
     "metadata": {},
     "output_type": "display_data"
    }
   ],
   "source": [
    "output_notebook()"
   ]
  },
  {
   "cell_type": "code",
   "execution_count": 8,
   "metadata": {
    "collapsed": true
   },
   "outputs": [],
   "source": [
    "def fmt_cool(ds_in):\n",
    "    ds = ds_in.copy(deep=True)\n",
    "    if 'igg' in ds.dims:\n",
    "        ds = ds.sel(igg=1)\n",
    "\n",
    "    if 'g' in ds.dims:\n",
    "        ds = ds.sum('g')\n",
    "            \n",
    "    if 'band' in ds.dims:\n",
    "        try:\n",
    "            ds = ds.squeeze('band')\n",
    "        except ValueError:\n",
    "            ds = ds.sum('band')\n",
    "                \n",
    "    return ds['coolrg']\n",
    "\n",
    "\n",
    "def pltdata_cooling_1(ds_cool=None,\n",
    "                      ds_cool_crd=None, ds_cool_wgt=None):\n",
    "    \n",
    "\n",
    "\n",
    "    colors = all_palettes['Set1'][4]\n",
    "    data = [{'label': 'CLIRAD `coolr_bands`',\n",
    "             'srs': fmt_cool(ds_cool),\n",
    "             'line_dash': 'dashed', 'line_width': 5,\n",
    "             'color': colors[0], 'alpha': .6},\n",
    "            {'label': 'CRD',\n",
    "             'srs': fmt_cool(ds_cool_crd),\n",
    "             'line_dash': 'solid', 'line_width': 1.5,\n",
    "             'marker': 'circle', 'marker_size': 5,\n",
    "             'color': colors[2], 'alpha': 1,},\n",
    "            {'label': 'WGT igg=10 wgt_flux=2',\n",
    "             'srs': fmt_cool(ds_cool_wgt),\n",
    "             'line_dash': 'solid', 'line_width': 3,\n",
    "             'marker': 'square', 'marker_size': 5,\n",
    "             'color': colors[3], 'alpha': .6}]\n",
    "    return data\n",
    "\n",
    "\n",
    "def nice_xlims(pltdata=None, prange=None):\n",
    "    \n",
    "    def get_slice(srs):\n",
    "        return srs.sel(pressure=slice(*prange))\n",
    "    \n",
    "    srss = [d['srs'] for d in pltdata]\n",
    "    vmin = min([get_slice(srs).min() for srs in srss])\n",
    "    vmax = max([get_slice(srs).max() for srs in srss])\n",
    "    dv = (vmax - vmin) * .01\n",
    "    return float(vmin - dv), float(vmax + dv)\n",
    "    \n",
    "\n",
    "def plt_cooling_bokeh(pltdata=None):\n",
    "    '''\n",
    "    Plot a list of cooling rate profiles using bokeh.\n",
    "    '''\n",
    "    ymin = 1e-2 \n",
    "    ymax = 1020 \n",
    "        \n",
    "    p1 = figure(title=\"Linear pressure scale\", \n",
    "                plot_width=400)        \n",
    "    xmin, xmax = nice_xlims(pltdata, prange=(50, 1050))\n",
    "    for d in pltdata:\n",
    "        if 'marker' in d:\n",
    "            getattr(p1, d['marker'])(d['srs'].values, \n",
    "                    d['srs'].coords['pressure'].values,\n",
    "                    color=d['color'], alpha=.7)\n",
    "        p1.line(d['srs'].values, \n",
    "                d['srs'].coords['pressure'].values,\n",
    "                color=d['color'], alpha=d['alpha'], \n",
    "                line_width=d['line_width'], line_dash=d['line_dash'])\n",
    "    \n",
    "    p1.y_range = Range1d(ymax, ymin)\n",
    "    p1.yaxis.axis_label = 'pressure [mb]'   \n",
    "    p1.x_range = Range1d(xmin, xmax)\n",
    "    p1.xaxis.axis_label = 'cooling rate [K/day]'\n",
    "            \n",
    "    p2 = figure(title='Log pressure scale', y_axis_type='log',\n",
    "                plot_width=560)\n",
    "    xmin, xmax = nice_xlims(pltdata, prange=(.01, 200))\n",
    "    \n",
    "    rs = []\n",
    "    for d in pltdata:\n",
    "        rd = []\n",
    "        if 'marker' in d:\n",
    "            r_mark = getattr(p2, d['marker'])(d['srs'].values, \n",
    "                        d['srs'].coords['pressure'].values,\n",
    "                        color=d['color'], alpha=.7)\n",
    "            rd.append(r_mark)\n",
    "        r_line = p2.line(d['srs'].values, \n",
    "                    d['srs'].coords['pressure'].values,\n",
    "                    color=d['color'], alpha=d['alpha'], \n",
    "                    line_width=d['line_width'], line_dash=d['line_dash'])\n",
    "        rd.append(r_line)\n",
    "      \n",
    "        rs.append(rd)\n",
    "        \n",
    "    p2.y_range = Range1d(ymax, ymin)  \n",
    "    p2.yaxis.axis_label = 'pressure [mb]'\n",
    "    \n",
    "    p2.x_range = Range1d(xmin, xmax)\n",
    "    p2.xaxis.axis_label = 'cooling rate [K/day]'\n",
    "    \n",
    "    items = [(d['label'], r) for r, d in zip(rs, pltdata)]\n",
    "    legend = Legend(items=items, location=(10, -30))\n",
    "    legend.label_text_font_size = '8pt'\n",
    "    \n",
    "    p2.add_layout(legend, 'right')  \n",
    "    \n",
    "    show(gridplot(p1, p2, ncols=2, plot_height=500))\n",
    "    \n",
    "\n",
    "def script_plt_cooling():\n",
    "    pltdata = pltdata_cooling_1(\n",
    "        ds_cool=DS_COOL,\n",
    "        ds_cool_crd=DS_COOL_CRD,\n",
    "        ds_cool_wgt=DS_COOL_WGT)\n",
    "    plt_cooling_bokeh(pltdata=pltdata)\n",
    "    print('''FIGURE. Cooling rate profiles.''')"
   ]
  },
  {
   "cell_type": "code",
   "execution_count": 9,
   "metadata": {
    "collapsed": true
   },
   "outputs": [],
   "source": [
    "def fmt_flux(ds_in):\n",
    "    ds = ds_in.copy(deep=True)\n",
    "    \n",
    "    for l in ('level', 'layer'):\n",
    "        if l in ds.data_vars:\n",
    "            if len(ds[l].dims) > 1:\n",
    "                surface = {d: 0 for d in ds.dims if d != 'pressure'}\n",
    "                coord_level = ds[l][surface]\n",
    "                ds.coords[l] = ('pressure', coord_level)\n",
    "            else:\n",
    "                ds.coords[l] = ('pressure', ds[l])\n",
    "        \n",
    "    ds = ds.isel(pressure=[0, 23, -1])\n",
    "        \n",
    "    if 'igg' in ds.dims:\n",
    "        ds = ds.sel(igg=[1])\n",
    "        ds = ds.squeeze('igg').drop('igg')\n",
    "    \n",
    "    if 'g' in ds.dims:\n",
    "        ds = ds.sum('g')\n",
    "            \n",
    "    if 'band' in ds.dims:\n",
    "        try:\n",
    "            ds = ds.squeeze('band').drop('band')\n",
    "        except ValueError:\n",
    "            ds = ds.sum('band')\n",
    "                \n",
    "    df = ds.to_dataframe()\n",
    "    df = df.set_index('level', append=True)               \n",
    "    return df\n",
    "\n",
    "\n",
    "def tbdata_flux(ds_flux=None, ds_flux_crd=None, ds_flux_wgt=None):\n",
    "    ilevels = [0, 23, -1]\n",
    "            \n",
    "    benchmark = {'label': 'WGT igg=10 wgt_flux=1',\n",
    "                 'df': fmt_flux(ds_flux_wgt)}\n",
    "    \n",
    "    tbs = [{'label': 'CRD',\n",
    "            'df': fmt_flux(ds_flux_crd)},\n",
    "           {'label': 'CLIRAD',\n",
    "            'df': fmt_flux(ds_flux)}]\n",
    "    \n",
    "    data = {'benchmark': benchmark, 'others': tbs}\n",
    "    return data\n",
    "\n",
    "\n",
    "def tb_flux(tbdata=None):\n",
    "    benchmark = tbdata['benchmark']\n",
    "    others = tbdata['others']\n",
    "    \n",
    "    def show_tb(d=None):\n",
    "        display.display(d['df'])\n",
    "        print('Table.', 'Fluxes.', d['label'])\n",
    "        \n",
    "    def show_tbdiff(d0=None, d=None):\n",
    "        df = d['df']\n",
    "        df.index = d0['df'].index\n",
    "        display.display(df - d0['df'])\n",
    "        print('Table.', 'Fluxes.', \n",
    "              '({}) - ({})'.format(d['label'], d0['label']))\n",
    "        \n",
    "    show_tb(benchmark)\n",
    "    for d in others:\n",
    "        show_tb(d)\n",
    "        \n",
    "    for d in others:\n",
    "        show_tbdiff(d=d, d0=benchmark)\n",
    "        \n",
    "        \n",
    "def script_tb_flux():\n",
    "    data = tbdata_flux(ds_flux=DS_FLUX,\n",
    "                       ds_flux_crd=DS_FLUX_CRD,\n",
    "                       ds_flux_wgt=DS_FLUX_WGT)\n",
    "    tb_flux(tbdata=data)"
   ]
  },
  {
   "cell_type": "code",
   "execution_count": 10,
   "metadata": {
    "collapsed": true
   },
   "outputs": [],
   "source": [
    "def band_map():\n",
    "    '''\n",
    "    Maps spectral bands in lblnew to spectral bands in clirad.\n",
    "    '''\n",
    "    lblnew2clirad = {'1': '1',\n",
    "            '2': '2',\n",
    "            '3a': '3',\n",
    "            '3b': '4',\n",
    "            '3c': '5',\n",
    "            '4': '6', \n",
    "            '5': '7',\n",
    "            '6': '8',\n",
    "            '7': '9', \n",
    "            '8': '10',\n",
    "            '9': '11'}\n",
    "    \n",
    "    clirad2lblnew = {clirad: lblnew \n",
    "                     for lblnew, clirad in lblnew2clirad.items()}\n",
    "    return clirad2lblnew\n",
    "\n",
    "\n",
    "def gasbands():\n",
    "    bmap = band_map()\n",
    "    gases = list(PARAM['molecule'].keys())\n",
    "    \n",
    "    bands = [bmap[str(b)] for b in PARAM['band']]\n",
    "    return list(itertools.product(gases, bands))\n",
    "\n",
    "\n",
    "def print_bestfit_params():\n",
    "    print('Best-fit values for each (gas, band)')\n",
    "    print('------------------------------------')\n",
    "    for gas, band in gasbands():\n",
    "        print('o {} band{}'.format(gas, band))\n",
    "        param = bestfits.kdist_params(molecule=gas, band=band)\n",
    "        for name, value in sorted(param.items()):\n",
    "            print(2 * ' ' + '{} = {}'.format(name, value))\n",
    "\n",
    "        \n",
    "def print_input_param():        \n",
    "    for name, value in PARAM.items():\n",
    "        print('{} = {}'.format(name, value))\n",
    "        \n",
    "        \n",
    "def print_lblnew_param():\n",
    "    for name, value in sorted(PARAM_LBLNEW.items()):\n",
    "        print('{} = {}'.format(name, value))\n"
   ]
  },
  {
   "cell_type": "code",
   "execution_count": 11,
   "metadata": {
    "collapsed": true,
    "scrolled": false
   },
   "outputs": [],
   "source": [
    "def show_html(s):\n",
    "    display.display(display.HTML(s))\n",
    "\n",
    "    \n",
    "def show_markdown(s):\n",
    "    display.display(display.Markdown(s))\n",
    "\n",
    "    \n",
    "def script():\n",
    "    \n",
    "    title = '### CLIRAD-LW'\n",
    "    s_input = 'Input Parameters'\n",
    "    s_lblnew_param = 'LBLNEW case compaired against'\n",
    "    s_bestfits = 'Best-fit Parameters'\n",
    "    s_plt_cooling = 'Cooling Rate Profiles'\n",
    "    s_tb_flux = 'Flux Comparison'\n",
    "    \n",
    "    # title\n",
    "    show_markdown('### CLIRAD-LW')\n",
    "    \n",
    "    # TOC\n",
    "    show_markdown('### Table of Contents')\n",
    "    show_html(climahtml.getHTML_hrefanchor(s_input))\n",
    "    show_html(climahtml.getHTML_hrefanchor(s_lblnew_param))\n",
    "    show_html(climahtml.getHTML_hrefanchor(s_plt_cooling))\n",
    "    show_html(climahtml.getHTML_hrefanchor(s_tb_flux))\n",
    "    show_html(climahtml.getHTML_hrefanchor(s_bestfits))\n",
    "    \n",
    "    # Input parameters\n",
    "    show_html(climahtml.getHTML_idanchor(s_input))\n",
    "    show_markdown(climahtml.getMarkdown_sectitle(s_input))\n",
    "    print_input_param()\n",
    "    \n",
    "    # LBLNEW parameters \n",
    "    show_html(climahtml.getHTML_idanchor(s_lblnew_param))\n",
    "    show_markdown(climahtml.getMarkdown_sectitle(s_lblnew_param))\n",
    "    print_lblnew_param()\n",
    "    \n",
    "    # Cooling rate profiles\n",
    "    show_html(climahtml.getHTML_idanchor(s_plt_cooling))\n",
    "    show_markdown(climahtml.getMarkdown_sectitle(s_plt_cooling))\n",
    "    script_plt_cooling()\n",
    "    \n",
    "    # Flux comparison\n",
    "    show_html(climahtml.getHTML_idanchor(s_tb_flux))\n",
    "    show_markdown(climahtml.getMarkdown_sectitle(s_tb_flux))\n",
    "    script_tb_flux()\n",
    "    \n",
    "    # Best-fit values\n",
    "    show_html(climahtml.getHTML_idanchor(s_bestfits))\n",
    "    show_markdown(climahtml.getMarkdown_sectitle(s_bestfits))\n",
    "    print_bestfit_params()\n",
    "   \n",
    "    "
   ]
  },
  {
   "cell_type": "code",
   "execution_count": 12,
   "metadata": {
    "collapsed": true,
    "scrolled": false
   },
   "outputs": [
    {
     "data": {
      "text/markdown": [
       "### CLIRAD-LW"
      ],
      "text/plain": [
       "<IPython.core.display.Markdown object>"
      ]
     },
     "metadata": {},
     "output_type": "display_data"
    },
    {
     "data": {
      "text/markdown": [
       "### Table of Contents"
      ],
      "text/plain": [
       "<IPython.core.display.Markdown object>"
      ]
     },
     "metadata": {},
     "output_type": "display_data"
    },
    {
     "data": {
      "text/html": [
       "<a href=\"#Input_Parameters\">Input Parameters</a>"
      ],
      "text/plain": [
       "<IPython.core.display.HTML object>"
      ]
     },
     "metadata": {},
     "output_type": "display_data"
    },
    {
     "data": {
      "text/html": [
       "<a href=\"#LBLNEW_case_compaired_against\">LBLNEW case compaired against</a>"
      ],
      "text/plain": [
       "<IPython.core.display.HTML object>"
      ]
     },
     "metadata": {},
     "output_type": "display_data"
    },
    {
     "data": {
      "text/html": [
       "<a href=\"#Cooling_Rate_Profiles\">Cooling Rate Profiles</a>"
      ],
      "text/plain": [
       "<IPython.core.display.HTML object>"
      ]
     },
     "metadata": {},
     "output_type": "display_data"
    },
    {
     "data": {
      "text/html": [
       "<a href=\"#Flux_Comparison\">Flux Comparison</a>"
      ],
      "text/plain": [
       "<IPython.core.display.HTML object>"
      ]
     },
     "metadata": {},
     "output_type": "display_data"
    },
    {
     "data": {
      "text/html": [
       "<a href=\"#Best-fit_Parameters\">Best-fit Parameters</a>"
      ],
      "text/plain": [
       "<IPython.core.display.HTML object>"
      ]
     },
     "metadata": {},
     "output_type": "display_data"
    },
    {
     "data": {
      "text/html": [
       "<a id=\"Input_Parameters\"></a>"
      ],
      "text/plain": [
       "<IPython.core.display.HTML object>"
      ]
     },
     "metadata": {},
     "output_type": "display_data"
    },
    {
     "data": {
      "text/markdown": [
       "# Input Parameters"
      ],
      "text/plain": [
       "<IPython.core.display.Markdown object>"
      ]
     },
     "metadata": {},
     "output_type": "display_data"
    },
    {
     "name": "stdout",
     "output_type": "stream",
     "text": [
      "atmpro = trp\n",
      "band = [3]\n",
      "commitnumber = a4b7180\n",
      "molecule = {'co2': 0.0004}\n",
      "tsfc = 300\n"
     ]
    },
    {
     "data": {
      "text/html": [
       "<a id=\"LBLNEW_case_compaired_against\"></a>"
      ],
      "text/plain": [
       "<IPython.core.display.HTML object>"
      ]
     },
     "metadata": {},
     "output_type": "display_data"
    },
    {
     "data": {
      "text/markdown": [
       "# LBLNEW case compaired against"
      ],
      "text/plain": [
       "<IPython.core.display.Markdown object>"
      ]
     },
     "metadata": {},
     "output_type": "display_data"
    },
    {
     "name": "stdout",
     "output_type": "stream",
     "text": [
      "atmpro = trp\n",
      "band = 3a\n",
      "commitnumber = 2bd1f75\n",
      "conc = 0.0004\n",
      "dv = 0.01\n",
      "klin = 6.375563e-24\n",
      "molecule = co2\n",
      "ng_adju = [0, 0, 0]\n",
      "ng_refs = [3, 2, 4]\n",
      "nv = 100\n",
      "option_compute_btable = 0\n",
      "option_compute_ktable = 0\n",
      "option_wgt_flux = 1\n",
      "option_wgt_k = 1\n",
      "ref_pts = [(1, 250), (10, 250), (500, 250)]\n",
      "tsfc = 300\n",
      "vmax = 620\n",
      "vmin = 540\n",
      "w_diffuse = [(1.6, 1.6, 1.7), (1.75, 1.75), (1.55, 1.55, 1.6, 1.85)]\n",
      "wgt = [(0.7, 0.3, 0.7), (0.7, 0.6), (0.4, 0.5, 0.8, 0.95)]\n"
     ]
    },
    {
     "data": {
      "text/html": [
       "<a id=\"Cooling_Rate_Profiles\"></a>"
      ],
      "text/plain": [
       "<IPython.core.display.HTML object>"
      ]
     },
     "metadata": {},
     "output_type": "display_data"
    },
    {
     "data": {
      "text/markdown": [
       "# Cooling Rate Profiles"
      ],
      "text/plain": [
       "<IPython.core.display.Markdown object>"
      ]
     },
     "metadata": {},
     "output_type": "display_data"
    },
    {
     "data": {
      "text/html": [
       "\n",
       "<div class=\"bk-root\">\n",
       "    <div class=\"bk-plotdiv\" id=\"ae8e6f4d-7da3-466e-9498-eae5add84e81\"></div>\n",
       "</div>"
      ]
     },
     "metadata": {},
     "output_type": "display_data"
    },
    {
     "data": {
      "application/javascript": [
       "(function(root) {\n",
       "  function embed_document(root) {\n",
       "    \n",
       "  var docs_json = {\"a60f443a-b091-4b05-b8a4-98382db3ee9d\":{\"roots\":{\"references\":[{\"attributes\":{},\"id\":\"164d845f-b529-4ad9-b013-2dcf65505267\",\"type\":\"PanTool\"},{\"attributes\":{\"callback\":null,\"column_names\":[\"x\",\"y\"],\"data\":{\"x\":{\"__ndarray__\":\"gewW/Xgaxz8TDXP+/ZTIP0R51blYh8E/vidBRfa90j++P5QePMnUP2UDp0YBhcs/yWst5d8b0j9wLax+GUrSPz3wlIIsU9Q/kt5gPSjH1D/zQJ48sAzVPz0pUf4Hu9M/a4Jm3y4e0z/FYUBhFjvRPyokFZ2X0NA/sNSKoWK90z8m139j8OzWP32vhGLpS9g/F9/lXGnd2T/EA5D70jLfPwTI8b9sjeU/oh7sXjih7T+V16WhofruP1OG/eB0Oeo/r9fLIW+65D9f8AYko7veP64fzR6JE9c/UV4SBBvZ0T9GfVAfmtzLPw808rvhJcU/gYQXM3hOvz8O+98/TRW2P9CJI2CLFa4/36zV35H/pD9fel6ejPmUP4SVNz1w2W6/z0JymlQgkr9Oa1kSLlGKv6hI+r78cXI/eP4pXxRgkT8qsZb7FxqdP3TwFL4z5KM/sxqMvYm0qD8XzQKhgOOsP8muvv5HTbA/Y6jhYBHxsT8yuuQBKvGzP+WgVmHL3LU/1/GzH5a+tz+LKeSMWd25Pxtwry+GMLw/FF04jFlhvj/eCChgfTTAPyuaGNwgJME/KPID27Emwj/lki4mywPDP/8bg2elvcM/i5A2ZdlZxD/Z30S6wOHEPwviTcgYacU/3hbRG5PqxT/kLiU/oDvGP0XikqEyF8Y/lklHGIpkxT9/MXzAE2XEP1+5vShqfsM/ZZ/wpwD3wj8CgyAXB93CP7EPup3gD8M/F/zsNl5wwz8qATEJF/LDP+DmAerVmcQ/7/BsyYl6xT+KvBclCb7GP/CYiTtBj8k/\",\"dtype\":\"float64\",\"shape\":[75]},\"y\":{\"__ndarray__\":\"S/O/Q+51ND/430zAtpRIP2vylNV0PVE/QxsjCssuWD/TR4Z78fVgP+inNsRxymc/OuuBfZWvcD/u3TFA02d3P2d3VoBnaoA/CD5h5MAGhz/1pA8HUCaQP+zrCsc9p5Y/Fb7LAKjGnz/nJ9c/SEmmPwBD+fzcQq8/FOZwv9nstT8Er5Y7M8G+P0c+r3jqkcU/yK72qKZBzj+tM989FzjVPxbgmr8yxN0/cOm5AXbg5D+5ctXAf0jtP5kqGJXUifQ/DsrqDELP/D8MCAhBojQEQDItVnmnVwxAiFXNvdHgE0BSSZ2AJuIbQAMJih9jjiNA5q4l5INuK0CPVN/5RT0zQHzxRXu8/DpAOZ7PgHrtQkAg8wGBzoxKQBSTN8DMeFJA2NmQf2ZqWEAAAAAAAFxeQEQX1LfMJmJAmpmZmZkfZUBmZmZmZhhoQLzoK0gzEWtAAAAAAAAKbkCiC+pbZoFwQAhyUMLM/XFA+I2vPTN6c0AQ5KCEmfZ0QAAAAAAAc3ZA8Btfe2bvd0AIclDCzGt5QPeNrz0z6HpAEOSghJlkfEAAAAAAAOF9QKML6ltmXX9ABTkoYeZsgED7xteeGSuBQAhyUMJM6YFAAAAAAICngkD4ja89s2WDQAU5KGHmI4RA+8bXnhnihEAIclDCTKCFQAAAAACAXoZA+I2vPbMch0AFOShh5tqHQPvG154ZmYhACHJQwkxXiUAAAAAAgBWKQPeNrz2z04pABTkoYeaRi0D7xteeGVCMQAlyUMJMDo1AAAAAAIDMjUD3ja89s4qOQGZmZmbmSI9A\",\"dtype\":\"float64\",\"shape\":[75]}}},\"id\":\"4920460f-391d-4329-b5a0-8f962c13a95e\",\"type\":\"ColumnDataSource\"},{\"attributes\":{},\"id\":\"598f7eb4-35ad-478a-ad63-bb3bd8a0e853\",\"type\":\"WheelZoomTool\"},{\"attributes\":{\"bottom_units\":\"screen\",\"fill_alpha\":{\"value\":0.5},\"fill_color\":{\"value\":\"lightgrey\"},\"left_units\":\"screen\",\"level\":\"overlay\",\"line_alpha\":{\"value\":1.0},\"line_color\":{\"value\":\"black\"},\"line_dash\":[4,4],\"line_width\":{\"value\":2},\"plot\":null,\"render_mode\":\"css\",\"right_units\":\"screen\",\"top_units\":\"screen\"},\"id\":\"726c3d15-c99b-43b0-8de3-3acae7351b15\",\"type\":\"BoxAnnotation\"},{\"attributes\":{\"callback\":null,\"column_names\":[\"x\",\"y\"],\"data\":{\"x\":{\"__ndarray__\":\"6er/niG61D9LnrlKxOHUPxa5zTrDkdU/q030nIhJ1j/stDLmOuPWPznPkpsVW9c/T2m/Hc6o1z+LFBbycLvXPzpoAoR3f9c/rg3lVIPf1j/j25ggssLVP/eP/nkxBtQ/N7hivaOG0T9bxV5ueKHMP4MIbxlPTco/ZBvVNKq+zj+8+b+9LAfSPxGD2rwokdM/4lFwzXXK1D8XxNeFBVHXP/KQxGjVON0//myIv4yY4z+VLYngNSjlP3lS0Vkg+eI/odku+WVH4D9LAL9Q2GnaP8643dlXmNU/9PqVDMTs0T8tH/NizXTNP5fCX6qobsc/u0P/N9LswT/S0/Rb4HW6Pw+9KsNH9rI/8RyGe2Hlqz/BMOoVPI6eP1gJARJhCVS/Dlx5F5/Alr/3PuqnW8mSv/v3EDlXskk/JMN0/xxPij+75VR3OcOXPz8XfZlmdqA/CBZlI1hkpD9cVkl19sinPzZn6Mf1yao/H9PAEc+HrT9dtfb8CgywP48oNg8zSLE/dfg7mO17sj+bpaSriKqzPzjKH6hd1rQ/Ole6BOP/tT+Su7836yW3Px/1FItaRLg/bCestB1duT9/cllKKnC6P82OI9c6frs/jGzwuUeLvD9+eV1Ac569P/WJHAaQvb4/pR+ZATvhvz/VsQsT7mLAPxXwnuIbdcA/ZOkPJLEQwD+U7f7ly9e+P+hlZ9Gwtr0/ljqQwUEwvT/5ixPcYVe9P8D51mos8b0/1pSorajBvj/5zV/o1ra/P6RyosoCbsA/MUBa/hsqwT+DZQ8C8jzCP6TxxFvsisQ/\",\"dtype\":\"float64\",\"shape\":[75]},\"y\":{\"__ndarray__\":\"GhExyth1ND/Sv8nbtpRIP2vylNV0PVE/aTum7souWD/At0SJ8fVgPw3Iuahxymc/MSNhhJWvcD/bTfBN02d3P2zb5nxnaoA/CD5h5MAGhz8NmeH1TyaQP+zrCsc9p5Y/LbKd76fGnz/bLW5ISEmmPww9YvTcQq8/JV2OstnstT8Er5Y7M8G+P0c+r3jqkcU/5h99k6ZBzj88bCIzFzjVP4enV8oyxN0//yH99nXg5D8qOpLLf0jtP5kqGJXUifQ/c9cS8kHP/D+/DpwzojQEQIEmwoanVwxA4lgXt9HgE0BSSZ2AJuIbQAMJih9jjiNA5q4l5INuK0AwTKYKRj0zQNv5fmq8/DpAaCJseHrtQkB/+zpwzoxKQM3MzMzMeFJAZmZmZmZqWEAAAAAAAFxeQM3MzMzMJmJAmpmZmZkfZUBmZmZmZhhoQDMzMzMzEWtAAAAAAAAKbkBmZmZmZoFwQM3MzMzM/XFAMzMzMzN6c0CamZmZmfZ0QAAAAAAAc3ZAZmZmZmbvd0DNzMzMzGt5QDMzMzMz6HpAmpmZmZlkfEAAAAAAAOF9QGZmZmZmXX9AZmZmZuZsgECamZmZGSuBQM3MzMxM6YFAAAAAAICngkAzMzMzs2WDQGZmZmbmI4RAmpmZmRnihEDNzMzMTKCFQAAAAACAXoZAMzMzM7Mch0BmZmZm5tqHQJqZmZkZmYhAzczMzExXiUAAAAAAgBWKQDMzMzOz04pAZmZmZuaRi0CamZmZGVCMQM3MzMxMDo1AAAAAAIDMjUAzMzMzs4qOQGZmZmbmSI9A\",\"dtype\":\"float64\",\"shape\":[75]}}},\"id\":\"4271cc32-f17e-4218-8d0d-54c4f5f64347\",\"type\":\"ColumnDataSource\"},{\"attributes\":{\"data_source\":{\"id\":\"4920460f-391d-4329-b5a0-8f962c13a95e\",\"type\":\"ColumnDataSource\"},\"glyph\":{\"id\":\"cc0da252-5216-4e4a-87ef-4992f91a8245\",\"type\":\"Line\"},\"hover_glyph\":null,\"muted_glyph\":null,\"nonselection_glyph\":{\"id\":\"293e20d1-b4e4-4b15-a7ee-8b5d3d7a4e83\",\"type\":\"Line\"},\"selection_glyph\":null,\"view\":{\"id\":\"35b791f0-a539-4b8b-9003-773198b72c23\",\"type\":\"CDSView\"}},\"id\":\"4bc9fafc-7df5-4ea1-a2d3-1d047488f349\",\"type\":\"GlyphRenderer\"},{\"attributes\":{\"plot\":{\"id\":\"f7dc7a9f-2c46-4e1f-a709-a33aee34e4a4\",\"subtype\":\"Figure\",\"type\":\"Plot\"},\"ticker\":{\"id\":\"38f88eff-c376-425a-9c4d-7bdc9f5c82b0\",\"type\":\"BasicTicker\"}},\"id\":\"29d66df6-b4d1-46ce-aec9-cac37dc7e920\",\"type\":\"Grid\"},{\"attributes\":{\"fill_alpha\":{\"value\":0.7},\"fill_color\":{\"value\":\"#4daf4a\"},\"line_alpha\":{\"value\":0.7},\"line_color\":{\"value\":\"#4daf4a\"},\"x\":{\"field\":\"x\"},\"y\":{\"field\":\"y\"}},\"id\":\"d2f3f9cb-2f77-4afd-b86c-e2893ab836c0\",\"type\":\"Circle\"},{\"attributes\":{},\"id\":\"f20abd51-950f-48bb-9a7a-d4a5ecbfc9b3\",\"type\":\"ResetTool\"},{\"attributes\":{\"callback\":null,\"column_names\":[\"x\",\"y\"],\"data\":{\"x\":{\"__ndarray__\":\"qj+IhdZa2j8G4PoLmBvaP+jLoBSMzto/ctr4uNta2z/MtUfz8LPbPxESDmIM0ds/tffrRgaW2z/gIbUe+PfaP9OsQ6DA3Nk/eQE47nsx2D/DGh1G9+LVP3BMBcvH5NI/4CxG2TJLzj8Fx8CVR5LFP+LMr+YAwcE/DudMoKnTxT+2os1xbhPMPxhOiG8XENE/oZUHK0bE1D94yShkIdnZP0eyBYxHrOA/ZS+ho9HU5T/Da2636tvmPxM0PZPD6OM//Vnit9e44D/rQFIbByTaP0cQnVTqCNQ/Cg3lwILmzj+zz8a+IkfIP3xXkKhIbMM/xLpttiTNvj+doG4ciJe3P58akgfgbrE/HsfNeHSGqT9CVUIzLJ+ZP2xfuqztnXG/qpoMBlhdl7+Ig9VvXlCUv1TzBBl0j2u/t1mCrY7zfT/2mtz3wVyRP4doxU6ws5o/PLGvvn/IoT958CykcPulP08lwSND8ak/ltk5MC2orT9OOZEm/4+wP/CVE8lkLLI/b5EocpCpsz+n3YKB9Ai1PxJtQ5y5TbY/0hS4dzh6tz98/QSojZC4P1a6WKTLk7k/DnOb09mHuj/EK8VlR3C7P8TJw2O7Urw/83Iampk2vT/PFzkT7CK+PwrjXeRUIb8/nDfK0U4TwD86z5Z7mnbAP6+XpghwesA/n4CaGJoEwD/uqu4uo5q+P6kCpOzjV70/vDWXuOG5vD9rA8Etada8P86Rrvymbr0/3r6aRSBFvj8rGHTGIEW/P+qkjPKrPcA/pqPzTPUFwT9aDhVfxCnCPyrv2/dFlcQ/\",\"dtype\":\"float64\",\"shape\":[75]},\"y\":{\"__ndarray__\":\"GhExyth1ND/Sv8nbtpRIP2vylNV0PVE/aTum7souWD/At0SJ8fVgPw3Iuahxymc/MSNhhJWvcD/bTfBN02d3P2zb5nxnaoA/CD5h5MAGhz8NmeH1TyaQP+zrCsc9p5Y/LbKd76fGnz/bLW5ISEmmPww9YvTcQq8/JV2OstnstT8Er5Y7M8G+P0c+r3jqkcU/5h99k6ZBzj88bCIzFzjVP4enV8oyxN0//yH99nXg5D8qOpLLf0jtP5kqGJXUifQ/c9cS8kHP/D+/DpwzojQEQIEmwoanVwxA4lgXt9HgE0BSSZ2AJuIbQAMJih9jjiNA5q4l5INuK0AwTKYKRj0zQNv5fmq8/DpAaCJseHrtQkB/+zpwzoxKQM3MzMzMeFJAZmZmZmZqWEAAAAAAAFxeQM3MzMzMJmJAmpmZmZkfZUBmZmZmZhhoQDMzMzMzEWtAAAAAAAAKbkBmZmZmZoFwQM3MzMzM/XFAMzMzMzN6c0CamZmZmfZ0QAAAAAAAc3ZAZmZmZmbvd0DNzMzMzGt5QDMzMzMz6HpAmpmZmZlkfEAAAAAAAOF9QGZmZmZmXX9AZmZmZuZsgECamZmZGSuBQM3MzMxM6YFAAAAAAICngkAzMzMzs2WDQGZmZmbmI4RAmpmZmRnihEDNzMzMTKCFQAAAAACAXoZAMzMzM7Mch0BmZmZm5tqHQJqZmZkZmYhAzczMzExXiUAAAAAAgBWKQDMzMzOz04pAZmZmZuaRi0CamZmZGVCMQM3MzMxMDo1AAAAAAIDMjUAzMzMzs4qOQGZmZmbmSI9A\",\"dtype\":\"float64\",\"shape\":[75]}}},\"id\":\"e333bec1-8108-419a-b8b0-44a7d774b476\",\"type\":\"ColumnDataSource\"},{\"attributes\":{\"data_source\":{\"id\":\"4271cc32-f17e-4218-8d0d-54c4f5f64347\",\"type\":\"ColumnDataSource\"},\"glyph\":{\"id\":\"60be0f4d-6166-4a2b-9cea-1e77f9ded001\",\"type\":\"Square\"},\"hover_glyph\":null,\"muted_glyph\":null,\"nonselection_glyph\":{\"id\":\"da2f0164-c78e-4aed-a73f-4758586e1213\",\"type\":\"Square\"},\"selection_glyph\":null,\"view\":{\"id\":\"92abb171-440d-47f7-b975-5cf81dcc0e2a\",\"type\":\"CDSView\"}},\"id\":\"fe954126-ad43-475f-9b02-b274a4c7feae\",\"type\":\"GlyphRenderer\"},{\"attributes\":{\"fill_alpha\":{\"value\":0.1},\"fill_color\":{\"value\":\"#1f77b4\"},\"line_alpha\":{\"value\":0.1},\"line_color\":{\"value\":\"#1f77b4\"},\"x\":{\"field\":\"x\"},\"y\":{\"field\":\"y\"}},\"id\":\"6b768d25-edca-4028-9518-0248ae0850a5\",\"type\":\"Circle\"},{\"attributes\":{\"axis_label\":\"cooling rate [K/day]\",\"formatter\":{\"id\":\"099d3dfa-0736-47dc-b9ac-85b4b6b938c5\",\"type\":\"BasicTickFormatter\"},\"plot\":{\"id\":\"f7dc7a9f-2c46-4e1f-a709-a33aee34e4a4\",\"subtype\":\"Figure\",\"type\":\"Plot\"},\"ticker\":{\"id\":\"38f88eff-c376-425a-9c4d-7bdc9f5c82b0\",\"type\":\"BasicTicker\"}},\"id\":\"f4721761-cbe2-4957-b977-fe7cb943614b\",\"type\":\"LinearAxis\"},{\"attributes\":{\"line_alpha\":0.1,\"line_color\":\"#1f77b4\",\"line_width\":1.5,\"x\":{\"field\":\"x\"},\"y\":{\"field\":\"y\"}},\"id\":\"6c07a65c-bb43-43cc-bef1-a0667e044d0f\",\"type\":\"Line\"},{\"attributes\":{\"source\":{\"id\":\"e5cc798a-e2d8-4fe7-ac74-f0cfa898048e\",\"type\":\"ColumnDataSource\"}},\"id\":\"8c715911-1b71-40d1-81d8-c582487c2c7b\",\"type\":\"CDSView\"},{\"attributes\":{},\"id\":\"cc72a845-c1aa-41c3-aab5-a762b4e97503\",\"type\":\"BasicTickFormatter\"},{\"attributes\":{},\"id\":\"d589117c-1ae0-4ba6-8a8f-3ded421787e9\",\"type\":\"BasicTickFormatter\"},{\"attributes\":{\"callback\":null,\"column_names\":[\"x\",\"y\"],\"data\":{\"x\":{\"__ndarray__\":\"qj+IhdZa2j8G4PoLmBvaP+jLoBSMzto/ctr4uNta2z/MtUfz8LPbPxESDmIM0ds/tffrRgaW2z/gIbUe+PfaP9OsQ6DA3Nk/eQE47nsx2D/DGh1G9+LVP3BMBcvH5NI/4CxG2TJLzj8Fx8CVR5LFP+LMr+YAwcE/DudMoKnTxT+2os1xbhPMPxhOiG8XENE/oZUHK0bE1D94yShkIdnZP0eyBYxHrOA/ZS+ho9HU5T/Da2636tvmPxM0PZPD6OM//Vnit9e44D/rQFIbByTaP0cQnVTqCNQ/Cg3lwILmzj+zz8a+IkfIP3xXkKhIbMM/xLpttiTNvj+doG4ciJe3P58akgfgbrE/HsfNeHSGqT9CVUIzLJ+ZP2xfuqztnXG/qpoMBlhdl7+Ig9VvXlCUv1TzBBl0j2u/t1mCrY7zfT/2mtz3wVyRP4doxU6ws5o/PLGvvn/IoT958CykcPulP08lwSND8ak/ltk5MC2orT9OOZEm/4+wP/CVE8lkLLI/b5EocpCpsz+n3YKB9Ai1PxJtQ5y5TbY/0hS4dzh6tz98/QSojZC4P1a6WKTLk7k/DnOb09mHuj/EK8VlR3C7P8TJw2O7Urw/83Iampk2vT/PFzkT7CK+PwrjXeRUIb8/nDfK0U4TwD86z5Z7mnbAP6+XpghwesA/n4CaGJoEwD/uqu4uo5q+P6kCpOzjV70/vDWXuOG5vD9rA8Etada8P86Rrvymbr0/3r6aRSBFvj8rGHTGIEW/P+qkjPKrPcA/pqPzTPUFwT9aDhVfxCnCPyrv2/dFlcQ/\",\"dtype\":\"float64\",\"shape\":[75]},\"y\":{\"__ndarray__\":\"GhExyth1ND/Sv8nbtpRIP2vylNV0PVE/aTum7souWD/At0SJ8fVgPw3Iuahxymc/MSNhhJWvcD/bTfBN02d3P2zb5nxnaoA/CD5h5MAGhz8NmeH1TyaQP+zrCsc9p5Y/LbKd76fGnz/bLW5ISEmmPww9YvTcQq8/JV2OstnstT8Er5Y7M8G+P0c+r3jqkcU/5h99k6ZBzj88bCIzFzjVP4enV8oyxN0//yH99nXg5D8qOpLLf0jtP5kqGJXUifQ/c9cS8kHP/D+/DpwzojQEQIEmwoanVwxA4lgXt9HgE0BSSZ2AJuIbQAMJih9jjiNA5q4l5INuK0AwTKYKRj0zQNv5fmq8/DpAaCJseHrtQkB/+zpwzoxKQM3MzMzMeFJAZmZmZmZqWEAAAAAAAFxeQM3MzMzMJmJAmpmZmZkfZUBmZmZmZhhoQDMzMzMzEWtAAAAAAAAKbkBmZmZmZoFwQM3MzMzM/XFAMzMzMzN6c0CamZmZmfZ0QAAAAAAAc3ZAZmZmZmbvd0DNzMzMzGt5QDMzMzMz6HpAmpmZmZlkfEAAAAAAAOF9QGZmZmZmXX9AZmZmZuZsgECamZmZGSuBQM3MzMxM6YFAAAAAAICngkAzMzMzs2WDQGZmZmbmI4RAmpmZmRnihEDNzMzMTKCFQAAAAACAXoZAMzMzM7Mch0BmZmZm5tqHQJqZmZkZmYhAzczMzExXiUAAAAAAgBWKQDMzMzOz04pAZmZmZuaRi0CamZmZGVCMQM3MzMxMDo1AAAAAAIDMjUAzMzMzs4qOQGZmZmbmSI9A\",\"dtype\":\"float64\",\"shape\":[75]}}},\"id\":\"bc77aa84-a9fd-4e1d-a992-44727d8e4778\",\"type\":\"ColumnDataSource\"},{\"attributes\":{\"data_source\":{\"id\":\"e333bec1-8108-419a-b8b0-44a7d774b476\",\"type\":\"ColumnDataSource\"},\"glyph\":{\"id\":\"d2f3f9cb-2f77-4afd-b86c-e2893ab836c0\",\"type\":\"Circle\"},\"hover_glyph\":null,\"muted_glyph\":null,\"nonselection_glyph\":{\"id\":\"6b768d25-edca-4028-9518-0248ae0850a5\",\"type\":\"Circle\"},\"selection_glyph\":null,\"view\":{\"id\":\"fab00447-4cd5-44ab-8f94-00edf35546f2\",\"type\":\"CDSView\"}},\"id\":\"e14414b7-a3fc-416f-a321-908b11f10c31\",\"type\":\"GlyphRenderer\"},{\"attributes\":{\"callback\":null,\"column_names\":[\"x\",\"y\"],\"data\":{\"x\":{\"__ndarray__\":\"6er/niG61D9LnrlKxOHUPxa5zTrDkdU/q030nIhJ1j/stDLmOuPWPznPkpsVW9c/T2m/Hc6o1z+LFBbycLvXPzpoAoR3f9c/rg3lVIPf1j/j25ggssLVP/eP/nkxBtQ/N7hivaOG0T9bxV5ueKHMP4MIbxlPTco/ZBvVNKq+zj+8+b+9LAfSPxGD2rwokdM/4lFwzXXK1D8XxNeFBVHXP/KQxGjVON0//myIv4yY4z+VLYngNSjlP3lS0Vkg+eI/odku+WVH4D9LAL9Q2GnaP8643dlXmNU/9PqVDMTs0T8tH/NizXTNP5fCX6qobsc/u0P/N9LswT/S0/Rb4HW6Pw+9KsNH9rI/8RyGe2Hlqz/BMOoVPI6eP1gJARJhCVS/Dlx5F5/Alr/3PuqnW8mSv/v3EDlXskk/JMN0/xxPij+75VR3OcOXPz8XfZlmdqA/CBZlI1hkpD9cVkl19sinPzZn6Mf1yao/H9PAEc+HrT9dtfb8CgywP48oNg8zSLE/dfg7mO17sj+bpaSriKqzPzjKH6hd1rQ/Ole6BOP/tT+Su7836yW3Px/1FItaRLg/bCestB1duT9/cllKKnC6P82OI9c6frs/jGzwuUeLvD9+eV1Ac569P/WJHAaQvb4/pR+ZATvhvz/VsQsT7mLAPxXwnuIbdcA/ZOkPJLEQwD+U7f7ly9e+P+hlZ9Gwtr0/ljqQwUEwvT/5ixPcYVe9P8D51mos8b0/1pSorajBvj/5zV/o1ra/P6RyosoCbsA/MUBa/hsqwT+DZQ8C8jzCP6TxxFvsisQ/\",\"dtype\":\"float64\",\"shape\":[75]},\"y\":{\"__ndarray__\":\"GhExyth1ND/Sv8nbtpRIP2vylNV0PVE/aTum7souWD/At0SJ8fVgPw3Iuahxymc/MSNhhJWvcD/bTfBN02d3P2zb5nxnaoA/CD5h5MAGhz8NmeH1TyaQP+zrCsc9p5Y/LbKd76fGnz/bLW5ISEmmPww9YvTcQq8/JV2OstnstT8Er5Y7M8G+P0c+r3jqkcU/5h99k6ZBzj88bCIzFzjVP4enV8oyxN0//yH99nXg5D8qOpLLf0jtP5kqGJXUifQ/c9cS8kHP/D+/DpwzojQEQIEmwoanVwxA4lgXt9HgE0BSSZ2AJuIbQAMJih9jjiNA5q4l5INuK0AwTKYKRj0zQNv5fmq8/DpAaCJseHrtQkB/+zpwzoxKQM3MzMzMeFJAZmZmZmZqWEAAAAAAAFxeQM3MzMzMJmJAmpmZmZkfZUBmZmZmZhhoQDMzMzMzEWtAAAAAAAAKbkBmZmZmZoFwQM3MzMzM/XFAMzMzMzN6c0CamZmZmfZ0QAAAAAAAc3ZAZmZmZmbvd0DNzMzMzGt5QDMzMzMz6HpAmpmZmZlkfEAAAAAAAOF9QGZmZmZmXX9AZmZmZuZsgECamZmZGSuBQM3MzMxM6YFAAAAAAICngkAzMzMzs2WDQGZmZmbmI4RAmpmZmRnihEDNzMzMTKCFQAAAAACAXoZAMzMzM7Mch0BmZmZm5tqHQJqZmZkZmYhAzczMzExXiUAAAAAAgBWKQDMzMzOz04pAZmZmZuaRi0CamZmZGVCMQM3MzMxMDo1AAAAAAIDMjUAzMzMzs4qOQGZmZmbmSI9A\",\"dtype\":\"float64\",\"shape\":[75]}}},\"id\":\"942b7d3c-df88-46fb-8d6b-4e2006082c89\",\"type\":\"ColumnDataSource\"},{\"attributes\":{\"toolbar\":{\"id\":\"41215f80-aaa4-4c09-b4f3-488822c76865\",\"type\":\"ProxyToolbar\"},\"toolbar_location\":\"above\"},\"id\":\"1c14bb53-1d36-4632-83de-f8ab19284304\",\"type\":\"ToolbarBox\"},{\"attributes\":{\"source\":{\"id\":\"e333bec1-8108-419a-b8b0-44a7d774b476\",\"type\":\"ColumnDataSource\"}},\"id\":\"fab00447-4cd5-44ab-8f94-00edf35546f2\",\"type\":\"CDSView\"},{\"attributes\":{\"line_color\":\"#4daf4a\",\"line_width\":1.5,\"x\":{\"field\":\"x\"},\"y\":{\"field\":\"y\"}},\"id\":\"92c90d7e-3472-4a88-8316-f6e4bb59f55e\",\"type\":\"Line\"},{\"attributes\":{\"line_alpha\":0.1,\"line_color\":\"#1f77b4\",\"line_width\":1.5,\"x\":{\"field\":\"x\"},\"y\":{\"field\":\"y\"}},\"id\":\"9793ef06-e5e1-4100-bdb5-739f3b6dfeca\",\"type\":\"Line\"},{\"attributes\":{\"dimension\":1,\"plot\":{\"id\":\"f7dc7a9f-2c46-4e1f-a709-a33aee34e4a4\",\"subtype\":\"Figure\",\"type\":\"Plot\"},\"ticker\":{\"id\":\"4d87a461-072c-42ff-afc4-9c8af3a51c0f\",\"type\":\"BasicTicker\"}},\"id\":\"5b31e1f6-2687-41c5-9b21-92d397547c11\",\"type\":\"Grid\"},{\"attributes\":{\"data_source\":{\"id\":\"bc77aa84-a9fd-4e1d-a992-44727d8e4778\",\"type\":\"ColumnDataSource\"},\"glyph\":{\"id\":\"92c90d7e-3472-4a88-8316-f6e4bb59f55e\",\"type\":\"Line\"},\"hover_glyph\":null,\"muted_glyph\":null,\"nonselection_glyph\":{\"id\":\"9793ef06-e5e1-4100-bdb5-739f3b6dfeca\",\"type\":\"Line\"},\"selection_glyph\":null,\"view\":{\"id\":\"7379aa1f-e92a-41ae-adb5-8ab1987d1953\",\"type\":\"CDSView\"}},\"id\":\"0ecb5c46-7fcb-4966-9125-571c9e1c524d\",\"type\":\"GlyphRenderer\"},{\"attributes\":{},\"id\":\"966ce301-e8b9-4fb8-8e3f-eeec1e680c79\",\"type\":\"LinearScale\"},{\"attributes\":{\"callback\":null,\"column_names\":[\"x\",\"y\"],\"data\":{\"x\":{\"__ndarray__\":\"6er/niG61D9LnrlKxOHUPxa5zTrDkdU/q030nIhJ1j/stDLmOuPWPznPkpsVW9c/T2m/Hc6o1z+LFBbycLvXPzpoAoR3f9c/rg3lVIPf1j/j25ggssLVP/eP/nkxBtQ/N7hivaOG0T9bxV5ueKHMP4MIbxlPTco/ZBvVNKq+zj+8+b+9LAfSPxGD2rwokdM/4lFwzXXK1D8XxNeFBVHXP/KQxGjVON0//myIv4yY4z+VLYngNSjlP3lS0Vkg+eI/odku+WVH4D9LAL9Q2GnaP8643dlXmNU/9PqVDMTs0T8tH/NizXTNP5fCX6qobsc/u0P/N9LswT/S0/Rb4HW6Pw+9KsNH9rI/8RyGe2Hlqz/BMOoVPI6eP1gJARJhCVS/Dlx5F5/Alr/3PuqnW8mSv/v3EDlXskk/JMN0/xxPij+75VR3OcOXPz8XfZlmdqA/CBZlI1hkpD9cVkl19sinPzZn6Mf1yao/H9PAEc+HrT9dtfb8CgywP48oNg8zSLE/dfg7mO17sj+bpaSriKqzPzjKH6hd1rQ/Ole6BOP/tT+Su7836yW3Px/1FItaRLg/bCestB1duT9/cllKKnC6P82OI9c6frs/jGzwuUeLvD9+eV1Ac569P/WJHAaQvb4/pR+ZATvhvz/VsQsT7mLAPxXwnuIbdcA/ZOkPJLEQwD+U7f7ly9e+P+hlZ9Gwtr0/ljqQwUEwvT/5ixPcYVe9P8D51mos8b0/1pSorajBvj/5zV/o1ra/P6RyosoCbsA/MUBa/hsqwT+DZQ8C8jzCP6TxxFvsisQ/\",\"dtype\":\"float64\",\"shape\":[75]},\"y\":{\"__ndarray__\":\"GhExyth1ND/Sv8nbtpRIP2vylNV0PVE/aTum7souWD/At0SJ8fVgPw3Iuahxymc/MSNhhJWvcD/bTfBN02d3P2zb5nxnaoA/CD5h5MAGhz8NmeH1TyaQP+zrCsc9p5Y/LbKd76fGnz/bLW5ISEmmPww9YvTcQq8/JV2OstnstT8Er5Y7M8G+P0c+r3jqkcU/5h99k6ZBzj88bCIzFzjVP4enV8oyxN0//yH99nXg5D8qOpLLf0jtP5kqGJXUifQ/c9cS8kHP/D+/DpwzojQEQIEmwoanVwxA4lgXt9HgE0BSSZ2AJuIbQAMJih9jjiNA5q4l5INuK0AwTKYKRj0zQNv5fmq8/DpAaCJseHrtQkB/+zpwzoxKQM3MzMzMeFJAZmZmZmZqWEAAAAAAAFxeQM3MzMzMJmJAmpmZmZkfZUBmZmZmZhhoQDMzMzMzEWtAAAAAAAAKbkBmZmZmZoFwQM3MzMzM/XFAMzMzMzN6c0CamZmZmfZ0QAAAAAAAc3ZAZmZmZmbvd0DNzMzMzGt5QDMzMzMz6HpAmpmZmZlkfEAAAAAAAOF9QGZmZmZmXX9AZmZmZuZsgECamZmZGSuBQM3MzMxM6YFAAAAAAICngkAzMzMzs2WDQGZmZmbmI4RAmpmZmRnihEDNzMzMTKCFQAAAAACAXoZAMzMzM7Mch0BmZmZm5tqHQJqZmZkZmYhAzczMzExXiUAAAAAAgBWKQDMzMzOz04pAZmZmZuaRi0CamZmZGVCMQM3MzMxMDo1AAAAAAIDMjUAzMzMzs4qOQGZmZmbmSI9A\",\"dtype\":\"float64\",\"shape\":[75]}}},\"id\":\"fe9d817f-09c1-4293-8d25-590de7c4efd9\",\"type\":\"ColumnDataSource\"},{\"attributes\":{\"source\":{\"id\":\"bc77aa84-a9fd-4e1d-a992-44727d8e4778\",\"type\":\"ColumnDataSource\"}},\"id\":\"7379aa1f-e92a-41ae-adb5-8ab1987d1953\",\"type\":\"CDSView\"},{\"attributes\":{\"callback\":null,\"column_names\":[\"x\",\"y\"],\"data\":{\"x\":{\"__ndarray__\":\"qj+IhdZa2j8G4PoLmBvaP+jLoBSMzto/ctr4uNta2z/MtUfz8LPbPxESDmIM0ds/tffrRgaW2z/gIbUe+PfaP9OsQ6DA3Nk/eQE47nsx2D/DGh1G9+LVP3BMBcvH5NI/4CxG2TJLzj8Fx8CVR5LFP+LMr+YAwcE/DudMoKnTxT+2os1xbhPMPxhOiG8XENE/oZUHK0bE1D94yShkIdnZP0eyBYxHrOA/ZS+ho9HU5T/Da2636tvmPxM0PZPD6OM//Vnit9e44D/rQFIbByTaP0cQnVTqCNQ/Cg3lwILmzj+zz8a+IkfIP3xXkKhIbMM/xLpttiTNvj+doG4ciJe3P58akgfgbrE/HsfNeHSGqT9CVUIzLJ+ZP2xfuqztnXG/qpoMBlhdl7+Ig9VvXlCUv1TzBBl0j2u/t1mCrY7zfT/2mtz3wVyRP4doxU6ws5o/PLGvvn/IoT958CykcPulP08lwSND8ak/ltk5MC2orT9OOZEm/4+wP/CVE8lkLLI/b5EocpCpsz+n3YKB9Ai1PxJtQ5y5TbY/0hS4dzh6tz98/QSojZC4P1a6WKTLk7k/DnOb09mHuj/EK8VlR3C7P8TJw2O7Urw/83Iampk2vT/PFzkT7CK+PwrjXeRUIb8/nDfK0U4TwD86z5Z7mnbAP6+XpghwesA/n4CaGJoEwD/uqu4uo5q+P6kCpOzjV70/vDWXuOG5vD9rA8Etada8P86Rrvymbr0/3r6aRSBFvj8rGHTGIEW/P+qkjPKrPcA/pqPzTPUFwT9aDhVfxCnCPyrv2/dFlcQ/\",\"dtype\":\"float64\",\"shape\":[75]},\"y\":{\"__ndarray__\":\"GhExyth1ND/Sv8nbtpRIP2vylNV0PVE/aTum7souWD/At0SJ8fVgPw3Iuahxymc/MSNhhJWvcD/bTfBN02d3P2zb5nxnaoA/CD5h5MAGhz8NmeH1TyaQP+zrCsc9p5Y/LbKd76fGnz/bLW5ISEmmPww9YvTcQq8/JV2OstnstT8Er5Y7M8G+P0c+r3jqkcU/5h99k6ZBzj88bCIzFzjVP4enV8oyxN0//yH99nXg5D8qOpLLf0jtP5kqGJXUifQ/c9cS8kHP/D+/DpwzojQEQIEmwoanVwxA4lgXt9HgE0BSSZ2AJuIbQAMJih9jjiNA5q4l5INuK0AwTKYKRj0zQNv5fmq8/DpAaCJseHrtQkB/+zpwzoxKQM3MzMzMeFJAZmZmZmZqWEAAAAAAAFxeQM3MzMzMJmJAmpmZmZkfZUBmZmZmZhhoQDMzMzMzEWtAAAAAAAAKbkBmZmZmZoFwQM3MzMzM/XFAMzMzMzN6c0CamZmZmfZ0QAAAAAAAc3ZAZmZmZmbvd0DNzMzMzGt5QDMzMzMz6HpAmpmZmZlkfEAAAAAAAOF9QGZmZmZmXX9AZmZmZuZsgECamZmZGSuBQM3MzMxM6YFAAAAAAICngkAzMzMzs2WDQGZmZmbmI4RAmpmZmRnihEDNzMzMTKCFQAAAAACAXoZAMzMzM7Mch0BmZmZm5tqHQJqZmZkZmYhAzczMzExXiUAAAAAAgBWKQDMzMzOz04pAZmZmZuaRi0CamZmZGVCMQM3MzMxMDo1AAAAAAIDMjUAzMzMzs4qOQGZmZmbmSI9A\",\"dtype\":\"float64\",\"shape\":[75]}}},\"id\":\"16f990d5-5611-4cdc-9459-b1088fc56a3f\",\"type\":\"ColumnDataSource\"},{\"attributes\":{\"fill_alpha\":{\"value\":0.7},\"fill_color\":{\"value\":\"#984ea3\"},\"line_alpha\":{\"value\":0.7},\"line_color\":{\"value\":\"#984ea3\"},\"x\":{\"field\":\"x\"},\"y\":{\"field\":\"y\"}},\"id\":\"60be0f4d-6166-4a2b-9cea-1e77f9ded001\",\"type\":\"Square\"},{\"attributes\":{\"callback\":null,\"end\":0.97800376666,\"start\":-0.032726132660000004},\"id\":\"cf5ac221-d2c8-4a63-8f1f-ed2b2eda7fa5\",\"type\":\"Range1d\"},{\"attributes\":{\"data_source\":{\"id\":\"fe9d817f-09c1-4293-8d25-590de7c4efd9\",\"type\":\"ColumnDataSource\"},\"glyph\":{\"id\":\"68e92b9f-29e9-4f48-809b-3236cdf89029\",\"type\":\"Line\"},\"hover_glyph\":null,\"muted_glyph\":null,\"nonselection_glyph\":{\"id\":\"d93f4f6f-ba65-436c-a9f9-559835301a2f\",\"type\":\"Line\"},\"selection_glyph\":null,\"view\":{\"id\":\"e6d7565c-7f55-42fc-9a1d-b7eb904f4a96\",\"type\":\"CDSView\"}},\"id\":\"2d89db56-35dc-4aea-b131-6a5fa5f11c7c\",\"type\":\"GlyphRenderer\"},{\"attributes\":{\"fill_alpha\":{\"value\":0.1},\"fill_color\":{\"value\":\"#1f77b4\"},\"line_alpha\":{\"value\":0.1},\"line_color\":{\"value\":\"#1f77b4\"},\"x\":{\"field\":\"x\"},\"y\":{\"field\":\"y\"}},\"id\":\"da2f0164-c78e-4aed-a73f-4758586e1213\",\"type\":\"Square\"},{\"attributes\":{\"source\":{\"id\":\"4271cc32-f17e-4218-8d0d-54c4f5f64347\",\"type\":\"ColumnDataSource\"}},\"id\":\"92abb171-440d-47f7-b975-5cf81dcc0e2a\",\"type\":\"CDSView\"},{\"attributes\":{\"line_alpha\":0.6,\"line_color\":\"#984ea3\",\"line_width\":3,\"x\":{\"field\":\"x\"},\"y\":{\"field\":\"y\"}},\"id\":\"68e92b9f-29e9-4f48-809b-3236cdf89029\",\"type\":\"Line\"},{\"attributes\":{\"children\":[{\"id\":\"1c14bb53-1d36-4632-83de-f8ab19284304\",\"type\":\"ToolbarBox\"},{\"id\":\"1e56fd8d-3064-40a9-830f-246b06805e61\",\"type\":\"Column\"}]},\"id\":\"8982ad41-10c0-4b27-99cb-aa8b1a0b691e\",\"type\":\"Column\"},{\"attributes\":{},\"id\":\"4d87a461-072c-42ff-afc4-9c8af3a51c0f\",\"type\":\"BasicTicker\"},{\"attributes\":{\"line_alpha\":0.1,\"line_color\":\"#1f77b4\",\"line_width\":3,\"x\":{\"field\":\"x\"},\"y\":{\"field\":\"y\"}},\"id\":\"d93f4f6f-ba65-436c-a9f9-559835301a2f\",\"type\":\"Line\"},{\"attributes\":{\"source\":{\"id\":\"fe9d817f-09c1-4293-8d25-590de7c4efd9\",\"type\":\"ColumnDataSource\"}},\"id\":\"e6d7565c-7f55-42fc-9a1d-b7eb904f4a96\",\"type\":\"CDSView\"},{\"attributes\":{\"items\":[{\"id\":\"56c53b3e-4343-414f-a7b9-fd64d2c45aa0\",\"type\":\"LegendItem\"},{\"id\":\"8202c86b-ddce-4641-b190-f3434ae80729\",\"type\":\"LegendItem\"},{\"id\":\"07f01a85-64da-4b35-9c0b-a4290192a0bd\",\"type\":\"LegendItem\"}],\"label_text_font_size\":{\"value\":\"8pt\"},\"location\":[10,-30],\"plot\":{\"id\":\"934ace36-3544-437d-b1ca-d9fd95fdbaf3\",\"subtype\":\"Figure\",\"type\":\"Plot\"}},\"id\":\"dab32693-7148-4651-8854-3f18207fea2a\",\"type\":\"Legend\"},{\"attributes\":{\"tools\":[{\"id\":\"164d845f-b529-4ad9-b013-2dcf65505267\",\"type\":\"PanTool\"},{\"id\":\"598f7eb4-35ad-478a-ad63-bb3bd8a0e853\",\"type\":\"WheelZoomTool\"},{\"id\":\"edbb9afe-bc0c-4783-aec5-6e2117b7ab0b\",\"type\":\"BoxZoomTool\"},{\"id\":\"4ed93d96-71b8-48a7-ac28-c21292d0feed\",\"type\":\"SaveTool\"},{\"id\":\"f20abd51-950f-48bb-9a7a-d4a5ecbfc9b3\",\"type\":\"ResetTool\"},{\"id\":\"1bbdd274-4685-4682-a8b2-8459f76049f8\",\"type\":\"HelpTool\"},{\"id\":\"8d74b7b7-00ab-44aa-a663-acc3f18351ff\",\"type\":\"PanTool\"},{\"id\":\"4c5f7b71-3998-4bab-af84-16bd74c3926e\",\"type\":\"WheelZoomTool\"},{\"id\":\"f4af4f19-7c0c-49e8-b836-76bb90c9a8f5\",\"type\":\"BoxZoomTool\"},{\"id\":\"64e229a1-444f-482e-bd92-6717f4121741\",\"type\":\"SaveTool\"},{\"id\":\"99a748f8-13ae-414f-b474-be31c8e7175a\",\"type\":\"ResetTool\"},{\"id\":\"fd0a57c9-b746-4448-a8aa-f0fb1d8e411b\",\"type\":\"HelpTool\"}]},\"id\":\"41215f80-aaa4-4c09-b4f3-488822c76865\",\"type\":\"ProxyToolbar\"},{\"attributes\":{\"label\":{\"value\":\"CLIRAD `coolr_bands`\"},\"renderers\":[{\"id\":\"095ab7be-4ba1-4adc-824b-17f661594b0d\",\"type\":\"GlyphRenderer\"}]},\"id\":\"56c53b3e-4343-414f-a7b9-fd64d2c45aa0\",\"type\":\"LegendItem\"},{\"attributes\":{\"callback\":null,\"end\":0.01,\"start\":1020},\"id\":\"fd1233bf-c1a8-44d5-a6ab-a9131c28942a\",\"type\":\"Range1d\"},{\"attributes\":{\"data_source\":{\"id\":\"16f990d5-5611-4cdc-9459-b1088fc56a3f\",\"type\":\"ColumnDataSource\"},\"glyph\":{\"id\":\"30470326-31f9-48e8-bd9d-626e1dd99480\",\"type\":\"Circle\"},\"hover_glyph\":null,\"muted_glyph\":null,\"nonselection_glyph\":{\"id\":\"9fe6ef98-f948-4b74-b484-fa3a6a70c197\",\"type\":\"Circle\"},\"selection_glyph\":null,\"view\":{\"id\":\"d73b018d-ef17-4599-9011-643e7191c651\",\"type\":\"CDSView\"}},\"id\":\"94775148-bc50-4c36-9ab6-0175a4864319\",\"type\":\"GlyphRenderer\"},{\"attributes\":{\"overlay\":{\"id\":\"726c3d15-c99b-43b0-8de3-3acae7351b15\",\"type\":\"BoxAnnotation\"}},\"id\":\"edbb9afe-bc0c-4783-aec5-6e2117b7ab0b\",\"type\":\"BoxZoomTool\"},{\"attributes\":{\"data_source\":{\"id\":\"e5cc798a-e2d8-4fe7-ac74-f0cfa898048e\",\"type\":\"ColumnDataSource\"},\"glyph\":{\"id\":\"26b51277-0c88-44bf-bc8a-f2548bb6592d\",\"type\":\"Line\"},\"hover_glyph\":null,\"muted_glyph\":null,\"nonselection_glyph\":{\"id\":\"6c07a65c-bb43-43cc-bef1-a0667e044d0f\",\"type\":\"Line\"},\"selection_glyph\":null,\"view\":{\"id\":\"8c715911-1b71-40d1-81d8-c582487c2c7b\",\"type\":\"CDSView\"}},\"id\":\"604c9ee7-f375-4bde-9281-c2dc6492132d\",\"type\":\"GlyphRenderer\"},{\"attributes\":{\"below\":[{\"id\":\"f4721761-cbe2-4957-b977-fe7cb943614b\",\"type\":\"LinearAxis\"}],\"left\":[{\"id\":\"69d96eac-8d98-4a7c-a006-597b0b16a9b3\",\"type\":\"LinearAxis\"}],\"plot_height\":500,\"plot_width\":400,\"renderers\":[{\"id\":\"f4721761-cbe2-4957-b977-fe7cb943614b\",\"type\":\"LinearAxis\"},{\"id\":\"29d66df6-b4d1-46ce-aec9-cac37dc7e920\",\"type\":\"Grid\"},{\"id\":\"69d96eac-8d98-4a7c-a006-597b0b16a9b3\",\"type\":\"LinearAxis\"},{\"id\":\"5b31e1f6-2687-41c5-9b21-92d397547c11\",\"type\":\"Grid\"},{\"id\":\"726c3d15-c99b-43b0-8de3-3acae7351b15\",\"type\":\"BoxAnnotation\"},{\"id\":\"4bc9fafc-7df5-4ea1-a2d3-1d047488f349\",\"type\":\"GlyphRenderer\"},{\"id\":\"94775148-bc50-4c36-9ab6-0175a4864319\",\"type\":\"GlyphRenderer\"},{\"id\":\"604c9ee7-f375-4bde-9281-c2dc6492132d\",\"type\":\"GlyphRenderer\"},{\"id\":\"aca0b56d-79f1-4ccc-b820-811c65e5767a\",\"type\":\"GlyphRenderer\"},{\"id\":\"e9a9bd72-d67d-4360-a8b9-9a97f38f8d10\",\"type\":\"GlyphRenderer\"}],\"title\":{\"id\":\"478e9998-bf6b-49e8-863f-486a89a91c79\",\"type\":\"Title\"},\"toolbar\":{\"id\":\"fe13d5e2-4d43-415c-a7f1-c38d9347c65f\",\"type\":\"Toolbar\"},\"toolbar_location\":null,\"x_range\":{\"id\":\"3e3687ac-814b-4c42-a00a-97ecec465ffb\",\"type\":\"Range1d\"},\"x_scale\":{\"id\":\"bfac0de4-6ca1-4dbe-b20f-f02251ae380c\",\"type\":\"LinearScale\"},\"y_range\":{\"id\":\"fd1233bf-c1a8-44d5-a6ab-a9131c28942a\",\"type\":\"Range1d\"},\"y_scale\":{\"id\":\"966ce301-e8b9-4fb8-8e3f-eeec1e680c79\",\"type\":\"LinearScale\"}},\"id\":\"f7dc7a9f-2c46-4e1f-a709-a33aee34e4a4\",\"subtype\":\"Figure\",\"type\":\"Plot\"},{\"attributes\":{},\"id\":\"1bbdd274-4685-4682-a8b2-8459f76049f8\",\"type\":\"HelpTool\"},{\"attributes\":{\"source\":{\"id\":\"16f990d5-5611-4cdc-9459-b1088fc56a3f\",\"type\":\"ColumnDataSource\"}},\"id\":\"d73b018d-ef17-4599-9011-643e7191c651\",\"type\":\"CDSView\"},{\"attributes\":{},\"id\":\"4ed93d96-71b8-48a7-ac28-c21292d0feed\",\"type\":\"SaveTool\"},{\"attributes\":{},\"id\":\"38f88eff-c376-425a-9c4d-7bdc9f5c82b0\",\"type\":\"BasicTicker\"},{\"attributes\":{\"line_color\":\"#4daf4a\",\"line_width\":1.5,\"x\":{\"field\":\"x\"},\"y\":{\"field\":\"y\"}},\"id\":\"26b51277-0c88-44bf-bc8a-f2548bb6592d\",\"type\":\"Line\"},{\"attributes\":{\"axis_label\":\"pressure [mb]\",\"formatter\":{\"id\":\"d589117c-1ae0-4ba6-8a8f-3ded421787e9\",\"type\":\"BasicTickFormatter\"},\"plot\":{\"id\":\"f7dc7a9f-2c46-4e1f-a709-a33aee34e4a4\",\"subtype\":\"Figure\",\"type\":\"Plot\"},\"ticker\":{\"id\":\"4d87a461-072c-42ff-afc4-9c8af3a51c0f\",\"type\":\"BasicTicker\"}},\"id\":\"69d96eac-8d98-4a7c-a006-597b0b16a9b3\",\"type\":\"LinearAxis\"},{\"attributes\":{\"callback\":null,\"column_names\":[\"x\",\"y\"],\"data\":{\"x\":{\"__ndarray__\":\"qj+IhdZa2j8G4PoLmBvaP+jLoBSMzto/ctr4uNta2z/MtUfz8LPbPxESDmIM0ds/tffrRgaW2z/gIbUe+PfaP9OsQ6DA3Nk/eQE47nsx2D/DGh1G9+LVP3BMBcvH5NI/4CxG2TJLzj8Fx8CVR5LFP+LMr+YAwcE/DudMoKnTxT+2os1xbhPMPxhOiG8XENE/oZUHK0bE1D94yShkIdnZP0eyBYxHrOA/ZS+ho9HU5T/Da2636tvmPxM0PZPD6OM//Vnit9e44D/rQFIbByTaP0cQnVTqCNQ/Cg3lwILmzj+zz8a+IkfIP3xXkKhIbMM/xLpttiTNvj+doG4ciJe3P58akgfgbrE/HsfNeHSGqT9CVUIzLJ+ZP2xfuqztnXG/qpoMBlhdl7+Ig9VvXlCUv1TzBBl0j2u/t1mCrY7zfT/2mtz3wVyRP4doxU6ws5o/PLGvvn/IoT958CykcPulP08lwSND8ak/ltk5MC2orT9OOZEm/4+wP/CVE8lkLLI/b5EocpCpsz+n3YKB9Ai1PxJtQ5y5TbY/0hS4dzh6tz98/QSojZC4P1a6WKTLk7k/DnOb09mHuj/EK8VlR3C7P8TJw2O7Urw/83Iampk2vT/PFzkT7CK+PwrjXeRUIb8/nDfK0U4TwD86z5Z7mnbAP6+XpghwesA/n4CaGJoEwD/uqu4uo5q+P6kCpOzjV70/vDWXuOG5vD9rA8Etada8P86Rrvymbr0/3r6aRSBFvj8rGHTGIEW/P+qkjPKrPcA/pqPzTPUFwT9aDhVfxCnCPyrv2/dFlcQ/\",\"dtype\":\"float64\",\"shape\":[75]},\"y\":{\"__ndarray__\":\"GhExyth1ND/Sv8nbtpRIP2vylNV0PVE/aTum7souWD/At0SJ8fVgPw3Iuahxymc/MSNhhJWvcD/bTfBN02d3P2zb5nxnaoA/CD5h5MAGhz8NmeH1TyaQP+zrCsc9p5Y/LbKd76fGnz/bLW5ISEmmPww9YvTcQq8/JV2OstnstT8Er5Y7M8G+P0c+r3jqkcU/5h99k6ZBzj88bCIzFzjVP4enV8oyxN0//yH99nXg5D8qOpLLf0jtP5kqGJXUifQ/c9cS8kHP/D+/DpwzojQEQIEmwoanVwxA4lgXt9HgE0BSSZ2AJuIbQAMJih9jjiNA5q4l5INuK0AwTKYKRj0zQNv5fmq8/DpAaCJseHrtQkB/+zpwzoxKQM3MzMzMeFJAZmZmZmZqWEAAAAAAAFxeQM3MzMzMJmJAmpmZmZkfZUBmZmZmZhhoQDMzMzMzEWtAAAAAAAAKbkBmZmZmZoFwQM3MzMzM/XFAMzMzMzN6c0CamZmZmfZ0QAAAAAAAc3ZAZmZmZmbvd0DNzMzMzGt5QDMzMzMz6HpAmpmZmZlkfEAAAAAAAOF9QGZmZmZmXX9AZmZmZuZsgECamZmZGSuBQM3MzMxM6YFAAAAAAICngkAzMzMzs2WDQGZmZmbmI4RAmpmZmRnihEDNzMzMTKCFQAAAAACAXoZAMzMzM7Mch0BmZmZm5tqHQJqZmZkZmYhAzczMzExXiUAAAAAAgBWKQDMzMzOz04pAZmZmZuaRi0CamZmZGVCMQM3MzMxMDo1AAAAAAIDMjUAzMzMzs4qOQGZmZmbmSI9A\",\"dtype\":\"float64\",\"shape\":[75]}}},\"id\":\"e5cc798a-e2d8-4fe7-ac74-f0cfa898048e\",\"type\":\"ColumnDataSource\"},{\"attributes\":{\"data_source\":{\"id\":\"2cd4d366-6557-443f-9207-376c4c8e39da\",\"type\":\"ColumnDataSource\"},\"glyph\":{\"id\":\"835a64ff-02fc-4bc5-b972-cfd324fb60c5\",\"type\":\"Line\"},\"hover_glyph\":null,\"muted_glyph\":null,\"nonselection_glyph\":{\"id\":\"01cd802b-5819-42ba-8b44-22054ed59b34\",\"type\":\"Line\"},\"selection_glyph\":null,\"view\":{\"id\":\"ef8faf8c-cf65-4c21-9dcf-a818a101524f\",\"type\":\"CDSView\"}},\"id\":\"095ab7be-4ba1-4adc-824b-17f661594b0d\",\"type\":\"GlyphRenderer\"},{\"attributes\":{\"data_source\":{\"id\":\"e838f77e-4571-40e3-8f11-cf011e3aaad1\",\"type\":\"ColumnDataSource\"},\"glyph\":{\"id\":\"42383768-dc58-45ac-92d6-2bb1f0a95979\",\"type\":\"Line\"},\"hover_glyph\":null,\"muted_glyph\":null,\"nonselection_glyph\":{\"id\":\"e5c1d928-7a01-49a5-bf63-041adba8da19\",\"type\":\"Line\"},\"selection_glyph\":null,\"view\":{\"id\":\"8ce6112b-dfc3-4a96-a4b9-ac999a5a50f4\",\"type\":\"CDSView\"}},\"id\":\"e9a9bd72-d67d-4360-a8b9-9a97f38f8d10\",\"type\":\"GlyphRenderer\"},{\"attributes\":{\"fill_alpha\":{\"value\":0.7},\"fill_color\":{\"value\":\"#4daf4a\"},\"line_alpha\":{\"value\":0.7},\"line_color\":{\"value\":\"#4daf4a\"},\"x\":{\"field\":\"x\"},\"y\":{\"field\":\"y\"}},\"id\":\"30470326-31f9-48e8-bd9d-626e1dd99480\",\"type\":\"Circle\"},{\"attributes\":{\"label\":{\"value\":\"CRD\"},\"renderers\":[{\"id\":\"e14414b7-a3fc-416f-a321-908b11f10c31\",\"type\":\"GlyphRenderer\"},{\"id\":\"0ecb5c46-7fcb-4966-9125-571c9e1c524d\",\"type\":\"GlyphRenderer\"}]},\"id\":\"8202c86b-ddce-4641-b190-f3434ae80729\",\"type\":\"LegendItem\"},{\"attributes\":{\"data_source\":{\"id\":\"942b7d3c-df88-46fb-8d6b-4e2006082c89\",\"type\":\"ColumnDataSource\"},\"glyph\":{\"id\":\"00a5bb1d-0f7f-41f7-8b38-737af7095ec6\",\"type\":\"Square\"},\"hover_glyph\":null,\"muted_glyph\":null,\"nonselection_glyph\":{\"id\":\"765f181c-2b2c-45b7-8c3a-21e5439700fd\",\"type\":\"Square\"},\"selection_glyph\":null,\"view\":{\"id\":\"175d3240-8f50-4d8e-a53f-ab99d8a3643f\",\"type\":\"CDSView\"}},\"id\":\"aca0b56d-79f1-4ccc-b820-811c65e5767a\",\"type\":\"GlyphRenderer\"},{\"attributes\":{\"line_alpha\":0.1,\"line_color\":\"#1f77b4\",\"line_dash\":[6],\"line_width\":5,\"x\":{\"field\":\"x\"},\"y\":{\"field\":\"y\"}},\"id\":\"293e20d1-b4e4-4b15-a7ee-8b5d3d7a4e83\",\"type\":\"Line\"},{\"attributes\":{\"line_alpha\":0.6,\"line_color\":\"#e41a1c\",\"line_dash\":[6],\"line_width\":5,\"x\":{\"field\":\"x\"},\"y\":{\"field\":\"y\"}},\"id\":\"835a64ff-02fc-4bc5-b972-cfd324fb60c5\",\"type\":\"Line\"},{\"attributes\":{\"source\":{\"id\":\"e838f77e-4571-40e3-8f11-cf011e3aaad1\",\"type\":\"ColumnDataSource\"}},\"id\":\"8ce6112b-dfc3-4a96-a4b9-ac999a5a50f4\",\"type\":\"CDSView\"},{\"attributes\":{\"fill_alpha\":{\"value\":0.7},\"fill_color\":{\"value\":\"#984ea3\"},\"line_alpha\":{\"value\":0.7},\"line_color\":{\"value\":\"#984ea3\"},\"x\":{\"field\":\"x\"},\"y\":{\"field\":\"y\"}},\"id\":\"00a5bb1d-0f7f-41f7-8b38-737af7095ec6\",\"type\":\"Square\"},{\"attributes\":{},\"id\":\"4717e30d-af75-4ade-98df-c952af084fad\",\"type\":\"LinearScale\"},{\"attributes\":{},\"id\":\"8d74b7b7-00ab-44aa-a663-acc3f18351ff\",\"type\":\"PanTool\"},{\"attributes\":{\"plot\":{\"id\":\"934ace36-3544-437d-b1ca-d9fd95fdbaf3\",\"subtype\":\"Figure\",\"type\":\"Plot\"},\"ticker\":{\"id\":\"542b2018-bd9d-4d5b-a439-63ec56cc96e1\",\"type\":\"BasicTicker\"}},\"id\":\"8e12a9d5-84d7-4017-af83-de6be7fb0f37\",\"type\":\"Grid\"},{\"attributes\":{\"bottom_units\":\"screen\",\"fill_alpha\":{\"value\":0.5},\"fill_color\":{\"value\":\"lightgrey\"},\"left_units\":\"screen\",\"level\":\"overlay\",\"line_alpha\":{\"value\":1.0},\"line_color\":{\"value\":\"black\"},\"line_dash\":[4,4],\"line_width\":{\"value\":2},\"plot\":null,\"render_mode\":\"css\",\"right_units\":\"screen\",\"top_units\":\"screen\"},\"id\":\"6f035cd5-23da-4efa-ac46-00ba05f0aa2e\",\"type\":\"BoxAnnotation\"},{\"attributes\":{\"line_alpha\":0.6,\"line_color\":\"#984ea3\",\"line_width\":3,\"x\":{\"field\":\"x\"},\"y\":{\"field\":\"y\"}},\"id\":\"42383768-dc58-45ac-92d6-2bb1f0a95979\",\"type\":\"Line\"},{\"attributes\":{\"line_alpha\":0.1,\"line_color\":\"#1f77b4\",\"line_width\":3,\"x\":{\"field\":\"x\"},\"y\":{\"field\":\"y\"}},\"id\":\"e5c1d928-7a01-49a5-bf63-041adba8da19\",\"type\":\"Line\"},{\"attributes\":{\"num_minor_ticks\":10},\"id\":\"0a377b56-a773-4a4d-a69a-69f4eff68642\",\"type\":\"LogTicker\"},{\"attributes\":{\"axis_label\":\"pressure [mb]\",\"formatter\":{\"id\":\"e916588a-c726-4926-b3b9-d3c4914130d4\",\"type\":\"LogTickFormatter\"},\"plot\":{\"id\":\"934ace36-3544-437d-b1ca-d9fd95fdbaf3\",\"subtype\":\"Figure\",\"type\":\"Plot\"},\"ticker\":{\"id\":\"0a377b56-a773-4a4d-a69a-69f4eff68642\",\"type\":\"LogTicker\"}},\"id\":\"536c3dff-bf12-46d0-82e4-a2426b4920df\",\"type\":\"LogAxis\"},{\"attributes\":{\"children\":[{\"id\":\"84af36a4-31f8-46ce-b86c-98c8f5df1dc8\",\"type\":\"Row\"}]},\"id\":\"1e56fd8d-3064-40a9-830f-246b06805e61\",\"type\":\"Column\"},{\"attributes\":{},\"id\":\"4c5f7b71-3998-4bab-af84-16bd74c3926e\",\"type\":\"WheelZoomTool\"},{\"attributes\":{},\"id\":\"da88b5ad-9a50-4dc5-bb12-d1bfec944b1b\",\"type\":\"LogScale\"},{\"attributes\":{\"ticker\":null},\"id\":\"e916588a-c726-4926-b3b9-d3c4914130d4\",\"type\":\"LogTickFormatter\"},{\"attributes\":{\"source\":{\"id\":\"4920460f-391d-4329-b5a0-8f962c13a95e\",\"type\":\"ColumnDataSource\"}},\"id\":\"35b791f0-a539-4b8b-9003-773198b72c23\",\"type\":\"CDSView\"},{\"attributes\":{\"source\":{\"id\":\"942b7d3c-df88-46fb-8d6b-4e2006082c89\",\"type\":\"ColumnDataSource\"}},\"id\":\"175d3240-8f50-4d8e-a53f-ab99d8a3643f\",\"type\":\"CDSView\"},{\"attributes\":{\"dimension\":1,\"plot\":{\"id\":\"934ace36-3544-437d-b1ca-d9fd95fdbaf3\",\"subtype\":\"Figure\",\"type\":\"Plot\"},\"ticker\":{\"id\":\"0a377b56-a773-4a4d-a69a-69f4eff68642\",\"type\":\"LogTicker\"}},\"id\":\"1218af9a-838d-4e9b-acd1-f7d81bfab665\",\"type\":\"Grid\"},{\"attributes\":{\"fill_alpha\":{\"value\":0.1},\"fill_color\":{\"value\":\"#1f77b4\"},\"line_alpha\":{\"value\":0.1},\"line_color\":{\"value\":\"#1f77b4\"},\"x\":{\"field\":\"x\"},\"y\":{\"field\":\"y\"}},\"id\":\"765f181c-2b2c-45b7-8c3a-21e5439700fd\",\"type\":\"Square\"},{\"attributes\":{\"axis_label\":\"cooling rate [K/day]\",\"formatter\":{\"id\":\"cc72a845-c1aa-41c3-aab5-a762b4e97503\",\"type\":\"BasicTickFormatter\"},\"plot\":{\"id\":\"934ace36-3544-437d-b1ca-d9fd95fdbaf3\",\"subtype\":\"Figure\",\"type\":\"Plot\"},\"ticker\":{\"id\":\"542b2018-bd9d-4d5b-a439-63ec56cc96e1\",\"type\":\"BasicTicker\"}},\"id\":\"22b9279b-b372-453e-aa71-66beaf85a75e\",\"type\":\"LinearAxis\"},{\"attributes\":{\"label\":{\"value\":\"WGT igg=10 wgt_flux=2\"},\"renderers\":[{\"id\":\"fe954126-ad43-475f-9b02-b274a4c7feae\",\"type\":\"GlyphRenderer\"},{\"id\":\"2d89db56-35dc-4aea-b131-6a5fa5f11c7c\",\"type\":\"GlyphRenderer\"}]},\"id\":\"07f01a85-64da-4b35-9c0b-a4290192a0bd\",\"type\":\"LegendItem\"},{\"attributes\":{\"callback\":null,\"end\":0.20190930306,\"start\":-0.025042029060000002},\"id\":\"3e3687ac-814b-4c42-a00a-97ecec465ffb\",\"type\":\"Range1d\"},{\"attributes\":{\"active_drag\":\"auto\",\"active_inspect\":\"auto\",\"active_scroll\":\"auto\",\"active_tap\":\"auto\",\"tools\":[{\"id\":\"164d845f-b529-4ad9-b013-2dcf65505267\",\"type\":\"PanTool\"},{\"id\":\"598f7eb4-35ad-478a-ad63-bb3bd8a0e853\",\"type\":\"WheelZoomTool\"},{\"id\":\"edbb9afe-bc0c-4783-aec5-6e2117b7ab0b\",\"type\":\"BoxZoomTool\"},{\"id\":\"4ed93d96-71b8-48a7-ac28-c21292d0feed\",\"type\":\"SaveTool\"},{\"id\":\"f20abd51-950f-48bb-9a7a-d4a5ecbfc9b3\",\"type\":\"ResetTool\"},{\"id\":\"1bbdd274-4685-4682-a8b2-8459f76049f8\",\"type\":\"HelpTool\"}]},\"id\":\"fe13d5e2-4d43-415c-a7f1-c38d9347c65f\",\"type\":\"Toolbar\"},{\"attributes\":{},\"id\":\"099d3dfa-0736-47dc-b9ac-85b4b6b938c5\",\"type\":\"BasicTickFormatter\"},{\"attributes\":{\"fill_alpha\":{\"value\":0.1},\"fill_color\":{\"value\":\"#1f77b4\"},\"line_alpha\":{\"value\":0.1},\"line_color\":{\"value\":\"#1f77b4\"},\"x\":{\"field\":\"x\"},\"y\":{\"field\":\"y\"}},\"id\":\"9fe6ef98-f948-4b74-b484-fa3a6a70c197\",\"type\":\"Circle\"},{\"attributes\":{\"below\":[{\"id\":\"22b9279b-b372-453e-aa71-66beaf85a75e\",\"type\":\"LinearAxis\"}],\"left\":[{\"id\":\"536c3dff-bf12-46d0-82e4-a2426b4920df\",\"type\":\"LogAxis\"}],\"plot_height\":500,\"plot_width\":560,\"renderers\":[{\"id\":\"22b9279b-b372-453e-aa71-66beaf85a75e\",\"type\":\"LinearAxis\"},{\"id\":\"8e12a9d5-84d7-4017-af83-de6be7fb0f37\",\"type\":\"Grid\"},{\"id\":\"536c3dff-bf12-46d0-82e4-a2426b4920df\",\"type\":\"LogAxis\"},{\"id\":\"1218af9a-838d-4e9b-acd1-f7d81bfab665\",\"type\":\"Grid\"},{\"id\":\"6f035cd5-23da-4efa-ac46-00ba05f0aa2e\",\"type\":\"BoxAnnotation\"},{\"id\":\"095ab7be-4ba1-4adc-824b-17f661594b0d\",\"type\":\"GlyphRenderer\"},{\"id\":\"e14414b7-a3fc-416f-a321-908b11f10c31\",\"type\":\"GlyphRenderer\"},{\"id\":\"0ecb5c46-7fcb-4966-9125-571c9e1c524d\",\"type\":\"GlyphRenderer\"},{\"id\":\"fe954126-ad43-475f-9b02-b274a4c7feae\",\"type\":\"GlyphRenderer\"},{\"id\":\"2d89db56-35dc-4aea-b131-6a5fa5f11c7c\",\"type\":\"GlyphRenderer\"},{\"id\":\"dab32693-7148-4651-8854-3f18207fea2a\",\"type\":\"Legend\"}],\"right\":[{\"id\":\"dab32693-7148-4651-8854-3f18207fea2a\",\"type\":\"Legend\"}],\"title\":{\"id\":\"905489e1-1d80-4575-a315-e9b946bceb5f\",\"type\":\"Title\"},\"toolbar\":{\"id\":\"742b2df7-096f-4c61-95a2-afa26d11203e\",\"type\":\"Toolbar\"},\"toolbar_location\":null,\"x_range\":{\"id\":\"cf5ac221-d2c8-4a63-8f1f-ed2b2eda7fa5\",\"type\":\"Range1d\"},\"x_scale\":{\"id\":\"4717e30d-af75-4ade-98df-c952af084fad\",\"type\":\"LinearScale\"},\"y_range\":{\"id\":\"87ed09cf-c5fb-48fb-9ed0-ecc75b2ce243\",\"type\":\"Range1d\"},\"y_scale\":{\"id\":\"da88b5ad-9a50-4dc5-bb12-d1bfec944b1b\",\"type\":\"LogScale\"}},\"id\":\"934ace36-3544-437d-b1ca-d9fd95fdbaf3\",\"subtype\":\"Figure\",\"type\":\"Plot\"},{\"attributes\":{\"source\":{\"id\":\"2cd4d366-6557-443f-9207-376c4c8e39da\",\"type\":\"ColumnDataSource\"}},\"id\":\"ef8faf8c-cf65-4c21-9dcf-a818a101524f\",\"type\":\"CDSView\"},{\"attributes\":{\"line_alpha\":0.1,\"line_color\":\"#1f77b4\",\"line_dash\":[6],\"line_width\":5,\"x\":{\"field\":\"x\"},\"y\":{\"field\":\"y\"}},\"id\":\"01cd802b-5819-42ba-8b44-22054ed59b34\",\"type\":\"Line\"},{\"attributes\":{},\"id\":\"64e229a1-444f-482e-bd92-6717f4121741\",\"type\":\"SaveTool\"},{\"attributes\":{\"overlay\":{\"id\":\"6f035cd5-23da-4efa-ac46-00ba05f0aa2e\",\"type\":\"BoxAnnotation\"}},\"id\":\"f4af4f19-7c0c-49e8-b836-76bb90c9a8f5\",\"type\":\"BoxZoomTool\"},{\"attributes\":{\"callback\":null,\"column_names\":[\"x\",\"y\"],\"data\":{\"x\":{\"__ndarray__\":\"6er/niG61D9LnrlKxOHUPxa5zTrDkdU/q030nIhJ1j/stDLmOuPWPznPkpsVW9c/T2m/Hc6o1z+LFBbycLvXPzpoAoR3f9c/rg3lVIPf1j/j25ggssLVP/eP/nkxBtQ/N7hivaOG0T9bxV5ueKHMP4MIbxlPTco/ZBvVNKq+zj+8+b+9LAfSPxGD2rwokdM/4lFwzXXK1D8XxNeFBVHXP/KQxGjVON0//myIv4yY4z+VLYngNSjlP3lS0Vkg+eI/odku+WVH4D9LAL9Q2GnaP8643dlXmNU/9PqVDMTs0T8tH/NizXTNP5fCX6qobsc/u0P/N9LswT/S0/Rb4HW6Pw+9KsNH9rI/8RyGe2Hlqz/BMOoVPI6eP1gJARJhCVS/Dlx5F5/Alr/3PuqnW8mSv/v3EDlXskk/JMN0/xxPij+75VR3OcOXPz8XfZlmdqA/CBZlI1hkpD9cVkl19sinPzZn6Mf1yao/H9PAEc+HrT9dtfb8CgywP48oNg8zSLE/dfg7mO17sj+bpaSriKqzPzjKH6hd1rQ/Ole6BOP/tT+Su7836yW3Px/1FItaRLg/bCestB1duT9/cllKKnC6P82OI9c6frs/jGzwuUeLvD9+eV1Ac569P/WJHAaQvb4/pR+ZATvhvz/VsQsT7mLAPxXwnuIbdcA/ZOkPJLEQwD+U7f7ly9e+P+hlZ9Gwtr0/ljqQwUEwvT/5ixPcYVe9P8D51mos8b0/1pSorajBvj/5zV/o1ra/P6RyosoCbsA/MUBa/hsqwT+DZQ8C8jzCP6TxxFvsisQ/\",\"dtype\":\"float64\",\"shape\":[75]},\"y\":{\"__ndarray__\":\"GhExyth1ND/Sv8nbtpRIP2vylNV0PVE/aTum7souWD/At0SJ8fVgPw3Iuahxymc/MSNhhJWvcD/bTfBN02d3P2zb5nxnaoA/CD5h5MAGhz8NmeH1TyaQP+zrCsc9p5Y/LbKd76fGnz/bLW5ISEmmPww9YvTcQq8/JV2OstnstT8Er5Y7M8G+P0c+r3jqkcU/5h99k6ZBzj88bCIzFzjVP4enV8oyxN0//yH99nXg5D8qOpLLf0jtP5kqGJXUifQ/c9cS8kHP/D+/DpwzojQEQIEmwoanVwxA4lgXt9HgE0BSSZ2AJuIbQAMJih9jjiNA5q4l5INuK0AwTKYKRj0zQNv5fmq8/DpAaCJseHrtQkB/+zpwzoxKQM3MzMzMeFJAZmZmZmZqWEAAAAAAAFxeQM3MzMzMJmJAmpmZmZkfZUBmZmZmZhhoQDMzMzMzEWtAAAAAAAAKbkBmZmZmZoFwQM3MzMzM/XFAMzMzMzN6c0CamZmZmfZ0QAAAAAAAc3ZAZmZmZmbvd0DNzMzMzGt5QDMzMzMz6HpAmpmZmZlkfEAAAAAAAOF9QGZmZmZmXX9AZmZmZuZsgECamZmZGSuBQM3MzMxM6YFAAAAAAICngkAzMzMzs2WDQGZmZmbmI4RAmpmZmRnihEDNzMzMTKCFQAAAAACAXoZAMzMzM7Mch0BmZmZm5tqHQJqZmZkZmYhAzczMzExXiUAAAAAAgBWKQDMzMzOz04pAZmZmZuaRi0CamZmZGVCMQM3MzMxMDo1AAAAAAIDMjUAzMzMzs4qOQGZmZmbmSI9A\",\"dtype\":\"float64\",\"shape\":[75]}}},\"id\":\"e838f77e-4571-40e3-8f11-cf011e3aaad1\",\"type\":\"ColumnDataSource\"},{\"attributes\":{},\"id\":\"bfac0de4-6ca1-4dbe-b20f-f02251ae380c\",\"type\":\"LinearScale\"},{\"attributes\":{\"callback\":null,\"end\":0.01,\"start\":1020},\"id\":\"87ed09cf-c5fb-48fb-9ed0-ecc75b2ce243\",\"type\":\"Range1d\"},{\"attributes\":{},\"id\":\"542b2018-bd9d-4d5b-a439-63ec56cc96e1\",\"type\":\"BasicTicker\"},{\"attributes\":{\"line_alpha\":0.6,\"line_color\":\"#e41a1c\",\"line_dash\":[6],\"line_width\":5,\"x\":{\"field\":\"x\"},\"y\":{\"field\":\"y\"}},\"id\":\"cc0da252-5216-4e4a-87ef-4992f91a8245\",\"type\":\"Line\"},{\"attributes\":{\"plot\":null,\"text\":\"Linear pressure scale\"},\"id\":\"478e9998-bf6b-49e8-863f-486a89a91c79\",\"type\":\"Title\"},{\"attributes\":{\"plot\":null,\"text\":\"Log pressure scale\"},\"id\":\"905489e1-1d80-4575-a315-e9b946bceb5f\",\"type\":\"Title\"},{\"attributes\":{\"callback\":null,\"column_names\":[\"x\",\"y\"],\"data\":{\"x\":{\"__ndarray__\":\"gewW/Xgaxz8TDXP+/ZTIP0R51blYh8E/vidBRfa90j++P5QePMnUP2UDp0YBhcs/yWst5d8b0j9wLax+GUrSPz3wlIIsU9Q/kt5gPSjH1D/zQJ48sAzVPz0pUf4Hu9M/a4Jm3y4e0z/FYUBhFjvRPyokFZ2X0NA/sNSKoWK90z8m139j8OzWP32vhGLpS9g/F9/lXGnd2T/EA5D70jLfPwTI8b9sjeU/oh7sXjih7T+V16WhofruP1OG/eB0Oeo/r9fLIW+65D9f8AYko7veP64fzR6JE9c/UV4SBBvZ0T9GfVAfmtzLPw808rvhJcU/gYQXM3hOvz8O+98/TRW2P9CJI2CLFa4/36zV35H/pD9fel6ejPmUP4SVNz1w2W6/z0JymlQgkr9Oa1kSLlGKv6hI+r78cXI/eP4pXxRgkT8qsZb7FxqdP3TwFL4z5KM/sxqMvYm0qD8XzQKhgOOsP8muvv5HTbA/Y6jhYBHxsT8yuuQBKvGzP+WgVmHL3LU/1/GzH5a+tz+LKeSMWd25Pxtwry+GMLw/FF04jFlhvj/eCChgfTTAPyuaGNwgJME/KPID27Emwj/lki4mywPDP/8bg2elvcM/i5A2ZdlZxD/Z30S6wOHEPwviTcgYacU/3hbRG5PqxT/kLiU/oDvGP0XikqEyF8Y/lklHGIpkxT9/MXzAE2XEP1+5vShqfsM/ZZ/wpwD3wj8CgyAXB93CP7EPup3gD8M/F/zsNl5wwz8qATEJF/LDP+DmAerVmcQ/7/BsyYl6xT+KvBclCb7GP/CYiTtBj8k/\",\"dtype\":\"float64\",\"shape\":[75]},\"y\":{\"__ndarray__\":\"S/O/Q+51ND/430zAtpRIP2vylNV0PVE/QxsjCssuWD/TR4Z78fVgP+inNsRxymc/OuuBfZWvcD/u3TFA02d3P2d3VoBnaoA/CD5h5MAGhz/1pA8HUCaQP+zrCsc9p5Y/Fb7LAKjGnz/nJ9c/SEmmPwBD+fzcQq8/FOZwv9nstT8Er5Y7M8G+P0c+r3jqkcU/yK72qKZBzj+tM989FzjVPxbgmr8yxN0/cOm5AXbg5D+5ctXAf0jtP5kqGJXUifQ/DsrqDELP/D8MCAhBojQEQDItVnmnVwxAiFXNvdHgE0BSSZ2AJuIbQAMJih9jjiNA5q4l5INuK0CPVN/5RT0zQHzxRXu8/DpAOZ7PgHrtQkAg8wGBzoxKQBSTN8DMeFJA2NmQf2ZqWEAAAAAAAFxeQEQX1LfMJmJAmpmZmZkfZUBmZmZmZhhoQLzoK0gzEWtAAAAAAAAKbkCiC+pbZoFwQAhyUMLM/XFA+I2vPTN6c0AQ5KCEmfZ0QAAAAAAAc3ZA8Btfe2bvd0AIclDCzGt5QPeNrz0z6HpAEOSghJlkfEAAAAAAAOF9QKML6ltmXX9ABTkoYeZsgED7xteeGSuBQAhyUMJM6YFAAAAAAICngkD4ja89s2WDQAU5KGHmI4RA+8bXnhnihEAIclDCTKCFQAAAAACAXoZA+I2vPbMch0AFOShh5tqHQPvG154ZmYhACHJQwkxXiUAAAAAAgBWKQPeNrz2z04pABTkoYeaRi0D7xteeGVCMQAlyUMJMDo1AAAAAAIDMjUD3ja89s4qOQGZmZmbmSI9A\",\"dtype\":\"float64\",\"shape\":[75]}}},\"id\":\"2cd4d366-6557-443f-9207-376c4c8e39da\",\"type\":\"ColumnDataSource\"},{\"attributes\":{},\"id\":\"fd0a57c9-b746-4448-a8aa-f0fb1d8e411b\",\"type\":\"HelpTool\"},{\"attributes\":{\"children\":[{\"id\":\"f7dc7a9f-2c46-4e1f-a709-a33aee34e4a4\",\"subtype\":\"Figure\",\"type\":\"Plot\"},{\"id\":\"934ace36-3544-437d-b1ca-d9fd95fdbaf3\",\"subtype\":\"Figure\",\"type\":\"Plot\"}]},\"id\":\"84af36a4-31f8-46ce-b86c-98c8f5df1dc8\",\"type\":\"Row\"},{\"attributes\":{\"active_drag\":\"auto\",\"active_inspect\":\"auto\",\"active_scroll\":\"auto\",\"active_tap\":\"auto\",\"tools\":[{\"id\":\"8d74b7b7-00ab-44aa-a663-acc3f18351ff\",\"type\":\"PanTool\"},{\"id\":\"4c5f7b71-3998-4bab-af84-16bd74c3926e\",\"type\":\"WheelZoomTool\"},{\"id\":\"f4af4f19-7c0c-49e8-b836-76bb90c9a8f5\",\"type\":\"BoxZoomTool\"},{\"id\":\"64e229a1-444f-482e-bd92-6717f4121741\",\"type\":\"SaveTool\"},{\"id\":\"99a748f8-13ae-414f-b474-be31c8e7175a\",\"type\":\"ResetTool\"},{\"id\":\"fd0a57c9-b746-4448-a8aa-f0fb1d8e411b\",\"type\":\"HelpTool\"}]},\"id\":\"742b2df7-096f-4c61-95a2-afa26d11203e\",\"type\":\"Toolbar\"},{\"attributes\":{},\"id\":\"99a748f8-13ae-414f-b474-be31c8e7175a\",\"type\":\"ResetTool\"}],\"root_ids\":[\"8982ad41-10c0-4b27-99cb-aa8b1a0b691e\"]},\"title\":\"Bokeh Application\",\"version\":\"0.12.14\"}};\n",
       "  var render_items = [{\"docid\":\"a60f443a-b091-4b05-b8a4-98382db3ee9d\",\"elementid\":\"ae8e6f4d-7da3-466e-9498-eae5add84e81\",\"modelid\":\"8982ad41-10c0-4b27-99cb-aa8b1a0b691e\"}];\n",
       "  root.Bokeh.embed.embed_items_notebook(docs_json, render_items);\n",
       "\n",
       "  }\n",
       "  if (root.Bokeh !== undefined) {\n",
       "    embed_document(root);\n",
       "  } else {\n",
       "    var attempts = 0;\n",
       "    var timer = setInterval(function(root) {\n",
       "      if (root.Bokeh !== undefined) {\n",
       "        embed_document(root);\n",
       "        clearInterval(timer);\n",
       "      }\n",
       "      attempts++;\n",
       "      if (attempts > 100) {\n",
       "        console.log(\"Bokeh: ERROR: Unable to run BokehJS code because BokehJS library is missing\")\n",
       "        clearInterval(timer);\n",
       "      }\n",
       "    }, 10, root)\n",
       "  }\n",
       "})(window);"
      ],
      "application/vnd.bokehjs_exec.v0+json": ""
     },
     "metadata": {
      "application/vnd.bokehjs_exec.v0+json": {
       "id": "8982ad41-10c0-4b27-99cb-aa8b1a0b691e"
      }
     },
     "output_type": "display_data"
    },
    {
     "name": "stdout",
     "output_type": "stream",
     "text": [
      "FIGURE. Cooling rate profiles.\n"
     ]
    },
    {
     "data": {
      "text/html": [
       "<a id=\"Flux_Comparison\"></a>"
      ],
      "text/plain": [
       "<IPython.core.display.HTML object>"
      ]
     },
     "metadata": {},
     "output_type": "display_data"
    },
    {
     "data": {
      "text/markdown": [
       "# Flux Comparison"
      ],
      "text/plain": [
       "<IPython.core.display.Markdown object>"
      ]
     },
     "metadata": {},
     "output_type": "display_data"
    },
    {
     "data": {
      "text/html": [
       "<div>\n",
       "<style>\n",
       "    .dataframe thead tr:only-child th {\n",
       "        text-align: right;\n",
       "    }\n",
       "\n",
       "    .dataframe thead th {\n",
       "        text-align: left;\n",
       "    }\n",
       "\n",
       "    .dataframe tbody tr th {\n",
       "        vertical-align: top;\n",
       "    }\n",
       "</style>\n",
       "<table border=\"1\" class=\"dataframe\">\n",
       "  <thead>\n",
       "    <tr style=\"text-align: right;\">\n",
       "      <th></th>\n",
       "      <th></th>\n",
       "      <th>flug</th>\n",
       "      <th>fldg</th>\n",
       "      <th>fnetg</th>\n",
       "    </tr>\n",
       "    <tr>\n",
       "      <th>pressure</th>\n",
       "      <th>level</th>\n",
       "      <th></th>\n",
       "      <th></th>\n",
       "      <th></th>\n",
       "    </tr>\n",
       "  </thead>\n",
       "  <tbody>\n",
       "    <tr>\n",
       "      <th>0.0000</th>\n",
       "      <th>1</th>\n",
       "      <td>-30.883318</td>\n",
       "      <td>0.000000</td>\n",
       "      <td>-30.883318</td>\n",
       "    </tr>\n",
       "    <tr>\n",
       "      <th>1.0685</th>\n",
       "      <th>24</th>\n",
       "      <td>-30.884221</td>\n",
       "      <td>0.063546</td>\n",
       "      <td>-30.820675</td>\n",
       "    </tr>\n",
       "    <tr>\n",
       "      <th>1013.0000</th>\n",
       "      <th>76</th>\n",
       "      <td>-38.491735</td>\n",
       "      <td>18.001046</td>\n",
       "      <td>-20.490688</td>\n",
       "    </tr>\n",
       "  </tbody>\n",
       "</table>\n",
       "</div>"
      ],
      "text/plain": [
       "                      flug       fldg      fnetg\n",
       "pressure  level                                 \n",
       "0.0000    1     -30.883318   0.000000 -30.883318\n",
       "1.0685    24    -30.884221   0.063546 -30.820675\n",
       "1013.0000 76    -38.491735  18.001046 -20.490688"
      ]
     },
     "metadata": {},
     "output_type": "display_data"
    },
    {
     "name": "stdout",
     "output_type": "stream",
     "text": [
      "Table. Fluxes. WGT igg=10 wgt_flux=1\n"
     ]
    },
    {
     "data": {
      "text/html": [
       "<div>\n",
       "<style>\n",
       "    .dataframe thead tr:only-child th {\n",
       "        text-align: right;\n",
       "    }\n",
       "\n",
       "    .dataframe thead th {\n",
       "        text-align: left;\n",
       "    }\n",
       "\n",
       "    .dataframe tbody tr th {\n",
       "        vertical-align: top;\n",
       "    }\n",
       "</style>\n",
       "<table border=\"1\" class=\"dataframe\">\n",
       "  <thead>\n",
       "    <tr style=\"text-align: right;\">\n",
       "      <th></th>\n",
       "      <th></th>\n",
       "      <th>flug</th>\n",
       "      <th>fldg</th>\n",
       "      <th>fnetg</th>\n",
       "    </tr>\n",
       "    <tr>\n",
       "      <th>pressure</th>\n",
       "      <th>level</th>\n",
       "      <th></th>\n",
       "      <th></th>\n",
       "      <th></th>\n",
       "    </tr>\n",
       "  </thead>\n",
       "  <tbody>\n",
       "    <tr>\n",
       "      <th>0.0000</th>\n",
       "      <th>1</th>\n",
       "      <td>-30.877425</td>\n",
       "      <td>0.000000</td>\n",
       "      <td>-30.877425</td>\n",
       "    </tr>\n",
       "    <tr>\n",
       "      <th>1.0685</th>\n",
       "      <th>24</th>\n",
       "      <td>-30.878983</td>\n",
       "      <td>0.068611</td>\n",
       "      <td>-30.810372</td>\n",
       "    </tr>\n",
       "    <tr>\n",
       "      <th>1013.0000</th>\n",
       "      <th>76</th>\n",
       "      <td>-38.491734</td>\n",
       "      <td>17.950491</td>\n",
       "      <td>-20.541243</td>\n",
       "    </tr>\n",
       "  </tbody>\n",
       "</table>\n",
       "</div>"
      ],
      "text/plain": [
       "                      flug       fldg      fnetg\n",
       "pressure  level                                 \n",
       "0.0000    1     -30.877425   0.000000 -30.877425\n",
       "1.0685    24    -30.878983   0.068611 -30.810372\n",
       "1013.0000 76    -38.491734  17.950491 -20.541243"
      ]
     },
     "metadata": {},
     "output_type": "display_data"
    },
    {
     "name": "stdout",
     "output_type": "stream",
     "text": [
      "Table. Fluxes. CRD\n"
     ]
    },
    {
     "data": {
      "text/html": [
       "<div>\n",
       "<style>\n",
       "    .dataframe thead tr:only-child th {\n",
       "        text-align: right;\n",
       "    }\n",
       "\n",
       "    .dataframe thead th {\n",
       "        text-align: left;\n",
       "    }\n",
       "\n",
       "    .dataframe tbody tr th {\n",
       "        vertical-align: top;\n",
       "    }\n",
       "</style>\n",
       "<table border=\"1\" class=\"dataframe\">\n",
       "  <thead>\n",
       "    <tr style=\"text-align: right;\">\n",
       "      <th></th>\n",
       "      <th></th>\n",
       "      <th>flug</th>\n",
       "      <th>fldg</th>\n",
       "      <th>fnetg</th>\n",
       "    </tr>\n",
       "    <tr>\n",
       "      <th>pressure</th>\n",
       "      <th>level</th>\n",
       "      <th></th>\n",
       "      <th></th>\n",
       "      <th></th>\n",
       "    </tr>\n",
       "  </thead>\n",
       "  <tbody>\n",
       "    <tr>\n",
       "      <th>1.000000e-08</th>\n",
       "      <th>1</th>\n",
       "      <td>-30.321093</td>\n",
       "      <td>9.536743e-07</td>\n",
       "      <td>-30.321091</td>\n",
       "    </tr>\n",
       "    <tr>\n",
       "      <th>1.068500e+00</th>\n",
       "      <th>24</th>\n",
       "      <td>-30.318998</td>\n",
       "      <td>8.742696e-02</td>\n",
       "      <td>-30.231571</td>\n",
       "    </tr>\n",
       "    <tr>\n",
       "      <th>1.013000e+03</th>\n",
       "      <th>76</th>\n",
       "      <td>-38.491730</td>\n",
       "      <td>2.167985e+01</td>\n",
       "      <td>-16.811882</td>\n",
       "    </tr>\n",
       "  </tbody>\n",
       "</table>\n",
       "</div>"
      ],
      "text/plain": [
       "                         flug          fldg      fnetg\n",
       "pressure     level                                    \n",
       "1.000000e-08 1     -30.321093  9.536743e-07 -30.321091\n",
       "1.068500e+00 24    -30.318998  8.742696e-02 -30.231571\n",
       "1.013000e+03 76    -38.491730  2.167985e+01 -16.811882"
      ]
     },
     "metadata": {},
     "output_type": "display_data"
    },
    {
     "name": "stdout",
     "output_type": "stream",
     "text": [
      "Table. Fluxes. CLIRAD\n"
     ]
    },
    {
     "data": {
      "text/html": [
       "<div>\n",
       "<style>\n",
       "    .dataframe thead tr:only-child th {\n",
       "        text-align: right;\n",
       "    }\n",
       "\n",
       "    .dataframe thead th {\n",
       "        text-align: left;\n",
       "    }\n",
       "\n",
       "    .dataframe tbody tr th {\n",
       "        vertical-align: top;\n",
       "    }\n",
       "</style>\n",
       "<table border=\"1\" class=\"dataframe\">\n",
       "  <thead>\n",
       "    <tr style=\"text-align: right;\">\n",
       "      <th></th>\n",
       "      <th></th>\n",
       "      <th>flug</th>\n",
       "      <th>fldg</th>\n",
       "      <th>fnetg</th>\n",
       "    </tr>\n",
       "    <tr>\n",
       "      <th>pressure</th>\n",
       "      <th>level</th>\n",
       "      <th></th>\n",
       "      <th></th>\n",
       "      <th></th>\n",
       "    </tr>\n",
       "  </thead>\n",
       "  <tbody>\n",
       "    <tr>\n",
       "      <th>0.0000</th>\n",
       "      <th>1</th>\n",
       "      <td>5.893454e-03</td>\n",
       "      <td>0.000000</td>\n",
       "      <td>0.005893</td>\n",
       "    </tr>\n",
       "    <tr>\n",
       "      <th>1.0685</th>\n",
       "      <th>24</th>\n",
       "      <td>5.237929e-03</td>\n",
       "      <td>0.005065</td>\n",
       "      <td>0.010303</td>\n",
       "    </tr>\n",
       "    <tr>\n",
       "      <th>1013.0000</th>\n",
       "      <th>76</th>\n",
       "      <td>7.180000e-07</td>\n",
       "      <td>-0.050555</td>\n",
       "      <td>-0.050555</td>\n",
       "    </tr>\n",
       "  </tbody>\n",
       "</table>\n",
       "</div>"
      ],
      "text/plain": [
       "                         flug      fldg     fnetg\n",
       "pressure  level                                  \n",
       "0.0000    1      5.893454e-03  0.000000  0.005893\n",
       "1.0685    24     5.237929e-03  0.005065  0.010303\n",
       "1013.0000 76     7.180000e-07 -0.050555 -0.050555"
      ]
     },
     "metadata": {},
     "output_type": "display_data"
    },
    {
     "name": "stdout",
     "output_type": "stream",
     "text": [
      "Table. Fluxes. (CRD) - (WGT igg=10 wgt_flux=1)\n"
     ]
    },
    {
     "data": {
      "text/html": [
       "<div>\n",
       "<style>\n",
       "    .dataframe thead tr:only-child th {\n",
       "        text-align: right;\n",
       "    }\n",
       "\n",
       "    .dataframe thead th {\n",
       "        text-align: left;\n",
       "    }\n",
       "\n",
       "    .dataframe tbody tr th {\n",
       "        vertical-align: top;\n",
       "    }\n",
       "</style>\n",
       "<table border=\"1\" class=\"dataframe\">\n",
       "  <thead>\n",
       "    <tr style=\"text-align: right;\">\n",
       "      <th></th>\n",
       "      <th></th>\n",
       "      <th>flug</th>\n",
       "      <th>fldg</th>\n",
       "      <th>fnetg</th>\n",
       "    </tr>\n",
       "    <tr>\n",
       "      <th>pressure</th>\n",
       "      <th>level</th>\n",
       "      <th></th>\n",
       "      <th></th>\n",
       "      <th></th>\n",
       "    </tr>\n",
       "  </thead>\n",
       "  <tbody>\n",
       "    <tr>\n",
       "      <th>0.0000</th>\n",
       "      <th>1</th>\n",
       "      <td>0.562225</td>\n",
       "      <td>9.536743e-07</td>\n",
       "      <td>0.562227</td>\n",
       "    </tr>\n",
       "    <tr>\n",
       "      <th>1.0685</th>\n",
       "      <th>24</th>\n",
       "      <td>0.565223</td>\n",
       "      <td>2.388105e-02</td>\n",
       "      <td>0.589104</td>\n",
       "    </tr>\n",
       "    <tr>\n",
       "      <th>1013.0000</th>\n",
       "      <th>76</th>\n",
       "      <td>0.000005</td>\n",
       "      <td>3.678802e+00</td>\n",
       "      <td>3.678806</td>\n",
       "    </tr>\n",
       "  </tbody>\n",
       "</table>\n",
       "</div>"
      ],
      "text/plain": [
       "                     flug          fldg     fnetg\n",
       "pressure  level                                  \n",
       "0.0000    1      0.562225  9.536743e-07  0.562227\n",
       "1.0685    24     0.565223  2.388105e-02  0.589104\n",
       "1013.0000 76     0.000005  3.678802e+00  3.678806"
      ]
     },
     "metadata": {},
     "output_type": "display_data"
    },
    {
     "name": "stdout",
     "output_type": "stream",
     "text": [
      "Table. Fluxes. (CLIRAD) - (WGT igg=10 wgt_flux=1)\n"
     ]
    },
    {
     "data": {
      "text/html": [
       "<a id=\"Best-fit_Parameters\"></a>"
      ],
      "text/plain": [
       "<IPython.core.display.HTML object>"
      ]
     },
     "metadata": {},
     "output_type": "display_data"
    },
    {
     "data": {
      "text/markdown": [
       "# Best-fit Parameters"
      ],
      "text/plain": [
       "<IPython.core.display.Markdown object>"
      ]
     },
     "metadata": {},
     "output_type": "display_data"
    },
    {
     "name": "stdout",
     "output_type": "stream",
     "text": [
      "Best-fit values for each (gas, band)\n",
      "------------------------------------\n",
      "o co2 band3a\n",
      "  atmpro = mls\n",
      "  band = 3a\n",
      "  commitnumber = 2bd1f75\n",
      "  conc = 0.0004\n",
      "  dv = 0.01\n",
      "  klin = 6.375563e-24\n",
      "  molecule = co2\n",
      "  ng_adju = [0, 0, 0]\n",
      "  ng_refs = [3, 2, 4]\n",
      "  nv = 100\n",
      "  option_compute_btable = 0\n",
      "  option_compute_ktable = 1\n",
      "  option_wgt_flux = 1\n",
      "  option_wgt_k = 1\n",
      "  ref_pts = [(1, 250), (10, 250), (500, 250)]\n",
      "  tsfc = 294\n",
      "  vmax = 620\n",
      "  vmin = 540\n",
      "  w_diffuse = [(1.6, 1.6, 1.7), (1.75, 1.75), (1.55, 1.55, 1.6, 1.85)]\n",
      "  wgt = [(0.7, 0.3, 0.7), (0.7, 0.6), (0.4, 0.5, 0.8, 0.95)]\n"
     ]
    }
   ],
   "source": [
    "script()"
   ]
  },
  {
   "cell_type": "code",
   "execution_count": 13,
   "metadata": {
    "collapsed": true
   },
   "outputs": [
    {
     "data": {
      "text/html": [
       "<script>\n",
       "code_show=true; \n",
       "function code_toggle() {\n",
       " if (code_show){\n",
       " $('div.input').hide();\n",
       " } else {\n",
       " $('div.input').show();\n",
       " }\n",
       " code_show = !code_show\n",
       "} \n",
       "$( document ).ready(code_toggle);\n",
       "</script>\n",
       "<form action=\"javascript:code_toggle()\"><input type=\"submit\" value=\"Click here to toggle on/off the raw code.\"></form>"
      ],
      "text/plain": [
       "<IPython.core.display.HTML object>"
      ]
     },
     "execution_count": 13,
     "metadata": {},
     "output_type": "execute_result"
    }
   ],
   "source": [
    "display.HTML('''<script>\n",
    "code_show=true; \n",
    "function code_toggle() {\n",
    " if (code_show){\n",
    " $('div.input').hide();\n",
    " } else {\n",
    " $('div.input').show();\n",
    " }\n",
    " code_show = !code_show\n",
    "} \n",
    "$( document ).ready(code_toggle);\n",
    "</script>\n",
    "<form action=\"javascript:code_toggle()\"><input type=\"submit\" value=\"Click here to toggle on/off the raw code.\"></form>''')"
   ]
  }
 ],
 "metadata": {
  "kernelspec": {
   "display_name": "Python 3",
   "language": "python",
   "name": "python3"
  },
  "language_info": {
   "codemirror_mode": {
    "name": "ipython",
    "version": 3
   },
   "file_extension": ".py",
   "mimetype": "text/x-python",
   "name": "python",
   "nbconvert_exporter": "python",
   "pygments_lexer": "ipython3",
   "version": "3.6.1"
  }
 },
 "nbformat": 4,
 "nbformat_minor": 2
}
