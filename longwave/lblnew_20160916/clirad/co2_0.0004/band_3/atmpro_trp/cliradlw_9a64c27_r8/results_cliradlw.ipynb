{
 "cells": [
  {
   "cell_type": "code",
   "execution_count": 1,
   "metadata": {
    "collapsed": true
   },
   "outputs": [],
   "source": [
    "%matplotlib inline\n",
    "import os\n",
    "import re\n",
    "import io\n",
    "import itertools\n",
    "import pprint\n",
    "\n",
    "from bokeh.io import output_notebook, show\n",
    "from bokeh.layouts import gridplot\n",
    "from bokeh.plotting import figure\n",
    "from bokeh.models import Range1d, Legend\n",
    "from bokeh.palettes import all_palettes\n",
    "\n",
    "import matplotlib\n",
    "import matplotlib.pyplot as plt\n",
    "import numpy as np\n",
    "import pandas as pd\n",
    "import xarray as xr\n",
    "\n",
    "import climatools.lblnew.bestfit_params as bestfits\n",
    "from climatools.lblnew import setup_bestfit, setup_overlap\n",
    "import climatools.lblnew.pipeline as pipe_lblnew\n",
    "import climatools.cliradlw.setup as setup_cliradlw\n",
    "import climatools.cliradlw.pipeline as pipe_cliradlw\n",
    "\n",
    "import climatools.html.html as climahtml\n",
    "from climatools.lblnew.dataio import *\n",
    "from climatools.plot.plot import *\n",
    "\n",
    "\n",
    "import IPython.display as display"
   ]
  },
  {
   "cell_type": "code",
   "execution_count": 2,
   "metadata": {
    "collapsed": true
   },
   "outputs": [],
   "source": [
    "%run param.py"
   ]
  },
  {
   "cell_type": "code",
   "execution_count": 3,
   "metadata": {
    "collapsed": true
   },
   "outputs": [
    {
     "name": "stdout",
     "output_type": "stream",
     "text": [
      "The history saving thread hit an unexpected error (OperationalError('database is locked',)).History will not be written to the database.\n"
     ]
    }
   ],
   "source": [
    "def load_output_file(path_csv):\n",
    "    '''\n",
    "    Load lblnew output .csv file to xarray.Dataset\n",
    "    \n",
    "    Parameters\n",
    "    ----------\n",
    "    path_csv: str\n",
    "              Path to the .csv file to be loaded.\n",
    "    ds: xarray.Dataset\n",
    "        Data in the input file in the form of an xarray.Dataset.\n",
    "    '''\n",
    "    toindex = ['band', 'pressure', 'igg', 'g']    \n",
    "    df = pd.read_csv(path_csv, sep=r'\\s+')\n",
    "    df = df.set_index([i for i in toindex if i in df.columns])\n",
    "    df = df.rename(columns={'sfu': 'flug',\n",
    "                            'sfd': 'fldg',\n",
    "                            'fnet': 'fnetg',\n",
    "                            'coolr': 'coolrg'})\n",
    "    ds = xr.Dataset.from_dataframe(df)\n",
    "\n",
    "    for l in ('level', 'layer'):\n",
    "        if l in ds.data_vars:\n",
    "            if len(ds[l].dims) > 1:\n",
    "                surface = {d: 0 for d in ds.dims if d != 'pressure'}\n",
    "                coord_level = ds[l][surface]\n",
    "                ds.coords[l] = ('pressure', coord_level)\n",
    "            else:\n",
    "                ds.coords[l] = ('pressure', ds[l])\n",
    "    \n",
    "    return ds"
   ]
  },
  {
   "cell_type": "code",
   "execution_count": 4,
   "metadata": {
    "collapsed": true
   },
   "outputs": [],
   "source": [
    "def lblnew_setup(param=None):\n",
    "    if 'ng_refs' in param:\n",
    "        return {'setup': setup_bestfit,\n",
    "                'fname_flux_crd': 'output_flux.dat',\n",
    "                'fname_cool_crd': 'output_coolr.dat',\n",
    "                'fname_flux_wgt': 'output_wfluxg.dat',\n",
    "                'fname_cool_wgt': 'output_wcoolrg.dat'}\n",
    "    else:\n",
    "        return {'setup': setup_overlap,\n",
    "                'fname_flux_crd': 'output_flux.dat',\n",
    "                'fname_cool_crd': 'output_coolr.dat',\n",
    "                'fname_flux_wgt': 'output_wflux.dat',\n",
    "                'fname_cool_wgt': 'output_wcoolr.dat'}\n",
    "\n",
    "    \n",
    "def load_lblnew_data(param):\n",
    "    \n",
    "    fname_dsname = [('fname_flux_crd', 'ds_flux_crd'),\n",
    "                    ('fname_cool_crd', 'ds_cool_crd'),\n",
    "                    ('fname_flux_wgt', 'ds_flux_wgt'),\n",
    "                    ('fname_cool_wgt', 'ds_cool_wgt')]\n",
    "    \n",
    "    d = lblnew_setup(param)\n",
    "    dir_fortran = pipe_lblnew.get_dir_case(param, setup=d['setup'])\n",
    "    \n",
    "    data_dict = {}\n",
    "    for fname, dsname in fname_dsname:\n",
    "        fpath = os.path.join(dir_fortran, d[fname])\n",
    "        data_dict[dsname] = load_output_file(fpath)\n",
    "    return data_dict\n",
    "    \n",
    "\n",
    "    \n",
    "    "
   ]
  },
  {
   "cell_type": "code",
   "execution_count": 5,
   "metadata": {
    "collapsed": true
   },
   "outputs": [],
   "source": [
    "d = load_lblnew_data(PARAM_LBLNEW)\n",
    "\n",
    "DS_FLUX_CRD = d['ds_flux_crd']\n",
    "DS_COOL_CRD = d['ds_cool_crd']\n",
    "DS_FLUX_WGT = d['ds_flux_wgt']\n",
    "DS_COOL_WGT = d['ds_cool_wgt']"
   ]
  },
  {
   "cell_type": "code",
   "execution_count": 6,
   "metadata": {
    "collapsed": true
   },
   "outputs": [],
   "source": [
    "DIR_FORTRAN = pipe_cliradlw.get_fortran_dir(PARAM, \n",
    "                                            setup=setup_cliradlw)\n",
    "\n",
    "PATH_FLUX = os.path.join(DIR_FORTRAN, 'output_flux.dat')\n",
    "PATH_COOL = os.path.join(DIR_FORTRAN, 'output_coolr.dat')\n",
    "\n",
    "DS_FLUX = load_output_file(PATH_FLUX)\n",
    "DS_COOL = load_output_file(PATH_COOL)"
   ]
  },
  {
   "cell_type": "code",
   "execution_count": 7,
   "metadata": {
    "collapsed": true
   },
   "outputs": [
    {
     "data": {
      "text/html": [
       "\n",
       "    <div class=\"bk-root\">\n",
       "        <a href=\"https://bokeh.pydata.org\" target=\"_blank\" class=\"bk-logo bk-logo-small bk-logo-notebook\"></a>\n",
       "        <span id=\"a580e38d-5699-48db-9bcb-00bd2c8adfb2\">Loading BokehJS ...</span>\n",
       "    </div>"
      ]
     },
     "metadata": {},
     "output_type": "display_data"
    },
    {
     "data": {
      "application/javascript": [
       "\n",
       "(function(root) {\n",
       "  function now() {\n",
       "    return new Date();\n",
       "  }\n",
       "\n",
       "  var force = true;\n",
       "\n",
       "  if (typeof (root._bokeh_onload_callbacks) === \"undefined\" || force === true) {\n",
       "    root._bokeh_onload_callbacks = [];\n",
       "    root._bokeh_is_loading = undefined;\n",
       "  }\n",
       "\n",
       "  var JS_MIME_TYPE = 'application/javascript';\n",
       "  var HTML_MIME_TYPE = 'text/html';\n",
       "  var EXEC_MIME_TYPE = 'application/vnd.bokehjs_exec.v0+json';\n",
       "  var CLASS_NAME = 'output_bokeh rendered_html';\n",
       "\n",
       "  /**\n",
       "   * Render data to the DOM node\n",
       "   */\n",
       "  function render(props, node) {\n",
       "    var script = document.createElement(\"script\");\n",
       "    node.appendChild(script);\n",
       "  }\n",
       "\n",
       "  /**\n",
       "   * Handle when an output is cleared or removed\n",
       "   */\n",
       "  function handleClearOutput(event, handle) {\n",
       "    var cell = handle.cell;\n",
       "\n",
       "    var id = cell.output_area._bokeh_element_id;\n",
       "    var server_id = cell.output_area._bokeh_server_id;\n",
       "    // Clean up Bokeh references\n",
       "    if (id !== undefined) {\n",
       "      Bokeh.index[id].model.document.clear();\n",
       "      delete Bokeh.index[id];\n",
       "    }\n",
       "\n",
       "    if (server_id !== undefined) {\n",
       "      // Clean up Bokeh references\n",
       "      var cmd = \"from bokeh.io.state import curstate; print(curstate().uuid_to_server['\" + server_id + \"'].get_sessions()[0].document.roots[0]._id)\";\n",
       "      cell.notebook.kernel.execute(cmd, {\n",
       "        iopub: {\n",
       "          output: function(msg) {\n",
       "            var element_id = msg.content.text.trim();\n",
       "            Bokeh.index[element_id].model.document.clear();\n",
       "            delete Bokeh.index[element_id];\n",
       "          }\n",
       "        }\n",
       "      });\n",
       "      // Destroy server and session\n",
       "      var cmd = \"import bokeh.io.notebook as ion; ion.destroy_server('\" + server_id + \"')\";\n",
       "      cell.notebook.kernel.execute(cmd);\n",
       "    }\n",
       "  }\n",
       "\n",
       "  /**\n",
       "   * Handle when a new output is added\n",
       "   */\n",
       "  function handleAddOutput(event, handle) {\n",
       "    var output_area = handle.output_area;\n",
       "    var output = handle.output;\n",
       "\n",
       "    // limit handleAddOutput to display_data with EXEC_MIME_TYPE content only\n",
       "    if ((output.output_type != \"display_data\") || (!output.data.hasOwnProperty(EXEC_MIME_TYPE))) {\n",
       "      return\n",
       "    }\n",
       "\n",
       "    var toinsert = output_area.element.find(\".\" + CLASS_NAME.split(' ')[0]);\n",
       "\n",
       "    if (output.metadata[EXEC_MIME_TYPE][\"id\"] !== undefined) {\n",
       "      toinsert[0].firstChild.textContent = output.data[JS_MIME_TYPE];\n",
       "      // store reference to embed id on output_area\n",
       "      output_area._bokeh_element_id = output.metadata[EXEC_MIME_TYPE][\"id\"];\n",
       "    }\n",
       "    if (output.metadata[EXEC_MIME_TYPE][\"server_id\"] !== undefined) {\n",
       "      var bk_div = document.createElement(\"div\");\n",
       "      bk_div.innerHTML = output.data[HTML_MIME_TYPE];\n",
       "      var script_attrs = bk_div.children[0].attributes;\n",
       "      for (var i = 0; i < script_attrs.length; i++) {\n",
       "        toinsert[0].firstChild.setAttribute(script_attrs[i].name, script_attrs[i].value);\n",
       "      }\n",
       "      // store reference to server id on output_area\n",
       "      output_area._bokeh_server_id = output.metadata[EXEC_MIME_TYPE][\"server_id\"];\n",
       "    }\n",
       "  }\n",
       "\n",
       "  function register_renderer(events, OutputArea) {\n",
       "\n",
       "    function append_mime(data, metadata, element) {\n",
       "      // create a DOM node to render to\n",
       "      var toinsert = this.create_output_subarea(\n",
       "        metadata,\n",
       "        CLASS_NAME,\n",
       "        EXEC_MIME_TYPE\n",
       "      );\n",
       "      this.keyboard_manager.register_events(toinsert);\n",
       "      // Render to node\n",
       "      var props = {data: data, metadata: metadata[EXEC_MIME_TYPE]};\n",
       "      render(props, toinsert[0]);\n",
       "      element.append(toinsert);\n",
       "      return toinsert\n",
       "    }\n",
       "\n",
       "    /* Handle when an output is cleared or removed */\n",
       "    events.on('clear_output.CodeCell', handleClearOutput);\n",
       "    events.on('delete.Cell', handleClearOutput);\n",
       "\n",
       "    /* Handle when a new output is added */\n",
       "    events.on('output_added.OutputArea', handleAddOutput);\n",
       "\n",
       "    /**\n",
       "     * Register the mime type and append_mime function with output_area\n",
       "     */\n",
       "    OutputArea.prototype.register_mime_type(EXEC_MIME_TYPE, append_mime, {\n",
       "      /* Is output safe? */\n",
       "      safe: true,\n",
       "      /* Index of renderer in `output_area.display_order` */\n",
       "      index: 0\n",
       "    });\n",
       "  }\n",
       "\n",
       "  // register the mime type if in Jupyter Notebook environment and previously unregistered\n",
       "  if (root.Jupyter !== undefined) {\n",
       "    var events = require('base/js/events');\n",
       "    var OutputArea = require('notebook/js/outputarea').OutputArea;\n",
       "\n",
       "    if (OutputArea.prototype.mime_types().indexOf(EXEC_MIME_TYPE) == -1) {\n",
       "      register_renderer(events, OutputArea);\n",
       "    }\n",
       "  }\n",
       "\n",
       "  \n",
       "  if (typeof (root._bokeh_timeout) === \"undefined\" || force === true) {\n",
       "    root._bokeh_timeout = Date.now() + 5000;\n",
       "    root._bokeh_failed_load = false;\n",
       "  }\n",
       "\n",
       "  var NB_LOAD_WARNING = {'data': {'text/html':\n",
       "     \"<div style='background-color: #fdd'>\\n\"+\n",
       "     \"<p>\\n\"+\n",
       "     \"BokehJS does not appear to have successfully loaded. If loading BokehJS from CDN, this \\n\"+\n",
       "     \"may be due to a slow or bad network connection. Possible fixes:\\n\"+\n",
       "     \"</p>\\n\"+\n",
       "     \"<ul>\\n\"+\n",
       "     \"<li>re-rerun `output_notebook()` to attempt to load from CDN again, or</li>\\n\"+\n",
       "     \"<li>use INLINE resources instead, as so:</li>\\n\"+\n",
       "     \"</ul>\\n\"+\n",
       "     \"<code>\\n\"+\n",
       "     \"from bokeh.resources import INLINE\\n\"+\n",
       "     \"output_notebook(resources=INLINE)\\n\"+\n",
       "     \"</code>\\n\"+\n",
       "     \"</div>\"}};\n",
       "\n",
       "  function display_loaded() {\n",
       "    var el = document.getElementById(\"a580e38d-5699-48db-9bcb-00bd2c8adfb2\");\n",
       "    if (el != null) {\n",
       "      el.textContent = \"BokehJS is loading...\";\n",
       "    }\n",
       "    if (root.Bokeh !== undefined) {\n",
       "      if (el != null) {\n",
       "        el.textContent = \"BokehJS \" + root.Bokeh.version + \" successfully loaded.\";\n",
       "      }\n",
       "    } else if (Date.now() < root._bokeh_timeout) {\n",
       "      setTimeout(display_loaded, 100)\n",
       "    }\n",
       "  }\n",
       "\n",
       "\n",
       "  function run_callbacks() {\n",
       "    try {\n",
       "      root._bokeh_onload_callbacks.forEach(function(callback) { callback() });\n",
       "    }\n",
       "    finally {\n",
       "      delete root._bokeh_onload_callbacks\n",
       "    }\n",
       "    console.info(\"Bokeh: all callbacks have finished\");\n",
       "  }\n",
       "\n",
       "  function load_libs(js_urls, callback) {\n",
       "    root._bokeh_onload_callbacks.push(callback);\n",
       "    if (root._bokeh_is_loading > 0) {\n",
       "      console.log(\"Bokeh: BokehJS is being loaded, scheduling callback at\", now());\n",
       "      return null;\n",
       "    }\n",
       "    if (js_urls == null || js_urls.length === 0) {\n",
       "      run_callbacks();\n",
       "      return null;\n",
       "    }\n",
       "    console.log(\"Bokeh: BokehJS not loaded, scheduling load and callback at\", now());\n",
       "    root._bokeh_is_loading = js_urls.length;\n",
       "    for (var i = 0; i < js_urls.length; i++) {\n",
       "      var url = js_urls[i];\n",
       "      var s = document.createElement('script');\n",
       "      s.src = url;\n",
       "      s.async = false;\n",
       "      s.onreadystatechange = s.onload = function() {\n",
       "        root._bokeh_is_loading--;\n",
       "        if (root._bokeh_is_loading === 0) {\n",
       "          console.log(\"Bokeh: all BokehJS libraries loaded\");\n",
       "          run_callbacks()\n",
       "        }\n",
       "      };\n",
       "      s.onerror = function() {\n",
       "        console.warn(\"failed to load library \" + url);\n",
       "      };\n",
       "      console.log(\"Bokeh: injecting script tag for BokehJS library: \", url);\n",
       "      document.getElementsByTagName(\"head\")[0].appendChild(s);\n",
       "    }\n",
       "  };var element = document.getElementById(\"a580e38d-5699-48db-9bcb-00bd2c8adfb2\");\n",
       "  if (element == null) {\n",
       "    console.log(\"Bokeh: ERROR: autoload.js configured with elementid 'a580e38d-5699-48db-9bcb-00bd2c8adfb2' but no matching script tag was found. \")\n",
       "    return false;\n",
       "  }\n",
       "\n",
       "  var js_urls = [\"https://cdn.pydata.org/bokeh/release/bokeh-0.12.14.min.js\", \"https://cdn.pydata.org/bokeh/release/bokeh-widgets-0.12.14.min.js\", \"https://cdn.pydata.org/bokeh/release/bokeh-tables-0.12.14.min.js\", \"https://cdn.pydata.org/bokeh/release/bokeh-gl-0.12.14.min.js\"];\n",
       "\n",
       "  var inline_js = [\n",
       "    function(Bokeh) {\n",
       "      Bokeh.set_log_level(\"info\");\n",
       "    },\n",
       "    \n",
       "    function(Bokeh) {\n",
       "      \n",
       "    },\n",
       "    function(Bokeh) {\n",
       "      console.log(\"Bokeh: injecting CSS: https://cdn.pydata.org/bokeh/release/bokeh-0.12.14.min.css\");\n",
       "      Bokeh.embed.inject_css(\"https://cdn.pydata.org/bokeh/release/bokeh-0.12.14.min.css\");\n",
       "      console.log(\"Bokeh: injecting CSS: https://cdn.pydata.org/bokeh/release/bokeh-widgets-0.12.14.min.css\");\n",
       "      Bokeh.embed.inject_css(\"https://cdn.pydata.org/bokeh/release/bokeh-widgets-0.12.14.min.css\");\n",
       "      console.log(\"Bokeh: injecting CSS: https://cdn.pydata.org/bokeh/release/bokeh-tables-0.12.14.min.css\");\n",
       "      Bokeh.embed.inject_css(\"https://cdn.pydata.org/bokeh/release/bokeh-tables-0.12.14.min.css\");\n",
       "    }\n",
       "  ];\n",
       "\n",
       "  function run_inline_js() {\n",
       "    \n",
       "    if ((root.Bokeh !== undefined) || (force === true)) {\n",
       "      for (var i = 0; i < inline_js.length; i++) {\n",
       "        inline_js[i].call(root, root.Bokeh);\n",
       "      }if (force === true) {\n",
       "        display_loaded();\n",
       "      }} else if (Date.now() < root._bokeh_timeout) {\n",
       "      setTimeout(run_inline_js, 100);\n",
       "    } else if (!root._bokeh_failed_load) {\n",
       "      console.log(\"Bokeh: BokehJS failed to load within specified timeout.\");\n",
       "      root._bokeh_failed_load = true;\n",
       "    } else if (force !== true) {\n",
       "      var cell = $(document.getElementById(\"a580e38d-5699-48db-9bcb-00bd2c8adfb2\")).parents('.cell').data().cell;\n",
       "      cell.output_area.append_execute_result(NB_LOAD_WARNING)\n",
       "    }\n",
       "\n",
       "  }\n",
       "\n",
       "  if (root._bokeh_is_loading === 0) {\n",
       "    console.log(\"Bokeh: BokehJS loaded, going straight to plotting\");\n",
       "    run_inline_js();\n",
       "  } else {\n",
       "    load_libs(js_urls, function() {\n",
       "      console.log(\"Bokeh: BokehJS plotting callback run at\", now());\n",
       "      run_inline_js();\n",
       "    });\n",
       "  }\n",
       "}(window));"
      ],
      "application/vnd.bokehjs_load.v0+json": "\n(function(root) {\n  function now() {\n    return new Date();\n  }\n\n  var force = true;\n\n  if (typeof (root._bokeh_onload_callbacks) === \"undefined\" || force === true) {\n    root._bokeh_onload_callbacks = [];\n    root._bokeh_is_loading = undefined;\n  }\n\n  \n\n  \n  if (typeof (root._bokeh_timeout) === \"undefined\" || force === true) {\n    root._bokeh_timeout = Date.now() + 5000;\n    root._bokeh_failed_load = false;\n  }\n\n  var NB_LOAD_WARNING = {'data': {'text/html':\n     \"<div style='background-color: #fdd'>\\n\"+\n     \"<p>\\n\"+\n     \"BokehJS does not appear to have successfully loaded. If loading BokehJS from CDN, this \\n\"+\n     \"may be due to a slow or bad network connection. Possible fixes:\\n\"+\n     \"</p>\\n\"+\n     \"<ul>\\n\"+\n     \"<li>re-rerun `output_notebook()` to attempt to load from CDN again, or</li>\\n\"+\n     \"<li>use INLINE resources instead, as so:</li>\\n\"+\n     \"</ul>\\n\"+\n     \"<code>\\n\"+\n     \"from bokeh.resources import INLINE\\n\"+\n     \"output_notebook(resources=INLINE)\\n\"+\n     \"</code>\\n\"+\n     \"</div>\"}};\n\n  function display_loaded() {\n    var el = document.getElementById(\"a580e38d-5699-48db-9bcb-00bd2c8adfb2\");\n    if (el != null) {\n      el.textContent = \"BokehJS is loading...\";\n    }\n    if (root.Bokeh !== undefined) {\n      if (el != null) {\n        el.textContent = \"BokehJS \" + root.Bokeh.version + \" successfully loaded.\";\n      }\n    } else if (Date.now() < root._bokeh_timeout) {\n      setTimeout(display_loaded, 100)\n    }\n  }\n\n\n  function run_callbacks() {\n    try {\n      root._bokeh_onload_callbacks.forEach(function(callback) { callback() });\n    }\n    finally {\n      delete root._bokeh_onload_callbacks\n    }\n    console.info(\"Bokeh: all callbacks have finished\");\n  }\n\n  function load_libs(js_urls, callback) {\n    root._bokeh_onload_callbacks.push(callback);\n    if (root._bokeh_is_loading > 0) {\n      console.log(\"Bokeh: BokehJS is being loaded, scheduling callback at\", now());\n      return null;\n    }\n    if (js_urls == null || js_urls.length === 0) {\n      run_callbacks();\n      return null;\n    }\n    console.log(\"Bokeh: BokehJS not loaded, scheduling load and callback at\", now());\n    root._bokeh_is_loading = js_urls.length;\n    for (var i = 0; i < js_urls.length; i++) {\n      var url = js_urls[i];\n      var s = document.createElement('script');\n      s.src = url;\n      s.async = false;\n      s.onreadystatechange = s.onload = function() {\n        root._bokeh_is_loading--;\n        if (root._bokeh_is_loading === 0) {\n          console.log(\"Bokeh: all BokehJS libraries loaded\");\n          run_callbacks()\n        }\n      };\n      s.onerror = function() {\n        console.warn(\"failed to load library \" + url);\n      };\n      console.log(\"Bokeh: injecting script tag for BokehJS library: \", url);\n      document.getElementsByTagName(\"head\")[0].appendChild(s);\n    }\n  };var element = document.getElementById(\"a580e38d-5699-48db-9bcb-00bd2c8adfb2\");\n  if (element == null) {\n    console.log(\"Bokeh: ERROR: autoload.js configured with elementid 'a580e38d-5699-48db-9bcb-00bd2c8adfb2' but no matching script tag was found. \")\n    return false;\n  }\n\n  var js_urls = [\"https://cdn.pydata.org/bokeh/release/bokeh-0.12.14.min.js\", \"https://cdn.pydata.org/bokeh/release/bokeh-widgets-0.12.14.min.js\", \"https://cdn.pydata.org/bokeh/release/bokeh-tables-0.12.14.min.js\", \"https://cdn.pydata.org/bokeh/release/bokeh-gl-0.12.14.min.js\"];\n\n  var inline_js = [\n    function(Bokeh) {\n      Bokeh.set_log_level(\"info\");\n    },\n    \n    function(Bokeh) {\n      \n    },\n    function(Bokeh) {\n      console.log(\"Bokeh: injecting CSS: https://cdn.pydata.org/bokeh/release/bokeh-0.12.14.min.css\");\n      Bokeh.embed.inject_css(\"https://cdn.pydata.org/bokeh/release/bokeh-0.12.14.min.css\");\n      console.log(\"Bokeh: injecting CSS: https://cdn.pydata.org/bokeh/release/bokeh-widgets-0.12.14.min.css\");\n      Bokeh.embed.inject_css(\"https://cdn.pydata.org/bokeh/release/bokeh-widgets-0.12.14.min.css\");\n      console.log(\"Bokeh: injecting CSS: https://cdn.pydata.org/bokeh/release/bokeh-tables-0.12.14.min.css\");\n      Bokeh.embed.inject_css(\"https://cdn.pydata.org/bokeh/release/bokeh-tables-0.12.14.min.css\");\n    }\n  ];\n\n  function run_inline_js() {\n    \n    if ((root.Bokeh !== undefined) || (force === true)) {\n      for (var i = 0; i < inline_js.length; i++) {\n        inline_js[i].call(root, root.Bokeh);\n      }if (force === true) {\n        display_loaded();\n      }} else if (Date.now() < root._bokeh_timeout) {\n      setTimeout(run_inline_js, 100);\n    } else if (!root._bokeh_failed_load) {\n      console.log(\"Bokeh: BokehJS failed to load within specified timeout.\");\n      root._bokeh_failed_load = true;\n    } else if (force !== true) {\n      var cell = $(document.getElementById(\"a580e38d-5699-48db-9bcb-00bd2c8adfb2\")).parents('.cell').data().cell;\n      cell.output_area.append_execute_result(NB_LOAD_WARNING)\n    }\n\n  }\n\n  if (root._bokeh_is_loading === 0) {\n    console.log(\"Bokeh: BokehJS loaded, going straight to plotting\");\n    run_inline_js();\n  } else {\n    load_libs(js_urls, function() {\n      console.log(\"Bokeh: BokehJS plotting callback run at\", now());\n      run_inline_js();\n    });\n  }\n}(window));"
     },
     "metadata": {},
     "output_type": "display_data"
    }
   ],
   "source": [
    "output_notebook()"
   ]
  },
  {
   "cell_type": "code",
   "execution_count": 8,
   "metadata": {
    "collapsed": true
   },
   "outputs": [],
   "source": [
    "def fmt_cool(ds_in):\n",
    "    ds = ds_in.copy(deep=True)\n",
    "    if 'igg' in ds.dims:\n",
    "        ds = ds.sel(igg=1)\n",
    "\n",
    "    if 'g' in ds.dims:\n",
    "        ds = ds.sum('g')\n",
    "            \n",
    "    if 'band' in ds.dims:\n",
    "        try:\n",
    "            ds = ds.squeeze('band')\n",
    "        except ValueError:\n",
    "            ds = ds.sum('band')\n",
    "                \n",
    "    return ds['coolrg']\n",
    "\n",
    "\n",
    "def pltdata_cooling_1(ds_cool=None,\n",
    "                      ds_cool_crd=None, ds_cool_wgt=None):\n",
    "    \n",
    "\n",
    "\n",
    "    colors = all_palettes['Set1'][4]\n",
    "    data = [{'label': 'CLIRAD `coolr_bands`',\n",
    "             'srs': fmt_cool(ds_cool),\n",
    "             'line_dash': 'dashed', 'line_width': 5,\n",
    "             'color': colors[0], 'alpha': .6},\n",
    "            {'label': 'CRD',\n",
    "             'srs': fmt_cool(ds_cool_crd),\n",
    "             'line_dash': 'solid', 'line_width': 1.5,\n",
    "             'marker': 'circle', 'marker_size': 5,\n",
    "             'color': colors[2], 'alpha': 1,},\n",
    "            {'label': 'WGT igg=10 wgt_flux=2',\n",
    "             'srs': fmt_cool(ds_cool_wgt),\n",
    "             'line_dash': 'solid', 'line_width': 3,\n",
    "             'marker': 'square', 'marker_size': 5,\n",
    "             'color': colors[3], 'alpha': .6}]\n",
    "    return data\n",
    "\n",
    "\n",
    "def nice_xlims(pltdata=None, prange=None):\n",
    "    \n",
    "    def get_slice(srs):\n",
    "        return srs.sel(pressure=slice(*prange))\n",
    "    \n",
    "    srss = [d['srs'] for d in pltdata]\n",
    "    vmin = min([get_slice(srs).min() for srs in srss])\n",
    "    vmax = max([get_slice(srs).max() for srs in srss])\n",
    "    dv = (vmax - vmin) * .01\n",
    "    return float(vmin - dv), float(vmax + dv)\n",
    "    \n",
    "\n",
    "def plt_cooling_bokeh(pltdata=None):\n",
    "    '''\n",
    "    Plot a list of cooling rate profiles using bokeh.\n",
    "    '''\n",
    "    ymin = 1e-2 \n",
    "    ymax = 1020 \n",
    "        \n",
    "    p1 = figure(title=\"Linear pressure scale\", \n",
    "                plot_width=400)        \n",
    "    xmin, xmax = nice_xlims(pltdata, prange=(50, 1050))\n",
    "    for d in pltdata:\n",
    "        if 'marker' in d:\n",
    "            getattr(p1, d['marker'])(d['srs'].values, \n",
    "                    d['srs'].coords['pressure'].values,\n",
    "                    color=d['color'], alpha=.7)\n",
    "        p1.line(d['srs'].values, \n",
    "                d['srs'].coords['pressure'].values,\n",
    "                color=d['color'], alpha=d['alpha'], \n",
    "                line_width=d['line_width'], line_dash=d['line_dash'])\n",
    "    \n",
    "    p1.y_range = Range1d(ymax, ymin)\n",
    "    p1.yaxis.axis_label = 'pressure [mb]'   \n",
    "    p1.x_range = Range1d(xmin, xmax)\n",
    "    p1.xaxis.axis_label = 'cooling rate [K/day]'\n",
    "            \n",
    "    p2 = figure(title='Log pressure scale', y_axis_type='log',\n",
    "                plot_width=560)\n",
    "    xmin, xmax = nice_xlims(pltdata, prange=(.01, 200))\n",
    "    \n",
    "    rs = []\n",
    "    for d in pltdata:\n",
    "        rd = []\n",
    "        if 'marker' in d:\n",
    "            r_mark = getattr(p2, d['marker'])(d['srs'].values, \n",
    "                        d['srs'].coords['pressure'].values,\n",
    "                        color=d['color'], alpha=.7)\n",
    "            rd.append(r_mark)\n",
    "        r_line = p2.line(d['srs'].values, \n",
    "                    d['srs'].coords['pressure'].values,\n",
    "                    color=d['color'], alpha=d['alpha'], \n",
    "                    line_width=d['line_width'], line_dash=d['line_dash'])\n",
    "        rd.append(r_line)\n",
    "      \n",
    "        rs.append(rd)\n",
    "        \n",
    "    p2.y_range = Range1d(ymax, ymin)  \n",
    "    p2.yaxis.axis_label = 'pressure [mb]'\n",
    "    \n",
    "    p2.x_range = Range1d(xmin, xmax)\n",
    "    p2.xaxis.axis_label = 'cooling rate [K/day]'\n",
    "    \n",
    "    items = [(d['label'], r) for r, d in zip(rs, pltdata)]\n",
    "    legend = Legend(items=items, location=(10, -30))\n",
    "    legend.label_text_font_size = '8pt'\n",
    "    \n",
    "    p2.add_layout(legend, 'right')  \n",
    "    \n",
    "    show(gridplot(p1, p2, ncols=2, plot_height=500))\n",
    "    \n",
    "\n",
    "def script_plt_cooling():\n",
    "    pltdata = pltdata_cooling_1(\n",
    "        ds_cool=DS_COOL,\n",
    "        ds_cool_crd=DS_COOL_CRD,\n",
    "        ds_cool_wgt=DS_COOL_WGT)\n",
    "    plt_cooling_bokeh(pltdata=pltdata)\n",
    "    print('''FIGURE. Cooling rate profiles.''')"
   ]
  },
  {
   "cell_type": "code",
   "execution_count": 9,
   "metadata": {
    "collapsed": true
   },
   "outputs": [],
   "source": [
    "def fmt_flux(ds_in):\n",
    "    ds = ds_in.copy(deep=True)\n",
    "    \n",
    "    for l in ('level', 'layer'):\n",
    "        if l in ds.data_vars:\n",
    "            if len(ds[l].dims) > 1:\n",
    "                surface = {d: 0 for d in ds.dims if d != 'pressure'}\n",
    "                coord_level = ds[l][surface]\n",
    "                ds.coords[l] = ('pressure', coord_level)\n",
    "            else:\n",
    "                ds.coords[l] = ('pressure', ds[l])\n",
    "        \n",
    "    ds = ds.isel(pressure=[0, 23, -1])\n",
    "        \n",
    "    if 'igg' in ds.dims:\n",
    "        ds = ds.sel(igg=[1])\n",
    "        ds = ds.squeeze('igg').drop('igg')\n",
    "    \n",
    "    if 'g' in ds.dims:\n",
    "        ds = ds.sum('g')\n",
    "            \n",
    "    if 'band' in ds.dims:\n",
    "        try:\n",
    "            ds = ds.squeeze('band').drop('band')\n",
    "        except ValueError:\n",
    "            ds = ds.sum('band')\n",
    "                \n",
    "    df = ds.to_dataframe()\n",
    "    df = df.set_index('level', append=True)               \n",
    "    return df\n",
    "\n",
    "\n",
    "def tbdata_flux(ds_flux=None, ds_flux_crd=None, ds_flux_wgt=None):\n",
    "    ilevels = [0, 23, -1]\n",
    "            \n",
    "    benchmark = {'label': 'WGT igg=10 wgt_flux=1',\n",
    "                 'df': fmt_flux(ds_flux_wgt)}\n",
    "    \n",
    "    tbs = [{'label': 'CRD',\n",
    "            'df': fmt_flux(ds_flux_crd)},\n",
    "           {'label': 'CLIRAD',\n",
    "            'df': fmt_flux(ds_flux)}]\n",
    "    \n",
    "    data = {'benchmark': benchmark, 'others': tbs}\n",
    "    return data\n",
    "\n",
    "\n",
    "def tb_flux(tbdata=None):\n",
    "    benchmark = tbdata['benchmark']\n",
    "    others = tbdata['others']\n",
    "    \n",
    "    def show_tb(d=None):\n",
    "        display.display(d['df'])\n",
    "        print('Table.', 'Fluxes.', d['label'])\n",
    "        \n",
    "    def show_tbdiff(d0=None, d=None):\n",
    "        df = d['df']\n",
    "        df.index = d0['df'].index\n",
    "        display.display(df - d0['df'])\n",
    "        print('Table.', 'Fluxes.', \n",
    "              '({}) - ({})'.format(d['label'], d0['label']))\n",
    "        \n",
    "    show_tb(benchmark)\n",
    "    for d in others:\n",
    "        show_tb(d)\n",
    "        \n",
    "    for d in others:\n",
    "        show_tbdiff(d=d, d0=benchmark)\n",
    "        \n",
    "        \n",
    "def script_tb_flux():\n",
    "    data = tbdata_flux(ds_flux=DS_FLUX,\n",
    "                       ds_flux_crd=DS_FLUX_CRD,\n",
    "                       ds_flux_wgt=DS_FLUX_WGT)\n",
    "    tb_flux(tbdata=data)"
   ]
  },
  {
   "cell_type": "code",
   "execution_count": 10,
   "metadata": {
    "collapsed": true
   },
   "outputs": [],
   "source": [
    "def band_map():\n",
    "    '''\n",
    "    Maps spectral bands in lblnew to spectral bands in clirad.\n",
    "    '''\n",
    "    lblnew2clirad = {'1': '1',\n",
    "            '2': '2',\n",
    "            '3a': '3',\n",
    "            '3b': '4',\n",
    "            '3c': '5',\n",
    "            '4': '6', \n",
    "            '5': '7',\n",
    "            '6': '8',\n",
    "            '7': '9', \n",
    "            '8': '10',\n",
    "            '9': '11'}\n",
    "    \n",
    "    clirad2lblnew = {clirad: lblnew \n",
    "                     for lblnew, clirad in lblnew2clirad.items()}\n",
    "    return clirad2lblnew\n",
    "\n",
    "\n",
    "def gasbands():\n",
    "    bmap = band_map()\n",
    "    gases = list(PARAM['molecule'].keys())\n",
    "    \n",
    "    bands = [bmap[str(b)] for b in PARAM['band']]\n",
    "    return list(itertools.product(gases, bands))\n",
    "\n",
    "\n",
    "def print_bestfit_params():\n",
    "    print('Best-fit values for each (gas, band)')\n",
    "    print('------------------------------------')\n",
    "    for gas, band in gasbands():\n",
    "        print('o {} band{}'.format(gas, band))\n",
    "        param = bestfits.kdist_params(molecule=gas, band=band)\n",
    "        for name, value in sorted(param.items()):\n",
    "            print(2 * ' ' + '{} = {}'.format(name, value))\n",
    "\n",
    "        \n",
    "def print_input_param():        \n",
    "    for name, value in PARAM.items():\n",
    "        print('{} = {}'.format(name, value))\n",
    "        \n",
    "        \n",
    "def print_lblnew_param():\n",
    "    for name, value in sorted(PARAM_LBLNEW.items()):\n",
    "        print('{} = {}'.format(name, value))\n"
   ]
  },
  {
   "cell_type": "code",
   "execution_count": 11,
   "metadata": {
    "collapsed": true,
    "scrolled": false
   },
   "outputs": [],
   "source": [
    "def show_html(s):\n",
    "    display.display(display.HTML(s))\n",
    "\n",
    "    \n",
    "def show_markdown(s):\n",
    "    display.display(display.Markdown(s))\n",
    "\n",
    "    \n",
    "def script():\n",
    "    \n",
    "    title = '### CLIRAD-LW'\n",
    "    s_input = 'Input Parameters'\n",
    "    s_lblnew_param = 'LBLNEW case compaired against'\n",
    "    s_bestfits = 'Best-fit Parameters'\n",
    "    s_plt_cooling = 'Cooling Rate Profiles'\n",
    "    s_tb_flux = 'Flux Comparison'\n",
    "    \n",
    "    # title\n",
    "    show_markdown('### CLIRAD-LW')\n",
    "    \n",
    "    # TOC\n",
    "    show_markdown('### Table of Contents')\n",
    "    show_html(climahtml.getHTML_hrefanchor(s_input))\n",
    "    show_html(climahtml.getHTML_hrefanchor(s_lblnew_param))\n",
    "    show_html(climahtml.getHTML_hrefanchor(s_plt_cooling))\n",
    "    show_html(climahtml.getHTML_hrefanchor(s_tb_flux))\n",
    "    show_html(climahtml.getHTML_hrefanchor(s_bestfits))\n",
    "    \n",
    "    # Input parameters\n",
    "    show_html(climahtml.getHTML_idanchor(s_input))\n",
    "    show_markdown(climahtml.getMarkdown_sectitle(s_input))\n",
    "    print_input_param()\n",
    "    \n",
    "    # LBLNEW parameters \n",
    "    show_html(climahtml.getHTML_idanchor(s_lblnew_param))\n",
    "    show_markdown(climahtml.getMarkdown_sectitle(s_lblnew_param))\n",
    "    print_lblnew_param()\n",
    "    \n",
    "    # Cooling rate profiles\n",
    "    show_html(climahtml.getHTML_idanchor(s_plt_cooling))\n",
    "    show_markdown(climahtml.getMarkdown_sectitle(s_plt_cooling))\n",
    "    script_plt_cooling()\n",
    "    \n",
    "    # Flux comparison\n",
    "    show_html(climahtml.getHTML_idanchor(s_tb_flux))\n",
    "    show_markdown(climahtml.getMarkdown_sectitle(s_tb_flux))\n",
    "    script_tb_flux()\n",
    "    \n",
    "    # Best-fit values\n",
    "    show_html(climahtml.getHTML_idanchor(s_bestfits))\n",
    "    show_markdown(climahtml.getMarkdown_sectitle(s_bestfits))\n",
    "    print_bestfit_params()\n",
    "   \n",
    "    "
   ]
  },
  {
   "cell_type": "code",
   "execution_count": 12,
   "metadata": {
    "collapsed": true,
    "scrolled": false
   },
   "outputs": [
    {
     "data": {
      "text/markdown": [
       "### CLIRAD-LW"
      ],
      "text/plain": [
       "<IPython.core.display.Markdown object>"
      ]
     },
     "metadata": {},
     "output_type": "display_data"
    },
    {
     "data": {
      "text/markdown": [
       "### Table of Contents"
      ],
      "text/plain": [
       "<IPython.core.display.Markdown object>"
      ]
     },
     "metadata": {},
     "output_type": "display_data"
    },
    {
     "data": {
      "text/html": [
       "<a href=\"#Input_Parameters\">Input Parameters</a>"
      ],
      "text/plain": [
       "<IPython.core.display.HTML object>"
      ]
     },
     "metadata": {},
     "output_type": "display_data"
    },
    {
     "data": {
      "text/html": [
       "<a href=\"#LBLNEW_case_compaired_against\">LBLNEW case compaired against</a>"
      ],
      "text/plain": [
       "<IPython.core.display.HTML object>"
      ]
     },
     "metadata": {},
     "output_type": "display_data"
    },
    {
     "data": {
      "text/html": [
       "<a href=\"#Cooling_Rate_Profiles\">Cooling Rate Profiles</a>"
      ],
      "text/plain": [
       "<IPython.core.display.HTML object>"
      ]
     },
     "metadata": {},
     "output_type": "display_data"
    },
    {
     "data": {
      "text/html": [
       "<a href=\"#Flux_Comparison\">Flux Comparison</a>"
      ],
      "text/plain": [
       "<IPython.core.display.HTML object>"
      ]
     },
     "metadata": {},
     "output_type": "display_data"
    },
    {
     "data": {
      "text/html": [
       "<a href=\"#Best-fit_Parameters\">Best-fit Parameters</a>"
      ],
      "text/plain": [
       "<IPython.core.display.HTML object>"
      ]
     },
     "metadata": {},
     "output_type": "display_data"
    },
    {
     "data": {
      "text/html": [
       "<a id=\"Input_Parameters\"></a>"
      ],
      "text/plain": [
       "<IPython.core.display.HTML object>"
      ]
     },
     "metadata": {},
     "output_type": "display_data"
    },
    {
     "data": {
      "text/markdown": [
       "# Input Parameters"
      ],
      "text/plain": [
       "<IPython.core.display.Markdown object>"
      ]
     },
     "metadata": {},
     "output_type": "display_data"
    },
    {
     "name": "stdout",
     "output_type": "stream",
     "text": [
      "atmpro = trp\n",
      "band = [3]\n",
      "commitnumber = 9a64c27_r8\n",
      "molecule = {'co2': 0.0004}\n",
      "tsfc = 300\n"
     ]
    },
    {
     "data": {
      "text/html": [
       "<a id=\"LBLNEW_case_compaired_against\"></a>"
      ],
      "text/plain": [
       "<IPython.core.display.HTML object>"
      ]
     },
     "metadata": {},
     "output_type": "display_data"
    },
    {
     "data": {
      "text/markdown": [
       "# LBLNEW case compaired against"
      ],
      "text/plain": [
       "<IPython.core.display.Markdown object>"
      ]
     },
     "metadata": {},
     "output_type": "display_data"
    },
    {
     "name": "stdout",
     "output_type": "stream",
     "text": [
      "atmpro = trp\n",
      "band = 3a\n",
      "commitnumber = 2bd1f75\n",
      "conc = 0.0004\n",
      "dv = 0.01\n",
      "klin = 6.375563e-24\n",
      "molecule = co2\n",
      "ng_adju = [0, 0, 0]\n",
      "ng_refs = [3, 2, 4]\n",
      "nv = 100\n",
      "option_compute_btable = 0\n",
      "option_compute_ktable = 0\n",
      "option_wgt_flux = 1\n",
      "option_wgt_k = 1\n",
      "ref_pts = [(1, 250), (10, 250), (500, 250)]\n",
      "tsfc = 300\n",
      "vmax = 620\n",
      "vmin = 540\n",
      "w_diffuse = [(1.6, 1.6, 1.7), (1.75, 1.75), (1.55, 1.55, 1.6, 1.85)]\n",
      "wgt = [(0.7, 0.3, 0.7), (0.7, 0.6), (0.4, 0.5, 0.8, 0.95)]\n"
     ]
    },
    {
     "data": {
      "text/html": [
       "<a id=\"Cooling_Rate_Profiles\"></a>"
      ],
      "text/plain": [
       "<IPython.core.display.HTML object>"
      ]
     },
     "metadata": {},
     "output_type": "display_data"
    },
    {
     "data": {
      "text/markdown": [
       "# Cooling Rate Profiles"
      ],
      "text/plain": [
       "<IPython.core.display.Markdown object>"
      ]
     },
     "metadata": {},
     "output_type": "display_data"
    },
    {
     "data": {
      "text/html": [
       "\n",
       "<div class=\"bk-root\">\n",
       "    <div class=\"bk-plotdiv\" id=\"5bdf89d2-149e-45d7-944b-9b79e4e7c6ec\"></div>\n",
       "</div>"
      ]
     },
     "metadata": {},
     "output_type": "display_data"
    },
    {
     "data": {
      "application/javascript": [
       "(function(root) {\n",
       "  function embed_document(root) {\n",
       "    \n",
       "  var docs_json = {\"4f6e949e-1094-436c-aed3-1ac62a598da7\":{\"roots\":{\"references\":[{\"attributes\":{\"data_source\":{\"id\":\"6c35fa5b-9d96-4c11-aa36-43d052ba8039\",\"type\":\"ColumnDataSource\"},\"glyph\":{\"id\":\"8133fb95-935f-40bc-bf1f-4240a962121e\",\"type\":\"Line\"},\"hover_glyph\":null,\"muted_glyph\":null,\"nonselection_glyph\":{\"id\":\"e8bcd432-fb0f-4537-b46a-6cf5b3db1ef1\",\"type\":\"Line\"},\"selection_glyph\":null,\"view\":{\"id\":\"ec7013cb-d71f-4082-b961-bd380d33a760\",\"type\":\"CDSView\"}},\"id\":\"5c303cd7-b984-4b57-b650-ddf0943f7443\",\"type\":\"GlyphRenderer\"},{\"attributes\":{\"below\":[{\"id\":\"c6476843-ffe4-4e11-aa37-39f2a72d2f17\",\"type\":\"LinearAxis\"}],\"left\":[{\"id\":\"b119067a-f038-43bc-b3bf-9dcf2cef8151\",\"type\":\"LinearAxis\"}],\"plot_height\":500,\"plot_width\":400,\"renderers\":[{\"id\":\"c6476843-ffe4-4e11-aa37-39f2a72d2f17\",\"type\":\"LinearAxis\"},{\"id\":\"423e7b81-06e2-48d5-89e9-3cefd199ddaf\",\"type\":\"Grid\"},{\"id\":\"b119067a-f038-43bc-b3bf-9dcf2cef8151\",\"type\":\"LinearAxis\"},{\"id\":\"1aae80de-ff4b-4346-a542-ecd12f2ac798\",\"type\":\"Grid\"},{\"id\":\"3343d391-f5f3-4762-afcd-093d14cfc7d1\",\"type\":\"BoxAnnotation\"},{\"id\":\"5c303cd7-b984-4b57-b650-ddf0943f7443\",\"type\":\"GlyphRenderer\"},{\"id\":\"3ea65003-dd9e-4932-aa3b-89dd9673541e\",\"type\":\"GlyphRenderer\"},{\"id\":\"aea56768-d654-46ea-9583-1cb1c9726b04\",\"type\":\"GlyphRenderer\"},{\"id\":\"f47c291a-6a21-4725-94a0-ccdae7577add\",\"type\":\"GlyphRenderer\"},{\"id\":\"1abbd4d2-1466-4ffa-abbe-7ccc5e1c39e9\",\"type\":\"GlyphRenderer\"}],\"title\":{\"id\":\"9def51f7-b313-40c8-982d-d769e4fe26a4\",\"type\":\"Title\"},\"toolbar\":{\"id\":\"5070cd1f-53de-4116-921b-4ecd402f7d88\",\"type\":\"Toolbar\"},\"toolbar_location\":null,\"x_range\":{\"id\":\"200fa280-7caa-4925-b943-7d1328fa30c2\",\"type\":\"Range1d\"},\"x_scale\":{\"id\":\"c82a7377-67eb-418e-82e8-a3910fa3cd85\",\"type\":\"LinearScale\"},\"y_range\":{\"id\":\"38bda983-aa92-4fb6-9366-77f54e83d81b\",\"type\":\"Range1d\"},\"y_scale\":{\"id\":\"6fcb0fe4-7b9b-4e2b-bf01-b62ebcb6ae70\",\"type\":\"LinearScale\"}},\"id\":\"1403d1c2-a527-499a-bfbc-0e3e0e2e622e\",\"subtype\":\"Figure\",\"type\":\"Plot\"},{\"attributes\":{\"fill_alpha\":{\"value\":0.7},\"fill_color\":{\"value\":\"#4daf4a\"},\"line_alpha\":{\"value\":0.7},\"line_color\":{\"value\":\"#4daf4a\"},\"x\":{\"field\":\"x\"},\"y\":{\"field\":\"y\"}},\"id\":\"3fdeb5d5-9b16-4312-a1c3-a2a274ff4ff6\",\"type\":\"Circle\"},{\"attributes\":{\"callback\":null,\"column_names\":[\"x\",\"y\"],\"data\":{\"x\":{\"__ndarray__\":\"qj+IhdZa2j8G4PoLmBvaP+jLoBSMzto/ctr4uNta2z/MtUfz8LPbPxESDmIM0ds/tffrRgaW2z/gIbUe+PfaP9OsQ6DA3Nk/eQE47nsx2D/DGh1G9+LVP3BMBcvH5NI/4CxG2TJLzj8Fx8CVR5LFP+LMr+YAwcE/DudMoKnTxT+2os1xbhPMPxhOiG8XENE/oZUHK0bE1D94yShkIdnZP0eyBYxHrOA/ZS+ho9HU5T/Da2636tvmPxM0PZPD6OM//Vnit9e44D/rQFIbByTaP0cQnVTqCNQ/Cg3lwILmzj+zz8a+IkfIP3xXkKhIbMM/xLpttiTNvj+doG4ciJe3P58akgfgbrE/HsfNeHSGqT9CVUIzLJ+ZP2xfuqztnXG/qpoMBlhdl7+Ig9VvXlCUv1TzBBl0j2u/t1mCrY7zfT/2mtz3wVyRP4doxU6ws5o/PLGvvn/IoT958CykcPulP08lwSND8ak/ltk5MC2orT9OOZEm/4+wP/CVE8lkLLI/b5EocpCpsz+n3YKB9Ai1PxJtQ5y5TbY/0hS4dzh6tz98/QSojZC4P1a6WKTLk7k/DnOb09mHuj/EK8VlR3C7P8TJw2O7Urw/83Iampk2vT/PFzkT7CK+PwrjXeRUIb8/nDfK0U4TwD86z5Z7mnbAP6+XpghwesA/n4CaGJoEwD/uqu4uo5q+P6kCpOzjV70/vDWXuOG5vD9rA8Etada8P86Rrvymbr0/3r6aRSBFvj8rGHTGIEW/P+qkjPKrPcA/pqPzTPUFwT9aDhVfxCnCPyrv2/dFlcQ/\",\"dtype\":\"float64\",\"shape\":[75]},\"y\":{\"__ndarray__\":\"GhExyth1ND/Sv8nbtpRIP2vylNV0PVE/aTum7souWD/At0SJ8fVgPw3Iuahxymc/MSNhhJWvcD/bTfBN02d3P2zb5nxnaoA/CD5h5MAGhz8NmeH1TyaQP+zrCsc9p5Y/LbKd76fGnz/bLW5ISEmmPww9YvTcQq8/JV2OstnstT8Er5Y7M8G+P0c+r3jqkcU/5h99k6ZBzj88bCIzFzjVP4enV8oyxN0//yH99nXg5D8qOpLLf0jtP5kqGJXUifQ/c9cS8kHP/D+/DpwzojQEQIEmwoanVwxA4lgXt9HgE0BSSZ2AJuIbQAMJih9jjiNA5q4l5INuK0AwTKYKRj0zQNv5fmq8/DpAaCJseHrtQkB/+zpwzoxKQM3MzMzMeFJAZmZmZmZqWEAAAAAAAFxeQM3MzMzMJmJAmpmZmZkfZUBmZmZmZhhoQDMzMzMzEWtAAAAAAAAKbkBmZmZmZoFwQM3MzMzM/XFAMzMzMzN6c0CamZmZmfZ0QAAAAAAAc3ZAZmZmZmbvd0DNzMzMzGt5QDMzMzMz6HpAmpmZmZlkfEAAAAAAAOF9QGZmZmZmXX9AZmZmZuZsgECamZmZGSuBQM3MzMxM6YFAAAAAAICngkAzMzMzs2WDQGZmZmbmI4RAmpmZmRnihEDNzMzMTKCFQAAAAACAXoZAMzMzM7Mch0BmZmZm5tqHQJqZmZkZmYhAzczMzExXiUAAAAAAgBWKQDMzMzOz04pAZmZmZuaRi0CamZmZGVCMQM3MzMxMDo1AAAAAAIDMjUAzMzMzs4qOQGZmZmbmSI9A\",\"dtype\":\"float64\",\"shape\":[75]}}},\"id\":\"6e84351a-516e-4485-9225-809664e525e5\",\"type\":\"ColumnDataSource\"},{\"attributes\":{\"below\":[{\"id\":\"ed1dbdc1-74e8-403b-94b0-3c7e21c5bc84\",\"type\":\"LinearAxis\"}],\"left\":[{\"id\":\"9c4fbbe6-6ab2-4b16-9a2f-f3b65a7acbc5\",\"type\":\"LogAxis\"}],\"plot_height\":500,\"plot_width\":560,\"renderers\":[{\"id\":\"ed1dbdc1-74e8-403b-94b0-3c7e21c5bc84\",\"type\":\"LinearAxis\"},{\"id\":\"d1c29813-8bb1-4aa3-9895-aa6a07894f99\",\"type\":\"Grid\"},{\"id\":\"9c4fbbe6-6ab2-4b16-9a2f-f3b65a7acbc5\",\"type\":\"LogAxis\"},{\"id\":\"184a840c-b195-4c15-b9f5-19d6d04551a9\",\"type\":\"Grid\"},{\"id\":\"35a72763-c015-4359-a3d6-0a7ecc7733af\",\"type\":\"BoxAnnotation\"},{\"id\":\"4c8ce6c9-bbe2-4a88-b439-2e67eb1e2d3e\",\"type\":\"GlyphRenderer\"},{\"id\":\"6124ca6c-1625-4068-be22-31a51a79b14e\",\"type\":\"GlyphRenderer\"},{\"id\":\"3fac08a2-5007-470b-baa7-a6444f55f4b1\",\"type\":\"GlyphRenderer\"},{\"id\":\"f868468e-b57e-4eef-a020-f9547e5c2657\",\"type\":\"GlyphRenderer\"},{\"id\":\"2c854765-d38d-42b2-ab98-3a509c4d34cd\",\"type\":\"GlyphRenderer\"},{\"id\":\"9778435d-6de8-46e0-97d4-0def3a2f18c3\",\"type\":\"Legend\"}],\"right\":[{\"id\":\"9778435d-6de8-46e0-97d4-0def3a2f18c3\",\"type\":\"Legend\"}],\"title\":{\"id\":\"c55ab5da-4bc8-40e8-bee0-82a532de376f\",\"type\":\"Title\"},\"toolbar\":{\"id\":\"1d98d888-6b2d-4053-a0ff-4c7eb1c9adc5\",\"type\":\"Toolbar\"},\"toolbar_location\":null,\"x_range\":{\"id\":\"78bb471f-8d15-400e-98fa-b221b828525b\",\"type\":\"Range1d\"},\"x_scale\":{\"id\":\"81e13fb3-d0af-4ee5-9e88-6866fc106f1b\",\"type\":\"LinearScale\"},\"y_range\":{\"id\":\"37cf9ce2-f48a-4040-ae61-f8602892ba9f\",\"type\":\"Range1d\"},\"y_scale\":{\"id\":\"533fc88f-7a36-4a89-bfcc-9c8d8eb54ec1\",\"type\":\"LogScale\"}},\"id\":\"bfb1be07-ff05-4377-8cff-ed3c52d83e1c\",\"subtype\":\"Figure\",\"type\":\"Plot\"},{\"attributes\":{\"line_alpha\":0.1,\"line_color\":\"#1f77b4\",\"line_width\":3,\"x\":{\"field\":\"x\"},\"y\":{\"field\":\"y\"}},\"id\":\"44586fb9-98a1-498e-a9aa-3fcdf6e36af7\",\"type\":\"Line\"},{\"attributes\":{\"num_minor_ticks\":10},\"id\":\"2cf05b9d-10e5-410e-8970-dc3f12a72e17\",\"type\":\"LogTicker\"},{\"attributes\":{},\"id\":\"81e13fb3-d0af-4ee5-9e88-6866fc106f1b\",\"type\":\"LinearScale\"},{\"attributes\":{\"plot\":null,\"text\":\"Log pressure scale\"},\"id\":\"c55ab5da-4bc8-40e8-bee0-82a532de376f\",\"type\":\"Title\"},{\"attributes\":{},\"id\":\"527ea4fc-f23b-4bb9-a8a5-bedcaa108f85\",\"type\":\"BasicTickFormatter\"},{\"attributes\":{\"line_color\":\"#4daf4a\",\"line_width\":1.5,\"x\":{\"field\":\"x\"},\"y\":{\"field\":\"y\"}},\"id\":\"2ae31323-5a07-4ac8-882d-a5cf6586a35f\",\"type\":\"Line\"},{\"attributes\":{\"data_source\":{\"id\":\"e1845f6f-1405-4e2c-be12-5cd55c6e5412\",\"type\":\"ColumnDataSource\"},\"glyph\":{\"id\":\"2ae31323-5a07-4ac8-882d-a5cf6586a35f\",\"type\":\"Line\"},\"hover_glyph\":null,\"muted_glyph\":null,\"nonselection_glyph\":{\"id\":\"ec9d95a5-456d-4a92-81b1-fdb5c482e83d\",\"type\":\"Line\"},\"selection_glyph\":null,\"view\":{\"id\":\"50a2f139-2d7d-4cca-a79f-3077e8cff15a\",\"type\":\"CDSView\"}},\"id\":\"aea56768-d654-46ea-9583-1cb1c9726b04\",\"type\":\"GlyphRenderer\"},{\"attributes\":{\"plot\":{\"id\":\"bfb1be07-ff05-4377-8cff-ed3c52d83e1c\",\"subtype\":\"Figure\",\"type\":\"Plot\"},\"ticker\":{\"id\":\"b6503aa0-9ab4-4bb7-a86e-167e080a9ea6\",\"type\":\"BasicTicker\"}},\"id\":\"d1c29813-8bb1-4aa3-9895-aa6a07894f99\",\"type\":\"Grid\"},{\"attributes\":{\"axis_label\":\"cooling rate [K/day]\",\"formatter\":{\"id\":\"22e65fb0-e815-4033-a29c-7b29a18792f3\",\"type\":\"BasicTickFormatter\"},\"plot\":{\"id\":\"bfb1be07-ff05-4377-8cff-ed3c52d83e1c\",\"subtype\":\"Figure\",\"type\":\"Plot\"},\"ticker\":{\"id\":\"b6503aa0-9ab4-4bb7-a86e-167e080a9ea6\",\"type\":\"BasicTicker\"}},\"id\":\"ed1dbdc1-74e8-403b-94b0-3c7e21c5bc84\",\"type\":\"LinearAxis\"},{\"attributes\":{\"active_drag\":\"auto\",\"active_inspect\":\"auto\",\"active_scroll\":\"auto\",\"active_tap\":\"auto\",\"tools\":[{\"id\":\"d8fc3653-a2b7-455f-a2a1-4f63ab68794c\",\"type\":\"PanTool\"},{\"id\":\"d4f7f470-c94e-4805-9de3-2e8bea874875\",\"type\":\"WheelZoomTool\"},{\"id\":\"9f3139c2-a69d-45c2-aab8-4ea4b003c33e\",\"type\":\"BoxZoomTool\"},{\"id\":\"0e9ca37f-5b8e-415f-ad8e-a992805854b8\",\"type\":\"SaveTool\"},{\"id\":\"08b81241-e8d0-47bc-a462-a5429efc908a\",\"type\":\"ResetTool\"},{\"id\":\"ed3cb0fe-9072-470a-a9a2-24e38f890848\",\"type\":\"HelpTool\"}]},\"id\":\"1d98d888-6b2d-4053-a0ff-4c7eb1c9adc5\",\"type\":\"Toolbar\"},{\"attributes\":{},\"id\":\"22e65fb0-e815-4033-a29c-7b29a18792f3\",\"type\":\"BasicTickFormatter\"},{\"attributes\":{\"children\":[{\"id\":\"1403d1c2-a527-499a-bfbc-0e3e0e2e622e\",\"subtype\":\"Figure\",\"type\":\"Plot\"},{\"id\":\"bfb1be07-ff05-4377-8cff-ed3c52d83e1c\",\"subtype\":\"Figure\",\"type\":\"Plot\"}]},\"id\":\"faf9f6a7-3bef-4d54-ad07-c768fbe343ba\",\"type\":\"Row\"},{\"attributes\":{\"line_alpha\":0.1,\"line_color\":\"#1f77b4\",\"line_dash\":[6],\"line_width\":5,\"x\":{\"field\":\"x\"},\"y\":{\"field\":\"y\"}},\"id\":\"e8bcd432-fb0f-4537-b46a-6cf5b3db1ef1\",\"type\":\"Line\"},{\"attributes\":{\"source\":{\"id\":\"d05fc865-1b61-489b-8ab8-a514a97ca6e5\",\"type\":\"ColumnDataSource\"}},\"id\":\"cc2f846a-7347-4afa-a623-3c89e5310117\",\"type\":\"CDSView\"},{\"attributes\":{},\"id\":\"c82a7377-67eb-418e-82e8-a3910fa3cd85\",\"type\":\"LinearScale\"},{\"attributes\":{\"data_source\":{\"id\":\"96585561-4080-46d8-8173-e0e3adccc2e0\",\"type\":\"ColumnDataSource\"},\"glyph\":{\"id\":\"6afbd2ab-083b-420e-99ea-324a2e65c35a\",\"type\":\"Circle\"},\"hover_glyph\":null,\"muted_glyph\":null,\"nonselection_glyph\":{\"id\":\"ea1cd486-b274-4a1c-994e-8b9add124f80\",\"type\":\"Circle\"},\"selection_glyph\":null,\"view\":{\"id\":\"d825ad9b-3a89-4acc-9ade-56f12645bfcb\",\"type\":\"CDSView\"}},\"id\":\"6124ca6c-1625-4068-be22-31a51a79b14e\",\"type\":\"GlyphRenderer\"},{\"attributes\":{},\"id\":\"b6503aa0-9ab4-4bb7-a86e-167e080a9ea6\",\"type\":\"BasicTicker\"},{\"attributes\":{\"axis_label\":\"pressure [mb]\",\"formatter\":{\"id\":\"082d8b15-f14f-4316-9301-71b60751cb3b\",\"type\":\"LogTickFormatter\"},\"plot\":{\"id\":\"bfb1be07-ff05-4377-8cff-ed3c52d83e1c\",\"subtype\":\"Figure\",\"type\":\"Plot\"},\"ticker\":{\"id\":\"2cf05b9d-10e5-410e-8970-dc3f12a72e17\",\"type\":\"LogTicker\"}},\"id\":\"9c4fbbe6-6ab2-4b16-9a2f-f3b65a7acbc5\",\"type\":\"LogAxis\"},{\"attributes\":{\"fill_alpha\":{\"value\":0.1},\"fill_color\":{\"value\":\"#1f77b4\"},\"line_alpha\":{\"value\":0.1},\"line_color\":{\"value\":\"#1f77b4\"},\"x\":{\"field\":\"x\"},\"y\":{\"field\":\"y\"}},\"id\":\"a629b5e3-4b23-4289-ac81-1ade675d38c5\",\"type\":\"Square\"},{\"attributes\":{\"line_color\":\"#4daf4a\",\"line_width\":1.5,\"x\":{\"field\":\"x\"},\"y\":{\"field\":\"y\"}},\"id\":\"1e35d2ce-0770-455e-9a1e-81472f4f3eee\",\"type\":\"Line\"},{\"attributes\":{\"children\":[{\"id\":\"faf9f6a7-3bef-4d54-ad07-c768fbe343ba\",\"type\":\"Row\"}]},\"id\":\"4c296073-dd1f-4502-b515-c51d45243a97\",\"type\":\"Column\"},{\"attributes\":{\"data_source\":{\"id\":\"7fd1f01d-926a-412a-88cb-db60ea3ad445\",\"type\":\"ColumnDataSource\"},\"glyph\":{\"id\":\"a9d077c6-cb08-495b-a71a-c38dcf8377e6\",\"type\":\"Square\"},\"hover_glyph\":null,\"muted_glyph\":null,\"nonselection_glyph\":{\"id\":\"a629b5e3-4b23-4289-ac81-1ade675d38c5\",\"type\":\"Square\"},\"selection_glyph\":null,\"view\":{\"id\":\"ba148d74-a36a-4052-8ade-47f9b217f6b0\",\"type\":\"CDSView\"}},\"id\":\"f47c291a-6a21-4725-94a0-ccdae7577add\",\"type\":\"GlyphRenderer\"},{\"attributes\":{\"fill_alpha\":{\"value\":0.1},\"fill_color\":{\"value\":\"#1f77b4\"},\"line_alpha\":{\"value\":0.1},\"line_color\":{\"value\":\"#1f77b4\"},\"x\":{\"field\":\"x\"},\"y\":{\"field\":\"y\"}},\"id\":\"ea1cd486-b274-4a1c-994e-8b9add124f80\",\"type\":\"Circle\"},{\"attributes\":{},\"id\":\"533fc88f-7a36-4a89-bfcc-9c8d8eb54ec1\",\"type\":\"LogScale\"},{\"attributes\":{\"data_source\":{\"id\":\"880ec41c-de0a-4ea7-8c27-adf8cf248622\",\"type\":\"ColumnDataSource\"},\"glyph\":{\"id\":\"1e35d2ce-0770-455e-9a1e-81472f4f3eee\",\"type\":\"Line\"},\"hover_glyph\":null,\"muted_glyph\":null,\"nonselection_glyph\":{\"id\":\"2a1f7e05-b591-4b7b-98a4-ada723a511db\",\"type\":\"Line\"},\"selection_glyph\":null,\"view\":{\"id\":\"cb0150c9-fd76-4fde-a7fa-db86a29b3bcc\",\"type\":\"CDSView\"}},\"id\":\"3fac08a2-5007-470b-baa7-a6444f55f4b1\",\"type\":\"GlyphRenderer\"},{\"attributes\":{\"source\":{\"id\":\"7fd1f01d-926a-412a-88cb-db60ea3ad445\",\"type\":\"ColumnDataSource\"}},\"id\":\"ba148d74-a36a-4052-8ade-47f9b217f6b0\",\"type\":\"CDSView\"},{\"attributes\":{\"bottom_units\":\"screen\",\"fill_alpha\":{\"value\":0.5},\"fill_color\":{\"value\":\"lightgrey\"},\"left_units\":\"screen\",\"level\":\"overlay\",\"line_alpha\":{\"value\":1.0},\"line_color\":{\"value\":\"black\"},\"line_dash\":[4,4],\"line_width\":{\"value\":2},\"plot\":null,\"render_mode\":\"css\",\"right_units\":\"screen\",\"top_units\":\"screen\"},\"id\":\"35a72763-c015-4359-a3d6-0a7ecc7733af\",\"type\":\"BoxAnnotation\"},{\"attributes\":{\"callback\":null,\"end\":0.16389645826,\"start\":-0.02466566426},\"id\":\"200fa280-7caa-4925-b943-7d1328fa30c2\",\"type\":\"Range1d\"},{\"attributes\":{\"callback\":null,\"end\":0.01,\"start\":1020},\"id\":\"37cf9ce2-f48a-4040-ae61-f8602892ba9f\",\"type\":\"Range1d\"},{\"attributes\":{},\"id\":\"d8fc3653-a2b7-455f-a2a1-4f63ab68794c\",\"type\":\"PanTool\"},{\"attributes\":{},\"id\":\"6fcb0fe4-7b9b-4e2b-bf01-b62ebcb6ae70\",\"type\":\"LinearScale\"},{\"attributes\":{\"data_source\":{\"id\":\"d05fc865-1b61-489b-8ab8-a514a97ca6e5\",\"type\":\"ColumnDataSource\"},\"glyph\":{\"id\":\"b5197f2d-a080-442e-9a03-f519b6299a6e\",\"type\":\"Line\"},\"hover_glyph\":null,\"muted_glyph\":null,\"nonselection_glyph\":{\"id\":\"44586fb9-98a1-498e-a9aa-3fcdf6e36af7\",\"type\":\"Line\"},\"selection_glyph\":null,\"view\":{\"id\":\"cc2f846a-7347-4afa-a623-3c89e5310117\",\"type\":\"CDSView\"}},\"id\":\"1abbd4d2-1466-4ffa-abbe-7ccc5e1c39e9\",\"type\":\"GlyphRenderer\"},{\"attributes\":{},\"id\":\"d4f7f470-c94e-4805-9de3-2e8bea874875\",\"type\":\"WheelZoomTool\"},{\"attributes\":{\"fill_alpha\":{\"value\":0.7},\"fill_color\":{\"value\":\"#4daf4a\"},\"line_alpha\":{\"value\":0.7},\"line_color\":{\"value\":\"#4daf4a\"},\"x\":{\"field\":\"x\"},\"y\":{\"field\":\"y\"}},\"id\":\"6afbd2ab-083b-420e-99ea-324a2e65c35a\",\"type\":\"Circle\"},{\"attributes\":{\"overlay\":{\"id\":\"35a72763-c015-4359-a3d6-0a7ecc7733af\",\"type\":\"BoxAnnotation\"}},\"id\":\"9f3139c2-a69d-45c2-aab8-4ea4b003c33e\",\"type\":\"BoxZoomTool\"},{\"attributes\":{\"source\":{\"id\":\"6e84351a-516e-4485-9225-809664e525e5\",\"type\":\"ColumnDataSource\"}},\"id\":\"17e5b3c8-076d-4ec9-8c10-55958079e55e\",\"type\":\"CDSView\"},{\"attributes\":{\"fill_alpha\":{\"value\":0.7},\"fill_color\":{\"value\":\"#984ea3\"},\"line_alpha\":{\"value\":0.7},\"line_color\":{\"value\":\"#984ea3\"},\"x\":{\"field\":\"x\"},\"y\":{\"field\":\"y\"}},\"id\":\"a9d077c6-cb08-495b-a71a-c38dcf8377e6\",\"type\":\"Square\"},{\"attributes\":{},\"id\":\"0e9ca37f-5b8e-415f-ad8e-a992805854b8\",\"type\":\"SaveTool\"},{\"attributes\":{\"plot\":null,\"text\":\"Linear pressure scale\"},\"id\":\"9def51f7-b313-40c8-982d-d769e4fe26a4\",\"type\":\"Title\"},{\"attributes\":{\"source\":{\"id\":\"e1845f6f-1405-4e2c-be12-5cd55c6e5412\",\"type\":\"ColumnDataSource\"}},\"id\":\"50a2f139-2d7d-4cca-a79f-3077e8cff15a\",\"type\":\"CDSView\"},{\"attributes\":{\"callback\":null,\"column_names\":[\"x\",\"y\"],\"data\":{\"x\":{\"__ndarray__\":\"6er/niG61D9LnrlKxOHUPxa5zTrDkdU/q030nIhJ1j/stDLmOuPWPznPkpsVW9c/T2m/Hc6o1z+LFBbycLvXPzpoAoR3f9c/rg3lVIPf1j/j25ggssLVP/eP/nkxBtQ/N7hivaOG0T9bxV5ueKHMP4MIbxlPTco/ZBvVNKq+zj+8+b+9LAfSPxGD2rwokdM/4lFwzXXK1D8XxNeFBVHXP/KQxGjVON0//myIv4yY4z+VLYngNSjlP3lS0Vkg+eI/odku+WVH4D9LAL9Q2GnaP8643dlXmNU/9PqVDMTs0T8tH/NizXTNP5fCX6qobsc/u0P/N9LswT/S0/Rb4HW6Pw+9KsNH9rI/8RyGe2Hlqz/BMOoVPI6eP1gJARJhCVS/Dlx5F5/Alr/3PuqnW8mSv/v3EDlXskk/JMN0/xxPij+75VR3OcOXPz8XfZlmdqA/CBZlI1hkpD9cVkl19sinPzZn6Mf1yao/H9PAEc+HrT9dtfb8CgywP48oNg8zSLE/dfg7mO17sj+bpaSriKqzPzjKH6hd1rQ/Ole6BOP/tT+Su7836yW3Px/1FItaRLg/bCestB1duT9/cllKKnC6P82OI9c6frs/jGzwuUeLvD9+eV1Ac569P/WJHAaQvb4/pR+ZATvhvz/VsQsT7mLAPxXwnuIbdcA/ZOkPJLEQwD+U7f7ly9e+P+hlZ9Gwtr0/ljqQwUEwvT/5ixPcYVe9P8D51mos8b0/1pSorajBvj/5zV/o1ra/P6RyosoCbsA/MUBa/hsqwT+DZQ8C8jzCP6TxxFvsisQ/\",\"dtype\":\"float64\",\"shape\":[75]},\"y\":{\"__ndarray__\":\"GhExyth1ND/Sv8nbtpRIP2vylNV0PVE/aTum7souWD/At0SJ8fVgPw3Iuahxymc/MSNhhJWvcD/bTfBN02d3P2zb5nxnaoA/CD5h5MAGhz8NmeH1TyaQP+zrCsc9p5Y/LbKd76fGnz/bLW5ISEmmPww9YvTcQq8/JV2OstnstT8Er5Y7M8G+P0c+r3jqkcU/5h99k6ZBzj88bCIzFzjVP4enV8oyxN0//yH99nXg5D8qOpLLf0jtP5kqGJXUifQ/c9cS8kHP/D+/DpwzojQEQIEmwoanVwxA4lgXt9HgE0BSSZ2AJuIbQAMJih9jjiNA5q4l5INuK0AwTKYKRj0zQNv5fmq8/DpAaCJseHrtQkB/+zpwzoxKQM3MzMzMeFJAZmZmZmZqWEAAAAAAAFxeQM3MzMzMJmJAmpmZmZkfZUBmZmZmZhhoQDMzMzMzEWtAAAAAAAAKbkBmZmZmZoFwQM3MzMzM/XFAMzMzMzN6c0CamZmZmfZ0QAAAAAAAc3ZAZmZmZmbvd0DNzMzMzGt5QDMzMzMz6HpAmpmZmZlkfEAAAAAAAOF9QGZmZmZmXX9AZmZmZuZsgECamZmZGSuBQM3MzMxM6YFAAAAAAICngkAzMzMzs2WDQGZmZmbmI4RAmpmZmRnihEDNzMzMTKCFQAAAAACAXoZAMzMzM7Mch0BmZmZm5tqHQJqZmZkZmYhAzczMzExXiUAAAAAAgBWKQDMzMzOz04pAZmZmZuaRi0CamZmZGVCMQM3MzMxMDo1AAAAAAIDMjUAzMzMzs4qOQGZmZmbmSI9A\",\"dtype\":\"float64\",\"shape\":[75]}}},\"id\":\"64990df9-0357-4d79-bd59-6785608dff30\",\"type\":\"ColumnDataSource\"},{\"attributes\":{},\"id\":\"ed3cb0fe-9072-470a-a9a2-24e38f890848\",\"type\":\"HelpTool\"},{\"attributes\":{\"source\":{\"id\":\"96585561-4080-46d8-8173-e0e3adccc2e0\",\"type\":\"ColumnDataSource\"}},\"id\":\"d825ad9b-3a89-4acc-9ade-56f12645bfcb\",\"type\":\"CDSView\"},{\"attributes\":{},\"id\":\"2c38b92f-5eb8-4165-8c3b-1262563bceb5\",\"type\":\"BasicTicker\"},{\"attributes\":{\"callback\":null,\"column_names\":[\"x\",\"y\"],\"data\":{\"x\":{\"__ndarray__\":\"qj+IhdZa2j8G4PoLmBvaP+jLoBSMzto/ctr4uNta2z/MtUfz8LPbPxESDmIM0ds/tffrRgaW2z/gIbUe+PfaP9OsQ6DA3Nk/eQE47nsx2D/DGh1G9+LVP3BMBcvH5NI/4CxG2TJLzj8Fx8CVR5LFP+LMr+YAwcE/DudMoKnTxT+2os1xbhPMPxhOiG8XENE/oZUHK0bE1D94yShkIdnZP0eyBYxHrOA/ZS+ho9HU5T/Da2636tvmPxM0PZPD6OM//Vnit9e44D/rQFIbByTaP0cQnVTqCNQ/Cg3lwILmzj+zz8a+IkfIP3xXkKhIbMM/xLpttiTNvj+doG4ciJe3P58akgfgbrE/HsfNeHSGqT9CVUIzLJ+ZP2xfuqztnXG/qpoMBlhdl7+Ig9VvXlCUv1TzBBl0j2u/t1mCrY7zfT/2mtz3wVyRP4doxU6ws5o/PLGvvn/IoT958CykcPulP08lwSND8ak/ltk5MC2orT9OOZEm/4+wP/CVE8lkLLI/b5EocpCpsz+n3YKB9Ai1PxJtQ5y5TbY/0hS4dzh6tz98/QSojZC4P1a6WKTLk7k/DnOb09mHuj/EK8VlR3C7P8TJw2O7Urw/83Iampk2vT/PFzkT7CK+PwrjXeRUIb8/nDfK0U4TwD86z5Z7mnbAP6+XpghwesA/n4CaGJoEwD/uqu4uo5q+P6kCpOzjV70/vDWXuOG5vD9rA8Etada8P86Rrvymbr0/3r6aRSBFvj8rGHTGIEW/P+qkjPKrPcA/pqPzTPUFwT9aDhVfxCnCPyrv2/dFlcQ/\",\"dtype\":\"float64\",\"shape\":[75]},\"y\":{\"__ndarray__\":\"GhExyth1ND/Sv8nbtpRIP2vylNV0PVE/aTum7souWD/At0SJ8fVgPw3Iuahxymc/MSNhhJWvcD/bTfBN02d3P2zb5nxnaoA/CD5h5MAGhz8NmeH1TyaQP+zrCsc9p5Y/LbKd76fGnz/bLW5ISEmmPww9YvTcQq8/JV2OstnstT8Er5Y7M8G+P0c+r3jqkcU/5h99k6ZBzj88bCIzFzjVP4enV8oyxN0//yH99nXg5D8qOpLLf0jtP5kqGJXUifQ/c9cS8kHP/D+/DpwzojQEQIEmwoanVwxA4lgXt9HgE0BSSZ2AJuIbQAMJih9jjiNA5q4l5INuK0AwTKYKRj0zQNv5fmq8/DpAaCJseHrtQkB/+zpwzoxKQM3MzMzMeFJAZmZmZmZqWEAAAAAAAFxeQM3MzMzMJmJAmpmZmZkfZUBmZmZmZhhoQDMzMzMzEWtAAAAAAAAKbkBmZmZmZoFwQM3MzMzM/XFAMzMzMzN6c0CamZmZmfZ0QAAAAAAAc3ZAZmZmZmbvd0DNzMzMzGt5QDMzMzMz6HpAmpmZmZlkfEAAAAAAAOF9QGZmZmZmXX9AZmZmZuZsgECamZmZGSuBQM3MzMxM6YFAAAAAAICngkAzMzMzs2WDQGZmZmbmI4RAmpmZmRnihEDNzMzMTKCFQAAAAACAXoZAMzMzM7Mch0BmZmZm5tqHQJqZmZkZmYhAzczMzExXiUAAAAAAgBWKQDMzMzOz04pAZmZmZuaRi0CamZmZGVCMQM3MzMxMDo1AAAAAAIDMjUAzMzMzs4qOQGZmZmbmSI9A\",\"dtype\":\"float64\",\"shape\":[75]}}},\"id\":\"880ec41c-de0a-4ea7-8c27-adf8cf248622\",\"type\":\"ColumnDataSource\"},{\"attributes\":{},\"id\":\"08b81241-e8d0-47bc-a462-a5429efc908a\",\"type\":\"ResetTool\"},{\"attributes\":{\"axis_label\":\"cooling rate [K/day]\",\"formatter\":{\"id\":\"82a4ac32-8da5-4910-a6df-efdcf45256c9\",\"type\":\"BasicTickFormatter\"},\"plot\":{\"id\":\"1403d1c2-a527-499a-bfbc-0e3e0e2e622e\",\"subtype\":\"Figure\",\"type\":\"Plot\"},\"ticker\":{\"id\":\"2c38b92f-5eb8-4165-8c3b-1262563bceb5\",\"type\":\"BasicTicker\"}},\"id\":\"c6476843-ffe4-4e11-aa37-39f2a72d2f17\",\"type\":\"LinearAxis\"},{\"attributes\":{\"line_alpha\":0.6,\"line_color\":\"#984ea3\",\"line_width\":3,\"x\":{\"field\":\"x\"},\"y\":{\"field\":\"y\"}},\"id\":\"15db5b32-b2d1-4c05-aa1a-b24b65029ca9\",\"type\":\"Line\"},{\"attributes\":{\"line_alpha\":0.1,\"line_color\":\"#1f77b4\",\"line_width\":1.5,\"x\":{\"field\":\"x\"},\"y\":{\"field\":\"y\"}},\"id\":\"2a1f7e05-b591-4b7b-98a4-ada723a511db\",\"type\":\"Line\"},{\"attributes\":{\"tools\":[{\"id\":\"cbd1e13e-e309-4017-a61f-19f9f9f0d59e\",\"type\":\"PanTool\"},{\"id\":\"9fce6387-e48b-4c73-9cc1-b241e863e193\",\"type\":\"WheelZoomTool\"},{\"id\":\"a4178e62-ba7b-4a67-87a2-58d1740782c3\",\"type\":\"BoxZoomTool\"},{\"id\":\"900cc321-7c4c-4928-9afd-f881ce5fe6b9\",\"type\":\"SaveTool\"},{\"id\":\"ffac140b-779c-4a68-a8e2-310ed3c8cb21\",\"type\":\"ResetTool\"},{\"id\":\"1250a351-c803-409d-aea0-8df85d74db40\",\"type\":\"HelpTool\"},{\"id\":\"d8fc3653-a2b7-455f-a2a1-4f63ab68794c\",\"type\":\"PanTool\"},{\"id\":\"d4f7f470-c94e-4805-9de3-2e8bea874875\",\"type\":\"WheelZoomTool\"},{\"id\":\"9f3139c2-a69d-45c2-aab8-4ea4b003c33e\",\"type\":\"BoxZoomTool\"},{\"id\":\"0e9ca37f-5b8e-415f-ad8e-a992805854b8\",\"type\":\"SaveTool\"},{\"id\":\"08b81241-e8d0-47bc-a462-a5429efc908a\",\"type\":\"ResetTool\"},{\"id\":\"ed3cb0fe-9072-470a-a9a2-24e38f890848\",\"type\":\"HelpTool\"}]},\"id\":\"b7a27e0f-d37b-4d68-b91e-b7e5402e66a5\",\"type\":\"ProxyToolbar\"},{\"attributes\":{\"callback\":null,\"column_names\":[\"x\",\"y\"],\"data\":{\"x\":{\"__ndarray__\":\"6er/niG61D9LnrlKxOHUPxa5zTrDkdU/q030nIhJ1j/stDLmOuPWPznPkpsVW9c/T2m/Hc6o1z+LFBbycLvXPzpoAoR3f9c/rg3lVIPf1j/j25ggssLVP/eP/nkxBtQ/N7hivaOG0T9bxV5ueKHMP4MIbxlPTco/ZBvVNKq+zj+8+b+9LAfSPxGD2rwokdM/4lFwzXXK1D8XxNeFBVHXP/KQxGjVON0//myIv4yY4z+VLYngNSjlP3lS0Vkg+eI/odku+WVH4D9LAL9Q2GnaP8643dlXmNU/9PqVDMTs0T8tH/NizXTNP5fCX6qobsc/u0P/N9LswT/S0/Rb4HW6Pw+9KsNH9rI/8RyGe2Hlqz/BMOoVPI6eP1gJARJhCVS/Dlx5F5/Alr/3PuqnW8mSv/v3EDlXskk/JMN0/xxPij+75VR3OcOXPz8XfZlmdqA/CBZlI1hkpD9cVkl19sinPzZn6Mf1yao/H9PAEc+HrT9dtfb8CgywP48oNg8zSLE/dfg7mO17sj+bpaSriKqzPzjKH6hd1rQ/Ole6BOP/tT+Su7836yW3Px/1FItaRLg/bCestB1duT9/cllKKnC6P82OI9c6frs/jGzwuUeLvD9+eV1Ac569P/WJHAaQvb4/pR+ZATvhvz/VsQsT7mLAPxXwnuIbdcA/ZOkPJLEQwD+U7f7ly9e+P+hlZ9Gwtr0/ljqQwUEwvT/5ixPcYVe9P8D51mos8b0/1pSorajBvj/5zV/o1ra/P6RyosoCbsA/MUBa/hsqwT+DZQ8C8jzCP6TxxFvsisQ/\",\"dtype\":\"float64\",\"shape\":[75]},\"y\":{\"__ndarray__\":\"GhExyth1ND/Sv8nbtpRIP2vylNV0PVE/aTum7souWD/At0SJ8fVgPw3Iuahxymc/MSNhhJWvcD/bTfBN02d3P2zb5nxnaoA/CD5h5MAGhz8NmeH1TyaQP+zrCsc9p5Y/LbKd76fGnz/bLW5ISEmmPww9YvTcQq8/JV2OstnstT8Er5Y7M8G+P0c+r3jqkcU/5h99k6ZBzj88bCIzFzjVP4enV8oyxN0//yH99nXg5D8qOpLLf0jtP5kqGJXUifQ/c9cS8kHP/D+/DpwzojQEQIEmwoanVwxA4lgXt9HgE0BSSZ2AJuIbQAMJih9jjiNA5q4l5INuK0AwTKYKRj0zQNv5fmq8/DpAaCJseHrtQkB/+zpwzoxKQM3MzMzMeFJAZmZmZmZqWEAAAAAAAFxeQM3MzMzMJmJAmpmZmZkfZUBmZmZmZhhoQDMzMzMzEWtAAAAAAAAKbkBmZmZmZoFwQM3MzMzM/XFAMzMzMzN6c0CamZmZmfZ0QAAAAAAAc3ZAZmZmZmbvd0DNzMzMzGt5QDMzMzMz6HpAmpmZmZlkfEAAAAAAAOF9QGZmZmZmXX9AZmZmZuZsgECamZmZGSuBQM3MzMxM6YFAAAAAAICngkAzMzMzs2WDQGZmZmbmI4RAmpmZmRnihEDNzMzMTKCFQAAAAACAXoZAMzMzM7Mch0BmZmZm5tqHQJqZmZkZmYhAzczMzExXiUAAAAAAgBWKQDMzMzOz04pAZmZmZuaRi0CamZmZGVCMQM3MzMxMDo1AAAAAAIDMjUAzMzMzs4qOQGZmZmbmSI9A\",\"dtype\":\"float64\",\"shape\":[75]}}},\"id\":\"5b44b5d6-2a5d-41ab-9dda-1bc9ea6aba2d\",\"type\":\"ColumnDataSource\"},{\"attributes\":{\"callback\":null,\"column_names\":[\"x\",\"y\"],\"data\":{\"x\":{\"__ndarray__\":\"jdmr8rH5zT/uJAHuon3OP3XXRCyD5s8/BeYZ4vWs0D8KSckfyl/RP4mgQXU5BtI/u8a6+qmY0j8IgjJTew3TP6Qwc6pKVdM/yseL2Glc0z9TIBbeowbTPz+pF/hhL9I/w7g8UlSo0D9r5bGogOLMP1Zht/ip5Ms/UDQPYJFf0D88VmPoXPrSP9O9sRSH+9M/BUaoY98f1D8Kb+bCDoTVPwAJ3B3G4to/HgMunxeU4j9vj1LHMpbkP7Jhj4Ej3uI/3Wj4/Tht4D91hpCQ1MTaPwPJ4M2/AtY/PR/xbfJC0j9KOF+yEu/NPxCH17tgbMc/VtFhtku4wT8dUPw5gcC5Py4/4uoPs7E/itHd7/wUqT9lx3ZZdDScP04+qJMQ2Ui/nJNgbzfIlb/wTR/2THOSv1mCKsST/DC/7ytQN8I1hj8C9a2pCESVP8Y4QrDxM54/7xKDXaDmoj/hKJqDdySmPwtgqbIYCqk/huzDR7Kxqz9nghsITTuuP7fA/wVrZLA/0gvKdrausT/F+u2Ilv6yPxE+YXckWLQ/kYLcgvu6tT9LYaY57h63Pyrcg/Q6gLg/mzTT3lzTuT9540l3fCC7PyMbYbQ7Yrw/r/L8UAaavT8gPjQcZMy+P2WPzPr//r8/6jyuNpSUwD+2i2E1MwbBP/k6HYZeGME/mQif1gK1wD+C910qmRDAP5uXP7aX+r4/10dtA/Nnvj/yE5w07Hu+P1mQoNcj/b4/NtdAJXS4vz97/DlgskzAP/6kkBrJ1MA/Qzio9WWGwT/hUkJujozCP2dRK477vcQ/\",\"dtype\":\"float64\",\"shape\":[75]},\"y\":{\"__ndarray__\":\"S/O/Q+51ND/Sv8nbtpRIP2vylNV0PVE/aTum7souWD/At0SJ8fVgPw3Iuahxymc/MSNhhJWvcD/bTfBN02d3P2zb5nxnaoA/CD5h5MAGhz8NmeH1TyaQP+zrCsc9p5Y/LbKd76fGnz/bLW5ISEmmPww9YvTcQq8/JV2OstnstT8Er5Y7M8G+P0c+r3jqkcU/5h99k6ZBzj88bCIzFzjVP4enV8oyxN0//yH99nXg5D8qOpLLf0jtP5kqGJXUifQ/c9cS8kHP/D+/DpwzojQEQIEmwoanVwxA4lgXt9HgE0BSSZ2AJuIbQAMJih9jjiNA5q4l5INuK0AwTKYKRj0zQNv5fmq8/DpAaCJseHrtQkB/+zpwzoxKQM3MzMzMeFJAZmZmZmZqWEAAAAAAAFxeQM3MzMzMJmJAmpmZmZkfZUBmZmZmZhhoQDMzMzMzEWtAAAAAAAAKbkBmZmZmZoFwQM3MzMzM/XFAMzMzMzN6c0CamZmZmfZ0QAAAAAAAc3ZAZmZmZmbvd0DNzMzMzGt5QDMzMzMz6HpAmpmZmZlkfEAAAAAAAOF9QGZmZmZmXX9AZmZmZuZsgECamZmZGSuBQM3MzMxM6YFAAAAAAICngkAzMzMzs2WDQGZmZmbmI4RAmpmZmRnihEDNzMzMTKCFQAAAAACAXoZAMzMzM7Mch0BmZmZm5tqHQJqZmZkZmYhAzczMzExXiUAAAAAAgBWKQDMzMzOz04pAZmZmZuaRi0CamZmZGVCMQM3MzMxMDo1AAAAAAIDMjUAzMzMzs4qOQGZmZmbmSI9A\",\"dtype\":\"float64\",\"shape\":[75]}}},\"id\":\"6c35fa5b-9d96-4c11-aa36-43d052ba8039\",\"type\":\"ColumnDataSource\"},{\"attributes\":{\"source\":{\"id\":\"880ec41c-de0a-4ea7-8c27-adf8cf248622\",\"type\":\"ColumnDataSource\"}},\"id\":\"cb0150c9-fd76-4fde-a7fa-db86a29b3bcc\",\"type\":\"CDSView\"},{\"attributes\":{\"fill_alpha\":{\"value\":0.7},\"fill_color\":{\"value\":\"#984ea3\"},\"line_alpha\":{\"value\":0.7},\"line_color\":{\"value\":\"#984ea3\"},\"x\":{\"field\":\"x\"},\"y\":{\"field\":\"y\"}},\"id\":\"f9ae7082-65d2-4ba3-8a8c-15e47329675c\",\"type\":\"Square\"},{\"attributes\":{\"items\":[{\"id\":\"9cdbef46-5645-4138-9535-dee33269b069\",\"type\":\"LegendItem\"},{\"id\":\"0ef21197-54db-430c-bf17-e145bae40836\",\"type\":\"LegendItem\"},{\"id\":\"127cca88-79f6-4dca-8fb3-17fcd92d667d\",\"type\":\"LegendItem\"}],\"label_text_font_size\":{\"value\":\"8pt\"},\"location\":[10,-30],\"plot\":{\"id\":\"bfb1be07-ff05-4377-8cff-ed3c52d83e1c\",\"subtype\":\"Figure\",\"type\":\"Plot\"}},\"id\":\"9778435d-6de8-46e0-97d4-0def3a2f18c3\",\"type\":\"Legend\"},{\"attributes\":{\"source\":{\"id\":\"64990df9-0357-4d79-bd59-6785608dff30\",\"type\":\"ColumnDataSource\"}},\"id\":\"f6fa9a95-5abf-4b2c-ba20-a9b6e50100c9\",\"type\":\"CDSView\"},{\"attributes\":{\"callback\":null,\"end\":0.7217169433599999,\"start\":-0.030188639360000002},\"id\":\"78bb471f-8d15-400e-98fa-b221b828525b\",\"type\":\"Range1d\"},{\"attributes\":{\"fill_alpha\":{\"value\":0.1},\"fill_color\":{\"value\":\"#1f77b4\"},\"line_alpha\":{\"value\":0.1},\"line_color\":{\"value\":\"#1f77b4\"},\"x\":{\"field\":\"x\"},\"y\":{\"field\":\"y\"}},\"id\":\"50f30a98-043c-4730-b1dd-7b75e5d04cb9\",\"type\":\"Square\"},{\"attributes\":{\"toolbar\":{\"id\":\"b7a27e0f-d37b-4d68-b91e-b7e5402e66a5\",\"type\":\"ProxyToolbar\"},\"toolbar_location\":\"above\"},\"id\":\"2f294e16-bde3-4576-bb75-d2e6557cd5e7\",\"type\":\"ToolbarBox\"},{\"attributes\":{},\"id\":\"9fce6387-e48b-4c73-9cc1-b241e863e193\",\"type\":\"WheelZoomTool\"},{\"attributes\":{\"data_source\":{\"id\":\"64990df9-0357-4d79-bd59-6785608dff30\",\"type\":\"ColumnDataSource\"},\"glyph\":{\"id\":\"f9ae7082-65d2-4ba3-8a8c-15e47329675c\",\"type\":\"Square\"},\"hover_glyph\":null,\"muted_glyph\":null,\"nonselection_glyph\":{\"id\":\"50f30a98-043c-4730-b1dd-7b75e5d04cb9\",\"type\":\"Square\"},\"selection_glyph\":null,\"view\":{\"id\":\"f6fa9a95-5abf-4b2c-ba20-a9b6e50100c9\",\"type\":\"CDSView\"}},\"id\":\"f868468e-b57e-4eef-a020-f9547e5c2657\",\"type\":\"GlyphRenderer\"},{\"attributes\":{\"callback\":null,\"column_names\":[\"x\",\"y\"],\"data\":{\"x\":{\"__ndarray__\":\"qj+IhdZa2j8G4PoLmBvaP+jLoBSMzto/ctr4uNta2z/MtUfz8LPbPxESDmIM0ds/tffrRgaW2z/gIbUe+PfaP9OsQ6DA3Nk/eQE47nsx2D/DGh1G9+LVP3BMBcvH5NI/4CxG2TJLzj8Fx8CVR5LFP+LMr+YAwcE/DudMoKnTxT+2os1xbhPMPxhOiG8XENE/oZUHK0bE1D94yShkIdnZP0eyBYxHrOA/ZS+ho9HU5T/Da2636tvmPxM0PZPD6OM//Vnit9e44D/rQFIbByTaP0cQnVTqCNQ/Cg3lwILmzj+zz8a+IkfIP3xXkKhIbMM/xLpttiTNvj+doG4ciJe3P58akgfgbrE/HsfNeHSGqT9CVUIzLJ+ZP2xfuqztnXG/qpoMBlhdl7+Ig9VvXlCUv1TzBBl0j2u/t1mCrY7zfT/2mtz3wVyRP4doxU6ws5o/PLGvvn/IoT958CykcPulP08lwSND8ak/ltk5MC2orT9OOZEm/4+wP/CVE8lkLLI/b5EocpCpsz+n3YKB9Ai1PxJtQ5y5TbY/0hS4dzh6tz98/QSojZC4P1a6WKTLk7k/DnOb09mHuj/EK8VlR3C7P8TJw2O7Urw/83Iampk2vT/PFzkT7CK+PwrjXeRUIb8/nDfK0U4TwD86z5Z7mnbAP6+XpghwesA/n4CaGJoEwD/uqu4uo5q+P6kCpOzjV70/vDWXuOG5vD9rA8Etada8P86Rrvymbr0/3r6aRSBFvj8rGHTGIEW/P+qkjPKrPcA/pqPzTPUFwT9aDhVfxCnCPyrv2/dFlcQ/\",\"dtype\":\"float64\",\"shape\":[75]},\"y\":{\"__ndarray__\":\"GhExyth1ND/Sv8nbtpRIP2vylNV0PVE/aTum7souWD/At0SJ8fVgPw3Iuahxymc/MSNhhJWvcD/bTfBN02d3P2zb5nxnaoA/CD5h5MAGhz8NmeH1TyaQP+zrCsc9p5Y/LbKd76fGnz/bLW5ISEmmPww9YvTcQq8/JV2OstnstT8Er5Y7M8G+P0c+r3jqkcU/5h99k6ZBzj88bCIzFzjVP4enV8oyxN0//yH99nXg5D8qOpLLf0jtP5kqGJXUifQ/c9cS8kHP/D+/DpwzojQEQIEmwoanVwxA4lgXt9HgE0BSSZ2AJuIbQAMJih9jjiNA5q4l5INuK0AwTKYKRj0zQNv5fmq8/DpAaCJseHrtQkB/+zpwzoxKQM3MzMzMeFJAZmZmZmZqWEAAAAAAAFxeQM3MzMzMJmJAmpmZmZkfZUBmZmZmZhhoQDMzMzMzEWtAAAAAAAAKbkBmZmZmZoFwQM3MzMzM/XFAMzMzMzN6c0CamZmZmfZ0QAAAAAAAc3ZAZmZmZmbvd0DNzMzMzGt5QDMzMzMz6HpAmpmZmZlkfEAAAAAAAOF9QGZmZmZmXX9AZmZmZuZsgECamZmZGSuBQM3MzMxM6YFAAAAAAICngkAzMzMzs2WDQGZmZmbmI4RAmpmZmRnihEDNzMzMTKCFQAAAAACAXoZAMzMzM7Mch0BmZmZm5tqHQJqZmZkZmYhAzczMzExXiUAAAAAAgBWKQDMzMzOz04pAZmZmZuaRi0CamZmZGVCMQM3MzMxMDo1AAAAAAIDMjUAzMzMzs4qOQGZmZmbmSI9A\",\"dtype\":\"float64\",\"shape\":[75]}}},\"id\":\"e1845f6f-1405-4e2c-be12-5cd55c6e5412\",\"type\":\"ColumnDataSource\"},{\"attributes\":{\"callback\":null,\"column_names\":[\"x\",\"y\"],\"data\":{\"x\":{\"__ndarray__\":\"6er/niG61D9LnrlKxOHUPxa5zTrDkdU/q030nIhJ1j/stDLmOuPWPznPkpsVW9c/T2m/Hc6o1z+LFBbycLvXPzpoAoR3f9c/rg3lVIPf1j/j25ggssLVP/eP/nkxBtQ/N7hivaOG0T9bxV5ueKHMP4MIbxlPTco/ZBvVNKq+zj+8+b+9LAfSPxGD2rwokdM/4lFwzXXK1D8XxNeFBVHXP/KQxGjVON0//myIv4yY4z+VLYngNSjlP3lS0Vkg+eI/odku+WVH4D9LAL9Q2GnaP8643dlXmNU/9PqVDMTs0T8tH/NizXTNP5fCX6qobsc/u0P/N9LswT/S0/Rb4HW6Pw+9KsNH9rI/8RyGe2Hlqz/BMOoVPI6eP1gJARJhCVS/Dlx5F5/Alr/3PuqnW8mSv/v3EDlXskk/JMN0/xxPij+75VR3OcOXPz8XfZlmdqA/CBZlI1hkpD9cVkl19sinPzZn6Mf1yao/H9PAEc+HrT9dtfb8CgywP48oNg8zSLE/dfg7mO17sj+bpaSriKqzPzjKH6hd1rQ/Ole6BOP/tT+Su7836yW3Px/1FItaRLg/bCestB1duT9/cllKKnC6P82OI9c6frs/jGzwuUeLvD9+eV1Ac569P/WJHAaQvb4/pR+ZATvhvz/VsQsT7mLAPxXwnuIbdcA/ZOkPJLEQwD+U7f7ly9e+P+hlZ9Gwtr0/ljqQwUEwvT/5ixPcYVe9P8D51mos8b0/1pSorajBvj/5zV/o1ra/P6RyosoCbsA/MUBa/hsqwT+DZQ8C8jzCP6TxxFvsisQ/\",\"dtype\":\"float64\",\"shape\":[75]},\"y\":{\"__ndarray__\":\"GhExyth1ND/Sv8nbtpRIP2vylNV0PVE/aTum7souWD/At0SJ8fVgPw3Iuahxymc/MSNhhJWvcD/bTfBN02d3P2zb5nxnaoA/CD5h5MAGhz8NmeH1TyaQP+zrCsc9p5Y/LbKd76fGnz/bLW5ISEmmPww9YvTcQq8/JV2OstnstT8Er5Y7M8G+P0c+r3jqkcU/5h99k6ZBzj88bCIzFzjVP4enV8oyxN0//yH99nXg5D8qOpLLf0jtP5kqGJXUifQ/c9cS8kHP/D+/DpwzojQEQIEmwoanVwxA4lgXt9HgE0BSSZ2AJuIbQAMJih9jjiNA5q4l5INuK0AwTKYKRj0zQNv5fmq8/DpAaCJseHrtQkB/+zpwzoxKQM3MzMzMeFJAZmZmZmZqWEAAAAAAAFxeQM3MzMzMJmJAmpmZmZkfZUBmZmZmZhhoQDMzMzMzEWtAAAAAAAAKbkBmZmZmZoFwQM3MzMzM/XFAMzMzMzN6c0CamZmZmfZ0QAAAAAAAc3ZAZmZmZmbvd0DNzMzMzGt5QDMzMzMz6HpAmpmZmZlkfEAAAAAAAOF9QGZmZmZmXX9AZmZmZuZsgECamZmZGSuBQM3MzMxM6YFAAAAAAICngkAzMzMzs2WDQGZmZmbmI4RAmpmZmRnihEDNzMzMTKCFQAAAAACAXoZAMzMzM7Mch0BmZmZm5tqHQJqZmZkZmYhAzczMzExXiUAAAAAAgBWKQDMzMzOz04pAZmZmZuaRi0CamZmZGVCMQM3MzMxMDo1AAAAAAIDMjUAzMzMzs4qOQGZmZmbmSI9A\",\"dtype\":\"float64\",\"shape\":[75]}}},\"id\":\"7fd1f01d-926a-412a-88cb-db60ea3ad445\",\"type\":\"ColumnDataSource\"},{\"attributes\":{\"source\":{\"id\":\"5b44b5d6-2a5d-41ab-9dda-1bc9ea6aba2d\",\"type\":\"ColumnDataSource\"}},\"id\":\"c5fe8ae5-8d8c-434a-b897-8b677ff1a40a\",\"type\":\"CDSView\"},{\"attributes\":{\"line_alpha\":0.6,\"line_color\":\"#e41a1c\",\"line_dash\":[6],\"line_width\":5,\"x\":{\"field\":\"x\"},\"y\":{\"field\":\"y\"}},\"id\":\"b008bfa5-6cb5-4ceb-87e7-b0e8b469a28d\",\"type\":\"Line\"},{\"attributes\":{\"overlay\":{\"id\":\"3343d391-f5f3-4762-afcd-093d14cfc7d1\",\"type\":\"BoxAnnotation\"}},\"id\":\"a4178e62-ba7b-4a67-87a2-58d1740782c3\",\"type\":\"BoxZoomTool\"},{\"attributes\":{\"line_alpha\":0.1,\"line_color\":\"#1f77b4\",\"line_width\":3,\"x\":{\"field\":\"x\"},\"y\":{\"field\":\"y\"}},\"id\":\"db6c05da-4661-4cd1-8d69-b59137103c0f\",\"type\":\"Line\"},{\"attributes\":{\"data_source\":{\"id\":\"5b44b5d6-2a5d-41ab-9dda-1bc9ea6aba2d\",\"type\":\"ColumnDataSource\"},\"glyph\":{\"id\":\"15db5b32-b2d1-4c05-aa1a-b24b65029ca9\",\"type\":\"Line\"},\"hover_glyph\":null,\"muted_glyph\":null,\"nonselection_glyph\":{\"id\":\"db6c05da-4661-4cd1-8d69-b59137103c0f\",\"type\":\"Line\"},\"selection_glyph\":null,\"view\":{\"id\":\"c5fe8ae5-8d8c-434a-b897-8b677ff1a40a\",\"type\":\"CDSView\"}},\"id\":\"2c854765-d38d-42b2-ab98-3a509c4d34cd\",\"type\":\"GlyphRenderer\"},{\"attributes\":{},\"id\":\"cbd1e13e-e309-4017-a61f-19f9f9f0d59e\",\"type\":\"PanTool\"},{\"attributes\":{\"plot\":{\"id\":\"1403d1c2-a527-499a-bfbc-0e3e0e2e622e\",\"subtype\":\"Figure\",\"type\":\"Plot\"},\"ticker\":{\"id\":\"2c38b92f-5eb8-4165-8c3b-1262563bceb5\",\"type\":\"BasicTicker\"}},\"id\":\"423e7b81-06e2-48d5-89e9-3cefd199ddaf\",\"type\":\"Grid\"},{\"attributes\":{\"callback\":null,\"end\":0.01,\"start\":1020},\"id\":\"38bda983-aa92-4fb6-9366-77f54e83d81b\",\"type\":\"Range1d\"},{\"attributes\":{\"source\":{\"id\":\"6c35fa5b-9d96-4c11-aa36-43d052ba8039\",\"type\":\"ColumnDataSource\"}},\"id\":\"ec7013cb-d71f-4082-b961-bd380d33a760\",\"type\":\"CDSView\"},{\"attributes\":{\"label\":{\"value\":\"WGT igg=10 wgt_flux=2\"},\"renderers\":[{\"id\":\"f868468e-b57e-4eef-a020-f9547e5c2657\",\"type\":\"GlyphRenderer\"},{\"id\":\"2c854765-d38d-42b2-ab98-3a509c4d34cd\",\"type\":\"GlyphRenderer\"}]},\"id\":\"127cca88-79f6-4dca-8fb3-17fcd92d667d\",\"type\":\"LegendItem\"},{\"attributes\":{},\"id\":\"900cc321-7c4c-4928-9afd-f881ce5fe6b9\",\"type\":\"SaveTool\"},{\"attributes\":{\"label\":{\"value\":\"CLIRAD `coolr_bands`\"},\"renderers\":[{\"id\":\"4c8ce6c9-bbe2-4a88-b439-2e67eb1e2d3e\",\"type\":\"GlyphRenderer\"}]},\"id\":\"9cdbef46-5645-4138-9535-dee33269b069\",\"type\":\"LegendItem\"},{\"attributes\":{\"children\":[{\"id\":\"2f294e16-bde3-4576-bb75-d2e6557cd5e7\",\"type\":\"ToolbarBox\"},{\"id\":\"4c296073-dd1f-4502-b515-c51d45243a97\",\"type\":\"Column\"}]},\"id\":\"d0755acb-3972-4d56-9751-ea6b8a58950f\",\"type\":\"Column\"},{\"attributes\":{},\"id\":\"82a4ac32-8da5-4910-a6df-efdcf45256c9\",\"type\":\"BasicTickFormatter\"},{\"attributes\":{},\"id\":\"1250a351-c803-409d-aea0-8df85d74db40\",\"type\":\"HelpTool\"},{\"attributes\":{\"dimension\":1,\"plot\":{\"id\":\"1403d1c2-a527-499a-bfbc-0e3e0e2e622e\",\"subtype\":\"Figure\",\"type\":\"Plot\"},\"ticker\":{\"id\":\"bd8c890a-2019-4af5-be18-a46d7b2da734\",\"type\":\"BasicTicker\"}},\"id\":\"1aae80de-ff4b-4346-a542-ecd12f2ac798\",\"type\":\"Grid\"},{\"attributes\":{\"line_alpha\":0.1,\"line_color\":\"#1f77b4\",\"line_width\":1.5,\"x\":{\"field\":\"x\"},\"y\":{\"field\":\"y\"}},\"id\":\"ec9d95a5-456d-4a92-81b1-fdb5c482e83d\",\"type\":\"Line\"},{\"attributes\":{\"line_alpha\":0.1,\"line_color\":\"#1f77b4\",\"line_dash\":[6],\"line_width\":5,\"x\":{\"field\":\"x\"},\"y\":{\"field\":\"y\"}},\"id\":\"5ba295c4-0baa-4269-ba7f-6c607663311a\",\"type\":\"Line\"},{\"attributes\":{},\"id\":\"ffac140b-779c-4a68-a8e2-310ed3c8cb21\",\"type\":\"ResetTool\"},{\"attributes\":{\"dimension\":1,\"plot\":{\"id\":\"bfb1be07-ff05-4377-8cff-ed3c52d83e1c\",\"subtype\":\"Figure\",\"type\":\"Plot\"},\"ticker\":{\"id\":\"2cf05b9d-10e5-410e-8970-dc3f12a72e17\",\"type\":\"LogTicker\"}},\"id\":\"184a840c-b195-4c15-b9f5-19d6d04551a9\",\"type\":\"Grid\"},{\"attributes\":{},\"id\":\"bd8c890a-2019-4af5-be18-a46d7b2da734\",\"type\":\"BasicTicker\"},{\"attributes\":{\"fill_alpha\":{\"value\":0.1},\"fill_color\":{\"value\":\"#1f77b4\"},\"line_alpha\":{\"value\":0.1},\"line_color\":{\"value\":\"#1f77b4\"},\"x\":{\"field\":\"x\"},\"y\":{\"field\":\"y\"}},\"id\":\"dfefa950-ce50-4c67-9f82-f9f3b6f4604c\",\"type\":\"Circle\"},{\"attributes\":{\"active_drag\":\"auto\",\"active_inspect\":\"auto\",\"active_scroll\":\"auto\",\"active_tap\":\"auto\",\"tools\":[{\"id\":\"cbd1e13e-e309-4017-a61f-19f9f9f0d59e\",\"type\":\"PanTool\"},{\"id\":\"9fce6387-e48b-4c73-9cc1-b241e863e193\",\"type\":\"WheelZoomTool\"},{\"id\":\"a4178e62-ba7b-4a67-87a2-58d1740782c3\",\"type\":\"BoxZoomTool\"},{\"id\":\"900cc321-7c4c-4928-9afd-f881ce5fe6b9\",\"type\":\"SaveTool\"},{\"id\":\"ffac140b-779c-4a68-a8e2-310ed3c8cb21\",\"type\":\"ResetTool\"},{\"id\":\"1250a351-c803-409d-aea0-8df85d74db40\",\"type\":\"HelpTool\"}]},\"id\":\"5070cd1f-53de-4116-921b-4ecd402f7d88\",\"type\":\"Toolbar\"},{\"attributes\":{\"axis_label\":\"pressure [mb]\",\"formatter\":{\"id\":\"527ea4fc-f23b-4bb9-a8a5-bedcaa108f85\",\"type\":\"BasicTickFormatter\"},\"plot\":{\"id\":\"1403d1c2-a527-499a-bfbc-0e3e0e2e622e\",\"subtype\":\"Figure\",\"type\":\"Plot\"},\"ticker\":{\"id\":\"bd8c890a-2019-4af5-be18-a46d7b2da734\",\"type\":\"BasicTicker\"}},\"id\":\"b119067a-f038-43bc-b3bf-9dcf2cef8151\",\"type\":\"LinearAxis\"},{\"attributes\":{\"line_alpha\":0.6,\"line_color\":\"#984ea3\",\"line_width\":3,\"x\":{\"field\":\"x\"},\"y\":{\"field\":\"y\"}},\"id\":\"b5197f2d-a080-442e-9a03-f519b6299a6e\",\"type\":\"Line\"},{\"attributes\":{\"callback\":null,\"column_names\":[\"x\",\"y\"],\"data\":{\"x\":{\"__ndarray__\":\"6er/niG61D9LnrlKxOHUPxa5zTrDkdU/q030nIhJ1j/stDLmOuPWPznPkpsVW9c/T2m/Hc6o1z+LFBbycLvXPzpoAoR3f9c/rg3lVIPf1j/j25ggssLVP/eP/nkxBtQ/N7hivaOG0T9bxV5ueKHMP4MIbxlPTco/ZBvVNKq+zj+8+b+9LAfSPxGD2rwokdM/4lFwzXXK1D8XxNeFBVHXP/KQxGjVON0//myIv4yY4z+VLYngNSjlP3lS0Vkg+eI/odku+WVH4D9LAL9Q2GnaP8643dlXmNU/9PqVDMTs0T8tH/NizXTNP5fCX6qobsc/u0P/N9LswT/S0/Rb4HW6Pw+9KsNH9rI/8RyGe2Hlqz/BMOoVPI6eP1gJARJhCVS/Dlx5F5/Alr/3PuqnW8mSv/v3EDlXskk/JMN0/xxPij+75VR3OcOXPz8XfZlmdqA/CBZlI1hkpD9cVkl19sinPzZn6Mf1yao/H9PAEc+HrT9dtfb8CgywP48oNg8zSLE/dfg7mO17sj+bpaSriKqzPzjKH6hd1rQ/Ole6BOP/tT+Su7836yW3Px/1FItaRLg/bCestB1duT9/cllKKnC6P82OI9c6frs/jGzwuUeLvD9+eV1Ac569P/WJHAaQvb4/pR+ZATvhvz/VsQsT7mLAPxXwnuIbdcA/ZOkPJLEQwD+U7f7ly9e+P+hlZ9Gwtr0/ljqQwUEwvT/5ixPcYVe9P8D51mos8b0/1pSorajBvj/5zV/o1ra/P6RyosoCbsA/MUBa/hsqwT+DZQ8C8jzCP6TxxFvsisQ/\",\"dtype\":\"float64\",\"shape\":[75]},\"y\":{\"__ndarray__\":\"GhExyth1ND/Sv8nbtpRIP2vylNV0PVE/aTum7souWD/At0SJ8fVgPw3Iuahxymc/MSNhhJWvcD/bTfBN02d3P2zb5nxnaoA/CD5h5MAGhz8NmeH1TyaQP+zrCsc9p5Y/LbKd76fGnz/bLW5ISEmmPww9YvTcQq8/JV2OstnstT8Er5Y7M8G+P0c+r3jqkcU/5h99k6ZBzj88bCIzFzjVP4enV8oyxN0//yH99nXg5D8qOpLLf0jtP5kqGJXUifQ/c9cS8kHP/D+/DpwzojQEQIEmwoanVwxA4lgXt9HgE0BSSZ2AJuIbQAMJih9jjiNA5q4l5INuK0AwTKYKRj0zQNv5fmq8/DpAaCJseHrtQkB/+zpwzoxKQM3MzMzMeFJAZmZmZmZqWEAAAAAAAFxeQM3MzMzMJmJAmpmZmZkfZUBmZmZmZhhoQDMzMzMzEWtAAAAAAAAKbkBmZmZmZoFwQM3MzMzM/XFAMzMzMzN6c0CamZmZmfZ0QAAAAAAAc3ZAZmZmZmbvd0DNzMzMzGt5QDMzMzMz6HpAmpmZmZlkfEAAAAAAAOF9QGZmZmZmXX9AZmZmZuZsgECamZmZGSuBQM3MzMxM6YFAAAAAAICngkAzMzMzs2WDQGZmZmbmI4RAmpmZmRnihEDNzMzMTKCFQAAAAACAXoZAMzMzM7Mch0BmZmZm5tqHQJqZmZkZmYhAzczMzExXiUAAAAAAgBWKQDMzMzOz04pAZmZmZuaRi0CamZmZGVCMQM3MzMxMDo1AAAAAAIDMjUAzMzMzs4qOQGZmZmbmSI9A\",\"dtype\":\"float64\",\"shape\":[75]}}},\"id\":\"d05fc865-1b61-489b-8ab8-a514a97ca6e5\",\"type\":\"ColumnDataSource\"},{\"attributes\":{\"line_alpha\":0.6,\"line_color\":\"#e41a1c\",\"line_dash\":[6],\"line_width\":5,\"x\":{\"field\":\"x\"},\"y\":{\"field\":\"y\"}},\"id\":\"8133fb95-935f-40bc-bf1f-4240a962121e\",\"type\":\"Line\"},{\"attributes\":{\"callback\":null,\"column_names\":[\"x\",\"y\"],\"data\":{\"x\":{\"__ndarray__\":\"qj+IhdZa2j8G4PoLmBvaP+jLoBSMzto/ctr4uNta2z/MtUfz8LPbPxESDmIM0ds/tffrRgaW2z/gIbUe+PfaP9OsQ6DA3Nk/eQE47nsx2D/DGh1G9+LVP3BMBcvH5NI/4CxG2TJLzj8Fx8CVR5LFP+LMr+YAwcE/DudMoKnTxT+2os1xbhPMPxhOiG8XENE/oZUHK0bE1D94yShkIdnZP0eyBYxHrOA/ZS+ho9HU5T/Da2636tvmPxM0PZPD6OM//Vnit9e44D/rQFIbByTaP0cQnVTqCNQ/Cg3lwILmzj+zz8a+IkfIP3xXkKhIbMM/xLpttiTNvj+doG4ciJe3P58akgfgbrE/HsfNeHSGqT9CVUIzLJ+ZP2xfuqztnXG/qpoMBlhdl7+Ig9VvXlCUv1TzBBl0j2u/t1mCrY7zfT/2mtz3wVyRP4doxU6ws5o/PLGvvn/IoT958CykcPulP08lwSND8ak/ltk5MC2orT9OOZEm/4+wP/CVE8lkLLI/b5EocpCpsz+n3YKB9Ai1PxJtQ5y5TbY/0hS4dzh6tz98/QSojZC4P1a6WKTLk7k/DnOb09mHuj/EK8VlR3C7P8TJw2O7Urw/83Iampk2vT/PFzkT7CK+PwrjXeRUIb8/nDfK0U4TwD86z5Z7mnbAP6+XpghwesA/n4CaGJoEwD/uqu4uo5q+P6kCpOzjV70/vDWXuOG5vD9rA8Etada8P86Rrvymbr0/3r6aRSBFvj8rGHTGIEW/P+qkjPKrPcA/pqPzTPUFwT9aDhVfxCnCPyrv2/dFlcQ/\",\"dtype\":\"float64\",\"shape\":[75]},\"y\":{\"__ndarray__\":\"GhExyth1ND/Sv8nbtpRIP2vylNV0PVE/aTum7souWD/At0SJ8fVgPw3Iuahxymc/MSNhhJWvcD/bTfBN02d3P2zb5nxnaoA/CD5h5MAGhz8NmeH1TyaQP+zrCsc9p5Y/LbKd76fGnz/bLW5ISEmmPww9YvTcQq8/JV2OstnstT8Er5Y7M8G+P0c+r3jqkcU/5h99k6ZBzj88bCIzFzjVP4enV8oyxN0//yH99nXg5D8qOpLLf0jtP5kqGJXUifQ/c9cS8kHP/D+/DpwzojQEQIEmwoanVwxA4lgXt9HgE0BSSZ2AJuIbQAMJih9jjiNA5q4l5INuK0AwTKYKRj0zQNv5fmq8/DpAaCJseHrtQkB/+zpwzoxKQM3MzMzMeFJAZmZmZmZqWEAAAAAAAFxeQM3MzMzMJmJAmpmZmZkfZUBmZmZmZhhoQDMzMzMzEWtAAAAAAAAKbkBmZmZmZoFwQM3MzMzM/XFAMzMzMzN6c0CamZmZmfZ0QAAAAAAAc3ZAZmZmZmbvd0DNzMzMzGt5QDMzMzMz6HpAmpmZmZlkfEAAAAAAAOF9QGZmZmZmXX9AZmZmZuZsgECamZmZGSuBQM3MzMxM6YFAAAAAAICngkAzMzMzs2WDQGZmZmbmI4RAmpmZmRnihEDNzMzMTKCFQAAAAACAXoZAMzMzM7Mch0BmZmZm5tqHQJqZmZkZmYhAzczMzExXiUAAAAAAgBWKQDMzMzOz04pAZmZmZuaRi0CamZmZGVCMQM3MzMxMDo1AAAAAAIDMjUAzMzMzs4qOQGZmZmbmSI9A\",\"dtype\":\"float64\",\"shape\":[75]}}},\"id\":\"96585561-4080-46d8-8173-e0e3adccc2e0\",\"type\":\"ColumnDataSource\"},{\"attributes\":{\"source\":{\"id\":\"b2006c31-faf8-402d-a215-2f25b2490f6a\",\"type\":\"ColumnDataSource\"}},\"id\":\"42cb3dd6-9d30-4da7-8253-c3ebe3468963\",\"type\":\"CDSView\"},{\"attributes\":{\"callback\":null,\"column_names\":[\"x\",\"y\"],\"data\":{\"x\":{\"__ndarray__\":\"jdmr8rH5zT/uJAHuon3OP3XXRCyD5s8/BeYZ4vWs0D8KSckfyl/RP4mgQXU5BtI/u8a6+qmY0j8IgjJTew3TP6Qwc6pKVdM/yseL2Glc0z9TIBbeowbTPz+pF/hhL9I/w7g8UlSo0D9r5bGogOLMP1Zht/ip5Ms/UDQPYJFf0D88VmPoXPrSP9O9sRSH+9M/BUaoY98f1D8Kb+bCDoTVPwAJ3B3G4to/HgMunxeU4j9vj1LHMpbkP7Jhj4Ej3uI/3Wj4/Tht4D91hpCQ1MTaPwPJ4M2/AtY/PR/xbfJC0j9KOF+yEu/NPxCH17tgbMc/VtFhtku4wT8dUPw5gcC5Py4/4uoPs7E/itHd7/wUqT9lx3ZZdDScP04+qJMQ2Ui/nJNgbzfIlb/wTR/2THOSv1mCKsST/DC/7ytQN8I1hj8C9a2pCESVP8Y4QrDxM54/7xKDXaDmoj/hKJqDdySmPwtgqbIYCqk/huzDR7Kxqz9nghsITTuuP7fA/wVrZLA/0gvKdrausT/F+u2Ilv6yPxE+YXckWLQ/kYLcgvu6tT9LYaY57h63Pyrcg/Q6gLg/mzTT3lzTuT9540l3fCC7PyMbYbQ7Yrw/r/L8UAaavT8gPjQcZMy+P2WPzPr//r8/6jyuNpSUwD+2i2E1MwbBP/k6HYZeGME/mQif1gK1wD+C910qmRDAP5uXP7aX+r4/10dtA/Nnvj/yE5w07Hu+P1mQoNcj/b4/NtdAJXS4vz97/DlgskzAP/6kkBrJ1MA/Qzio9WWGwT/hUkJujozCP2dRK477vcQ/\",\"dtype\":\"float64\",\"shape\":[75]},\"y\":{\"__ndarray__\":\"S/O/Q+51ND/Sv8nbtpRIP2vylNV0PVE/aTum7souWD/At0SJ8fVgPw3Iuahxymc/MSNhhJWvcD/bTfBN02d3P2zb5nxnaoA/CD5h5MAGhz8NmeH1TyaQP+zrCsc9p5Y/LbKd76fGnz/bLW5ISEmmPww9YvTcQq8/JV2OstnstT8Er5Y7M8G+P0c+r3jqkcU/5h99k6ZBzj88bCIzFzjVP4enV8oyxN0//yH99nXg5D8qOpLLf0jtP5kqGJXUifQ/c9cS8kHP/D+/DpwzojQEQIEmwoanVwxA4lgXt9HgE0BSSZ2AJuIbQAMJih9jjiNA5q4l5INuK0AwTKYKRj0zQNv5fmq8/DpAaCJseHrtQkB/+zpwzoxKQM3MzMzMeFJAZmZmZmZqWEAAAAAAAFxeQM3MzMzMJmJAmpmZmZkfZUBmZmZmZhhoQDMzMzMzEWtAAAAAAAAKbkBmZmZmZoFwQM3MzMzM/XFAMzMzMzN6c0CamZmZmfZ0QAAAAAAAc3ZAZmZmZmbvd0DNzMzMzGt5QDMzMzMz6HpAmpmZmZlkfEAAAAAAAOF9QGZmZmZmXX9AZmZmZuZsgECamZmZGSuBQM3MzMxM6YFAAAAAAICngkAzMzMzs2WDQGZmZmbmI4RAmpmZmRnihEDNzMzMTKCFQAAAAACAXoZAMzMzM7Mch0BmZmZm5tqHQJqZmZkZmYhAzczMzExXiUAAAAAAgBWKQDMzMzOz04pAZmZmZuaRi0CamZmZGVCMQM3MzMxMDo1AAAAAAIDMjUAzMzMzs4qOQGZmZmbmSI9A\",\"dtype\":\"float64\",\"shape\":[75]}}},\"id\":\"b2006c31-faf8-402d-a215-2f25b2490f6a\",\"type\":\"ColumnDataSource\"},{\"attributes\":{\"data_source\":{\"id\":\"6e84351a-516e-4485-9225-809664e525e5\",\"type\":\"ColumnDataSource\"},\"glyph\":{\"id\":\"3fdeb5d5-9b16-4312-a1c3-a2a274ff4ff6\",\"type\":\"Circle\"},\"hover_glyph\":null,\"muted_glyph\":null,\"nonselection_glyph\":{\"id\":\"dfefa950-ce50-4c67-9f82-f9f3b6f4604c\",\"type\":\"Circle\"},\"selection_glyph\":null,\"view\":{\"id\":\"17e5b3c8-076d-4ec9-8c10-55958079e55e\",\"type\":\"CDSView\"}},\"id\":\"3ea65003-dd9e-4932-aa3b-89dd9673541e\",\"type\":\"GlyphRenderer\"},{\"attributes\":{\"ticker\":null},\"id\":\"082d8b15-f14f-4316-9301-71b60751cb3b\",\"type\":\"LogTickFormatter\"},{\"attributes\":{\"data_source\":{\"id\":\"b2006c31-faf8-402d-a215-2f25b2490f6a\",\"type\":\"ColumnDataSource\"},\"glyph\":{\"id\":\"b008bfa5-6cb5-4ceb-87e7-b0e8b469a28d\",\"type\":\"Line\"},\"hover_glyph\":null,\"muted_glyph\":null,\"nonselection_glyph\":{\"id\":\"5ba295c4-0baa-4269-ba7f-6c607663311a\",\"type\":\"Line\"},\"selection_glyph\":null,\"view\":{\"id\":\"42cb3dd6-9d30-4da7-8253-c3ebe3468963\",\"type\":\"CDSView\"}},\"id\":\"4c8ce6c9-bbe2-4a88-b439-2e67eb1e2d3e\",\"type\":\"GlyphRenderer\"},{\"attributes\":{\"label\":{\"value\":\"CRD\"},\"renderers\":[{\"id\":\"6124ca6c-1625-4068-be22-31a51a79b14e\",\"type\":\"GlyphRenderer\"},{\"id\":\"3fac08a2-5007-470b-baa7-a6444f55f4b1\",\"type\":\"GlyphRenderer\"}]},\"id\":\"0ef21197-54db-430c-bf17-e145bae40836\",\"type\":\"LegendItem\"},{\"attributes\":{\"bottom_units\":\"screen\",\"fill_alpha\":{\"value\":0.5},\"fill_color\":{\"value\":\"lightgrey\"},\"left_units\":\"screen\",\"level\":\"overlay\",\"line_alpha\":{\"value\":1.0},\"line_color\":{\"value\":\"black\"},\"line_dash\":[4,4],\"line_width\":{\"value\":2},\"plot\":null,\"render_mode\":\"css\",\"right_units\":\"screen\",\"top_units\":\"screen\"},\"id\":\"3343d391-f5f3-4762-afcd-093d14cfc7d1\",\"type\":\"BoxAnnotation\"}],\"root_ids\":[\"d0755acb-3972-4d56-9751-ea6b8a58950f\"]},\"title\":\"Bokeh Application\",\"version\":\"0.12.14\"}};\n",
       "  var render_items = [{\"docid\":\"4f6e949e-1094-436c-aed3-1ac62a598da7\",\"elementid\":\"5bdf89d2-149e-45d7-944b-9b79e4e7c6ec\",\"modelid\":\"d0755acb-3972-4d56-9751-ea6b8a58950f\"}];\n",
       "  root.Bokeh.embed.embed_items_notebook(docs_json, render_items);\n",
       "\n",
       "  }\n",
       "  if (root.Bokeh !== undefined) {\n",
       "    embed_document(root);\n",
       "  } else {\n",
       "    var attempts = 0;\n",
       "    var timer = setInterval(function(root) {\n",
       "      if (root.Bokeh !== undefined) {\n",
       "        embed_document(root);\n",
       "        clearInterval(timer);\n",
       "      }\n",
       "      attempts++;\n",
       "      if (attempts > 100) {\n",
       "        console.log(\"Bokeh: ERROR: Unable to run BokehJS code because BokehJS library is missing\")\n",
       "        clearInterval(timer);\n",
       "      }\n",
       "    }, 10, root)\n",
       "  }\n",
       "})(window);"
      ],
      "application/vnd.bokehjs_exec.v0+json": ""
     },
     "metadata": {
      "application/vnd.bokehjs_exec.v0+json": {
       "id": "d0755acb-3972-4d56-9751-ea6b8a58950f"
      }
     },
     "output_type": "display_data"
    },
    {
     "name": "stdout",
     "output_type": "stream",
     "text": [
      "FIGURE. Cooling rate profiles.\n"
     ]
    },
    {
     "data": {
      "text/html": [
       "<a id=\"Flux_Comparison\"></a>"
      ],
      "text/plain": [
       "<IPython.core.display.HTML object>"
      ]
     },
     "metadata": {},
     "output_type": "display_data"
    },
    {
     "data": {
      "text/markdown": [
       "# Flux Comparison"
      ],
      "text/plain": [
       "<IPython.core.display.Markdown object>"
      ]
     },
     "metadata": {},
     "output_type": "display_data"
    },
    {
     "data": {
      "text/html": [
       "<div>\n",
       "<style>\n",
       "    .dataframe thead tr:only-child th {\n",
       "        text-align: right;\n",
       "    }\n",
       "\n",
       "    .dataframe thead th {\n",
       "        text-align: left;\n",
       "    }\n",
       "\n",
       "    .dataframe tbody tr th {\n",
       "        vertical-align: top;\n",
       "    }\n",
       "</style>\n",
       "<table border=\"1\" class=\"dataframe\">\n",
       "  <thead>\n",
       "    <tr style=\"text-align: right;\">\n",
       "      <th></th>\n",
       "      <th></th>\n",
       "      <th>flug</th>\n",
       "      <th>fldg</th>\n",
       "      <th>fnetg</th>\n",
       "    </tr>\n",
       "    <tr>\n",
       "      <th>pressure</th>\n",
       "      <th>level</th>\n",
       "      <th></th>\n",
       "      <th></th>\n",
       "      <th></th>\n",
       "    </tr>\n",
       "  </thead>\n",
       "  <tbody>\n",
       "    <tr>\n",
       "      <th>0.0000</th>\n",
       "      <th>1</th>\n",
       "      <td>-30.883318</td>\n",
       "      <td>0.000000</td>\n",
       "      <td>-30.883318</td>\n",
       "    </tr>\n",
       "    <tr>\n",
       "      <th>1.0685</th>\n",
       "      <th>24</th>\n",
       "      <td>-30.884221</td>\n",
       "      <td>0.063546</td>\n",
       "      <td>-30.820675</td>\n",
       "    </tr>\n",
       "    <tr>\n",
       "      <th>1013.0000</th>\n",
       "      <th>76</th>\n",
       "      <td>-38.491735</td>\n",
       "      <td>18.001046</td>\n",
       "      <td>-20.490688</td>\n",
       "    </tr>\n",
       "  </tbody>\n",
       "</table>\n",
       "</div>"
      ],
      "text/plain": [
       "                      flug       fldg      fnetg\n",
       "pressure  level                                 \n",
       "0.0000    1     -30.883318   0.000000 -30.883318\n",
       "1.0685    24    -30.884221   0.063546 -30.820675\n",
       "1013.0000 76    -38.491735  18.001046 -20.490688"
      ]
     },
     "metadata": {},
     "output_type": "display_data"
    },
    {
     "name": "stdout",
     "output_type": "stream",
     "text": [
      "Table. Fluxes. WGT igg=10 wgt_flux=1\n"
     ]
    },
    {
     "data": {
      "text/html": [
       "<div>\n",
       "<style>\n",
       "    .dataframe thead tr:only-child th {\n",
       "        text-align: right;\n",
       "    }\n",
       "\n",
       "    .dataframe thead th {\n",
       "        text-align: left;\n",
       "    }\n",
       "\n",
       "    .dataframe tbody tr th {\n",
       "        vertical-align: top;\n",
       "    }\n",
       "</style>\n",
       "<table border=\"1\" class=\"dataframe\">\n",
       "  <thead>\n",
       "    <tr style=\"text-align: right;\">\n",
       "      <th></th>\n",
       "      <th></th>\n",
       "      <th>flug</th>\n",
       "      <th>fldg</th>\n",
       "      <th>fnetg</th>\n",
       "    </tr>\n",
       "    <tr>\n",
       "      <th>pressure</th>\n",
       "      <th>level</th>\n",
       "      <th></th>\n",
       "      <th></th>\n",
       "      <th></th>\n",
       "    </tr>\n",
       "  </thead>\n",
       "  <tbody>\n",
       "    <tr>\n",
       "      <th>0.0000</th>\n",
       "      <th>1</th>\n",
       "      <td>-30.877425</td>\n",
       "      <td>0.000000</td>\n",
       "      <td>-30.877425</td>\n",
       "    </tr>\n",
       "    <tr>\n",
       "      <th>1.0685</th>\n",
       "      <th>24</th>\n",
       "      <td>-30.878983</td>\n",
       "      <td>0.068611</td>\n",
       "      <td>-30.810372</td>\n",
       "    </tr>\n",
       "    <tr>\n",
       "      <th>1013.0000</th>\n",
       "      <th>76</th>\n",
       "      <td>-38.491734</td>\n",
       "      <td>17.950491</td>\n",
       "      <td>-20.541243</td>\n",
       "    </tr>\n",
       "  </tbody>\n",
       "</table>\n",
       "</div>"
      ],
      "text/plain": [
       "                      flug       fldg      fnetg\n",
       "pressure  level                                 \n",
       "0.0000    1     -30.877425   0.000000 -30.877425\n",
       "1.0685    24    -30.878983   0.068611 -30.810372\n",
       "1013.0000 76    -38.491734  17.950491 -20.541243"
      ]
     },
     "metadata": {},
     "output_type": "display_data"
    },
    {
     "name": "stdout",
     "output_type": "stream",
     "text": [
      "Table. Fluxes. CRD\n"
     ]
    },
    {
     "data": {
      "text/html": [
       "<div>\n",
       "<style>\n",
       "    .dataframe thead tr:only-child th {\n",
       "        text-align: right;\n",
       "    }\n",
       "\n",
       "    .dataframe thead th {\n",
       "        text-align: left;\n",
       "    }\n",
       "\n",
       "    .dataframe tbody tr th {\n",
       "        vertical-align: top;\n",
       "    }\n",
       "</style>\n",
       "<table border=\"1\" class=\"dataframe\">\n",
       "  <thead>\n",
       "    <tr style=\"text-align: right;\">\n",
       "      <th></th>\n",
       "      <th></th>\n",
       "      <th>flug</th>\n",
       "      <th>fldg</th>\n",
       "      <th>fnetg</th>\n",
       "    </tr>\n",
       "    <tr>\n",
       "      <th>pressure</th>\n",
       "      <th>level</th>\n",
       "      <th></th>\n",
       "      <th></th>\n",
       "      <th></th>\n",
       "    </tr>\n",
       "  </thead>\n",
       "  <tbody>\n",
       "    <tr>\n",
       "      <th>1.000000e-08</th>\n",
       "      <th>1</th>\n",
       "      <td>-30.983281</td>\n",
       "      <td>0.000002</td>\n",
       "      <td>-30.983278</td>\n",
       "    </tr>\n",
       "    <tr>\n",
       "      <th>1.068500e+00</th>\n",
       "      <th>24</th>\n",
       "      <td>-30.983735</td>\n",
       "      <td>0.060515</td>\n",
       "      <td>-30.923220</td>\n",
       "    </tr>\n",
       "    <tr>\n",
       "      <th>1.013000e+03</th>\n",
       "      <th>76</th>\n",
       "      <td>-38.491730</td>\n",
       "      <td>18.015592</td>\n",
       "      <td>-20.476138</td>\n",
       "    </tr>\n",
       "  </tbody>\n",
       "</table>\n",
       "</div>"
      ],
      "text/plain": [
       "                         flug       fldg      fnetg\n",
       "pressure     level                                 \n",
       "1.000000e-08 1     -30.983281   0.000002 -30.983278\n",
       "1.068500e+00 24    -30.983735   0.060515 -30.923220\n",
       "1.013000e+03 76    -38.491730  18.015592 -20.476138"
      ]
     },
     "metadata": {},
     "output_type": "display_data"
    },
    {
     "name": "stdout",
     "output_type": "stream",
     "text": [
      "Table. Fluxes. CLIRAD\n"
     ]
    },
    {
     "data": {
      "text/html": [
       "<div>\n",
       "<style>\n",
       "    .dataframe thead tr:only-child th {\n",
       "        text-align: right;\n",
       "    }\n",
       "\n",
       "    .dataframe thead th {\n",
       "        text-align: left;\n",
       "    }\n",
       "\n",
       "    .dataframe tbody tr th {\n",
       "        vertical-align: top;\n",
       "    }\n",
       "</style>\n",
       "<table border=\"1\" class=\"dataframe\">\n",
       "  <thead>\n",
       "    <tr style=\"text-align: right;\">\n",
       "      <th></th>\n",
       "      <th></th>\n",
       "      <th>flug</th>\n",
       "      <th>fldg</th>\n",
       "      <th>fnetg</th>\n",
       "    </tr>\n",
       "    <tr>\n",
       "      <th>pressure</th>\n",
       "      <th>level</th>\n",
       "      <th></th>\n",
       "      <th></th>\n",
       "      <th></th>\n",
       "    </tr>\n",
       "  </thead>\n",
       "  <tbody>\n",
       "    <tr>\n",
       "      <th>0.0000</th>\n",
       "      <th>1</th>\n",
       "      <td>5.893454e-03</td>\n",
       "      <td>0.000000</td>\n",
       "      <td>0.005893</td>\n",
       "    </tr>\n",
       "    <tr>\n",
       "      <th>1.0685</th>\n",
       "      <th>24</th>\n",
       "      <td>5.237929e-03</td>\n",
       "      <td>0.005065</td>\n",
       "      <td>0.010303</td>\n",
       "    </tr>\n",
       "    <tr>\n",
       "      <th>1013.0000</th>\n",
       "      <th>76</th>\n",
       "      <td>7.180000e-07</td>\n",
       "      <td>-0.050555</td>\n",
       "      <td>-0.050555</td>\n",
       "    </tr>\n",
       "  </tbody>\n",
       "</table>\n",
       "</div>"
      ],
      "text/plain": [
       "                         flug      fldg     fnetg\n",
       "pressure  level                                  \n",
       "0.0000    1      5.893454e-03  0.000000  0.005893\n",
       "1.0685    24     5.237929e-03  0.005065  0.010303\n",
       "1013.0000 76     7.180000e-07 -0.050555 -0.050555"
      ]
     },
     "metadata": {},
     "output_type": "display_data"
    },
    {
     "name": "stdout",
     "output_type": "stream",
     "text": [
      "Table. Fluxes. (CRD) - (WGT igg=10 wgt_flux=1)\n"
     ]
    },
    {
     "data": {
      "text/html": [
       "<div>\n",
       "<style>\n",
       "    .dataframe thead tr:only-child th {\n",
       "        text-align: right;\n",
       "    }\n",
       "\n",
       "    .dataframe thead th {\n",
       "        text-align: left;\n",
       "    }\n",
       "\n",
       "    .dataframe tbody tr th {\n",
       "        vertical-align: top;\n",
       "    }\n",
       "</style>\n",
       "<table border=\"1\" class=\"dataframe\">\n",
       "  <thead>\n",
       "    <tr style=\"text-align: right;\">\n",
       "      <th></th>\n",
       "      <th></th>\n",
       "      <th>flug</th>\n",
       "      <th>fldg</th>\n",
       "      <th>fnetg</th>\n",
       "    </tr>\n",
       "    <tr>\n",
       "      <th>pressure</th>\n",
       "      <th>level</th>\n",
       "      <th></th>\n",
       "      <th></th>\n",
       "      <th></th>\n",
       "    </tr>\n",
       "  </thead>\n",
       "  <tbody>\n",
       "    <tr>\n",
       "      <th>0.0000</th>\n",
       "      <th>1</th>\n",
       "      <td>-0.099963</td>\n",
       "      <td>0.000002</td>\n",
       "      <td>-0.099960</td>\n",
       "    </tr>\n",
       "    <tr>\n",
       "      <th>1.0685</th>\n",
       "      <th>24</th>\n",
       "      <td>-0.099514</td>\n",
       "      <td>-0.003031</td>\n",
       "      <td>-0.102545</td>\n",
       "    </tr>\n",
       "    <tr>\n",
       "      <th>1013.0000</th>\n",
       "      <th>76</th>\n",
       "      <td>0.000005</td>\n",
       "      <td>0.014546</td>\n",
       "      <td>0.014550</td>\n",
       "    </tr>\n",
       "  </tbody>\n",
       "</table>\n",
       "</div>"
      ],
      "text/plain": [
       "                     flug      fldg     fnetg\n",
       "pressure  level                              \n",
       "0.0000    1     -0.099963  0.000002 -0.099960\n",
       "1.0685    24    -0.099514 -0.003031 -0.102545\n",
       "1013.0000 76     0.000005  0.014546  0.014550"
      ]
     },
     "metadata": {},
     "output_type": "display_data"
    },
    {
     "name": "stdout",
     "output_type": "stream",
     "text": [
      "Table. Fluxes. (CLIRAD) - (WGT igg=10 wgt_flux=1)\n"
     ]
    },
    {
     "data": {
      "text/html": [
       "<a id=\"Best-fit_Parameters\"></a>"
      ],
      "text/plain": [
       "<IPython.core.display.HTML object>"
      ]
     },
     "metadata": {},
     "output_type": "display_data"
    },
    {
     "data": {
      "text/markdown": [
       "# Best-fit Parameters"
      ],
      "text/plain": [
       "<IPython.core.display.Markdown object>"
      ]
     },
     "metadata": {},
     "output_type": "display_data"
    },
    {
     "name": "stdout",
     "output_type": "stream",
     "text": [
      "Best-fit values for each (gas, band)\n",
      "------------------------------------\n",
      "o co2 band3a\n",
      "  atmpro = mls\n",
      "  band = 3a\n",
      "  commitnumber = 2bd1f75\n",
      "  conc = 0.0004\n",
      "  dv = 0.01\n",
      "  klin = 6.375563e-24\n",
      "  molecule = co2\n",
      "  ng_adju = [0, 0, 0]\n",
      "  ng_refs = [3, 2, 4]\n",
      "  nv = 100\n",
      "  option_compute_btable = 0\n",
      "  option_compute_ktable = 1\n",
      "  option_wgt_flux = 1\n",
      "  option_wgt_k = 1\n",
      "  ref_pts = [(1, 250), (10, 250), (500, 250)]\n",
      "  tsfc = 294\n",
      "  vmax = 620\n",
      "  vmin = 540\n",
      "  w_diffuse = [(1.6, 1.6, 1.7), (1.75, 1.75), (1.55, 1.55, 1.6, 1.85)]\n",
      "  wgt = [(0.7, 0.3, 0.7), (0.7, 0.6), (0.4, 0.5, 0.8, 0.95)]\n"
     ]
    }
   ],
   "source": [
    "script()"
   ]
  },
  {
   "cell_type": "code",
   "execution_count": 13,
   "metadata": {
    "collapsed": true
   },
   "outputs": [
    {
     "data": {
      "text/html": [
       "<script>\n",
       "code_show=true; \n",
       "function code_toggle() {\n",
       " if (code_show){\n",
       " $('div.input').hide();\n",
       " } else {\n",
       " $('div.input').show();\n",
       " }\n",
       " code_show = !code_show\n",
       "} \n",
       "$( document ).ready(code_toggle);\n",
       "</script>\n",
       "<form action=\"javascript:code_toggle()\"><input type=\"submit\" value=\"Click here to toggle on/off the raw code.\"></form>"
      ],
      "text/plain": [
       "<IPython.core.display.HTML object>"
      ]
     },
     "execution_count": 13,
     "metadata": {},
     "output_type": "execute_result"
    }
   ],
   "source": [
    "display.HTML('''<script>\n",
    "code_show=true; \n",
    "function code_toggle() {\n",
    " if (code_show){\n",
    " $('div.input').hide();\n",
    " } else {\n",
    " $('div.input').show();\n",
    " }\n",
    " code_show = !code_show\n",
    "} \n",
    "$( document ).ready(code_toggle);\n",
    "</script>\n",
    "<form action=\"javascript:code_toggle()\"><input type=\"submit\" value=\"Click here to toggle on/off the raw code.\"></form>''')"
   ]
  }
 ],
 "metadata": {
  "kernelspec": {
   "display_name": "Python 3",
   "language": "python",
   "name": "python3"
  },
  "language_info": {
   "codemirror_mode": {
    "name": "ipython",
    "version": 3
   },
   "file_extension": ".py",
   "mimetype": "text/x-python",
   "name": "python",
   "nbconvert_exporter": "python",
   "pygments_lexer": "ipython3",
   "version": "3.6.1"
  }
 },
 "nbformat": 4,
 "nbformat_minor": 2
}
