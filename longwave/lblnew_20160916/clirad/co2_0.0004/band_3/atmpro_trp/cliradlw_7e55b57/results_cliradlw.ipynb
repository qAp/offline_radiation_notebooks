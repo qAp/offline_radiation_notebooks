{
 "cells": [
  {
   "cell_type": "code",
   "execution_count": 1,
   "metadata": {
    "collapsed": true
   },
   "outputs": [],
   "source": [
    "%matplotlib inline\n",
    "import os\n",
    "import re\n",
    "import io\n",
    "import itertools\n",
    "import pprint\n",
    "\n",
    "from bokeh.io import output_notebook, show\n",
    "from bokeh.layouts import gridplot\n",
    "from bokeh.plotting import figure\n",
    "from bokeh.models import Range1d, Legend\n",
    "from bokeh.palettes import all_palettes\n",
    "\n",
    "import matplotlib\n",
    "import matplotlib.pyplot as plt\n",
    "import numpy as np\n",
    "import pandas as pd\n",
    "import xarray as xr\n",
    "\n",
    "import climatools.lblnew.bestfit_params as bestfits\n",
    "from climatools.lblnew import setup_bestfit, setup_overlap\n",
    "import climatools.lblnew.pipeline as pipe_lblnew\n",
    "import climatools.cliradlw.setup as setup_cliradlw\n",
    "import climatools.cliradlw.pipeline as pipe_cliradlw\n",
    "\n",
    "import climatools.html.html as climahtml\n",
    "from climatools.lblnew.dataio import *\n",
    "from climatools.plot.plot import *\n",
    "\n",
    "\n",
    "import IPython.display as display"
   ]
  },
  {
   "cell_type": "code",
   "execution_count": 2,
   "metadata": {
    "collapsed": true
   },
   "outputs": [],
   "source": [
    "%run param.py"
   ]
  },
  {
   "cell_type": "code",
   "execution_count": 3,
   "metadata": {
    "collapsed": true
   },
   "outputs": [],
   "source": [
    "def load_output_file(path_csv):\n",
    "    '''\n",
    "    Load lblnew output .csv file to xarray.Dataset\n",
    "    \n",
    "    Parameters\n",
    "    ----------\n",
    "    path_csv: str\n",
    "              Path to the .csv file to be loaded.\n",
    "    ds: xarray.Dataset\n",
    "        Data in the input file in the form of an xarray.Dataset.\n",
    "    '''\n",
    "    toindex = ['band', 'pressure', 'igg', 'g']    \n",
    "    df = pd.read_csv(path_csv, sep=r'\\s+')\n",
    "    df = df.set_index([i for i in toindex if i in df.columns])\n",
    "    df = df.rename(columns={'sfu': 'flug',\n",
    "                            'sfd': 'fldg',\n",
    "                            'fnet': 'fnetg',\n",
    "                            'coolr': 'coolrg'})\n",
    "    ds = xr.Dataset.from_dataframe(df)\n",
    "\n",
    "    for l in ('level', 'layer'):\n",
    "        if l in ds.data_vars:\n",
    "            if len(ds[l].dims) > 1:\n",
    "                surface = {d: 0 for d in ds.dims if d != 'pressure'}\n",
    "                coord_level = ds[l][surface]\n",
    "                ds.coords[l] = ('pressure', coord_level)\n",
    "            else:\n",
    "                ds.coords[l] = ('pressure', ds[l])\n",
    "    \n",
    "    return ds"
   ]
  },
  {
   "cell_type": "code",
   "execution_count": 4,
   "metadata": {
    "collapsed": true
   },
   "outputs": [
    {
     "name": "stdout",
     "output_type": "stream",
     "text": [
      "The history saving thread hit an unexpected error (OperationalError('database is locked',)).History will not be written to the database.\n"
     ]
    }
   ],
   "source": [
    "def lblnew_setup(param=None):\n",
    "    if 'ng_refs' in param:\n",
    "        return {'setup': setup_bestfit,\n",
    "                'fname_flux_crd': 'output_flux.dat',\n",
    "                'fname_cool_crd': 'output_coolr.dat',\n",
    "                'fname_flux_wgt': 'output_wfluxg.dat',\n",
    "                'fname_cool_wgt': 'output_wcoolrg.dat'}\n",
    "    else:\n",
    "        return {'setup': setup_overlap,\n",
    "                'fname_flux_crd': 'output_flux.dat',\n",
    "                'fname_cool_crd': 'output_coolr.dat',\n",
    "                'fname_flux_wgt': 'output_wflux.dat',\n",
    "                'fname_cool_wgt': 'output_wcoolr.dat'}\n",
    "\n",
    "    \n",
    "def load_lblnew_data(param):\n",
    "    \n",
    "    fname_dsname = [('fname_flux_crd', 'ds_flux_crd'),\n",
    "                    ('fname_cool_crd', 'ds_cool_crd'),\n",
    "                    ('fname_flux_wgt', 'ds_flux_wgt'),\n",
    "                    ('fname_cool_wgt', 'ds_cool_wgt')]\n",
    "    \n",
    "    d = lblnew_setup(param)\n",
    "    dir_fortran = pipe_lblnew.get_dir_case(param, setup=d['setup'])\n",
    "    \n",
    "    data_dict = {}\n",
    "    for fname, dsname in fname_dsname:\n",
    "        fpath = os.path.join(dir_fortran, d[fname])\n",
    "        data_dict[dsname] = load_output_file(fpath)\n",
    "    return data_dict\n",
    "    \n",
    "\n",
    "    \n",
    "    "
   ]
  },
  {
   "cell_type": "code",
   "execution_count": 5,
   "metadata": {
    "collapsed": true
   },
   "outputs": [],
   "source": [
    "d = load_lblnew_data(PARAM_LBLNEW)\n",
    "\n",
    "DS_FLUX_CRD = d['ds_flux_crd']\n",
    "DS_COOL_CRD = d['ds_cool_crd']\n",
    "DS_FLUX_WGT = d['ds_flux_wgt']\n",
    "DS_COOL_WGT = d['ds_cool_wgt']"
   ]
  },
  {
   "cell_type": "code",
   "execution_count": 6,
   "metadata": {
    "collapsed": true
   },
   "outputs": [],
   "source": [
    "DIR_FORTRAN = pipe_cliradlw.get_fortran_dir(PARAM, \n",
    "                                            setup=setup_cliradlw)\n",
    "\n",
    "PATH_FLUX = os.path.join(DIR_FORTRAN, 'output_flux.dat')\n",
    "PATH_COOL = os.path.join(DIR_FORTRAN, 'output_coolr.dat')\n",
    "\n",
    "DS_FLUX = load_output_file(PATH_FLUX)\n",
    "DS_COOL = load_output_file(PATH_COOL)"
   ]
  },
  {
   "cell_type": "code",
   "execution_count": 7,
   "metadata": {
    "collapsed": true
   },
   "outputs": [
    {
     "data": {
      "text/html": [
       "\n",
       "    <div class=\"bk-root\">\n",
       "        <a href=\"https://bokeh.pydata.org\" target=\"_blank\" class=\"bk-logo bk-logo-small bk-logo-notebook\"></a>\n",
       "        <span id=\"3c466243-f5f2-4c6b-b738-7b61f95098ba\">Loading BokehJS ...</span>\n",
       "    </div>"
      ]
     },
     "metadata": {},
     "output_type": "display_data"
    },
    {
     "data": {
      "application/javascript": [
       "\n",
       "(function(root) {\n",
       "  function now() {\n",
       "    return new Date();\n",
       "  }\n",
       "\n",
       "  var force = true;\n",
       "\n",
       "  if (typeof (root._bokeh_onload_callbacks) === \"undefined\" || force === true) {\n",
       "    root._bokeh_onload_callbacks = [];\n",
       "    root._bokeh_is_loading = undefined;\n",
       "  }\n",
       "\n",
       "  var JS_MIME_TYPE = 'application/javascript';\n",
       "  var HTML_MIME_TYPE = 'text/html';\n",
       "  var EXEC_MIME_TYPE = 'application/vnd.bokehjs_exec.v0+json';\n",
       "  var CLASS_NAME = 'output_bokeh rendered_html';\n",
       "\n",
       "  /**\n",
       "   * Render data to the DOM node\n",
       "   */\n",
       "  function render(props, node) {\n",
       "    var script = document.createElement(\"script\");\n",
       "    node.appendChild(script);\n",
       "  }\n",
       "\n",
       "  /**\n",
       "   * Handle when an output is cleared or removed\n",
       "   */\n",
       "  function handleClearOutput(event, handle) {\n",
       "    var cell = handle.cell;\n",
       "\n",
       "    var id = cell.output_area._bokeh_element_id;\n",
       "    var server_id = cell.output_area._bokeh_server_id;\n",
       "    // Clean up Bokeh references\n",
       "    if (id !== undefined) {\n",
       "      Bokeh.index[id].model.document.clear();\n",
       "      delete Bokeh.index[id];\n",
       "    }\n",
       "\n",
       "    if (server_id !== undefined) {\n",
       "      // Clean up Bokeh references\n",
       "      var cmd = \"from bokeh.io.state import curstate; print(curstate().uuid_to_server['\" + server_id + \"'].get_sessions()[0].document.roots[0]._id)\";\n",
       "      cell.notebook.kernel.execute(cmd, {\n",
       "        iopub: {\n",
       "          output: function(msg) {\n",
       "            var element_id = msg.content.text.trim();\n",
       "            Bokeh.index[element_id].model.document.clear();\n",
       "            delete Bokeh.index[element_id];\n",
       "          }\n",
       "        }\n",
       "      });\n",
       "      // Destroy server and session\n",
       "      var cmd = \"import bokeh.io.notebook as ion; ion.destroy_server('\" + server_id + \"')\";\n",
       "      cell.notebook.kernel.execute(cmd);\n",
       "    }\n",
       "  }\n",
       "\n",
       "  /**\n",
       "   * Handle when a new output is added\n",
       "   */\n",
       "  function handleAddOutput(event, handle) {\n",
       "    var output_area = handle.output_area;\n",
       "    var output = handle.output;\n",
       "\n",
       "    // limit handleAddOutput to display_data with EXEC_MIME_TYPE content only\n",
       "    if ((output.output_type != \"display_data\") || (!output.data.hasOwnProperty(EXEC_MIME_TYPE))) {\n",
       "      return\n",
       "    }\n",
       "\n",
       "    var toinsert = output_area.element.find(\".\" + CLASS_NAME.split(' ')[0]);\n",
       "\n",
       "    if (output.metadata[EXEC_MIME_TYPE][\"id\"] !== undefined) {\n",
       "      toinsert[0].firstChild.textContent = output.data[JS_MIME_TYPE];\n",
       "      // store reference to embed id on output_area\n",
       "      output_area._bokeh_element_id = output.metadata[EXEC_MIME_TYPE][\"id\"];\n",
       "    }\n",
       "    if (output.metadata[EXEC_MIME_TYPE][\"server_id\"] !== undefined) {\n",
       "      var bk_div = document.createElement(\"div\");\n",
       "      bk_div.innerHTML = output.data[HTML_MIME_TYPE];\n",
       "      var script_attrs = bk_div.children[0].attributes;\n",
       "      for (var i = 0; i < script_attrs.length; i++) {\n",
       "        toinsert[0].firstChild.setAttribute(script_attrs[i].name, script_attrs[i].value);\n",
       "      }\n",
       "      // store reference to server id on output_area\n",
       "      output_area._bokeh_server_id = output.metadata[EXEC_MIME_TYPE][\"server_id\"];\n",
       "    }\n",
       "  }\n",
       "\n",
       "  function register_renderer(events, OutputArea) {\n",
       "\n",
       "    function append_mime(data, metadata, element) {\n",
       "      // create a DOM node to render to\n",
       "      var toinsert = this.create_output_subarea(\n",
       "        metadata,\n",
       "        CLASS_NAME,\n",
       "        EXEC_MIME_TYPE\n",
       "      );\n",
       "      this.keyboard_manager.register_events(toinsert);\n",
       "      // Render to node\n",
       "      var props = {data: data, metadata: metadata[EXEC_MIME_TYPE]};\n",
       "      render(props, toinsert[0]);\n",
       "      element.append(toinsert);\n",
       "      return toinsert\n",
       "    }\n",
       "\n",
       "    /* Handle when an output is cleared or removed */\n",
       "    events.on('clear_output.CodeCell', handleClearOutput);\n",
       "    events.on('delete.Cell', handleClearOutput);\n",
       "\n",
       "    /* Handle when a new output is added */\n",
       "    events.on('output_added.OutputArea', handleAddOutput);\n",
       "\n",
       "    /**\n",
       "     * Register the mime type and append_mime function with output_area\n",
       "     */\n",
       "    OutputArea.prototype.register_mime_type(EXEC_MIME_TYPE, append_mime, {\n",
       "      /* Is output safe? */\n",
       "      safe: true,\n",
       "      /* Index of renderer in `output_area.display_order` */\n",
       "      index: 0\n",
       "    });\n",
       "  }\n",
       "\n",
       "  // register the mime type if in Jupyter Notebook environment and previously unregistered\n",
       "  if (root.Jupyter !== undefined) {\n",
       "    var events = require('base/js/events');\n",
       "    var OutputArea = require('notebook/js/outputarea').OutputArea;\n",
       "\n",
       "    if (OutputArea.prototype.mime_types().indexOf(EXEC_MIME_TYPE) == -1) {\n",
       "      register_renderer(events, OutputArea);\n",
       "    }\n",
       "  }\n",
       "\n",
       "  \n",
       "  if (typeof (root._bokeh_timeout) === \"undefined\" || force === true) {\n",
       "    root._bokeh_timeout = Date.now() + 5000;\n",
       "    root._bokeh_failed_load = false;\n",
       "  }\n",
       "\n",
       "  var NB_LOAD_WARNING = {'data': {'text/html':\n",
       "     \"<div style='background-color: #fdd'>\\n\"+\n",
       "     \"<p>\\n\"+\n",
       "     \"BokehJS does not appear to have successfully loaded. If loading BokehJS from CDN, this \\n\"+\n",
       "     \"may be due to a slow or bad network connection. Possible fixes:\\n\"+\n",
       "     \"</p>\\n\"+\n",
       "     \"<ul>\\n\"+\n",
       "     \"<li>re-rerun `output_notebook()` to attempt to load from CDN again, or</li>\\n\"+\n",
       "     \"<li>use INLINE resources instead, as so:</li>\\n\"+\n",
       "     \"</ul>\\n\"+\n",
       "     \"<code>\\n\"+\n",
       "     \"from bokeh.resources import INLINE\\n\"+\n",
       "     \"output_notebook(resources=INLINE)\\n\"+\n",
       "     \"</code>\\n\"+\n",
       "     \"</div>\"}};\n",
       "\n",
       "  function display_loaded() {\n",
       "    var el = document.getElementById(\"3c466243-f5f2-4c6b-b738-7b61f95098ba\");\n",
       "    if (el != null) {\n",
       "      el.textContent = \"BokehJS is loading...\";\n",
       "    }\n",
       "    if (root.Bokeh !== undefined) {\n",
       "      if (el != null) {\n",
       "        el.textContent = \"BokehJS \" + root.Bokeh.version + \" successfully loaded.\";\n",
       "      }\n",
       "    } else if (Date.now() < root._bokeh_timeout) {\n",
       "      setTimeout(display_loaded, 100)\n",
       "    }\n",
       "  }\n",
       "\n",
       "\n",
       "  function run_callbacks() {\n",
       "    try {\n",
       "      root._bokeh_onload_callbacks.forEach(function(callback) { callback() });\n",
       "    }\n",
       "    finally {\n",
       "      delete root._bokeh_onload_callbacks\n",
       "    }\n",
       "    console.info(\"Bokeh: all callbacks have finished\");\n",
       "  }\n",
       "\n",
       "  function load_libs(js_urls, callback) {\n",
       "    root._bokeh_onload_callbacks.push(callback);\n",
       "    if (root._bokeh_is_loading > 0) {\n",
       "      console.log(\"Bokeh: BokehJS is being loaded, scheduling callback at\", now());\n",
       "      return null;\n",
       "    }\n",
       "    if (js_urls == null || js_urls.length === 0) {\n",
       "      run_callbacks();\n",
       "      return null;\n",
       "    }\n",
       "    console.log(\"Bokeh: BokehJS not loaded, scheduling load and callback at\", now());\n",
       "    root._bokeh_is_loading = js_urls.length;\n",
       "    for (var i = 0; i < js_urls.length; i++) {\n",
       "      var url = js_urls[i];\n",
       "      var s = document.createElement('script');\n",
       "      s.src = url;\n",
       "      s.async = false;\n",
       "      s.onreadystatechange = s.onload = function() {\n",
       "        root._bokeh_is_loading--;\n",
       "        if (root._bokeh_is_loading === 0) {\n",
       "          console.log(\"Bokeh: all BokehJS libraries loaded\");\n",
       "          run_callbacks()\n",
       "        }\n",
       "      };\n",
       "      s.onerror = function() {\n",
       "        console.warn(\"failed to load library \" + url);\n",
       "      };\n",
       "      console.log(\"Bokeh: injecting script tag for BokehJS library: \", url);\n",
       "      document.getElementsByTagName(\"head\")[0].appendChild(s);\n",
       "    }\n",
       "  };var element = document.getElementById(\"3c466243-f5f2-4c6b-b738-7b61f95098ba\");\n",
       "  if (element == null) {\n",
       "    console.log(\"Bokeh: ERROR: autoload.js configured with elementid '3c466243-f5f2-4c6b-b738-7b61f95098ba' but no matching script tag was found. \")\n",
       "    return false;\n",
       "  }\n",
       "\n",
       "  var js_urls = [\"https://cdn.pydata.org/bokeh/release/bokeh-0.12.14.min.js\", \"https://cdn.pydata.org/bokeh/release/bokeh-widgets-0.12.14.min.js\", \"https://cdn.pydata.org/bokeh/release/bokeh-tables-0.12.14.min.js\", \"https://cdn.pydata.org/bokeh/release/bokeh-gl-0.12.14.min.js\"];\n",
       "\n",
       "  var inline_js = [\n",
       "    function(Bokeh) {\n",
       "      Bokeh.set_log_level(\"info\");\n",
       "    },\n",
       "    \n",
       "    function(Bokeh) {\n",
       "      \n",
       "    },\n",
       "    function(Bokeh) {\n",
       "      console.log(\"Bokeh: injecting CSS: https://cdn.pydata.org/bokeh/release/bokeh-0.12.14.min.css\");\n",
       "      Bokeh.embed.inject_css(\"https://cdn.pydata.org/bokeh/release/bokeh-0.12.14.min.css\");\n",
       "      console.log(\"Bokeh: injecting CSS: https://cdn.pydata.org/bokeh/release/bokeh-widgets-0.12.14.min.css\");\n",
       "      Bokeh.embed.inject_css(\"https://cdn.pydata.org/bokeh/release/bokeh-widgets-0.12.14.min.css\");\n",
       "      console.log(\"Bokeh: injecting CSS: https://cdn.pydata.org/bokeh/release/bokeh-tables-0.12.14.min.css\");\n",
       "      Bokeh.embed.inject_css(\"https://cdn.pydata.org/bokeh/release/bokeh-tables-0.12.14.min.css\");\n",
       "    }\n",
       "  ];\n",
       "\n",
       "  function run_inline_js() {\n",
       "    \n",
       "    if ((root.Bokeh !== undefined) || (force === true)) {\n",
       "      for (var i = 0; i < inline_js.length; i++) {\n",
       "        inline_js[i].call(root, root.Bokeh);\n",
       "      }if (force === true) {\n",
       "        display_loaded();\n",
       "      }} else if (Date.now() < root._bokeh_timeout) {\n",
       "      setTimeout(run_inline_js, 100);\n",
       "    } else if (!root._bokeh_failed_load) {\n",
       "      console.log(\"Bokeh: BokehJS failed to load within specified timeout.\");\n",
       "      root._bokeh_failed_load = true;\n",
       "    } else if (force !== true) {\n",
       "      var cell = $(document.getElementById(\"3c466243-f5f2-4c6b-b738-7b61f95098ba\")).parents('.cell').data().cell;\n",
       "      cell.output_area.append_execute_result(NB_LOAD_WARNING)\n",
       "    }\n",
       "\n",
       "  }\n",
       "\n",
       "  if (root._bokeh_is_loading === 0) {\n",
       "    console.log(\"Bokeh: BokehJS loaded, going straight to plotting\");\n",
       "    run_inline_js();\n",
       "  } else {\n",
       "    load_libs(js_urls, function() {\n",
       "      console.log(\"Bokeh: BokehJS plotting callback run at\", now());\n",
       "      run_inline_js();\n",
       "    });\n",
       "  }\n",
       "}(window));"
      ],
      "application/vnd.bokehjs_load.v0+json": "\n(function(root) {\n  function now() {\n    return new Date();\n  }\n\n  var force = true;\n\n  if (typeof (root._bokeh_onload_callbacks) === \"undefined\" || force === true) {\n    root._bokeh_onload_callbacks = [];\n    root._bokeh_is_loading = undefined;\n  }\n\n  \n\n  \n  if (typeof (root._bokeh_timeout) === \"undefined\" || force === true) {\n    root._bokeh_timeout = Date.now() + 5000;\n    root._bokeh_failed_load = false;\n  }\n\n  var NB_LOAD_WARNING = {'data': {'text/html':\n     \"<div style='background-color: #fdd'>\\n\"+\n     \"<p>\\n\"+\n     \"BokehJS does not appear to have successfully loaded. If loading BokehJS from CDN, this \\n\"+\n     \"may be due to a slow or bad network connection. Possible fixes:\\n\"+\n     \"</p>\\n\"+\n     \"<ul>\\n\"+\n     \"<li>re-rerun `output_notebook()` to attempt to load from CDN again, or</li>\\n\"+\n     \"<li>use INLINE resources instead, as so:</li>\\n\"+\n     \"</ul>\\n\"+\n     \"<code>\\n\"+\n     \"from bokeh.resources import INLINE\\n\"+\n     \"output_notebook(resources=INLINE)\\n\"+\n     \"</code>\\n\"+\n     \"</div>\"}};\n\n  function display_loaded() {\n    var el = document.getElementById(\"3c466243-f5f2-4c6b-b738-7b61f95098ba\");\n    if (el != null) {\n      el.textContent = \"BokehJS is loading...\";\n    }\n    if (root.Bokeh !== undefined) {\n      if (el != null) {\n        el.textContent = \"BokehJS \" + root.Bokeh.version + \" successfully loaded.\";\n      }\n    } else if (Date.now() < root._bokeh_timeout) {\n      setTimeout(display_loaded, 100)\n    }\n  }\n\n\n  function run_callbacks() {\n    try {\n      root._bokeh_onload_callbacks.forEach(function(callback) { callback() });\n    }\n    finally {\n      delete root._bokeh_onload_callbacks\n    }\n    console.info(\"Bokeh: all callbacks have finished\");\n  }\n\n  function load_libs(js_urls, callback) {\n    root._bokeh_onload_callbacks.push(callback);\n    if (root._bokeh_is_loading > 0) {\n      console.log(\"Bokeh: BokehJS is being loaded, scheduling callback at\", now());\n      return null;\n    }\n    if (js_urls == null || js_urls.length === 0) {\n      run_callbacks();\n      return null;\n    }\n    console.log(\"Bokeh: BokehJS not loaded, scheduling load and callback at\", now());\n    root._bokeh_is_loading = js_urls.length;\n    for (var i = 0; i < js_urls.length; i++) {\n      var url = js_urls[i];\n      var s = document.createElement('script');\n      s.src = url;\n      s.async = false;\n      s.onreadystatechange = s.onload = function() {\n        root._bokeh_is_loading--;\n        if (root._bokeh_is_loading === 0) {\n          console.log(\"Bokeh: all BokehJS libraries loaded\");\n          run_callbacks()\n        }\n      };\n      s.onerror = function() {\n        console.warn(\"failed to load library \" + url);\n      };\n      console.log(\"Bokeh: injecting script tag for BokehJS library: \", url);\n      document.getElementsByTagName(\"head\")[0].appendChild(s);\n    }\n  };var element = document.getElementById(\"3c466243-f5f2-4c6b-b738-7b61f95098ba\");\n  if (element == null) {\n    console.log(\"Bokeh: ERROR: autoload.js configured with elementid '3c466243-f5f2-4c6b-b738-7b61f95098ba' but no matching script tag was found. \")\n    return false;\n  }\n\n  var js_urls = [\"https://cdn.pydata.org/bokeh/release/bokeh-0.12.14.min.js\", \"https://cdn.pydata.org/bokeh/release/bokeh-widgets-0.12.14.min.js\", \"https://cdn.pydata.org/bokeh/release/bokeh-tables-0.12.14.min.js\", \"https://cdn.pydata.org/bokeh/release/bokeh-gl-0.12.14.min.js\"];\n\n  var inline_js = [\n    function(Bokeh) {\n      Bokeh.set_log_level(\"info\");\n    },\n    \n    function(Bokeh) {\n      \n    },\n    function(Bokeh) {\n      console.log(\"Bokeh: injecting CSS: https://cdn.pydata.org/bokeh/release/bokeh-0.12.14.min.css\");\n      Bokeh.embed.inject_css(\"https://cdn.pydata.org/bokeh/release/bokeh-0.12.14.min.css\");\n      console.log(\"Bokeh: injecting CSS: https://cdn.pydata.org/bokeh/release/bokeh-widgets-0.12.14.min.css\");\n      Bokeh.embed.inject_css(\"https://cdn.pydata.org/bokeh/release/bokeh-widgets-0.12.14.min.css\");\n      console.log(\"Bokeh: injecting CSS: https://cdn.pydata.org/bokeh/release/bokeh-tables-0.12.14.min.css\");\n      Bokeh.embed.inject_css(\"https://cdn.pydata.org/bokeh/release/bokeh-tables-0.12.14.min.css\");\n    }\n  ];\n\n  function run_inline_js() {\n    \n    if ((root.Bokeh !== undefined) || (force === true)) {\n      for (var i = 0; i < inline_js.length; i++) {\n        inline_js[i].call(root, root.Bokeh);\n      }if (force === true) {\n        display_loaded();\n      }} else if (Date.now() < root._bokeh_timeout) {\n      setTimeout(run_inline_js, 100);\n    } else if (!root._bokeh_failed_load) {\n      console.log(\"Bokeh: BokehJS failed to load within specified timeout.\");\n      root._bokeh_failed_load = true;\n    } else if (force !== true) {\n      var cell = $(document.getElementById(\"3c466243-f5f2-4c6b-b738-7b61f95098ba\")).parents('.cell').data().cell;\n      cell.output_area.append_execute_result(NB_LOAD_WARNING)\n    }\n\n  }\n\n  if (root._bokeh_is_loading === 0) {\n    console.log(\"Bokeh: BokehJS loaded, going straight to plotting\");\n    run_inline_js();\n  } else {\n    load_libs(js_urls, function() {\n      console.log(\"Bokeh: BokehJS plotting callback run at\", now());\n      run_inline_js();\n    });\n  }\n}(window));"
     },
     "metadata": {},
     "output_type": "display_data"
    }
   ],
   "source": [
    "output_notebook()"
   ]
  },
  {
   "cell_type": "code",
   "execution_count": 8,
   "metadata": {
    "collapsed": true
   },
   "outputs": [],
   "source": [
    "def fmt_cool(ds_in):\n",
    "    ds = ds_in.copy(deep=True)\n",
    "    if 'igg' in ds.dims:\n",
    "        ds = ds.sel(igg=1)\n",
    "\n",
    "    if 'g' in ds.dims:\n",
    "        ds = ds.sum('g')\n",
    "            \n",
    "    if 'band' in ds.dims:\n",
    "        try:\n",
    "            ds = ds.squeeze('band')\n",
    "        except ValueError:\n",
    "            ds = ds.sum('band')\n",
    "                \n",
    "    return ds['coolrg']\n",
    "\n",
    "\n",
    "def pltdata_cooling_1(ds_cool=None,\n",
    "                      ds_cool_crd=None, ds_cool_wgt=None):\n",
    "    \n",
    "\n",
    "\n",
    "    colors = all_palettes['Set1'][4]\n",
    "    data = [{'label': 'CLIRAD `coolr_bands`',\n",
    "             'srs': fmt_cool(ds_cool),\n",
    "             'line_dash': 'dashed', 'line_width': 5,\n",
    "             'color': colors[0], 'alpha': .6},\n",
    "            {'label': 'CRD',\n",
    "             'srs': fmt_cool(ds_cool_crd),\n",
    "             'line_dash': 'solid', 'line_width': 1.5,\n",
    "             'marker': 'circle', 'marker_size': 5,\n",
    "             'color': colors[2], 'alpha': 1,},\n",
    "            {'label': 'WGT igg=10 wgt_flux=2',\n",
    "             'srs': fmt_cool(ds_cool_wgt),\n",
    "             'line_dash': 'solid', 'line_width': 3,\n",
    "             'marker': 'square', 'marker_size': 5,\n",
    "             'color': colors[3], 'alpha': .6}]\n",
    "    return data\n",
    "\n",
    "\n",
    "def nice_xlims(pltdata=None, prange=None):\n",
    "    \n",
    "    def get_slice(srs):\n",
    "        return srs.sel(pressure=slice(*prange))\n",
    "    \n",
    "    srss = [d['srs'] for d in pltdata]\n",
    "    vmin = min([get_slice(srs).min() for srs in srss])\n",
    "    vmax = max([get_slice(srs).max() for srs in srss])\n",
    "    dv = (vmax - vmin) * .01\n",
    "    return float(vmin - dv), float(vmax + dv)\n",
    "    \n",
    "\n",
    "def plt_cooling_bokeh(pltdata=None):\n",
    "    '''\n",
    "    Plot a list of cooling rate profiles using bokeh.\n",
    "    '''\n",
    "    ymin = 1e-2 \n",
    "    ymax = 1020 \n",
    "        \n",
    "    p1 = figure(title=\"Linear pressure scale\", \n",
    "                plot_width=400)        \n",
    "    xmin, xmax = nice_xlims(pltdata, prange=(50, 1050))\n",
    "    for d in pltdata:\n",
    "        if 'marker' in d:\n",
    "            getattr(p1, d['marker'])(d['srs'].values, \n",
    "                    d['srs'].coords['pressure'].values,\n",
    "                    color=d['color'], alpha=.7)\n",
    "        p1.line(d['srs'].values, \n",
    "                d['srs'].coords['pressure'].values,\n",
    "                color=d['color'], alpha=d['alpha'], \n",
    "                line_width=d['line_width'], line_dash=d['line_dash'])\n",
    "    \n",
    "    p1.y_range = Range1d(ymax, ymin)\n",
    "    p1.yaxis.axis_label = 'pressure [mb]'   \n",
    "    p1.x_range = Range1d(xmin, xmax)\n",
    "    p1.xaxis.axis_label = 'cooling rate [K/day]'\n",
    "            \n",
    "    p2 = figure(title='Log pressure scale', y_axis_type='log',\n",
    "                plot_width=560)\n",
    "    xmin, xmax = nice_xlims(pltdata, prange=(.01, 200))\n",
    "    \n",
    "    rs = []\n",
    "    for d in pltdata:\n",
    "        rd = []\n",
    "        if 'marker' in d:\n",
    "            r_mark = getattr(p2, d['marker'])(d['srs'].values, \n",
    "                        d['srs'].coords['pressure'].values,\n",
    "                        color=d['color'], alpha=.7)\n",
    "            rd.append(r_mark)\n",
    "        r_line = p2.line(d['srs'].values, \n",
    "                    d['srs'].coords['pressure'].values,\n",
    "                    color=d['color'], alpha=d['alpha'], \n",
    "                    line_width=d['line_width'], line_dash=d['line_dash'])\n",
    "        rd.append(r_line)\n",
    "      \n",
    "        rs.append(rd)\n",
    "        \n",
    "    p2.y_range = Range1d(ymax, ymin)  \n",
    "    p2.yaxis.axis_label = 'pressure [mb]'\n",
    "    \n",
    "    p2.x_range = Range1d(xmin, xmax)\n",
    "    p2.xaxis.axis_label = 'cooling rate [K/day]'\n",
    "    \n",
    "    items = [(d['label'], r) for r, d in zip(rs, pltdata)]\n",
    "    legend = Legend(items=items, location=(10, -30))\n",
    "    legend.label_text_font_size = '8pt'\n",
    "    \n",
    "    p2.add_layout(legend, 'right')  \n",
    "    \n",
    "    show(gridplot(p1, p2, ncols=2, plot_height=500))\n",
    "    \n",
    "\n",
    "def script_plt_cooling():\n",
    "    pltdata = pltdata_cooling_1(\n",
    "        ds_cool=DS_COOL,\n",
    "        ds_cool_crd=DS_COOL_CRD,\n",
    "        ds_cool_wgt=DS_COOL_WGT)\n",
    "    plt_cooling_bokeh(pltdata=pltdata)\n",
    "    print('''FIGURE. Cooling rate profiles.''')"
   ]
  },
  {
   "cell_type": "code",
   "execution_count": 9,
   "metadata": {
    "collapsed": true
   },
   "outputs": [],
   "source": [
    "def fmt_flux(ds_in):\n",
    "    ds = ds_in.copy(deep=True)\n",
    "    \n",
    "    for l in ('level', 'layer'):\n",
    "        if l in ds.data_vars:\n",
    "            if len(ds[l].dims) > 1:\n",
    "                surface = {d: 0 for d in ds.dims if d != 'pressure'}\n",
    "                coord_level = ds[l][surface]\n",
    "                ds.coords[l] = ('pressure', coord_level)\n",
    "            else:\n",
    "                ds.coords[l] = ('pressure', ds[l])\n",
    "        \n",
    "    ds = ds.isel(pressure=[0, 23, -1])\n",
    "        \n",
    "    if 'igg' in ds.dims:\n",
    "        ds = ds.sel(igg=[1])\n",
    "        ds = ds.squeeze('igg').drop('igg')\n",
    "    \n",
    "    if 'g' in ds.dims:\n",
    "        ds = ds.sum('g')\n",
    "            \n",
    "    if 'band' in ds.dims:\n",
    "        try:\n",
    "            ds = ds.squeeze('band').drop('band')\n",
    "        except ValueError:\n",
    "            ds = ds.sum('band')\n",
    "                \n",
    "    df = ds.to_dataframe()\n",
    "    df = df.set_index('level', append=True)               \n",
    "    return df\n",
    "\n",
    "\n",
    "def tbdata_flux(ds_flux=None, ds_flux_crd=None, ds_flux_wgt=None):\n",
    "    ilevels = [0, 23, -1]\n",
    "            \n",
    "    benchmark = {'label': 'WGT igg=10 wgt_flux=1',\n",
    "                 'df': fmt_flux(ds_flux_wgt)}\n",
    "    \n",
    "    tbs = [{'label': 'CRD',\n",
    "            'df': fmt_flux(ds_flux_crd)},\n",
    "           {'label': 'CLIRAD',\n",
    "            'df': fmt_flux(ds_flux)}]\n",
    "    \n",
    "    data = {'benchmark': benchmark, 'others': tbs}\n",
    "    return data\n",
    "\n",
    "\n",
    "def tb_flux(tbdata=None):\n",
    "    benchmark = tbdata['benchmark']\n",
    "    others = tbdata['others']\n",
    "    \n",
    "    def show_tb(d=None):\n",
    "        display.display(d['df'])\n",
    "        print('Table.', 'Fluxes.', d['label'])\n",
    "        \n",
    "    def show_tbdiff(d0=None, d=None):\n",
    "        df = d['df']\n",
    "        df.index = d0['df'].index\n",
    "        display.display(df - d0['df'])\n",
    "        print('Table.', 'Fluxes.', \n",
    "              '({}) - ({})'.format(d['label'], d0['label']))\n",
    "        \n",
    "    show_tb(benchmark)\n",
    "    for d in others:\n",
    "        show_tb(d)\n",
    "        \n",
    "    for d in others:\n",
    "        show_tbdiff(d=d, d0=benchmark)\n",
    "        \n",
    "        \n",
    "def script_tb_flux():\n",
    "    data = tbdata_flux(ds_flux=DS_FLUX,\n",
    "                       ds_flux_crd=DS_FLUX_CRD,\n",
    "                       ds_flux_wgt=DS_FLUX_WGT)\n",
    "    tb_flux(tbdata=data)"
   ]
  },
  {
   "cell_type": "code",
   "execution_count": 10,
   "metadata": {
    "collapsed": true
   },
   "outputs": [],
   "source": [
    "def band_map():\n",
    "    '''\n",
    "    Maps spectral bands in lblnew to spectral bands in clirad.\n",
    "    '''\n",
    "    lblnew2clirad = {'1': '1',\n",
    "            '2': '2',\n",
    "            '3a': '3',\n",
    "            '3b': '4',\n",
    "            '3c': '5',\n",
    "            '4': '6', \n",
    "            '5': '7',\n",
    "            '6': '8',\n",
    "            '7': '9', \n",
    "            '8': '10',\n",
    "            '9': '11'}\n",
    "    \n",
    "    clirad2lblnew = {clirad: lblnew \n",
    "                     for lblnew, clirad in lblnew2clirad.items()}\n",
    "    return clirad2lblnew\n",
    "\n",
    "\n",
    "def gasbands():\n",
    "    bmap = band_map()\n",
    "    gases = list(PARAM['molecule'].keys())\n",
    "    \n",
    "    bands = [bmap[str(b)] for b in PARAM['band']]\n",
    "    return list(itertools.product(gases, bands))\n",
    "\n",
    "\n",
    "def print_bestfit_params():\n",
    "    print('Best-fit values for each (gas, band)')\n",
    "    print('------------------------------------')\n",
    "    for gas, band in gasbands():\n",
    "        print('o {} band{}'.format(gas, band))\n",
    "        param = bestfits.kdist_params(molecule=gas, band=band)\n",
    "        for name, value in sorted(param.items()):\n",
    "            print(2 * ' ' + '{} = {}'.format(name, value))\n",
    "\n",
    "        \n",
    "def print_input_param():        \n",
    "    for name, value in PARAM.items():\n",
    "        print('{} = {}'.format(name, value))\n",
    "        \n",
    "        \n",
    "def print_lblnew_param():\n",
    "    for name, value in sorted(PARAM_LBLNEW.items()):\n",
    "        print('{} = {}'.format(name, value))\n"
   ]
  },
  {
   "cell_type": "code",
   "execution_count": 11,
   "metadata": {
    "collapsed": true,
    "scrolled": false
   },
   "outputs": [],
   "source": [
    "def show_html(s):\n",
    "    display.display(display.HTML(s))\n",
    "\n",
    "    \n",
    "def show_markdown(s):\n",
    "    display.display(display.Markdown(s))\n",
    "\n",
    "    \n",
    "def script():\n",
    "    \n",
    "    title = '### CLIRAD-LW'\n",
    "    s_input = 'Input Parameters'\n",
    "    s_lblnew_param = 'LBLNEW case compaired against'\n",
    "    s_bestfits = 'Best-fit Parameters'\n",
    "    s_plt_cooling = 'Cooling Rate Profiles'\n",
    "    s_tb_flux = 'Flux Comparison'\n",
    "    \n",
    "    # title\n",
    "    show_markdown('### CLIRAD-LW')\n",
    "    \n",
    "    # TOC\n",
    "    show_markdown('### Table of Contents')\n",
    "    show_html(climahtml.getHTML_hrefanchor(s_input))\n",
    "    show_html(climahtml.getHTML_hrefanchor(s_lblnew_param))\n",
    "    show_html(climahtml.getHTML_hrefanchor(s_plt_cooling))\n",
    "    show_html(climahtml.getHTML_hrefanchor(s_tb_flux))\n",
    "    show_html(climahtml.getHTML_hrefanchor(s_bestfits))\n",
    "    \n",
    "    # Input parameters\n",
    "    show_html(climahtml.getHTML_idanchor(s_input))\n",
    "    show_markdown(climahtml.getMarkdown_sectitle(s_input))\n",
    "    print_input_param()\n",
    "    \n",
    "    # LBLNEW parameters \n",
    "    show_html(climahtml.getHTML_idanchor(s_lblnew_param))\n",
    "    show_markdown(climahtml.getMarkdown_sectitle(s_lblnew_param))\n",
    "    print_lblnew_param()\n",
    "    \n",
    "    # Cooling rate profiles\n",
    "    show_html(climahtml.getHTML_idanchor(s_plt_cooling))\n",
    "    show_markdown(climahtml.getMarkdown_sectitle(s_plt_cooling))\n",
    "    script_plt_cooling()\n",
    "    \n",
    "    # Flux comparison\n",
    "    show_html(climahtml.getHTML_idanchor(s_tb_flux))\n",
    "    show_markdown(climahtml.getMarkdown_sectitle(s_tb_flux))\n",
    "    script_tb_flux()\n",
    "    \n",
    "    # Best-fit values\n",
    "    show_html(climahtml.getHTML_idanchor(s_bestfits))\n",
    "    show_markdown(climahtml.getMarkdown_sectitle(s_bestfits))\n",
    "    print_bestfit_params()\n",
    "   \n",
    "    "
   ]
  },
  {
   "cell_type": "code",
   "execution_count": 12,
   "metadata": {
    "collapsed": true,
    "scrolled": false
   },
   "outputs": [
    {
     "data": {
      "text/markdown": [
       "### CLIRAD-LW"
      ],
      "text/plain": [
       "<IPython.core.display.Markdown object>"
      ]
     },
     "metadata": {},
     "output_type": "display_data"
    },
    {
     "data": {
      "text/markdown": [
       "### Table of Contents"
      ],
      "text/plain": [
       "<IPython.core.display.Markdown object>"
      ]
     },
     "metadata": {},
     "output_type": "display_data"
    },
    {
     "data": {
      "text/html": [
       "<a href=\"#Input_Parameters\">Input Parameters</a>"
      ],
      "text/plain": [
       "<IPython.core.display.HTML object>"
      ]
     },
     "metadata": {},
     "output_type": "display_data"
    },
    {
     "data": {
      "text/html": [
       "<a href=\"#LBLNEW_case_compaired_against\">LBLNEW case compaired against</a>"
      ],
      "text/plain": [
       "<IPython.core.display.HTML object>"
      ]
     },
     "metadata": {},
     "output_type": "display_data"
    },
    {
     "data": {
      "text/html": [
       "<a href=\"#Cooling_Rate_Profiles\">Cooling Rate Profiles</a>"
      ],
      "text/plain": [
       "<IPython.core.display.HTML object>"
      ]
     },
     "metadata": {},
     "output_type": "display_data"
    },
    {
     "data": {
      "text/html": [
       "<a href=\"#Flux_Comparison\">Flux Comparison</a>"
      ],
      "text/plain": [
       "<IPython.core.display.HTML object>"
      ]
     },
     "metadata": {},
     "output_type": "display_data"
    },
    {
     "data": {
      "text/html": [
       "<a href=\"#Best-fit_Parameters\">Best-fit Parameters</a>"
      ],
      "text/plain": [
       "<IPython.core.display.HTML object>"
      ]
     },
     "metadata": {},
     "output_type": "display_data"
    },
    {
     "data": {
      "text/html": [
       "<a id=\"Input_Parameters\"></a>"
      ],
      "text/plain": [
       "<IPython.core.display.HTML object>"
      ]
     },
     "metadata": {},
     "output_type": "display_data"
    },
    {
     "data": {
      "text/markdown": [
       "# Input Parameters"
      ],
      "text/plain": [
       "<IPython.core.display.Markdown object>"
      ]
     },
     "metadata": {},
     "output_type": "display_data"
    },
    {
     "name": "stdout",
     "output_type": "stream",
     "text": [
      "atmpro = trp\n",
      "band = [3]\n",
      "commitnumber = 7e55b57\n",
      "molecule = {'co2': 0.0004}\n",
      "tsfc = 300\n"
     ]
    },
    {
     "data": {
      "text/html": [
       "<a id=\"LBLNEW_case_compaired_against\"></a>"
      ],
      "text/plain": [
       "<IPython.core.display.HTML object>"
      ]
     },
     "metadata": {},
     "output_type": "display_data"
    },
    {
     "data": {
      "text/markdown": [
       "# LBLNEW case compaired against"
      ],
      "text/plain": [
       "<IPython.core.display.Markdown object>"
      ]
     },
     "metadata": {},
     "output_type": "display_data"
    },
    {
     "name": "stdout",
     "output_type": "stream",
     "text": [
      "atmpro = trp\n",
      "band = 3a\n",
      "commitnumber = 5014a19\n",
      "conc = 0.0004\n",
      "dv = 0.01\n",
      "klin = 6.375563e-24\n",
      "molecule = co2\n",
      "ng_adju = [0, 0, 0]\n",
      "ng_refs = [3, 2, 4]\n",
      "nv = 100\n",
      "option_compute_btable = 0\n",
      "option_compute_ktable = 0\n",
      "option_wgt_flux = 1\n",
      "option_wgt_k = 1\n",
      "ref_pts = [(1, 250), (10, 250), (500, 250)]\n",
      "tsfc = 300\n",
      "vmax = 620\n",
      "vmin = 540\n",
      "w_diffuse = [(1.6, 1.6, 1.7), (1.75, 1.75), (1.55, 1.55, 1.6, 1.85)]\n",
      "wgt = [(0.7, 0.3, 0.7), (0.7, 0.6), (0.4, 0.5, 0.8, 0.95)]\n"
     ]
    },
    {
     "data": {
      "text/html": [
       "<a id=\"Cooling_Rate_Profiles\"></a>"
      ],
      "text/plain": [
       "<IPython.core.display.HTML object>"
      ]
     },
     "metadata": {},
     "output_type": "display_data"
    },
    {
     "data": {
      "text/markdown": [
       "# Cooling Rate Profiles"
      ],
      "text/plain": [
       "<IPython.core.display.Markdown object>"
      ]
     },
     "metadata": {},
     "output_type": "display_data"
    },
    {
     "data": {
      "text/html": [
       "\n",
       "<div class=\"bk-root\">\n",
       "    <div class=\"bk-plotdiv\" id=\"cc7b795e-ab63-47c7-a27b-640840094e60\"></div>\n",
       "</div>"
      ]
     },
     "metadata": {},
     "output_type": "display_data"
    },
    {
     "data": {
      "application/javascript": [
       "(function(root) {\n",
       "  function embed_document(root) {\n",
       "    \n",
       "  var docs_json = {\"695a074e-3f2d-4c1d-b78c-4bce536ca413\":{\"roots\":{\"references\":[{\"attributes\":{\"source\":{\"id\":\"5af33223-26f5-41c9-9fbe-1547b17ecfdc\",\"type\":\"ColumnDataSource\"}},\"id\":\"cda6b5eb-107f-4bf1-96b8-ed5b66b0a36c\",\"type\":\"CDSView\"},{\"attributes\":{\"callback\":null,\"end\":0.01,\"start\":1020},\"id\":\"d800395a-5e78-444a-922f-bbf1ba95ad88\",\"type\":\"Range1d\"},{\"attributes\":{\"data_source\":{\"id\":\"09382616-67ef-48cc-8598-2afcb5d5fa70\",\"type\":\"ColumnDataSource\"},\"glyph\":{\"id\":\"be87a79c-5b10-45ef-846d-9663f5551ef1\",\"type\":\"Line\"},\"hover_glyph\":null,\"muted_glyph\":null,\"nonselection_glyph\":{\"id\":\"7088532f-9f1d-44be-8ce3-9428a436f63c\",\"type\":\"Line\"},\"selection_glyph\":null,\"view\":{\"id\":\"4ad660e9-98ae-4267-835e-71e81dfea543\",\"type\":\"CDSView\"}},\"id\":\"ad2ff9a1-d5e9-435b-8a6c-ae378921e54b\",\"type\":\"GlyphRenderer\"},{\"attributes\":{\"callback\":null,\"column_names\":[\"x\",\"y\"],\"data\":{\"x\":{\"__ndarray__\":\"ywbC4xUn0j8TDXP+/ZTIP0R51blYh8E/YuQbwBHT1D++P5QePMnUP555vSRj79A/uI3MRI2Z0D/s7QGAhF3TPzqQFuPTjtM/Qz4ihTZp0z+bssueoUvTPyySnyLBM9I/2uIan8k+0D9t3Oa2EvTMPx92MnpmsMs/S0xA4SZC0D8YjWPBUAnTP8aL4NrkC9Q/NxgLv6sQ1D/3bwPjhZnVP6f/DyStQNs/KZYZPjuj4j+zGdCg24rkP1vFbuFx2OI/asFJorBu4D/YTSE+TbnaP/CiryDN2NU/FTCq2qgt0j97RZ7BMvjNP5DggHWgd8c/62jiPu6ywT+ptP3fnIe5P2/HAd9gtLE/bGeVIsRYqT+74F9GqWucP+ABBUAu6ku/qTV5PMCilb9c0bNHEv6Rv622dMFB2hi/BCUPiDNmhj/uXFoFGDOVP9wb/+Jy7J0/NBQeBILYoj+1Rht/ViSmP9XjuRyBCKk/EYpXoLCgqz/73ZQilB+uP/vrJEEJSrA/WgPxQLiQsT/Jn17fPfayPyTrqB70YrQ/rp3F3s3LtT/4YD3hMSu3P6esbEAAgLg/YxBx1lTUuT/OOwy1vxa7P18eGUijRLw/nJLFYHJhvT+1WQ5Xe5a+P8hPVzUQ5L8/yePMIz2UwD8nw69gNA7BP23Ph8LCJME/rQ38RVzCwD8yjP1dhhzAP8WxRwtEDb8/z1bzVjx5vj+cHFeG5Y2+P0X/uokQDb8/fftj7//Cvz8JPVHIhE7AP7X/fZ0G0sA/MfXrNdp9wT+PK/2dUHzCP7Z688Bsp8Q/\",\"dtype\":\"float64\",\"shape\":[75]},\"y\":{\"__ndarray__\":\"S/O/Q+51ND/430zAtpRIP2vylNV0PVE/QxsjCssuWD/TR4Z78fVgP+inNsRxymc/OuuBfZWvcD/u3TFA02d3P2d3VoBnaoA/CD5h5MAGhz/1pA8HUCaQP+zrCsc9p5Y/Fb7LAKjGnz/nJ9c/SEmmPwBD+fzcQq8/FOZwv9nstT8Er5Y7M8G+P0c+r3jqkcU/yK72qKZBzj+tM989FzjVPxbgmr8yxN0/cOm5AXbg5D+5ctXAf0jtP5kqGJXUifQ/DsrqDELP/D8MCAhBojQEQDItVnmnVwxAiFXNvdHgE0BSSZ2AJuIbQAMJih9jjiNA5q4l5INuK0CPVN/5RT0zQHzxRXu8/DpAOZ7PgHrtQkAg8wGBzoxKQBSTN8DMeFJA2NmQf2ZqWEAAAAAAAFxeQEQX1LfMJmJAmpmZmZkfZUBmZmZmZhhoQLzoK0gzEWtAAAAAAAAKbkCiC+pbZoFwQAhyUMLM/XFA+I2vPTN6c0AQ5KCEmfZ0QAAAAAAAc3ZA8Btfe2bvd0AIclDCzGt5QPeNrz0z6HpAEOSghJlkfEAAAAAAAOF9QKML6ltmXX9ABTkoYeZsgED7xteeGSuBQAhyUMJM6YFAAAAAAICngkD4ja89s2WDQAU5KGHmI4RA+8bXnhnihEAIclDCTKCFQAAAAACAXoZA+I2vPbMch0AFOShh5tqHQPvG154ZmYhACHJQwkxXiUAAAAAAgBWKQPeNrz2z04pABTkoYeaRi0D7xteeGVCMQAlyUMJMDo1AAAAAAIDMjUD3ja89s4qOQGZmZmbmSI9A\",\"dtype\":\"float64\",\"shape\":[75]}}},\"id\":\"b1ffaff8-0e83-49c8-9d87-e3320245d9aa\",\"type\":\"ColumnDataSource\"},{\"attributes\":{\"fill_alpha\":{\"value\":0.1},\"fill_color\":{\"value\":\"#1f77b4\"},\"line_alpha\":{\"value\":0.1},\"line_color\":{\"value\":\"#1f77b4\"},\"x\":{\"field\":\"x\"},\"y\":{\"field\":\"y\"}},\"id\":\"f54736a9-0922-423f-8e01-9b8b6ba11b14\",\"type\":\"Circle\"},{\"attributes\":{\"data_source\":{\"id\":\"b1ffaff8-0e83-49c8-9d87-e3320245d9aa\",\"type\":\"ColumnDataSource\"},\"glyph\":{\"id\":\"7f357a27-f527-4e86-8b2e-0209ba141463\",\"type\":\"Line\"},\"hover_glyph\":null,\"muted_glyph\":null,\"nonselection_glyph\":{\"id\":\"51198984-db39-4f2a-a6c7-f7302e14779b\",\"type\":\"Line\"},\"selection_glyph\":null,\"view\":{\"id\":\"b6573db7-710f-45fb-9d97-2466ad158e26\",\"type\":\"CDSView\"}},\"id\":\"dc730ec1-9997-4c33-98bf-18e939878349\",\"type\":\"GlyphRenderer\"},{\"attributes\":{\"line_alpha\":0.6,\"line_color\":\"#e41a1c\",\"line_dash\":[6],\"line_width\":5,\"x\":{\"field\":\"x\"},\"y\":{\"field\":\"y\"}},\"id\":\"7f357a27-f527-4e86-8b2e-0209ba141463\",\"type\":\"Line\"},{\"attributes\":{\"source\":{\"id\":\"054eebc5-3572-47f6-a4fa-504d0e2925ca\",\"type\":\"ColumnDataSource\"}},\"id\":\"087f0818-24b7-47d5-9807-ea41bc1d1cc4\",\"type\":\"CDSView\"},{\"attributes\":{\"line_alpha\":0.6,\"line_color\":\"#984ea3\",\"line_width\":3,\"x\":{\"field\":\"x\"},\"y\":{\"field\":\"y\"}},\"id\":\"f112e2b7-9e82-4302-a39c-d222dc9faaaa\",\"type\":\"Line\"},{\"attributes\":{\"label\":{\"value\":\"WGT igg=10 wgt_flux=2\"},\"renderers\":[{\"id\":\"0f88c24c-3ed9-4b0d-b21e-708867900362\",\"type\":\"GlyphRenderer\"},{\"id\":\"bbbcd287-dc38-4c42-8e4e-6d9f824fdabc\",\"type\":\"GlyphRenderer\"}]},\"id\":\"3893dc15-f1cd-43ce-98f6-b0d3db96d415\",\"type\":\"LegendItem\"},{\"attributes\":{\"callback\":null,\"end\":0.01,\"start\":1020},\"id\":\"30f0130f-da90-485c-9ff9-057e8b8d2930\",\"type\":\"Range1d\"},{\"attributes\":{},\"id\":\"702e6a7d-bff9-4e93-99ef-64be89183456\",\"type\":\"PanTool\"},{\"attributes\":{\"data_source\":{\"id\":\"cf8ea51e-33f7-4d26-b79d-b1a1180874be\",\"type\":\"ColumnDataSource\"},\"glyph\":{\"id\":\"ceb4ecd0-5d4b-410f-8a1f-5f4888e1fd97\",\"type\":\"Square\"},\"hover_glyph\":null,\"muted_glyph\":null,\"nonselection_glyph\":{\"id\":\"c68f5d6c-3eea-4972-949d-33ea3b1d0280\",\"type\":\"Square\"},\"selection_glyph\":null,\"view\":{\"id\":\"0e019eb5-33ce-4e83-b2dc-eb33a816b6f7\",\"type\":\"CDSView\"}},\"id\":\"bba246c8-b32c-4f74-b57f-0a594154a339\",\"type\":\"GlyphRenderer\"},{\"attributes\":{\"fill_alpha\":{\"value\":0.7},\"fill_color\":{\"value\":\"#4daf4a\"},\"line_alpha\":{\"value\":0.7},\"line_color\":{\"value\":\"#4daf4a\"},\"x\":{\"field\":\"x\"},\"y\":{\"field\":\"y\"}},\"id\":\"17661ba0-d6ae-4bbd-85fc-51772e19d144\",\"type\":\"Circle\"},{\"attributes\":{\"fill_alpha\":{\"value\":0.1},\"fill_color\":{\"value\":\"#1f77b4\"},\"line_alpha\":{\"value\":0.1},\"line_color\":{\"value\":\"#1f77b4\"},\"x\":{\"field\":\"x\"},\"y\":{\"field\":\"y\"}},\"id\":\"c68f5d6c-3eea-4972-949d-33ea3b1d0280\",\"type\":\"Square\"},{\"attributes\":{\"callback\":null,\"column_names\":[\"x\",\"y\"],\"data\":{\"x\":{\"__ndarray__\":\"qj+IhdZa2j8G4PoLmBvaP+jLoBSMzto/ctr4uNta2z/MtUfz8LPbPxESDmIM0ds/tffrRgaW2z/gIbUe+PfaP9OsQ6DA3Nk/eQE47nsx2D/DGh1G9+LVP3BMBcvH5NI/4CxG2TJLzj8Fx8CVR5LFP+LMr+YAwcE/DudMoKnTxT+2os1xbhPMPxhOiG8XENE/oZUHK0bE1D94yShkIdnZP0eyBYxHrOA/ZS+ho9HU5T/Da2636tvmPxM0PZPD6OM//Vnit9e44D/rQFIbByTaP0cQnVTqCNQ/Cg3lwILmzj+zz8a+IkfIP3xXkKhIbMM/xLpttiTNvj+doG4ciJe3P58akgfgbrE/HsfNeHSGqT9CVUIzLJ+ZP2xfuqztnXG/qpoMBlhdl7+Ig9VvXlCUv1TzBBl0j2u/t1mCrY7zfT/2mtz3wVyRP4doxU6ws5o/PLGvvn/IoT958CykcPulP08lwSND8ak/ltk5MC2orT9OOZEm/4+wP/CVE8lkLLI/b5EocpCpsz+n3YKB9Ai1PxJtQ5y5TbY/0hS4dzh6tz98/QSojZC4P1a6WKTLk7k/DnOb09mHuj/EK8VlR3C7P8TJw2O7Urw/83Iampk2vT/PFzkT7CK+PwrjXeRUIb8/nDfK0U4TwD86z5Z7mnbAP6+XpghwesA/n4CaGJoEwD/uqu4uo5q+P6kCpOzjV70/vDWXuOG5vD9rA8Etada8P86Rrvymbr0/3r6aRSBFvj8rGHTGIEW/P+qkjPKrPcA/pqPzTPUFwT9aDhVfxCnCPyrv2/dFlcQ/\",\"dtype\":\"float64\",\"shape\":[75]},\"y\":{\"__ndarray__\":\"GhExyth1ND/Sv8nbtpRIP2vylNV0PVE/aTum7souWD/At0SJ8fVgPw3Iuahxymc/MSNhhJWvcD/bTfBN02d3P2zb5nxnaoA/CD5h5MAGhz8NmeH1TyaQP+zrCsc9p5Y/LbKd76fGnz/bLW5ISEmmPww9YvTcQq8/JV2OstnstT8Er5Y7M8G+P0c+r3jqkcU/5h99k6ZBzj88bCIzFzjVP4enV8oyxN0//yH99nXg5D8qOpLLf0jtP5kqGJXUifQ/c9cS8kHP/D+/DpwzojQEQIEmwoanVwxA4lgXt9HgE0BSSZ2AJuIbQAMJih9jjiNA5q4l5INuK0AwTKYKRj0zQNv5fmq8/DpAaCJseHrtQkB/+zpwzoxKQM3MzMzMeFJAZmZmZmZqWEAAAAAAAFxeQM3MzMzMJmJAmpmZmZkfZUBmZmZmZhhoQDMzMzMzEWtAAAAAAAAKbkBmZmZmZoFwQM3MzMzM/XFAMzMzMzN6c0CamZmZmfZ0QAAAAAAAc3ZAZmZmZmbvd0DNzMzMzGt5QDMzMzMz6HpAmpmZmZlkfEAAAAAAAOF9QGZmZmZmXX9AZmZmZuZsgECamZmZGSuBQM3MzMxM6YFAAAAAAICngkAzMzMzs2WDQGZmZmbmI4RAmpmZmRnihEDNzMzMTKCFQAAAAACAXoZAMzMzM7Mch0BmZmZm5tqHQJqZmZkZmYhAzczMzExXiUAAAAAAgBWKQDMzMzOz04pAZmZmZuaRi0CamZmZGVCMQM3MzMxMDo1AAAAAAIDMjUAzMzMzs4qOQGZmZmbmSI9A\",\"dtype\":\"float64\",\"shape\":[75]}}},\"id\":\"dd9cb731-ff34-47a5-9aed-edc2930d4f5c\",\"type\":\"ColumnDataSource\"},{\"attributes\":{\"callback\":null,\"column_names\":[\"x\",\"y\"],\"data\":{\"x\":{\"__ndarray__\":\"qj+IhdZa2j8G4PoLmBvaP+jLoBSMzto/ctr4uNta2z/MtUfz8LPbPxESDmIM0ds/tffrRgaW2z/gIbUe+PfaP9OsQ6DA3Nk/eQE47nsx2D/DGh1G9+LVP3BMBcvH5NI/4CxG2TJLzj8Fx8CVR5LFP+LMr+YAwcE/DudMoKnTxT+2os1xbhPMPxhOiG8XENE/oZUHK0bE1D94yShkIdnZP0eyBYxHrOA/ZS+ho9HU5T/Da2636tvmPxM0PZPD6OM//Vnit9e44D/rQFIbByTaP0cQnVTqCNQ/Cg3lwILmzj+zz8a+IkfIP3xXkKhIbMM/xLpttiTNvj+doG4ciJe3P58akgfgbrE/HsfNeHSGqT9CVUIzLJ+ZP2xfuqztnXG/qpoMBlhdl7+Ig9VvXlCUv1TzBBl0j2u/t1mCrY7zfT/2mtz3wVyRP4doxU6ws5o/PLGvvn/IoT958CykcPulP08lwSND8ak/ltk5MC2orT9OOZEm/4+wP/CVE8lkLLI/b5EocpCpsz+n3YKB9Ai1PxJtQ5y5TbY/0hS4dzh6tz98/QSojZC4P1a6WKTLk7k/DnOb09mHuj/EK8VlR3C7P8TJw2O7Urw/83Iampk2vT/PFzkT7CK+PwrjXeRUIb8/nDfK0U4TwD86z5Z7mnbAP6+XpghwesA/n4CaGJoEwD/uqu4uo5q+P6kCpOzjV70/vDWXuOG5vD9rA8Etada8P86Rrvymbr0/3r6aRSBFvj8rGHTGIEW/P+qkjPKrPcA/pqPzTPUFwT9aDhVfxCnCPyrv2/dFlcQ/\",\"dtype\":\"float64\",\"shape\":[75]},\"y\":{\"__ndarray__\":\"GhExyth1ND/Sv8nbtpRIP2vylNV0PVE/aTum7souWD/At0SJ8fVgPw3Iuahxymc/MSNhhJWvcD/bTfBN02d3P2zb5nxnaoA/CD5h5MAGhz8NmeH1TyaQP+zrCsc9p5Y/LbKd76fGnz/bLW5ISEmmPww9YvTcQq8/JV2OstnstT8Er5Y7M8G+P0c+r3jqkcU/5h99k6ZBzj88bCIzFzjVP4enV8oyxN0//yH99nXg5D8qOpLLf0jtP5kqGJXUifQ/c9cS8kHP/D+/DpwzojQEQIEmwoanVwxA4lgXt9HgE0BSSZ2AJuIbQAMJih9jjiNA5q4l5INuK0AwTKYKRj0zQNv5fmq8/DpAaCJseHrtQkB/+zpwzoxKQM3MzMzMeFJAZmZmZmZqWEAAAAAAAFxeQM3MzMzMJmJAmpmZmZkfZUBmZmZmZhhoQDMzMzMzEWtAAAAAAAAKbkBmZmZmZoFwQM3MzMzM/XFAMzMzMzN6c0CamZmZmfZ0QAAAAAAAc3ZAZmZmZmbvd0DNzMzMzGt5QDMzMzMz6HpAmpmZmZlkfEAAAAAAAOF9QGZmZmZmXX9AZmZmZuZsgECamZmZGSuBQM3MzMxM6YFAAAAAAICngkAzMzMzs2WDQGZmZmbmI4RAmpmZmRnihEDNzMzMTKCFQAAAAACAXoZAMzMzM7Mch0BmZmZm5tqHQJqZmZkZmYhAzczMzExXiUAAAAAAgBWKQDMzMzOz04pAZmZmZuaRi0CamZmZGVCMQM3MzMxMDo1AAAAAAIDMjUAzMzMzs4qOQGZmZmbmSI9A\",\"dtype\":\"float64\",\"shape\":[75]}}},\"id\":\"f9d36aa2-1bca-4c50-a8dc-4b742a74f565\",\"type\":\"ColumnDataSource\"},{\"attributes\":{},\"id\":\"a0eee55b-f289-43db-b359-b5b0d7bf5eba\",\"type\":\"LinearScale\"},{\"attributes\":{},\"id\":\"0e192c88-1ff2-45dc-b8f7-c957977845e4\",\"type\":\"BasicTickFormatter\"},{\"attributes\":{},\"id\":\"39f6c8e7-5764-4a6f-bacf-d4422a2a4537\",\"type\":\"BasicTickFormatter\"},{\"attributes\":{},\"id\":\"616a94b9-1d2f-4a6b-8e52-e757d327aa29\",\"type\":\"ResetTool\"},{\"attributes\":{\"fill_alpha\":{\"value\":0.7},\"fill_color\":{\"value\":\"#4daf4a\"},\"line_alpha\":{\"value\":0.7},\"line_color\":{\"value\":\"#4daf4a\"},\"x\":{\"field\":\"x\"},\"y\":{\"field\":\"y\"}},\"id\":\"570cfbe1-7cdf-49f4-bcb0-4b945abf4e68\",\"type\":\"Circle\"},{\"attributes\":{\"axis_label\":\"cooling rate [K/day]\",\"formatter\":{\"id\":\"0e192c88-1ff2-45dc-b8f7-c957977845e4\",\"type\":\"BasicTickFormatter\"},\"plot\":{\"id\":\"9f657397-fb7b-4fb4-ab0b-b18dc27fd4d3\",\"subtype\":\"Figure\",\"type\":\"Plot\"},\"ticker\":{\"id\":\"5d72de1b-48cf-4445-9602-23ffdb6a8339\",\"type\":\"BasicTicker\"}},\"id\":\"1536d705-5b53-4c52-b24a-20336a0ce6ee\",\"type\":\"LinearAxis\"},{\"attributes\":{\"callback\":null,\"column_names\":[\"x\",\"y\"],\"data\":{\"x\":{\"__ndarray__\":\"6er/niG61D9LnrlKxOHUPxa5zTrDkdU/q030nIhJ1j/stDLmOuPWPznPkpsVW9c/T2m/Hc6o1z+LFBbycLvXPzpoAoR3f9c/rg3lVIPf1j/j25ggssLVP/eP/nkxBtQ/N7hivaOG0T9bxV5ueKHMP4MIbxlPTco/ZBvVNKq+zj+8+b+9LAfSPxGD2rwokdM/4lFwzXXK1D8XxNeFBVHXP/KQxGjVON0//myIv4yY4z+VLYngNSjlP3lS0Vkg+eI/odku+WVH4D9LAL9Q2GnaP8643dlXmNU/9PqVDMTs0T8tH/NizXTNP5fCX6qobsc/u0P/N9LswT/S0/Rb4HW6Pw+9KsNH9rI/8RyGe2Hlqz/BMOoVPI6eP1gJARJhCVS/Dlx5F5/Alr/3PuqnW8mSv/v3EDlXskk/JMN0/xxPij+75VR3OcOXPz8XfZlmdqA/CBZlI1hkpD9cVkl19sinPzZn6Mf1yao/H9PAEc+HrT9dtfb8CgywP48oNg8zSLE/dfg7mO17sj+bpaSriKqzPzjKH6hd1rQ/Ole6BOP/tT+Su7836yW3Px/1FItaRLg/bCestB1duT9/cllKKnC6P82OI9c6frs/jGzwuUeLvD9+eV1Ac569P/WJHAaQvb4/pR+ZATvhvz/VsQsT7mLAPxXwnuIbdcA/ZOkPJLEQwD+U7f7ly9e+P+hlZ9Gwtr0/ljqQwUEwvT/5ixPcYVe9P8D51mos8b0/1pSorajBvj/5zV/o1ra/P6RyosoCbsA/MUBa/hsqwT+DZQ8C8jzCP6TxxFvsisQ/\",\"dtype\":\"float64\",\"shape\":[75]},\"y\":{\"__ndarray__\":\"GhExyth1ND/Sv8nbtpRIP2vylNV0PVE/aTum7souWD/At0SJ8fVgPw3Iuahxymc/MSNhhJWvcD/bTfBN02d3P2zb5nxnaoA/CD5h5MAGhz8NmeH1TyaQP+zrCsc9p5Y/LbKd76fGnz/bLW5ISEmmPww9YvTcQq8/JV2OstnstT8Er5Y7M8G+P0c+r3jqkcU/5h99k6ZBzj88bCIzFzjVP4enV8oyxN0//yH99nXg5D8qOpLLf0jtP5kqGJXUifQ/c9cS8kHP/D+/DpwzojQEQIEmwoanVwxA4lgXt9HgE0BSSZ2AJuIbQAMJih9jjiNA5q4l5INuK0AwTKYKRj0zQNv5fmq8/DpAaCJseHrtQkB/+zpwzoxKQM3MzMzMeFJAZmZmZmZqWEAAAAAAAFxeQM3MzMzMJmJAmpmZmZkfZUBmZmZmZhhoQDMzMzMzEWtAAAAAAAAKbkBmZmZmZoFwQM3MzMzM/XFAMzMzMzN6c0CamZmZmfZ0QAAAAAAAc3ZAZmZmZmbvd0DNzMzMzGt5QDMzMzMz6HpAmpmZmZlkfEAAAAAAAOF9QGZmZmZmXX9AZmZmZuZsgECamZmZGSuBQM3MzMxM6YFAAAAAAICngkAzMzMzs2WDQGZmZmbmI4RAmpmZmRnihEDNzMzMTKCFQAAAAACAXoZAMzMzM7Mch0BmZmZm5tqHQJqZmZkZmYhAzczMzExXiUAAAAAAgBWKQDMzMzOz04pAZmZmZuaRi0CamZmZGVCMQM3MzMxMDo1AAAAAAIDMjUAzMzMzs4qOQGZmZmbmSI9A\",\"dtype\":\"float64\",\"shape\":[75]}}},\"id\":\"fa249321-6a2b-4384-9eea-aa1bd22a313a\",\"type\":\"ColumnDataSource\"},{\"attributes\":{\"below\":[{\"id\":\"1536d705-5b53-4c52-b24a-20336a0ce6ee\",\"type\":\"LinearAxis\"}],\"left\":[{\"id\":\"00fa0cc2-b9d3-4e19-a295-aabe1e87d36b\",\"type\":\"LinearAxis\"}],\"plot_height\":500,\"plot_width\":400,\"renderers\":[{\"id\":\"1536d705-5b53-4c52-b24a-20336a0ce6ee\",\"type\":\"LinearAxis\"},{\"id\":\"93ff3e13-a954-40b2-b946-b73dbc78be3e\",\"type\":\"Grid\"},{\"id\":\"00fa0cc2-b9d3-4e19-a295-aabe1e87d36b\",\"type\":\"LinearAxis\"},{\"id\":\"6d455a86-b8b2-47a2-bed5-d62e63332658\",\"type\":\"Grid\"},{\"id\":\"d951a1b6-687a-4f28-99ac-6d44c44d51fa\",\"type\":\"BoxAnnotation\"},{\"id\":\"dc730ec1-9997-4c33-98bf-18e939878349\",\"type\":\"GlyphRenderer\"},{\"id\":\"35b9cd5f-cbca-4006-b037-c0fdb14dda76\",\"type\":\"GlyphRenderer\"},{\"id\":\"ad2ff9a1-d5e9-435b-8a6c-ae378921e54b\",\"type\":\"GlyphRenderer\"},{\"id\":\"bba246c8-b32c-4f74-b57f-0a594154a339\",\"type\":\"GlyphRenderer\"},{\"id\":\"b9e4bf46-415f-409b-9e36-3819a4366e0a\",\"type\":\"GlyphRenderer\"}],\"title\":{\"id\":\"39206002-1341-4637-a065-641bdb3df67b\",\"type\":\"Title\"},\"toolbar\":{\"id\":\"02e7b2b9-e39a-4285-9392-196f9b6b8b5d\",\"type\":\"Toolbar\"},\"toolbar_location\":null,\"x_range\":{\"id\":\"8b846748-4900-4ef5-af43-1d49c9ccc141\",\"type\":\"Range1d\"},\"x_scale\":{\"id\":\"76e9d6ac-9b4c-4652-acf4-bb9ad1be7350\",\"type\":\"LinearScale\"},\"y_range\":{\"id\":\"30f0130f-da90-485c-9ff9-057e8b8d2930\",\"type\":\"Range1d\"},\"y_scale\":{\"id\":\"a0eee55b-f289-43db-b359-b5b0d7bf5eba\",\"type\":\"LinearScale\"}},\"id\":\"9f657397-fb7b-4fb4-ab0b-b18dc27fd4d3\",\"subtype\":\"Figure\",\"type\":\"Plot\"},{\"attributes\":{\"fill_alpha\":{\"value\":0.1},\"fill_color\":{\"value\":\"#1f77b4\"},\"line_alpha\":{\"value\":0.1},\"line_color\":{\"value\":\"#1f77b4\"},\"x\":{\"field\":\"x\"},\"y\":{\"field\":\"y\"}},\"id\":\"02d8230b-0697-4484-8b0c-e234588eb237\",\"type\":\"Circle\"},{\"attributes\":{\"line_alpha\":0.1,\"line_color\":\"#1f77b4\",\"line_width\":1.5,\"x\":{\"field\":\"x\"},\"y\":{\"field\":\"y\"}},\"id\":\"7088532f-9f1d-44be-8ce3-9428a436f63c\",\"type\":\"Line\"},{\"attributes\":{\"ticker\":null},\"id\":\"59f5a974-21ca-4ffe-b6f4-e7e13bc5b619\",\"type\":\"LogTickFormatter\"},{\"attributes\":{\"line_alpha\":0.6,\"line_color\":\"#e41a1c\",\"line_dash\":[6],\"line_width\":5,\"x\":{\"field\":\"x\"},\"y\":{\"field\":\"y\"}},\"id\":\"64921e4e-c436-4e17-a959-aa70746c7211\",\"type\":\"Line\"},{\"attributes\":{\"callback\":null,\"column_names\":[\"x\",\"y\"],\"data\":{\"x\":{\"__ndarray__\":\"6er/niG61D9LnrlKxOHUPxa5zTrDkdU/q030nIhJ1j/stDLmOuPWPznPkpsVW9c/T2m/Hc6o1z+LFBbycLvXPzpoAoR3f9c/rg3lVIPf1j/j25ggssLVP/eP/nkxBtQ/N7hivaOG0T9bxV5ueKHMP4MIbxlPTco/ZBvVNKq+zj+8+b+9LAfSPxGD2rwokdM/4lFwzXXK1D8XxNeFBVHXP/KQxGjVON0//myIv4yY4z+VLYngNSjlP3lS0Vkg+eI/odku+WVH4D9LAL9Q2GnaP8643dlXmNU/9PqVDMTs0T8tH/NizXTNP5fCX6qobsc/u0P/N9LswT/S0/Rb4HW6Pw+9KsNH9rI/8RyGe2Hlqz/BMOoVPI6eP1gJARJhCVS/Dlx5F5/Alr/3PuqnW8mSv/v3EDlXskk/JMN0/xxPij+75VR3OcOXPz8XfZlmdqA/CBZlI1hkpD9cVkl19sinPzZn6Mf1yao/H9PAEc+HrT9dtfb8CgywP48oNg8zSLE/dfg7mO17sj+bpaSriKqzPzjKH6hd1rQ/Ole6BOP/tT+Su7836yW3Px/1FItaRLg/bCestB1duT9/cllKKnC6P82OI9c6frs/jGzwuUeLvD9+eV1Ac569P/WJHAaQvb4/pR+ZATvhvz/VsQsT7mLAPxXwnuIbdcA/ZOkPJLEQwD+U7f7ly9e+P+hlZ9Gwtr0/ljqQwUEwvT/5ixPcYVe9P8D51mos8b0/1pSorajBvj/5zV/o1ra/P6RyosoCbsA/MUBa/hsqwT+DZQ8C8jzCP6TxxFvsisQ/\",\"dtype\":\"float64\",\"shape\":[75]},\"y\":{\"__ndarray__\":\"GhExyth1ND/Sv8nbtpRIP2vylNV0PVE/aTum7souWD/At0SJ8fVgPw3Iuahxymc/MSNhhJWvcD/bTfBN02d3P2zb5nxnaoA/CD5h5MAGhz8NmeH1TyaQP+zrCsc9p5Y/LbKd76fGnz/bLW5ISEmmPww9YvTcQq8/JV2OstnstT8Er5Y7M8G+P0c+r3jqkcU/5h99k6ZBzj88bCIzFzjVP4enV8oyxN0//yH99nXg5D8qOpLLf0jtP5kqGJXUifQ/c9cS8kHP/D+/DpwzojQEQIEmwoanVwxA4lgXt9HgE0BSSZ2AJuIbQAMJih9jjiNA5q4l5INuK0AwTKYKRj0zQNv5fmq8/DpAaCJseHrtQkB/+zpwzoxKQM3MzMzMeFJAZmZmZmZqWEAAAAAAAFxeQM3MzMzMJmJAmpmZmZkfZUBmZmZmZhhoQDMzMzMzEWtAAAAAAAAKbkBmZmZmZoFwQM3MzMzM/XFAMzMzMzN6c0CamZmZmfZ0QAAAAAAAc3ZAZmZmZmbvd0DNzMzMzGt5QDMzMzMz6HpAmpmZmZlkfEAAAAAAAOF9QGZmZmZmXX9AZmZmZuZsgECamZmZGSuBQM3MzMxM6YFAAAAAAICngkAzMzMzs2WDQGZmZmbmI4RAmpmZmRnihEDNzMzMTKCFQAAAAACAXoZAMzMzM7Mch0BmZmZm5tqHQJqZmZkZmYhAzczMzExXiUAAAAAAgBWKQDMzMzOz04pAZmZmZuaRi0CamZmZGVCMQM3MzMxMDo1AAAAAAIDMjUAzMzMzs4qOQGZmZmbmSI9A\",\"dtype\":\"float64\",\"shape\":[75]}}},\"id\":\"ca8bd9f8-1eed-496b-96e2-b5577a2b271b\",\"type\":\"ColumnDataSource\"},{\"attributes\":{\"source\":{\"id\":\"dd9cb731-ff34-47a5-9aed-edc2930d4f5c\",\"type\":\"ColumnDataSource\"}},\"id\":\"64cd7992-b26b-4250-8dcc-ef993d9eb550\",\"type\":\"CDSView\"},{\"attributes\":{\"toolbar\":{\"id\":\"1fe491c2-7e52-47b4-93cd-ed304a6297fd\",\"type\":\"ProxyToolbar\"},\"toolbar_location\":\"above\"},\"id\":\"cd2f493b-6590-4dad-96c0-daed4640d0b6\",\"type\":\"ToolbarBox\"},{\"attributes\":{\"data_source\":{\"id\":\"dd9cb731-ff34-47a5-9aed-edc2930d4f5c\",\"type\":\"ColumnDataSource\"},\"glyph\":{\"id\":\"570cfbe1-7cdf-49f4-bcb0-4b945abf4e68\",\"type\":\"Circle\"},\"hover_glyph\":null,\"muted_glyph\":null,\"nonselection_glyph\":{\"id\":\"02d8230b-0697-4484-8b0c-e234588eb237\",\"type\":\"Circle\"},\"selection_glyph\":null,\"view\":{\"id\":\"64cd7992-b26b-4250-8dcc-ef993d9eb550\",\"type\":\"CDSView\"}},\"id\":\"7cfd7a9b-7a8a-4ce0-8450-f09d0546ea43\",\"type\":\"GlyphRenderer\"},{\"attributes\":{\"callback\":null,\"column_names\":[\"x\",\"y\"],\"data\":{\"x\":{\"__ndarray__\":\"qj+IhdZa2j8G4PoLmBvaP+jLoBSMzto/ctr4uNta2z/MtUfz8LPbPxESDmIM0ds/tffrRgaW2z/gIbUe+PfaP9OsQ6DA3Nk/eQE47nsx2D/DGh1G9+LVP3BMBcvH5NI/4CxG2TJLzj8Fx8CVR5LFP+LMr+YAwcE/DudMoKnTxT+2os1xbhPMPxhOiG8XENE/oZUHK0bE1D94yShkIdnZP0eyBYxHrOA/ZS+ho9HU5T/Da2636tvmPxM0PZPD6OM//Vnit9e44D/rQFIbByTaP0cQnVTqCNQ/Cg3lwILmzj+zz8a+IkfIP3xXkKhIbMM/xLpttiTNvj+doG4ciJe3P58akgfgbrE/HsfNeHSGqT9CVUIzLJ+ZP2xfuqztnXG/qpoMBlhdl7+Ig9VvXlCUv1TzBBl0j2u/t1mCrY7zfT/2mtz3wVyRP4doxU6ws5o/PLGvvn/IoT958CykcPulP08lwSND8ak/ltk5MC2orT9OOZEm/4+wP/CVE8lkLLI/b5EocpCpsz+n3YKB9Ai1PxJtQ5y5TbY/0hS4dzh6tz98/QSojZC4P1a6WKTLk7k/DnOb09mHuj/EK8VlR3C7P8TJw2O7Urw/83Iampk2vT/PFzkT7CK+PwrjXeRUIb8/nDfK0U4TwD86z5Z7mnbAP6+XpghwesA/n4CaGJoEwD/uqu4uo5q+P6kCpOzjV70/vDWXuOG5vD9rA8Etada8P86Rrvymbr0/3r6aRSBFvj8rGHTGIEW/P+qkjPKrPcA/pqPzTPUFwT9aDhVfxCnCPyrv2/dFlcQ/\",\"dtype\":\"float64\",\"shape\":[75]},\"y\":{\"__ndarray__\":\"GhExyth1ND/Sv8nbtpRIP2vylNV0PVE/aTum7souWD/At0SJ8fVgPw3Iuahxymc/MSNhhJWvcD/bTfBN02d3P2zb5nxnaoA/CD5h5MAGhz8NmeH1TyaQP+zrCsc9p5Y/LbKd76fGnz/bLW5ISEmmPww9YvTcQq8/JV2OstnstT8Er5Y7M8G+P0c+r3jqkcU/5h99k6ZBzj88bCIzFzjVP4enV8oyxN0//yH99nXg5D8qOpLLf0jtP5kqGJXUifQ/c9cS8kHP/D+/DpwzojQEQIEmwoanVwxA4lgXt9HgE0BSSZ2AJuIbQAMJih9jjiNA5q4l5INuK0AwTKYKRj0zQNv5fmq8/DpAaCJseHrtQkB/+zpwzoxKQM3MzMzMeFJAZmZmZmZqWEAAAAAAAFxeQM3MzMzMJmJAmpmZmZkfZUBmZmZmZhhoQDMzMzMzEWtAAAAAAAAKbkBmZmZmZoFwQM3MzMzM/XFAMzMzMzN6c0CamZmZmfZ0QAAAAAAAc3ZAZmZmZmbvd0DNzMzMzGt5QDMzMzMz6HpAmpmZmZlkfEAAAAAAAOF9QGZmZmZmXX9AZmZmZuZsgECamZmZGSuBQM3MzMxM6YFAAAAAAICngkAzMzMzs2WDQGZmZmbmI4RAmpmZmRnihEDNzMzMTKCFQAAAAACAXoZAMzMzM7Mch0BmZmZm5tqHQJqZmZkZmYhAzczMzExXiUAAAAAAgBWKQDMzMzOz04pAZmZmZuaRi0CamZmZGVCMQM3MzMxMDo1AAAAAAIDMjUAzMzMzs4qOQGZmZmbmSI9A\",\"dtype\":\"float64\",\"shape\":[75]}}},\"id\":\"5af33223-26f5-41c9-9fbe-1547b17ecfdc\",\"type\":\"ColumnDataSource\"},{\"attributes\":{\"line_color\":\"#4daf4a\",\"line_width\":1.5,\"x\":{\"field\":\"x\"},\"y\":{\"field\":\"y\"}},\"id\":\"5282ab53-4817-4d66-9ce0-08908a3faf77\",\"type\":\"Line\"},{\"attributes\":{\"callback\":null,\"end\":0.7217169433599999,\"start\":-0.030188639360000002},\"id\":\"058c95b5-7da1-463b-bab6-9f836d397b3b\",\"type\":\"Range1d\"},{\"attributes\":{\"active_drag\":\"auto\",\"active_inspect\":\"auto\",\"active_scroll\":\"auto\",\"active_tap\":\"auto\",\"tools\":[{\"id\":\"6131cba2-287f-4270-b6c2-6eaca1e3d1a6\",\"type\":\"PanTool\"},{\"id\":\"8f1ff0c4-d7f4-4ba2-bd74-c4cbfba9c67c\",\"type\":\"WheelZoomTool\"},{\"id\":\"98951a9d-aa5e-4f69-b0b1-0ddbd4335118\",\"type\":\"BoxZoomTool\"},{\"id\":\"38f2e0f2-5b09-4107-9fc3-6a1ea79b8a7c\",\"type\":\"SaveTool\"},{\"id\":\"6e9b4798-a413-4755-a74a-090066cb4197\",\"type\":\"ResetTool\"},{\"id\":\"41d5e24a-2241-481e-8a8b-0792519668c4\",\"type\":\"HelpTool\"}]},\"id\":\"556c21b9-ccf3-421a-bc6f-859c39d92b80\",\"type\":\"Toolbar\"},{\"attributes\":{\"data_source\":{\"id\":\"f9d36aa2-1bca-4c50-a8dc-4b742a74f565\",\"type\":\"ColumnDataSource\"},\"glyph\":{\"id\":\"5282ab53-4817-4d66-9ce0-08908a3faf77\",\"type\":\"Line\"},\"hover_glyph\":null,\"muted_glyph\":null,\"nonselection_glyph\":{\"id\":\"db2080ca-a8dd-4bd6-a964-19b9accc7781\",\"type\":\"Line\"},\"selection_glyph\":null,\"view\":{\"id\":\"3b4f9269-19e3-47b5-8e46-6b4611999361\",\"type\":\"CDSView\"}},\"id\":\"8d48f75b-588f-4a7e-b84d-053cb89df4ac\",\"type\":\"GlyphRenderer\"},{\"attributes\":{\"plot\":null,\"text\":\"Linear pressure scale\"},\"id\":\"39206002-1341-4637-a065-641bdb3df67b\",\"type\":\"Title\"},{\"attributes\":{},\"id\":\"92eb21f2-d596-4e3b-9b05-35fd73880644\",\"type\":\"LinearScale\"},{\"attributes\":{\"line_alpha\":0.1,\"line_color\":\"#1f77b4\",\"line_width\":3,\"x\":{\"field\":\"x\"},\"y\":{\"field\":\"y\"}},\"id\":\"f7ef0192-c7ca-4d92-ac0b-37cab35c8bf1\",\"type\":\"Line\"},{\"attributes\":{\"source\":{\"id\":\"cf8ea51e-33f7-4d26-b79d-b1a1180874be\",\"type\":\"ColumnDataSource\"}},\"id\":\"0e019eb5-33ce-4e83-b2dc-eb33a816b6f7\",\"type\":\"CDSView\"},{\"attributes\":{\"source\":{\"id\":\"f9d36aa2-1bca-4c50-a8dc-4b742a74f565\",\"type\":\"ColumnDataSource\"}},\"id\":\"3b4f9269-19e3-47b5-8e46-6b4611999361\",\"type\":\"CDSView\"},{\"attributes\":{\"line_alpha\":0.1,\"line_color\":\"#1f77b4\",\"line_width\":1.5,\"x\":{\"field\":\"x\"},\"y\":{\"field\":\"y\"}},\"id\":\"db2080ca-a8dd-4bd6-a964-19b9accc7781\",\"type\":\"Line\"},{\"attributes\":{},\"id\":\"5d72de1b-48cf-4445-9602-23ffdb6a8339\",\"type\":\"BasicTicker\"},{\"attributes\":{\"fill_alpha\":{\"value\":0.7},\"fill_color\":{\"value\":\"#984ea3\"},\"line_alpha\":{\"value\":0.7},\"line_color\":{\"value\":\"#984ea3\"},\"x\":{\"field\":\"x\"},\"y\":{\"field\":\"y\"}},\"id\":\"7f33a98c-c407-4086-bf3c-2a8ae2262fa6\",\"type\":\"Square\"},{\"attributes\":{\"num_minor_ticks\":10},\"id\":\"f5269d73-c853-4bbd-94c0-bf69874be66c\",\"type\":\"LogTicker\"},{\"attributes\":{\"line_alpha\":0.6,\"line_color\":\"#984ea3\",\"line_width\":3,\"x\":{\"field\":\"x\"},\"y\":{\"field\":\"y\"}},\"id\":\"63a2b3b8-e272-4ea7-80b9-45d95829d94b\",\"type\":\"Line\"},{\"attributes\":{\"children\":[{\"id\":\"95e2f1b1-805c-4b5b-b33a-8860dedad760\",\"type\":\"Row\"}]},\"id\":\"3a6cd158-16e2-4172-8501-f17ce86c7272\",\"type\":\"Column\"},{\"attributes\":{\"dimension\":1,\"plot\":{\"id\":\"9f657397-fb7b-4fb4-ab0b-b18dc27fd4d3\",\"subtype\":\"Figure\",\"type\":\"Plot\"},\"ticker\":{\"id\":\"95f96de3-b715-4d56-bf9e-9c73101bffab\",\"type\":\"BasicTicker\"}},\"id\":\"6d455a86-b8b2-47a2-bed5-d62e63332658\",\"type\":\"Grid\"},{\"attributes\":{\"source\":{\"id\":\"fa249321-6a2b-4384-9eea-aa1bd22a313a\",\"type\":\"ColumnDataSource\"}},\"id\":\"c5fe17d8-a5ea-4462-8cb5-b38c90119dca\",\"type\":\"CDSView\"},{\"attributes\":{\"fill_alpha\":{\"value\":0.1},\"fill_color\":{\"value\":\"#1f77b4\"},\"line_alpha\":{\"value\":0.1},\"line_color\":{\"value\":\"#1f77b4\"},\"x\":{\"field\":\"x\"},\"y\":{\"field\":\"y\"}},\"id\":\"a13f7daa-2810-4a00-840d-0a60d5673233\",\"type\":\"Square\"},{\"attributes\":{\"children\":[{\"id\":\"9f657397-fb7b-4fb4-ab0b-b18dc27fd4d3\",\"subtype\":\"Figure\",\"type\":\"Plot\"},{\"id\":\"b0aa4fb0-26e1-4a53-bcee-ed1558d30f94\",\"subtype\":\"Figure\",\"type\":\"Plot\"}]},\"id\":\"95e2f1b1-805c-4b5b-b33a-8860dedad760\",\"type\":\"Row\"},{\"attributes\":{\"data_source\":{\"id\":\"fa249321-6a2b-4384-9eea-aa1bd22a313a\",\"type\":\"ColumnDataSource\"},\"glyph\":{\"id\":\"7f33a98c-c407-4086-bf3c-2a8ae2262fa6\",\"type\":\"Square\"},\"hover_glyph\":null,\"muted_glyph\":null,\"nonselection_glyph\":{\"id\":\"a13f7daa-2810-4a00-840d-0a60d5673233\",\"type\":\"Square\"},\"selection_glyph\":null,\"view\":{\"id\":\"c5fe17d8-a5ea-4462-8cb5-b38c90119dca\",\"type\":\"CDSView\"}},\"id\":\"0f88c24c-3ed9-4b0d-b21e-708867900362\",\"type\":\"GlyphRenderer\"},{\"attributes\":{\"source\":{\"id\":\"09382616-67ef-48cc-8598-2afcb5d5fa70\",\"type\":\"ColumnDataSource\"}},\"id\":\"4ad660e9-98ae-4267-835e-71e81dfea543\",\"type\":\"CDSView\"},{\"attributes\":{\"callback\":null,\"column_names\":[\"x\",\"y\"],\"data\":{\"x\":{\"__ndarray__\":\"qj+IhdZa2j8G4PoLmBvaP+jLoBSMzto/ctr4uNta2z/MtUfz8LPbPxESDmIM0ds/tffrRgaW2z/gIbUe+PfaP9OsQ6DA3Nk/eQE47nsx2D/DGh1G9+LVP3BMBcvH5NI/4CxG2TJLzj8Fx8CVR5LFP+LMr+YAwcE/DudMoKnTxT+2os1xbhPMPxhOiG8XENE/oZUHK0bE1D94yShkIdnZP0eyBYxHrOA/ZS+ho9HU5T/Da2636tvmPxM0PZPD6OM//Vnit9e44D/rQFIbByTaP0cQnVTqCNQ/Cg3lwILmzj+zz8a+IkfIP3xXkKhIbMM/xLpttiTNvj+doG4ciJe3P58akgfgbrE/HsfNeHSGqT9CVUIzLJ+ZP2xfuqztnXG/qpoMBlhdl7+Ig9VvXlCUv1TzBBl0j2u/t1mCrY7zfT/2mtz3wVyRP4doxU6ws5o/PLGvvn/IoT958CykcPulP08lwSND8ak/ltk5MC2orT9OOZEm/4+wP/CVE8lkLLI/b5EocpCpsz+n3YKB9Ai1PxJtQ5y5TbY/0hS4dzh6tz98/QSojZC4P1a6WKTLk7k/DnOb09mHuj/EK8VlR3C7P8TJw2O7Urw/83Iampk2vT/PFzkT7CK+PwrjXeRUIb8/nDfK0U4TwD86z5Z7mnbAP6+XpghwesA/n4CaGJoEwD/uqu4uo5q+P6kCpOzjV70/vDWXuOG5vD9rA8Etada8P86Rrvymbr0/3r6aRSBFvj8rGHTGIEW/P+qkjPKrPcA/pqPzTPUFwT9aDhVfxCnCPyrv2/dFlcQ/\",\"dtype\":\"float64\",\"shape\":[75]},\"y\":{\"__ndarray__\":\"GhExyth1ND/Sv8nbtpRIP2vylNV0PVE/aTum7souWD/At0SJ8fVgPw3Iuahxymc/MSNhhJWvcD/bTfBN02d3P2zb5nxnaoA/CD5h5MAGhz8NmeH1TyaQP+zrCsc9p5Y/LbKd76fGnz/bLW5ISEmmPww9YvTcQq8/JV2OstnstT8Er5Y7M8G+P0c+r3jqkcU/5h99k6ZBzj88bCIzFzjVP4enV8oyxN0//yH99nXg5D8qOpLLf0jtP5kqGJXUifQ/c9cS8kHP/D+/DpwzojQEQIEmwoanVwxA4lgXt9HgE0BSSZ2AJuIbQAMJih9jjiNA5q4l5INuK0AwTKYKRj0zQNv5fmq8/DpAaCJseHrtQkB/+zpwzoxKQM3MzMzMeFJAZmZmZmZqWEAAAAAAAFxeQM3MzMzMJmJAmpmZmZkfZUBmZmZmZhhoQDMzMzMzEWtAAAAAAAAKbkBmZmZmZoFwQM3MzMzM/XFAMzMzMzN6c0CamZmZmfZ0QAAAAAAAc3ZAZmZmZmbvd0DNzMzMzGt5QDMzMzMz6HpAmpmZmZlkfEAAAAAAAOF9QGZmZmZmXX9AZmZmZuZsgECamZmZGSuBQM3MzMxM6YFAAAAAAICngkAzMzMzs2WDQGZmZmbmI4RAmpmZmRnihEDNzMzMTKCFQAAAAACAXoZAMzMzM7Mch0BmZmZm5tqHQJqZmZkZmYhAzczMzExXiUAAAAAAgBWKQDMzMzOz04pAZmZmZuaRi0CamZmZGVCMQM3MzMxMDo1AAAAAAIDMjUAzMzMzs4qOQGZmZmbmSI9A\",\"dtype\":\"float64\",\"shape\":[75]}}},\"id\":\"09382616-67ef-48cc-8598-2afcb5d5fa70\",\"type\":\"ColumnDataSource\"},{\"attributes\":{},\"id\":\"76e9d6ac-9b4c-4652-acf4-bb9ad1be7350\",\"type\":\"LinearScale\"},{\"attributes\":{\"items\":[{\"id\":\"d9ce8fc8-2582-4873-b7b3-1c279e682ab8\",\"type\":\"LegendItem\"},{\"id\":\"ea1ef53e-9ce8-4d2d-b8db-138723d2c6be\",\"type\":\"LegendItem\"},{\"id\":\"3893dc15-f1cd-43ce-98f6-b0d3db96d415\",\"type\":\"LegendItem\"}],\"label_text_font_size\":{\"value\":\"8pt\"},\"location\":[10,-30],\"plot\":{\"id\":\"b0aa4fb0-26e1-4a53-bcee-ed1558d30f94\",\"subtype\":\"Figure\",\"type\":\"Plot\"}},\"id\":\"41367bda-2d9c-40c7-8cf7-68759ca7d1f8\",\"type\":\"Legend\"},{\"attributes\":{\"axis_label\":\"cooling rate [K/day]\",\"formatter\":{\"id\":\"39f6c8e7-5764-4a6f-bacf-d4422a2a4537\",\"type\":\"BasicTickFormatter\"},\"plot\":{\"id\":\"b0aa4fb0-26e1-4a53-bcee-ed1558d30f94\",\"subtype\":\"Figure\",\"type\":\"Plot\"},\"ticker\":{\"id\":\"6d977c19-5b83-4d1d-abcc-daae3314307c\",\"type\":\"BasicTicker\"}},\"id\":\"9bb2ac47-54b3-48b7-861d-b0e0b75db5a2\",\"type\":\"LinearAxis\"},{\"attributes\":{\"callback\":null,\"column_names\":[\"x\",\"y\"],\"data\":{\"x\":{\"__ndarray__\":\"6er/niG61D9LnrlKxOHUPxa5zTrDkdU/q030nIhJ1j/stDLmOuPWPznPkpsVW9c/T2m/Hc6o1z+LFBbycLvXPzpoAoR3f9c/rg3lVIPf1j/j25ggssLVP/eP/nkxBtQ/N7hivaOG0T9bxV5ueKHMP4MIbxlPTco/ZBvVNKq+zj+8+b+9LAfSPxGD2rwokdM/4lFwzXXK1D8XxNeFBVHXP/KQxGjVON0//myIv4yY4z+VLYngNSjlP3lS0Vkg+eI/odku+WVH4D9LAL9Q2GnaP8643dlXmNU/9PqVDMTs0T8tH/NizXTNP5fCX6qobsc/u0P/N9LswT/S0/Rb4HW6Pw+9KsNH9rI/8RyGe2Hlqz/BMOoVPI6eP1gJARJhCVS/Dlx5F5/Alr/3PuqnW8mSv/v3EDlXskk/JMN0/xxPij+75VR3OcOXPz8XfZlmdqA/CBZlI1hkpD9cVkl19sinPzZn6Mf1yao/H9PAEc+HrT9dtfb8CgywP48oNg8zSLE/dfg7mO17sj+bpaSriKqzPzjKH6hd1rQ/Ole6BOP/tT+Su7836yW3Px/1FItaRLg/bCestB1duT9/cllKKnC6P82OI9c6frs/jGzwuUeLvD9+eV1Ac569P/WJHAaQvb4/pR+ZATvhvz/VsQsT7mLAPxXwnuIbdcA/ZOkPJLEQwD+U7f7ly9e+P+hlZ9Gwtr0/ljqQwUEwvT/5ixPcYVe9P8D51mos8b0/1pSorajBvj/5zV/o1ra/P6RyosoCbsA/MUBa/hsqwT+DZQ8C8jzCP6TxxFvsisQ/\",\"dtype\":\"float64\",\"shape\":[75]},\"y\":{\"__ndarray__\":\"GhExyth1ND/Sv8nbtpRIP2vylNV0PVE/aTum7souWD/At0SJ8fVgPw3Iuahxymc/MSNhhJWvcD/bTfBN02d3P2zb5nxnaoA/CD5h5MAGhz8NmeH1TyaQP+zrCsc9p5Y/LbKd76fGnz/bLW5ISEmmPww9YvTcQq8/JV2OstnstT8Er5Y7M8G+P0c+r3jqkcU/5h99k6ZBzj88bCIzFzjVP4enV8oyxN0//yH99nXg5D8qOpLLf0jtP5kqGJXUifQ/c9cS8kHP/D+/DpwzojQEQIEmwoanVwxA4lgXt9HgE0BSSZ2AJuIbQAMJih9jjiNA5q4l5INuK0AwTKYKRj0zQNv5fmq8/DpAaCJseHrtQkB/+zpwzoxKQM3MzMzMeFJAZmZmZmZqWEAAAAAAAFxeQM3MzMzMJmJAmpmZmZkfZUBmZmZmZhhoQDMzMzMzEWtAAAAAAAAKbkBmZmZmZoFwQM3MzMzM/XFAMzMzMzN6c0CamZmZmfZ0QAAAAAAAc3ZAZmZmZmbvd0DNzMzMzGt5QDMzMzMz6HpAmpmZmZlkfEAAAAAAAOF9QGZmZmZmXX9AZmZmZuZsgECamZmZGSuBQM3MzMxM6YFAAAAAAICngkAzMzMzs2WDQGZmZmbmI4RAmpmZmRnihEDNzMzMTKCFQAAAAACAXoZAMzMzM7Mch0BmZmZm5tqHQJqZmZkZmYhAzczMzExXiUAAAAAAgBWKQDMzMzOz04pAZmZmZuaRi0CamZmZGVCMQM3MzMxMDo1AAAAAAIDMjUAzMzMzs4qOQGZmZmbmSI9A\",\"dtype\":\"float64\",\"shape\":[75]}}},\"id\":\"cf8ea51e-33f7-4d26-b79d-b1a1180874be\",\"type\":\"ColumnDataSource\"},{\"attributes\":{\"plot\":{\"id\":\"b0aa4fb0-26e1-4a53-bcee-ed1558d30f94\",\"subtype\":\"Figure\",\"type\":\"Plot\"},\"ticker\":{\"id\":\"6d977c19-5b83-4d1d-abcc-daae3314307c\",\"type\":\"BasicTicker\"}},\"id\":\"a6269be6-e624-49c2-ab3d-ea4b1cb79c08\",\"type\":\"Grid\"},{\"attributes\":{\"source\":{\"id\":\"ca8bd9f8-1eed-496b-96e2-b5577a2b271b\",\"type\":\"ColumnDataSource\"}},\"id\":\"b6326fe8-7690-4063-b9e0-269750114ced\",\"type\":\"CDSView\"},{\"attributes\":{\"line_alpha\":0.1,\"line_color\":\"#1f77b4\",\"line_width\":3,\"x\":{\"field\":\"x\"},\"y\":{\"field\":\"y\"}},\"id\":\"bdb0386a-111e-4a44-9b2d-7edc147a702b\",\"type\":\"Line\"},{\"attributes\":{\"data_source\":{\"id\":\"ca8bd9f8-1eed-496b-96e2-b5577a2b271b\",\"type\":\"ColumnDataSource\"},\"glyph\":{\"id\":\"63a2b3b8-e272-4ea7-80b9-45d95829d94b\",\"type\":\"Line\"},\"hover_glyph\":null,\"muted_glyph\":null,\"nonselection_glyph\":{\"id\":\"bdb0386a-111e-4a44-9b2d-7edc147a702b\",\"type\":\"Line\"},\"selection_glyph\":null,\"view\":{\"id\":\"b6326fe8-7690-4063-b9e0-269750114ced\",\"type\":\"CDSView\"}},\"id\":\"bbbcd287-dc38-4c42-8e4e-6d9f824fdabc\",\"type\":\"GlyphRenderer\"},{\"attributes\":{\"children\":[{\"id\":\"cd2f493b-6590-4dad-96c0-daed4640d0b6\",\"type\":\"ToolbarBox\"},{\"id\":\"3a6cd158-16e2-4172-8501-f17ce86c7272\",\"type\":\"Column\"}]},\"id\":\"c01901c9-4453-4f49-a320-88d5e86c7dd0\",\"type\":\"Column\"},{\"attributes\":{\"overlay\":{\"id\":\"d951a1b6-687a-4f28-99ac-6d44c44d51fa\",\"type\":\"BoxAnnotation\"}},\"id\":\"e90385c0-c8d6-4e8d-9289-52e12afe407a\",\"type\":\"BoxZoomTool\"},{\"attributes\":{\"data_source\":{\"id\":\"028ee028-e447-402a-a99d-12ccc2cc0fe1\",\"type\":\"ColumnDataSource\"},\"glyph\":{\"id\":\"64921e4e-c436-4e17-a959-aa70746c7211\",\"type\":\"Line\"},\"hover_glyph\":null,\"muted_glyph\":null,\"nonselection_glyph\":{\"id\":\"5b6a7ae3-d6e6-4693-a7bf-630fab561fa2\",\"type\":\"Line\"},\"selection_glyph\":null,\"view\":{\"id\":\"e5031aea-0ef4-488f-9794-70263000dc64\",\"type\":\"CDSView\"}},\"id\":\"ad74f017-d98d-4a38-ad47-3bd6c712a679\",\"type\":\"GlyphRenderer\"},{\"attributes\":{},\"id\":\"6131cba2-287f-4270-b6c2-6eaca1e3d1a6\",\"type\":\"PanTool\"},{\"attributes\":{\"plot\":null,\"text\":\"Log pressure scale\"},\"id\":\"1454c905-60f3-4cc2-9270-7bd1f45f2616\",\"type\":\"Title\"},{\"attributes\":{},\"id\":\"3890a241-795e-47d7-a761-e21bde88c164\",\"type\":\"BasicTickFormatter\"},{\"attributes\":{\"line_alpha\":0.1,\"line_color\":\"#1f77b4\",\"line_dash\":[6],\"line_width\":5,\"x\":{\"field\":\"x\"},\"y\":{\"field\":\"y\"}},\"id\":\"51198984-db39-4f2a-a6c7-f7302e14779b\",\"type\":\"Line\"},{\"attributes\":{\"bottom_units\":\"screen\",\"fill_alpha\":{\"value\":0.5},\"fill_color\":{\"value\":\"lightgrey\"},\"left_units\":\"screen\",\"level\":\"overlay\",\"line_alpha\":{\"value\":1.0},\"line_color\":{\"value\":\"black\"},\"line_dash\":[4,4],\"line_width\":{\"value\":2},\"plot\":null,\"render_mode\":\"css\",\"right_units\":\"screen\",\"top_units\":\"screen\"},\"id\":\"d951a1b6-687a-4f28-99ac-6d44c44d51fa\",\"type\":\"BoxAnnotation\"},{\"attributes\":{\"label\":{\"value\":\"CLIRAD `coolr_bands`\"},\"renderers\":[{\"id\":\"ad74f017-d98d-4a38-ad47-3bd6c712a679\",\"type\":\"GlyphRenderer\"}]},\"id\":\"d9ce8fc8-2582-4873-b7b3-1c279e682ab8\",\"type\":\"LegendItem\"},{\"attributes\":{\"label\":{\"value\":\"CRD\"},\"renderers\":[{\"id\":\"7cfd7a9b-7a8a-4ce0-8450-f09d0546ea43\",\"type\":\"GlyphRenderer\"},{\"id\":\"8d48f75b-588f-4a7e-b84d-053cb89df4ac\",\"type\":\"GlyphRenderer\"}]},\"id\":\"ea1ef53e-9ce8-4d2d-b8db-138723d2c6be\",\"type\":\"LegendItem\"},{\"attributes\":{},\"id\":\"8f1ff0c4-d7f4-4ba2-bd74-c4cbfba9c67c\",\"type\":\"WheelZoomTool\"},{\"attributes\":{\"callback\":null,\"end\":0.16320116416,\"start\":-0.02465878016},\"id\":\"8b846748-4900-4ef5-af43-1d49c9ccc141\",\"type\":\"Range1d\"},{\"attributes\":{\"overlay\":{\"id\":\"3aace931-b2b6-4187-a14e-cc6d459f2780\",\"type\":\"BoxAnnotation\"}},\"id\":\"98951a9d-aa5e-4f69-b0b1-0ddbd4335118\",\"type\":\"BoxZoomTool\"},{\"attributes\":{},\"id\":\"38f2e0f2-5b09-4107-9fc3-6a1ea79b8a7c\",\"type\":\"SaveTool\"},{\"attributes\":{\"data_source\":{\"id\":\"054eebc5-3572-47f6-a4fa-504d0e2925ca\",\"type\":\"ColumnDataSource\"},\"glyph\":{\"id\":\"f112e2b7-9e82-4302-a39c-d222dc9faaaa\",\"type\":\"Line\"},\"hover_glyph\":null,\"muted_glyph\":null,\"nonselection_glyph\":{\"id\":\"f7ef0192-c7ca-4d92-ac0b-37cab35c8bf1\",\"type\":\"Line\"},\"selection_glyph\":null,\"view\":{\"id\":\"087f0818-24b7-47d5-9807-ea41bc1d1cc4\",\"type\":\"CDSView\"}},\"id\":\"b9e4bf46-415f-409b-9e36-3819a4366e0a\",\"type\":\"GlyphRenderer\"},{\"attributes\":{},\"id\":\"6e9b4798-a413-4755-a74a-090066cb4197\",\"type\":\"ResetTool\"},{\"attributes\":{},\"id\":\"dbc1a5ed-4861-457f-8469-6a9b07537428\",\"type\":\"SaveTool\"},{\"attributes\":{\"data_source\":{\"id\":\"5af33223-26f5-41c9-9fbe-1547b17ecfdc\",\"type\":\"ColumnDataSource\"},\"glyph\":{\"id\":\"17661ba0-d6ae-4bbd-85fc-51772e19d144\",\"type\":\"Circle\"},\"hover_glyph\":null,\"muted_glyph\":null,\"nonselection_glyph\":{\"id\":\"f54736a9-0922-423f-8e01-9b8b6ba11b14\",\"type\":\"Circle\"},\"selection_glyph\":null,\"view\":{\"id\":\"cda6b5eb-107f-4bf1-96b8-ed5b66b0a36c\",\"type\":\"CDSView\"}},\"id\":\"35b9cd5f-cbca-4006-b037-c0fdb14dda76\",\"type\":\"GlyphRenderer\"},{\"attributes\":{\"axis_label\":\"pressure [mb]\",\"formatter\":{\"id\":\"59f5a974-21ca-4ffe-b6f4-e7e13bc5b619\",\"type\":\"LogTickFormatter\"},\"plot\":{\"id\":\"b0aa4fb0-26e1-4a53-bcee-ed1558d30f94\",\"subtype\":\"Figure\",\"type\":\"Plot\"},\"ticker\":{\"id\":\"f5269d73-c853-4bbd-94c0-bf69874be66c\",\"type\":\"LogTicker\"}},\"id\":\"1a86bb9e-5087-4cec-90ee-4bb75e06cce3\",\"type\":\"LogAxis\"},{\"attributes\":{\"line_color\":\"#4daf4a\",\"line_width\":1.5,\"x\":{\"field\":\"x\"},\"y\":{\"field\":\"y\"}},\"id\":\"be87a79c-5b10-45ef-846d-9663f5551ef1\",\"type\":\"Line\"},{\"attributes\":{},\"id\":\"41d5e24a-2241-481e-8a8b-0792519668c4\",\"type\":\"HelpTool\"},{\"attributes\":{\"plot\":{\"id\":\"9f657397-fb7b-4fb4-ab0b-b18dc27fd4d3\",\"subtype\":\"Figure\",\"type\":\"Plot\"},\"ticker\":{\"id\":\"5d72de1b-48cf-4445-9602-23ffdb6a8339\",\"type\":\"BasicTicker\"}},\"id\":\"93ff3e13-a954-40b2-b946-b73dbc78be3e\",\"type\":\"Grid\"},{\"attributes\":{\"below\":[{\"id\":\"9bb2ac47-54b3-48b7-861d-b0e0b75db5a2\",\"type\":\"LinearAxis\"}],\"left\":[{\"id\":\"1a86bb9e-5087-4cec-90ee-4bb75e06cce3\",\"type\":\"LogAxis\"}],\"plot_height\":500,\"plot_width\":560,\"renderers\":[{\"id\":\"9bb2ac47-54b3-48b7-861d-b0e0b75db5a2\",\"type\":\"LinearAxis\"},{\"id\":\"a6269be6-e624-49c2-ab3d-ea4b1cb79c08\",\"type\":\"Grid\"},{\"id\":\"1a86bb9e-5087-4cec-90ee-4bb75e06cce3\",\"type\":\"LogAxis\"},{\"id\":\"10e3ddc6-d53a-41b1-a317-b89cca5c2bbc\",\"type\":\"Grid\"},{\"id\":\"3aace931-b2b6-4187-a14e-cc6d459f2780\",\"type\":\"BoxAnnotation\"},{\"id\":\"ad74f017-d98d-4a38-ad47-3bd6c712a679\",\"type\":\"GlyphRenderer\"},{\"id\":\"7cfd7a9b-7a8a-4ce0-8450-f09d0546ea43\",\"type\":\"GlyphRenderer\"},{\"id\":\"8d48f75b-588f-4a7e-b84d-053cb89df4ac\",\"type\":\"GlyphRenderer\"},{\"id\":\"0f88c24c-3ed9-4b0d-b21e-708867900362\",\"type\":\"GlyphRenderer\"},{\"id\":\"bbbcd287-dc38-4c42-8e4e-6d9f824fdabc\",\"type\":\"GlyphRenderer\"},{\"id\":\"41367bda-2d9c-40c7-8cf7-68759ca7d1f8\",\"type\":\"Legend\"}],\"right\":[{\"id\":\"41367bda-2d9c-40c7-8cf7-68759ca7d1f8\",\"type\":\"Legend\"}],\"title\":{\"id\":\"1454c905-60f3-4cc2-9270-7bd1f45f2616\",\"type\":\"Title\"},\"toolbar\":{\"id\":\"556c21b9-ccf3-421a-bc6f-859c39d92b80\",\"type\":\"Toolbar\"},\"toolbar_location\":null,\"x_range\":{\"id\":\"058c95b5-7da1-463b-bab6-9f836d397b3b\",\"type\":\"Range1d\"},\"x_scale\":{\"id\":\"92eb21f2-d596-4e3b-9b05-35fd73880644\",\"type\":\"LinearScale\"},\"y_range\":{\"id\":\"d800395a-5e78-444a-922f-bbf1ba95ad88\",\"type\":\"Range1d\"},\"y_scale\":{\"id\":\"59ea8e55-7391-4d84-b6e5-c7242908c55a\",\"type\":\"LogScale\"}},\"id\":\"b0aa4fb0-26e1-4a53-bcee-ed1558d30f94\",\"subtype\":\"Figure\",\"type\":\"Plot\"},{\"attributes\":{\"line_alpha\":0.1,\"line_color\":\"#1f77b4\",\"line_dash\":[6],\"line_width\":5,\"x\":{\"field\":\"x\"},\"y\":{\"field\":\"y\"}},\"id\":\"5b6a7ae3-d6e6-4693-a7bf-630fab561fa2\",\"type\":\"Line\"},{\"attributes\":{},\"id\":\"2afcd0f5-9f60-43cd-a9d7-c37193c35df6\",\"type\":\"HelpTool\"},{\"attributes\":{\"bottom_units\":\"screen\",\"fill_alpha\":{\"value\":0.5},\"fill_color\":{\"value\":\"lightgrey\"},\"left_units\":\"screen\",\"level\":\"overlay\",\"line_alpha\":{\"value\":1.0},\"line_color\":{\"value\":\"black\"},\"line_dash\":[4,4],\"line_width\":{\"value\":2},\"plot\":null,\"render_mode\":\"css\",\"right_units\":\"screen\",\"top_units\":\"screen\"},\"id\":\"3aace931-b2b6-4187-a14e-cc6d459f2780\",\"type\":\"BoxAnnotation\"},{\"attributes\":{\"source\":{\"id\":\"b1ffaff8-0e83-49c8-9d87-e3320245d9aa\",\"type\":\"ColumnDataSource\"}},\"id\":\"b6573db7-710f-45fb-9d97-2466ad158e26\",\"type\":\"CDSView\"},{\"attributes\":{},\"id\":\"6d977c19-5b83-4d1d-abcc-daae3314307c\",\"type\":\"BasicTicker\"},{\"attributes\":{\"callback\":null,\"column_names\":[\"x\",\"y\"],\"data\":{\"x\":{\"__ndarray__\":\"6er/niG61D9LnrlKxOHUPxa5zTrDkdU/q030nIhJ1j/stDLmOuPWPznPkpsVW9c/T2m/Hc6o1z+LFBbycLvXPzpoAoR3f9c/rg3lVIPf1j/j25ggssLVP/eP/nkxBtQ/N7hivaOG0T9bxV5ueKHMP4MIbxlPTco/ZBvVNKq+zj+8+b+9LAfSPxGD2rwokdM/4lFwzXXK1D8XxNeFBVHXP/KQxGjVON0//myIv4yY4z+VLYngNSjlP3lS0Vkg+eI/odku+WVH4D9LAL9Q2GnaP8643dlXmNU/9PqVDMTs0T8tH/NizXTNP5fCX6qobsc/u0P/N9LswT/S0/Rb4HW6Pw+9KsNH9rI/8RyGe2Hlqz/BMOoVPI6eP1gJARJhCVS/Dlx5F5/Alr/3PuqnW8mSv/v3EDlXskk/JMN0/xxPij+75VR3OcOXPz8XfZlmdqA/CBZlI1hkpD9cVkl19sinPzZn6Mf1yao/H9PAEc+HrT9dtfb8CgywP48oNg8zSLE/dfg7mO17sj+bpaSriKqzPzjKH6hd1rQ/Ole6BOP/tT+Su7836yW3Px/1FItaRLg/bCestB1duT9/cllKKnC6P82OI9c6frs/jGzwuUeLvD9+eV1Ac569P/WJHAaQvb4/pR+ZATvhvz/VsQsT7mLAPxXwnuIbdcA/ZOkPJLEQwD+U7f7ly9e+P+hlZ9Gwtr0/ljqQwUEwvT/5ixPcYVe9P8D51mos8b0/1pSorajBvj/5zV/o1ra/P6RyosoCbsA/MUBa/hsqwT+DZQ8C8jzCP6TxxFvsisQ/\",\"dtype\":\"float64\",\"shape\":[75]},\"y\":{\"__ndarray__\":\"GhExyth1ND/Sv8nbtpRIP2vylNV0PVE/aTum7souWD/At0SJ8fVgPw3Iuahxymc/MSNhhJWvcD/bTfBN02d3P2zb5nxnaoA/CD5h5MAGhz8NmeH1TyaQP+zrCsc9p5Y/LbKd76fGnz/bLW5ISEmmPww9YvTcQq8/JV2OstnstT8Er5Y7M8G+P0c+r3jqkcU/5h99k6ZBzj88bCIzFzjVP4enV8oyxN0//yH99nXg5D8qOpLLf0jtP5kqGJXUifQ/c9cS8kHP/D+/DpwzojQEQIEmwoanVwxA4lgXt9HgE0BSSZ2AJuIbQAMJih9jjiNA5q4l5INuK0AwTKYKRj0zQNv5fmq8/DpAaCJseHrtQkB/+zpwzoxKQM3MzMzMeFJAZmZmZmZqWEAAAAAAAFxeQM3MzMzMJmJAmpmZmZkfZUBmZmZmZhhoQDMzMzMzEWtAAAAAAAAKbkBmZmZmZoFwQM3MzMzM/XFAMzMzMzN6c0CamZmZmfZ0QAAAAAAAc3ZAZmZmZmbvd0DNzMzMzGt5QDMzMzMz6HpAmpmZmZlkfEAAAAAAAOF9QGZmZmZmXX9AZmZmZuZsgECamZmZGSuBQM3MzMxM6YFAAAAAAICngkAzMzMzs2WDQGZmZmbmI4RAmpmZmRnihEDNzMzMTKCFQAAAAACAXoZAMzMzM7Mch0BmZmZm5tqHQJqZmZkZmYhAzczMzExXiUAAAAAAgBWKQDMzMzOz04pAZmZmZuaRi0CamZmZGVCMQM3MzMxMDo1AAAAAAIDMjUAzMzMzs4qOQGZmZmbmSI9A\",\"dtype\":\"float64\",\"shape\":[75]}}},\"id\":\"054eebc5-3572-47f6-a4fa-504d0e2925ca\",\"type\":\"ColumnDataSource\"},{\"attributes\":{},\"id\":\"b2d3e879-dd5e-41c3-a1bb-3bdf0f933f79\",\"type\":\"WheelZoomTool\"},{\"attributes\":{\"fill_alpha\":{\"value\":0.7},\"fill_color\":{\"value\":\"#984ea3\"},\"line_alpha\":{\"value\":0.7},\"line_color\":{\"value\":\"#984ea3\"},\"x\":{\"field\":\"x\"},\"y\":{\"field\":\"y\"}},\"id\":\"ceb4ecd0-5d4b-410f-8a1f-5f4888e1fd97\",\"type\":\"Square\"},{\"attributes\":{\"source\":{\"id\":\"028ee028-e447-402a-a99d-12ccc2cc0fe1\",\"type\":\"ColumnDataSource\"}},\"id\":\"e5031aea-0ef4-488f-9794-70263000dc64\",\"type\":\"CDSView\"},{\"attributes\":{\"axis_label\":\"pressure [mb]\",\"formatter\":{\"id\":\"3890a241-795e-47d7-a761-e21bde88c164\",\"type\":\"BasicTickFormatter\"},\"plot\":{\"id\":\"9f657397-fb7b-4fb4-ab0b-b18dc27fd4d3\",\"subtype\":\"Figure\",\"type\":\"Plot\"},\"ticker\":{\"id\":\"95f96de3-b715-4d56-bf9e-9c73101bffab\",\"type\":\"BasicTicker\"}},\"id\":\"00fa0cc2-b9d3-4e19-a295-aabe1e87d36b\",\"type\":\"LinearAxis\"},{\"attributes\":{\"dimension\":1,\"plot\":{\"id\":\"b0aa4fb0-26e1-4a53-bcee-ed1558d30f94\",\"subtype\":\"Figure\",\"type\":\"Plot\"},\"ticker\":{\"id\":\"f5269d73-c853-4bbd-94c0-bf69874be66c\",\"type\":\"LogTicker\"}},\"id\":\"10e3ddc6-d53a-41b1-a317-b89cca5c2bbc\",\"type\":\"Grid\"},{\"attributes\":{\"callback\":null,\"column_names\":[\"x\",\"y\"],\"data\":{\"x\":{\"__ndarray__\":\"ywbC4xUn0j8TDXP+/ZTIP0R51blYh8E/YuQbwBHT1D++P5QePMnUP555vSRj79A/uI3MRI2Z0D/s7QGAhF3TPzqQFuPTjtM/Qz4ihTZp0z+bssueoUvTPyySnyLBM9I/2uIan8k+0D9t3Oa2EvTMPx92MnpmsMs/S0xA4SZC0D8YjWPBUAnTP8aL4NrkC9Q/NxgLv6sQ1D/3bwPjhZnVP6f/DyStQNs/KZYZPjuj4j+zGdCg24rkP1vFbuFx2OI/asFJorBu4D/YTSE+TbnaP/CiryDN2NU/FTCq2qgt0j97RZ7BMvjNP5DggHWgd8c/62jiPu6ywT+ptP3fnIe5P2/HAd9gtLE/bGeVIsRYqT+74F9GqWucP+ABBUAu6ku/qTV5PMCilb9c0bNHEv6Rv622dMFB2hi/BCUPiDNmhj/uXFoFGDOVP9wb/+Jy7J0/NBQeBILYoj+1Rht/ViSmP9XjuRyBCKk/EYpXoLCgqz/73ZQilB+uP/vrJEEJSrA/WgPxQLiQsT/Jn17fPfayPyTrqB70YrQ/rp3F3s3LtT/4YD3hMSu3P6esbEAAgLg/YxBx1lTUuT/OOwy1vxa7P18eGUijRLw/nJLFYHJhvT+1WQ5Xe5a+P8hPVzUQ5L8/yePMIz2UwD8nw69gNA7BP23Ph8LCJME/rQ38RVzCwD8yjP1dhhzAP8WxRwtEDb8/z1bzVjx5vj+cHFeG5Y2+P0X/uokQDb8/fftj7//Cvz8JPVHIhE7AP7X/fZ0G0sA/MfXrNdp9wT+PK/2dUHzCP7Z688Bsp8Q/\",\"dtype\":\"float64\",\"shape\":[75]},\"y\":{\"__ndarray__\":\"S/O/Q+51ND/430zAtpRIP2vylNV0PVE/QxsjCssuWD/TR4Z78fVgP+inNsRxymc/OuuBfZWvcD/u3TFA02d3P2d3VoBnaoA/CD5h5MAGhz/1pA8HUCaQP+zrCsc9p5Y/Fb7LAKjGnz/nJ9c/SEmmPwBD+fzcQq8/FOZwv9nstT8Er5Y7M8G+P0c+r3jqkcU/yK72qKZBzj+tM989FzjVPxbgmr8yxN0/cOm5AXbg5D+5ctXAf0jtP5kqGJXUifQ/DsrqDELP/D8MCAhBojQEQDItVnmnVwxAiFXNvdHgE0BSSZ2AJuIbQAMJih9jjiNA5q4l5INuK0CPVN/5RT0zQHzxRXu8/DpAOZ7PgHrtQkAg8wGBzoxKQBSTN8DMeFJA2NmQf2ZqWEAAAAAAAFxeQEQX1LfMJmJAmpmZmZkfZUBmZmZmZhhoQLzoK0gzEWtAAAAAAAAKbkCiC+pbZoFwQAhyUMLM/XFA+I2vPTN6c0AQ5KCEmfZ0QAAAAAAAc3ZA8Btfe2bvd0AIclDCzGt5QPeNrz0z6HpAEOSghJlkfEAAAAAAAOF9QKML6ltmXX9ABTkoYeZsgED7xteeGSuBQAhyUMJM6YFAAAAAAICngkD4ja89s2WDQAU5KGHmI4RA+8bXnhnihEAIclDCTKCFQAAAAACAXoZA+I2vPbMch0AFOShh5tqHQPvG154ZmYhACHJQwkxXiUAAAAAAgBWKQPeNrz2z04pABTkoYeaRi0D7xteeGVCMQAlyUMJMDo1AAAAAAIDMjUD3ja89s4qOQGZmZmbmSI9A\",\"dtype\":\"float64\",\"shape\":[75]}}},\"id\":\"028ee028-e447-402a-a99d-12ccc2cc0fe1\",\"type\":\"ColumnDataSource\"},{\"attributes\":{\"active_drag\":\"auto\",\"active_inspect\":\"auto\",\"active_scroll\":\"auto\",\"active_tap\":\"auto\",\"tools\":[{\"id\":\"702e6a7d-bff9-4e93-99ef-64be89183456\",\"type\":\"PanTool\"},{\"id\":\"b2d3e879-dd5e-41c3-a1bb-3bdf0f933f79\",\"type\":\"WheelZoomTool\"},{\"id\":\"e90385c0-c8d6-4e8d-9289-52e12afe407a\",\"type\":\"BoxZoomTool\"},{\"id\":\"dbc1a5ed-4861-457f-8469-6a9b07537428\",\"type\":\"SaveTool\"},{\"id\":\"616a94b9-1d2f-4a6b-8e52-e757d327aa29\",\"type\":\"ResetTool\"},{\"id\":\"2afcd0f5-9f60-43cd-a9d7-c37193c35df6\",\"type\":\"HelpTool\"}]},\"id\":\"02e7b2b9-e39a-4285-9392-196f9b6b8b5d\",\"type\":\"Toolbar\"},{\"attributes\":{},\"id\":\"95f96de3-b715-4d56-bf9e-9c73101bffab\",\"type\":\"BasicTicker\"},{\"attributes\":{},\"id\":\"59ea8e55-7391-4d84-b6e5-c7242908c55a\",\"type\":\"LogScale\"},{\"attributes\":{\"tools\":[{\"id\":\"702e6a7d-bff9-4e93-99ef-64be89183456\",\"type\":\"PanTool\"},{\"id\":\"b2d3e879-dd5e-41c3-a1bb-3bdf0f933f79\",\"type\":\"WheelZoomTool\"},{\"id\":\"e90385c0-c8d6-4e8d-9289-52e12afe407a\",\"type\":\"BoxZoomTool\"},{\"id\":\"dbc1a5ed-4861-457f-8469-6a9b07537428\",\"type\":\"SaveTool\"},{\"id\":\"616a94b9-1d2f-4a6b-8e52-e757d327aa29\",\"type\":\"ResetTool\"},{\"id\":\"2afcd0f5-9f60-43cd-a9d7-c37193c35df6\",\"type\":\"HelpTool\"},{\"id\":\"6131cba2-287f-4270-b6c2-6eaca1e3d1a6\",\"type\":\"PanTool\"},{\"id\":\"8f1ff0c4-d7f4-4ba2-bd74-c4cbfba9c67c\",\"type\":\"WheelZoomTool\"},{\"id\":\"98951a9d-aa5e-4f69-b0b1-0ddbd4335118\",\"type\":\"BoxZoomTool\"},{\"id\":\"38f2e0f2-5b09-4107-9fc3-6a1ea79b8a7c\",\"type\":\"SaveTool\"},{\"id\":\"6e9b4798-a413-4755-a74a-090066cb4197\",\"type\":\"ResetTool\"},{\"id\":\"41d5e24a-2241-481e-8a8b-0792519668c4\",\"type\":\"HelpTool\"}]},\"id\":\"1fe491c2-7e52-47b4-93cd-ed304a6297fd\",\"type\":\"ProxyToolbar\"}],\"root_ids\":[\"c01901c9-4453-4f49-a320-88d5e86c7dd0\"]},\"title\":\"Bokeh Application\",\"version\":\"0.12.14\"}};\n",
       "  var render_items = [{\"docid\":\"695a074e-3f2d-4c1d-b78c-4bce536ca413\",\"elementid\":\"cc7b795e-ab63-47c7-a27b-640840094e60\",\"modelid\":\"c01901c9-4453-4f49-a320-88d5e86c7dd0\"}];\n",
       "  root.Bokeh.embed.embed_items_notebook(docs_json, render_items);\n",
       "\n",
       "  }\n",
       "  if (root.Bokeh !== undefined) {\n",
       "    embed_document(root);\n",
       "  } else {\n",
       "    var attempts = 0;\n",
       "    var timer = setInterval(function(root) {\n",
       "      if (root.Bokeh !== undefined) {\n",
       "        embed_document(root);\n",
       "        clearInterval(timer);\n",
       "      }\n",
       "      attempts++;\n",
       "      if (attempts > 100) {\n",
       "        console.log(\"Bokeh: ERROR: Unable to run BokehJS code because BokehJS library is missing\")\n",
       "        clearInterval(timer);\n",
       "      }\n",
       "    }, 10, root)\n",
       "  }\n",
       "})(window);"
      ],
      "application/vnd.bokehjs_exec.v0+json": ""
     },
     "metadata": {
      "application/vnd.bokehjs_exec.v0+json": {
       "id": "c01901c9-4453-4f49-a320-88d5e86c7dd0"
      }
     },
     "output_type": "display_data"
    },
    {
     "name": "stdout",
     "output_type": "stream",
     "text": [
      "FIGURE. Cooling rate profiles.\n"
     ]
    },
    {
     "data": {
      "text/html": [
       "<a id=\"Flux_Comparison\"></a>"
      ],
      "text/plain": [
       "<IPython.core.display.HTML object>"
      ]
     },
     "metadata": {},
     "output_type": "display_data"
    },
    {
     "data": {
      "text/markdown": [
       "# Flux Comparison"
      ],
      "text/plain": [
       "<IPython.core.display.Markdown object>"
      ]
     },
     "metadata": {},
     "output_type": "display_data"
    },
    {
     "data": {
      "text/html": [
       "<div>\n",
       "<style>\n",
       "    .dataframe thead tr:only-child th {\n",
       "        text-align: right;\n",
       "    }\n",
       "\n",
       "    .dataframe thead th {\n",
       "        text-align: left;\n",
       "    }\n",
       "\n",
       "    .dataframe tbody tr th {\n",
       "        vertical-align: top;\n",
       "    }\n",
       "</style>\n",
       "<table border=\"1\" class=\"dataframe\">\n",
       "  <thead>\n",
       "    <tr style=\"text-align: right;\">\n",
       "      <th></th>\n",
       "      <th></th>\n",
       "      <th>flug</th>\n",
       "      <th>fldg</th>\n",
       "      <th>fnetg</th>\n",
       "    </tr>\n",
       "    <tr>\n",
       "      <th>pressure</th>\n",
       "      <th>level</th>\n",
       "      <th></th>\n",
       "      <th></th>\n",
       "      <th></th>\n",
       "    </tr>\n",
       "  </thead>\n",
       "  <tbody>\n",
       "    <tr>\n",
       "      <th>0.0000</th>\n",
       "      <th>1</th>\n",
       "      <td>-30.883318</td>\n",
       "      <td>0.000000</td>\n",
       "      <td>-30.883318</td>\n",
       "    </tr>\n",
       "    <tr>\n",
       "      <th>1.0685</th>\n",
       "      <th>24</th>\n",
       "      <td>-30.884221</td>\n",
       "      <td>0.063546</td>\n",
       "      <td>-30.820675</td>\n",
       "    </tr>\n",
       "    <tr>\n",
       "      <th>1013.0000</th>\n",
       "      <th>76</th>\n",
       "      <td>-38.491735</td>\n",
       "      <td>18.001046</td>\n",
       "      <td>-20.490688</td>\n",
       "    </tr>\n",
       "  </tbody>\n",
       "</table>\n",
       "</div>"
      ],
      "text/plain": [
       "                      flug       fldg      fnetg\n",
       "pressure  level                                 \n",
       "0.0000    1     -30.883318   0.000000 -30.883318\n",
       "1.0685    24    -30.884221   0.063546 -30.820675\n",
       "1013.0000 76    -38.491735  18.001046 -20.490688"
      ]
     },
     "metadata": {},
     "output_type": "display_data"
    },
    {
     "name": "stdout",
     "output_type": "stream",
     "text": [
      "Table. Fluxes. WGT igg=10 wgt_flux=1\n"
     ]
    },
    {
     "data": {
      "text/html": [
       "<div>\n",
       "<style>\n",
       "    .dataframe thead tr:only-child th {\n",
       "        text-align: right;\n",
       "    }\n",
       "\n",
       "    .dataframe thead th {\n",
       "        text-align: left;\n",
       "    }\n",
       "\n",
       "    .dataframe tbody tr th {\n",
       "        vertical-align: top;\n",
       "    }\n",
       "</style>\n",
       "<table border=\"1\" class=\"dataframe\">\n",
       "  <thead>\n",
       "    <tr style=\"text-align: right;\">\n",
       "      <th></th>\n",
       "      <th></th>\n",
       "      <th>flug</th>\n",
       "      <th>fldg</th>\n",
       "      <th>fnetg</th>\n",
       "    </tr>\n",
       "    <tr>\n",
       "      <th>pressure</th>\n",
       "      <th>level</th>\n",
       "      <th></th>\n",
       "      <th></th>\n",
       "      <th></th>\n",
       "    </tr>\n",
       "  </thead>\n",
       "  <tbody>\n",
       "    <tr>\n",
       "      <th>0.0000</th>\n",
       "      <th>1</th>\n",
       "      <td>-30.877425</td>\n",
       "      <td>0.000000</td>\n",
       "      <td>-30.877425</td>\n",
       "    </tr>\n",
       "    <tr>\n",
       "      <th>1.0685</th>\n",
       "      <th>24</th>\n",
       "      <td>-30.878983</td>\n",
       "      <td>0.068611</td>\n",
       "      <td>-30.810372</td>\n",
       "    </tr>\n",
       "    <tr>\n",
       "      <th>1013.0000</th>\n",
       "      <th>76</th>\n",
       "      <td>-38.491734</td>\n",
       "      <td>17.950491</td>\n",
       "      <td>-20.541243</td>\n",
       "    </tr>\n",
       "  </tbody>\n",
       "</table>\n",
       "</div>"
      ],
      "text/plain": [
       "                      flug       fldg      fnetg\n",
       "pressure  level                                 \n",
       "0.0000    1     -30.877425   0.000000 -30.877425\n",
       "1.0685    24    -30.878983   0.068611 -30.810372\n",
       "1013.0000 76    -38.491734  17.950491 -20.541243"
      ]
     },
     "metadata": {},
     "output_type": "display_data"
    },
    {
     "name": "stdout",
     "output_type": "stream",
     "text": [
      "Table. Fluxes. CRD\n"
     ]
    },
    {
     "data": {
      "text/html": [
       "<div>\n",
       "<style>\n",
       "    .dataframe thead tr:only-child th {\n",
       "        text-align: right;\n",
       "    }\n",
       "\n",
       "    .dataframe thead th {\n",
       "        text-align: left;\n",
       "    }\n",
       "\n",
       "    .dataframe tbody tr th {\n",
       "        vertical-align: top;\n",
       "    }\n",
       "</style>\n",
       "<table border=\"1\" class=\"dataframe\">\n",
       "  <thead>\n",
       "    <tr style=\"text-align: right;\">\n",
       "      <th></th>\n",
       "      <th></th>\n",
       "      <th>flug</th>\n",
       "      <th>fldg</th>\n",
       "      <th>fnetg</th>\n",
       "    </tr>\n",
       "    <tr>\n",
       "      <th>pressure</th>\n",
       "      <th>level</th>\n",
       "      <th></th>\n",
       "      <th></th>\n",
       "      <th></th>\n",
       "    </tr>\n",
       "  </thead>\n",
       "  <tbody>\n",
       "    <tr>\n",
       "      <th>1.000000e-08</th>\n",
       "      <th>1</th>\n",
       "      <td>-30.989136</td>\n",
       "      <td>0.000002</td>\n",
       "      <td>-30.989134</td>\n",
       "    </tr>\n",
       "    <tr>\n",
       "      <th>1.068500e+00</th>\n",
       "      <th>24</th>\n",
       "      <td>-30.989563</td>\n",
       "      <td>0.060599</td>\n",
       "      <td>-30.928965</td>\n",
       "    </tr>\n",
       "    <tr>\n",
       "      <th>1.013000e+03</th>\n",
       "      <th>76</th>\n",
       "      <td>-38.491730</td>\n",
       "      <td>18.004278</td>\n",
       "      <td>-20.487452</td>\n",
       "    </tr>\n",
       "  </tbody>\n",
       "</table>\n",
       "</div>"
      ],
      "text/plain": [
       "                         flug       fldg      fnetg\n",
       "pressure     level                                 \n",
       "1.000000e-08 1     -30.989136   0.000002 -30.989134\n",
       "1.068500e+00 24    -30.989563   0.060599 -30.928965\n",
       "1.013000e+03 76    -38.491730  18.004278 -20.487452"
      ]
     },
     "metadata": {},
     "output_type": "display_data"
    },
    {
     "name": "stdout",
     "output_type": "stream",
     "text": [
      "Table. Fluxes. CLIRAD\n"
     ]
    },
    {
     "data": {
      "text/html": [
       "<div>\n",
       "<style>\n",
       "    .dataframe thead tr:only-child th {\n",
       "        text-align: right;\n",
       "    }\n",
       "\n",
       "    .dataframe thead th {\n",
       "        text-align: left;\n",
       "    }\n",
       "\n",
       "    .dataframe tbody tr th {\n",
       "        vertical-align: top;\n",
       "    }\n",
       "</style>\n",
       "<table border=\"1\" class=\"dataframe\">\n",
       "  <thead>\n",
       "    <tr style=\"text-align: right;\">\n",
       "      <th></th>\n",
       "      <th></th>\n",
       "      <th>flug</th>\n",
       "      <th>fldg</th>\n",
       "      <th>fnetg</th>\n",
       "    </tr>\n",
       "    <tr>\n",
       "      <th>pressure</th>\n",
       "      <th>level</th>\n",
       "      <th></th>\n",
       "      <th></th>\n",
       "      <th></th>\n",
       "    </tr>\n",
       "  </thead>\n",
       "  <tbody>\n",
       "    <tr>\n",
       "      <th>0.0000</th>\n",
       "      <th>1</th>\n",
       "      <td>5.893454e-03</td>\n",
       "      <td>0.000000</td>\n",
       "      <td>0.005893</td>\n",
       "    </tr>\n",
       "    <tr>\n",
       "      <th>1.0685</th>\n",
       "      <th>24</th>\n",
       "      <td>5.237929e-03</td>\n",
       "      <td>0.005065</td>\n",
       "      <td>0.010303</td>\n",
       "    </tr>\n",
       "    <tr>\n",
       "      <th>1013.0000</th>\n",
       "      <th>76</th>\n",
       "      <td>7.180000e-07</td>\n",
       "      <td>-0.050555</td>\n",
       "      <td>-0.050555</td>\n",
       "    </tr>\n",
       "  </tbody>\n",
       "</table>\n",
       "</div>"
      ],
      "text/plain": [
       "                         flug      fldg     fnetg\n",
       "pressure  level                                  \n",
       "0.0000    1      5.893454e-03  0.000000  0.005893\n",
       "1.0685    24     5.237929e-03  0.005065  0.010303\n",
       "1013.0000 76     7.180000e-07 -0.050555 -0.050555"
      ]
     },
     "metadata": {},
     "output_type": "display_data"
    },
    {
     "name": "stdout",
     "output_type": "stream",
     "text": [
      "Table. Fluxes. (CRD) - (WGT igg=10 wgt_flux=1)\n"
     ]
    },
    {
     "data": {
      "text/html": [
       "<div>\n",
       "<style>\n",
       "    .dataframe thead tr:only-child th {\n",
       "        text-align: right;\n",
       "    }\n",
       "\n",
       "    .dataframe thead th {\n",
       "        text-align: left;\n",
       "    }\n",
       "\n",
       "    .dataframe tbody tr th {\n",
       "        vertical-align: top;\n",
       "    }\n",
       "</style>\n",
       "<table border=\"1\" class=\"dataframe\">\n",
       "  <thead>\n",
       "    <tr style=\"text-align: right;\">\n",
       "      <th></th>\n",
       "      <th></th>\n",
       "      <th>flug</th>\n",
       "      <th>fldg</th>\n",
       "      <th>fnetg</th>\n",
       "    </tr>\n",
       "    <tr>\n",
       "      <th>pressure</th>\n",
       "      <th>level</th>\n",
       "      <th></th>\n",
       "      <th></th>\n",
       "      <th></th>\n",
       "    </tr>\n",
       "  </thead>\n",
       "  <tbody>\n",
       "    <tr>\n",
       "      <th>0.0000</th>\n",
       "      <th>1</th>\n",
       "      <td>-0.105818</td>\n",
       "      <td>0.000002</td>\n",
       "      <td>-0.105816</td>\n",
       "    </tr>\n",
       "    <tr>\n",
       "      <th>1.0685</th>\n",
       "      <th>24</th>\n",
       "      <td>-0.105342</td>\n",
       "      <td>-0.002947</td>\n",
       "      <td>-0.108290</td>\n",
       "    </tr>\n",
       "    <tr>\n",
       "      <th>1013.0000</th>\n",
       "      <th>76</th>\n",
       "      <td>0.000005</td>\n",
       "      <td>0.003232</td>\n",
       "      <td>0.003236</td>\n",
       "    </tr>\n",
       "  </tbody>\n",
       "</table>\n",
       "</div>"
      ],
      "text/plain": [
       "                     flug      fldg     fnetg\n",
       "pressure  level                              \n",
       "0.0000    1     -0.105818  0.000002 -0.105816\n",
       "1.0685    24    -0.105342 -0.002947 -0.108290\n",
       "1013.0000 76     0.000005  0.003232  0.003236"
      ]
     },
     "metadata": {},
     "output_type": "display_data"
    },
    {
     "name": "stdout",
     "output_type": "stream",
     "text": [
      "Table. Fluxes. (CLIRAD) - (WGT igg=10 wgt_flux=1)\n"
     ]
    },
    {
     "data": {
      "text/html": [
       "<a id=\"Best-fit_Parameters\"></a>"
      ],
      "text/plain": [
       "<IPython.core.display.HTML object>"
      ]
     },
     "metadata": {},
     "output_type": "display_data"
    },
    {
     "data": {
      "text/markdown": [
       "# Best-fit Parameters"
      ],
      "text/plain": [
       "<IPython.core.display.Markdown object>"
      ]
     },
     "metadata": {},
     "output_type": "display_data"
    },
    {
     "name": "stdout",
     "output_type": "stream",
     "text": [
      "Best-fit values for each (gas, band)\n",
      "------------------------------------\n",
      "o co2 band3a\n",
      "  atmpro = mls\n",
      "  band = 3a\n",
      "  commitnumber = 5014a19\n",
      "  conc = 0.0004\n",
      "  dv = 0.01\n",
      "  klin = 6.375563e-24\n",
      "  molecule = co2\n",
      "  ng_adju = [0, 0, 0]\n",
      "  ng_refs = [3, 2, 4]\n",
      "  nv = 100\n",
      "  option_compute_btable = 0\n",
      "  option_compute_ktable = 1\n",
      "  option_wgt_flux = 1\n",
      "  option_wgt_k = 1\n",
      "  ref_pts = [(1, 250), (10, 250), (500, 250)]\n",
      "  tsfc = 294\n",
      "  vmax = 620\n",
      "  vmin = 540\n",
      "  w_diffuse = [(1.6, 1.6, 1.7), (1.75, 1.75), (1.55, 1.55, 1.6, 1.85)]\n",
      "  wgt = [(0.7, 0.3, 0.7), (0.7, 0.6), (0.4, 0.5, 0.8, 0.95)]\n"
     ]
    }
   ],
   "source": [
    "script()"
   ]
  },
  {
   "cell_type": "code",
   "execution_count": 13,
   "metadata": {
    "collapsed": true
   },
   "outputs": [
    {
     "data": {
      "text/html": [
       "<script>\n",
       "code_show=true; \n",
       "function code_toggle() {\n",
       " if (code_show){\n",
       " $('div.input').hide();\n",
       " } else {\n",
       " $('div.input').show();\n",
       " }\n",
       " code_show = !code_show\n",
       "} \n",
       "$( document ).ready(code_toggle);\n",
       "</script>\n",
       "<form action=\"javascript:code_toggle()\"><input type=\"submit\" value=\"Click here to toggle on/off the raw code.\"></form>"
      ],
      "text/plain": [
       "<IPython.core.display.HTML object>"
      ]
     },
     "execution_count": 13,
     "metadata": {},
     "output_type": "execute_result"
    }
   ],
   "source": [
    "display.HTML('''<script>\n",
    "code_show=true; \n",
    "function code_toggle() {\n",
    " if (code_show){\n",
    " $('div.input').hide();\n",
    " } else {\n",
    " $('div.input').show();\n",
    " }\n",
    " code_show = !code_show\n",
    "} \n",
    "$( document ).ready(code_toggle);\n",
    "</script>\n",
    "<form action=\"javascript:code_toggle()\"><input type=\"submit\" value=\"Click here to toggle on/off the raw code.\"></form>''')"
   ]
  }
 ],
 "metadata": {
  "kernelspec": {
   "display_name": "Python 3",
   "language": "python",
   "name": "python3"
  },
  "language_info": {
   "codemirror_mode": {
    "name": "ipython",
    "version": 3
   },
   "file_extension": ".py",
   "mimetype": "text/x-python",
   "name": "python",
   "nbconvert_exporter": "python",
   "pygments_lexer": "ipython3",
   "version": "3.6.1"
  }
 },
 "nbformat": 4,
 "nbformat_minor": 2
}
