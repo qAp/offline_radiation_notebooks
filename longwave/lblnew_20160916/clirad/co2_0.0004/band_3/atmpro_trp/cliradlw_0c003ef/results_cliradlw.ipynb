{
 "cells": [
  {
   "cell_type": "code",
   "execution_count": 1,
   "metadata": {
    "collapsed": true
   },
   "outputs": [],
   "source": [
    "%matplotlib inline\n",
    "import os\n",
    "import re\n",
    "import io\n",
    "import itertools\n",
    "import pprint\n",
    "\n",
    "from bokeh.io import output_notebook, show\n",
    "from bokeh.layouts import gridplot\n",
    "from bokeh.plotting import figure\n",
    "from bokeh.models import Range1d, Legend\n",
    "from bokeh.palettes import all_palettes\n",
    "\n",
    "import matplotlib\n",
    "import matplotlib.pyplot as plt\n",
    "import numpy as np\n",
    "import pandas as pd\n",
    "import xarray as xr\n",
    "\n",
    "import climatools.lblnew.bestfit_params as bestfits\n",
    "from climatools.lblnew import setup_bestfit, setup_overlap\n",
    "import climatools.lblnew.pipeline as pipe_lblnew\n",
    "import climatools.cliradlw.setup as setup_cliradlw\n",
    "import climatools.cliradlw.pipeline as pipe_cliradlw\n",
    "\n",
    "import climatools.html.html as climahtml\n",
    "from climatools.lblnew.dataio import *\n",
    "from climatools.plot.plot import *\n",
    "\n",
    "\n",
    "import IPython.display as display"
   ]
  },
  {
   "cell_type": "code",
   "execution_count": 2,
   "metadata": {
    "collapsed": true
   },
   "outputs": [],
   "source": [
    "%run param.py"
   ]
  },
  {
   "cell_type": "code",
   "execution_count": 3,
   "metadata": {
    "collapsed": true
   },
   "outputs": [],
   "source": [
    "def load_output_file(path_csv):\n",
    "    '''\n",
    "    Load lblnew output .csv file to xarray.Dataset\n",
    "    \n",
    "    Parameters\n",
    "    ----------\n",
    "    path_csv: str\n",
    "              Path to the .csv file to be loaded.\n",
    "    ds: xarray.Dataset\n",
    "        Data in the input file in the form of an xarray.Dataset.\n",
    "    '''\n",
    "    toindex = ['band', 'pressure', 'igg', 'g']    \n",
    "    df = pd.read_csv(path_csv, sep=r'\\s+')\n",
    "    df = df.set_index([i for i in toindex if i in df.columns])\n",
    "    df = df.rename(columns={'sfu': 'flug',\n",
    "                            'sfd': 'fldg',\n",
    "                            'fnet': 'fnetg',\n",
    "                            'coolr': 'coolrg'})\n",
    "    ds = xr.Dataset.from_dataframe(df)\n",
    "\n",
    "    for l in ('level', 'layer'):\n",
    "        if l in ds.data_vars:\n",
    "            if len(ds[l].dims) > 1:\n",
    "                surface = {d: 0 for d in ds.dims if d != 'pressure'}\n",
    "                coord_level = ds[l][surface]\n",
    "                ds.coords[l] = ('pressure', coord_level)\n",
    "            else:\n",
    "                ds.coords[l] = ('pressure', ds[l])\n",
    "    \n",
    "    return ds"
   ]
  },
  {
   "cell_type": "code",
   "execution_count": 4,
   "metadata": {
    "collapsed": true
   },
   "outputs": [],
   "source": [
    "def lblnew_setup(param=None):\n",
    "    if 'ng_refs' in param:\n",
    "        return {'setup': setup_bestfit,\n",
    "                'fname_flux_crd': 'output_flux.dat',\n",
    "                'fname_cool_crd': 'output_coolr.dat',\n",
    "                'fname_flux_wgt': 'output_wfluxg.dat',\n",
    "                'fname_cool_wgt': 'output_wcoolrg.dat'}\n",
    "    else:\n",
    "        return {'setup': setup_overlap,\n",
    "                'fname_flux_crd': 'output_flux.dat',\n",
    "                'fname_cool_crd': 'output_coolr.dat',\n",
    "                'fname_flux_wgt': 'output_wflux.dat',\n",
    "                'fname_cool_wgt': 'output_wcoolr.dat'}\n",
    "\n",
    "    \n",
    "def load_lblnew_data(param):\n",
    "    \n",
    "    fname_dsname = [('fname_flux_crd', 'ds_flux_crd'),\n",
    "                    ('fname_cool_crd', 'ds_cool_crd'),\n",
    "                    ('fname_flux_wgt', 'ds_flux_wgt'),\n",
    "                    ('fname_cool_wgt', 'ds_cool_wgt')]\n",
    "    \n",
    "    d = lblnew_setup(param)\n",
    "    dir_fortran = pipe_lblnew.get_dir_case(param, setup=d['setup'])\n",
    "    \n",
    "    data_dict = {}\n",
    "    for fname, dsname in fname_dsname:\n",
    "        fpath = os.path.join(dir_fortran, d[fname])\n",
    "        data_dict[dsname] = load_output_file(fpath)\n",
    "    return data_dict\n",
    "    \n",
    "\n",
    "    \n",
    "    "
   ]
  },
  {
   "cell_type": "code",
   "execution_count": 5,
   "metadata": {
    "collapsed": true
   },
   "outputs": [],
   "source": [
    "d = load_lblnew_data(PARAM_LBLNEW)\n",
    "\n",
    "DS_FLUX_CRD = d['ds_flux_crd']\n",
    "DS_COOL_CRD = d['ds_cool_crd']\n",
    "DS_FLUX_WGT = d['ds_flux_wgt']\n",
    "DS_COOL_WGT = d['ds_cool_wgt']"
   ]
  },
  {
   "cell_type": "code",
   "execution_count": 6,
   "metadata": {
    "collapsed": true
   },
   "outputs": [],
   "source": [
    "DIR_FORTRAN = pipe_cliradlw.get_fortran_dir(PARAM, \n",
    "                                            setup=setup_cliradlw)\n",
    "\n",
    "PATH_FLUX = os.path.join(DIR_FORTRAN, 'output_flux.dat')\n",
    "PATH_COOL = os.path.join(DIR_FORTRAN, 'output_coolr.dat')\n",
    "\n",
    "DS_FLUX = load_output_file(PATH_FLUX)\n",
    "DS_COOL = load_output_file(PATH_COOL)"
   ]
  },
  {
   "cell_type": "code",
   "execution_count": 7,
   "metadata": {
    "collapsed": true
   },
   "outputs": [
    {
     "data": {
      "text/html": [
       "\n",
       "    <div class=\"bk-root\">\n",
       "        <a href=\"https://bokeh.pydata.org\" target=\"_blank\" class=\"bk-logo bk-logo-small bk-logo-notebook\"></a>\n",
       "        <span id=\"c72b883a-ed77-46a9-abcc-f0b3a1e406d8\">Loading BokehJS ...</span>\n",
       "    </div>"
      ]
     },
     "metadata": {},
     "output_type": "display_data"
    },
    {
     "data": {
      "application/javascript": [
       "\n",
       "(function(root) {\n",
       "  function now() {\n",
       "    return new Date();\n",
       "  }\n",
       "\n",
       "  var force = true;\n",
       "\n",
       "  if (typeof (root._bokeh_onload_callbacks) === \"undefined\" || force === true) {\n",
       "    root._bokeh_onload_callbacks = [];\n",
       "    root._bokeh_is_loading = undefined;\n",
       "  }\n",
       "\n",
       "  var JS_MIME_TYPE = 'application/javascript';\n",
       "  var HTML_MIME_TYPE = 'text/html';\n",
       "  var EXEC_MIME_TYPE = 'application/vnd.bokehjs_exec.v0+json';\n",
       "  var CLASS_NAME = 'output_bokeh rendered_html';\n",
       "\n",
       "  /**\n",
       "   * Render data to the DOM node\n",
       "   */\n",
       "  function render(props, node) {\n",
       "    var script = document.createElement(\"script\");\n",
       "    node.appendChild(script);\n",
       "  }\n",
       "\n",
       "  /**\n",
       "   * Handle when an output is cleared or removed\n",
       "   */\n",
       "  function handleClearOutput(event, handle) {\n",
       "    var cell = handle.cell;\n",
       "\n",
       "    var id = cell.output_area._bokeh_element_id;\n",
       "    var server_id = cell.output_area._bokeh_server_id;\n",
       "    // Clean up Bokeh references\n",
       "    if (id !== undefined) {\n",
       "      Bokeh.index[id].model.document.clear();\n",
       "      delete Bokeh.index[id];\n",
       "    }\n",
       "\n",
       "    if (server_id !== undefined) {\n",
       "      // Clean up Bokeh references\n",
       "      var cmd = \"from bokeh.io.state import curstate; print(curstate().uuid_to_server['\" + server_id + \"'].get_sessions()[0].document.roots[0]._id)\";\n",
       "      cell.notebook.kernel.execute(cmd, {\n",
       "        iopub: {\n",
       "          output: function(msg) {\n",
       "            var element_id = msg.content.text.trim();\n",
       "            Bokeh.index[element_id].model.document.clear();\n",
       "            delete Bokeh.index[element_id];\n",
       "          }\n",
       "        }\n",
       "      });\n",
       "      // Destroy server and session\n",
       "      var cmd = \"import bokeh.io.notebook as ion; ion.destroy_server('\" + server_id + \"')\";\n",
       "      cell.notebook.kernel.execute(cmd);\n",
       "    }\n",
       "  }\n",
       "\n",
       "  /**\n",
       "   * Handle when a new output is added\n",
       "   */\n",
       "  function handleAddOutput(event, handle) {\n",
       "    var output_area = handle.output_area;\n",
       "    var output = handle.output;\n",
       "\n",
       "    // limit handleAddOutput to display_data with EXEC_MIME_TYPE content only\n",
       "    if ((output.output_type != \"display_data\") || (!output.data.hasOwnProperty(EXEC_MIME_TYPE))) {\n",
       "      return\n",
       "    }\n",
       "\n",
       "    var toinsert = output_area.element.find(\".\" + CLASS_NAME.split(' ')[0]);\n",
       "\n",
       "    if (output.metadata[EXEC_MIME_TYPE][\"id\"] !== undefined) {\n",
       "      toinsert[0].firstChild.textContent = output.data[JS_MIME_TYPE];\n",
       "      // store reference to embed id on output_area\n",
       "      output_area._bokeh_element_id = output.metadata[EXEC_MIME_TYPE][\"id\"];\n",
       "    }\n",
       "    if (output.metadata[EXEC_MIME_TYPE][\"server_id\"] !== undefined) {\n",
       "      var bk_div = document.createElement(\"div\");\n",
       "      bk_div.innerHTML = output.data[HTML_MIME_TYPE];\n",
       "      var script_attrs = bk_div.children[0].attributes;\n",
       "      for (var i = 0; i < script_attrs.length; i++) {\n",
       "        toinsert[0].firstChild.setAttribute(script_attrs[i].name, script_attrs[i].value);\n",
       "      }\n",
       "      // store reference to server id on output_area\n",
       "      output_area._bokeh_server_id = output.metadata[EXEC_MIME_TYPE][\"server_id\"];\n",
       "    }\n",
       "  }\n",
       "\n",
       "  function register_renderer(events, OutputArea) {\n",
       "\n",
       "    function append_mime(data, metadata, element) {\n",
       "      // create a DOM node to render to\n",
       "      var toinsert = this.create_output_subarea(\n",
       "        metadata,\n",
       "        CLASS_NAME,\n",
       "        EXEC_MIME_TYPE\n",
       "      );\n",
       "      this.keyboard_manager.register_events(toinsert);\n",
       "      // Render to node\n",
       "      var props = {data: data, metadata: metadata[EXEC_MIME_TYPE]};\n",
       "      render(props, toinsert[0]);\n",
       "      element.append(toinsert);\n",
       "      return toinsert\n",
       "    }\n",
       "\n",
       "    /* Handle when an output is cleared or removed */\n",
       "    events.on('clear_output.CodeCell', handleClearOutput);\n",
       "    events.on('delete.Cell', handleClearOutput);\n",
       "\n",
       "    /* Handle when a new output is added */\n",
       "    events.on('output_added.OutputArea', handleAddOutput);\n",
       "\n",
       "    /**\n",
       "     * Register the mime type and append_mime function with output_area\n",
       "     */\n",
       "    OutputArea.prototype.register_mime_type(EXEC_MIME_TYPE, append_mime, {\n",
       "      /* Is output safe? */\n",
       "      safe: true,\n",
       "      /* Index of renderer in `output_area.display_order` */\n",
       "      index: 0\n",
       "    });\n",
       "  }\n",
       "\n",
       "  // register the mime type if in Jupyter Notebook environment and previously unregistered\n",
       "  if (root.Jupyter !== undefined) {\n",
       "    var events = require('base/js/events');\n",
       "    var OutputArea = require('notebook/js/outputarea').OutputArea;\n",
       "\n",
       "    if (OutputArea.prototype.mime_types().indexOf(EXEC_MIME_TYPE) == -1) {\n",
       "      register_renderer(events, OutputArea);\n",
       "    }\n",
       "  }\n",
       "\n",
       "  \n",
       "  if (typeof (root._bokeh_timeout) === \"undefined\" || force === true) {\n",
       "    root._bokeh_timeout = Date.now() + 5000;\n",
       "    root._bokeh_failed_load = false;\n",
       "  }\n",
       "\n",
       "  var NB_LOAD_WARNING = {'data': {'text/html':\n",
       "     \"<div style='background-color: #fdd'>\\n\"+\n",
       "     \"<p>\\n\"+\n",
       "     \"BokehJS does not appear to have successfully loaded. If loading BokehJS from CDN, this \\n\"+\n",
       "     \"may be due to a slow or bad network connection. Possible fixes:\\n\"+\n",
       "     \"</p>\\n\"+\n",
       "     \"<ul>\\n\"+\n",
       "     \"<li>re-rerun `output_notebook()` to attempt to load from CDN again, or</li>\\n\"+\n",
       "     \"<li>use INLINE resources instead, as so:</li>\\n\"+\n",
       "     \"</ul>\\n\"+\n",
       "     \"<code>\\n\"+\n",
       "     \"from bokeh.resources import INLINE\\n\"+\n",
       "     \"output_notebook(resources=INLINE)\\n\"+\n",
       "     \"</code>\\n\"+\n",
       "     \"</div>\"}};\n",
       "\n",
       "  function display_loaded() {\n",
       "    var el = document.getElementById(\"c72b883a-ed77-46a9-abcc-f0b3a1e406d8\");\n",
       "    if (el != null) {\n",
       "      el.textContent = \"BokehJS is loading...\";\n",
       "    }\n",
       "    if (root.Bokeh !== undefined) {\n",
       "      if (el != null) {\n",
       "        el.textContent = \"BokehJS \" + root.Bokeh.version + \" successfully loaded.\";\n",
       "      }\n",
       "    } else if (Date.now() < root._bokeh_timeout) {\n",
       "      setTimeout(display_loaded, 100)\n",
       "    }\n",
       "  }\n",
       "\n",
       "\n",
       "  function run_callbacks() {\n",
       "    try {\n",
       "      root._bokeh_onload_callbacks.forEach(function(callback) { callback() });\n",
       "    }\n",
       "    finally {\n",
       "      delete root._bokeh_onload_callbacks\n",
       "    }\n",
       "    console.info(\"Bokeh: all callbacks have finished\");\n",
       "  }\n",
       "\n",
       "  function load_libs(js_urls, callback) {\n",
       "    root._bokeh_onload_callbacks.push(callback);\n",
       "    if (root._bokeh_is_loading > 0) {\n",
       "      console.log(\"Bokeh: BokehJS is being loaded, scheduling callback at\", now());\n",
       "      return null;\n",
       "    }\n",
       "    if (js_urls == null || js_urls.length === 0) {\n",
       "      run_callbacks();\n",
       "      return null;\n",
       "    }\n",
       "    console.log(\"Bokeh: BokehJS not loaded, scheduling load and callback at\", now());\n",
       "    root._bokeh_is_loading = js_urls.length;\n",
       "    for (var i = 0; i < js_urls.length; i++) {\n",
       "      var url = js_urls[i];\n",
       "      var s = document.createElement('script');\n",
       "      s.src = url;\n",
       "      s.async = false;\n",
       "      s.onreadystatechange = s.onload = function() {\n",
       "        root._bokeh_is_loading--;\n",
       "        if (root._bokeh_is_loading === 0) {\n",
       "          console.log(\"Bokeh: all BokehJS libraries loaded\");\n",
       "          run_callbacks()\n",
       "        }\n",
       "      };\n",
       "      s.onerror = function() {\n",
       "        console.warn(\"failed to load library \" + url);\n",
       "      };\n",
       "      console.log(\"Bokeh: injecting script tag for BokehJS library: \", url);\n",
       "      document.getElementsByTagName(\"head\")[0].appendChild(s);\n",
       "    }\n",
       "  };var element = document.getElementById(\"c72b883a-ed77-46a9-abcc-f0b3a1e406d8\");\n",
       "  if (element == null) {\n",
       "    console.log(\"Bokeh: ERROR: autoload.js configured with elementid 'c72b883a-ed77-46a9-abcc-f0b3a1e406d8' but no matching script tag was found. \")\n",
       "    return false;\n",
       "  }\n",
       "\n",
       "  var js_urls = [\"https://cdn.pydata.org/bokeh/release/bokeh-0.12.14.min.js\", \"https://cdn.pydata.org/bokeh/release/bokeh-widgets-0.12.14.min.js\", \"https://cdn.pydata.org/bokeh/release/bokeh-tables-0.12.14.min.js\", \"https://cdn.pydata.org/bokeh/release/bokeh-gl-0.12.14.min.js\"];\n",
       "\n",
       "  var inline_js = [\n",
       "    function(Bokeh) {\n",
       "      Bokeh.set_log_level(\"info\");\n",
       "    },\n",
       "    \n",
       "    function(Bokeh) {\n",
       "      \n",
       "    },\n",
       "    function(Bokeh) {\n",
       "      console.log(\"Bokeh: injecting CSS: https://cdn.pydata.org/bokeh/release/bokeh-0.12.14.min.css\");\n",
       "      Bokeh.embed.inject_css(\"https://cdn.pydata.org/bokeh/release/bokeh-0.12.14.min.css\");\n",
       "      console.log(\"Bokeh: injecting CSS: https://cdn.pydata.org/bokeh/release/bokeh-widgets-0.12.14.min.css\");\n",
       "      Bokeh.embed.inject_css(\"https://cdn.pydata.org/bokeh/release/bokeh-widgets-0.12.14.min.css\");\n",
       "      console.log(\"Bokeh: injecting CSS: https://cdn.pydata.org/bokeh/release/bokeh-tables-0.12.14.min.css\");\n",
       "      Bokeh.embed.inject_css(\"https://cdn.pydata.org/bokeh/release/bokeh-tables-0.12.14.min.css\");\n",
       "    }\n",
       "  ];\n",
       "\n",
       "  function run_inline_js() {\n",
       "    \n",
       "    if ((root.Bokeh !== undefined) || (force === true)) {\n",
       "      for (var i = 0; i < inline_js.length; i++) {\n",
       "        inline_js[i].call(root, root.Bokeh);\n",
       "      }if (force === true) {\n",
       "        display_loaded();\n",
       "      }} else if (Date.now() < root._bokeh_timeout) {\n",
       "      setTimeout(run_inline_js, 100);\n",
       "    } else if (!root._bokeh_failed_load) {\n",
       "      console.log(\"Bokeh: BokehJS failed to load within specified timeout.\");\n",
       "      root._bokeh_failed_load = true;\n",
       "    } else if (force !== true) {\n",
       "      var cell = $(document.getElementById(\"c72b883a-ed77-46a9-abcc-f0b3a1e406d8\")).parents('.cell').data().cell;\n",
       "      cell.output_area.append_execute_result(NB_LOAD_WARNING)\n",
       "    }\n",
       "\n",
       "  }\n",
       "\n",
       "  if (root._bokeh_is_loading === 0) {\n",
       "    console.log(\"Bokeh: BokehJS loaded, going straight to plotting\");\n",
       "    run_inline_js();\n",
       "  } else {\n",
       "    load_libs(js_urls, function() {\n",
       "      console.log(\"Bokeh: BokehJS plotting callback run at\", now());\n",
       "      run_inline_js();\n",
       "    });\n",
       "  }\n",
       "}(window));"
      ],
      "application/vnd.bokehjs_load.v0+json": "\n(function(root) {\n  function now() {\n    return new Date();\n  }\n\n  var force = true;\n\n  if (typeof (root._bokeh_onload_callbacks) === \"undefined\" || force === true) {\n    root._bokeh_onload_callbacks = [];\n    root._bokeh_is_loading = undefined;\n  }\n\n  \n\n  \n  if (typeof (root._bokeh_timeout) === \"undefined\" || force === true) {\n    root._bokeh_timeout = Date.now() + 5000;\n    root._bokeh_failed_load = false;\n  }\n\n  var NB_LOAD_WARNING = {'data': {'text/html':\n     \"<div style='background-color: #fdd'>\\n\"+\n     \"<p>\\n\"+\n     \"BokehJS does not appear to have successfully loaded. If loading BokehJS from CDN, this \\n\"+\n     \"may be due to a slow or bad network connection. Possible fixes:\\n\"+\n     \"</p>\\n\"+\n     \"<ul>\\n\"+\n     \"<li>re-rerun `output_notebook()` to attempt to load from CDN again, or</li>\\n\"+\n     \"<li>use INLINE resources instead, as so:</li>\\n\"+\n     \"</ul>\\n\"+\n     \"<code>\\n\"+\n     \"from bokeh.resources import INLINE\\n\"+\n     \"output_notebook(resources=INLINE)\\n\"+\n     \"</code>\\n\"+\n     \"</div>\"}};\n\n  function display_loaded() {\n    var el = document.getElementById(\"c72b883a-ed77-46a9-abcc-f0b3a1e406d8\");\n    if (el != null) {\n      el.textContent = \"BokehJS is loading...\";\n    }\n    if (root.Bokeh !== undefined) {\n      if (el != null) {\n        el.textContent = \"BokehJS \" + root.Bokeh.version + \" successfully loaded.\";\n      }\n    } else if (Date.now() < root._bokeh_timeout) {\n      setTimeout(display_loaded, 100)\n    }\n  }\n\n\n  function run_callbacks() {\n    try {\n      root._bokeh_onload_callbacks.forEach(function(callback) { callback() });\n    }\n    finally {\n      delete root._bokeh_onload_callbacks\n    }\n    console.info(\"Bokeh: all callbacks have finished\");\n  }\n\n  function load_libs(js_urls, callback) {\n    root._bokeh_onload_callbacks.push(callback);\n    if (root._bokeh_is_loading > 0) {\n      console.log(\"Bokeh: BokehJS is being loaded, scheduling callback at\", now());\n      return null;\n    }\n    if (js_urls == null || js_urls.length === 0) {\n      run_callbacks();\n      return null;\n    }\n    console.log(\"Bokeh: BokehJS not loaded, scheduling load and callback at\", now());\n    root._bokeh_is_loading = js_urls.length;\n    for (var i = 0; i < js_urls.length; i++) {\n      var url = js_urls[i];\n      var s = document.createElement('script');\n      s.src = url;\n      s.async = false;\n      s.onreadystatechange = s.onload = function() {\n        root._bokeh_is_loading--;\n        if (root._bokeh_is_loading === 0) {\n          console.log(\"Bokeh: all BokehJS libraries loaded\");\n          run_callbacks()\n        }\n      };\n      s.onerror = function() {\n        console.warn(\"failed to load library \" + url);\n      };\n      console.log(\"Bokeh: injecting script tag for BokehJS library: \", url);\n      document.getElementsByTagName(\"head\")[0].appendChild(s);\n    }\n  };var element = document.getElementById(\"c72b883a-ed77-46a9-abcc-f0b3a1e406d8\");\n  if (element == null) {\n    console.log(\"Bokeh: ERROR: autoload.js configured with elementid 'c72b883a-ed77-46a9-abcc-f0b3a1e406d8' but no matching script tag was found. \")\n    return false;\n  }\n\n  var js_urls = [\"https://cdn.pydata.org/bokeh/release/bokeh-0.12.14.min.js\", \"https://cdn.pydata.org/bokeh/release/bokeh-widgets-0.12.14.min.js\", \"https://cdn.pydata.org/bokeh/release/bokeh-tables-0.12.14.min.js\", \"https://cdn.pydata.org/bokeh/release/bokeh-gl-0.12.14.min.js\"];\n\n  var inline_js = [\n    function(Bokeh) {\n      Bokeh.set_log_level(\"info\");\n    },\n    \n    function(Bokeh) {\n      \n    },\n    function(Bokeh) {\n      console.log(\"Bokeh: injecting CSS: https://cdn.pydata.org/bokeh/release/bokeh-0.12.14.min.css\");\n      Bokeh.embed.inject_css(\"https://cdn.pydata.org/bokeh/release/bokeh-0.12.14.min.css\");\n      console.log(\"Bokeh: injecting CSS: https://cdn.pydata.org/bokeh/release/bokeh-widgets-0.12.14.min.css\");\n      Bokeh.embed.inject_css(\"https://cdn.pydata.org/bokeh/release/bokeh-widgets-0.12.14.min.css\");\n      console.log(\"Bokeh: injecting CSS: https://cdn.pydata.org/bokeh/release/bokeh-tables-0.12.14.min.css\");\n      Bokeh.embed.inject_css(\"https://cdn.pydata.org/bokeh/release/bokeh-tables-0.12.14.min.css\");\n    }\n  ];\n\n  function run_inline_js() {\n    \n    if ((root.Bokeh !== undefined) || (force === true)) {\n      for (var i = 0; i < inline_js.length; i++) {\n        inline_js[i].call(root, root.Bokeh);\n      }if (force === true) {\n        display_loaded();\n      }} else if (Date.now() < root._bokeh_timeout) {\n      setTimeout(run_inline_js, 100);\n    } else if (!root._bokeh_failed_load) {\n      console.log(\"Bokeh: BokehJS failed to load within specified timeout.\");\n      root._bokeh_failed_load = true;\n    } else if (force !== true) {\n      var cell = $(document.getElementById(\"c72b883a-ed77-46a9-abcc-f0b3a1e406d8\")).parents('.cell').data().cell;\n      cell.output_area.append_execute_result(NB_LOAD_WARNING)\n    }\n\n  }\n\n  if (root._bokeh_is_loading === 0) {\n    console.log(\"Bokeh: BokehJS loaded, going straight to plotting\");\n    run_inline_js();\n  } else {\n    load_libs(js_urls, function() {\n      console.log(\"Bokeh: BokehJS plotting callback run at\", now());\n      run_inline_js();\n    });\n  }\n}(window));"
     },
     "metadata": {},
     "output_type": "display_data"
    }
   ],
   "source": [
    "output_notebook()"
   ]
  },
  {
   "cell_type": "code",
   "execution_count": 8,
   "metadata": {
    "collapsed": true
   },
   "outputs": [],
   "source": [
    "def fmt_cool(ds_in):\n",
    "    ds = ds_in.copy(deep=True)\n",
    "    if 'igg' in ds.dims:\n",
    "        ds = ds.sel(igg=1)\n",
    "\n",
    "    if 'g' in ds.dims:\n",
    "        ds = ds.sum('g')\n",
    "            \n",
    "    if 'band' in ds.dims:\n",
    "        try:\n",
    "            ds = ds.squeeze('band')\n",
    "        except ValueError:\n",
    "            ds = ds.sum('band')\n",
    "                \n",
    "    return ds['coolrg']\n",
    "\n",
    "\n",
    "def pltdata_cooling_1(ds_cool=None,\n",
    "                      ds_cool_crd=None, ds_cool_wgt=None):\n",
    "    \n",
    "\n",
    "\n",
    "    colors = all_palettes['Set1'][4]\n",
    "    data = [{'label': 'CLIRAD `coolr_bands`',\n",
    "             'srs': fmt_cool(ds_cool),\n",
    "             'line_dash': 'dashed', 'line_width': 5,\n",
    "             'color': colors[0], 'alpha': .6},\n",
    "            {'label': 'CRD',\n",
    "             'srs': fmt_cool(ds_cool_crd),\n",
    "             'line_dash': 'solid', 'line_width': 1.5,\n",
    "             'marker': 'circle', 'marker_size': 5,\n",
    "             'color': colors[2], 'alpha': 1,},\n",
    "            {'label': 'WGT igg=10 wgt_flux=2',\n",
    "             'srs': fmt_cool(ds_cool_wgt),\n",
    "             'line_dash': 'solid', 'line_width': 3,\n",
    "             'marker': 'square', 'marker_size': 5,\n",
    "             'color': colors[3], 'alpha': .6}]\n",
    "    return data\n",
    "\n",
    "\n",
    "def nice_xlims(pltdata=None, prange=None):\n",
    "    \n",
    "    def get_slice(srs):\n",
    "        return srs.sel(pressure=slice(*prange))\n",
    "    \n",
    "    srss = [d['srs'] for d in pltdata]\n",
    "    vmin = min([get_slice(srs).min() for srs in srss])\n",
    "    vmax = max([get_slice(srs).max() for srs in srss])\n",
    "    dv = (vmax - vmin) * .01\n",
    "    return float(vmin - dv), float(vmax + dv)\n",
    "    \n",
    "\n",
    "def plt_cooling_bokeh(pltdata=None):\n",
    "    '''\n",
    "    Plot a list of cooling rate profiles using bokeh.\n",
    "    '''\n",
    "    ymin = 1e-2 \n",
    "    ymax = 1020 \n",
    "        \n",
    "    p1 = figure(title=\"Linear pressure scale\", \n",
    "                plot_width=400)        \n",
    "    xmin, xmax = nice_xlims(pltdata, prange=(50, 1050))\n",
    "    for d in pltdata:\n",
    "        if 'marker' in d:\n",
    "            getattr(p1, d['marker'])(d['srs'].values, \n",
    "                    d['srs'].coords['pressure'].values,\n",
    "                    color=d['color'], alpha=.7)\n",
    "        p1.line(d['srs'].values, \n",
    "                d['srs'].coords['pressure'].values,\n",
    "                color=d['color'], alpha=d['alpha'], \n",
    "                line_width=d['line_width'], line_dash=d['line_dash'])\n",
    "    \n",
    "    p1.y_range = Range1d(ymax, ymin)\n",
    "    p1.yaxis.axis_label = 'pressure [mb]'   \n",
    "    p1.x_range = Range1d(xmin, xmax)\n",
    "    p1.xaxis.axis_label = 'cooling rate [K/day]'\n",
    "            \n",
    "    p2 = figure(title='Log pressure scale', y_axis_type='log',\n",
    "                plot_width=560)\n",
    "    xmin, xmax = nice_xlims(pltdata, prange=(.01, 200))\n",
    "    \n",
    "    rs = []\n",
    "    for d in pltdata:\n",
    "        rd = []\n",
    "        if 'marker' in d:\n",
    "            r_mark = getattr(p2, d['marker'])(d['srs'].values, \n",
    "                        d['srs'].coords['pressure'].values,\n",
    "                        color=d['color'], alpha=.7)\n",
    "            rd.append(r_mark)\n",
    "        r_line = p2.line(d['srs'].values, \n",
    "                    d['srs'].coords['pressure'].values,\n",
    "                    color=d['color'], alpha=d['alpha'], \n",
    "                    line_width=d['line_width'], line_dash=d['line_dash'])\n",
    "        rd.append(r_line)\n",
    "      \n",
    "        rs.append(rd)\n",
    "        \n",
    "    p2.y_range = Range1d(ymax, ymin)  \n",
    "    p2.yaxis.axis_label = 'pressure [mb]'\n",
    "    \n",
    "    p2.x_range = Range1d(xmin, xmax)\n",
    "    p2.xaxis.axis_label = 'cooling rate [K/day]'\n",
    "    \n",
    "    items = [(d['label'], r) for r, d in zip(rs, pltdata)]\n",
    "    legend = Legend(items=items, location=(10, -30))\n",
    "    legend.label_text_font_size = '8pt'\n",
    "    \n",
    "    p2.add_layout(legend, 'right')  \n",
    "    \n",
    "    show(gridplot(p1, p2, ncols=2, plot_height=500))\n",
    "    \n",
    "\n",
    "def script_plt_cooling():\n",
    "    pltdata = pltdata_cooling_1(\n",
    "        ds_cool=DS_COOL,\n",
    "        ds_cool_crd=DS_COOL_CRD,\n",
    "        ds_cool_wgt=DS_COOL_WGT)\n",
    "    plt_cooling_bokeh(pltdata=pltdata)\n",
    "    print('''FIGURE. Cooling rate profiles.''')"
   ]
  },
  {
   "cell_type": "code",
   "execution_count": 9,
   "metadata": {
    "collapsed": true
   },
   "outputs": [],
   "source": [
    "def fmt_flux(ds_in):\n",
    "    ds = ds_in.copy(deep=True)\n",
    "    \n",
    "    for l in ('level', 'layer'):\n",
    "        if l in ds.data_vars:\n",
    "            if len(ds[l].dims) > 1:\n",
    "                surface = {d: 0 for d in ds.dims if d != 'pressure'}\n",
    "                coord_level = ds[l][surface]\n",
    "                ds.coords[l] = ('pressure', coord_level)\n",
    "            else:\n",
    "                ds.coords[l] = ('pressure', ds[l])\n",
    "        \n",
    "    ds = ds.isel(pressure=[0, 23, -1])\n",
    "        \n",
    "    if 'igg' in ds.dims:\n",
    "        ds = ds.sel(igg=[1])\n",
    "        ds = ds.squeeze('igg').drop('igg')\n",
    "    \n",
    "    if 'g' in ds.dims:\n",
    "        ds = ds.sum('g')\n",
    "            \n",
    "    if 'band' in ds.dims:\n",
    "        try:\n",
    "            ds = ds.squeeze('band').drop('band')\n",
    "        except ValueError:\n",
    "            ds = ds.sum('band')\n",
    "                \n",
    "    df = ds.to_dataframe()\n",
    "    df = df.set_index('level', append=True)               \n",
    "    return df\n",
    "\n",
    "\n",
    "def tbdata_flux(ds_flux=None, ds_flux_crd=None, ds_flux_wgt=None):\n",
    "    ilevels = [0, 23, -1]\n",
    "            \n",
    "    benchmark = {'label': 'WGT igg=10 wgt_flux=1',\n",
    "                 'df': fmt_flux(ds_flux_wgt)}\n",
    "    \n",
    "    tbs = [{'label': 'CRD',\n",
    "            'df': fmt_flux(ds_flux_crd)},\n",
    "           {'label': 'CLIRAD',\n",
    "            'df': fmt_flux(ds_flux)}]\n",
    "    \n",
    "    data = {'benchmark': benchmark, 'others': tbs}\n",
    "    return data\n",
    "\n",
    "\n",
    "def tb_flux(tbdata=None):\n",
    "    benchmark = tbdata['benchmark']\n",
    "    others = tbdata['others']\n",
    "    \n",
    "    def show_tb(d=None):\n",
    "        display.display(d['df'])\n",
    "        print('Table.', 'Fluxes.', d['label'])\n",
    "        \n",
    "    def show_tbdiff(d0=None, d=None):\n",
    "        df = d['df']\n",
    "        df.index = d0['df'].index\n",
    "        display.display(df - d0['df'])\n",
    "        print('Table.', 'Fluxes.', \n",
    "              '({}) - ({})'.format(d['label'], d0['label']))\n",
    "        \n",
    "    show_tb(benchmark)\n",
    "    for d in others:\n",
    "        show_tb(d)\n",
    "        \n",
    "    for d in others:\n",
    "        show_tbdiff(d=d, d0=benchmark)\n",
    "        \n",
    "        \n",
    "def script_tb_flux():\n",
    "    data = tbdata_flux(ds_flux=DS_FLUX,\n",
    "                       ds_flux_crd=DS_FLUX_CRD,\n",
    "                       ds_flux_wgt=DS_FLUX_WGT)\n",
    "    tb_flux(tbdata=data)"
   ]
  },
  {
   "cell_type": "code",
   "execution_count": 10,
   "metadata": {
    "collapsed": true
   },
   "outputs": [],
   "source": [
    "def band_map():\n",
    "    '''\n",
    "    Maps spectral bands in lblnew to spectral bands in clirad.\n",
    "    '''\n",
    "    lblnew2clirad = {'1': '1',\n",
    "            '2': '2',\n",
    "            '3a': '3',\n",
    "            '3b': '4',\n",
    "            '3c': '5',\n",
    "            '4': '6', \n",
    "            '5': '7',\n",
    "            '6': '8',\n",
    "            '7': '9', \n",
    "            '8': '10',\n",
    "            '9': '11'}\n",
    "    \n",
    "    clirad2lblnew = {clirad: lblnew \n",
    "                     for lblnew, clirad in lblnew2clirad.items()}\n",
    "    return clirad2lblnew\n",
    "\n",
    "\n",
    "def gasbands():\n",
    "    bmap = band_map()\n",
    "    gases = list(PARAM['molecule'].keys())\n",
    "    \n",
    "    bands = [bmap[str(b)] for b in PARAM['band']]\n",
    "    return list(itertools.product(gases, bands))\n",
    "\n",
    "\n",
    "def print_bestfit_params():\n",
    "    print('Best-fit values for each (gas, band)')\n",
    "    print('------------------------------------')\n",
    "    for gas, band in gasbands():\n",
    "        print('o {} band{}'.format(gas, band))\n",
    "        param = bestfits.kdist_params(molecule=gas, band=band)\n",
    "        for name, value in sorted(param.items()):\n",
    "            print(2 * ' ' + '{} = {}'.format(name, value))\n",
    "\n",
    "        \n",
    "def print_input_param():        \n",
    "    for name, value in PARAM.items():\n",
    "        print('{} = {}'.format(name, value))\n",
    "        \n",
    "        \n",
    "def print_lblnew_param():\n",
    "    for name, value in sorted(PARAM_LBLNEW.items()):\n",
    "        print('{} = {}'.format(name, value))\n"
   ]
  },
  {
   "cell_type": "code",
   "execution_count": 11,
   "metadata": {
    "collapsed": true,
    "scrolled": false
   },
   "outputs": [],
   "source": [
    "def show_html(s):\n",
    "    display.display(display.HTML(s))\n",
    "\n",
    "    \n",
    "def show_markdown(s):\n",
    "    display.display(display.Markdown(s))\n",
    "\n",
    "    \n",
    "def script():\n",
    "    \n",
    "    title = '### CLIRAD-LW'\n",
    "    s_input = 'Input Parameters'\n",
    "    s_lblnew_param = 'LBLNEW case compaired against'\n",
    "    s_bestfits = 'Best-fit Parameters'\n",
    "    s_plt_cooling = 'Cooling Rate Profiles'\n",
    "    s_tb_flux = 'Flux Comparison'\n",
    "    \n",
    "    # title\n",
    "    show_markdown('### CLIRAD-LW')\n",
    "    \n",
    "    # TOC\n",
    "    show_markdown('### Table of Contents')\n",
    "    show_html(climahtml.getHTML_hrefanchor(s_input))\n",
    "    show_html(climahtml.getHTML_hrefanchor(s_lblnew_param))\n",
    "    show_html(climahtml.getHTML_hrefanchor(s_plt_cooling))\n",
    "    show_html(climahtml.getHTML_hrefanchor(s_tb_flux))\n",
    "    show_html(climahtml.getHTML_hrefanchor(s_bestfits))\n",
    "    \n",
    "    # Input parameters\n",
    "    show_html(climahtml.getHTML_idanchor(s_input))\n",
    "    show_markdown(climahtml.getMarkdown_sectitle(s_input))\n",
    "    print_input_param()\n",
    "    \n",
    "    # LBLNEW parameters \n",
    "    show_html(climahtml.getHTML_idanchor(s_lblnew_param))\n",
    "    show_markdown(climahtml.getMarkdown_sectitle(s_lblnew_param))\n",
    "    print_lblnew_param()\n",
    "    \n",
    "    # Cooling rate profiles\n",
    "    show_html(climahtml.getHTML_idanchor(s_plt_cooling))\n",
    "    show_markdown(climahtml.getMarkdown_sectitle(s_plt_cooling))\n",
    "    script_plt_cooling()\n",
    "    \n",
    "    # Flux comparison\n",
    "    show_html(climahtml.getHTML_idanchor(s_tb_flux))\n",
    "    show_markdown(climahtml.getMarkdown_sectitle(s_tb_flux))\n",
    "    script_tb_flux()\n",
    "    \n",
    "    # Best-fit values\n",
    "    show_html(climahtml.getHTML_idanchor(s_bestfits))\n",
    "    show_markdown(climahtml.getMarkdown_sectitle(s_bestfits))\n",
    "    print_bestfit_params()\n",
    "   \n",
    "    "
   ]
  },
  {
   "cell_type": "code",
   "execution_count": 12,
   "metadata": {
    "collapsed": true,
    "scrolled": false
   },
   "outputs": [
    {
     "data": {
      "text/markdown": [
       "### CLIRAD-LW"
      ],
      "text/plain": [
       "<IPython.core.display.Markdown object>"
      ]
     },
     "metadata": {},
     "output_type": "display_data"
    },
    {
     "data": {
      "text/markdown": [
       "### Table of Contents"
      ],
      "text/plain": [
       "<IPython.core.display.Markdown object>"
      ]
     },
     "metadata": {},
     "output_type": "display_data"
    },
    {
     "data": {
      "text/html": [
       "<a href=\"#Input_Parameters\">Input Parameters</a>"
      ],
      "text/plain": [
       "<IPython.core.display.HTML object>"
      ]
     },
     "metadata": {},
     "output_type": "display_data"
    },
    {
     "data": {
      "text/html": [
       "<a href=\"#LBLNEW_case_compaired_against\">LBLNEW case compaired against</a>"
      ],
      "text/plain": [
       "<IPython.core.display.HTML object>"
      ]
     },
     "metadata": {},
     "output_type": "display_data"
    },
    {
     "data": {
      "text/html": [
       "<a href=\"#Cooling_Rate_Profiles\">Cooling Rate Profiles</a>"
      ],
      "text/plain": [
       "<IPython.core.display.HTML object>"
      ]
     },
     "metadata": {},
     "output_type": "display_data"
    },
    {
     "data": {
      "text/html": [
       "<a href=\"#Flux_Comparison\">Flux Comparison</a>"
      ],
      "text/plain": [
       "<IPython.core.display.HTML object>"
      ]
     },
     "metadata": {},
     "output_type": "display_data"
    },
    {
     "data": {
      "text/html": [
       "<a href=\"#Best-fit_Parameters\">Best-fit Parameters</a>"
      ],
      "text/plain": [
       "<IPython.core.display.HTML object>"
      ]
     },
     "metadata": {},
     "output_type": "display_data"
    },
    {
     "data": {
      "text/html": [
       "<a id=\"Input_Parameters\"></a>"
      ],
      "text/plain": [
       "<IPython.core.display.HTML object>"
      ]
     },
     "metadata": {},
     "output_type": "display_data"
    },
    {
     "data": {
      "text/markdown": [
       "# Input Parameters"
      ],
      "text/plain": [
       "<IPython.core.display.Markdown object>"
      ]
     },
     "metadata": {},
     "output_type": "display_data"
    },
    {
     "name": "stdout",
     "output_type": "stream",
     "text": [
      "atmpro = trp\n",
      "band = [3]\n",
      "commitnumber = 0c003ef\n",
      "molecule = {'co2': 0.0004}\n",
      "tsfc = 300\n"
     ]
    },
    {
     "data": {
      "text/html": [
       "<a id=\"LBLNEW_case_compaired_against\"></a>"
      ],
      "text/plain": [
       "<IPython.core.display.HTML object>"
      ]
     },
     "metadata": {},
     "output_type": "display_data"
    },
    {
     "data": {
      "text/markdown": [
       "# LBLNEW case compaired against"
      ],
      "text/plain": [
       "<IPython.core.display.Markdown object>"
      ]
     },
     "metadata": {},
     "output_type": "display_data"
    },
    {
     "name": "stdout",
     "output_type": "stream",
     "text": [
      "atmpro = trp\n",
      "band = 3a\n",
      "commitnumber = 2bd1f75\n",
      "conc = 0.0004\n",
      "dv = 0.01\n",
      "klin = 6.375563e-24\n",
      "molecule = co2\n",
      "ng_adju = [0, 0, 0]\n",
      "ng_refs = [3, 2, 4]\n",
      "nv = 100\n",
      "option_compute_btable = 0\n",
      "option_compute_ktable = 0\n",
      "option_wgt_flux = 1\n",
      "option_wgt_k = 1\n",
      "ref_pts = [(1, 250), (10, 250), (500, 250)]\n",
      "tsfc = 300\n",
      "vmax = 620\n",
      "vmin = 540\n",
      "w_diffuse = [(1.6, 1.6, 1.7), (1.75, 1.75), (1.55, 1.55, 1.6, 1.85)]\n",
      "wgt = [(0.7, 0.3, 0.7), (0.7, 0.6), (0.4, 0.5, 0.8, 0.95)]\n"
     ]
    },
    {
     "data": {
      "text/html": [
       "<a id=\"Cooling_Rate_Profiles\"></a>"
      ],
      "text/plain": [
       "<IPython.core.display.HTML object>"
      ]
     },
     "metadata": {},
     "output_type": "display_data"
    },
    {
     "data": {
      "text/markdown": [
       "# Cooling Rate Profiles"
      ],
      "text/plain": [
       "<IPython.core.display.Markdown object>"
      ]
     },
     "metadata": {},
     "output_type": "display_data"
    },
    {
     "data": {
      "text/html": [
       "\n",
       "<div class=\"bk-root\">\n",
       "    <div class=\"bk-plotdiv\" id=\"7123fd83-b042-4e9f-8f97-d6dd59c5dbdb\"></div>\n",
       "</div>"
      ]
     },
     "metadata": {},
     "output_type": "display_data"
    },
    {
     "data": {
      "application/javascript": [
       "(function(root) {\n",
       "  function embed_document(root) {\n",
       "    \n",
       "  var docs_json = {\"17338490-f7c0-4bc1-82e8-20d3f3e15e1e\":{\"roots\":{\"references\":[{\"attributes\":{\"data_source\":{\"id\":\"0027ac21-f7ad-4156-93c4-822127edf6af\",\"type\":\"ColumnDataSource\"},\"glyph\":{\"id\":\"423df8a4-d770-43bd-bb92-88b8d2d86984\",\"type\":\"Line\"},\"hover_glyph\":null,\"muted_glyph\":null,\"nonselection_glyph\":{\"id\":\"738ae420-e00b-45d9-9065-c70d46704672\",\"type\":\"Line\"},\"selection_glyph\":null,\"view\":{\"id\":\"4f3211cd-9082-4fb1-bd54-bdfb8d7b14fd\",\"type\":\"CDSView\"}},\"id\":\"a562c336-2735-4420-8f4e-06bd35922724\",\"type\":\"GlyphRenderer\"},{\"attributes\":{\"bottom_units\":\"screen\",\"fill_alpha\":{\"value\":0.5},\"fill_color\":{\"value\":\"lightgrey\"},\"left_units\":\"screen\",\"level\":\"overlay\",\"line_alpha\":{\"value\":1.0},\"line_color\":{\"value\":\"black\"},\"line_dash\":[4,4],\"line_width\":{\"value\":2},\"plot\":null,\"render_mode\":\"css\",\"right_units\":\"screen\",\"top_units\":\"screen\"},\"id\":\"5c1784c0-b048-4bae-b301-28e3ba087dff\",\"type\":\"BoxAnnotation\"},{\"attributes\":{\"fill_alpha\":{\"value\":0.1},\"fill_color\":{\"value\":\"#1f77b4\"},\"line_alpha\":{\"value\":0.1},\"line_color\":{\"value\":\"#1f77b4\"},\"x\":{\"field\":\"x\"},\"y\":{\"field\":\"y\"}},\"id\":\"a10a4967-4a47-4ea6-841d-87b2bf392c8e\",\"type\":\"Circle\"},{\"attributes\":{\"overlay\":{\"id\":\"5c1784c0-b048-4bae-b301-28e3ba087dff\",\"type\":\"BoxAnnotation\"}},\"id\":\"8b1d0bc2-d647-43eb-be0a-62802071d5e5\",\"type\":\"BoxZoomTool\"},{\"attributes\":{},\"id\":\"8c03b498-5c64-4a84-8ef8-c3964ea53b2b\",\"type\":\"HelpTool\"},{\"attributes\":{},\"id\":\"340f3bc7-a96c-46f8-9eb1-9383aa9ec86b\",\"type\":\"ResetTool\"},{\"attributes\":{\"callback\":null,\"column_names\":[\"x\",\"y\"],\"data\":{\"x\":{\"__ndarray__\":\"qj+IhdZa2j8G4PoLmBvaP+jLoBSMzto/ctr4uNta2z/MtUfz8LPbPxESDmIM0ds/tffrRgaW2z/gIbUe+PfaP9OsQ6DA3Nk/eQE47nsx2D/DGh1G9+LVP3BMBcvH5NI/4CxG2TJLzj8Fx8CVR5LFP+LMr+YAwcE/DudMoKnTxT+2os1xbhPMPxhOiG8XENE/oZUHK0bE1D94yShkIdnZP0eyBYxHrOA/ZS+ho9HU5T/Da2636tvmPxM0PZPD6OM//Vnit9e44D/rQFIbByTaP0cQnVTqCNQ/Cg3lwILmzj+zz8a+IkfIP3xXkKhIbMM/xLpttiTNvj+doG4ciJe3P58akgfgbrE/HsfNeHSGqT9CVUIzLJ+ZP2xfuqztnXG/qpoMBlhdl7+Ig9VvXlCUv1TzBBl0j2u/t1mCrY7zfT/2mtz3wVyRP4doxU6ws5o/PLGvvn/IoT958CykcPulP08lwSND8ak/ltk5MC2orT9OOZEm/4+wP/CVE8lkLLI/b5EocpCpsz+n3YKB9Ai1PxJtQ5y5TbY/0hS4dzh6tz98/QSojZC4P1a6WKTLk7k/DnOb09mHuj/EK8VlR3C7P8TJw2O7Urw/83Iampk2vT/PFzkT7CK+PwrjXeRUIb8/nDfK0U4TwD86z5Z7mnbAP6+XpghwesA/n4CaGJoEwD/uqu4uo5q+P6kCpOzjV70/vDWXuOG5vD9rA8Etada8P86Rrvymbr0/3r6aRSBFvj8rGHTGIEW/P+qkjPKrPcA/pqPzTPUFwT9aDhVfxCnCPyrv2/dFlcQ/\",\"dtype\":\"float64\",\"shape\":[75]},\"y\":{\"__ndarray__\":\"GhExyth1ND/Sv8nbtpRIP2vylNV0PVE/aTum7souWD/At0SJ8fVgPw3Iuahxymc/MSNhhJWvcD/bTfBN02d3P2zb5nxnaoA/CD5h5MAGhz8NmeH1TyaQP+zrCsc9p5Y/LbKd76fGnz/bLW5ISEmmPww9YvTcQq8/JV2OstnstT8Er5Y7M8G+P0c+r3jqkcU/5h99k6ZBzj88bCIzFzjVP4enV8oyxN0//yH99nXg5D8qOpLLf0jtP5kqGJXUifQ/c9cS8kHP/D+/DpwzojQEQIEmwoanVwxA4lgXt9HgE0BSSZ2AJuIbQAMJih9jjiNA5q4l5INuK0AwTKYKRj0zQNv5fmq8/DpAaCJseHrtQkB/+zpwzoxKQM3MzMzMeFJAZmZmZmZqWEAAAAAAAFxeQM3MzMzMJmJAmpmZmZkfZUBmZmZmZhhoQDMzMzMzEWtAAAAAAAAKbkBmZmZmZoFwQM3MzMzM/XFAMzMzMzN6c0CamZmZmfZ0QAAAAAAAc3ZAZmZmZmbvd0DNzMzMzGt5QDMzMzMz6HpAmpmZmZlkfEAAAAAAAOF9QGZmZmZmXX9AZmZmZuZsgECamZmZGSuBQM3MzMxM6YFAAAAAAICngkAzMzMzs2WDQGZmZmbmI4RAmpmZmRnihEDNzMzMTKCFQAAAAACAXoZAMzMzM7Mch0BmZmZm5tqHQJqZmZkZmYhAzczMzExXiUAAAAAAgBWKQDMzMzOz04pAZmZmZuaRi0CamZmZGVCMQM3MzMxMDo1AAAAAAIDMjUAzMzMzs4qOQGZmZmbmSI9A\",\"dtype\":\"float64\",\"shape\":[75]}}},\"id\":\"c8f8c1a2-d6b2-4969-bc72-06fc450f9bb3\",\"type\":\"ColumnDataSource\"},{\"attributes\":{\"axis_label\":\"cooling rate [K/day]\",\"formatter\":{\"id\":\"ef802d5e-e377-401c-b0ce-4177f0cf937d\",\"type\":\"BasicTickFormatter\"},\"plot\":{\"id\":\"cee9b2a4-0e94-4a72-b4e2-8a9e263d2c54\",\"subtype\":\"Figure\",\"type\":\"Plot\"},\"ticker\":{\"id\":\"216d8920-bfc5-4fd2-9a74-2f7cb7c93263\",\"type\":\"BasicTicker\"}},\"id\":\"305651e7-b1df-4212-b269-22c855f24124\",\"type\":\"LinearAxis\"},{\"attributes\":{\"callback\":null,\"column_names\":[\"x\",\"y\"],\"data\":{\"x\":{\"__ndarray__\":\"X9ODglK0zT8X2c73U2PAP7VAksRYh9E/YuQbwBHT1D8fHOTcw7HNP555vSRj79A/yWst5d8b0j+uDVf/ztPSPzqQFuPTjtM/vZdvOzzd0j+bssueoUvTP3MXvEPletI/lPLeQYFx0D+8EMTcYjzNPySp2Nrz48s/1sMbwsYv0D8YjWPBUAnTP17X7bs7FdQ//bKDY/kn1D+7dcRCKXHVP92w0Hsh7No/W3Av/vCS4j9df/kBm5XkPwXE4j/23eI/3cFf/tBt4D/C9EG/hMTaP8nyhfuOAtY/kO8YPwlD0j9nFMO8ZO/NPwJFsJp8bcc/GJwcmaK3wT+lqXVNDsC5P/ZQ4kA2s7E/dh7B/+kVqT+NM8WdhDKcP/fFhwAtuEi/q2llYr3Ilb/z3B9IDnOSvx47fGGb6DC/xRS04n40hj+clZlEUESVP96dm4cqNJ4/An4lQczmoj/fvSf/KCSmP+Lo+qNHCqk/C0AYgmCxqz+zXrudRTuuP6jAV+GHZLA/YEFnwMOusT8Zy2ahrP6yP6J/9OD9V7Q/r2pQAR67tT94Txte2x63Pxni/V1EgLg/rTSlzDjTuT8zDXFJYSC7P3xcflSBYrw/lhbDD62ZvT/dW9O0csy+P6dle18i/78/OxleQYGUwD/kcx9nNwbBP1ERyKFVGME/ObW3hBG1wD/I04/ZmxDAP36joW+g+r4/977h09Znvj+NSfv24Hu+P93FA+ND/b4/zQx2HnC4vz86l8GcyUzAP0MKM6eq1MA/cJ25ZnaGwT83KVgliYzCPyXyduf9vcQ/\",\"dtype\":\"float64\",\"shape\":[75]},\"y\":{\"__ndarray__\":\"S/O/Q+51ND/430zAtpRIP2vylNV0PVE/QxsjCssuWD/TR4Z78fVgP+inNsRxymc/OuuBfZWvcD/u3TFA02d3P2d3VoBnaoA/CD5h5MAGhz/1pA8HUCaQP+zrCsc9p5Y/Fb7LAKjGnz/nJ9c/SEmmPwBD+fzcQq8/FOZwv9nstT8Er5Y7M8G+P0c+r3jqkcU/yK72qKZBzj+tM989FzjVPxbgmr8yxN0/cOm5AXbg5D+5ctXAf0jtP5kqGJXUifQ/DsrqDELP/D8MCAhBojQEQDItVnmnVwxAiFXNvdHgE0BSSZ2AJuIbQAMJih9jjiNA5q4l5INuK0CPVN/5RT0zQHzxRXu8/DpAOZ7PgHrtQkAg8wGBzoxKQBSTN8DMeFJA2NmQf2ZqWEAAAAAAAFxeQEQX1LfMJmJAmpmZmZkfZUBmZmZmZhhoQLzoK0gzEWtAAAAAAAAKbkCiC+pbZoFwQAhyUMLM/XFA+I2vPTN6c0AQ5KCEmfZ0QAAAAAAAc3ZA8Btfe2bvd0AIclDCzGt5QPeNrz0z6HpAEOSghJlkfEAAAAAAAOF9QKML6ltmXX9ABTkoYeZsgED7xteeGSuBQAhyUMJM6YFAAAAAAICngkD4ja89s2WDQAU5KGHmI4RA+8bXnhnihEAIclDCTKCFQAAAAACAXoZA+I2vPbMch0AFOShh5tqHQPvG154ZmYhACHJQwkxXiUAAAAAAgBWKQPeNrz2z04pABTkoYeaRi0D7xteeGVCMQAlyUMJMDo1AAAAAAIDMjUD3ja89s4qOQGZmZmbmSI9A\",\"dtype\":\"float64\",\"shape\":[75]}}},\"id\":\"0027ac21-f7ad-4156-93c4-822127edf6af\",\"type\":\"ColumnDataSource\"},{\"attributes\":{\"line_alpha\":0.1,\"line_color\":\"#1f77b4\",\"line_width\":1.5,\"x\":{\"field\":\"x\"},\"y\":{\"field\":\"y\"}},\"id\":\"07febd8b-4fb4-49fd-9cb2-93cc10014f80\",\"type\":\"Line\"},{\"attributes\":{\"dimension\":1,\"plot\":{\"id\":\"cee9b2a4-0e94-4a72-b4e2-8a9e263d2c54\",\"subtype\":\"Figure\",\"type\":\"Plot\"},\"ticker\":{\"id\":\"923ba3b4-6443-4c8a-8233-b7bb6e212678\",\"type\":\"BasicTicker\"}},\"id\":\"f73d7431-9c4d-4c77-b33f-2befb3f92c48\",\"type\":\"Grid\"},{\"attributes\":{\"line_color\":\"#4daf4a\",\"line_width\":1.5,\"x\":{\"field\":\"x\"},\"y\":{\"field\":\"y\"}},\"id\":\"604c0ab1-ea9e-4665-b382-9b48565f1421\",\"type\":\"Line\"},{\"attributes\":{\"callback\":null,\"column_names\":[\"x\",\"y\"],\"data\":{\"x\":{\"__ndarray__\":\"qj+IhdZa2j8G4PoLmBvaP+jLoBSMzto/ctr4uNta2z/MtUfz8LPbPxESDmIM0ds/tffrRgaW2z/gIbUe+PfaP9OsQ6DA3Nk/eQE47nsx2D/DGh1G9+LVP3BMBcvH5NI/4CxG2TJLzj8Fx8CVR5LFP+LMr+YAwcE/DudMoKnTxT+2os1xbhPMPxhOiG8XENE/oZUHK0bE1D94yShkIdnZP0eyBYxHrOA/ZS+ho9HU5T/Da2636tvmPxM0PZPD6OM//Vnit9e44D/rQFIbByTaP0cQnVTqCNQ/Cg3lwILmzj+zz8a+IkfIP3xXkKhIbMM/xLpttiTNvj+doG4ciJe3P58akgfgbrE/HsfNeHSGqT9CVUIzLJ+ZP2xfuqztnXG/qpoMBlhdl7+Ig9VvXlCUv1TzBBl0j2u/t1mCrY7zfT/2mtz3wVyRP4doxU6ws5o/PLGvvn/IoT958CykcPulP08lwSND8ak/ltk5MC2orT9OOZEm/4+wP/CVE8lkLLI/b5EocpCpsz+n3YKB9Ai1PxJtQ5y5TbY/0hS4dzh6tz98/QSojZC4P1a6WKTLk7k/DnOb09mHuj/EK8VlR3C7P8TJw2O7Urw/83Iampk2vT/PFzkT7CK+PwrjXeRUIb8/nDfK0U4TwD86z5Z7mnbAP6+XpghwesA/n4CaGJoEwD/uqu4uo5q+P6kCpOzjV70/vDWXuOG5vD9rA8Etada8P86Rrvymbr0/3r6aRSBFvj8rGHTGIEW/P+qkjPKrPcA/pqPzTPUFwT9aDhVfxCnCPyrv2/dFlcQ/\",\"dtype\":\"float64\",\"shape\":[75]},\"y\":{\"__ndarray__\":\"GhExyth1ND/Sv8nbtpRIP2vylNV0PVE/aTum7souWD/At0SJ8fVgPw3Iuahxymc/MSNhhJWvcD/bTfBN02d3P2zb5nxnaoA/CD5h5MAGhz8NmeH1TyaQP+zrCsc9p5Y/LbKd76fGnz/bLW5ISEmmPww9YvTcQq8/JV2OstnstT8Er5Y7M8G+P0c+r3jqkcU/5h99k6ZBzj88bCIzFzjVP4enV8oyxN0//yH99nXg5D8qOpLLf0jtP5kqGJXUifQ/c9cS8kHP/D+/DpwzojQEQIEmwoanVwxA4lgXt9HgE0BSSZ2AJuIbQAMJih9jjiNA5q4l5INuK0AwTKYKRj0zQNv5fmq8/DpAaCJseHrtQkB/+zpwzoxKQM3MzMzMeFJAZmZmZmZqWEAAAAAAAFxeQM3MzMzMJmJAmpmZmZkfZUBmZmZmZhhoQDMzMzMzEWtAAAAAAAAKbkBmZmZmZoFwQM3MzMzM/XFAMzMzMzN6c0CamZmZmfZ0QAAAAAAAc3ZAZmZmZmbvd0DNzMzMzGt5QDMzMzMz6HpAmpmZmZlkfEAAAAAAAOF9QGZmZmZmXX9AZmZmZuZsgECamZmZGSuBQM3MzMxM6YFAAAAAAICngkAzMzMzs2WDQGZmZmbmI4RAmpmZmRnihEDNzMzMTKCFQAAAAACAXoZAMzMzM7Mch0BmZmZm5tqHQJqZmZkZmYhAzczMzExXiUAAAAAAgBWKQDMzMzOz04pAZmZmZuaRi0CamZmZGVCMQM3MzMxMDo1AAAAAAIDMjUAzMzMzs4qOQGZmZmbmSI9A\",\"dtype\":\"float64\",\"shape\":[75]}}},\"id\":\"dff9f6d4-d8b9-4f51-b73e-770043f4fc0f\",\"type\":\"ColumnDataSource\"},{\"attributes\":{\"callback\":null,\"end\":0.01,\"start\":1020},\"id\":\"8edb2668-00ef-4cce-9622-9afa69a298c0\",\"type\":\"Range1d\"},{\"attributes\":{},\"id\":\"429481c9-7ded-4954-b334-cb37a6c7c3ec\",\"type\":\"LinearScale\"},{\"attributes\":{},\"id\":\"716316bf-f0a2-44c8-b58d-efbfd7d973d5\",\"type\":\"WheelZoomTool\"},{\"attributes\":{},\"id\":\"3ead6e66-d020-4fc7-beec-d96599707f25\",\"type\":\"SaveTool\"},{\"attributes\":{\"plot\":{\"id\":\"cee9b2a4-0e94-4a72-b4e2-8a9e263d2c54\",\"subtype\":\"Figure\",\"type\":\"Plot\"},\"ticker\":{\"id\":\"216d8920-bfc5-4fd2-9a74-2f7cb7c93263\",\"type\":\"BasicTicker\"}},\"id\":\"afa49807-adc0-4aa6-8b7a-34210c794e24\",\"type\":\"Grid\"},{\"attributes\":{},\"id\":\"c9cd91da-fc06-4cc5-923e-94ebf62b931b\",\"type\":\"LinearScale\"},{\"attributes\":{},\"id\":\"216d8920-bfc5-4fd2-9a74-2f7cb7c93263\",\"type\":\"BasicTicker\"},{\"attributes\":{},\"id\":\"923ba3b4-6443-4c8a-8233-b7bb6e212678\",\"type\":\"BasicTicker\"},{\"attributes\":{},\"id\":\"12813c99-d1e5-43a6-85d7-0f2af4905c5f\",\"type\":\"PanTool\"},{\"attributes\":{\"axis_label\":\"pressure [mb]\",\"formatter\":{\"id\":\"030ff62a-e0ad-466a-a31f-a227102a7ea2\",\"type\":\"BasicTickFormatter\"},\"plot\":{\"id\":\"cee9b2a4-0e94-4a72-b4e2-8a9e263d2c54\",\"subtype\":\"Figure\",\"type\":\"Plot\"},\"ticker\":{\"id\":\"923ba3b4-6443-4c8a-8233-b7bb6e212678\",\"type\":\"BasicTicker\"}},\"id\":\"f5c34cf4-92a2-43b0-aff6-57216485f7f9\",\"type\":\"LinearAxis\"},{\"attributes\":{\"data_source\":{\"id\":\"c8f8c1a2-d6b2-4969-bc72-06fc450f9bb3\",\"type\":\"ColumnDataSource\"},\"glyph\":{\"id\":\"604c0ab1-ea9e-4665-b382-9b48565f1421\",\"type\":\"Line\"},\"hover_glyph\":null,\"muted_glyph\":null,\"nonselection_glyph\":{\"id\":\"07febd8b-4fb4-49fd-9cb2-93cc10014f80\",\"type\":\"Line\"},\"selection_glyph\":null,\"view\":{\"id\":\"fac0b2d7-6857-4988-9429-601348845460\",\"type\":\"CDSView\"}},\"id\":\"9e678c1e-ac4d-409d-8b9e-5a9eef06a1fa\",\"type\":\"GlyphRenderer\"},{\"attributes\":{\"callback\":null,\"column_names\":[\"x\",\"y\"],\"data\":{\"x\":{\"__ndarray__\":\"6er/niG61D9LnrlKxOHUPxa5zTrDkdU/q030nIhJ1j/stDLmOuPWPznPkpsVW9c/T2m/Hc6o1z+LFBbycLvXPzpoAoR3f9c/rg3lVIPf1j/j25ggssLVP/eP/nkxBtQ/N7hivaOG0T9bxV5ueKHMP4MIbxlPTco/ZBvVNKq+zj+8+b+9LAfSPxGD2rwokdM/4lFwzXXK1D8XxNeFBVHXP/KQxGjVON0//myIv4yY4z+VLYngNSjlP3lS0Vkg+eI/odku+WVH4D9LAL9Q2GnaP8643dlXmNU/9PqVDMTs0T8tH/NizXTNP5fCX6qobsc/u0P/N9LswT/S0/Rb4HW6Pw+9KsNH9rI/8RyGe2Hlqz/BMOoVPI6eP1gJARJhCVS/Dlx5F5/Alr/3PuqnW8mSv/v3EDlXskk/JMN0/xxPij+75VR3OcOXPz8XfZlmdqA/CBZlI1hkpD9cVkl19sinPzZn6Mf1yao/H9PAEc+HrT9dtfb8CgywP48oNg8zSLE/dfg7mO17sj+bpaSriKqzPzjKH6hd1rQ/Ole6BOP/tT+Su7836yW3Px/1FItaRLg/bCestB1duT9/cllKKnC6P82OI9c6frs/jGzwuUeLvD9+eV1Ac569P/WJHAaQvb4/pR+ZATvhvz/VsQsT7mLAPxXwnuIbdcA/ZOkPJLEQwD+U7f7ly9e+P+hlZ9Gwtr0/ljqQwUEwvT/5ixPcYVe9P8D51mos8b0/1pSorajBvj/5zV/o1ra/P6RyosoCbsA/MUBa/hsqwT+DZQ8C8jzCP6TxxFvsisQ/\",\"dtype\":\"float64\",\"shape\":[75]},\"y\":{\"__ndarray__\":\"GhExyth1ND/Sv8nbtpRIP2vylNV0PVE/aTum7souWD/At0SJ8fVgPw3Iuahxymc/MSNhhJWvcD/bTfBN02d3P2zb5nxnaoA/CD5h5MAGhz8NmeH1TyaQP+zrCsc9p5Y/LbKd76fGnz/bLW5ISEmmPww9YvTcQq8/JV2OstnstT8Er5Y7M8G+P0c+r3jqkcU/5h99k6ZBzj88bCIzFzjVP4enV8oyxN0//yH99nXg5D8qOpLLf0jtP5kqGJXUifQ/c9cS8kHP/D+/DpwzojQEQIEmwoanVwxA4lgXt9HgE0BSSZ2AJuIbQAMJih9jjiNA5q4l5INuK0AwTKYKRj0zQNv5fmq8/DpAaCJseHrtQkB/+zpwzoxKQM3MzMzMeFJAZmZmZmZqWEAAAAAAAFxeQM3MzMzMJmJAmpmZmZkfZUBmZmZmZhhoQDMzMzMzEWtAAAAAAAAKbkBmZmZmZoFwQM3MzMzM/XFAMzMzMzN6c0CamZmZmfZ0QAAAAAAAc3ZAZmZmZmbvd0DNzMzMzGt5QDMzMzMz6HpAmpmZmZlkfEAAAAAAAOF9QGZmZmZmXX9AZmZmZuZsgECamZmZGSuBQM3MzMxM6YFAAAAAAICngkAzMzMzs2WDQGZmZmbmI4RAmpmZmRnihEDNzMzMTKCFQAAAAACAXoZAMzMzM7Mch0BmZmZm5tqHQJqZmZkZmYhAzczMzExXiUAAAAAAgBWKQDMzMzOz04pAZmZmZuaRi0CamZmZGVCMQM3MzMxMDo1AAAAAAIDMjUAzMzMzs4qOQGZmZmbmSI9A\",\"dtype\":\"float64\",\"shape\":[75]}}},\"id\":\"55485a58-1d4e-4270-b1ce-afdc453cd637\",\"type\":\"ColumnDataSource\"},{\"attributes\":{\"data_source\":{\"id\":\"011e2e6a-66a1-4b0b-8dd3-c30f988b0993\",\"type\":\"ColumnDataSource\"},\"glyph\":{\"id\":\"2d135aa8-4508-4705-a922-45d94ae129d8\",\"type\":\"Circle\"},\"hover_glyph\":null,\"muted_glyph\":null,\"nonselection_glyph\":{\"id\":\"d53533ac-11d2-4961-9139-954925da51a0\",\"type\":\"Circle\"},\"selection_glyph\":null,\"view\":{\"id\":\"0e18ba9c-e3bb-4bdb-bafe-774924151d31\",\"type\":\"CDSView\"}},\"id\":\"517c4012-aae6-4b52-b72e-9f3fb5f15126\",\"type\":\"GlyphRenderer\"},{\"attributes\":{\"line_alpha\":0.1,\"line_color\":\"#1f77b4\",\"line_dash\":[6],\"line_width\":5,\"x\":{\"field\":\"x\"},\"y\":{\"field\":\"y\"}},\"id\":\"65d46408-b127-43bc-a6af-0062e454e014\",\"type\":\"Line\"},{\"attributes\":{},\"id\":\"ef802d5e-e377-401c-b0ce-4177f0cf937d\",\"type\":\"BasicTickFormatter\"},{\"attributes\":{\"label\":{\"value\":\"CLIRAD `coolr_bands`\"},\"renderers\":[{\"id\":\"9d7bec08-c2c7-4de5-bbc1-247cfd7b877b\",\"type\":\"GlyphRenderer\"}]},\"id\":\"dfff67f9-e143-4f90-a8e3-cf3b964d2c89\",\"type\":\"LegendItem\"},{\"attributes\":{\"callback\":null,\"column_names\":[\"x\",\"y\"],\"data\":{\"x\":{\"__ndarray__\":\"X9ODglK0zT8X2c73U2PAP7VAksRYh9E/YuQbwBHT1D8fHOTcw7HNP555vSRj79A/yWst5d8b0j+uDVf/ztPSPzqQFuPTjtM/vZdvOzzd0j+bssueoUvTP3MXvEPletI/lPLeQYFx0D+8EMTcYjzNPySp2Nrz48s/1sMbwsYv0D8YjWPBUAnTP17X7bs7FdQ//bKDY/kn1D+7dcRCKXHVP92w0Hsh7No/W3Av/vCS4j9df/kBm5XkPwXE4j/23eI/3cFf/tBt4D/C9EG/hMTaP8nyhfuOAtY/kO8YPwlD0j9nFMO8ZO/NPwJFsJp8bcc/GJwcmaK3wT+lqXVNDsC5P/ZQ4kA2s7E/dh7B/+kVqT+NM8WdhDKcP/fFhwAtuEi/q2llYr3Ilb/z3B9IDnOSvx47fGGb6DC/xRS04n40hj+clZlEUESVP96dm4cqNJ4/An4lQczmoj/fvSf/KCSmP+Lo+qNHCqk/C0AYgmCxqz+zXrudRTuuP6jAV+GHZLA/YEFnwMOusT8Zy2ahrP6yP6J/9OD9V7Q/r2pQAR67tT94Txte2x63Pxni/V1EgLg/rTSlzDjTuT8zDXFJYSC7P3xcflSBYrw/lhbDD62ZvT/dW9O0csy+P6dle18i/78/OxleQYGUwD/kcx9nNwbBP1ERyKFVGME/ObW3hBG1wD/I04/ZmxDAP36joW+g+r4/977h09Znvj+NSfv24Hu+P93FA+ND/b4/zQx2HnC4vz86l8GcyUzAP0MKM6eq1MA/cJ25ZnaGwT83KVgliYzCPyXyduf9vcQ/\",\"dtype\":\"float64\",\"shape\":[75]},\"y\":{\"__ndarray__\":\"S/O/Q+51ND/430zAtpRIP2vylNV0PVE/QxsjCssuWD/TR4Z78fVgP+inNsRxymc/OuuBfZWvcD/u3TFA02d3P2d3VoBnaoA/CD5h5MAGhz/1pA8HUCaQP+zrCsc9p5Y/Fb7LAKjGnz/nJ9c/SEmmPwBD+fzcQq8/FOZwv9nstT8Er5Y7M8G+P0c+r3jqkcU/yK72qKZBzj+tM989FzjVPxbgmr8yxN0/cOm5AXbg5D+5ctXAf0jtP5kqGJXUifQ/DsrqDELP/D8MCAhBojQEQDItVnmnVwxAiFXNvdHgE0BSSZ2AJuIbQAMJih9jjiNA5q4l5INuK0CPVN/5RT0zQHzxRXu8/DpAOZ7PgHrtQkAg8wGBzoxKQBSTN8DMeFJA2NmQf2ZqWEAAAAAAAFxeQEQX1LfMJmJAmpmZmZkfZUBmZmZmZhhoQLzoK0gzEWtAAAAAAAAKbkCiC+pbZoFwQAhyUMLM/XFA+I2vPTN6c0AQ5KCEmfZ0QAAAAAAAc3ZA8Btfe2bvd0AIclDCzGt5QPeNrz0z6HpAEOSghJlkfEAAAAAAAOF9QKML6ltmXX9ABTkoYeZsgED7xteeGSuBQAhyUMJM6YFAAAAAAICngkD4ja89s2WDQAU5KGHmI4RA+8bXnhnihEAIclDCTKCFQAAAAACAXoZA+I2vPbMch0AFOShh5tqHQPvG154ZmYhACHJQwkxXiUAAAAAAgBWKQPeNrz2z04pABTkoYeaRi0D7xteeGVCMQAlyUMJMDo1AAAAAAIDMjUD3ja89s4qOQGZmZmbmSI9A\",\"dtype\":\"float64\",\"shape\":[75]}}},\"id\":\"d7f0a7d3-2790-48d2-bee3-578b26eb58f9\",\"type\":\"ColumnDataSource\"},{\"attributes\":{\"fill_alpha\":{\"value\":0.1},\"fill_color\":{\"value\":\"#1f77b4\"},\"line_alpha\":{\"value\":0.1},\"line_color\":{\"value\":\"#1f77b4\"},\"x\":{\"field\":\"x\"},\"y\":{\"field\":\"y\"}},\"id\":\"e7cdd8e5-bddb-4b71-a720-153f740187ec\",\"type\":\"Square\"},{\"attributes\":{\"line_alpha\":0.1,\"line_color\":\"#1f77b4\",\"line_dash\":[6],\"line_width\":5,\"x\":{\"field\":\"x\"},\"y\":{\"field\":\"y\"}},\"id\":\"738ae420-e00b-45d9-9065-c70d46704672\",\"type\":\"Line\"},{\"attributes\":{\"source\":{\"id\":\"256f4786-9e4e-41ef-8cdf-b00b639adafe\",\"type\":\"ColumnDataSource\"}},\"id\":\"ec5f520a-5617-4133-b919-a8b966b10ccb\",\"type\":\"CDSView\"},{\"attributes\":{\"fill_alpha\":{\"value\":0.7},\"fill_color\":{\"value\":\"#984ea3\"},\"line_alpha\":{\"value\":0.7},\"line_color\":{\"value\":\"#984ea3\"},\"x\":{\"field\":\"x\"},\"y\":{\"field\":\"y\"}},\"id\":\"3aa7bd38-9a27-4f4f-9f74-494447e79f79\",\"type\":\"Square\"},{\"attributes\":{\"source\":{\"id\":\"d7f0a7d3-2790-48d2-bee3-578b26eb58f9\",\"type\":\"ColumnDataSource\"}},\"id\":\"1ec46428-00cd-428b-a0f5-1b77a527912c\",\"type\":\"CDSView\"},{\"attributes\":{},\"id\":\"d188dd47-abc7-494c-b2a9-3ac38f4b362c\",\"type\":\"BasicTickFormatter\"},{\"attributes\":{\"children\":[{\"id\":\"656830c3-5dd7-4e7c-b426-3fbf1a8fe2a0\",\"type\":\"Row\"}]},\"id\":\"73c1e6e2-81ab-47b9-ba55-9a267b84687a\",\"type\":\"Column\"},{\"attributes\":{\"active_drag\":\"auto\",\"active_inspect\":\"auto\",\"active_scroll\":\"auto\",\"active_tap\":\"auto\",\"tools\":[{\"id\":\"c8869020-4741-487c-88b6-77702ce59cb6\",\"type\":\"PanTool\"},{\"id\":\"5a744230-3c7a-4258-8638-614499df48bb\",\"type\":\"WheelZoomTool\"},{\"id\":\"ea4c4850-0423-4827-99e8-392dd9572481\",\"type\":\"BoxZoomTool\"},{\"id\":\"c1ff09b6-78d3-46d5-bb87-62d0ce1e18b7\",\"type\":\"SaveTool\"},{\"id\":\"cf9f765b-8eed-440f-9dd3-74aa827aee96\",\"type\":\"ResetTool\"},{\"id\":\"29a3eebd-99a2-4a89-93ff-6ebc03908f34\",\"type\":\"HelpTool\"}]},\"id\":\"5038d328-9502-43d1-b56c-4891c4a400fb\",\"type\":\"Toolbar\"},{\"attributes\":{\"callback\":null,\"column_names\":[\"x\",\"y\"],\"data\":{\"x\":{\"__ndarray__\":\"6er/niG61D9LnrlKxOHUPxa5zTrDkdU/q030nIhJ1j/stDLmOuPWPznPkpsVW9c/T2m/Hc6o1z+LFBbycLvXPzpoAoR3f9c/rg3lVIPf1j/j25ggssLVP/eP/nkxBtQ/N7hivaOG0T9bxV5ueKHMP4MIbxlPTco/ZBvVNKq+zj+8+b+9LAfSPxGD2rwokdM/4lFwzXXK1D8XxNeFBVHXP/KQxGjVON0//myIv4yY4z+VLYngNSjlP3lS0Vkg+eI/odku+WVH4D9LAL9Q2GnaP8643dlXmNU/9PqVDMTs0T8tH/NizXTNP5fCX6qobsc/u0P/N9LswT/S0/Rb4HW6Pw+9KsNH9rI/8RyGe2Hlqz/BMOoVPI6eP1gJARJhCVS/Dlx5F5/Alr/3PuqnW8mSv/v3EDlXskk/JMN0/xxPij+75VR3OcOXPz8XfZlmdqA/CBZlI1hkpD9cVkl19sinPzZn6Mf1yao/H9PAEc+HrT9dtfb8CgywP48oNg8zSLE/dfg7mO17sj+bpaSriKqzPzjKH6hd1rQ/Ole6BOP/tT+Su7836yW3Px/1FItaRLg/bCestB1duT9/cllKKnC6P82OI9c6frs/jGzwuUeLvD9+eV1Ac569P/WJHAaQvb4/pR+ZATvhvz/VsQsT7mLAPxXwnuIbdcA/ZOkPJLEQwD+U7f7ly9e+P+hlZ9Gwtr0/ljqQwUEwvT/5ixPcYVe9P8D51mos8b0/1pSorajBvj/5zV/o1ra/P6RyosoCbsA/MUBa/hsqwT+DZQ8C8jzCP6TxxFvsisQ/\",\"dtype\":\"float64\",\"shape\":[75]},\"y\":{\"__ndarray__\":\"GhExyth1ND/Sv8nbtpRIP2vylNV0PVE/aTum7souWD/At0SJ8fVgPw3Iuahxymc/MSNhhJWvcD/bTfBN02d3P2zb5nxnaoA/CD5h5MAGhz8NmeH1TyaQP+zrCsc9p5Y/LbKd76fGnz/bLW5ISEmmPww9YvTcQq8/JV2OstnstT8Er5Y7M8G+P0c+r3jqkcU/5h99k6ZBzj88bCIzFzjVP4enV8oyxN0//yH99nXg5D8qOpLLf0jtP5kqGJXUifQ/c9cS8kHP/D+/DpwzojQEQIEmwoanVwxA4lgXt9HgE0BSSZ2AJuIbQAMJih9jjiNA5q4l5INuK0AwTKYKRj0zQNv5fmq8/DpAaCJseHrtQkB/+zpwzoxKQM3MzMzMeFJAZmZmZmZqWEAAAAAAAFxeQM3MzMzMJmJAmpmZmZkfZUBmZmZmZhhoQDMzMzMzEWtAAAAAAAAKbkBmZmZmZoFwQM3MzMzM/XFAMzMzMzN6c0CamZmZmfZ0QAAAAAAAc3ZAZmZmZmbvd0DNzMzMzGt5QDMzMzMz6HpAmpmZmZlkfEAAAAAAAOF9QGZmZmZmXX9AZmZmZuZsgECamZmZGSuBQM3MzMxM6YFAAAAAAICngkAzMzMzs2WDQGZmZmbmI4RAmpmZmRnihEDNzMzMTKCFQAAAAACAXoZAMzMzM7Mch0BmZmZm5tqHQJqZmZkZmYhAzczMzExXiUAAAAAAgBWKQDMzMzOz04pAZmZmZuaRi0CamZmZGVCMQM3MzMxMDo1AAAAAAIDMjUAzMzMzs4qOQGZmZmbmSI9A\",\"dtype\":\"float64\",\"shape\":[75]}}},\"id\":\"1bd08f64-2051-4592-903c-489c2720168a\",\"type\":\"ColumnDataSource\"},{\"attributes\":{\"fill_alpha\":{\"value\":0.1},\"fill_color\":{\"value\":\"#1f77b4\"},\"line_alpha\":{\"value\":0.1},\"line_color\":{\"value\":\"#1f77b4\"},\"x\":{\"field\":\"x\"},\"y\":{\"field\":\"y\"}},\"id\":\"d53533ac-11d2-4961-9139-954925da51a0\",\"type\":\"Circle\"},{\"attributes\":{\"plot\":{\"id\":\"f7b54adc-f6f1-47ce-ae75-aedc89f7a8b6\",\"subtype\":\"Figure\",\"type\":\"Plot\"},\"ticker\":{\"id\":\"07ee6142-faff-492e-80e8-bc24a901edb8\",\"type\":\"BasicTicker\"}},\"id\":\"f35e2703-cc93-41aa-b78b-9fcb10815715\",\"type\":\"Grid\"},{\"attributes\":{\"fill_alpha\":{\"value\":0.7},\"fill_color\":{\"value\":\"#4daf4a\"},\"line_alpha\":{\"value\":0.7},\"line_color\":{\"value\":\"#4daf4a\"},\"x\":{\"field\":\"x\"},\"y\":{\"field\":\"y\"}},\"id\":\"2d135aa8-4508-4705-a922-45d94ae129d8\",\"type\":\"Circle\"},{\"attributes\":{\"callback\":null,\"end\":0.01,\"start\":1020},\"id\":\"f4776740-b48b-44f7-937b-42626fa76fc1\",\"type\":\"Range1d\"},{\"attributes\":{\"line_alpha\":0.6,\"line_color\":\"#984ea3\",\"line_width\":3,\"x\":{\"field\":\"x\"},\"y\":{\"field\":\"y\"}},\"id\":\"1636ae09-b539-42b5-b458-6f293ef2102a\",\"type\":\"Line\"},{\"attributes\":{\"callback\":null,\"column_names\":[\"x\",\"y\"],\"data\":{\"x\":{\"__ndarray__\":\"qj+IhdZa2j8G4PoLmBvaP+jLoBSMzto/ctr4uNta2z/MtUfz8LPbPxESDmIM0ds/tffrRgaW2z/gIbUe+PfaP9OsQ6DA3Nk/eQE47nsx2D/DGh1G9+LVP3BMBcvH5NI/4CxG2TJLzj8Fx8CVR5LFP+LMr+YAwcE/DudMoKnTxT+2os1xbhPMPxhOiG8XENE/oZUHK0bE1D94yShkIdnZP0eyBYxHrOA/ZS+ho9HU5T/Da2636tvmPxM0PZPD6OM//Vnit9e44D/rQFIbByTaP0cQnVTqCNQ/Cg3lwILmzj+zz8a+IkfIP3xXkKhIbMM/xLpttiTNvj+doG4ciJe3P58akgfgbrE/HsfNeHSGqT9CVUIzLJ+ZP2xfuqztnXG/qpoMBlhdl7+Ig9VvXlCUv1TzBBl0j2u/t1mCrY7zfT/2mtz3wVyRP4doxU6ws5o/PLGvvn/IoT958CykcPulP08lwSND8ak/ltk5MC2orT9OOZEm/4+wP/CVE8lkLLI/b5EocpCpsz+n3YKB9Ai1PxJtQ5y5TbY/0hS4dzh6tz98/QSojZC4P1a6WKTLk7k/DnOb09mHuj/EK8VlR3C7P8TJw2O7Urw/83Iampk2vT/PFzkT7CK+PwrjXeRUIb8/nDfK0U4TwD86z5Z7mnbAP6+XpghwesA/n4CaGJoEwD/uqu4uo5q+P6kCpOzjV70/vDWXuOG5vD9rA8Etada8P86Rrvymbr0/3r6aRSBFvj8rGHTGIEW/P+qkjPKrPcA/pqPzTPUFwT9aDhVfxCnCPyrv2/dFlcQ/\",\"dtype\":\"float64\",\"shape\":[75]},\"y\":{\"__ndarray__\":\"GhExyth1ND/Sv8nbtpRIP2vylNV0PVE/aTum7souWD/At0SJ8fVgPw3Iuahxymc/MSNhhJWvcD/bTfBN02d3P2zb5nxnaoA/CD5h5MAGhz8NmeH1TyaQP+zrCsc9p5Y/LbKd76fGnz/bLW5ISEmmPww9YvTcQq8/JV2OstnstT8Er5Y7M8G+P0c+r3jqkcU/5h99k6ZBzj88bCIzFzjVP4enV8oyxN0//yH99nXg5D8qOpLLf0jtP5kqGJXUifQ/c9cS8kHP/D+/DpwzojQEQIEmwoanVwxA4lgXt9HgE0BSSZ2AJuIbQAMJih9jjiNA5q4l5INuK0AwTKYKRj0zQNv5fmq8/DpAaCJseHrtQkB/+zpwzoxKQM3MzMzMeFJAZmZmZmZqWEAAAAAAAFxeQM3MzMzMJmJAmpmZmZkfZUBmZmZmZhhoQDMzMzMzEWtAAAAAAAAKbkBmZmZmZoFwQM3MzMzM/XFAMzMzMzN6c0CamZmZmfZ0QAAAAAAAc3ZAZmZmZmbvd0DNzMzMzGt5QDMzMzMz6HpAmpmZmZlkfEAAAAAAAOF9QGZmZmZmXX9AZmZmZuZsgECamZmZGSuBQM3MzMxM6YFAAAAAAICngkAzMzMzs2WDQGZmZmbmI4RAmpmZmRnihEDNzMzMTKCFQAAAAACAXoZAMzMzM7Mch0BmZmZm5tqHQJqZmZkZmYhAzczMzExXiUAAAAAAgBWKQDMzMzOz04pAZmZmZuaRi0CamZmZGVCMQM3MzMxMDo1AAAAAAIDMjUAzMzMzs4qOQGZmZmbmSI9A\",\"dtype\":\"float64\",\"shape\":[75]}}},\"id\":\"011e2e6a-66a1-4b0b-8dd3-c30f988b0993\",\"type\":\"ColumnDataSource\"},{\"attributes\":{\"callback\":null,\"end\":0.16389674106000002,\"start\":-0.024665667060000004},\"id\":\"6b7aff41-972a-4b19-b7ca-c27cb5c38227\",\"type\":\"Range1d\"},{\"attributes\":{\"data_source\":{\"id\":\"d7f0a7d3-2790-48d2-bee3-578b26eb58f9\",\"type\":\"ColumnDataSource\"},\"glyph\":{\"id\":\"37d29db4-e40e-4326-8216-8f9db973520a\",\"type\":\"Line\"},\"hover_glyph\":null,\"muted_glyph\":null,\"nonselection_glyph\":{\"id\":\"65d46408-b127-43bc-a6af-0062e454e014\",\"type\":\"Line\"},\"selection_glyph\":null,\"view\":{\"id\":\"1ec46428-00cd-428b-a0f5-1b77a527912c\",\"type\":\"CDSView\"}},\"id\":\"9d7bec08-c2c7-4de5-bbc1-247cfd7b877b\",\"type\":\"GlyphRenderer\"},{\"attributes\":{\"callback\":null,\"column_names\":[\"x\",\"y\"],\"data\":{\"x\":{\"__ndarray__\":\"qj+IhdZa2j8G4PoLmBvaP+jLoBSMzto/ctr4uNta2z/MtUfz8LPbPxESDmIM0ds/tffrRgaW2z/gIbUe+PfaP9OsQ6DA3Nk/eQE47nsx2D/DGh1G9+LVP3BMBcvH5NI/4CxG2TJLzj8Fx8CVR5LFP+LMr+YAwcE/DudMoKnTxT+2os1xbhPMPxhOiG8XENE/oZUHK0bE1D94yShkIdnZP0eyBYxHrOA/ZS+ho9HU5T/Da2636tvmPxM0PZPD6OM//Vnit9e44D/rQFIbByTaP0cQnVTqCNQ/Cg3lwILmzj+zz8a+IkfIP3xXkKhIbMM/xLpttiTNvj+doG4ciJe3P58akgfgbrE/HsfNeHSGqT9CVUIzLJ+ZP2xfuqztnXG/qpoMBlhdl7+Ig9VvXlCUv1TzBBl0j2u/t1mCrY7zfT/2mtz3wVyRP4doxU6ws5o/PLGvvn/IoT958CykcPulP08lwSND8ak/ltk5MC2orT9OOZEm/4+wP/CVE8lkLLI/b5EocpCpsz+n3YKB9Ai1PxJtQ5y5TbY/0hS4dzh6tz98/QSojZC4P1a6WKTLk7k/DnOb09mHuj/EK8VlR3C7P8TJw2O7Urw/83Iampk2vT/PFzkT7CK+PwrjXeRUIb8/nDfK0U4TwD86z5Z7mnbAP6+XpghwesA/n4CaGJoEwD/uqu4uo5q+P6kCpOzjV70/vDWXuOG5vD9rA8Etada8P86Rrvymbr0/3r6aRSBFvj8rGHTGIEW/P+qkjPKrPcA/pqPzTPUFwT9aDhVfxCnCPyrv2/dFlcQ/\",\"dtype\":\"float64\",\"shape\":[75]},\"y\":{\"__ndarray__\":\"GhExyth1ND/Sv8nbtpRIP2vylNV0PVE/aTum7souWD/At0SJ8fVgPw3Iuahxymc/MSNhhJWvcD/bTfBN02d3P2zb5nxnaoA/CD5h5MAGhz8NmeH1TyaQP+zrCsc9p5Y/LbKd76fGnz/bLW5ISEmmPww9YvTcQq8/JV2OstnstT8Er5Y7M8G+P0c+r3jqkcU/5h99k6ZBzj88bCIzFzjVP4enV8oyxN0//yH99nXg5D8qOpLLf0jtP5kqGJXUifQ/c9cS8kHP/D+/DpwzojQEQIEmwoanVwxA4lgXt9HgE0BSSZ2AJuIbQAMJih9jjiNA5q4l5INuK0AwTKYKRj0zQNv5fmq8/DpAaCJseHrtQkB/+zpwzoxKQM3MzMzMeFJAZmZmZmZqWEAAAAAAAFxeQM3MzMzMJmJAmpmZmZkfZUBmZmZmZhhoQDMzMzMzEWtAAAAAAAAKbkBmZmZmZoFwQM3MzMzM/XFAMzMzMzN6c0CamZmZmfZ0QAAAAAAAc3ZAZmZmZmbvd0DNzMzMzGt5QDMzMzMz6HpAmpmZmZlkfEAAAAAAAOF9QGZmZmZmXX9AZmZmZuZsgECamZmZGSuBQM3MzMxM6YFAAAAAAICngkAzMzMzs2WDQGZmZmbmI4RAmpmZmRnihEDNzMzMTKCFQAAAAACAXoZAMzMzM7Mch0BmZmZm5tqHQJqZmZkZmYhAzczMzExXiUAAAAAAgBWKQDMzMzOz04pAZmZmZuaRi0CamZmZGVCMQM3MzMxMDo1AAAAAAIDMjUAzMzMzs4qOQGZmZmbmSI9A\",\"dtype\":\"float64\",\"shape\":[75]}}},\"id\":\"05abecdb-7e94-456a-a335-faf9a5b8ba5a\",\"type\":\"ColumnDataSource\"},{\"attributes\":{\"data_source\":{\"id\":\"256f4786-9e4e-41ef-8cdf-b00b639adafe\",\"type\":\"ColumnDataSource\"},\"glyph\":{\"id\":\"3aa7bd38-9a27-4f4f-9f74-494447e79f79\",\"type\":\"Square\"},\"hover_glyph\":null,\"muted_glyph\":null,\"nonselection_glyph\":{\"id\":\"e7cdd8e5-bddb-4b71-a720-153f740187ec\",\"type\":\"Square\"},\"selection_glyph\":null,\"view\":{\"id\":\"ec5f520a-5617-4133-b919-a8b966b10ccb\",\"type\":\"CDSView\"}},\"id\":\"6d2fde7a-a6b2-4746-92fe-2abdfcdd8cf9\",\"type\":\"GlyphRenderer\"},{\"attributes\":{\"source\":{\"id\":\"011e2e6a-66a1-4b0b-8dd3-c30f988b0993\",\"type\":\"ColumnDataSource\"}},\"id\":\"0e18ba9c-e3bb-4bdb-bafe-774924151d31\",\"type\":\"CDSView\"},{\"attributes\":{\"ticker\":null},\"id\":\"09d03ef4-2383-4bfa-a2d7-10bc0c4ee686\",\"type\":\"LogTickFormatter\"},{\"attributes\":{\"dimension\":1,\"plot\":{\"id\":\"f7b54adc-f6f1-47ce-ae75-aedc89f7a8b6\",\"subtype\":\"Figure\",\"type\":\"Plot\"},\"ticker\":{\"id\":\"70ae46c2-3d9b-4b54-ab69-8b4926e9d748\",\"type\":\"LogTicker\"}},\"id\":\"1a2825e5-6d7b-4a4c-8054-5e1851d78325\",\"type\":\"Grid\"},{\"attributes\":{\"line_color\":\"#4daf4a\",\"line_width\":1.5,\"x\":{\"field\":\"x\"},\"y\":{\"field\":\"y\"}},\"id\":\"03cf9670-fbe1-42ea-932a-1b62a56bdcf5\",\"type\":\"Line\"},{\"attributes\":{\"callback\":null,\"end\":0.7217169433599999,\"start\":-0.030188639360000002},\"id\":\"3b33b3bd-aa73-4f80-b3a3-950e7b5335df\",\"type\":\"Range1d\"},{\"attributes\":{\"data_source\":{\"id\":\"05abecdb-7e94-456a-a335-faf9a5b8ba5a\",\"type\":\"ColumnDataSource\"},\"glyph\":{\"id\":\"03cf9670-fbe1-42ea-932a-1b62a56bdcf5\",\"type\":\"Line\"},\"hover_glyph\":null,\"muted_glyph\":null,\"nonselection_glyph\":{\"id\":\"1c8b6c89-2da7-4bde-9fbf-4b250e0daacf\",\"type\":\"Line\"},\"selection_glyph\":null,\"view\":{\"id\":\"55a53be9-d225-4f98-b32a-3fbfb5af9be9\",\"type\":\"CDSView\"}},\"id\":\"8b33252b-d365-4fff-b5f7-ad9c536bda95\",\"type\":\"GlyphRenderer\"},{\"attributes\":{\"line_alpha\":0.1,\"line_color\":\"#1f77b4\",\"line_width\":3,\"x\":{\"field\":\"x\"},\"y\":{\"field\":\"y\"}},\"id\":\"8682e711-3260-492b-a67d-900265cd9219\",\"type\":\"Line\"},{\"attributes\":{\"line_alpha\":0.1,\"line_color\":\"#1f77b4\",\"line_width\":1.5,\"x\":{\"field\":\"x\"},\"y\":{\"field\":\"y\"}},\"id\":\"1c8b6c89-2da7-4bde-9fbf-4b250e0daacf\",\"type\":\"Line\"},{\"attributes\":{\"label\":{\"value\":\"WGT igg=10 wgt_flux=2\"},\"renderers\":[{\"id\":\"699de09f-2f91-4e31-82ac-970069b66e67\",\"type\":\"GlyphRenderer\"},{\"id\":\"aec460c5-3df5-4b00-a9e7-e55b040baa42\",\"type\":\"GlyphRenderer\"}]},\"id\":\"b5345a97-f19d-4721-bfbe-cb99b8c2bcff\",\"type\":\"LegendItem\"},{\"attributes\":{\"source\":{\"id\":\"05abecdb-7e94-456a-a335-faf9a5b8ba5a\",\"type\":\"ColumnDataSource\"}},\"id\":\"55a53be9-d225-4f98-b32a-3fbfb5af9be9\",\"type\":\"CDSView\"},{\"attributes\":{\"num_minor_ticks\":10},\"id\":\"70ae46c2-3d9b-4b54-ab69-8b4926e9d748\",\"type\":\"LogTicker\"},{\"attributes\":{\"fill_alpha\":{\"value\":0.7},\"fill_color\":{\"value\":\"#984ea3\"},\"line_alpha\":{\"value\":0.7},\"line_color\":{\"value\":\"#984ea3\"},\"x\":{\"field\":\"x\"},\"y\":{\"field\":\"y\"}},\"id\":\"e15c03d4-0d6f-446e-a8d5-23d254364dcf\",\"type\":\"Square\"},{\"attributes\":{\"toolbar\":{\"id\":\"ab8f819e-967e-4de0-8598-b6e4044986b9\",\"type\":\"ProxyToolbar\"},\"toolbar_location\":\"above\"},\"id\":\"b04397f4-853f-4411-b5ec-52910615bdcc\",\"type\":\"ToolbarBox\"},{\"attributes\":{\"source\":{\"id\":\"c40f2d59-778b-413d-952c-1b6f7d7f7105\",\"type\":\"ColumnDataSource\"}},\"id\":\"de188366-dd46-4934-bb6b-78aaed53f93a\",\"type\":\"CDSView\"},{\"attributes\":{\"line_alpha\":0.6,\"line_color\":\"#984ea3\",\"line_width\":3,\"x\":{\"field\":\"x\"},\"y\":{\"field\":\"y\"}},\"id\":\"a6ebef68-0f9d-4ab3-927c-02e285b24c3a\",\"type\":\"Line\"},{\"attributes\":{\"axis_label\":\"cooling rate [K/day]\",\"formatter\":{\"id\":\"d188dd47-abc7-494c-b2a9-3ac38f4b362c\",\"type\":\"BasicTickFormatter\"},\"plot\":{\"id\":\"f7b54adc-f6f1-47ce-ae75-aedc89f7a8b6\",\"subtype\":\"Figure\",\"type\":\"Plot\"},\"ticker\":{\"id\":\"07ee6142-faff-492e-80e8-bc24a901edb8\",\"type\":\"BasicTicker\"}},\"id\":\"cdd86a01-b05b-42a8-b5b2-a21d81dd3cdf\",\"type\":\"LinearAxis\"},{\"attributes\":{},\"id\":\"c8869020-4741-487c-88b6-77702ce59cb6\",\"type\":\"PanTool\"},{\"attributes\":{\"source\":{\"id\":\"1bd08f64-2051-4592-903c-489c2720168a\",\"type\":\"ColumnDataSource\"}},\"id\":\"ff41cd85-a150-463d-b3a3-a7dbfeed1ce4\",\"type\":\"CDSView\"},{\"attributes\":{\"bottom_units\":\"screen\",\"fill_alpha\":{\"value\":0.5},\"fill_color\":{\"value\":\"lightgrey\"},\"left_units\":\"screen\",\"level\":\"overlay\",\"line_alpha\":{\"value\":1.0},\"line_color\":{\"value\":\"black\"},\"line_dash\":[4,4],\"line_width\":{\"value\":2},\"plot\":null,\"render_mode\":\"css\",\"right_units\":\"screen\",\"top_units\":\"screen\"},\"id\":\"5bc933be-6829-4b7f-a096-733ee4121424\",\"type\":\"BoxAnnotation\"},{\"attributes\":{\"fill_alpha\":{\"value\":0.1},\"fill_color\":{\"value\":\"#1f77b4\"},\"line_alpha\":{\"value\":0.1},\"line_color\":{\"value\":\"#1f77b4\"},\"x\":{\"field\":\"x\"},\"y\":{\"field\":\"y\"}},\"id\":\"957b3d47-656f-4675-855f-a48f963daa43\",\"type\":\"Square\"},{\"attributes\":{\"data_source\":{\"id\":\"1bd08f64-2051-4592-903c-489c2720168a\",\"type\":\"ColumnDataSource\"},\"glyph\":{\"id\":\"e15c03d4-0d6f-446e-a8d5-23d254364dcf\",\"type\":\"Square\"},\"hover_glyph\":null,\"muted_glyph\":null,\"nonselection_glyph\":{\"id\":\"957b3d47-656f-4675-855f-a48f963daa43\",\"type\":\"Square\"},\"selection_glyph\":null,\"view\":{\"id\":\"ff41cd85-a150-463d-b3a3-a7dbfeed1ce4\",\"type\":\"CDSView\"}},\"id\":\"699de09f-2f91-4e31-82ac-970069b66e67\",\"type\":\"GlyphRenderer\"},{\"attributes\":{\"fill_alpha\":{\"value\":0.7},\"fill_color\":{\"value\":\"#4daf4a\"},\"line_alpha\":{\"value\":0.7},\"line_color\":{\"value\":\"#4daf4a\"},\"x\":{\"field\":\"x\"},\"y\":{\"field\":\"y\"}},\"id\":\"2a8c296f-b3dd-4b36-b7e6-7e88f1d770cf\",\"type\":\"Circle\"},{\"attributes\":{\"items\":[{\"id\":\"dfff67f9-e143-4f90-a8e3-cf3b964d2c89\",\"type\":\"LegendItem\"},{\"id\":\"1636ac0e-64ea-4315-8267-5ed8aca2079e\",\"type\":\"LegendItem\"},{\"id\":\"b5345a97-f19d-4721-bfbe-cb99b8c2bcff\",\"type\":\"LegendItem\"}],\"label_text_font_size\":{\"value\":\"8pt\"},\"location\":[10,-30],\"plot\":{\"id\":\"f7b54adc-f6f1-47ce-ae75-aedc89f7a8b6\",\"subtype\":\"Figure\",\"type\":\"Plot\"}},\"id\":\"c5c3839a-969f-4917-9bc9-761c83a1703f\",\"type\":\"Legend\"},{\"attributes\":{\"source\":{\"id\":\"0027ac21-f7ad-4156-93c4-822127edf6af\",\"type\":\"ColumnDataSource\"}},\"id\":\"4f3211cd-9082-4fb1-bd54-bdfb8d7b14fd\",\"type\":\"CDSView\"},{\"attributes\":{\"plot\":null,\"text\":\"Log pressure scale\"},\"id\":\"6f6a4971-4584-4fde-808a-6ffa77b65573\",\"type\":\"Title\"},{\"attributes\":{\"source\":{\"id\":\"55485a58-1d4e-4270-b1ce-afdc453cd637\",\"type\":\"ColumnDataSource\"}},\"id\":\"5b8f8f71-4e9a-4865-ac56-f4ff05e6acea\",\"type\":\"CDSView\"},{\"attributes\":{\"below\":[{\"id\":\"cdd86a01-b05b-42a8-b5b2-a21d81dd3cdf\",\"type\":\"LinearAxis\"}],\"left\":[{\"id\":\"dbc6e7c3-e800-49a9-8254-43f18681cc7f\",\"type\":\"LogAxis\"}],\"plot_height\":500,\"plot_width\":560,\"renderers\":[{\"id\":\"cdd86a01-b05b-42a8-b5b2-a21d81dd3cdf\",\"type\":\"LinearAxis\"},{\"id\":\"f35e2703-cc93-41aa-b78b-9fcb10815715\",\"type\":\"Grid\"},{\"id\":\"dbc6e7c3-e800-49a9-8254-43f18681cc7f\",\"type\":\"LogAxis\"},{\"id\":\"1a2825e5-6d7b-4a4c-8054-5e1851d78325\",\"type\":\"Grid\"},{\"id\":\"5bc933be-6829-4b7f-a096-733ee4121424\",\"type\":\"BoxAnnotation\"},{\"id\":\"9d7bec08-c2c7-4de5-bbc1-247cfd7b877b\",\"type\":\"GlyphRenderer\"},{\"id\":\"517c4012-aae6-4b52-b72e-9f3fb5f15126\",\"type\":\"GlyphRenderer\"},{\"id\":\"8b33252b-d365-4fff-b5f7-ad9c536bda95\",\"type\":\"GlyphRenderer\"},{\"id\":\"699de09f-2f91-4e31-82ac-970069b66e67\",\"type\":\"GlyphRenderer\"},{\"id\":\"aec460c5-3df5-4b00-a9e7-e55b040baa42\",\"type\":\"GlyphRenderer\"},{\"id\":\"c5c3839a-969f-4917-9bc9-761c83a1703f\",\"type\":\"Legend\"}],\"right\":[{\"id\":\"c5c3839a-969f-4917-9bc9-761c83a1703f\",\"type\":\"Legend\"}],\"title\":{\"id\":\"6f6a4971-4584-4fde-808a-6ffa77b65573\",\"type\":\"Title\"},\"toolbar\":{\"id\":\"5038d328-9502-43d1-b56c-4891c4a400fb\",\"type\":\"Toolbar\"},\"toolbar_location\":null,\"x_range\":{\"id\":\"3b33b3bd-aa73-4f80-b3a3-950e7b5335df\",\"type\":\"Range1d\"},\"x_scale\":{\"id\":\"d688ad39-cfda-4876-a30b-ec5ac5b9ace8\",\"type\":\"LinearScale\"},\"y_range\":{\"id\":\"f4776740-b48b-44f7-937b-42626fa76fc1\",\"type\":\"Range1d\"},\"y_scale\":{\"id\":\"1a68caf0-707f-4c69-bb69-5090fd3327b3\",\"type\":\"LogScale\"}},\"id\":\"f7b54adc-f6f1-47ce-ae75-aedc89f7a8b6\",\"subtype\":\"Figure\",\"type\":\"Plot\"},{\"attributes\":{\"line_alpha\":0.1,\"line_color\":\"#1f77b4\",\"line_width\":3,\"x\":{\"field\":\"x\"},\"y\":{\"field\":\"y\"}},\"id\":\"4305a986-3afd-46c0-b8f1-fcef20f75b04\",\"type\":\"Line\"},{\"attributes\":{\"data_source\":{\"id\":\"55485a58-1d4e-4270-b1ce-afdc453cd637\",\"type\":\"ColumnDataSource\"},\"glyph\":{\"id\":\"a6ebef68-0f9d-4ab3-927c-02e285b24c3a\",\"type\":\"Line\"},\"hover_glyph\":null,\"muted_glyph\":null,\"nonselection_glyph\":{\"id\":\"4305a986-3afd-46c0-b8f1-fcef20f75b04\",\"type\":\"Line\"},\"selection_glyph\":null,\"view\":{\"id\":\"5b8f8f71-4e9a-4865-ac56-f4ff05e6acea\",\"type\":\"CDSView\"}},\"id\":\"aec460c5-3df5-4b00-a9e7-e55b040baa42\",\"type\":\"GlyphRenderer\"},{\"attributes\":{\"label\":{\"value\":\"CRD\"},\"renderers\":[{\"id\":\"517c4012-aae6-4b52-b72e-9f3fb5f15126\",\"type\":\"GlyphRenderer\"},{\"id\":\"8b33252b-d365-4fff-b5f7-ad9c536bda95\",\"type\":\"GlyphRenderer\"}]},\"id\":\"1636ac0e-64ea-4315-8267-5ed8aca2079e\",\"type\":\"LegendItem\"},{\"attributes\":{\"data_source\":{\"id\":\"c40f2d59-778b-413d-952c-1b6f7d7f7105\",\"type\":\"ColumnDataSource\"},\"glyph\":{\"id\":\"1636ae09-b539-42b5-b458-6f293ef2102a\",\"type\":\"Line\"},\"hover_glyph\":null,\"muted_glyph\":null,\"nonselection_glyph\":{\"id\":\"8682e711-3260-492b-a67d-900265cd9219\",\"type\":\"Line\"},\"selection_glyph\":null,\"view\":{\"id\":\"de188366-dd46-4934-bb6b-78aaed53f93a\",\"type\":\"CDSView\"}},\"id\":\"e22278b1-c8cc-4e55-b0e7-7a604c47685e\",\"type\":\"GlyphRenderer\"},{\"attributes\":{\"plot\":null,\"text\":\"Linear pressure scale\"},\"id\":\"c3a7229d-6c1d-4da5-b934-0d81f4945f6e\",\"type\":\"Title\"},{\"attributes\":{\"tools\":[{\"id\":\"12813c99-d1e5-43a6-85d7-0f2af4905c5f\",\"type\":\"PanTool\"},{\"id\":\"716316bf-f0a2-44c8-b58d-efbfd7d973d5\",\"type\":\"WheelZoomTool\"},{\"id\":\"8b1d0bc2-d647-43eb-be0a-62802071d5e5\",\"type\":\"BoxZoomTool\"},{\"id\":\"3ead6e66-d020-4fc7-beec-d96599707f25\",\"type\":\"SaveTool\"},{\"id\":\"340f3bc7-a96c-46f8-9eb1-9383aa9ec86b\",\"type\":\"ResetTool\"},{\"id\":\"8c03b498-5c64-4a84-8ef8-c3964ea53b2b\",\"type\":\"HelpTool\"},{\"id\":\"c8869020-4741-487c-88b6-77702ce59cb6\",\"type\":\"PanTool\"},{\"id\":\"5a744230-3c7a-4258-8638-614499df48bb\",\"type\":\"WheelZoomTool\"},{\"id\":\"ea4c4850-0423-4827-99e8-392dd9572481\",\"type\":\"BoxZoomTool\"},{\"id\":\"c1ff09b6-78d3-46d5-bb87-62d0ce1e18b7\",\"type\":\"SaveTool\"},{\"id\":\"cf9f765b-8eed-440f-9dd3-74aa827aee96\",\"type\":\"ResetTool\"},{\"id\":\"29a3eebd-99a2-4a89-93ff-6ebc03908f34\",\"type\":\"HelpTool\"}]},\"id\":\"ab8f819e-967e-4de0-8598-b6e4044986b9\",\"type\":\"ProxyToolbar\"},{\"attributes\":{\"children\":[{\"id\":\"b04397f4-853f-4411-b5ec-52910615bdcc\",\"type\":\"ToolbarBox\"},{\"id\":\"73c1e6e2-81ab-47b9-ba55-9a267b84687a\",\"type\":\"Column\"}]},\"id\":\"307314bb-788e-4d7a-9bea-70458cb3c863\",\"type\":\"Column\"},{\"attributes\":{\"source\":{\"id\":\"c8f8c1a2-d6b2-4969-bc72-06fc450f9bb3\",\"type\":\"ColumnDataSource\"}},\"id\":\"fac0b2d7-6857-4988-9429-601348845460\",\"type\":\"CDSView\"},{\"attributes\":{},\"id\":\"030ff62a-e0ad-466a-a31f-a227102a7ea2\",\"type\":\"BasicTickFormatter\"},{\"attributes\":{\"source\":{\"id\":\"dff9f6d4-d8b9-4f51-b73e-770043f4fc0f\",\"type\":\"ColumnDataSource\"}},\"id\":\"82d84358-e05b-44a6-ae92-1764d92e9b0e\",\"type\":\"CDSView\"},{\"attributes\":{},\"id\":\"29a3eebd-99a2-4a89-93ff-6ebc03908f34\",\"type\":\"HelpTool\"},{\"attributes\":{\"data_source\":{\"id\":\"dff9f6d4-d8b9-4f51-b73e-770043f4fc0f\",\"type\":\"ColumnDataSource\"},\"glyph\":{\"id\":\"2a8c296f-b3dd-4b36-b7e6-7e88f1d770cf\",\"type\":\"Circle\"},\"hover_glyph\":null,\"muted_glyph\":null,\"nonselection_glyph\":{\"id\":\"a10a4967-4a47-4ea6-841d-87b2bf392c8e\",\"type\":\"Circle\"},\"selection_glyph\":null,\"view\":{\"id\":\"82d84358-e05b-44a6-ae92-1764d92e9b0e\",\"type\":\"CDSView\"}},\"id\":\"1bce1f83-a1e1-438d-84bf-421a37cbe83b\",\"type\":\"GlyphRenderer\"},{\"attributes\":{},\"id\":\"5a744230-3c7a-4258-8638-614499df48bb\",\"type\":\"WheelZoomTool\"},{\"attributes\":{\"axis_label\":\"pressure [mb]\",\"formatter\":{\"id\":\"09d03ef4-2383-4bfa-a2d7-10bc0c4ee686\",\"type\":\"LogTickFormatter\"},\"plot\":{\"id\":\"f7b54adc-f6f1-47ce-ae75-aedc89f7a8b6\",\"subtype\":\"Figure\",\"type\":\"Plot\"},\"ticker\":{\"id\":\"70ae46c2-3d9b-4b54-ab69-8b4926e9d748\",\"type\":\"LogTicker\"}},\"id\":\"dbc6e7c3-e800-49a9-8254-43f18681cc7f\",\"type\":\"LogAxis\"},{\"attributes\":{},\"id\":\"1a68caf0-707f-4c69-bb69-5090fd3327b3\",\"type\":\"LogScale\"},{\"attributes\":{\"active_drag\":\"auto\",\"active_inspect\":\"auto\",\"active_scroll\":\"auto\",\"active_tap\":\"auto\",\"tools\":[{\"id\":\"12813c99-d1e5-43a6-85d7-0f2af4905c5f\",\"type\":\"PanTool\"},{\"id\":\"716316bf-f0a2-44c8-b58d-efbfd7d973d5\",\"type\":\"WheelZoomTool\"},{\"id\":\"8b1d0bc2-d647-43eb-be0a-62802071d5e5\",\"type\":\"BoxZoomTool\"},{\"id\":\"3ead6e66-d020-4fc7-beec-d96599707f25\",\"type\":\"SaveTool\"},{\"id\":\"340f3bc7-a96c-46f8-9eb1-9383aa9ec86b\",\"type\":\"ResetTool\"},{\"id\":\"8c03b498-5c64-4a84-8ef8-c3964ea53b2b\",\"type\":\"HelpTool\"}]},\"id\":\"97db25b3-871e-490b-af35-e4f92c719672\",\"type\":\"Toolbar\"},{\"attributes\":{\"callback\":null,\"column_names\":[\"x\",\"y\"],\"data\":{\"x\":{\"__ndarray__\":\"6er/niG61D9LnrlKxOHUPxa5zTrDkdU/q030nIhJ1j/stDLmOuPWPznPkpsVW9c/T2m/Hc6o1z+LFBbycLvXPzpoAoR3f9c/rg3lVIPf1j/j25ggssLVP/eP/nkxBtQ/N7hivaOG0T9bxV5ueKHMP4MIbxlPTco/ZBvVNKq+zj+8+b+9LAfSPxGD2rwokdM/4lFwzXXK1D8XxNeFBVHXP/KQxGjVON0//myIv4yY4z+VLYngNSjlP3lS0Vkg+eI/odku+WVH4D9LAL9Q2GnaP8643dlXmNU/9PqVDMTs0T8tH/NizXTNP5fCX6qobsc/u0P/N9LswT/S0/Rb4HW6Pw+9KsNH9rI/8RyGe2Hlqz/BMOoVPI6eP1gJARJhCVS/Dlx5F5/Alr/3PuqnW8mSv/v3EDlXskk/JMN0/xxPij+75VR3OcOXPz8XfZlmdqA/CBZlI1hkpD9cVkl19sinPzZn6Mf1yao/H9PAEc+HrT9dtfb8CgywP48oNg8zSLE/dfg7mO17sj+bpaSriKqzPzjKH6hd1rQ/Ole6BOP/tT+Su7836yW3Px/1FItaRLg/bCestB1duT9/cllKKnC6P82OI9c6frs/jGzwuUeLvD9+eV1Ac569P/WJHAaQvb4/pR+ZATvhvz/VsQsT7mLAPxXwnuIbdcA/ZOkPJLEQwD+U7f7ly9e+P+hlZ9Gwtr0/ljqQwUEwvT/5ixPcYVe9P8D51mos8b0/1pSorajBvj/5zV/o1ra/P6RyosoCbsA/MUBa/hsqwT+DZQ8C8jzCP6TxxFvsisQ/\",\"dtype\":\"float64\",\"shape\":[75]},\"y\":{\"__ndarray__\":\"GhExyth1ND/Sv8nbtpRIP2vylNV0PVE/aTum7souWD/At0SJ8fVgPw3Iuahxymc/MSNhhJWvcD/bTfBN02d3P2zb5nxnaoA/CD5h5MAGhz8NmeH1TyaQP+zrCsc9p5Y/LbKd76fGnz/bLW5ISEmmPww9YvTcQq8/JV2OstnstT8Er5Y7M8G+P0c+r3jqkcU/5h99k6ZBzj88bCIzFzjVP4enV8oyxN0//yH99nXg5D8qOpLLf0jtP5kqGJXUifQ/c9cS8kHP/D+/DpwzojQEQIEmwoanVwxA4lgXt9HgE0BSSZ2AJuIbQAMJih9jjiNA5q4l5INuK0AwTKYKRj0zQNv5fmq8/DpAaCJseHrtQkB/+zpwzoxKQM3MzMzMeFJAZmZmZmZqWEAAAAAAAFxeQM3MzMzMJmJAmpmZmZkfZUBmZmZmZhhoQDMzMzMzEWtAAAAAAAAKbkBmZmZmZoFwQM3MzMzM/XFAMzMzMzN6c0CamZmZmfZ0QAAAAAAAc3ZAZmZmZmbvd0DNzMzMzGt5QDMzMzMz6HpAmpmZmZlkfEAAAAAAAOF9QGZmZmZmXX9AZmZmZuZsgECamZmZGSuBQM3MzMxM6YFAAAAAAICngkAzMzMzs2WDQGZmZmbmI4RAmpmZmRnihEDNzMzMTKCFQAAAAACAXoZAMzMzM7Mch0BmZmZm5tqHQJqZmZkZmYhAzczMzExXiUAAAAAAgBWKQDMzMzOz04pAZmZmZuaRi0CamZmZGVCMQM3MzMxMDo1AAAAAAIDMjUAzMzMzs4qOQGZmZmbmSI9A\",\"dtype\":\"float64\",\"shape\":[75]}}},\"id\":\"256f4786-9e4e-41ef-8cdf-b00b639adafe\",\"type\":\"ColumnDataSource\"},{\"attributes\":{},\"id\":\"cf9f765b-8eed-440f-9dd3-74aa827aee96\",\"type\":\"ResetTool\"},{\"attributes\":{},\"id\":\"d688ad39-cfda-4876-a30b-ec5ac5b9ace8\",\"type\":\"LinearScale\"},{\"attributes\":{\"below\":[{\"id\":\"305651e7-b1df-4212-b269-22c855f24124\",\"type\":\"LinearAxis\"}],\"left\":[{\"id\":\"f5c34cf4-92a2-43b0-aff6-57216485f7f9\",\"type\":\"LinearAxis\"}],\"plot_height\":500,\"plot_width\":400,\"renderers\":[{\"id\":\"305651e7-b1df-4212-b269-22c855f24124\",\"type\":\"LinearAxis\"},{\"id\":\"afa49807-adc0-4aa6-8b7a-34210c794e24\",\"type\":\"Grid\"},{\"id\":\"f5c34cf4-92a2-43b0-aff6-57216485f7f9\",\"type\":\"LinearAxis\"},{\"id\":\"f73d7431-9c4d-4c77-b33f-2befb3f92c48\",\"type\":\"Grid\"},{\"id\":\"5c1784c0-b048-4bae-b301-28e3ba087dff\",\"type\":\"BoxAnnotation\"},{\"id\":\"a562c336-2735-4420-8f4e-06bd35922724\",\"type\":\"GlyphRenderer\"},{\"id\":\"1bce1f83-a1e1-438d-84bf-421a37cbe83b\",\"type\":\"GlyphRenderer\"},{\"id\":\"9e678c1e-ac4d-409d-8b9e-5a9eef06a1fa\",\"type\":\"GlyphRenderer\"},{\"id\":\"6d2fde7a-a6b2-4746-92fe-2abdfcdd8cf9\",\"type\":\"GlyphRenderer\"},{\"id\":\"e22278b1-c8cc-4e55-b0e7-7a604c47685e\",\"type\":\"GlyphRenderer\"}],\"title\":{\"id\":\"c3a7229d-6c1d-4da5-b934-0d81f4945f6e\",\"type\":\"Title\"},\"toolbar\":{\"id\":\"97db25b3-871e-490b-af35-e4f92c719672\",\"type\":\"Toolbar\"},\"toolbar_location\":null,\"x_range\":{\"id\":\"6b7aff41-972a-4b19-b7ca-c27cb5c38227\",\"type\":\"Range1d\"},\"x_scale\":{\"id\":\"c9cd91da-fc06-4cc5-923e-94ebf62b931b\",\"type\":\"LinearScale\"},\"y_range\":{\"id\":\"8edb2668-00ef-4cce-9622-9afa69a298c0\",\"type\":\"Range1d\"},\"y_scale\":{\"id\":\"429481c9-7ded-4954-b334-cb37a6c7c3ec\",\"type\":\"LinearScale\"}},\"id\":\"cee9b2a4-0e94-4a72-b4e2-8a9e263d2c54\",\"subtype\":\"Figure\",\"type\":\"Plot\"},{\"attributes\":{},\"id\":\"07ee6142-faff-492e-80e8-bc24a901edb8\",\"type\":\"BasicTicker\"},{\"attributes\":{\"line_alpha\":0.6,\"line_color\":\"#e41a1c\",\"line_dash\":[6],\"line_width\":5,\"x\":{\"field\":\"x\"},\"y\":{\"field\":\"y\"}},\"id\":\"423df8a4-d770-43bd-bb92-88b8d2d86984\",\"type\":\"Line\"},{\"attributes\":{\"line_alpha\":0.6,\"line_color\":\"#e41a1c\",\"line_dash\":[6],\"line_width\":5,\"x\":{\"field\":\"x\"},\"y\":{\"field\":\"y\"}},\"id\":\"37d29db4-e40e-4326-8216-8f9db973520a\",\"type\":\"Line\"},{\"attributes\":{\"children\":[{\"id\":\"cee9b2a4-0e94-4a72-b4e2-8a9e263d2c54\",\"subtype\":\"Figure\",\"type\":\"Plot\"},{\"id\":\"f7b54adc-f6f1-47ce-ae75-aedc89f7a8b6\",\"subtype\":\"Figure\",\"type\":\"Plot\"}]},\"id\":\"656830c3-5dd7-4e7c-b426-3fbf1a8fe2a0\",\"type\":\"Row\"},{\"attributes\":{\"overlay\":{\"id\":\"5bc933be-6829-4b7f-a096-733ee4121424\",\"type\":\"BoxAnnotation\"}},\"id\":\"ea4c4850-0423-4827-99e8-392dd9572481\",\"type\":\"BoxZoomTool\"},{\"attributes\":{},\"id\":\"c1ff09b6-78d3-46d5-bb87-62d0ce1e18b7\",\"type\":\"SaveTool\"},{\"attributes\":{\"callback\":null,\"column_names\":[\"x\",\"y\"],\"data\":{\"x\":{\"__ndarray__\":\"6er/niG61D9LnrlKxOHUPxa5zTrDkdU/q030nIhJ1j/stDLmOuPWPznPkpsVW9c/T2m/Hc6o1z+LFBbycLvXPzpoAoR3f9c/rg3lVIPf1j/j25ggssLVP/eP/nkxBtQ/N7hivaOG0T9bxV5ueKHMP4MIbxlPTco/ZBvVNKq+zj+8+b+9LAfSPxGD2rwokdM/4lFwzXXK1D8XxNeFBVHXP/KQxGjVON0//myIv4yY4z+VLYngNSjlP3lS0Vkg+eI/odku+WVH4D9LAL9Q2GnaP8643dlXmNU/9PqVDMTs0T8tH/NizXTNP5fCX6qobsc/u0P/N9LswT/S0/Rb4HW6Pw+9KsNH9rI/8RyGe2Hlqz/BMOoVPI6eP1gJARJhCVS/Dlx5F5/Alr/3PuqnW8mSv/v3EDlXskk/JMN0/xxPij+75VR3OcOXPz8XfZlmdqA/CBZlI1hkpD9cVkl19sinPzZn6Mf1yao/H9PAEc+HrT9dtfb8CgywP48oNg8zSLE/dfg7mO17sj+bpaSriKqzPzjKH6hd1rQ/Ole6BOP/tT+Su7836yW3Px/1FItaRLg/bCestB1duT9/cllKKnC6P82OI9c6frs/jGzwuUeLvD9+eV1Ac569P/WJHAaQvb4/pR+ZATvhvz/VsQsT7mLAPxXwnuIbdcA/ZOkPJLEQwD+U7f7ly9e+P+hlZ9Gwtr0/ljqQwUEwvT/5ixPcYVe9P8D51mos8b0/1pSorajBvj/5zV/o1ra/P6RyosoCbsA/MUBa/hsqwT+DZQ8C8jzCP6TxxFvsisQ/\",\"dtype\":\"float64\",\"shape\":[75]},\"y\":{\"__ndarray__\":\"GhExyth1ND/Sv8nbtpRIP2vylNV0PVE/aTum7souWD/At0SJ8fVgPw3Iuahxymc/MSNhhJWvcD/bTfBN02d3P2zb5nxnaoA/CD5h5MAGhz8NmeH1TyaQP+zrCsc9p5Y/LbKd76fGnz/bLW5ISEmmPww9YvTcQq8/JV2OstnstT8Er5Y7M8G+P0c+r3jqkcU/5h99k6ZBzj88bCIzFzjVP4enV8oyxN0//yH99nXg5D8qOpLLf0jtP5kqGJXUifQ/c9cS8kHP/D+/DpwzojQEQIEmwoanVwxA4lgXt9HgE0BSSZ2AJuIbQAMJih9jjiNA5q4l5INuK0AwTKYKRj0zQNv5fmq8/DpAaCJseHrtQkB/+zpwzoxKQM3MzMzMeFJAZmZmZmZqWEAAAAAAAFxeQM3MzMzMJmJAmpmZmZkfZUBmZmZmZhhoQDMzMzMzEWtAAAAAAAAKbkBmZmZmZoFwQM3MzMzM/XFAMzMzMzN6c0CamZmZmfZ0QAAAAAAAc3ZAZmZmZmbvd0DNzMzMzGt5QDMzMzMz6HpAmpmZmZlkfEAAAAAAAOF9QGZmZmZmXX9AZmZmZuZsgECamZmZGSuBQM3MzMxM6YFAAAAAAICngkAzMzMzs2WDQGZmZmbmI4RAmpmZmRnihEDNzMzMTKCFQAAAAACAXoZAMzMzM7Mch0BmZmZm5tqHQJqZmZkZmYhAzczMzExXiUAAAAAAgBWKQDMzMzOz04pAZmZmZuaRi0CamZmZGVCMQM3MzMxMDo1AAAAAAIDMjUAzMzMzs4qOQGZmZmbmSI9A\",\"dtype\":\"float64\",\"shape\":[75]}}},\"id\":\"c40f2d59-778b-413d-952c-1b6f7d7f7105\",\"type\":\"ColumnDataSource\"}],\"root_ids\":[\"307314bb-788e-4d7a-9bea-70458cb3c863\"]},\"title\":\"Bokeh Application\",\"version\":\"0.12.14\"}};\n",
       "  var render_items = [{\"docid\":\"17338490-f7c0-4bc1-82e8-20d3f3e15e1e\",\"elementid\":\"7123fd83-b042-4e9f-8f97-d6dd59c5dbdb\",\"modelid\":\"307314bb-788e-4d7a-9bea-70458cb3c863\"}];\n",
       "  root.Bokeh.embed.embed_items_notebook(docs_json, render_items);\n",
       "\n",
       "  }\n",
       "  if (root.Bokeh !== undefined) {\n",
       "    embed_document(root);\n",
       "  } else {\n",
       "    var attempts = 0;\n",
       "    var timer = setInterval(function(root) {\n",
       "      if (root.Bokeh !== undefined) {\n",
       "        embed_document(root);\n",
       "        clearInterval(timer);\n",
       "      }\n",
       "      attempts++;\n",
       "      if (attempts > 100) {\n",
       "        console.log(\"Bokeh: ERROR: Unable to run BokehJS code because BokehJS library is missing\")\n",
       "        clearInterval(timer);\n",
       "      }\n",
       "    }, 10, root)\n",
       "  }\n",
       "})(window);"
      ],
      "application/vnd.bokehjs_exec.v0+json": ""
     },
     "metadata": {
      "application/vnd.bokehjs_exec.v0+json": {
       "id": "307314bb-788e-4d7a-9bea-70458cb3c863"
      }
     },
     "output_type": "display_data"
    },
    {
     "name": "stdout",
     "output_type": "stream",
     "text": [
      "FIGURE. Cooling rate profiles.\n"
     ]
    },
    {
     "data": {
      "text/html": [
       "<a id=\"Flux_Comparison\"></a>"
      ],
      "text/plain": [
       "<IPython.core.display.HTML object>"
      ]
     },
     "metadata": {},
     "output_type": "display_data"
    },
    {
     "data": {
      "text/markdown": [
       "# Flux Comparison"
      ],
      "text/plain": [
       "<IPython.core.display.Markdown object>"
      ]
     },
     "metadata": {},
     "output_type": "display_data"
    },
    {
     "data": {
      "text/html": [
       "<div>\n",
       "<style>\n",
       "    .dataframe thead tr:only-child th {\n",
       "        text-align: right;\n",
       "    }\n",
       "\n",
       "    .dataframe thead th {\n",
       "        text-align: left;\n",
       "    }\n",
       "\n",
       "    .dataframe tbody tr th {\n",
       "        vertical-align: top;\n",
       "    }\n",
       "</style>\n",
       "<table border=\"1\" class=\"dataframe\">\n",
       "  <thead>\n",
       "    <tr style=\"text-align: right;\">\n",
       "      <th></th>\n",
       "      <th></th>\n",
       "      <th>flug</th>\n",
       "      <th>fldg</th>\n",
       "      <th>fnetg</th>\n",
       "    </tr>\n",
       "    <tr>\n",
       "      <th>pressure</th>\n",
       "      <th>level</th>\n",
       "      <th></th>\n",
       "      <th></th>\n",
       "      <th></th>\n",
       "    </tr>\n",
       "  </thead>\n",
       "  <tbody>\n",
       "    <tr>\n",
       "      <th>0.0000</th>\n",
       "      <th>1</th>\n",
       "      <td>-30.883318</td>\n",
       "      <td>0.000000</td>\n",
       "      <td>-30.883318</td>\n",
       "    </tr>\n",
       "    <tr>\n",
       "      <th>1.0685</th>\n",
       "      <th>24</th>\n",
       "      <td>-30.884221</td>\n",
       "      <td>0.063546</td>\n",
       "      <td>-30.820675</td>\n",
       "    </tr>\n",
       "    <tr>\n",
       "      <th>1013.0000</th>\n",
       "      <th>76</th>\n",
       "      <td>-38.491735</td>\n",
       "      <td>18.001046</td>\n",
       "      <td>-20.490688</td>\n",
       "    </tr>\n",
       "  </tbody>\n",
       "</table>\n",
       "</div>"
      ],
      "text/plain": [
       "                      flug       fldg      fnetg\n",
       "pressure  level                                 \n",
       "0.0000    1     -30.883318   0.000000 -30.883318\n",
       "1.0685    24    -30.884221   0.063546 -30.820675\n",
       "1013.0000 76    -38.491735  18.001046 -20.490688"
      ]
     },
     "metadata": {},
     "output_type": "display_data"
    },
    {
     "name": "stdout",
     "output_type": "stream",
     "text": [
      "Table. Fluxes. WGT igg=10 wgt_flux=1\n"
     ]
    },
    {
     "data": {
      "text/html": [
       "<div>\n",
       "<style>\n",
       "    .dataframe thead tr:only-child th {\n",
       "        text-align: right;\n",
       "    }\n",
       "\n",
       "    .dataframe thead th {\n",
       "        text-align: left;\n",
       "    }\n",
       "\n",
       "    .dataframe tbody tr th {\n",
       "        vertical-align: top;\n",
       "    }\n",
       "</style>\n",
       "<table border=\"1\" class=\"dataframe\">\n",
       "  <thead>\n",
       "    <tr style=\"text-align: right;\">\n",
       "      <th></th>\n",
       "      <th></th>\n",
       "      <th>flug</th>\n",
       "      <th>fldg</th>\n",
       "      <th>fnetg</th>\n",
       "    </tr>\n",
       "    <tr>\n",
       "      <th>pressure</th>\n",
       "      <th>level</th>\n",
       "      <th></th>\n",
       "      <th></th>\n",
       "      <th></th>\n",
       "    </tr>\n",
       "  </thead>\n",
       "  <tbody>\n",
       "    <tr>\n",
       "      <th>0.0000</th>\n",
       "      <th>1</th>\n",
       "      <td>-30.877425</td>\n",
       "      <td>0.000000</td>\n",
       "      <td>-30.877425</td>\n",
       "    </tr>\n",
       "    <tr>\n",
       "      <th>1.0685</th>\n",
       "      <th>24</th>\n",
       "      <td>-30.878983</td>\n",
       "      <td>0.068611</td>\n",
       "      <td>-30.810372</td>\n",
       "    </tr>\n",
       "    <tr>\n",
       "      <th>1013.0000</th>\n",
       "      <th>76</th>\n",
       "      <td>-38.491734</td>\n",
       "      <td>17.950491</td>\n",
       "      <td>-20.541243</td>\n",
       "    </tr>\n",
       "  </tbody>\n",
       "</table>\n",
       "</div>"
      ],
      "text/plain": [
       "                      flug       fldg      fnetg\n",
       "pressure  level                                 \n",
       "0.0000    1     -30.877425   0.000000 -30.877425\n",
       "1.0685    24    -30.878983   0.068611 -30.810372\n",
       "1013.0000 76    -38.491734  17.950491 -20.541243"
      ]
     },
     "metadata": {},
     "output_type": "display_data"
    },
    {
     "name": "stdout",
     "output_type": "stream",
     "text": [
      "Table. Fluxes. CRD\n"
     ]
    },
    {
     "data": {
      "text/html": [
       "<div>\n",
       "<style>\n",
       "    .dataframe thead tr:only-child th {\n",
       "        text-align: right;\n",
       "    }\n",
       "\n",
       "    .dataframe thead th {\n",
       "        text-align: left;\n",
       "    }\n",
       "\n",
       "    .dataframe tbody tr th {\n",
       "        vertical-align: top;\n",
       "    }\n",
       "</style>\n",
       "<table border=\"1\" class=\"dataframe\">\n",
       "  <thead>\n",
       "    <tr style=\"text-align: right;\">\n",
       "      <th></th>\n",
       "      <th></th>\n",
       "      <th>flug</th>\n",
       "      <th>fldg</th>\n",
       "      <th>fnetg</th>\n",
       "    </tr>\n",
       "    <tr>\n",
       "      <th>pressure</th>\n",
       "      <th>level</th>\n",
       "      <th></th>\n",
       "      <th></th>\n",
       "      <th></th>\n",
       "    </tr>\n",
       "  </thead>\n",
       "  <tbody>\n",
       "    <tr>\n",
       "      <th>1.000000e-08</th>\n",
       "      <th>1</th>\n",
       "      <td>-30.983284</td>\n",
       "      <td>0.000002</td>\n",
       "      <td>-30.983282</td>\n",
       "    </tr>\n",
       "    <tr>\n",
       "      <th>1.068500e+00</th>\n",
       "      <th>24</th>\n",
       "      <td>-30.983734</td>\n",
       "      <td>0.060508</td>\n",
       "      <td>-30.923225</td>\n",
       "    </tr>\n",
       "    <tr>\n",
       "      <th>1.013000e+03</th>\n",
       "      <th>76</th>\n",
       "      <td>-38.491730</td>\n",
       "      <td>18.015591</td>\n",
       "      <td>-20.476139</td>\n",
       "    </tr>\n",
       "  </tbody>\n",
       "</table>\n",
       "</div>"
      ],
      "text/plain": [
       "                         flug       fldg      fnetg\n",
       "pressure     level                                 \n",
       "1.000000e-08 1     -30.983284   0.000002 -30.983282\n",
       "1.068500e+00 24    -30.983734   0.060508 -30.923225\n",
       "1.013000e+03 76    -38.491730  18.015591 -20.476139"
      ]
     },
     "metadata": {},
     "output_type": "display_data"
    },
    {
     "name": "stdout",
     "output_type": "stream",
     "text": [
      "Table. Fluxes. CLIRAD\n"
     ]
    },
    {
     "data": {
      "text/html": [
       "<div>\n",
       "<style>\n",
       "    .dataframe thead tr:only-child th {\n",
       "        text-align: right;\n",
       "    }\n",
       "\n",
       "    .dataframe thead th {\n",
       "        text-align: left;\n",
       "    }\n",
       "\n",
       "    .dataframe tbody tr th {\n",
       "        vertical-align: top;\n",
       "    }\n",
       "</style>\n",
       "<table border=\"1\" class=\"dataframe\">\n",
       "  <thead>\n",
       "    <tr style=\"text-align: right;\">\n",
       "      <th></th>\n",
       "      <th></th>\n",
       "      <th>flug</th>\n",
       "      <th>fldg</th>\n",
       "      <th>fnetg</th>\n",
       "    </tr>\n",
       "    <tr>\n",
       "      <th>pressure</th>\n",
       "      <th>level</th>\n",
       "      <th></th>\n",
       "      <th></th>\n",
       "      <th></th>\n",
       "    </tr>\n",
       "  </thead>\n",
       "  <tbody>\n",
       "    <tr>\n",
       "      <th>0.0000</th>\n",
       "      <th>1</th>\n",
       "      <td>5.893454e-03</td>\n",
       "      <td>0.000000</td>\n",
       "      <td>0.005893</td>\n",
       "    </tr>\n",
       "    <tr>\n",
       "      <th>1.0685</th>\n",
       "      <th>24</th>\n",
       "      <td>5.237929e-03</td>\n",
       "      <td>0.005065</td>\n",
       "      <td>0.010303</td>\n",
       "    </tr>\n",
       "    <tr>\n",
       "      <th>1013.0000</th>\n",
       "      <th>76</th>\n",
       "      <td>7.180000e-07</td>\n",
       "      <td>-0.050555</td>\n",
       "      <td>-0.050555</td>\n",
       "    </tr>\n",
       "  </tbody>\n",
       "</table>\n",
       "</div>"
      ],
      "text/plain": [
       "                         flug      fldg     fnetg\n",
       "pressure  level                                  \n",
       "0.0000    1      5.893454e-03  0.000000  0.005893\n",
       "1.0685    24     5.237929e-03  0.005065  0.010303\n",
       "1013.0000 76     7.180000e-07 -0.050555 -0.050555"
      ]
     },
     "metadata": {},
     "output_type": "display_data"
    },
    {
     "name": "stdout",
     "output_type": "stream",
     "text": [
      "Table. Fluxes. (CRD) - (WGT igg=10 wgt_flux=1)\n"
     ]
    },
    {
     "data": {
      "text/html": [
       "<div>\n",
       "<style>\n",
       "    .dataframe thead tr:only-child th {\n",
       "        text-align: right;\n",
       "    }\n",
       "\n",
       "    .dataframe thead th {\n",
       "        text-align: left;\n",
       "    }\n",
       "\n",
       "    .dataframe tbody tr th {\n",
       "        vertical-align: top;\n",
       "    }\n",
       "</style>\n",
       "<table border=\"1\" class=\"dataframe\">\n",
       "  <thead>\n",
       "    <tr style=\"text-align: right;\">\n",
       "      <th></th>\n",
       "      <th></th>\n",
       "      <th>flug</th>\n",
       "      <th>fldg</th>\n",
       "      <th>fnetg</th>\n",
       "    </tr>\n",
       "    <tr>\n",
       "      <th>pressure</th>\n",
       "      <th>level</th>\n",
       "      <th></th>\n",
       "      <th></th>\n",
       "      <th></th>\n",
       "    </tr>\n",
       "  </thead>\n",
       "  <tbody>\n",
       "    <tr>\n",
       "      <th>0.0000</th>\n",
       "      <th>1</th>\n",
       "      <td>-0.099966</td>\n",
       "      <td>0.000002</td>\n",
       "      <td>-0.099964</td>\n",
       "    </tr>\n",
       "    <tr>\n",
       "      <th>1.0685</th>\n",
       "      <th>24</th>\n",
       "      <td>-0.099513</td>\n",
       "      <td>-0.003038</td>\n",
       "      <td>-0.102550</td>\n",
       "    </tr>\n",
       "    <tr>\n",
       "      <th>1013.0000</th>\n",
       "      <th>76</th>\n",
       "      <td>0.000005</td>\n",
       "      <td>0.014545</td>\n",
       "      <td>0.014549</td>\n",
       "    </tr>\n",
       "  </tbody>\n",
       "</table>\n",
       "</div>"
      ],
      "text/plain": [
       "                     flug      fldg     fnetg\n",
       "pressure  level                              \n",
       "0.0000    1     -0.099966  0.000002 -0.099964\n",
       "1.0685    24    -0.099513 -0.003038 -0.102550\n",
       "1013.0000 76     0.000005  0.014545  0.014549"
      ]
     },
     "metadata": {},
     "output_type": "display_data"
    },
    {
     "name": "stdout",
     "output_type": "stream",
     "text": [
      "Table. Fluxes. (CLIRAD) - (WGT igg=10 wgt_flux=1)\n"
     ]
    },
    {
     "data": {
      "text/html": [
       "<a id=\"Best-fit_Parameters\"></a>"
      ],
      "text/plain": [
       "<IPython.core.display.HTML object>"
      ]
     },
     "metadata": {},
     "output_type": "display_data"
    },
    {
     "data": {
      "text/markdown": [
       "# Best-fit Parameters"
      ],
      "text/plain": [
       "<IPython.core.display.Markdown object>"
      ]
     },
     "metadata": {},
     "output_type": "display_data"
    },
    {
     "name": "stdout",
     "output_type": "stream",
     "text": [
      "Best-fit values for each (gas, band)\n",
      "------------------------------------\n",
      "o co2 band3a\n",
      "  atmpro = mls\n",
      "  band = 3a\n",
      "  commitnumber = 2bd1f75\n",
      "  conc = 0.0004\n",
      "  dv = 0.01\n",
      "  klin = 6.375563e-24\n",
      "  molecule = co2\n",
      "  ng_adju = [0, 0, 0]\n",
      "  ng_refs = [3, 2, 4]\n",
      "  nv = 100\n",
      "  option_compute_btable = 0\n",
      "  option_compute_ktable = 1\n",
      "  option_wgt_flux = 1\n",
      "  option_wgt_k = 1\n",
      "  ref_pts = [(1, 250), (10, 250), (500, 250)]\n",
      "  tsfc = 294\n",
      "  vmax = 620\n",
      "  vmin = 540\n",
      "  w_diffuse = [(1.6, 1.6, 1.7), (1.75, 1.75), (1.55, 1.55, 1.6, 1.85)]\n",
      "  wgt = [(0.7, 0.3, 0.7), (0.7, 0.6), (0.4, 0.5, 0.8, 0.95)]\n"
     ]
    }
   ],
   "source": [
    "script()"
   ]
  },
  {
   "cell_type": "code",
   "execution_count": 13,
   "metadata": {
    "collapsed": true
   },
   "outputs": [
    {
     "data": {
      "text/html": [
       "<script>\n",
       "code_show=true; \n",
       "function code_toggle() {\n",
       " if (code_show){\n",
       " $('div.input').hide();\n",
       " } else {\n",
       " $('div.input').show();\n",
       " }\n",
       " code_show = !code_show\n",
       "} \n",
       "$( document ).ready(code_toggle);\n",
       "</script>\n",
       "<form action=\"javascript:code_toggle()\"><input type=\"submit\" value=\"Click here to toggle on/off the raw code.\"></form>"
      ],
      "text/plain": [
       "<IPython.core.display.HTML object>"
      ]
     },
     "execution_count": 13,
     "metadata": {},
     "output_type": "execute_result"
    }
   ],
   "source": [
    "display.HTML('''<script>\n",
    "code_show=true; \n",
    "function code_toggle() {\n",
    " if (code_show){\n",
    " $('div.input').hide();\n",
    " } else {\n",
    " $('div.input').show();\n",
    " }\n",
    " code_show = !code_show\n",
    "} \n",
    "$( document ).ready(code_toggle);\n",
    "</script>\n",
    "<form action=\"javascript:code_toggle()\"><input type=\"submit\" value=\"Click here to toggle on/off the raw code.\"></form>''')"
   ]
  }
 ],
 "metadata": {
  "kernelspec": {
   "display_name": "Python 3",
   "language": "python",
   "name": "python3"
  },
  "language_info": {
   "codemirror_mode": {
    "name": "ipython",
    "version": 3
   },
   "file_extension": ".py",
   "mimetype": "text/x-python",
   "name": "python",
   "nbconvert_exporter": "python",
   "pygments_lexer": "ipython3",
   "version": "3.6.1"
  }
 },
 "nbformat": 4,
 "nbformat_minor": 2
}
