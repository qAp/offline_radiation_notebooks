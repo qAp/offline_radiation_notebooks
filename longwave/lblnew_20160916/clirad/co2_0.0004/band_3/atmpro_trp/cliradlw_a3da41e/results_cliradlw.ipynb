{
 "cells": [
  {
   "cell_type": "code",
   "execution_count": 1,
   "metadata": {
    "collapsed": true
   },
   "outputs": [],
   "source": [
    "%matplotlib inline\n",
    "import os\n",
    "import re\n",
    "import io\n",
    "import itertools\n",
    "import pprint\n",
    "\n",
    "from bokeh.io import output_notebook, show\n",
    "from bokeh.layouts import gridplot\n",
    "from bokeh.plotting import figure\n",
    "from bokeh.models import Range1d, Legend\n",
    "from bokeh.palettes import all_palettes\n",
    "\n",
    "import matplotlib\n",
    "import matplotlib.pyplot as plt\n",
    "import numpy as np\n",
    "import pandas as pd\n",
    "import xarray as xr\n",
    "\n",
    "import climatools.lblnew.bestfit_params as bestfits\n",
    "from climatools.lblnew import setup_bestfit, setup_overlap\n",
    "import climatools.lblnew.pipeline as pipe_lblnew\n",
    "import climatools.cliradlw.setup as setup_cliradlw\n",
    "import climatools.cliradlw.pipeline as pipe_cliradlw\n",
    "\n",
    "import climatools.html.html as climahtml\n",
    "from climatools.lblnew.dataio import *\n",
    "from climatools.plot.plot import *\n",
    "\n",
    "\n",
    "import IPython.display as display"
   ]
  },
  {
   "cell_type": "code",
   "execution_count": 2,
   "metadata": {
    "collapsed": true
   },
   "outputs": [],
   "source": [
    "%run param.py"
   ]
  },
  {
   "cell_type": "code",
   "execution_count": 3,
   "metadata": {
    "collapsed": true
   },
   "outputs": [],
   "source": [
    "def load_output_file(path_csv):\n",
    "    '''\n",
    "    Load lblnew output .csv file to xarray.Dataset\n",
    "    \n",
    "    Parameters\n",
    "    ----------\n",
    "    path_csv: str\n",
    "              Path to the .csv file to be loaded.\n",
    "    ds: xarray.Dataset\n",
    "        Data in the input file in the form of an xarray.Dataset.\n",
    "    '''\n",
    "    toindex = ['band', 'pressure', 'igg', 'g']    \n",
    "    df = pd.read_csv(path_csv, sep=r'\\s+')\n",
    "    df = df.set_index([i for i in toindex if i in df.columns])\n",
    "    df = df.rename(columns={'sfu': 'flug',\n",
    "                            'sfd': 'fldg',\n",
    "                            'fnet': 'fnetg',\n",
    "                            'coolr': 'coolrg'})\n",
    "    ds = xr.Dataset.from_dataframe(df)\n",
    "\n",
    "    for l in ('level', 'layer'):\n",
    "        if l in ds.data_vars:\n",
    "            if len(ds[l].dims) > 1:\n",
    "                surface = {d: 0 for d in ds.dims if d != 'pressure'}\n",
    "                coord_level = ds[l][surface]\n",
    "                ds.coords[l] = ('pressure', coord_level)\n",
    "            else:\n",
    "                ds.coords[l] = ('pressure', ds[l])\n",
    "    \n",
    "    return ds"
   ]
  },
  {
   "cell_type": "code",
   "execution_count": 4,
   "metadata": {
    "collapsed": true
   },
   "outputs": [],
   "source": [
    "def lblnew_setup(param=None):\n",
    "    if 'ng_refs' in param:\n",
    "        return {'setup': setup_bestfit,\n",
    "                'fname_flux_crd': 'output_flux.dat',\n",
    "                'fname_cool_crd': 'output_coolr.dat',\n",
    "                'fname_flux_wgt': 'output_wfluxg.dat',\n",
    "                'fname_cool_wgt': 'output_wcoolrg.dat'}\n",
    "    else:\n",
    "        return {'setup': setup_overlap,\n",
    "                'fname_flux_crd': 'output_flux.dat',\n",
    "                'fname_cool_crd': 'output_coolr.dat',\n",
    "                'fname_flux_wgt': 'output_wflux.dat',\n",
    "                'fname_cool_wgt': 'output_wcoolr.dat'}\n",
    "\n",
    "    \n",
    "def load_lblnew_data(param):\n",
    "    \n",
    "    fname_dsname = [('fname_flux_crd', 'ds_flux_crd'),\n",
    "                    ('fname_cool_crd', 'ds_cool_crd'),\n",
    "                    ('fname_flux_wgt', 'ds_flux_wgt'),\n",
    "                    ('fname_cool_wgt', 'ds_cool_wgt')]\n",
    "    \n",
    "    d = lblnew_setup(param)\n",
    "    dir_fortran = pipe_lblnew.get_dir_case(param, setup=d['setup'])\n",
    "    \n",
    "    data_dict = {}\n",
    "    for fname, dsname in fname_dsname:\n",
    "        fpath = os.path.join(dir_fortran, d[fname])\n",
    "        data_dict[dsname] = load_output_file(fpath)\n",
    "    return data_dict\n",
    "    \n",
    "\n",
    "    \n",
    "    "
   ]
  },
  {
   "cell_type": "code",
   "execution_count": 5,
   "metadata": {
    "collapsed": true
   },
   "outputs": [],
   "source": [
    "d = load_lblnew_data(PARAM_LBLNEW)\n",
    "\n",
    "DS_FLUX_CRD = d['ds_flux_crd']\n",
    "DS_COOL_CRD = d['ds_cool_crd']\n",
    "DS_FLUX_WGT = d['ds_flux_wgt']\n",
    "DS_COOL_WGT = d['ds_cool_wgt']"
   ]
  },
  {
   "cell_type": "code",
   "execution_count": 6,
   "metadata": {
    "collapsed": true
   },
   "outputs": [],
   "source": [
    "DIR_FORTRAN = pipe_cliradlw.get_fortran_dir(PARAM, \n",
    "                                            setup=setup_cliradlw)\n",
    "\n",
    "PATH_FLUX = os.path.join(DIR_FORTRAN, 'output_flux.dat')\n",
    "PATH_COOL = os.path.join(DIR_FORTRAN, 'output_coolr.dat')\n",
    "\n",
    "DS_FLUX = load_output_file(PATH_FLUX)\n",
    "DS_COOL = load_output_file(PATH_COOL)"
   ]
  },
  {
   "cell_type": "code",
   "execution_count": 7,
   "metadata": {
    "collapsed": true
   },
   "outputs": [
    {
     "data": {
      "text/html": [
       "\n",
       "    <div class=\"bk-root\">\n",
       "        <a href=\"https://bokeh.pydata.org\" target=\"_blank\" class=\"bk-logo bk-logo-small bk-logo-notebook\"></a>\n",
       "        <span id=\"5bff7408-d8ef-4e6b-a76f-3a3c4d310309\">Loading BokehJS ...</span>\n",
       "    </div>"
      ]
     },
     "metadata": {},
     "output_type": "display_data"
    },
    {
     "data": {
      "application/javascript": [
       "\n",
       "(function(root) {\n",
       "  function now() {\n",
       "    return new Date();\n",
       "  }\n",
       "\n",
       "  var force = true;\n",
       "\n",
       "  if (typeof (root._bokeh_onload_callbacks) === \"undefined\" || force === true) {\n",
       "    root._bokeh_onload_callbacks = [];\n",
       "    root._bokeh_is_loading = undefined;\n",
       "  }\n",
       "\n",
       "  var JS_MIME_TYPE = 'application/javascript';\n",
       "  var HTML_MIME_TYPE = 'text/html';\n",
       "  var EXEC_MIME_TYPE = 'application/vnd.bokehjs_exec.v0+json';\n",
       "  var CLASS_NAME = 'output_bokeh rendered_html';\n",
       "\n",
       "  /**\n",
       "   * Render data to the DOM node\n",
       "   */\n",
       "  function render(props, node) {\n",
       "    var script = document.createElement(\"script\");\n",
       "    node.appendChild(script);\n",
       "  }\n",
       "\n",
       "  /**\n",
       "   * Handle when an output is cleared or removed\n",
       "   */\n",
       "  function handleClearOutput(event, handle) {\n",
       "    var cell = handle.cell;\n",
       "\n",
       "    var id = cell.output_area._bokeh_element_id;\n",
       "    var server_id = cell.output_area._bokeh_server_id;\n",
       "    // Clean up Bokeh references\n",
       "    if (id !== undefined) {\n",
       "      Bokeh.index[id].model.document.clear();\n",
       "      delete Bokeh.index[id];\n",
       "    }\n",
       "\n",
       "    if (server_id !== undefined) {\n",
       "      // Clean up Bokeh references\n",
       "      var cmd = \"from bokeh.io.state import curstate; print(curstate().uuid_to_server['\" + server_id + \"'].get_sessions()[0].document.roots[0]._id)\";\n",
       "      cell.notebook.kernel.execute(cmd, {\n",
       "        iopub: {\n",
       "          output: function(msg) {\n",
       "            var element_id = msg.content.text.trim();\n",
       "            Bokeh.index[element_id].model.document.clear();\n",
       "            delete Bokeh.index[element_id];\n",
       "          }\n",
       "        }\n",
       "      });\n",
       "      // Destroy server and session\n",
       "      var cmd = \"import bokeh.io.notebook as ion; ion.destroy_server('\" + server_id + \"')\";\n",
       "      cell.notebook.kernel.execute(cmd);\n",
       "    }\n",
       "  }\n",
       "\n",
       "  /**\n",
       "   * Handle when a new output is added\n",
       "   */\n",
       "  function handleAddOutput(event, handle) {\n",
       "    var output_area = handle.output_area;\n",
       "    var output = handle.output;\n",
       "\n",
       "    // limit handleAddOutput to display_data with EXEC_MIME_TYPE content only\n",
       "    if ((output.output_type != \"display_data\") || (!output.data.hasOwnProperty(EXEC_MIME_TYPE))) {\n",
       "      return\n",
       "    }\n",
       "\n",
       "    var toinsert = output_area.element.find(\".\" + CLASS_NAME.split(' ')[0]);\n",
       "\n",
       "    if (output.metadata[EXEC_MIME_TYPE][\"id\"] !== undefined) {\n",
       "      toinsert[0].firstChild.textContent = output.data[JS_MIME_TYPE];\n",
       "      // store reference to embed id on output_area\n",
       "      output_area._bokeh_element_id = output.metadata[EXEC_MIME_TYPE][\"id\"];\n",
       "    }\n",
       "    if (output.metadata[EXEC_MIME_TYPE][\"server_id\"] !== undefined) {\n",
       "      var bk_div = document.createElement(\"div\");\n",
       "      bk_div.innerHTML = output.data[HTML_MIME_TYPE];\n",
       "      var script_attrs = bk_div.children[0].attributes;\n",
       "      for (var i = 0; i < script_attrs.length; i++) {\n",
       "        toinsert[0].firstChild.setAttribute(script_attrs[i].name, script_attrs[i].value);\n",
       "      }\n",
       "      // store reference to server id on output_area\n",
       "      output_area._bokeh_server_id = output.metadata[EXEC_MIME_TYPE][\"server_id\"];\n",
       "    }\n",
       "  }\n",
       "\n",
       "  function register_renderer(events, OutputArea) {\n",
       "\n",
       "    function append_mime(data, metadata, element) {\n",
       "      // create a DOM node to render to\n",
       "      var toinsert = this.create_output_subarea(\n",
       "        metadata,\n",
       "        CLASS_NAME,\n",
       "        EXEC_MIME_TYPE\n",
       "      );\n",
       "      this.keyboard_manager.register_events(toinsert);\n",
       "      // Render to node\n",
       "      var props = {data: data, metadata: metadata[EXEC_MIME_TYPE]};\n",
       "      render(props, toinsert[0]);\n",
       "      element.append(toinsert);\n",
       "      return toinsert\n",
       "    }\n",
       "\n",
       "    /* Handle when an output is cleared or removed */\n",
       "    events.on('clear_output.CodeCell', handleClearOutput);\n",
       "    events.on('delete.Cell', handleClearOutput);\n",
       "\n",
       "    /* Handle when a new output is added */\n",
       "    events.on('output_added.OutputArea', handleAddOutput);\n",
       "\n",
       "    /**\n",
       "     * Register the mime type and append_mime function with output_area\n",
       "     */\n",
       "    OutputArea.prototype.register_mime_type(EXEC_MIME_TYPE, append_mime, {\n",
       "      /* Is output safe? */\n",
       "      safe: true,\n",
       "      /* Index of renderer in `output_area.display_order` */\n",
       "      index: 0\n",
       "    });\n",
       "  }\n",
       "\n",
       "  // register the mime type if in Jupyter Notebook environment and previously unregistered\n",
       "  if (root.Jupyter !== undefined) {\n",
       "    var events = require('base/js/events');\n",
       "    var OutputArea = require('notebook/js/outputarea').OutputArea;\n",
       "\n",
       "    if (OutputArea.prototype.mime_types().indexOf(EXEC_MIME_TYPE) == -1) {\n",
       "      register_renderer(events, OutputArea);\n",
       "    }\n",
       "  }\n",
       "\n",
       "  \n",
       "  if (typeof (root._bokeh_timeout) === \"undefined\" || force === true) {\n",
       "    root._bokeh_timeout = Date.now() + 5000;\n",
       "    root._bokeh_failed_load = false;\n",
       "  }\n",
       "\n",
       "  var NB_LOAD_WARNING = {'data': {'text/html':\n",
       "     \"<div style='background-color: #fdd'>\\n\"+\n",
       "     \"<p>\\n\"+\n",
       "     \"BokehJS does not appear to have successfully loaded. If loading BokehJS from CDN, this \\n\"+\n",
       "     \"may be due to a slow or bad network connection. Possible fixes:\\n\"+\n",
       "     \"</p>\\n\"+\n",
       "     \"<ul>\\n\"+\n",
       "     \"<li>re-rerun `output_notebook()` to attempt to load from CDN again, or</li>\\n\"+\n",
       "     \"<li>use INLINE resources instead, as so:</li>\\n\"+\n",
       "     \"</ul>\\n\"+\n",
       "     \"<code>\\n\"+\n",
       "     \"from bokeh.resources import INLINE\\n\"+\n",
       "     \"output_notebook(resources=INLINE)\\n\"+\n",
       "     \"</code>\\n\"+\n",
       "     \"</div>\"}};\n",
       "\n",
       "  function display_loaded() {\n",
       "    var el = document.getElementById(\"5bff7408-d8ef-4e6b-a76f-3a3c4d310309\");\n",
       "    if (el != null) {\n",
       "      el.textContent = \"BokehJS is loading...\";\n",
       "    }\n",
       "    if (root.Bokeh !== undefined) {\n",
       "      if (el != null) {\n",
       "        el.textContent = \"BokehJS \" + root.Bokeh.version + \" successfully loaded.\";\n",
       "      }\n",
       "    } else if (Date.now() < root._bokeh_timeout) {\n",
       "      setTimeout(display_loaded, 100)\n",
       "    }\n",
       "  }\n",
       "\n",
       "\n",
       "  function run_callbacks() {\n",
       "    try {\n",
       "      root._bokeh_onload_callbacks.forEach(function(callback) { callback() });\n",
       "    }\n",
       "    finally {\n",
       "      delete root._bokeh_onload_callbacks\n",
       "    }\n",
       "    console.info(\"Bokeh: all callbacks have finished\");\n",
       "  }\n",
       "\n",
       "  function load_libs(js_urls, callback) {\n",
       "    root._bokeh_onload_callbacks.push(callback);\n",
       "    if (root._bokeh_is_loading > 0) {\n",
       "      console.log(\"Bokeh: BokehJS is being loaded, scheduling callback at\", now());\n",
       "      return null;\n",
       "    }\n",
       "    if (js_urls == null || js_urls.length === 0) {\n",
       "      run_callbacks();\n",
       "      return null;\n",
       "    }\n",
       "    console.log(\"Bokeh: BokehJS not loaded, scheduling load and callback at\", now());\n",
       "    root._bokeh_is_loading = js_urls.length;\n",
       "    for (var i = 0; i < js_urls.length; i++) {\n",
       "      var url = js_urls[i];\n",
       "      var s = document.createElement('script');\n",
       "      s.src = url;\n",
       "      s.async = false;\n",
       "      s.onreadystatechange = s.onload = function() {\n",
       "        root._bokeh_is_loading--;\n",
       "        if (root._bokeh_is_loading === 0) {\n",
       "          console.log(\"Bokeh: all BokehJS libraries loaded\");\n",
       "          run_callbacks()\n",
       "        }\n",
       "      };\n",
       "      s.onerror = function() {\n",
       "        console.warn(\"failed to load library \" + url);\n",
       "      };\n",
       "      console.log(\"Bokeh: injecting script tag for BokehJS library: \", url);\n",
       "      document.getElementsByTagName(\"head\")[0].appendChild(s);\n",
       "    }\n",
       "  };var element = document.getElementById(\"5bff7408-d8ef-4e6b-a76f-3a3c4d310309\");\n",
       "  if (element == null) {\n",
       "    console.log(\"Bokeh: ERROR: autoload.js configured with elementid '5bff7408-d8ef-4e6b-a76f-3a3c4d310309' but no matching script tag was found. \")\n",
       "    return false;\n",
       "  }\n",
       "\n",
       "  var js_urls = [\"https://cdn.pydata.org/bokeh/release/bokeh-0.12.14.min.js\", \"https://cdn.pydata.org/bokeh/release/bokeh-widgets-0.12.14.min.js\", \"https://cdn.pydata.org/bokeh/release/bokeh-tables-0.12.14.min.js\", \"https://cdn.pydata.org/bokeh/release/bokeh-gl-0.12.14.min.js\"];\n",
       "\n",
       "  var inline_js = [\n",
       "    function(Bokeh) {\n",
       "      Bokeh.set_log_level(\"info\");\n",
       "    },\n",
       "    \n",
       "    function(Bokeh) {\n",
       "      \n",
       "    },\n",
       "    function(Bokeh) {\n",
       "      console.log(\"Bokeh: injecting CSS: https://cdn.pydata.org/bokeh/release/bokeh-0.12.14.min.css\");\n",
       "      Bokeh.embed.inject_css(\"https://cdn.pydata.org/bokeh/release/bokeh-0.12.14.min.css\");\n",
       "      console.log(\"Bokeh: injecting CSS: https://cdn.pydata.org/bokeh/release/bokeh-widgets-0.12.14.min.css\");\n",
       "      Bokeh.embed.inject_css(\"https://cdn.pydata.org/bokeh/release/bokeh-widgets-0.12.14.min.css\");\n",
       "      console.log(\"Bokeh: injecting CSS: https://cdn.pydata.org/bokeh/release/bokeh-tables-0.12.14.min.css\");\n",
       "      Bokeh.embed.inject_css(\"https://cdn.pydata.org/bokeh/release/bokeh-tables-0.12.14.min.css\");\n",
       "    }\n",
       "  ];\n",
       "\n",
       "  function run_inline_js() {\n",
       "    \n",
       "    if ((root.Bokeh !== undefined) || (force === true)) {\n",
       "      for (var i = 0; i < inline_js.length; i++) {\n",
       "        inline_js[i].call(root, root.Bokeh);\n",
       "      }if (force === true) {\n",
       "        display_loaded();\n",
       "      }} else if (Date.now() < root._bokeh_timeout) {\n",
       "      setTimeout(run_inline_js, 100);\n",
       "    } else if (!root._bokeh_failed_load) {\n",
       "      console.log(\"Bokeh: BokehJS failed to load within specified timeout.\");\n",
       "      root._bokeh_failed_load = true;\n",
       "    } else if (force !== true) {\n",
       "      var cell = $(document.getElementById(\"5bff7408-d8ef-4e6b-a76f-3a3c4d310309\")).parents('.cell').data().cell;\n",
       "      cell.output_area.append_execute_result(NB_LOAD_WARNING)\n",
       "    }\n",
       "\n",
       "  }\n",
       "\n",
       "  if (root._bokeh_is_loading === 0) {\n",
       "    console.log(\"Bokeh: BokehJS loaded, going straight to plotting\");\n",
       "    run_inline_js();\n",
       "  } else {\n",
       "    load_libs(js_urls, function() {\n",
       "      console.log(\"Bokeh: BokehJS plotting callback run at\", now());\n",
       "      run_inline_js();\n",
       "    });\n",
       "  }\n",
       "}(window));"
      ],
      "application/vnd.bokehjs_load.v0+json": "\n(function(root) {\n  function now() {\n    return new Date();\n  }\n\n  var force = true;\n\n  if (typeof (root._bokeh_onload_callbacks) === \"undefined\" || force === true) {\n    root._bokeh_onload_callbacks = [];\n    root._bokeh_is_loading = undefined;\n  }\n\n  \n\n  \n  if (typeof (root._bokeh_timeout) === \"undefined\" || force === true) {\n    root._bokeh_timeout = Date.now() + 5000;\n    root._bokeh_failed_load = false;\n  }\n\n  var NB_LOAD_WARNING = {'data': {'text/html':\n     \"<div style='background-color: #fdd'>\\n\"+\n     \"<p>\\n\"+\n     \"BokehJS does not appear to have successfully loaded. If loading BokehJS from CDN, this \\n\"+\n     \"may be due to a slow or bad network connection. Possible fixes:\\n\"+\n     \"</p>\\n\"+\n     \"<ul>\\n\"+\n     \"<li>re-rerun `output_notebook()` to attempt to load from CDN again, or</li>\\n\"+\n     \"<li>use INLINE resources instead, as so:</li>\\n\"+\n     \"</ul>\\n\"+\n     \"<code>\\n\"+\n     \"from bokeh.resources import INLINE\\n\"+\n     \"output_notebook(resources=INLINE)\\n\"+\n     \"</code>\\n\"+\n     \"</div>\"}};\n\n  function display_loaded() {\n    var el = document.getElementById(\"5bff7408-d8ef-4e6b-a76f-3a3c4d310309\");\n    if (el != null) {\n      el.textContent = \"BokehJS is loading...\";\n    }\n    if (root.Bokeh !== undefined) {\n      if (el != null) {\n        el.textContent = \"BokehJS \" + root.Bokeh.version + \" successfully loaded.\";\n      }\n    } else if (Date.now() < root._bokeh_timeout) {\n      setTimeout(display_loaded, 100)\n    }\n  }\n\n\n  function run_callbacks() {\n    try {\n      root._bokeh_onload_callbacks.forEach(function(callback) { callback() });\n    }\n    finally {\n      delete root._bokeh_onload_callbacks\n    }\n    console.info(\"Bokeh: all callbacks have finished\");\n  }\n\n  function load_libs(js_urls, callback) {\n    root._bokeh_onload_callbacks.push(callback);\n    if (root._bokeh_is_loading > 0) {\n      console.log(\"Bokeh: BokehJS is being loaded, scheduling callback at\", now());\n      return null;\n    }\n    if (js_urls == null || js_urls.length === 0) {\n      run_callbacks();\n      return null;\n    }\n    console.log(\"Bokeh: BokehJS not loaded, scheduling load and callback at\", now());\n    root._bokeh_is_loading = js_urls.length;\n    for (var i = 0; i < js_urls.length; i++) {\n      var url = js_urls[i];\n      var s = document.createElement('script');\n      s.src = url;\n      s.async = false;\n      s.onreadystatechange = s.onload = function() {\n        root._bokeh_is_loading--;\n        if (root._bokeh_is_loading === 0) {\n          console.log(\"Bokeh: all BokehJS libraries loaded\");\n          run_callbacks()\n        }\n      };\n      s.onerror = function() {\n        console.warn(\"failed to load library \" + url);\n      };\n      console.log(\"Bokeh: injecting script tag for BokehJS library: \", url);\n      document.getElementsByTagName(\"head\")[0].appendChild(s);\n    }\n  };var element = document.getElementById(\"5bff7408-d8ef-4e6b-a76f-3a3c4d310309\");\n  if (element == null) {\n    console.log(\"Bokeh: ERROR: autoload.js configured with elementid '5bff7408-d8ef-4e6b-a76f-3a3c4d310309' but no matching script tag was found. \")\n    return false;\n  }\n\n  var js_urls = [\"https://cdn.pydata.org/bokeh/release/bokeh-0.12.14.min.js\", \"https://cdn.pydata.org/bokeh/release/bokeh-widgets-0.12.14.min.js\", \"https://cdn.pydata.org/bokeh/release/bokeh-tables-0.12.14.min.js\", \"https://cdn.pydata.org/bokeh/release/bokeh-gl-0.12.14.min.js\"];\n\n  var inline_js = [\n    function(Bokeh) {\n      Bokeh.set_log_level(\"info\");\n    },\n    \n    function(Bokeh) {\n      \n    },\n    function(Bokeh) {\n      console.log(\"Bokeh: injecting CSS: https://cdn.pydata.org/bokeh/release/bokeh-0.12.14.min.css\");\n      Bokeh.embed.inject_css(\"https://cdn.pydata.org/bokeh/release/bokeh-0.12.14.min.css\");\n      console.log(\"Bokeh: injecting CSS: https://cdn.pydata.org/bokeh/release/bokeh-widgets-0.12.14.min.css\");\n      Bokeh.embed.inject_css(\"https://cdn.pydata.org/bokeh/release/bokeh-widgets-0.12.14.min.css\");\n      console.log(\"Bokeh: injecting CSS: https://cdn.pydata.org/bokeh/release/bokeh-tables-0.12.14.min.css\");\n      Bokeh.embed.inject_css(\"https://cdn.pydata.org/bokeh/release/bokeh-tables-0.12.14.min.css\");\n    }\n  ];\n\n  function run_inline_js() {\n    \n    if ((root.Bokeh !== undefined) || (force === true)) {\n      for (var i = 0; i < inline_js.length; i++) {\n        inline_js[i].call(root, root.Bokeh);\n      }if (force === true) {\n        display_loaded();\n      }} else if (Date.now() < root._bokeh_timeout) {\n      setTimeout(run_inline_js, 100);\n    } else if (!root._bokeh_failed_load) {\n      console.log(\"Bokeh: BokehJS failed to load within specified timeout.\");\n      root._bokeh_failed_load = true;\n    } else if (force !== true) {\n      var cell = $(document.getElementById(\"5bff7408-d8ef-4e6b-a76f-3a3c4d310309\")).parents('.cell').data().cell;\n      cell.output_area.append_execute_result(NB_LOAD_WARNING)\n    }\n\n  }\n\n  if (root._bokeh_is_loading === 0) {\n    console.log(\"Bokeh: BokehJS loaded, going straight to plotting\");\n    run_inline_js();\n  } else {\n    load_libs(js_urls, function() {\n      console.log(\"Bokeh: BokehJS plotting callback run at\", now());\n      run_inline_js();\n    });\n  }\n}(window));"
     },
     "metadata": {},
     "output_type": "display_data"
    }
   ],
   "source": [
    "output_notebook()"
   ]
  },
  {
   "cell_type": "code",
   "execution_count": 8,
   "metadata": {
    "collapsed": true
   },
   "outputs": [],
   "source": [
    "def fmt_cool(ds_in):\n",
    "    ds = ds_in.copy(deep=True)\n",
    "    if 'igg' in ds.dims:\n",
    "        ds = ds.sel(igg=1)\n",
    "\n",
    "    if 'g' in ds.dims:\n",
    "        ds = ds.sum('g')\n",
    "            \n",
    "    if 'band' in ds.dims:\n",
    "        try:\n",
    "            ds = ds.squeeze('band')\n",
    "        except ValueError:\n",
    "            ds = ds.sum('band')\n",
    "                \n",
    "    return ds['coolrg']\n",
    "\n",
    "\n",
    "def pltdata_cooling_1(ds_cool=None,\n",
    "                      ds_cool_crd=None, ds_cool_wgt=None):\n",
    "    \n",
    "\n",
    "\n",
    "    colors = all_palettes['Set1'][4]\n",
    "    data = [{'label': 'CLIRAD `coolr_bands`',\n",
    "             'srs': fmt_cool(ds_cool),\n",
    "             'line_dash': 'dashed', 'line_width': 5,\n",
    "             'color': colors[0], 'alpha': .6},\n",
    "            {'label': 'CRD',\n",
    "             'srs': fmt_cool(ds_cool_crd),\n",
    "             'line_dash': 'solid', 'line_width': 1.5,\n",
    "             'marker': 'circle', 'marker_size': 5,\n",
    "             'color': colors[2], 'alpha': 1,},\n",
    "            {'label': 'WGT igg=10 wgt_flux=2',\n",
    "             'srs': fmt_cool(ds_cool_wgt),\n",
    "             'line_dash': 'solid', 'line_width': 3,\n",
    "             'marker': 'square', 'marker_size': 5,\n",
    "             'color': colors[3], 'alpha': .6}]\n",
    "    return data\n",
    "\n",
    "\n",
    "def nice_xlims(pltdata=None, prange=None):\n",
    "    \n",
    "    def get_slice(srs):\n",
    "        return srs.sel(pressure=slice(*prange))\n",
    "    \n",
    "    srss = [d['srs'] for d in pltdata]\n",
    "    vmin = min([get_slice(srs).min() for srs in srss])\n",
    "    vmax = max([get_slice(srs).max() for srs in srss])\n",
    "    dv = (vmax - vmin) * .01\n",
    "    return float(vmin - dv), float(vmax + dv)\n",
    "    \n",
    "\n",
    "def plt_cooling_bokeh(pltdata=None):\n",
    "    '''\n",
    "    Plot a list of cooling rate profiles using bokeh.\n",
    "    '''\n",
    "    ymin = 1e-2 \n",
    "    ymax = 1020 \n",
    "        \n",
    "    p1 = figure(title=\"Linear pressure scale\", \n",
    "                plot_width=400)        \n",
    "    xmin, xmax = nice_xlims(pltdata, prange=(50, 1050))\n",
    "    for d in pltdata:\n",
    "        if 'marker' in d:\n",
    "            getattr(p1, d['marker'])(d['srs'].values, \n",
    "                    d['srs'].coords['pressure'].values,\n",
    "                    color=d['color'], alpha=.7)\n",
    "        p1.line(d['srs'].values, \n",
    "                d['srs'].coords['pressure'].values,\n",
    "                color=d['color'], alpha=d['alpha'], \n",
    "                line_width=d['line_width'], line_dash=d['line_dash'])\n",
    "    \n",
    "    p1.y_range = Range1d(ymax, ymin)\n",
    "    p1.yaxis.axis_label = 'pressure [mb]'   \n",
    "    p1.x_range = Range1d(xmin, xmax)\n",
    "    p1.xaxis.axis_label = 'cooling rate [K/day]'\n",
    "            \n",
    "    p2 = figure(title='Log pressure scale', y_axis_type='log',\n",
    "                plot_width=560)\n",
    "    xmin, xmax = nice_xlims(pltdata, prange=(.01, 200))\n",
    "    \n",
    "    rs = []\n",
    "    for d in pltdata:\n",
    "        rd = []\n",
    "        if 'marker' in d:\n",
    "            r_mark = getattr(p2, d['marker'])(d['srs'].values, \n",
    "                        d['srs'].coords['pressure'].values,\n",
    "                        color=d['color'], alpha=.7)\n",
    "            rd.append(r_mark)\n",
    "        r_line = p2.line(d['srs'].values, \n",
    "                    d['srs'].coords['pressure'].values,\n",
    "                    color=d['color'], alpha=d['alpha'], \n",
    "                    line_width=d['line_width'], line_dash=d['line_dash'])\n",
    "        rd.append(r_line)\n",
    "      \n",
    "        rs.append(rd)\n",
    "        \n",
    "    p2.y_range = Range1d(ymax, ymin)  \n",
    "    p2.yaxis.axis_label = 'pressure [mb]'\n",
    "    \n",
    "    p2.x_range = Range1d(xmin, xmax)\n",
    "    p2.xaxis.axis_label = 'cooling rate [K/day]'\n",
    "    \n",
    "    items = [(d['label'], r) for r, d in zip(rs, pltdata)]\n",
    "    legend = Legend(items=items, location=(10, -30))\n",
    "    legend.label_text_font_size = '8pt'\n",
    "    \n",
    "    p2.add_layout(legend, 'right')  \n",
    "    \n",
    "    show(gridplot(p1, p2, ncols=2, plot_height=500))\n",
    "    \n",
    "\n",
    "def script_plt_cooling():\n",
    "    pltdata = pltdata_cooling_1(\n",
    "        ds_cool=DS_COOL,\n",
    "        ds_cool_crd=DS_COOL_CRD,\n",
    "        ds_cool_wgt=DS_COOL_WGT)\n",
    "    plt_cooling_bokeh(pltdata=pltdata)\n",
    "    print('''FIGURE. Cooling rate profiles.''')"
   ]
  },
  {
   "cell_type": "code",
   "execution_count": 9,
   "metadata": {
    "collapsed": true
   },
   "outputs": [],
   "source": [
    "def fmt_flux(ds_in):\n",
    "    ds = ds_in.copy(deep=True)\n",
    "    \n",
    "    for l in ('level', 'layer'):\n",
    "        if l in ds.data_vars:\n",
    "            if len(ds[l].dims) > 1:\n",
    "                surface = {d: 0 for d in ds.dims if d != 'pressure'}\n",
    "                coord_level = ds[l][surface]\n",
    "                ds.coords[l] = ('pressure', coord_level)\n",
    "            else:\n",
    "                ds.coords[l] = ('pressure', ds[l])\n",
    "        \n",
    "    ds = ds.isel(pressure=[0, 23, -1])\n",
    "        \n",
    "    if 'igg' in ds.dims:\n",
    "        ds = ds.sel(igg=[1])\n",
    "        ds = ds.squeeze('igg').drop('igg')\n",
    "    \n",
    "    if 'g' in ds.dims:\n",
    "        ds = ds.sum('g')\n",
    "            \n",
    "    if 'band' in ds.dims:\n",
    "        try:\n",
    "            ds = ds.squeeze('band').drop('band')\n",
    "        except ValueError:\n",
    "            ds = ds.sum('band')\n",
    "                \n",
    "    df = ds.to_dataframe()\n",
    "    df = df.set_index('level', append=True)               \n",
    "    return df\n",
    "\n",
    "\n",
    "def tbdata_flux(ds_flux=None, ds_flux_crd=None, ds_flux_wgt=None):\n",
    "    ilevels = [0, 23, -1]\n",
    "            \n",
    "    benchmark = {'label': 'WGT igg=10 wgt_flux=1',\n",
    "                 'df': fmt_flux(ds_flux_wgt)}\n",
    "    \n",
    "    tbs = [{'label': 'CRD',\n",
    "            'df': fmt_flux(ds_flux_crd)},\n",
    "           {'label': 'CLIRAD',\n",
    "            'df': fmt_flux(ds_flux)}]\n",
    "    \n",
    "    data = {'benchmark': benchmark, 'others': tbs}\n",
    "    return data\n",
    "\n",
    "\n",
    "def tb_flux(tbdata=None):\n",
    "    benchmark = tbdata['benchmark']\n",
    "    others = tbdata['others']\n",
    "    \n",
    "    def show_tb(d=None):\n",
    "        display.display(d['df'])\n",
    "        print('Table.', 'Fluxes.', d['label'])\n",
    "        \n",
    "    def show_tbdiff(d0=None, d=None):\n",
    "        df = d['df']\n",
    "        df.index = d0['df'].index\n",
    "        display.display(df - d0['df'])\n",
    "        print('Table.', 'Fluxes.', \n",
    "              '({}) - ({})'.format(d['label'], d0['label']))\n",
    "        \n",
    "    show_tb(benchmark)\n",
    "    for d in others:\n",
    "        show_tb(d)\n",
    "        \n",
    "    for d in others:\n",
    "        show_tbdiff(d=d, d0=benchmark)\n",
    "        \n",
    "        \n",
    "def script_tb_flux():\n",
    "    data = tbdata_flux(ds_flux=DS_FLUX,\n",
    "                       ds_flux_crd=DS_FLUX_CRD,\n",
    "                       ds_flux_wgt=DS_FLUX_WGT)\n",
    "    tb_flux(tbdata=data)"
   ]
  },
  {
   "cell_type": "code",
   "execution_count": 10,
   "metadata": {
    "collapsed": true
   },
   "outputs": [],
   "source": [
    "def band_map():\n",
    "    '''\n",
    "    Maps spectral bands in lblnew to spectral bands in clirad.\n",
    "    '''\n",
    "    lblnew2clirad = {'1': '1',\n",
    "            '2': '2',\n",
    "            '3a': '3',\n",
    "            '3b': '4',\n",
    "            '3c': '5',\n",
    "            '4': '6', \n",
    "            '5': '7',\n",
    "            '6': '8',\n",
    "            '7': '9', \n",
    "            '8': '10',\n",
    "            '9': '11'}\n",
    "    \n",
    "    clirad2lblnew = {clirad: lblnew \n",
    "                     for lblnew, clirad in lblnew2clirad.items()}\n",
    "    return clirad2lblnew\n",
    "\n",
    "\n",
    "def gasbands():\n",
    "    bmap = band_map()\n",
    "    gases = list(PARAM['molecule'].keys())\n",
    "    \n",
    "    bands = [bmap[str(b)] for b in PARAM['band']]\n",
    "    return list(itertools.product(gases, bands))\n",
    "\n",
    "\n",
    "def print_bestfit_params():\n",
    "    print('Best-fit values for each (gas, band)')\n",
    "    print('------------------------------------')\n",
    "    for gas, band in gasbands():\n",
    "        print('o {} band{}'.format(gas, band))\n",
    "        param = bestfits.kdist_params(molecule=gas, band=band)\n",
    "        for name, value in sorted(param.items()):\n",
    "            print(2 * ' ' + '{} = {}'.format(name, value))\n",
    "\n",
    "        \n",
    "def print_input_param():        \n",
    "    for name, value in PARAM.items():\n",
    "        print('{} = {}'.format(name, value))\n",
    "        \n",
    "        \n",
    "def print_lblnew_param():\n",
    "    for name, value in sorted(PARAM_LBLNEW.items()):\n",
    "        print('{} = {}'.format(name, value))\n"
   ]
  },
  {
   "cell_type": "code",
   "execution_count": 11,
   "metadata": {
    "collapsed": true,
    "scrolled": false
   },
   "outputs": [],
   "source": [
    "def show_html(s):\n",
    "    display.display(display.HTML(s))\n",
    "\n",
    "    \n",
    "def show_markdown(s):\n",
    "    display.display(display.Markdown(s))\n",
    "\n",
    "    \n",
    "def script():\n",
    "    \n",
    "    title = '### CLIRAD-LW'\n",
    "    s_input = 'Input Parameters'\n",
    "    s_lblnew_param = 'LBLNEW case compaired against'\n",
    "    s_bestfits = 'Best-fit Parameters'\n",
    "    s_plt_cooling = 'Cooling Rate Profiles'\n",
    "    s_tb_flux = 'Flux Comparison'\n",
    "    \n",
    "    # title\n",
    "    show_markdown('### CLIRAD-LW')\n",
    "    \n",
    "    # TOC\n",
    "    show_markdown('### Table of Contents')\n",
    "    show_html(climahtml.getHTML_hrefanchor(s_input))\n",
    "    show_html(climahtml.getHTML_hrefanchor(s_lblnew_param))\n",
    "    show_html(climahtml.getHTML_hrefanchor(s_plt_cooling))\n",
    "    show_html(climahtml.getHTML_hrefanchor(s_tb_flux))\n",
    "    show_html(climahtml.getHTML_hrefanchor(s_bestfits))\n",
    "    \n",
    "    # Input parameters\n",
    "    show_html(climahtml.getHTML_idanchor(s_input))\n",
    "    show_markdown(climahtml.getMarkdown_sectitle(s_input))\n",
    "    print_input_param()\n",
    "    \n",
    "    # LBLNEW parameters \n",
    "    show_html(climahtml.getHTML_idanchor(s_lblnew_param))\n",
    "    show_markdown(climahtml.getMarkdown_sectitle(s_lblnew_param))\n",
    "    print_lblnew_param()\n",
    "    \n",
    "    # Cooling rate profiles\n",
    "    show_html(climahtml.getHTML_idanchor(s_plt_cooling))\n",
    "    show_markdown(climahtml.getMarkdown_sectitle(s_plt_cooling))\n",
    "    script_plt_cooling()\n",
    "    \n",
    "    # Flux comparison\n",
    "    show_html(climahtml.getHTML_idanchor(s_tb_flux))\n",
    "    show_markdown(climahtml.getMarkdown_sectitle(s_tb_flux))\n",
    "    script_tb_flux()\n",
    "    \n",
    "    # Best-fit values\n",
    "    show_html(climahtml.getHTML_idanchor(s_bestfits))\n",
    "    show_markdown(climahtml.getMarkdown_sectitle(s_bestfits))\n",
    "    print_bestfit_params()\n",
    "   \n",
    "    "
   ]
  },
  {
   "cell_type": "code",
   "execution_count": 12,
   "metadata": {
    "collapsed": true,
    "scrolled": false
   },
   "outputs": [
    {
     "data": {
      "text/markdown": [
       "### CLIRAD-LW"
      ],
      "text/plain": [
       "<IPython.core.display.Markdown object>"
      ]
     },
     "metadata": {},
     "output_type": "display_data"
    },
    {
     "data": {
      "text/markdown": [
       "### Table of Contents"
      ],
      "text/plain": [
       "<IPython.core.display.Markdown object>"
      ]
     },
     "metadata": {},
     "output_type": "display_data"
    },
    {
     "data": {
      "text/html": [
       "<a href=\"#Input_Parameters\">Input Parameters</a>"
      ],
      "text/plain": [
       "<IPython.core.display.HTML object>"
      ]
     },
     "metadata": {},
     "output_type": "display_data"
    },
    {
     "data": {
      "text/html": [
       "<a href=\"#LBLNEW_case_compaired_against\">LBLNEW case compaired against</a>"
      ],
      "text/plain": [
       "<IPython.core.display.HTML object>"
      ]
     },
     "metadata": {},
     "output_type": "display_data"
    },
    {
     "data": {
      "text/html": [
       "<a href=\"#Cooling_Rate_Profiles\">Cooling Rate Profiles</a>"
      ],
      "text/plain": [
       "<IPython.core.display.HTML object>"
      ]
     },
     "metadata": {},
     "output_type": "display_data"
    },
    {
     "data": {
      "text/html": [
       "<a href=\"#Flux_Comparison\">Flux Comparison</a>"
      ],
      "text/plain": [
       "<IPython.core.display.HTML object>"
      ]
     },
     "metadata": {},
     "output_type": "display_data"
    },
    {
     "data": {
      "text/html": [
       "<a href=\"#Best-fit_Parameters\">Best-fit Parameters</a>"
      ],
      "text/plain": [
       "<IPython.core.display.HTML object>"
      ]
     },
     "metadata": {},
     "output_type": "display_data"
    },
    {
     "data": {
      "text/html": [
       "<a id=\"Input_Parameters\"></a>"
      ],
      "text/plain": [
       "<IPython.core.display.HTML object>"
      ]
     },
     "metadata": {},
     "output_type": "display_data"
    },
    {
     "data": {
      "text/markdown": [
       "# Input Parameters"
      ],
      "text/plain": [
       "<IPython.core.display.Markdown object>"
      ]
     },
     "metadata": {},
     "output_type": "display_data"
    },
    {
     "name": "stdout",
     "output_type": "stream",
     "text": [
      "atmpro = trp\n",
      "band = [3]\n",
      "commitnumber = a3da41e\n",
      "molecule = {'co2': 0.0004}\n",
      "tsfc = 300\n"
     ]
    },
    {
     "data": {
      "text/html": [
       "<a id=\"LBLNEW_case_compaired_against\"></a>"
      ],
      "text/plain": [
       "<IPython.core.display.HTML object>"
      ]
     },
     "metadata": {},
     "output_type": "display_data"
    },
    {
     "data": {
      "text/markdown": [
       "# LBLNEW case compaired against"
      ],
      "text/plain": [
       "<IPython.core.display.Markdown object>"
      ]
     },
     "metadata": {},
     "output_type": "display_data"
    },
    {
     "name": "stdout",
     "output_type": "stream",
     "text": [
      "atmpro = trp\n",
      "band = 3a\n",
      "commitnumber = 5014a19\n",
      "conc = 0.0004\n",
      "dv = 0.01\n",
      "klin = 6.375563e-24\n",
      "molecule = co2\n",
      "ng_adju = [0, 0, 0]\n",
      "ng_refs = [3, 2, 4]\n",
      "nv = 100\n",
      "option_compute_btable = 0\n",
      "option_compute_ktable = 0\n",
      "option_wgt_flux = 1\n",
      "option_wgt_k = 1\n",
      "ref_pts = [(1, 250), (10, 250), (500, 250)]\n",
      "tsfc = 300\n",
      "vmax = 620\n",
      "vmin = 540\n",
      "w_diffuse = [(1.6, 1.6, 1.7), (1.75, 1.75), (1.55, 1.55, 1.6, 1.85)]\n",
      "wgt = [(0.7, 0.3, 0.7), (0.7, 0.6), (0.4, 0.5, 0.8, 0.95)]\n"
     ]
    },
    {
     "data": {
      "text/html": [
       "<a id=\"Cooling_Rate_Profiles\"></a>"
      ],
      "text/plain": [
       "<IPython.core.display.HTML object>"
      ]
     },
     "metadata": {},
     "output_type": "display_data"
    },
    {
     "data": {
      "text/markdown": [
       "# Cooling Rate Profiles"
      ],
      "text/plain": [
       "<IPython.core.display.Markdown object>"
      ]
     },
     "metadata": {},
     "output_type": "display_data"
    },
    {
     "data": {
      "text/html": [
       "\n",
       "<div class=\"bk-root\">\n",
       "    <div class=\"bk-plotdiv\" id=\"9251ff00-33fe-4726-b025-26d6d9ea0d1f\"></div>\n",
       "</div>"
      ]
     },
     "metadata": {},
     "output_type": "display_data"
    },
    {
     "data": {
      "application/javascript": [
       "(function(root) {\n",
       "  function embed_document(root) {\n",
       "    \n",
       "  var docs_json = {\"83aea2b4-e667-47c4-b8b2-b5e3d53cf77d\":{\"roots\":{\"references\":[{\"attributes\":{\"overlay\":{\"id\":\"cc0a38fd-7153-4269-89ae-74213aa67123\",\"type\":\"BoxAnnotation\"}},\"id\":\"88487b39-68f3-4616-980f-c9e2a30bfb5a\",\"type\":\"BoxZoomTool\"},{\"attributes\":{\"line_alpha\":0.1,\"line_color\":\"#1f77b4\",\"line_width\":3,\"x\":{\"field\":\"x\"},\"y\":{\"field\":\"y\"}},\"id\":\"9a825fe7-2cec-41f6-a7fe-d456ad8d80c3\",\"type\":\"Line\"},{\"attributes\":{\"label\":{\"value\":\"WGT igg=10 wgt_flux=2\"},\"renderers\":[{\"id\":\"aa04e44a-0e03-428b-8927-7839826e00ec\",\"type\":\"GlyphRenderer\"},{\"id\":\"94e0a2bf-0f45-47be-87fb-e8b996a357a2\",\"type\":\"GlyphRenderer\"}]},\"id\":\"4b7a0ecd-9cd9-4910-a6d4-c5442d69fa74\",\"type\":\"LegendItem\"},{\"attributes\":{\"source\":{\"id\":\"b9b06ac1-936b-4fc6-bd25-86b199dfec06\",\"type\":\"ColumnDataSource\"}},\"id\":\"cb8cc5f1-c2ef-4c09-af26-4c8741b9a81e\",\"type\":\"CDSView\"},{\"attributes\":{\"source\":{\"id\":\"51e6e633-ee59-47b6-8957-092472102817\",\"type\":\"ColumnDataSource\"}},\"id\":\"365fa4e8-3faf-4633-9f97-eca0a790886a\",\"type\":\"CDSView\"},{\"attributes\":{},\"id\":\"7ed6dedd-b42f-4367-9b69-124e50e295f1\",\"type\":\"SaveTool\"},{\"attributes\":{\"data_source\":{\"id\":\"b9b06ac1-936b-4fc6-bd25-86b199dfec06\",\"type\":\"ColumnDataSource\"},\"glyph\":{\"id\":\"108a7da9-32d4-43e2-8592-04ed01298056\",\"type\":\"Circle\"},\"hover_glyph\":null,\"muted_glyph\":null,\"nonselection_glyph\":{\"id\":\"ace0ffc5-276d-439d-8c0f-c29363b5fffe\",\"type\":\"Circle\"},\"selection_glyph\":null,\"view\":{\"id\":\"cb8cc5f1-c2ef-4c09-af26-4c8741b9a81e\",\"type\":\"CDSView\"}},\"id\":\"00dfea4d-d7e0-4afb-8f64-106329d35e6b\",\"type\":\"GlyphRenderer\"},{\"attributes\":{},\"id\":\"d0761f48-03bd-4e57-a37a-acab4849a813\",\"type\":\"BasicTickFormatter\"},{\"attributes\":{\"label\":{\"value\":\"CRD\"},\"renderers\":[{\"id\":\"00dfea4d-d7e0-4afb-8f64-106329d35e6b\",\"type\":\"GlyphRenderer\"},{\"id\":\"9cff185e-b7af-4841-bcb5-6932665d5c14\",\"type\":\"GlyphRenderer\"}]},\"id\":\"b6b45087-bbfb-4745-83b2-1695f9b6f1cf\",\"type\":\"LegendItem\"},{\"attributes\":{\"callback\":null,\"column_names\":[\"x\",\"y\"],\"data\":{\"x\":{\"__ndarray__\":\"qj+IhdZa2j8G4PoLmBvaP+jLoBSMzto/ctr4uNta2z/MtUfz8LPbPxESDmIM0ds/tffrRgaW2z/gIbUe+PfaP9OsQ6DA3Nk/eQE47nsx2D/DGh1G9+LVP3BMBcvH5NI/4CxG2TJLzj8Fx8CVR5LFP+LMr+YAwcE/DudMoKnTxT+2os1xbhPMPxhOiG8XENE/oZUHK0bE1D94yShkIdnZP0eyBYxHrOA/ZS+ho9HU5T/Da2636tvmPxM0PZPD6OM//Vnit9e44D/rQFIbByTaP0cQnVTqCNQ/Cg3lwILmzj+zz8a+IkfIP3xXkKhIbMM/xLpttiTNvj+doG4ciJe3P58akgfgbrE/HsfNeHSGqT9CVUIzLJ+ZP2xfuqztnXG/qpoMBlhdl7+Ig9VvXlCUv1TzBBl0j2u/t1mCrY7zfT/2mtz3wVyRP4doxU6ws5o/PLGvvn/IoT958CykcPulP08lwSND8ak/ltk5MC2orT9OOZEm/4+wP/CVE8lkLLI/b5EocpCpsz+n3YKB9Ai1PxJtQ5y5TbY/0hS4dzh6tz98/QSojZC4P1a6WKTLk7k/DnOb09mHuj/EK8VlR3C7P8TJw2O7Urw/83Iampk2vT/PFzkT7CK+PwrjXeRUIb8/nDfK0U4TwD86z5Z7mnbAP6+XpghwesA/n4CaGJoEwD/uqu4uo5q+P6kCpOzjV70/vDWXuOG5vD9rA8Etada8P86Rrvymbr0/3r6aRSBFvj8rGHTGIEW/P+qkjPKrPcA/pqPzTPUFwT9aDhVfxCnCPyrv2/dFlcQ/\",\"dtype\":\"float64\",\"shape\":[75]},\"y\":{\"__ndarray__\":\"GhExyth1ND/Sv8nbtpRIP2vylNV0PVE/aTum7souWD/At0SJ8fVgPw3Iuahxymc/MSNhhJWvcD/bTfBN02d3P2zb5nxnaoA/CD5h5MAGhz8NmeH1TyaQP+zrCsc9p5Y/LbKd76fGnz/bLW5ISEmmPww9YvTcQq8/JV2OstnstT8Er5Y7M8G+P0c+r3jqkcU/5h99k6ZBzj88bCIzFzjVP4enV8oyxN0//yH99nXg5D8qOpLLf0jtP5kqGJXUifQ/c9cS8kHP/D+/DpwzojQEQIEmwoanVwxA4lgXt9HgE0BSSZ2AJuIbQAMJih9jjiNA5q4l5INuK0AwTKYKRj0zQNv5fmq8/DpAaCJseHrtQkB/+zpwzoxKQM3MzMzMeFJAZmZmZmZqWEAAAAAAAFxeQM3MzMzMJmJAmpmZmZkfZUBmZmZmZhhoQDMzMzMzEWtAAAAAAAAKbkBmZmZmZoFwQM3MzMzM/XFAMzMzMzN6c0CamZmZmfZ0QAAAAAAAc3ZAZmZmZmbvd0DNzMzMzGt5QDMzMzMz6HpAmpmZmZlkfEAAAAAAAOF9QGZmZmZmXX9AZmZmZuZsgECamZmZGSuBQM3MzMxM6YFAAAAAAICngkAzMzMzs2WDQGZmZmbmI4RAmpmZmRnihEDNzMzMTKCFQAAAAACAXoZAMzMzM7Mch0BmZmZm5tqHQJqZmZkZmYhAzczMzExXiUAAAAAAgBWKQDMzMzOz04pAZmZmZuaRi0CamZmZGVCMQM3MzMxMDo1AAAAAAIDMjUAzMzMzs4qOQGZmZmbmSI9A\",\"dtype\":\"float64\",\"shape\":[75]}}},\"id\":\"8fbe9004-46c4-4cef-9c21-3b8335c27057\",\"type\":\"ColumnDataSource\"},{\"attributes\":{\"fill_alpha\":{\"value\":0.1},\"fill_color\":{\"value\":\"#1f77b4\"},\"line_alpha\":{\"value\":0.1},\"line_color\":{\"value\":\"#1f77b4\"},\"x\":{\"field\":\"x\"},\"y\":{\"field\":\"y\"}},\"id\":\"ace0ffc5-276d-439d-8c0f-c29363b5fffe\",\"type\":\"Circle\"},{\"attributes\":{\"data_source\":{\"id\":\"51e6e633-ee59-47b6-8957-092472102817\",\"type\":\"ColumnDataSource\"},\"glyph\":{\"id\":\"9ef9bb22-b916-408c-b192-7ce343d28f6c\",\"type\":\"Square\"},\"hover_glyph\":null,\"muted_glyph\":null,\"nonselection_glyph\":{\"id\":\"8a92ed99-4e2d-4f81-8052-9c1c9fc28da6\",\"type\":\"Square\"},\"selection_glyph\":null,\"view\":{\"id\":\"365fa4e8-3faf-4633-9f97-eca0a790886a\",\"type\":\"CDSView\"}},\"id\":\"0989f481-257e-4e35-a1ce-75aab838a279\",\"type\":\"GlyphRenderer\"},{\"attributes\":{\"data_source\":{\"id\":\"a545acf9-e176-42e1-b77f-a30c4f01e1e1\",\"type\":\"ColumnDataSource\"},\"glyph\":{\"id\":\"c57dfad6-3779-4abc-a85c-a3b0d3a816f6\",\"type\":\"Line\"},\"hover_glyph\":null,\"muted_glyph\":null,\"nonselection_glyph\":{\"id\":\"eb99c000-4ab6-48eb-8ca1-4d6616c9e317\",\"type\":\"Line\"},\"selection_glyph\":null,\"view\":{\"id\":\"e94bf107-6b50-44e5-a8b9-f7a8488c9a58\",\"type\":\"CDSView\"}},\"id\":\"a3336813-c944-40fd-8cea-2a6ca80c0357\",\"type\":\"GlyphRenderer\"},{\"attributes\":{},\"id\":\"f96def2b-b8bb-4791-be44-7c1af12b889f\",\"type\":\"PanTool\"},{\"attributes\":{\"line_alpha\":0.6,\"line_color\":\"#984ea3\",\"line_width\":3,\"x\":{\"field\":\"x\"},\"y\":{\"field\":\"y\"}},\"id\":\"dd3ddbab-a68f-4478-99fd-3f561a34ba44\",\"type\":\"Line\"},{\"attributes\":{\"ticker\":null},\"id\":\"f7794bea-14be-44ae-a0a5-e7d7176521cd\",\"type\":\"LogTickFormatter\"},{\"attributes\":{\"line_alpha\":0.6,\"line_color\":\"#e41a1c\",\"line_dash\":[6],\"line_width\":5,\"x\":{\"field\":\"x\"},\"y\":{\"field\":\"y\"}},\"id\":\"c57dfad6-3779-4abc-a85c-a3b0d3a816f6\",\"type\":\"Line\"},{\"attributes\":{\"callback\":null,\"column_names\":[\"x\",\"y\"],\"data\":{\"x\":{\"__ndarray__\":\"6er/niG61D9LnrlKxOHUPxa5zTrDkdU/q030nIhJ1j/stDLmOuPWPznPkpsVW9c/T2m/Hc6o1z+LFBbycLvXPzpoAoR3f9c/rg3lVIPf1j/j25ggssLVP/eP/nkxBtQ/N7hivaOG0T9bxV5ueKHMP4MIbxlPTco/ZBvVNKq+zj+8+b+9LAfSPxGD2rwokdM/4lFwzXXK1D8XxNeFBVHXP/KQxGjVON0//myIv4yY4z+VLYngNSjlP3lS0Vkg+eI/odku+WVH4D9LAL9Q2GnaP8643dlXmNU/9PqVDMTs0T8tH/NizXTNP5fCX6qobsc/u0P/N9LswT/S0/Rb4HW6Pw+9KsNH9rI/8RyGe2Hlqz/BMOoVPI6eP1gJARJhCVS/Dlx5F5/Alr/3PuqnW8mSv/v3EDlXskk/JMN0/xxPij+75VR3OcOXPz8XfZlmdqA/CBZlI1hkpD9cVkl19sinPzZn6Mf1yao/H9PAEc+HrT9dtfb8CgywP48oNg8zSLE/dfg7mO17sj+bpaSriKqzPzjKH6hd1rQ/Ole6BOP/tT+Su7836yW3Px/1FItaRLg/bCestB1duT9/cllKKnC6P82OI9c6frs/jGzwuUeLvD9+eV1Ac569P/WJHAaQvb4/pR+ZATvhvz/VsQsT7mLAPxXwnuIbdcA/ZOkPJLEQwD+U7f7ly9e+P+hlZ9Gwtr0/ljqQwUEwvT/5ixPcYVe9P8D51mos8b0/1pSorajBvj/5zV/o1ra/P6RyosoCbsA/MUBa/hsqwT+DZQ8C8jzCP6TxxFvsisQ/\",\"dtype\":\"float64\",\"shape\":[75]},\"y\":{\"__ndarray__\":\"GhExyth1ND/Sv8nbtpRIP2vylNV0PVE/aTum7souWD/At0SJ8fVgPw3Iuahxymc/MSNhhJWvcD/bTfBN02d3P2zb5nxnaoA/CD5h5MAGhz8NmeH1TyaQP+zrCsc9p5Y/LbKd76fGnz/bLW5ISEmmPww9YvTcQq8/JV2OstnstT8Er5Y7M8G+P0c+r3jqkcU/5h99k6ZBzj88bCIzFzjVP4enV8oyxN0//yH99nXg5D8qOpLLf0jtP5kqGJXUifQ/c9cS8kHP/D+/DpwzojQEQIEmwoanVwxA4lgXt9HgE0BSSZ2AJuIbQAMJih9jjiNA5q4l5INuK0AwTKYKRj0zQNv5fmq8/DpAaCJseHrtQkB/+zpwzoxKQM3MzMzMeFJAZmZmZmZqWEAAAAAAAFxeQM3MzMzMJmJAmpmZmZkfZUBmZmZmZhhoQDMzMzMzEWtAAAAAAAAKbkBmZmZmZoFwQM3MzMzM/XFAMzMzMzN6c0CamZmZmfZ0QAAAAAAAc3ZAZmZmZmbvd0DNzMzMzGt5QDMzMzMz6HpAmpmZmZlkfEAAAAAAAOF9QGZmZmZmXX9AZmZmZuZsgECamZmZGSuBQM3MzMxM6YFAAAAAAICngkAzMzMzs2WDQGZmZmbmI4RAmpmZmRnihEDNzMzMTKCFQAAAAACAXoZAMzMzM7Mch0BmZmZm5tqHQJqZmZkZmYhAzczMzExXiUAAAAAAgBWKQDMzMzOz04pAZmZmZuaRi0CamZmZGVCMQM3MzMxMDo1AAAAAAIDMjUAzMzMzs4qOQGZmZmbmSI9A\",\"dtype\":\"float64\",\"shape\":[75]}}},\"id\":\"bf08f04b-28cd-45fb-b582-d293d2ea8626\",\"type\":\"ColumnDataSource\"},{\"attributes\":{\"children\":[{\"id\":\"809915ae-d0d3-4f8d-8bb3-58e36d15e0d5\",\"type\":\"Row\"}]},\"id\":\"093bde2e-4528-462c-843c-e98ebd22cba6\",\"type\":\"Column\"},{\"attributes\":{\"fill_alpha\":{\"value\":0.7},\"fill_color\":{\"value\":\"#4daf4a\"},\"line_alpha\":{\"value\":0.7},\"line_color\":{\"value\":\"#4daf4a\"},\"x\":{\"field\":\"x\"},\"y\":{\"field\":\"y\"}},\"id\":\"108a7da9-32d4-43e2-8592-04ed01298056\",\"type\":\"Circle\"},{\"attributes\":{\"source\":{\"id\":\"b932880e-e308-4489-aaea-98bac6cff449\",\"type\":\"ColumnDataSource\"}},\"id\":\"ceb8823d-82de-4d2c-bf3f-7bae38979e95\",\"type\":\"CDSView\"},{\"attributes\":{\"label\":{\"value\":\"CLIRAD `coolr_bands`\"},\"renderers\":[{\"id\":\"a3336813-c944-40fd-8cea-2a6ca80c0357\",\"type\":\"GlyphRenderer\"}]},\"id\":\"66167b37-1f21-4544-8503-9b4239e69edf\",\"type\":\"LegendItem\"},{\"attributes\":{\"callback\":null,\"column_names\":[\"x\",\"y\"],\"data\":{\"x\":{\"__ndarray__\":\"qj+IhdZa2j8G4PoLmBvaP+jLoBSMzto/ctr4uNta2z/MtUfz8LPbPxESDmIM0ds/tffrRgaW2z/gIbUe+PfaP9OsQ6DA3Nk/eQE47nsx2D/DGh1G9+LVP3BMBcvH5NI/4CxG2TJLzj8Fx8CVR5LFP+LMr+YAwcE/DudMoKnTxT+2os1xbhPMPxhOiG8XENE/oZUHK0bE1D94yShkIdnZP0eyBYxHrOA/ZS+ho9HU5T/Da2636tvmPxM0PZPD6OM//Vnit9e44D/rQFIbByTaP0cQnVTqCNQ/Cg3lwILmzj+zz8a+IkfIP3xXkKhIbMM/xLpttiTNvj+doG4ciJe3P58akgfgbrE/HsfNeHSGqT9CVUIzLJ+ZP2xfuqztnXG/qpoMBlhdl7+Ig9VvXlCUv1TzBBl0j2u/t1mCrY7zfT/2mtz3wVyRP4doxU6ws5o/PLGvvn/IoT958CykcPulP08lwSND8ak/ltk5MC2orT9OOZEm/4+wP/CVE8lkLLI/b5EocpCpsz+n3YKB9Ai1PxJtQ5y5TbY/0hS4dzh6tz98/QSojZC4P1a6WKTLk7k/DnOb09mHuj/EK8VlR3C7P8TJw2O7Urw/83Iampk2vT/PFzkT7CK+PwrjXeRUIb8/nDfK0U4TwD86z5Z7mnbAP6+XpghwesA/n4CaGJoEwD/uqu4uo5q+P6kCpOzjV70/vDWXuOG5vD9rA8Etada8P86Rrvymbr0/3r6aRSBFvj8rGHTGIEW/P+qkjPKrPcA/pqPzTPUFwT9aDhVfxCnCPyrv2/dFlcQ/\",\"dtype\":\"float64\",\"shape\":[75]},\"y\":{\"__ndarray__\":\"GhExyth1ND/Sv8nbtpRIP2vylNV0PVE/aTum7souWD/At0SJ8fVgPw3Iuahxymc/MSNhhJWvcD/bTfBN02d3P2zb5nxnaoA/CD5h5MAGhz8NmeH1TyaQP+zrCsc9p5Y/LbKd76fGnz/bLW5ISEmmPww9YvTcQq8/JV2OstnstT8Er5Y7M8G+P0c+r3jqkcU/5h99k6ZBzj88bCIzFzjVP4enV8oyxN0//yH99nXg5D8qOpLLf0jtP5kqGJXUifQ/c9cS8kHP/D+/DpwzojQEQIEmwoanVwxA4lgXt9HgE0BSSZ2AJuIbQAMJih9jjiNA5q4l5INuK0AwTKYKRj0zQNv5fmq8/DpAaCJseHrtQkB/+zpwzoxKQM3MzMzMeFJAZmZmZmZqWEAAAAAAAFxeQM3MzMzMJmJAmpmZmZkfZUBmZmZmZhhoQDMzMzMzEWtAAAAAAAAKbkBmZmZmZoFwQM3MzMzM/XFAMzMzMzN6c0CamZmZmfZ0QAAAAAAAc3ZAZmZmZmbvd0DNzMzMzGt5QDMzMzMz6HpAmpmZmZlkfEAAAAAAAOF9QGZmZmZmXX9AZmZmZuZsgECamZmZGSuBQM3MzMxM6YFAAAAAAICngkAzMzMzs2WDQGZmZmbmI4RAmpmZmRnihEDNzMzMTKCFQAAAAACAXoZAMzMzM7Mch0BmZmZm5tqHQJqZmZkZmYhAzczMzExXiUAAAAAAgBWKQDMzMzOz04pAZmZmZuaRi0CamZmZGVCMQM3MzMxMDo1AAAAAAIDMjUAzMzMzs4qOQGZmZmbmSI9A\",\"dtype\":\"float64\",\"shape\":[75]}}},\"id\":\"3838adc5-c35d-45bb-8c4c-3b7089c49a91\",\"type\":\"ColumnDataSource\"},{\"attributes\":{\"line_color\":\"#4daf4a\",\"line_width\":1.5,\"x\":{\"field\":\"x\"},\"y\":{\"field\":\"y\"}},\"id\":\"c7a70fde-1429-4a65-b201-9e2b896a5942\",\"type\":\"Line\"},{\"attributes\":{\"line_alpha\":0.1,\"line_color\":\"#1f77b4\",\"line_dash\":[6],\"line_width\":5,\"x\":{\"field\":\"x\"},\"y\":{\"field\":\"y\"}},\"id\":\"eb99c000-4ab6-48eb-8ca1-4d6616c9e317\",\"type\":\"Line\"},{\"attributes\":{\"callback\":null,\"column_names\":[\"x\",\"y\"],\"data\":{\"x\":{\"__ndarray__\":\"6er/niG61D9LnrlKxOHUPxa5zTrDkdU/q030nIhJ1j/stDLmOuPWPznPkpsVW9c/T2m/Hc6o1z+LFBbycLvXPzpoAoR3f9c/rg3lVIPf1j/j25ggssLVP/eP/nkxBtQ/N7hivaOG0T9bxV5ueKHMP4MIbxlPTco/ZBvVNKq+zj+8+b+9LAfSPxGD2rwokdM/4lFwzXXK1D8XxNeFBVHXP/KQxGjVON0//myIv4yY4z+VLYngNSjlP3lS0Vkg+eI/odku+WVH4D9LAL9Q2GnaP8643dlXmNU/9PqVDMTs0T8tH/NizXTNP5fCX6qobsc/u0P/N9LswT/S0/Rb4HW6Pw+9KsNH9rI/8RyGe2Hlqz/BMOoVPI6eP1gJARJhCVS/Dlx5F5/Alr/3PuqnW8mSv/v3EDlXskk/JMN0/xxPij+75VR3OcOXPz8XfZlmdqA/CBZlI1hkpD9cVkl19sinPzZn6Mf1yao/H9PAEc+HrT9dtfb8CgywP48oNg8zSLE/dfg7mO17sj+bpaSriKqzPzjKH6hd1rQ/Ole6BOP/tT+Su7836yW3Px/1FItaRLg/bCestB1duT9/cllKKnC6P82OI9c6frs/jGzwuUeLvD9+eV1Ac569P/WJHAaQvb4/pR+ZATvhvz/VsQsT7mLAPxXwnuIbdcA/ZOkPJLEQwD+U7f7ly9e+P+hlZ9Gwtr0/ljqQwUEwvT/5ixPcYVe9P8D51mos8b0/1pSorajBvj/5zV/o1ra/P6RyosoCbsA/MUBa/hsqwT+DZQ8C8jzCP6TxxFvsisQ/\",\"dtype\":\"float64\",\"shape\":[75]},\"y\":{\"__ndarray__\":\"GhExyth1ND/Sv8nbtpRIP2vylNV0PVE/aTum7souWD/At0SJ8fVgPw3Iuahxymc/MSNhhJWvcD/bTfBN02d3P2zb5nxnaoA/CD5h5MAGhz8NmeH1TyaQP+zrCsc9p5Y/LbKd76fGnz/bLW5ISEmmPww9YvTcQq8/JV2OstnstT8Er5Y7M8G+P0c+r3jqkcU/5h99k6ZBzj88bCIzFzjVP4enV8oyxN0//yH99nXg5D8qOpLLf0jtP5kqGJXUifQ/c9cS8kHP/D+/DpwzojQEQIEmwoanVwxA4lgXt9HgE0BSSZ2AJuIbQAMJih9jjiNA5q4l5INuK0AwTKYKRj0zQNv5fmq8/DpAaCJseHrtQkB/+zpwzoxKQM3MzMzMeFJAZmZmZmZqWEAAAAAAAFxeQM3MzMzMJmJAmpmZmZkfZUBmZmZmZhhoQDMzMzMzEWtAAAAAAAAKbkBmZmZmZoFwQM3MzMzM/XFAMzMzMzN6c0CamZmZmfZ0QAAAAAAAc3ZAZmZmZmbvd0DNzMzMzGt5QDMzMzMz6HpAmpmZmZlkfEAAAAAAAOF9QGZmZmZmXX9AZmZmZuZsgECamZmZGSuBQM3MzMxM6YFAAAAAAICngkAzMzMzs2WDQGZmZmbmI4RAmpmZmRnihEDNzMzMTKCFQAAAAACAXoZAMzMzM7Mch0BmZmZm5tqHQJqZmZkZmYhAzczMzExXiUAAAAAAgBWKQDMzMzOz04pAZmZmZuaRi0CamZmZGVCMQM3MzMxMDo1AAAAAAIDMjUAzMzMzs4qOQGZmZmbmSI9A\",\"dtype\":\"float64\",\"shape\":[75]}}},\"id\":\"ffa2d427-1b15-4352-84d0-01b3fb086677\",\"type\":\"ColumnDataSource\"},{\"attributes\":{\"line_alpha\":0.1,\"line_color\":\"#1f77b4\",\"line_width\":1.5,\"x\":{\"field\":\"x\"},\"y\":{\"field\":\"y\"}},\"id\":\"aa99d950-7171-4a1d-824e-6bafb8aecbc7\",\"type\":\"Line\"},{\"attributes\":{\"plot\":{\"id\":\"ef4bd061-2ae4-4e45-a164-c12496cb679a\",\"subtype\":\"Figure\",\"type\":\"Plot\"},\"ticker\":{\"id\":\"80bd06e3-5422-43f1-8127-a93f6dc134f1\",\"type\":\"BasicTicker\"}},\"id\":\"c1edd085-767f-467b-987e-f28a69dfa384\",\"type\":\"Grid\"},{\"attributes\":{\"data_source\":{\"id\":\"3838adc5-c35d-45bb-8c4c-3b7089c49a91\",\"type\":\"ColumnDataSource\"},\"glyph\":{\"id\":\"c7a70fde-1429-4a65-b201-9e2b896a5942\",\"type\":\"Line\"},\"hover_glyph\":null,\"muted_glyph\":null,\"nonselection_glyph\":{\"id\":\"aa99d950-7171-4a1d-824e-6bafb8aecbc7\",\"type\":\"Line\"},\"selection_glyph\":null,\"view\":{\"id\":\"e40b1373-1c40-4e40-9f3d-1c3df69f7b3d\",\"type\":\"CDSView\"}},\"id\":\"9cff185e-b7af-4841-bcb5-6932665d5c14\",\"type\":\"GlyphRenderer\"},{\"attributes\":{\"fill_alpha\":{\"value\":0.1},\"fill_color\":{\"value\":\"#1f77b4\"},\"line_alpha\":{\"value\":0.1},\"line_color\":{\"value\":\"#1f77b4\"},\"x\":{\"field\":\"x\"},\"y\":{\"field\":\"y\"}},\"id\":\"d1e6f461-aa27-485d-9309-f08184b95db7\",\"type\":\"Circle\"},{\"attributes\":{\"bottom_units\":\"screen\",\"fill_alpha\":{\"value\":0.5},\"fill_color\":{\"value\":\"lightgrey\"},\"left_units\":\"screen\",\"level\":\"overlay\",\"line_alpha\":{\"value\":1.0},\"line_color\":{\"value\":\"black\"},\"line_dash\":[4,4],\"line_width\":{\"value\":2},\"plot\":null,\"render_mode\":\"css\",\"right_units\":\"screen\",\"top_units\":\"screen\"},\"id\":\"cc0a38fd-7153-4269-89ae-74213aa67123\",\"type\":\"BoxAnnotation\"},{\"attributes\":{\"source\":{\"id\":\"3838adc5-c35d-45bb-8c4c-3b7089c49a91\",\"type\":\"ColumnDataSource\"}},\"id\":\"e40b1373-1c40-4e40-9f3d-1c3df69f7b3d\",\"type\":\"CDSView\"},{\"attributes\":{\"fill_alpha\":{\"value\":0.7},\"fill_color\":{\"value\":\"#984ea3\"},\"line_alpha\":{\"value\":0.7},\"line_color\":{\"value\":\"#984ea3\"},\"x\":{\"field\":\"x\"},\"y\":{\"field\":\"y\"}},\"id\":\"32037836-a422-416f-87bb-e9c0d1b0eda8\",\"type\":\"Square\"},{\"attributes\":{\"callback\":null,\"end\":0.7217398372799999,\"start\":-0.032500925279999995},\"id\":\"ec9255a3-8892-454d-b725-2dcc1aa0dd17\",\"type\":\"Range1d\"},{\"attributes\":{\"source\":{\"id\":\"bf08f04b-28cd-45fb-b582-d293d2ea8626\",\"type\":\"ColumnDataSource\"}},\"id\":\"3347363f-3025-406f-88c5-60f67422f0e2\",\"type\":\"CDSView\"},{\"attributes\":{\"line_alpha\":0.6,\"line_color\":\"#984ea3\",\"line_width\":3,\"x\":{\"field\":\"x\"},\"y\":{\"field\":\"y\"}},\"id\":\"257005f4-8b7c-472a-96aa-b122623880e2\",\"type\":\"Line\"},{\"attributes\":{\"fill_alpha\":{\"value\":0.1},\"fill_color\":{\"value\":\"#1f77b4\"},\"line_alpha\":{\"value\":0.1},\"line_color\":{\"value\":\"#1f77b4\"},\"x\":{\"field\":\"x\"},\"y\":{\"field\":\"y\"}},\"id\":\"9e509830-15db-416b-82b3-eaf9bb71d2c0\",\"type\":\"Square\"},{\"attributes\":{\"data_source\":{\"id\":\"bf08f04b-28cd-45fb-b582-d293d2ea8626\",\"type\":\"ColumnDataSource\"},\"glyph\":{\"id\":\"32037836-a422-416f-87bb-e9c0d1b0eda8\",\"type\":\"Square\"},\"hover_glyph\":null,\"muted_glyph\":null,\"nonselection_glyph\":{\"id\":\"9e509830-15db-416b-82b3-eaf9bb71d2c0\",\"type\":\"Square\"},\"selection_glyph\":null,\"view\":{\"id\":\"3347363f-3025-406f-88c5-60f67422f0e2\",\"type\":\"CDSView\"}},\"id\":\"aa04e44a-0e03-428b-8927-7839826e00ec\",\"type\":\"GlyphRenderer\"},{\"attributes\":{\"callback\":null,\"column_names\":[\"x\",\"y\"],\"data\":{\"x\":{\"__ndarray__\":\"6er/niG61D9LnrlKxOHUPxa5zTrDkdU/q030nIhJ1j/stDLmOuPWPznPkpsVW9c/T2m/Hc6o1z+LFBbycLvXPzpoAoR3f9c/rg3lVIPf1j/j25ggssLVP/eP/nkxBtQ/N7hivaOG0T9bxV5ueKHMP4MIbxlPTco/ZBvVNKq+zj+8+b+9LAfSPxGD2rwokdM/4lFwzXXK1D8XxNeFBVHXP/KQxGjVON0//myIv4yY4z+VLYngNSjlP3lS0Vkg+eI/odku+WVH4D9LAL9Q2GnaP8643dlXmNU/9PqVDMTs0T8tH/NizXTNP5fCX6qobsc/u0P/N9LswT/S0/Rb4HW6Pw+9KsNH9rI/8RyGe2Hlqz/BMOoVPI6eP1gJARJhCVS/Dlx5F5/Alr/3PuqnW8mSv/v3EDlXskk/JMN0/xxPij+75VR3OcOXPz8XfZlmdqA/CBZlI1hkpD9cVkl19sinPzZn6Mf1yao/H9PAEc+HrT9dtfb8CgywP48oNg8zSLE/dfg7mO17sj+bpaSriKqzPzjKH6hd1rQ/Ole6BOP/tT+Su7836yW3Px/1FItaRLg/bCestB1duT9/cllKKnC6P82OI9c6frs/jGzwuUeLvD9+eV1Ac569P/WJHAaQvb4/pR+ZATvhvz/VsQsT7mLAPxXwnuIbdcA/ZOkPJLEQwD+U7f7ly9e+P+hlZ9Gwtr0/ljqQwUEwvT/5ixPcYVe9P8D51mos8b0/1pSorajBvj/5zV/o1ra/P6RyosoCbsA/MUBa/hsqwT+DZQ8C8jzCP6TxxFvsisQ/\",\"dtype\":\"float64\",\"shape\":[75]},\"y\":{\"__ndarray__\":\"GhExyth1ND/Sv8nbtpRIP2vylNV0PVE/aTum7souWD/At0SJ8fVgPw3Iuahxymc/MSNhhJWvcD/bTfBN02d3P2zb5nxnaoA/CD5h5MAGhz8NmeH1TyaQP+zrCsc9p5Y/LbKd76fGnz/bLW5ISEmmPww9YvTcQq8/JV2OstnstT8Er5Y7M8G+P0c+r3jqkcU/5h99k6ZBzj88bCIzFzjVP4enV8oyxN0//yH99nXg5D8qOpLLf0jtP5kqGJXUifQ/c9cS8kHP/D+/DpwzojQEQIEmwoanVwxA4lgXt9HgE0BSSZ2AJuIbQAMJih9jjiNA5q4l5INuK0AwTKYKRj0zQNv5fmq8/DpAaCJseHrtQkB/+zpwzoxKQM3MzMzMeFJAZmZmZmZqWEAAAAAAAFxeQM3MzMzMJmJAmpmZmZkfZUBmZmZmZhhoQDMzMzMzEWtAAAAAAAAKbkBmZmZmZoFwQM3MzMzM/XFAMzMzMzN6c0CamZmZmfZ0QAAAAAAAc3ZAZmZmZmbvd0DNzMzMzGt5QDMzMzMz6HpAmpmZmZlkfEAAAAAAAOF9QGZmZmZmXX9AZmZmZuZsgECamZmZGSuBQM3MzMxM6YFAAAAAAICngkAzMzMzs2WDQGZmZmbmI4RAmpmZmRnihEDNzMzMTKCFQAAAAACAXoZAMzMzM7Mch0BmZmZm5tqHQJqZmZkZmYhAzczMzExXiUAAAAAAgBWKQDMzMzOz04pAZmZmZuaRi0CamZmZGVCMQM3MzMxMDo1AAAAAAIDMjUAzMzMzs4qOQGZmZmbmSI9A\",\"dtype\":\"float64\",\"shape\":[75]}}},\"id\":\"b932880e-e308-4489-aaea-98bac6cff449\",\"type\":\"ColumnDataSource\"},{\"attributes\":{\"children\":[{\"id\":\"c25db4d3-c49e-42b2-97c8-08bc1c2445bc\",\"type\":\"ToolbarBox\"},{\"id\":\"093bde2e-4528-462c-843c-e98ebd22cba6\",\"type\":\"Column\"}]},\"id\":\"22c7b268-7fbf-4b5d-b49f-6b9c7afddf84\",\"type\":\"Column\"},{\"attributes\":{},\"id\":\"a585a04a-7315-4e1d-8384-358f03c5bb50\",\"type\":\"BasicTickFormatter\"},{\"attributes\":{\"source\":{\"id\":\"ffa2d427-1b15-4352-84d0-01b3fb086677\",\"type\":\"ColumnDataSource\"}},\"id\":\"fac3da1b-92da-4ef5-b93f-e7aac732dd3c\",\"type\":\"CDSView\"},{\"attributes\":{\"items\":[{\"id\":\"66167b37-1f21-4544-8503-9b4239e69edf\",\"type\":\"LegendItem\"},{\"id\":\"b6b45087-bbfb-4745-83b2-1695f9b6f1cf\",\"type\":\"LegendItem\"},{\"id\":\"4b7a0ecd-9cd9-4910-a6d4-c5442d69fa74\",\"type\":\"LegendItem\"}],\"label_text_font_size\":{\"value\":\"8pt\"},\"location\":[10,-30],\"plot\":{\"id\":\"ef4bd061-2ae4-4e45-a164-c12496cb679a\",\"subtype\":\"Figure\",\"type\":\"Plot\"}},\"id\":\"6be072ea-8888-46f6-bf20-10a92ad6d4ee\",\"type\":\"Legend\"},{\"attributes\":{},\"id\":\"643b162e-f7a7-48e4-8521-29b6c7438180\",\"type\":\"ResetTool\"},{\"attributes\":{\"callback\":null,\"end\":0.01,\"start\":1020},\"id\":\"4666c75f-6119-4293-ae0c-b3c228ff1036\",\"type\":\"Range1d\"},{\"attributes\":{\"line_alpha\":0.1,\"line_color\":\"#1f77b4\",\"line_width\":3,\"x\":{\"field\":\"x\"},\"y\":{\"field\":\"y\"}},\"id\":\"59585586-b599-4ed7-84fe-884d99bbdc39\",\"type\":\"Line\"},{\"attributes\":{\"data_source\":{\"id\":\"ffa2d427-1b15-4352-84d0-01b3fb086677\",\"type\":\"ColumnDataSource\"},\"glyph\":{\"id\":\"257005f4-8b7c-472a-96aa-b122623880e2\",\"type\":\"Line\"},\"hover_glyph\":null,\"muted_glyph\":null,\"nonselection_glyph\":{\"id\":\"59585586-b599-4ed7-84fe-884d99bbdc39\",\"type\":\"Line\"},\"selection_glyph\":null,\"view\":{\"id\":\"fac3da1b-92da-4ef5-b93f-e7aac732dd3c\",\"type\":\"CDSView\"}},\"id\":\"94e0a2bf-0f45-47be-87fb-e8b996a357a2\",\"type\":\"GlyphRenderer\"},{\"attributes\":{\"fill_alpha\":{\"value\":0.7},\"fill_color\":{\"value\":\"#984ea3\"},\"line_alpha\":{\"value\":0.7},\"line_color\":{\"value\":\"#984ea3\"},\"x\":{\"field\":\"x\"},\"y\":{\"field\":\"y\"}},\"id\":\"9ef9bb22-b916-408c-b192-7ce343d28f6c\",\"type\":\"Square\"},{\"attributes\":{\"source\":{\"id\":\"5618da0f-77e5-4c6a-8518-76d1a9be2b28\",\"type\":\"ColumnDataSource\"}},\"id\":\"944216b0-fcb9-4874-a8e2-0ad368d1726d\",\"type\":\"CDSView\"},{\"attributes\":{\"children\":[{\"id\":\"f594c2a3-83dc-462a-9416-69b4cc5f4108\",\"subtype\":\"Figure\",\"type\":\"Plot\"},{\"id\":\"ef4bd061-2ae4-4e45-a164-c12496cb679a\",\"subtype\":\"Figure\",\"type\":\"Plot\"}]},\"id\":\"809915ae-d0d3-4f8d-8bb3-58e36d15e0d5\",\"type\":\"Row\"},{\"attributes\":{\"data_source\":{\"id\":\"5618da0f-77e5-4c6a-8518-76d1a9be2b28\",\"type\":\"ColumnDataSource\"},\"glyph\":{\"id\":\"c3393d79-dbad-40a5-b241-4c196b322918\",\"type\":\"Line\"},\"hover_glyph\":null,\"muted_glyph\":null,\"nonselection_glyph\":{\"id\":\"6793cf74-9bd6-4554-8666-6f179100a0ab\",\"type\":\"Line\"},\"selection_glyph\":null,\"view\":{\"id\":\"944216b0-fcb9-4874-a8e2-0ad368d1726d\",\"type\":\"CDSView\"}},\"id\":\"28012f64-f53a-4bd4-a788-92c61963f19f\",\"type\":\"GlyphRenderer\"},{\"attributes\":{\"fill_alpha\":{\"value\":0.7},\"fill_color\":{\"value\":\"#4daf4a\"},\"line_alpha\":{\"value\":0.7},\"line_color\":{\"value\":\"#4daf4a\"},\"x\":{\"field\":\"x\"},\"y\":{\"field\":\"y\"}},\"id\":\"0b6eec94-4848-4321-b0e8-8f866d463413\",\"type\":\"Circle\"},{\"attributes\":{},\"id\":\"b1aa98d3-db0b-430e-bb5c-898f4fe5f7ba\",\"type\":\"WheelZoomTool\"},{\"attributes\":{\"callback\":null,\"column_names\":[\"x\",\"y\"],\"data\":{\"x\":{\"__ndarray__\":\"6er/niG61D9LnrlKxOHUPxa5zTrDkdU/q030nIhJ1j/stDLmOuPWPznPkpsVW9c/T2m/Hc6o1z+LFBbycLvXPzpoAoR3f9c/rg3lVIPf1j/j25ggssLVP/eP/nkxBtQ/N7hivaOG0T9bxV5ueKHMP4MIbxlPTco/ZBvVNKq+zj+8+b+9LAfSPxGD2rwokdM/4lFwzXXK1D8XxNeFBVHXP/KQxGjVON0//myIv4yY4z+VLYngNSjlP3lS0Vkg+eI/odku+WVH4D9LAL9Q2GnaP8643dlXmNU/9PqVDMTs0T8tH/NizXTNP5fCX6qobsc/u0P/N9LswT/S0/Rb4HW6Pw+9KsNH9rI/8RyGe2Hlqz/BMOoVPI6eP1gJARJhCVS/Dlx5F5/Alr/3PuqnW8mSv/v3EDlXskk/JMN0/xxPij+75VR3OcOXPz8XfZlmdqA/CBZlI1hkpD9cVkl19sinPzZn6Mf1yao/H9PAEc+HrT9dtfb8CgywP48oNg8zSLE/dfg7mO17sj+bpaSriKqzPzjKH6hd1rQ/Ole6BOP/tT+Su7836yW3Px/1FItaRLg/bCestB1duT9/cllKKnC6P82OI9c6frs/jGzwuUeLvD9+eV1Ac569P/WJHAaQvb4/pR+ZATvhvz/VsQsT7mLAPxXwnuIbdcA/ZOkPJLEQwD+U7f7ly9e+P+hlZ9Gwtr0/ljqQwUEwvT/5ixPcYVe9P8D51mos8b0/1pSorajBvj/5zV/o1ra/P6RyosoCbsA/MUBa/hsqwT+DZQ8C8jzCP6TxxFvsisQ/\",\"dtype\":\"float64\",\"shape\":[75]},\"y\":{\"__ndarray__\":\"GhExyth1ND/Sv8nbtpRIP2vylNV0PVE/aTum7souWD/At0SJ8fVgPw3Iuahxymc/MSNhhJWvcD/bTfBN02d3P2zb5nxnaoA/CD5h5MAGhz8NmeH1TyaQP+zrCsc9p5Y/LbKd76fGnz/bLW5ISEmmPww9YvTcQq8/JV2OstnstT8Er5Y7M8G+P0c+r3jqkcU/5h99k6ZBzj88bCIzFzjVP4enV8oyxN0//yH99nXg5D8qOpLLf0jtP5kqGJXUifQ/c9cS8kHP/D+/DpwzojQEQIEmwoanVwxA4lgXt9HgE0BSSZ2AJuIbQAMJih9jjiNA5q4l5INuK0AwTKYKRj0zQNv5fmq8/DpAaCJseHrtQkB/+zpwzoxKQM3MzMzMeFJAZmZmZmZqWEAAAAAAAFxeQM3MzMzMJmJAmpmZmZkfZUBmZmZmZhhoQDMzMzMzEWtAAAAAAAAKbkBmZmZmZoFwQM3MzMzM/XFAMzMzMzN6c0CamZmZmfZ0QAAAAAAAc3ZAZmZmZmbvd0DNzMzMzGt5QDMzMzMz6HpAmpmZmZlkfEAAAAAAAOF9QGZmZmZmXX9AZmZmZuZsgECamZmZGSuBQM3MzMxM6YFAAAAAAICngkAzMzMzs2WDQGZmZmbmI4RAmpmZmRnihEDNzMzMTKCFQAAAAACAXoZAMzMzM7Mch0BmZmZm5tqHQJqZmZkZmYhAzczMzExXiUAAAAAAgBWKQDMzMzOz04pAZmZmZuaRi0CamZmZGVCMQM3MzMxMDo1AAAAAAIDMjUAzMzMzs4qOQGZmZmbmSI9A\",\"dtype\":\"float64\",\"shape\":[75]}}},\"id\":\"51e6e633-ee59-47b6-8957-092472102817\",\"type\":\"ColumnDataSource\"},{\"attributes\":{},\"id\":\"bf5c345d-21f1-4376-b3d2-a3af2b7ee029\",\"type\":\"HelpTool\"},{\"attributes\":{\"callback\":null,\"column_names\":[\"x\",\"y\"],\"data\":{\"x\":{\"__ndarray__\":\"i9XNYrU7zD8SE7PiREnbPwKb9yjxc8M/pb1/+1PN1D8NC2JeT03RP+KchfvQntE/d8PP4jkZ1D+WsHjiIH7VP5t391uWytM/Ia/mhPlA1D8mzkAbb6HTPz8m5/7JY9I/nnjvJPm80D9f4vo90tzLP8unAWKWZso/9JdpPXQozT/YgRAc2c3QP8q4kORFKNE/B3I3JayP0T8cRwd/GtLTP0jrHMGVhdo/YRZ/gFpx4j+VRPZBlmXkP6cGu92inuI/tyj1Xfge4D9GAcvf907aP81Y8oDLhtU/IWj1oxvA0T+z6CFDXHPMP0V3952y3MU/GKYAYlw7wD8JKMhgqdS2P1BjXCAqVa8/6Y7739wiqD/QkTF+5wWcP8aaFJ6MPGy/6MAehX61mb+babs8rw6Wv6dIdIUtLG6/oxtK/rorgD+m5CiCMJ6SPxH/X15I05s/Wu0Bvef1oT8jQU4eammlPzOcK336Zag/vKYKvTMXqz/uBmS+oqytP0JfDV9FF7A/FKk94BJksT/6LJIgo9ayP1bbGv+oR7Q/IgTuvRuytT9kXJJ/PRG3PwAAAAAAAAAAp56GIdJsuD/odO6waL65P03SoXg6/Lo/zgTcViclvD8QRgWx4Dy9P0CMa9ffbb4/X/4zGF29vz8P10kBkn7AP+/4/h+K9sA/qV/Q39cKwT9hXewolKbAP+Qev3XN/b8/41lZDU/Qvj/qvFuTTT2+P6+DvWgTUL4/wq67s1XNvj/sXlkvp4C/PxiRzfo5KsA/h703I9akwD8h7G9keTLBP4cbbMG9eME/\",\"dtype\":\"float64\",\"shape\":[75]},\"y\":{\"__ndarray__\":\"MCRxoNFnQT9dcvo90IdNP+qWHeIftlQ/dNWXAFcNXT8NYIJ9MWBkP10nQT3OlGw/j4BJYrQLdD9jyv8cUR58P6d8Yj6UuIM/4k9uirCpiz98QnbexmaTPzw3+LjyNps/eYMeIE4Woz9zNWieEsaqP8rD9h4kx7I/FYYSdwZXuj8CvMP1QXnCPxYvFobI6ck/F35wPnUs0j/hCb3+JH7ZPwumL75H4eE/FK5H4XoU6T/Xo3A9CpfxPwaBlUOLrPg/ira+oyFOAUCgGi/dJEYIQBE2PL1SBhFAwE2QInzhF0B3TrNAu78gQPXb14FzfidA0ZFc/kN6MEAFo5I6AR03QHtLOV/sNUBAxAq3fCS9RkC8zob8M79PQCgmb4CZcVVAMzMzMzNjW0BmZmZmZqpgQLzoK0gzo2NAAAAAAACcZkBEF9S3zJRpQJqZmZmZjWxAZmZmZmaGb0AQ5KCEmT9xQAAAAAAAvHJA8Btfe2Y4dEAIclDCzLR1QPiNrz0zMXdAEOSghJmteEAAAAAAACp6QPAbX3tmpntACXJQwswifUD3ja89M59+QDeJQWDlSH9ACHJQwswNgEAAAAAAAMyAQPiNrz0zioFABTkoYWZIgkD7xteemQaDQAhyUMLMxINAAAAAAACDhED4ja89M0GFQAU5KGFm/4VA+8bXnpm9hkAIclDCzHuHQAAAAAAAOohA+I2vPTP4iEAFOShhZraJQPvG156ZdIpACXJQwswyi0AAAAAAAPGLQPeNrz0zr4xABTkoYWZtjUD7xteemSuOQHEDPj/M6Y5A\",\"dtype\":\"float64\",\"shape\":[75]}}},\"id\":\"a545acf9-e176-42e1-b77f-a30c4f01e1e1\",\"type\":\"ColumnDataSource\"},{\"attributes\":{\"line_alpha\":0.6,\"line_color\":\"#e41a1c\",\"line_dash\":[6],\"line_width\":5,\"x\":{\"field\":\"x\"},\"y\":{\"field\":\"y\"}},\"id\":\"c3393d79-dbad-40a5-b241-4c196b322918\",\"type\":\"Line\"},{\"attributes\":{\"data_source\":{\"id\":\"b932880e-e308-4489-aaea-98bac6cff449\",\"type\":\"ColumnDataSource\"},\"glyph\":{\"id\":\"dd3ddbab-a68f-4478-99fd-3f561a34ba44\",\"type\":\"Line\"},\"hover_glyph\":null,\"muted_glyph\":null,\"nonselection_glyph\":{\"id\":\"9a825fe7-2cec-41f6-a7fe-d456ad8d80c3\",\"type\":\"Line\"},\"selection_glyph\":null,\"view\":{\"id\":\"ceb8823d-82de-4d2c-bf3f-7bae38979e95\",\"type\":\"CDSView\"}},\"id\":\"c1eea6b8-7f4d-4c2a-8cfb-eaad1884b2ea\",\"type\":\"GlyphRenderer\"},{\"attributes\":{},\"id\":\"8b5e139e-7ed8-4e2a-b90e-45750a60fe19\",\"type\":\"LogScale\"},{\"attributes\":{\"fill_alpha\":{\"value\":0.1},\"fill_color\":{\"value\":\"#1f77b4\"},\"line_alpha\":{\"value\":0.1},\"line_color\":{\"value\":\"#1f77b4\"},\"x\":{\"field\":\"x\"},\"y\":{\"field\":\"y\"}},\"id\":\"8a92ed99-4e2d-4f81-8052-9c1c9fc28da6\",\"type\":\"Square\"},{\"attributes\":{\"overlay\":{\"id\":\"992e48f7-a382-46a8-893e-3969418a3b7e\",\"type\":\"BoxAnnotation\"}},\"id\":\"bdbfd67e-3c9a-4471-bf6a-3fcf7e490108\",\"type\":\"BoxZoomTool\"},{\"attributes\":{\"data_source\":{\"id\":\"8fbe9004-46c4-4cef-9c21-3b8335c27057\",\"type\":\"ColumnDataSource\"},\"glyph\":{\"id\":\"0b6eec94-4848-4321-b0e8-8f866d463413\",\"type\":\"Circle\"},\"hover_glyph\":null,\"muted_glyph\":null,\"nonselection_glyph\":{\"id\":\"d1e6f461-aa27-485d-9309-f08184b95db7\",\"type\":\"Circle\"},\"selection_glyph\":null,\"view\":{\"id\":\"a10f68ce-3039-42a3-a40e-afbcf687b567\",\"type\":\"CDSView\"}},\"id\":\"aec8899e-1300-4a44-98fd-73e636409305\",\"type\":\"GlyphRenderer\"},{\"attributes\":{},\"id\":\"180fd638-6feb-4b96-bbec-08663b94af8e\",\"type\":\"WheelZoomTool\"},{\"attributes\":{\"line_alpha\":0.1,\"line_color\":\"#1f77b4\",\"line_width\":1.5,\"x\":{\"field\":\"x\"},\"y\":{\"field\":\"y\"}},\"id\":\"8a9bd051-46c8-4f6c-9a7d-48658ca5093e\",\"type\":\"Line\"},{\"attributes\":{\"callback\":null,\"end\":0.01,\"start\":1020},\"id\":\"700789f6-5766-4a5b-b54d-7773a3c88f95\",\"type\":\"Range1d\"},{\"attributes\":{\"line_alpha\":0.1,\"line_color\":\"#1f77b4\",\"line_dash\":[6],\"line_width\":5,\"x\":{\"field\":\"x\"},\"y\":{\"field\":\"y\"}},\"id\":\"6793cf74-9bd6-4554-8666-6f179100a0ab\",\"type\":\"Line\"},{\"attributes\":{},\"id\":\"bbe2a67f-ff2f-49c2-806e-072e6db2937e\",\"type\":\"BasicTicker\"},{\"attributes\":{\"bottom_units\":\"screen\",\"fill_alpha\":{\"value\":0.5},\"fill_color\":{\"value\":\"lightgrey\"},\"left_units\":\"screen\",\"level\":\"overlay\",\"line_alpha\":{\"value\":1.0},\"line_color\":{\"value\":\"black\"},\"line_dash\":[4,4],\"line_width\":{\"value\":2},\"plot\":null,\"render_mode\":\"css\",\"right_units\":\"screen\",\"top_units\":\"screen\"},\"id\":\"992e48f7-a382-46a8-893e-3969418a3b7e\",\"type\":\"BoxAnnotation\"},{\"attributes\":{\"source\":{\"id\":\"b4f5df50-5f35-4142-897b-c0661b13aa69\",\"type\":\"ColumnDataSource\"}},\"id\":\"abda2342-f647-4a8d-925d-3320efcd176a\",\"type\":\"CDSView\"},{\"attributes\":{\"dimension\":1,\"plot\":{\"id\":\"f594c2a3-83dc-462a-9416-69b4cc5f4108\",\"subtype\":\"Figure\",\"type\":\"Plot\"},\"ticker\":{\"id\":\"bbe2a67f-ff2f-49c2-806e-072e6db2937e\",\"type\":\"BasicTicker\"}},\"id\":\"bedd8046-994c-4049-a031-c4c5bcf30ef0\",\"type\":\"Grid\"},{\"attributes\":{},\"id\":\"704bfbb2-4874-4553-9647-2ee1e030efac\",\"type\":\"PanTool\"},{\"attributes\":{},\"id\":\"91b77711-a27a-4829-a2e7-5a5a7ef9164b\",\"type\":\"ResetTool\"},{\"attributes\":{},\"id\":\"05a8662c-52aa-4bd1-bd02-63c43e5d6daf\",\"type\":\"HelpTool\"},{\"attributes\":{},\"id\":\"80bd06e3-5422-43f1-8127-a93f6dc134f1\",\"type\":\"BasicTicker\"},{\"attributes\":{\"axis_label\":\"cooling rate [K/day]\",\"formatter\":{\"id\":\"d0761f48-03bd-4e57-a37a-acab4849a813\",\"type\":\"BasicTickFormatter\"},\"plot\":{\"id\":\"ef4bd061-2ae4-4e45-a164-c12496cb679a\",\"subtype\":\"Figure\",\"type\":\"Plot\"},\"ticker\":{\"id\":\"80bd06e3-5422-43f1-8127-a93f6dc134f1\",\"type\":\"BasicTicker\"}},\"id\":\"31571290-2a45-43b9-8d76-a21c86068981\",\"type\":\"LinearAxis\"},{\"attributes\":{\"source\":{\"id\":\"8fbe9004-46c4-4cef-9c21-3b8335c27057\",\"type\":\"ColumnDataSource\"}},\"id\":\"a10f68ce-3039-42a3-a40e-afbcf687b567\",\"type\":\"CDSView\"},{\"attributes\":{\"active_drag\":\"auto\",\"active_inspect\":\"auto\",\"active_scroll\":\"auto\",\"active_tap\":\"auto\",\"tools\":[{\"id\":\"f96def2b-b8bb-4791-be44-7c1af12b889f\",\"type\":\"PanTool\"},{\"id\":\"b1aa98d3-db0b-430e-bb5c-898f4fe5f7ba\",\"type\":\"WheelZoomTool\"},{\"id\":\"88487b39-68f3-4616-980f-c9e2a30bfb5a\",\"type\":\"BoxZoomTool\"},{\"id\":\"7ed6dedd-b42f-4367-9b69-124e50e295f1\",\"type\":\"SaveTool\"},{\"id\":\"643b162e-f7a7-48e4-8521-29b6c7438180\",\"type\":\"ResetTool\"},{\"id\":\"bf5c345d-21f1-4376-b3d2-a3af2b7ee029\",\"type\":\"HelpTool\"}]},\"id\":\"9a704888-4240-4d4e-b83c-b5112f1122e2\",\"type\":\"Toolbar\"},{\"attributes\":{},\"id\":\"5749f349-8a51-4920-bae6-b71f4e773a01\",\"type\":\"SaveTool\"},{\"attributes\":{},\"id\":\"e1602309-c670-4300-97ec-bbc088001e4f\",\"type\":\"LinearScale\"},{\"attributes\":{\"below\":[{\"id\":\"31571290-2a45-43b9-8d76-a21c86068981\",\"type\":\"LinearAxis\"}],\"left\":[{\"id\":\"b26301d0-99a9-41c1-a431-b1ac9ab71611\",\"type\":\"LogAxis\"}],\"plot_height\":500,\"plot_width\":560,\"renderers\":[{\"id\":\"31571290-2a45-43b9-8d76-a21c86068981\",\"type\":\"LinearAxis\"},{\"id\":\"c1edd085-767f-467b-987e-f28a69dfa384\",\"type\":\"Grid\"},{\"id\":\"b26301d0-99a9-41c1-a431-b1ac9ab71611\",\"type\":\"LogAxis\"},{\"id\":\"caee36d2-2487-406c-a9e0-d4414d80f0b6\",\"type\":\"Grid\"},{\"id\":\"cc0a38fd-7153-4269-89ae-74213aa67123\",\"type\":\"BoxAnnotation\"},{\"id\":\"a3336813-c944-40fd-8cea-2a6ca80c0357\",\"type\":\"GlyphRenderer\"},{\"id\":\"00dfea4d-d7e0-4afb-8f64-106329d35e6b\",\"type\":\"GlyphRenderer\"},{\"id\":\"9cff185e-b7af-4841-bcb5-6932665d5c14\",\"type\":\"GlyphRenderer\"},{\"id\":\"aa04e44a-0e03-428b-8927-7839826e00ec\",\"type\":\"GlyphRenderer\"},{\"id\":\"94e0a2bf-0f45-47be-87fb-e8b996a357a2\",\"type\":\"GlyphRenderer\"},{\"id\":\"6be072ea-8888-46f6-bf20-10a92ad6d4ee\",\"type\":\"Legend\"}],\"right\":[{\"id\":\"6be072ea-8888-46f6-bf20-10a92ad6d4ee\",\"type\":\"Legend\"}],\"title\":{\"id\":\"f9d522aa-5bce-439c-9f75-ae3b6cf75437\",\"type\":\"Title\"},\"toolbar\":{\"id\":\"9a704888-4240-4d4e-b83c-b5112f1122e2\",\"type\":\"Toolbar\"},\"toolbar_location\":null,\"x_range\":{\"id\":\"ec9255a3-8892-454d-b725-2dcc1aa0dd17\",\"type\":\"Range1d\"},\"x_scale\":{\"id\":\"e1602309-c670-4300-97ec-bbc088001e4f\",\"type\":\"LinearScale\"},\"y_range\":{\"id\":\"4666c75f-6119-4293-ae0c-b3c228ff1036\",\"type\":\"Range1d\"},\"y_scale\":{\"id\":\"8b5e139e-7ed8-4e2a-b90e-45750a60fe19\",\"type\":\"LogScale\"}},\"id\":\"ef4bd061-2ae4-4e45-a164-c12496cb679a\",\"subtype\":\"Figure\",\"type\":\"Plot\"},{\"attributes\":{},\"id\":\"de2862de-1dd1-4263-ae68-cf04c60e2de8\",\"type\":\"BasicTicker\"},{\"attributes\":{\"data_source\":{\"id\":\"b4f5df50-5f35-4142-897b-c0661b13aa69\",\"type\":\"ColumnDataSource\"},\"glyph\":{\"id\":\"72444231-27fd-41d6-b29f-ee4dc27837d9\",\"type\":\"Line\"},\"hover_glyph\":null,\"muted_glyph\":null,\"nonselection_glyph\":{\"id\":\"8a9bd051-46c8-4f6c-9a7d-48658ca5093e\",\"type\":\"Line\"},\"selection_glyph\":null,\"view\":{\"id\":\"abda2342-f647-4a8d-925d-3320efcd176a\",\"type\":\"CDSView\"}},\"id\":\"d582690a-4bf1-4b92-92fd-cdc97608c4d6\",\"type\":\"GlyphRenderer\"},{\"attributes\":{\"below\":[{\"id\":\"c8c1cfcc-2f81-48ea-a40e-3c0c2d384ba6\",\"type\":\"LinearAxis\"}],\"left\":[{\"id\":\"11ed6287-458e-4b6d-ae6a-0c7d371c1927\",\"type\":\"LinearAxis\"}],\"plot_height\":500,\"plot_width\":400,\"renderers\":[{\"id\":\"c8c1cfcc-2f81-48ea-a40e-3c0c2d384ba6\",\"type\":\"LinearAxis\"},{\"id\":\"3852eb1f-70da-4db8-8f05-dd50b6f4c8a0\",\"type\":\"Grid\"},{\"id\":\"11ed6287-458e-4b6d-ae6a-0c7d371c1927\",\"type\":\"LinearAxis\"},{\"id\":\"bedd8046-994c-4049-a031-c4c5bcf30ef0\",\"type\":\"Grid\"},{\"id\":\"992e48f7-a382-46a8-893e-3969418a3b7e\",\"type\":\"BoxAnnotation\"},{\"id\":\"28012f64-f53a-4bd4-a788-92c61963f19f\",\"type\":\"GlyphRenderer\"},{\"id\":\"aec8899e-1300-4a44-98fd-73e636409305\",\"type\":\"GlyphRenderer\"},{\"id\":\"d582690a-4bf1-4b92-92fd-cdc97608c4d6\",\"type\":\"GlyphRenderer\"},{\"id\":\"0989f481-257e-4e35-a1ce-75aab838a279\",\"type\":\"GlyphRenderer\"},{\"id\":\"c1eea6b8-7f4d-4c2a-8cfb-eaad1884b2ea\",\"type\":\"GlyphRenderer\"}],\"title\":{\"id\":\"e1b3dbbd-1ca0-4741-b67e-7d504420aced\",\"type\":\"Title\"},\"toolbar\":{\"id\":\"e9ba948f-58c2-4932-887a-8e391dd8a246\",\"type\":\"Toolbar\"},\"toolbar_location\":null,\"x_range\":{\"id\":\"3cd79bbd-500a-4d62-8d0f-f08b9acbe2d8\",\"type\":\"Range1d\"},\"x_scale\":{\"id\":\"2d77dac9-cffa-4c32-85ce-ccb673bc083f\",\"type\":\"LinearScale\"},\"y_range\":{\"id\":\"700789f6-5766-4a5b-b54d-7773a3c88f95\",\"type\":\"Range1d\"},\"y_scale\":{\"id\":\"a0dd6a47-0e4c-44e2-8e26-62e2430862a5\",\"type\":\"LinearScale\"}},\"id\":\"f594c2a3-83dc-462a-9416-69b4cc5f4108\",\"subtype\":\"Figure\",\"type\":\"Plot\"},{\"attributes\":{\"axis_label\":\"pressure [mb]\",\"formatter\":{\"id\":\"f7794bea-14be-44ae-a0a5-e7d7176521cd\",\"type\":\"LogTickFormatter\"},\"plot\":{\"id\":\"ef4bd061-2ae4-4e45-a164-c12496cb679a\",\"subtype\":\"Figure\",\"type\":\"Plot\"},\"ticker\":{\"id\":\"84cf700b-d106-4102-8c69-291bf671af73\",\"type\":\"LogTicker\"}},\"id\":\"b26301d0-99a9-41c1-a431-b1ac9ab71611\",\"type\":\"LogAxis\"},{\"attributes\":{\"callback\":null,\"column_names\":[\"x\",\"y\"],\"data\":{\"x\":{\"__ndarray__\":\"i9XNYrU7zD8SE7PiREnbPwKb9yjxc8M/pb1/+1PN1D8NC2JeT03RP+KchfvQntE/d8PP4jkZ1D+WsHjiIH7VP5t391uWytM/Ia/mhPlA1D8mzkAbb6HTPz8m5/7JY9I/nnjvJPm80D9f4vo90tzLP8unAWKWZso/9JdpPXQozT/YgRAc2c3QP8q4kORFKNE/B3I3JayP0T8cRwd/GtLTP0jrHMGVhdo/YRZ/gFpx4j+VRPZBlmXkP6cGu92inuI/tyj1Xfge4D9GAcvf907aP81Y8oDLhtU/IWj1oxvA0T+z6CFDXHPMP0V3952y3MU/GKYAYlw7wD8JKMhgqdS2P1BjXCAqVa8/6Y7739wiqD/QkTF+5wWcP8aaFJ6MPGy/6MAehX61mb+babs8rw6Wv6dIdIUtLG6/oxtK/rorgD+m5CiCMJ6SPxH/X15I05s/Wu0Bvef1oT8jQU4eammlPzOcK336Zag/vKYKvTMXqz/uBmS+oqytP0JfDV9FF7A/FKk94BJksT/6LJIgo9ayP1bbGv+oR7Q/IgTuvRuytT9kXJJ/PRG3PwAAAAAAAAAAp56GIdJsuD/odO6waL65P03SoXg6/Lo/zgTcViclvD8QRgWx4Dy9P0CMa9ffbb4/X/4zGF29vz8P10kBkn7AP+/4/h+K9sA/qV/Q39cKwT9hXewolKbAP+Qev3XN/b8/41lZDU/Qvj/qvFuTTT2+P6+DvWgTUL4/wq67s1XNvj/sXlkvp4C/PxiRzfo5KsA/h703I9akwD8h7G9keTLBP4cbbMG9eME/\",\"dtype\":\"float64\",\"shape\":[75]},\"y\":{\"__ndarray__\":\"MCRxoNFnQT9dcvo90IdNP+qWHeIftlQ/dNWXAFcNXT8NYIJ9MWBkP10nQT3OlGw/j4BJYrQLdD9jyv8cUR58P6d8Yj6UuIM/4k9uirCpiz98QnbexmaTPzw3+LjyNps/eYMeIE4Woz9zNWieEsaqP8rD9h4kx7I/FYYSdwZXuj8CvMP1QXnCPxYvFobI6ck/F35wPnUs0j/hCb3+JH7ZPwumL75H4eE/FK5H4XoU6T/Xo3A9CpfxPwaBlUOLrPg/ira+oyFOAUCgGi/dJEYIQBE2PL1SBhFAwE2QInzhF0B3TrNAu78gQPXb14FzfidA0ZFc/kN6MEAFo5I6AR03QHtLOV/sNUBAxAq3fCS9RkC8zob8M79PQCgmb4CZcVVAMzMzMzNjW0BmZmZmZqpgQLzoK0gzo2NAAAAAAACcZkBEF9S3zJRpQJqZmZmZjWxAZmZmZmaGb0AQ5KCEmT9xQAAAAAAAvHJA8Btfe2Y4dEAIclDCzLR1QPiNrz0zMXdAEOSghJmteEAAAAAAACp6QPAbX3tmpntACXJQwswifUD3ja89M59+QDeJQWDlSH9ACHJQwswNgEAAAAAAAMyAQPiNrz0zioFABTkoYWZIgkD7xteemQaDQAhyUMLMxINAAAAAAACDhED4ja89M0GFQAU5KGFm/4VA+8bXnpm9hkAIclDCzHuHQAAAAAAAOohA+I2vPTP4iEAFOShhZraJQPvG156ZdIpACXJQwswyi0AAAAAAAPGLQPeNrz0zr4xABTkoYWZtjUD7xteemSuOQHEDPj/M6Y5A\",\"dtype\":\"float64\",\"shape\":[75]}}},\"id\":\"5618da0f-77e5-4c6a-8518-76d1a9be2b28\",\"type\":\"ColumnDataSource\"},{\"attributes\":{\"plot\":null,\"text\":\"Log pressure scale\"},\"id\":\"f9d522aa-5bce-439c-9f75-ae3b6cf75437\",\"type\":\"Title\"},{\"attributes\":{},\"id\":\"75a3c4e7-f943-4d38-b2ef-a0da7cdb7f17\",\"type\":\"BasicTickFormatter\"},{\"attributes\":{\"tools\":[{\"id\":\"704bfbb2-4874-4553-9647-2ee1e030efac\",\"type\":\"PanTool\"},{\"id\":\"180fd638-6feb-4b96-bbec-08663b94af8e\",\"type\":\"WheelZoomTool\"},{\"id\":\"bdbfd67e-3c9a-4471-bf6a-3fcf7e490108\",\"type\":\"BoxZoomTool\"},{\"id\":\"5749f349-8a51-4920-bae6-b71f4e773a01\",\"type\":\"SaveTool\"},{\"id\":\"91b77711-a27a-4829-a2e7-5a5a7ef9164b\",\"type\":\"ResetTool\"},{\"id\":\"05a8662c-52aa-4bd1-bd02-63c43e5d6daf\",\"type\":\"HelpTool\"},{\"id\":\"f96def2b-b8bb-4791-be44-7c1af12b889f\",\"type\":\"PanTool\"},{\"id\":\"b1aa98d3-db0b-430e-bb5c-898f4fe5f7ba\",\"type\":\"WheelZoomTool\"},{\"id\":\"88487b39-68f3-4616-980f-c9e2a30bfb5a\",\"type\":\"BoxZoomTool\"},{\"id\":\"7ed6dedd-b42f-4367-9b69-124e50e295f1\",\"type\":\"SaveTool\"},{\"id\":\"643b162e-f7a7-48e4-8521-29b6c7438180\",\"type\":\"ResetTool\"},{\"id\":\"bf5c345d-21f1-4376-b3d2-a3af2b7ee029\",\"type\":\"HelpTool\"}]},\"id\":\"adc48f69-3e11-44f0-834e-6456ebe68dba\",\"type\":\"ProxyToolbar\"},{\"attributes\":{\"source\":{\"id\":\"a545acf9-e176-42e1-b77f-a30c4f01e1e1\",\"type\":\"ColumnDataSource\"}},\"id\":\"e94bf107-6b50-44e5-a8b9-f7a8488c9a58\",\"type\":\"CDSView\"},{\"attributes\":{\"callback\":null,\"column_names\":[\"x\",\"y\"],\"data\":{\"x\":{\"__ndarray__\":\"qj+IhdZa2j8G4PoLmBvaP+jLoBSMzto/ctr4uNta2z/MtUfz8LPbPxESDmIM0ds/tffrRgaW2z/gIbUe+PfaP9OsQ6DA3Nk/eQE47nsx2D/DGh1G9+LVP3BMBcvH5NI/4CxG2TJLzj8Fx8CVR5LFP+LMr+YAwcE/DudMoKnTxT+2os1xbhPMPxhOiG8XENE/oZUHK0bE1D94yShkIdnZP0eyBYxHrOA/ZS+ho9HU5T/Da2636tvmPxM0PZPD6OM//Vnit9e44D/rQFIbByTaP0cQnVTqCNQ/Cg3lwILmzj+zz8a+IkfIP3xXkKhIbMM/xLpttiTNvj+doG4ciJe3P58akgfgbrE/HsfNeHSGqT9CVUIzLJ+ZP2xfuqztnXG/qpoMBlhdl7+Ig9VvXlCUv1TzBBl0j2u/t1mCrY7zfT/2mtz3wVyRP4doxU6ws5o/PLGvvn/IoT958CykcPulP08lwSND8ak/ltk5MC2orT9OOZEm/4+wP/CVE8lkLLI/b5EocpCpsz+n3YKB9Ai1PxJtQ5y5TbY/0hS4dzh6tz98/QSojZC4P1a6WKTLk7k/DnOb09mHuj/EK8VlR3C7P8TJw2O7Urw/83Iampk2vT/PFzkT7CK+PwrjXeRUIb8/nDfK0U4TwD86z5Z7mnbAP6+XpghwesA/n4CaGJoEwD/uqu4uo5q+P6kCpOzjV70/vDWXuOG5vD9rA8Etada8P86Rrvymbr0/3r6aRSBFvj8rGHTGIEW/P+qkjPKrPcA/pqPzTPUFwT9aDhVfxCnCPyrv2/dFlcQ/\",\"dtype\":\"float64\",\"shape\":[75]},\"y\":{\"__ndarray__\":\"GhExyth1ND/Sv8nbtpRIP2vylNV0PVE/aTum7souWD/At0SJ8fVgPw3Iuahxymc/MSNhhJWvcD/bTfBN02d3P2zb5nxnaoA/CD5h5MAGhz8NmeH1TyaQP+zrCsc9p5Y/LbKd76fGnz/bLW5ISEmmPww9YvTcQq8/JV2OstnstT8Er5Y7M8G+P0c+r3jqkcU/5h99k6ZBzj88bCIzFzjVP4enV8oyxN0//yH99nXg5D8qOpLLf0jtP5kqGJXUifQ/c9cS8kHP/D+/DpwzojQEQIEmwoanVwxA4lgXt9HgE0BSSZ2AJuIbQAMJih9jjiNA5q4l5INuK0AwTKYKRj0zQNv5fmq8/DpAaCJseHrtQkB/+zpwzoxKQM3MzMzMeFJAZmZmZmZqWEAAAAAAAFxeQM3MzMzMJmJAmpmZmZkfZUBmZmZmZhhoQDMzMzMzEWtAAAAAAAAKbkBmZmZmZoFwQM3MzMzM/XFAMzMzMzN6c0CamZmZmfZ0QAAAAAAAc3ZAZmZmZmbvd0DNzMzMzGt5QDMzMzMz6HpAmpmZmZlkfEAAAAAAAOF9QGZmZmZmXX9AZmZmZuZsgECamZmZGSuBQM3MzMxM6YFAAAAAAICngkAzMzMzs2WDQGZmZmbmI4RAmpmZmRnihEDNzMzMTKCFQAAAAACAXoZAMzMzM7Mch0BmZmZm5tqHQJqZmZkZmYhAzczMzExXiUAAAAAAgBWKQDMzMzOz04pAZmZmZuaRi0CamZmZGVCMQM3MzMxMDo1AAAAAAIDMjUAzMzMzs4qOQGZmZmbmSI9A\",\"dtype\":\"float64\",\"shape\":[75]}}},\"id\":\"b4f5df50-5f35-4142-897b-c0661b13aa69\",\"type\":\"ColumnDataSource\"},{\"attributes\":{\"plot\":{\"id\":\"f594c2a3-83dc-462a-9416-69b4cc5f4108\",\"subtype\":\"Figure\",\"type\":\"Plot\"},\"ticker\":{\"id\":\"de2862de-1dd1-4263-ae68-cf04c60e2de8\",\"type\":\"BasicTicker\"}},\"id\":\"3852eb1f-70da-4db8-8f05-dd50b6f4c8a0\",\"type\":\"Grid\"},{\"attributes\":{\"line_color\":\"#4daf4a\",\"line_width\":1.5,\"x\":{\"field\":\"x\"},\"y\":{\"field\":\"y\"}},\"id\":\"72444231-27fd-41d6-b29f-ee4dc27837d9\",\"type\":\"Line\"},{\"attributes\":{\"plot\":null,\"text\":\"Linear pressure scale\"},\"id\":\"e1b3dbbd-1ca0-4741-b67e-7d504420aced\",\"type\":\"Title\"},{\"attributes\":{},\"id\":\"a0dd6a47-0e4c-44e2-8e26-62e2430862a5\",\"type\":\"LinearScale\"},{\"attributes\":{\"axis_label\":\"pressure [mb]\",\"formatter\":{\"id\":\"a585a04a-7315-4e1d-8384-358f03c5bb50\",\"type\":\"BasicTickFormatter\"},\"plot\":{\"id\":\"f594c2a3-83dc-462a-9416-69b4cc5f4108\",\"subtype\":\"Figure\",\"type\":\"Plot\"},\"ticker\":{\"id\":\"bbe2a67f-ff2f-49c2-806e-072e6db2937e\",\"type\":\"BasicTicker\"}},\"id\":\"11ed6287-458e-4b6d-ae6a-0c7d371c1927\",\"type\":\"LinearAxis\"},{\"attributes\":{\"toolbar\":{\"id\":\"adc48f69-3e11-44f0-834e-6456ebe68dba\",\"type\":\"ProxyToolbar\"},\"toolbar_location\":\"above\"},\"id\":\"c25db4d3-c49e-42b2-97c8-08bc1c2445bc\",\"type\":\"ToolbarBox\"},{\"attributes\":{\"callback\":null,\"column_names\":[\"x\",\"y\"],\"data\":{\"x\":{\"__ndarray__\":\"qj+IhdZa2j8G4PoLmBvaP+jLoBSMzto/ctr4uNta2z/MtUfz8LPbPxESDmIM0ds/tffrRgaW2z/gIbUe+PfaP9OsQ6DA3Nk/eQE47nsx2D/DGh1G9+LVP3BMBcvH5NI/4CxG2TJLzj8Fx8CVR5LFP+LMr+YAwcE/DudMoKnTxT+2os1xbhPMPxhOiG8XENE/oZUHK0bE1D94yShkIdnZP0eyBYxHrOA/ZS+ho9HU5T/Da2636tvmPxM0PZPD6OM//Vnit9e44D/rQFIbByTaP0cQnVTqCNQ/Cg3lwILmzj+zz8a+IkfIP3xXkKhIbMM/xLpttiTNvj+doG4ciJe3P58akgfgbrE/HsfNeHSGqT9CVUIzLJ+ZP2xfuqztnXG/qpoMBlhdl7+Ig9VvXlCUv1TzBBl0j2u/t1mCrY7zfT/2mtz3wVyRP4doxU6ws5o/PLGvvn/IoT958CykcPulP08lwSND8ak/ltk5MC2orT9OOZEm/4+wP/CVE8lkLLI/b5EocpCpsz+n3YKB9Ai1PxJtQ5y5TbY/0hS4dzh6tz98/QSojZC4P1a6WKTLk7k/DnOb09mHuj/EK8VlR3C7P8TJw2O7Urw/83Iampk2vT/PFzkT7CK+PwrjXeRUIb8/nDfK0U4TwD86z5Z7mnbAP6+XpghwesA/n4CaGJoEwD/uqu4uo5q+P6kCpOzjV70/vDWXuOG5vD9rA8Etada8P86Rrvymbr0/3r6aRSBFvj8rGHTGIEW/P+qkjPKrPcA/pqPzTPUFwT9aDhVfxCnCPyrv2/dFlcQ/\",\"dtype\":\"float64\",\"shape\":[75]},\"y\":{\"__ndarray__\":\"GhExyth1ND/Sv8nbtpRIP2vylNV0PVE/aTum7souWD/At0SJ8fVgPw3Iuahxymc/MSNhhJWvcD/bTfBN02d3P2zb5nxnaoA/CD5h5MAGhz8NmeH1TyaQP+zrCsc9p5Y/LbKd76fGnz/bLW5ISEmmPww9YvTcQq8/JV2OstnstT8Er5Y7M8G+P0c+r3jqkcU/5h99k6ZBzj88bCIzFzjVP4enV8oyxN0//yH99nXg5D8qOpLLf0jtP5kqGJXUifQ/c9cS8kHP/D+/DpwzojQEQIEmwoanVwxA4lgXt9HgE0BSSZ2AJuIbQAMJih9jjiNA5q4l5INuK0AwTKYKRj0zQNv5fmq8/DpAaCJseHrtQkB/+zpwzoxKQM3MzMzMeFJAZmZmZmZqWEAAAAAAAFxeQM3MzMzMJmJAmpmZmZkfZUBmZmZmZhhoQDMzMzMzEWtAAAAAAAAKbkBmZmZmZoFwQM3MzMzM/XFAMzMzMzN6c0CamZmZmfZ0QAAAAAAAc3ZAZmZmZmbvd0DNzMzMzGt5QDMzMzMz6HpAmpmZmZlkfEAAAAAAAOF9QGZmZmZmXX9AZmZmZuZsgECamZmZGSuBQM3MzMxM6YFAAAAAAICngkAzMzMzs2WDQGZmZmbmI4RAmpmZmRnihEDNzMzMTKCFQAAAAACAXoZAMzMzM7Mch0BmZmZm5tqHQJqZmZkZmYhAzczMzExXiUAAAAAAgBWKQDMzMzOz04pAZmZmZuaRi0CamZmZGVCMQM3MzMxMDo1AAAAAAIDMjUAzMzMzs4qOQGZmZmbmSI9A\",\"dtype\":\"float64\",\"shape\":[75]}}},\"id\":\"b9b06ac1-936b-4fc6-bd25-86b199dfec06\",\"type\":\"ColumnDataSource\"},{\"attributes\":{\"active_drag\":\"auto\",\"active_inspect\":\"auto\",\"active_scroll\":\"auto\",\"active_tap\":\"auto\",\"tools\":[{\"id\":\"704bfbb2-4874-4553-9647-2ee1e030efac\",\"type\":\"PanTool\"},{\"id\":\"180fd638-6feb-4b96-bbec-08663b94af8e\",\"type\":\"WheelZoomTool\"},{\"id\":\"bdbfd67e-3c9a-4471-bf6a-3fcf7e490108\",\"type\":\"BoxZoomTool\"},{\"id\":\"5749f349-8a51-4920-bae6-b71f4e773a01\",\"type\":\"SaveTool\"},{\"id\":\"91b77711-a27a-4829-a2e7-5a5a7ef9164b\",\"type\":\"ResetTool\"},{\"id\":\"05a8662c-52aa-4bd1-bd02-63c43e5d6daf\",\"type\":\"HelpTool\"}]},\"id\":\"e9ba948f-58c2-4932-887a-8e391dd8a246\",\"type\":\"Toolbar\"},{\"attributes\":{},\"id\":\"2d77dac9-cffa-4c32-85ce-ccb673bc083f\",\"type\":\"LinearScale\"},{\"attributes\":{\"axis_label\":\"cooling rate [K/day]\",\"formatter\":{\"id\":\"75a3c4e7-f943-4d38-b2ef-a0da7cdb7f17\",\"type\":\"BasicTickFormatter\"},\"plot\":{\"id\":\"f594c2a3-83dc-462a-9416-69b4cc5f4108\",\"subtype\":\"Figure\",\"type\":\"Plot\"},\"ticker\":{\"id\":\"de2862de-1dd1-4263-ae68-cf04c60e2de8\",\"type\":\"BasicTicker\"}},\"id\":\"c8c1cfcc-2f81-48ea-a40e-3c0c2d384ba6\",\"type\":\"LinearAxis\"},{\"attributes\":{\"callback\":null,\"end\":0.16266457868,\"start\":-0.026965526679999997},\"id\":\"3cd79bbd-500a-4d62-8d0f-f08b9acbe2d8\",\"type\":\"Range1d\"},{\"attributes\":{\"dimension\":1,\"plot\":{\"id\":\"ef4bd061-2ae4-4e45-a164-c12496cb679a\",\"subtype\":\"Figure\",\"type\":\"Plot\"},\"ticker\":{\"id\":\"84cf700b-d106-4102-8c69-291bf671af73\",\"type\":\"LogTicker\"}},\"id\":\"caee36d2-2487-406c-a9e0-d4414d80f0b6\",\"type\":\"Grid\"},{\"attributes\":{\"num_minor_ticks\":10},\"id\":\"84cf700b-d106-4102-8c69-291bf671af73\",\"type\":\"LogTicker\"}],\"root_ids\":[\"22c7b268-7fbf-4b5d-b49f-6b9c7afddf84\"]},\"title\":\"Bokeh Application\",\"version\":\"0.12.14\"}};\n",
       "  var render_items = [{\"docid\":\"83aea2b4-e667-47c4-b8b2-b5e3d53cf77d\",\"elementid\":\"9251ff00-33fe-4726-b025-26d6d9ea0d1f\",\"modelid\":\"22c7b268-7fbf-4b5d-b49f-6b9c7afddf84\"}];\n",
       "  root.Bokeh.embed.embed_items_notebook(docs_json, render_items);\n",
       "\n",
       "  }\n",
       "  if (root.Bokeh !== undefined) {\n",
       "    embed_document(root);\n",
       "  } else {\n",
       "    var attempts = 0;\n",
       "    var timer = setInterval(function(root) {\n",
       "      if (root.Bokeh !== undefined) {\n",
       "        embed_document(root);\n",
       "        clearInterval(timer);\n",
       "      }\n",
       "      attempts++;\n",
       "      if (attempts > 100) {\n",
       "        console.log(\"Bokeh: ERROR: Unable to run BokehJS code because BokehJS library is missing\")\n",
       "        clearInterval(timer);\n",
       "      }\n",
       "    }, 10, root)\n",
       "  }\n",
       "})(window);"
      ],
      "application/vnd.bokehjs_exec.v0+json": ""
     },
     "metadata": {
      "application/vnd.bokehjs_exec.v0+json": {
       "id": "22c7b268-7fbf-4b5d-b49f-6b9c7afddf84"
      }
     },
     "output_type": "display_data"
    },
    {
     "name": "stdout",
     "output_type": "stream",
     "text": [
      "FIGURE. Cooling rate profiles.\n"
     ]
    },
    {
     "data": {
      "text/html": [
       "<a id=\"Flux_Comparison\"></a>"
      ],
      "text/plain": [
       "<IPython.core.display.HTML object>"
      ]
     },
     "metadata": {},
     "output_type": "display_data"
    },
    {
     "data": {
      "text/markdown": [
       "# Flux Comparison"
      ],
      "text/plain": [
       "<IPython.core.display.Markdown object>"
      ]
     },
     "metadata": {},
     "output_type": "display_data"
    },
    {
     "data": {
      "text/html": [
       "<div>\n",
       "<style>\n",
       "    .dataframe thead tr:only-child th {\n",
       "        text-align: right;\n",
       "    }\n",
       "\n",
       "    .dataframe thead th {\n",
       "        text-align: left;\n",
       "    }\n",
       "\n",
       "    .dataframe tbody tr th {\n",
       "        vertical-align: top;\n",
       "    }\n",
       "</style>\n",
       "<table border=\"1\" class=\"dataframe\">\n",
       "  <thead>\n",
       "    <tr style=\"text-align: right;\">\n",
       "      <th></th>\n",
       "      <th></th>\n",
       "      <th>flug</th>\n",
       "      <th>fldg</th>\n",
       "      <th>fnetg</th>\n",
       "    </tr>\n",
       "    <tr>\n",
       "      <th>pressure</th>\n",
       "      <th>level</th>\n",
       "      <th></th>\n",
       "      <th></th>\n",
       "      <th></th>\n",
       "    </tr>\n",
       "  </thead>\n",
       "  <tbody>\n",
       "    <tr>\n",
       "      <th>0.0000</th>\n",
       "      <th>1</th>\n",
       "      <td>-30.883318</td>\n",
       "      <td>0.000000</td>\n",
       "      <td>-30.883318</td>\n",
       "    </tr>\n",
       "    <tr>\n",
       "      <th>1.0685</th>\n",
       "      <th>24</th>\n",
       "      <td>-30.884221</td>\n",
       "      <td>0.063546</td>\n",
       "      <td>-30.820675</td>\n",
       "    </tr>\n",
       "    <tr>\n",
       "      <th>1013.0000</th>\n",
       "      <th>76</th>\n",
       "      <td>-38.491735</td>\n",
       "      <td>18.001046</td>\n",
       "      <td>-20.490688</td>\n",
       "    </tr>\n",
       "  </tbody>\n",
       "</table>\n",
       "</div>"
      ],
      "text/plain": [
       "                      flug       fldg      fnetg\n",
       "pressure  level                                 \n",
       "0.0000    1     -30.883318   0.000000 -30.883318\n",
       "1.0685    24    -30.884221   0.063546 -30.820675\n",
       "1013.0000 76    -38.491735  18.001046 -20.490688"
      ]
     },
     "metadata": {},
     "output_type": "display_data"
    },
    {
     "name": "stdout",
     "output_type": "stream",
     "text": [
      "Table. Fluxes. WGT igg=10 wgt_flux=1\n"
     ]
    },
    {
     "data": {
      "text/html": [
       "<div>\n",
       "<style>\n",
       "    .dataframe thead tr:only-child th {\n",
       "        text-align: right;\n",
       "    }\n",
       "\n",
       "    .dataframe thead th {\n",
       "        text-align: left;\n",
       "    }\n",
       "\n",
       "    .dataframe tbody tr th {\n",
       "        vertical-align: top;\n",
       "    }\n",
       "</style>\n",
       "<table border=\"1\" class=\"dataframe\">\n",
       "  <thead>\n",
       "    <tr style=\"text-align: right;\">\n",
       "      <th></th>\n",
       "      <th></th>\n",
       "      <th>flug</th>\n",
       "      <th>fldg</th>\n",
       "      <th>fnetg</th>\n",
       "    </tr>\n",
       "    <tr>\n",
       "      <th>pressure</th>\n",
       "      <th>level</th>\n",
       "      <th></th>\n",
       "      <th></th>\n",
       "      <th></th>\n",
       "    </tr>\n",
       "  </thead>\n",
       "  <tbody>\n",
       "    <tr>\n",
       "      <th>0.0000</th>\n",
       "      <th>1</th>\n",
       "      <td>-30.877425</td>\n",
       "      <td>0.000000</td>\n",
       "      <td>-30.877425</td>\n",
       "    </tr>\n",
       "    <tr>\n",
       "      <th>1.0685</th>\n",
       "      <th>24</th>\n",
       "      <td>-30.878983</td>\n",
       "      <td>0.068611</td>\n",
       "      <td>-30.810372</td>\n",
       "    </tr>\n",
       "    <tr>\n",
       "      <th>1013.0000</th>\n",
       "      <th>76</th>\n",
       "      <td>-38.491734</td>\n",
       "      <td>17.950491</td>\n",
       "      <td>-20.541243</td>\n",
       "    </tr>\n",
       "  </tbody>\n",
       "</table>\n",
       "</div>"
      ],
      "text/plain": [
       "                      flug       fldg      fnetg\n",
       "pressure  level                                 \n",
       "0.0000    1     -30.877425   0.000000 -30.877425\n",
       "1.0685    24    -30.878983   0.068611 -30.810372\n",
       "1013.0000 76    -38.491734  17.950491 -20.541243"
      ]
     },
     "metadata": {},
     "output_type": "display_data"
    },
    {
     "name": "stdout",
     "output_type": "stream",
     "text": [
      "Table. Fluxes. CRD\n"
     ]
    },
    {
     "data": {
      "text/html": [
       "<div>\n",
       "<style>\n",
       "    .dataframe thead tr:only-child th {\n",
       "        text-align: right;\n",
       "    }\n",
       "\n",
       "    .dataframe thead th {\n",
       "        text-align: left;\n",
       "    }\n",
       "\n",
       "    .dataframe tbody tr th {\n",
       "        vertical-align: top;\n",
       "    }\n",
       "</style>\n",
       "<table border=\"1\" class=\"dataframe\">\n",
       "  <thead>\n",
       "    <tr style=\"text-align: right;\">\n",
       "      <th></th>\n",
       "      <th></th>\n",
       "      <th>flug</th>\n",
       "      <th>fldg</th>\n",
       "      <th>fnetg</th>\n",
       "    </tr>\n",
       "    <tr>\n",
       "      <th>pressure</th>\n",
       "      <th>level</th>\n",
       "      <th></th>\n",
       "      <th></th>\n",
       "      <th></th>\n",
       "    </tr>\n",
       "  </thead>\n",
       "  <tbody>\n",
       "    <tr>\n",
       "      <th>0.0000</th>\n",
       "      <th>76</th>\n",
       "      <td>-38.491730</td>\n",
       "      <td>17.554249</td>\n",
       "      <td>-20.937481</td>\n",
       "    </tr>\n",
       "    <tr>\n",
       "      <th>0.9151</th>\n",
       "      <th>23</th>\n",
       "      <td>-30.936634</td>\n",
       "      <td>0.048212</td>\n",
       "      <td>-30.888422</td>\n",
       "    </tr>\n",
       "    <tr>\n",
       "      <th>1001.1120</th>\n",
       "      <th>75</th>\n",
       "      <td>-38.491730</td>\n",
       "      <td>17.554249</td>\n",
       "      <td>-20.937481</td>\n",
       "    </tr>\n",
       "  </tbody>\n",
       "</table>\n",
       "</div>"
      ],
      "text/plain": [
       "                      flug       fldg      fnetg\n",
       "pressure  level                                 \n",
       "0.0000    76    -38.491730  17.554249 -20.937481\n",
       "0.9151    23    -30.936634   0.048212 -30.888422\n",
       "1001.1120 75    -38.491730  17.554249 -20.937481"
      ]
     },
     "metadata": {},
     "output_type": "display_data"
    },
    {
     "name": "stdout",
     "output_type": "stream",
     "text": [
      "Table. Fluxes. CLIRAD\n"
     ]
    },
    {
     "data": {
      "text/html": [
       "<div>\n",
       "<style>\n",
       "    .dataframe thead tr:only-child th {\n",
       "        text-align: right;\n",
       "    }\n",
       "\n",
       "    .dataframe thead th {\n",
       "        text-align: left;\n",
       "    }\n",
       "\n",
       "    .dataframe tbody tr th {\n",
       "        vertical-align: top;\n",
       "    }\n",
       "</style>\n",
       "<table border=\"1\" class=\"dataframe\">\n",
       "  <thead>\n",
       "    <tr style=\"text-align: right;\">\n",
       "      <th></th>\n",
       "      <th></th>\n",
       "      <th>flug</th>\n",
       "      <th>fldg</th>\n",
       "      <th>fnetg</th>\n",
       "    </tr>\n",
       "    <tr>\n",
       "      <th>pressure</th>\n",
       "      <th>level</th>\n",
       "      <th></th>\n",
       "      <th></th>\n",
       "      <th></th>\n",
       "    </tr>\n",
       "  </thead>\n",
       "  <tbody>\n",
       "    <tr>\n",
       "      <th>0.0000</th>\n",
       "      <th>1</th>\n",
       "      <td>5.893454e-03</td>\n",
       "      <td>0.000000</td>\n",
       "      <td>0.005893</td>\n",
       "    </tr>\n",
       "    <tr>\n",
       "      <th>1.0685</th>\n",
       "      <th>24</th>\n",
       "      <td>5.237929e-03</td>\n",
       "      <td>0.005065</td>\n",
       "      <td>0.010303</td>\n",
       "    </tr>\n",
       "    <tr>\n",
       "      <th>1013.0000</th>\n",
       "      <th>76</th>\n",
       "      <td>7.180000e-07</td>\n",
       "      <td>-0.050555</td>\n",
       "      <td>-0.050555</td>\n",
       "    </tr>\n",
       "  </tbody>\n",
       "</table>\n",
       "</div>"
      ],
      "text/plain": [
       "                         flug      fldg     fnetg\n",
       "pressure  level                                  \n",
       "0.0000    1      5.893454e-03  0.000000  0.005893\n",
       "1.0685    24     5.237929e-03  0.005065  0.010303\n",
       "1013.0000 76     7.180000e-07 -0.050555 -0.050555"
      ]
     },
     "metadata": {},
     "output_type": "display_data"
    },
    {
     "name": "stdout",
     "output_type": "stream",
     "text": [
      "Table. Fluxes. (CRD) - (WGT igg=10 wgt_flux=1)\n"
     ]
    },
    {
     "data": {
      "text/html": [
       "<div>\n",
       "<style>\n",
       "    .dataframe thead tr:only-child th {\n",
       "        text-align: right;\n",
       "    }\n",
       "\n",
       "    .dataframe thead th {\n",
       "        text-align: left;\n",
       "    }\n",
       "\n",
       "    .dataframe tbody tr th {\n",
       "        vertical-align: top;\n",
       "    }\n",
       "</style>\n",
       "<table border=\"1\" class=\"dataframe\">\n",
       "  <thead>\n",
       "    <tr style=\"text-align: right;\">\n",
       "      <th></th>\n",
       "      <th></th>\n",
       "      <th>flug</th>\n",
       "      <th>fldg</th>\n",
       "      <th>fnetg</th>\n",
       "    </tr>\n",
       "    <tr>\n",
       "      <th>pressure</th>\n",
       "      <th>level</th>\n",
       "      <th></th>\n",
       "      <th></th>\n",
       "      <th></th>\n",
       "    </tr>\n",
       "  </thead>\n",
       "  <tbody>\n",
       "    <tr>\n",
       "      <th>0.0000</th>\n",
       "      <th>1</th>\n",
       "      <td>-7.608412</td>\n",
       "      <td>17.554249</td>\n",
       "      <td>9.945837</td>\n",
       "    </tr>\n",
       "    <tr>\n",
       "      <th>1.0685</th>\n",
       "      <th>24</th>\n",
       "      <td>-0.052413</td>\n",
       "      <td>-0.015334</td>\n",
       "      <td>-0.067747</td>\n",
       "    </tr>\n",
       "    <tr>\n",
       "      <th>1013.0000</th>\n",
       "      <th>76</th>\n",
       "      <td>0.000005</td>\n",
       "      <td>-0.446797</td>\n",
       "      <td>-0.446793</td>\n",
       "    </tr>\n",
       "  </tbody>\n",
       "</table>\n",
       "</div>"
      ],
      "text/plain": [
       "                     flug       fldg     fnetg\n",
       "pressure  level                               \n",
       "0.0000    1     -7.608412  17.554249  9.945837\n",
       "1.0685    24    -0.052413  -0.015334 -0.067747\n",
       "1013.0000 76     0.000005  -0.446797 -0.446793"
      ]
     },
     "metadata": {},
     "output_type": "display_data"
    },
    {
     "name": "stdout",
     "output_type": "stream",
     "text": [
      "Table. Fluxes. (CLIRAD) - (WGT igg=10 wgt_flux=1)\n"
     ]
    },
    {
     "data": {
      "text/html": [
       "<a id=\"Best-fit_Parameters\"></a>"
      ],
      "text/plain": [
       "<IPython.core.display.HTML object>"
      ]
     },
     "metadata": {},
     "output_type": "display_data"
    },
    {
     "data": {
      "text/markdown": [
       "# Best-fit Parameters"
      ],
      "text/plain": [
       "<IPython.core.display.Markdown object>"
      ]
     },
     "metadata": {},
     "output_type": "display_data"
    },
    {
     "name": "stdout",
     "output_type": "stream",
     "text": [
      "Best-fit values for each (gas, band)\n",
      "------------------------------------\n",
      "o co2 band3a\n",
      "  atmpro = mls\n",
      "  band = 3a\n",
      "  commitnumber = 5014a19\n",
      "  conc = 0.0004\n",
      "  dv = 0.01\n",
      "  klin = 6.375563e-24\n",
      "  molecule = co2\n",
      "  ng_adju = [0, 0, 0]\n",
      "  ng_refs = [3, 2, 4]\n",
      "  nv = 100\n",
      "  option_compute_btable = 0\n",
      "  option_compute_ktable = 1\n",
      "  option_wgt_flux = 1\n",
      "  option_wgt_k = 1\n",
      "  ref_pts = [(1, 250), (10, 250), (500, 250)]\n",
      "  tsfc = 294\n",
      "  vmax = 620\n",
      "  vmin = 540\n",
      "  w_diffuse = [(1.6, 1.6, 1.7), (1.75, 1.75), (1.55, 1.55, 1.6, 1.85)]\n",
      "  wgt = [(0.7, 0.3, 0.7), (0.7, 0.6), (0.4, 0.5, 0.8, 0.95)]\n"
     ]
    }
   ],
   "source": [
    "script()"
   ]
  },
  {
   "cell_type": "code",
   "execution_count": 13,
   "metadata": {
    "collapsed": true
   },
   "outputs": [
    {
     "data": {
      "text/html": [
       "<script>\n",
       "code_show=true; \n",
       "function code_toggle() {\n",
       " if (code_show){\n",
       " $('div.input').hide();\n",
       " } else {\n",
       " $('div.input').show();\n",
       " }\n",
       " code_show = !code_show\n",
       "} \n",
       "$( document ).ready(code_toggle);\n",
       "</script>\n",
       "<form action=\"javascript:code_toggle()\"><input type=\"submit\" value=\"Click here to toggle on/off the raw code.\"></form>"
      ],
      "text/plain": [
       "<IPython.core.display.HTML object>"
      ]
     },
     "execution_count": 13,
     "metadata": {},
     "output_type": "execute_result"
    }
   ],
   "source": [
    "display.HTML('''<script>\n",
    "code_show=true; \n",
    "function code_toggle() {\n",
    " if (code_show){\n",
    " $('div.input').hide();\n",
    " } else {\n",
    " $('div.input').show();\n",
    " }\n",
    " code_show = !code_show\n",
    "} \n",
    "$( document ).ready(code_toggle);\n",
    "</script>\n",
    "<form action=\"javascript:code_toggle()\"><input type=\"submit\" value=\"Click here to toggle on/off the raw code.\"></form>''')"
   ]
  }
 ],
 "metadata": {
  "kernelspec": {
   "display_name": "Python 3",
   "language": "python",
   "name": "python3"
  },
  "language_info": {
   "codemirror_mode": {
    "name": "ipython",
    "version": 3
   },
   "file_extension": ".py",
   "mimetype": "text/x-python",
   "name": "python",
   "nbconvert_exporter": "python",
   "pygments_lexer": "ipython3",
   "version": "3.6.1"
  }
 },
 "nbformat": 4,
 "nbformat_minor": 2
}
