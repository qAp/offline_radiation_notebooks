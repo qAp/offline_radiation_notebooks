{
 "cells": [
  {
   "cell_type": "code",
   "execution_count": 1,
   "metadata": {
    "collapsed": true
   },
   "outputs": [],
   "source": [
    "%matplotlib inline\n",
    "import os\n",
    "import re\n",
    "import io\n",
    "import itertools\n",
    "import pprint\n",
    "\n",
    "from bokeh.io import output_notebook, show\n",
    "from bokeh.layouts import gridplot\n",
    "from bokeh.plotting import figure\n",
    "from bokeh.models import Range1d, Legend\n",
    "from bokeh.palettes import all_palettes\n",
    "\n",
    "import matplotlib\n",
    "import matplotlib.pyplot as plt\n",
    "import numpy as np\n",
    "import pandas as pd\n",
    "import xarray as xr\n",
    "\n",
    "import climatools.lblnew.bestfit_params as bestfits\n",
    "from climatools.lblnew import setup_bestfit, setup_overlap\n",
    "import climatools.lblnew.pipeline as pipe_lblnew\n",
    "import climatools.cliradlw.setup as setup_cliradlw\n",
    "import climatools.cliradlw.pipeline as pipe_cliradlw\n",
    "\n",
    "import climatools.html.html as climahtml\n",
    "from climatools.lblnew.dataio import *\n",
    "from climatools.plot.plot import *\n",
    "\n",
    "\n",
    "import IPython.display as display"
   ]
  },
  {
   "cell_type": "code",
   "execution_count": 2,
   "metadata": {
    "collapsed": true
   },
   "outputs": [],
   "source": [
    "%run param.py"
   ]
  },
  {
   "cell_type": "code",
   "execution_count": 3,
   "metadata": {
    "collapsed": true
   },
   "outputs": [],
   "source": [
    "def load_output_file(path_csv):\n",
    "    '''\n",
    "    Load lblnew output .csv file to xarray.Dataset\n",
    "    \n",
    "    Parameters\n",
    "    ----------\n",
    "    path_csv: str\n",
    "              Path to the .csv file to be loaded.\n",
    "    ds: xarray.Dataset\n",
    "        Data in the input file in the form of an xarray.Dataset.\n",
    "    '''\n",
    "    toindex = ['band', 'pressure', 'igg', 'g']    \n",
    "    df = pd.read_csv(path_csv, sep=r'\\s+')\n",
    "    df = df.set_index([i for i in toindex if i in df.columns])\n",
    "    df = df.rename(columns={'sfu': 'flug',\n",
    "                            'sfd': 'fldg',\n",
    "                            'fnet': 'fnetg',\n",
    "                            'coolr': 'coolrg'})\n",
    "    ds = xr.Dataset.from_dataframe(df)\n",
    "\n",
    "    for l in ('level', 'layer'):\n",
    "        if l in ds.data_vars:\n",
    "            if len(ds[l].dims) > 1:\n",
    "                surface = {d: 0 for d in ds.dims if d != 'pressure'}\n",
    "                coord_level = ds[l][surface]\n",
    "                ds.coords[l] = ('pressure', coord_level)\n",
    "            else:\n",
    "                ds.coords[l] = ('pressure', ds[l])\n",
    "    \n",
    "    return ds"
   ]
  },
  {
   "cell_type": "code",
   "execution_count": 4,
   "metadata": {
    "collapsed": true
   },
   "outputs": [],
   "source": [
    "def lblnew_setup(param=None):\n",
    "    if 'ng_refs' in param:\n",
    "        return {'setup': setup_bestfit,\n",
    "                'fname_flux_crd': 'output_flux.dat',\n",
    "                'fname_cool_crd': 'output_coolr.dat',\n",
    "                'fname_flux_wgt': 'output_wfluxg.dat',\n",
    "                'fname_cool_wgt': 'output_wcoolrg.dat'}\n",
    "    else:\n",
    "        return {'setup': setup_overlap,\n",
    "                'fname_flux_crd': 'output_flux.dat',\n",
    "                'fname_cool_crd': 'output_coolr.dat',\n",
    "                'fname_flux_wgt': 'output_wflux.dat',\n",
    "                'fname_cool_wgt': 'output_wcoolr.dat'}\n",
    "\n",
    "    \n",
    "def load_lblnew_data(param):\n",
    "    \n",
    "    fname_dsname = [('fname_flux_crd', 'ds_flux_crd'),\n",
    "                    ('fname_cool_crd', 'ds_cool_crd'),\n",
    "                    ('fname_flux_wgt', 'ds_flux_wgt'),\n",
    "                    ('fname_cool_wgt', 'ds_cool_wgt')]\n",
    "    \n",
    "    d = lblnew_setup(param)\n",
    "    dir_fortran = pipe_lblnew.get_dir_case(param, setup=d['setup'])\n",
    "    \n",
    "    data_dict = {}\n",
    "    for fname, dsname in fname_dsname:\n",
    "        fpath = os.path.join(dir_fortran, d[fname])\n",
    "        data_dict[dsname] = load_output_file(fpath)\n",
    "    return data_dict\n",
    "    \n",
    "\n",
    "    \n",
    "    "
   ]
  },
  {
   "cell_type": "code",
   "execution_count": 5,
   "metadata": {
    "collapsed": true
   },
   "outputs": [],
   "source": [
    "d = load_lblnew_data(PARAM_LBLNEW)\n",
    "\n",
    "DS_FLUX_CRD = d['ds_flux_crd']\n",
    "DS_COOL_CRD = d['ds_cool_crd']\n",
    "DS_FLUX_WGT = d['ds_flux_wgt']\n",
    "DS_COOL_WGT = d['ds_cool_wgt']"
   ]
  },
  {
   "cell_type": "code",
   "execution_count": 6,
   "metadata": {
    "collapsed": true
   },
   "outputs": [],
   "source": [
    "DIR_FORTRAN = pipe_cliradlw.get_fortran_dir(PARAM, \n",
    "                                            setup=setup_cliradlw)\n",
    "\n",
    "PATH_FLUX = os.path.join(DIR_FORTRAN, 'output_flux.dat')\n",
    "PATH_COOL = os.path.join(DIR_FORTRAN, 'output_coolr.dat')\n",
    "\n",
    "DS_FLUX = load_output_file(PATH_FLUX)\n",
    "DS_COOL = load_output_file(PATH_COOL)"
   ]
  },
  {
   "cell_type": "code",
   "execution_count": 7,
   "metadata": {
    "collapsed": true
   },
   "outputs": [
    {
     "data": {
      "text/html": [
       "\n",
       "    <div class=\"bk-root\">\n",
       "        <a href=\"https://bokeh.pydata.org\" target=\"_blank\" class=\"bk-logo bk-logo-small bk-logo-notebook\"></a>\n",
       "        <span id=\"75197366-471f-4f4a-9806-fc383d7ad79b\">Loading BokehJS ...</span>\n",
       "    </div>"
      ]
     },
     "metadata": {},
     "output_type": "display_data"
    },
    {
     "data": {
      "application/javascript": [
       "\n",
       "(function(root) {\n",
       "  function now() {\n",
       "    return new Date();\n",
       "  }\n",
       "\n",
       "  var force = true;\n",
       "\n",
       "  if (typeof (root._bokeh_onload_callbacks) === \"undefined\" || force === true) {\n",
       "    root._bokeh_onload_callbacks = [];\n",
       "    root._bokeh_is_loading = undefined;\n",
       "  }\n",
       "\n",
       "  var JS_MIME_TYPE = 'application/javascript';\n",
       "  var HTML_MIME_TYPE = 'text/html';\n",
       "  var EXEC_MIME_TYPE = 'application/vnd.bokehjs_exec.v0+json';\n",
       "  var CLASS_NAME = 'output_bokeh rendered_html';\n",
       "\n",
       "  /**\n",
       "   * Render data to the DOM node\n",
       "   */\n",
       "  function render(props, node) {\n",
       "    var script = document.createElement(\"script\");\n",
       "    node.appendChild(script);\n",
       "  }\n",
       "\n",
       "  /**\n",
       "   * Handle when an output is cleared or removed\n",
       "   */\n",
       "  function handleClearOutput(event, handle) {\n",
       "    var cell = handle.cell;\n",
       "\n",
       "    var id = cell.output_area._bokeh_element_id;\n",
       "    var server_id = cell.output_area._bokeh_server_id;\n",
       "    // Clean up Bokeh references\n",
       "    if (id !== undefined) {\n",
       "      Bokeh.index[id].model.document.clear();\n",
       "      delete Bokeh.index[id];\n",
       "    }\n",
       "\n",
       "    if (server_id !== undefined) {\n",
       "      // Clean up Bokeh references\n",
       "      var cmd = \"from bokeh.io.state import curstate; print(curstate().uuid_to_server['\" + server_id + \"'].get_sessions()[0].document.roots[0]._id)\";\n",
       "      cell.notebook.kernel.execute(cmd, {\n",
       "        iopub: {\n",
       "          output: function(msg) {\n",
       "            var element_id = msg.content.text.trim();\n",
       "            Bokeh.index[element_id].model.document.clear();\n",
       "            delete Bokeh.index[element_id];\n",
       "          }\n",
       "        }\n",
       "      });\n",
       "      // Destroy server and session\n",
       "      var cmd = \"import bokeh.io.notebook as ion; ion.destroy_server('\" + server_id + \"')\";\n",
       "      cell.notebook.kernel.execute(cmd);\n",
       "    }\n",
       "  }\n",
       "\n",
       "  /**\n",
       "   * Handle when a new output is added\n",
       "   */\n",
       "  function handleAddOutput(event, handle) {\n",
       "    var output_area = handle.output_area;\n",
       "    var output = handle.output;\n",
       "\n",
       "    // limit handleAddOutput to display_data with EXEC_MIME_TYPE content only\n",
       "    if ((output.output_type != \"display_data\") || (!output.data.hasOwnProperty(EXEC_MIME_TYPE))) {\n",
       "      return\n",
       "    }\n",
       "\n",
       "    var toinsert = output_area.element.find(\".\" + CLASS_NAME.split(' ')[0]);\n",
       "\n",
       "    if (output.metadata[EXEC_MIME_TYPE][\"id\"] !== undefined) {\n",
       "      toinsert[0].firstChild.textContent = output.data[JS_MIME_TYPE];\n",
       "      // store reference to embed id on output_area\n",
       "      output_area._bokeh_element_id = output.metadata[EXEC_MIME_TYPE][\"id\"];\n",
       "    }\n",
       "    if (output.metadata[EXEC_MIME_TYPE][\"server_id\"] !== undefined) {\n",
       "      var bk_div = document.createElement(\"div\");\n",
       "      bk_div.innerHTML = output.data[HTML_MIME_TYPE];\n",
       "      var script_attrs = bk_div.children[0].attributes;\n",
       "      for (var i = 0; i < script_attrs.length; i++) {\n",
       "        toinsert[0].firstChild.setAttribute(script_attrs[i].name, script_attrs[i].value);\n",
       "      }\n",
       "      // store reference to server id on output_area\n",
       "      output_area._bokeh_server_id = output.metadata[EXEC_MIME_TYPE][\"server_id\"];\n",
       "    }\n",
       "  }\n",
       "\n",
       "  function register_renderer(events, OutputArea) {\n",
       "\n",
       "    function append_mime(data, metadata, element) {\n",
       "      // create a DOM node to render to\n",
       "      var toinsert = this.create_output_subarea(\n",
       "        metadata,\n",
       "        CLASS_NAME,\n",
       "        EXEC_MIME_TYPE\n",
       "      );\n",
       "      this.keyboard_manager.register_events(toinsert);\n",
       "      // Render to node\n",
       "      var props = {data: data, metadata: metadata[EXEC_MIME_TYPE]};\n",
       "      render(props, toinsert[0]);\n",
       "      element.append(toinsert);\n",
       "      return toinsert\n",
       "    }\n",
       "\n",
       "    /* Handle when an output is cleared or removed */\n",
       "    events.on('clear_output.CodeCell', handleClearOutput);\n",
       "    events.on('delete.Cell', handleClearOutput);\n",
       "\n",
       "    /* Handle when a new output is added */\n",
       "    events.on('output_added.OutputArea', handleAddOutput);\n",
       "\n",
       "    /**\n",
       "     * Register the mime type and append_mime function with output_area\n",
       "     */\n",
       "    OutputArea.prototype.register_mime_type(EXEC_MIME_TYPE, append_mime, {\n",
       "      /* Is output safe? */\n",
       "      safe: true,\n",
       "      /* Index of renderer in `output_area.display_order` */\n",
       "      index: 0\n",
       "    });\n",
       "  }\n",
       "\n",
       "  // register the mime type if in Jupyter Notebook environment and previously unregistered\n",
       "  if (root.Jupyter !== undefined) {\n",
       "    var events = require('base/js/events');\n",
       "    var OutputArea = require('notebook/js/outputarea').OutputArea;\n",
       "\n",
       "    if (OutputArea.prototype.mime_types().indexOf(EXEC_MIME_TYPE) == -1) {\n",
       "      register_renderer(events, OutputArea);\n",
       "    }\n",
       "  }\n",
       "\n",
       "  \n",
       "  if (typeof (root._bokeh_timeout) === \"undefined\" || force === true) {\n",
       "    root._bokeh_timeout = Date.now() + 5000;\n",
       "    root._bokeh_failed_load = false;\n",
       "  }\n",
       "\n",
       "  var NB_LOAD_WARNING = {'data': {'text/html':\n",
       "     \"<div style='background-color: #fdd'>\\n\"+\n",
       "     \"<p>\\n\"+\n",
       "     \"BokehJS does not appear to have successfully loaded. If loading BokehJS from CDN, this \\n\"+\n",
       "     \"may be due to a slow or bad network connection. Possible fixes:\\n\"+\n",
       "     \"</p>\\n\"+\n",
       "     \"<ul>\\n\"+\n",
       "     \"<li>re-rerun `output_notebook()` to attempt to load from CDN again, or</li>\\n\"+\n",
       "     \"<li>use INLINE resources instead, as so:</li>\\n\"+\n",
       "     \"</ul>\\n\"+\n",
       "     \"<code>\\n\"+\n",
       "     \"from bokeh.resources import INLINE\\n\"+\n",
       "     \"output_notebook(resources=INLINE)\\n\"+\n",
       "     \"</code>\\n\"+\n",
       "     \"</div>\"}};\n",
       "\n",
       "  function display_loaded() {\n",
       "    var el = document.getElementById(\"75197366-471f-4f4a-9806-fc383d7ad79b\");\n",
       "    if (el != null) {\n",
       "      el.textContent = \"BokehJS is loading...\";\n",
       "    }\n",
       "    if (root.Bokeh !== undefined) {\n",
       "      if (el != null) {\n",
       "        el.textContent = \"BokehJS \" + root.Bokeh.version + \" successfully loaded.\";\n",
       "      }\n",
       "    } else if (Date.now() < root._bokeh_timeout) {\n",
       "      setTimeout(display_loaded, 100)\n",
       "    }\n",
       "  }\n",
       "\n",
       "\n",
       "  function run_callbacks() {\n",
       "    try {\n",
       "      root._bokeh_onload_callbacks.forEach(function(callback) { callback() });\n",
       "    }\n",
       "    finally {\n",
       "      delete root._bokeh_onload_callbacks\n",
       "    }\n",
       "    console.info(\"Bokeh: all callbacks have finished\");\n",
       "  }\n",
       "\n",
       "  function load_libs(js_urls, callback) {\n",
       "    root._bokeh_onload_callbacks.push(callback);\n",
       "    if (root._bokeh_is_loading > 0) {\n",
       "      console.log(\"Bokeh: BokehJS is being loaded, scheduling callback at\", now());\n",
       "      return null;\n",
       "    }\n",
       "    if (js_urls == null || js_urls.length === 0) {\n",
       "      run_callbacks();\n",
       "      return null;\n",
       "    }\n",
       "    console.log(\"Bokeh: BokehJS not loaded, scheduling load and callback at\", now());\n",
       "    root._bokeh_is_loading = js_urls.length;\n",
       "    for (var i = 0; i < js_urls.length; i++) {\n",
       "      var url = js_urls[i];\n",
       "      var s = document.createElement('script');\n",
       "      s.src = url;\n",
       "      s.async = false;\n",
       "      s.onreadystatechange = s.onload = function() {\n",
       "        root._bokeh_is_loading--;\n",
       "        if (root._bokeh_is_loading === 0) {\n",
       "          console.log(\"Bokeh: all BokehJS libraries loaded\");\n",
       "          run_callbacks()\n",
       "        }\n",
       "      };\n",
       "      s.onerror = function() {\n",
       "        console.warn(\"failed to load library \" + url);\n",
       "      };\n",
       "      console.log(\"Bokeh: injecting script tag for BokehJS library: \", url);\n",
       "      document.getElementsByTagName(\"head\")[0].appendChild(s);\n",
       "    }\n",
       "  };var element = document.getElementById(\"75197366-471f-4f4a-9806-fc383d7ad79b\");\n",
       "  if (element == null) {\n",
       "    console.log(\"Bokeh: ERROR: autoload.js configured with elementid '75197366-471f-4f4a-9806-fc383d7ad79b' but no matching script tag was found. \")\n",
       "    return false;\n",
       "  }\n",
       "\n",
       "  var js_urls = [\"https://cdn.pydata.org/bokeh/release/bokeh-0.12.14.min.js\", \"https://cdn.pydata.org/bokeh/release/bokeh-widgets-0.12.14.min.js\", \"https://cdn.pydata.org/bokeh/release/bokeh-tables-0.12.14.min.js\", \"https://cdn.pydata.org/bokeh/release/bokeh-gl-0.12.14.min.js\"];\n",
       "\n",
       "  var inline_js = [\n",
       "    function(Bokeh) {\n",
       "      Bokeh.set_log_level(\"info\");\n",
       "    },\n",
       "    \n",
       "    function(Bokeh) {\n",
       "      \n",
       "    },\n",
       "    function(Bokeh) {\n",
       "      console.log(\"Bokeh: injecting CSS: https://cdn.pydata.org/bokeh/release/bokeh-0.12.14.min.css\");\n",
       "      Bokeh.embed.inject_css(\"https://cdn.pydata.org/bokeh/release/bokeh-0.12.14.min.css\");\n",
       "      console.log(\"Bokeh: injecting CSS: https://cdn.pydata.org/bokeh/release/bokeh-widgets-0.12.14.min.css\");\n",
       "      Bokeh.embed.inject_css(\"https://cdn.pydata.org/bokeh/release/bokeh-widgets-0.12.14.min.css\");\n",
       "      console.log(\"Bokeh: injecting CSS: https://cdn.pydata.org/bokeh/release/bokeh-tables-0.12.14.min.css\");\n",
       "      Bokeh.embed.inject_css(\"https://cdn.pydata.org/bokeh/release/bokeh-tables-0.12.14.min.css\");\n",
       "    }\n",
       "  ];\n",
       "\n",
       "  function run_inline_js() {\n",
       "    \n",
       "    if ((root.Bokeh !== undefined) || (force === true)) {\n",
       "      for (var i = 0; i < inline_js.length; i++) {\n",
       "        inline_js[i].call(root, root.Bokeh);\n",
       "      }if (force === true) {\n",
       "        display_loaded();\n",
       "      }} else if (Date.now() < root._bokeh_timeout) {\n",
       "      setTimeout(run_inline_js, 100);\n",
       "    } else if (!root._bokeh_failed_load) {\n",
       "      console.log(\"Bokeh: BokehJS failed to load within specified timeout.\");\n",
       "      root._bokeh_failed_load = true;\n",
       "    } else if (force !== true) {\n",
       "      var cell = $(document.getElementById(\"75197366-471f-4f4a-9806-fc383d7ad79b\")).parents('.cell').data().cell;\n",
       "      cell.output_area.append_execute_result(NB_LOAD_WARNING)\n",
       "    }\n",
       "\n",
       "  }\n",
       "\n",
       "  if (root._bokeh_is_loading === 0) {\n",
       "    console.log(\"Bokeh: BokehJS loaded, going straight to plotting\");\n",
       "    run_inline_js();\n",
       "  } else {\n",
       "    load_libs(js_urls, function() {\n",
       "      console.log(\"Bokeh: BokehJS plotting callback run at\", now());\n",
       "      run_inline_js();\n",
       "    });\n",
       "  }\n",
       "}(window));"
      ],
      "application/vnd.bokehjs_load.v0+json": "\n(function(root) {\n  function now() {\n    return new Date();\n  }\n\n  var force = true;\n\n  if (typeof (root._bokeh_onload_callbacks) === \"undefined\" || force === true) {\n    root._bokeh_onload_callbacks = [];\n    root._bokeh_is_loading = undefined;\n  }\n\n  \n\n  \n  if (typeof (root._bokeh_timeout) === \"undefined\" || force === true) {\n    root._bokeh_timeout = Date.now() + 5000;\n    root._bokeh_failed_load = false;\n  }\n\n  var NB_LOAD_WARNING = {'data': {'text/html':\n     \"<div style='background-color: #fdd'>\\n\"+\n     \"<p>\\n\"+\n     \"BokehJS does not appear to have successfully loaded. If loading BokehJS from CDN, this \\n\"+\n     \"may be due to a slow or bad network connection. Possible fixes:\\n\"+\n     \"</p>\\n\"+\n     \"<ul>\\n\"+\n     \"<li>re-rerun `output_notebook()` to attempt to load from CDN again, or</li>\\n\"+\n     \"<li>use INLINE resources instead, as so:</li>\\n\"+\n     \"</ul>\\n\"+\n     \"<code>\\n\"+\n     \"from bokeh.resources import INLINE\\n\"+\n     \"output_notebook(resources=INLINE)\\n\"+\n     \"</code>\\n\"+\n     \"</div>\"}};\n\n  function display_loaded() {\n    var el = document.getElementById(\"75197366-471f-4f4a-9806-fc383d7ad79b\");\n    if (el != null) {\n      el.textContent = \"BokehJS is loading...\";\n    }\n    if (root.Bokeh !== undefined) {\n      if (el != null) {\n        el.textContent = \"BokehJS \" + root.Bokeh.version + \" successfully loaded.\";\n      }\n    } else if (Date.now() < root._bokeh_timeout) {\n      setTimeout(display_loaded, 100)\n    }\n  }\n\n\n  function run_callbacks() {\n    try {\n      root._bokeh_onload_callbacks.forEach(function(callback) { callback() });\n    }\n    finally {\n      delete root._bokeh_onload_callbacks\n    }\n    console.info(\"Bokeh: all callbacks have finished\");\n  }\n\n  function load_libs(js_urls, callback) {\n    root._bokeh_onload_callbacks.push(callback);\n    if (root._bokeh_is_loading > 0) {\n      console.log(\"Bokeh: BokehJS is being loaded, scheduling callback at\", now());\n      return null;\n    }\n    if (js_urls == null || js_urls.length === 0) {\n      run_callbacks();\n      return null;\n    }\n    console.log(\"Bokeh: BokehJS not loaded, scheduling load and callback at\", now());\n    root._bokeh_is_loading = js_urls.length;\n    for (var i = 0; i < js_urls.length; i++) {\n      var url = js_urls[i];\n      var s = document.createElement('script');\n      s.src = url;\n      s.async = false;\n      s.onreadystatechange = s.onload = function() {\n        root._bokeh_is_loading--;\n        if (root._bokeh_is_loading === 0) {\n          console.log(\"Bokeh: all BokehJS libraries loaded\");\n          run_callbacks()\n        }\n      };\n      s.onerror = function() {\n        console.warn(\"failed to load library \" + url);\n      };\n      console.log(\"Bokeh: injecting script tag for BokehJS library: \", url);\n      document.getElementsByTagName(\"head\")[0].appendChild(s);\n    }\n  };var element = document.getElementById(\"75197366-471f-4f4a-9806-fc383d7ad79b\");\n  if (element == null) {\n    console.log(\"Bokeh: ERROR: autoload.js configured with elementid '75197366-471f-4f4a-9806-fc383d7ad79b' but no matching script tag was found. \")\n    return false;\n  }\n\n  var js_urls = [\"https://cdn.pydata.org/bokeh/release/bokeh-0.12.14.min.js\", \"https://cdn.pydata.org/bokeh/release/bokeh-widgets-0.12.14.min.js\", \"https://cdn.pydata.org/bokeh/release/bokeh-tables-0.12.14.min.js\", \"https://cdn.pydata.org/bokeh/release/bokeh-gl-0.12.14.min.js\"];\n\n  var inline_js = [\n    function(Bokeh) {\n      Bokeh.set_log_level(\"info\");\n    },\n    \n    function(Bokeh) {\n      \n    },\n    function(Bokeh) {\n      console.log(\"Bokeh: injecting CSS: https://cdn.pydata.org/bokeh/release/bokeh-0.12.14.min.css\");\n      Bokeh.embed.inject_css(\"https://cdn.pydata.org/bokeh/release/bokeh-0.12.14.min.css\");\n      console.log(\"Bokeh: injecting CSS: https://cdn.pydata.org/bokeh/release/bokeh-widgets-0.12.14.min.css\");\n      Bokeh.embed.inject_css(\"https://cdn.pydata.org/bokeh/release/bokeh-widgets-0.12.14.min.css\");\n      console.log(\"Bokeh: injecting CSS: https://cdn.pydata.org/bokeh/release/bokeh-tables-0.12.14.min.css\");\n      Bokeh.embed.inject_css(\"https://cdn.pydata.org/bokeh/release/bokeh-tables-0.12.14.min.css\");\n    }\n  ];\n\n  function run_inline_js() {\n    \n    if ((root.Bokeh !== undefined) || (force === true)) {\n      for (var i = 0; i < inline_js.length; i++) {\n        inline_js[i].call(root, root.Bokeh);\n      }if (force === true) {\n        display_loaded();\n      }} else if (Date.now() < root._bokeh_timeout) {\n      setTimeout(run_inline_js, 100);\n    } else if (!root._bokeh_failed_load) {\n      console.log(\"Bokeh: BokehJS failed to load within specified timeout.\");\n      root._bokeh_failed_load = true;\n    } else if (force !== true) {\n      var cell = $(document.getElementById(\"75197366-471f-4f4a-9806-fc383d7ad79b\")).parents('.cell').data().cell;\n      cell.output_area.append_execute_result(NB_LOAD_WARNING)\n    }\n\n  }\n\n  if (root._bokeh_is_loading === 0) {\n    console.log(\"Bokeh: BokehJS loaded, going straight to plotting\");\n    run_inline_js();\n  } else {\n    load_libs(js_urls, function() {\n      console.log(\"Bokeh: BokehJS plotting callback run at\", now());\n      run_inline_js();\n    });\n  }\n}(window));"
     },
     "metadata": {},
     "output_type": "display_data"
    }
   ],
   "source": [
    "output_notebook()"
   ]
  },
  {
   "cell_type": "code",
   "execution_count": 8,
   "metadata": {
    "collapsed": true
   },
   "outputs": [],
   "source": [
    "def fmt_cool(ds_in):\n",
    "    ds = ds_in.copy(deep=True)\n",
    "    if 'igg' in ds.dims:\n",
    "        ds = ds.sel(igg=1)\n",
    "\n",
    "    if 'g' in ds.dims:\n",
    "        ds = ds.sum('g')\n",
    "            \n",
    "    if 'band' in ds.dims:\n",
    "        try:\n",
    "            ds = ds.squeeze('band')\n",
    "        except ValueError:\n",
    "            ds = ds.sum('band')\n",
    "                \n",
    "    return ds['coolrg']\n",
    "\n",
    "\n",
    "def pltdata_cooling_1(ds_cool=None,\n",
    "                      ds_cool_crd=None, ds_cool_wgt=None):\n",
    "    \n",
    "\n",
    "\n",
    "    colors = all_palettes['Set1'][4]\n",
    "    data = [{'label': 'CLIRAD `coolr_bands`',\n",
    "             'srs': fmt_cool(ds_cool),\n",
    "             'line_dash': 'dashed', 'line_width': 5,\n",
    "             'color': colors[0], 'alpha': .6},\n",
    "            {'label': 'CRD',\n",
    "             'srs': fmt_cool(ds_cool_crd),\n",
    "             'line_dash': 'solid', 'line_width': 1.5,\n",
    "             'marker': 'circle', 'marker_size': 5,\n",
    "             'color': colors[2], 'alpha': 1,},\n",
    "            {'label': 'WGT igg=10 wgt_flux=2',\n",
    "             'srs': fmt_cool(ds_cool_wgt),\n",
    "             'line_dash': 'solid', 'line_width': 3,\n",
    "             'marker': 'square', 'marker_size': 5,\n",
    "             'color': colors[3], 'alpha': .6}]\n",
    "    return data\n",
    "\n",
    "\n",
    "def nice_xlims(pltdata=None, prange=None):\n",
    "    \n",
    "    def get_slice(srs):\n",
    "        return srs.sel(pressure=slice(*prange))\n",
    "    \n",
    "    srss = [d['srs'] for d in pltdata]\n",
    "    vmin = min([get_slice(srs).min() for srs in srss])\n",
    "    vmax = max([get_slice(srs).max() for srs in srss])\n",
    "    dv = (vmax - vmin) * .01\n",
    "    return float(vmin - dv), float(vmax + dv)\n",
    "    \n",
    "\n",
    "def plt_cooling_bokeh(pltdata=None):\n",
    "    '''\n",
    "    Plot a list of cooling rate profiles using bokeh.\n",
    "    '''\n",
    "    ymin = 1e-2 \n",
    "    ymax = 1020 \n",
    "        \n",
    "    p1 = figure(title=\"Linear pressure scale\", \n",
    "                plot_width=400)        \n",
    "    xmin, xmax = nice_xlims(pltdata, prange=(50, 1050))\n",
    "    for d in pltdata:\n",
    "        if 'marker' in d:\n",
    "            getattr(p1, d['marker'])(d['srs'].values, \n",
    "                    d['srs'].coords['pressure'].values,\n",
    "                    color=d['color'], alpha=.7)\n",
    "        p1.line(d['srs'].values, \n",
    "                d['srs'].coords['pressure'].values,\n",
    "                color=d['color'], alpha=d['alpha'], \n",
    "                line_width=d['line_width'], line_dash=d['line_dash'])\n",
    "    \n",
    "    p1.y_range = Range1d(ymax, ymin)\n",
    "    p1.yaxis.axis_label = 'pressure [mb]'   \n",
    "    p1.x_range = Range1d(xmin, xmax)\n",
    "    p1.xaxis.axis_label = 'cooling rate [K/day]'\n",
    "            \n",
    "    p2 = figure(title='Log pressure scale', y_axis_type='log',\n",
    "                plot_width=560)\n",
    "    xmin, xmax = nice_xlims(pltdata, prange=(.01, 200))\n",
    "    \n",
    "    rs = []\n",
    "    for d in pltdata:\n",
    "        rd = []\n",
    "        if 'marker' in d:\n",
    "            r_mark = getattr(p2, d['marker'])(d['srs'].values, \n",
    "                        d['srs'].coords['pressure'].values,\n",
    "                        color=d['color'], alpha=.7)\n",
    "            rd.append(r_mark)\n",
    "        r_line = p2.line(d['srs'].values, \n",
    "                    d['srs'].coords['pressure'].values,\n",
    "                    color=d['color'], alpha=d['alpha'], \n",
    "                    line_width=d['line_width'], line_dash=d['line_dash'])\n",
    "        rd.append(r_line)\n",
    "      \n",
    "        rs.append(rd)\n",
    "        \n",
    "    p2.y_range = Range1d(ymax, ymin)  \n",
    "    p2.yaxis.axis_label = 'pressure [mb]'\n",
    "    \n",
    "    p2.x_range = Range1d(xmin, xmax)\n",
    "    p2.xaxis.axis_label = 'cooling rate [K/day]'\n",
    "    \n",
    "    items = [(d['label'], r) for r, d in zip(rs, pltdata)]\n",
    "    legend = Legend(items=items, location=(10, -30))\n",
    "    legend.label_text_font_size = '8pt'\n",
    "    \n",
    "    p2.add_layout(legend, 'right')  \n",
    "    \n",
    "    show(gridplot(p1, p2, ncols=2, plot_height=500))\n",
    "    \n",
    "\n",
    "def script_plt_cooling():\n",
    "    pltdata = pltdata_cooling_1(\n",
    "        ds_cool=DS_COOL,\n",
    "        ds_cool_crd=DS_COOL_CRD,\n",
    "        ds_cool_wgt=DS_COOL_WGT)\n",
    "    plt_cooling_bokeh(pltdata=pltdata)\n",
    "    print('''FIGURE. Cooling rate profiles.''')"
   ]
  },
  {
   "cell_type": "code",
   "execution_count": 9,
   "metadata": {
    "collapsed": true
   },
   "outputs": [],
   "source": [
    "def fmt_flux(ds_in):\n",
    "    ds = ds_in.copy(deep=True)\n",
    "    \n",
    "    for l in ('level', 'layer'):\n",
    "        if l in ds.data_vars:\n",
    "            if len(ds[l].dims) > 1:\n",
    "                surface = {d: 0 for d in ds.dims if d != 'pressure'}\n",
    "                coord_level = ds[l][surface]\n",
    "                ds.coords[l] = ('pressure', coord_level)\n",
    "            else:\n",
    "                ds.coords[l] = ('pressure', ds[l])\n",
    "        \n",
    "    ds = ds.isel(pressure=[0, 23, -1])\n",
    "        \n",
    "    if 'igg' in ds.dims:\n",
    "        ds = ds.sel(igg=[1])\n",
    "        ds = ds.squeeze('igg').drop('igg')\n",
    "    \n",
    "    if 'g' in ds.dims:\n",
    "        ds = ds.sum('g')\n",
    "            \n",
    "    if 'band' in ds.dims:\n",
    "        try:\n",
    "            ds = ds.squeeze('band').drop('band')\n",
    "        except ValueError:\n",
    "            ds = ds.sum('band')\n",
    "                \n",
    "    df = ds.to_dataframe()\n",
    "    df = df.set_index('level', append=True)               \n",
    "    return df\n",
    "\n",
    "\n",
    "def tbdata_flux(ds_flux=None, ds_flux_crd=None, ds_flux_wgt=None):\n",
    "    ilevels = [0, 23, -1]\n",
    "            \n",
    "    benchmark = {'label': 'WGT igg=10 wgt_flux=1',\n",
    "                 'df': fmt_flux(ds_flux_wgt)}\n",
    "    \n",
    "    tbs = [{'label': 'CRD',\n",
    "            'df': fmt_flux(ds_flux_crd)},\n",
    "           {'label': 'CLIRAD',\n",
    "            'df': fmt_flux(ds_flux)}]\n",
    "    \n",
    "    data = {'benchmark': benchmark, 'others': tbs}\n",
    "    return data\n",
    "\n",
    "\n",
    "def tb_flux(tbdata=None):\n",
    "    benchmark = tbdata['benchmark']\n",
    "    others = tbdata['others']\n",
    "    \n",
    "    def show_tb(d=None):\n",
    "        display.display(d['df'])\n",
    "        print('Table.', 'Fluxes.', d['label'])\n",
    "        \n",
    "    def show_tbdiff(d0=None, d=None):\n",
    "        df = d['df']\n",
    "        df.index = d0['df'].index\n",
    "        display.display(df - d0['df'])\n",
    "        print('Table.', 'Fluxes.', \n",
    "              '({}) - ({})'.format(d['label'], d0['label']))\n",
    "        \n",
    "    show_tb(benchmark)\n",
    "    for d in others:\n",
    "        show_tb(d)\n",
    "        \n",
    "    for d in others:\n",
    "        show_tbdiff(d=d, d0=benchmark)\n",
    "        \n",
    "        \n",
    "def script_tb_flux():\n",
    "    data = tbdata_flux(ds_flux=DS_FLUX,\n",
    "                       ds_flux_crd=DS_FLUX_CRD,\n",
    "                       ds_flux_wgt=DS_FLUX_WGT)\n",
    "    tb_flux(tbdata=data)"
   ]
  },
  {
   "cell_type": "code",
   "execution_count": 10,
   "metadata": {
    "collapsed": true
   },
   "outputs": [],
   "source": [
    "def band_map():\n",
    "    '''\n",
    "    Maps spectral bands in lblnew to spectral bands in clirad.\n",
    "    '''\n",
    "    lblnew2clirad = {'1': '1',\n",
    "            '2': '2',\n",
    "            '3a': '3',\n",
    "            '3b': '4',\n",
    "            '3c': '5',\n",
    "            '4': '6', \n",
    "            '5': '7',\n",
    "            '6': '8',\n",
    "            '7': '9', \n",
    "            '8': '10',\n",
    "            '9': '11'}\n",
    "    \n",
    "    clirad2lblnew = {clirad: lblnew \n",
    "                     for lblnew, clirad in lblnew2clirad.items()}\n",
    "    return clirad2lblnew\n",
    "\n",
    "\n",
    "def gasbands():\n",
    "    bmap = band_map()\n",
    "    gases = list(PARAM['molecule'].keys())\n",
    "    \n",
    "    bands = [bmap[str(b)] for b in PARAM['band']]\n",
    "    return list(itertools.product(gases, bands))\n",
    "\n",
    "\n",
    "def print_bestfit_params():\n",
    "    print('Best-fit values for each (gas, band)')\n",
    "    print('------------------------------------')\n",
    "    for gas, band in gasbands():\n",
    "        print('o {} band{}'.format(gas, band))\n",
    "        param = bestfits.kdist_params(molecule=gas, band=band)\n",
    "        for name, value in sorted(param.items()):\n",
    "            print(2 * ' ' + '{} = {}'.format(name, value))\n",
    "\n",
    "        \n",
    "def print_input_param():        \n",
    "    for name, value in PARAM.items():\n",
    "        print('{} = {}'.format(name, value))\n",
    "        \n",
    "        \n",
    "def print_lblnew_param():\n",
    "    for name, value in sorted(PARAM_LBLNEW.items()):\n",
    "        print('{} = {}'.format(name, value))\n"
   ]
  },
  {
   "cell_type": "code",
   "execution_count": 11,
   "metadata": {
    "collapsed": true,
    "scrolled": false
   },
   "outputs": [],
   "source": [
    "def show_html(s):\n",
    "    display.display(display.HTML(s))\n",
    "\n",
    "    \n",
    "def show_markdown(s):\n",
    "    display.display(display.Markdown(s))\n",
    "\n",
    "    \n",
    "def script():\n",
    "    \n",
    "    title = '### CLIRAD-LW'\n",
    "    s_input = 'Input Parameters'\n",
    "    s_lblnew_param = 'LBLNEW case compaired against'\n",
    "    s_bestfits = 'Best-fit Parameters'\n",
    "    s_plt_cooling = 'Cooling Rate Profiles'\n",
    "    s_tb_flux = 'Flux Comparison'\n",
    "    \n",
    "    # title\n",
    "    show_markdown('### CLIRAD-LW')\n",
    "    \n",
    "    # TOC\n",
    "    show_markdown('### Table of Contents')\n",
    "    show_html(climahtml.getHTML_hrefanchor(s_input))\n",
    "    show_html(climahtml.getHTML_hrefanchor(s_lblnew_param))\n",
    "    show_html(climahtml.getHTML_hrefanchor(s_plt_cooling))\n",
    "    show_html(climahtml.getHTML_hrefanchor(s_tb_flux))\n",
    "    show_html(climahtml.getHTML_hrefanchor(s_bestfits))\n",
    "    \n",
    "    # Input parameters\n",
    "    show_html(climahtml.getHTML_idanchor(s_input))\n",
    "    show_markdown(climahtml.getMarkdown_sectitle(s_input))\n",
    "    print_input_param()\n",
    "    \n",
    "    # LBLNEW parameters \n",
    "    show_html(climahtml.getHTML_idanchor(s_lblnew_param))\n",
    "    show_markdown(climahtml.getMarkdown_sectitle(s_lblnew_param))\n",
    "    print_lblnew_param()\n",
    "    \n",
    "    # Cooling rate profiles\n",
    "    show_html(climahtml.getHTML_idanchor(s_plt_cooling))\n",
    "    show_markdown(climahtml.getMarkdown_sectitle(s_plt_cooling))\n",
    "    script_plt_cooling()\n",
    "    \n",
    "    # Flux comparison\n",
    "    show_html(climahtml.getHTML_idanchor(s_tb_flux))\n",
    "    show_markdown(climahtml.getMarkdown_sectitle(s_tb_flux))\n",
    "    script_tb_flux()\n",
    "    \n",
    "    # Best-fit values\n",
    "    show_html(climahtml.getHTML_idanchor(s_bestfits))\n",
    "    show_markdown(climahtml.getMarkdown_sectitle(s_bestfits))\n",
    "    print_bestfit_params()\n",
    "   \n",
    "    "
   ]
  },
  {
   "cell_type": "code",
   "execution_count": 12,
   "metadata": {
    "collapsed": true,
    "scrolled": false
   },
   "outputs": [
    {
     "data": {
      "text/markdown": [
       "### CLIRAD-LW"
      ],
      "text/plain": [
       "<IPython.core.display.Markdown object>"
      ]
     },
     "metadata": {},
     "output_type": "display_data"
    },
    {
     "data": {
      "text/markdown": [
       "### Table of Contents"
      ],
      "text/plain": [
       "<IPython.core.display.Markdown object>"
      ]
     },
     "metadata": {},
     "output_type": "display_data"
    },
    {
     "data": {
      "text/html": [
       "<a href=\"#Input_Parameters\">Input Parameters</a>"
      ],
      "text/plain": [
       "<IPython.core.display.HTML object>"
      ]
     },
     "metadata": {},
     "output_type": "display_data"
    },
    {
     "data": {
      "text/html": [
       "<a href=\"#LBLNEW_case_compaired_against\">LBLNEW case compaired against</a>"
      ],
      "text/plain": [
       "<IPython.core.display.HTML object>"
      ]
     },
     "metadata": {},
     "output_type": "display_data"
    },
    {
     "data": {
      "text/html": [
       "<a href=\"#Cooling_Rate_Profiles\">Cooling Rate Profiles</a>"
      ],
      "text/plain": [
       "<IPython.core.display.HTML object>"
      ]
     },
     "metadata": {},
     "output_type": "display_data"
    },
    {
     "data": {
      "text/html": [
       "<a href=\"#Flux_Comparison\">Flux Comparison</a>"
      ],
      "text/plain": [
       "<IPython.core.display.HTML object>"
      ]
     },
     "metadata": {},
     "output_type": "display_data"
    },
    {
     "data": {
      "text/html": [
       "<a href=\"#Best-fit_Parameters\">Best-fit Parameters</a>"
      ],
      "text/plain": [
       "<IPython.core.display.HTML object>"
      ]
     },
     "metadata": {},
     "output_type": "display_data"
    },
    {
     "data": {
      "text/html": [
       "<a id=\"Input_Parameters\"></a>"
      ],
      "text/plain": [
       "<IPython.core.display.HTML object>"
      ]
     },
     "metadata": {},
     "output_type": "display_data"
    },
    {
     "data": {
      "text/markdown": [
       "# Input Parameters"
      ],
      "text/plain": [
       "<IPython.core.display.Markdown object>"
      ]
     },
     "metadata": {},
     "output_type": "display_data"
    },
    {
     "name": "stdout",
     "output_type": "stream",
     "text": [
      "atmpro = trp\n",
      "band = [3]\n",
      "commitnumber = 7fe1447\n",
      "molecule = {'co2': 0.0004}\n",
      "tsfc = 300\n"
     ]
    },
    {
     "data": {
      "text/html": [
       "<a id=\"LBLNEW_case_compaired_against\"></a>"
      ],
      "text/plain": [
       "<IPython.core.display.HTML object>"
      ]
     },
     "metadata": {},
     "output_type": "display_data"
    },
    {
     "data": {
      "text/markdown": [
       "# LBLNEW case compaired against"
      ],
      "text/plain": [
       "<IPython.core.display.Markdown object>"
      ]
     },
     "metadata": {},
     "output_type": "display_data"
    },
    {
     "name": "stdout",
     "output_type": "stream",
     "text": [
      "atmpro = trp\n",
      "band = 3a\n",
      "commitnumber = a06b618\n",
      "conc = 0.0004\n",
      "dv = 0.001\n",
      "klin = 6.375563e-24\n",
      "molecule = co2\n",
      "ng_adju = [0, 0, 0]\n",
      "ng_refs = [3, 2, 4]\n",
      "nv = 1000\n",
      "option_compute_btable = 0\n",
      "option_compute_ktable = 0\n",
      "option_wgt_flux = 1\n",
      "option_wgt_k = 1\n",
      "ref_pts = [(1, 250), (10, 250), (500, 250)]\n",
      "tsfc = 300\n",
      "vmax = 620\n",
      "vmin = 540\n",
      "w_diffuse = [(1.6, 1.6, 1.7), (1.75, 1.75), (1.55, 1.55, 1.6, 1.85)]\n",
      "wgt = [(0.7, 0.3, 0.7), (0.7, 0.6), (0.4, 0.5, 0.8, 0.95)]\n"
     ]
    },
    {
     "data": {
      "text/html": [
       "<a id=\"Cooling_Rate_Profiles\"></a>"
      ],
      "text/plain": [
       "<IPython.core.display.HTML object>"
      ]
     },
     "metadata": {},
     "output_type": "display_data"
    },
    {
     "data": {
      "text/markdown": [
       "# Cooling Rate Profiles"
      ],
      "text/plain": [
       "<IPython.core.display.Markdown object>"
      ]
     },
     "metadata": {},
     "output_type": "display_data"
    },
    {
     "data": {
      "text/html": [
       "\n",
       "<div class=\"bk-root\">\n",
       "    <div class=\"bk-plotdiv\" id=\"40fd5072-f3ac-4df9-a6b7-32928425d47d\"></div>\n",
       "</div>"
      ]
     },
     "metadata": {},
     "output_type": "display_data"
    },
    {
     "data": {
      "application/javascript": [
       "(function(root) {\n",
       "  function embed_document(root) {\n",
       "    \n",
       "  var docs_json = {\"35a74e95-e75d-43e3-9031-bbcbae99eda9\":{\"roots\":{\"references\":[{\"attributes\":{\"data_source\":{\"id\":\"dcb8eb61-299a-44ba-8bb8-573165bc7aea\",\"type\":\"ColumnDataSource\"},\"glyph\":{\"id\":\"9d3a25eb-8aa8-4873-8917-d9e23f9adaaa\",\"type\":\"Line\"},\"hover_glyph\":null,\"muted_glyph\":null,\"nonselection_glyph\":{\"id\":\"96844df2-b24f-429c-9022-de062f4e3bb1\",\"type\":\"Line\"},\"selection_glyph\":null,\"view\":{\"id\":\"fb5a718c-e3e8-4596-878d-ecb62752256d\",\"type\":\"CDSView\"}},\"id\":\"23a2b744-3d04-4fc8-b271-cbe115878acc\",\"type\":\"GlyphRenderer\"},{\"attributes\":{\"source\":{\"id\":\"0b77406a-f2a1-4f23-a401-7b967464a8c3\",\"type\":\"ColumnDataSource\"}},\"id\":\"49796361-c1f8-4192-838f-29c016d175f0\",\"type\":\"CDSView\"},{\"attributes\":{\"source\":{\"id\":\"dcb8eb61-299a-44ba-8bb8-573165bc7aea\",\"type\":\"ColumnDataSource\"}},\"id\":\"fb5a718c-e3e8-4596-878d-ecb62752256d\",\"type\":\"CDSView\"},{\"attributes\":{},\"id\":\"4495e7a9-4dd5-4028-8b74-55f492e46af4\",\"type\":\"PanTool\"},{\"attributes\":{\"toolbar\":{\"id\":\"f6edc58c-086c-45cf-9bc7-1d70e57c374d\",\"type\":\"ProxyToolbar\"},\"toolbar_location\":\"above\"},\"id\":\"70c67f5a-aba4-48b6-a92e-58568d7c9416\",\"type\":\"ToolbarBox\"},{\"attributes\":{},\"id\":\"5dc1cdd0-c8fa-4b6b-8f12-54d3f16e8a74\",\"type\":\"LinearScale\"},{\"attributes\":{},\"id\":\"2c121dbc-d91a-4891-8325-f97ea670191b\",\"type\":\"BasicTickFormatter\"},{\"attributes\":{\"line_alpha\":0.1,\"line_color\":\"#1f77b4\",\"line_dash\":[6],\"line_width\":5,\"x\":{\"field\":\"x\"},\"y\":{\"field\":\"y\"}},\"id\":\"f3e3a8c9-6c85-4d8a-8dc1-d33c799b3898\",\"type\":\"Line\"},{\"attributes\":{\"fill_alpha\":{\"value\":0.7},\"fill_color\":{\"value\":\"#4daf4a\"},\"line_alpha\":{\"value\":0.7},\"line_color\":{\"value\":\"#4daf4a\"},\"x\":{\"field\":\"x\"},\"y\":{\"field\":\"y\"}},\"id\":\"3455ed2e-0134-4f03-87a8-f90d6d82ba9b\",\"type\":\"Circle\"},{\"attributes\":{\"children\":[{\"id\":\"25065f82-2e86-4d43-9bbf-350dabcd8c2b\",\"subtype\":\"Figure\",\"type\":\"Plot\"},{\"id\":\"928764c3-ea9b-4594-8f73-eb27090d1480\",\"subtype\":\"Figure\",\"type\":\"Plot\"}]},\"id\":\"af6acc35-a4eb-40a5-86ce-21aacb55d561\",\"type\":\"Row\"},{\"attributes\":{\"callback\":null,\"column_names\":[\"x\",\"y\"],\"data\":{\"x\":{\"__ndarray__\":\"AFv7jiPO2D//gUlcjc3YP0pWsFPNqNk/UNsrmJ1q2j9CP5XLLQrbP/MUQbUkdNs/+xpR87ic2z/LOB0zFm7bP2KdKt8z0to/mEOcmD+w2T8apAE4ze3XP/XQBKtmbdU/ktXnSR0N0j+ON+CQmc3LP+uJMkTjw8g/0ac8V+dazj8adFuFQdfSPxfLPtneeNU/kdM6HvGz1z90zQWqVpHaP0Y/noY9p98/+0u9NGbu4z8wNFMxAPrjPyQHsr9oxuA/syAYMBZA3D9Kx8XmHcbWP1L1ZUiZfdI/1RbHFrxHzj8+wKRChp/IP4bRg+3tt8M/DWWP7Qjpvj8mHJuZcJq3Px7TsmzokbE/dKS5acH4qT/X8l1ZiF+aP20MidUJ6m+/Aa5Kc0Igl7+vyAjYqRqUvxdkm7lfvGm/yYx0nYbjfj/RWCa8N5iRP7ZFGI0c7Jo/MfFy0cPioT+TnFhPyROmP11VD/uxB6o/wfJNvsy8rT9qw2vbU5mwPx7NvhbnNLI/m4ezJSKxsz8Wb4rlmw+1P7WZY6mQU7Y/tFNpR05/tz8ZkC805pS4P1PEwVyNl7k/OAysBAeLuj9Msw6BAnO7P9GqXMkKVbw/EOO55444vT8p+UP5oyS+P3hNQPrDIr8/1++R5vITwD/wUfuEHnfAP+7YnSjoesA/UYxFNgQFwD9dPxYFbpu+P++0kNuKWL0/vI7+uHm6vD9Z5VuCANe8P9Vnvc48b70/PGtUM61Fvj8IBu8vq0W/P5Q/rdzqPcA/QEQwLzwGwT8tFOENBirCP8sMwKuKlcQ/\",\"dtype\":\"float64\",\"shape\":[75]},\"y\":{\"__ndarray__\":\"GhExyth1ND/Sv8nbtpRIP2vylNV0PVE/aTum7souWD/At0SJ8fVgPw3Iuahxymc/MSNhhJWvcD/bTfBN02d3P2zb5nxnaoA/CD5h5MAGhz8NmeH1TyaQP+zrCsc9p5Y/LbKd76fGnz/bLW5ISEmmPww9YvTcQq8/JV2OstnstT8Er5Y7M8G+P0c+r3jqkcU/5h99k6ZBzj88bCIzFzjVP4enV8oyxN0//yH99nXg5D8qOpLLf0jtP5kqGJXUifQ/c9cS8kHP/D+/DpwzojQEQIEmwoanVwxA4lgXt9HgE0BSSZ2AJuIbQAMJih9jjiNA5q4l5INuK0AwTKYKRj0zQNv5fmq8/DpAaCJseHrtQkB/+zpwzoxKQM3MzMzMeFJAZmZmZmZqWEAAAAAAAFxeQM3MzMzMJmJAmpmZmZkfZUBmZmZmZhhoQDMzMzMzEWtAAAAAAAAKbkBmZmZmZoFwQM3MzMzM/XFAMzMzMzN6c0CamZmZmfZ0QAAAAAAAc3ZAZmZmZmbvd0DNzMzMzGt5QDMzMzMz6HpAmpmZmZlkfEAAAAAAAOF9QGZmZmZmXX9AZmZmZuZsgECamZmZGSuBQM3MzMxM6YFAAAAAAICngkAzMzMzs2WDQGZmZmbmI4RAmpmZmRnihEDNzMzMTKCFQAAAAACAXoZAMzMzM7Mch0BmZmZm5tqHQJqZmZkZmYhAzczMzExXiUAAAAAAgBWKQDMzMzOz04pAZmZmZuaRi0CamZmZGVCMQM3MzMxMDo1AAAAAAIDMjUAzMzMzs4qOQGZmZmbmSI9A\",\"dtype\":\"float64\",\"shape\":[75]}}},\"id\":\"9def48a2-b1a8-4b43-a9bf-f044c547bd66\",\"type\":\"ColumnDataSource\"},{\"attributes\":{\"overlay\":{\"id\":\"0bf7ae04-8220-4212-a056-24e3d16e7686\",\"type\":\"BoxAnnotation\"}},\"id\":\"46952a8e-0346-46b4-b237-e71be45fb4c9\",\"type\":\"BoxZoomTool\"},{\"attributes\":{\"callback\":null,\"column_names\":[\"x\",\"y\"],\"data\":{\"x\":{\"__ndarray__\":\"diGPdMOd1T/+lINadMTVP609/a6Jn9Y/2Gj0t8Zr1z+ah2Zv5iDYP3AFNOZps9g/GhwdLpsa2T+49ATZ80XZPxCPNCkEIdk/ULah2/ST2D8KQT+MpHvXP1XOr+wdwtU/REIE3yox0z+1jp3TPLzPPwf9UeW/sc0//mEnOMac0T/E160ROMnUP/8T3JgBV9Y/ybsmdknz1j/OiVHhlT7YP+elXIV/htw/Dvyoshdq4j/mcD00MjPjP95GfqUIu+A/HgHpDUF+3D8HSZvuVkLXP4SQ2tbYc9M/k7f4mjyz0D+sCahE7XLMP3diwNKpSsc/9LrPDhAKwj84xwzi0oS6P4i3+6987LI/kY6dH4/sqz/X90nh7uaeP77x/OboxUO/MUUUUz8Alr+5Xr5dcUySv2sbr+Q7hUw/3OdAC+5Gij8o8XzWS8SXP+xNimU2eKA/KhqDtTtmpD+aGEJFlcinPyQHMyrxxao/9TtbLNV/rT/1hVBkNwewPxRc2uo4QrE/hw1GN8t1sj/NC2E9eaSzPyOQnhyd0LQ/v1TFXxf7tT/eaYfO7CG3P5DWOyRnQbg/QPNx0lhbuT+txI/CVG+6P9+BSZsIf7s/rOgPvVGNvD/llgX3nKG9P9PUZaTAwb4/QH0N72Pmvz/XHKoDimXAP5DyYvmneMA/JerwELYUwD/w7oAVWuG+PxzYSvGTwb0/PgXsBYY7vT92vWvYL2O9P0BO3TAV/b0/mngbpX/Nvj+K0pgIuMK/P038aoT2c8A/Qu5RQ/ovwT+NUCTCfELCPw5wkpuujsQ/\",\"dtype\":\"float64\",\"shape\":[75]},\"y\":{\"__ndarray__\":\"GhExyth1ND/Sv8nbtpRIP2vylNV0PVE/aTum7souWD/At0SJ8fVgPw3Iuahxymc/MSNhhJWvcD/bTfBN02d3P2zb5nxnaoA/CD5h5MAGhz8NmeH1TyaQP+zrCsc9p5Y/LbKd76fGnz/bLW5ISEmmPww9YvTcQq8/JV2OstnstT8Er5Y7M8G+P0c+r3jqkcU/5h99k6ZBzj88bCIzFzjVP4enV8oyxN0//yH99nXg5D8qOpLLf0jtP5kqGJXUifQ/c9cS8kHP/D+/DpwzojQEQIEmwoanVwxA4lgXt9HgE0BSSZ2AJuIbQAMJih9jjiNA5q4l5INuK0AwTKYKRj0zQNv5fmq8/DpAaCJseHrtQkB/+zpwzoxKQM3MzMzMeFJAZmZmZmZqWEAAAAAAAFxeQM3MzMzMJmJAmpmZmZkfZUBmZmZmZhhoQDMzMzMzEWtAAAAAAAAKbkBmZmZmZoFwQM3MzMzM/XFAMzMzMzN6c0CamZmZmfZ0QAAAAAAAc3ZAZmZmZmbvd0DNzMzMzGt5QDMzMzMz6HpAmpmZmZlkfEAAAAAAAOF9QGZmZmZmXX9AZmZmZuZsgECamZmZGSuBQM3MzMxM6YFAAAAAAICngkAzMzMzs2WDQGZmZmbmI4RAmpmZmRnihEDNzMzMTKCFQAAAAACAXoZAMzMzM7Mch0BmZmZm5tqHQJqZmZkZmYhAzczMzExXiUAAAAAAgBWKQDMzMzOz04pAZmZmZuaRi0CamZmZGVCMQM3MzMxMDo1AAAAAAIDMjUAzMzMzs4qOQGZmZmbmSI9A\",\"dtype\":\"float64\",\"shape\":[75]}}},\"id\":\"d271e81b-60f8-46e8-ae0d-67f091c58fe5\",\"type\":\"ColumnDataSource\"},{\"attributes\":{\"tools\":[{\"id\":\"f05892b5-8095-40e6-8ca7-7982c2ea4224\",\"type\":\"PanTool\"},{\"id\":\"72bfb7d7-76ec-4fc1-8b1c-6846b7fe37e9\",\"type\":\"WheelZoomTool\"},{\"id\":\"64a250c7-09c4-40d5-80f2-694a172be2ab\",\"type\":\"BoxZoomTool\"},{\"id\":\"a29914cf-779e-4426-8ace-b4c5add7c1b7\",\"type\":\"SaveTool\"},{\"id\":\"99717b83-2ef7-4349-b777-2cab0c43d497\",\"type\":\"ResetTool\"},{\"id\":\"aef1ee33-7f18-4986-b2e4-93896ef2273f\",\"type\":\"HelpTool\"},{\"id\":\"4495e7a9-4dd5-4028-8b74-55f492e46af4\",\"type\":\"PanTool\"},{\"id\":\"10c60fc4-e843-4d95-9d22-266659ee7d29\",\"type\":\"WheelZoomTool\"},{\"id\":\"46952a8e-0346-46b4-b237-e71be45fb4c9\",\"type\":\"BoxZoomTool\"},{\"id\":\"be32afbd-e522-4a37-9298-0284dd2bd57a\",\"type\":\"SaveTool\"},{\"id\":\"2ca01d7e-e9ff-4693-acd9-3a539bf03128\",\"type\":\"ResetTool\"},{\"id\":\"01218f20-2d30-4ee1-a58c-1a19dc547092\",\"type\":\"HelpTool\"}]},\"id\":\"f6edc58c-086c-45cf-9bc7-1d70e57c374d\",\"type\":\"ProxyToolbar\"},{\"attributes\":{\"source\":{\"id\":\"6e75226f-6d5e-4337-9bed-be65f6fa3ff7\",\"type\":\"ColumnDataSource\"}},\"id\":\"1fdb174c-b173-4acd-99f9-0b038a5dd80d\",\"type\":\"CDSView\"},{\"attributes\":{\"fill_alpha\":{\"value\":0.1},\"fill_color\":{\"value\":\"#1f77b4\"},\"line_alpha\":{\"value\":0.1},\"line_color\":{\"value\":\"#1f77b4\"},\"x\":{\"field\":\"x\"},\"y\":{\"field\":\"y\"}},\"id\":\"3f6748d5-85b7-4d98-b994-5a8ef6239afd\",\"type\":\"Circle\"},{\"attributes\":{\"line_alpha\":0.6,\"line_color\":\"#e41a1c\",\"line_dash\":[6],\"line_width\":5,\"x\":{\"field\":\"x\"},\"y\":{\"field\":\"y\"}},\"id\":\"9d3a25eb-8aa8-4873-8917-d9e23f9adaaa\",\"type\":\"Line\"},{\"attributes\":{\"callback\":null,\"column_names\":[\"x\",\"y\"],\"data\":{\"x\":{\"__ndarray__\":\"AFv7jiPO2D//gUlcjc3YP0pWsFPNqNk/UNsrmJ1q2j9CP5XLLQrbP/MUQbUkdNs/+xpR87ic2z/LOB0zFm7bP2KdKt8z0to/mEOcmD+w2T8apAE4ze3XP/XQBKtmbdU/ktXnSR0N0j+ON+CQmc3LP+uJMkTjw8g/0ac8V+dazj8adFuFQdfSPxfLPtneeNU/kdM6HvGz1z90zQWqVpHaP0Y/noY9p98/+0u9NGbu4z8wNFMxAPrjPyQHsr9oxuA/syAYMBZA3D9Kx8XmHcbWP1L1ZUiZfdI/1RbHFrxHzj8+wKRChp/IP4bRg+3tt8M/DWWP7Qjpvj8mHJuZcJq3Px7TsmzokbE/dKS5acH4qT/X8l1ZiF+aP20MidUJ6m+/Aa5Kc0Igl7+vyAjYqRqUvxdkm7lfvGm/yYx0nYbjfj/RWCa8N5iRP7ZFGI0c7Jo/MfFy0cPioT+TnFhPyROmP11VD/uxB6o/wfJNvsy8rT9qw2vbU5mwPx7NvhbnNLI/m4ezJSKxsz8Wb4rlmw+1P7WZY6mQU7Y/tFNpR05/tz8ZkC805pS4P1PEwVyNl7k/OAysBAeLuj9Msw6BAnO7P9GqXMkKVbw/EOO55444vT8p+UP5oyS+P3hNQPrDIr8/1++R5vITwD/wUfuEHnfAP+7YnSjoesA/UYxFNgQFwD9dPxYFbpu+P++0kNuKWL0/vI7+uHm6vD9Z5VuCANe8P9Vnvc48b70/PGtUM61Fvj8IBu8vq0W/P5Q/rdzqPcA/QEQwLzwGwT8tFOENBirCP8sMwKuKlcQ/\",\"dtype\":\"float64\",\"shape\":[75]},\"y\":{\"__ndarray__\":\"GhExyth1ND/Sv8nbtpRIP2vylNV0PVE/aTum7souWD/At0SJ8fVgPw3Iuahxymc/MSNhhJWvcD/bTfBN02d3P2zb5nxnaoA/CD5h5MAGhz8NmeH1TyaQP+zrCsc9p5Y/LbKd76fGnz/bLW5ISEmmPww9YvTcQq8/JV2OstnstT8Er5Y7M8G+P0c+r3jqkcU/5h99k6ZBzj88bCIzFzjVP4enV8oyxN0//yH99nXg5D8qOpLLf0jtP5kqGJXUifQ/c9cS8kHP/D+/DpwzojQEQIEmwoanVwxA4lgXt9HgE0BSSZ2AJuIbQAMJih9jjiNA5q4l5INuK0AwTKYKRj0zQNv5fmq8/DpAaCJseHrtQkB/+zpwzoxKQM3MzMzMeFJAZmZmZmZqWEAAAAAAAFxeQM3MzMzMJmJAmpmZmZkfZUBmZmZmZhhoQDMzMzMzEWtAAAAAAAAKbkBmZmZmZoFwQM3MzMzM/XFAMzMzMzN6c0CamZmZmfZ0QAAAAAAAc3ZAZmZmZmbvd0DNzMzMzGt5QDMzMzMz6HpAmpmZmZlkfEAAAAAAAOF9QGZmZmZmXX9AZmZmZuZsgECamZmZGSuBQM3MzMxM6YFAAAAAAICngkAzMzMzs2WDQGZmZmbmI4RAmpmZmRnihEDNzMzMTKCFQAAAAACAXoZAMzMzM7Mch0BmZmZm5tqHQJqZmZkZmYhAzczMzExXiUAAAAAAgBWKQDMzMzOz04pAZmZmZuaRi0CamZmZGVCMQM3MzMxMDo1AAAAAAIDMjUAzMzMzs4qOQGZmZmbmSI9A\",\"dtype\":\"float64\",\"shape\":[75]}}},\"id\":\"0c401d0d-c3d0-48ed-baef-fc92c1b83dd8\",\"type\":\"ColumnDataSource\"},{\"attributes\":{\"callback\":null,\"column_names\":[\"x\",\"y\"],\"data\":{\"x\":{\"__ndarray__\":\"EJdWItS1zj9NQ55u6k3PPw69pLWSa9A/FNbfdao60T8KECZBjwPSP/VhpLSKwNI/LCD+q9hp0z9s+ZLXlPXTP+ppVYXlU9Q/tC5/z1lw1D/5QWUVmS3UP1/Dwv8MZdM/ET1CMLvl0T8d3+amMGPPPyjcRJD36M4/pRjetDKE0j+mb4inDb3VPx6nCVcX4tY/8SYicOJz1j/0rP/OUaLWP/WXBhO5f9o/Fz2eM/Wc4T+JkladUcriPwlK2TsGmOA/2BJuCStb3D99bUeCuhLXP9RmGE4Ed9M/qKjZh+Xk0D9+VngbxBzNPxlUPKpxocc/oWKDImn5wT80+UWNMrC5PzhuKc7unLE/0Dvo7kdFqT8l9FFLFbqcP1Sv+XNpayW/Ro+EIoIWlb+/1YFGxQySv97GhHHqqDG/51eZRwMahj8VDAoqekWVP2jCsnY0Pp4/KDoedWzroj8wIgPZ6CWmPwip7bwTB6k/MA5hDhiqqz/Lt9EPCTCuPzzKvrRzXbA/KGM6fOumsT+Rq/iJevayP7V3X/g1ULQ/s1YDgKKztT/ETAOIgBi3PwzHd1L0erg/p7Nys2jPuT+zZ+gCCx67P7EJvNVrYbw/JP5yd+eavT+0y1QU8c6+P7DDPTuFAcA/Ke70WjuXwD8Qihg8bQnBPzYb8YVFHME/Go+twsG5wD+k9LfKNBbAP2vwnRwuB78/uGRNE1N1vj+1KtN5nom+Pz6PF/PvCr8/3/Oqa0DGvz/+ddl1kFPAP34kX+iV28A/aO1T4RGNwT+kzEBE7pLCP7kHtoRbwsQ/\",\"dtype\":\"float64\",\"shape\":[75]},\"y\":{\"__ndarray__\":\"S/O/Q+51ND/Sv8nbtpRIP2vylNV0PVE/aTum7souWD/At0SJ8fVgPw3Iuahxymc/MSNhhJWvcD/bTfBN02d3P2zb5nxnaoA/CD5h5MAGhz8NmeH1TyaQP+zrCsc9p5Y/LbKd76fGnz/bLW5ISEmmPww9YvTcQq8/JV2OstnstT8Er5Y7M8G+P0c+r3jqkcU/5h99k6ZBzj88bCIzFzjVP4enV8oyxN0//yH99nXg5D8qOpLLf0jtP5kqGJXUifQ/c9cS8kHP/D+/DpwzojQEQIEmwoanVwxA4lgXt9HgE0BSSZ2AJuIbQAMJih9jjiNA5q4l5INuK0AwTKYKRj0zQNv5fmq8/DpAaCJseHrtQkB/+zpwzoxKQM3MzMzMeFJAZmZmZmZqWEAAAAAAAFxeQM3MzMzMJmJAmpmZmZkfZUBmZmZmZhhoQDMzMzMzEWtAAAAAAAAKbkBmZmZmZoFwQM3MzMzM/XFAMzMzMzN6c0CamZmZmfZ0QAAAAAAAc3ZAZmZmZmbvd0DNzMzMzGt5QDMzMzMz6HpAmpmZmZlkfEAAAAAAAOF9QGZmZmZmXX9AZmZmZuZsgECamZmZGSuBQM3MzMxM6YFAAAAAAICngkAzMzMzs2WDQGZmZmbmI4RAmpmZmRnihEDNzMzMTKCFQAAAAACAXoZAMzMzM7Mch0BmZmZm5tqHQJqZmZkZmYhAzczMzExXiUAAAAAAgBWKQDMzMzOz04pAZmZmZuaRi0CamZmZGVCMQM3MzMxMDo1AAAAAAIDMjUAzMzMzs4qOQGZmZmbmSI9A\",\"dtype\":\"float64\",\"shape\":[75]}}},\"id\":\"1499a836-77eb-4b29-9d55-643ba2a7edc9\",\"type\":\"ColumnDataSource\"},{\"attributes\":{\"plot\":{\"id\":\"928764c3-ea9b-4594-8f73-eb27090d1480\",\"subtype\":\"Figure\",\"type\":\"Plot\"},\"ticker\":{\"id\":\"f23291f7-24d9-4ab4-ac3c-d9cfe4d042fc\",\"type\":\"BasicTicker\"}},\"id\":\"496f3f38-dca9-48c7-9707-d87ebf561084\",\"type\":\"Grid\"},{\"attributes\":{\"data_source\":{\"id\":\"0c401d0d-c3d0-48ed-baef-fc92c1b83dd8\",\"type\":\"ColumnDataSource\"},\"glyph\":{\"id\":\"3455ed2e-0134-4f03-87a8-f90d6d82ba9b\",\"type\":\"Circle\"},\"hover_glyph\":null,\"muted_glyph\":null,\"nonselection_glyph\":{\"id\":\"3f6748d5-85b7-4d98-b994-5a8ef6239afd\",\"type\":\"Circle\"},\"selection_glyph\":null,\"view\":{\"id\":\"902e1c2e-e7c4-4a81-be72-bdaf1ad4b095\",\"type\":\"CDSView\"}},\"id\":\"8fe221de-18d8-42e1-872c-b70854806923\",\"type\":\"GlyphRenderer\"},{\"attributes\":{\"data_source\":{\"id\":\"540049f0-f626-4ae8-94ba-32b31a066980\",\"type\":\"ColumnDataSource\"},\"glyph\":{\"id\":\"f3704ee3-ac13-46d5-b683-f6a17d8bc794\",\"type\":\"Square\"},\"hover_glyph\":null,\"muted_glyph\":null,\"nonselection_glyph\":{\"id\":\"e5745ddc-5d3a-4850-bdbe-09bf0d8931a8\",\"type\":\"Square\"},\"selection_glyph\":null,\"view\":{\"id\":\"767047ae-56fa-4ebc-b076-d9a1d1d4dc8d\",\"type\":\"CDSView\"}},\"id\":\"4c2e90b8-97d9-4011-b82d-02df80bd7047\",\"type\":\"GlyphRenderer\"},{\"attributes\":{\"data_source\":{\"id\":\"d271e81b-60f8-46e8-ae0d-67f091c58fe5\",\"type\":\"ColumnDataSource\"},\"glyph\":{\"id\":\"f1870f36-d62c-4147-85cd-82b4b70390a6\",\"type\":\"Square\"},\"hover_glyph\":null,\"muted_glyph\":null,\"nonselection_glyph\":{\"id\":\"30a307f4-42ab-49f8-ba69-99a583726cb0\",\"type\":\"Square\"},\"selection_glyph\":null,\"view\":{\"id\":\"b5c627ed-344a-4dc3-bec5-a01e8e290e3d\",\"type\":\"CDSView\"}},\"id\":\"5a70de6c-d9c2-43ed-b819-a241275e5d05\",\"type\":\"GlyphRenderer\"},{\"attributes\":{\"source\":{\"id\":\"0c401d0d-c3d0-48ed-baef-fc92c1b83dd8\",\"type\":\"ColumnDataSource\"}},\"id\":\"902e1c2e-e7c4-4a81-be72-bdaf1ad4b095\",\"type\":\"CDSView\"},{\"attributes\":{\"line_color\":\"#4daf4a\",\"line_width\":1.5,\"x\":{\"field\":\"x\"},\"y\":{\"field\":\"y\"}},\"id\":\"f2c8a2eb-0e50-48dd-8938-ff3c914d8126\",\"type\":\"Line\"},{\"attributes\":{\"items\":[{\"id\":\"83ab8bfc-99a6-4213-88ff-924cb5063c3a\",\"type\":\"LegendItem\"},{\"id\":\"48851917-a802-4b19-9864-51483a6da5cc\",\"type\":\"LegendItem\"},{\"id\":\"f990ad4c-672f-41ed-a1b4-8f3643ab14dd\",\"type\":\"LegendItem\"}],\"label_text_font_size\":{\"value\":\"8pt\"},\"location\":[10,-30],\"plot\":{\"id\":\"928764c3-ea9b-4594-8f73-eb27090d1480\",\"subtype\":\"Figure\",\"type\":\"Plot\"}},\"id\":\"7e886e4b-18c2-4705-8132-a5e32dc17d46\",\"type\":\"Legend\"},{\"attributes\":{\"callback\":null,\"column_names\":[\"x\",\"y\"],\"data\":{\"x\":{\"__ndarray__\":\"diGPdMOd1T/+lINadMTVP609/a6Jn9Y/2Gj0t8Zr1z+ah2Zv5iDYP3AFNOZps9g/GhwdLpsa2T+49ATZ80XZPxCPNCkEIdk/ULah2/ST2D8KQT+MpHvXP1XOr+wdwtU/REIE3yox0z+1jp3TPLzPPwf9UeW/sc0//mEnOMac0T/E160ROMnUP/8T3JgBV9Y/ybsmdknz1j/OiVHhlT7YP+elXIV/htw/Dvyoshdq4j/mcD00MjPjP95GfqUIu+A/HgHpDUF+3D8HSZvuVkLXP4SQ2tbYc9M/k7f4mjyz0D+sCahE7XLMP3diwNKpSsc/9LrPDhAKwj84xwzi0oS6P4i3+6987LI/kY6dH4/sqz/X90nh7uaeP77x/OboxUO/MUUUUz8Alr+5Xr5dcUySv2sbr+Q7hUw/3OdAC+5Gij8o8XzWS8SXP+xNimU2eKA/KhqDtTtmpD+aGEJFlcinPyQHMyrxxao/9TtbLNV/rT/1hVBkNwewPxRc2uo4QrE/hw1GN8t1sj/NC2E9eaSzPyOQnhyd0LQ/v1TFXxf7tT/eaYfO7CG3P5DWOyRnQbg/QPNx0lhbuT+txI/CVG+6P9+BSZsIf7s/rOgPvVGNvD/llgX3nKG9P9PUZaTAwb4/QH0N72Pmvz/XHKoDimXAP5DyYvmneMA/JerwELYUwD/w7oAVWuG+PxzYSvGTwb0/PgXsBYY7vT92vWvYL2O9P0BO3TAV/b0/mngbpX/Nvj+K0pgIuMK/P038aoT2c8A/Qu5RQ/ovwT+NUCTCfELCPw5wkpuujsQ/\",\"dtype\":\"float64\",\"shape\":[75]},\"y\":{\"__ndarray__\":\"GhExyth1ND/Sv8nbtpRIP2vylNV0PVE/aTum7souWD/At0SJ8fVgPw3Iuahxymc/MSNhhJWvcD/bTfBN02d3P2zb5nxnaoA/CD5h5MAGhz8NmeH1TyaQP+zrCsc9p5Y/LbKd76fGnz/bLW5ISEmmPww9YvTcQq8/JV2OstnstT8Er5Y7M8G+P0c+r3jqkcU/5h99k6ZBzj88bCIzFzjVP4enV8oyxN0//yH99nXg5D8qOpLLf0jtP5kqGJXUifQ/c9cS8kHP/D+/DpwzojQEQIEmwoanVwxA4lgXt9HgE0BSSZ2AJuIbQAMJih9jjiNA5q4l5INuK0AwTKYKRj0zQNv5fmq8/DpAaCJseHrtQkB/+zpwzoxKQM3MzMzMeFJAZmZmZmZqWEAAAAAAAFxeQM3MzMzMJmJAmpmZmZkfZUBmZmZmZhhoQDMzMzMzEWtAAAAAAAAKbkBmZmZmZoFwQM3MzMzM/XFAMzMzMzN6c0CamZmZmfZ0QAAAAAAAc3ZAZmZmZmbvd0DNzMzMzGt5QDMzMzMz6HpAmpmZmZlkfEAAAAAAAOF9QGZmZmZmXX9AZmZmZuZsgECamZmZGSuBQM3MzMxM6YFAAAAAAICngkAzMzMzs2WDQGZmZmbmI4RAmpmZmRnihEDNzMzMTKCFQAAAAACAXoZAMzMzM7Mch0BmZmZm5tqHQJqZmZkZmYhAzczMzExXiUAAAAAAgBWKQDMzMzOz04pAZmZmZuaRi0CamZmZGVCMQM3MzMxMDo1AAAAAAIDMjUAzMzMzs4qOQGZmZmbmSI9A\",\"dtype\":\"float64\",\"shape\":[75]}}},\"id\":\"679c6b6c-2d70-43dd-a9e3-f39d18513bdb\",\"type\":\"ColumnDataSource\"},{\"attributes\":{\"line_alpha\":0.1,\"line_color\":\"#1f77b4\",\"line_width\":1.5,\"x\":{\"field\":\"x\"},\"y\":{\"field\":\"y\"}},\"id\":\"f0e94420-8218-46b0-91a2-fa8b38c7e3eb\",\"type\":\"Line\"},{\"attributes\":{\"below\":[{\"id\":\"a9248204-b226-4d6a-ba5a-cc615a742b9d\",\"type\":\"LinearAxis\"}],\"left\":[{\"id\":\"1241597d-964b-453e-8c75-cf2645dc8374\",\"type\":\"LogAxis\"}],\"plot_height\":500,\"plot_width\":560,\"renderers\":[{\"id\":\"a9248204-b226-4d6a-ba5a-cc615a742b9d\",\"type\":\"LinearAxis\"},{\"id\":\"496f3f38-dca9-48c7-9707-d87ebf561084\",\"type\":\"Grid\"},{\"id\":\"1241597d-964b-453e-8c75-cf2645dc8374\",\"type\":\"LogAxis\"},{\"id\":\"050d0971-e2ad-479c-b404-c840be12acb5\",\"type\":\"Grid\"},{\"id\":\"0bf7ae04-8220-4212-a056-24e3d16e7686\",\"type\":\"BoxAnnotation\"},{\"id\":\"23a2b744-3d04-4fc8-b271-cbe115878acc\",\"type\":\"GlyphRenderer\"},{\"id\":\"8fe221de-18d8-42e1-872c-b70854806923\",\"type\":\"GlyphRenderer\"},{\"id\":\"9f8eefe8-18ad-465b-a235-ba91d87d896b\",\"type\":\"GlyphRenderer\"},{\"id\":\"5a70de6c-d9c2-43ed-b819-a241275e5d05\",\"type\":\"GlyphRenderer\"},{\"id\":\"aa1b0739-eb84-402c-9011-17fa1ed91183\",\"type\":\"GlyphRenderer\"},{\"id\":\"7e886e4b-18c2-4705-8132-a5e32dc17d46\",\"type\":\"Legend\"}],\"right\":[{\"id\":\"7e886e4b-18c2-4705-8132-a5e32dc17d46\",\"type\":\"Legend\"}],\"title\":{\"id\":\"4ee4cd00-d134-4171-9758-e1b94a0fa390\",\"type\":\"Title\"},\"toolbar\":{\"id\":\"f33f4132-7d69-4a96-863f-8961cf784088\",\"type\":\"Toolbar\"},\"toolbar_location\":null,\"x_range\":{\"id\":\"1ef7ab87-b2e4-4c38-9163-be0e0c752fa0\",\"type\":\"Range1d\"},\"x_scale\":{\"id\":\"5dc1cdd0-c8fa-4b6b-8f12-54d3f16e8a74\",\"type\":\"LinearScale\"},\"y_range\":{\"id\":\"5a30d8e9-7a39-4982-8fc6-0f5d45c4c534\",\"type\":\"Range1d\"},\"y_scale\":{\"id\":\"c1c2a8a6-0b6a-4a35-88dd-fe17a5dd901c\",\"type\":\"LogScale\"}},\"id\":\"928764c3-ea9b-4594-8f73-eb27090d1480\",\"subtype\":\"Figure\",\"type\":\"Plot\"},{\"attributes\":{\"data_source\":{\"id\":\"9def48a2-b1a8-4b43-a9bf-f044c547bd66\",\"type\":\"ColumnDataSource\"},\"glyph\":{\"id\":\"f2c8a2eb-0e50-48dd-8938-ff3c914d8126\",\"type\":\"Line\"},\"hover_glyph\":null,\"muted_glyph\":null,\"nonselection_glyph\":{\"id\":\"f0e94420-8218-46b0-91a2-fa8b38c7e3eb\",\"type\":\"Line\"},\"selection_glyph\":null,\"view\":{\"id\":\"995d8699-978a-4b6d-bfce-b9be004c8e0a\",\"type\":\"CDSView\"}},\"id\":\"9f8eefe8-18ad-465b-a235-ba91d87d896b\",\"type\":\"GlyphRenderer\"},{\"attributes\":{\"line_color\":\"#4daf4a\",\"line_width\":1.5,\"x\":{\"field\":\"x\"},\"y\":{\"field\":\"y\"}},\"id\":\"79ea90bb-b6f1-48bb-a7da-e93b103f841e\",\"type\":\"Line\"},{\"attributes\":{\"source\":{\"id\":\"9def48a2-b1a8-4b43-a9bf-f044c547bd66\",\"type\":\"ColumnDataSource\"}},\"id\":\"995d8699-978a-4b6d-bfce-b9be004c8e0a\",\"type\":\"CDSView\"},{\"attributes\":{},\"id\":\"be32afbd-e522-4a37-9298-0284dd2bd57a\",\"type\":\"SaveTool\"},{\"attributes\":{\"source\":{\"id\":\"a213240f-6bc3-44e6-9392-46ddad584bb6\",\"type\":\"ColumnDataSource\"}},\"id\":\"5a957a8e-5bc5-4344-a0e7-669f40dfef76\",\"type\":\"CDSView\"},{\"attributes\":{\"fill_alpha\":{\"value\":0.7},\"fill_color\":{\"value\":\"#984ea3\"},\"line_alpha\":{\"value\":0.7},\"line_color\":{\"value\":\"#984ea3\"},\"x\":{\"field\":\"x\"},\"y\":{\"field\":\"y\"}},\"id\":\"f1870f36-d62c-4147-85cd-82b4b70390a6\",\"type\":\"Square\"},{\"attributes\":{},\"id\":\"10c60fc4-e843-4d95-9d22-266659ee7d29\",\"type\":\"WheelZoomTool\"},{\"attributes\":{\"data_source\":{\"id\":\"a213240f-6bc3-44e6-9392-46ddad584bb6\",\"type\":\"ColumnDataSource\"},\"glyph\":{\"id\":\"9e3aa0a3-5279-4400-b14b-ff12d216671d\",\"type\":\"Line\"},\"hover_glyph\":null,\"muted_glyph\":null,\"nonselection_glyph\":{\"id\":\"edf44e5d-850d-479f-82fc-ea20dab8afad\",\"type\":\"Line\"},\"selection_glyph\":null,\"view\":{\"id\":\"5a957a8e-5bc5-4344-a0e7-669f40dfef76\",\"type\":\"CDSView\"}},\"id\":\"a20ded66-b019-4e8a-a75b-ac9e2bc20120\",\"type\":\"GlyphRenderer\"},{\"attributes\":{\"fill_alpha\":{\"value\":0.1},\"fill_color\":{\"value\":\"#1f77b4\"},\"line_alpha\":{\"value\":0.1},\"line_color\":{\"value\":\"#1f77b4\"},\"x\":{\"field\":\"x\"},\"y\":{\"field\":\"y\"}},\"id\":\"30a307f4-42ab-49f8-ba69-99a583726cb0\",\"type\":\"Square\"},{\"attributes\":{\"callback\":null,\"end\":0.6307361866800001,\"start\":-0.02905251468},\"id\":\"1ef7ab87-b2e4-4c38-9163-be0e0c752fa0\",\"type\":\"Range1d\"},{\"attributes\":{\"data_source\":{\"id\":\"679c6b6c-2d70-43dd-a9e3-f39d18513bdb\",\"type\":\"ColumnDataSource\"},\"glyph\":{\"id\":\"5d9f3fce-f419-4594-a4ff-04572a7f4aea\",\"type\":\"Line\"},\"hover_glyph\":null,\"muted_glyph\":null,\"nonselection_glyph\":{\"id\":\"78c17241-49a9-4e2b-818a-684a7e45ce97\",\"type\":\"Line\"},\"selection_glyph\":null,\"view\":{\"id\":\"a2e59be5-d550-4a3f-a49b-4e86cda09fbf\",\"type\":\"CDSView\"}},\"id\":\"aa1b0739-eb84-402c-9011-17fa1ed91183\",\"type\":\"GlyphRenderer\"},{\"attributes\":{\"source\":{\"id\":\"540049f0-f626-4ae8-94ba-32b31a066980\",\"type\":\"ColumnDataSource\"}},\"id\":\"767047ae-56fa-4ebc-b076-d9a1d1d4dc8d\",\"type\":\"CDSView\"},{\"attributes\":{\"source\":{\"id\":\"d271e81b-60f8-46e8-ae0d-67f091c58fe5\",\"type\":\"ColumnDataSource\"}},\"id\":\"b5c627ed-344a-4dc3-bec5-a01e8e290e3d\",\"type\":\"CDSView\"},{\"attributes\":{},\"id\":\"aef1ee33-7f18-4986-b2e4-93896ef2273f\",\"type\":\"HelpTool\"},{\"attributes\":{},\"id\":\"f23291f7-24d9-4ab4-ac3c-d9cfe4d042fc\",\"type\":\"BasicTicker\"},{\"attributes\":{\"line_alpha\":0.6,\"line_color\":\"#984ea3\",\"line_width\":3,\"x\":{\"field\":\"x\"},\"y\":{\"field\":\"y\"}},\"id\":\"5d9f3fce-f419-4594-a4ff-04572a7f4aea\",\"type\":\"Line\"},{\"attributes\":{\"dimension\":1,\"plot\":{\"id\":\"928764c3-ea9b-4594-8f73-eb27090d1480\",\"subtype\":\"Figure\",\"type\":\"Plot\"},\"ticker\":{\"id\":\"9506fdfe-3f2c-4754-8395-40a82c830c85\",\"type\":\"LogTicker\"}},\"id\":\"050d0971-e2ad-479c-b404-c840be12acb5\",\"type\":\"Grid\"},{\"attributes\":{\"line_alpha\":0.1,\"line_color\":\"#1f77b4\",\"line_width\":3,\"x\":{\"field\":\"x\"},\"y\":{\"field\":\"y\"}},\"id\":\"78c17241-49a9-4e2b-818a-684a7e45ce97\",\"type\":\"Line\"},{\"attributes\":{\"source\":{\"id\":\"679c6b6c-2d70-43dd-a9e3-f39d18513bdb\",\"type\":\"ColumnDataSource\"}},\"id\":\"a2e59be5-d550-4a3f-a49b-4e86cda09fbf\",\"type\":\"CDSView\"},{\"attributes\":{\"children\":[{\"id\":\"70c67f5a-aba4-48b6-a92e-58568d7c9416\",\"type\":\"ToolbarBox\"},{\"id\":\"e6f86e9a-2273-46ce-985b-9c12c57c0d09\",\"type\":\"Column\"}]},\"id\":\"5ed8e68a-875b-47c7-b0e3-3025a5db251b\",\"type\":\"Column\"},{\"attributes\":{},\"id\":\"5750f29e-eee1-457a-bf13-dac80b6b4c85\",\"type\":\"LinearScale\"},{\"attributes\":{\"active_drag\":\"auto\",\"active_inspect\":\"auto\",\"active_scroll\":\"auto\",\"active_tap\":\"auto\",\"tools\":[{\"id\":\"4495e7a9-4dd5-4028-8b74-55f492e46af4\",\"type\":\"PanTool\"},{\"id\":\"10c60fc4-e843-4d95-9d22-266659ee7d29\",\"type\":\"WheelZoomTool\"},{\"id\":\"46952a8e-0346-46b4-b237-e71be45fb4c9\",\"type\":\"BoxZoomTool\"},{\"id\":\"be32afbd-e522-4a37-9298-0284dd2bd57a\",\"type\":\"SaveTool\"},{\"id\":\"2ca01d7e-e9ff-4693-acd9-3a539bf03128\",\"type\":\"ResetTool\"},{\"id\":\"01218f20-2d30-4ee1-a58c-1a19dc547092\",\"type\":\"HelpTool\"}]},\"id\":\"f33f4132-7d69-4a96-863f-8961cf784088\",\"type\":\"Toolbar\"},{\"attributes\":{\"source\":{\"id\":\"1499a836-77eb-4b29-9d55-643ba2a7edc9\",\"type\":\"ColumnDataSource\"}},\"id\":\"3be788f6-ceff-4a10-9326-f985eff3293d\",\"type\":\"CDSView\"},{\"attributes\":{},\"id\":\"01218f20-2d30-4ee1-a58c-1a19dc547092\",\"type\":\"HelpTool\"},{\"attributes\":{},\"id\":\"94aea072-af63-48f9-99b4-1abdd1d3c2a4\",\"type\":\"LinearScale\"},{\"attributes\":{\"callback\":null,\"column_names\":[\"x\",\"y\"],\"data\":{\"x\":{\"__ndarray__\":\"diGPdMOd1T/+lINadMTVP609/a6Jn9Y/2Gj0t8Zr1z+ah2Zv5iDYP3AFNOZps9g/GhwdLpsa2T+49ATZ80XZPxCPNCkEIdk/ULah2/ST2D8KQT+MpHvXP1XOr+wdwtU/REIE3yox0z+1jp3TPLzPPwf9UeW/sc0//mEnOMac0T/E160ROMnUP/8T3JgBV9Y/ybsmdknz1j/OiVHhlT7YP+elXIV/htw/Dvyoshdq4j/mcD00MjPjP95GfqUIu+A/HgHpDUF+3D8HSZvuVkLXP4SQ2tbYc9M/k7f4mjyz0D+sCahE7XLMP3diwNKpSsc/9LrPDhAKwj84xwzi0oS6P4i3+6987LI/kY6dH4/sqz/X90nh7uaeP77x/OboxUO/MUUUUz8Alr+5Xr5dcUySv2sbr+Q7hUw/3OdAC+5Gij8o8XzWS8SXP+xNimU2eKA/KhqDtTtmpD+aGEJFlcinPyQHMyrxxao/9TtbLNV/rT/1hVBkNwewPxRc2uo4QrE/hw1GN8t1sj/NC2E9eaSzPyOQnhyd0LQ/v1TFXxf7tT/eaYfO7CG3P5DWOyRnQbg/QPNx0lhbuT+txI/CVG+6P9+BSZsIf7s/rOgPvVGNvD/llgX3nKG9P9PUZaTAwb4/QH0N72Pmvz/XHKoDimXAP5DyYvmneMA/JerwELYUwD/w7oAVWuG+PxzYSvGTwb0/PgXsBYY7vT92vWvYL2O9P0BO3TAV/b0/mngbpX/Nvj+K0pgIuMK/P038aoT2c8A/Qu5RQ/ovwT+NUCTCfELCPw5wkpuujsQ/\",\"dtype\":\"float64\",\"shape\":[75]},\"y\":{\"__ndarray__\":\"GhExyth1ND/Sv8nbtpRIP2vylNV0PVE/aTum7souWD/At0SJ8fVgPw3Iuahxymc/MSNhhJWvcD/bTfBN02d3P2zb5nxnaoA/CD5h5MAGhz8NmeH1TyaQP+zrCsc9p5Y/LbKd76fGnz/bLW5ISEmmPww9YvTcQq8/JV2OstnstT8Er5Y7M8G+P0c+r3jqkcU/5h99k6ZBzj88bCIzFzjVP4enV8oyxN0//yH99nXg5D8qOpLLf0jtP5kqGJXUifQ/c9cS8kHP/D+/DpwzojQEQIEmwoanVwxA4lgXt9HgE0BSSZ2AJuIbQAMJih9jjiNA5q4l5INuK0AwTKYKRj0zQNv5fmq8/DpAaCJseHrtQkB/+zpwzoxKQM3MzMzMeFJAZmZmZmZqWEAAAAAAAFxeQM3MzMzMJmJAmpmZmZkfZUBmZmZmZhhoQDMzMzMzEWtAAAAAAAAKbkBmZmZmZoFwQM3MzMzM/XFAMzMzMzN6c0CamZmZmfZ0QAAAAAAAc3ZAZmZmZmbvd0DNzMzMzGt5QDMzMzMz6HpAmpmZmZlkfEAAAAAAAOF9QGZmZmZmXX9AZmZmZuZsgECamZmZGSuBQM3MzMxM6YFAAAAAAICngkAzMzMzs2WDQGZmZmbmI4RAmpmZmRnihEDNzMzMTKCFQAAAAACAXoZAMzMzM7Mch0BmZmZm5tqHQJqZmZkZmYhAzczMzExXiUAAAAAAgBWKQDMzMzOz04pAZmZmZuaRi0CamZmZGVCMQM3MzMxMDo1AAAAAAIDMjUAzMzMzs4qOQGZmZmbmSI9A\",\"dtype\":\"float64\",\"shape\":[75]}}},\"id\":\"540049f0-f626-4ae8-94ba-32b31a066980\",\"type\":\"ColumnDataSource\"},{\"attributes\":{\"axis_label\":\"cooling rate [K/day]\",\"formatter\":{\"id\":\"b2387a6e-4aff-4ec0-995d-218042926006\",\"type\":\"BasicTickFormatter\"},\"plot\":{\"id\":\"25065f82-2e86-4d43-9bbf-350dabcd8c2b\",\"subtype\":\"Figure\",\"type\":\"Plot\"},\"ticker\":{\"id\":\"6f932bc2-9385-4913-84c5-9122c238b5f8\",\"type\":\"BasicTicker\"}},\"id\":\"789119bd-b691-4dc5-a88c-cc3b635eb719\",\"type\":\"LinearAxis\"},{\"attributes\":{\"label\":{\"value\":\"WGT igg=10 wgt_flux=2\"},\"renderers\":[{\"id\":\"5a70de6c-d9c2-43ed-b819-a241275e5d05\",\"type\":\"GlyphRenderer\"},{\"id\":\"aa1b0739-eb84-402c-9011-17fa1ed91183\",\"type\":\"GlyphRenderer\"}]},\"id\":\"f990ad4c-672f-41ed-a1b4-8f3643ab14dd\",\"type\":\"LegendItem\"},{\"attributes\":{\"axis_label\":\"cooling rate [K/day]\",\"formatter\":{\"id\":\"2c121dbc-d91a-4891-8325-f97ea670191b\",\"type\":\"BasicTickFormatter\"},\"plot\":{\"id\":\"928764c3-ea9b-4594-8f73-eb27090d1480\",\"subtype\":\"Figure\",\"type\":\"Plot\"},\"ticker\":{\"id\":\"f23291f7-24d9-4ab4-ac3c-d9cfe4d042fc\",\"type\":\"BasicTicker\"}},\"id\":\"a9248204-b226-4d6a-ba5a-cc615a742b9d\",\"type\":\"LinearAxis\"},{\"attributes\":{\"axis_label\":\"pressure [mb]\",\"formatter\":{\"id\":\"50e3f833-0ec5-4c1b-9dcb-d2f797d6303b\",\"type\":\"BasicTickFormatter\"},\"plot\":{\"id\":\"25065f82-2e86-4d43-9bbf-350dabcd8c2b\",\"subtype\":\"Figure\",\"type\":\"Plot\"},\"ticker\":{\"id\":\"3faa111d-eb32-4518-9c6a-503c63f7e8bc\",\"type\":\"BasicTicker\"}},\"id\":\"9d306b68-49ed-4800-9077-9e9ae8543bbf\",\"type\":\"LinearAxis\"},{\"attributes\":{\"plot\":null,\"text\":\"Log pressure scale\"},\"id\":\"4ee4cd00-d134-4171-9758-e1b94a0fa390\",\"type\":\"Title\"},{\"attributes\":{\"children\":[{\"id\":\"af6acc35-a4eb-40a5-86ce-21aacb55d561\",\"type\":\"Row\"}]},\"id\":\"e6f86e9a-2273-46ce-985b-9c12c57c0d09\",\"type\":\"Column\"},{\"attributes\":{\"axis_label\":\"pressure [mb]\",\"formatter\":{\"id\":\"bc52c5c1-06f1-4a49-861c-7f36d1e9ae22\",\"type\":\"LogTickFormatter\"},\"plot\":{\"id\":\"928764c3-ea9b-4594-8f73-eb27090d1480\",\"subtype\":\"Figure\",\"type\":\"Plot\"},\"ticker\":{\"id\":\"9506fdfe-3f2c-4754-8395-40a82c830c85\",\"type\":\"LogTicker\"}},\"id\":\"1241597d-964b-453e-8c75-cf2645dc8374\",\"type\":\"LogAxis\"},{\"attributes\":{},\"id\":\"6f932bc2-9385-4913-84c5-9122c238b5f8\",\"type\":\"BasicTicker\"},{\"attributes\":{},\"id\":\"50e3f833-0ec5-4c1b-9dcb-d2f797d6303b\",\"type\":\"BasicTickFormatter\"},{\"attributes\":{\"plot\":{\"id\":\"25065f82-2e86-4d43-9bbf-350dabcd8c2b\",\"subtype\":\"Figure\",\"type\":\"Plot\"},\"ticker\":{\"id\":\"6f932bc2-9385-4913-84c5-9122c238b5f8\",\"type\":\"BasicTicker\"}},\"id\":\"88e24b31-be26-4853-8ddb-2283ccc7d689\",\"type\":\"Grid\"},{\"attributes\":{\"callback\":null,\"column_names\":[\"x\",\"y\"],\"data\":{\"x\":{\"__ndarray__\":\"diGPdMOd1T/+lINadMTVP609/a6Jn9Y/2Gj0t8Zr1z+ah2Zv5iDYP3AFNOZps9g/GhwdLpsa2T+49ATZ80XZPxCPNCkEIdk/ULah2/ST2D8KQT+MpHvXP1XOr+wdwtU/REIE3yox0z+1jp3TPLzPPwf9UeW/sc0//mEnOMac0T/E160ROMnUP/8T3JgBV9Y/ybsmdknz1j/OiVHhlT7YP+elXIV/htw/Dvyoshdq4j/mcD00MjPjP95GfqUIu+A/HgHpDUF+3D8HSZvuVkLXP4SQ2tbYc9M/k7f4mjyz0D+sCahE7XLMP3diwNKpSsc/9LrPDhAKwj84xwzi0oS6P4i3+6987LI/kY6dH4/sqz/X90nh7uaeP77x/OboxUO/MUUUUz8Alr+5Xr5dcUySv2sbr+Q7hUw/3OdAC+5Gij8o8XzWS8SXP+xNimU2eKA/KhqDtTtmpD+aGEJFlcinPyQHMyrxxao/9TtbLNV/rT/1hVBkNwewPxRc2uo4QrE/hw1GN8t1sj/NC2E9eaSzPyOQnhyd0LQ/v1TFXxf7tT/eaYfO7CG3P5DWOyRnQbg/QPNx0lhbuT+txI/CVG+6P9+BSZsIf7s/rOgPvVGNvD/llgX3nKG9P9PUZaTAwb4/QH0N72Pmvz/XHKoDimXAP5DyYvmneMA/JerwELYUwD/w7oAVWuG+PxzYSvGTwb0/PgXsBYY7vT92vWvYL2O9P0BO3TAV/b0/mngbpX/Nvj+K0pgIuMK/P038aoT2c8A/Qu5RQ/ovwT+NUCTCfELCPw5wkpuujsQ/\",\"dtype\":\"float64\",\"shape\":[75]},\"y\":{\"__ndarray__\":\"GhExyth1ND/Sv8nbtpRIP2vylNV0PVE/aTum7souWD/At0SJ8fVgPw3Iuahxymc/MSNhhJWvcD/bTfBN02d3P2zb5nxnaoA/CD5h5MAGhz8NmeH1TyaQP+zrCsc9p5Y/LbKd76fGnz/bLW5ISEmmPww9YvTcQq8/JV2OstnstT8Er5Y7M8G+P0c+r3jqkcU/5h99k6ZBzj88bCIzFzjVP4enV8oyxN0//yH99nXg5D8qOpLLf0jtP5kqGJXUifQ/c9cS8kHP/D+/DpwzojQEQIEmwoanVwxA4lgXt9HgE0BSSZ2AJuIbQAMJih9jjiNA5q4l5INuK0AwTKYKRj0zQNv5fmq8/DpAaCJseHrtQkB/+zpwzoxKQM3MzMzMeFJAZmZmZmZqWEAAAAAAAFxeQM3MzMzMJmJAmpmZmZkfZUBmZmZmZhhoQDMzMzMzEWtAAAAAAAAKbkBmZmZmZoFwQM3MzMzM/XFAMzMzMzN6c0CamZmZmfZ0QAAAAAAAc3ZAZmZmZmbvd0DNzMzMzGt5QDMzMzMz6HpAmpmZmZlkfEAAAAAAAOF9QGZmZmZmXX9AZmZmZuZsgECamZmZGSuBQM3MzMxM6YFAAAAAAICngkAzMzMzs2WDQGZmZmbmI4RAmpmZmRnihEDNzMzMTKCFQAAAAACAXoZAMzMzM7Mch0BmZmZm5tqHQJqZmZkZmYhAzczMzExXiUAAAAAAgBWKQDMzMzOz04pAZmZmZuaRi0CamZmZGVCMQM3MzMxMDo1AAAAAAIDMjUAzMzMzs4qOQGZmZmbmSI9A\",\"dtype\":\"float64\",\"shape\":[75]}}},\"id\":\"a213240f-6bc3-44e6-9392-46ddad584bb6\",\"type\":\"ColumnDataSource\"},{\"attributes\":{},\"id\":\"99717b83-2ef7-4349-b777-2cab0c43d497\",\"type\":\"ResetTool\"},{\"attributes\":{},\"id\":\"b2387a6e-4aff-4ec0-995d-218042926006\",\"type\":\"BasicTickFormatter\"},{\"attributes\":{\"line_alpha\":0.6,\"line_color\":\"#e41a1c\",\"line_dash\":[6],\"line_width\":5,\"x\":{\"field\":\"x\"},\"y\":{\"field\":\"y\"}},\"id\":\"1c761472-cf93-4362-a4a6-40a0670f1d84\",\"type\":\"Line\"},{\"attributes\":{\"fill_alpha\":{\"value\":0.7},\"fill_color\":{\"value\":\"#984ea3\"},\"line_alpha\":{\"value\":0.7},\"line_color\":{\"value\":\"#984ea3\"},\"x\":{\"field\":\"x\"},\"y\":{\"field\":\"y\"}},\"id\":\"f3704ee3-ac13-46d5-b683-f6a17d8bc794\",\"type\":\"Square\"},{\"attributes\":{\"dimension\":1,\"plot\":{\"id\":\"25065f82-2e86-4d43-9bbf-350dabcd8c2b\",\"subtype\":\"Figure\",\"type\":\"Plot\"},\"ticker\":{\"id\":\"3faa111d-eb32-4518-9c6a-503c63f7e8bc\",\"type\":\"BasicTicker\"}},\"id\":\"46d5d28f-29bc-44d9-888d-dc1d00996f54\",\"type\":\"Grid\"},{\"attributes\":{},\"id\":\"f05892b5-8095-40e6-8ca7-7982c2ea4224\",\"type\":\"PanTool\"},{\"attributes\":{\"callback\":null,\"end\":0.16402897317999998,\"start\":-0.024431651179999996},\"id\":\"e3c38453-51fd-4185-82bc-bb4835eefdc9\",\"type\":\"Range1d\"},{\"attributes\":{},\"id\":\"72bfb7d7-76ec-4fc1-8b1c-6846b7fe37e9\",\"type\":\"WheelZoomTool\"},{\"attributes\":{\"line_alpha\":0.1,\"line_color\":\"#1f77b4\",\"line_dash\":[6],\"line_width\":5,\"x\":{\"field\":\"x\"},\"y\":{\"field\":\"y\"}},\"id\":\"96844df2-b24f-429c-9022-de062f4e3bb1\",\"type\":\"Line\"},{\"attributes\":{},\"id\":\"a29914cf-779e-4426-8ace-b4c5add7c1b7\",\"type\":\"SaveTool\"},{\"attributes\":{\"overlay\":{\"id\":\"b2d36842-2e5a-448d-8c3c-9647a4493eb9\",\"type\":\"BoxAnnotation\"}},\"id\":\"64a250c7-09c4-40d5-80f2-694a172be2ab\",\"type\":\"BoxZoomTool\"},{\"attributes\":{},\"id\":\"3faa111d-eb32-4518-9c6a-503c63f7e8bc\",\"type\":\"BasicTicker\"},{\"attributes\":{},\"id\":\"2ca01d7e-e9ff-4693-acd9-3a539bf03128\",\"type\":\"ResetTool\"},{\"attributes\":{\"bottom_units\":\"screen\",\"fill_alpha\":{\"value\":0.5},\"fill_color\":{\"value\":\"lightgrey\"},\"left_units\":\"screen\",\"level\":\"overlay\",\"line_alpha\":{\"value\":1.0},\"line_color\":{\"value\":\"black\"},\"line_dash\":[4,4],\"line_width\":{\"value\":2},\"plot\":null,\"render_mode\":\"css\",\"right_units\":\"screen\",\"top_units\":\"screen\"},\"id\":\"b2d36842-2e5a-448d-8c3c-9647a4493eb9\",\"type\":\"BoxAnnotation\"},{\"attributes\":{\"line_alpha\":0.1,\"line_color\":\"#1f77b4\",\"line_width\":3,\"x\":{\"field\":\"x\"},\"y\":{\"field\":\"y\"}},\"id\":\"edf44e5d-850d-479f-82fc-ea20dab8afad\",\"type\":\"Line\"},{\"attributes\":{\"callback\":null,\"column_names\":[\"x\",\"y\"],\"data\":{\"x\":{\"__ndarray__\":\"AFv7jiPO2D//gUlcjc3YP0pWsFPNqNk/UNsrmJ1q2j9CP5XLLQrbP/MUQbUkdNs/+xpR87ic2z/LOB0zFm7bP2KdKt8z0to/mEOcmD+w2T8apAE4ze3XP/XQBKtmbdU/ktXnSR0N0j+ON+CQmc3LP+uJMkTjw8g/0ac8V+dazj8adFuFQdfSPxfLPtneeNU/kdM6HvGz1z90zQWqVpHaP0Y/noY9p98/+0u9NGbu4z8wNFMxAPrjPyQHsr9oxuA/syAYMBZA3D9Kx8XmHcbWP1L1ZUiZfdI/1RbHFrxHzj8+wKRChp/IP4bRg+3tt8M/DWWP7Qjpvj8mHJuZcJq3Px7TsmzokbE/dKS5acH4qT/X8l1ZiF+aP20MidUJ6m+/Aa5Kc0Igl7+vyAjYqRqUvxdkm7lfvGm/yYx0nYbjfj/RWCa8N5iRP7ZFGI0c7Jo/MfFy0cPioT+TnFhPyROmP11VD/uxB6o/wfJNvsy8rT9qw2vbU5mwPx7NvhbnNLI/m4ezJSKxsz8Wb4rlmw+1P7WZY6mQU7Y/tFNpR05/tz8ZkC805pS4P1PEwVyNl7k/OAysBAeLuj9Msw6BAnO7P9GqXMkKVbw/EOO55444vT8p+UP5oyS+P3hNQPrDIr8/1++R5vITwD/wUfuEHnfAP+7YnSjoesA/UYxFNgQFwD9dPxYFbpu+P++0kNuKWL0/vI7+uHm6vD9Z5VuCANe8P9Vnvc48b70/PGtUM61Fvj8IBu8vq0W/P5Q/rdzqPcA/QEQwLzwGwT8tFOENBirCP8sMwKuKlcQ/\",\"dtype\":\"float64\",\"shape\":[75]},\"y\":{\"__ndarray__\":\"GhExyth1ND/Sv8nbtpRIP2vylNV0PVE/aTum7souWD/At0SJ8fVgPw3Iuahxymc/MSNhhJWvcD/bTfBN02d3P2zb5nxnaoA/CD5h5MAGhz8NmeH1TyaQP+zrCsc9p5Y/LbKd76fGnz/bLW5ISEmmPww9YvTcQq8/JV2OstnstT8Er5Y7M8G+P0c+r3jqkcU/5h99k6ZBzj88bCIzFzjVP4enV8oyxN0//yH99nXg5D8qOpLLf0jtP5kqGJXUifQ/c9cS8kHP/D+/DpwzojQEQIEmwoanVwxA4lgXt9HgE0BSSZ2AJuIbQAMJih9jjiNA5q4l5INuK0AwTKYKRj0zQNv5fmq8/DpAaCJseHrtQkB/+zpwzoxKQM3MzMzMeFJAZmZmZmZqWEAAAAAAAFxeQM3MzMzMJmJAmpmZmZkfZUBmZmZmZhhoQDMzMzMzEWtAAAAAAAAKbkBmZmZmZoFwQM3MzMzM/XFAMzMzMzN6c0CamZmZmfZ0QAAAAAAAc3ZAZmZmZmbvd0DNzMzMzGt5QDMzMzMz6HpAmpmZmZlkfEAAAAAAAOF9QGZmZmZmXX9AZmZmZuZsgECamZmZGSuBQM3MzMxM6YFAAAAAAICngkAzMzMzs2WDQGZmZmbmI4RAmpmZmRnihEDNzMzMTKCFQAAAAACAXoZAMzMzM7Mch0BmZmZm5tqHQJqZmZkZmYhAzczMzExXiUAAAAAAgBWKQDMzMzOz04pAZmZmZuaRi0CamZmZGVCMQM3MzMxMDo1AAAAAAIDMjUAzMzMzs4qOQGZmZmbmSI9A\",\"dtype\":\"float64\",\"shape\":[75]}}},\"id\":\"0b77406a-f2a1-4f23-a401-7b967464a8c3\",\"type\":\"ColumnDataSource\"},{\"attributes\":{\"ticker\":null},\"id\":\"bc52c5c1-06f1-4a49-861c-7f36d1e9ae22\",\"type\":\"LogTickFormatter\"},{\"attributes\":{\"fill_alpha\":{\"value\":0.1},\"fill_color\":{\"value\":\"#1f77b4\"},\"line_alpha\":{\"value\":0.1},\"line_color\":{\"value\":\"#1f77b4\"},\"x\":{\"field\":\"x\"},\"y\":{\"field\":\"y\"}},\"id\":\"e5745ddc-5d3a-4850-bdbe-09bf0d8931a8\",\"type\":\"Square\"},{\"attributes\":{\"num_minor_ticks\":10},\"id\":\"9506fdfe-3f2c-4754-8395-40a82c830c85\",\"type\":\"LogTicker\"},{\"attributes\":{\"label\":{\"value\":\"CLIRAD `coolr_bands`\"},\"renderers\":[{\"id\":\"23a2b744-3d04-4fc8-b271-cbe115878acc\",\"type\":\"GlyphRenderer\"}]},\"id\":\"83ab8bfc-99a6-4213-88ff-924cb5063c3a\",\"type\":\"LegendItem\"},{\"attributes\":{\"fill_alpha\":{\"value\":0.7},\"fill_color\":{\"value\":\"#4daf4a\"},\"line_alpha\":{\"value\":0.7},\"line_color\":{\"value\":\"#4daf4a\"},\"x\":{\"field\":\"x\"},\"y\":{\"field\":\"y\"}},\"id\":\"15c406d2-68cd-4d08-9359-da2913c91acd\",\"type\":\"Circle\"},{\"attributes\":{\"line_alpha\":0.6,\"line_color\":\"#984ea3\",\"line_width\":3,\"x\":{\"field\":\"x\"},\"y\":{\"field\":\"y\"}},\"id\":\"9e3aa0a3-5279-4400-b14b-ff12d216671d\",\"type\":\"Line\"},{\"attributes\":{\"bottom_units\":\"screen\",\"fill_alpha\":{\"value\":0.5},\"fill_color\":{\"value\":\"lightgrey\"},\"left_units\":\"screen\",\"level\":\"overlay\",\"line_alpha\":{\"value\":1.0},\"line_color\":{\"value\":\"black\"},\"line_dash\":[4,4],\"line_width\":{\"value\":2},\"plot\":null,\"render_mode\":\"css\",\"right_units\":\"screen\",\"top_units\":\"screen\"},\"id\":\"0bf7ae04-8220-4212-a056-24e3d16e7686\",\"type\":\"BoxAnnotation\"},{\"attributes\":{\"callback\":null,\"end\":0.01,\"start\":1020},\"id\":\"ca1538dc-0873-462a-981f-2d44132274c1\",\"type\":\"Range1d\"},{\"attributes\":{\"data_source\":{\"id\":\"1499a836-77eb-4b29-9d55-643ba2a7edc9\",\"type\":\"ColumnDataSource\"},\"glyph\":{\"id\":\"1c761472-cf93-4362-a4a6-40a0670f1d84\",\"type\":\"Line\"},\"hover_glyph\":null,\"muted_glyph\":null,\"nonselection_glyph\":{\"id\":\"f3e3a8c9-6c85-4d8a-8dc1-d33c799b3898\",\"type\":\"Line\"},\"selection_glyph\":null,\"view\":{\"id\":\"3be788f6-ceff-4a10-9326-f985eff3293d\",\"type\":\"CDSView\"}},\"id\":\"1586e38f-a2af-4696-811a-02fa51e7fc6a\",\"type\":\"GlyphRenderer\"},{\"attributes\":{\"line_alpha\":0.1,\"line_color\":\"#1f77b4\",\"line_width\":1.5,\"x\":{\"field\":\"x\"},\"y\":{\"field\":\"y\"}},\"id\":\"b7df2062-1b1c-4e3e-9a04-6c0191f2ecf6\",\"type\":\"Line\"},{\"attributes\":{\"fill_alpha\":{\"value\":0.1},\"fill_color\":{\"value\":\"#1f77b4\"},\"line_alpha\":{\"value\":0.1},\"line_color\":{\"value\":\"#1f77b4\"},\"x\":{\"field\":\"x\"},\"y\":{\"field\":\"y\"}},\"id\":\"4d588e7b-29b7-432a-8b60-5807b3b69589\",\"type\":\"Circle\"},{\"attributes\":{\"below\":[{\"id\":\"789119bd-b691-4dc5-a88c-cc3b635eb719\",\"type\":\"LinearAxis\"}],\"left\":[{\"id\":\"9d306b68-49ed-4800-9077-9e9ae8543bbf\",\"type\":\"LinearAxis\"}],\"plot_height\":500,\"plot_width\":400,\"renderers\":[{\"id\":\"789119bd-b691-4dc5-a88c-cc3b635eb719\",\"type\":\"LinearAxis\"},{\"id\":\"88e24b31-be26-4853-8ddb-2283ccc7d689\",\"type\":\"Grid\"},{\"id\":\"9d306b68-49ed-4800-9077-9e9ae8543bbf\",\"type\":\"LinearAxis\"},{\"id\":\"46d5d28f-29bc-44d9-888d-dc1d00996f54\",\"type\":\"Grid\"},{\"id\":\"b2d36842-2e5a-448d-8c3c-9647a4493eb9\",\"type\":\"BoxAnnotation\"},{\"id\":\"1586e38f-a2af-4696-811a-02fa51e7fc6a\",\"type\":\"GlyphRenderer\"},{\"id\":\"50e06d1f-0de0-4cab-8167-baff5d91e86f\",\"type\":\"GlyphRenderer\"},{\"id\":\"f60385b2-c321-4bc3-bb73-0f6b6fe3b24b\",\"type\":\"GlyphRenderer\"},{\"id\":\"4c2e90b8-97d9-4011-b82d-02df80bd7047\",\"type\":\"GlyphRenderer\"},{\"id\":\"a20ded66-b019-4e8a-a75b-ac9e2bc20120\",\"type\":\"GlyphRenderer\"}],\"title\":{\"id\":\"ca72d20f-91e0-4ab2-9be3-e68ee4017353\",\"type\":\"Title\"},\"toolbar\":{\"id\":\"8024f5c8-5211-4b95-87d8-6e8d29a43c93\",\"type\":\"Toolbar\"},\"toolbar_location\":null,\"x_range\":{\"id\":\"e3c38453-51fd-4185-82bc-bb4835eefdc9\",\"type\":\"Range1d\"},\"x_scale\":{\"id\":\"5750f29e-eee1-457a-bf13-dac80b6b4c85\",\"type\":\"LinearScale\"},\"y_range\":{\"id\":\"ca1538dc-0873-462a-981f-2d44132274c1\",\"type\":\"Range1d\"},\"y_scale\":{\"id\":\"94aea072-af63-48f9-99b4-1abdd1d3c2a4\",\"type\":\"LinearScale\"}},\"id\":\"25065f82-2e86-4d43-9bbf-350dabcd8c2b\",\"subtype\":\"Figure\",\"type\":\"Plot\"},{\"attributes\":{\"data_source\":{\"id\":\"0b77406a-f2a1-4f23-a401-7b967464a8c3\",\"type\":\"ColumnDataSource\"},\"glyph\":{\"id\":\"79ea90bb-b6f1-48bb-a7da-e93b103f841e\",\"type\":\"Line\"},\"hover_glyph\":null,\"muted_glyph\":null,\"nonselection_glyph\":{\"id\":\"b7df2062-1b1c-4e3e-9a04-6c0191f2ecf6\",\"type\":\"Line\"},\"selection_glyph\":null,\"view\":{\"id\":\"49796361-c1f8-4192-838f-29c016d175f0\",\"type\":\"CDSView\"}},\"id\":\"f60385b2-c321-4bc3-bb73-0f6b6fe3b24b\",\"type\":\"GlyphRenderer\"},{\"attributes\":{\"callback\":null,\"column_names\":[\"x\",\"y\"],\"data\":{\"x\":{\"__ndarray__\":\"AFv7jiPO2D//gUlcjc3YP0pWsFPNqNk/UNsrmJ1q2j9CP5XLLQrbP/MUQbUkdNs/+xpR87ic2z/LOB0zFm7bP2KdKt8z0to/mEOcmD+w2T8apAE4ze3XP/XQBKtmbdU/ktXnSR0N0j+ON+CQmc3LP+uJMkTjw8g/0ac8V+dazj8adFuFQdfSPxfLPtneeNU/kdM6HvGz1z90zQWqVpHaP0Y/noY9p98/+0u9NGbu4z8wNFMxAPrjPyQHsr9oxuA/syAYMBZA3D9Kx8XmHcbWP1L1ZUiZfdI/1RbHFrxHzj8+wKRChp/IP4bRg+3tt8M/DWWP7Qjpvj8mHJuZcJq3Px7TsmzokbE/dKS5acH4qT/X8l1ZiF+aP20MidUJ6m+/Aa5Kc0Igl7+vyAjYqRqUvxdkm7lfvGm/yYx0nYbjfj/RWCa8N5iRP7ZFGI0c7Jo/MfFy0cPioT+TnFhPyROmP11VD/uxB6o/wfJNvsy8rT9qw2vbU5mwPx7NvhbnNLI/m4ezJSKxsz8Wb4rlmw+1P7WZY6mQU7Y/tFNpR05/tz8ZkC805pS4P1PEwVyNl7k/OAysBAeLuj9Msw6BAnO7P9GqXMkKVbw/EOO55444vT8p+UP5oyS+P3hNQPrDIr8/1++R5vITwD/wUfuEHnfAP+7YnSjoesA/UYxFNgQFwD9dPxYFbpu+P++0kNuKWL0/vI7+uHm6vD9Z5VuCANe8P9Vnvc48b70/PGtUM61Fvj8IBu8vq0W/P5Q/rdzqPcA/QEQwLzwGwT8tFOENBirCP8sMwKuKlcQ/\",\"dtype\":\"float64\",\"shape\":[75]},\"y\":{\"__ndarray__\":\"GhExyth1ND/Sv8nbtpRIP2vylNV0PVE/aTum7souWD/At0SJ8fVgPw3Iuahxymc/MSNhhJWvcD/bTfBN02d3P2zb5nxnaoA/CD5h5MAGhz8NmeH1TyaQP+zrCsc9p5Y/LbKd76fGnz/bLW5ISEmmPww9YvTcQq8/JV2OstnstT8Er5Y7M8G+P0c+r3jqkcU/5h99k6ZBzj88bCIzFzjVP4enV8oyxN0//yH99nXg5D8qOpLLf0jtP5kqGJXUifQ/c9cS8kHP/D+/DpwzojQEQIEmwoanVwxA4lgXt9HgE0BSSZ2AJuIbQAMJih9jjiNA5q4l5INuK0AwTKYKRj0zQNv5fmq8/DpAaCJseHrtQkB/+zpwzoxKQM3MzMzMeFJAZmZmZmZqWEAAAAAAAFxeQM3MzMzMJmJAmpmZmZkfZUBmZmZmZhhoQDMzMzMzEWtAAAAAAAAKbkBmZmZmZoFwQM3MzMzM/XFAMzMzMzN6c0CamZmZmfZ0QAAAAAAAc3ZAZmZmZmbvd0DNzMzMzGt5QDMzMzMz6HpAmpmZmZlkfEAAAAAAAOF9QGZmZmZmXX9AZmZmZuZsgECamZmZGSuBQM3MzMxM6YFAAAAAAICngkAzMzMzs2WDQGZmZmbmI4RAmpmZmRnihEDNzMzMTKCFQAAAAACAXoZAMzMzM7Mch0BmZmZm5tqHQJqZmZkZmYhAzczMzExXiUAAAAAAgBWKQDMzMzOz04pAZmZmZuaRi0CamZmZGVCMQM3MzMxMDo1AAAAAAIDMjUAzMzMzs4qOQGZmZmbmSI9A\",\"dtype\":\"float64\",\"shape\":[75]}}},\"id\":\"6e75226f-6d5e-4337-9bed-be65f6fa3ff7\",\"type\":\"ColumnDataSource\"},{\"attributes\":{\"callback\":null,\"column_names\":[\"x\",\"y\"],\"data\":{\"x\":{\"__ndarray__\":\"EJdWItS1zj9NQ55u6k3PPw69pLWSa9A/FNbfdao60T8KECZBjwPSP/VhpLSKwNI/LCD+q9hp0z9s+ZLXlPXTP+ppVYXlU9Q/tC5/z1lw1D/5QWUVmS3UP1/Dwv8MZdM/ET1CMLvl0T8d3+amMGPPPyjcRJD36M4/pRjetDKE0j+mb4inDb3VPx6nCVcX4tY/8SYicOJz1j/0rP/OUaLWP/WXBhO5f9o/Fz2eM/Wc4T+JkladUcriPwlK2TsGmOA/2BJuCStb3D99bUeCuhLXP9RmGE4Ed9M/qKjZh+Xk0D9+VngbxBzNPxlUPKpxocc/oWKDImn5wT80+UWNMrC5PzhuKc7unLE/0Dvo7kdFqT8l9FFLFbqcP1Sv+XNpayW/Ro+EIoIWlb+/1YFGxQySv97GhHHqqDG/51eZRwMahj8VDAoqekWVP2jCsnY0Pp4/KDoedWzroj8wIgPZ6CWmPwip7bwTB6k/MA5hDhiqqz/Lt9EPCTCuPzzKvrRzXbA/KGM6fOumsT+Rq/iJevayP7V3X/g1ULQ/s1YDgKKztT/ETAOIgBi3PwzHd1L0erg/p7Nys2jPuT+zZ+gCCx67P7EJvNVrYbw/JP5yd+eavT+0y1QU8c6+P7DDPTuFAcA/Ke70WjuXwD8Qihg8bQnBPzYb8YVFHME/Go+twsG5wD+k9LfKNBbAP2vwnRwuB78/uGRNE1N1vj+1KtN5nom+Pz6PF/PvCr8/3/Oqa0DGvz/+ddl1kFPAP34kX+iV28A/aO1T4RGNwT+kzEBE7pLCP7kHtoRbwsQ/\",\"dtype\":\"float64\",\"shape\":[75]},\"y\":{\"__ndarray__\":\"S/O/Q+51ND/Sv8nbtpRIP2vylNV0PVE/aTum7souWD/At0SJ8fVgPw3Iuahxymc/MSNhhJWvcD/bTfBN02d3P2zb5nxnaoA/CD5h5MAGhz8NmeH1TyaQP+zrCsc9p5Y/LbKd76fGnz/bLW5ISEmmPww9YvTcQq8/JV2OstnstT8Er5Y7M8G+P0c+r3jqkcU/5h99k6ZBzj88bCIzFzjVP4enV8oyxN0//yH99nXg5D8qOpLLf0jtP5kqGJXUifQ/c9cS8kHP/D+/DpwzojQEQIEmwoanVwxA4lgXt9HgE0BSSZ2AJuIbQAMJih9jjiNA5q4l5INuK0AwTKYKRj0zQNv5fmq8/DpAaCJseHrtQkB/+zpwzoxKQM3MzMzMeFJAZmZmZmZqWEAAAAAAAFxeQM3MzMzMJmJAmpmZmZkfZUBmZmZmZhhoQDMzMzMzEWtAAAAAAAAKbkBmZmZmZoFwQM3MzMzM/XFAMzMzMzN6c0CamZmZmfZ0QAAAAAAAc3ZAZmZmZmbvd0DNzMzMzGt5QDMzMzMz6HpAmpmZmZlkfEAAAAAAAOF9QGZmZmZmXX9AZmZmZuZsgECamZmZGSuBQM3MzMxM6YFAAAAAAICngkAzMzMzs2WDQGZmZmbmI4RAmpmZmRnihEDNzMzMTKCFQAAAAACAXoZAMzMzM7Mch0BmZmZm5tqHQJqZmZkZmYhAzczMzExXiUAAAAAAgBWKQDMzMzOz04pAZmZmZuaRi0CamZmZGVCMQM3MzMxMDo1AAAAAAIDMjUAzMzMzs4qOQGZmZmbmSI9A\",\"dtype\":\"float64\",\"shape\":[75]}}},\"id\":\"dcb8eb61-299a-44ba-8bb8-573165bc7aea\",\"type\":\"ColumnDataSource\"},{\"attributes\":{\"data_source\":{\"id\":\"6e75226f-6d5e-4337-9bed-be65f6fa3ff7\",\"type\":\"ColumnDataSource\"},\"glyph\":{\"id\":\"15c406d2-68cd-4d08-9359-da2913c91acd\",\"type\":\"Circle\"},\"hover_glyph\":null,\"muted_glyph\":null,\"nonselection_glyph\":{\"id\":\"4d588e7b-29b7-432a-8b60-5807b3b69589\",\"type\":\"Circle\"},\"selection_glyph\":null,\"view\":{\"id\":\"1fdb174c-b173-4acd-99f9-0b038a5dd80d\",\"type\":\"CDSView\"}},\"id\":\"50e06d1f-0de0-4cab-8167-baff5d91e86f\",\"type\":\"GlyphRenderer\"},{\"attributes\":{\"label\":{\"value\":\"CRD\"},\"renderers\":[{\"id\":\"8fe221de-18d8-42e1-872c-b70854806923\",\"type\":\"GlyphRenderer\"},{\"id\":\"9f8eefe8-18ad-465b-a235-ba91d87d896b\",\"type\":\"GlyphRenderer\"}]},\"id\":\"48851917-a802-4b19-9864-51483a6da5cc\",\"type\":\"LegendItem\"},{\"attributes\":{\"callback\":null,\"end\":0.01,\"start\":1020},\"id\":\"5a30d8e9-7a39-4982-8fc6-0f5d45c4c534\",\"type\":\"Range1d\"},{\"attributes\":{\"plot\":null,\"text\":\"Linear pressure scale\"},\"id\":\"ca72d20f-91e0-4ab2-9be3-e68ee4017353\",\"type\":\"Title\"},{\"attributes\":{\"active_drag\":\"auto\",\"active_inspect\":\"auto\",\"active_scroll\":\"auto\",\"active_tap\":\"auto\",\"tools\":[{\"id\":\"f05892b5-8095-40e6-8ca7-7982c2ea4224\",\"type\":\"PanTool\"},{\"id\":\"72bfb7d7-76ec-4fc1-8b1c-6846b7fe37e9\",\"type\":\"WheelZoomTool\"},{\"id\":\"64a250c7-09c4-40d5-80f2-694a172be2ab\",\"type\":\"BoxZoomTool\"},{\"id\":\"a29914cf-779e-4426-8ace-b4c5add7c1b7\",\"type\":\"SaveTool\"},{\"id\":\"99717b83-2ef7-4349-b777-2cab0c43d497\",\"type\":\"ResetTool\"},{\"id\":\"aef1ee33-7f18-4986-b2e4-93896ef2273f\",\"type\":\"HelpTool\"}]},\"id\":\"8024f5c8-5211-4b95-87d8-6e8d29a43c93\",\"type\":\"Toolbar\"},{\"attributes\":{},\"id\":\"c1c2a8a6-0b6a-4a35-88dd-fe17a5dd901c\",\"type\":\"LogScale\"}],\"root_ids\":[\"5ed8e68a-875b-47c7-b0e3-3025a5db251b\"]},\"title\":\"Bokeh Application\",\"version\":\"0.12.14\"}};\n",
       "  var render_items = [{\"docid\":\"35a74e95-e75d-43e3-9031-bbcbae99eda9\",\"elementid\":\"40fd5072-f3ac-4df9-a6b7-32928425d47d\",\"modelid\":\"5ed8e68a-875b-47c7-b0e3-3025a5db251b\"}];\n",
       "  root.Bokeh.embed.embed_items_notebook(docs_json, render_items);\n",
       "\n",
       "  }\n",
       "  if (root.Bokeh !== undefined) {\n",
       "    embed_document(root);\n",
       "  } else {\n",
       "    var attempts = 0;\n",
       "    var timer = setInterval(function(root) {\n",
       "      if (root.Bokeh !== undefined) {\n",
       "        embed_document(root);\n",
       "        clearInterval(timer);\n",
       "      }\n",
       "      attempts++;\n",
       "      if (attempts > 100) {\n",
       "        console.log(\"Bokeh: ERROR: Unable to run BokehJS code because BokehJS library is missing\")\n",
       "        clearInterval(timer);\n",
       "      }\n",
       "    }, 10, root)\n",
       "  }\n",
       "})(window);"
      ],
      "application/vnd.bokehjs_exec.v0+json": ""
     },
     "metadata": {
      "application/vnd.bokehjs_exec.v0+json": {
       "id": "5ed8e68a-875b-47c7-b0e3-3025a5db251b"
      }
     },
     "output_type": "display_data"
    },
    {
     "name": "stdout",
     "output_type": "stream",
     "text": [
      "FIGURE. Cooling rate profiles.\n"
     ]
    },
    {
     "data": {
      "text/html": [
       "<a id=\"Flux_Comparison\"></a>"
      ],
      "text/plain": [
       "<IPython.core.display.HTML object>"
      ]
     },
     "metadata": {},
     "output_type": "display_data"
    },
    {
     "data": {
      "text/markdown": [
       "# Flux Comparison"
      ],
      "text/plain": [
       "<IPython.core.display.Markdown object>"
      ]
     },
     "metadata": {},
     "output_type": "display_data"
    },
    {
     "data": {
      "text/html": [
       "<div>\n",
       "<style>\n",
       "    .dataframe thead tr:only-child th {\n",
       "        text-align: right;\n",
       "    }\n",
       "\n",
       "    .dataframe thead th {\n",
       "        text-align: left;\n",
       "    }\n",
       "\n",
       "    .dataframe tbody tr th {\n",
       "        vertical-align: top;\n",
       "    }\n",
       "</style>\n",
       "<table border=\"1\" class=\"dataframe\">\n",
       "  <thead>\n",
       "    <tr style=\"text-align: right;\">\n",
       "      <th></th>\n",
       "      <th></th>\n",
       "      <th>flug</th>\n",
       "      <th>fldg</th>\n",
       "      <th>fnetg</th>\n",
       "    </tr>\n",
       "    <tr>\n",
       "      <th>pressure</th>\n",
       "      <th>level</th>\n",
       "      <th></th>\n",
       "      <th></th>\n",
       "      <th></th>\n",
       "    </tr>\n",
       "  </thead>\n",
       "  <tbody>\n",
       "    <tr>\n",
       "      <th>0.0000</th>\n",
       "      <th>1</th>\n",
       "      <td>-30.890413</td>\n",
       "      <td>0.000000</td>\n",
       "      <td>-30.890413</td>\n",
       "    </tr>\n",
       "    <tr>\n",
       "      <th>1.0685</th>\n",
       "      <th>24</th>\n",
       "      <td>-30.893925</td>\n",
       "      <td>0.064112</td>\n",
       "      <td>-30.829813</td>\n",
       "    </tr>\n",
       "    <tr>\n",
       "      <th>1013.0000</th>\n",
       "      <th>76</th>\n",
       "      <td>-38.491734</td>\n",
       "      <td>17.979135</td>\n",
       "      <td>-20.512599</td>\n",
       "    </tr>\n",
       "  </tbody>\n",
       "</table>\n",
       "</div>"
      ],
      "text/plain": [
       "                      flug       fldg      fnetg\n",
       "pressure  level                                 \n",
       "0.0000    1     -30.890413   0.000000 -30.890413\n",
       "1.0685    24    -30.893925   0.064112 -30.829813\n",
       "1013.0000 76    -38.491734  17.979135 -20.512599"
      ]
     },
     "metadata": {},
     "output_type": "display_data"
    },
    {
     "name": "stdout",
     "output_type": "stream",
     "text": [
      "Table. Fluxes. WGT igg=10 wgt_flux=1\n"
     ]
    },
    {
     "data": {
      "text/html": [
       "<div>\n",
       "<style>\n",
       "    .dataframe thead tr:only-child th {\n",
       "        text-align: right;\n",
       "    }\n",
       "\n",
       "    .dataframe thead th {\n",
       "        text-align: left;\n",
       "    }\n",
       "\n",
       "    .dataframe tbody tr th {\n",
       "        vertical-align: top;\n",
       "    }\n",
       "</style>\n",
       "<table border=\"1\" class=\"dataframe\">\n",
       "  <thead>\n",
       "    <tr style=\"text-align: right;\">\n",
       "      <th></th>\n",
       "      <th></th>\n",
       "      <th>flug</th>\n",
       "      <th>fldg</th>\n",
       "      <th>fnetg</th>\n",
       "    </tr>\n",
       "    <tr>\n",
       "      <th>pressure</th>\n",
       "      <th>level</th>\n",
       "      <th></th>\n",
       "      <th></th>\n",
       "      <th></th>\n",
       "    </tr>\n",
       "  </thead>\n",
       "  <tbody>\n",
       "    <tr>\n",
       "      <th>0.0000</th>\n",
       "      <th>1</th>\n",
       "      <td>-30.870337</td>\n",
       "      <td>0.000000</td>\n",
       "      <td>-30.870337</td>\n",
       "    </tr>\n",
       "    <tr>\n",
       "      <th>1.0685</th>\n",
       "      <th>24</th>\n",
       "      <td>-30.875457</td>\n",
       "      <td>0.068836</td>\n",
       "      <td>-30.806620</td>\n",
       "    </tr>\n",
       "    <tr>\n",
       "      <th>1013.0000</th>\n",
       "      <th>76</th>\n",
       "      <td>-38.491734</td>\n",
       "      <td>17.949284</td>\n",
       "      <td>-20.542450</td>\n",
       "    </tr>\n",
       "  </tbody>\n",
       "</table>\n",
       "</div>"
      ],
      "text/plain": [
       "                      flug       fldg      fnetg\n",
       "pressure  level                                 \n",
       "0.0000    1     -30.870337   0.000000 -30.870337\n",
       "1.0685    24    -30.875457   0.068836 -30.806620\n",
       "1013.0000 76    -38.491734  17.949284 -20.542450"
      ]
     },
     "metadata": {},
     "output_type": "display_data"
    },
    {
     "name": "stdout",
     "output_type": "stream",
     "text": [
      "Table. Fluxes. CRD\n"
     ]
    },
    {
     "data": {
      "text/html": [
       "<div>\n",
       "<style>\n",
       "    .dataframe thead tr:only-child th {\n",
       "        text-align: right;\n",
       "    }\n",
       "\n",
       "    .dataframe thead th {\n",
       "        text-align: left;\n",
       "    }\n",
       "\n",
       "    .dataframe tbody tr th {\n",
       "        vertical-align: top;\n",
       "    }\n",
       "</style>\n",
       "<table border=\"1\" class=\"dataframe\">\n",
       "  <thead>\n",
       "    <tr style=\"text-align: right;\">\n",
       "      <th></th>\n",
       "      <th></th>\n",
       "      <th>flug</th>\n",
       "      <th>fldg</th>\n",
       "      <th>fnetg</th>\n",
       "    </tr>\n",
       "    <tr>\n",
       "      <th>pressure</th>\n",
       "      <th>level</th>\n",
       "      <th></th>\n",
       "      <th></th>\n",
       "      <th></th>\n",
       "    </tr>\n",
       "  </thead>\n",
       "  <tbody>\n",
       "    <tr>\n",
       "      <th>1.000000e-08</th>\n",
       "      <th>1</th>\n",
       "      <td>-30.990154</td>\n",
       "      <td>0.000002</td>\n",
       "      <td>-30.990152</td>\n",
       "    </tr>\n",
       "    <tr>\n",
       "      <th>1.068500e+00</th>\n",
       "      <th>24</th>\n",
       "      <td>-30.993285</td>\n",
       "      <td>0.061617</td>\n",
       "      <td>-30.931668</td>\n",
       "    </tr>\n",
       "    <tr>\n",
       "      <th>1.013000e+03</th>\n",
       "      <th>76</th>\n",
       "      <td>-38.491730</td>\n",
       "      <td>17.993363</td>\n",
       "      <td>-20.498367</td>\n",
       "    </tr>\n",
       "  </tbody>\n",
       "</table>\n",
       "</div>"
      ],
      "text/plain": [
       "                         flug       fldg      fnetg\n",
       "pressure     level                                 \n",
       "1.000000e-08 1     -30.990154   0.000002 -30.990152\n",
       "1.068500e+00 24    -30.993285   0.061617 -30.931668\n",
       "1.013000e+03 76    -38.491730  17.993363 -20.498367"
      ]
     },
     "metadata": {},
     "output_type": "display_data"
    },
    {
     "name": "stdout",
     "output_type": "stream",
     "text": [
      "Table. Fluxes. CLIRAD\n"
     ]
    },
    {
     "data": {
      "text/html": [
       "<div>\n",
       "<style>\n",
       "    .dataframe thead tr:only-child th {\n",
       "        text-align: right;\n",
       "    }\n",
       "\n",
       "    .dataframe thead th {\n",
       "        text-align: left;\n",
       "    }\n",
       "\n",
       "    .dataframe tbody tr th {\n",
       "        vertical-align: top;\n",
       "    }\n",
       "</style>\n",
       "<table border=\"1\" class=\"dataframe\">\n",
       "  <thead>\n",
       "    <tr style=\"text-align: right;\">\n",
       "      <th></th>\n",
       "      <th></th>\n",
       "      <th>flug</th>\n",
       "      <th>fldg</th>\n",
       "      <th>fnetg</th>\n",
       "    </tr>\n",
       "    <tr>\n",
       "      <th>pressure</th>\n",
       "      <th>level</th>\n",
       "      <th></th>\n",
       "      <th></th>\n",
       "      <th></th>\n",
       "    </tr>\n",
       "  </thead>\n",
       "  <tbody>\n",
       "    <tr>\n",
       "      <th>0.0000</th>\n",
       "      <th>1</th>\n",
       "      <td>2.007593e-02</td>\n",
       "      <td>0.000000</td>\n",
       "      <td>0.020076</td>\n",
       "    </tr>\n",
       "    <tr>\n",
       "      <th>1.0685</th>\n",
       "      <th>24</th>\n",
       "      <td>1.846751e-02</td>\n",
       "      <td>0.004724</td>\n",
       "      <td>0.023193</td>\n",
       "    </tr>\n",
       "    <tr>\n",
       "      <th>1013.0000</th>\n",
       "      <th>76</th>\n",
       "      <td>1.040000e-07</td>\n",
       "      <td>-0.029851</td>\n",
       "      <td>-0.029851</td>\n",
       "    </tr>\n",
       "  </tbody>\n",
       "</table>\n",
       "</div>"
      ],
      "text/plain": [
       "                         flug      fldg     fnetg\n",
       "pressure  level                                  \n",
       "0.0000    1      2.007593e-02  0.000000  0.020076\n",
       "1.0685    24     1.846751e-02  0.004724  0.023193\n",
       "1013.0000 76     1.040000e-07 -0.029851 -0.029851"
      ]
     },
     "metadata": {},
     "output_type": "display_data"
    },
    {
     "name": "stdout",
     "output_type": "stream",
     "text": [
      "Table. Fluxes. (CRD) - (WGT igg=10 wgt_flux=1)\n"
     ]
    },
    {
     "data": {
      "text/html": [
       "<div>\n",
       "<style>\n",
       "    .dataframe thead tr:only-child th {\n",
       "        text-align: right;\n",
       "    }\n",
       "\n",
       "    .dataframe thead th {\n",
       "        text-align: left;\n",
       "    }\n",
       "\n",
       "    .dataframe tbody tr th {\n",
       "        vertical-align: top;\n",
       "    }\n",
       "</style>\n",
       "<table border=\"1\" class=\"dataframe\">\n",
       "  <thead>\n",
       "    <tr style=\"text-align: right;\">\n",
       "      <th></th>\n",
       "      <th></th>\n",
       "      <th>flug</th>\n",
       "      <th>fldg</th>\n",
       "      <th>fnetg</th>\n",
       "    </tr>\n",
       "    <tr>\n",
       "      <th>pressure</th>\n",
       "      <th>level</th>\n",
       "      <th></th>\n",
       "      <th></th>\n",
       "      <th></th>\n",
       "    </tr>\n",
       "  </thead>\n",
       "  <tbody>\n",
       "    <tr>\n",
       "      <th>0.0000</th>\n",
       "      <th>1</th>\n",
       "      <td>-0.099741</td>\n",
       "      <td>0.000002</td>\n",
       "      <td>-0.099739</td>\n",
       "    </tr>\n",
       "    <tr>\n",
       "      <th>1.0685</th>\n",
       "      <th>24</th>\n",
       "      <td>-0.099360</td>\n",
       "      <td>-0.002495</td>\n",
       "      <td>-0.101855</td>\n",
       "    </tr>\n",
       "    <tr>\n",
       "      <th>1013.0000</th>\n",
       "      <th>76</th>\n",
       "      <td>0.000004</td>\n",
       "      <td>0.014228</td>\n",
       "      <td>0.014232</td>\n",
       "    </tr>\n",
       "  </tbody>\n",
       "</table>\n",
       "</div>"
      ],
      "text/plain": [
       "                     flug      fldg     fnetg\n",
       "pressure  level                              \n",
       "0.0000    1     -0.099741  0.000002 -0.099739\n",
       "1.0685    24    -0.099360 -0.002495 -0.101855\n",
       "1013.0000 76     0.000004  0.014228  0.014232"
      ]
     },
     "metadata": {},
     "output_type": "display_data"
    },
    {
     "name": "stdout",
     "output_type": "stream",
     "text": [
      "Table. Fluxes. (CLIRAD) - (WGT igg=10 wgt_flux=1)\n"
     ]
    },
    {
     "data": {
      "text/html": [
       "<a id=\"Best-fit_Parameters\"></a>"
      ],
      "text/plain": [
       "<IPython.core.display.HTML object>"
      ]
     },
     "metadata": {},
     "output_type": "display_data"
    },
    {
     "data": {
      "text/markdown": [
       "# Best-fit Parameters"
      ],
      "text/plain": [
       "<IPython.core.display.Markdown object>"
      ]
     },
     "metadata": {},
     "output_type": "display_data"
    },
    {
     "name": "stdout",
     "output_type": "stream",
     "text": [
      "Best-fit values for each (gas, band)\n",
      "------------------------------------\n",
      "o co2 band3a\n",
      "  atmpro = mls\n",
      "  band = 3a\n",
      "  commitnumber = a06b618\n",
      "  conc = 0.0004\n",
      "  dv = 0.001\n",
      "  klin = 6.375563e-24\n",
      "  molecule = co2\n",
      "  ng_adju = [0, 0, 0]\n",
      "  ng_refs = [3, 2, 4]\n",
      "  nv = 1000\n",
      "  option_compute_btable = 0\n",
      "  option_compute_ktable = 1\n",
      "  option_wgt_flux = 1\n",
      "  option_wgt_k = 1\n",
      "  ref_pts = [(1, 250), (10, 250), (500, 250)]\n",
      "  tsfc = 294\n",
      "  vmax = 620\n",
      "  vmin = 540\n",
      "  w_diffuse = [(1.6, 1.6, 1.7), (1.75, 1.75), (1.55, 1.55, 1.6, 1.85)]\n",
      "  wgt = [(0.7, 0.3, 0.7), (0.7, 0.6), (0.4, 0.5, 0.8, 0.95)]\n"
     ]
    }
   ],
   "source": [
    "script()"
   ]
  },
  {
   "cell_type": "code",
   "execution_count": 13,
   "metadata": {
    "collapsed": true
   },
   "outputs": [
    {
     "data": {
      "text/html": [
       "<script>\n",
       "code_show=true; \n",
       "function code_toggle() {\n",
       " if (code_show){\n",
       " $('div.input').hide();\n",
       " } else {\n",
       " $('div.input').show();\n",
       " }\n",
       " code_show = !code_show\n",
       "} \n",
       "$( document ).ready(code_toggle);\n",
       "</script>\n",
       "<form action=\"javascript:code_toggle()\"><input type=\"submit\" value=\"Click here to toggle on/off the raw code.\"></form>"
      ],
      "text/plain": [
       "<IPython.core.display.HTML object>"
      ]
     },
     "execution_count": 13,
     "metadata": {},
     "output_type": "execute_result"
    }
   ],
   "source": [
    "display.HTML('''<script>\n",
    "code_show=true; \n",
    "function code_toggle() {\n",
    " if (code_show){\n",
    " $('div.input').hide();\n",
    " } else {\n",
    " $('div.input').show();\n",
    " }\n",
    " code_show = !code_show\n",
    "} \n",
    "$( document ).ready(code_toggle);\n",
    "</script>\n",
    "<form action=\"javascript:code_toggle()\"><input type=\"submit\" value=\"Click here to toggle on/off the raw code.\"></form>''')"
   ]
  }
 ],
 "metadata": {
  "kernelspec": {
   "display_name": "Python 3",
   "language": "python",
   "name": "python3"
  },
  "language_info": {
   "codemirror_mode": {
    "name": "ipython",
    "version": 3
   },
   "file_extension": ".py",
   "mimetype": "text/x-python",
   "name": "python",
   "nbconvert_exporter": "python",
   "pygments_lexer": "ipython3",
   "version": "3.6.1"
  }
 },
 "nbformat": 4,
 "nbformat_minor": 2
}
