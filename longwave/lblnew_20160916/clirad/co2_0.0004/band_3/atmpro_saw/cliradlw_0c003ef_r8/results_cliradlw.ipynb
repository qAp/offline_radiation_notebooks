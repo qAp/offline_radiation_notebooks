{
 "cells": [
  {
   "cell_type": "code",
   "execution_count": 1,
   "metadata": {
    "collapsed": true
   },
   "outputs": [],
   "source": [
    "%matplotlib inline\n",
    "import os\n",
    "import re\n",
    "import io\n",
    "import itertools\n",
    "import pprint\n",
    "\n",
    "from bokeh.io import output_notebook, show\n",
    "from bokeh.layouts import gridplot\n",
    "from bokeh.plotting import figure\n",
    "from bokeh.models import Range1d, Legend\n",
    "from bokeh.palettes import all_palettes\n",
    "\n",
    "import matplotlib\n",
    "import matplotlib.pyplot as plt\n",
    "import numpy as np\n",
    "import pandas as pd\n",
    "import xarray as xr\n",
    "\n",
    "import climatools.lblnew.bestfit_params as bestfits\n",
    "from climatools.lblnew import setup_bestfit, setup_overlap\n",
    "import climatools.lblnew.pipeline as pipe_lblnew\n",
    "import climatools.cliradlw.setup as setup_cliradlw\n",
    "import climatools.cliradlw.pipeline as pipe_cliradlw\n",
    "\n",
    "import climatools.html.html as climahtml\n",
    "from climatools.lblnew.dataio import *\n",
    "from climatools.plot.plot import *\n",
    "\n",
    "\n",
    "import IPython.display as display"
   ]
  },
  {
   "cell_type": "code",
   "execution_count": 2,
   "metadata": {
    "collapsed": true
   },
   "outputs": [],
   "source": [
    "%run param.py"
   ]
  },
  {
   "cell_type": "code",
   "execution_count": 3,
   "metadata": {
    "collapsed": true
   },
   "outputs": [
    {
     "name": "stdout",
     "output_type": "stream",
     "text": [
      "The history saving thread hit an unexpected error (OperationalError('database is locked',)).History will not be written to the database.\n"
     ]
    }
   ],
   "source": [
    "def load_output_file(path_csv):\n",
    "    '''\n",
    "    Load lblnew output .csv file to xarray.Dataset\n",
    "    \n",
    "    Parameters\n",
    "    ----------\n",
    "    path_csv: str\n",
    "              Path to the .csv file to be loaded.\n",
    "    ds: xarray.Dataset\n",
    "        Data in the input file in the form of an xarray.Dataset.\n",
    "    '''\n",
    "    toindex = ['band', 'pressure', 'igg', 'g']    \n",
    "    df = pd.read_csv(path_csv, sep=r'\\s+')\n",
    "    df = df.set_index([i for i in toindex if i in df.columns])\n",
    "    df = df.rename(columns={'sfu': 'flug',\n",
    "                            'sfd': 'fldg',\n",
    "                            'fnet': 'fnetg',\n",
    "                            'coolr': 'coolrg'})\n",
    "    ds = xr.Dataset.from_dataframe(df)\n",
    "\n",
    "    for l in ('level', 'layer'):\n",
    "        if l in ds.data_vars:\n",
    "            if len(ds[l].dims) > 1:\n",
    "                surface = {d: 0 for d in ds.dims if d != 'pressure'}\n",
    "                coord_level = ds[l][surface]\n",
    "                ds.coords[l] = ('pressure', coord_level)\n",
    "            else:\n",
    "                ds.coords[l] = ('pressure', ds[l])\n",
    "    \n",
    "    return ds"
   ]
  },
  {
   "cell_type": "code",
   "execution_count": 4,
   "metadata": {
    "collapsed": true
   },
   "outputs": [],
   "source": [
    "def lblnew_setup(param=None):\n",
    "    if 'ng_refs' in param:\n",
    "        return {'setup': setup_bestfit,\n",
    "                'fname_flux_crd': 'output_flux.dat',\n",
    "                'fname_cool_crd': 'output_coolr.dat',\n",
    "                'fname_flux_wgt': 'output_wfluxg.dat',\n",
    "                'fname_cool_wgt': 'output_wcoolrg.dat'}\n",
    "    else:\n",
    "        return {'setup': setup_overlap,\n",
    "                'fname_flux_crd': 'output_flux.dat',\n",
    "                'fname_cool_crd': 'output_coolr.dat',\n",
    "                'fname_flux_wgt': 'output_wflux.dat',\n",
    "                'fname_cool_wgt': 'output_wcoolr.dat'}\n",
    "\n",
    "    \n",
    "def load_lblnew_data(param):\n",
    "    \n",
    "    fname_dsname = [('fname_flux_crd', 'ds_flux_crd'),\n",
    "                    ('fname_cool_crd', 'ds_cool_crd'),\n",
    "                    ('fname_flux_wgt', 'ds_flux_wgt'),\n",
    "                    ('fname_cool_wgt', 'ds_cool_wgt')]\n",
    "    \n",
    "    d = lblnew_setup(param)\n",
    "    dir_fortran = pipe_lblnew.get_dir_case(param, setup=d['setup'])\n",
    "    \n",
    "    data_dict = {}\n",
    "    for fname, dsname in fname_dsname:\n",
    "        fpath = os.path.join(dir_fortran, d[fname])\n",
    "        data_dict[dsname] = load_output_file(fpath)\n",
    "    return data_dict\n",
    "    \n",
    "\n",
    "    \n",
    "    "
   ]
  },
  {
   "cell_type": "code",
   "execution_count": 5,
   "metadata": {
    "collapsed": true
   },
   "outputs": [],
   "source": [
    "d = load_lblnew_data(PARAM_LBLNEW)\n",
    "\n",
    "DS_FLUX_CRD = d['ds_flux_crd']\n",
    "DS_COOL_CRD = d['ds_cool_crd']\n",
    "DS_FLUX_WGT = d['ds_flux_wgt']\n",
    "DS_COOL_WGT = d['ds_cool_wgt']"
   ]
  },
  {
   "cell_type": "code",
   "execution_count": 6,
   "metadata": {
    "collapsed": true
   },
   "outputs": [],
   "source": [
    "DIR_FORTRAN = pipe_cliradlw.get_fortran_dir(PARAM, \n",
    "                                            setup=setup_cliradlw)\n",
    "\n",
    "PATH_FLUX = os.path.join(DIR_FORTRAN, 'output_flux.dat')\n",
    "PATH_COOL = os.path.join(DIR_FORTRAN, 'output_coolr.dat')\n",
    "\n",
    "DS_FLUX = load_output_file(PATH_FLUX)\n",
    "DS_COOL = load_output_file(PATH_COOL)"
   ]
  },
  {
   "cell_type": "code",
   "execution_count": 7,
   "metadata": {
    "collapsed": true
   },
   "outputs": [
    {
     "data": {
      "text/html": [
       "\n",
       "    <div class=\"bk-root\">\n",
       "        <a href=\"https://bokeh.pydata.org\" target=\"_blank\" class=\"bk-logo bk-logo-small bk-logo-notebook\"></a>\n",
       "        <span id=\"b7d24544-de86-4a23-b0d6-ebe1b3c0f019\">Loading BokehJS ...</span>\n",
       "    </div>"
      ]
     },
     "metadata": {},
     "output_type": "display_data"
    },
    {
     "data": {
      "application/javascript": [
       "\n",
       "(function(root) {\n",
       "  function now() {\n",
       "    return new Date();\n",
       "  }\n",
       "\n",
       "  var force = true;\n",
       "\n",
       "  if (typeof (root._bokeh_onload_callbacks) === \"undefined\" || force === true) {\n",
       "    root._bokeh_onload_callbacks = [];\n",
       "    root._bokeh_is_loading = undefined;\n",
       "  }\n",
       "\n",
       "  var JS_MIME_TYPE = 'application/javascript';\n",
       "  var HTML_MIME_TYPE = 'text/html';\n",
       "  var EXEC_MIME_TYPE = 'application/vnd.bokehjs_exec.v0+json';\n",
       "  var CLASS_NAME = 'output_bokeh rendered_html';\n",
       "\n",
       "  /**\n",
       "   * Render data to the DOM node\n",
       "   */\n",
       "  function render(props, node) {\n",
       "    var script = document.createElement(\"script\");\n",
       "    node.appendChild(script);\n",
       "  }\n",
       "\n",
       "  /**\n",
       "   * Handle when an output is cleared or removed\n",
       "   */\n",
       "  function handleClearOutput(event, handle) {\n",
       "    var cell = handle.cell;\n",
       "\n",
       "    var id = cell.output_area._bokeh_element_id;\n",
       "    var server_id = cell.output_area._bokeh_server_id;\n",
       "    // Clean up Bokeh references\n",
       "    if (id !== undefined) {\n",
       "      Bokeh.index[id].model.document.clear();\n",
       "      delete Bokeh.index[id];\n",
       "    }\n",
       "\n",
       "    if (server_id !== undefined) {\n",
       "      // Clean up Bokeh references\n",
       "      var cmd = \"from bokeh.io.state import curstate; print(curstate().uuid_to_server['\" + server_id + \"'].get_sessions()[0].document.roots[0]._id)\";\n",
       "      cell.notebook.kernel.execute(cmd, {\n",
       "        iopub: {\n",
       "          output: function(msg) {\n",
       "            var element_id = msg.content.text.trim();\n",
       "            Bokeh.index[element_id].model.document.clear();\n",
       "            delete Bokeh.index[element_id];\n",
       "          }\n",
       "        }\n",
       "      });\n",
       "      // Destroy server and session\n",
       "      var cmd = \"import bokeh.io.notebook as ion; ion.destroy_server('\" + server_id + \"')\";\n",
       "      cell.notebook.kernel.execute(cmd);\n",
       "    }\n",
       "  }\n",
       "\n",
       "  /**\n",
       "   * Handle when a new output is added\n",
       "   */\n",
       "  function handleAddOutput(event, handle) {\n",
       "    var output_area = handle.output_area;\n",
       "    var output = handle.output;\n",
       "\n",
       "    // limit handleAddOutput to display_data with EXEC_MIME_TYPE content only\n",
       "    if ((output.output_type != \"display_data\") || (!output.data.hasOwnProperty(EXEC_MIME_TYPE))) {\n",
       "      return\n",
       "    }\n",
       "\n",
       "    var toinsert = output_area.element.find(\".\" + CLASS_NAME.split(' ')[0]);\n",
       "\n",
       "    if (output.metadata[EXEC_MIME_TYPE][\"id\"] !== undefined) {\n",
       "      toinsert[0].firstChild.textContent = output.data[JS_MIME_TYPE];\n",
       "      // store reference to embed id on output_area\n",
       "      output_area._bokeh_element_id = output.metadata[EXEC_MIME_TYPE][\"id\"];\n",
       "    }\n",
       "    if (output.metadata[EXEC_MIME_TYPE][\"server_id\"] !== undefined) {\n",
       "      var bk_div = document.createElement(\"div\");\n",
       "      bk_div.innerHTML = output.data[HTML_MIME_TYPE];\n",
       "      var script_attrs = bk_div.children[0].attributes;\n",
       "      for (var i = 0; i < script_attrs.length; i++) {\n",
       "        toinsert[0].firstChild.setAttribute(script_attrs[i].name, script_attrs[i].value);\n",
       "      }\n",
       "      // store reference to server id on output_area\n",
       "      output_area._bokeh_server_id = output.metadata[EXEC_MIME_TYPE][\"server_id\"];\n",
       "    }\n",
       "  }\n",
       "\n",
       "  function register_renderer(events, OutputArea) {\n",
       "\n",
       "    function append_mime(data, metadata, element) {\n",
       "      // create a DOM node to render to\n",
       "      var toinsert = this.create_output_subarea(\n",
       "        metadata,\n",
       "        CLASS_NAME,\n",
       "        EXEC_MIME_TYPE\n",
       "      );\n",
       "      this.keyboard_manager.register_events(toinsert);\n",
       "      // Render to node\n",
       "      var props = {data: data, metadata: metadata[EXEC_MIME_TYPE]};\n",
       "      render(props, toinsert[0]);\n",
       "      element.append(toinsert);\n",
       "      return toinsert\n",
       "    }\n",
       "\n",
       "    /* Handle when an output is cleared or removed */\n",
       "    events.on('clear_output.CodeCell', handleClearOutput);\n",
       "    events.on('delete.Cell', handleClearOutput);\n",
       "\n",
       "    /* Handle when a new output is added */\n",
       "    events.on('output_added.OutputArea', handleAddOutput);\n",
       "\n",
       "    /**\n",
       "     * Register the mime type and append_mime function with output_area\n",
       "     */\n",
       "    OutputArea.prototype.register_mime_type(EXEC_MIME_TYPE, append_mime, {\n",
       "      /* Is output safe? */\n",
       "      safe: true,\n",
       "      /* Index of renderer in `output_area.display_order` */\n",
       "      index: 0\n",
       "    });\n",
       "  }\n",
       "\n",
       "  // register the mime type if in Jupyter Notebook environment and previously unregistered\n",
       "  if (root.Jupyter !== undefined) {\n",
       "    var events = require('base/js/events');\n",
       "    var OutputArea = require('notebook/js/outputarea').OutputArea;\n",
       "\n",
       "    if (OutputArea.prototype.mime_types().indexOf(EXEC_MIME_TYPE) == -1) {\n",
       "      register_renderer(events, OutputArea);\n",
       "    }\n",
       "  }\n",
       "\n",
       "  \n",
       "  if (typeof (root._bokeh_timeout) === \"undefined\" || force === true) {\n",
       "    root._bokeh_timeout = Date.now() + 5000;\n",
       "    root._bokeh_failed_load = false;\n",
       "  }\n",
       "\n",
       "  var NB_LOAD_WARNING = {'data': {'text/html':\n",
       "     \"<div style='background-color: #fdd'>\\n\"+\n",
       "     \"<p>\\n\"+\n",
       "     \"BokehJS does not appear to have successfully loaded. If loading BokehJS from CDN, this \\n\"+\n",
       "     \"may be due to a slow or bad network connection. Possible fixes:\\n\"+\n",
       "     \"</p>\\n\"+\n",
       "     \"<ul>\\n\"+\n",
       "     \"<li>re-rerun `output_notebook()` to attempt to load from CDN again, or</li>\\n\"+\n",
       "     \"<li>use INLINE resources instead, as so:</li>\\n\"+\n",
       "     \"</ul>\\n\"+\n",
       "     \"<code>\\n\"+\n",
       "     \"from bokeh.resources import INLINE\\n\"+\n",
       "     \"output_notebook(resources=INLINE)\\n\"+\n",
       "     \"</code>\\n\"+\n",
       "     \"</div>\"}};\n",
       "\n",
       "  function display_loaded() {\n",
       "    var el = document.getElementById(\"b7d24544-de86-4a23-b0d6-ebe1b3c0f019\");\n",
       "    if (el != null) {\n",
       "      el.textContent = \"BokehJS is loading...\";\n",
       "    }\n",
       "    if (root.Bokeh !== undefined) {\n",
       "      if (el != null) {\n",
       "        el.textContent = \"BokehJS \" + root.Bokeh.version + \" successfully loaded.\";\n",
       "      }\n",
       "    } else if (Date.now() < root._bokeh_timeout) {\n",
       "      setTimeout(display_loaded, 100)\n",
       "    }\n",
       "  }\n",
       "\n",
       "\n",
       "  function run_callbacks() {\n",
       "    try {\n",
       "      root._bokeh_onload_callbacks.forEach(function(callback) { callback() });\n",
       "    }\n",
       "    finally {\n",
       "      delete root._bokeh_onload_callbacks\n",
       "    }\n",
       "    console.info(\"Bokeh: all callbacks have finished\");\n",
       "  }\n",
       "\n",
       "  function load_libs(js_urls, callback) {\n",
       "    root._bokeh_onload_callbacks.push(callback);\n",
       "    if (root._bokeh_is_loading > 0) {\n",
       "      console.log(\"Bokeh: BokehJS is being loaded, scheduling callback at\", now());\n",
       "      return null;\n",
       "    }\n",
       "    if (js_urls == null || js_urls.length === 0) {\n",
       "      run_callbacks();\n",
       "      return null;\n",
       "    }\n",
       "    console.log(\"Bokeh: BokehJS not loaded, scheduling load and callback at\", now());\n",
       "    root._bokeh_is_loading = js_urls.length;\n",
       "    for (var i = 0; i < js_urls.length; i++) {\n",
       "      var url = js_urls[i];\n",
       "      var s = document.createElement('script');\n",
       "      s.src = url;\n",
       "      s.async = false;\n",
       "      s.onreadystatechange = s.onload = function() {\n",
       "        root._bokeh_is_loading--;\n",
       "        if (root._bokeh_is_loading === 0) {\n",
       "          console.log(\"Bokeh: all BokehJS libraries loaded\");\n",
       "          run_callbacks()\n",
       "        }\n",
       "      };\n",
       "      s.onerror = function() {\n",
       "        console.warn(\"failed to load library \" + url);\n",
       "      };\n",
       "      console.log(\"Bokeh: injecting script tag for BokehJS library: \", url);\n",
       "      document.getElementsByTagName(\"head\")[0].appendChild(s);\n",
       "    }\n",
       "  };var element = document.getElementById(\"b7d24544-de86-4a23-b0d6-ebe1b3c0f019\");\n",
       "  if (element == null) {\n",
       "    console.log(\"Bokeh: ERROR: autoload.js configured with elementid 'b7d24544-de86-4a23-b0d6-ebe1b3c0f019' but no matching script tag was found. \")\n",
       "    return false;\n",
       "  }\n",
       "\n",
       "  var js_urls = [\"https://cdn.pydata.org/bokeh/release/bokeh-0.12.14.min.js\", \"https://cdn.pydata.org/bokeh/release/bokeh-widgets-0.12.14.min.js\", \"https://cdn.pydata.org/bokeh/release/bokeh-tables-0.12.14.min.js\", \"https://cdn.pydata.org/bokeh/release/bokeh-gl-0.12.14.min.js\"];\n",
       "\n",
       "  var inline_js = [\n",
       "    function(Bokeh) {\n",
       "      Bokeh.set_log_level(\"info\");\n",
       "    },\n",
       "    \n",
       "    function(Bokeh) {\n",
       "      \n",
       "    },\n",
       "    function(Bokeh) {\n",
       "      console.log(\"Bokeh: injecting CSS: https://cdn.pydata.org/bokeh/release/bokeh-0.12.14.min.css\");\n",
       "      Bokeh.embed.inject_css(\"https://cdn.pydata.org/bokeh/release/bokeh-0.12.14.min.css\");\n",
       "      console.log(\"Bokeh: injecting CSS: https://cdn.pydata.org/bokeh/release/bokeh-widgets-0.12.14.min.css\");\n",
       "      Bokeh.embed.inject_css(\"https://cdn.pydata.org/bokeh/release/bokeh-widgets-0.12.14.min.css\");\n",
       "      console.log(\"Bokeh: injecting CSS: https://cdn.pydata.org/bokeh/release/bokeh-tables-0.12.14.min.css\");\n",
       "      Bokeh.embed.inject_css(\"https://cdn.pydata.org/bokeh/release/bokeh-tables-0.12.14.min.css\");\n",
       "    }\n",
       "  ];\n",
       "\n",
       "  function run_inline_js() {\n",
       "    \n",
       "    if ((root.Bokeh !== undefined) || (force === true)) {\n",
       "      for (var i = 0; i < inline_js.length; i++) {\n",
       "        inline_js[i].call(root, root.Bokeh);\n",
       "      }if (force === true) {\n",
       "        display_loaded();\n",
       "      }} else if (Date.now() < root._bokeh_timeout) {\n",
       "      setTimeout(run_inline_js, 100);\n",
       "    } else if (!root._bokeh_failed_load) {\n",
       "      console.log(\"Bokeh: BokehJS failed to load within specified timeout.\");\n",
       "      root._bokeh_failed_load = true;\n",
       "    } else if (force !== true) {\n",
       "      var cell = $(document.getElementById(\"b7d24544-de86-4a23-b0d6-ebe1b3c0f019\")).parents('.cell').data().cell;\n",
       "      cell.output_area.append_execute_result(NB_LOAD_WARNING)\n",
       "    }\n",
       "\n",
       "  }\n",
       "\n",
       "  if (root._bokeh_is_loading === 0) {\n",
       "    console.log(\"Bokeh: BokehJS loaded, going straight to plotting\");\n",
       "    run_inline_js();\n",
       "  } else {\n",
       "    load_libs(js_urls, function() {\n",
       "      console.log(\"Bokeh: BokehJS plotting callback run at\", now());\n",
       "      run_inline_js();\n",
       "    });\n",
       "  }\n",
       "}(window));"
      ],
      "application/vnd.bokehjs_load.v0+json": "\n(function(root) {\n  function now() {\n    return new Date();\n  }\n\n  var force = true;\n\n  if (typeof (root._bokeh_onload_callbacks) === \"undefined\" || force === true) {\n    root._bokeh_onload_callbacks = [];\n    root._bokeh_is_loading = undefined;\n  }\n\n  \n\n  \n  if (typeof (root._bokeh_timeout) === \"undefined\" || force === true) {\n    root._bokeh_timeout = Date.now() + 5000;\n    root._bokeh_failed_load = false;\n  }\n\n  var NB_LOAD_WARNING = {'data': {'text/html':\n     \"<div style='background-color: #fdd'>\\n\"+\n     \"<p>\\n\"+\n     \"BokehJS does not appear to have successfully loaded. If loading BokehJS from CDN, this \\n\"+\n     \"may be due to a slow or bad network connection. Possible fixes:\\n\"+\n     \"</p>\\n\"+\n     \"<ul>\\n\"+\n     \"<li>re-rerun `output_notebook()` to attempt to load from CDN again, or</li>\\n\"+\n     \"<li>use INLINE resources instead, as so:</li>\\n\"+\n     \"</ul>\\n\"+\n     \"<code>\\n\"+\n     \"from bokeh.resources import INLINE\\n\"+\n     \"output_notebook(resources=INLINE)\\n\"+\n     \"</code>\\n\"+\n     \"</div>\"}};\n\n  function display_loaded() {\n    var el = document.getElementById(\"b7d24544-de86-4a23-b0d6-ebe1b3c0f019\");\n    if (el != null) {\n      el.textContent = \"BokehJS is loading...\";\n    }\n    if (root.Bokeh !== undefined) {\n      if (el != null) {\n        el.textContent = \"BokehJS \" + root.Bokeh.version + \" successfully loaded.\";\n      }\n    } else if (Date.now() < root._bokeh_timeout) {\n      setTimeout(display_loaded, 100)\n    }\n  }\n\n\n  function run_callbacks() {\n    try {\n      root._bokeh_onload_callbacks.forEach(function(callback) { callback() });\n    }\n    finally {\n      delete root._bokeh_onload_callbacks\n    }\n    console.info(\"Bokeh: all callbacks have finished\");\n  }\n\n  function load_libs(js_urls, callback) {\n    root._bokeh_onload_callbacks.push(callback);\n    if (root._bokeh_is_loading > 0) {\n      console.log(\"Bokeh: BokehJS is being loaded, scheduling callback at\", now());\n      return null;\n    }\n    if (js_urls == null || js_urls.length === 0) {\n      run_callbacks();\n      return null;\n    }\n    console.log(\"Bokeh: BokehJS not loaded, scheduling load and callback at\", now());\n    root._bokeh_is_loading = js_urls.length;\n    for (var i = 0; i < js_urls.length; i++) {\n      var url = js_urls[i];\n      var s = document.createElement('script');\n      s.src = url;\n      s.async = false;\n      s.onreadystatechange = s.onload = function() {\n        root._bokeh_is_loading--;\n        if (root._bokeh_is_loading === 0) {\n          console.log(\"Bokeh: all BokehJS libraries loaded\");\n          run_callbacks()\n        }\n      };\n      s.onerror = function() {\n        console.warn(\"failed to load library \" + url);\n      };\n      console.log(\"Bokeh: injecting script tag for BokehJS library: \", url);\n      document.getElementsByTagName(\"head\")[0].appendChild(s);\n    }\n  };var element = document.getElementById(\"b7d24544-de86-4a23-b0d6-ebe1b3c0f019\");\n  if (element == null) {\n    console.log(\"Bokeh: ERROR: autoload.js configured with elementid 'b7d24544-de86-4a23-b0d6-ebe1b3c0f019' but no matching script tag was found. \")\n    return false;\n  }\n\n  var js_urls = [\"https://cdn.pydata.org/bokeh/release/bokeh-0.12.14.min.js\", \"https://cdn.pydata.org/bokeh/release/bokeh-widgets-0.12.14.min.js\", \"https://cdn.pydata.org/bokeh/release/bokeh-tables-0.12.14.min.js\", \"https://cdn.pydata.org/bokeh/release/bokeh-gl-0.12.14.min.js\"];\n\n  var inline_js = [\n    function(Bokeh) {\n      Bokeh.set_log_level(\"info\");\n    },\n    \n    function(Bokeh) {\n      \n    },\n    function(Bokeh) {\n      console.log(\"Bokeh: injecting CSS: https://cdn.pydata.org/bokeh/release/bokeh-0.12.14.min.css\");\n      Bokeh.embed.inject_css(\"https://cdn.pydata.org/bokeh/release/bokeh-0.12.14.min.css\");\n      console.log(\"Bokeh: injecting CSS: https://cdn.pydata.org/bokeh/release/bokeh-widgets-0.12.14.min.css\");\n      Bokeh.embed.inject_css(\"https://cdn.pydata.org/bokeh/release/bokeh-widgets-0.12.14.min.css\");\n      console.log(\"Bokeh: injecting CSS: https://cdn.pydata.org/bokeh/release/bokeh-tables-0.12.14.min.css\");\n      Bokeh.embed.inject_css(\"https://cdn.pydata.org/bokeh/release/bokeh-tables-0.12.14.min.css\");\n    }\n  ];\n\n  function run_inline_js() {\n    \n    if ((root.Bokeh !== undefined) || (force === true)) {\n      for (var i = 0; i < inline_js.length; i++) {\n        inline_js[i].call(root, root.Bokeh);\n      }if (force === true) {\n        display_loaded();\n      }} else if (Date.now() < root._bokeh_timeout) {\n      setTimeout(run_inline_js, 100);\n    } else if (!root._bokeh_failed_load) {\n      console.log(\"Bokeh: BokehJS failed to load within specified timeout.\");\n      root._bokeh_failed_load = true;\n    } else if (force !== true) {\n      var cell = $(document.getElementById(\"b7d24544-de86-4a23-b0d6-ebe1b3c0f019\")).parents('.cell').data().cell;\n      cell.output_area.append_execute_result(NB_LOAD_WARNING)\n    }\n\n  }\n\n  if (root._bokeh_is_loading === 0) {\n    console.log(\"Bokeh: BokehJS loaded, going straight to plotting\");\n    run_inline_js();\n  } else {\n    load_libs(js_urls, function() {\n      console.log(\"Bokeh: BokehJS plotting callback run at\", now());\n      run_inline_js();\n    });\n  }\n}(window));"
     },
     "metadata": {},
     "output_type": "display_data"
    }
   ],
   "source": [
    "output_notebook()"
   ]
  },
  {
   "cell_type": "code",
   "execution_count": 8,
   "metadata": {
    "collapsed": true
   },
   "outputs": [],
   "source": [
    "def fmt_cool(ds_in):\n",
    "    ds = ds_in.copy(deep=True)\n",
    "    if 'igg' in ds.dims:\n",
    "        ds = ds.sel(igg=1)\n",
    "\n",
    "    if 'g' in ds.dims:\n",
    "        ds = ds.sum('g')\n",
    "            \n",
    "    if 'band' in ds.dims:\n",
    "        try:\n",
    "            ds = ds.squeeze('band')\n",
    "        except ValueError:\n",
    "            ds = ds.sum('band')\n",
    "                \n",
    "    return ds['coolrg']\n",
    "\n",
    "\n",
    "def pltdata_cooling_1(ds_cool=None,\n",
    "                      ds_cool_crd=None, ds_cool_wgt=None):\n",
    "    \n",
    "\n",
    "\n",
    "    colors = all_palettes['Set1'][4]\n",
    "    data = [{'label': 'CLIRAD `coolr_bands`',\n",
    "             'srs': fmt_cool(ds_cool),\n",
    "             'line_dash': 'dashed', 'line_width': 5,\n",
    "             'color': colors[0], 'alpha': .6},\n",
    "            {'label': 'CRD',\n",
    "             'srs': fmt_cool(ds_cool_crd),\n",
    "             'line_dash': 'solid', 'line_width': 1.5,\n",
    "             'marker': 'circle', 'marker_size': 5,\n",
    "             'color': colors[2], 'alpha': 1,},\n",
    "            {'label': 'WGT igg=10 wgt_flux=2',\n",
    "             'srs': fmt_cool(ds_cool_wgt),\n",
    "             'line_dash': 'solid', 'line_width': 3,\n",
    "             'marker': 'square', 'marker_size': 5,\n",
    "             'color': colors[3], 'alpha': .6}]\n",
    "    return data\n",
    "\n",
    "\n",
    "def nice_xlims(pltdata=None, prange=None):\n",
    "    \n",
    "    def get_slice(srs):\n",
    "        return srs.sel(pressure=slice(*prange))\n",
    "    \n",
    "    srss = [d['srs'] for d in pltdata]\n",
    "    vmin = min([get_slice(srs).min() for srs in srss])\n",
    "    vmax = max([get_slice(srs).max() for srs in srss])\n",
    "    dv = (vmax - vmin) * .01\n",
    "    return float(vmin - dv), float(vmax + dv)\n",
    "    \n",
    "\n",
    "def plt_cooling_bokeh(pltdata=None):\n",
    "    '''\n",
    "    Plot a list of cooling rate profiles using bokeh.\n",
    "    '''\n",
    "    ymin = 1e-2 \n",
    "    ymax = 1020 \n",
    "        \n",
    "    p1 = figure(title=\"Linear pressure scale\", \n",
    "                plot_width=400)        \n",
    "    xmin, xmax = nice_xlims(pltdata, prange=(50, 1050))\n",
    "    for d in pltdata:\n",
    "        if 'marker' in d:\n",
    "            getattr(p1, d['marker'])(d['srs'].values, \n",
    "                    d['srs'].coords['pressure'].values,\n",
    "                    color=d['color'], alpha=.7)\n",
    "        p1.line(d['srs'].values, \n",
    "                d['srs'].coords['pressure'].values,\n",
    "                color=d['color'], alpha=d['alpha'], \n",
    "                line_width=d['line_width'], line_dash=d['line_dash'])\n",
    "    \n",
    "    p1.y_range = Range1d(ymax, ymin)\n",
    "    p1.yaxis.axis_label = 'pressure [mb]'   \n",
    "    p1.x_range = Range1d(xmin, xmax)\n",
    "    p1.xaxis.axis_label = 'cooling rate [K/day]'\n",
    "            \n",
    "    p2 = figure(title='Log pressure scale', y_axis_type='log',\n",
    "                plot_width=560)\n",
    "    xmin, xmax = nice_xlims(pltdata, prange=(.01, 200))\n",
    "    \n",
    "    rs = []\n",
    "    for d in pltdata:\n",
    "        rd = []\n",
    "        if 'marker' in d:\n",
    "            r_mark = getattr(p2, d['marker'])(d['srs'].values, \n",
    "                        d['srs'].coords['pressure'].values,\n",
    "                        color=d['color'], alpha=.7)\n",
    "            rd.append(r_mark)\n",
    "        r_line = p2.line(d['srs'].values, \n",
    "                    d['srs'].coords['pressure'].values,\n",
    "                    color=d['color'], alpha=d['alpha'], \n",
    "                    line_width=d['line_width'], line_dash=d['line_dash'])\n",
    "        rd.append(r_line)\n",
    "      \n",
    "        rs.append(rd)\n",
    "        \n",
    "    p2.y_range = Range1d(ymax, ymin)  \n",
    "    p2.yaxis.axis_label = 'pressure [mb]'\n",
    "    \n",
    "    p2.x_range = Range1d(xmin, xmax)\n",
    "    p2.xaxis.axis_label = 'cooling rate [K/day]'\n",
    "    \n",
    "    items = [(d['label'], r) for r, d in zip(rs, pltdata)]\n",
    "    legend = Legend(items=items, location=(10, -30))\n",
    "    legend.label_text_font_size = '8pt'\n",
    "    \n",
    "    p2.add_layout(legend, 'right')  \n",
    "    \n",
    "    show(gridplot(p1, p2, ncols=2, plot_height=500))\n",
    "    \n",
    "\n",
    "def script_plt_cooling():\n",
    "    pltdata = pltdata_cooling_1(\n",
    "        ds_cool=DS_COOL,\n",
    "        ds_cool_crd=DS_COOL_CRD,\n",
    "        ds_cool_wgt=DS_COOL_WGT)\n",
    "    plt_cooling_bokeh(pltdata=pltdata)\n",
    "    print('''FIGURE. Cooling rate profiles.''')"
   ]
  },
  {
   "cell_type": "code",
   "execution_count": 9,
   "metadata": {
    "collapsed": true
   },
   "outputs": [],
   "source": [
    "def fmt_flux(ds_in):\n",
    "    ds = ds_in.copy(deep=True)\n",
    "    \n",
    "    for l in ('level', 'layer'):\n",
    "        if l in ds.data_vars:\n",
    "            if len(ds[l].dims) > 1:\n",
    "                surface = {d: 0 for d in ds.dims if d != 'pressure'}\n",
    "                coord_level = ds[l][surface]\n",
    "                ds.coords[l] = ('pressure', coord_level)\n",
    "            else:\n",
    "                ds.coords[l] = ('pressure', ds[l])\n",
    "        \n",
    "    ds = ds.isel(pressure=[0, 23, -1])\n",
    "        \n",
    "    if 'igg' in ds.dims:\n",
    "        ds = ds.sel(igg=[1])\n",
    "        ds = ds.squeeze('igg').drop('igg')\n",
    "    \n",
    "    if 'g' in ds.dims:\n",
    "        ds = ds.sum('g')\n",
    "            \n",
    "    if 'band' in ds.dims:\n",
    "        try:\n",
    "            ds = ds.squeeze('band').drop('band')\n",
    "        except ValueError:\n",
    "            ds = ds.sum('band')\n",
    "                \n",
    "    df = ds.to_dataframe()\n",
    "    df = df.set_index('level', append=True)               \n",
    "    return df\n",
    "\n",
    "\n",
    "def tbdata_flux(ds_flux=None, ds_flux_crd=None, ds_flux_wgt=None):\n",
    "    ilevels = [0, 23, -1]\n",
    "            \n",
    "    benchmark = {'label': 'WGT igg=10 wgt_flux=1',\n",
    "                 'df': fmt_flux(ds_flux_wgt)}\n",
    "    \n",
    "    tbs = [{'label': 'CRD',\n",
    "            'df': fmt_flux(ds_flux_crd)},\n",
    "           {'label': 'CLIRAD',\n",
    "            'df': fmt_flux(ds_flux)}]\n",
    "    \n",
    "    data = {'benchmark': benchmark, 'others': tbs}\n",
    "    return data\n",
    "\n",
    "\n",
    "def tb_flux(tbdata=None):\n",
    "    benchmark = tbdata['benchmark']\n",
    "    others = tbdata['others']\n",
    "    \n",
    "    def show_tb(d=None):\n",
    "        display.display(d['df'])\n",
    "        print('Table.', 'Fluxes.', d['label'])\n",
    "        \n",
    "    def show_tbdiff(d0=None, d=None):\n",
    "        df = d['df']\n",
    "        df.index = d0['df'].index\n",
    "        display.display(df - d0['df'])\n",
    "        print('Table.', 'Fluxes.', \n",
    "              '({}) - ({})'.format(d['label'], d0['label']))\n",
    "        \n",
    "    show_tb(benchmark)\n",
    "    for d in others:\n",
    "        show_tb(d)\n",
    "        \n",
    "    for d in others:\n",
    "        show_tbdiff(d=d, d0=benchmark)\n",
    "        \n",
    "        \n",
    "def script_tb_flux():\n",
    "    data = tbdata_flux(ds_flux=DS_FLUX,\n",
    "                       ds_flux_crd=DS_FLUX_CRD,\n",
    "                       ds_flux_wgt=DS_FLUX_WGT)\n",
    "    tb_flux(tbdata=data)"
   ]
  },
  {
   "cell_type": "code",
   "execution_count": 10,
   "metadata": {
    "collapsed": true
   },
   "outputs": [],
   "source": [
    "def band_map():\n",
    "    '''\n",
    "    Maps spectral bands in lblnew to spectral bands in clirad.\n",
    "    '''\n",
    "    lblnew2clirad = {'1': '1',\n",
    "            '2': '2',\n",
    "            '3a': '3',\n",
    "            '3b': '4',\n",
    "            '3c': '5',\n",
    "            '4': '6', \n",
    "            '5': '7',\n",
    "            '6': '8',\n",
    "            '7': '9', \n",
    "            '8': '10',\n",
    "            '9': '11'}\n",
    "    \n",
    "    clirad2lblnew = {clirad: lblnew \n",
    "                     for lblnew, clirad in lblnew2clirad.items()}\n",
    "    return clirad2lblnew\n",
    "\n",
    "\n",
    "def gasbands():\n",
    "    bmap = band_map()\n",
    "    gases = list(PARAM['molecule'].keys())\n",
    "    \n",
    "    bands = [bmap[str(b)] for b in PARAM['band']]\n",
    "    return list(itertools.product(gases, bands))\n",
    "\n",
    "\n",
    "def print_bestfit_params():\n",
    "    print('Best-fit values for each (gas, band)')\n",
    "    print('------------------------------------')\n",
    "    for gas, band in gasbands():\n",
    "        print('o {} band{}'.format(gas, band))\n",
    "        param = bestfits.kdist_params(molecule=gas, band=band)\n",
    "        for name, value in sorted(param.items()):\n",
    "            print(2 * ' ' + '{} = {}'.format(name, value))\n",
    "\n",
    "        \n",
    "def print_input_param():        \n",
    "    for name, value in PARAM.items():\n",
    "        print('{} = {}'.format(name, value))\n",
    "        \n",
    "        \n",
    "def print_lblnew_param():\n",
    "    for name, value in sorted(PARAM_LBLNEW.items()):\n",
    "        print('{} = {}'.format(name, value))\n"
   ]
  },
  {
   "cell_type": "code",
   "execution_count": 11,
   "metadata": {
    "collapsed": true,
    "scrolled": false
   },
   "outputs": [],
   "source": [
    "def show_html(s):\n",
    "    display.display(display.HTML(s))\n",
    "\n",
    "    \n",
    "def show_markdown(s):\n",
    "    display.display(display.Markdown(s))\n",
    "\n",
    "    \n",
    "def script():\n",
    "    \n",
    "    title = '### CLIRAD-LW'\n",
    "    s_input = 'Input Parameters'\n",
    "    s_lblnew_param = 'LBLNEW case compaired against'\n",
    "    s_bestfits = 'Best-fit Parameters'\n",
    "    s_plt_cooling = 'Cooling Rate Profiles'\n",
    "    s_tb_flux = 'Flux Comparison'\n",
    "    \n",
    "    # title\n",
    "    show_markdown('### CLIRAD-LW')\n",
    "    \n",
    "    # TOC\n",
    "    show_markdown('### Table of Contents')\n",
    "    show_html(climahtml.getHTML_hrefanchor(s_input))\n",
    "    show_html(climahtml.getHTML_hrefanchor(s_lblnew_param))\n",
    "    show_html(climahtml.getHTML_hrefanchor(s_plt_cooling))\n",
    "    show_html(climahtml.getHTML_hrefanchor(s_tb_flux))\n",
    "    show_html(climahtml.getHTML_hrefanchor(s_bestfits))\n",
    "    \n",
    "    # Input parameters\n",
    "    show_html(climahtml.getHTML_idanchor(s_input))\n",
    "    show_markdown(climahtml.getMarkdown_sectitle(s_input))\n",
    "    print_input_param()\n",
    "    \n",
    "    # LBLNEW parameters \n",
    "    show_html(climahtml.getHTML_idanchor(s_lblnew_param))\n",
    "    show_markdown(climahtml.getMarkdown_sectitle(s_lblnew_param))\n",
    "    print_lblnew_param()\n",
    "    \n",
    "    # Cooling rate profiles\n",
    "    show_html(climahtml.getHTML_idanchor(s_plt_cooling))\n",
    "    show_markdown(climahtml.getMarkdown_sectitle(s_plt_cooling))\n",
    "    script_plt_cooling()\n",
    "    \n",
    "    # Flux comparison\n",
    "    show_html(climahtml.getHTML_idanchor(s_tb_flux))\n",
    "    show_markdown(climahtml.getMarkdown_sectitle(s_tb_flux))\n",
    "    script_tb_flux()\n",
    "    \n",
    "    # Best-fit values\n",
    "    show_html(climahtml.getHTML_idanchor(s_bestfits))\n",
    "    show_markdown(climahtml.getMarkdown_sectitle(s_bestfits))\n",
    "    print_bestfit_params()\n",
    "   \n",
    "    "
   ]
  },
  {
   "cell_type": "code",
   "execution_count": 12,
   "metadata": {
    "collapsed": true,
    "scrolled": false
   },
   "outputs": [
    {
     "data": {
      "text/markdown": [
       "### CLIRAD-LW"
      ],
      "text/plain": [
       "<IPython.core.display.Markdown object>"
      ]
     },
     "metadata": {},
     "output_type": "display_data"
    },
    {
     "data": {
      "text/markdown": [
       "### Table of Contents"
      ],
      "text/plain": [
       "<IPython.core.display.Markdown object>"
      ]
     },
     "metadata": {},
     "output_type": "display_data"
    },
    {
     "data": {
      "text/html": [
       "<a href=\"#Input_Parameters\">Input Parameters</a>"
      ],
      "text/plain": [
       "<IPython.core.display.HTML object>"
      ]
     },
     "metadata": {},
     "output_type": "display_data"
    },
    {
     "data": {
      "text/html": [
       "<a href=\"#LBLNEW_case_compaired_against\">LBLNEW case compaired against</a>"
      ],
      "text/plain": [
       "<IPython.core.display.HTML object>"
      ]
     },
     "metadata": {},
     "output_type": "display_data"
    },
    {
     "data": {
      "text/html": [
       "<a href=\"#Cooling_Rate_Profiles\">Cooling Rate Profiles</a>"
      ],
      "text/plain": [
       "<IPython.core.display.HTML object>"
      ]
     },
     "metadata": {},
     "output_type": "display_data"
    },
    {
     "data": {
      "text/html": [
       "<a href=\"#Flux_Comparison\">Flux Comparison</a>"
      ],
      "text/plain": [
       "<IPython.core.display.HTML object>"
      ]
     },
     "metadata": {},
     "output_type": "display_data"
    },
    {
     "data": {
      "text/html": [
       "<a href=\"#Best-fit_Parameters\">Best-fit Parameters</a>"
      ],
      "text/plain": [
       "<IPython.core.display.HTML object>"
      ]
     },
     "metadata": {},
     "output_type": "display_data"
    },
    {
     "data": {
      "text/html": [
       "<a id=\"Input_Parameters\"></a>"
      ],
      "text/plain": [
       "<IPython.core.display.HTML object>"
      ]
     },
     "metadata": {},
     "output_type": "display_data"
    },
    {
     "data": {
      "text/markdown": [
       "# Input Parameters"
      ],
      "text/plain": [
       "<IPython.core.display.Markdown object>"
      ]
     },
     "metadata": {},
     "output_type": "display_data"
    },
    {
     "name": "stdout",
     "output_type": "stream",
     "text": [
      "atmpro = saw\n",
      "band = [3]\n",
      "commitnumber = 0c003ef_r8\n",
      "molecule = {'co2': 0.0004}\n",
      "tsfc = 257\n"
     ]
    },
    {
     "data": {
      "text/html": [
       "<a id=\"LBLNEW_case_compaired_against\"></a>"
      ],
      "text/plain": [
       "<IPython.core.display.HTML object>"
      ]
     },
     "metadata": {},
     "output_type": "display_data"
    },
    {
     "data": {
      "text/markdown": [
       "# LBLNEW case compaired against"
      ],
      "text/plain": [
       "<IPython.core.display.Markdown object>"
      ]
     },
     "metadata": {},
     "output_type": "display_data"
    },
    {
     "name": "stdout",
     "output_type": "stream",
     "text": [
      "atmpro = saw\n",
      "band = 3a\n",
      "commitnumber = 2bd1f75\n",
      "conc = 0.0004\n",
      "dv = 0.01\n",
      "klin = 6.375563e-24\n",
      "molecule = co2\n",
      "ng_adju = [0, 0, 0]\n",
      "ng_refs = [3, 2, 4]\n",
      "nv = 100\n",
      "option_compute_btable = 0\n",
      "option_compute_ktable = 0\n",
      "option_wgt_flux = 1\n",
      "option_wgt_k = 1\n",
      "ref_pts = [(1, 250), (10, 250), (500, 250)]\n",
      "tsfc = 257\n",
      "vmax = 620\n",
      "vmin = 540\n",
      "w_diffuse = [(1.6, 1.6, 1.7), (1.75, 1.75), (1.55, 1.55, 1.6, 1.85)]\n",
      "wgt = [(0.7, 0.3, 0.7), (0.7, 0.6), (0.4, 0.5, 0.8, 0.95)]\n"
     ]
    },
    {
     "data": {
      "text/html": [
       "<a id=\"Cooling_Rate_Profiles\"></a>"
      ],
      "text/plain": [
       "<IPython.core.display.HTML object>"
      ]
     },
     "metadata": {},
     "output_type": "display_data"
    },
    {
     "data": {
      "text/markdown": [
       "# Cooling Rate Profiles"
      ],
      "text/plain": [
       "<IPython.core.display.Markdown object>"
      ]
     },
     "metadata": {},
     "output_type": "display_data"
    },
    {
     "data": {
      "text/html": [
       "\n",
       "<div class=\"bk-root\">\n",
       "    <div class=\"bk-plotdiv\" id=\"201b12fc-f845-433f-970c-7a1b6b0a9d53\"></div>\n",
       "</div>"
      ]
     },
     "metadata": {},
     "output_type": "display_data"
    },
    {
     "data": {
      "application/javascript": [
       "(function(root) {\n",
       "  function embed_document(root) {\n",
       "    \n",
       "  var docs_json = {\"35a84510-fd4f-4d85-9139-34075ea303a2\":{\"roots\":{\"references\":[{\"attributes\":{\"fill_alpha\":{\"value\":0.7},\"fill_color\":{\"value\":\"#4daf4a\"},\"line_alpha\":{\"value\":0.7},\"line_color\":{\"value\":\"#4daf4a\"},\"x\":{\"field\":\"x\"},\"y\":{\"field\":\"y\"}},\"id\":\"bc109514-0f22-4759-ba85-2ea5df87f41b\",\"type\":\"Circle\"},{\"attributes\":{\"data_source\":{\"id\":\"fe5a603d-f4e6-420c-91a8-5d209f0763bf\",\"type\":\"ColumnDataSource\"},\"glyph\":{\"id\":\"bc109514-0f22-4759-ba85-2ea5df87f41b\",\"type\":\"Circle\"},\"hover_glyph\":null,\"muted_glyph\":null,\"nonselection_glyph\":{\"id\":\"7d0010c2-7c9b-45a2-87a8-8cc8d370fd96\",\"type\":\"Circle\"},\"selection_glyph\":null,\"view\":{\"id\":\"1c4b79cf-1071-4759-b36b-74e7f3be65e2\",\"type\":\"CDSView\"}},\"id\":\"8b827f7d-0dad-4ff3-8554-cdb6ec27a064\",\"type\":\"GlyphRenderer\"},{\"attributes\":{\"callback\":null,\"end\":0.01,\"start\":1020},\"id\":\"ce7e573d-c45f-4e12-9b2e-55f0ac2e2ca7\",\"type\":\"Range1d\"},{\"attributes\":{\"data_source\":{\"id\":\"2c2308de-8f08-4ac5-a45a-3fada7af8e81\",\"type\":\"ColumnDataSource\"},\"glyph\":{\"id\":\"edf87526-f75f-46ef-96d7-dc04bd121aa7\",\"type\":\"Line\"},\"hover_glyph\":null,\"muted_glyph\":null,\"nonselection_glyph\":{\"id\":\"c27d5cae-c6ae-4020-977d-c0f406983fec\",\"type\":\"Line\"},\"selection_glyph\":null,\"view\":{\"id\":\"645009d1-8f6f-47a1-a420-13a51acd943b\",\"type\":\"CDSView\"}},\"id\":\"1d930636-cdc1-4839-8c50-31ee32445718\",\"type\":\"GlyphRenderer\"},{\"attributes\":{\"callback\":null,\"column_names\":[\"x\",\"y\"],\"data\":{\"x\":{\"__ndarray__\":\"WvCiryDNuz/VMoQp67PAPxJujWN/tMc/AkuNVAh5zz/LEr5z/wPUP/kmNOYBrtg//OZZpOSw3T/LS0BEUX3hPzcnYWxCNuQ/OJgT1dfq5j+alQ5Sx3XpP72pSIWxpes/XI6ZPEw47T97xENz+F/tP/M0BdeBeOs/x65hRKoh6D9jvUm6A0jkPyBtkAcqvOA/gD42btbF3D/1KAHWT6TbP3Dmup07id4/BYjlQw5Z3j//5HMX9u7YPyrZuYLQ7tM/vblLJMka0D+cPjNvcsvJP3O4VnvYi8Q/q+y7IvjfwD/w6cEPlPy9P4sHKbK1Qro/uTF6xKFktT90FNHDkQawP6AIub1qhqk/Kwh24MLYpz99PsXPUdeoP6Rybm6nCKw/Yw6tDrOprT+YnFmZkNmrP3mXsb/xV6g/tgbaECgKpT+gCX9MjOGhP+MnOyFnpp0/1xCv+kIZlz9K7kimV4uOP1VoYGhV0nU/5voefH8/YD8aUCmWZvGDPx0tGKYAYpQ/uceflomcnD/ECJ+19MuhP0yWwNGB8aQ/mNC1E0vopz/OWSpl1cSqP28BBiHXiK0/5wbEnWsVsD/zCvUI9l6xP2pY7CwDmbI/mbjjuhq6sz/BMPEr/Le0P01rxq5ci7U/HxDUaPMxtj+0FHdZn7S2P9wvpGXSFrc/Xov/A/hjtz+IDlHqaqm3P+wiGhft9bc/K/g4liFVuD82DCbLN8W4P3KWAYN+CLk/NZvbRReiuD/F9FLr3Di3Py0fmI/jCLU/IerRY3qTsj9Inm80FRywP2XJR0sY36o/\",\"dtype\":\"float64\",\"shape\":[75]},\"y\":{\"__ndarray__\":\"S/O/Q+51ND/Sv8nbtpRIP2vylNV0PVE/aTum7souWD/At0SJ8fVgPw3Iuahxymc/MSNhhJWvcD/bTfBN02d3P2zb5nxnaoA/CD5h5MAGhz8NmeH1TyaQP+zrCsc9p5Y/LbKd76fGnz/bLW5ISEmmPww9YvTcQq8/JV2OstnstT8Er5Y7M8G+P0c+r3jqkcU/5h99k6ZBzj88bCIzFzjVP4enV8oyxN0//yH99nXg5D8qOpLLf0jtP5kqGJXUifQ/c9cS8kHP/D+/DpwzojQEQIEmwoanVwxA4lgXt9HgE0BSSZ2AJuIbQAMJih9jjiNA5q4l5INuK0AwTKYKRj0zQNv5fmq8/DpAaCJseHrtQkB/+zpwzoxKQM3MzMzMeFJAZmZmZmZqWEAAAAAAAFxeQM3MzMzMJmJAmpmZmZkfZUBmZmZmZhhoQDMzMzMzEWtAAAAAAAAKbkBmZmZmZoFwQM3MzMzM/XFAMzMzMzN6c0CamZmZmfZ0QAAAAAAAc3ZAZmZmZmbvd0DNzMzMzGt5QDMzMzMz6HpAmpmZmZlkfEAAAAAAAOF9QGZmZmZmXX9AZmZmZuZsgECamZmZGSuBQM3MzMxM6YFAAAAAAICngkAzMzMzs2WDQGZmZmbmI4RAmpmZmRnihEDNzMzMTKCFQAAAAACAXoZAMzMzM7Mch0BmZmZm5tqHQJqZmZkZmYhAzczMzExXiUAAAAAAgBWKQDMzMzOz04pAZmZmZuaRi0CamZmZGVCMQM3MzMxMDo1AAAAAAIDMjUAzMzMzs4qOQGZmZmbmSI9A\",\"dtype\":\"float64\",\"shape\":[75]}}},\"id\":\"4fb82096-df51-47d2-8990-0a543417c458\",\"type\":\"ColumnDataSource\"},{\"attributes\":{\"callback\":null,\"column_names\":[\"x\",\"y\"],\"data\":{\"x\":{\"__ndarray__\":\"ZKhxDFQIzD9OP4/uc77OP0gZcQFoFNQ/vKbuZwQd2T8QTyPreGXeP9CUAKkL4OE/0lRw9AiA5D8cNIm0bPHmPz+GM2ThEOk/YcccV2W36j/rfA37HMPrP9f1j65nIuw/23lN1V7g6z+NYW/eD4rqP21ce3Yr8ec/c6I8d6s85T+Se/Rl7T/jP3vgnVtsA+I//gvj8khx4T9BGLKZx4rhP/wUruS2n+I/lUnsXhdT4T+7FVfPKKHaPxJujWN/NNQ/P2Vnl5CLzz9tpzFKZUTIP5kgdujsy8E/TfPQb0Zquj+ufOrmTwy2PyBLfyzNeLM/tIeQzzjIsD9nhpRsY1arPyY0sQ+eSKg/bmuC3e3QqD/IlA9B1eioPwOWgoyFw6g/mNSRohxsqD/OyMIFEKamP36pTvAVKaQ/NAowyVQDoj+IyPCl3r2fP3XNGY49NJs/4IVZ2jwdlj+XyCsuk4OPP9KbIN45I30/FLuJpJU3cj97AKlSVZaIP1IU0XcDQZY/NouMGLo1nj+Vqv5SUJuiP8FLAU2q1KU/AJxbRLvaqD8tQ8uj47arP7meWA+ubK4/TVrNRw1+sD+Z85E2g6+xP//bs05fxrI/XSKYHNe8sz99cGf03Yy0P1cz5DjtMrU/vAVoFPiutT9QhVZfEQe2P9vWMvPGRLY/mguj8/Z0tj/keo29FKe2PyhqGiix6rY/vGcYz4RMtz/IlPtc7sW3Pz9ZfepiF7g/+mmk8YC8tz9Q9znyy1a2P3UpzIBVI7Q/gK+aR/uosT8fjqZhlV6uPyfS0hwmCKk/\",\"dtype\":\"float64\",\"shape\":[75]},\"y\":{\"__ndarray__\":\"GhExyth1ND/Sv8nbtpRIP2vylNV0PVE/aTum7souWD/At0SJ8fVgPw3Iuahxymc/MSNhhJWvcD/bTfBN02d3P2zb5nxnaoA/CD5h5MAGhz8NmeH1TyaQP+zrCsc9p5Y/LbKd76fGnz/bLW5ISEmmPww9YvTcQq8/JV2OstnstT8Er5Y7M8G+P0c+r3jqkcU/5h99k6ZBzj88bCIzFzjVP4enV8oyxN0//yH99nXg5D8qOpLLf0jtP5kqGJXUifQ/c9cS8kHP/D+/DpwzojQEQIEmwoanVwxA4lgXt9HgE0BSSZ2AJuIbQAMJih9jjiNA5q4l5INuK0AwTKYKRj0zQNv5fmq8/DpAaCJseHrtQkB/+zpwzoxKQM3MzMzMeFJAZmZmZmZqWEAAAAAAAFxeQM3MzMzMJmJAmpmZmZkfZUBmZmZmZhhoQDMzMzMzEWtAAAAAAAAKbkBmZmZmZoFwQM3MzMzM/XFAMzMzMzN6c0CamZmZmfZ0QAAAAAAAc3ZAZmZmZmbvd0DNzMzMzGt5QDMzMzMz6HpAmpmZmZlkfEAAAAAAAOF9QGZmZmZmXX9AZmZmZuZsgECamZmZGSuBQM3MzMxM6YFAAAAAAICngkAzMzMzs2WDQGZmZmbmI4RAmpmZmRnihEDNzMzMTKCFQAAAAACAXoZAMzMzM7Mch0BmZmZm5tqHQJqZmZkZmYhAzczMzExXiUAAAAAAgBWKQDMzMzOz04pAZmZmZuaRi0CamZmZGVCMQM3MzMxMDo1AAAAAAIDMjUAzMzMzs4qOQGZmZmbmSI9A\",\"dtype\":\"float64\",\"shape\":[75]}}},\"id\":\"ee547e60-c9a9-4fa3-a505-a4de9e3b783d\",\"type\":\"ColumnDataSource\"},{\"attributes\":{\"source\":{\"id\":\"2c2308de-8f08-4ac5-a45a-3fada7af8e81\",\"type\":\"ColumnDataSource\"}},\"id\":\"645009d1-8f6f-47a1-a420-13a51acd943b\",\"type\":\"CDSView\"},{\"attributes\":{\"callback\":null,\"column_names\":[\"x\",\"y\"],\"data\":{\"x\":{\"__ndarray__\":\"ZKhxDFQIzD9OP4/uc77OP0gZcQFoFNQ/vKbuZwQd2T8QTyPreGXeP9CUAKkL4OE/0lRw9AiA5D8cNIm0bPHmPz+GM2ThEOk/YcccV2W36j/rfA37HMPrP9f1j65nIuw/23lN1V7g6z+NYW/eD4rqP21ce3Yr8ec/c6I8d6s85T+Se/Rl7T/jP3vgnVtsA+I//gvj8khx4T9BGLKZx4rhP/wUruS2n+I/lUnsXhdT4T+7FVfPKKHaPxJujWN/NNQ/P2Vnl5CLzz9tpzFKZUTIP5kgdujsy8E/TfPQb0Zquj+ufOrmTwy2PyBLfyzNeLM/tIeQzzjIsD9nhpRsY1arPyY0sQ+eSKg/bmuC3e3QqD/IlA9B1eioPwOWgoyFw6g/mNSRohxsqD/OyMIFEKamP36pTvAVKaQ/NAowyVQDoj+IyPCl3r2fP3XNGY49NJs/4IVZ2jwdlj+XyCsuk4OPP9KbIN45I30/FLuJpJU3cj97AKlSVZaIP1IU0XcDQZY/NouMGLo1nj+Vqv5SUJuiP8FLAU2q1KU/AJxbRLvaqD8tQ8uj47arP7meWA+ubK4/TVrNRw1+sD+Z85E2g6+xP//bs05fxrI/XSKYHNe8sz99cGf03Yy0P1cz5DjtMrU/vAVoFPiutT9QhVZfEQe2P9vWMvPGRLY/mguj8/Z0tj/keo29FKe2PyhqGiix6rY/vGcYz4RMtz/IlPtc7sW3Pz9ZfepiF7g/+mmk8YC8tz9Q9znyy1a2P3UpzIBVI7Q/gK+aR/uosT8fjqZhlV6uPyfS0hwmCKk/\",\"dtype\":\"float64\",\"shape\":[75]},\"y\":{\"__ndarray__\":\"GhExyth1ND/Sv8nbtpRIP2vylNV0PVE/aTum7souWD/At0SJ8fVgPw3Iuahxymc/MSNhhJWvcD/bTfBN02d3P2zb5nxnaoA/CD5h5MAGhz8NmeH1TyaQP+zrCsc9p5Y/LbKd76fGnz/bLW5ISEmmPww9YvTcQq8/JV2OstnstT8Er5Y7M8G+P0c+r3jqkcU/5h99k6ZBzj88bCIzFzjVP4enV8oyxN0//yH99nXg5D8qOpLLf0jtP5kqGJXUifQ/c9cS8kHP/D+/DpwzojQEQIEmwoanVwxA4lgXt9HgE0BSSZ2AJuIbQAMJih9jjiNA5q4l5INuK0AwTKYKRj0zQNv5fmq8/DpAaCJseHrtQkB/+zpwzoxKQM3MzMzMeFJAZmZmZmZqWEAAAAAAAFxeQM3MzMzMJmJAmpmZmZkfZUBmZmZmZhhoQDMzMzMzEWtAAAAAAAAKbkBmZmZmZoFwQM3MzMzM/XFAMzMzMzN6c0CamZmZmfZ0QAAAAAAAc3ZAZmZmZmbvd0DNzMzMzGt5QDMzMzMz6HpAmpmZmZlkfEAAAAAAAOF9QGZmZmZmXX9AZmZmZuZsgECamZmZGSuBQM3MzMxM6YFAAAAAAICngkAzMzMzs2WDQGZmZmbmI4RAmpmZmRnihEDNzMzMTKCFQAAAAACAXoZAMzMzM7Mch0BmZmZm5tqHQJqZmZkZmYhAzczMzExXiUAAAAAAgBWKQDMzMzOz04pAZmZmZuaRi0CamZmZGVCMQM3MzMxMDo1AAAAAAIDMjUAzMzMzs4qOQGZmZmbmSI9A\",\"dtype\":\"float64\",\"shape\":[75]}}},\"id\":\"fe5a603d-f4e6-420c-91a8-5d209f0763bf\",\"type\":\"ColumnDataSource\"},{\"attributes\":{\"line_alpha\":0.1,\"line_color\":\"#1f77b4\",\"line_width\":1.5,\"x\":{\"field\":\"x\"},\"y\":{\"field\":\"y\"}},\"id\":\"cb3f6953-5e51-43f8-84f1-10b5d9a72201\",\"type\":\"Line\"},{\"attributes\":{\"data_source\":{\"id\":\"d2a1b280-1ad6-4c90-becd-ccd09fbadfdc\",\"type\":\"ColumnDataSource\"},\"glyph\":{\"id\":\"1b65597b-697a-46fb-97ac-a7d78556b419\",\"type\":\"Square\"},\"hover_glyph\":null,\"muted_glyph\":null,\"nonselection_glyph\":{\"id\":\"c59ed405-165c-4e02-9567-fbe375fabbb4\",\"type\":\"Square\"},\"selection_glyph\":null,\"view\":{\"id\":\"3dd1bacc-0db5-4626-80ee-43cf63c959d5\",\"type\":\"CDSView\"}},\"id\":\"dc753914-b568-4c75-af68-ae19ffbf90ee\",\"type\":\"GlyphRenderer\"},{\"attributes\":{\"callback\":null,\"column_names\":[\"x\",\"y\"],\"data\":{\"x\":{\"__ndarray__\":\"A+KKyNF4xT8f/Lzfd6fIPzf7TksGWtA/4iBVVRvp1D+LxmB7Jr3ZP49nio6a4t4/fGVwwx8Z4j+17xAaT8HkP7JdP97lVec/KI3m+paz6T+JRG+ZXbDrP2jyTZInJ+0/jylROJ3r7T8UuM/hKVDtP1FnmIDU3uo/f2he/fx85z/rkiwBIx3kP5hhTkaFSeE/t1EoF3oB3z8Dh9AAV0TeP6k13HwIceA/fIaswYbO3z+BWvqZlmjZP/Ztrhfq3tM/hvTC+Dmvzz9Sxy6YqE7JP/kYqmlmBcQ/MAk1LDRjwD/xXI0eMAm9P1fbC54YuLk/0GZFSuE/tT8+lNh14DOwP448Er/awKo/SpEPj8Axqj9QqyG2VdaqPw/x0yxy46w/3wi63f89rj/IhvjAmqOsP1xqMkpPcak/Isa4xFFPpj8LG17hxR+jPwfPevS4uJ8/YT19fMe6mD9YEY2ihHqQP3zf8xGP3ng/L5LhQ1/vZD/EGXtdd1GFP837STu1MJU/E2kNIalqnT+NudqeOzOiP4Ys3kzIVKU/pEaM/S85qD+Z3PC2QfSqP2a7OSrPj60/QVL6CYIHsD88ztacCzmxP8H0wJe8UbI/ulBEn6ZRsz+cQr9MuS+0PxCLA+eL5rQ/y1ZAGk90tT9aEzAQTd+1P8TJWsLkLrY/I49miLButj9TY8/M86y2PwQRjZiw+bY/oPRUfqhktz/SPN/Oit63PxD7vw1qNLg/C8Ki9Jrgtz+0AYL4WYa2P9zY0H6MYrQ/LTzYscL6sT8w7IOe6COvP7HF3Jyu56k/\",\"dtype\":\"float64\",\"shape\":[75]},\"y\":{\"__ndarray__\":\"GhExyth1ND/Sv8nbtpRIP2vylNV0PVE/aTum7souWD/At0SJ8fVgPw3Iuahxymc/MSNhhJWvcD/bTfBN02d3P2zb5nxnaoA/CD5h5MAGhz8NmeH1TyaQP+zrCsc9p5Y/LbKd76fGnz/bLW5ISEmmPww9YvTcQq8/JV2OstnstT8Er5Y7M8G+P0c+r3jqkcU/5h99k6ZBzj88bCIzFzjVP4enV8oyxN0//yH99nXg5D8qOpLLf0jtP5kqGJXUifQ/c9cS8kHP/D+/DpwzojQEQIEmwoanVwxA4lgXt9HgE0BSSZ2AJuIbQAMJih9jjiNA5q4l5INuK0AwTKYKRj0zQNv5fmq8/DpAaCJseHrtQkB/+zpwzoxKQM3MzMzMeFJAZmZmZmZqWEAAAAAAAFxeQM3MzMzMJmJAmpmZmZkfZUBmZmZmZhhoQDMzMzMzEWtAAAAAAAAKbkBmZmZmZoFwQM3MzMzM/XFAMzMzMzN6c0CamZmZmfZ0QAAAAAAAc3ZAZmZmZmbvd0DNzMzMzGt5QDMzMzMz6HpAmpmZmZlkfEAAAAAAAOF9QGZmZmZmXX9AZmZmZuZsgECamZmZGSuBQM3MzMxM6YFAAAAAAICngkAzMzMzs2WDQGZmZmbmI4RAmpmZmRnihEDNzMzMTKCFQAAAAACAXoZAMzMzM7Mch0BmZmZm5tqHQJqZmZkZmYhAzczMzExXiUAAAAAAgBWKQDMzMzOz04pAZmZmZuaRi0CamZmZGVCMQM3MzMxMDo1AAAAAAIDMjUAzMzMzs4qOQGZmZmbmSI9A\",\"dtype\":\"float64\",\"shape\":[75]}}},\"id\":\"d2a1b280-1ad6-4c90-becd-ccd09fbadfdc\",\"type\":\"ColumnDataSource\"},{\"attributes\":{\"source\":{\"id\":\"fe5a603d-f4e6-420c-91a8-5d209f0763bf\",\"type\":\"ColumnDataSource\"}},\"id\":\"1c4b79cf-1071-4759-b36b-74e7f3be65e2\",\"type\":\"CDSView\"},{\"attributes\":{\"fill_alpha\":{\"value\":0.1},\"fill_color\":{\"value\":\"#1f77b4\"},\"line_alpha\":{\"value\":0.1},\"line_color\":{\"value\":\"#1f77b4\"},\"x\":{\"field\":\"x\"},\"y\":{\"field\":\"y\"}},\"id\":\"7d0010c2-7c9b-45a2-87a8-8cc8d370fd96\",\"type\":\"Circle\"},{\"attributes\":{\"line_alpha\":0.6,\"line_color\":\"#e41a1c\",\"line_dash\":[6],\"line_width\":5,\"x\":{\"field\":\"x\"},\"y\":{\"field\":\"y\"}},\"id\":\"d864e5fe-02d9-4241-82e5-bef02057c76c\",\"type\":\"Line\"},{\"attributes\":{\"callback\":null,\"column_names\":[\"x\",\"y\"],\"data\":{\"x\":{\"__ndarray__\":\"ZKhxDFQIzD9OP4/uc77OP0gZcQFoFNQ/vKbuZwQd2T8QTyPreGXeP9CUAKkL4OE/0lRw9AiA5D8cNIm0bPHmPz+GM2ThEOk/YcccV2W36j/rfA37HMPrP9f1j65nIuw/23lN1V7g6z+NYW/eD4rqP21ce3Yr8ec/c6I8d6s85T+Se/Rl7T/jP3vgnVtsA+I//gvj8khx4T9BGLKZx4rhP/wUruS2n+I/lUnsXhdT4T+7FVfPKKHaPxJujWN/NNQ/P2Vnl5CLzz9tpzFKZUTIP5kgdujsy8E/TfPQb0Zquj+ufOrmTwy2PyBLfyzNeLM/tIeQzzjIsD9nhpRsY1arPyY0sQ+eSKg/bmuC3e3QqD/IlA9B1eioPwOWgoyFw6g/mNSRohxsqD/OyMIFEKamP36pTvAVKaQ/NAowyVQDoj+IyPCl3r2fP3XNGY49NJs/4IVZ2jwdlj+XyCsuk4OPP9KbIN45I30/FLuJpJU3cj97AKlSVZaIP1IU0XcDQZY/NouMGLo1nj+Vqv5SUJuiP8FLAU2q1KU/AJxbRLvaqD8tQ8uj47arP7meWA+ubK4/TVrNRw1+sD+Z85E2g6+xP//bs05fxrI/XSKYHNe8sz99cGf03Yy0P1cz5DjtMrU/vAVoFPiutT9QhVZfEQe2P9vWMvPGRLY/mguj8/Z0tj/keo29FKe2PyhqGiix6rY/vGcYz4RMtz/IlPtc7sW3Pz9ZfepiF7g/+mmk8YC8tz9Q9znyy1a2P3UpzIBVI7Q/gK+aR/uosT8fjqZhlV6uPyfS0hwmCKk/\",\"dtype\":\"float64\",\"shape\":[75]},\"y\":{\"__ndarray__\":\"GhExyth1ND/Sv8nbtpRIP2vylNV0PVE/aTum7souWD/At0SJ8fVgPw3Iuahxymc/MSNhhJWvcD/bTfBN02d3P2zb5nxnaoA/CD5h5MAGhz8NmeH1TyaQP+zrCsc9p5Y/LbKd76fGnz/bLW5ISEmmPww9YvTcQq8/JV2OstnstT8Er5Y7M8G+P0c+r3jqkcU/5h99k6ZBzj88bCIzFzjVP4enV8oyxN0//yH99nXg5D8qOpLLf0jtP5kqGJXUifQ/c9cS8kHP/D+/DpwzojQEQIEmwoanVwxA4lgXt9HgE0BSSZ2AJuIbQAMJih9jjiNA5q4l5INuK0AwTKYKRj0zQNv5fmq8/DpAaCJseHrtQkB/+zpwzoxKQM3MzMzMeFJAZmZmZmZqWEAAAAAAAFxeQM3MzMzMJmJAmpmZmZkfZUBmZmZmZhhoQDMzMzMzEWtAAAAAAAAKbkBmZmZmZoFwQM3MzMzM/XFAMzMzMzN6c0CamZmZmfZ0QAAAAAAAc3ZAZmZmZmbvd0DNzMzMzGt5QDMzMzMz6HpAmpmZmZlkfEAAAAAAAOF9QGZmZmZmXX9AZmZmZuZsgECamZmZGSuBQM3MzMxM6YFAAAAAAICngkAzMzMzs2WDQGZmZmbmI4RAmpmZmRnihEDNzMzMTKCFQAAAAACAXoZAMzMzM7Mch0BmZmZm5tqHQJqZmZkZmYhAzczMzExXiUAAAAAAgBWKQDMzMzOz04pAZmZmZuaRi0CamZmZGVCMQM3MzMxMDo1AAAAAAIDMjUAzMzMzs4qOQGZmZmbmSI9A\",\"dtype\":\"float64\",\"shape\":[75]}}},\"id\":\"a4e20cb9-bfb3-4036-8925-173ddd1157a2\",\"type\":\"ColumnDataSource\"},{\"attributes\":{},\"id\":\"30104668-d128-4e02-b9de-db95ff497045\",\"type\":\"PanTool\"},{\"attributes\":{},\"id\":\"ba1d1f68-d22a-4d39-8488-6cb28e721b6e\",\"type\":\"HelpTool\"},{\"attributes\":{\"source\":{\"id\":\"4fb82096-df51-47d2-8990-0a543417c458\",\"type\":\"ColumnDataSource\"}},\"id\":\"746a9389-65d9-4504-bf2b-e345882a8e46\",\"type\":\"CDSView\"},{\"attributes\":{\"line_color\":\"#4daf4a\",\"line_width\":1.5,\"x\":{\"field\":\"x\"},\"y\":{\"field\":\"y\"}},\"id\":\"ee0b0852-1051-42ca-b37b-00ede722ffac\",\"type\":\"Line\"},{\"attributes\":{\"overlay\":{\"id\":\"49c13bad-934b-40b4-af11-4cecea5df438\",\"type\":\"BoxAnnotation\"}},\"id\":\"2a0d5a3e-4b93-454a-8000-cac92e262b48\",\"type\":\"BoxZoomTool\"},{\"attributes\":{\"ticker\":null},\"id\":\"81bad9c8-0710-4955-836c-c3db7ab5afe3\",\"type\":\"LogTickFormatter\"},{\"attributes\":{\"data_source\":{\"id\":\"a4e20cb9-bfb3-4036-8925-173ddd1157a2\",\"type\":\"ColumnDataSource\"},\"glyph\":{\"id\":\"ee0b0852-1051-42ca-b37b-00ede722ffac\",\"type\":\"Line\"},\"hover_glyph\":null,\"muted_glyph\":null,\"nonselection_glyph\":{\"id\":\"54ed3ef2-dbb6-4188-a8e7-f4669f3e9a67\",\"type\":\"Line\"},\"selection_glyph\":null,\"view\":{\"id\":\"d99557d8-7679-4471-b668-fc366274b418\",\"type\":\"CDSView\"}},\"id\":\"c5c320c6-11ed-4bd7-9053-a7626bc0c5aa\",\"type\":\"GlyphRenderer\"},{\"attributes\":{\"callback\":null,\"column_names\":[\"x\",\"y\"],\"data\":{\"x\":{\"__ndarray__\":\"A+KKyNF4xT8f/Lzfd6fIPzf7TksGWtA/4iBVVRvp1D+LxmB7Jr3ZP49nio6a4t4/fGVwwx8Z4j+17xAaT8HkP7JdP97lVec/KI3m+paz6T+JRG+ZXbDrP2jyTZInJ+0/jylROJ3r7T8UuM/hKVDtP1FnmIDU3uo/f2he/fx85z/rkiwBIx3kP5hhTkaFSeE/t1EoF3oB3z8Dh9AAV0TeP6k13HwIceA/fIaswYbO3z+BWvqZlmjZP/Ztrhfq3tM/hvTC+Dmvzz9Sxy6YqE7JP/kYqmlmBcQ/MAk1LDRjwD/xXI0eMAm9P1fbC54YuLk/0GZFSuE/tT8+lNh14DOwP448Er/awKo/SpEPj8Axqj9QqyG2VdaqPw/x0yxy46w/3wi63f89rj/IhvjAmqOsP1xqMkpPcak/Isa4xFFPpj8LG17hxR+jPwfPevS4uJ8/YT19fMe6mD9YEY2ihHqQP3zf8xGP3ng/L5LhQ1/vZD/EGXtdd1GFP837STu1MJU/E2kNIalqnT+NudqeOzOiP4Ys3kzIVKU/pEaM/S85qD+Z3PC2QfSqP2a7OSrPj60/QVL6CYIHsD88ztacCzmxP8H0wJe8UbI/ulBEn6ZRsz+cQr9MuS+0PxCLA+eL5rQ/y1ZAGk90tT9aEzAQTd+1P8TJWsLkLrY/I49miLButj9TY8/M86y2PwQRjZiw+bY/oPRUfqhktz/SPN/Oit63PxD7vw1qNLg/C8Ki9Jrgtz+0AYL4WYa2P9zY0H6MYrQ/LTzYscL6sT8w7IOe6COvP7HF3Jyu56k/\",\"dtype\":\"float64\",\"shape\":[75]},\"y\":{\"__ndarray__\":\"GhExyth1ND/Sv8nbtpRIP2vylNV0PVE/aTum7souWD/At0SJ8fVgPw3Iuahxymc/MSNhhJWvcD/bTfBN02d3P2zb5nxnaoA/CD5h5MAGhz8NmeH1TyaQP+zrCsc9p5Y/LbKd76fGnz/bLW5ISEmmPww9YvTcQq8/JV2OstnstT8Er5Y7M8G+P0c+r3jqkcU/5h99k6ZBzj88bCIzFzjVP4enV8oyxN0//yH99nXg5D8qOpLLf0jtP5kqGJXUifQ/c9cS8kHP/D+/DpwzojQEQIEmwoanVwxA4lgXt9HgE0BSSZ2AJuIbQAMJih9jjiNA5q4l5INuK0AwTKYKRj0zQNv5fmq8/DpAaCJseHrtQkB/+zpwzoxKQM3MzMzMeFJAZmZmZmZqWEAAAAAAAFxeQM3MzMzMJmJAmpmZmZkfZUBmZmZmZhhoQDMzMzMzEWtAAAAAAAAKbkBmZmZmZoFwQM3MzMzM/XFAMzMzMzN6c0CamZmZmfZ0QAAAAAAAc3ZAZmZmZmbvd0DNzMzMzGt5QDMzMzMz6HpAmpmZmZlkfEAAAAAAAOF9QGZmZmZmXX9AZmZmZuZsgECamZmZGSuBQM3MzMxM6YFAAAAAAICngkAzMzMzs2WDQGZmZmbmI4RAmpmZmRnihEDNzMzMTKCFQAAAAACAXoZAMzMzM7Mch0BmZmZm5tqHQJqZmZkZmYhAzczMzExXiUAAAAAAgBWKQDMzMzOz04pAZmZmZuaRi0CamZmZGVCMQM3MzMxMDo1AAAAAAIDMjUAzMzMzs4qOQGZmZmbmSI9A\",\"dtype\":\"float64\",\"shape\":[75]}}},\"id\":\"a2c63614-fadc-4b25-a9d6-7c62792e08ad\",\"type\":\"ColumnDataSource\"},{\"attributes\":{\"line_alpha\":0.1,\"line_color\":\"#1f77b4\",\"line_width\":1.5,\"x\":{\"field\":\"x\"},\"y\":{\"field\":\"y\"}},\"id\":\"54ed3ef2-dbb6-4188-a8e7-f4669f3e9a67\",\"type\":\"Line\"},{\"attributes\":{\"fill_alpha\":{\"value\":0.7},\"fill_color\":{\"value\":\"#4daf4a\"},\"line_alpha\":{\"value\":0.7},\"line_color\":{\"value\":\"#4daf4a\"},\"x\":{\"field\":\"x\"},\"y\":{\"field\":\"y\"}},\"id\":\"4b38df52-249c-46a6-82f7-baa55be34dcc\",\"type\":\"Circle\"},{\"attributes\":{\"source\":{\"id\":\"a4e20cb9-bfb3-4036-8925-173ddd1157a2\",\"type\":\"ColumnDataSource\"}},\"id\":\"d99557d8-7679-4471-b668-fc366274b418\",\"type\":\"CDSView\"},{\"attributes\":{\"fill_alpha\":{\"value\":0.7},\"fill_color\":{\"value\":\"#984ea3\"},\"line_alpha\":{\"value\":0.7},\"line_color\":{\"value\":\"#984ea3\"},\"x\":{\"field\":\"x\"},\"y\":{\"field\":\"y\"}},\"id\":\"1b65597b-697a-46fb-97ac-a7d78556b419\",\"type\":\"Square\"},{\"attributes\":{\"data_source\":{\"id\":\"a2c63614-fadc-4b25-a9d6-7c62792e08ad\",\"type\":\"ColumnDataSource\"},\"glyph\":{\"id\":\"10e5e07b-b3a4-4ecd-b448-3dbda52a566b\",\"type\":\"Line\"},\"hover_glyph\":null,\"muted_glyph\":null,\"nonselection_glyph\":{\"id\":\"d6531f57-bf3c-49a6-a4af-881ee0da5372\",\"type\":\"Line\"},\"selection_glyph\":null,\"view\":{\"id\":\"880b3b3e-5e01-4cbb-81bd-9dba432c1d3e\",\"type\":\"CDSView\"}},\"id\":\"8d84b14d-2200-404d-8b3f-61626fff6d17\",\"type\":\"GlyphRenderer\"},{\"attributes\":{\"fill_alpha\":{\"value\":0.1},\"fill_color\":{\"value\":\"#1f77b4\"},\"line_alpha\":{\"value\":0.1},\"line_color\":{\"value\":\"#1f77b4\"},\"x\":{\"field\":\"x\"},\"y\":{\"field\":\"y\"}},\"id\":\"c59ed405-165c-4e02-9567-fbe375fabbb4\",\"type\":\"Square\"},{\"attributes\":{\"callback\":null,\"end\":0.9440516293576999,\"start\":0.0219575954123},\"id\":\"09236fdb-6e17-441d-85b8-b6c6a6eb081f\",\"type\":\"Range1d\"},{\"attributes\":{\"data_source\":{\"id\":\"706c66a1-3b3e-4bd0-ad6e-991e20619b53\",\"type\":\"ColumnDataSource\"},\"glyph\":{\"id\":\"4b38df52-249c-46a6-82f7-baa55be34dcc\",\"type\":\"Circle\"},\"hover_glyph\":null,\"muted_glyph\":null,\"nonselection_glyph\":{\"id\":\"5480f0f1-37c6-414f-a722-74da6b7447c0\",\"type\":\"Circle\"},\"selection_glyph\":null,\"view\":{\"id\":\"8ecee062-b734-40e3-a21d-93cf93c09d25\",\"type\":\"CDSView\"}},\"id\":\"a3c43de1-80af-49a0-889f-29e41d69b129\",\"type\":\"GlyphRenderer\"},{\"attributes\":{\"source\":{\"id\":\"d2a1b280-1ad6-4c90-becd-ccd09fbadfdc\",\"type\":\"ColumnDataSource\"}},\"id\":\"3dd1bacc-0db5-4626-80ee-43cf63c959d5\",\"type\":\"CDSView\"},{\"attributes\":{},\"id\":\"8ac53ad9-7c08-4685-9021-205be577fa6d\",\"type\":\"LinearScale\"},{\"attributes\":{\"line_alpha\":0.6,\"line_color\":\"#984ea3\",\"line_width\":3,\"x\":{\"field\":\"x\"},\"y\":{\"field\":\"y\"}},\"id\":\"10e5e07b-b3a4-4ecd-b448-3dbda52a566b\",\"type\":\"Line\"},{\"attributes\":{\"line_alpha\":0.1,\"line_color\":\"#1f77b4\",\"line_width\":3,\"x\":{\"field\":\"x\"},\"y\":{\"field\":\"y\"}},\"id\":\"d6531f57-bf3c-49a6-a4af-881ee0da5372\",\"type\":\"Line\"},{\"attributes\":{},\"id\":\"5ff3bd2b-181d-4f7f-9c85-467ea44b38e1\",\"type\":\"BasicTicker\"},{\"attributes\":{},\"id\":\"1cdfdc65-c30e-4b28-ac92-ae58197ad1c6\",\"type\":\"BasicTicker\"},{\"attributes\":{\"source\":{\"id\":\"a2c63614-fadc-4b25-a9d6-7c62792e08ad\",\"type\":\"ColumnDataSource\"}},\"id\":\"880b3b3e-5e01-4cbb-81bd-9dba432c1d3e\",\"type\":\"CDSView\"},{\"attributes\":{\"plot\":{\"id\":\"ca7c0da4-7766-4216-893b-afcf08a07524\",\"subtype\":\"Figure\",\"type\":\"Plot\"},\"ticker\":{\"id\":\"1cdfdc65-c30e-4b28-ac92-ae58197ad1c6\",\"type\":\"BasicTicker\"}},\"id\":\"6d6d397c-cbcf-4672-903c-ee92116ce806\",\"type\":\"Grid\"},{\"attributes\":{\"items\":[{\"id\":\"9a4fbf78-0d06-4fb9-9722-974d056a3831\",\"type\":\"LegendItem\"},{\"id\":\"e97aab1a-bbf4-43f6-bd12-4aba862f6a20\",\"type\":\"LegendItem\"},{\"id\":\"90f69083-202c-433e-918c-d84f8dee1679\",\"type\":\"LegendItem\"}],\"label_text_font_size\":{\"value\":\"8pt\"},\"location\":[10,-30],\"plot\":{\"id\":\"df3954ec-f267-4d99-adb9-5d1bdb16ba22\",\"subtype\":\"Figure\",\"type\":\"Plot\"}},\"id\":\"dfd34f60-cdb0-4ec7-82db-65cac96170e8\",\"type\":\"Legend\"},{\"attributes\":{\"below\":[{\"id\":\"4f9417aa-6524-4aba-9aab-d106f85675eb\",\"type\":\"LinearAxis\"}],\"left\":[{\"id\":\"da3dc791-29b3-4ff3-a8e7-86459ed9ca56\",\"type\":\"LinearAxis\"}],\"plot_height\":500,\"plot_width\":400,\"renderers\":[{\"id\":\"4f9417aa-6524-4aba-9aab-d106f85675eb\",\"type\":\"LinearAxis\"},{\"id\":\"6d6d397c-cbcf-4672-903c-ee92116ce806\",\"type\":\"Grid\"},{\"id\":\"da3dc791-29b3-4ff3-a8e7-86459ed9ca56\",\"type\":\"LinearAxis\"},{\"id\":\"1202b2d3-3bd3-4a20-b5f7-f64ae8e51c48\",\"type\":\"Grid\"},{\"id\":\"2fcc467b-c307-4c9a-a2e7-188421a76353\",\"type\":\"BoxAnnotation\"},{\"id\":\"1d930636-cdc1-4839-8c50-31ee32445718\",\"type\":\"GlyphRenderer\"},{\"id\":\"a3c43de1-80af-49a0-889f-29e41d69b129\",\"type\":\"GlyphRenderer\"},{\"id\":\"3f8ff35f-5787-4282-899d-5d4d6343a808\",\"type\":\"GlyphRenderer\"},{\"id\":\"25192107-0c2d-4ec4-873f-562840e6fe4c\",\"type\":\"GlyphRenderer\"},{\"id\":\"76385aa2-51aa-437d-b01d-8243aea47dd0\",\"type\":\"GlyphRenderer\"}],\"title\":{\"id\":\"28ff0bb3-8640-4aa9-b736-829baeead049\",\"type\":\"Title\"},\"toolbar\":{\"id\":\"441f099f-fff9-41cd-a276-0ec69b4975f2\",\"type\":\"Toolbar\"},\"toolbar_location\":null,\"x_range\":{\"id\":\"43f4cd11-62a9-4547-9da0-5ac9b5711546\",\"type\":\"Range1d\"},\"x_scale\":{\"id\":\"8ac53ad9-7c08-4685-9021-205be577fa6d\",\"type\":\"LinearScale\"},\"y_range\":{\"id\":\"ce7e573d-c45f-4e12-9b2e-55f0ac2e2ca7\",\"type\":\"Range1d\"},\"y_scale\":{\"id\":\"3c4720c5-6b26-4e8a-b7ad-3bf942b7be1f\",\"type\":\"LinearScale\"}},\"id\":\"ca7c0da4-7766-4216-893b-afcf08a07524\",\"subtype\":\"Figure\",\"type\":\"Plot\"},{\"attributes\":{\"children\":[{\"id\":\"2741fd02-2150-4e39-a0bd-dd095340dca8\",\"type\":\"ToolbarBox\"},{\"id\":\"79db9686-c80a-4e58-a093-bd1942ea2c36\",\"type\":\"Column\"}]},\"id\":\"b208d07a-f414-42fd-a342-2e4f4681e6e9\",\"type\":\"Column\"},{\"attributes\":{\"axis_label\":\"cooling rate [K/day]\",\"formatter\":{\"id\":\"325b1d22-2dff-4975-9e9e-3606426f42c7\",\"type\":\"BasicTickFormatter\"},\"plot\":{\"id\":\"ca7c0da4-7766-4216-893b-afcf08a07524\",\"subtype\":\"Figure\",\"type\":\"Plot\"},\"ticker\":{\"id\":\"1cdfdc65-c30e-4b28-ac92-ae58197ad1c6\",\"type\":\"BasicTicker\"}},\"id\":\"4f9417aa-6524-4aba-9aab-d106f85675eb\",\"type\":\"LinearAxis\"},{\"attributes\":{\"toolbar\":{\"id\":\"9807303e-c6cb-46db-af86-de7941418b65\",\"type\":\"ProxyToolbar\"},\"toolbar_location\":\"above\"},\"id\":\"2741fd02-2150-4e39-a0bd-dd095340dca8\",\"type\":\"ToolbarBox\"},{\"attributes\":{\"active_drag\":\"auto\",\"active_inspect\":\"auto\",\"active_scroll\":\"auto\",\"active_tap\":\"auto\",\"tools\":[{\"id\":\"6b4d2a00-0efa-4509-96a4-0d4e92f02e6e\",\"type\":\"PanTool\"},{\"id\":\"630e8ed9-cb91-4fd8-a769-192e1154c614\",\"type\":\"WheelZoomTool\"},{\"id\":\"93e67ba1-da8a-4eae-b362-94caaeecdb9f\",\"type\":\"BoxZoomTool\"},{\"id\":\"acf8db84-3e8c-4a97-a604-08d9fcadee60\",\"type\":\"SaveTool\"},{\"id\":\"fe9500c3-08c4-4c94-9ed2-2c15f1d7ce43\",\"type\":\"ResetTool\"},{\"id\":\"b6bdf6f4-dd54-4360-a216-0b0aeb59cda3\",\"type\":\"HelpTool\"}]},\"id\":\"441f099f-fff9-41cd-a276-0ec69b4975f2\",\"type\":\"Toolbar\"},{\"attributes\":{\"axis_label\":\"pressure [mb]\",\"formatter\":{\"id\":\"975a07c8-5076-4055-8bec-6f1e4bc71b4d\",\"type\":\"BasicTickFormatter\"},\"plot\":{\"id\":\"ca7c0da4-7766-4216-893b-afcf08a07524\",\"subtype\":\"Figure\",\"type\":\"Plot\"},\"ticker\":{\"id\":\"5ff3bd2b-181d-4f7f-9c85-467ea44b38e1\",\"type\":\"BasicTicker\"}},\"id\":\"da3dc791-29b3-4ff3-a8e7-86459ed9ca56\",\"type\":\"LinearAxis\"},{\"attributes\":{\"callback\":null,\"end\":0.01,\"start\":1020},\"id\":\"44e3754f-f2f6-4cb0-a494-42522b571efe\",\"type\":\"Range1d\"},{\"attributes\":{\"label\":{\"value\":\"CLIRAD `coolr_bands`\"},\"renderers\":[{\"id\":\"952e6f9b-f666-4150-82d1-8db4dd7dd0f8\",\"type\":\"GlyphRenderer\"}]},\"id\":\"9a4fbf78-0d06-4fb9-9722-974d056a3831\",\"type\":\"LegendItem\"},{\"attributes\":{\"children\":[{\"id\":\"fc2382f7-c8eb-4a16-af16-1aa0a26ebd32\",\"type\":\"Row\"}]},\"id\":\"79db9686-c80a-4e58-a093-bd1942ea2c36\",\"type\":\"Column\"},{\"attributes\":{\"bottom_units\":\"screen\",\"fill_alpha\":{\"value\":0.5},\"fill_color\":{\"value\":\"lightgrey\"},\"left_units\":\"screen\",\"level\":\"overlay\",\"line_alpha\":{\"value\":1.0},\"line_color\":{\"value\":\"black\"},\"line_dash\":[4,4],\"line_width\":{\"value\":2},\"plot\":null,\"render_mode\":\"css\",\"right_units\":\"screen\",\"top_units\":\"screen\"},\"id\":\"49c13bad-934b-40b4-af11-4cecea5df438\",\"type\":\"BoxAnnotation\"},{\"attributes\":{\"line_color\":\"#4daf4a\",\"line_width\":1.5,\"x\":{\"field\":\"x\"},\"y\":{\"field\":\"y\"}},\"id\":\"a7a5fc81-8d22-468c-860f-7e958505734e\",\"type\":\"Line\"},{\"attributes\":{\"source\":{\"id\":\"706c66a1-3b3e-4bd0-ad6e-991e20619b53\",\"type\":\"ColumnDataSource\"}},\"id\":\"8ecee062-b734-40e3-a21d-93cf93c09d25\",\"type\":\"CDSView\"},{\"attributes\":{\"overlay\":{\"id\":\"2fcc467b-c307-4c9a-a2e7-188421a76353\",\"type\":\"BoxAnnotation\"}},\"id\":\"93e67ba1-da8a-4eae-b362-94caaeecdb9f\",\"type\":\"BoxZoomTool\"},{\"attributes\":{\"children\":[{\"id\":\"ca7c0da4-7766-4216-893b-afcf08a07524\",\"subtype\":\"Figure\",\"type\":\"Plot\"},{\"id\":\"df3954ec-f267-4d99-adb9-5d1bdb16ba22\",\"subtype\":\"Figure\",\"type\":\"Plot\"}]},\"id\":\"fc2382f7-c8eb-4a16-af16-1aa0a26ebd32\",\"type\":\"Row\"},{\"attributes\":{},\"id\":\"4f4d076f-747d-4be9-bcfd-4f6dc5a9be00\",\"type\":\"WheelZoomTool\"},{\"attributes\":{},\"id\":\"3c4720c5-6b26-4e8a-b7ad-3bf942b7be1f\",\"type\":\"LinearScale\"},{\"attributes\":{\"dimension\":1,\"plot\":{\"id\":\"ca7c0da4-7766-4216-893b-afcf08a07524\",\"subtype\":\"Figure\",\"type\":\"Plot\"},\"ticker\":{\"id\":\"5ff3bd2b-181d-4f7f-9c85-467ea44b38e1\",\"type\":\"BasicTicker\"}},\"id\":\"1202b2d3-3bd3-4a20-b5f7-f64ae8e51c48\",\"type\":\"Grid\"},{\"attributes\":{\"line_alpha\":0.6,\"line_color\":\"#e41a1c\",\"line_dash\":[6],\"line_width\":5,\"x\":{\"field\":\"x\"},\"y\":{\"field\":\"y\"}},\"id\":\"edf87526-f75f-46ef-96d7-dc04bd121aa7\",\"type\":\"Line\"},{\"attributes\":{},\"id\":\"3aae4033-44b8-4f5f-b867-76d5d5d43fe0\",\"type\":\"BasicTickFormatter\"},{\"attributes\":{\"bottom_units\":\"screen\",\"fill_alpha\":{\"value\":0.5},\"fill_color\":{\"value\":\"lightgrey\"},\"left_units\":\"screen\",\"level\":\"overlay\",\"line_alpha\":{\"value\":1.0},\"line_color\":{\"value\":\"black\"},\"line_dash\":[4,4],\"line_width\":{\"value\":2},\"plot\":null,\"render_mode\":\"css\",\"right_units\":\"screen\",\"top_units\":\"screen\"},\"id\":\"2fcc467b-c307-4c9a-a2e7-188421a76353\",\"type\":\"BoxAnnotation\"},{\"attributes\":{},\"id\":\"630e8ed9-cb91-4fd8-a769-192e1154c614\",\"type\":\"WheelZoomTool\"},{\"attributes\":{\"fill_alpha\":{\"value\":0.1},\"fill_color\":{\"value\":\"#1f77b4\"},\"line_alpha\":{\"value\":0.1},\"line_color\":{\"value\":\"#1f77b4\"},\"x\":{\"field\":\"x\"},\"y\":{\"field\":\"y\"}},\"id\":\"5480f0f1-37c6-414f-a722-74da6b7447c0\",\"type\":\"Circle\"},{\"attributes\":{},\"id\":\"b6bdf6f4-dd54-4360-a216-0b0aeb59cda3\",\"type\":\"HelpTool\"},{\"attributes\":{\"tools\":[{\"id\":\"6b4d2a00-0efa-4509-96a4-0d4e92f02e6e\",\"type\":\"PanTool\"},{\"id\":\"630e8ed9-cb91-4fd8-a769-192e1154c614\",\"type\":\"WheelZoomTool\"},{\"id\":\"93e67ba1-da8a-4eae-b362-94caaeecdb9f\",\"type\":\"BoxZoomTool\"},{\"id\":\"acf8db84-3e8c-4a97-a604-08d9fcadee60\",\"type\":\"SaveTool\"},{\"id\":\"fe9500c3-08c4-4c94-9ed2-2c15f1d7ce43\",\"type\":\"ResetTool\"},{\"id\":\"b6bdf6f4-dd54-4360-a216-0b0aeb59cda3\",\"type\":\"HelpTool\"},{\"id\":\"30104668-d128-4e02-b9de-db95ff497045\",\"type\":\"PanTool\"},{\"id\":\"4f4d076f-747d-4be9-bcfd-4f6dc5a9be00\",\"type\":\"WheelZoomTool\"},{\"id\":\"2a0d5a3e-4b93-454a-8000-cac92e262b48\",\"type\":\"BoxZoomTool\"},{\"id\":\"7f25d392-6df7-4474-8057-2f0459c78336\",\"type\":\"SaveTool\"},{\"id\":\"ed0a0783-de85-4a3b-b4a4-2cf45267737a\",\"type\":\"ResetTool\"},{\"id\":\"ba1d1f68-d22a-4d39-8488-6cb28e721b6e\",\"type\":\"HelpTool\"}]},\"id\":\"9807303e-c6cb-46db-af86-de7941418b65\",\"type\":\"ProxyToolbar\"},{\"attributes\":{},\"id\":\"acf8db84-3e8c-4a97-a604-08d9fcadee60\",\"type\":\"SaveTool\"},{\"attributes\":{\"label\":{\"value\":\"CRD\"},\"renderers\":[{\"id\":\"8b827f7d-0dad-4ff3-8554-cdb6ec27a064\",\"type\":\"GlyphRenderer\"},{\"id\":\"c5c320c6-11ed-4bd7-9053-a7626bc0c5aa\",\"type\":\"GlyphRenderer\"}]},\"id\":\"e97aab1a-bbf4-43f6-bd12-4aba862f6a20\",\"type\":\"LegendItem\"},{\"attributes\":{},\"id\":\"6b4d2a00-0efa-4509-96a4-0d4e92f02e6e\",\"type\":\"PanTool\"},{\"attributes\":{\"plot\":null,\"text\":\"Linear pressure scale\"},\"id\":\"28ff0bb3-8640-4aa9-b736-829baeead049\",\"type\":\"Title\"},{\"attributes\":{},\"id\":\"fe9500c3-08c4-4c94-9ed2-2c15f1d7ce43\",\"type\":\"ResetTool\"},{\"attributes\":{},\"id\":\"7f25d392-6df7-4474-8057-2f0459c78336\",\"type\":\"SaveTool\"},{\"attributes\":{},\"id\":\"ed0a0783-de85-4a3b-b4a4-2cf45267737a\",\"type\":\"ResetTool\"},{\"attributes\":{\"fill_alpha\":{\"value\":0.1},\"fill_color\":{\"value\":\"#1f77b4\"},\"line_alpha\":{\"value\":0.1},\"line_color\":{\"value\":\"#1f77b4\"},\"x\":{\"field\":\"x\"},\"y\":{\"field\":\"y\"}},\"id\":\"bc327f3d-4cdd-4399-bf36-2fd038e24ff5\",\"type\":\"Square\"},{\"attributes\":{\"callback\":null,\"column_names\":[\"x\",\"y\"],\"data\":{\"x\":{\"__ndarray__\":\"ZKhxDFQIzD9OP4/uc77OP0gZcQFoFNQ/vKbuZwQd2T8QTyPreGXeP9CUAKkL4OE/0lRw9AiA5D8cNIm0bPHmPz+GM2ThEOk/YcccV2W36j/rfA37HMPrP9f1j65nIuw/23lN1V7g6z+NYW/eD4rqP21ce3Yr8ec/c6I8d6s85T+Se/Rl7T/jP3vgnVtsA+I//gvj8khx4T9BGLKZx4rhP/wUruS2n+I/lUnsXhdT4T+7FVfPKKHaPxJujWN/NNQ/P2Vnl5CLzz9tpzFKZUTIP5kgdujsy8E/TfPQb0Zquj+ufOrmTwy2PyBLfyzNeLM/tIeQzzjIsD9nhpRsY1arPyY0sQ+eSKg/bmuC3e3QqD/IlA9B1eioPwOWgoyFw6g/mNSRohxsqD/OyMIFEKamP36pTvAVKaQ/NAowyVQDoj+IyPCl3r2fP3XNGY49NJs/4IVZ2jwdlj+XyCsuk4OPP9KbIN45I30/FLuJpJU3cj97AKlSVZaIP1IU0XcDQZY/NouMGLo1nj+Vqv5SUJuiP8FLAU2q1KU/AJxbRLvaqD8tQ8uj47arP7meWA+ubK4/TVrNRw1+sD+Z85E2g6+xP//bs05fxrI/XSKYHNe8sz99cGf03Yy0P1cz5DjtMrU/vAVoFPiutT9QhVZfEQe2P9vWMvPGRLY/mguj8/Z0tj/keo29FKe2PyhqGiix6rY/vGcYz4RMtz/IlPtc7sW3Pz9ZfepiF7g/+mmk8YC8tz9Q9znyy1a2P3UpzIBVI7Q/gK+aR/uosT8fjqZhlV6uPyfS0hwmCKk/\",\"dtype\":\"float64\",\"shape\":[75]},\"y\":{\"__ndarray__\":\"GhExyth1ND/Sv8nbtpRIP2vylNV0PVE/aTum7souWD/At0SJ8fVgPw3Iuahxymc/MSNhhJWvcD/bTfBN02d3P2zb5nxnaoA/CD5h5MAGhz8NmeH1TyaQP+zrCsc9p5Y/LbKd76fGnz/bLW5ISEmmPww9YvTcQq8/JV2OstnstT8Er5Y7M8G+P0c+r3jqkcU/5h99k6ZBzj88bCIzFzjVP4enV8oyxN0//yH99nXg5D8qOpLLf0jtP5kqGJXUifQ/c9cS8kHP/D+/DpwzojQEQIEmwoanVwxA4lgXt9HgE0BSSZ2AJuIbQAMJih9jjiNA5q4l5INuK0AwTKYKRj0zQNv5fmq8/DpAaCJseHrtQkB/+zpwzoxKQM3MzMzMeFJAZmZmZmZqWEAAAAAAAFxeQM3MzMzMJmJAmpmZmZkfZUBmZmZmZhhoQDMzMzMzEWtAAAAAAAAKbkBmZmZmZoFwQM3MzMzM/XFAMzMzMzN6c0CamZmZmfZ0QAAAAAAAc3ZAZmZmZmbvd0DNzMzMzGt5QDMzMzMz6HpAmpmZmZlkfEAAAAAAAOF9QGZmZmZmXX9AZmZmZuZsgECamZmZGSuBQM3MzMxM6YFAAAAAAICngkAzMzMzs2WDQGZmZmbmI4RAmpmZmRnihEDNzMzMTKCFQAAAAACAXoZAMzMzM7Mch0BmZmZm5tqHQJqZmZkZmYhAzczMzExXiUAAAAAAgBWKQDMzMzOz04pAZmZmZuaRi0CamZmZGVCMQM3MzMxMDo1AAAAAAIDMjUAzMzMzs4qOQGZmZmbmSI9A\",\"dtype\":\"float64\",\"shape\":[75]}}},\"id\":\"706c66a1-3b3e-4bd0-ad6e-991e20619b53\",\"type\":\"ColumnDataSource\"},{\"attributes\":{\"line_alpha\":0.1,\"line_color\":\"#1f77b4\",\"line_dash\":[6],\"line_width\":5,\"x\":{\"field\":\"x\"},\"y\":{\"field\":\"y\"}},\"id\":\"b6cd95f4-31d8-4b60-b723-e9e37620122d\",\"type\":\"Line\"},{\"attributes\":{\"line_alpha\":0.1,\"line_color\":\"#1f77b4\",\"line_dash\":[6],\"line_width\":5,\"x\":{\"field\":\"x\"},\"y\":{\"field\":\"y\"}},\"id\":\"c27d5cae-c6ae-4020-977d-c0f406983fec\",\"type\":\"Line\"},{\"attributes\":{\"source\":{\"id\":\"862ab632-9551-4ceb-8f78-c537aeead35b\",\"type\":\"ColumnDataSource\"}},\"id\":\"1aede9b9-b907-46f9-8744-a2c199032251\",\"type\":\"CDSView\"},{\"attributes\":{},\"id\":\"6716826a-85a4-49c9-9872-18076b92c298\",\"type\":\"LogScale\"},{\"attributes\":{\"line_alpha\":0.6,\"line_color\":\"#984ea3\",\"line_width\":3,\"x\":{\"field\":\"x\"},\"y\":{\"field\":\"y\"}},\"id\":\"d0d2d263-5b46-4816-b639-63e03f0d1069\",\"type\":\"Line\"},{\"attributes\":{},\"id\":\"c8a8ebcc-3d4b-4274-ac54-ea5792b3e002\",\"type\":\"LinearScale\"},{\"attributes\":{\"axis_label\":\"cooling rate [K/day]\",\"formatter\":{\"id\":\"3aae4033-44b8-4f5f-b867-76d5d5d43fe0\",\"type\":\"BasicTickFormatter\"},\"plot\":{\"id\":\"df3954ec-f267-4d99-adb9-5d1bdb16ba22\",\"subtype\":\"Figure\",\"type\":\"Plot\"},\"ticker\":{\"id\":\"6de4634f-8e4c-45d0-8e50-32faa96d569e\",\"type\":\"BasicTicker\"}},\"id\":\"74ef7830-4e07-4a08-ad00-d32c6f2b413a\",\"type\":\"LinearAxis\"},{\"attributes\":{\"data_source\":{\"id\":\"4fb82096-df51-47d2-8990-0a543417c458\",\"type\":\"ColumnDataSource\"},\"glyph\":{\"id\":\"d864e5fe-02d9-4241-82e5-bef02057c76c\",\"type\":\"Line\"},\"hover_glyph\":null,\"muted_glyph\":null,\"nonselection_glyph\":{\"id\":\"b6cd95f4-31d8-4b60-b723-e9e37620122d\",\"type\":\"Line\"},\"selection_glyph\":null,\"view\":{\"id\":\"746a9389-65d9-4504-bf2b-e345882a8e46\",\"type\":\"CDSView\"}},\"id\":\"952e6f9b-f666-4150-82d1-8db4dd7dd0f8\",\"type\":\"GlyphRenderer\"},{\"attributes\":{\"below\":[{\"id\":\"74ef7830-4e07-4a08-ad00-d32c6f2b413a\",\"type\":\"LinearAxis\"}],\"left\":[{\"id\":\"485c6f37-75e1-40b6-a748-c7e23db349cf\",\"type\":\"LogAxis\"}],\"plot_height\":500,\"plot_width\":560,\"renderers\":[{\"id\":\"74ef7830-4e07-4a08-ad00-d32c6f2b413a\",\"type\":\"LinearAxis\"},{\"id\":\"2a36dd7f-119f-4408-9d6f-e2d290131441\",\"type\":\"Grid\"},{\"id\":\"485c6f37-75e1-40b6-a748-c7e23db349cf\",\"type\":\"LogAxis\"},{\"id\":\"07db2dd1-de7c-491c-87d5-e714352a08e7\",\"type\":\"Grid\"},{\"id\":\"49c13bad-934b-40b4-af11-4cecea5df438\",\"type\":\"BoxAnnotation\"},{\"id\":\"952e6f9b-f666-4150-82d1-8db4dd7dd0f8\",\"type\":\"GlyphRenderer\"},{\"id\":\"8b827f7d-0dad-4ff3-8554-cdb6ec27a064\",\"type\":\"GlyphRenderer\"},{\"id\":\"c5c320c6-11ed-4bd7-9053-a7626bc0c5aa\",\"type\":\"GlyphRenderer\"},{\"id\":\"dc753914-b568-4c75-af68-ae19ffbf90ee\",\"type\":\"GlyphRenderer\"},{\"id\":\"8d84b14d-2200-404d-8b3f-61626fff6d17\",\"type\":\"GlyphRenderer\"},{\"id\":\"dfd34f60-cdb0-4ec7-82db-65cac96170e8\",\"type\":\"Legend\"}],\"right\":[{\"id\":\"dfd34f60-cdb0-4ec7-82db-65cac96170e8\",\"type\":\"Legend\"}],\"title\":{\"id\":\"8bae21fe-45c4-4c15-bbb1-02007a557037\",\"type\":\"Title\"},\"toolbar\":{\"id\":\"eaab1652-aaa5-4abe-be5a-1ad596dd3188\",\"type\":\"Toolbar\"},\"toolbar_location\":null,\"x_range\":{\"id\":\"09236fdb-6e17-441d-85b8-b6c6a6eb081f\",\"type\":\"Range1d\"},\"x_scale\":{\"id\":\"c8a8ebcc-3d4b-4274-ac54-ea5792b3e002\",\"type\":\"LinearScale\"},\"y_range\":{\"id\":\"44e3754f-f2f6-4cb0-a494-42522b571efe\",\"type\":\"Range1d\"},\"y_scale\":{\"id\":\"6716826a-85a4-49c9-9872-18076b92c298\",\"type\":\"LogScale\"}},\"id\":\"df3954ec-f267-4d99-adb9-5d1bdb16ba22\",\"subtype\":\"Figure\",\"type\":\"Plot\"},{\"attributes\":{\"callback\":null,\"column_names\":[\"x\",\"y\"],\"data\":{\"x\":{\"__ndarray__\":\"WvCiryDNuz/VMoQp67PAPxJujWN/tMc/AkuNVAh5zz/LEr5z/wPUP/kmNOYBrtg//OZZpOSw3T/LS0BEUX3hPzcnYWxCNuQ/OJgT1dfq5j+alQ5Sx3XpP72pSIWxpes/XI6ZPEw47T97xENz+F/tP/M0BdeBeOs/x65hRKoh6D9jvUm6A0jkPyBtkAcqvOA/gD42btbF3D/1KAHWT6TbP3Dmup07id4/BYjlQw5Z3j//5HMX9u7YPyrZuYLQ7tM/vblLJMka0D+cPjNvcsvJP3O4VnvYi8Q/q+y7IvjfwD/w6cEPlPy9P4sHKbK1Qro/uTF6xKFktT90FNHDkQawP6AIub1qhqk/Kwh24MLYpz99PsXPUdeoP6Rybm6nCKw/Yw6tDrOprT+YnFmZkNmrP3mXsb/xV6g/tgbaECgKpT+gCX9MjOGhP+MnOyFnpp0/1xCv+kIZlz9K7kimV4uOP1VoYGhV0nU/5voefH8/YD8aUCmWZvGDPx0tGKYAYpQ/uceflomcnD/ECJ+19MuhP0yWwNGB8aQ/mNC1E0vopz/OWSpl1cSqP28BBiHXiK0/5wbEnWsVsD/zCvUI9l6xP2pY7CwDmbI/mbjjuhq6sz/BMPEr/Le0P01rxq5ci7U/HxDUaPMxtj+0FHdZn7S2P9wvpGXSFrc/Xov/A/hjtz+IDlHqaqm3P+wiGhft9bc/K/g4liFVuD82DCbLN8W4P3KWAYN+CLk/NZvbRReiuD/F9FLr3Di3Py0fmI/jCLU/IerRY3qTsj9Inm80FRywP2XJR0sY36o/\",\"dtype\":\"float64\",\"shape\":[75]},\"y\":{\"__ndarray__\":\"S/O/Q+51ND/Sv8nbtpRIP2vylNV0PVE/aTum7souWD/At0SJ8fVgPw3Iuahxymc/MSNhhJWvcD/bTfBN02d3P2zb5nxnaoA/CD5h5MAGhz8NmeH1TyaQP+zrCsc9p5Y/LbKd76fGnz/bLW5ISEmmPww9YvTcQq8/JV2OstnstT8Er5Y7M8G+P0c+r3jqkcU/5h99k6ZBzj88bCIzFzjVP4enV8oyxN0//yH99nXg5D8qOpLLf0jtP5kqGJXUifQ/c9cS8kHP/D+/DpwzojQEQIEmwoanVwxA4lgXt9HgE0BSSZ2AJuIbQAMJih9jjiNA5q4l5INuK0AwTKYKRj0zQNv5fmq8/DpAaCJseHrtQkB/+zpwzoxKQM3MzMzMeFJAZmZmZmZqWEAAAAAAAFxeQM3MzMzMJmJAmpmZmZkfZUBmZmZmZhhoQDMzMzMzEWtAAAAAAAAKbkBmZmZmZoFwQM3MzMzM/XFAMzMzMzN6c0CamZmZmfZ0QAAAAAAAc3ZAZmZmZmbvd0DNzMzMzGt5QDMzMzMz6HpAmpmZmZlkfEAAAAAAAOF9QGZmZmZmXX9AZmZmZuZsgECamZmZGSuBQM3MzMxM6YFAAAAAAICngkAzMzMzs2WDQGZmZmbmI4RAmpmZmRnihEDNzMzMTKCFQAAAAACAXoZAMzMzM7Mch0BmZmZm5tqHQJqZmZkZmYhAzczMzExXiUAAAAAAgBWKQDMzMzOz04pAZmZmZuaRi0CamZmZGVCMQM3MzMxMDo1AAAAAAIDMjUAzMzMzs4qOQGZmZmbmSI9A\",\"dtype\":\"float64\",\"shape\":[75]}}},\"id\":\"2c2308de-8f08-4ac5-a45a-3fada7af8e81\",\"type\":\"ColumnDataSource\"},{\"attributes\":{\"label\":{\"value\":\"WGT igg=10 wgt_flux=2\"},\"renderers\":[{\"id\":\"dc753914-b568-4c75-af68-ae19ffbf90ee\",\"type\":\"GlyphRenderer\"},{\"id\":\"8d84b14d-2200-404d-8b3f-61626fff6d17\",\"type\":\"GlyphRenderer\"}]},\"id\":\"90f69083-202c-433e-918c-d84f8dee1679\",\"type\":\"LegendItem\"},{\"attributes\":{\"plot\":null,\"text\":\"Log pressure scale\"},\"id\":\"8bae21fe-45c4-4c15-bbb1-02007a557037\",\"type\":\"Title\"},{\"attributes\":{\"source\":{\"id\":\"9de1c613-d810-4abd-af18-a7c8381d4397\",\"type\":\"ColumnDataSource\"}},\"id\":\"cff5e40f-b801-4d7c-93c8-984db7dfa50e\",\"type\":\"CDSView\"},{\"attributes\":{\"axis_label\":\"pressure [mb]\",\"formatter\":{\"id\":\"81bad9c8-0710-4955-836c-c3db7ab5afe3\",\"type\":\"LogTickFormatter\"},\"plot\":{\"id\":\"df3954ec-f267-4d99-adb9-5d1bdb16ba22\",\"subtype\":\"Figure\",\"type\":\"Plot\"},\"ticker\":{\"id\":\"1448fced-4b30-4bd0-afd2-7670177d666a\",\"type\":\"LogTicker\"}},\"id\":\"485c6f37-75e1-40b6-a748-c7e23db349cf\",\"type\":\"LogAxis\"},{\"attributes\":{\"plot\":{\"id\":\"df3954ec-f267-4d99-adb9-5d1bdb16ba22\",\"subtype\":\"Figure\",\"type\":\"Plot\"},\"ticker\":{\"id\":\"6de4634f-8e4c-45d0-8e50-32faa96d569e\",\"type\":\"BasicTicker\"}},\"id\":\"2a36dd7f-119f-4408-9d6f-e2d290131441\",\"type\":\"Grid\"},{\"attributes\":{\"data_source\":{\"id\":\"ee547e60-c9a9-4fa3-a505-a4de9e3b783d\",\"type\":\"ColumnDataSource\"},\"glyph\":{\"id\":\"a7a5fc81-8d22-468c-860f-7e958505734e\",\"type\":\"Line\"},\"hover_glyph\":null,\"muted_glyph\":null,\"nonselection_glyph\":{\"id\":\"cb3f6953-5e51-43f8-84f1-10b5d9a72201\",\"type\":\"Line\"},\"selection_glyph\":null,\"view\":{\"id\":\"fd499b35-ad01-42f7-991c-6ca286837f9f\",\"type\":\"CDSView\"}},\"id\":\"3f8ff35f-5787-4282-899d-5d4d6343a808\",\"type\":\"GlyphRenderer\"},{\"attributes\":{},\"id\":\"325b1d22-2dff-4975-9e9e-3606426f42c7\",\"type\":\"BasicTickFormatter\"},{\"attributes\":{\"data_source\":{\"id\":\"9de1c613-d810-4abd-af18-a7c8381d4397\",\"type\":\"ColumnDataSource\"},\"glyph\":{\"id\":\"d9c6145c-f36d-45dd-9c48-c89f6f902475\",\"type\":\"Square\"},\"hover_glyph\":null,\"muted_glyph\":null,\"nonselection_glyph\":{\"id\":\"bc327f3d-4cdd-4399-bf36-2fd038e24ff5\",\"type\":\"Square\"},\"selection_glyph\":null,\"view\":{\"id\":\"cff5e40f-b801-4d7c-93c8-984db7dfa50e\",\"type\":\"CDSView\"}},\"id\":\"25192107-0c2d-4ec4-873f-562840e6fe4c\",\"type\":\"GlyphRenderer\"},{\"attributes\":{\"fill_alpha\":{\"value\":0.7},\"fill_color\":{\"value\":\"#984ea3\"},\"line_alpha\":{\"value\":0.7},\"line_color\":{\"value\":\"#984ea3\"},\"x\":{\"field\":\"x\"},\"y\":{\"field\":\"y\"}},\"id\":\"d9c6145c-f36d-45dd-9c48-c89f6f902475\",\"type\":\"Square\"},{\"attributes\":{\"data_source\":{\"id\":\"862ab632-9551-4ceb-8f78-c537aeead35b\",\"type\":\"ColumnDataSource\"},\"glyph\":{\"id\":\"d0d2d263-5b46-4816-b639-63e03f0d1069\",\"type\":\"Line\"},\"hover_glyph\":null,\"muted_glyph\":null,\"nonselection_glyph\":{\"id\":\"e64c29cd-7ea0-439b-8d0c-a0d20e9d14cf\",\"type\":\"Line\"},\"selection_glyph\":null,\"view\":{\"id\":\"1aede9b9-b907-46f9-8744-a2c199032251\",\"type\":\"CDSView\"}},\"id\":\"76385aa2-51aa-437d-b01d-8243aea47dd0\",\"type\":\"GlyphRenderer\"},{\"attributes\":{},\"id\":\"975a07c8-5076-4055-8bec-6f1e4bc71b4d\",\"type\":\"BasicTickFormatter\"},{\"attributes\":{\"callback\":null,\"end\":0.098743885578,\"start\":0.0010253786219999999},\"id\":\"43f4cd11-62a9-4547-9da0-5ac9b5711546\",\"type\":\"Range1d\"},{\"attributes\":{\"line_alpha\":0.1,\"line_color\":\"#1f77b4\",\"line_width\":3,\"x\":{\"field\":\"x\"},\"y\":{\"field\":\"y\"}},\"id\":\"e64c29cd-7ea0-439b-8d0c-a0d20e9d14cf\",\"type\":\"Line\"},{\"attributes\":{\"callback\":null,\"column_names\":[\"x\",\"y\"],\"data\":{\"x\":{\"__ndarray__\":\"A+KKyNF4xT8f/Lzfd6fIPzf7TksGWtA/4iBVVRvp1D+LxmB7Jr3ZP49nio6a4t4/fGVwwx8Z4j+17xAaT8HkP7JdP97lVec/KI3m+paz6T+JRG+ZXbDrP2jyTZInJ+0/jylROJ3r7T8UuM/hKVDtP1FnmIDU3uo/f2he/fx85z/rkiwBIx3kP5hhTkaFSeE/t1EoF3oB3z8Dh9AAV0TeP6k13HwIceA/fIaswYbO3z+BWvqZlmjZP/Ztrhfq3tM/hvTC+Dmvzz9Sxy6YqE7JP/kYqmlmBcQ/MAk1LDRjwD/xXI0eMAm9P1fbC54YuLk/0GZFSuE/tT8+lNh14DOwP448Er/awKo/SpEPj8Axqj9QqyG2VdaqPw/x0yxy46w/3wi63f89rj/IhvjAmqOsP1xqMkpPcak/Isa4xFFPpj8LG17hxR+jPwfPevS4uJ8/YT19fMe6mD9YEY2ihHqQP3zf8xGP3ng/L5LhQ1/vZD/EGXtdd1GFP837STu1MJU/E2kNIalqnT+NudqeOzOiP4Ys3kzIVKU/pEaM/S85qD+Z3PC2QfSqP2a7OSrPj60/QVL6CYIHsD88ztacCzmxP8H0wJe8UbI/ulBEn6ZRsz+cQr9MuS+0PxCLA+eL5rQ/y1ZAGk90tT9aEzAQTd+1P8TJWsLkLrY/I49miLButj9TY8/M86y2PwQRjZiw+bY/oPRUfqhktz/SPN/Oit63PxD7vw1qNLg/C8Ki9Jrgtz+0AYL4WYa2P9zY0H6MYrQ/LTzYscL6sT8w7IOe6COvP7HF3Jyu56k/\",\"dtype\":\"float64\",\"shape\":[75]},\"y\":{\"__ndarray__\":\"GhExyth1ND/Sv8nbtpRIP2vylNV0PVE/aTum7souWD/At0SJ8fVgPw3Iuahxymc/MSNhhJWvcD/bTfBN02d3P2zb5nxnaoA/CD5h5MAGhz8NmeH1TyaQP+zrCsc9p5Y/LbKd76fGnz/bLW5ISEmmPww9YvTcQq8/JV2OstnstT8Er5Y7M8G+P0c+r3jqkcU/5h99k6ZBzj88bCIzFzjVP4enV8oyxN0//yH99nXg5D8qOpLLf0jtP5kqGJXUifQ/c9cS8kHP/D+/DpwzojQEQIEmwoanVwxA4lgXt9HgE0BSSZ2AJuIbQAMJih9jjiNA5q4l5INuK0AwTKYKRj0zQNv5fmq8/DpAaCJseHrtQkB/+zpwzoxKQM3MzMzMeFJAZmZmZmZqWEAAAAAAAFxeQM3MzMzMJmJAmpmZmZkfZUBmZmZmZhhoQDMzMzMzEWtAAAAAAAAKbkBmZmZmZoFwQM3MzMzM/XFAMzMzMzN6c0CamZmZmfZ0QAAAAAAAc3ZAZmZmZmbvd0DNzMzMzGt5QDMzMzMz6HpAmpmZmZlkfEAAAAAAAOF9QGZmZmZmXX9AZmZmZuZsgECamZmZGSuBQM3MzMxM6YFAAAAAAICngkAzMzMzs2WDQGZmZmbmI4RAmpmZmRnihEDNzMzMTKCFQAAAAACAXoZAMzMzM7Mch0BmZmZm5tqHQJqZmZkZmYhAzczMzExXiUAAAAAAgBWKQDMzMzOz04pAZmZmZuaRi0CamZmZGVCMQM3MzMxMDo1AAAAAAIDMjUAzMzMzs4qOQGZmZmbmSI9A\",\"dtype\":\"float64\",\"shape\":[75]}}},\"id\":\"9de1c613-d810-4abd-af18-a7c8381d4397\",\"type\":\"ColumnDataSource\"},{\"attributes\":{\"callback\":null,\"column_names\":[\"x\",\"y\"],\"data\":{\"x\":{\"__ndarray__\":\"A+KKyNF4xT8f/Lzfd6fIPzf7TksGWtA/4iBVVRvp1D+LxmB7Jr3ZP49nio6a4t4/fGVwwx8Z4j+17xAaT8HkP7JdP97lVec/KI3m+paz6T+JRG+ZXbDrP2jyTZInJ+0/jylROJ3r7T8UuM/hKVDtP1FnmIDU3uo/f2he/fx85z/rkiwBIx3kP5hhTkaFSeE/t1EoF3oB3z8Dh9AAV0TeP6k13HwIceA/fIaswYbO3z+BWvqZlmjZP/Ztrhfq3tM/hvTC+Dmvzz9Sxy6YqE7JP/kYqmlmBcQ/MAk1LDRjwD/xXI0eMAm9P1fbC54YuLk/0GZFSuE/tT8+lNh14DOwP448Er/awKo/SpEPj8Axqj9QqyG2VdaqPw/x0yxy46w/3wi63f89rj/IhvjAmqOsP1xqMkpPcak/Isa4xFFPpj8LG17hxR+jPwfPevS4uJ8/YT19fMe6mD9YEY2ihHqQP3zf8xGP3ng/L5LhQ1/vZD/EGXtdd1GFP837STu1MJU/E2kNIalqnT+NudqeOzOiP4Ys3kzIVKU/pEaM/S85qD+Z3PC2QfSqP2a7OSrPj60/QVL6CYIHsD88ztacCzmxP8H0wJe8UbI/ulBEn6ZRsz+cQr9MuS+0PxCLA+eL5rQ/y1ZAGk90tT9aEzAQTd+1P8TJWsLkLrY/I49miLButj9TY8/M86y2PwQRjZiw+bY/oPRUfqhktz/SPN/Oit63PxD7vw1qNLg/C8Ki9Jrgtz+0AYL4WYa2P9zY0H6MYrQ/LTzYscL6sT8w7IOe6COvP7HF3Jyu56k/\",\"dtype\":\"float64\",\"shape\":[75]},\"y\":{\"__ndarray__\":\"GhExyth1ND/Sv8nbtpRIP2vylNV0PVE/aTum7souWD/At0SJ8fVgPw3Iuahxymc/MSNhhJWvcD/bTfBN02d3P2zb5nxnaoA/CD5h5MAGhz8NmeH1TyaQP+zrCsc9p5Y/LbKd76fGnz/bLW5ISEmmPww9YvTcQq8/JV2OstnstT8Er5Y7M8G+P0c+r3jqkcU/5h99k6ZBzj88bCIzFzjVP4enV8oyxN0//yH99nXg5D8qOpLLf0jtP5kqGJXUifQ/c9cS8kHP/D+/DpwzojQEQIEmwoanVwxA4lgXt9HgE0BSSZ2AJuIbQAMJih9jjiNA5q4l5INuK0AwTKYKRj0zQNv5fmq8/DpAaCJseHrtQkB/+zpwzoxKQM3MzMzMeFJAZmZmZmZqWEAAAAAAAFxeQM3MzMzMJmJAmpmZmZkfZUBmZmZmZhhoQDMzMzMzEWtAAAAAAAAKbkBmZmZmZoFwQM3MzMzM/XFAMzMzMzN6c0CamZmZmfZ0QAAAAAAAc3ZAZmZmZmbvd0DNzMzMzGt5QDMzMzMz6HpAmpmZmZlkfEAAAAAAAOF9QGZmZmZmXX9AZmZmZuZsgECamZmZGSuBQM3MzMxM6YFAAAAAAICngkAzMzMzs2WDQGZmZmbmI4RAmpmZmRnihEDNzMzMTKCFQAAAAACAXoZAMzMzM7Mch0BmZmZm5tqHQJqZmZkZmYhAzczMzExXiUAAAAAAgBWKQDMzMzOz04pAZmZmZuaRi0CamZmZGVCMQM3MzMxMDo1AAAAAAIDMjUAzMzMzs4qOQGZmZmbmSI9A\",\"dtype\":\"float64\",\"shape\":[75]}}},\"id\":\"862ab632-9551-4ceb-8f78-c537aeead35b\",\"type\":\"ColumnDataSource\"},{\"attributes\":{\"active_drag\":\"auto\",\"active_inspect\":\"auto\",\"active_scroll\":\"auto\",\"active_tap\":\"auto\",\"tools\":[{\"id\":\"30104668-d128-4e02-b9de-db95ff497045\",\"type\":\"PanTool\"},{\"id\":\"4f4d076f-747d-4be9-bcfd-4f6dc5a9be00\",\"type\":\"WheelZoomTool\"},{\"id\":\"2a0d5a3e-4b93-454a-8000-cac92e262b48\",\"type\":\"BoxZoomTool\"},{\"id\":\"7f25d392-6df7-4474-8057-2f0459c78336\",\"type\":\"SaveTool\"},{\"id\":\"ed0a0783-de85-4a3b-b4a4-2cf45267737a\",\"type\":\"ResetTool\"},{\"id\":\"ba1d1f68-d22a-4d39-8488-6cb28e721b6e\",\"type\":\"HelpTool\"}]},\"id\":\"eaab1652-aaa5-4abe-be5a-1ad596dd3188\",\"type\":\"Toolbar\"},{\"attributes\":{\"source\":{\"id\":\"ee547e60-c9a9-4fa3-a505-a4de9e3b783d\",\"type\":\"ColumnDataSource\"}},\"id\":\"fd499b35-ad01-42f7-991c-6ca286837f9f\",\"type\":\"CDSView\"},{\"attributes\":{\"dimension\":1,\"plot\":{\"id\":\"df3954ec-f267-4d99-adb9-5d1bdb16ba22\",\"subtype\":\"Figure\",\"type\":\"Plot\"},\"ticker\":{\"id\":\"1448fced-4b30-4bd0-afd2-7670177d666a\",\"type\":\"LogTicker\"}},\"id\":\"07db2dd1-de7c-491c-87d5-e714352a08e7\",\"type\":\"Grid\"},{\"attributes\":{\"num_minor_ticks\":10},\"id\":\"1448fced-4b30-4bd0-afd2-7670177d666a\",\"type\":\"LogTicker\"},{\"attributes\":{},\"id\":\"6de4634f-8e4c-45d0-8e50-32faa96d569e\",\"type\":\"BasicTicker\"}],\"root_ids\":[\"b208d07a-f414-42fd-a342-2e4f4681e6e9\"]},\"title\":\"Bokeh Application\",\"version\":\"0.12.14\"}};\n",
       "  var render_items = [{\"docid\":\"35a84510-fd4f-4d85-9139-34075ea303a2\",\"elementid\":\"201b12fc-f845-433f-970c-7a1b6b0a9d53\",\"modelid\":\"b208d07a-f414-42fd-a342-2e4f4681e6e9\"}];\n",
       "  root.Bokeh.embed.embed_items_notebook(docs_json, render_items);\n",
       "\n",
       "  }\n",
       "  if (root.Bokeh !== undefined) {\n",
       "    embed_document(root);\n",
       "  } else {\n",
       "    var attempts = 0;\n",
       "    var timer = setInterval(function(root) {\n",
       "      if (root.Bokeh !== undefined) {\n",
       "        embed_document(root);\n",
       "        clearInterval(timer);\n",
       "      }\n",
       "      attempts++;\n",
       "      if (attempts > 100) {\n",
       "        console.log(\"Bokeh: ERROR: Unable to run BokehJS code because BokehJS library is missing\")\n",
       "        clearInterval(timer);\n",
       "      }\n",
       "    }, 10, root)\n",
       "  }\n",
       "})(window);"
      ],
      "application/vnd.bokehjs_exec.v0+json": ""
     },
     "metadata": {
      "application/vnd.bokehjs_exec.v0+json": {
       "id": "b208d07a-f414-42fd-a342-2e4f4681e6e9"
      }
     },
     "output_type": "display_data"
    },
    {
     "name": "stdout",
     "output_type": "stream",
     "text": [
      "FIGURE. Cooling rate profiles.\n"
     ]
    },
    {
     "data": {
      "text/html": [
       "<a id=\"Flux_Comparison\"></a>"
      ],
      "text/plain": [
       "<IPython.core.display.HTML object>"
      ]
     },
     "metadata": {},
     "output_type": "display_data"
    },
    {
     "data": {
      "text/markdown": [
       "# Flux Comparison"
      ],
      "text/plain": [
       "<IPython.core.display.Markdown object>"
      ]
     },
     "metadata": {},
     "output_type": "display_data"
    },
    {
     "data": {
      "text/html": [
       "<div>\n",
       "<style>\n",
       "    .dataframe thead tr:only-child th {\n",
       "        text-align: right;\n",
       "    }\n",
       "\n",
       "    .dataframe thead th {\n",
       "        text-align: left;\n",
       "    }\n",
       "\n",
       "    .dataframe tbody tr th {\n",
       "        vertical-align: top;\n",
       "    }\n",
       "</style>\n",
       "<table border=\"1\" class=\"dataframe\">\n",
       "  <thead>\n",
       "    <tr style=\"text-align: right;\">\n",
       "      <th></th>\n",
       "      <th></th>\n",
       "      <th>flug</th>\n",
       "      <th>fldg</th>\n",
       "      <th>fnetg</th>\n",
       "    </tr>\n",
       "    <tr>\n",
       "      <th>pressure</th>\n",
       "      <th>level</th>\n",
       "      <th></th>\n",
       "      <th></th>\n",
       "      <th></th>\n",
       "    </tr>\n",
       "  </thead>\n",
       "  <tbody>\n",
       "    <tr>\n",
       "      <th>0.0000</th>\n",
       "      <th>1</th>\n",
       "      <td>-20.785670</td>\n",
       "      <td>0.000000</td>\n",
       "      <td>-20.785670</td>\n",
       "    </tr>\n",
       "    <tr>\n",
       "      <th>1.0685</th>\n",
       "      <th>24</th>\n",
       "      <td>-20.773412</td>\n",
       "      <td>0.051495</td>\n",
       "      <td>-20.721917</td>\n",
       "    </tr>\n",
       "    <tr>\n",
       "      <th>1013.0000</th>\n",
       "      <th>76</th>\n",
       "      <td>-23.591138</td>\n",
       "      <td>10.016948</td>\n",
       "      <td>-13.574190</td>\n",
       "    </tr>\n",
       "  </tbody>\n",
       "</table>\n",
       "</div>"
      ],
      "text/plain": [
       "                      flug       fldg      fnetg\n",
       "pressure  level                                 \n",
       "0.0000    1     -20.785670   0.000000 -20.785670\n",
       "1.0685    24    -20.773412   0.051495 -20.721917\n",
       "1013.0000 76    -23.591138  10.016948 -13.574190"
      ]
     },
     "metadata": {},
     "output_type": "display_data"
    },
    {
     "name": "stdout",
     "output_type": "stream",
     "text": [
      "Table. Fluxes. WGT igg=10 wgt_flux=1\n"
     ]
    },
    {
     "data": {
      "text/html": [
       "<div>\n",
       "<style>\n",
       "    .dataframe thead tr:only-child th {\n",
       "        text-align: right;\n",
       "    }\n",
       "\n",
       "    .dataframe thead th {\n",
       "        text-align: left;\n",
       "    }\n",
       "\n",
       "    .dataframe tbody tr th {\n",
       "        vertical-align: top;\n",
       "    }\n",
       "</style>\n",
       "<table border=\"1\" class=\"dataframe\">\n",
       "  <thead>\n",
       "    <tr style=\"text-align: right;\">\n",
       "      <th></th>\n",
       "      <th></th>\n",
       "      <th>flug</th>\n",
       "      <th>fldg</th>\n",
       "      <th>fnetg</th>\n",
       "    </tr>\n",
       "    <tr>\n",
       "      <th>pressure</th>\n",
       "      <th>level</th>\n",
       "      <th></th>\n",
       "      <th></th>\n",
       "      <th></th>\n",
       "    </tr>\n",
       "  </thead>\n",
       "  <tbody>\n",
       "    <tr>\n",
       "      <th>0.0000</th>\n",
       "      <th>1</th>\n",
       "      <td>-20.836798</td>\n",
       "      <td>0.000000</td>\n",
       "      <td>-20.836798</td>\n",
       "    </tr>\n",
       "    <tr>\n",
       "      <th>1.0685</th>\n",
       "      <th>24</th>\n",
       "      <td>-20.824109</td>\n",
       "      <td>0.055119</td>\n",
       "      <td>-20.768990</td>\n",
       "    </tr>\n",
       "    <tr>\n",
       "      <th>1013.0000</th>\n",
       "      <th>76</th>\n",
       "      <td>-23.591138</td>\n",
       "      <td>9.775480</td>\n",
       "      <td>-13.815657</td>\n",
       "    </tr>\n",
       "  </tbody>\n",
       "</table>\n",
       "</div>"
      ],
      "text/plain": [
       "                      flug      fldg      fnetg\n",
       "pressure  level                                \n",
       "0.0000    1     -20.836798  0.000000 -20.836798\n",
       "1.0685    24    -20.824109  0.055119 -20.768990\n",
       "1013.0000 76    -23.591138  9.775480 -13.815657"
      ]
     },
     "metadata": {},
     "output_type": "display_data"
    },
    {
     "name": "stdout",
     "output_type": "stream",
     "text": [
      "Table. Fluxes. CRD\n"
     ]
    },
    {
     "data": {
      "text/html": [
       "<div>\n",
       "<style>\n",
       "    .dataframe thead tr:only-child th {\n",
       "        text-align: right;\n",
       "    }\n",
       "\n",
       "    .dataframe thead th {\n",
       "        text-align: left;\n",
       "    }\n",
       "\n",
       "    .dataframe tbody tr th {\n",
       "        vertical-align: top;\n",
       "    }\n",
       "</style>\n",
       "<table border=\"1\" class=\"dataframe\">\n",
       "  <thead>\n",
       "    <tr style=\"text-align: right;\">\n",
       "      <th></th>\n",
       "      <th></th>\n",
       "      <th>flug</th>\n",
       "      <th>fldg</th>\n",
       "      <th>fnetg</th>\n",
       "    </tr>\n",
       "    <tr>\n",
       "      <th>pressure</th>\n",
       "      <th>level</th>\n",
       "      <th></th>\n",
       "      <th></th>\n",
       "      <th></th>\n",
       "    </tr>\n",
       "  </thead>\n",
       "  <tbody>\n",
       "    <tr>\n",
       "      <th>1.000000e-08</th>\n",
       "      <th>1</th>\n",
       "      <td>-20.846392</td>\n",
       "      <td>0.000002</td>\n",
       "      <td>-20.846389</td>\n",
       "    </tr>\n",
       "    <tr>\n",
       "      <th>1.068500e+00</th>\n",
       "      <th>24</th>\n",
       "      <td>-20.834338</td>\n",
       "      <td>0.049075</td>\n",
       "      <td>-20.785263</td>\n",
       "    </tr>\n",
       "    <tr>\n",
       "      <th>1.013000e+03</th>\n",
       "      <th>76</th>\n",
       "      <td>-23.591140</td>\n",
       "      <td>10.029997</td>\n",
       "      <td>-13.561143</td>\n",
       "    </tr>\n",
       "  </tbody>\n",
       "</table>\n",
       "</div>"
      ],
      "text/plain": [
       "                         flug       fldg      fnetg\n",
       "pressure     level                                 \n",
       "1.000000e-08 1     -20.846392   0.000002 -20.846389\n",
       "1.068500e+00 24    -20.834338   0.049075 -20.785263\n",
       "1.013000e+03 76    -23.591140  10.029997 -13.561143"
      ]
     },
     "metadata": {},
     "output_type": "display_data"
    },
    {
     "name": "stdout",
     "output_type": "stream",
     "text": [
      "Table. Fluxes. CLIRAD\n"
     ]
    },
    {
     "data": {
      "text/html": [
       "<div>\n",
       "<style>\n",
       "    .dataframe thead tr:only-child th {\n",
       "        text-align: right;\n",
       "    }\n",
       "\n",
       "    .dataframe thead th {\n",
       "        text-align: left;\n",
       "    }\n",
       "\n",
       "    .dataframe tbody tr th {\n",
       "        vertical-align: top;\n",
       "    }\n",
       "</style>\n",
       "<table border=\"1\" class=\"dataframe\">\n",
       "  <thead>\n",
       "    <tr style=\"text-align: right;\">\n",
       "      <th></th>\n",
       "      <th></th>\n",
       "      <th>flug</th>\n",
       "      <th>fldg</th>\n",
       "      <th>fnetg</th>\n",
       "    </tr>\n",
       "    <tr>\n",
       "      <th>pressure</th>\n",
       "      <th>level</th>\n",
       "      <th></th>\n",
       "      <th></th>\n",
       "      <th></th>\n",
       "    </tr>\n",
       "  </thead>\n",
       "  <tbody>\n",
       "    <tr>\n",
       "      <th>0.0000</th>\n",
       "      <th>1</th>\n",
       "      <td>-5.112800e-02</td>\n",
       "      <td>0.000000</td>\n",
       "      <td>-0.051128</td>\n",
       "    </tr>\n",
       "    <tr>\n",
       "      <th>1.0685</th>\n",
       "      <th>24</th>\n",
       "      <td>-5.069663e-02</td>\n",
       "      <td>0.003624</td>\n",
       "      <td>-0.047073</td>\n",
       "    </tr>\n",
       "    <tr>\n",
       "      <th>1013.0000</th>\n",
       "      <th>76</th>\n",
       "      <td>-4.050000e-07</td>\n",
       "      <td>-0.241468</td>\n",
       "      <td>-0.241467</td>\n",
       "    </tr>\n",
       "  </tbody>\n",
       "</table>\n",
       "</div>"
      ],
      "text/plain": [
       "                         flug      fldg     fnetg\n",
       "pressure  level                                  \n",
       "0.0000    1     -5.112800e-02  0.000000 -0.051128\n",
       "1.0685    24    -5.069663e-02  0.003624 -0.047073\n",
       "1013.0000 76    -4.050000e-07 -0.241468 -0.241467"
      ]
     },
     "metadata": {},
     "output_type": "display_data"
    },
    {
     "name": "stdout",
     "output_type": "stream",
     "text": [
      "Table. Fluxes. (CRD) - (WGT igg=10 wgt_flux=1)\n"
     ]
    },
    {
     "data": {
      "text/html": [
       "<div>\n",
       "<style>\n",
       "    .dataframe thead tr:only-child th {\n",
       "        text-align: right;\n",
       "    }\n",
       "\n",
       "    .dataframe thead th {\n",
       "        text-align: left;\n",
       "    }\n",
       "\n",
       "    .dataframe tbody tr th {\n",
       "        vertical-align: top;\n",
       "    }\n",
       "</style>\n",
       "<table border=\"1\" class=\"dataframe\">\n",
       "  <thead>\n",
       "    <tr style=\"text-align: right;\">\n",
       "      <th></th>\n",
       "      <th></th>\n",
       "      <th>flug</th>\n",
       "      <th>fldg</th>\n",
       "      <th>fnetg</th>\n",
       "    </tr>\n",
       "    <tr>\n",
       "      <th>pressure</th>\n",
       "      <th>level</th>\n",
       "      <th></th>\n",
       "      <th></th>\n",
       "      <th></th>\n",
       "    </tr>\n",
       "  </thead>\n",
       "  <tbody>\n",
       "    <tr>\n",
       "      <th>0.0000</th>\n",
       "      <th>1</th>\n",
       "      <td>-0.060722</td>\n",
       "      <td>0.000002</td>\n",
       "      <td>-0.060719</td>\n",
       "    </tr>\n",
       "    <tr>\n",
       "      <th>1.0685</th>\n",
       "      <th>24</th>\n",
       "      <td>-0.060926</td>\n",
       "      <td>-0.002420</td>\n",
       "      <td>-0.063346</td>\n",
       "    </tr>\n",
       "    <tr>\n",
       "      <th>1013.0000</th>\n",
       "      <th>76</th>\n",
       "      <td>-0.000002</td>\n",
       "      <td>0.013049</td>\n",
       "      <td>0.013047</td>\n",
       "    </tr>\n",
       "  </tbody>\n",
       "</table>\n",
       "</div>"
      ],
      "text/plain": [
       "                     flug      fldg     fnetg\n",
       "pressure  level                              \n",
       "0.0000    1     -0.060722  0.000002 -0.060719\n",
       "1.0685    24    -0.060926 -0.002420 -0.063346\n",
       "1013.0000 76    -0.000002  0.013049  0.013047"
      ]
     },
     "metadata": {},
     "output_type": "display_data"
    },
    {
     "name": "stdout",
     "output_type": "stream",
     "text": [
      "Table. Fluxes. (CLIRAD) - (WGT igg=10 wgt_flux=1)\n"
     ]
    },
    {
     "data": {
      "text/html": [
       "<a id=\"Best-fit_Parameters\"></a>"
      ],
      "text/plain": [
       "<IPython.core.display.HTML object>"
      ]
     },
     "metadata": {},
     "output_type": "display_data"
    },
    {
     "data": {
      "text/markdown": [
       "# Best-fit Parameters"
      ],
      "text/plain": [
       "<IPython.core.display.Markdown object>"
      ]
     },
     "metadata": {},
     "output_type": "display_data"
    },
    {
     "name": "stdout",
     "output_type": "stream",
     "text": [
      "Best-fit values for each (gas, band)\n",
      "------------------------------------\n",
      "o co2 band3a\n",
      "  atmpro = mls\n",
      "  band = 3a\n",
      "  commitnumber = 2bd1f75\n",
      "  conc = 0.0004\n",
      "  dv = 0.01\n",
      "  klin = 6.375563e-24\n",
      "  molecule = co2\n",
      "  ng_adju = [0, 0, 0]\n",
      "  ng_refs = [3, 2, 4]\n",
      "  nv = 100\n",
      "  option_compute_btable = 0\n",
      "  option_compute_ktable = 1\n",
      "  option_wgt_flux = 1\n",
      "  option_wgt_k = 1\n",
      "  ref_pts = [(1, 250), (10, 250), (500, 250)]\n",
      "  tsfc = 294\n",
      "  vmax = 620\n",
      "  vmin = 540\n",
      "  w_diffuse = [(1.6, 1.6, 1.7), (1.75, 1.75), (1.55, 1.55, 1.6, 1.85)]\n",
      "  wgt = [(0.7, 0.3, 0.7), (0.7, 0.6), (0.4, 0.5, 0.8, 0.95)]\n"
     ]
    }
   ],
   "source": [
    "script()"
   ]
  },
  {
   "cell_type": "code",
   "execution_count": 13,
   "metadata": {
    "collapsed": true
   },
   "outputs": [
    {
     "data": {
      "text/html": [
       "<script>\n",
       "code_show=true; \n",
       "function code_toggle() {\n",
       " if (code_show){\n",
       " $('div.input').hide();\n",
       " } else {\n",
       " $('div.input').show();\n",
       " }\n",
       " code_show = !code_show\n",
       "} \n",
       "$( document ).ready(code_toggle);\n",
       "</script>\n",
       "<form action=\"javascript:code_toggle()\"><input type=\"submit\" value=\"Click here to toggle on/off the raw code.\"></form>"
      ],
      "text/plain": [
       "<IPython.core.display.HTML object>"
      ]
     },
     "execution_count": 13,
     "metadata": {},
     "output_type": "execute_result"
    }
   ],
   "source": [
    "display.HTML('''<script>\n",
    "code_show=true; \n",
    "function code_toggle() {\n",
    " if (code_show){\n",
    " $('div.input').hide();\n",
    " } else {\n",
    " $('div.input').show();\n",
    " }\n",
    " code_show = !code_show\n",
    "} \n",
    "$( document ).ready(code_toggle);\n",
    "</script>\n",
    "<form action=\"javascript:code_toggle()\"><input type=\"submit\" value=\"Click here to toggle on/off the raw code.\"></form>''')"
   ]
  }
 ],
 "metadata": {
  "kernelspec": {
   "display_name": "Python 3",
   "language": "python",
   "name": "python3"
  },
  "language_info": {
   "codemirror_mode": {
    "name": "ipython",
    "version": 3
   },
   "file_extension": ".py",
   "mimetype": "text/x-python",
   "name": "python",
   "nbconvert_exporter": "python",
   "pygments_lexer": "ipython3",
   "version": "3.6.1"
  }
 },
 "nbformat": 4,
 "nbformat_minor": 2
}
