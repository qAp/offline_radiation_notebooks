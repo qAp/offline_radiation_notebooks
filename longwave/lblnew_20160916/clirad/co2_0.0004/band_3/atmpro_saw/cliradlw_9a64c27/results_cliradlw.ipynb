{
 "cells": [
  {
   "cell_type": "code",
   "execution_count": 1,
   "metadata": {
    "collapsed": true
   },
   "outputs": [],
   "source": [
    "%matplotlib inline\n",
    "import os\n",
    "import re\n",
    "import io\n",
    "import itertools\n",
    "import pprint\n",
    "\n",
    "from bokeh.io import output_notebook, show\n",
    "from bokeh.layouts import gridplot\n",
    "from bokeh.plotting import figure\n",
    "from bokeh.models import Range1d, Legend\n",
    "from bokeh.palettes import all_palettes\n",
    "\n",
    "import matplotlib\n",
    "import matplotlib.pyplot as plt\n",
    "import numpy as np\n",
    "import pandas as pd\n",
    "import xarray as xr\n",
    "\n",
    "import climatools.lblnew.bestfit_params as bestfits\n",
    "from climatools.lblnew import setup_bestfit, setup_overlap\n",
    "import climatools.lblnew.pipeline as pipe_lblnew\n",
    "import climatools.cliradlw.setup as setup_cliradlw\n",
    "import climatools.cliradlw.pipeline as pipe_cliradlw\n",
    "\n",
    "import climatools.html.html as climahtml\n",
    "from climatools.lblnew.dataio import *\n",
    "from climatools.plot.plot import *\n",
    "\n",
    "\n",
    "import IPython.display as display"
   ]
  },
  {
   "cell_type": "code",
   "execution_count": 2,
   "metadata": {
    "collapsed": true
   },
   "outputs": [],
   "source": [
    "%run param.py"
   ]
  },
  {
   "cell_type": "code",
   "execution_count": 3,
   "metadata": {
    "collapsed": true
   },
   "outputs": [],
   "source": [
    "def load_output_file(path_csv):\n",
    "    '''\n",
    "    Load lblnew output .csv file to xarray.Dataset\n",
    "    \n",
    "    Parameters\n",
    "    ----------\n",
    "    path_csv: str\n",
    "              Path to the .csv file to be loaded.\n",
    "    ds: xarray.Dataset\n",
    "        Data in the input file in the form of an xarray.Dataset.\n",
    "    '''\n",
    "    toindex = ['band', 'pressure', 'igg', 'g']    \n",
    "    df = pd.read_csv(path_csv, sep=r'\\s+')\n",
    "    df = df.set_index([i for i in toindex if i in df.columns])\n",
    "    df = df.rename(columns={'sfu': 'flug',\n",
    "                            'sfd': 'fldg',\n",
    "                            'fnet': 'fnetg',\n",
    "                            'coolr': 'coolrg'})\n",
    "    ds = xr.Dataset.from_dataframe(df)\n",
    "\n",
    "    for l in ('level', 'layer'):\n",
    "        if l in ds.data_vars:\n",
    "            if len(ds[l].dims) > 1:\n",
    "                surface = {d: 0 for d in ds.dims if d != 'pressure'}\n",
    "                coord_level = ds[l][surface]\n",
    "                ds.coords[l] = ('pressure', coord_level)\n",
    "            else:\n",
    "                ds.coords[l] = ('pressure', ds[l])\n",
    "    \n",
    "    return ds"
   ]
  },
  {
   "cell_type": "code",
   "execution_count": 4,
   "metadata": {
    "collapsed": true
   },
   "outputs": [],
   "source": [
    "def lblnew_setup(param=None):\n",
    "    if 'ng_refs' in param:\n",
    "        return {'setup': setup_bestfit,\n",
    "                'fname_flux_crd': 'output_flux.dat',\n",
    "                'fname_cool_crd': 'output_coolr.dat',\n",
    "                'fname_flux_wgt': 'output_wfluxg.dat',\n",
    "                'fname_cool_wgt': 'output_wcoolrg.dat'}\n",
    "    else:\n",
    "        return {'setup': setup_overlap,\n",
    "                'fname_flux_crd': 'output_flux.dat',\n",
    "                'fname_cool_crd': 'output_coolr.dat',\n",
    "                'fname_flux_wgt': 'output_wflux.dat',\n",
    "                'fname_cool_wgt': 'output_wcoolr.dat'}\n",
    "\n",
    "    \n",
    "def load_lblnew_data(param):\n",
    "    \n",
    "    fname_dsname = [('fname_flux_crd', 'ds_flux_crd'),\n",
    "                    ('fname_cool_crd', 'ds_cool_crd'),\n",
    "                    ('fname_flux_wgt', 'ds_flux_wgt'),\n",
    "                    ('fname_cool_wgt', 'ds_cool_wgt')]\n",
    "    \n",
    "    d = lblnew_setup(param)\n",
    "    dir_fortran = pipe_lblnew.get_dir_case(param, setup=d['setup'])\n",
    "    \n",
    "    data_dict = {}\n",
    "    for fname, dsname in fname_dsname:\n",
    "        fpath = os.path.join(dir_fortran, d[fname])\n",
    "        data_dict[dsname] = load_output_file(fpath)\n",
    "    return data_dict\n",
    "    \n",
    "\n",
    "    \n",
    "    "
   ]
  },
  {
   "cell_type": "code",
   "execution_count": 5,
   "metadata": {
    "collapsed": true
   },
   "outputs": [
    {
     "name": "stdout",
     "output_type": "stream",
     "text": [
      "The history saving thread hit an unexpected error (OperationalError('database is locked',)).History will not be written to the database.\n"
     ]
    }
   ],
   "source": [
    "d = load_lblnew_data(PARAM_LBLNEW)\n",
    "\n",
    "DS_FLUX_CRD = d['ds_flux_crd']\n",
    "DS_COOL_CRD = d['ds_cool_crd']\n",
    "DS_FLUX_WGT = d['ds_flux_wgt']\n",
    "DS_COOL_WGT = d['ds_cool_wgt']"
   ]
  },
  {
   "cell_type": "code",
   "execution_count": 6,
   "metadata": {
    "collapsed": true
   },
   "outputs": [],
   "source": [
    "DIR_FORTRAN = pipe_cliradlw.get_fortran_dir(PARAM, \n",
    "                                            setup=setup_cliradlw)\n",
    "\n",
    "PATH_FLUX = os.path.join(DIR_FORTRAN, 'output_flux.dat')\n",
    "PATH_COOL = os.path.join(DIR_FORTRAN, 'output_coolr.dat')\n",
    "\n",
    "DS_FLUX = load_output_file(PATH_FLUX)\n",
    "DS_COOL = load_output_file(PATH_COOL)"
   ]
  },
  {
   "cell_type": "code",
   "execution_count": 7,
   "metadata": {
    "collapsed": true
   },
   "outputs": [
    {
     "data": {
      "text/html": [
       "\n",
       "    <div class=\"bk-root\">\n",
       "        <a href=\"https://bokeh.pydata.org\" target=\"_blank\" class=\"bk-logo bk-logo-small bk-logo-notebook\"></a>\n",
       "        <span id=\"d85285c3-16f5-49c6-8ba5-cce185f857d3\">Loading BokehJS ...</span>\n",
       "    </div>"
      ]
     },
     "metadata": {},
     "output_type": "display_data"
    },
    {
     "data": {
      "application/javascript": [
       "\n",
       "(function(root) {\n",
       "  function now() {\n",
       "    return new Date();\n",
       "  }\n",
       "\n",
       "  var force = true;\n",
       "\n",
       "  if (typeof (root._bokeh_onload_callbacks) === \"undefined\" || force === true) {\n",
       "    root._bokeh_onload_callbacks = [];\n",
       "    root._bokeh_is_loading = undefined;\n",
       "  }\n",
       "\n",
       "  var JS_MIME_TYPE = 'application/javascript';\n",
       "  var HTML_MIME_TYPE = 'text/html';\n",
       "  var EXEC_MIME_TYPE = 'application/vnd.bokehjs_exec.v0+json';\n",
       "  var CLASS_NAME = 'output_bokeh rendered_html';\n",
       "\n",
       "  /**\n",
       "   * Render data to the DOM node\n",
       "   */\n",
       "  function render(props, node) {\n",
       "    var script = document.createElement(\"script\");\n",
       "    node.appendChild(script);\n",
       "  }\n",
       "\n",
       "  /**\n",
       "   * Handle when an output is cleared or removed\n",
       "   */\n",
       "  function handleClearOutput(event, handle) {\n",
       "    var cell = handle.cell;\n",
       "\n",
       "    var id = cell.output_area._bokeh_element_id;\n",
       "    var server_id = cell.output_area._bokeh_server_id;\n",
       "    // Clean up Bokeh references\n",
       "    if (id !== undefined) {\n",
       "      Bokeh.index[id].model.document.clear();\n",
       "      delete Bokeh.index[id];\n",
       "    }\n",
       "\n",
       "    if (server_id !== undefined) {\n",
       "      // Clean up Bokeh references\n",
       "      var cmd = \"from bokeh.io.state import curstate; print(curstate().uuid_to_server['\" + server_id + \"'].get_sessions()[0].document.roots[0]._id)\";\n",
       "      cell.notebook.kernel.execute(cmd, {\n",
       "        iopub: {\n",
       "          output: function(msg) {\n",
       "            var element_id = msg.content.text.trim();\n",
       "            Bokeh.index[element_id].model.document.clear();\n",
       "            delete Bokeh.index[element_id];\n",
       "          }\n",
       "        }\n",
       "      });\n",
       "      // Destroy server and session\n",
       "      var cmd = \"import bokeh.io.notebook as ion; ion.destroy_server('\" + server_id + \"')\";\n",
       "      cell.notebook.kernel.execute(cmd);\n",
       "    }\n",
       "  }\n",
       "\n",
       "  /**\n",
       "   * Handle when a new output is added\n",
       "   */\n",
       "  function handleAddOutput(event, handle) {\n",
       "    var output_area = handle.output_area;\n",
       "    var output = handle.output;\n",
       "\n",
       "    // limit handleAddOutput to display_data with EXEC_MIME_TYPE content only\n",
       "    if ((output.output_type != \"display_data\") || (!output.data.hasOwnProperty(EXEC_MIME_TYPE))) {\n",
       "      return\n",
       "    }\n",
       "\n",
       "    var toinsert = output_area.element.find(\".\" + CLASS_NAME.split(' ')[0]);\n",
       "\n",
       "    if (output.metadata[EXEC_MIME_TYPE][\"id\"] !== undefined) {\n",
       "      toinsert[0].firstChild.textContent = output.data[JS_MIME_TYPE];\n",
       "      // store reference to embed id on output_area\n",
       "      output_area._bokeh_element_id = output.metadata[EXEC_MIME_TYPE][\"id\"];\n",
       "    }\n",
       "    if (output.metadata[EXEC_MIME_TYPE][\"server_id\"] !== undefined) {\n",
       "      var bk_div = document.createElement(\"div\");\n",
       "      bk_div.innerHTML = output.data[HTML_MIME_TYPE];\n",
       "      var script_attrs = bk_div.children[0].attributes;\n",
       "      for (var i = 0; i < script_attrs.length; i++) {\n",
       "        toinsert[0].firstChild.setAttribute(script_attrs[i].name, script_attrs[i].value);\n",
       "      }\n",
       "      // store reference to server id on output_area\n",
       "      output_area._bokeh_server_id = output.metadata[EXEC_MIME_TYPE][\"server_id\"];\n",
       "    }\n",
       "  }\n",
       "\n",
       "  function register_renderer(events, OutputArea) {\n",
       "\n",
       "    function append_mime(data, metadata, element) {\n",
       "      // create a DOM node to render to\n",
       "      var toinsert = this.create_output_subarea(\n",
       "        metadata,\n",
       "        CLASS_NAME,\n",
       "        EXEC_MIME_TYPE\n",
       "      );\n",
       "      this.keyboard_manager.register_events(toinsert);\n",
       "      // Render to node\n",
       "      var props = {data: data, metadata: metadata[EXEC_MIME_TYPE]};\n",
       "      render(props, toinsert[0]);\n",
       "      element.append(toinsert);\n",
       "      return toinsert\n",
       "    }\n",
       "\n",
       "    /* Handle when an output is cleared or removed */\n",
       "    events.on('clear_output.CodeCell', handleClearOutput);\n",
       "    events.on('delete.Cell', handleClearOutput);\n",
       "\n",
       "    /* Handle when a new output is added */\n",
       "    events.on('output_added.OutputArea', handleAddOutput);\n",
       "\n",
       "    /**\n",
       "     * Register the mime type and append_mime function with output_area\n",
       "     */\n",
       "    OutputArea.prototype.register_mime_type(EXEC_MIME_TYPE, append_mime, {\n",
       "      /* Is output safe? */\n",
       "      safe: true,\n",
       "      /* Index of renderer in `output_area.display_order` */\n",
       "      index: 0\n",
       "    });\n",
       "  }\n",
       "\n",
       "  // register the mime type if in Jupyter Notebook environment and previously unregistered\n",
       "  if (root.Jupyter !== undefined) {\n",
       "    var events = require('base/js/events');\n",
       "    var OutputArea = require('notebook/js/outputarea').OutputArea;\n",
       "\n",
       "    if (OutputArea.prototype.mime_types().indexOf(EXEC_MIME_TYPE) == -1) {\n",
       "      register_renderer(events, OutputArea);\n",
       "    }\n",
       "  }\n",
       "\n",
       "  \n",
       "  if (typeof (root._bokeh_timeout) === \"undefined\" || force === true) {\n",
       "    root._bokeh_timeout = Date.now() + 5000;\n",
       "    root._bokeh_failed_load = false;\n",
       "  }\n",
       "\n",
       "  var NB_LOAD_WARNING = {'data': {'text/html':\n",
       "     \"<div style='background-color: #fdd'>\\n\"+\n",
       "     \"<p>\\n\"+\n",
       "     \"BokehJS does not appear to have successfully loaded. If loading BokehJS from CDN, this \\n\"+\n",
       "     \"may be due to a slow or bad network connection. Possible fixes:\\n\"+\n",
       "     \"</p>\\n\"+\n",
       "     \"<ul>\\n\"+\n",
       "     \"<li>re-rerun `output_notebook()` to attempt to load from CDN again, or</li>\\n\"+\n",
       "     \"<li>use INLINE resources instead, as so:</li>\\n\"+\n",
       "     \"</ul>\\n\"+\n",
       "     \"<code>\\n\"+\n",
       "     \"from bokeh.resources import INLINE\\n\"+\n",
       "     \"output_notebook(resources=INLINE)\\n\"+\n",
       "     \"</code>\\n\"+\n",
       "     \"</div>\"}};\n",
       "\n",
       "  function display_loaded() {\n",
       "    var el = document.getElementById(\"d85285c3-16f5-49c6-8ba5-cce185f857d3\");\n",
       "    if (el != null) {\n",
       "      el.textContent = \"BokehJS is loading...\";\n",
       "    }\n",
       "    if (root.Bokeh !== undefined) {\n",
       "      if (el != null) {\n",
       "        el.textContent = \"BokehJS \" + root.Bokeh.version + \" successfully loaded.\";\n",
       "      }\n",
       "    } else if (Date.now() < root._bokeh_timeout) {\n",
       "      setTimeout(display_loaded, 100)\n",
       "    }\n",
       "  }\n",
       "\n",
       "\n",
       "  function run_callbacks() {\n",
       "    try {\n",
       "      root._bokeh_onload_callbacks.forEach(function(callback) { callback() });\n",
       "    }\n",
       "    finally {\n",
       "      delete root._bokeh_onload_callbacks\n",
       "    }\n",
       "    console.info(\"Bokeh: all callbacks have finished\");\n",
       "  }\n",
       "\n",
       "  function load_libs(js_urls, callback) {\n",
       "    root._bokeh_onload_callbacks.push(callback);\n",
       "    if (root._bokeh_is_loading > 0) {\n",
       "      console.log(\"Bokeh: BokehJS is being loaded, scheduling callback at\", now());\n",
       "      return null;\n",
       "    }\n",
       "    if (js_urls == null || js_urls.length === 0) {\n",
       "      run_callbacks();\n",
       "      return null;\n",
       "    }\n",
       "    console.log(\"Bokeh: BokehJS not loaded, scheduling load and callback at\", now());\n",
       "    root._bokeh_is_loading = js_urls.length;\n",
       "    for (var i = 0; i < js_urls.length; i++) {\n",
       "      var url = js_urls[i];\n",
       "      var s = document.createElement('script');\n",
       "      s.src = url;\n",
       "      s.async = false;\n",
       "      s.onreadystatechange = s.onload = function() {\n",
       "        root._bokeh_is_loading--;\n",
       "        if (root._bokeh_is_loading === 0) {\n",
       "          console.log(\"Bokeh: all BokehJS libraries loaded\");\n",
       "          run_callbacks()\n",
       "        }\n",
       "      };\n",
       "      s.onerror = function() {\n",
       "        console.warn(\"failed to load library \" + url);\n",
       "      };\n",
       "      console.log(\"Bokeh: injecting script tag for BokehJS library: \", url);\n",
       "      document.getElementsByTagName(\"head\")[0].appendChild(s);\n",
       "    }\n",
       "  };var element = document.getElementById(\"d85285c3-16f5-49c6-8ba5-cce185f857d3\");\n",
       "  if (element == null) {\n",
       "    console.log(\"Bokeh: ERROR: autoload.js configured with elementid 'd85285c3-16f5-49c6-8ba5-cce185f857d3' but no matching script tag was found. \")\n",
       "    return false;\n",
       "  }\n",
       "\n",
       "  var js_urls = [\"https://cdn.pydata.org/bokeh/release/bokeh-0.12.14.min.js\", \"https://cdn.pydata.org/bokeh/release/bokeh-widgets-0.12.14.min.js\", \"https://cdn.pydata.org/bokeh/release/bokeh-tables-0.12.14.min.js\", \"https://cdn.pydata.org/bokeh/release/bokeh-gl-0.12.14.min.js\"];\n",
       "\n",
       "  var inline_js = [\n",
       "    function(Bokeh) {\n",
       "      Bokeh.set_log_level(\"info\");\n",
       "    },\n",
       "    \n",
       "    function(Bokeh) {\n",
       "      \n",
       "    },\n",
       "    function(Bokeh) {\n",
       "      console.log(\"Bokeh: injecting CSS: https://cdn.pydata.org/bokeh/release/bokeh-0.12.14.min.css\");\n",
       "      Bokeh.embed.inject_css(\"https://cdn.pydata.org/bokeh/release/bokeh-0.12.14.min.css\");\n",
       "      console.log(\"Bokeh: injecting CSS: https://cdn.pydata.org/bokeh/release/bokeh-widgets-0.12.14.min.css\");\n",
       "      Bokeh.embed.inject_css(\"https://cdn.pydata.org/bokeh/release/bokeh-widgets-0.12.14.min.css\");\n",
       "      console.log(\"Bokeh: injecting CSS: https://cdn.pydata.org/bokeh/release/bokeh-tables-0.12.14.min.css\");\n",
       "      Bokeh.embed.inject_css(\"https://cdn.pydata.org/bokeh/release/bokeh-tables-0.12.14.min.css\");\n",
       "    }\n",
       "  ];\n",
       "\n",
       "  function run_inline_js() {\n",
       "    \n",
       "    if ((root.Bokeh !== undefined) || (force === true)) {\n",
       "      for (var i = 0; i < inline_js.length; i++) {\n",
       "        inline_js[i].call(root, root.Bokeh);\n",
       "      }if (force === true) {\n",
       "        display_loaded();\n",
       "      }} else if (Date.now() < root._bokeh_timeout) {\n",
       "      setTimeout(run_inline_js, 100);\n",
       "    } else if (!root._bokeh_failed_load) {\n",
       "      console.log(\"Bokeh: BokehJS failed to load within specified timeout.\");\n",
       "      root._bokeh_failed_load = true;\n",
       "    } else if (force !== true) {\n",
       "      var cell = $(document.getElementById(\"d85285c3-16f5-49c6-8ba5-cce185f857d3\")).parents('.cell').data().cell;\n",
       "      cell.output_area.append_execute_result(NB_LOAD_WARNING)\n",
       "    }\n",
       "\n",
       "  }\n",
       "\n",
       "  if (root._bokeh_is_loading === 0) {\n",
       "    console.log(\"Bokeh: BokehJS loaded, going straight to plotting\");\n",
       "    run_inline_js();\n",
       "  } else {\n",
       "    load_libs(js_urls, function() {\n",
       "      console.log(\"Bokeh: BokehJS plotting callback run at\", now());\n",
       "      run_inline_js();\n",
       "    });\n",
       "  }\n",
       "}(window));"
      ],
      "application/vnd.bokehjs_load.v0+json": "\n(function(root) {\n  function now() {\n    return new Date();\n  }\n\n  var force = true;\n\n  if (typeof (root._bokeh_onload_callbacks) === \"undefined\" || force === true) {\n    root._bokeh_onload_callbacks = [];\n    root._bokeh_is_loading = undefined;\n  }\n\n  \n\n  \n  if (typeof (root._bokeh_timeout) === \"undefined\" || force === true) {\n    root._bokeh_timeout = Date.now() + 5000;\n    root._bokeh_failed_load = false;\n  }\n\n  var NB_LOAD_WARNING = {'data': {'text/html':\n     \"<div style='background-color: #fdd'>\\n\"+\n     \"<p>\\n\"+\n     \"BokehJS does not appear to have successfully loaded. If loading BokehJS from CDN, this \\n\"+\n     \"may be due to a slow or bad network connection. Possible fixes:\\n\"+\n     \"</p>\\n\"+\n     \"<ul>\\n\"+\n     \"<li>re-rerun `output_notebook()` to attempt to load from CDN again, or</li>\\n\"+\n     \"<li>use INLINE resources instead, as so:</li>\\n\"+\n     \"</ul>\\n\"+\n     \"<code>\\n\"+\n     \"from bokeh.resources import INLINE\\n\"+\n     \"output_notebook(resources=INLINE)\\n\"+\n     \"</code>\\n\"+\n     \"</div>\"}};\n\n  function display_loaded() {\n    var el = document.getElementById(\"d85285c3-16f5-49c6-8ba5-cce185f857d3\");\n    if (el != null) {\n      el.textContent = \"BokehJS is loading...\";\n    }\n    if (root.Bokeh !== undefined) {\n      if (el != null) {\n        el.textContent = \"BokehJS \" + root.Bokeh.version + \" successfully loaded.\";\n      }\n    } else if (Date.now() < root._bokeh_timeout) {\n      setTimeout(display_loaded, 100)\n    }\n  }\n\n\n  function run_callbacks() {\n    try {\n      root._bokeh_onload_callbacks.forEach(function(callback) { callback() });\n    }\n    finally {\n      delete root._bokeh_onload_callbacks\n    }\n    console.info(\"Bokeh: all callbacks have finished\");\n  }\n\n  function load_libs(js_urls, callback) {\n    root._bokeh_onload_callbacks.push(callback);\n    if (root._bokeh_is_loading > 0) {\n      console.log(\"Bokeh: BokehJS is being loaded, scheduling callback at\", now());\n      return null;\n    }\n    if (js_urls == null || js_urls.length === 0) {\n      run_callbacks();\n      return null;\n    }\n    console.log(\"Bokeh: BokehJS not loaded, scheduling load and callback at\", now());\n    root._bokeh_is_loading = js_urls.length;\n    for (var i = 0; i < js_urls.length; i++) {\n      var url = js_urls[i];\n      var s = document.createElement('script');\n      s.src = url;\n      s.async = false;\n      s.onreadystatechange = s.onload = function() {\n        root._bokeh_is_loading--;\n        if (root._bokeh_is_loading === 0) {\n          console.log(\"Bokeh: all BokehJS libraries loaded\");\n          run_callbacks()\n        }\n      };\n      s.onerror = function() {\n        console.warn(\"failed to load library \" + url);\n      };\n      console.log(\"Bokeh: injecting script tag for BokehJS library: \", url);\n      document.getElementsByTagName(\"head\")[0].appendChild(s);\n    }\n  };var element = document.getElementById(\"d85285c3-16f5-49c6-8ba5-cce185f857d3\");\n  if (element == null) {\n    console.log(\"Bokeh: ERROR: autoload.js configured with elementid 'd85285c3-16f5-49c6-8ba5-cce185f857d3' but no matching script tag was found. \")\n    return false;\n  }\n\n  var js_urls = [\"https://cdn.pydata.org/bokeh/release/bokeh-0.12.14.min.js\", \"https://cdn.pydata.org/bokeh/release/bokeh-widgets-0.12.14.min.js\", \"https://cdn.pydata.org/bokeh/release/bokeh-tables-0.12.14.min.js\", \"https://cdn.pydata.org/bokeh/release/bokeh-gl-0.12.14.min.js\"];\n\n  var inline_js = [\n    function(Bokeh) {\n      Bokeh.set_log_level(\"info\");\n    },\n    \n    function(Bokeh) {\n      \n    },\n    function(Bokeh) {\n      console.log(\"Bokeh: injecting CSS: https://cdn.pydata.org/bokeh/release/bokeh-0.12.14.min.css\");\n      Bokeh.embed.inject_css(\"https://cdn.pydata.org/bokeh/release/bokeh-0.12.14.min.css\");\n      console.log(\"Bokeh: injecting CSS: https://cdn.pydata.org/bokeh/release/bokeh-widgets-0.12.14.min.css\");\n      Bokeh.embed.inject_css(\"https://cdn.pydata.org/bokeh/release/bokeh-widgets-0.12.14.min.css\");\n      console.log(\"Bokeh: injecting CSS: https://cdn.pydata.org/bokeh/release/bokeh-tables-0.12.14.min.css\");\n      Bokeh.embed.inject_css(\"https://cdn.pydata.org/bokeh/release/bokeh-tables-0.12.14.min.css\");\n    }\n  ];\n\n  function run_inline_js() {\n    \n    if ((root.Bokeh !== undefined) || (force === true)) {\n      for (var i = 0; i < inline_js.length; i++) {\n        inline_js[i].call(root, root.Bokeh);\n      }if (force === true) {\n        display_loaded();\n      }} else if (Date.now() < root._bokeh_timeout) {\n      setTimeout(run_inline_js, 100);\n    } else if (!root._bokeh_failed_load) {\n      console.log(\"Bokeh: BokehJS failed to load within specified timeout.\");\n      root._bokeh_failed_load = true;\n    } else if (force !== true) {\n      var cell = $(document.getElementById(\"d85285c3-16f5-49c6-8ba5-cce185f857d3\")).parents('.cell').data().cell;\n      cell.output_area.append_execute_result(NB_LOAD_WARNING)\n    }\n\n  }\n\n  if (root._bokeh_is_loading === 0) {\n    console.log(\"Bokeh: BokehJS loaded, going straight to plotting\");\n    run_inline_js();\n  } else {\n    load_libs(js_urls, function() {\n      console.log(\"Bokeh: BokehJS plotting callback run at\", now());\n      run_inline_js();\n    });\n  }\n}(window));"
     },
     "metadata": {},
     "output_type": "display_data"
    }
   ],
   "source": [
    "output_notebook()"
   ]
  },
  {
   "cell_type": "code",
   "execution_count": 8,
   "metadata": {
    "collapsed": true
   },
   "outputs": [],
   "source": [
    "def fmt_cool(ds_in):\n",
    "    ds = ds_in.copy(deep=True)\n",
    "    if 'igg' in ds.dims:\n",
    "        ds = ds.sel(igg=1)\n",
    "\n",
    "    if 'g' in ds.dims:\n",
    "        ds = ds.sum('g')\n",
    "            \n",
    "    if 'band' in ds.dims:\n",
    "        try:\n",
    "            ds = ds.squeeze('band')\n",
    "        except ValueError:\n",
    "            ds = ds.sum('band')\n",
    "                \n",
    "    return ds['coolrg']\n",
    "\n",
    "\n",
    "def pltdata_cooling_1(ds_cool=None,\n",
    "                      ds_cool_crd=None, ds_cool_wgt=None):\n",
    "    \n",
    "\n",
    "\n",
    "    colors = all_palettes['Set1'][4]\n",
    "    data = [{'label': 'CLIRAD `coolr_bands`',\n",
    "             'srs': fmt_cool(ds_cool),\n",
    "             'line_dash': 'dashed', 'line_width': 5,\n",
    "             'color': colors[0], 'alpha': .6},\n",
    "            {'label': 'CRD',\n",
    "             'srs': fmt_cool(ds_cool_crd),\n",
    "             'line_dash': 'solid', 'line_width': 1.5,\n",
    "             'marker': 'circle', 'marker_size': 5,\n",
    "             'color': colors[2], 'alpha': 1,},\n",
    "            {'label': 'WGT igg=10 wgt_flux=2',\n",
    "             'srs': fmt_cool(ds_cool_wgt),\n",
    "             'line_dash': 'solid', 'line_width': 3,\n",
    "             'marker': 'square', 'marker_size': 5,\n",
    "             'color': colors[3], 'alpha': .6}]\n",
    "    return data\n",
    "\n",
    "\n",
    "def nice_xlims(pltdata=None, prange=None):\n",
    "    \n",
    "    def get_slice(srs):\n",
    "        return srs.sel(pressure=slice(*prange))\n",
    "    \n",
    "    srss = [d['srs'] for d in pltdata]\n",
    "    vmin = min([get_slice(srs).min() for srs in srss])\n",
    "    vmax = max([get_slice(srs).max() for srs in srss])\n",
    "    dv = (vmax - vmin) * .01\n",
    "    return float(vmin - dv), float(vmax + dv)\n",
    "    \n",
    "\n",
    "def plt_cooling_bokeh(pltdata=None):\n",
    "    '''\n",
    "    Plot a list of cooling rate profiles using bokeh.\n",
    "    '''\n",
    "    ymin = 1e-2 \n",
    "    ymax = 1020 \n",
    "        \n",
    "    p1 = figure(title=\"Linear pressure scale\", \n",
    "                plot_width=400)        \n",
    "    xmin, xmax = nice_xlims(pltdata, prange=(50, 1050))\n",
    "    for d in pltdata:\n",
    "        if 'marker' in d:\n",
    "            getattr(p1, d['marker'])(d['srs'].values, \n",
    "                    d['srs'].coords['pressure'].values,\n",
    "                    color=d['color'], alpha=.7)\n",
    "        p1.line(d['srs'].values, \n",
    "                d['srs'].coords['pressure'].values,\n",
    "                color=d['color'], alpha=d['alpha'], \n",
    "                line_width=d['line_width'], line_dash=d['line_dash'])\n",
    "    \n",
    "    p1.y_range = Range1d(ymax, ymin)\n",
    "    p1.yaxis.axis_label = 'pressure [mb]'   \n",
    "    p1.x_range = Range1d(xmin, xmax)\n",
    "    p1.xaxis.axis_label = 'cooling rate [K/day]'\n",
    "            \n",
    "    p2 = figure(title='Log pressure scale', y_axis_type='log',\n",
    "                plot_width=560)\n",
    "    xmin, xmax = nice_xlims(pltdata, prange=(.01, 200))\n",
    "    \n",
    "    rs = []\n",
    "    for d in pltdata:\n",
    "        rd = []\n",
    "        if 'marker' in d:\n",
    "            r_mark = getattr(p2, d['marker'])(d['srs'].values, \n",
    "                        d['srs'].coords['pressure'].values,\n",
    "                        color=d['color'], alpha=.7)\n",
    "            rd.append(r_mark)\n",
    "        r_line = p2.line(d['srs'].values, \n",
    "                    d['srs'].coords['pressure'].values,\n",
    "                    color=d['color'], alpha=d['alpha'], \n",
    "                    line_width=d['line_width'], line_dash=d['line_dash'])\n",
    "        rd.append(r_line)\n",
    "      \n",
    "        rs.append(rd)\n",
    "        \n",
    "    p2.y_range = Range1d(ymax, ymin)  \n",
    "    p2.yaxis.axis_label = 'pressure [mb]'\n",
    "    \n",
    "    p2.x_range = Range1d(xmin, xmax)\n",
    "    p2.xaxis.axis_label = 'cooling rate [K/day]'\n",
    "    \n",
    "    items = [(d['label'], r) for r, d in zip(rs, pltdata)]\n",
    "    legend = Legend(items=items, location=(10, -30))\n",
    "    legend.label_text_font_size = '8pt'\n",
    "    \n",
    "    p2.add_layout(legend, 'right')  \n",
    "    \n",
    "    show(gridplot(p1, p2, ncols=2, plot_height=500))\n",
    "    \n",
    "\n",
    "def script_plt_cooling():\n",
    "    pltdata = pltdata_cooling_1(\n",
    "        ds_cool=DS_COOL,\n",
    "        ds_cool_crd=DS_COOL_CRD,\n",
    "        ds_cool_wgt=DS_COOL_WGT)\n",
    "    plt_cooling_bokeh(pltdata=pltdata)\n",
    "    print('''FIGURE. Cooling rate profiles.''')"
   ]
  },
  {
   "cell_type": "code",
   "execution_count": 9,
   "metadata": {
    "collapsed": true
   },
   "outputs": [],
   "source": [
    "def fmt_flux(ds_in):\n",
    "    ds = ds_in.copy(deep=True)\n",
    "    \n",
    "    for l in ('level', 'layer'):\n",
    "        if l in ds.data_vars:\n",
    "            if len(ds[l].dims) > 1:\n",
    "                surface = {d: 0 for d in ds.dims if d != 'pressure'}\n",
    "                coord_level = ds[l][surface]\n",
    "                ds.coords[l] = ('pressure', coord_level)\n",
    "            else:\n",
    "                ds.coords[l] = ('pressure', ds[l])\n",
    "        \n",
    "    ds = ds.isel(pressure=[0, 23, -1])\n",
    "        \n",
    "    if 'igg' in ds.dims:\n",
    "        ds = ds.sel(igg=[1])\n",
    "        ds = ds.squeeze('igg').drop('igg')\n",
    "    \n",
    "    if 'g' in ds.dims:\n",
    "        ds = ds.sum('g')\n",
    "            \n",
    "    if 'band' in ds.dims:\n",
    "        try:\n",
    "            ds = ds.squeeze('band').drop('band')\n",
    "        except ValueError:\n",
    "            ds = ds.sum('band')\n",
    "                \n",
    "    df = ds.to_dataframe()\n",
    "    df = df.set_index('level', append=True)               \n",
    "    return df\n",
    "\n",
    "\n",
    "def tbdata_flux(ds_flux=None, ds_flux_crd=None, ds_flux_wgt=None):\n",
    "    ilevels = [0, 23, -1]\n",
    "            \n",
    "    benchmark = {'label': 'WGT igg=10 wgt_flux=1',\n",
    "                 'df': fmt_flux(ds_flux_wgt)}\n",
    "    \n",
    "    tbs = [{'label': 'CRD',\n",
    "            'df': fmt_flux(ds_flux_crd)},\n",
    "           {'label': 'CLIRAD',\n",
    "            'df': fmt_flux(ds_flux)}]\n",
    "    \n",
    "    data = {'benchmark': benchmark, 'others': tbs}\n",
    "    return data\n",
    "\n",
    "\n",
    "def tb_flux(tbdata=None):\n",
    "    benchmark = tbdata['benchmark']\n",
    "    others = tbdata['others']\n",
    "    \n",
    "    def show_tb(d=None):\n",
    "        display.display(d['df'])\n",
    "        print('Table.', 'Fluxes.', d['label'])\n",
    "        \n",
    "    def show_tbdiff(d0=None, d=None):\n",
    "        df = d['df']\n",
    "        df.index = d0['df'].index\n",
    "        display.display(df - d0['df'])\n",
    "        print('Table.', 'Fluxes.', \n",
    "              '({}) - ({})'.format(d['label'], d0['label']))\n",
    "        \n",
    "    show_tb(benchmark)\n",
    "    for d in others:\n",
    "        show_tb(d)\n",
    "        \n",
    "    for d in others:\n",
    "        show_tbdiff(d=d, d0=benchmark)\n",
    "        \n",
    "        \n",
    "def script_tb_flux():\n",
    "    data = tbdata_flux(ds_flux=DS_FLUX,\n",
    "                       ds_flux_crd=DS_FLUX_CRD,\n",
    "                       ds_flux_wgt=DS_FLUX_WGT)\n",
    "    tb_flux(tbdata=data)"
   ]
  },
  {
   "cell_type": "code",
   "execution_count": 10,
   "metadata": {
    "collapsed": true
   },
   "outputs": [],
   "source": [
    "def band_map():\n",
    "    '''\n",
    "    Maps spectral bands in lblnew to spectral bands in clirad.\n",
    "    '''\n",
    "    lblnew2clirad = {'1': '1',\n",
    "            '2': '2',\n",
    "            '3a': '3',\n",
    "            '3b': '4',\n",
    "            '3c': '5',\n",
    "            '4': '6', \n",
    "            '5': '7',\n",
    "            '6': '8',\n",
    "            '7': '9', \n",
    "            '8': '10',\n",
    "            '9': '11'}\n",
    "    \n",
    "    clirad2lblnew = {clirad: lblnew \n",
    "                     for lblnew, clirad in lblnew2clirad.items()}\n",
    "    return clirad2lblnew\n",
    "\n",
    "\n",
    "def gasbands():\n",
    "    bmap = band_map()\n",
    "    gases = list(PARAM['molecule'].keys())\n",
    "    \n",
    "    bands = [bmap[str(b)] for b in PARAM['band']]\n",
    "    return list(itertools.product(gases, bands))\n",
    "\n",
    "\n",
    "def print_bestfit_params():\n",
    "    print('Best-fit values for each (gas, band)')\n",
    "    print('------------------------------------')\n",
    "    for gas, band in gasbands():\n",
    "        print('o {} band{}'.format(gas, band))\n",
    "        param = bestfits.kdist_params(molecule=gas, band=band)\n",
    "        for name, value in sorted(param.items()):\n",
    "            print(2 * ' ' + '{} = {}'.format(name, value))\n",
    "\n",
    "        \n",
    "def print_input_param():        \n",
    "    for name, value in PARAM.items():\n",
    "        print('{} = {}'.format(name, value))\n",
    "        \n",
    "        \n",
    "def print_lblnew_param():\n",
    "    for name, value in sorted(PARAM_LBLNEW.items()):\n",
    "        print('{} = {}'.format(name, value))\n"
   ]
  },
  {
   "cell_type": "code",
   "execution_count": 11,
   "metadata": {
    "collapsed": true,
    "scrolled": false
   },
   "outputs": [],
   "source": [
    "def show_html(s):\n",
    "    display.display(display.HTML(s))\n",
    "\n",
    "    \n",
    "def show_markdown(s):\n",
    "    display.display(display.Markdown(s))\n",
    "\n",
    "    \n",
    "def script():\n",
    "    \n",
    "    title = '### CLIRAD-LW'\n",
    "    s_input = 'Input Parameters'\n",
    "    s_lblnew_param = 'LBLNEW case compaired against'\n",
    "    s_bestfits = 'Best-fit Parameters'\n",
    "    s_plt_cooling = 'Cooling Rate Profiles'\n",
    "    s_tb_flux = 'Flux Comparison'\n",
    "    \n",
    "    # title\n",
    "    show_markdown('### CLIRAD-LW')\n",
    "    \n",
    "    # TOC\n",
    "    show_markdown('### Table of Contents')\n",
    "    show_html(climahtml.getHTML_hrefanchor(s_input))\n",
    "    show_html(climahtml.getHTML_hrefanchor(s_lblnew_param))\n",
    "    show_html(climahtml.getHTML_hrefanchor(s_plt_cooling))\n",
    "    show_html(climahtml.getHTML_hrefanchor(s_tb_flux))\n",
    "    show_html(climahtml.getHTML_hrefanchor(s_bestfits))\n",
    "    \n",
    "    # Input parameters\n",
    "    show_html(climahtml.getHTML_idanchor(s_input))\n",
    "    show_markdown(climahtml.getMarkdown_sectitle(s_input))\n",
    "    print_input_param()\n",
    "    \n",
    "    # LBLNEW parameters \n",
    "    show_html(climahtml.getHTML_idanchor(s_lblnew_param))\n",
    "    show_markdown(climahtml.getMarkdown_sectitle(s_lblnew_param))\n",
    "    print_lblnew_param()\n",
    "    \n",
    "    # Cooling rate profiles\n",
    "    show_html(climahtml.getHTML_idanchor(s_plt_cooling))\n",
    "    show_markdown(climahtml.getMarkdown_sectitle(s_plt_cooling))\n",
    "    script_plt_cooling()\n",
    "    \n",
    "    # Flux comparison\n",
    "    show_html(climahtml.getHTML_idanchor(s_tb_flux))\n",
    "    show_markdown(climahtml.getMarkdown_sectitle(s_tb_flux))\n",
    "    script_tb_flux()\n",
    "    \n",
    "    # Best-fit values\n",
    "    show_html(climahtml.getHTML_idanchor(s_bestfits))\n",
    "    show_markdown(climahtml.getMarkdown_sectitle(s_bestfits))\n",
    "    print_bestfit_params()\n",
    "   \n",
    "    "
   ]
  },
  {
   "cell_type": "code",
   "execution_count": 12,
   "metadata": {
    "collapsed": true,
    "scrolled": false
   },
   "outputs": [
    {
     "data": {
      "text/markdown": [
       "### CLIRAD-LW"
      ],
      "text/plain": [
       "<IPython.core.display.Markdown object>"
      ]
     },
     "metadata": {},
     "output_type": "display_data"
    },
    {
     "data": {
      "text/markdown": [
       "### Table of Contents"
      ],
      "text/plain": [
       "<IPython.core.display.Markdown object>"
      ]
     },
     "metadata": {},
     "output_type": "display_data"
    },
    {
     "data": {
      "text/html": [
       "<a href=\"#Input_Parameters\">Input Parameters</a>"
      ],
      "text/plain": [
       "<IPython.core.display.HTML object>"
      ]
     },
     "metadata": {},
     "output_type": "display_data"
    },
    {
     "data": {
      "text/html": [
       "<a href=\"#LBLNEW_case_compaired_against\">LBLNEW case compaired against</a>"
      ],
      "text/plain": [
       "<IPython.core.display.HTML object>"
      ]
     },
     "metadata": {},
     "output_type": "display_data"
    },
    {
     "data": {
      "text/html": [
       "<a href=\"#Cooling_Rate_Profiles\">Cooling Rate Profiles</a>"
      ],
      "text/plain": [
       "<IPython.core.display.HTML object>"
      ]
     },
     "metadata": {},
     "output_type": "display_data"
    },
    {
     "data": {
      "text/html": [
       "<a href=\"#Flux_Comparison\">Flux Comparison</a>"
      ],
      "text/plain": [
       "<IPython.core.display.HTML object>"
      ]
     },
     "metadata": {},
     "output_type": "display_data"
    },
    {
     "data": {
      "text/html": [
       "<a href=\"#Best-fit_Parameters\">Best-fit Parameters</a>"
      ],
      "text/plain": [
       "<IPython.core.display.HTML object>"
      ]
     },
     "metadata": {},
     "output_type": "display_data"
    },
    {
     "data": {
      "text/html": [
       "<a id=\"Input_Parameters\"></a>"
      ],
      "text/plain": [
       "<IPython.core.display.HTML object>"
      ]
     },
     "metadata": {},
     "output_type": "display_data"
    },
    {
     "data": {
      "text/markdown": [
       "# Input Parameters"
      ],
      "text/plain": [
       "<IPython.core.display.Markdown object>"
      ]
     },
     "metadata": {},
     "output_type": "display_data"
    },
    {
     "name": "stdout",
     "output_type": "stream",
     "text": [
      "atmpro = saw\n",
      "band = [3]\n",
      "commitnumber = 9a64c27\n",
      "molecule = {'co2': 0.0004}\n",
      "tsfc = 257\n"
     ]
    },
    {
     "data": {
      "text/html": [
       "<a id=\"LBLNEW_case_compaired_against\"></a>"
      ],
      "text/plain": [
       "<IPython.core.display.HTML object>"
      ]
     },
     "metadata": {},
     "output_type": "display_data"
    },
    {
     "data": {
      "text/markdown": [
       "# LBLNEW case compaired against"
      ],
      "text/plain": [
       "<IPython.core.display.Markdown object>"
      ]
     },
     "metadata": {},
     "output_type": "display_data"
    },
    {
     "name": "stdout",
     "output_type": "stream",
     "text": [
      "atmpro = saw\n",
      "band = 3a\n",
      "commitnumber = 2bd1f75\n",
      "conc = 0.0004\n",
      "dv = 0.01\n",
      "klin = 6.375563e-24\n",
      "molecule = co2\n",
      "ng_adju = [0, 0, 0]\n",
      "ng_refs = [3, 2, 4]\n",
      "nv = 100\n",
      "option_compute_btable = 0\n",
      "option_compute_ktable = 0\n",
      "option_wgt_flux = 1\n",
      "option_wgt_k = 1\n",
      "ref_pts = [(1, 250), (10, 250), (500, 250)]\n",
      "tsfc = 257\n",
      "vmax = 620\n",
      "vmin = 540\n",
      "w_diffuse = [(1.6, 1.6, 1.7), (1.75, 1.75), (1.55, 1.55, 1.6, 1.85)]\n",
      "wgt = [(0.7, 0.3, 0.7), (0.7, 0.6), (0.4, 0.5, 0.8, 0.95)]\n"
     ]
    },
    {
     "data": {
      "text/html": [
       "<a id=\"Cooling_Rate_Profiles\"></a>"
      ],
      "text/plain": [
       "<IPython.core.display.HTML object>"
      ]
     },
     "metadata": {},
     "output_type": "display_data"
    },
    {
     "data": {
      "text/markdown": [
       "# Cooling Rate Profiles"
      ],
      "text/plain": [
       "<IPython.core.display.Markdown object>"
      ]
     },
     "metadata": {},
     "output_type": "display_data"
    },
    {
     "data": {
      "text/html": [
       "\n",
       "<div class=\"bk-root\">\n",
       "    <div class=\"bk-plotdiv\" id=\"a89d119e-963a-4588-872a-cafaad47804e\"></div>\n",
       "</div>"
      ]
     },
     "metadata": {},
     "output_type": "display_data"
    },
    {
     "data": {
      "application/javascript": [
       "(function(root) {\n",
       "  function embed_document(root) {\n",
       "    \n",
       "  var docs_json = {\"fb420f73-3af5-47fd-aecc-b7812b038e53\":{\"roots\":{\"references\":[{\"attributes\":{\"source\":{\"id\":\"4ec51422-c8fe-4e8d-aed9-7b7760390104\",\"type\":\"ColumnDataSource\"}},\"id\":\"e6954289-6293-42e1-8c25-1df430f9a440\",\"type\":\"CDSView\"},{\"attributes\":{\"active_drag\":\"auto\",\"active_inspect\":\"auto\",\"active_scroll\":\"auto\",\"active_tap\":\"auto\",\"tools\":[{\"id\":\"95df9df9-75ce-4895-912f-008cdf0341af\",\"type\":\"PanTool\"},{\"id\":\"d9388efd-cde8-4834-8f6b-75cfc64429f8\",\"type\":\"WheelZoomTool\"},{\"id\":\"f6fce0ee-9a26-4053-9f46-6e36962ddfea\",\"type\":\"BoxZoomTool\"},{\"id\":\"087d797b-ad73-46c4-9473-1deb9d627921\",\"type\":\"SaveTool\"},{\"id\":\"132ce956-125b-47af-be72-97dd9e0cedb8\",\"type\":\"ResetTool\"},{\"id\":\"8df0eef8-75d4-48ac-9946-607e8e861cda\",\"type\":\"HelpTool\"}]},\"id\":\"a1780015-5a42-4245-b15d-dec2f6c315e3\",\"type\":\"Toolbar\"},{\"attributes\":{\"data_source\":{\"id\":\"4ec51422-c8fe-4e8d-aed9-7b7760390104\",\"type\":\"ColumnDataSource\"},\"glyph\":{\"id\":\"3018c936-d26a-4f0d-82cd-64171417410a\",\"type\":\"Line\"},\"hover_glyph\":null,\"muted_glyph\":null,\"nonselection_glyph\":{\"id\":\"8c9ad253-321b-4aef-be0a-5d8826a04660\",\"type\":\"Line\"},\"selection_glyph\":null,\"view\":{\"id\":\"e6954289-6293-42e1-8c25-1df430f9a440\",\"type\":\"CDSView\"}},\"id\":\"cb2aec07-c344-43f8-87f5-e8e729d8df1f\",\"type\":\"GlyphRenderer\"},{\"attributes\":{},\"id\":\"2b1c97c8-fa07-4fd8-a45f-b0f147f2a282\",\"type\":\"BasicTickFormatter\"},{\"attributes\":{\"source\":{\"id\":\"19b444f5-a2c7-485d-82b9-00474f9f2e92\",\"type\":\"ColumnDataSource\"}},\"id\":\"230d958b-06ef-4f74-b6ea-96251b62f831\",\"type\":\"CDSView\"},{\"attributes\":{\"below\":[{\"id\":\"8bfa6a0d-2775-4b51-9a26-c82bd4a36b2c\",\"type\":\"LinearAxis\"}],\"left\":[{\"id\":\"305569b8-8957-4f84-a6b6-9704561ecc7c\",\"type\":\"LogAxis\"}],\"plot_height\":500,\"plot_width\":560,\"renderers\":[{\"id\":\"8bfa6a0d-2775-4b51-9a26-c82bd4a36b2c\",\"type\":\"LinearAxis\"},{\"id\":\"0012f3da-e168-414d-b89a-6a462f11b9fe\",\"type\":\"Grid\"},{\"id\":\"305569b8-8957-4f84-a6b6-9704561ecc7c\",\"type\":\"LogAxis\"},{\"id\":\"1c46848f-b855-4c4b-af98-6611e007ea72\",\"type\":\"Grid\"},{\"id\":\"afe494ce-f127-42a8-bb41-cf2e00f905b9\",\"type\":\"BoxAnnotation\"},{\"id\":\"cb2aec07-c344-43f8-87f5-e8e729d8df1f\",\"type\":\"GlyphRenderer\"},{\"id\":\"3c8a4f4b-1687-4335-b7e6-819fa2594dc2\",\"type\":\"GlyphRenderer\"},{\"id\":\"299a5971-e660-40c7-ab68-4ddab2aa542f\",\"type\":\"GlyphRenderer\"},{\"id\":\"e665b65c-2af4-4f54-9bb6-41e19ce14df2\",\"type\":\"GlyphRenderer\"},{\"id\":\"3ba1ed23-6e07-4e35-b8ed-f42a881d2904\",\"type\":\"GlyphRenderer\"},{\"id\":\"d5b87e12-75ac-429f-b566-8287deb47139\",\"type\":\"Legend\"}],\"right\":[{\"id\":\"d5b87e12-75ac-429f-b566-8287deb47139\",\"type\":\"Legend\"}],\"title\":{\"id\":\"fd5689c5-654d-42d2-9fa0-3d20895cc4ed\",\"type\":\"Title\"},\"toolbar\":{\"id\":\"a1780015-5a42-4245-b15d-dec2f6c315e3\",\"type\":\"Toolbar\"},\"toolbar_location\":null,\"x_range\":{\"id\":\"acd0c324-51ee-4002-a177-6f892de23532\",\"type\":\"Range1d\"},\"x_scale\":{\"id\":\"aca0d3c2-6369-4a9b-83bc-8abd828259e6\",\"type\":\"LinearScale\"},\"y_range\":{\"id\":\"1c40dfd2-e01a-4f8e-89d6-c1f237702747\",\"type\":\"Range1d\"},\"y_scale\":{\"id\":\"8189015f-5e51-4206-890f-795bc99c0f44\",\"type\":\"LogScale\"}},\"id\":\"a9f6cea2-24a9-4e30-bb2e-a6ff0361e371\",\"subtype\":\"Figure\",\"type\":\"Plot\"},{\"attributes\":{\"source\":{\"id\":\"4df75c38-63b4-41d7-997c-2c41fcf418db\",\"type\":\"ColumnDataSource\"}},\"id\":\"2c312432-a80b-4f12-baed-a0b93edb5b5e\",\"type\":\"CDSView\"},{\"attributes\":{},\"id\":\"aca0d3c2-6369-4a9b-83bc-8abd828259e6\",\"type\":\"LinearScale\"},{\"attributes\":{\"source\":{\"id\":\"78780a9c-939d-43e3-93c0-6f0e771d1f0e\",\"type\":\"ColumnDataSource\"}},\"id\":\"99d54e91-4b7c-4250-831c-6b4a5cae305c\",\"type\":\"CDSView\"},{\"attributes\":{\"num_minor_ticks\":10},\"id\":\"73f8d48a-0863-4f8c-a656-a35a6efc6c9a\",\"type\":\"LogTicker\"},{\"attributes\":{},\"id\":\"8189015f-5e51-4206-890f-795bc99c0f44\",\"type\":\"LogScale\"},{\"attributes\":{\"plot\":null,\"text\":\"Log pressure scale\"},\"id\":\"fd5689c5-654d-42d2-9fa0-3d20895cc4ed\",\"type\":\"Title\"},{\"attributes\":{\"axis_label\":\"cooling rate [K/day]\",\"formatter\":{\"id\":\"adf0103b-c7ae-419d-acf4-7a017cf6fac6\",\"type\":\"BasicTickFormatter\"},\"plot\":{\"id\":\"a9f6cea2-24a9-4e30-bb2e-a6ff0361e371\",\"subtype\":\"Figure\",\"type\":\"Plot\"},\"ticker\":{\"id\":\"309878ed-5a28-4964-96c1-c9f99a40e929\",\"type\":\"BasicTicker\"}},\"id\":\"8bfa6a0d-2775-4b51-9a26-c82bd4a36b2c\",\"type\":\"LinearAxis\"},{\"attributes\":{},\"id\":\"309878ed-5a28-4964-96c1-c9f99a40e929\",\"type\":\"BasicTicker\"},{\"attributes\":{\"plot\":{\"id\":\"a9f6cea2-24a9-4e30-bb2e-a6ff0361e371\",\"subtype\":\"Figure\",\"type\":\"Plot\"},\"ticker\":{\"id\":\"309878ed-5a28-4964-96c1-c9f99a40e929\",\"type\":\"BasicTicker\"}},\"id\":\"0012f3da-e168-414d-b89a-6a462f11b9fe\",\"type\":\"Grid\"},{\"attributes\":{\"line_alpha\":0.1,\"line_color\":\"#1f77b4\",\"line_width\":1.5,\"x\":{\"field\":\"x\"},\"y\":{\"field\":\"y\"}},\"id\":\"bb3402f2-5b2d-410f-9e03-b55a263e9f28\",\"type\":\"Line\"},{\"attributes\":{\"axis_label\":\"pressure [mb]\",\"formatter\":{\"id\":\"d3709b2d-3a8e-43ea-aae2-df0f159be76c\",\"type\":\"LogTickFormatter\"},\"plot\":{\"id\":\"a9f6cea2-24a9-4e30-bb2e-a6ff0361e371\",\"subtype\":\"Figure\",\"type\":\"Plot\"},\"ticker\":{\"id\":\"73f8d48a-0863-4f8c-a656-a35a6efc6c9a\",\"type\":\"LogTicker\"}},\"id\":\"305569b8-8957-4f84-a6b6-9704561ecc7c\",\"type\":\"LogAxis\"},{\"attributes\":{\"dimension\":1,\"plot\":{\"id\":\"a9f6cea2-24a9-4e30-bb2e-a6ff0361e371\",\"subtype\":\"Figure\",\"type\":\"Plot\"},\"ticker\":{\"id\":\"73f8d48a-0863-4f8c-a656-a35a6efc6c9a\",\"type\":\"LogTicker\"}},\"id\":\"1c46848f-b855-4c4b-af98-6611e007ea72\",\"type\":\"Grid\"},{\"attributes\":{\"children\":[{\"id\":\"b2e12214-ce26-478e-8fc5-4583b5ba4120\",\"type\":\"Row\"}]},\"id\":\"5e6d269c-0be5-411b-902e-38b85e4d566b\",\"type\":\"Column\"},{\"attributes\":{\"fill_alpha\":{\"value\":0.1},\"fill_color\":{\"value\":\"#1f77b4\"},\"line_alpha\":{\"value\":0.1},\"line_color\":{\"value\":\"#1f77b4\"},\"x\":{\"field\":\"x\"},\"y\":{\"field\":\"y\"}},\"id\":\"3ba782db-3a42-4218-8ba6-748892323a96\",\"type\":\"Square\"},{\"attributes\":{\"overlay\":{\"id\":\"afe494ce-f127-42a8-bb41-cf2e00f905b9\",\"type\":\"BoxAnnotation\"}},\"id\":\"f6fce0ee-9a26-4053-9f46-6e36962ddfea\",\"type\":\"BoxZoomTool\"},{\"attributes\":{\"bottom_units\":\"screen\",\"fill_alpha\":{\"value\":0.5},\"fill_color\":{\"value\":\"lightgrey\"},\"left_units\":\"screen\",\"level\":\"overlay\",\"line_alpha\":{\"value\":1.0},\"line_color\":{\"value\":\"black\"},\"line_dash\":[4,4],\"line_width\":{\"value\":2},\"plot\":null,\"render_mode\":\"css\",\"right_units\":\"screen\",\"top_units\":\"screen\"},\"id\":\"afe494ce-f127-42a8-bb41-cf2e00f905b9\",\"type\":\"BoxAnnotation\"},{\"attributes\":{\"data_source\":{\"id\":\"78780a9c-939d-43e3-93c0-6f0e771d1f0e\",\"type\":\"ColumnDataSource\"},\"glyph\":{\"id\":\"9a124715-d417-4769-8cef-9d711ef61674\",\"type\":\"Square\"},\"hover_glyph\":null,\"muted_glyph\":null,\"nonselection_glyph\":{\"id\":\"3ba782db-3a42-4218-8ba6-748892323a96\",\"type\":\"Square\"},\"selection_glyph\":null,\"view\":{\"id\":\"99d54e91-4b7c-4250-831c-6b4a5cae305c\",\"type\":\"CDSView\"}},\"id\":\"9322abaa-fafb-442a-972a-e9a46cfbe21e\",\"type\":\"GlyphRenderer\"},{\"attributes\":{},\"id\":\"d9388efd-cde8-4834-8f6b-75cfc64429f8\",\"type\":\"WheelZoomTool\"},{\"attributes\":{\"line_alpha\":0.1,\"line_color\":\"#1f77b4\",\"line_width\":3,\"x\":{\"field\":\"x\"},\"y\":{\"field\":\"y\"}},\"id\":\"89f58793-4aeb-42db-bffc-1e1ead488c0a\",\"type\":\"Line\"},{\"attributes\":{},\"id\":\"95df9df9-75ce-4895-912f-008cdf0341af\",\"type\":\"PanTool\"},{\"attributes\":{},\"id\":\"087d797b-ad73-46c4-9473-1deb9d627921\",\"type\":\"SaveTool\"},{\"attributes\":{},\"id\":\"132ce956-125b-47af-be72-97dd9e0cedb8\",\"type\":\"ResetTool\"},{\"attributes\":{\"children\":[{\"id\":\"81beb418-eeeb-4ef1-ab5e-f53010849cce\",\"subtype\":\"Figure\",\"type\":\"Plot\"},{\"id\":\"a9f6cea2-24a9-4e30-bb2e-a6ff0361e371\",\"subtype\":\"Figure\",\"type\":\"Plot\"}]},\"id\":\"b2e12214-ce26-478e-8fc5-4583b5ba4120\",\"type\":\"Row\"},{\"attributes\":{},\"id\":\"8df0eef8-75d4-48ac-9946-607e8e861cda\",\"type\":\"HelpTool\"},{\"attributes\":{\"line_alpha\":0.6,\"line_color\":\"#984ea3\",\"line_width\":3,\"x\":{\"field\":\"x\"},\"y\":{\"field\":\"y\"}},\"id\":\"dbb4ede1-5e81-4eb9-9ca7-bfdd16dd1ca9\",\"type\":\"Line\"},{\"attributes\":{\"data_source\":{\"id\":\"19b444f5-a2c7-485d-82b9-00474f9f2e92\",\"type\":\"ColumnDataSource\"},\"glyph\":{\"id\":\"dbb4ede1-5e81-4eb9-9ca7-bfdd16dd1ca9\",\"type\":\"Line\"},\"hover_glyph\":null,\"muted_glyph\":null,\"nonselection_glyph\":{\"id\":\"89f58793-4aeb-42db-bffc-1e1ead488c0a\",\"type\":\"Line\"},\"selection_glyph\":null,\"view\":{\"id\":\"230d958b-06ef-4f74-b6ea-96251b62f831\",\"type\":\"CDSView\"}},\"id\":\"8ff5909c-eb44-4b68-8d80-15dddf38c6d1\",\"type\":\"GlyphRenderer\"},{\"attributes\":{\"source\":{\"id\":\"36cbf453-1fb0-4c1b-8320-ea8d7143525e\",\"type\":\"ColumnDataSource\"}},\"id\":\"bb4f75a3-9bdf-43d3-b46a-e7c32266a0af\",\"type\":\"CDSView\"},{\"attributes\":{\"line_alpha\":0.1,\"line_color\":\"#1f77b4\",\"line_dash\":[6],\"line_width\":5,\"x\":{\"field\":\"x\"},\"y\":{\"field\":\"y\"}},\"id\":\"8c9ad253-321b-4aef-be0a-5d8826a04660\",\"type\":\"Line\"},{\"attributes\":{\"callback\":null,\"column_names\":[\"x\",\"y\"],\"data\":{\"x\":{\"__ndarray__\":\"3BMIYYzNsz+IoIsCVGPQP05SXgAhX6c/vidBRfa90j++P5QePMnUPya1BqUeWNg/u9svfp7v3j98qW390/HgPz3wlIIsU+Q/mME5nxH35j/2rVrCbz3pP0Et5QDq2+s/8mBJwWxF7T90dCLiYjztP2sesEAukOs/NjJ2XyEV6D8dM/VfjE3kP9Mgu8EGuuA/Ak5KnHDK3D+onQ4iIaPbP2ArNiAhjt4/k8scHgRV3j/gt+ca4u/YP8o1JkAk7tM/V0OgAnkZ0D+tW7F90MzJP5J8gEmFjMQ/J4g215vewD/NNv36nf29PxhgelYtRLo/mzc/38VktT/w5BeBWAawP3hE9z/Phak/skPU+8jYpz8P68q9edeoP2KEnyHkCKw/UKnBHXCprT+bGdehldmrP2M4OaSaV6g/JjAXnZ4KpT+VpIl8OeGhPxeHR6OBpp0/DdstAawZlz88VK5L6ImOP9qgIACS03U/DAskHzE+YD86ArOgAvCDPyXxAaDbYpQ/LGhfGx+dnD+xFJke7MuhP5+Ee2Al8aQ/otCR4Dbopz+hTSKDW8WqPxu0LJ+yiK0/E3hQHlAVsD9qRqv/GF+xP8QoxgENmbI/lrhbgCC6sz8qfgqC8re0P+6mPSAui7U/0LBQHwwytj+EMujfibS2PwWbQgDTFrc/8rqXXg9ktz9fo1TeaKm3P1lqEd/29bc/BJOI4QRVuD8RGP3+U8W4P3wTjwB4CLk/A7lmIAaiuD9CMGqe8zi3P6lgc1/lCLU/DXnW/maTsj99gHm+IhywPzRkrp8N36o/\",\"dtype\":\"float64\",\"shape\":[75]},\"y\":{\"__ndarray__\":\"S/O/Q+51ND/430zAtpRIP2vylNV0PVE/QxsjCssuWD/TR4Z78fVgP+inNsRxymc/OuuBfZWvcD/u3TFA02d3P2d3VoBnaoA/CD5h5MAGhz/1pA8HUCaQP+zrCsc9p5Y/Fb7LAKjGnz/nJ9c/SEmmPwBD+fzcQq8/FOZwv9nstT8Er5Y7M8G+P0c+r3jqkcU/yK72qKZBzj+tM989FzjVPxbgmr8yxN0/cOm5AXbg5D+5ctXAf0jtP5kqGJXUifQ/DsrqDELP/D8MCAhBojQEQDItVnmnVwxAiFXNvdHgE0BSSZ2AJuIbQAMJih9jjiNA5q4l5INuK0CPVN/5RT0zQHzxRXu8/DpAOZ7PgHrtQkAg8wGBzoxKQBSTN8DMeFJA2NmQf2ZqWEAAAAAAAFxeQEQX1LfMJmJAmpmZmZkfZUBmZmZmZhhoQLzoK0gzEWtAAAAAAAAKbkCiC+pbZoFwQAhyUMLM/XFA+I2vPTN6c0AQ5KCEmfZ0QAAAAAAAc3ZA8Btfe2bvd0AIclDCzGt5QPeNrz0z6HpAEOSghJlkfEAAAAAAAOF9QKML6ltmXX9ABTkoYeZsgED7xteeGSuBQAhyUMJM6YFAAAAAAICngkD4ja89s2WDQAU5KGHmI4RA+8bXnhnihEAIclDCTKCFQAAAAACAXoZA+I2vPbMch0AFOShh5tqHQPvG154ZmYhACHJQwkxXiUAAAAAAgBWKQPeNrz2z04pABTkoYeaRi0D7xteeGVCMQAlyUMJMDo1AAAAAAIDMjUD3ja89s4qOQGZmZmbmSI9A\",\"dtype\":\"float64\",\"shape\":[75]}}},\"id\":\"4ec51422-c8fe-4e8d-aed9-7b7760390104\",\"type\":\"ColumnDataSource\"},{\"attributes\":{\"fill_alpha\":{\"value\":0.7},\"fill_color\":{\"value\":\"#984ea3\"},\"line_alpha\":{\"value\":0.7},\"line_color\":{\"value\":\"#984ea3\"},\"x\":{\"field\":\"x\"},\"y\":{\"field\":\"y\"}},\"id\":\"9a124715-d417-4769-8cef-9d711ef61674\",\"type\":\"Square\"},{\"attributes\":{\"label\":{\"value\":\"WGT igg=10 wgt_flux=2\"},\"renderers\":[{\"id\":\"e665b65c-2af4-4f54-9bb6-41e19ce14df2\",\"type\":\"GlyphRenderer\"},{\"id\":\"3ba1ed23-6e07-4e35-b8ed-f42a881d2904\",\"type\":\"GlyphRenderer\"}]},\"id\":\"b9e86314-d836-4153-9b6e-f9dd0ed2e01b\",\"type\":\"LegendItem\"},{\"attributes\":{\"data_source\":{\"id\":\"4df75c38-63b4-41d7-997c-2c41fcf418db\",\"type\":\"ColumnDataSource\"},\"glyph\":{\"id\":\"c0aec8e4-ece6-4aee-887c-e30f346a4bc7\",\"type\":\"Line\"},\"hover_glyph\":null,\"muted_glyph\":null,\"nonselection_glyph\":{\"id\":\"bb3402f2-5b2d-410f-9e03-b55a263e9f28\",\"type\":\"Line\"},\"selection_glyph\":null,\"view\":{\"id\":\"2c312432-a80b-4f12-baed-a0b93edb5b5e\",\"type\":\"CDSView\"}},\"id\":\"c2e2bf6d-1082-4687-a493-fa8b319c50b7\",\"type\":\"GlyphRenderer\"},{\"attributes\":{\"callback\":null,\"column_names\":[\"x\",\"y\"],\"data\":{\"x\":{\"__ndarray__\":\"ZKhxDFQIzD9OP4/uc77OP0gZcQFoFNQ/vKbuZwQd2T8QTyPreGXeP9CUAKkL4OE/0lRw9AiA5D8cNIm0bPHmPz+GM2ThEOk/YcccV2W36j/rfA37HMPrP9f1j65nIuw/23lN1V7g6z+NYW/eD4rqP21ce3Yr8ec/c6I8d6s85T+Se/Rl7T/jP3vgnVtsA+I//gvj8khx4T9BGLKZx4rhP/wUruS2n+I/lUnsXhdT4T+7FVfPKKHaPxJujWN/NNQ/P2Vnl5CLzz9tpzFKZUTIP5kgdujsy8E/TfPQb0Zquj+ufOrmTwy2PyBLfyzNeLM/tIeQzzjIsD9nhpRsY1arPyY0sQ+eSKg/bmuC3e3QqD/IlA9B1eioPwOWgoyFw6g/mNSRohxsqD/OyMIFEKamP36pTvAVKaQ/NAowyVQDoj+IyPCl3r2fP3XNGY49NJs/4IVZ2jwdlj+XyCsuk4OPP9KbIN45I30/FLuJpJU3cj97AKlSVZaIP1IU0XcDQZY/NouMGLo1nj+Vqv5SUJuiP8FLAU2q1KU/AJxbRLvaqD8tQ8uj47arP7meWA+ubK4/TVrNRw1+sD+Z85E2g6+xP//bs05fxrI/XSKYHNe8sz99cGf03Yy0P1cz5DjtMrU/vAVoFPiutT9QhVZfEQe2P9vWMvPGRLY/mguj8/Z0tj/keo29FKe2PyhqGiix6rY/vGcYz4RMtz/IlPtc7sW3Pz9ZfepiF7g/+mmk8YC8tz9Q9znyy1a2P3UpzIBVI7Q/gK+aR/uosT8fjqZhlV6uPyfS0hwmCKk/\",\"dtype\":\"float64\",\"shape\":[75]},\"y\":{\"__ndarray__\":\"GhExyth1ND/Sv8nbtpRIP2vylNV0PVE/aTum7souWD/At0SJ8fVgPw3Iuahxymc/MSNhhJWvcD/bTfBN02d3P2zb5nxnaoA/CD5h5MAGhz8NmeH1TyaQP+zrCsc9p5Y/LbKd76fGnz/bLW5ISEmmPww9YvTcQq8/JV2OstnstT8Er5Y7M8G+P0c+r3jqkcU/5h99k6ZBzj88bCIzFzjVP4enV8oyxN0//yH99nXg5D8qOpLLf0jtP5kqGJXUifQ/c9cS8kHP/D+/DpwzojQEQIEmwoanVwxA4lgXt9HgE0BSSZ2AJuIbQAMJih9jjiNA5q4l5INuK0AwTKYKRj0zQNv5fmq8/DpAaCJseHrtQkB/+zpwzoxKQM3MzMzMeFJAZmZmZmZqWEAAAAAAAFxeQM3MzMzMJmJAmpmZmZkfZUBmZmZmZhhoQDMzMzMzEWtAAAAAAAAKbkBmZmZmZoFwQM3MzMzM/XFAMzMzMzN6c0CamZmZmfZ0QAAAAAAAc3ZAZmZmZmbvd0DNzMzMzGt5QDMzMzMz6HpAmpmZmZlkfEAAAAAAAOF9QGZmZmZmXX9AZmZmZuZsgECamZmZGSuBQM3MzMxM6YFAAAAAAICngkAzMzMzs2WDQGZmZmbmI4RAmpmZmRnihEDNzMzMTKCFQAAAAACAXoZAMzMzM7Mch0BmZmZm5tqHQJqZmZkZmYhAzczMzExXiUAAAAAAgBWKQDMzMzOz04pAZmZmZuaRi0CamZmZGVCMQM3MzMxMDo1AAAAAAIDMjUAzMzMzs4qOQGZmZmbmSI9A\",\"dtype\":\"float64\",\"shape\":[75]}}},\"id\":\"49d80363-907d-442f-8206-b3d00c23b066\",\"type\":\"ColumnDataSource\"},{\"attributes\":{\"line_alpha\":0.6,\"line_color\":\"#e41a1c\",\"line_dash\":[6],\"line_width\":5,\"x\":{\"field\":\"x\"},\"y\":{\"field\":\"y\"}},\"id\":\"3018c936-d26a-4f0d-82cd-64171417410a\",\"type\":\"Line\"},{\"attributes\":{\"tools\":[{\"id\":\"93f08fcc-b39a-4e2e-9171-c3f7631dba26\",\"type\":\"PanTool\"},{\"id\":\"56197b37-64f4-415c-84bf-cabf17f8729c\",\"type\":\"WheelZoomTool\"},{\"id\":\"8382033d-7a12-4ebd-a311-fbd950b56056\",\"type\":\"BoxZoomTool\"},{\"id\":\"bb8b0d51-e01c-40d4-8324-6810dfcb5cf4\",\"type\":\"SaveTool\"},{\"id\":\"952bb061-fe9a-4551-bb60-c483079c019f\",\"type\":\"ResetTool\"},{\"id\":\"94acc885-77d3-4807-be50-ffe81eea8462\",\"type\":\"HelpTool\"},{\"id\":\"95df9df9-75ce-4895-912f-008cdf0341af\",\"type\":\"PanTool\"},{\"id\":\"d9388efd-cde8-4834-8f6b-75cfc64429f8\",\"type\":\"WheelZoomTool\"},{\"id\":\"f6fce0ee-9a26-4053-9f46-6e36962ddfea\",\"type\":\"BoxZoomTool\"},{\"id\":\"087d797b-ad73-46c4-9473-1deb9d627921\",\"type\":\"SaveTool\"},{\"id\":\"132ce956-125b-47af-be72-97dd9e0cedb8\",\"type\":\"ResetTool\"},{\"id\":\"8df0eef8-75d4-48ac-9946-607e8e861cda\",\"type\":\"HelpTool\"}]},\"id\":\"8a843bd2-4592-4f45-9107-b0566b29ad74\",\"type\":\"ProxyToolbar\"},{\"attributes\":{\"callback\":null,\"column_names\":[\"x\",\"y\"],\"data\":{\"x\":{\"__ndarray__\":\"A+KKyNF4xT8f/Lzfd6fIPzf7TksGWtA/4iBVVRvp1D+LxmB7Jr3ZP49nio6a4t4/fGVwwx8Z4j+17xAaT8HkP7JdP97lVec/KI3m+paz6T+JRG+ZXbDrP2jyTZInJ+0/jylROJ3r7T8UuM/hKVDtP1FnmIDU3uo/f2he/fx85z/rkiwBIx3kP5hhTkaFSeE/t1EoF3oB3z8Dh9AAV0TeP6k13HwIceA/fIaswYbO3z+BWvqZlmjZP/Ztrhfq3tM/hvTC+Dmvzz9Sxy6YqE7JP/kYqmlmBcQ/MAk1LDRjwD/xXI0eMAm9P1fbC54YuLk/0GZFSuE/tT8+lNh14DOwP448Er/awKo/SpEPj8Axqj9QqyG2VdaqPw/x0yxy46w/3wi63f89rj/IhvjAmqOsP1xqMkpPcak/Isa4xFFPpj8LG17hxR+jPwfPevS4uJ8/YT19fMe6mD9YEY2ihHqQP3zf8xGP3ng/L5LhQ1/vZD/EGXtdd1GFP837STu1MJU/E2kNIalqnT+NudqeOzOiP4Ys3kzIVKU/pEaM/S85qD+Z3PC2QfSqP2a7OSrPj60/QVL6CYIHsD88ztacCzmxP8H0wJe8UbI/ulBEn6ZRsz+cQr9MuS+0PxCLA+eL5rQ/y1ZAGk90tT9aEzAQTd+1P8TJWsLkLrY/I49miLButj9TY8/M86y2PwQRjZiw+bY/oPRUfqhktz/SPN/Oit63PxD7vw1qNLg/C8Ki9Jrgtz+0AYL4WYa2P9zY0H6MYrQ/LTzYscL6sT8w7IOe6COvP7HF3Jyu56k/\",\"dtype\":\"float64\",\"shape\":[75]},\"y\":{\"__ndarray__\":\"GhExyth1ND/Sv8nbtpRIP2vylNV0PVE/aTum7souWD/At0SJ8fVgPw3Iuahxymc/MSNhhJWvcD/bTfBN02d3P2zb5nxnaoA/CD5h5MAGhz8NmeH1TyaQP+zrCsc9p5Y/LbKd76fGnz/bLW5ISEmmPww9YvTcQq8/JV2OstnstT8Er5Y7M8G+P0c+r3jqkcU/5h99k6ZBzj88bCIzFzjVP4enV8oyxN0//yH99nXg5D8qOpLLf0jtP5kqGJXUifQ/c9cS8kHP/D+/DpwzojQEQIEmwoanVwxA4lgXt9HgE0BSSZ2AJuIbQAMJih9jjiNA5q4l5INuK0AwTKYKRj0zQNv5fmq8/DpAaCJseHrtQkB/+zpwzoxKQM3MzMzMeFJAZmZmZmZqWEAAAAAAAFxeQM3MzMzMJmJAmpmZmZkfZUBmZmZmZhhoQDMzMzMzEWtAAAAAAAAKbkBmZmZmZoFwQM3MzMzM/XFAMzMzMzN6c0CamZmZmfZ0QAAAAAAAc3ZAZmZmZmbvd0DNzMzMzGt5QDMzMzMz6HpAmpmZmZlkfEAAAAAAAOF9QGZmZmZmXX9AZmZmZuZsgECamZmZGSuBQM3MzMxM6YFAAAAAAICngkAzMzMzs2WDQGZmZmbmI4RAmpmZmRnihEDNzMzMTKCFQAAAAACAXoZAMzMzM7Mch0BmZmZm5tqHQJqZmZkZmYhAzczMzExXiUAAAAAAgBWKQDMzMzOz04pAZmZmZuaRi0CamZmZGVCMQM3MzMxMDo1AAAAAAIDMjUAzMzMzs4qOQGZmZmbmSI9A\",\"dtype\":\"float64\",\"shape\":[75]}}},\"id\":\"78780a9c-939d-43e3-93c0-6f0e771d1f0e\",\"type\":\"ColumnDataSource\"},{\"attributes\":{\"toolbar\":{\"id\":\"8a843bd2-4592-4f45-9107-b0566b29ad74\",\"type\":\"ProxyToolbar\"},\"toolbar_location\":\"above\"},\"id\":\"6b746ea3-ac32-4143-84e6-09df0185d851\",\"type\":\"ToolbarBox\"},{\"attributes\":{\"callback\":null,\"column_names\":[\"x\",\"y\"],\"data\":{\"x\":{\"__ndarray__\":\"A+KKyNF4xT8f/Lzfd6fIPzf7TksGWtA/4iBVVRvp1D+LxmB7Jr3ZP49nio6a4t4/fGVwwx8Z4j+17xAaT8HkP7JdP97lVec/KI3m+paz6T+JRG+ZXbDrP2jyTZInJ+0/jylROJ3r7T8UuM/hKVDtP1FnmIDU3uo/f2he/fx85z/rkiwBIx3kP5hhTkaFSeE/t1EoF3oB3z8Dh9AAV0TeP6k13HwIceA/fIaswYbO3z+BWvqZlmjZP/Ztrhfq3tM/hvTC+Dmvzz9Sxy6YqE7JP/kYqmlmBcQ/MAk1LDRjwD/xXI0eMAm9P1fbC54YuLk/0GZFSuE/tT8+lNh14DOwP448Er/awKo/SpEPj8Axqj9QqyG2VdaqPw/x0yxy46w/3wi63f89rj/IhvjAmqOsP1xqMkpPcak/Isa4xFFPpj8LG17hxR+jPwfPevS4uJ8/YT19fMe6mD9YEY2ihHqQP3zf8xGP3ng/L5LhQ1/vZD/EGXtdd1GFP837STu1MJU/E2kNIalqnT+NudqeOzOiP4Ys3kzIVKU/pEaM/S85qD+Z3PC2QfSqP2a7OSrPj60/QVL6CYIHsD88ztacCzmxP8H0wJe8UbI/ulBEn6ZRsz+cQr9MuS+0PxCLA+eL5rQ/y1ZAGk90tT9aEzAQTd+1P8TJWsLkLrY/I49miLButj9TY8/M86y2PwQRjZiw+bY/oPRUfqhktz/SPN/Oit63PxD7vw1qNLg/C8Ki9Jrgtz+0AYL4WYa2P9zY0H6MYrQ/LTzYscL6sT8w7IOe6COvP7HF3Jyu56k/\",\"dtype\":\"float64\",\"shape\":[75]},\"y\":{\"__ndarray__\":\"GhExyth1ND/Sv8nbtpRIP2vylNV0PVE/aTum7souWD/At0SJ8fVgPw3Iuahxymc/MSNhhJWvcD/bTfBN02d3P2zb5nxnaoA/CD5h5MAGhz8NmeH1TyaQP+zrCsc9p5Y/LbKd76fGnz/bLW5ISEmmPww9YvTcQq8/JV2OstnstT8Er5Y7M8G+P0c+r3jqkcU/5h99k6ZBzj88bCIzFzjVP4enV8oyxN0//yH99nXg5D8qOpLLf0jtP5kqGJXUifQ/c9cS8kHP/D+/DpwzojQEQIEmwoanVwxA4lgXt9HgE0BSSZ2AJuIbQAMJih9jjiNA5q4l5INuK0AwTKYKRj0zQNv5fmq8/DpAaCJseHrtQkB/+zpwzoxKQM3MzMzMeFJAZmZmZmZqWEAAAAAAAFxeQM3MzMzMJmJAmpmZmZkfZUBmZmZmZhhoQDMzMzMzEWtAAAAAAAAKbkBmZmZmZoFwQM3MzMzM/XFAMzMzMzN6c0CamZmZmfZ0QAAAAAAAc3ZAZmZmZmbvd0DNzMzMzGt5QDMzMzMz6HpAmpmZmZlkfEAAAAAAAOF9QGZmZmZmXX9AZmZmZuZsgECamZmZGSuBQM3MzMxM6YFAAAAAAICngkAzMzMzs2WDQGZmZmbmI4RAmpmZmRnihEDNzMzMTKCFQAAAAACAXoZAMzMzM7Mch0BmZmZm5tqHQJqZmZkZmYhAzczMzExXiUAAAAAAgBWKQDMzMzOz04pAZmZmZuaRi0CamZmZGVCMQM3MzMxMDo1AAAAAAIDMjUAzMzMzs4qOQGZmZmbmSI9A\",\"dtype\":\"float64\",\"shape\":[75]}}},\"id\":\"19b444f5-a2c7-485d-82b9-00474f9f2e92\",\"type\":\"ColumnDataSource\"},{\"attributes\":{\"fill_alpha\":{\"value\":0.7},\"fill_color\":{\"value\":\"#4daf4a\"},\"line_alpha\":{\"value\":0.7},\"line_color\":{\"value\":\"#4daf4a\"},\"x\":{\"field\":\"x\"},\"y\":{\"field\":\"y\"}},\"id\":\"71ade6ef-ebc9-43d5-9b88-7df49cb25569\",\"type\":\"Circle\"},{\"attributes\":{\"callback\":null,\"end\":0.01,\"start\":1020},\"id\":\"1c40dfd2-e01a-4f8e-89d6-c1f237702747\",\"type\":\"Range1d\"},{\"attributes\":{},\"id\":\"93f08fcc-b39a-4e2e-9171-c3f7631dba26\",\"type\":\"PanTool\"},{\"attributes\":{\"callback\":null,\"column_names\":[\"x\",\"y\"],\"data\":{\"x\":{\"__ndarray__\":\"ZKhxDFQIzD9OP4/uc77OP0gZcQFoFNQ/vKbuZwQd2T8QTyPreGXeP9CUAKkL4OE/0lRw9AiA5D8cNIm0bPHmPz+GM2ThEOk/YcccV2W36j/rfA37HMPrP9f1j65nIuw/23lN1V7g6z+NYW/eD4rqP21ce3Yr8ec/c6I8d6s85T+Se/Rl7T/jP3vgnVtsA+I//gvj8khx4T9BGLKZx4rhP/wUruS2n+I/lUnsXhdT4T+7FVfPKKHaPxJujWN/NNQ/P2Vnl5CLzz9tpzFKZUTIP5kgdujsy8E/TfPQb0Zquj+ufOrmTwy2PyBLfyzNeLM/tIeQzzjIsD9nhpRsY1arPyY0sQ+eSKg/bmuC3e3QqD/IlA9B1eioPwOWgoyFw6g/mNSRohxsqD/OyMIFEKamP36pTvAVKaQ/NAowyVQDoj+IyPCl3r2fP3XNGY49NJs/4IVZ2jwdlj+XyCsuk4OPP9KbIN45I30/FLuJpJU3cj97AKlSVZaIP1IU0XcDQZY/NouMGLo1nj+Vqv5SUJuiP8FLAU2q1KU/AJxbRLvaqD8tQ8uj47arP7meWA+ubK4/TVrNRw1+sD+Z85E2g6+xP//bs05fxrI/XSKYHNe8sz99cGf03Yy0P1cz5DjtMrU/vAVoFPiutT9QhVZfEQe2P9vWMvPGRLY/mguj8/Z0tj/keo29FKe2PyhqGiix6rY/vGcYz4RMtz/IlPtc7sW3Pz9ZfepiF7g/+mmk8YC8tz9Q9znyy1a2P3UpzIBVI7Q/gK+aR/uosT8fjqZhlV6uPyfS0hwmCKk/\",\"dtype\":\"float64\",\"shape\":[75]},\"y\":{\"__ndarray__\":\"GhExyth1ND/Sv8nbtpRIP2vylNV0PVE/aTum7souWD/At0SJ8fVgPw3Iuahxymc/MSNhhJWvcD/bTfBN02d3P2zb5nxnaoA/CD5h5MAGhz8NmeH1TyaQP+zrCsc9p5Y/LbKd76fGnz/bLW5ISEmmPww9YvTcQq8/JV2OstnstT8Er5Y7M8G+P0c+r3jqkcU/5h99k6ZBzj88bCIzFzjVP4enV8oyxN0//yH99nXg5D8qOpLLf0jtP5kqGJXUifQ/c9cS8kHP/D+/DpwzojQEQIEmwoanVwxA4lgXt9HgE0BSSZ2AJuIbQAMJih9jjiNA5q4l5INuK0AwTKYKRj0zQNv5fmq8/DpAaCJseHrtQkB/+zpwzoxKQM3MzMzMeFJAZmZmZmZqWEAAAAAAAFxeQM3MzMzMJmJAmpmZmZkfZUBmZmZmZhhoQDMzMzMzEWtAAAAAAAAKbkBmZmZmZoFwQM3MzMzM/XFAMzMzMzN6c0CamZmZmfZ0QAAAAAAAc3ZAZmZmZmbvd0DNzMzMzGt5QDMzMzMz6HpAmpmZmZlkfEAAAAAAAOF9QGZmZmZmXX9AZmZmZuZsgECamZmZGSuBQM3MzMxM6YFAAAAAAICngkAzMzMzs2WDQGZmZmbmI4RAmpmZmRnihEDNzMzMTKCFQAAAAACAXoZAMzMzM7Mch0BmZmZm5tqHQJqZmZkZmYhAzczMzExXiUAAAAAAgBWKQDMzMzOz04pAZmZmZuaRi0CamZmZGVCMQM3MzMxMDo1AAAAAAIDMjUAzMzMzs4qOQGZmZmbmSI9A\",\"dtype\":\"float64\",\"shape\":[75]}}},\"id\":\"b19b7478-28b7-416a-b3ff-d700f576fda0\",\"type\":\"ColumnDataSource\"},{\"attributes\":{},\"id\":\"56197b37-64f4-415c-84bf-cabf17f8729c\",\"type\":\"WheelZoomTool\"},{\"attributes\":{\"overlay\":{\"id\":\"8d7dd55c-3c8d-423d-b17a-0aaed1424cbb\",\"type\":\"BoxAnnotation\"}},\"id\":\"8382033d-7a12-4ebd-a311-fbd950b56056\",\"type\":\"BoxZoomTool\"},{\"attributes\":{\"line_alpha\":0.1,\"line_color\":\"#1f77b4\",\"line_dash\":[6],\"line_width\":5,\"x\":{\"field\":\"x\"},\"y\":{\"field\":\"y\"}},\"id\":\"74458c12-e15a-491a-9bcf-b7a1c4261b09\",\"type\":\"Line\"},{\"attributes\":{\"callback\":null,\"column_names\":[\"x\",\"y\"],\"data\":{\"x\":{\"__ndarray__\":\"3BMIYYzNsz+IoIsCVGPQP05SXgAhX6c/vidBRfa90j++P5QePMnUPya1BqUeWNg/u9svfp7v3j98qW390/HgPz3wlIIsU+Q/mME5nxH35j/2rVrCbz3pP0Et5QDq2+s/8mBJwWxF7T90dCLiYjztP2sesEAukOs/NjJ2XyEV6D8dM/VfjE3kP9Mgu8EGuuA/Ak5KnHDK3D+onQ4iIaPbP2ArNiAhjt4/k8scHgRV3j/gt+ca4u/YP8o1JkAk7tM/V0OgAnkZ0D+tW7F90MzJP5J8gEmFjMQ/J4g215vewD/NNv36nf29PxhgelYtRLo/mzc/38VktT/w5BeBWAawP3hE9z/Phak/skPU+8jYpz8P68q9edeoP2KEnyHkCKw/UKnBHXCprT+bGdehldmrP2M4OaSaV6g/JjAXnZ4KpT+VpIl8OeGhPxeHR6OBpp0/DdstAawZlz88VK5L6ImOP9qgIACS03U/DAskHzE+YD86ArOgAvCDPyXxAaDbYpQ/LGhfGx+dnD+xFJke7MuhP5+Ee2Al8aQ/otCR4Dbopz+hTSKDW8WqPxu0LJ+yiK0/E3hQHlAVsD9qRqv/GF+xP8QoxgENmbI/lrhbgCC6sz8qfgqC8re0P+6mPSAui7U/0LBQHwwytj+EMujfibS2PwWbQgDTFrc/8rqXXg9ktz9fo1TeaKm3P1lqEd/29bc/BJOI4QRVuD8RGP3+U8W4P3wTjwB4CLk/A7lmIAaiuD9CMGqe8zi3P6lgc1/lCLU/DXnW/maTsj99gHm+IhywPzRkrp8N36o/\",\"dtype\":\"float64\",\"shape\":[75]},\"y\":{\"__ndarray__\":\"S/O/Q+51ND/430zAtpRIP2vylNV0PVE/QxsjCssuWD/TR4Z78fVgP+inNsRxymc/OuuBfZWvcD/u3TFA02d3P2d3VoBnaoA/CD5h5MAGhz/1pA8HUCaQP+zrCsc9p5Y/Fb7LAKjGnz/nJ9c/SEmmPwBD+fzcQq8/FOZwv9nstT8Er5Y7M8G+P0c+r3jqkcU/yK72qKZBzj+tM989FzjVPxbgmr8yxN0/cOm5AXbg5D+5ctXAf0jtP5kqGJXUifQ/DsrqDELP/D8MCAhBojQEQDItVnmnVwxAiFXNvdHgE0BSSZ2AJuIbQAMJih9jjiNA5q4l5INuK0CPVN/5RT0zQHzxRXu8/DpAOZ7PgHrtQkAg8wGBzoxKQBSTN8DMeFJA2NmQf2ZqWEAAAAAAAFxeQEQX1LfMJmJAmpmZmZkfZUBmZmZmZhhoQLzoK0gzEWtAAAAAAAAKbkCiC+pbZoFwQAhyUMLM/XFA+I2vPTN6c0AQ5KCEmfZ0QAAAAAAAc3ZA8Btfe2bvd0AIclDCzGt5QPeNrz0z6HpAEOSghJlkfEAAAAAAAOF9QKML6ltmXX9ABTkoYeZsgED7xteeGSuBQAhyUMJM6YFAAAAAAICngkD4ja89s2WDQAU5KGHmI4RA+8bXnhnihEAIclDCTKCFQAAAAACAXoZA+I2vPbMch0AFOShh5tqHQPvG154ZmYhACHJQwkxXiUAAAAAAgBWKQPeNrz2z04pABTkoYeaRi0D7xteeGVCMQAlyUMJMDo1AAAAAAIDMjUD3ja89s4qOQGZmZmbmSI9A\",\"dtype\":\"float64\",\"shape\":[75]}}},\"id\":\"36cbf453-1fb0-4c1b-8320-ea8d7143525e\",\"type\":\"ColumnDataSource\"},{\"attributes\":{},\"id\":\"bb8b0d51-e01c-40d4-8324-6810dfcb5cf4\",\"type\":\"SaveTool\"},{\"attributes\":{\"data_source\":{\"id\":\"36cbf453-1fb0-4c1b-8320-ea8d7143525e\",\"type\":\"ColumnDataSource\"},\"glyph\":{\"id\":\"c8102dd0-f47d-443e-9226-ccbe93e7df6c\",\"type\":\"Line\"},\"hover_glyph\":null,\"muted_glyph\":null,\"nonselection_glyph\":{\"id\":\"74458c12-e15a-491a-9bcf-b7a1c4261b09\",\"type\":\"Line\"},\"selection_glyph\":null,\"view\":{\"id\":\"bb4f75a3-9bdf-43d3-b46a-e7c32266a0af\",\"type\":\"CDSView\"}},\"id\":\"addb9703-2207-4048-b257-9482d317dbcb\",\"type\":\"GlyphRenderer\"},{\"attributes\":{\"callback\":null,\"column_names\":[\"x\",\"y\"],\"data\":{\"x\":{\"__ndarray__\":\"ZKhxDFQIzD9OP4/uc77OP0gZcQFoFNQ/vKbuZwQd2T8QTyPreGXeP9CUAKkL4OE/0lRw9AiA5D8cNIm0bPHmPz+GM2ThEOk/YcccV2W36j/rfA37HMPrP9f1j65nIuw/23lN1V7g6z+NYW/eD4rqP21ce3Yr8ec/c6I8d6s85T+Se/Rl7T/jP3vgnVtsA+I//gvj8khx4T9BGLKZx4rhP/wUruS2n+I/lUnsXhdT4T+7FVfPKKHaPxJujWN/NNQ/P2Vnl5CLzz9tpzFKZUTIP5kgdujsy8E/TfPQb0Zquj+ufOrmTwy2PyBLfyzNeLM/tIeQzzjIsD9nhpRsY1arPyY0sQ+eSKg/bmuC3e3QqD/IlA9B1eioPwOWgoyFw6g/mNSRohxsqD/OyMIFEKamP36pTvAVKaQ/NAowyVQDoj+IyPCl3r2fP3XNGY49NJs/4IVZ2jwdlj+XyCsuk4OPP9KbIN45I30/FLuJpJU3cj97AKlSVZaIP1IU0XcDQZY/NouMGLo1nj+Vqv5SUJuiP8FLAU2q1KU/AJxbRLvaqD8tQ8uj47arP7meWA+ubK4/TVrNRw1+sD+Z85E2g6+xP//bs05fxrI/XSKYHNe8sz99cGf03Yy0P1cz5DjtMrU/vAVoFPiutT9QhVZfEQe2P9vWMvPGRLY/mguj8/Z0tj/keo29FKe2PyhqGiix6rY/vGcYz4RMtz/IlPtc7sW3Pz9ZfepiF7g/+mmk8YC8tz9Q9znyy1a2P3UpzIBVI7Q/gK+aR/uosT8fjqZhlV6uPyfS0hwmCKk/\",\"dtype\":\"float64\",\"shape\":[75]},\"y\":{\"__ndarray__\":\"GhExyth1ND/Sv8nbtpRIP2vylNV0PVE/aTum7souWD/At0SJ8fVgPw3Iuahxymc/MSNhhJWvcD/bTfBN02d3P2zb5nxnaoA/CD5h5MAGhz8NmeH1TyaQP+zrCsc9p5Y/LbKd76fGnz/bLW5ISEmmPww9YvTcQq8/JV2OstnstT8Er5Y7M8G+P0c+r3jqkcU/5h99k6ZBzj88bCIzFzjVP4enV8oyxN0//yH99nXg5D8qOpLLf0jtP5kqGJXUifQ/c9cS8kHP/D+/DpwzojQEQIEmwoanVwxA4lgXt9HgE0BSSZ2AJuIbQAMJih9jjiNA5q4l5INuK0AwTKYKRj0zQNv5fmq8/DpAaCJseHrtQkB/+zpwzoxKQM3MzMzMeFJAZmZmZmZqWEAAAAAAAFxeQM3MzMzMJmJAmpmZmZkfZUBmZmZmZhhoQDMzMzMzEWtAAAAAAAAKbkBmZmZmZoFwQM3MzMzM/XFAMzMzMzN6c0CamZmZmfZ0QAAAAAAAc3ZAZmZmZmbvd0DNzMzMzGt5QDMzMzMz6HpAmpmZmZlkfEAAAAAAAOF9QGZmZmZmXX9AZmZmZuZsgECamZmZGSuBQM3MzMxM6YFAAAAAAICngkAzMzMzs2WDQGZmZmbmI4RAmpmZmRnihEDNzMzMTKCFQAAAAACAXoZAMzMzM7Mch0BmZmZm5tqHQJqZmZkZmYhAzczMzExXiUAAAAAAgBWKQDMzMzOz04pAZmZmZuaRi0CamZmZGVCMQM3MzMxMDo1AAAAAAIDMjUAzMzMzs4qOQGZmZmbmSI9A\",\"dtype\":\"float64\",\"shape\":[75]}}},\"id\":\"8d78e1ed-e76b-40db-9be2-dbba7afb6409\",\"type\":\"ColumnDataSource\"},{\"attributes\":{\"data_source\":{\"id\":\"b19b7478-28b7-416a-b3ff-d700f576fda0\",\"type\":\"ColumnDataSource\"},\"glyph\":{\"id\":\"dec7f085-0c36-4a00-a985-6bc66b4526b6\",\"type\":\"Circle\"},\"hover_glyph\":null,\"muted_glyph\":null,\"nonselection_glyph\":{\"id\":\"c7619e30-83d5-4b76-a6b5-68e93a5cf49d\",\"type\":\"Circle\"},\"selection_glyph\":null,\"view\":{\"id\":\"7420fd98-f2ae-4e0c-aa89-2ffef2033c55\",\"type\":\"CDSView\"}},\"id\":\"3c8a4f4b-1687-4335-b7e6-819fa2594dc2\",\"type\":\"GlyphRenderer\"},{\"attributes\":{},\"id\":\"952bb061-fe9a-4551-bb60-c483079c019f\",\"type\":\"ResetTool\"},{\"attributes\":{\"fill_alpha\":{\"value\":0.1},\"fill_color\":{\"value\":\"#1f77b4\"},\"line_alpha\":{\"value\":0.1},\"line_color\":{\"value\":\"#1f77b4\"},\"x\":{\"field\":\"x\"},\"y\":{\"field\":\"y\"}},\"id\":\"c7619e30-83d5-4b76-a6b5-68e93a5cf49d\",\"type\":\"Circle\"},{\"attributes\":{\"label\":{\"value\":\"CRD\"},\"renderers\":[{\"id\":\"3c8a4f4b-1687-4335-b7e6-819fa2594dc2\",\"type\":\"GlyphRenderer\"},{\"id\":\"299a5971-e660-40c7-ab68-4ddab2aa542f\",\"type\":\"GlyphRenderer\"}]},\"id\":\"790cc5e5-0c89-4c71-8857-f8240d2d101f\",\"type\":\"LegendItem\"},{\"attributes\":{\"fill_alpha\":{\"value\":0.7},\"fill_color\":{\"value\":\"#4daf4a\"},\"line_alpha\":{\"value\":0.7},\"line_color\":{\"value\":\"#4daf4a\"},\"x\":{\"field\":\"x\"},\"y\":{\"field\":\"y\"}},\"id\":\"dec7f085-0c36-4a00-a985-6bc66b4526b6\",\"type\":\"Circle\"},{\"attributes\":{\"source\":{\"id\":\"49d80363-907d-442f-8206-b3d00c23b066\",\"type\":\"ColumnDataSource\"}},\"id\":\"f6419398-14b5-4418-9b77-0259a552a01e\",\"type\":\"CDSView\"},{\"attributes\":{\"ticker\":null},\"id\":\"d3709b2d-3a8e-43ea-aae2-df0f159be76c\",\"type\":\"LogTickFormatter\"},{\"attributes\":{},\"id\":\"94acc885-77d3-4807-be50-ffe81eea8462\",\"type\":\"HelpTool\"},{\"attributes\":{},\"id\":\"4d7b4cd9-c995-4e2e-8263-d31582a08d0b\",\"type\":\"BasicTicker\"},{\"attributes\":{},\"id\":\"adf0103b-c7ae-419d-acf4-7a017cf6fac6\",\"type\":\"BasicTickFormatter\"},{\"attributes\":{\"callback\":null,\"column_names\":[\"x\",\"y\"],\"data\":{\"x\":{\"__ndarray__\":\"A+KKyNF4xT8f/Lzfd6fIPzf7TksGWtA/4iBVVRvp1D+LxmB7Jr3ZP49nio6a4t4/fGVwwx8Z4j+17xAaT8HkP7JdP97lVec/KI3m+paz6T+JRG+ZXbDrP2jyTZInJ+0/jylROJ3r7T8UuM/hKVDtP1FnmIDU3uo/f2he/fx85z/rkiwBIx3kP5hhTkaFSeE/t1EoF3oB3z8Dh9AAV0TeP6k13HwIceA/fIaswYbO3z+BWvqZlmjZP/Ztrhfq3tM/hvTC+Dmvzz9Sxy6YqE7JP/kYqmlmBcQ/MAk1LDRjwD/xXI0eMAm9P1fbC54YuLk/0GZFSuE/tT8+lNh14DOwP448Er/awKo/SpEPj8Axqj9QqyG2VdaqPw/x0yxy46w/3wi63f89rj/IhvjAmqOsP1xqMkpPcak/Isa4xFFPpj8LG17hxR+jPwfPevS4uJ8/YT19fMe6mD9YEY2ihHqQP3zf8xGP3ng/L5LhQ1/vZD/EGXtdd1GFP837STu1MJU/E2kNIalqnT+NudqeOzOiP4Ys3kzIVKU/pEaM/S85qD+Z3PC2QfSqP2a7OSrPj60/QVL6CYIHsD88ztacCzmxP8H0wJe8UbI/ulBEn6ZRsz+cQr9MuS+0PxCLA+eL5rQ/y1ZAGk90tT9aEzAQTd+1P8TJWsLkLrY/I49miLButj9TY8/M86y2PwQRjZiw+bY/oPRUfqhktz/SPN/Oit63PxD7vw1qNLg/C8Ki9Jrgtz+0AYL4WYa2P9zY0H6MYrQ/LTzYscL6sT8w7IOe6COvP7HF3Jyu56k/\",\"dtype\":\"float64\",\"shape\":[75]},\"y\":{\"__ndarray__\":\"GhExyth1ND/Sv8nbtpRIP2vylNV0PVE/aTum7souWD/At0SJ8fVgPw3Iuahxymc/MSNhhJWvcD/bTfBN02d3P2zb5nxnaoA/CD5h5MAGhz8NmeH1TyaQP+zrCsc9p5Y/LbKd76fGnz/bLW5ISEmmPww9YvTcQq8/JV2OstnstT8Er5Y7M8G+P0c+r3jqkcU/5h99k6ZBzj88bCIzFzjVP4enV8oyxN0//yH99nXg5D8qOpLLf0jtP5kqGJXUifQ/c9cS8kHP/D+/DpwzojQEQIEmwoanVwxA4lgXt9HgE0BSSZ2AJuIbQAMJih9jjiNA5q4l5INuK0AwTKYKRj0zQNv5fmq8/DpAaCJseHrtQkB/+zpwzoxKQM3MzMzMeFJAZmZmZmZqWEAAAAAAAFxeQM3MzMzMJmJAmpmZmZkfZUBmZmZmZhhoQDMzMzMzEWtAAAAAAAAKbkBmZmZmZoFwQM3MzMzM/XFAMzMzMzN6c0CamZmZmfZ0QAAAAAAAc3ZAZmZmZmbvd0DNzMzMzGt5QDMzMzMz6HpAmpmZmZlkfEAAAAAAAOF9QGZmZmZmXX9AZmZmZuZsgECamZmZGSuBQM3MzMxM6YFAAAAAAICngkAzMzMzs2WDQGZmZmbmI4RAmpmZmRnihEDNzMzMTKCFQAAAAACAXoZAMzMzM7Mch0BmZmZm5tqHQJqZmZkZmYhAzczMzExXiUAAAAAAgBWKQDMzMzOz04pAZmZmZuaRi0CamZmZGVCMQM3MzMxMDo1AAAAAAIDMjUAzMzMzs4qOQGZmZmbmSI9A\",\"dtype\":\"float64\",\"shape\":[75]}}},\"id\":\"b3d83159-72e5-4324-90ac-0abfa69b57fa\",\"type\":\"ColumnDataSource\"},{\"attributes\":{\"source\":{\"id\":\"b19b7478-28b7-416a-b3ff-d700f576fda0\",\"type\":\"ColumnDataSource\"}},\"id\":\"7420fd98-f2ae-4e0c-aa89-2ffef2033c55\",\"type\":\"CDSView\"},{\"attributes\":{\"line_color\":\"#4daf4a\",\"line_width\":1.5,\"x\":{\"field\":\"x\"},\"y\":{\"field\":\"y\"}},\"id\":\"bb7c9043-b284-4b43-b4b2-0911d89e7753\",\"type\":\"Line\"},{\"attributes\":{\"callback\":null,\"column_names\":[\"x\",\"y\"],\"data\":{\"x\":{\"__ndarray__\":\"A+KKyNF4xT8f/Lzfd6fIPzf7TksGWtA/4iBVVRvp1D+LxmB7Jr3ZP49nio6a4t4/fGVwwx8Z4j+17xAaT8HkP7JdP97lVec/KI3m+paz6T+JRG+ZXbDrP2jyTZInJ+0/jylROJ3r7T8UuM/hKVDtP1FnmIDU3uo/f2he/fx85z/rkiwBIx3kP5hhTkaFSeE/t1EoF3oB3z8Dh9AAV0TeP6k13HwIceA/fIaswYbO3z+BWvqZlmjZP/Ztrhfq3tM/hvTC+Dmvzz9Sxy6YqE7JP/kYqmlmBcQ/MAk1LDRjwD/xXI0eMAm9P1fbC54YuLk/0GZFSuE/tT8+lNh14DOwP448Er/awKo/SpEPj8Axqj9QqyG2VdaqPw/x0yxy46w/3wi63f89rj/IhvjAmqOsP1xqMkpPcak/Isa4xFFPpj8LG17hxR+jPwfPevS4uJ8/YT19fMe6mD9YEY2ihHqQP3zf8xGP3ng/L5LhQ1/vZD/EGXtdd1GFP837STu1MJU/E2kNIalqnT+NudqeOzOiP4Ys3kzIVKU/pEaM/S85qD+Z3PC2QfSqP2a7OSrPj60/QVL6CYIHsD88ztacCzmxP8H0wJe8UbI/ulBEn6ZRsz+cQr9MuS+0PxCLA+eL5rQ/y1ZAGk90tT9aEzAQTd+1P8TJWsLkLrY/I49miLButj9TY8/M86y2PwQRjZiw+bY/oPRUfqhktz/SPN/Oit63PxD7vw1qNLg/C8Ki9Jrgtz+0AYL4WYa2P9zY0H6MYrQ/LTzYscL6sT8w7IOe6COvP7HF3Jyu56k/\",\"dtype\":\"float64\",\"shape\":[75]},\"y\":{\"__ndarray__\":\"GhExyth1ND/Sv8nbtpRIP2vylNV0PVE/aTum7souWD/At0SJ8fVgPw3Iuahxymc/MSNhhJWvcD/bTfBN02d3P2zb5nxnaoA/CD5h5MAGhz8NmeH1TyaQP+zrCsc9p5Y/LbKd76fGnz/bLW5ISEmmPww9YvTcQq8/JV2OstnstT8Er5Y7M8G+P0c+r3jqkcU/5h99k6ZBzj88bCIzFzjVP4enV8oyxN0//yH99nXg5D8qOpLLf0jtP5kqGJXUifQ/c9cS8kHP/D+/DpwzojQEQIEmwoanVwxA4lgXt9HgE0BSSZ2AJuIbQAMJih9jjiNA5q4l5INuK0AwTKYKRj0zQNv5fmq8/DpAaCJseHrtQkB/+zpwzoxKQM3MzMzMeFJAZmZmZmZqWEAAAAAAAFxeQM3MzMzMJmJAmpmZmZkfZUBmZmZmZhhoQDMzMzMzEWtAAAAAAAAKbkBmZmZmZoFwQM3MzMzM/XFAMzMzMzN6c0CamZmZmfZ0QAAAAAAAc3ZAZmZmZmbvd0DNzMzMzGt5QDMzMzMz6HpAmpmZmZlkfEAAAAAAAOF9QGZmZmZmXX9AZmZmZuZsgECamZmZGSuBQM3MzMxM6YFAAAAAAICngkAzMzMzs2WDQGZmZmbmI4RAmpmZmRnihEDNzMzMTKCFQAAAAACAXoZAMzMzM7Mch0BmZmZm5tqHQJqZmZkZmYhAzczMzExXiUAAAAAAgBWKQDMzMzOz04pAZmZmZuaRi0CamZmZGVCMQM3MzMxMDo1AAAAAAIDMjUAzMzMzs4qOQGZmZmbmSI9A\",\"dtype\":\"float64\",\"shape\":[75]}}},\"id\":\"bada8b6c-7f31-41f6-b63c-4296eed12ccc\",\"type\":\"ColumnDataSource\"},{\"attributes\":{\"plot\":null,\"text\":\"Linear pressure scale\"},\"id\":\"e5e71c1d-2e58-453b-af6e-5d204b600b97\",\"type\":\"Title\"},{\"attributes\":{},\"id\":\"0d32eae1-984b-464a-8f48-bd5c6a2ef568\",\"type\":\"BasicTickFormatter\"},{\"attributes\":{\"line_alpha\":0.1,\"line_color\":\"#1f77b4\",\"line_width\":1.5,\"x\":{\"field\":\"x\"},\"y\":{\"field\":\"y\"}},\"id\":\"13da2d0a-1d9e-4684-947f-371028f6ed05\",\"type\":\"Line\"},{\"attributes\":{\"below\":[{\"id\":\"635749a5-c311-4737-a07e-d65fd425529a\",\"type\":\"LinearAxis\"}],\"left\":[{\"id\":\"4ecee964-1769-4cac-bc84-ad1750112229\",\"type\":\"LinearAxis\"}],\"plot_height\":500,\"plot_width\":400,\"renderers\":[{\"id\":\"635749a5-c311-4737-a07e-d65fd425529a\",\"type\":\"LinearAxis\"},{\"id\":\"cdd2ef06-e4fd-4341-8c57-202a68966d47\",\"type\":\"Grid\"},{\"id\":\"4ecee964-1769-4cac-bc84-ad1750112229\",\"type\":\"LinearAxis\"},{\"id\":\"7398960e-f72d-4814-ac4e-9c7dac00298e\",\"type\":\"Grid\"},{\"id\":\"8d7dd55c-3c8d-423d-b17a-0aaed1424cbb\",\"type\":\"BoxAnnotation\"},{\"id\":\"addb9703-2207-4048-b257-9482d317dbcb\",\"type\":\"GlyphRenderer\"},{\"id\":\"9941fe9a-c25b-4245-a490-c6b0098343b8\",\"type\":\"GlyphRenderer\"},{\"id\":\"c2e2bf6d-1082-4687-a493-fa8b319c50b7\",\"type\":\"GlyphRenderer\"},{\"id\":\"9322abaa-fafb-442a-972a-e9a46cfbe21e\",\"type\":\"GlyphRenderer\"},{\"id\":\"8ff5909c-eb44-4b68-8d80-15dddf38c6d1\",\"type\":\"GlyphRenderer\"}],\"title\":{\"id\":\"e5e71c1d-2e58-453b-af6e-5d204b600b97\",\"type\":\"Title\"},\"toolbar\":{\"id\":\"20654b7e-5f54-4540-a69d-fc4db604fbb4\",\"type\":\"Toolbar\"},\"toolbar_location\":null,\"x_range\":{\"id\":\"551fd7e3-3995-402b-af04-6669c2d9c745\",\"type\":\"Range1d\"},\"x_scale\":{\"id\":\"2e1d3d46-2456-49ca-9a37-c8cc9dbb3d5f\",\"type\":\"LinearScale\"},\"y_range\":{\"id\":\"d26409d1-1c90-4317-858f-16627cc85a70\",\"type\":\"Range1d\"},\"y_scale\":{\"id\":\"4aa7f214-2d7c-4dfd-9ea9-8d5879ab78df\",\"type\":\"LinearScale\"}},\"id\":\"81beb418-eeeb-4ef1-ab5e-f53010849cce\",\"subtype\":\"Figure\",\"type\":\"Plot\"},{\"attributes\":{\"data_source\":{\"id\":\"8d78e1ed-e76b-40db-9be2-dbba7afb6409\",\"type\":\"ColumnDataSource\"},\"glyph\":{\"id\":\"bb7c9043-b284-4b43-b4b2-0911d89e7753\",\"type\":\"Line\"},\"hover_glyph\":null,\"muted_glyph\":null,\"nonselection_glyph\":{\"id\":\"13da2d0a-1d9e-4684-947f-371028f6ed05\",\"type\":\"Line\"},\"selection_glyph\":null,\"view\":{\"id\":\"88d8b8bb-9277-4202-a424-f1247463aa5a\",\"type\":\"CDSView\"}},\"id\":\"299a5971-e660-40c7-ab68-4ddab2aa542f\",\"type\":\"GlyphRenderer\"},{\"attributes\":{\"source\":{\"id\":\"8d78e1ed-e76b-40db-9be2-dbba7afb6409\",\"type\":\"ColumnDataSource\"}},\"id\":\"88d8b8bb-9277-4202-a424-f1247463aa5a\",\"type\":\"CDSView\"},{\"attributes\":{\"fill_alpha\":{\"value\":0.7},\"fill_color\":{\"value\":\"#984ea3\"},\"line_alpha\":{\"value\":0.7},\"line_color\":{\"value\":\"#984ea3\"},\"x\":{\"field\":\"x\"},\"y\":{\"field\":\"y\"}},\"id\":\"8579dfbd-0969-44ec-a6bc-b306a7c9d72c\",\"type\":\"Square\"},{\"attributes\":{},\"id\":\"f3665f69-d15d-4882-964f-877f1139e5ee\",\"type\":\"BasicTicker\"},{\"attributes\":{\"callback\":null,\"end\":0.9440516293576999,\"start\":0.0219575954123},\"id\":\"acd0c324-51ee-4002-a177-6f892de23532\",\"type\":\"Range1d\"},{\"attributes\":{\"source\":{\"id\":\"b3d83159-72e5-4324-90ac-0abfa69b57fa\",\"type\":\"ColumnDataSource\"}},\"id\":\"b08559d0-dccb-480d-b121-a2a37eda7b28\",\"type\":\"CDSView\"},{\"attributes\":{\"line_alpha\":0.6,\"line_color\":\"#984ea3\",\"line_width\":3,\"x\":{\"field\":\"x\"},\"y\":{\"field\":\"y\"}},\"id\":\"ce2f097c-1526-462f-b1e2-10fcefbf3975\",\"type\":\"Line\"},{\"attributes\":{\"axis_label\":\"cooling rate [K/day]\",\"formatter\":{\"id\":\"2b1c97c8-fa07-4fd8-a45f-b0f147f2a282\",\"type\":\"BasicTickFormatter\"},\"plot\":{\"id\":\"81beb418-eeeb-4ef1-ab5e-f53010849cce\",\"subtype\":\"Figure\",\"type\":\"Plot\"},\"ticker\":{\"id\":\"f3665f69-d15d-4882-964f-877f1139e5ee\",\"type\":\"BasicTicker\"}},\"id\":\"635749a5-c311-4737-a07e-d65fd425529a\",\"type\":\"LinearAxis\"},{\"attributes\":{\"fill_alpha\":{\"value\":0.1},\"fill_color\":{\"value\":\"#1f77b4\"},\"line_alpha\":{\"value\":0.1},\"line_color\":{\"value\":\"#1f77b4\"},\"x\":{\"field\":\"x\"},\"y\":{\"field\":\"y\"}},\"id\":\"02b07639-2d92-4749-9a86-530887390238\",\"type\":\"Square\"},{\"attributes\":{\"data_source\":{\"id\":\"b3d83159-72e5-4324-90ac-0abfa69b57fa\",\"type\":\"ColumnDataSource\"},\"glyph\":{\"id\":\"8579dfbd-0969-44ec-a6bc-b306a7c9d72c\",\"type\":\"Square\"},\"hover_glyph\":null,\"muted_glyph\":null,\"nonselection_glyph\":{\"id\":\"02b07639-2d92-4749-9a86-530887390238\",\"type\":\"Square\"},\"selection_glyph\":null,\"view\":{\"id\":\"b08559d0-dccb-480d-b121-a2a37eda7b28\",\"type\":\"CDSView\"}},\"id\":\"e665b65c-2af4-4f54-9bb6-41e19ce14df2\",\"type\":\"GlyphRenderer\"},{\"attributes\":{},\"id\":\"2e1d3d46-2456-49ca-9a37-c8cc9dbb3d5f\",\"type\":\"LinearScale\"},{\"attributes\":{\"source\":{\"id\":\"bada8b6c-7f31-41f6-b63c-4296eed12ccc\",\"type\":\"ColumnDataSource\"}},\"id\":\"8818b6b2-8d12-4fb2-b8c2-071154934185\",\"type\":\"CDSView\"},{\"attributes\":{\"items\":[{\"id\":\"f6101023-c43b-40e5-9e59-156f05243ea8\",\"type\":\"LegendItem\"},{\"id\":\"790cc5e5-0c89-4c71-8857-f8240d2d101f\",\"type\":\"LegendItem\"},{\"id\":\"b9e86314-d836-4153-9b6e-f9dd0ed2e01b\",\"type\":\"LegendItem\"}],\"label_text_font_size\":{\"value\":\"8pt\"},\"location\":[10,-30],\"plot\":{\"id\":\"a9f6cea2-24a9-4e30-bb2e-a6ff0361e371\",\"subtype\":\"Figure\",\"type\":\"Plot\"}},\"id\":\"d5b87e12-75ac-429f-b566-8287deb47139\",\"type\":\"Legend\"},{\"attributes\":{\"line_color\":\"#4daf4a\",\"line_width\":1.5,\"x\":{\"field\":\"x\"},\"y\":{\"field\":\"y\"}},\"id\":\"c0aec8e4-ece6-4aee-887c-e30f346a4bc7\",\"type\":\"Line\"},{\"attributes\":{\"line_alpha\":0.1,\"line_color\":\"#1f77b4\",\"line_width\":3,\"x\":{\"field\":\"x\"},\"y\":{\"field\":\"y\"}},\"id\":\"d5ef5dad-ac70-4417-bf49-b74158d83e0c\",\"type\":\"Line\"},{\"attributes\":{\"data_source\":{\"id\":\"bada8b6c-7f31-41f6-b63c-4296eed12ccc\",\"type\":\"ColumnDataSource\"},\"glyph\":{\"id\":\"ce2f097c-1526-462f-b1e2-10fcefbf3975\",\"type\":\"Line\"},\"hover_glyph\":null,\"muted_glyph\":null,\"nonselection_glyph\":{\"id\":\"d5ef5dad-ac70-4417-bf49-b74158d83e0c\",\"type\":\"Line\"},\"selection_glyph\":null,\"view\":{\"id\":\"8818b6b2-8d12-4fb2-b8c2-071154934185\",\"type\":\"CDSView\"}},\"id\":\"3ba1ed23-6e07-4e35-b8ed-f42a881d2904\",\"type\":\"GlyphRenderer\"},{\"attributes\":{\"fill_alpha\":{\"value\":0.1},\"fill_color\":{\"value\":\"#1f77b4\"},\"line_alpha\":{\"value\":0.1},\"line_color\":{\"value\":\"#1f77b4\"},\"x\":{\"field\":\"x\"},\"y\":{\"field\":\"y\"}},\"id\":\"a607bcbe-fa1c-4b33-afab-5025f5c8681a\",\"type\":\"Circle\"},{\"attributes\":{\"label\":{\"value\":\"CLIRAD `coolr_bands`\"},\"renderers\":[{\"id\":\"cb2aec07-c344-43f8-87f5-e8e729d8df1f\",\"type\":\"GlyphRenderer\"}]},\"id\":\"f6101023-c43b-40e5-9e59-156f05243ea8\",\"type\":\"LegendItem\"},{\"attributes\":{\"children\":[{\"id\":\"6b746ea3-ac32-4143-84e6-09df0185d851\",\"type\":\"ToolbarBox\"},{\"id\":\"5e6d269c-0be5-411b-902e-38b85e4d566b\",\"type\":\"Column\"}]},\"id\":\"bc96603d-8a22-423f-a8e6-b96859bd3411\",\"type\":\"Column\"},{\"attributes\":{\"active_drag\":\"auto\",\"active_inspect\":\"auto\",\"active_scroll\":\"auto\",\"active_tap\":\"auto\",\"tools\":[{\"id\":\"93f08fcc-b39a-4e2e-9171-c3f7631dba26\",\"type\":\"PanTool\"},{\"id\":\"56197b37-64f4-415c-84bf-cabf17f8729c\",\"type\":\"WheelZoomTool\"},{\"id\":\"8382033d-7a12-4ebd-a311-fbd950b56056\",\"type\":\"BoxZoomTool\"},{\"id\":\"bb8b0d51-e01c-40d4-8324-6810dfcb5cf4\",\"type\":\"SaveTool\"},{\"id\":\"952bb061-fe9a-4551-bb60-c483079c019f\",\"type\":\"ResetTool\"},{\"id\":\"94acc885-77d3-4807-be50-ffe81eea8462\",\"type\":\"HelpTool\"}]},\"id\":\"20654b7e-5f54-4540-a69d-fc4db604fbb4\",\"type\":\"Toolbar\"},{\"attributes\":{\"data_source\":{\"id\":\"49d80363-907d-442f-8206-b3d00c23b066\",\"type\":\"ColumnDataSource\"},\"glyph\":{\"id\":\"71ade6ef-ebc9-43d5-9b88-7df49cb25569\",\"type\":\"Circle\"},\"hover_glyph\":null,\"muted_glyph\":null,\"nonselection_glyph\":{\"id\":\"a607bcbe-fa1c-4b33-afab-5025f5c8681a\",\"type\":\"Circle\"},\"selection_glyph\":null,\"view\":{\"id\":\"f6419398-14b5-4418-9b77-0259a552a01e\",\"type\":\"CDSView\"}},\"id\":\"9941fe9a-c25b-4245-a490-c6b0098343b8\",\"type\":\"GlyphRenderer\"},{\"attributes\":{\"bottom_units\":\"screen\",\"fill_alpha\":{\"value\":0.5},\"fill_color\":{\"value\":\"lightgrey\"},\"left_units\":\"screen\",\"level\":\"overlay\",\"line_alpha\":{\"value\":1.0},\"line_color\":{\"value\":\"black\"},\"line_dash\":[4,4],\"line_width\":{\"value\":2},\"plot\":null,\"render_mode\":\"css\",\"right_units\":\"screen\",\"top_units\":\"screen\"},\"id\":\"8d7dd55c-3c8d-423d-b17a-0aaed1424cbb\",\"type\":\"BoxAnnotation\"},{\"attributes\":{\"line_alpha\":0.6,\"line_color\":\"#e41a1c\",\"line_dash\":[6],\"line_width\":5,\"x\":{\"field\":\"x\"},\"y\":{\"field\":\"y\"}},\"id\":\"c8102dd0-f47d-443e-9226-ccbe93e7df6c\",\"type\":\"Line\"},{\"attributes\":{\"plot\":{\"id\":\"81beb418-eeeb-4ef1-ab5e-f53010849cce\",\"subtype\":\"Figure\",\"type\":\"Plot\"},\"ticker\":{\"id\":\"f3665f69-d15d-4882-964f-877f1139e5ee\",\"type\":\"BasicTicker\"}},\"id\":\"cdd2ef06-e4fd-4341-8c57-202a68966d47\",\"type\":\"Grid\"},{\"attributes\":{\"callback\":null,\"column_names\":[\"x\",\"y\"],\"data\":{\"x\":{\"__ndarray__\":\"ZKhxDFQIzD9OP4/uc77OP0gZcQFoFNQ/vKbuZwQd2T8QTyPreGXeP9CUAKkL4OE/0lRw9AiA5D8cNIm0bPHmPz+GM2ThEOk/YcccV2W36j/rfA37HMPrP9f1j65nIuw/23lN1V7g6z+NYW/eD4rqP21ce3Yr8ec/c6I8d6s85T+Se/Rl7T/jP3vgnVtsA+I//gvj8khx4T9BGLKZx4rhP/wUruS2n+I/lUnsXhdT4T+7FVfPKKHaPxJujWN/NNQ/P2Vnl5CLzz9tpzFKZUTIP5kgdujsy8E/TfPQb0Zquj+ufOrmTwy2PyBLfyzNeLM/tIeQzzjIsD9nhpRsY1arPyY0sQ+eSKg/bmuC3e3QqD/IlA9B1eioPwOWgoyFw6g/mNSRohxsqD/OyMIFEKamP36pTvAVKaQ/NAowyVQDoj+IyPCl3r2fP3XNGY49NJs/4IVZ2jwdlj+XyCsuk4OPP9KbIN45I30/FLuJpJU3cj97AKlSVZaIP1IU0XcDQZY/NouMGLo1nj+Vqv5SUJuiP8FLAU2q1KU/AJxbRLvaqD8tQ8uj47arP7meWA+ubK4/TVrNRw1+sD+Z85E2g6+xP//bs05fxrI/XSKYHNe8sz99cGf03Yy0P1cz5DjtMrU/vAVoFPiutT9QhVZfEQe2P9vWMvPGRLY/mguj8/Z0tj/keo29FKe2PyhqGiix6rY/vGcYz4RMtz/IlPtc7sW3Pz9ZfepiF7g/+mmk8YC8tz9Q9znyy1a2P3UpzIBVI7Q/gK+aR/uosT8fjqZhlV6uPyfS0hwmCKk/\",\"dtype\":\"float64\",\"shape\":[75]},\"y\":{\"__ndarray__\":\"GhExyth1ND/Sv8nbtpRIP2vylNV0PVE/aTum7souWD/At0SJ8fVgPw3Iuahxymc/MSNhhJWvcD/bTfBN02d3P2zb5nxnaoA/CD5h5MAGhz8NmeH1TyaQP+zrCsc9p5Y/LbKd76fGnz/bLW5ISEmmPww9YvTcQq8/JV2OstnstT8Er5Y7M8G+P0c+r3jqkcU/5h99k6ZBzj88bCIzFzjVP4enV8oyxN0//yH99nXg5D8qOpLLf0jtP5kqGJXUifQ/c9cS8kHP/D+/DpwzojQEQIEmwoanVwxA4lgXt9HgE0BSSZ2AJuIbQAMJih9jjiNA5q4l5INuK0AwTKYKRj0zQNv5fmq8/DpAaCJseHrtQkB/+zpwzoxKQM3MzMzMeFJAZmZmZmZqWEAAAAAAAFxeQM3MzMzMJmJAmpmZmZkfZUBmZmZmZhhoQDMzMzMzEWtAAAAAAAAKbkBmZmZmZoFwQM3MzMzM/XFAMzMzMzN6c0CamZmZmfZ0QAAAAAAAc3ZAZmZmZmbvd0DNzMzMzGt5QDMzMzMz6HpAmpmZmZlkfEAAAAAAAOF9QGZmZmZmXX9AZmZmZuZsgECamZmZGSuBQM3MzMxM6YFAAAAAAICngkAzMzMzs2WDQGZmZmbmI4RAmpmZmRnihEDNzMzMTKCFQAAAAACAXoZAMzMzM7Mch0BmZmZm5tqHQJqZmZkZmYhAzczMzExXiUAAAAAAgBWKQDMzMzOz04pAZmZmZuaRi0CamZmZGVCMQM3MzMxMDo1AAAAAAIDMjUAzMzMzs4qOQGZmZmbmSI9A\",\"dtype\":\"float64\",\"shape\":[75]}}},\"id\":\"4df75c38-63b4-41d7-997c-2c41fcf418db\",\"type\":\"ColumnDataSource\"},{\"attributes\":{},\"id\":\"4aa7f214-2d7c-4dfd-9ea9-8d5879ab78df\",\"type\":\"LinearScale\"},{\"attributes\":{\"dimension\":1,\"plot\":{\"id\":\"81beb418-eeeb-4ef1-ab5e-f53010849cce\",\"subtype\":\"Figure\",\"type\":\"Plot\"},\"ticker\":{\"id\":\"4d7b4cd9-c995-4e2e-8263-d31582a08d0b\",\"type\":\"BasicTicker\"}},\"id\":\"7398960e-f72d-4814-ac4e-9c7dac00298e\",\"type\":\"Grid\"},{\"attributes\":{\"callback\":null,\"end\":0.09874349992600001,\"start\":0.001024753474},\"id\":\"551fd7e3-3995-402b-af04-6669c2d9c745\",\"type\":\"Range1d\"},{\"attributes\":{\"callback\":null,\"end\":0.01,\"start\":1020},\"id\":\"d26409d1-1c90-4317-858f-16627cc85a70\",\"type\":\"Range1d\"},{\"attributes\":{\"axis_label\":\"pressure [mb]\",\"formatter\":{\"id\":\"0d32eae1-984b-464a-8f48-bd5c6a2ef568\",\"type\":\"BasicTickFormatter\"},\"plot\":{\"id\":\"81beb418-eeeb-4ef1-ab5e-f53010849cce\",\"subtype\":\"Figure\",\"type\":\"Plot\"},\"ticker\":{\"id\":\"4d7b4cd9-c995-4e2e-8263-d31582a08d0b\",\"type\":\"BasicTicker\"}},\"id\":\"4ecee964-1769-4cac-bc84-ad1750112229\",\"type\":\"LinearAxis\"}],\"root_ids\":[\"bc96603d-8a22-423f-a8e6-b96859bd3411\"]},\"title\":\"Bokeh Application\",\"version\":\"0.12.14\"}};\n",
       "  var render_items = [{\"docid\":\"fb420f73-3af5-47fd-aecc-b7812b038e53\",\"elementid\":\"a89d119e-963a-4588-872a-cafaad47804e\",\"modelid\":\"bc96603d-8a22-423f-a8e6-b96859bd3411\"}];\n",
       "  root.Bokeh.embed.embed_items_notebook(docs_json, render_items);\n",
       "\n",
       "  }\n",
       "  if (root.Bokeh !== undefined) {\n",
       "    embed_document(root);\n",
       "  } else {\n",
       "    var attempts = 0;\n",
       "    var timer = setInterval(function(root) {\n",
       "      if (root.Bokeh !== undefined) {\n",
       "        embed_document(root);\n",
       "        clearInterval(timer);\n",
       "      }\n",
       "      attempts++;\n",
       "      if (attempts > 100) {\n",
       "        console.log(\"Bokeh: ERROR: Unable to run BokehJS code because BokehJS library is missing\")\n",
       "        clearInterval(timer);\n",
       "      }\n",
       "    }, 10, root)\n",
       "  }\n",
       "})(window);"
      ],
      "application/vnd.bokehjs_exec.v0+json": ""
     },
     "metadata": {
      "application/vnd.bokehjs_exec.v0+json": {
       "id": "bc96603d-8a22-423f-a8e6-b96859bd3411"
      }
     },
     "output_type": "display_data"
    },
    {
     "name": "stdout",
     "output_type": "stream",
     "text": [
      "FIGURE. Cooling rate profiles.\n"
     ]
    },
    {
     "data": {
      "text/html": [
       "<a id=\"Flux_Comparison\"></a>"
      ],
      "text/plain": [
       "<IPython.core.display.HTML object>"
      ]
     },
     "metadata": {},
     "output_type": "display_data"
    },
    {
     "data": {
      "text/markdown": [
       "# Flux Comparison"
      ],
      "text/plain": [
       "<IPython.core.display.Markdown object>"
      ]
     },
     "metadata": {},
     "output_type": "display_data"
    },
    {
     "data": {
      "text/html": [
       "<div>\n",
       "<style>\n",
       "    .dataframe thead tr:only-child th {\n",
       "        text-align: right;\n",
       "    }\n",
       "\n",
       "    .dataframe thead th {\n",
       "        text-align: left;\n",
       "    }\n",
       "\n",
       "    .dataframe tbody tr th {\n",
       "        vertical-align: top;\n",
       "    }\n",
       "</style>\n",
       "<table border=\"1\" class=\"dataframe\">\n",
       "  <thead>\n",
       "    <tr style=\"text-align: right;\">\n",
       "      <th></th>\n",
       "      <th></th>\n",
       "      <th>flug</th>\n",
       "      <th>fldg</th>\n",
       "      <th>fnetg</th>\n",
       "    </tr>\n",
       "    <tr>\n",
       "      <th>pressure</th>\n",
       "      <th>level</th>\n",
       "      <th></th>\n",
       "      <th></th>\n",
       "      <th></th>\n",
       "    </tr>\n",
       "  </thead>\n",
       "  <tbody>\n",
       "    <tr>\n",
       "      <th>0.0000</th>\n",
       "      <th>1</th>\n",
       "      <td>-20.785670</td>\n",
       "      <td>0.000000</td>\n",
       "      <td>-20.785670</td>\n",
       "    </tr>\n",
       "    <tr>\n",
       "      <th>1.0685</th>\n",
       "      <th>24</th>\n",
       "      <td>-20.773412</td>\n",
       "      <td>0.051495</td>\n",
       "      <td>-20.721917</td>\n",
       "    </tr>\n",
       "    <tr>\n",
       "      <th>1013.0000</th>\n",
       "      <th>76</th>\n",
       "      <td>-23.591138</td>\n",
       "      <td>10.016948</td>\n",
       "      <td>-13.574190</td>\n",
       "    </tr>\n",
       "  </tbody>\n",
       "</table>\n",
       "</div>"
      ],
      "text/plain": [
       "                      flug       fldg      fnetg\n",
       "pressure  level                                 \n",
       "0.0000    1     -20.785670   0.000000 -20.785670\n",
       "1.0685    24    -20.773412   0.051495 -20.721917\n",
       "1013.0000 76    -23.591138  10.016948 -13.574190"
      ]
     },
     "metadata": {},
     "output_type": "display_data"
    },
    {
     "name": "stdout",
     "output_type": "stream",
     "text": [
      "Table. Fluxes. WGT igg=10 wgt_flux=1\n"
     ]
    },
    {
     "data": {
      "text/html": [
       "<div>\n",
       "<style>\n",
       "    .dataframe thead tr:only-child th {\n",
       "        text-align: right;\n",
       "    }\n",
       "\n",
       "    .dataframe thead th {\n",
       "        text-align: left;\n",
       "    }\n",
       "\n",
       "    .dataframe tbody tr th {\n",
       "        vertical-align: top;\n",
       "    }\n",
       "</style>\n",
       "<table border=\"1\" class=\"dataframe\">\n",
       "  <thead>\n",
       "    <tr style=\"text-align: right;\">\n",
       "      <th></th>\n",
       "      <th></th>\n",
       "      <th>flug</th>\n",
       "      <th>fldg</th>\n",
       "      <th>fnetg</th>\n",
       "    </tr>\n",
       "    <tr>\n",
       "      <th>pressure</th>\n",
       "      <th>level</th>\n",
       "      <th></th>\n",
       "      <th></th>\n",
       "      <th></th>\n",
       "    </tr>\n",
       "  </thead>\n",
       "  <tbody>\n",
       "    <tr>\n",
       "      <th>0.0000</th>\n",
       "      <th>1</th>\n",
       "      <td>-20.836798</td>\n",
       "      <td>0.000000</td>\n",
       "      <td>-20.836798</td>\n",
       "    </tr>\n",
       "    <tr>\n",
       "      <th>1.0685</th>\n",
       "      <th>24</th>\n",
       "      <td>-20.824109</td>\n",
       "      <td>0.055119</td>\n",
       "      <td>-20.768990</td>\n",
       "    </tr>\n",
       "    <tr>\n",
       "      <th>1013.0000</th>\n",
       "      <th>76</th>\n",
       "      <td>-23.591138</td>\n",
       "      <td>9.775480</td>\n",
       "      <td>-13.815657</td>\n",
       "    </tr>\n",
       "  </tbody>\n",
       "</table>\n",
       "</div>"
      ],
      "text/plain": [
       "                      flug      fldg      fnetg\n",
       "pressure  level                                \n",
       "0.0000    1     -20.836798  0.000000 -20.836798\n",
       "1.0685    24    -20.824109  0.055119 -20.768990\n",
       "1013.0000 76    -23.591138  9.775480 -13.815657"
      ]
     },
     "metadata": {},
     "output_type": "display_data"
    },
    {
     "name": "stdout",
     "output_type": "stream",
     "text": [
      "Table. Fluxes. CRD\n"
     ]
    },
    {
     "data": {
      "text/html": [
       "<div>\n",
       "<style>\n",
       "    .dataframe thead tr:only-child th {\n",
       "        text-align: right;\n",
       "    }\n",
       "\n",
       "    .dataframe thead th {\n",
       "        text-align: left;\n",
       "    }\n",
       "\n",
       "    .dataframe tbody tr th {\n",
       "        vertical-align: top;\n",
       "    }\n",
       "</style>\n",
       "<table border=\"1\" class=\"dataframe\">\n",
       "  <thead>\n",
       "    <tr style=\"text-align: right;\">\n",
       "      <th></th>\n",
       "      <th></th>\n",
       "      <th>flug</th>\n",
       "      <th>fldg</th>\n",
       "      <th>fnetg</th>\n",
       "    </tr>\n",
       "    <tr>\n",
       "      <th>pressure</th>\n",
       "      <th>level</th>\n",
       "      <th></th>\n",
       "      <th></th>\n",
       "      <th></th>\n",
       "    </tr>\n",
       "  </thead>\n",
       "  <tbody>\n",
       "    <tr>\n",
       "      <th>1.000000e-08</th>\n",
       "      <th>1</th>\n",
       "      <td>-20.846394</td>\n",
       "      <td>0.000002</td>\n",
       "      <td>-20.846392</td>\n",
       "    </tr>\n",
       "    <tr>\n",
       "      <th>1.068500e+00</th>\n",
       "      <th>24</th>\n",
       "      <td>-20.834337</td>\n",
       "      <td>0.049075</td>\n",
       "      <td>-20.785263</td>\n",
       "    </tr>\n",
       "    <tr>\n",
       "      <th>1.013000e+03</th>\n",
       "      <th>76</th>\n",
       "      <td>-23.591141</td>\n",
       "      <td>10.029997</td>\n",
       "      <td>-13.561144</td>\n",
       "    </tr>\n",
       "  </tbody>\n",
       "</table>\n",
       "</div>"
      ],
      "text/plain": [
       "                         flug       fldg      fnetg\n",
       "pressure     level                                 \n",
       "1.000000e-08 1     -20.846394   0.000002 -20.846392\n",
       "1.068500e+00 24    -20.834337   0.049075 -20.785263\n",
       "1.013000e+03 76    -23.591141  10.029997 -13.561144"
      ]
     },
     "metadata": {},
     "output_type": "display_data"
    },
    {
     "name": "stdout",
     "output_type": "stream",
     "text": [
      "Table. Fluxes. CLIRAD\n"
     ]
    },
    {
     "data": {
      "text/html": [
       "<div>\n",
       "<style>\n",
       "    .dataframe thead tr:only-child th {\n",
       "        text-align: right;\n",
       "    }\n",
       "\n",
       "    .dataframe thead th {\n",
       "        text-align: left;\n",
       "    }\n",
       "\n",
       "    .dataframe tbody tr th {\n",
       "        vertical-align: top;\n",
       "    }\n",
       "</style>\n",
       "<table border=\"1\" class=\"dataframe\">\n",
       "  <thead>\n",
       "    <tr style=\"text-align: right;\">\n",
       "      <th></th>\n",
       "      <th></th>\n",
       "      <th>flug</th>\n",
       "      <th>fldg</th>\n",
       "      <th>fnetg</th>\n",
       "    </tr>\n",
       "    <tr>\n",
       "      <th>pressure</th>\n",
       "      <th>level</th>\n",
       "      <th></th>\n",
       "      <th></th>\n",
       "      <th></th>\n",
       "    </tr>\n",
       "  </thead>\n",
       "  <tbody>\n",
       "    <tr>\n",
       "      <th>0.0000</th>\n",
       "      <th>1</th>\n",
       "      <td>-5.112800e-02</td>\n",
       "      <td>0.000000</td>\n",
       "      <td>-0.051128</td>\n",
       "    </tr>\n",
       "    <tr>\n",
       "      <th>1.0685</th>\n",
       "      <th>24</th>\n",
       "      <td>-5.069663e-02</td>\n",
       "      <td>0.003624</td>\n",
       "      <td>-0.047073</td>\n",
       "    </tr>\n",
       "    <tr>\n",
       "      <th>1013.0000</th>\n",
       "      <th>76</th>\n",
       "      <td>-4.050000e-07</td>\n",
       "      <td>-0.241468</td>\n",
       "      <td>-0.241467</td>\n",
       "    </tr>\n",
       "  </tbody>\n",
       "</table>\n",
       "</div>"
      ],
      "text/plain": [
       "                         flug      fldg     fnetg\n",
       "pressure  level                                  \n",
       "0.0000    1     -5.112800e-02  0.000000 -0.051128\n",
       "1.0685    24    -5.069663e-02  0.003624 -0.047073\n",
       "1013.0000 76    -4.050000e-07 -0.241468 -0.241467"
      ]
     },
     "metadata": {},
     "output_type": "display_data"
    },
    {
     "name": "stdout",
     "output_type": "stream",
     "text": [
      "Table. Fluxes. (CRD) - (WGT igg=10 wgt_flux=1)\n"
     ]
    },
    {
     "data": {
      "text/html": [
       "<div>\n",
       "<style>\n",
       "    .dataframe thead tr:only-child th {\n",
       "        text-align: right;\n",
       "    }\n",
       "\n",
       "    .dataframe thead th {\n",
       "        text-align: left;\n",
       "    }\n",
       "\n",
       "    .dataframe tbody tr th {\n",
       "        vertical-align: top;\n",
       "    }\n",
       "</style>\n",
       "<table border=\"1\" class=\"dataframe\">\n",
       "  <thead>\n",
       "    <tr style=\"text-align: right;\">\n",
       "      <th></th>\n",
       "      <th></th>\n",
       "      <th>flug</th>\n",
       "      <th>fldg</th>\n",
       "      <th>fnetg</th>\n",
       "    </tr>\n",
       "    <tr>\n",
       "      <th>pressure</th>\n",
       "      <th>level</th>\n",
       "      <th></th>\n",
       "      <th></th>\n",
       "      <th></th>\n",
       "    </tr>\n",
       "  </thead>\n",
       "  <tbody>\n",
       "    <tr>\n",
       "      <th>0.0000</th>\n",
       "      <th>1</th>\n",
       "      <td>-0.060724</td>\n",
       "      <td>0.000002</td>\n",
       "      <td>-0.060722</td>\n",
       "    </tr>\n",
       "    <tr>\n",
       "      <th>1.0685</th>\n",
       "      <th>24</th>\n",
       "      <td>-0.060925</td>\n",
       "      <td>-0.002420</td>\n",
       "      <td>-0.063346</td>\n",
       "    </tr>\n",
       "    <tr>\n",
       "      <th>1013.0000</th>\n",
       "      <th>76</th>\n",
       "      <td>-0.000003</td>\n",
       "      <td>0.013049</td>\n",
       "      <td>0.013046</td>\n",
       "    </tr>\n",
       "  </tbody>\n",
       "</table>\n",
       "</div>"
      ],
      "text/plain": [
       "                     flug      fldg     fnetg\n",
       "pressure  level                              \n",
       "0.0000    1     -0.060724  0.000002 -0.060722\n",
       "1.0685    24    -0.060925 -0.002420 -0.063346\n",
       "1013.0000 76    -0.000003  0.013049  0.013046"
      ]
     },
     "metadata": {},
     "output_type": "display_data"
    },
    {
     "name": "stdout",
     "output_type": "stream",
     "text": [
      "Table. Fluxes. (CLIRAD) - (WGT igg=10 wgt_flux=1)\n"
     ]
    },
    {
     "data": {
      "text/html": [
       "<a id=\"Best-fit_Parameters\"></a>"
      ],
      "text/plain": [
       "<IPython.core.display.HTML object>"
      ]
     },
     "metadata": {},
     "output_type": "display_data"
    },
    {
     "data": {
      "text/markdown": [
       "# Best-fit Parameters"
      ],
      "text/plain": [
       "<IPython.core.display.Markdown object>"
      ]
     },
     "metadata": {},
     "output_type": "display_data"
    },
    {
     "name": "stdout",
     "output_type": "stream",
     "text": [
      "Best-fit values for each (gas, band)\n",
      "------------------------------------\n",
      "o co2 band3a\n",
      "  atmpro = mls\n",
      "  band = 3a\n",
      "  commitnumber = 2bd1f75\n",
      "  conc = 0.0004\n",
      "  dv = 0.01\n",
      "  klin = 6.375563e-24\n",
      "  molecule = co2\n",
      "  ng_adju = [0, 0, 0]\n",
      "  ng_refs = [3, 2, 4]\n",
      "  nv = 100\n",
      "  option_compute_btable = 0\n",
      "  option_compute_ktable = 1\n",
      "  option_wgt_flux = 1\n",
      "  option_wgt_k = 1\n",
      "  ref_pts = [(1, 250), (10, 250), (500, 250)]\n",
      "  tsfc = 294\n",
      "  vmax = 620\n",
      "  vmin = 540\n",
      "  w_diffuse = [(1.6, 1.6, 1.7), (1.75, 1.75), (1.55, 1.55, 1.6, 1.85)]\n",
      "  wgt = [(0.7, 0.3, 0.7), (0.7, 0.6), (0.4, 0.5, 0.8, 0.95)]\n"
     ]
    }
   ],
   "source": [
    "script()"
   ]
  },
  {
   "cell_type": "code",
   "execution_count": 13,
   "metadata": {
    "collapsed": true
   },
   "outputs": [
    {
     "data": {
      "text/html": [
       "<script>\n",
       "code_show=true; \n",
       "function code_toggle() {\n",
       " if (code_show){\n",
       " $('div.input').hide();\n",
       " } else {\n",
       " $('div.input').show();\n",
       " }\n",
       " code_show = !code_show\n",
       "} \n",
       "$( document ).ready(code_toggle);\n",
       "</script>\n",
       "<form action=\"javascript:code_toggle()\"><input type=\"submit\" value=\"Click here to toggle on/off the raw code.\"></form>"
      ],
      "text/plain": [
       "<IPython.core.display.HTML object>"
      ]
     },
     "execution_count": 13,
     "metadata": {},
     "output_type": "execute_result"
    }
   ],
   "source": [
    "display.HTML('''<script>\n",
    "code_show=true; \n",
    "function code_toggle() {\n",
    " if (code_show){\n",
    " $('div.input').hide();\n",
    " } else {\n",
    " $('div.input').show();\n",
    " }\n",
    " code_show = !code_show\n",
    "} \n",
    "$( document ).ready(code_toggle);\n",
    "</script>\n",
    "<form action=\"javascript:code_toggle()\"><input type=\"submit\" value=\"Click here to toggle on/off the raw code.\"></form>''')"
   ]
  }
 ],
 "metadata": {
  "kernelspec": {
   "display_name": "Python 3",
   "language": "python",
   "name": "python3"
  },
  "language_info": {
   "codemirror_mode": {
    "name": "ipython",
    "version": 3
   },
   "file_extension": ".py",
   "mimetype": "text/x-python",
   "name": "python",
   "nbconvert_exporter": "python",
   "pygments_lexer": "ipython3",
   "version": "3.6.1"
  }
 },
 "nbformat": 4,
 "nbformat_minor": 2
}
