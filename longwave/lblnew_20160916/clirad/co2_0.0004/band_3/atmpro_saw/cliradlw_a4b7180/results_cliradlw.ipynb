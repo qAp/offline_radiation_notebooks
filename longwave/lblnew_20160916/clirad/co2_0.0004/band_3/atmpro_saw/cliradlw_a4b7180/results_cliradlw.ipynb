{
 "cells": [
  {
   "cell_type": "code",
   "execution_count": 1,
   "metadata": {
    "collapsed": true
   },
   "outputs": [],
   "source": [
    "%matplotlib inline\n",
    "import os\n",
    "import re\n",
    "import io\n",
    "import itertools\n",
    "import pprint\n",
    "\n",
    "from bokeh.io import output_notebook, show\n",
    "from bokeh.layouts import gridplot\n",
    "from bokeh.plotting import figure\n",
    "from bokeh.models import Range1d, Legend\n",
    "from bokeh.palettes import all_palettes\n",
    "\n",
    "import matplotlib\n",
    "import matplotlib.pyplot as plt\n",
    "import numpy as np\n",
    "import pandas as pd\n",
    "import xarray as xr\n",
    "\n",
    "import climatools.lblnew.bestfit_params as bestfits\n",
    "from climatools.lblnew import setup_bestfit, setup_overlap\n",
    "import climatools.lblnew.pipeline as pipe_lblnew\n",
    "import climatools.cliradlw.setup as setup_cliradlw\n",
    "import climatools.cliradlw.pipeline as pipe_cliradlw\n",
    "\n",
    "import climatools.html.html as climahtml\n",
    "from climatools.lblnew.dataio import *\n",
    "from climatools.plot.plot import *\n",
    "\n",
    "\n",
    "import IPython.display as display"
   ]
  },
  {
   "cell_type": "code",
   "execution_count": 2,
   "metadata": {
    "collapsed": true
   },
   "outputs": [],
   "source": [
    "%run param.py"
   ]
  },
  {
   "cell_type": "code",
   "execution_count": 3,
   "metadata": {
    "collapsed": true
   },
   "outputs": [],
   "source": [
    "def load_output_file(path_csv):\n",
    "    '''\n",
    "    Load lblnew output .csv file to xarray.Dataset\n",
    "    \n",
    "    Parameters\n",
    "    ----------\n",
    "    path_csv: str\n",
    "              Path to the .csv file to be loaded.\n",
    "    ds: xarray.Dataset\n",
    "        Data in the input file in the form of an xarray.Dataset.\n",
    "    '''\n",
    "    toindex = ['band', 'pressure', 'igg', 'g']    \n",
    "    df = pd.read_csv(path_csv, sep=r'\\s+')\n",
    "    df = df.set_index([i for i in toindex if i in df.columns])\n",
    "    df = df.rename(columns={'sfu': 'flug',\n",
    "                            'sfd': 'fldg',\n",
    "                            'fnet': 'fnetg',\n",
    "                            'coolr': 'coolrg'})\n",
    "    ds = xr.Dataset.from_dataframe(df)\n",
    "\n",
    "    for l in ('level', 'layer'):\n",
    "        if l in ds.data_vars:\n",
    "            if len(ds[l].dims) > 1:\n",
    "                surface = {d: 0 for d in ds.dims if d != 'pressure'}\n",
    "                coord_level = ds[l][surface]\n",
    "                ds.coords[l] = ('pressure', coord_level)\n",
    "            else:\n",
    "                ds.coords[l] = ('pressure', ds[l])\n",
    "    \n",
    "    return ds"
   ]
  },
  {
   "cell_type": "code",
   "execution_count": 4,
   "metadata": {
    "collapsed": true
   },
   "outputs": [],
   "source": [
    "def lblnew_setup(param=None):\n",
    "    if 'ng_refs' in param:\n",
    "        return {'setup': setup_bestfit,\n",
    "                'fname_flux_crd': 'output_flux.dat',\n",
    "                'fname_cool_crd': 'output_coolr.dat',\n",
    "                'fname_flux_wgt': 'output_wfluxg.dat',\n",
    "                'fname_cool_wgt': 'output_wcoolrg.dat'}\n",
    "    else:\n",
    "        return {'setup': setup_overlap,\n",
    "                'fname_flux_crd': 'output_flux.dat',\n",
    "                'fname_cool_crd': 'output_coolr.dat',\n",
    "                'fname_flux_wgt': 'output_wflux.dat',\n",
    "                'fname_cool_wgt': 'output_wcoolr.dat'}\n",
    "\n",
    "    \n",
    "def load_lblnew_data(param):\n",
    "    \n",
    "    fname_dsname = [('fname_flux_crd', 'ds_flux_crd'),\n",
    "                    ('fname_cool_crd', 'ds_cool_crd'),\n",
    "                    ('fname_flux_wgt', 'ds_flux_wgt'),\n",
    "                    ('fname_cool_wgt', 'ds_cool_wgt')]\n",
    "    \n",
    "    d = lblnew_setup(param)\n",
    "    dir_fortran = pipe_lblnew.get_dir_case(param, setup=d['setup'])\n",
    "    \n",
    "    data_dict = {}\n",
    "    for fname, dsname in fname_dsname:\n",
    "        fpath = os.path.join(dir_fortran, d[fname])\n",
    "        data_dict[dsname] = load_output_file(fpath)\n",
    "    return data_dict\n",
    "    \n",
    "\n",
    "    \n",
    "    "
   ]
  },
  {
   "cell_type": "code",
   "execution_count": 5,
   "metadata": {
    "collapsed": true
   },
   "outputs": [],
   "source": [
    "d = load_lblnew_data(PARAM_LBLNEW)\n",
    "\n",
    "DS_FLUX_CRD = d['ds_flux_crd']\n",
    "DS_COOL_CRD = d['ds_cool_crd']\n",
    "DS_FLUX_WGT = d['ds_flux_wgt']\n",
    "DS_COOL_WGT = d['ds_cool_wgt']"
   ]
  },
  {
   "cell_type": "code",
   "execution_count": 6,
   "metadata": {
    "collapsed": true
   },
   "outputs": [],
   "source": [
    "DIR_FORTRAN = pipe_cliradlw.get_fortran_dir(PARAM, \n",
    "                                            setup=setup_cliradlw)\n",
    "\n",
    "PATH_FLUX = os.path.join(DIR_FORTRAN, 'output_flux.dat')\n",
    "PATH_COOL = os.path.join(DIR_FORTRAN, 'output_coolr.dat')\n",
    "\n",
    "DS_FLUX = load_output_file(PATH_FLUX)\n",
    "DS_COOL = load_output_file(PATH_COOL)"
   ]
  },
  {
   "cell_type": "code",
   "execution_count": 7,
   "metadata": {
    "collapsed": true
   },
   "outputs": [
    {
     "data": {
      "text/html": [
       "\n",
       "    <div class=\"bk-root\">\n",
       "        <a href=\"https://bokeh.pydata.org\" target=\"_blank\" class=\"bk-logo bk-logo-small bk-logo-notebook\"></a>\n",
       "        <span id=\"43e7c7e1-03bb-4b26-aa6b-5742301105d1\">Loading BokehJS ...</span>\n",
       "    </div>"
      ]
     },
     "metadata": {},
     "output_type": "display_data"
    },
    {
     "data": {
      "application/javascript": [
       "\n",
       "(function(root) {\n",
       "  function now() {\n",
       "    return new Date();\n",
       "  }\n",
       "\n",
       "  var force = true;\n",
       "\n",
       "  if (typeof (root._bokeh_onload_callbacks) === \"undefined\" || force === true) {\n",
       "    root._bokeh_onload_callbacks = [];\n",
       "    root._bokeh_is_loading = undefined;\n",
       "  }\n",
       "\n",
       "  var JS_MIME_TYPE = 'application/javascript';\n",
       "  var HTML_MIME_TYPE = 'text/html';\n",
       "  var EXEC_MIME_TYPE = 'application/vnd.bokehjs_exec.v0+json';\n",
       "  var CLASS_NAME = 'output_bokeh rendered_html';\n",
       "\n",
       "  /**\n",
       "   * Render data to the DOM node\n",
       "   */\n",
       "  function render(props, node) {\n",
       "    var script = document.createElement(\"script\");\n",
       "    node.appendChild(script);\n",
       "  }\n",
       "\n",
       "  /**\n",
       "   * Handle when an output is cleared or removed\n",
       "   */\n",
       "  function handleClearOutput(event, handle) {\n",
       "    var cell = handle.cell;\n",
       "\n",
       "    var id = cell.output_area._bokeh_element_id;\n",
       "    var server_id = cell.output_area._bokeh_server_id;\n",
       "    // Clean up Bokeh references\n",
       "    if (id !== undefined) {\n",
       "      Bokeh.index[id].model.document.clear();\n",
       "      delete Bokeh.index[id];\n",
       "    }\n",
       "\n",
       "    if (server_id !== undefined) {\n",
       "      // Clean up Bokeh references\n",
       "      var cmd = \"from bokeh.io.state import curstate; print(curstate().uuid_to_server['\" + server_id + \"'].get_sessions()[0].document.roots[0]._id)\";\n",
       "      cell.notebook.kernel.execute(cmd, {\n",
       "        iopub: {\n",
       "          output: function(msg) {\n",
       "            var element_id = msg.content.text.trim();\n",
       "            Bokeh.index[element_id].model.document.clear();\n",
       "            delete Bokeh.index[element_id];\n",
       "          }\n",
       "        }\n",
       "      });\n",
       "      // Destroy server and session\n",
       "      var cmd = \"import bokeh.io.notebook as ion; ion.destroy_server('\" + server_id + \"')\";\n",
       "      cell.notebook.kernel.execute(cmd);\n",
       "    }\n",
       "  }\n",
       "\n",
       "  /**\n",
       "   * Handle when a new output is added\n",
       "   */\n",
       "  function handleAddOutput(event, handle) {\n",
       "    var output_area = handle.output_area;\n",
       "    var output = handle.output;\n",
       "\n",
       "    // limit handleAddOutput to display_data with EXEC_MIME_TYPE content only\n",
       "    if ((output.output_type != \"display_data\") || (!output.data.hasOwnProperty(EXEC_MIME_TYPE))) {\n",
       "      return\n",
       "    }\n",
       "\n",
       "    var toinsert = output_area.element.find(\".\" + CLASS_NAME.split(' ')[0]);\n",
       "\n",
       "    if (output.metadata[EXEC_MIME_TYPE][\"id\"] !== undefined) {\n",
       "      toinsert[0].firstChild.textContent = output.data[JS_MIME_TYPE];\n",
       "      // store reference to embed id on output_area\n",
       "      output_area._bokeh_element_id = output.metadata[EXEC_MIME_TYPE][\"id\"];\n",
       "    }\n",
       "    if (output.metadata[EXEC_MIME_TYPE][\"server_id\"] !== undefined) {\n",
       "      var bk_div = document.createElement(\"div\");\n",
       "      bk_div.innerHTML = output.data[HTML_MIME_TYPE];\n",
       "      var script_attrs = bk_div.children[0].attributes;\n",
       "      for (var i = 0; i < script_attrs.length; i++) {\n",
       "        toinsert[0].firstChild.setAttribute(script_attrs[i].name, script_attrs[i].value);\n",
       "      }\n",
       "      // store reference to server id on output_area\n",
       "      output_area._bokeh_server_id = output.metadata[EXEC_MIME_TYPE][\"server_id\"];\n",
       "    }\n",
       "  }\n",
       "\n",
       "  function register_renderer(events, OutputArea) {\n",
       "\n",
       "    function append_mime(data, metadata, element) {\n",
       "      // create a DOM node to render to\n",
       "      var toinsert = this.create_output_subarea(\n",
       "        metadata,\n",
       "        CLASS_NAME,\n",
       "        EXEC_MIME_TYPE\n",
       "      );\n",
       "      this.keyboard_manager.register_events(toinsert);\n",
       "      // Render to node\n",
       "      var props = {data: data, metadata: metadata[EXEC_MIME_TYPE]};\n",
       "      render(props, toinsert[0]);\n",
       "      element.append(toinsert);\n",
       "      return toinsert\n",
       "    }\n",
       "\n",
       "    /* Handle when an output is cleared or removed */\n",
       "    events.on('clear_output.CodeCell', handleClearOutput);\n",
       "    events.on('delete.Cell', handleClearOutput);\n",
       "\n",
       "    /* Handle when a new output is added */\n",
       "    events.on('output_added.OutputArea', handleAddOutput);\n",
       "\n",
       "    /**\n",
       "     * Register the mime type and append_mime function with output_area\n",
       "     */\n",
       "    OutputArea.prototype.register_mime_type(EXEC_MIME_TYPE, append_mime, {\n",
       "      /* Is output safe? */\n",
       "      safe: true,\n",
       "      /* Index of renderer in `output_area.display_order` */\n",
       "      index: 0\n",
       "    });\n",
       "  }\n",
       "\n",
       "  // register the mime type if in Jupyter Notebook environment and previously unregistered\n",
       "  if (root.Jupyter !== undefined) {\n",
       "    var events = require('base/js/events');\n",
       "    var OutputArea = require('notebook/js/outputarea').OutputArea;\n",
       "\n",
       "    if (OutputArea.prototype.mime_types().indexOf(EXEC_MIME_TYPE) == -1) {\n",
       "      register_renderer(events, OutputArea);\n",
       "    }\n",
       "  }\n",
       "\n",
       "  \n",
       "  if (typeof (root._bokeh_timeout) === \"undefined\" || force === true) {\n",
       "    root._bokeh_timeout = Date.now() + 5000;\n",
       "    root._bokeh_failed_load = false;\n",
       "  }\n",
       "\n",
       "  var NB_LOAD_WARNING = {'data': {'text/html':\n",
       "     \"<div style='background-color: #fdd'>\\n\"+\n",
       "     \"<p>\\n\"+\n",
       "     \"BokehJS does not appear to have successfully loaded. If loading BokehJS from CDN, this \\n\"+\n",
       "     \"may be due to a slow or bad network connection. Possible fixes:\\n\"+\n",
       "     \"</p>\\n\"+\n",
       "     \"<ul>\\n\"+\n",
       "     \"<li>re-rerun `output_notebook()` to attempt to load from CDN again, or</li>\\n\"+\n",
       "     \"<li>use INLINE resources instead, as so:</li>\\n\"+\n",
       "     \"</ul>\\n\"+\n",
       "     \"<code>\\n\"+\n",
       "     \"from bokeh.resources import INLINE\\n\"+\n",
       "     \"output_notebook(resources=INLINE)\\n\"+\n",
       "     \"</code>\\n\"+\n",
       "     \"</div>\"}};\n",
       "\n",
       "  function display_loaded() {\n",
       "    var el = document.getElementById(\"43e7c7e1-03bb-4b26-aa6b-5742301105d1\");\n",
       "    if (el != null) {\n",
       "      el.textContent = \"BokehJS is loading...\";\n",
       "    }\n",
       "    if (root.Bokeh !== undefined) {\n",
       "      if (el != null) {\n",
       "        el.textContent = \"BokehJS \" + root.Bokeh.version + \" successfully loaded.\";\n",
       "      }\n",
       "    } else if (Date.now() < root._bokeh_timeout) {\n",
       "      setTimeout(display_loaded, 100)\n",
       "    }\n",
       "  }\n",
       "\n",
       "\n",
       "  function run_callbacks() {\n",
       "    try {\n",
       "      root._bokeh_onload_callbacks.forEach(function(callback) { callback() });\n",
       "    }\n",
       "    finally {\n",
       "      delete root._bokeh_onload_callbacks\n",
       "    }\n",
       "    console.info(\"Bokeh: all callbacks have finished\");\n",
       "  }\n",
       "\n",
       "  function load_libs(js_urls, callback) {\n",
       "    root._bokeh_onload_callbacks.push(callback);\n",
       "    if (root._bokeh_is_loading > 0) {\n",
       "      console.log(\"Bokeh: BokehJS is being loaded, scheduling callback at\", now());\n",
       "      return null;\n",
       "    }\n",
       "    if (js_urls == null || js_urls.length === 0) {\n",
       "      run_callbacks();\n",
       "      return null;\n",
       "    }\n",
       "    console.log(\"Bokeh: BokehJS not loaded, scheduling load and callback at\", now());\n",
       "    root._bokeh_is_loading = js_urls.length;\n",
       "    for (var i = 0; i < js_urls.length; i++) {\n",
       "      var url = js_urls[i];\n",
       "      var s = document.createElement('script');\n",
       "      s.src = url;\n",
       "      s.async = false;\n",
       "      s.onreadystatechange = s.onload = function() {\n",
       "        root._bokeh_is_loading--;\n",
       "        if (root._bokeh_is_loading === 0) {\n",
       "          console.log(\"Bokeh: all BokehJS libraries loaded\");\n",
       "          run_callbacks()\n",
       "        }\n",
       "      };\n",
       "      s.onerror = function() {\n",
       "        console.warn(\"failed to load library \" + url);\n",
       "      };\n",
       "      console.log(\"Bokeh: injecting script tag for BokehJS library: \", url);\n",
       "      document.getElementsByTagName(\"head\")[0].appendChild(s);\n",
       "    }\n",
       "  };var element = document.getElementById(\"43e7c7e1-03bb-4b26-aa6b-5742301105d1\");\n",
       "  if (element == null) {\n",
       "    console.log(\"Bokeh: ERROR: autoload.js configured with elementid '43e7c7e1-03bb-4b26-aa6b-5742301105d1' but no matching script tag was found. \")\n",
       "    return false;\n",
       "  }\n",
       "\n",
       "  var js_urls = [\"https://cdn.pydata.org/bokeh/release/bokeh-0.12.14.min.js\", \"https://cdn.pydata.org/bokeh/release/bokeh-widgets-0.12.14.min.js\", \"https://cdn.pydata.org/bokeh/release/bokeh-tables-0.12.14.min.js\", \"https://cdn.pydata.org/bokeh/release/bokeh-gl-0.12.14.min.js\"];\n",
       "\n",
       "  var inline_js = [\n",
       "    function(Bokeh) {\n",
       "      Bokeh.set_log_level(\"info\");\n",
       "    },\n",
       "    \n",
       "    function(Bokeh) {\n",
       "      \n",
       "    },\n",
       "    function(Bokeh) {\n",
       "      console.log(\"Bokeh: injecting CSS: https://cdn.pydata.org/bokeh/release/bokeh-0.12.14.min.css\");\n",
       "      Bokeh.embed.inject_css(\"https://cdn.pydata.org/bokeh/release/bokeh-0.12.14.min.css\");\n",
       "      console.log(\"Bokeh: injecting CSS: https://cdn.pydata.org/bokeh/release/bokeh-widgets-0.12.14.min.css\");\n",
       "      Bokeh.embed.inject_css(\"https://cdn.pydata.org/bokeh/release/bokeh-widgets-0.12.14.min.css\");\n",
       "      console.log(\"Bokeh: injecting CSS: https://cdn.pydata.org/bokeh/release/bokeh-tables-0.12.14.min.css\");\n",
       "      Bokeh.embed.inject_css(\"https://cdn.pydata.org/bokeh/release/bokeh-tables-0.12.14.min.css\");\n",
       "    }\n",
       "  ];\n",
       "\n",
       "  function run_inline_js() {\n",
       "    \n",
       "    if ((root.Bokeh !== undefined) || (force === true)) {\n",
       "      for (var i = 0; i < inline_js.length; i++) {\n",
       "        inline_js[i].call(root, root.Bokeh);\n",
       "      }if (force === true) {\n",
       "        display_loaded();\n",
       "      }} else if (Date.now() < root._bokeh_timeout) {\n",
       "      setTimeout(run_inline_js, 100);\n",
       "    } else if (!root._bokeh_failed_load) {\n",
       "      console.log(\"Bokeh: BokehJS failed to load within specified timeout.\");\n",
       "      root._bokeh_failed_load = true;\n",
       "    } else if (force !== true) {\n",
       "      var cell = $(document.getElementById(\"43e7c7e1-03bb-4b26-aa6b-5742301105d1\")).parents('.cell').data().cell;\n",
       "      cell.output_area.append_execute_result(NB_LOAD_WARNING)\n",
       "    }\n",
       "\n",
       "  }\n",
       "\n",
       "  if (root._bokeh_is_loading === 0) {\n",
       "    console.log(\"Bokeh: BokehJS loaded, going straight to plotting\");\n",
       "    run_inline_js();\n",
       "  } else {\n",
       "    load_libs(js_urls, function() {\n",
       "      console.log(\"Bokeh: BokehJS plotting callback run at\", now());\n",
       "      run_inline_js();\n",
       "    });\n",
       "  }\n",
       "}(window));"
      ],
      "application/vnd.bokehjs_load.v0+json": "\n(function(root) {\n  function now() {\n    return new Date();\n  }\n\n  var force = true;\n\n  if (typeof (root._bokeh_onload_callbacks) === \"undefined\" || force === true) {\n    root._bokeh_onload_callbacks = [];\n    root._bokeh_is_loading = undefined;\n  }\n\n  \n\n  \n  if (typeof (root._bokeh_timeout) === \"undefined\" || force === true) {\n    root._bokeh_timeout = Date.now() + 5000;\n    root._bokeh_failed_load = false;\n  }\n\n  var NB_LOAD_WARNING = {'data': {'text/html':\n     \"<div style='background-color: #fdd'>\\n\"+\n     \"<p>\\n\"+\n     \"BokehJS does not appear to have successfully loaded. If loading BokehJS from CDN, this \\n\"+\n     \"may be due to a slow or bad network connection. Possible fixes:\\n\"+\n     \"</p>\\n\"+\n     \"<ul>\\n\"+\n     \"<li>re-rerun `output_notebook()` to attempt to load from CDN again, or</li>\\n\"+\n     \"<li>use INLINE resources instead, as so:</li>\\n\"+\n     \"</ul>\\n\"+\n     \"<code>\\n\"+\n     \"from bokeh.resources import INLINE\\n\"+\n     \"output_notebook(resources=INLINE)\\n\"+\n     \"</code>\\n\"+\n     \"</div>\"}};\n\n  function display_loaded() {\n    var el = document.getElementById(\"43e7c7e1-03bb-4b26-aa6b-5742301105d1\");\n    if (el != null) {\n      el.textContent = \"BokehJS is loading...\";\n    }\n    if (root.Bokeh !== undefined) {\n      if (el != null) {\n        el.textContent = \"BokehJS \" + root.Bokeh.version + \" successfully loaded.\";\n      }\n    } else if (Date.now() < root._bokeh_timeout) {\n      setTimeout(display_loaded, 100)\n    }\n  }\n\n\n  function run_callbacks() {\n    try {\n      root._bokeh_onload_callbacks.forEach(function(callback) { callback() });\n    }\n    finally {\n      delete root._bokeh_onload_callbacks\n    }\n    console.info(\"Bokeh: all callbacks have finished\");\n  }\n\n  function load_libs(js_urls, callback) {\n    root._bokeh_onload_callbacks.push(callback);\n    if (root._bokeh_is_loading > 0) {\n      console.log(\"Bokeh: BokehJS is being loaded, scheduling callback at\", now());\n      return null;\n    }\n    if (js_urls == null || js_urls.length === 0) {\n      run_callbacks();\n      return null;\n    }\n    console.log(\"Bokeh: BokehJS not loaded, scheduling load and callback at\", now());\n    root._bokeh_is_loading = js_urls.length;\n    for (var i = 0; i < js_urls.length; i++) {\n      var url = js_urls[i];\n      var s = document.createElement('script');\n      s.src = url;\n      s.async = false;\n      s.onreadystatechange = s.onload = function() {\n        root._bokeh_is_loading--;\n        if (root._bokeh_is_loading === 0) {\n          console.log(\"Bokeh: all BokehJS libraries loaded\");\n          run_callbacks()\n        }\n      };\n      s.onerror = function() {\n        console.warn(\"failed to load library \" + url);\n      };\n      console.log(\"Bokeh: injecting script tag for BokehJS library: \", url);\n      document.getElementsByTagName(\"head\")[0].appendChild(s);\n    }\n  };var element = document.getElementById(\"43e7c7e1-03bb-4b26-aa6b-5742301105d1\");\n  if (element == null) {\n    console.log(\"Bokeh: ERROR: autoload.js configured with elementid '43e7c7e1-03bb-4b26-aa6b-5742301105d1' but no matching script tag was found. \")\n    return false;\n  }\n\n  var js_urls = [\"https://cdn.pydata.org/bokeh/release/bokeh-0.12.14.min.js\", \"https://cdn.pydata.org/bokeh/release/bokeh-widgets-0.12.14.min.js\", \"https://cdn.pydata.org/bokeh/release/bokeh-tables-0.12.14.min.js\", \"https://cdn.pydata.org/bokeh/release/bokeh-gl-0.12.14.min.js\"];\n\n  var inline_js = [\n    function(Bokeh) {\n      Bokeh.set_log_level(\"info\");\n    },\n    \n    function(Bokeh) {\n      \n    },\n    function(Bokeh) {\n      console.log(\"Bokeh: injecting CSS: https://cdn.pydata.org/bokeh/release/bokeh-0.12.14.min.css\");\n      Bokeh.embed.inject_css(\"https://cdn.pydata.org/bokeh/release/bokeh-0.12.14.min.css\");\n      console.log(\"Bokeh: injecting CSS: https://cdn.pydata.org/bokeh/release/bokeh-widgets-0.12.14.min.css\");\n      Bokeh.embed.inject_css(\"https://cdn.pydata.org/bokeh/release/bokeh-widgets-0.12.14.min.css\");\n      console.log(\"Bokeh: injecting CSS: https://cdn.pydata.org/bokeh/release/bokeh-tables-0.12.14.min.css\");\n      Bokeh.embed.inject_css(\"https://cdn.pydata.org/bokeh/release/bokeh-tables-0.12.14.min.css\");\n    }\n  ];\n\n  function run_inline_js() {\n    \n    if ((root.Bokeh !== undefined) || (force === true)) {\n      for (var i = 0; i < inline_js.length; i++) {\n        inline_js[i].call(root, root.Bokeh);\n      }if (force === true) {\n        display_loaded();\n      }} else if (Date.now() < root._bokeh_timeout) {\n      setTimeout(run_inline_js, 100);\n    } else if (!root._bokeh_failed_load) {\n      console.log(\"Bokeh: BokehJS failed to load within specified timeout.\");\n      root._bokeh_failed_load = true;\n    } else if (force !== true) {\n      var cell = $(document.getElementById(\"43e7c7e1-03bb-4b26-aa6b-5742301105d1\")).parents('.cell').data().cell;\n      cell.output_area.append_execute_result(NB_LOAD_WARNING)\n    }\n\n  }\n\n  if (root._bokeh_is_loading === 0) {\n    console.log(\"Bokeh: BokehJS loaded, going straight to plotting\");\n    run_inline_js();\n  } else {\n    load_libs(js_urls, function() {\n      console.log(\"Bokeh: BokehJS plotting callback run at\", now());\n      run_inline_js();\n    });\n  }\n}(window));"
     },
     "metadata": {},
     "output_type": "display_data"
    }
   ],
   "source": [
    "output_notebook()"
   ]
  },
  {
   "cell_type": "code",
   "execution_count": 8,
   "metadata": {
    "collapsed": true
   },
   "outputs": [],
   "source": [
    "def fmt_cool(ds_in):\n",
    "    ds = ds_in.copy(deep=True)\n",
    "    if 'igg' in ds.dims:\n",
    "        ds = ds.sel(igg=1)\n",
    "\n",
    "    if 'g' in ds.dims:\n",
    "        ds = ds.sum('g')\n",
    "            \n",
    "    if 'band' in ds.dims:\n",
    "        try:\n",
    "            ds = ds.squeeze('band')\n",
    "        except ValueError:\n",
    "            ds = ds.sum('band')\n",
    "                \n",
    "    return ds['coolrg']\n",
    "\n",
    "\n",
    "def pltdata_cooling_1(ds_cool=None,\n",
    "                      ds_cool_crd=None, ds_cool_wgt=None):\n",
    "    \n",
    "\n",
    "\n",
    "    colors = all_palettes['Set1'][4]\n",
    "    data = [{'label': 'CLIRAD `coolr_bands`',\n",
    "             'srs': fmt_cool(ds_cool),\n",
    "             'line_dash': 'dashed', 'line_width': 5,\n",
    "             'color': colors[0], 'alpha': .6},\n",
    "            {'label': 'CRD',\n",
    "             'srs': fmt_cool(ds_cool_crd),\n",
    "             'line_dash': 'solid', 'line_width': 1.5,\n",
    "             'marker': 'circle', 'marker_size': 5,\n",
    "             'color': colors[2], 'alpha': 1,},\n",
    "            {'label': 'WGT igg=10 wgt_flux=2',\n",
    "             'srs': fmt_cool(ds_cool_wgt),\n",
    "             'line_dash': 'solid', 'line_width': 3,\n",
    "             'marker': 'square', 'marker_size': 5,\n",
    "             'color': colors[3], 'alpha': .6}]\n",
    "    return data\n",
    "\n",
    "\n",
    "def nice_xlims(pltdata=None, prange=None):\n",
    "    \n",
    "    def get_slice(srs):\n",
    "        return srs.sel(pressure=slice(*prange))\n",
    "    \n",
    "    srss = [d['srs'] for d in pltdata]\n",
    "    vmin = min([get_slice(srs).min() for srs in srss])\n",
    "    vmax = max([get_slice(srs).max() for srs in srss])\n",
    "    dv = (vmax - vmin) * .01\n",
    "    return float(vmin - dv), float(vmax + dv)\n",
    "    \n",
    "\n",
    "def plt_cooling_bokeh(pltdata=None):\n",
    "    '''\n",
    "    Plot a list of cooling rate profiles using bokeh.\n",
    "    '''\n",
    "    ymin = 1e-2 \n",
    "    ymax = 1020 \n",
    "        \n",
    "    p1 = figure(title=\"Linear pressure scale\", \n",
    "                plot_width=400)        \n",
    "    xmin, xmax = nice_xlims(pltdata, prange=(50, 1050))\n",
    "    for d in pltdata:\n",
    "        if 'marker' in d:\n",
    "            getattr(p1, d['marker'])(d['srs'].values, \n",
    "                    d['srs'].coords['pressure'].values,\n",
    "                    color=d['color'], alpha=.7)\n",
    "        p1.line(d['srs'].values, \n",
    "                d['srs'].coords['pressure'].values,\n",
    "                color=d['color'], alpha=d['alpha'], \n",
    "                line_width=d['line_width'], line_dash=d['line_dash'])\n",
    "    \n",
    "    p1.y_range = Range1d(ymax, ymin)\n",
    "    p1.yaxis.axis_label = 'pressure [mb]'   \n",
    "    p1.x_range = Range1d(xmin, xmax)\n",
    "    p1.xaxis.axis_label = 'cooling rate [K/day]'\n",
    "            \n",
    "    p2 = figure(title='Log pressure scale', y_axis_type='log',\n",
    "                plot_width=560)\n",
    "    xmin, xmax = nice_xlims(pltdata, prange=(.01, 200))\n",
    "    \n",
    "    rs = []\n",
    "    for d in pltdata:\n",
    "        rd = []\n",
    "        if 'marker' in d:\n",
    "            r_mark = getattr(p2, d['marker'])(d['srs'].values, \n",
    "                        d['srs'].coords['pressure'].values,\n",
    "                        color=d['color'], alpha=.7)\n",
    "            rd.append(r_mark)\n",
    "        r_line = p2.line(d['srs'].values, \n",
    "                    d['srs'].coords['pressure'].values,\n",
    "                    color=d['color'], alpha=d['alpha'], \n",
    "                    line_width=d['line_width'], line_dash=d['line_dash'])\n",
    "        rd.append(r_line)\n",
    "      \n",
    "        rs.append(rd)\n",
    "        \n",
    "    p2.y_range = Range1d(ymax, ymin)  \n",
    "    p2.yaxis.axis_label = 'pressure [mb]'\n",
    "    \n",
    "    p2.x_range = Range1d(xmin, xmax)\n",
    "    p2.xaxis.axis_label = 'cooling rate [K/day]'\n",
    "    \n",
    "    items = [(d['label'], r) for r, d in zip(rs, pltdata)]\n",
    "    legend = Legend(items=items, location=(10, -30))\n",
    "    legend.label_text_font_size = '8pt'\n",
    "    \n",
    "    p2.add_layout(legend, 'right')  \n",
    "    \n",
    "    show(gridplot(p1, p2, ncols=2, plot_height=500))\n",
    "    \n",
    "\n",
    "def script_plt_cooling():\n",
    "    pltdata = pltdata_cooling_1(\n",
    "        ds_cool=DS_COOL,\n",
    "        ds_cool_crd=DS_COOL_CRD,\n",
    "        ds_cool_wgt=DS_COOL_WGT)\n",
    "    plt_cooling_bokeh(pltdata=pltdata)\n",
    "    print('''FIGURE. Cooling rate profiles.''')"
   ]
  },
  {
   "cell_type": "code",
   "execution_count": 9,
   "metadata": {
    "collapsed": true
   },
   "outputs": [],
   "source": [
    "def fmt_flux(ds_in):\n",
    "    ds = ds_in.copy(deep=True)\n",
    "    \n",
    "    for l in ('level', 'layer'):\n",
    "        if l in ds.data_vars:\n",
    "            if len(ds[l].dims) > 1:\n",
    "                surface = {d: 0 for d in ds.dims if d != 'pressure'}\n",
    "                coord_level = ds[l][surface]\n",
    "                ds.coords[l] = ('pressure', coord_level)\n",
    "            else:\n",
    "                ds.coords[l] = ('pressure', ds[l])\n",
    "        \n",
    "    ds = ds.isel(pressure=[0, 23, -1])\n",
    "        \n",
    "    if 'igg' in ds.dims:\n",
    "        ds = ds.sel(igg=[1])\n",
    "        ds = ds.squeeze('igg').drop('igg')\n",
    "    \n",
    "    if 'g' in ds.dims:\n",
    "        ds = ds.sum('g')\n",
    "            \n",
    "    if 'band' in ds.dims:\n",
    "        try:\n",
    "            ds = ds.squeeze('band').drop('band')\n",
    "        except ValueError:\n",
    "            ds = ds.sum('band')\n",
    "                \n",
    "    df = ds.to_dataframe()\n",
    "    df = df.set_index('level', append=True)               \n",
    "    return df\n",
    "\n",
    "\n",
    "def tbdata_flux(ds_flux=None, ds_flux_crd=None, ds_flux_wgt=None):\n",
    "    ilevels = [0, 23, -1]\n",
    "            \n",
    "    benchmark = {'label': 'WGT igg=10 wgt_flux=1',\n",
    "                 'df': fmt_flux(ds_flux_wgt)}\n",
    "    \n",
    "    tbs = [{'label': 'CRD',\n",
    "            'df': fmt_flux(ds_flux_crd)},\n",
    "           {'label': 'CLIRAD',\n",
    "            'df': fmt_flux(ds_flux)}]\n",
    "    \n",
    "    data = {'benchmark': benchmark, 'others': tbs}\n",
    "    return data\n",
    "\n",
    "\n",
    "def tb_flux(tbdata=None):\n",
    "    benchmark = tbdata['benchmark']\n",
    "    others = tbdata['others']\n",
    "    \n",
    "    def show_tb(d=None):\n",
    "        display.display(d['df'])\n",
    "        print('Table.', 'Fluxes.', d['label'])\n",
    "        \n",
    "    def show_tbdiff(d0=None, d=None):\n",
    "        df = d['df']\n",
    "        df.index = d0['df'].index\n",
    "        display.display(df - d0['df'])\n",
    "        print('Table.', 'Fluxes.', \n",
    "              '({}) - ({})'.format(d['label'], d0['label']))\n",
    "        \n",
    "    show_tb(benchmark)\n",
    "    for d in others:\n",
    "        show_tb(d)\n",
    "        \n",
    "    for d in others:\n",
    "        show_tbdiff(d=d, d0=benchmark)\n",
    "        \n",
    "        \n",
    "def script_tb_flux():\n",
    "    data = tbdata_flux(ds_flux=DS_FLUX,\n",
    "                       ds_flux_crd=DS_FLUX_CRD,\n",
    "                       ds_flux_wgt=DS_FLUX_WGT)\n",
    "    tb_flux(tbdata=data)"
   ]
  },
  {
   "cell_type": "code",
   "execution_count": 10,
   "metadata": {
    "collapsed": true
   },
   "outputs": [],
   "source": [
    "def band_map():\n",
    "    '''\n",
    "    Maps spectral bands in lblnew to spectral bands in clirad.\n",
    "    '''\n",
    "    lblnew2clirad = {'1': '1',\n",
    "            '2': '2',\n",
    "            '3a': '3',\n",
    "            '3b': '4',\n",
    "            '3c': '5',\n",
    "            '4': '6', \n",
    "            '5': '7',\n",
    "            '6': '8',\n",
    "            '7': '9', \n",
    "            '8': '10',\n",
    "            '9': '11'}\n",
    "    \n",
    "    clirad2lblnew = {clirad: lblnew \n",
    "                     for lblnew, clirad in lblnew2clirad.items()}\n",
    "    return clirad2lblnew\n",
    "\n",
    "\n",
    "def gasbands():\n",
    "    bmap = band_map()\n",
    "    gases = list(PARAM['molecule'].keys())\n",
    "    \n",
    "    bands = [bmap[str(b)] for b in PARAM['band']]\n",
    "    return list(itertools.product(gases, bands))\n",
    "\n",
    "\n",
    "def print_bestfit_params():\n",
    "    print('Best-fit values for each (gas, band)')\n",
    "    print('------------------------------------')\n",
    "    for gas, band in gasbands():\n",
    "        print('o {} band{}'.format(gas, band))\n",
    "        param = bestfits.kdist_params(molecule=gas, band=band)\n",
    "        for name, value in sorted(param.items()):\n",
    "            print(2 * ' ' + '{} = {}'.format(name, value))\n",
    "\n",
    "        \n",
    "def print_input_param():        \n",
    "    for name, value in PARAM.items():\n",
    "        print('{} = {}'.format(name, value))\n",
    "        \n",
    "        \n",
    "def print_lblnew_param():\n",
    "    for name, value in sorted(PARAM_LBLNEW.items()):\n",
    "        print('{} = {}'.format(name, value))\n"
   ]
  },
  {
   "cell_type": "code",
   "execution_count": 11,
   "metadata": {
    "collapsed": true,
    "scrolled": false
   },
   "outputs": [],
   "source": [
    "def show_html(s):\n",
    "    display.display(display.HTML(s))\n",
    "\n",
    "    \n",
    "def show_markdown(s):\n",
    "    display.display(display.Markdown(s))\n",
    "\n",
    "    \n",
    "def script():\n",
    "    \n",
    "    title = '### CLIRAD-LW'\n",
    "    s_input = 'Input Parameters'\n",
    "    s_lblnew_param = 'LBLNEW case compaired against'\n",
    "    s_bestfits = 'Best-fit Parameters'\n",
    "    s_plt_cooling = 'Cooling Rate Profiles'\n",
    "    s_tb_flux = 'Flux Comparison'\n",
    "    \n",
    "    # title\n",
    "    show_markdown('### CLIRAD-LW')\n",
    "    \n",
    "    # TOC\n",
    "    show_markdown('### Table of Contents')\n",
    "    show_html(climahtml.getHTML_hrefanchor(s_input))\n",
    "    show_html(climahtml.getHTML_hrefanchor(s_lblnew_param))\n",
    "    show_html(climahtml.getHTML_hrefanchor(s_plt_cooling))\n",
    "    show_html(climahtml.getHTML_hrefanchor(s_tb_flux))\n",
    "    show_html(climahtml.getHTML_hrefanchor(s_bestfits))\n",
    "    \n",
    "    # Input parameters\n",
    "    show_html(climahtml.getHTML_idanchor(s_input))\n",
    "    show_markdown(climahtml.getMarkdown_sectitle(s_input))\n",
    "    print_input_param()\n",
    "    \n",
    "    # LBLNEW parameters \n",
    "    show_html(climahtml.getHTML_idanchor(s_lblnew_param))\n",
    "    show_markdown(climahtml.getMarkdown_sectitle(s_lblnew_param))\n",
    "    print_lblnew_param()\n",
    "    \n",
    "    # Cooling rate profiles\n",
    "    show_html(climahtml.getHTML_idanchor(s_plt_cooling))\n",
    "    show_markdown(climahtml.getMarkdown_sectitle(s_plt_cooling))\n",
    "    script_plt_cooling()\n",
    "    \n",
    "    # Flux comparison\n",
    "    show_html(climahtml.getHTML_idanchor(s_tb_flux))\n",
    "    show_markdown(climahtml.getMarkdown_sectitle(s_tb_flux))\n",
    "    script_tb_flux()\n",
    "    \n",
    "    # Best-fit values\n",
    "    show_html(climahtml.getHTML_idanchor(s_bestfits))\n",
    "    show_markdown(climahtml.getMarkdown_sectitle(s_bestfits))\n",
    "    print_bestfit_params()\n",
    "   \n",
    "    "
   ]
  },
  {
   "cell_type": "code",
   "execution_count": 12,
   "metadata": {
    "collapsed": true,
    "scrolled": false
   },
   "outputs": [
    {
     "data": {
      "text/markdown": [
       "### CLIRAD-LW"
      ],
      "text/plain": [
       "<IPython.core.display.Markdown object>"
      ]
     },
     "metadata": {},
     "output_type": "display_data"
    },
    {
     "data": {
      "text/markdown": [
       "### Table of Contents"
      ],
      "text/plain": [
       "<IPython.core.display.Markdown object>"
      ]
     },
     "metadata": {},
     "output_type": "display_data"
    },
    {
     "data": {
      "text/html": [
       "<a href=\"#Input_Parameters\">Input Parameters</a>"
      ],
      "text/plain": [
       "<IPython.core.display.HTML object>"
      ]
     },
     "metadata": {},
     "output_type": "display_data"
    },
    {
     "data": {
      "text/html": [
       "<a href=\"#LBLNEW_case_compaired_against\">LBLNEW case compaired against</a>"
      ],
      "text/plain": [
       "<IPython.core.display.HTML object>"
      ]
     },
     "metadata": {},
     "output_type": "display_data"
    },
    {
     "data": {
      "text/html": [
       "<a href=\"#Cooling_Rate_Profiles\">Cooling Rate Profiles</a>"
      ],
      "text/plain": [
       "<IPython.core.display.HTML object>"
      ]
     },
     "metadata": {},
     "output_type": "display_data"
    },
    {
     "data": {
      "text/html": [
       "<a href=\"#Flux_Comparison\">Flux Comparison</a>"
      ],
      "text/plain": [
       "<IPython.core.display.HTML object>"
      ]
     },
     "metadata": {},
     "output_type": "display_data"
    },
    {
     "data": {
      "text/html": [
       "<a href=\"#Best-fit_Parameters\">Best-fit Parameters</a>"
      ],
      "text/plain": [
       "<IPython.core.display.HTML object>"
      ]
     },
     "metadata": {},
     "output_type": "display_data"
    },
    {
     "data": {
      "text/html": [
       "<a id=\"Input_Parameters\"></a>"
      ],
      "text/plain": [
       "<IPython.core.display.HTML object>"
      ]
     },
     "metadata": {},
     "output_type": "display_data"
    },
    {
     "data": {
      "text/markdown": [
       "# Input Parameters"
      ],
      "text/plain": [
       "<IPython.core.display.Markdown object>"
      ]
     },
     "metadata": {},
     "output_type": "display_data"
    },
    {
     "name": "stdout",
     "output_type": "stream",
     "text": [
      "atmpro = saw\n",
      "band = [3]\n",
      "commitnumber = a4b7180\n",
      "molecule = {'co2': 0.0004}\n",
      "tsfc = 257\n"
     ]
    },
    {
     "data": {
      "text/html": [
       "<a id=\"LBLNEW_case_compaired_against\"></a>"
      ],
      "text/plain": [
       "<IPython.core.display.HTML object>"
      ]
     },
     "metadata": {},
     "output_type": "display_data"
    },
    {
     "data": {
      "text/markdown": [
       "# LBLNEW case compaired against"
      ],
      "text/plain": [
       "<IPython.core.display.Markdown object>"
      ]
     },
     "metadata": {},
     "output_type": "display_data"
    },
    {
     "name": "stdout",
     "output_type": "stream",
     "text": [
      "atmpro = saw\n",
      "band = 3a\n",
      "commitnumber = 2bd1f75\n",
      "conc = 0.0004\n",
      "dv = 0.01\n",
      "klin = 6.375563e-24\n",
      "molecule = co2\n",
      "ng_adju = [0, 0, 0]\n",
      "ng_refs = [3, 2, 4]\n",
      "nv = 100\n",
      "option_compute_btable = 0\n",
      "option_compute_ktable = 0\n",
      "option_wgt_flux = 1\n",
      "option_wgt_k = 1\n",
      "ref_pts = [(1, 250), (10, 250), (500, 250)]\n",
      "tsfc = 257\n",
      "vmax = 620\n",
      "vmin = 540\n",
      "w_diffuse = [(1.6, 1.6, 1.7), (1.75, 1.75), (1.55, 1.55, 1.6, 1.85)]\n",
      "wgt = [(0.7, 0.3, 0.7), (0.7, 0.6), (0.4, 0.5, 0.8, 0.95)]\n"
     ]
    },
    {
     "data": {
      "text/html": [
       "<a id=\"Cooling_Rate_Profiles\"></a>"
      ],
      "text/plain": [
       "<IPython.core.display.HTML object>"
      ]
     },
     "metadata": {},
     "output_type": "display_data"
    },
    {
     "data": {
      "text/markdown": [
       "# Cooling Rate Profiles"
      ],
      "text/plain": [
       "<IPython.core.display.Markdown object>"
      ]
     },
     "metadata": {},
     "output_type": "display_data"
    },
    {
     "data": {
      "text/html": [
       "\n",
       "<div class=\"bk-root\">\n",
       "    <div class=\"bk-plotdiv\" id=\"89b187ec-505a-40f3-8eb9-a6bda23783b4\"></div>\n",
       "</div>"
      ]
     },
     "metadata": {},
     "output_type": "display_data"
    },
    {
     "data": {
      "application/javascript": [
       "(function(root) {\n",
       "  function embed_document(root) {\n",
       "    \n",
       "  var docs_json = {\"76a174e5-794f-47f4-acd5-f39b1a8d1247\":{\"roots\":{\"references\":[{\"attributes\":{\"overlay\":{\"id\":\"ddfcbfc9-7c0f-4dcc-969c-92a0b74cdbd2\",\"type\":\"BoxAnnotation\"}},\"id\":\"cb095edc-756a-4372-8d91-14ac932485f4\",\"type\":\"BoxZoomTool\"},{\"attributes\":{\"callback\":null,\"end\":0.01,\"start\":1020},\"id\":\"0a5eb6b8-2269-4fa6-b56b-1dde662491ee\",\"type\":\"Range1d\"},{\"attributes\":{},\"id\":\"19b8fd95-9f1b-4e63-b0a1-4a1d38f48906\",\"type\":\"SaveTool\"},{\"attributes\":{},\"id\":\"9eca42bf-d6df-45b6-8324-dfbfef2c461b\",\"type\":\"BasicTickFormatter\"},{\"attributes\":{},\"id\":\"541a2cda-f735-47a4-921f-191fe2465317\",\"type\":\"WheelZoomTool\"},{\"attributes\":{\"children\":[{\"id\":\"8da86454-af2f-4b03-8eb8-32343928b343\",\"type\":\"Row\"}]},\"id\":\"08e06c6c-1261-443f-9ddc-0523019164b7\",\"type\":\"Column\"},{\"attributes\":{\"active_drag\":\"auto\",\"active_inspect\":\"auto\",\"active_scroll\":\"auto\",\"active_tap\":\"auto\",\"tools\":[{\"id\":\"7b54aa5d-c9e9-4316-bfde-8d86ad34a24b\",\"type\":\"PanTool\"},{\"id\":\"5a5e26a1-fb8f-4b3b-ae39-5457f0f16a1b\",\"type\":\"WheelZoomTool\"},{\"id\":\"0f2ca31e-65c3-47b2-90dd-74b297a47452\",\"type\":\"BoxZoomTool\"},{\"id\":\"19b8fd95-9f1b-4e63-b0a1-4a1d38f48906\",\"type\":\"SaveTool\"},{\"id\":\"3b8dbac9-8e64-43c8-abbe-5f5af1e8d8ba\",\"type\":\"ResetTool\"},{\"id\":\"a14c014d-c05f-4863-910f-dc6d39fb2fe5\",\"type\":\"HelpTool\"}]},\"id\":\"16c70092-ce0c-4f6c-98e6-c3bfe91074ca\",\"type\":\"Toolbar\"},{\"attributes\":{},\"id\":\"a14c014d-c05f-4863-910f-dc6d39fb2fe5\",\"type\":\"HelpTool\"},{\"attributes\":{},\"id\":\"133aad87-2b0b-46d0-884d-10acec0f5507\",\"type\":\"BasicTicker\"},{\"attributes\":{},\"id\":\"4084e35c-988b-4de8-a1be-223dcad07899\",\"type\":\"BasicTicker\"},{\"attributes\":{\"below\":[{\"id\":\"1bc3ec02-79d2-4d45-b439-666fff1f6778\",\"type\":\"LinearAxis\"}],\"left\":[{\"id\":\"6f393dac-eac3-4e2f-8da9-fbbcfcdfa344\",\"type\":\"LogAxis\"}],\"plot_height\":500,\"plot_width\":560,\"renderers\":[{\"id\":\"1bc3ec02-79d2-4d45-b439-666fff1f6778\",\"type\":\"LinearAxis\"},{\"id\":\"e1e70370-2f22-48a7-b552-ebc419d07cf0\",\"type\":\"Grid\"},{\"id\":\"6f393dac-eac3-4e2f-8da9-fbbcfcdfa344\",\"type\":\"LogAxis\"},{\"id\":\"7d425fc8-37d8-46e2-83dc-b1c31fe3de25\",\"type\":\"Grid\"},{\"id\":\"fd05565e-1c1c-4a6c-a792-1e87b9f422b6\",\"type\":\"BoxAnnotation\"},{\"id\":\"16703830-6d96-44c2-b8d9-f09fcfa6cdd4\",\"type\":\"GlyphRenderer\"},{\"id\":\"ee8f438f-d610-4ada-b800-1848ac6449a7\",\"type\":\"GlyphRenderer\"},{\"id\":\"8b81a7e3-a05b-49ef-ab87-6c735012be5a\",\"type\":\"GlyphRenderer\"},{\"id\":\"891eac0a-4bd0-498d-9f00-4d8a68388574\",\"type\":\"GlyphRenderer\"},{\"id\":\"216f8a6c-a98a-4c28-9c59-021fdf53aa71\",\"type\":\"GlyphRenderer\"},{\"id\":\"2e840548-b7dd-43b1-9b33-864093a28b04\",\"type\":\"Legend\"}],\"right\":[{\"id\":\"2e840548-b7dd-43b1-9b33-864093a28b04\",\"type\":\"Legend\"}],\"title\":{\"id\":\"d5481410-6c1d-4acc-880f-fea657753c22\",\"type\":\"Title\"},\"toolbar\":{\"id\":\"16c70092-ce0c-4f6c-98e6-c3bfe91074ca\",\"type\":\"Toolbar\"},\"toolbar_location\":null,\"x_range\":{\"id\":\"604e605b-307f-4e21-a6bc-d0f3c25471ef\",\"type\":\"Range1d\"},\"x_scale\":{\"id\":\"1ca19c5a-ef2e-4e3e-8f4e-9a5354a0669c\",\"type\":\"LinearScale\"},\"y_range\":{\"id\":\"0a5eb6b8-2269-4fa6-b56b-1dde662491ee\",\"type\":\"Range1d\"},\"y_scale\":{\"id\":\"9c07f619-55c2-40f6-8e68-a8de6fcd24e6\",\"type\":\"LogScale\"}},\"id\":\"a5128d1c-0b2a-4b5c-87ee-2870327c9897\",\"subtype\":\"Figure\",\"type\":\"Plot\"},{\"attributes\":{\"ticker\":null},\"id\":\"1d57a316-a609-426e-88e9-8ecdec4f5d64\",\"type\":\"LogTickFormatter\"},{\"attributes\":{\"overlay\":{\"id\":\"fd05565e-1c1c-4a6c-a792-1e87b9f422b6\",\"type\":\"BoxAnnotation\"}},\"id\":\"0f2ca31e-65c3-47b2-90dd-74b297a47452\",\"type\":\"BoxZoomTool\"},{\"attributes\":{\"axis_label\":\"pressure [mb]\",\"formatter\":{\"id\":\"eca8f037-4247-456d-9e82-c5de2d390655\",\"type\":\"BasicTickFormatter\"},\"plot\":{\"id\":\"cec40cae-5aa3-469d-87b4-08222eee23a2\",\"subtype\":\"Figure\",\"type\":\"Plot\"},\"ticker\":{\"id\":\"133aad87-2b0b-46d0-884d-10acec0f5507\",\"type\":\"BasicTicker\"}},\"id\":\"27ba7c9b-e1eb-4488-a4d2-b99314930fa6\",\"type\":\"LinearAxis\"},{\"attributes\":{\"data_source\":{\"id\":\"7d39e194-88cc-4d23-9669-4bd4f631a070\",\"type\":\"ColumnDataSource\"},\"glyph\":{\"id\":\"b366949f-acc7-498a-89dd-e3e6e9181038\",\"type\":\"Circle\"},\"hover_glyph\":null,\"muted_glyph\":null,\"nonselection_glyph\":{\"id\":\"ad73d705-35a0-4e0c-be4d-e9b35cd5ac06\",\"type\":\"Circle\"},\"selection_glyph\":null,\"view\":{\"id\":\"ba93be65-b362-46ad-9782-9683b6778126\",\"type\":\"CDSView\"}},\"id\":\"ee8f438f-d610-4ada-b800-1848ac6449a7\",\"type\":\"GlyphRenderer\"},{\"attributes\":{},\"id\":\"9c07f619-55c2-40f6-8e68-a8de6fcd24e6\",\"type\":\"LogScale\"},{\"attributes\":{\"dimension\":1,\"plot\":{\"id\":\"a5128d1c-0b2a-4b5c-87ee-2870327c9897\",\"subtype\":\"Figure\",\"type\":\"Plot\"},\"ticker\":{\"id\":\"c980ac63-393e-41e9-8813-fa08eaa02cfe\",\"type\":\"LogTicker\"}},\"id\":\"7d425fc8-37d8-46e2-83dc-b1c31fe3de25\",\"type\":\"Grid\"},{\"attributes\":{},\"id\":\"09f5ae1d-22ae-40af-90ae-3a8645315018\",\"type\":\"LinearScale\"},{\"attributes\":{\"plot\":{\"id\":\"a5128d1c-0b2a-4b5c-87ee-2870327c9897\",\"subtype\":\"Figure\",\"type\":\"Plot\"},\"ticker\":{\"id\":\"d102e192-9fbb-4b70-9239-dc1a4cd15484\",\"type\":\"BasicTicker\"}},\"id\":\"e1e70370-2f22-48a7-b552-ebc419d07cf0\",\"type\":\"Grid\"},{\"attributes\":{\"data_source\":{\"id\":\"fcd6582f-51cf-4f88-a332-2e591f664aab\",\"type\":\"ColumnDataSource\"},\"glyph\":{\"id\":\"4cfc998c-499e-45fd-9a84-670a9651d8b9\",\"type\":\"Line\"},\"hover_glyph\":null,\"muted_glyph\":null,\"nonselection_glyph\":{\"id\":\"3677795f-9af5-47f8-907a-e4262f55ff30\",\"type\":\"Line\"},\"selection_glyph\":null,\"view\":{\"id\":\"5d657a4c-4d67-427b-867d-c13ee3e97dbf\",\"type\":\"CDSView\"}},\"id\":\"16703830-6d96-44c2-b8d9-f09fcfa6cdd4\",\"type\":\"GlyphRenderer\"},{\"attributes\":{\"axis_label\":\"cooling rate [K/day]\",\"formatter\":{\"id\":\"29677a11-ed0b-4459-af3f-9406bde57012\",\"type\":\"BasicTickFormatter\"},\"plot\":{\"id\":\"cec40cae-5aa3-469d-87b4-08222eee23a2\",\"subtype\":\"Figure\",\"type\":\"Plot\"},\"ticker\":{\"id\":\"4084e35c-988b-4de8-a1be-223dcad07899\",\"type\":\"BasicTicker\"}},\"id\":\"8753d368-987e-49b6-97f0-6ce666558a8a\",\"type\":\"LinearAxis\"},{\"attributes\":{\"fill_alpha\":{\"value\":0.1},\"fill_color\":{\"value\":\"#1f77b4\"},\"line_alpha\":{\"value\":0.1},\"line_color\":{\"value\":\"#1f77b4\"},\"x\":{\"field\":\"x\"},\"y\":{\"field\":\"y\"}},\"id\":\"ad73d705-35a0-4e0c-be4d-e9b35cd5ac06\",\"type\":\"Circle\"},{\"attributes\":{\"data_source\":{\"id\":\"d0e8b38b-7046-4442-b522-40c1f45381bb\",\"type\":\"ColumnDataSource\"},\"glyph\":{\"id\":\"b6cd8bc0-0a9d-48da-ad32-9aab3721a655\",\"type\":\"Line\"},\"hover_glyph\":null,\"muted_glyph\":null,\"nonselection_glyph\":{\"id\":\"b4ddbf44-e4fd-4c49-9c71-704d744c15a7\",\"type\":\"Line\"},\"selection_glyph\":null,\"view\":{\"id\":\"fd78a68e-3139-4cf6-a909-aa7acab6a7bb\",\"type\":\"CDSView\"}},\"id\":\"71a5bc30-66a0-4114-88c2-36dafe692e22\",\"type\":\"GlyphRenderer\"},{\"attributes\":{\"callback\":null,\"column_names\":[\"x\",\"y\"],\"data\":{\"x\":{\"__ndarray__\":\"8F/Nv2Vnqj8AAAAAAAAAAFpMx/cgX8c/VCd3Cn8nzT/gp6Jf+FTQP+dmZgM8K9U/ZoUi3c8p2z9mM+JdiXvhP6onFJ6nLOM/Y5bBQRAa5z9mTQviLLrpP8Si2MAMHO0/cGWBXeoz7z9XuczAM8fvPwFMfGJbLu4/AMwQInRL6z/AyLL9t7TnP4lCiZ6txuQ/1GSEv3ip4z8zclChPjLlP919bYEt5Og/lym9obYu6T9k6Bpe9/PjPxw6h3zhX90/CIcHYhM41T/s5Gd+kEDOP+a3AQJKgcU/IrklByYWwD9b9EaUk9y6P+qK7F9mk7Y/+DdHoVX7sT+QHOGbQ6WqP2pD/eLdh6U/jnKqYTF9pD/3Ki+CkVqkP+dHXv6M0KU/U6dSnyNzpz+H+lgf4USoPyly6+L0/ac/K9ZmHwjppj8q7yw/RRWlP8/Os6OC1KI/Z7KRgcL0nz+kweJ6WMuYP472/lrsY44/aFCzjkq0hz9YYon6aUuVP5zZ4cGs1qA/dj5GvQPjpT/X4Mnjc2uqP/4iHD7f0q4/iqkBPtBusT84AjAfwlizPwsrT//dK7U/zwbdgeEstz9ATHE+PQK5P/UoAdZPpLo/Pbqu61kIvD/AsSWzkyS9P1fyiDwPD74/3a760MPYvj+BR45T+Fy/P4yw8hXupr8/5Hm6BPHLvz8a/eT/wOK/PwgvCzcqAcA/1yZfGtAcwD8KC/Z4hEfAP23uvwCIXMA/DsVXGnwKwD90/MS/1ym+Pwr6ZvbURbs/prT53UYTuD/i8r1eGOu0P/ndZ6EMcbE/\",\"dtype\":\"float64\",\"shape\":[75]},\"y\":{\"__ndarray__\":\"S/O/Q+51ND/430zAtpRIP2vylNV0PVE/QxsjCssuWD/TR4Z78fVgP+inNsRxymc/OuuBfZWvcD/u3TFA02d3P2d3VoBnaoA/CD5h5MAGhz/1pA8HUCaQP+zrCsc9p5Y/Fb7LAKjGnz/nJ9c/SEmmPwBD+fzcQq8/FOZwv9nstT8Er5Y7M8G+P0c+r3jqkcU/yK72qKZBzj+tM989FzjVPxbgmr8yxN0/cOm5AXbg5D+5ctXAf0jtP5kqGJXUifQ/DsrqDELP/D8MCAhBojQEQDItVnmnVwxAiFXNvdHgE0BSSZ2AJuIbQAMJih9jjiNA5q4l5INuK0CPVN/5RT0zQHzxRXu8/DpAOZ7PgHrtQkAg8wGBzoxKQBSTN8DMeFJA2NmQf2ZqWEAAAAAAAFxeQEQX1LfMJmJAmpmZmZkfZUBmZmZmZhhoQLzoK0gzEWtAAAAAAAAKbkCiC+pbZoFwQAhyUMLM/XFA+I2vPTN6c0AQ5KCEmfZ0QAAAAAAAc3ZA8Btfe2bvd0AIclDCzGt5QPeNrz0z6HpAEOSghJlkfEAAAAAAAOF9QKML6ltmXX9ABTkoYeZsgED7xteeGSuBQAhyUMJM6YFAAAAAAICngkD4ja89s2WDQAU5KGHmI4RA+8bXnhnihEAIclDCTKCFQAAAAACAXoZA+I2vPbMch0AFOShh5tqHQPvG154ZmYhACHJQwkxXiUAAAAAAgBWKQPeNrz2z04pABTkoYeaRi0D7xteeGVCMQAlyUMJMDo1AAAAAAIDMjUD3ja89s4qOQGZmZmbmSI9A\",\"dtype\":\"float64\",\"shape\":[75]}}},\"id\":\"89f8203c-e62a-426a-9fe9-b679f5074f2b\",\"type\":\"ColumnDataSource\"},{\"attributes\":{\"fill_alpha\":{\"value\":0.7},\"fill_color\":{\"value\":\"#4daf4a\"},\"line_alpha\":{\"value\":0.7},\"line_color\":{\"value\":\"#4daf4a\"},\"x\":{\"field\":\"x\"},\"y\":{\"field\":\"y\"}},\"id\":\"b366949f-acc7-498a-89dd-e3e6e9181038\",\"type\":\"Circle\"},{\"attributes\":{\"label\":{\"value\":\"CLIRAD `coolr_bands`\"},\"renderers\":[{\"id\":\"16703830-6d96-44c2-b8d9-f09fcfa6cdd4\",\"type\":\"GlyphRenderer\"}]},\"id\":\"dcbf38e4-f5ea-4ae3-9cb7-60f00d034aa5\",\"type\":\"LegendItem\"},{\"attributes\":{\"data_source\":{\"id\":\"a44062f2-8a1e-4b22-9b06-29537b8e1c99\",\"type\":\"ColumnDataSource\"},\"glyph\":{\"id\":\"e08c8713-10e5-438e-9957-7da9dcc1d858\",\"type\":\"Circle\"},\"hover_glyph\":null,\"muted_glyph\":null,\"nonselection_glyph\":{\"id\":\"dbef4b95-5352-46e0-b51b-88a52f475d77\",\"type\":\"Circle\"},\"selection_glyph\":null,\"view\":{\"id\":\"6ee719da-4b5b-4b50-8dda-dd890dc251b2\",\"type\":\"CDSView\"}},\"id\":\"f39a03ab-5d91-41e7-b156-189b25d28d98\",\"type\":\"GlyphRenderer\"},{\"attributes\":{},\"id\":\"3b8dbac9-8e64-43c8-abbe-5f5af1e8d8ba\",\"type\":\"ResetTool\"},{\"attributes\":{\"num_minor_ticks\":10},\"id\":\"c980ac63-393e-41e9-8813-fa08eaa02cfe\",\"type\":\"LogTicker\"},{\"attributes\":{\"callback\":null,\"column_names\":[\"x\",\"y\"],\"data\":{\"x\":{\"__ndarray__\":\"ZKhxDFQIzD9OP4/uc77OP0gZcQFoFNQ/vKbuZwQd2T8QTyPreGXeP9CUAKkL4OE/0lRw9AiA5D8cNIm0bPHmPz+GM2ThEOk/YcccV2W36j/rfA37HMPrP9f1j65nIuw/23lN1V7g6z+NYW/eD4rqP21ce3Yr8ec/c6I8d6s85T+Se/Rl7T/jP3vgnVtsA+I//gvj8khx4T9BGLKZx4rhP/wUruS2n+I/lUnsXhdT4T+7FVfPKKHaPxJujWN/NNQ/P2Vnl5CLzz9tpzFKZUTIP5kgdujsy8E/TfPQb0Zquj+ufOrmTwy2PyBLfyzNeLM/tIeQzzjIsD9nhpRsY1arPyY0sQ+eSKg/bmuC3e3QqD/IlA9B1eioPwOWgoyFw6g/mNSRohxsqD/OyMIFEKamP36pTvAVKaQ/NAowyVQDoj+IyPCl3r2fP3XNGY49NJs/4IVZ2jwdlj+XyCsuk4OPP9KbIN45I30/FLuJpJU3cj97AKlSVZaIP1IU0XcDQZY/NouMGLo1nj+Vqv5SUJuiP8FLAU2q1KU/AJxbRLvaqD8tQ8uj47arP7meWA+ubK4/TVrNRw1+sD+Z85E2g6+xP//bs05fxrI/XSKYHNe8sz99cGf03Yy0P1cz5DjtMrU/vAVoFPiutT9QhVZfEQe2P9vWMvPGRLY/mguj8/Z0tj/keo29FKe2PyhqGiix6rY/vGcYz4RMtz/IlPtc7sW3Pz9ZfepiF7g/+mmk8YC8tz9Q9znyy1a2P3UpzIBVI7Q/gK+aR/uosT8fjqZhlV6uPyfS0hwmCKk/\",\"dtype\":\"float64\",\"shape\":[75]},\"y\":{\"__ndarray__\":\"GhExyth1ND/Sv8nbtpRIP2vylNV0PVE/aTum7souWD/At0SJ8fVgPw3Iuahxymc/MSNhhJWvcD/bTfBN02d3P2zb5nxnaoA/CD5h5MAGhz8NmeH1TyaQP+zrCsc9p5Y/LbKd76fGnz/bLW5ISEmmPww9YvTcQq8/JV2OstnstT8Er5Y7M8G+P0c+r3jqkcU/5h99k6ZBzj88bCIzFzjVP4enV8oyxN0//yH99nXg5D8qOpLLf0jtP5kqGJXUifQ/c9cS8kHP/D+/DpwzojQEQIEmwoanVwxA4lgXt9HgE0BSSZ2AJuIbQAMJih9jjiNA5q4l5INuK0AwTKYKRj0zQNv5fmq8/DpAaCJseHrtQkB/+zpwzoxKQM3MzMzMeFJAZmZmZmZqWEAAAAAAAFxeQM3MzMzMJmJAmpmZmZkfZUBmZmZmZhhoQDMzMzMzEWtAAAAAAAAKbkBmZmZmZoFwQM3MzMzM/XFAMzMzMzN6c0CamZmZmfZ0QAAAAAAAc3ZAZmZmZmbvd0DNzMzMzGt5QDMzMzMz6HpAmpmZmZlkfEAAAAAAAOF9QGZmZmZmXX9AZmZmZuZsgECamZmZGSuBQM3MzMxM6YFAAAAAAICngkAzMzMzs2WDQGZmZmbmI4RAmpmZmRnihEDNzMzMTKCFQAAAAACAXoZAMzMzM7Mch0BmZmZm5tqHQJqZmZkZmYhAzczMzExXiUAAAAAAgBWKQDMzMzOz04pAZmZmZuaRi0CamZmZGVCMQM3MzMxMDo1AAAAAAIDMjUAzMzMzs4qOQGZmZmbmSI9A\",\"dtype\":\"float64\",\"shape\":[75]}}},\"id\":\"7d39e194-88cc-4d23-9669-4bd4f631a070\",\"type\":\"ColumnDataSource\"},{\"attributes\":{\"bottom_units\":\"screen\",\"fill_alpha\":{\"value\":0.5},\"fill_color\":{\"value\":\"lightgrey\"},\"left_units\":\"screen\",\"level\":\"overlay\",\"line_alpha\":{\"value\":1.0},\"line_color\":{\"value\":\"black\"},\"line_dash\":[4,4],\"line_width\":{\"value\":2},\"plot\":null,\"render_mode\":\"css\",\"right_units\":\"screen\",\"top_units\":\"screen\"},\"id\":\"fd05565e-1c1c-4a6c-a792-1e87b9f422b6\",\"type\":\"BoxAnnotation\"},{\"attributes\":{\"callback\":null,\"column_names\":[\"x\",\"y\"],\"data\":{\"x\":{\"__ndarray__\":\"ZKhxDFQIzD9OP4/uc77OP0gZcQFoFNQ/vKbuZwQd2T8QTyPreGXeP9CUAKkL4OE/0lRw9AiA5D8cNIm0bPHmPz+GM2ThEOk/YcccV2W36j/rfA37HMPrP9f1j65nIuw/23lN1V7g6z+NYW/eD4rqP21ce3Yr8ec/c6I8d6s85T+Se/Rl7T/jP3vgnVtsA+I//gvj8khx4T9BGLKZx4rhP/wUruS2n+I/lUnsXhdT4T+7FVfPKKHaPxJujWN/NNQ/P2Vnl5CLzz9tpzFKZUTIP5kgdujsy8E/TfPQb0Zquj+ufOrmTwy2PyBLfyzNeLM/tIeQzzjIsD9nhpRsY1arPyY0sQ+eSKg/bmuC3e3QqD/IlA9B1eioPwOWgoyFw6g/mNSRohxsqD/OyMIFEKamP36pTvAVKaQ/NAowyVQDoj+IyPCl3r2fP3XNGY49NJs/4IVZ2jwdlj+XyCsuk4OPP9KbIN45I30/FLuJpJU3cj97AKlSVZaIP1IU0XcDQZY/NouMGLo1nj+Vqv5SUJuiP8FLAU2q1KU/AJxbRLvaqD8tQ8uj47arP7meWA+ubK4/TVrNRw1+sD+Z85E2g6+xP//bs05fxrI/XSKYHNe8sz99cGf03Yy0P1cz5DjtMrU/vAVoFPiutT9QhVZfEQe2P9vWMvPGRLY/mguj8/Z0tj/keo29FKe2PyhqGiix6rY/vGcYz4RMtz/IlPtc7sW3Pz9ZfepiF7g/+mmk8YC8tz9Q9znyy1a2P3UpzIBVI7Q/gK+aR/uosT8fjqZhlV6uPyfS0hwmCKk/\",\"dtype\":\"float64\",\"shape\":[75]},\"y\":{\"__ndarray__\":\"GhExyth1ND/Sv8nbtpRIP2vylNV0PVE/aTum7souWD/At0SJ8fVgPw3Iuahxymc/MSNhhJWvcD/bTfBN02d3P2zb5nxnaoA/CD5h5MAGhz8NmeH1TyaQP+zrCsc9p5Y/LbKd76fGnz/bLW5ISEmmPww9YvTcQq8/JV2OstnstT8Er5Y7M8G+P0c+r3jqkcU/5h99k6ZBzj88bCIzFzjVP4enV8oyxN0//yH99nXg5D8qOpLLf0jtP5kqGJXUifQ/c9cS8kHP/D+/DpwzojQEQIEmwoanVwxA4lgXt9HgE0BSSZ2AJuIbQAMJih9jjiNA5q4l5INuK0AwTKYKRj0zQNv5fmq8/DpAaCJseHrtQkB/+zpwzoxKQM3MzMzMeFJAZmZmZmZqWEAAAAAAAFxeQM3MzMzMJmJAmpmZmZkfZUBmZmZmZhhoQDMzMzMzEWtAAAAAAAAKbkBmZmZmZoFwQM3MzMzM/XFAMzMzMzN6c0CamZmZmfZ0QAAAAAAAc3ZAZmZmZmbvd0DNzMzMzGt5QDMzMzMz6HpAmpmZmZlkfEAAAAAAAOF9QGZmZmZmXX9AZmZmZuZsgECamZmZGSuBQM3MzMxM6YFAAAAAAICngkAzMzMzs2WDQGZmZmbmI4RAmpmZmRnihEDNzMzMTKCFQAAAAACAXoZAMzMzM7Mch0BmZmZm5tqHQJqZmZkZmYhAzczMzExXiUAAAAAAgBWKQDMzMzOz04pAZmZmZuaRi0CamZmZGVCMQM3MzMxMDo1AAAAAAIDMjUAzMzMzs4qOQGZmZmbmSI9A\",\"dtype\":\"float64\",\"shape\":[75]}}},\"id\":\"9c15e2fa-efe7-4239-839c-791a672cc478\",\"type\":\"ColumnDataSource\"},{\"attributes\":{\"plot\":null,\"text\":\"Log pressure scale\"},\"id\":\"d5481410-6c1d-4acc-880f-fea657753c22\",\"type\":\"Title\"},{\"attributes\":{},\"id\":\"cc4e8a39-d70b-4aa4-8c40-aa50b796d64a\",\"type\":\"SaveTool\"},{\"attributes\":{},\"id\":\"241b5662-8e1c-4b79-ab91-e7906fb81d38\",\"type\":\"PanTool\"},{\"attributes\":{\"fill_alpha\":{\"value\":0.7},\"fill_color\":{\"value\":\"#984ea3\"},\"line_alpha\":{\"value\":0.7},\"line_color\":{\"value\":\"#984ea3\"},\"x\":{\"field\":\"x\"},\"y\":{\"field\":\"y\"}},\"id\":\"245091af-72c5-44fc-aa1c-4648ef443035\",\"type\":\"Square\"},{\"attributes\":{\"callback\":null,\"column_names\":[\"x\",\"y\"],\"data\":{\"x\":{\"__ndarray__\":\"A+KKyNF4xT8f/Lzfd6fIPzf7TksGWtA/4iBVVRvp1D+LxmB7Jr3ZP49nio6a4t4/fGVwwx8Z4j+17xAaT8HkP7JdP97lVec/KI3m+paz6T+JRG+ZXbDrP2jyTZInJ+0/jylROJ3r7T8UuM/hKVDtP1FnmIDU3uo/f2he/fx85z/rkiwBIx3kP5hhTkaFSeE/t1EoF3oB3z8Dh9AAV0TeP6k13HwIceA/fIaswYbO3z+BWvqZlmjZP/Ztrhfq3tM/hvTC+Dmvzz9Sxy6YqE7JP/kYqmlmBcQ/MAk1LDRjwD/xXI0eMAm9P1fbC54YuLk/0GZFSuE/tT8+lNh14DOwP448Er/awKo/SpEPj8Axqj9QqyG2VdaqPw/x0yxy46w/3wi63f89rj/IhvjAmqOsP1xqMkpPcak/Isa4xFFPpj8LG17hxR+jPwfPevS4uJ8/YT19fMe6mD9YEY2ihHqQP3zf8xGP3ng/L5LhQ1/vZD/EGXtdd1GFP837STu1MJU/E2kNIalqnT+NudqeOzOiP4Ys3kzIVKU/pEaM/S85qD+Z3PC2QfSqP2a7OSrPj60/QVL6CYIHsD88ztacCzmxP8H0wJe8UbI/ulBEn6ZRsz+cQr9MuS+0PxCLA+eL5rQ/y1ZAGk90tT9aEzAQTd+1P8TJWsLkLrY/I49miLButj9TY8/M86y2PwQRjZiw+bY/oPRUfqhktz/SPN/Oit63PxD7vw1qNLg/C8Ki9Jrgtz+0AYL4WYa2P9zY0H6MYrQ/LTzYscL6sT8w7IOe6COvP7HF3Jyu56k/\",\"dtype\":\"float64\",\"shape\":[75]},\"y\":{\"__ndarray__\":\"GhExyth1ND/Sv8nbtpRIP2vylNV0PVE/aTum7souWD/At0SJ8fVgPw3Iuahxymc/MSNhhJWvcD/bTfBN02d3P2zb5nxnaoA/CD5h5MAGhz8NmeH1TyaQP+zrCsc9p5Y/LbKd76fGnz/bLW5ISEmmPww9YvTcQq8/JV2OstnstT8Er5Y7M8G+P0c+r3jqkcU/5h99k6ZBzj88bCIzFzjVP4enV8oyxN0//yH99nXg5D8qOpLLf0jtP5kqGJXUifQ/c9cS8kHP/D+/DpwzojQEQIEmwoanVwxA4lgXt9HgE0BSSZ2AJuIbQAMJih9jjiNA5q4l5INuK0AwTKYKRj0zQNv5fmq8/DpAaCJseHrtQkB/+zpwzoxKQM3MzMzMeFJAZmZmZmZqWEAAAAAAAFxeQM3MzMzMJmJAmpmZmZkfZUBmZmZmZhhoQDMzMzMzEWtAAAAAAAAKbkBmZmZmZoFwQM3MzMzM/XFAMzMzMzN6c0CamZmZmfZ0QAAAAAAAc3ZAZmZmZmbvd0DNzMzMzGt5QDMzMzMz6HpAmpmZmZlkfEAAAAAAAOF9QGZmZmZmXX9AZmZmZuZsgECamZmZGSuBQM3MzMxM6YFAAAAAAICngkAzMzMzs2WDQGZmZmbmI4RAmpmZmRnihEDNzMzMTKCFQAAAAACAXoZAMzMzM7Mch0BmZmZm5tqHQJqZmZkZmYhAzczMzExXiUAAAAAAgBWKQDMzMzOz04pAZmZmZuaRi0CamZmZGVCMQM3MzMxMDo1AAAAAAIDMjUAzMzMzs4qOQGZmZmbmSI9A\",\"dtype\":\"float64\",\"shape\":[75]}}},\"id\":\"537b906d-e618-4298-b83f-922ba83dc957\",\"type\":\"ColumnDataSource\"},{\"attributes\":{\"callback\":null,\"column_names\":[\"x\",\"y\"],\"data\":{\"x\":{\"__ndarray__\":\"A+KKyNF4xT8f/Lzfd6fIPzf7TksGWtA/4iBVVRvp1D+LxmB7Jr3ZP49nio6a4t4/fGVwwx8Z4j+17xAaT8HkP7JdP97lVec/KI3m+paz6T+JRG+ZXbDrP2jyTZInJ+0/jylROJ3r7T8UuM/hKVDtP1FnmIDU3uo/f2he/fx85z/rkiwBIx3kP5hhTkaFSeE/t1EoF3oB3z8Dh9AAV0TeP6k13HwIceA/fIaswYbO3z+BWvqZlmjZP/Ztrhfq3tM/hvTC+Dmvzz9Sxy6YqE7JP/kYqmlmBcQ/MAk1LDRjwD/xXI0eMAm9P1fbC54YuLk/0GZFSuE/tT8+lNh14DOwP448Er/awKo/SpEPj8Axqj9QqyG2VdaqPw/x0yxy46w/3wi63f89rj/IhvjAmqOsP1xqMkpPcak/Isa4xFFPpj8LG17hxR+jPwfPevS4uJ8/YT19fMe6mD9YEY2ihHqQP3zf8xGP3ng/L5LhQ1/vZD/EGXtdd1GFP837STu1MJU/E2kNIalqnT+NudqeOzOiP4Ys3kzIVKU/pEaM/S85qD+Z3PC2QfSqP2a7OSrPj60/QVL6CYIHsD88ztacCzmxP8H0wJe8UbI/ulBEn6ZRsz+cQr9MuS+0PxCLA+eL5rQ/y1ZAGk90tT9aEzAQTd+1P8TJWsLkLrY/I49miLButj9TY8/M86y2PwQRjZiw+bY/oPRUfqhktz/SPN/Oit63PxD7vw1qNLg/C8Ki9Jrgtz+0AYL4WYa2P9zY0H6MYrQ/LTzYscL6sT8w7IOe6COvP7HF3Jyu56k/\",\"dtype\":\"float64\",\"shape\":[75]},\"y\":{\"__ndarray__\":\"GhExyth1ND/Sv8nbtpRIP2vylNV0PVE/aTum7souWD/At0SJ8fVgPw3Iuahxymc/MSNhhJWvcD/bTfBN02d3P2zb5nxnaoA/CD5h5MAGhz8NmeH1TyaQP+zrCsc9p5Y/LbKd76fGnz/bLW5ISEmmPww9YvTcQq8/JV2OstnstT8Er5Y7M8G+P0c+r3jqkcU/5h99k6ZBzj88bCIzFzjVP4enV8oyxN0//yH99nXg5D8qOpLLf0jtP5kqGJXUifQ/c9cS8kHP/D+/DpwzojQEQIEmwoanVwxA4lgXt9HgE0BSSZ2AJuIbQAMJih9jjiNA5q4l5INuK0AwTKYKRj0zQNv5fmq8/DpAaCJseHrtQkB/+zpwzoxKQM3MzMzMeFJAZmZmZmZqWEAAAAAAAFxeQM3MzMzMJmJAmpmZmZkfZUBmZmZmZhhoQDMzMzMzEWtAAAAAAAAKbkBmZmZmZoFwQM3MzMzM/XFAMzMzMzN6c0CamZmZmfZ0QAAAAAAAc3ZAZmZmZmbvd0DNzMzMzGt5QDMzMzMz6HpAmpmZmZlkfEAAAAAAAOF9QGZmZmZmXX9AZmZmZuZsgECamZmZGSuBQM3MzMxM6YFAAAAAAICngkAzMzMzs2WDQGZmZmbmI4RAmpmZmRnihEDNzMzMTKCFQAAAAACAXoZAMzMzM7Mch0BmZmZm5tqHQJqZmZkZmYhAzczMzExXiUAAAAAAgBWKQDMzMzOz04pAZmZmZuaRi0CamZmZGVCMQM3MzMxMDo1AAAAAAIDMjUAzMzMzs4qOQGZmZmbmSI9A\",\"dtype\":\"float64\",\"shape\":[75]}}},\"id\":\"2fa351ce-36d3-4b62-99c0-e345a4890415\",\"type\":\"ColumnDataSource\"},{\"attributes\":{\"bottom_units\":\"screen\",\"fill_alpha\":{\"value\":0.5},\"fill_color\":{\"value\":\"lightgrey\"},\"left_units\":\"screen\",\"level\":\"overlay\",\"line_alpha\":{\"value\":1.0},\"line_color\":{\"value\":\"black\"},\"line_dash\":[4,4],\"line_width\":{\"value\":2},\"plot\":null,\"render_mode\":\"css\",\"right_units\":\"screen\",\"top_units\":\"screen\"},\"id\":\"ddfcbfc9-7c0f-4dcc-969c-92a0b74cdbd2\",\"type\":\"BoxAnnotation\"},{\"attributes\":{\"source\":{\"id\":\"fcd6582f-51cf-4f88-a332-2e591f664aab\",\"type\":\"ColumnDataSource\"}},\"id\":\"5d657a4c-4d67-427b-867d-c13ee3e97dbf\",\"type\":\"CDSView\"},{\"attributes\":{\"callback\":null,\"column_names\":[\"x\",\"y\"],\"data\":{\"x\":{\"__ndarray__\":\"8F/Nv2Vnqj8AAAAAAAAAAFpMx/cgX8c/VCd3Cn8nzT/gp6Jf+FTQP+dmZgM8K9U/ZoUi3c8p2z9mM+JdiXvhP6onFJ6nLOM/Y5bBQRAa5z9mTQviLLrpP8Si2MAMHO0/cGWBXeoz7z9XuczAM8fvPwFMfGJbLu4/AMwQInRL6z/AyLL9t7TnP4lCiZ6txuQ/1GSEv3ip4z8zclChPjLlP919bYEt5Og/lym9obYu6T9k6Bpe9/PjPxw6h3zhX90/CIcHYhM41T/s5Gd+kEDOP+a3AQJKgcU/IrklByYWwD9b9EaUk9y6P+qK7F9mk7Y/+DdHoVX7sT+QHOGbQ6WqP2pD/eLdh6U/jnKqYTF9pD/3Ki+CkVqkP+dHXv6M0KU/U6dSnyNzpz+H+lgf4USoPyly6+L0/ac/K9ZmHwjppj8q7yw/RRWlP8/Os6OC1KI/Z7KRgcL0nz+kweJ6WMuYP472/lrsY44/aFCzjkq0hz9YYon6aUuVP5zZ4cGs1qA/dj5GvQPjpT/X4Mnjc2uqP/4iHD7f0q4/iqkBPtBusT84AjAfwlizPwsrT//dK7U/zwbdgeEstz9ATHE+PQK5P/UoAdZPpLo/Pbqu61kIvD/AsSWzkyS9P1fyiDwPD74/3a760MPYvj+BR45T+Fy/P4yw8hXupr8/5Hm6BPHLvz8a/eT/wOK/PwgvCzcqAcA/1yZfGtAcwD8KC/Z4hEfAP23uvwCIXMA/DsVXGnwKwD90/MS/1ym+Pwr6ZvbURbs/prT53UYTuD/i8r1eGOu0P/ndZ6EMcbE/\",\"dtype\":\"float64\",\"shape\":[75]},\"y\":{\"__ndarray__\":\"S/O/Q+51ND/430zAtpRIP2vylNV0PVE/QxsjCssuWD/TR4Z78fVgP+inNsRxymc/OuuBfZWvcD/u3TFA02d3P2d3VoBnaoA/CD5h5MAGhz/1pA8HUCaQP+zrCsc9p5Y/Fb7LAKjGnz/nJ9c/SEmmPwBD+fzcQq8/FOZwv9nstT8Er5Y7M8G+P0c+r3jqkcU/yK72qKZBzj+tM989FzjVPxbgmr8yxN0/cOm5AXbg5D+5ctXAf0jtP5kqGJXUifQ/DsrqDELP/D8MCAhBojQEQDItVnmnVwxAiFXNvdHgE0BSSZ2AJuIbQAMJih9jjiNA5q4l5INuK0CPVN/5RT0zQHzxRXu8/DpAOZ7PgHrtQkAg8wGBzoxKQBSTN8DMeFJA2NmQf2ZqWEAAAAAAAFxeQEQX1LfMJmJAmpmZmZkfZUBmZmZmZhhoQLzoK0gzEWtAAAAAAAAKbkCiC+pbZoFwQAhyUMLM/XFA+I2vPTN6c0AQ5KCEmfZ0QAAAAAAAc3ZA8Btfe2bvd0AIclDCzGt5QPeNrz0z6HpAEOSghJlkfEAAAAAAAOF9QKML6ltmXX9ABTkoYeZsgED7xteeGSuBQAhyUMJM6YFAAAAAAICngkD4ja89s2WDQAU5KGHmI4RA+8bXnhnihEAIclDCTKCFQAAAAACAXoZA+I2vPbMch0AFOShh5tqHQPvG154ZmYhACHJQwkxXiUAAAAAAgBWKQPeNrz2z04pABTkoYeaRi0D7xteeGVCMQAlyUMJMDo1AAAAAAIDMjUD3ja89s4qOQGZmZmbmSI9A\",\"dtype\":\"float64\",\"shape\":[75]}}},\"id\":\"fcd6582f-51cf-4f88-a332-2e591f664aab\",\"type\":\"ColumnDataSource\"},{\"attributes\":{\"items\":[{\"id\":\"dcbf38e4-f5ea-4ae3-9cb7-60f00d034aa5\",\"type\":\"LegendItem\"},{\"id\":\"8e3e71e0-257c-4304-8083-a13a40181ee3\",\"type\":\"LegendItem\"},{\"id\":\"1f04c19c-ee86-45b0-9c9e-a01bfa2914c1\",\"type\":\"LegendItem\"}],\"label_text_font_size\":{\"value\":\"8pt\"},\"location\":[10,-30],\"plot\":{\"id\":\"a5128d1c-0b2a-4b5c-87ee-2870327c9897\",\"subtype\":\"Figure\",\"type\":\"Plot\"}},\"id\":\"2e840548-b7dd-43b1-9b33-864093a28b04\",\"type\":\"Legend\"},{\"attributes\":{\"source\":{\"id\":\"89f8203c-e62a-426a-9fe9-b679f5074f2b\",\"type\":\"ColumnDataSource\"}},\"id\":\"efb1898e-3e16-4d56-a11f-0e5cf98568a1\",\"type\":\"CDSView\"},{\"attributes\":{},\"id\":\"d102e192-9fbb-4b70-9239-dc1a4cd15484\",\"type\":\"BasicTicker\"},{\"attributes\":{},\"id\":\"7b54aa5d-c9e9-4316-bfde-8d86ad34a24b\",\"type\":\"PanTool\"},{\"attributes\":{\"plot\":null,\"text\":\"Linear pressure scale\"},\"id\":\"26be15a7-574c-4095-a484-334e5c40689f\",\"type\":\"Title\"},{\"attributes\":{},\"id\":\"48865d64-9d66-4f7b-80c2-12768b8a3dc1\",\"type\":\"LinearScale\"},{\"attributes\":{\"line_alpha\":0.1,\"line_color\":\"#1f77b4\",\"line_width\":1.5,\"x\":{\"field\":\"x\"},\"y\":{\"field\":\"y\"}},\"id\":\"b4ddbf44-e4fd-4c49-9c71-704d744c15a7\",\"type\":\"Line\"},{\"attributes\":{\"line_alpha\":0.6,\"line_color\":\"#e41a1c\",\"line_dash\":[6],\"line_width\":5,\"x\":{\"field\":\"x\"},\"y\":{\"field\":\"y\"}},\"id\":\"4cfc998c-499e-45fd-9a84-670a9651d8b9\",\"type\":\"Line\"},{\"attributes\":{\"source\":{\"id\":\"7d39e194-88cc-4d23-9669-4bd4f631a070\",\"type\":\"ColumnDataSource\"}},\"id\":\"ba93be65-b362-46ad-9782-9683b6778126\",\"type\":\"CDSView\"},{\"attributes\":{\"axis_label\":\"pressure [mb]\",\"formatter\":{\"id\":\"1d57a316-a609-426e-88e9-8ecdec4f5d64\",\"type\":\"LogTickFormatter\"},\"plot\":{\"id\":\"a5128d1c-0b2a-4b5c-87ee-2870327c9897\",\"subtype\":\"Figure\",\"type\":\"Plot\"},\"ticker\":{\"id\":\"c980ac63-393e-41e9-8813-fa08eaa02cfe\",\"type\":\"LogTicker\"}},\"id\":\"6f393dac-eac3-4e2f-8da9-fbbcfcdfa344\",\"type\":\"LogAxis\"},{\"attributes\":{\"line_color\":\"#4daf4a\",\"line_width\":1.5,\"x\":{\"field\":\"x\"},\"y\":{\"field\":\"y\"}},\"id\":\"547756d5-2b6d-4b00-9787-d773e5f60ddc\",\"type\":\"Line\"},{\"attributes\":{\"data_source\":{\"id\":\"9c15e2fa-efe7-4239-839c-791a672cc478\",\"type\":\"ColumnDataSource\"},\"glyph\":{\"id\":\"547756d5-2b6d-4b00-9787-d773e5f60ddc\",\"type\":\"Line\"},\"hover_glyph\":null,\"muted_glyph\":null,\"nonselection_glyph\":{\"id\":\"b523201c-2f95-4548-8aaf-9fe6622177fd\",\"type\":\"Line\"},\"selection_glyph\":null,\"view\":{\"id\":\"4f3e5730-4301-49bc-8b67-7b4c0c18d607\",\"type\":\"CDSView\"}},\"id\":\"8b81a7e3-a05b-49ef-ab87-6c735012be5a\",\"type\":\"GlyphRenderer\"},{\"attributes\":{\"data_source\":{\"id\":\"2fa351ce-36d3-4b62-99c0-e345a4890415\",\"type\":\"ColumnDataSource\"},\"glyph\":{\"id\":\"e3eafd79-b079-4dc0-80c4-32fbd5f582e7\",\"type\":\"Square\"},\"hover_glyph\":null,\"muted_glyph\":null,\"nonselection_glyph\":{\"id\":\"46886552-a147-4f62-b8a2-7064c88ef526\",\"type\":\"Square\"},\"selection_glyph\":null,\"view\":{\"id\":\"f869d6dd-befe-4bff-adc6-ae1d9db7f41e\",\"type\":\"CDSView\"}},\"id\":\"891eac0a-4bd0-498d-9f00-4d8a68388574\",\"type\":\"GlyphRenderer\"},{\"attributes\":{\"fill_alpha\":{\"value\":0.1},\"fill_color\":{\"value\":\"#1f77b4\"},\"line_alpha\":{\"value\":0.1},\"line_color\":{\"value\":\"#1f77b4\"},\"x\":{\"field\":\"x\"},\"y\":{\"field\":\"y\"}},\"id\":\"dbef4b95-5352-46e0-b51b-88a52f475d77\",\"type\":\"Circle\"},{\"attributes\":{},\"id\":\"ec85a925-a0e6-42dd-8991-81f1b13bc8be\",\"type\":\"HelpTool\"},{\"attributes\":{\"active_drag\":\"auto\",\"active_inspect\":\"auto\",\"active_scroll\":\"auto\",\"active_tap\":\"auto\",\"tools\":[{\"id\":\"241b5662-8e1c-4b79-ab91-e7906fb81d38\",\"type\":\"PanTool\"},{\"id\":\"541a2cda-f735-47a4-921f-191fe2465317\",\"type\":\"WheelZoomTool\"},{\"id\":\"cb095edc-756a-4372-8d91-14ac932485f4\",\"type\":\"BoxZoomTool\"},{\"id\":\"cc4e8a39-d70b-4aa4-8c40-aa50b796d64a\",\"type\":\"SaveTool\"},{\"id\":\"a9639f39-f197-4966-83aa-3bc22731f9d9\",\"type\":\"ResetTool\"},{\"id\":\"ec85a925-a0e6-42dd-8991-81f1b13bc8be\",\"type\":\"HelpTool\"}]},\"id\":\"b2a44abd-c3b6-4ba1-abe9-8e13c95d1268\",\"type\":\"Toolbar\"},{\"attributes\":{\"line_alpha\":0.1,\"line_color\":\"#1f77b4\",\"line_width\":1.5,\"x\":{\"field\":\"x\"},\"y\":{\"field\":\"y\"}},\"id\":\"b523201c-2f95-4548-8aaf-9fe6622177fd\",\"type\":\"Line\"},{\"attributes\":{\"line_alpha\":0.1,\"line_color\":\"#1f77b4\",\"line_dash\":[6],\"line_width\":5,\"x\":{\"field\":\"x\"},\"y\":{\"field\":\"y\"}},\"id\":\"3677795f-9af5-47f8-907a-e4262f55ff30\",\"type\":\"Line\"},{\"attributes\":{\"source\":{\"id\":\"9c15e2fa-efe7-4239-839c-791a672cc478\",\"type\":\"ColumnDataSource\"}},\"id\":\"4f3e5730-4301-49bc-8b67-7b4c0c18d607\",\"type\":\"CDSView\"},{\"attributes\":{\"fill_alpha\":{\"value\":0.7},\"fill_color\":{\"value\":\"#984ea3\"},\"line_alpha\":{\"value\":0.7},\"line_color\":{\"value\":\"#984ea3\"},\"x\":{\"field\":\"x\"},\"y\":{\"field\":\"y\"}},\"id\":\"e3eafd79-b079-4dc0-80c4-32fbd5f582e7\",\"type\":\"Square\"},{\"attributes\":{\"callback\":null,\"end\":1.00268735937,\"start\":0.02137704363},\"id\":\"604e605b-307f-4e21-a6bc-d0f3c25471ef\",\"type\":\"Range1d\"},{\"attributes\":{\"callback\":null,\"column_names\":[\"x\",\"y\"],\"data\":{\"x\":{\"__ndarray__\":\"ZKhxDFQIzD9OP4/uc77OP0gZcQFoFNQ/vKbuZwQd2T8QTyPreGXeP9CUAKkL4OE/0lRw9AiA5D8cNIm0bPHmPz+GM2ThEOk/YcccV2W36j/rfA37HMPrP9f1j65nIuw/23lN1V7g6z+NYW/eD4rqP21ce3Yr8ec/c6I8d6s85T+Se/Rl7T/jP3vgnVtsA+I//gvj8khx4T9BGLKZx4rhP/wUruS2n+I/lUnsXhdT4T+7FVfPKKHaPxJujWN/NNQ/P2Vnl5CLzz9tpzFKZUTIP5kgdujsy8E/TfPQb0Zquj+ufOrmTwy2PyBLfyzNeLM/tIeQzzjIsD9nhpRsY1arPyY0sQ+eSKg/bmuC3e3QqD/IlA9B1eioPwOWgoyFw6g/mNSRohxsqD/OyMIFEKamP36pTvAVKaQ/NAowyVQDoj+IyPCl3r2fP3XNGY49NJs/4IVZ2jwdlj+XyCsuk4OPP9KbIN45I30/FLuJpJU3cj97AKlSVZaIP1IU0XcDQZY/NouMGLo1nj+Vqv5SUJuiP8FLAU2q1KU/AJxbRLvaqD8tQ8uj47arP7meWA+ubK4/TVrNRw1+sD+Z85E2g6+xP//bs05fxrI/XSKYHNe8sz99cGf03Yy0P1cz5DjtMrU/vAVoFPiutT9QhVZfEQe2P9vWMvPGRLY/mguj8/Z0tj/keo29FKe2PyhqGiix6rY/vGcYz4RMtz/IlPtc7sW3Pz9ZfepiF7g/+mmk8YC8tz9Q9znyy1a2P3UpzIBVI7Q/gK+aR/uosT8fjqZhlV6uPyfS0hwmCKk/\",\"dtype\":\"float64\",\"shape\":[75]},\"y\":{\"__ndarray__\":\"GhExyth1ND/Sv8nbtpRIP2vylNV0PVE/aTum7souWD/At0SJ8fVgPw3Iuahxymc/MSNhhJWvcD/bTfBN02d3P2zb5nxnaoA/CD5h5MAGhz8NmeH1TyaQP+zrCsc9p5Y/LbKd76fGnz/bLW5ISEmmPww9YvTcQq8/JV2OstnstT8Er5Y7M8G+P0c+r3jqkcU/5h99k6ZBzj88bCIzFzjVP4enV8oyxN0//yH99nXg5D8qOpLLf0jtP5kqGJXUifQ/c9cS8kHP/D+/DpwzojQEQIEmwoanVwxA4lgXt9HgE0BSSZ2AJuIbQAMJih9jjiNA5q4l5INuK0AwTKYKRj0zQNv5fmq8/DpAaCJseHrtQkB/+zpwzoxKQM3MzMzMeFJAZmZmZmZqWEAAAAAAAFxeQM3MzMzMJmJAmpmZmZkfZUBmZmZmZhhoQDMzMzMzEWtAAAAAAAAKbkBmZmZmZoFwQM3MzMzM/XFAMzMzMzN6c0CamZmZmfZ0QAAAAAAAc3ZAZmZmZmbvd0DNzMzMzGt5QDMzMzMz6HpAmpmZmZlkfEAAAAAAAOF9QGZmZmZmXX9AZmZmZuZsgECamZmZGSuBQM3MzMxM6YFAAAAAAICngkAzMzMzs2WDQGZmZmbmI4RAmpmZmRnihEDNzMzMTKCFQAAAAACAXoZAMzMzM7Mch0BmZmZm5tqHQJqZmZkZmYhAzczMzExXiUAAAAAAgBWKQDMzMzOz04pAZmZmZuaRi0CamZmZGVCMQM3MzMxMDo1AAAAAAIDMjUAzMzMzs4qOQGZmZmbmSI9A\",\"dtype\":\"float64\",\"shape\":[75]}}},\"id\":\"a44062f2-8a1e-4b22-9b06-29537b8e1c99\",\"type\":\"ColumnDataSource\"},{\"attributes\":{\"callback\":null,\"column_names\":[\"x\",\"y\"],\"data\":{\"x\":{\"__ndarray__\":\"ZKhxDFQIzD9OP4/uc77OP0gZcQFoFNQ/vKbuZwQd2T8QTyPreGXeP9CUAKkL4OE/0lRw9AiA5D8cNIm0bPHmPz+GM2ThEOk/YcccV2W36j/rfA37HMPrP9f1j65nIuw/23lN1V7g6z+NYW/eD4rqP21ce3Yr8ec/c6I8d6s85T+Se/Rl7T/jP3vgnVtsA+I//gvj8khx4T9BGLKZx4rhP/wUruS2n+I/lUnsXhdT4T+7FVfPKKHaPxJujWN/NNQ/P2Vnl5CLzz9tpzFKZUTIP5kgdujsy8E/TfPQb0Zquj+ufOrmTwy2PyBLfyzNeLM/tIeQzzjIsD9nhpRsY1arPyY0sQ+eSKg/bmuC3e3QqD/IlA9B1eioPwOWgoyFw6g/mNSRohxsqD/OyMIFEKamP36pTvAVKaQ/NAowyVQDoj+IyPCl3r2fP3XNGY49NJs/4IVZ2jwdlj+XyCsuk4OPP9KbIN45I30/FLuJpJU3cj97AKlSVZaIP1IU0XcDQZY/NouMGLo1nj+Vqv5SUJuiP8FLAU2q1KU/AJxbRLvaqD8tQ8uj47arP7meWA+ubK4/TVrNRw1+sD+Z85E2g6+xP//bs05fxrI/XSKYHNe8sz99cGf03Yy0P1cz5DjtMrU/vAVoFPiutT9QhVZfEQe2P9vWMvPGRLY/mguj8/Z0tj/keo29FKe2PyhqGiix6rY/vGcYz4RMtz/IlPtc7sW3Pz9ZfepiF7g/+mmk8YC8tz9Q9znyy1a2P3UpzIBVI7Q/gK+aR/uosT8fjqZhlV6uPyfS0hwmCKk/\",\"dtype\":\"float64\",\"shape\":[75]},\"y\":{\"__ndarray__\":\"GhExyth1ND/Sv8nbtpRIP2vylNV0PVE/aTum7souWD/At0SJ8fVgPw3Iuahxymc/MSNhhJWvcD/bTfBN02d3P2zb5nxnaoA/CD5h5MAGhz8NmeH1TyaQP+zrCsc9p5Y/LbKd76fGnz/bLW5ISEmmPww9YvTcQq8/JV2OstnstT8Er5Y7M8G+P0c+r3jqkcU/5h99k6ZBzj88bCIzFzjVP4enV8oyxN0//yH99nXg5D8qOpLLf0jtP5kqGJXUifQ/c9cS8kHP/D+/DpwzojQEQIEmwoanVwxA4lgXt9HgE0BSSZ2AJuIbQAMJih9jjiNA5q4l5INuK0AwTKYKRj0zQNv5fmq8/DpAaCJseHrtQkB/+zpwzoxKQM3MzMzMeFJAZmZmZmZqWEAAAAAAAFxeQM3MzMzMJmJAmpmZmZkfZUBmZmZmZhhoQDMzMzMzEWtAAAAAAAAKbkBmZmZmZoFwQM3MzMzM/XFAMzMzMzN6c0CamZmZmfZ0QAAAAAAAc3ZAZmZmZmbvd0DNzMzMzGt5QDMzMzMz6HpAmpmZmZlkfEAAAAAAAOF9QGZmZmZmXX9AZmZmZuZsgECamZmZGSuBQM3MzMxM6YFAAAAAAICngkAzMzMzs2WDQGZmZmbmI4RAmpmZmRnihEDNzMzMTKCFQAAAAACAXoZAMzMzM7Mch0BmZmZm5tqHQJqZmZkZmYhAzczMzExXiUAAAAAAgBWKQDMzMzOz04pAZmZmZuaRi0CamZmZGVCMQM3MzMxMDo1AAAAAAIDMjUAzMzMzs4qOQGZmZmbmSI9A\",\"dtype\":\"float64\",\"shape\":[75]}}},\"id\":\"d0e8b38b-7046-4442-b522-40c1f45381bb\",\"type\":\"ColumnDataSource\"},{\"attributes\":{},\"id\":\"1ca19c5a-ef2e-4e3e-8f4e-9a5354a0669c\",\"type\":\"LinearScale\"},{\"attributes\":{\"line_alpha\":0.6,\"line_color\":\"#984ea3\",\"line_width\":3,\"x\":{\"field\":\"x\"},\"y\":{\"field\":\"y\"}},\"id\":\"6f00f797-0df9-49bb-af0b-6e58ba34aa66\",\"type\":\"Line\"},{\"attributes\":{\"callback\":null,\"column_names\":[\"x\",\"y\"],\"data\":{\"x\":{\"__ndarray__\":\"A+KKyNF4xT8f/Lzfd6fIPzf7TksGWtA/4iBVVRvp1D+LxmB7Jr3ZP49nio6a4t4/fGVwwx8Z4j+17xAaT8HkP7JdP97lVec/KI3m+paz6T+JRG+ZXbDrP2jyTZInJ+0/jylROJ3r7T8UuM/hKVDtP1FnmIDU3uo/f2he/fx85z/rkiwBIx3kP5hhTkaFSeE/t1EoF3oB3z8Dh9AAV0TeP6k13HwIceA/fIaswYbO3z+BWvqZlmjZP/Ztrhfq3tM/hvTC+Dmvzz9Sxy6YqE7JP/kYqmlmBcQ/MAk1LDRjwD/xXI0eMAm9P1fbC54YuLk/0GZFSuE/tT8+lNh14DOwP448Er/awKo/SpEPj8Axqj9QqyG2VdaqPw/x0yxy46w/3wi63f89rj/IhvjAmqOsP1xqMkpPcak/Isa4xFFPpj8LG17hxR+jPwfPevS4uJ8/YT19fMe6mD9YEY2ihHqQP3zf8xGP3ng/L5LhQ1/vZD/EGXtdd1GFP837STu1MJU/E2kNIalqnT+NudqeOzOiP4Ys3kzIVKU/pEaM/S85qD+Z3PC2QfSqP2a7OSrPj60/QVL6CYIHsD88ztacCzmxP8H0wJe8UbI/ulBEn6ZRsz+cQr9MuS+0PxCLA+eL5rQ/y1ZAGk90tT9aEzAQTd+1P8TJWsLkLrY/I49miLButj9TY8/M86y2PwQRjZiw+bY/oPRUfqhktz/SPN/Oit63PxD7vw1qNLg/C8Ki9Jrgtz+0AYL4WYa2P9zY0H6MYrQ/LTzYscL6sT8w7IOe6COvP7HF3Jyu56k/\",\"dtype\":\"float64\",\"shape\":[75]},\"y\":{\"__ndarray__\":\"GhExyth1ND/Sv8nbtpRIP2vylNV0PVE/aTum7souWD/At0SJ8fVgPw3Iuahxymc/MSNhhJWvcD/bTfBN02d3P2zb5nxnaoA/CD5h5MAGhz8NmeH1TyaQP+zrCsc9p5Y/LbKd76fGnz/bLW5ISEmmPww9YvTcQq8/JV2OstnstT8Er5Y7M8G+P0c+r3jqkcU/5h99k6ZBzj88bCIzFzjVP4enV8oyxN0//yH99nXg5D8qOpLLf0jtP5kqGJXUifQ/c9cS8kHP/D+/DpwzojQEQIEmwoanVwxA4lgXt9HgE0BSSZ2AJuIbQAMJih9jjiNA5q4l5INuK0AwTKYKRj0zQNv5fmq8/DpAaCJseHrtQkB/+zpwzoxKQM3MzMzMeFJAZmZmZmZqWEAAAAAAAFxeQM3MzMzMJmJAmpmZmZkfZUBmZmZmZhhoQDMzMzMzEWtAAAAAAAAKbkBmZmZmZoFwQM3MzMzM/XFAMzMzMzN6c0CamZmZmfZ0QAAAAAAAc3ZAZmZmZmbvd0DNzMzMzGt5QDMzMzMz6HpAmpmZmZlkfEAAAAAAAOF9QGZmZmZmXX9AZmZmZuZsgECamZmZGSuBQM3MzMxM6YFAAAAAAICngkAzMzMzs2WDQGZmZmbmI4RAmpmZmRnihEDNzMzMTKCFQAAAAACAXoZAMzMzM7Mch0BmZmZm5tqHQJqZmZkZmYhAzczMzExXiUAAAAAAgBWKQDMzMzOz04pAZmZmZuaRi0CamZmZGVCMQM3MzMxMDo1AAAAAAIDMjUAzMzMzs4qOQGZmZmbmSI9A\",\"dtype\":\"float64\",\"shape\":[75]}}},\"id\":\"c18b0b42-1833-4955-9625-9858bba5d9a8\",\"type\":\"ColumnDataSource\"},{\"attributes\":{\"label\":{\"value\":\"CRD\"},\"renderers\":[{\"id\":\"ee8f438f-d610-4ada-b800-1848ac6449a7\",\"type\":\"GlyphRenderer\"},{\"id\":\"8b81a7e3-a05b-49ef-ab87-6c735012be5a\",\"type\":\"GlyphRenderer\"}]},\"id\":\"8e3e71e0-257c-4304-8083-a13a40181ee3\",\"type\":\"LegendItem\"},{\"attributes\":{},\"id\":\"a9639f39-f197-4966-83aa-3bc22731f9d9\",\"type\":\"ResetTool\"},{\"attributes\":{\"source\":{\"id\":\"2fa351ce-36d3-4b62-99c0-e345a4890415\",\"type\":\"ColumnDataSource\"}},\"id\":\"f869d6dd-befe-4bff-adc6-ae1d9db7f41e\",\"type\":\"CDSView\"},{\"attributes\":{\"source\":{\"id\":\"c18b0b42-1833-4955-9625-9858bba5d9a8\",\"type\":\"ColumnDataSource\"}},\"id\":\"83023977-f8aa-4f4a-be5e-c92d3c5f4c22\",\"type\":\"CDSView\"},{\"attributes\":{\"label\":{\"value\":\"WGT igg=10 wgt_flux=2\"},\"renderers\":[{\"id\":\"891eac0a-4bd0-498d-9f00-4d8a68388574\",\"type\":\"GlyphRenderer\"},{\"id\":\"216f8a6c-a98a-4c28-9c59-021fdf53aa71\",\"type\":\"GlyphRenderer\"}]},\"id\":\"1f04c19c-ee86-45b0-9c9e-a01bfa2914c1\",\"type\":\"LegendItem\"},{\"attributes\":{\"line_alpha\":0.1,\"line_color\":\"#1f77b4\",\"line_width\":3,\"x\":{\"field\":\"x\"},\"y\":{\"field\":\"y\"}},\"id\":\"fc7aebd0-8c2c-4d7d-820f-113c4c9b3ea9\",\"type\":\"Line\"},{\"attributes\":{\"children\":[{\"id\":\"cec40cae-5aa3-469d-87b4-08222eee23a2\",\"subtype\":\"Figure\",\"type\":\"Plot\"},{\"id\":\"a5128d1c-0b2a-4b5c-87ee-2870327c9897\",\"subtype\":\"Figure\",\"type\":\"Plot\"}]},\"id\":\"8da86454-af2f-4b03-8eb8-32343928b343\",\"type\":\"Row\"},{\"attributes\":{\"data_source\":{\"id\":\"c18b0b42-1833-4955-9625-9858bba5d9a8\",\"type\":\"ColumnDataSource\"},\"glyph\":{\"id\":\"6f00f797-0df9-49bb-af0b-6e58ba34aa66\",\"type\":\"Line\"},\"hover_glyph\":null,\"muted_glyph\":null,\"nonselection_glyph\":{\"id\":\"fc7aebd0-8c2c-4d7d-820f-113c4c9b3ea9\",\"type\":\"Line\"},\"selection_glyph\":null,\"view\":{\"id\":\"83023977-f8aa-4f4a-be5e-c92d3c5f4c22\",\"type\":\"CDSView\"}},\"id\":\"216f8a6c-a98a-4c28-9c59-021fdf53aa71\",\"type\":\"GlyphRenderer\"},{\"attributes\":{\"axis_label\":\"cooling rate [K/day]\",\"formatter\":{\"id\":\"9eca42bf-d6df-45b6-8324-dfbfef2c461b\",\"type\":\"BasicTickFormatter\"},\"plot\":{\"id\":\"a5128d1c-0b2a-4b5c-87ee-2870327c9897\",\"subtype\":\"Figure\",\"type\":\"Plot\"},\"ticker\":{\"id\":\"d102e192-9fbb-4b70-9239-dc1a4cd15484\",\"type\":\"BasicTicker\"}},\"id\":\"1bc3ec02-79d2-4d45-b439-666fff1f6778\",\"type\":\"LinearAxis\"},{\"attributes\":{\"children\":[{\"id\":\"94e67e33-0343-4e6f-b6a4-27b0c9caf2ed\",\"type\":\"ToolbarBox\"},{\"id\":\"08e06c6c-1261-443f-9ddc-0523019164b7\",\"type\":\"Column\"}]},\"id\":\"d6400d99-7774-48a8-ad34-43a288a05fa7\",\"type\":\"Column\"},{\"attributes\":{\"source\":{\"id\":\"a44062f2-8a1e-4b22-9b06-29537b8e1c99\",\"type\":\"ColumnDataSource\"}},\"id\":\"6ee719da-4b5b-4b50-8dda-dd890dc251b2\",\"type\":\"CDSView\"},{\"attributes\":{\"tools\":[{\"id\":\"241b5662-8e1c-4b79-ab91-e7906fb81d38\",\"type\":\"PanTool\"},{\"id\":\"541a2cda-f735-47a4-921f-191fe2465317\",\"type\":\"WheelZoomTool\"},{\"id\":\"cb095edc-756a-4372-8d91-14ac932485f4\",\"type\":\"BoxZoomTool\"},{\"id\":\"cc4e8a39-d70b-4aa4-8c40-aa50b796d64a\",\"type\":\"SaveTool\"},{\"id\":\"a9639f39-f197-4966-83aa-3bc22731f9d9\",\"type\":\"ResetTool\"},{\"id\":\"ec85a925-a0e6-42dd-8991-81f1b13bc8be\",\"type\":\"HelpTool\"},{\"id\":\"7b54aa5d-c9e9-4316-bfde-8d86ad34a24b\",\"type\":\"PanTool\"},{\"id\":\"5a5e26a1-fb8f-4b3b-ae39-5457f0f16a1b\",\"type\":\"WheelZoomTool\"},{\"id\":\"0f2ca31e-65c3-47b2-90dd-74b297a47452\",\"type\":\"BoxZoomTool\"},{\"id\":\"19b8fd95-9f1b-4e63-b0a1-4a1d38f48906\",\"type\":\"SaveTool\"},{\"id\":\"3b8dbac9-8e64-43c8-abbe-5f5af1e8d8ba\",\"type\":\"ResetTool\"},{\"id\":\"a14c014d-c05f-4863-910f-dc6d39fb2fe5\",\"type\":\"HelpTool\"}]},\"id\":\"7b2b8d5e-fd9d-45d6-806c-5da4c50d4560\",\"type\":\"ProxyToolbar\"},{\"attributes\":{\"toolbar\":{\"id\":\"7b2b8d5e-fd9d-45d6-806c-5da4c50d4560\",\"type\":\"ProxyToolbar\"},\"toolbar_location\":\"above\"},\"id\":\"94e67e33-0343-4e6f-b6a4-27b0c9caf2ed\",\"type\":\"ToolbarBox\"},{\"attributes\":{\"below\":[{\"id\":\"8753d368-987e-49b6-97f0-6ce666558a8a\",\"type\":\"LinearAxis\"}],\"left\":[{\"id\":\"27ba7c9b-e1eb-4488-a4d2-b99314930fa6\",\"type\":\"LinearAxis\"}],\"plot_height\":500,\"plot_width\":400,\"renderers\":[{\"id\":\"8753d368-987e-49b6-97f0-6ce666558a8a\",\"type\":\"LinearAxis\"},{\"id\":\"a616fe34-0e4a-4c6d-b909-41b4229f5eb2\",\"type\":\"Grid\"},{\"id\":\"27ba7c9b-e1eb-4488-a4d2-b99314930fa6\",\"type\":\"LinearAxis\"},{\"id\":\"c5d2fdd8-5ba8-4c67-902f-7b8f4107ac10\",\"type\":\"Grid\"},{\"id\":\"ddfcbfc9-7c0f-4dcc-969c-92a0b74cdbd2\",\"type\":\"BoxAnnotation\"},{\"id\":\"4031bf56-aa39-436e-a7af-8ac6f035055c\",\"type\":\"GlyphRenderer\"},{\"id\":\"f39a03ab-5d91-41e7-b156-189b25d28d98\",\"type\":\"GlyphRenderer\"},{\"id\":\"71a5bc30-66a0-4114-88c2-36dafe692e22\",\"type\":\"GlyphRenderer\"},{\"id\":\"e425fff3-6ab8-430f-8264-d119a3c3b0f9\",\"type\":\"GlyphRenderer\"},{\"id\":\"b54b43ef-205d-409e-b1d1-fcbb94204bbf\",\"type\":\"GlyphRenderer\"}],\"title\":{\"id\":\"26be15a7-574c-4095-a484-334e5c40689f\",\"type\":\"Title\"},\"toolbar\":{\"id\":\"b2a44abd-c3b6-4ba1-abe9-8e13c95d1268\",\"type\":\"Toolbar\"},\"toolbar_location\":null,\"x_range\":{\"id\":\"a73c392b-1636-4be2-a70e-e82254e8d0be\",\"type\":\"Range1d\"},\"x_scale\":{\"id\":\"48865d64-9d66-4f7b-80c2-12768b8a3dc1\",\"type\":\"LinearScale\"},\"y_range\":{\"id\":\"0a695f3e-41fa-4e67-a510-bac30a61fea5\",\"type\":\"Range1d\"},\"y_scale\":{\"id\":\"09f5ae1d-22ae-40af-90ae-3a8645315018\",\"type\":\"LinearScale\"}},\"id\":\"cec40cae-5aa3-469d-87b4-08222eee23a2\",\"subtype\":\"Figure\",\"type\":\"Plot\"},{\"attributes\":{\"callback\":null,\"end\":0.01,\"start\":1020},\"id\":\"0a695f3e-41fa-4e67-a510-bac30a61fea5\",\"type\":\"Range1d\"},{\"attributes\":{\"fill_alpha\":{\"value\":0.7},\"fill_color\":{\"value\":\"#4daf4a\"},\"line_alpha\":{\"value\":0.7},\"line_color\":{\"value\":\"#4daf4a\"},\"x\":{\"field\":\"x\"},\"y\":{\"field\":\"y\"}},\"id\":\"e08c8713-10e5-438e-9957-7da9dcc1d858\",\"type\":\"Circle\"},{\"attributes\":{\"line_alpha\":0.6,\"line_color\":\"#e41a1c\",\"line_dash\":[6],\"line_width\":5,\"x\":{\"field\":\"x\"},\"y\":{\"field\":\"y\"}},\"id\":\"9b8a13b3-bf26-4f91-b5dc-d86fcc58d5af\",\"type\":\"Line\"},{\"attributes\":{\"plot\":{\"id\":\"cec40cae-5aa3-469d-87b4-08222eee23a2\",\"subtype\":\"Figure\",\"type\":\"Plot\"},\"ticker\":{\"id\":\"4084e35c-988b-4de8-a1be-223dcad07899\",\"type\":\"BasicTicker\"}},\"id\":\"a616fe34-0e4a-4c6d-b909-41b4229f5eb2\",\"type\":\"Grid\"},{\"attributes\":{\"source\":{\"id\":\"d0e8b38b-7046-4442-b522-40c1f45381bb\",\"type\":\"ColumnDataSource\"}},\"id\":\"fd78a68e-3139-4cf6-a909-aa7acab6a7bb\",\"type\":\"CDSView\"},{\"attributes\":{\"fill_alpha\":{\"value\":0.1},\"fill_color\":{\"value\":\"#1f77b4\"},\"line_alpha\":{\"value\":0.1},\"line_color\":{\"value\":\"#1f77b4\"},\"x\":{\"field\":\"x\"},\"y\":{\"field\":\"y\"}},\"id\":\"46886552-a147-4f62-b8a2-7064c88ef526\",\"type\":\"Square\"},{\"attributes\":{\"dimension\":1,\"plot\":{\"id\":\"cec40cae-5aa3-469d-87b4-08222eee23a2\",\"subtype\":\"Figure\",\"type\":\"Plot\"},\"ticker\":{\"id\":\"133aad87-2b0b-46d0-884d-10acec0f5507\",\"type\":\"BasicTicker\"}},\"id\":\"c5d2fdd8-5ba8-4c67-902f-7b8f4107ac10\",\"type\":\"Grid\"},{\"attributes\":{\"line_color\":\"#4daf4a\",\"line_width\":1.5,\"x\":{\"field\":\"x\"},\"y\":{\"field\":\"y\"}},\"id\":\"b6cd8bc0-0a9d-48da-ad32-9aab3721a655\",\"type\":\"Line\"},{\"attributes\":{},\"id\":\"eca8f037-4247-456d-9e82-c5de2d390655\",\"type\":\"BasicTickFormatter\"},{\"attributes\":{\"data_source\":{\"id\":\"89f8203c-e62a-426a-9fe9-b679f5074f2b\",\"type\":\"ColumnDataSource\"},\"glyph\":{\"id\":\"9b8a13b3-bf26-4f91-b5dc-d86fcc58d5af\",\"type\":\"Line\"},\"hover_glyph\":null,\"muted_glyph\":null,\"nonselection_glyph\":{\"id\":\"3cad1708-ebd9-4a9c-a4bd-2c3e6d57816b\",\"type\":\"Line\"},\"selection_glyph\":null,\"view\":{\"id\":\"efb1898e-3e16-4d56-a11f-0e5cf98568a1\",\"type\":\"CDSView\"}},\"id\":\"4031bf56-aa39-436e-a7af-8ac6f035055c\",\"type\":\"GlyphRenderer\"},{\"attributes\":{},\"id\":\"29677a11-ed0b-4459-af3f-9406bde57012\",\"type\":\"BasicTickFormatter\"},{\"attributes\":{\"line_alpha\":0.6,\"line_color\":\"#984ea3\",\"line_width\":3,\"x\":{\"field\":\"x\"},\"y\":{\"field\":\"y\"}},\"id\":\"e3e9a46f-5fb5-4f22-a409-0732d497490f\",\"type\":\"Line\"},{\"attributes\":{\"fill_alpha\":{\"value\":0.1},\"fill_color\":{\"value\":\"#1f77b4\"},\"line_alpha\":{\"value\":0.1},\"line_color\":{\"value\":\"#1f77b4\"},\"x\":{\"field\":\"x\"},\"y\":{\"field\":\"y\"}},\"id\":\"c7ace0e7-f23f-4c90-b091-455121131170\",\"type\":\"Square\"},{\"attributes\":{\"callback\":null,\"column_names\":[\"x\",\"y\"],\"data\":{\"x\":{\"__ndarray__\":\"A+KKyNF4xT8f/Lzfd6fIPzf7TksGWtA/4iBVVRvp1D+LxmB7Jr3ZP49nio6a4t4/fGVwwx8Z4j+17xAaT8HkP7JdP97lVec/KI3m+paz6T+JRG+ZXbDrP2jyTZInJ+0/jylROJ3r7T8UuM/hKVDtP1FnmIDU3uo/f2he/fx85z/rkiwBIx3kP5hhTkaFSeE/t1EoF3oB3z8Dh9AAV0TeP6k13HwIceA/fIaswYbO3z+BWvqZlmjZP/Ztrhfq3tM/hvTC+Dmvzz9Sxy6YqE7JP/kYqmlmBcQ/MAk1LDRjwD/xXI0eMAm9P1fbC54YuLk/0GZFSuE/tT8+lNh14DOwP448Er/awKo/SpEPj8Axqj9QqyG2VdaqPw/x0yxy46w/3wi63f89rj/IhvjAmqOsP1xqMkpPcak/Isa4xFFPpj8LG17hxR+jPwfPevS4uJ8/YT19fMe6mD9YEY2ihHqQP3zf8xGP3ng/L5LhQ1/vZD/EGXtdd1GFP837STu1MJU/E2kNIalqnT+NudqeOzOiP4Ys3kzIVKU/pEaM/S85qD+Z3PC2QfSqP2a7OSrPj60/QVL6CYIHsD88ztacCzmxP8H0wJe8UbI/ulBEn6ZRsz+cQr9MuS+0PxCLA+eL5rQ/y1ZAGk90tT9aEzAQTd+1P8TJWsLkLrY/I49miLButj9TY8/M86y2PwQRjZiw+bY/oPRUfqhktz/SPN/Oit63PxD7vw1qNLg/C8Ki9Jrgtz+0AYL4WYa2P9zY0H6MYrQ/LTzYscL6sT8w7IOe6COvP7HF3Jyu56k/\",\"dtype\":\"float64\",\"shape\":[75]},\"y\":{\"__ndarray__\":\"GhExyth1ND/Sv8nbtpRIP2vylNV0PVE/aTum7souWD/At0SJ8fVgPw3Iuahxymc/MSNhhJWvcD/bTfBN02d3P2zb5nxnaoA/CD5h5MAGhz8NmeH1TyaQP+zrCsc9p5Y/LbKd76fGnz/bLW5ISEmmPww9YvTcQq8/JV2OstnstT8Er5Y7M8G+P0c+r3jqkcU/5h99k6ZBzj88bCIzFzjVP4enV8oyxN0//yH99nXg5D8qOpLLf0jtP5kqGJXUifQ/c9cS8kHP/D+/DpwzojQEQIEmwoanVwxA4lgXt9HgE0BSSZ2AJuIbQAMJih9jjiNA5q4l5INuK0AwTKYKRj0zQNv5fmq8/DpAaCJseHrtQkB/+zpwzoxKQM3MzMzMeFJAZmZmZmZqWEAAAAAAAFxeQM3MzMzMJmJAmpmZmZkfZUBmZmZmZhhoQDMzMzMzEWtAAAAAAAAKbkBmZmZmZoFwQM3MzMzM/XFAMzMzMzN6c0CamZmZmfZ0QAAAAAAAc3ZAZmZmZmbvd0DNzMzMzGt5QDMzMzMz6HpAmpmZmZlkfEAAAAAAAOF9QGZmZmZmXX9AZmZmZuZsgECamZmZGSuBQM3MzMxM6YFAAAAAAICngkAzMzMzs2WDQGZmZmbmI4RAmpmZmRnihEDNzMzMTKCFQAAAAACAXoZAMzMzM7Mch0BmZmZm5tqHQJqZmZkZmYhAzczMzExXiUAAAAAAgBWKQDMzMzOz04pAZmZmZuaRi0CamZmZGVCMQM3MzMxMDo1AAAAAAIDMjUAzMzMzs4qOQGZmZmbmSI9A\",\"dtype\":\"float64\",\"shape\":[75]}}},\"id\":\"d3abfa07-12b2-4169-9ddb-8e6f680fbf43\",\"type\":\"ColumnDataSource\"},{\"attributes\":{\"line_alpha\":0.1,\"line_color\":\"#1f77b4\",\"line_dash\":[6],\"line_width\":5,\"x\":{\"field\":\"x\"},\"y\":{\"field\":\"y\"}},\"id\":\"3cad1708-ebd9-4a9c-a4bd-2c3e6d57816b\",\"type\":\"Line\"},{\"attributes\":{},\"id\":\"5a5e26a1-fb8f-4b3b-ae39-5457f0f16a1b\",\"type\":\"WheelZoomTool\"},{\"attributes\":{\"data_source\":{\"id\":\"537b906d-e618-4298-b83f-922ba83dc957\",\"type\":\"ColumnDataSource\"},\"glyph\":{\"id\":\"245091af-72c5-44fc-aa1c-4648ef443035\",\"type\":\"Square\"},\"hover_glyph\":null,\"muted_glyph\":null,\"nonselection_glyph\":{\"id\":\"c7ace0e7-f23f-4c90-b091-455121131170\",\"type\":\"Square\"},\"selection_glyph\":null,\"view\":{\"id\":\"9e573746-1892-4642-af44-106c039dd934\",\"type\":\"CDSView\"}},\"id\":\"e425fff3-6ab8-430f-8264-d119a3c3b0f9\",\"type\":\"GlyphRenderer\"},{\"attributes\":{\"source\":{\"id\":\"d3abfa07-12b2-4169-9ddb-8e6f680fbf43\",\"type\":\"ColumnDataSource\"}},\"id\":\"55d994ef-edf4-42de-8bd8-35bb878a1304\",\"type\":\"CDSView\"},{\"attributes\":{\"data_source\":{\"id\":\"d3abfa07-12b2-4169-9ddb-8e6f680fbf43\",\"type\":\"ColumnDataSource\"},\"glyph\":{\"id\":\"e3e9a46f-5fb5-4f22-a409-0732d497490f\",\"type\":\"Line\"},\"hover_glyph\":null,\"muted_glyph\":null,\"nonselection_glyph\":{\"id\":\"0c8af28c-32ce-4e34-b54c-9a9a61c2c691\",\"type\":\"Line\"},\"selection_glyph\":null,\"view\":{\"id\":\"55d994ef-edf4-42de-8bd8-35bb878a1304\",\"type\":\"CDSView\"}},\"id\":\"b54b43ef-205d-409e-b1d1-fcbb94204bbf\",\"type\":\"GlyphRenderer\"},{\"attributes\":{\"callback\":null,\"end\":0.12907651282224,\"start\":0.0013028649537599982},\"id\":\"a73c392b-1636-4be2-a70e-e82254e8d0be\",\"type\":\"Range1d\"},{\"attributes\":{\"source\":{\"id\":\"537b906d-e618-4298-b83f-922ba83dc957\",\"type\":\"ColumnDataSource\"}},\"id\":\"9e573746-1892-4642-af44-106c039dd934\",\"type\":\"CDSView\"},{\"attributes\":{\"line_alpha\":0.1,\"line_color\":\"#1f77b4\",\"line_width\":3,\"x\":{\"field\":\"x\"},\"y\":{\"field\":\"y\"}},\"id\":\"0c8af28c-32ce-4e34-b54c-9a9a61c2c691\",\"type\":\"Line\"}],\"root_ids\":[\"d6400d99-7774-48a8-ad34-43a288a05fa7\"]},\"title\":\"Bokeh Application\",\"version\":\"0.12.14\"}};\n",
       "  var render_items = [{\"docid\":\"76a174e5-794f-47f4-acd5-f39b1a8d1247\",\"elementid\":\"89b187ec-505a-40f3-8eb9-a6bda23783b4\",\"modelid\":\"d6400d99-7774-48a8-ad34-43a288a05fa7\"}];\n",
       "  root.Bokeh.embed.embed_items_notebook(docs_json, render_items);\n",
       "\n",
       "  }\n",
       "  if (root.Bokeh !== undefined) {\n",
       "    embed_document(root);\n",
       "  } else {\n",
       "    var attempts = 0;\n",
       "    var timer = setInterval(function(root) {\n",
       "      if (root.Bokeh !== undefined) {\n",
       "        embed_document(root);\n",
       "        clearInterval(timer);\n",
       "      }\n",
       "      attempts++;\n",
       "      if (attempts > 100) {\n",
       "        console.log(\"Bokeh: ERROR: Unable to run BokehJS code because BokehJS library is missing\")\n",
       "        clearInterval(timer);\n",
       "      }\n",
       "    }, 10, root)\n",
       "  }\n",
       "})(window);"
      ],
      "application/vnd.bokehjs_exec.v0+json": ""
     },
     "metadata": {
      "application/vnd.bokehjs_exec.v0+json": {
       "id": "d6400d99-7774-48a8-ad34-43a288a05fa7"
      }
     },
     "output_type": "display_data"
    },
    {
     "name": "stdout",
     "output_type": "stream",
     "text": [
      "FIGURE. Cooling rate profiles.\n"
     ]
    },
    {
     "data": {
      "text/html": [
       "<a id=\"Flux_Comparison\"></a>"
      ],
      "text/plain": [
       "<IPython.core.display.HTML object>"
      ]
     },
     "metadata": {},
     "output_type": "display_data"
    },
    {
     "data": {
      "text/markdown": [
       "# Flux Comparison"
      ],
      "text/plain": [
       "<IPython.core.display.Markdown object>"
      ]
     },
     "metadata": {},
     "output_type": "display_data"
    },
    {
     "data": {
      "text/html": [
       "<div>\n",
       "<style>\n",
       "    .dataframe thead tr:only-child th {\n",
       "        text-align: right;\n",
       "    }\n",
       "\n",
       "    .dataframe thead th {\n",
       "        text-align: left;\n",
       "    }\n",
       "\n",
       "    .dataframe tbody tr th {\n",
       "        vertical-align: top;\n",
       "    }\n",
       "</style>\n",
       "<table border=\"1\" class=\"dataframe\">\n",
       "  <thead>\n",
       "    <tr style=\"text-align: right;\">\n",
       "      <th></th>\n",
       "      <th></th>\n",
       "      <th>flug</th>\n",
       "      <th>fldg</th>\n",
       "      <th>fnetg</th>\n",
       "    </tr>\n",
       "    <tr>\n",
       "      <th>pressure</th>\n",
       "      <th>level</th>\n",
       "      <th></th>\n",
       "      <th></th>\n",
       "      <th></th>\n",
       "    </tr>\n",
       "  </thead>\n",
       "  <tbody>\n",
       "    <tr>\n",
       "      <th>0.0000</th>\n",
       "      <th>1</th>\n",
       "      <td>-20.785670</td>\n",
       "      <td>0.000000</td>\n",
       "      <td>-20.785670</td>\n",
       "    </tr>\n",
       "    <tr>\n",
       "      <th>1.0685</th>\n",
       "      <th>24</th>\n",
       "      <td>-20.773412</td>\n",
       "      <td>0.051495</td>\n",
       "      <td>-20.721917</td>\n",
       "    </tr>\n",
       "    <tr>\n",
       "      <th>1013.0000</th>\n",
       "      <th>76</th>\n",
       "      <td>-23.591138</td>\n",
       "      <td>10.016948</td>\n",
       "      <td>-13.574190</td>\n",
       "    </tr>\n",
       "  </tbody>\n",
       "</table>\n",
       "</div>"
      ],
      "text/plain": [
       "                      flug       fldg      fnetg\n",
       "pressure  level                                 \n",
       "0.0000    1     -20.785670   0.000000 -20.785670\n",
       "1.0685    24    -20.773412   0.051495 -20.721917\n",
       "1013.0000 76    -23.591138  10.016948 -13.574190"
      ]
     },
     "metadata": {},
     "output_type": "display_data"
    },
    {
     "name": "stdout",
     "output_type": "stream",
     "text": [
      "Table. Fluxes. WGT igg=10 wgt_flux=1\n"
     ]
    },
    {
     "data": {
      "text/html": [
       "<div>\n",
       "<style>\n",
       "    .dataframe thead tr:only-child th {\n",
       "        text-align: right;\n",
       "    }\n",
       "\n",
       "    .dataframe thead th {\n",
       "        text-align: left;\n",
       "    }\n",
       "\n",
       "    .dataframe tbody tr th {\n",
       "        vertical-align: top;\n",
       "    }\n",
       "</style>\n",
       "<table border=\"1\" class=\"dataframe\">\n",
       "  <thead>\n",
       "    <tr style=\"text-align: right;\">\n",
       "      <th></th>\n",
       "      <th></th>\n",
       "      <th>flug</th>\n",
       "      <th>fldg</th>\n",
       "      <th>fnetg</th>\n",
       "    </tr>\n",
       "    <tr>\n",
       "      <th>pressure</th>\n",
       "      <th>level</th>\n",
       "      <th></th>\n",
       "      <th></th>\n",
       "      <th></th>\n",
       "    </tr>\n",
       "  </thead>\n",
       "  <tbody>\n",
       "    <tr>\n",
       "      <th>0.0000</th>\n",
       "      <th>1</th>\n",
       "      <td>-20.836798</td>\n",
       "      <td>0.000000</td>\n",
       "      <td>-20.836798</td>\n",
       "    </tr>\n",
       "    <tr>\n",
       "      <th>1.0685</th>\n",
       "      <th>24</th>\n",
       "      <td>-20.824109</td>\n",
       "      <td>0.055119</td>\n",
       "      <td>-20.768990</td>\n",
       "    </tr>\n",
       "    <tr>\n",
       "      <th>1013.0000</th>\n",
       "      <th>76</th>\n",
       "      <td>-23.591138</td>\n",
       "      <td>9.775480</td>\n",
       "      <td>-13.815657</td>\n",
       "    </tr>\n",
       "  </tbody>\n",
       "</table>\n",
       "</div>"
      ],
      "text/plain": [
       "                      flug      fldg      fnetg\n",
       "pressure  level                                \n",
       "0.0000    1     -20.836798  0.000000 -20.836798\n",
       "1.0685    24    -20.824109  0.055119 -20.768990\n",
       "1013.0000 76    -23.591138  9.775480 -13.815657"
      ]
     },
     "metadata": {},
     "output_type": "display_data"
    },
    {
     "name": "stdout",
     "output_type": "stream",
     "text": [
      "Table. Fluxes. CRD\n"
     ]
    },
    {
     "data": {
      "text/html": [
       "<div>\n",
       "<style>\n",
       "    .dataframe thead tr:only-child th {\n",
       "        text-align: right;\n",
       "    }\n",
       "\n",
       "    .dataframe thead th {\n",
       "        text-align: left;\n",
       "    }\n",
       "\n",
       "    .dataframe tbody tr th {\n",
       "        vertical-align: top;\n",
       "    }\n",
       "</style>\n",
       "<table border=\"1\" class=\"dataframe\">\n",
       "  <thead>\n",
       "    <tr style=\"text-align: right;\">\n",
       "      <th></th>\n",
       "      <th></th>\n",
       "      <th>flug</th>\n",
       "      <th>fldg</th>\n",
       "      <th>fnetg</th>\n",
       "    </tr>\n",
       "    <tr>\n",
       "      <th>pressure</th>\n",
       "      <th>level</th>\n",
       "      <th></th>\n",
       "      <th></th>\n",
       "      <th></th>\n",
       "    </tr>\n",
       "  </thead>\n",
       "  <tbody>\n",
       "    <tr>\n",
       "      <th>1.000000e-08</th>\n",
       "      <th>1</th>\n",
       "      <td>-20.641401</td>\n",
       "      <td>9.536743e-07</td>\n",
       "      <td>-20.641399</td>\n",
       "    </tr>\n",
       "    <tr>\n",
       "      <th>1.068500e+00</th>\n",
       "      <th>24</th>\n",
       "      <td>-20.622906</td>\n",
       "      <td>7.149017e-02</td>\n",
       "      <td>-20.551416</td>\n",
       "    </tr>\n",
       "    <tr>\n",
       "      <th>1.013000e+03</th>\n",
       "      <th>76</th>\n",
       "      <td>-23.591141</td>\n",
       "      <td>1.241730e+01</td>\n",
       "      <td>-11.173838</td>\n",
       "    </tr>\n",
       "  </tbody>\n",
       "</table>\n",
       "</div>"
      ],
      "text/plain": [
       "                         flug          fldg      fnetg\n",
       "pressure     level                                    \n",
       "1.000000e-08 1     -20.641401  9.536743e-07 -20.641399\n",
       "1.068500e+00 24    -20.622906  7.149017e-02 -20.551416\n",
       "1.013000e+03 76    -23.591141  1.241730e+01 -11.173838"
      ]
     },
     "metadata": {},
     "output_type": "display_data"
    },
    {
     "name": "stdout",
     "output_type": "stream",
     "text": [
      "Table. Fluxes. CLIRAD\n"
     ]
    },
    {
     "data": {
      "text/html": [
       "<div>\n",
       "<style>\n",
       "    .dataframe thead tr:only-child th {\n",
       "        text-align: right;\n",
       "    }\n",
       "\n",
       "    .dataframe thead th {\n",
       "        text-align: left;\n",
       "    }\n",
       "\n",
       "    .dataframe tbody tr th {\n",
       "        vertical-align: top;\n",
       "    }\n",
       "</style>\n",
       "<table border=\"1\" class=\"dataframe\">\n",
       "  <thead>\n",
       "    <tr style=\"text-align: right;\">\n",
       "      <th></th>\n",
       "      <th></th>\n",
       "      <th>flug</th>\n",
       "      <th>fldg</th>\n",
       "      <th>fnetg</th>\n",
       "    </tr>\n",
       "    <tr>\n",
       "      <th>pressure</th>\n",
       "      <th>level</th>\n",
       "      <th></th>\n",
       "      <th></th>\n",
       "      <th></th>\n",
       "    </tr>\n",
       "  </thead>\n",
       "  <tbody>\n",
       "    <tr>\n",
       "      <th>0.0000</th>\n",
       "      <th>1</th>\n",
       "      <td>-5.112800e-02</td>\n",
       "      <td>0.000000</td>\n",
       "      <td>-0.051128</td>\n",
       "    </tr>\n",
       "    <tr>\n",
       "      <th>1.0685</th>\n",
       "      <th>24</th>\n",
       "      <td>-5.069663e-02</td>\n",
       "      <td>0.003624</td>\n",
       "      <td>-0.047073</td>\n",
       "    </tr>\n",
       "    <tr>\n",
       "      <th>1013.0000</th>\n",
       "      <th>76</th>\n",
       "      <td>-4.050000e-07</td>\n",
       "      <td>-0.241468</td>\n",
       "      <td>-0.241467</td>\n",
       "    </tr>\n",
       "  </tbody>\n",
       "</table>\n",
       "</div>"
      ],
      "text/plain": [
       "                         flug      fldg     fnetg\n",
       "pressure  level                                  \n",
       "0.0000    1     -5.112800e-02  0.000000 -0.051128\n",
       "1.0685    24    -5.069663e-02  0.003624 -0.047073\n",
       "1013.0000 76    -4.050000e-07 -0.241468 -0.241467"
      ]
     },
     "metadata": {},
     "output_type": "display_data"
    },
    {
     "name": "stdout",
     "output_type": "stream",
     "text": [
      "Table. Fluxes. (CRD) - (WGT igg=10 wgt_flux=1)\n"
     ]
    },
    {
     "data": {
      "text/html": [
       "<div>\n",
       "<style>\n",
       "    .dataframe thead tr:only-child th {\n",
       "        text-align: right;\n",
       "    }\n",
       "\n",
       "    .dataframe thead th {\n",
       "        text-align: left;\n",
       "    }\n",
       "\n",
       "    .dataframe tbody tr th {\n",
       "        vertical-align: top;\n",
       "    }\n",
       "</style>\n",
       "<table border=\"1\" class=\"dataframe\">\n",
       "  <thead>\n",
       "    <tr style=\"text-align: right;\">\n",
       "      <th></th>\n",
       "      <th></th>\n",
       "      <th>flug</th>\n",
       "      <th>fldg</th>\n",
       "      <th>fnetg</th>\n",
       "    </tr>\n",
       "    <tr>\n",
       "      <th>pressure</th>\n",
       "      <th>level</th>\n",
       "      <th></th>\n",
       "      <th></th>\n",
       "      <th></th>\n",
       "    </tr>\n",
       "  </thead>\n",
       "  <tbody>\n",
       "    <tr>\n",
       "      <th>0.0000</th>\n",
       "      <th>1</th>\n",
       "      <td>0.144269</td>\n",
       "      <td>9.536743e-07</td>\n",
       "      <td>0.144271</td>\n",
       "    </tr>\n",
       "    <tr>\n",
       "      <th>1.0685</th>\n",
       "      <th>24</th>\n",
       "      <td>0.150506</td>\n",
       "      <td>1.999521e-02</td>\n",
       "      <td>0.170501</td>\n",
       "    </tr>\n",
       "    <tr>\n",
       "      <th>1013.0000</th>\n",
       "      <th>76</th>\n",
       "      <td>-0.000003</td>\n",
       "      <td>2.400355e+00</td>\n",
       "      <td>2.400352</td>\n",
       "    </tr>\n",
       "  </tbody>\n",
       "</table>\n",
       "</div>"
      ],
      "text/plain": [
       "                     flug          fldg     fnetg\n",
       "pressure  level                                  \n",
       "0.0000    1      0.144269  9.536743e-07  0.144271\n",
       "1.0685    24     0.150506  1.999521e-02  0.170501\n",
       "1013.0000 76    -0.000003  2.400355e+00  2.400352"
      ]
     },
     "metadata": {},
     "output_type": "display_data"
    },
    {
     "name": "stdout",
     "output_type": "stream",
     "text": [
      "Table. Fluxes. (CLIRAD) - (WGT igg=10 wgt_flux=1)\n"
     ]
    },
    {
     "data": {
      "text/html": [
       "<a id=\"Best-fit_Parameters\"></a>"
      ],
      "text/plain": [
       "<IPython.core.display.HTML object>"
      ]
     },
     "metadata": {},
     "output_type": "display_data"
    },
    {
     "data": {
      "text/markdown": [
       "# Best-fit Parameters"
      ],
      "text/plain": [
       "<IPython.core.display.Markdown object>"
      ]
     },
     "metadata": {},
     "output_type": "display_data"
    },
    {
     "name": "stdout",
     "output_type": "stream",
     "text": [
      "Best-fit values for each (gas, band)\n",
      "------------------------------------\n",
      "o co2 band3a\n",
      "  atmpro = mls\n",
      "  band = 3a\n",
      "  commitnumber = 2bd1f75\n",
      "  conc = 0.0004\n",
      "  dv = 0.01\n",
      "  klin = 6.375563e-24\n",
      "  molecule = co2\n",
      "  ng_adju = [0, 0, 0]\n",
      "  ng_refs = [3, 2, 4]\n",
      "  nv = 100\n",
      "  option_compute_btable = 0\n",
      "  option_compute_ktable = 1\n",
      "  option_wgt_flux = 1\n",
      "  option_wgt_k = 1\n",
      "  ref_pts = [(1, 250), (10, 250), (500, 250)]\n",
      "  tsfc = 294\n",
      "  vmax = 620\n",
      "  vmin = 540\n",
      "  w_diffuse = [(1.6, 1.6, 1.7), (1.75, 1.75), (1.55, 1.55, 1.6, 1.85)]\n",
      "  wgt = [(0.7, 0.3, 0.7), (0.7, 0.6), (0.4, 0.5, 0.8, 0.95)]\n"
     ]
    }
   ],
   "source": [
    "script()"
   ]
  },
  {
   "cell_type": "code",
   "execution_count": 13,
   "metadata": {
    "collapsed": true
   },
   "outputs": [
    {
     "data": {
      "text/html": [
       "<script>\n",
       "code_show=true; \n",
       "function code_toggle() {\n",
       " if (code_show){\n",
       " $('div.input').hide();\n",
       " } else {\n",
       " $('div.input').show();\n",
       " }\n",
       " code_show = !code_show\n",
       "} \n",
       "$( document ).ready(code_toggle);\n",
       "</script>\n",
       "<form action=\"javascript:code_toggle()\"><input type=\"submit\" value=\"Click here to toggle on/off the raw code.\"></form>"
      ],
      "text/plain": [
       "<IPython.core.display.HTML object>"
      ]
     },
     "execution_count": 13,
     "metadata": {},
     "output_type": "execute_result"
    }
   ],
   "source": [
    "display.HTML('''<script>\n",
    "code_show=true; \n",
    "function code_toggle() {\n",
    " if (code_show){\n",
    " $('div.input').hide();\n",
    " } else {\n",
    " $('div.input').show();\n",
    " }\n",
    " code_show = !code_show\n",
    "} \n",
    "$( document ).ready(code_toggle);\n",
    "</script>\n",
    "<form action=\"javascript:code_toggle()\"><input type=\"submit\" value=\"Click here to toggle on/off the raw code.\"></form>''')"
   ]
  }
 ],
 "metadata": {
  "kernelspec": {
   "display_name": "Python 3",
   "language": "python",
   "name": "python3"
  },
  "language_info": {
   "codemirror_mode": {
    "name": "ipython",
    "version": 3
   },
   "file_extension": ".py",
   "mimetype": "text/x-python",
   "name": "python",
   "nbconvert_exporter": "python",
   "pygments_lexer": "ipython3",
   "version": "3.6.1"
  }
 },
 "nbformat": 4,
 "nbformat_minor": 2
}
