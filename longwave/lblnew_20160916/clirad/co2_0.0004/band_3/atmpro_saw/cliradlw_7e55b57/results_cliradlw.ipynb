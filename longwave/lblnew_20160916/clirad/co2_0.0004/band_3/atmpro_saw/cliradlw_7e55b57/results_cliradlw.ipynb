{
 "cells": [
  {
   "cell_type": "code",
   "execution_count": 1,
   "metadata": {
    "collapsed": true
   },
   "outputs": [],
   "source": [
    "%matplotlib inline\n",
    "import os\n",
    "import re\n",
    "import io\n",
    "import itertools\n",
    "import pprint\n",
    "\n",
    "from bokeh.io import output_notebook, show\n",
    "from bokeh.layouts import gridplot\n",
    "from bokeh.plotting import figure\n",
    "from bokeh.models import Range1d, Legend\n",
    "from bokeh.palettes import all_palettes\n",
    "\n",
    "import matplotlib\n",
    "import matplotlib.pyplot as plt\n",
    "import numpy as np\n",
    "import pandas as pd\n",
    "import xarray as xr\n",
    "\n",
    "import climatools.lblnew.bestfit_params as bestfits\n",
    "from climatools.lblnew import setup_bestfit, setup_overlap\n",
    "import climatools.lblnew.pipeline as pipe_lblnew\n",
    "import climatools.cliradlw.setup as setup_cliradlw\n",
    "import climatools.cliradlw.pipeline as pipe_cliradlw\n",
    "\n",
    "import climatools.html.html as climahtml\n",
    "from climatools.lblnew.dataio import *\n",
    "from climatools.plot.plot import *\n",
    "\n",
    "\n",
    "import IPython.display as display"
   ]
  },
  {
   "cell_type": "code",
   "execution_count": 2,
   "metadata": {
    "collapsed": true
   },
   "outputs": [],
   "source": [
    "%run param.py"
   ]
  },
  {
   "cell_type": "code",
   "execution_count": 3,
   "metadata": {
    "collapsed": true
   },
   "outputs": [],
   "source": [
    "def load_output_file(path_csv):\n",
    "    '''\n",
    "    Load lblnew output .csv file to xarray.Dataset\n",
    "    \n",
    "    Parameters\n",
    "    ----------\n",
    "    path_csv: str\n",
    "              Path to the .csv file to be loaded.\n",
    "    ds: xarray.Dataset\n",
    "        Data in the input file in the form of an xarray.Dataset.\n",
    "    '''\n",
    "    toindex = ['band', 'pressure', 'igg', 'g']    \n",
    "    df = pd.read_csv(path_csv, sep=r'\\s+')\n",
    "    df = df.set_index([i for i in toindex if i in df.columns])\n",
    "    df = df.rename(columns={'sfu': 'flug',\n",
    "                            'sfd': 'fldg',\n",
    "                            'fnet': 'fnetg',\n",
    "                            'coolr': 'coolrg'})\n",
    "    ds = xr.Dataset.from_dataframe(df)\n",
    "\n",
    "    for l in ('level', 'layer'):\n",
    "        if l in ds.data_vars:\n",
    "            if len(ds[l].dims) > 1:\n",
    "                surface = {d: 0 for d in ds.dims if d != 'pressure'}\n",
    "                coord_level = ds[l][surface]\n",
    "                ds.coords[l] = ('pressure', coord_level)\n",
    "            else:\n",
    "                ds.coords[l] = ('pressure', ds[l])\n",
    "    \n",
    "    return ds"
   ]
  },
  {
   "cell_type": "code",
   "execution_count": 4,
   "metadata": {
    "collapsed": true
   },
   "outputs": [],
   "source": [
    "def lblnew_setup(param=None):\n",
    "    if 'ng_refs' in param:\n",
    "        return {'setup': setup_bestfit,\n",
    "                'fname_flux_crd': 'output_flux.dat',\n",
    "                'fname_cool_crd': 'output_coolr.dat',\n",
    "                'fname_flux_wgt': 'output_wfluxg.dat',\n",
    "                'fname_cool_wgt': 'output_wcoolrg.dat'}\n",
    "    else:\n",
    "        return {'setup': setup_overlap,\n",
    "                'fname_flux_crd': 'output_flux.dat',\n",
    "                'fname_cool_crd': 'output_coolr.dat',\n",
    "                'fname_flux_wgt': 'output_wflux.dat',\n",
    "                'fname_cool_wgt': 'output_wcoolr.dat'}\n",
    "\n",
    "    \n",
    "def load_lblnew_data(param):\n",
    "    \n",
    "    fname_dsname = [('fname_flux_crd', 'ds_flux_crd'),\n",
    "                    ('fname_cool_crd', 'ds_cool_crd'),\n",
    "                    ('fname_flux_wgt', 'ds_flux_wgt'),\n",
    "                    ('fname_cool_wgt', 'ds_cool_wgt')]\n",
    "    \n",
    "    d = lblnew_setup(param)\n",
    "    dir_fortran = pipe_lblnew.get_dir_case(param, setup=d['setup'])\n",
    "    \n",
    "    data_dict = {}\n",
    "    for fname, dsname in fname_dsname:\n",
    "        fpath = os.path.join(dir_fortran, d[fname])\n",
    "        data_dict[dsname] = load_output_file(fpath)\n",
    "    return data_dict\n",
    "    \n",
    "\n",
    "    \n",
    "    "
   ]
  },
  {
   "cell_type": "code",
   "execution_count": 5,
   "metadata": {
    "collapsed": true
   },
   "outputs": [],
   "source": [
    "d = load_lblnew_data(PARAM_LBLNEW)\n",
    "\n",
    "DS_FLUX_CRD = d['ds_flux_crd']\n",
    "DS_COOL_CRD = d['ds_cool_crd']\n",
    "DS_FLUX_WGT = d['ds_flux_wgt']\n",
    "DS_COOL_WGT = d['ds_cool_wgt']"
   ]
  },
  {
   "cell_type": "code",
   "execution_count": 6,
   "metadata": {
    "collapsed": true
   },
   "outputs": [],
   "source": [
    "DIR_FORTRAN = pipe_cliradlw.get_fortran_dir(PARAM, \n",
    "                                            setup=setup_cliradlw)\n",
    "\n",
    "PATH_FLUX = os.path.join(DIR_FORTRAN, 'output_flux.dat')\n",
    "PATH_COOL = os.path.join(DIR_FORTRAN, 'output_coolr.dat')\n",
    "\n",
    "DS_FLUX = load_output_file(PATH_FLUX)\n",
    "DS_COOL = load_output_file(PATH_COOL)"
   ]
  },
  {
   "cell_type": "code",
   "execution_count": 7,
   "metadata": {
    "collapsed": true
   },
   "outputs": [
    {
     "data": {
      "text/html": [
       "\n",
       "    <div class=\"bk-root\">\n",
       "        <a href=\"https://bokeh.pydata.org\" target=\"_blank\" class=\"bk-logo bk-logo-small bk-logo-notebook\"></a>\n",
       "        <span id=\"0adf2627-edeb-4b79-b0eb-0cb5ea81e27d\">Loading BokehJS ...</span>\n",
       "    </div>"
      ]
     },
     "metadata": {},
     "output_type": "display_data"
    },
    {
     "data": {
      "application/javascript": [
       "\n",
       "(function(root) {\n",
       "  function now() {\n",
       "    return new Date();\n",
       "  }\n",
       "\n",
       "  var force = true;\n",
       "\n",
       "  if (typeof (root._bokeh_onload_callbacks) === \"undefined\" || force === true) {\n",
       "    root._bokeh_onload_callbacks = [];\n",
       "    root._bokeh_is_loading = undefined;\n",
       "  }\n",
       "\n",
       "  var JS_MIME_TYPE = 'application/javascript';\n",
       "  var HTML_MIME_TYPE = 'text/html';\n",
       "  var EXEC_MIME_TYPE = 'application/vnd.bokehjs_exec.v0+json';\n",
       "  var CLASS_NAME = 'output_bokeh rendered_html';\n",
       "\n",
       "  /**\n",
       "   * Render data to the DOM node\n",
       "   */\n",
       "  function render(props, node) {\n",
       "    var script = document.createElement(\"script\");\n",
       "    node.appendChild(script);\n",
       "  }\n",
       "\n",
       "  /**\n",
       "   * Handle when an output is cleared or removed\n",
       "   */\n",
       "  function handleClearOutput(event, handle) {\n",
       "    var cell = handle.cell;\n",
       "\n",
       "    var id = cell.output_area._bokeh_element_id;\n",
       "    var server_id = cell.output_area._bokeh_server_id;\n",
       "    // Clean up Bokeh references\n",
       "    if (id !== undefined) {\n",
       "      Bokeh.index[id].model.document.clear();\n",
       "      delete Bokeh.index[id];\n",
       "    }\n",
       "\n",
       "    if (server_id !== undefined) {\n",
       "      // Clean up Bokeh references\n",
       "      var cmd = \"from bokeh.io.state import curstate; print(curstate().uuid_to_server['\" + server_id + \"'].get_sessions()[0].document.roots[0]._id)\";\n",
       "      cell.notebook.kernel.execute(cmd, {\n",
       "        iopub: {\n",
       "          output: function(msg) {\n",
       "            var element_id = msg.content.text.trim();\n",
       "            Bokeh.index[element_id].model.document.clear();\n",
       "            delete Bokeh.index[element_id];\n",
       "          }\n",
       "        }\n",
       "      });\n",
       "      // Destroy server and session\n",
       "      var cmd = \"import bokeh.io.notebook as ion; ion.destroy_server('\" + server_id + \"')\";\n",
       "      cell.notebook.kernel.execute(cmd);\n",
       "    }\n",
       "  }\n",
       "\n",
       "  /**\n",
       "   * Handle when a new output is added\n",
       "   */\n",
       "  function handleAddOutput(event, handle) {\n",
       "    var output_area = handle.output_area;\n",
       "    var output = handle.output;\n",
       "\n",
       "    // limit handleAddOutput to display_data with EXEC_MIME_TYPE content only\n",
       "    if ((output.output_type != \"display_data\") || (!output.data.hasOwnProperty(EXEC_MIME_TYPE))) {\n",
       "      return\n",
       "    }\n",
       "\n",
       "    var toinsert = output_area.element.find(\".\" + CLASS_NAME.split(' ')[0]);\n",
       "\n",
       "    if (output.metadata[EXEC_MIME_TYPE][\"id\"] !== undefined) {\n",
       "      toinsert[0].firstChild.textContent = output.data[JS_MIME_TYPE];\n",
       "      // store reference to embed id on output_area\n",
       "      output_area._bokeh_element_id = output.metadata[EXEC_MIME_TYPE][\"id\"];\n",
       "    }\n",
       "    if (output.metadata[EXEC_MIME_TYPE][\"server_id\"] !== undefined) {\n",
       "      var bk_div = document.createElement(\"div\");\n",
       "      bk_div.innerHTML = output.data[HTML_MIME_TYPE];\n",
       "      var script_attrs = bk_div.children[0].attributes;\n",
       "      for (var i = 0; i < script_attrs.length; i++) {\n",
       "        toinsert[0].firstChild.setAttribute(script_attrs[i].name, script_attrs[i].value);\n",
       "      }\n",
       "      // store reference to server id on output_area\n",
       "      output_area._bokeh_server_id = output.metadata[EXEC_MIME_TYPE][\"server_id\"];\n",
       "    }\n",
       "  }\n",
       "\n",
       "  function register_renderer(events, OutputArea) {\n",
       "\n",
       "    function append_mime(data, metadata, element) {\n",
       "      // create a DOM node to render to\n",
       "      var toinsert = this.create_output_subarea(\n",
       "        metadata,\n",
       "        CLASS_NAME,\n",
       "        EXEC_MIME_TYPE\n",
       "      );\n",
       "      this.keyboard_manager.register_events(toinsert);\n",
       "      // Render to node\n",
       "      var props = {data: data, metadata: metadata[EXEC_MIME_TYPE]};\n",
       "      render(props, toinsert[0]);\n",
       "      element.append(toinsert);\n",
       "      return toinsert\n",
       "    }\n",
       "\n",
       "    /* Handle when an output is cleared or removed */\n",
       "    events.on('clear_output.CodeCell', handleClearOutput);\n",
       "    events.on('delete.Cell', handleClearOutput);\n",
       "\n",
       "    /* Handle when a new output is added */\n",
       "    events.on('output_added.OutputArea', handleAddOutput);\n",
       "\n",
       "    /**\n",
       "     * Register the mime type and append_mime function with output_area\n",
       "     */\n",
       "    OutputArea.prototype.register_mime_type(EXEC_MIME_TYPE, append_mime, {\n",
       "      /* Is output safe? */\n",
       "      safe: true,\n",
       "      /* Index of renderer in `output_area.display_order` */\n",
       "      index: 0\n",
       "    });\n",
       "  }\n",
       "\n",
       "  // register the mime type if in Jupyter Notebook environment and previously unregistered\n",
       "  if (root.Jupyter !== undefined) {\n",
       "    var events = require('base/js/events');\n",
       "    var OutputArea = require('notebook/js/outputarea').OutputArea;\n",
       "\n",
       "    if (OutputArea.prototype.mime_types().indexOf(EXEC_MIME_TYPE) == -1) {\n",
       "      register_renderer(events, OutputArea);\n",
       "    }\n",
       "  }\n",
       "\n",
       "  \n",
       "  if (typeof (root._bokeh_timeout) === \"undefined\" || force === true) {\n",
       "    root._bokeh_timeout = Date.now() + 5000;\n",
       "    root._bokeh_failed_load = false;\n",
       "  }\n",
       "\n",
       "  var NB_LOAD_WARNING = {'data': {'text/html':\n",
       "     \"<div style='background-color: #fdd'>\\n\"+\n",
       "     \"<p>\\n\"+\n",
       "     \"BokehJS does not appear to have successfully loaded. If loading BokehJS from CDN, this \\n\"+\n",
       "     \"may be due to a slow or bad network connection. Possible fixes:\\n\"+\n",
       "     \"</p>\\n\"+\n",
       "     \"<ul>\\n\"+\n",
       "     \"<li>re-rerun `output_notebook()` to attempt to load from CDN again, or</li>\\n\"+\n",
       "     \"<li>use INLINE resources instead, as so:</li>\\n\"+\n",
       "     \"</ul>\\n\"+\n",
       "     \"<code>\\n\"+\n",
       "     \"from bokeh.resources import INLINE\\n\"+\n",
       "     \"output_notebook(resources=INLINE)\\n\"+\n",
       "     \"</code>\\n\"+\n",
       "     \"</div>\"}};\n",
       "\n",
       "  function display_loaded() {\n",
       "    var el = document.getElementById(\"0adf2627-edeb-4b79-b0eb-0cb5ea81e27d\");\n",
       "    if (el != null) {\n",
       "      el.textContent = \"BokehJS is loading...\";\n",
       "    }\n",
       "    if (root.Bokeh !== undefined) {\n",
       "      if (el != null) {\n",
       "        el.textContent = \"BokehJS \" + root.Bokeh.version + \" successfully loaded.\";\n",
       "      }\n",
       "    } else if (Date.now() < root._bokeh_timeout) {\n",
       "      setTimeout(display_loaded, 100)\n",
       "    }\n",
       "  }\n",
       "\n",
       "\n",
       "  function run_callbacks() {\n",
       "    try {\n",
       "      root._bokeh_onload_callbacks.forEach(function(callback) { callback() });\n",
       "    }\n",
       "    finally {\n",
       "      delete root._bokeh_onload_callbacks\n",
       "    }\n",
       "    console.info(\"Bokeh: all callbacks have finished\");\n",
       "  }\n",
       "\n",
       "  function load_libs(js_urls, callback) {\n",
       "    root._bokeh_onload_callbacks.push(callback);\n",
       "    if (root._bokeh_is_loading > 0) {\n",
       "      console.log(\"Bokeh: BokehJS is being loaded, scheduling callback at\", now());\n",
       "      return null;\n",
       "    }\n",
       "    if (js_urls == null || js_urls.length === 0) {\n",
       "      run_callbacks();\n",
       "      return null;\n",
       "    }\n",
       "    console.log(\"Bokeh: BokehJS not loaded, scheduling load and callback at\", now());\n",
       "    root._bokeh_is_loading = js_urls.length;\n",
       "    for (var i = 0; i < js_urls.length; i++) {\n",
       "      var url = js_urls[i];\n",
       "      var s = document.createElement('script');\n",
       "      s.src = url;\n",
       "      s.async = false;\n",
       "      s.onreadystatechange = s.onload = function() {\n",
       "        root._bokeh_is_loading--;\n",
       "        if (root._bokeh_is_loading === 0) {\n",
       "          console.log(\"Bokeh: all BokehJS libraries loaded\");\n",
       "          run_callbacks()\n",
       "        }\n",
       "      };\n",
       "      s.onerror = function() {\n",
       "        console.warn(\"failed to load library \" + url);\n",
       "      };\n",
       "      console.log(\"Bokeh: injecting script tag for BokehJS library: \", url);\n",
       "      document.getElementsByTagName(\"head\")[0].appendChild(s);\n",
       "    }\n",
       "  };var element = document.getElementById(\"0adf2627-edeb-4b79-b0eb-0cb5ea81e27d\");\n",
       "  if (element == null) {\n",
       "    console.log(\"Bokeh: ERROR: autoload.js configured with elementid '0adf2627-edeb-4b79-b0eb-0cb5ea81e27d' but no matching script tag was found. \")\n",
       "    return false;\n",
       "  }\n",
       "\n",
       "  var js_urls = [\"https://cdn.pydata.org/bokeh/release/bokeh-0.12.14.min.js\", \"https://cdn.pydata.org/bokeh/release/bokeh-widgets-0.12.14.min.js\", \"https://cdn.pydata.org/bokeh/release/bokeh-tables-0.12.14.min.js\", \"https://cdn.pydata.org/bokeh/release/bokeh-gl-0.12.14.min.js\"];\n",
       "\n",
       "  var inline_js = [\n",
       "    function(Bokeh) {\n",
       "      Bokeh.set_log_level(\"info\");\n",
       "    },\n",
       "    \n",
       "    function(Bokeh) {\n",
       "      \n",
       "    },\n",
       "    function(Bokeh) {\n",
       "      console.log(\"Bokeh: injecting CSS: https://cdn.pydata.org/bokeh/release/bokeh-0.12.14.min.css\");\n",
       "      Bokeh.embed.inject_css(\"https://cdn.pydata.org/bokeh/release/bokeh-0.12.14.min.css\");\n",
       "      console.log(\"Bokeh: injecting CSS: https://cdn.pydata.org/bokeh/release/bokeh-widgets-0.12.14.min.css\");\n",
       "      Bokeh.embed.inject_css(\"https://cdn.pydata.org/bokeh/release/bokeh-widgets-0.12.14.min.css\");\n",
       "      console.log(\"Bokeh: injecting CSS: https://cdn.pydata.org/bokeh/release/bokeh-tables-0.12.14.min.css\");\n",
       "      Bokeh.embed.inject_css(\"https://cdn.pydata.org/bokeh/release/bokeh-tables-0.12.14.min.css\");\n",
       "    }\n",
       "  ];\n",
       "\n",
       "  function run_inline_js() {\n",
       "    \n",
       "    if ((root.Bokeh !== undefined) || (force === true)) {\n",
       "      for (var i = 0; i < inline_js.length; i++) {\n",
       "        inline_js[i].call(root, root.Bokeh);\n",
       "      }if (force === true) {\n",
       "        display_loaded();\n",
       "      }} else if (Date.now() < root._bokeh_timeout) {\n",
       "      setTimeout(run_inline_js, 100);\n",
       "    } else if (!root._bokeh_failed_load) {\n",
       "      console.log(\"Bokeh: BokehJS failed to load within specified timeout.\");\n",
       "      root._bokeh_failed_load = true;\n",
       "    } else if (force !== true) {\n",
       "      var cell = $(document.getElementById(\"0adf2627-edeb-4b79-b0eb-0cb5ea81e27d\")).parents('.cell').data().cell;\n",
       "      cell.output_area.append_execute_result(NB_LOAD_WARNING)\n",
       "    }\n",
       "\n",
       "  }\n",
       "\n",
       "  if (root._bokeh_is_loading === 0) {\n",
       "    console.log(\"Bokeh: BokehJS loaded, going straight to plotting\");\n",
       "    run_inline_js();\n",
       "  } else {\n",
       "    load_libs(js_urls, function() {\n",
       "      console.log(\"Bokeh: BokehJS plotting callback run at\", now());\n",
       "      run_inline_js();\n",
       "    });\n",
       "  }\n",
       "}(window));"
      ],
      "application/vnd.bokehjs_load.v0+json": "\n(function(root) {\n  function now() {\n    return new Date();\n  }\n\n  var force = true;\n\n  if (typeof (root._bokeh_onload_callbacks) === \"undefined\" || force === true) {\n    root._bokeh_onload_callbacks = [];\n    root._bokeh_is_loading = undefined;\n  }\n\n  \n\n  \n  if (typeof (root._bokeh_timeout) === \"undefined\" || force === true) {\n    root._bokeh_timeout = Date.now() + 5000;\n    root._bokeh_failed_load = false;\n  }\n\n  var NB_LOAD_WARNING = {'data': {'text/html':\n     \"<div style='background-color: #fdd'>\\n\"+\n     \"<p>\\n\"+\n     \"BokehJS does not appear to have successfully loaded. If loading BokehJS from CDN, this \\n\"+\n     \"may be due to a slow or bad network connection. Possible fixes:\\n\"+\n     \"</p>\\n\"+\n     \"<ul>\\n\"+\n     \"<li>re-rerun `output_notebook()` to attempt to load from CDN again, or</li>\\n\"+\n     \"<li>use INLINE resources instead, as so:</li>\\n\"+\n     \"</ul>\\n\"+\n     \"<code>\\n\"+\n     \"from bokeh.resources import INLINE\\n\"+\n     \"output_notebook(resources=INLINE)\\n\"+\n     \"</code>\\n\"+\n     \"</div>\"}};\n\n  function display_loaded() {\n    var el = document.getElementById(\"0adf2627-edeb-4b79-b0eb-0cb5ea81e27d\");\n    if (el != null) {\n      el.textContent = \"BokehJS is loading...\";\n    }\n    if (root.Bokeh !== undefined) {\n      if (el != null) {\n        el.textContent = \"BokehJS \" + root.Bokeh.version + \" successfully loaded.\";\n      }\n    } else if (Date.now() < root._bokeh_timeout) {\n      setTimeout(display_loaded, 100)\n    }\n  }\n\n\n  function run_callbacks() {\n    try {\n      root._bokeh_onload_callbacks.forEach(function(callback) { callback() });\n    }\n    finally {\n      delete root._bokeh_onload_callbacks\n    }\n    console.info(\"Bokeh: all callbacks have finished\");\n  }\n\n  function load_libs(js_urls, callback) {\n    root._bokeh_onload_callbacks.push(callback);\n    if (root._bokeh_is_loading > 0) {\n      console.log(\"Bokeh: BokehJS is being loaded, scheduling callback at\", now());\n      return null;\n    }\n    if (js_urls == null || js_urls.length === 0) {\n      run_callbacks();\n      return null;\n    }\n    console.log(\"Bokeh: BokehJS not loaded, scheduling load and callback at\", now());\n    root._bokeh_is_loading = js_urls.length;\n    for (var i = 0; i < js_urls.length; i++) {\n      var url = js_urls[i];\n      var s = document.createElement('script');\n      s.src = url;\n      s.async = false;\n      s.onreadystatechange = s.onload = function() {\n        root._bokeh_is_loading--;\n        if (root._bokeh_is_loading === 0) {\n          console.log(\"Bokeh: all BokehJS libraries loaded\");\n          run_callbacks()\n        }\n      };\n      s.onerror = function() {\n        console.warn(\"failed to load library \" + url);\n      };\n      console.log(\"Bokeh: injecting script tag for BokehJS library: \", url);\n      document.getElementsByTagName(\"head\")[0].appendChild(s);\n    }\n  };var element = document.getElementById(\"0adf2627-edeb-4b79-b0eb-0cb5ea81e27d\");\n  if (element == null) {\n    console.log(\"Bokeh: ERROR: autoload.js configured with elementid '0adf2627-edeb-4b79-b0eb-0cb5ea81e27d' but no matching script tag was found. \")\n    return false;\n  }\n\n  var js_urls = [\"https://cdn.pydata.org/bokeh/release/bokeh-0.12.14.min.js\", \"https://cdn.pydata.org/bokeh/release/bokeh-widgets-0.12.14.min.js\", \"https://cdn.pydata.org/bokeh/release/bokeh-tables-0.12.14.min.js\", \"https://cdn.pydata.org/bokeh/release/bokeh-gl-0.12.14.min.js\"];\n\n  var inline_js = [\n    function(Bokeh) {\n      Bokeh.set_log_level(\"info\");\n    },\n    \n    function(Bokeh) {\n      \n    },\n    function(Bokeh) {\n      console.log(\"Bokeh: injecting CSS: https://cdn.pydata.org/bokeh/release/bokeh-0.12.14.min.css\");\n      Bokeh.embed.inject_css(\"https://cdn.pydata.org/bokeh/release/bokeh-0.12.14.min.css\");\n      console.log(\"Bokeh: injecting CSS: https://cdn.pydata.org/bokeh/release/bokeh-widgets-0.12.14.min.css\");\n      Bokeh.embed.inject_css(\"https://cdn.pydata.org/bokeh/release/bokeh-widgets-0.12.14.min.css\");\n      console.log(\"Bokeh: injecting CSS: https://cdn.pydata.org/bokeh/release/bokeh-tables-0.12.14.min.css\");\n      Bokeh.embed.inject_css(\"https://cdn.pydata.org/bokeh/release/bokeh-tables-0.12.14.min.css\");\n    }\n  ];\n\n  function run_inline_js() {\n    \n    if ((root.Bokeh !== undefined) || (force === true)) {\n      for (var i = 0; i < inline_js.length; i++) {\n        inline_js[i].call(root, root.Bokeh);\n      }if (force === true) {\n        display_loaded();\n      }} else if (Date.now() < root._bokeh_timeout) {\n      setTimeout(run_inline_js, 100);\n    } else if (!root._bokeh_failed_load) {\n      console.log(\"Bokeh: BokehJS failed to load within specified timeout.\");\n      root._bokeh_failed_load = true;\n    } else if (force !== true) {\n      var cell = $(document.getElementById(\"0adf2627-edeb-4b79-b0eb-0cb5ea81e27d\")).parents('.cell').data().cell;\n      cell.output_area.append_execute_result(NB_LOAD_WARNING)\n    }\n\n  }\n\n  if (root._bokeh_is_loading === 0) {\n    console.log(\"Bokeh: BokehJS loaded, going straight to plotting\");\n    run_inline_js();\n  } else {\n    load_libs(js_urls, function() {\n      console.log(\"Bokeh: BokehJS plotting callback run at\", now());\n      run_inline_js();\n    });\n  }\n}(window));"
     },
     "metadata": {},
     "output_type": "display_data"
    }
   ],
   "source": [
    "output_notebook()"
   ]
  },
  {
   "cell_type": "code",
   "execution_count": 8,
   "metadata": {
    "collapsed": true
   },
   "outputs": [],
   "source": [
    "def fmt_cool(ds_in):\n",
    "    ds = ds_in.copy(deep=True)\n",
    "    if 'igg' in ds.dims:\n",
    "        ds = ds.sel(igg=1)\n",
    "\n",
    "    if 'g' in ds.dims:\n",
    "        ds = ds.sum('g')\n",
    "            \n",
    "    if 'band' in ds.dims:\n",
    "        try:\n",
    "            ds = ds.squeeze('band')\n",
    "        except ValueError:\n",
    "            ds = ds.sum('band')\n",
    "                \n",
    "    return ds['coolrg']\n",
    "\n",
    "\n",
    "def pltdata_cooling_1(ds_cool=None,\n",
    "                      ds_cool_crd=None, ds_cool_wgt=None):\n",
    "    \n",
    "\n",
    "\n",
    "    colors = all_palettes['Set1'][4]\n",
    "    data = [{'label': 'CLIRAD `coolr_bands`',\n",
    "             'srs': fmt_cool(ds_cool),\n",
    "             'line_dash': 'dashed', 'line_width': 5,\n",
    "             'color': colors[0], 'alpha': .6},\n",
    "            {'label': 'CRD',\n",
    "             'srs': fmt_cool(ds_cool_crd),\n",
    "             'line_dash': 'solid', 'line_width': 1.5,\n",
    "             'marker': 'circle', 'marker_size': 5,\n",
    "             'color': colors[2], 'alpha': 1,},\n",
    "            {'label': 'WGT igg=10 wgt_flux=2',\n",
    "             'srs': fmt_cool(ds_cool_wgt),\n",
    "             'line_dash': 'solid', 'line_width': 3,\n",
    "             'marker': 'square', 'marker_size': 5,\n",
    "             'color': colors[3], 'alpha': .6}]\n",
    "    return data\n",
    "\n",
    "\n",
    "def nice_xlims(pltdata=None, prange=None):\n",
    "    \n",
    "    def get_slice(srs):\n",
    "        return srs.sel(pressure=slice(*prange))\n",
    "    \n",
    "    srss = [d['srs'] for d in pltdata]\n",
    "    vmin = min([get_slice(srs).min() for srs in srss])\n",
    "    vmax = max([get_slice(srs).max() for srs in srss])\n",
    "    dv = (vmax - vmin) * .01\n",
    "    return float(vmin - dv), float(vmax + dv)\n",
    "    \n",
    "\n",
    "def plt_cooling_bokeh(pltdata=None):\n",
    "    '''\n",
    "    Plot a list of cooling rate profiles using bokeh.\n",
    "    '''\n",
    "    ymin = 1e-2 \n",
    "    ymax = 1020 \n",
    "        \n",
    "    p1 = figure(title=\"Linear pressure scale\", \n",
    "                plot_width=400)        \n",
    "    xmin, xmax = nice_xlims(pltdata, prange=(50, 1050))\n",
    "    for d in pltdata:\n",
    "        if 'marker' in d:\n",
    "            getattr(p1, d['marker'])(d['srs'].values, \n",
    "                    d['srs'].coords['pressure'].values,\n",
    "                    color=d['color'], alpha=.7)\n",
    "        p1.line(d['srs'].values, \n",
    "                d['srs'].coords['pressure'].values,\n",
    "                color=d['color'], alpha=d['alpha'], \n",
    "                line_width=d['line_width'], line_dash=d['line_dash'])\n",
    "    \n",
    "    p1.y_range = Range1d(ymax, ymin)\n",
    "    p1.yaxis.axis_label = 'pressure [mb]'   \n",
    "    p1.x_range = Range1d(xmin, xmax)\n",
    "    p1.xaxis.axis_label = 'cooling rate [K/day]'\n",
    "            \n",
    "    p2 = figure(title='Log pressure scale', y_axis_type='log',\n",
    "                plot_width=560)\n",
    "    xmin, xmax = nice_xlims(pltdata, prange=(.01, 200))\n",
    "    \n",
    "    rs = []\n",
    "    for d in pltdata:\n",
    "        rd = []\n",
    "        if 'marker' in d:\n",
    "            r_mark = getattr(p2, d['marker'])(d['srs'].values, \n",
    "                        d['srs'].coords['pressure'].values,\n",
    "                        color=d['color'], alpha=.7)\n",
    "            rd.append(r_mark)\n",
    "        r_line = p2.line(d['srs'].values, \n",
    "                    d['srs'].coords['pressure'].values,\n",
    "                    color=d['color'], alpha=d['alpha'], \n",
    "                    line_width=d['line_width'], line_dash=d['line_dash'])\n",
    "        rd.append(r_line)\n",
    "      \n",
    "        rs.append(rd)\n",
    "        \n",
    "    p2.y_range = Range1d(ymax, ymin)  \n",
    "    p2.yaxis.axis_label = 'pressure [mb]'\n",
    "    \n",
    "    p2.x_range = Range1d(xmin, xmax)\n",
    "    p2.xaxis.axis_label = 'cooling rate [K/day]'\n",
    "    \n",
    "    items = [(d['label'], r) for r, d in zip(rs, pltdata)]\n",
    "    legend = Legend(items=items, location=(10, -30))\n",
    "    legend.label_text_font_size = '8pt'\n",
    "    \n",
    "    p2.add_layout(legend, 'right')  \n",
    "    \n",
    "    show(gridplot(p1, p2, ncols=2, plot_height=500))\n",
    "    \n",
    "\n",
    "def script_plt_cooling():\n",
    "    pltdata = pltdata_cooling_1(\n",
    "        ds_cool=DS_COOL,\n",
    "        ds_cool_crd=DS_COOL_CRD,\n",
    "        ds_cool_wgt=DS_COOL_WGT)\n",
    "    plt_cooling_bokeh(pltdata=pltdata)\n",
    "    print('''FIGURE. Cooling rate profiles.''')"
   ]
  },
  {
   "cell_type": "code",
   "execution_count": 9,
   "metadata": {
    "collapsed": true
   },
   "outputs": [],
   "source": [
    "def fmt_flux(ds_in):\n",
    "    ds = ds_in.copy(deep=True)\n",
    "    \n",
    "    for l in ('level', 'layer'):\n",
    "        if l in ds.data_vars:\n",
    "            if len(ds[l].dims) > 1:\n",
    "                surface = {d: 0 for d in ds.dims if d != 'pressure'}\n",
    "                coord_level = ds[l][surface]\n",
    "                ds.coords[l] = ('pressure', coord_level)\n",
    "            else:\n",
    "                ds.coords[l] = ('pressure', ds[l])\n",
    "        \n",
    "    ds = ds.isel(pressure=[0, 23, -1])\n",
    "        \n",
    "    if 'igg' in ds.dims:\n",
    "        ds = ds.sel(igg=[1])\n",
    "        ds = ds.squeeze('igg').drop('igg')\n",
    "    \n",
    "    if 'g' in ds.dims:\n",
    "        ds = ds.sum('g')\n",
    "            \n",
    "    if 'band' in ds.dims:\n",
    "        try:\n",
    "            ds = ds.squeeze('band').drop('band')\n",
    "        except ValueError:\n",
    "            ds = ds.sum('band')\n",
    "                \n",
    "    df = ds.to_dataframe()\n",
    "    df = df.set_index('level', append=True)               \n",
    "    return df\n",
    "\n",
    "\n",
    "def tbdata_flux(ds_flux=None, ds_flux_crd=None, ds_flux_wgt=None):\n",
    "    ilevels = [0, 23, -1]\n",
    "            \n",
    "    benchmark = {'label': 'WGT igg=10 wgt_flux=1',\n",
    "                 'df': fmt_flux(ds_flux_wgt)}\n",
    "    \n",
    "    tbs = [{'label': 'CRD',\n",
    "            'df': fmt_flux(ds_flux_crd)},\n",
    "           {'label': 'CLIRAD',\n",
    "            'df': fmt_flux(ds_flux)}]\n",
    "    \n",
    "    data = {'benchmark': benchmark, 'others': tbs}\n",
    "    return data\n",
    "\n",
    "\n",
    "def tb_flux(tbdata=None):\n",
    "    benchmark = tbdata['benchmark']\n",
    "    others = tbdata['others']\n",
    "    \n",
    "    def show_tb(d=None):\n",
    "        display.display(d['df'])\n",
    "        print('Table.', 'Fluxes.', d['label'])\n",
    "        \n",
    "    def show_tbdiff(d0=None, d=None):\n",
    "        df = d['df']\n",
    "        df.index = d0['df'].index\n",
    "        display.display(df - d0['df'])\n",
    "        print('Table.', 'Fluxes.', \n",
    "              '({}) - ({})'.format(d['label'], d0['label']))\n",
    "        \n",
    "    show_tb(benchmark)\n",
    "    for d in others:\n",
    "        show_tb(d)\n",
    "        \n",
    "    for d in others:\n",
    "        show_tbdiff(d=d, d0=benchmark)\n",
    "        \n",
    "        \n",
    "def script_tb_flux():\n",
    "    data = tbdata_flux(ds_flux=DS_FLUX,\n",
    "                       ds_flux_crd=DS_FLUX_CRD,\n",
    "                       ds_flux_wgt=DS_FLUX_WGT)\n",
    "    tb_flux(tbdata=data)"
   ]
  },
  {
   "cell_type": "code",
   "execution_count": 10,
   "metadata": {
    "collapsed": true
   },
   "outputs": [],
   "source": [
    "def band_map():\n",
    "    '''\n",
    "    Maps spectral bands in lblnew to spectral bands in clirad.\n",
    "    '''\n",
    "    lblnew2clirad = {'1': '1',\n",
    "            '2': '2',\n",
    "            '3a': '3',\n",
    "            '3b': '4',\n",
    "            '3c': '5',\n",
    "            '4': '6', \n",
    "            '5': '7',\n",
    "            '6': '8',\n",
    "            '7': '9', \n",
    "            '8': '10',\n",
    "            '9': '11'}\n",
    "    \n",
    "    clirad2lblnew = {clirad: lblnew \n",
    "                     for lblnew, clirad in lblnew2clirad.items()}\n",
    "    return clirad2lblnew\n",
    "\n",
    "\n",
    "def gasbands():\n",
    "    bmap = band_map()\n",
    "    gases = list(PARAM['molecule'].keys())\n",
    "    \n",
    "    bands = [bmap[str(b)] for b in PARAM['band']]\n",
    "    return list(itertools.product(gases, bands))\n",
    "\n",
    "\n",
    "def print_bestfit_params():\n",
    "    print('Best-fit values for each (gas, band)')\n",
    "    print('------------------------------------')\n",
    "    for gas, band in gasbands():\n",
    "        print('o {} band{}'.format(gas, band))\n",
    "        param = bestfits.kdist_params(molecule=gas, band=band)\n",
    "        for name, value in sorted(param.items()):\n",
    "            print(2 * ' ' + '{} = {}'.format(name, value))\n",
    "\n",
    "        \n",
    "def print_input_param():        \n",
    "    for name, value in PARAM.items():\n",
    "        print('{} = {}'.format(name, value))\n",
    "        \n",
    "        \n",
    "def print_lblnew_param():\n",
    "    for name, value in sorted(PARAM_LBLNEW.items()):\n",
    "        print('{} = {}'.format(name, value))\n"
   ]
  },
  {
   "cell_type": "code",
   "execution_count": 11,
   "metadata": {
    "collapsed": true,
    "scrolled": false
   },
   "outputs": [],
   "source": [
    "def show_html(s):\n",
    "    display.display(display.HTML(s))\n",
    "\n",
    "    \n",
    "def show_markdown(s):\n",
    "    display.display(display.Markdown(s))\n",
    "\n",
    "    \n",
    "def script():\n",
    "    \n",
    "    title = '### CLIRAD-LW'\n",
    "    s_input = 'Input Parameters'\n",
    "    s_lblnew_param = 'LBLNEW case compaired against'\n",
    "    s_bestfits = 'Best-fit Parameters'\n",
    "    s_plt_cooling = 'Cooling Rate Profiles'\n",
    "    s_tb_flux = 'Flux Comparison'\n",
    "    \n",
    "    # title\n",
    "    show_markdown('### CLIRAD-LW')\n",
    "    \n",
    "    # TOC\n",
    "    show_markdown('### Table of Contents')\n",
    "    show_html(climahtml.getHTML_hrefanchor(s_input))\n",
    "    show_html(climahtml.getHTML_hrefanchor(s_lblnew_param))\n",
    "    show_html(climahtml.getHTML_hrefanchor(s_plt_cooling))\n",
    "    show_html(climahtml.getHTML_hrefanchor(s_tb_flux))\n",
    "    show_html(climahtml.getHTML_hrefanchor(s_bestfits))\n",
    "    \n",
    "    # Input parameters\n",
    "    show_html(climahtml.getHTML_idanchor(s_input))\n",
    "    show_markdown(climahtml.getMarkdown_sectitle(s_input))\n",
    "    print_input_param()\n",
    "    \n",
    "    # LBLNEW parameters \n",
    "    show_html(climahtml.getHTML_idanchor(s_lblnew_param))\n",
    "    show_markdown(climahtml.getMarkdown_sectitle(s_lblnew_param))\n",
    "    print_lblnew_param()\n",
    "    \n",
    "    # Cooling rate profiles\n",
    "    show_html(climahtml.getHTML_idanchor(s_plt_cooling))\n",
    "    show_markdown(climahtml.getMarkdown_sectitle(s_plt_cooling))\n",
    "    script_plt_cooling()\n",
    "    \n",
    "    # Flux comparison\n",
    "    show_html(climahtml.getHTML_idanchor(s_tb_flux))\n",
    "    show_markdown(climahtml.getMarkdown_sectitle(s_tb_flux))\n",
    "    script_tb_flux()\n",
    "    \n",
    "    # Best-fit values\n",
    "    show_html(climahtml.getHTML_idanchor(s_bestfits))\n",
    "    show_markdown(climahtml.getMarkdown_sectitle(s_bestfits))\n",
    "    print_bestfit_params()\n",
    "   \n",
    "    "
   ]
  },
  {
   "cell_type": "code",
   "execution_count": 12,
   "metadata": {
    "collapsed": true,
    "scrolled": false
   },
   "outputs": [
    {
     "data": {
      "text/markdown": [
       "### CLIRAD-LW"
      ],
      "text/plain": [
       "<IPython.core.display.Markdown object>"
      ]
     },
     "metadata": {},
     "output_type": "display_data"
    },
    {
     "data": {
      "text/markdown": [
       "### Table of Contents"
      ],
      "text/plain": [
       "<IPython.core.display.Markdown object>"
      ]
     },
     "metadata": {},
     "output_type": "display_data"
    },
    {
     "data": {
      "text/html": [
       "<a href=\"#Input_Parameters\">Input Parameters</a>"
      ],
      "text/plain": [
       "<IPython.core.display.HTML object>"
      ]
     },
     "metadata": {},
     "output_type": "display_data"
    },
    {
     "data": {
      "text/html": [
       "<a href=\"#LBLNEW_case_compaired_against\">LBLNEW case compaired against</a>"
      ],
      "text/plain": [
       "<IPython.core.display.HTML object>"
      ]
     },
     "metadata": {},
     "output_type": "display_data"
    },
    {
     "data": {
      "text/html": [
       "<a href=\"#Cooling_Rate_Profiles\">Cooling Rate Profiles</a>"
      ],
      "text/plain": [
       "<IPython.core.display.HTML object>"
      ]
     },
     "metadata": {},
     "output_type": "display_data"
    },
    {
     "data": {
      "text/html": [
       "<a href=\"#Flux_Comparison\">Flux Comparison</a>"
      ],
      "text/plain": [
       "<IPython.core.display.HTML object>"
      ]
     },
     "metadata": {},
     "output_type": "display_data"
    },
    {
     "data": {
      "text/html": [
       "<a href=\"#Best-fit_Parameters\">Best-fit Parameters</a>"
      ],
      "text/plain": [
       "<IPython.core.display.HTML object>"
      ]
     },
     "metadata": {},
     "output_type": "display_data"
    },
    {
     "data": {
      "text/html": [
       "<a id=\"Input_Parameters\"></a>"
      ],
      "text/plain": [
       "<IPython.core.display.HTML object>"
      ]
     },
     "metadata": {},
     "output_type": "display_data"
    },
    {
     "data": {
      "text/markdown": [
       "# Input Parameters"
      ],
      "text/plain": [
       "<IPython.core.display.Markdown object>"
      ]
     },
     "metadata": {},
     "output_type": "display_data"
    },
    {
     "name": "stdout",
     "output_type": "stream",
     "text": [
      "atmpro = saw\n",
      "band = [3]\n",
      "commitnumber = 7e55b57\n",
      "molecule = {'co2': 0.0004}\n",
      "tsfc = 257\n"
     ]
    },
    {
     "data": {
      "text/html": [
       "<a id=\"LBLNEW_case_compaired_against\"></a>"
      ],
      "text/plain": [
       "<IPython.core.display.HTML object>"
      ]
     },
     "metadata": {},
     "output_type": "display_data"
    },
    {
     "data": {
      "text/markdown": [
       "# LBLNEW case compaired against"
      ],
      "text/plain": [
       "<IPython.core.display.Markdown object>"
      ]
     },
     "metadata": {},
     "output_type": "display_data"
    },
    {
     "name": "stdout",
     "output_type": "stream",
     "text": [
      "atmpro = saw\n",
      "band = 3a\n",
      "commitnumber = 5014a19\n",
      "conc = 0.0004\n",
      "dv = 0.01\n",
      "klin = 6.375563e-24\n",
      "molecule = co2\n",
      "ng_adju = [0, 0, 0]\n",
      "ng_refs = [3, 2, 4]\n",
      "nv = 100\n",
      "option_compute_btable = 0\n",
      "option_compute_ktable = 0\n",
      "option_wgt_flux = 1\n",
      "option_wgt_k = 1\n",
      "ref_pts = [(1, 250), (10, 250), (500, 250)]\n",
      "tsfc = 257\n",
      "vmax = 620\n",
      "vmin = 540\n",
      "w_diffuse = [(1.6, 1.6, 1.7), (1.75, 1.75), (1.55, 1.55, 1.6, 1.85)]\n",
      "wgt = [(0.7, 0.3, 0.7), (0.7, 0.6), (0.4, 0.5, 0.8, 0.95)]\n"
     ]
    },
    {
     "data": {
      "text/html": [
       "<a id=\"Cooling_Rate_Profiles\"></a>"
      ],
      "text/plain": [
       "<IPython.core.display.HTML object>"
      ]
     },
     "metadata": {},
     "output_type": "display_data"
    },
    {
     "data": {
      "text/markdown": [
       "# Cooling Rate Profiles"
      ],
      "text/plain": [
       "<IPython.core.display.Markdown object>"
      ]
     },
     "metadata": {},
     "output_type": "display_data"
    },
    {
     "data": {
      "text/html": [
       "\n",
       "<div class=\"bk-root\">\n",
       "    <div class=\"bk-plotdiv\" id=\"993a32eb-2c0f-4f24-b1d2-23bfa4352df3\"></div>\n",
       "</div>"
      ]
     },
     "metadata": {},
     "output_type": "display_data"
    },
    {
     "data": {
      "application/javascript": [
       "(function(root) {\n",
       "  function embed_document(root) {\n",
       "    \n",
       "  var docs_json = {\"c230c148-a18b-4f20-9196-f2e7c5f44635\":{\"roots\":{\"references\":[{\"attributes\":{\"callback\":null,\"column_names\":[\"x\",\"y\"],\"data\":{\"x\":{\"__ndarray__\":\"ZKhxDFQIzD9OP4/uc77OP0gZcQFoFNQ/vKbuZwQd2T8QTyPreGXeP9CUAKkL4OE/0lRw9AiA5D8cNIm0bPHmPz+GM2ThEOk/YcccV2W36j/rfA37HMPrP9f1j65nIuw/23lN1V7g6z+NYW/eD4rqP21ce3Yr8ec/c6I8d6s85T+Se/Rl7T/jP3vgnVtsA+I//gvj8khx4T9BGLKZx4rhP/wUruS2n+I/lUnsXhdT4T+7FVfPKKHaPxJujWN/NNQ/P2Vnl5CLzz9tpzFKZUTIP5kgdujsy8E/TfPQb0Zquj+ufOrmTwy2PyBLfyzNeLM/tIeQzzjIsD9nhpRsY1arPyY0sQ+eSKg/bmuC3e3QqD/IlA9B1eioPwOWgoyFw6g/mNSRohxsqD/OyMIFEKamP36pTvAVKaQ/NAowyVQDoj+IyPCl3r2fP3XNGY49NJs/4IVZ2jwdlj+XyCsuk4OPP9KbIN45I30/FLuJpJU3cj97AKlSVZaIP1IU0XcDQZY/NouMGLo1nj+Vqv5SUJuiP8FLAU2q1KU/AJxbRLvaqD8tQ8uj47arP7meWA+ubK4/TVrNRw1+sD+Z85E2g6+xP//bs05fxrI/XSKYHNe8sz99cGf03Yy0P1cz5DjtMrU/vAVoFPiutT9QhVZfEQe2P9vWMvPGRLY/mguj8/Z0tj/keo29FKe2PyhqGiix6rY/vGcYz4RMtz/IlPtc7sW3Pz9ZfepiF7g/+mmk8YC8tz9Q9znyy1a2P3UpzIBVI7Q/gK+aR/uosT8fjqZhlV6uPyfS0hwmCKk/\",\"dtype\":\"float64\",\"shape\":[75]},\"y\":{\"__ndarray__\":\"GhExyth1ND/Sv8nbtpRIP2vylNV0PVE/aTum7souWD/At0SJ8fVgPw3Iuahxymc/MSNhhJWvcD/bTfBN02d3P2zb5nxnaoA/CD5h5MAGhz8NmeH1TyaQP+zrCsc9p5Y/LbKd76fGnz/bLW5ISEmmPww9YvTcQq8/JV2OstnstT8Er5Y7M8G+P0c+r3jqkcU/5h99k6ZBzj88bCIzFzjVP4enV8oyxN0//yH99nXg5D8qOpLLf0jtP5kqGJXUifQ/c9cS8kHP/D+/DpwzojQEQIEmwoanVwxA4lgXt9HgE0BSSZ2AJuIbQAMJih9jjiNA5q4l5INuK0AwTKYKRj0zQNv5fmq8/DpAaCJseHrtQkB/+zpwzoxKQM3MzMzMeFJAZmZmZmZqWEAAAAAAAFxeQM3MzMzMJmJAmpmZmZkfZUBmZmZmZhhoQDMzMzMzEWtAAAAAAAAKbkBmZmZmZoFwQM3MzMzM/XFAMzMzMzN6c0CamZmZmfZ0QAAAAAAAc3ZAZmZmZmbvd0DNzMzMzGt5QDMzMzMz6HpAmpmZmZlkfEAAAAAAAOF9QGZmZmZmXX9AZmZmZuZsgECamZmZGSuBQM3MzMxM6YFAAAAAAICngkAzMzMzs2WDQGZmZmbmI4RAmpmZmRnihEDNzMzMTKCFQAAAAACAXoZAMzMzM7Mch0BmZmZm5tqHQJqZmZkZmYhAzczMzExXiUAAAAAAgBWKQDMzMzOz04pAZmZmZuaRi0CamZmZGVCMQM3MzMxMDo1AAAAAAIDMjUAzMzMzs4qOQGZmZmbmSI9A\",\"dtype\":\"float64\",\"shape\":[75]}}},\"id\":\"3ed81ef4-c3a8-41bd-9ed1-d44b6c85c847\",\"type\":\"ColumnDataSource\"},{\"attributes\":{\"fill_alpha\":{\"value\":0.1},\"fill_color\":{\"value\":\"#1f77b4\"},\"line_alpha\":{\"value\":0.1},\"line_color\":{\"value\":\"#1f77b4\"},\"x\":{\"field\":\"x\"},\"y\":{\"field\":\"y\"}},\"id\":\"d5c646b3-2bca-458d-829b-a2832943a75e\",\"type\":\"Circle\"},{\"attributes\":{},\"id\":\"a0fa1b77-36e6-41bf-a9f7-8e842dc8955d\",\"type\":\"BasicTicker\"},{\"attributes\":{\"callback\":null,\"end\":0.01,\"start\":1020},\"id\":\"9b98c216-950a-41ae-aea8-a2c8e5d1f2bb\",\"type\":\"Range1d\"},{\"attributes\":{\"data_source\":{\"id\":\"3ed81ef4-c3a8-41bd-9ed1-d44b6c85c847\",\"type\":\"ColumnDataSource\"},\"glyph\":{\"id\":\"77784f02-09c9-4f69-a366-e15a2799e949\",\"type\":\"Circle\"},\"hover_glyph\":null,\"muted_glyph\":null,\"nonselection_glyph\":{\"id\":\"d5c646b3-2bca-458d-829b-a2832943a75e\",\"type\":\"Circle\"},\"selection_glyph\":null,\"view\":{\"id\":\"8a25db04-0d17-47d8-8617-d521cbb65b77\",\"type\":\"CDSView\"}},\"id\":\"8675b962-98ed-44ca-8e12-be662d4119d8\",\"type\":\"GlyphRenderer\"},{\"attributes\":{},\"id\":\"b94b193e-b92b-4d7f-b7f6-0718c6cbb2be\",\"type\":\"LogScale\"},{\"attributes\":{\"data_source\":{\"id\":\"ab13db60-d3b6-4c70-b525-be8d135b8f47\",\"type\":\"ColumnDataSource\"},\"glyph\":{\"id\":\"fd2b8927-2537-4517-b26e-0f0ab0cb964d\",\"type\":\"Line\"},\"hover_glyph\":null,\"muted_glyph\":null,\"nonselection_glyph\":{\"id\":\"7b0212f1-4a0a-45e7-acf0-ba44631ad947\",\"type\":\"Line\"},\"selection_glyph\":null,\"view\":{\"id\":\"3aad01ac-b5a2-47fd-bdaf-0a2697476331\",\"type\":\"CDSView\"}},\"id\":\"b27bff5e-b257-4491-a7fc-83a52818c7c7\",\"type\":\"GlyphRenderer\"},{\"attributes\":{\"line_alpha\":0.6,\"line_color\":\"#e41a1c\",\"line_dash\":[6],\"line_width\":5,\"x\":{\"field\":\"x\"},\"y\":{\"field\":\"y\"}},\"id\":\"fd2b8927-2537-4517-b26e-0f0ab0cb964d\",\"type\":\"Line\"},{\"attributes\":{\"dimension\":1,\"plot\":{\"id\":\"bf2f2d5f-7b23-434e-8804-16f204eef7b5\",\"subtype\":\"Figure\",\"type\":\"Plot\"},\"ticker\":{\"id\":\"71040c54-4a04-462e-8089-4aefb7a7f316\",\"type\":\"LogTicker\"}},\"id\":\"3d75a865-e115-4267-bb23-c08ae561c1cf\",\"type\":\"Grid\"},{\"attributes\":{\"plot\":{\"id\":\"bf2f2d5f-7b23-434e-8804-16f204eef7b5\",\"subtype\":\"Figure\",\"type\":\"Plot\"},\"ticker\":{\"id\":\"e3ea4a97-bd04-4633-9a3f-9533cf6c5e14\",\"type\":\"BasicTicker\"}},\"id\":\"3aef2991-024d-4772-9503-92414a29278e\",\"type\":\"Grid\"},{\"attributes\":{},\"id\":\"e3ea4a97-bd04-4633-9a3f-9533cf6c5e14\",\"type\":\"BasicTicker\"},{\"attributes\":{\"dimension\":1,\"plot\":{\"id\":\"1c06d5e5-3fff-494f-b7d8-2d1ce1fd2695\",\"subtype\":\"Figure\",\"type\":\"Plot\"},\"ticker\":{\"id\":\"78072454-1f21-4c1b-8302-baf43951340a\",\"type\":\"BasicTicker\"}},\"id\":\"097e7698-6a8b-454c-a0a0-4d72172cc250\",\"type\":\"Grid\"},{\"attributes\":{\"overlay\":{\"id\":\"05bf4070-2a7c-464d-b089-b91f8829e869\",\"type\":\"BoxAnnotation\"}},\"id\":\"ba5929c2-f313-4bc4-bc96-4e3563650564\",\"type\":\"BoxZoomTool\"},{\"attributes\":{\"line_alpha\":0.1,\"line_color\":\"#1f77b4\",\"line_width\":3,\"x\":{\"field\":\"x\"},\"y\":{\"field\":\"y\"}},\"id\":\"24a92144-acbd-4e5c-b4e6-6214755cf621\",\"type\":\"Line\"},{\"attributes\":{\"bottom_units\":\"screen\",\"fill_alpha\":{\"value\":0.5},\"fill_color\":{\"value\":\"lightgrey\"},\"left_units\":\"screen\",\"level\":\"overlay\",\"line_alpha\":{\"value\":1.0},\"line_color\":{\"value\":\"black\"},\"line_dash\":[4,4],\"line_width\":{\"value\":2},\"plot\":null,\"render_mode\":\"css\",\"right_units\":\"screen\",\"top_units\":\"screen\"},\"id\":\"05bf4070-2a7c-464d-b089-b91f8829e869\",\"type\":\"BoxAnnotation\"},{\"attributes\":{},\"id\":\"e3524870-5bbd-4ab5-91c0-8afac7f0ada3\",\"type\":\"SaveTool\"},{\"attributes\":{\"fill_alpha\":{\"value\":0.7},\"fill_color\":{\"value\":\"#4daf4a\"},\"line_alpha\":{\"value\":0.7},\"line_color\":{\"value\":\"#4daf4a\"},\"x\":{\"field\":\"x\"},\"y\":{\"field\":\"y\"}},\"id\":\"77784f02-09c9-4f69-a366-e15a2799e949\",\"type\":\"Circle\"},{\"attributes\":{\"ticker\":null},\"id\":\"824e5d71-5e64-43f8-8dc1-01eae2defbac\",\"type\":\"LogTickFormatter\"},{\"attributes\":{\"data_source\":{\"id\":\"f4d89828-e6a8-40a3-96ee-7ce5a1841c22\",\"type\":\"ColumnDataSource\"},\"glyph\":{\"id\":\"83c80e7f-6c94-4f44-b0ec-8c777cda4c67\",\"type\":\"Circle\"},\"hover_glyph\":null,\"muted_glyph\":null,\"nonselection_glyph\":{\"id\":\"a1fc5fe2-785c-4320-925d-24e43cab9d85\",\"type\":\"Circle\"},\"selection_glyph\":null,\"view\":{\"id\":\"784034ad-6c17-46db-bf37-c9a3d91df157\",\"type\":\"CDSView\"}},\"id\":\"3b5547d7-795b-4117-ae82-9f4bb4618000\",\"type\":\"GlyphRenderer\"},{\"attributes\":{\"line_alpha\":0.1,\"line_color\":\"#1f77b4\",\"line_dash\":[6],\"line_width\":5,\"x\":{\"field\":\"x\"},\"y\":{\"field\":\"y\"}},\"id\":\"7b0212f1-4a0a-45e7-acf0-ba44631ad947\",\"type\":\"Line\"},{\"attributes\":{\"callback\":null,\"column_names\":[\"x\",\"y\"],\"data\":{\"x\":{\"__ndarray__\":\"A+KKyNF4xT8f/Lzfd6fIPzf7TksGWtA/4iBVVRvp1D+LxmB7Jr3ZP49nio6a4t4/fGVwwx8Z4j+17xAaT8HkP7JdP97lVec/KI3m+paz6T+JRG+ZXbDrP2jyTZInJ+0/jylROJ3r7T8UuM/hKVDtP1FnmIDU3uo/f2he/fx85z/rkiwBIx3kP5hhTkaFSeE/t1EoF3oB3z8Dh9AAV0TeP6k13HwIceA/fIaswYbO3z+BWvqZlmjZP/Ztrhfq3tM/hvTC+Dmvzz9Sxy6YqE7JP/kYqmlmBcQ/MAk1LDRjwD/xXI0eMAm9P1fbC54YuLk/0GZFSuE/tT8+lNh14DOwP448Er/awKo/SpEPj8Axqj9QqyG2VdaqPw/x0yxy46w/3wi63f89rj/IhvjAmqOsP1xqMkpPcak/Isa4xFFPpj8LG17hxR+jPwfPevS4uJ8/YT19fMe6mD9YEY2ihHqQP3zf8xGP3ng/L5LhQ1/vZD/EGXtdd1GFP837STu1MJU/E2kNIalqnT+NudqeOzOiP4Ys3kzIVKU/pEaM/S85qD+Z3PC2QfSqP2a7OSrPj60/QVL6CYIHsD88ztacCzmxP8H0wJe8UbI/ulBEn6ZRsz+cQr9MuS+0PxCLA+eL5rQ/y1ZAGk90tT9aEzAQTd+1P8TJWsLkLrY/I49miLButj9TY8/M86y2PwQRjZiw+bY/oPRUfqhktz/SPN/Oit63PxD7vw1qNLg/C8Ki9Jrgtz+0AYL4WYa2P9zY0H6MYrQ/LTzYscL6sT8w7IOe6COvP7HF3Jyu56k/\",\"dtype\":\"float64\",\"shape\":[75]},\"y\":{\"__ndarray__\":\"GhExyth1ND/Sv8nbtpRIP2vylNV0PVE/aTum7souWD/At0SJ8fVgPw3Iuahxymc/MSNhhJWvcD/bTfBN02d3P2zb5nxnaoA/CD5h5MAGhz8NmeH1TyaQP+zrCsc9p5Y/LbKd76fGnz/bLW5ISEmmPww9YvTcQq8/JV2OstnstT8Er5Y7M8G+P0c+r3jqkcU/5h99k6ZBzj88bCIzFzjVP4enV8oyxN0//yH99nXg5D8qOpLLf0jtP5kqGJXUifQ/c9cS8kHP/D+/DpwzojQEQIEmwoanVwxA4lgXt9HgE0BSSZ2AJuIbQAMJih9jjiNA5q4l5INuK0AwTKYKRj0zQNv5fmq8/DpAaCJseHrtQkB/+zpwzoxKQM3MzMzMeFJAZmZmZmZqWEAAAAAAAFxeQM3MzMzMJmJAmpmZmZkfZUBmZmZmZhhoQDMzMzMzEWtAAAAAAAAKbkBmZmZmZoFwQM3MzMzM/XFAMzMzMzN6c0CamZmZmfZ0QAAAAAAAc3ZAZmZmZmbvd0DNzMzMzGt5QDMzMzMz6HpAmpmZmZlkfEAAAAAAAOF9QGZmZmZmXX9AZmZmZuZsgECamZmZGSuBQM3MzMxM6YFAAAAAAICngkAzMzMzs2WDQGZmZmbmI4RAmpmZmRnihEDNzMzMTKCFQAAAAACAXoZAMzMzM7Mch0BmZmZm5tqHQJqZmZkZmYhAzczMzExXiUAAAAAAgBWKQDMzMzOz04pAZmZmZuaRi0CamZmZGVCMQM3MzMxMDo1AAAAAAIDMjUAzMzMzs4qOQGZmZmbmSI9A\",\"dtype\":\"float64\",\"shape\":[75]}}},\"id\":\"d1d4a135-5518-499a-91ce-82abfcecbf7c\",\"type\":\"ColumnDataSource\"},{\"attributes\":{},\"id\":\"a750a50a-5cab-46e9-ae03-6285db86d647\",\"type\":\"PanTool\"},{\"attributes\":{},\"id\":\"1cbd5ba9-5333-4a77-85d0-21c4d4f6cf8b\",\"type\":\"BasicTickFormatter\"},{\"attributes\":{\"axis_label\":\"pressure [mb]\",\"formatter\":{\"id\":\"824e5d71-5e64-43f8-8dc1-01eae2defbac\",\"type\":\"LogTickFormatter\"},\"plot\":{\"id\":\"bf2f2d5f-7b23-434e-8804-16f204eef7b5\",\"subtype\":\"Figure\",\"type\":\"Plot\"},\"ticker\":{\"id\":\"71040c54-4a04-462e-8089-4aefb7a7f316\",\"type\":\"LogTicker\"}},\"id\":\"04768a7f-62a7-42dd-801d-67cb8f95f0f8\",\"type\":\"LogAxis\"},{\"attributes\":{\"callback\":null,\"column_names\":[\"x\",\"y\"],\"data\":{\"x\":{\"__ndarray__\":\"A+KKyNF4xT8f/Lzfd6fIPzf7TksGWtA/4iBVVRvp1D+LxmB7Jr3ZP49nio6a4t4/fGVwwx8Z4j+17xAaT8HkP7JdP97lVec/KI3m+paz6T+JRG+ZXbDrP2jyTZInJ+0/jylROJ3r7T8UuM/hKVDtP1FnmIDU3uo/f2he/fx85z/rkiwBIx3kP5hhTkaFSeE/t1EoF3oB3z8Dh9AAV0TeP6k13HwIceA/fIaswYbO3z+BWvqZlmjZP/Ztrhfq3tM/hvTC+Dmvzz9Sxy6YqE7JP/kYqmlmBcQ/MAk1LDRjwD/xXI0eMAm9P1fbC54YuLk/0GZFSuE/tT8+lNh14DOwP448Er/awKo/SpEPj8Axqj9QqyG2VdaqPw/x0yxy46w/3wi63f89rj/IhvjAmqOsP1xqMkpPcak/Isa4xFFPpj8LG17hxR+jPwfPevS4uJ8/YT19fMe6mD9YEY2ihHqQP3zf8xGP3ng/L5LhQ1/vZD/EGXtdd1GFP837STu1MJU/E2kNIalqnT+NudqeOzOiP4Ys3kzIVKU/pEaM/S85qD+Z3PC2QfSqP2a7OSrPj60/QVL6CYIHsD88ztacCzmxP8H0wJe8UbI/ulBEn6ZRsz+cQr9MuS+0PxCLA+eL5rQ/y1ZAGk90tT9aEzAQTd+1P8TJWsLkLrY/I49miLButj9TY8/M86y2PwQRjZiw+bY/oPRUfqhktz/SPN/Oit63PxD7vw1qNLg/C8Ki9Jrgtz+0AYL4WYa2P9zY0H6MYrQ/LTzYscL6sT8w7IOe6COvP7HF3Jyu56k/\",\"dtype\":\"float64\",\"shape\":[75]},\"y\":{\"__ndarray__\":\"GhExyth1ND/Sv8nbtpRIP2vylNV0PVE/aTum7souWD/At0SJ8fVgPw3Iuahxymc/MSNhhJWvcD/bTfBN02d3P2zb5nxnaoA/CD5h5MAGhz8NmeH1TyaQP+zrCsc9p5Y/LbKd76fGnz/bLW5ISEmmPww9YvTcQq8/JV2OstnstT8Er5Y7M8G+P0c+r3jqkcU/5h99k6ZBzj88bCIzFzjVP4enV8oyxN0//yH99nXg5D8qOpLLf0jtP5kqGJXUifQ/c9cS8kHP/D+/DpwzojQEQIEmwoanVwxA4lgXt9HgE0BSSZ2AJuIbQAMJih9jjiNA5q4l5INuK0AwTKYKRj0zQNv5fmq8/DpAaCJseHrtQkB/+zpwzoxKQM3MzMzMeFJAZmZmZmZqWEAAAAAAAFxeQM3MzMzMJmJAmpmZmZkfZUBmZmZmZhhoQDMzMzMzEWtAAAAAAAAKbkBmZmZmZoFwQM3MzMzM/XFAMzMzMzN6c0CamZmZmfZ0QAAAAAAAc3ZAZmZmZmbvd0DNzMzMzGt5QDMzMzMz6HpAmpmZmZlkfEAAAAAAAOF9QGZmZmZmXX9AZmZmZuZsgECamZmZGSuBQM3MzMxM6YFAAAAAAICngkAzMzMzs2WDQGZmZmbmI4RAmpmZmRnihEDNzMzMTKCFQAAAAACAXoZAMzMzM7Mch0BmZmZm5tqHQJqZmZkZmYhAzczMzExXiUAAAAAAgBWKQDMzMzOz04pAZmZmZuaRi0CamZmZGVCMQM3MzMxMDo1AAAAAAIDMjUAzMzMzs4qOQGZmZmbmSI9A\",\"dtype\":\"float64\",\"shape\":[75]}}},\"id\":\"ff143634-2be8-47e3-840f-f8566f0745cd\",\"type\":\"ColumnDataSource\"},{\"attributes\":{\"callback\":null,\"column_names\":[\"x\",\"y\"],\"data\":{\"x\":{\"__ndarray__\":\"3BMIYYzNsz8TDXP+/ZTYP05SXgAhX6c/+/nf39qo0D91X8b7DtHRP9792MEUZ9k/3JcaPnUu3j/XvMvBQyPgP/cbkv9u5uQ/hVAQAhPU5j+gDSuiR4jpP6dRkr/FlOs/Dxct/r447T90dCLiYjztP1MeYUEvVus/gVeyAPn05z/H5x3AhSnkP3v3hV8DpeA/nRGlvcHX3D8WQ8V6m+XbP42XTQSa3d4/wH6AnM123j9qdebc9avYP/XKihuWytM/ESl6nkce0D+tW7F90MzJPzPI+lluYcQ/HMWkhey4wD8so+yInu+9Py3Y26DVTbo/lotWwM16tT++VfA+Ox6wP+yCEHxLuqk/yOUAQJwnqD/Lj/Vd3AmpPxnIpKCKBKw/QaROXGiQrT/UIGfCeMurP7VNquMcaKg/0bhePWgipT/w/z4+fPShP5olNlw6n50/IrXXImzvlj/TZKAUqCOOPz9u3kBR9XQ/byEgQ+3VXD/ohPS+72uDP0N1qOOHA5Q/0X3EpeZPnD/RQ75iRcGhP+soVUJ6AaU/cF9Oo6X/pz9wtynApdOqP8NWBl74hK0/g1NPgfQWsD8NukXfK1qxP6pDxz5jh7I/SJUhwWaWsz9K0TKhNX60P9h7dX4fSLU/8fXqIAUItj/NPrBfh5y2PwOnRgEFC7c/Fbd5//lftz9glzdAlqm3Pwci7l6s97c/8E2CIAhcuD8WfQghVdG4P+ZMzuE+GLk/MwM3gO6zuD/V9mUfGky3P615rB7SHbU/L3/1IFOqsj/E5BWhOzWwP4423Z5fFas/\",\"dtype\":\"float64\",\"shape\":[75]},\"y\":{\"__ndarray__\":\"S/O/Q+51ND/430zAtpRIP2vylNV0PVE/QxsjCssuWD/TR4Z78fVgP+inNsRxymc/OuuBfZWvcD/u3TFA02d3P2d3VoBnaoA/CD5h5MAGhz/1pA8HUCaQP+zrCsc9p5Y/Fb7LAKjGnz/nJ9c/SEmmPwBD+fzcQq8/FOZwv9nstT8Er5Y7M8G+P0c+r3jqkcU/yK72qKZBzj+tM989FzjVPxbgmr8yxN0/cOm5AXbg5D+5ctXAf0jtP5kqGJXUifQ/DsrqDELP/D8MCAhBojQEQDItVnmnVwxAiFXNvdHgE0BSSZ2AJuIbQAMJih9jjiNA5q4l5INuK0CPVN/5RT0zQHzxRXu8/DpAOZ7PgHrtQkAg8wGBzoxKQBSTN8DMeFJA2NmQf2ZqWEAAAAAAAFxeQEQX1LfMJmJAmpmZmZkfZUBmZmZmZhhoQLzoK0gzEWtAAAAAAAAKbkCiC+pbZoFwQAhyUMLM/XFA+I2vPTN6c0AQ5KCEmfZ0QAAAAAAAc3ZA8Btfe2bvd0AIclDCzGt5QPeNrz0z6HpAEOSghJlkfEAAAAAAAOF9QKML6ltmXX9ABTkoYeZsgED7xteeGSuBQAhyUMJM6YFAAAAAAICngkD4ja89s2WDQAU5KGHmI4RA+8bXnhnihEAIclDCTKCFQAAAAACAXoZA+I2vPbMch0AFOShh5tqHQPvG154ZmYhACHJQwkxXiUAAAAAAgBWKQPeNrz2z04pABTkoYeaRi0D7xteeGVCMQAlyUMJMDo1AAAAAAIDMjUD3ja89s4qOQGZmZmbmSI9A\",\"dtype\":\"float64\",\"shape\":[75]}}},\"id\":\"ab13db60-d3b6-4c70-b525-be8d135b8f47\",\"type\":\"ColumnDataSource\"},{\"attributes\":{\"fill_alpha\":{\"value\":0.7},\"fill_color\":{\"value\":\"#4daf4a\"},\"line_alpha\":{\"value\":0.7},\"line_color\":{\"value\":\"#4daf4a\"},\"x\":{\"field\":\"x\"},\"y\":{\"field\":\"y\"}},\"id\":\"83c80e7f-6c94-4f44-b0ec-8c777cda4c67\",\"type\":\"Circle\"},{\"attributes\":{\"line_alpha\":0.1,\"line_color\":\"#1f77b4\",\"line_width\":1.5,\"x\":{\"field\":\"x\"},\"y\":{\"field\":\"y\"}},\"id\":\"51c58161-e247-4fa9-b37f-b5800de40c22\",\"type\":\"Line\"},{\"attributes\":{\"fill_alpha\":{\"value\":0.1},\"fill_color\":{\"value\":\"#1f77b4\"},\"line_alpha\":{\"value\":0.1},\"line_color\":{\"value\":\"#1f77b4\"},\"x\":{\"field\":\"x\"},\"y\":{\"field\":\"y\"}},\"id\":\"1b020b61-d6c2-4790-9d77-c2c14e2bde99\",\"type\":\"Square\"},{\"attributes\":{\"callback\":null,\"column_names\":[\"x\",\"y\"],\"data\":{\"x\":{\"__ndarray__\":\"ZKhxDFQIzD9OP4/uc77OP0gZcQFoFNQ/vKbuZwQd2T8QTyPreGXeP9CUAKkL4OE/0lRw9AiA5D8cNIm0bPHmPz+GM2ThEOk/YcccV2W36j/rfA37HMPrP9f1j65nIuw/23lN1V7g6z+NYW/eD4rqP21ce3Yr8ec/c6I8d6s85T+Se/Rl7T/jP3vgnVtsA+I//gvj8khx4T9BGLKZx4rhP/wUruS2n+I/lUnsXhdT4T+7FVfPKKHaPxJujWN/NNQ/P2Vnl5CLzz9tpzFKZUTIP5kgdujsy8E/TfPQb0Zquj+ufOrmTwy2PyBLfyzNeLM/tIeQzzjIsD9nhpRsY1arPyY0sQ+eSKg/bmuC3e3QqD/IlA9B1eioPwOWgoyFw6g/mNSRohxsqD/OyMIFEKamP36pTvAVKaQ/NAowyVQDoj+IyPCl3r2fP3XNGY49NJs/4IVZ2jwdlj+XyCsuk4OPP9KbIN45I30/FLuJpJU3cj97AKlSVZaIP1IU0XcDQZY/NouMGLo1nj+Vqv5SUJuiP8FLAU2q1KU/AJxbRLvaqD8tQ8uj47arP7meWA+ubK4/TVrNRw1+sD+Z85E2g6+xP//bs05fxrI/XSKYHNe8sz99cGf03Yy0P1cz5DjtMrU/vAVoFPiutT9QhVZfEQe2P9vWMvPGRLY/mguj8/Z0tj/keo29FKe2PyhqGiix6rY/vGcYz4RMtz/IlPtc7sW3Pz9ZfepiF7g/+mmk8YC8tz9Q9znyy1a2P3UpzIBVI7Q/gK+aR/uosT8fjqZhlV6uPyfS0hwmCKk/\",\"dtype\":\"float64\",\"shape\":[75]},\"y\":{\"__ndarray__\":\"GhExyth1ND/Sv8nbtpRIP2vylNV0PVE/aTum7souWD/At0SJ8fVgPw3Iuahxymc/MSNhhJWvcD/bTfBN02d3P2zb5nxnaoA/CD5h5MAGhz8NmeH1TyaQP+zrCsc9p5Y/LbKd76fGnz/bLW5ISEmmPww9YvTcQq8/JV2OstnstT8Er5Y7M8G+P0c+r3jqkcU/5h99k6ZBzj88bCIzFzjVP4enV8oyxN0//yH99nXg5D8qOpLLf0jtP5kqGJXUifQ/c9cS8kHP/D+/DpwzojQEQIEmwoanVwxA4lgXt9HgE0BSSZ2AJuIbQAMJih9jjiNA5q4l5INuK0AwTKYKRj0zQNv5fmq8/DpAaCJseHrtQkB/+zpwzoxKQM3MzMzMeFJAZmZmZmZqWEAAAAAAAFxeQM3MzMzMJmJAmpmZmZkfZUBmZmZmZhhoQDMzMzMzEWtAAAAAAAAKbkBmZmZmZoFwQM3MzMzM/XFAMzMzMzN6c0CamZmZmfZ0QAAAAAAAc3ZAZmZmZmbvd0DNzMzMzGt5QDMzMzMz6HpAmpmZmZlkfEAAAAAAAOF9QGZmZmZmXX9AZmZmZuZsgECamZmZGSuBQM3MzMxM6YFAAAAAAICngkAzMzMzs2WDQGZmZmbmI4RAmpmZmRnihEDNzMzMTKCFQAAAAACAXoZAMzMzM7Mch0BmZmZm5tqHQJqZmZkZmYhAzczMzExXiUAAAAAAgBWKQDMzMzOz04pAZmZmZuaRi0CamZmZGVCMQM3MzMxMDo1AAAAAAIDMjUAzMzMzs4qOQGZmZmbmSI9A\",\"dtype\":\"float64\",\"shape\":[75]}}},\"id\":\"80347a24-592c-46e3-a673-f49f64db93fd\",\"type\":\"ColumnDataSource\"},{\"attributes\":{\"axis_label\":\"cooling rate [K/day]\",\"formatter\":{\"id\":\"1cbd5ba9-5333-4a77-85d0-21c4d4f6cf8b\",\"type\":\"BasicTickFormatter\"},\"plot\":{\"id\":\"bf2f2d5f-7b23-434e-8804-16f204eef7b5\",\"subtype\":\"Figure\",\"type\":\"Plot\"},\"ticker\":{\"id\":\"e3ea4a97-bd04-4633-9a3f-9533cf6c5e14\",\"type\":\"BasicTicker\"}},\"id\":\"dd33946e-29ef-4d69-b370-5b4865af4c3c\",\"type\":\"LinearAxis\"},{\"attributes\":{\"source\":{\"id\":\"ab13db60-d3b6-4c70-b525-be8d135b8f47\",\"type\":\"ColumnDataSource\"}},\"id\":\"3aad01ac-b5a2-47fd-bdaf-0a2697476331\",\"type\":\"CDSView\"},{\"attributes\":{\"fill_alpha\":{\"value\":0.1},\"fill_color\":{\"value\":\"#1f77b4\"},\"line_alpha\":{\"value\":0.1},\"line_color\":{\"value\":\"#1f77b4\"},\"x\":{\"field\":\"x\"},\"y\":{\"field\":\"y\"}},\"id\":\"a1fc5fe2-785c-4320-925d-24e43cab9d85\",\"type\":\"Circle\"},{\"attributes\":{},\"id\":\"d09d9cc2-5c3c-4fa1-991d-5841e28012ed\",\"type\":\"ResetTool\"},{\"attributes\":{\"callback\":null,\"column_names\":[\"x\",\"y\"],\"data\":{\"x\":{\"__ndarray__\":\"A+KKyNF4xT8f/Lzfd6fIPzf7TksGWtA/4iBVVRvp1D+LxmB7Jr3ZP49nio6a4t4/fGVwwx8Z4j+17xAaT8HkP7JdP97lVec/KI3m+paz6T+JRG+ZXbDrP2jyTZInJ+0/jylROJ3r7T8UuM/hKVDtP1FnmIDU3uo/f2he/fx85z/rkiwBIx3kP5hhTkaFSeE/t1EoF3oB3z8Dh9AAV0TeP6k13HwIceA/fIaswYbO3z+BWvqZlmjZP/Ztrhfq3tM/hvTC+Dmvzz9Sxy6YqE7JP/kYqmlmBcQ/MAk1LDRjwD/xXI0eMAm9P1fbC54YuLk/0GZFSuE/tT8+lNh14DOwP448Er/awKo/SpEPj8Axqj9QqyG2VdaqPw/x0yxy46w/3wi63f89rj/IhvjAmqOsP1xqMkpPcak/Isa4xFFPpj8LG17hxR+jPwfPevS4uJ8/YT19fMe6mD9YEY2ihHqQP3zf8xGP3ng/L5LhQ1/vZD/EGXtdd1GFP837STu1MJU/E2kNIalqnT+NudqeOzOiP4Ys3kzIVKU/pEaM/S85qD+Z3PC2QfSqP2a7OSrPj60/QVL6CYIHsD88ztacCzmxP8H0wJe8UbI/ulBEn6ZRsz+cQr9MuS+0PxCLA+eL5rQ/y1ZAGk90tT9aEzAQTd+1P8TJWsLkLrY/I49miLButj9TY8/M86y2PwQRjZiw+bY/oPRUfqhktz/SPN/Oit63PxD7vw1qNLg/C8Ki9Jrgtz+0AYL4WYa2P9zY0H6MYrQ/LTzYscL6sT8w7IOe6COvP7HF3Jyu56k/\",\"dtype\":\"float64\",\"shape\":[75]},\"y\":{\"__ndarray__\":\"GhExyth1ND/Sv8nbtpRIP2vylNV0PVE/aTum7souWD/At0SJ8fVgPw3Iuahxymc/MSNhhJWvcD/bTfBN02d3P2zb5nxnaoA/CD5h5MAGhz8NmeH1TyaQP+zrCsc9p5Y/LbKd76fGnz/bLW5ISEmmPww9YvTcQq8/JV2OstnstT8Er5Y7M8G+P0c+r3jqkcU/5h99k6ZBzj88bCIzFzjVP4enV8oyxN0//yH99nXg5D8qOpLLf0jtP5kqGJXUifQ/c9cS8kHP/D+/DpwzojQEQIEmwoanVwxA4lgXt9HgE0BSSZ2AJuIbQAMJih9jjiNA5q4l5INuK0AwTKYKRj0zQNv5fmq8/DpAaCJseHrtQkB/+zpwzoxKQM3MzMzMeFJAZmZmZmZqWEAAAAAAAFxeQM3MzMzMJmJAmpmZmZkfZUBmZmZmZhhoQDMzMzMzEWtAAAAAAAAKbkBmZmZmZoFwQM3MzMzM/XFAMzMzMzN6c0CamZmZmfZ0QAAAAAAAc3ZAZmZmZmbvd0DNzMzMzGt5QDMzMzMz6HpAmpmZmZlkfEAAAAAAAOF9QGZmZmZmXX9AZmZmZuZsgECamZmZGSuBQM3MzMxM6YFAAAAAAICngkAzMzMzs2WDQGZmZmbmI4RAmpmZmRnihEDNzMzMTKCFQAAAAACAXoZAMzMzM7Mch0BmZmZm5tqHQJqZmZkZmYhAzczMzExXiUAAAAAAgBWKQDMzMzOz04pAZmZmZuaRi0CamZmZGVCMQM3MzMxMDo1AAAAAAIDMjUAzMzMzs4qOQGZmZmbmSI9A\",\"dtype\":\"float64\",\"shape\":[75]}}},\"id\":\"1caa6478-6d2c-49ec-8eec-babc7a5124a2\",\"type\":\"ColumnDataSource\"},{\"attributes\":{\"label\":{\"value\":\"WGT igg=10 wgt_flux=2\"},\"renderers\":[{\"id\":\"9d777722-0882-4cfa-b237-c44b12d114b4\",\"type\":\"GlyphRenderer\"},{\"id\":\"8c3b22f5-2a77-4a93-bec5-58ea80a1066c\",\"type\":\"GlyphRenderer\"}]},\"id\":\"df1a1d9d-18f4-4a19-b256-93966e379a82\",\"type\":\"LegendItem\"},{\"attributes\":{},\"id\":\"09c44dc8-1942-4562-b9a2-2589af7110a0\",\"type\":\"HelpTool\"},{\"attributes\":{\"callback\":null,\"column_names\":[\"x\",\"y\"],\"data\":{\"x\":{\"__ndarray__\":\"ZKhxDFQIzD9OP4/uc77OP0gZcQFoFNQ/vKbuZwQd2T8QTyPreGXeP9CUAKkL4OE/0lRw9AiA5D8cNIm0bPHmPz+GM2ThEOk/YcccV2W36j/rfA37HMPrP9f1j65nIuw/23lN1V7g6z+NYW/eD4rqP21ce3Yr8ec/c6I8d6s85T+Se/Rl7T/jP3vgnVtsA+I//gvj8khx4T9BGLKZx4rhP/wUruS2n+I/lUnsXhdT4T+7FVfPKKHaPxJujWN/NNQ/P2Vnl5CLzz9tpzFKZUTIP5kgdujsy8E/TfPQb0Zquj+ufOrmTwy2PyBLfyzNeLM/tIeQzzjIsD9nhpRsY1arPyY0sQ+eSKg/bmuC3e3QqD/IlA9B1eioPwOWgoyFw6g/mNSRohxsqD/OyMIFEKamP36pTvAVKaQ/NAowyVQDoj+IyPCl3r2fP3XNGY49NJs/4IVZ2jwdlj+XyCsuk4OPP9KbIN45I30/FLuJpJU3cj97AKlSVZaIP1IU0XcDQZY/NouMGLo1nj+Vqv5SUJuiP8FLAU2q1KU/AJxbRLvaqD8tQ8uj47arP7meWA+ubK4/TVrNRw1+sD+Z85E2g6+xP//bs05fxrI/XSKYHNe8sz99cGf03Yy0P1cz5DjtMrU/vAVoFPiutT9QhVZfEQe2P9vWMvPGRLY/mguj8/Z0tj/keo29FKe2PyhqGiix6rY/vGcYz4RMtz/IlPtc7sW3Pz9ZfepiF7g/+mmk8YC8tz9Q9znyy1a2P3UpzIBVI7Q/gK+aR/uosT8fjqZhlV6uPyfS0hwmCKk/\",\"dtype\":\"float64\",\"shape\":[75]},\"y\":{\"__ndarray__\":\"GhExyth1ND/Sv8nbtpRIP2vylNV0PVE/aTum7souWD/At0SJ8fVgPw3Iuahxymc/MSNhhJWvcD/bTfBN02d3P2zb5nxnaoA/CD5h5MAGhz8NmeH1TyaQP+zrCsc9p5Y/LbKd76fGnz/bLW5ISEmmPww9YvTcQq8/JV2OstnstT8Er5Y7M8G+P0c+r3jqkcU/5h99k6ZBzj88bCIzFzjVP4enV8oyxN0//yH99nXg5D8qOpLLf0jtP5kqGJXUifQ/c9cS8kHP/D+/DpwzojQEQIEmwoanVwxA4lgXt9HgE0BSSZ2AJuIbQAMJih9jjiNA5q4l5INuK0AwTKYKRj0zQNv5fmq8/DpAaCJseHrtQkB/+zpwzoxKQM3MzMzMeFJAZmZmZmZqWEAAAAAAAFxeQM3MzMzMJmJAmpmZmZkfZUBmZmZmZhhoQDMzMzMzEWtAAAAAAAAKbkBmZmZmZoFwQM3MzMzM/XFAMzMzMzN6c0CamZmZmfZ0QAAAAAAAc3ZAZmZmZmbvd0DNzMzMzGt5QDMzMzMz6HpAmpmZmZlkfEAAAAAAAOF9QGZmZmZmXX9AZmZmZuZsgECamZmZGSuBQM3MzMxM6YFAAAAAAICngkAzMzMzs2WDQGZmZmbmI4RAmpmZmRnihEDNzMzMTKCFQAAAAACAXoZAMzMzM7Mch0BmZmZm5tqHQJqZmZkZmYhAzczMzExXiUAAAAAAgBWKQDMzMzOz04pAZmZmZuaRi0CamZmZGVCMQM3MzMxMDo1AAAAAAIDMjUAzMzMzs4qOQGZmZmbmSI9A\",\"dtype\":\"float64\",\"shape\":[75]}}},\"id\":\"f4d89828-e6a8-40a3-96ee-7ce5a1841c22\",\"type\":\"ColumnDataSource\"},{\"attributes\":{\"fill_alpha\":{\"value\":0.7},\"fill_color\":{\"value\":\"#984ea3\"},\"line_alpha\":{\"value\":0.7},\"line_color\":{\"value\":\"#984ea3\"},\"x\":{\"field\":\"x\"},\"y\":{\"field\":\"y\"}},\"id\":\"87653e48-3531-4eaa-a373-3cc6bdc2a65c\",\"type\":\"Square\"},{\"attributes\":{\"callback\":null,\"column_names\":[\"x\",\"y\"],\"data\":{\"x\":{\"__ndarray__\":\"A+KKyNF4xT8f/Lzfd6fIPzf7TksGWtA/4iBVVRvp1D+LxmB7Jr3ZP49nio6a4t4/fGVwwx8Z4j+17xAaT8HkP7JdP97lVec/KI3m+paz6T+JRG+ZXbDrP2jyTZInJ+0/jylROJ3r7T8UuM/hKVDtP1FnmIDU3uo/f2he/fx85z/rkiwBIx3kP5hhTkaFSeE/t1EoF3oB3z8Dh9AAV0TeP6k13HwIceA/fIaswYbO3z+BWvqZlmjZP/Ztrhfq3tM/hvTC+Dmvzz9Sxy6YqE7JP/kYqmlmBcQ/MAk1LDRjwD/xXI0eMAm9P1fbC54YuLk/0GZFSuE/tT8+lNh14DOwP448Er/awKo/SpEPj8Axqj9QqyG2VdaqPw/x0yxy46w/3wi63f89rj/IhvjAmqOsP1xqMkpPcak/Isa4xFFPpj8LG17hxR+jPwfPevS4uJ8/YT19fMe6mD9YEY2ihHqQP3zf8xGP3ng/L5LhQ1/vZD/EGXtdd1GFP837STu1MJU/E2kNIalqnT+NudqeOzOiP4Ys3kzIVKU/pEaM/S85qD+Z3PC2QfSqP2a7OSrPj60/QVL6CYIHsD88ztacCzmxP8H0wJe8UbI/ulBEn6ZRsz+cQr9MuS+0PxCLA+eL5rQ/y1ZAGk90tT9aEzAQTd+1P8TJWsLkLrY/I49miLButj9TY8/M86y2PwQRjZiw+bY/oPRUfqhktz/SPN/Oit63PxD7vw1qNLg/C8Ki9Jrgtz+0AYL4WYa2P9zY0H6MYrQ/LTzYscL6sT8w7IOe6COvP7HF3Jyu56k/\",\"dtype\":\"float64\",\"shape\":[75]},\"y\":{\"__ndarray__\":\"GhExyth1ND/Sv8nbtpRIP2vylNV0PVE/aTum7souWD/At0SJ8fVgPw3Iuahxymc/MSNhhJWvcD/bTfBN02d3P2zb5nxnaoA/CD5h5MAGhz8NmeH1TyaQP+zrCsc9p5Y/LbKd76fGnz/bLW5ISEmmPww9YvTcQq8/JV2OstnstT8Er5Y7M8G+P0c+r3jqkcU/5h99k6ZBzj88bCIzFzjVP4enV8oyxN0//yH99nXg5D8qOpLLf0jtP5kqGJXUifQ/c9cS8kHP/D+/DpwzojQEQIEmwoanVwxA4lgXt9HgE0BSSZ2AJuIbQAMJih9jjiNA5q4l5INuK0AwTKYKRj0zQNv5fmq8/DpAaCJseHrtQkB/+zpwzoxKQM3MzMzMeFJAZmZmZmZqWEAAAAAAAFxeQM3MzMzMJmJAmpmZmZkfZUBmZmZmZhhoQDMzMzMzEWtAAAAAAAAKbkBmZmZmZoFwQM3MzMzM/XFAMzMzMzN6c0CamZmZmfZ0QAAAAAAAc3ZAZmZmZmbvd0DNzMzMzGt5QDMzMzMz6HpAmpmZmZlkfEAAAAAAAOF9QGZmZmZmXX9AZmZmZuZsgECamZmZGSuBQM3MzMxM6YFAAAAAAICngkAzMzMzs2WDQGZmZmbmI4RAmpmZmRnihEDNzMzMTKCFQAAAAACAXoZAMzMzM7Mch0BmZmZm5tqHQJqZmZkZmYhAzczMzExXiUAAAAAAgBWKQDMzMzOz04pAZmZmZuaRi0CamZmZGVCMQM3MzMxMDo1AAAAAAIDMjUAzMzMzs4qOQGZmZmbmSI9A\",\"dtype\":\"float64\",\"shape\":[75]}}},\"id\":\"0d5ac477-203f-4ba1-88b8-6880cb2321bf\",\"type\":\"ColumnDataSource\"},{\"attributes\":{\"callback\":null,\"end\":0.09898887120500001,\"start\":0.000797326295},\"id\":\"7cb5743e-b350-4fb3-b524-a45ac6b33deb\",\"type\":\"Range1d\"},{\"attributes\":{},\"id\":\"975b472d-545c-4a95-8ffb-7d4146e57252\",\"type\":\"SaveTool\"},{\"attributes\":{\"source\":{\"id\":\"f4d89828-e6a8-40a3-96ee-7ce5a1841c22\",\"type\":\"ColumnDataSource\"}},\"id\":\"784034ad-6c17-46db-bf37-c9a3d91df157\",\"type\":\"CDSView\"},{\"attributes\":{\"source\":{\"id\":\"1caa6478-6d2c-49ec-8eec-babc7a5124a2\",\"type\":\"ColumnDataSource\"}},\"id\":\"e7d6da57-b7ca-4c5e-8f0c-582ee498e25f\",\"type\":\"CDSView\"},{\"attributes\":{\"line_color\":\"#4daf4a\",\"line_width\":1.5,\"x\":{\"field\":\"x\"},\"y\":{\"field\":\"y\"}},\"id\":\"12d4799e-8d1c-4c36-8137-baaf44fd137e\",\"type\":\"Line\"},{\"attributes\":{\"data_source\":{\"id\":\"79e7ff55-e88e-4c12-9be4-528fffcdac4a\",\"type\":\"ColumnDataSource\"},\"glyph\":{\"id\":\"02615514-ed9f-40c6-abeb-78ae5c2778f0\",\"type\":\"Line\"},\"hover_glyph\":null,\"muted_glyph\":null,\"nonselection_glyph\":{\"id\":\"51c58161-e247-4fa9-b37f-b5800de40c22\",\"type\":\"Line\"},\"selection_glyph\":null,\"view\":{\"id\":\"1aea0585-5aa4-4e74-b443-cd9e01c698c6\",\"type\":\"CDSView\"}},\"id\":\"daa5da64-96dc-4aec-8c93-786915939156\",\"type\":\"GlyphRenderer\"},{\"attributes\":{\"line_alpha\":0.1,\"line_color\":\"#1f77b4\",\"line_width\":1.5,\"x\":{\"field\":\"x\"},\"y\":{\"field\":\"y\"}},\"id\":\"7d6b2faf-3156-4415-b3e1-e19c4eea20d7\",\"type\":\"Line\"},{\"attributes\":{\"callback\":null,\"end\":0.9440516293576999,\"start\":0.0219575954123},\"id\":\"906f52ca-bfc0-4812-b1a4-b2beee838961\",\"type\":\"Range1d\"},{\"attributes\":{\"data_source\":{\"id\":\"80347a24-592c-46e3-a673-f49f64db93fd\",\"type\":\"ColumnDataSource\"},\"glyph\":{\"id\":\"12d4799e-8d1c-4c36-8137-baaf44fd137e\",\"type\":\"Line\"},\"hover_glyph\":null,\"muted_glyph\":null,\"nonselection_glyph\":{\"id\":\"7d6b2faf-3156-4415-b3e1-e19c4eea20d7\",\"type\":\"Line\"},\"selection_glyph\":null,\"view\":{\"id\":\"ebb1ab8f-3edb-4358-bc0c-52629c259fbc\",\"type\":\"CDSView\"}},\"id\":\"0bc9fe31-5fa6-483e-b20d-02f377a9e4ae\",\"type\":\"GlyphRenderer\"},{\"attributes\":{\"label\":{\"value\":\"CLIRAD `coolr_bands`\"},\"renderers\":[{\"id\":\"e8f4d48a-d03b-44bb-8fdf-9dacc63fe920\",\"type\":\"GlyphRenderer\"}]},\"id\":\"d7e9d9a1-729a-4997-b642-56d7aa91eefe\",\"type\":\"LegendItem\"},{\"attributes\":{},\"id\":\"02ea0829-ad55-4f06-acc2-8c03b47ebdf1\",\"type\":\"LinearScale\"},{\"attributes\":{\"source\":{\"id\":\"80347a24-592c-46e3-a673-f49f64db93fd\",\"type\":\"ColumnDataSource\"}},\"id\":\"ebb1ab8f-3edb-4358-bc0c-52629c259fbc\",\"type\":\"CDSView\"},{\"attributes\":{\"line_alpha\":0.6,\"line_color\":\"#984ea3\",\"line_width\":3,\"x\":{\"field\":\"x\"},\"y\":{\"field\":\"y\"}},\"id\":\"7a080714-e70e-4cc2-a030-277d68609361\",\"type\":\"Line\"},{\"attributes\":{\"fill_alpha\":{\"value\":0.7},\"fill_color\":{\"value\":\"#984ea3\"},\"line_alpha\":{\"value\":0.7},\"line_color\":{\"value\":\"#984ea3\"},\"x\":{\"field\":\"x\"},\"y\":{\"field\":\"y\"}},\"id\":\"bdd4f6c5-1850-4c4c-939e-1c6c9e2160e9\",\"type\":\"Square\"},{\"attributes\":{\"callback\":null,\"column_names\":[\"x\",\"y\"],\"data\":{\"x\":{\"__ndarray__\":\"3BMIYYzNsz8TDXP+/ZTYP05SXgAhX6c/+/nf39qo0D91X8b7DtHRP9792MEUZ9k/3JcaPnUu3j/XvMvBQyPgP/cbkv9u5uQ/hVAQAhPU5j+gDSuiR4jpP6dRkr/FlOs/Dxct/r447T90dCLiYjztP1MeYUEvVus/gVeyAPn05z/H5x3AhSnkP3v3hV8DpeA/nRGlvcHX3D8WQ8V6m+XbP42XTQSa3d4/wH6AnM123j9qdebc9avYP/XKihuWytM/ESl6nkce0D+tW7F90MzJPzPI+lluYcQ/HMWkhey4wD8so+yInu+9Py3Y26DVTbo/lotWwM16tT++VfA+Ox6wP+yCEHxLuqk/yOUAQJwnqD/Lj/Vd3AmpPxnIpKCKBKw/QaROXGiQrT/UIGfCeMurP7VNquMcaKg/0bhePWgipT/w/z4+fPShP5olNlw6n50/IrXXImzvlj/TZKAUqCOOPz9u3kBR9XQ/byEgQ+3VXD/ohPS+72uDP0N1qOOHA5Q/0X3EpeZPnD/RQ75iRcGhP+soVUJ6AaU/cF9Oo6X/pz9wtynApdOqP8NWBl74hK0/g1NPgfQWsD8NukXfK1qxP6pDxz5jh7I/SJUhwWaWsz9K0TKhNX60P9h7dX4fSLU/8fXqIAUItj/NPrBfh5y2PwOnRgEFC7c/Fbd5//lftz9glzdAlqm3Pwci7l6s97c/8E2CIAhcuD8WfQghVdG4P+ZMzuE+GLk/MwM3gO6zuD/V9mUfGky3P615rB7SHbU/L3/1IFOqsj/E5BWhOzWwP4423Z5fFas/\",\"dtype\":\"float64\",\"shape\":[75]},\"y\":{\"__ndarray__\":\"S/O/Q+51ND/430zAtpRIP2vylNV0PVE/QxsjCssuWD/TR4Z78fVgP+inNsRxymc/OuuBfZWvcD/u3TFA02d3P2d3VoBnaoA/CD5h5MAGhz/1pA8HUCaQP+zrCsc9p5Y/Fb7LAKjGnz/nJ9c/SEmmPwBD+fzcQq8/FOZwv9nstT8Er5Y7M8G+P0c+r3jqkcU/yK72qKZBzj+tM989FzjVPxbgmr8yxN0/cOm5AXbg5D+5ctXAf0jtP5kqGJXUifQ/DsrqDELP/D8MCAhBojQEQDItVnmnVwxAiFXNvdHgE0BSSZ2AJuIbQAMJih9jjiNA5q4l5INuK0CPVN/5RT0zQHzxRXu8/DpAOZ7PgHrtQkAg8wGBzoxKQBSTN8DMeFJA2NmQf2ZqWEAAAAAAAFxeQEQX1LfMJmJAmpmZmZkfZUBmZmZmZhhoQLzoK0gzEWtAAAAAAAAKbkCiC+pbZoFwQAhyUMLM/XFA+I2vPTN6c0AQ5KCEmfZ0QAAAAAAAc3ZA8Btfe2bvd0AIclDCzGt5QPeNrz0z6HpAEOSghJlkfEAAAAAAAOF9QKML6ltmXX9ABTkoYeZsgED7xteeGSuBQAhyUMJM6YFAAAAAAICngkD4ja89s2WDQAU5KGHmI4RA+8bXnhnihEAIclDCTKCFQAAAAACAXoZA+I2vPbMch0AFOShh5tqHQPvG154ZmYhACHJQwkxXiUAAAAAAgBWKQPeNrz2z04pABTkoYeaRi0D7xteeGVCMQAlyUMJMDo1AAAAAAIDMjUD3ja89s4qOQGZmZmbmSI9A\",\"dtype\":\"float64\",\"shape\":[75]}}},\"id\":\"63327bb9-85d8-4942-abaf-4d4f7e87203f\",\"type\":\"ColumnDataSource\"},{\"attributes\":{\"source\":{\"id\":\"ff143634-2be8-47e3-840f-f8566f0745cd\",\"type\":\"ColumnDataSource\"}},\"id\":\"75d6c541-8d75-4123-b281-e7448cf14686\",\"type\":\"CDSView\"},{\"attributes\":{\"data_source\":{\"id\":\"d1d4a135-5518-499a-91ce-82abfcecbf7c\",\"type\":\"ColumnDataSource\"},\"glyph\":{\"id\":\"7a080714-e70e-4cc2-a030-277d68609361\",\"type\":\"Line\"},\"hover_glyph\":null,\"muted_glyph\":null,\"nonselection_glyph\":{\"id\":\"24a92144-acbd-4e5c-b4e6-6214755cf621\",\"type\":\"Line\"},\"selection_glyph\":null,\"view\":{\"id\":\"2e710248-1809-4dde-922e-e90df5c1a091\",\"type\":\"CDSView\"}},\"id\":\"aca27af5-b721-48aa-83d3-2dfe89d6871b\",\"type\":\"GlyphRenderer\"},{\"attributes\":{},\"id\":\"ca292bd3-188b-4b7c-998a-707d5bff7a86\",\"type\":\"HelpTool\"},{\"attributes\":{\"line_alpha\":0.6,\"line_color\":\"#984ea3\",\"line_width\":3,\"x\":{\"field\":\"x\"},\"y\":{\"field\":\"y\"}},\"id\":\"482979ce-7b13-4dfc-abbf-3a7ce26e0587\",\"type\":\"Line\"},{\"attributes\":{\"below\":[{\"id\":\"8ded48b5-c7c1-45e7-b2ec-62dbb04b24dd\",\"type\":\"LinearAxis\"}],\"left\":[{\"id\":\"c1ea75bf-d14c-4faa-9a1a-62f10e657375\",\"type\":\"LinearAxis\"}],\"plot_height\":500,\"plot_width\":400,\"renderers\":[{\"id\":\"8ded48b5-c7c1-45e7-b2ec-62dbb04b24dd\",\"type\":\"LinearAxis\"},{\"id\":\"fec8885e-0ea4-4e7e-9f59-c08afd3c7621\",\"type\":\"Grid\"},{\"id\":\"c1ea75bf-d14c-4faa-9a1a-62f10e657375\",\"type\":\"LinearAxis\"},{\"id\":\"097e7698-6a8b-454c-a0a0-4d72172cc250\",\"type\":\"Grid\"},{\"id\":\"05bf4070-2a7c-464d-b089-b91f8829e869\",\"type\":\"BoxAnnotation\"},{\"id\":\"b27bff5e-b257-4491-a7fc-83a52818c7c7\",\"type\":\"GlyphRenderer\"},{\"id\":\"8675b962-98ed-44ca-8e12-be662d4119d8\",\"type\":\"GlyphRenderer\"},{\"id\":\"daa5da64-96dc-4aec-8c93-786915939156\",\"type\":\"GlyphRenderer\"},{\"id\":\"3a7931aa-c899-4ce0-acc6-86e9ae7e03f1\",\"type\":\"GlyphRenderer\"},{\"id\":\"aca27af5-b721-48aa-83d3-2dfe89d6871b\",\"type\":\"GlyphRenderer\"}],\"title\":{\"id\":\"714b21c4-2b19-4aa1-a8bb-e5b33a70eef9\",\"type\":\"Title\"},\"toolbar\":{\"id\":\"f2e092c5-67ba-4e98-9b98-2c94978190c2\",\"type\":\"Toolbar\"},\"toolbar_location\":null,\"x_range\":{\"id\":\"7cb5743e-b350-4fb3-b524-a45ac6b33deb\",\"type\":\"Range1d\"},\"x_scale\":{\"id\":\"8eed499a-d88c-4832-a6b6-c793e7dc37dd\",\"type\":\"LinearScale\"},\"y_range\":{\"id\":\"9b98c216-950a-41ae-aea8-a2c8e5d1f2bb\",\"type\":\"Range1d\"},\"y_scale\":{\"id\":\"18837230-1d6a-4349-86b4-d344de6a8d58\",\"type\":\"LinearScale\"}},\"id\":\"1c06d5e5-3fff-494f-b7d8-2d1ce1fd2695\",\"subtype\":\"Figure\",\"type\":\"Plot\"},{\"attributes\":{\"fill_alpha\":{\"value\":0.1},\"fill_color\":{\"value\":\"#1f77b4\"},\"line_alpha\":{\"value\":0.1},\"line_color\":{\"value\":\"#1f77b4\"},\"x\":{\"field\":\"x\"},\"y\":{\"field\":\"y\"}},\"id\":\"56c3ccae-7514-4fea-9d89-7c56086872a3\",\"type\":\"Square\"},{\"attributes\":{\"data_source\":{\"id\":\"ff143634-2be8-47e3-840f-f8566f0745cd\",\"type\":\"ColumnDataSource\"},\"glyph\":{\"id\":\"bdd4f6c5-1850-4c4c-939e-1c6c9e2160e9\",\"type\":\"Square\"},\"hover_glyph\":null,\"muted_glyph\":null,\"nonselection_glyph\":{\"id\":\"56c3ccae-7514-4fea-9d89-7c56086872a3\",\"type\":\"Square\"},\"selection_glyph\":null,\"view\":{\"id\":\"75d6c541-8d75-4123-b281-e7448cf14686\",\"type\":\"CDSView\"}},\"id\":\"9d777722-0882-4cfa-b237-c44b12d114b4\",\"type\":\"GlyphRenderer\"},{\"attributes\":{},\"id\":\"262b1528-76e9-49fd-8926-35391a8d2035\",\"type\":\"ResetTool\"},{\"attributes\":{\"plot\":null,\"text\":\"Linear pressure scale\"},\"id\":\"714b21c4-2b19-4aa1-a8bb-e5b33a70eef9\",\"type\":\"Title\"},{\"attributes\":{\"source\":{\"id\":\"0d5ac477-203f-4ba1-88b8-6880cb2321bf\",\"type\":\"ColumnDataSource\"}},\"id\":\"96b08031-2c78-43e9-bb5e-d030d815733e\",\"type\":\"CDSView\"},{\"attributes\":{\"children\":[{\"id\":\"ba284340-a3d7-4255-a2c4-f970ac57782f\",\"type\":\"ToolbarBox\"},{\"id\":\"0e759e4f-e8e4-47d8-93db-7d7d1b0843bf\",\"type\":\"Column\"}]},\"id\":\"ac320902-ee20-45c0-8560-e4ed928f7ec2\",\"type\":\"Column\"},{\"attributes\":{\"items\":[{\"id\":\"d7e9d9a1-729a-4997-b642-56d7aa91eefe\",\"type\":\"LegendItem\"},{\"id\":\"852fd6c1-f93a-483e-8ef2-75ef5127b537\",\"type\":\"LegendItem\"},{\"id\":\"df1a1d9d-18f4-4a19-b256-93966e379a82\",\"type\":\"LegendItem\"}],\"label_text_font_size\":{\"value\":\"8pt\"},\"location\":[10,-30],\"plot\":{\"id\":\"bf2f2d5f-7b23-434e-8804-16f204eef7b5\",\"subtype\":\"Figure\",\"type\":\"Plot\"}},\"id\":\"9ec8e977-3019-42b2-a7b4-1b4482b13228\",\"type\":\"Legend\"},{\"attributes\":{},\"id\":\"5bb65d58-5567-4219-9804-3a9e20dee941\",\"type\":\"WheelZoomTool\"},{\"attributes\":{\"plot\":{\"id\":\"1c06d5e5-3fff-494f-b7d8-2d1ce1fd2695\",\"subtype\":\"Figure\",\"type\":\"Plot\"},\"ticker\":{\"id\":\"a0fa1b77-36e6-41bf-a9f7-8e842dc8955d\",\"type\":\"BasicTicker\"}},\"id\":\"fec8885e-0ea4-4e7e-9f59-c08afd3c7621\",\"type\":\"Grid\"},{\"attributes\":{\"line_alpha\":0.1,\"line_color\":\"#1f77b4\",\"line_width\":3,\"x\":{\"field\":\"x\"},\"y\":{\"field\":\"y\"}},\"id\":\"441db81b-de31-4b0f-a5a0-c2c79e4f2b77\",\"type\":\"Line\"},{\"attributes\":{\"data_source\":{\"id\":\"0d5ac477-203f-4ba1-88b8-6880cb2321bf\",\"type\":\"ColumnDataSource\"},\"glyph\":{\"id\":\"482979ce-7b13-4dfc-abbf-3a7ce26e0587\",\"type\":\"Line\"},\"hover_glyph\":null,\"muted_glyph\":null,\"nonselection_glyph\":{\"id\":\"441db81b-de31-4b0f-a5a0-c2c79e4f2b77\",\"type\":\"Line\"},\"selection_glyph\":null,\"view\":{\"id\":\"96b08031-2c78-43e9-bb5e-d030d815733e\",\"type\":\"CDSView\"}},\"id\":\"8c3b22f5-2a77-4a93-bec5-58ea80a1066c\",\"type\":\"GlyphRenderer\"},{\"attributes\":{\"source\":{\"id\":\"3ed81ef4-c3a8-41bd-9ed1-d44b6c85c847\",\"type\":\"ColumnDataSource\"}},\"id\":\"8a25db04-0d17-47d8-8617-d521cbb65b77\",\"type\":\"CDSView\"},{\"attributes\":{\"source\":{\"id\":\"79e7ff55-e88e-4c12-9be4-528fffcdac4a\",\"type\":\"ColumnDataSource\"}},\"id\":\"1aea0585-5aa4-4e74-b443-cd9e01c698c6\",\"type\":\"CDSView\"},{\"attributes\":{\"line_alpha\":0.6,\"line_color\":\"#e41a1c\",\"line_dash\":[6],\"line_width\":5,\"x\":{\"field\":\"x\"},\"y\":{\"field\":\"y\"}},\"id\":\"93578bbb-1acc-4c5b-80a2-b444c31c505e\",\"type\":\"Line\"},{\"attributes\":{\"tools\":[{\"id\":\"a750a50a-5cab-46e9-ae03-6285db86d647\",\"type\":\"PanTool\"},{\"id\":\"a62c4e5a-870b-49b6-ab8b-6e3bfa5bc266\",\"type\":\"WheelZoomTool\"},{\"id\":\"ba5929c2-f313-4bc4-bc96-4e3563650564\",\"type\":\"BoxZoomTool\"},{\"id\":\"e3524870-5bbd-4ab5-91c0-8afac7f0ada3\",\"type\":\"SaveTool\"},{\"id\":\"d09d9cc2-5c3c-4fa1-991d-5841e28012ed\",\"type\":\"ResetTool\"},{\"id\":\"09c44dc8-1942-4562-b9a2-2589af7110a0\",\"type\":\"HelpTool\"},{\"id\":\"19a869ac-21af-43bf-863e-a5154eb3b407\",\"type\":\"PanTool\"},{\"id\":\"5bb65d58-5567-4219-9804-3a9e20dee941\",\"type\":\"WheelZoomTool\"},{\"id\":\"0d15ef26-c9fa-493b-80f9-a5cd41b1a838\",\"type\":\"BoxZoomTool\"},{\"id\":\"975b472d-545c-4a95-8ffb-7d4146e57252\",\"type\":\"SaveTool\"},{\"id\":\"262b1528-76e9-49fd-8926-35391a8d2035\",\"type\":\"ResetTool\"},{\"id\":\"ca292bd3-188b-4b7c-998a-707d5bff7a86\",\"type\":\"HelpTool\"}]},\"id\":\"505d0287-cff5-46c8-b011-0bdc81df35a0\",\"type\":\"ProxyToolbar\"},{\"attributes\":{},\"id\":\"19a869ac-21af-43bf-863e-a5154eb3b407\",\"type\":\"PanTool\"},{\"attributes\":{\"children\":[{\"id\":\"2ee921b3-be41-4b1f-acd6-5a23e52d0d95\",\"type\":\"Row\"}]},\"id\":\"0e759e4f-e8e4-47d8-93db-7d7d1b0843bf\",\"type\":\"Column\"},{\"attributes\":{\"source\":{\"id\":\"d1d4a135-5518-499a-91ce-82abfcecbf7c\",\"type\":\"ColumnDataSource\"}},\"id\":\"2e710248-1809-4dde-922e-e90df5c1a091\",\"type\":\"CDSView\"},{\"attributes\":{\"children\":[{\"id\":\"1c06d5e5-3fff-494f-b7d8-2d1ce1fd2695\",\"subtype\":\"Figure\",\"type\":\"Plot\"},{\"id\":\"bf2f2d5f-7b23-434e-8804-16f204eef7b5\",\"subtype\":\"Figure\",\"type\":\"Plot\"}]},\"id\":\"2ee921b3-be41-4b1f-acd6-5a23e52d0d95\",\"type\":\"Row\"},{\"attributes\":{},\"id\":\"a62c4e5a-870b-49b6-ab8b-6e3bfa5bc266\",\"type\":\"WheelZoomTool\"},{\"attributes\":{\"toolbar\":{\"id\":\"505d0287-cff5-46c8-b011-0bdc81df35a0\",\"type\":\"ProxyToolbar\"},\"toolbar_location\":\"above\"},\"id\":\"ba284340-a3d7-4255-a2c4-f970ac57782f\",\"type\":\"ToolbarBox\"},{\"attributes\":{\"num_minor_ticks\":10},\"id\":\"71040c54-4a04-462e-8089-4aefb7a7f316\",\"type\":\"LogTicker\"},{\"attributes\":{\"active_drag\":\"auto\",\"active_inspect\":\"auto\",\"active_scroll\":\"auto\",\"active_tap\":\"auto\",\"tools\":[{\"id\":\"19a869ac-21af-43bf-863e-a5154eb3b407\",\"type\":\"PanTool\"},{\"id\":\"5bb65d58-5567-4219-9804-3a9e20dee941\",\"type\":\"WheelZoomTool\"},{\"id\":\"0d15ef26-c9fa-493b-80f9-a5cd41b1a838\",\"type\":\"BoxZoomTool\"},{\"id\":\"975b472d-545c-4a95-8ffb-7d4146e57252\",\"type\":\"SaveTool\"},{\"id\":\"262b1528-76e9-49fd-8926-35391a8d2035\",\"type\":\"ResetTool\"},{\"id\":\"ca292bd3-188b-4b7c-998a-707d5bff7a86\",\"type\":\"HelpTool\"}]},\"id\":\"fc1de180-c3b0-4e2b-ab29-a62ca5a32044\",\"type\":\"Toolbar\"},{\"attributes\":{\"overlay\":{\"id\":\"de667e7f-0094-4565-a712-aad9441091f9\",\"type\":\"BoxAnnotation\"}},\"id\":\"0d15ef26-c9fa-493b-80f9-a5cd41b1a838\",\"type\":\"BoxZoomTool\"},{\"attributes\":{\"plot\":null,\"text\":\"Log pressure scale\"},\"id\":\"3f0cee5d-5df8-4e73-bf70-f47889dfc2c1\",\"type\":\"Title\"},{\"attributes\":{\"label\":{\"value\":\"CRD\"},\"renderers\":[{\"id\":\"3b5547d7-795b-4117-ae82-9f4bb4618000\",\"type\":\"GlyphRenderer\"},{\"id\":\"0bc9fe31-5fa6-483e-b20d-02f377a9e4ae\",\"type\":\"GlyphRenderer\"}]},\"id\":\"852fd6c1-f93a-483e-8ef2-75ef5127b537\",\"type\":\"LegendItem\"},{\"attributes\":{},\"id\":\"503d8da9-d117-4382-acb3-90b729a23b95\",\"type\":\"BasicTickFormatter\"},{\"attributes\":{\"below\":[{\"id\":\"dd33946e-29ef-4d69-b370-5b4865af4c3c\",\"type\":\"LinearAxis\"}],\"left\":[{\"id\":\"04768a7f-62a7-42dd-801d-67cb8f95f0f8\",\"type\":\"LogAxis\"}],\"plot_height\":500,\"plot_width\":560,\"renderers\":[{\"id\":\"dd33946e-29ef-4d69-b370-5b4865af4c3c\",\"type\":\"LinearAxis\"},{\"id\":\"3aef2991-024d-4772-9503-92414a29278e\",\"type\":\"Grid\"},{\"id\":\"04768a7f-62a7-42dd-801d-67cb8f95f0f8\",\"type\":\"LogAxis\"},{\"id\":\"3d75a865-e115-4267-bb23-c08ae561c1cf\",\"type\":\"Grid\"},{\"id\":\"de667e7f-0094-4565-a712-aad9441091f9\",\"type\":\"BoxAnnotation\"},{\"id\":\"e8f4d48a-d03b-44bb-8fdf-9dacc63fe920\",\"type\":\"GlyphRenderer\"},{\"id\":\"3b5547d7-795b-4117-ae82-9f4bb4618000\",\"type\":\"GlyphRenderer\"},{\"id\":\"0bc9fe31-5fa6-483e-b20d-02f377a9e4ae\",\"type\":\"GlyphRenderer\"},{\"id\":\"9d777722-0882-4cfa-b237-c44b12d114b4\",\"type\":\"GlyphRenderer\"},{\"id\":\"8c3b22f5-2a77-4a93-bec5-58ea80a1066c\",\"type\":\"GlyphRenderer\"},{\"id\":\"9ec8e977-3019-42b2-a7b4-1b4482b13228\",\"type\":\"Legend\"}],\"right\":[{\"id\":\"9ec8e977-3019-42b2-a7b4-1b4482b13228\",\"type\":\"Legend\"}],\"title\":{\"id\":\"3f0cee5d-5df8-4e73-bf70-f47889dfc2c1\",\"type\":\"Title\"},\"toolbar\":{\"id\":\"fc1de180-c3b0-4e2b-ab29-a62ca5a32044\",\"type\":\"Toolbar\"},\"toolbar_location\":null,\"x_range\":{\"id\":\"906f52ca-bfc0-4812-b1a4-b2beee838961\",\"type\":\"Range1d\"},\"x_scale\":{\"id\":\"02ea0829-ad55-4f06-acc2-8c03b47ebdf1\",\"type\":\"LinearScale\"},\"y_range\":{\"id\":\"ffc45476-badf-49f8-bf0b-88c09e8ae584\",\"type\":\"Range1d\"},\"y_scale\":{\"id\":\"b94b193e-b92b-4d7f-b7f6-0718c6cbb2be\",\"type\":\"LogScale\"}},\"id\":\"bf2f2d5f-7b23-434e-8804-16f204eef7b5\",\"subtype\":\"Figure\",\"type\":\"Plot\"},{\"attributes\":{\"line_color\":\"#4daf4a\",\"line_width\":1.5,\"x\":{\"field\":\"x\"},\"y\":{\"field\":\"y\"}},\"id\":\"02615514-ed9f-40c6-abeb-78ae5c2778f0\",\"type\":\"Line\"},{\"attributes\":{\"bottom_units\":\"screen\",\"fill_alpha\":{\"value\":0.5},\"fill_color\":{\"value\":\"lightgrey\"},\"left_units\":\"screen\",\"level\":\"overlay\",\"line_alpha\":{\"value\":1.0},\"line_color\":{\"value\":\"black\"},\"line_dash\":[4,4],\"line_width\":{\"value\":2},\"plot\":null,\"render_mode\":\"css\",\"right_units\":\"screen\",\"top_units\":\"screen\"},\"id\":\"de667e7f-0094-4565-a712-aad9441091f9\",\"type\":\"BoxAnnotation\"},{\"attributes\":{},\"id\":\"8eed499a-d88c-4832-a6b6-c793e7dc37dd\",\"type\":\"LinearScale\"},{\"attributes\":{},\"id\":\"78072454-1f21-4c1b-8302-baf43951340a\",\"type\":\"BasicTicker\"},{\"attributes\":{\"callback\":null,\"end\":0.01,\"start\":1020},\"id\":\"ffc45476-badf-49f8-bf0b-88c09e8ae584\",\"type\":\"Range1d\"},{\"attributes\":{},\"id\":\"f6cbfa58-4403-4945-908c-669eafb85a7a\",\"type\":\"BasicTickFormatter\"},{\"attributes\":{\"active_drag\":\"auto\",\"active_inspect\":\"auto\",\"active_scroll\":\"auto\",\"active_tap\":\"auto\",\"tools\":[{\"id\":\"a750a50a-5cab-46e9-ae03-6285db86d647\",\"type\":\"PanTool\"},{\"id\":\"a62c4e5a-870b-49b6-ab8b-6e3bfa5bc266\",\"type\":\"WheelZoomTool\"},{\"id\":\"ba5929c2-f313-4bc4-bc96-4e3563650564\",\"type\":\"BoxZoomTool\"},{\"id\":\"e3524870-5bbd-4ab5-91c0-8afac7f0ada3\",\"type\":\"SaveTool\"},{\"id\":\"d09d9cc2-5c3c-4fa1-991d-5841e28012ed\",\"type\":\"ResetTool\"},{\"id\":\"09c44dc8-1942-4562-b9a2-2589af7110a0\",\"type\":\"HelpTool\"}]},\"id\":\"f2e092c5-67ba-4e98-9b98-2c94978190c2\",\"type\":\"Toolbar\"},{\"attributes\":{\"data_source\":{\"id\":\"1caa6478-6d2c-49ec-8eec-babc7a5124a2\",\"type\":\"ColumnDataSource\"},\"glyph\":{\"id\":\"87653e48-3531-4eaa-a373-3cc6bdc2a65c\",\"type\":\"Square\"},\"hover_glyph\":null,\"muted_glyph\":null,\"nonselection_glyph\":{\"id\":\"1b020b61-d6c2-4790-9d77-c2c14e2bde99\",\"type\":\"Square\"},\"selection_glyph\":null,\"view\":{\"id\":\"e7d6da57-b7ca-4c5e-8f0c-582ee498e25f\",\"type\":\"CDSView\"}},\"id\":\"3a7931aa-c899-4ce0-acc6-86e9ae7e03f1\",\"type\":\"GlyphRenderer\"},{\"attributes\":{\"line_alpha\":0.1,\"line_color\":\"#1f77b4\",\"line_dash\":[6],\"line_width\":5,\"x\":{\"field\":\"x\"},\"y\":{\"field\":\"y\"}},\"id\":\"54515f4c-1cb5-4aaf-8272-37ffe691106b\",\"type\":\"Line\"},{\"attributes\":{\"source\":{\"id\":\"63327bb9-85d8-4942-abaf-4d4f7e87203f\",\"type\":\"ColumnDataSource\"}},\"id\":\"8613139b-1a25-4913-9110-fa3da1905f66\",\"type\":\"CDSView\"},{\"attributes\":{\"data_source\":{\"id\":\"63327bb9-85d8-4942-abaf-4d4f7e87203f\",\"type\":\"ColumnDataSource\"},\"glyph\":{\"id\":\"93578bbb-1acc-4c5b-80a2-b444c31c505e\",\"type\":\"Line\"},\"hover_glyph\":null,\"muted_glyph\":null,\"nonselection_glyph\":{\"id\":\"54515f4c-1cb5-4aaf-8272-37ffe691106b\",\"type\":\"Line\"},\"selection_glyph\":null,\"view\":{\"id\":\"8613139b-1a25-4913-9110-fa3da1905f66\",\"type\":\"CDSView\"}},\"id\":\"e8f4d48a-d03b-44bb-8fdf-9dacc63fe920\",\"type\":\"GlyphRenderer\"},{\"attributes\":{\"axis_label\":\"pressure [mb]\",\"formatter\":{\"id\":\"f6cbfa58-4403-4945-908c-669eafb85a7a\",\"type\":\"BasicTickFormatter\"},\"plot\":{\"id\":\"1c06d5e5-3fff-494f-b7d8-2d1ce1fd2695\",\"subtype\":\"Figure\",\"type\":\"Plot\"},\"ticker\":{\"id\":\"78072454-1f21-4c1b-8302-baf43951340a\",\"type\":\"BasicTicker\"}},\"id\":\"c1ea75bf-d14c-4faa-9a1a-62f10e657375\",\"type\":\"LinearAxis\"},{\"attributes\":{\"callback\":null,\"column_names\":[\"x\",\"y\"],\"data\":{\"x\":{\"__ndarray__\":\"ZKhxDFQIzD9OP4/uc77OP0gZcQFoFNQ/vKbuZwQd2T8QTyPreGXeP9CUAKkL4OE/0lRw9AiA5D8cNIm0bPHmPz+GM2ThEOk/YcccV2W36j/rfA37HMPrP9f1j65nIuw/23lN1V7g6z+NYW/eD4rqP21ce3Yr8ec/c6I8d6s85T+Se/Rl7T/jP3vgnVtsA+I//gvj8khx4T9BGLKZx4rhP/wUruS2n+I/lUnsXhdT4T+7FVfPKKHaPxJujWN/NNQ/P2Vnl5CLzz9tpzFKZUTIP5kgdujsy8E/TfPQb0Zquj+ufOrmTwy2PyBLfyzNeLM/tIeQzzjIsD9nhpRsY1arPyY0sQ+eSKg/bmuC3e3QqD/IlA9B1eioPwOWgoyFw6g/mNSRohxsqD/OyMIFEKamP36pTvAVKaQ/NAowyVQDoj+IyPCl3r2fP3XNGY49NJs/4IVZ2jwdlj+XyCsuk4OPP9KbIN45I30/FLuJpJU3cj97AKlSVZaIP1IU0XcDQZY/NouMGLo1nj+Vqv5SUJuiP8FLAU2q1KU/AJxbRLvaqD8tQ8uj47arP7meWA+ubK4/TVrNRw1+sD+Z85E2g6+xP//bs05fxrI/XSKYHNe8sz99cGf03Yy0P1cz5DjtMrU/vAVoFPiutT9QhVZfEQe2P9vWMvPGRLY/mguj8/Z0tj/keo29FKe2PyhqGiix6rY/vGcYz4RMtz/IlPtc7sW3Pz9ZfepiF7g/+mmk8YC8tz9Q9znyy1a2P3UpzIBVI7Q/gK+aR/uosT8fjqZhlV6uPyfS0hwmCKk/\",\"dtype\":\"float64\",\"shape\":[75]},\"y\":{\"__ndarray__\":\"GhExyth1ND/Sv8nbtpRIP2vylNV0PVE/aTum7souWD/At0SJ8fVgPw3Iuahxymc/MSNhhJWvcD/bTfBN02d3P2zb5nxnaoA/CD5h5MAGhz8NmeH1TyaQP+zrCsc9p5Y/LbKd76fGnz/bLW5ISEmmPww9YvTcQq8/JV2OstnstT8Er5Y7M8G+P0c+r3jqkcU/5h99k6ZBzj88bCIzFzjVP4enV8oyxN0//yH99nXg5D8qOpLLf0jtP5kqGJXUifQ/c9cS8kHP/D+/DpwzojQEQIEmwoanVwxA4lgXt9HgE0BSSZ2AJuIbQAMJih9jjiNA5q4l5INuK0AwTKYKRj0zQNv5fmq8/DpAaCJseHrtQkB/+zpwzoxKQM3MzMzMeFJAZmZmZmZqWEAAAAAAAFxeQM3MzMzMJmJAmpmZmZkfZUBmZmZmZhhoQDMzMzMzEWtAAAAAAAAKbkBmZmZmZoFwQM3MzMzM/XFAMzMzMzN6c0CamZmZmfZ0QAAAAAAAc3ZAZmZmZmbvd0DNzMzMzGt5QDMzMzMz6HpAmpmZmZlkfEAAAAAAAOF9QGZmZmZmXX9AZmZmZuZsgECamZmZGSuBQM3MzMxM6YFAAAAAAICngkAzMzMzs2WDQGZmZmbmI4RAmpmZmRnihEDNzMzMTKCFQAAAAACAXoZAMzMzM7Mch0BmZmZm5tqHQJqZmZkZmYhAzczMzExXiUAAAAAAgBWKQDMzMzOz04pAZmZmZuaRi0CamZmZGVCMQM3MzMxMDo1AAAAAAIDMjUAzMzMzs4qOQGZmZmbmSI9A\",\"dtype\":\"float64\",\"shape\":[75]}}},\"id\":\"79e7ff55-e88e-4c12-9be4-528fffcdac4a\",\"type\":\"ColumnDataSource\"},{\"attributes\":{\"axis_label\":\"cooling rate [K/day]\",\"formatter\":{\"id\":\"503d8da9-d117-4382-acb3-90b729a23b95\",\"type\":\"BasicTickFormatter\"},\"plot\":{\"id\":\"1c06d5e5-3fff-494f-b7d8-2d1ce1fd2695\",\"subtype\":\"Figure\",\"type\":\"Plot\"},\"ticker\":{\"id\":\"a0fa1b77-36e6-41bf-a9f7-8e842dc8955d\",\"type\":\"BasicTicker\"}},\"id\":\"8ded48b5-c7c1-45e7-b2ec-62dbb04b24dd\",\"type\":\"LinearAxis\"},{\"attributes\":{},\"id\":\"18837230-1d6a-4349-86b4-d344de6a8d58\",\"type\":\"LinearScale\"}],\"root_ids\":[\"ac320902-ee20-45c0-8560-e4ed928f7ec2\"]},\"title\":\"Bokeh Application\",\"version\":\"0.12.14\"}};\n",
       "  var render_items = [{\"docid\":\"c230c148-a18b-4f20-9196-f2e7c5f44635\",\"elementid\":\"993a32eb-2c0f-4f24-b1d2-23bfa4352df3\",\"modelid\":\"ac320902-ee20-45c0-8560-e4ed928f7ec2\"}];\n",
       "  root.Bokeh.embed.embed_items_notebook(docs_json, render_items);\n",
       "\n",
       "  }\n",
       "  if (root.Bokeh !== undefined) {\n",
       "    embed_document(root);\n",
       "  } else {\n",
       "    var attempts = 0;\n",
       "    var timer = setInterval(function(root) {\n",
       "      if (root.Bokeh !== undefined) {\n",
       "        embed_document(root);\n",
       "        clearInterval(timer);\n",
       "      }\n",
       "      attempts++;\n",
       "      if (attempts > 100) {\n",
       "        console.log(\"Bokeh: ERROR: Unable to run BokehJS code because BokehJS library is missing\")\n",
       "        clearInterval(timer);\n",
       "      }\n",
       "    }, 10, root)\n",
       "  }\n",
       "})(window);"
      ],
      "application/vnd.bokehjs_exec.v0+json": ""
     },
     "metadata": {
      "application/vnd.bokehjs_exec.v0+json": {
       "id": "ac320902-ee20-45c0-8560-e4ed928f7ec2"
      }
     },
     "output_type": "display_data"
    },
    {
     "name": "stdout",
     "output_type": "stream",
     "text": [
      "FIGURE. Cooling rate profiles.\n"
     ]
    },
    {
     "data": {
      "text/html": [
       "<a id=\"Flux_Comparison\"></a>"
      ],
      "text/plain": [
       "<IPython.core.display.HTML object>"
      ]
     },
     "metadata": {},
     "output_type": "display_data"
    },
    {
     "data": {
      "text/markdown": [
       "# Flux Comparison"
      ],
      "text/plain": [
       "<IPython.core.display.Markdown object>"
      ]
     },
     "metadata": {},
     "output_type": "display_data"
    },
    {
     "data": {
      "text/html": [
       "<div>\n",
       "<style>\n",
       "    .dataframe thead tr:only-child th {\n",
       "        text-align: right;\n",
       "    }\n",
       "\n",
       "    .dataframe thead th {\n",
       "        text-align: left;\n",
       "    }\n",
       "\n",
       "    .dataframe tbody tr th {\n",
       "        vertical-align: top;\n",
       "    }\n",
       "</style>\n",
       "<table border=\"1\" class=\"dataframe\">\n",
       "  <thead>\n",
       "    <tr style=\"text-align: right;\">\n",
       "      <th></th>\n",
       "      <th></th>\n",
       "      <th>flug</th>\n",
       "      <th>fldg</th>\n",
       "      <th>fnetg</th>\n",
       "    </tr>\n",
       "    <tr>\n",
       "      <th>pressure</th>\n",
       "      <th>level</th>\n",
       "      <th></th>\n",
       "      <th></th>\n",
       "      <th></th>\n",
       "    </tr>\n",
       "  </thead>\n",
       "  <tbody>\n",
       "    <tr>\n",
       "      <th>0.0000</th>\n",
       "      <th>1</th>\n",
       "      <td>-20.785670</td>\n",
       "      <td>0.000000</td>\n",
       "      <td>-20.785670</td>\n",
       "    </tr>\n",
       "    <tr>\n",
       "      <th>1.0685</th>\n",
       "      <th>24</th>\n",
       "      <td>-20.773412</td>\n",
       "      <td>0.051495</td>\n",
       "      <td>-20.721917</td>\n",
       "    </tr>\n",
       "    <tr>\n",
       "      <th>1013.0000</th>\n",
       "      <th>76</th>\n",
       "      <td>-23.591138</td>\n",
       "      <td>10.016948</td>\n",
       "      <td>-13.574190</td>\n",
       "    </tr>\n",
       "  </tbody>\n",
       "</table>\n",
       "</div>"
      ],
      "text/plain": [
       "                      flug       fldg      fnetg\n",
       "pressure  level                                 \n",
       "0.0000    1     -20.785670   0.000000 -20.785670\n",
       "1.0685    24    -20.773412   0.051495 -20.721917\n",
       "1013.0000 76    -23.591138  10.016948 -13.574190"
      ]
     },
     "metadata": {},
     "output_type": "display_data"
    },
    {
     "name": "stdout",
     "output_type": "stream",
     "text": [
      "Table. Fluxes. WGT igg=10 wgt_flux=1\n"
     ]
    },
    {
     "data": {
      "text/html": [
       "<div>\n",
       "<style>\n",
       "    .dataframe thead tr:only-child th {\n",
       "        text-align: right;\n",
       "    }\n",
       "\n",
       "    .dataframe thead th {\n",
       "        text-align: left;\n",
       "    }\n",
       "\n",
       "    .dataframe tbody tr th {\n",
       "        vertical-align: top;\n",
       "    }\n",
       "</style>\n",
       "<table border=\"1\" class=\"dataframe\">\n",
       "  <thead>\n",
       "    <tr style=\"text-align: right;\">\n",
       "      <th></th>\n",
       "      <th></th>\n",
       "      <th>flug</th>\n",
       "      <th>fldg</th>\n",
       "      <th>fnetg</th>\n",
       "    </tr>\n",
       "    <tr>\n",
       "      <th>pressure</th>\n",
       "      <th>level</th>\n",
       "      <th></th>\n",
       "      <th></th>\n",
       "      <th></th>\n",
       "    </tr>\n",
       "  </thead>\n",
       "  <tbody>\n",
       "    <tr>\n",
       "      <th>0.0000</th>\n",
       "      <th>1</th>\n",
       "      <td>-20.836798</td>\n",
       "      <td>0.000000</td>\n",
       "      <td>-20.836798</td>\n",
       "    </tr>\n",
       "    <tr>\n",
       "      <th>1.0685</th>\n",
       "      <th>24</th>\n",
       "      <td>-20.824109</td>\n",
       "      <td>0.055119</td>\n",
       "      <td>-20.768990</td>\n",
       "    </tr>\n",
       "    <tr>\n",
       "      <th>1013.0000</th>\n",
       "      <th>76</th>\n",
       "      <td>-23.591138</td>\n",
       "      <td>9.775480</td>\n",
       "      <td>-13.815657</td>\n",
       "    </tr>\n",
       "  </tbody>\n",
       "</table>\n",
       "</div>"
      ],
      "text/plain": [
       "                      flug      fldg      fnetg\n",
       "pressure  level                                \n",
       "0.0000    1     -20.836798  0.000000 -20.836798\n",
       "1.0685    24    -20.824109  0.055119 -20.768990\n",
       "1013.0000 76    -23.591138  9.775480 -13.815657"
      ]
     },
     "metadata": {},
     "output_type": "display_data"
    },
    {
     "name": "stdout",
     "output_type": "stream",
     "text": [
      "Table. Fluxes. CRD\n"
     ]
    },
    {
     "data": {
      "text/html": [
       "<div>\n",
       "<style>\n",
       "    .dataframe thead tr:only-child th {\n",
       "        text-align: right;\n",
       "    }\n",
       "\n",
       "    .dataframe thead th {\n",
       "        text-align: left;\n",
       "    }\n",
       "\n",
       "    .dataframe tbody tr th {\n",
       "        vertical-align: top;\n",
       "    }\n",
       "</style>\n",
       "<table border=\"1\" class=\"dataframe\">\n",
       "  <thead>\n",
       "    <tr style=\"text-align: right;\">\n",
       "      <th></th>\n",
       "      <th></th>\n",
       "      <th>flug</th>\n",
       "      <th>fldg</th>\n",
       "      <th>fnetg</th>\n",
       "    </tr>\n",
       "    <tr>\n",
       "      <th>pressure</th>\n",
       "      <th>level</th>\n",
       "      <th></th>\n",
       "      <th></th>\n",
       "      <th></th>\n",
       "    </tr>\n",
       "  </thead>\n",
       "  <tbody>\n",
       "    <tr>\n",
       "      <th>1.000000e-08</th>\n",
       "      <th>1</th>\n",
       "      <td>-20.847076</td>\n",
       "      <td>0.000002</td>\n",
       "      <td>-20.847075</td>\n",
       "    </tr>\n",
       "    <tr>\n",
       "      <th>1.068500e+00</th>\n",
       "      <th>24</th>\n",
       "      <td>-20.835012</td>\n",
       "      <td>0.049043</td>\n",
       "      <td>-20.785969</td>\n",
       "    </tr>\n",
       "    <tr>\n",
       "      <th>1.013000e+03</th>\n",
       "      <th>76</th>\n",
       "      <td>-23.591141</td>\n",
       "      <td>10.023701</td>\n",
       "      <td>-13.567440</td>\n",
       "    </tr>\n",
       "  </tbody>\n",
       "</table>\n",
       "</div>"
      ],
      "text/plain": [
       "                         flug       fldg      fnetg\n",
       "pressure     level                                 \n",
       "1.000000e-08 1     -20.847076   0.000002 -20.847075\n",
       "1.068500e+00 24    -20.835012   0.049043 -20.785969\n",
       "1.013000e+03 76    -23.591141  10.023701 -13.567440"
      ]
     },
     "metadata": {},
     "output_type": "display_data"
    },
    {
     "name": "stdout",
     "output_type": "stream",
     "text": [
      "Table. Fluxes. CLIRAD\n"
     ]
    },
    {
     "data": {
      "text/html": [
       "<div>\n",
       "<style>\n",
       "    .dataframe thead tr:only-child th {\n",
       "        text-align: right;\n",
       "    }\n",
       "\n",
       "    .dataframe thead th {\n",
       "        text-align: left;\n",
       "    }\n",
       "\n",
       "    .dataframe tbody tr th {\n",
       "        vertical-align: top;\n",
       "    }\n",
       "</style>\n",
       "<table border=\"1\" class=\"dataframe\">\n",
       "  <thead>\n",
       "    <tr style=\"text-align: right;\">\n",
       "      <th></th>\n",
       "      <th></th>\n",
       "      <th>flug</th>\n",
       "      <th>fldg</th>\n",
       "      <th>fnetg</th>\n",
       "    </tr>\n",
       "    <tr>\n",
       "      <th>pressure</th>\n",
       "      <th>level</th>\n",
       "      <th></th>\n",
       "      <th></th>\n",
       "      <th></th>\n",
       "    </tr>\n",
       "  </thead>\n",
       "  <tbody>\n",
       "    <tr>\n",
       "      <th>0.0000</th>\n",
       "      <th>1</th>\n",
       "      <td>-5.112800e-02</td>\n",
       "      <td>0.000000</td>\n",
       "      <td>-0.051128</td>\n",
       "    </tr>\n",
       "    <tr>\n",
       "      <th>1.0685</th>\n",
       "      <th>24</th>\n",
       "      <td>-5.069663e-02</td>\n",
       "      <td>0.003624</td>\n",
       "      <td>-0.047073</td>\n",
       "    </tr>\n",
       "    <tr>\n",
       "      <th>1013.0000</th>\n",
       "      <th>76</th>\n",
       "      <td>-4.050000e-07</td>\n",
       "      <td>-0.241468</td>\n",
       "      <td>-0.241467</td>\n",
       "    </tr>\n",
       "  </tbody>\n",
       "</table>\n",
       "</div>"
      ],
      "text/plain": [
       "                         flug      fldg     fnetg\n",
       "pressure  level                                  \n",
       "0.0000    1     -5.112800e-02  0.000000 -0.051128\n",
       "1.0685    24    -5.069663e-02  0.003624 -0.047073\n",
       "1013.0000 76    -4.050000e-07 -0.241468 -0.241467"
      ]
     },
     "metadata": {},
     "output_type": "display_data"
    },
    {
     "name": "stdout",
     "output_type": "stream",
     "text": [
      "Table. Fluxes. (CRD) - (WGT igg=10 wgt_flux=1)\n"
     ]
    },
    {
     "data": {
      "text/html": [
       "<div>\n",
       "<style>\n",
       "    .dataframe thead tr:only-child th {\n",
       "        text-align: right;\n",
       "    }\n",
       "\n",
       "    .dataframe thead th {\n",
       "        text-align: left;\n",
       "    }\n",
       "\n",
       "    .dataframe tbody tr th {\n",
       "        vertical-align: top;\n",
       "    }\n",
       "</style>\n",
       "<table border=\"1\" class=\"dataframe\">\n",
       "  <thead>\n",
       "    <tr style=\"text-align: right;\">\n",
       "      <th></th>\n",
       "      <th></th>\n",
       "      <th>flug</th>\n",
       "      <th>fldg</th>\n",
       "      <th>fnetg</th>\n",
       "    </tr>\n",
       "    <tr>\n",
       "      <th>pressure</th>\n",
       "      <th>level</th>\n",
       "      <th></th>\n",
       "      <th></th>\n",
       "      <th></th>\n",
       "    </tr>\n",
       "  </thead>\n",
       "  <tbody>\n",
       "    <tr>\n",
       "      <th>0.0000</th>\n",
       "      <th>1</th>\n",
       "      <td>-0.061406</td>\n",
       "      <td>0.000002</td>\n",
       "      <td>-0.061405</td>\n",
       "    </tr>\n",
       "    <tr>\n",
       "      <th>1.0685</th>\n",
       "      <th>24</th>\n",
       "      <td>-0.061600</td>\n",
       "      <td>-0.002452</td>\n",
       "      <td>-0.064052</td>\n",
       "    </tr>\n",
       "    <tr>\n",
       "      <th>1013.0000</th>\n",
       "      <th>76</th>\n",
       "      <td>-0.000003</td>\n",
       "      <td>0.006753</td>\n",
       "      <td>0.006750</td>\n",
       "    </tr>\n",
       "  </tbody>\n",
       "</table>\n",
       "</div>"
      ],
      "text/plain": [
       "                     flug      fldg     fnetg\n",
       "pressure  level                              \n",
       "0.0000    1     -0.061406  0.000002 -0.061405\n",
       "1.0685    24    -0.061600 -0.002452 -0.064052\n",
       "1013.0000 76    -0.000003  0.006753  0.006750"
      ]
     },
     "metadata": {},
     "output_type": "display_data"
    },
    {
     "name": "stdout",
     "output_type": "stream",
     "text": [
      "Table. Fluxes. (CLIRAD) - (WGT igg=10 wgt_flux=1)\n"
     ]
    },
    {
     "data": {
      "text/html": [
       "<a id=\"Best-fit_Parameters\"></a>"
      ],
      "text/plain": [
       "<IPython.core.display.HTML object>"
      ]
     },
     "metadata": {},
     "output_type": "display_data"
    },
    {
     "data": {
      "text/markdown": [
       "# Best-fit Parameters"
      ],
      "text/plain": [
       "<IPython.core.display.Markdown object>"
      ]
     },
     "metadata": {},
     "output_type": "display_data"
    },
    {
     "name": "stdout",
     "output_type": "stream",
     "text": [
      "Best-fit values for each (gas, band)\n",
      "------------------------------------\n",
      "o co2 band3a\n",
      "  atmpro = mls\n",
      "  band = 3a\n",
      "  commitnumber = 5014a19\n",
      "  conc = 0.0004\n",
      "  dv = 0.01\n",
      "  klin = 6.375563e-24\n",
      "  molecule = co2\n",
      "  ng_adju = [0, 0, 0]\n",
      "  ng_refs = [3, 2, 4]\n",
      "  nv = 100\n",
      "  option_compute_btable = 0\n",
      "  option_compute_ktable = 1\n",
      "  option_wgt_flux = 1\n",
      "  option_wgt_k = 1\n",
      "  ref_pts = [(1, 250), (10, 250), (500, 250)]\n",
      "  tsfc = 294\n",
      "  vmax = 620\n",
      "  vmin = 540\n",
      "  w_diffuse = [(1.6, 1.6, 1.7), (1.75, 1.75), (1.55, 1.55, 1.6, 1.85)]\n",
      "  wgt = [(0.7, 0.3, 0.7), (0.7, 0.6), (0.4, 0.5, 0.8, 0.95)]\n"
     ]
    }
   ],
   "source": [
    "script()"
   ]
  },
  {
   "cell_type": "code",
   "execution_count": 13,
   "metadata": {
    "collapsed": true
   },
   "outputs": [
    {
     "data": {
      "text/html": [
       "<script>\n",
       "code_show=true; \n",
       "function code_toggle() {\n",
       " if (code_show){\n",
       " $('div.input').hide();\n",
       " } else {\n",
       " $('div.input').show();\n",
       " }\n",
       " code_show = !code_show\n",
       "} \n",
       "$( document ).ready(code_toggle);\n",
       "</script>\n",
       "<form action=\"javascript:code_toggle()\"><input type=\"submit\" value=\"Click here to toggle on/off the raw code.\"></form>"
      ],
      "text/plain": [
       "<IPython.core.display.HTML object>"
      ]
     },
     "execution_count": 13,
     "metadata": {},
     "output_type": "execute_result"
    }
   ],
   "source": [
    "display.HTML('''<script>\n",
    "code_show=true; \n",
    "function code_toggle() {\n",
    " if (code_show){\n",
    " $('div.input').hide();\n",
    " } else {\n",
    " $('div.input').show();\n",
    " }\n",
    " code_show = !code_show\n",
    "} \n",
    "$( document ).ready(code_toggle);\n",
    "</script>\n",
    "<form action=\"javascript:code_toggle()\"><input type=\"submit\" value=\"Click here to toggle on/off the raw code.\"></form>''')"
   ]
  }
 ],
 "metadata": {
  "kernelspec": {
   "display_name": "Python 3",
   "language": "python",
   "name": "python3"
  },
  "language_info": {
   "codemirror_mode": {
    "name": "ipython",
    "version": 3
   },
   "file_extension": ".py",
   "mimetype": "text/x-python",
   "name": "python",
   "nbconvert_exporter": "python",
   "pygments_lexer": "ipython3",
   "version": "3.6.1"
  }
 },
 "nbformat": 4,
 "nbformat_minor": 2
}
