{
 "cells": [
  {
   "cell_type": "code",
   "execution_count": 1,
   "metadata": {
    "collapsed": true
   },
   "outputs": [],
   "source": [
    "%matplotlib inline\n",
    "import os\n",
    "import re\n",
    "import io\n",
    "import itertools\n",
    "import pprint\n",
    "\n",
    "from bokeh.io import output_notebook, show\n",
    "from bokeh.layouts import gridplot\n",
    "from bokeh.plotting import figure\n",
    "from bokeh.models import Range1d, Legend\n",
    "from bokeh.palettes import all_palettes\n",
    "\n",
    "import matplotlib\n",
    "import matplotlib.pyplot as plt\n",
    "import numpy as np\n",
    "import pandas as pd\n",
    "import xarray as xr\n",
    "\n",
    "import climatools.lblnew.bestfit_params as bestfits\n",
    "from climatools.lblnew import setup_bestfit, setup_overlap\n",
    "import climatools.lblnew.pipeline as pipe_lblnew\n",
    "import climatools.cliradlw.setup as setup_cliradlw\n",
    "import climatools.cliradlw.pipeline as pipe_cliradlw\n",
    "\n",
    "import climatools.html.html as climahtml\n",
    "from climatools.lblnew.dataio import *\n",
    "from climatools.plot.plot import *\n",
    "\n",
    "\n",
    "import IPython.display as display"
   ]
  },
  {
   "cell_type": "code",
   "execution_count": 2,
   "metadata": {
    "collapsed": true
   },
   "outputs": [],
   "source": [
    "%run param.py"
   ]
  },
  {
   "cell_type": "code",
   "execution_count": 3,
   "metadata": {
    "collapsed": true
   },
   "outputs": [
    {
     "name": "stdout",
     "output_type": "stream",
     "text": [
      "The history saving thread hit an unexpected error (OperationalError('database is locked',)).History will not be written to the database.\n"
     ]
    }
   ],
   "source": [
    "def load_output_file(path_csv):\n",
    "    '''\n",
    "    Load lblnew output .csv file to xarray.Dataset\n",
    "    \n",
    "    Parameters\n",
    "    ----------\n",
    "    path_csv: str\n",
    "              Path to the .csv file to be loaded.\n",
    "    ds: xarray.Dataset\n",
    "        Data in the input file in the form of an xarray.Dataset.\n",
    "    '''\n",
    "    toindex = ['band', 'pressure', 'igg', 'g']    \n",
    "    df = pd.read_csv(path_csv, sep=r'\\s+')\n",
    "    df = df.set_index([i for i in toindex if i in df.columns])\n",
    "    df = df.rename(columns={'sfu': 'flug',\n",
    "                            'sfd': 'fldg',\n",
    "                            'fnet': 'fnetg',\n",
    "                            'coolr': 'coolrg'})\n",
    "    ds = xr.Dataset.from_dataframe(df)\n",
    "\n",
    "    for l in ('level', 'layer'):\n",
    "        if l in ds.data_vars:\n",
    "            if len(ds[l].dims) > 1:\n",
    "                surface = {d: 0 for d in ds.dims if d != 'pressure'}\n",
    "                coord_level = ds[l][surface]\n",
    "                ds.coords[l] = ('pressure', coord_level)\n",
    "            else:\n",
    "                ds.coords[l] = ('pressure', ds[l])\n",
    "    \n",
    "    return ds"
   ]
  },
  {
   "cell_type": "code",
   "execution_count": 4,
   "metadata": {
    "collapsed": true
   },
   "outputs": [],
   "source": [
    "def lblnew_setup(param=None):\n",
    "    if 'ng_refs' in param:\n",
    "        return {'setup': setup_bestfit,\n",
    "                'fname_flux_crd': 'output_flux.dat',\n",
    "                'fname_cool_crd': 'output_coolr.dat',\n",
    "                'fname_flux_wgt': 'output_wfluxg.dat',\n",
    "                'fname_cool_wgt': 'output_wcoolrg.dat'}\n",
    "    else:\n",
    "        return {'setup': setup_overlap,\n",
    "                'fname_flux_crd': 'output_flux.dat',\n",
    "                'fname_cool_crd': 'output_coolr.dat',\n",
    "                'fname_flux_wgt': 'output_wflux.dat',\n",
    "                'fname_cool_wgt': 'output_wcoolr.dat'}\n",
    "\n",
    "    \n",
    "def load_lblnew_data(param):\n",
    "    \n",
    "    fname_dsname = [('fname_flux_crd', 'ds_flux_crd'),\n",
    "                    ('fname_cool_crd', 'ds_cool_crd'),\n",
    "                    ('fname_flux_wgt', 'ds_flux_wgt'),\n",
    "                    ('fname_cool_wgt', 'ds_cool_wgt')]\n",
    "    \n",
    "    d = lblnew_setup(param)\n",
    "    dir_fortran = pipe_lblnew.get_dir_case(param, setup=d['setup'])\n",
    "    \n",
    "    data_dict = {}\n",
    "    for fname, dsname in fname_dsname:\n",
    "        fpath = os.path.join(dir_fortran, d[fname])\n",
    "        data_dict[dsname] = load_output_file(fpath)\n",
    "    return data_dict\n",
    "    \n",
    "\n",
    "    \n",
    "    "
   ]
  },
  {
   "cell_type": "code",
   "execution_count": 5,
   "metadata": {
    "collapsed": true
   },
   "outputs": [],
   "source": [
    "d = load_lblnew_data(PARAM_LBLNEW)\n",
    "\n",
    "DS_FLUX_CRD = d['ds_flux_crd']\n",
    "DS_COOL_CRD = d['ds_cool_crd']\n",
    "DS_FLUX_WGT = d['ds_flux_wgt']\n",
    "DS_COOL_WGT = d['ds_cool_wgt']"
   ]
  },
  {
   "cell_type": "code",
   "execution_count": 6,
   "metadata": {
    "collapsed": true
   },
   "outputs": [],
   "source": [
    "DIR_FORTRAN = pipe_cliradlw.get_fortran_dir(PARAM, \n",
    "                                            setup=setup_cliradlw)\n",
    "\n",
    "PATH_FLUX = os.path.join(DIR_FORTRAN, 'output_flux.dat')\n",
    "PATH_COOL = os.path.join(DIR_FORTRAN, 'output_coolr.dat')\n",
    "\n",
    "DS_FLUX = load_output_file(PATH_FLUX)\n",
    "DS_COOL = load_output_file(PATH_COOL)"
   ]
  },
  {
   "cell_type": "code",
   "execution_count": 7,
   "metadata": {
    "collapsed": true
   },
   "outputs": [
    {
     "data": {
      "text/html": [
       "\n",
       "    <div class=\"bk-root\">\n",
       "        <a href=\"https://bokeh.pydata.org\" target=\"_blank\" class=\"bk-logo bk-logo-small bk-logo-notebook\"></a>\n",
       "        <span id=\"928b7563-2f24-44e8-afe2-ef9b7d549af7\">Loading BokehJS ...</span>\n",
       "    </div>"
      ]
     },
     "metadata": {},
     "output_type": "display_data"
    },
    {
     "data": {
      "application/javascript": [
       "\n",
       "(function(root) {\n",
       "  function now() {\n",
       "    return new Date();\n",
       "  }\n",
       "\n",
       "  var force = true;\n",
       "\n",
       "  if (typeof (root._bokeh_onload_callbacks) === \"undefined\" || force === true) {\n",
       "    root._bokeh_onload_callbacks = [];\n",
       "    root._bokeh_is_loading = undefined;\n",
       "  }\n",
       "\n",
       "  var JS_MIME_TYPE = 'application/javascript';\n",
       "  var HTML_MIME_TYPE = 'text/html';\n",
       "  var EXEC_MIME_TYPE = 'application/vnd.bokehjs_exec.v0+json';\n",
       "  var CLASS_NAME = 'output_bokeh rendered_html';\n",
       "\n",
       "  /**\n",
       "   * Render data to the DOM node\n",
       "   */\n",
       "  function render(props, node) {\n",
       "    var script = document.createElement(\"script\");\n",
       "    node.appendChild(script);\n",
       "  }\n",
       "\n",
       "  /**\n",
       "   * Handle when an output is cleared or removed\n",
       "   */\n",
       "  function handleClearOutput(event, handle) {\n",
       "    var cell = handle.cell;\n",
       "\n",
       "    var id = cell.output_area._bokeh_element_id;\n",
       "    var server_id = cell.output_area._bokeh_server_id;\n",
       "    // Clean up Bokeh references\n",
       "    if (id !== undefined) {\n",
       "      Bokeh.index[id].model.document.clear();\n",
       "      delete Bokeh.index[id];\n",
       "    }\n",
       "\n",
       "    if (server_id !== undefined) {\n",
       "      // Clean up Bokeh references\n",
       "      var cmd = \"from bokeh.io.state import curstate; print(curstate().uuid_to_server['\" + server_id + \"'].get_sessions()[0].document.roots[0]._id)\";\n",
       "      cell.notebook.kernel.execute(cmd, {\n",
       "        iopub: {\n",
       "          output: function(msg) {\n",
       "            var element_id = msg.content.text.trim();\n",
       "            Bokeh.index[element_id].model.document.clear();\n",
       "            delete Bokeh.index[element_id];\n",
       "          }\n",
       "        }\n",
       "      });\n",
       "      // Destroy server and session\n",
       "      var cmd = \"import bokeh.io.notebook as ion; ion.destroy_server('\" + server_id + \"')\";\n",
       "      cell.notebook.kernel.execute(cmd);\n",
       "    }\n",
       "  }\n",
       "\n",
       "  /**\n",
       "   * Handle when a new output is added\n",
       "   */\n",
       "  function handleAddOutput(event, handle) {\n",
       "    var output_area = handle.output_area;\n",
       "    var output = handle.output;\n",
       "\n",
       "    // limit handleAddOutput to display_data with EXEC_MIME_TYPE content only\n",
       "    if ((output.output_type != \"display_data\") || (!output.data.hasOwnProperty(EXEC_MIME_TYPE))) {\n",
       "      return\n",
       "    }\n",
       "\n",
       "    var toinsert = output_area.element.find(\".\" + CLASS_NAME.split(' ')[0]);\n",
       "\n",
       "    if (output.metadata[EXEC_MIME_TYPE][\"id\"] !== undefined) {\n",
       "      toinsert[0].firstChild.textContent = output.data[JS_MIME_TYPE];\n",
       "      // store reference to embed id on output_area\n",
       "      output_area._bokeh_element_id = output.metadata[EXEC_MIME_TYPE][\"id\"];\n",
       "    }\n",
       "    if (output.metadata[EXEC_MIME_TYPE][\"server_id\"] !== undefined) {\n",
       "      var bk_div = document.createElement(\"div\");\n",
       "      bk_div.innerHTML = output.data[HTML_MIME_TYPE];\n",
       "      var script_attrs = bk_div.children[0].attributes;\n",
       "      for (var i = 0; i < script_attrs.length; i++) {\n",
       "        toinsert[0].firstChild.setAttribute(script_attrs[i].name, script_attrs[i].value);\n",
       "      }\n",
       "      // store reference to server id on output_area\n",
       "      output_area._bokeh_server_id = output.metadata[EXEC_MIME_TYPE][\"server_id\"];\n",
       "    }\n",
       "  }\n",
       "\n",
       "  function register_renderer(events, OutputArea) {\n",
       "\n",
       "    function append_mime(data, metadata, element) {\n",
       "      // create a DOM node to render to\n",
       "      var toinsert = this.create_output_subarea(\n",
       "        metadata,\n",
       "        CLASS_NAME,\n",
       "        EXEC_MIME_TYPE\n",
       "      );\n",
       "      this.keyboard_manager.register_events(toinsert);\n",
       "      // Render to node\n",
       "      var props = {data: data, metadata: metadata[EXEC_MIME_TYPE]};\n",
       "      render(props, toinsert[0]);\n",
       "      element.append(toinsert);\n",
       "      return toinsert\n",
       "    }\n",
       "\n",
       "    /* Handle when an output is cleared or removed */\n",
       "    events.on('clear_output.CodeCell', handleClearOutput);\n",
       "    events.on('delete.Cell', handleClearOutput);\n",
       "\n",
       "    /* Handle when a new output is added */\n",
       "    events.on('output_added.OutputArea', handleAddOutput);\n",
       "\n",
       "    /**\n",
       "     * Register the mime type and append_mime function with output_area\n",
       "     */\n",
       "    OutputArea.prototype.register_mime_type(EXEC_MIME_TYPE, append_mime, {\n",
       "      /* Is output safe? */\n",
       "      safe: true,\n",
       "      /* Index of renderer in `output_area.display_order` */\n",
       "      index: 0\n",
       "    });\n",
       "  }\n",
       "\n",
       "  // register the mime type if in Jupyter Notebook environment and previously unregistered\n",
       "  if (root.Jupyter !== undefined) {\n",
       "    var events = require('base/js/events');\n",
       "    var OutputArea = require('notebook/js/outputarea').OutputArea;\n",
       "\n",
       "    if (OutputArea.prototype.mime_types().indexOf(EXEC_MIME_TYPE) == -1) {\n",
       "      register_renderer(events, OutputArea);\n",
       "    }\n",
       "  }\n",
       "\n",
       "  \n",
       "  if (typeof (root._bokeh_timeout) === \"undefined\" || force === true) {\n",
       "    root._bokeh_timeout = Date.now() + 5000;\n",
       "    root._bokeh_failed_load = false;\n",
       "  }\n",
       "\n",
       "  var NB_LOAD_WARNING = {'data': {'text/html':\n",
       "     \"<div style='background-color: #fdd'>\\n\"+\n",
       "     \"<p>\\n\"+\n",
       "     \"BokehJS does not appear to have successfully loaded. If loading BokehJS from CDN, this \\n\"+\n",
       "     \"may be due to a slow or bad network connection. Possible fixes:\\n\"+\n",
       "     \"</p>\\n\"+\n",
       "     \"<ul>\\n\"+\n",
       "     \"<li>re-rerun `output_notebook()` to attempt to load from CDN again, or</li>\\n\"+\n",
       "     \"<li>use INLINE resources instead, as so:</li>\\n\"+\n",
       "     \"</ul>\\n\"+\n",
       "     \"<code>\\n\"+\n",
       "     \"from bokeh.resources import INLINE\\n\"+\n",
       "     \"output_notebook(resources=INLINE)\\n\"+\n",
       "     \"</code>\\n\"+\n",
       "     \"</div>\"}};\n",
       "\n",
       "  function display_loaded() {\n",
       "    var el = document.getElementById(\"928b7563-2f24-44e8-afe2-ef9b7d549af7\");\n",
       "    if (el != null) {\n",
       "      el.textContent = \"BokehJS is loading...\";\n",
       "    }\n",
       "    if (root.Bokeh !== undefined) {\n",
       "      if (el != null) {\n",
       "        el.textContent = \"BokehJS \" + root.Bokeh.version + \" successfully loaded.\";\n",
       "      }\n",
       "    } else if (Date.now() < root._bokeh_timeout) {\n",
       "      setTimeout(display_loaded, 100)\n",
       "    }\n",
       "  }\n",
       "\n",
       "\n",
       "  function run_callbacks() {\n",
       "    try {\n",
       "      root._bokeh_onload_callbacks.forEach(function(callback) { callback() });\n",
       "    }\n",
       "    finally {\n",
       "      delete root._bokeh_onload_callbacks\n",
       "    }\n",
       "    console.info(\"Bokeh: all callbacks have finished\");\n",
       "  }\n",
       "\n",
       "  function load_libs(js_urls, callback) {\n",
       "    root._bokeh_onload_callbacks.push(callback);\n",
       "    if (root._bokeh_is_loading > 0) {\n",
       "      console.log(\"Bokeh: BokehJS is being loaded, scheduling callback at\", now());\n",
       "      return null;\n",
       "    }\n",
       "    if (js_urls == null || js_urls.length === 0) {\n",
       "      run_callbacks();\n",
       "      return null;\n",
       "    }\n",
       "    console.log(\"Bokeh: BokehJS not loaded, scheduling load and callback at\", now());\n",
       "    root._bokeh_is_loading = js_urls.length;\n",
       "    for (var i = 0; i < js_urls.length; i++) {\n",
       "      var url = js_urls[i];\n",
       "      var s = document.createElement('script');\n",
       "      s.src = url;\n",
       "      s.async = false;\n",
       "      s.onreadystatechange = s.onload = function() {\n",
       "        root._bokeh_is_loading--;\n",
       "        if (root._bokeh_is_loading === 0) {\n",
       "          console.log(\"Bokeh: all BokehJS libraries loaded\");\n",
       "          run_callbacks()\n",
       "        }\n",
       "      };\n",
       "      s.onerror = function() {\n",
       "        console.warn(\"failed to load library \" + url);\n",
       "      };\n",
       "      console.log(\"Bokeh: injecting script tag for BokehJS library: \", url);\n",
       "      document.getElementsByTagName(\"head\")[0].appendChild(s);\n",
       "    }\n",
       "  };var element = document.getElementById(\"928b7563-2f24-44e8-afe2-ef9b7d549af7\");\n",
       "  if (element == null) {\n",
       "    console.log(\"Bokeh: ERROR: autoload.js configured with elementid '928b7563-2f24-44e8-afe2-ef9b7d549af7' but no matching script tag was found. \")\n",
       "    return false;\n",
       "  }\n",
       "\n",
       "  var js_urls = [\"https://cdn.pydata.org/bokeh/release/bokeh-0.12.14.min.js\", \"https://cdn.pydata.org/bokeh/release/bokeh-widgets-0.12.14.min.js\", \"https://cdn.pydata.org/bokeh/release/bokeh-tables-0.12.14.min.js\", \"https://cdn.pydata.org/bokeh/release/bokeh-gl-0.12.14.min.js\"];\n",
       "\n",
       "  var inline_js = [\n",
       "    function(Bokeh) {\n",
       "      Bokeh.set_log_level(\"info\");\n",
       "    },\n",
       "    \n",
       "    function(Bokeh) {\n",
       "      \n",
       "    },\n",
       "    function(Bokeh) {\n",
       "      console.log(\"Bokeh: injecting CSS: https://cdn.pydata.org/bokeh/release/bokeh-0.12.14.min.css\");\n",
       "      Bokeh.embed.inject_css(\"https://cdn.pydata.org/bokeh/release/bokeh-0.12.14.min.css\");\n",
       "      console.log(\"Bokeh: injecting CSS: https://cdn.pydata.org/bokeh/release/bokeh-widgets-0.12.14.min.css\");\n",
       "      Bokeh.embed.inject_css(\"https://cdn.pydata.org/bokeh/release/bokeh-widgets-0.12.14.min.css\");\n",
       "      console.log(\"Bokeh: injecting CSS: https://cdn.pydata.org/bokeh/release/bokeh-tables-0.12.14.min.css\");\n",
       "      Bokeh.embed.inject_css(\"https://cdn.pydata.org/bokeh/release/bokeh-tables-0.12.14.min.css\");\n",
       "    }\n",
       "  ];\n",
       "\n",
       "  function run_inline_js() {\n",
       "    \n",
       "    if ((root.Bokeh !== undefined) || (force === true)) {\n",
       "      for (var i = 0; i < inline_js.length; i++) {\n",
       "        inline_js[i].call(root, root.Bokeh);\n",
       "      }if (force === true) {\n",
       "        display_loaded();\n",
       "      }} else if (Date.now() < root._bokeh_timeout) {\n",
       "      setTimeout(run_inline_js, 100);\n",
       "    } else if (!root._bokeh_failed_load) {\n",
       "      console.log(\"Bokeh: BokehJS failed to load within specified timeout.\");\n",
       "      root._bokeh_failed_load = true;\n",
       "    } else if (force !== true) {\n",
       "      var cell = $(document.getElementById(\"928b7563-2f24-44e8-afe2-ef9b7d549af7\")).parents('.cell').data().cell;\n",
       "      cell.output_area.append_execute_result(NB_LOAD_WARNING)\n",
       "    }\n",
       "\n",
       "  }\n",
       "\n",
       "  if (root._bokeh_is_loading === 0) {\n",
       "    console.log(\"Bokeh: BokehJS loaded, going straight to plotting\");\n",
       "    run_inline_js();\n",
       "  } else {\n",
       "    load_libs(js_urls, function() {\n",
       "      console.log(\"Bokeh: BokehJS plotting callback run at\", now());\n",
       "      run_inline_js();\n",
       "    });\n",
       "  }\n",
       "}(window));"
      ],
      "application/vnd.bokehjs_load.v0+json": "\n(function(root) {\n  function now() {\n    return new Date();\n  }\n\n  var force = true;\n\n  if (typeof (root._bokeh_onload_callbacks) === \"undefined\" || force === true) {\n    root._bokeh_onload_callbacks = [];\n    root._bokeh_is_loading = undefined;\n  }\n\n  \n\n  \n  if (typeof (root._bokeh_timeout) === \"undefined\" || force === true) {\n    root._bokeh_timeout = Date.now() + 5000;\n    root._bokeh_failed_load = false;\n  }\n\n  var NB_LOAD_WARNING = {'data': {'text/html':\n     \"<div style='background-color: #fdd'>\\n\"+\n     \"<p>\\n\"+\n     \"BokehJS does not appear to have successfully loaded. If loading BokehJS from CDN, this \\n\"+\n     \"may be due to a slow or bad network connection. Possible fixes:\\n\"+\n     \"</p>\\n\"+\n     \"<ul>\\n\"+\n     \"<li>re-rerun `output_notebook()` to attempt to load from CDN again, or</li>\\n\"+\n     \"<li>use INLINE resources instead, as so:</li>\\n\"+\n     \"</ul>\\n\"+\n     \"<code>\\n\"+\n     \"from bokeh.resources import INLINE\\n\"+\n     \"output_notebook(resources=INLINE)\\n\"+\n     \"</code>\\n\"+\n     \"</div>\"}};\n\n  function display_loaded() {\n    var el = document.getElementById(\"928b7563-2f24-44e8-afe2-ef9b7d549af7\");\n    if (el != null) {\n      el.textContent = \"BokehJS is loading...\";\n    }\n    if (root.Bokeh !== undefined) {\n      if (el != null) {\n        el.textContent = \"BokehJS \" + root.Bokeh.version + \" successfully loaded.\";\n      }\n    } else if (Date.now() < root._bokeh_timeout) {\n      setTimeout(display_loaded, 100)\n    }\n  }\n\n\n  function run_callbacks() {\n    try {\n      root._bokeh_onload_callbacks.forEach(function(callback) { callback() });\n    }\n    finally {\n      delete root._bokeh_onload_callbacks\n    }\n    console.info(\"Bokeh: all callbacks have finished\");\n  }\n\n  function load_libs(js_urls, callback) {\n    root._bokeh_onload_callbacks.push(callback);\n    if (root._bokeh_is_loading > 0) {\n      console.log(\"Bokeh: BokehJS is being loaded, scheduling callback at\", now());\n      return null;\n    }\n    if (js_urls == null || js_urls.length === 0) {\n      run_callbacks();\n      return null;\n    }\n    console.log(\"Bokeh: BokehJS not loaded, scheduling load and callback at\", now());\n    root._bokeh_is_loading = js_urls.length;\n    for (var i = 0; i < js_urls.length; i++) {\n      var url = js_urls[i];\n      var s = document.createElement('script');\n      s.src = url;\n      s.async = false;\n      s.onreadystatechange = s.onload = function() {\n        root._bokeh_is_loading--;\n        if (root._bokeh_is_loading === 0) {\n          console.log(\"Bokeh: all BokehJS libraries loaded\");\n          run_callbacks()\n        }\n      };\n      s.onerror = function() {\n        console.warn(\"failed to load library \" + url);\n      };\n      console.log(\"Bokeh: injecting script tag for BokehJS library: \", url);\n      document.getElementsByTagName(\"head\")[0].appendChild(s);\n    }\n  };var element = document.getElementById(\"928b7563-2f24-44e8-afe2-ef9b7d549af7\");\n  if (element == null) {\n    console.log(\"Bokeh: ERROR: autoload.js configured with elementid '928b7563-2f24-44e8-afe2-ef9b7d549af7' but no matching script tag was found. \")\n    return false;\n  }\n\n  var js_urls = [\"https://cdn.pydata.org/bokeh/release/bokeh-0.12.14.min.js\", \"https://cdn.pydata.org/bokeh/release/bokeh-widgets-0.12.14.min.js\", \"https://cdn.pydata.org/bokeh/release/bokeh-tables-0.12.14.min.js\", \"https://cdn.pydata.org/bokeh/release/bokeh-gl-0.12.14.min.js\"];\n\n  var inline_js = [\n    function(Bokeh) {\n      Bokeh.set_log_level(\"info\");\n    },\n    \n    function(Bokeh) {\n      \n    },\n    function(Bokeh) {\n      console.log(\"Bokeh: injecting CSS: https://cdn.pydata.org/bokeh/release/bokeh-0.12.14.min.css\");\n      Bokeh.embed.inject_css(\"https://cdn.pydata.org/bokeh/release/bokeh-0.12.14.min.css\");\n      console.log(\"Bokeh: injecting CSS: https://cdn.pydata.org/bokeh/release/bokeh-widgets-0.12.14.min.css\");\n      Bokeh.embed.inject_css(\"https://cdn.pydata.org/bokeh/release/bokeh-widgets-0.12.14.min.css\");\n      console.log(\"Bokeh: injecting CSS: https://cdn.pydata.org/bokeh/release/bokeh-tables-0.12.14.min.css\");\n      Bokeh.embed.inject_css(\"https://cdn.pydata.org/bokeh/release/bokeh-tables-0.12.14.min.css\");\n    }\n  ];\n\n  function run_inline_js() {\n    \n    if ((root.Bokeh !== undefined) || (force === true)) {\n      for (var i = 0; i < inline_js.length; i++) {\n        inline_js[i].call(root, root.Bokeh);\n      }if (force === true) {\n        display_loaded();\n      }} else if (Date.now() < root._bokeh_timeout) {\n      setTimeout(run_inline_js, 100);\n    } else if (!root._bokeh_failed_load) {\n      console.log(\"Bokeh: BokehJS failed to load within specified timeout.\");\n      root._bokeh_failed_load = true;\n    } else if (force !== true) {\n      var cell = $(document.getElementById(\"928b7563-2f24-44e8-afe2-ef9b7d549af7\")).parents('.cell').data().cell;\n      cell.output_area.append_execute_result(NB_LOAD_WARNING)\n    }\n\n  }\n\n  if (root._bokeh_is_loading === 0) {\n    console.log(\"Bokeh: BokehJS loaded, going straight to plotting\");\n    run_inline_js();\n  } else {\n    load_libs(js_urls, function() {\n      console.log(\"Bokeh: BokehJS plotting callback run at\", now());\n      run_inline_js();\n    });\n  }\n}(window));"
     },
     "metadata": {},
     "output_type": "display_data"
    }
   ],
   "source": [
    "output_notebook()"
   ]
  },
  {
   "cell_type": "code",
   "execution_count": 8,
   "metadata": {
    "collapsed": true
   },
   "outputs": [],
   "source": [
    "def fmt_cool(ds_in):\n",
    "    ds = ds_in.copy(deep=True)\n",
    "    if 'igg' in ds.dims:\n",
    "        ds = ds.sel(igg=1)\n",
    "\n",
    "    if 'g' in ds.dims:\n",
    "        ds = ds.sum('g')\n",
    "            \n",
    "    if 'band' in ds.dims:\n",
    "        try:\n",
    "            ds = ds.squeeze('band')\n",
    "        except ValueError:\n",
    "            ds = ds.sum('band')\n",
    "                \n",
    "    return ds['coolrg']\n",
    "\n",
    "\n",
    "def pltdata_cooling_1(ds_cool=None,\n",
    "                      ds_cool_crd=None, ds_cool_wgt=None):\n",
    "    \n",
    "\n",
    "\n",
    "    colors = all_palettes['Set1'][4]\n",
    "    data = [{'label': 'CLIRAD `coolr_bands`',\n",
    "             'srs': fmt_cool(ds_cool),\n",
    "             'line_dash': 'dashed', 'line_width': 5,\n",
    "             'color': colors[0], 'alpha': .6},\n",
    "            {'label': 'CRD',\n",
    "             'srs': fmt_cool(ds_cool_crd),\n",
    "             'line_dash': 'solid', 'line_width': 1.5,\n",
    "             'marker': 'circle', 'marker_size': 5,\n",
    "             'color': colors[2], 'alpha': 1,},\n",
    "            {'label': 'WGT igg=10 wgt_flux=2',\n",
    "             'srs': fmt_cool(ds_cool_wgt),\n",
    "             'line_dash': 'solid', 'line_width': 3,\n",
    "             'marker': 'square', 'marker_size': 5,\n",
    "             'color': colors[3], 'alpha': .6}]\n",
    "    return data\n",
    "\n",
    "\n",
    "def nice_xlims(pltdata=None, prange=None):\n",
    "    \n",
    "    def get_slice(srs):\n",
    "        return srs.sel(pressure=slice(*prange))\n",
    "    \n",
    "    srss = [d['srs'] for d in pltdata]\n",
    "    vmin = min([get_slice(srs).min() for srs in srss])\n",
    "    vmax = max([get_slice(srs).max() for srs in srss])\n",
    "    dv = (vmax - vmin) * .01\n",
    "    return float(vmin - dv), float(vmax + dv)\n",
    "    \n",
    "\n",
    "def plt_cooling_bokeh(pltdata=None):\n",
    "    '''\n",
    "    Plot a list of cooling rate profiles using bokeh.\n",
    "    '''\n",
    "    ymin = 1e-2 \n",
    "    ymax = 1020 \n",
    "        \n",
    "    p1 = figure(title=\"Linear pressure scale\", \n",
    "                plot_width=400)        \n",
    "    xmin, xmax = nice_xlims(pltdata, prange=(50, 1050))\n",
    "    for d in pltdata:\n",
    "        if 'marker' in d:\n",
    "            getattr(p1, d['marker'])(d['srs'].values, \n",
    "                    d['srs'].coords['pressure'].values,\n",
    "                    color=d['color'], alpha=.7)\n",
    "        p1.line(d['srs'].values, \n",
    "                d['srs'].coords['pressure'].values,\n",
    "                color=d['color'], alpha=d['alpha'], \n",
    "                line_width=d['line_width'], line_dash=d['line_dash'])\n",
    "    \n",
    "    p1.y_range = Range1d(ymax, ymin)\n",
    "    p1.yaxis.axis_label = 'pressure [mb]'   \n",
    "    p1.x_range = Range1d(xmin, xmax)\n",
    "    p1.xaxis.axis_label = 'cooling rate [K/day]'\n",
    "            \n",
    "    p2 = figure(title='Log pressure scale', y_axis_type='log',\n",
    "                plot_width=560)\n",
    "    xmin, xmax = nice_xlims(pltdata, prange=(.01, 200))\n",
    "    \n",
    "    rs = []\n",
    "    for d in pltdata:\n",
    "        rd = []\n",
    "        if 'marker' in d:\n",
    "            r_mark = getattr(p2, d['marker'])(d['srs'].values, \n",
    "                        d['srs'].coords['pressure'].values,\n",
    "                        color=d['color'], alpha=.7)\n",
    "            rd.append(r_mark)\n",
    "        r_line = p2.line(d['srs'].values, \n",
    "                    d['srs'].coords['pressure'].values,\n",
    "                    color=d['color'], alpha=d['alpha'], \n",
    "                    line_width=d['line_width'], line_dash=d['line_dash'])\n",
    "        rd.append(r_line)\n",
    "      \n",
    "        rs.append(rd)\n",
    "        \n",
    "    p2.y_range = Range1d(ymax, ymin)  \n",
    "    p2.yaxis.axis_label = 'pressure [mb]'\n",
    "    \n",
    "    p2.x_range = Range1d(xmin, xmax)\n",
    "    p2.xaxis.axis_label = 'cooling rate [K/day]'\n",
    "    \n",
    "    items = [(d['label'], r) for r, d in zip(rs, pltdata)]\n",
    "    legend = Legend(items=items, location=(10, -30))\n",
    "    legend.label_text_font_size = '8pt'\n",
    "    \n",
    "    p2.add_layout(legend, 'right')  \n",
    "    \n",
    "    show(gridplot(p1, p2, ncols=2, plot_height=500))\n",
    "    \n",
    "\n",
    "def script_plt_cooling():\n",
    "    pltdata = pltdata_cooling_1(\n",
    "        ds_cool=DS_COOL,\n",
    "        ds_cool_crd=DS_COOL_CRD,\n",
    "        ds_cool_wgt=DS_COOL_WGT)\n",
    "    plt_cooling_bokeh(pltdata=pltdata)\n",
    "    print('''FIGURE. Cooling rate profiles.''')"
   ]
  },
  {
   "cell_type": "code",
   "execution_count": 9,
   "metadata": {
    "collapsed": true
   },
   "outputs": [],
   "source": [
    "def fmt_flux(ds_in):\n",
    "    ds = ds_in.copy(deep=True)\n",
    "    \n",
    "    for l in ('level', 'layer'):\n",
    "        if l in ds.data_vars:\n",
    "            if len(ds[l].dims) > 1:\n",
    "                surface = {d: 0 for d in ds.dims if d != 'pressure'}\n",
    "                coord_level = ds[l][surface]\n",
    "                ds.coords[l] = ('pressure', coord_level)\n",
    "            else:\n",
    "                ds.coords[l] = ('pressure', ds[l])\n",
    "        \n",
    "    ds = ds.isel(pressure=[0, 23, -1])\n",
    "        \n",
    "    if 'igg' in ds.dims:\n",
    "        ds = ds.sel(igg=[1])\n",
    "        ds = ds.squeeze('igg').drop('igg')\n",
    "    \n",
    "    if 'g' in ds.dims:\n",
    "        ds = ds.sum('g')\n",
    "            \n",
    "    if 'band' in ds.dims:\n",
    "        try:\n",
    "            ds = ds.squeeze('band').drop('band')\n",
    "        except ValueError:\n",
    "            ds = ds.sum('band')\n",
    "                \n",
    "    df = ds.to_dataframe()\n",
    "    df = df.set_index('level', append=True)               \n",
    "    return df\n",
    "\n",
    "\n",
    "def tbdata_flux(ds_flux=None, ds_flux_crd=None, ds_flux_wgt=None):\n",
    "    ilevels = [0, 23, -1]\n",
    "            \n",
    "    benchmark = {'label': 'WGT igg=10 wgt_flux=1',\n",
    "                 'df': fmt_flux(ds_flux_wgt)}\n",
    "    \n",
    "    tbs = [{'label': 'CRD',\n",
    "            'df': fmt_flux(ds_flux_crd)},\n",
    "           {'label': 'CLIRAD',\n",
    "            'df': fmt_flux(ds_flux)}]\n",
    "    \n",
    "    data = {'benchmark': benchmark, 'others': tbs}\n",
    "    return data\n",
    "\n",
    "\n",
    "def tb_flux(tbdata=None):\n",
    "    benchmark = tbdata['benchmark']\n",
    "    others = tbdata['others']\n",
    "    \n",
    "    def show_tb(d=None):\n",
    "        display.display(d['df'])\n",
    "        print('Table.', 'Fluxes.', d['label'])\n",
    "        \n",
    "    def show_tbdiff(d0=None, d=None):\n",
    "        df = d['df']\n",
    "        df.index = d0['df'].index\n",
    "        display.display(df - d0['df'])\n",
    "        print('Table.', 'Fluxes.', \n",
    "              '({}) - ({})'.format(d['label'], d0['label']))\n",
    "        \n",
    "    show_tb(benchmark)\n",
    "    for d in others:\n",
    "        show_tb(d)\n",
    "        \n",
    "    for d in others:\n",
    "        show_tbdiff(d=d, d0=benchmark)\n",
    "        \n",
    "        \n",
    "def script_tb_flux():\n",
    "    data = tbdata_flux(ds_flux=DS_FLUX,\n",
    "                       ds_flux_crd=DS_FLUX_CRD,\n",
    "                       ds_flux_wgt=DS_FLUX_WGT)\n",
    "    tb_flux(tbdata=data)"
   ]
  },
  {
   "cell_type": "code",
   "execution_count": 10,
   "metadata": {
    "collapsed": true
   },
   "outputs": [],
   "source": [
    "def band_map():\n",
    "    '''\n",
    "    Maps spectral bands in lblnew to spectral bands in clirad.\n",
    "    '''\n",
    "    lblnew2clirad = {'1': '1',\n",
    "            '2': '2',\n",
    "            '3a': '3',\n",
    "            '3b': '4',\n",
    "            '3c': '5',\n",
    "            '4': '6', \n",
    "            '5': '7',\n",
    "            '6': '8',\n",
    "            '7': '9', \n",
    "            '8': '10',\n",
    "            '9': '11'}\n",
    "    \n",
    "    clirad2lblnew = {clirad: lblnew \n",
    "                     for lblnew, clirad in lblnew2clirad.items()}\n",
    "    return clirad2lblnew\n",
    "\n",
    "\n",
    "def gasbands():\n",
    "    bmap = band_map()\n",
    "    gases = list(PARAM['molecule'].keys())\n",
    "    \n",
    "    bands = [bmap[str(b)] for b in PARAM['band']]\n",
    "    return list(itertools.product(gases, bands))\n",
    "\n",
    "\n",
    "def print_bestfit_params():\n",
    "    print('Best-fit values for each (gas, band)')\n",
    "    print('------------------------------------')\n",
    "    for gas, band in gasbands():\n",
    "        print('o {} band{}'.format(gas, band))\n",
    "        param = bestfits.kdist_params(molecule=gas, band=band)\n",
    "        for name, value in sorted(param.items()):\n",
    "            print(2 * ' ' + '{} = {}'.format(name, value))\n",
    "\n",
    "        \n",
    "def print_input_param():        \n",
    "    for name, value in PARAM.items():\n",
    "        print('{} = {}'.format(name, value))\n",
    "        \n",
    "        \n",
    "def print_lblnew_param():\n",
    "    for name, value in sorted(PARAM_LBLNEW.items()):\n",
    "        print('{} = {}'.format(name, value))\n"
   ]
  },
  {
   "cell_type": "code",
   "execution_count": 11,
   "metadata": {
    "collapsed": true,
    "scrolled": false
   },
   "outputs": [],
   "source": [
    "def show_html(s):\n",
    "    display.display(display.HTML(s))\n",
    "\n",
    "    \n",
    "def show_markdown(s):\n",
    "    display.display(display.Markdown(s))\n",
    "\n",
    "    \n",
    "def script():\n",
    "    \n",
    "    title = '### CLIRAD-LW'\n",
    "    s_input = 'Input Parameters'\n",
    "    s_lblnew_param = 'LBLNEW case compaired against'\n",
    "    s_bestfits = 'Best-fit Parameters'\n",
    "    s_plt_cooling = 'Cooling Rate Profiles'\n",
    "    s_tb_flux = 'Flux Comparison'\n",
    "    \n",
    "    # title\n",
    "    show_markdown('### CLIRAD-LW')\n",
    "    \n",
    "    # TOC\n",
    "    show_markdown('### Table of Contents')\n",
    "    show_html(climahtml.getHTML_hrefanchor(s_input))\n",
    "    show_html(climahtml.getHTML_hrefanchor(s_lblnew_param))\n",
    "    show_html(climahtml.getHTML_hrefanchor(s_plt_cooling))\n",
    "    show_html(climahtml.getHTML_hrefanchor(s_tb_flux))\n",
    "    show_html(climahtml.getHTML_hrefanchor(s_bestfits))\n",
    "    \n",
    "    # Input parameters\n",
    "    show_html(climahtml.getHTML_idanchor(s_input))\n",
    "    show_markdown(climahtml.getMarkdown_sectitle(s_input))\n",
    "    print_input_param()\n",
    "    \n",
    "    # LBLNEW parameters \n",
    "    show_html(climahtml.getHTML_idanchor(s_lblnew_param))\n",
    "    show_markdown(climahtml.getMarkdown_sectitle(s_lblnew_param))\n",
    "    print_lblnew_param()\n",
    "    \n",
    "    # Cooling rate profiles\n",
    "    show_html(climahtml.getHTML_idanchor(s_plt_cooling))\n",
    "    show_markdown(climahtml.getMarkdown_sectitle(s_plt_cooling))\n",
    "    script_plt_cooling()\n",
    "    \n",
    "    # Flux comparison\n",
    "    show_html(climahtml.getHTML_idanchor(s_tb_flux))\n",
    "    show_markdown(climahtml.getMarkdown_sectitle(s_tb_flux))\n",
    "    script_tb_flux()\n",
    "    \n",
    "    # Best-fit values\n",
    "    show_html(climahtml.getHTML_idanchor(s_bestfits))\n",
    "    show_markdown(climahtml.getMarkdown_sectitle(s_bestfits))\n",
    "    print_bestfit_params()\n",
    "   \n",
    "    "
   ]
  },
  {
   "cell_type": "code",
   "execution_count": 12,
   "metadata": {
    "collapsed": true,
    "scrolled": false
   },
   "outputs": [
    {
     "data": {
      "text/markdown": [
       "### CLIRAD-LW"
      ],
      "text/plain": [
       "<IPython.core.display.Markdown object>"
      ]
     },
     "metadata": {},
     "output_type": "display_data"
    },
    {
     "data": {
      "text/markdown": [
       "### Table of Contents"
      ],
      "text/plain": [
       "<IPython.core.display.Markdown object>"
      ]
     },
     "metadata": {},
     "output_type": "display_data"
    },
    {
     "data": {
      "text/html": [
       "<a href=\"#Input_Parameters\">Input Parameters</a>"
      ],
      "text/plain": [
       "<IPython.core.display.HTML object>"
      ]
     },
     "metadata": {},
     "output_type": "display_data"
    },
    {
     "data": {
      "text/html": [
       "<a href=\"#LBLNEW_case_compaired_against\">LBLNEW case compaired against</a>"
      ],
      "text/plain": [
       "<IPython.core.display.HTML object>"
      ]
     },
     "metadata": {},
     "output_type": "display_data"
    },
    {
     "data": {
      "text/html": [
       "<a href=\"#Cooling_Rate_Profiles\">Cooling Rate Profiles</a>"
      ],
      "text/plain": [
       "<IPython.core.display.HTML object>"
      ]
     },
     "metadata": {},
     "output_type": "display_data"
    },
    {
     "data": {
      "text/html": [
       "<a href=\"#Flux_Comparison\">Flux Comparison</a>"
      ],
      "text/plain": [
       "<IPython.core.display.HTML object>"
      ]
     },
     "metadata": {},
     "output_type": "display_data"
    },
    {
     "data": {
      "text/html": [
       "<a href=\"#Best-fit_Parameters\">Best-fit Parameters</a>"
      ],
      "text/plain": [
       "<IPython.core.display.HTML object>"
      ]
     },
     "metadata": {},
     "output_type": "display_data"
    },
    {
     "data": {
      "text/html": [
       "<a id=\"Input_Parameters\"></a>"
      ],
      "text/plain": [
       "<IPython.core.display.HTML object>"
      ]
     },
     "metadata": {},
     "output_type": "display_data"
    },
    {
     "data": {
      "text/markdown": [
       "# Input Parameters"
      ],
      "text/plain": [
       "<IPython.core.display.Markdown object>"
      ]
     },
     "metadata": {},
     "output_type": "display_data"
    },
    {
     "name": "stdout",
     "output_type": "stream",
     "text": [
      "atmpro = saw\n",
      "band = [3]\n",
      "commitnumber = 9a64c27_r8\n",
      "molecule = {'co2': 0.0004}\n",
      "tsfc = 257\n"
     ]
    },
    {
     "data": {
      "text/html": [
       "<a id=\"LBLNEW_case_compaired_against\"></a>"
      ],
      "text/plain": [
       "<IPython.core.display.HTML object>"
      ]
     },
     "metadata": {},
     "output_type": "display_data"
    },
    {
     "data": {
      "text/markdown": [
       "# LBLNEW case compaired against"
      ],
      "text/plain": [
       "<IPython.core.display.Markdown object>"
      ]
     },
     "metadata": {},
     "output_type": "display_data"
    },
    {
     "name": "stdout",
     "output_type": "stream",
     "text": [
      "atmpro = saw\n",
      "band = 3a\n",
      "commitnumber = 2bd1f75\n",
      "conc = 0.0004\n",
      "dv = 0.01\n",
      "klin = 6.375563e-24\n",
      "molecule = co2\n",
      "ng_adju = [0, 0, 0]\n",
      "ng_refs = [3, 2, 4]\n",
      "nv = 100\n",
      "option_compute_btable = 0\n",
      "option_compute_ktable = 0\n",
      "option_wgt_flux = 1\n",
      "option_wgt_k = 1\n",
      "ref_pts = [(1, 250), (10, 250), (500, 250)]\n",
      "tsfc = 257\n",
      "vmax = 620\n",
      "vmin = 540\n",
      "w_diffuse = [(1.6, 1.6, 1.7), (1.75, 1.75), (1.55, 1.55, 1.6, 1.85)]\n",
      "wgt = [(0.7, 0.3, 0.7), (0.7, 0.6), (0.4, 0.5, 0.8, 0.95)]\n"
     ]
    },
    {
     "data": {
      "text/html": [
       "<a id=\"Cooling_Rate_Profiles\"></a>"
      ],
      "text/plain": [
       "<IPython.core.display.HTML object>"
      ]
     },
     "metadata": {},
     "output_type": "display_data"
    },
    {
     "data": {
      "text/markdown": [
       "# Cooling Rate Profiles"
      ],
      "text/plain": [
       "<IPython.core.display.Markdown object>"
      ]
     },
     "metadata": {},
     "output_type": "display_data"
    },
    {
     "data": {
      "text/html": [
       "\n",
       "<div class=\"bk-root\">\n",
       "    <div class=\"bk-plotdiv\" id=\"eec827a1-543c-4569-a046-16740cdb6a3b\"></div>\n",
       "</div>"
      ]
     },
     "metadata": {},
     "output_type": "display_data"
    },
    {
     "data": {
      "application/javascript": [
       "(function(root) {\n",
       "  function embed_document(root) {\n",
       "    \n",
       "  var docs_json = {\"e98dec42-9d99-458a-90cb-36eebefc4add\":{\"roots\":{\"references\":[{\"attributes\":{\"data_source\":{\"id\":\"262c3a02-e00c-49a9-b3d2-eddca24ffb17\",\"type\":\"ColumnDataSource\"},\"glyph\":{\"id\":\"cb8ae719-9784-44bc-aa2a-498db41a913f\",\"type\":\"Line\"},\"hover_glyph\":null,\"muted_glyph\":null,\"nonselection_glyph\":{\"id\":\"83553458-cf3d-4b17-8cba-f01208842a68\",\"type\":\"Line\"},\"selection_glyph\":null,\"view\":{\"id\":\"eb08f01c-cd9b-461d-bda7-febd7ae75c5f\",\"type\":\"CDSView\"}},\"id\":\"d93004b1-2a8d-4acf-8bce-32dfd7e81a46\",\"type\":\"GlyphRenderer\"},{\"attributes\":{\"source\":{\"id\":\"8408de62-fc69-4891-858c-1ad41f624908\",\"type\":\"ColumnDataSource\"}},\"id\":\"95d61ca6-8525-4de0-bfb4-e84f347ce417\",\"type\":\"CDSView\"},{\"attributes\":{},\"id\":\"c85908df-4a0e-48fe-b120-b6c168527a6f\",\"type\":\"LogScale\"},{\"attributes\":{\"axis_label\":\"pressure [mb]\",\"formatter\":{\"id\":\"dfd44cca-8647-4844-b9bc-0cdf5228a669\",\"type\":\"LogTickFormatter\"},\"plot\":{\"id\":\"46ce4778-e981-44bc-9236-89a5f3c339c7\",\"subtype\":\"Figure\",\"type\":\"Plot\"},\"ticker\":{\"id\":\"9b0a81ec-b4fa-4bb1-8278-5481004b0016\",\"type\":\"LogTicker\"}},\"id\":\"00c39bb5-a7ab-4c1f-8d9b-3bfb7cf694b8\",\"type\":\"LogAxis\"},{\"attributes\":{},\"id\":\"0c7f4de0-bc0a-4751-9724-045774539fbb\",\"type\":\"BasicTickFormatter\"},{\"attributes\":{\"dimension\":1,\"plot\":{\"id\":\"46ce4778-e981-44bc-9236-89a5f3c339c7\",\"subtype\":\"Figure\",\"type\":\"Plot\"},\"ticker\":{\"id\":\"9b0a81ec-b4fa-4bb1-8278-5481004b0016\",\"type\":\"LogTicker\"}},\"id\":\"c90675a1-ac81-42e4-87d4-b2e771e919e4\",\"type\":\"Grid\"},{\"attributes\":{\"num_minor_ticks\":10},\"id\":\"9b0a81ec-b4fa-4bb1-8278-5481004b0016\",\"type\":\"LogTicker\"},{\"attributes\":{\"plot\":{\"id\":\"46ce4778-e981-44bc-9236-89a5f3c339c7\",\"subtype\":\"Figure\",\"type\":\"Plot\"},\"ticker\":{\"id\":\"28d1a267-4cc5-4a7e-85f6-151c06b7f7d7\",\"type\":\"BasicTicker\"}},\"id\":\"0db10bce-41cc-4995-a902-8986fb80fc3b\",\"type\":\"Grid\"},{\"attributes\":{\"axis_label\":\"cooling rate [K/day]\",\"formatter\":{\"id\":\"b9b76500-a477-42bd-b895-d1848d5dacf7\",\"type\":\"BasicTickFormatter\"},\"plot\":{\"id\":\"46ce4778-e981-44bc-9236-89a5f3c339c7\",\"subtype\":\"Figure\",\"type\":\"Plot\"},\"ticker\":{\"id\":\"28d1a267-4cc5-4a7e-85f6-151c06b7f7d7\",\"type\":\"BasicTicker\"}},\"id\":\"0aa22ce4-9766-426f-b7ee-0e9bb948b98e\",\"type\":\"LinearAxis\"},{\"attributes\":{},\"id\":\"df4ed3f8-e434-422a-9006-fd94943b224a\",\"type\":\"LinearScale\"},{\"attributes\":{\"ticker\":null},\"id\":\"dfd44cca-8647-4844-b9bc-0cdf5228a669\",\"type\":\"LogTickFormatter\"},{\"attributes\":{\"callback\":null,\"column_names\":[\"x\",\"y\"],\"data\":{\"x\":{\"__ndarray__\":\"ZKhxDFQIzD9OP4/uc77OP0gZcQFoFNQ/vKbuZwQd2T8QTyPreGXeP9CUAKkL4OE/0lRw9AiA5D8cNIm0bPHmPz+GM2ThEOk/YcccV2W36j/rfA37HMPrP9f1j65nIuw/23lN1V7g6z+NYW/eD4rqP21ce3Yr8ec/c6I8d6s85T+Se/Rl7T/jP3vgnVtsA+I//gvj8khx4T9BGLKZx4rhP/wUruS2n+I/lUnsXhdT4T+7FVfPKKHaPxJujWN/NNQ/P2Vnl5CLzz9tpzFKZUTIP5kgdujsy8E/TfPQb0Zquj+ufOrmTwy2PyBLfyzNeLM/tIeQzzjIsD9nhpRsY1arPyY0sQ+eSKg/bmuC3e3QqD/IlA9B1eioPwOWgoyFw6g/mNSRohxsqD/OyMIFEKamP36pTvAVKaQ/NAowyVQDoj+IyPCl3r2fP3XNGY49NJs/4IVZ2jwdlj+XyCsuk4OPP9KbIN45I30/FLuJpJU3cj97AKlSVZaIP1IU0XcDQZY/NouMGLo1nj+Vqv5SUJuiP8FLAU2q1KU/AJxbRLvaqD8tQ8uj47arP7meWA+ubK4/TVrNRw1+sD+Z85E2g6+xP//bs05fxrI/XSKYHNe8sz99cGf03Yy0P1cz5DjtMrU/vAVoFPiutT9QhVZfEQe2P9vWMvPGRLY/mguj8/Z0tj/keo29FKe2PyhqGiix6rY/vGcYz4RMtz/IlPtc7sW3Pz9ZfepiF7g/+mmk8YC8tz9Q9znyy1a2P3UpzIBVI7Q/gK+aR/uosT8fjqZhlV6uPyfS0hwmCKk/\",\"dtype\":\"float64\",\"shape\":[75]},\"y\":{\"__ndarray__\":\"GhExyth1ND/Sv8nbtpRIP2vylNV0PVE/aTum7souWD/At0SJ8fVgPw3Iuahxymc/MSNhhJWvcD/bTfBN02d3P2zb5nxnaoA/CD5h5MAGhz8NmeH1TyaQP+zrCsc9p5Y/LbKd76fGnz/bLW5ISEmmPww9YvTcQq8/JV2OstnstT8Er5Y7M8G+P0c+r3jqkcU/5h99k6ZBzj88bCIzFzjVP4enV8oyxN0//yH99nXg5D8qOpLLf0jtP5kqGJXUifQ/c9cS8kHP/D+/DpwzojQEQIEmwoanVwxA4lgXt9HgE0BSSZ2AJuIbQAMJih9jjiNA5q4l5INuK0AwTKYKRj0zQNv5fmq8/DpAaCJseHrtQkB/+zpwzoxKQM3MzMzMeFJAZmZmZmZqWEAAAAAAAFxeQM3MzMzMJmJAmpmZmZkfZUBmZmZmZhhoQDMzMzMzEWtAAAAAAAAKbkBmZmZmZoFwQM3MzMzM/XFAMzMzMzN6c0CamZmZmfZ0QAAAAAAAc3ZAZmZmZmbvd0DNzMzMzGt5QDMzMzMz6HpAmpmZmZlkfEAAAAAAAOF9QGZmZmZmXX9AZmZmZuZsgECamZmZGSuBQM3MzMxM6YFAAAAAAICngkAzMzMzs2WDQGZmZmbmI4RAmpmZmRnihEDNzMzMTKCFQAAAAACAXoZAMzMzM7Mch0BmZmZm5tqHQJqZmZkZmYhAzczMzExXiUAAAAAAgBWKQDMzMzOz04pAZmZmZuaRi0CamZmZGVCMQM3MzMxMDo1AAAAAAIDMjUAzMzMzs4qOQGZmZmbmSI9A\",\"dtype\":\"float64\",\"shape\":[75]}}},\"id\":\"8c81539a-72b8-4f28-a578-f774bd7fbb51\",\"type\":\"ColumnDataSource\"},{\"attributes\":{},\"id\":\"28d1a267-4cc5-4a7e-85f6-151c06b7f7d7\",\"type\":\"BasicTicker\"},{\"attributes\":{\"plot\":{\"id\":\"f217b11d-906a-48a8-ad2e-80818e7505ac\",\"subtype\":\"Figure\",\"type\":\"Plot\"},\"ticker\":{\"id\":\"14216385-438e-42fc-9224-5a8d23528efb\",\"type\":\"BasicTicker\"}},\"id\":\"f8fd16ff-9b85-4906-8a7b-79e5756782ea\",\"type\":\"Grid\"},{\"attributes\":{},\"id\":\"02e46498-6380-4db7-a6af-a75f9e667be0\",\"type\":\"PanTool\"},{\"attributes\":{\"line_alpha\":0.1,\"line_color\":\"#1f77b4\",\"line_dash\":[6],\"line_width\":5,\"x\":{\"field\":\"x\"},\"y\":{\"field\":\"y\"}},\"id\":\"03a27e0f-1d05-4c88-aded-3f6a24dd1bd8\",\"type\":\"Line\"},{\"attributes\":{\"data_source\":{\"id\":\"eaa67548-4022-4e2a-a1c5-3b5a0372b810\",\"type\":\"ColumnDataSource\"},\"glyph\":{\"id\":\"2fbbaf4d-cc7d-47d7-ae3f-524a568c1a24\",\"type\":\"Circle\"},\"hover_glyph\":null,\"muted_glyph\":null,\"nonselection_glyph\":{\"id\":\"3fb08740-b0e1-44ad-9d6e-0d76fc68ab44\",\"type\":\"Circle\"},\"selection_glyph\":null,\"view\":{\"id\":\"807c2feb-2e50-4a2b-98c9-050ca96b16d7\",\"type\":\"CDSView\"}},\"id\":\"8e6ed218-5c04-4a45-a220-33df6cd63ae8\",\"type\":\"GlyphRenderer\"},{\"attributes\":{},\"id\":\"9e9ce5c3-97de-42a9-92b7-a46b2c486703\",\"type\":\"WheelZoomTool\"},{\"attributes\":{},\"id\":\"6a7b4781-c8d3-4c14-b101-cb381fe5a962\",\"type\":\"PanTool\"},{\"attributes\":{\"callback\":null,\"column_names\":[\"x\",\"y\"],\"data\":{\"x\":{\"__ndarray__\":\"WvCiryDNuz/VMoQp67PAPxJujWN/tMc/AkuNVAh5zz/LEr5z/wPUP/kmNOYBrtg//OZZpOSw3T/LS0BEUX3hPzcnYWxCNuQ/OJgT1dfq5j+alQ5Sx3XpP72pSIWxpes/XI6ZPEw47T97xENz+F/tP/M0BdeBeOs/x65hRKoh6D9jvUm6A0jkPyBtkAcqvOA/gD42btbF3D/1KAHWT6TbP3Dmup07id4/BYjlQw5Z3j//5HMX9u7YPyrZuYLQ7tM/vblLJMka0D+cPjNvcsvJP3O4VnvYi8Q/q+y7IvjfwD/w6cEPlPy9P4sHKbK1Qro/uTF6xKFktT90FNHDkQawP6AIub1qhqk/Kwh24MLYpz99PsXPUdeoP6Rybm6nCKw/Yw6tDrOprT+YnFmZkNmrP3mXsb/xV6g/tgbaECgKpT+gCX9MjOGhP+MnOyFnpp0/1xCv+kIZlz9K7kimV4uOP1VoYGhV0nU/5voefH8/YD8aUCmWZvGDPx0tGKYAYpQ/uceflomcnD/ECJ+19MuhP0yWwNGB8aQ/mNC1E0vopz/OWSpl1cSqP28BBiHXiK0/5wbEnWsVsD/zCvUI9l6xP2pY7CwDmbI/mbjjuhq6sz/BMPEr/Le0P01rxq5ci7U/HxDUaPMxtj+0FHdZn7S2P9wvpGXSFrc/Xov/A/hjtz+IDlHqaqm3P+wiGhft9bc/K/g4liFVuD82DCbLN8W4P3KWAYN+CLk/NZvbRReiuD/F9FLr3Di3Py0fmI/jCLU/IerRY3qTsj9Inm80FRywP2XJR0sY36o/\",\"dtype\":\"float64\",\"shape\":[75]},\"y\":{\"__ndarray__\":\"S/O/Q+51ND/Sv8nbtpRIP2vylNV0PVE/aTum7souWD/At0SJ8fVgPw3Iuahxymc/MSNhhJWvcD/bTfBN02d3P2zb5nxnaoA/CD5h5MAGhz8NmeH1TyaQP+zrCsc9p5Y/LbKd76fGnz/bLW5ISEmmPww9YvTcQq8/JV2OstnstT8Er5Y7M8G+P0c+r3jqkcU/5h99k6ZBzj88bCIzFzjVP4enV8oyxN0//yH99nXg5D8qOpLLf0jtP5kqGJXUifQ/c9cS8kHP/D+/DpwzojQEQIEmwoanVwxA4lgXt9HgE0BSSZ2AJuIbQAMJih9jjiNA5q4l5INuK0AwTKYKRj0zQNv5fmq8/DpAaCJseHrtQkB/+zpwzoxKQM3MzMzMeFJAZmZmZmZqWEAAAAAAAFxeQM3MzMzMJmJAmpmZmZkfZUBmZmZmZhhoQDMzMzMzEWtAAAAAAAAKbkBmZmZmZoFwQM3MzMzM/XFAMzMzMzN6c0CamZmZmfZ0QAAAAAAAc3ZAZmZmZmbvd0DNzMzMzGt5QDMzMzMz6HpAmpmZmZlkfEAAAAAAAOF9QGZmZmZmXX9AZmZmZuZsgECamZmZGSuBQM3MzMxM6YFAAAAAAICngkAzMzMzs2WDQGZmZmbmI4RAmpmZmRnihEDNzMzMTKCFQAAAAACAXoZAMzMzM7Mch0BmZmZm5tqHQJqZmZkZmYhAzczMzExXiUAAAAAAgBWKQDMzMzOz04pAZmZmZuaRi0CamZmZGVCMQM3MzMxMDo1AAAAAAIDMjUAzMzMzs4qOQGZmZmbmSI9A\",\"dtype\":\"float64\",\"shape\":[75]}}},\"id\":\"262c3a02-e00c-49a9-b3d2-eddca24ffb17\",\"type\":\"ColumnDataSource\"},{\"attributes\":{\"overlay\":{\"id\":\"b2e3b837-914f-4758-bdca-5d49c213bf17\",\"type\":\"BoxAnnotation\"}},\"id\":\"873f847f-57c8-4521-96ac-60ac733296e9\",\"type\":\"BoxZoomTool\"},{\"attributes\":{},\"id\":\"29e20943-e73c-4f71-92ec-8eed02e38b18\",\"type\":\"WheelZoomTool\"},{\"attributes\":{\"fill_alpha\":{\"value\":0.1},\"fill_color\":{\"value\":\"#1f77b4\"},\"line_alpha\":{\"value\":0.1},\"line_color\":{\"value\":\"#1f77b4\"},\"x\":{\"field\":\"x\"},\"y\":{\"field\":\"y\"}},\"id\":\"809366e9-c42e-4b25-8c1a-1f2ed5f629b3\",\"type\":\"Circle\"},{\"attributes\":{\"line_alpha\":0.1,\"line_color\":\"#1f77b4\",\"line_dash\":[6],\"line_width\":5,\"x\":{\"field\":\"x\"},\"y\":{\"field\":\"y\"}},\"id\":\"83553458-cf3d-4b17-8cba-f01208842a68\",\"type\":\"Line\"},{\"attributes\":{\"callback\":null,\"column_names\":[\"x\",\"y\"],\"data\":{\"x\":{\"__ndarray__\":\"A+KKyNF4xT8f/Lzfd6fIPzf7TksGWtA/4iBVVRvp1D+LxmB7Jr3ZP49nio6a4t4/fGVwwx8Z4j+17xAaT8HkP7JdP97lVec/KI3m+paz6T+JRG+ZXbDrP2jyTZInJ+0/jylROJ3r7T8UuM/hKVDtP1FnmIDU3uo/f2he/fx85z/rkiwBIx3kP5hhTkaFSeE/t1EoF3oB3z8Dh9AAV0TeP6k13HwIceA/fIaswYbO3z+BWvqZlmjZP/Ztrhfq3tM/hvTC+Dmvzz9Sxy6YqE7JP/kYqmlmBcQ/MAk1LDRjwD/xXI0eMAm9P1fbC54YuLk/0GZFSuE/tT8+lNh14DOwP448Er/awKo/SpEPj8Axqj9QqyG2VdaqPw/x0yxy46w/3wi63f89rj/IhvjAmqOsP1xqMkpPcak/Isa4xFFPpj8LG17hxR+jPwfPevS4uJ8/YT19fMe6mD9YEY2ihHqQP3zf8xGP3ng/L5LhQ1/vZD/EGXtdd1GFP837STu1MJU/E2kNIalqnT+NudqeOzOiP4Ys3kzIVKU/pEaM/S85qD+Z3PC2QfSqP2a7OSrPj60/QVL6CYIHsD88ztacCzmxP8H0wJe8UbI/ulBEn6ZRsz+cQr9MuS+0PxCLA+eL5rQ/y1ZAGk90tT9aEzAQTd+1P8TJWsLkLrY/I49miLButj9TY8/M86y2PwQRjZiw+bY/oPRUfqhktz/SPN/Oit63PxD7vw1qNLg/C8Ki9Jrgtz+0AYL4WYa2P9zY0H6MYrQ/LTzYscL6sT8w7IOe6COvP7HF3Jyu56k/\",\"dtype\":\"float64\",\"shape\":[75]},\"y\":{\"__ndarray__\":\"GhExyth1ND/Sv8nbtpRIP2vylNV0PVE/aTum7souWD/At0SJ8fVgPw3Iuahxymc/MSNhhJWvcD/bTfBN02d3P2zb5nxnaoA/CD5h5MAGhz8NmeH1TyaQP+zrCsc9p5Y/LbKd76fGnz/bLW5ISEmmPww9YvTcQq8/JV2OstnstT8Er5Y7M8G+P0c+r3jqkcU/5h99k6ZBzj88bCIzFzjVP4enV8oyxN0//yH99nXg5D8qOpLLf0jtP5kqGJXUifQ/c9cS8kHP/D+/DpwzojQEQIEmwoanVwxA4lgXt9HgE0BSSZ2AJuIbQAMJih9jjiNA5q4l5INuK0AwTKYKRj0zQNv5fmq8/DpAaCJseHrtQkB/+zpwzoxKQM3MzMzMeFJAZmZmZmZqWEAAAAAAAFxeQM3MzMzMJmJAmpmZmZkfZUBmZmZmZhhoQDMzMzMzEWtAAAAAAAAKbkBmZmZmZoFwQM3MzMzM/XFAMzMzMzN6c0CamZmZmfZ0QAAAAAAAc3ZAZmZmZmbvd0DNzMzMzGt5QDMzMzMz6HpAmpmZmZlkfEAAAAAAAOF9QGZmZmZmXX9AZmZmZuZsgECamZmZGSuBQM3MzMxM6YFAAAAAAICngkAzMzMzs2WDQGZmZmbmI4RAmpmZmRnihEDNzMzMTKCFQAAAAACAXoZAMzMzM7Mch0BmZmZm5tqHQJqZmZkZmYhAzczMzExXiUAAAAAAgBWKQDMzMzOz04pAZmZmZuaRi0CamZmZGVCMQM3MzMxMDo1AAAAAAIDMjUAzMzMzs4qOQGZmZmbmSI9A\",\"dtype\":\"float64\",\"shape\":[75]}}},\"id\":\"44bed59b-fa03-45aa-963f-b65f8a101cd4\",\"type\":\"ColumnDataSource\"},{\"attributes\":{\"callback\":null,\"column_names\":[\"x\",\"y\"],\"data\":{\"x\":{\"__ndarray__\":\"A+KKyNF4xT8f/Lzfd6fIPzf7TksGWtA/4iBVVRvp1D+LxmB7Jr3ZP49nio6a4t4/fGVwwx8Z4j+17xAaT8HkP7JdP97lVec/KI3m+paz6T+JRG+ZXbDrP2jyTZInJ+0/jylROJ3r7T8UuM/hKVDtP1FnmIDU3uo/f2he/fx85z/rkiwBIx3kP5hhTkaFSeE/t1EoF3oB3z8Dh9AAV0TeP6k13HwIceA/fIaswYbO3z+BWvqZlmjZP/Ztrhfq3tM/hvTC+Dmvzz9Sxy6YqE7JP/kYqmlmBcQ/MAk1LDRjwD/xXI0eMAm9P1fbC54YuLk/0GZFSuE/tT8+lNh14DOwP448Er/awKo/SpEPj8Axqj9QqyG2VdaqPw/x0yxy46w/3wi63f89rj/IhvjAmqOsP1xqMkpPcak/Isa4xFFPpj8LG17hxR+jPwfPevS4uJ8/YT19fMe6mD9YEY2ihHqQP3zf8xGP3ng/L5LhQ1/vZD/EGXtdd1GFP837STu1MJU/E2kNIalqnT+NudqeOzOiP4Ys3kzIVKU/pEaM/S85qD+Z3PC2QfSqP2a7OSrPj60/QVL6CYIHsD88ztacCzmxP8H0wJe8UbI/ulBEn6ZRsz+cQr9MuS+0PxCLA+eL5rQ/y1ZAGk90tT9aEzAQTd+1P8TJWsLkLrY/I49miLButj9TY8/M86y2PwQRjZiw+bY/oPRUfqhktz/SPN/Oit63PxD7vw1qNLg/C8Ki9Jrgtz+0AYL4WYa2P9zY0H6MYrQ/LTzYscL6sT8w7IOe6COvP7HF3Jyu56k/\",\"dtype\":\"float64\",\"shape\":[75]},\"y\":{\"__ndarray__\":\"GhExyth1ND/Sv8nbtpRIP2vylNV0PVE/aTum7souWD/At0SJ8fVgPw3Iuahxymc/MSNhhJWvcD/bTfBN02d3P2zb5nxnaoA/CD5h5MAGhz8NmeH1TyaQP+zrCsc9p5Y/LbKd76fGnz/bLW5ISEmmPww9YvTcQq8/JV2OstnstT8Er5Y7M8G+P0c+r3jqkcU/5h99k6ZBzj88bCIzFzjVP4enV8oyxN0//yH99nXg5D8qOpLLf0jtP5kqGJXUifQ/c9cS8kHP/D+/DpwzojQEQIEmwoanVwxA4lgXt9HgE0BSSZ2AJuIbQAMJih9jjiNA5q4l5INuK0AwTKYKRj0zQNv5fmq8/DpAaCJseHrtQkB/+zpwzoxKQM3MzMzMeFJAZmZmZmZqWEAAAAAAAFxeQM3MzMzMJmJAmpmZmZkfZUBmZmZmZhhoQDMzMzMzEWtAAAAAAAAKbkBmZmZmZoFwQM3MzMzM/XFAMzMzMzN6c0CamZmZmfZ0QAAAAAAAc3ZAZmZmZmbvd0DNzMzMzGt5QDMzMzMz6HpAmpmZmZlkfEAAAAAAAOF9QGZmZmZmXX9AZmZmZuZsgECamZmZGSuBQM3MzMxM6YFAAAAAAICngkAzMzMzs2WDQGZmZmbmI4RAmpmZmRnihEDNzMzMTKCFQAAAAACAXoZAMzMzM7Mch0BmZmZm5tqHQJqZmZkZmYhAzczMzExXiUAAAAAAgBWKQDMzMzOz04pAZmZmZuaRi0CamZmZGVCMQM3MzMxMDo1AAAAAAIDMjUAzMzMzs4qOQGZmZmbmSI9A\",\"dtype\":\"float64\",\"shape\":[75]}}},\"id\":\"2fd3572e-0a9e-436a-bfdc-20f3271fd150\",\"type\":\"ColumnDataSource\"},{\"attributes\":{\"callback\":null,\"end\":0.098743885578,\"start\":0.0010253786219999999},\"id\":\"930b623e-da2a-45bd-a650-57603819766d\",\"type\":\"Range1d\"},{\"attributes\":{\"source\":{\"id\":\"8c81539a-72b8-4f28-a578-f774bd7fbb51\",\"type\":\"ColumnDataSource\"}},\"id\":\"21fb6b68-b7de-4350-8a56-f157fb20359c\",\"type\":\"CDSView\"},{\"attributes\":{\"data_source\":{\"id\":\"8c81539a-72b8-4f28-a578-f774bd7fbb51\",\"type\":\"ColumnDataSource\"},\"glyph\":{\"id\":\"631eba85-dc03-491d-906b-f6cf40d35b7e\",\"type\":\"Circle\"},\"hover_glyph\":null,\"muted_glyph\":null,\"nonselection_glyph\":{\"id\":\"809366e9-c42e-4b25-8c1a-1f2ed5f629b3\",\"type\":\"Circle\"},\"selection_glyph\":null,\"view\":{\"id\":\"21fb6b68-b7de-4350-8a56-f157fb20359c\",\"type\":\"CDSView\"}},\"id\":\"72c7e7ad-e346-4d34-b08b-b40809c1f49d\",\"type\":\"GlyphRenderer\"},{\"attributes\":{},\"id\":\"aabc5fe4-418e-4bd2-bd07-2b65412d3b47\",\"type\":\"SaveTool\"},{\"attributes\":{},\"id\":\"35c092ec-ae06-4150-b892-9b076e6bfd8d\",\"type\":\"ResetTool\"},{\"attributes\":{\"data_source\":{\"id\":\"8408de62-fc69-4891-858c-1ad41f624908\",\"type\":\"ColumnDataSource\"},\"glyph\":{\"id\":\"7a7b300b-ec17-49bb-a41e-4a44d8b75134\",\"type\":\"Square\"},\"hover_glyph\":null,\"muted_glyph\":null,\"nonselection_glyph\":{\"id\":\"deea9418-57d3-4a4d-ad3c-f2674f1c4b2e\",\"type\":\"Square\"},\"selection_glyph\":null,\"view\":{\"id\":\"95d61ca6-8525-4de0-bfb4-e84f347ce417\",\"type\":\"CDSView\"}},\"id\":\"42ab12a6-328d-49ac-ac83-40cde1275d51\",\"type\":\"GlyphRenderer\"},{\"attributes\":{\"callback\":null,\"column_names\":[\"x\",\"y\"],\"data\":{\"x\":{\"__ndarray__\":\"ZKhxDFQIzD9OP4/uc77OP0gZcQFoFNQ/vKbuZwQd2T8QTyPreGXeP9CUAKkL4OE/0lRw9AiA5D8cNIm0bPHmPz+GM2ThEOk/YcccV2W36j/rfA37HMPrP9f1j65nIuw/23lN1V7g6z+NYW/eD4rqP21ce3Yr8ec/c6I8d6s85T+Se/Rl7T/jP3vgnVtsA+I//gvj8khx4T9BGLKZx4rhP/wUruS2n+I/lUnsXhdT4T+7FVfPKKHaPxJujWN/NNQ/P2Vnl5CLzz9tpzFKZUTIP5kgdujsy8E/TfPQb0Zquj+ufOrmTwy2PyBLfyzNeLM/tIeQzzjIsD9nhpRsY1arPyY0sQ+eSKg/bmuC3e3QqD/IlA9B1eioPwOWgoyFw6g/mNSRohxsqD/OyMIFEKamP36pTvAVKaQ/NAowyVQDoj+IyPCl3r2fP3XNGY49NJs/4IVZ2jwdlj+XyCsuk4OPP9KbIN45I30/FLuJpJU3cj97AKlSVZaIP1IU0XcDQZY/NouMGLo1nj+Vqv5SUJuiP8FLAU2q1KU/AJxbRLvaqD8tQ8uj47arP7meWA+ubK4/TVrNRw1+sD+Z85E2g6+xP//bs05fxrI/XSKYHNe8sz99cGf03Yy0P1cz5DjtMrU/vAVoFPiutT9QhVZfEQe2P9vWMvPGRLY/mguj8/Z0tj/keo29FKe2PyhqGiix6rY/vGcYz4RMtz/IlPtc7sW3Pz9ZfepiF7g/+mmk8YC8tz9Q9znyy1a2P3UpzIBVI7Q/gK+aR/uosT8fjqZhlV6uPyfS0hwmCKk/\",\"dtype\":\"float64\",\"shape\":[75]},\"y\":{\"__ndarray__\":\"GhExyth1ND/Sv8nbtpRIP2vylNV0PVE/aTum7souWD/At0SJ8fVgPw3Iuahxymc/MSNhhJWvcD/bTfBN02d3P2zb5nxnaoA/CD5h5MAGhz8NmeH1TyaQP+zrCsc9p5Y/LbKd76fGnz/bLW5ISEmmPww9YvTcQq8/JV2OstnstT8Er5Y7M8G+P0c+r3jqkcU/5h99k6ZBzj88bCIzFzjVP4enV8oyxN0//yH99nXg5D8qOpLLf0jtP5kqGJXUifQ/c9cS8kHP/D+/DpwzojQEQIEmwoanVwxA4lgXt9HgE0BSSZ2AJuIbQAMJih9jjiNA5q4l5INuK0AwTKYKRj0zQNv5fmq8/DpAaCJseHrtQkB/+zpwzoxKQM3MzMzMeFJAZmZmZmZqWEAAAAAAAFxeQM3MzMzMJmJAmpmZmZkfZUBmZmZmZhhoQDMzMzMzEWtAAAAAAAAKbkBmZmZmZoFwQM3MzMzM/XFAMzMzMzN6c0CamZmZmfZ0QAAAAAAAc3ZAZmZmZmbvd0DNzMzMzGt5QDMzMzMz6HpAmpmZmZlkfEAAAAAAAOF9QGZmZmZmXX9AZmZmZuZsgECamZmZGSuBQM3MzMxM6YFAAAAAAICngkAzMzMzs2WDQGZmZmbmI4RAmpmZmRnihEDNzMzMTKCFQAAAAACAXoZAMzMzM7Mch0BmZmZm5tqHQJqZmZkZmYhAzczMzExXiUAAAAAAgBWKQDMzMzOz04pAZmZmZuaRi0CamZmZGVCMQM3MzMxMDo1AAAAAAIDMjUAzMzMzs4qOQGZmZmbmSI9A\",\"dtype\":\"float64\",\"shape\":[75]}}},\"id\":\"e1c9a9fc-1665-4c02-82dc-2f6ec0eeb3cf\",\"type\":\"ColumnDataSource\"},{\"attributes\":{},\"id\":\"f6acacd8-e412-4b98-8c54-4048df735e38\",\"type\":\"HelpTool\"},{\"attributes\":{\"fill_alpha\":{\"value\":0.1},\"fill_color\":{\"value\":\"#1f77b4\"},\"line_alpha\":{\"value\":0.1},\"line_color\":{\"value\":\"#1f77b4\"},\"x\":{\"field\":\"x\"},\"y\":{\"field\":\"y\"}},\"id\":\"3fb08740-b0e1-44ad-9d6e-0d76fc68ab44\",\"type\":\"Circle\"},{\"attributes\":{\"callback\":null,\"column_names\":[\"x\",\"y\"],\"data\":{\"x\":{\"__ndarray__\":\"ZKhxDFQIzD9OP4/uc77OP0gZcQFoFNQ/vKbuZwQd2T8QTyPreGXeP9CUAKkL4OE/0lRw9AiA5D8cNIm0bPHmPz+GM2ThEOk/YcccV2W36j/rfA37HMPrP9f1j65nIuw/23lN1V7g6z+NYW/eD4rqP21ce3Yr8ec/c6I8d6s85T+Se/Rl7T/jP3vgnVtsA+I//gvj8khx4T9BGLKZx4rhP/wUruS2n+I/lUnsXhdT4T+7FVfPKKHaPxJujWN/NNQ/P2Vnl5CLzz9tpzFKZUTIP5kgdujsy8E/TfPQb0Zquj+ufOrmTwy2PyBLfyzNeLM/tIeQzzjIsD9nhpRsY1arPyY0sQ+eSKg/bmuC3e3QqD/IlA9B1eioPwOWgoyFw6g/mNSRohxsqD/OyMIFEKamP36pTvAVKaQ/NAowyVQDoj+IyPCl3r2fP3XNGY49NJs/4IVZ2jwdlj+XyCsuk4OPP9KbIN45I30/FLuJpJU3cj97AKlSVZaIP1IU0XcDQZY/NouMGLo1nj+Vqv5SUJuiP8FLAU2q1KU/AJxbRLvaqD8tQ8uj47arP7meWA+ubK4/TVrNRw1+sD+Z85E2g6+xP//bs05fxrI/XSKYHNe8sz99cGf03Yy0P1cz5DjtMrU/vAVoFPiutT9QhVZfEQe2P9vWMvPGRLY/mguj8/Z0tj/keo29FKe2PyhqGiix6rY/vGcYz4RMtz/IlPtc7sW3Pz9ZfepiF7g/+mmk8YC8tz9Q9znyy1a2P3UpzIBVI7Q/gK+aR/uosT8fjqZhlV6uPyfS0hwmCKk/\",\"dtype\":\"float64\",\"shape\":[75]},\"y\":{\"__ndarray__\":\"GhExyth1ND/Sv8nbtpRIP2vylNV0PVE/aTum7souWD/At0SJ8fVgPw3Iuahxymc/MSNhhJWvcD/bTfBN02d3P2zb5nxnaoA/CD5h5MAGhz8NmeH1TyaQP+zrCsc9p5Y/LbKd76fGnz/bLW5ISEmmPww9YvTcQq8/JV2OstnstT8Er5Y7M8G+P0c+r3jqkcU/5h99k6ZBzj88bCIzFzjVP4enV8oyxN0//yH99nXg5D8qOpLLf0jtP5kqGJXUifQ/c9cS8kHP/D+/DpwzojQEQIEmwoanVwxA4lgXt9HgE0BSSZ2AJuIbQAMJih9jjiNA5q4l5INuK0AwTKYKRj0zQNv5fmq8/DpAaCJseHrtQkB/+zpwzoxKQM3MzMzMeFJAZmZmZmZqWEAAAAAAAFxeQM3MzMzMJmJAmpmZmZkfZUBmZmZmZhhoQDMzMzMzEWtAAAAAAAAKbkBmZmZmZoFwQM3MzMzM/XFAMzMzMzN6c0CamZmZmfZ0QAAAAAAAc3ZAZmZmZmbvd0DNzMzMzGt5QDMzMzMz6HpAmpmZmZlkfEAAAAAAAOF9QGZmZmZmXX9AZmZmZuZsgECamZmZGSuBQM3MzMxM6YFAAAAAAICngkAzMzMzs2WDQGZmZmbmI4RAmpmZmRnihEDNzMzMTKCFQAAAAACAXoZAMzMzM7Mch0BmZmZm5tqHQJqZmZkZmYhAzczMzExXiUAAAAAAgBWKQDMzMzOz04pAZmZmZuaRi0CamZmZGVCMQM3MzMxMDo1AAAAAAIDMjUAzMzMzs4qOQGZmZmbmSI9A\",\"dtype\":\"float64\",\"shape\":[75]}}},\"id\":\"ce7fa8de-5c30-4853-89c2-0cbd687dcbc6\",\"type\":\"ColumnDataSource\"},{\"attributes\":{\"fill_alpha\":{\"value\":0.7},\"fill_color\":{\"value\":\"#4daf4a\"},\"line_alpha\":{\"value\":0.7},\"line_color\":{\"value\":\"#4daf4a\"},\"x\":{\"field\":\"x\"},\"y\":{\"field\":\"y\"}},\"id\":\"631eba85-dc03-491d-906b-f6cf40d35b7e\",\"type\":\"Circle\"},{\"attributes\":{\"line_color\":\"#4daf4a\",\"line_width\":1.5,\"x\":{\"field\":\"x\"},\"y\":{\"field\":\"y\"}},\"id\":\"7f46cc4f-79a9-425f-b393-f7983513c68b\",\"type\":\"Line\"},{\"attributes\":{},\"id\":\"b9b76500-a477-42bd-b895-d1848d5dacf7\",\"type\":\"BasicTickFormatter\"},{\"attributes\":{\"data_source\":{\"id\":\"21b028f6-bd45-40d8-abe7-c8a674e30b0e\",\"type\":\"ColumnDataSource\"},\"glyph\":{\"id\":\"8d9f61d7-0b59-4e03-aabc-2ceb7c451d49\",\"type\":\"Line\"},\"hover_glyph\":null,\"muted_glyph\":null,\"nonselection_glyph\":{\"id\":\"03a27e0f-1d05-4c88-aded-3f6a24dd1bd8\",\"type\":\"Line\"},\"selection_glyph\":null,\"view\":{\"id\":\"c982f88c-5304-4287-960e-2d7b7b44d6fc\",\"type\":\"CDSView\"}},\"id\":\"af61b69e-54da-4232-8c1a-c63f0f901196\",\"type\":\"GlyphRenderer\"},{\"attributes\":{\"fill_alpha\":{\"value\":0.1},\"fill_color\":{\"value\":\"#1f77b4\"},\"line_alpha\":{\"value\":0.1},\"line_color\":{\"value\":\"#1f77b4\"},\"x\":{\"field\":\"x\"},\"y\":{\"field\":\"y\"}},\"id\":\"b9bb6b63-8ab5-4210-a116-7ada27d13a1d\",\"type\":\"Square\"},{\"attributes\":{\"data_source\":{\"id\":\"e1c9a9fc-1665-4c02-82dc-2f6ec0eeb3cf\",\"type\":\"ColumnDataSource\"},\"glyph\":{\"id\":\"7f46cc4f-79a9-425f-b393-f7983513c68b\",\"type\":\"Line\"},\"hover_glyph\":null,\"muted_glyph\":null,\"nonselection_glyph\":{\"id\":\"c209549d-3ace-4047-952e-54bf77cd001f\",\"type\":\"Line\"},\"selection_glyph\":null,\"view\":{\"id\":\"c542c7a1-86aa-49e0-9680-35e72082d352\",\"type\":\"CDSView\"}},\"id\":\"6c0625cc-6e13-4c8d-942a-9fb575a720a1\",\"type\":\"GlyphRenderer\"},{\"attributes\":{\"callback\":null,\"column_names\":[\"x\",\"y\"],\"data\":{\"x\":{\"__ndarray__\":\"A+KKyNF4xT8f/Lzfd6fIPzf7TksGWtA/4iBVVRvp1D+LxmB7Jr3ZP49nio6a4t4/fGVwwx8Z4j+17xAaT8HkP7JdP97lVec/KI3m+paz6T+JRG+ZXbDrP2jyTZInJ+0/jylROJ3r7T8UuM/hKVDtP1FnmIDU3uo/f2he/fx85z/rkiwBIx3kP5hhTkaFSeE/t1EoF3oB3z8Dh9AAV0TeP6k13HwIceA/fIaswYbO3z+BWvqZlmjZP/Ztrhfq3tM/hvTC+Dmvzz9Sxy6YqE7JP/kYqmlmBcQ/MAk1LDRjwD/xXI0eMAm9P1fbC54YuLk/0GZFSuE/tT8+lNh14DOwP448Er/awKo/SpEPj8Axqj9QqyG2VdaqPw/x0yxy46w/3wi63f89rj/IhvjAmqOsP1xqMkpPcak/Isa4xFFPpj8LG17hxR+jPwfPevS4uJ8/YT19fMe6mD9YEY2ihHqQP3zf8xGP3ng/L5LhQ1/vZD/EGXtdd1GFP837STu1MJU/E2kNIalqnT+NudqeOzOiP4Ys3kzIVKU/pEaM/S85qD+Z3PC2QfSqP2a7OSrPj60/QVL6CYIHsD88ztacCzmxP8H0wJe8UbI/ulBEn6ZRsz+cQr9MuS+0PxCLA+eL5rQ/y1ZAGk90tT9aEzAQTd+1P8TJWsLkLrY/I49miLButj9TY8/M86y2PwQRjZiw+bY/oPRUfqhktz/SPN/Oit63PxD7vw1qNLg/C8Ki9Jrgtz+0AYL4WYa2P9zY0H6MYrQ/LTzYscL6sT8w7IOe6COvP7HF3Jyu56k/\",\"dtype\":\"float64\",\"shape\":[75]},\"y\":{\"__ndarray__\":\"GhExyth1ND/Sv8nbtpRIP2vylNV0PVE/aTum7souWD/At0SJ8fVgPw3Iuahxymc/MSNhhJWvcD/bTfBN02d3P2zb5nxnaoA/CD5h5MAGhz8NmeH1TyaQP+zrCsc9p5Y/LbKd76fGnz/bLW5ISEmmPww9YvTcQq8/JV2OstnstT8Er5Y7M8G+P0c+r3jqkcU/5h99k6ZBzj88bCIzFzjVP4enV8oyxN0//yH99nXg5D8qOpLLf0jtP5kqGJXUifQ/c9cS8kHP/D+/DpwzojQEQIEmwoanVwxA4lgXt9HgE0BSSZ2AJuIbQAMJih9jjiNA5q4l5INuK0AwTKYKRj0zQNv5fmq8/DpAaCJseHrtQkB/+zpwzoxKQM3MzMzMeFJAZmZmZmZqWEAAAAAAAFxeQM3MzMzMJmJAmpmZmZkfZUBmZmZmZhhoQDMzMzMzEWtAAAAAAAAKbkBmZmZmZoFwQM3MzMzM/XFAMzMzMzN6c0CamZmZmfZ0QAAAAAAAc3ZAZmZmZmbvd0DNzMzMzGt5QDMzMzMz6HpAmpmZmZlkfEAAAAAAAOF9QGZmZmZmXX9AZmZmZuZsgECamZmZGSuBQM3MzMxM6YFAAAAAAICngkAzMzMzs2WDQGZmZmbmI4RAmpmZmRnihEDNzMzMTKCFQAAAAACAXoZAMzMzM7Mch0BmZmZm5tqHQJqZmZkZmYhAzczMzExXiUAAAAAAgBWKQDMzMzOz04pAZmZmZuaRi0CamZmZGVCMQM3MzMxMDo1AAAAAAIDMjUAzMzMzs4qOQGZmZmbmSI9A\",\"dtype\":\"float64\",\"shape\":[75]}}},\"id\":\"b0892337-2509-415a-941e-d0986509d85d\",\"type\":\"ColumnDataSource\"},{\"attributes\":{},\"id\":\"c21884c0-a41a-4929-b350-cffd3449ca46\",\"type\":\"SaveTool\"},{\"attributes\":{\"line_alpha\":0.6,\"line_color\":\"#984ea3\",\"line_width\":3,\"x\":{\"field\":\"x\"},\"y\":{\"field\":\"y\"}},\"id\":\"338d4558-bc57-40ee-b523-976951ece3a4\",\"type\":\"Line\"},{\"attributes\":{\"line_alpha\":0.1,\"line_color\":\"#1f77b4\",\"line_width\":1.5,\"x\":{\"field\":\"x\"},\"y\":{\"field\":\"y\"}},\"id\":\"c209549d-3ace-4047-952e-54bf77cd001f\",\"type\":\"Line\"},{\"attributes\":{\"source\":{\"id\":\"e1c9a9fc-1665-4c02-82dc-2f6ec0eeb3cf\",\"type\":\"ColumnDataSource\"}},\"id\":\"c542c7a1-86aa-49e0-9680-35e72082d352\",\"type\":\"CDSView\"},{\"attributes\":{\"below\":[{\"id\":\"e540685c-402c-4544-b98d-ce9655876be3\",\"type\":\"LinearAxis\"}],\"left\":[{\"id\":\"139e1f04-ef9c-41e7-8d01-52956c34355e\",\"type\":\"LinearAxis\"}],\"plot_height\":500,\"plot_width\":400,\"renderers\":[{\"id\":\"e540685c-402c-4544-b98d-ce9655876be3\",\"type\":\"LinearAxis\"},{\"id\":\"f8fd16ff-9b85-4906-8a7b-79e5756782ea\",\"type\":\"Grid\"},{\"id\":\"139e1f04-ef9c-41e7-8d01-52956c34355e\",\"type\":\"LinearAxis\"},{\"id\":\"0f5c68d3-3df7-4f5d-b45f-d62721f1d50f\",\"type\":\"Grid\"},{\"id\":\"b2e3b837-914f-4758-bdca-5d49c213bf17\",\"type\":\"BoxAnnotation\"},{\"id\":\"d93004b1-2a8d-4acf-8bce-32dfd7e81a46\",\"type\":\"GlyphRenderer\"},{\"id\":\"8e6ed218-5c04-4a45-a220-33df6cd63ae8\",\"type\":\"GlyphRenderer\"},{\"id\":\"ec15f929-80fe-475c-8980-eafa47065810\",\"type\":\"GlyphRenderer\"},{\"id\":\"42ab12a6-328d-49ac-ac83-40cde1275d51\",\"type\":\"GlyphRenderer\"},{\"id\":\"5e49695e-fa2d-4c6e-935b-2aea07c816e5\",\"type\":\"GlyphRenderer\"}],\"title\":{\"id\":\"ef83be37-8a8a-4dad-8dbd-065d800b9bdb\",\"type\":\"Title\"},\"toolbar\":{\"id\":\"2bac1bf1-2f5b-4d76-95aa-e0f79bb4396a\",\"type\":\"Toolbar\"},\"toolbar_location\":null,\"x_range\":{\"id\":\"930b623e-da2a-45bd-a650-57603819766d\",\"type\":\"Range1d\"},\"x_scale\":{\"id\":\"bf700dee-0dc7-41bd-be50-9b6395b7eac7\",\"type\":\"LinearScale\"},\"y_range\":{\"id\":\"6643d6ef-0a8c-4867-bbf2-68c4d80f045d\",\"type\":\"Range1d\"},\"y_scale\":{\"id\":\"48778030-0c64-4e49-9006-24c3531dc006\",\"type\":\"LinearScale\"}},\"id\":\"f217b11d-906a-48a8-ad2e-80818e7505ac\",\"subtype\":\"Figure\",\"type\":\"Plot\"},{\"attributes\":{\"fill_alpha\":{\"value\":0.7},\"fill_color\":{\"value\":\"#984ea3\"},\"line_alpha\":{\"value\":0.7},\"line_color\":{\"value\":\"#984ea3\"},\"x\":{\"field\":\"x\"},\"y\":{\"field\":\"y\"}},\"id\":\"d0583732-8a83-4ffe-b16a-c0216138fe72\",\"type\":\"Square\"},{\"attributes\":{\"data_source\":{\"id\":\"2fd3572e-0a9e-436a-bfdc-20f3271fd150\",\"type\":\"ColumnDataSource\"},\"glyph\":{\"id\":\"d0583732-8a83-4ffe-b16a-c0216138fe72\",\"type\":\"Square\"},\"hover_glyph\":null,\"muted_glyph\":null,\"nonselection_glyph\":{\"id\":\"b9bb6b63-8ab5-4210-a116-7ada27d13a1d\",\"type\":\"Square\"},\"selection_glyph\":null,\"view\":{\"id\":\"63fddb2e-70c5-4152-a7ca-f5219e1d1d1b\",\"type\":\"CDSView\"}},\"id\":\"7062b82d-0481-4e7f-9029-11e587228735\",\"type\":\"GlyphRenderer\"},{\"attributes\":{\"source\":{\"id\":\"ce7fa8de-5c30-4853-89c2-0cbd687dcbc6\",\"type\":\"ColumnDataSource\"}},\"id\":\"f9d56f99-c7d0-454c-8c3f-53b6ec050275\",\"type\":\"CDSView\"},{\"attributes\":{\"line_alpha\":0.1,\"line_color\":\"#1f77b4\",\"line_width\":3,\"x\":{\"field\":\"x\"},\"y\":{\"field\":\"y\"}},\"id\":\"420ae987-d546-4034-b2e7-089c4f6c75b7\",\"type\":\"Line\"},{\"attributes\":{},\"id\":\"bd6a49b5-c989-4ac2-bc9b-f93254f21de9\",\"type\":\"ResetTool\"},{\"attributes\":{\"callback\":null,\"end\":0.9440516293576999,\"start\":0.0219575954123},\"id\":\"1eda4936-6463-4894-a94f-2f693a00f7a7\",\"type\":\"Range1d\"},{\"attributes\":{\"source\":{\"id\":\"2fd3572e-0a9e-436a-bfdc-20f3271fd150\",\"type\":\"ColumnDataSource\"}},\"id\":\"63fddb2e-70c5-4152-a7ca-f5219e1d1d1b\",\"type\":\"CDSView\"},{\"attributes\":{\"axis_label\":\"pressure [mb]\",\"formatter\":{\"id\":\"0c7f4de0-bc0a-4751-9724-045774539fbb\",\"type\":\"BasicTickFormatter\"},\"plot\":{\"id\":\"f217b11d-906a-48a8-ad2e-80818e7505ac\",\"subtype\":\"Figure\",\"type\":\"Plot\"},\"ticker\":{\"id\":\"5325d7af-43d8-437b-ab00-8b3d648d6094\",\"type\":\"BasicTicker\"}},\"id\":\"139e1f04-ef9c-41e7-8d01-52956c34355e\",\"type\":\"LinearAxis\"},{\"attributes\":{\"line_alpha\":0.6,\"line_color\":\"#984ea3\",\"line_width\":3,\"x\":{\"field\":\"x\"},\"y\":{\"field\":\"y\"}},\"id\":\"d9fd3402-af2d-45db-a7a9-27984a2dd7bd\",\"type\":\"Line\"},{\"attributes\":{\"data_source\":{\"id\":\"44bed59b-fa03-45aa-963f-b65f8a101cd4\",\"type\":\"ColumnDataSource\"},\"glyph\":{\"id\":\"d9fd3402-af2d-45db-a7a9-27984a2dd7bd\",\"type\":\"Line\"},\"hover_glyph\":null,\"muted_glyph\":null,\"nonselection_glyph\":{\"id\":\"420ae987-d546-4034-b2e7-089c4f6c75b7\",\"type\":\"Line\"},\"selection_glyph\":null,\"view\":{\"id\":\"c410f605-d13e-48d2-9137-9fd950639fd8\",\"type\":\"CDSView\"}},\"id\":\"153921f6-4405-4412-944e-71fb289e0a86\",\"type\":\"GlyphRenderer\"},{\"attributes\":{},\"id\":\"14216385-438e-42fc-9224-5a8d23528efb\",\"type\":\"BasicTicker\"},{\"attributes\":{\"label\":{\"value\":\"WGT igg=10 wgt_flux=2\"},\"renderers\":[{\"id\":\"7062b82d-0481-4e7f-9029-11e587228735\",\"type\":\"GlyphRenderer\"},{\"id\":\"153921f6-4405-4412-944e-71fb289e0a86\",\"type\":\"GlyphRenderer\"}]},\"id\":\"c04598c2-708d-49a8-9d54-d5aa6deaf574\",\"type\":\"LegendItem\"},{\"attributes\":{\"line_color\":\"#4daf4a\",\"line_width\":1.5,\"x\":{\"field\":\"x\"},\"y\":{\"field\":\"y\"}},\"id\":\"de38c8ee-78b6-49b4-9fd9-9eca049e189f\",\"type\":\"Line\"},{\"attributes\":{\"source\":{\"id\":\"44bed59b-fa03-45aa-963f-b65f8a101cd4\",\"type\":\"ColumnDataSource\"}},\"id\":\"c410f605-d13e-48d2-9137-9fd950639fd8\",\"type\":\"CDSView\"},{\"attributes\":{\"items\":[{\"id\":\"bd0b21d3-fc0f-4f63-8b05-2e32fd0e6e03\",\"type\":\"LegendItem\"},{\"id\":\"b215a5f5-2eee-4641-a077-d53b01283f36\",\"type\":\"LegendItem\"},{\"id\":\"c04598c2-708d-49a8-9d54-d5aa6deaf574\",\"type\":\"LegendItem\"}],\"label_text_font_size\":{\"value\":\"8pt\"},\"location\":[10,-30],\"plot\":{\"id\":\"46ce4778-e981-44bc-9236-89a5f3c339c7\",\"subtype\":\"Figure\",\"type\":\"Plot\"}},\"id\":\"0ba9f0dd-9427-4e56-9480-60128ea76089\",\"type\":\"Legend\"},{\"attributes\":{\"children\":[{\"id\":\"d8c0012e-c774-4b90-81f7-2478f33ef08f\",\"type\":\"ToolbarBox\"},{\"id\":\"fe84e421-b32e-4b6a-8f97-4711ca56ecdc\",\"type\":\"Column\"}]},\"id\":\"24e6348a-0790-4d5a-9af5-d2a1650eed59\",\"type\":\"Column\"},{\"attributes\":{\"plot\":null,\"text\":\"Log pressure scale\"},\"id\":\"c117f7c4-7ed0-45db-b8de-5bf4258e717a\",\"type\":\"Title\"},{\"attributes\":{\"source\":{\"id\":\"262c3a02-e00c-49a9-b3d2-eddca24ffb17\",\"type\":\"ColumnDataSource\"}},\"id\":\"eb08f01c-cd9b-461d-bda7-febd7ae75c5f\",\"type\":\"CDSView\"},{\"attributes\":{\"label\":{\"value\":\"CLIRAD `coolr_bands`\"},\"renderers\":[{\"id\":\"af61b69e-54da-4232-8c1a-c63f0f901196\",\"type\":\"GlyphRenderer\"}]},\"id\":\"bd0b21d3-fc0f-4f63-8b05-2e32fd0e6e03\",\"type\":\"LegendItem\"},{\"attributes\":{\"fill_alpha\":{\"value\":0.7},\"fill_color\":{\"value\":\"#4daf4a\"},\"line_alpha\":{\"value\":0.7},\"line_color\":{\"value\":\"#4daf4a\"},\"x\":{\"field\":\"x\"},\"y\":{\"field\":\"y\"}},\"id\":\"2fbbaf4d-cc7d-47d7-ae3f-524a568c1a24\",\"type\":\"Circle\"},{\"attributes\":{\"children\":[{\"id\":\"f217b11d-906a-48a8-ad2e-80818e7505ac\",\"subtype\":\"Figure\",\"type\":\"Plot\"},{\"id\":\"46ce4778-e981-44bc-9236-89a5f3c339c7\",\"subtype\":\"Figure\",\"type\":\"Plot\"}]},\"id\":\"e04ba3f0-5192-43b9-9955-30107e4c72e0\",\"type\":\"Row\"},{\"attributes\":{\"below\":[{\"id\":\"0aa22ce4-9766-426f-b7ee-0e9bb948b98e\",\"type\":\"LinearAxis\"}],\"left\":[{\"id\":\"00c39bb5-a7ab-4c1f-8d9b-3bfb7cf694b8\",\"type\":\"LogAxis\"}],\"plot_height\":500,\"plot_width\":560,\"renderers\":[{\"id\":\"0aa22ce4-9766-426f-b7ee-0e9bb948b98e\",\"type\":\"LinearAxis\"},{\"id\":\"0db10bce-41cc-4995-a902-8986fb80fc3b\",\"type\":\"Grid\"},{\"id\":\"00c39bb5-a7ab-4c1f-8d9b-3bfb7cf694b8\",\"type\":\"LogAxis\"},{\"id\":\"c90675a1-ac81-42e4-87d4-b2e771e919e4\",\"type\":\"Grid\"},{\"id\":\"a0e4e92b-8674-44da-8325-14c384220156\",\"type\":\"BoxAnnotation\"},{\"id\":\"af61b69e-54da-4232-8c1a-c63f0f901196\",\"type\":\"GlyphRenderer\"},{\"id\":\"72c7e7ad-e346-4d34-b08b-b40809c1f49d\",\"type\":\"GlyphRenderer\"},{\"id\":\"6c0625cc-6e13-4c8d-942a-9fb575a720a1\",\"type\":\"GlyphRenderer\"},{\"id\":\"7062b82d-0481-4e7f-9029-11e587228735\",\"type\":\"GlyphRenderer\"},{\"id\":\"153921f6-4405-4412-944e-71fb289e0a86\",\"type\":\"GlyphRenderer\"},{\"id\":\"0ba9f0dd-9427-4e56-9480-60128ea76089\",\"type\":\"Legend\"}],\"right\":[{\"id\":\"0ba9f0dd-9427-4e56-9480-60128ea76089\",\"type\":\"Legend\"}],\"title\":{\"id\":\"c117f7c4-7ed0-45db-b8de-5bf4258e717a\",\"type\":\"Title\"},\"toolbar\":{\"id\":\"4bada0ef-9ad8-4dd3-a1e7-53f2cf603374\",\"type\":\"Toolbar\"},\"toolbar_location\":null,\"x_range\":{\"id\":\"1eda4936-6463-4894-a94f-2f693a00f7a7\",\"type\":\"Range1d\"},\"x_scale\":{\"id\":\"df4ed3f8-e434-422a-9006-fd94943b224a\",\"type\":\"LinearScale\"},\"y_range\":{\"id\":\"b5882705-69ce-44df-872f-7e1cac303753\",\"type\":\"Range1d\"},\"y_scale\":{\"id\":\"c85908df-4a0e-48fe-b120-b6c168527a6f\",\"type\":\"LogScale\"}},\"id\":\"46ce4778-e981-44bc-9236-89a5f3c339c7\",\"subtype\":\"Figure\",\"type\":\"Plot\"},{\"attributes\":{\"active_drag\":\"auto\",\"active_inspect\":\"auto\",\"active_scroll\":\"auto\",\"active_tap\":\"auto\",\"tools\":[{\"id\":\"6a7b4781-c8d3-4c14-b101-cb381fe5a962\",\"type\":\"PanTool\"},{\"id\":\"29e20943-e73c-4f71-92ec-8eed02e38b18\",\"type\":\"WheelZoomTool\"},{\"id\":\"5fcfbded-babb-4e1d-b41d-87b0dfd1ef4b\",\"type\":\"BoxZoomTool\"},{\"id\":\"c21884c0-a41a-4929-b350-cffd3449ca46\",\"type\":\"SaveTool\"},{\"id\":\"bd6a49b5-c989-4ac2-bc9b-f93254f21de9\",\"type\":\"ResetTool\"},{\"id\":\"cf912774-2eda-4ed9-9403-8412a5e90db8\",\"type\":\"HelpTool\"}]},\"id\":\"4bada0ef-9ad8-4dd3-a1e7-53f2cf603374\",\"type\":\"Toolbar\"},{\"attributes\":{\"children\":[{\"id\":\"e04ba3f0-5192-43b9-9955-30107e4c72e0\",\"type\":\"Row\"}]},\"id\":\"fe84e421-b32e-4b6a-8f97-4711ca56ecdc\",\"type\":\"Column\"},{\"attributes\":{\"tools\":[{\"id\":\"02e46498-6380-4db7-a6af-a75f9e667be0\",\"type\":\"PanTool\"},{\"id\":\"9e9ce5c3-97de-42a9-92b7-a46b2c486703\",\"type\":\"WheelZoomTool\"},{\"id\":\"873f847f-57c8-4521-96ac-60ac733296e9\",\"type\":\"BoxZoomTool\"},{\"id\":\"aabc5fe4-418e-4bd2-bd07-2b65412d3b47\",\"type\":\"SaveTool\"},{\"id\":\"35c092ec-ae06-4150-b892-9b076e6bfd8d\",\"type\":\"ResetTool\"},{\"id\":\"f6acacd8-e412-4b98-8c54-4048df735e38\",\"type\":\"HelpTool\"},{\"id\":\"6a7b4781-c8d3-4c14-b101-cb381fe5a962\",\"type\":\"PanTool\"},{\"id\":\"29e20943-e73c-4f71-92ec-8eed02e38b18\",\"type\":\"WheelZoomTool\"},{\"id\":\"5fcfbded-babb-4e1d-b41d-87b0dfd1ef4b\",\"type\":\"BoxZoomTool\"},{\"id\":\"c21884c0-a41a-4929-b350-cffd3449ca46\",\"type\":\"SaveTool\"},{\"id\":\"bd6a49b5-c989-4ac2-bc9b-f93254f21de9\",\"type\":\"ResetTool\"},{\"id\":\"cf912774-2eda-4ed9-9403-8412a5e90db8\",\"type\":\"HelpTool\"}]},\"id\":\"9a444a62-3e18-40e2-9c29-9b91d565db7c\",\"type\":\"ProxyToolbar\"},{\"attributes\":{\"active_drag\":\"auto\",\"active_inspect\":\"auto\",\"active_scroll\":\"auto\",\"active_tap\":\"auto\",\"tools\":[{\"id\":\"02e46498-6380-4db7-a6af-a75f9e667be0\",\"type\":\"PanTool\"},{\"id\":\"9e9ce5c3-97de-42a9-92b7-a46b2c486703\",\"type\":\"WheelZoomTool\"},{\"id\":\"873f847f-57c8-4521-96ac-60ac733296e9\",\"type\":\"BoxZoomTool\"},{\"id\":\"aabc5fe4-418e-4bd2-bd07-2b65412d3b47\",\"type\":\"SaveTool\"},{\"id\":\"35c092ec-ae06-4150-b892-9b076e6bfd8d\",\"type\":\"ResetTool\"},{\"id\":\"f6acacd8-e412-4b98-8c54-4048df735e38\",\"type\":\"HelpTool\"}]},\"id\":\"2bac1bf1-2f5b-4d76-95aa-e0f79bb4396a\",\"type\":\"Toolbar\"},{\"attributes\":{},\"id\":\"a05c0ff1-e9a5-418d-bb6f-35ae67b9afb8\",\"type\":\"BasicTickFormatter\"},{\"attributes\":{\"data_source\":{\"id\":\"ce7fa8de-5c30-4853-89c2-0cbd687dcbc6\",\"type\":\"ColumnDataSource\"},\"glyph\":{\"id\":\"de38c8ee-78b6-49b4-9fd9-9eca049e189f\",\"type\":\"Line\"},\"hover_glyph\":null,\"muted_glyph\":null,\"nonselection_glyph\":{\"id\":\"2f78ab68-109b-4542-a93f-b907d50e9835\",\"type\":\"Line\"},\"selection_glyph\":null,\"view\":{\"id\":\"f9d56f99-c7d0-454c-8c3f-53b6ec050275\",\"type\":\"CDSView\"}},\"id\":\"ec15f929-80fe-475c-8980-eafa47065810\",\"type\":\"GlyphRenderer\"},{\"attributes\":{\"source\":{\"id\":\"eaa67548-4022-4e2a-a1c5-3b5a0372b810\",\"type\":\"ColumnDataSource\"}},\"id\":\"807c2feb-2e50-4a2b-98c9-050ca96b16d7\",\"type\":\"CDSView\"},{\"attributes\":{\"fill_alpha\":{\"value\":0.1},\"fill_color\":{\"value\":\"#1f77b4\"},\"line_alpha\":{\"value\":0.1},\"line_color\":{\"value\":\"#1f77b4\"},\"x\":{\"field\":\"x\"},\"y\":{\"field\":\"y\"}},\"id\":\"deea9418-57d3-4a4d-ad3c-f2674f1c4b2e\",\"type\":\"Square\"},{\"attributes\":{\"callback\":null,\"column_names\":[\"x\",\"y\"],\"data\":{\"x\":{\"__ndarray__\":\"A+KKyNF4xT8f/Lzfd6fIPzf7TksGWtA/4iBVVRvp1D+LxmB7Jr3ZP49nio6a4t4/fGVwwx8Z4j+17xAaT8HkP7JdP97lVec/KI3m+paz6T+JRG+ZXbDrP2jyTZInJ+0/jylROJ3r7T8UuM/hKVDtP1FnmIDU3uo/f2he/fx85z/rkiwBIx3kP5hhTkaFSeE/t1EoF3oB3z8Dh9AAV0TeP6k13HwIceA/fIaswYbO3z+BWvqZlmjZP/Ztrhfq3tM/hvTC+Dmvzz9Sxy6YqE7JP/kYqmlmBcQ/MAk1LDRjwD/xXI0eMAm9P1fbC54YuLk/0GZFSuE/tT8+lNh14DOwP448Er/awKo/SpEPj8Axqj9QqyG2VdaqPw/x0yxy46w/3wi63f89rj/IhvjAmqOsP1xqMkpPcak/Isa4xFFPpj8LG17hxR+jPwfPevS4uJ8/YT19fMe6mD9YEY2ihHqQP3zf8xGP3ng/L5LhQ1/vZD/EGXtdd1GFP837STu1MJU/E2kNIalqnT+NudqeOzOiP4Ys3kzIVKU/pEaM/S85qD+Z3PC2QfSqP2a7OSrPj60/QVL6CYIHsD88ztacCzmxP8H0wJe8UbI/ulBEn6ZRsz+cQr9MuS+0PxCLA+eL5rQ/y1ZAGk90tT9aEzAQTd+1P8TJWsLkLrY/I49miLButj9TY8/M86y2PwQRjZiw+bY/oPRUfqhktz/SPN/Oit63PxD7vw1qNLg/C8Ki9Jrgtz+0AYL4WYa2P9zY0H6MYrQ/LTzYscL6sT8w7IOe6COvP7HF3Jyu56k/\",\"dtype\":\"float64\",\"shape\":[75]},\"y\":{\"__ndarray__\":\"GhExyth1ND/Sv8nbtpRIP2vylNV0PVE/aTum7souWD/At0SJ8fVgPw3Iuahxymc/MSNhhJWvcD/bTfBN02d3P2zb5nxnaoA/CD5h5MAGhz8NmeH1TyaQP+zrCsc9p5Y/LbKd76fGnz/bLW5ISEmmPww9YvTcQq8/JV2OstnstT8Er5Y7M8G+P0c+r3jqkcU/5h99k6ZBzj88bCIzFzjVP4enV8oyxN0//yH99nXg5D8qOpLLf0jtP5kqGJXUifQ/c9cS8kHP/D+/DpwzojQEQIEmwoanVwxA4lgXt9HgE0BSSZ2AJuIbQAMJih9jjiNA5q4l5INuK0AwTKYKRj0zQNv5fmq8/DpAaCJseHrtQkB/+zpwzoxKQM3MzMzMeFJAZmZmZmZqWEAAAAAAAFxeQM3MzMzMJmJAmpmZmZkfZUBmZmZmZhhoQDMzMzMzEWtAAAAAAAAKbkBmZmZmZoFwQM3MzMzM/XFAMzMzMzN6c0CamZmZmfZ0QAAAAAAAc3ZAZmZmZmbvd0DNzMzMzGt5QDMzMzMz6HpAmpmZmZlkfEAAAAAAAOF9QGZmZmZmXX9AZmZmZuZsgECamZmZGSuBQM3MzMxM6YFAAAAAAICngkAzMzMzs2WDQGZmZmbmI4RAmpmZmRnihEDNzMzMTKCFQAAAAACAXoZAMzMzM7Mch0BmZmZm5tqHQJqZmZkZmYhAzczMzExXiUAAAAAAgBWKQDMzMzOz04pAZmZmZuaRi0CamZmZGVCMQM3MzMxMDo1AAAAAAIDMjUAzMzMzs4qOQGZmZmbmSI9A\",\"dtype\":\"float64\",\"shape\":[75]}}},\"id\":\"8408de62-fc69-4891-858c-1ad41f624908\",\"type\":\"ColumnDataSource\"},{\"attributes\":{},\"id\":\"48778030-0c64-4e49-9006-24c3531dc006\",\"type\":\"LinearScale\"},{\"attributes\":{\"line_alpha\":0.6,\"line_color\":\"#e41a1c\",\"line_dash\":[6],\"line_width\":5,\"x\":{\"field\":\"x\"},\"y\":{\"field\":\"y\"}},\"id\":\"8d9f61d7-0b59-4e03-aabc-2ceb7c451d49\",\"type\":\"Line\"},{\"attributes\":{\"bottom_units\":\"screen\",\"fill_alpha\":{\"value\":0.5},\"fill_color\":{\"value\":\"lightgrey\"},\"left_units\":\"screen\",\"level\":\"overlay\",\"line_alpha\":{\"value\":1.0},\"line_color\":{\"value\":\"black\"},\"line_dash\":[4,4],\"line_width\":{\"value\":2},\"plot\":null,\"render_mode\":\"css\",\"right_units\":\"screen\",\"top_units\":\"screen\"},\"id\":\"a0e4e92b-8674-44da-8325-14c384220156\",\"type\":\"BoxAnnotation\"},{\"attributes\":{\"overlay\":{\"id\":\"a0e4e92b-8674-44da-8325-14c384220156\",\"type\":\"BoxAnnotation\"}},\"id\":\"5fcfbded-babb-4e1d-b41d-87b0dfd1ef4b\",\"type\":\"BoxZoomTool\"},{\"attributes\":{\"callback\":null,\"column_names\":[\"x\",\"y\"],\"data\":{\"x\":{\"__ndarray__\":\"WvCiryDNuz/VMoQp67PAPxJujWN/tMc/AkuNVAh5zz/LEr5z/wPUP/kmNOYBrtg//OZZpOSw3T/LS0BEUX3hPzcnYWxCNuQ/OJgT1dfq5j+alQ5Sx3XpP72pSIWxpes/XI6ZPEw47T97xENz+F/tP/M0BdeBeOs/x65hRKoh6D9jvUm6A0jkPyBtkAcqvOA/gD42btbF3D/1KAHWT6TbP3Dmup07id4/BYjlQw5Z3j//5HMX9u7YPyrZuYLQ7tM/vblLJMka0D+cPjNvcsvJP3O4VnvYi8Q/q+y7IvjfwD/w6cEPlPy9P4sHKbK1Qro/uTF6xKFktT90FNHDkQawP6AIub1qhqk/Kwh24MLYpz99PsXPUdeoP6Rybm6nCKw/Yw6tDrOprT+YnFmZkNmrP3mXsb/xV6g/tgbaECgKpT+gCX9MjOGhP+MnOyFnpp0/1xCv+kIZlz9K7kimV4uOP1VoYGhV0nU/5voefH8/YD8aUCmWZvGDPx0tGKYAYpQ/uceflomcnD/ECJ+19MuhP0yWwNGB8aQ/mNC1E0vopz/OWSpl1cSqP28BBiHXiK0/5wbEnWsVsD/zCvUI9l6xP2pY7CwDmbI/mbjjuhq6sz/BMPEr/Le0P01rxq5ci7U/HxDUaPMxtj+0FHdZn7S2P9wvpGXSFrc/Xov/A/hjtz+IDlHqaqm3P+wiGhft9bc/K/g4liFVuD82DCbLN8W4P3KWAYN+CLk/NZvbRReiuD/F9FLr3Di3Py0fmI/jCLU/IerRY3qTsj9Inm80FRywP2XJR0sY36o/\",\"dtype\":\"float64\",\"shape\":[75]},\"y\":{\"__ndarray__\":\"S/O/Q+51ND/Sv8nbtpRIP2vylNV0PVE/aTum7souWD/At0SJ8fVgPw3Iuahxymc/MSNhhJWvcD/bTfBN02d3P2zb5nxnaoA/CD5h5MAGhz8NmeH1TyaQP+zrCsc9p5Y/LbKd76fGnz/bLW5ISEmmPww9YvTcQq8/JV2OstnstT8Er5Y7M8G+P0c+r3jqkcU/5h99k6ZBzj88bCIzFzjVP4enV8oyxN0//yH99nXg5D8qOpLLf0jtP5kqGJXUifQ/c9cS8kHP/D+/DpwzojQEQIEmwoanVwxA4lgXt9HgE0BSSZ2AJuIbQAMJih9jjiNA5q4l5INuK0AwTKYKRj0zQNv5fmq8/DpAaCJseHrtQkB/+zpwzoxKQM3MzMzMeFJAZmZmZmZqWEAAAAAAAFxeQM3MzMzMJmJAmpmZmZkfZUBmZmZmZhhoQDMzMzMzEWtAAAAAAAAKbkBmZmZmZoFwQM3MzMzM/XFAMzMzMzN6c0CamZmZmfZ0QAAAAAAAc3ZAZmZmZmbvd0DNzMzMzGt5QDMzMzMz6HpAmpmZmZlkfEAAAAAAAOF9QGZmZmZmXX9AZmZmZuZsgECamZmZGSuBQM3MzMxM6YFAAAAAAICngkAzMzMzs2WDQGZmZmbmI4RAmpmZmRnihEDNzMzMTKCFQAAAAACAXoZAMzMzM7Mch0BmZmZm5tqHQJqZmZkZmYhAzczMzExXiUAAAAAAgBWKQDMzMzOz04pAZmZmZuaRi0CamZmZGVCMQM3MzMxMDo1AAAAAAIDMjUAzMzMzs4qOQGZmZmbmSI9A\",\"dtype\":\"float64\",\"shape\":[75]}}},\"id\":\"21b028f6-bd45-40d8-abe7-c8a674e30b0e\",\"type\":\"ColumnDataSource\"},{\"attributes\":{\"callback\":null,\"end\":0.01,\"start\":1020},\"id\":\"b5882705-69ce-44df-872f-7e1cac303753\",\"type\":\"Range1d\"},{\"attributes\":{\"line_alpha\":0.6,\"line_color\":\"#e41a1c\",\"line_dash\":[6],\"line_width\":5,\"x\":{\"field\":\"x\"},\"y\":{\"field\":\"y\"}},\"id\":\"cb8ae719-9784-44bc-aa2a-498db41a913f\",\"type\":\"Line\"},{\"attributes\":{\"axis_label\":\"cooling rate [K/day]\",\"formatter\":{\"id\":\"a05c0ff1-e9a5-418d-bb6f-35ae67b9afb8\",\"type\":\"BasicTickFormatter\"},\"plot\":{\"id\":\"f217b11d-906a-48a8-ad2e-80818e7505ac\",\"subtype\":\"Figure\",\"type\":\"Plot\"},\"ticker\":{\"id\":\"14216385-438e-42fc-9224-5a8d23528efb\",\"type\":\"BasicTicker\"}},\"id\":\"e540685c-402c-4544-b98d-ce9655876be3\",\"type\":\"LinearAxis\"},{\"attributes\":{\"dimension\":1,\"plot\":{\"id\":\"f217b11d-906a-48a8-ad2e-80818e7505ac\",\"subtype\":\"Figure\",\"type\":\"Plot\"},\"ticker\":{\"id\":\"5325d7af-43d8-437b-ab00-8b3d648d6094\",\"type\":\"BasicTicker\"}},\"id\":\"0f5c68d3-3df7-4f5d-b45f-d62721f1d50f\",\"type\":\"Grid\"},{\"attributes\":{},\"id\":\"cf912774-2eda-4ed9-9403-8412a5e90db8\",\"type\":\"HelpTool\"},{\"attributes\":{\"fill_alpha\":{\"value\":0.7},\"fill_color\":{\"value\":\"#984ea3\"},\"line_alpha\":{\"value\":0.7},\"line_color\":{\"value\":\"#984ea3\"},\"x\":{\"field\":\"x\"},\"y\":{\"field\":\"y\"}},\"id\":\"7a7b300b-ec17-49bb-a41e-4a44d8b75134\",\"type\":\"Square\"},{\"attributes\":{\"callback\":null,\"end\":0.01,\"start\":1020},\"id\":\"6643d6ef-0a8c-4867-bbf2-68c4d80f045d\",\"type\":\"Range1d\"},{\"attributes\":{\"label\":{\"value\":\"CRD\"},\"renderers\":[{\"id\":\"72c7e7ad-e346-4d34-b08b-b40809c1f49d\",\"type\":\"GlyphRenderer\"},{\"id\":\"6c0625cc-6e13-4c8d-942a-9fb575a720a1\",\"type\":\"GlyphRenderer\"}]},\"id\":\"b215a5f5-2eee-4641-a077-d53b01283f36\",\"type\":\"LegendItem\"},{\"attributes\":{\"line_alpha\":0.1,\"line_color\":\"#1f77b4\",\"line_width\":1.5,\"x\":{\"field\":\"x\"},\"y\":{\"field\":\"y\"}},\"id\":\"2f78ab68-109b-4542-a93f-b907d50e9835\",\"type\":\"Line\"},{\"attributes\":{\"source\":{\"id\":\"21b028f6-bd45-40d8-abe7-c8a674e30b0e\",\"type\":\"ColumnDataSource\"}},\"id\":\"c982f88c-5304-4287-960e-2d7b7b44d6fc\",\"type\":\"CDSView\"},{\"attributes\":{},\"id\":\"5325d7af-43d8-437b-ab00-8b3d648d6094\",\"type\":\"BasicTicker\"},{\"attributes\":{\"source\":{\"id\":\"b0892337-2509-415a-941e-d0986509d85d\",\"type\":\"ColumnDataSource\"}},\"id\":\"2f44a35e-6a5c-4d7f-b81d-729543af44b0\",\"type\":\"CDSView\"},{\"attributes\":{\"bottom_units\":\"screen\",\"fill_alpha\":{\"value\":0.5},\"fill_color\":{\"value\":\"lightgrey\"},\"left_units\":\"screen\",\"level\":\"overlay\",\"line_alpha\":{\"value\":1.0},\"line_color\":{\"value\":\"black\"},\"line_dash\":[4,4],\"line_width\":{\"value\":2},\"plot\":null,\"render_mode\":\"css\",\"right_units\":\"screen\",\"top_units\":\"screen\"},\"id\":\"b2e3b837-914f-4758-bdca-5d49c213bf17\",\"type\":\"BoxAnnotation\"},{\"attributes\":{\"data_source\":{\"id\":\"b0892337-2509-415a-941e-d0986509d85d\",\"type\":\"ColumnDataSource\"},\"glyph\":{\"id\":\"338d4558-bc57-40ee-b523-976951ece3a4\",\"type\":\"Line\"},\"hover_glyph\":null,\"muted_glyph\":null,\"nonselection_glyph\":{\"id\":\"444da030-b302-48d0-8324-fff9f411e773\",\"type\":\"Line\"},\"selection_glyph\":null,\"view\":{\"id\":\"2f44a35e-6a5c-4d7f-b81d-729543af44b0\",\"type\":\"CDSView\"}},\"id\":\"5e49695e-fa2d-4c6e-935b-2aea07c816e5\",\"type\":\"GlyphRenderer\"},{\"attributes\":{},\"id\":\"bf700dee-0dc7-41bd-be50-9b6395b7eac7\",\"type\":\"LinearScale\"},{\"attributes\":{\"plot\":null,\"text\":\"Linear pressure scale\"},\"id\":\"ef83be37-8a8a-4dad-8dbd-065d800b9bdb\",\"type\":\"Title\"},{\"attributes\":{\"toolbar\":{\"id\":\"9a444a62-3e18-40e2-9c29-9b91d565db7c\",\"type\":\"ProxyToolbar\"},\"toolbar_location\":\"above\"},\"id\":\"d8c0012e-c774-4b90-81f7-2478f33ef08f\",\"type\":\"ToolbarBox\"},{\"attributes\":{\"line_alpha\":0.1,\"line_color\":\"#1f77b4\",\"line_width\":3,\"x\":{\"field\":\"x\"},\"y\":{\"field\":\"y\"}},\"id\":\"444da030-b302-48d0-8324-fff9f411e773\",\"type\":\"Line\"},{\"attributes\":{\"callback\":null,\"column_names\":[\"x\",\"y\"],\"data\":{\"x\":{\"__ndarray__\":\"ZKhxDFQIzD9OP4/uc77OP0gZcQFoFNQ/vKbuZwQd2T8QTyPreGXeP9CUAKkL4OE/0lRw9AiA5D8cNIm0bPHmPz+GM2ThEOk/YcccV2W36j/rfA37HMPrP9f1j65nIuw/23lN1V7g6z+NYW/eD4rqP21ce3Yr8ec/c6I8d6s85T+Se/Rl7T/jP3vgnVtsA+I//gvj8khx4T9BGLKZx4rhP/wUruS2n+I/lUnsXhdT4T+7FVfPKKHaPxJujWN/NNQ/P2Vnl5CLzz9tpzFKZUTIP5kgdujsy8E/TfPQb0Zquj+ufOrmTwy2PyBLfyzNeLM/tIeQzzjIsD9nhpRsY1arPyY0sQ+eSKg/bmuC3e3QqD/IlA9B1eioPwOWgoyFw6g/mNSRohxsqD/OyMIFEKamP36pTvAVKaQ/NAowyVQDoj+IyPCl3r2fP3XNGY49NJs/4IVZ2jwdlj+XyCsuk4OPP9KbIN45I30/FLuJpJU3cj97AKlSVZaIP1IU0XcDQZY/NouMGLo1nj+Vqv5SUJuiP8FLAU2q1KU/AJxbRLvaqD8tQ8uj47arP7meWA+ubK4/TVrNRw1+sD+Z85E2g6+xP//bs05fxrI/XSKYHNe8sz99cGf03Yy0P1cz5DjtMrU/vAVoFPiutT9QhVZfEQe2P9vWMvPGRLY/mguj8/Z0tj/keo29FKe2PyhqGiix6rY/vGcYz4RMtz/IlPtc7sW3Pz9ZfepiF7g/+mmk8YC8tz9Q9znyy1a2P3UpzIBVI7Q/gK+aR/uosT8fjqZhlV6uPyfS0hwmCKk/\",\"dtype\":\"float64\",\"shape\":[75]},\"y\":{\"__ndarray__\":\"GhExyth1ND/Sv8nbtpRIP2vylNV0PVE/aTum7souWD/At0SJ8fVgPw3Iuahxymc/MSNhhJWvcD/bTfBN02d3P2zb5nxnaoA/CD5h5MAGhz8NmeH1TyaQP+zrCsc9p5Y/LbKd76fGnz/bLW5ISEmmPww9YvTcQq8/JV2OstnstT8Er5Y7M8G+P0c+r3jqkcU/5h99k6ZBzj88bCIzFzjVP4enV8oyxN0//yH99nXg5D8qOpLLf0jtP5kqGJXUifQ/c9cS8kHP/D+/DpwzojQEQIEmwoanVwxA4lgXt9HgE0BSSZ2AJuIbQAMJih9jjiNA5q4l5INuK0AwTKYKRj0zQNv5fmq8/DpAaCJseHrtQkB/+zpwzoxKQM3MzMzMeFJAZmZmZmZqWEAAAAAAAFxeQM3MzMzMJmJAmpmZmZkfZUBmZmZmZhhoQDMzMzMzEWtAAAAAAAAKbkBmZmZmZoFwQM3MzMzM/XFAMzMzMzN6c0CamZmZmfZ0QAAAAAAAc3ZAZmZmZmbvd0DNzMzMzGt5QDMzMzMz6HpAmpmZmZlkfEAAAAAAAOF9QGZmZmZmXX9AZmZmZuZsgECamZmZGSuBQM3MzMxM6YFAAAAAAICngkAzMzMzs2WDQGZmZmbmI4RAmpmZmRnihEDNzMzMTKCFQAAAAACAXoZAMzMzM7Mch0BmZmZm5tqHQJqZmZkZmYhAzczMzExXiUAAAAAAgBWKQDMzMzOz04pAZmZmZuaRi0CamZmZGVCMQM3MzMxMDo1AAAAAAIDMjUAzMzMzs4qOQGZmZmbmSI9A\",\"dtype\":\"float64\",\"shape\":[75]}}},\"id\":\"eaa67548-4022-4e2a-a1c5-3b5a0372b810\",\"type\":\"ColumnDataSource\"}],\"root_ids\":[\"24e6348a-0790-4d5a-9af5-d2a1650eed59\"]},\"title\":\"Bokeh Application\",\"version\":\"0.12.14\"}};\n",
       "  var render_items = [{\"docid\":\"e98dec42-9d99-458a-90cb-36eebefc4add\",\"elementid\":\"eec827a1-543c-4569-a046-16740cdb6a3b\",\"modelid\":\"24e6348a-0790-4d5a-9af5-d2a1650eed59\"}];\n",
       "  root.Bokeh.embed.embed_items_notebook(docs_json, render_items);\n",
       "\n",
       "  }\n",
       "  if (root.Bokeh !== undefined) {\n",
       "    embed_document(root);\n",
       "  } else {\n",
       "    var attempts = 0;\n",
       "    var timer = setInterval(function(root) {\n",
       "      if (root.Bokeh !== undefined) {\n",
       "        embed_document(root);\n",
       "        clearInterval(timer);\n",
       "      }\n",
       "      attempts++;\n",
       "      if (attempts > 100) {\n",
       "        console.log(\"Bokeh: ERROR: Unable to run BokehJS code because BokehJS library is missing\")\n",
       "        clearInterval(timer);\n",
       "      }\n",
       "    }, 10, root)\n",
       "  }\n",
       "})(window);"
      ],
      "application/vnd.bokehjs_exec.v0+json": ""
     },
     "metadata": {
      "application/vnd.bokehjs_exec.v0+json": {
       "id": "24e6348a-0790-4d5a-9af5-d2a1650eed59"
      }
     },
     "output_type": "display_data"
    },
    {
     "name": "stdout",
     "output_type": "stream",
     "text": [
      "FIGURE. Cooling rate profiles.\n"
     ]
    },
    {
     "data": {
      "text/html": [
       "<a id=\"Flux_Comparison\"></a>"
      ],
      "text/plain": [
       "<IPython.core.display.HTML object>"
      ]
     },
     "metadata": {},
     "output_type": "display_data"
    },
    {
     "data": {
      "text/markdown": [
       "# Flux Comparison"
      ],
      "text/plain": [
       "<IPython.core.display.Markdown object>"
      ]
     },
     "metadata": {},
     "output_type": "display_data"
    },
    {
     "data": {
      "text/html": [
       "<div>\n",
       "<style>\n",
       "    .dataframe thead tr:only-child th {\n",
       "        text-align: right;\n",
       "    }\n",
       "\n",
       "    .dataframe thead th {\n",
       "        text-align: left;\n",
       "    }\n",
       "\n",
       "    .dataframe tbody tr th {\n",
       "        vertical-align: top;\n",
       "    }\n",
       "</style>\n",
       "<table border=\"1\" class=\"dataframe\">\n",
       "  <thead>\n",
       "    <tr style=\"text-align: right;\">\n",
       "      <th></th>\n",
       "      <th></th>\n",
       "      <th>flug</th>\n",
       "      <th>fldg</th>\n",
       "      <th>fnetg</th>\n",
       "    </tr>\n",
       "    <tr>\n",
       "      <th>pressure</th>\n",
       "      <th>level</th>\n",
       "      <th></th>\n",
       "      <th></th>\n",
       "      <th></th>\n",
       "    </tr>\n",
       "  </thead>\n",
       "  <tbody>\n",
       "    <tr>\n",
       "      <th>0.0000</th>\n",
       "      <th>1</th>\n",
       "      <td>-20.785670</td>\n",
       "      <td>0.000000</td>\n",
       "      <td>-20.785670</td>\n",
       "    </tr>\n",
       "    <tr>\n",
       "      <th>1.0685</th>\n",
       "      <th>24</th>\n",
       "      <td>-20.773412</td>\n",
       "      <td>0.051495</td>\n",
       "      <td>-20.721917</td>\n",
       "    </tr>\n",
       "    <tr>\n",
       "      <th>1013.0000</th>\n",
       "      <th>76</th>\n",
       "      <td>-23.591138</td>\n",
       "      <td>10.016948</td>\n",
       "      <td>-13.574190</td>\n",
       "    </tr>\n",
       "  </tbody>\n",
       "</table>\n",
       "</div>"
      ],
      "text/plain": [
       "                      flug       fldg      fnetg\n",
       "pressure  level                                 \n",
       "0.0000    1     -20.785670   0.000000 -20.785670\n",
       "1.0685    24    -20.773412   0.051495 -20.721917\n",
       "1013.0000 76    -23.591138  10.016948 -13.574190"
      ]
     },
     "metadata": {},
     "output_type": "display_data"
    },
    {
     "name": "stdout",
     "output_type": "stream",
     "text": [
      "Table. Fluxes. WGT igg=10 wgt_flux=1\n"
     ]
    },
    {
     "data": {
      "text/html": [
       "<div>\n",
       "<style>\n",
       "    .dataframe thead tr:only-child th {\n",
       "        text-align: right;\n",
       "    }\n",
       "\n",
       "    .dataframe thead th {\n",
       "        text-align: left;\n",
       "    }\n",
       "\n",
       "    .dataframe tbody tr th {\n",
       "        vertical-align: top;\n",
       "    }\n",
       "</style>\n",
       "<table border=\"1\" class=\"dataframe\">\n",
       "  <thead>\n",
       "    <tr style=\"text-align: right;\">\n",
       "      <th></th>\n",
       "      <th></th>\n",
       "      <th>flug</th>\n",
       "      <th>fldg</th>\n",
       "      <th>fnetg</th>\n",
       "    </tr>\n",
       "    <tr>\n",
       "      <th>pressure</th>\n",
       "      <th>level</th>\n",
       "      <th></th>\n",
       "      <th></th>\n",
       "      <th></th>\n",
       "    </tr>\n",
       "  </thead>\n",
       "  <tbody>\n",
       "    <tr>\n",
       "      <th>0.0000</th>\n",
       "      <th>1</th>\n",
       "      <td>-20.836798</td>\n",
       "      <td>0.000000</td>\n",
       "      <td>-20.836798</td>\n",
       "    </tr>\n",
       "    <tr>\n",
       "      <th>1.0685</th>\n",
       "      <th>24</th>\n",
       "      <td>-20.824109</td>\n",
       "      <td>0.055119</td>\n",
       "      <td>-20.768990</td>\n",
       "    </tr>\n",
       "    <tr>\n",
       "      <th>1013.0000</th>\n",
       "      <th>76</th>\n",
       "      <td>-23.591138</td>\n",
       "      <td>9.775480</td>\n",
       "      <td>-13.815657</td>\n",
       "    </tr>\n",
       "  </tbody>\n",
       "</table>\n",
       "</div>"
      ],
      "text/plain": [
       "                      flug      fldg      fnetg\n",
       "pressure  level                                \n",
       "0.0000    1     -20.836798  0.000000 -20.836798\n",
       "1.0685    24    -20.824109  0.055119 -20.768990\n",
       "1013.0000 76    -23.591138  9.775480 -13.815657"
      ]
     },
     "metadata": {},
     "output_type": "display_data"
    },
    {
     "name": "stdout",
     "output_type": "stream",
     "text": [
      "Table. Fluxes. CRD\n"
     ]
    },
    {
     "data": {
      "text/html": [
       "<div>\n",
       "<style>\n",
       "    .dataframe thead tr:only-child th {\n",
       "        text-align: right;\n",
       "    }\n",
       "\n",
       "    .dataframe thead th {\n",
       "        text-align: left;\n",
       "    }\n",
       "\n",
       "    .dataframe tbody tr th {\n",
       "        vertical-align: top;\n",
       "    }\n",
       "</style>\n",
       "<table border=\"1\" class=\"dataframe\">\n",
       "  <thead>\n",
       "    <tr style=\"text-align: right;\">\n",
       "      <th></th>\n",
       "      <th></th>\n",
       "      <th>flug</th>\n",
       "      <th>fldg</th>\n",
       "      <th>fnetg</th>\n",
       "    </tr>\n",
       "    <tr>\n",
       "      <th>pressure</th>\n",
       "      <th>level</th>\n",
       "      <th></th>\n",
       "      <th></th>\n",
       "      <th></th>\n",
       "    </tr>\n",
       "  </thead>\n",
       "  <tbody>\n",
       "    <tr>\n",
       "      <th>1.000000e-08</th>\n",
       "      <th>1</th>\n",
       "      <td>-20.846392</td>\n",
       "      <td>0.000002</td>\n",
       "      <td>-20.846389</td>\n",
       "    </tr>\n",
       "    <tr>\n",
       "      <th>1.068500e+00</th>\n",
       "      <th>24</th>\n",
       "      <td>-20.834338</td>\n",
       "      <td>0.049075</td>\n",
       "      <td>-20.785263</td>\n",
       "    </tr>\n",
       "    <tr>\n",
       "      <th>1.013000e+03</th>\n",
       "      <th>76</th>\n",
       "      <td>-23.591140</td>\n",
       "      <td>10.029997</td>\n",
       "      <td>-13.561143</td>\n",
       "    </tr>\n",
       "  </tbody>\n",
       "</table>\n",
       "</div>"
      ],
      "text/plain": [
       "                         flug       fldg      fnetg\n",
       "pressure     level                                 \n",
       "1.000000e-08 1     -20.846392   0.000002 -20.846389\n",
       "1.068500e+00 24    -20.834338   0.049075 -20.785263\n",
       "1.013000e+03 76    -23.591140  10.029997 -13.561143"
      ]
     },
     "metadata": {},
     "output_type": "display_data"
    },
    {
     "name": "stdout",
     "output_type": "stream",
     "text": [
      "Table. Fluxes. CLIRAD\n"
     ]
    },
    {
     "data": {
      "text/html": [
       "<div>\n",
       "<style>\n",
       "    .dataframe thead tr:only-child th {\n",
       "        text-align: right;\n",
       "    }\n",
       "\n",
       "    .dataframe thead th {\n",
       "        text-align: left;\n",
       "    }\n",
       "\n",
       "    .dataframe tbody tr th {\n",
       "        vertical-align: top;\n",
       "    }\n",
       "</style>\n",
       "<table border=\"1\" class=\"dataframe\">\n",
       "  <thead>\n",
       "    <tr style=\"text-align: right;\">\n",
       "      <th></th>\n",
       "      <th></th>\n",
       "      <th>flug</th>\n",
       "      <th>fldg</th>\n",
       "      <th>fnetg</th>\n",
       "    </tr>\n",
       "    <tr>\n",
       "      <th>pressure</th>\n",
       "      <th>level</th>\n",
       "      <th></th>\n",
       "      <th></th>\n",
       "      <th></th>\n",
       "    </tr>\n",
       "  </thead>\n",
       "  <tbody>\n",
       "    <tr>\n",
       "      <th>0.0000</th>\n",
       "      <th>1</th>\n",
       "      <td>-5.112800e-02</td>\n",
       "      <td>0.000000</td>\n",
       "      <td>-0.051128</td>\n",
       "    </tr>\n",
       "    <tr>\n",
       "      <th>1.0685</th>\n",
       "      <th>24</th>\n",
       "      <td>-5.069663e-02</td>\n",
       "      <td>0.003624</td>\n",
       "      <td>-0.047073</td>\n",
       "    </tr>\n",
       "    <tr>\n",
       "      <th>1013.0000</th>\n",
       "      <th>76</th>\n",
       "      <td>-4.050000e-07</td>\n",
       "      <td>-0.241468</td>\n",
       "      <td>-0.241467</td>\n",
       "    </tr>\n",
       "  </tbody>\n",
       "</table>\n",
       "</div>"
      ],
      "text/plain": [
       "                         flug      fldg     fnetg\n",
       "pressure  level                                  \n",
       "0.0000    1     -5.112800e-02  0.000000 -0.051128\n",
       "1.0685    24    -5.069663e-02  0.003624 -0.047073\n",
       "1013.0000 76    -4.050000e-07 -0.241468 -0.241467"
      ]
     },
     "metadata": {},
     "output_type": "display_data"
    },
    {
     "name": "stdout",
     "output_type": "stream",
     "text": [
      "Table. Fluxes. (CRD) - (WGT igg=10 wgt_flux=1)\n"
     ]
    },
    {
     "data": {
      "text/html": [
       "<div>\n",
       "<style>\n",
       "    .dataframe thead tr:only-child th {\n",
       "        text-align: right;\n",
       "    }\n",
       "\n",
       "    .dataframe thead th {\n",
       "        text-align: left;\n",
       "    }\n",
       "\n",
       "    .dataframe tbody tr th {\n",
       "        vertical-align: top;\n",
       "    }\n",
       "</style>\n",
       "<table border=\"1\" class=\"dataframe\">\n",
       "  <thead>\n",
       "    <tr style=\"text-align: right;\">\n",
       "      <th></th>\n",
       "      <th></th>\n",
       "      <th>flug</th>\n",
       "      <th>fldg</th>\n",
       "      <th>fnetg</th>\n",
       "    </tr>\n",
       "    <tr>\n",
       "      <th>pressure</th>\n",
       "      <th>level</th>\n",
       "      <th></th>\n",
       "      <th></th>\n",
       "      <th></th>\n",
       "    </tr>\n",
       "  </thead>\n",
       "  <tbody>\n",
       "    <tr>\n",
       "      <th>0.0000</th>\n",
       "      <th>1</th>\n",
       "      <td>-0.060722</td>\n",
       "      <td>0.000002</td>\n",
       "      <td>-0.060719</td>\n",
       "    </tr>\n",
       "    <tr>\n",
       "      <th>1.0685</th>\n",
       "      <th>24</th>\n",
       "      <td>-0.060926</td>\n",
       "      <td>-0.002420</td>\n",
       "      <td>-0.063346</td>\n",
       "    </tr>\n",
       "    <tr>\n",
       "      <th>1013.0000</th>\n",
       "      <th>76</th>\n",
       "      <td>-0.000002</td>\n",
       "      <td>0.013049</td>\n",
       "      <td>0.013047</td>\n",
       "    </tr>\n",
       "  </tbody>\n",
       "</table>\n",
       "</div>"
      ],
      "text/plain": [
       "                     flug      fldg     fnetg\n",
       "pressure  level                              \n",
       "0.0000    1     -0.060722  0.000002 -0.060719\n",
       "1.0685    24    -0.060926 -0.002420 -0.063346\n",
       "1013.0000 76    -0.000002  0.013049  0.013047"
      ]
     },
     "metadata": {},
     "output_type": "display_data"
    },
    {
     "name": "stdout",
     "output_type": "stream",
     "text": [
      "Table. Fluxes. (CLIRAD) - (WGT igg=10 wgt_flux=1)\n"
     ]
    },
    {
     "data": {
      "text/html": [
       "<a id=\"Best-fit_Parameters\"></a>"
      ],
      "text/plain": [
       "<IPython.core.display.HTML object>"
      ]
     },
     "metadata": {},
     "output_type": "display_data"
    },
    {
     "data": {
      "text/markdown": [
       "# Best-fit Parameters"
      ],
      "text/plain": [
       "<IPython.core.display.Markdown object>"
      ]
     },
     "metadata": {},
     "output_type": "display_data"
    },
    {
     "name": "stdout",
     "output_type": "stream",
     "text": [
      "Best-fit values for each (gas, band)\n",
      "------------------------------------\n",
      "o co2 band3a\n",
      "  atmpro = mls\n",
      "  band = 3a\n",
      "  commitnumber = 2bd1f75\n",
      "  conc = 0.0004\n",
      "  dv = 0.01\n",
      "  klin = 6.375563e-24\n",
      "  molecule = co2\n",
      "  ng_adju = [0, 0, 0]\n",
      "  ng_refs = [3, 2, 4]\n",
      "  nv = 100\n",
      "  option_compute_btable = 0\n",
      "  option_compute_ktable = 1\n",
      "  option_wgt_flux = 1\n",
      "  option_wgt_k = 1\n",
      "  ref_pts = [(1, 250), (10, 250), (500, 250)]\n",
      "  tsfc = 294\n",
      "  vmax = 620\n",
      "  vmin = 540\n",
      "  w_diffuse = [(1.6, 1.6, 1.7), (1.75, 1.75), (1.55, 1.55, 1.6, 1.85)]\n",
      "  wgt = [(0.7, 0.3, 0.7), (0.7, 0.6), (0.4, 0.5, 0.8, 0.95)]\n"
     ]
    }
   ],
   "source": [
    "script()"
   ]
  },
  {
   "cell_type": "code",
   "execution_count": 13,
   "metadata": {
    "collapsed": true
   },
   "outputs": [
    {
     "data": {
      "text/html": [
       "<script>\n",
       "code_show=true; \n",
       "function code_toggle() {\n",
       " if (code_show){\n",
       " $('div.input').hide();\n",
       " } else {\n",
       " $('div.input').show();\n",
       " }\n",
       " code_show = !code_show\n",
       "} \n",
       "$( document ).ready(code_toggle);\n",
       "</script>\n",
       "<form action=\"javascript:code_toggle()\"><input type=\"submit\" value=\"Click here to toggle on/off the raw code.\"></form>"
      ],
      "text/plain": [
       "<IPython.core.display.HTML object>"
      ]
     },
     "execution_count": 13,
     "metadata": {},
     "output_type": "execute_result"
    }
   ],
   "source": [
    "display.HTML('''<script>\n",
    "code_show=true; \n",
    "function code_toggle() {\n",
    " if (code_show){\n",
    " $('div.input').hide();\n",
    " } else {\n",
    " $('div.input').show();\n",
    " }\n",
    " code_show = !code_show\n",
    "} \n",
    "$( document ).ready(code_toggle);\n",
    "</script>\n",
    "<form action=\"javascript:code_toggle()\"><input type=\"submit\" value=\"Click here to toggle on/off the raw code.\"></form>''')"
   ]
  }
 ],
 "metadata": {
  "kernelspec": {
   "display_name": "Python 3",
   "language": "python",
   "name": "python3"
  },
  "language_info": {
   "codemirror_mode": {
    "name": "ipython",
    "version": 3
   },
   "file_extension": ".py",
   "mimetype": "text/x-python",
   "name": "python",
   "nbconvert_exporter": "python",
   "pygments_lexer": "ipython3",
   "version": "3.6.1"
  }
 },
 "nbformat": 4,
 "nbformat_minor": 2
}
