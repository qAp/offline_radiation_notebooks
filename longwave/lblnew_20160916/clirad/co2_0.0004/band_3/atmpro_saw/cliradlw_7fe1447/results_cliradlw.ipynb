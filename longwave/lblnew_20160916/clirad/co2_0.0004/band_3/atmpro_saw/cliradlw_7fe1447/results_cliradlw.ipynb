{
 "cells": [
  {
   "cell_type": "code",
   "execution_count": 1,
   "metadata": {
    "collapsed": true
   },
   "outputs": [],
   "source": [
    "%matplotlib inline\n",
    "import os\n",
    "import re\n",
    "import io\n",
    "import itertools\n",
    "import pprint\n",
    "\n",
    "from bokeh.io import output_notebook, show\n",
    "from bokeh.layouts import gridplot\n",
    "from bokeh.plotting import figure\n",
    "from bokeh.models import Range1d, Legend\n",
    "from bokeh.palettes import all_palettes\n",
    "\n",
    "import matplotlib\n",
    "import matplotlib.pyplot as plt\n",
    "import numpy as np\n",
    "import pandas as pd\n",
    "import xarray as xr\n",
    "\n",
    "import climatools.lblnew.bestfit_params as bestfits\n",
    "from climatools.lblnew import setup_bestfit, setup_overlap\n",
    "import climatools.lblnew.pipeline as pipe_lblnew\n",
    "import climatools.cliradlw.setup as setup_cliradlw\n",
    "import climatools.cliradlw.pipeline as pipe_cliradlw\n",
    "\n",
    "import climatools.html.html as climahtml\n",
    "from climatools.lblnew.dataio import *\n",
    "from climatools.plot.plot import *\n",
    "\n",
    "\n",
    "import IPython.display as display"
   ]
  },
  {
   "cell_type": "code",
   "execution_count": 2,
   "metadata": {
    "collapsed": true
   },
   "outputs": [],
   "source": [
    "%run param.py"
   ]
  },
  {
   "cell_type": "code",
   "execution_count": 3,
   "metadata": {
    "collapsed": true
   },
   "outputs": [],
   "source": [
    "def load_output_file(path_csv):\n",
    "    '''\n",
    "    Load lblnew output .csv file to xarray.Dataset\n",
    "    \n",
    "    Parameters\n",
    "    ----------\n",
    "    path_csv: str\n",
    "              Path to the .csv file to be loaded.\n",
    "    ds: xarray.Dataset\n",
    "        Data in the input file in the form of an xarray.Dataset.\n",
    "    '''\n",
    "    toindex = ['band', 'pressure', 'igg', 'g']    \n",
    "    df = pd.read_csv(path_csv, sep=r'\\s+')\n",
    "    df = df.set_index([i for i in toindex if i in df.columns])\n",
    "    df = df.rename(columns={'sfu': 'flug',\n",
    "                            'sfd': 'fldg',\n",
    "                            'fnet': 'fnetg',\n",
    "                            'coolr': 'coolrg'})\n",
    "    ds = xr.Dataset.from_dataframe(df)\n",
    "\n",
    "    for l in ('level', 'layer'):\n",
    "        if l in ds.data_vars:\n",
    "            if len(ds[l].dims) > 1:\n",
    "                surface = {d: 0 for d in ds.dims if d != 'pressure'}\n",
    "                coord_level = ds[l][surface]\n",
    "                ds.coords[l] = ('pressure', coord_level)\n",
    "            else:\n",
    "                ds.coords[l] = ('pressure', ds[l])\n",
    "    \n",
    "    return ds"
   ]
  },
  {
   "cell_type": "code",
   "execution_count": 4,
   "metadata": {
    "collapsed": true
   },
   "outputs": [],
   "source": [
    "def lblnew_setup(param=None):\n",
    "    if 'ng_refs' in param:\n",
    "        return {'setup': setup_bestfit,\n",
    "                'fname_flux_crd': 'output_flux.dat',\n",
    "                'fname_cool_crd': 'output_coolr.dat',\n",
    "                'fname_flux_wgt': 'output_wfluxg.dat',\n",
    "                'fname_cool_wgt': 'output_wcoolrg.dat'}\n",
    "    else:\n",
    "        return {'setup': setup_overlap,\n",
    "                'fname_flux_crd': 'output_flux.dat',\n",
    "                'fname_cool_crd': 'output_coolr.dat',\n",
    "                'fname_flux_wgt': 'output_wflux.dat',\n",
    "                'fname_cool_wgt': 'output_wcoolr.dat'}\n",
    "\n",
    "    \n",
    "def load_lblnew_data(param):\n",
    "    \n",
    "    fname_dsname = [('fname_flux_crd', 'ds_flux_crd'),\n",
    "                    ('fname_cool_crd', 'ds_cool_crd'),\n",
    "                    ('fname_flux_wgt', 'ds_flux_wgt'),\n",
    "                    ('fname_cool_wgt', 'ds_cool_wgt')]\n",
    "    \n",
    "    d = lblnew_setup(param)\n",
    "    dir_fortran = pipe_lblnew.get_dir_case(param, setup=d['setup'])\n",
    "    \n",
    "    data_dict = {}\n",
    "    for fname, dsname in fname_dsname:\n",
    "        fpath = os.path.join(dir_fortran, d[fname])\n",
    "        data_dict[dsname] = load_output_file(fpath)\n",
    "    return data_dict\n",
    "    \n",
    "\n",
    "    \n",
    "    "
   ]
  },
  {
   "cell_type": "code",
   "execution_count": 5,
   "metadata": {
    "collapsed": true
   },
   "outputs": [],
   "source": [
    "d = load_lblnew_data(PARAM_LBLNEW)\n",
    "\n",
    "DS_FLUX_CRD = d['ds_flux_crd']\n",
    "DS_COOL_CRD = d['ds_cool_crd']\n",
    "DS_FLUX_WGT = d['ds_flux_wgt']\n",
    "DS_COOL_WGT = d['ds_cool_wgt']"
   ]
  },
  {
   "cell_type": "code",
   "execution_count": 6,
   "metadata": {
    "collapsed": true
   },
   "outputs": [],
   "source": [
    "DIR_FORTRAN = pipe_cliradlw.get_fortran_dir(PARAM, \n",
    "                                            setup=setup_cliradlw)\n",
    "\n",
    "PATH_FLUX = os.path.join(DIR_FORTRAN, 'output_flux.dat')\n",
    "PATH_COOL = os.path.join(DIR_FORTRAN, 'output_coolr.dat')\n",
    "\n",
    "DS_FLUX = load_output_file(PATH_FLUX)\n",
    "DS_COOL = load_output_file(PATH_COOL)"
   ]
  },
  {
   "cell_type": "code",
   "execution_count": 7,
   "metadata": {
    "collapsed": true
   },
   "outputs": [
    {
     "data": {
      "text/html": [
       "\n",
       "    <div class=\"bk-root\">\n",
       "        <a href=\"https://bokeh.pydata.org\" target=\"_blank\" class=\"bk-logo bk-logo-small bk-logo-notebook\"></a>\n",
       "        <span id=\"6ad644bf-e93f-453a-9220-33d45f0d51eb\">Loading BokehJS ...</span>\n",
       "    </div>"
      ]
     },
     "metadata": {},
     "output_type": "display_data"
    },
    {
     "data": {
      "application/javascript": [
       "\n",
       "(function(root) {\n",
       "  function now() {\n",
       "    return new Date();\n",
       "  }\n",
       "\n",
       "  var force = true;\n",
       "\n",
       "  if (typeof (root._bokeh_onload_callbacks) === \"undefined\" || force === true) {\n",
       "    root._bokeh_onload_callbacks = [];\n",
       "    root._bokeh_is_loading = undefined;\n",
       "  }\n",
       "\n",
       "  var JS_MIME_TYPE = 'application/javascript';\n",
       "  var HTML_MIME_TYPE = 'text/html';\n",
       "  var EXEC_MIME_TYPE = 'application/vnd.bokehjs_exec.v0+json';\n",
       "  var CLASS_NAME = 'output_bokeh rendered_html';\n",
       "\n",
       "  /**\n",
       "   * Render data to the DOM node\n",
       "   */\n",
       "  function render(props, node) {\n",
       "    var script = document.createElement(\"script\");\n",
       "    node.appendChild(script);\n",
       "  }\n",
       "\n",
       "  /**\n",
       "   * Handle when an output is cleared or removed\n",
       "   */\n",
       "  function handleClearOutput(event, handle) {\n",
       "    var cell = handle.cell;\n",
       "\n",
       "    var id = cell.output_area._bokeh_element_id;\n",
       "    var server_id = cell.output_area._bokeh_server_id;\n",
       "    // Clean up Bokeh references\n",
       "    if (id !== undefined) {\n",
       "      Bokeh.index[id].model.document.clear();\n",
       "      delete Bokeh.index[id];\n",
       "    }\n",
       "\n",
       "    if (server_id !== undefined) {\n",
       "      // Clean up Bokeh references\n",
       "      var cmd = \"from bokeh.io.state import curstate; print(curstate().uuid_to_server['\" + server_id + \"'].get_sessions()[0].document.roots[0]._id)\";\n",
       "      cell.notebook.kernel.execute(cmd, {\n",
       "        iopub: {\n",
       "          output: function(msg) {\n",
       "            var element_id = msg.content.text.trim();\n",
       "            Bokeh.index[element_id].model.document.clear();\n",
       "            delete Bokeh.index[element_id];\n",
       "          }\n",
       "        }\n",
       "      });\n",
       "      // Destroy server and session\n",
       "      var cmd = \"import bokeh.io.notebook as ion; ion.destroy_server('\" + server_id + \"')\";\n",
       "      cell.notebook.kernel.execute(cmd);\n",
       "    }\n",
       "  }\n",
       "\n",
       "  /**\n",
       "   * Handle when a new output is added\n",
       "   */\n",
       "  function handleAddOutput(event, handle) {\n",
       "    var output_area = handle.output_area;\n",
       "    var output = handle.output;\n",
       "\n",
       "    // limit handleAddOutput to display_data with EXEC_MIME_TYPE content only\n",
       "    if ((output.output_type != \"display_data\") || (!output.data.hasOwnProperty(EXEC_MIME_TYPE))) {\n",
       "      return\n",
       "    }\n",
       "\n",
       "    var toinsert = output_area.element.find(\".\" + CLASS_NAME.split(' ')[0]);\n",
       "\n",
       "    if (output.metadata[EXEC_MIME_TYPE][\"id\"] !== undefined) {\n",
       "      toinsert[0].firstChild.textContent = output.data[JS_MIME_TYPE];\n",
       "      // store reference to embed id on output_area\n",
       "      output_area._bokeh_element_id = output.metadata[EXEC_MIME_TYPE][\"id\"];\n",
       "    }\n",
       "    if (output.metadata[EXEC_MIME_TYPE][\"server_id\"] !== undefined) {\n",
       "      var bk_div = document.createElement(\"div\");\n",
       "      bk_div.innerHTML = output.data[HTML_MIME_TYPE];\n",
       "      var script_attrs = bk_div.children[0].attributes;\n",
       "      for (var i = 0; i < script_attrs.length; i++) {\n",
       "        toinsert[0].firstChild.setAttribute(script_attrs[i].name, script_attrs[i].value);\n",
       "      }\n",
       "      // store reference to server id on output_area\n",
       "      output_area._bokeh_server_id = output.metadata[EXEC_MIME_TYPE][\"server_id\"];\n",
       "    }\n",
       "  }\n",
       "\n",
       "  function register_renderer(events, OutputArea) {\n",
       "\n",
       "    function append_mime(data, metadata, element) {\n",
       "      // create a DOM node to render to\n",
       "      var toinsert = this.create_output_subarea(\n",
       "        metadata,\n",
       "        CLASS_NAME,\n",
       "        EXEC_MIME_TYPE\n",
       "      );\n",
       "      this.keyboard_manager.register_events(toinsert);\n",
       "      // Render to node\n",
       "      var props = {data: data, metadata: metadata[EXEC_MIME_TYPE]};\n",
       "      render(props, toinsert[0]);\n",
       "      element.append(toinsert);\n",
       "      return toinsert\n",
       "    }\n",
       "\n",
       "    /* Handle when an output is cleared or removed */\n",
       "    events.on('clear_output.CodeCell', handleClearOutput);\n",
       "    events.on('delete.Cell', handleClearOutput);\n",
       "\n",
       "    /* Handle when a new output is added */\n",
       "    events.on('output_added.OutputArea', handleAddOutput);\n",
       "\n",
       "    /**\n",
       "     * Register the mime type and append_mime function with output_area\n",
       "     */\n",
       "    OutputArea.prototype.register_mime_type(EXEC_MIME_TYPE, append_mime, {\n",
       "      /* Is output safe? */\n",
       "      safe: true,\n",
       "      /* Index of renderer in `output_area.display_order` */\n",
       "      index: 0\n",
       "    });\n",
       "  }\n",
       "\n",
       "  // register the mime type if in Jupyter Notebook environment and previously unregistered\n",
       "  if (root.Jupyter !== undefined) {\n",
       "    var events = require('base/js/events');\n",
       "    var OutputArea = require('notebook/js/outputarea').OutputArea;\n",
       "\n",
       "    if (OutputArea.prototype.mime_types().indexOf(EXEC_MIME_TYPE) == -1) {\n",
       "      register_renderer(events, OutputArea);\n",
       "    }\n",
       "  }\n",
       "\n",
       "  \n",
       "  if (typeof (root._bokeh_timeout) === \"undefined\" || force === true) {\n",
       "    root._bokeh_timeout = Date.now() + 5000;\n",
       "    root._bokeh_failed_load = false;\n",
       "  }\n",
       "\n",
       "  var NB_LOAD_WARNING = {'data': {'text/html':\n",
       "     \"<div style='background-color: #fdd'>\\n\"+\n",
       "     \"<p>\\n\"+\n",
       "     \"BokehJS does not appear to have successfully loaded. If loading BokehJS from CDN, this \\n\"+\n",
       "     \"may be due to a slow or bad network connection. Possible fixes:\\n\"+\n",
       "     \"</p>\\n\"+\n",
       "     \"<ul>\\n\"+\n",
       "     \"<li>re-rerun `output_notebook()` to attempt to load from CDN again, or</li>\\n\"+\n",
       "     \"<li>use INLINE resources instead, as so:</li>\\n\"+\n",
       "     \"</ul>\\n\"+\n",
       "     \"<code>\\n\"+\n",
       "     \"from bokeh.resources import INLINE\\n\"+\n",
       "     \"output_notebook(resources=INLINE)\\n\"+\n",
       "     \"</code>\\n\"+\n",
       "     \"</div>\"}};\n",
       "\n",
       "  function display_loaded() {\n",
       "    var el = document.getElementById(\"6ad644bf-e93f-453a-9220-33d45f0d51eb\");\n",
       "    if (el != null) {\n",
       "      el.textContent = \"BokehJS is loading...\";\n",
       "    }\n",
       "    if (root.Bokeh !== undefined) {\n",
       "      if (el != null) {\n",
       "        el.textContent = \"BokehJS \" + root.Bokeh.version + \" successfully loaded.\";\n",
       "      }\n",
       "    } else if (Date.now() < root._bokeh_timeout) {\n",
       "      setTimeout(display_loaded, 100)\n",
       "    }\n",
       "  }\n",
       "\n",
       "\n",
       "  function run_callbacks() {\n",
       "    try {\n",
       "      root._bokeh_onload_callbacks.forEach(function(callback) { callback() });\n",
       "    }\n",
       "    finally {\n",
       "      delete root._bokeh_onload_callbacks\n",
       "    }\n",
       "    console.info(\"Bokeh: all callbacks have finished\");\n",
       "  }\n",
       "\n",
       "  function load_libs(js_urls, callback) {\n",
       "    root._bokeh_onload_callbacks.push(callback);\n",
       "    if (root._bokeh_is_loading > 0) {\n",
       "      console.log(\"Bokeh: BokehJS is being loaded, scheduling callback at\", now());\n",
       "      return null;\n",
       "    }\n",
       "    if (js_urls == null || js_urls.length === 0) {\n",
       "      run_callbacks();\n",
       "      return null;\n",
       "    }\n",
       "    console.log(\"Bokeh: BokehJS not loaded, scheduling load and callback at\", now());\n",
       "    root._bokeh_is_loading = js_urls.length;\n",
       "    for (var i = 0; i < js_urls.length; i++) {\n",
       "      var url = js_urls[i];\n",
       "      var s = document.createElement('script');\n",
       "      s.src = url;\n",
       "      s.async = false;\n",
       "      s.onreadystatechange = s.onload = function() {\n",
       "        root._bokeh_is_loading--;\n",
       "        if (root._bokeh_is_loading === 0) {\n",
       "          console.log(\"Bokeh: all BokehJS libraries loaded\");\n",
       "          run_callbacks()\n",
       "        }\n",
       "      };\n",
       "      s.onerror = function() {\n",
       "        console.warn(\"failed to load library \" + url);\n",
       "      };\n",
       "      console.log(\"Bokeh: injecting script tag for BokehJS library: \", url);\n",
       "      document.getElementsByTagName(\"head\")[0].appendChild(s);\n",
       "    }\n",
       "  };var element = document.getElementById(\"6ad644bf-e93f-453a-9220-33d45f0d51eb\");\n",
       "  if (element == null) {\n",
       "    console.log(\"Bokeh: ERROR: autoload.js configured with elementid '6ad644bf-e93f-453a-9220-33d45f0d51eb' but no matching script tag was found. \")\n",
       "    return false;\n",
       "  }\n",
       "\n",
       "  var js_urls = [\"https://cdn.pydata.org/bokeh/release/bokeh-0.12.14.min.js\", \"https://cdn.pydata.org/bokeh/release/bokeh-widgets-0.12.14.min.js\", \"https://cdn.pydata.org/bokeh/release/bokeh-tables-0.12.14.min.js\", \"https://cdn.pydata.org/bokeh/release/bokeh-gl-0.12.14.min.js\"];\n",
       "\n",
       "  var inline_js = [\n",
       "    function(Bokeh) {\n",
       "      Bokeh.set_log_level(\"info\");\n",
       "    },\n",
       "    \n",
       "    function(Bokeh) {\n",
       "      \n",
       "    },\n",
       "    function(Bokeh) {\n",
       "      console.log(\"Bokeh: injecting CSS: https://cdn.pydata.org/bokeh/release/bokeh-0.12.14.min.css\");\n",
       "      Bokeh.embed.inject_css(\"https://cdn.pydata.org/bokeh/release/bokeh-0.12.14.min.css\");\n",
       "      console.log(\"Bokeh: injecting CSS: https://cdn.pydata.org/bokeh/release/bokeh-widgets-0.12.14.min.css\");\n",
       "      Bokeh.embed.inject_css(\"https://cdn.pydata.org/bokeh/release/bokeh-widgets-0.12.14.min.css\");\n",
       "      console.log(\"Bokeh: injecting CSS: https://cdn.pydata.org/bokeh/release/bokeh-tables-0.12.14.min.css\");\n",
       "      Bokeh.embed.inject_css(\"https://cdn.pydata.org/bokeh/release/bokeh-tables-0.12.14.min.css\");\n",
       "    }\n",
       "  ];\n",
       "\n",
       "  function run_inline_js() {\n",
       "    \n",
       "    if ((root.Bokeh !== undefined) || (force === true)) {\n",
       "      for (var i = 0; i < inline_js.length; i++) {\n",
       "        inline_js[i].call(root, root.Bokeh);\n",
       "      }if (force === true) {\n",
       "        display_loaded();\n",
       "      }} else if (Date.now() < root._bokeh_timeout) {\n",
       "      setTimeout(run_inline_js, 100);\n",
       "    } else if (!root._bokeh_failed_load) {\n",
       "      console.log(\"Bokeh: BokehJS failed to load within specified timeout.\");\n",
       "      root._bokeh_failed_load = true;\n",
       "    } else if (force !== true) {\n",
       "      var cell = $(document.getElementById(\"6ad644bf-e93f-453a-9220-33d45f0d51eb\")).parents('.cell').data().cell;\n",
       "      cell.output_area.append_execute_result(NB_LOAD_WARNING)\n",
       "    }\n",
       "\n",
       "  }\n",
       "\n",
       "  if (root._bokeh_is_loading === 0) {\n",
       "    console.log(\"Bokeh: BokehJS loaded, going straight to plotting\");\n",
       "    run_inline_js();\n",
       "  } else {\n",
       "    load_libs(js_urls, function() {\n",
       "      console.log(\"Bokeh: BokehJS plotting callback run at\", now());\n",
       "      run_inline_js();\n",
       "    });\n",
       "  }\n",
       "}(window));"
      ],
      "application/vnd.bokehjs_load.v0+json": "\n(function(root) {\n  function now() {\n    return new Date();\n  }\n\n  var force = true;\n\n  if (typeof (root._bokeh_onload_callbacks) === \"undefined\" || force === true) {\n    root._bokeh_onload_callbacks = [];\n    root._bokeh_is_loading = undefined;\n  }\n\n  \n\n  \n  if (typeof (root._bokeh_timeout) === \"undefined\" || force === true) {\n    root._bokeh_timeout = Date.now() + 5000;\n    root._bokeh_failed_load = false;\n  }\n\n  var NB_LOAD_WARNING = {'data': {'text/html':\n     \"<div style='background-color: #fdd'>\\n\"+\n     \"<p>\\n\"+\n     \"BokehJS does not appear to have successfully loaded. If loading BokehJS from CDN, this \\n\"+\n     \"may be due to a slow or bad network connection. Possible fixes:\\n\"+\n     \"</p>\\n\"+\n     \"<ul>\\n\"+\n     \"<li>re-rerun `output_notebook()` to attempt to load from CDN again, or</li>\\n\"+\n     \"<li>use INLINE resources instead, as so:</li>\\n\"+\n     \"</ul>\\n\"+\n     \"<code>\\n\"+\n     \"from bokeh.resources import INLINE\\n\"+\n     \"output_notebook(resources=INLINE)\\n\"+\n     \"</code>\\n\"+\n     \"</div>\"}};\n\n  function display_loaded() {\n    var el = document.getElementById(\"6ad644bf-e93f-453a-9220-33d45f0d51eb\");\n    if (el != null) {\n      el.textContent = \"BokehJS is loading...\";\n    }\n    if (root.Bokeh !== undefined) {\n      if (el != null) {\n        el.textContent = \"BokehJS \" + root.Bokeh.version + \" successfully loaded.\";\n      }\n    } else if (Date.now() < root._bokeh_timeout) {\n      setTimeout(display_loaded, 100)\n    }\n  }\n\n\n  function run_callbacks() {\n    try {\n      root._bokeh_onload_callbacks.forEach(function(callback) { callback() });\n    }\n    finally {\n      delete root._bokeh_onload_callbacks\n    }\n    console.info(\"Bokeh: all callbacks have finished\");\n  }\n\n  function load_libs(js_urls, callback) {\n    root._bokeh_onload_callbacks.push(callback);\n    if (root._bokeh_is_loading > 0) {\n      console.log(\"Bokeh: BokehJS is being loaded, scheduling callback at\", now());\n      return null;\n    }\n    if (js_urls == null || js_urls.length === 0) {\n      run_callbacks();\n      return null;\n    }\n    console.log(\"Bokeh: BokehJS not loaded, scheduling load and callback at\", now());\n    root._bokeh_is_loading = js_urls.length;\n    for (var i = 0; i < js_urls.length; i++) {\n      var url = js_urls[i];\n      var s = document.createElement('script');\n      s.src = url;\n      s.async = false;\n      s.onreadystatechange = s.onload = function() {\n        root._bokeh_is_loading--;\n        if (root._bokeh_is_loading === 0) {\n          console.log(\"Bokeh: all BokehJS libraries loaded\");\n          run_callbacks()\n        }\n      };\n      s.onerror = function() {\n        console.warn(\"failed to load library \" + url);\n      };\n      console.log(\"Bokeh: injecting script tag for BokehJS library: \", url);\n      document.getElementsByTagName(\"head\")[0].appendChild(s);\n    }\n  };var element = document.getElementById(\"6ad644bf-e93f-453a-9220-33d45f0d51eb\");\n  if (element == null) {\n    console.log(\"Bokeh: ERROR: autoload.js configured with elementid '6ad644bf-e93f-453a-9220-33d45f0d51eb' but no matching script tag was found. \")\n    return false;\n  }\n\n  var js_urls = [\"https://cdn.pydata.org/bokeh/release/bokeh-0.12.14.min.js\", \"https://cdn.pydata.org/bokeh/release/bokeh-widgets-0.12.14.min.js\", \"https://cdn.pydata.org/bokeh/release/bokeh-tables-0.12.14.min.js\", \"https://cdn.pydata.org/bokeh/release/bokeh-gl-0.12.14.min.js\"];\n\n  var inline_js = [\n    function(Bokeh) {\n      Bokeh.set_log_level(\"info\");\n    },\n    \n    function(Bokeh) {\n      \n    },\n    function(Bokeh) {\n      console.log(\"Bokeh: injecting CSS: https://cdn.pydata.org/bokeh/release/bokeh-0.12.14.min.css\");\n      Bokeh.embed.inject_css(\"https://cdn.pydata.org/bokeh/release/bokeh-0.12.14.min.css\");\n      console.log(\"Bokeh: injecting CSS: https://cdn.pydata.org/bokeh/release/bokeh-widgets-0.12.14.min.css\");\n      Bokeh.embed.inject_css(\"https://cdn.pydata.org/bokeh/release/bokeh-widgets-0.12.14.min.css\");\n      console.log(\"Bokeh: injecting CSS: https://cdn.pydata.org/bokeh/release/bokeh-tables-0.12.14.min.css\");\n      Bokeh.embed.inject_css(\"https://cdn.pydata.org/bokeh/release/bokeh-tables-0.12.14.min.css\");\n    }\n  ];\n\n  function run_inline_js() {\n    \n    if ((root.Bokeh !== undefined) || (force === true)) {\n      for (var i = 0; i < inline_js.length; i++) {\n        inline_js[i].call(root, root.Bokeh);\n      }if (force === true) {\n        display_loaded();\n      }} else if (Date.now() < root._bokeh_timeout) {\n      setTimeout(run_inline_js, 100);\n    } else if (!root._bokeh_failed_load) {\n      console.log(\"Bokeh: BokehJS failed to load within specified timeout.\");\n      root._bokeh_failed_load = true;\n    } else if (force !== true) {\n      var cell = $(document.getElementById(\"6ad644bf-e93f-453a-9220-33d45f0d51eb\")).parents('.cell').data().cell;\n      cell.output_area.append_execute_result(NB_LOAD_WARNING)\n    }\n\n  }\n\n  if (root._bokeh_is_loading === 0) {\n    console.log(\"Bokeh: BokehJS loaded, going straight to plotting\");\n    run_inline_js();\n  } else {\n    load_libs(js_urls, function() {\n      console.log(\"Bokeh: BokehJS plotting callback run at\", now());\n      run_inline_js();\n    });\n  }\n}(window));"
     },
     "metadata": {},
     "output_type": "display_data"
    }
   ],
   "source": [
    "output_notebook()"
   ]
  },
  {
   "cell_type": "code",
   "execution_count": 8,
   "metadata": {
    "collapsed": true
   },
   "outputs": [],
   "source": [
    "def fmt_cool(ds_in):\n",
    "    ds = ds_in.copy(deep=True)\n",
    "    if 'igg' in ds.dims:\n",
    "        ds = ds.sel(igg=1)\n",
    "\n",
    "    if 'g' in ds.dims:\n",
    "        ds = ds.sum('g')\n",
    "            \n",
    "    if 'band' in ds.dims:\n",
    "        try:\n",
    "            ds = ds.squeeze('band')\n",
    "        except ValueError:\n",
    "            ds = ds.sum('band')\n",
    "                \n",
    "    return ds['coolrg']\n",
    "\n",
    "\n",
    "def pltdata_cooling_1(ds_cool=None,\n",
    "                      ds_cool_crd=None, ds_cool_wgt=None):\n",
    "    \n",
    "\n",
    "\n",
    "    colors = all_palettes['Set1'][4]\n",
    "    data = [{'label': 'CLIRAD `coolr_bands`',\n",
    "             'srs': fmt_cool(ds_cool),\n",
    "             'line_dash': 'dashed', 'line_width': 5,\n",
    "             'color': colors[0], 'alpha': .6},\n",
    "            {'label': 'CRD',\n",
    "             'srs': fmt_cool(ds_cool_crd),\n",
    "             'line_dash': 'solid', 'line_width': 1.5,\n",
    "             'marker': 'circle', 'marker_size': 5,\n",
    "             'color': colors[2], 'alpha': 1,},\n",
    "            {'label': 'WGT igg=10 wgt_flux=2',\n",
    "             'srs': fmt_cool(ds_cool_wgt),\n",
    "             'line_dash': 'solid', 'line_width': 3,\n",
    "             'marker': 'square', 'marker_size': 5,\n",
    "             'color': colors[3], 'alpha': .6}]\n",
    "    return data\n",
    "\n",
    "\n",
    "def nice_xlims(pltdata=None, prange=None):\n",
    "    \n",
    "    def get_slice(srs):\n",
    "        return srs.sel(pressure=slice(*prange))\n",
    "    \n",
    "    srss = [d['srs'] for d in pltdata]\n",
    "    vmin = min([get_slice(srs).min() for srs in srss])\n",
    "    vmax = max([get_slice(srs).max() for srs in srss])\n",
    "    dv = (vmax - vmin) * .01\n",
    "    return float(vmin - dv), float(vmax + dv)\n",
    "    \n",
    "\n",
    "def plt_cooling_bokeh(pltdata=None):\n",
    "    '''\n",
    "    Plot a list of cooling rate profiles using bokeh.\n",
    "    '''\n",
    "    ymin = 1e-2 \n",
    "    ymax = 1020 \n",
    "        \n",
    "    p1 = figure(title=\"Linear pressure scale\", \n",
    "                plot_width=400)        \n",
    "    xmin, xmax = nice_xlims(pltdata, prange=(50, 1050))\n",
    "    for d in pltdata:\n",
    "        if 'marker' in d:\n",
    "            getattr(p1, d['marker'])(d['srs'].values, \n",
    "                    d['srs'].coords['pressure'].values,\n",
    "                    color=d['color'], alpha=.7)\n",
    "        p1.line(d['srs'].values, \n",
    "                d['srs'].coords['pressure'].values,\n",
    "                color=d['color'], alpha=d['alpha'], \n",
    "                line_width=d['line_width'], line_dash=d['line_dash'])\n",
    "    \n",
    "    p1.y_range = Range1d(ymax, ymin)\n",
    "    p1.yaxis.axis_label = 'pressure [mb]'   \n",
    "    p1.x_range = Range1d(xmin, xmax)\n",
    "    p1.xaxis.axis_label = 'cooling rate [K/day]'\n",
    "            \n",
    "    p2 = figure(title='Log pressure scale', y_axis_type='log',\n",
    "                plot_width=560)\n",
    "    xmin, xmax = nice_xlims(pltdata, prange=(.01, 200))\n",
    "    \n",
    "    rs = []\n",
    "    for d in pltdata:\n",
    "        rd = []\n",
    "        if 'marker' in d:\n",
    "            r_mark = getattr(p2, d['marker'])(d['srs'].values, \n",
    "                        d['srs'].coords['pressure'].values,\n",
    "                        color=d['color'], alpha=.7)\n",
    "            rd.append(r_mark)\n",
    "        r_line = p2.line(d['srs'].values, \n",
    "                    d['srs'].coords['pressure'].values,\n",
    "                    color=d['color'], alpha=d['alpha'], \n",
    "                    line_width=d['line_width'], line_dash=d['line_dash'])\n",
    "        rd.append(r_line)\n",
    "      \n",
    "        rs.append(rd)\n",
    "        \n",
    "    p2.y_range = Range1d(ymax, ymin)  \n",
    "    p2.yaxis.axis_label = 'pressure [mb]'\n",
    "    \n",
    "    p2.x_range = Range1d(xmin, xmax)\n",
    "    p2.xaxis.axis_label = 'cooling rate [K/day]'\n",
    "    \n",
    "    items = [(d['label'], r) for r, d in zip(rs, pltdata)]\n",
    "    legend = Legend(items=items, location=(10, -30))\n",
    "    legend.label_text_font_size = '8pt'\n",
    "    \n",
    "    p2.add_layout(legend, 'right')  \n",
    "    \n",
    "    show(gridplot(p1, p2, ncols=2, plot_height=500))\n",
    "    \n",
    "\n",
    "def script_plt_cooling():\n",
    "    pltdata = pltdata_cooling_1(\n",
    "        ds_cool=DS_COOL,\n",
    "        ds_cool_crd=DS_COOL_CRD,\n",
    "        ds_cool_wgt=DS_COOL_WGT)\n",
    "    plt_cooling_bokeh(pltdata=pltdata)\n",
    "    print('''FIGURE. Cooling rate profiles.''')"
   ]
  },
  {
   "cell_type": "code",
   "execution_count": 9,
   "metadata": {
    "collapsed": true
   },
   "outputs": [],
   "source": [
    "def fmt_flux(ds_in):\n",
    "    ds = ds_in.copy(deep=True)\n",
    "    \n",
    "    for l in ('level', 'layer'):\n",
    "        if l in ds.data_vars:\n",
    "            if len(ds[l].dims) > 1:\n",
    "                surface = {d: 0 for d in ds.dims if d != 'pressure'}\n",
    "                coord_level = ds[l][surface]\n",
    "                ds.coords[l] = ('pressure', coord_level)\n",
    "            else:\n",
    "                ds.coords[l] = ('pressure', ds[l])\n",
    "        \n",
    "    ds = ds.isel(pressure=[0, 23, -1])\n",
    "        \n",
    "    if 'igg' in ds.dims:\n",
    "        ds = ds.sel(igg=[1])\n",
    "        ds = ds.squeeze('igg').drop('igg')\n",
    "    \n",
    "    if 'g' in ds.dims:\n",
    "        ds = ds.sum('g')\n",
    "            \n",
    "    if 'band' in ds.dims:\n",
    "        try:\n",
    "            ds = ds.squeeze('band').drop('band')\n",
    "        except ValueError:\n",
    "            ds = ds.sum('band')\n",
    "                \n",
    "    df = ds.to_dataframe()\n",
    "    df = df.set_index('level', append=True)               \n",
    "    return df\n",
    "\n",
    "\n",
    "def tbdata_flux(ds_flux=None, ds_flux_crd=None, ds_flux_wgt=None):\n",
    "    ilevels = [0, 23, -1]\n",
    "            \n",
    "    benchmark = {'label': 'WGT igg=10 wgt_flux=1',\n",
    "                 'df': fmt_flux(ds_flux_wgt)}\n",
    "    \n",
    "    tbs = [{'label': 'CRD',\n",
    "            'df': fmt_flux(ds_flux_crd)},\n",
    "           {'label': 'CLIRAD',\n",
    "            'df': fmt_flux(ds_flux)}]\n",
    "    \n",
    "    data = {'benchmark': benchmark, 'others': tbs}\n",
    "    return data\n",
    "\n",
    "\n",
    "def tb_flux(tbdata=None):\n",
    "    benchmark = tbdata['benchmark']\n",
    "    others = tbdata['others']\n",
    "    \n",
    "    def show_tb(d=None):\n",
    "        display.display(d['df'])\n",
    "        print('Table.', 'Fluxes.', d['label'])\n",
    "        \n",
    "    def show_tbdiff(d0=None, d=None):\n",
    "        df = d['df']\n",
    "        df.index = d0['df'].index\n",
    "        display.display(df - d0['df'])\n",
    "        print('Table.', 'Fluxes.', \n",
    "              '({}) - ({})'.format(d['label'], d0['label']))\n",
    "        \n",
    "    show_tb(benchmark)\n",
    "    for d in others:\n",
    "        show_tb(d)\n",
    "        \n",
    "    for d in others:\n",
    "        show_tbdiff(d=d, d0=benchmark)\n",
    "        \n",
    "        \n",
    "def script_tb_flux():\n",
    "    data = tbdata_flux(ds_flux=DS_FLUX,\n",
    "                       ds_flux_crd=DS_FLUX_CRD,\n",
    "                       ds_flux_wgt=DS_FLUX_WGT)\n",
    "    tb_flux(tbdata=data)"
   ]
  },
  {
   "cell_type": "code",
   "execution_count": 10,
   "metadata": {
    "collapsed": true
   },
   "outputs": [],
   "source": [
    "def band_map():\n",
    "    '''\n",
    "    Maps spectral bands in lblnew to spectral bands in clirad.\n",
    "    '''\n",
    "    lblnew2clirad = {'1': '1',\n",
    "            '2': '2',\n",
    "            '3a': '3',\n",
    "            '3b': '4',\n",
    "            '3c': '5',\n",
    "            '4': '6', \n",
    "            '5': '7',\n",
    "            '6': '8',\n",
    "            '7': '9', \n",
    "            '8': '10',\n",
    "            '9': '11'}\n",
    "    \n",
    "    clirad2lblnew = {clirad: lblnew \n",
    "                     for lblnew, clirad in lblnew2clirad.items()}\n",
    "    return clirad2lblnew\n",
    "\n",
    "\n",
    "def gasbands():\n",
    "    bmap = band_map()\n",
    "    gases = list(PARAM['molecule'].keys())\n",
    "    \n",
    "    bands = [bmap[str(b)] for b in PARAM['band']]\n",
    "    return list(itertools.product(gases, bands))\n",
    "\n",
    "\n",
    "def print_bestfit_params():\n",
    "    print('Best-fit values for each (gas, band)')\n",
    "    print('------------------------------------')\n",
    "    for gas, band in gasbands():\n",
    "        print('o {} band{}'.format(gas, band))\n",
    "        param = bestfits.kdist_params(molecule=gas, band=band)\n",
    "        for name, value in sorted(param.items()):\n",
    "            print(2 * ' ' + '{} = {}'.format(name, value))\n",
    "\n",
    "        \n",
    "def print_input_param():        \n",
    "    for name, value in PARAM.items():\n",
    "        print('{} = {}'.format(name, value))\n",
    "        \n",
    "        \n",
    "def print_lblnew_param():\n",
    "    for name, value in sorted(PARAM_LBLNEW.items()):\n",
    "        print('{} = {}'.format(name, value))\n"
   ]
  },
  {
   "cell_type": "code",
   "execution_count": 11,
   "metadata": {
    "collapsed": true,
    "scrolled": false
   },
   "outputs": [],
   "source": [
    "def show_html(s):\n",
    "    display.display(display.HTML(s))\n",
    "\n",
    "    \n",
    "def show_markdown(s):\n",
    "    display.display(display.Markdown(s))\n",
    "\n",
    "    \n",
    "def script():\n",
    "    \n",
    "    title = '### CLIRAD-LW'\n",
    "    s_input = 'Input Parameters'\n",
    "    s_lblnew_param = 'LBLNEW case compaired against'\n",
    "    s_bestfits = 'Best-fit Parameters'\n",
    "    s_plt_cooling = 'Cooling Rate Profiles'\n",
    "    s_tb_flux = 'Flux Comparison'\n",
    "    \n",
    "    # title\n",
    "    show_markdown('### CLIRAD-LW')\n",
    "    \n",
    "    # TOC\n",
    "    show_markdown('### Table of Contents')\n",
    "    show_html(climahtml.getHTML_hrefanchor(s_input))\n",
    "    show_html(climahtml.getHTML_hrefanchor(s_lblnew_param))\n",
    "    show_html(climahtml.getHTML_hrefanchor(s_plt_cooling))\n",
    "    show_html(climahtml.getHTML_hrefanchor(s_tb_flux))\n",
    "    show_html(climahtml.getHTML_hrefanchor(s_bestfits))\n",
    "    \n",
    "    # Input parameters\n",
    "    show_html(climahtml.getHTML_idanchor(s_input))\n",
    "    show_markdown(climahtml.getMarkdown_sectitle(s_input))\n",
    "    print_input_param()\n",
    "    \n",
    "    # LBLNEW parameters \n",
    "    show_html(climahtml.getHTML_idanchor(s_lblnew_param))\n",
    "    show_markdown(climahtml.getMarkdown_sectitle(s_lblnew_param))\n",
    "    print_lblnew_param()\n",
    "    \n",
    "    # Cooling rate profiles\n",
    "    show_html(climahtml.getHTML_idanchor(s_plt_cooling))\n",
    "    show_markdown(climahtml.getMarkdown_sectitle(s_plt_cooling))\n",
    "    script_plt_cooling()\n",
    "    \n",
    "    # Flux comparison\n",
    "    show_html(climahtml.getHTML_idanchor(s_tb_flux))\n",
    "    show_markdown(climahtml.getMarkdown_sectitle(s_tb_flux))\n",
    "    script_tb_flux()\n",
    "    \n",
    "    # Best-fit values\n",
    "    show_html(climahtml.getHTML_idanchor(s_bestfits))\n",
    "    show_markdown(climahtml.getMarkdown_sectitle(s_bestfits))\n",
    "    print_bestfit_params()\n",
    "   \n",
    "    "
   ]
  },
  {
   "cell_type": "code",
   "execution_count": 12,
   "metadata": {
    "collapsed": true,
    "scrolled": false
   },
   "outputs": [
    {
     "data": {
      "text/markdown": [
       "### CLIRAD-LW"
      ],
      "text/plain": [
       "<IPython.core.display.Markdown object>"
      ]
     },
     "metadata": {},
     "output_type": "display_data"
    },
    {
     "data": {
      "text/markdown": [
       "### Table of Contents"
      ],
      "text/plain": [
       "<IPython.core.display.Markdown object>"
      ]
     },
     "metadata": {},
     "output_type": "display_data"
    },
    {
     "data": {
      "text/html": [
       "<a href=\"#Input_Parameters\">Input Parameters</a>"
      ],
      "text/plain": [
       "<IPython.core.display.HTML object>"
      ]
     },
     "metadata": {},
     "output_type": "display_data"
    },
    {
     "data": {
      "text/html": [
       "<a href=\"#LBLNEW_case_compaired_against\">LBLNEW case compaired against</a>"
      ],
      "text/plain": [
       "<IPython.core.display.HTML object>"
      ]
     },
     "metadata": {},
     "output_type": "display_data"
    },
    {
     "data": {
      "text/html": [
       "<a href=\"#Cooling_Rate_Profiles\">Cooling Rate Profiles</a>"
      ],
      "text/plain": [
       "<IPython.core.display.HTML object>"
      ]
     },
     "metadata": {},
     "output_type": "display_data"
    },
    {
     "data": {
      "text/html": [
       "<a href=\"#Flux_Comparison\">Flux Comparison</a>"
      ],
      "text/plain": [
       "<IPython.core.display.HTML object>"
      ]
     },
     "metadata": {},
     "output_type": "display_data"
    },
    {
     "data": {
      "text/html": [
       "<a href=\"#Best-fit_Parameters\">Best-fit Parameters</a>"
      ],
      "text/plain": [
       "<IPython.core.display.HTML object>"
      ]
     },
     "metadata": {},
     "output_type": "display_data"
    },
    {
     "data": {
      "text/html": [
       "<a id=\"Input_Parameters\"></a>"
      ],
      "text/plain": [
       "<IPython.core.display.HTML object>"
      ]
     },
     "metadata": {},
     "output_type": "display_data"
    },
    {
     "data": {
      "text/markdown": [
       "# Input Parameters"
      ],
      "text/plain": [
       "<IPython.core.display.Markdown object>"
      ]
     },
     "metadata": {},
     "output_type": "display_data"
    },
    {
     "name": "stdout",
     "output_type": "stream",
     "text": [
      "atmpro = saw\n",
      "band = [3]\n",
      "commitnumber = 7fe1447\n",
      "molecule = {'co2': 0.0004}\n",
      "tsfc = 257\n"
     ]
    },
    {
     "data": {
      "text/html": [
       "<a id=\"LBLNEW_case_compaired_against\"></a>"
      ],
      "text/plain": [
       "<IPython.core.display.HTML object>"
      ]
     },
     "metadata": {},
     "output_type": "display_data"
    },
    {
     "data": {
      "text/markdown": [
       "# LBLNEW case compaired against"
      ],
      "text/plain": [
       "<IPython.core.display.Markdown object>"
      ]
     },
     "metadata": {},
     "output_type": "display_data"
    },
    {
     "name": "stdout",
     "output_type": "stream",
     "text": [
      "atmpro = saw\n",
      "band = 3a\n",
      "commitnumber = a06b618\n",
      "conc = 0.0004\n",
      "dv = 0.001\n",
      "klin = 6.375563e-24\n",
      "molecule = co2\n",
      "ng_adju = [0, 0, 0]\n",
      "ng_refs = [3, 2, 4]\n",
      "nv = 1000\n",
      "option_compute_btable = 0\n",
      "option_compute_ktable = 0\n",
      "option_wgt_flux = 1\n",
      "option_wgt_k = 1\n",
      "ref_pts = [(1, 250), (10, 250), (500, 250)]\n",
      "tsfc = 257\n",
      "vmax = 620\n",
      "vmin = 540\n",
      "w_diffuse = [(1.6, 1.6, 1.7), (1.75, 1.75), (1.55, 1.55, 1.6, 1.85)]\n",
      "wgt = [(0.7, 0.3, 0.7), (0.7, 0.6), (0.4, 0.5, 0.8, 0.95)]\n"
     ]
    },
    {
     "data": {
      "text/html": [
       "<a id=\"Cooling_Rate_Profiles\"></a>"
      ],
      "text/plain": [
       "<IPython.core.display.HTML object>"
      ]
     },
     "metadata": {},
     "output_type": "display_data"
    },
    {
     "data": {
      "text/markdown": [
       "# Cooling Rate Profiles"
      ],
      "text/plain": [
       "<IPython.core.display.Markdown object>"
      ]
     },
     "metadata": {},
     "output_type": "display_data"
    },
    {
     "data": {
      "text/html": [
       "\n",
       "<div class=\"bk-root\">\n",
       "    <div class=\"bk-plotdiv\" id=\"9a23eb53-ff08-4079-8235-22a519fc850c\"></div>\n",
       "</div>"
      ]
     },
     "metadata": {},
     "output_type": "display_data"
    },
    {
     "data": {
      "application/javascript": [
       "(function(root) {\n",
       "  function embed_document(root) {\n",
       "    \n",
       "  var docs_json = {\"6d281822-1357-41d7-a9c6-f7f7d94f0776\":{\"roots\":{\"references\":[{\"attributes\":{},\"id\":\"881deebc-3a14-45cb-ab88-bbfba4ab15aa\",\"type\":\"HelpTool\"},{\"attributes\":{\"data_source\":{\"id\":\"c8f0ccec-8865-4b98-b4a9-1eacafeda00e\",\"type\":\"ColumnDataSource\"},\"glyph\":{\"id\":\"1c5a4ba1-7354-4a90-912b-4804539729a5\",\"type\":\"Line\"},\"hover_glyph\":null,\"muted_glyph\":null,\"nonselection_glyph\":{\"id\":\"1378d9f3-4a01-4487-a338-ededb4e68b32\",\"type\":\"Line\"},\"selection_glyph\":null,\"view\":{\"id\":\"39e14303-33ae-4930-b0c6-f4290cf5aae7\",\"type\":\"CDSView\"}},\"id\":\"342fccfa-37e7-47a2-a9e4-437dd61abb08\",\"type\":\"GlyphRenderer\"},{\"attributes\":{\"line_alpha\":0.1,\"line_color\":\"#1f77b4\",\"line_dash\":[6],\"line_width\":5,\"x\":{\"field\":\"x\"},\"y\":{\"field\":\"y\"}},\"id\":\"2d4118d7-3ca7-46c5-bc10-9364e064e02f\",\"type\":\"Line\"},{\"attributes\":{\"children\":[{\"id\":\"5b5838bd-4802-4313-90eb-7a41c9c0a540\",\"type\":\"Row\"}]},\"id\":\"f43f89d6-33b0-41d3-b9c3-02877155cae2\",\"type\":\"Column\"},{\"attributes\":{\"bottom_units\":\"screen\",\"fill_alpha\":{\"value\":0.5},\"fill_color\":{\"value\":\"lightgrey\"},\"left_units\":\"screen\",\"level\":\"overlay\",\"line_alpha\":{\"value\":1.0},\"line_color\":{\"value\":\"black\"},\"line_dash\":[4,4],\"line_width\":{\"value\":2},\"plot\":null,\"render_mode\":\"css\",\"right_units\":\"screen\",\"top_units\":\"screen\"},\"id\":\"8f43599b-668c-4eda-9180-621c346dd4ca\",\"type\":\"BoxAnnotation\"},{\"attributes\":{},\"id\":\"5844fdc7-9887-4ff8-a028-e2934c95236f\",\"type\":\"BasicTickFormatter\"},{\"attributes\":{\"callback\":null,\"end\":0.01,\"start\":1020},\"id\":\"0f344d4b-242f-4cfa-9b75-3de2ad4e0b57\",\"type\":\"Range1d\"},{\"attributes\":{},\"id\":\"75c69ca5-9e75-4734-b800-1b610279366b\",\"type\":\"PanTool\"},{\"attributes\":{},\"id\":\"e1e1d962-c17e-48cc-91f6-134befb84f03\",\"type\":\"ResetTool\"},{\"attributes\":{\"line_alpha\":0.6,\"line_color\":\"#e41a1c\",\"line_dash\":[6],\"line_width\":5,\"x\":{\"field\":\"x\"},\"y\":{\"field\":\"y\"}},\"id\":\"5579b458-0af8-4b30-ab27-b3bba65993ca\",\"type\":\"Line\"},{\"attributes\":{\"callback\":null,\"column_names\":[\"x\",\"y\"],\"data\":{\"x\":{\"__ndarray__\":\"pBQZwtYRyD+8S1YDnHfLPzurw9nGwtI/r90LBrZO2D952q91iEPeP1AlHN21QuI/RC8nkRJ15T+6K2Cn/ZvoPwWVyHAClOs/8Ygjcm4x7j9hK7LnfCLwP8+CUN7H0fA/uoA8YMMY8T/YgXNGlJbwPzUjKCPTJu4/N0b81MJW6j9FetXzA9HmP9HEIiPz6uM/r2soc/ve4T/oxssF9OPgP6VZTZX3auE/oHF+Fo1t3z+cPJ/g5v3WP0IWWLbF69A/wudekpBpyj8DnFqNV+bEPyVh193ZKsA/4xl2ECK2uT8s23XZKYK2P9QMXRQz/rM/4zU9lcTzsD8jFn16dj2rP4ExvSWCNqg/4inc2fTzqD8KnPA7GyypP8++sARr/6g/s3e7aAyWqD9/111ch8OmP8dubGTBPqQ/Rqj2QjEUoj+ttI+MCtmfP2WYuvuBSps/+hAXKkYwlj+1OrrDhqSPPyyyVBnxXX0/YIedqRhucj/fCqVSk7CIP2Al3Z45TpY/m5DWGHRCnj+9ANBoeKGiP6PLm8O12qU/slGHKVLgqD+lLqwqGryrPwA3IzSWca4/TcQH6FGAsD/byEzUmLGxP6QKopVLyLI/Elccboq+sz/S4G/hZI60P6evSpZRNLU/FAvX/imwtT9tKwfENQi2P2PWapOzRbY/k1KEX+B1tj/ix0K73ae2P9bmjQBf67Y/n0/suhpNtz8YR7fufsa3Px9HxKvkF7g/M7GgAO+8tz9W2RQbNVe2P4qIRJysI7Q/yvYX/UWpsT/5+OzPMV+uP4l+crauCKk/\",\"dtype\":\"float64\",\"shape\":[75]},\"y\":{\"__ndarray__\":\"GhExyth1ND/Sv8nbtpRIP2vylNV0PVE/aTum7souWD/At0SJ8fVgPw3Iuahxymc/MSNhhJWvcD/bTfBN02d3P2zb5nxnaoA/CD5h5MAGhz8NmeH1TyaQP+zrCsc9p5Y/LbKd76fGnz/bLW5ISEmmPww9YvTcQq8/JV2OstnstT8Er5Y7M8G+P0c+r3jqkcU/5h99k6ZBzj88bCIzFzjVP4enV8oyxN0//yH99nXg5D8qOpLLf0jtP5kqGJXUifQ/c9cS8kHP/D+/DpwzojQEQIEmwoanVwxA4lgXt9HgE0BSSZ2AJuIbQAMJih9jjiNA5q4l5INuK0AwTKYKRj0zQNv5fmq8/DpAaCJseHrtQkB/+zpwzoxKQM3MzMzMeFJAZmZmZmZqWEAAAAAAAFxeQM3MzMzMJmJAmpmZmZkfZUBmZmZmZhhoQDMzMzMzEWtAAAAAAAAKbkBmZmZmZoFwQM3MzMzM/XFAMzMzMzN6c0CamZmZmfZ0QAAAAAAAc3ZAZmZmZmbvd0DNzMzMzGt5QDMzMzMz6HpAmpmZmZlkfEAAAAAAAOF9QGZmZmZmXX9AZmZmZuZsgECamZmZGSuBQM3MzMxM6YFAAAAAAICngkAzMzMzs2WDQGZmZmbmI4RAmpmZmRnihEDNzMzMTKCFQAAAAACAXoZAMzMzM7Mch0BmZmZm5tqHQJqZmZkZmYhAzczMzExXiUAAAAAAgBWKQDMzMzOz04pAZmZmZuaRi0CamZmZGVCMQM3MzMxMDo1AAAAAAIDMjUAzMzMzs4qOQGZmZmbmSI9A\",\"dtype\":\"float64\",\"shape\":[75]}}},\"id\":\"2063411d-89ae-45da-864a-063231baed25\",\"type\":\"ColumnDataSource\"},{\"attributes\":{\"below\":[{\"id\":\"8b1a1b6e-a366-4b46-ada7-2ef070563a36\",\"type\":\"LinearAxis\"}],\"left\":[{\"id\":\"28098f28-48f2-4eae-868d-890e9ea226c9\",\"type\":\"LinearAxis\"}],\"plot_height\":500,\"plot_width\":400,\"renderers\":[{\"id\":\"8b1a1b6e-a366-4b46-ada7-2ef070563a36\",\"type\":\"LinearAxis\"},{\"id\":\"74bb96d1-5fb6-4239-a8d5-ee7865ca5a31\",\"type\":\"Grid\"},{\"id\":\"28098f28-48f2-4eae-868d-890e9ea226c9\",\"type\":\"LinearAxis\"},{\"id\":\"db8b6107-192a-40cb-8d72-8fb4ee14732d\",\"type\":\"Grid\"},{\"id\":\"f4a4aefb-1d07-459a-9a35-281f2c6430d0\",\"type\":\"BoxAnnotation\"},{\"id\":\"342fccfa-37e7-47a2-a9e4-437dd61abb08\",\"type\":\"GlyphRenderer\"},{\"id\":\"68cbecf6-6044-4f79-8812-ac26e58e302c\",\"type\":\"GlyphRenderer\"},{\"id\":\"cb4e4166-6387-4032-95d7-8731f9514f80\",\"type\":\"GlyphRenderer\"},{\"id\":\"3f2e325e-2883-4ce1-b4ff-cf79fc617013\",\"type\":\"GlyphRenderer\"},{\"id\":\"8dca2786-ccb6-4358-8ee0-8f5f00ec8202\",\"type\":\"GlyphRenderer\"}],\"title\":{\"id\":\"0d45907a-ca50-4764-908a-a824cbab1ae5\",\"type\":\"Title\"},\"toolbar\":{\"id\":\"5bacb696-bd8b-4581-b6db-e2cc15ffcfaa\",\"type\":\"Toolbar\"},\"toolbar_location\":null,\"x_range\":{\"id\":\"173b9270-0772-4569-b299-1fffe8cd82c2\",\"type\":\"Range1d\"},\"x_scale\":{\"id\":\"37dcf9e5-25ef-4c11-9adf-c9009259e72e\",\"type\":\"LinearScale\"},\"y_range\":{\"id\":\"d093dd9e-88fc-483a-8960-5f4817a92223\",\"type\":\"Range1d\"},\"y_scale\":{\"id\":\"7a6d9fdf-b216-4aa3-9d50-de659d97e253\",\"type\":\"LinearScale\"}},\"id\":\"8d9cac31-6b21-43c9-983c-b0f697f74796\",\"subtype\":\"Figure\",\"type\":\"Plot\"},{\"attributes\":{\"label\":{\"value\":\"WGT igg=10 wgt_flux=2\"},\"renderers\":[{\"id\":\"f6b2bcdd-16ee-480a-8497-140c97cd9ca6\",\"type\":\"GlyphRenderer\"},{\"id\":\"b2399523-e7ca-4670-98d9-5ae4326bf60c\",\"type\":\"GlyphRenderer\"}]},\"id\":\"3f3ba4d3-9aa7-49ec-9f86-91d44a4dc1ed\",\"type\":\"LegendItem\"},{\"attributes\":{\"overlay\":{\"id\":\"8f43599b-668c-4eda-9180-621c346dd4ca\",\"type\":\"BoxAnnotation\"}},\"id\":\"d797e2a5-a2a4-46a6-9887-e0e72d4e2fe9\",\"type\":\"BoxZoomTool\"},{\"attributes\":{\"active_drag\":\"auto\",\"active_inspect\":\"auto\",\"active_scroll\":\"auto\",\"active_tap\":\"auto\",\"tools\":[{\"id\":\"e4d0c870-4186-4878-b14d-814a71ea6e12\",\"type\":\"PanTool\"},{\"id\":\"37a9faf2-1c74-4121-8ea4-4fc6e56370ae\",\"type\":\"WheelZoomTool\"},{\"id\":\"9d40cb9f-6c1d-4fdb-97aa-4a1d966f5b29\",\"type\":\"BoxZoomTool\"},{\"id\":\"f72a6f43-e3f0-4861-a342-61d0e695e434\",\"type\":\"SaveTool\"},{\"id\":\"77270692-709c-4ced-a963-ae4d4115ac0c\",\"type\":\"ResetTool\"},{\"id\":\"3c9000e6-b0a5-4f29-a088-5e609cfc252d\",\"type\":\"HelpTool\"}]},\"id\":\"5bacb696-bd8b-4581-b6db-e2cc15ffcfaa\",\"type\":\"Toolbar\"},{\"attributes\":{\"label\":{\"value\":\"CLIRAD `coolr_bands`\"},\"renderers\":[{\"id\":\"b0b48d0c-f903-4e9c-8c2b-afca4808b8b7\",\"type\":\"GlyphRenderer\"}]},\"id\":\"51240a4d-c2cd-4754-b8e2-c874b7c6970c\",\"type\":\"LegendItem\"},{\"attributes\":{},\"id\":\"b7c38471-09e3-4406-b57d-6ee702d0891d\",\"type\":\"WheelZoomTool\"},{\"attributes\":{\"callback\":null,\"column_names\":[\"x\",\"y\"],\"data\":{\"x\":{\"__ndarray__\":\"ScK2LPxsvD/INwRcyljBPzVRGTnq7Mg/yOMvTvi80D/DoMhqJXrVP/WwYZfyq9o/msm7E4Ek4D+CZdeDah/jP6ZiIUJ1NuY/jo7trS9P6T85gcimhUDsPwMpTkHA0u4/rUeGwaFc8D8nSkIibYPwP5VPh/zQ+O4/G19iyag06z/70hVLFbXmP5htZZE/W+I/yw0rgTlf3j8Kbt4XG+PbP3OO8KyT6d0/5+tLmUjn3D9QWxsRKdnWPwz/jk2XqtE/UC1LCfvVyz9SjaiaavfFP3z3nvyjkME/sItoXLTXvT9NrACdUQy8PwdyNyWsz7k/UuzacdKatT+mNU9zxyKwP6y96im7Xqk/nd8oYNjtpz/479u/mzapP6tO7V2aWqw/ms+52/XSrT+DyBrcc+yrPzrfNvD2Yqg/ONMpNLURpT8/oV/avuehP67J9+X8r50/tftnY6sflz9+JYihcp+OPx2/eaqxL3Y/5hYn+M76YD/2aFFvq/iDP662rg0fVZQ/VXFzwjWLnD9aE4KK58KhPwYwwJnz56Q/w9VXEDDepz86WSPoU7qqP1bLPSc0fq0/Mbw+5SsQsD8rukTh8lmxP2qKw0NflLI/lMwXn/W1sz+KtVPOcrS0PxpDAyh7iLU/yMnMHssvtj/4zWxzPbO2P0Ak9f48Frc/wcz4cClktz/5GT/WUaq3PyOlVQRq97c/hlDTnvpWuD/ZOozXKce4P8XuVCNoCrk/kuGhvTSkuD94Xr2Ztzu3P5PnoYbUDLU/5r1VyneYsj9vgwqpAyKwP+ZKW2Gc7ao/\",\"dtype\":\"float64\",\"shape\":[75]},\"y\":{\"__ndarray__\":\"S/O/Q+51ND/Sv8nbtpRIP2vylNV0PVE/aTum7souWD/At0SJ8fVgPw3Iuahxymc/MSNhhJWvcD/bTfBN02d3P2zb5nxnaoA/CD5h5MAGhz8NmeH1TyaQP+zrCsc9p5Y/LbKd76fGnz/bLW5ISEmmPww9YvTcQq8/JV2OstnstT8Er5Y7M8G+P0c+r3jqkcU/5h99k6ZBzj88bCIzFzjVP4enV8oyxN0//yH99nXg5D8qOpLLf0jtP5kqGJXUifQ/c9cS8kHP/D+/DpwzojQEQIEmwoanVwxA4lgXt9HgE0BSSZ2AJuIbQAMJih9jjiNA5q4l5INuK0AwTKYKRj0zQNv5fmq8/DpAaCJseHrtQkB/+zpwzoxKQM3MzMzMeFJAZmZmZmZqWEAAAAAAAFxeQM3MzMzMJmJAmpmZmZkfZUBmZmZmZhhoQDMzMzMzEWtAAAAAAAAKbkBmZmZmZoFwQM3MzMzM/XFAMzMzMzN6c0CamZmZmfZ0QAAAAAAAc3ZAZmZmZmbvd0DNzMzMzGt5QDMzMzMz6HpAmpmZmZlkfEAAAAAAAOF9QGZmZmZmXX9AZmZmZuZsgECamZmZGSuBQM3MzMxM6YFAAAAAAICngkAzMzMzs2WDQGZmZmbmI4RAmpmZmRnihEDNzMzMTKCFQAAAAACAXoZAMzMzM7Mch0BmZmZm5tqHQJqZmZkZmYhAzczMzExXiUAAAAAAgBWKQDMzMzOz04pAZmZmZuaRi0CamZmZGVCMQM3MzMxMDo1AAAAAAIDMjUAzMzMzs4qOQGZmZmbmSI9A\",\"dtype\":\"float64\",\"shape\":[75]}}},\"id\":\"bde40dcd-a88c-4e1b-b364-f3ee9d414130\",\"type\":\"ColumnDataSource\"},{\"attributes\":{\"label\":{\"value\":\"CRD\"},\"renderers\":[{\"id\":\"67eaef52-1068-4ba7-8c90-822257640267\",\"type\":\"GlyphRenderer\"},{\"id\":\"5fecfb78-33ac-49c9-a71c-1d288b28503d\",\"type\":\"GlyphRenderer\"}]},\"id\":\"397022ca-0dda-49c4-a665-e7468e9a4d78\",\"type\":\"LegendItem\"},{\"attributes\":{},\"id\":\"c3b57489-a8cd-40e5-b71b-e803e41780b5\",\"type\":\"LogScale\"},{\"attributes\":{\"axis_label\":\"cooling rate [K/day]\",\"formatter\":{\"id\":\"af806c53-026c-45b0-9e7f-d273d40f7405\",\"type\":\"BasicTickFormatter\"},\"plot\":{\"id\":\"98787572-f1f2-4922-b009-e5ad1f091f00\",\"subtype\":\"Figure\",\"type\":\"Plot\"},\"ticker\":{\"id\":\"c8469e94-dc75-4053-bebe-bcfcd81e0dfe\",\"type\":\"BasicTicker\"}},\"id\":\"1ef7a0f8-ad22-4aa8-9017-24bef0492df2\",\"type\":\"LinearAxis\"},{\"attributes\":{\"line_alpha\":0.6,\"line_color\":\"#e41a1c\",\"line_dash\":[6],\"line_width\":5,\"x\":{\"field\":\"x\"},\"y\":{\"field\":\"y\"}},\"id\":\"1c5a4ba1-7354-4a90-912b-4804539729a5\",\"type\":\"Line\"},{\"attributes\":{\"line_alpha\":0.1,\"line_color\":\"#1f77b4\",\"line_dash\":[6],\"line_width\":5,\"x\":{\"field\":\"x\"},\"y\":{\"field\":\"y\"}},\"id\":\"1378d9f3-4a01-4487-a338-ededb4e68b32\",\"type\":\"Line\"},{\"attributes\":{\"plot\":{\"id\":\"98787572-f1f2-4922-b009-e5ad1f091f00\",\"subtype\":\"Figure\",\"type\":\"Plot\"},\"ticker\":{\"id\":\"c8469e94-dc75-4053-bebe-bcfcd81e0dfe\",\"type\":\"BasicTicker\"}},\"id\":\"cc7c4251-7f82-48a9-be4b-a9ef4692c3d9\",\"type\":\"Grid\"},{\"attributes\":{},\"id\":\"c259bbbb-3184-49e1-a21c-29ea96e7d97a\",\"type\":\"SaveTool\"},{\"attributes\":{},\"id\":\"3c9000e6-b0a5-4f29-a088-5e609cfc252d\",\"type\":\"HelpTool\"},{\"attributes\":{\"callback\":null,\"column_names\":[\"x\",\"y\"],\"data\":{\"x\":{\"__ndarray__\":\"/kSBVkQ8xj/+fS1J8q3JP3GlM4UtW9E/Hir8e4Fl1j9eZqI3btfbP/mKBeEmz+A/hv7p30PU4z86RZ8LvuDmP0obAT4G3uk/eJrYZ6uf7D/eY3C4mP/uP8NrsEj2YvA/SlqQ1d/g8D+kmVFI2ZHwP/7dbhLSYe4/bHyWSC1x6j/RawDEKV7mP8rLoMGFv+I/yj46qZwt4D9v1yn02znePwbSrmnM3N8/cOJXmuj53T/FgUafRR3XP29sNnPGndE/EC9Nh7O0yz+akR8ENAfGP8Gt/UmMjsE/W+4emjCAvT+ush/KmDa7PxozvpIJ/7g/UkYLzTIqtT8+JIC1JEewP04/oM6Yv6o/I2WtcCg+qj9QqaLKeRWrPxQR5LiXJq0/U8ekWNxjrj80b/42gbmsP8qVSuyNgKk/N9zhmkBapj/4du6mZCejP2+Je+ZTw58/nRqyNvLCmD8vHEzBoIiQP1JT/f1/SXk/SCaBIUzCZT+kjUp2umSFP3Mq1j6RKpU/pK5Qfl5cnT8y+2ro+CuiP84dN/ySTaU/Ukw5zWExqD/h4Ozvf+yqP/7SzWXYh60/B6OMKZADsD8g9RHxLDWxPwiyj2o8TrI/QP299pFOsz8i4t6kEy20Pz6YhXNl5LQ/I9IO87ZytT8cM9mng961P/hyH/51LrY/uP34yhBvtj+RNnGvjq22P2kz2O3N+rY/f+c9peBltz/T9/cpsN+3P2Oohp1VNbg/DAp3eaDhtz9unQ9LAIi2P8Xh7eNHZbQ/vG7a7oz+sT/lwG/dgS2vP7h7FqIM9Kk/\",\"dtype\":\"float64\",\"shape\":[75]},\"y\":{\"__ndarray__\":\"GhExyth1ND/Sv8nbtpRIP2vylNV0PVE/aTum7souWD/At0SJ8fVgPw3Iuahxymc/MSNhhJWvcD/bTfBN02d3P2zb5nxnaoA/CD5h5MAGhz8NmeH1TyaQP+zrCsc9p5Y/LbKd76fGnz/bLW5ISEmmPww9YvTcQq8/JV2OstnstT8Er5Y7M8G+P0c+r3jqkcU/5h99k6ZBzj88bCIzFzjVP4enV8oyxN0//yH99nXg5D8qOpLLf0jtP5kqGJXUifQ/c9cS8kHP/D+/DpwzojQEQIEmwoanVwxA4lgXt9HgE0BSSZ2AJuIbQAMJih9jjiNA5q4l5INuK0AwTKYKRj0zQNv5fmq8/DpAaCJseHrtQkB/+zpwzoxKQM3MzMzMeFJAZmZmZmZqWEAAAAAAAFxeQM3MzMzMJmJAmpmZmZkfZUBmZmZmZhhoQDMzMzMzEWtAAAAAAAAKbkBmZmZmZoFwQM3MzMzM/XFAMzMzMzN6c0CamZmZmfZ0QAAAAAAAc3ZAZmZmZmbvd0DNzMzMzGt5QDMzMzMz6HpAmpmZmZlkfEAAAAAAAOF9QGZmZmZmXX9AZmZmZuZsgECamZmZGSuBQM3MzMxM6YFAAAAAAICngkAzMzMzs2WDQGZmZmbmI4RAmpmZmRnihEDNzMzMTKCFQAAAAACAXoZAMzMzM7Mch0BmZmZm5tqHQJqZmZkZmYhAzczMzExXiUAAAAAAgBWKQDMzMzOz04pAZmZmZuaRi0CamZmZGVCMQM3MzMxMDo1AAAAAAIDMjUAzMzMzs4qOQGZmZmbmSI9A\",\"dtype\":\"float64\",\"shape\":[75]}}},\"id\":\"06c85849-4a95-479d-bbd3-b7c7ccfa6197\",\"type\":\"ColumnDataSource\"},{\"attributes\":{\"data_source\":{\"id\":\"3a307950-94b9-4599-8eeb-71bc3edfad18\",\"type\":\"ColumnDataSource\"},\"glyph\":{\"id\":\"0c7b8c43-0cd0-43c6-9d41-178ea8cd4a6a\",\"type\":\"Line\"},\"hover_glyph\":null,\"muted_glyph\":null,\"nonselection_glyph\":{\"id\":\"0368ff46-f4df-4ad6-86be-956911b17ef9\",\"type\":\"Line\"},\"selection_glyph\":null,\"view\":{\"id\":\"ce753361-e9b8-4a91-93bf-fdd2ca30e8fb\",\"type\":\"CDSView\"}},\"id\":\"8dca2786-ccb6-4358-8ee0-8f5f00ec8202\",\"type\":\"GlyphRenderer\"},{\"attributes\":{\"source\":{\"id\":\"2063411d-89ae-45da-864a-063231baed25\",\"type\":\"ColumnDataSource\"}},\"id\":\"27778dec-15df-4388-94b7-5b343c4fce0d\",\"type\":\"CDSView\"},{\"attributes\":{\"toolbar\":{\"id\":\"f8d36550-7a6b-4f2c-b838-3ed81251859c\",\"type\":\"ProxyToolbar\"},\"toolbar_location\":\"above\"},\"id\":\"6279c0f6-f80c-4624-9ab1-b0ebb42ebe55\",\"type\":\"ToolbarBox\"},{\"attributes\":{\"callback\":null,\"end\":0.01,\"start\":1020},\"id\":\"d093dd9e-88fc-483a-8960-5f4817a92223\",\"type\":\"Range1d\"},{\"attributes\":{\"callback\":null,\"column_names\":[\"x\",\"y\"],\"data\":{\"x\":{\"__ndarray__\":\"/kSBVkQ8xj/+fS1J8q3JP3GlM4UtW9E/Hir8e4Fl1j9eZqI3btfbP/mKBeEmz+A/hv7p30PU4z86RZ8LvuDmP0obAT4G3uk/eJrYZ6uf7D/eY3C4mP/uP8NrsEj2YvA/SlqQ1d/g8D+kmVFI2ZHwP/7dbhLSYe4/bHyWSC1x6j/RawDEKV7mP8rLoMGFv+I/yj46qZwt4D9v1yn02znePwbSrmnM3N8/cOJXmuj53T/FgUafRR3XP29sNnPGndE/EC9Nh7O0yz+akR8ENAfGP8Gt/UmMjsE/W+4emjCAvT+ush/KmDa7PxozvpIJ/7g/UkYLzTIqtT8+JIC1JEewP04/oM6Yv6o/I2WtcCg+qj9QqaLKeRWrPxQR5LiXJq0/U8ekWNxjrj80b/42gbmsP8qVSuyNgKk/N9zhmkBapj/4du6mZCejP2+Je+ZTw58/nRqyNvLCmD8vHEzBoIiQP1JT/f1/SXk/SCaBIUzCZT+kjUp2umSFP3Mq1j6RKpU/pK5Qfl5cnT8y+2ro+CuiP84dN/ySTaU/Ukw5zWExqD/h4Ozvf+yqP/7SzWXYh60/B6OMKZADsD8g9RHxLDWxPwiyj2o8TrI/QP299pFOsz8i4t6kEy20Pz6YhXNl5LQ/I9IO87ZytT8cM9mng961P/hyH/51LrY/uP34yhBvtj+RNnGvjq22P2kz2O3N+rY/f+c9peBltz/T9/cpsN+3P2Oohp1VNbg/DAp3eaDhtz9unQ9LAIi2P8Xh7eNHZbQ/vG7a7oz+sT/lwG/dgS2vP7h7FqIM9Kk/\",\"dtype\":\"float64\",\"shape\":[75]},\"y\":{\"__ndarray__\":\"GhExyth1ND/Sv8nbtpRIP2vylNV0PVE/aTum7souWD/At0SJ8fVgPw3Iuahxymc/MSNhhJWvcD/bTfBN02d3P2zb5nxnaoA/CD5h5MAGhz8NmeH1TyaQP+zrCsc9p5Y/LbKd76fGnz/bLW5ISEmmPww9YvTcQq8/JV2OstnstT8Er5Y7M8G+P0c+r3jqkcU/5h99k6ZBzj88bCIzFzjVP4enV8oyxN0//yH99nXg5D8qOpLLf0jtP5kqGJXUifQ/c9cS8kHP/D+/DpwzojQEQIEmwoanVwxA4lgXt9HgE0BSSZ2AJuIbQAMJih9jjiNA5q4l5INuK0AwTKYKRj0zQNv5fmq8/DpAaCJseHrtQkB/+zpwzoxKQM3MzMzMeFJAZmZmZmZqWEAAAAAAAFxeQM3MzMzMJmJAmpmZmZkfZUBmZmZmZhhoQDMzMzMzEWtAAAAAAAAKbkBmZmZmZoFwQM3MzMzM/XFAMzMzMzN6c0CamZmZmfZ0QAAAAAAAc3ZAZmZmZmbvd0DNzMzMzGt5QDMzMzMz6HpAmpmZmZlkfEAAAAAAAOF9QGZmZmZmXX9AZmZmZuZsgECamZmZGSuBQM3MzMxM6YFAAAAAAICngkAzMzMzs2WDQGZmZmbmI4RAmpmZmRnihEDNzMzMTKCFQAAAAACAXoZAMzMzM7Mch0BmZmZm5tqHQJqZmZkZmYhAzczMzExXiUAAAAAAgBWKQDMzMzOz04pAZmZmZuaRi0CamZmZGVCMQM3MzMxMDo1AAAAAAIDMjUAzMzMzs4qOQGZmZmbmSI9A\",\"dtype\":\"float64\",\"shape\":[75]}}},\"id\":\"3a307950-94b9-4599-8eeb-71bc3edfad18\",\"type\":\"ColumnDataSource\"},{\"attributes\":{\"callback\":null,\"column_names\":[\"x\",\"y\"],\"data\":{\"x\":{\"__ndarray__\":\"pBQZwtYRyD+8S1YDnHfLPzurw9nGwtI/r90LBrZO2D952q91iEPeP1AlHN21QuI/RC8nkRJ15T+6K2Cn/ZvoPwWVyHAClOs/8Ygjcm4x7j9hK7LnfCLwP8+CUN7H0fA/uoA8YMMY8T/YgXNGlJbwPzUjKCPTJu4/N0b81MJW6j9FetXzA9HmP9HEIiPz6uM/r2soc/ve4T/oxssF9OPgP6VZTZX3auE/oHF+Fo1t3z+cPJ/g5v3WP0IWWLbF69A/wudekpBpyj8DnFqNV+bEPyVh193ZKsA/4xl2ECK2uT8s23XZKYK2P9QMXRQz/rM/4zU9lcTzsD8jFn16dj2rP4ExvSWCNqg/4inc2fTzqD8KnPA7GyypP8++sARr/6g/s3e7aAyWqD9/111ch8OmP8dubGTBPqQ/Rqj2QjEUoj+ttI+MCtmfP2WYuvuBSps/+hAXKkYwlj+1OrrDhqSPPyyyVBnxXX0/YIedqRhucj/fCqVSk7CIP2Al3Z45TpY/m5DWGHRCnj+9ANBoeKGiP6PLm8O12qU/slGHKVLgqD+lLqwqGryrPwA3IzSWca4/TcQH6FGAsD/byEzUmLGxP6QKopVLyLI/Elccboq+sz/S4G/hZI60P6evSpZRNLU/FAvX/imwtT9tKwfENQi2P2PWapOzRbY/k1KEX+B1tj/ix0K73ae2P9bmjQBf67Y/n0/suhpNtz8YR7fufsa3Px9HxKvkF7g/M7GgAO+8tz9W2RQbNVe2P4qIRJysI7Q/yvYX/UWpsT/5+OzPMV+uP4l+crauCKk/\",\"dtype\":\"float64\",\"shape\":[75]},\"y\":{\"__ndarray__\":\"GhExyth1ND/Sv8nbtpRIP2vylNV0PVE/aTum7souWD/At0SJ8fVgPw3Iuahxymc/MSNhhJWvcD/bTfBN02d3P2zb5nxnaoA/CD5h5MAGhz8NmeH1TyaQP+zrCsc9p5Y/LbKd76fGnz/bLW5ISEmmPww9YvTcQq8/JV2OstnstT8Er5Y7M8G+P0c+r3jqkcU/5h99k6ZBzj88bCIzFzjVP4enV8oyxN0//yH99nXg5D8qOpLLf0jtP5kqGJXUifQ/c9cS8kHP/D+/DpwzojQEQIEmwoanVwxA4lgXt9HgE0BSSZ2AJuIbQAMJih9jjiNA5q4l5INuK0AwTKYKRj0zQNv5fmq8/DpAaCJseHrtQkB/+zpwzoxKQM3MzMzMeFJAZmZmZmZqWEAAAAAAAFxeQM3MzMzMJmJAmpmZmZkfZUBmZmZmZhhoQDMzMzMzEWtAAAAAAAAKbkBmZmZmZoFwQM3MzMzM/XFAMzMzMzN6c0CamZmZmfZ0QAAAAAAAc3ZAZmZmZmbvd0DNzMzMzGt5QDMzMzMz6HpAmpmZmZlkfEAAAAAAAOF9QGZmZmZmXX9AZmZmZuZsgECamZmZGSuBQM3MzMxM6YFAAAAAAICngkAzMzMzs2WDQGZmZmbmI4RAmpmZmRnihEDNzMzMTKCFQAAAAACAXoZAMzMzM7Mch0BmZmZm5tqHQJqZmZkZmYhAzczMzExXiUAAAAAAgBWKQDMzMzOz04pAZmZmZuaRi0CamZmZGVCMQM3MzMxMDo1AAAAAAIDMjUAzMzMzs4qOQGZmZmbmSI9A\",\"dtype\":\"float64\",\"shape\":[75]}}},\"id\":\"a8cfe3dd-9c8a-411d-81b2-77e552841c4d\",\"type\":\"ColumnDataSource\"},{\"attributes\":{\"data_source\":{\"id\":\"b36d584b-43ce-4d59-a35c-458755f79006\",\"type\":\"ColumnDataSource\"},\"glyph\":{\"id\":\"91474119-7ac9-400f-b633-9efdee9572cd\",\"type\":\"Circle\"},\"hover_glyph\":null,\"muted_glyph\":null,\"nonselection_glyph\":{\"id\":\"731b2c03-1bc5-405a-abe6-88f5d6380a06\",\"type\":\"Circle\"},\"selection_glyph\":null,\"view\":{\"id\":\"aab7912e-8de5-4c2b-b28a-d1d9e38f3e91\",\"type\":\"CDSView\"}},\"id\":\"67eaef52-1068-4ba7-8c90-822257640267\",\"type\":\"GlyphRenderer\"},{\"attributes\":{\"data_source\":{\"id\":\"2063411d-89ae-45da-864a-063231baed25\",\"type\":\"ColumnDataSource\"},\"glyph\":{\"id\":\"c5c51ec1-dfe5-48ca-bb16-7c5e7c355b49\",\"type\":\"Circle\"},\"hover_glyph\":null,\"muted_glyph\":null,\"nonselection_glyph\":{\"id\":\"a18702c9-20ed-4aa2-aaf1-857c31d58196\",\"type\":\"Circle\"},\"selection_glyph\":null,\"view\":{\"id\":\"27778dec-15df-4388-94b7-5b343c4fce0d\",\"type\":\"CDSView\"}},\"id\":\"68cbecf6-6044-4f79-8812-ac26e58e302c\",\"type\":\"GlyphRenderer\"},{\"attributes\":{\"line_alpha\":0.1,\"line_color\":\"#1f77b4\",\"line_width\":1.5,\"x\":{\"field\":\"x\"},\"y\":{\"field\":\"y\"}},\"id\":\"e495f40e-37c7-4663-a625-5db9cbd537a2\",\"type\":\"Line\"},{\"attributes\":{\"fill_alpha\":{\"value\":0.1},\"fill_color\":{\"value\":\"#1f77b4\"},\"line_alpha\":{\"value\":0.1},\"line_color\":{\"value\":\"#1f77b4\"},\"x\":{\"field\":\"x\"},\"y\":{\"field\":\"y\"}},\"id\":\"731b2c03-1bc5-405a-abe6-88f5d6380a06\",\"type\":\"Circle\"},{\"attributes\":{\"overlay\":{\"id\":\"f4a4aefb-1d07-459a-9a35-281f2c6430d0\",\"type\":\"BoxAnnotation\"}},\"id\":\"9d40cb9f-6c1d-4fdb-97aa-4a1d966f5b29\",\"type\":\"BoxZoomTool\"},{\"attributes\":{\"fill_alpha\":{\"value\":0.7},\"fill_color\":{\"value\":\"#4daf4a\"},\"line_alpha\":{\"value\":0.7},\"line_color\":{\"value\":\"#4daf4a\"},\"x\":{\"field\":\"x\"},\"y\":{\"field\":\"y\"}},\"id\":\"91474119-7ac9-400f-b633-9efdee9572cd\",\"type\":\"Circle\"},{\"attributes\":{\"callback\":null,\"column_names\":[\"x\",\"y\"],\"data\":{\"x\":{\"__ndarray__\":\"pBQZwtYRyD+8S1YDnHfLPzurw9nGwtI/r90LBrZO2D952q91iEPeP1AlHN21QuI/RC8nkRJ15T+6K2Cn/ZvoPwWVyHAClOs/8Ygjcm4x7j9hK7LnfCLwP8+CUN7H0fA/uoA8YMMY8T/YgXNGlJbwPzUjKCPTJu4/N0b81MJW6j9FetXzA9HmP9HEIiPz6uM/r2soc/ve4T/oxssF9OPgP6VZTZX3auE/oHF+Fo1t3z+cPJ/g5v3WP0IWWLbF69A/wudekpBpyj8DnFqNV+bEPyVh193ZKsA/4xl2ECK2uT8s23XZKYK2P9QMXRQz/rM/4zU9lcTzsD8jFn16dj2rP4ExvSWCNqg/4inc2fTzqD8KnPA7GyypP8++sARr/6g/s3e7aAyWqD9/111ch8OmP8dubGTBPqQ/Rqj2QjEUoj+ttI+MCtmfP2WYuvuBSps/+hAXKkYwlj+1OrrDhqSPPyyyVBnxXX0/YIedqRhucj/fCqVSk7CIP2Al3Z45TpY/m5DWGHRCnj+9ANBoeKGiP6PLm8O12qU/slGHKVLgqD+lLqwqGryrPwA3IzSWca4/TcQH6FGAsD/byEzUmLGxP6QKopVLyLI/Elccboq+sz/S4G/hZI60P6evSpZRNLU/FAvX/imwtT9tKwfENQi2P2PWapOzRbY/k1KEX+B1tj/ix0K73ae2P9bmjQBf67Y/n0/suhpNtz8YR7fufsa3Px9HxKvkF7g/M7GgAO+8tz9W2RQbNVe2P4qIRJysI7Q/yvYX/UWpsT/5+OzPMV+uP4l+crauCKk/\",\"dtype\":\"float64\",\"shape\":[75]},\"y\":{\"__ndarray__\":\"GhExyth1ND/Sv8nbtpRIP2vylNV0PVE/aTum7souWD/At0SJ8fVgPw3Iuahxymc/MSNhhJWvcD/bTfBN02d3P2zb5nxnaoA/CD5h5MAGhz8NmeH1TyaQP+zrCsc9p5Y/LbKd76fGnz/bLW5ISEmmPww9YvTcQq8/JV2OstnstT8Er5Y7M8G+P0c+r3jqkcU/5h99k6ZBzj88bCIzFzjVP4enV8oyxN0//yH99nXg5D8qOpLLf0jtP5kqGJXUifQ/c9cS8kHP/D+/DpwzojQEQIEmwoanVwxA4lgXt9HgE0BSSZ2AJuIbQAMJih9jjiNA5q4l5INuK0AwTKYKRj0zQNv5fmq8/DpAaCJseHrtQkB/+zpwzoxKQM3MzMzMeFJAZmZmZmZqWEAAAAAAAFxeQM3MzMzMJmJAmpmZmZkfZUBmZmZmZhhoQDMzMzMzEWtAAAAAAAAKbkBmZmZmZoFwQM3MzMzM/XFAMzMzMzN6c0CamZmZmfZ0QAAAAAAAc3ZAZmZmZmbvd0DNzMzMzGt5QDMzMzMz6HpAmpmZmZlkfEAAAAAAAOF9QGZmZmZmXX9AZmZmZuZsgECamZmZGSuBQM3MzMxM6YFAAAAAAICngkAzMzMzs2WDQGZmZmbmI4RAmpmZmRnihEDNzMzMTKCFQAAAAACAXoZAMzMzM7Mch0BmZmZm5tqHQJqZmZkZmYhAzczMzExXiUAAAAAAgBWKQDMzMzOz04pAZmZmZuaRi0CamZmZGVCMQM3MzMxMDo1AAAAAAIDMjUAzMzMzs4qOQGZmZmbmSI9A\",\"dtype\":\"float64\",\"shape\":[75]}}},\"id\":\"b36d584b-43ce-4d59-a35c-458755f79006\",\"type\":\"ColumnDataSource\"},{\"attributes\":{\"callback\":null,\"column_names\":[\"x\",\"y\"],\"data\":{\"x\":{\"__ndarray__\":\"ScK2LPxsvD/INwRcyljBPzVRGTnq7Mg/yOMvTvi80D/DoMhqJXrVP/WwYZfyq9o/msm7E4Ek4D+CZdeDah/jP6ZiIUJ1NuY/jo7trS9P6T85gcimhUDsPwMpTkHA0u4/rUeGwaFc8D8nSkIibYPwP5VPh/zQ+O4/G19iyag06z/70hVLFbXmP5htZZE/W+I/yw0rgTlf3j8Kbt4XG+PbP3OO8KyT6d0/5+tLmUjn3D9QWxsRKdnWPwz/jk2XqtE/UC1LCfvVyz9SjaiaavfFP3z3nvyjkME/sItoXLTXvT9NrACdUQy8PwdyNyWsz7k/UuzacdKatT+mNU9zxyKwP6y96im7Xqk/nd8oYNjtpz/479u/mzapP6tO7V2aWqw/ms+52/XSrT+DyBrcc+yrPzrfNvD2Yqg/ONMpNLURpT8/oV/avuehP67J9+X8r50/tftnY6sflz9+JYihcp+OPx2/eaqxL3Y/5hYn+M76YD/2aFFvq/iDP662rg0fVZQ/VXFzwjWLnD9aE4KK58KhPwYwwJnz56Q/w9VXEDDepz86WSPoU7qqP1bLPSc0fq0/Mbw+5SsQsD8rukTh8lmxP2qKw0NflLI/lMwXn/W1sz+KtVPOcrS0PxpDAyh7iLU/yMnMHssvtj/4zWxzPbO2P0Ak9f48Frc/wcz4cClktz/5GT/WUaq3PyOlVQRq97c/hlDTnvpWuD/ZOozXKce4P8XuVCNoCrk/kuGhvTSkuD94Xr2Ztzu3P5PnoYbUDLU/5r1VyneYsj9vgwqpAyKwP+ZKW2Gc7ao/\",\"dtype\":\"float64\",\"shape\":[75]},\"y\":{\"__ndarray__\":\"S/O/Q+51ND/Sv8nbtpRIP2vylNV0PVE/aTum7souWD/At0SJ8fVgPw3Iuahxymc/MSNhhJWvcD/bTfBN02d3P2zb5nxnaoA/CD5h5MAGhz8NmeH1TyaQP+zrCsc9p5Y/LbKd76fGnz/bLW5ISEmmPww9YvTcQq8/JV2OstnstT8Er5Y7M8G+P0c+r3jqkcU/5h99k6ZBzj88bCIzFzjVP4enV8oyxN0//yH99nXg5D8qOpLLf0jtP5kqGJXUifQ/c9cS8kHP/D+/DpwzojQEQIEmwoanVwxA4lgXt9HgE0BSSZ2AJuIbQAMJih9jjiNA5q4l5INuK0AwTKYKRj0zQNv5fmq8/DpAaCJseHrtQkB/+zpwzoxKQM3MzMzMeFJAZmZmZmZqWEAAAAAAAFxeQM3MzMzMJmJAmpmZmZkfZUBmZmZmZhhoQDMzMzMzEWtAAAAAAAAKbkBmZmZmZoFwQM3MzMzM/XFAMzMzMzN6c0CamZmZmfZ0QAAAAAAAc3ZAZmZmZmbvd0DNzMzMzGt5QDMzMzMz6HpAmpmZmZlkfEAAAAAAAOF9QGZmZmZmXX9AZmZmZuZsgECamZmZGSuBQM3MzMxM6YFAAAAAAICngkAzMzMzs2WDQGZmZmbmI4RAmpmZmRnihEDNzMzMTKCFQAAAAACAXoZAMzMzM7Mch0BmZmZm5tqHQJqZmZkZmYhAzczMzExXiUAAAAAAgBWKQDMzMzOz04pAZmZmZuaRi0CamZmZGVCMQM3MzMxMDo1AAAAAAIDMjUAzMzMzs4qOQGZmZmbmSI9A\",\"dtype\":\"float64\",\"shape\":[75]}}},\"id\":\"c8f0ccec-8865-4b98-b4a9-1eacafeda00e\",\"type\":\"ColumnDataSource\"},{\"attributes\":{\"below\":[{\"id\":\"1ef7a0f8-ad22-4aa8-9017-24bef0492df2\",\"type\":\"LinearAxis\"}],\"left\":[{\"id\":\"37d1cea6-ee63-4fe5-866f-1a7dd64e3c2c\",\"type\":\"LogAxis\"}],\"plot_height\":500,\"plot_width\":560,\"renderers\":[{\"id\":\"1ef7a0f8-ad22-4aa8-9017-24bef0492df2\",\"type\":\"LinearAxis\"},{\"id\":\"cc7c4251-7f82-48a9-be4b-a9ef4692c3d9\",\"type\":\"Grid\"},{\"id\":\"37d1cea6-ee63-4fe5-866f-1a7dd64e3c2c\",\"type\":\"LogAxis\"},{\"id\":\"1ac7a42c-170a-41c8-8ef1-3d1ff7b09f8e\",\"type\":\"Grid\"},{\"id\":\"8f43599b-668c-4eda-9180-621c346dd4ca\",\"type\":\"BoxAnnotation\"},{\"id\":\"b0b48d0c-f903-4e9c-8c2b-afca4808b8b7\",\"type\":\"GlyphRenderer\"},{\"id\":\"67eaef52-1068-4ba7-8c90-822257640267\",\"type\":\"GlyphRenderer\"},{\"id\":\"5fecfb78-33ac-49c9-a71c-1d288b28503d\",\"type\":\"GlyphRenderer\"},{\"id\":\"f6b2bcdd-16ee-480a-8497-140c97cd9ca6\",\"type\":\"GlyphRenderer\"},{\"id\":\"b2399523-e7ca-4670-98d9-5ae4326bf60c\",\"type\":\"GlyphRenderer\"},{\"id\":\"5f15c9fe-4f13-41b7-8020-f5218e95aff6\",\"type\":\"Legend\"}],\"right\":[{\"id\":\"5f15c9fe-4f13-41b7-8020-f5218e95aff6\",\"type\":\"Legend\"}],\"title\":{\"id\":\"e02f10f9-191e-4e04-9b54-97a17d1f5702\",\"type\":\"Title\"},\"toolbar\":{\"id\":\"ef66066c-8f72-4911-a30f-360250d44395\",\"type\":\"Toolbar\"},\"toolbar_location\":null,\"x_range\":{\"id\":\"f306e4d3-28f6-49fb-bd6c-2e116e38475b\",\"type\":\"Range1d\"},\"x_scale\":{\"id\":\"1b3f465f-b283-4f91-910a-b189c76926b6\",\"type\":\"LinearScale\"},\"y_range\":{\"id\":\"0f344d4b-242f-4cfa-9b75-3de2ad4e0b57\",\"type\":\"Range1d\"},\"y_scale\":{\"id\":\"c3b57489-a8cd-40e5-b71b-e803e41780b5\",\"type\":\"LogScale\"}},\"id\":\"98787572-f1f2-4922-b009-e5ad1f091f00\",\"subtype\":\"Figure\",\"type\":\"Plot\"},{\"attributes\":{},\"id\":\"af806c53-026c-45b0-9e7f-d273d40f7405\",\"type\":\"BasicTickFormatter\"},{\"attributes\":{\"source\":{\"id\":\"b36d584b-43ce-4d59-a35c-458755f79006\",\"type\":\"ColumnDataSource\"}},\"id\":\"aab7912e-8de5-4c2b-b28a-d1d9e38f3e91\",\"type\":\"CDSView\"},{\"attributes\":{\"fill_alpha\":{\"value\":0.1},\"fill_color\":{\"value\":\"#1f77b4\"},\"line_alpha\":{\"value\":0.1},\"line_color\":{\"value\":\"#1f77b4\"},\"x\":{\"field\":\"x\"},\"y\":{\"field\":\"y\"}},\"id\":\"a18702c9-20ed-4aa2-aaf1-857c31d58196\",\"type\":\"Circle\"},{\"attributes\":{\"source\":{\"id\":\"bde40dcd-a88c-4e1b-b364-f3ee9d414130\",\"type\":\"ColumnDataSource\"}},\"id\":\"33fa0acf-3067-423c-8d70-f64ba3d66bc3\",\"type\":\"CDSView\"},{\"attributes\":{\"line_color\":\"#4daf4a\",\"line_width\":1.5,\"x\":{\"field\":\"x\"},\"y\":{\"field\":\"y\"}},\"id\":\"fc4e020f-2ec8-4aff-8eea-8e16ac541bbc\",\"type\":\"Line\"},{\"attributes\":{\"callback\":null,\"column_names\":[\"x\",\"y\"],\"data\":{\"x\":{\"__ndarray__\":\"/kSBVkQ8xj/+fS1J8q3JP3GlM4UtW9E/Hir8e4Fl1j9eZqI3btfbP/mKBeEmz+A/hv7p30PU4z86RZ8LvuDmP0obAT4G3uk/eJrYZ6uf7D/eY3C4mP/uP8NrsEj2YvA/SlqQ1d/g8D+kmVFI2ZHwP/7dbhLSYe4/bHyWSC1x6j/RawDEKV7mP8rLoMGFv+I/yj46qZwt4D9v1yn02znePwbSrmnM3N8/cOJXmuj53T/FgUafRR3XP29sNnPGndE/EC9Nh7O0yz+akR8ENAfGP8Gt/UmMjsE/W+4emjCAvT+ush/KmDa7PxozvpIJ/7g/UkYLzTIqtT8+JIC1JEewP04/oM6Yv6o/I2WtcCg+qj9QqaLKeRWrPxQR5LiXJq0/U8ekWNxjrj80b/42gbmsP8qVSuyNgKk/N9zhmkBapj/4du6mZCejP2+Je+ZTw58/nRqyNvLCmD8vHEzBoIiQP1JT/f1/SXk/SCaBIUzCZT+kjUp2umSFP3Mq1j6RKpU/pK5Qfl5cnT8y+2ro+CuiP84dN/ySTaU/Ukw5zWExqD/h4Ozvf+yqP/7SzWXYh60/B6OMKZADsD8g9RHxLDWxPwiyj2o8TrI/QP299pFOsz8i4t6kEy20Pz6YhXNl5LQ/I9IO87ZytT8cM9mng961P/hyH/51LrY/uP34yhBvtj+RNnGvjq22P2kz2O3N+rY/f+c9peBltz/T9/cpsN+3P2Oohp1VNbg/DAp3eaDhtz9unQ9LAIi2P8Xh7eNHZbQ/vG7a7oz+sT/lwG/dgS2vP7h7FqIM9Kk/\",\"dtype\":\"float64\",\"shape\":[75]},\"y\":{\"__ndarray__\":\"GhExyth1ND/Sv8nbtpRIP2vylNV0PVE/aTum7souWD/At0SJ8fVgPw3Iuahxymc/MSNhhJWvcD/bTfBN02d3P2zb5nxnaoA/CD5h5MAGhz8NmeH1TyaQP+zrCsc9p5Y/LbKd76fGnz/bLW5ISEmmPww9YvTcQq8/JV2OstnstT8Er5Y7M8G+P0c+r3jqkcU/5h99k6ZBzj88bCIzFzjVP4enV8oyxN0//yH99nXg5D8qOpLLf0jtP5kqGJXUifQ/c9cS8kHP/D+/DpwzojQEQIEmwoanVwxA4lgXt9HgE0BSSZ2AJuIbQAMJih9jjiNA5q4l5INuK0AwTKYKRj0zQNv5fmq8/DpAaCJseHrtQkB/+zpwzoxKQM3MzMzMeFJAZmZmZmZqWEAAAAAAAFxeQM3MzMzMJmJAmpmZmZkfZUBmZmZmZhhoQDMzMzMzEWtAAAAAAAAKbkBmZmZmZoFwQM3MzMzM/XFAMzMzMzN6c0CamZmZmfZ0QAAAAAAAc3ZAZmZmZmbvd0DNzMzMzGt5QDMzMzMz6HpAmpmZmZlkfEAAAAAAAOF9QGZmZmZmXX9AZmZmZuZsgECamZmZGSuBQM3MzMxM6YFAAAAAAICngkAzMzMzs2WDQGZmZmbmI4RAmpmZmRnihEDNzMzMTKCFQAAAAACAXoZAMzMzM7Mch0BmZmZm5tqHQJqZmZkZmYhAzczMzExXiUAAAAAAgBWKQDMzMzOz04pAZmZmZuaRi0CamZmZGVCMQM3MzMxMDo1AAAAAAIDMjUAzMzMzs4qOQGZmZmbmSI9A\",\"dtype\":\"float64\",\"shape\":[75]}}},\"id\":\"422bded0-5243-4cf8-8cc9-5ded45daa568\",\"type\":\"ColumnDataSource\"},{\"attributes\":{\"data_source\":{\"id\":\"a8cfe3dd-9c8a-411d-81b2-77e552841c4d\",\"type\":\"ColumnDataSource\"},\"glyph\":{\"id\":\"fc4e020f-2ec8-4aff-8eea-8e16ac541bbc\",\"type\":\"Line\"},\"hover_glyph\":null,\"muted_glyph\":null,\"nonselection_glyph\":{\"id\":\"e495f40e-37c7-4663-a625-5db9cbd537a2\",\"type\":\"Line\"},\"selection_glyph\":null,\"view\":{\"id\":\"2ba9c26f-5b08-4b35-8593-dd6041bb50a4\",\"type\":\"CDSView\"}},\"id\":\"5fecfb78-33ac-49c9-a71c-1d288b28503d\",\"type\":\"GlyphRenderer\"},{\"attributes\":{\"source\":{\"id\":\"06c85849-4a95-479d-bbd3-b7c7ccfa6197\",\"type\":\"ColumnDataSource\"}},\"id\":\"eb24eb3b-5804-4f44-b652-d83b425430d5\",\"type\":\"CDSView\"},{\"attributes\":{\"source\":{\"id\":\"a8cfe3dd-9c8a-411d-81b2-77e552841c4d\",\"type\":\"ColumnDataSource\"}},\"id\":\"2ba9c26f-5b08-4b35-8593-dd6041bb50a4\",\"type\":\"CDSView\"},{\"attributes\":{\"fill_alpha\":{\"value\":0.7},\"fill_color\":{\"value\":\"#984ea3\"},\"line_alpha\":{\"value\":0.7},\"line_color\":{\"value\":\"#984ea3\"},\"x\":{\"field\":\"x\"},\"y\":{\"field\":\"y\"}},\"id\":\"f8fb26c9-c19d-4c1f-90d2-970a75c500c1\",\"type\":\"Square\"},{\"attributes\":{\"axis_label\":\"cooling rate [K/day]\",\"formatter\":{\"id\":\"c88787f9-fd15-489e-8960-694a5d23498c\",\"type\":\"BasicTickFormatter\"},\"plot\":{\"id\":\"8d9cac31-6b21-43c9-983c-b0f697f74796\",\"subtype\":\"Figure\",\"type\":\"Plot\"},\"ticker\":{\"id\":\"b1ee5b5e-7500-4e3b-a461-fe1707af67b7\",\"type\":\"BasicTicker\"}},\"id\":\"8b1a1b6e-a366-4b46-ada7-2ef070563a36\",\"type\":\"LinearAxis\"},{\"attributes\":{\"callback\":null,\"end\":1.07892014316,\"start\":0.02072694084},\"id\":\"f306e4d3-28f6-49fb-bd6c-2e116e38475b\",\"type\":\"Range1d\"},{\"attributes\":{},\"id\":\"e4d0c870-4186-4878-b14d-814a71ea6e12\",\"type\":\"PanTool\"},{\"attributes\":{\"line_alpha\":0.6,\"line_color\":\"#984ea3\",\"line_width\":3,\"x\":{\"field\":\"x\"},\"y\":{\"field\":\"y\"}},\"id\":\"ea55d9d8-5855-407b-a35d-ae6834ab531f\",\"type\":\"Line\"},{\"attributes\":{\"data_source\":{\"id\":\"bde40dcd-a88c-4e1b-b364-f3ee9d414130\",\"type\":\"ColumnDataSource\"},\"glyph\":{\"id\":\"5579b458-0af8-4b30-ab27-b3bba65993ca\",\"type\":\"Line\"},\"hover_glyph\":null,\"muted_glyph\":null,\"nonselection_glyph\":{\"id\":\"2d4118d7-3ca7-46c5-bc10-9364e064e02f\",\"type\":\"Line\"},\"selection_glyph\":null,\"view\":{\"id\":\"33fa0acf-3067-423c-8d70-f64ba3d66bc3\",\"type\":\"CDSView\"}},\"id\":\"b0b48d0c-f903-4e9c-8c2b-afca4808b8b7\",\"type\":\"GlyphRenderer\"},{\"attributes\":{\"source\":{\"id\":\"422bded0-5243-4cf8-8cc9-5ded45daa568\",\"type\":\"ColumnDataSource\"}},\"id\":\"58a9e562-c3c3-4ab1-b9e0-72be40cdc912\",\"type\":\"CDSView\"},{\"attributes\":{\"line_alpha\":0.6,\"line_color\":\"#984ea3\",\"line_width\":3,\"x\":{\"field\":\"x\"},\"y\":{\"field\":\"y\"}},\"id\":\"0c7b8c43-0cd0-43c6-9d41-178ea8cd4a6a\",\"type\":\"Line\"},{\"attributes\":{\"plot\":null,\"text\":\"Linear pressure scale\"},\"id\":\"0d45907a-ca50-4764-908a-a824cbab1ae5\",\"type\":\"Title\"},{\"attributes\":{\"fill_alpha\":{\"value\":0.1},\"fill_color\":{\"value\":\"#1f77b4\"},\"line_alpha\":{\"value\":0.1},\"line_color\":{\"value\":\"#1f77b4\"},\"x\":{\"field\":\"x\"},\"y\":{\"field\":\"y\"}},\"id\":\"1f09859e-fa04-46d4-99a8-64198a32dde3\",\"type\":\"Square\"},{\"attributes\":{\"data_source\":{\"id\":\"06c85849-4a95-479d-bbd3-b7c7ccfa6197\",\"type\":\"ColumnDataSource\"},\"glyph\":{\"id\":\"f8fb26c9-c19d-4c1f-90d2-970a75c500c1\",\"type\":\"Square\"},\"hover_glyph\":null,\"muted_glyph\":null,\"nonselection_glyph\":{\"id\":\"1f09859e-fa04-46d4-99a8-64198a32dde3\",\"type\":\"Square\"},\"selection_glyph\":null,\"view\":{\"id\":\"eb24eb3b-5804-4f44-b652-d83b425430d5\",\"type\":\"CDSView\"}},\"id\":\"f6b2bcdd-16ee-480a-8497-140c97cd9ca6\",\"type\":\"GlyphRenderer\"},{\"attributes\":{\"line_alpha\":0.1,\"line_color\":\"#1f77b4\",\"line_width\":3,\"x\":{\"field\":\"x\"},\"y\":{\"field\":\"y\"}},\"id\":\"0368ff46-f4df-4ad6-86be-956911b17ef9\",\"type\":\"Line\"},{\"attributes\":{\"items\":[{\"id\":\"51240a4d-c2cd-4754-b8e2-c874b7c6970c\",\"type\":\"LegendItem\"},{\"id\":\"397022ca-0dda-49c4-a665-e7468e9a4d78\",\"type\":\"LegendItem\"},{\"id\":\"3f3ba4d3-9aa7-49ec-9f86-91d44a4dc1ed\",\"type\":\"LegendItem\"}],\"label_text_font_size\":{\"value\":\"8pt\"},\"location\":[10,-30],\"plot\":{\"id\":\"98787572-f1f2-4922-b009-e5ad1f091f00\",\"subtype\":\"Figure\",\"type\":\"Plot\"}},\"id\":\"5f15c9fe-4f13-41b7-8020-f5218e95aff6\",\"type\":\"Legend\"},{\"attributes\":{\"axis_label\":\"pressure [mb]\",\"formatter\":{\"id\":\"72213157-eec3-431c-abc7-7ead2c0a7955\",\"type\":\"LogTickFormatter\"},\"plot\":{\"id\":\"98787572-f1f2-4922-b009-e5ad1f091f00\",\"subtype\":\"Figure\",\"type\":\"Plot\"},\"ticker\":{\"id\":\"d1d0d044-39be-405c-947e-519c1d5c26ac\",\"type\":\"LogTicker\"}},\"id\":\"37d1cea6-ee63-4fe5-866f-1a7dd64e3c2c\",\"type\":\"LogAxis\"},{\"attributes\":{\"dimension\":1,\"plot\":{\"id\":\"98787572-f1f2-4922-b009-e5ad1f091f00\",\"subtype\":\"Figure\",\"type\":\"Plot\"},\"ticker\":{\"id\":\"d1d0d044-39be-405c-947e-519c1d5c26ac\",\"type\":\"LogTicker\"}},\"id\":\"1ac7a42c-170a-41c8-8ef1-3d1ff7b09f8e\",\"type\":\"Grid\"},{\"attributes\":{\"source\":{\"id\":\"c8f0ccec-8865-4b98-b4a9-1eacafeda00e\",\"type\":\"ColumnDataSource\"}},\"id\":\"39e14303-33ae-4930-b0c6-f4290cf5aae7\",\"type\":\"CDSView\"},{\"attributes\":{\"children\":[{\"id\":\"8d9cac31-6b21-43c9-983c-b0f697f74796\",\"subtype\":\"Figure\",\"type\":\"Plot\"},{\"id\":\"98787572-f1f2-4922-b009-e5ad1f091f00\",\"subtype\":\"Figure\",\"type\":\"Plot\"}]},\"id\":\"5b5838bd-4802-4313-90eb-7a41c9c0a540\",\"type\":\"Row\"},{\"attributes\":{\"source\":{\"id\":\"3a307950-94b9-4599-8eeb-71bc3edfad18\",\"type\":\"ColumnDataSource\"}},\"id\":\"ce753361-e9b8-4a91-93bf-fdd2ca30e8fb\",\"type\":\"CDSView\"},{\"attributes\":{\"line_alpha\":0.1,\"line_color\":\"#1f77b4\",\"line_width\":3,\"x\":{\"field\":\"x\"},\"y\":{\"field\":\"y\"}},\"id\":\"6ed61c0b-8802-44f7-8f75-68aee3751145\",\"type\":\"Line\"},{\"attributes\":{\"data_source\":{\"id\":\"422bded0-5243-4cf8-8cc9-5ded45daa568\",\"type\":\"ColumnDataSource\"},\"glyph\":{\"id\":\"ea55d9d8-5855-407b-a35d-ae6834ab531f\",\"type\":\"Line\"},\"hover_glyph\":null,\"muted_glyph\":null,\"nonselection_glyph\":{\"id\":\"6ed61c0b-8802-44f7-8f75-68aee3751145\",\"type\":\"Line\"},\"selection_glyph\":null,\"view\":{\"id\":\"58a9e562-c3c3-4ab1-b9e0-72be40cdc912\",\"type\":\"CDSView\"}},\"id\":\"b2399523-e7ca-4670-98d9-5ae4326bf60c\",\"type\":\"GlyphRenderer\"},{\"attributes\":{},\"id\":\"ea85b13a-ea75-498f-9840-6068886d37e8\",\"type\":\"BasicTicker\"},{\"attributes\":{\"fill_alpha\":{\"value\":0.1},\"fill_color\":{\"value\":\"#1f77b4\"},\"line_alpha\":{\"value\":0.1},\"line_color\":{\"value\":\"#1f77b4\"},\"x\":{\"field\":\"x\"},\"y\":{\"field\":\"y\"}},\"id\":\"92d9e026-9664-420d-84b3-eff4d8336b78\",\"type\":\"Square\"},{\"attributes\":{},\"id\":\"7a6d9fdf-b216-4aa3-9d50-de659d97e253\",\"type\":\"LinearScale\"},{\"attributes\":{},\"id\":\"37dcf9e5-25ef-4c11-9adf-c9009259e72e\",\"type\":\"LinearScale\"},{\"attributes\":{\"tools\":[{\"id\":\"e4d0c870-4186-4878-b14d-814a71ea6e12\",\"type\":\"PanTool\"},{\"id\":\"37a9faf2-1c74-4121-8ea4-4fc6e56370ae\",\"type\":\"WheelZoomTool\"},{\"id\":\"9d40cb9f-6c1d-4fdb-97aa-4a1d966f5b29\",\"type\":\"BoxZoomTool\"},{\"id\":\"f72a6f43-e3f0-4861-a342-61d0e695e434\",\"type\":\"SaveTool\"},{\"id\":\"77270692-709c-4ced-a963-ae4d4115ac0c\",\"type\":\"ResetTool\"},{\"id\":\"3c9000e6-b0a5-4f29-a088-5e609cfc252d\",\"type\":\"HelpTool\"},{\"id\":\"75c69ca5-9e75-4734-b800-1b610279366b\",\"type\":\"PanTool\"},{\"id\":\"b7c38471-09e3-4406-b57d-6ee702d0891d\",\"type\":\"WheelZoomTool\"},{\"id\":\"d797e2a5-a2a4-46a6-9887-e0e72d4e2fe9\",\"type\":\"BoxZoomTool\"},{\"id\":\"c259bbbb-3184-49e1-a21c-29ea96e7d97a\",\"type\":\"SaveTool\"},{\"id\":\"e1e1d962-c17e-48cc-91f6-134befb84f03\",\"type\":\"ResetTool\"},{\"id\":\"881deebc-3a14-45cb-ab88-bbfba4ab15aa\",\"type\":\"HelpTool\"}]},\"id\":\"f8d36550-7a6b-4f2c-b838-3ed81251859c\",\"type\":\"ProxyToolbar\"},{\"attributes\":{\"plot\":{\"id\":\"8d9cac31-6b21-43c9-983c-b0f697f74796\",\"subtype\":\"Figure\",\"type\":\"Plot\"},\"ticker\":{\"id\":\"b1ee5b5e-7500-4e3b-a461-fe1707af67b7\",\"type\":\"BasicTicker\"}},\"id\":\"74bb96d1-5fb6-4239-a8d5-ee7865ca5a31\",\"type\":\"Grid\"},{\"attributes\":{},\"id\":\"c88787f9-fd15-489e-8960-694a5d23498c\",\"type\":\"BasicTickFormatter\"},{\"attributes\":{},\"id\":\"b1ee5b5e-7500-4e3b-a461-fe1707af67b7\",\"type\":\"BasicTicker\"},{\"attributes\":{\"fill_alpha\":{\"value\":0.7},\"fill_color\":{\"value\":\"#4daf4a\"},\"line_alpha\":{\"value\":0.7},\"line_color\":{\"value\":\"#4daf4a\"},\"x\":{\"field\":\"x\"},\"y\":{\"field\":\"y\"}},\"id\":\"c5c51ec1-dfe5-48ca-bb16-7c5e7c355b49\",\"type\":\"Circle\"},{\"attributes\":{\"children\":[{\"id\":\"6279c0f6-f80c-4624-9ab1-b0ebb42ebe55\",\"type\":\"ToolbarBox\"},{\"id\":\"f43f89d6-33b0-41d3-b9c3-02877155cae2\",\"type\":\"Column\"}]},\"id\":\"7aa769c4-b37a-4844-84c3-bc244a6ccc85\",\"type\":\"Column\"},{\"attributes\":{\"num_minor_ticks\":10},\"id\":\"d1d0d044-39be-405c-947e-519c1d5c26ac\",\"type\":\"LogTicker\"},{\"attributes\":{\"callback\":null,\"end\":0.098772468252,\"start\":0.001115296548},\"id\":\"173b9270-0772-4569-b299-1fffe8cd82c2\",\"type\":\"Range1d\"},{\"attributes\":{\"line_color\":\"#4daf4a\",\"line_width\":1.5,\"x\":{\"field\":\"x\"},\"y\":{\"field\":\"y\"}},\"id\":\"44436549-1a17-4761-8d6b-cd45314f0085\",\"type\":\"Line\"},{\"attributes\":{\"callback\":null,\"column_names\":[\"x\",\"y\"],\"data\":{\"x\":{\"__ndarray__\":\"pBQZwtYRyD+8S1YDnHfLPzurw9nGwtI/r90LBrZO2D952q91iEPeP1AlHN21QuI/RC8nkRJ15T+6K2Cn/ZvoPwWVyHAClOs/8Ygjcm4x7j9hK7LnfCLwP8+CUN7H0fA/uoA8YMMY8T/YgXNGlJbwPzUjKCPTJu4/N0b81MJW6j9FetXzA9HmP9HEIiPz6uM/r2soc/ve4T/oxssF9OPgP6VZTZX3auE/oHF+Fo1t3z+cPJ/g5v3WP0IWWLbF69A/wudekpBpyj8DnFqNV+bEPyVh193ZKsA/4xl2ECK2uT8s23XZKYK2P9QMXRQz/rM/4zU9lcTzsD8jFn16dj2rP4ExvSWCNqg/4inc2fTzqD8KnPA7GyypP8++sARr/6g/s3e7aAyWqD9/111ch8OmP8dubGTBPqQ/Rqj2QjEUoj+ttI+MCtmfP2WYuvuBSps/+hAXKkYwlj+1OrrDhqSPPyyyVBnxXX0/YIedqRhucj/fCqVSk7CIP2Al3Z45TpY/m5DWGHRCnj+9ANBoeKGiP6PLm8O12qU/slGHKVLgqD+lLqwqGryrPwA3IzSWca4/TcQH6FGAsD/byEzUmLGxP6QKopVLyLI/Elccboq+sz/S4G/hZI60P6evSpZRNLU/FAvX/imwtT9tKwfENQi2P2PWapOzRbY/k1KEX+B1tj/ix0K73ae2P9bmjQBf67Y/n0/suhpNtz8YR7fufsa3Px9HxKvkF7g/M7GgAO+8tz9W2RQbNVe2P4qIRJysI7Q/yvYX/UWpsT/5+OzPMV+uP4l+crauCKk/\",\"dtype\":\"float64\",\"shape\":[75]},\"y\":{\"__ndarray__\":\"GhExyth1ND/Sv8nbtpRIP2vylNV0PVE/aTum7souWD/At0SJ8fVgPw3Iuahxymc/MSNhhJWvcD/bTfBN02d3P2zb5nxnaoA/CD5h5MAGhz8NmeH1TyaQP+zrCsc9p5Y/LbKd76fGnz/bLW5ISEmmPww9YvTcQq8/JV2OstnstT8Er5Y7M8G+P0c+r3jqkcU/5h99k6ZBzj88bCIzFzjVP4enV8oyxN0//yH99nXg5D8qOpLLf0jtP5kqGJXUifQ/c9cS8kHP/D+/DpwzojQEQIEmwoanVwxA4lgXt9HgE0BSSZ2AJuIbQAMJih9jjiNA5q4l5INuK0AwTKYKRj0zQNv5fmq8/DpAaCJseHrtQkB/+zpwzoxKQM3MzMzMeFJAZmZmZmZqWEAAAAAAAFxeQM3MzMzMJmJAmpmZmZkfZUBmZmZmZhhoQDMzMzMzEWtAAAAAAAAKbkBmZmZmZoFwQM3MzMzM/XFAMzMzMzN6c0CamZmZmfZ0QAAAAAAAc3ZAZmZmZmbvd0DNzMzMzGt5QDMzMzMz6HpAmpmZmZlkfEAAAAAAAOF9QGZmZmZmXX9AZmZmZuZsgECamZmZGSuBQM3MzMxM6YFAAAAAAICngkAzMzMzs2WDQGZmZmbmI4RAmpmZmRnihEDNzMzMTKCFQAAAAACAXoZAMzMzM7Mch0BmZmZm5tqHQJqZmZkZmYhAzczMzExXiUAAAAAAgBWKQDMzMzOz04pAZmZmZuaRi0CamZmZGVCMQM3MzMxMDo1AAAAAAIDMjUAzMzMzs4qOQGZmZmbmSI9A\",\"dtype\":\"float64\",\"shape\":[75]}}},\"id\":\"5db124d9-8eeb-4a24-9438-3e0b8df51599\",\"type\":\"ColumnDataSource\"},{\"attributes\":{\"line_alpha\":0.1,\"line_color\":\"#1f77b4\",\"line_width\":1.5,\"x\":{\"field\":\"x\"},\"y\":{\"field\":\"y\"}},\"id\":\"0eb73d66-2bc9-4cba-bd79-dd54852937cd\",\"type\":\"Line\"},{\"attributes\":{},\"id\":\"f72a6f43-e3f0-4861-a342-61d0e695e434\",\"type\":\"SaveTool\"},{\"attributes\":{\"data_source\":{\"id\":\"5db124d9-8eeb-4a24-9438-3e0b8df51599\",\"type\":\"ColumnDataSource\"},\"glyph\":{\"id\":\"44436549-1a17-4761-8d6b-cd45314f0085\",\"type\":\"Line\"},\"hover_glyph\":null,\"muted_glyph\":null,\"nonselection_glyph\":{\"id\":\"0eb73d66-2bc9-4cba-bd79-dd54852937cd\",\"type\":\"Line\"},\"selection_glyph\":null,\"view\":{\"id\":\"96728e98-6342-41b4-b8ee-d9c29356bff3\",\"type\":\"CDSView\"}},\"id\":\"cb4e4166-6387-4032-95d7-8731f9514f80\",\"type\":\"GlyphRenderer\"},{\"attributes\":{\"active_drag\":\"auto\",\"active_inspect\":\"auto\",\"active_scroll\":\"auto\",\"active_tap\":\"auto\",\"tools\":[{\"id\":\"75c69ca5-9e75-4734-b800-1b610279366b\",\"type\":\"PanTool\"},{\"id\":\"b7c38471-09e3-4406-b57d-6ee702d0891d\",\"type\":\"WheelZoomTool\"},{\"id\":\"d797e2a5-a2a4-46a6-9887-e0e72d4e2fe9\",\"type\":\"BoxZoomTool\"},{\"id\":\"c259bbbb-3184-49e1-a21c-29ea96e7d97a\",\"type\":\"SaveTool\"},{\"id\":\"e1e1d962-c17e-48cc-91f6-134befb84f03\",\"type\":\"ResetTool\"},{\"id\":\"881deebc-3a14-45cb-ab88-bbfba4ab15aa\",\"type\":\"HelpTool\"}]},\"id\":\"ef66066c-8f72-4911-a30f-360250d44395\",\"type\":\"Toolbar\"},{\"attributes\":{},\"id\":\"77270692-709c-4ced-a963-ae4d4115ac0c\",\"type\":\"ResetTool\"},{\"attributes\":{\"data_source\":{\"id\":\"09de212c-8cf1-4d50-9711-a89593152c77\",\"type\":\"ColumnDataSource\"},\"glyph\":{\"id\":\"a60db2cf-ea62-4c8c-bf4a-cacb9bd01afe\",\"type\":\"Square\"},\"hover_glyph\":null,\"muted_glyph\":null,\"nonselection_glyph\":{\"id\":\"92d9e026-9664-420d-84b3-eff4d8336b78\",\"type\":\"Square\"},\"selection_glyph\":null,\"view\":{\"id\":\"5e83239f-8f73-4977-b745-b4dc0a0b7f8e\",\"type\":\"CDSView\"}},\"id\":\"3f2e325e-2883-4ce1-b4ff-cf79fc617013\",\"type\":\"GlyphRenderer\"},{\"attributes\":{\"axis_label\":\"pressure [mb]\",\"formatter\":{\"id\":\"5844fdc7-9887-4ff8-a028-e2934c95236f\",\"type\":\"BasicTickFormatter\"},\"plot\":{\"id\":\"8d9cac31-6b21-43c9-983c-b0f697f74796\",\"subtype\":\"Figure\",\"type\":\"Plot\"},\"ticker\":{\"id\":\"ea85b13a-ea75-498f-9840-6068886d37e8\",\"type\":\"BasicTicker\"}},\"id\":\"28098f28-48f2-4eae-868d-890e9ea226c9\",\"type\":\"LinearAxis\"},{\"attributes\":{\"callback\":null,\"column_names\":[\"x\",\"y\"],\"data\":{\"x\":{\"__ndarray__\":\"/kSBVkQ8xj/+fS1J8q3JP3GlM4UtW9E/Hir8e4Fl1j9eZqI3btfbP/mKBeEmz+A/hv7p30PU4z86RZ8LvuDmP0obAT4G3uk/eJrYZ6uf7D/eY3C4mP/uP8NrsEj2YvA/SlqQ1d/g8D+kmVFI2ZHwP/7dbhLSYe4/bHyWSC1x6j/RawDEKV7mP8rLoMGFv+I/yj46qZwt4D9v1yn02znePwbSrmnM3N8/cOJXmuj53T/FgUafRR3XP29sNnPGndE/EC9Nh7O0yz+akR8ENAfGP8Gt/UmMjsE/W+4emjCAvT+ush/KmDa7PxozvpIJ/7g/UkYLzTIqtT8+JIC1JEewP04/oM6Yv6o/I2WtcCg+qj9QqaLKeRWrPxQR5LiXJq0/U8ekWNxjrj80b/42gbmsP8qVSuyNgKk/N9zhmkBapj/4du6mZCejP2+Je+ZTw58/nRqyNvLCmD8vHEzBoIiQP1JT/f1/SXk/SCaBIUzCZT+kjUp2umSFP3Mq1j6RKpU/pK5Qfl5cnT8y+2ro+CuiP84dN/ySTaU/Ukw5zWExqD/h4Ozvf+yqP/7SzWXYh60/B6OMKZADsD8g9RHxLDWxPwiyj2o8TrI/QP299pFOsz8i4t6kEy20Pz6YhXNl5LQ/I9IO87ZytT8cM9mng961P/hyH/51LrY/uP34yhBvtj+RNnGvjq22P2kz2O3N+rY/f+c9peBltz/T9/cpsN+3P2Oohp1VNbg/DAp3eaDhtz9unQ9LAIi2P8Xh7eNHZbQ/vG7a7oz+sT/lwG/dgS2vP7h7FqIM9Kk/\",\"dtype\":\"float64\",\"shape\":[75]},\"y\":{\"__ndarray__\":\"GhExyth1ND/Sv8nbtpRIP2vylNV0PVE/aTum7souWD/At0SJ8fVgPw3Iuahxymc/MSNhhJWvcD/bTfBN02d3P2zb5nxnaoA/CD5h5MAGhz8NmeH1TyaQP+zrCsc9p5Y/LbKd76fGnz/bLW5ISEmmPww9YvTcQq8/JV2OstnstT8Er5Y7M8G+P0c+r3jqkcU/5h99k6ZBzj88bCIzFzjVP4enV8oyxN0//yH99nXg5D8qOpLLf0jtP5kqGJXUifQ/c9cS8kHP/D+/DpwzojQEQIEmwoanVwxA4lgXt9HgE0BSSZ2AJuIbQAMJih9jjiNA5q4l5INuK0AwTKYKRj0zQNv5fmq8/DpAaCJseHrtQkB/+zpwzoxKQM3MzMzMeFJAZmZmZmZqWEAAAAAAAFxeQM3MzMzMJmJAmpmZmZkfZUBmZmZmZhhoQDMzMzMzEWtAAAAAAAAKbkBmZmZmZoFwQM3MzMzM/XFAMzMzMzN6c0CamZmZmfZ0QAAAAAAAc3ZAZmZmZmbvd0DNzMzMzGt5QDMzMzMz6HpAmpmZmZlkfEAAAAAAAOF9QGZmZmZmXX9AZmZmZuZsgECamZmZGSuBQM3MzMxM6YFAAAAAAICngkAzMzMzs2WDQGZmZmbmI4RAmpmZmRnihEDNzMzMTKCFQAAAAACAXoZAMzMzM7Mch0BmZmZm5tqHQJqZmZkZmYhAzczMzExXiUAAAAAAgBWKQDMzMzOz04pAZmZmZuaRi0CamZmZGVCMQM3MzMxMDo1AAAAAAIDMjUAzMzMzs4qOQGZmZmbmSI9A\",\"dtype\":\"float64\",\"shape\":[75]}}},\"id\":\"09de212c-8cf1-4d50-9711-a89593152c77\",\"type\":\"ColumnDataSource\"},{\"attributes\":{\"ticker\":null},\"id\":\"72213157-eec3-431c-abc7-7ead2c0a7955\",\"type\":\"LogTickFormatter\"},{\"attributes\":{},\"id\":\"1b3f465f-b283-4f91-910a-b189c76926b6\",\"type\":\"LinearScale\"},{\"attributes\":{\"bottom_units\":\"screen\",\"fill_alpha\":{\"value\":0.5},\"fill_color\":{\"value\":\"lightgrey\"},\"left_units\":\"screen\",\"level\":\"overlay\",\"line_alpha\":{\"value\":1.0},\"line_color\":{\"value\":\"black\"},\"line_dash\":[4,4],\"line_width\":{\"value\":2},\"plot\":null,\"render_mode\":\"css\",\"right_units\":\"screen\",\"top_units\":\"screen\"},\"id\":\"f4a4aefb-1d07-459a-9a35-281f2c6430d0\",\"type\":\"BoxAnnotation\"},{\"attributes\":{\"source\":{\"id\":\"5db124d9-8eeb-4a24-9438-3e0b8df51599\",\"type\":\"ColumnDataSource\"}},\"id\":\"96728e98-6342-41b4-b8ee-d9c29356bff3\",\"type\":\"CDSView\"},{\"attributes\":{},\"id\":\"37a9faf2-1c74-4121-8ea4-4fc6e56370ae\",\"type\":\"WheelZoomTool\"},{\"attributes\":{\"source\":{\"id\":\"09de212c-8cf1-4d50-9711-a89593152c77\",\"type\":\"ColumnDataSource\"}},\"id\":\"5e83239f-8f73-4977-b745-b4dc0a0b7f8e\",\"type\":\"CDSView\"},{\"attributes\":{\"fill_alpha\":{\"value\":0.7},\"fill_color\":{\"value\":\"#984ea3\"},\"line_alpha\":{\"value\":0.7},\"line_color\":{\"value\":\"#984ea3\"},\"x\":{\"field\":\"x\"},\"y\":{\"field\":\"y\"}},\"id\":\"a60db2cf-ea62-4c8c-bf4a-cacb9bd01afe\",\"type\":\"Square\"},{\"attributes\":{},\"id\":\"c8469e94-dc75-4053-bebe-bcfcd81e0dfe\",\"type\":\"BasicTicker\"},{\"attributes\":{\"dimension\":1,\"plot\":{\"id\":\"8d9cac31-6b21-43c9-983c-b0f697f74796\",\"subtype\":\"Figure\",\"type\":\"Plot\"},\"ticker\":{\"id\":\"ea85b13a-ea75-498f-9840-6068886d37e8\",\"type\":\"BasicTicker\"}},\"id\":\"db8b6107-192a-40cb-8d72-8fb4ee14732d\",\"type\":\"Grid\"},{\"attributes\":{\"plot\":null,\"text\":\"Log pressure scale\"},\"id\":\"e02f10f9-191e-4e04-9b54-97a17d1f5702\",\"type\":\"Title\"}],\"root_ids\":[\"7aa769c4-b37a-4844-84c3-bc244a6ccc85\"]},\"title\":\"Bokeh Application\",\"version\":\"0.12.14\"}};\n",
       "  var render_items = [{\"docid\":\"6d281822-1357-41d7-a9c6-f7f7d94f0776\",\"elementid\":\"9a23eb53-ff08-4079-8235-22a519fc850c\",\"modelid\":\"7aa769c4-b37a-4844-84c3-bc244a6ccc85\"}];\n",
       "  root.Bokeh.embed.embed_items_notebook(docs_json, render_items);\n",
       "\n",
       "  }\n",
       "  if (root.Bokeh !== undefined) {\n",
       "    embed_document(root);\n",
       "  } else {\n",
       "    var attempts = 0;\n",
       "    var timer = setInterval(function(root) {\n",
       "      if (root.Bokeh !== undefined) {\n",
       "        embed_document(root);\n",
       "        clearInterval(timer);\n",
       "      }\n",
       "      attempts++;\n",
       "      if (attempts > 100) {\n",
       "        console.log(\"Bokeh: ERROR: Unable to run BokehJS code because BokehJS library is missing\")\n",
       "        clearInterval(timer);\n",
       "      }\n",
       "    }, 10, root)\n",
       "  }\n",
       "})(window);"
      ],
      "application/vnd.bokehjs_exec.v0+json": ""
     },
     "metadata": {
      "application/vnd.bokehjs_exec.v0+json": {
       "id": "7aa769c4-b37a-4844-84c3-bc244a6ccc85"
      }
     },
     "output_type": "display_data"
    },
    {
     "name": "stdout",
     "output_type": "stream",
     "text": [
      "FIGURE. Cooling rate profiles.\n"
     ]
    },
    {
     "data": {
      "text/html": [
       "<a id=\"Flux_Comparison\"></a>"
      ],
      "text/plain": [
       "<IPython.core.display.HTML object>"
      ]
     },
     "metadata": {},
     "output_type": "display_data"
    },
    {
     "data": {
      "text/markdown": [
       "# Flux Comparison"
      ],
      "text/plain": [
       "<IPython.core.display.Markdown object>"
      ]
     },
     "metadata": {},
     "output_type": "display_data"
    },
    {
     "data": {
      "text/html": [
       "<div>\n",
       "<style>\n",
       "    .dataframe thead tr:only-child th {\n",
       "        text-align: right;\n",
       "    }\n",
       "\n",
       "    .dataframe thead th {\n",
       "        text-align: left;\n",
       "    }\n",
       "\n",
       "    .dataframe tbody tr th {\n",
       "        vertical-align: top;\n",
       "    }\n",
       "</style>\n",
       "<table border=\"1\" class=\"dataframe\">\n",
       "  <thead>\n",
       "    <tr style=\"text-align: right;\">\n",
       "      <th></th>\n",
       "      <th></th>\n",
       "      <th>flug</th>\n",
       "      <th>fldg</th>\n",
       "      <th>fnetg</th>\n",
       "    </tr>\n",
       "    <tr>\n",
       "      <th>pressure</th>\n",
       "      <th>level</th>\n",
       "      <th></th>\n",
       "      <th></th>\n",
       "      <th></th>\n",
       "    </tr>\n",
       "  </thead>\n",
       "  <tbody>\n",
       "    <tr>\n",
       "      <th>0.0000</th>\n",
       "      <th>1</th>\n",
       "      <td>-20.792207</td>\n",
       "      <td>0.000000</td>\n",
       "      <td>-20.792207</td>\n",
       "    </tr>\n",
       "    <tr>\n",
       "      <th>1.0685</th>\n",
       "      <th>24</th>\n",
       "      <td>-20.781148</td>\n",
       "      <td>0.052385</td>\n",
       "      <td>-20.728763</td>\n",
       "    </tr>\n",
       "    <tr>\n",
       "      <th>1013.0000</th>\n",
       "      <th>76</th>\n",
       "      <td>-23.591138</td>\n",
       "      <td>10.000005</td>\n",
       "      <td>-13.591133</td>\n",
       "    </tr>\n",
       "  </tbody>\n",
       "</table>\n",
       "</div>"
      ],
      "text/plain": [
       "                      flug       fldg      fnetg\n",
       "pressure  level                                 \n",
       "0.0000    1     -20.792207   0.000000 -20.792207\n",
       "1.0685    24    -20.781148   0.052385 -20.728763\n",
       "1013.0000 76    -23.591138  10.000005 -13.591133"
      ]
     },
     "metadata": {},
     "output_type": "display_data"
    },
    {
     "name": "stdout",
     "output_type": "stream",
     "text": [
      "Table. Fluxes. WGT igg=10 wgt_flux=1\n"
     ]
    },
    {
     "data": {
      "text/html": [
       "<div>\n",
       "<style>\n",
       "    .dataframe thead tr:only-child th {\n",
       "        text-align: right;\n",
       "    }\n",
       "\n",
       "    .dataframe thead th {\n",
       "        text-align: left;\n",
       "    }\n",
       "\n",
       "    .dataframe tbody tr th {\n",
       "        vertical-align: top;\n",
       "    }\n",
       "</style>\n",
       "<table border=\"1\" class=\"dataframe\">\n",
       "  <thead>\n",
       "    <tr style=\"text-align: right;\">\n",
       "      <th></th>\n",
       "      <th></th>\n",
       "      <th>flug</th>\n",
       "      <th>fldg</th>\n",
       "      <th>fnetg</th>\n",
       "    </tr>\n",
       "    <tr>\n",
       "      <th>pressure</th>\n",
       "      <th>level</th>\n",
       "      <th></th>\n",
       "      <th></th>\n",
       "      <th></th>\n",
       "    </tr>\n",
       "  </thead>\n",
       "  <tbody>\n",
       "    <tr>\n",
       "      <th>0.0000</th>\n",
       "      <th>1</th>\n",
       "      <td>-20.835452</td>\n",
       "      <td>0.000000</td>\n",
       "      <td>-20.835452</td>\n",
       "    </tr>\n",
       "    <tr>\n",
       "      <th>1.0685</th>\n",
       "      <th>24</th>\n",
       "      <td>-20.824449</td>\n",
       "      <td>0.055467</td>\n",
       "      <td>-20.768981</td>\n",
       "    </tr>\n",
       "    <tr>\n",
       "      <th>1013.0000</th>\n",
       "      <th>76</th>\n",
       "      <td>-23.591138</td>\n",
       "      <td>9.774630</td>\n",
       "      <td>-13.816508</td>\n",
       "    </tr>\n",
       "  </tbody>\n",
       "</table>\n",
       "</div>"
      ],
      "text/plain": [
       "                      flug      fldg      fnetg\n",
       "pressure  level                                \n",
       "0.0000    1     -20.835452  0.000000 -20.835452\n",
       "1.0685    24    -20.824449  0.055467 -20.768981\n",
       "1013.0000 76    -23.591138  9.774630 -13.816508"
      ]
     },
     "metadata": {},
     "output_type": "display_data"
    },
    {
     "name": "stdout",
     "output_type": "stream",
     "text": [
      "Table. Fluxes. CRD\n"
     ]
    },
    {
     "data": {
      "text/html": [
       "<div>\n",
       "<style>\n",
       "    .dataframe thead tr:only-child th {\n",
       "        text-align: right;\n",
       "    }\n",
       "\n",
       "    .dataframe thead th {\n",
       "        text-align: left;\n",
       "    }\n",
       "\n",
       "    .dataframe tbody tr th {\n",
       "        vertical-align: top;\n",
       "    }\n",
       "</style>\n",
       "<table border=\"1\" class=\"dataframe\">\n",
       "  <thead>\n",
       "    <tr style=\"text-align: right;\">\n",
       "      <th></th>\n",
       "      <th></th>\n",
       "      <th>flug</th>\n",
       "      <th>fldg</th>\n",
       "      <th>fnetg</th>\n",
       "    </tr>\n",
       "    <tr>\n",
       "      <th>pressure</th>\n",
       "      <th>level</th>\n",
       "      <th></th>\n",
       "      <th></th>\n",
       "      <th></th>\n",
       "    </tr>\n",
       "  </thead>\n",
       "  <tbody>\n",
       "    <tr>\n",
       "      <th>1.000000e-08</th>\n",
       "      <th>1</th>\n",
       "      <td>-20.853089</td>\n",
       "      <td>0.000002</td>\n",
       "      <td>-20.853087</td>\n",
       "    </tr>\n",
       "    <tr>\n",
       "      <th>1.068500e+00</th>\n",
       "      <th>24</th>\n",
       "      <td>-20.842195</td>\n",
       "      <td>0.050416</td>\n",
       "      <td>-20.791779</td>\n",
       "    </tr>\n",
       "    <tr>\n",
       "      <th>1.013000e+03</th>\n",
       "      <th>76</th>\n",
       "      <td>-23.591140</td>\n",
       "      <td>10.012655</td>\n",
       "      <td>-13.578485</td>\n",
       "    </tr>\n",
       "  </tbody>\n",
       "</table>\n",
       "</div>"
      ],
      "text/plain": [
       "                         flug       fldg      fnetg\n",
       "pressure     level                                 \n",
       "1.000000e-08 1     -20.853089   0.000002 -20.853087\n",
       "1.068500e+00 24    -20.842195   0.050416 -20.791779\n",
       "1.013000e+03 76    -23.591140  10.012655 -13.578485"
      ]
     },
     "metadata": {},
     "output_type": "display_data"
    },
    {
     "name": "stdout",
     "output_type": "stream",
     "text": [
      "Table. Fluxes. CLIRAD\n"
     ]
    },
    {
     "data": {
      "text/html": [
       "<div>\n",
       "<style>\n",
       "    .dataframe thead tr:only-child th {\n",
       "        text-align: right;\n",
       "    }\n",
       "\n",
       "    .dataframe thead th {\n",
       "        text-align: left;\n",
       "    }\n",
       "\n",
       "    .dataframe tbody tr th {\n",
       "        vertical-align: top;\n",
       "    }\n",
       "</style>\n",
       "<table border=\"1\" class=\"dataframe\">\n",
       "  <thead>\n",
       "    <tr style=\"text-align: right;\">\n",
       "      <th></th>\n",
       "      <th></th>\n",
       "      <th>flug</th>\n",
       "      <th>fldg</th>\n",
       "      <th>fnetg</th>\n",
       "    </tr>\n",
       "    <tr>\n",
       "      <th>pressure</th>\n",
       "      <th>level</th>\n",
       "      <th></th>\n",
       "      <th></th>\n",
       "      <th></th>\n",
       "    </tr>\n",
       "  </thead>\n",
       "  <tbody>\n",
       "    <tr>\n",
       "      <th>0.0000</th>\n",
       "      <th>1</th>\n",
       "      <td>-4.324483e-02</td>\n",
       "      <td>0.000000</td>\n",
       "      <td>-0.043245</td>\n",
       "    </tr>\n",
       "    <tr>\n",
       "      <th>1.0685</th>\n",
       "      <th>24</th>\n",
       "      <td>-4.330092e-02</td>\n",
       "      <td>0.003082</td>\n",
       "      <td>-0.040218</td>\n",
       "    </tr>\n",
       "    <tr>\n",
       "      <th>1013.0000</th>\n",
       "      <th>76</th>\n",
       "      <td>-1.520000e-07</td>\n",
       "      <td>-0.225375</td>\n",
       "      <td>-0.225375</td>\n",
       "    </tr>\n",
       "  </tbody>\n",
       "</table>\n",
       "</div>"
      ],
      "text/plain": [
       "                         flug      fldg     fnetg\n",
       "pressure  level                                  \n",
       "0.0000    1     -4.324483e-02  0.000000 -0.043245\n",
       "1.0685    24    -4.330092e-02  0.003082 -0.040218\n",
       "1013.0000 76    -1.520000e-07 -0.225375 -0.225375"
      ]
     },
     "metadata": {},
     "output_type": "display_data"
    },
    {
     "name": "stdout",
     "output_type": "stream",
     "text": [
      "Table. Fluxes. (CRD) - (WGT igg=10 wgt_flux=1)\n"
     ]
    },
    {
     "data": {
      "text/html": [
       "<div>\n",
       "<style>\n",
       "    .dataframe thead tr:only-child th {\n",
       "        text-align: right;\n",
       "    }\n",
       "\n",
       "    .dataframe thead th {\n",
       "        text-align: left;\n",
       "    }\n",
       "\n",
       "    .dataframe tbody tr th {\n",
       "        vertical-align: top;\n",
       "    }\n",
       "</style>\n",
       "<table border=\"1\" class=\"dataframe\">\n",
       "  <thead>\n",
       "    <tr style=\"text-align: right;\">\n",
       "      <th></th>\n",
       "      <th></th>\n",
       "      <th>flug</th>\n",
       "      <th>fldg</th>\n",
       "      <th>fnetg</th>\n",
       "    </tr>\n",
       "    <tr>\n",
       "      <th>pressure</th>\n",
       "      <th>level</th>\n",
       "      <th></th>\n",
       "      <th></th>\n",
       "      <th></th>\n",
       "    </tr>\n",
       "  </thead>\n",
       "  <tbody>\n",
       "    <tr>\n",
       "      <th>0.0000</th>\n",
       "      <th>1</th>\n",
       "      <td>-0.060882</td>\n",
       "      <td>0.000002</td>\n",
       "      <td>-0.060880</td>\n",
       "    </tr>\n",
       "    <tr>\n",
       "      <th>1.0685</th>\n",
       "      <th>24</th>\n",
       "      <td>-0.061047</td>\n",
       "      <td>-0.001969</td>\n",
       "      <td>-0.063016</td>\n",
       "    </tr>\n",
       "    <tr>\n",
       "      <th>1013.0000</th>\n",
       "      <th>76</th>\n",
       "      <td>-0.000002</td>\n",
       "      <td>0.012650</td>\n",
       "      <td>0.012648</td>\n",
       "    </tr>\n",
       "  </tbody>\n",
       "</table>\n",
       "</div>"
      ],
      "text/plain": [
       "                     flug      fldg     fnetg\n",
       "pressure  level                              \n",
       "0.0000    1     -0.060882  0.000002 -0.060880\n",
       "1.0685    24    -0.061047 -0.001969 -0.063016\n",
       "1013.0000 76    -0.000002  0.012650  0.012648"
      ]
     },
     "metadata": {},
     "output_type": "display_data"
    },
    {
     "name": "stdout",
     "output_type": "stream",
     "text": [
      "Table. Fluxes. (CLIRAD) - (WGT igg=10 wgt_flux=1)\n"
     ]
    },
    {
     "data": {
      "text/html": [
       "<a id=\"Best-fit_Parameters\"></a>"
      ],
      "text/plain": [
       "<IPython.core.display.HTML object>"
      ]
     },
     "metadata": {},
     "output_type": "display_data"
    },
    {
     "data": {
      "text/markdown": [
       "# Best-fit Parameters"
      ],
      "text/plain": [
       "<IPython.core.display.Markdown object>"
      ]
     },
     "metadata": {},
     "output_type": "display_data"
    },
    {
     "name": "stdout",
     "output_type": "stream",
     "text": [
      "Best-fit values for each (gas, band)\n",
      "------------------------------------\n",
      "o co2 band3a\n",
      "  atmpro = mls\n",
      "  band = 3a\n",
      "  commitnumber = a06b618\n",
      "  conc = 0.0004\n",
      "  dv = 0.001\n",
      "  klin = 6.375563e-24\n",
      "  molecule = co2\n",
      "  ng_adju = [0, 0, 0]\n",
      "  ng_refs = [3, 2, 4]\n",
      "  nv = 1000\n",
      "  option_compute_btable = 0\n",
      "  option_compute_ktable = 1\n",
      "  option_wgt_flux = 1\n",
      "  option_wgt_k = 1\n",
      "  ref_pts = [(1, 250), (10, 250), (500, 250)]\n",
      "  tsfc = 294\n",
      "  vmax = 620\n",
      "  vmin = 540\n",
      "  w_diffuse = [(1.6, 1.6, 1.7), (1.75, 1.75), (1.55, 1.55, 1.6, 1.85)]\n",
      "  wgt = [(0.7, 0.3, 0.7), (0.7, 0.6), (0.4, 0.5, 0.8, 0.95)]\n"
     ]
    }
   ],
   "source": [
    "script()"
   ]
  },
  {
   "cell_type": "code",
   "execution_count": 13,
   "metadata": {
    "collapsed": true
   },
   "outputs": [
    {
     "data": {
      "text/html": [
       "<script>\n",
       "code_show=true; \n",
       "function code_toggle() {\n",
       " if (code_show){\n",
       " $('div.input').hide();\n",
       " } else {\n",
       " $('div.input').show();\n",
       " }\n",
       " code_show = !code_show\n",
       "} \n",
       "$( document ).ready(code_toggle);\n",
       "</script>\n",
       "<form action=\"javascript:code_toggle()\"><input type=\"submit\" value=\"Click here to toggle on/off the raw code.\"></form>"
      ],
      "text/plain": [
       "<IPython.core.display.HTML object>"
      ]
     },
     "execution_count": 13,
     "metadata": {},
     "output_type": "execute_result"
    }
   ],
   "source": [
    "display.HTML('''<script>\n",
    "code_show=true; \n",
    "function code_toggle() {\n",
    " if (code_show){\n",
    " $('div.input').hide();\n",
    " } else {\n",
    " $('div.input').show();\n",
    " }\n",
    " code_show = !code_show\n",
    "} \n",
    "$( document ).ready(code_toggle);\n",
    "</script>\n",
    "<form action=\"javascript:code_toggle()\"><input type=\"submit\" value=\"Click here to toggle on/off the raw code.\"></form>''')"
   ]
  }
 ],
 "metadata": {
  "kernelspec": {
   "display_name": "Python 3",
   "language": "python",
   "name": "python3"
  },
  "language_info": {
   "codemirror_mode": {
    "name": "ipython",
    "version": 3
   },
   "file_extension": ".py",
   "mimetype": "text/x-python",
   "name": "python",
   "nbconvert_exporter": "python",
   "pygments_lexer": "ipython3",
   "version": "3.6.1"
  }
 },
 "nbformat": 4,
 "nbformat_minor": 2
}
