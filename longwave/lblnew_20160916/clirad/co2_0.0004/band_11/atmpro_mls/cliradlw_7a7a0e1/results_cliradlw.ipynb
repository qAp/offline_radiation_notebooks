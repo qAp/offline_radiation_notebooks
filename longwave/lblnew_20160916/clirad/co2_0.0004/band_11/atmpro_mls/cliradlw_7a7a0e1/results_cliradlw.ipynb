{
 "cells": [
  {
   "cell_type": "code",
   "execution_count": 1,
   "metadata": {
    "collapsed": true
   },
   "outputs": [],
   "source": [
    "%matplotlib inline\n",
    "import os\n",
    "import re\n",
    "import io\n",
    "import itertools\n",
    "import pprint\n",
    "\n",
    "from bokeh.io import output_notebook, show\n",
    "from bokeh.layouts import gridplot\n",
    "from bokeh.plotting import figure\n",
    "from bokeh.models import Range1d, Legend\n",
    "from bokeh.palettes import all_palettes\n",
    "\n",
    "import matplotlib\n",
    "import matplotlib.pyplot as plt\n",
    "import numpy as np\n",
    "import pandas as pd\n",
    "import xarray as xr\n",
    "\n",
    "import climatools.lblnew.bestfit_params as bestfits\n",
    "from climatools.lblnew import setup_bestfit, setup_overlap\n",
    "import climatools.lblnew.pipeline as pipe_lblnew\n",
    "import climatools.cliradlw.setup as setup_cliradlw\n",
    "import climatools.cliradlw.pipeline as pipe_cliradlw\n",
    "\n",
    "import climatools.html.html as climahtml\n",
    "from climatools.lblnew.dataio import *\n",
    "from climatools.plot.plot import *\n",
    "\n",
    "\n",
    "import IPython.display as display"
   ]
  },
  {
   "cell_type": "code",
   "execution_count": 2,
   "metadata": {
    "collapsed": true
   },
   "outputs": [],
   "source": [
    "%run param.py"
   ]
  },
  {
   "cell_type": "code",
   "execution_count": 3,
   "metadata": {
    "collapsed": true
   },
   "outputs": [],
   "source": [
    "def load_output_file(path_csv):\n",
    "    '''\n",
    "    Load lblnew output .csv file to xarray.Dataset\n",
    "    \n",
    "    Parameters\n",
    "    ----------\n",
    "    path_csv: str\n",
    "              Path to the .csv file to be loaded.\n",
    "    ds: xarray.Dataset\n",
    "        Data in the input file in the form of an xarray.Dataset.\n",
    "    '''\n",
    "    toindex = ['band', 'pressure', 'igg', 'g']    \n",
    "    df = pd.read_csv(path_csv, sep=r'\\s+')\n",
    "    df = df.set_index([i for i in toindex if i in df.columns])\n",
    "    df = df.rename(columns={'sfu': 'flug',\n",
    "                            'sfd': 'fldg',\n",
    "                            'fnet': 'fnetg',\n",
    "                            'coolr': 'coolrg'})\n",
    "    ds = xr.Dataset.from_dataframe(df)\n",
    "\n",
    "    for l in ('level', 'layer'):\n",
    "        if l in ds.data_vars:\n",
    "            if len(ds[l].dims) > 1:\n",
    "                surface = {d: 0 for d in ds.dims if d != 'pressure'}\n",
    "                coord_level = ds[l][surface]\n",
    "                ds.coords[l] = ('pressure', coord_level)\n",
    "            else:\n",
    "                ds.coords[l] = ('pressure', ds[l])\n",
    "    \n",
    "    return ds"
   ]
  },
  {
   "cell_type": "code",
   "execution_count": 4,
   "metadata": {
    "collapsed": true
   },
   "outputs": [],
   "source": [
    "def lblnew_setup(param=None):\n",
    "    if 'ng_refs' in param:\n",
    "        return {'setup': setup_bestfit,\n",
    "                'fname_flux_crd': 'output_flux.dat',\n",
    "                'fname_cool_crd': 'output_coolr.dat',\n",
    "                'fname_flux_wgt': 'output_wfluxg.dat',\n",
    "                'fname_cool_wgt': 'output_wcoolrg.dat'}\n",
    "    else:\n",
    "        return {'setup': setup_overlap,\n",
    "                'fname_flux_crd': 'output_flux.dat',\n",
    "                'fname_cool_crd': 'output_coolr.dat',\n",
    "                'fname_flux_wgt': 'output_wflux.dat',\n",
    "                'fname_cool_wgt': 'output_wcoolr.dat'}\n",
    "\n",
    "    \n",
    "def load_lblnew_data(param):\n",
    "    \n",
    "    fname_dsname = [('fname_flux_crd', 'ds_flux_crd'),\n",
    "                    ('fname_cool_crd', 'ds_cool_crd'),\n",
    "                    ('fname_flux_wgt', 'ds_flux_wgt'),\n",
    "                    ('fname_cool_wgt', 'ds_cool_wgt')]\n",
    "    \n",
    "    d = lblnew_setup(param)\n",
    "    dir_fortran = pipe_lblnew.get_dir_case(param, setup=d['setup'])\n",
    "    \n",
    "    data_dict = {}\n",
    "    for fname, dsname in fname_dsname:\n",
    "        fpath = os.path.join(dir_fortran, d[fname])\n",
    "        data_dict[dsname] = load_output_file(fpath)\n",
    "    return data_dict\n",
    "    \n",
    "\n",
    "    \n",
    "    "
   ]
  },
  {
   "cell_type": "code",
   "execution_count": 5,
   "metadata": {
    "collapsed": true
   },
   "outputs": [],
   "source": [
    "d = load_lblnew_data(PARAM_LBLNEW)\n",
    "\n",
    "DS_FLUX_CRD = d['ds_flux_crd']\n",
    "DS_COOL_CRD = d['ds_cool_crd']\n",
    "DS_FLUX_WGT = d['ds_flux_wgt']\n",
    "DS_COOL_WGT = d['ds_cool_wgt']"
   ]
  },
  {
   "cell_type": "code",
   "execution_count": 6,
   "metadata": {
    "collapsed": true
   },
   "outputs": [],
   "source": [
    "DIR_FORTRAN = pipe_cliradlw.get_fortran_dir(PARAM, \n",
    "                                            setup=setup_cliradlw)\n",
    "\n",
    "PATH_FLUX = os.path.join(DIR_FORTRAN, 'output_flux.dat')\n",
    "PATH_COOL = os.path.join(DIR_FORTRAN, 'output_coolr.dat')\n",
    "\n",
    "DS_FLUX = load_output_file(PATH_FLUX)\n",
    "DS_COOL = load_output_file(PATH_COOL)"
   ]
  },
  {
   "cell_type": "code",
   "execution_count": 7,
   "metadata": {},
   "outputs": [
    {
     "data": {
      "text/html": [
       "\n",
       "    <div class=\"bk-root\">\n",
       "        <a href=\"https://bokeh.pydata.org\" target=\"_blank\" class=\"bk-logo bk-logo-small bk-logo-notebook\"></a>\n",
       "        <span id=\"1a13a6bc-e7ee-4ba4-ac06-50332f2db55d\">Loading BokehJS ...</span>\n",
       "    </div>"
      ]
     },
     "metadata": {},
     "output_type": "display_data"
    },
    {
     "data": {
      "application/javascript": [
       "\n",
       "(function(root) {\n",
       "  function now() {\n",
       "    return new Date();\n",
       "  }\n",
       "\n",
       "  var force = true;\n",
       "\n",
       "  if (typeof (root._bokeh_onload_callbacks) === \"undefined\" || force === true) {\n",
       "    root._bokeh_onload_callbacks = [];\n",
       "    root._bokeh_is_loading = undefined;\n",
       "  }\n",
       "\n",
       "  var JS_MIME_TYPE = 'application/javascript';\n",
       "  var HTML_MIME_TYPE = 'text/html';\n",
       "  var EXEC_MIME_TYPE = 'application/vnd.bokehjs_exec.v0+json';\n",
       "  var CLASS_NAME = 'output_bokeh rendered_html';\n",
       "\n",
       "  /**\n",
       "   * Render data to the DOM node\n",
       "   */\n",
       "  function render(props, node) {\n",
       "    var script = document.createElement(\"script\");\n",
       "    node.appendChild(script);\n",
       "  }\n",
       "\n",
       "  /**\n",
       "   * Handle when an output is cleared or removed\n",
       "   */\n",
       "  function handleClearOutput(event, handle) {\n",
       "    var cell = handle.cell;\n",
       "\n",
       "    var id = cell.output_area._bokeh_element_id;\n",
       "    var server_id = cell.output_area._bokeh_server_id;\n",
       "    // Clean up Bokeh references\n",
       "    if (id !== undefined) {\n",
       "      Bokeh.index[id].model.document.clear();\n",
       "      delete Bokeh.index[id];\n",
       "    }\n",
       "\n",
       "    if (server_id !== undefined) {\n",
       "      // Clean up Bokeh references\n",
       "      var cmd = \"from bokeh.io.state import curstate; print(curstate().uuid_to_server['\" + server_id + \"'].get_sessions()[0].document.roots[0]._id)\";\n",
       "      cell.notebook.kernel.execute(cmd, {\n",
       "        iopub: {\n",
       "          output: function(msg) {\n",
       "            var element_id = msg.content.text.trim();\n",
       "            Bokeh.index[element_id].model.document.clear();\n",
       "            delete Bokeh.index[element_id];\n",
       "          }\n",
       "        }\n",
       "      });\n",
       "      // Destroy server and session\n",
       "      var cmd = \"import bokeh.io.notebook as ion; ion.destroy_server('\" + server_id + \"')\";\n",
       "      cell.notebook.kernel.execute(cmd);\n",
       "    }\n",
       "  }\n",
       "\n",
       "  /**\n",
       "   * Handle when a new output is added\n",
       "   */\n",
       "  function handleAddOutput(event, handle) {\n",
       "    var output_area = handle.output_area;\n",
       "    var output = handle.output;\n",
       "\n",
       "    // limit handleAddOutput to display_data with EXEC_MIME_TYPE content only\n",
       "    if ((output.output_type != \"display_data\") || (!output.data.hasOwnProperty(EXEC_MIME_TYPE))) {\n",
       "      return\n",
       "    }\n",
       "\n",
       "    var toinsert = output_area.element.find(\".\" + CLASS_NAME.split(' ')[0]);\n",
       "\n",
       "    if (output.metadata[EXEC_MIME_TYPE][\"id\"] !== undefined) {\n",
       "      toinsert[0].firstChild.textContent = output.data[JS_MIME_TYPE];\n",
       "      // store reference to embed id on output_area\n",
       "      output_area._bokeh_element_id = output.metadata[EXEC_MIME_TYPE][\"id\"];\n",
       "    }\n",
       "    if (output.metadata[EXEC_MIME_TYPE][\"server_id\"] !== undefined) {\n",
       "      var bk_div = document.createElement(\"div\");\n",
       "      bk_div.innerHTML = output.data[HTML_MIME_TYPE];\n",
       "      var script_attrs = bk_div.children[0].attributes;\n",
       "      for (var i = 0; i < script_attrs.length; i++) {\n",
       "        toinsert[0].firstChild.setAttribute(script_attrs[i].name, script_attrs[i].value);\n",
       "      }\n",
       "      // store reference to server id on output_area\n",
       "      output_area._bokeh_server_id = output.metadata[EXEC_MIME_TYPE][\"server_id\"];\n",
       "    }\n",
       "  }\n",
       "\n",
       "  function register_renderer(events, OutputArea) {\n",
       "\n",
       "    function append_mime(data, metadata, element) {\n",
       "      // create a DOM node to render to\n",
       "      var toinsert = this.create_output_subarea(\n",
       "        metadata,\n",
       "        CLASS_NAME,\n",
       "        EXEC_MIME_TYPE\n",
       "      );\n",
       "      this.keyboard_manager.register_events(toinsert);\n",
       "      // Render to node\n",
       "      var props = {data: data, metadata: metadata[EXEC_MIME_TYPE]};\n",
       "      render(props, toinsert[0]);\n",
       "      element.append(toinsert);\n",
       "      return toinsert\n",
       "    }\n",
       "\n",
       "    /* Handle when an output is cleared or removed */\n",
       "    events.on('clear_output.CodeCell', handleClearOutput);\n",
       "    events.on('delete.Cell', handleClearOutput);\n",
       "\n",
       "    /* Handle when a new output is added */\n",
       "    events.on('output_added.OutputArea', handleAddOutput);\n",
       "\n",
       "    /**\n",
       "     * Register the mime type and append_mime function with output_area\n",
       "     */\n",
       "    OutputArea.prototype.register_mime_type(EXEC_MIME_TYPE, append_mime, {\n",
       "      /* Is output safe? */\n",
       "      safe: true,\n",
       "      /* Index of renderer in `output_area.display_order` */\n",
       "      index: 0\n",
       "    });\n",
       "  }\n",
       "\n",
       "  // register the mime type if in Jupyter Notebook environment and previously unregistered\n",
       "  if (root.Jupyter !== undefined) {\n",
       "    var events = require('base/js/events');\n",
       "    var OutputArea = require('notebook/js/outputarea').OutputArea;\n",
       "\n",
       "    if (OutputArea.prototype.mime_types().indexOf(EXEC_MIME_TYPE) == -1) {\n",
       "      register_renderer(events, OutputArea);\n",
       "    }\n",
       "  }\n",
       "\n",
       "  \n",
       "  if (typeof (root._bokeh_timeout) === \"undefined\" || force === true) {\n",
       "    root._bokeh_timeout = Date.now() + 5000;\n",
       "    root._bokeh_failed_load = false;\n",
       "  }\n",
       "\n",
       "  var NB_LOAD_WARNING = {'data': {'text/html':\n",
       "     \"<div style='background-color: #fdd'>\\n\"+\n",
       "     \"<p>\\n\"+\n",
       "     \"BokehJS does not appear to have successfully loaded. If loading BokehJS from CDN, this \\n\"+\n",
       "     \"may be due to a slow or bad network connection. Possible fixes:\\n\"+\n",
       "     \"</p>\\n\"+\n",
       "     \"<ul>\\n\"+\n",
       "     \"<li>re-rerun `output_notebook()` to attempt to load from CDN again, or</li>\\n\"+\n",
       "     \"<li>use INLINE resources instead, as so:</li>\\n\"+\n",
       "     \"</ul>\\n\"+\n",
       "     \"<code>\\n\"+\n",
       "     \"from bokeh.resources import INLINE\\n\"+\n",
       "     \"output_notebook(resources=INLINE)\\n\"+\n",
       "     \"</code>\\n\"+\n",
       "     \"</div>\"}};\n",
       "\n",
       "  function display_loaded() {\n",
       "    var el = document.getElementById(\"1a13a6bc-e7ee-4ba4-ac06-50332f2db55d\");\n",
       "    if (el != null) {\n",
       "      el.textContent = \"BokehJS is loading...\";\n",
       "    }\n",
       "    if (root.Bokeh !== undefined) {\n",
       "      if (el != null) {\n",
       "        el.textContent = \"BokehJS \" + root.Bokeh.version + \" successfully loaded.\";\n",
       "      }\n",
       "    } else if (Date.now() < root._bokeh_timeout) {\n",
       "      setTimeout(display_loaded, 100)\n",
       "    }\n",
       "  }\n",
       "\n",
       "\n",
       "  function run_callbacks() {\n",
       "    try {\n",
       "      root._bokeh_onload_callbacks.forEach(function(callback) { callback() });\n",
       "    }\n",
       "    finally {\n",
       "      delete root._bokeh_onload_callbacks\n",
       "    }\n",
       "    console.info(\"Bokeh: all callbacks have finished\");\n",
       "  }\n",
       "\n",
       "  function load_libs(js_urls, callback) {\n",
       "    root._bokeh_onload_callbacks.push(callback);\n",
       "    if (root._bokeh_is_loading > 0) {\n",
       "      console.log(\"Bokeh: BokehJS is being loaded, scheduling callback at\", now());\n",
       "      return null;\n",
       "    }\n",
       "    if (js_urls == null || js_urls.length === 0) {\n",
       "      run_callbacks();\n",
       "      return null;\n",
       "    }\n",
       "    console.log(\"Bokeh: BokehJS not loaded, scheduling load and callback at\", now());\n",
       "    root._bokeh_is_loading = js_urls.length;\n",
       "    for (var i = 0; i < js_urls.length; i++) {\n",
       "      var url = js_urls[i];\n",
       "      var s = document.createElement('script');\n",
       "      s.src = url;\n",
       "      s.async = false;\n",
       "      s.onreadystatechange = s.onload = function() {\n",
       "        root._bokeh_is_loading--;\n",
       "        if (root._bokeh_is_loading === 0) {\n",
       "          console.log(\"Bokeh: all BokehJS libraries loaded\");\n",
       "          run_callbacks()\n",
       "        }\n",
       "      };\n",
       "      s.onerror = function() {\n",
       "        console.warn(\"failed to load library \" + url);\n",
       "      };\n",
       "      console.log(\"Bokeh: injecting script tag for BokehJS library: \", url);\n",
       "      document.getElementsByTagName(\"head\")[0].appendChild(s);\n",
       "    }\n",
       "  };var element = document.getElementById(\"1a13a6bc-e7ee-4ba4-ac06-50332f2db55d\");\n",
       "  if (element == null) {\n",
       "    console.log(\"Bokeh: ERROR: autoload.js configured with elementid '1a13a6bc-e7ee-4ba4-ac06-50332f2db55d' but no matching script tag was found. \")\n",
       "    return false;\n",
       "  }\n",
       "\n",
       "  var js_urls = [\"https://cdn.pydata.org/bokeh/release/bokeh-0.12.14.min.js\", \"https://cdn.pydata.org/bokeh/release/bokeh-widgets-0.12.14.min.js\", \"https://cdn.pydata.org/bokeh/release/bokeh-tables-0.12.14.min.js\", \"https://cdn.pydata.org/bokeh/release/bokeh-gl-0.12.14.min.js\"];\n",
       "\n",
       "  var inline_js = [\n",
       "    function(Bokeh) {\n",
       "      Bokeh.set_log_level(\"info\");\n",
       "    },\n",
       "    \n",
       "    function(Bokeh) {\n",
       "      \n",
       "    },\n",
       "    function(Bokeh) {\n",
       "      console.log(\"Bokeh: injecting CSS: https://cdn.pydata.org/bokeh/release/bokeh-0.12.14.min.css\");\n",
       "      Bokeh.embed.inject_css(\"https://cdn.pydata.org/bokeh/release/bokeh-0.12.14.min.css\");\n",
       "      console.log(\"Bokeh: injecting CSS: https://cdn.pydata.org/bokeh/release/bokeh-widgets-0.12.14.min.css\");\n",
       "      Bokeh.embed.inject_css(\"https://cdn.pydata.org/bokeh/release/bokeh-widgets-0.12.14.min.css\");\n",
       "      console.log(\"Bokeh: injecting CSS: https://cdn.pydata.org/bokeh/release/bokeh-tables-0.12.14.min.css\");\n",
       "      Bokeh.embed.inject_css(\"https://cdn.pydata.org/bokeh/release/bokeh-tables-0.12.14.min.css\");\n",
       "    }\n",
       "  ];\n",
       "\n",
       "  function run_inline_js() {\n",
       "    \n",
       "    if ((root.Bokeh !== undefined) || (force === true)) {\n",
       "      for (var i = 0; i < inline_js.length; i++) {\n",
       "        inline_js[i].call(root, root.Bokeh);\n",
       "      }if (force === true) {\n",
       "        display_loaded();\n",
       "      }} else if (Date.now() < root._bokeh_timeout) {\n",
       "      setTimeout(run_inline_js, 100);\n",
       "    } else if (!root._bokeh_failed_load) {\n",
       "      console.log(\"Bokeh: BokehJS failed to load within specified timeout.\");\n",
       "      root._bokeh_failed_load = true;\n",
       "    } else if (force !== true) {\n",
       "      var cell = $(document.getElementById(\"1a13a6bc-e7ee-4ba4-ac06-50332f2db55d\")).parents('.cell').data().cell;\n",
       "      cell.output_area.append_execute_result(NB_LOAD_WARNING)\n",
       "    }\n",
       "\n",
       "  }\n",
       "\n",
       "  if (root._bokeh_is_loading === 0) {\n",
       "    console.log(\"Bokeh: BokehJS loaded, going straight to plotting\");\n",
       "    run_inline_js();\n",
       "  } else {\n",
       "    load_libs(js_urls, function() {\n",
       "      console.log(\"Bokeh: BokehJS plotting callback run at\", now());\n",
       "      run_inline_js();\n",
       "    });\n",
       "  }\n",
       "}(window));"
      ],
      "application/vnd.bokehjs_load.v0+json": "\n(function(root) {\n  function now() {\n    return new Date();\n  }\n\n  var force = true;\n\n  if (typeof (root._bokeh_onload_callbacks) === \"undefined\" || force === true) {\n    root._bokeh_onload_callbacks = [];\n    root._bokeh_is_loading = undefined;\n  }\n\n  \n\n  \n  if (typeof (root._bokeh_timeout) === \"undefined\" || force === true) {\n    root._bokeh_timeout = Date.now() + 5000;\n    root._bokeh_failed_load = false;\n  }\n\n  var NB_LOAD_WARNING = {'data': {'text/html':\n     \"<div style='background-color: #fdd'>\\n\"+\n     \"<p>\\n\"+\n     \"BokehJS does not appear to have successfully loaded. If loading BokehJS from CDN, this \\n\"+\n     \"may be due to a slow or bad network connection. Possible fixes:\\n\"+\n     \"</p>\\n\"+\n     \"<ul>\\n\"+\n     \"<li>re-rerun `output_notebook()` to attempt to load from CDN again, or</li>\\n\"+\n     \"<li>use INLINE resources instead, as so:</li>\\n\"+\n     \"</ul>\\n\"+\n     \"<code>\\n\"+\n     \"from bokeh.resources import INLINE\\n\"+\n     \"output_notebook(resources=INLINE)\\n\"+\n     \"</code>\\n\"+\n     \"</div>\"}};\n\n  function display_loaded() {\n    var el = document.getElementById(\"1a13a6bc-e7ee-4ba4-ac06-50332f2db55d\");\n    if (el != null) {\n      el.textContent = \"BokehJS is loading...\";\n    }\n    if (root.Bokeh !== undefined) {\n      if (el != null) {\n        el.textContent = \"BokehJS \" + root.Bokeh.version + \" successfully loaded.\";\n      }\n    } else if (Date.now() < root._bokeh_timeout) {\n      setTimeout(display_loaded, 100)\n    }\n  }\n\n\n  function run_callbacks() {\n    try {\n      root._bokeh_onload_callbacks.forEach(function(callback) { callback() });\n    }\n    finally {\n      delete root._bokeh_onload_callbacks\n    }\n    console.info(\"Bokeh: all callbacks have finished\");\n  }\n\n  function load_libs(js_urls, callback) {\n    root._bokeh_onload_callbacks.push(callback);\n    if (root._bokeh_is_loading > 0) {\n      console.log(\"Bokeh: BokehJS is being loaded, scheduling callback at\", now());\n      return null;\n    }\n    if (js_urls == null || js_urls.length === 0) {\n      run_callbacks();\n      return null;\n    }\n    console.log(\"Bokeh: BokehJS not loaded, scheduling load and callback at\", now());\n    root._bokeh_is_loading = js_urls.length;\n    for (var i = 0; i < js_urls.length; i++) {\n      var url = js_urls[i];\n      var s = document.createElement('script');\n      s.src = url;\n      s.async = false;\n      s.onreadystatechange = s.onload = function() {\n        root._bokeh_is_loading--;\n        if (root._bokeh_is_loading === 0) {\n          console.log(\"Bokeh: all BokehJS libraries loaded\");\n          run_callbacks()\n        }\n      };\n      s.onerror = function() {\n        console.warn(\"failed to load library \" + url);\n      };\n      console.log(\"Bokeh: injecting script tag for BokehJS library: \", url);\n      document.getElementsByTagName(\"head\")[0].appendChild(s);\n    }\n  };var element = document.getElementById(\"1a13a6bc-e7ee-4ba4-ac06-50332f2db55d\");\n  if (element == null) {\n    console.log(\"Bokeh: ERROR: autoload.js configured with elementid '1a13a6bc-e7ee-4ba4-ac06-50332f2db55d' but no matching script tag was found. \")\n    return false;\n  }\n\n  var js_urls = [\"https://cdn.pydata.org/bokeh/release/bokeh-0.12.14.min.js\", \"https://cdn.pydata.org/bokeh/release/bokeh-widgets-0.12.14.min.js\", \"https://cdn.pydata.org/bokeh/release/bokeh-tables-0.12.14.min.js\", \"https://cdn.pydata.org/bokeh/release/bokeh-gl-0.12.14.min.js\"];\n\n  var inline_js = [\n    function(Bokeh) {\n      Bokeh.set_log_level(\"info\");\n    },\n    \n    function(Bokeh) {\n      \n    },\n    function(Bokeh) {\n      console.log(\"Bokeh: injecting CSS: https://cdn.pydata.org/bokeh/release/bokeh-0.12.14.min.css\");\n      Bokeh.embed.inject_css(\"https://cdn.pydata.org/bokeh/release/bokeh-0.12.14.min.css\");\n      console.log(\"Bokeh: injecting CSS: https://cdn.pydata.org/bokeh/release/bokeh-widgets-0.12.14.min.css\");\n      Bokeh.embed.inject_css(\"https://cdn.pydata.org/bokeh/release/bokeh-widgets-0.12.14.min.css\");\n      console.log(\"Bokeh: injecting CSS: https://cdn.pydata.org/bokeh/release/bokeh-tables-0.12.14.min.css\");\n      Bokeh.embed.inject_css(\"https://cdn.pydata.org/bokeh/release/bokeh-tables-0.12.14.min.css\");\n    }\n  ];\n\n  function run_inline_js() {\n    \n    if ((root.Bokeh !== undefined) || (force === true)) {\n      for (var i = 0; i < inline_js.length; i++) {\n        inline_js[i].call(root, root.Bokeh);\n      }if (force === true) {\n        display_loaded();\n      }} else if (Date.now() < root._bokeh_timeout) {\n      setTimeout(run_inline_js, 100);\n    } else if (!root._bokeh_failed_load) {\n      console.log(\"Bokeh: BokehJS failed to load within specified timeout.\");\n      root._bokeh_failed_load = true;\n    } else if (force !== true) {\n      var cell = $(document.getElementById(\"1a13a6bc-e7ee-4ba4-ac06-50332f2db55d\")).parents('.cell').data().cell;\n      cell.output_area.append_execute_result(NB_LOAD_WARNING)\n    }\n\n  }\n\n  if (root._bokeh_is_loading === 0) {\n    console.log(\"Bokeh: BokehJS loaded, going straight to plotting\");\n    run_inline_js();\n  } else {\n    load_libs(js_urls, function() {\n      console.log(\"Bokeh: BokehJS plotting callback run at\", now());\n      run_inline_js();\n    });\n  }\n}(window));"
     },
     "metadata": {},
     "output_type": "display_data"
    }
   ],
   "source": [
    "output_notebook()"
   ]
  },
  {
   "cell_type": "code",
   "execution_count": 8,
   "metadata": {
    "collapsed": true
   },
   "outputs": [],
   "source": [
    "def fmt_cool(ds_in):\n",
    "    ds = ds_in.copy(deep=True)\n",
    "    if 'igg' in ds.dims:\n",
    "        ds = ds.sel(igg=1)\n",
    "\n",
    "    if 'g' in ds.dims:\n",
    "        ds = ds.sum('g')\n",
    "            \n",
    "    if 'band' in ds.dims:\n",
    "        try:\n",
    "            ds = ds.squeeze('band')\n",
    "        except ValueError:\n",
    "            ds = ds.sum('band')\n",
    "                \n",
    "    return ds['coolrg']\n",
    "\n",
    "\n",
    "def pltdata_cooling_1(ds_cool=None,\n",
    "                      ds_cool_crd=None, ds_cool_wgt=None):\n",
    "    \n",
    "\n",
    "\n",
    "    colors = all_palettes['Set1'][4]\n",
    "    data = [{'label': 'CLIRAD `coolr_bands`',\n",
    "             'srs': fmt_cool(ds_cool),\n",
    "             'line_dash': 'dashed', 'line_width': 5,\n",
    "             'color': colors[0], 'alpha': .6},\n",
    "            {'label': 'CRD',\n",
    "             'srs': fmt_cool(ds_cool_crd),\n",
    "             'line_dash': 'solid', 'line_width': 1.5,\n",
    "             'marker': 'circle', 'marker_size': 5,\n",
    "             'color': colors[2], 'alpha': 1,},\n",
    "            {'label': 'WGT igg=10 wgt_flux=2',\n",
    "             'srs': fmt_cool(ds_cool_wgt),\n",
    "             'line_dash': 'solid', 'line_width': 3,\n",
    "             'marker': 'square', 'marker_size': 5,\n",
    "             'color': colors[3], 'alpha': .6}]\n",
    "    return data\n",
    "\n",
    "\n",
    "def nice_xlims(pltdata=None, prange=None):\n",
    "    \n",
    "    def get_slice(srs):\n",
    "        return srs.sel(pressure=slice(*prange))\n",
    "    \n",
    "    srss = [d['srs'] for d in pltdata]\n",
    "    vmin = min([get_slice(srs).min() for srs in srss])\n",
    "    vmax = max([get_slice(srs).max() for srs in srss])\n",
    "    dv = (vmax - vmin) * .01\n",
    "    return float(vmin - dv), float(vmax + dv)\n",
    "    \n",
    "\n",
    "def plt_cooling_bokeh(pltdata=None):\n",
    "    '''\n",
    "    Plot a list of cooling rate profiles using bokeh.\n",
    "    '''\n",
    "    ymin = 1e-2 \n",
    "    ymax = 1020 \n",
    "        \n",
    "    p1 = figure(title=\"Linear pressure scale\", \n",
    "                plot_width=400)        \n",
    "    xmin, xmax = nice_xlims(pltdata, prange=(50, 1050))\n",
    "    for d in pltdata:\n",
    "        if 'marker' in d:\n",
    "            getattr(p1, d['marker'])(d['srs'].values, \n",
    "                    d['srs'].coords['pressure'].values,\n",
    "                    color=d['color'], alpha=.7)\n",
    "        p1.line(d['srs'].values, \n",
    "                d['srs'].coords['pressure'].values,\n",
    "                color=d['color'], alpha=d['alpha'], \n",
    "                line_width=d['line_width'], line_dash=d['line_dash'])\n",
    "    \n",
    "    p1.y_range = Range1d(ymax, ymin)\n",
    "    p1.yaxis.axis_label = 'pressure [mb]'   \n",
    "    p1.x_range = Range1d(xmin, xmax)\n",
    "    p1.xaxis.axis_label = 'cooling rate [K/day]'\n",
    "            \n",
    "    p2 = figure(title='Log pressure scale', y_axis_type='log',\n",
    "                plot_width=560)\n",
    "    xmin, xmax = nice_xlims(pltdata, prange=(.01, 200))\n",
    "    \n",
    "    rs = []\n",
    "    for d in pltdata:\n",
    "        rd = []\n",
    "        if 'marker' in d:\n",
    "            r_mark = getattr(p2, d['marker'])(d['srs'].values, \n",
    "                        d['srs'].coords['pressure'].values,\n",
    "                        color=d['color'], alpha=.7)\n",
    "            rd.append(r_mark)\n",
    "        r_line = p2.line(d['srs'].values, \n",
    "                    d['srs'].coords['pressure'].values,\n",
    "                    color=d['color'], alpha=d['alpha'], \n",
    "                    line_width=d['line_width'], line_dash=d['line_dash'])\n",
    "        rd.append(r_line)\n",
    "      \n",
    "        rs.append(rd)\n",
    "        \n",
    "    p2.y_range = Range1d(ymax, ymin)  \n",
    "    p2.yaxis.axis_label = 'pressure [mb]'\n",
    "    \n",
    "    p2.x_range = Range1d(xmin, xmax)\n",
    "    p2.xaxis.axis_label = 'cooling rate [K/day]'\n",
    "    \n",
    "    items = [(d['label'], r) for r, d in zip(rs, pltdata)]\n",
    "    legend = Legend(items=items, location=(10, -30))\n",
    "    legend.label_text_font_size = '8pt'\n",
    "    \n",
    "    p2.add_layout(legend, 'right')  \n",
    "    \n",
    "    show(gridplot(p1, p2, ncols=2, plot_height=500))\n",
    "    \n",
    "\n",
    "def script_plt_cooling():\n",
    "    pltdata = pltdata_cooling_1(\n",
    "        ds_cool=DS_COOL,\n",
    "        ds_cool_crd=DS_COOL_CRD,\n",
    "        ds_cool_wgt=DS_COOL_WGT)\n",
    "    plt_cooling_bokeh(pltdata=pltdata)\n",
    "    print('''FIGURE. Cooling rate profiles.''')"
   ]
  },
  {
   "cell_type": "code",
   "execution_count": 9,
   "metadata": {
    "collapsed": true
   },
   "outputs": [],
   "source": [
    "def fmt_flux(ds_in):\n",
    "    ds = ds_in.copy(deep=True)\n",
    "    \n",
    "    for l in ('level', 'layer'):\n",
    "        if l in ds.data_vars:\n",
    "            if len(ds[l].dims) > 1:\n",
    "                surface = {d: 0 for d in ds.dims if d != 'pressure'}\n",
    "                coord_level = ds[l][surface]\n",
    "                ds.coords[l] = ('pressure', coord_level)\n",
    "            else:\n",
    "                ds.coords[l] = ('pressure', ds[l])\n",
    "        \n",
    "    ds = ds.isel(pressure=[0, 23, -1])\n",
    "        \n",
    "    if 'igg' in ds.dims:\n",
    "        ds = ds.sel(igg=[1])\n",
    "        ds = ds.squeeze('igg').drop('igg')\n",
    "    \n",
    "    if 'g' in ds.dims:\n",
    "        ds = ds.sum('g')\n",
    "            \n",
    "    if 'band' in ds.dims:\n",
    "        try:\n",
    "            ds = ds.squeeze('band').drop('band')\n",
    "        except ValueError:\n",
    "            ds = ds.sum('band')\n",
    "                \n",
    "    df = ds.to_dataframe()\n",
    "    df = df.set_index('level', append=True)               \n",
    "    return df\n",
    "\n",
    "\n",
    "def tbdata_flux(ds_flux=None, ds_flux_crd=None, ds_flux_wgt=None):\n",
    "    ilevels = [0, 23, -1]\n",
    "            \n",
    "    benchmark = {'label': 'WGT igg=10 wgt_flux=1',\n",
    "                 'df': fmt_flux(ds_flux_wgt)}\n",
    "    \n",
    "    tbs = [{'label': 'CRD',\n",
    "            'df': fmt_flux(ds_flux_crd)},\n",
    "           {'label': 'CLIRAD',\n",
    "            'df': fmt_flux(ds_flux)}]\n",
    "    \n",
    "    data = {'benchmark': benchmark, 'others': tbs}\n",
    "    return data\n",
    "\n",
    "\n",
    "def tb_flux(tbdata=None):\n",
    "    benchmark = tbdata['benchmark']\n",
    "    others = tbdata['others']\n",
    "    \n",
    "    def show_tb(d=None):\n",
    "        display.display(d['df'])\n",
    "        print('Table.', 'Fluxes.', d['label'])\n",
    "        \n",
    "    def show_tbdiff(d0=None, d=None):\n",
    "        df = d['df']\n",
    "        df.index = d0['df'].index\n",
    "        display.display(df - d0['df'])\n",
    "        print('Table.', 'Fluxes.', \n",
    "              '({}) - ({})'.format(d['label'], d0['label']))\n",
    "        \n",
    "    show_tb(benchmark)\n",
    "    for d in others:\n",
    "        show_tb(d)\n",
    "        \n",
    "    for d in others:\n",
    "        show_tbdiff(d=d, d0=benchmark)\n",
    "        \n",
    "        \n",
    "def script_tb_flux():\n",
    "    data = tbdata_flux(ds_flux=DS_FLUX,\n",
    "                       ds_flux_crd=DS_FLUX_CRD,\n",
    "                       ds_flux_wgt=DS_FLUX_WGT)\n",
    "    tb_flux(tbdata=data)"
   ]
  },
  {
   "cell_type": "code",
   "execution_count": 10,
   "metadata": {
    "collapsed": true
   },
   "outputs": [],
   "source": [
    "def band_map():\n",
    "    '''\n",
    "    Maps spectral bands in lblnew to spectral bands in clirad.\n",
    "    '''\n",
    "    lblnew2clirad = {'1': '1',\n",
    "            '2': '2',\n",
    "            '3a': '3',\n",
    "            '3b': '4',\n",
    "            '3c': '5',\n",
    "            '4': '6', \n",
    "            '5': '7',\n",
    "            '6': '8',\n",
    "            '7': '9', \n",
    "            '8': '10',\n",
    "            '9': '11'}\n",
    "    \n",
    "    clirad2lblnew = {clirad: lblnew \n",
    "                     for lblnew, clirad in lblnew2clirad.items()}\n",
    "    return clirad2lblnew\n",
    "\n",
    "\n",
    "def gasbands():\n",
    "    bmap = band_map()\n",
    "    gases = list(PARAM['molecule'].keys())\n",
    "    \n",
    "    bands = [bmap[str(b)] for b in PARAM['band']]\n",
    "    return list(itertools.product(gases, bands))\n",
    "\n",
    "\n",
    "def print_bestfit_params():\n",
    "    print('Best-fit values for each (gas, band)')\n",
    "    print('------------------------------------')\n",
    "    for gas, band in gasbands():\n",
    "        print('o {} band{}'.format(gas, band))\n",
    "        param = bestfits.kdist_params(molecule=gas, band=band)\n",
    "        for name, value in param.items():\n",
    "            print(2 * ' ' + '{} = {}'.format(name, value))\n",
    "\n",
    "        \n",
    "def print_input_param():        \n",
    "    for name, value in PARAM.items():\n",
    "        print('{} = {}'.format(name, value))\n",
    "        \n",
    "        \n",
    "def print_lblnew_param():\n",
    "    for name, value in PARAM_LBLNEW.items():\n",
    "        print('{} = {}'.format(name, value))\n"
   ]
  },
  {
   "cell_type": "code",
   "execution_count": 11,
   "metadata": {
    "collapsed": true,
    "scrolled": false
   },
   "outputs": [],
   "source": [
    "def show_html(s):\n",
    "    display.display(display.HTML(s))\n",
    "\n",
    "    \n",
    "def show_markdown(s):\n",
    "    display.display(display.Markdown(s))\n",
    "\n",
    "    \n",
    "def script():\n",
    "    \n",
    "    title = '### CLIRAD-LW'\n",
    "    s_input = 'Input Parameters'\n",
    "    s_lblnew_param = 'LBLNEW case compaired against'\n",
    "    s_bestfits = 'Best-fit Parameters'\n",
    "    s_plt_cooling = 'Cooling Rate Profiles'\n",
    "    s_tb_flux = 'Flux Comparison'\n",
    "    \n",
    "    # title\n",
    "    show_markdown('### CLIRAD-LW')\n",
    "    \n",
    "    # TOC\n",
    "    show_markdown('### Table of Contents')\n",
    "    show_html(climahtml.getHTML_hrefanchor(s_input))\n",
    "    show_html(climahtml.getHTML_hrefanchor(s_lblnew_param))\n",
    "    show_html(climahtml.getHTML_hrefanchor(s_plt_cooling))\n",
    "    show_html(climahtml.getHTML_hrefanchor(s_tb_flux))\n",
    "    show_html(climahtml.getHTML_hrefanchor(s_bestfits))\n",
    "    \n",
    "    # Input parameters\n",
    "    show_html(climahtml.getHTML_idanchor(s_input))\n",
    "    show_markdown(climahtml.getMarkdown_sectitle(s_input))\n",
    "    print_input_param()\n",
    "    \n",
    "    # LBLNEW parameters \n",
    "    show_html(climahtml.getHTML_idanchor(s_lblnew_param))\n",
    "    show_markdown(climahtml.getMarkdown_sectitle(s_lblnew_param))\n",
    "    print_lblnew_param()\n",
    "    \n",
    "    # Cooling rate profiles\n",
    "    show_html(climahtml.getHTML_idanchor(s_plt_cooling))\n",
    "    show_markdown(climahtml.getMarkdown_sectitle(s_plt_cooling))\n",
    "    script_plt_cooling()\n",
    "    \n",
    "    # Flux comparison\n",
    "    show_html(climahtml.getHTML_idanchor(s_tb_flux))\n",
    "    show_markdown(climahtml.getMarkdown_sectitle(s_tb_flux))\n",
    "    script_tb_flux()\n",
    "    \n",
    "    # Best-fit values\n",
    "    show_html(climahtml.getHTML_idanchor(s_bestfits))\n",
    "    show_markdown(climahtml.getMarkdown_sectitle(s_bestfits))\n",
    "    print_bestfit_params()\n",
    "   \n",
    "    "
   ]
  },
  {
   "cell_type": "code",
   "execution_count": 12,
   "metadata": {
    "scrolled": false
   },
   "outputs": [
    {
     "data": {
      "text/markdown": [
       "### CLIRAD-LW"
      ],
      "text/plain": [
       "<IPython.core.display.Markdown object>"
      ]
     },
     "metadata": {},
     "output_type": "display_data"
    },
    {
     "data": {
      "text/markdown": [
       "### Table of Contents"
      ],
      "text/plain": [
       "<IPython.core.display.Markdown object>"
      ]
     },
     "metadata": {},
     "output_type": "display_data"
    },
    {
     "data": {
      "text/html": [
       "<a href=\"#Input_Parameters\">Input Parameters</a>"
      ],
      "text/plain": [
       "<IPython.core.display.HTML object>"
      ]
     },
     "metadata": {},
     "output_type": "display_data"
    },
    {
     "data": {
      "text/html": [
       "<a href=\"#LBLNEW_case_compaired_against\">LBLNEW case compaired against</a>"
      ],
      "text/plain": [
       "<IPython.core.display.HTML object>"
      ]
     },
     "metadata": {},
     "output_type": "display_data"
    },
    {
     "data": {
      "text/html": [
       "<a href=\"#Cooling_Rate_Profiles\">Cooling Rate Profiles</a>"
      ],
      "text/plain": [
       "<IPython.core.display.HTML object>"
      ]
     },
     "metadata": {},
     "output_type": "display_data"
    },
    {
     "data": {
      "text/html": [
       "<a href=\"#Flux_Comparison\">Flux Comparison</a>"
      ],
      "text/plain": [
       "<IPython.core.display.HTML object>"
      ]
     },
     "metadata": {},
     "output_type": "display_data"
    },
    {
     "data": {
      "text/html": [
       "<a href=\"#Best-fit_Parameters\">Best-fit Parameters</a>"
      ],
      "text/plain": [
       "<IPython.core.display.HTML object>"
      ]
     },
     "metadata": {},
     "output_type": "display_data"
    },
    {
     "data": {
      "text/html": [
       "<a id=\"Input_Parameters\"></a>"
      ],
      "text/plain": [
       "<IPython.core.display.HTML object>"
      ]
     },
     "metadata": {},
     "output_type": "display_data"
    },
    {
     "data": {
      "text/markdown": [
       "# Input Parameters"
      ],
      "text/plain": [
       "<IPython.core.display.Markdown object>"
      ]
     },
     "metadata": {},
     "output_type": "display_data"
    },
    {
     "name": "stdout",
     "output_type": "stream",
     "text": [
      "atmpro = mls\n",
      "band = [11]\n",
      "commitnumber = 7a7a0e1\n",
      "molecule = {'co2': 0.0004}\n",
      "tsfc = 294\n"
     ]
    },
    {
     "data": {
      "text/html": [
       "<a id=\"LBLNEW_case_compaired_against\"></a>"
      ],
      "text/plain": [
       "<IPython.core.display.HTML object>"
      ]
     },
     "metadata": {},
     "output_type": "display_data"
    },
    {
     "data": {
      "text/markdown": [
       "# LBLNEW case compaired against"
      ],
      "text/plain": [
       "<IPython.core.display.Markdown object>"
      ]
     },
     "metadata": {},
     "output_type": "display_data"
    },
    {
     "name": "stdout",
     "output_type": "stream",
     "text": [
      "molecule = co2\n",
      "band = 9\n",
      "commitnumber = d62b618\n",
      "vmin = 1900\n",
      "vmax = 3000\n",
      "dv = 0.001\n",
      "nv = 1000\n",
      "ref_pts = [(1, 250), (50, 250)]\n",
      "ng_refs = [3, 3]\n",
      "ng_adju = [2, 0]\n",
      "klin = 1e-23\n",
      "option_wgt_k = 1\n",
      "wgt = [(0.7, 0.8, 0.7), (0.8, 0.7, 0.8)]\n",
      "w_diffuse = [(1.66, 1.66, 1.75), (1.75, 1.6, 1.85)]\n",
      "option_wgt_flux = 1\n",
      "atmpro = mls\n",
      "tsfc = 294\n",
      "conc = 0.0004\n",
      "option_compute_btable = 0\n",
      "option_compute_ktable = 1\n"
     ]
    },
    {
     "data": {
      "text/html": [
       "<a id=\"Cooling_Rate_Profiles\"></a>"
      ],
      "text/plain": [
       "<IPython.core.display.HTML object>"
      ]
     },
     "metadata": {},
     "output_type": "display_data"
    },
    {
     "data": {
      "text/markdown": [
       "# Cooling Rate Profiles"
      ],
      "text/plain": [
       "<IPython.core.display.Markdown object>"
      ]
     },
     "metadata": {},
     "output_type": "display_data"
    },
    {
     "data": {
      "text/html": [
       "\n",
       "<div class=\"bk-root\">\n",
       "    <div class=\"bk-plotdiv\" id=\"345d0444-1a13-4d14-88e3-084fd8e17ca7\"></div>\n",
       "</div>"
      ]
     },
     "metadata": {},
     "output_type": "display_data"
    },
    {
     "data": {
      "application/javascript": [
       "(function(root) {\n",
       "  function embed_document(root) {\n",
       "    \n",
       "  var docs_json = {\"1f2ceda3-3d00-4ca2-a34d-6e414041eda0\":{\"roots\":{\"references\":[{\"attributes\":{},\"id\":\"49260be2-bd53-4bff-88ab-f213b92648a9\",\"type\":\"BasicTicker\"},{\"attributes\":{},\"id\":\"f15958a3-1674-4f16-9b83-865c751f8a8f\",\"type\":\"ResetTool\"},{\"attributes\":{},\"id\":\"9839cfc8-a39a-4678-8ecd-fbcde07ebc54\",\"type\":\"HelpTool\"},{\"attributes\":{},\"id\":\"fcee549c-00fc-4968-9fba-14f37870fa6d\",\"type\":\"SaveTool\"},{\"attributes\":{\"callback\":null,\"column_names\":[\"x\",\"y\"],\"data\":{\"x\":{\"__ndarray__\":\"gewW/Xgaxz8QXBr8U2OgP1pMx/cgX5e/cz5R5tqokL9qZV0ED9GRv+COtHftop2/bjRQfiolmL8Z1AVcWoSVv1q6MSbFE5q/u7uRI+RWm78Buogf/sKgv6HIml5QSaS/iqxEvwfGp7/P/QBkG8quv9v3fT8CbbK/Mfw4fs57sr9qZ5MhmR6wv5AUkWEVb6u/0PH8YulVor/JeMk8SAh0v6RQKKF6v6Y/DjhkZhMewT98ZO+cmHvQPz39mL0JEdA/TgG8Ry5mxT/vUguhWi/AP/gWX3/VO7g/X1fsX/Q9rj8csC8C+OGZP2QY/OAxgUg/kXU+4Uj+eb8QDJQbWwRsvw53Wv7j5k2/VHENI2lwCz/t7v3ATLkRvw4NK9+qIEO/iK22P4ZSTr9553rh4URTvyjvy6fzEl+/6c9MISgfaL8EvfEeuU9sv0d792C9hWm/dnhqnx68Zr85cU75y39kv4768TwUY2K/I/+cngh9YL9+SCQ7Qgdev3sF7myLk1u/AkZiRbelWL+DTup9+r5VvyEgCmdx5lK/zzb30592Ub9v0BE/CyZQv9jBKN+7sk+/2KSaXbN7Tr97nyJgPSdMvy+FbKBgKEm/nIcu3uU6Rb+HU55hpGtAvx6oiPof8TC/lnS9Xc3h074DDwTFwO4uPynkVkLoeT8/D6F1wrTtTT+BkSXgyB1VPxQj4t2+xGA/RVa0wr/LZj9p0qtauWtuP8Ld7B6/CHE/aDifYmcWcT+S270ApZ9wP3zrkhxosXA/HbLCIj+RcT8xRbt+yHF0P0C84VBVJ4c/\",\"dtype\":\"float64\",\"shape\":[75]},\"y\":{\"__ndarray__\":\"S/O/Q+51ND/430zAtpRIP2vylNV0PVE/QxsjCssuWD/TR4Z78fVgP+inNsRxymc/OuuBfZWvcD/u3TFA02d3P2d3VoBnaoA/CD5h5MAGhz/1pA8HUCaQP+zrCsc9p5Y/Fb7LAKjGnz/nJ9c/SEmmPwBD+fzcQq8/FOZwv9nstT8Er5Y7M8G+P0c+r3jqkcU/yK72qKZBzj+tM989FzjVPxbgmr8yxN0/cOm5AXbg5D+5ctXAf0jtP5kqGJXUifQ/DsrqDELP/D8MCAhBojQEQDItVnmnVwxAiFXNvdHgE0BSSZ2AJuIbQAMJih9jjiNA5q4l5INuK0CPVN/5RT0zQHzxRXu8/DpAOZ7PgHrtQkAg8wGBzoxKQBSTN8DMeFJA2NmQf2ZqWEAAAAAAAFxeQEQX1LfMJmJAmpmZmZkfZUBmZmZmZhhoQLzoK0gzEWtAAAAAAAAKbkCiC+pbZoFwQAhyUMLM/XFA+I2vPTN6c0AQ5KCEmfZ0QAAAAAAAc3ZA8Btfe2bvd0AIclDCzGt5QPeNrz0z6HpAEOSghJlkfEAAAAAAAOF9QKML6ltmXX9ABTkoYeZsgED7xteeGSuBQAhyUMJM6YFAAAAAAICngkD4ja89s2WDQAU5KGHmI4RA+8bXnhnihEAIclDCTKCFQAAAAACAXoZA+I2vPbMch0AFOShh5tqHQPvG154ZmYhACHJQwkxXiUAAAAAAgBWKQPeNrz2z04pABTkoYeaRi0D7xteeGVCMQAlyUMJMDo1AAAAAAIDMjUD3ja89s4qOQGZmZmbmSI9A\",\"dtype\":\"float64\",\"shape\":[75]}}},\"id\":\"573afdc3-28b5-423b-ae5d-464bfcb70fac\",\"type\":\"ColumnDataSource\"},{\"attributes\":{\"axis_label\":\"pressure [mb]\",\"formatter\":{\"id\":\"30a4cdd9-4301-472c-8dfa-46f143fc53c0\",\"type\":\"BasicTickFormatter\"},\"plot\":{\"id\":\"7a34ace6-9eeb-4576-80a6-75d2f8159276\",\"subtype\":\"Figure\",\"type\":\"Plot\"},\"ticker\":{\"id\":\"74c94ef8-eb33-4470-9f7b-060d87e0244e\",\"type\":\"BasicTicker\"}},\"id\":\"0b462e20-462b-4501-b1a1-9f769a278ccb\",\"type\":\"LinearAxis\"},{\"attributes\":{\"line_alpha\":0.1,\"line_color\":\"#1f77b4\",\"line_dash\":[6],\"line_width\":5,\"x\":{\"field\":\"x\"},\"y\":{\"field\":\"y\"}},\"id\":\"322eb982-51ee-47a4-b019-c674049d5c0a\",\"type\":\"Line\"},{\"attributes\":{},\"id\":\"74c94ef8-eb33-4470-9f7b-060d87e0244e\",\"type\":\"BasicTicker\"},{\"attributes\":{},\"id\":\"eb0ff941-b9c7-4e69-9c48-1c3f3d78b03b\",\"type\":\"PanTool\"},{\"attributes\":{\"plot\":{\"id\":\"7a34ace6-9eeb-4576-80a6-75d2f8159276\",\"subtype\":\"Figure\",\"type\":\"Plot\"},\"ticker\":{\"id\":\"49260be2-bd53-4bff-88ab-f213b92648a9\",\"type\":\"BasicTicker\"}},\"id\":\"663991c7-fc58-4b0f-99b0-751347b61e71\",\"type\":\"Grid\"},{\"attributes\":{},\"id\":\"05b5d068-5798-4e0c-94f3-fafd921d6b87\",\"type\":\"WheelZoomTool\"},{\"attributes\":{\"data_source\":{\"id\":\"365614f4-01d3-4c66-9245-884ed1288ba8\",\"type\":\"ColumnDataSource\"},\"glyph\":{\"id\":\"5431aa12-36fe-47ba-b8a1-d4e15e6a75c7\",\"type\":\"Circle\"},\"hover_glyph\":null,\"muted_glyph\":null,\"nonselection_glyph\":{\"id\":\"aaf833dc-0c4b-4df3-ac4c-9070eb99adb1\",\"type\":\"Circle\"},\"selection_glyph\":null,\"view\":{\"id\":\"878039e5-3200-4478-8901-916c39cfb17c\",\"type\":\"CDSView\"}},\"id\":\"0f0203df-bfb4-456a-bd93-de0e31642cb1\",\"type\":\"GlyphRenderer\"},{\"attributes\":{\"bottom_units\":\"screen\",\"fill_alpha\":{\"value\":0.5},\"fill_color\":{\"value\":\"lightgrey\"},\"left_units\":\"screen\",\"level\":\"overlay\",\"line_alpha\":{\"value\":1.0},\"line_color\":{\"value\":\"black\"},\"line_dash\":[4,4],\"line_width\":{\"value\":2},\"plot\":null,\"render_mode\":\"css\",\"right_units\":\"screen\",\"top_units\":\"screen\"},\"id\":\"00710130-bb43-4202-9fa1-b049c9df32c5\",\"type\":\"BoxAnnotation\"},{\"attributes\":{\"callback\":null,\"end\":0.01,\"start\":1020},\"id\":\"7930ca06-2086-40a7-a548-aaf3571573aa\",\"type\":\"Range1d\"},{\"attributes\":{},\"id\":\"28b1fd45-66a7-42cd-bd14-121e09aec617\",\"type\":\"BasicTickFormatter\"},{\"attributes\":{\"dimension\":1,\"plot\":{\"id\":\"7a34ace6-9eeb-4576-80a6-75d2f8159276\",\"subtype\":\"Figure\",\"type\":\"Plot\"},\"ticker\":{\"id\":\"74c94ef8-eb33-4470-9f7b-060d87e0244e\",\"type\":\"BasicTicker\"}},\"id\":\"6b0eea5f-771e-467a-8dbe-46225848e8b5\",\"type\":\"Grid\"},{\"attributes\":{},\"id\":\"25761ed0-5b4d-4af8-9861-d80683386f8c\",\"type\":\"LinearScale\"},{\"attributes\":{\"source\":{\"id\":\"365614f4-01d3-4c66-9245-884ed1288ba8\",\"type\":\"ColumnDataSource\"}},\"id\":\"878039e5-3200-4478-8901-916c39cfb17c\",\"type\":\"CDSView\"},{\"attributes\":{\"dimension\":1,\"plot\":{\"id\":\"5542b98d-e6ad-491f-ad3f-adac2855c88e\",\"subtype\":\"Figure\",\"type\":\"Plot\"},\"ticker\":{\"id\":\"923d8b79-ce4f-4e9b-a49c-9c0ffd6118a4\",\"type\":\"LogTicker\"}},\"id\":\"d666c2f6-1c44-45a6-a20a-ed115189d17f\",\"type\":\"Grid\"},{\"attributes\":{\"active_drag\":\"auto\",\"active_inspect\":\"auto\",\"active_scroll\":\"auto\",\"active_tap\":\"auto\",\"tools\":[{\"id\":\"96966d05-1778-43b5-9f46-28f6092d7af5\",\"type\":\"PanTool\"},{\"id\":\"9d1ac98e-b2f2-407c-8055-2f077acfd772\",\"type\":\"WheelZoomTool\"},{\"id\":\"be796d90-865a-4e2e-b889-34310da69969\",\"type\":\"BoxZoomTool\"},{\"id\":\"738c9022-77bd-484d-9f8a-92cc73ca6548\",\"type\":\"SaveTool\"},{\"id\":\"c441c366-2741-4f69-b122-212111588212\",\"type\":\"ResetTool\"},{\"id\":\"fef0e698-7882-4b0b-a30d-5dd61d1e75de\",\"type\":\"HelpTool\"}]},\"id\":\"f070131d-7565-430c-96dc-343b093f1c5c\",\"type\":\"Toolbar\"},{\"attributes\":{\"overlay\":{\"id\":\"00710130-bb43-4202-9fa1-b049c9df32c5\",\"type\":\"BoxAnnotation\"}},\"id\":\"a2b8d6dd-8db0-4605-a829-3d11dfd7e27a\",\"type\":\"BoxZoomTool\"},{\"attributes\":{\"callback\":null,\"column_names\":[\"x\",\"y\"],\"data\":{\"x\":{\"__ndarray__\":\"h8Woa+39wD+72YRTnRCFPxcNDdOUp3s/5OQPWAqgVz9UO3hrdmtsv+qwBErxjn+/DJoSIHUBiL/DHG+4sOqPv/NEf4Q7+ZO/SoIzovsMmL9edMMA07Ocv1HMyMAE5aC/Qw4FxAgHpL8hqnSgHD+pv2fzf+FxXq+/ZfmAYXW7sL/kuGrWzVCvv2zdKcTzt6y/nqvbEEsZp7/Et/z8AVOXv8zvnHxmiJQ/eftaNPDlvT9X/VsTHCjRPweMP5tmC9E/NOgZNT4Xwz9WODjHb8C0P5BgGu5y/aY/dtg69LqemD+i3zbUoTOKP/pWXogSOno/2dUNYL1NYD/bUHguMqJMv8XbGCxt2Ve/6EwIRKnwUL8WYCcOAwpTv6SeGxgNmVq/Un8yh9p2Xr+bMLUzuQlgv7OTUmt5IGS/1j8YEAvJar+oj7fSL3Vuv/sVo9DoBW2/gfvumGmbbL+y1KfSl+lsv4a2c8w/G22/D1FinnASbb96ZtAnrr5sv0fjiY6PF2y/6fIOgpoSa7829FKWAaVpv2ug3myx62e/JZMabD8YZr/G243wxFRkv55LEHVon2K/N08Dc+XNYL+6A9sar4Zdv/Nh6GPG7Fi/UvQ+2QbKU7/a/JkNmShMvxg7tfXvST+/lyInJzABDr/blxBBO646P+ZWMWyKV04/6/HxO1zaWD9/W2gRRyNiP5aKkDGsH2k/6bshZfmucD+Mt/BgLbV0P4tZk4wzfXc/JFEgFifDeD9qwWhmT4F5P3Sy9GODrHo/0a6DwfynfD8h3r1bFfN/P7N/Sgd+Y4o/\",\"dtype\":\"float64\",\"shape\":[75]},\"y\":{\"__ndarray__\":\"GhExyth1ND/Sv8nbtpRIP2vylNV0PVE/aTum7souWD/At0SJ8fVgPw3Iuahxymc/MSNhhJWvcD/bTfBN02d3P2zb5nxnaoA/CD5h5MAGhz8NmeH1TyaQP+zrCsc9p5Y/LbKd76fGnz/bLW5ISEmmPww9YvTcQq8/JV2OstnstT8Er5Y7M8G+P0c+r3jqkcU/5h99k6ZBzj88bCIzFzjVP4enV8oyxN0//yH99nXg5D8qOpLLf0jtP5kqGJXUifQ/c9cS8kHP/D+/DpwzojQEQIEmwoanVwxA4lgXt9HgE0BSSZ2AJuIbQAMJih9jjiNA5q4l5INuK0AwTKYKRj0zQNv5fmq8/DpAaCJseHrtQkB/+zpwzoxKQM3MzMzMeFJAZmZmZmZqWEAAAAAAAFxeQM3MzMzMJmJAmpmZmZkfZUBmZmZmZhhoQDMzMzMzEWtAAAAAAAAKbkBmZmZmZoFwQM3MzMzM/XFAMzMzMzN6c0CamZmZmfZ0QAAAAAAAc3ZAZmZmZmbvd0DNzMzMzGt5QDMzMzMz6HpAmpmZmZlkfEAAAAAAAOF9QGZmZmZmXX9AZmZmZuZsgECamZmZGSuBQM3MzMxM6YFAAAAAAICngkAzMzMzs2WDQGZmZmbmI4RAmpmZmRnihEDNzMzMTKCFQAAAAACAXoZAMzMzM7Mch0BmZmZm5tqHQJqZmZkZmYhAzczMzExXiUAAAAAAgBWKQDMzMzOz04pAZmZmZuaRi0CamZmZGVCMQM3MzMxMDo1AAAAAAIDMjUAzMzMzs4qOQGZmZmbmSI9A\",\"dtype\":\"float64\",\"shape\":[75]}}},\"id\":\"365614f4-01d3-4c66-9245-884ed1288ba8\",\"type\":\"ColumnDataSource\"},{\"attributes\":{},\"id\":\"efc794d3-4f32-4e9f-b19f-851b2dee5d4b\",\"type\":\"LinearScale\"},{\"attributes\":{\"below\":[{\"id\":\"8c69f182-ef09-4913-b8fb-43b714ea2646\",\"type\":\"LinearAxis\"}],\"left\":[{\"id\":\"0b462e20-462b-4501-b1a1-9f769a278ccb\",\"type\":\"LinearAxis\"}],\"plot_height\":500,\"plot_width\":400,\"renderers\":[{\"id\":\"8c69f182-ef09-4913-b8fb-43b714ea2646\",\"type\":\"LinearAxis\"},{\"id\":\"663991c7-fc58-4b0f-99b0-751347b61e71\",\"type\":\"Grid\"},{\"id\":\"0b462e20-462b-4501-b1a1-9f769a278ccb\",\"type\":\"LinearAxis\"},{\"id\":\"6b0eea5f-771e-467a-8dbe-46225848e8b5\",\"type\":\"Grid\"},{\"id\":\"00710130-bb43-4202-9fa1-b049c9df32c5\",\"type\":\"BoxAnnotation\"},{\"id\":\"bbae14b3-33f6-4de6-829c-d0e4ed302ac1\",\"type\":\"GlyphRenderer\"},{\"id\":\"0f0203df-bfb4-456a-bd93-de0e31642cb1\",\"type\":\"GlyphRenderer\"},{\"id\":\"6f4c92b0-2367-4674-aa07-0741200ae234\",\"type\":\"GlyphRenderer\"},{\"id\":\"4c0a467d-f245-42a7-9b1f-253bb9686b64\",\"type\":\"GlyphRenderer\"},{\"id\":\"b7b91e7a-0d73-4024-a61c-cfe989dfdf32\",\"type\":\"GlyphRenderer\"}],\"title\":{\"id\":\"d90f1fd5-72f7-409c-a8a2-82b4768cd72e\",\"type\":\"Title\"},\"toolbar\":{\"id\":\"3953ebe0-3d47-43ab-af3d-692c37918d45\",\"type\":\"Toolbar\"},\"toolbar_location\":null,\"x_range\":{\"id\":\"5f8ca0ea-2097-42fd-802c-31237a3bdebd\",\"type\":\"Range1d\"},\"x_scale\":{\"id\":\"efc794d3-4f32-4e9f-b19f-851b2dee5d4b\",\"type\":\"LinearScale\"},\"y_range\":{\"id\":\"7930ca06-2086-40a7-a548-aaf3571573aa\",\"type\":\"Range1d\"},\"y_scale\":{\"id\":\"25761ed0-5b4d-4af8-9861-d80683386f8c\",\"type\":\"LinearScale\"}},\"id\":\"7a34ace6-9eeb-4576-80a6-75d2f8159276\",\"subtype\":\"Figure\",\"type\":\"Plot\"},{\"attributes\":{\"axis_label\":\"pressure [mb]\",\"formatter\":{\"id\":\"693a43fa-548a-4efe-8937-1acf0f37b15f\",\"type\":\"LogTickFormatter\"},\"plot\":{\"id\":\"5542b98d-e6ad-491f-ad3f-adac2855c88e\",\"subtype\":\"Figure\",\"type\":\"Plot\"},\"ticker\":{\"id\":\"923d8b79-ce4f-4e9b-a49c-9c0ffd6118a4\",\"type\":\"LogTicker\"}},\"id\":\"1ff137f9-b676-4b17-b712-45b3aa79d50f\",\"type\":\"LogAxis\"},{\"attributes\":{\"source\":{\"id\":\"573afdc3-28b5-423b-ae5d-464bfcb70fac\",\"type\":\"ColumnDataSource\"}},\"id\":\"403c213c-6ed1-495c-bc15-0aa930ddc18c\",\"type\":\"CDSView\"},{\"attributes\":{\"line_color\":\"#4daf4a\",\"line_width\":1.5,\"x\":{\"field\":\"x\"},\"y\":{\"field\":\"y\"}},\"id\":\"9531a99a-4c7c-4909-9f1f-77630168244c\",\"type\":\"Line\"},{\"attributes\":{\"fill_alpha\":{\"value\":0.7},\"fill_color\":{\"value\":\"#4daf4a\"},\"line_alpha\":{\"value\":0.7},\"line_color\":{\"value\":\"#4daf4a\"},\"x\":{\"field\":\"x\"},\"y\":{\"field\":\"y\"}},\"id\":\"5431aa12-36fe-47ba-b8a1-d4e15e6a75c7\",\"type\":\"Circle\"},{\"attributes\":{},\"id\":\"2dec50b3-7370-4500-916e-4b5d6c740398\",\"type\":\"LinearScale\"},{\"attributes\":{\"callback\":null,\"column_names\":[\"x\",\"y\"],\"data\":{\"x\":{\"__ndarray__\":\"h8Woa+39wD+72YRTnRCFPxcNDdOUp3s/5OQPWAqgVz9UO3hrdmtsv+qwBErxjn+/DJoSIHUBiL/DHG+4sOqPv/NEf4Q7+ZO/SoIzovsMmL9edMMA07Ocv1HMyMAE5aC/Qw4FxAgHpL8hqnSgHD+pv2fzf+FxXq+/ZfmAYXW7sL/kuGrWzVCvv2zdKcTzt6y/nqvbEEsZp7/Et/z8AVOXv8zvnHxmiJQ/eftaNPDlvT9X/VsTHCjRPweMP5tmC9E/NOgZNT4Xwz9WODjHb8C0P5BgGu5y/aY/dtg69LqemD+i3zbUoTOKP/pWXogSOno/2dUNYL1NYD/bUHguMqJMv8XbGCxt2Ve/6EwIRKnwUL8WYCcOAwpTv6SeGxgNmVq/Un8yh9p2Xr+bMLUzuQlgv7OTUmt5IGS/1j8YEAvJar+oj7fSL3Vuv/sVo9DoBW2/gfvumGmbbL+y1KfSl+lsv4a2c8w/G22/D1FinnASbb96ZtAnrr5sv0fjiY6PF2y/6fIOgpoSa7829FKWAaVpv2ug3myx62e/JZMabD8YZr/G243wxFRkv55LEHVon2K/N08Dc+XNYL+6A9sar4Zdv/Nh6GPG7Fi/UvQ+2QbKU7/a/JkNmShMvxg7tfXvST+/lyInJzABDr/blxBBO646P+ZWMWyKV04/6/HxO1zaWD9/W2gRRyNiP5aKkDGsH2k/6bshZfmucD+Mt/BgLbV0P4tZk4wzfXc/JFEgFifDeD9qwWhmT4F5P3Sy9GODrHo/0a6DwfynfD8h3r1bFfN/P7N/Sgd+Y4o/\",\"dtype\":\"float64\",\"shape\":[75]},\"y\":{\"__ndarray__\":\"GhExyth1ND/Sv8nbtpRIP2vylNV0PVE/aTum7souWD/At0SJ8fVgPw3Iuahxymc/MSNhhJWvcD/bTfBN02d3P2zb5nxnaoA/CD5h5MAGhz8NmeH1TyaQP+zrCsc9p5Y/LbKd76fGnz/bLW5ISEmmPww9YvTcQq8/JV2OstnstT8Er5Y7M8G+P0c+r3jqkcU/5h99k6ZBzj88bCIzFzjVP4enV8oyxN0//yH99nXg5D8qOpLLf0jtP5kqGJXUifQ/c9cS8kHP/D+/DpwzojQEQIEmwoanVwxA4lgXt9HgE0BSSZ2AJuIbQAMJih9jjiNA5q4l5INuK0AwTKYKRj0zQNv5fmq8/DpAaCJseHrtQkB/+zpwzoxKQM3MzMzMeFJAZmZmZmZqWEAAAAAAAFxeQM3MzMzMJmJAmpmZmZkfZUBmZmZmZhhoQDMzMzMzEWtAAAAAAAAKbkBmZmZmZoFwQM3MzMzM/XFAMzMzMzN6c0CamZmZmfZ0QAAAAAAAc3ZAZmZmZmbvd0DNzMzMzGt5QDMzMzMz6HpAmpmZmZlkfEAAAAAAAOF9QGZmZmZmXX9AZmZmZuZsgECamZmZGSuBQM3MzMxM6YFAAAAAAICngkAzMzMzs2WDQGZmZmbmI4RAmpmZmRnihEDNzMzMTKCFQAAAAACAXoZAMzMzM7Mch0BmZmZm5tqHQJqZmZkZmYhAzczMzExXiUAAAAAAgBWKQDMzMzOz04pAZmZmZuaRi0CamZmZGVCMQM3MzMxMDo1AAAAAAIDMjUAzMzMzs4qOQGZmZmbmSI9A\",\"dtype\":\"float64\",\"shape\":[75]}}},\"id\":\"00b38b52-0b45-492b-b8ea-dd03fa83eaf8\",\"type\":\"ColumnDataSource\"},{\"attributes\":{\"active_drag\":\"auto\",\"active_inspect\":\"auto\",\"active_scroll\":\"auto\",\"active_tap\":\"auto\",\"tools\":[{\"id\":\"eb0ff941-b9c7-4e69-9c48-1c3f3d78b03b\",\"type\":\"PanTool\"},{\"id\":\"05b5d068-5798-4e0c-94f3-fafd921d6b87\",\"type\":\"WheelZoomTool\"},{\"id\":\"a2b8d6dd-8db0-4605-a829-3d11dfd7e27a\",\"type\":\"BoxZoomTool\"},{\"id\":\"fcee549c-00fc-4968-9fba-14f37870fa6d\",\"type\":\"SaveTool\"},{\"id\":\"f15958a3-1674-4f16-9b83-865c751f8a8f\",\"type\":\"ResetTool\"},{\"id\":\"9839cfc8-a39a-4678-8ecd-fbcde07ebc54\",\"type\":\"HelpTool\"}]},\"id\":\"3953ebe0-3d47-43ab-af3d-692c37918d45\",\"type\":\"Toolbar\"},{\"attributes\":{},\"id\":\"30a4cdd9-4301-472c-8dfa-46f143fc53c0\",\"type\":\"BasicTickFormatter\"},{\"attributes\":{\"axis_label\":\"cooling rate [K/day]\",\"formatter\":{\"id\":\"28b1fd45-66a7-42cd-bd14-121e09aec617\",\"type\":\"BasicTickFormatter\"},\"plot\":{\"id\":\"7a34ace6-9eeb-4576-80a6-75d2f8159276\",\"subtype\":\"Figure\",\"type\":\"Plot\"},\"ticker\":{\"id\":\"49260be2-bd53-4bff-88ab-f213b92648a9\",\"type\":\"BasicTicker\"}},\"id\":\"8c69f182-ef09-4913-b8fb-43b714ea2646\",\"type\":\"LinearAxis\"},{\"attributes\":{\"num_minor_ticks\":10},\"id\":\"923d8b79-ce4f-4e9b-a49c-9c0ffd6118a4\",\"type\":\"LogTicker\"},{\"attributes\":{\"plot\":null,\"text\":\"Linear pressure scale\"},\"id\":\"d90f1fd5-72f7-409c-a8a2-82b4768cd72e\",\"type\":\"Title\"},{\"attributes\":{\"fill_alpha\":{\"value\":0.1},\"fill_color\":{\"value\":\"#1f77b4\"},\"line_alpha\":{\"value\":0.1},\"line_color\":{\"value\":\"#1f77b4\"},\"x\":{\"field\":\"x\"},\"y\":{\"field\":\"y\"}},\"id\":\"aaf833dc-0c4b-4df3-ac4c-9070eb99adb1\",\"type\":\"Circle\"},{\"attributes\":{\"plot\":{\"id\":\"5542b98d-e6ad-491f-ad3f-adac2855c88e\",\"subtype\":\"Figure\",\"type\":\"Plot\"},\"ticker\":{\"id\":\"fd7a1b93-7751-42cf-8fd2-79a98698936a\",\"type\":\"BasicTicker\"}},\"id\":\"6a84361a-0b2b-4453-bff0-a8e26be3c5f3\",\"type\":\"Grid\"},{\"attributes\":{\"callback\":null,\"column_names\":[\"x\",\"y\"],\"data\":{\"x\":{\"__ndarray__\":\"h8Woa+39wD+72YRTnRCFPxcNDdOUp3s/5OQPWAqgVz9UO3hrdmtsv+qwBErxjn+/DJoSIHUBiL/DHG+4sOqPv/NEf4Q7+ZO/SoIzovsMmL9edMMA07Ocv1HMyMAE5aC/Qw4FxAgHpL8hqnSgHD+pv2fzf+FxXq+/ZfmAYXW7sL/kuGrWzVCvv2zdKcTzt6y/nqvbEEsZp7/Et/z8AVOXv8zvnHxmiJQ/eftaNPDlvT9X/VsTHCjRPweMP5tmC9E/NOgZNT4Xwz9WODjHb8C0P5BgGu5y/aY/dtg69LqemD+i3zbUoTOKP/pWXogSOno/2dUNYL1NYD/bUHguMqJMv8XbGCxt2Ve/6EwIRKnwUL8WYCcOAwpTv6SeGxgNmVq/Un8yh9p2Xr+bMLUzuQlgv7OTUmt5IGS/1j8YEAvJar+oj7fSL3Vuv/sVo9DoBW2/gfvumGmbbL+y1KfSl+lsv4a2c8w/G22/D1FinnASbb96ZtAnrr5sv0fjiY6PF2y/6fIOgpoSa7829FKWAaVpv2ug3myx62e/JZMabD8YZr/G243wxFRkv55LEHVon2K/N08Dc+XNYL+6A9sar4Zdv/Nh6GPG7Fi/UvQ+2QbKU7/a/JkNmShMvxg7tfXvST+/lyInJzABDr/blxBBO646P+ZWMWyKV04/6/HxO1zaWD9/W2gRRyNiP5aKkDGsH2k/6bshZfmucD+Mt/BgLbV0P4tZk4wzfXc/JFEgFifDeD9qwWhmT4F5P3Sy9GODrHo/0a6DwfynfD8h3r1bFfN/P7N/Sgd+Y4o/\",\"dtype\":\"float64\",\"shape\":[75]},\"y\":{\"__ndarray__\":\"GhExyth1ND/Sv8nbtpRIP2vylNV0PVE/aTum7souWD/At0SJ8fVgPw3Iuahxymc/MSNhhJWvcD/bTfBN02d3P2zb5nxnaoA/CD5h5MAGhz8NmeH1TyaQP+zrCsc9p5Y/LbKd76fGnz/bLW5ISEmmPww9YvTcQq8/JV2OstnstT8Er5Y7M8G+P0c+r3jqkcU/5h99k6ZBzj88bCIzFzjVP4enV8oyxN0//yH99nXg5D8qOpLLf0jtP5kqGJXUifQ/c9cS8kHP/D+/DpwzojQEQIEmwoanVwxA4lgXt9HgE0BSSZ2AJuIbQAMJih9jjiNA5q4l5INuK0AwTKYKRj0zQNv5fmq8/DpAaCJseHrtQkB/+zpwzoxKQM3MzMzMeFJAZmZmZmZqWEAAAAAAAFxeQM3MzMzMJmJAmpmZmZkfZUBmZmZmZhhoQDMzMzMzEWtAAAAAAAAKbkBmZmZmZoFwQM3MzMzM/XFAMzMzMzN6c0CamZmZmfZ0QAAAAAAAc3ZAZmZmZmbvd0DNzMzMzGt5QDMzMzMz6HpAmpmZmZlkfEAAAAAAAOF9QGZmZmZmXX9AZmZmZuZsgECamZmZGSuBQM3MzMxM6YFAAAAAAICngkAzMzMzs2WDQGZmZmbmI4RAmpmZmRnihEDNzMzMTKCFQAAAAACAXoZAMzMzM7Mch0BmZmZm5tqHQJqZmZkZmYhAzczMzExXiUAAAAAAgBWKQDMzMzOz04pAZmZmZuaRi0CamZmZGVCMQM3MzMxMDo1AAAAAAIDMjUAzMzMzs4qOQGZmZmbmSI9A\",\"dtype\":\"float64\",\"shape\":[75]}}},\"id\":\"b28d13e3-9b15-45f6-9a88-ef63baa7478c\",\"type\":\"ColumnDataSource\"},{\"attributes\":{\"axis_label\":\"cooling rate [K/day]\",\"formatter\":{\"id\":\"db7a57a1-cdf2-4f4f-9097-447fefd8c6a6\",\"type\":\"BasicTickFormatter\"},\"plot\":{\"id\":\"5542b98d-e6ad-491f-ad3f-adac2855c88e\",\"subtype\":\"Figure\",\"type\":\"Plot\"},\"ticker\":{\"id\":\"fd7a1b93-7751-42cf-8fd2-79a98698936a\",\"type\":\"BasicTicker\"}},\"id\":\"20ab7357-47cc-4a41-9e4e-f5fc4a5473d5\",\"type\":\"LinearAxis\"},{\"attributes\":{},\"id\":\"32fa3e73-b162-44da-b29f-4d3b76953a65\",\"type\":\"LogScale\"},{\"attributes\":{\"line_alpha\":0.1,\"line_color\":\"#1f77b4\",\"line_width\":3,\"x\":{\"field\":\"x\"},\"y\":{\"field\":\"y\"}},\"id\":\"492f7303-f398-47e4-9577-bc92ba6eaabe\",\"type\":\"Line\"},{\"attributes\":{\"callback\":null,\"column_names\":[\"x\",\"y\"],\"data\":{\"x\":{\"__ndarray__\":\"+Vk7tm2Ryz+ICxWimjCOP1qZBL6J+vO+00ILrxR4hL8I7YsR4DOQv/Ma5v2F3ZK/gPghjHU2lL8vPFtr2/+Vv6UVF+XJg5i/ZplRHag2nL87UxvI4pigv6Fjr6Kmu6O/kYBQ4JPvpr81STumNvatv1ruBy586rG/Xc3D6uYksr9gCUJzKGqvv8UqCMXHaqq/chE5K8Evor/3qtDsKTx9v1lYVw0w3aU/IDXX+GN/wT+IA8V+VRbRP47Ntadq9NA/0imKgw4Axj8MPHYGOFa/P7DP3hTNKbY/9W4tn8MOqz/Vak2hYQWYP88k00lTjXM/2Y8ztKxbcr/2JBlr6rZqv2M6Jp99+VC/uGtdY1a8Bj8U3bYB/K0dvzjuz+uejUa/RtmUxNdcUL9VWkScxrNUvwqIWIbffF+/kqcEoHWKaL/hExq0wVJsv2GzN/DaKmm/g2B2eax7Z7/WdK1zNPxkv+SndfZR82K/8qp576eBYb8Yv0PYB81fv+kLgWUrLV2/ysw+UcHwWr/OZV0B1atWv5SQujHk9FS/i1GniCOUUb9Aw0BUGCRRv/mRzrbmZFC/AHdM0lcST78jhD6YR4pMv1NHagvcBUm/yjLQGpq1RL8sUqiS2Ds+v7oK7AyuCTG/O77o8o7jAL/60Vw7ZFYuP9xAweeuS0Q/HiTzU4xtUD/wjAbgQHVXP8ytA37NPGE/jtsmeqQfaD/I/NiwIOpuP4gO8HIyb3E/EPtxTuqTcT+R7LtEvCFxP4juy0zOPXE/lDalCZtDcj9AbW2Ed111P/8V2OhzrYc/\",\"dtype\":\"float64\",\"shape\":[75]},\"y\":{\"__ndarray__\":\"GhExyth1ND/Sv8nbtpRIP2vylNV0PVE/aTum7souWD/At0SJ8fVgPw3Iuahxymc/MSNhhJWvcD/bTfBN02d3P2zb5nxnaoA/CD5h5MAGhz8NmeH1TyaQP+zrCsc9p5Y/LbKd76fGnz/bLW5ISEmmPww9YvTcQq8/JV2OstnstT8Er5Y7M8G+P0c+r3jqkcU/5h99k6ZBzj88bCIzFzjVP4enV8oyxN0//yH99nXg5D8qOpLLf0jtP5kqGJXUifQ/c9cS8kHP/D+/DpwzojQEQIEmwoanVwxA4lgXt9HgE0BSSZ2AJuIbQAMJih9jjiNA5q4l5INuK0AwTKYKRj0zQNv5fmq8/DpAaCJseHrtQkB/+zpwzoxKQM3MzMzMeFJAZmZmZmZqWEAAAAAAAFxeQM3MzMzMJmJAmpmZmZkfZUBmZmZmZhhoQDMzMzMzEWtAAAAAAAAKbkBmZmZmZoFwQM3MzMzM/XFAMzMzMzN6c0CamZmZmfZ0QAAAAAAAc3ZAZmZmZmbvd0DNzMzMzGt5QDMzMzMz6HpAmpmZmZlkfEAAAAAAAOF9QGZmZmZmXX9AZmZmZuZsgECamZmZGSuBQM3MzMxM6YFAAAAAAICngkAzMzMzs2WDQGZmZmbmI4RAmpmZmRnihEDNzMzMTKCFQAAAAACAXoZAMzMzM7Mch0BmZmZm5tqHQJqZmZkZmYhAzczMzExXiUAAAAAAgBWKQDMzMzOz04pAZmZmZuaRi0CamZmZGVCMQM3MzMxMDo1AAAAAAIDMjUAzMzMzs4qOQGZmZmbmSI9A\",\"dtype\":\"float64\",\"shape\":[75]}}},\"id\":\"8ae07546-ae31-4096-88b1-b8189cb3d494\",\"type\":\"ColumnDataSource\"},{\"attributes\":{\"children\":[{\"id\":\"3a87b3a6-4ef8-46a0-9a51-a6ae5c639b5a\",\"type\":\"Row\"}]},\"id\":\"f69ff013-88e5-4cf3-96ff-661c4b1a1a2d\",\"type\":\"Column\"},{\"attributes\":{\"fill_alpha\":{\"value\":0.1},\"fill_color\":{\"value\":\"#1f77b4\"},\"line_alpha\":{\"value\":0.1},\"line_color\":{\"value\":\"#1f77b4\"},\"x\":{\"field\":\"x\"},\"y\":{\"field\":\"y\"}},\"id\":\"166a521f-6a82-4095-a0a6-9f8b316da171\",\"type\":\"Square\"},{\"attributes\":{\"source\":{\"id\":\"5d541473-efae-4933-8337-674db50e7953\",\"type\":\"ColumnDataSource\"}},\"id\":\"91ea53cb-7110-40de-a900-0f6d472f1846\",\"type\":\"CDSView\"},{\"attributes\":{},\"id\":\"fd7a1b93-7751-42cf-8fd2-79a98698936a\",\"type\":\"BasicTicker\"},{\"attributes\":{\"source\":{\"id\":\"b28d13e3-9b15-45f6-9a88-ef63baa7478c\",\"type\":\"ColumnDataSource\"}},\"id\":\"0758f5ba-10c4-48bf-80f8-a942af12b0a4\",\"type\":\"CDSView\"},{\"attributes\":{\"line_alpha\":0.1,\"line_color\":\"#1f77b4\",\"line_width\":1.5,\"x\":{\"field\":\"x\"},\"y\":{\"field\":\"y\"}},\"id\":\"b64fefe7-013f-4055-8f41-7a9135904263\",\"type\":\"Line\"},{\"attributes\":{\"fill_alpha\":{\"value\":0.1},\"fill_color\":{\"value\":\"#1f77b4\"},\"line_alpha\":{\"value\":0.1},\"line_color\":{\"value\":\"#1f77b4\"},\"x\":{\"field\":\"x\"},\"y\":{\"field\":\"y\"}},\"id\":\"eb350b40-2836-472f-90d8-bb5f8baaa30e\",\"type\":\"Circle\"},{\"attributes\":{\"bottom_units\":\"screen\",\"fill_alpha\":{\"value\":0.5},\"fill_color\":{\"value\":\"lightgrey\"},\"left_units\":\"screen\",\"level\":\"overlay\",\"line_alpha\":{\"value\":1.0},\"line_color\":{\"value\":\"black\"},\"line_dash\":[4,4],\"line_width\":{\"value\":2},\"plot\":null,\"render_mode\":\"css\",\"right_units\":\"screen\",\"top_units\":\"screen\"},\"id\":\"e9a46804-2f7b-457a-9502-91b43e2d73ff\",\"type\":\"BoxAnnotation\"},{\"attributes\":{\"data_source\":{\"id\":\"573afdc3-28b5-423b-ae5d-464bfcb70fac\",\"type\":\"ColumnDataSource\"},\"glyph\":{\"id\":\"2f9a948a-256c-441d-91bc-686e37658506\",\"type\":\"Line\"},\"hover_glyph\":null,\"muted_glyph\":null,\"nonselection_glyph\":{\"id\":\"322eb982-51ee-47a4-b019-c674049d5c0a\",\"type\":\"Line\"},\"selection_glyph\":null,\"view\":{\"id\":\"403c213c-6ed1-495c-bc15-0aa930ddc18c\",\"type\":\"CDSView\"}},\"id\":\"bbae14b3-33f6-4de6-829c-d0e4ed302ac1\",\"type\":\"GlyphRenderer\"},{\"attributes\":{},\"id\":\"96966d05-1778-43b5-9f46-28f6092d7af5\",\"type\":\"PanTool\"},{\"attributes\":{\"data_source\":{\"id\":\"00b38b52-0b45-492b-b8ea-dd03fa83eaf8\",\"type\":\"ColumnDataSource\"},\"glyph\":{\"id\":\"9531a99a-4c7c-4909-9f1f-77630168244c\",\"type\":\"Line\"},\"hover_glyph\":null,\"muted_glyph\":null,\"nonselection_glyph\":{\"id\":\"ad67e2a5-6065-40be-bccd-4e336d198302\",\"type\":\"Line\"},\"selection_glyph\":null,\"view\":{\"id\":\"1f57fd17-d5aa-485a-acb0-ec5785764484\",\"type\":\"CDSView\"}},\"id\":\"6f4c92b0-2367-4674-aa07-0741200ae234\",\"type\":\"GlyphRenderer\"},{\"attributes\":{},\"id\":\"9d1ac98e-b2f2-407c-8055-2f077acfd772\",\"type\":\"WheelZoomTool\"},{\"attributes\":{\"callback\":null,\"column_names\":[\"x\",\"y\"],\"data\":{\"x\":{\"__ndarray__\":\"h8Woa+39wD+72YRTnRCFPxcNDdOUp3s/5OQPWAqgVz9UO3hrdmtsv+qwBErxjn+/DJoSIHUBiL/DHG+4sOqPv/NEf4Q7+ZO/SoIzovsMmL9edMMA07Ocv1HMyMAE5aC/Qw4FxAgHpL8hqnSgHD+pv2fzf+FxXq+/ZfmAYXW7sL/kuGrWzVCvv2zdKcTzt6y/nqvbEEsZp7/Et/z8AVOXv8zvnHxmiJQ/eftaNPDlvT9X/VsTHCjRPweMP5tmC9E/NOgZNT4Xwz9WODjHb8C0P5BgGu5y/aY/dtg69LqemD+i3zbUoTOKP/pWXogSOno/2dUNYL1NYD/bUHguMqJMv8XbGCxt2Ve/6EwIRKnwUL8WYCcOAwpTv6SeGxgNmVq/Un8yh9p2Xr+bMLUzuQlgv7OTUmt5IGS/1j8YEAvJar+oj7fSL3Vuv/sVo9DoBW2/gfvumGmbbL+y1KfSl+lsv4a2c8w/G22/D1FinnASbb96ZtAnrr5sv0fjiY6PF2y/6fIOgpoSa7829FKWAaVpv2ug3myx62e/JZMabD8YZr/G243wxFRkv55LEHVon2K/N08Dc+XNYL+6A9sar4Zdv/Nh6GPG7Fi/UvQ+2QbKU7/a/JkNmShMvxg7tfXvST+/lyInJzABDr/blxBBO646P+ZWMWyKV04/6/HxO1zaWD9/W2gRRyNiP5aKkDGsH2k/6bshZfmucD+Mt/BgLbV0P4tZk4wzfXc/JFEgFifDeD9qwWhmT4F5P3Sy9GODrHo/0a6DwfynfD8h3r1bFfN/P7N/Sgd+Y4o/\",\"dtype\":\"float64\",\"shape\":[75]},\"y\":{\"__ndarray__\":\"GhExyth1ND/Sv8nbtpRIP2vylNV0PVE/aTum7souWD/At0SJ8fVgPw3Iuahxymc/MSNhhJWvcD/bTfBN02d3P2zb5nxnaoA/CD5h5MAGhz8NmeH1TyaQP+zrCsc9p5Y/LbKd76fGnz/bLW5ISEmmPww9YvTcQq8/JV2OstnstT8Er5Y7M8G+P0c+r3jqkcU/5h99k6ZBzj88bCIzFzjVP4enV8oyxN0//yH99nXg5D8qOpLLf0jtP5kqGJXUifQ/c9cS8kHP/D+/DpwzojQEQIEmwoanVwxA4lgXt9HgE0BSSZ2AJuIbQAMJih9jjiNA5q4l5INuK0AwTKYKRj0zQNv5fmq8/DpAaCJseHrtQkB/+zpwzoxKQM3MzMzMeFJAZmZmZmZqWEAAAAAAAFxeQM3MzMzMJmJAmpmZmZkfZUBmZmZmZhhoQDMzMzMzEWtAAAAAAAAKbkBmZmZmZoFwQM3MzMzM/XFAMzMzMzN6c0CamZmZmfZ0QAAAAAAAc3ZAZmZmZmbvd0DNzMzMzGt5QDMzMzMz6HpAmpmZmZlkfEAAAAAAAOF9QGZmZmZmXX9AZmZmZuZsgECamZmZGSuBQM3MzMxM6YFAAAAAAICngkAzMzMzs2WDQGZmZmbmI4RAmpmZmRnihEDNzMzMTKCFQAAAAACAXoZAMzMzM7Mch0BmZmZm5tqHQJqZmZkZmYhAzczMzExXiUAAAAAAgBWKQDMzMzOz04pAZmZmZuaRi0CamZmZGVCMQM3MzMxMDo1AAAAAAIDMjUAzMzMzs4qOQGZmZmbmSI9A\",\"dtype\":\"float64\",\"shape\":[75]}}},\"id\":\"ddc5ada9-8461-489c-8515-c922899651be\",\"type\":\"ColumnDataSource\"},{\"attributes\":{\"below\":[{\"id\":\"20ab7357-47cc-4a41-9e4e-f5fc4a5473d5\",\"type\":\"LinearAxis\"}],\"left\":[{\"id\":\"1ff137f9-b676-4b17-b712-45b3aa79d50f\",\"type\":\"LogAxis\"}],\"plot_height\":500,\"plot_width\":560,\"renderers\":[{\"id\":\"20ab7357-47cc-4a41-9e4e-f5fc4a5473d5\",\"type\":\"LinearAxis\"},{\"id\":\"6a84361a-0b2b-4453-bff0-a8e26be3c5f3\",\"type\":\"Grid\"},{\"id\":\"1ff137f9-b676-4b17-b712-45b3aa79d50f\",\"type\":\"LogAxis\"},{\"id\":\"d666c2f6-1c44-45a6-a20a-ed115189d17f\",\"type\":\"Grid\"},{\"id\":\"e9a46804-2f7b-457a-9502-91b43e2d73ff\",\"type\":\"BoxAnnotation\"},{\"id\":\"182d9e82-4fc7-4a5a-81e6-6c67d26ff8e0\",\"type\":\"GlyphRenderer\"},{\"id\":\"781891be-8005-4a36-9517-6d574eec3918\",\"type\":\"GlyphRenderer\"},{\"id\":\"def41c39-b04a-4208-8be4-ea54e457f487\",\"type\":\"GlyphRenderer\"},{\"id\":\"0a66a0b9-3e38-4ae8-bb04-70565433118b\",\"type\":\"GlyphRenderer\"},{\"id\":\"27d724d5-f1c1-48f3-a655-2bd3a25bf806\",\"type\":\"GlyphRenderer\"},{\"id\":\"86ca674e-c442-4abe-8d95-570dfafe7933\",\"type\":\"Legend\"}],\"right\":[{\"id\":\"86ca674e-c442-4abe-8d95-570dfafe7933\",\"type\":\"Legend\"}],\"title\":{\"id\":\"cef5eb3a-6b09-435e-8caf-893ec2a1067e\",\"type\":\"Title\"},\"toolbar\":{\"id\":\"f070131d-7565-430c-96dc-343b093f1c5c\",\"type\":\"Toolbar\"},\"toolbar_location\":null,\"x_range\":{\"id\":\"5e44dfcf-261f-4f5f-a91e-a4c203261626\",\"type\":\"Range1d\"},\"x_scale\":{\"id\":\"2dec50b3-7370-4500-916e-4b5d6c740398\",\"type\":\"LinearScale\"},\"y_range\":{\"id\":\"94d44b2f-60c5-4ad5-be57-07b7d1c602d4\",\"type\":\"Range1d\"},\"y_scale\":{\"id\":\"32fa3e73-b162-44da-b29f-4d3b76953a65\",\"type\":\"LogScale\"}},\"id\":\"5542b98d-e6ad-491f-ad3f-adac2855c88e\",\"subtype\":\"Figure\",\"type\":\"Plot\"},{\"attributes\":{\"overlay\":{\"id\":\"e9a46804-2f7b-457a-9502-91b43e2d73ff\",\"type\":\"BoxAnnotation\"}},\"id\":\"be796d90-865a-4e2e-b889-34310da69969\",\"type\":\"BoxZoomTool\"},{\"attributes\":{},\"id\":\"c441c366-2741-4f69-b122-212111588212\",\"type\":\"ResetTool\"},{\"attributes\":{\"data_source\":{\"id\":\"b28d13e3-9b15-45f6-9a88-ef63baa7478c\",\"type\":\"ColumnDataSource\"},\"glyph\":{\"id\":\"93bf9099-83b7-41a1-a276-69db8abdfbb1\",\"type\":\"Circle\"},\"hover_glyph\":null,\"muted_glyph\":null,\"nonselection_glyph\":{\"id\":\"eb350b40-2836-472f-90d8-bb5f8baaa30e\",\"type\":\"Circle\"},\"selection_glyph\":null,\"view\":{\"id\":\"0758f5ba-10c4-48bf-80f8-a942af12b0a4\",\"type\":\"CDSView\"}},\"id\":\"781891be-8005-4a36-9517-6d574eec3918\",\"type\":\"GlyphRenderer\"},{\"attributes\":{},\"id\":\"fef0e698-7882-4b0b-a30d-5dd61d1e75de\",\"type\":\"HelpTool\"},{\"attributes\":{\"line_color\":\"#4daf4a\",\"line_width\":1.5,\"x\":{\"field\":\"x\"},\"y\":{\"field\":\"y\"}},\"id\":\"488d0502-bf03-4bfa-a2e1-b70b957ef45a\",\"type\":\"Line\"},{\"attributes\":{},\"id\":\"738c9022-77bd-484d-9f8a-92cc73ca6548\",\"type\":\"SaveTool\"},{\"attributes\":{\"callback\":null,\"end\":0.013051109673999998,\"start\":-0.0038840190740000004},\"id\":\"5f8ca0ea-2097-42fd-802c-31237a3bdebd\",\"type\":\"Range1d\"},{\"attributes\":{\"fill_alpha\":{\"value\":0.7},\"fill_color\":{\"value\":\"#4daf4a\"},\"line_alpha\":{\"value\":0.7},\"line_color\":{\"value\":\"#4daf4a\"},\"x\":{\"field\":\"x\"},\"y\":{\"field\":\"y\"}},\"id\":\"93bf9099-83b7-41a1-a276-69db8abdfbb1\",\"type\":\"Circle\"},{\"attributes\":{\"data_source\":{\"id\":\"ddc5ada9-8461-489c-8515-c922899651be\",\"type\":\"ColumnDataSource\"},\"glyph\":{\"id\":\"488d0502-bf03-4bfa-a2e1-b70b957ef45a\",\"type\":\"Line\"},\"hover_glyph\":null,\"muted_glyph\":null,\"nonselection_glyph\":{\"id\":\"b64fefe7-013f-4055-8f41-7a9135904263\",\"type\":\"Line\"},\"selection_glyph\":null,\"view\":{\"id\":\"830f8ea0-102d-41fa-b134-485c4eba20ce\",\"type\":\"CDSView\"}},\"id\":\"def41c39-b04a-4208-8be4-ea54e457f487\",\"type\":\"GlyphRenderer\"},{\"attributes\":{\"source\":{\"id\":\"8ae07546-ae31-4096-88b1-b8189cb3d494\",\"type\":\"ColumnDataSource\"}},\"id\":\"b09b7f0c-1fa3-4c4c-a120-d5af743412f9\",\"type\":\"CDSView\"},{\"attributes\":{\"callback\":null,\"column_names\":[\"x\",\"y\"],\"data\":{\"x\":{\"__ndarray__\":\"+Vk7tm2Ryz+ICxWimjCOP1qZBL6J+vO+00ILrxR4hL8I7YsR4DOQv/Ma5v2F3ZK/gPghjHU2lL8vPFtr2/+Vv6UVF+XJg5i/ZplRHag2nL87UxvI4pigv6Fjr6Kmu6O/kYBQ4JPvpr81STumNvatv1ruBy586rG/Xc3D6uYksr9gCUJzKGqvv8UqCMXHaqq/chE5K8Evor/3qtDsKTx9v1lYVw0w3aU/IDXX+GN/wT+IA8V+VRbRP47Ntadq9NA/0imKgw4Axj8MPHYGOFa/P7DP3hTNKbY/9W4tn8MOqz/Vak2hYQWYP88k00lTjXM/2Y8ztKxbcr/2JBlr6rZqv2M6Jp99+VC/uGtdY1a8Bj8U3bYB/K0dvzjuz+uejUa/RtmUxNdcUL9VWkScxrNUvwqIWIbffF+/kqcEoHWKaL/hExq0wVJsv2GzN/DaKmm/g2B2eax7Z7/WdK1zNPxkv+SndfZR82K/8qp576eBYb8Yv0PYB81fv+kLgWUrLV2/ysw+UcHwWr/OZV0B1atWv5SQujHk9FS/i1GniCOUUb9Aw0BUGCRRv/mRzrbmZFC/AHdM0lcST78jhD6YR4pMv1NHagvcBUm/yjLQGpq1RL8sUqiS2Ds+v7oK7AyuCTG/O77o8o7jAL/60Vw7ZFYuP9xAweeuS0Q/HiTzU4xtUD/wjAbgQHVXP8ytA37NPGE/jtsmeqQfaD/I/NiwIOpuP4gO8HIyb3E/EPtxTuqTcT+R7LtEvCFxP4juy0zOPXE/lDalCZtDcj9AbW2Ed111P/8V2OhzrYc/\",\"dtype\":\"float64\",\"shape\":[75]},\"y\":{\"__ndarray__\":\"GhExyth1ND/Sv8nbtpRIP2vylNV0PVE/aTum7souWD/At0SJ8fVgPw3Iuahxymc/MSNhhJWvcD/bTfBN02d3P2zb5nxnaoA/CD5h5MAGhz8NmeH1TyaQP+zrCsc9p5Y/LbKd76fGnz/bLW5ISEmmPww9YvTcQq8/JV2OstnstT8Er5Y7M8G+P0c+r3jqkcU/5h99k6ZBzj88bCIzFzjVP4enV8oyxN0//yH99nXg5D8qOpLLf0jtP5kqGJXUifQ/c9cS8kHP/D+/DpwzojQEQIEmwoanVwxA4lgXt9HgE0BSSZ2AJuIbQAMJih9jjiNA5q4l5INuK0AwTKYKRj0zQNv5fmq8/DpAaCJseHrtQkB/+zpwzoxKQM3MzMzMeFJAZmZmZmZqWEAAAAAAAFxeQM3MzMzMJmJAmpmZmZkfZUBmZmZmZhhoQDMzMzMzEWtAAAAAAAAKbkBmZmZmZoFwQM3MzMzM/XFAMzMzMzN6c0CamZmZmfZ0QAAAAAAAc3ZAZmZmZmbvd0DNzMzMzGt5QDMzMzMz6HpAmpmZmZlkfEAAAAAAAOF9QGZmZmZmXX9AZmZmZuZsgECamZmZGSuBQM3MzMxM6YFAAAAAAICngkAzMzMzs2WDQGZmZmbmI4RAmpmZmRnihEDNzMzMTKCFQAAAAACAXoZAMzMzM7Mch0BmZmZm5tqHQJqZmZkZmYhAzczMzExXiUAAAAAAgBWKQDMzMzOz04pAZmZmZuaRi0CamZmZGVCMQM3MzMxMDo1AAAAAAIDMjUAzMzMzs4qOQGZmZmbmSI9A\",\"dtype\":\"float64\",\"shape\":[75]}}},\"id\":\"f678815a-6da8-44b6-95c4-7e013490f2be\",\"type\":\"ColumnDataSource\"},{\"attributes\":{\"children\":[{\"id\":\"7a34ace6-9eeb-4576-80a6-75d2f8159276\",\"subtype\":\"Figure\",\"type\":\"Plot\"},{\"id\":\"5542b98d-e6ad-491f-ad3f-adac2855c88e\",\"subtype\":\"Figure\",\"type\":\"Plot\"}]},\"id\":\"3a87b3a6-4ef8-46a0-9a51-a6ae5c639b5a\",\"type\":\"Row\"},{\"attributes\":{\"source\":{\"id\":\"ddc5ada9-8461-489c-8515-c922899651be\",\"type\":\"ColumnDataSource\"}},\"id\":\"830f8ea0-102d-41fa-b134-485c4eba20ce\",\"type\":\"CDSView\"},{\"attributes\":{\"fill_alpha\":{\"value\":0.7},\"fill_color\":{\"value\":\"#984ea3\"},\"line_alpha\":{\"value\":0.7},\"line_color\":{\"value\":\"#984ea3\"},\"x\":{\"field\":\"x\"},\"y\":{\"field\":\"y\"}},\"id\":\"71ebef46-2b2a-4965-b89d-739ed5bfca38\",\"type\":\"Square\"},{\"attributes\":{\"line_alpha\":0.1,\"line_color\":\"#1f77b4\",\"line_width\":1.5,\"x\":{\"field\":\"x\"},\"y\":{\"field\":\"y\"}},\"id\":\"ad67e2a5-6065-40be-bccd-4e336d198302\",\"type\":\"Line\"},{\"attributes\":{\"line_alpha\":0.6,\"line_color\":\"#984ea3\",\"line_width\":3,\"x\":{\"field\":\"x\"},\"y\":{\"field\":\"y\"}},\"id\":\"bcf9b3e8-7937-407a-b607-cef0aaa34394\",\"type\":\"Line\"},{\"attributes\":{\"source\":{\"id\":\"f678815a-6da8-44b6-95c4-7e013490f2be\",\"type\":\"ColumnDataSource\"}},\"id\":\"08c7d2be-d22e-4adf-a2b6-6bed63941e36\",\"type\":\"CDSView\"},{\"attributes\":{\"callback\":null,\"end\":0.27147584739,\"start\":-0.07560438639},\"id\":\"5e44dfcf-261f-4f5f-a91e-a4c203261626\",\"type\":\"Range1d\"},{\"attributes\":{\"source\":{\"id\":\"00b38b52-0b45-492b-b8ea-dd03fa83eaf8\",\"type\":\"ColumnDataSource\"}},\"id\":\"1f57fd17-d5aa-485a-acb0-ec5785764484\",\"type\":\"CDSView\"},{\"attributes\":{\"fill_alpha\":{\"value\":0.1},\"fill_color\":{\"value\":\"#1f77b4\"},\"line_alpha\":{\"value\":0.1},\"line_color\":{\"value\":\"#1f77b4\"},\"x\":{\"field\":\"x\"},\"y\":{\"field\":\"y\"}},\"id\":\"31297cec-0987-4ef2-ae60-216fde99874e\",\"type\":\"Square\"},{\"attributes\":{\"data_source\":{\"id\":\"8ae07546-ae31-4096-88b1-b8189cb3d494\",\"type\":\"ColumnDataSource\"},\"glyph\":{\"id\":\"71ebef46-2b2a-4965-b89d-739ed5bfca38\",\"type\":\"Square\"},\"hover_glyph\":null,\"muted_glyph\":null,\"nonselection_glyph\":{\"id\":\"31297cec-0987-4ef2-ae60-216fde99874e\",\"type\":\"Square\"},\"selection_glyph\":null,\"view\":{\"id\":\"b09b7f0c-1fa3-4c4c-a120-d5af743412f9\",\"type\":\"CDSView\"}},\"id\":\"0a66a0b9-3e38-4ae8-bb04-70565433118b\",\"type\":\"GlyphRenderer\"},{\"attributes\":{\"line_alpha\":0.1,\"line_color\":\"#1f77b4\",\"line_dash\":[6],\"line_width\":5,\"x\":{\"field\":\"x\"},\"y\":{\"field\":\"y\"}},\"id\":\"5f843978-fa33-4cd8-81c6-d05748ab649f\",\"type\":\"Line\"},{\"attributes\":{\"items\":[{\"id\":\"2ae02da1-9fb8-43e8-8704-4932f7cfcd63\",\"type\":\"LegendItem\"},{\"id\":\"cdc609ea-afd7-4b1e-a55c-1fc3485fa197\",\"type\":\"LegendItem\"},{\"id\":\"ba62e21e-22b0-4a6b-8bc3-69bbc74bfed7\",\"type\":\"LegendItem\"}],\"label_text_font_size\":{\"value\":\"8pt\"},\"location\":[10,-30],\"plot\":{\"id\":\"5542b98d-e6ad-491f-ad3f-adac2855c88e\",\"subtype\":\"Figure\",\"type\":\"Plot\"}},\"id\":\"86ca674e-c442-4abe-8d95-570dfafe7933\",\"type\":\"Legend\"},{\"attributes\":{\"ticker\":null},\"id\":\"693a43fa-548a-4efe-8937-1acf0f37b15f\",\"type\":\"LogTickFormatter\"},{\"attributes\":{\"toolbar\":{\"id\":\"388bded3-ad5f-43e3-bf2f-470459dbdd05\",\"type\":\"ProxyToolbar\"},\"toolbar_location\":\"above\"},\"id\":\"f7c9be45-fbc9-4b5b-9c90-203419c92205\",\"type\":\"ToolbarBox\"},{\"attributes\":{\"line_alpha\":0.6,\"line_color\":\"#e41a1c\",\"line_dash\":[6],\"line_width\":5,\"x\":{\"field\":\"x\"},\"y\":{\"field\":\"y\"}},\"id\":\"97c9af09-fa76-407d-b6e5-ca83d7f5421c\",\"type\":\"Line\"},{\"attributes\":{\"line_alpha\":0.1,\"line_color\":\"#1f77b4\",\"line_width\":3,\"x\":{\"field\":\"x\"},\"y\":{\"field\":\"y\"}},\"id\":\"7591a3a1-7c6f-4d0b-87f9-656db891ab3b\",\"type\":\"Line\"},{\"attributes\":{\"data_source\":{\"id\":\"f678815a-6da8-44b6-95c4-7e013490f2be\",\"type\":\"ColumnDataSource\"},\"glyph\":{\"id\":\"bcf9b3e8-7937-407a-b607-cef0aaa34394\",\"type\":\"Line\"},\"hover_glyph\":null,\"muted_glyph\":null,\"nonselection_glyph\":{\"id\":\"7591a3a1-7c6f-4d0b-87f9-656db891ab3b\",\"type\":\"Line\"},\"selection_glyph\":null,\"view\":{\"id\":\"08c7d2be-d22e-4adf-a2b6-6bed63941e36\",\"type\":\"CDSView\"}},\"id\":\"27d724d5-f1c1-48f3-a655-2bd3a25bf806\",\"type\":\"GlyphRenderer\"},{\"attributes\":{\"label\":{\"value\":\"WGT igg=10 wgt_flux=2\"},\"renderers\":[{\"id\":\"0a66a0b9-3e38-4ae8-bb04-70565433118b\",\"type\":\"GlyphRenderer\"},{\"id\":\"27d724d5-f1c1-48f3-a655-2bd3a25bf806\",\"type\":\"GlyphRenderer\"}]},\"id\":\"ba62e21e-22b0-4a6b-8bc3-69bbc74bfed7\",\"type\":\"LegendItem\"},{\"attributes\":{\"label\":{\"value\":\"CLIRAD `coolr_bands`\"},\"renderers\":[{\"id\":\"182d9e82-4fc7-4a5a-81e6-6c67d26ff8e0\",\"type\":\"GlyphRenderer\"}]},\"id\":\"2ae02da1-9fb8-43e8-8704-4932f7cfcd63\",\"type\":\"LegendItem\"},{\"attributes\":{\"children\":[{\"id\":\"f7c9be45-fbc9-4b5b-9c90-203419c92205\",\"type\":\"ToolbarBox\"},{\"id\":\"f69ff013-88e5-4cf3-96ff-661c4b1a1a2d\",\"type\":\"Column\"}]},\"id\":\"53176b6a-e7f6-4595-bb82-1135ba2b7ee2\",\"type\":\"Column\"},{\"attributes\":{\"line_alpha\":0.6,\"line_color\":\"#984ea3\",\"line_width\":3,\"x\":{\"field\":\"x\"},\"y\":{\"field\":\"y\"}},\"id\":\"083f9271-9959-4038-b738-28767e65399d\",\"type\":\"Line\"},{\"attributes\":{\"tools\":[{\"id\":\"eb0ff941-b9c7-4e69-9c48-1c3f3d78b03b\",\"type\":\"PanTool\"},{\"id\":\"05b5d068-5798-4e0c-94f3-fafd921d6b87\",\"type\":\"WheelZoomTool\"},{\"id\":\"a2b8d6dd-8db0-4605-a829-3d11dfd7e27a\",\"type\":\"BoxZoomTool\"},{\"id\":\"fcee549c-00fc-4968-9fba-14f37870fa6d\",\"type\":\"SaveTool\"},{\"id\":\"f15958a3-1674-4f16-9b83-865c751f8a8f\",\"type\":\"ResetTool\"},{\"id\":\"9839cfc8-a39a-4678-8ecd-fbcde07ebc54\",\"type\":\"HelpTool\"},{\"id\":\"96966d05-1778-43b5-9f46-28f6092d7af5\",\"type\":\"PanTool\"},{\"id\":\"9d1ac98e-b2f2-407c-8055-2f077acfd772\",\"type\":\"WheelZoomTool\"},{\"id\":\"be796d90-865a-4e2e-b889-34310da69969\",\"type\":\"BoxZoomTool\"},{\"id\":\"738c9022-77bd-484d-9f8a-92cc73ca6548\",\"type\":\"SaveTool\"},{\"id\":\"c441c366-2741-4f69-b122-212111588212\",\"type\":\"ResetTool\"},{\"id\":\"fef0e698-7882-4b0b-a30d-5dd61d1e75de\",\"type\":\"HelpTool\"}]},\"id\":\"388bded3-ad5f-43e3-bf2f-470459dbdd05\",\"type\":\"ProxyToolbar\"},{\"attributes\":{\"fill_alpha\":{\"value\":0.7},\"fill_color\":{\"value\":\"#984ea3\"},\"line_alpha\":{\"value\":0.7},\"line_color\":{\"value\":\"#984ea3\"},\"x\":{\"field\":\"x\"},\"y\":{\"field\":\"y\"}},\"id\":\"d2977f98-bb26-4ec2-8655-ef8fb228bf28\",\"type\":\"Square\"},{\"attributes\":{\"data_source\":{\"id\":\"5d541473-efae-4933-8337-674db50e7953\",\"type\":\"ColumnDataSource\"},\"glyph\":{\"id\":\"083f9271-9959-4038-b738-28767e65399d\",\"type\":\"Line\"},\"hover_glyph\":null,\"muted_glyph\":null,\"nonselection_glyph\":{\"id\":\"492f7303-f398-47e4-9577-bc92ba6eaabe\",\"type\":\"Line\"},\"selection_glyph\":null,\"view\":{\"id\":\"91ea53cb-7110-40de-a900-0f6d472f1846\",\"type\":\"CDSView\"}},\"id\":\"b7b91e7a-0d73-4024-a61c-cfe989dfdf32\",\"type\":\"GlyphRenderer\"},{\"attributes\":{\"plot\":null,\"text\":\"Log pressure scale\"},\"id\":\"cef5eb3a-6b09-435e-8caf-893ec2a1067e\",\"type\":\"Title\"},{\"attributes\":{\"line_alpha\":0.6,\"line_color\":\"#e41a1c\",\"line_dash\":[6],\"line_width\":5,\"x\":{\"field\":\"x\"},\"y\":{\"field\":\"y\"}},\"id\":\"2f9a948a-256c-441d-91bc-686e37658506\",\"type\":\"Line\"},{\"attributes\":{\"callback\":null,\"column_names\":[\"x\",\"y\"],\"data\":{\"x\":{\"__ndarray__\":\"+Vk7tm2Ryz+ICxWimjCOP1qZBL6J+vO+00ILrxR4hL8I7YsR4DOQv/Ma5v2F3ZK/gPghjHU2lL8vPFtr2/+Vv6UVF+XJg5i/ZplRHag2nL87UxvI4pigv6Fjr6Kmu6O/kYBQ4JPvpr81STumNvatv1ruBy586rG/Xc3D6uYksr9gCUJzKGqvv8UqCMXHaqq/chE5K8Evor/3qtDsKTx9v1lYVw0w3aU/IDXX+GN/wT+IA8V+VRbRP47Ntadq9NA/0imKgw4Axj8MPHYGOFa/P7DP3hTNKbY/9W4tn8MOqz/Vak2hYQWYP88k00lTjXM/2Y8ztKxbcr/2JBlr6rZqv2M6Jp99+VC/uGtdY1a8Bj8U3bYB/K0dvzjuz+uejUa/RtmUxNdcUL9VWkScxrNUvwqIWIbffF+/kqcEoHWKaL/hExq0wVJsv2GzN/DaKmm/g2B2eax7Z7/WdK1zNPxkv+SndfZR82K/8qp576eBYb8Yv0PYB81fv+kLgWUrLV2/ysw+UcHwWr/OZV0B1atWv5SQujHk9FS/i1GniCOUUb9Aw0BUGCRRv/mRzrbmZFC/AHdM0lcST78jhD6YR4pMv1NHagvcBUm/yjLQGpq1RL8sUqiS2Ds+v7oK7AyuCTG/O77o8o7jAL/60Vw7ZFYuP9xAweeuS0Q/HiTzU4xtUD/wjAbgQHVXP8ytA37NPGE/jtsmeqQfaD/I/NiwIOpuP4gO8HIyb3E/EPtxTuqTcT+R7LtEvCFxP4juy0zOPXE/lDalCZtDcj9AbW2Ed111P/8V2OhzrYc/\",\"dtype\":\"float64\",\"shape\":[75]},\"y\":{\"__ndarray__\":\"GhExyth1ND/Sv8nbtpRIP2vylNV0PVE/aTum7souWD/At0SJ8fVgPw3Iuahxymc/MSNhhJWvcD/bTfBN02d3P2zb5nxnaoA/CD5h5MAGhz8NmeH1TyaQP+zrCsc9p5Y/LbKd76fGnz/bLW5ISEmmPww9YvTcQq8/JV2OstnstT8Er5Y7M8G+P0c+r3jqkcU/5h99k6ZBzj88bCIzFzjVP4enV8oyxN0//yH99nXg5D8qOpLLf0jtP5kqGJXUifQ/c9cS8kHP/D+/DpwzojQEQIEmwoanVwxA4lgXt9HgE0BSSZ2AJuIbQAMJih9jjiNA5q4l5INuK0AwTKYKRj0zQNv5fmq8/DpAaCJseHrtQkB/+zpwzoxKQM3MzMzMeFJAZmZmZmZqWEAAAAAAAFxeQM3MzMzMJmJAmpmZmZkfZUBmZmZmZhhoQDMzMzMzEWtAAAAAAAAKbkBmZmZmZoFwQM3MzMzM/XFAMzMzMzN6c0CamZmZmfZ0QAAAAAAAc3ZAZmZmZmbvd0DNzMzMzGt5QDMzMzMz6HpAmpmZmZlkfEAAAAAAAOF9QGZmZmZmXX9AZmZmZuZsgECamZmZGSuBQM3MzMxM6YFAAAAAAICngkAzMzMzs2WDQGZmZmbmI4RAmpmZmRnihEDNzMzMTKCFQAAAAACAXoZAMzMzM7Mch0BmZmZm5tqHQJqZmZkZmYhAzczMzExXiUAAAAAAgBWKQDMzMzOz04pAZmZmZuaRi0CamZmZGVCMQM3MzMxMDo1AAAAAAIDMjUAzMzMzs4qOQGZmZmbmSI9A\",\"dtype\":\"float64\",\"shape\":[75]}}},\"id\":\"cdf39084-2787-4650-a808-4996f58f70cf\",\"type\":\"ColumnDataSource\"},{\"attributes\":{},\"id\":\"db7a57a1-cdf2-4f4f-9097-447fefd8c6a6\",\"type\":\"BasicTickFormatter\"},{\"attributes\":{\"data_source\":{\"id\":\"cdf39084-2787-4650-a808-4996f58f70cf\",\"type\":\"ColumnDataSource\"},\"glyph\":{\"id\":\"d2977f98-bb26-4ec2-8655-ef8fb228bf28\",\"type\":\"Square\"},\"hover_glyph\":null,\"muted_glyph\":null,\"nonselection_glyph\":{\"id\":\"166a521f-6a82-4095-a0a6-9f8b316da171\",\"type\":\"Square\"},\"selection_glyph\":null,\"view\":{\"id\":\"1c343c36-f42e-45f1-9005-b6e607ecd040\",\"type\":\"CDSView\"}},\"id\":\"4c0a467d-f245-42a7-9b1f-253bb9686b64\",\"type\":\"GlyphRenderer\"},{\"attributes\":{\"data_source\":{\"id\":\"f29c004a-81df-4452-8398-c704b3adc67f\",\"type\":\"ColumnDataSource\"},\"glyph\":{\"id\":\"97c9af09-fa76-407d-b6e5-ca83d7f5421c\",\"type\":\"Line\"},\"hover_glyph\":null,\"muted_glyph\":null,\"nonselection_glyph\":{\"id\":\"5f843978-fa33-4cd8-81c6-d05748ab649f\",\"type\":\"Line\"},\"selection_glyph\":null,\"view\":{\"id\":\"71e41d4c-965d-4efc-942c-9ee22eeb54b9\",\"type\":\"CDSView\"}},\"id\":\"182d9e82-4fc7-4a5a-81e6-6c67d26ff8e0\",\"type\":\"GlyphRenderer\"},{\"attributes\":{\"callback\":null,\"column_names\":[\"x\",\"y\"],\"data\":{\"x\":{\"__ndarray__\":\"gewW/Xgaxz8QXBr8U2OgP1pMx/cgX5e/cz5R5tqokL9qZV0ED9GRv+COtHftop2/bjRQfiolmL8Z1AVcWoSVv1q6MSbFE5q/u7uRI+RWm78Buogf/sKgv6HIml5QSaS/iqxEvwfGp7/P/QBkG8quv9v3fT8CbbK/Mfw4fs57sr9qZ5MhmR6wv5AUkWEVb6u/0PH8YulVor/JeMk8SAh0v6RQKKF6v6Y/DjhkZhMewT98ZO+cmHvQPz39mL0JEdA/TgG8Ry5mxT/vUguhWi/AP/gWX3/VO7g/X1fsX/Q9rj8csC8C+OGZP2QY/OAxgUg/kXU+4Uj+eb8QDJQbWwRsvw53Wv7j5k2/VHENI2lwCz/t7v3ATLkRvw4NK9+qIEO/iK22P4ZSTr9553rh4URTvyjvy6fzEl+/6c9MISgfaL8EvfEeuU9sv0d792C9hWm/dnhqnx68Zr85cU75y39kv4768TwUY2K/I/+cngh9YL9+SCQ7Qgdev3sF7myLk1u/AkZiRbelWL+DTup9+r5VvyEgCmdx5lK/zzb30592Ub9v0BE/CyZQv9jBKN+7sk+/2KSaXbN7Tr97nyJgPSdMvy+FbKBgKEm/nIcu3uU6Rb+HU55hpGtAvx6oiPof8TC/lnS9Xc3h074DDwTFwO4uPynkVkLoeT8/D6F1wrTtTT+BkSXgyB1VPxQj4t2+xGA/RVa0wr/LZj9p0qtauWtuP8Ld7B6/CHE/aDifYmcWcT+S270ApZ9wP3zrkhxosXA/HbLCIj+RcT8xRbt+yHF0P0C84VBVJ4c/\",\"dtype\":\"float64\",\"shape\":[75]},\"y\":{\"__ndarray__\":\"S/O/Q+51ND/430zAtpRIP2vylNV0PVE/QxsjCssuWD/TR4Z78fVgP+inNsRxymc/OuuBfZWvcD/u3TFA02d3P2d3VoBnaoA/CD5h5MAGhz/1pA8HUCaQP+zrCsc9p5Y/Fb7LAKjGnz/nJ9c/SEmmPwBD+fzcQq8/FOZwv9nstT8Er5Y7M8G+P0c+r3jqkcU/yK72qKZBzj+tM989FzjVPxbgmr8yxN0/cOm5AXbg5D+5ctXAf0jtP5kqGJXUifQ/DsrqDELP/D8MCAhBojQEQDItVnmnVwxAiFXNvdHgE0BSSZ2AJuIbQAMJih9jjiNA5q4l5INuK0CPVN/5RT0zQHzxRXu8/DpAOZ7PgHrtQkAg8wGBzoxKQBSTN8DMeFJA2NmQf2ZqWEAAAAAAAFxeQEQX1LfMJmJAmpmZmZkfZUBmZmZmZhhoQLzoK0gzEWtAAAAAAAAKbkCiC+pbZoFwQAhyUMLM/XFA+I2vPTN6c0AQ5KCEmfZ0QAAAAAAAc3ZA8Btfe2bvd0AIclDCzGt5QPeNrz0z6HpAEOSghJlkfEAAAAAAAOF9QKML6ltmXX9ABTkoYeZsgED7xteeGSuBQAhyUMJM6YFAAAAAAICngkD4ja89s2WDQAU5KGHmI4RA+8bXnhnihEAIclDCTKCFQAAAAACAXoZA+I2vPbMch0AFOShh5tqHQPvG154ZmYhACHJQwkxXiUAAAAAAgBWKQPeNrz2z04pABTkoYeaRi0D7xteeGVCMQAlyUMJMDo1AAAAAAIDMjUD3ja89s4qOQGZmZmbmSI9A\",\"dtype\":\"float64\",\"shape\":[75]}}},\"id\":\"f29c004a-81df-4452-8398-c704b3adc67f\",\"type\":\"ColumnDataSource\"},{\"attributes\":{\"callback\":null,\"column_names\":[\"x\",\"y\"],\"data\":{\"x\":{\"__ndarray__\":\"+Vk7tm2Ryz+ICxWimjCOP1qZBL6J+vO+00ILrxR4hL8I7YsR4DOQv/Ma5v2F3ZK/gPghjHU2lL8vPFtr2/+Vv6UVF+XJg5i/ZplRHag2nL87UxvI4pigv6Fjr6Kmu6O/kYBQ4JPvpr81STumNvatv1ruBy586rG/Xc3D6uYksr9gCUJzKGqvv8UqCMXHaqq/chE5K8Evor/3qtDsKTx9v1lYVw0w3aU/IDXX+GN/wT+IA8V+VRbRP47Ntadq9NA/0imKgw4Axj8MPHYGOFa/P7DP3hTNKbY/9W4tn8MOqz/Vak2hYQWYP88k00lTjXM/2Y8ztKxbcr/2JBlr6rZqv2M6Jp99+VC/uGtdY1a8Bj8U3bYB/K0dvzjuz+uejUa/RtmUxNdcUL9VWkScxrNUvwqIWIbffF+/kqcEoHWKaL/hExq0wVJsv2GzN/DaKmm/g2B2eax7Z7/WdK1zNPxkv+SndfZR82K/8qp576eBYb8Yv0PYB81fv+kLgWUrLV2/ysw+UcHwWr/OZV0B1atWv5SQujHk9FS/i1GniCOUUb9Aw0BUGCRRv/mRzrbmZFC/AHdM0lcST78jhD6YR4pMv1NHagvcBUm/yjLQGpq1RL8sUqiS2Ds+v7oK7AyuCTG/O77o8o7jAL/60Vw7ZFYuP9xAweeuS0Q/HiTzU4xtUD/wjAbgQHVXP8ytA37NPGE/jtsmeqQfaD/I/NiwIOpuP4gO8HIyb3E/EPtxTuqTcT+R7LtEvCFxP4juy0zOPXE/lDalCZtDcj9AbW2Ed111P/8V2OhzrYc/\",\"dtype\":\"float64\",\"shape\":[75]},\"y\":{\"__ndarray__\":\"GhExyth1ND/Sv8nbtpRIP2vylNV0PVE/aTum7souWD/At0SJ8fVgPw3Iuahxymc/MSNhhJWvcD/bTfBN02d3P2zb5nxnaoA/CD5h5MAGhz8NmeH1TyaQP+zrCsc9p5Y/LbKd76fGnz/bLW5ISEmmPww9YvTcQq8/JV2OstnstT8Er5Y7M8G+P0c+r3jqkcU/5h99k6ZBzj88bCIzFzjVP4enV8oyxN0//yH99nXg5D8qOpLLf0jtP5kqGJXUifQ/c9cS8kHP/D+/DpwzojQEQIEmwoanVwxA4lgXt9HgE0BSSZ2AJuIbQAMJih9jjiNA5q4l5INuK0AwTKYKRj0zQNv5fmq8/DpAaCJseHrtQkB/+zpwzoxKQM3MzMzMeFJAZmZmZmZqWEAAAAAAAFxeQM3MzMzMJmJAmpmZmZkfZUBmZmZmZhhoQDMzMzMzEWtAAAAAAAAKbkBmZmZmZoFwQM3MzMzM/XFAMzMzMzN6c0CamZmZmfZ0QAAAAAAAc3ZAZmZmZmbvd0DNzMzMzGt5QDMzMzMz6HpAmpmZmZlkfEAAAAAAAOF9QGZmZmZmXX9AZmZmZuZsgECamZmZGSuBQM3MzMxM6YFAAAAAAICngkAzMzMzs2WDQGZmZmbmI4RAmpmZmRnihEDNzMzMTKCFQAAAAACAXoZAMzMzM7Mch0BmZmZm5tqHQJqZmZkZmYhAzczMzExXiUAAAAAAgBWKQDMzMzOz04pAZmZmZuaRi0CamZmZGVCMQM3MzMxMDo1AAAAAAIDMjUAzMzMzs4qOQGZmZmbmSI9A\",\"dtype\":\"float64\",\"shape\":[75]}}},\"id\":\"5d541473-efae-4933-8337-674db50e7953\",\"type\":\"ColumnDataSource\"},{\"attributes\":{\"source\":{\"id\":\"f29c004a-81df-4452-8398-c704b3adc67f\",\"type\":\"ColumnDataSource\"}},\"id\":\"71e41d4c-965d-4efc-942c-9ee22eeb54b9\",\"type\":\"CDSView\"},{\"attributes\":{\"callback\":null,\"end\":0.01,\"start\":1020},\"id\":\"94d44b2f-60c5-4ad5-be57-07b7d1c602d4\",\"type\":\"Range1d\"},{\"attributes\":{\"label\":{\"value\":\"CRD\"},\"renderers\":[{\"id\":\"781891be-8005-4a36-9517-6d574eec3918\",\"type\":\"GlyphRenderer\"},{\"id\":\"def41c39-b04a-4208-8be4-ea54e457f487\",\"type\":\"GlyphRenderer\"}]},\"id\":\"cdc609ea-afd7-4b1e-a55c-1fc3485fa197\",\"type\":\"LegendItem\"},{\"attributes\":{\"source\":{\"id\":\"cdf39084-2787-4650-a808-4996f58f70cf\",\"type\":\"ColumnDataSource\"}},\"id\":\"1c343c36-f42e-45f1-9005-b6e607ecd040\",\"type\":\"CDSView\"}],\"root_ids\":[\"53176b6a-e7f6-4595-bb82-1135ba2b7ee2\"]},\"title\":\"Bokeh Application\",\"version\":\"0.12.14\"}};\n",
       "  var render_items = [{\"docid\":\"1f2ceda3-3d00-4ca2-a34d-6e414041eda0\",\"elementid\":\"345d0444-1a13-4d14-88e3-084fd8e17ca7\",\"modelid\":\"53176b6a-e7f6-4595-bb82-1135ba2b7ee2\"}];\n",
       "  root.Bokeh.embed.embed_items_notebook(docs_json, render_items);\n",
       "\n",
       "  }\n",
       "  if (root.Bokeh !== undefined) {\n",
       "    embed_document(root);\n",
       "  } else {\n",
       "    var attempts = 0;\n",
       "    var timer = setInterval(function(root) {\n",
       "      if (root.Bokeh !== undefined) {\n",
       "        embed_document(root);\n",
       "        clearInterval(timer);\n",
       "      }\n",
       "      attempts++;\n",
       "      if (attempts > 100) {\n",
       "        console.log(\"Bokeh: ERROR: Unable to run BokehJS code because BokehJS library is missing\")\n",
       "        clearInterval(timer);\n",
       "      }\n",
       "    }, 10, root)\n",
       "  }\n",
       "})(window);"
      ],
      "application/vnd.bokehjs_exec.v0+json": ""
     },
     "metadata": {
      "application/vnd.bokehjs_exec.v0+json": {
       "id": "53176b6a-e7f6-4595-bb82-1135ba2b7ee2"
      }
     },
     "output_type": "display_data"
    },
    {
     "name": "stdout",
     "output_type": "stream",
     "text": [
      "FIGURE. Cooling rate profiles.\n"
     ]
    },
    {
     "data": {
      "text/html": [
       "<a id=\"Flux_Comparison\"></a>"
      ],
      "text/plain": [
       "<IPython.core.display.HTML object>"
      ]
     },
     "metadata": {},
     "output_type": "display_data"
    },
    {
     "data": {
      "text/markdown": [
       "# Flux Comparison"
      ],
      "text/plain": [
       "<IPython.core.display.Markdown object>"
      ]
     },
     "metadata": {},
     "output_type": "display_data"
    },
    {
     "data": {
      "text/html": [
       "<div>\n",
       "<style>\n",
       "    .dataframe thead tr:only-child th {\n",
       "        text-align: right;\n",
       "    }\n",
       "\n",
       "    .dataframe thead th {\n",
       "        text-align: left;\n",
       "    }\n",
       "\n",
       "    .dataframe tbody tr th {\n",
       "        vertical-align: top;\n",
       "    }\n",
       "</style>\n",
       "<table border=\"1\" class=\"dataframe\">\n",
       "  <thead>\n",
       "    <tr style=\"text-align: right;\">\n",
       "      <th></th>\n",
       "      <th></th>\n",
       "      <th>flug</th>\n",
       "      <th>fldg</th>\n",
       "      <th>fnetg</th>\n",
       "    </tr>\n",
       "    <tr>\n",
       "      <th>pressure</th>\n",
       "      <th>level</th>\n",
       "      <th></th>\n",
       "      <th></th>\n",
       "      <th></th>\n",
       "    </tr>\n",
       "  </thead>\n",
       "  <tbody>\n",
       "    <tr>\n",
       "      <th>0.0000</th>\n",
       "      <th>1</th>\n",
       "      <td>-5.383448</td>\n",
       "      <td>0.000000</td>\n",
       "      <td>-5.383448</td>\n",
       "    </tr>\n",
       "    <tr>\n",
       "      <th>1.0685</th>\n",
       "      <th>24</th>\n",
       "      <td>-5.389518</td>\n",
       "      <td>0.018399</td>\n",
       "      <td>-5.371118</td>\n",
       "    </tr>\n",
       "    <tr>\n",
       "      <th>1013.0000</th>\n",
       "      <th>76</th>\n",
       "      <td>-6.625452</td>\n",
       "      <td>1.347813</td>\n",
       "      <td>-5.277639</td>\n",
       "    </tr>\n",
       "  </tbody>\n",
       "</table>\n",
       "</div>"
      ],
      "text/plain": [
       "                     flug      fldg     fnetg\n",
       "pressure  level                              \n",
       "0.0000    1     -5.383448  0.000000 -5.383448\n",
       "1.0685    24    -5.389518  0.018399 -5.371118\n",
       "1013.0000 76    -6.625452  1.347813 -5.277639"
      ]
     },
     "metadata": {},
     "output_type": "display_data"
    },
    {
     "name": "stdout",
     "output_type": "stream",
     "text": [
      "Table. Fluxes. WGT igg=10 wgt_flux=1\n"
     ]
    },
    {
     "data": {
      "text/html": [
       "<div>\n",
       "<style>\n",
       "    .dataframe thead tr:only-child th {\n",
       "        text-align: right;\n",
       "    }\n",
       "\n",
       "    .dataframe thead th {\n",
       "        text-align: left;\n",
       "    }\n",
       "\n",
       "    .dataframe tbody tr th {\n",
       "        vertical-align: top;\n",
       "    }\n",
       "</style>\n",
       "<table border=\"1\" class=\"dataframe\">\n",
       "  <thead>\n",
       "    <tr style=\"text-align: right;\">\n",
       "      <th></th>\n",
       "      <th></th>\n",
       "      <th>flug</th>\n",
       "      <th>fldg</th>\n",
       "      <th>fnetg</th>\n",
       "    </tr>\n",
       "    <tr>\n",
       "      <th>pressure</th>\n",
       "      <th>level</th>\n",
       "      <th></th>\n",
       "      <th></th>\n",
       "      <th></th>\n",
       "    </tr>\n",
       "  </thead>\n",
       "  <tbody>\n",
       "    <tr>\n",
       "      <th>0.0000</th>\n",
       "      <th>1</th>\n",
       "      <td>-5.481977</td>\n",
       "      <td>0.000000</td>\n",
       "      <td>-5.481977</td>\n",
       "    </tr>\n",
       "    <tr>\n",
       "      <th>1.0685</th>\n",
       "      <th>24</th>\n",
       "      <td>-5.489492</td>\n",
       "      <td>0.018698</td>\n",
       "      <td>-5.470794</td>\n",
       "    </tr>\n",
       "    <tr>\n",
       "      <th>1013.0000</th>\n",
       "      <th>76</th>\n",
       "      <td>-6.625452</td>\n",
       "      <td>1.213576</td>\n",
       "      <td>-5.411876</td>\n",
       "    </tr>\n",
       "  </tbody>\n",
       "</table>\n",
       "</div>"
      ],
      "text/plain": [
       "                     flug      fldg     fnetg\n",
       "pressure  level                              \n",
       "0.0000    1     -5.481977  0.000000 -5.481977\n",
       "1.0685    24    -5.489492  0.018698 -5.470794\n",
       "1013.0000 76    -6.625452  1.213576 -5.411876"
      ]
     },
     "metadata": {},
     "output_type": "display_data"
    },
    {
     "name": "stdout",
     "output_type": "stream",
     "text": [
      "Table. Fluxes. CRD\n"
     ]
    },
    {
     "data": {
      "text/html": [
       "<div>\n",
       "<style>\n",
       "    .dataframe thead tr:only-child th {\n",
       "        text-align: right;\n",
       "    }\n",
       "\n",
       "    .dataframe thead th {\n",
       "        text-align: left;\n",
       "    }\n",
       "\n",
       "    .dataframe tbody tr th {\n",
       "        vertical-align: top;\n",
       "    }\n",
       "</style>\n",
       "<table border=\"1\" class=\"dataframe\">\n",
       "  <thead>\n",
       "    <tr style=\"text-align: right;\">\n",
       "      <th></th>\n",
       "      <th></th>\n",
       "      <th>flug</th>\n",
       "      <th>fldg</th>\n",
       "      <th>fnetg</th>\n",
       "    </tr>\n",
       "    <tr>\n",
       "      <th>pressure</th>\n",
       "      <th>level</th>\n",
       "      <th></th>\n",
       "      <th></th>\n",
       "      <th></th>\n",
       "    </tr>\n",
       "  </thead>\n",
       "  <tbody>\n",
       "    <tr>\n",
       "      <th>1.000000e-08</th>\n",
       "      <th>1</th>\n",
       "      <td>-5.387059</td>\n",
       "      <td>0.000002</td>\n",
       "      <td>-5.387056</td>\n",
       "    </tr>\n",
       "    <tr>\n",
       "      <th>1.068500e+00</th>\n",
       "      <th>24</th>\n",
       "      <td>-5.393298</td>\n",
       "      <td>0.018169</td>\n",
       "      <td>-5.375128</td>\n",
       "    </tr>\n",
       "    <tr>\n",
       "      <th>1.013000e+03</th>\n",
       "      <th>76</th>\n",
       "      <td>-6.625452</td>\n",
       "      <td>1.342173</td>\n",
       "      <td>-5.283279</td>\n",
       "    </tr>\n",
       "  </tbody>\n",
       "</table>\n",
       "</div>"
      ],
      "text/plain": [
       "                        flug      fldg     fnetg\n",
       "pressure     level                              \n",
       "1.000000e-08 1     -5.387059  0.000002 -5.387056\n",
       "1.068500e+00 24    -5.393298  0.018169 -5.375128\n",
       "1.013000e+03 76    -6.625452  1.342173 -5.283279"
      ]
     },
     "metadata": {},
     "output_type": "display_data"
    },
    {
     "name": "stdout",
     "output_type": "stream",
     "text": [
      "Table. Fluxes. CLIRAD\n"
     ]
    },
    {
     "data": {
      "text/html": [
       "<div>\n",
       "<style>\n",
       "    .dataframe thead tr:only-child th {\n",
       "        text-align: right;\n",
       "    }\n",
       "\n",
       "    .dataframe thead th {\n",
       "        text-align: left;\n",
       "    }\n",
       "\n",
       "    .dataframe tbody tr th {\n",
       "        vertical-align: top;\n",
       "    }\n",
       "</style>\n",
       "<table border=\"1\" class=\"dataframe\">\n",
       "  <thead>\n",
       "    <tr style=\"text-align: right;\">\n",
       "      <th></th>\n",
       "      <th></th>\n",
       "      <th>flug</th>\n",
       "      <th>fldg</th>\n",
       "      <th>fnetg</th>\n",
       "    </tr>\n",
       "    <tr>\n",
       "      <th>pressure</th>\n",
       "      <th>level</th>\n",
       "      <th></th>\n",
       "      <th></th>\n",
       "      <th></th>\n",
       "    </tr>\n",
       "  </thead>\n",
       "  <tbody>\n",
       "    <tr>\n",
       "      <th>0.0000</th>\n",
       "      <th>1</th>\n",
       "      <td>-9.852844e-02</td>\n",
       "      <td>0.000000</td>\n",
       "      <td>-0.098528</td>\n",
       "    </tr>\n",
       "    <tr>\n",
       "      <th>1.0685</th>\n",
       "      <th>24</th>\n",
       "      <td>-9.997401e-02</td>\n",
       "      <td>0.000299</td>\n",
       "      <td>-0.099675</td>\n",
       "    </tr>\n",
       "    <tr>\n",
       "      <th>1013.0000</th>\n",
       "      <th>76</th>\n",
       "      <td>4.500000e-08</td>\n",
       "      <td>-0.134237</td>\n",
       "      <td>-0.134237</td>\n",
       "    </tr>\n",
       "  </tbody>\n",
       "</table>\n",
       "</div>"
      ],
      "text/plain": [
       "                         flug      fldg     fnetg\n",
       "pressure  level                                  \n",
       "0.0000    1     -9.852844e-02  0.000000 -0.098528\n",
       "1.0685    24    -9.997401e-02  0.000299 -0.099675\n",
       "1013.0000 76     4.500000e-08 -0.134237 -0.134237"
      ]
     },
     "metadata": {},
     "output_type": "display_data"
    },
    {
     "name": "stdout",
     "output_type": "stream",
     "text": [
      "Table. Fluxes. (CRD) - (WGT igg=10 wgt_flux=1)\n"
     ]
    },
    {
     "data": {
      "text/html": [
       "<div>\n",
       "<style>\n",
       "    .dataframe thead tr:only-child th {\n",
       "        text-align: right;\n",
       "    }\n",
       "\n",
       "    .dataframe thead th {\n",
       "        text-align: left;\n",
       "    }\n",
       "\n",
       "    .dataframe tbody tr th {\n",
       "        vertical-align: top;\n",
       "    }\n",
       "</style>\n",
       "<table border=\"1\" class=\"dataframe\">\n",
       "  <thead>\n",
       "    <tr style=\"text-align: right;\">\n",
       "      <th></th>\n",
       "      <th></th>\n",
       "      <th>flug</th>\n",
       "      <th>fldg</th>\n",
       "      <th>fnetg</th>\n",
       "    </tr>\n",
       "    <tr>\n",
       "      <th>pressure</th>\n",
       "      <th>level</th>\n",
       "      <th></th>\n",
       "      <th></th>\n",
       "      <th></th>\n",
       "    </tr>\n",
       "  </thead>\n",
       "  <tbody>\n",
       "    <tr>\n",
       "      <th>0.0000</th>\n",
       "      <th>1</th>\n",
       "      <td>-3.610345e-03</td>\n",
       "      <td>0.000002</td>\n",
       "      <td>-0.003608</td>\n",
       "    </tr>\n",
       "    <tr>\n",
       "      <th>1.0685</th>\n",
       "      <th>24</th>\n",
       "      <td>-3.780113e-03</td>\n",
       "      <td>-0.000230</td>\n",
       "      <td>-0.004010</td>\n",
       "    </tr>\n",
       "    <tr>\n",
       "      <th>1013.0000</th>\n",
       "      <th>76</th>\n",
       "      <td>3.450000e-07</td>\n",
       "      <td>-0.005640</td>\n",
       "      <td>-0.005640</td>\n",
       "    </tr>\n",
       "  </tbody>\n",
       "</table>\n",
       "</div>"
      ],
      "text/plain": [
       "                         flug      fldg     fnetg\n",
       "pressure  level                                  \n",
       "0.0000    1     -3.610345e-03  0.000002 -0.003608\n",
       "1.0685    24    -3.780113e-03 -0.000230 -0.004010\n",
       "1013.0000 76     3.450000e-07 -0.005640 -0.005640"
      ]
     },
     "metadata": {},
     "output_type": "display_data"
    },
    {
     "name": "stdout",
     "output_type": "stream",
     "text": [
      "Table. Fluxes. (CLIRAD) - (WGT igg=10 wgt_flux=1)\n"
     ]
    },
    {
     "data": {
      "text/html": [
       "<a id=\"Best-fit_Parameters\"></a>"
      ],
      "text/plain": [
       "<IPython.core.display.HTML object>"
      ]
     },
     "metadata": {},
     "output_type": "display_data"
    },
    {
     "data": {
      "text/markdown": [
       "# Best-fit Parameters"
      ],
      "text/plain": [
       "<IPython.core.display.Markdown object>"
      ]
     },
     "metadata": {},
     "output_type": "display_data"
    },
    {
     "name": "stdout",
     "output_type": "stream",
     "text": [
      "Best-fit values for each (gas, band)\n",
      "------------------------------------\n",
      "o co2 band9\n",
      "  molecule = co2\n",
      "  band = 9\n",
      "  commitnumber = d62b618\n",
      "  vmin = 1900\n",
      "  vmax = 3000\n",
      "  dv = 0.001\n",
      "  nv = 1000\n",
      "  ref_pts = [(1, 250), (50, 250)]\n",
      "  ng_refs = [3, 3]\n",
      "  ng_adju = [2, 0]\n",
      "  klin = 1e-23\n",
      "  option_wgt_k = 1\n",
      "  wgt = [(0.7, 0.8, 0.7), (0.8, 0.7, 0.8)]\n",
      "  w_diffuse = [(1.66, 1.66, 1.75), (1.75, 1.6, 1.85)]\n",
      "  option_wgt_flux = 1\n",
      "  atmpro = mls\n",
      "  tsfc = 294\n",
      "  conc = 0.0004\n",
      "  option_compute_btable = 0\n",
      "  option_compute_ktable = 1\n"
     ]
    }
   ],
   "source": [
    "script()"
   ]
  },
  {
   "cell_type": "code",
   "execution_count": 13,
   "metadata": {},
   "outputs": [
    {
     "data": {
      "text/html": [
       "<script>\n",
       "code_show=true; \n",
       "function code_toggle() {\n",
       " if (code_show){\n",
       " $('div.input').hide();\n",
       " } else {\n",
       " $('div.input').show();\n",
       " }\n",
       " code_show = !code_show\n",
       "} \n",
       "$( document ).ready(code_toggle);\n",
       "</script>\n",
       "<form action=\"javascript:code_toggle()\"><input type=\"submit\" value=\"Click here to toggle on/off the raw code.\"></form>"
      ],
      "text/plain": [
       "<IPython.core.display.HTML object>"
      ]
     },
     "execution_count": 13,
     "metadata": {},
     "output_type": "execute_result"
    }
   ],
   "source": [
    "display.HTML('''<script>\n",
    "code_show=true; \n",
    "function code_toggle() {\n",
    " if (code_show){\n",
    " $('div.input').hide();\n",
    " } else {\n",
    " $('div.input').show();\n",
    " }\n",
    " code_show = !code_show\n",
    "} \n",
    "$( document ).ready(code_toggle);\n",
    "</script>\n",
    "<form action=\"javascript:code_toggle()\"><input type=\"submit\" value=\"Click here to toggle on/off the raw code.\"></form>''')"
   ]
  }
 ],
 "metadata": {
  "kernelspec": {
   "display_name": "Python 3",
   "language": "python",
   "name": "python3"
  },
  "language_info": {
   "codemirror_mode": {
    "name": "ipython",
    "version": 3
   },
   "file_extension": ".py",
   "mimetype": "text/x-python",
   "name": "python",
   "nbconvert_exporter": "python",
   "pygments_lexer": "ipython3",
   "version": "3.6.1"
  }
 },
 "nbformat": 4,
 "nbformat_minor": 2
}
