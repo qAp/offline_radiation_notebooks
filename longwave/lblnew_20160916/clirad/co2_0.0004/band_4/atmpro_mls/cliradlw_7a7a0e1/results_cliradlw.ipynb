{
 "cells": [
  {
   "cell_type": "code",
   "execution_count": 1,
   "metadata": {
    "collapsed": true
   },
   "outputs": [],
   "source": [
    "%matplotlib inline\n",
    "import os\n",
    "import re\n",
    "import io\n",
    "import itertools\n",
    "import pprint\n",
    "\n",
    "from bokeh.io import output_notebook, show\n",
    "from bokeh.layouts import gridplot\n",
    "from bokeh.plotting import figure\n",
    "from bokeh.models import Range1d, Legend\n",
    "from bokeh.palettes import all_palettes\n",
    "\n",
    "import matplotlib\n",
    "import matplotlib.pyplot as plt\n",
    "import numpy as np\n",
    "import pandas as pd\n",
    "import xarray as xr\n",
    "\n",
    "import climatools.lblnew.bestfit_params as bestfits\n",
    "from climatools.lblnew import setup_bestfit, setup_overlap\n",
    "import climatools.lblnew.pipeline as pipe_lblnew\n",
    "import climatools.cliradlw.setup as setup_cliradlw\n",
    "import climatools.cliradlw.pipeline as pipe_cliradlw\n",
    "\n",
    "import climatools.html.html as climahtml\n",
    "from climatools.lblnew.dataio import *\n",
    "from climatools.plot.plot import *\n",
    "\n",
    "\n",
    "import IPython.display as display"
   ]
  },
  {
   "cell_type": "code",
   "execution_count": 2,
   "metadata": {
    "collapsed": true
   },
   "outputs": [],
   "source": [
    "%run param.py"
   ]
  },
  {
   "cell_type": "code",
   "execution_count": 3,
   "metadata": {
    "collapsed": true
   },
   "outputs": [],
   "source": [
    "def load_output_file(path_csv):\n",
    "    '''\n",
    "    Load lblnew output .csv file to xarray.Dataset\n",
    "    \n",
    "    Parameters\n",
    "    ----------\n",
    "    path_csv: str\n",
    "              Path to the .csv file to be loaded.\n",
    "    ds: xarray.Dataset\n",
    "        Data in the input file in the form of an xarray.Dataset.\n",
    "    '''\n",
    "    toindex = ['band', 'pressure', 'igg', 'g']    \n",
    "    df = pd.read_csv(path_csv, sep=r'\\s+')\n",
    "    df = df.set_index([i for i in toindex if i in df.columns])\n",
    "    df = df.rename(columns={'sfu': 'flug',\n",
    "                            'sfd': 'fldg',\n",
    "                            'fnet': 'fnetg',\n",
    "                            'coolr': 'coolrg'})\n",
    "    ds = xr.Dataset.from_dataframe(df)\n",
    "\n",
    "    for l in ('level', 'layer'):\n",
    "        if l in ds.data_vars:\n",
    "            if len(ds[l].dims) > 1:\n",
    "                surface = {d: 0 for d in ds.dims if d != 'pressure'}\n",
    "                coord_level = ds[l][surface]\n",
    "                ds.coords[l] = ('pressure', coord_level)\n",
    "            else:\n",
    "                ds.coords[l] = ('pressure', ds[l])\n",
    "    \n",
    "    return ds"
   ]
  },
  {
   "cell_type": "code",
   "execution_count": 4,
   "metadata": {
    "collapsed": true
   },
   "outputs": [],
   "source": [
    "def lblnew_setup(param=None):\n",
    "    if 'ng_refs' in param:\n",
    "        return {'setup': setup_bestfit,\n",
    "                'fname_flux_crd': 'output_flux.dat',\n",
    "                'fname_cool_crd': 'output_coolr.dat',\n",
    "                'fname_flux_wgt': 'output_wfluxg.dat',\n",
    "                'fname_cool_wgt': 'output_wcoolrg.dat'}\n",
    "    else:\n",
    "        return {'setup': setup_overlap,\n",
    "                'fname_flux_crd': 'output_flux.dat',\n",
    "                'fname_cool_crd': 'output_coolr.dat',\n",
    "                'fname_flux_wgt': 'output_wflux.dat',\n",
    "                'fname_cool_wgt': 'output_wcoolr.dat'}\n",
    "\n",
    "    \n",
    "def load_lblnew_data(param):\n",
    "    \n",
    "    fname_dsname = [('fname_flux_crd', 'ds_flux_crd'),\n",
    "                    ('fname_cool_crd', 'ds_cool_crd'),\n",
    "                    ('fname_flux_wgt', 'ds_flux_wgt'),\n",
    "                    ('fname_cool_wgt', 'ds_cool_wgt')]\n",
    "    \n",
    "    d = lblnew_setup(param)\n",
    "    dir_fortran = pipe_lblnew.get_dir_case(param, setup=d['setup'])\n",
    "    \n",
    "    data_dict = {}\n",
    "    for fname, dsname in fname_dsname:\n",
    "        fpath = os.path.join(dir_fortran, d[fname])\n",
    "        data_dict[dsname] = load_output_file(fpath)\n",
    "    return data_dict\n",
    "    \n",
    "\n",
    "    \n",
    "    "
   ]
  },
  {
   "cell_type": "code",
   "execution_count": 5,
   "metadata": {
    "collapsed": true
   },
   "outputs": [],
   "source": [
    "d = load_lblnew_data(PARAM_LBLNEW)\n",
    "\n",
    "DS_FLUX_CRD = d['ds_flux_crd']\n",
    "DS_COOL_CRD = d['ds_cool_crd']\n",
    "DS_FLUX_WGT = d['ds_flux_wgt']\n",
    "DS_COOL_WGT = d['ds_cool_wgt']"
   ]
  },
  {
   "cell_type": "code",
   "execution_count": 6,
   "metadata": {
    "collapsed": true
   },
   "outputs": [],
   "source": [
    "DIR_FORTRAN = pipe_cliradlw.get_fortran_dir(PARAM, \n",
    "                                            setup=setup_cliradlw)\n",
    "\n",
    "PATH_FLUX = os.path.join(DIR_FORTRAN, 'output_flux.dat')\n",
    "PATH_COOL = os.path.join(DIR_FORTRAN, 'output_coolr.dat')\n",
    "\n",
    "DS_FLUX = load_output_file(PATH_FLUX)\n",
    "DS_COOL = load_output_file(PATH_COOL)"
   ]
  },
  {
   "cell_type": "code",
   "execution_count": 7,
   "metadata": {},
   "outputs": [
    {
     "data": {
      "text/html": [
       "\n",
       "    <div class=\"bk-root\">\n",
       "        <a href=\"https://bokeh.pydata.org\" target=\"_blank\" class=\"bk-logo bk-logo-small bk-logo-notebook\"></a>\n",
       "        <span id=\"a8127c7c-4929-4402-b671-b0d096f89c5f\">Loading BokehJS ...</span>\n",
       "    </div>"
      ]
     },
     "metadata": {},
     "output_type": "display_data"
    },
    {
     "data": {
      "application/javascript": [
       "\n",
       "(function(root) {\n",
       "  function now() {\n",
       "    return new Date();\n",
       "  }\n",
       "\n",
       "  var force = true;\n",
       "\n",
       "  if (typeof (root._bokeh_onload_callbacks) === \"undefined\" || force === true) {\n",
       "    root._bokeh_onload_callbacks = [];\n",
       "    root._bokeh_is_loading = undefined;\n",
       "  }\n",
       "\n",
       "  var JS_MIME_TYPE = 'application/javascript';\n",
       "  var HTML_MIME_TYPE = 'text/html';\n",
       "  var EXEC_MIME_TYPE = 'application/vnd.bokehjs_exec.v0+json';\n",
       "  var CLASS_NAME = 'output_bokeh rendered_html';\n",
       "\n",
       "  /**\n",
       "   * Render data to the DOM node\n",
       "   */\n",
       "  function render(props, node) {\n",
       "    var script = document.createElement(\"script\");\n",
       "    node.appendChild(script);\n",
       "  }\n",
       "\n",
       "  /**\n",
       "   * Handle when an output is cleared or removed\n",
       "   */\n",
       "  function handleClearOutput(event, handle) {\n",
       "    var cell = handle.cell;\n",
       "\n",
       "    var id = cell.output_area._bokeh_element_id;\n",
       "    var server_id = cell.output_area._bokeh_server_id;\n",
       "    // Clean up Bokeh references\n",
       "    if (id !== undefined) {\n",
       "      Bokeh.index[id].model.document.clear();\n",
       "      delete Bokeh.index[id];\n",
       "    }\n",
       "\n",
       "    if (server_id !== undefined) {\n",
       "      // Clean up Bokeh references\n",
       "      var cmd = \"from bokeh.io.state import curstate; print(curstate().uuid_to_server['\" + server_id + \"'].get_sessions()[0].document.roots[0]._id)\";\n",
       "      cell.notebook.kernel.execute(cmd, {\n",
       "        iopub: {\n",
       "          output: function(msg) {\n",
       "            var element_id = msg.content.text.trim();\n",
       "            Bokeh.index[element_id].model.document.clear();\n",
       "            delete Bokeh.index[element_id];\n",
       "          }\n",
       "        }\n",
       "      });\n",
       "      // Destroy server and session\n",
       "      var cmd = \"import bokeh.io.notebook as ion; ion.destroy_server('\" + server_id + \"')\";\n",
       "      cell.notebook.kernel.execute(cmd);\n",
       "    }\n",
       "  }\n",
       "\n",
       "  /**\n",
       "   * Handle when a new output is added\n",
       "   */\n",
       "  function handleAddOutput(event, handle) {\n",
       "    var output_area = handle.output_area;\n",
       "    var output = handle.output;\n",
       "\n",
       "    // limit handleAddOutput to display_data with EXEC_MIME_TYPE content only\n",
       "    if ((output.output_type != \"display_data\") || (!output.data.hasOwnProperty(EXEC_MIME_TYPE))) {\n",
       "      return\n",
       "    }\n",
       "\n",
       "    var toinsert = output_area.element.find(\".\" + CLASS_NAME.split(' ')[0]);\n",
       "\n",
       "    if (output.metadata[EXEC_MIME_TYPE][\"id\"] !== undefined) {\n",
       "      toinsert[0].firstChild.textContent = output.data[JS_MIME_TYPE];\n",
       "      // store reference to embed id on output_area\n",
       "      output_area._bokeh_element_id = output.metadata[EXEC_MIME_TYPE][\"id\"];\n",
       "    }\n",
       "    if (output.metadata[EXEC_MIME_TYPE][\"server_id\"] !== undefined) {\n",
       "      var bk_div = document.createElement(\"div\");\n",
       "      bk_div.innerHTML = output.data[HTML_MIME_TYPE];\n",
       "      var script_attrs = bk_div.children[0].attributes;\n",
       "      for (var i = 0; i < script_attrs.length; i++) {\n",
       "        toinsert[0].firstChild.setAttribute(script_attrs[i].name, script_attrs[i].value);\n",
       "      }\n",
       "      // store reference to server id on output_area\n",
       "      output_area._bokeh_server_id = output.metadata[EXEC_MIME_TYPE][\"server_id\"];\n",
       "    }\n",
       "  }\n",
       "\n",
       "  function register_renderer(events, OutputArea) {\n",
       "\n",
       "    function append_mime(data, metadata, element) {\n",
       "      // create a DOM node to render to\n",
       "      var toinsert = this.create_output_subarea(\n",
       "        metadata,\n",
       "        CLASS_NAME,\n",
       "        EXEC_MIME_TYPE\n",
       "      );\n",
       "      this.keyboard_manager.register_events(toinsert);\n",
       "      // Render to node\n",
       "      var props = {data: data, metadata: metadata[EXEC_MIME_TYPE]};\n",
       "      render(props, toinsert[0]);\n",
       "      element.append(toinsert);\n",
       "      return toinsert\n",
       "    }\n",
       "\n",
       "    /* Handle when an output is cleared or removed */\n",
       "    events.on('clear_output.CodeCell', handleClearOutput);\n",
       "    events.on('delete.Cell', handleClearOutput);\n",
       "\n",
       "    /* Handle when a new output is added */\n",
       "    events.on('output_added.OutputArea', handleAddOutput);\n",
       "\n",
       "    /**\n",
       "     * Register the mime type and append_mime function with output_area\n",
       "     */\n",
       "    OutputArea.prototype.register_mime_type(EXEC_MIME_TYPE, append_mime, {\n",
       "      /* Is output safe? */\n",
       "      safe: true,\n",
       "      /* Index of renderer in `output_area.display_order` */\n",
       "      index: 0\n",
       "    });\n",
       "  }\n",
       "\n",
       "  // register the mime type if in Jupyter Notebook environment and previously unregistered\n",
       "  if (root.Jupyter !== undefined) {\n",
       "    var events = require('base/js/events');\n",
       "    var OutputArea = require('notebook/js/outputarea').OutputArea;\n",
       "\n",
       "    if (OutputArea.prototype.mime_types().indexOf(EXEC_MIME_TYPE) == -1) {\n",
       "      register_renderer(events, OutputArea);\n",
       "    }\n",
       "  }\n",
       "\n",
       "  \n",
       "  if (typeof (root._bokeh_timeout) === \"undefined\" || force === true) {\n",
       "    root._bokeh_timeout = Date.now() + 5000;\n",
       "    root._bokeh_failed_load = false;\n",
       "  }\n",
       "\n",
       "  var NB_LOAD_WARNING = {'data': {'text/html':\n",
       "     \"<div style='background-color: #fdd'>\\n\"+\n",
       "     \"<p>\\n\"+\n",
       "     \"BokehJS does not appear to have successfully loaded. If loading BokehJS from CDN, this \\n\"+\n",
       "     \"may be due to a slow or bad network connection. Possible fixes:\\n\"+\n",
       "     \"</p>\\n\"+\n",
       "     \"<ul>\\n\"+\n",
       "     \"<li>re-rerun `output_notebook()` to attempt to load from CDN again, or</li>\\n\"+\n",
       "     \"<li>use INLINE resources instead, as so:</li>\\n\"+\n",
       "     \"</ul>\\n\"+\n",
       "     \"<code>\\n\"+\n",
       "     \"from bokeh.resources import INLINE\\n\"+\n",
       "     \"output_notebook(resources=INLINE)\\n\"+\n",
       "     \"</code>\\n\"+\n",
       "     \"</div>\"}};\n",
       "\n",
       "  function display_loaded() {\n",
       "    var el = document.getElementById(\"a8127c7c-4929-4402-b671-b0d096f89c5f\");\n",
       "    if (el != null) {\n",
       "      el.textContent = \"BokehJS is loading...\";\n",
       "    }\n",
       "    if (root.Bokeh !== undefined) {\n",
       "      if (el != null) {\n",
       "        el.textContent = \"BokehJS \" + root.Bokeh.version + \" successfully loaded.\";\n",
       "      }\n",
       "    } else if (Date.now() < root._bokeh_timeout) {\n",
       "      setTimeout(display_loaded, 100)\n",
       "    }\n",
       "  }\n",
       "\n",
       "\n",
       "  function run_callbacks() {\n",
       "    try {\n",
       "      root._bokeh_onload_callbacks.forEach(function(callback) { callback() });\n",
       "    }\n",
       "    finally {\n",
       "      delete root._bokeh_onload_callbacks\n",
       "    }\n",
       "    console.info(\"Bokeh: all callbacks have finished\");\n",
       "  }\n",
       "\n",
       "  function load_libs(js_urls, callback) {\n",
       "    root._bokeh_onload_callbacks.push(callback);\n",
       "    if (root._bokeh_is_loading > 0) {\n",
       "      console.log(\"Bokeh: BokehJS is being loaded, scheduling callback at\", now());\n",
       "      return null;\n",
       "    }\n",
       "    if (js_urls == null || js_urls.length === 0) {\n",
       "      run_callbacks();\n",
       "      return null;\n",
       "    }\n",
       "    console.log(\"Bokeh: BokehJS not loaded, scheduling load and callback at\", now());\n",
       "    root._bokeh_is_loading = js_urls.length;\n",
       "    for (var i = 0; i < js_urls.length; i++) {\n",
       "      var url = js_urls[i];\n",
       "      var s = document.createElement('script');\n",
       "      s.src = url;\n",
       "      s.async = false;\n",
       "      s.onreadystatechange = s.onload = function() {\n",
       "        root._bokeh_is_loading--;\n",
       "        if (root._bokeh_is_loading === 0) {\n",
       "          console.log(\"Bokeh: all BokehJS libraries loaded\");\n",
       "          run_callbacks()\n",
       "        }\n",
       "      };\n",
       "      s.onerror = function() {\n",
       "        console.warn(\"failed to load library \" + url);\n",
       "      };\n",
       "      console.log(\"Bokeh: injecting script tag for BokehJS library: \", url);\n",
       "      document.getElementsByTagName(\"head\")[0].appendChild(s);\n",
       "    }\n",
       "  };var element = document.getElementById(\"a8127c7c-4929-4402-b671-b0d096f89c5f\");\n",
       "  if (element == null) {\n",
       "    console.log(\"Bokeh: ERROR: autoload.js configured with elementid 'a8127c7c-4929-4402-b671-b0d096f89c5f' but no matching script tag was found. \")\n",
       "    return false;\n",
       "  }\n",
       "\n",
       "  var js_urls = [\"https://cdn.pydata.org/bokeh/release/bokeh-0.12.14.min.js\", \"https://cdn.pydata.org/bokeh/release/bokeh-widgets-0.12.14.min.js\", \"https://cdn.pydata.org/bokeh/release/bokeh-tables-0.12.14.min.js\", \"https://cdn.pydata.org/bokeh/release/bokeh-gl-0.12.14.min.js\"];\n",
       "\n",
       "  var inline_js = [\n",
       "    function(Bokeh) {\n",
       "      Bokeh.set_log_level(\"info\");\n",
       "    },\n",
       "    \n",
       "    function(Bokeh) {\n",
       "      \n",
       "    },\n",
       "    function(Bokeh) {\n",
       "      console.log(\"Bokeh: injecting CSS: https://cdn.pydata.org/bokeh/release/bokeh-0.12.14.min.css\");\n",
       "      Bokeh.embed.inject_css(\"https://cdn.pydata.org/bokeh/release/bokeh-0.12.14.min.css\");\n",
       "      console.log(\"Bokeh: injecting CSS: https://cdn.pydata.org/bokeh/release/bokeh-widgets-0.12.14.min.css\");\n",
       "      Bokeh.embed.inject_css(\"https://cdn.pydata.org/bokeh/release/bokeh-widgets-0.12.14.min.css\");\n",
       "      console.log(\"Bokeh: injecting CSS: https://cdn.pydata.org/bokeh/release/bokeh-tables-0.12.14.min.css\");\n",
       "      Bokeh.embed.inject_css(\"https://cdn.pydata.org/bokeh/release/bokeh-tables-0.12.14.min.css\");\n",
       "    }\n",
       "  ];\n",
       "\n",
       "  function run_inline_js() {\n",
       "    \n",
       "    if ((root.Bokeh !== undefined) || (force === true)) {\n",
       "      for (var i = 0; i < inline_js.length; i++) {\n",
       "        inline_js[i].call(root, root.Bokeh);\n",
       "      }if (force === true) {\n",
       "        display_loaded();\n",
       "      }} else if (Date.now() < root._bokeh_timeout) {\n",
       "      setTimeout(run_inline_js, 100);\n",
       "    } else if (!root._bokeh_failed_load) {\n",
       "      console.log(\"Bokeh: BokehJS failed to load within specified timeout.\");\n",
       "      root._bokeh_failed_load = true;\n",
       "    } else if (force !== true) {\n",
       "      var cell = $(document.getElementById(\"a8127c7c-4929-4402-b671-b0d096f89c5f\")).parents('.cell').data().cell;\n",
       "      cell.output_area.append_execute_result(NB_LOAD_WARNING)\n",
       "    }\n",
       "\n",
       "  }\n",
       "\n",
       "  if (root._bokeh_is_loading === 0) {\n",
       "    console.log(\"Bokeh: BokehJS loaded, going straight to plotting\");\n",
       "    run_inline_js();\n",
       "  } else {\n",
       "    load_libs(js_urls, function() {\n",
       "      console.log(\"Bokeh: BokehJS plotting callback run at\", now());\n",
       "      run_inline_js();\n",
       "    });\n",
       "  }\n",
       "}(window));"
      ],
      "application/vnd.bokehjs_load.v0+json": "\n(function(root) {\n  function now() {\n    return new Date();\n  }\n\n  var force = true;\n\n  if (typeof (root._bokeh_onload_callbacks) === \"undefined\" || force === true) {\n    root._bokeh_onload_callbacks = [];\n    root._bokeh_is_loading = undefined;\n  }\n\n  \n\n  \n  if (typeof (root._bokeh_timeout) === \"undefined\" || force === true) {\n    root._bokeh_timeout = Date.now() + 5000;\n    root._bokeh_failed_load = false;\n  }\n\n  var NB_LOAD_WARNING = {'data': {'text/html':\n     \"<div style='background-color: #fdd'>\\n\"+\n     \"<p>\\n\"+\n     \"BokehJS does not appear to have successfully loaded. If loading BokehJS from CDN, this \\n\"+\n     \"may be due to a slow or bad network connection. Possible fixes:\\n\"+\n     \"</p>\\n\"+\n     \"<ul>\\n\"+\n     \"<li>re-rerun `output_notebook()` to attempt to load from CDN again, or</li>\\n\"+\n     \"<li>use INLINE resources instead, as so:</li>\\n\"+\n     \"</ul>\\n\"+\n     \"<code>\\n\"+\n     \"from bokeh.resources import INLINE\\n\"+\n     \"output_notebook(resources=INLINE)\\n\"+\n     \"</code>\\n\"+\n     \"</div>\"}};\n\n  function display_loaded() {\n    var el = document.getElementById(\"a8127c7c-4929-4402-b671-b0d096f89c5f\");\n    if (el != null) {\n      el.textContent = \"BokehJS is loading...\";\n    }\n    if (root.Bokeh !== undefined) {\n      if (el != null) {\n        el.textContent = \"BokehJS \" + root.Bokeh.version + \" successfully loaded.\";\n      }\n    } else if (Date.now() < root._bokeh_timeout) {\n      setTimeout(display_loaded, 100)\n    }\n  }\n\n\n  function run_callbacks() {\n    try {\n      root._bokeh_onload_callbacks.forEach(function(callback) { callback() });\n    }\n    finally {\n      delete root._bokeh_onload_callbacks\n    }\n    console.info(\"Bokeh: all callbacks have finished\");\n  }\n\n  function load_libs(js_urls, callback) {\n    root._bokeh_onload_callbacks.push(callback);\n    if (root._bokeh_is_loading > 0) {\n      console.log(\"Bokeh: BokehJS is being loaded, scheduling callback at\", now());\n      return null;\n    }\n    if (js_urls == null || js_urls.length === 0) {\n      run_callbacks();\n      return null;\n    }\n    console.log(\"Bokeh: BokehJS not loaded, scheduling load and callback at\", now());\n    root._bokeh_is_loading = js_urls.length;\n    for (var i = 0; i < js_urls.length; i++) {\n      var url = js_urls[i];\n      var s = document.createElement('script');\n      s.src = url;\n      s.async = false;\n      s.onreadystatechange = s.onload = function() {\n        root._bokeh_is_loading--;\n        if (root._bokeh_is_loading === 0) {\n          console.log(\"Bokeh: all BokehJS libraries loaded\");\n          run_callbacks()\n        }\n      };\n      s.onerror = function() {\n        console.warn(\"failed to load library \" + url);\n      };\n      console.log(\"Bokeh: injecting script tag for BokehJS library: \", url);\n      document.getElementsByTagName(\"head\")[0].appendChild(s);\n    }\n  };var element = document.getElementById(\"a8127c7c-4929-4402-b671-b0d096f89c5f\");\n  if (element == null) {\n    console.log(\"Bokeh: ERROR: autoload.js configured with elementid 'a8127c7c-4929-4402-b671-b0d096f89c5f' but no matching script tag was found. \")\n    return false;\n  }\n\n  var js_urls = [\"https://cdn.pydata.org/bokeh/release/bokeh-0.12.14.min.js\", \"https://cdn.pydata.org/bokeh/release/bokeh-widgets-0.12.14.min.js\", \"https://cdn.pydata.org/bokeh/release/bokeh-tables-0.12.14.min.js\", \"https://cdn.pydata.org/bokeh/release/bokeh-gl-0.12.14.min.js\"];\n\n  var inline_js = [\n    function(Bokeh) {\n      Bokeh.set_log_level(\"info\");\n    },\n    \n    function(Bokeh) {\n      \n    },\n    function(Bokeh) {\n      console.log(\"Bokeh: injecting CSS: https://cdn.pydata.org/bokeh/release/bokeh-0.12.14.min.css\");\n      Bokeh.embed.inject_css(\"https://cdn.pydata.org/bokeh/release/bokeh-0.12.14.min.css\");\n      console.log(\"Bokeh: injecting CSS: https://cdn.pydata.org/bokeh/release/bokeh-widgets-0.12.14.min.css\");\n      Bokeh.embed.inject_css(\"https://cdn.pydata.org/bokeh/release/bokeh-widgets-0.12.14.min.css\");\n      console.log(\"Bokeh: injecting CSS: https://cdn.pydata.org/bokeh/release/bokeh-tables-0.12.14.min.css\");\n      Bokeh.embed.inject_css(\"https://cdn.pydata.org/bokeh/release/bokeh-tables-0.12.14.min.css\");\n    }\n  ];\n\n  function run_inline_js() {\n    \n    if ((root.Bokeh !== undefined) || (force === true)) {\n      for (var i = 0; i < inline_js.length; i++) {\n        inline_js[i].call(root, root.Bokeh);\n      }if (force === true) {\n        display_loaded();\n      }} else if (Date.now() < root._bokeh_timeout) {\n      setTimeout(run_inline_js, 100);\n    } else if (!root._bokeh_failed_load) {\n      console.log(\"Bokeh: BokehJS failed to load within specified timeout.\");\n      root._bokeh_failed_load = true;\n    } else if (force !== true) {\n      var cell = $(document.getElementById(\"a8127c7c-4929-4402-b671-b0d096f89c5f\")).parents('.cell').data().cell;\n      cell.output_area.append_execute_result(NB_LOAD_WARNING)\n    }\n\n  }\n\n  if (root._bokeh_is_loading === 0) {\n    console.log(\"Bokeh: BokehJS loaded, going straight to plotting\");\n    run_inline_js();\n  } else {\n    load_libs(js_urls, function() {\n      console.log(\"Bokeh: BokehJS plotting callback run at\", now());\n      run_inline_js();\n    });\n  }\n}(window));"
     },
     "metadata": {},
     "output_type": "display_data"
    }
   ],
   "source": [
    "output_notebook()"
   ]
  },
  {
   "cell_type": "code",
   "execution_count": 8,
   "metadata": {
    "collapsed": true
   },
   "outputs": [],
   "source": [
    "def fmt_cool(ds_in):\n",
    "    ds = ds_in.copy(deep=True)\n",
    "    if 'igg' in ds.dims:\n",
    "        ds = ds.sel(igg=1)\n",
    "\n",
    "    if 'g' in ds.dims:\n",
    "        ds = ds.sum('g')\n",
    "            \n",
    "    if 'band' in ds.dims:\n",
    "        try:\n",
    "            ds = ds.squeeze('band')\n",
    "        except ValueError:\n",
    "            ds = ds.sum('band')\n",
    "                \n",
    "    return ds['coolrg']\n",
    "\n",
    "\n",
    "def pltdata_cooling_1(ds_cool=None,\n",
    "                      ds_cool_crd=None, ds_cool_wgt=None):\n",
    "    \n",
    "\n",
    "\n",
    "    colors = all_palettes['Set1'][4]\n",
    "    data = [{'label': 'CLIRAD `coolr_bands`',\n",
    "             'srs': fmt_cool(ds_cool),\n",
    "             'line_dash': 'dashed', 'line_width': 5,\n",
    "             'color': colors[0], 'alpha': .6},\n",
    "            {'label': 'CRD',\n",
    "             'srs': fmt_cool(ds_cool_crd),\n",
    "             'line_dash': 'solid', 'line_width': 1.5,\n",
    "             'marker': 'circle', 'marker_size': 5,\n",
    "             'color': colors[2], 'alpha': 1,},\n",
    "            {'label': 'WGT igg=10 wgt_flux=2',\n",
    "             'srs': fmt_cool(ds_cool_wgt),\n",
    "             'line_dash': 'solid', 'line_width': 3,\n",
    "             'marker': 'square', 'marker_size': 5,\n",
    "             'color': colors[3], 'alpha': .6}]\n",
    "    return data\n",
    "\n",
    "\n",
    "def nice_xlims(pltdata=None, prange=None):\n",
    "    \n",
    "    def get_slice(srs):\n",
    "        return srs.sel(pressure=slice(*prange))\n",
    "    \n",
    "    srss = [d['srs'] for d in pltdata]\n",
    "    vmin = min([get_slice(srs).min() for srs in srss])\n",
    "    vmax = max([get_slice(srs).max() for srs in srss])\n",
    "    dv = (vmax - vmin) * .01\n",
    "    return float(vmin - dv), float(vmax + dv)\n",
    "    \n",
    "\n",
    "def plt_cooling_bokeh(pltdata=None):\n",
    "    '''\n",
    "    Plot a list of cooling rate profiles using bokeh.\n",
    "    '''\n",
    "    ymin = 1e-2 \n",
    "    ymax = 1020 \n",
    "        \n",
    "    p1 = figure(title=\"Linear pressure scale\", \n",
    "                plot_width=400)        \n",
    "    xmin, xmax = nice_xlims(pltdata, prange=(50, 1050))\n",
    "    for d in pltdata:\n",
    "        if 'marker' in d:\n",
    "            getattr(p1, d['marker'])(d['srs'].values, \n",
    "                    d['srs'].coords['pressure'].values,\n",
    "                    color=d['color'], alpha=.7)\n",
    "        p1.line(d['srs'].values, \n",
    "                d['srs'].coords['pressure'].values,\n",
    "                color=d['color'], alpha=d['alpha'], \n",
    "                line_width=d['line_width'], line_dash=d['line_dash'])\n",
    "    \n",
    "    p1.y_range = Range1d(ymax, ymin)\n",
    "    p1.yaxis.axis_label = 'pressure [mb]'   \n",
    "    p1.x_range = Range1d(xmin, xmax)\n",
    "    p1.xaxis.axis_label = 'cooling rate [K/day]'\n",
    "            \n",
    "    p2 = figure(title='Log pressure scale', y_axis_type='log',\n",
    "                plot_width=560)\n",
    "    xmin, xmax = nice_xlims(pltdata, prange=(.01, 200))\n",
    "    \n",
    "    rs = []\n",
    "    for d in pltdata:\n",
    "        rd = []\n",
    "        if 'marker' in d:\n",
    "            r_mark = getattr(p2, d['marker'])(d['srs'].values, \n",
    "                        d['srs'].coords['pressure'].values,\n",
    "                        color=d['color'], alpha=.7)\n",
    "            rd.append(r_mark)\n",
    "        r_line = p2.line(d['srs'].values, \n",
    "                    d['srs'].coords['pressure'].values,\n",
    "                    color=d['color'], alpha=d['alpha'], \n",
    "                    line_width=d['line_width'], line_dash=d['line_dash'])\n",
    "        rd.append(r_line)\n",
    "      \n",
    "        rs.append(rd)\n",
    "        \n",
    "    p2.y_range = Range1d(ymax, ymin)  \n",
    "    p2.yaxis.axis_label = 'pressure [mb]'\n",
    "    \n",
    "    p2.x_range = Range1d(xmin, xmax)\n",
    "    p2.xaxis.axis_label = 'cooling rate [K/day]'\n",
    "    \n",
    "    items = [(d['label'], r) for r, d in zip(rs, pltdata)]\n",
    "    legend = Legend(items=items, location=(10, -30))\n",
    "    legend.label_text_font_size = '8pt'\n",
    "    \n",
    "    p2.add_layout(legend, 'right')  \n",
    "    \n",
    "    show(gridplot(p1, p2, ncols=2, plot_height=500))\n",
    "    \n",
    "\n",
    "def script_plt_cooling():\n",
    "    pltdata = pltdata_cooling_1(\n",
    "        ds_cool=DS_COOL,\n",
    "        ds_cool_crd=DS_COOL_CRD,\n",
    "        ds_cool_wgt=DS_COOL_WGT)\n",
    "    plt_cooling_bokeh(pltdata=pltdata)\n",
    "    print('''FIGURE. Cooling rate profiles.''')"
   ]
  },
  {
   "cell_type": "code",
   "execution_count": 9,
   "metadata": {
    "collapsed": true
   },
   "outputs": [],
   "source": [
    "def fmt_flux(ds_in):\n",
    "    ds = ds_in.copy(deep=True)\n",
    "    \n",
    "    for l in ('level', 'layer'):\n",
    "        if l in ds.data_vars:\n",
    "            if len(ds[l].dims) > 1:\n",
    "                surface = {d: 0 for d in ds.dims if d != 'pressure'}\n",
    "                coord_level = ds[l][surface]\n",
    "                ds.coords[l] = ('pressure', coord_level)\n",
    "            else:\n",
    "                ds.coords[l] = ('pressure', ds[l])\n",
    "        \n",
    "    ds = ds.isel(pressure=[0, 23, -1])\n",
    "        \n",
    "    if 'igg' in ds.dims:\n",
    "        ds = ds.sel(igg=[1])\n",
    "        ds = ds.squeeze('igg').drop('igg')\n",
    "    \n",
    "    if 'g' in ds.dims:\n",
    "        ds = ds.sum('g')\n",
    "            \n",
    "    if 'band' in ds.dims:\n",
    "        try:\n",
    "            ds = ds.squeeze('band').drop('band')\n",
    "        except ValueError:\n",
    "            ds = ds.sum('band')\n",
    "                \n",
    "    df = ds.to_dataframe()\n",
    "    df = df.set_index('level', append=True)               \n",
    "    return df\n",
    "\n",
    "\n",
    "def tbdata_flux(ds_flux=None, ds_flux_crd=None, ds_flux_wgt=None):\n",
    "    ilevels = [0, 23, -1]\n",
    "            \n",
    "    benchmark = {'label': 'WGT igg=10 wgt_flux=1',\n",
    "                 'df': fmt_flux(ds_flux_wgt)}\n",
    "    \n",
    "    tbs = [{'label': 'CRD',\n",
    "            'df': fmt_flux(ds_flux_crd)},\n",
    "           {'label': 'CLIRAD',\n",
    "            'df': fmt_flux(ds_flux)}]\n",
    "    \n",
    "    data = {'benchmark': benchmark, 'others': tbs}\n",
    "    return data\n",
    "\n",
    "\n",
    "def tb_flux(tbdata=None):\n",
    "    benchmark = tbdata['benchmark']\n",
    "    others = tbdata['others']\n",
    "    \n",
    "    def show_tb(d=None):\n",
    "        display.display(d['df'])\n",
    "        print('Table.', 'Fluxes.', d['label'])\n",
    "        \n",
    "    def show_tbdiff(d0=None, d=None):\n",
    "        df = d['df']\n",
    "        df.index = d0['df'].index\n",
    "        display.display(df - d0['df'])\n",
    "        print('Table.', 'Fluxes.', \n",
    "              '({}) - ({})'.format(d['label'], d0['label']))\n",
    "        \n",
    "    show_tb(benchmark)\n",
    "    for d in others:\n",
    "        show_tb(d)\n",
    "        \n",
    "    for d in others:\n",
    "        show_tbdiff(d=d, d0=benchmark)\n",
    "        \n",
    "        \n",
    "def script_tb_flux():\n",
    "    data = tbdata_flux(ds_flux=DS_FLUX,\n",
    "                       ds_flux_crd=DS_FLUX_CRD,\n",
    "                       ds_flux_wgt=DS_FLUX_WGT)\n",
    "    tb_flux(tbdata=data)"
   ]
  },
  {
   "cell_type": "code",
   "execution_count": 10,
   "metadata": {
    "collapsed": true
   },
   "outputs": [],
   "source": [
    "def band_map():\n",
    "    '''\n",
    "    Maps spectral bands in lblnew to spectral bands in clirad.\n",
    "    '''\n",
    "    lblnew2clirad = {'1': '1',\n",
    "            '2': '2',\n",
    "            '3a': '3',\n",
    "            '3b': '4',\n",
    "            '3c': '5',\n",
    "            '4': '6', \n",
    "            '5': '7',\n",
    "            '6': '8',\n",
    "            '7': '9', \n",
    "            '8': '10',\n",
    "            '9': '11'}\n",
    "    \n",
    "    clirad2lblnew = {clirad: lblnew \n",
    "                     for lblnew, clirad in lblnew2clirad.items()}\n",
    "    return clirad2lblnew\n",
    "\n",
    "\n",
    "def gasbands():\n",
    "    bmap = band_map()\n",
    "    gases = list(PARAM['molecule'].keys())\n",
    "    \n",
    "    bands = [bmap[str(b)] for b in PARAM['band']]\n",
    "    return list(itertools.product(gases, bands))\n",
    "\n",
    "\n",
    "def print_bestfit_params():\n",
    "    print('Best-fit values for each (gas, band)')\n",
    "    print('------------------------------------')\n",
    "    for gas, band in gasbands():\n",
    "        print('o {} band{}'.format(gas, band))\n",
    "        param = bestfits.kdist_params(molecule=gas, band=band)\n",
    "        for name, value in param.items():\n",
    "            print(2 * ' ' + '{} = {}'.format(name, value))\n",
    "\n",
    "        \n",
    "def print_input_param():        \n",
    "    for name, value in PARAM.items():\n",
    "        print('{} = {}'.format(name, value))\n",
    "        \n",
    "        \n",
    "def print_lblnew_param():\n",
    "    for name, value in PARAM_LBLNEW.items():\n",
    "        print('{} = {}'.format(name, value))\n"
   ]
  },
  {
   "cell_type": "code",
   "execution_count": 11,
   "metadata": {
    "collapsed": true,
    "scrolled": false
   },
   "outputs": [],
   "source": [
    "def show_html(s):\n",
    "    display.display(display.HTML(s))\n",
    "\n",
    "    \n",
    "def show_markdown(s):\n",
    "    display.display(display.Markdown(s))\n",
    "\n",
    "    \n",
    "def script():\n",
    "    \n",
    "    title = '### CLIRAD-LW'\n",
    "    s_input = 'Input Parameters'\n",
    "    s_lblnew_param = 'LBLNEW case compaired against'\n",
    "    s_bestfits = 'Best-fit Parameters'\n",
    "    s_plt_cooling = 'Cooling Rate Profiles'\n",
    "    s_tb_flux = 'Flux Comparison'\n",
    "    \n",
    "    # title\n",
    "    show_markdown('### CLIRAD-LW')\n",
    "    \n",
    "    # TOC\n",
    "    show_markdown('### Table of Contents')\n",
    "    show_html(climahtml.getHTML_hrefanchor(s_input))\n",
    "    show_html(climahtml.getHTML_hrefanchor(s_lblnew_param))\n",
    "    show_html(climahtml.getHTML_hrefanchor(s_plt_cooling))\n",
    "    show_html(climahtml.getHTML_hrefanchor(s_tb_flux))\n",
    "    show_html(climahtml.getHTML_hrefanchor(s_bestfits))\n",
    "    \n",
    "    # Input parameters\n",
    "    show_html(climahtml.getHTML_idanchor(s_input))\n",
    "    show_markdown(climahtml.getMarkdown_sectitle(s_input))\n",
    "    print_input_param()\n",
    "    \n",
    "    # LBLNEW parameters \n",
    "    show_html(climahtml.getHTML_idanchor(s_lblnew_param))\n",
    "    show_markdown(climahtml.getMarkdown_sectitle(s_lblnew_param))\n",
    "    print_lblnew_param()\n",
    "    \n",
    "    # Cooling rate profiles\n",
    "    show_html(climahtml.getHTML_idanchor(s_plt_cooling))\n",
    "    show_markdown(climahtml.getMarkdown_sectitle(s_plt_cooling))\n",
    "    script_plt_cooling()\n",
    "    \n",
    "    # Flux comparison\n",
    "    show_html(climahtml.getHTML_idanchor(s_tb_flux))\n",
    "    show_markdown(climahtml.getMarkdown_sectitle(s_tb_flux))\n",
    "    script_tb_flux()\n",
    "    \n",
    "    # Best-fit values\n",
    "    show_html(climahtml.getHTML_idanchor(s_bestfits))\n",
    "    show_markdown(climahtml.getMarkdown_sectitle(s_bestfits))\n",
    "    print_bestfit_params()\n",
    "   \n",
    "    "
   ]
  },
  {
   "cell_type": "code",
   "execution_count": 12,
   "metadata": {
    "scrolled": false
   },
   "outputs": [
    {
     "data": {
      "text/markdown": [
       "### CLIRAD-LW"
      ],
      "text/plain": [
       "<IPython.core.display.Markdown object>"
      ]
     },
     "metadata": {},
     "output_type": "display_data"
    },
    {
     "data": {
      "text/markdown": [
       "### Table of Contents"
      ],
      "text/plain": [
       "<IPython.core.display.Markdown object>"
      ]
     },
     "metadata": {},
     "output_type": "display_data"
    },
    {
     "data": {
      "text/html": [
       "<a href=\"#Input_Parameters\">Input Parameters</a>"
      ],
      "text/plain": [
       "<IPython.core.display.HTML object>"
      ]
     },
     "metadata": {},
     "output_type": "display_data"
    },
    {
     "data": {
      "text/html": [
       "<a href=\"#LBLNEW_case_compaired_against\">LBLNEW case compaired against</a>"
      ],
      "text/plain": [
       "<IPython.core.display.HTML object>"
      ]
     },
     "metadata": {},
     "output_type": "display_data"
    },
    {
     "data": {
      "text/html": [
       "<a href=\"#Cooling_Rate_Profiles\">Cooling Rate Profiles</a>"
      ],
      "text/plain": [
       "<IPython.core.display.HTML object>"
      ]
     },
     "metadata": {},
     "output_type": "display_data"
    },
    {
     "data": {
      "text/html": [
       "<a href=\"#Flux_Comparison\">Flux Comparison</a>"
      ],
      "text/plain": [
       "<IPython.core.display.HTML object>"
      ]
     },
     "metadata": {},
     "output_type": "display_data"
    },
    {
     "data": {
      "text/html": [
       "<a href=\"#Best-fit_Parameters\">Best-fit Parameters</a>"
      ],
      "text/plain": [
       "<IPython.core.display.HTML object>"
      ]
     },
     "metadata": {},
     "output_type": "display_data"
    },
    {
     "data": {
      "text/html": [
       "<a id=\"Input_Parameters\"></a>"
      ],
      "text/plain": [
       "<IPython.core.display.HTML object>"
      ]
     },
     "metadata": {},
     "output_type": "display_data"
    },
    {
     "data": {
      "text/markdown": [
       "# Input Parameters"
      ],
      "text/plain": [
       "<IPython.core.display.Markdown object>"
      ]
     },
     "metadata": {},
     "output_type": "display_data"
    },
    {
     "name": "stdout",
     "output_type": "stream",
     "text": [
      "atmpro = mls\n",
      "band = [4]\n",
      "commitnumber = 7a7a0e1\n",
      "molecule = {'co2': 0.0004}\n",
      "tsfc = 294\n"
     ]
    },
    {
     "data": {
      "text/html": [
       "<a id=\"LBLNEW_case_compaired_against\"></a>"
      ],
      "text/plain": [
       "<IPython.core.display.HTML object>"
      ]
     },
     "metadata": {},
     "output_type": "display_data"
    },
    {
     "data": {
      "text/markdown": [
       "# LBLNEW case compaired against"
      ],
      "text/plain": [
       "<IPython.core.display.Markdown object>"
      ]
     },
     "metadata": {},
     "output_type": "display_data"
    },
    {
     "name": "stdout",
     "output_type": "stream",
     "text": [
      "molecule = co2\n",
      "band = 3b\n",
      "commitnumber = d62b618\n",
      "vmin = 620\n",
      "vmax = 720\n",
      "dv = 0.001\n",
      "nv = 1000\n",
      "ref_pts = [(1, 250), (10, 250)]\n",
      "ng_refs = [5, 2]\n",
      "ng_adju = [0, 0]\n",
      "klin = 0\n",
      "option_wgt_k = 1\n",
      "wgt = [(0, 0.6, 0.5, 0.7, 0.8), (0.9, 0.6)]\n",
      "w_diffuse = [(1.66, 1.66, 1.66, 1.66, 1.66), (1.66, 1.66)]\n",
      "option_wgt_flux = 1\n",
      "atmpro = trp\n",
      "tsfc = 294\n",
      "conc = 0.0004\n",
      "option_compute_btable = 0\n",
      "option_compute_ktable = 1\n"
     ]
    },
    {
     "data": {
      "text/html": [
       "<a id=\"Cooling_Rate_Profiles\"></a>"
      ],
      "text/plain": [
       "<IPython.core.display.HTML object>"
      ]
     },
     "metadata": {},
     "output_type": "display_data"
    },
    {
     "data": {
      "text/markdown": [
       "# Cooling Rate Profiles"
      ],
      "text/plain": [
       "<IPython.core.display.Markdown object>"
      ]
     },
     "metadata": {},
     "output_type": "display_data"
    },
    {
     "data": {
      "text/html": [
       "\n",
       "<div class=\"bk-root\">\n",
       "    <div class=\"bk-plotdiv\" id=\"84fa0e11-36e1-4679-9b92-992ae06bf41c\"></div>\n",
       "</div>"
      ]
     },
     "metadata": {},
     "output_type": "display_data"
    },
    {
     "data": {
      "application/javascript": [
       "(function(root) {\n",
       "  function embed_document(root) {\n",
       "    \n",
       "  var docs_json = {\"d94b5d2b-0560-4abe-9200-da753143087d\":{\"roots\":{\"references\":[{\"attributes\":{\"line_alpha\":0.1,\"line_color\":\"#1f77b4\",\"line_width\":1.5,\"x\":{\"field\":\"x\"},\"y\":{\"field\":\"y\"}},\"id\":\"07a37197-b150-4133-82cd-45c6d7f6dea1\",\"type\":\"Line\"},{\"attributes\":{\"callback\":null,\"column_names\":[\"x\",\"y\"],\"data\":{\"x\":{\"__ndarray__\":\"AqDw8xe6RUD/o2zhgXhBQESQpPOe/j9Aq0hq4/hNPECQLslfFxQ4QD3SGcWwsjNAm5CKFfWILkCFTLLNZsYnQOrP2wmD2x9Aa4QkVPiBF0AYbdY9yyoSQCPJqU8cbw1AkBrlxHRCBkC63LkqqGP5P5Zh203LrfM/ZEL2gIzd/j9wHtT4tZMFQO5AqSPgbghArhfrRgLdDEDnuD166OgRQDGMlcMwYxdAW+aW1XnkHkChr6tRIEofQLirXEqLSBpAOFhImUUGFUBgIhw49ncRQFixQP/yxw5Ay6d7VOGvCkB1Z565VjQGQEA0Disy+AFAoCjwzg4GAEBg0rN6RXb7P7W5NvNJp/U/U3nSuc+v7T+G+arcIDbiP8lDKThT97c/a6pStZPj0b/OWfOzge3Qv34jOodIeXE/b0ie1DPhqz/4POlcy8mxP27iw0omLrM/fP163frmsT90MwZX4qayP37jLUfvQ7M/ynrbtgE5tD99gXMUTcu0P6Seh8V5ULU/CVvZF8JytT9fmKEpVE21Px0yOhlCbLY/3+k8n7+2tT8zQVB47q6zP2svqu9JarI/+oGyyksIsT/IQkGt4mqvP5mL0stFYK0/hegu741Yqz/N9fhZAZCqPyrZoNVEn6o/aEWuk4lhrT+wTUFkTlSwP8EgS2dY9q8/xGdsYXaMpz9C+aK7uYmYP3OMEntg4Xk/QDOh0rUkPr+Yczunc8FlPybzZPMVgIE/TMnHlewpjD8x6ia4gPeTP+y/IS6m8Zs/MWWj8Eoipz/b5bTFvSazP139HItb9PE/\",\"dtype\":\"float64\",\"shape\":[75]},\"y\":{\"__ndarray__\":\"GhExyth1ND/Sv8nbtpRIP2vylNV0PVE/aTum7souWD/At0SJ8fVgPw3Iuahxymc/MSNhhJWvcD/bTfBN02d3P2zb5nxnaoA/CD5h5MAGhz8NmeH1TyaQP+zrCsc9p5Y/LbKd76fGnz/bLW5ISEmmPww9YvTcQq8/JV2OstnstT8Er5Y7M8G+P0c+r3jqkcU/5h99k6ZBzj88bCIzFzjVP4enV8oyxN0//yH99nXg5D8qOpLLf0jtP5kqGJXUifQ/c9cS8kHP/D+/DpwzojQEQIEmwoanVwxA4lgXt9HgE0BSSZ2AJuIbQAMJih9jjiNA5q4l5INuK0AwTKYKRj0zQNv5fmq8/DpAaCJseHrtQkB/+zpwzoxKQM3MzMzMeFJAZmZmZmZqWEAAAAAAAFxeQM3MzMzMJmJAmpmZmZkfZUBmZmZmZhhoQDMzMzMzEWtAAAAAAAAKbkBmZmZmZoFwQM3MzMzM/XFAMzMzMzN6c0CamZmZmfZ0QAAAAAAAc3ZAZmZmZmbvd0DNzMzMzGt5QDMzMzMz6HpAmpmZmZlkfEAAAAAAAOF9QGZmZmZmXX9AZmZmZuZsgECamZmZGSuBQM3MzMxM6YFAAAAAAICngkAzMzMzs2WDQGZmZmbmI4RAmpmZmRnihEDNzMzMTKCFQAAAAACAXoZAMzMzM7Mch0BmZmZm5tqHQJqZmZkZmYhAzczMzExXiUAAAAAAgBWKQDMzMzOz04pAZmZmZuaRi0CamZmZGVCMQM3MzMxMDo1AAAAAAIDMjUAzMzMzs4qOQGZmZmbmSI9A\",\"dtype\":\"float64\",\"shape\":[75]}}},\"id\":\"fff2cf5b-fe0e-49e1-b2ec-3d17f32c712e\",\"type\":\"ColumnDataSource\"},{\"attributes\":{\"num_minor_ticks\":10},\"id\":\"4d997204-4574-4169-9347-ffe3b13da891\",\"type\":\"LogTicker\"},{\"attributes\":{\"fill_alpha\":{\"value\":0.1},\"fill_color\":{\"value\":\"#1f77b4\"},\"line_alpha\":{\"value\":0.1},\"line_color\":{\"value\":\"#1f77b4\"},\"x\":{\"field\":\"x\"},\"y\":{\"field\":\"y\"}},\"id\":\"31431f6d-3ebd-48fd-8ca9-59cf933f69a5\",\"type\":\"Circle\"},{\"attributes\":{\"data_source\":{\"id\":\"4e37e594-09a2-436d-8b8d-c6a74e486455\",\"type\":\"ColumnDataSource\"},\"glyph\":{\"id\":\"18bba9c3-c73e-40ae-affd-414dd5d6bca6\",\"type\":\"Circle\"},\"hover_glyph\":null,\"muted_glyph\":null,\"nonselection_glyph\":{\"id\":\"a25fc17b-2b02-4fa4-a0cb-c30035f8e4e1\",\"type\":\"Circle\"},\"selection_glyph\":null,\"view\":{\"id\":\"17e51a6e-599d-4271-b146-904d62989917\",\"type\":\"CDSView\"}},\"id\":\"a877eb34-699b-428b-839f-72dd191055fb\",\"type\":\"GlyphRenderer\"},{\"attributes\":{\"callback\":null,\"column_names\":[\"x\",\"y\"],\"data\":{\"x\":{\"__ndarray__\":\"SE+RQ8RBU0DzOAzmr5hEQGlRn+QOs0BAbeF5qdh8OkCQoWMHlaQ0QMxHUtLDGDBAnKp7ZHMlKUD/2rBcJZ4jQOGS407pAB9AfQ0cK4zAGEDd/gF78ZITQNR7z+3Kcw5A4ScOoN/nBUAQFl/+VIb2P4axIvZLnO8/cMJzpVQY/D8lKNlFLH0EQAhhybDlcAlAeAcdGVC0DkAX36ux34YSQDwfVJitIxdAPymkRjLtHUA2HQHcLHYeQGpT0Ejf1xlAtpJnqJvtFUAuQDYkSbsRQNIMPb2tHw1AuBp+3COACED18dB3t8IEQCYfFsUGdgFAawt0klLV/D+4H/DAACL3P/BArh5B+/E/8CPpYB4O7D8IsvkT8EbgP38pc1txXaI/dvO/IuCM0r+SbH2qbTfMv0OxH6aggpU/pqLroQFlsz9wXZRNd6a5P6vFbVWOoLw/co2NSC33vT+GGHXOyzi+PzQkFzEm3L0/eYXTvMIGvT95U1df2dy7PxuCBEFXjbo/88N97kgYuT9z812viJi3P3TIk8V5D7Y/kWy6DYaUtD9y7ysg/iuzP86p4McD17E/1mlWFoKlsD9YfUMbX/+uP1FEHHEcBq0/Sx/Jy+ufqz/vH9uXCxOrP9AXUrCMLqw/zh8zTWFwrz9B3rqBU7axPyM8LYGMZ7E/aA6SA0u1qj9JFwjzOLuePy+JoT+uuYk/Y4l+WdDudj8wmGEaBKGAPx4Gmp+AxYw/0J2xRnXukz/NZKz04t2YP0CAgSqy+Z8/W8iTDE+bpz8Gq21nuDG4P7zUY7a/zvE/\",\"dtype\":\"float64\",\"shape\":[75]},\"y\":{\"__ndarray__\":\"GhExyth1ND/Sv8nbtpRIP2vylNV0PVE/aTum7souWD/At0SJ8fVgPw3Iuahxymc/MSNhhJWvcD/bTfBN02d3P2zb5nxnaoA/CD5h5MAGhz8NmeH1TyaQP+zrCsc9p5Y/LbKd76fGnz/bLW5ISEmmPww9YvTcQq8/JV2OstnstT8Er5Y7M8G+P0c+r3jqkcU/5h99k6ZBzj88bCIzFzjVP4enV8oyxN0//yH99nXg5D8qOpLLf0jtP5kqGJXUifQ/c9cS8kHP/D+/DpwzojQEQIEmwoanVwxA4lgXt9HgE0BSSZ2AJuIbQAMJih9jjiNA5q4l5INuK0AwTKYKRj0zQNv5fmq8/DpAaCJseHrtQkB/+zpwzoxKQM3MzMzMeFJAZmZmZmZqWEAAAAAAAFxeQM3MzMzMJmJAmpmZmZkfZUBmZmZmZhhoQDMzMzMzEWtAAAAAAAAKbkBmZmZmZoFwQM3MzMzM/XFAMzMzMzN6c0CamZmZmfZ0QAAAAAAAc3ZAZmZmZmbvd0DNzMzMzGt5QDMzMzMz6HpAmpmZmZlkfEAAAAAAAOF9QGZmZmZmXX9AZmZmZuZsgECamZmZGSuBQM3MzMxM6YFAAAAAAICngkAzMzMzs2WDQGZmZmbmI4RAmpmZmRnihEDNzMzMTKCFQAAAAACAXoZAMzMzM7Mch0BmZmZm5tqHQJqZmZkZmYhAzczMzExXiUAAAAAAgBWKQDMzMzOz04pAZmZmZuaRi0CamZmZGVCMQM3MzMxMDo1AAAAAAIDMjUAzMzMzs4qOQGZmZmbmSI9A\",\"dtype\":\"float64\",\"shape\":[75]}}},\"id\":\"5e26a4e5-90f8-43dd-a907-ca1a77fa2a10\",\"type\":\"ColumnDataSource\"},{\"attributes\":{\"fill_alpha\":{\"value\":0.7},\"fill_color\":{\"value\":\"#4daf4a\"},\"line_alpha\":{\"value\":0.7},\"line_color\":{\"value\":\"#4daf4a\"},\"x\":{\"field\":\"x\"},\"y\":{\"field\":\"y\"}},\"id\":\"b83f7df4-525c-45e3-bf03-36b9095a3910\",\"type\":\"Circle\"},{\"attributes\":{\"callback\":null,\"column_names\":[\"x\",\"y\"],\"data\":{\"x\":{\"__ndarray__\":\"AqDw8xe6RUD/o2zhgXhBQESQpPOe/j9Aq0hq4/hNPECQLslfFxQ4QD3SGcWwsjNAm5CKFfWILkCFTLLNZsYnQOrP2wmD2x9Aa4QkVPiBF0AYbdY9yyoSQCPJqU8cbw1AkBrlxHRCBkC63LkqqGP5P5Zh203LrfM/ZEL2gIzd/j9wHtT4tZMFQO5AqSPgbghArhfrRgLdDEDnuD166OgRQDGMlcMwYxdAW+aW1XnkHkChr6tRIEofQLirXEqLSBpAOFhImUUGFUBgIhw49ncRQFixQP/yxw5Ay6d7VOGvCkB1Z565VjQGQEA0Disy+AFAoCjwzg4GAEBg0rN6RXb7P7W5NvNJp/U/U3nSuc+v7T+G+arcIDbiP8lDKThT97c/a6pStZPj0b/OWfOzge3Qv34jOodIeXE/b0ie1DPhqz/4POlcy8mxP27iw0omLrM/fP163frmsT90MwZX4qayP37jLUfvQ7M/ynrbtgE5tD99gXMUTcu0P6Seh8V5ULU/CVvZF8JytT9fmKEpVE21Px0yOhlCbLY/3+k8n7+2tT8zQVB47q6zP2svqu9JarI/+oGyyksIsT/IQkGt4mqvP5mL0stFYK0/hegu741Yqz/N9fhZAZCqPyrZoNVEn6o/aEWuk4lhrT+wTUFkTlSwP8EgS2dY9q8/xGdsYXaMpz9C+aK7uYmYP3OMEntg4Xk/QDOh0rUkPr+Yczunc8FlPybzZPMVgIE/TMnHlewpjD8x6ia4gPeTP+y/IS6m8Zs/MWWj8Eoipz/b5bTFvSazP139HItb9PE/\",\"dtype\":\"float64\",\"shape\":[75]},\"y\":{\"__ndarray__\":\"GhExyth1ND/Sv8nbtpRIP2vylNV0PVE/aTum7souWD/At0SJ8fVgPw3Iuahxymc/MSNhhJWvcD/bTfBN02d3P2zb5nxnaoA/CD5h5MAGhz8NmeH1TyaQP+zrCsc9p5Y/LbKd76fGnz/bLW5ISEmmPww9YvTcQq8/JV2OstnstT8Er5Y7M8G+P0c+r3jqkcU/5h99k6ZBzj88bCIzFzjVP4enV8oyxN0//yH99nXg5D8qOpLLf0jtP5kqGJXUifQ/c9cS8kHP/D+/DpwzojQEQIEmwoanVwxA4lgXt9HgE0BSSZ2AJuIbQAMJih9jjiNA5q4l5INuK0AwTKYKRj0zQNv5fmq8/DpAaCJseHrtQkB/+zpwzoxKQM3MzMzMeFJAZmZmZmZqWEAAAAAAAFxeQM3MzMzMJmJAmpmZmZkfZUBmZmZmZhhoQDMzMzMzEWtAAAAAAAAKbkBmZmZmZoFwQM3MzMzM/XFAMzMzMzN6c0CamZmZmfZ0QAAAAAAAc3ZAZmZmZmbvd0DNzMzMzGt5QDMzMzMz6HpAmpmZmZlkfEAAAAAAAOF9QGZmZmZmXX9AZmZmZuZsgECamZmZGSuBQM3MzMxM6YFAAAAAAICngkAzMzMzs2WDQGZmZmbmI4RAmpmZmRnihEDNzMzMTKCFQAAAAACAXoZAMzMzM7Mch0BmZmZm5tqHQJqZmZkZmYhAzczMzExXiUAAAAAAgBWKQDMzMzOz04pAZmZmZuaRi0CamZmZGVCMQM3MzMxMDo1AAAAAAIDMjUAzMzMzs4qOQGZmZmbmSI9A\",\"dtype\":\"float64\",\"shape\":[75]}}},\"id\":\"cf6d4054-6350-410c-bef5-a430b3f9972c\",\"type\":\"ColumnDataSource\"},{\"attributes\":{\"data_source\":{\"id\":\"97433f5e-8fca-49cc-86b7-1c6e8a86320a\",\"type\":\"ColumnDataSource\"},\"glyph\":{\"id\":\"b83f7df4-525c-45e3-bf03-36b9095a3910\",\"type\":\"Circle\"},\"hover_glyph\":null,\"muted_glyph\":null,\"nonselection_glyph\":{\"id\":\"31431f6d-3ebd-48fd-8ca9-59cf933f69a5\",\"type\":\"Circle\"},\"selection_glyph\":null,\"view\":{\"id\":\"cefaa03f-b1ba-44d1-a9f6-29aabebf1df0\",\"type\":\"CDSView\"}},\"id\":\"6ee947c6-bfc2-4cf1-8c38-5fceb8e21b8f\",\"type\":\"GlyphRenderer\"},{\"attributes\":{\"label\":{\"value\":\"CRD\"},\"renderers\":[{\"id\":\"6ee947c6-bfc2-4cf1-8c38-5fceb8e21b8f\",\"type\":\"GlyphRenderer\"},{\"id\":\"a3eaca09-1420-44dc-aa69-b8546a6d78df\",\"type\":\"GlyphRenderer\"}]},\"id\":\"dbf4adff-b27d-4a55-981e-39f7467f2a39\",\"type\":\"LegendItem\"},{\"attributes\":{\"source\":{\"id\":\"757d78a8-4107-4d7d-9a67-2af473df7cf9\",\"type\":\"ColumnDataSource\"}},\"id\":\"350f9a85-d3fd-47be-be25-8f3f16008b8b\",\"type\":\"CDSView\"},{\"attributes\":{\"below\":[{\"id\":\"860f2d83-b5bd-4455-8bbe-19decd4e90ba\",\"type\":\"LinearAxis\"}],\"left\":[{\"id\":\"8beaaee7-7433-4d4e-a672-eef1c5a5d075\",\"type\":\"LogAxis\"}],\"plot_height\":500,\"plot_width\":560,\"renderers\":[{\"id\":\"860f2d83-b5bd-4455-8bbe-19decd4e90ba\",\"type\":\"LinearAxis\"},{\"id\":\"ecf21437-cba7-4cf8-b616-424958e159f9\",\"type\":\"Grid\"},{\"id\":\"8beaaee7-7433-4d4e-a672-eef1c5a5d075\",\"type\":\"LogAxis\"},{\"id\":\"88376cd0-6b49-4625-ae77-5d84b209b2d5\",\"type\":\"Grid\"},{\"id\":\"b4ae879f-f496-405a-b298-50edc57a957a\",\"type\":\"BoxAnnotation\"},{\"id\":\"ac68560e-2b71-49ab-b099-ebc10db1e9e4\",\"type\":\"GlyphRenderer\"},{\"id\":\"6ee947c6-bfc2-4cf1-8c38-5fceb8e21b8f\",\"type\":\"GlyphRenderer\"},{\"id\":\"a3eaca09-1420-44dc-aa69-b8546a6d78df\",\"type\":\"GlyphRenderer\"},{\"id\":\"c18bcc79-014e-49e3-9491-1391c66febae\",\"type\":\"GlyphRenderer\"},{\"id\":\"0546306b-f0f4-45d9-a7b7-4111678d6740\",\"type\":\"GlyphRenderer\"},{\"id\":\"7fa03666-58ca-4387-9c1b-1eacf534a163\",\"type\":\"Legend\"}],\"right\":[{\"id\":\"7fa03666-58ca-4387-9c1b-1eacf534a163\",\"type\":\"Legend\"}],\"title\":{\"id\":\"8c89d6ac-ec11-430a-bc9a-3924567dd5eb\",\"type\":\"Title\"},\"toolbar\":{\"id\":\"cd537dd8-ed53-4672-935c-19f18522f72c\",\"type\":\"Toolbar\"},\"toolbar_location\":null,\"x_range\":{\"id\":\"2f12f499-04dc-4b62-a938-175266742968\",\"type\":\"Range1d\"},\"x_scale\":{\"id\":\"4ec15b22-1c35-46fd-8230-a5662ab1e765\",\"type\":\"LinearScale\"},\"y_range\":{\"id\":\"9b600164-a678-443d-a178-c997b5ab231e\",\"type\":\"Range1d\"},\"y_scale\":{\"id\":\"84d1d062-43c4-46bb-b445-96223cffa102\",\"type\":\"LogScale\"}},\"id\":\"23cf25d6-b329-4b6d-9176-93d7db4b6b43\",\"subtype\":\"Figure\",\"type\":\"Plot\"},{\"attributes\":{},\"id\":\"97408651-e999-4650-b038-c05af669ad9b\",\"type\":\"BasicTickFormatter\"},{\"attributes\":{\"callback\":null,\"end\":1.1362776748510002,\"start\":-0.30396841975100003},\"id\":\"f1e5f459-326d-4428-8145-a15c65004138\",\"type\":\"Range1d\"},{\"attributes\":{\"ticker\":null},\"id\":\"b61ad9f8-c08a-454f-b2e3-fe0212aa9e75\",\"type\":\"LogTickFormatter\"},{\"attributes\":{\"source\":{\"id\":\"97433f5e-8fca-49cc-86b7-1c6e8a86320a\",\"type\":\"ColumnDataSource\"}},\"id\":\"cefaa03f-b1ba-44d1-a9f6-29aabebf1df0\",\"type\":\"CDSView\"},{\"attributes\":{\"plot\":{\"id\":\"23cf25d6-b329-4b6d-9176-93d7db4b6b43\",\"subtype\":\"Figure\",\"type\":\"Plot\"},\"ticker\":{\"id\":\"560963a1-2a6f-4517-ba10-b958ad202409\",\"type\":\"BasicTicker\"}},\"id\":\"ecf21437-cba7-4cf8-b616-424958e159f9\",\"type\":\"Grid\"},{\"attributes\":{\"line_color\":\"#4daf4a\",\"line_width\":1.5,\"x\":{\"field\":\"x\"},\"y\":{\"field\":\"y\"}},\"id\":\"0ba35ee2-4bd7-4805-b8e7-263c610e4b22\",\"type\":\"Line\"},{\"attributes\":{\"fill_alpha\":{\"value\":0.1},\"fill_color\":{\"value\":\"#1f77b4\"},\"line_alpha\":{\"value\":0.1},\"line_color\":{\"value\":\"#1f77b4\"},\"x\":{\"field\":\"x\"},\"y\":{\"field\":\"y\"}},\"id\":\"6578c435-e943-4cc6-8168-c9679a692ed8\",\"type\":\"Square\"},{\"attributes\":{\"data_source\":{\"id\":\"3bbdb1d8-9877-4acf-acd4-94945aa31b14\",\"type\":\"ColumnDataSource\"},\"glyph\":{\"id\":\"f22d6d63-ed67-4ff3-aad5-86bdbcfafdb7\",\"type\":\"Line\"},\"hover_glyph\":null,\"muted_glyph\":null,\"nonselection_glyph\":{\"id\":\"fbffcc1a-2541-4f1a-86c7-3eeb879f95c4\",\"type\":\"Line\"},\"selection_glyph\":null,\"view\":{\"id\":\"f872389c-b642-4fde-b467-a90edd1af804\",\"type\":\"CDSView\"}},\"id\":\"e1bfc11e-6f33-4174-9179-6dcc786635b1\",\"type\":\"GlyphRenderer\"},{\"attributes\":{\"data_source\":{\"id\":\"5e26a4e5-90f8-43dd-a907-ca1a77fa2a10\",\"type\":\"ColumnDataSource\"},\"glyph\":{\"id\":\"0ba35ee2-4bd7-4805-b8e7-263c610e4b22\",\"type\":\"Line\"},\"hover_glyph\":null,\"muted_glyph\":null,\"nonselection_glyph\":{\"id\":\"b6647145-d1c8-490b-a4a7-803eedc00d80\",\"type\":\"Line\"},\"selection_glyph\":null,\"view\":{\"id\":\"0e93b4e6-4abd-4de2-8074-ebbe1e24f559\",\"type\":\"CDSView\"}},\"id\":\"a3eaca09-1420-44dc-aa69-b8546a6d78df\",\"type\":\"GlyphRenderer\"},{\"attributes\":{\"line_alpha\":0.1,\"line_color\":\"#1f77b4\",\"line_width\":1.5,\"x\":{\"field\":\"x\"},\"y\":{\"field\":\"y\"}},\"id\":\"b6647145-d1c8-490b-a4a7-803eedc00d80\",\"type\":\"Line\"},{\"attributes\":{\"callback\":null,\"column_names\":[\"x\",\"y\"],\"data\":{\"x\":{\"__ndarray__\":\"SE+RQ8RBU0DzOAzmr5hEQGlRn+QOs0BAbeF5qdh8OkCQoWMHlaQ0QMxHUtLDGDBAnKp7ZHMlKUD/2rBcJZ4jQOGS407pAB9AfQ0cK4zAGEDd/gF78ZITQNR7z+3Kcw5A4ScOoN/nBUAQFl/+VIb2P4axIvZLnO8/cMJzpVQY/D8lKNlFLH0EQAhhybDlcAlAeAcdGVC0DkAX36ux34YSQDwfVJitIxdAPymkRjLtHUA2HQHcLHYeQGpT0Ejf1xlAtpJnqJvtFUAuQDYkSbsRQNIMPb2tHw1AuBp+3COACED18dB3t8IEQCYfFsUGdgFAawt0klLV/D+4H/DAACL3P/BArh5B+/E/8CPpYB4O7D8IsvkT8EbgP38pc1txXaI/dvO/IuCM0r+SbH2qbTfMv0OxH6aggpU/pqLroQFlsz9wXZRNd6a5P6vFbVWOoLw/co2NSC33vT+GGHXOyzi+PzQkFzEm3L0/eYXTvMIGvT95U1df2dy7PxuCBEFXjbo/88N97kgYuT9z812viJi3P3TIk8V5D7Y/kWy6DYaUtD9y7ysg/iuzP86p4McD17E/1mlWFoKlsD9YfUMbX/+uP1FEHHEcBq0/Sx/Jy+ufqz/vH9uXCxOrP9AXUrCMLqw/zh8zTWFwrz9B3rqBU7axPyM8LYGMZ7E/aA6SA0u1qj9JFwjzOLuePy+JoT+uuYk/Y4l+WdDudj8wmGEaBKGAPx4Gmp+AxYw/0J2xRnXukz/NZKz04t2YP0CAgSqy+Z8/W8iTDE+bpz8Gq21nuDG4P7zUY7a/zvE/\",\"dtype\":\"float64\",\"shape\":[75]},\"y\":{\"__ndarray__\":\"GhExyth1ND/Sv8nbtpRIP2vylNV0PVE/aTum7souWD/At0SJ8fVgPw3Iuahxymc/MSNhhJWvcD/bTfBN02d3P2zb5nxnaoA/CD5h5MAGhz8NmeH1TyaQP+zrCsc9p5Y/LbKd76fGnz/bLW5ISEmmPww9YvTcQq8/JV2OstnstT8Er5Y7M8G+P0c+r3jqkcU/5h99k6ZBzj88bCIzFzjVP4enV8oyxN0//yH99nXg5D8qOpLLf0jtP5kqGJXUifQ/c9cS8kHP/D+/DpwzojQEQIEmwoanVwxA4lgXt9HgE0BSSZ2AJuIbQAMJih9jjiNA5q4l5INuK0AwTKYKRj0zQNv5fmq8/DpAaCJseHrtQkB/+zpwzoxKQM3MzMzMeFJAZmZmZmZqWEAAAAAAAFxeQM3MzMzMJmJAmpmZmZkfZUBmZmZmZhhoQDMzMzMzEWtAAAAAAAAKbkBmZmZmZoFwQM3MzMzM/XFAMzMzMzN6c0CamZmZmfZ0QAAAAAAAc3ZAZmZmZmbvd0DNzMzMzGt5QDMzMzMz6HpAmpmZmZlkfEAAAAAAAOF9QGZmZmZmXX9AZmZmZuZsgECamZmZGSuBQM3MzMxM6YFAAAAAAICngkAzMzMzs2WDQGZmZmbmI4RAmpmZmRnihEDNzMzMTKCFQAAAAACAXoZAMzMzM7Mch0BmZmZm5tqHQJqZmZkZmYhAzczMzExXiUAAAAAAgBWKQDMzMzOz04pAZmZmZuaRi0CamZmZGVCMQM3MzMxMDo1AAAAAAIDMjUAzMzMzs4qOQGZmZmbmSI9A\",\"dtype\":\"float64\",\"shape\":[75]}}},\"id\":\"73a9ef15-1b93-471a-936a-084b27b24477\",\"type\":\"ColumnDataSource\"},{\"attributes\":{\"source\":{\"id\":\"5e26a4e5-90f8-43dd-a907-ca1a77fa2a10\",\"type\":\"ColumnDataSource\"}},\"id\":\"0e93b4e6-4abd-4de2-8074-ebbe1e24f559\",\"type\":\"CDSView\"},{\"attributes\":{},\"id\":\"4ec15b22-1c35-46fd-8230-a5662ab1e765\",\"type\":\"LinearScale\"},{\"attributes\":{\"fill_alpha\":{\"value\":0.7},\"fill_color\":{\"value\":\"#984ea3\"},\"line_alpha\":{\"value\":0.7},\"line_color\":{\"value\":\"#984ea3\"},\"x\":{\"field\":\"x\"},\"y\":{\"field\":\"y\"}},\"id\":\"3d2071ff-3157-47db-a91b-fd20993d267c\",\"type\":\"Square\"},{\"attributes\":{\"axis_label\":\"cooling rate [K/day]\",\"formatter\":{\"id\":\"8e3ac5f8-2ed2-4c70-afdd-3b20e2801d41\",\"type\":\"BasicTickFormatter\"},\"plot\":{\"id\":\"3e0bd932-b758-4768-968b-5499ea487c82\",\"subtype\":\"Figure\",\"type\":\"Plot\"},\"ticker\":{\"id\":\"155c58b8-355d-4b8c-be82-f31c4c7152c8\",\"type\":\"BasicTicker\"}},\"id\":\"8ac3b9e7-a549-4605-bc07-237951f63d55\",\"type\":\"LinearAxis\"},{\"attributes\":{\"data_source\":{\"id\":\"fff2cf5b-fe0e-49e1-b2ec-3d17f32c712e\",\"type\":\"ColumnDataSource\"},\"glyph\":{\"id\":\"3d2071ff-3157-47db-a91b-fd20993d267c\",\"type\":\"Square\"},\"hover_glyph\":null,\"muted_glyph\":null,\"nonselection_glyph\":{\"id\":\"6578c435-e943-4cc6-8168-c9679a692ed8\",\"type\":\"Square\"},\"selection_glyph\":null,\"view\":{\"id\":\"17f4719b-43fb-4910-ba10-fde0487ee3bc\",\"type\":\"CDSView\"}},\"id\":\"c18bcc79-014e-49e3-9491-1391c66febae\",\"type\":\"GlyphRenderer\"},{\"attributes\":{\"line_alpha\":0.1,\"line_color\":\"#1f77b4\",\"line_width\":3,\"x\":{\"field\":\"x\"},\"y\":{\"field\":\"y\"}},\"id\":\"fbffcc1a-2541-4f1a-86c7-3eeb879f95c4\",\"type\":\"Line\"},{\"attributes\":{\"axis_label\":\"cooling rate [K/day]\",\"formatter\":{\"id\":\"6ed9355b-a6e7-43f2-8eb8-d9bc8a6021b4\",\"type\":\"BasicTickFormatter\"},\"plot\":{\"id\":\"23cf25d6-b329-4b6d-9176-93d7db4b6b43\",\"subtype\":\"Figure\",\"type\":\"Plot\"},\"ticker\":{\"id\":\"560963a1-2a6f-4517-ba10-b958ad202409\",\"type\":\"BasicTicker\"}},\"id\":\"860f2d83-b5bd-4455-8bbe-19decd4e90ba\",\"type\":\"LinearAxis\"},{\"attributes\":{\"line_alpha\":0.1,\"line_color\":\"#1f77b4\",\"line_width\":3,\"x\":{\"field\":\"x\"},\"y\":{\"field\":\"y\"}},\"id\":\"3277a302-6e2d-4fb8-8262-7489d5039c7b\",\"type\":\"Line\"},{\"attributes\":{\"callback\":null,\"column_names\":[\"x\",\"y\"],\"data\":{\"x\":{\"__ndarray__\":\"SE+RQ8RBU0DzOAzmr5hEQGlRn+QOs0BAbeF5qdh8OkCQoWMHlaQ0QMxHUtLDGDBAnKp7ZHMlKUD/2rBcJZ4jQOGS407pAB9AfQ0cK4zAGEDd/gF78ZITQNR7z+3Kcw5A4ScOoN/nBUAQFl/+VIb2P4axIvZLnO8/cMJzpVQY/D8lKNlFLH0EQAhhybDlcAlAeAcdGVC0DkAX36ux34YSQDwfVJitIxdAPymkRjLtHUA2HQHcLHYeQGpT0Ejf1xlAtpJnqJvtFUAuQDYkSbsRQNIMPb2tHw1AuBp+3COACED18dB3t8IEQCYfFsUGdgFAawt0klLV/D+4H/DAACL3P/BArh5B+/E/8CPpYB4O7D8IsvkT8EbgP38pc1txXaI/dvO/IuCM0r+SbH2qbTfMv0OxH6aggpU/pqLroQFlsz9wXZRNd6a5P6vFbVWOoLw/co2NSC33vT+GGHXOyzi+PzQkFzEm3L0/eYXTvMIGvT95U1df2dy7PxuCBEFXjbo/88N97kgYuT9z812viJi3P3TIk8V5D7Y/kWy6DYaUtD9y7ysg/iuzP86p4McD17E/1mlWFoKlsD9YfUMbX/+uP1FEHHEcBq0/Sx/Jy+ufqz/vH9uXCxOrP9AXUrCMLqw/zh8zTWFwrz9B3rqBU7axPyM8LYGMZ7E/aA6SA0u1qj9JFwjzOLuePy+JoT+uuYk/Y4l+WdDudj8wmGEaBKGAPx4Gmp+AxYw/0J2xRnXukz/NZKz04t2YP0CAgSqy+Z8/W8iTDE+bpz8Gq21nuDG4P7zUY7a/zvE/\",\"dtype\":\"float64\",\"shape\":[75]},\"y\":{\"__ndarray__\":\"GhExyth1ND/Sv8nbtpRIP2vylNV0PVE/aTum7souWD/At0SJ8fVgPw3Iuahxymc/MSNhhJWvcD/bTfBN02d3P2zb5nxnaoA/CD5h5MAGhz8NmeH1TyaQP+zrCsc9p5Y/LbKd76fGnz/bLW5ISEmmPww9YvTcQq8/JV2OstnstT8Er5Y7M8G+P0c+r3jqkcU/5h99k6ZBzj88bCIzFzjVP4enV8oyxN0//yH99nXg5D8qOpLLf0jtP5kqGJXUifQ/c9cS8kHP/D+/DpwzojQEQIEmwoanVwxA4lgXt9HgE0BSSZ2AJuIbQAMJih9jjiNA5q4l5INuK0AwTKYKRj0zQNv5fmq8/DpAaCJseHrtQkB/+zpwzoxKQM3MzMzMeFJAZmZmZmZqWEAAAAAAAFxeQM3MzMzMJmJAmpmZmZkfZUBmZmZmZhhoQDMzMzMzEWtAAAAAAAAKbkBmZmZmZoFwQM3MzMzM/XFAMzMzMzN6c0CamZmZmfZ0QAAAAAAAc3ZAZmZmZmbvd0DNzMzMzGt5QDMzMzMz6HpAmpmZmZlkfEAAAAAAAOF9QGZmZmZmXX9AZmZmZuZsgECamZmZGSuBQM3MzMxM6YFAAAAAAICngkAzMzMzs2WDQGZmZmbmI4RAmpmZmRnihEDNzMzMTKCFQAAAAACAXoZAMzMzM7Mch0BmZmZm5tqHQJqZmZkZmYhAzczMzExXiUAAAAAAgBWKQDMzMzOz04pAZmZmZuaRi0CamZmZGVCMQM3MzMxMDo1AAAAAAIDMjUAzMzMzs4qOQGZmZmbmSI9A\",\"dtype\":\"float64\",\"shape\":[75]}}},\"id\":\"4e37e594-09a2-436d-8b8d-c6a74e486455\",\"type\":\"ColumnDataSource\"},{\"attributes\":{\"source\":{\"id\":\"3bbdb1d8-9877-4acf-acd4-94945aa31b14\",\"type\":\"ColumnDataSource\"}},\"id\":\"f872389c-b642-4fde-b467-a90edd1af804\",\"type\":\"CDSView\"},{\"attributes\":{\"source\":{\"id\":\"fff2cf5b-fe0e-49e1-b2ec-3d17f32c712e\",\"type\":\"ColumnDataSource\"}},\"id\":\"17f4719b-43fb-4910-ba10-fde0487ee3bc\",\"type\":\"CDSView\"},{\"attributes\":{\"line_alpha\":0.6,\"line_color\":\"#984ea3\",\"line_width\":3,\"x\":{\"field\":\"x\"},\"y\":{\"field\":\"y\"}},\"id\":\"c0368900-d943-4221-aa5a-1dd3bddee99e\",\"type\":\"Line\"},{\"attributes\":{\"overlay\":{\"id\":\"426d7cc2-7b5d-431b-bbf1-a1bf3a922e38\",\"type\":\"BoxAnnotation\"}},\"id\":\"111cb6c0-7b63-4fba-b5be-cfb62994b6d1\",\"type\":\"BoxZoomTool\"},{\"attributes\":{\"dimension\":1,\"plot\":{\"id\":\"23cf25d6-b329-4b6d-9176-93d7db4b6b43\",\"subtype\":\"Figure\",\"type\":\"Plot\"},\"ticker\":{\"id\":\"4d997204-4574-4169-9347-ffe3b13da891\",\"type\":\"LogTicker\"}},\"id\":\"88376cd0-6b49-4625-ae77-5d84b209b2d5\",\"type\":\"Grid\"},{\"attributes\":{\"data_source\":{\"id\":\"cf6d4054-6350-410c-bef5-a430b3f9972c\",\"type\":\"ColumnDataSource\"},\"glyph\":{\"id\":\"c0368900-d943-4221-aa5a-1dd3bddee99e\",\"type\":\"Line\"},\"hover_glyph\":null,\"muted_glyph\":null,\"nonselection_glyph\":{\"id\":\"3277a302-6e2d-4fb8-8262-7489d5039c7b\",\"type\":\"Line\"},\"selection_glyph\":null,\"view\":{\"id\":\"037fe423-842f-479a-9434-742adc0b303c\",\"type\":\"CDSView\"}},\"id\":\"0546306b-f0f4-45d9-a7b7-4111678d6740\",\"type\":\"GlyphRenderer\"},{\"attributes\":{\"items\":[{\"id\":\"3d461452-6aa4-40b3-b791-3966176b583d\",\"type\":\"LegendItem\"},{\"id\":\"dbf4adff-b27d-4a55-981e-39f7467f2a39\",\"type\":\"LegendItem\"},{\"id\":\"6a585729-791f-4e1d-bde0-6d025b7a2d0b\",\"type\":\"LegendItem\"}],\"label_text_font_size\":{\"value\":\"8pt\"},\"location\":[10,-30],\"plot\":{\"id\":\"23cf25d6-b329-4b6d-9176-93d7db4b6b43\",\"subtype\":\"Figure\",\"type\":\"Plot\"}},\"id\":\"7fa03666-58ca-4387-9c1b-1eacf534a163\",\"type\":\"Legend\"},{\"attributes\":{\"data_source\":{\"id\":\"73a9ef15-1b93-471a-936a-084b27b24477\",\"type\":\"ColumnDataSource\"},\"glyph\":{\"id\":\"fd52e60a-3df5-4e10-bcb6-3295ecf1f449\",\"type\":\"Line\"},\"hover_glyph\":null,\"muted_glyph\":null,\"nonselection_glyph\":{\"id\":\"07a37197-b150-4133-82cd-45c6d7f6dea1\",\"type\":\"Line\"},\"selection_glyph\":null,\"view\":{\"id\":\"58411bc0-559d-4e4d-a62b-cccfa3404ee7\",\"type\":\"CDSView\"}},\"id\":\"e759b68f-80f4-40d0-9089-355abbcaf1b5\",\"type\":\"GlyphRenderer\"},{\"attributes\":{\"source\":{\"id\":\"cf6d4054-6350-410c-bef5-a430b3f9972c\",\"type\":\"ColumnDataSource\"}},\"id\":\"037fe423-842f-479a-9434-742adc0b303c\",\"type\":\"CDSView\"},{\"attributes\":{\"callback\":null,\"end\":8.717122832600001,\"start\":-0.37902629260000004},\"id\":\"2f12f499-04dc-4b62-a938-175266742968\",\"type\":\"Range1d\"},{\"attributes\":{},\"id\":\"8cbbb3ff-aa40-44dc-a2d8-477b08015e55\",\"type\":\"LinearScale\"},{\"attributes\":{\"label\":{\"value\":\"CLIRAD `coolr_bands`\"},\"renderers\":[{\"id\":\"ac68560e-2b71-49ab-b099-ebc10db1e9e4\",\"type\":\"GlyphRenderer\"}]},\"id\":\"3d461452-6aa4-40b3-b791-3966176b583d\",\"type\":\"LegendItem\"},{\"attributes\":{},\"id\":\"77b60d50-5bc8-441e-9b8e-9af054ebf119\",\"type\":\"LinearScale\"},{\"attributes\":{\"axis_label\":\"pressure [mb]\",\"formatter\":{\"id\":\"b61ad9f8-c08a-454f-b2e3-fe0212aa9e75\",\"type\":\"LogTickFormatter\"},\"plot\":{\"id\":\"23cf25d6-b329-4b6d-9176-93d7db4b6b43\",\"subtype\":\"Figure\",\"type\":\"Plot\"},\"ticker\":{\"id\":\"4d997204-4574-4169-9347-ffe3b13da891\",\"type\":\"LogTicker\"}},\"id\":\"8beaaee7-7433-4d4e-a672-eef1c5a5d075\",\"type\":\"LogAxis\"},{\"attributes\":{\"callback\":null,\"column_names\":[\"x\",\"y\"],\"data\":{\"x\":{\"__ndarray__\":\"AqDw8xe6RUD/o2zhgXhBQESQpPOe/j9Aq0hq4/hNPECQLslfFxQ4QD3SGcWwsjNAm5CKFfWILkCFTLLNZsYnQOrP2wmD2x9Aa4QkVPiBF0AYbdY9yyoSQCPJqU8cbw1AkBrlxHRCBkC63LkqqGP5P5Zh203LrfM/ZEL2gIzd/j9wHtT4tZMFQO5AqSPgbghArhfrRgLdDEDnuD166OgRQDGMlcMwYxdAW+aW1XnkHkChr6tRIEofQLirXEqLSBpAOFhImUUGFUBgIhw49ncRQFixQP/yxw5Ay6d7VOGvCkB1Z565VjQGQEA0Disy+AFAoCjwzg4GAEBg0rN6RXb7P7W5NvNJp/U/U3nSuc+v7T+G+arcIDbiP8lDKThT97c/a6pStZPj0b/OWfOzge3Qv34jOodIeXE/b0ie1DPhqz/4POlcy8mxP27iw0omLrM/fP163frmsT90MwZX4qayP37jLUfvQ7M/ynrbtgE5tD99gXMUTcu0P6Seh8V5ULU/CVvZF8JytT9fmKEpVE21Px0yOhlCbLY/3+k8n7+2tT8zQVB47q6zP2svqu9JarI/+oGyyksIsT/IQkGt4mqvP5mL0stFYK0/hegu741Yqz/N9fhZAZCqPyrZoNVEn6o/aEWuk4lhrT+wTUFkTlSwP8EgS2dY9q8/xGdsYXaMpz9C+aK7uYmYP3OMEntg4Xk/QDOh0rUkPr+Yczunc8FlPybzZPMVgIE/TMnHlewpjD8x6ia4gPeTP+y/IS6m8Zs/MWWj8Eoipz/b5bTFvSazP139HItb9PE/\",\"dtype\":\"float64\",\"shape\":[75]},\"y\":{\"__ndarray__\":\"GhExyth1ND/Sv8nbtpRIP2vylNV0PVE/aTum7souWD/At0SJ8fVgPw3Iuahxymc/MSNhhJWvcD/bTfBN02d3P2zb5nxnaoA/CD5h5MAGhz8NmeH1TyaQP+zrCsc9p5Y/LbKd76fGnz/bLW5ISEmmPww9YvTcQq8/JV2OstnstT8Er5Y7M8G+P0c+r3jqkcU/5h99k6ZBzj88bCIzFzjVP4enV8oyxN0//yH99nXg5D8qOpLLf0jtP5kqGJXUifQ/c9cS8kHP/D+/DpwzojQEQIEmwoanVwxA4lgXt9HgE0BSSZ2AJuIbQAMJih9jjiNA5q4l5INuK0AwTKYKRj0zQNv5fmq8/DpAaCJseHrtQkB/+zpwzoxKQM3MzMzMeFJAZmZmZmZqWEAAAAAAAFxeQM3MzMzMJmJAmpmZmZkfZUBmZmZmZhhoQDMzMzMzEWtAAAAAAAAKbkBmZmZmZoFwQM3MzMzM/XFAMzMzMzN6c0CamZmZmfZ0QAAAAAAAc3ZAZmZmZmbvd0DNzMzMzGt5QDMzMzMz6HpAmpmZmZlkfEAAAAAAAOF9QGZmZmZmXX9AZmZmZuZsgECamZmZGSuBQM3MzMxM6YFAAAAAAICngkAzMzMzs2WDQGZmZmbmI4RAmpmZmRnihEDNzMzMTKCFQAAAAACAXoZAMzMzM7Mch0BmZmZm5tqHQJqZmZkZmYhAzczMzExXiUAAAAAAgBWKQDMzMzOz04pAZmZmZuaRi0CamZmZGVCMQM3MzMxMDo1AAAAAAIDMjUAzMzMzs4qOQGZmZmbmSI9A\",\"dtype\":\"float64\",\"shape\":[75]}}},\"id\":\"757d78a8-4107-4d7d-9a67-2af473df7cf9\",\"type\":\"ColumnDataSource\"},{\"attributes\":{\"children\":[{\"id\":\"c53c04c8-b72e-42bc-a5ae-c9c08c054d58\",\"type\":\"ToolbarBox\"},{\"id\":\"4dc78a43-02cf-4105-a59c-84071d41a169\",\"type\":\"Column\"}]},\"id\":\"02843bae-880f-452c-b1ad-9a4d7d293bbd\",\"type\":\"Column\"},{\"attributes\":{\"plot\":{\"id\":\"3e0bd932-b758-4768-968b-5499ea487c82\",\"subtype\":\"Figure\",\"type\":\"Plot\"},\"ticker\":{\"id\":\"155c58b8-355d-4b8c-be82-f31c4c7152c8\",\"type\":\"BasicTicker\"}},\"id\":\"61a4e602-e036-4738-b3a2-45a7cfb68df9\",\"type\":\"Grid\"},{\"attributes\":{\"axis_label\":\"pressure [mb]\",\"formatter\":{\"id\":\"97408651-e999-4650-b038-c05af669ad9b\",\"type\":\"BasicTickFormatter\"},\"plot\":{\"id\":\"3e0bd932-b758-4768-968b-5499ea487c82\",\"subtype\":\"Figure\",\"type\":\"Plot\"},\"ticker\":{\"id\":\"9cab36c1-ac23-4e47-992f-e82befdb41ab\",\"type\":\"BasicTicker\"}},\"id\":\"87897c8d-57fd-4a22-8619-8ea6bbb9e72f\",\"type\":\"LinearAxis\"},{\"attributes\":{\"fill_alpha\":{\"value\":0.1},\"fill_color\":{\"value\":\"#1f77b4\"},\"line_alpha\":{\"value\":0.1},\"line_color\":{\"value\":\"#1f77b4\"},\"x\":{\"field\":\"x\"},\"y\":{\"field\":\"y\"}},\"id\":\"a25fc17b-2b02-4fa4-a0cb-c30035f8e4e1\",\"type\":\"Circle\"},{\"attributes\":{},\"id\":\"9cab36c1-ac23-4e47-992f-e82befdb41ab\",\"type\":\"BasicTicker\"},{\"attributes\":{\"fill_alpha\":{\"value\":0.1},\"fill_color\":{\"value\":\"#1f77b4\"},\"line_alpha\":{\"value\":0.1},\"line_color\":{\"value\":\"#1f77b4\"},\"x\":{\"field\":\"x\"},\"y\":{\"field\":\"y\"}},\"id\":\"f697548b-cf4e-4c88-a5a8-64d677ba372b\",\"type\":\"Square\"},{\"attributes\":{},\"id\":\"e01bc8c3-2b36-40a2-a90e-68dd83d5d237\",\"type\":\"SaveTool\"},{\"attributes\":{\"source\":{\"id\":\"73a9ef15-1b93-471a-936a-084b27b24477\",\"type\":\"ColumnDataSource\"}},\"id\":\"58411bc0-559d-4e4d-a62b-cccfa3404ee7\",\"type\":\"CDSView\"},{\"attributes\":{\"dimension\":1,\"plot\":{\"id\":\"3e0bd932-b758-4768-968b-5499ea487c82\",\"subtype\":\"Figure\",\"type\":\"Plot\"},\"ticker\":{\"id\":\"9cab36c1-ac23-4e47-992f-e82befdb41ab\",\"type\":\"BasicTicker\"}},\"id\":\"d918d36d-8014-4cad-b152-3af74fd4697c\",\"type\":\"Grid\"},{\"attributes\":{},\"id\":\"cca08b39-dc30-4fea-b28e-98a39fb6bf2a\",\"type\":\"HelpTool\"},{\"attributes\":{},\"id\":\"38ca68e5-c40a-46e5-8b9f-6418fcc97209\",\"type\":\"PanTool\"},{\"attributes\":{\"line_alpha\":0.6,\"line_color\":\"#e41a1c\",\"line_dash\":[6],\"line_width\":5,\"x\":{\"field\":\"x\"},\"y\":{\"field\":\"y\"}},\"id\":\"0631d4ed-a117-4164-abbd-609305d27e88\",\"type\":\"Line\"},{\"attributes\":{},\"id\":\"155c58b8-355d-4b8c-be82-f31c4c7152c8\",\"type\":\"BasicTicker\"},{\"attributes\":{\"data_source\":{\"id\":\"757d78a8-4107-4d7d-9a67-2af473df7cf9\",\"type\":\"ColumnDataSource\"},\"glyph\":{\"id\":\"7c8612ba-9997-4d0f-954b-2e93d57f8dda\",\"type\":\"Square\"},\"hover_glyph\":null,\"muted_glyph\":null,\"nonselection_glyph\":{\"id\":\"f697548b-cf4e-4c88-a5a8-64d677ba372b\",\"type\":\"Square\"},\"selection_glyph\":null,\"view\":{\"id\":\"350f9a85-d3fd-47be-be25-8f3f16008b8b\",\"type\":\"CDSView\"}},\"id\":\"090d011f-1d6b-46f6-9bb3-29ee3377dfc0\",\"type\":\"GlyphRenderer\"},{\"attributes\":{\"active_drag\":\"auto\",\"active_inspect\":\"auto\",\"active_scroll\":\"auto\",\"active_tap\":\"auto\",\"tools\":[{\"id\":\"959f745e-da62-48ef-bfa0-81d207198508\",\"type\":\"PanTool\"},{\"id\":\"20dd36ca-f98e-4a74-a629-3cbde3638569\",\"type\":\"WheelZoomTool\"},{\"id\":\"cdb710c4-7503-449f-9a52-23b6139c2b24\",\"type\":\"BoxZoomTool\"},{\"id\":\"c98f8911-5342-411b-ade5-a1bc4d53521a\",\"type\":\"SaveTool\"},{\"id\":\"164625d5-ab0a-4bde-8595-ae18a3a5f998\",\"type\":\"ResetTool\"},{\"id\":\"710f4fad-d02a-492a-8b2b-a418ef299d33\",\"type\":\"HelpTool\"}]},\"id\":\"cd537dd8-ed53-4672-935c-19f18522f72c\",\"type\":\"Toolbar\"},{\"attributes\":{\"callback\":null,\"end\":0.01,\"start\":1020},\"id\":\"9b600164-a678-443d-a178-c997b5ab231e\",\"type\":\"Range1d\"},{\"attributes\":{},\"id\":\"560963a1-2a6f-4517-ba10-b958ad202409\",\"type\":\"BasicTicker\"},{\"attributes\":{\"fill_alpha\":{\"value\":0.7},\"fill_color\":{\"value\":\"#984ea3\"},\"line_alpha\":{\"value\":0.7},\"line_color\":{\"value\":\"#984ea3\"},\"x\":{\"field\":\"x\"},\"y\":{\"field\":\"y\"}},\"id\":\"7c8612ba-9997-4d0f-954b-2e93d57f8dda\",\"type\":\"Square\"},{\"attributes\":{\"bottom_units\":\"screen\",\"fill_alpha\":{\"value\":0.5},\"fill_color\":{\"value\":\"lightgrey\"},\"left_units\":\"screen\",\"level\":\"overlay\",\"line_alpha\":{\"value\":1.0},\"line_color\":{\"value\":\"black\"},\"line_dash\":[4,4],\"line_width\":{\"value\":2},\"plot\":null,\"render_mode\":\"css\",\"right_units\":\"screen\",\"top_units\":\"screen\"},\"id\":\"426d7cc2-7b5d-431b-bbf1-a1bf3a922e38\",\"type\":\"BoxAnnotation\"},{\"attributes\":{},\"id\":\"16ae8c1d-d34a-4290-9441-07c954ce442f\",\"type\":\"ResetTool\"},{\"attributes\":{\"line_alpha\":0.6,\"line_color\":\"#984ea3\",\"line_width\":3,\"x\":{\"field\":\"x\"},\"y\":{\"field\":\"y\"}},\"id\":\"f22d6d63-ed67-4ff3-aad5-86bdbcfafdb7\",\"type\":\"Line\"},{\"attributes\":{\"line_color\":\"#4daf4a\",\"line_width\":1.5,\"x\":{\"field\":\"x\"},\"y\":{\"field\":\"y\"}},\"id\":\"fd52e60a-3df5-4e10-bcb6-3295ecf1f449\",\"type\":\"Line\"},{\"attributes\":{\"callback\":null,\"column_names\":[\"x\",\"y\"],\"data\":{\"x\":{\"__ndarray__\":\"AqDw8xe6RUD/o2zhgXhBQESQpPOe/j9Aq0hq4/hNPECQLslfFxQ4QD3SGcWwsjNAm5CKFfWILkCFTLLNZsYnQOrP2wmD2x9Aa4QkVPiBF0AYbdY9yyoSQCPJqU8cbw1AkBrlxHRCBkC63LkqqGP5P5Zh203LrfM/ZEL2gIzd/j9wHtT4tZMFQO5AqSPgbghArhfrRgLdDEDnuD166OgRQDGMlcMwYxdAW+aW1XnkHkChr6tRIEofQLirXEqLSBpAOFhImUUGFUBgIhw49ncRQFixQP/yxw5Ay6d7VOGvCkB1Z565VjQGQEA0Disy+AFAoCjwzg4GAEBg0rN6RXb7P7W5NvNJp/U/U3nSuc+v7T+G+arcIDbiP8lDKThT97c/a6pStZPj0b/OWfOzge3Qv34jOodIeXE/b0ie1DPhqz/4POlcy8mxP27iw0omLrM/fP163frmsT90MwZX4qayP37jLUfvQ7M/ynrbtgE5tD99gXMUTcu0P6Seh8V5ULU/CVvZF8JytT9fmKEpVE21Px0yOhlCbLY/3+k8n7+2tT8zQVB47q6zP2svqu9JarI/+oGyyksIsT/IQkGt4mqvP5mL0stFYK0/hegu741Yqz/N9fhZAZCqPyrZoNVEn6o/aEWuk4lhrT+wTUFkTlSwP8EgS2dY9q8/xGdsYXaMpz9C+aK7uYmYP3OMEntg4Xk/QDOh0rUkPr+Yczunc8FlPybzZPMVgIE/TMnHlewpjD8x6ia4gPeTP+y/IS6m8Zs/MWWj8Eoipz/b5bTFvSazP139HItb9PE/\",\"dtype\":\"float64\",\"shape\":[75]},\"y\":{\"__ndarray__\":\"GhExyth1ND/Sv8nbtpRIP2vylNV0PVE/aTum7souWD/At0SJ8fVgPw3Iuahxymc/MSNhhJWvcD/bTfBN02d3P2zb5nxnaoA/CD5h5MAGhz8NmeH1TyaQP+zrCsc9p5Y/LbKd76fGnz/bLW5ISEmmPww9YvTcQq8/JV2OstnstT8Er5Y7M8G+P0c+r3jqkcU/5h99k6ZBzj88bCIzFzjVP4enV8oyxN0//yH99nXg5D8qOpLLf0jtP5kqGJXUifQ/c9cS8kHP/D+/DpwzojQEQIEmwoanVwxA4lgXt9HgE0BSSZ2AJuIbQAMJih9jjiNA5q4l5INuK0AwTKYKRj0zQNv5fmq8/DpAaCJseHrtQkB/+zpwzoxKQM3MzMzMeFJAZmZmZmZqWEAAAAAAAFxeQM3MzMzMJmJAmpmZmZkfZUBmZmZmZhhoQDMzMzMzEWtAAAAAAAAKbkBmZmZmZoFwQM3MzMzM/XFAMzMzMzN6c0CamZmZmfZ0QAAAAAAAc3ZAZmZmZmbvd0DNzMzMzGt5QDMzMzMz6HpAmpmZmZlkfEAAAAAAAOF9QGZmZmZmXX9AZmZmZuZsgECamZmZGSuBQM3MzMxM6YFAAAAAAICngkAzMzMzs2WDQGZmZmbmI4RAmpmZmRnihEDNzMzMTKCFQAAAAACAXoZAMzMzM7Mch0BmZmZm5tqHQJqZmZkZmYhAzczMzExXiUAAAAAAgBWKQDMzMzOz04pAZmZmZuaRi0CamZmZGVCMQM3MzMxMDo1AAAAAAIDMjUAzMzMzs4qOQGZmZmbmSI9A\",\"dtype\":\"float64\",\"shape\":[75]}}},\"id\":\"3bbdb1d8-9877-4acf-acd4-94945aa31b14\",\"type\":\"ColumnDataSource\"},{\"attributes\":{\"plot\":null,\"text\":\"Log pressure scale\"},\"id\":\"8c89d6ac-ec11-430a-bc9a-3924567dd5eb\",\"type\":\"Title\"},{\"attributes\":{},\"id\":\"d1149f27-3d60-44ee-8846-51feb90c3983\",\"type\":\"WheelZoomTool\"},{\"attributes\":{\"fill_alpha\":{\"value\":0.7},\"fill_color\":{\"value\":\"#4daf4a\"},\"line_alpha\":{\"value\":0.7},\"line_color\":{\"value\":\"#4daf4a\"},\"x\":{\"field\":\"x\"},\"y\":{\"field\":\"y\"}},\"id\":\"18bba9c3-c73e-40ae-affd-414dd5d6bca6\",\"type\":\"Circle\"},{\"attributes\":{},\"id\":\"20dd36ca-f98e-4a74-a629-3cbde3638569\",\"type\":\"WheelZoomTool\"},{\"attributes\":{\"line_alpha\":0.1,\"line_color\":\"#1f77b4\",\"line_dash\":[6],\"line_width\":5,\"x\":{\"field\":\"x\"},\"y\":{\"field\":\"y\"}},\"id\":\"8799b75f-0235-45b3-9a7c-e8d427b3d9f8\",\"type\":\"Line\"},{\"attributes\":{\"bottom_units\":\"screen\",\"fill_alpha\":{\"value\":0.5},\"fill_color\":{\"value\":\"lightgrey\"},\"left_units\":\"screen\",\"level\":\"overlay\",\"line_alpha\":{\"value\":1.0},\"line_color\":{\"value\":\"black\"},\"line_dash\":[4,4],\"line_width\":{\"value\":2},\"plot\":null,\"render_mode\":\"css\",\"right_units\":\"screen\",\"top_units\":\"screen\"},\"id\":\"b4ae879f-f496-405a-b298-50edc57a957a\",\"type\":\"BoxAnnotation\"},{\"attributes\":{\"children\":[{\"id\":\"3e0bd932-b758-4768-968b-5499ea487c82\",\"subtype\":\"Figure\",\"type\":\"Plot\"},{\"id\":\"23cf25d6-b329-4b6d-9176-93d7db4b6b43\",\"subtype\":\"Figure\",\"type\":\"Plot\"}]},\"id\":\"a5d0d074-e451-49cf-98eb-a3425e6f4513\",\"type\":\"Row\"},{\"attributes\":{\"data_source\":{\"id\":\"14b762b7-de99-4ec3-b9c2-c65baa483d94\",\"type\":\"ColumnDataSource\"},\"glyph\":{\"id\":\"0631d4ed-a117-4164-abbd-609305d27e88\",\"type\":\"Line\"},\"hover_glyph\":null,\"muted_glyph\":null,\"nonselection_glyph\":{\"id\":\"8799b75f-0235-45b3-9a7c-e8d427b3d9f8\",\"type\":\"Line\"},\"selection_glyph\":null,\"view\":{\"id\":\"d56d9442-67e8-4f11-a9be-c8f0a71a731f\",\"type\":\"CDSView\"}},\"id\":\"c071ef21-0602-4a32-a481-f8cd29e84b69\",\"type\":\"GlyphRenderer\"},{\"attributes\":{},\"id\":\"84d1d062-43c4-46bb-b445-96223cffa102\",\"type\":\"LogScale\"},{\"attributes\":{\"callback\":null,\"column_names\":[\"x\",\"y\"],\"data\":{\"x\":{\"__ndarray__\":\"HooCfSJxQ0B2jZYDPd5AQJ2E0hdCoj9Ac2w9QziiPEDZl2w82Lo4QA3/6QYKGDRA226Cb5pGLkA3FakwtlAlQOR8Vj5wqhxAbqu0IO8gFEDIQJ5dvqUPQPLkmgKZ/QpAHwzhPaxcBkAAGd+83Tf9PzUbdb7pJ+4/VvfI5qqZ8j9E4h5LH1r+P3rejQWFwQJAz50FRgPNBkAFuXoE7dQNQIu1CUFYbxRAMmHqncDaG0BHYXL+gUEhQJ/swf+xsx9AiG5RwTxvF0AFkDV+PO8SQL7Bct/F1hBA3G6Tm/LSC0CIY13cRqMFQOURNwJMxAFAG24bofqCAEBI0Kl1LOD7P3HUwEXd/fM/qiiggT956z+QfG8dLbjkP8knv6Dgfds/Sn6joW+gzD+WaF5IZnm9P+kxL18VqpK/cG7ApWs/xb8lxc+YrP7Cv7asE0C+N3O/KvTJo36Lqj9B8ey9u7+wP19hKeH1WLI/4YnkIQ+hsz8kbyPfUdW0P9jMemHNqbU/lVXyYHRBtj+AC4yeVq+2P7+ogT8strY/Omr5P4/qtT8Ov0/gk4q0P8wWNCCHsLI/TgRYga3UsD/PbSyi0vqtP8G5wXsHcqo/2cN4fGQ7pz8yhNijtFqkP4KlzGNTAqI/ns97wXkBoD+iCSPctZucPyfxr6F47pk/yycDvt29mD8uUh6Z642YP4xuGGB6Vps/ufejuhaznz9feP8B0fGhP91eZXx+aaE/aGckhD+qnD8oe96cMLKVP8Q4MYSZP5E/Zu9cfRQskD84BduDbgGTP1QyDX5z47U/\",\"dtype\":\"float64\",\"shape\":[75]},\"y\":{\"__ndarray__\":\"S/O/Q+51ND/430zAtpRIP2vylNV0PVE/QxsjCssuWD/TR4Z78fVgP+inNsRxymc/OuuBfZWvcD/u3TFA02d3P2d3VoBnaoA/CD5h5MAGhz/1pA8HUCaQP+zrCsc9p5Y/Fb7LAKjGnz/nJ9c/SEmmPwBD+fzcQq8/FOZwv9nstT8Er5Y7M8G+P0c+r3jqkcU/yK72qKZBzj+tM989FzjVPxbgmr8yxN0/cOm5AXbg5D+5ctXAf0jtP5kqGJXUifQ/DsrqDELP/D8MCAhBojQEQDItVnmnVwxAiFXNvdHgE0BSSZ2AJuIbQAMJih9jjiNA5q4l5INuK0CPVN/5RT0zQHzxRXu8/DpAOZ7PgHrtQkAg8wGBzoxKQBSTN8DMeFJA2NmQf2ZqWEAAAAAAAFxeQEQX1LfMJmJAmpmZmZkfZUBmZmZmZhhoQLzoK0gzEWtAAAAAAAAKbkCiC+pbZoFwQAhyUMLM/XFA+I2vPTN6c0AQ5KCEmfZ0QAAAAAAAc3ZA8Btfe2bvd0AIclDCzGt5QPeNrz0z6HpAEOSghJlkfEAAAAAAAOF9QKML6ltmXX9ABTkoYeZsgED7xteeGSuBQAhyUMJM6YFAAAAAAICngkD4ja89s2WDQAU5KGHmI4RA+8bXnhnihEAIclDCTKCFQAAAAACAXoZA+I2vPbMch0AFOShh5tqHQPvG154ZmYhACHJQwkxXiUAAAAAAgBWKQPeNrz2z04pABTkoYeaRi0D7xteeGVCMQAlyUMJMDo1AAAAAAIDMjUD3ja89s4qOQGZmZmbmSI9A\",\"dtype\":\"float64\",\"shape\":[75]}}},\"id\":\"efb469ee-d9d1-4efd-b608-4ebdbb08b1dd\",\"type\":\"ColumnDataSource\"},{\"attributes\":{\"label\":{\"value\":\"WGT igg=10 wgt_flux=2\"},\"renderers\":[{\"id\":\"c18bcc79-014e-49e3-9491-1391c66febae\",\"type\":\"GlyphRenderer\"},{\"id\":\"0546306b-f0f4-45d9-a7b7-4111678d6740\",\"type\":\"GlyphRenderer\"}]},\"id\":\"6a585729-791f-4e1d-bde0-6d025b7a2d0b\",\"type\":\"LegendItem\"},{\"attributes\":{\"line_alpha\":0.6,\"line_color\":\"#e41a1c\",\"line_dash\":[6],\"line_width\":5,\"x\":{\"field\":\"x\"},\"y\":{\"field\":\"y\"}},\"id\":\"5630a8f1-cdcb-41fb-87d3-bbc4a7b51148\",\"type\":\"Line\"},{\"attributes\":{\"callback\":null,\"end\":0.01,\"start\":1020},\"id\":\"aa69bdb9-c224-4c61-af9c-de419768bb7a\",\"type\":\"Range1d\"},{\"attributes\":{\"overlay\":{\"id\":\"b4ae879f-f496-405a-b298-50edc57a957a\",\"type\":\"BoxAnnotation\"}},\"id\":\"cdb710c4-7503-449f-9a52-23b6139c2b24\",\"type\":\"BoxZoomTool\"},{\"attributes\":{\"children\":[{\"id\":\"a5d0d074-e451-49cf-98eb-a3425e6f4513\",\"type\":\"Row\"}]},\"id\":\"4dc78a43-02cf-4105-a59c-84071d41a169\",\"type\":\"Column\"},{\"attributes\":{\"source\":{\"id\":\"14b762b7-de99-4ec3-b9c2-c65baa483d94\",\"type\":\"ColumnDataSource\"}},\"id\":\"d56d9442-67e8-4f11-a9be-c8f0a71a731f\",\"type\":\"CDSView\"},{\"attributes\":{},\"id\":\"c98f8911-5342-411b-ade5-a1bc4d53521a\",\"type\":\"SaveTool\"},{\"attributes\":{\"line_alpha\":0.1,\"line_color\":\"#1f77b4\",\"line_dash\":[6],\"line_width\":5,\"x\":{\"field\":\"x\"},\"y\":{\"field\":\"y\"}},\"id\":\"ba7fe50b-f5f6-45da-ae48-633e961232b8\",\"type\":\"Line\"},{\"attributes\":{\"source\":{\"id\":\"efb469ee-d9d1-4efd-b608-4ebdbb08b1dd\",\"type\":\"ColumnDataSource\"}},\"id\":\"cf40da54-f149-47eb-8a86-c1b914a209ae\",\"type\":\"CDSView\"},{\"attributes\":{},\"id\":\"959f745e-da62-48ef-bfa0-81d207198508\",\"type\":\"PanTool\"},{\"attributes\":{},\"id\":\"6ed9355b-a6e7-43f2-8eb8-d9bc8a6021b4\",\"type\":\"BasicTickFormatter\"},{\"attributes\":{},\"id\":\"164625d5-ab0a-4bde-8595-ae18a3a5f998\",\"type\":\"ResetTool\"},{\"attributes\":{\"callback\":null,\"column_names\":[\"x\",\"y\"],\"data\":{\"x\":{\"__ndarray__\":\"HooCfSJxQ0B2jZYDPd5AQJ2E0hdCoj9Ac2w9QziiPEDZl2w82Lo4QA3/6QYKGDRA226Cb5pGLkA3FakwtlAlQOR8Vj5wqhxAbqu0IO8gFEDIQJ5dvqUPQPLkmgKZ/QpAHwzhPaxcBkAAGd+83Tf9PzUbdb7pJ+4/VvfI5qqZ8j9E4h5LH1r+P3rejQWFwQJAz50FRgPNBkAFuXoE7dQNQIu1CUFYbxRAMmHqncDaG0BHYXL+gUEhQJ/swf+xsx9AiG5RwTxvF0AFkDV+PO8SQL7Bct/F1hBA3G6Tm/LSC0CIY13cRqMFQOURNwJMxAFAG24bofqCAEBI0Kl1LOD7P3HUwEXd/fM/qiiggT956z+QfG8dLbjkP8knv6Dgfds/Sn6joW+gzD+WaF5IZnm9P+kxL18VqpK/cG7ApWs/xb8lxc+YrP7Cv7asE0C+N3O/KvTJo36Lqj9B8ey9u7+wP19hKeH1WLI/4YnkIQ+hsz8kbyPfUdW0P9jMemHNqbU/lVXyYHRBtj+AC4yeVq+2P7+ogT8strY/Omr5P4/qtT8Ov0/gk4q0P8wWNCCHsLI/TgRYga3UsD/PbSyi0vqtP8G5wXsHcqo/2cN4fGQ7pz8yhNijtFqkP4KlzGNTAqI/ns97wXkBoD+iCSPctZucPyfxr6F47pk/yycDvt29mD8uUh6Z642YP4xuGGB6Vps/ufejuhaznz9feP8B0fGhP91eZXx+aaE/aGckhD+qnD8oe96cMLKVP8Q4MYSZP5E/Zu9cfRQskD84BduDbgGTP1QyDX5z47U/\",\"dtype\":\"float64\",\"shape\":[75]},\"y\":{\"__ndarray__\":\"S/O/Q+51ND/430zAtpRIP2vylNV0PVE/QxsjCssuWD/TR4Z78fVgP+inNsRxymc/OuuBfZWvcD/u3TFA02d3P2d3VoBnaoA/CD5h5MAGhz/1pA8HUCaQP+zrCsc9p5Y/Fb7LAKjGnz/nJ9c/SEmmPwBD+fzcQq8/FOZwv9nstT8Er5Y7M8G+P0c+r3jqkcU/yK72qKZBzj+tM989FzjVPxbgmr8yxN0/cOm5AXbg5D+5ctXAf0jtP5kqGJXUifQ/DsrqDELP/D8MCAhBojQEQDItVnmnVwxAiFXNvdHgE0BSSZ2AJuIbQAMJih9jjiNA5q4l5INuK0CPVN/5RT0zQHzxRXu8/DpAOZ7PgHrtQkAg8wGBzoxKQBSTN8DMeFJA2NmQf2ZqWEAAAAAAAFxeQEQX1LfMJmJAmpmZmZkfZUBmZmZmZhhoQLzoK0gzEWtAAAAAAAAKbkCiC+pbZoFwQAhyUMLM/XFA+I2vPTN6c0AQ5KCEmfZ0QAAAAAAAc3ZA8Btfe2bvd0AIclDCzGt5QPeNrz0z6HpAEOSghJlkfEAAAAAAAOF9QKML6ltmXX9ABTkoYeZsgED7xteeGSuBQAhyUMJM6YFAAAAAAICngkD4ja89s2WDQAU5KGHmI4RA+8bXnhnihEAIclDCTKCFQAAAAACAXoZA+I2vPbMch0AFOShh5tqHQPvG154ZmYhACHJQwkxXiUAAAAAAgBWKQPeNrz2z04pABTkoYeaRi0D7xteeGVCMQAlyUMJMDo1AAAAAAIDMjUD3ja89s4qOQGZmZmbmSI9A\",\"dtype\":\"float64\",\"shape\":[75]}}},\"id\":\"14b762b7-de99-4ec3-b9c2-c65baa483d94\",\"type\":\"ColumnDataSource\"},{\"attributes\":{},\"id\":\"8e3ac5f8-2ed2-4c70-afdd-3b20e2801d41\",\"type\":\"BasicTickFormatter\"},{\"attributes\":{\"source\":{\"id\":\"4e37e594-09a2-436d-8b8d-c6a74e486455\",\"type\":\"ColumnDataSource\"}},\"id\":\"17e51a6e-599d-4271-b146-904d62989917\",\"type\":\"CDSView\"},{\"attributes\":{\"callback\":null,\"column_names\":[\"x\",\"y\"],\"data\":{\"x\":{\"__ndarray__\":\"SE+RQ8RBU0DzOAzmr5hEQGlRn+QOs0BAbeF5qdh8OkCQoWMHlaQ0QMxHUtLDGDBAnKp7ZHMlKUD/2rBcJZ4jQOGS407pAB9AfQ0cK4zAGEDd/gF78ZITQNR7z+3Kcw5A4ScOoN/nBUAQFl/+VIb2P4axIvZLnO8/cMJzpVQY/D8lKNlFLH0EQAhhybDlcAlAeAcdGVC0DkAX36ux34YSQDwfVJitIxdAPymkRjLtHUA2HQHcLHYeQGpT0Ejf1xlAtpJnqJvtFUAuQDYkSbsRQNIMPb2tHw1AuBp+3COACED18dB3t8IEQCYfFsUGdgFAawt0klLV/D+4H/DAACL3P/BArh5B+/E/8CPpYB4O7D8IsvkT8EbgP38pc1txXaI/dvO/IuCM0r+SbH2qbTfMv0OxH6aggpU/pqLroQFlsz9wXZRNd6a5P6vFbVWOoLw/co2NSC33vT+GGHXOyzi+PzQkFzEm3L0/eYXTvMIGvT95U1df2dy7PxuCBEFXjbo/88N97kgYuT9z812viJi3P3TIk8V5D7Y/kWy6DYaUtD9y7ysg/iuzP86p4McD17E/1mlWFoKlsD9YfUMbX/+uP1FEHHEcBq0/Sx/Jy+ufqz/vH9uXCxOrP9AXUrCMLqw/zh8zTWFwrz9B3rqBU7axPyM8LYGMZ7E/aA6SA0u1qj9JFwjzOLuePy+JoT+uuYk/Y4l+WdDudj8wmGEaBKGAPx4Gmp+AxYw/0J2xRnXukz/NZKz04t2YP0CAgSqy+Z8/W8iTDE+bpz8Gq21nuDG4P7zUY7a/zvE/\",\"dtype\":\"float64\",\"shape\":[75]},\"y\":{\"__ndarray__\":\"GhExyth1ND/Sv8nbtpRIP2vylNV0PVE/aTum7souWD/At0SJ8fVgPw3Iuahxymc/MSNhhJWvcD/bTfBN02d3P2zb5nxnaoA/CD5h5MAGhz8NmeH1TyaQP+zrCsc9p5Y/LbKd76fGnz/bLW5ISEmmPww9YvTcQq8/JV2OstnstT8Er5Y7M8G+P0c+r3jqkcU/5h99k6ZBzj88bCIzFzjVP4enV8oyxN0//yH99nXg5D8qOpLLf0jtP5kqGJXUifQ/c9cS8kHP/D+/DpwzojQEQIEmwoanVwxA4lgXt9HgE0BSSZ2AJuIbQAMJih9jjiNA5q4l5INuK0AwTKYKRj0zQNv5fmq8/DpAaCJseHrtQkB/+zpwzoxKQM3MzMzMeFJAZmZmZmZqWEAAAAAAAFxeQM3MzMzMJmJAmpmZmZkfZUBmZmZmZhhoQDMzMzMzEWtAAAAAAAAKbkBmZmZmZoFwQM3MzMzM/XFAMzMzMzN6c0CamZmZmfZ0QAAAAAAAc3ZAZmZmZmbvd0DNzMzMzGt5QDMzMzMz6HpAmpmZmZlkfEAAAAAAAOF9QGZmZmZmXX9AZmZmZuZsgECamZmZGSuBQM3MzMxM6YFAAAAAAICngkAzMzMzs2WDQGZmZmbmI4RAmpmZmRnihEDNzMzMTKCFQAAAAACAXoZAMzMzM7Mch0BmZmZm5tqHQJqZmZkZmYhAzczMzExXiUAAAAAAgBWKQDMzMzOz04pAZmZmZuaRi0CamZmZGVCMQM3MzMxMDo1AAAAAAIDMjUAzMzMzs4qOQGZmZmbmSI9A\",\"dtype\":\"float64\",\"shape\":[75]}}},\"id\":\"97433f5e-8fca-49cc-86b7-1c6e8a86320a\",\"type\":\"ColumnDataSource\"},{\"attributes\":{},\"id\":\"710f4fad-d02a-492a-8b2b-a418ef299d33\",\"type\":\"HelpTool\"},{\"attributes\":{\"plot\":null,\"text\":\"Linear pressure scale\"},\"id\":\"ebe3e4db-1b88-4305-a4c4-6b9c63248630\",\"type\":\"Title\"},{\"attributes\":{\"tools\":[{\"id\":\"38ca68e5-c40a-46e5-8b9f-6418fcc97209\",\"type\":\"PanTool\"},{\"id\":\"d1149f27-3d60-44ee-8846-51feb90c3983\",\"type\":\"WheelZoomTool\"},{\"id\":\"111cb6c0-7b63-4fba-b5be-cfb62994b6d1\",\"type\":\"BoxZoomTool\"},{\"id\":\"e01bc8c3-2b36-40a2-a90e-68dd83d5d237\",\"type\":\"SaveTool\"},{\"id\":\"16ae8c1d-d34a-4290-9441-07c954ce442f\",\"type\":\"ResetTool\"},{\"id\":\"cca08b39-dc30-4fea-b28e-98a39fb6bf2a\",\"type\":\"HelpTool\"},{\"id\":\"959f745e-da62-48ef-bfa0-81d207198508\",\"type\":\"PanTool\"},{\"id\":\"20dd36ca-f98e-4a74-a629-3cbde3638569\",\"type\":\"WheelZoomTool\"},{\"id\":\"cdb710c4-7503-449f-9a52-23b6139c2b24\",\"type\":\"BoxZoomTool\"},{\"id\":\"c98f8911-5342-411b-ade5-a1bc4d53521a\",\"type\":\"SaveTool\"},{\"id\":\"164625d5-ab0a-4bde-8595-ae18a3a5f998\",\"type\":\"ResetTool\"},{\"id\":\"710f4fad-d02a-492a-8b2b-a418ef299d33\",\"type\":\"HelpTool\"}]},\"id\":\"79702a11-f41e-4b92-aafa-7a2296a5eec0\",\"type\":\"ProxyToolbar\"},{\"attributes\":{\"toolbar\":{\"id\":\"79702a11-f41e-4b92-aafa-7a2296a5eec0\",\"type\":\"ProxyToolbar\"},\"toolbar_location\":\"above\"},\"id\":\"c53c04c8-b72e-42bc-a5ae-c9c08c054d58\",\"type\":\"ToolbarBox\"},{\"attributes\":{\"below\":[{\"id\":\"8ac3b9e7-a549-4605-bc07-237951f63d55\",\"type\":\"LinearAxis\"}],\"left\":[{\"id\":\"87897c8d-57fd-4a22-8619-8ea6bbb9e72f\",\"type\":\"LinearAxis\"}],\"plot_height\":500,\"plot_width\":400,\"renderers\":[{\"id\":\"8ac3b9e7-a549-4605-bc07-237951f63d55\",\"type\":\"LinearAxis\"},{\"id\":\"61a4e602-e036-4738-b3a2-45a7cfb68df9\",\"type\":\"Grid\"},{\"id\":\"87897c8d-57fd-4a22-8619-8ea6bbb9e72f\",\"type\":\"LinearAxis\"},{\"id\":\"d918d36d-8014-4cad-b152-3af74fd4697c\",\"type\":\"Grid\"},{\"id\":\"426d7cc2-7b5d-431b-bbf1-a1bf3a922e38\",\"type\":\"BoxAnnotation\"},{\"id\":\"c071ef21-0602-4a32-a481-f8cd29e84b69\",\"type\":\"GlyphRenderer\"},{\"id\":\"a877eb34-699b-428b-839f-72dd191055fb\",\"type\":\"GlyphRenderer\"},{\"id\":\"e759b68f-80f4-40d0-9089-355abbcaf1b5\",\"type\":\"GlyphRenderer\"},{\"id\":\"090d011f-1d6b-46f6-9bb3-29ee3377dfc0\",\"type\":\"GlyphRenderer\"},{\"id\":\"e1bfc11e-6f33-4174-9179-6dcc786635b1\",\"type\":\"GlyphRenderer\"}],\"title\":{\"id\":\"ebe3e4db-1b88-4305-a4c4-6b9c63248630\",\"type\":\"Title\"},\"toolbar\":{\"id\":\"e7b0d0ad-8e63-43ef-b108-59ce76138b8e\",\"type\":\"Toolbar\"},\"toolbar_location\":null,\"x_range\":{\"id\":\"f1e5f459-326d-4428-8145-a15c65004138\",\"type\":\"Range1d\"},\"x_scale\":{\"id\":\"8cbbb3ff-aa40-44dc-a2d8-477b08015e55\",\"type\":\"LinearScale\"},\"y_range\":{\"id\":\"aa69bdb9-c224-4c61-af9c-de419768bb7a\",\"type\":\"Range1d\"},\"y_scale\":{\"id\":\"77b60d50-5bc8-441e-9b8e-9af054ebf119\",\"type\":\"LinearScale\"}},\"id\":\"3e0bd932-b758-4768-968b-5499ea487c82\",\"subtype\":\"Figure\",\"type\":\"Plot\"},{\"attributes\":{\"data_source\":{\"id\":\"efb469ee-d9d1-4efd-b608-4ebdbb08b1dd\",\"type\":\"ColumnDataSource\"},\"glyph\":{\"id\":\"5630a8f1-cdcb-41fb-87d3-bbc4a7b51148\",\"type\":\"Line\"},\"hover_glyph\":null,\"muted_glyph\":null,\"nonselection_glyph\":{\"id\":\"ba7fe50b-f5f6-45da-ae48-633e961232b8\",\"type\":\"Line\"},\"selection_glyph\":null,\"view\":{\"id\":\"cf40da54-f149-47eb-8a86-c1b914a209ae\",\"type\":\"CDSView\"}},\"id\":\"ac68560e-2b71-49ab-b099-ebc10db1e9e4\",\"type\":\"GlyphRenderer\"},{\"attributes\":{\"active_drag\":\"auto\",\"active_inspect\":\"auto\",\"active_scroll\":\"auto\",\"active_tap\":\"auto\",\"tools\":[{\"id\":\"38ca68e5-c40a-46e5-8b9f-6418fcc97209\",\"type\":\"PanTool\"},{\"id\":\"d1149f27-3d60-44ee-8846-51feb90c3983\",\"type\":\"WheelZoomTool\"},{\"id\":\"111cb6c0-7b63-4fba-b5be-cfb62994b6d1\",\"type\":\"BoxZoomTool\"},{\"id\":\"e01bc8c3-2b36-40a2-a90e-68dd83d5d237\",\"type\":\"SaveTool\"},{\"id\":\"16ae8c1d-d34a-4290-9441-07c954ce442f\",\"type\":\"ResetTool\"},{\"id\":\"cca08b39-dc30-4fea-b28e-98a39fb6bf2a\",\"type\":\"HelpTool\"}]},\"id\":\"e7b0d0ad-8e63-43ef-b108-59ce76138b8e\",\"type\":\"Toolbar\"}],\"root_ids\":[\"02843bae-880f-452c-b1ad-9a4d7d293bbd\"]},\"title\":\"Bokeh Application\",\"version\":\"0.12.14\"}};\n",
       "  var render_items = [{\"docid\":\"d94b5d2b-0560-4abe-9200-da753143087d\",\"elementid\":\"84fa0e11-36e1-4679-9b92-992ae06bf41c\",\"modelid\":\"02843bae-880f-452c-b1ad-9a4d7d293bbd\"}];\n",
       "  root.Bokeh.embed.embed_items_notebook(docs_json, render_items);\n",
       "\n",
       "  }\n",
       "  if (root.Bokeh !== undefined) {\n",
       "    embed_document(root);\n",
       "  } else {\n",
       "    var attempts = 0;\n",
       "    var timer = setInterval(function(root) {\n",
       "      if (root.Bokeh !== undefined) {\n",
       "        embed_document(root);\n",
       "        clearInterval(timer);\n",
       "      }\n",
       "      attempts++;\n",
       "      if (attempts > 100) {\n",
       "        console.log(\"Bokeh: ERROR: Unable to run BokehJS code because BokehJS library is missing\")\n",
       "        clearInterval(timer);\n",
       "      }\n",
       "    }, 10, root)\n",
       "  }\n",
       "})(window);"
      ],
      "application/vnd.bokehjs_exec.v0+json": ""
     },
     "metadata": {
      "application/vnd.bokehjs_exec.v0+json": {
       "id": "02843bae-880f-452c-b1ad-9a4d7d293bbd"
      }
     },
     "output_type": "display_data"
    },
    {
     "name": "stdout",
     "output_type": "stream",
     "text": [
      "FIGURE. Cooling rate profiles.\n"
     ]
    },
    {
     "data": {
      "text/html": [
       "<a id=\"Flux_Comparison\"></a>"
      ],
      "text/plain": [
       "<IPython.core.display.HTML object>"
      ]
     },
     "metadata": {},
     "output_type": "display_data"
    },
    {
     "data": {
      "text/markdown": [
       "# Flux Comparison"
      ],
      "text/plain": [
       "<IPython.core.display.Markdown object>"
      ]
     },
     "metadata": {},
     "output_type": "display_data"
    },
    {
     "data": {
      "text/html": [
       "<div>\n",
       "<style>\n",
       "    .dataframe thead tr:only-child th {\n",
       "        text-align: right;\n",
       "    }\n",
       "\n",
       "    .dataframe thead th {\n",
       "        text-align: left;\n",
       "    }\n",
       "\n",
       "    .dataframe tbody tr th {\n",
       "        vertical-align: top;\n",
       "    }\n",
       "</style>\n",
       "<table border=\"1\" class=\"dataframe\">\n",
       "  <thead>\n",
       "    <tr style=\"text-align: right;\">\n",
       "      <th></th>\n",
       "      <th></th>\n",
       "      <th>flug</th>\n",
       "      <th>fldg</th>\n",
       "      <th>fnetg</th>\n",
       "    </tr>\n",
       "    <tr>\n",
       "      <th>pressure</th>\n",
       "      <th>level</th>\n",
       "      <th></th>\n",
       "      <th></th>\n",
       "      <th></th>\n",
       "    </tr>\n",
       "  </thead>\n",
       "  <tbody>\n",
       "    <tr>\n",
       "      <th>0.0000</th>\n",
       "      <th>1</th>\n",
       "      <td>-15.963570</td>\n",
       "      <td>0.000000</td>\n",
       "      <td>-15.963570</td>\n",
       "    </tr>\n",
       "    <tr>\n",
       "      <th>1.0685</th>\n",
       "      <th>24</th>\n",
       "      <td>-16.063831</td>\n",
       "      <td>0.862294</td>\n",
       "      <td>-15.201537</td>\n",
       "    </tr>\n",
       "    <tr>\n",
       "      <th>1013.0000</th>\n",
       "      <th>76</th>\n",
       "      <td>-43.964837</td>\n",
       "      <td>46.572980</td>\n",
       "      <td>2.608143</td>\n",
       "    </tr>\n",
       "  </tbody>\n",
       "</table>\n",
       "</div>"
      ],
      "text/plain": [
       "                      flug       fldg      fnetg\n",
       "pressure  level                                 \n",
       "0.0000    1     -15.963570   0.000000 -15.963570\n",
       "1.0685    24    -16.063831   0.862294 -15.201537\n",
       "1013.0000 76    -43.964837  46.572980   2.608143"
      ]
     },
     "metadata": {},
     "output_type": "display_data"
    },
    {
     "name": "stdout",
     "output_type": "stream",
     "text": [
      "Table. Fluxes. WGT igg=10 wgt_flux=1\n"
     ]
    },
    {
     "data": {
      "text/html": [
       "<div>\n",
       "<style>\n",
       "    .dataframe thead tr:only-child th {\n",
       "        text-align: right;\n",
       "    }\n",
       "\n",
       "    .dataframe thead th {\n",
       "        text-align: left;\n",
       "    }\n",
       "\n",
       "    .dataframe tbody tr th {\n",
       "        vertical-align: top;\n",
       "    }\n",
       "</style>\n",
       "<table border=\"1\" class=\"dataframe\">\n",
       "  <thead>\n",
       "    <tr style=\"text-align: right;\">\n",
       "      <th></th>\n",
       "      <th></th>\n",
       "      <th>flug</th>\n",
       "      <th>fldg</th>\n",
       "      <th>fnetg</th>\n",
       "    </tr>\n",
       "    <tr>\n",
       "      <th>pressure</th>\n",
       "      <th>level</th>\n",
       "      <th></th>\n",
       "      <th></th>\n",
       "      <th></th>\n",
       "    </tr>\n",
       "  </thead>\n",
       "  <tbody>\n",
       "    <tr>\n",
       "      <th>0.0000</th>\n",
       "      <th>1</th>\n",
       "      <td>-16.233995</td>\n",
       "      <td>0.000000</td>\n",
       "      <td>-16.233995</td>\n",
       "    </tr>\n",
       "    <tr>\n",
       "      <th>1.0685</th>\n",
       "      <th>24</th>\n",
       "      <td>-16.328530</td>\n",
       "      <td>0.845911</td>\n",
       "      <td>-15.482619</td>\n",
       "    </tr>\n",
       "    <tr>\n",
       "      <th>1013.0000</th>\n",
       "      <th>76</th>\n",
       "      <td>-43.964837</td>\n",
       "      <td>46.480245</td>\n",
       "      <td>2.515407</td>\n",
       "    </tr>\n",
       "  </tbody>\n",
       "</table>\n",
       "</div>"
      ],
      "text/plain": [
       "                      flug       fldg      fnetg\n",
       "pressure  level                                 \n",
       "0.0000    1     -16.233995   0.000000 -16.233995\n",
       "1.0685    24    -16.328530   0.845911 -15.482619\n",
       "1013.0000 76    -43.964837  46.480245   2.515407"
      ]
     },
     "metadata": {},
     "output_type": "display_data"
    },
    {
     "name": "stdout",
     "output_type": "stream",
     "text": [
      "Table. Fluxes. CRD\n"
     ]
    },
    {
     "data": {
      "text/html": [
       "<div>\n",
       "<style>\n",
       "    .dataframe thead tr:only-child th {\n",
       "        text-align: right;\n",
       "    }\n",
       "\n",
       "    .dataframe thead th {\n",
       "        text-align: left;\n",
       "    }\n",
       "\n",
       "    .dataframe tbody tr th {\n",
       "        vertical-align: top;\n",
       "    }\n",
       "</style>\n",
       "<table border=\"1\" class=\"dataframe\">\n",
       "  <thead>\n",
       "    <tr style=\"text-align: right;\">\n",
       "      <th></th>\n",
       "      <th></th>\n",
       "      <th>flug</th>\n",
       "      <th>fldg</th>\n",
       "      <th>fnetg</th>\n",
       "    </tr>\n",
       "    <tr>\n",
       "      <th>pressure</th>\n",
       "      <th>level</th>\n",
       "      <th></th>\n",
       "      <th></th>\n",
       "      <th></th>\n",
       "    </tr>\n",
       "  </thead>\n",
       "  <tbody>\n",
       "    <tr>\n",
       "      <th>1.000000e-08</th>\n",
       "      <th>1</th>\n",
       "      <td>-17.608507</td>\n",
       "      <td>0.000181</td>\n",
       "      <td>-17.608326</td>\n",
       "    </tr>\n",
       "    <tr>\n",
       "      <th>1.068500e+00</th>\n",
       "      <th>24</th>\n",
       "      <td>-17.772367</td>\n",
       "      <td>0.891879</td>\n",
       "      <td>-16.880489</td>\n",
       "    </tr>\n",
       "    <tr>\n",
       "      <th>1.013000e+03</th>\n",
       "      <th>76</th>\n",
       "      <td>-43.964840</td>\n",
       "      <td>43.657795</td>\n",
       "      <td>-0.307045</td>\n",
       "    </tr>\n",
       "  </tbody>\n",
       "</table>\n",
       "</div>"
      ],
      "text/plain": [
       "                         flug       fldg      fnetg\n",
       "pressure     level                                 \n",
       "1.000000e-08 1     -17.608507   0.000181 -17.608326\n",
       "1.068500e+00 24    -17.772367   0.891879 -16.880489\n",
       "1.013000e+03 76    -43.964840  43.657795  -0.307045"
      ]
     },
     "metadata": {},
     "output_type": "display_data"
    },
    {
     "name": "stdout",
     "output_type": "stream",
     "text": [
      "Table. Fluxes. CLIRAD\n"
     ]
    },
    {
     "data": {
      "text/html": [
       "<div>\n",
       "<style>\n",
       "    .dataframe thead tr:only-child th {\n",
       "        text-align: right;\n",
       "    }\n",
       "\n",
       "    .dataframe thead th {\n",
       "        text-align: left;\n",
       "    }\n",
       "\n",
       "    .dataframe tbody tr th {\n",
       "        vertical-align: top;\n",
       "    }\n",
       "</style>\n",
       "<table border=\"1\" class=\"dataframe\">\n",
       "  <thead>\n",
       "    <tr style=\"text-align: right;\">\n",
       "      <th></th>\n",
       "      <th></th>\n",
       "      <th>flug</th>\n",
       "      <th>fldg</th>\n",
       "      <th>fnetg</th>\n",
       "    </tr>\n",
       "    <tr>\n",
       "      <th>pressure</th>\n",
       "      <th>level</th>\n",
       "      <th></th>\n",
       "      <th></th>\n",
       "      <th></th>\n",
       "    </tr>\n",
       "  </thead>\n",
       "  <tbody>\n",
       "    <tr>\n",
       "      <th>0.0000</th>\n",
       "      <th>1</th>\n",
       "      <td>-2.704245e-01</td>\n",
       "      <td>0.000000</td>\n",
       "      <td>-0.270425</td>\n",
       "    </tr>\n",
       "    <tr>\n",
       "      <th>1.0685</th>\n",
       "      <th>24</th>\n",
       "      <td>-2.646989e-01</td>\n",
       "      <td>-0.016383</td>\n",
       "      <td>-0.281082</td>\n",
       "    </tr>\n",
       "    <tr>\n",
       "      <th>1013.0000</th>\n",
       "      <th>76</th>\n",
       "      <td>2.700000e-08</td>\n",
       "      <td>-0.092735</td>\n",
       "      <td>-0.092736</td>\n",
       "    </tr>\n",
       "  </tbody>\n",
       "</table>\n",
       "</div>"
      ],
      "text/plain": [
       "                         flug      fldg     fnetg\n",
       "pressure  level                                  \n",
       "0.0000    1     -2.704245e-01  0.000000 -0.270425\n",
       "1.0685    24    -2.646989e-01 -0.016383 -0.281082\n",
       "1013.0000 76     2.700000e-08 -0.092735 -0.092736"
      ]
     },
     "metadata": {},
     "output_type": "display_data"
    },
    {
     "name": "stdout",
     "output_type": "stream",
     "text": [
      "Table. Fluxes. (CRD) - (WGT igg=10 wgt_flux=1)\n"
     ]
    },
    {
     "data": {
      "text/html": [
       "<div>\n",
       "<style>\n",
       "    .dataframe thead tr:only-child th {\n",
       "        text-align: right;\n",
       "    }\n",
       "\n",
       "    .dataframe thead th {\n",
       "        text-align: left;\n",
       "    }\n",
       "\n",
       "    .dataframe tbody tr th {\n",
       "        vertical-align: top;\n",
       "    }\n",
       "</style>\n",
       "<table border=\"1\" class=\"dataframe\">\n",
       "  <thead>\n",
       "    <tr style=\"text-align: right;\">\n",
       "      <th></th>\n",
       "      <th></th>\n",
       "      <th>flug</th>\n",
       "      <th>fldg</th>\n",
       "      <th>fnetg</th>\n",
       "    </tr>\n",
       "    <tr>\n",
       "      <th>pressure</th>\n",
       "      <th>level</th>\n",
       "      <th></th>\n",
       "      <th></th>\n",
       "      <th></th>\n",
       "    </tr>\n",
       "  </thead>\n",
       "  <tbody>\n",
       "    <tr>\n",
       "      <th>0.0000</th>\n",
       "      <th>1</th>\n",
       "      <td>-1.644937</td>\n",
       "      <td>0.000181</td>\n",
       "      <td>-1.644756</td>\n",
       "    </tr>\n",
       "    <tr>\n",
       "      <th>1.0685</th>\n",
       "      <th>24</th>\n",
       "      <td>-1.708536</td>\n",
       "      <td>0.029585</td>\n",
       "      <td>-1.678952</td>\n",
       "    </tr>\n",
       "    <tr>\n",
       "      <th>1013.0000</th>\n",
       "      <th>76</th>\n",
       "      <td>-0.000003</td>\n",
       "      <td>-2.915185</td>\n",
       "      <td>-2.915188</td>\n",
       "    </tr>\n",
       "  </tbody>\n",
       "</table>\n",
       "</div>"
      ],
      "text/plain": [
       "                     flug      fldg     fnetg\n",
       "pressure  level                              \n",
       "0.0000    1     -1.644937  0.000181 -1.644756\n",
       "1.0685    24    -1.708536  0.029585 -1.678952\n",
       "1013.0000 76    -0.000003 -2.915185 -2.915188"
      ]
     },
     "metadata": {},
     "output_type": "display_data"
    },
    {
     "name": "stdout",
     "output_type": "stream",
     "text": [
      "Table. Fluxes. (CLIRAD) - (WGT igg=10 wgt_flux=1)\n"
     ]
    },
    {
     "data": {
      "text/html": [
       "<a id=\"Best-fit_Parameters\"></a>"
      ],
      "text/plain": [
       "<IPython.core.display.HTML object>"
      ]
     },
     "metadata": {},
     "output_type": "display_data"
    },
    {
     "data": {
      "text/markdown": [
       "# Best-fit Parameters"
      ],
      "text/plain": [
       "<IPython.core.display.Markdown object>"
      ]
     },
     "metadata": {},
     "output_type": "display_data"
    },
    {
     "name": "stdout",
     "output_type": "stream",
     "text": [
      "Best-fit values for each (gas, band)\n",
      "------------------------------------\n",
      "o co2 band3b\n",
      "  molecule = co2\n",
      "  band = 3b\n",
      "  commitnumber = d62b618\n",
      "  vmin = 620\n",
      "  vmax = 720\n",
      "  dv = 0.001\n",
      "  nv = 1000\n",
      "  ref_pts = [(1, 250), (10, 250)]\n",
      "  ng_refs = [5, 2]\n",
      "  ng_adju = [0, 0]\n",
      "  klin = 0\n",
      "  option_wgt_k = 1\n",
      "  wgt = [(0, 0.6, 0.5, 0.7, 0.8), (0.9, 0.6)]\n",
      "  w_diffuse = [(1.66, 1.66, 1.66, 1.66, 1.66), (1.66, 1.66)]\n",
      "  option_wgt_flux = 1\n",
      "  atmpro = trp\n",
      "  tsfc = 294\n",
      "  conc = 0.0004\n",
      "  option_compute_btable = 0\n",
      "  option_compute_ktable = 1\n"
     ]
    }
   ],
   "source": [
    "script()"
   ]
  },
  {
   "cell_type": "code",
   "execution_count": 13,
   "metadata": {},
   "outputs": [
    {
     "data": {
      "text/html": [
       "<script>\n",
       "code_show=true; \n",
       "function code_toggle() {\n",
       " if (code_show){\n",
       " $('div.input').hide();\n",
       " } else {\n",
       " $('div.input').show();\n",
       " }\n",
       " code_show = !code_show\n",
       "} \n",
       "$( document ).ready(code_toggle);\n",
       "</script>\n",
       "<form action=\"javascript:code_toggle()\"><input type=\"submit\" value=\"Click here to toggle on/off the raw code.\"></form>"
      ],
      "text/plain": [
       "<IPython.core.display.HTML object>"
      ]
     },
     "execution_count": 13,
     "metadata": {},
     "output_type": "execute_result"
    }
   ],
   "source": [
    "display.HTML('''<script>\n",
    "code_show=true; \n",
    "function code_toggle() {\n",
    " if (code_show){\n",
    " $('div.input').hide();\n",
    " } else {\n",
    " $('div.input').show();\n",
    " }\n",
    " code_show = !code_show\n",
    "} \n",
    "$( document ).ready(code_toggle);\n",
    "</script>\n",
    "<form action=\"javascript:code_toggle()\"><input type=\"submit\" value=\"Click here to toggle on/off the raw code.\"></form>''')"
   ]
  }
 ],
 "metadata": {
  "kernelspec": {
   "display_name": "Python 3",
   "language": "python",
   "name": "python3"
  },
  "language_info": {
   "codemirror_mode": {
    "name": "ipython",
    "version": 3
   },
   "file_extension": ".py",
   "mimetype": "text/x-python",
   "name": "python",
   "nbconvert_exporter": "python",
   "pygments_lexer": "ipython3",
   "version": "3.6.1"
  }
 },
 "nbformat": 4,
 "nbformat_minor": 2
}
