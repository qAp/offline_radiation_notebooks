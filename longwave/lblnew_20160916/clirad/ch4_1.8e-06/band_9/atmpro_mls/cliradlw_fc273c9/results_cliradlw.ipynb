{
 "cells": [
  {
   "cell_type": "code",
   "execution_count": 1,
   "metadata": {
    "collapsed": true
   },
   "outputs": [],
   "source": [
    "%matplotlib inline\n",
    "import os\n",
    "import re\n",
    "import io\n",
    "import itertools\n",
    "import pprint\n",
    "\n",
    "from bokeh.io import output_notebook, show\n",
    "from bokeh.layouts import gridplot\n",
    "from bokeh.plotting import figure\n",
    "from bokeh.models import Range1d, Legend\n",
    "from bokeh.palettes import all_palettes\n",
    "\n",
    "import matplotlib\n",
    "import matplotlib.pyplot as plt\n",
    "import numpy as np\n",
    "import pandas as pd\n",
    "import xarray as xr\n",
    "\n",
    "import climatools.lblnew.bestfit_params as bestfits\n",
    "from climatools.lblnew import setup_bestfit, setup_overlap\n",
    "import climatools.lblnew.pipeline as pipe_lblnew\n",
    "import climatools.cliradlw.setup as setup_cliradlw\n",
    "import climatools.cliradlw.pipeline as pipe_cliradlw\n",
    "\n",
    "import climatools.html.html as climahtml\n",
    "from climatools.lblnew.dataio import *\n",
    "from climatools.plot.plot import *\n",
    "\n",
    "\n",
    "import IPython.display as display"
   ]
  },
  {
   "cell_type": "code",
   "execution_count": 2,
   "metadata": {
    "collapsed": true
   },
   "outputs": [],
   "source": [
    "%run param.py"
   ]
  },
  {
   "cell_type": "code",
   "execution_count": 3,
   "metadata": {
    "collapsed": true
   },
   "outputs": [],
   "source": [
    "def load_output_file(path_csv):\n",
    "    '''\n",
    "    Load lblnew output .csv file to xarray.Dataset\n",
    "    \n",
    "    Parameters\n",
    "    ----------\n",
    "    path_csv: str\n",
    "              Path to the .csv file to be loaded.\n",
    "    ds: xarray.Dataset\n",
    "        Data in the input file in the form of an xarray.Dataset.\n",
    "    '''\n",
    "    toindex = ['band', 'pressure', 'igg', 'g']    \n",
    "    df = pd.read_csv(path_csv, sep=r'\\s+')\n",
    "    df = df.set_index([i for i in toindex if i in df.columns])\n",
    "    df = df.rename(columns={'sfu': 'flug',\n",
    "                            'sfd': 'fldg',\n",
    "                            'fnet': 'fnetg',\n",
    "                            'coolr': 'coolrg'})\n",
    "    ds = xr.Dataset.from_dataframe(df)\n",
    "\n",
    "    for l in ('level', 'layer'):\n",
    "        if l in ds.data_vars:\n",
    "            if len(ds[l].dims) > 1:\n",
    "                surface = {d: 0 for d in ds.dims if d != 'pressure'}\n",
    "                coord_level = ds[l][surface]\n",
    "                ds.coords[l] = ('pressure', coord_level)\n",
    "            else:\n",
    "                ds.coords[l] = ('pressure', ds[l])\n",
    "    \n",
    "    return ds"
   ]
  },
  {
   "cell_type": "code",
   "execution_count": 4,
   "metadata": {
    "collapsed": true
   },
   "outputs": [],
   "source": [
    "def lblnew_setup(param=None):\n",
    "    if 'ng_refs' in param:\n",
    "        return {'setup': setup_bestfit,\n",
    "                'fname_flux_crd': 'output_flux.dat',\n",
    "                'fname_cool_crd': 'output_coolr.dat',\n",
    "                'fname_flux_wgt': 'output_wfluxg.dat',\n",
    "                'fname_cool_wgt': 'output_wcoolrg.dat'}\n",
    "    else:\n",
    "        return {'setup': setup_overlap,\n",
    "                'fname_flux_crd': 'output_flux.dat',\n",
    "                'fname_cool_crd': 'output_coolr.dat',\n",
    "                'fname_flux_wgt': 'output_wflux.dat',\n",
    "                'fname_cool_wgt': 'output_wcoolr.dat'}\n",
    "\n",
    "    \n",
    "def load_lblnew_data(param):\n",
    "    \n",
    "    fname_dsname = [('fname_flux_crd', 'ds_flux_crd'),\n",
    "                    ('fname_cool_crd', 'ds_cool_crd'),\n",
    "                    ('fname_flux_wgt', 'ds_flux_wgt'),\n",
    "                    ('fname_cool_wgt', 'ds_cool_wgt')]\n",
    "    \n",
    "    d = lblnew_setup(param)\n",
    "    dir_fortran = pipe_lblnew.get_dir_case(param, setup=d['setup'])\n",
    "    \n",
    "    data_dict = {}\n",
    "    for fname, dsname in fname_dsname:\n",
    "        fpath = os.path.join(dir_fortran, d[fname])\n",
    "        data_dict[dsname] = load_output_file(fpath)\n",
    "    return data_dict\n",
    "    \n",
    "\n",
    "    \n",
    "    "
   ]
  },
  {
   "cell_type": "code",
   "execution_count": 5,
   "metadata": {
    "collapsed": true
   },
   "outputs": [],
   "source": [
    "d = load_lblnew_data(PARAM_LBLNEW)\n",
    "\n",
    "DS_FLUX_CRD = d['ds_flux_crd']\n",
    "DS_COOL_CRD = d['ds_cool_crd']\n",
    "DS_FLUX_WGT = d['ds_flux_wgt']\n",
    "DS_COOL_WGT = d['ds_cool_wgt']"
   ]
  },
  {
   "cell_type": "code",
   "execution_count": 6,
   "metadata": {
    "collapsed": true
   },
   "outputs": [],
   "source": [
    "DIR_FORTRAN = pipe_cliradlw.get_fortran_dir(PARAM, \n",
    "                                            setup=setup_cliradlw)\n",
    "\n",
    "PATH_FLUX = os.path.join(DIR_FORTRAN, 'output_flux.dat')\n",
    "PATH_COOL = os.path.join(DIR_FORTRAN, 'output_coolr.dat')\n",
    "\n",
    "DS_FLUX = load_output_file(PATH_FLUX)\n",
    "DS_COOL = load_output_file(PATH_COOL)"
   ]
  },
  {
   "cell_type": "code",
   "execution_count": 7,
   "metadata": {
    "collapsed": true
   },
   "outputs": [
    {
     "data": {
      "text/html": [
       "\n",
       "    <div class=\"bk-root\">\n",
       "        <a href=\"https://bokeh.pydata.org\" target=\"_blank\" class=\"bk-logo bk-logo-small bk-logo-notebook\"></a>\n",
       "        <span id=\"3896bb11-3206-41e1-93ed-bedee3376732\">Loading BokehJS ...</span>\n",
       "    </div>"
      ]
     },
     "metadata": {},
     "output_type": "display_data"
    },
    {
     "data": {
      "application/javascript": [
       "\n",
       "(function(root) {\n",
       "  function now() {\n",
       "    return new Date();\n",
       "  }\n",
       "\n",
       "  var force = true;\n",
       "\n",
       "  if (typeof (root._bokeh_onload_callbacks) === \"undefined\" || force === true) {\n",
       "    root._bokeh_onload_callbacks = [];\n",
       "    root._bokeh_is_loading = undefined;\n",
       "  }\n",
       "\n",
       "  var JS_MIME_TYPE = 'application/javascript';\n",
       "  var HTML_MIME_TYPE = 'text/html';\n",
       "  var EXEC_MIME_TYPE = 'application/vnd.bokehjs_exec.v0+json';\n",
       "  var CLASS_NAME = 'output_bokeh rendered_html';\n",
       "\n",
       "  /**\n",
       "   * Render data to the DOM node\n",
       "   */\n",
       "  function render(props, node) {\n",
       "    var script = document.createElement(\"script\");\n",
       "    node.appendChild(script);\n",
       "  }\n",
       "\n",
       "  /**\n",
       "   * Handle when an output is cleared or removed\n",
       "   */\n",
       "  function handleClearOutput(event, handle) {\n",
       "    var cell = handle.cell;\n",
       "\n",
       "    var id = cell.output_area._bokeh_element_id;\n",
       "    var server_id = cell.output_area._bokeh_server_id;\n",
       "    // Clean up Bokeh references\n",
       "    if (id !== undefined) {\n",
       "      Bokeh.index[id].model.document.clear();\n",
       "      delete Bokeh.index[id];\n",
       "    }\n",
       "\n",
       "    if (server_id !== undefined) {\n",
       "      // Clean up Bokeh references\n",
       "      var cmd = \"from bokeh.io.state import curstate; print(curstate().uuid_to_server['\" + server_id + \"'].get_sessions()[0].document.roots[0]._id)\";\n",
       "      cell.notebook.kernel.execute(cmd, {\n",
       "        iopub: {\n",
       "          output: function(msg) {\n",
       "            var element_id = msg.content.text.trim();\n",
       "            Bokeh.index[element_id].model.document.clear();\n",
       "            delete Bokeh.index[element_id];\n",
       "          }\n",
       "        }\n",
       "      });\n",
       "      // Destroy server and session\n",
       "      var cmd = \"import bokeh.io.notebook as ion; ion.destroy_server('\" + server_id + \"')\";\n",
       "      cell.notebook.kernel.execute(cmd);\n",
       "    }\n",
       "  }\n",
       "\n",
       "  /**\n",
       "   * Handle when a new output is added\n",
       "   */\n",
       "  function handleAddOutput(event, handle) {\n",
       "    var output_area = handle.output_area;\n",
       "    var output = handle.output;\n",
       "\n",
       "    // limit handleAddOutput to display_data with EXEC_MIME_TYPE content only\n",
       "    if ((output.output_type != \"display_data\") || (!output.data.hasOwnProperty(EXEC_MIME_TYPE))) {\n",
       "      return\n",
       "    }\n",
       "\n",
       "    var toinsert = output_area.element.find(\".\" + CLASS_NAME.split(' ')[0]);\n",
       "\n",
       "    if (output.metadata[EXEC_MIME_TYPE][\"id\"] !== undefined) {\n",
       "      toinsert[0].firstChild.textContent = output.data[JS_MIME_TYPE];\n",
       "      // store reference to embed id on output_area\n",
       "      output_area._bokeh_element_id = output.metadata[EXEC_MIME_TYPE][\"id\"];\n",
       "    }\n",
       "    if (output.metadata[EXEC_MIME_TYPE][\"server_id\"] !== undefined) {\n",
       "      var bk_div = document.createElement(\"div\");\n",
       "      bk_div.innerHTML = output.data[HTML_MIME_TYPE];\n",
       "      var script_attrs = bk_div.children[0].attributes;\n",
       "      for (var i = 0; i < script_attrs.length; i++) {\n",
       "        toinsert[0].firstChild.setAttribute(script_attrs[i].name, script_attrs[i].value);\n",
       "      }\n",
       "      // store reference to server id on output_area\n",
       "      output_area._bokeh_server_id = output.metadata[EXEC_MIME_TYPE][\"server_id\"];\n",
       "    }\n",
       "  }\n",
       "\n",
       "  function register_renderer(events, OutputArea) {\n",
       "\n",
       "    function append_mime(data, metadata, element) {\n",
       "      // create a DOM node to render to\n",
       "      var toinsert = this.create_output_subarea(\n",
       "        metadata,\n",
       "        CLASS_NAME,\n",
       "        EXEC_MIME_TYPE\n",
       "      );\n",
       "      this.keyboard_manager.register_events(toinsert);\n",
       "      // Render to node\n",
       "      var props = {data: data, metadata: metadata[EXEC_MIME_TYPE]};\n",
       "      render(props, toinsert[0]);\n",
       "      element.append(toinsert);\n",
       "      return toinsert\n",
       "    }\n",
       "\n",
       "    /* Handle when an output is cleared or removed */\n",
       "    events.on('clear_output.CodeCell', handleClearOutput);\n",
       "    events.on('delete.Cell', handleClearOutput);\n",
       "\n",
       "    /* Handle when a new output is added */\n",
       "    events.on('output_added.OutputArea', handleAddOutput);\n",
       "\n",
       "    /**\n",
       "     * Register the mime type and append_mime function with output_area\n",
       "     */\n",
       "    OutputArea.prototype.register_mime_type(EXEC_MIME_TYPE, append_mime, {\n",
       "      /* Is output safe? */\n",
       "      safe: true,\n",
       "      /* Index of renderer in `output_area.display_order` */\n",
       "      index: 0\n",
       "    });\n",
       "  }\n",
       "\n",
       "  // register the mime type if in Jupyter Notebook environment and previously unregistered\n",
       "  if (root.Jupyter !== undefined) {\n",
       "    var events = require('base/js/events');\n",
       "    var OutputArea = require('notebook/js/outputarea').OutputArea;\n",
       "\n",
       "    if (OutputArea.prototype.mime_types().indexOf(EXEC_MIME_TYPE) == -1) {\n",
       "      register_renderer(events, OutputArea);\n",
       "    }\n",
       "  }\n",
       "\n",
       "  \n",
       "  if (typeof (root._bokeh_timeout) === \"undefined\" || force === true) {\n",
       "    root._bokeh_timeout = Date.now() + 5000;\n",
       "    root._bokeh_failed_load = false;\n",
       "  }\n",
       "\n",
       "  var NB_LOAD_WARNING = {'data': {'text/html':\n",
       "     \"<div style='background-color: #fdd'>\\n\"+\n",
       "     \"<p>\\n\"+\n",
       "     \"BokehJS does not appear to have successfully loaded. If loading BokehJS from CDN, this \\n\"+\n",
       "     \"may be due to a slow or bad network connection. Possible fixes:\\n\"+\n",
       "     \"</p>\\n\"+\n",
       "     \"<ul>\\n\"+\n",
       "     \"<li>re-rerun `output_notebook()` to attempt to load from CDN again, or</li>\\n\"+\n",
       "     \"<li>use INLINE resources instead, as so:</li>\\n\"+\n",
       "     \"</ul>\\n\"+\n",
       "     \"<code>\\n\"+\n",
       "     \"from bokeh.resources import INLINE\\n\"+\n",
       "     \"output_notebook(resources=INLINE)\\n\"+\n",
       "     \"</code>\\n\"+\n",
       "     \"</div>\"}};\n",
       "\n",
       "  function display_loaded() {\n",
       "    var el = document.getElementById(\"3896bb11-3206-41e1-93ed-bedee3376732\");\n",
       "    if (el != null) {\n",
       "      el.textContent = \"BokehJS is loading...\";\n",
       "    }\n",
       "    if (root.Bokeh !== undefined) {\n",
       "      if (el != null) {\n",
       "        el.textContent = \"BokehJS \" + root.Bokeh.version + \" successfully loaded.\";\n",
       "      }\n",
       "    } else if (Date.now() < root._bokeh_timeout) {\n",
       "      setTimeout(display_loaded, 100)\n",
       "    }\n",
       "  }\n",
       "\n",
       "\n",
       "  function run_callbacks() {\n",
       "    try {\n",
       "      root._bokeh_onload_callbacks.forEach(function(callback) { callback() });\n",
       "    }\n",
       "    finally {\n",
       "      delete root._bokeh_onload_callbacks\n",
       "    }\n",
       "    console.info(\"Bokeh: all callbacks have finished\");\n",
       "  }\n",
       "\n",
       "  function load_libs(js_urls, callback) {\n",
       "    root._bokeh_onload_callbacks.push(callback);\n",
       "    if (root._bokeh_is_loading > 0) {\n",
       "      console.log(\"Bokeh: BokehJS is being loaded, scheduling callback at\", now());\n",
       "      return null;\n",
       "    }\n",
       "    if (js_urls == null || js_urls.length === 0) {\n",
       "      run_callbacks();\n",
       "      return null;\n",
       "    }\n",
       "    console.log(\"Bokeh: BokehJS not loaded, scheduling load and callback at\", now());\n",
       "    root._bokeh_is_loading = js_urls.length;\n",
       "    for (var i = 0; i < js_urls.length; i++) {\n",
       "      var url = js_urls[i];\n",
       "      var s = document.createElement('script');\n",
       "      s.src = url;\n",
       "      s.async = false;\n",
       "      s.onreadystatechange = s.onload = function() {\n",
       "        root._bokeh_is_loading--;\n",
       "        if (root._bokeh_is_loading === 0) {\n",
       "          console.log(\"Bokeh: all BokehJS libraries loaded\");\n",
       "          run_callbacks()\n",
       "        }\n",
       "      };\n",
       "      s.onerror = function() {\n",
       "        console.warn(\"failed to load library \" + url);\n",
       "      };\n",
       "      console.log(\"Bokeh: injecting script tag for BokehJS library: \", url);\n",
       "      document.getElementsByTagName(\"head\")[0].appendChild(s);\n",
       "    }\n",
       "  };var element = document.getElementById(\"3896bb11-3206-41e1-93ed-bedee3376732\");\n",
       "  if (element == null) {\n",
       "    console.log(\"Bokeh: ERROR: autoload.js configured with elementid '3896bb11-3206-41e1-93ed-bedee3376732' but no matching script tag was found. \")\n",
       "    return false;\n",
       "  }\n",
       "\n",
       "  var js_urls = [\"https://cdn.pydata.org/bokeh/release/bokeh-0.12.14.min.js\", \"https://cdn.pydata.org/bokeh/release/bokeh-widgets-0.12.14.min.js\", \"https://cdn.pydata.org/bokeh/release/bokeh-tables-0.12.14.min.js\", \"https://cdn.pydata.org/bokeh/release/bokeh-gl-0.12.14.min.js\"];\n",
       "\n",
       "  var inline_js = [\n",
       "    function(Bokeh) {\n",
       "      Bokeh.set_log_level(\"info\");\n",
       "    },\n",
       "    \n",
       "    function(Bokeh) {\n",
       "      \n",
       "    },\n",
       "    function(Bokeh) {\n",
       "      console.log(\"Bokeh: injecting CSS: https://cdn.pydata.org/bokeh/release/bokeh-0.12.14.min.css\");\n",
       "      Bokeh.embed.inject_css(\"https://cdn.pydata.org/bokeh/release/bokeh-0.12.14.min.css\");\n",
       "      console.log(\"Bokeh: injecting CSS: https://cdn.pydata.org/bokeh/release/bokeh-widgets-0.12.14.min.css\");\n",
       "      Bokeh.embed.inject_css(\"https://cdn.pydata.org/bokeh/release/bokeh-widgets-0.12.14.min.css\");\n",
       "      console.log(\"Bokeh: injecting CSS: https://cdn.pydata.org/bokeh/release/bokeh-tables-0.12.14.min.css\");\n",
       "      Bokeh.embed.inject_css(\"https://cdn.pydata.org/bokeh/release/bokeh-tables-0.12.14.min.css\");\n",
       "    }\n",
       "  ];\n",
       "\n",
       "  function run_inline_js() {\n",
       "    \n",
       "    if ((root.Bokeh !== undefined) || (force === true)) {\n",
       "      for (var i = 0; i < inline_js.length; i++) {\n",
       "        inline_js[i].call(root, root.Bokeh);\n",
       "      }if (force === true) {\n",
       "        display_loaded();\n",
       "      }} else if (Date.now() < root._bokeh_timeout) {\n",
       "      setTimeout(run_inline_js, 100);\n",
       "    } else if (!root._bokeh_failed_load) {\n",
       "      console.log(\"Bokeh: BokehJS failed to load within specified timeout.\");\n",
       "      root._bokeh_failed_load = true;\n",
       "    } else if (force !== true) {\n",
       "      var cell = $(document.getElementById(\"3896bb11-3206-41e1-93ed-bedee3376732\")).parents('.cell').data().cell;\n",
       "      cell.output_area.append_execute_result(NB_LOAD_WARNING)\n",
       "    }\n",
       "\n",
       "  }\n",
       "\n",
       "  if (root._bokeh_is_loading === 0) {\n",
       "    console.log(\"Bokeh: BokehJS loaded, going straight to plotting\");\n",
       "    run_inline_js();\n",
       "  } else {\n",
       "    load_libs(js_urls, function() {\n",
       "      console.log(\"Bokeh: BokehJS plotting callback run at\", now());\n",
       "      run_inline_js();\n",
       "    });\n",
       "  }\n",
       "}(window));"
      ],
      "application/vnd.bokehjs_load.v0+json": "\n(function(root) {\n  function now() {\n    return new Date();\n  }\n\n  var force = true;\n\n  if (typeof (root._bokeh_onload_callbacks) === \"undefined\" || force === true) {\n    root._bokeh_onload_callbacks = [];\n    root._bokeh_is_loading = undefined;\n  }\n\n  \n\n  \n  if (typeof (root._bokeh_timeout) === \"undefined\" || force === true) {\n    root._bokeh_timeout = Date.now() + 5000;\n    root._bokeh_failed_load = false;\n  }\n\n  var NB_LOAD_WARNING = {'data': {'text/html':\n     \"<div style='background-color: #fdd'>\\n\"+\n     \"<p>\\n\"+\n     \"BokehJS does not appear to have successfully loaded. If loading BokehJS from CDN, this \\n\"+\n     \"may be due to a slow or bad network connection. Possible fixes:\\n\"+\n     \"</p>\\n\"+\n     \"<ul>\\n\"+\n     \"<li>re-rerun `output_notebook()` to attempt to load from CDN again, or</li>\\n\"+\n     \"<li>use INLINE resources instead, as so:</li>\\n\"+\n     \"</ul>\\n\"+\n     \"<code>\\n\"+\n     \"from bokeh.resources import INLINE\\n\"+\n     \"output_notebook(resources=INLINE)\\n\"+\n     \"</code>\\n\"+\n     \"</div>\"}};\n\n  function display_loaded() {\n    var el = document.getElementById(\"3896bb11-3206-41e1-93ed-bedee3376732\");\n    if (el != null) {\n      el.textContent = \"BokehJS is loading...\";\n    }\n    if (root.Bokeh !== undefined) {\n      if (el != null) {\n        el.textContent = \"BokehJS \" + root.Bokeh.version + \" successfully loaded.\";\n      }\n    } else if (Date.now() < root._bokeh_timeout) {\n      setTimeout(display_loaded, 100)\n    }\n  }\n\n\n  function run_callbacks() {\n    try {\n      root._bokeh_onload_callbacks.forEach(function(callback) { callback() });\n    }\n    finally {\n      delete root._bokeh_onload_callbacks\n    }\n    console.info(\"Bokeh: all callbacks have finished\");\n  }\n\n  function load_libs(js_urls, callback) {\n    root._bokeh_onload_callbacks.push(callback);\n    if (root._bokeh_is_loading > 0) {\n      console.log(\"Bokeh: BokehJS is being loaded, scheduling callback at\", now());\n      return null;\n    }\n    if (js_urls == null || js_urls.length === 0) {\n      run_callbacks();\n      return null;\n    }\n    console.log(\"Bokeh: BokehJS not loaded, scheduling load and callback at\", now());\n    root._bokeh_is_loading = js_urls.length;\n    for (var i = 0; i < js_urls.length; i++) {\n      var url = js_urls[i];\n      var s = document.createElement('script');\n      s.src = url;\n      s.async = false;\n      s.onreadystatechange = s.onload = function() {\n        root._bokeh_is_loading--;\n        if (root._bokeh_is_loading === 0) {\n          console.log(\"Bokeh: all BokehJS libraries loaded\");\n          run_callbacks()\n        }\n      };\n      s.onerror = function() {\n        console.warn(\"failed to load library \" + url);\n      };\n      console.log(\"Bokeh: injecting script tag for BokehJS library: \", url);\n      document.getElementsByTagName(\"head\")[0].appendChild(s);\n    }\n  };var element = document.getElementById(\"3896bb11-3206-41e1-93ed-bedee3376732\");\n  if (element == null) {\n    console.log(\"Bokeh: ERROR: autoload.js configured with elementid '3896bb11-3206-41e1-93ed-bedee3376732' but no matching script tag was found. \")\n    return false;\n  }\n\n  var js_urls = [\"https://cdn.pydata.org/bokeh/release/bokeh-0.12.14.min.js\", \"https://cdn.pydata.org/bokeh/release/bokeh-widgets-0.12.14.min.js\", \"https://cdn.pydata.org/bokeh/release/bokeh-tables-0.12.14.min.js\", \"https://cdn.pydata.org/bokeh/release/bokeh-gl-0.12.14.min.js\"];\n\n  var inline_js = [\n    function(Bokeh) {\n      Bokeh.set_log_level(\"info\");\n    },\n    \n    function(Bokeh) {\n      \n    },\n    function(Bokeh) {\n      console.log(\"Bokeh: injecting CSS: https://cdn.pydata.org/bokeh/release/bokeh-0.12.14.min.css\");\n      Bokeh.embed.inject_css(\"https://cdn.pydata.org/bokeh/release/bokeh-0.12.14.min.css\");\n      console.log(\"Bokeh: injecting CSS: https://cdn.pydata.org/bokeh/release/bokeh-widgets-0.12.14.min.css\");\n      Bokeh.embed.inject_css(\"https://cdn.pydata.org/bokeh/release/bokeh-widgets-0.12.14.min.css\");\n      console.log(\"Bokeh: injecting CSS: https://cdn.pydata.org/bokeh/release/bokeh-tables-0.12.14.min.css\");\n      Bokeh.embed.inject_css(\"https://cdn.pydata.org/bokeh/release/bokeh-tables-0.12.14.min.css\");\n    }\n  ];\n\n  function run_inline_js() {\n    \n    if ((root.Bokeh !== undefined) || (force === true)) {\n      for (var i = 0; i < inline_js.length; i++) {\n        inline_js[i].call(root, root.Bokeh);\n      }if (force === true) {\n        display_loaded();\n      }} else if (Date.now() < root._bokeh_timeout) {\n      setTimeout(run_inline_js, 100);\n    } else if (!root._bokeh_failed_load) {\n      console.log(\"Bokeh: BokehJS failed to load within specified timeout.\");\n      root._bokeh_failed_load = true;\n    } else if (force !== true) {\n      var cell = $(document.getElementById(\"3896bb11-3206-41e1-93ed-bedee3376732\")).parents('.cell').data().cell;\n      cell.output_area.append_execute_result(NB_LOAD_WARNING)\n    }\n\n  }\n\n  if (root._bokeh_is_loading === 0) {\n    console.log(\"Bokeh: BokehJS loaded, going straight to plotting\");\n    run_inline_js();\n  } else {\n    load_libs(js_urls, function() {\n      console.log(\"Bokeh: BokehJS plotting callback run at\", now());\n      run_inline_js();\n    });\n  }\n}(window));"
     },
     "metadata": {},
     "output_type": "display_data"
    }
   ],
   "source": [
    "output_notebook()"
   ]
  },
  {
   "cell_type": "code",
   "execution_count": 8,
   "metadata": {
    "collapsed": true
   },
   "outputs": [],
   "source": [
    "def fmt_cool(ds_in):\n",
    "    ds = ds_in.copy(deep=True)\n",
    "    if 'igg' in ds.dims:\n",
    "        ds = ds.sel(igg=1)\n",
    "\n",
    "    if 'g' in ds.dims:\n",
    "        ds = ds.sum('g')\n",
    "            \n",
    "    if 'band' in ds.dims:\n",
    "        try:\n",
    "            ds = ds.squeeze('band')\n",
    "        except ValueError:\n",
    "            ds = ds.sum('band')\n",
    "                \n",
    "    return ds['coolrg']\n",
    "\n",
    "\n",
    "def pltdata_cooling_1(ds_cool=None,\n",
    "                      ds_cool_crd=None, ds_cool_wgt=None):\n",
    "    \n",
    "\n",
    "\n",
    "    colors = all_palettes['Set1'][4]\n",
    "    data = [{'label': 'CLIRAD `coolr_bands`',\n",
    "             'srs': fmt_cool(ds_cool),\n",
    "             'line_dash': 'dashed', 'line_width': 5,\n",
    "             'color': colors[0], 'alpha': .6},\n",
    "            {'label': 'CRD',\n",
    "             'srs': fmt_cool(ds_cool_crd),\n",
    "             'line_dash': 'solid', 'line_width': 1.5,\n",
    "             'marker': 'circle', 'marker_size': 5,\n",
    "             'color': colors[2], 'alpha': 1,},\n",
    "            {'label': 'WGT igg=10 wgt_flux=2',\n",
    "             'srs': fmt_cool(ds_cool_wgt),\n",
    "             'line_dash': 'solid', 'line_width': 3,\n",
    "             'marker': 'square', 'marker_size': 5,\n",
    "             'color': colors[3], 'alpha': .6}]\n",
    "    return data\n",
    "\n",
    "\n",
    "def nice_xlims(pltdata=None, prange=None):\n",
    "    \n",
    "    def get_slice(srs):\n",
    "        return srs.sel(pressure=slice(*prange))\n",
    "    \n",
    "    srss = [d['srs'] for d in pltdata]\n",
    "    vmin = min([get_slice(srs).min() for srs in srss])\n",
    "    vmax = max([get_slice(srs).max() for srs in srss])\n",
    "    dv = (vmax - vmin) * .01\n",
    "    return float(vmin - dv), float(vmax + dv)\n",
    "    \n",
    "\n",
    "def plt_cooling_bokeh(pltdata=None):\n",
    "    '''\n",
    "    Plot a list of cooling rate profiles using bokeh.\n",
    "    '''\n",
    "    ymin = 1e-2 \n",
    "    ymax = 1020 \n",
    "        \n",
    "    p1 = figure(title=\"Linear pressure scale\", \n",
    "                plot_width=400)        \n",
    "    xmin, xmax = nice_xlims(pltdata, prange=(50, 1050))\n",
    "    for d in pltdata:\n",
    "        if 'marker' in d:\n",
    "            getattr(p1, d['marker'])(d['srs'].values, \n",
    "                    d['srs'].coords['pressure'].values,\n",
    "                    color=d['color'], alpha=.7)\n",
    "        p1.line(d['srs'].values, \n",
    "                d['srs'].coords['pressure'].values,\n",
    "                color=d['color'], alpha=d['alpha'], \n",
    "                line_width=d['line_width'], line_dash=d['line_dash'])\n",
    "    \n",
    "    p1.y_range = Range1d(ymax, ymin)\n",
    "    p1.yaxis.axis_label = 'pressure [mb]'   \n",
    "    p1.x_range = Range1d(xmin, xmax)\n",
    "    p1.xaxis.axis_label = 'cooling rate [K/day]'\n",
    "            \n",
    "    p2 = figure(title='Log pressure scale', y_axis_type='log',\n",
    "                plot_width=560)\n",
    "    xmin, xmax = nice_xlims(pltdata, prange=(.01, 200))\n",
    "    \n",
    "    rs = []\n",
    "    for d in pltdata:\n",
    "        rd = []\n",
    "        if 'marker' in d:\n",
    "            r_mark = getattr(p2, d['marker'])(d['srs'].values, \n",
    "                        d['srs'].coords['pressure'].values,\n",
    "                        color=d['color'], alpha=.7)\n",
    "            rd.append(r_mark)\n",
    "        r_line = p2.line(d['srs'].values, \n",
    "                    d['srs'].coords['pressure'].values,\n",
    "                    color=d['color'], alpha=d['alpha'], \n",
    "                    line_width=d['line_width'], line_dash=d['line_dash'])\n",
    "        rd.append(r_line)\n",
    "      \n",
    "        rs.append(rd)\n",
    "        \n",
    "    p2.y_range = Range1d(ymax, ymin)  \n",
    "    p2.yaxis.axis_label = 'pressure [mb]'\n",
    "    \n",
    "    p2.x_range = Range1d(xmin, xmax)\n",
    "    p2.xaxis.axis_label = 'cooling rate [K/day]'\n",
    "    \n",
    "    items = [(d['label'], r) for r, d in zip(rs, pltdata)]\n",
    "    legend = Legend(items=items, location=(10, -30))\n",
    "    legend.label_text_font_size = '8pt'\n",
    "    \n",
    "    p2.add_layout(legend, 'right')  \n",
    "    \n",
    "    show(gridplot(p1, p2, ncols=2, plot_height=500))\n",
    "    \n",
    "\n",
    "def script_plt_cooling():\n",
    "    pltdata = pltdata_cooling_1(\n",
    "        ds_cool=DS_COOL,\n",
    "        ds_cool_crd=DS_COOL_CRD,\n",
    "        ds_cool_wgt=DS_COOL_WGT)\n",
    "    plt_cooling_bokeh(pltdata=pltdata)\n",
    "    print('''FIGURE. Cooling rate profiles.''')"
   ]
  },
  {
   "cell_type": "code",
   "execution_count": 9,
   "metadata": {
    "collapsed": true
   },
   "outputs": [],
   "source": [
    "def fmt_flux(ds_in):\n",
    "    ds = ds_in.copy(deep=True)\n",
    "    \n",
    "    for l in ('level', 'layer'):\n",
    "        if l in ds.data_vars:\n",
    "            if len(ds[l].dims) > 1:\n",
    "                surface = {d: 0 for d in ds.dims if d != 'pressure'}\n",
    "                coord_level = ds[l][surface]\n",
    "                ds.coords[l] = ('pressure', coord_level)\n",
    "            else:\n",
    "                ds.coords[l] = ('pressure', ds[l])\n",
    "        \n",
    "    ds = ds.isel(pressure=[0, 23, -1])\n",
    "        \n",
    "    if 'igg' in ds.dims:\n",
    "        ds = ds.sel(igg=[1])\n",
    "        ds = ds.squeeze('igg').drop('igg')\n",
    "    \n",
    "    if 'g' in ds.dims:\n",
    "        ds = ds.sum('g')\n",
    "            \n",
    "    if 'band' in ds.dims:\n",
    "        try:\n",
    "            ds = ds.squeeze('band').drop('band')\n",
    "        except ValueError:\n",
    "            ds = ds.sum('band')\n",
    "                \n",
    "    df = ds.to_dataframe()\n",
    "    df = df.set_index('level', append=True)               \n",
    "    return df\n",
    "\n",
    "\n",
    "def tbdata_flux(ds_flux=None, ds_flux_crd=None, ds_flux_wgt=None):\n",
    "    ilevels = [0, 23, -1]\n",
    "            \n",
    "    benchmark = {'label': 'WGT igg=10 wgt_flux=1',\n",
    "                 'df': fmt_flux(ds_flux_wgt)}\n",
    "    \n",
    "    tbs = [{'label': 'CRD',\n",
    "            'df': fmt_flux(ds_flux_crd)},\n",
    "           {'label': 'CLIRAD',\n",
    "            'df': fmt_flux(ds_flux)}]\n",
    "    \n",
    "    data = {'benchmark': benchmark, 'others': tbs}\n",
    "    return data\n",
    "\n",
    "\n",
    "def tb_flux(tbdata=None):\n",
    "    benchmark = tbdata['benchmark']\n",
    "    others = tbdata['others']\n",
    "    \n",
    "    def show_tb(d=None):\n",
    "        display.display(d['df'])\n",
    "        print('Table.', 'Fluxes.', d['label'])\n",
    "        \n",
    "    def show_tbdiff(d0=None, d=None):\n",
    "        df = d['df']\n",
    "        df.index = d0['df'].index\n",
    "        display.display(df - d0['df'])\n",
    "        print('Table.', 'Fluxes.', \n",
    "              '({}) - ({})'.format(d['label'], d0['label']))\n",
    "        \n",
    "    show_tb(benchmark)\n",
    "    for d in others:\n",
    "        show_tb(d)\n",
    "        \n",
    "    for d in others:\n",
    "        show_tbdiff(d=d, d0=benchmark)\n",
    "        \n",
    "        \n",
    "def script_tb_flux():\n",
    "    data = tbdata_flux(ds_flux=DS_FLUX,\n",
    "                       ds_flux_crd=DS_FLUX_CRD,\n",
    "                       ds_flux_wgt=DS_FLUX_WGT)\n",
    "    tb_flux(tbdata=data)"
   ]
  },
  {
   "cell_type": "code",
   "execution_count": 10,
   "metadata": {
    "collapsed": true
   },
   "outputs": [],
   "source": [
    "def band_map():\n",
    "    '''\n",
    "    Maps spectral bands in lblnew to spectral bands in clirad.\n",
    "    '''\n",
    "    lblnew2clirad = {'1': '1',\n",
    "            '2': '2',\n",
    "            '3a': '3',\n",
    "            '3b': '4',\n",
    "            '3c': '5',\n",
    "            '4': '6', \n",
    "            '5': '7',\n",
    "            '6': '8',\n",
    "            '7': '9', \n",
    "            '8': '10',\n",
    "            '9': '11'}\n",
    "    \n",
    "    clirad2lblnew = {clirad: lblnew \n",
    "                     for lblnew, clirad in lblnew2clirad.items()}\n",
    "    return clirad2lblnew\n",
    "\n",
    "\n",
    "def gasbands():\n",
    "    bmap = band_map()\n",
    "    gases = list(PARAM['molecule'].keys())\n",
    "    \n",
    "    bands = [bmap[str(b)] for b in PARAM['band']]\n",
    "    return list(itertools.product(gases, bands))\n",
    "\n",
    "\n",
    "def print_bestfit_params():\n",
    "    print('Best-fit values for each (gas, band)')\n",
    "    print('------------------------------------')\n",
    "    for gas, band in gasbands():\n",
    "        print('o {} band{}'.format(gas, band))\n",
    "        param = bestfits.kdist_params(molecule=gas, band=band)\n",
    "        for name, value in sorted(param.items()):\n",
    "            print(2 * ' ' + '{} = {}'.format(name, value))\n",
    "\n",
    "        \n",
    "def print_input_param():        \n",
    "    for name, value in PARAM.items():\n",
    "        print('{} = {}'.format(name, value))\n",
    "        \n",
    "        \n",
    "def print_lblnew_param():\n",
    "    for name, value in sorted(PARAM_LBLNEW.items()):\n",
    "        print('{} = {}'.format(name, value))\n"
   ]
  },
  {
   "cell_type": "code",
   "execution_count": 11,
   "metadata": {
    "collapsed": true,
    "scrolled": false
   },
   "outputs": [],
   "source": [
    "def show_html(s):\n",
    "    display.display(display.HTML(s))\n",
    "\n",
    "    \n",
    "def show_markdown(s):\n",
    "    display.display(display.Markdown(s))\n",
    "\n",
    "    \n",
    "def script():\n",
    "    \n",
    "    title = '### CLIRAD-LW'\n",
    "    s_input = 'Input Parameters'\n",
    "    s_lblnew_param = 'LBLNEW case compaired against'\n",
    "    s_bestfits = 'Best-fit Parameters'\n",
    "    s_plt_cooling = 'Cooling Rate Profiles'\n",
    "    s_tb_flux = 'Flux Comparison'\n",
    "    \n",
    "    # title\n",
    "    show_markdown('### CLIRAD-LW')\n",
    "    \n",
    "    # TOC\n",
    "    show_markdown('### Table of Contents')\n",
    "    show_html(climahtml.getHTML_hrefanchor(s_input))\n",
    "    show_html(climahtml.getHTML_hrefanchor(s_lblnew_param))\n",
    "    show_html(climahtml.getHTML_hrefanchor(s_plt_cooling))\n",
    "    show_html(climahtml.getHTML_hrefanchor(s_tb_flux))\n",
    "    show_html(climahtml.getHTML_hrefanchor(s_bestfits))\n",
    "    \n",
    "    # Input parameters\n",
    "    show_html(climahtml.getHTML_idanchor(s_input))\n",
    "    show_markdown(climahtml.getMarkdown_sectitle(s_input))\n",
    "    print_input_param()\n",
    "    \n",
    "    # LBLNEW parameters \n",
    "    show_html(climahtml.getHTML_idanchor(s_lblnew_param))\n",
    "    show_markdown(climahtml.getMarkdown_sectitle(s_lblnew_param))\n",
    "    print_lblnew_param()\n",
    "    \n",
    "    # Cooling rate profiles\n",
    "    show_html(climahtml.getHTML_idanchor(s_plt_cooling))\n",
    "    show_markdown(climahtml.getMarkdown_sectitle(s_plt_cooling))\n",
    "    script_plt_cooling()\n",
    "    \n",
    "    # Flux comparison\n",
    "    show_html(climahtml.getHTML_idanchor(s_tb_flux))\n",
    "    show_markdown(climahtml.getMarkdown_sectitle(s_tb_flux))\n",
    "    script_tb_flux()\n",
    "    \n",
    "    # Best-fit values\n",
    "    show_html(climahtml.getHTML_idanchor(s_bestfits))\n",
    "    show_markdown(climahtml.getMarkdown_sectitle(s_bestfits))\n",
    "    print_bestfit_params()\n",
    "   \n",
    "    "
   ]
  },
  {
   "cell_type": "code",
   "execution_count": 12,
   "metadata": {
    "collapsed": true,
    "scrolled": false
   },
   "outputs": [
    {
     "data": {
      "text/markdown": [
       "### CLIRAD-LW"
      ],
      "text/plain": [
       "<IPython.core.display.Markdown object>"
      ]
     },
     "metadata": {},
     "output_type": "display_data"
    },
    {
     "data": {
      "text/markdown": [
       "### Table of Contents"
      ],
      "text/plain": [
       "<IPython.core.display.Markdown object>"
      ]
     },
     "metadata": {},
     "output_type": "display_data"
    },
    {
     "data": {
      "text/html": [
       "<a href=\"#Input_Parameters\">Input Parameters</a>"
      ],
      "text/plain": [
       "<IPython.core.display.HTML object>"
      ]
     },
     "metadata": {},
     "output_type": "display_data"
    },
    {
     "data": {
      "text/html": [
       "<a href=\"#LBLNEW_case_compaired_against\">LBLNEW case compaired against</a>"
      ],
      "text/plain": [
       "<IPython.core.display.HTML object>"
      ]
     },
     "metadata": {},
     "output_type": "display_data"
    },
    {
     "data": {
      "text/html": [
       "<a href=\"#Cooling_Rate_Profiles\">Cooling Rate Profiles</a>"
      ],
      "text/plain": [
       "<IPython.core.display.HTML object>"
      ]
     },
     "metadata": {},
     "output_type": "display_data"
    },
    {
     "data": {
      "text/html": [
       "<a href=\"#Flux_Comparison\">Flux Comparison</a>"
      ],
      "text/plain": [
       "<IPython.core.display.HTML object>"
      ]
     },
     "metadata": {},
     "output_type": "display_data"
    },
    {
     "data": {
      "text/html": [
       "<a href=\"#Best-fit_Parameters\">Best-fit Parameters</a>"
      ],
      "text/plain": [
       "<IPython.core.display.HTML object>"
      ]
     },
     "metadata": {},
     "output_type": "display_data"
    },
    {
     "data": {
      "text/html": [
       "<a id=\"Input_Parameters\"></a>"
      ],
      "text/plain": [
       "<IPython.core.display.HTML object>"
      ]
     },
     "metadata": {},
     "output_type": "display_data"
    },
    {
     "data": {
      "text/markdown": [
       "# Input Parameters"
      ],
      "text/plain": [
       "<IPython.core.display.Markdown object>"
      ]
     },
     "metadata": {},
     "output_type": "display_data"
    },
    {
     "name": "stdout",
     "output_type": "stream",
     "text": [
      "atmpro = mls\n",
      "band = [9]\n",
      "commitnumber = fc273c9\n",
      "molecule = {'ch4': 1.8e-06}\n",
      "tsfc = 294\n"
     ]
    },
    {
     "data": {
      "text/html": [
       "<a id=\"LBLNEW_case_compaired_against\"></a>"
      ],
      "text/plain": [
       "<IPython.core.display.HTML object>"
      ]
     },
     "metadata": {},
     "output_type": "display_data"
    },
    {
     "data": {
      "text/markdown": [
       "# LBLNEW case compaired against"
      ],
      "text/plain": [
       "<IPython.core.display.Markdown object>"
      ]
     },
     "metadata": {},
     "output_type": "display_data"
    },
    {
     "name": "stdout",
     "output_type": "stream",
     "text": [
      "atmpro = mls\n",
      "band = 7\n",
      "commitnumber = 2bd1f75\n",
      "conc = 1.8e-06\n",
      "dv = 0.01\n",
      "klin = 2e-21\n",
      "molecule = ch4\n",
      "ng_adju = [0, 0]\n",
      "ng_refs = [2, 3]\n",
      "nv = 100\n",
      "option_compute_btable = 0\n",
      "option_compute_ktable = 0\n",
      "option_wgt_flux = 1\n",
      "option_wgt_k = 1\n",
      "ref_pts = [(1, 250), (500, 250)]\n",
      "tsfc = 294\n",
      "vmax = 1380\n",
      "vmin = 1215\n",
      "w_diffuse = [(1.66, 1.66), (1.66, 1.66, 1.66)]\n",
      "wgt = [(0.7, 0.7), (0.4, 0.6, 0.75)]\n"
     ]
    },
    {
     "data": {
      "text/html": [
       "<a id=\"Cooling_Rate_Profiles\"></a>"
      ],
      "text/plain": [
       "<IPython.core.display.HTML object>"
      ]
     },
     "metadata": {},
     "output_type": "display_data"
    },
    {
     "data": {
      "text/markdown": [
       "# Cooling Rate Profiles"
      ],
      "text/plain": [
       "<IPython.core.display.Markdown object>"
      ]
     },
     "metadata": {},
     "output_type": "display_data"
    },
    {
     "data": {
      "text/html": [
       "\n",
       "<div class=\"bk-root\">\n",
       "    <div class=\"bk-plotdiv\" id=\"5d285363-ccf1-41dd-91e7-543e1d02f781\"></div>\n",
       "</div>"
      ]
     },
     "metadata": {},
     "output_type": "display_data"
    },
    {
     "data": {
      "application/javascript": [
       "(function(root) {\n",
       "  function embed_document(root) {\n",
       "    \n",
       "  var docs_json = {\"15da6946-bf9f-445d-9f91-f4a76d609650\":{\"roots\":{\"references\":[{\"attributes\":{},\"id\":\"511c1b45-221d-4f67-9a1c-4aac56e19b22\",\"type\":\"HelpTool\"},{\"attributes\":{},\"id\":\"2679a5b0-912e-4581-a70f-1d5fc763961f\",\"type\":\"ResetTool\"},{\"attributes\":{\"children\":[{\"id\":\"d6463322-7cf6-4aaa-a014-149f7a9f070a\",\"type\":\"Row\"}]},\"id\":\"ef161b53-b041-49ba-bfd4-71d7035f549c\",\"type\":\"Column\"},{\"attributes\":{},\"id\":\"f58f5729-1e40-487d-8aa5-68d5919db7d1\",\"type\":\"BasicTickFormatter\"},{\"attributes\":{\"line_alpha\":0.1,\"line_color\":\"#1f77b4\",\"line_width\":1.5,\"x\":{\"field\":\"x\"},\"y\":{\"field\":\"y\"}},\"id\":\"b3fe073b-7bd7-4fe4-9604-450936199b2c\",\"type\":\"Line\"},{\"attributes\":{\"line_alpha\":0.1,\"line_color\":\"#1f77b4\",\"line_dash\":[6],\"line_width\":5,\"x\":{\"field\":\"x\"},\"y\":{\"field\":\"y\"}},\"id\":\"6eb9b3cb-192f-4ced-b66e-5062246403cf\",\"type\":\"Line\"},{\"attributes\":{\"fill_alpha\":{\"value\":0.1},\"fill_color\":{\"value\":\"#1f77b4\"},\"line_alpha\":{\"value\":0.1},\"line_color\":{\"value\":\"#1f77b4\"},\"x\":{\"field\":\"x\"},\"y\":{\"field\":\"y\"}},\"id\":\"e8703294-bc3b-4869-895e-085ad956022e\",\"type\":\"Circle\"},{\"attributes\":{\"fill_alpha\":{\"value\":0.7},\"fill_color\":{\"value\":\"#4daf4a\"},\"line_alpha\":{\"value\":0.7},\"line_color\":{\"value\":\"#4daf4a\"},\"x\":{\"field\":\"x\"},\"y\":{\"field\":\"y\"}},\"id\":\"1fcadc2c-7d95-4029-a0bc-4cfe8a7fdf64\",\"type\":\"Circle\"},{\"attributes\":{\"items\":[{\"id\":\"a6dd2d85-253c-426f-a8ba-8dbf88ba16fd\",\"type\":\"LegendItem\"},{\"id\":\"d85fe1eb-412b-4830-ad4c-f9672cf63b9f\",\"type\":\"LegendItem\"},{\"id\":\"5b0c4cd5-9958-4dde-9295-97d974e08239\",\"type\":\"LegendItem\"}],\"label_text_font_size\":{\"value\":\"8pt\"},\"location\":[10,-30],\"plot\":{\"id\":\"8b6e9d90-4cbe-491a-9d79-de51cc345530\",\"subtype\":\"Figure\",\"type\":\"Plot\"}},\"id\":\"1d1f76fa-eeff-47a9-8e0a-8bc86ed783c1\",\"type\":\"Legend\"},{\"attributes\":{\"callback\":null,\"end\":0.01,\"start\":1020},\"id\":\"c6473efe-b508-4bea-97aa-e5d9929699a8\",\"type\":\"Range1d\"},{\"attributes\":{\"children\":[{\"id\":\"8c79ee83-b10f-4a5e-b6be-44dc6df8ca64\",\"subtype\":\"Figure\",\"type\":\"Plot\"},{\"id\":\"8b6e9d90-4cbe-491a-9d79-de51cc345530\",\"subtype\":\"Figure\",\"type\":\"Plot\"}]},\"id\":\"d6463322-7cf6-4aaa-a014-149f7a9f070a\",\"type\":\"Row\"},{\"attributes\":{\"line_alpha\":0.6,\"line_color\":\"#e41a1c\",\"line_dash\":[6],\"line_width\":5,\"x\":{\"field\":\"x\"},\"y\":{\"field\":\"y\"}},\"id\":\"0560ffd7-4576-453c-bd2f-98e07b001c56\",\"type\":\"Line\"},{\"attributes\":{\"overlay\":{\"id\":\"c71d9f31-b45b-4b4f-83b2-112830c0b6dc\",\"type\":\"BoxAnnotation\"}},\"id\":\"8f5eda5b-63c0-434e-b0bf-fdb8a4fcea51\",\"type\":\"BoxZoomTool\"},{\"attributes\":{\"line_color\":\"#4daf4a\",\"line_width\":1.5,\"x\":{\"field\":\"x\"},\"y\":{\"field\":\"y\"}},\"id\":\"71335a44-0892-4ccc-b8ac-dc3b560be178\",\"type\":\"Line\"},{\"attributes\":{\"axis_label\":\"cooling rate [K/day]\",\"formatter\":{\"id\":\"f58f5729-1e40-487d-8aa5-68d5919db7d1\",\"type\":\"BasicTickFormatter\"},\"plot\":{\"id\":\"8c79ee83-b10f-4a5e-b6be-44dc6df8ca64\",\"subtype\":\"Figure\",\"type\":\"Plot\"},\"ticker\":{\"id\":\"b0df5040-a80d-4f28-a1e1-b4fad93ae3c7\",\"type\":\"BasicTicker\"}},\"id\":\"c7764518-d2b4-4295-9ab6-f513dc550b65\",\"type\":\"LinearAxis\"},{\"attributes\":{\"line_alpha\":0.1,\"line_color\":\"#1f77b4\",\"line_dash\":[6],\"line_width\":5,\"x\":{\"field\":\"x\"},\"y\":{\"field\":\"y\"}},\"id\":\"b4148829-05e2-4ced-b7e5-e30179d49345\",\"type\":\"Line\"},{\"attributes\":{\"plot\":null,\"text\":\"Linear pressure scale\"},\"id\":\"d296e2ab-ad93-4f75-8c6e-e28580e01921\",\"type\":\"Title\"},{\"attributes\":{\"callback\":null,\"column_names\":[\"x\",\"y\"],\"data\":{\"x\":{\"__ndarray__\":\"JSducH2zu7/BUAtOEoW7v82Hb3p6Gbu/HFjxujylur+B/inydzG6v9av8AWYv7m/0TtS0+dQub91/oPOv+u4v84e9q+dibi/3ORVdQ01uL+pQ9khH/C3v3jdEQR+w7e/xX5M9MS2t7/w8w28wtG3v3OxGxag9ra/AIXEhyPZsr/lScULke+mv8gagwTEIYO/79hEcKDjoD/PvdPZ01K1P+WPUNB5T8I/6tU6UCt1yz+E4IZSWsPRP0fPRhHGDdE/eB9w8pWfyD+rNDF2JXa/P1yJlPSd0LI/hgkNPnnKpT+sr3Gnu4WaPxrRQKOp25E/LWO//lZ4iD/PViOQUtZ9PxcOY1YY8HA/0qSrtAAGXT8nsZBmWD9gv4yc4onJqH2/wgUd0HldiL/ki+SVZTSQv4PRrySuoJW/EG5g4veFm78Uxk4sewievxVthAEon5y/DH8HuIDNmr/j4QoW8ReZv52X3owHTJe/bPKC8rhUlb/1umG12ymTv1GBr8IPyZC/74lw8cJmjL9Y2hRV4OCGv1R/vXljJYG/GTTJzxO9dr/85FYv4Jhmv3U6cUTySPU+3HcUAEZEZz/N53sNCpF3P8Sm0ckyAoI/uUJ7nDmJiD86ilo3MWaPP4ebD6wDUJM/bHIAFlwglz8n3r+B4iqbPxiTYYnFd58/7ZYA1owHoj8G2Ttuu3qkP/q1BP+sEKc/I8+2GfWwqT8edDFPrCisPypIzupmRK4/UV9cy+D/rz+CcOQFAcewP+imAivdlrE/Fw5enV6Hsj+iawtBoa2zPyQqPZuhLbU/\",\"dtype\":\"float64\",\"shape\":[75]},\"y\":{\"__ndarray__\":\"GhExyth1ND/Sv8nbtpRIP2vylNV0PVE/aTum7souWD/At0SJ8fVgPw3Iuahxymc/MSNhhJWvcD/bTfBN02d3P2zb5nxnaoA/CD5h5MAGhz8NmeH1TyaQP+zrCsc9p5Y/LbKd76fGnz/bLW5ISEmmPww9YvTcQq8/JV2OstnstT8Er5Y7M8G+P0c+r3jqkcU/5h99k6ZBzj88bCIzFzjVP4enV8oyxN0//yH99nXg5D8qOpLLf0jtP5kqGJXUifQ/c9cS8kHP/D+/DpwzojQEQIEmwoanVwxA4lgXt9HgE0BSSZ2AJuIbQAMJih9jjiNA5q4l5INuK0AwTKYKRj0zQNv5fmq8/DpAaCJseHrtQkB/+zpwzoxKQM3MzMzMeFJAZmZmZmZqWEAAAAAAAFxeQM3MzMzMJmJAmpmZmZkfZUBmZmZmZhhoQDMzMzMzEWtAAAAAAAAKbkBmZmZmZoFwQM3MzMzM/XFAMzMzMzN6c0CamZmZmfZ0QAAAAAAAc3ZAZmZmZmbvd0DNzMzMzGt5QDMzMzMz6HpAmpmZmZlkfEAAAAAAAOF9QGZmZmZmXX9AZmZmZuZsgECamZmZGSuBQM3MzMxM6YFAAAAAAICngkAzMzMzs2WDQGZmZmbmI4RAmpmZmRnihEDNzMzMTKCFQAAAAACAXoZAMzMzM7Mch0BmZmZm5tqHQJqZmZkZmYhAzczMzExXiUAAAAAAgBWKQDMzMzOz04pAZmZmZuaRi0CamZmZGVCMQM3MzMxMDo1AAAAAAIDMjUAzMzMzs4qOQGZmZmbmSI9A\",\"dtype\":\"float64\",\"shape\":[75]}}},\"id\":\"2e148d11-99ac-41d8-85dc-1fce62809074\",\"type\":\"ColumnDataSource\"},{\"attributes\":{},\"id\":\"1f544221-5646-45bc-a1fc-eb9724125b25\",\"type\":\"HelpTool\"},{\"attributes\":{},\"id\":\"92288ce9-6938-41ef-82c5-3c9c0aeddfb1\",\"type\":\"BasicTicker\"},{\"attributes\":{},\"id\":\"a5ae6ae2-d050-46df-8e95-0db99d7183ac\",\"type\":\"PanTool\"},{\"attributes\":{\"callback\":null,\"column_names\":[\"x\",\"y\"],\"data\":{\"x\":{\"__ndarray__\":\"2Kg921kqsb9Jlfv5wwqxv3UAj2vtxLC/yMeEHoV5sL//7nM13yywv5mGXeu9vq+/f7/LHv4gr796/o6K+oKuvw2kd2lE4q2/wkLRL1ZDrb+vpsx88KKsv53wpf/LBqy/ZnTVdvJtq78i3DnUvNGqv+uk+48Fsqi/WkbgyyECor9nSfxhtiqKv7kLl8zmro8/mBEyHhKvqT/PJVfceKq3P/eTMT7MXsI/mN8nFhEoyj+omBgFoJXQP0hkafFzjdA/KsI0qfRVyj9maH4tlr/CP1TsOuT+VLg/Fe0TCIdTrD+IapGHmvWdP0KcA9vzwo4/kJaJLYQmgT+SHcfKCQV2P0+pQwzKpHE/A02s1Rz1Zz/jgxPbISFRv/4hVq+9d32/vfNekWxpir9HM/M9U0qSv3URqeAldZi/xClcVxiXnr+Upi/ugJegv0USKimR85+/J/KjaIXsnb/wV8Raw9+bvzVSaLlpvJm/TBT7rZhvl78pLX9ldRCVv2hrjr0oi5K/v1RIBnS3j78CqpSrEyiKv/i0YjYDh4S/1rcRLNXgfb9TrTLIHtdyvxvnQ1SA71+/e+LyPJXjRz+8iauYO8tsP8dgfNMfWno/7faOV3Z6gz+2Yxjn1yWKP1MitN6ipZA/j2mgC4B3lD+eDF5ZQYqYPwTeHadV5Zw/biEHpkzKoD/L6GuJoUSjP5V6iNna4aU/rYvJhUSGqD92w7ZFmQ2rPw3jBi04RK0/0iYK0Xoorz/FrR/uLHKwP3O2G6WUVbE/efTBXbZQsj9Ou4aD/m6zP4ePBPHsuLQ/\",\"dtype\":\"float64\",\"shape\":[75]},\"y\":{\"__ndarray__\":\"S/O/Q+51ND/Sv8nbtpRIP2vylNV0PVE/aTum7souWD/At0SJ8fVgPw3Iuahxymc/MSNhhJWvcD/bTfBN02d3P2zb5nxnaoA/CD5h5MAGhz8NmeH1TyaQP+zrCsc9p5Y/LbKd76fGnz/bLW5ISEmmPww9YvTcQq8/JV2OstnstT8Er5Y7M8G+P0c+r3jqkcU/5h99k6ZBzj88bCIzFzjVP4enV8oyxN0//yH99nXg5D8qOpLLf0jtP5kqGJXUifQ/c9cS8kHP/D+/DpwzojQEQIEmwoanVwxA4lgXt9HgE0BSSZ2AJuIbQAMJih9jjiNA5q4l5INuK0AwTKYKRj0zQNv5fmq8/DpAaCJseHrtQkB/+zpwzoxKQM3MzMzMeFJAZmZmZmZqWEAAAAAAAFxeQM3MzMzMJmJAmpmZmZkfZUBmZmZmZhhoQDMzMzMzEWtAAAAAAAAKbkBmZmZmZoFwQM3MzMzM/XFAMzMzMzN6c0CamZmZmfZ0QAAAAAAAc3ZAZmZmZmbvd0DNzMzMzGt5QDMzMzMz6HpAmpmZmZlkfEAAAAAAAOF9QGZmZmZmXX9AZmZmZuZsgECamZmZGSuBQM3MzMxM6YFAAAAAAICngkAzMzMzs2WDQGZmZmbmI4RAmpmZmRnihEDNzMzMTKCFQAAAAACAXoZAMzMzM7Mch0BmZmZm5tqHQJqZmZkZmYhAzczMzExXiUAAAAAAgBWKQDMzMzOz04pAZmZmZuaRi0CamZmZGVCMQM3MzMxMDo1AAAAAAIDMjUAzMzMzs4qOQGZmZmbmSI9A\",\"dtype\":\"float64\",\"shape\":[75]}}},\"id\":\"9c329e19-7242-4d11-99cc-880043479dbb\",\"type\":\"ColumnDataSource\"},{\"attributes\":{\"source\":{\"id\":\"9c329e19-7242-4d11-99cc-880043479dbb\",\"type\":\"ColumnDataSource\"}},\"id\":\"5e424836-5cbf-44f7-a901-50014194c722\",\"type\":\"CDSView\"},{\"attributes\":{\"callback\":null,\"column_names\":[\"x\",\"y\"],\"data\":{\"x\":{\"__ndarray__\":\"2Kg921kqsb9Jlfv5wwqxv3UAj2vtxLC/yMeEHoV5sL//7nM13yywv5mGXeu9vq+/f7/LHv4gr796/o6K+oKuvw2kd2lE4q2/wkLRL1ZDrb+vpsx88KKsv53wpf/LBqy/ZnTVdvJtq78i3DnUvNGqv+uk+48Fsqi/WkbgyyECor9nSfxhtiqKv7kLl8zmro8/mBEyHhKvqT/PJVfceKq3P/eTMT7MXsI/mN8nFhEoyj+omBgFoJXQP0hkafFzjdA/KsI0qfRVyj9maH4tlr/CP1TsOuT+VLg/Fe0TCIdTrD+IapGHmvWdP0KcA9vzwo4/kJaJLYQmgT+SHcfKCQV2P0+pQwzKpHE/A02s1Rz1Zz/jgxPbISFRv/4hVq+9d32/vfNekWxpir9HM/M9U0qSv3URqeAldZi/xClcVxiXnr+Upi/ugJegv0USKimR85+/J/KjaIXsnb/wV8Raw9+bvzVSaLlpvJm/TBT7rZhvl78pLX9ldRCVv2hrjr0oi5K/v1RIBnS3j78CqpSrEyiKv/i0YjYDh4S/1rcRLNXgfb9TrTLIHtdyvxvnQ1SA71+/e+LyPJXjRz+8iauYO8tsP8dgfNMfWno/7faOV3Z6gz+2Yxjn1yWKP1MitN6ipZA/j2mgC4B3lD+eDF5ZQYqYPwTeHadV5Zw/biEHpkzKoD/L6GuJoUSjP5V6iNna4aU/rYvJhUSGqD92w7ZFmQ2rPw3jBi04RK0/0iYK0Xoorz/FrR/uLHKwP3O2G6WUVbE/efTBXbZQsj9Ou4aD/m6zP4ePBPHsuLQ/\",\"dtype\":\"float64\",\"shape\":[75]},\"y\":{\"__ndarray__\":\"S/O/Q+51ND/Sv8nbtpRIP2vylNV0PVE/aTum7souWD/At0SJ8fVgPw3Iuahxymc/MSNhhJWvcD/bTfBN02d3P2zb5nxnaoA/CD5h5MAGhz8NmeH1TyaQP+zrCsc9p5Y/LbKd76fGnz/bLW5ISEmmPww9YvTcQq8/JV2OstnstT8Er5Y7M8G+P0c+r3jqkcU/5h99k6ZBzj88bCIzFzjVP4enV8oyxN0//yH99nXg5D8qOpLLf0jtP5kqGJXUifQ/c9cS8kHP/D+/DpwzojQEQIEmwoanVwxA4lgXt9HgE0BSSZ2AJuIbQAMJih9jjiNA5q4l5INuK0AwTKYKRj0zQNv5fmq8/DpAaCJseHrtQkB/+zpwzoxKQM3MzMzMeFJAZmZmZmZqWEAAAAAAAFxeQM3MzMzMJmJAmpmZmZkfZUBmZmZmZhhoQDMzMzMzEWtAAAAAAAAKbkBmZmZmZoFwQM3MzMzM/XFAMzMzMzN6c0CamZmZmfZ0QAAAAAAAc3ZAZmZmZmbvd0DNzMzMzGt5QDMzMzMz6HpAmpmZmZlkfEAAAAAAAOF9QGZmZmZmXX9AZmZmZuZsgECamZmZGSuBQM3MzMxM6YFAAAAAAICngkAzMzMzs2WDQGZmZmbmI4RAmpmZmRnihEDNzMzMTKCFQAAAAACAXoZAMzMzM7Mch0BmZmZm5tqHQJqZmZkZmYhAzczMzExXiUAAAAAAgBWKQDMzMzOz04pAZmZmZuaRi0CamZmZGVCMQM3MzMxMDo1AAAAAAIDMjUAzMzMzs4qOQGZmZmbmSI9A\",\"dtype\":\"float64\",\"shape\":[75]}}},\"id\":\"03117222-dc29-4275-968a-ed8a20737a3b\",\"type\":\"ColumnDataSource\"},{\"attributes\":{\"data_source\":{\"id\":\"03117222-dc29-4275-968a-ed8a20737a3b\",\"type\":\"ColumnDataSource\"},\"glyph\":{\"id\":\"0560ffd7-4576-453c-bd2f-98e07b001c56\",\"type\":\"Line\"},\"hover_glyph\":null,\"muted_glyph\":null,\"nonselection_glyph\":{\"id\":\"b4148829-05e2-4ced-b7e5-e30179d49345\",\"type\":\"Line\"},\"selection_glyph\":null,\"view\":{\"id\":\"56e347a6-9ac1-4d1e-bb1c-20d86aac93e4\",\"type\":\"CDSView\"}},\"id\":\"e948af9b-1fc3-408d-a5fc-b41544ea32af\",\"type\":\"GlyphRenderer\"},{\"attributes\":{\"below\":[{\"id\":\"c7764518-d2b4-4295-9ab6-f513dc550b65\",\"type\":\"LinearAxis\"}],\"left\":[{\"id\":\"9d47e567-0c85-406c-a731-8daa9dd7dbd7\",\"type\":\"LinearAxis\"}],\"plot_height\":500,\"plot_width\":400,\"renderers\":[{\"id\":\"c7764518-d2b4-4295-9ab6-f513dc550b65\",\"type\":\"LinearAxis\"},{\"id\":\"a3918c28-244b-4fd4-9892-0b80bfd0d58e\",\"type\":\"Grid\"},{\"id\":\"9d47e567-0c85-406c-a731-8daa9dd7dbd7\",\"type\":\"LinearAxis\"},{\"id\":\"46084da8-e041-44c2-8978-748438e5f067\",\"type\":\"Grid\"},{\"id\":\"1ac15b8c-9082-44f1-99c2-ea8b26727d74\",\"type\":\"BoxAnnotation\"},{\"id\":\"43bcc795-4d65-434f-9161-8d01416bbd7a\",\"type\":\"GlyphRenderer\"},{\"id\":\"f703be3d-9a91-4c54-a16f-4526513bd38b\",\"type\":\"GlyphRenderer\"},{\"id\":\"f493bae6-a4e9-4426-9fbc-2e07d148a452\",\"type\":\"GlyphRenderer\"},{\"id\":\"10e2cc4f-cc31-403b-92f1-361ec4872e8f\",\"type\":\"GlyphRenderer\"},{\"id\":\"4fb4179a-cf84-43f6-b0fd-11a6c6197680\",\"type\":\"GlyphRenderer\"}],\"title\":{\"id\":\"d296e2ab-ad93-4f75-8c6e-e28580e01921\",\"type\":\"Title\"},\"toolbar\":{\"id\":\"a59db200-c17a-404e-b9e2-13c2b9f61e9c\",\"type\":\"Toolbar\"},\"toolbar_location\":null,\"x_range\":{\"id\":\"d2bcbd38-7b7f-4165-a862-6bef392dadb4\",\"type\":\"Range1d\"},\"x_scale\":{\"id\":\"e2a26701-2ad5-48cf-a338-fe2a1e52fcd6\",\"type\":\"LinearScale\"},\"y_range\":{\"id\":\"c6473efe-b508-4bea-97aa-e5d9929699a8\",\"type\":\"Range1d\"},\"y_scale\":{\"id\":\"36a17793-568c-48fa-8722-f87c63419693\",\"type\":\"LinearScale\"}},\"id\":\"8c79ee83-b10f-4a5e-b6be-44dc6df8ca64\",\"subtype\":\"Figure\",\"type\":\"Plot\"},{\"attributes\":{\"active_drag\":\"auto\",\"active_inspect\":\"auto\",\"active_scroll\":\"auto\",\"active_tap\":\"auto\",\"tools\":[{\"id\":\"a5ae6ae2-d050-46df-8e95-0db99d7183ac\",\"type\":\"PanTool\"},{\"id\":\"e6f2057b-09be-49bb-bb4b-e39f64962c21\",\"type\":\"WheelZoomTool\"},{\"id\":\"d7ffcc41-813a-4321-943b-9fff9b3be948\",\"type\":\"BoxZoomTool\"},{\"id\":\"e992a85f-fc6c-4b96-9db9-cd73d4d7ff20\",\"type\":\"SaveTool\"},{\"id\":\"2679a5b0-912e-4581-a70f-1d5fc763961f\",\"type\":\"ResetTool\"},{\"id\":\"511c1b45-221d-4f67-9a1c-4aac56e19b22\",\"type\":\"HelpTool\"}]},\"id\":\"a59db200-c17a-404e-b9e2-13c2b9f61e9c\",\"type\":\"Toolbar\"},{\"attributes\":{\"data_source\":{\"id\":\"1a75c9ee-bb88-40c6-acb1-cbd9a72ed7a2\",\"type\":\"ColumnDataSource\"},\"glyph\":{\"id\":\"1fcadc2c-7d95-4029-a0bc-4cfe8a7fdf64\",\"type\":\"Circle\"},\"hover_glyph\":null,\"muted_glyph\":null,\"nonselection_glyph\":{\"id\":\"e8703294-bc3b-4869-895e-085ad956022e\",\"type\":\"Circle\"},\"selection_glyph\":null,\"view\":{\"id\":\"e51b677d-f559-4e9f-834d-de7a2043e72a\",\"type\":\"CDSView\"}},\"id\":\"f703be3d-9a91-4c54-a16f-4526513bd38b\",\"type\":\"GlyphRenderer\"},{\"attributes\":{},\"id\":\"b0df5040-a80d-4f28-a1e1-b4fad93ae3c7\",\"type\":\"BasicTicker\"},{\"attributes\":{},\"id\":\"4e3fa1eb-2eaf-46bb-8415-60d607d0b2bd\",\"type\":\"BasicTickFormatter\"},{\"attributes\":{\"axis_label\":\"pressure [mb]\",\"formatter\":{\"id\":\"4e3fa1eb-2eaf-46bb-8415-60d607d0b2bd\",\"type\":\"BasicTickFormatter\"},\"plot\":{\"id\":\"8c79ee83-b10f-4a5e-b6be-44dc6df8ca64\",\"subtype\":\"Figure\",\"type\":\"Plot\"},\"ticker\":{\"id\":\"92288ce9-6938-41ef-82c5-3c9c0aeddfb1\",\"type\":\"BasicTicker\"}},\"id\":\"9d47e567-0c85-406c-a731-8daa9dd7dbd7\",\"type\":\"LinearAxis\"},{\"attributes\":{},\"id\":\"d05d4485-ad95-4e59-89e4-a6b66e1de157\",\"type\":\"SaveTool\"},{\"attributes\":{\"bottom_units\":\"screen\",\"fill_alpha\":{\"value\":0.5},\"fill_color\":{\"value\":\"lightgrey\"},\"left_units\":\"screen\",\"level\":\"overlay\",\"line_alpha\":{\"value\":1.0},\"line_color\":{\"value\":\"black\"},\"line_dash\":[4,4],\"line_width\":{\"value\":2},\"plot\":null,\"render_mode\":\"css\",\"right_units\":\"screen\",\"top_units\":\"screen\"},\"id\":\"c71d9f31-b45b-4b4f-83b2-112830c0b6dc\",\"type\":\"BoxAnnotation\"},{\"attributes\":{},\"id\":\"e2a26701-2ad5-48cf-a338-fe2a1e52fcd6\",\"type\":\"LinearScale\"},{\"attributes\":{},\"id\":\"36a17793-568c-48fa-8722-f87c63419693\",\"type\":\"LinearScale\"},{\"attributes\":{\"dimension\":1,\"plot\":{\"id\":\"8c79ee83-b10f-4a5e-b6be-44dc6df8ca64\",\"subtype\":\"Figure\",\"type\":\"Plot\"},\"ticker\":{\"id\":\"92288ce9-6938-41ef-82c5-3c9c0aeddfb1\",\"type\":\"BasicTicker\"}},\"id\":\"46084da8-e041-44c2-8978-748438e5f067\",\"type\":\"Grid\"},{\"attributes\":{},\"id\":\"7f200f18-3a75-4379-a73d-6557fbd5b2e0\",\"type\":\"WheelZoomTool\"},{\"attributes\":{\"source\":{\"id\":\"03117222-dc29-4275-968a-ed8a20737a3b\",\"type\":\"ColumnDataSource\"}},\"id\":\"56e347a6-9ac1-4d1e-bb1c-20d86aac93e4\",\"type\":\"CDSView\"},{\"attributes\":{\"plot\":{\"id\":\"8c79ee83-b10f-4a5e-b6be-44dc6df8ca64\",\"subtype\":\"Figure\",\"type\":\"Plot\"},\"ticker\":{\"id\":\"b0df5040-a80d-4f28-a1e1-b4fad93ae3c7\",\"type\":\"BasicTicker\"}},\"id\":\"a3918c28-244b-4fd4-9892-0b80bfd0d58e\",\"type\":\"Grid\"},{\"attributes\":{\"line_alpha\":0.6,\"line_color\":\"#e41a1c\",\"line_dash\":[6],\"line_width\":5,\"x\":{\"field\":\"x\"},\"y\":{\"field\":\"y\"}},\"id\":\"45944f7e-81eb-426d-bc9d-39963fd18379\",\"type\":\"Line\"},{\"attributes\":{\"label\":{\"value\":\"CLIRAD `coolr_bands`\"},\"renderers\":[{\"id\":\"e948af9b-1fc3-408d-a5fc-b41544ea32af\",\"type\":\"GlyphRenderer\"}]},\"id\":\"a6dd2d85-253c-426f-a8ba-8dbf88ba16fd\",\"type\":\"LegendItem\"},{\"attributes\":{\"overlay\":{\"id\":\"1ac15b8c-9082-44f1-99c2-ea8b26727d74\",\"type\":\"BoxAnnotation\"}},\"id\":\"d7ffcc41-813a-4321-943b-9fff9b3be948\",\"type\":\"BoxZoomTool\"},{\"attributes\":{},\"id\":\"e6f2057b-09be-49bb-bb4b-e39f64962c21\",\"type\":\"WheelZoomTool\"},{\"attributes\":{\"tools\":[{\"id\":\"a5ae6ae2-d050-46df-8e95-0db99d7183ac\",\"type\":\"PanTool\"},{\"id\":\"e6f2057b-09be-49bb-bb4b-e39f64962c21\",\"type\":\"WheelZoomTool\"},{\"id\":\"d7ffcc41-813a-4321-943b-9fff9b3be948\",\"type\":\"BoxZoomTool\"},{\"id\":\"e992a85f-fc6c-4b96-9db9-cd73d4d7ff20\",\"type\":\"SaveTool\"},{\"id\":\"2679a5b0-912e-4581-a70f-1d5fc763961f\",\"type\":\"ResetTool\"},{\"id\":\"511c1b45-221d-4f67-9a1c-4aac56e19b22\",\"type\":\"HelpTool\"},{\"id\":\"2f0fe413-85cb-4126-a16f-6ddcd033cebb\",\"type\":\"PanTool\"},{\"id\":\"7f200f18-3a75-4379-a73d-6557fbd5b2e0\",\"type\":\"WheelZoomTool\"},{\"id\":\"8f5eda5b-63c0-434e-b0bf-fdb8a4fcea51\",\"type\":\"BoxZoomTool\"},{\"id\":\"d05d4485-ad95-4e59-89e4-a6b66e1de157\",\"type\":\"SaveTool\"},{\"id\":\"e8e3e61b-db0c-4096-a729-0b6cdb4cc5e6\",\"type\":\"ResetTool\"},{\"id\":\"1f544221-5646-45bc-a1fc-eb9724125b25\",\"type\":\"HelpTool\"}]},\"id\":\"b28df47d-cdc0-4225-bc50-4aaf7f9af43d\",\"type\":\"ProxyToolbar\"},{\"attributes\":{\"bottom_units\":\"screen\",\"fill_alpha\":{\"value\":0.5},\"fill_color\":{\"value\":\"lightgrey\"},\"left_units\":\"screen\",\"level\":\"overlay\",\"line_alpha\":{\"value\":1.0},\"line_color\":{\"value\":\"black\"},\"line_dash\":[4,4],\"line_width\":{\"value\":2},\"plot\":null,\"render_mode\":\"css\",\"right_units\":\"screen\",\"top_units\":\"screen\"},\"id\":\"1ac15b8c-9082-44f1-99c2-ea8b26727d74\",\"type\":\"BoxAnnotation\"},{\"attributes\":{},\"id\":\"e992a85f-fc6c-4b96-9db9-cd73d4d7ff20\",\"type\":\"SaveTool\"},{\"attributes\":{},\"id\":\"e8e3e61b-db0c-4096-a729-0b6cdb4cc5e6\",\"type\":\"ResetTool\"},{\"attributes\":{},\"id\":\"2f0fe413-85cb-4126-a16f-6ddcd033cebb\",\"type\":\"PanTool\"},{\"attributes\":{\"data_source\":{\"id\":\"9c329e19-7242-4d11-99cc-880043479dbb\",\"type\":\"ColumnDataSource\"},\"glyph\":{\"id\":\"45944f7e-81eb-426d-bc9d-39963fd18379\",\"type\":\"Line\"},\"hover_glyph\":null,\"muted_glyph\":null,\"nonselection_glyph\":{\"id\":\"6eb9b3cb-192f-4ced-b66e-5062246403cf\",\"type\":\"Line\"},\"selection_glyph\":null,\"view\":{\"id\":\"5e424836-5cbf-44f7-a901-50014194c722\",\"type\":\"CDSView\"}},\"id\":\"43bcc795-4d65-434f-9161-8d01416bbd7a\",\"type\":\"GlyphRenderer\"},{\"attributes\":{\"source\":{\"id\":\"2e148d11-99ac-41d8-85dc-1fce62809074\",\"type\":\"ColumnDataSource\"}},\"id\":\"2e9d6fd6-0595-42a8-b0d5-7a604ebec9d2\",\"type\":\"CDSView\"},{\"attributes\":{\"ticker\":null},\"id\":\"17223b51-a9a7-4fde-8413-eb88f1d8c475\",\"type\":\"LogTickFormatter\"},{\"attributes\":{\"callback\":null,\"end\":0.08388699654109999,\"start\":-0.034378794651100004},\"id\":\"d2bcbd38-7b7f-4165-a862-6bef392dadb4\",\"type\":\"Range1d\"},{\"attributes\":{\"callback\":null,\"column_names\":[\"x\",\"y\"],\"data\":{\"x\":{\"__ndarray__\":\"JSducH2zu7/BUAtOEoW7v82Hb3p6Gbu/HFjxujylur+B/inydzG6v9av8AWYv7m/0TtS0+dQub91/oPOv+u4v84e9q+dibi/3ORVdQ01uL+pQ9khH/C3v3jdEQR+w7e/xX5M9MS2t7/w8w28wtG3v3OxGxag9ra/AIXEhyPZsr/lScULke+mv8gagwTEIYO/79hEcKDjoD/PvdPZ01K1P+WPUNB5T8I/6tU6UCt1yz+E4IZSWsPRP0fPRhHGDdE/eB9w8pWfyD+rNDF2JXa/P1yJlPSd0LI/hgkNPnnKpT+sr3Gnu4WaPxrRQKOp25E/LWO//lZ4iD/PViOQUtZ9PxcOY1YY8HA/0qSrtAAGXT8nsZBmWD9gv4yc4onJqH2/wgUd0HldiL/ki+SVZTSQv4PRrySuoJW/EG5g4veFm78Uxk4sewievxVthAEon5y/DH8HuIDNmr/j4QoW8ReZv52X3owHTJe/bPKC8rhUlb/1umG12ymTv1GBr8IPyZC/74lw8cJmjL9Y2hRV4OCGv1R/vXljJYG/GTTJzxO9dr/85FYv4Jhmv3U6cUTySPU+3HcUAEZEZz/N53sNCpF3P8Sm0ckyAoI/uUJ7nDmJiD86ilo3MWaPP4ebD6wDUJM/bHIAFlwglz8n3r+B4iqbPxiTYYnFd58/7ZYA1owHoj8G2Ttuu3qkP/q1BP+sEKc/I8+2GfWwqT8edDFPrCisPypIzupmRK4/UV9cy+D/rz+CcOQFAcewP+imAivdlrE/Fw5enV6Hsj+iawtBoa2zPyQqPZuhLbU/\",\"dtype\":\"float64\",\"shape\":[75]},\"y\":{\"__ndarray__\":\"GhExyth1ND/Sv8nbtpRIP2vylNV0PVE/aTum7souWD/At0SJ8fVgPw3Iuahxymc/MSNhhJWvcD/bTfBN02d3P2zb5nxnaoA/CD5h5MAGhz8NmeH1TyaQP+zrCsc9p5Y/LbKd76fGnz/bLW5ISEmmPww9YvTcQq8/JV2OstnstT8Er5Y7M8G+P0c+r3jqkcU/5h99k6ZBzj88bCIzFzjVP4enV8oyxN0//yH99nXg5D8qOpLLf0jtP5kqGJXUifQ/c9cS8kHP/D+/DpwzojQEQIEmwoanVwxA4lgXt9HgE0BSSZ2AJuIbQAMJih9jjiNA5q4l5INuK0AwTKYKRj0zQNv5fmq8/DpAaCJseHrtQkB/+zpwzoxKQM3MzMzMeFJAZmZmZmZqWEAAAAAAAFxeQM3MzMzMJmJAmpmZmZkfZUBmZmZmZhhoQDMzMzMzEWtAAAAAAAAKbkBmZmZmZoFwQM3MzMzM/XFAMzMzMzN6c0CamZmZmfZ0QAAAAAAAc3ZAZmZmZmbvd0DNzMzMzGt5QDMzMzMz6HpAmpmZmZlkfEAAAAAAAOF9QGZmZmZmXX9AZmZmZuZsgECamZmZGSuBQM3MzMxM6YFAAAAAAICngkAzMzMzs2WDQGZmZmbmI4RAmpmZmRnihEDNzMzMTKCFQAAAAACAXoZAMzMzM7Mch0BmZmZm5tqHQJqZmZkZmYhAzczMzExXiUAAAAAAgBWKQDMzMzOz04pAZmZmZuaRi0CamZmZGVCMQM3MzMxMDo1AAAAAAIDMjUAzMzMzs4qOQGZmZmbmSI9A\",\"dtype\":\"float64\",\"shape\":[75]}}},\"id\":\"ea7d3365-1913-457a-8026-e9a560bcb9a1\",\"type\":\"ColumnDataSource\"},{\"attributes\":{\"callback\":null,\"column_names\":[\"x\",\"y\"],\"data\":{\"x\":{\"__ndarray__\":\"JSducH2zu7/BUAtOEoW7v82Hb3p6Gbu/HFjxujylur+B/inydzG6v9av8AWYv7m/0TtS0+dQub91/oPOv+u4v84e9q+dibi/3ORVdQ01uL+pQ9khH/C3v3jdEQR+w7e/xX5M9MS2t7/w8w28wtG3v3OxGxag9ra/AIXEhyPZsr/lScULke+mv8gagwTEIYO/79hEcKDjoD/PvdPZ01K1P+WPUNB5T8I/6tU6UCt1yz+E4IZSWsPRP0fPRhHGDdE/eB9w8pWfyD+rNDF2JXa/P1yJlPSd0LI/hgkNPnnKpT+sr3Gnu4WaPxrRQKOp25E/LWO//lZ4iD/PViOQUtZ9PxcOY1YY8HA/0qSrtAAGXT8nsZBmWD9gv4yc4onJqH2/wgUd0HldiL/ki+SVZTSQv4PRrySuoJW/EG5g4veFm78Uxk4sewievxVthAEon5y/DH8HuIDNmr/j4QoW8ReZv52X3owHTJe/bPKC8rhUlb/1umG12ymTv1GBr8IPyZC/74lw8cJmjL9Y2hRV4OCGv1R/vXljJYG/GTTJzxO9dr/85FYv4Jhmv3U6cUTySPU+3HcUAEZEZz/N53sNCpF3P8Sm0ckyAoI/uUJ7nDmJiD86ilo3MWaPP4ebD6wDUJM/bHIAFlwglz8n3r+B4iqbPxiTYYnFd58/7ZYA1owHoj8G2Ttuu3qkP/q1BP+sEKc/I8+2GfWwqT8edDFPrCisPypIzupmRK4/UV9cy+D/rz+CcOQFAcewP+imAivdlrE/Fw5enV6Hsj+iawtBoa2zPyQqPZuhLbU/\",\"dtype\":\"float64\",\"shape\":[75]},\"y\":{\"__ndarray__\":\"GhExyth1ND/Sv8nbtpRIP2vylNV0PVE/aTum7souWD/At0SJ8fVgPw3Iuahxymc/MSNhhJWvcD/bTfBN02d3P2zb5nxnaoA/CD5h5MAGhz8NmeH1TyaQP+zrCsc9p5Y/LbKd76fGnz/bLW5ISEmmPww9YvTcQq8/JV2OstnstT8Er5Y7M8G+P0c+r3jqkcU/5h99k6ZBzj88bCIzFzjVP4enV8oyxN0//yH99nXg5D8qOpLLf0jtP5kqGJXUifQ/c9cS8kHP/D+/DpwzojQEQIEmwoanVwxA4lgXt9HgE0BSSZ2AJuIbQAMJih9jjiNA5q4l5INuK0AwTKYKRj0zQNv5fmq8/DpAaCJseHrtQkB/+zpwzoxKQM3MzMzMeFJAZmZmZmZqWEAAAAAAAFxeQM3MzMzMJmJAmpmZmZkfZUBmZmZmZhhoQDMzMzMzEWtAAAAAAAAKbkBmZmZmZoFwQM3MzMzM/XFAMzMzMzN6c0CamZmZmfZ0QAAAAAAAc3ZAZmZmZmbvd0DNzMzMzGt5QDMzMzMz6HpAmpmZmZlkfEAAAAAAAOF9QGZmZmZmXX9AZmZmZuZsgECamZmZGSuBQM3MzMxM6YFAAAAAAICngkAzMzMzs2WDQGZmZmbmI4RAmpmZmRnihEDNzMzMTKCFQAAAAACAXoZAMzMzM7Mch0BmZmZm5tqHQJqZmZkZmYhAzczMzExXiUAAAAAAgBWKQDMzMzOz04pAZmZmZuaRi0CamZmZGVCMQM3MzMxMDo1AAAAAAIDMjUAzMzMzs4qOQGZmZmbmSI9A\",\"dtype\":\"float64\",\"shape\":[75]}}},\"id\":\"c511a8f2-aa0d-4452-bd74-32781b5f7866\",\"type\":\"ColumnDataSource\"},{\"attributes\":{\"data_source\":{\"id\":\"c511a8f2-aa0d-4452-bd74-32781b5f7866\",\"type\":\"ColumnDataSource\"},\"glyph\":{\"id\":\"4ff76fbb-25fe-4477-af4e-daaaf3011aeb\",\"type\":\"Circle\"},\"hover_glyph\":null,\"muted_glyph\":null,\"nonselection_glyph\":{\"id\":\"32893ca8-4b59-4a80-ad66-c08c2cd54dae\",\"type\":\"Circle\"},\"selection_glyph\":null,\"view\":{\"id\":\"ec0e6f95-80dc-4f3e-921f-d37968621e4b\",\"type\":\"CDSView\"}},\"id\":\"f6ea29c3-162d-400a-b590-14e7ae2c54f5\",\"type\":\"GlyphRenderer\"},{\"attributes\":{\"source\":{\"id\":\"e8ed3732-5ef5-4556-9873-a12e0f8e6788\",\"type\":\"ColumnDataSource\"}},\"id\":\"d8c170f0-deb6-40b7-90e3-97e385589214\",\"type\":\"CDSView\"},{\"attributes\":{\"dimension\":1,\"plot\":{\"id\":\"8b6e9d90-4cbe-491a-9d79-de51cc345530\",\"subtype\":\"Figure\",\"type\":\"Plot\"},\"ticker\":{\"id\":\"85f48515-74ce-4c5a-9328-9d0cec4b4e98\",\"type\":\"LogTicker\"}},\"id\":\"671b2e2e-de3a-4cd5-9a83-66ad82c28561\",\"type\":\"Grid\"},{\"attributes\":{\"fill_alpha\":{\"value\":0.1},\"fill_color\":{\"value\":\"#1f77b4\"},\"line_alpha\":{\"value\":0.1},\"line_color\":{\"value\":\"#1f77b4\"},\"x\":{\"field\":\"x\"},\"y\":{\"field\":\"y\"}},\"id\":\"32893ca8-4b59-4a80-ad66-c08c2cd54dae\",\"type\":\"Circle\"},{\"attributes\":{\"line_alpha\":0.6,\"line_color\":\"#984ea3\",\"line_width\":3,\"x\":{\"field\":\"x\"},\"y\":{\"field\":\"y\"}},\"id\":\"691144f5-883f-4ecd-8603-22805cf8c3dd\",\"type\":\"Line\"},{\"attributes\":{\"callback\":null,\"column_names\":[\"x\",\"y\"],\"data\":{\"x\":{\"__ndarray__\":\"W2O5h6LItL/21sQUQ6G0v3Q3AmJVVrS/Wz0eNBz8s789PNSet5+zvy3xo1U0QbO/rr2kcpnqsr+W9k4jSJqyv+60tLYoOLK/eF2+zZPYsb+IwkOmo4uxv+zFw1y4S7G/672dEbgGsb8MIJtzTNOwv3eVQoFRka+/RpLruPIuqL8QkeWQkKyWv7qeI9S+0II/dgA9K+M3qD84zx1szeC3PzIB+To7/cI/btVa5zNiyz9d2/yw623RP3plSvbaH9E/RR0x+WJVyj+Gc1ei7R/CP5JKwPfnELc/UTLYqKg4qz/5UeIbNQmfPyWHGNJcT5I/gQ0GIv3Shj9Ty1QpzsB8P1cAoo6JxnM/pmODytVWZz9C2+0rQLtVvwDWYfyV+n6/i0a9AklSi7+cz+lWs8iSv2A8b1n4EJm/JG9qymphn7/gp3meHwKhvw5YFgRhTaC/m+MgjfiBnr/khj2/uGycv/6z59b3RJq/q2ShEbz+l78kBZl0Z5GVv8rxOsaE/ZK/gqYqbqw/kL+ps+X648GKv+/j3IyL44S/QiIrx30Ofr/LYX2gsX9yv9c7+coIJly/jVwrmj1FUj/Wbq3g4ZJwP0RvYfw8Fn0/qZXaaDwihT89b5J+9ROMP6ON3kqhtZE/PED6/AeZlT/KXIUK+7mZPwSv+LjTH54/dJZ7HdhnoT/ooy4etuWjPzbI6ZRfg6Y/Vr0mlD0oqT+Lc1lFyKarP9OyPg9T0K0/pakXxn+irz8KmV1ld6SwPxSCLfqSfbE/u8cyhSFxsj9gmSDz1I2zP1jV33Rv6LQ/\",\"dtype\":\"float64\",\"shape\":[75]},\"y\":{\"__ndarray__\":\"GhExyth1ND/Sv8nbtpRIP2vylNV0PVE/aTum7souWD/At0SJ8fVgPw3Iuahxymc/MSNhhJWvcD/bTfBN02d3P2zb5nxnaoA/CD5h5MAGhz8NmeH1TyaQP+zrCsc9p5Y/LbKd76fGnz/bLW5ISEmmPww9YvTcQq8/JV2OstnstT8Er5Y7M8G+P0c+r3jqkcU/5h99k6ZBzj88bCIzFzjVP4enV8oyxN0//yH99nXg5D8qOpLLf0jtP5kqGJXUifQ/c9cS8kHP/D+/DpwzojQEQIEmwoanVwxA4lgXt9HgE0BSSZ2AJuIbQAMJih9jjiNA5q4l5INuK0AwTKYKRj0zQNv5fmq8/DpAaCJseHrtQkB/+zpwzoxKQM3MzMzMeFJAZmZmZmZqWEAAAAAAAFxeQM3MzMzMJmJAmpmZmZkfZUBmZmZmZhhoQDMzMzMzEWtAAAAAAAAKbkBmZmZmZoFwQM3MzMzM/XFAMzMzMzN6c0CamZmZmfZ0QAAAAAAAc3ZAZmZmZmbvd0DNzMzMzGt5QDMzMzMz6HpAmpmZmZlkfEAAAAAAAOF9QGZmZmZmXX9AZmZmZuZsgECamZmZGSuBQM3MzMxM6YFAAAAAAICngkAzMzMzs2WDQGZmZmbmI4RAmpmZmRnihEDNzMzMTKCFQAAAAACAXoZAMzMzM7Mch0BmZmZm5tqHQJqZmZkZmYhAzczMzExXiUAAAAAAgBWKQDMzMzOz04pAZmZmZuaRi0CamZmZGVCMQM3MzMxMDo1AAAAAAIDMjUAzMzMzs4qOQGZmZmbmSI9A\",\"dtype\":\"float64\",\"shape\":[75]}}},\"id\":\"597bd775-b48f-4532-ae6f-e4c2a7002984\",\"type\":\"ColumnDataSource\"},{\"attributes\":{\"plot\":{\"id\":\"8b6e9d90-4cbe-491a-9d79-de51cc345530\",\"subtype\":\"Figure\",\"type\":\"Plot\"},\"ticker\":{\"id\":\"3417aecb-fdaf-4a12-98c8-8a9fe3eee04d\",\"type\":\"BasicTicker\"}},\"id\":\"db5737c9-3d54-4413-85e5-033a2680926a\",\"type\":\"Grid\"},{\"attributes\":{},\"id\":\"9e22d8ad-1377-447e-8303-6a96b1b1429e\",\"type\":\"BasicTickFormatter\"},{\"attributes\":{\"data_source\":{\"id\":\"0ebea9bf-7be3-4683-a355-e5799e00e302\",\"type\":\"ColumnDataSource\"},\"glyph\":{\"id\":\"691144f5-883f-4ecd-8603-22805cf8c3dd\",\"type\":\"Line\"},\"hover_glyph\":null,\"muted_glyph\":null,\"nonselection_glyph\":{\"id\":\"1793db8d-3863-4bd5-b464-53fbaa33a652\",\"type\":\"Line\"},\"selection_glyph\":null,\"view\":{\"id\":\"bf4609d1-223f-462a-a0a6-5ef1a8586e1b\",\"type\":\"CDSView\"}},\"id\":\"4fb4179a-cf84-43f6-b0fd-11a6c6197680\",\"type\":\"GlyphRenderer\"},{\"attributes\":{\"source\":{\"id\":\"c511a8f2-aa0d-4452-bd74-32781b5f7866\",\"type\":\"ColumnDataSource\"}},\"id\":\"ec0e6f95-80dc-4f3e-921f-d37968621e4b\",\"type\":\"CDSView\"},{\"attributes\":{\"data_source\":{\"id\":\"ea7d3365-1913-457a-8026-e9a560bcb9a1\",\"type\":\"ColumnDataSource\"},\"glyph\":{\"id\":\"009a7fd8-99b5-4971-ab6e-e71e43ae4cb9\",\"type\":\"Line\"},\"hover_glyph\":null,\"muted_glyph\":null,\"nonselection_glyph\":{\"id\":\"16033987-1954-4aea-aead-2baf8d0512ec\",\"type\":\"Line\"},\"selection_glyph\":null,\"view\":{\"id\":\"01745e2c-d027-46f8-9d65-8edc4a9e1498\",\"type\":\"CDSView\"}},\"id\":\"85bf391e-2cff-425b-9af1-dd1ccc57b525\",\"type\":\"GlyphRenderer\"},{\"attributes\":{},\"id\":\"3417aecb-fdaf-4a12-98c8-8a9fe3eee04d\",\"type\":\"BasicTicker\"},{\"attributes\":{\"below\":[{\"id\":\"93e45dd8-9cc9-4817-a252-9208ca3c91d7\",\"type\":\"LinearAxis\"}],\"left\":[{\"id\":\"85b4c49b-be95-46d3-9ceb-6cb0c53d8d37\",\"type\":\"LogAxis\"}],\"plot_height\":500,\"plot_width\":560,\"renderers\":[{\"id\":\"93e45dd8-9cc9-4817-a252-9208ca3c91d7\",\"type\":\"LinearAxis\"},{\"id\":\"db5737c9-3d54-4413-85e5-033a2680926a\",\"type\":\"Grid\"},{\"id\":\"85b4c49b-be95-46d3-9ceb-6cb0c53d8d37\",\"type\":\"LogAxis\"},{\"id\":\"671b2e2e-de3a-4cd5-9a83-66ad82c28561\",\"type\":\"Grid\"},{\"id\":\"c71d9f31-b45b-4b4f-83b2-112830c0b6dc\",\"type\":\"BoxAnnotation\"},{\"id\":\"e948af9b-1fc3-408d-a5fc-b41544ea32af\",\"type\":\"GlyphRenderer\"},{\"id\":\"f6ea29c3-162d-400a-b590-14e7ae2c54f5\",\"type\":\"GlyphRenderer\"},{\"id\":\"85bf391e-2cff-425b-9af1-dd1ccc57b525\",\"type\":\"GlyphRenderer\"},{\"id\":\"39c2a4c6-ef14-4af4-8405-bb9bd444f0dd\",\"type\":\"GlyphRenderer\"},{\"id\":\"7d323dd9-4b0e-4fc3-b3d2-6f2e7d998e7c\",\"type\":\"GlyphRenderer\"},{\"id\":\"1d1f76fa-eeff-47a9-8e0a-8bc86ed783c1\",\"type\":\"Legend\"}],\"right\":[{\"id\":\"1d1f76fa-eeff-47a9-8e0a-8bc86ed783c1\",\"type\":\"Legend\"}],\"title\":{\"id\":\"6726b576-8aad-4ef7-ae21-442b5afb069f\",\"type\":\"Title\"},\"toolbar\":{\"id\":\"5a1a093c-f99c-4a78-9d7c-2848940acc39\",\"type\":\"Toolbar\"},\"toolbar_location\":null,\"x_range\":{\"id\":\"f2e95ec4-56b7-49f9-9da1-5a46609a6f30\",\"type\":\"Range1d\"},\"x_scale\":{\"id\":\"ed784819-29fc-4569-bfa6-05c35fe78769\",\"type\":\"LinearScale\"},\"y_range\":{\"id\":\"51186620-eb51-4e20-9f82-7007d6d77936\",\"type\":\"Range1d\"},\"y_scale\":{\"id\":\"4eccf6d1-b987-4513-8428-86202b474e0b\",\"type\":\"LogScale\"}},\"id\":\"8b6e9d90-4cbe-491a-9d79-de51cc345530\",\"subtype\":\"Figure\",\"type\":\"Plot\"},{\"attributes\":{\"fill_alpha\":{\"value\":0.7},\"fill_color\":{\"value\":\"#4daf4a\"},\"line_alpha\":{\"value\":0.7},\"line_color\":{\"value\":\"#4daf4a\"},\"x\":{\"field\":\"x\"},\"y\":{\"field\":\"y\"}},\"id\":\"4ff76fbb-25fe-4477-af4e-daaaf3011aeb\",\"type\":\"Circle\"},{\"attributes\":{\"plot\":null,\"text\":\"Log pressure scale\"},\"id\":\"6726b576-8aad-4ef7-ae21-442b5afb069f\",\"type\":\"Title\"},{\"attributes\":{\"label\":{\"value\":\"CRD\"},\"renderers\":[{\"id\":\"f6ea29c3-162d-400a-b590-14e7ae2c54f5\",\"type\":\"GlyphRenderer\"},{\"id\":\"85bf391e-2cff-425b-9af1-dd1ccc57b525\",\"type\":\"GlyphRenderer\"}]},\"id\":\"d85fe1eb-412b-4830-ad4c-f9672cf63b9f\",\"type\":\"LegendItem\"},{\"attributes\":{\"line_color\":\"#4daf4a\",\"line_width\":1.5,\"x\":{\"field\":\"x\"},\"y\":{\"field\":\"y\"}},\"id\":\"009a7fd8-99b5-4971-ab6e-e71e43ae4cb9\",\"type\":\"Line\"},{\"attributes\":{},\"id\":\"ed784819-29fc-4569-bfa6-05c35fe78769\",\"type\":\"LinearScale\"},{\"attributes\":{\"line_alpha\":0.1,\"line_color\":\"#1f77b4\",\"line_width\":1.5,\"x\":{\"field\":\"x\"},\"y\":{\"field\":\"y\"}},\"id\":\"16033987-1954-4aea-aead-2baf8d0512ec\",\"type\":\"Line\"},{\"attributes\":{\"source\":{\"id\":\"0ebea9bf-7be3-4683-a355-e5799e00e302\",\"type\":\"ColumnDataSource\"}},\"id\":\"bf4609d1-223f-462a-a0a6-5ef1a8586e1b\",\"type\":\"CDSView\"},{\"attributes\":{\"callback\":null,\"column_names\":[\"x\",\"y\"],\"data\":{\"x\":{\"__ndarray__\":\"W2O5h6LItL/21sQUQ6G0v3Q3AmJVVrS/Wz0eNBz8s789PNSet5+zvy3xo1U0QbO/rr2kcpnqsr+W9k4jSJqyv+60tLYoOLK/eF2+zZPYsb+IwkOmo4uxv+zFw1y4S7G/672dEbgGsb8MIJtzTNOwv3eVQoFRka+/RpLruPIuqL8QkeWQkKyWv7qeI9S+0II/dgA9K+M3qD84zx1szeC3PzIB+To7/cI/btVa5zNiyz9d2/yw623RP3plSvbaH9E/RR0x+WJVyj+Gc1ei7R/CP5JKwPfnELc/UTLYqKg4qz/5UeIbNQmfPyWHGNJcT5I/gQ0GIv3Shj9Ty1QpzsB8P1cAoo6JxnM/pmODytVWZz9C2+0rQLtVvwDWYfyV+n6/i0a9AklSi7+cz+lWs8iSv2A8b1n4EJm/JG9qymphn7/gp3meHwKhvw5YFgRhTaC/m+MgjfiBnr/khj2/uGycv/6z59b3RJq/q2ShEbz+l78kBZl0Z5GVv8rxOsaE/ZK/gqYqbqw/kL+ps+X648GKv+/j3IyL44S/QiIrx30Ofr/LYX2gsX9yv9c7+coIJly/jVwrmj1FUj/Wbq3g4ZJwP0RvYfw8Fn0/qZXaaDwihT89b5J+9ROMP6ON3kqhtZE/PED6/AeZlT/KXIUK+7mZPwSv+LjTH54/dJZ7HdhnoT/ooy4etuWjPzbI6ZRfg6Y/Vr0mlD0oqT+Lc1lFyKarP9OyPg9T0K0/pakXxn+irz8KmV1ld6SwPxSCLfqSfbE/u8cyhSFxsj9gmSDz1I2zP1jV33Rv6LQ/\",\"dtype\":\"float64\",\"shape\":[75]},\"y\":{\"__ndarray__\":\"GhExyth1ND/Sv8nbtpRIP2vylNV0PVE/aTum7souWD/At0SJ8fVgPw3Iuahxymc/MSNhhJWvcD/bTfBN02d3P2zb5nxnaoA/CD5h5MAGhz8NmeH1TyaQP+zrCsc9p5Y/LbKd76fGnz/bLW5ISEmmPww9YvTcQq8/JV2OstnstT8Er5Y7M8G+P0c+r3jqkcU/5h99k6ZBzj88bCIzFzjVP4enV8oyxN0//yH99nXg5D8qOpLLf0jtP5kqGJXUifQ/c9cS8kHP/D+/DpwzojQEQIEmwoanVwxA4lgXt9HgE0BSSZ2AJuIbQAMJih9jjiNA5q4l5INuK0AwTKYKRj0zQNv5fmq8/DpAaCJseHrtQkB/+zpwzoxKQM3MzMzMeFJAZmZmZmZqWEAAAAAAAFxeQM3MzMzMJmJAmpmZmZkfZUBmZmZmZhhoQDMzMzMzEWtAAAAAAAAKbkBmZmZmZoFwQM3MzMzM/XFAMzMzMzN6c0CamZmZmfZ0QAAAAAAAc3ZAZmZmZmbvd0DNzMzMzGt5QDMzMzMz6HpAmpmZmZlkfEAAAAAAAOF9QGZmZmZmXX9AZmZmZuZsgECamZmZGSuBQM3MzMxM6YFAAAAAAICngkAzMzMzs2WDQGZmZmbmI4RAmpmZmRnihEDNzMzMTKCFQAAAAACAXoZAMzMzM7Mch0BmZmZm5tqHQJqZmZkZmYhAzczMzExXiUAAAAAAgBWKQDMzMzOz04pAZmZmZuaRi0CamZmZGVCMQM3MzMxMDo1AAAAAAIDMjUAzMzMzs4qOQGZmZmbmSI9A\",\"dtype\":\"float64\",\"shape\":[75]}}},\"id\":\"931aa924-4283-4d29-bd77-43b57823b711\",\"type\":\"ColumnDataSource\"},{\"attributes\":{\"active_drag\":\"auto\",\"active_inspect\":\"auto\",\"active_scroll\":\"auto\",\"active_tap\":\"auto\",\"tools\":[{\"id\":\"2f0fe413-85cb-4126-a16f-6ddcd033cebb\",\"type\":\"PanTool\"},{\"id\":\"7f200f18-3a75-4379-a73d-6557fbd5b2e0\",\"type\":\"WheelZoomTool\"},{\"id\":\"8f5eda5b-63c0-434e-b0bf-fdb8a4fcea51\",\"type\":\"BoxZoomTool\"},{\"id\":\"d05d4485-ad95-4e59-89e4-a6b66e1de157\",\"type\":\"SaveTool\"},{\"id\":\"e8e3e61b-db0c-4096-a729-0b6cdb4cc5e6\",\"type\":\"ResetTool\"},{\"id\":\"1f544221-5646-45bc-a1fc-eb9724125b25\",\"type\":\"HelpTool\"}]},\"id\":\"5a1a093c-f99c-4a78-9d7c-2848940acc39\",\"type\":\"Toolbar\"},{\"attributes\":{\"axis_label\":\"pressure [mb]\",\"formatter\":{\"id\":\"17223b51-a9a7-4fde-8413-eb88f1d8c475\",\"type\":\"LogTickFormatter\"},\"plot\":{\"id\":\"8b6e9d90-4cbe-491a-9d79-de51cc345530\",\"subtype\":\"Figure\",\"type\":\"Plot\"},\"ticker\":{\"id\":\"85f48515-74ce-4c5a-9328-9d0cec4b4e98\",\"type\":\"LogTicker\"}},\"id\":\"85b4c49b-be95-46d3-9ceb-6cb0c53d8d37\",\"type\":\"LogAxis\"},{\"attributes\":{\"source\":{\"id\":\"ea7d3365-1913-457a-8026-e9a560bcb9a1\",\"type\":\"ColumnDataSource\"}},\"id\":\"01745e2c-d027-46f8-9d65-8edc4a9e1498\",\"type\":\"CDSView\"},{\"attributes\":{\"fill_alpha\":{\"value\":0.7},\"fill_color\":{\"value\":\"#984ea3\"},\"line_alpha\":{\"value\":0.7},\"line_color\":{\"value\":\"#984ea3\"},\"x\":{\"field\":\"x\"},\"y\":{\"field\":\"y\"}},\"id\":\"fe36e4c6-bdc3-4acf-afd0-70df6e46f9a3\",\"type\":\"Square\"},{\"attributes\":{\"callback\":null,\"end\":0.28126946908,\"start\":-0.09828059708},\"id\":\"f2e95ec4-56b7-49f9-9da1-5a46609a6f30\",\"type\":\"Range1d\"},{\"attributes\":{\"callback\":null,\"column_names\":[\"x\",\"y\"],\"data\":{\"x\":{\"__ndarray__\":\"JSducH2zu7/BUAtOEoW7v82Hb3p6Gbu/HFjxujylur+B/inydzG6v9av8AWYv7m/0TtS0+dQub91/oPOv+u4v84e9q+dibi/3ORVdQ01uL+pQ9khH/C3v3jdEQR+w7e/xX5M9MS2t7/w8w28wtG3v3OxGxag9ra/AIXEhyPZsr/lScULke+mv8gagwTEIYO/79hEcKDjoD/PvdPZ01K1P+WPUNB5T8I/6tU6UCt1yz+E4IZSWsPRP0fPRhHGDdE/eB9w8pWfyD+rNDF2JXa/P1yJlPSd0LI/hgkNPnnKpT+sr3Gnu4WaPxrRQKOp25E/LWO//lZ4iD/PViOQUtZ9PxcOY1YY8HA/0qSrtAAGXT8nsZBmWD9gv4yc4onJqH2/wgUd0HldiL/ki+SVZTSQv4PRrySuoJW/EG5g4veFm78Uxk4sewievxVthAEon5y/DH8HuIDNmr/j4QoW8ReZv52X3owHTJe/bPKC8rhUlb/1umG12ymTv1GBr8IPyZC/74lw8cJmjL9Y2hRV4OCGv1R/vXljJYG/GTTJzxO9dr/85FYv4Jhmv3U6cUTySPU+3HcUAEZEZz/N53sNCpF3P8Sm0ckyAoI/uUJ7nDmJiD86ilo3MWaPP4ebD6wDUJM/bHIAFlwglz8n3r+B4iqbPxiTYYnFd58/7ZYA1owHoj8G2Ttuu3qkP/q1BP+sEKc/I8+2GfWwqT8edDFPrCisPypIzupmRK4/UV9cy+D/rz+CcOQFAcewP+imAivdlrE/Fw5enV6Hsj+iawtBoa2zPyQqPZuhLbU/\",\"dtype\":\"float64\",\"shape\":[75]},\"y\":{\"__ndarray__\":\"GhExyth1ND/Sv8nbtpRIP2vylNV0PVE/aTum7souWD/At0SJ8fVgPw3Iuahxymc/MSNhhJWvcD/bTfBN02d3P2zb5nxnaoA/CD5h5MAGhz8NmeH1TyaQP+zrCsc9p5Y/LbKd76fGnz/bLW5ISEmmPww9YvTcQq8/JV2OstnstT8Er5Y7M8G+P0c+r3jqkcU/5h99k6ZBzj88bCIzFzjVP4enV8oyxN0//yH99nXg5D8qOpLLf0jtP5kqGJXUifQ/c9cS8kHP/D+/DpwzojQEQIEmwoanVwxA4lgXt9HgE0BSSZ2AJuIbQAMJih9jjiNA5q4l5INuK0AwTKYKRj0zQNv5fmq8/DpAaCJseHrtQkB/+zpwzoxKQM3MzMzMeFJAZmZmZmZqWEAAAAAAAFxeQM3MzMzMJmJAmpmZmZkfZUBmZmZmZhhoQDMzMzMzEWtAAAAAAAAKbkBmZmZmZoFwQM3MzMzM/XFAMzMzMzN6c0CamZmZmfZ0QAAAAAAAc3ZAZmZmZmbvd0DNzMzMzGt5QDMzMzMz6HpAmpmZmZlkfEAAAAAAAOF9QGZmZmZmXX9AZmZmZuZsgECamZmZGSuBQM3MzMxM6YFAAAAAAICngkAzMzMzs2WDQGZmZmbmI4RAmpmZmRnihEDNzMzMTKCFQAAAAACAXoZAMzMzM7Mch0BmZmZm5tqHQJqZmZkZmYhAzczMzExXiUAAAAAAgBWKQDMzMzOz04pAZmZmZuaRi0CamZmZGVCMQM3MzMxMDo1AAAAAAIDMjUAzMzMzs4qOQGZmZmbmSI9A\",\"dtype\":\"float64\",\"shape\":[75]}}},\"id\":\"1a75c9ee-bb88-40c6-acb1-cbd9a72ed7a2\",\"type\":\"ColumnDataSource\"},{\"attributes\":{\"line_alpha\":0.1,\"line_color\":\"#1f77b4\",\"line_width\":3,\"x\":{\"field\":\"x\"},\"y\":{\"field\":\"y\"}},\"id\":\"1793db8d-3863-4bd5-b464-53fbaa33a652\",\"type\":\"Line\"},{\"attributes\":{\"fill_alpha\":{\"value\":0.1},\"fill_color\":{\"value\":\"#1f77b4\"},\"line_alpha\":{\"value\":0.1},\"line_color\":{\"value\":\"#1f77b4\"},\"x\":{\"field\":\"x\"},\"y\":{\"field\":\"y\"}},\"id\":\"70b34614-0996-4529-9f4f-f030fc704824\",\"type\":\"Square\"},{\"attributes\":{\"data_source\":{\"id\":\"597bd775-b48f-4532-ae6f-e4c2a7002984\",\"type\":\"ColumnDataSource\"},\"glyph\":{\"id\":\"fe36e4c6-bdc3-4acf-afd0-70df6e46f9a3\",\"type\":\"Square\"},\"hover_glyph\":null,\"muted_glyph\":null,\"nonselection_glyph\":{\"id\":\"70b34614-0996-4529-9f4f-f030fc704824\",\"type\":\"Square\"},\"selection_glyph\":null,\"view\":{\"id\":\"cf9df19f-6f50-42db-a5c3-5dd870ba31b1\",\"type\":\"CDSView\"}},\"id\":\"39c2a4c6-ef14-4af4-8405-bb9bd444f0dd\",\"type\":\"GlyphRenderer\"},{\"attributes\":{\"fill_alpha\":{\"value\":0.7},\"fill_color\":{\"value\":\"#984ea3\"},\"line_alpha\":{\"value\":0.7},\"line_color\":{\"value\":\"#984ea3\"},\"x\":{\"field\":\"x\"},\"y\":{\"field\":\"y\"}},\"id\":\"aca9d843-1df3-4c5d-acac-916999776e0a\",\"type\":\"Square\"},{\"attributes\":{\"source\":{\"id\":\"597bd775-b48f-4532-ae6f-e4c2a7002984\",\"type\":\"ColumnDataSource\"}},\"id\":\"cf9df19f-6f50-42db-a5c3-5dd870ba31b1\",\"type\":\"CDSView\"},{\"attributes\":{\"line_alpha\":0.6,\"line_color\":\"#984ea3\",\"line_width\":3,\"x\":{\"field\":\"x\"},\"y\":{\"field\":\"y\"}},\"id\":\"20439347-8a1b-4212-a508-5b3a3ecdd584\",\"type\":\"Line\"},{\"attributes\":{\"callback\":null,\"column_names\":[\"x\",\"y\"],\"data\":{\"x\":{\"__ndarray__\":\"W2O5h6LItL/21sQUQ6G0v3Q3AmJVVrS/Wz0eNBz8s789PNSet5+zvy3xo1U0QbO/rr2kcpnqsr+W9k4jSJqyv+60tLYoOLK/eF2+zZPYsb+IwkOmo4uxv+zFw1y4S7G/672dEbgGsb8MIJtzTNOwv3eVQoFRka+/RpLruPIuqL8QkeWQkKyWv7qeI9S+0II/dgA9K+M3qD84zx1szeC3PzIB+To7/cI/btVa5zNiyz9d2/yw623RP3plSvbaH9E/RR0x+WJVyj+Gc1ei7R/CP5JKwPfnELc/UTLYqKg4qz/5UeIbNQmfPyWHGNJcT5I/gQ0GIv3Shj9Ty1QpzsB8P1cAoo6JxnM/pmODytVWZz9C2+0rQLtVvwDWYfyV+n6/i0a9AklSi7+cz+lWs8iSv2A8b1n4EJm/JG9qymphn7/gp3meHwKhvw5YFgRhTaC/m+MgjfiBnr/khj2/uGycv/6z59b3RJq/q2ShEbz+l78kBZl0Z5GVv8rxOsaE/ZK/gqYqbqw/kL+ps+X648GKv+/j3IyL44S/QiIrx30Ofr/LYX2gsX9yv9c7+coIJly/jVwrmj1FUj/Wbq3g4ZJwP0RvYfw8Fn0/qZXaaDwihT89b5J+9ROMP6ON3kqhtZE/PED6/AeZlT/KXIUK+7mZPwSv+LjTH54/dJZ7HdhnoT/ooy4etuWjPzbI6ZRfg6Y/Vr0mlD0oqT+Lc1lFyKarP9OyPg9T0K0/pakXxn+irz8KmV1ld6SwPxSCLfqSfbE/u8cyhSFxsj9gmSDz1I2zP1jV33Rv6LQ/\",\"dtype\":\"float64\",\"shape\":[75]},\"y\":{\"__ndarray__\":\"GhExyth1ND/Sv8nbtpRIP2vylNV0PVE/aTum7souWD/At0SJ8fVgPw3Iuahxymc/MSNhhJWvcD/bTfBN02d3P2zb5nxnaoA/CD5h5MAGhz8NmeH1TyaQP+zrCsc9p5Y/LbKd76fGnz/bLW5ISEmmPww9YvTcQq8/JV2OstnstT8Er5Y7M8G+P0c+r3jqkcU/5h99k6ZBzj88bCIzFzjVP4enV8oyxN0//yH99nXg5D8qOpLLf0jtP5kqGJXUifQ/c9cS8kHP/D+/DpwzojQEQIEmwoanVwxA4lgXt9HgE0BSSZ2AJuIbQAMJih9jjiNA5q4l5INuK0AwTKYKRj0zQNv5fmq8/DpAaCJseHrtQkB/+zpwzoxKQM3MzMzMeFJAZmZmZmZqWEAAAAAAAFxeQM3MzMzMJmJAmpmZmZkfZUBmZmZmZhhoQDMzMzMzEWtAAAAAAAAKbkBmZmZmZoFwQM3MzMzM/XFAMzMzMzN6c0CamZmZmfZ0QAAAAAAAc3ZAZmZmZmbvd0DNzMzMzGt5QDMzMzMz6HpAmpmZmZlkfEAAAAAAAOF9QGZmZmZmXX9AZmZmZuZsgECamZmZGSuBQM3MzMxM6YFAAAAAAICngkAzMzMzs2WDQGZmZmbmI4RAmpmZmRnihEDNzMzMTKCFQAAAAACAXoZAMzMzM7Mch0BmZmZm5tqHQJqZmZkZmYhAzczMzExXiUAAAAAAgBWKQDMzMzOz04pAZmZmZuaRi0CamZmZGVCMQM3MzMxMDo1AAAAAAIDMjUAzMzMzs4qOQGZmZmbmSI9A\",\"dtype\":\"float64\",\"shape\":[75]}}},\"id\":\"e8ed3732-5ef5-4556-9873-a12e0f8e6788\",\"type\":\"ColumnDataSource\"},{\"attributes\":{\"line_alpha\":0.1,\"line_color\":\"#1f77b4\",\"line_width\":3,\"x\":{\"field\":\"x\"},\"y\":{\"field\":\"y\"}},\"id\":\"166ab33f-8a4f-4301-a7c1-9eed07dc8c33\",\"type\":\"Line\"},{\"attributes\":{\"data_source\":{\"id\":\"931aa924-4283-4d29-bd77-43b57823b711\",\"type\":\"ColumnDataSource\"},\"glyph\":{\"id\":\"20439347-8a1b-4212-a508-5b3a3ecdd584\",\"type\":\"Line\"},\"hover_glyph\":null,\"muted_glyph\":null,\"nonselection_glyph\":{\"id\":\"166ab33f-8a4f-4301-a7c1-9eed07dc8c33\",\"type\":\"Line\"},\"selection_glyph\":null,\"view\":{\"id\":\"df11877f-eb25-4f05-86e9-02e20ee6a0fc\",\"type\":\"CDSView\"}},\"id\":\"7d323dd9-4b0e-4fc3-b3d2-6f2e7d998e7c\",\"type\":\"GlyphRenderer\"},{\"attributes\":{\"source\":{\"id\":\"931aa924-4283-4d29-bd77-43b57823b711\",\"type\":\"ColumnDataSource\"}},\"id\":\"df11877f-eb25-4f05-86e9-02e20ee6a0fc\",\"type\":\"CDSView\"},{\"attributes\":{\"label\":{\"value\":\"WGT igg=10 wgt_flux=2\"},\"renderers\":[{\"id\":\"39c2a4c6-ef14-4af4-8405-bb9bd444f0dd\",\"type\":\"GlyphRenderer\"},{\"id\":\"7d323dd9-4b0e-4fc3-b3d2-6f2e7d998e7c\",\"type\":\"GlyphRenderer\"}]},\"id\":\"5b0c4cd5-9958-4dde-9295-97d974e08239\",\"type\":\"LegendItem\"},{\"attributes\":{\"data_source\":{\"id\":\"e8ed3732-5ef5-4556-9873-a12e0f8e6788\",\"type\":\"ColumnDataSource\"},\"glyph\":{\"id\":\"aca9d843-1df3-4c5d-acac-916999776e0a\",\"type\":\"Square\"},\"hover_glyph\":null,\"muted_glyph\":null,\"nonselection_glyph\":{\"id\":\"525c02c3-72c8-4a80-a0fe-3aa52b443d97\",\"type\":\"Square\"},\"selection_glyph\":null,\"view\":{\"id\":\"d8c170f0-deb6-40b7-90e3-97e385589214\",\"type\":\"CDSView\"}},\"id\":\"10e2cc4f-cc31-403b-92f1-361ec4872e8f\",\"type\":\"GlyphRenderer\"},{\"attributes\":{\"toolbar\":{\"id\":\"b28df47d-cdc0-4225-bc50-4aaf7f9af43d\",\"type\":\"ProxyToolbar\"},\"toolbar_location\":\"above\"},\"id\":\"9eae2076-9d00-4b04-93f2-c30f1fee152a\",\"type\":\"ToolbarBox\"},{\"attributes\":{\"children\":[{\"id\":\"9eae2076-9d00-4b04-93f2-c30f1fee152a\",\"type\":\"ToolbarBox\"},{\"id\":\"ef161b53-b041-49ba-bfd4-71d7035f549c\",\"type\":\"Column\"}]},\"id\":\"099881ab-c8f7-40fc-b9ba-67f6dbb6e2ce\",\"type\":\"Column\"},{\"attributes\":{\"num_minor_ticks\":10},\"id\":\"85f48515-74ce-4c5a-9328-9d0cec4b4e98\",\"type\":\"LogTicker\"},{\"attributes\":{\"source\":{\"id\":\"1a75c9ee-bb88-40c6-acb1-cbd9a72ed7a2\",\"type\":\"ColumnDataSource\"}},\"id\":\"e51b677d-f559-4e9f-834d-de7a2043e72a\",\"type\":\"CDSView\"},{\"attributes\":{\"data_source\":{\"id\":\"2e148d11-99ac-41d8-85dc-1fce62809074\",\"type\":\"ColumnDataSource\"},\"glyph\":{\"id\":\"71335a44-0892-4ccc-b8ac-dc3b560be178\",\"type\":\"Line\"},\"hover_glyph\":null,\"muted_glyph\":null,\"nonselection_glyph\":{\"id\":\"b3fe073b-7bd7-4fe4-9604-450936199b2c\",\"type\":\"Line\"},\"selection_glyph\":null,\"view\":{\"id\":\"2e9d6fd6-0595-42a8-b0d5-7a604ebec9d2\",\"type\":\"CDSView\"}},\"id\":\"f493bae6-a4e9-4426-9fbc-2e07d148a452\",\"type\":\"GlyphRenderer\"},{\"attributes\":{\"fill_alpha\":{\"value\":0.1},\"fill_color\":{\"value\":\"#1f77b4\"},\"line_alpha\":{\"value\":0.1},\"line_color\":{\"value\":\"#1f77b4\"},\"x\":{\"field\":\"x\"},\"y\":{\"field\":\"y\"}},\"id\":\"525c02c3-72c8-4a80-a0fe-3aa52b443d97\",\"type\":\"Square\"},{\"attributes\":{\"axis_label\":\"cooling rate [K/day]\",\"formatter\":{\"id\":\"9e22d8ad-1377-447e-8303-6a96b1b1429e\",\"type\":\"BasicTickFormatter\"},\"plot\":{\"id\":\"8b6e9d90-4cbe-491a-9d79-de51cc345530\",\"subtype\":\"Figure\",\"type\":\"Plot\"},\"ticker\":{\"id\":\"3417aecb-fdaf-4a12-98c8-8a9fe3eee04d\",\"type\":\"BasicTicker\"}},\"id\":\"93e45dd8-9cc9-4817-a252-9208ca3c91d7\",\"type\":\"LinearAxis\"},{\"attributes\":{\"callback\":null,\"end\":0.01,\"start\":1020},\"id\":\"51186620-eb51-4e20-9f82-7007d6d77936\",\"type\":\"Range1d\"},{\"attributes\":{\"callback\":null,\"column_names\":[\"x\",\"y\"],\"data\":{\"x\":{\"__ndarray__\":\"W2O5h6LItL/21sQUQ6G0v3Q3AmJVVrS/Wz0eNBz8s789PNSet5+zvy3xo1U0QbO/rr2kcpnqsr+W9k4jSJqyv+60tLYoOLK/eF2+zZPYsb+IwkOmo4uxv+zFw1y4S7G/672dEbgGsb8MIJtzTNOwv3eVQoFRka+/RpLruPIuqL8QkeWQkKyWv7qeI9S+0II/dgA9K+M3qD84zx1szeC3PzIB+To7/cI/btVa5zNiyz9d2/yw623RP3plSvbaH9E/RR0x+WJVyj+Gc1ei7R/CP5JKwPfnELc/UTLYqKg4qz/5UeIbNQmfPyWHGNJcT5I/gQ0GIv3Shj9Ty1QpzsB8P1cAoo6JxnM/pmODytVWZz9C2+0rQLtVvwDWYfyV+n6/i0a9AklSi7+cz+lWs8iSv2A8b1n4EJm/JG9qymphn7/gp3meHwKhvw5YFgRhTaC/m+MgjfiBnr/khj2/uGycv/6z59b3RJq/q2ShEbz+l78kBZl0Z5GVv8rxOsaE/ZK/gqYqbqw/kL+ps+X648GKv+/j3IyL44S/QiIrx30Ofr/LYX2gsX9yv9c7+coIJly/jVwrmj1FUj/Wbq3g4ZJwP0RvYfw8Fn0/qZXaaDwihT89b5J+9ROMP6ON3kqhtZE/PED6/AeZlT/KXIUK+7mZPwSv+LjTH54/dJZ7HdhnoT/ooy4etuWjPzbI6ZRfg6Y/Vr0mlD0oqT+Lc1lFyKarP9OyPg9T0K0/pakXxn+irz8KmV1ld6SwPxSCLfqSfbE/u8cyhSFxsj9gmSDz1I2zP1jV33Rv6LQ/\",\"dtype\":\"float64\",\"shape\":[75]},\"y\":{\"__ndarray__\":\"GhExyth1ND/Sv8nbtpRIP2vylNV0PVE/aTum7souWD/At0SJ8fVgPw3Iuahxymc/MSNhhJWvcD/bTfBN02d3P2zb5nxnaoA/CD5h5MAGhz8NmeH1TyaQP+zrCsc9p5Y/LbKd76fGnz/bLW5ISEmmPww9YvTcQq8/JV2OstnstT8Er5Y7M8G+P0c+r3jqkcU/5h99k6ZBzj88bCIzFzjVP4enV8oyxN0//yH99nXg5D8qOpLLf0jtP5kqGJXUifQ/c9cS8kHP/D+/DpwzojQEQIEmwoanVwxA4lgXt9HgE0BSSZ2AJuIbQAMJih9jjiNA5q4l5INuK0AwTKYKRj0zQNv5fmq8/DpAaCJseHrtQkB/+zpwzoxKQM3MzMzMeFJAZmZmZmZqWEAAAAAAAFxeQM3MzMzMJmJAmpmZmZkfZUBmZmZmZhhoQDMzMzMzEWtAAAAAAAAKbkBmZmZmZoFwQM3MzMzM/XFAMzMzMzN6c0CamZmZmfZ0QAAAAAAAc3ZAZmZmZmbvd0DNzMzMzGt5QDMzMzMz6HpAmpmZmZlkfEAAAAAAAOF9QGZmZmZmXX9AZmZmZuZsgECamZmZGSuBQM3MzMxM6YFAAAAAAICngkAzMzMzs2WDQGZmZmbmI4RAmpmZmRnihEDNzMzMTKCFQAAAAACAXoZAMzMzM7Mch0BmZmZm5tqHQJqZmZkZmYhAzczMzExXiUAAAAAAgBWKQDMzMzOz04pAZmZmZuaRi0CamZmZGVCMQM3MzMxMDo1AAAAAAIDMjUAzMzMzs4qOQGZmZmbmSI9A\",\"dtype\":\"float64\",\"shape\":[75]}}},\"id\":\"0ebea9bf-7be3-4683-a355-e5799e00e302\",\"type\":\"ColumnDataSource\"},{\"attributes\":{},\"id\":\"4eccf6d1-b987-4513-8428-86202b474e0b\",\"type\":\"LogScale\"}],\"root_ids\":[\"099881ab-c8f7-40fc-b9ba-67f6dbb6e2ce\"]},\"title\":\"Bokeh Application\",\"version\":\"0.12.14\"}};\n",
       "  var render_items = [{\"docid\":\"15da6946-bf9f-445d-9f91-f4a76d609650\",\"elementid\":\"5d285363-ccf1-41dd-91e7-543e1d02f781\",\"modelid\":\"099881ab-c8f7-40fc-b9ba-67f6dbb6e2ce\"}];\n",
       "  root.Bokeh.embed.embed_items_notebook(docs_json, render_items);\n",
       "\n",
       "  }\n",
       "  if (root.Bokeh !== undefined) {\n",
       "    embed_document(root);\n",
       "  } else {\n",
       "    var attempts = 0;\n",
       "    var timer = setInterval(function(root) {\n",
       "      if (root.Bokeh !== undefined) {\n",
       "        embed_document(root);\n",
       "        clearInterval(timer);\n",
       "      }\n",
       "      attempts++;\n",
       "      if (attempts > 100) {\n",
       "        console.log(\"Bokeh: ERROR: Unable to run BokehJS code because BokehJS library is missing\")\n",
       "        clearInterval(timer);\n",
       "      }\n",
       "    }, 10, root)\n",
       "  }\n",
       "})(window);"
      ],
      "application/vnd.bokehjs_exec.v0+json": ""
     },
     "metadata": {
      "application/vnd.bokehjs_exec.v0+json": {
       "id": "099881ab-c8f7-40fc-b9ba-67f6dbb6e2ce"
      }
     },
     "output_type": "display_data"
    },
    {
     "name": "stdout",
     "output_type": "stream",
     "text": [
      "FIGURE. Cooling rate profiles.\n"
     ]
    },
    {
     "data": {
      "text/html": [
       "<a id=\"Flux_Comparison\"></a>"
      ],
      "text/plain": [
       "<IPython.core.display.HTML object>"
      ]
     },
     "metadata": {},
     "output_type": "display_data"
    },
    {
     "data": {
      "text/markdown": [
       "# Flux Comparison"
      ],
      "text/plain": [
       "<IPython.core.display.Markdown object>"
      ]
     },
     "metadata": {},
     "output_type": "display_data"
    },
    {
     "data": {
      "text/html": [
       "<div>\n",
       "<style>\n",
       "    .dataframe thead tr:only-child th {\n",
       "        text-align: right;\n",
       "    }\n",
       "\n",
       "    .dataframe thead th {\n",
       "        text-align: left;\n",
       "    }\n",
       "\n",
       "    .dataframe tbody tr th {\n",
       "        vertical-align: top;\n",
       "    }\n",
       "</style>\n",
       "<table border=\"1\" class=\"dataframe\">\n",
       "  <thead>\n",
       "    <tr style=\"text-align: right;\">\n",
       "      <th></th>\n",
       "      <th></th>\n",
       "      <th>flug</th>\n",
       "      <th>fldg</th>\n",
       "      <th>fnetg</th>\n",
       "    </tr>\n",
       "    <tr>\n",
       "      <th>pressure</th>\n",
       "      <th>level</th>\n",
       "      <th></th>\n",
       "      <th></th>\n",
       "      <th></th>\n",
       "    </tr>\n",
       "  </thead>\n",
       "  <tbody>\n",
       "    <tr>\n",
       "      <th>0.0000</th>\n",
       "      <th>1</th>\n",
       "      <td>-19.186270</td>\n",
       "      <td>0.000000</td>\n",
       "      <td>-19.186270</td>\n",
       "    </tr>\n",
       "    <tr>\n",
       "      <th>1.0685</th>\n",
       "      <th>24</th>\n",
       "      <td>-19.184870</td>\n",
       "      <td>0.017685</td>\n",
       "      <td>-19.167186</td>\n",
       "    </tr>\n",
       "    <tr>\n",
       "      <th>1013.0000</th>\n",
       "      <th>76</th>\n",
       "      <td>-23.755176</td>\n",
       "      <td>6.022771</td>\n",
       "      <td>-17.732405</td>\n",
       "    </tr>\n",
       "  </tbody>\n",
       "</table>\n",
       "</div>"
      ],
      "text/plain": [
       "                      flug      fldg      fnetg\n",
       "pressure  level                                \n",
       "0.0000    1     -19.186270  0.000000 -19.186270\n",
       "1.0685    24    -19.184870  0.017685 -19.167186\n",
       "1013.0000 76    -23.755176  6.022771 -17.732405"
      ]
     },
     "metadata": {},
     "output_type": "display_data"
    },
    {
     "name": "stdout",
     "output_type": "stream",
     "text": [
      "Table. Fluxes. WGT igg=10 wgt_flux=1\n"
     ]
    },
    {
     "data": {
      "text/html": [
       "<div>\n",
       "<style>\n",
       "    .dataframe thead tr:only-child th {\n",
       "        text-align: right;\n",
       "    }\n",
       "\n",
       "    .dataframe thead th {\n",
       "        text-align: left;\n",
       "    }\n",
       "\n",
       "    .dataframe tbody tr th {\n",
       "        vertical-align: top;\n",
       "    }\n",
       "</style>\n",
       "<table border=\"1\" class=\"dataframe\">\n",
       "  <thead>\n",
       "    <tr style=\"text-align: right;\">\n",
       "      <th></th>\n",
       "      <th></th>\n",
       "      <th>flug</th>\n",
       "      <th>fldg</th>\n",
       "      <th>fnetg</th>\n",
       "    </tr>\n",
       "    <tr>\n",
       "      <th>pressure</th>\n",
       "      <th>level</th>\n",
       "      <th></th>\n",
       "      <th></th>\n",
       "      <th></th>\n",
       "    </tr>\n",
       "  </thead>\n",
       "  <tbody>\n",
       "    <tr>\n",
       "      <th>0.0000</th>\n",
       "      <th>1</th>\n",
       "      <td>-19.273599</td>\n",
       "      <td>0.000000</td>\n",
       "      <td>-19.273599</td>\n",
       "    </tr>\n",
       "    <tr>\n",
       "      <th>1.0685</th>\n",
       "      <th>24</th>\n",
       "      <td>-19.274724</td>\n",
       "      <td>0.019504</td>\n",
       "      <td>-19.255220</td>\n",
       "    </tr>\n",
       "    <tr>\n",
       "      <th>1013.0000</th>\n",
       "      <th>76</th>\n",
       "      <td>-23.755175</td>\n",
       "      <td>6.123201</td>\n",
       "      <td>-17.631974</td>\n",
       "    </tr>\n",
       "  </tbody>\n",
       "</table>\n",
       "</div>"
      ],
      "text/plain": [
       "                      flug      fldg      fnetg\n",
       "pressure  level                                \n",
       "0.0000    1     -19.273599  0.000000 -19.273599\n",
       "1.0685    24    -19.274724  0.019504 -19.255220\n",
       "1013.0000 76    -23.755175  6.123201 -17.631974"
      ]
     },
     "metadata": {},
     "output_type": "display_data"
    },
    {
     "name": "stdout",
     "output_type": "stream",
     "text": [
      "Table. Fluxes. CRD\n"
     ]
    },
    {
     "data": {
      "text/html": [
       "<div>\n",
       "<style>\n",
       "    .dataframe thead tr:only-child th {\n",
       "        text-align: right;\n",
       "    }\n",
       "\n",
       "    .dataframe thead th {\n",
       "        text-align: left;\n",
       "    }\n",
       "\n",
       "    .dataframe tbody tr th {\n",
       "        vertical-align: top;\n",
       "    }\n",
       "</style>\n",
       "<table border=\"1\" class=\"dataframe\">\n",
       "  <thead>\n",
       "    <tr style=\"text-align: right;\">\n",
       "      <th></th>\n",
       "      <th></th>\n",
       "      <th>flug</th>\n",
       "      <th>fldg</th>\n",
       "      <th>fnetg</th>\n",
       "    </tr>\n",
       "    <tr>\n",
       "      <th>pressure</th>\n",
       "      <th>level</th>\n",
       "      <th></th>\n",
       "      <th></th>\n",
       "      <th></th>\n",
       "    </tr>\n",
       "  </thead>\n",
       "  <tbody>\n",
       "    <tr>\n",
       "      <th>1.000000e-08</th>\n",
       "      <th>1</th>\n",
       "      <td>-19.274694</td>\n",
       "      <td>1.354813e-08</td>\n",
       "      <td>-19.274694</td>\n",
       "    </tr>\n",
       "    <tr>\n",
       "      <th>1.068500e+00</th>\n",
       "      <th>24</th>\n",
       "      <td>-19.272234</td>\n",
       "      <td>1.606400e-02</td>\n",
       "      <td>-19.256170</td>\n",
       "    </tr>\n",
       "    <tr>\n",
       "      <th>1.013000e+03</th>\n",
       "      <th>76</th>\n",
       "      <td>-23.755180</td>\n",
       "      <td>5.899599e+00</td>\n",
       "      <td>-17.855581</td>\n",
       "    </tr>\n",
       "  </tbody>\n",
       "</table>\n",
       "</div>"
      ],
      "text/plain": [
       "                         flug          fldg      fnetg\n",
       "pressure     level                                    \n",
       "1.000000e-08 1     -19.274694  1.354813e-08 -19.274694\n",
       "1.068500e+00 24    -19.272234  1.606400e-02 -19.256170\n",
       "1.013000e+03 76    -23.755180  5.899599e+00 -17.855581"
      ]
     },
     "metadata": {},
     "output_type": "display_data"
    },
    {
     "name": "stdout",
     "output_type": "stream",
     "text": [
      "Table. Fluxes. CLIRAD\n"
     ]
    },
    {
     "data": {
      "text/html": [
       "<div>\n",
       "<style>\n",
       "    .dataframe thead tr:only-child th {\n",
       "        text-align: right;\n",
       "    }\n",
       "\n",
       "    .dataframe thead th {\n",
       "        text-align: left;\n",
       "    }\n",
       "\n",
       "    .dataframe tbody tr th {\n",
       "        vertical-align: top;\n",
       "    }\n",
       "</style>\n",
       "<table border=\"1\" class=\"dataframe\">\n",
       "  <thead>\n",
       "    <tr style=\"text-align: right;\">\n",
       "      <th></th>\n",
       "      <th></th>\n",
       "      <th>flug</th>\n",
       "      <th>fldg</th>\n",
       "      <th>fnetg</th>\n",
       "    </tr>\n",
       "    <tr>\n",
       "      <th>pressure</th>\n",
       "      <th>level</th>\n",
       "      <th></th>\n",
       "      <th></th>\n",
       "      <th></th>\n",
       "    </tr>\n",
       "  </thead>\n",
       "  <tbody>\n",
       "    <tr>\n",
       "      <th>0.0000</th>\n",
       "      <th>1</th>\n",
       "      <td>-0.087329</td>\n",
       "      <td>0.000000</td>\n",
       "      <td>-0.087329</td>\n",
       "    </tr>\n",
       "    <tr>\n",
       "      <th>1.0685</th>\n",
       "      <th>24</th>\n",
       "      <td>-0.089854</td>\n",
       "      <td>0.001819</td>\n",
       "      <td>-0.088034</td>\n",
       "    </tr>\n",
       "    <tr>\n",
       "      <th>1013.0000</th>\n",
       "      <th>76</th>\n",
       "      <td>0.000001</td>\n",
       "      <td>0.100430</td>\n",
       "      <td>0.100431</td>\n",
       "    </tr>\n",
       "  </tbody>\n",
       "</table>\n",
       "</div>"
      ],
      "text/plain": [
       "                     flug      fldg     fnetg\n",
       "pressure  level                              \n",
       "0.0000    1     -0.087329  0.000000 -0.087329\n",
       "1.0685    24    -0.089854  0.001819 -0.088034\n",
       "1013.0000 76     0.000001  0.100430  0.100431"
      ]
     },
     "metadata": {},
     "output_type": "display_data"
    },
    {
     "name": "stdout",
     "output_type": "stream",
     "text": [
      "Table. Fluxes. (CRD) - (WGT igg=10 wgt_flux=1)\n"
     ]
    },
    {
     "data": {
      "text/html": [
       "<div>\n",
       "<style>\n",
       "    .dataframe thead tr:only-child th {\n",
       "        text-align: right;\n",
       "    }\n",
       "\n",
       "    .dataframe thead th {\n",
       "        text-align: left;\n",
       "    }\n",
       "\n",
       "    .dataframe tbody tr th {\n",
       "        vertical-align: top;\n",
       "    }\n",
       "</style>\n",
       "<table border=\"1\" class=\"dataframe\">\n",
       "  <thead>\n",
       "    <tr style=\"text-align: right;\">\n",
       "      <th></th>\n",
       "      <th></th>\n",
       "      <th>flug</th>\n",
       "      <th>fldg</th>\n",
       "      <th>fnetg</th>\n",
       "    </tr>\n",
       "    <tr>\n",
       "      <th>pressure</th>\n",
       "      <th>level</th>\n",
       "      <th></th>\n",
       "      <th></th>\n",
       "      <th></th>\n",
       "    </tr>\n",
       "  </thead>\n",
       "  <tbody>\n",
       "    <tr>\n",
       "      <th>0.0000</th>\n",
       "      <th>1</th>\n",
       "      <td>-0.088424</td>\n",
       "      <td>1.354813e-08</td>\n",
       "      <td>-0.088424</td>\n",
       "    </tr>\n",
       "    <tr>\n",
       "      <th>1.0685</th>\n",
       "      <th>24</th>\n",
       "      <td>-0.087364</td>\n",
       "      <td>-1.620749e-03</td>\n",
       "      <td>-0.088984</td>\n",
       "    </tr>\n",
       "    <tr>\n",
       "      <th>1013.0000</th>\n",
       "      <th>76</th>\n",
       "      <td>-0.000004</td>\n",
       "      <td>-1.231723e-01</td>\n",
       "      <td>-0.123176</td>\n",
       "    </tr>\n",
       "  </tbody>\n",
       "</table>\n",
       "</div>"
      ],
      "text/plain": [
       "                     flug          fldg     fnetg\n",
       "pressure  level                                  \n",
       "0.0000    1     -0.088424  1.354813e-08 -0.088424\n",
       "1.0685    24    -0.087364 -1.620749e-03 -0.088984\n",
       "1013.0000 76    -0.000004 -1.231723e-01 -0.123176"
      ]
     },
     "metadata": {},
     "output_type": "display_data"
    },
    {
     "name": "stdout",
     "output_type": "stream",
     "text": [
      "Table. Fluxes. (CLIRAD) - (WGT igg=10 wgt_flux=1)\n"
     ]
    },
    {
     "data": {
      "text/html": [
       "<a id=\"Best-fit_Parameters\"></a>"
      ],
      "text/plain": [
       "<IPython.core.display.HTML object>"
      ]
     },
     "metadata": {},
     "output_type": "display_data"
    },
    {
     "data": {
      "text/markdown": [
       "# Best-fit Parameters"
      ],
      "text/plain": [
       "<IPython.core.display.Markdown object>"
      ]
     },
     "metadata": {},
     "output_type": "display_data"
    },
    {
     "name": "stdout",
     "output_type": "stream",
     "text": [
      "Best-fit values for each (gas, band)\n",
      "------------------------------------\n",
      "o ch4 band7\n",
      "  atmpro = mls\n",
      "  band = 7\n",
      "  commitnumber = 2bd1f75\n",
      "  conc = 1.8e-06\n",
      "  dv = 0.01\n",
      "  klin = 2e-21\n",
      "  molecule = ch4\n",
      "  ng_adju = [0, 0]\n",
      "  ng_refs = [2, 3]\n",
      "  nv = 100\n",
      "  option_compute_btable = 0\n",
      "  option_compute_ktable = 1\n",
      "  option_wgt_flux = 1\n",
      "  option_wgt_k = 1\n",
      "  ref_pts = [(1, 250), (500, 250)]\n",
      "  tsfc = 294\n",
      "  vmax = 1380\n",
      "  vmin = 1215\n",
      "  w_diffuse = [(1.66, 1.66), (1.66, 1.66, 1.66)]\n",
      "  wgt = [(0.7, 0.7), (0.4, 0.6, 0.75)]\n"
     ]
    }
   ],
   "source": [
    "script()"
   ]
  },
  {
   "cell_type": "code",
   "execution_count": 13,
   "metadata": {
    "collapsed": true
   },
   "outputs": [
    {
     "data": {
      "text/html": [
       "<script>\n",
       "code_show=true; \n",
       "function code_toggle() {\n",
       " if (code_show){\n",
       " $('div.input').hide();\n",
       " } else {\n",
       " $('div.input').show();\n",
       " }\n",
       " code_show = !code_show\n",
       "} \n",
       "$( document ).ready(code_toggle);\n",
       "</script>\n",
       "<form action=\"javascript:code_toggle()\"><input type=\"submit\" value=\"Click here to toggle on/off the raw code.\"></form>"
      ],
      "text/plain": [
       "<IPython.core.display.HTML object>"
      ]
     },
     "execution_count": 13,
     "metadata": {},
     "output_type": "execute_result"
    }
   ],
   "source": [
    "display.HTML('''<script>\n",
    "code_show=true; \n",
    "function code_toggle() {\n",
    " if (code_show){\n",
    " $('div.input').hide();\n",
    " } else {\n",
    " $('div.input').show();\n",
    " }\n",
    " code_show = !code_show\n",
    "} \n",
    "$( document ).ready(code_toggle);\n",
    "</script>\n",
    "<form action=\"javascript:code_toggle()\"><input type=\"submit\" value=\"Click here to toggle on/off the raw code.\"></form>''')"
   ]
  }
 ],
 "metadata": {
  "kernelspec": {
   "display_name": "Python 3",
   "language": "python",
   "name": "python3"
  },
  "language_info": {
   "codemirror_mode": {
    "name": "ipython",
    "version": 3
   },
   "file_extension": ".py",
   "mimetype": "text/x-python",
   "name": "python",
   "nbconvert_exporter": "python",
   "pygments_lexer": "ipython3",
   "version": "3.6.1"
  }
 },
 "nbformat": 4,
 "nbformat_minor": 2
}
