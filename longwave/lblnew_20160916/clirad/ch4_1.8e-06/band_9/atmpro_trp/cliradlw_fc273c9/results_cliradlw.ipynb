{
 "cells": [
  {
   "cell_type": "code",
   "execution_count": 1,
   "metadata": {
    "collapsed": true
   },
   "outputs": [],
   "source": [
    "%matplotlib inline\n",
    "import os\n",
    "import re\n",
    "import io\n",
    "import itertools\n",
    "import pprint\n",
    "\n",
    "from bokeh.io import output_notebook, show\n",
    "from bokeh.layouts import gridplot\n",
    "from bokeh.plotting import figure\n",
    "from bokeh.models import Range1d, Legend\n",
    "from bokeh.palettes import all_palettes\n",
    "\n",
    "import matplotlib\n",
    "import matplotlib.pyplot as plt\n",
    "import numpy as np\n",
    "import pandas as pd\n",
    "import xarray as xr\n",
    "\n",
    "import climatools.lblnew.bestfit_params as bestfits\n",
    "from climatools.lblnew import setup_bestfit, setup_overlap\n",
    "import climatools.lblnew.pipeline as pipe_lblnew\n",
    "import climatools.cliradlw.setup as setup_cliradlw\n",
    "import climatools.cliradlw.pipeline as pipe_cliradlw\n",
    "\n",
    "import climatools.html.html as climahtml\n",
    "from climatools.lblnew.dataio import *\n",
    "from climatools.plot.plot import *\n",
    "\n",
    "\n",
    "import IPython.display as display"
   ]
  },
  {
   "cell_type": "code",
   "execution_count": 2,
   "metadata": {
    "collapsed": true
   },
   "outputs": [],
   "source": [
    "%run param.py"
   ]
  },
  {
   "cell_type": "code",
   "execution_count": 3,
   "metadata": {
    "collapsed": true
   },
   "outputs": [],
   "source": [
    "def load_output_file(path_csv):\n",
    "    '''\n",
    "    Load lblnew output .csv file to xarray.Dataset\n",
    "    \n",
    "    Parameters\n",
    "    ----------\n",
    "    path_csv: str\n",
    "              Path to the .csv file to be loaded.\n",
    "    ds: xarray.Dataset\n",
    "        Data in the input file in the form of an xarray.Dataset.\n",
    "    '''\n",
    "    toindex = ['band', 'pressure', 'igg', 'g']    \n",
    "    df = pd.read_csv(path_csv, sep=r'\\s+')\n",
    "    df = df.set_index([i for i in toindex if i in df.columns])\n",
    "    df = df.rename(columns={'sfu': 'flug',\n",
    "                            'sfd': 'fldg',\n",
    "                            'fnet': 'fnetg',\n",
    "                            'coolr': 'coolrg'})\n",
    "    ds = xr.Dataset.from_dataframe(df)\n",
    "\n",
    "    for l in ('level', 'layer'):\n",
    "        if l in ds.data_vars:\n",
    "            if len(ds[l].dims) > 1:\n",
    "                surface = {d: 0 for d in ds.dims if d != 'pressure'}\n",
    "                coord_level = ds[l][surface]\n",
    "                ds.coords[l] = ('pressure', coord_level)\n",
    "            else:\n",
    "                ds.coords[l] = ('pressure', ds[l])\n",
    "    \n",
    "    return ds"
   ]
  },
  {
   "cell_type": "code",
   "execution_count": 4,
   "metadata": {
    "collapsed": true
   },
   "outputs": [],
   "source": [
    "def lblnew_setup(param=None):\n",
    "    if 'ng_refs' in param:\n",
    "        return {'setup': setup_bestfit,\n",
    "                'fname_flux_crd': 'output_flux.dat',\n",
    "                'fname_cool_crd': 'output_coolr.dat',\n",
    "                'fname_flux_wgt': 'output_wfluxg.dat',\n",
    "                'fname_cool_wgt': 'output_wcoolrg.dat'}\n",
    "    else:\n",
    "        return {'setup': setup_overlap,\n",
    "                'fname_flux_crd': 'output_flux.dat',\n",
    "                'fname_cool_crd': 'output_coolr.dat',\n",
    "                'fname_flux_wgt': 'output_wflux.dat',\n",
    "                'fname_cool_wgt': 'output_wcoolr.dat'}\n",
    "\n",
    "    \n",
    "def load_lblnew_data(param):\n",
    "    \n",
    "    fname_dsname = [('fname_flux_crd', 'ds_flux_crd'),\n",
    "                    ('fname_cool_crd', 'ds_cool_crd'),\n",
    "                    ('fname_flux_wgt', 'ds_flux_wgt'),\n",
    "                    ('fname_cool_wgt', 'ds_cool_wgt')]\n",
    "    \n",
    "    d = lblnew_setup(param)\n",
    "    dir_fortran = pipe_lblnew.get_dir_case(param, setup=d['setup'])\n",
    "    \n",
    "    data_dict = {}\n",
    "    for fname, dsname in fname_dsname:\n",
    "        fpath = os.path.join(dir_fortran, d[fname])\n",
    "        data_dict[dsname] = load_output_file(fpath)\n",
    "    return data_dict\n",
    "    \n",
    "\n",
    "    \n",
    "    "
   ]
  },
  {
   "cell_type": "code",
   "execution_count": 5,
   "metadata": {
    "collapsed": true
   },
   "outputs": [],
   "source": [
    "d = load_lblnew_data(PARAM_LBLNEW)\n",
    "\n",
    "DS_FLUX_CRD = d['ds_flux_crd']\n",
    "DS_COOL_CRD = d['ds_cool_crd']\n",
    "DS_FLUX_WGT = d['ds_flux_wgt']\n",
    "DS_COOL_WGT = d['ds_cool_wgt']"
   ]
  },
  {
   "cell_type": "code",
   "execution_count": 6,
   "metadata": {
    "collapsed": true
   },
   "outputs": [],
   "source": [
    "DIR_FORTRAN = pipe_cliradlw.get_fortran_dir(PARAM, \n",
    "                                            setup=setup_cliradlw)\n",
    "\n",
    "PATH_FLUX = os.path.join(DIR_FORTRAN, 'output_flux.dat')\n",
    "PATH_COOL = os.path.join(DIR_FORTRAN, 'output_coolr.dat')\n",
    "\n",
    "DS_FLUX = load_output_file(PATH_FLUX)\n",
    "DS_COOL = load_output_file(PATH_COOL)"
   ]
  },
  {
   "cell_type": "code",
   "execution_count": 7,
   "metadata": {
    "collapsed": true
   },
   "outputs": [
    {
     "data": {
      "text/html": [
       "\n",
       "    <div class=\"bk-root\">\n",
       "        <a href=\"https://bokeh.pydata.org\" target=\"_blank\" class=\"bk-logo bk-logo-small bk-logo-notebook\"></a>\n",
       "        <span id=\"b7946899-2712-4e7f-a03a-8c6eaec84e01\">Loading BokehJS ...</span>\n",
       "    </div>"
      ]
     },
     "metadata": {},
     "output_type": "display_data"
    },
    {
     "data": {
      "application/javascript": [
       "\n",
       "(function(root) {\n",
       "  function now() {\n",
       "    return new Date();\n",
       "  }\n",
       "\n",
       "  var force = true;\n",
       "\n",
       "  if (typeof (root._bokeh_onload_callbacks) === \"undefined\" || force === true) {\n",
       "    root._bokeh_onload_callbacks = [];\n",
       "    root._bokeh_is_loading = undefined;\n",
       "  }\n",
       "\n",
       "  var JS_MIME_TYPE = 'application/javascript';\n",
       "  var HTML_MIME_TYPE = 'text/html';\n",
       "  var EXEC_MIME_TYPE = 'application/vnd.bokehjs_exec.v0+json';\n",
       "  var CLASS_NAME = 'output_bokeh rendered_html';\n",
       "\n",
       "  /**\n",
       "   * Render data to the DOM node\n",
       "   */\n",
       "  function render(props, node) {\n",
       "    var script = document.createElement(\"script\");\n",
       "    node.appendChild(script);\n",
       "  }\n",
       "\n",
       "  /**\n",
       "   * Handle when an output is cleared or removed\n",
       "   */\n",
       "  function handleClearOutput(event, handle) {\n",
       "    var cell = handle.cell;\n",
       "\n",
       "    var id = cell.output_area._bokeh_element_id;\n",
       "    var server_id = cell.output_area._bokeh_server_id;\n",
       "    // Clean up Bokeh references\n",
       "    if (id !== undefined) {\n",
       "      Bokeh.index[id].model.document.clear();\n",
       "      delete Bokeh.index[id];\n",
       "    }\n",
       "\n",
       "    if (server_id !== undefined) {\n",
       "      // Clean up Bokeh references\n",
       "      var cmd = \"from bokeh.io.state import curstate; print(curstate().uuid_to_server['\" + server_id + \"'].get_sessions()[0].document.roots[0]._id)\";\n",
       "      cell.notebook.kernel.execute(cmd, {\n",
       "        iopub: {\n",
       "          output: function(msg) {\n",
       "            var element_id = msg.content.text.trim();\n",
       "            Bokeh.index[element_id].model.document.clear();\n",
       "            delete Bokeh.index[element_id];\n",
       "          }\n",
       "        }\n",
       "      });\n",
       "      // Destroy server and session\n",
       "      var cmd = \"import bokeh.io.notebook as ion; ion.destroy_server('\" + server_id + \"')\";\n",
       "      cell.notebook.kernel.execute(cmd);\n",
       "    }\n",
       "  }\n",
       "\n",
       "  /**\n",
       "   * Handle when a new output is added\n",
       "   */\n",
       "  function handleAddOutput(event, handle) {\n",
       "    var output_area = handle.output_area;\n",
       "    var output = handle.output;\n",
       "\n",
       "    // limit handleAddOutput to display_data with EXEC_MIME_TYPE content only\n",
       "    if ((output.output_type != \"display_data\") || (!output.data.hasOwnProperty(EXEC_MIME_TYPE))) {\n",
       "      return\n",
       "    }\n",
       "\n",
       "    var toinsert = output_area.element.find(\".\" + CLASS_NAME.split(' ')[0]);\n",
       "\n",
       "    if (output.metadata[EXEC_MIME_TYPE][\"id\"] !== undefined) {\n",
       "      toinsert[0].firstChild.textContent = output.data[JS_MIME_TYPE];\n",
       "      // store reference to embed id on output_area\n",
       "      output_area._bokeh_element_id = output.metadata[EXEC_MIME_TYPE][\"id\"];\n",
       "    }\n",
       "    if (output.metadata[EXEC_MIME_TYPE][\"server_id\"] !== undefined) {\n",
       "      var bk_div = document.createElement(\"div\");\n",
       "      bk_div.innerHTML = output.data[HTML_MIME_TYPE];\n",
       "      var script_attrs = bk_div.children[0].attributes;\n",
       "      for (var i = 0; i < script_attrs.length; i++) {\n",
       "        toinsert[0].firstChild.setAttribute(script_attrs[i].name, script_attrs[i].value);\n",
       "      }\n",
       "      // store reference to server id on output_area\n",
       "      output_area._bokeh_server_id = output.metadata[EXEC_MIME_TYPE][\"server_id\"];\n",
       "    }\n",
       "  }\n",
       "\n",
       "  function register_renderer(events, OutputArea) {\n",
       "\n",
       "    function append_mime(data, metadata, element) {\n",
       "      // create a DOM node to render to\n",
       "      var toinsert = this.create_output_subarea(\n",
       "        metadata,\n",
       "        CLASS_NAME,\n",
       "        EXEC_MIME_TYPE\n",
       "      );\n",
       "      this.keyboard_manager.register_events(toinsert);\n",
       "      // Render to node\n",
       "      var props = {data: data, metadata: metadata[EXEC_MIME_TYPE]};\n",
       "      render(props, toinsert[0]);\n",
       "      element.append(toinsert);\n",
       "      return toinsert\n",
       "    }\n",
       "\n",
       "    /* Handle when an output is cleared or removed */\n",
       "    events.on('clear_output.CodeCell', handleClearOutput);\n",
       "    events.on('delete.Cell', handleClearOutput);\n",
       "\n",
       "    /* Handle when a new output is added */\n",
       "    events.on('output_added.OutputArea', handleAddOutput);\n",
       "\n",
       "    /**\n",
       "     * Register the mime type and append_mime function with output_area\n",
       "     */\n",
       "    OutputArea.prototype.register_mime_type(EXEC_MIME_TYPE, append_mime, {\n",
       "      /* Is output safe? */\n",
       "      safe: true,\n",
       "      /* Index of renderer in `output_area.display_order` */\n",
       "      index: 0\n",
       "    });\n",
       "  }\n",
       "\n",
       "  // register the mime type if in Jupyter Notebook environment and previously unregistered\n",
       "  if (root.Jupyter !== undefined) {\n",
       "    var events = require('base/js/events');\n",
       "    var OutputArea = require('notebook/js/outputarea').OutputArea;\n",
       "\n",
       "    if (OutputArea.prototype.mime_types().indexOf(EXEC_MIME_TYPE) == -1) {\n",
       "      register_renderer(events, OutputArea);\n",
       "    }\n",
       "  }\n",
       "\n",
       "  \n",
       "  if (typeof (root._bokeh_timeout) === \"undefined\" || force === true) {\n",
       "    root._bokeh_timeout = Date.now() + 5000;\n",
       "    root._bokeh_failed_load = false;\n",
       "  }\n",
       "\n",
       "  var NB_LOAD_WARNING = {'data': {'text/html':\n",
       "     \"<div style='background-color: #fdd'>\\n\"+\n",
       "     \"<p>\\n\"+\n",
       "     \"BokehJS does not appear to have successfully loaded. If loading BokehJS from CDN, this \\n\"+\n",
       "     \"may be due to a slow or bad network connection. Possible fixes:\\n\"+\n",
       "     \"</p>\\n\"+\n",
       "     \"<ul>\\n\"+\n",
       "     \"<li>re-rerun `output_notebook()` to attempt to load from CDN again, or</li>\\n\"+\n",
       "     \"<li>use INLINE resources instead, as so:</li>\\n\"+\n",
       "     \"</ul>\\n\"+\n",
       "     \"<code>\\n\"+\n",
       "     \"from bokeh.resources import INLINE\\n\"+\n",
       "     \"output_notebook(resources=INLINE)\\n\"+\n",
       "     \"</code>\\n\"+\n",
       "     \"</div>\"}};\n",
       "\n",
       "  function display_loaded() {\n",
       "    var el = document.getElementById(\"b7946899-2712-4e7f-a03a-8c6eaec84e01\");\n",
       "    if (el != null) {\n",
       "      el.textContent = \"BokehJS is loading...\";\n",
       "    }\n",
       "    if (root.Bokeh !== undefined) {\n",
       "      if (el != null) {\n",
       "        el.textContent = \"BokehJS \" + root.Bokeh.version + \" successfully loaded.\";\n",
       "      }\n",
       "    } else if (Date.now() < root._bokeh_timeout) {\n",
       "      setTimeout(display_loaded, 100)\n",
       "    }\n",
       "  }\n",
       "\n",
       "\n",
       "  function run_callbacks() {\n",
       "    try {\n",
       "      root._bokeh_onload_callbacks.forEach(function(callback) { callback() });\n",
       "    }\n",
       "    finally {\n",
       "      delete root._bokeh_onload_callbacks\n",
       "    }\n",
       "    console.info(\"Bokeh: all callbacks have finished\");\n",
       "  }\n",
       "\n",
       "  function load_libs(js_urls, callback) {\n",
       "    root._bokeh_onload_callbacks.push(callback);\n",
       "    if (root._bokeh_is_loading > 0) {\n",
       "      console.log(\"Bokeh: BokehJS is being loaded, scheduling callback at\", now());\n",
       "      return null;\n",
       "    }\n",
       "    if (js_urls == null || js_urls.length === 0) {\n",
       "      run_callbacks();\n",
       "      return null;\n",
       "    }\n",
       "    console.log(\"Bokeh: BokehJS not loaded, scheduling load and callback at\", now());\n",
       "    root._bokeh_is_loading = js_urls.length;\n",
       "    for (var i = 0; i < js_urls.length; i++) {\n",
       "      var url = js_urls[i];\n",
       "      var s = document.createElement('script');\n",
       "      s.src = url;\n",
       "      s.async = false;\n",
       "      s.onreadystatechange = s.onload = function() {\n",
       "        root._bokeh_is_loading--;\n",
       "        if (root._bokeh_is_loading === 0) {\n",
       "          console.log(\"Bokeh: all BokehJS libraries loaded\");\n",
       "          run_callbacks()\n",
       "        }\n",
       "      };\n",
       "      s.onerror = function() {\n",
       "        console.warn(\"failed to load library \" + url);\n",
       "      };\n",
       "      console.log(\"Bokeh: injecting script tag for BokehJS library: \", url);\n",
       "      document.getElementsByTagName(\"head\")[0].appendChild(s);\n",
       "    }\n",
       "  };var element = document.getElementById(\"b7946899-2712-4e7f-a03a-8c6eaec84e01\");\n",
       "  if (element == null) {\n",
       "    console.log(\"Bokeh: ERROR: autoload.js configured with elementid 'b7946899-2712-4e7f-a03a-8c6eaec84e01' but no matching script tag was found. \")\n",
       "    return false;\n",
       "  }\n",
       "\n",
       "  var js_urls = [\"https://cdn.pydata.org/bokeh/release/bokeh-0.12.14.min.js\", \"https://cdn.pydata.org/bokeh/release/bokeh-widgets-0.12.14.min.js\", \"https://cdn.pydata.org/bokeh/release/bokeh-tables-0.12.14.min.js\", \"https://cdn.pydata.org/bokeh/release/bokeh-gl-0.12.14.min.js\"];\n",
       "\n",
       "  var inline_js = [\n",
       "    function(Bokeh) {\n",
       "      Bokeh.set_log_level(\"info\");\n",
       "    },\n",
       "    \n",
       "    function(Bokeh) {\n",
       "      \n",
       "    },\n",
       "    function(Bokeh) {\n",
       "      console.log(\"Bokeh: injecting CSS: https://cdn.pydata.org/bokeh/release/bokeh-0.12.14.min.css\");\n",
       "      Bokeh.embed.inject_css(\"https://cdn.pydata.org/bokeh/release/bokeh-0.12.14.min.css\");\n",
       "      console.log(\"Bokeh: injecting CSS: https://cdn.pydata.org/bokeh/release/bokeh-widgets-0.12.14.min.css\");\n",
       "      Bokeh.embed.inject_css(\"https://cdn.pydata.org/bokeh/release/bokeh-widgets-0.12.14.min.css\");\n",
       "      console.log(\"Bokeh: injecting CSS: https://cdn.pydata.org/bokeh/release/bokeh-tables-0.12.14.min.css\");\n",
       "      Bokeh.embed.inject_css(\"https://cdn.pydata.org/bokeh/release/bokeh-tables-0.12.14.min.css\");\n",
       "    }\n",
       "  ];\n",
       "\n",
       "  function run_inline_js() {\n",
       "    \n",
       "    if ((root.Bokeh !== undefined) || (force === true)) {\n",
       "      for (var i = 0; i < inline_js.length; i++) {\n",
       "        inline_js[i].call(root, root.Bokeh);\n",
       "      }if (force === true) {\n",
       "        display_loaded();\n",
       "      }} else if (Date.now() < root._bokeh_timeout) {\n",
       "      setTimeout(run_inline_js, 100);\n",
       "    } else if (!root._bokeh_failed_load) {\n",
       "      console.log(\"Bokeh: BokehJS failed to load within specified timeout.\");\n",
       "      root._bokeh_failed_load = true;\n",
       "    } else if (force !== true) {\n",
       "      var cell = $(document.getElementById(\"b7946899-2712-4e7f-a03a-8c6eaec84e01\")).parents('.cell').data().cell;\n",
       "      cell.output_area.append_execute_result(NB_LOAD_WARNING)\n",
       "    }\n",
       "\n",
       "  }\n",
       "\n",
       "  if (root._bokeh_is_loading === 0) {\n",
       "    console.log(\"Bokeh: BokehJS loaded, going straight to plotting\");\n",
       "    run_inline_js();\n",
       "  } else {\n",
       "    load_libs(js_urls, function() {\n",
       "      console.log(\"Bokeh: BokehJS plotting callback run at\", now());\n",
       "      run_inline_js();\n",
       "    });\n",
       "  }\n",
       "}(window));"
      ],
      "application/vnd.bokehjs_load.v0+json": "\n(function(root) {\n  function now() {\n    return new Date();\n  }\n\n  var force = true;\n\n  if (typeof (root._bokeh_onload_callbacks) === \"undefined\" || force === true) {\n    root._bokeh_onload_callbacks = [];\n    root._bokeh_is_loading = undefined;\n  }\n\n  \n\n  \n  if (typeof (root._bokeh_timeout) === \"undefined\" || force === true) {\n    root._bokeh_timeout = Date.now() + 5000;\n    root._bokeh_failed_load = false;\n  }\n\n  var NB_LOAD_WARNING = {'data': {'text/html':\n     \"<div style='background-color: #fdd'>\\n\"+\n     \"<p>\\n\"+\n     \"BokehJS does not appear to have successfully loaded. If loading BokehJS from CDN, this \\n\"+\n     \"may be due to a slow or bad network connection. Possible fixes:\\n\"+\n     \"</p>\\n\"+\n     \"<ul>\\n\"+\n     \"<li>re-rerun `output_notebook()` to attempt to load from CDN again, or</li>\\n\"+\n     \"<li>use INLINE resources instead, as so:</li>\\n\"+\n     \"</ul>\\n\"+\n     \"<code>\\n\"+\n     \"from bokeh.resources import INLINE\\n\"+\n     \"output_notebook(resources=INLINE)\\n\"+\n     \"</code>\\n\"+\n     \"</div>\"}};\n\n  function display_loaded() {\n    var el = document.getElementById(\"b7946899-2712-4e7f-a03a-8c6eaec84e01\");\n    if (el != null) {\n      el.textContent = \"BokehJS is loading...\";\n    }\n    if (root.Bokeh !== undefined) {\n      if (el != null) {\n        el.textContent = \"BokehJS \" + root.Bokeh.version + \" successfully loaded.\";\n      }\n    } else if (Date.now() < root._bokeh_timeout) {\n      setTimeout(display_loaded, 100)\n    }\n  }\n\n\n  function run_callbacks() {\n    try {\n      root._bokeh_onload_callbacks.forEach(function(callback) { callback() });\n    }\n    finally {\n      delete root._bokeh_onload_callbacks\n    }\n    console.info(\"Bokeh: all callbacks have finished\");\n  }\n\n  function load_libs(js_urls, callback) {\n    root._bokeh_onload_callbacks.push(callback);\n    if (root._bokeh_is_loading > 0) {\n      console.log(\"Bokeh: BokehJS is being loaded, scheduling callback at\", now());\n      return null;\n    }\n    if (js_urls == null || js_urls.length === 0) {\n      run_callbacks();\n      return null;\n    }\n    console.log(\"Bokeh: BokehJS not loaded, scheduling load and callback at\", now());\n    root._bokeh_is_loading = js_urls.length;\n    for (var i = 0; i < js_urls.length; i++) {\n      var url = js_urls[i];\n      var s = document.createElement('script');\n      s.src = url;\n      s.async = false;\n      s.onreadystatechange = s.onload = function() {\n        root._bokeh_is_loading--;\n        if (root._bokeh_is_loading === 0) {\n          console.log(\"Bokeh: all BokehJS libraries loaded\");\n          run_callbacks()\n        }\n      };\n      s.onerror = function() {\n        console.warn(\"failed to load library \" + url);\n      };\n      console.log(\"Bokeh: injecting script tag for BokehJS library: \", url);\n      document.getElementsByTagName(\"head\")[0].appendChild(s);\n    }\n  };var element = document.getElementById(\"b7946899-2712-4e7f-a03a-8c6eaec84e01\");\n  if (element == null) {\n    console.log(\"Bokeh: ERROR: autoload.js configured with elementid 'b7946899-2712-4e7f-a03a-8c6eaec84e01' but no matching script tag was found. \")\n    return false;\n  }\n\n  var js_urls = [\"https://cdn.pydata.org/bokeh/release/bokeh-0.12.14.min.js\", \"https://cdn.pydata.org/bokeh/release/bokeh-widgets-0.12.14.min.js\", \"https://cdn.pydata.org/bokeh/release/bokeh-tables-0.12.14.min.js\", \"https://cdn.pydata.org/bokeh/release/bokeh-gl-0.12.14.min.js\"];\n\n  var inline_js = [\n    function(Bokeh) {\n      Bokeh.set_log_level(\"info\");\n    },\n    \n    function(Bokeh) {\n      \n    },\n    function(Bokeh) {\n      console.log(\"Bokeh: injecting CSS: https://cdn.pydata.org/bokeh/release/bokeh-0.12.14.min.css\");\n      Bokeh.embed.inject_css(\"https://cdn.pydata.org/bokeh/release/bokeh-0.12.14.min.css\");\n      console.log(\"Bokeh: injecting CSS: https://cdn.pydata.org/bokeh/release/bokeh-widgets-0.12.14.min.css\");\n      Bokeh.embed.inject_css(\"https://cdn.pydata.org/bokeh/release/bokeh-widgets-0.12.14.min.css\");\n      console.log(\"Bokeh: injecting CSS: https://cdn.pydata.org/bokeh/release/bokeh-tables-0.12.14.min.css\");\n      Bokeh.embed.inject_css(\"https://cdn.pydata.org/bokeh/release/bokeh-tables-0.12.14.min.css\");\n    }\n  ];\n\n  function run_inline_js() {\n    \n    if ((root.Bokeh !== undefined) || (force === true)) {\n      for (var i = 0; i < inline_js.length; i++) {\n        inline_js[i].call(root, root.Bokeh);\n      }if (force === true) {\n        display_loaded();\n      }} else if (Date.now() < root._bokeh_timeout) {\n      setTimeout(run_inline_js, 100);\n    } else if (!root._bokeh_failed_load) {\n      console.log(\"Bokeh: BokehJS failed to load within specified timeout.\");\n      root._bokeh_failed_load = true;\n    } else if (force !== true) {\n      var cell = $(document.getElementById(\"b7946899-2712-4e7f-a03a-8c6eaec84e01\")).parents('.cell').data().cell;\n      cell.output_area.append_execute_result(NB_LOAD_WARNING)\n    }\n\n  }\n\n  if (root._bokeh_is_loading === 0) {\n    console.log(\"Bokeh: BokehJS loaded, going straight to plotting\");\n    run_inline_js();\n  } else {\n    load_libs(js_urls, function() {\n      console.log(\"Bokeh: BokehJS plotting callback run at\", now());\n      run_inline_js();\n    });\n  }\n}(window));"
     },
     "metadata": {},
     "output_type": "display_data"
    }
   ],
   "source": [
    "output_notebook()"
   ]
  },
  {
   "cell_type": "code",
   "execution_count": 8,
   "metadata": {
    "collapsed": true
   },
   "outputs": [],
   "source": [
    "def fmt_cool(ds_in):\n",
    "    ds = ds_in.copy(deep=True)\n",
    "    if 'igg' in ds.dims:\n",
    "        ds = ds.sel(igg=1)\n",
    "\n",
    "    if 'g' in ds.dims:\n",
    "        ds = ds.sum('g')\n",
    "            \n",
    "    if 'band' in ds.dims:\n",
    "        try:\n",
    "            ds = ds.squeeze('band')\n",
    "        except ValueError:\n",
    "            ds = ds.sum('band')\n",
    "                \n",
    "    return ds['coolrg']\n",
    "\n",
    "\n",
    "def pltdata_cooling_1(ds_cool=None,\n",
    "                      ds_cool_crd=None, ds_cool_wgt=None):\n",
    "    \n",
    "\n",
    "\n",
    "    colors = all_palettes['Set1'][4]\n",
    "    data = [{'label': 'CLIRAD `coolr_bands`',\n",
    "             'srs': fmt_cool(ds_cool),\n",
    "             'line_dash': 'dashed', 'line_width': 5,\n",
    "             'color': colors[0], 'alpha': .6},\n",
    "            {'label': 'CRD',\n",
    "             'srs': fmt_cool(ds_cool_crd),\n",
    "             'line_dash': 'solid', 'line_width': 1.5,\n",
    "             'marker': 'circle', 'marker_size': 5,\n",
    "             'color': colors[2], 'alpha': 1,},\n",
    "            {'label': 'WGT igg=10 wgt_flux=2',\n",
    "             'srs': fmt_cool(ds_cool_wgt),\n",
    "             'line_dash': 'solid', 'line_width': 3,\n",
    "             'marker': 'square', 'marker_size': 5,\n",
    "             'color': colors[3], 'alpha': .6}]\n",
    "    return data\n",
    "\n",
    "\n",
    "def nice_xlims(pltdata=None, prange=None):\n",
    "    \n",
    "    def get_slice(srs):\n",
    "        return srs.sel(pressure=slice(*prange))\n",
    "    \n",
    "    srss = [d['srs'] for d in pltdata]\n",
    "    vmin = min([get_slice(srs).min() for srs in srss])\n",
    "    vmax = max([get_slice(srs).max() for srs in srss])\n",
    "    dv = (vmax - vmin) * .01\n",
    "    return float(vmin - dv), float(vmax + dv)\n",
    "    \n",
    "\n",
    "def plt_cooling_bokeh(pltdata=None):\n",
    "    '''\n",
    "    Plot a list of cooling rate profiles using bokeh.\n",
    "    '''\n",
    "    ymin = 1e-2 \n",
    "    ymax = 1020 \n",
    "        \n",
    "    p1 = figure(title=\"Linear pressure scale\", \n",
    "                plot_width=400)        \n",
    "    xmin, xmax = nice_xlims(pltdata, prange=(50, 1050))\n",
    "    for d in pltdata:\n",
    "        if 'marker' in d:\n",
    "            getattr(p1, d['marker'])(d['srs'].values, \n",
    "                    d['srs'].coords['pressure'].values,\n",
    "                    color=d['color'], alpha=.7)\n",
    "        p1.line(d['srs'].values, \n",
    "                d['srs'].coords['pressure'].values,\n",
    "                color=d['color'], alpha=d['alpha'], \n",
    "                line_width=d['line_width'], line_dash=d['line_dash'])\n",
    "    \n",
    "    p1.y_range = Range1d(ymax, ymin)\n",
    "    p1.yaxis.axis_label = 'pressure [mb]'   \n",
    "    p1.x_range = Range1d(xmin, xmax)\n",
    "    p1.xaxis.axis_label = 'cooling rate [K/day]'\n",
    "            \n",
    "    p2 = figure(title='Log pressure scale', y_axis_type='log',\n",
    "                plot_width=560)\n",
    "    xmin, xmax = nice_xlims(pltdata, prange=(.01, 200))\n",
    "    \n",
    "    rs = []\n",
    "    for d in pltdata:\n",
    "        rd = []\n",
    "        if 'marker' in d:\n",
    "            r_mark = getattr(p2, d['marker'])(d['srs'].values, \n",
    "                        d['srs'].coords['pressure'].values,\n",
    "                        color=d['color'], alpha=.7)\n",
    "            rd.append(r_mark)\n",
    "        r_line = p2.line(d['srs'].values, \n",
    "                    d['srs'].coords['pressure'].values,\n",
    "                    color=d['color'], alpha=d['alpha'], \n",
    "                    line_width=d['line_width'], line_dash=d['line_dash'])\n",
    "        rd.append(r_line)\n",
    "      \n",
    "        rs.append(rd)\n",
    "        \n",
    "    p2.y_range = Range1d(ymax, ymin)  \n",
    "    p2.yaxis.axis_label = 'pressure [mb]'\n",
    "    \n",
    "    p2.x_range = Range1d(xmin, xmax)\n",
    "    p2.xaxis.axis_label = 'cooling rate [K/day]'\n",
    "    \n",
    "    items = [(d['label'], r) for r, d in zip(rs, pltdata)]\n",
    "    legend = Legend(items=items, location=(10, -30))\n",
    "    legend.label_text_font_size = '8pt'\n",
    "    \n",
    "    p2.add_layout(legend, 'right')  \n",
    "    \n",
    "    show(gridplot(p1, p2, ncols=2, plot_height=500))\n",
    "    \n",
    "\n",
    "def script_plt_cooling():\n",
    "    pltdata = pltdata_cooling_1(\n",
    "        ds_cool=DS_COOL,\n",
    "        ds_cool_crd=DS_COOL_CRD,\n",
    "        ds_cool_wgt=DS_COOL_WGT)\n",
    "    plt_cooling_bokeh(pltdata=pltdata)\n",
    "    print('''FIGURE. Cooling rate profiles.''')"
   ]
  },
  {
   "cell_type": "code",
   "execution_count": 9,
   "metadata": {
    "collapsed": true
   },
   "outputs": [],
   "source": [
    "def fmt_flux(ds_in):\n",
    "    ds = ds_in.copy(deep=True)\n",
    "    \n",
    "    for l in ('level', 'layer'):\n",
    "        if l in ds.data_vars:\n",
    "            if len(ds[l].dims) > 1:\n",
    "                surface = {d: 0 for d in ds.dims if d != 'pressure'}\n",
    "                coord_level = ds[l][surface]\n",
    "                ds.coords[l] = ('pressure', coord_level)\n",
    "            else:\n",
    "                ds.coords[l] = ('pressure', ds[l])\n",
    "        \n",
    "    ds = ds.isel(pressure=[0, 23, -1])\n",
    "        \n",
    "    if 'igg' in ds.dims:\n",
    "        ds = ds.sel(igg=[1])\n",
    "        ds = ds.squeeze('igg').drop('igg')\n",
    "    \n",
    "    if 'g' in ds.dims:\n",
    "        ds = ds.sum('g')\n",
    "            \n",
    "    if 'band' in ds.dims:\n",
    "        try:\n",
    "            ds = ds.squeeze('band').drop('band')\n",
    "        except ValueError:\n",
    "            ds = ds.sum('band')\n",
    "                \n",
    "    df = ds.to_dataframe()\n",
    "    df = df.set_index('level', append=True)               \n",
    "    return df\n",
    "\n",
    "\n",
    "def tbdata_flux(ds_flux=None, ds_flux_crd=None, ds_flux_wgt=None):\n",
    "    ilevels = [0, 23, -1]\n",
    "            \n",
    "    benchmark = {'label': 'WGT igg=10 wgt_flux=1',\n",
    "                 'df': fmt_flux(ds_flux_wgt)}\n",
    "    \n",
    "    tbs = [{'label': 'CRD',\n",
    "            'df': fmt_flux(ds_flux_crd)},\n",
    "           {'label': 'CLIRAD',\n",
    "            'df': fmt_flux(ds_flux)}]\n",
    "    \n",
    "    data = {'benchmark': benchmark, 'others': tbs}\n",
    "    return data\n",
    "\n",
    "\n",
    "def tb_flux(tbdata=None):\n",
    "    benchmark = tbdata['benchmark']\n",
    "    others = tbdata['others']\n",
    "    \n",
    "    def show_tb(d=None):\n",
    "        display.display(d['df'])\n",
    "        print('Table.', 'Fluxes.', d['label'])\n",
    "        \n",
    "    def show_tbdiff(d0=None, d=None):\n",
    "        df = d['df']\n",
    "        df.index = d0['df'].index\n",
    "        display.display(df - d0['df'])\n",
    "        print('Table.', 'Fluxes.', \n",
    "              '({}) - ({})'.format(d['label'], d0['label']))\n",
    "        \n",
    "    show_tb(benchmark)\n",
    "    for d in others:\n",
    "        show_tb(d)\n",
    "        \n",
    "    for d in others:\n",
    "        show_tbdiff(d=d, d0=benchmark)\n",
    "        \n",
    "        \n",
    "def script_tb_flux():\n",
    "    data = tbdata_flux(ds_flux=DS_FLUX,\n",
    "                       ds_flux_crd=DS_FLUX_CRD,\n",
    "                       ds_flux_wgt=DS_FLUX_WGT)\n",
    "    tb_flux(tbdata=data)"
   ]
  },
  {
   "cell_type": "code",
   "execution_count": 10,
   "metadata": {
    "collapsed": true
   },
   "outputs": [],
   "source": [
    "def band_map():\n",
    "    '''\n",
    "    Maps spectral bands in lblnew to spectral bands in clirad.\n",
    "    '''\n",
    "    lblnew2clirad = {'1': '1',\n",
    "            '2': '2',\n",
    "            '3a': '3',\n",
    "            '3b': '4',\n",
    "            '3c': '5',\n",
    "            '4': '6', \n",
    "            '5': '7',\n",
    "            '6': '8',\n",
    "            '7': '9', \n",
    "            '8': '10',\n",
    "            '9': '11'}\n",
    "    \n",
    "    clirad2lblnew = {clirad: lblnew \n",
    "                     for lblnew, clirad in lblnew2clirad.items()}\n",
    "    return clirad2lblnew\n",
    "\n",
    "\n",
    "def gasbands():\n",
    "    bmap = band_map()\n",
    "    gases = list(PARAM['molecule'].keys())\n",
    "    \n",
    "    bands = [bmap[str(b)] for b in PARAM['band']]\n",
    "    return list(itertools.product(gases, bands))\n",
    "\n",
    "\n",
    "def print_bestfit_params():\n",
    "    print('Best-fit values for each (gas, band)')\n",
    "    print('------------------------------------')\n",
    "    for gas, band in gasbands():\n",
    "        print('o {} band{}'.format(gas, band))\n",
    "        param = bestfits.kdist_params(molecule=gas, band=band)\n",
    "        for name, value in sorted(param.items()):\n",
    "            print(2 * ' ' + '{} = {}'.format(name, value))\n",
    "\n",
    "        \n",
    "def print_input_param():        \n",
    "    for name, value in PARAM.items():\n",
    "        print('{} = {}'.format(name, value))\n",
    "        \n",
    "        \n",
    "def print_lblnew_param():\n",
    "    for name, value in sorted(PARAM_LBLNEW.items()):\n",
    "        print('{} = {}'.format(name, value))\n"
   ]
  },
  {
   "cell_type": "code",
   "execution_count": 11,
   "metadata": {
    "collapsed": true,
    "scrolled": false
   },
   "outputs": [],
   "source": [
    "def show_html(s):\n",
    "    display.display(display.HTML(s))\n",
    "\n",
    "    \n",
    "def show_markdown(s):\n",
    "    display.display(display.Markdown(s))\n",
    "\n",
    "    \n",
    "def script():\n",
    "    \n",
    "    title = '### CLIRAD-LW'\n",
    "    s_input = 'Input Parameters'\n",
    "    s_lblnew_param = 'LBLNEW case compaired against'\n",
    "    s_bestfits = 'Best-fit Parameters'\n",
    "    s_plt_cooling = 'Cooling Rate Profiles'\n",
    "    s_tb_flux = 'Flux Comparison'\n",
    "    \n",
    "    # title\n",
    "    show_markdown('### CLIRAD-LW')\n",
    "    \n",
    "    # TOC\n",
    "    show_markdown('### Table of Contents')\n",
    "    show_html(climahtml.getHTML_hrefanchor(s_input))\n",
    "    show_html(climahtml.getHTML_hrefanchor(s_lblnew_param))\n",
    "    show_html(climahtml.getHTML_hrefanchor(s_plt_cooling))\n",
    "    show_html(climahtml.getHTML_hrefanchor(s_tb_flux))\n",
    "    show_html(climahtml.getHTML_hrefanchor(s_bestfits))\n",
    "    \n",
    "    # Input parameters\n",
    "    show_html(climahtml.getHTML_idanchor(s_input))\n",
    "    show_markdown(climahtml.getMarkdown_sectitle(s_input))\n",
    "    print_input_param()\n",
    "    \n",
    "    # LBLNEW parameters \n",
    "    show_html(climahtml.getHTML_idanchor(s_lblnew_param))\n",
    "    show_markdown(climahtml.getMarkdown_sectitle(s_lblnew_param))\n",
    "    print_lblnew_param()\n",
    "    \n",
    "    # Cooling rate profiles\n",
    "    show_html(climahtml.getHTML_idanchor(s_plt_cooling))\n",
    "    show_markdown(climahtml.getMarkdown_sectitle(s_plt_cooling))\n",
    "    script_plt_cooling()\n",
    "    \n",
    "    # Flux comparison\n",
    "    show_html(climahtml.getHTML_idanchor(s_tb_flux))\n",
    "    show_markdown(climahtml.getMarkdown_sectitle(s_tb_flux))\n",
    "    script_tb_flux()\n",
    "    \n",
    "    # Best-fit values\n",
    "    show_html(climahtml.getHTML_idanchor(s_bestfits))\n",
    "    show_markdown(climahtml.getMarkdown_sectitle(s_bestfits))\n",
    "    print_bestfit_params()\n",
    "   \n",
    "    "
   ]
  },
  {
   "cell_type": "code",
   "execution_count": 12,
   "metadata": {
    "collapsed": true,
    "scrolled": false
   },
   "outputs": [
    {
     "data": {
      "text/markdown": [
       "### CLIRAD-LW"
      ],
      "text/plain": [
       "<IPython.core.display.Markdown object>"
      ]
     },
     "metadata": {},
     "output_type": "display_data"
    },
    {
     "data": {
      "text/markdown": [
       "### Table of Contents"
      ],
      "text/plain": [
       "<IPython.core.display.Markdown object>"
      ]
     },
     "metadata": {},
     "output_type": "display_data"
    },
    {
     "data": {
      "text/html": [
       "<a href=\"#Input_Parameters\">Input Parameters</a>"
      ],
      "text/plain": [
       "<IPython.core.display.HTML object>"
      ]
     },
     "metadata": {},
     "output_type": "display_data"
    },
    {
     "data": {
      "text/html": [
       "<a href=\"#LBLNEW_case_compaired_against\">LBLNEW case compaired against</a>"
      ],
      "text/plain": [
       "<IPython.core.display.HTML object>"
      ]
     },
     "metadata": {},
     "output_type": "display_data"
    },
    {
     "data": {
      "text/html": [
       "<a href=\"#Cooling_Rate_Profiles\">Cooling Rate Profiles</a>"
      ],
      "text/plain": [
       "<IPython.core.display.HTML object>"
      ]
     },
     "metadata": {},
     "output_type": "display_data"
    },
    {
     "data": {
      "text/html": [
       "<a href=\"#Flux_Comparison\">Flux Comparison</a>"
      ],
      "text/plain": [
       "<IPython.core.display.HTML object>"
      ]
     },
     "metadata": {},
     "output_type": "display_data"
    },
    {
     "data": {
      "text/html": [
       "<a href=\"#Best-fit_Parameters\">Best-fit Parameters</a>"
      ],
      "text/plain": [
       "<IPython.core.display.HTML object>"
      ]
     },
     "metadata": {},
     "output_type": "display_data"
    },
    {
     "data": {
      "text/html": [
       "<a id=\"Input_Parameters\"></a>"
      ],
      "text/plain": [
       "<IPython.core.display.HTML object>"
      ]
     },
     "metadata": {},
     "output_type": "display_data"
    },
    {
     "data": {
      "text/markdown": [
       "# Input Parameters"
      ],
      "text/plain": [
       "<IPython.core.display.Markdown object>"
      ]
     },
     "metadata": {},
     "output_type": "display_data"
    },
    {
     "name": "stdout",
     "output_type": "stream",
     "text": [
      "atmpro = trp\n",
      "band = [9]\n",
      "commitnumber = fc273c9\n",
      "molecule = {'ch4': 1.8e-06}\n",
      "tsfc = 300\n"
     ]
    },
    {
     "data": {
      "text/html": [
       "<a id=\"LBLNEW_case_compaired_against\"></a>"
      ],
      "text/plain": [
       "<IPython.core.display.HTML object>"
      ]
     },
     "metadata": {},
     "output_type": "display_data"
    },
    {
     "data": {
      "text/markdown": [
       "# LBLNEW case compaired against"
      ],
      "text/plain": [
       "<IPython.core.display.Markdown object>"
      ]
     },
     "metadata": {},
     "output_type": "display_data"
    },
    {
     "name": "stdout",
     "output_type": "stream",
     "text": [
      "atmpro = trp\n",
      "band = 7\n",
      "commitnumber = 2bd1f75\n",
      "conc = 1.8e-06\n",
      "dv = 0.01\n",
      "klin = 2e-21\n",
      "molecule = ch4\n",
      "ng_adju = [0, 0]\n",
      "ng_refs = [2, 3]\n",
      "nv = 100\n",
      "option_compute_btable = 0\n",
      "option_compute_ktable = 0\n",
      "option_wgt_flux = 1\n",
      "option_wgt_k = 1\n",
      "ref_pts = [(1, 250), (500, 250)]\n",
      "tsfc = 300\n",
      "vmax = 1380\n",
      "vmin = 1215\n",
      "w_diffuse = [(1.66, 1.66), (1.66, 1.66, 1.66)]\n",
      "wgt = [(0.7, 0.7), (0.4, 0.6, 0.75)]\n"
     ]
    },
    {
     "data": {
      "text/html": [
       "<a id=\"Cooling_Rate_Profiles\"></a>"
      ],
      "text/plain": [
       "<IPython.core.display.HTML object>"
      ]
     },
     "metadata": {},
     "output_type": "display_data"
    },
    {
     "data": {
      "text/markdown": [
       "# Cooling Rate Profiles"
      ],
      "text/plain": [
       "<IPython.core.display.Markdown object>"
      ]
     },
     "metadata": {},
     "output_type": "display_data"
    },
    {
     "data": {
      "text/html": [
       "\n",
       "<div class=\"bk-root\">\n",
       "    <div class=\"bk-plotdiv\" id=\"ef856fe2-8613-410f-bc48-85d39e9c1491\"></div>\n",
       "</div>"
      ]
     },
     "metadata": {},
     "output_type": "display_data"
    },
    {
     "data": {
      "application/javascript": [
       "(function(root) {\n",
       "  function embed_document(root) {\n",
       "    \n",
       "  var docs_json = {\"b6bf7d8b-ead7-44b3-8610-26488aa22fd9\":{\"roots\":{\"references\":[{\"attributes\":{\"fill_alpha\":{\"value\":0.7},\"fill_color\":{\"value\":\"#4daf4a\"},\"line_alpha\":{\"value\":0.7},\"line_color\":{\"value\":\"#4daf4a\"},\"x\":{\"field\":\"x\"},\"y\":{\"field\":\"y\"}},\"id\":\"2ad60406-1dc3-4e5e-8437-9dc1e8422a5a\",\"type\":\"Circle\"},{\"attributes\":{\"fill_alpha\":{\"value\":0.1},\"fill_color\":{\"value\":\"#1f77b4\"},\"line_alpha\":{\"value\":0.1},\"line_color\":{\"value\":\"#1f77b4\"},\"x\":{\"field\":\"x\"},\"y\":{\"field\":\"y\"}},\"id\":\"7384cef8-b1a4-410e-b89e-69008f2c7770\",\"type\":\"Circle\"},{\"attributes\":{\"below\":[{\"id\":\"a875907b-c760-4fea-a3c1-433440237d94\",\"type\":\"LinearAxis\"}],\"left\":[{\"id\":\"6c6ade10-f9a1-42f1-ab00-6f40d510576f\",\"type\":\"LogAxis\"}],\"plot_height\":500,\"plot_width\":560,\"renderers\":[{\"id\":\"a875907b-c760-4fea-a3c1-433440237d94\",\"type\":\"LinearAxis\"},{\"id\":\"87aec452-3542-41ff-994c-de6653ac589a\",\"type\":\"Grid\"},{\"id\":\"6c6ade10-f9a1-42f1-ab00-6f40d510576f\",\"type\":\"LogAxis\"},{\"id\":\"a45c2873-ccf0-4389-8cd3-5e3c2a2d1197\",\"type\":\"Grid\"},{\"id\":\"e4b3d66f-2a61-4499-9b55-68ee39ad316a\",\"type\":\"BoxAnnotation\"},{\"id\":\"30dc7db7-993c-441f-b45e-1fcd1ee130e8\",\"type\":\"GlyphRenderer\"},{\"id\":\"0341fa68-f715-48ae-82b3-57326b4b1877\",\"type\":\"GlyphRenderer\"},{\"id\":\"f36f856f-ef8e-45f5-8dfd-9777eea7ea26\",\"type\":\"GlyphRenderer\"},{\"id\":\"38a5e0a2-54fc-4b45-9312-7b5997db278a\",\"type\":\"GlyphRenderer\"},{\"id\":\"08f8c1d8-cd4b-41f2-9076-f2ff7812c626\",\"type\":\"GlyphRenderer\"},{\"id\":\"5bda4569-bb6d-4a20-84ec-9923f9d5ac97\",\"type\":\"Legend\"}],\"right\":[{\"id\":\"5bda4569-bb6d-4a20-84ec-9923f9d5ac97\",\"type\":\"Legend\"}],\"title\":{\"id\":\"21f7a564-8941-4963-a508-b333fccca647\",\"type\":\"Title\"},\"toolbar\":{\"id\":\"94aef113-c082-46f0-ba24-f321a273f7e7\",\"type\":\"Toolbar\"},\"toolbar_location\":null,\"x_range\":{\"id\":\"7dd2a299-a90f-46dc-a2ef-6ade857046f7\",\"type\":\"Range1d\"},\"x_scale\":{\"id\":\"caf1d275-ed1c-4a88-866c-bfb0d2366534\",\"type\":\"LinearScale\"},\"y_range\":{\"id\":\"442934df-b76c-4d3a-8cf3-c612cd8b6e9a\",\"type\":\"Range1d\"},\"y_scale\":{\"id\":\"f8cc0e88-881d-4894-b7c2-9ebcda61d3e4\",\"type\":\"LogScale\"}},\"id\":\"ba15d5fe-27eb-4f1b-95c6-808370c53747\",\"subtype\":\"Figure\",\"type\":\"Plot\"},{\"attributes\":{\"data_source\":{\"id\":\"27c92063-1a14-45ad-87ec-f3a638748cd0\",\"type\":\"ColumnDataSource\"},\"glyph\":{\"id\":\"c2c96127-6fef-4d6d-a03a-2aeeebd13e91\",\"type\":\"Square\"},\"hover_glyph\":null,\"muted_glyph\":null,\"nonselection_glyph\":{\"id\":\"9a612d09-3815-474f-88bc-9ab76e984e6d\",\"type\":\"Square\"},\"selection_glyph\":null,\"view\":{\"id\":\"74f7c13c-6179-44cb-b764-198dcc88f897\",\"type\":\"CDSView\"}},\"id\":\"d39fc6dc-155f-4e70-bcde-3e57f476cfe4\",\"type\":\"GlyphRenderer\"},{\"attributes\":{\"callback\":null,\"column_names\":[\"x\",\"y\"],\"data\":{\"x\":{\"__ndarray__\":\"A91c0e3yt7/0R3Z3Lbm3vxDbJ5GOPLe/EmlOcEe+tr+ZLfbqJT62vzosbW7VwLW/AR5qPltFtb+hpq9KltG0vzFjkA8IYbS/5dce3O78s7/Y97PoNaezv74jn2GuaLO/MVITcBRIs7/kSZ1DwymzvxdP5BmZH7G/xYQk9ZZZp7+Pc8bwC8GPv3vUnBLJvZQ/I8nKNDzrrz/E8CrOxZ28P1iHaQDryMU/1+hqZaGhzT9M3I2yPBfPP7ZKjyqz1sk/GoVmz0xNwz+6OSW4Qmy5P9kMVOyGcq8/qIrhnnJCoz/bsM569jGYP6H3eoK6BJA/j6EDlWj+hT8/piHhdaF8PxieAEoIvWs/hpi/X3asQL8lOUaVzVN/v9qK5MhW2ZG/nwF+WDJxmr8TXJMLISmev+I9WN0i5J2/BGm8MHYbnr/p2iu08hmev5Y2vCPaw52/8ZR1AhEXnb9tpvatzBecv/kmZB8Yy5q/jT2pZj42mb+bgogW0V2Xv76y9mqMRZW/FvZCbnfwkr8CwxX371+Qv/Otd84CLIu/UZNiReIlhb/0BarHwVp9v5nvUVjR+m6/4pI1MEe6JL9sKnxO4nluP3kAqHZPJIA/EIJ3uj9TiT/zqDBqgp6RP3O0f6XA8JY/SaONGWRvnD/OwcFLYb+gP835meLAl6I/1aqVvTCPoz8iMw1GyQSkP70Dkmmam6Q/+EZWeWDSpT8gcrsWe8+nPyO4SNyOaao/ERycKg1srT8ut/3wyF+wP2wsoNHPNLI/VnJ2tG9DtD8+q2wiqqW2P0XdIL1Vlbk/\",\"dtype\":\"float64\",\"shape\":[75]},\"y\":{\"__ndarray__\":\"GhExyth1ND/Sv8nbtpRIP2vylNV0PVE/aTum7souWD/At0SJ8fVgPw3Iuahxymc/MSNhhJWvcD/bTfBN02d3P2zb5nxnaoA/CD5h5MAGhz8NmeH1TyaQP+zrCsc9p5Y/LbKd76fGnz/bLW5ISEmmPww9YvTcQq8/JV2OstnstT8Er5Y7M8G+P0c+r3jqkcU/5h99k6ZBzj88bCIzFzjVP4enV8oyxN0//yH99nXg5D8qOpLLf0jtP5kqGJXUifQ/c9cS8kHP/D+/DpwzojQEQIEmwoanVwxA4lgXt9HgE0BSSZ2AJuIbQAMJih9jjiNA5q4l5INuK0AwTKYKRj0zQNv5fmq8/DpAaCJseHrtQkB/+zpwzoxKQM3MzMzMeFJAZmZmZmZqWEAAAAAAAFxeQM3MzMzMJmJAmpmZmZkfZUBmZmZmZhhoQDMzMzMzEWtAAAAAAAAKbkBmZmZmZoFwQM3MzMzM/XFAMzMzMzN6c0CamZmZmfZ0QAAAAAAAc3ZAZmZmZmbvd0DNzMzMzGt5QDMzMzMz6HpAmpmZmZlkfEAAAAAAAOF9QGZmZmZmXX9AZmZmZuZsgECamZmZGSuBQM3MzMxM6YFAAAAAAICngkAzMzMzs2WDQGZmZmbmI4RAmpmZmRnihEDNzMzMTKCFQAAAAACAXoZAMzMzM7Mch0BmZmZm5tqHQJqZmZkZmYhAzczMzExXiUAAAAAAgBWKQDMzMzOz04pAZmZmZuaRi0CamZmZGVCMQM3MzMxMDo1AAAAAAIDMjUAzMzMzs4qOQGZmZmbmSI9A\",\"dtype\":\"float64\",\"shape\":[75]}}},\"id\":\"c4275781-3b97-42f1-9acb-f18f6d01e426\",\"type\":\"ColumnDataSource\"},{\"attributes\":{\"data_source\":{\"id\":\"ef614d53-17fb-4022-919b-3e22cbf8a5e9\",\"type\":\"ColumnDataSource\"},\"glyph\":{\"id\":\"2ad60406-1dc3-4e5e-8437-9dc1e8422a5a\",\"type\":\"Circle\"},\"hover_glyph\":null,\"muted_glyph\":null,\"nonselection_glyph\":{\"id\":\"8254e55c-a79e-4449-860e-07583fd506f4\",\"type\":\"Circle\"},\"selection_glyph\":null,\"view\":{\"id\":\"ca23acad-b36b-4bf7-ace6-ae52caaaddfa\",\"type\":\"CDSView\"}},\"id\":\"0341fa68-f715-48ae-82b3-57326b4b1877\",\"type\":\"GlyphRenderer\"},{\"attributes\":{\"data_source\":{\"id\":\"8024438e-ab99-453f-af2d-e38c1de84915\",\"type\":\"ColumnDataSource\"},\"glyph\":{\"id\":\"6f794a51-5572-434d-88c7-59ecbf926581\",\"type\":\"Line\"},\"hover_glyph\":null,\"muted_glyph\":null,\"nonselection_glyph\":{\"id\":\"447c55f1-c099-418e-8f22-957016d57ae5\",\"type\":\"Line\"},\"selection_glyph\":null,\"view\":{\"id\":\"87a706f8-33e4-4152-bb39-e09c2486f24a\",\"type\":\"CDSView\"}},\"id\":\"f01d14f7-7846-45c1-a23b-edfe05678de0\",\"type\":\"GlyphRenderer\"},{\"attributes\":{\"callback\":null,\"column_names\":[\"x\",\"y\"],\"data\":{\"x\":{\"__ndarray__\":\"A91c0e3yt7/0R3Z3Lbm3vxDbJ5GOPLe/EmlOcEe+tr+ZLfbqJT62vzosbW7VwLW/AR5qPltFtb+hpq9KltG0vzFjkA8IYbS/5dce3O78s7/Y97PoNaezv74jn2GuaLO/MVITcBRIs7/kSZ1DwymzvxdP5BmZH7G/xYQk9ZZZp7+Pc8bwC8GPv3vUnBLJvZQ/I8nKNDzrrz/E8CrOxZ28P1iHaQDryMU/1+hqZaGhzT9M3I2yPBfPP7ZKjyqz1sk/GoVmz0xNwz+6OSW4Qmy5P9kMVOyGcq8/qIrhnnJCoz/bsM569jGYP6H3eoK6BJA/j6EDlWj+hT8/piHhdaF8PxieAEoIvWs/hpi/X3asQL8lOUaVzVN/v9qK5MhW2ZG/nwF+WDJxmr8TXJMLISmev+I9WN0i5J2/BGm8MHYbnr/p2iu08hmev5Y2vCPaw52/8ZR1AhEXnb9tpvatzBecv/kmZB8Yy5q/jT2pZj42mb+bgogW0V2Xv76y9mqMRZW/FvZCbnfwkr8CwxX371+Qv/Otd84CLIu/UZNiReIlhb/0BarHwVp9v5nvUVjR+m6/4pI1MEe6JL9sKnxO4nluP3kAqHZPJIA/EIJ3uj9TiT/zqDBqgp6RP3O0f6XA8JY/SaONGWRvnD/OwcFLYb+gP835meLAl6I/1aqVvTCPoz8iMw1GyQSkP70Dkmmam6Q/+EZWeWDSpT8gcrsWe8+nPyO4SNyOaao/ERycKg1srT8ut/3wyF+wP2wsoNHPNLI/VnJ2tG9DtD8+q2wiqqW2P0XdIL1Vlbk/\",\"dtype\":\"float64\",\"shape\":[75]},\"y\":{\"__ndarray__\":\"GhExyth1ND/Sv8nbtpRIP2vylNV0PVE/aTum7souWD/At0SJ8fVgPw3Iuahxymc/MSNhhJWvcD/bTfBN02d3P2zb5nxnaoA/CD5h5MAGhz8NmeH1TyaQP+zrCsc9p5Y/LbKd76fGnz/bLW5ISEmmPww9YvTcQq8/JV2OstnstT8Er5Y7M8G+P0c+r3jqkcU/5h99k6ZBzj88bCIzFzjVP4enV8oyxN0//yH99nXg5D8qOpLLf0jtP5kqGJXUifQ/c9cS8kHP/D+/DpwzojQEQIEmwoanVwxA4lgXt9HgE0BSSZ2AJuIbQAMJih9jjiNA5q4l5INuK0AwTKYKRj0zQNv5fmq8/DpAaCJseHrtQkB/+zpwzoxKQM3MzMzMeFJAZmZmZmZqWEAAAAAAAFxeQM3MzMzMJmJAmpmZmZkfZUBmZmZmZhhoQDMzMzMzEWtAAAAAAAAKbkBmZmZmZoFwQM3MzMzM/XFAMzMzMzN6c0CamZmZmfZ0QAAAAAAAc3ZAZmZmZmbvd0DNzMzMzGt5QDMzMzMz6HpAmpmZmZlkfEAAAAAAAOF9QGZmZmZmXX9AZmZmZuZsgECamZmZGSuBQM3MzMxM6YFAAAAAAICngkAzMzMzs2WDQGZmZmbmI4RAmpmZmRnihEDNzMzMTKCFQAAAAACAXoZAMzMzM7Mch0BmZmZm5tqHQJqZmZkZmYhAzczMzExXiUAAAAAAgBWKQDMzMzOz04pAZmZmZuaRi0CamZmZGVCMQM3MzMxMDo1AAAAAAIDMjUAzMzMzs4qOQGZmZmbmSI9A\",\"dtype\":\"float64\",\"shape\":[75]}}},\"id\":\"ef614d53-17fb-4022-919b-3e22cbf8a5e9\",\"type\":\"ColumnDataSource\"},{\"attributes\":{\"line_alpha\":0.6,\"line_color\":\"#984ea3\",\"line_width\":3,\"x\":{\"field\":\"x\"},\"y\":{\"field\":\"y\"}},\"id\":\"5e061737-495f-4cb2-949e-956bca08f66f\",\"type\":\"Line\"},{\"attributes\":{\"callback\":null,\"column_names\":[\"x\",\"y\"],\"data\":{\"x\":{\"__ndarray__\":\"cWaorzQcsb8l2oZJE/Kwv7FmH+43lrC/B9zK6IEysL+FNjn885mvvzAm494Gz66/vrGLpiQUrr+xRIzY6VatvxXwB1wFf6y/wD8Woc+pq78cJwuEc/Gqv+pzD4IYW6q/bGI/uY6yqb/OjYzQKvWovyYdqr9yEqW/cSVZ7tlFl78K41LYgnZrP3xvtR2J2aE/bE3C/YWWsj8O8eQ5yhO+P+WheFDY2cU/ybSo+zMDzT8Zc9TyQ+HOP+lWTJ9l5so/OuWNwkVNxT+EDAJgASy+P5lGX76G0rM/sJqMEbGeqD8dQnajDEWdP2YBcjGXZJE/Ok26uzsjhj+cb1T+3xd+P0IWHDYrvnE/ZL+H1MFAMj+4J8qceKOAv5s7VFOogpS/XnnaKz3knr+mA6wpFqWhv79V7Ev6iaG/17PTw4d3ob+wyewFRUChvwBao3g236C/QKuG+vxWoL/8212BOFafv4ai5mknvp2/5pDcPtjqm78Sg8e3GOGZv14rJhnuoZe/JH7DcTculb9MVIwSh4aSv5K1S67mVY+/xfRZ7uAxib+DZ/bu8Z2Cv1D+J44ML3e/e8cmbHY/YL+uj4khZPBfPz5mmzAlP3k/vJdoDB7phT+XAY7JMN+PP/EsBj1dPJU/OCrqEhqlmj+tIEnIW5ufP/3jIME6pqE/2qs7Rom0oj/oxOU/jk+jPwUlO+SVDKQ/6Mwn4L1epT8KhMMpeGynPxWRsiM6Eqo/AkB1kDwhrT/VlqB3o0CwP7SwuPEhGbI/wrG4WAwjtD+QprH53222P3D/NjBeGLk/\",\"dtype\":\"float64\",\"shape\":[75]},\"y\":{\"__ndarray__\":\"GhExyth1ND/Sv8nbtpRIP2vylNV0PVE/aTum7souWD/At0SJ8fVgPw3Iuahxymc/MSNhhJWvcD/bTfBN02d3P2zb5nxnaoA/CD5h5MAGhz8NmeH1TyaQP+zrCsc9p5Y/LbKd76fGnz/bLW5ISEmmPww9YvTcQq8/JV2OstnstT8Er5Y7M8G+P0c+r3jqkcU/5h99k6ZBzj88bCIzFzjVP4enV8oyxN0//yH99nXg5D8qOpLLf0jtP5kqGJXUifQ/c9cS8kHP/D+/DpwzojQEQIEmwoanVwxA4lgXt9HgE0BSSZ2AJuIbQAMJih9jjiNA5q4l5INuK0AwTKYKRj0zQNv5fmq8/DpAaCJseHrtQkB/+zpwzoxKQM3MzMzMeFJAZmZmZmZqWEAAAAAAAFxeQM3MzMzMJmJAmpmZmZkfZUBmZmZmZhhoQDMzMzMzEWtAAAAAAAAKbkBmZmZmZoFwQM3MzMzM/XFAMzMzMzN6c0CamZmZmfZ0QAAAAAAAc3ZAZmZmZmbvd0DNzMzMzGt5QDMzMzMz6HpAmpmZmZlkfEAAAAAAAOF9QGZmZmZmXX9AZmZmZuZsgECamZmZGSuBQM3MzMxM6YFAAAAAAICngkAzMzMzs2WDQGZmZmbmI4RAmpmZmRnihEDNzMzMTKCFQAAAAACAXoZAMzMzM7Mch0BmZmZm5tqHQJqZmZkZmYhAzczMzExXiUAAAAAAgBWKQDMzMzOz04pAZmZmZuaRi0CamZmZGVCMQM3MzMxMDo1AAAAAAIDMjUAzMzMzs4qOQGZmZmbmSI9A\",\"dtype\":\"float64\",\"shape\":[75]}}},\"id\":\"dee7a8d1-8b5e-49ae-844d-8d679689d49d\",\"type\":\"ColumnDataSource\"},{\"attributes\":{\"fill_alpha\":{\"value\":0.1},\"fill_color\":{\"value\":\"#1f77b4\"},\"line_alpha\":{\"value\":0.1},\"line_color\":{\"value\":\"#1f77b4\"},\"x\":{\"field\":\"x\"},\"y\":{\"field\":\"y\"}},\"id\":\"9a612d09-3815-474f-88bc-9ab76e984e6d\",\"type\":\"Square\"},{\"attributes\":{},\"id\":\"c6839941-c303-4bef-a336-e4332fe7a9cc\",\"type\":\"BasicTickFormatter\"},{\"attributes\":{\"plot\":null,\"text\":\"Log pressure scale\"},\"id\":\"21f7a564-8941-4963-a508-b333fccca647\",\"type\":\"Title\"},{\"attributes\":{\"dimension\":1,\"plot\":{\"id\":\"ba15d5fe-27eb-4f1b-95c6-808370c53747\",\"subtype\":\"Figure\",\"type\":\"Plot\"},\"ticker\":{\"id\":\"1b971ba3-b696-4ff6-8851-66fa34f888ce\",\"type\":\"LogTicker\"}},\"id\":\"a45c2873-ccf0-4389-8cd3-5e3c2a2d1197\",\"type\":\"Grid\"},{\"attributes\":{\"line_alpha\":0.1,\"line_color\":\"#1f77b4\",\"line_width\":3,\"x\":{\"field\":\"x\"},\"y\":{\"field\":\"y\"}},\"id\":\"2954f031-9079-41a7-b5e5-32eba277f0f5\",\"type\":\"Line\"},{\"attributes\":{\"data_source\":{\"id\":\"cd3ec543-8ff6-45b1-905a-f4e47309cfdb\",\"type\":\"ColumnDataSource\"},\"glyph\":{\"id\":\"9d866275-105d-4978-9db3-1e5e45a302c0\",\"type\":\"Circle\"},\"hover_glyph\":null,\"muted_glyph\":null,\"nonselection_glyph\":{\"id\":\"7384cef8-b1a4-410e-b89e-69008f2c7770\",\"type\":\"Circle\"},\"selection_glyph\":null,\"view\":{\"id\":\"4af2fba6-c61b-4777-a8a0-29255d55ea3b\",\"type\":\"CDSView\"}},\"id\":\"ceb45370-e549-4aa9-8318-3aaebb7f0d70\",\"type\":\"GlyphRenderer\"},{\"attributes\":{},\"id\":\"6ca5a79f-3290-4314-be29-bd6f5ac265b0\",\"type\":\"BasicTicker\"},{\"attributes\":{\"active_drag\":\"auto\",\"active_inspect\":\"auto\",\"active_scroll\":\"auto\",\"active_tap\":\"auto\",\"tools\":[{\"id\":\"6ae366c0-e85f-413c-94dd-941cf5267bb8\",\"type\":\"PanTool\"},{\"id\":\"73cf765c-0770-4128-a30e-2db47b40916f\",\"type\":\"WheelZoomTool\"},{\"id\":\"2c3364f7-ae3d-46fa-8e2b-e7b50d0ec341\",\"type\":\"BoxZoomTool\"},{\"id\":\"702b93e7-0c1e-438d-8ad2-acf37505bcb9\",\"type\":\"SaveTool\"},{\"id\":\"c433f738-c308-4b78-aec0-fd62b3261c87\",\"type\":\"ResetTool\"},{\"id\":\"0c855216-6ee2-4237-bc3c-fac24f6cff8c\",\"type\":\"HelpTool\"}]},\"id\":\"94aef113-c082-46f0-ba24-f321a273f7e7\",\"type\":\"Toolbar\"},{\"attributes\":{},\"id\":\"6ae366c0-e85f-413c-94dd-941cf5267bb8\",\"type\":\"PanTool\"},{\"attributes\":{\"fill_alpha\":{\"value\":0.1},\"fill_color\":{\"value\":\"#1f77b4\"},\"line_alpha\":{\"value\":0.1},\"line_color\":{\"value\":\"#1f77b4\"},\"x\":{\"field\":\"x\"},\"y\":{\"field\":\"y\"}},\"id\":\"8254e55c-a79e-4449-860e-07583fd506f4\",\"type\":\"Circle\"},{\"attributes\":{\"callback\":null,\"column_names\":[\"x\",\"y\"],\"data\":{\"x\":{\"__ndarray__\":\"cWaorzQcsb8l2oZJE/Kwv7FmH+43lrC/B9zK6IEysL+FNjn885mvvzAm494Gz66/vrGLpiQUrr+xRIzY6VatvxXwB1wFf6y/wD8Woc+pq78cJwuEc/Gqv+pzD4IYW6q/bGI/uY6yqb/OjYzQKvWovyYdqr9yEqW/cSVZ7tlFl78K41LYgnZrP3xvtR2J2aE/bE3C/YWWsj8O8eQ5yhO+P+WheFDY2cU/ybSo+zMDzT8Zc9TyQ+HOP+lWTJ9l5so/OuWNwkVNxT+EDAJgASy+P5lGX76G0rM/sJqMEbGeqD8dQnajDEWdP2YBcjGXZJE/Ok26uzsjhj+cb1T+3xd+P0IWHDYrvnE/ZL+H1MFAMj+4J8qceKOAv5s7VFOogpS/XnnaKz3knr+mA6wpFqWhv79V7Ev6iaG/17PTw4d3ob+wyewFRUChvwBao3g236C/QKuG+vxWoL/8212BOFafv4ai5mknvp2/5pDcPtjqm78Sg8e3GOGZv14rJhnuoZe/JH7DcTculb9MVIwSh4aSv5K1S67mVY+/xfRZ7uAxib+DZ/bu8Z2Cv1D+J44ML3e/e8cmbHY/YL+uj4khZPBfPz5mmzAlP3k/vJdoDB7phT+XAY7JMN+PP/EsBj1dPJU/OCrqEhqlmj+tIEnIW5ufP/3jIME6pqE/2qs7Rom0oj/oxOU/jk+jPwUlO+SVDKQ/6Mwn4L1epT8KhMMpeGynPxWRsiM6Eqo/AkB1kDwhrT/VlqB3o0CwP7SwuPEhGbI/wrG4WAwjtD+QprH53222P3D/NjBeGLk/\",\"dtype\":\"float64\",\"shape\":[75]},\"y\":{\"__ndarray__\":\"GhExyth1ND/Sv8nbtpRIP2vylNV0PVE/aTum7souWD/At0SJ8fVgPw3Iuahxymc/MSNhhJWvcD/bTfBN02d3P2zb5nxnaoA/CD5h5MAGhz8NmeH1TyaQP+zrCsc9p5Y/LbKd76fGnz/bLW5ISEmmPww9YvTcQq8/JV2OstnstT8Er5Y7M8G+P0c+r3jqkcU/5h99k6ZBzj88bCIzFzjVP4enV8oyxN0//yH99nXg5D8qOpLLf0jtP5kqGJXUifQ/c9cS8kHP/D+/DpwzojQEQIEmwoanVwxA4lgXt9HgE0BSSZ2AJuIbQAMJih9jjiNA5q4l5INuK0AwTKYKRj0zQNv5fmq8/DpAaCJseHrtQkB/+zpwzoxKQM3MzMzMeFJAZmZmZmZqWEAAAAAAAFxeQM3MzMzMJmJAmpmZmZkfZUBmZmZmZhhoQDMzMzMzEWtAAAAAAAAKbkBmZmZmZoFwQM3MzMzM/XFAMzMzMzN6c0CamZmZmfZ0QAAAAAAAc3ZAZmZmZmbvd0DNzMzMzGt5QDMzMzMz6HpAmpmZmZlkfEAAAAAAAOF9QGZmZmZmXX9AZmZmZuZsgECamZmZGSuBQM3MzMxM6YFAAAAAAICngkAzMzMzs2WDQGZmZmbmI4RAmpmZmRnihEDNzMzMTKCFQAAAAACAXoZAMzMzM7Mch0BmZmZm5tqHQJqZmZkZmYhAzczMzExXiUAAAAAAgBWKQDMzMzOz04pAZmZmZuaRi0CamZmZGVCMQM3MzMxMDo1AAAAAAIDMjUAzMzMzs4qOQGZmZmbmSI9A\",\"dtype\":\"float64\",\"shape\":[75]}}},\"id\":\"16ddde0c-aff6-46bc-8688-db1c4db7e1a1\",\"type\":\"ColumnDataSource\"},{\"attributes\":{},\"id\":\"f8cc0e88-881d-4894-b7c2-9ebcda61d3e4\",\"type\":\"LogScale\"},{\"attributes\":{\"data_source\":{\"id\":\"2770240b-6aa7-468e-ab54-790087f036a2\",\"type\":\"ColumnDataSource\"},\"glyph\":{\"id\":\"5e061737-495f-4cb2-949e-956bca08f66f\",\"type\":\"Line\"},\"hover_glyph\":null,\"muted_glyph\":null,\"nonselection_glyph\":{\"id\":\"2954f031-9079-41a7-b5e5-32eba277f0f5\",\"type\":\"Line\"},\"selection_glyph\":null,\"view\":{\"id\":\"0de71050-ae70-42d6-a699-3623b77a07da\",\"type\":\"CDSView\"}},\"id\":\"21645406-7e17-4413-8b6b-6a703092de31\",\"type\":\"GlyphRenderer\"},{\"attributes\":{\"source\":{\"id\":\"ef614d53-17fb-4022-919b-3e22cbf8a5e9\",\"type\":\"ColumnDataSource\"}},\"id\":\"ca23acad-b36b-4bf7-ace6-ae52caaaddfa\",\"type\":\"CDSView\"},{\"attributes\":{\"line_color\":\"#4daf4a\",\"line_width\":1.5,\"x\":{\"field\":\"x\"},\"y\":{\"field\":\"y\"}},\"id\":\"8852a2cd-c9a6-4ef3-9fc2-31fdab30909c\",\"type\":\"Line\"},{\"attributes\":{\"callback\":null,\"end\":0.24610638842,\"start\":-0.08128795042},\"id\":\"7dd2a299-a90f-46dc-a2ef-6ade857046f7\",\"type\":\"Range1d\"},{\"attributes\":{\"data_source\":{\"id\":\"c4275781-3b97-42f1-9acb-f18f6d01e426\",\"type\":\"ColumnDataSource\"},\"glyph\":{\"id\":\"8852a2cd-c9a6-4ef3-9fc2-31fdab30909c\",\"type\":\"Line\"},\"hover_glyph\":null,\"muted_glyph\":null,\"nonselection_glyph\":{\"id\":\"ac131d33-5c30-49f7-9859-4e1698bb0b13\",\"type\":\"Line\"},\"selection_glyph\":null,\"view\":{\"id\":\"03fc5836-0dc3-4171-b28e-938baf6c862c\",\"type\":\"CDSView\"}},\"id\":\"f36f856f-ef8e-45f5-8dfd-9777eea7ea26\",\"type\":\"GlyphRenderer\"},{\"attributes\":{\"line_alpha\":0.1,\"line_color\":\"#1f77b4\",\"line_width\":1.5,\"x\":{\"field\":\"x\"},\"y\":{\"field\":\"y\"}},\"id\":\"ac131d33-5c30-49f7-9859-4e1698bb0b13\",\"type\":\"Line\"},{\"attributes\":{},\"id\":\"73cf765c-0770-4128-a30e-2db47b40916f\",\"type\":\"WheelZoomTool\"},{\"attributes\":{\"source\":{\"id\":\"c4275781-3b97-42f1-9acb-f18f6d01e426\",\"type\":\"ColumnDataSource\"}},\"id\":\"03fc5836-0dc3-4171-b28e-938baf6c862c\",\"type\":\"CDSView\"},{\"attributes\":{\"fill_alpha\":{\"value\":0.7},\"fill_color\":{\"value\":\"#984ea3\"},\"line_alpha\":{\"value\":0.7},\"line_color\":{\"value\":\"#984ea3\"},\"x\":{\"field\":\"x\"},\"y\":{\"field\":\"y\"}},\"id\":\"d6e253e3-2b1e-479f-b0ed-de67b09e6686\",\"type\":\"Square\"},{\"attributes\":{\"axis_label\":\"cooling rate [K/day]\",\"formatter\":{\"id\":\"c6839941-c303-4bef-a336-e4332fe7a9cc\",\"type\":\"BasicTickFormatter\"},\"plot\":{\"id\":\"ba15d5fe-27eb-4f1b-95c6-808370c53747\",\"subtype\":\"Figure\",\"type\":\"Plot\"},\"ticker\":{\"id\":\"6ca5a79f-3290-4314-be29-bd6f5ac265b0\",\"type\":\"BasicTicker\"}},\"id\":\"a875907b-c760-4fea-a3c1-433440237d94\",\"type\":\"LinearAxis\"},{\"attributes\":{\"plot\":{\"id\":\"ba15d5fe-27eb-4f1b-95c6-808370c53747\",\"subtype\":\"Figure\",\"type\":\"Plot\"},\"ticker\":{\"id\":\"6ca5a79f-3290-4314-be29-bd6f5ac265b0\",\"type\":\"BasicTicker\"}},\"id\":\"87aec452-3542-41ff-994c-de6653ac589a\",\"type\":\"Grid\"},{\"attributes\":{\"line_alpha\":0.6,\"line_color\":\"#984ea3\",\"line_width\":3,\"x\":{\"field\":\"x\"},\"y\":{\"field\":\"y\"}},\"id\":\"be70fd27-d884-44d5-8544-4e65097af240\",\"type\":\"Line\"},{\"attributes\":{\"label\":{\"value\":\"WGT igg=10 wgt_flux=2\"},\"renderers\":[{\"id\":\"38a5e0a2-54fc-4b45-9312-7b5997db278a\",\"type\":\"GlyphRenderer\"},{\"id\":\"08f8c1d8-cd4b-41f2-9076-f2ff7812c626\",\"type\":\"GlyphRenderer\"}]},\"id\":\"2ba39a74-c807-4749-b96d-088daaf8ae61\",\"type\":\"LegendItem\"},{\"attributes\":{\"source\":{\"id\":\"dee7a8d1-8b5e-49ae-844d-8d679689d49d\",\"type\":\"ColumnDataSource\"}},\"id\":\"b8230256-fb77-4224-aafd-a02e0ae7c699\",\"type\":\"CDSView\"},{\"attributes\":{\"fill_alpha\":{\"value\":0.1},\"fill_color\":{\"value\":\"#1f77b4\"},\"line_alpha\":{\"value\":0.1},\"line_color\":{\"value\":\"#1f77b4\"},\"x\":{\"field\":\"x\"},\"y\":{\"field\":\"y\"}},\"id\":\"bbe1c263-52aa-4d53-bf68-be45406da8dd\",\"type\":\"Square\"},{\"attributes\":{\"data_source\":{\"id\":\"dee7a8d1-8b5e-49ae-844d-8d679689d49d\",\"type\":\"ColumnDataSource\"},\"glyph\":{\"id\":\"d6e253e3-2b1e-479f-b0ed-de67b09e6686\",\"type\":\"Square\"},\"hover_glyph\":null,\"muted_glyph\":null,\"nonselection_glyph\":{\"id\":\"bbe1c263-52aa-4d53-bf68-be45406da8dd\",\"type\":\"Square\"},\"selection_glyph\":null,\"view\":{\"id\":\"b8230256-fb77-4224-aafd-a02e0ae7c699\",\"type\":\"CDSView\"}},\"id\":\"38a5e0a2-54fc-4b45-9312-7b5997db278a\",\"type\":\"GlyphRenderer\"},{\"attributes\":{\"items\":[{\"id\":\"503d12ac-7357-4583-a223-773f652e9378\",\"type\":\"LegendItem\"},{\"id\":\"bba756ac-d015-4ef9-a1ab-46412761046b\",\"type\":\"LegendItem\"},{\"id\":\"2ba39a74-c807-4749-b96d-088daaf8ae61\",\"type\":\"LegendItem\"}],\"label_text_font_size\":{\"value\":\"8pt\"},\"location\":[10,-30],\"plot\":{\"id\":\"ba15d5fe-27eb-4f1b-95c6-808370c53747\",\"subtype\":\"Figure\",\"type\":\"Plot\"}},\"id\":\"5bda4569-bb6d-4a20-84ec-9923f9d5ac97\",\"type\":\"Legend\"},{\"attributes\":{\"source\":{\"id\":\"16ddde0c-aff6-46bc-8688-db1c4db7e1a1\",\"type\":\"ColumnDataSource\"}},\"id\":\"0d32847d-0c3e-42fb-bef5-c0eec93d2314\",\"type\":\"CDSView\"},{\"attributes\":{\"fill_alpha\":{\"value\":0.7},\"fill_color\":{\"value\":\"#4daf4a\"},\"line_alpha\":{\"value\":0.7},\"line_color\":{\"value\":\"#4daf4a\"},\"x\":{\"field\":\"x\"},\"y\":{\"field\":\"y\"}},\"id\":\"9d866275-105d-4978-9db3-1e5e45a302c0\",\"type\":\"Circle\"},{\"attributes\":{\"line_alpha\":0.1,\"line_color\":\"#1f77b4\",\"line_width\":3,\"x\":{\"field\":\"x\"},\"y\":{\"field\":\"y\"}},\"id\":\"2b5be63d-6b6f-46d3-80e8-120686ff8c79\",\"type\":\"Line\"},{\"attributes\":{\"data_source\":{\"id\":\"16ddde0c-aff6-46bc-8688-db1c4db7e1a1\",\"type\":\"ColumnDataSource\"},\"glyph\":{\"id\":\"be70fd27-d884-44d5-8544-4e65097af240\",\"type\":\"Line\"},\"hover_glyph\":null,\"muted_glyph\":null,\"nonselection_glyph\":{\"id\":\"2b5be63d-6b6f-46d3-80e8-120686ff8c79\",\"type\":\"Line\"},\"selection_glyph\":null,\"view\":{\"id\":\"0d32847d-0c3e-42fb-bef5-c0eec93d2314\",\"type\":\"CDSView\"}},\"id\":\"08f8c1d8-cd4b-41f2-9076-f2ff7812c626\",\"type\":\"GlyphRenderer\"},{\"attributes\":{\"source\":{\"id\":\"2770240b-6aa7-468e-ab54-790087f036a2\",\"type\":\"ColumnDataSource\"}},\"id\":\"0de71050-ae70-42d6-a699-3623b77a07da\",\"type\":\"CDSView\"},{\"attributes\":{\"toolbar\":{\"id\":\"21a093fb-7f6e-4d4b-ab93-952be19e75fd\",\"type\":\"ProxyToolbar\"},\"toolbar_location\":\"above\"},\"id\":\"9db63be9-7f7e-4180-83f8-96ec08761ce9\",\"type\":\"ToolbarBox\"},{\"attributes\":{},\"id\":\"caf1d275-ed1c-4a88-866c-bfb0d2366534\",\"type\":\"LinearScale\"},{\"attributes\":{\"children\":[{\"id\":\"9db63be9-7f7e-4180-83f8-96ec08761ce9\",\"type\":\"ToolbarBox\"},{\"id\":\"3e9ec27d-c3b9-49af-9859-1de85ea529c2\",\"type\":\"Column\"}]},\"id\":\"493e1e2d-9474-464e-aa29-528b5bd5f8a2\",\"type\":\"Column\"},{\"attributes\":{\"callback\":null,\"column_names\":[\"x\",\"y\"],\"data\":{\"x\":{\"__ndarray__\":\"cWaorzQcsb8l2oZJE/Kwv7FmH+43lrC/B9zK6IEysL+FNjn885mvvzAm494Gz66/vrGLpiQUrr+xRIzY6VatvxXwB1wFf6y/wD8Woc+pq78cJwuEc/Gqv+pzD4IYW6q/bGI/uY6yqb/OjYzQKvWovyYdqr9yEqW/cSVZ7tlFl78K41LYgnZrP3xvtR2J2aE/bE3C/YWWsj8O8eQ5yhO+P+WheFDY2cU/ybSo+zMDzT8Zc9TyQ+HOP+lWTJ9l5so/OuWNwkVNxT+EDAJgASy+P5lGX76G0rM/sJqMEbGeqD8dQnajDEWdP2YBcjGXZJE/Ok26uzsjhj+cb1T+3xd+P0IWHDYrvnE/ZL+H1MFAMj+4J8qceKOAv5s7VFOogpS/XnnaKz3knr+mA6wpFqWhv79V7Ev6iaG/17PTw4d3ob+wyewFRUChvwBao3g236C/QKuG+vxWoL/8212BOFafv4ai5mknvp2/5pDcPtjqm78Sg8e3GOGZv14rJhnuoZe/JH7DcTculb9MVIwSh4aSv5K1S67mVY+/xfRZ7uAxib+DZ/bu8Z2Cv1D+J44ML3e/e8cmbHY/YL+uj4khZPBfPz5mmzAlP3k/vJdoDB7phT+XAY7JMN+PP/EsBj1dPJU/OCrqEhqlmj+tIEnIW5ufP/3jIME6pqE/2qs7Rom0oj/oxOU/jk+jPwUlO+SVDKQ/6Mwn4L1epT8KhMMpeGynPxWRsiM6Eqo/AkB1kDwhrT/VlqB3o0CwP7SwuPEhGbI/wrG4WAwjtD+QprH53222P3D/NjBeGLk/\",\"dtype\":\"float64\",\"shape\":[75]},\"y\":{\"__ndarray__\":\"GhExyth1ND/Sv8nbtpRIP2vylNV0PVE/aTum7souWD/At0SJ8fVgPw3Iuahxymc/MSNhhJWvcD/bTfBN02d3P2zb5nxnaoA/CD5h5MAGhz8NmeH1TyaQP+zrCsc9p5Y/LbKd76fGnz/bLW5ISEmmPww9YvTcQq8/JV2OstnstT8Er5Y7M8G+P0c+r3jqkcU/5h99k6ZBzj88bCIzFzjVP4enV8oyxN0//yH99nXg5D8qOpLLf0jtP5kqGJXUifQ/c9cS8kHP/D+/DpwzojQEQIEmwoanVwxA4lgXt9HgE0BSSZ2AJuIbQAMJih9jjiNA5q4l5INuK0AwTKYKRj0zQNv5fmq8/DpAaCJseHrtQkB/+zpwzoxKQM3MzMzMeFJAZmZmZmZqWEAAAAAAAFxeQM3MzMzMJmJAmpmZmZkfZUBmZmZmZhhoQDMzMzMzEWtAAAAAAAAKbkBmZmZmZoFwQM3MzMzM/XFAMzMzMzN6c0CamZmZmfZ0QAAAAAAAc3ZAZmZmZmbvd0DNzMzMzGt5QDMzMzMz6HpAmpmZmZlkfEAAAAAAAOF9QGZmZmZmXX9AZmZmZuZsgECamZmZGSuBQM3MzMxM6YFAAAAAAICngkAzMzMzs2WDQGZmZmbmI4RAmpmZmRnihEDNzMzMTKCFQAAAAACAXoZAMzMzM7Mch0BmZmZm5tqHQJqZmZkZmYhAzczMzExXiUAAAAAAgBWKQDMzMzOz04pAZmZmZuaRi0CamZmZGVCMQM3MzMxMDo1AAAAAAIDMjUAzMzMzs4qOQGZmZmbmSI9A\",\"dtype\":\"float64\",\"shape\":[75]}}},\"id\":\"2770240b-6aa7-468e-ab54-790087f036a2\",\"type\":\"ColumnDataSource\"},{\"attributes\":{\"callback\":null,\"column_names\":[\"x\",\"y\"],\"data\":{\"x\":{\"__ndarray__\":\"A91c0e3yt7/0R3Z3Lbm3vxDbJ5GOPLe/EmlOcEe+tr+ZLfbqJT62vzosbW7VwLW/AR5qPltFtb+hpq9KltG0vzFjkA8IYbS/5dce3O78s7/Y97PoNaezv74jn2GuaLO/MVITcBRIs7/kSZ1DwymzvxdP5BmZH7G/xYQk9ZZZp7+Pc8bwC8GPv3vUnBLJvZQ/I8nKNDzrrz/E8CrOxZ28P1iHaQDryMU/1+hqZaGhzT9M3I2yPBfPP7ZKjyqz1sk/GoVmz0xNwz+6OSW4Qmy5P9kMVOyGcq8/qIrhnnJCoz/bsM569jGYP6H3eoK6BJA/j6EDlWj+hT8/piHhdaF8PxieAEoIvWs/hpi/X3asQL8lOUaVzVN/v9qK5MhW2ZG/nwF+WDJxmr8TXJMLISmev+I9WN0i5J2/BGm8MHYbnr/p2iu08hmev5Y2vCPaw52/8ZR1AhEXnb9tpvatzBecv/kmZB8Yy5q/jT2pZj42mb+bgogW0V2Xv76y9mqMRZW/FvZCbnfwkr8CwxX371+Qv/Otd84CLIu/UZNiReIlhb/0BarHwVp9v5nvUVjR+m6/4pI1MEe6JL9sKnxO4nluP3kAqHZPJIA/EIJ3uj9TiT/zqDBqgp6RP3O0f6XA8JY/SaONGWRvnD/OwcFLYb+gP835meLAl6I/1aqVvTCPoz8iMw1GyQSkP70Dkmmam6Q/+EZWeWDSpT8gcrsWe8+nPyO4SNyOaao/ERycKg1srT8ut/3wyF+wP2wsoNHPNLI/VnJ2tG9DtD8+q2wiqqW2P0XdIL1Vlbk/\",\"dtype\":\"float64\",\"shape\":[75]},\"y\":{\"__ndarray__\":\"GhExyth1ND/Sv8nbtpRIP2vylNV0PVE/aTum7souWD/At0SJ8fVgPw3Iuahxymc/MSNhhJWvcD/bTfBN02d3P2zb5nxnaoA/CD5h5MAGhz8NmeH1TyaQP+zrCsc9p5Y/LbKd76fGnz/bLW5ISEmmPww9YvTcQq8/JV2OstnstT8Er5Y7M8G+P0c+r3jqkcU/5h99k6ZBzj88bCIzFzjVP4enV8oyxN0//yH99nXg5D8qOpLLf0jtP5kqGJXUifQ/c9cS8kHP/D+/DpwzojQEQIEmwoanVwxA4lgXt9HgE0BSSZ2AJuIbQAMJih9jjiNA5q4l5INuK0AwTKYKRj0zQNv5fmq8/DpAaCJseHrtQkB/+zpwzoxKQM3MzMzMeFJAZmZmZmZqWEAAAAAAAFxeQM3MzMzMJmJAmpmZmZkfZUBmZmZmZhhoQDMzMzMzEWtAAAAAAAAKbkBmZmZmZoFwQM3MzMzM/XFAMzMzMzN6c0CamZmZmfZ0QAAAAAAAc3ZAZmZmZmbvd0DNzMzMzGt5QDMzMzMz6HpAmpmZmZlkfEAAAAAAAOF9QGZmZmZmXX9AZmZmZuZsgECamZmZGSuBQM3MzMxM6YFAAAAAAICngkAzMzMzs2WDQGZmZmbmI4RAmpmZmRnihEDNzMzMTKCFQAAAAACAXoZAMzMzM7Mch0BmZmZm5tqHQJqZmZkZmYhAzczMzExXiUAAAAAAgBWKQDMzMzOz04pAZmZmZuaRi0CamZmZGVCMQM3MzMxMDo1AAAAAAIDMjUAzMzMzs4qOQGZmZmbmSI9A\",\"dtype\":\"float64\",\"shape\":[75]}}},\"id\":\"cd3ec543-8ff6-45b1-905a-f4e47309cfdb\",\"type\":\"ColumnDataSource\"},{\"attributes\":{\"callback\":null,\"column_names\":[\"x\",\"y\"],\"data\":{\"x\":{\"__ndarray__\":\"A91c0e3yt7/0R3Z3Lbm3vxDbJ5GOPLe/EmlOcEe+tr+ZLfbqJT62vzosbW7VwLW/AR5qPltFtb+hpq9KltG0vzFjkA8IYbS/5dce3O78s7/Y97PoNaezv74jn2GuaLO/MVITcBRIs7/kSZ1DwymzvxdP5BmZH7G/xYQk9ZZZp7+Pc8bwC8GPv3vUnBLJvZQ/I8nKNDzrrz/E8CrOxZ28P1iHaQDryMU/1+hqZaGhzT9M3I2yPBfPP7ZKjyqz1sk/GoVmz0xNwz+6OSW4Qmy5P9kMVOyGcq8/qIrhnnJCoz/bsM569jGYP6H3eoK6BJA/j6EDlWj+hT8/piHhdaF8PxieAEoIvWs/hpi/X3asQL8lOUaVzVN/v9qK5MhW2ZG/nwF+WDJxmr8TXJMLISmev+I9WN0i5J2/BGm8MHYbnr/p2iu08hmev5Y2vCPaw52/8ZR1AhEXnb9tpvatzBecv/kmZB8Yy5q/jT2pZj42mb+bgogW0V2Xv76y9mqMRZW/FvZCbnfwkr8CwxX371+Qv/Otd84CLIu/UZNiReIlhb/0BarHwVp9v5nvUVjR+m6/4pI1MEe6JL9sKnxO4nluP3kAqHZPJIA/EIJ3uj9TiT/zqDBqgp6RP3O0f6XA8JY/SaONGWRvnD/OwcFLYb+gP835meLAl6I/1aqVvTCPoz8iMw1GyQSkP70Dkmmam6Q/+EZWeWDSpT8gcrsWe8+nPyO4SNyOaao/ERycKg1srT8ut/3wyF+wP2wsoNHPNLI/VnJ2tG9DtD8+q2wiqqW2P0XdIL1Vlbk/\",\"dtype\":\"float64\",\"shape\":[75]},\"y\":{\"__ndarray__\":\"GhExyth1ND/Sv8nbtpRIP2vylNV0PVE/aTum7souWD/At0SJ8fVgPw3Iuahxymc/MSNhhJWvcD/bTfBN02d3P2zb5nxnaoA/CD5h5MAGhz8NmeH1TyaQP+zrCsc9p5Y/LbKd76fGnz/bLW5ISEmmPww9YvTcQq8/JV2OstnstT8Er5Y7M8G+P0c+r3jqkcU/5h99k6ZBzj88bCIzFzjVP4enV8oyxN0//yH99nXg5D8qOpLLf0jtP5kqGJXUifQ/c9cS8kHP/D+/DpwzojQEQIEmwoanVwxA4lgXt9HgE0BSSZ2AJuIbQAMJih9jjiNA5q4l5INuK0AwTKYKRj0zQNv5fmq8/DpAaCJseHrtQkB/+zpwzoxKQM3MzMzMeFJAZmZmZmZqWEAAAAAAAFxeQM3MzMzMJmJAmpmZmZkfZUBmZmZmZhhoQDMzMzMzEWtAAAAAAAAKbkBmZmZmZoFwQM3MzMzM/XFAMzMzMzN6c0CamZmZmfZ0QAAAAAAAc3ZAZmZmZmbvd0DNzMzMzGt5QDMzMzMz6HpAmpmZmZlkfEAAAAAAAOF9QGZmZmZmXX9AZmZmZuZsgECamZmZGSuBQM3MzMxM6YFAAAAAAICngkAzMzMzs2WDQGZmZmbmI4RAmpmZmRnihEDNzMzMTKCFQAAAAACAXoZAMzMzM7Mch0BmZmZm5tqHQJqZmZkZmYhAzczMzExXiUAAAAAAgBWKQDMzMzOz04pAZmZmZuaRi0CamZmZGVCMQM3MzMxMDo1AAAAAAIDMjUAzMzMzs4qOQGZmZmbmSI9A\",\"dtype\":\"float64\",\"shape\":[75]}}},\"id\":\"5291e358-82de-4939-9ecb-bd8c83f65860\",\"type\":\"ColumnDataSource\"},{\"attributes\":{\"callback\":null,\"end\":0.10127889555599999,\"start\":-0.035806611156},\"id\":\"9086e5ff-3963-4966-b472-4b33e7f9dd96\",\"type\":\"Range1d\"},{\"attributes\":{\"source\":{\"id\":\"27c92063-1a14-45ad-87ec-f3a638748cd0\",\"type\":\"ColumnDataSource\"}},\"id\":\"74f7c13c-6179-44cb-b764-198dcc88f897\",\"type\":\"CDSView\"},{\"attributes\":{\"line_alpha\":0.6,\"line_color\":\"#e41a1c\",\"line_dash\":[6],\"line_width\":5,\"x\":{\"field\":\"x\"},\"y\":{\"field\":\"y\"}},\"id\":\"6f794a51-5572-434d-88c7-59ecbf926581\",\"type\":\"Line\"},{\"attributes\":{},\"id\":\"1f0713b6-7d80-4056-a157-c46c27cbb593\",\"type\":\"BasicTickFormatter\"},{\"attributes\":{\"source\":{\"id\":\"52c1849e-2003-4944-9ec1-feea7e99e8d0\",\"type\":\"ColumnDataSource\"}},\"id\":\"8c390cc9-cf7f-4edb-a5cc-84375467fb4d\",\"type\":\"CDSView\"},{\"attributes\":{\"data_source\":{\"id\":\"52c1849e-2003-4944-9ec1-feea7e99e8d0\",\"type\":\"ColumnDataSource\"},\"glyph\":{\"id\":\"5c97c870-689a-45b5-933b-eada6433c86d\",\"type\":\"Line\"},\"hover_glyph\":null,\"muted_glyph\":null,\"nonselection_glyph\":{\"id\":\"c8318719-5357-476e-818c-7660e13a9b6e\",\"type\":\"Line\"},\"selection_glyph\":null,\"view\":{\"id\":\"8c390cc9-cf7f-4edb-a5cc-84375467fb4d\",\"type\":\"CDSView\"}},\"id\":\"30dc7db7-993c-441f-b45e-1fcd1ee130e8\",\"type\":\"GlyphRenderer\"},{\"attributes\":{\"ticker\":null},\"id\":\"25195147-797b-43ed-a2de-56f8826409ab\",\"type\":\"LogTickFormatter\"},{\"attributes\":{\"overlay\":{\"id\":\"e4b3d66f-2a61-4499-9b55-68ee39ad316a\",\"type\":\"BoxAnnotation\"}},\"id\":\"2c3364f7-ae3d-46fa-8e2b-e7b50d0ec341\",\"type\":\"BoxZoomTool\"},{\"attributes\":{\"overlay\":{\"id\":\"296f0d32-1bfe-46e1-8ae7-a08bdb26450b\",\"type\":\"BoxAnnotation\"}},\"id\":\"7c27f711-d02a-43b9-8abf-9fec8b05aa7f\",\"type\":\"BoxZoomTool\"},{\"attributes\":{},\"id\":\"89c80b14-88be-4c3e-903b-e1cb10265249\",\"type\":\"HelpTool\"},{\"attributes\":{},\"id\":\"10b5f371-6049-4b5a-b503-e19e20bff330\",\"type\":\"SaveTool\"},{\"attributes\":{\"below\":[{\"id\":\"17fdf0f0-1ff1-410a-8e3f-f8e886d74da3\",\"type\":\"LinearAxis\"}],\"left\":[{\"id\":\"ca92a627-7ea0-4e7b-b0fa-99ab74adbe98\",\"type\":\"LinearAxis\"}],\"plot_height\":500,\"plot_width\":400,\"renderers\":[{\"id\":\"17fdf0f0-1ff1-410a-8e3f-f8e886d74da3\",\"type\":\"LinearAxis\"},{\"id\":\"7aef6629-d23a-43b1-85df-7ecff5fff211\",\"type\":\"Grid\"},{\"id\":\"ca92a627-7ea0-4e7b-b0fa-99ab74adbe98\",\"type\":\"LinearAxis\"},{\"id\":\"0f0c4a66-72ef-433d-9cc9-3c448f3ad3a6\",\"type\":\"Grid\"},{\"id\":\"296f0d32-1bfe-46e1-8ae7-a08bdb26450b\",\"type\":\"BoxAnnotation\"},{\"id\":\"f01d14f7-7846-45c1-a23b-edfe05678de0\",\"type\":\"GlyphRenderer\"},{\"id\":\"ceb45370-e549-4aa9-8318-3aaebb7f0d70\",\"type\":\"GlyphRenderer\"},{\"id\":\"12bcacbc-cef9-45a6-8060-116768ba8646\",\"type\":\"GlyphRenderer\"},{\"id\":\"d39fc6dc-155f-4e70-bcde-3e57f476cfe4\",\"type\":\"GlyphRenderer\"},{\"id\":\"21645406-7e17-4413-8b6b-6a703092de31\",\"type\":\"GlyphRenderer\"}],\"title\":{\"id\":\"66405267-b56f-49f3-932c-83bf16713782\",\"type\":\"Title\"},\"toolbar\":{\"id\":\"2c11d342-4d6c-40a9-b082-31b97f053a73\",\"type\":\"Toolbar\"},\"toolbar_location\":null,\"x_range\":{\"id\":\"9086e5ff-3963-4966-b472-4b33e7f9dd96\",\"type\":\"Range1d\"},\"x_scale\":{\"id\":\"51fbe2c2-f46f-4470-b0b8-c069068a463e\",\"type\":\"LinearScale\"},\"y_range\":{\"id\":\"649d98dd-02d1-40d4-87d1-5e5b330dad73\",\"type\":\"Range1d\"},\"y_scale\":{\"id\":\"d34cd837-9564-47cf-adb4-b6c76ba145e4\",\"type\":\"LinearScale\"}},\"id\":\"797d414a-aced-4b8f-b6bc-cc537927e67d\",\"subtype\":\"Figure\",\"type\":\"Plot\"},{\"attributes\":{},\"id\":\"d78184ad-c75c-4dd0-bbce-295550bdc958\",\"type\":\"ResetTool\"},{\"attributes\":{\"source\":{\"id\":\"5291e358-82de-4939-9ecb-bd8c83f65860\",\"type\":\"ColumnDataSource\"}},\"id\":\"dafb1ace-9ee4-4d11-9e01-2a5dba2fd0f0\",\"type\":\"CDSView\"},{\"attributes\":{\"source\":{\"id\":\"8024438e-ab99-453f-af2d-e38c1de84915\",\"type\":\"ColumnDataSource\"}},\"id\":\"87a706f8-33e4-4152-bb39-e09c2486f24a\",\"type\":\"CDSView\"},{\"attributes\":{\"children\":[{\"id\":\"797d414a-aced-4b8f-b6bc-cc537927e67d\",\"subtype\":\"Figure\",\"type\":\"Plot\"},{\"id\":\"ba15d5fe-27eb-4f1b-95c6-808370c53747\",\"subtype\":\"Figure\",\"type\":\"Plot\"}]},\"id\":\"d7df8ecf-b13c-4516-a32c-cb64de083553\",\"type\":\"Row\"},{\"attributes\":{},\"id\":\"0c855216-6ee2-4237-bc3c-fac24f6cff8c\",\"type\":\"HelpTool\"},{\"attributes\":{\"callback\":null,\"column_names\":[\"x\",\"y\"],\"data\":{\"x\":{\"__ndarray__\":\"ONBaCZGXq7//3qhAJkyrv0BPehTrqqq/QGLD7MgFqr+xKR3NDV2pvyaxZ3llsai/tJJ3iiwEqL+I4V0N1FKnv9CD8KVGoaa/0+WzjVbtpb8iGAeXjjmlv7E3reuCh6S/J54Rd4XWo7+0ZWhYZvOiv96o795Mqp6/bAPsrcXKi783L8lnC6aDP2aPc0K4Z6M/4rdgKq91sj/RenT6rPi8P6U4P6zUv8Q/OE6Gunpbyz/Z6pNYKW/NP0X//KXiUso/pSmn4mt0xT/nH5YwR02/PxoNL3Rk5rQ/z16rdN+AqT/PhLQzPUKcP18m4JBzho0/2H0MfBrugD8c2p4di413P0yN8LiYxm4/2ahocUN8ND97V3Hkqdl/vzCZ1Bfc65O/waoD6/sanr/VE4Hd9UGhv/lFxdwOPaG/3GCC/Gcrob9rGvW/Re+gv9HPS/q4jKC/IuY+q1/4n7++FGUJR52evyUIXPlaB52/byqFUhEtm7/yQxKuYTWZv9WDwbb3CZe/vwHDeCGrlL90nJloqR+Svx46mKg51I6/V3O9w6b7iL/M5oGxPbiCvw8CrL4M4He/Yu/UizkCY78WDasWHl1YPxUcHj4J5XY/s8v5Wn59hD+NjHC7GTOOP5NaLVJWQ5Q/55z4moCHmT+xOE2zAVeeP2DKu0hz9KA/kdwb9XD/oT9gsIOZopuiP5r8okYZWKM/dFhy+TWwpD9AWvyj+MOmP3KQXHNRcak/7rRb6bqSrD/hx38e9gSwP4Gy4oHs6LE/isvabs79sz/1Y0duQ0i2Pxl2QxNb07g/\",\"dtype\":\"float64\",\"shape\":[75]},\"y\":{\"__ndarray__\":\"S/O/Q+51ND/Sv8nbtpRIP2vylNV0PVE/aTum7souWD/At0SJ8fVgPw3Iuahxymc/MSNhhJWvcD/bTfBN02d3P2zb5nxnaoA/CD5h5MAGhz8NmeH1TyaQP+zrCsc9p5Y/LbKd76fGnz/bLW5ISEmmPww9YvTcQq8/JV2OstnstT8Er5Y7M8G+P0c+r3jqkcU/5h99k6ZBzj88bCIzFzjVP4enV8oyxN0//yH99nXg5D8qOpLLf0jtP5kqGJXUifQ/c9cS8kHP/D+/DpwzojQEQIEmwoanVwxA4lgXt9HgE0BSSZ2AJuIbQAMJih9jjiNA5q4l5INuK0AwTKYKRj0zQNv5fmq8/DpAaCJseHrtQkB/+zpwzoxKQM3MzMzMeFJAZmZmZmZqWEAAAAAAAFxeQM3MzMzMJmJAmpmZmZkfZUBmZmZmZhhoQDMzMzMzEWtAAAAAAAAKbkBmZmZmZoFwQM3MzMzM/XFAMzMzMzN6c0CamZmZmfZ0QAAAAAAAc3ZAZmZmZmbvd0DNzMzMzGt5QDMzMzMz6HpAmpmZmZlkfEAAAAAAAOF9QGZmZmZmXX9AZmZmZuZsgECamZmZGSuBQM3MzMxM6YFAAAAAAICngkAzMzMzs2WDQGZmZmbmI4RAmpmZmRnihEDNzMzMTKCFQAAAAACAXoZAMzMzM7Mch0BmZmZm5tqHQJqZmZkZmYhAzczMzExXiUAAAAAAgBWKQDMzMzOz04pAZmZmZuaRi0CamZmZGVCMQM3MzMxMDo1AAAAAAIDMjUAzMzMzs4qOQGZmZmbmSI9A\",\"dtype\":\"float64\",\"shape\":[75]}}},\"id\":\"8024438e-ab99-453f-af2d-e38c1de84915\",\"type\":\"ColumnDataSource\"},{\"attributes\":{\"bottom_units\":\"screen\",\"fill_alpha\":{\"value\":0.5},\"fill_color\":{\"value\":\"lightgrey\"},\"left_units\":\"screen\",\"level\":\"overlay\",\"line_alpha\":{\"value\":1.0},\"line_color\":{\"value\":\"black\"},\"line_dash\":[4,4],\"line_width\":{\"value\":2},\"plot\":null,\"render_mode\":\"css\",\"right_units\":\"screen\",\"top_units\":\"screen\"},\"id\":\"e4b3d66f-2a61-4499-9b55-68ee39ad316a\",\"type\":\"BoxAnnotation\"},{\"attributes\":{\"callback\":null,\"column_names\":[\"x\",\"y\"],\"data\":{\"x\":{\"__ndarray__\":\"cWaorzQcsb8l2oZJE/Kwv7FmH+43lrC/B9zK6IEysL+FNjn885mvvzAm494Gz66/vrGLpiQUrr+xRIzY6VatvxXwB1wFf6y/wD8Woc+pq78cJwuEc/Gqv+pzD4IYW6q/bGI/uY6yqb/OjYzQKvWovyYdqr9yEqW/cSVZ7tlFl78K41LYgnZrP3xvtR2J2aE/bE3C/YWWsj8O8eQ5yhO+P+WheFDY2cU/ybSo+zMDzT8Zc9TyQ+HOP+lWTJ9l5so/OuWNwkVNxT+EDAJgASy+P5lGX76G0rM/sJqMEbGeqD8dQnajDEWdP2YBcjGXZJE/Ok26uzsjhj+cb1T+3xd+P0IWHDYrvnE/ZL+H1MFAMj+4J8qceKOAv5s7VFOogpS/XnnaKz3knr+mA6wpFqWhv79V7Ev6iaG/17PTw4d3ob+wyewFRUChvwBao3g236C/QKuG+vxWoL/8212BOFafv4ai5mknvp2/5pDcPtjqm78Sg8e3GOGZv14rJhnuoZe/JH7DcTculb9MVIwSh4aSv5K1S67mVY+/xfRZ7uAxib+DZ/bu8Z2Cv1D+J44ML3e/e8cmbHY/YL+uj4khZPBfPz5mmzAlP3k/vJdoDB7phT+XAY7JMN+PP/EsBj1dPJU/OCrqEhqlmj+tIEnIW5ufP/3jIME6pqE/2qs7Rom0oj/oxOU/jk+jPwUlO+SVDKQ/6Mwn4L1epT8KhMMpeGynPxWRsiM6Eqo/AkB1kDwhrT/VlqB3o0CwP7SwuPEhGbI/wrG4WAwjtD+QprH53222P3D/NjBeGLk/\",\"dtype\":\"float64\",\"shape\":[75]},\"y\":{\"__ndarray__\":\"GhExyth1ND/Sv8nbtpRIP2vylNV0PVE/aTum7souWD/At0SJ8fVgPw3Iuahxymc/MSNhhJWvcD/bTfBN02d3P2zb5nxnaoA/CD5h5MAGhz8NmeH1TyaQP+zrCsc9p5Y/LbKd76fGnz/bLW5ISEmmPww9YvTcQq8/JV2OstnstT8Er5Y7M8G+P0c+r3jqkcU/5h99k6ZBzj88bCIzFzjVP4enV8oyxN0//yH99nXg5D8qOpLLf0jtP5kqGJXUifQ/c9cS8kHP/D+/DpwzojQEQIEmwoanVwxA4lgXt9HgE0BSSZ2AJuIbQAMJih9jjiNA5q4l5INuK0AwTKYKRj0zQNv5fmq8/DpAaCJseHrtQkB/+zpwzoxKQM3MzMzMeFJAZmZmZmZqWEAAAAAAAFxeQM3MzMzMJmJAmpmZmZkfZUBmZmZmZhhoQDMzMzMzEWtAAAAAAAAKbkBmZmZmZoFwQM3MzMzM/XFAMzMzMzN6c0CamZmZmfZ0QAAAAAAAc3ZAZmZmZmbvd0DNzMzMzGt5QDMzMzMz6HpAmpmZmZlkfEAAAAAAAOF9QGZmZmZmXX9AZmZmZuZsgECamZmZGSuBQM3MzMxM6YFAAAAAAICngkAzMzMzs2WDQGZmZmbmI4RAmpmZmRnihEDNzMzMTKCFQAAAAACAXoZAMzMzM7Mch0BmZmZm5tqHQJqZmZkZmYhAzczMzExXiUAAAAAAgBWKQDMzMzOz04pAZmZmZuaRi0CamZmZGVCMQM3MzMxMDo1AAAAAAIDMjUAzMzMzs4qOQGZmZmbmSI9A\",\"dtype\":\"float64\",\"shape\":[75]}}},\"id\":\"27c92063-1a14-45ad-87ec-f3a638748cd0\",\"type\":\"ColumnDataSource\"},{\"attributes\":{},\"id\":\"c433f738-c308-4b78-aec0-fd62b3261c87\",\"type\":\"ResetTool\"},{\"attributes\":{\"line_color\":\"#4daf4a\",\"line_width\":1.5,\"x\":{\"field\":\"x\"},\"y\":{\"field\":\"y\"}},\"id\":\"eb5df760-8221-4aa6-9329-cfdf2447fa04\",\"type\":\"Line\"},{\"attributes\":{\"callback\":null,\"end\":0.01,\"start\":1020},\"id\":\"649d98dd-02d1-40d4-87d1-5e5b330dad73\",\"type\":\"Range1d\"},{\"attributes\":{\"children\":[{\"id\":\"d7df8ecf-b13c-4516-a32c-cb64de083553\",\"type\":\"Row\"}]},\"id\":\"3e9ec27d-c3b9-49af-9859-1de85ea529c2\",\"type\":\"Column\"},{\"attributes\":{},\"id\":\"0d86047f-415e-4b78-9375-219ba7874254\",\"type\":\"BasicTicker\"},{\"attributes\":{\"fill_alpha\":{\"value\":0.7},\"fill_color\":{\"value\":\"#984ea3\"},\"line_alpha\":{\"value\":0.7},\"line_color\":{\"value\":\"#984ea3\"},\"x\":{\"field\":\"x\"},\"y\":{\"field\":\"y\"}},\"id\":\"c2c96127-6fef-4d6d-a03a-2aeeebd13e91\",\"type\":\"Square\"},{\"attributes\":{},\"id\":\"51fbe2c2-f46f-4470-b0b8-c069068a463e\",\"type\":\"LinearScale\"},{\"attributes\":{},\"id\":\"702b93e7-0c1e-438d-8ad2-acf37505bcb9\",\"type\":\"SaveTool\"},{\"attributes\":{},\"id\":\"d34cd837-9564-47cf-adb4-b6c76ba145e4\",\"type\":\"LinearScale\"},{\"attributes\":{\"line_alpha\":0.6,\"line_color\":\"#e41a1c\",\"line_dash\":[6],\"line_width\":5,\"x\":{\"field\":\"x\"},\"y\":{\"field\":\"y\"}},\"id\":\"5c97c870-689a-45b5-933b-eada6433c86d\",\"type\":\"Line\"},{\"attributes\":{\"axis_label\":\"cooling rate [K/day]\",\"formatter\":{\"id\":\"d566f30b-6e83-489f-8114-bb6a895fd860\",\"type\":\"BasicTickFormatter\"},\"plot\":{\"id\":\"797d414a-aced-4b8f-b6bc-cc537927e67d\",\"subtype\":\"Figure\",\"type\":\"Plot\"},\"ticker\":{\"id\":\"8966962d-4a1a-4b71-8d5d-0d4c99083e72\",\"type\":\"BasicTicker\"}},\"id\":\"17fdf0f0-1ff1-410a-8e3f-f8e886d74da3\",\"type\":\"LinearAxis\"},{\"attributes\":{\"axis_label\":\"pressure [mb]\",\"formatter\":{\"id\":\"25195147-797b-43ed-a2de-56f8826409ab\",\"type\":\"LogTickFormatter\"},\"plot\":{\"id\":\"ba15d5fe-27eb-4f1b-95c6-808370c53747\",\"subtype\":\"Figure\",\"type\":\"Plot\"},\"ticker\":{\"id\":\"1b971ba3-b696-4ff6-8851-66fa34f888ce\",\"type\":\"LogTicker\"}},\"id\":\"6c6ade10-f9a1-42f1-ab00-6f40d510576f\",\"type\":\"LogAxis\"},{\"attributes\":{\"line_alpha\":0.1,\"line_color\":\"#1f77b4\",\"line_width\":1.5,\"x\":{\"field\":\"x\"},\"y\":{\"field\":\"y\"}},\"id\":\"6a26093b-0d99-4fd0-8bd7-3e6b173bab38\",\"type\":\"Line\"},{\"attributes\":{\"label\":{\"value\":\"CLIRAD `coolr_bands`\"},\"renderers\":[{\"id\":\"30dc7db7-993c-441f-b45e-1fcd1ee130e8\",\"type\":\"GlyphRenderer\"}]},\"id\":\"503d12ac-7357-4583-a223-773f652e9378\",\"type\":\"LegendItem\"},{\"attributes\":{},\"id\":\"8966962d-4a1a-4b71-8d5d-0d4c99083e72\",\"type\":\"BasicTicker\"},{\"attributes\":{\"axis_label\":\"pressure [mb]\",\"formatter\":{\"id\":\"1f0713b6-7d80-4056-a157-c46c27cbb593\",\"type\":\"BasicTickFormatter\"},\"plot\":{\"id\":\"797d414a-aced-4b8f-b6bc-cc537927e67d\",\"subtype\":\"Figure\",\"type\":\"Plot\"},\"ticker\":{\"id\":\"0d86047f-415e-4b78-9375-219ba7874254\",\"type\":\"BasicTicker\"}},\"id\":\"ca92a627-7ea0-4e7b-b0fa-99ab74adbe98\",\"type\":\"LinearAxis\"},{\"attributes\":{\"dimension\":1,\"plot\":{\"id\":\"797d414a-aced-4b8f-b6bc-cc537927e67d\",\"subtype\":\"Figure\",\"type\":\"Plot\"},\"ticker\":{\"id\":\"0d86047f-415e-4b78-9375-219ba7874254\",\"type\":\"BasicTicker\"}},\"id\":\"0f0c4a66-72ef-433d-9cc9-3c448f3ad3a6\",\"type\":\"Grid\"},{\"attributes\":{\"line_alpha\":0.1,\"line_color\":\"#1f77b4\",\"line_dash\":[6],\"line_width\":5,\"x\":{\"field\":\"x\"},\"y\":{\"field\":\"y\"}},\"id\":\"447c55f1-c099-418e-8f22-957016d57ae5\",\"type\":\"Line\"},{\"attributes\":{\"active_drag\":\"auto\",\"active_inspect\":\"auto\",\"active_scroll\":\"auto\",\"active_tap\":\"auto\",\"tools\":[{\"id\":\"7b557a93-28cb-4961-bdce-8524f0b4353c\",\"type\":\"PanTool\"},{\"id\":\"4ad1ccf3-a022-43f3-8d44-d3141e73859d\",\"type\":\"WheelZoomTool\"},{\"id\":\"7c27f711-d02a-43b9-8abf-9fec8b05aa7f\",\"type\":\"BoxZoomTool\"},{\"id\":\"10b5f371-6049-4b5a-b503-e19e20bff330\",\"type\":\"SaveTool\"},{\"id\":\"d78184ad-c75c-4dd0-bbce-295550bdc958\",\"type\":\"ResetTool\"},{\"id\":\"89c80b14-88be-4c3e-903b-e1cb10265249\",\"type\":\"HelpTool\"}]},\"id\":\"2c11d342-4d6c-40a9-b082-31b97f053a73\",\"type\":\"Toolbar\"},{\"attributes\":{\"num_minor_ticks\":10},\"id\":\"1b971ba3-b696-4ff6-8851-66fa34f888ce\",\"type\":\"LogTicker\"},{\"attributes\":{\"plot\":null,\"text\":\"Linear pressure scale\"},\"id\":\"66405267-b56f-49f3-932c-83bf16713782\",\"type\":\"Title\"},{\"attributes\":{\"source\":{\"id\":\"cd3ec543-8ff6-45b1-905a-f4e47309cfdb\",\"type\":\"ColumnDataSource\"}},\"id\":\"4af2fba6-c61b-4777-a8a0-29255d55ea3b\",\"type\":\"CDSView\"},{\"attributes\":{\"data_source\":{\"id\":\"5291e358-82de-4939-9ecb-bd8c83f65860\",\"type\":\"ColumnDataSource\"},\"glyph\":{\"id\":\"eb5df760-8221-4aa6-9329-cfdf2447fa04\",\"type\":\"Line\"},\"hover_glyph\":null,\"muted_glyph\":null,\"nonselection_glyph\":{\"id\":\"6a26093b-0d99-4fd0-8bd7-3e6b173bab38\",\"type\":\"Line\"},\"selection_glyph\":null,\"view\":{\"id\":\"dafb1ace-9ee4-4d11-9e01-2a5dba2fd0f0\",\"type\":\"CDSView\"}},\"id\":\"12bcacbc-cef9-45a6-8060-116768ba8646\",\"type\":\"GlyphRenderer\"},{\"attributes\":{\"callback\":null,\"column_names\":[\"x\",\"y\"],\"data\":{\"x\":{\"__ndarray__\":\"ONBaCZGXq7//3qhAJkyrv0BPehTrqqq/QGLD7MgFqr+xKR3NDV2pvyaxZ3llsai/tJJ3iiwEqL+I4V0N1FKnv9CD8KVGoaa/0+WzjVbtpb8iGAeXjjmlv7E3reuCh6S/J54Rd4XWo7+0ZWhYZvOiv96o795Mqp6/bAPsrcXKi783L8lnC6aDP2aPc0K4Z6M/4rdgKq91sj/RenT6rPi8P6U4P6zUv8Q/OE6Gunpbyz/Z6pNYKW/NP0X//KXiUso/pSmn4mt0xT/nH5YwR02/PxoNL3Rk5rQ/z16rdN+AqT/PhLQzPUKcP18m4JBzho0/2H0MfBrugD8c2p4di413P0yN8LiYxm4/2ahocUN8ND97V3Hkqdl/vzCZ1Bfc65O/waoD6/sanr/VE4Hd9UGhv/lFxdwOPaG/3GCC/Gcrob9rGvW/Re+gv9HPS/q4jKC/IuY+q1/4n7++FGUJR52evyUIXPlaB52/byqFUhEtm7/yQxKuYTWZv9WDwbb3CZe/vwHDeCGrlL90nJloqR+Svx46mKg51I6/V3O9w6b7iL/M5oGxPbiCvw8CrL4M4He/Yu/UizkCY78WDasWHl1YPxUcHj4J5XY/s8v5Wn59hD+NjHC7GTOOP5NaLVJWQ5Q/55z4moCHmT+xOE2zAVeeP2DKu0hz9KA/kdwb9XD/oT9gsIOZopuiP5r8okYZWKM/dFhy+TWwpD9AWvyj+MOmP3KQXHNRcak/7rRb6bqSrD/hx38e9gSwP4Gy4oHs6LE/isvabs79sz/1Y0duQ0i2Pxl2QxNb07g/\",\"dtype\":\"float64\",\"shape\":[75]},\"y\":{\"__ndarray__\":\"S/O/Q+51ND/Sv8nbtpRIP2vylNV0PVE/aTum7souWD/At0SJ8fVgPw3Iuahxymc/MSNhhJWvcD/bTfBN02d3P2zb5nxnaoA/CD5h5MAGhz8NmeH1TyaQP+zrCsc9p5Y/LbKd76fGnz/bLW5ISEmmPww9YvTcQq8/JV2OstnstT8Er5Y7M8G+P0c+r3jqkcU/5h99k6ZBzj88bCIzFzjVP4enV8oyxN0//yH99nXg5D8qOpLLf0jtP5kqGJXUifQ/c9cS8kHP/D+/DpwzojQEQIEmwoanVwxA4lgXt9HgE0BSSZ2AJuIbQAMJih9jjiNA5q4l5INuK0AwTKYKRj0zQNv5fmq8/DpAaCJseHrtQkB/+zpwzoxKQM3MzMzMeFJAZmZmZmZqWEAAAAAAAFxeQM3MzMzMJmJAmpmZmZkfZUBmZmZmZhhoQDMzMzMzEWtAAAAAAAAKbkBmZmZmZoFwQM3MzMzM/XFAMzMzMzN6c0CamZmZmfZ0QAAAAAAAc3ZAZmZmZmbvd0DNzMzMzGt5QDMzMzMz6HpAmpmZmZlkfEAAAAAAAOF9QGZmZmZmXX9AZmZmZuZsgECamZmZGSuBQM3MzMxM6YFAAAAAAICngkAzMzMzs2WDQGZmZmbmI4RAmpmZmRnihEDNzMzMTKCFQAAAAACAXoZAMzMzM7Mch0BmZmZm5tqHQJqZmZkZmYhAzczMzExXiUAAAAAAgBWKQDMzMzOz04pAZmZmZuaRi0CamZmZGVCMQM3MzMxMDo1AAAAAAIDMjUAzMzMzs4qOQGZmZmbmSI9A\",\"dtype\":\"float64\",\"shape\":[75]}}},\"id\":\"52c1849e-2003-4944-9ec1-feea7e99e8d0\",\"type\":\"ColumnDataSource\"},{\"attributes\":{\"tools\":[{\"id\":\"7b557a93-28cb-4961-bdce-8524f0b4353c\",\"type\":\"PanTool\"},{\"id\":\"4ad1ccf3-a022-43f3-8d44-d3141e73859d\",\"type\":\"WheelZoomTool\"},{\"id\":\"7c27f711-d02a-43b9-8abf-9fec8b05aa7f\",\"type\":\"BoxZoomTool\"},{\"id\":\"10b5f371-6049-4b5a-b503-e19e20bff330\",\"type\":\"SaveTool\"},{\"id\":\"d78184ad-c75c-4dd0-bbce-295550bdc958\",\"type\":\"ResetTool\"},{\"id\":\"89c80b14-88be-4c3e-903b-e1cb10265249\",\"type\":\"HelpTool\"},{\"id\":\"6ae366c0-e85f-413c-94dd-941cf5267bb8\",\"type\":\"PanTool\"},{\"id\":\"73cf765c-0770-4128-a30e-2db47b40916f\",\"type\":\"WheelZoomTool\"},{\"id\":\"2c3364f7-ae3d-46fa-8e2b-e7b50d0ec341\",\"type\":\"BoxZoomTool\"},{\"id\":\"702b93e7-0c1e-438d-8ad2-acf37505bcb9\",\"type\":\"SaveTool\"},{\"id\":\"c433f738-c308-4b78-aec0-fd62b3261c87\",\"type\":\"ResetTool\"},{\"id\":\"0c855216-6ee2-4237-bc3c-fac24f6cff8c\",\"type\":\"HelpTool\"}]},\"id\":\"21a093fb-7f6e-4d4b-ab93-952be19e75fd\",\"type\":\"ProxyToolbar\"},{\"attributes\":{\"line_alpha\":0.1,\"line_color\":\"#1f77b4\",\"line_dash\":[6],\"line_width\":5,\"x\":{\"field\":\"x\"},\"y\":{\"field\":\"y\"}},\"id\":\"c8318719-5357-476e-818c-7660e13a9b6e\",\"type\":\"Line\"},{\"attributes\":{\"label\":{\"value\":\"CRD\"},\"renderers\":[{\"id\":\"0341fa68-f715-48ae-82b3-57326b4b1877\",\"type\":\"GlyphRenderer\"},{\"id\":\"f36f856f-ef8e-45f5-8dfd-9777eea7ea26\",\"type\":\"GlyphRenderer\"}]},\"id\":\"bba756ac-d015-4ef9-a1ab-46412761046b\",\"type\":\"LegendItem\"},{\"attributes\":{\"callback\":null,\"end\":0.01,\"start\":1020},\"id\":\"442934df-b76c-4d3a-8cf3-c612cd8b6e9a\",\"type\":\"Range1d\"},{\"attributes\":{},\"id\":\"7b557a93-28cb-4961-bdce-8524f0b4353c\",\"type\":\"PanTool\"},{\"attributes\":{},\"id\":\"4ad1ccf3-a022-43f3-8d44-d3141e73859d\",\"type\":\"WheelZoomTool\"},{\"attributes\":{\"bottom_units\":\"screen\",\"fill_alpha\":{\"value\":0.5},\"fill_color\":{\"value\":\"lightgrey\"},\"left_units\":\"screen\",\"level\":\"overlay\",\"line_alpha\":{\"value\":1.0},\"line_color\":{\"value\":\"black\"},\"line_dash\":[4,4],\"line_width\":{\"value\":2},\"plot\":null,\"render_mode\":\"css\",\"right_units\":\"screen\",\"top_units\":\"screen\"},\"id\":\"296f0d32-1bfe-46e1-8ae7-a08bdb26450b\",\"type\":\"BoxAnnotation\"},{\"attributes\":{\"plot\":{\"id\":\"797d414a-aced-4b8f-b6bc-cc537927e67d\",\"subtype\":\"Figure\",\"type\":\"Plot\"},\"ticker\":{\"id\":\"8966962d-4a1a-4b71-8d5d-0d4c99083e72\",\"type\":\"BasicTicker\"}},\"id\":\"7aef6629-d23a-43b1-85df-7ecff5fff211\",\"type\":\"Grid\"},{\"attributes\":{},\"id\":\"d566f30b-6e83-489f-8114-bb6a895fd860\",\"type\":\"BasicTickFormatter\"}],\"root_ids\":[\"493e1e2d-9474-464e-aa29-528b5bd5f8a2\"]},\"title\":\"Bokeh Application\",\"version\":\"0.12.14\"}};\n",
       "  var render_items = [{\"docid\":\"b6bf7d8b-ead7-44b3-8610-26488aa22fd9\",\"elementid\":\"ef856fe2-8613-410f-bc48-85d39e9c1491\",\"modelid\":\"493e1e2d-9474-464e-aa29-528b5bd5f8a2\"}];\n",
       "  root.Bokeh.embed.embed_items_notebook(docs_json, render_items);\n",
       "\n",
       "  }\n",
       "  if (root.Bokeh !== undefined) {\n",
       "    embed_document(root);\n",
       "  } else {\n",
       "    var attempts = 0;\n",
       "    var timer = setInterval(function(root) {\n",
       "      if (root.Bokeh !== undefined) {\n",
       "        embed_document(root);\n",
       "        clearInterval(timer);\n",
       "      }\n",
       "      attempts++;\n",
       "      if (attempts > 100) {\n",
       "        console.log(\"Bokeh: ERROR: Unable to run BokehJS code because BokehJS library is missing\")\n",
       "        clearInterval(timer);\n",
       "      }\n",
       "    }, 10, root)\n",
       "  }\n",
       "})(window);"
      ],
      "application/vnd.bokehjs_exec.v0+json": ""
     },
     "metadata": {
      "application/vnd.bokehjs_exec.v0+json": {
       "id": "493e1e2d-9474-464e-aa29-528b5bd5f8a2"
      }
     },
     "output_type": "display_data"
    },
    {
     "name": "stdout",
     "output_type": "stream",
     "text": [
      "FIGURE. Cooling rate profiles.\n"
     ]
    },
    {
     "data": {
      "text/html": [
       "<a id=\"Flux_Comparison\"></a>"
      ],
      "text/plain": [
       "<IPython.core.display.HTML object>"
      ]
     },
     "metadata": {},
     "output_type": "display_data"
    },
    {
     "data": {
      "text/markdown": [
       "# Flux Comparison"
      ],
      "text/plain": [
       "<IPython.core.display.Markdown object>"
      ]
     },
     "metadata": {},
     "output_type": "display_data"
    },
    {
     "data": {
      "text/html": [
       "<div>\n",
       "<style>\n",
       "    .dataframe thead tr:only-child th {\n",
       "        text-align: right;\n",
       "    }\n",
       "\n",
       "    .dataframe thead th {\n",
       "        text-align: left;\n",
       "    }\n",
       "\n",
       "    .dataframe tbody tr th {\n",
       "        vertical-align: top;\n",
       "    }\n",
       "</style>\n",
       "<table border=\"1\" class=\"dataframe\">\n",
       "  <thead>\n",
       "    <tr style=\"text-align: right;\">\n",
       "      <th></th>\n",
       "      <th></th>\n",
       "      <th>flug</th>\n",
       "      <th>fldg</th>\n",
       "      <th>fnetg</th>\n",
       "    </tr>\n",
       "    <tr>\n",
       "      <th>pressure</th>\n",
       "      <th>level</th>\n",
       "      <th></th>\n",
       "      <th></th>\n",
       "      <th></th>\n",
       "    </tr>\n",
       "  </thead>\n",
       "  <tbody>\n",
       "    <tr>\n",
       "      <th>0.0000</th>\n",
       "      <th>1</th>\n",
       "      <td>-21.503373</td>\n",
       "      <td>0.000000</td>\n",
       "      <td>-21.503373</td>\n",
       "    </tr>\n",
       "    <tr>\n",
       "      <th>1.0685</th>\n",
       "      <th>24</th>\n",
       "      <td>-21.500500</td>\n",
       "      <td>0.016905</td>\n",
       "      <td>-21.483595</td>\n",
       "    </tr>\n",
       "    <tr>\n",
       "      <th>1013.0000</th>\n",
       "      <th>76</th>\n",
       "      <td>-26.962746</td>\n",
       "      <td>6.628522</td>\n",
       "      <td>-20.334224</td>\n",
       "    </tr>\n",
       "  </tbody>\n",
       "</table>\n",
       "</div>"
      ],
      "text/plain": [
       "                      flug      fldg      fnetg\n",
       "pressure  level                                \n",
       "0.0000    1     -21.503373  0.000000 -21.503373\n",
       "1.0685    24    -21.500500  0.016905 -21.483595\n",
       "1013.0000 76    -26.962746  6.628522 -20.334224"
      ]
     },
     "metadata": {},
     "output_type": "display_data"
    },
    {
     "name": "stdout",
     "output_type": "stream",
     "text": [
      "Table. Fluxes. WGT igg=10 wgt_flux=1\n"
     ]
    },
    {
     "data": {
      "text/html": [
       "<div>\n",
       "<style>\n",
       "    .dataframe thead tr:only-child th {\n",
       "        text-align: right;\n",
       "    }\n",
       "\n",
       "    .dataframe thead th {\n",
       "        text-align: left;\n",
       "    }\n",
       "\n",
       "    .dataframe tbody tr th {\n",
       "        vertical-align: top;\n",
       "    }\n",
       "</style>\n",
       "<table border=\"1\" class=\"dataframe\">\n",
       "  <thead>\n",
       "    <tr style=\"text-align: right;\">\n",
       "      <th></th>\n",
       "      <th></th>\n",
       "      <th>flug</th>\n",
       "      <th>fldg</th>\n",
       "      <th>fnetg</th>\n",
       "    </tr>\n",
       "    <tr>\n",
       "      <th>pressure</th>\n",
       "      <th>level</th>\n",
       "      <th></th>\n",
       "      <th></th>\n",
       "      <th></th>\n",
       "    </tr>\n",
       "  </thead>\n",
       "  <tbody>\n",
       "    <tr>\n",
       "      <th>0.0000</th>\n",
       "      <th>1</th>\n",
       "      <td>-21.607521</td>\n",
       "      <td>0.000000</td>\n",
       "      <td>-21.607521</td>\n",
       "    </tr>\n",
       "    <tr>\n",
       "      <th>1.0685</th>\n",
       "      <th>24</th>\n",
       "      <td>-21.606763</td>\n",
       "      <td>0.018545</td>\n",
       "      <td>-21.588218</td>\n",
       "    </tr>\n",
       "    <tr>\n",
       "      <th>1013.0000</th>\n",
       "      <th>76</th>\n",
       "      <td>-26.962746</td>\n",
       "      <td>6.754597</td>\n",
       "      <td>-20.208149</td>\n",
       "    </tr>\n",
       "  </tbody>\n",
       "</table>\n",
       "</div>"
      ],
      "text/plain": [
       "                      flug      fldg      fnetg\n",
       "pressure  level                                \n",
       "0.0000    1     -21.607521  0.000000 -21.607521\n",
       "1.0685    24    -21.606763  0.018545 -21.588218\n",
       "1013.0000 76    -26.962746  6.754597 -20.208149"
      ]
     },
     "metadata": {},
     "output_type": "display_data"
    },
    {
     "name": "stdout",
     "output_type": "stream",
     "text": [
      "Table. Fluxes. CRD\n"
     ]
    },
    {
     "data": {
      "text/html": [
       "<div>\n",
       "<style>\n",
       "    .dataframe thead tr:only-child th {\n",
       "        text-align: right;\n",
       "    }\n",
       "\n",
       "    .dataframe thead th {\n",
       "        text-align: left;\n",
       "    }\n",
       "\n",
       "    .dataframe tbody tr th {\n",
       "        vertical-align: top;\n",
       "    }\n",
       "</style>\n",
       "<table border=\"1\" class=\"dataframe\">\n",
       "  <thead>\n",
       "    <tr style=\"text-align: right;\">\n",
       "      <th></th>\n",
       "      <th></th>\n",
       "      <th>flug</th>\n",
       "      <th>fldg</th>\n",
       "      <th>fnetg</th>\n",
       "    </tr>\n",
       "    <tr>\n",
       "      <th>pressure</th>\n",
       "      <th>level</th>\n",
       "      <th></th>\n",
       "      <th></th>\n",
       "      <th></th>\n",
       "    </tr>\n",
       "  </thead>\n",
       "  <tbody>\n",
       "    <tr>\n",
       "      <th>1.000000e-08</th>\n",
       "      <th>1</th>\n",
       "      <td>-21.60857</td>\n",
       "      <td>1.370320e-08</td>\n",
       "      <td>-21.608570</td>\n",
       "    </tr>\n",
       "    <tr>\n",
       "      <th>1.068500e+00</th>\n",
       "      <th>24</th>\n",
       "      <td>-21.60498</td>\n",
       "      <td>1.540205e-02</td>\n",
       "      <td>-21.589578</td>\n",
       "    </tr>\n",
       "    <tr>\n",
       "      <th>1.013000e+03</th>\n",
       "      <th>76</th>\n",
       "      <td>-26.96275</td>\n",
       "      <td>6.489687e+00</td>\n",
       "      <td>-20.473063</td>\n",
       "    </tr>\n",
       "  </tbody>\n",
       "</table>\n",
       "</div>"
      ],
      "text/plain": [
       "                        flug          fldg      fnetg\n",
       "pressure     level                                   \n",
       "1.000000e-08 1     -21.60857  1.370320e-08 -21.608570\n",
       "1.068500e+00 24    -21.60498  1.540205e-02 -21.589578\n",
       "1.013000e+03 76    -26.96275  6.489687e+00 -20.473063"
      ]
     },
     "metadata": {},
     "output_type": "display_data"
    },
    {
     "name": "stdout",
     "output_type": "stream",
     "text": [
      "Table. Fluxes. CLIRAD\n"
     ]
    },
    {
     "data": {
      "text/html": [
       "<div>\n",
       "<style>\n",
       "    .dataframe thead tr:only-child th {\n",
       "        text-align: right;\n",
       "    }\n",
       "\n",
       "    .dataframe thead th {\n",
       "        text-align: left;\n",
       "    }\n",
       "\n",
       "    .dataframe tbody tr th {\n",
       "        vertical-align: top;\n",
       "    }\n",
       "</style>\n",
       "<table border=\"1\" class=\"dataframe\">\n",
       "  <thead>\n",
       "    <tr style=\"text-align: right;\">\n",
       "      <th></th>\n",
       "      <th></th>\n",
       "      <th>flug</th>\n",
       "      <th>fldg</th>\n",
       "      <th>fnetg</th>\n",
       "    </tr>\n",
       "    <tr>\n",
       "      <th>pressure</th>\n",
       "      <th>level</th>\n",
       "      <th></th>\n",
       "      <th></th>\n",
       "      <th></th>\n",
       "    </tr>\n",
       "  </thead>\n",
       "  <tbody>\n",
       "    <tr>\n",
       "      <th>0.0000</th>\n",
       "      <th>1</th>\n",
       "      <td>-0.104148</td>\n",
       "      <td>0.000000</td>\n",
       "      <td>-0.104148</td>\n",
       "    </tr>\n",
       "    <tr>\n",
       "      <th>1.0685</th>\n",
       "      <th>24</th>\n",
       "      <td>-0.106263</td>\n",
       "      <td>0.001639</td>\n",
       "      <td>-0.104623</td>\n",
       "    </tr>\n",
       "    <tr>\n",
       "      <th>1013.0000</th>\n",
       "      <th>76</th>\n",
       "      <td>0.000000</td>\n",
       "      <td>0.126074</td>\n",
       "      <td>0.126075</td>\n",
       "    </tr>\n",
       "  </tbody>\n",
       "</table>\n",
       "</div>"
      ],
      "text/plain": [
       "                     flug      fldg     fnetg\n",
       "pressure  level                              \n",
       "0.0000    1     -0.104148  0.000000 -0.104148\n",
       "1.0685    24    -0.106263  0.001639 -0.104623\n",
       "1013.0000 76     0.000000  0.126074  0.126075"
      ]
     },
     "metadata": {},
     "output_type": "display_data"
    },
    {
     "name": "stdout",
     "output_type": "stream",
     "text": [
      "Table. Fluxes. (CRD) - (WGT igg=10 wgt_flux=1)\n"
     ]
    },
    {
     "data": {
      "text/html": [
       "<div>\n",
       "<style>\n",
       "    .dataframe thead tr:only-child th {\n",
       "        text-align: right;\n",
       "    }\n",
       "\n",
       "    .dataframe thead th {\n",
       "        text-align: left;\n",
       "    }\n",
       "\n",
       "    .dataframe tbody tr th {\n",
       "        vertical-align: top;\n",
       "    }\n",
       "</style>\n",
       "<table border=\"1\" class=\"dataframe\">\n",
       "  <thead>\n",
       "    <tr style=\"text-align: right;\">\n",
       "      <th></th>\n",
       "      <th></th>\n",
       "      <th>flug</th>\n",
       "      <th>fldg</th>\n",
       "      <th>fnetg</th>\n",
       "    </tr>\n",
       "    <tr>\n",
       "      <th>pressure</th>\n",
       "      <th>level</th>\n",
       "      <th></th>\n",
       "      <th></th>\n",
       "      <th></th>\n",
       "    </tr>\n",
       "  </thead>\n",
       "  <tbody>\n",
       "    <tr>\n",
       "      <th>0.0000</th>\n",
       "      <th>1</th>\n",
       "      <td>-0.105197</td>\n",
       "      <td>1.370320e-08</td>\n",
       "      <td>-0.105197</td>\n",
       "    </tr>\n",
       "    <tr>\n",
       "      <th>1.0685</th>\n",
       "      <th>24</th>\n",
       "      <td>-0.104480</td>\n",
       "      <td>-1.503367e-03</td>\n",
       "      <td>-0.105983</td>\n",
       "    </tr>\n",
       "    <tr>\n",
       "      <th>1013.0000</th>\n",
       "      <th>76</th>\n",
       "      <td>-0.000004</td>\n",
       "      <td>-1.388354e-01</td>\n",
       "      <td>-0.138839</td>\n",
       "    </tr>\n",
       "  </tbody>\n",
       "</table>\n",
       "</div>"
      ],
      "text/plain": [
       "                     flug          fldg     fnetg\n",
       "pressure  level                                  \n",
       "0.0000    1     -0.105197  1.370320e-08 -0.105197\n",
       "1.0685    24    -0.104480 -1.503367e-03 -0.105983\n",
       "1013.0000 76    -0.000004 -1.388354e-01 -0.138839"
      ]
     },
     "metadata": {},
     "output_type": "display_data"
    },
    {
     "name": "stdout",
     "output_type": "stream",
     "text": [
      "Table. Fluxes. (CLIRAD) - (WGT igg=10 wgt_flux=1)\n"
     ]
    },
    {
     "data": {
      "text/html": [
       "<a id=\"Best-fit_Parameters\"></a>"
      ],
      "text/plain": [
       "<IPython.core.display.HTML object>"
      ]
     },
     "metadata": {},
     "output_type": "display_data"
    },
    {
     "data": {
      "text/markdown": [
       "# Best-fit Parameters"
      ],
      "text/plain": [
       "<IPython.core.display.Markdown object>"
      ]
     },
     "metadata": {},
     "output_type": "display_data"
    },
    {
     "name": "stdout",
     "output_type": "stream",
     "text": [
      "Best-fit values for each (gas, band)\n",
      "------------------------------------\n",
      "o ch4 band7\n",
      "  atmpro = mls\n",
      "  band = 7\n",
      "  commitnumber = 2bd1f75\n",
      "  conc = 1.8e-06\n",
      "  dv = 0.01\n",
      "  klin = 2e-21\n",
      "  molecule = ch4\n",
      "  ng_adju = [0, 0]\n",
      "  ng_refs = [2, 3]\n",
      "  nv = 100\n",
      "  option_compute_btable = 0\n",
      "  option_compute_ktable = 1\n",
      "  option_wgt_flux = 1\n",
      "  option_wgt_k = 1\n",
      "  ref_pts = [(1, 250), (500, 250)]\n",
      "  tsfc = 294\n",
      "  vmax = 1380\n",
      "  vmin = 1215\n",
      "  w_diffuse = [(1.66, 1.66), (1.66, 1.66, 1.66)]\n",
      "  wgt = [(0.7, 0.7), (0.4, 0.6, 0.75)]\n"
     ]
    }
   ],
   "source": [
    "script()"
   ]
  },
  {
   "cell_type": "code",
   "execution_count": 13,
   "metadata": {
    "collapsed": true
   },
   "outputs": [
    {
     "data": {
      "text/html": [
       "<script>\n",
       "code_show=true; \n",
       "function code_toggle() {\n",
       " if (code_show){\n",
       " $('div.input').hide();\n",
       " } else {\n",
       " $('div.input').show();\n",
       " }\n",
       " code_show = !code_show\n",
       "} \n",
       "$( document ).ready(code_toggle);\n",
       "</script>\n",
       "<form action=\"javascript:code_toggle()\"><input type=\"submit\" value=\"Click here to toggle on/off the raw code.\"></form>"
      ],
      "text/plain": [
       "<IPython.core.display.HTML object>"
      ]
     },
     "execution_count": 13,
     "metadata": {},
     "output_type": "execute_result"
    }
   ],
   "source": [
    "display.HTML('''<script>\n",
    "code_show=true; \n",
    "function code_toggle() {\n",
    " if (code_show){\n",
    " $('div.input').hide();\n",
    " } else {\n",
    " $('div.input').show();\n",
    " }\n",
    " code_show = !code_show\n",
    "} \n",
    "$( document ).ready(code_toggle);\n",
    "</script>\n",
    "<form action=\"javascript:code_toggle()\"><input type=\"submit\" value=\"Click here to toggle on/off the raw code.\"></form>''')"
   ]
  }
 ],
 "metadata": {
  "kernelspec": {
   "display_name": "Python 3",
   "language": "python",
   "name": "python3"
  },
  "language_info": {
   "codemirror_mode": {
    "name": "ipython",
    "version": 3
   },
   "file_extension": ".py",
   "mimetype": "text/x-python",
   "name": "python",
   "nbconvert_exporter": "python",
   "pygments_lexer": "ipython3",
   "version": "3.6.1"
  }
 },
 "nbformat": 4,
 "nbformat_minor": 2
}
