{
 "cells": [
  {
   "cell_type": "code",
   "execution_count": 1,
   "metadata": {
    "collapsed": true
   },
   "outputs": [],
   "source": [
    "%matplotlib inline\n",
    "import os\n",
    "import re\n",
    "import io\n",
    "import itertools\n",
    "import pprint\n",
    "\n",
    "from bokeh.io import output_notebook, show\n",
    "from bokeh.layouts import gridplot\n",
    "from bokeh.plotting import figure\n",
    "from bokeh.models import Range1d, Legend\n",
    "from bokeh.palettes import all_palettes\n",
    "\n",
    "import matplotlib\n",
    "import matplotlib.pyplot as plt\n",
    "import numpy as np\n",
    "import pandas as pd\n",
    "import xarray as xr\n",
    "\n",
    "import climatools.lblnew.bestfit_params as bestfits\n",
    "from climatools.lblnew import setup_bestfit, setup_overlap\n",
    "import climatools.lblnew.pipeline as pipe_lblnew\n",
    "import climatools.cliradlw.setup as setup_cliradlw\n",
    "import climatools.cliradlw.pipeline as pipe_cliradlw\n",
    "\n",
    "import climatools.html.html as climahtml\n",
    "from climatools.lblnew.dataio import *\n",
    "from climatools.plot.plot import *\n",
    "\n",
    "\n",
    "import IPython.display as display"
   ]
  },
  {
   "cell_type": "code",
   "execution_count": 2,
   "metadata": {
    "collapsed": true
   },
   "outputs": [],
   "source": [
    "%run param.py"
   ]
  },
  {
   "cell_type": "code",
   "execution_count": 3,
   "metadata": {
    "collapsed": true
   },
   "outputs": [
    {
     "name": "stdout",
     "output_type": "stream",
     "text": [
      "The history saving thread hit an unexpected error (OperationalError('database is locked',)).History will not be written to the database.\n"
     ]
    }
   ],
   "source": [
    "def load_output_file(path_csv):\n",
    "    '''\n",
    "    Load lblnew output .csv file to xarray.Dataset\n",
    "    \n",
    "    Parameters\n",
    "    ----------\n",
    "    path_csv: str\n",
    "              Path to the .csv file to be loaded.\n",
    "    ds: xarray.Dataset\n",
    "        Data in the input file in the form of an xarray.Dataset.\n",
    "    '''\n",
    "    toindex = ['band', 'pressure', 'igg', 'g']    \n",
    "    df = pd.read_csv(path_csv, sep=r'\\s+')\n",
    "    df = df.set_index([i for i in toindex if i in df.columns])\n",
    "    df = df.rename(columns={'sfu': 'flug',\n",
    "                            'sfd': 'fldg',\n",
    "                            'fnet': 'fnetg',\n",
    "                            'coolr': 'coolrg'})\n",
    "    ds = xr.Dataset.from_dataframe(df)\n",
    "\n",
    "    for l in ('level', 'layer'):\n",
    "        if l in ds.data_vars:\n",
    "            if len(ds[l].dims) > 1:\n",
    "                surface = {d: 0 for d in ds.dims if d != 'pressure'}\n",
    "                coord_level = ds[l][surface]\n",
    "                ds.coords[l] = ('pressure', coord_level)\n",
    "            else:\n",
    "                ds.coords[l] = ('pressure', ds[l])\n",
    "    \n",
    "    return ds"
   ]
  },
  {
   "cell_type": "code",
   "execution_count": 4,
   "metadata": {
    "collapsed": true
   },
   "outputs": [],
   "source": [
    "def lblnew_setup(param=None):\n",
    "    if 'ng_refs' in param:\n",
    "        return {'setup': setup_bestfit,\n",
    "                'fname_flux_crd': 'output_flux.dat',\n",
    "                'fname_cool_crd': 'output_coolr.dat',\n",
    "                'fname_flux_wgt': 'output_wfluxg.dat',\n",
    "                'fname_cool_wgt': 'output_wcoolrg.dat'}\n",
    "    else:\n",
    "        return {'setup': setup_overlap,\n",
    "                'fname_flux_crd': 'output_flux.dat',\n",
    "                'fname_cool_crd': 'output_coolr.dat',\n",
    "                'fname_flux_wgt': 'output_wflux.dat',\n",
    "                'fname_cool_wgt': 'output_wcoolr.dat'}\n",
    "\n",
    "    \n",
    "def load_lblnew_data(param):\n",
    "    \n",
    "    fname_dsname = [('fname_flux_crd', 'ds_flux_crd'),\n",
    "                    ('fname_cool_crd', 'ds_cool_crd'),\n",
    "                    ('fname_flux_wgt', 'ds_flux_wgt'),\n",
    "                    ('fname_cool_wgt', 'ds_cool_wgt')]\n",
    "    \n",
    "    d = lblnew_setup(param)\n",
    "    dir_fortran = pipe_lblnew.get_dir_case(param, setup=d['setup'])\n",
    "    \n",
    "    data_dict = {}\n",
    "    for fname, dsname in fname_dsname:\n",
    "        fpath = os.path.join(dir_fortran, d[fname])\n",
    "        data_dict[dsname] = load_output_file(fpath)\n",
    "    return data_dict\n",
    "    \n",
    "\n",
    "    \n",
    "    "
   ]
  },
  {
   "cell_type": "code",
   "execution_count": 5,
   "metadata": {
    "collapsed": true
   },
   "outputs": [],
   "source": [
    "d = load_lblnew_data(PARAM_LBLNEW)\n",
    "\n",
    "DS_FLUX_CRD = d['ds_flux_crd']\n",
    "DS_COOL_CRD = d['ds_cool_crd']\n",
    "DS_FLUX_WGT = d['ds_flux_wgt']\n",
    "DS_COOL_WGT = d['ds_cool_wgt']"
   ]
  },
  {
   "cell_type": "code",
   "execution_count": 6,
   "metadata": {
    "collapsed": true
   },
   "outputs": [],
   "source": [
    "DIR_FORTRAN = pipe_cliradlw.get_fortran_dir(PARAM, \n",
    "                                            setup=setup_cliradlw)\n",
    "\n",
    "PATH_FLUX = os.path.join(DIR_FORTRAN, 'output_flux.dat')\n",
    "PATH_COOL = os.path.join(DIR_FORTRAN, 'output_coolr.dat')\n",
    "\n",
    "DS_FLUX = load_output_file(PATH_FLUX)\n",
    "DS_COOL = load_output_file(PATH_COOL)"
   ]
  },
  {
   "cell_type": "code",
   "execution_count": 7,
   "metadata": {
    "collapsed": true
   },
   "outputs": [
    {
     "data": {
      "text/html": [
       "\n",
       "    <div class=\"bk-root\">\n",
       "        <a href=\"https://bokeh.pydata.org\" target=\"_blank\" class=\"bk-logo bk-logo-small bk-logo-notebook\"></a>\n",
       "        <span id=\"954554da-175f-4d38-a322-1c46cda653bd\">Loading BokehJS ...</span>\n",
       "    </div>"
      ]
     },
     "metadata": {},
     "output_type": "display_data"
    },
    {
     "data": {
      "application/javascript": [
       "\n",
       "(function(root) {\n",
       "  function now() {\n",
       "    return new Date();\n",
       "  }\n",
       "\n",
       "  var force = true;\n",
       "\n",
       "  if (typeof (root._bokeh_onload_callbacks) === \"undefined\" || force === true) {\n",
       "    root._bokeh_onload_callbacks = [];\n",
       "    root._bokeh_is_loading = undefined;\n",
       "  }\n",
       "\n",
       "  var JS_MIME_TYPE = 'application/javascript';\n",
       "  var HTML_MIME_TYPE = 'text/html';\n",
       "  var EXEC_MIME_TYPE = 'application/vnd.bokehjs_exec.v0+json';\n",
       "  var CLASS_NAME = 'output_bokeh rendered_html';\n",
       "\n",
       "  /**\n",
       "   * Render data to the DOM node\n",
       "   */\n",
       "  function render(props, node) {\n",
       "    var script = document.createElement(\"script\");\n",
       "    node.appendChild(script);\n",
       "  }\n",
       "\n",
       "  /**\n",
       "   * Handle when an output is cleared or removed\n",
       "   */\n",
       "  function handleClearOutput(event, handle) {\n",
       "    var cell = handle.cell;\n",
       "\n",
       "    var id = cell.output_area._bokeh_element_id;\n",
       "    var server_id = cell.output_area._bokeh_server_id;\n",
       "    // Clean up Bokeh references\n",
       "    if (id !== undefined) {\n",
       "      Bokeh.index[id].model.document.clear();\n",
       "      delete Bokeh.index[id];\n",
       "    }\n",
       "\n",
       "    if (server_id !== undefined) {\n",
       "      // Clean up Bokeh references\n",
       "      var cmd = \"from bokeh.io.state import curstate; print(curstate().uuid_to_server['\" + server_id + \"'].get_sessions()[0].document.roots[0]._id)\";\n",
       "      cell.notebook.kernel.execute(cmd, {\n",
       "        iopub: {\n",
       "          output: function(msg) {\n",
       "            var element_id = msg.content.text.trim();\n",
       "            Bokeh.index[element_id].model.document.clear();\n",
       "            delete Bokeh.index[element_id];\n",
       "          }\n",
       "        }\n",
       "      });\n",
       "      // Destroy server and session\n",
       "      var cmd = \"import bokeh.io.notebook as ion; ion.destroy_server('\" + server_id + \"')\";\n",
       "      cell.notebook.kernel.execute(cmd);\n",
       "    }\n",
       "  }\n",
       "\n",
       "  /**\n",
       "   * Handle when a new output is added\n",
       "   */\n",
       "  function handleAddOutput(event, handle) {\n",
       "    var output_area = handle.output_area;\n",
       "    var output = handle.output;\n",
       "\n",
       "    // limit handleAddOutput to display_data with EXEC_MIME_TYPE content only\n",
       "    if ((output.output_type != \"display_data\") || (!output.data.hasOwnProperty(EXEC_MIME_TYPE))) {\n",
       "      return\n",
       "    }\n",
       "\n",
       "    var toinsert = output_area.element.find(\".\" + CLASS_NAME.split(' ')[0]);\n",
       "\n",
       "    if (output.metadata[EXEC_MIME_TYPE][\"id\"] !== undefined) {\n",
       "      toinsert[0].firstChild.textContent = output.data[JS_MIME_TYPE];\n",
       "      // store reference to embed id on output_area\n",
       "      output_area._bokeh_element_id = output.metadata[EXEC_MIME_TYPE][\"id\"];\n",
       "    }\n",
       "    if (output.metadata[EXEC_MIME_TYPE][\"server_id\"] !== undefined) {\n",
       "      var bk_div = document.createElement(\"div\");\n",
       "      bk_div.innerHTML = output.data[HTML_MIME_TYPE];\n",
       "      var script_attrs = bk_div.children[0].attributes;\n",
       "      for (var i = 0; i < script_attrs.length; i++) {\n",
       "        toinsert[0].firstChild.setAttribute(script_attrs[i].name, script_attrs[i].value);\n",
       "      }\n",
       "      // store reference to server id on output_area\n",
       "      output_area._bokeh_server_id = output.metadata[EXEC_MIME_TYPE][\"server_id\"];\n",
       "    }\n",
       "  }\n",
       "\n",
       "  function register_renderer(events, OutputArea) {\n",
       "\n",
       "    function append_mime(data, metadata, element) {\n",
       "      // create a DOM node to render to\n",
       "      var toinsert = this.create_output_subarea(\n",
       "        metadata,\n",
       "        CLASS_NAME,\n",
       "        EXEC_MIME_TYPE\n",
       "      );\n",
       "      this.keyboard_manager.register_events(toinsert);\n",
       "      // Render to node\n",
       "      var props = {data: data, metadata: metadata[EXEC_MIME_TYPE]};\n",
       "      render(props, toinsert[0]);\n",
       "      element.append(toinsert);\n",
       "      return toinsert\n",
       "    }\n",
       "\n",
       "    /* Handle when an output is cleared or removed */\n",
       "    events.on('clear_output.CodeCell', handleClearOutput);\n",
       "    events.on('delete.Cell', handleClearOutput);\n",
       "\n",
       "    /* Handle when a new output is added */\n",
       "    events.on('output_added.OutputArea', handleAddOutput);\n",
       "\n",
       "    /**\n",
       "     * Register the mime type and append_mime function with output_area\n",
       "     */\n",
       "    OutputArea.prototype.register_mime_type(EXEC_MIME_TYPE, append_mime, {\n",
       "      /* Is output safe? */\n",
       "      safe: true,\n",
       "      /* Index of renderer in `output_area.display_order` */\n",
       "      index: 0\n",
       "    });\n",
       "  }\n",
       "\n",
       "  // register the mime type if in Jupyter Notebook environment and previously unregistered\n",
       "  if (root.Jupyter !== undefined) {\n",
       "    var events = require('base/js/events');\n",
       "    var OutputArea = require('notebook/js/outputarea').OutputArea;\n",
       "\n",
       "    if (OutputArea.prototype.mime_types().indexOf(EXEC_MIME_TYPE) == -1) {\n",
       "      register_renderer(events, OutputArea);\n",
       "    }\n",
       "  }\n",
       "\n",
       "  \n",
       "  if (typeof (root._bokeh_timeout) === \"undefined\" || force === true) {\n",
       "    root._bokeh_timeout = Date.now() + 5000;\n",
       "    root._bokeh_failed_load = false;\n",
       "  }\n",
       "\n",
       "  var NB_LOAD_WARNING = {'data': {'text/html':\n",
       "     \"<div style='background-color: #fdd'>\\n\"+\n",
       "     \"<p>\\n\"+\n",
       "     \"BokehJS does not appear to have successfully loaded. If loading BokehJS from CDN, this \\n\"+\n",
       "     \"may be due to a slow or bad network connection. Possible fixes:\\n\"+\n",
       "     \"</p>\\n\"+\n",
       "     \"<ul>\\n\"+\n",
       "     \"<li>re-rerun `output_notebook()` to attempt to load from CDN again, or</li>\\n\"+\n",
       "     \"<li>use INLINE resources instead, as so:</li>\\n\"+\n",
       "     \"</ul>\\n\"+\n",
       "     \"<code>\\n\"+\n",
       "     \"from bokeh.resources import INLINE\\n\"+\n",
       "     \"output_notebook(resources=INLINE)\\n\"+\n",
       "     \"</code>\\n\"+\n",
       "     \"</div>\"}};\n",
       "\n",
       "  function display_loaded() {\n",
       "    var el = document.getElementById(\"954554da-175f-4d38-a322-1c46cda653bd\");\n",
       "    if (el != null) {\n",
       "      el.textContent = \"BokehJS is loading...\";\n",
       "    }\n",
       "    if (root.Bokeh !== undefined) {\n",
       "      if (el != null) {\n",
       "        el.textContent = \"BokehJS \" + root.Bokeh.version + \" successfully loaded.\";\n",
       "      }\n",
       "    } else if (Date.now() < root._bokeh_timeout) {\n",
       "      setTimeout(display_loaded, 100)\n",
       "    }\n",
       "  }\n",
       "\n",
       "\n",
       "  function run_callbacks() {\n",
       "    try {\n",
       "      root._bokeh_onload_callbacks.forEach(function(callback) { callback() });\n",
       "    }\n",
       "    finally {\n",
       "      delete root._bokeh_onload_callbacks\n",
       "    }\n",
       "    console.info(\"Bokeh: all callbacks have finished\");\n",
       "  }\n",
       "\n",
       "  function load_libs(js_urls, callback) {\n",
       "    root._bokeh_onload_callbacks.push(callback);\n",
       "    if (root._bokeh_is_loading > 0) {\n",
       "      console.log(\"Bokeh: BokehJS is being loaded, scheduling callback at\", now());\n",
       "      return null;\n",
       "    }\n",
       "    if (js_urls == null || js_urls.length === 0) {\n",
       "      run_callbacks();\n",
       "      return null;\n",
       "    }\n",
       "    console.log(\"Bokeh: BokehJS not loaded, scheduling load and callback at\", now());\n",
       "    root._bokeh_is_loading = js_urls.length;\n",
       "    for (var i = 0; i < js_urls.length; i++) {\n",
       "      var url = js_urls[i];\n",
       "      var s = document.createElement('script');\n",
       "      s.src = url;\n",
       "      s.async = false;\n",
       "      s.onreadystatechange = s.onload = function() {\n",
       "        root._bokeh_is_loading--;\n",
       "        if (root._bokeh_is_loading === 0) {\n",
       "          console.log(\"Bokeh: all BokehJS libraries loaded\");\n",
       "          run_callbacks()\n",
       "        }\n",
       "      };\n",
       "      s.onerror = function() {\n",
       "        console.warn(\"failed to load library \" + url);\n",
       "      };\n",
       "      console.log(\"Bokeh: injecting script tag for BokehJS library: \", url);\n",
       "      document.getElementsByTagName(\"head\")[0].appendChild(s);\n",
       "    }\n",
       "  };var element = document.getElementById(\"954554da-175f-4d38-a322-1c46cda653bd\");\n",
       "  if (element == null) {\n",
       "    console.log(\"Bokeh: ERROR: autoload.js configured with elementid '954554da-175f-4d38-a322-1c46cda653bd' but no matching script tag was found. \")\n",
       "    return false;\n",
       "  }\n",
       "\n",
       "  var js_urls = [\"https://cdn.pydata.org/bokeh/release/bokeh-0.12.14.min.js\", \"https://cdn.pydata.org/bokeh/release/bokeh-widgets-0.12.14.min.js\", \"https://cdn.pydata.org/bokeh/release/bokeh-tables-0.12.14.min.js\", \"https://cdn.pydata.org/bokeh/release/bokeh-gl-0.12.14.min.js\"];\n",
       "\n",
       "  var inline_js = [\n",
       "    function(Bokeh) {\n",
       "      Bokeh.set_log_level(\"info\");\n",
       "    },\n",
       "    \n",
       "    function(Bokeh) {\n",
       "      \n",
       "    },\n",
       "    function(Bokeh) {\n",
       "      console.log(\"Bokeh: injecting CSS: https://cdn.pydata.org/bokeh/release/bokeh-0.12.14.min.css\");\n",
       "      Bokeh.embed.inject_css(\"https://cdn.pydata.org/bokeh/release/bokeh-0.12.14.min.css\");\n",
       "      console.log(\"Bokeh: injecting CSS: https://cdn.pydata.org/bokeh/release/bokeh-widgets-0.12.14.min.css\");\n",
       "      Bokeh.embed.inject_css(\"https://cdn.pydata.org/bokeh/release/bokeh-widgets-0.12.14.min.css\");\n",
       "      console.log(\"Bokeh: injecting CSS: https://cdn.pydata.org/bokeh/release/bokeh-tables-0.12.14.min.css\");\n",
       "      Bokeh.embed.inject_css(\"https://cdn.pydata.org/bokeh/release/bokeh-tables-0.12.14.min.css\");\n",
       "    }\n",
       "  ];\n",
       "\n",
       "  function run_inline_js() {\n",
       "    \n",
       "    if ((root.Bokeh !== undefined) || (force === true)) {\n",
       "      for (var i = 0; i < inline_js.length; i++) {\n",
       "        inline_js[i].call(root, root.Bokeh);\n",
       "      }if (force === true) {\n",
       "        display_loaded();\n",
       "      }} else if (Date.now() < root._bokeh_timeout) {\n",
       "      setTimeout(run_inline_js, 100);\n",
       "    } else if (!root._bokeh_failed_load) {\n",
       "      console.log(\"Bokeh: BokehJS failed to load within specified timeout.\");\n",
       "      root._bokeh_failed_load = true;\n",
       "    } else if (force !== true) {\n",
       "      var cell = $(document.getElementById(\"954554da-175f-4d38-a322-1c46cda653bd\")).parents('.cell').data().cell;\n",
       "      cell.output_area.append_execute_result(NB_LOAD_WARNING)\n",
       "    }\n",
       "\n",
       "  }\n",
       "\n",
       "  if (root._bokeh_is_loading === 0) {\n",
       "    console.log(\"Bokeh: BokehJS loaded, going straight to plotting\");\n",
       "    run_inline_js();\n",
       "  } else {\n",
       "    load_libs(js_urls, function() {\n",
       "      console.log(\"Bokeh: BokehJS plotting callback run at\", now());\n",
       "      run_inline_js();\n",
       "    });\n",
       "  }\n",
       "}(window));"
      ],
      "application/vnd.bokehjs_load.v0+json": "\n(function(root) {\n  function now() {\n    return new Date();\n  }\n\n  var force = true;\n\n  if (typeof (root._bokeh_onload_callbacks) === \"undefined\" || force === true) {\n    root._bokeh_onload_callbacks = [];\n    root._bokeh_is_loading = undefined;\n  }\n\n  \n\n  \n  if (typeof (root._bokeh_timeout) === \"undefined\" || force === true) {\n    root._bokeh_timeout = Date.now() + 5000;\n    root._bokeh_failed_load = false;\n  }\n\n  var NB_LOAD_WARNING = {'data': {'text/html':\n     \"<div style='background-color: #fdd'>\\n\"+\n     \"<p>\\n\"+\n     \"BokehJS does not appear to have successfully loaded. If loading BokehJS from CDN, this \\n\"+\n     \"may be due to a slow or bad network connection. Possible fixes:\\n\"+\n     \"</p>\\n\"+\n     \"<ul>\\n\"+\n     \"<li>re-rerun `output_notebook()` to attempt to load from CDN again, or</li>\\n\"+\n     \"<li>use INLINE resources instead, as so:</li>\\n\"+\n     \"</ul>\\n\"+\n     \"<code>\\n\"+\n     \"from bokeh.resources import INLINE\\n\"+\n     \"output_notebook(resources=INLINE)\\n\"+\n     \"</code>\\n\"+\n     \"</div>\"}};\n\n  function display_loaded() {\n    var el = document.getElementById(\"954554da-175f-4d38-a322-1c46cda653bd\");\n    if (el != null) {\n      el.textContent = \"BokehJS is loading...\";\n    }\n    if (root.Bokeh !== undefined) {\n      if (el != null) {\n        el.textContent = \"BokehJS \" + root.Bokeh.version + \" successfully loaded.\";\n      }\n    } else if (Date.now() < root._bokeh_timeout) {\n      setTimeout(display_loaded, 100)\n    }\n  }\n\n\n  function run_callbacks() {\n    try {\n      root._bokeh_onload_callbacks.forEach(function(callback) { callback() });\n    }\n    finally {\n      delete root._bokeh_onload_callbacks\n    }\n    console.info(\"Bokeh: all callbacks have finished\");\n  }\n\n  function load_libs(js_urls, callback) {\n    root._bokeh_onload_callbacks.push(callback);\n    if (root._bokeh_is_loading > 0) {\n      console.log(\"Bokeh: BokehJS is being loaded, scheduling callback at\", now());\n      return null;\n    }\n    if (js_urls == null || js_urls.length === 0) {\n      run_callbacks();\n      return null;\n    }\n    console.log(\"Bokeh: BokehJS not loaded, scheduling load and callback at\", now());\n    root._bokeh_is_loading = js_urls.length;\n    for (var i = 0; i < js_urls.length; i++) {\n      var url = js_urls[i];\n      var s = document.createElement('script');\n      s.src = url;\n      s.async = false;\n      s.onreadystatechange = s.onload = function() {\n        root._bokeh_is_loading--;\n        if (root._bokeh_is_loading === 0) {\n          console.log(\"Bokeh: all BokehJS libraries loaded\");\n          run_callbacks()\n        }\n      };\n      s.onerror = function() {\n        console.warn(\"failed to load library \" + url);\n      };\n      console.log(\"Bokeh: injecting script tag for BokehJS library: \", url);\n      document.getElementsByTagName(\"head\")[0].appendChild(s);\n    }\n  };var element = document.getElementById(\"954554da-175f-4d38-a322-1c46cda653bd\");\n  if (element == null) {\n    console.log(\"Bokeh: ERROR: autoload.js configured with elementid '954554da-175f-4d38-a322-1c46cda653bd' but no matching script tag was found. \")\n    return false;\n  }\n\n  var js_urls = [\"https://cdn.pydata.org/bokeh/release/bokeh-0.12.14.min.js\", \"https://cdn.pydata.org/bokeh/release/bokeh-widgets-0.12.14.min.js\", \"https://cdn.pydata.org/bokeh/release/bokeh-tables-0.12.14.min.js\", \"https://cdn.pydata.org/bokeh/release/bokeh-gl-0.12.14.min.js\"];\n\n  var inline_js = [\n    function(Bokeh) {\n      Bokeh.set_log_level(\"info\");\n    },\n    \n    function(Bokeh) {\n      \n    },\n    function(Bokeh) {\n      console.log(\"Bokeh: injecting CSS: https://cdn.pydata.org/bokeh/release/bokeh-0.12.14.min.css\");\n      Bokeh.embed.inject_css(\"https://cdn.pydata.org/bokeh/release/bokeh-0.12.14.min.css\");\n      console.log(\"Bokeh: injecting CSS: https://cdn.pydata.org/bokeh/release/bokeh-widgets-0.12.14.min.css\");\n      Bokeh.embed.inject_css(\"https://cdn.pydata.org/bokeh/release/bokeh-widgets-0.12.14.min.css\");\n      console.log(\"Bokeh: injecting CSS: https://cdn.pydata.org/bokeh/release/bokeh-tables-0.12.14.min.css\");\n      Bokeh.embed.inject_css(\"https://cdn.pydata.org/bokeh/release/bokeh-tables-0.12.14.min.css\");\n    }\n  ];\n\n  function run_inline_js() {\n    \n    if ((root.Bokeh !== undefined) || (force === true)) {\n      for (var i = 0; i < inline_js.length; i++) {\n        inline_js[i].call(root, root.Bokeh);\n      }if (force === true) {\n        display_loaded();\n      }} else if (Date.now() < root._bokeh_timeout) {\n      setTimeout(run_inline_js, 100);\n    } else if (!root._bokeh_failed_load) {\n      console.log(\"Bokeh: BokehJS failed to load within specified timeout.\");\n      root._bokeh_failed_load = true;\n    } else if (force !== true) {\n      var cell = $(document.getElementById(\"954554da-175f-4d38-a322-1c46cda653bd\")).parents('.cell').data().cell;\n      cell.output_area.append_execute_result(NB_LOAD_WARNING)\n    }\n\n  }\n\n  if (root._bokeh_is_loading === 0) {\n    console.log(\"Bokeh: BokehJS loaded, going straight to plotting\");\n    run_inline_js();\n  } else {\n    load_libs(js_urls, function() {\n      console.log(\"Bokeh: BokehJS plotting callback run at\", now());\n      run_inline_js();\n    });\n  }\n}(window));"
     },
     "metadata": {},
     "output_type": "display_data"
    }
   ],
   "source": [
    "output_notebook()"
   ]
  },
  {
   "cell_type": "code",
   "execution_count": 8,
   "metadata": {
    "collapsed": true
   },
   "outputs": [],
   "source": [
    "def fmt_cool(ds_in):\n",
    "    ds = ds_in.copy(deep=True)\n",
    "    if 'igg' in ds.dims:\n",
    "        ds = ds.sel(igg=1)\n",
    "\n",
    "    if 'g' in ds.dims:\n",
    "        ds = ds.sum('g')\n",
    "            \n",
    "    if 'band' in ds.dims:\n",
    "        try:\n",
    "            ds = ds.squeeze('band')\n",
    "        except ValueError:\n",
    "            ds = ds.sum('band')\n",
    "                \n",
    "    return ds['coolrg']\n",
    "\n",
    "\n",
    "def pltdata_cooling_1(ds_cool=None,\n",
    "                      ds_cool_crd=None, ds_cool_wgt=None):\n",
    "    \n",
    "\n",
    "\n",
    "    colors = all_palettes['Set1'][4]\n",
    "    data = [{'label': 'CLIRAD `coolr_bands`',\n",
    "             'srs': fmt_cool(ds_cool),\n",
    "             'line_dash': 'dashed', 'line_width': 5,\n",
    "             'color': colors[0], 'alpha': .6},\n",
    "            {'label': 'CRD',\n",
    "             'srs': fmt_cool(ds_cool_crd),\n",
    "             'line_dash': 'solid', 'line_width': 1.5,\n",
    "             'marker': 'circle', 'marker_size': 5,\n",
    "             'color': colors[2], 'alpha': 1,},\n",
    "            {'label': 'WGT igg=10 wgt_flux=2',\n",
    "             'srs': fmt_cool(ds_cool_wgt),\n",
    "             'line_dash': 'solid', 'line_width': 3,\n",
    "             'marker': 'square', 'marker_size': 5,\n",
    "             'color': colors[3], 'alpha': .6}]\n",
    "    return data\n",
    "\n",
    "\n",
    "def nice_xlims(pltdata=None, prange=None):\n",
    "    \n",
    "    def get_slice(srs):\n",
    "        return srs.sel(pressure=slice(*prange))\n",
    "    \n",
    "    srss = [d['srs'] for d in pltdata]\n",
    "    vmin = min([get_slice(srs).min() for srs in srss])\n",
    "    vmax = max([get_slice(srs).max() for srs in srss])\n",
    "    dv = (vmax - vmin) * .01\n",
    "    return float(vmin - dv), float(vmax + dv)\n",
    "    \n",
    "\n",
    "def plt_cooling_bokeh(pltdata=None):\n",
    "    '''\n",
    "    Plot a list of cooling rate profiles using bokeh.\n",
    "    '''\n",
    "    ymin = 1e-2 \n",
    "    ymax = 1020 \n",
    "        \n",
    "    p1 = figure(title=\"Linear pressure scale\", \n",
    "                plot_width=400)        \n",
    "    xmin, xmax = nice_xlims(pltdata, prange=(50, 1050))\n",
    "    for d in pltdata:\n",
    "        if 'marker' in d:\n",
    "            getattr(p1, d['marker'])(d['srs'].values, \n",
    "                    d['srs'].coords['pressure'].values,\n",
    "                    color=d['color'], alpha=.7)\n",
    "        p1.line(d['srs'].values, \n",
    "                d['srs'].coords['pressure'].values,\n",
    "                color=d['color'], alpha=d['alpha'], \n",
    "                line_width=d['line_width'], line_dash=d['line_dash'])\n",
    "    \n",
    "    p1.y_range = Range1d(ymax, ymin)\n",
    "    p1.yaxis.axis_label = 'pressure [mb]'   \n",
    "    p1.x_range = Range1d(xmin, xmax)\n",
    "    p1.xaxis.axis_label = 'cooling rate [K/day]'\n",
    "            \n",
    "    p2 = figure(title='Log pressure scale', y_axis_type='log',\n",
    "                plot_width=560)\n",
    "    xmin, xmax = nice_xlims(pltdata, prange=(.01, 200))\n",
    "    \n",
    "    rs = []\n",
    "    for d in pltdata:\n",
    "        rd = []\n",
    "        if 'marker' in d:\n",
    "            r_mark = getattr(p2, d['marker'])(d['srs'].values, \n",
    "                        d['srs'].coords['pressure'].values,\n",
    "                        color=d['color'], alpha=.7)\n",
    "            rd.append(r_mark)\n",
    "        r_line = p2.line(d['srs'].values, \n",
    "                    d['srs'].coords['pressure'].values,\n",
    "                    color=d['color'], alpha=d['alpha'], \n",
    "                    line_width=d['line_width'], line_dash=d['line_dash'])\n",
    "        rd.append(r_line)\n",
    "      \n",
    "        rs.append(rd)\n",
    "        \n",
    "    p2.y_range = Range1d(ymax, ymin)  \n",
    "    p2.yaxis.axis_label = 'pressure [mb]'\n",
    "    \n",
    "    p2.x_range = Range1d(xmin, xmax)\n",
    "    p2.xaxis.axis_label = 'cooling rate [K/day]'\n",
    "    \n",
    "    items = [(d['label'], r) for r, d in zip(rs, pltdata)]\n",
    "    legend = Legend(items=items, location=(10, -30))\n",
    "    legend.label_text_font_size = '8pt'\n",
    "    \n",
    "    p2.add_layout(legend, 'right')  \n",
    "    \n",
    "    show(gridplot(p1, p2, ncols=2, plot_height=500))\n",
    "    \n",
    "\n",
    "def script_plt_cooling():\n",
    "    pltdata = pltdata_cooling_1(\n",
    "        ds_cool=DS_COOL,\n",
    "        ds_cool_crd=DS_COOL_CRD,\n",
    "        ds_cool_wgt=DS_COOL_WGT)\n",
    "    plt_cooling_bokeh(pltdata=pltdata)\n",
    "    print('''FIGURE. Cooling rate profiles.''')"
   ]
  },
  {
   "cell_type": "code",
   "execution_count": 9,
   "metadata": {
    "collapsed": true
   },
   "outputs": [],
   "source": [
    "def fmt_flux(ds_in):\n",
    "    ds = ds_in.copy(deep=True)\n",
    "    \n",
    "    for l in ('level', 'layer'):\n",
    "        if l in ds.data_vars:\n",
    "            if len(ds[l].dims) > 1:\n",
    "                surface = {d: 0 for d in ds.dims if d != 'pressure'}\n",
    "                coord_level = ds[l][surface]\n",
    "                ds.coords[l] = ('pressure', coord_level)\n",
    "            else:\n",
    "                ds.coords[l] = ('pressure', ds[l])\n",
    "        \n",
    "    ds = ds.isel(pressure=[0, 23, -1])\n",
    "        \n",
    "    if 'igg' in ds.dims:\n",
    "        ds = ds.sel(igg=[1])\n",
    "        ds = ds.squeeze('igg').drop('igg')\n",
    "    \n",
    "    if 'g' in ds.dims:\n",
    "        ds = ds.sum('g')\n",
    "            \n",
    "    if 'band' in ds.dims:\n",
    "        try:\n",
    "            ds = ds.squeeze('band').drop('band')\n",
    "        except ValueError:\n",
    "            ds = ds.sum('band')\n",
    "                \n",
    "    df = ds.to_dataframe()\n",
    "    df = df.set_index('level', append=True)               \n",
    "    return df\n",
    "\n",
    "\n",
    "def tbdata_flux(ds_flux=None, ds_flux_crd=None, ds_flux_wgt=None):\n",
    "    ilevels = [0, 23, -1]\n",
    "            \n",
    "    benchmark = {'label': 'WGT igg=10 wgt_flux=1',\n",
    "                 'df': fmt_flux(ds_flux_wgt)}\n",
    "    \n",
    "    tbs = [{'label': 'CRD',\n",
    "            'df': fmt_flux(ds_flux_crd)},\n",
    "           {'label': 'CLIRAD',\n",
    "            'df': fmt_flux(ds_flux)}]\n",
    "    \n",
    "    data = {'benchmark': benchmark, 'others': tbs}\n",
    "    return data\n",
    "\n",
    "\n",
    "def tb_flux(tbdata=None):\n",
    "    benchmark = tbdata['benchmark']\n",
    "    others = tbdata['others']\n",
    "    \n",
    "    def show_tb(d=None):\n",
    "        display.display(d['df'])\n",
    "        print('Table.', 'Fluxes.', d['label'])\n",
    "        \n",
    "    def show_tbdiff(d0=None, d=None):\n",
    "        df = d['df']\n",
    "        df.index = d0['df'].index\n",
    "        display.display(df - d0['df'])\n",
    "        print('Table.', 'Fluxes.', \n",
    "              '({}) - ({})'.format(d['label'], d0['label']))\n",
    "        \n",
    "    show_tb(benchmark)\n",
    "    for d in others:\n",
    "        show_tb(d)\n",
    "        \n",
    "    for d in others:\n",
    "        show_tbdiff(d=d, d0=benchmark)\n",
    "        \n",
    "        \n",
    "def script_tb_flux():\n",
    "    data = tbdata_flux(ds_flux=DS_FLUX,\n",
    "                       ds_flux_crd=DS_FLUX_CRD,\n",
    "                       ds_flux_wgt=DS_FLUX_WGT)\n",
    "    tb_flux(tbdata=data)"
   ]
  },
  {
   "cell_type": "code",
   "execution_count": 10,
   "metadata": {
    "collapsed": true
   },
   "outputs": [],
   "source": [
    "def band_map():\n",
    "    '''\n",
    "    Maps spectral bands in lblnew to spectral bands in clirad.\n",
    "    '''\n",
    "    lblnew2clirad = {'1': '1',\n",
    "            '2': '2',\n",
    "            '3a': '3',\n",
    "            '3b': '4',\n",
    "            '3c': '5',\n",
    "            '4': '6', \n",
    "            '5': '7',\n",
    "            '6': '8',\n",
    "            '7': '9', \n",
    "            '8': '10',\n",
    "            '9': '11'}\n",
    "    \n",
    "    clirad2lblnew = {clirad: lblnew \n",
    "                     for lblnew, clirad in lblnew2clirad.items()}\n",
    "    return clirad2lblnew\n",
    "\n",
    "\n",
    "def gasbands():\n",
    "    bmap = band_map()\n",
    "    gases = list(PARAM['molecule'].keys())\n",
    "    \n",
    "    bands = [bmap[str(b)] for b in PARAM['band']]\n",
    "    return list(itertools.product(gases, bands))\n",
    "\n",
    "\n",
    "def print_bestfit_params():\n",
    "    print('Best-fit values for each (gas, band)')\n",
    "    print('------------------------------------')\n",
    "    for gas, band in gasbands():\n",
    "        print('o {} band{}'.format(gas, band))\n",
    "        param = bestfits.kdist_params(molecule=gas, band=band)\n",
    "        for name, value in sorted(param.items()):\n",
    "            print(2 * ' ' + '{} = {}'.format(name, value))\n",
    "\n",
    "        \n",
    "def print_input_param():        \n",
    "    for name, value in PARAM.items():\n",
    "        print('{} = {}'.format(name, value))\n",
    "        \n",
    "        \n",
    "def print_lblnew_param():\n",
    "    for name, value in sorted(PARAM_LBLNEW.items()):\n",
    "        print('{} = {}'.format(name, value))\n"
   ]
  },
  {
   "cell_type": "code",
   "execution_count": 11,
   "metadata": {
    "collapsed": true,
    "scrolled": false
   },
   "outputs": [],
   "source": [
    "def show_html(s):\n",
    "    display.display(display.HTML(s))\n",
    "\n",
    "    \n",
    "def show_markdown(s):\n",
    "    display.display(display.Markdown(s))\n",
    "\n",
    "    \n",
    "def script():\n",
    "    \n",
    "    title = '### CLIRAD-LW'\n",
    "    s_input = 'Input Parameters'\n",
    "    s_lblnew_param = 'LBLNEW case compaired against'\n",
    "    s_bestfits = 'Best-fit Parameters'\n",
    "    s_plt_cooling = 'Cooling Rate Profiles'\n",
    "    s_tb_flux = 'Flux Comparison'\n",
    "    \n",
    "    # title\n",
    "    show_markdown('### CLIRAD-LW')\n",
    "    \n",
    "    # TOC\n",
    "    show_markdown('### Table of Contents')\n",
    "    show_html(climahtml.getHTML_hrefanchor(s_input))\n",
    "    show_html(climahtml.getHTML_hrefanchor(s_lblnew_param))\n",
    "    show_html(climahtml.getHTML_hrefanchor(s_plt_cooling))\n",
    "    show_html(climahtml.getHTML_hrefanchor(s_tb_flux))\n",
    "    show_html(climahtml.getHTML_hrefanchor(s_bestfits))\n",
    "    \n",
    "    # Input parameters\n",
    "    show_html(climahtml.getHTML_idanchor(s_input))\n",
    "    show_markdown(climahtml.getMarkdown_sectitle(s_input))\n",
    "    print_input_param()\n",
    "    \n",
    "    # LBLNEW parameters \n",
    "    show_html(climahtml.getHTML_idanchor(s_lblnew_param))\n",
    "    show_markdown(climahtml.getMarkdown_sectitle(s_lblnew_param))\n",
    "    print_lblnew_param()\n",
    "    \n",
    "    # Cooling rate profiles\n",
    "    show_html(climahtml.getHTML_idanchor(s_plt_cooling))\n",
    "    show_markdown(climahtml.getMarkdown_sectitle(s_plt_cooling))\n",
    "    script_plt_cooling()\n",
    "    \n",
    "    # Flux comparison\n",
    "    show_html(climahtml.getHTML_idanchor(s_tb_flux))\n",
    "    show_markdown(climahtml.getMarkdown_sectitle(s_tb_flux))\n",
    "    script_tb_flux()\n",
    "    \n",
    "    # Best-fit values\n",
    "    show_html(climahtml.getHTML_idanchor(s_bestfits))\n",
    "    show_markdown(climahtml.getMarkdown_sectitle(s_bestfits))\n",
    "    print_bestfit_params()\n",
    "   \n",
    "    "
   ]
  },
  {
   "cell_type": "code",
   "execution_count": 12,
   "metadata": {
    "collapsed": true,
    "scrolled": false
   },
   "outputs": [
    {
     "data": {
      "text/markdown": [
       "### CLIRAD-LW"
      ],
      "text/plain": [
       "<IPython.core.display.Markdown object>"
      ]
     },
     "metadata": {},
     "output_type": "display_data"
    },
    {
     "data": {
      "text/markdown": [
       "### Table of Contents"
      ],
      "text/plain": [
       "<IPython.core.display.Markdown object>"
      ]
     },
     "metadata": {},
     "output_type": "display_data"
    },
    {
     "data": {
      "text/html": [
       "<a href=\"#Input_Parameters\">Input Parameters</a>"
      ],
      "text/plain": [
       "<IPython.core.display.HTML object>"
      ]
     },
     "metadata": {},
     "output_type": "display_data"
    },
    {
     "data": {
      "text/html": [
       "<a href=\"#LBLNEW_case_compaired_against\">LBLNEW case compaired against</a>"
      ],
      "text/plain": [
       "<IPython.core.display.HTML object>"
      ]
     },
     "metadata": {},
     "output_type": "display_data"
    },
    {
     "data": {
      "text/html": [
       "<a href=\"#Cooling_Rate_Profiles\">Cooling Rate Profiles</a>"
      ],
      "text/plain": [
       "<IPython.core.display.HTML object>"
      ]
     },
     "metadata": {},
     "output_type": "display_data"
    },
    {
     "data": {
      "text/html": [
       "<a href=\"#Flux_Comparison\">Flux Comparison</a>"
      ],
      "text/plain": [
       "<IPython.core.display.HTML object>"
      ]
     },
     "metadata": {},
     "output_type": "display_data"
    },
    {
     "data": {
      "text/html": [
       "<a href=\"#Best-fit_Parameters\">Best-fit Parameters</a>"
      ],
      "text/plain": [
       "<IPython.core.display.HTML object>"
      ]
     },
     "metadata": {},
     "output_type": "display_data"
    },
    {
     "data": {
      "text/html": [
       "<a id=\"Input_Parameters\"></a>"
      ],
      "text/plain": [
       "<IPython.core.display.HTML object>"
      ]
     },
     "metadata": {},
     "output_type": "display_data"
    },
    {
     "data": {
      "text/markdown": [
       "# Input Parameters"
      ],
      "text/plain": [
       "<IPython.core.display.Markdown object>"
      ]
     },
     "metadata": {},
     "output_type": "display_data"
    },
    {
     "name": "stdout",
     "output_type": "stream",
     "text": [
      "atmpro = saw\n",
      "band = [9]\n",
      "commitnumber = fc273c9\n",
      "molecule = {'ch4': 1.8e-06}\n",
      "tsfc = 257\n"
     ]
    },
    {
     "data": {
      "text/html": [
       "<a id=\"LBLNEW_case_compaired_against\"></a>"
      ],
      "text/plain": [
       "<IPython.core.display.HTML object>"
      ]
     },
     "metadata": {},
     "output_type": "display_data"
    },
    {
     "data": {
      "text/markdown": [
       "# LBLNEW case compaired against"
      ],
      "text/plain": [
       "<IPython.core.display.Markdown object>"
      ]
     },
     "metadata": {},
     "output_type": "display_data"
    },
    {
     "name": "stdout",
     "output_type": "stream",
     "text": [
      "atmpro = saw\n",
      "band = 7\n",
      "commitnumber = 2bd1f75\n",
      "conc = 1.8e-06\n",
      "dv = 0.01\n",
      "klin = 2e-21\n",
      "molecule = ch4\n",
      "ng_adju = [0, 0]\n",
      "ng_refs = [2, 3]\n",
      "nv = 100\n",
      "option_compute_btable = 0\n",
      "option_compute_ktable = 0\n",
      "option_wgt_flux = 1\n",
      "option_wgt_k = 1\n",
      "ref_pts = [(1, 250), (500, 250)]\n",
      "tsfc = 257\n",
      "vmax = 1380\n",
      "vmin = 1215\n",
      "w_diffuse = [(1.66, 1.66), (1.66, 1.66, 1.66)]\n",
      "wgt = [(0.7, 0.7), (0.4, 0.6, 0.75)]\n"
     ]
    },
    {
     "data": {
      "text/html": [
       "<a id=\"Cooling_Rate_Profiles\"></a>"
      ],
      "text/plain": [
       "<IPython.core.display.HTML object>"
      ]
     },
     "metadata": {},
     "output_type": "display_data"
    },
    {
     "data": {
      "text/markdown": [
       "# Cooling Rate Profiles"
      ],
      "text/plain": [
       "<IPython.core.display.Markdown object>"
      ]
     },
     "metadata": {},
     "output_type": "display_data"
    },
    {
     "data": {
      "text/html": [
       "\n",
       "<div class=\"bk-root\">\n",
       "    <div class=\"bk-plotdiv\" id=\"cdd090dc-0793-418b-9cfe-d211c62b1c02\"></div>\n",
       "</div>"
      ]
     },
     "metadata": {},
     "output_type": "display_data"
    },
    {
     "data": {
      "application/javascript": [
       "(function(root) {\n",
       "  function embed_document(root) {\n",
       "    \n",
       "  var docs_json = {\"0036d156-fb5e-4b25-8bb1-7432520822a2\":{\"roots\":{\"references\":[{\"attributes\":{},\"id\":\"41caa840-cb4f-4772-b320-69171a752a48\",\"type\":\"LinearScale\"},{\"attributes\":{\"callback\":null,\"column_names\":[\"x\",\"y\"],\"data\":{\"x\":{\"__ndarray__\":\"/ev0vtMWhL+j5ao8dM98vyKbZqQX2k2/hV1fphABeD+gcjozOzeLP+kRshJE9JU/9loDbQgUnz/wozsEZYWkP/X/TrNw9Kk/lob2vqzhrz+k6sEevymzP51/kGx7qbY/aWGigyZwuj+Rc+642Qa+P+oa81vwecA/s4BDh0TKwT8O/vr4tibDP7WqX8huj8Q/Lf6+mJADxj8LBfA/x4HHP8+9qFl33sg/QR2gRQCBxz9Z3F5WUdHCPwnYkn6Qn7s/bjvuDR4jsz+FWMgftjuoP6BrS1xIOZo/UMVLP/qJhz8Iqa801uF0P+CZbB7wyWY/lRNEUIItYD8uLQ9/eXtaP7k0wkey+mM/nmnAYyrLcD/W0bMIZZt0P8c0DESz0HU/Hb40nKWxdD97CGq9RidvP2DVl2zOFl8/eAGozf/II78xY98MvdBjv2HaGsYiY3S/v8uvF6gbgL8df+EWpeSGv8u/mxBoII6/qAd0QsLZkL+JZqUWOEOPvxQ03yHCSIq/Qhazbzg9hb+h9ebzLjeAv/LVEtKhKna/zey/AhtGZ78PDSGv3ucmvw1ZxAR6B2U/KHTeB6cTdj/t54CkkOuAP7Wh9f+Qz4Y/ETzzrzuWjD/W/s726A2RP+wLn6+ErpM/+rjOcBcilj9moW2aFnOYP7/5aMx/o5o/5XGkdUzEnD/5g6L1x+aeP23KvCWei6A/oHIUbJiroT9kCOQ4DsGiP2qxIDz2jaM/YcTb1li6oz+QyZO4Tw2jP/BmXCQsq6E/vq5magDZnz8SNtmSly2cP2tL4IDdg5g/\",\"dtype\":\"float64\",\"shape\":[75]},\"y\":{\"__ndarray__\":\"S/O/Q+51ND/Sv8nbtpRIP2vylNV0PVE/aTum7souWD/At0SJ8fVgPw3Iuahxymc/MSNhhJWvcD/bTfBN02d3P2zb5nxnaoA/CD5h5MAGhz8NmeH1TyaQP+zrCsc9p5Y/LbKd76fGnz/bLW5ISEmmPww9YvTcQq8/JV2OstnstT8Er5Y7M8G+P0c+r3jqkcU/5h99k6ZBzj88bCIzFzjVP4enV8oyxN0//yH99nXg5D8qOpLLf0jtP5kqGJXUifQ/c9cS8kHP/D+/DpwzojQEQIEmwoanVwxA4lgXt9HgE0BSSZ2AJuIbQAMJih9jjiNA5q4l5INuK0AwTKYKRj0zQNv5fmq8/DpAaCJseHrtQkB/+zpwzoxKQM3MzMzMeFJAZmZmZmZqWEAAAAAAAFxeQM3MzMzMJmJAmpmZmZkfZUBmZmZmZhhoQDMzMzMzEWtAAAAAAAAKbkBmZmZmZoFwQM3MzMzM/XFAMzMzMzN6c0CamZmZmfZ0QAAAAAAAc3ZAZmZmZmbvd0DNzMzMzGt5QDMzMzMz6HpAmpmZmZlkfEAAAAAAAOF9QGZmZmZmXX9AZmZmZuZsgECamZmZGSuBQM3MzMxM6YFAAAAAAICngkAzMzMzs2WDQGZmZmbmI4RAmpmZmRnihEDNzMzMTKCFQAAAAACAXoZAMzMzM7Mch0BmZmZm5tqHQJqZmZkZmYhAzczMzExXiUAAAAAAgBWKQDMzMzOz04pAZmZmZuaRi0CamZmZGVCMQM3MzMxMDo1AAAAAAIDMjUAzMzMzs4qOQGZmZmbmSI9A\",\"dtype\":\"float64\",\"shape\":[75]}}},\"id\":\"57ea55fb-2613-4512-abba-21b89549a70a\",\"type\":\"ColumnDataSource\"},{\"attributes\":{},\"id\":\"cde0da1f-c0b3-434c-87eb-da00a889387e\",\"type\":\"BasicTicker\"},{\"attributes\":{\"num_minor_ticks\":10},\"id\":\"d4f6576a-dcb7-4374-9bd8-a137d285ff28\",\"type\":\"LogTicker\"},{\"attributes\":{},\"id\":\"8ee9cbd1-139f-4587-9a13-6efc953f3c00\",\"type\":\"BasicTickFormatter\"},{\"attributes\":{\"plot\":{\"id\":\"779e0f80-1097-47eb-827b-8678863666e7\",\"subtype\":\"Figure\",\"type\":\"Plot\"},\"ticker\":{\"id\":\"cde0da1f-c0b3-434c-87eb-da00a889387e\",\"type\":\"BasicTicker\"}},\"id\":\"44c897c6-22dc-4c3b-b723-731175683217\",\"type\":\"Grid\"},{\"attributes\":{\"axis_label\":\"cooling rate [K/day]\",\"formatter\":{\"id\":\"8ee9cbd1-139f-4587-9a13-6efc953f3c00\",\"type\":\"BasicTickFormatter\"},\"plot\":{\"id\":\"779e0f80-1097-47eb-827b-8678863666e7\",\"subtype\":\"Figure\",\"type\":\"Plot\"},\"ticker\":{\"id\":\"cde0da1f-c0b3-434c-87eb-da00a889387e\",\"type\":\"BasicTicker\"}},\"id\":\"3976340a-d4a9-4abb-8e39-c6f8d8158b63\",\"type\":\"LinearAxis\"},{\"attributes\":{\"fill_alpha\":{\"value\":0.1},\"fill_color\":{\"value\":\"#1f77b4\"},\"line_alpha\":{\"value\":0.1},\"line_color\":{\"value\":\"#1f77b4\"},\"x\":{\"field\":\"x\"},\"y\":{\"field\":\"y\"}},\"id\":\"d75a29bf-c9eb-4838-8d85-4b2878b3a2fd\",\"type\":\"Circle\"},{\"attributes\":{\"children\":[{\"id\":\"cea62aba-f19e-404d-95f9-a8e0c2b9a52e\",\"type\":\"Row\"}]},\"id\":\"08c04620-99f6-408e-bc1a-0767b4354f7e\",\"type\":\"Column\"},{\"attributes\":{\"fill_alpha\":{\"value\":0.7},\"fill_color\":{\"value\":\"#4daf4a\"},\"line_alpha\":{\"value\":0.7},\"line_color\":{\"value\":\"#4daf4a\"},\"x\":{\"field\":\"x\"},\"y\":{\"field\":\"y\"}},\"id\":\"b47607e9-e87b-4fb3-9f62-b9e7fc288f5e\",\"type\":\"Circle\"},{\"attributes\":{},\"id\":\"4cb7cf5d-c72e-441a-a158-18bb9e15c5fb\",\"type\":\"WheelZoomTool\"},{\"attributes\":{},\"id\":\"763c716f-76d0-4207-9086-124688fe1c6d\",\"type\":\"LogScale\"},{\"attributes\":{\"callback\":null,\"column_names\":[\"x\",\"y\"],\"data\":{\"x\":{\"__ndarray__\":\"kcXUYBJPl79Q3n0A5tqTv1EP2vlXrIi/4urojewOcL+trPmOuUt0P11CfCf4+40/nsqt7hnimT8Xx4BvruqiP6JUzEB1aak/AyT/VA48sD8QCF6DAga0PwBsCUieHLg/n9ORqUKHvD9L+5L26VTAPzRTunw++cE/m1xxZ/hnwz9IvjIbwNrEP3pxH5r8UMY/79lDzkXLxz9LzW6gbEvJP6PRNxFbp8o/HOlVlQXeyD8Lvenon1PDP3StxkdAUbs/vr377UI6sj/I2LTNU1mmPwWNHy/Ltpc/CAa7dbw4hj+fvxqepDt4Pz5shreE6nA/kTRM2kiDaT+4sH+m7I1iPyMcGngH8WU/6QzlioH+cD8MfPyaWYF0P5ZmSYtXa3U/NAlPadXpcz8AppVfwGNsP2z5f/90UFc/bO1X3cWnRr8JM9tL5TtovzGJ0xShQ3a/36so2IPSgL957+Co7WGHv3iZCpRbjI6/l3iGFMIAkb8hCUACVC+Pv81RbLJy4om/A1kRD/S3hL9FdMNHqD9/vxunrwvp7nS/lyotDXisZL/K7uR+E44kP9bLstRRAWg/AEL1+Dmzdz/6L/kIpsuBP5uxwNP/wYc/ehbSADKbjT/nqC2u/Z2RP5oElOogRpQ/6B/ShMe/lj9Aq7MjUA+ZPy1HOO2PPJs/rhUJyllZnT+eZl/kzHWfPyTQkHZw0aA/2p9CJQ/woT+/3Orj6ASjP6fX5Cus1KM/XsIccDwCpD9K6hz1q0+jP0CvvB0c5KE/rglOG5AcoD//a7/tFXicPydqMV/Yrpg/\",\"dtype\":\"float64\",\"shape\":[75]},\"y\":{\"__ndarray__\":\"GhExyth1ND/Sv8nbtpRIP2vylNV0PVE/aTum7souWD/At0SJ8fVgPw3Iuahxymc/MSNhhJWvcD/bTfBN02d3P2zb5nxnaoA/CD5h5MAGhz8NmeH1TyaQP+zrCsc9p5Y/LbKd76fGnz/bLW5ISEmmPww9YvTcQq8/JV2OstnstT8Er5Y7M8G+P0c+r3jqkcU/5h99k6ZBzj88bCIzFzjVP4enV8oyxN0//yH99nXg5D8qOpLLf0jtP5kqGJXUifQ/c9cS8kHP/D+/DpwzojQEQIEmwoanVwxA4lgXt9HgE0BSSZ2AJuIbQAMJih9jjiNA5q4l5INuK0AwTKYKRj0zQNv5fmq8/DpAaCJseHrtQkB/+zpwzoxKQM3MzMzMeFJAZmZmZmZqWEAAAAAAAFxeQM3MzMzMJmJAmpmZmZkfZUBmZmZmZhhoQDMzMzMzEWtAAAAAAAAKbkBmZmZmZoFwQM3MzMzM/XFAMzMzMzN6c0CamZmZmfZ0QAAAAAAAc3ZAZmZmZmbvd0DNzMzMzGt5QDMzMzMz6HpAmpmZmZlkfEAAAAAAAOF9QGZmZmZmXX9AZmZmZuZsgECamZmZGSuBQM3MzMxM6YFAAAAAAICngkAzMzMzs2WDQGZmZmbmI4RAmpmZmRnihEDNzMzMTKCFQAAAAACAXoZAMzMzM7Mch0BmZmZm5tqHQJqZmZkZmYhAzczMzExXiUAAAAAAgBWKQDMzMzOz04pAZmZmZuaRi0CamZmZGVCMQM3MzMxMDo1AAAAAAIDMjUAzMzMzs4qOQGZmZmbmSI9A\",\"dtype\":\"float64\",\"shape\":[75]}}},\"id\":\"fc0e1313-4c25-4334-b30b-f1f2446755ef\",\"type\":\"ColumnDataSource\"},{\"attributes\":{\"axis_label\":\"pressure [mb]\",\"formatter\":{\"id\":\"f86b4b32-1a98-4bb3-9ae3-94f1bfd923a3\",\"type\":\"LogTickFormatter\"},\"plot\":{\"id\":\"779e0f80-1097-47eb-827b-8678863666e7\",\"subtype\":\"Figure\",\"type\":\"Plot\"},\"ticker\":{\"id\":\"d4f6576a-dcb7-4374-9bd8-a137d285ff28\",\"type\":\"LogTicker\"}},\"id\":\"dfc87e00-7444-48d1-87ae-442902b70611\",\"type\":\"LogAxis\"},{\"attributes\":{\"callback\":null,\"column_names\":[\"x\",\"y\"],\"data\":{\"x\":{\"__ndarray__\":\"kcXUYBJPl79Q3n0A5tqTv1EP2vlXrIi/4urojewOcL+trPmOuUt0P11CfCf4+40/nsqt7hnimT8Xx4BvruqiP6JUzEB1aak/AyT/VA48sD8QCF6DAga0PwBsCUieHLg/n9ORqUKHvD9L+5L26VTAPzRTunw++cE/m1xxZ/hnwz9IvjIbwNrEP3pxH5r8UMY/79lDzkXLxz9LzW6gbEvJP6PRNxFbp8o/HOlVlQXeyD8Lvenon1PDP3StxkdAUbs/vr377UI6sj/I2LTNU1mmPwWNHy/Ltpc/CAa7dbw4hj+fvxqepDt4Pz5shreE6nA/kTRM2kiDaT+4sH+m7I1iPyMcGngH8WU/6QzlioH+cD8MfPyaWYF0P5ZmSYtXa3U/NAlPadXpcz8AppVfwGNsP2z5f/90UFc/bO1X3cWnRr8JM9tL5TtovzGJ0xShQ3a/36so2IPSgL957+Co7WGHv3iZCpRbjI6/l3iGFMIAkb8hCUACVC+Pv81RbLJy4om/A1kRD/S3hL9FdMNHqD9/vxunrwvp7nS/lyotDXisZL/K7uR+E44kP9bLstRRAWg/AEL1+Dmzdz/6L/kIpsuBP5uxwNP/wYc/ehbSADKbjT/nqC2u/Z2RP5oElOogRpQ/6B/ShMe/lj9Aq7MjUA+ZPy1HOO2PPJs/rhUJyllZnT+eZl/kzHWfPyTQkHZw0aA/2p9CJQ/woT+/3Orj6ASjP6fX5Cus1KM/XsIccDwCpD9K6hz1q0+jP0CvvB0c5KE/rglOG5AcoD//a7/tFXicPydqMV/Yrpg/\",\"dtype\":\"float64\",\"shape\":[75]},\"y\":{\"__ndarray__\":\"GhExyth1ND/Sv8nbtpRIP2vylNV0PVE/aTum7souWD/At0SJ8fVgPw3Iuahxymc/MSNhhJWvcD/bTfBN02d3P2zb5nxnaoA/CD5h5MAGhz8NmeH1TyaQP+zrCsc9p5Y/LbKd76fGnz/bLW5ISEmmPww9YvTcQq8/JV2OstnstT8Er5Y7M8G+P0c+r3jqkcU/5h99k6ZBzj88bCIzFzjVP4enV8oyxN0//yH99nXg5D8qOpLLf0jtP5kqGJXUifQ/c9cS8kHP/D+/DpwzojQEQIEmwoanVwxA4lgXt9HgE0BSSZ2AJuIbQAMJih9jjiNA5q4l5INuK0AwTKYKRj0zQNv5fmq8/DpAaCJseHrtQkB/+zpwzoxKQM3MzMzMeFJAZmZmZmZqWEAAAAAAAFxeQM3MzMzMJmJAmpmZmZkfZUBmZmZmZhhoQDMzMzMzEWtAAAAAAAAKbkBmZmZmZoFwQM3MzMzM/XFAMzMzMzN6c0CamZmZmfZ0QAAAAAAAc3ZAZmZmZmbvd0DNzMzMzGt5QDMzMzMz6HpAmpmZmZlkfEAAAAAAAOF9QGZmZmZmXX9AZmZmZuZsgECamZmZGSuBQM3MzMxM6YFAAAAAAICngkAzMzMzs2WDQGZmZmbmI4RAmpmZmRnihEDNzMzMTKCFQAAAAACAXoZAMzMzM7Mch0BmZmZm5tqHQJqZmZkZmYhAzczMzExXiUAAAAAAgBWKQDMzMzOz04pAZmZmZuaRi0CamZmZGVCMQM3MzMxMDo1AAAAAAIDMjUAzMzMzs4qOQGZmZmbmSI9A\",\"dtype\":\"float64\",\"shape\":[75]}}},\"id\":\"a1b03f36-d734-43ba-8318-f40b37cf3c16\",\"type\":\"ColumnDataSource\"},{\"attributes\":{\"dimension\":1,\"plot\":{\"id\":\"779e0f80-1097-47eb-827b-8678863666e7\",\"subtype\":\"Figure\",\"type\":\"Plot\"},\"ticker\":{\"id\":\"d4f6576a-dcb7-4374-9bd8-a137d285ff28\",\"type\":\"LogTicker\"}},\"id\":\"03e9655f-b7fa-4152-b6ae-3a9d9232890f\",\"type\":\"Grid\"},{\"attributes\":{\"fill_alpha\":{\"value\":0.7},\"fill_color\":{\"value\":\"#4daf4a\"},\"line_alpha\":{\"value\":0.7},\"line_color\":{\"value\":\"#4daf4a\"},\"x\":{\"field\":\"x\"},\"y\":{\"field\":\"y\"}},\"id\":\"679576b6-1d10-4dd3-86c0-f8f6a9730d59\",\"type\":\"Circle\"},{\"attributes\":{\"overlay\":{\"id\":\"ad4eafb6-19a0-49db-9400-c322b9b11fff\",\"type\":\"BoxAnnotation\"}},\"id\":\"de6dd12f-1b49-43b4-a976-94671d3a75a2\",\"type\":\"BoxZoomTool\"},{\"attributes\":{},\"id\":\"02fa2c10-0996-42fd-b57a-db01685dcaa8\",\"type\":\"SaveTool\"},{\"attributes\":{\"bottom_units\":\"screen\",\"fill_alpha\":{\"value\":0.5},\"fill_color\":{\"value\":\"lightgrey\"},\"left_units\":\"screen\",\"level\":\"overlay\",\"line_alpha\":{\"value\":1.0},\"line_color\":{\"value\":\"black\"},\"line_dash\":[4,4],\"line_width\":{\"value\":2},\"plot\":null,\"render_mode\":\"css\",\"right_units\":\"screen\",\"top_units\":\"screen\"},\"id\":\"29f550d9-c92e-41ec-9459-dbea5299cf73\",\"type\":\"BoxAnnotation\"},{\"attributes\":{},\"id\":\"c33cf120-d26c-4f70-b235-92dc717ef89f\",\"type\":\"SaveTool\"},{\"attributes\":{\"callback\":null,\"column_names\":[\"x\",\"y\"],\"data\":{\"x\":{\"__ndarray__\":\"ihVtQuVVq7+cLs2lnw2pv7MsnbFdEaS/IDCxJ/Ehnb99+C+Z9SWRvysHaFfwhnC/TV30vDTxgz/e9WwytzaZP3dc6qbo1qQ/RwGdpwysrT8nMXVIS5SzP82Tst/vpLg/bKqT2FoEvj9D69la/HnBP0P8R8/CWMM/RX8NLVfkxD+8xtOXSmTGP+nYvewJ2Mc/DVYYMolAyT+J33/xLajKPzLfZpap7ss/BK0CradzyT/RQCybOaTCPyF5UTUmNrg/t3XueL5frT+Jmr1z9VGgP23p9xvycY8/FWe/CDetfT845Dym6ch1P6EVLuDrCHQ/Pl6g0YqpcD+SCApNZLdmP9CY/48Qt2Q/7mGqtuZJbD/a3oXlgylwP2iQE8EXYXA/OaxPBn4Fbj9SP3nl5AhkP4YScjcQREc/nWave+C+T79/iRgwsUtmvwzFybiDA3O/lNFYJZcSfL+Qjc34gZ6Dv9x+glYjZYq/SAGLxFDDjb/FSVVrRcGKv+rgAP01joW/8G7e4brOgL/rUUpdMWl4vxFLDEPZFG6/aikqqBIoVb/hSQMmDcFTP85loZf1TW8/H8ZCceLLej+lgBOWKB6DP7iXoeIZ44g/+QA9CmCVjj/ggz8S4gmSP+07aHEkopQ/qmTkUrMMlz+cPjNvckuZP+I1JPgjaJs/2b7Ee7VznT96mRcWkoKfP8r+n+HS06A/1GSqhhv1oT8WtOR/XxSjP1n0rHbd86M/8a4neBIqpD815GC1gHCjP4X1mKuT8aE/3WDY/CAUoD8Ya9vXUTqcP4xZO/kQLpg/\",\"dtype\":\"float64\",\"shape\":[75]},\"y\":{\"__ndarray__\":\"GhExyth1ND/Sv8nbtpRIP2vylNV0PVE/aTum7souWD/At0SJ8fVgPw3Iuahxymc/MSNhhJWvcD/bTfBN02d3P2zb5nxnaoA/CD5h5MAGhz8NmeH1TyaQP+zrCsc9p5Y/LbKd76fGnz/bLW5ISEmmPww9YvTcQq8/JV2OstnstT8Er5Y7M8G+P0c+r3jqkcU/5h99k6ZBzj88bCIzFzjVP4enV8oyxN0//yH99nXg5D8qOpLLf0jtP5kqGJXUifQ/c9cS8kHP/D+/DpwzojQEQIEmwoanVwxA4lgXt9HgE0BSSZ2AJuIbQAMJih9jjiNA5q4l5INuK0AwTKYKRj0zQNv5fmq8/DpAaCJseHrtQkB/+zpwzoxKQM3MzMzMeFJAZmZmZmZqWEAAAAAAAFxeQM3MzMzMJmJAmpmZmZkfZUBmZmZmZhhoQDMzMzMzEWtAAAAAAAAKbkBmZmZmZoFwQM3MzMzM/XFAMzMzMzN6c0CamZmZmfZ0QAAAAAAAc3ZAZmZmZmbvd0DNzMzMzGt5QDMzMzMz6HpAmpmZmZlkfEAAAAAAAOF9QGZmZmZmXX9AZmZmZuZsgECamZmZGSuBQM3MzMxM6YFAAAAAAICngkAzMzMzs2WDQGZmZmbmI4RAmpmZmRnihEDNzMzMTKCFQAAAAACAXoZAMzMzM7Mch0BmZmZm5tqHQJqZmZkZmYhAzczMzExXiUAAAAAAgBWKQDMzMzOz04pAZmZmZuaRi0CamZmZGVCMQM3MzMxMDo1AAAAAAIDMjUAzMzMzs4qOQGZmZmbmSI9A\",\"dtype\":\"float64\",\"shape\":[75]}}},\"id\":\"b4a89057-0962-405c-9eb1-31b6dceb951d\",\"type\":\"ColumnDataSource\"},{\"attributes\":{},\"id\":\"f0b7357b-9992-4cc5-812a-62c144e1fa51\",\"type\":\"ResetTool\"},{\"attributes\":{},\"id\":\"e3d6bb77-db67-43f9-866e-c25d2dee09f6\",\"type\":\"PanTool\"},{\"attributes\":{},\"id\":\"1a06322e-4208-4a5a-8454-fdd69c2c2876\",\"type\":\"WheelZoomTool\"},{\"attributes\":{},\"id\":\"88f58ec7-fd85-4f5f-b4a9-8b1cc12dad3d\",\"type\":\"HelpTool\"},{\"attributes\":{\"overlay\":{\"id\":\"29f550d9-c92e-41ec-9459-dbea5299cf73\",\"type\":\"BoxAnnotation\"}},\"id\":\"bf94c28f-eea2-4ce7-b1f3-720bb1552afd\",\"type\":\"BoxZoomTool\"},{\"attributes\":{\"callback\":null,\"end\":0.0399433643952,\"start\":-0.017164333915200003},\"id\":\"0150897f-000b-494e-87f5-175c1962838f\",\"type\":\"Range1d\"},{\"attributes\":{\"callback\":null,\"column_names\":[\"x\",\"y\"],\"data\":{\"x\":{\"__ndarray__\":\"ihVtQuVVq7+cLs2lnw2pv7MsnbFdEaS/IDCxJ/Ehnb99+C+Z9SWRvysHaFfwhnC/TV30vDTxgz/e9WwytzaZP3dc6qbo1qQ/RwGdpwysrT8nMXVIS5SzP82Tst/vpLg/bKqT2FoEvj9D69la/HnBP0P8R8/CWMM/RX8NLVfkxD+8xtOXSmTGP+nYvewJ2Mc/DVYYMolAyT+J33/xLajKPzLfZpap7ss/BK0CradzyT/RQCybOaTCPyF5UTUmNrg/t3XueL5frT+Jmr1z9VGgP23p9xvycY8/FWe/CDetfT845Dym6ch1P6EVLuDrCHQ/Pl6g0YqpcD+SCApNZLdmP9CY/48Qt2Q/7mGqtuZJbD/a3oXlgylwP2iQE8EXYXA/OaxPBn4Fbj9SP3nl5AhkP4YScjcQREc/nWave+C+T79/iRgwsUtmvwzFybiDA3O/lNFYJZcSfL+Qjc34gZ6Dv9x+glYjZYq/SAGLxFDDjb/FSVVrRcGKv+rgAP01joW/8G7e4brOgL/rUUpdMWl4vxFLDEPZFG6/aikqqBIoVb/hSQMmDcFTP85loZf1TW8/H8ZCceLLej+lgBOWKB6DP7iXoeIZ44g/+QA9CmCVjj/ggz8S4gmSP+07aHEkopQ/qmTkUrMMlz+cPjNvckuZP+I1JPgjaJs/2b7Ee7VznT96mRcWkoKfP8r+n+HS06A/1GSqhhv1oT8WtOR/XxSjP1n0rHbd86M/8a4neBIqpD815GC1gHCjP4X1mKuT8aE/3WDY/CAUoD8Ya9vXUTqcP4xZO/kQLpg/\",\"dtype\":\"float64\",\"shape\":[75]},\"y\":{\"__ndarray__\":\"GhExyth1ND/Sv8nbtpRIP2vylNV0PVE/aTum7souWD/At0SJ8fVgPw3Iuahxymc/MSNhhJWvcD/bTfBN02d3P2zb5nxnaoA/CD5h5MAGhz8NmeH1TyaQP+zrCsc9p5Y/LbKd76fGnz/bLW5ISEmmPww9YvTcQq8/JV2OstnstT8Er5Y7M8G+P0c+r3jqkcU/5h99k6ZBzj88bCIzFzjVP4enV8oyxN0//yH99nXg5D8qOpLLf0jtP5kqGJXUifQ/c9cS8kHP/D+/DpwzojQEQIEmwoanVwxA4lgXt9HgE0BSSZ2AJuIbQAMJih9jjiNA5q4l5INuK0AwTKYKRj0zQNv5fmq8/DpAaCJseHrtQkB/+zpwzoxKQM3MzMzMeFJAZmZmZmZqWEAAAAAAAFxeQM3MzMzMJmJAmpmZmZkfZUBmZmZmZhhoQDMzMzMzEWtAAAAAAAAKbkBmZmZmZoFwQM3MzMzM/XFAMzMzMzN6c0CamZmZmfZ0QAAAAAAAc3ZAZmZmZmbvd0DNzMzMzGt5QDMzMzMz6HpAmpmZmZlkfEAAAAAAAOF9QGZmZmZmXX9AZmZmZuZsgECamZmZGSuBQM3MzMxM6YFAAAAAAICngkAzMzMzs2WDQGZmZmbmI4RAmpmZmRnihEDNzMzMTKCFQAAAAACAXoZAMzMzM7Mch0BmZmZm5tqHQJqZmZkZmYhAzczMzExXiUAAAAAAgBWKQDMzMzOz04pAZmZmZuaRi0CamZmZGVCMQM3MzMxMDo1AAAAAAIDMjUAzMzMzs4qOQGZmZmbmSI9A\",\"dtype\":\"float64\",\"shape\":[75]}}},\"id\":\"59507ee4-4fc5-4c7a-9248-2a9213a13640\",\"type\":\"ColumnDataSource\"},{\"attributes\":{\"data_source\":{\"id\":\"59507ee4-4fc5-4c7a-9248-2a9213a13640\",\"type\":\"ColumnDataSource\"},\"glyph\":{\"id\":\"b47607e9-e87b-4fb3-9f62-b9e7fc288f5e\",\"type\":\"Circle\"},\"hover_glyph\":null,\"muted_glyph\":null,\"nonselection_glyph\":{\"id\":\"d75a29bf-c9eb-4838-8d85-4b2878b3a2fd\",\"type\":\"Circle\"},\"selection_glyph\":null,\"view\":{\"id\":\"2fd6baad-d431-44bf-a0d9-bf1912ef1bcb\",\"type\":\"CDSView\"}},\"id\":\"fb5c8692-75bf-4dee-9d59-0f08cdbeb10c\",\"type\":\"GlyphRenderer\"},{\"attributes\":{},\"id\":\"a02989cd-a56c-4a6c-8623-0dd022f0baf8\",\"type\":\"ResetTool\"},{\"attributes\":{},\"id\":\"31b2285a-5d47-424e-a8f8-99800f8c6a2a\",\"type\":\"HelpTool\"},{\"attributes\":{\"source\":{\"id\":\"59507ee4-4fc5-4c7a-9248-2a9213a13640\",\"type\":\"ColumnDataSource\"}},\"id\":\"2fd6baad-d431-44bf-a0d9-bf1912ef1bcb\",\"type\":\"CDSView\"},{\"attributes\":{\"line_color\":\"#4daf4a\",\"line_width\":1.5,\"x\":{\"field\":\"x\"},\"y\":{\"field\":\"y\"}},\"id\":\"e7c37855-854b-404e-a7f4-2a485c53f2d0\",\"type\":\"Line\"},{\"attributes\":{\"callback\":null,\"end\":0.2204326914799,\"start\":-0.0051700394698999995},\"id\":\"e225e929-cab3-4290-8c53-a7bdf41cf4e6\",\"type\":\"Range1d\"},{\"attributes\":{\"below\":[{\"id\":\"cbe1d6af-b57c-477b-a549-06efc85b5c95\",\"type\":\"LinearAxis\"}],\"left\":[{\"id\":\"5b57df13-046e-478b-90bf-c68b19834f1c\",\"type\":\"LinearAxis\"}],\"plot_height\":500,\"plot_width\":400,\"renderers\":[{\"id\":\"cbe1d6af-b57c-477b-a549-06efc85b5c95\",\"type\":\"LinearAxis\"},{\"id\":\"174b65a2-4827-48da-b1ec-c96e3c371fff\",\"type\":\"Grid\"},{\"id\":\"5b57df13-046e-478b-90bf-c68b19834f1c\",\"type\":\"LinearAxis\"},{\"id\":\"529f5bba-cb58-4989-81bd-aa2d21cb9c21\",\"type\":\"Grid\"},{\"id\":\"ad4eafb6-19a0-49db-9400-c322b9b11fff\",\"type\":\"BoxAnnotation\"},{\"id\":\"8b512034-0f4c-4843-ba10-ae5c8a1eb7fa\",\"type\":\"GlyphRenderer\"},{\"id\":\"56ba3788-f91a-42b6-b15b-e79fc3c86fdd\",\"type\":\"GlyphRenderer\"},{\"id\":\"abf5e362-2a39-49ac-86a6-ef3e9cff1526\",\"type\":\"GlyphRenderer\"},{\"id\":\"259eab12-f27b-444f-bf16-14214cf76d27\",\"type\":\"GlyphRenderer\"},{\"id\":\"1f511bfd-7473-48f5-97df-25e0523a075c\",\"type\":\"GlyphRenderer\"}],\"title\":{\"id\":\"1562d45b-dfba-4c76-b6b2-0b3bd4aa4a66\",\"type\":\"Title\"},\"toolbar\":{\"id\":\"638173f1-fe7b-4ed6-8ac0-696528e08c22\",\"type\":\"Toolbar\"},\"toolbar_location\":null,\"x_range\":{\"id\":\"0150897f-000b-494e-87f5-175c1962838f\",\"type\":\"Range1d\"},\"x_scale\":{\"id\":\"083da4d1-e667-464c-89ec-ffb3aa0158d9\",\"type\":\"LinearScale\"},\"y_range\":{\"id\":\"425b9c68-adf8-4061-a7a4-57f6372b2f4d\",\"type\":\"Range1d\"},\"y_scale\":{\"id\":\"3f1bd9e7-702f-4dd4-86ac-d299c46bbacf\",\"type\":\"LinearScale\"}},\"id\":\"03169794-da7c-4ac0-9bde-9cb9ecb510fb\",\"subtype\":\"Figure\",\"type\":\"Plot\"},{\"attributes\":{\"data_source\":{\"id\":\"b4a89057-0962-405c-9eb1-31b6dceb951d\",\"type\":\"ColumnDataSource\"},\"glyph\":{\"id\":\"e7c37855-854b-404e-a7f4-2a485c53f2d0\",\"type\":\"Line\"},\"hover_glyph\":null,\"muted_glyph\":null,\"nonselection_glyph\":{\"id\":\"6aa86197-1115-45cd-8a7b-02ab9722164e\",\"type\":\"Line\"},\"selection_glyph\":null,\"view\":{\"id\":\"fe0d198c-e50e-48e4-87eb-c1371e220326\",\"type\":\"CDSView\"}},\"id\":\"b477200f-6205-4cc5-b64c-f4f47da8af42\",\"type\":\"GlyphRenderer\"},{\"attributes\":{\"children\":[{\"id\":\"03169794-da7c-4ac0-9bde-9cb9ecb510fb\",\"subtype\":\"Figure\",\"type\":\"Plot\"},{\"id\":\"779e0f80-1097-47eb-827b-8678863666e7\",\"subtype\":\"Figure\",\"type\":\"Plot\"}]},\"id\":\"cea62aba-f19e-404d-95f9-a8e0c2b9a52e\",\"type\":\"Row\"},{\"attributes\":{\"line_alpha\":0.1,\"line_color\":\"#1f77b4\",\"line_width\":1.5,\"x\":{\"field\":\"x\"},\"y\":{\"field\":\"y\"}},\"id\":\"6aa86197-1115-45cd-8a7b-02ab9722164e\",\"type\":\"Line\"},{\"attributes\":{\"callback\":null,\"end\":0.01,\"start\":1020},\"id\":\"7854e527-145b-45fc-b907-c477fc324f9d\",\"type\":\"Range1d\"},{\"attributes\":{\"source\":{\"id\":\"b4a89057-0962-405c-9eb1-31b6dceb951d\",\"type\":\"ColumnDataSource\"}},\"id\":\"fe0d198c-e50e-48e4-87eb-c1371e220326\",\"type\":\"CDSView\"},{\"attributes\":{},\"id\":\"b6729dea-b1c3-45e8-9c7b-9e7ba4e64471\",\"type\":\"BasicTickFormatter\"},{\"attributes\":{\"fill_alpha\":{\"value\":0.7},\"fill_color\":{\"value\":\"#984ea3\"},\"line_alpha\":{\"value\":0.7},\"line_color\":{\"value\":\"#984ea3\"},\"x\":{\"field\":\"x\"},\"y\":{\"field\":\"y\"}},\"id\":\"69d9ca3e-d293-4cf2-93f0-771dd55ea13e\",\"type\":\"Square\"},{\"attributes\":{},\"id\":\"3f1bd9e7-702f-4dd4-86ac-d299c46bbacf\",\"type\":\"LinearScale\"},{\"attributes\":{\"line_alpha\":0.6,\"line_color\":\"#984ea3\",\"line_width\":3,\"x\":{\"field\":\"x\"},\"y\":{\"field\":\"y\"}},\"id\":\"28e858f7-909d-4458-b14a-3f5cb5f6960b\",\"type\":\"Line\"},{\"attributes\":{\"source\":{\"id\":\"a1b03f36-d734-43ba-8318-f40b37cf3c16\",\"type\":\"ColumnDataSource\"}},\"id\":\"8b91dd93-be73-4ac0-8b2f-fc5b3179f737\",\"type\":\"CDSView\"},{\"attributes\":{\"active_drag\":\"auto\",\"active_inspect\":\"auto\",\"active_scroll\":\"auto\",\"active_tap\":\"auto\",\"tools\":[{\"id\":\"6844059f-a87a-4f37-b724-e26a90645230\",\"type\":\"PanTool\"},{\"id\":\"4cb7cf5d-c72e-441a-a158-18bb9e15c5fb\",\"type\":\"WheelZoomTool\"},{\"id\":\"de6dd12f-1b49-43b4-a976-94671d3a75a2\",\"type\":\"BoxZoomTool\"},{\"id\":\"02fa2c10-0996-42fd-b57a-db01685dcaa8\",\"type\":\"SaveTool\"},{\"id\":\"f0b7357b-9992-4cc5-812a-62c144e1fa51\",\"type\":\"ResetTool\"},{\"id\":\"88f58ec7-fd85-4f5f-b4a9-8b1cc12dad3d\",\"type\":\"HelpTool\"}]},\"id\":\"638173f1-fe7b-4ed6-8ac0-696528e08c22\",\"type\":\"Toolbar\"},{\"attributes\":{\"fill_alpha\":{\"value\":0.1},\"fill_color\":{\"value\":\"#1f77b4\"},\"line_alpha\":{\"value\":0.1},\"line_color\":{\"value\":\"#1f77b4\"},\"x\":{\"field\":\"x\"},\"y\":{\"field\":\"y\"}},\"id\":\"aee2bb75-db7c-4073-ae30-1db2953a2e84\",\"type\":\"Square\"},{\"attributes\":{\"tools\":[{\"id\":\"6844059f-a87a-4f37-b724-e26a90645230\",\"type\":\"PanTool\"},{\"id\":\"4cb7cf5d-c72e-441a-a158-18bb9e15c5fb\",\"type\":\"WheelZoomTool\"},{\"id\":\"de6dd12f-1b49-43b4-a976-94671d3a75a2\",\"type\":\"BoxZoomTool\"},{\"id\":\"02fa2c10-0996-42fd-b57a-db01685dcaa8\",\"type\":\"SaveTool\"},{\"id\":\"f0b7357b-9992-4cc5-812a-62c144e1fa51\",\"type\":\"ResetTool\"},{\"id\":\"88f58ec7-fd85-4f5f-b4a9-8b1cc12dad3d\",\"type\":\"HelpTool\"},{\"id\":\"e3d6bb77-db67-43f9-866e-c25d2dee09f6\",\"type\":\"PanTool\"},{\"id\":\"1a06322e-4208-4a5a-8454-fdd69c2c2876\",\"type\":\"WheelZoomTool\"},{\"id\":\"bf94c28f-eea2-4ce7-b1f3-720bb1552afd\",\"type\":\"BoxZoomTool\"},{\"id\":\"c33cf120-d26c-4f70-b235-92dc717ef89f\",\"type\":\"SaveTool\"},{\"id\":\"a02989cd-a56c-4a6c-8623-0dd022f0baf8\",\"type\":\"ResetTool\"},{\"id\":\"31b2285a-5d47-424e-a8f8-99800f8c6a2a\",\"type\":\"HelpTool\"}]},\"id\":\"cf396238-cdb2-4869-ae7a-ac6a4f1bdaf9\",\"type\":\"ProxyToolbar\"},{\"attributes\":{\"data_source\":{\"id\":\"a1b03f36-d734-43ba-8318-f40b37cf3c16\",\"type\":\"ColumnDataSource\"},\"glyph\":{\"id\":\"69d9ca3e-d293-4cf2-93f0-771dd55ea13e\",\"type\":\"Square\"},\"hover_glyph\":null,\"muted_glyph\":null,\"nonselection_glyph\":{\"id\":\"aee2bb75-db7c-4073-ae30-1db2953a2e84\",\"type\":\"Square\"},\"selection_glyph\":null,\"view\":{\"id\":\"8b91dd93-be73-4ac0-8b2f-fc5b3179f737\",\"type\":\"CDSView\"}},\"id\":\"cef74276-230f-4e65-ae80-39eb6e69ca5b\",\"type\":\"GlyphRenderer\"},{\"attributes\":{\"items\":[{\"id\":\"3370c2be-e7fb-4a3f-a17a-650b3daccbbc\",\"type\":\"LegendItem\"},{\"id\":\"2ae975a3-4891-4898-877a-19649673419a\",\"type\":\"LegendItem\"},{\"id\":\"3455fa85-cecf-4457-b853-0348deebe0d4\",\"type\":\"LegendItem\"}],\"label_text_font_size\":{\"value\":\"8pt\"},\"location\":[10,-30],\"plot\":{\"id\":\"779e0f80-1097-47eb-827b-8678863666e7\",\"subtype\":\"Figure\",\"type\":\"Plot\"}},\"id\":\"0edac795-cbe8-4a3d-959f-1a4d9ebbdeff\",\"type\":\"Legend\"},{\"attributes\":{\"source\":{\"id\":\"fc0e1313-4c25-4334-b30b-f1f2446755ef\",\"type\":\"ColumnDataSource\"}},\"id\":\"278e5259-aabc-4861-8c12-d94e177d6be2\",\"type\":\"CDSView\"},{\"attributes\":{\"line_alpha\":0.1,\"line_color\":\"#1f77b4\",\"line_width\":3,\"x\":{\"field\":\"x\"},\"y\":{\"field\":\"y\"}},\"id\":\"a82c1cfa-2f75-418c-bb97-5f5480c61fa9\",\"type\":\"Line\"},{\"attributes\":{\"data_source\":{\"id\":\"fc0e1313-4c25-4334-b30b-f1f2446755ef\",\"type\":\"ColumnDataSource\"},\"glyph\":{\"id\":\"28e858f7-909d-4458-b14a-3f5cb5f6960b\",\"type\":\"Line\"},\"hover_glyph\":null,\"muted_glyph\":null,\"nonselection_glyph\":{\"id\":\"a82c1cfa-2f75-418c-bb97-5f5480c61fa9\",\"type\":\"Line\"},\"selection_glyph\":null,\"view\":{\"id\":\"278e5259-aabc-4861-8c12-d94e177d6be2\",\"type\":\"CDSView\"}},\"id\":\"1a6d6b1e-8389-44ea-be48-1ad9956fb16c\",\"type\":\"GlyphRenderer\"},{\"attributes\":{\"label\":{\"value\":\"WGT igg=10 wgt_flux=2\"},\"renderers\":[{\"id\":\"cef74276-230f-4e65-ae80-39eb6e69ca5b\",\"type\":\"GlyphRenderer\"},{\"id\":\"1a6d6b1e-8389-44ea-be48-1ad9956fb16c\",\"type\":\"GlyphRenderer\"}]},\"id\":\"3455fa85-cecf-4457-b853-0348deebe0d4\",\"type\":\"LegendItem\"},{\"attributes\":{\"source\":{\"id\":\"57ea55fb-2613-4512-abba-21b89549a70a\",\"type\":\"ColumnDataSource\"}},\"id\":\"d8a39128-02ba-49bd-a71c-b9ccd04b3238\",\"type\":\"CDSView\"},{\"attributes\":{\"label\":{\"value\":\"CLIRAD `coolr_bands`\"},\"renderers\":[{\"id\":\"46f16498-6d09-4848-8a0b-6d5739a25ca0\",\"type\":\"GlyphRenderer\"}]},\"id\":\"3370c2be-e7fb-4a3f-a17a-650b3daccbbc\",\"type\":\"LegendItem\"},{\"attributes\":{\"children\":[{\"id\":\"de8e2c23-d01b-4909-8fce-34e3350e928e\",\"type\":\"ToolbarBox\"},{\"id\":\"08c04620-99f6-408e-bc1a-0767b4354f7e\",\"type\":\"Column\"}]},\"id\":\"11c73f91-e661-4ea0-a346-ed3655b796d5\",\"type\":\"Column\"},{\"attributes\":{\"line_alpha\":0.6,\"line_color\":\"#e41a1c\",\"line_dash\":[6],\"line_width\":5,\"x\":{\"field\":\"x\"},\"y\":{\"field\":\"y\"}},\"id\":\"7f7ba200-6f74-41dc-8458-e4940e29d50d\",\"type\":\"Line\"},{\"attributes\":{\"below\":[{\"id\":\"3976340a-d4a9-4abb-8e39-c6f8d8158b63\",\"type\":\"LinearAxis\"}],\"left\":[{\"id\":\"dfc87e00-7444-48d1-87ae-442902b70611\",\"type\":\"LogAxis\"}],\"plot_height\":500,\"plot_width\":560,\"renderers\":[{\"id\":\"3976340a-d4a9-4abb-8e39-c6f8d8158b63\",\"type\":\"LinearAxis\"},{\"id\":\"44c897c6-22dc-4c3b-b723-731175683217\",\"type\":\"Grid\"},{\"id\":\"dfc87e00-7444-48d1-87ae-442902b70611\",\"type\":\"LogAxis\"},{\"id\":\"03e9655f-b7fa-4152-b6ae-3a9d9232890f\",\"type\":\"Grid\"},{\"id\":\"29f550d9-c92e-41ec-9459-dbea5299cf73\",\"type\":\"BoxAnnotation\"},{\"id\":\"46f16498-6d09-4848-8a0b-6d5739a25ca0\",\"type\":\"GlyphRenderer\"},{\"id\":\"fb5c8692-75bf-4dee-9d59-0f08cdbeb10c\",\"type\":\"GlyphRenderer\"},{\"id\":\"b477200f-6205-4cc5-b64c-f4f47da8af42\",\"type\":\"GlyphRenderer\"},{\"id\":\"cef74276-230f-4e65-ae80-39eb6e69ca5b\",\"type\":\"GlyphRenderer\"},{\"id\":\"1a6d6b1e-8389-44ea-be48-1ad9956fb16c\",\"type\":\"GlyphRenderer\"},{\"id\":\"0edac795-cbe8-4a3d-959f-1a4d9ebbdeff\",\"type\":\"Legend\"}],\"right\":[{\"id\":\"0edac795-cbe8-4a3d-959f-1a4d9ebbdeff\",\"type\":\"Legend\"}],\"title\":{\"id\":\"32ad0ba0-a913-44e0-8d7b-b0237c4801d9\",\"type\":\"Title\"},\"toolbar\":{\"id\":\"10a5e04a-5bf8-42d2-baea-ed39dbb8b631\",\"type\":\"Toolbar\"},\"toolbar_location\":null,\"x_range\":{\"id\":\"e225e929-cab3-4290-8c53-a7bdf41cf4e6\",\"type\":\"Range1d\"},\"x_scale\":{\"id\":\"41caa840-cb4f-4772-b320-69171a752a48\",\"type\":\"LinearScale\"},\"y_range\":{\"id\":\"7854e527-145b-45fc-b907-c477fc324f9d\",\"type\":\"Range1d\"},\"y_scale\":{\"id\":\"763c716f-76d0-4207-9086-124688fe1c6d\",\"type\":\"LogScale\"}},\"id\":\"779e0f80-1097-47eb-827b-8678863666e7\",\"subtype\":\"Figure\",\"type\":\"Plot\"},{\"attributes\":{\"data_source\":{\"id\":\"57ea55fb-2613-4512-abba-21b89549a70a\",\"type\":\"ColumnDataSource\"},\"glyph\":{\"id\":\"7f7ba200-6f74-41dc-8458-e4940e29d50d\",\"type\":\"Line\"},\"hover_glyph\":null,\"muted_glyph\":null,\"nonselection_glyph\":{\"id\":\"09bcd921-8e47-4217-9328-55b3327297a1\",\"type\":\"Line\"},\"selection_glyph\":null,\"view\":{\"id\":\"d8a39128-02ba-49bd-a71c-b9ccd04b3238\",\"type\":\"CDSView\"}},\"id\":\"8b512034-0f4c-4843-ba10-ae5c8a1eb7fa\",\"type\":\"GlyphRenderer\"},{\"attributes\":{\"line_alpha\":0.1,\"line_color\":\"#1f77b4\",\"line_width\":3,\"x\":{\"field\":\"x\"},\"y\":{\"field\":\"y\"}},\"id\":\"b48260b1-3b9b-459c-baee-a9ac2183a86a\",\"type\":\"Line\"},{\"attributes\":{\"data_source\":{\"id\":\"4d5f3e74-871b-4313-95cd-5858fe4f38d0\",\"type\":\"ColumnDataSource\"},\"glyph\":{\"id\":\"679576b6-1d10-4dd3-86c0-f8f6a9730d59\",\"type\":\"Circle\"},\"hover_glyph\":null,\"muted_glyph\":null,\"nonselection_glyph\":{\"id\":\"b989a089-c521-4200-8cac-d9b8c5a363c2\",\"type\":\"Circle\"},\"selection_glyph\":null,\"view\":{\"id\":\"1796c9fc-c977-4649-ba73-428a48042176\",\"type\":\"CDSView\"}},\"id\":\"56ba3788-f91a-42b6-b15b-e79fc3c86fdd\",\"type\":\"GlyphRenderer\"},{\"attributes\":{\"line_alpha\":0.6,\"line_color\":\"#e41a1c\",\"line_dash\":[6],\"line_width\":5,\"x\":{\"field\":\"x\"},\"y\":{\"field\":\"y\"}},\"id\":\"5aa46467-c4de-43bf-bc07-38bf5e03bf67\",\"type\":\"Line\"},{\"attributes\":{},\"id\":\"909a229e-7572-4ee0-8465-a2fb9c9d7199\",\"type\":\"BasicTicker\"},{\"attributes\":{\"toolbar\":{\"id\":\"cf396238-cdb2-4869-ae7a-ac6a4f1bdaf9\",\"type\":\"ProxyToolbar\"},\"toolbar_location\":\"above\"},\"id\":\"de8e2c23-d01b-4909-8fce-34e3350e928e\",\"type\":\"ToolbarBox\"},{\"attributes\":{},\"id\":\"083da4d1-e667-464c-89ec-ffb3aa0158d9\",\"type\":\"LinearScale\"},{\"attributes\":{\"plot\":null,\"text\":\"Log pressure scale\"},\"id\":\"32ad0ba0-a913-44e0-8d7b-b0237c4801d9\",\"type\":\"Title\"},{\"attributes\":{\"line_alpha\":0.1,\"line_color\":\"#1f77b4\",\"line_dash\":[6],\"line_width\":5,\"x\":{\"field\":\"x\"},\"y\":{\"field\":\"y\"}},\"id\":\"c3d6a50e-fa0a-45c9-80c2-9dbfda3e9748\",\"type\":\"Line\"},{\"attributes\":{\"dimension\":1,\"plot\":{\"id\":\"03169794-da7c-4ac0-9bde-9cb9ecb510fb\",\"subtype\":\"Figure\",\"type\":\"Plot\"},\"ticker\":{\"id\":\"909a229e-7572-4ee0-8465-a2fb9c9d7199\",\"type\":\"BasicTicker\"}},\"id\":\"529f5bba-cb58-4989-81bd-aa2d21cb9c21\",\"type\":\"Grid\"},{\"attributes\":{\"data_source\":{\"id\":\"971e6876-e1aa-4b52-b27f-6643b8ad45e5\",\"type\":\"ColumnDataSource\"},\"glyph\":{\"id\":\"31ffeb0f-db72-4a4f-8a3c-dc668eef62f2\",\"type\":\"Line\"},\"hover_glyph\":null,\"muted_glyph\":null,\"nonselection_glyph\":{\"id\":\"b48260b1-3b9b-459c-baee-a9ac2183a86a\",\"type\":\"Line\"},\"selection_glyph\":null,\"view\":{\"id\":\"b56abd2c-b5f4-4d7b-9b09-5970486d2c37\",\"type\":\"CDSView\"}},\"id\":\"1f511bfd-7473-48f5-97df-25e0523a075c\",\"type\":\"GlyphRenderer\"},{\"attributes\":{\"axis_label\":\"pressure [mb]\",\"formatter\":{\"id\":\"921eb6c1-28f0-4d27-913d-efe34e524a6c\",\"type\":\"BasicTickFormatter\"},\"plot\":{\"id\":\"03169794-da7c-4ac0-9bde-9cb9ecb510fb\",\"subtype\":\"Figure\",\"type\":\"Plot\"},\"ticker\":{\"id\":\"909a229e-7572-4ee0-8465-a2fb9c9d7199\",\"type\":\"BasicTicker\"}},\"id\":\"5b57df13-046e-478b-90bf-c68b19834f1c\",\"type\":\"LinearAxis\"},{\"attributes\":{\"plot\":{\"id\":\"03169794-da7c-4ac0-9bde-9cb9ecb510fb\",\"subtype\":\"Figure\",\"type\":\"Plot\"},\"ticker\":{\"id\":\"d39af721-c2b5-4af9-9e9c-00b885850558\",\"type\":\"BasicTicker\"}},\"id\":\"174b65a2-4827-48da-b1ec-c96e3c371fff\",\"type\":\"Grid\"},{\"attributes\":{\"source\":{\"id\":\"971e6876-e1aa-4b52-b27f-6643b8ad45e5\",\"type\":\"ColumnDataSource\"}},\"id\":\"b56abd2c-b5f4-4d7b-9b09-5970486d2c37\",\"type\":\"CDSView\"},{\"attributes\":{\"plot\":null,\"text\":\"Linear pressure scale\"},\"id\":\"1562d45b-dfba-4c76-b6b2-0b3bd4aa4a66\",\"type\":\"Title\"},{\"attributes\":{\"data_source\":{\"id\":\"a8d0cc2e-eebd-462c-a16a-7b2b8df34c2a\",\"type\":\"ColumnDataSource\"},\"glyph\":{\"id\":\"5aa46467-c4de-43bf-bc07-38bf5e03bf67\",\"type\":\"Line\"},\"hover_glyph\":null,\"muted_glyph\":null,\"nonselection_glyph\":{\"id\":\"c3d6a50e-fa0a-45c9-80c2-9dbfda3e9748\",\"type\":\"Line\"},\"selection_glyph\":null,\"view\":{\"id\":\"b9e52526-3b66-4a84-ad13-6bfec44a917b\",\"type\":\"CDSView\"}},\"id\":\"46f16498-6d09-4848-8a0b-6d5739a25ca0\",\"type\":\"GlyphRenderer\"},{\"attributes\":{\"axis_label\":\"cooling rate [K/day]\",\"formatter\":{\"id\":\"b6729dea-b1c3-45e8-9c7b-9e7ba4e64471\",\"type\":\"BasicTickFormatter\"},\"plot\":{\"id\":\"03169794-da7c-4ac0-9bde-9cb9ecb510fb\",\"subtype\":\"Figure\",\"type\":\"Plot\"},\"ticker\":{\"id\":\"d39af721-c2b5-4af9-9e9c-00b885850558\",\"type\":\"BasicTicker\"}},\"id\":\"cbe1d6af-b57c-477b-a549-06efc85b5c95\",\"type\":\"LinearAxis\"},{\"attributes\":{\"bottom_units\":\"screen\",\"fill_alpha\":{\"value\":0.5},\"fill_color\":{\"value\":\"lightgrey\"},\"left_units\":\"screen\",\"level\":\"overlay\",\"line_alpha\":{\"value\":1.0},\"line_color\":{\"value\":\"black\"},\"line_dash\":[4,4],\"line_width\":{\"value\":2},\"plot\":null,\"render_mode\":\"css\",\"right_units\":\"screen\",\"top_units\":\"screen\"},\"id\":\"ad4eafb6-19a0-49db-9400-c322b9b11fff\",\"type\":\"BoxAnnotation\"},{\"attributes\":{\"callback\":null,\"column_names\":[\"x\",\"y\"],\"data\":{\"x\":{\"__ndarray__\":\"/ev0vtMWhL+j5ao8dM98vyKbZqQX2k2/hV1fphABeD+gcjozOzeLP+kRshJE9JU/9loDbQgUnz/wozsEZYWkP/X/TrNw9Kk/lob2vqzhrz+k6sEevymzP51/kGx7qbY/aWGigyZwuj+Rc+642Qa+P+oa81vwecA/s4BDh0TKwT8O/vr4tibDP7WqX8huj8Q/Lf6+mJADxj8LBfA/x4HHP8+9qFl33sg/QR2gRQCBxz9Z3F5WUdHCPwnYkn6Qn7s/bjvuDR4jsz+FWMgftjuoP6BrS1xIOZo/UMVLP/qJhz8Iqa801uF0P+CZbB7wyWY/lRNEUIItYD8uLQ9/eXtaP7k0wkey+mM/nmnAYyrLcD/W0bMIZZt0P8c0DESz0HU/Hb40nKWxdD97CGq9RidvP2DVl2zOFl8/eAGozf/II78xY98MvdBjv2HaGsYiY3S/v8uvF6gbgL8df+EWpeSGv8u/mxBoII6/qAd0QsLZkL+JZqUWOEOPvxQ03yHCSIq/Qhazbzg9hb+h9ebzLjeAv/LVEtKhKna/zey/AhtGZ78PDSGv3ucmvw1ZxAR6B2U/KHTeB6cTdj/t54CkkOuAP7Wh9f+Qz4Y/ETzzrzuWjD/W/s726A2RP+wLn6+ErpM/+rjOcBcilj9moW2aFnOYP7/5aMx/o5o/5XGkdUzEnD/5g6L1x+aeP23KvCWei6A/oHIUbJiroT9kCOQ4DsGiP2qxIDz2jaM/YcTb1li6oz+QyZO4Tw2jP/BmXCQsq6E/vq5magDZnz8SNtmSly2cP2tL4IDdg5g/\",\"dtype\":\"float64\",\"shape\":[75]},\"y\":{\"__ndarray__\":\"S/O/Q+51ND/Sv8nbtpRIP2vylNV0PVE/aTum7souWD/At0SJ8fVgPw3Iuahxymc/MSNhhJWvcD/bTfBN02d3P2zb5nxnaoA/CD5h5MAGhz8NmeH1TyaQP+zrCsc9p5Y/LbKd76fGnz/bLW5ISEmmPww9YvTcQq8/JV2OstnstT8Er5Y7M8G+P0c+r3jqkcU/5h99k6ZBzj88bCIzFzjVP4enV8oyxN0//yH99nXg5D8qOpLLf0jtP5kqGJXUifQ/c9cS8kHP/D+/DpwzojQEQIEmwoanVwxA4lgXt9HgE0BSSZ2AJuIbQAMJih9jjiNA5q4l5INuK0AwTKYKRj0zQNv5fmq8/DpAaCJseHrtQkB/+zpwzoxKQM3MzMzMeFJAZmZmZmZqWEAAAAAAAFxeQM3MzMzMJmJAmpmZmZkfZUBmZmZmZhhoQDMzMzMzEWtAAAAAAAAKbkBmZmZmZoFwQM3MzMzM/XFAMzMzMzN6c0CamZmZmfZ0QAAAAAAAc3ZAZmZmZmbvd0DNzMzMzGt5QDMzMzMz6HpAmpmZmZlkfEAAAAAAAOF9QGZmZmZmXX9AZmZmZuZsgECamZmZGSuBQM3MzMxM6YFAAAAAAICngkAzMzMzs2WDQGZmZmbmI4RAmpmZmRnihEDNzMzMTKCFQAAAAACAXoZAMzMzM7Mch0BmZmZm5tqHQJqZmZkZmYhAzczMzExXiUAAAAAAgBWKQDMzMzOz04pAZmZmZuaRi0CamZmZGVCMQM3MzMxMDo1AAAAAAIDMjUAzMzMzs4qOQGZmZmbmSI9A\",\"dtype\":\"float64\",\"shape\":[75]}}},\"id\":\"a8d0cc2e-eebd-462c-a16a-7b2b8df34c2a\",\"type\":\"ColumnDataSource\"},{\"attributes\":{},\"id\":\"6844059f-a87a-4f37-b724-e26a90645230\",\"type\":\"PanTool\"},{\"attributes\":{\"label\":{\"value\":\"CRD\"},\"renderers\":[{\"id\":\"fb5c8692-75bf-4dee-9d59-0f08cdbeb10c\",\"type\":\"GlyphRenderer\"},{\"id\":\"b477200f-6205-4cc5-b64c-f4f47da8af42\",\"type\":\"GlyphRenderer\"}]},\"id\":\"2ae975a3-4891-4898-877a-19649673419a\",\"type\":\"LegendItem\"},{\"attributes\":{},\"id\":\"d39af721-c2b5-4af9-9e9c-00b885850558\",\"type\":\"BasicTicker\"},{\"attributes\":{\"active_drag\":\"auto\",\"active_inspect\":\"auto\",\"active_scroll\":\"auto\",\"active_tap\":\"auto\",\"tools\":[{\"id\":\"e3d6bb77-db67-43f9-866e-c25d2dee09f6\",\"type\":\"PanTool\"},{\"id\":\"1a06322e-4208-4a5a-8454-fdd69c2c2876\",\"type\":\"WheelZoomTool\"},{\"id\":\"bf94c28f-eea2-4ce7-b1f3-720bb1552afd\",\"type\":\"BoxZoomTool\"},{\"id\":\"c33cf120-d26c-4f70-b235-92dc717ef89f\",\"type\":\"SaveTool\"},{\"id\":\"a02989cd-a56c-4a6c-8623-0dd022f0baf8\",\"type\":\"ResetTool\"},{\"id\":\"31b2285a-5d47-424e-a8f8-99800f8c6a2a\",\"type\":\"HelpTool\"}]},\"id\":\"10a5e04a-5bf8-42d2-baea-ed39dbb8b631\",\"type\":\"Toolbar\"},{\"attributes\":{\"fill_alpha\":{\"value\":0.1},\"fill_color\":{\"value\":\"#1f77b4\"},\"line_alpha\":{\"value\":0.1},\"line_color\":{\"value\":\"#1f77b4\"},\"x\":{\"field\":\"x\"},\"y\":{\"field\":\"y\"}},\"id\":\"b989a089-c521-4200-8cac-d9b8c5a363c2\",\"type\":\"Circle\"},{\"attributes\":{\"callback\":null,\"end\":0.01,\"start\":1020},\"id\":\"425b9c68-adf8-4061-a7a4-57f6372b2f4d\",\"type\":\"Range1d\"},{\"attributes\":{},\"id\":\"921eb6c1-28f0-4d27-913d-efe34e524a6c\",\"type\":\"BasicTickFormatter\"},{\"attributes\":{\"source\":{\"id\":\"a8d0cc2e-eebd-462c-a16a-7b2b8df34c2a\",\"type\":\"ColumnDataSource\"}},\"id\":\"b9e52526-3b66-4a84-ad13-6bfec44a917b\",\"type\":\"CDSView\"},{\"attributes\":{\"callback\":null,\"column_names\":[\"x\",\"y\"],\"data\":{\"x\":{\"__ndarray__\":\"kcXUYBJPl79Q3n0A5tqTv1EP2vlXrIi/4urojewOcL+trPmOuUt0P11CfCf4+40/nsqt7hnimT8Xx4BvruqiP6JUzEB1aak/AyT/VA48sD8QCF6DAga0PwBsCUieHLg/n9ORqUKHvD9L+5L26VTAPzRTunw++cE/m1xxZ/hnwz9IvjIbwNrEP3pxH5r8UMY/79lDzkXLxz9LzW6gbEvJP6PRNxFbp8o/HOlVlQXeyD8Lvenon1PDP3StxkdAUbs/vr377UI6sj/I2LTNU1mmPwWNHy/Ltpc/CAa7dbw4hj+fvxqepDt4Pz5shreE6nA/kTRM2kiDaT+4sH+m7I1iPyMcGngH8WU/6QzlioH+cD8MfPyaWYF0P5ZmSYtXa3U/NAlPadXpcz8AppVfwGNsP2z5f/90UFc/bO1X3cWnRr8JM9tL5TtovzGJ0xShQ3a/36so2IPSgL957+Co7WGHv3iZCpRbjI6/l3iGFMIAkb8hCUACVC+Pv81RbLJy4om/A1kRD/S3hL9FdMNHqD9/vxunrwvp7nS/lyotDXisZL/K7uR+E44kP9bLstRRAWg/AEL1+Dmzdz/6L/kIpsuBP5uxwNP/wYc/ehbSADKbjT/nqC2u/Z2RP5oElOogRpQ/6B/ShMe/lj9Aq7MjUA+ZPy1HOO2PPJs/rhUJyllZnT+eZl/kzHWfPyTQkHZw0aA/2p9CJQ/woT+/3Orj6ASjP6fX5Cus1KM/XsIccDwCpD9K6hz1q0+jP0CvvB0c5KE/rglOG5AcoD//a7/tFXicPydqMV/Yrpg/\",\"dtype\":\"float64\",\"shape\":[75]},\"y\":{\"__ndarray__\":\"GhExyth1ND/Sv8nbtpRIP2vylNV0PVE/aTum7souWD/At0SJ8fVgPw3Iuahxymc/MSNhhJWvcD/bTfBN02d3P2zb5nxnaoA/CD5h5MAGhz8NmeH1TyaQP+zrCsc9p5Y/LbKd76fGnz/bLW5ISEmmPww9YvTcQq8/JV2OstnstT8Er5Y7M8G+P0c+r3jqkcU/5h99k6ZBzj88bCIzFzjVP4enV8oyxN0//yH99nXg5D8qOpLLf0jtP5kqGJXUifQ/c9cS8kHP/D+/DpwzojQEQIEmwoanVwxA4lgXt9HgE0BSSZ2AJuIbQAMJih9jjiNA5q4l5INuK0AwTKYKRj0zQNv5fmq8/DpAaCJseHrtQkB/+zpwzoxKQM3MzMzMeFJAZmZmZmZqWEAAAAAAAFxeQM3MzMzMJmJAmpmZmZkfZUBmZmZmZhhoQDMzMzMzEWtAAAAAAAAKbkBmZmZmZoFwQM3MzMzM/XFAMzMzMzN6c0CamZmZmfZ0QAAAAAAAc3ZAZmZmZmbvd0DNzMzMzGt5QDMzMzMz6HpAmpmZmZlkfEAAAAAAAOF9QGZmZmZmXX9AZmZmZuZsgECamZmZGSuBQM3MzMxM6YFAAAAAAICngkAzMzMzs2WDQGZmZmbmI4RAmpmZmRnihEDNzMzMTKCFQAAAAACAXoZAMzMzM7Mch0BmZmZm5tqHQJqZmZkZmYhAzczMzExXiUAAAAAAgBWKQDMzMzOz04pAZmZmZuaRi0CamZmZGVCMQM3MzMxMDo1AAAAAAIDMjUAzMzMzs4qOQGZmZmbmSI9A\",\"dtype\":\"float64\",\"shape\":[75]}}},\"id\":\"07d2d7dd-cf3d-4ab7-885e-7b18efbf0c46\",\"type\":\"ColumnDataSource\"},{\"attributes\":{\"callback\":null,\"column_names\":[\"x\",\"y\"],\"data\":{\"x\":{\"__ndarray__\":\"ihVtQuVVq7+cLs2lnw2pv7MsnbFdEaS/IDCxJ/Ehnb99+C+Z9SWRvysHaFfwhnC/TV30vDTxgz/e9WwytzaZP3dc6qbo1qQ/RwGdpwysrT8nMXVIS5SzP82Tst/vpLg/bKqT2FoEvj9D69la/HnBP0P8R8/CWMM/RX8NLVfkxD+8xtOXSmTGP+nYvewJ2Mc/DVYYMolAyT+J33/xLajKPzLfZpap7ss/BK0CradzyT/RQCybOaTCPyF5UTUmNrg/t3XueL5frT+Jmr1z9VGgP23p9xvycY8/FWe/CDetfT845Dym6ch1P6EVLuDrCHQ/Pl6g0YqpcD+SCApNZLdmP9CY/48Qt2Q/7mGqtuZJbD/a3oXlgylwP2iQE8EXYXA/OaxPBn4Fbj9SP3nl5AhkP4YScjcQREc/nWave+C+T79/iRgwsUtmvwzFybiDA3O/lNFYJZcSfL+Qjc34gZ6Dv9x+glYjZYq/SAGLxFDDjb/FSVVrRcGKv+rgAP01joW/8G7e4brOgL/rUUpdMWl4vxFLDEPZFG6/aikqqBIoVb/hSQMmDcFTP85loZf1TW8/H8ZCceLLej+lgBOWKB6DP7iXoeIZ44g/+QA9CmCVjj/ggz8S4gmSP+07aHEkopQ/qmTkUrMMlz+cPjNvckuZP+I1JPgjaJs/2b7Ee7VznT96mRcWkoKfP8r+n+HS06A/1GSqhhv1oT8WtOR/XxSjP1n0rHbd86M/8a4neBIqpD815GC1gHCjP4X1mKuT8aE/3WDY/CAUoD8Ya9vXUTqcP4xZO/kQLpg/\",\"dtype\":\"float64\",\"shape\":[75]},\"y\":{\"__ndarray__\":\"GhExyth1ND/Sv8nbtpRIP2vylNV0PVE/aTum7souWD/At0SJ8fVgPw3Iuahxymc/MSNhhJWvcD/bTfBN02d3P2zb5nxnaoA/CD5h5MAGhz8NmeH1TyaQP+zrCsc9p5Y/LbKd76fGnz/bLW5ISEmmPww9YvTcQq8/JV2OstnstT8Er5Y7M8G+P0c+r3jqkcU/5h99k6ZBzj88bCIzFzjVP4enV8oyxN0//yH99nXg5D8qOpLLf0jtP5kqGJXUifQ/c9cS8kHP/D+/DpwzojQEQIEmwoanVwxA4lgXt9HgE0BSSZ2AJuIbQAMJih9jjiNA5q4l5INuK0AwTKYKRj0zQNv5fmq8/DpAaCJseHrtQkB/+zpwzoxKQM3MzMzMeFJAZmZmZmZqWEAAAAAAAFxeQM3MzMzMJmJAmpmZmZkfZUBmZmZmZhhoQDMzMzMzEWtAAAAAAAAKbkBmZmZmZoFwQM3MzMzM/XFAMzMzMzN6c0CamZmZmfZ0QAAAAAAAc3ZAZmZmZmbvd0DNzMzMzGt5QDMzMzMz6HpAmpmZmZlkfEAAAAAAAOF9QGZmZmZmXX9AZmZmZuZsgECamZmZGSuBQM3MzMxM6YFAAAAAAICngkAzMzMzs2WDQGZmZmbmI4RAmpmZmRnihEDNzMzMTKCFQAAAAACAXoZAMzMzM7Mch0BmZmZm5tqHQJqZmZkZmYhAzczMzExXiUAAAAAAgBWKQDMzMzOz04pAZmZmZuaRi0CamZmZGVCMQM3MzMxMDo1AAAAAAIDMjUAzMzMzs4qOQGZmZmbmSI9A\",\"dtype\":\"float64\",\"shape\":[75]}}},\"id\":\"4d5f3e74-871b-4313-95cd-5858fe4f38d0\",\"type\":\"ColumnDataSource\"},{\"attributes\":{\"fill_alpha\":{\"value\":0.7},\"fill_color\":{\"value\":\"#984ea3\"},\"line_alpha\":{\"value\":0.7},\"line_color\":{\"value\":\"#984ea3\"},\"x\":{\"field\":\"x\"},\"y\":{\"field\":\"y\"}},\"id\":\"aa0acb27-69d2-4d9b-8b38-ed474aa5b6e6\",\"type\":\"Square\"},{\"attributes\":{\"line_alpha\":0.1,\"line_color\":\"#1f77b4\",\"line_width\":1.5,\"x\":{\"field\":\"x\"},\"y\":{\"field\":\"y\"}},\"id\":\"7044ef4b-d796-49ce-b7f1-370c3164e224\",\"type\":\"Line\"},{\"attributes\":{\"fill_alpha\":{\"value\":0.1},\"fill_color\":{\"value\":\"#1f77b4\"},\"line_alpha\":{\"value\":0.1},\"line_color\":{\"value\":\"#1f77b4\"},\"x\":{\"field\":\"x\"},\"y\":{\"field\":\"y\"}},\"id\":\"4e710968-d5d6-4b57-97b2-33211df01469\",\"type\":\"Square\"},{\"attributes\":{\"callback\":null,\"column_names\":[\"x\",\"y\"],\"data\":{\"x\":{\"__ndarray__\":\"kcXUYBJPl79Q3n0A5tqTv1EP2vlXrIi/4urojewOcL+trPmOuUt0P11CfCf4+40/nsqt7hnimT8Xx4BvruqiP6JUzEB1aak/AyT/VA48sD8QCF6DAga0PwBsCUieHLg/n9ORqUKHvD9L+5L26VTAPzRTunw++cE/m1xxZ/hnwz9IvjIbwNrEP3pxH5r8UMY/79lDzkXLxz9LzW6gbEvJP6PRNxFbp8o/HOlVlQXeyD8Lvenon1PDP3StxkdAUbs/vr377UI6sj/I2LTNU1mmPwWNHy/Ltpc/CAa7dbw4hj+fvxqepDt4Pz5shreE6nA/kTRM2kiDaT+4sH+m7I1iPyMcGngH8WU/6QzlioH+cD8MfPyaWYF0P5ZmSYtXa3U/NAlPadXpcz8AppVfwGNsP2z5f/90UFc/bO1X3cWnRr8JM9tL5TtovzGJ0xShQ3a/36so2IPSgL957+Co7WGHv3iZCpRbjI6/l3iGFMIAkb8hCUACVC+Pv81RbLJy4om/A1kRD/S3hL9FdMNHqD9/vxunrwvp7nS/lyotDXisZL/K7uR+E44kP9bLstRRAWg/AEL1+Dmzdz/6L/kIpsuBP5uxwNP/wYc/ehbSADKbjT/nqC2u/Z2RP5oElOogRpQ/6B/ShMe/lj9Aq7MjUA+ZPy1HOO2PPJs/rhUJyllZnT+eZl/kzHWfPyTQkHZw0aA/2p9CJQ/woT+/3Orj6ASjP6fX5Cus1KM/XsIccDwCpD9K6hz1q0+jP0CvvB0c5KE/rglOG5AcoD//a7/tFXicPydqMV/Yrpg/\",\"dtype\":\"float64\",\"shape\":[75]},\"y\":{\"__ndarray__\":\"GhExyth1ND/Sv8nbtpRIP2vylNV0PVE/aTum7souWD/At0SJ8fVgPw3Iuahxymc/MSNhhJWvcD/bTfBN02d3P2zb5nxnaoA/CD5h5MAGhz8NmeH1TyaQP+zrCsc9p5Y/LbKd76fGnz/bLW5ISEmmPww9YvTcQq8/JV2OstnstT8Er5Y7M8G+P0c+r3jqkcU/5h99k6ZBzj88bCIzFzjVP4enV8oyxN0//yH99nXg5D8qOpLLf0jtP5kqGJXUifQ/c9cS8kHP/D+/DpwzojQEQIEmwoanVwxA4lgXt9HgE0BSSZ2AJuIbQAMJih9jjiNA5q4l5INuK0AwTKYKRj0zQNv5fmq8/DpAaCJseHrtQkB/+zpwzoxKQM3MzMzMeFJAZmZmZmZqWEAAAAAAAFxeQM3MzMzMJmJAmpmZmZkfZUBmZmZmZhhoQDMzMzMzEWtAAAAAAAAKbkBmZmZmZoFwQM3MzMzM/XFAMzMzMzN6c0CamZmZmfZ0QAAAAAAAc3ZAZmZmZmbvd0DNzMzMzGt5QDMzMzMz6HpAmpmZmZlkfEAAAAAAAOF9QGZmZmZmXX9AZmZmZuZsgECamZmZGSuBQM3MzMxM6YFAAAAAAICngkAzMzMzs2WDQGZmZmbmI4RAmpmZmRnihEDNzMzMTKCFQAAAAACAXoZAMzMzM7Mch0BmZmZm5tqHQJqZmZkZmYhAzczMzExXiUAAAAAAgBWKQDMzMzOz04pAZmZmZuaRi0CamZmZGVCMQM3MzMxMDo1AAAAAAIDMjUAzMzMzs4qOQGZmZmbmSI9A\",\"dtype\":\"float64\",\"shape\":[75]}}},\"id\":\"971e6876-e1aa-4b52-b27f-6643b8ad45e5\",\"type\":\"ColumnDataSource\"},{\"attributes\":{\"line_alpha\":0.1,\"line_color\":\"#1f77b4\",\"line_dash\":[6],\"line_width\":5,\"x\":{\"field\":\"x\"},\"y\":{\"field\":\"y\"}},\"id\":\"09bcd921-8e47-4217-9328-55b3327297a1\",\"type\":\"Line\"},{\"attributes\":{\"source\":{\"id\":\"07d2d7dd-cf3d-4ab7-885e-7b18efbf0c46\",\"type\":\"ColumnDataSource\"}},\"id\":\"261db2d2-9dfd-493f-a14e-56b5999f722f\",\"type\":\"CDSView\"},{\"attributes\":{\"source\":{\"id\":\"4d5f3e74-871b-4313-95cd-5858fe4f38d0\",\"type\":\"ColumnDataSource\"}},\"id\":\"1796c9fc-c977-4649-ba73-428a48042176\",\"type\":\"CDSView\"},{\"attributes\":{\"ticker\":null},\"id\":\"f86b4b32-1a98-4bb3-9ae3-94f1bfd923a3\",\"type\":\"LogTickFormatter\"},{\"attributes\":{\"line_alpha\":0.6,\"line_color\":\"#984ea3\",\"line_width\":3,\"x\":{\"field\":\"x\"},\"y\":{\"field\":\"y\"}},\"id\":\"31ffeb0f-db72-4a4f-8a3c-dc668eef62f2\",\"type\":\"Line\"},{\"attributes\":{\"line_color\":\"#4daf4a\",\"line_width\":1.5,\"x\":{\"field\":\"x\"},\"y\":{\"field\":\"y\"}},\"id\":\"0e7cf3d4-6e07-4b69-9b2a-894b54752ac2\",\"type\":\"Line\"},{\"attributes\":{\"source\":{\"id\":\"219abf2f-3d24-407a-8056-011cabba55d7\",\"type\":\"ColumnDataSource\"}},\"id\":\"41746da9-63e8-4b87-8e05-348244ca4c8b\",\"type\":\"CDSView\"},{\"attributes\":{\"callback\":null,\"column_names\":[\"x\",\"y\"],\"data\":{\"x\":{\"__ndarray__\":\"ihVtQuVVq7+cLs2lnw2pv7MsnbFdEaS/IDCxJ/Ehnb99+C+Z9SWRvysHaFfwhnC/TV30vDTxgz/e9WwytzaZP3dc6qbo1qQ/RwGdpwysrT8nMXVIS5SzP82Tst/vpLg/bKqT2FoEvj9D69la/HnBP0P8R8/CWMM/RX8NLVfkxD+8xtOXSmTGP+nYvewJ2Mc/DVYYMolAyT+J33/xLajKPzLfZpap7ss/BK0CradzyT/RQCybOaTCPyF5UTUmNrg/t3XueL5frT+Jmr1z9VGgP23p9xvycY8/FWe/CDetfT845Dym6ch1P6EVLuDrCHQ/Pl6g0YqpcD+SCApNZLdmP9CY/48Qt2Q/7mGqtuZJbD/a3oXlgylwP2iQE8EXYXA/OaxPBn4Fbj9SP3nl5AhkP4YScjcQREc/nWave+C+T79/iRgwsUtmvwzFybiDA3O/lNFYJZcSfL+Qjc34gZ6Dv9x+glYjZYq/SAGLxFDDjb/FSVVrRcGKv+rgAP01joW/8G7e4brOgL/rUUpdMWl4vxFLDEPZFG6/aikqqBIoVb/hSQMmDcFTP85loZf1TW8/H8ZCceLLej+lgBOWKB6DP7iXoeIZ44g/+QA9CmCVjj/ggz8S4gmSP+07aHEkopQ/qmTkUrMMlz+cPjNvckuZP+I1JPgjaJs/2b7Ee7VznT96mRcWkoKfP8r+n+HS06A/1GSqhhv1oT8WtOR/XxSjP1n0rHbd86M/8a4neBIqpD815GC1gHCjP4X1mKuT8aE/3WDY/CAUoD8Ya9vXUTqcP4xZO/kQLpg/\",\"dtype\":\"float64\",\"shape\":[75]},\"y\":{\"__ndarray__\":\"GhExyth1ND/Sv8nbtpRIP2vylNV0PVE/aTum7souWD/At0SJ8fVgPw3Iuahxymc/MSNhhJWvcD/bTfBN02d3P2zb5nxnaoA/CD5h5MAGhz8NmeH1TyaQP+zrCsc9p5Y/LbKd76fGnz/bLW5ISEmmPww9YvTcQq8/JV2OstnstT8Er5Y7M8G+P0c+r3jqkcU/5h99k6ZBzj88bCIzFzjVP4enV8oyxN0//yH99nXg5D8qOpLLf0jtP5kqGJXUifQ/c9cS8kHP/D+/DpwzojQEQIEmwoanVwxA4lgXt9HgE0BSSZ2AJuIbQAMJih9jjiNA5q4l5INuK0AwTKYKRj0zQNv5fmq8/DpAaCJseHrtQkB/+zpwzoxKQM3MzMzMeFJAZmZmZmZqWEAAAAAAAFxeQM3MzMzMJmJAmpmZmZkfZUBmZmZmZhhoQDMzMzMzEWtAAAAAAAAKbkBmZmZmZoFwQM3MzMzM/XFAMzMzMzN6c0CamZmZmfZ0QAAAAAAAc3ZAZmZmZmbvd0DNzMzMzGt5QDMzMzMz6HpAmpmZmZlkfEAAAAAAAOF9QGZmZmZmXX9AZmZmZuZsgECamZmZGSuBQM3MzMxM6YFAAAAAAICngkAzMzMzs2WDQGZmZmbmI4RAmpmZmRnihEDNzMzMTKCFQAAAAACAXoZAMzMzM7Mch0BmZmZm5tqHQJqZmZkZmYhAzczMzExXiUAAAAAAgBWKQDMzMzOz04pAZmZmZuaRi0CamZmZGVCMQM3MzMxMDo1AAAAAAIDMjUAzMzMzs4qOQGZmZmbmSI9A\",\"dtype\":\"float64\",\"shape\":[75]}}},\"id\":\"219abf2f-3d24-407a-8056-011cabba55d7\",\"type\":\"ColumnDataSource\"},{\"attributes\":{\"data_source\":{\"id\":\"219abf2f-3d24-407a-8056-011cabba55d7\",\"type\":\"ColumnDataSource\"},\"glyph\":{\"id\":\"0e7cf3d4-6e07-4b69-9b2a-894b54752ac2\",\"type\":\"Line\"},\"hover_glyph\":null,\"muted_glyph\":null,\"nonselection_glyph\":{\"id\":\"7044ef4b-d796-49ce-b7f1-370c3164e224\",\"type\":\"Line\"},\"selection_glyph\":null,\"view\":{\"id\":\"41746da9-63e8-4b87-8e05-348244ca4c8b\",\"type\":\"CDSView\"}},\"id\":\"abf5e362-2a39-49ac-86a6-ef3e9cff1526\",\"type\":\"GlyphRenderer\"},{\"attributes\":{\"data_source\":{\"id\":\"07d2d7dd-cf3d-4ab7-885e-7b18efbf0c46\",\"type\":\"ColumnDataSource\"},\"glyph\":{\"id\":\"aa0acb27-69d2-4d9b-8b38-ed474aa5b6e6\",\"type\":\"Square\"},\"hover_glyph\":null,\"muted_glyph\":null,\"nonselection_glyph\":{\"id\":\"4e710968-d5d6-4b57-97b2-33211df01469\",\"type\":\"Square\"},\"selection_glyph\":null,\"view\":{\"id\":\"261db2d2-9dfd-493f-a14e-56b5999f722f\",\"type\":\"CDSView\"}},\"id\":\"259eab12-f27b-444f-bf16-14214cf76d27\",\"type\":\"GlyphRenderer\"}],\"root_ids\":[\"11c73f91-e661-4ea0-a346-ed3655b796d5\"]},\"title\":\"Bokeh Application\",\"version\":\"0.12.14\"}};\n",
       "  var render_items = [{\"docid\":\"0036d156-fb5e-4b25-8bb1-7432520822a2\",\"elementid\":\"cdd090dc-0793-418b-9cfe-d211c62b1c02\",\"modelid\":\"11c73f91-e661-4ea0-a346-ed3655b796d5\"}];\n",
       "  root.Bokeh.embed.embed_items_notebook(docs_json, render_items);\n",
       "\n",
       "  }\n",
       "  if (root.Bokeh !== undefined) {\n",
       "    embed_document(root);\n",
       "  } else {\n",
       "    var attempts = 0;\n",
       "    var timer = setInterval(function(root) {\n",
       "      if (root.Bokeh !== undefined) {\n",
       "        embed_document(root);\n",
       "        clearInterval(timer);\n",
       "      }\n",
       "      attempts++;\n",
       "      if (attempts > 100) {\n",
       "        console.log(\"Bokeh: ERROR: Unable to run BokehJS code because BokehJS library is missing\")\n",
       "        clearInterval(timer);\n",
       "      }\n",
       "    }, 10, root)\n",
       "  }\n",
       "})(window);"
      ],
      "application/vnd.bokehjs_exec.v0+json": ""
     },
     "metadata": {
      "application/vnd.bokehjs_exec.v0+json": {
       "id": "11c73f91-e661-4ea0-a346-ed3655b796d5"
      }
     },
     "output_type": "display_data"
    },
    {
     "name": "stdout",
     "output_type": "stream",
     "text": [
      "FIGURE. Cooling rate profiles.\n"
     ]
    },
    {
     "data": {
      "text/html": [
       "<a id=\"Flux_Comparison\"></a>"
      ],
      "text/plain": [
       "<IPython.core.display.HTML object>"
      ]
     },
     "metadata": {},
     "output_type": "display_data"
    },
    {
     "data": {
      "text/markdown": [
       "# Flux Comparison"
      ],
      "text/plain": [
       "<IPython.core.display.Markdown object>"
      ]
     },
     "metadata": {},
     "output_type": "display_data"
    },
    {
     "data": {
      "text/html": [
       "<div>\n",
       "<style>\n",
       "    .dataframe thead tr:only-child th {\n",
       "        text-align: right;\n",
       "    }\n",
       "\n",
       "    .dataframe thead th {\n",
       "        text-align: left;\n",
       "    }\n",
       "\n",
       "    .dataframe tbody tr th {\n",
       "        vertical-align: top;\n",
       "    }\n",
       "</style>\n",
       "<table border=\"1\" class=\"dataframe\">\n",
       "  <thead>\n",
       "    <tr style=\"text-align: right;\">\n",
       "      <th></th>\n",
       "      <th></th>\n",
       "      <th>flug</th>\n",
       "      <th>fldg</th>\n",
       "      <th>fnetg</th>\n",
       "    </tr>\n",
       "    <tr>\n",
       "      <th>pressure</th>\n",
       "      <th>level</th>\n",
       "      <th></th>\n",
       "      <th></th>\n",
       "      <th></th>\n",
       "    </tr>\n",
       "  </thead>\n",
       "  <tbody>\n",
       "    <tr>\n",
       "      <th>0.0000</th>\n",
       "      <th>1</th>\n",
       "      <td>-8.136959</td>\n",
       "      <td>0.000000</td>\n",
       "      <td>-8.136959</td>\n",
       "    </tr>\n",
       "    <tr>\n",
       "      <th>1.0685</th>\n",
       "      <th>24</th>\n",
       "      <td>-8.129219</td>\n",
       "      <td>0.014316</td>\n",
       "      <td>-8.114903</td>\n",
       "    </tr>\n",
       "    <tr>\n",
       "      <th>1013.0000</th>\n",
       "      <th>76</th>\n",
       "      <td>-9.558030</td>\n",
       "      <td>2.767430</td>\n",
       "      <td>-6.790600</td>\n",
       "    </tr>\n",
       "  </tbody>\n",
       "</table>\n",
       "</div>"
      ],
      "text/plain": [
       "                     flug      fldg     fnetg\n",
       "pressure  level                              \n",
       "0.0000    1     -8.136959  0.000000 -8.136959\n",
       "1.0685    24    -8.129219  0.014316 -8.114903\n",
       "1013.0000 76    -9.558030  2.767430 -6.790600"
      ]
     },
     "metadata": {},
     "output_type": "display_data"
    },
    {
     "name": "stdout",
     "output_type": "stream",
     "text": [
      "Table. Fluxes. WGT igg=10 wgt_flux=1\n"
     ]
    },
    {
     "data": {
      "text/html": [
       "<div>\n",
       "<style>\n",
       "    .dataframe thead tr:only-child th {\n",
       "        text-align: right;\n",
       "    }\n",
       "\n",
       "    .dataframe thead th {\n",
       "        text-align: left;\n",
       "    }\n",
       "\n",
       "    .dataframe tbody tr th {\n",
       "        vertical-align: top;\n",
       "    }\n",
       "</style>\n",
       "<table border=\"1\" class=\"dataframe\">\n",
       "  <thead>\n",
       "    <tr style=\"text-align: right;\">\n",
       "      <th></th>\n",
       "      <th></th>\n",
       "      <th>flug</th>\n",
       "      <th>fldg</th>\n",
       "      <th>fnetg</th>\n",
       "    </tr>\n",
       "    <tr>\n",
       "      <th>pressure</th>\n",
       "      <th>level</th>\n",
       "      <th></th>\n",
       "      <th></th>\n",
       "      <th></th>\n",
       "    </tr>\n",
       "  </thead>\n",
       "  <tbody>\n",
       "    <tr>\n",
       "      <th>0.0000</th>\n",
       "      <th>1</th>\n",
       "      <td>-8.185082</td>\n",
       "      <td>0.000000</td>\n",
       "      <td>-8.185082</td>\n",
       "    </tr>\n",
       "    <tr>\n",
       "      <th>1.0685</th>\n",
       "      <th>24</th>\n",
       "      <td>-8.177756</td>\n",
       "      <td>0.015292</td>\n",
       "      <td>-8.162464</td>\n",
       "    </tr>\n",
       "    <tr>\n",
       "      <th>1013.0000</th>\n",
       "      <th>76</th>\n",
       "      <td>-9.558030</td>\n",
       "      <td>2.771070</td>\n",
       "      <td>-6.786960</td>\n",
       "    </tr>\n",
       "  </tbody>\n",
       "</table>\n",
       "</div>"
      ],
      "text/plain": [
       "                     flug      fldg     fnetg\n",
       "pressure  level                              \n",
       "0.0000    1     -8.185082  0.000000 -8.185082\n",
       "1.0685    24    -8.177756  0.015292 -8.162464\n",
       "1013.0000 76    -9.558030  2.771070 -6.786960"
      ]
     },
     "metadata": {},
     "output_type": "display_data"
    },
    {
     "name": "stdout",
     "output_type": "stream",
     "text": [
      "Table. Fluxes. CRD\n"
     ]
    },
    {
     "data": {
      "text/html": [
       "<div>\n",
       "<style>\n",
       "    .dataframe thead tr:only-child th {\n",
       "        text-align: right;\n",
       "    }\n",
       "\n",
       "    .dataframe thead th {\n",
       "        text-align: left;\n",
       "    }\n",
       "\n",
       "    .dataframe tbody tr th {\n",
       "        vertical-align: top;\n",
       "    }\n",
       "</style>\n",
       "<table border=\"1\" class=\"dataframe\">\n",
       "  <thead>\n",
       "    <tr style=\"text-align: right;\">\n",
       "      <th></th>\n",
       "      <th></th>\n",
       "      <th>flug</th>\n",
       "      <th>fldg</th>\n",
       "      <th>fnetg</th>\n",
       "    </tr>\n",
       "    <tr>\n",
       "      <th>pressure</th>\n",
       "      <th>level</th>\n",
       "      <th></th>\n",
       "      <th></th>\n",
       "      <th></th>\n",
       "    </tr>\n",
       "  </thead>\n",
       "  <tbody>\n",
       "    <tr>\n",
       "      <th>1.000000e-08</th>\n",
       "      <th>1</th>\n",
       "      <td>-8.163858</td>\n",
       "      <td>1.427220e-08</td>\n",
       "      <td>-8.163858</td>\n",
       "    </tr>\n",
       "    <tr>\n",
       "      <th>1.068500e+00</th>\n",
       "      <th>24</th>\n",
       "      <td>-8.156275</td>\n",
       "      <td>1.322723e-02</td>\n",
       "      <td>-8.143048</td>\n",
       "    </tr>\n",
       "    <tr>\n",
       "      <th>1.013000e+03</th>\n",
       "      <th>76</th>\n",
       "      <td>-9.558030</td>\n",
       "      <td>2.713835e+00</td>\n",
       "      <td>-6.844195</td>\n",
       "    </tr>\n",
       "  </tbody>\n",
       "</table>\n",
       "</div>"
      ],
      "text/plain": [
       "                        flug          fldg     fnetg\n",
       "pressure     level                                  \n",
       "1.000000e-08 1     -8.163858  1.427220e-08 -8.163858\n",
       "1.068500e+00 24    -8.156275  1.322723e-02 -8.143048\n",
       "1.013000e+03 76    -9.558030  2.713835e+00 -6.844195"
      ]
     },
     "metadata": {},
     "output_type": "display_data"
    },
    {
     "name": "stdout",
     "output_type": "stream",
     "text": [
      "Table. Fluxes. CLIRAD\n"
     ]
    },
    {
     "data": {
      "text/html": [
       "<div>\n",
       "<style>\n",
       "    .dataframe thead tr:only-child th {\n",
       "        text-align: right;\n",
       "    }\n",
       "\n",
       "    .dataframe thead th {\n",
       "        text-align: left;\n",
       "    }\n",
       "\n",
       "    .dataframe tbody tr th {\n",
       "        vertical-align: top;\n",
       "    }\n",
       "</style>\n",
       "<table border=\"1\" class=\"dataframe\">\n",
       "  <thead>\n",
       "    <tr style=\"text-align: right;\">\n",
       "      <th></th>\n",
       "      <th></th>\n",
       "      <th>flug</th>\n",
       "      <th>fldg</th>\n",
       "      <th>fnetg</th>\n",
       "    </tr>\n",
       "    <tr>\n",
       "      <th>pressure</th>\n",
       "      <th>level</th>\n",
       "      <th></th>\n",
       "      <th></th>\n",
       "      <th></th>\n",
       "    </tr>\n",
       "  </thead>\n",
       "  <tbody>\n",
       "    <tr>\n",
       "      <th>0.0000</th>\n",
       "      <th>1</th>\n",
       "      <td>-4.812262e-02</td>\n",
       "      <td>0.000000</td>\n",
       "      <td>-0.048123</td>\n",
       "    </tr>\n",
       "    <tr>\n",
       "      <th>1.0685</th>\n",
       "      <th>24</th>\n",
       "      <td>-4.853716e-02</td>\n",
       "      <td>0.000976</td>\n",
       "      <td>-0.047562</td>\n",
       "    </tr>\n",
       "    <tr>\n",
       "      <th>1013.0000</th>\n",
       "      <th>76</th>\n",
       "      <td>-1.600000e-08</td>\n",
       "      <td>0.003640</td>\n",
       "      <td>0.003640</td>\n",
       "    </tr>\n",
       "  </tbody>\n",
       "</table>\n",
       "</div>"
      ],
      "text/plain": [
       "                         flug      fldg     fnetg\n",
       "pressure  level                                  \n",
       "0.0000    1     -4.812262e-02  0.000000 -0.048123\n",
       "1.0685    24    -4.853716e-02  0.000976 -0.047562\n",
       "1013.0000 76    -1.600000e-08  0.003640  0.003640"
      ]
     },
     "metadata": {},
     "output_type": "display_data"
    },
    {
     "name": "stdout",
     "output_type": "stream",
     "text": [
      "Table. Fluxes. (CRD) - (WGT igg=10 wgt_flux=1)\n"
     ]
    },
    {
     "data": {
      "text/html": [
       "<div>\n",
       "<style>\n",
       "    .dataframe thead tr:only-child th {\n",
       "        text-align: right;\n",
       "    }\n",
       "\n",
       "    .dataframe thead th {\n",
       "        text-align: left;\n",
       "    }\n",
       "\n",
       "    .dataframe tbody tr th {\n",
       "        vertical-align: top;\n",
       "    }\n",
       "</style>\n",
       "<table border=\"1\" class=\"dataframe\">\n",
       "  <thead>\n",
       "    <tr style=\"text-align: right;\">\n",
       "      <th></th>\n",
       "      <th></th>\n",
       "      <th>flug</th>\n",
       "      <th>fldg</th>\n",
       "      <th>fnetg</th>\n",
       "    </tr>\n",
       "    <tr>\n",
       "      <th>pressure</th>\n",
       "      <th>level</th>\n",
       "      <th></th>\n",
       "      <th></th>\n",
       "      <th></th>\n",
       "    </tr>\n",
       "  </thead>\n",
       "  <tbody>\n",
       "    <tr>\n",
       "      <th>0.0000</th>\n",
       "      <th>1</th>\n",
       "      <td>-2.689902e-02</td>\n",
       "      <td>1.427220e-08</td>\n",
       "      <td>-0.026899</td>\n",
       "    </tr>\n",
       "    <tr>\n",
       "      <th>1.0685</th>\n",
       "      <th>24</th>\n",
       "      <td>-2.705636e-02</td>\n",
       "      <td>-1.089141e-03</td>\n",
       "      <td>-0.028146</td>\n",
       "    </tr>\n",
       "    <tr>\n",
       "      <th>1013.0000</th>\n",
       "      <th>76</th>\n",
       "      <td>2.840000e-07</td>\n",
       "      <td>-5.359522e-02</td>\n",
       "      <td>-0.053595</td>\n",
       "    </tr>\n",
       "  </tbody>\n",
       "</table>\n",
       "</div>"
      ],
      "text/plain": [
       "                         flug          fldg     fnetg\n",
       "pressure  level                                      \n",
       "0.0000    1     -2.689902e-02  1.427220e-08 -0.026899\n",
       "1.0685    24    -2.705636e-02 -1.089141e-03 -0.028146\n",
       "1013.0000 76     2.840000e-07 -5.359522e-02 -0.053595"
      ]
     },
     "metadata": {},
     "output_type": "display_data"
    },
    {
     "name": "stdout",
     "output_type": "stream",
     "text": [
      "Table. Fluxes. (CLIRAD) - (WGT igg=10 wgt_flux=1)\n"
     ]
    },
    {
     "data": {
      "text/html": [
       "<a id=\"Best-fit_Parameters\"></a>"
      ],
      "text/plain": [
       "<IPython.core.display.HTML object>"
      ]
     },
     "metadata": {},
     "output_type": "display_data"
    },
    {
     "data": {
      "text/markdown": [
       "# Best-fit Parameters"
      ],
      "text/plain": [
       "<IPython.core.display.Markdown object>"
      ]
     },
     "metadata": {},
     "output_type": "display_data"
    },
    {
     "name": "stdout",
     "output_type": "stream",
     "text": [
      "Best-fit values for each (gas, band)\n",
      "------------------------------------\n",
      "o ch4 band7\n",
      "  atmpro = mls\n",
      "  band = 7\n",
      "  commitnumber = 2bd1f75\n",
      "  conc = 1.8e-06\n",
      "  dv = 0.01\n",
      "  klin = 2e-21\n",
      "  molecule = ch4\n",
      "  ng_adju = [0, 0]\n",
      "  ng_refs = [2, 3]\n",
      "  nv = 100\n",
      "  option_compute_btable = 0\n",
      "  option_compute_ktable = 1\n",
      "  option_wgt_flux = 1\n",
      "  option_wgt_k = 1\n",
      "  ref_pts = [(1, 250), (500, 250)]\n",
      "  tsfc = 294\n",
      "  vmax = 1380\n",
      "  vmin = 1215\n",
      "  w_diffuse = [(1.66, 1.66), (1.66, 1.66, 1.66)]\n",
      "  wgt = [(0.7, 0.7), (0.4, 0.6, 0.75)]\n"
     ]
    }
   ],
   "source": [
    "script()"
   ]
  },
  {
   "cell_type": "code",
   "execution_count": 13,
   "metadata": {
    "collapsed": true
   },
   "outputs": [
    {
     "data": {
      "text/html": [
       "<script>\n",
       "code_show=true; \n",
       "function code_toggle() {\n",
       " if (code_show){\n",
       " $('div.input').hide();\n",
       " } else {\n",
       " $('div.input').show();\n",
       " }\n",
       " code_show = !code_show\n",
       "} \n",
       "$( document ).ready(code_toggle);\n",
       "</script>\n",
       "<form action=\"javascript:code_toggle()\"><input type=\"submit\" value=\"Click here to toggle on/off the raw code.\"></form>"
      ],
      "text/plain": [
       "<IPython.core.display.HTML object>"
      ]
     },
     "execution_count": 13,
     "metadata": {},
     "output_type": "execute_result"
    }
   ],
   "source": [
    "display.HTML('''<script>\n",
    "code_show=true; \n",
    "function code_toggle() {\n",
    " if (code_show){\n",
    " $('div.input').hide();\n",
    " } else {\n",
    " $('div.input').show();\n",
    " }\n",
    " code_show = !code_show\n",
    "} \n",
    "$( document ).ready(code_toggle);\n",
    "</script>\n",
    "<form action=\"javascript:code_toggle()\"><input type=\"submit\" value=\"Click here to toggle on/off the raw code.\"></form>''')"
   ]
  }
 ],
 "metadata": {
  "kernelspec": {
   "display_name": "Python 3",
   "language": "python",
   "name": "python3"
  },
  "language_info": {
   "codemirror_mode": {
    "name": "ipython",
    "version": 3
   },
   "file_extension": ".py",
   "mimetype": "text/x-python",
   "name": "python",
   "nbconvert_exporter": "python",
   "pygments_lexer": "ipython3",
   "version": "3.6.1"
  }
 },
 "nbformat": 4,
 "nbformat_minor": 2
}
