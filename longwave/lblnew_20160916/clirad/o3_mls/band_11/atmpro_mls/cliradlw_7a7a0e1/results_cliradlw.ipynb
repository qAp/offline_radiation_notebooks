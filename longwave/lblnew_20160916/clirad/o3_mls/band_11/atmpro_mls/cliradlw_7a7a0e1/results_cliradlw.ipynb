{
 "cells": [
  {
   "cell_type": "code",
   "execution_count": 1,
   "metadata": {
    "collapsed": true
   },
   "outputs": [],
   "source": [
    "%matplotlib inline\n",
    "import os\n",
    "import re\n",
    "import io\n",
    "import itertools\n",
    "import pprint\n",
    "\n",
    "from bokeh.io import output_notebook, show\n",
    "from bokeh.layouts import gridplot\n",
    "from bokeh.plotting import figure\n",
    "from bokeh.models import Range1d, Legend\n",
    "from bokeh.palettes import all_palettes\n",
    "\n",
    "import matplotlib\n",
    "import matplotlib.pyplot as plt\n",
    "import numpy as np\n",
    "import pandas as pd\n",
    "import xarray as xr\n",
    "\n",
    "import climatools.lblnew.bestfit_params as bestfits\n",
    "from climatools.lblnew import setup_bestfit, setup_overlap\n",
    "import climatools.lblnew.pipeline as pipe_lblnew\n",
    "import climatools.cliradlw.setup as setup_cliradlw\n",
    "import climatools.cliradlw.pipeline as pipe_cliradlw\n",
    "\n",
    "import climatools.html.html as climahtml\n",
    "from climatools.lblnew.dataio import *\n",
    "from climatools.plot.plot import *\n",
    "\n",
    "\n",
    "import IPython.display as display"
   ]
  },
  {
   "cell_type": "code",
   "execution_count": 2,
   "metadata": {
    "collapsed": true
   },
   "outputs": [],
   "source": [
    "%run param.py"
   ]
  },
  {
   "cell_type": "code",
   "execution_count": 3,
   "metadata": {
    "collapsed": true
   },
   "outputs": [],
   "source": [
    "def load_output_file(path_csv):\n",
    "    '''\n",
    "    Load lblnew output .csv file to xarray.Dataset\n",
    "    \n",
    "    Parameters\n",
    "    ----------\n",
    "    path_csv: str\n",
    "              Path to the .csv file to be loaded.\n",
    "    ds: xarray.Dataset\n",
    "        Data in the input file in the form of an xarray.Dataset.\n",
    "    '''\n",
    "    toindex = ['band', 'pressure', 'igg', 'g']    \n",
    "    df = pd.read_csv(path_csv, sep=r'\\s+')\n",
    "    df = df.set_index([i for i in toindex if i in df.columns])\n",
    "    df = df.rename(columns={'sfu': 'flug',\n",
    "                            'sfd': 'fldg',\n",
    "                            'fnet': 'fnetg',\n",
    "                            'coolr': 'coolrg'})\n",
    "    ds = xr.Dataset.from_dataframe(df)\n",
    "\n",
    "    for l in ('level', 'layer'):\n",
    "        if l in ds.data_vars:\n",
    "            if len(ds[l].dims) > 1:\n",
    "                surface = {d: 0 for d in ds.dims if d != 'pressure'}\n",
    "                coord_level = ds[l][surface]\n",
    "                ds.coords[l] = ('pressure', coord_level)\n",
    "            else:\n",
    "                ds.coords[l] = ('pressure', ds[l])\n",
    "    \n",
    "    return ds"
   ]
  },
  {
   "cell_type": "code",
   "execution_count": 4,
   "metadata": {
    "collapsed": true
   },
   "outputs": [],
   "source": [
    "def lblnew_setup(param=None):\n",
    "    if 'ng_refs' in param:\n",
    "        return {'setup': setup_bestfit,\n",
    "                'fname_flux_crd': 'output_flux.dat',\n",
    "                'fname_cool_crd': 'output_coolr.dat',\n",
    "                'fname_flux_wgt': 'output_wfluxg.dat',\n",
    "                'fname_cool_wgt': 'output_wcoolrg.dat'}\n",
    "    else:\n",
    "        return {'setup': setup_overlap,\n",
    "                'fname_flux_crd': 'output_flux.dat',\n",
    "                'fname_cool_crd': 'output_coolr.dat',\n",
    "                'fname_flux_wgt': 'output_wflux.dat',\n",
    "                'fname_cool_wgt': 'output_wcoolr.dat'}\n",
    "\n",
    "    \n",
    "def load_lblnew_data(param):\n",
    "    \n",
    "    fname_dsname = [('fname_flux_crd', 'ds_flux_crd'),\n",
    "                    ('fname_cool_crd', 'ds_cool_crd'),\n",
    "                    ('fname_flux_wgt', 'ds_flux_wgt'),\n",
    "                    ('fname_cool_wgt', 'ds_cool_wgt')]\n",
    "    \n",
    "    d = lblnew_setup(param)\n",
    "    dir_fortran = pipe_lblnew.get_dir_case(param, setup=d['setup'])\n",
    "    \n",
    "    data_dict = {}\n",
    "    for fname, dsname in fname_dsname:\n",
    "        fpath = os.path.join(dir_fortran, d[fname])\n",
    "        data_dict[dsname] = load_output_file(fpath)\n",
    "    return data_dict\n",
    "    \n",
    "\n",
    "    \n",
    "    "
   ]
  },
  {
   "cell_type": "code",
   "execution_count": 5,
   "metadata": {
    "collapsed": true
   },
   "outputs": [],
   "source": [
    "d = load_lblnew_data(PARAM_LBLNEW)\n",
    "\n",
    "DS_FLUX_CRD = d['ds_flux_crd']\n",
    "DS_COOL_CRD = d['ds_cool_crd']\n",
    "DS_FLUX_WGT = d['ds_flux_wgt']\n",
    "DS_COOL_WGT = d['ds_cool_wgt']"
   ]
  },
  {
   "cell_type": "code",
   "execution_count": 6,
   "metadata": {
    "collapsed": true
   },
   "outputs": [],
   "source": [
    "DIR_FORTRAN = pipe_cliradlw.get_fortran_dir(PARAM, \n",
    "                                            setup=setup_cliradlw)\n",
    "\n",
    "PATH_FLUX = os.path.join(DIR_FORTRAN, 'output_flux.dat')\n",
    "PATH_COOL = os.path.join(DIR_FORTRAN, 'output_coolr.dat')\n",
    "\n",
    "DS_FLUX = load_output_file(PATH_FLUX)\n",
    "DS_COOL = load_output_file(PATH_COOL)"
   ]
  },
  {
   "cell_type": "code",
   "execution_count": 7,
   "metadata": {},
   "outputs": [
    {
     "data": {
      "text/html": [
       "\n",
       "    <div class=\"bk-root\">\n",
       "        <a href=\"https://bokeh.pydata.org\" target=\"_blank\" class=\"bk-logo bk-logo-small bk-logo-notebook\"></a>\n",
       "        <span id=\"b49ae629-06ca-430b-b55c-57be844f8a4f\">Loading BokehJS ...</span>\n",
       "    </div>"
      ]
     },
     "metadata": {},
     "output_type": "display_data"
    },
    {
     "data": {
      "application/javascript": [
       "\n",
       "(function(root) {\n",
       "  function now() {\n",
       "    return new Date();\n",
       "  }\n",
       "\n",
       "  var force = true;\n",
       "\n",
       "  if (typeof (root._bokeh_onload_callbacks) === \"undefined\" || force === true) {\n",
       "    root._bokeh_onload_callbacks = [];\n",
       "    root._bokeh_is_loading = undefined;\n",
       "  }\n",
       "\n",
       "  var JS_MIME_TYPE = 'application/javascript';\n",
       "  var HTML_MIME_TYPE = 'text/html';\n",
       "  var EXEC_MIME_TYPE = 'application/vnd.bokehjs_exec.v0+json';\n",
       "  var CLASS_NAME = 'output_bokeh rendered_html';\n",
       "\n",
       "  /**\n",
       "   * Render data to the DOM node\n",
       "   */\n",
       "  function render(props, node) {\n",
       "    var script = document.createElement(\"script\");\n",
       "    node.appendChild(script);\n",
       "  }\n",
       "\n",
       "  /**\n",
       "   * Handle when an output is cleared or removed\n",
       "   */\n",
       "  function handleClearOutput(event, handle) {\n",
       "    var cell = handle.cell;\n",
       "\n",
       "    var id = cell.output_area._bokeh_element_id;\n",
       "    var server_id = cell.output_area._bokeh_server_id;\n",
       "    // Clean up Bokeh references\n",
       "    if (id !== undefined) {\n",
       "      Bokeh.index[id].model.document.clear();\n",
       "      delete Bokeh.index[id];\n",
       "    }\n",
       "\n",
       "    if (server_id !== undefined) {\n",
       "      // Clean up Bokeh references\n",
       "      var cmd = \"from bokeh.io.state import curstate; print(curstate().uuid_to_server['\" + server_id + \"'].get_sessions()[0].document.roots[0]._id)\";\n",
       "      cell.notebook.kernel.execute(cmd, {\n",
       "        iopub: {\n",
       "          output: function(msg) {\n",
       "            var element_id = msg.content.text.trim();\n",
       "            Bokeh.index[element_id].model.document.clear();\n",
       "            delete Bokeh.index[element_id];\n",
       "          }\n",
       "        }\n",
       "      });\n",
       "      // Destroy server and session\n",
       "      var cmd = \"import bokeh.io.notebook as ion; ion.destroy_server('\" + server_id + \"')\";\n",
       "      cell.notebook.kernel.execute(cmd);\n",
       "    }\n",
       "  }\n",
       "\n",
       "  /**\n",
       "   * Handle when a new output is added\n",
       "   */\n",
       "  function handleAddOutput(event, handle) {\n",
       "    var output_area = handle.output_area;\n",
       "    var output = handle.output;\n",
       "\n",
       "    // limit handleAddOutput to display_data with EXEC_MIME_TYPE content only\n",
       "    if ((output.output_type != \"display_data\") || (!output.data.hasOwnProperty(EXEC_MIME_TYPE))) {\n",
       "      return\n",
       "    }\n",
       "\n",
       "    var toinsert = output_area.element.find(\".\" + CLASS_NAME.split(' ')[0]);\n",
       "\n",
       "    if (output.metadata[EXEC_MIME_TYPE][\"id\"] !== undefined) {\n",
       "      toinsert[0].firstChild.textContent = output.data[JS_MIME_TYPE];\n",
       "      // store reference to embed id on output_area\n",
       "      output_area._bokeh_element_id = output.metadata[EXEC_MIME_TYPE][\"id\"];\n",
       "    }\n",
       "    if (output.metadata[EXEC_MIME_TYPE][\"server_id\"] !== undefined) {\n",
       "      var bk_div = document.createElement(\"div\");\n",
       "      bk_div.innerHTML = output.data[HTML_MIME_TYPE];\n",
       "      var script_attrs = bk_div.children[0].attributes;\n",
       "      for (var i = 0; i < script_attrs.length; i++) {\n",
       "        toinsert[0].firstChild.setAttribute(script_attrs[i].name, script_attrs[i].value);\n",
       "      }\n",
       "      // store reference to server id on output_area\n",
       "      output_area._bokeh_server_id = output.metadata[EXEC_MIME_TYPE][\"server_id\"];\n",
       "    }\n",
       "  }\n",
       "\n",
       "  function register_renderer(events, OutputArea) {\n",
       "\n",
       "    function append_mime(data, metadata, element) {\n",
       "      // create a DOM node to render to\n",
       "      var toinsert = this.create_output_subarea(\n",
       "        metadata,\n",
       "        CLASS_NAME,\n",
       "        EXEC_MIME_TYPE\n",
       "      );\n",
       "      this.keyboard_manager.register_events(toinsert);\n",
       "      // Render to node\n",
       "      var props = {data: data, metadata: metadata[EXEC_MIME_TYPE]};\n",
       "      render(props, toinsert[0]);\n",
       "      element.append(toinsert);\n",
       "      return toinsert\n",
       "    }\n",
       "\n",
       "    /* Handle when an output is cleared or removed */\n",
       "    events.on('clear_output.CodeCell', handleClearOutput);\n",
       "    events.on('delete.Cell', handleClearOutput);\n",
       "\n",
       "    /* Handle when a new output is added */\n",
       "    events.on('output_added.OutputArea', handleAddOutput);\n",
       "\n",
       "    /**\n",
       "     * Register the mime type and append_mime function with output_area\n",
       "     */\n",
       "    OutputArea.prototype.register_mime_type(EXEC_MIME_TYPE, append_mime, {\n",
       "      /* Is output safe? */\n",
       "      safe: true,\n",
       "      /* Index of renderer in `output_area.display_order` */\n",
       "      index: 0\n",
       "    });\n",
       "  }\n",
       "\n",
       "  // register the mime type if in Jupyter Notebook environment and previously unregistered\n",
       "  if (root.Jupyter !== undefined) {\n",
       "    var events = require('base/js/events');\n",
       "    var OutputArea = require('notebook/js/outputarea').OutputArea;\n",
       "\n",
       "    if (OutputArea.prototype.mime_types().indexOf(EXEC_MIME_TYPE) == -1) {\n",
       "      register_renderer(events, OutputArea);\n",
       "    }\n",
       "  }\n",
       "\n",
       "  \n",
       "  if (typeof (root._bokeh_timeout) === \"undefined\" || force === true) {\n",
       "    root._bokeh_timeout = Date.now() + 5000;\n",
       "    root._bokeh_failed_load = false;\n",
       "  }\n",
       "\n",
       "  var NB_LOAD_WARNING = {'data': {'text/html':\n",
       "     \"<div style='background-color: #fdd'>\\n\"+\n",
       "     \"<p>\\n\"+\n",
       "     \"BokehJS does not appear to have successfully loaded. If loading BokehJS from CDN, this \\n\"+\n",
       "     \"may be due to a slow or bad network connection. Possible fixes:\\n\"+\n",
       "     \"</p>\\n\"+\n",
       "     \"<ul>\\n\"+\n",
       "     \"<li>re-rerun `output_notebook()` to attempt to load from CDN again, or</li>\\n\"+\n",
       "     \"<li>use INLINE resources instead, as so:</li>\\n\"+\n",
       "     \"</ul>\\n\"+\n",
       "     \"<code>\\n\"+\n",
       "     \"from bokeh.resources import INLINE\\n\"+\n",
       "     \"output_notebook(resources=INLINE)\\n\"+\n",
       "     \"</code>\\n\"+\n",
       "     \"</div>\"}};\n",
       "\n",
       "  function display_loaded() {\n",
       "    var el = document.getElementById(\"b49ae629-06ca-430b-b55c-57be844f8a4f\");\n",
       "    if (el != null) {\n",
       "      el.textContent = \"BokehJS is loading...\";\n",
       "    }\n",
       "    if (root.Bokeh !== undefined) {\n",
       "      if (el != null) {\n",
       "        el.textContent = \"BokehJS \" + root.Bokeh.version + \" successfully loaded.\";\n",
       "      }\n",
       "    } else if (Date.now() < root._bokeh_timeout) {\n",
       "      setTimeout(display_loaded, 100)\n",
       "    }\n",
       "  }\n",
       "\n",
       "\n",
       "  function run_callbacks() {\n",
       "    try {\n",
       "      root._bokeh_onload_callbacks.forEach(function(callback) { callback() });\n",
       "    }\n",
       "    finally {\n",
       "      delete root._bokeh_onload_callbacks\n",
       "    }\n",
       "    console.info(\"Bokeh: all callbacks have finished\");\n",
       "  }\n",
       "\n",
       "  function load_libs(js_urls, callback) {\n",
       "    root._bokeh_onload_callbacks.push(callback);\n",
       "    if (root._bokeh_is_loading > 0) {\n",
       "      console.log(\"Bokeh: BokehJS is being loaded, scheduling callback at\", now());\n",
       "      return null;\n",
       "    }\n",
       "    if (js_urls == null || js_urls.length === 0) {\n",
       "      run_callbacks();\n",
       "      return null;\n",
       "    }\n",
       "    console.log(\"Bokeh: BokehJS not loaded, scheduling load and callback at\", now());\n",
       "    root._bokeh_is_loading = js_urls.length;\n",
       "    for (var i = 0; i < js_urls.length; i++) {\n",
       "      var url = js_urls[i];\n",
       "      var s = document.createElement('script');\n",
       "      s.src = url;\n",
       "      s.async = false;\n",
       "      s.onreadystatechange = s.onload = function() {\n",
       "        root._bokeh_is_loading--;\n",
       "        if (root._bokeh_is_loading === 0) {\n",
       "          console.log(\"Bokeh: all BokehJS libraries loaded\");\n",
       "          run_callbacks()\n",
       "        }\n",
       "      };\n",
       "      s.onerror = function() {\n",
       "        console.warn(\"failed to load library \" + url);\n",
       "      };\n",
       "      console.log(\"Bokeh: injecting script tag for BokehJS library: \", url);\n",
       "      document.getElementsByTagName(\"head\")[0].appendChild(s);\n",
       "    }\n",
       "  };var element = document.getElementById(\"b49ae629-06ca-430b-b55c-57be844f8a4f\");\n",
       "  if (element == null) {\n",
       "    console.log(\"Bokeh: ERROR: autoload.js configured with elementid 'b49ae629-06ca-430b-b55c-57be844f8a4f' but no matching script tag was found. \")\n",
       "    return false;\n",
       "  }\n",
       "\n",
       "  var js_urls = [\"https://cdn.pydata.org/bokeh/release/bokeh-0.12.14.min.js\", \"https://cdn.pydata.org/bokeh/release/bokeh-widgets-0.12.14.min.js\", \"https://cdn.pydata.org/bokeh/release/bokeh-tables-0.12.14.min.js\", \"https://cdn.pydata.org/bokeh/release/bokeh-gl-0.12.14.min.js\"];\n",
       "\n",
       "  var inline_js = [\n",
       "    function(Bokeh) {\n",
       "      Bokeh.set_log_level(\"info\");\n",
       "    },\n",
       "    \n",
       "    function(Bokeh) {\n",
       "      \n",
       "    },\n",
       "    function(Bokeh) {\n",
       "      console.log(\"Bokeh: injecting CSS: https://cdn.pydata.org/bokeh/release/bokeh-0.12.14.min.css\");\n",
       "      Bokeh.embed.inject_css(\"https://cdn.pydata.org/bokeh/release/bokeh-0.12.14.min.css\");\n",
       "      console.log(\"Bokeh: injecting CSS: https://cdn.pydata.org/bokeh/release/bokeh-widgets-0.12.14.min.css\");\n",
       "      Bokeh.embed.inject_css(\"https://cdn.pydata.org/bokeh/release/bokeh-widgets-0.12.14.min.css\");\n",
       "      console.log(\"Bokeh: injecting CSS: https://cdn.pydata.org/bokeh/release/bokeh-tables-0.12.14.min.css\");\n",
       "      Bokeh.embed.inject_css(\"https://cdn.pydata.org/bokeh/release/bokeh-tables-0.12.14.min.css\");\n",
       "    }\n",
       "  ];\n",
       "\n",
       "  function run_inline_js() {\n",
       "    \n",
       "    if ((root.Bokeh !== undefined) || (force === true)) {\n",
       "      for (var i = 0; i < inline_js.length; i++) {\n",
       "        inline_js[i].call(root, root.Bokeh);\n",
       "      }if (force === true) {\n",
       "        display_loaded();\n",
       "      }} else if (Date.now() < root._bokeh_timeout) {\n",
       "      setTimeout(run_inline_js, 100);\n",
       "    } else if (!root._bokeh_failed_load) {\n",
       "      console.log(\"Bokeh: BokehJS failed to load within specified timeout.\");\n",
       "      root._bokeh_failed_load = true;\n",
       "    } else if (force !== true) {\n",
       "      var cell = $(document.getElementById(\"b49ae629-06ca-430b-b55c-57be844f8a4f\")).parents('.cell').data().cell;\n",
       "      cell.output_area.append_execute_result(NB_LOAD_WARNING)\n",
       "    }\n",
       "\n",
       "  }\n",
       "\n",
       "  if (root._bokeh_is_loading === 0) {\n",
       "    console.log(\"Bokeh: BokehJS loaded, going straight to plotting\");\n",
       "    run_inline_js();\n",
       "  } else {\n",
       "    load_libs(js_urls, function() {\n",
       "      console.log(\"Bokeh: BokehJS plotting callback run at\", now());\n",
       "      run_inline_js();\n",
       "    });\n",
       "  }\n",
       "}(window));"
      ],
      "application/vnd.bokehjs_load.v0+json": "\n(function(root) {\n  function now() {\n    return new Date();\n  }\n\n  var force = true;\n\n  if (typeof (root._bokeh_onload_callbacks) === \"undefined\" || force === true) {\n    root._bokeh_onload_callbacks = [];\n    root._bokeh_is_loading = undefined;\n  }\n\n  \n\n  \n  if (typeof (root._bokeh_timeout) === \"undefined\" || force === true) {\n    root._bokeh_timeout = Date.now() + 5000;\n    root._bokeh_failed_load = false;\n  }\n\n  var NB_LOAD_WARNING = {'data': {'text/html':\n     \"<div style='background-color: #fdd'>\\n\"+\n     \"<p>\\n\"+\n     \"BokehJS does not appear to have successfully loaded. If loading BokehJS from CDN, this \\n\"+\n     \"may be due to a slow or bad network connection. Possible fixes:\\n\"+\n     \"</p>\\n\"+\n     \"<ul>\\n\"+\n     \"<li>re-rerun `output_notebook()` to attempt to load from CDN again, or</li>\\n\"+\n     \"<li>use INLINE resources instead, as so:</li>\\n\"+\n     \"</ul>\\n\"+\n     \"<code>\\n\"+\n     \"from bokeh.resources import INLINE\\n\"+\n     \"output_notebook(resources=INLINE)\\n\"+\n     \"</code>\\n\"+\n     \"</div>\"}};\n\n  function display_loaded() {\n    var el = document.getElementById(\"b49ae629-06ca-430b-b55c-57be844f8a4f\");\n    if (el != null) {\n      el.textContent = \"BokehJS is loading...\";\n    }\n    if (root.Bokeh !== undefined) {\n      if (el != null) {\n        el.textContent = \"BokehJS \" + root.Bokeh.version + \" successfully loaded.\";\n      }\n    } else if (Date.now() < root._bokeh_timeout) {\n      setTimeout(display_loaded, 100)\n    }\n  }\n\n\n  function run_callbacks() {\n    try {\n      root._bokeh_onload_callbacks.forEach(function(callback) { callback() });\n    }\n    finally {\n      delete root._bokeh_onload_callbacks\n    }\n    console.info(\"Bokeh: all callbacks have finished\");\n  }\n\n  function load_libs(js_urls, callback) {\n    root._bokeh_onload_callbacks.push(callback);\n    if (root._bokeh_is_loading > 0) {\n      console.log(\"Bokeh: BokehJS is being loaded, scheduling callback at\", now());\n      return null;\n    }\n    if (js_urls == null || js_urls.length === 0) {\n      run_callbacks();\n      return null;\n    }\n    console.log(\"Bokeh: BokehJS not loaded, scheduling load and callback at\", now());\n    root._bokeh_is_loading = js_urls.length;\n    for (var i = 0; i < js_urls.length; i++) {\n      var url = js_urls[i];\n      var s = document.createElement('script');\n      s.src = url;\n      s.async = false;\n      s.onreadystatechange = s.onload = function() {\n        root._bokeh_is_loading--;\n        if (root._bokeh_is_loading === 0) {\n          console.log(\"Bokeh: all BokehJS libraries loaded\");\n          run_callbacks()\n        }\n      };\n      s.onerror = function() {\n        console.warn(\"failed to load library \" + url);\n      };\n      console.log(\"Bokeh: injecting script tag for BokehJS library: \", url);\n      document.getElementsByTagName(\"head\")[0].appendChild(s);\n    }\n  };var element = document.getElementById(\"b49ae629-06ca-430b-b55c-57be844f8a4f\");\n  if (element == null) {\n    console.log(\"Bokeh: ERROR: autoload.js configured with elementid 'b49ae629-06ca-430b-b55c-57be844f8a4f' but no matching script tag was found. \")\n    return false;\n  }\n\n  var js_urls = [\"https://cdn.pydata.org/bokeh/release/bokeh-0.12.14.min.js\", \"https://cdn.pydata.org/bokeh/release/bokeh-widgets-0.12.14.min.js\", \"https://cdn.pydata.org/bokeh/release/bokeh-tables-0.12.14.min.js\", \"https://cdn.pydata.org/bokeh/release/bokeh-gl-0.12.14.min.js\"];\n\n  var inline_js = [\n    function(Bokeh) {\n      Bokeh.set_log_level(\"info\");\n    },\n    \n    function(Bokeh) {\n      \n    },\n    function(Bokeh) {\n      console.log(\"Bokeh: injecting CSS: https://cdn.pydata.org/bokeh/release/bokeh-0.12.14.min.css\");\n      Bokeh.embed.inject_css(\"https://cdn.pydata.org/bokeh/release/bokeh-0.12.14.min.css\");\n      console.log(\"Bokeh: injecting CSS: https://cdn.pydata.org/bokeh/release/bokeh-widgets-0.12.14.min.css\");\n      Bokeh.embed.inject_css(\"https://cdn.pydata.org/bokeh/release/bokeh-widgets-0.12.14.min.css\");\n      console.log(\"Bokeh: injecting CSS: https://cdn.pydata.org/bokeh/release/bokeh-tables-0.12.14.min.css\");\n      Bokeh.embed.inject_css(\"https://cdn.pydata.org/bokeh/release/bokeh-tables-0.12.14.min.css\");\n    }\n  ];\n\n  function run_inline_js() {\n    \n    if ((root.Bokeh !== undefined) || (force === true)) {\n      for (var i = 0; i < inline_js.length; i++) {\n        inline_js[i].call(root, root.Bokeh);\n      }if (force === true) {\n        display_loaded();\n      }} else if (Date.now() < root._bokeh_timeout) {\n      setTimeout(run_inline_js, 100);\n    } else if (!root._bokeh_failed_load) {\n      console.log(\"Bokeh: BokehJS failed to load within specified timeout.\");\n      root._bokeh_failed_load = true;\n    } else if (force !== true) {\n      var cell = $(document.getElementById(\"b49ae629-06ca-430b-b55c-57be844f8a4f\")).parents('.cell').data().cell;\n      cell.output_area.append_execute_result(NB_LOAD_WARNING)\n    }\n\n  }\n\n  if (root._bokeh_is_loading === 0) {\n    console.log(\"Bokeh: BokehJS loaded, going straight to plotting\");\n    run_inline_js();\n  } else {\n    load_libs(js_urls, function() {\n      console.log(\"Bokeh: BokehJS plotting callback run at\", now());\n      run_inline_js();\n    });\n  }\n}(window));"
     },
     "metadata": {},
     "output_type": "display_data"
    }
   ],
   "source": [
    "output_notebook()"
   ]
  },
  {
   "cell_type": "code",
   "execution_count": 8,
   "metadata": {
    "collapsed": true
   },
   "outputs": [],
   "source": [
    "def fmt_cool(ds_in):\n",
    "    ds = ds_in.copy(deep=True)\n",
    "    if 'igg' in ds.dims:\n",
    "        ds = ds.sel(igg=1)\n",
    "\n",
    "    if 'g' in ds.dims:\n",
    "        ds = ds.sum('g')\n",
    "            \n",
    "    if 'band' in ds.dims:\n",
    "        try:\n",
    "            ds = ds.squeeze('band')\n",
    "        except ValueError:\n",
    "            ds = ds.sum('band')\n",
    "                \n",
    "    return ds['coolrg']\n",
    "\n",
    "\n",
    "def pltdata_cooling_1(ds_cool=None,\n",
    "                      ds_cool_crd=None, ds_cool_wgt=None):\n",
    "    \n",
    "\n",
    "\n",
    "    colors = all_palettes['Set1'][4]\n",
    "    data = [{'label': 'CLIRAD `coolr_bands`',\n",
    "             'srs': fmt_cool(ds_cool),\n",
    "             'line_dash': 'dashed', 'line_width': 5,\n",
    "             'color': colors[0], 'alpha': .6},\n",
    "            {'label': 'CRD',\n",
    "             'srs': fmt_cool(ds_cool_crd),\n",
    "             'line_dash': 'solid', 'line_width': 1.5,\n",
    "             'marker': 'circle', 'marker_size': 5,\n",
    "             'color': colors[2], 'alpha': 1,},\n",
    "            {'label': 'WGT igg=10 wgt_flux=2',\n",
    "             'srs': fmt_cool(ds_cool_wgt),\n",
    "             'line_dash': 'solid', 'line_width': 3,\n",
    "             'marker': 'square', 'marker_size': 5,\n",
    "             'color': colors[3], 'alpha': .6}]\n",
    "    return data\n",
    "\n",
    "\n",
    "def nice_xlims(pltdata=None, prange=None):\n",
    "    \n",
    "    def get_slice(srs):\n",
    "        return srs.sel(pressure=slice(*prange))\n",
    "    \n",
    "    srss = [d['srs'] for d in pltdata]\n",
    "    vmin = min([get_slice(srs).min() for srs in srss])\n",
    "    vmax = max([get_slice(srs).max() for srs in srss])\n",
    "    dv = (vmax - vmin) * .01\n",
    "    return float(vmin - dv), float(vmax + dv)\n",
    "    \n",
    "\n",
    "def plt_cooling_bokeh(pltdata=None):\n",
    "    '''\n",
    "    Plot a list of cooling rate profiles using bokeh.\n",
    "    '''\n",
    "    ymin = 1e-2 \n",
    "    ymax = 1020 \n",
    "        \n",
    "    p1 = figure(title=\"Linear pressure scale\", \n",
    "                plot_width=400)        \n",
    "    xmin, xmax = nice_xlims(pltdata, prange=(50, 1050))\n",
    "    for d in pltdata:\n",
    "        if 'marker' in d:\n",
    "            getattr(p1, d['marker'])(d['srs'].values, \n",
    "                    d['srs'].coords['pressure'].values,\n",
    "                    color=d['color'], alpha=.7)\n",
    "        p1.line(d['srs'].values, \n",
    "                d['srs'].coords['pressure'].values,\n",
    "                color=d['color'], alpha=d['alpha'], \n",
    "                line_width=d['line_width'], line_dash=d['line_dash'])\n",
    "    \n",
    "    p1.y_range = Range1d(ymax, ymin)\n",
    "    p1.yaxis.axis_label = 'pressure [mb]'   \n",
    "    p1.x_range = Range1d(xmin, xmax)\n",
    "    p1.xaxis.axis_label = 'cooling rate [K/day]'\n",
    "            \n",
    "    p2 = figure(title='Log pressure scale', y_axis_type='log',\n",
    "                plot_width=560)\n",
    "    xmin, xmax = nice_xlims(pltdata, prange=(.01, 200))\n",
    "    \n",
    "    rs = []\n",
    "    for d in pltdata:\n",
    "        rd = []\n",
    "        if 'marker' in d:\n",
    "            r_mark = getattr(p2, d['marker'])(d['srs'].values, \n",
    "                        d['srs'].coords['pressure'].values,\n",
    "                        color=d['color'], alpha=.7)\n",
    "            rd.append(r_mark)\n",
    "        r_line = p2.line(d['srs'].values, \n",
    "                    d['srs'].coords['pressure'].values,\n",
    "                    color=d['color'], alpha=d['alpha'], \n",
    "                    line_width=d['line_width'], line_dash=d['line_dash'])\n",
    "        rd.append(r_line)\n",
    "      \n",
    "        rs.append(rd)\n",
    "        \n",
    "    p2.y_range = Range1d(ymax, ymin)  \n",
    "    p2.yaxis.axis_label = 'pressure [mb]'\n",
    "    \n",
    "    p2.x_range = Range1d(xmin, xmax)\n",
    "    p2.xaxis.axis_label = 'cooling rate [K/day]'\n",
    "    \n",
    "    items = [(d['label'], r) for r, d in zip(rs, pltdata)]\n",
    "    legend = Legend(items=items, location=(10, -30))\n",
    "    legend.label_text_font_size = '8pt'\n",
    "    \n",
    "    p2.add_layout(legend, 'right')  \n",
    "    \n",
    "    show(gridplot(p1, p2, ncols=2, plot_height=500))\n",
    "    \n",
    "\n",
    "def script_plt_cooling():\n",
    "    pltdata = pltdata_cooling_1(\n",
    "        ds_cool=DS_COOL,\n",
    "        ds_cool_crd=DS_COOL_CRD,\n",
    "        ds_cool_wgt=DS_COOL_WGT)\n",
    "    plt_cooling_bokeh(pltdata=pltdata)\n",
    "    print('''FIGURE. Cooling rate profiles.''')"
   ]
  },
  {
   "cell_type": "code",
   "execution_count": 9,
   "metadata": {
    "collapsed": true
   },
   "outputs": [],
   "source": [
    "def fmt_flux(ds_in):\n",
    "    ds = ds_in.copy(deep=True)\n",
    "    \n",
    "    for l in ('level', 'layer'):\n",
    "        if l in ds.data_vars:\n",
    "            if len(ds[l].dims) > 1:\n",
    "                surface = {d: 0 for d in ds.dims if d != 'pressure'}\n",
    "                coord_level = ds[l][surface]\n",
    "                ds.coords[l] = ('pressure', coord_level)\n",
    "            else:\n",
    "                ds.coords[l] = ('pressure', ds[l])\n",
    "        \n",
    "    ds = ds.isel(pressure=[0, 23, -1])\n",
    "        \n",
    "    if 'igg' in ds.dims:\n",
    "        ds = ds.sel(igg=[1])\n",
    "        ds = ds.squeeze('igg').drop('igg')\n",
    "    \n",
    "    if 'g' in ds.dims:\n",
    "        ds = ds.sum('g')\n",
    "            \n",
    "    if 'band' in ds.dims:\n",
    "        try:\n",
    "            ds = ds.squeeze('band').drop('band')\n",
    "        except ValueError:\n",
    "            ds = ds.sum('band')\n",
    "                \n",
    "    df = ds.to_dataframe()\n",
    "    df = df.set_index('level', append=True)               \n",
    "    return df\n",
    "\n",
    "\n",
    "def tbdata_flux(ds_flux=None, ds_flux_crd=None, ds_flux_wgt=None):\n",
    "    ilevels = [0, 23, -1]\n",
    "            \n",
    "    benchmark = {'label': 'WGT igg=10 wgt_flux=1',\n",
    "                 'df': fmt_flux(ds_flux_wgt)}\n",
    "    \n",
    "    tbs = [{'label': 'CRD',\n",
    "            'df': fmt_flux(ds_flux_crd)},\n",
    "           {'label': 'CLIRAD',\n",
    "            'df': fmt_flux(ds_flux)}]\n",
    "    \n",
    "    data = {'benchmark': benchmark, 'others': tbs}\n",
    "    return data\n",
    "\n",
    "\n",
    "def tb_flux(tbdata=None):\n",
    "    benchmark = tbdata['benchmark']\n",
    "    others = tbdata['others']\n",
    "    \n",
    "    def show_tb(d=None):\n",
    "        display.display(d['df'])\n",
    "        print('Table.', 'Fluxes.', d['label'])\n",
    "        \n",
    "    def show_tbdiff(d0=None, d=None):\n",
    "        df = d['df']\n",
    "        df.index = d0['df'].index\n",
    "        display.display(df - d0['df'])\n",
    "        print('Table.', 'Fluxes.', \n",
    "              '({}) - ({})'.format(d['label'], d0['label']))\n",
    "        \n",
    "    show_tb(benchmark)\n",
    "    for d in others:\n",
    "        show_tb(d)\n",
    "        \n",
    "    for d in others:\n",
    "        show_tbdiff(d=d, d0=benchmark)\n",
    "        \n",
    "        \n",
    "def script_tb_flux():\n",
    "    data = tbdata_flux(ds_flux=DS_FLUX,\n",
    "                       ds_flux_crd=DS_FLUX_CRD,\n",
    "                       ds_flux_wgt=DS_FLUX_WGT)\n",
    "    tb_flux(tbdata=data)"
   ]
  },
  {
   "cell_type": "code",
   "execution_count": 10,
   "metadata": {
    "collapsed": true
   },
   "outputs": [],
   "source": [
    "def band_map():\n",
    "    '''\n",
    "    Maps spectral bands in lblnew to spectral bands in clirad.\n",
    "    '''\n",
    "    lblnew2clirad = {'1': '1',\n",
    "            '2': '2',\n",
    "            '3a': '3',\n",
    "            '3b': '4',\n",
    "            '3c': '5',\n",
    "            '4': '6', \n",
    "            '5': '7',\n",
    "            '6': '8',\n",
    "            '7': '9', \n",
    "            '8': '10',\n",
    "            '9': '11'}\n",
    "    \n",
    "    clirad2lblnew = {clirad: lblnew \n",
    "                     for lblnew, clirad in lblnew2clirad.items()}\n",
    "    return clirad2lblnew\n",
    "\n",
    "\n",
    "def gasbands():\n",
    "    bmap = band_map()\n",
    "    gases = list(PARAM['molecule'].keys())\n",
    "    \n",
    "    bands = [bmap[str(b)] for b in PARAM['band']]\n",
    "    return list(itertools.product(gases, bands))\n",
    "\n",
    "\n",
    "def print_bestfit_params():\n",
    "    print('Best-fit values for each (gas, band)')\n",
    "    print('------------------------------------')\n",
    "    for gas, band in gasbands():\n",
    "        print('o {} band{}'.format(gas, band))\n",
    "        param = bestfits.kdist_params(molecule=gas, band=band)\n",
    "        for name, value in param.items():\n",
    "            print(2 * ' ' + '{} = {}'.format(name, value))\n",
    "\n",
    "        \n",
    "def print_input_param():        \n",
    "    for name, value in PARAM.items():\n",
    "        print('{} = {}'.format(name, value))\n",
    "        \n",
    "        \n",
    "def print_lblnew_param():\n",
    "    for name, value in PARAM_LBLNEW.items():\n",
    "        print('{} = {}'.format(name, value))\n"
   ]
  },
  {
   "cell_type": "code",
   "execution_count": 11,
   "metadata": {
    "collapsed": true,
    "scrolled": false
   },
   "outputs": [],
   "source": [
    "def show_html(s):\n",
    "    display.display(display.HTML(s))\n",
    "\n",
    "    \n",
    "def show_markdown(s):\n",
    "    display.display(display.Markdown(s))\n",
    "\n",
    "    \n",
    "def script():\n",
    "    \n",
    "    title = '### CLIRAD-LW'\n",
    "    s_input = 'Input Parameters'\n",
    "    s_lblnew_param = 'LBLNEW case compaired against'\n",
    "    s_bestfits = 'Best-fit Parameters'\n",
    "    s_plt_cooling = 'Cooling Rate Profiles'\n",
    "    s_tb_flux = 'Flux Comparison'\n",
    "    \n",
    "    # title\n",
    "    show_markdown('### CLIRAD-LW')\n",
    "    \n",
    "    # TOC\n",
    "    show_markdown('### Table of Contents')\n",
    "    show_html(climahtml.getHTML_hrefanchor(s_input))\n",
    "    show_html(climahtml.getHTML_hrefanchor(s_lblnew_param))\n",
    "    show_html(climahtml.getHTML_hrefanchor(s_plt_cooling))\n",
    "    show_html(climahtml.getHTML_hrefanchor(s_tb_flux))\n",
    "    show_html(climahtml.getHTML_hrefanchor(s_bestfits))\n",
    "    \n",
    "    # Input parameters\n",
    "    show_html(climahtml.getHTML_idanchor(s_input))\n",
    "    show_markdown(climahtml.getMarkdown_sectitle(s_input))\n",
    "    print_input_param()\n",
    "    \n",
    "    # LBLNEW parameters \n",
    "    show_html(climahtml.getHTML_idanchor(s_lblnew_param))\n",
    "    show_markdown(climahtml.getMarkdown_sectitle(s_lblnew_param))\n",
    "    print_lblnew_param()\n",
    "    \n",
    "    # Cooling rate profiles\n",
    "    show_html(climahtml.getHTML_idanchor(s_plt_cooling))\n",
    "    show_markdown(climahtml.getMarkdown_sectitle(s_plt_cooling))\n",
    "    script_plt_cooling()\n",
    "    \n",
    "    # Flux comparison\n",
    "    show_html(climahtml.getHTML_idanchor(s_tb_flux))\n",
    "    show_markdown(climahtml.getMarkdown_sectitle(s_tb_flux))\n",
    "    script_tb_flux()\n",
    "    \n",
    "    # Best-fit values\n",
    "    show_html(climahtml.getHTML_idanchor(s_bestfits))\n",
    "    show_markdown(climahtml.getMarkdown_sectitle(s_bestfits))\n",
    "    print_bestfit_params()\n",
    "   \n",
    "    "
   ]
  },
  {
   "cell_type": "code",
   "execution_count": 12,
   "metadata": {
    "scrolled": false
   },
   "outputs": [
    {
     "data": {
      "text/markdown": [
       "### CLIRAD-LW"
      ],
      "text/plain": [
       "<IPython.core.display.Markdown object>"
      ]
     },
     "metadata": {},
     "output_type": "display_data"
    },
    {
     "data": {
      "text/markdown": [
       "### Table of Contents"
      ],
      "text/plain": [
       "<IPython.core.display.Markdown object>"
      ]
     },
     "metadata": {},
     "output_type": "display_data"
    },
    {
     "data": {
      "text/html": [
       "<a href=\"#Input_Parameters\">Input Parameters</a>"
      ],
      "text/plain": [
       "<IPython.core.display.HTML object>"
      ]
     },
     "metadata": {},
     "output_type": "display_data"
    },
    {
     "data": {
      "text/html": [
       "<a href=\"#LBLNEW_case_compaired_against\">LBLNEW case compaired against</a>"
      ],
      "text/plain": [
       "<IPython.core.display.HTML object>"
      ]
     },
     "metadata": {},
     "output_type": "display_data"
    },
    {
     "data": {
      "text/html": [
       "<a href=\"#Cooling_Rate_Profiles\">Cooling Rate Profiles</a>"
      ],
      "text/plain": [
       "<IPython.core.display.HTML object>"
      ]
     },
     "metadata": {},
     "output_type": "display_data"
    },
    {
     "data": {
      "text/html": [
       "<a href=\"#Flux_Comparison\">Flux Comparison</a>"
      ],
      "text/plain": [
       "<IPython.core.display.HTML object>"
      ]
     },
     "metadata": {},
     "output_type": "display_data"
    },
    {
     "data": {
      "text/html": [
       "<a href=\"#Best-fit_Parameters\">Best-fit Parameters</a>"
      ],
      "text/plain": [
       "<IPython.core.display.HTML object>"
      ]
     },
     "metadata": {},
     "output_type": "display_data"
    },
    {
     "data": {
      "text/html": [
       "<a id=\"Input_Parameters\"></a>"
      ],
      "text/plain": [
       "<IPython.core.display.HTML object>"
      ]
     },
     "metadata": {},
     "output_type": "display_data"
    },
    {
     "data": {
      "text/markdown": [
       "# Input Parameters"
      ],
      "text/plain": [
       "<IPython.core.display.Markdown object>"
      ]
     },
     "metadata": {},
     "output_type": "display_data"
    },
    {
     "name": "stdout",
     "output_type": "stream",
     "text": [
      "atmpro = mls\n",
      "band = [11]\n",
      "commitnumber = 7a7a0e1\n",
      "molecule = {'o3': 'atmpro'}\n",
      "tsfc = 294\n"
     ]
    },
    {
     "data": {
      "text/html": [
       "<a id=\"LBLNEW_case_compaired_against\"></a>"
      ],
      "text/plain": [
       "<IPython.core.display.HTML object>"
      ]
     },
     "metadata": {},
     "output_type": "display_data"
    },
    {
     "data": {
      "text/markdown": [
       "# LBLNEW case compaired against"
      ],
      "text/plain": [
       "<IPython.core.display.Markdown object>"
      ]
     },
     "metadata": {},
     "output_type": "display_data"
    },
    {
     "name": "stdout",
     "output_type": "stream",
     "text": [
      "molecule = o3\n",
      "band = 9\n",
      "commitnumber = d62b618\n",
      "vmin = 1900\n",
      "vmax = 3000\n",
      "dv = 0.001\n",
      "nv = 1000\n",
      "ref_pts = [(1, 250), (50, 250)]\n",
      "ng_refs = [2, 5]\n",
      "ng_adju = [0, 0]\n",
      "klin = 2e-20\n",
      "option_wgt_k = 1\n",
      "wgt = [(0.3, 0.4), (0.5, 0.6, 0.7, 0.85, 0.9)]\n",
      "w_diffuse = [(1.55, 1.55), (1.55, 1.55, 1.55, 1.55, 1.8)]\n",
      "option_wgt_flux = 1\n",
      "atmpro = mls\n",
      "tsfc = 294\n",
      "conc = None\n",
      "option_compute_btable = 0\n",
      "option_compute_ktable = 1\n"
     ]
    },
    {
     "data": {
      "text/html": [
       "<a id=\"Cooling_Rate_Profiles\"></a>"
      ],
      "text/plain": [
       "<IPython.core.display.HTML object>"
      ]
     },
     "metadata": {},
     "output_type": "display_data"
    },
    {
     "data": {
      "text/markdown": [
       "# Cooling Rate Profiles"
      ],
      "text/plain": [
       "<IPython.core.display.Markdown object>"
      ]
     },
     "metadata": {},
     "output_type": "display_data"
    },
    {
     "data": {
      "text/html": [
       "\n",
       "<div class=\"bk-root\">\n",
       "    <div class=\"bk-plotdiv\" id=\"a63e5c86-ae24-4039-b9c0-cdabc06893de\"></div>\n",
       "</div>"
      ]
     },
     "metadata": {},
     "output_type": "display_data"
    },
    {
     "data": {
      "application/javascript": [
       "(function(root) {\n",
       "  function embed_document(root) {\n",
       "    \n",
       "  var docs_json = {\"61693e31-1b70-4bc3-8b00-05053de52bc9\":{\"roots\":{\"references\":[{\"attributes\":{\"callback\":null,\"column_names\":[\"x\",\"y\"],\"data\":{\"x\":{\"__ndarray__\":\"k87hGFxWKL+b2+ZU4UMrv/nI7v68ijC/yaXKCVpzM783OH/Uu1o2vzY7bIjMQTm/+ITTH+3BPL+GLI33Ugk/vxC9w9Fl9EC/JSYAoZhiQr/SiemBb+5DvxVHiIJZO0W/u9/vFu2sRr8Q5XyKCxtIv5c3StyC70m/ghIxR9uDTr+otiGsqZhRv928R65BdVG/U+oqA1EkSr8D2nbeOWwbv+HPeVhr0lQ/YzE3xcYobj+vMZf0set8P6U/BCiQkYI/pcPDcy8igD8VBTGBuHp0P9jTUcBEZFI/dPxZbfN/Zb9vQlUY2PR2v7esMHHzY4C/Pf0osmv+g7+KYx3Bn3eFv6stIZFJVYW/DibNOHB7hL9u4Y/XCcyBv5j4B/gTqHm/lC82nqC1cL/gT1hcf3Znv/XkaoBjamK/hXi1dyUEXb8F2TkkcepVvwqy4Qk2V1G/kq+NLTPuTL954BetY6xHv5gzZwGOnEO/dopAG3gYQb/mqZvJ0vE9v3MlSo1J5jm/35eKoUd3Nr9th5pRW5gzv70aWeoO6TC/ouve78PQLL9wMqSGODQov0TKNtpKNiS/Zd2ZaEi0IL8H/hA12NQav5F7ureSxBS/vpDkucspDr+pT+FHTk0Dvyyi5Y2WBfK+tAk0LB1quT6Zfv5iu1n0Ph0MisNqIgM/cD8RVXa6Cz/kBNobQfYRP7hUNwrdzhU/y1H7pFZ8GT+Msb5W1PccP6nTZRXRAyA/ZwakLV9TIT+NN/jGbXgiP+T3HrF4hyM/OleKoA6EJD9MaF6Lp3AlPwfPH5z2TiY/\",\"dtype\":\"float64\",\"shape\":[75]},\"y\":{\"__ndarray__\":\"GhExyth1ND/Sv8nbtpRIP2vylNV0PVE/aTum7souWD/At0SJ8fVgPw3Iuahxymc/MSNhhJWvcD/bTfBN02d3P2zb5nxnaoA/CD5h5MAGhz8NmeH1TyaQP+zrCsc9p5Y/LbKd76fGnz/bLW5ISEmmPww9YvTcQq8/JV2OstnstT8Er5Y7M8G+P0c+r3jqkcU/5h99k6ZBzj88bCIzFzjVP4enV8oyxN0//yH99nXg5D8qOpLLf0jtP5kqGJXUifQ/c9cS8kHP/D+/DpwzojQEQIEmwoanVwxA4lgXt9HgE0BSSZ2AJuIbQAMJih9jjiNA5q4l5INuK0AwTKYKRj0zQNv5fmq8/DpAaCJseHrtQkB/+zpwzoxKQM3MzMzMeFJAZmZmZmZqWEAAAAAAAFxeQM3MzMzMJmJAmpmZmZkfZUBmZmZmZhhoQDMzMzMzEWtAAAAAAAAKbkBmZmZmZoFwQM3MzMzM/XFAMzMzMzN6c0CamZmZmfZ0QAAAAAAAc3ZAZmZmZmbvd0DNzMzMzGt5QDMzMzMz6HpAmpmZmZlkfEAAAAAAAOF9QGZmZmZmXX9AZmZmZuZsgECamZmZGSuBQM3MzMxM6YFAAAAAAICngkAzMzMzs2WDQGZmZmbmI4RAmpmZmRnihEDNzMzMTKCFQAAAAACAXoZAMzMzM7Mch0BmZmZm5tqHQJqZmZkZmYhAzczMzExXiUAAAAAAgBWKQDMzMzOz04pAZmZmZuaRi0CamZmZGVCMQM3MzMxMDo1AAAAAAIDMjUAzMzMzs4qOQGZmZmbmSI9A\",\"dtype\":\"float64\",\"shape\":[75]}}},\"id\":\"2826586f-0d8c-430a-8cad-2f9483fd182a\",\"type\":\"ColumnDataSource\"},{\"attributes\":{\"overlay\":{\"id\":\"f1fa37c1-a911-4474-a469-a8d958e44241\",\"type\":\"BoxAnnotation\"}},\"id\":\"81171508-2440-4c52-91cd-41b7b9566f7f\",\"type\":\"BoxZoomTool\"},{\"attributes\":{},\"id\":\"ac61626e-ab5e-408f-b259-4c6788904889\",\"type\":\"HelpTool\"},{\"attributes\":{\"data_source\":{\"id\":\"8b3e30f4-c78c-4cc6-97f3-2e4ba68d0dfb\",\"type\":\"ColumnDataSource\"},\"glyph\":{\"id\":\"264dc47c-0393-48b6-8bfa-43a10bdda4cd\",\"type\":\"Circle\"},\"hover_glyph\":null,\"muted_glyph\":null,\"nonselection_glyph\":{\"id\":\"5fa1cf40-358d-47b0-a66b-a56e7a1b2b21\",\"type\":\"Circle\"},\"selection_glyph\":null,\"view\":{\"id\":\"41bfc2b7-9ffa-4698-9b18-c8b8c9d9aae1\",\"type\":\"CDSView\"}},\"id\":\"0ab4aee4-7ff6-4588-b1dd-2ccf36779438\",\"type\":\"GlyphRenderer\"},{\"attributes\":{\"data_source\":{\"id\":\"66ff572b-b1a6-41aa-8315-61268a837d7c\",\"type\":\"ColumnDataSource\"},\"glyph\":{\"id\":\"bd9c60ef-a2b3-4694-b1ac-49513b47a252\",\"type\":\"Line\"},\"hover_glyph\":null,\"muted_glyph\":null,\"nonselection_glyph\":{\"id\":\"fec018c0-5829-41a8-a488-e162a17c1eac\",\"type\":\"Line\"},\"selection_glyph\":null,\"view\":{\"id\":\"b740246d-e65f-487e-a280-841c37db8f86\",\"type\":\"CDSView\"}},\"id\":\"61985586-3d03-4862-9909-b9ef2ea4ca01\",\"type\":\"GlyphRenderer\"},{\"attributes\":{\"fill_alpha\":{\"value\":0.7},\"fill_color\":{\"value\":\"#4daf4a\"},\"line_alpha\":{\"value\":0.7},\"line_color\":{\"value\":\"#4daf4a\"},\"x\":{\"field\":\"x\"},\"y\":{\"field\":\"y\"}},\"id\":\"264dc47c-0393-48b6-8bfa-43a10bdda4cd\",\"type\":\"Circle\"},{\"attributes\":{\"data_source\":{\"id\":\"9e084395-c985-48dc-b158-2c3c4c50e9cd\",\"type\":\"ColumnDataSource\"},\"glyph\":{\"id\":\"73a3c1a9-6724-4c49-b63e-efb300174fad\",\"type\":\"Square\"},\"hover_glyph\":null,\"muted_glyph\":null,\"nonselection_glyph\":{\"id\":\"27c3917e-2a93-466c-b29c-fe68b46e9735\",\"type\":\"Square\"},\"selection_glyph\":null,\"view\":{\"id\":\"31b79bbd-3c24-4e69-a810-ee2ddf6d8c06\",\"type\":\"CDSView\"}},\"id\":\"bb566b91-2159-4208-b631-a0d47c5db316\",\"type\":\"GlyphRenderer\"},{\"attributes\":{\"callback\":null,\"column_names\":[\"x\",\"y\"],\"data\":{\"x\":{\"__ndarray__\":\"k87hGFxWKL+b2+ZU4UMrv/nI7v68ijC/yaXKCVpzM783OH/Uu1o2vzY7bIjMQTm/+ITTH+3BPL+GLI33Ugk/vxC9w9Fl9EC/JSYAoZhiQr/SiemBb+5DvxVHiIJZO0W/u9/vFu2sRr8Q5XyKCxtIv5c3StyC70m/ghIxR9uDTr+otiGsqZhRv928R65BdVG/U+oqA1EkSr8D2nbeOWwbv+HPeVhr0lQ/YzE3xcYobj+vMZf0set8P6U/BCiQkYI/pcPDcy8igD8VBTGBuHp0P9jTUcBEZFI/dPxZbfN/Zb9vQlUY2PR2v7esMHHzY4C/Pf0osmv+g7+KYx3Bn3eFv6stIZFJVYW/DibNOHB7hL9u4Y/XCcyBv5j4B/gTqHm/lC82nqC1cL/gT1hcf3Znv/XkaoBjamK/hXi1dyUEXb8F2TkkcepVvwqy4Qk2V1G/kq+NLTPuTL954BetY6xHv5gzZwGOnEO/dopAG3gYQb/mqZvJ0vE9v3MlSo1J5jm/35eKoUd3Nr9th5pRW5gzv70aWeoO6TC/ouve78PQLL9wMqSGODQov0TKNtpKNiS/Zd2ZaEi0IL8H/hA12NQav5F7ureSxBS/vpDkucspDr+pT+FHTk0Dvyyi5Y2WBfK+tAk0LB1quT6Zfv5iu1n0Ph0MisNqIgM/cD8RVXa6Cz/kBNobQfYRP7hUNwrdzhU/y1H7pFZ8GT+Msb5W1PccP6nTZRXRAyA/ZwakLV9TIT+NN/jGbXgiP+T3HrF4hyM/OleKoA6EJD9MaF6Lp3AlPwfPH5z2TiY/\",\"dtype\":\"float64\",\"shape\":[75]},\"y\":{\"__ndarray__\":\"GhExyth1ND/Sv8nbtpRIP2vylNV0PVE/aTum7souWD/At0SJ8fVgPw3Iuahxymc/MSNhhJWvcD/bTfBN02d3P2zb5nxnaoA/CD5h5MAGhz8NmeH1TyaQP+zrCsc9p5Y/LbKd76fGnz/bLW5ISEmmPww9YvTcQq8/JV2OstnstT8Er5Y7M8G+P0c+r3jqkcU/5h99k6ZBzj88bCIzFzjVP4enV8oyxN0//yH99nXg5D8qOpLLf0jtP5kqGJXUifQ/c9cS8kHP/D+/DpwzojQEQIEmwoanVwxA4lgXt9HgE0BSSZ2AJuIbQAMJih9jjiNA5q4l5INuK0AwTKYKRj0zQNv5fmq8/DpAaCJseHrtQkB/+zpwzoxKQM3MzMzMeFJAZmZmZmZqWEAAAAAAAFxeQM3MzMzMJmJAmpmZmZkfZUBmZmZmZhhoQDMzMzMzEWtAAAAAAAAKbkBmZmZmZoFwQM3MzMzM/XFAMzMzMzN6c0CamZmZmfZ0QAAAAAAAc3ZAZmZmZmbvd0DNzMzMzGt5QDMzMzMz6HpAmpmZmZlkfEAAAAAAAOF9QGZmZmZmXX9AZmZmZuZsgECamZmZGSuBQM3MzMxM6YFAAAAAAICngkAzMzMzs2WDQGZmZmbmI4RAmpmZmRnihEDNzMzMTKCFQAAAAACAXoZAMzMzM7Mch0BmZmZm5tqHQJqZmZkZmYhAzczMzExXiUAAAAAAgBWKQDMzMzOz04pAZmZmZuaRi0CamZmZGVCMQM3MzMxMDo1AAAAAAIDMjUAzMzMzs4qOQGZmZmbmSI9A\",\"dtype\":\"float64\",\"shape\":[75]}}},\"id\":\"8b3e30f4-c78c-4cc6-97f3-2e4ba68d0dfb\",\"type\":\"ColumnDataSource\"},{\"attributes\":{\"data_source\":{\"id\":\"0d24bee0-628c-4725-a8e5-49bc81490aec\",\"type\":\"ColumnDataSource\"},\"glyph\":{\"id\":\"467d74a6-73f6-45fb-b096-c7a3553e559e\",\"type\":\"Line\"},\"hover_glyph\":null,\"muted_glyph\":null,\"nonselection_glyph\":{\"id\":\"143fb5c0-f0c2-45f6-a63b-43a47d1f5aca\",\"type\":\"Line\"},\"selection_glyph\":null,\"view\":{\"id\":\"c83fe069-8fd1-46b5-a81b-ecfbfdfe85b7\",\"type\":\"CDSView\"}},\"id\":\"0386b9e7-ccac-4595-81ae-a9034337d758\",\"type\":\"GlyphRenderer\"},{\"attributes\":{\"tools\":[{\"id\":\"21bd634c-2582-42a6-8cf1-5d74448b02cc\",\"type\":\"PanTool\"},{\"id\":\"35f54d0b-1048-4e86-a079-ad7b752527c5\",\"type\":\"WheelZoomTool\"},{\"id\":\"bdcc8167-2237-412b-ae5b-5332022544f6\",\"type\":\"BoxZoomTool\"},{\"id\":\"2e524735-094c-4bfd-8b55-73f5d9ab0dc7\",\"type\":\"SaveTool\"},{\"id\":\"eb7a1395-3ad8-4109-86d8-56ae837313ea\",\"type\":\"ResetTool\"},{\"id\":\"5563d35b-5385-423f-9d86-66ccf07d68fd\",\"type\":\"HelpTool\"},{\"id\":\"1f66a568-947c-416e-94c4-fbb1384713c4\",\"type\":\"PanTool\"},{\"id\":\"443a0ad8-c7c8-4c93-978a-30537e06895d\",\"type\":\"WheelZoomTool\"},{\"id\":\"81171508-2440-4c52-91cd-41b7b9566f7f\",\"type\":\"BoxZoomTool\"},{\"id\":\"e60dbe25-04e1-445b-8815-4b586bdde1d8\",\"type\":\"SaveTool\"},{\"id\":\"92d8a0d1-de3a-46fe-afac-6c18c013b06a\",\"type\":\"ResetTool\"},{\"id\":\"ac61626e-ab5e-408f-b259-4c6788904889\",\"type\":\"HelpTool\"}]},\"id\":\"0ae7a3b5-e096-46d3-80c6-8b82c2e41327\",\"type\":\"ProxyToolbar\"},{\"attributes\":{\"fill_alpha\":{\"value\":0.1},\"fill_color\":{\"value\":\"#1f77b4\"},\"line_alpha\":{\"value\":0.1},\"line_color\":{\"value\":\"#1f77b4\"},\"x\":{\"field\":\"x\"},\"y\":{\"field\":\"y\"}},\"id\":\"5fa1cf40-358d-47b0-a66b-a56e7a1b2b21\",\"type\":\"Circle\"},{\"attributes\":{\"callback\":null,\"column_names\":[\"x\",\"y\"],\"data\":{\"x\":{\"__ndarray__\":\"7oQ2TVcwKL95TD+W8Bsrv6jEJBhSdTC/vaCYVCVeM78gx9uzu0Y2v0wq0PUjMDm/yIMqZW0XPL8zCDDj4/4+v0TZVdps8kC/hNy1qIZkQr9av8c9f9ZDv5bO159wR0W/7e0E6Di4Rr8MKCL3riZIv6YM4shtIEq/rFRNHBYKT7+em9nzjzdSv2JmA63WtVK/2djMv/aaTr8iBuhuIyc1v0gwcQhByE4/WSjD9EDZaT8j/6fjDvp5P/xSwkl1w4A/AEaF/JYMfD8eQXyGFhhtP8AKcIV4JDy/YHicXDoear9NVyxrYQR5vybmQ2KZZYG/YHRGbIbthL8QP9WAw6CGv6blsqZEqYa/DGPbMxKohb+RX13uRsSCvzBUaNOQ0Hq/pnToQ+BIcb9pX1wZGw1ovwrjbxbSuWK/PGBYm8fZXL+4BNnYU+tVv0t6E1XzcFG/gr2wuJ3jTL+YYIeN+KRHv9dy2McqqUO/iDYQB3D6QL/wUUsv7rA9vy57Gg+YpDm/9oCjopE3Nr/iTWAHZV4zv1yFs1aWtjC/fmKytYGHLL9QfCDF/wAov+Dwuc+TGSS/UX9UcS2lIL9iXdPuGtMav1x3uso45RS/PeT63m8ZEL/4JC0fdOcDv8Q5ezQSy/O+HKIbY2Bbp77aYIzevHTxPu2jHXbvYgE/FBectB2xCT/+htE6w8sQP8Y+UCmBehQ/MHFrJqcAGD91PFMbAVobPyZ5Yg8vTh4/v5zSDw1rID/WF2/HNIYhP1bZyHX7iiI/AfvoI1d/Iz94277TCWMkP5IMKaE4OiU/\",\"dtype\":\"float64\",\"shape\":[75]},\"y\":{\"__ndarray__\":\"GhExyth1ND/Sv8nbtpRIP2vylNV0PVE/aTum7souWD/At0SJ8fVgPw3Iuahxymc/MSNhhJWvcD/bTfBN02d3P2zb5nxnaoA/CD5h5MAGhz8NmeH1TyaQP+zrCsc9p5Y/LbKd76fGnz/bLW5ISEmmPww9YvTcQq8/JV2OstnstT8Er5Y7M8G+P0c+r3jqkcU/5h99k6ZBzj88bCIzFzjVP4enV8oyxN0//yH99nXg5D8qOpLLf0jtP5kqGJXUifQ/c9cS8kHP/D+/DpwzojQEQIEmwoanVwxA4lgXt9HgE0BSSZ2AJuIbQAMJih9jjiNA5q4l5INuK0AwTKYKRj0zQNv5fmq8/DpAaCJseHrtQkB/+zpwzoxKQM3MzMzMeFJAZmZmZmZqWEAAAAAAAFxeQM3MzMzMJmJAmpmZmZkfZUBmZmZmZhhoQDMzMzMzEWtAAAAAAAAKbkBmZmZmZoFwQM3MzMzM/XFAMzMzMzN6c0CamZmZmfZ0QAAAAAAAc3ZAZmZmZmbvd0DNzMzMzGt5QDMzMzMz6HpAmpmZmZlkfEAAAAAAAOF9QGZmZmZmXX9AZmZmZuZsgECamZmZGSuBQM3MzMxM6YFAAAAAAICngkAzMzMzs2WDQGZmZmbmI4RAmpmZmRnihEDNzMzMTKCFQAAAAACAXoZAMzMzM7Mch0BmZmZm5tqHQJqZmZkZmYhAzczMzExXiUAAAAAAgBWKQDMzMzOz04pAZmZmZuaRi0CamZmZGVCMQM3MzMxMDo1AAAAAAIDMjUAzMzMzs4qOQGZmZmbmSI9A\",\"dtype\":\"float64\",\"shape\":[75]}}},\"id\":\"9e084395-c985-48dc-b158-2c3c4c50e9cd\",\"type\":\"ColumnDataSource\"},{\"attributes\":{\"source\":{\"id\":\"8b3e30f4-c78c-4cc6-97f3-2e4ba68d0dfb\",\"type\":\"ColumnDataSource\"}},\"id\":\"41bfc2b7-9ffa-4698-9b18-c8b8c9d9aae1\",\"type\":\"CDSView\"},{\"attributes\":{\"line_color\":\"#4daf4a\",\"line_width\":1.5,\"x\":{\"field\":\"x\"},\"y\":{\"field\":\"y\"}},\"id\":\"6c943450-d5df-4676-813f-a78761eb08d5\",\"type\":\"Line\"},{\"attributes\":{\"callback\":null,\"column_names\":[\"x\",\"y\"],\"data\":{\"x\":{\"__ndarray__\":\"7oQ2TVcwKL95TD+W8Bsrv6jEJBhSdTC/vaCYVCVeM78gx9uzu0Y2v0wq0PUjMDm/yIMqZW0XPL8zCDDj4/4+v0TZVdps8kC/hNy1qIZkQr9av8c9f9ZDv5bO159wR0W/7e0E6Di4Rr8MKCL3riZIv6YM4shtIEq/rFRNHBYKT7+em9nzjzdSv2JmA63WtVK/2djMv/aaTr8iBuhuIyc1v0gwcQhByE4/WSjD9EDZaT8j/6fjDvp5P/xSwkl1w4A/AEaF/JYMfD8eQXyGFhhtP8AKcIV4JDy/YHicXDoear9NVyxrYQR5vybmQ2KZZYG/YHRGbIbthL8QP9WAw6CGv6blsqZEqYa/DGPbMxKohb+RX13uRsSCvzBUaNOQ0Hq/pnToQ+BIcb9pX1wZGw1ovwrjbxbSuWK/PGBYm8fZXL+4BNnYU+tVv0t6E1XzcFG/gr2wuJ3jTL+YYIeN+KRHv9dy2McqqUO/iDYQB3D6QL/wUUsv7rA9vy57Gg+YpDm/9oCjopE3Nr/iTWAHZV4zv1yFs1aWtjC/fmKytYGHLL9QfCDF/wAov+Dwuc+TGSS/UX9UcS2lIL9iXdPuGtMav1x3uso45RS/PeT63m8ZEL/4JC0fdOcDv8Q5ezQSy/O+HKIbY2Bbp77aYIzevHTxPu2jHXbvYgE/FBectB2xCT/+htE6w8sQP8Y+UCmBehQ/MHFrJqcAGD91PFMbAVobPyZ5Yg8vTh4/v5zSDw1rID/WF2/HNIYhP1bZyHX7iiI/AfvoI1d/Iz94277TCWMkP5IMKaE4OiU/\",\"dtype\":\"float64\",\"shape\":[75]},\"y\":{\"__ndarray__\":\"GhExyth1ND/Sv8nbtpRIP2vylNV0PVE/aTum7souWD/At0SJ8fVgPw3Iuahxymc/MSNhhJWvcD/bTfBN02d3P2zb5nxnaoA/CD5h5MAGhz8NmeH1TyaQP+zrCsc9p5Y/LbKd76fGnz/bLW5ISEmmPww9YvTcQq8/JV2OstnstT8Er5Y7M8G+P0c+r3jqkcU/5h99k6ZBzj88bCIzFzjVP4enV8oyxN0//yH99nXg5D8qOpLLf0jtP5kqGJXUifQ/c9cS8kHP/D+/DpwzojQEQIEmwoanVwxA4lgXt9HgE0BSSZ2AJuIbQAMJih9jjiNA5q4l5INuK0AwTKYKRj0zQNv5fmq8/DpAaCJseHrtQkB/+zpwzoxKQM3MzMzMeFJAZmZmZmZqWEAAAAAAAFxeQM3MzMzMJmJAmpmZmZkfZUBmZmZmZhhoQDMzMzMzEWtAAAAAAAAKbkBmZmZmZoFwQM3MzMzM/XFAMzMzMzN6c0CamZmZmfZ0QAAAAAAAc3ZAZmZmZmbvd0DNzMzMzGt5QDMzMzMz6HpAmpmZmZlkfEAAAAAAAOF9QGZmZmZmXX9AZmZmZuZsgECamZmZGSuBQM3MzMxM6YFAAAAAAICngkAzMzMzs2WDQGZmZmbmI4RAmpmZmRnihEDNzMzMTKCFQAAAAACAXoZAMzMzM7Mch0BmZmZm5tqHQJqZmZkZmYhAzczMzExXiUAAAAAAgBWKQDMzMzOz04pAZmZmZuaRi0CamZmZGVCMQM3MzMxMDo1AAAAAAIDMjUAzMzMzs4qOQGZmZmbmSI9A\",\"dtype\":\"float64\",\"shape\":[75]}}},\"id\":\"529cc16b-5c46-4066-ac5b-97a90958a12f\",\"type\":\"ColumnDataSource\"},{\"attributes\":{\"line_alpha\":0.1,\"line_color\":\"#1f77b4\",\"line_width\":1.5,\"x\":{\"field\":\"x\"},\"y\":{\"field\":\"y\"}},\"id\":\"6badd3a3-5a11-4fd8-9265-50fe557786bd\",\"type\":\"Line\"},{\"attributes\":{\"data_source\":{\"id\":\"2826586f-0d8c-430a-8cad-2f9483fd182a\",\"type\":\"ColumnDataSource\"},\"glyph\":{\"id\":\"6c943450-d5df-4676-813f-a78761eb08d5\",\"type\":\"Line\"},\"hover_glyph\":null,\"muted_glyph\":null,\"nonselection_glyph\":{\"id\":\"6badd3a3-5a11-4fd8-9265-50fe557786bd\",\"type\":\"Line\"},\"selection_glyph\":null,\"view\":{\"id\":\"971bb7e2-2c6f-4137-a904-a60af2b37441\",\"type\":\"CDSView\"}},\"id\":\"b149d364-85b9-4f9f-8a7c-3b5a1700d290\",\"type\":\"GlyphRenderer\"},{\"attributes\":{\"source\":{\"id\":\"2826586f-0d8c-430a-8cad-2f9483fd182a\",\"type\":\"ColumnDataSource\"}},\"id\":\"971bb7e2-2c6f-4137-a904-a60af2b37441\",\"type\":\"CDSView\"},{\"attributes\":{\"fill_alpha\":{\"value\":0.7},\"fill_color\":{\"value\":\"#984ea3\"},\"line_alpha\":{\"value\":0.7},\"line_color\":{\"value\":\"#984ea3\"},\"x\":{\"field\":\"x\"},\"y\":{\"field\":\"y\"}},\"id\":\"73a3c1a9-6724-4c49-b63e-efb300174fad\",\"type\":\"Square\"},{\"attributes\":{\"fill_alpha\":{\"value\":0.1},\"fill_color\":{\"value\":\"#1f77b4\"},\"line_alpha\":{\"value\":0.1},\"line_color\":{\"value\":\"#1f77b4\"},\"x\":{\"field\":\"x\"},\"y\":{\"field\":\"y\"}},\"id\":\"27c3917e-2a93-466c-b29c-fe68b46e9735\",\"type\":\"Square\"},{\"attributes\":{},\"id\":\"443a0ad8-c7c8-4c93-978a-30537e06895d\",\"type\":\"WheelZoomTool\"},{\"attributes\":{\"callback\":null,\"end\":0.0092680195301,\"start\":-0.011266358340100001},\"id\":\"ecabbf92-dad9-4b12-8300-db32a941633f\",\"type\":\"Range1d\"},{\"attributes\":{\"data_source\":{\"id\":\"529cc16b-5c46-4066-ac5b-97a90958a12f\",\"type\":\"ColumnDataSource\"},\"glyph\":{\"id\":\"7e8a85e4-f4bd-484f-9366-fbe624f8719e\",\"type\":\"Line\"},\"hover_glyph\":null,\"muted_glyph\":null,\"nonselection_glyph\":{\"id\":\"ba860f54-13f2-41b7-a460-de9e88b99bfe\",\"type\":\"Line\"},\"selection_glyph\":null,\"view\":{\"id\":\"3e819fb2-1a80-461e-99cd-50ae7aebfd4d\",\"type\":\"CDSView\"}},\"id\":\"08052f4c-b3db-461d-92ce-3396711423cf\",\"type\":\"GlyphRenderer\"},{\"attributes\":{\"callback\":null,\"column_names\":[\"x\",\"y\"],\"data\":{\"x\":{\"__ndarray__\":\"k87hGFxWKL+b2+ZU4UMrv/nI7v68ijC/yaXKCVpzM783OH/Uu1o2vzY7bIjMQTm/+ITTH+3BPL+GLI33Ugk/vxC9w9Fl9EC/JSYAoZhiQr/SiemBb+5DvxVHiIJZO0W/u9/vFu2sRr8Q5XyKCxtIv5c3StyC70m/ghIxR9uDTr+otiGsqZhRv928R65BdVG/U+oqA1EkSr8D2nbeOWwbv+HPeVhr0lQ/YzE3xcYobj+vMZf0set8P6U/BCiQkYI/pcPDcy8igD8VBTGBuHp0P9jTUcBEZFI/dPxZbfN/Zb9vQlUY2PR2v7esMHHzY4C/Pf0osmv+g7+KYx3Bn3eFv6stIZFJVYW/DibNOHB7hL9u4Y/XCcyBv5j4B/gTqHm/lC82nqC1cL/gT1hcf3Znv/XkaoBjamK/hXi1dyUEXb8F2TkkcepVvwqy4Qk2V1G/kq+NLTPuTL954BetY6xHv5gzZwGOnEO/dopAG3gYQb/mqZvJ0vE9v3MlSo1J5jm/35eKoUd3Nr9th5pRW5gzv70aWeoO6TC/ouve78PQLL9wMqSGODQov0TKNtpKNiS/Zd2ZaEi0IL8H/hA12NQav5F7ureSxBS/vpDkucspDr+pT+FHTk0Dvyyi5Y2WBfK+tAk0LB1quT6Zfv5iu1n0Ph0MisNqIgM/cD8RVXa6Cz/kBNobQfYRP7hUNwrdzhU/y1H7pFZ8GT+Msb5W1PccP6nTZRXRAyA/ZwakLV9TIT+NN/jGbXgiP+T3HrF4hyM/OleKoA6EJD9MaF6Lp3AlPwfPH5z2TiY/\",\"dtype\":\"float64\",\"shape\":[75]},\"y\":{\"__ndarray__\":\"GhExyth1ND/Sv8nbtpRIP2vylNV0PVE/aTum7souWD/At0SJ8fVgPw3Iuahxymc/MSNhhJWvcD/bTfBN02d3P2zb5nxnaoA/CD5h5MAGhz8NmeH1TyaQP+zrCsc9p5Y/LbKd76fGnz/bLW5ISEmmPww9YvTcQq8/JV2OstnstT8Er5Y7M8G+P0c+r3jqkcU/5h99k6ZBzj88bCIzFzjVP4enV8oyxN0//yH99nXg5D8qOpLLf0jtP5kqGJXUifQ/c9cS8kHP/D+/DpwzojQEQIEmwoanVwxA4lgXt9HgE0BSSZ2AJuIbQAMJih9jjiNA5q4l5INuK0AwTKYKRj0zQNv5fmq8/DpAaCJseHrtQkB/+zpwzoxKQM3MzMzMeFJAZmZmZmZqWEAAAAAAAFxeQM3MzMzMJmJAmpmZmZkfZUBmZmZmZhhoQDMzMzMzEWtAAAAAAAAKbkBmZmZmZoFwQM3MzMzM/XFAMzMzMzN6c0CamZmZmfZ0QAAAAAAAc3ZAZmZmZmbvd0DNzMzMzGt5QDMzMzMz6HpAmpmZmZlkfEAAAAAAAOF9QGZmZmZmXX9AZmZmZuZsgECamZmZGSuBQM3MzMxM6YFAAAAAAICngkAzMzMzs2WDQGZmZmbmI4RAmpmZmRnihEDNzMzMTKCFQAAAAACAXoZAMzMzM7Mch0BmZmZm5tqHQJqZmZkZmYhAzczMzExXiUAAAAAAgBWKQDMzMzOz04pAZmZmZuaRi0CamZmZGVCMQM3MzMxMDo1AAAAAAIDMjUAzMzMzs4qOQGZmZmbmSI9A\",\"dtype\":\"float64\",\"shape\":[75]}}},\"id\":\"ef90f029-ac87-4cce-a6b7-a503291aa0e7\",\"type\":\"ColumnDataSource\"},{\"attributes\":{\"children\":[{\"id\":\"ee38f646-ea91-492b-910d-78382080ada6\",\"type\":\"Row\"}]},\"id\":\"288e5ab3-0c39-44de-b6e5-cdb21245d3b4\",\"type\":\"Column\"},{\"attributes\":{\"source\":{\"id\":\"9e084395-c985-48dc-b158-2c3c4c50e9cd\",\"type\":\"ColumnDataSource\"}},\"id\":\"31b79bbd-3c24-4e69-a810-ee2ddf6d8c06\",\"type\":\"CDSView\"},{\"attributes\":{\"line_alpha\":0.6,\"line_color\":\"#984ea3\",\"line_width\":3,\"x\":{\"field\":\"x\"},\"y\":{\"field\":\"y\"}},\"id\":\"7e8a85e4-f4bd-484f-9366-fbe624f8719e\",\"type\":\"Line\"},{\"attributes\":{\"line_alpha\":0.1,\"line_color\":\"#1f77b4\",\"line_width\":3,\"x\":{\"field\":\"x\"},\"y\":{\"field\":\"y\"}},\"id\":\"ba860f54-13f2-41b7-a460-de9e88b99bfe\",\"type\":\"Line\"},{\"attributes\":{\"source\":{\"id\":\"529cc16b-5c46-4066-ac5b-97a90958a12f\",\"type\":\"ColumnDataSource\"}},\"id\":\"3e819fb2-1a80-461e-99cd-50ae7aebfd4d\",\"type\":\"CDSView\"},{\"attributes\":{\"items\":[{\"id\":\"c5f7ffe8-4c3f-4f4d-b03f-8b023c882efa\",\"type\":\"LegendItem\"},{\"id\":\"f08d3f02-9fcb-4a6f-888c-782ca29c9358\",\"type\":\"LegendItem\"},{\"id\":\"e935ad63-03ed-454f-8412-325df1b1de79\",\"type\":\"LegendItem\"}],\"label_text_font_size\":{\"value\":\"8pt\"},\"location\":[10,-30],\"plot\":{\"id\":\"b54f83f2-75b6-439d-9f55-bf51e51b1463\",\"subtype\":\"Figure\",\"type\":\"Plot\"}},\"id\":\"6494a7af-6f50-4b94-9e66-9bf16a59c09d\",\"type\":\"Legend\"},{\"attributes\":{\"children\":[{\"id\":\"61e59e25-f4dd-46a8-9595-a1eec0eeec83\",\"type\":\"ToolbarBox\"},{\"id\":\"288e5ab3-0c39-44de-b6e5-cdb21245d3b4\",\"type\":\"Column\"}]},\"id\":\"ebd4b242-a737-4d0c-a796-bd9a079562ee\",\"type\":\"Column\"},{\"attributes\":{\"line_alpha\":0.6,\"line_color\":\"#e41a1c\",\"line_dash\":[6],\"line_width\":5,\"x\":{\"field\":\"x\"},\"y\":{\"field\":\"y\"}},\"id\":\"467d74a6-73f6-45fb-b096-c7a3553e559e\",\"type\":\"Line\"},{\"attributes\":{\"label\":{\"value\":\"CLIRAD `coolr_bands`\"},\"renderers\":[{\"id\":\"0386b9e7-ccac-4595-81ae-a9034337d758\",\"type\":\"GlyphRenderer\"}]},\"id\":\"c5f7ffe8-4c3f-4f4d-b03f-8b023c882efa\",\"type\":\"LegendItem\"},{\"attributes\":{\"children\":[{\"id\":\"d861e21f-8e4d-463a-b6ce-75d75fa4b351\",\"subtype\":\"Figure\",\"type\":\"Plot\"},{\"id\":\"b54f83f2-75b6-439d-9f55-bf51e51b1463\",\"subtype\":\"Figure\",\"type\":\"Plot\"}]},\"id\":\"ee38f646-ea91-492b-910d-78382080ada6\",\"type\":\"Row\"},{\"attributes\":{},\"id\":\"92d8a0d1-de3a-46fe-afac-6c18c013b06a\",\"type\":\"ResetTool\"},{\"attributes\":{\"bottom_units\":\"screen\",\"fill_alpha\":{\"value\":0.5},\"fill_color\":{\"value\":\"lightgrey\"},\"left_units\":\"screen\",\"level\":\"overlay\",\"line_alpha\":{\"value\":1.0},\"line_color\":{\"value\":\"black\"},\"line_dash\":[4,4],\"line_width\":{\"value\":2},\"plot\":null,\"render_mode\":\"css\",\"right_units\":\"screen\",\"top_units\":\"screen\"},\"id\":\"f1fa37c1-a911-4474-a469-a8d958e44241\",\"type\":\"BoxAnnotation\"},{\"attributes\":{\"line_alpha\":0.1,\"line_color\":\"#1f77b4\",\"line_dash\":[6],\"line_width\":5,\"x\":{\"field\":\"x\"},\"y\":{\"field\":\"y\"}},\"id\":\"143fb5c0-f0c2-45f6-a63b-43a47d1f5aca\",\"type\":\"Line\"},{\"attributes\":{\"callback\":null,\"end\":0.01,\"start\":1020},\"id\":\"f1812f7b-6f41-41b2-b95a-7d6f4cc45f6f\",\"type\":\"Range1d\"},{\"attributes\":{\"toolbar\":{\"id\":\"0ae7a3b5-e096-46d3-80c6-8b82c2e41327\",\"type\":\"ProxyToolbar\"},\"toolbar_location\":\"above\"},\"id\":\"61e59e25-f4dd-46a8-9595-a1eec0eeec83\",\"type\":\"ToolbarBox\"},{\"attributes\":{},\"id\":\"e60dbe25-04e1-445b-8815-4b586bdde1d8\",\"type\":\"SaveTool\"},{\"attributes\":{\"callback\":null,\"column_names\":[\"x\",\"y\"],\"data\":{\"x\":{\"__ndarray__\":\"AAAAAAAAAAAAAAAAAAAAAAAAAAAAAAAAAAAAAAAAAAAAAAAAAAAAAAAAAAAAAAAAcpjgeiolaD8AAAAAAAAAACPgSAsUi1i/AAAAAAAAAAAAAAAAAAAAABmuVeAKyUG/AAAAAAAAAABG15vCBhRCv2VKhR/+VEO/10Pj4EWsVL+ibYCAx3lNv1lE7OD2V1C/Bfd2gphNR79OLQR9jn08v8Pc3sEGckM/gGmC/R+0Yj/zCs4cLgt0P9vftaFk5nk/rSDrQM29dT8fwAVFKoZnP5MWM8MWNja/UeHtIR8Ebb+JBUMAJYN5v68bvp4ShIG/p6zelegihb+e11mmv5SGv/W6V0NoWIa/5+h3tWpEhb9mDPjf/wyCvyfnAl74Fnm/q8ZvIqOQb7+vzs8a5Zxlvwn0mx8Fo2C/8JrDNX/TWb+R5JpDkEpTv/P3af64YE6/u7huof03Sb+1aACfpI1Evw0c2R9k9UC/842KYAaGPb+RZqhhKsM5vw4TZfufQTa/FdfFAx1OM79DIntekdcwv7AKO9gg5Cy/80o21tCsKL+zJ151BsUkv17SOsokOCG/Z67MpPOfHL+J304eufEWv/kYuOHWyxG/F7C3gxYvCr9TiGMhiMYAvwbGlqdagvC+5cfsveq4lj41wkZnXYLwPj0go317iP4+xc4Mo+64Bj/2SZJgiY4NPwDRph5bGxI/sWgP4TQJFT9FXiUhZAIYPzfl46P+iRo/XiNZv6y2HD/gq3mqScEePxTJ+okyPiA/GeH7BWkhIT84TOzY1sshPyVSwN2lkiI/\",\"dtype\":\"float64\",\"shape\":[75]},\"y\":{\"__ndarray__\":\"S/O/Q+51ND/430zAtpRIP2vylNV0PVE/QxsjCssuWD/TR4Z78fVgP+inNsRxymc/OuuBfZWvcD/u3TFA02d3P2d3VoBnaoA/CD5h5MAGhz/1pA8HUCaQP+zrCsc9p5Y/Fb7LAKjGnz/nJ9c/SEmmPwBD+fzcQq8/FOZwv9nstT8Er5Y7M8G+P0c+r3jqkcU/yK72qKZBzj+tM989FzjVPxbgmr8yxN0/cOm5AXbg5D+5ctXAf0jtP5kqGJXUifQ/DsrqDELP/D8MCAhBojQEQDItVnmnVwxAiFXNvdHgE0BSSZ2AJuIbQAMJih9jjiNA5q4l5INuK0CPVN/5RT0zQHzxRXu8/DpAOZ7PgHrtQkAg8wGBzoxKQBSTN8DMeFJA2NmQf2ZqWEAAAAAAAFxeQEQX1LfMJmJAmpmZmZkfZUBmZmZmZhhoQLzoK0gzEWtAAAAAAAAKbkCiC+pbZoFwQAhyUMLM/XFA+I2vPTN6c0AQ5KCEmfZ0QAAAAAAAc3ZA8Btfe2bvd0AIclDCzGt5QPeNrz0z6HpAEOSghJlkfEAAAAAAAOF9QKML6ltmXX9ABTkoYeZsgED7xteeGSuBQAhyUMJM6YFAAAAAAICngkD4ja89s2WDQAU5KGHmI4RA+8bXnhnihEAIclDCTKCFQAAAAACAXoZA+I2vPbMch0AFOShh5tqHQPvG154ZmYhACHJQwkxXiUAAAAAAgBWKQPeNrz2z04pABTkoYeaRi0D7xteeGVCMQAlyUMJMDo1AAAAAAIDMjUD3ja89s4qOQGZmZmbmSI9A\",\"dtype\":\"float64\",\"shape\":[75]}}},\"id\":\"0d24bee0-628c-4725-a8e5-49bc81490aec\",\"type\":\"ColumnDataSource\"},{\"attributes\":{\"label\":{\"value\":\"WGT igg=10 wgt_flux=2\"},\"renderers\":[{\"id\":\"bb566b91-2159-4208-b631-a0d47c5db316\",\"type\":\"GlyphRenderer\"},{\"id\":\"08052f4c-b3db-461d-92ce-3396711423cf\",\"type\":\"GlyphRenderer\"}]},\"id\":\"e935ad63-03ed-454f-8412-325df1b1de79\",\"type\":\"LegendItem\"},{\"attributes\":{\"line_color\":\"#4daf4a\",\"line_width\":1.5,\"x\":{\"field\":\"x\"},\"y\":{\"field\":\"y\"}},\"id\":\"48f353bb-94a0-466f-99f8-49de458d7870\",\"type\":\"Line\"},{\"attributes\":{\"callback\":null,\"column_names\":[\"x\",\"y\"],\"data\":{\"x\":{\"__ndarray__\":\"7oQ2TVcwKL95TD+W8Bsrv6jEJBhSdTC/vaCYVCVeM78gx9uzu0Y2v0wq0PUjMDm/yIMqZW0XPL8zCDDj4/4+v0TZVdps8kC/hNy1qIZkQr9av8c9f9ZDv5bO159wR0W/7e0E6Di4Rr8MKCL3riZIv6YM4shtIEq/rFRNHBYKT7+em9nzjzdSv2JmA63WtVK/2djMv/aaTr8iBuhuIyc1v0gwcQhByE4/WSjD9EDZaT8j/6fjDvp5P/xSwkl1w4A/AEaF/JYMfD8eQXyGFhhtP8AKcIV4JDy/YHicXDoear9NVyxrYQR5vybmQ2KZZYG/YHRGbIbthL8QP9WAw6CGv6blsqZEqYa/DGPbMxKohb+RX13uRsSCvzBUaNOQ0Hq/pnToQ+BIcb9pX1wZGw1ovwrjbxbSuWK/PGBYm8fZXL+4BNnYU+tVv0t6E1XzcFG/gr2wuJ3jTL+YYIeN+KRHv9dy2McqqUO/iDYQB3D6QL/wUUsv7rA9vy57Gg+YpDm/9oCjopE3Nr/iTWAHZV4zv1yFs1aWtjC/fmKytYGHLL9QfCDF/wAov+Dwuc+TGSS/UX9UcS2lIL9iXdPuGtMav1x3uso45RS/PeT63m8ZEL/4JC0fdOcDv8Q5ezQSy/O+HKIbY2Bbp77aYIzevHTxPu2jHXbvYgE/FBectB2xCT/+htE6w8sQP8Y+UCmBehQ/MHFrJqcAGD91PFMbAVobPyZ5Yg8vTh4/v5zSDw1rID/WF2/HNIYhP1bZyHX7iiI/AfvoI1d/Iz94277TCWMkP5IMKaE4OiU/\",\"dtype\":\"float64\",\"shape\":[75]},\"y\":{\"__ndarray__\":\"GhExyth1ND/Sv8nbtpRIP2vylNV0PVE/aTum7souWD/At0SJ8fVgPw3Iuahxymc/MSNhhJWvcD/bTfBN02d3P2zb5nxnaoA/CD5h5MAGhz8NmeH1TyaQP+zrCsc9p5Y/LbKd76fGnz/bLW5ISEmmPww9YvTcQq8/JV2OstnstT8Er5Y7M8G+P0c+r3jqkcU/5h99k6ZBzj88bCIzFzjVP4enV8oyxN0//yH99nXg5D8qOpLLf0jtP5kqGJXUifQ/c9cS8kHP/D+/DpwzojQEQIEmwoanVwxA4lgXt9HgE0BSSZ2AJuIbQAMJih9jjiNA5q4l5INuK0AwTKYKRj0zQNv5fmq8/DpAaCJseHrtQkB/+zpwzoxKQM3MzMzMeFJAZmZmZmZqWEAAAAAAAFxeQM3MzMzMJmJAmpmZmZkfZUBmZmZmZhhoQDMzMzMzEWtAAAAAAAAKbkBmZmZmZoFwQM3MzMzM/XFAMzMzMzN6c0CamZmZmfZ0QAAAAAAAc3ZAZmZmZmbvd0DNzMzMzGt5QDMzMzMz6HpAmpmZmZlkfEAAAAAAAOF9QGZmZmZmXX9AZmZmZuZsgECamZmZGSuBQM3MzMxM6YFAAAAAAICngkAzMzMzs2WDQGZmZmbmI4RAmpmZmRnihEDNzMzMTKCFQAAAAACAXoZAMzMzM7Mch0BmZmZm5tqHQJqZmZkZmYhAzczMzExXiUAAAAAAgBWKQDMzMzOz04pAZmZmZuaRi0CamZmZGVCMQM3MzMxMDo1AAAAAAIDMjUAzMzMzs4qOQGZmZmbmSI9A\",\"dtype\":\"float64\",\"shape\":[75]}}},\"id\":\"5cbaa9c2-7575-4937-a584-1431d84b3a0c\",\"type\":\"ColumnDataSource\"},{\"attributes\":{},\"id\":\"1b706e00-ff04-4bcf-9066-98e6b7e11886\",\"type\":\"BasicTickFormatter\"},{\"attributes\":{\"source\":{\"id\":\"ef90f029-ac87-4cce-a6b7-a503291aa0e7\",\"type\":\"ColumnDataSource\"}},\"id\":\"0a6fc5ed-c124-481d-a5a6-8e15e41aa4a2\",\"type\":\"CDSView\"},{\"attributes\":{\"line_alpha\":0.1,\"line_color\":\"#1f77b4\",\"line_dash\":[6],\"line_width\":5,\"x\":{\"field\":\"x\"},\"y\":{\"field\":\"y\"}},\"id\":\"fec018c0-5829-41a8-a488-e162a17c1eac\",\"type\":\"Line\"},{\"attributes\":{},\"id\":\"5dbef6a3-fe32-479e-b3fa-9d308dd77b95\",\"type\":\"LinearScale\"},{\"attributes\":{\"callback\":null,\"column_names\":[\"x\",\"y\"],\"data\":{\"x\":{\"__ndarray__\":\"AAAAAAAAAAAAAAAAAAAAAAAAAAAAAAAAAAAAAAAAAAAAAAAAAAAAAAAAAAAAAAAAcpjgeiolaD8AAAAAAAAAACPgSAsUi1i/AAAAAAAAAAAAAAAAAAAAABmuVeAKyUG/AAAAAAAAAABG15vCBhRCv2VKhR/+VEO/10Pj4EWsVL+ibYCAx3lNv1lE7OD2V1C/Bfd2gphNR79OLQR9jn08v8Pc3sEGckM/gGmC/R+0Yj/zCs4cLgt0P9vftaFk5nk/rSDrQM29dT8fwAVFKoZnP5MWM8MWNja/UeHtIR8Ebb+JBUMAJYN5v68bvp4ShIG/p6zelegihb+e11mmv5SGv/W6V0NoWIa/5+h3tWpEhb9mDPjf/wyCvyfnAl74Fnm/q8ZvIqOQb7+vzs8a5Zxlvwn0mx8Fo2C/8JrDNX/TWb+R5JpDkEpTv/P3af64YE6/u7huof03Sb+1aACfpI1Evw0c2R9k9UC/842KYAaGPb+RZqhhKsM5vw4TZfufQTa/FdfFAx1OM79DIntekdcwv7AKO9gg5Cy/80o21tCsKL+zJ151BsUkv17SOsokOCG/Z67MpPOfHL+J304eufEWv/kYuOHWyxG/F7C3gxYvCr9TiGMhiMYAvwbGlqdagvC+5cfsveq4lj41wkZnXYLwPj0go317iP4+xc4Mo+64Bj/2SZJgiY4NPwDRph5bGxI/sWgP4TQJFT9FXiUhZAIYPzfl46P+iRo/XiNZv6y2HD/gq3mqScEePxTJ+okyPiA/GeH7BWkhIT84TOzY1sshPyVSwN2lkiI/\",\"dtype\":\"float64\",\"shape\":[75]},\"y\":{\"__ndarray__\":\"S/O/Q+51ND/430zAtpRIP2vylNV0PVE/QxsjCssuWD/TR4Z78fVgP+inNsRxymc/OuuBfZWvcD/u3TFA02d3P2d3VoBnaoA/CD5h5MAGhz/1pA8HUCaQP+zrCsc9p5Y/Fb7LAKjGnz/nJ9c/SEmmPwBD+fzcQq8/FOZwv9nstT8Er5Y7M8G+P0c+r3jqkcU/yK72qKZBzj+tM989FzjVPxbgmr8yxN0/cOm5AXbg5D+5ctXAf0jtP5kqGJXUifQ/DsrqDELP/D8MCAhBojQEQDItVnmnVwxAiFXNvdHgE0BSSZ2AJuIbQAMJih9jjiNA5q4l5INuK0CPVN/5RT0zQHzxRXu8/DpAOZ7PgHrtQkAg8wGBzoxKQBSTN8DMeFJA2NmQf2ZqWEAAAAAAAFxeQEQX1LfMJmJAmpmZmZkfZUBmZmZmZhhoQLzoK0gzEWtAAAAAAAAKbkCiC+pbZoFwQAhyUMLM/XFA+I2vPTN6c0AQ5KCEmfZ0QAAAAAAAc3ZA8Btfe2bvd0AIclDCzGt5QPeNrz0z6HpAEOSghJlkfEAAAAAAAOF9QKML6ltmXX9ABTkoYeZsgED7xteeGSuBQAhyUMJM6YFAAAAAAICngkD4ja89s2WDQAU5KGHmI4RA+8bXnhnihEAIclDCTKCFQAAAAACAXoZA+I2vPbMch0AFOShh5tqHQPvG154ZmYhACHJQwkxXiUAAAAAAgBWKQPeNrz2z04pABTkoYeaRi0D7xteeGVCMQAlyUMJMDo1AAAAAAIDMjUD3ja89s4qOQGZmZmbmSI9A\",\"dtype\":\"float64\",\"shape\":[75]}}},\"id\":\"66ff572b-b1a6-41aa-8315-61268a837d7c\",\"type\":\"ColumnDataSource\"},{\"attributes\":{\"callback\":null,\"column_names\":[\"x\",\"y\"],\"data\":{\"x\":{\"__ndarray__\":\"k87hGFxWKL+b2+ZU4UMrv/nI7v68ijC/yaXKCVpzM783OH/Uu1o2vzY7bIjMQTm/+ITTH+3BPL+GLI33Ugk/vxC9w9Fl9EC/JSYAoZhiQr/SiemBb+5DvxVHiIJZO0W/u9/vFu2sRr8Q5XyKCxtIv5c3StyC70m/ghIxR9uDTr+otiGsqZhRv928R65BdVG/U+oqA1EkSr8D2nbeOWwbv+HPeVhr0lQ/YzE3xcYobj+vMZf0set8P6U/BCiQkYI/pcPDcy8igD8VBTGBuHp0P9jTUcBEZFI/dPxZbfN/Zb9vQlUY2PR2v7esMHHzY4C/Pf0osmv+g7+KYx3Bn3eFv6stIZFJVYW/DibNOHB7hL9u4Y/XCcyBv5j4B/gTqHm/lC82nqC1cL/gT1hcf3Znv/XkaoBjamK/hXi1dyUEXb8F2TkkcepVvwqy4Qk2V1G/kq+NLTPuTL954BetY6xHv5gzZwGOnEO/dopAG3gYQb/mqZvJ0vE9v3MlSo1J5jm/35eKoUd3Nr9th5pRW5gzv70aWeoO6TC/ouve78PQLL9wMqSGODQov0TKNtpKNiS/Zd2ZaEi0IL8H/hA12NQav5F7ureSxBS/vpDkucspDr+pT+FHTk0Dvyyi5Y2WBfK+tAk0LB1quT6Zfv5iu1n0Ph0MisNqIgM/cD8RVXa6Cz/kBNobQfYRP7hUNwrdzhU/y1H7pFZ8GT+Msb5W1PccP6nTZRXRAyA/ZwakLV9TIT+NN/jGbXgiP+T3HrF4hyM/OleKoA6EJD9MaF6Lp3AlPwfPH5z2TiY/\",\"dtype\":\"float64\",\"shape\":[75]},\"y\":{\"__ndarray__\":\"GhExyth1ND/Sv8nbtpRIP2vylNV0PVE/aTum7souWD/At0SJ8fVgPw3Iuahxymc/MSNhhJWvcD/bTfBN02d3P2zb5nxnaoA/CD5h5MAGhz8NmeH1TyaQP+zrCsc9p5Y/LbKd76fGnz/bLW5ISEmmPww9YvTcQq8/JV2OstnstT8Er5Y7M8G+P0c+r3jqkcU/5h99k6ZBzj88bCIzFzjVP4enV8oyxN0//yH99nXg5D8qOpLLf0jtP5kqGJXUifQ/c9cS8kHP/D+/DpwzojQEQIEmwoanVwxA4lgXt9HgE0BSSZ2AJuIbQAMJih9jjiNA5q4l5INuK0AwTKYKRj0zQNv5fmq8/DpAaCJseHrtQkB/+zpwzoxKQM3MzMzMeFJAZmZmZmZqWEAAAAAAAFxeQM3MzMzMJmJAmpmZmZkfZUBmZmZmZhhoQDMzMzMzEWtAAAAAAAAKbkBmZmZmZoFwQM3MzMzM/XFAMzMzMzN6c0CamZmZmfZ0QAAAAAAAc3ZAZmZmZmbvd0DNzMzMzGt5QDMzMzMz6HpAmpmZmZlkfEAAAAAAAOF9QGZmZmZmXX9AZmZmZuZsgECamZmZGSuBQM3MzMxM6YFAAAAAAICngkAzMzMzs2WDQGZmZmbmI4RAmpmZmRnihEDNzMzMTKCFQAAAAACAXoZAMzMzM7Mch0BmZmZm5tqHQJqZmZkZmYhAzczMzExXiUAAAAAAgBWKQDMzMzOz04pAZmZmZuaRi0CamZmZGVCMQM3MzMxMDo1AAAAAAIDMjUAzMzMzs4qOQGZmZmbmSI9A\",\"dtype\":\"float64\",\"shape\":[75]}}},\"id\":\"18e3a833-ba73-4909-9df4-22593de622eb\",\"type\":\"ColumnDataSource\"},{\"attributes\":{},\"id\":\"4cef6be4-9f8a-4235-af53-6089414435f7\",\"type\":\"BasicTicker\"},{\"attributes\":{\"below\":[{\"id\":\"146cd5de-f947-44c7-a90e-c3fb329a5fd5\",\"type\":\"LinearAxis\"}],\"left\":[{\"id\":\"33b560a1-9428-4387-9e24-46b2f7d9fa05\",\"type\":\"LogAxis\"}],\"plot_height\":500,\"plot_width\":560,\"renderers\":[{\"id\":\"146cd5de-f947-44c7-a90e-c3fb329a5fd5\",\"type\":\"LinearAxis\"},{\"id\":\"d978233c-dfc4-418d-babd-dec4ff92211c\",\"type\":\"Grid\"},{\"id\":\"33b560a1-9428-4387-9e24-46b2f7d9fa05\",\"type\":\"LogAxis\"},{\"id\":\"26e2877f-4aa6-4ca9-a3b0-fde23fdb26ed\",\"type\":\"Grid\"},{\"id\":\"f1fa37c1-a911-4474-a469-a8d958e44241\",\"type\":\"BoxAnnotation\"},{\"id\":\"0386b9e7-ccac-4595-81ae-a9034337d758\",\"type\":\"GlyphRenderer\"},{\"id\":\"0ab4aee4-7ff6-4588-b1dd-2ccf36779438\",\"type\":\"GlyphRenderer\"},{\"id\":\"b149d364-85b9-4f9f-8a7c-3b5a1700d290\",\"type\":\"GlyphRenderer\"},{\"id\":\"bb566b91-2159-4208-b631-a0d47c5db316\",\"type\":\"GlyphRenderer\"},{\"id\":\"08052f4c-b3db-461d-92ce-3396711423cf\",\"type\":\"GlyphRenderer\"},{\"id\":\"6494a7af-6f50-4b94-9e66-9bf16a59c09d\",\"type\":\"Legend\"}],\"right\":[{\"id\":\"6494a7af-6f50-4b94-9e66-9bf16a59c09d\",\"type\":\"Legend\"}],\"title\":{\"id\":\"4447233a-fc87-4464-921f-e99d227c91ac\",\"type\":\"Title\"},\"toolbar\":{\"id\":\"083e3d1f-d7d8-4b07-8e0c-96deac4d8b6a\",\"type\":\"Toolbar\"},\"toolbar_location\":null,\"x_range\":{\"id\":\"ecabbf92-dad9-4b12-8300-db32a941633f\",\"type\":\"Range1d\"},\"x_scale\":{\"id\":\"5dbef6a3-fe32-479e-b3fa-9d308dd77b95\",\"type\":\"LinearScale\"},\"y_range\":{\"id\":\"f1812f7b-6f41-41b2-b95a-7d6f4cc45f6f\",\"type\":\"Range1d\"},\"y_scale\":{\"id\":\"4aaa0afe-3aaf-4029-9f6c-3862bc9ea3bf\",\"type\":\"LogScale\"}},\"id\":\"b54f83f2-75b6-439d-9f55-bf51e51b1463\",\"subtype\":\"Figure\",\"type\":\"Plot\"},{\"attributes\":{\"source\":{\"id\":\"5cbaa9c2-7575-4937-a584-1431d84b3a0c\",\"type\":\"ColumnDataSource\"}},\"id\":\"ac009196-7718-45be-ad1f-2df6bc6faf3f\",\"type\":\"CDSView\"},{\"attributes\":{\"data_source\":{\"id\":\"5cbaa9c2-7575-4937-a584-1431d84b3a0c\",\"type\":\"ColumnDataSource\"},\"glyph\":{\"id\":\"a4ca6476-f2cc-4681-8cd7-d85449376826\",\"type\":\"Line\"},\"hover_glyph\":null,\"muted_glyph\":null,\"nonselection_glyph\":{\"id\":\"eb3a967a-98d5-4538-aa05-9bb9082bdbcd\",\"type\":\"Line\"},\"selection_glyph\":null,\"view\":{\"id\":\"ac009196-7718-45be-ad1f-2df6bc6faf3f\",\"type\":\"CDSView\"}},\"id\":\"ccb756e4-bb1b-4f66-a47c-971f9beccd11\",\"type\":\"GlyphRenderer\"},{\"attributes\":{},\"id\":\"1f66a568-947c-416e-94c4-fbb1384713c4\",\"type\":\"PanTool\"},{\"attributes\":{\"plot\":null,\"text\":\"Log pressure scale\"},\"id\":\"4447233a-fc87-4464-921f-e99d227c91ac\",\"type\":\"Title\"},{\"attributes\":{\"line_alpha\":0.1,\"line_color\":\"#1f77b4\",\"line_width\":3,\"x\":{\"field\":\"x\"},\"y\":{\"field\":\"y\"}},\"id\":\"eb3a967a-98d5-4538-aa05-9bb9082bdbcd\",\"type\":\"Line\"},{\"attributes\":{\"callback\":null,\"end\":0.0002635362828,\"start\":-0.0092567676228},\"id\":\"b72bfcd5-08de-4b02-8c9d-dbbcee3e57a3\",\"type\":\"Range1d\"},{\"attributes\":{},\"id\":\"4aaa0afe-3aaf-4029-9f6c-3862bc9ea3bf\",\"type\":\"LogScale\"},{\"attributes\":{\"data_source\":{\"id\":\"ef90f029-ac87-4cce-a6b7-a503291aa0e7\",\"type\":\"ColumnDataSource\"},\"glyph\":{\"id\":\"17699d77-b565-42f2-a7c9-b692534c68e6\",\"type\":\"Circle\"},\"hover_glyph\":null,\"muted_glyph\":null,\"nonselection_glyph\":{\"id\":\"6fff67aa-0819-4fcf-a943-03b6a87fdc9a\",\"type\":\"Circle\"},\"selection_glyph\":null,\"view\":{\"id\":\"0a6fc5ed-c124-481d-a5a6-8e15e41aa4a2\",\"type\":\"CDSView\"}},\"id\":\"0f5cda49-d09c-460e-8ae7-11eb8750cc4a\",\"type\":\"GlyphRenderer\"},{\"attributes\":{\"active_drag\":\"auto\",\"active_inspect\":\"auto\",\"active_scroll\":\"auto\",\"active_tap\":\"auto\",\"tools\":[{\"id\":\"1f66a568-947c-416e-94c4-fbb1384713c4\",\"type\":\"PanTool\"},{\"id\":\"443a0ad8-c7c8-4c93-978a-30537e06895d\",\"type\":\"WheelZoomTool\"},{\"id\":\"81171508-2440-4c52-91cd-41b7b9566f7f\",\"type\":\"BoxZoomTool\"},{\"id\":\"e60dbe25-04e1-445b-8815-4b586bdde1d8\",\"type\":\"SaveTool\"},{\"id\":\"92d8a0d1-de3a-46fe-afac-6c18c013b06a\",\"type\":\"ResetTool\"},{\"id\":\"ac61626e-ab5e-408f-b259-4c6788904889\",\"type\":\"HelpTool\"}]},\"id\":\"083e3d1f-d7d8-4b07-8e0c-96deac4d8b6a\",\"type\":\"Toolbar\"},{\"attributes\":{\"axis_label\":\"cooling rate [K/day]\",\"formatter\":{\"id\":\"1b706e00-ff04-4bcf-9066-98e6b7e11886\",\"type\":\"BasicTickFormatter\"},\"plot\":{\"id\":\"d861e21f-8e4d-463a-b6ce-75d75fa4b351\",\"subtype\":\"Figure\",\"type\":\"Plot\"},\"ticker\":{\"id\":\"65f34be0-8e88-4d43-90a9-439d725e378d\",\"type\":\"BasicTicker\"}},\"id\":\"b1ddb3b4-cc45-45aa-818f-0535e5a9f1ec\",\"type\":\"LinearAxis\"},{\"attributes\":{\"dimension\":1,\"plot\":{\"id\":\"b54f83f2-75b6-439d-9f55-bf51e51b1463\",\"subtype\":\"Figure\",\"type\":\"Plot\"},\"ticker\":{\"id\":\"07f76bc2-9e02-4e53-9ed9-61b719d2ea82\",\"type\":\"LogTicker\"}},\"id\":\"26e2877f-4aa6-4ca9-a3b0-fde23fdb26ed\",\"type\":\"Grid\"},{\"attributes\":{\"label\":{\"value\":\"CRD\"},\"renderers\":[{\"id\":\"0ab4aee4-7ff6-4588-b1dd-2ccf36779438\",\"type\":\"GlyphRenderer\"},{\"id\":\"b149d364-85b9-4f9f-8a7c-3b5a1700d290\",\"type\":\"GlyphRenderer\"}]},\"id\":\"f08d3f02-9fcb-4a6f-888c-782ca29c9358\",\"type\":\"LegendItem\"},{\"attributes\":{},\"id\":\"2e524735-094c-4bfd-8b55-73f5d9ab0dc7\",\"type\":\"SaveTool\"},{\"attributes\":{\"axis_label\":\"pressure [mb]\",\"formatter\":{\"id\":\"8c64e8a9-f084-44e0-9a68-d946c3e7c79d\",\"type\":\"LogTickFormatter\"},\"plot\":{\"id\":\"b54f83f2-75b6-439d-9f55-bf51e51b1463\",\"subtype\":\"Figure\",\"type\":\"Plot\"},\"ticker\":{\"id\":\"07f76bc2-9e02-4e53-9ed9-61b719d2ea82\",\"type\":\"LogTicker\"}},\"id\":\"33b560a1-9428-4387-9e24-46b2f7d9fa05\",\"type\":\"LogAxis\"},{\"attributes\":{\"source\":{\"id\":\"235d3197-50bc-49b5-9467-280f9d47a6da\",\"type\":\"ColumnDataSource\"}},\"id\":\"a68d97dc-862b-44dd-903c-dc76e7eb6498\",\"type\":\"CDSView\"},{\"attributes\":{\"active_drag\":\"auto\",\"active_inspect\":\"auto\",\"active_scroll\":\"auto\",\"active_tap\":\"auto\",\"tools\":[{\"id\":\"21bd634c-2582-42a6-8cf1-5d74448b02cc\",\"type\":\"PanTool\"},{\"id\":\"35f54d0b-1048-4e86-a079-ad7b752527c5\",\"type\":\"WheelZoomTool\"},{\"id\":\"bdcc8167-2237-412b-ae5b-5332022544f6\",\"type\":\"BoxZoomTool\"},{\"id\":\"2e524735-094c-4bfd-8b55-73f5d9ab0dc7\",\"type\":\"SaveTool\"},{\"id\":\"eb7a1395-3ad8-4109-86d8-56ae837313ea\",\"type\":\"ResetTool\"},{\"id\":\"5563d35b-5385-423f-9d86-66ccf07d68fd\",\"type\":\"HelpTool\"}]},\"id\":\"9156dc0c-c743-4e6d-9413-e286ecfeb534\",\"type\":\"Toolbar\"},{\"attributes\":{},\"id\":\"65f34be0-8e88-4d43-90a9-439d725e378d\",\"type\":\"BasicTicker\"},{\"attributes\":{\"plot\":{\"id\":\"d861e21f-8e4d-463a-b6ce-75d75fa4b351\",\"subtype\":\"Figure\",\"type\":\"Plot\"},\"ticker\":{\"id\":\"65f34be0-8e88-4d43-90a9-439d725e378d\",\"type\":\"BasicTicker\"}},\"id\":\"24d99b26-cfd7-47c6-ae5d-7bc9cf80d84d\",\"type\":\"Grid\"},{\"attributes\":{\"plot\":null,\"text\":\"Linear pressure scale\"},\"id\":\"3b5b50f2-fd63-4f62-88e2-ae9691634a03\",\"type\":\"Title\"},{\"attributes\":{\"axis_label\":\"pressure [mb]\",\"formatter\":{\"id\":\"71401594-2d0c-4d2c-9226-af99a94b93c4\",\"type\":\"BasicTickFormatter\"},\"plot\":{\"id\":\"d861e21f-8e4d-463a-b6ce-75d75fa4b351\",\"subtype\":\"Figure\",\"type\":\"Plot\"},\"ticker\":{\"id\":\"b7a9a839-d5f4-481b-be4f-2ecc1e70eef5\",\"type\":\"BasicTicker\"}},\"id\":\"7d110b28-d4b4-4956-abe5-1fc19357c70d\",\"type\":\"LinearAxis\"},{\"attributes\":{\"source\":{\"id\":\"66ff572b-b1a6-41aa-8315-61268a837d7c\",\"type\":\"ColumnDataSource\"}},\"id\":\"b740246d-e65f-487e-a280-841c37db8f86\",\"type\":\"CDSView\"},{\"attributes\":{},\"id\":\"658c7466-283e-4bce-a2dd-cfefd47baaca\",\"type\":\"BasicTickFormatter\"},{\"attributes\":{},\"id\":\"b7a9a839-d5f4-481b-be4f-2ecc1e70eef5\",\"type\":\"BasicTicker\"},{\"attributes\":{\"num_minor_ticks\":10},\"id\":\"07f76bc2-9e02-4e53-9ed9-61b719d2ea82\",\"type\":\"LogTicker\"},{\"attributes\":{\"data_source\":{\"id\":\"18e3a833-ba73-4909-9df4-22593de622eb\",\"type\":\"ColumnDataSource\"},\"glyph\":{\"id\":\"48f353bb-94a0-466f-99f8-49de458d7870\",\"type\":\"Line\"},\"hover_glyph\":null,\"muted_glyph\":null,\"nonselection_glyph\":{\"id\":\"910d9a3c-3382-493a-bbed-f485f2636bee\",\"type\":\"Line\"},\"selection_glyph\":null,\"view\":{\"id\":\"b752bf19-8286-4a60-bb4b-135fd4deba6d\",\"type\":\"CDSView\"}},\"id\":\"24d7ef93-bfc5-4ac2-b569-6a14a388abf0\",\"type\":\"GlyphRenderer\"},{\"attributes\":{\"bottom_units\":\"screen\",\"fill_alpha\":{\"value\":0.5},\"fill_color\":{\"value\":\"lightgrey\"},\"left_units\":\"screen\",\"level\":\"overlay\",\"line_alpha\":{\"value\":1.0},\"line_color\":{\"value\":\"black\"},\"line_dash\":[4,4],\"line_width\":{\"value\":2},\"plot\":null,\"render_mode\":\"css\",\"right_units\":\"screen\",\"top_units\":\"screen\"},\"id\":\"def9e124-7701-4f40-9e20-1677128f0221\",\"type\":\"BoxAnnotation\"},{\"attributes\":{},\"id\":\"eb7a1395-3ad8-4109-86d8-56ae837313ea\",\"type\":\"ResetTool\"},{\"attributes\":{},\"id\":\"2a37652f-2c4c-4d36-ad1d-14838043babc\",\"type\":\"LinearScale\"},{\"attributes\":{\"callback\":null,\"end\":0.01,\"start\":1020},\"id\":\"c806be86-c45d-481d-9767-0dd9e255f065\",\"type\":\"Range1d\"},{\"attributes\":{\"data_source\":{\"id\":\"235d3197-50bc-49b5-9467-280f9d47a6da\",\"type\":\"ColumnDataSource\"},\"glyph\":{\"id\":\"f26deff2-e2d8-4b77-b00d-3019eb01d668\",\"type\":\"Square\"},\"hover_glyph\":null,\"muted_glyph\":null,\"nonselection_glyph\":{\"id\":\"20ddbb81-43ba-4a54-a316-17907136870b\",\"type\":\"Square\"},\"selection_glyph\":null,\"view\":{\"id\":\"a68d97dc-862b-44dd-903c-dc76e7eb6498\",\"type\":\"CDSView\"}},\"id\":\"466726c9-b095-4b6b-b7ef-dc218bd6a8fc\",\"type\":\"GlyphRenderer\"},{\"attributes\":{},\"id\":\"35f54d0b-1048-4e86-a079-ad7b752527c5\",\"type\":\"WheelZoomTool\"},{\"attributes\":{\"fill_alpha\":{\"value\":0.1},\"fill_color\":{\"value\":\"#1f77b4\"},\"line_alpha\":{\"value\":0.1},\"line_color\":{\"value\":\"#1f77b4\"},\"x\":{\"field\":\"x\"},\"y\":{\"field\":\"y\"}},\"id\":\"6fff67aa-0819-4fcf-a943-03b6a87fdc9a\",\"type\":\"Circle\"},{\"attributes\":{\"source\":{\"id\":\"18e3a833-ba73-4909-9df4-22593de622eb\",\"type\":\"ColumnDataSource\"}},\"id\":\"b752bf19-8286-4a60-bb4b-135fd4deba6d\",\"type\":\"CDSView\"},{\"attributes\":{\"fill_alpha\":{\"value\":0.7},\"fill_color\":{\"value\":\"#984ea3\"},\"line_alpha\":{\"value\":0.7},\"line_color\":{\"value\":\"#984ea3\"},\"x\":{\"field\":\"x\"},\"y\":{\"field\":\"y\"}},\"id\":\"f26deff2-e2d8-4b77-b00d-3019eb01d668\",\"type\":\"Square\"},{\"attributes\":{},\"id\":\"71401594-2d0c-4d2c-9226-af99a94b93c4\",\"type\":\"BasicTickFormatter\"},{\"attributes\":{\"source\":{\"id\":\"0d24bee0-628c-4725-a8e5-49bc81490aec\",\"type\":\"ColumnDataSource\"}},\"id\":\"c83fe069-8fd1-46b5-a81b-ecfbfdfe85b7\",\"type\":\"CDSView\"},{\"attributes\":{\"line_alpha\":0.1,\"line_color\":\"#1f77b4\",\"line_width\":1.5,\"x\":{\"field\":\"x\"},\"y\":{\"field\":\"y\"}},\"id\":\"910d9a3c-3382-493a-bbed-f485f2636bee\",\"type\":\"Line\"},{\"attributes\":{\"fill_alpha\":{\"value\":0.1},\"fill_color\":{\"value\":\"#1f77b4\"},\"line_alpha\":{\"value\":0.1},\"line_color\":{\"value\":\"#1f77b4\"},\"x\":{\"field\":\"x\"},\"y\":{\"field\":\"y\"}},\"id\":\"20ddbb81-43ba-4a54-a316-17907136870b\",\"type\":\"Square\"},{\"attributes\":{\"dimension\":1,\"plot\":{\"id\":\"d861e21f-8e4d-463a-b6ce-75d75fa4b351\",\"subtype\":\"Figure\",\"type\":\"Plot\"},\"ticker\":{\"id\":\"b7a9a839-d5f4-481b-be4f-2ecc1e70eef5\",\"type\":\"BasicTicker\"}},\"id\":\"b1c82b46-7b1b-4a87-af5f-9a50759f5d88\",\"type\":\"Grid\"},{\"attributes\":{\"callback\":null,\"column_names\":[\"x\",\"y\"],\"data\":{\"x\":{\"__ndarray__\":\"7oQ2TVcwKL95TD+W8Bsrv6jEJBhSdTC/vaCYVCVeM78gx9uzu0Y2v0wq0PUjMDm/yIMqZW0XPL8zCDDj4/4+v0TZVdps8kC/hNy1qIZkQr9av8c9f9ZDv5bO159wR0W/7e0E6Di4Rr8MKCL3riZIv6YM4shtIEq/rFRNHBYKT7+em9nzjzdSv2JmA63WtVK/2djMv/aaTr8iBuhuIyc1v0gwcQhByE4/WSjD9EDZaT8j/6fjDvp5P/xSwkl1w4A/AEaF/JYMfD8eQXyGFhhtP8AKcIV4JDy/YHicXDoear9NVyxrYQR5vybmQ2KZZYG/YHRGbIbthL8QP9WAw6CGv6blsqZEqYa/DGPbMxKohb+RX13uRsSCvzBUaNOQ0Hq/pnToQ+BIcb9pX1wZGw1ovwrjbxbSuWK/PGBYm8fZXL+4BNnYU+tVv0t6E1XzcFG/gr2wuJ3jTL+YYIeN+KRHv9dy2McqqUO/iDYQB3D6QL/wUUsv7rA9vy57Gg+YpDm/9oCjopE3Nr/iTWAHZV4zv1yFs1aWtjC/fmKytYGHLL9QfCDF/wAov+Dwuc+TGSS/UX9UcS2lIL9iXdPuGtMav1x3uso45RS/PeT63m8ZEL/4JC0fdOcDv8Q5ezQSy/O+HKIbY2Bbp77aYIzevHTxPu2jHXbvYgE/FBectB2xCT/+htE6w8sQP8Y+UCmBehQ/MHFrJqcAGD91PFMbAVobPyZ5Yg8vTh4/v5zSDw1rID/WF2/HNIYhP1bZyHX7iiI/AfvoI1d/Iz94277TCWMkP5IMKaE4OiU/\",\"dtype\":\"float64\",\"shape\":[75]},\"y\":{\"__ndarray__\":\"GhExyth1ND/Sv8nbtpRIP2vylNV0PVE/aTum7souWD/At0SJ8fVgPw3Iuahxymc/MSNhhJWvcD/bTfBN02d3P2zb5nxnaoA/CD5h5MAGhz8NmeH1TyaQP+zrCsc9p5Y/LbKd76fGnz/bLW5ISEmmPww9YvTcQq8/JV2OstnstT8Er5Y7M8G+P0c+r3jqkcU/5h99k6ZBzj88bCIzFzjVP4enV8oyxN0//yH99nXg5D8qOpLLf0jtP5kqGJXUifQ/c9cS8kHP/D+/DpwzojQEQIEmwoanVwxA4lgXt9HgE0BSSZ2AJuIbQAMJih9jjiNA5q4l5INuK0AwTKYKRj0zQNv5fmq8/DpAaCJseHrtQkB/+zpwzoxKQM3MzMzMeFJAZmZmZmZqWEAAAAAAAFxeQM3MzMzMJmJAmpmZmZkfZUBmZmZmZhhoQDMzMzMzEWtAAAAAAAAKbkBmZmZmZoFwQM3MzMzM/XFAMzMzMzN6c0CamZmZmfZ0QAAAAAAAc3ZAZmZmZmbvd0DNzMzMzGt5QDMzMzMz6HpAmpmZmZlkfEAAAAAAAOF9QGZmZmZmXX9AZmZmZuZsgECamZmZGSuBQM3MzMxM6YFAAAAAAICngkAzMzMzs2WDQGZmZmbmI4RAmpmZmRnihEDNzMzMTKCFQAAAAACAXoZAMzMzM7Mch0BmZmZm5tqHQJqZmZkZmYhAzczMzExXiUAAAAAAgBWKQDMzMzOz04pAZmZmZuaRi0CamZmZGVCMQM3MzMxMDo1AAAAAAIDMjUAzMzMzs4qOQGZmZmbmSI9A\",\"dtype\":\"float64\",\"shape\":[75]}}},\"id\":\"235d3197-50bc-49b5-9467-280f9d47a6da\",\"type\":\"ColumnDataSource\"},{\"attributes\":{},\"id\":\"5563d35b-5385-423f-9d86-66ccf07d68fd\",\"type\":\"HelpTool\"},{\"attributes\":{\"line_alpha\":0.6,\"line_color\":\"#e41a1c\",\"line_dash\":[6],\"line_width\":5,\"x\":{\"field\":\"x\"},\"y\":{\"field\":\"y\"}},\"id\":\"bd9c60ef-a2b3-4694-b1ac-49513b47a252\",\"type\":\"Line\"},{\"attributes\":{},\"id\":\"21bd634c-2582-42a6-8cf1-5d74448b02cc\",\"type\":\"PanTool\"},{\"attributes\":{\"below\":[{\"id\":\"b1ddb3b4-cc45-45aa-818f-0535e5a9f1ec\",\"type\":\"LinearAxis\"}],\"left\":[{\"id\":\"7d110b28-d4b4-4956-abe5-1fc19357c70d\",\"type\":\"LinearAxis\"}],\"plot_height\":500,\"plot_width\":400,\"renderers\":[{\"id\":\"b1ddb3b4-cc45-45aa-818f-0535e5a9f1ec\",\"type\":\"LinearAxis\"},{\"id\":\"24d99b26-cfd7-47c6-ae5d-7bc9cf80d84d\",\"type\":\"Grid\"},{\"id\":\"7d110b28-d4b4-4956-abe5-1fc19357c70d\",\"type\":\"LinearAxis\"},{\"id\":\"b1c82b46-7b1b-4a87-af5f-9a50759f5d88\",\"type\":\"Grid\"},{\"id\":\"def9e124-7701-4f40-9e20-1677128f0221\",\"type\":\"BoxAnnotation\"},{\"id\":\"61985586-3d03-4862-9909-b9ef2ea4ca01\",\"type\":\"GlyphRenderer\"},{\"id\":\"0f5cda49-d09c-460e-8ae7-11eb8750cc4a\",\"type\":\"GlyphRenderer\"},{\"id\":\"24d7ef93-bfc5-4ac2-b569-6a14a388abf0\",\"type\":\"GlyphRenderer\"},{\"id\":\"466726c9-b095-4b6b-b7ef-dc218bd6a8fc\",\"type\":\"GlyphRenderer\"},{\"id\":\"ccb756e4-bb1b-4f66-a47c-971f9beccd11\",\"type\":\"GlyphRenderer\"}],\"title\":{\"id\":\"3b5b50f2-fd63-4f62-88e2-ae9691634a03\",\"type\":\"Title\"},\"toolbar\":{\"id\":\"9156dc0c-c743-4e6d-9413-e286ecfeb534\",\"type\":\"Toolbar\"},\"toolbar_location\":null,\"x_range\":{\"id\":\"b72bfcd5-08de-4b02-8c9d-dbbcee3e57a3\",\"type\":\"Range1d\"},\"x_scale\":{\"id\":\"22cdb63e-3b59-4d16-8b1c-f8d9b60f8e12\",\"type\":\"LinearScale\"},\"y_range\":{\"id\":\"c806be86-c45d-481d-9767-0dd9e255f065\",\"type\":\"Range1d\"},\"y_scale\":{\"id\":\"2a37652f-2c4c-4d36-ad1d-14838043babc\",\"type\":\"LinearScale\"}},\"id\":\"d861e21f-8e4d-463a-b6ce-75d75fa4b351\",\"subtype\":\"Figure\",\"type\":\"Plot\"},{\"attributes\":{\"fill_alpha\":{\"value\":0.7},\"fill_color\":{\"value\":\"#4daf4a\"},\"line_alpha\":{\"value\":0.7},\"line_color\":{\"value\":\"#4daf4a\"},\"x\":{\"field\":\"x\"},\"y\":{\"field\":\"y\"}},\"id\":\"17699d77-b565-42f2-a7c9-b692534c68e6\",\"type\":\"Circle\"},{\"attributes\":{},\"id\":\"22cdb63e-3b59-4d16-8b1c-f8d9b60f8e12\",\"type\":\"LinearScale\"},{\"attributes\":{\"axis_label\":\"cooling rate [K/day]\",\"formatter\":{\"id\":\"658c7466-283e-4bce-a2dd-cfefd47baaca\",\"type\":\"BasicTickFormatter\"},\"plot\":{\"id\":\"b54f83f2-75b6-439d-9f55-bf51e51b1463\",\"subtype\":\"Figure\",\"type\":\"Plot\"},\"ticker\":{\"id\":\"4cef6be4-9f8a-4235-af53-6089414435f7\",\"type\":\"BasicTicker\"}},\"id\":\"146cd5de-f947-44c7-a90e-c3fb329a5fd5\",\"type\":\"LinearAxis\"},{\"attributes\":{\"ticker\":null},\"id\":\"8c64e8a9-f084-44e0-9a68-d946c3e7c79d\",\"type\":\"LogTickFormatter\"},{\"attributes\":{\"line_alpha\":0.6,\"line_color\":\"#984ea3\",\"line_width\":3,\"x\":{\"field\":\"x\"},\"y\":{\"field\":\"y\"}},\"id\":\"a4ca6476-f2cc-4681-8cd7-d85449376826\",\"type\":\"Line\"},{\"attributes\":{\"plot\":{\"id\":\"b54f83f2-75b6-439d-9f55-bf51e51b1463\",\"subtype\":\"Figure\",\"type\":\"Plot\"},\"ticker\":{\"id\":\"4cef6be4-9f8a-4235-af53-6089414435f7\",\"type\":\"BasicTicker\"}},\"id\":\"d978233c-dfc4-418d-babd-dec4ff92211c\",\"type\":\"Grid\"},{\"attributes\":{\"overlay\":{\"id\":\"def9e124-7701-4f40-9e20-1677128f0221\",\"type\":\"BoxAnnotation\"}},\"id\":\"bdcc8167-2237-412b-ae5b-5332022544f6\",\"type\":\"BoxZoomTool\"}],\"root_ids\":[\"ebd4b242-a737-4d0c-a796-bd9a079562ee\"]},\"title\":\"Bokeh Application\",\"version\":\"0.12.14\"}};\n",
       "  var render_items = [{\"docid\":\"61693e31-1b70-4bc3-8b00-05053de52bc9\",\"elementid\":\"a63e5c86-ae24-4039-b9c0-cdabc06893de\",\"modelid\":\"ebd4b242-a737-4d0c-a796-bd9a079562ee\"}];\n",
       "  root.Bokeh.embed.embed_items_notebook(docs_json, render_items);\n",
       "\n",
       "  }\n",
       "  if (root.Bokeh !== undefined) {\n",
       "    embed_document(root);\n",
       "  } else {\n",
       "    var attempts = 0;\n",
       "    var timer = setInterval(function(root) {\n",
       "      if (root.Bokeh !== undefined) {\n",
       "        embed_document(root);\n",
       "        clearInterval(timer);\n",
       "      }\n",
       "      attempts++;\n",
       "      if (attempts > 100) {\n",
       "        console.log(\"Bokeh: ERROR: Unable to run BokehJS code because BokehJS library is missing\")\n",
       "        clearInterval(timer);\n",
       "      }\n",
       "    }, 10, root)\n",
       "  }\n",
       "})(window);"
      ],
      "application/vnd.bokehjs_exec.v0+json": ""
     },
     "metadata": {
      "application/vnd.bokehjs_exec.v0+json": {
       "id": "ebd4b242-a737-4d0c-a796-bd9a079562ee"
      }
     },
     "output_type": "display_data"
    },
    {
     "name": "stdout",
     "output_type": "stream",
     "text": [
      "FIGURE. Cooling rate profiles.\n"
     ]
    },
    {
     "data": {
      "text/html": [
       "<a id=\"Flux_Comparison\"></a>"
      ],
      "text/plain": [
       "<IPython.core.display.HTML object>"
      ]
     },
     "metadata": {},
     "output_type": "display_data"
    },
    {
     "data": {
      "text/markdown": [
       "# Flux Comparison"
      ],
      "text/plain": [
       "<IPython.core.display.Markdown object>"
      ]
     },
     "metadata": {},
     "output_type": "display_data"
    },
    {
     "data": {
      "text/html": [
       "<div>\n",
       "<style>\n",
       "    .dataframe thead tr:only-child th {\n",
       "        text-align: right;\n",
       "    }\n",
       "\n",
       "    .dataframe thead th {\n",
       "        text-align: left;\n",
       "    }\n",
       "\n",
       "    .dataframe tbody tr th {\n",
       "        vertical-align: top;\n",
       "    }\n",
       "</style>\n",
       "<table border=\"1\" class=\"dataframe\">\n",
       "  <thead>\n",
       "    <tr style=\"text-align: right;\">\n",
       "      <th></th>\n",
       "      <th></th>\n",
       "      <th>flug</th>\n",
       "      <th>fldg</th>\n",
       "      <th>fnetg</th>\n",
       "    </tr>\n",
       "    <tr>\n",
       "      <th>pressure</th>\n",
       "      <th>level</th>\n",
       "      <th></th>\n",
       "      <th></th>\n",
       "      <th></th>\n",
       "    </tr>\n",
       "  </thead>\n",
       "  <tbody>\n",
       "    <tr>\n",
       "      <th>0.0000</th>\n",
       "      <th>1</th>\n",
       "      <td>-6.475416</td>\n",
       "      <td>0.000000</td>\n",
       "      <td>-6.475416</td>\n",
       "    </tr>\n",
       "    <tr>\n",
       "      <th>1.0685</th>\n",
       "      <th>24</th>\n",
       "      <td>-6.475496</td>\n",
       "      <td>0.000375</td>\n",
       "      <td>-6.475121</td>\n",
       "    </tr>\n",
       "    <tr>\n",
       "      <th>1013.0000</th>\n",
       "      <th>76</th>\n",
       "      <td>-6.625452</td>\n",
       "      <td>0.016766</td>\n",
       "      <td>-6.608686</td>\n",
       "    </tr>\n",
       "  </tbody>\n",
       "</table>\n",
       "</div>"
      ],
      "text/plain": [
       "                     flug      fldg     fnetg\n",
       "pressure  level                              \n",
       "0.0000    1     -6.475416  0.000000 -6.475416\n",
       "1.0685    24    -6.475496  0.000375 -6.475121\n",
       "1013.0000 76    -6.625452  0.016766 -6.608686"
      ]
     },
     "metadata": {},
     "output_type": "display_data"
    },
    {
     "name": "stdout",
     "output_type": "stream",
     "text": [
      "Table. Fluxes. WGT igg=10 wgt_flux=1\n"
     ]
    },
    {
     "data": {
      "text/html": [
       "<div>\n",
       "<style>\n",
       "    .dataframe thead tr:only-child th {\n",
       "        text-align: right;\n",
       "    }\n",
       "\n",
       "    .dataframe thead th {\n",
       "        text-align: left;\n",
       "    }\n",
       "\n",
       "    .dataframe tbody tr th {\n",
       "        vertical-align: top;\n",
       "    }\n",
       "</style>\n",
       "<table border=\"1\" class=\"dataframe\">\n",
       "  <thead>\n",
       "    <tr style=\"text-align: right;\">\n",
       "      <th></th>\n",
       "      <th></th>\n",
       "      <th>flug</th>\n",
       "      <th>fldg</th>\n",
       "      <th>fnetg</th>\n",
       "    </tr>\n",
       "    <tr>\n",
       "      <th>pressure</th>\n",
       "      <th>level</th>\n",
       "      <th></th>\n",
       "      <th></th>\n",
       "      <th></th>\n",
       "    </tr>\n",
       "  </thead>\n",
       "  <tbody>\n",
       "    <tr>\n",
       "      <th>0.0000</th>\n",
       "      <th>1</th>\n",
       "      <td>-6.480839</td>\n",
       "      <td>0.000000</td>\n",
       "      <td>-6.480839</td>\n",
       "    </tr>\n",
       "    <tr>\n",
       "      <th>1.0685</th>\n",
       "      <th>24</th>\n",
       "      <td>-6.480893</td>\n",
       "      <td>0.000399</td>\n",
       "      <td>-6.480493</td>\n",
       "    </tr>\n",
       "    <tr>\n",
       "      <th>1013.0000</th>\n",
       "      <th>76</th>\n",
       "      <td>-6.625452</td>\n",
       "      <td>0.017229</td>\n",
       "      <td>-6.608224</td>\n",
       "    </tr>\n",
       "  </tbody>\n",
       "</table>\n",
       "</div>"
      ],
      "text/plain": [
       "                     flug      fldg     fnetg\n",
       "pressure  level                              \n",
       "0.0000    1     -6.480839  0.000000 -6.480839\n",
       "1.0685    24    -6.480893  0.000399 -6.480493\n",
       "1013.0000 76    -6.625452  0.017229 -6.608224"
      ]
     },
     "metadata": {},
     "output_type": "display_data"
    },
    {
     "name": "stdout",
     "output_type": "stream",
     "text": [
      "Table. Fluxes. CRD\n"
     ]
    },
    {
     "data": {
      "text/html": [
       "<div>\n",
       "<style>\n",
       "    .dataframe thead tr:only-child th {\n",
       "        text-align: right;\n",
       "    }\n",
       "\n",
       "    .dataframe thead th {\n",
       "        text-align: left;\n",
       "    }\n",
       "\n",
       "    .dataframe tbody tr th {\n",
       "        vertical-align: top;\n",
       "    }\n",
       "</style>\n",
       "<table border=\"1\" class=\"dataframe\">\n",
       "  <thead>\n",
       "    <tr style=\"text-align: right;\">\n",
       "      <th></th>\n",
       "      <th></th>\n",
       "      <th>flug</th>\n",
       "      <th>fldg</th>\n",
       "      <th>fnetg</th>\n",
       "    </tr>\n",
       "    <tr>\n",
       "      <th>pressure</th>\n",
       "      <th>level</th>\n",
       "      <th></th>\n",
       "      <th></th>\n",
       "      <th></th>\n",
       "    </tr>\n",
       "  </thead>\n",
       "  <tbody>\n",
       "    <tr>\n",
       "      <th>1.000000e-08</th>\n",
       "      <th>1</th>\n",
       "      <td>-6.484414</td>\n",
       "      <td>0.000002</td>\n",
       "      <td>-6.484411</td>\n",
       "    </tr>\n",
       "    <tr>\n",
       "      <th>1.068500e+00</th>\n",
       "      <th>24</th>\n",
       "      <td>-6.484500</td>\n",
       "      <td>0.000306</td>\n",
       "      <td>-6.484194</td>\n",
       "    </tr>\n",
       "    <tr>\n",
       "      <th>1.013000e+03</th>\n",
       "      <th>76</th>\n",
       "      <td>-6.625452</td>\n",
       "      <td>0.015139</td>\n",
       "      <td>-6.610313</td>\n",
       "    </tr>\n",
       "  </tbody>\n",
       "</table>\n",
       "</div>"
      ],
      "text/plain": [
       "                        flug      fldg     fnetg\n",
       "pressure     level                              \n",
       "1.000000e-08 1     -6.484414  0.000002 -6.484411\n",
       "1.068500e+00 24    -6.484500  0.000306 -6.484194\n",
       "1.013000e+03 76    -6.625452  0.015139 -6.610313"
      ]
     },
     "metadata": {},
     "output_type": "display_data"
    },
    {
     "name": "stdout",
     "output_type": "stream",
     "text": [
      "Table. Fluxes. CLIRAD\n"
     ]
    },
    {
     "data": {
      "text/html": [
       "<div>\n",
       "<style>\n",
       "    .dataframe thead tr:only-child th {\n",
       "        text-align: right;\n",
       "    }\n",
       "\n",
       "    .dataframe thead th {\n",
       "        text-align: left;\n",
       "    }\n",
       "\n",
       "    .dataframe tbody tr th {\n",
       "        vertical-align: top;\n",
       "    }\n",
       "</style>\n",
       "<table border=\"1\" class=\"dataframe\">\n",
       "  <thead>\n",
       "    <tr style=\"text-align: right;\">\n",
       "      <th></th>\n",
       "      <th></th>\n",
       "      <th>flug</th>\n",
       "      <th>fldg</th>\n",
       "      <th>fnetg</th>\n",
       "    </tr>\n",
       "    <tr>\n",
       "      <th>pressure</th>\n",
       "      <th>level</th>\n",
       "      <th></th>\n",
       "      <th></th>\n",
       "      <th></th>\n",
       "    </tr>\n",
       "  </thead>\n",
       "  <tbody>\n",
       "    <tr>\n",
       "      <th>0.0000</th>\n",
       "      <th>1</th>\n",
       "      <td>-5.423118e-03</td>\n",
       "      <td>0.000000</td>\n",
       "      <td>-0.005423</td>\n",
       "    </tr>\n",
       "    <tr>\n",
       "      <th>1.0685</th>\n",
       "      <th>24</th>\n",
       "      <td>-5.396247e-03</td>\n",
       "      <td>0.000024</td>\n",
       "      <td>-0.005372</td>\n",
       "    </tr>\n",
       "    <tr>\n",
       "      <th>1013.0000</th>\n",
       "      <th>76</th>\n",
       "      <td>1.760000e-08</td>\n",
       "      <td>0.000463</td>\n",
       "      <td>0.000463</td>\n",
       "    </tr>\n",
       "  </tbody>\n",
       "</table>\n",
       "</div>"
      ],
      "text/plain": [
       "                         flug      fldg     fnetg\n",
       "pressure  level                                  \n",
       "0.0000    1     -5.423118e-03  0.000000 -0.005423\n",
       "1.0685    24    -5.396247e-03  0.000024 -0.005372\n",
       "1013.0000 76     1.760000e-08  0.000463  0.000463"
      ]
     },
     "metadata": {},
     "output_type": "display_data"
    },
    {
     "name": "stdout",
     "output_type": "stream",
     "text": [
      "Table. Fluxes. (CRD) - (WGT igg=10 wgt_flux=1)\n"
     ]
    },
    {
     "data": {
      "text/html": [
       "<div>\n",
       "<style>\n",
       "    .dataframe thead tr:only-child th {\n",
       "        text-align: right;\n",
       "    }\n",
       "\n",
       "    .dataframe thead th {\n",
       "        text-align: left;\n",
       "    }\n",
       "\n",
       "    .dataframe tbody tr th {\n",
       "        vertical-align: top;\n",
       "    }\n",
       "</style>\n",
       "<table border=\"1\" class=\"dataframe\">\n",
       "  <thead>\n",
       "    <tr style=\"text-align: right;\">\n",
       "      <th></th>\n",
       "      <th></th>\n",
       "      <th>flug</th>\n",
       "      <th>fldg</th>\n",
       "      <th>fnetg</th>\n",
       "    </tr>\n",
       "    <tr>\n",
       "      <th>pressure</th>\n",
       "      <th>level</th>\n",
       "      <th></th>\n",
       "      <th></th>\n",
       "      <th></th>\n",
       "    </tr>\n",
       "  </thead>\n",
       "  <tbody>\n",
       "    <tr>\n",
       "      <th>0.0000</th>\n",
       "      <th>1</th>\n",
       "      <td>-8.997918e-03</td>\n",
       "      <td>0.000002</td>\n",
       "      <td>-0.008996</td>\n",
       "    </tr>\n",
       "    <tr>\n",
       "      <th>1.0685</th>\n",
       "      <th>24</th>\n",
       "      <td>-9.003247e-03</td>\n",
       "      <td>-0.000069</td>\n",
       "      <td>-0.009073</td>\n",
       "    </tr>\n",
       "    <tr>\n",
       "      <th>1013.0000</th>\n",
       "      <th>76</th>\n",
       "      <td>3.176000e-07</td>\n",
       "      <td>-0.001627</td>\n",
       "      <td>-0.001627</td>\n",
       "    </tr>\n",
       "  </tbody>\n",
       "</table>\n",
       "</div>"
      ],
      "text/plain": [
       "                         flug      fldg     fnetg\n",
       "pressure  level                                  \n",
       "0.0000    1     -8.997918e-03  0.000002 -0.008996\n",
       "1.0685    24    -9.003247e-03 -0.000069 -0.009073\n",
       "1013.0000 76     3.176000e-07 -0.001627 -0.001627"
      ]
     },
     "metadata": {},
     "output_type": "display_data"
    },
    {
     "name": "stdout",
     "output_type": "stream",
     "text": [
      "Table. Fluxes. (CLIRAD) - (WGT igg=10 wgt_flux=1)\n"
     ]
    },
    {
     "data": {
      "text/html": [
       "<a id=\"Best-fit_Parameters\"></a>"
      ],
      "text/plain": [
       "<IPython.core.display.HTML object>"
      ]
     },
     "metadata": {},
     "output_type": "display_data"
    },
    {
     "data": {
      "text/markdown": [
       "# Best-fit Parameters"
      ],
      "text/plain": [
       "<IPython.core.display.Markdown object>"
      ]
     },
     "metadata": {},
     "output_type": "display_data"
    },
    {
     "name": "stdout",
     "output_type": "stream",
     "text": [
      "Best-fit values for each (gas, band)\n",
      "------------------------------------\n",
      "o o3 band9\n",
      "  molecule = o3\n",
      "  band = 9\n",
      "  commitnumber = d62b618\n",
      "  vmin = 1900\n",
      "  vmax = 3000\n",
      "  dv = 0.001\n",
      "  nv = 1000\n",
      "  ref_pts = [(1, 250), (50, 250)]\n",
      "  ng_refs = [2, 5]\n",
      "  ng_adju = [0, 0]\n",
      "  klin = 2e-20\n",
      "  option_wgt_k = 1\n",
      "  wgt = [(0.3, 0.4), (0.5, 0.6, 0.7, 0.85, 0.9)]\n",
      "  w_diffuse = [(1.55, 1.55), (1.55, 1.55, 1.55, 1.55, 1.8)]\n",
      "  option_wgt_flux = 1\n",
      "  atmpro = mls\n",
      "  tsfc = 294\n",
      "  conc = None\n",
      "  option_compute_btable = 0\n",
      "  option_compute_ktable = 1\n"
     ]
    }
   ],
   "source": [
    "script()"
   ]
  },
  {
   "cell_type": "code",
   "execution_count": 13,
   "metadata": {},
   "outputs": [
    {
     "data": {
      "text/html": [
       "<script>\n",
       "code_show=true; \n",
       "function code_toggle() {\n",
       " if (code_show){\n",
       " $('div.input').hide();\n",
       " } else {\n",
       " $('div.input').show();\n",
       " }\n",
       " code_show = !code_show\n",
       "} \n",
       "$( document ).ready(code_toggle);\n",
       "</script>\n",
       "<form action=\"javascript:code_toggle()\"><input type=\"submit\" value=\"Click here to toggle on/off the raw code.\"></form>"
      ],
      "text/plain": [
       "<IPython.core.display.HTML object>"
      ]
     },
     "execution_count": 13,
     "metadata": {},
     "output_type": "execute_result"
    }
   ],
   "source": [
    "display.HTML('''<script>\n",
    "code_show=true; \n",
    "function code_toggle() {\n",
    " if (code_show){\n",
    " $('div.input').hide();\n",
    " } else {\n",
    " $('div.input').show();\n",
    " }\n",
    " code_show = !code_show\n",
    "} \n",
    "$( document ).ready(code_toggle);\n",
    "</script>\n",
    "<form action=\"javascript:code_toggle()\"><input type=\"submit\" value=\"Click here to toggle on/off the raw code.\"></form>''')"
   ]
  }
 ],
 "metadata": {
  "kernelspec": {
   "display_name": "Python 3",
   "language": "python",
   "name": "python3"
  },
  "language_info": {
   "codemirror_mode": {
    "name": "ipython",
    "version": 3
   },
   "file_extension": ".py",
   "mimetype": "text/x-python",
   "name": "python",
   "nbconvert_exporter": "python",
   "pygments_lexer": "ipython3",
   "version": "3.6.1"
  }
 },
 "nbformat": 4,
 "nbformat_minor": 2
}
