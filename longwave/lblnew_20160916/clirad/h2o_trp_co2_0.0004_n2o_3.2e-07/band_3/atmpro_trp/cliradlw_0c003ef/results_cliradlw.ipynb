{
 "cells": [
  {
   "cell_type": "code",
   "execution_count": 1,
   "metadata": {
    "collapsed": true
   },
   "outputs": [],
   "source": [
    "%matplotlib inline\n",
    "import os\n",
    "import re\n",
    "import io\n",
    "import itertools\n",
    "import pprint\n",
    "\n",
    "from bokeh.io import output_notebook, show\n",
    "from bokeh.layouts import gridplot\n",
    "from bokeh.plotting import figure\n",
    "from bokeh.models import Range1d, Legend\n",
    "from bokeh.palettes import all_palettes\n",
    "\n",
    "import matplotlib\n",
    "import matplotlib.pyplot as plt\n",
    "import numpy as np\n",
    "import pandas as pd\n",
    "import xarray as xr\n",
    "\n",
    "import climatools.lblnew.bestfit_params as bestfits\n",
    "from climatools.lblnew import setup_bestfit, setup_overlap\n",
    "import climatools.lblnew.pipeline as pipe_lblnew\n",
    "import climatools.cliradlw.setup as setup_cliradlw\n",
    "import climatools.cliradlw.pipeline as pipe_cliradlw\n",
    "\n",
    "import climatools.html.html as climahtml\n",
    "from climatools.lblnew.dataio import *\n",
    "from climatools.plot.plot import *\n",
    "\n",
    "\n",
    "import IPython.display as display"
   ]
  },
  {
   "cell_type": "code",
   "execution_count": 2,
   "metadata": {
    "collapsed": true
   },
   "outputs": [],
   "source": [
    "%run param.py"
   ]
  },
  {
   "cell_type": "code",
   "execution_count": 3,
   "metadata": {
    "collapsed": true
   },
   "outputs": [],
   "source": [
    "def load_output_file(path_csv):\n",
    "    '''\n",
    "    Load lblnew output .csv file to xarray.Dataset\n",
    "    \n",
    "    Parameters\n",
    "    ----------\n",
    "    path_csv: str\n",
    "              Path to the .csv file to be loaded.\n",
    "    ds: xarray.Dataset\n",
    "        Data in the input file in the form of an xarray.Dataset.\n",
    "    '''\n",
    "    toindex = ['band', 'pressure', 'igg', 'g']    \n",
    "    df = pd.read_csv(path_csv, sep=r'\\s+')\n",
    "    df = df.set_index([i for i in toindex if i in df.columns])\n",
    "    df = df.rename(columns={'sfu': 'flug',\n",
    "                            'sfd': 'fldg',\n",
    "                            'fnet': 'fnetg',\n",
    "                            'coolr': 'coolrg'})\n",
    "    ds = xr.Dataset.from_dataframe(df)\n",
    "\n",
    "    for l in ('level', 'layer'):\n",
    "        if l in ds.data_vars:\n",
    "            if len(ds[l].dims) > 1:\n",
    "                surface = {d: 0 for d in ds.dims if d != 'pressure'}\n",
    "                coord_level = ds[l][surface]\n",
    "                ds.coords[l] = ('pressure', coord_level)\n",
    "            else:\n",
    "                ds.coords[l] = ('pressure', ds[l])\n",
    "    \n",
    "    return ds"
   ]
  },
  {
   "cell_type": "code",
   "execution_count": 4,
   "metadata": {
    "collapsed": true
   },
   "outputs": [],
   "source": [
    "def lblnew_setup(param=None):\n",
    "    if 'ng_refs' in param:\n",
    "        return {'setup': setup_bestfit,\n",
    "                'fname_flux_crd': 'output_flux.dat',\n",
    "                'fname_cool_crd': 'output_coolr.dat',\n",
    "                'fname_flux_wgt': 'output_wfluxg.dat',\n",
    "                'fname_cool_wgt': 'output_wcoolrg.dat'}\n",
    "    else:\n",
    "        return {'setup': setup_overlap,\n",
    "                'fname_flux_crd': 'output_flux.dat',\n",
    "                'fname_cool_crd': 'output_coolr.dat',\n",
    "                'fname_flux_wgt': 'output_wflux.dat',\n",
    "                'fname_cool_wgt': 'output_wcoolr.dat'}\n",
    "\n",
    "    \n",
    "def load_lblnew_data(param):\n",
    "    \n",
    "    fname_dsname = [('fname_flux_crd', 'ds_flux_crd'),\n",
    "                    ('fname_cool_crd', 'ds_cool_crd'),\n",
    "                    ('fname_flux_wgt', 'ds_flux_wgt'),\n",
    "                    ('fname_cool_wgt', 'ds_cool_wgt')]\n",
    "    \n",
    "    d = lblnew_setup(param)\n",
    "    dir_fortran = pipe_lblnew.get_dir_case(param, setup=d['setup'])\n",
    "    \n",
    "    data_dict = {}\n",
    "    for fname, dsname in fname_dsname:\n",
    "        fpath = os.path.join(dir_fortran, d[fname])\n",
    "        data_dict[dsname] = load_output_file(fpath)\n",
    "    return data_dict\n",
    "    \n",
    "\n",
    "    \n",
    "    "
   ]
  },
  {
   "cell_type": "code",
   "execution_count": 5,
   "metadata": {
    "collapsed": true
   },
   "outputs": [],
   "source": [
    "d = load_lblnew_data(PARAM_LBLNEW)\n",
    "\n",
    "DS_FLUX_CRD = d['ds_flux_crd']\n",
    "DS_COOL_CRD = d['ds_cool_crd']\n",
    "DS_FLUX_WGT = d['ds_flux_wgt']\n",
    "DS_COOL_WGT = d['ds_cool_wgt']"
   ]
  },
  {
   "cell_type": "code",
   "execution_count": 6,
   "metadata": {
    "collapsed": true
   },
   "outputs": [],
   "source": [
    "DIR_FORTRAN = pipe_cliradlw.get_fortran_dir(PARAM, \n",
    "                                            setup=setup_cliradlw)\n",
    "\n",
    "PATH_FLUX = os.path.join(DIR_FORTRAN, 'output_flux.dat')\n",
    "PATH_COOL = os.path.join(DIR_FORTRAN, 'output_coolr.dat')\n",
    "\n",
    "DS_FLUX = load_output_file(PATH_FLUX)\n",
    "DS_COOL = load_output_file(PATH_COOL)"
   ]
  },
  {
   "cell_type": "code",
   "execution_count": 7,
   "metadata": {
    "collapsed": true
   },
   "outputs": [
    {
     "data": {
      "text/html": [
       "\n",
       "    <div class=\"bk-root\">\n",
       "        <a href=\"https://bokeh.pydata.org\" target=\"_blank\" class=\"bk-logo bk-logo-small bk-logo-notebook\"></a>\n",
       "        <span id=\"7b440602-6cac-48c0-ab88-b3e9a20901f0\">Loading BokehJS ...</span>\n",
       "    </div>"
      ]
     },
     "metadata": {},
     "output_type": "display_data"
    },
    {
     "data": {
      "application/javascript": [
       "\n",
       "(function(root) {\n",
       "  function now() {\n",
       "    return new Date();\n",
       "  }\n",
       "\n",
       "  var force = true;\n",
       "\n",
       "  if (typeof (root._bokeh_onload_callbacks) === \"undefined\" || force === true) {\n",
       "    root._bokeh_onload_callbacks = [];\n",
       "    root._bokeh_is_loading = undefined;\n",
       "  }\n",
       "\n",
       "  var JS_MIME_TYPE = 'application/javascript';\n",
       "  var HTML_MIME_TYPE = 'text/html';\n",
       "  var EXEC_MIME_TYPE = 'application/vnd.bokehjs_exec.v0+json';\n",
       "  var CLASS_NAME = 'output_bokeh rendered_html';\n",
       "\n",
       "  /**\n",
       "   * Render data to the DOM node\n",
       "   */\n",
       "  function render(props, node) {\n",
       "    var script = document.createElement(\"script\");\n",
       "    node.appendChild(script);\n",
       "  }\n",
       "\n",
       "  /**\n",
       "   * Handle when an output is cleared or removed\n",
       "   */\n",
       "  function handleClearOutput(event, handle) {\n",
       "    var cell = handle.cell;\n",
       "\n",
       "    var id = cell.output_area._bokeh_element_id;\n",
       "    var server_id = cell.output_area._bokeh_server_id;\n",
       "    // Clean up Bokeh references\n",
       "    if (id !== undefined) {\n",
       "      Bokeh.index[id].model.document.clear();\n",
       "      delete Bokeh.index[id];\n",
       "    }\n",
       "\n",
       "    if (server_id !== undefined) {\n",
       "      // Clean up Bokeh references\n",
       "      var cmd = \"from bokeh.io.state import curstate; print(curstate().uuid_to_server['\" + server_id + \"'].get_sessions()[0].document.roots[0]._id)\";\n",
       "      cell.notebook.kernel.execute(cmd, {\n",
       "        iopub: {\n",
       "          output: function(msg) {\n",
       "            var element_id = msg.content.text.trim();\n",
       "            Bokeh.index[element_id].model.document.clear();\n",
       "            delete Bokeh.index[element_id];\n",
       "          }\n",
       "        }\n",
       "      });\n",
       "      // Destroy server and session\n",
       "      var cmd = \"import bokeh.io.notebook as ion; ion.destroy_server('\" + server_id + \"')\";\n",
       "      cell.notebook.kernel.execute(cmd);\n",
       "    }\n",
       "  }\n",
       "\n",
       "  /**\n",
       "   * Handle when a new output is added\n",
       "   */\n",
       "  function handleAddOutput(event, handle) {\n",
       "    var output_area = handle.output_area;\n",
       "    var output = handle.output;\n",
       "\n",
       "    // limit handleAddOutput to display_data with EXEC_MIME_TYPE content only\n",
       "    if ((output.output_type != \"display_data\") || (!output.data.hasOwnProperty(EXEC_MIME_TYPE))) {\n",
       "      return\n",
       "    }\n",
       "\n",
       "    var toinsert = output_area.element.find(\".\" + CLASS_NAME.split(' ')[0]);\n",
       "\n",
       "    if (output.metadata[EXEC_MIME_TYPE][\"id\"] !== undefined) {\n",
       "      toinsert[0].firstChild.textContent = output.data[JS_MIME_TYPE];\n",
       "      // store reference to embed id on output_area\n",
       "      output_area._bokeh_element_id = output.metadata[EXEC_MIME_TYPE][\"id\"];\n",
       "    }\n",
       "    if (output.metadata[EXEC_MIME_TYPE][\"server_id\"] !== undefined) {\n",
       "      var bk_div = document.createElement(\"div\");\n",
       "      bk_div.innerHTML = output.data[HTML_MIME_TYPE];\n",
       "      var script_attrs = bk_div.children[0].attributes;\n",
       "      for (var i = 0; i < script_attrs.length; i++) {\n",
       "        toinsert[0].firstChild.setAttribute(script_attrs[i].name, script_attrs[i].value);\n",
       "      }\n",
       "      // store reference to server id on output_area\n",
       "      output_area._bokeh_server_id = output.metadata[EXEC_MIME_TYPE][\"server_id\"];\n",
       "    }\n",
       "  }\n",
       "\n",
       "  function register_renderer(events, OutputArea) {\n",
       "\n",
       "    function append_mime(data, metadata, element) {\n",
       "      // create a DOM node to render to\n",
       "      var toinsert = this.create_output_subarea(\n",
       "        metadata,\n",
       "        CLASS_NAME,\n",
       "        EXEC_MIME_TYPE\n",
       "      );\n",
       "      this.keyboard_manager.register_events(toinsert);\n",
       "      // Render to node\n",
       "      var props = {data: data, metadata: metadata[EXEC_MIME_TYPE]};\n",
       "      render(props, toinsert[0]);\n",
       "      element.append(toinsert);\n",
       "      return toinsert\n",
       "    }\n",
       "\n",
       "    /* Handle when an output is cleared or removed */\n",
       "    events.on('clear_output.CodeCell', handleClearOutput);\n",
       "    events.on('delete.Cell', handleClearOutput);\n",
       "\n",
       "    /* Handle when a new output is added */\n",
       "    events.on('output_added.OutputArea', handleAddOutput);\n",
       "\n",
       "    /**\n",
       "     * Register the mime type and append_mime function with output_area\n",
       "     */\n",
       "    OutputArea.prototype.register_mime_type(EXEC_MIME_TYPE, append_mime, {\n",
       "      /* Is output safe? */\n",
       "      safe: true,\n",
       "      /* Index of renderer in `output_area.display_order` */\n",
       "      index: 0\n",
       "    });\n",
       "  }\n",
       "\n",
       "  // register the mime type if in Jupyter Notebook environment and previously unregistered\n",
       "  if (root.Jupyter !== undefined) {\n",
       "    var events = require('base/js/events');\n",
       "    var OutputArea = require('notebook/js/outputarea').OutputArea;\n",
       "\n",
       "    if (OutputArea.prototype.mime_types().indexOf(EXEC_MIME_TYPE) == -1) {\n",
       "      register_renderer(events, OutputArea);\n",
       "    }\n",
       "  }\n",
       "\n",
       "  \n",
       "  if (typeof (root._bokeh_timeout) === \"undefined\" || force === true) {\n",
       "    root._bokeh_timeout = Date.now() + 5000;\n",
       "    root._bokeh_failed_load = false;\n",
       "  }\n",
       "\n",
       "  var NB_LOAD_WARNING = {'data': {'text/html':\n",
       "     \"<div style='background-color: #fdd'>\\n\"+\n",
       "     \"<p>\\n\"+\n",
       "     \"BokehJS does not appear to have successfully loaded. If loading BokehJS from CDN, this \\n\"+\n",
       "     \"may be due to a slow or bad network connection. Possible fixes:\\n\"+\n",
       "     \"</p>\\n\"+\n",
       "     \"<ul>\\n\"+\n",
       "     \"<li>re-rerun `output_notebook()` to attempt to load from CDN again, or</li>\\n\"+\n",
       "     \"<li>use INLINE resources instead, as so:</li>\\n\"+\n",
       "     \"</ul>\\n\"+\n",
       "     \"<code>\\n\"+\n",
       "     \"from bokeh.resources import INLINE\\n\"+\n",
       "     \"output_notebook(resources=INLINE)\\n\"+\n",
       "     \"</code>\\n\"+\n",
       "     \"</div>\"}};\n",
       "\n",
       "  function display_loaded() {\n",
       "    var el = document.getElementById(\"7b440602-6cac-48c0-ab88-b3e9a20901f0\");\n",
       "    if (el != null) {\n",
       "      el.textContent = \"BokehJS is loading...\";\n",
       "    }\n",
       "    if (root.Bokeh !== undefined) {\n",
       "      if (el != null) {\n",
       "        el.textContent = \"BokehJS \" + root.Bokeh.version + \" successfully loaded.\";\n",
       "      }\n",
       "    } else if (Date.now() < root._bokeh_timeout) {\n",
       "      setTimeout(display_loaded, 100)\n",
       "    }\n",
       "  }\n",
       "\n",
       "\n",
       "  function run_callbacks() {\n",
       "    try {\n",
       "      root._bokeh_onload_callbacks.forEach(function(callback) { callback() });\n",
       "    }\n",
       "    finally {\n",
       "      delete root._bokeh_onload_callbacks\n",
       "    }\n",
       "    console.info(\"Bokeh: all callbacks have finished\");\n",
       "  }\n",
       "\n",
       "  function load_libs(js_urls, callback) {\n",
       "    root._bokeh_onload_callbacks.push(callback);\n",
       "    if (root._bokeh_is_loading > 0) {\n",
       "      console.log(\"Bokeh: BokehJS is being loaded, scheduling callback at\", now());\n",
       "      return null;\n",
       "    }\n",
       "    if (js_urls == null || js_urls.length === 0) {\n",
       "      run_callbacks();\n",
       "      return null;\n",
       "    }\n",
       "    console.log(\"Bokeh: BokehJS not loaded, scheduling load and callback at\", now());\n",
       "    root._bokeh_is_loading = js_urls.length;\n",
       "    for (var i = 0; i < js_urls.length; i++) {\n",
       "      var url = js_urls[i];\n",
       "      var s = document.createElement('script');\n",
       "      s.src = url;\n",
       "      s.async = false;\n",
       "      s.onreadystatechange = s.onload = function() {\n",
       "        root._bokeh_is_loading--;\n",
       "        if (root._bokeh_is_loading === 0) {\n",
       "          console.log(\"Bokeh: all BokehJS libraries loaded\");\n",
       "          run_callbacks()\n",
       "        }\n",
       "      };\n",
       "      s.onerror = function() {\n",
       "        console.warn(\"failed to load library \" + url);\n",
       "      };\n",
       "      console.log(\"Bokeh: injecting script tag for BokehJS library: \", url);\n",
       "      document.getElementsByTagName(\"head\")[0].appendChild(s);\n",
       "    }\n",
       "  };var element = document.getElementById(\"7b440602-6cac-48c0-ab88-b3e9a20901f0\");\n",
       "  if (element == null) {\n",
       "    console.log(\"Bokeh: ERROR: autoload.js configured with elementid '7b440602-6cac-48c0-ab88-b3e9a20901f0' but no matching script tag was found. \")\n",
       "    return false;\n",
       "  }\n",
       "\n",
       "  var js_urls = [\"https://cdn.pydata.org/bokeh/release/bokeh-0.12.14.min.js\", \"https://cdn.pydata.org/bokeh/release/bokeh-widgets-0.12.14.min.js\", \"https://cdn.pydata.org/bokeh/release/bokeh-tables-0.12.14.min.js\", \"https://cdn.pydata.org/bokeh/release/bokeh-gl-0.12.14.min.js\"];\n",
       "\n",
       "  var inline_js = [\n",
       "    function(Bokeh) {\n",
       "      Bokeh.set_log_level(\"info\");\n",
       "    },\n",
       "    \n",
       "    function(Bokeh) {\n",
       "      \n",
       "    },\n",
       "    function(Bokeh) {\n",
       "      console.log(\"Bokeh: injecting CSS: https://cdn.pydata.org/bokeh/release/bokeh-0.12.14.min.css\");\n",
       "      Bokeh.embed.inject_css(\"https://cdn.pydata.org/bokeh/release/bokeh-0.12.14.min.css\");\n",
       "      console.log(\"Bokeh: injecting CSS: https://cdn.pydata.org/bokeh/release/bokeh-widgets-0.12.14.min.css\");\n",
       "      Bokeh.embed.inject_css(\"https://cdn.pydata.org/bokeh/release/bokeh-widgets-0.12.14.min.css\");\n",
       "      console.log(\"Bokeh: injecting CSS: https://cdn.pydata.org/bokeh/release/bokeh-tables-0.12.14.min.css\");\n",
       "      Bokeh.embed.inject_css(\"https://cdn.pydata.org/bokeh/release/bokeh-tables-0.12.14.min.css\");\n",
       "    }\n",
       "  ];\n",
       "\n",
       "  function run_inline_js() {\n",
       "    \n",
       "    if ((root.Bokeh !== undefined) || (force === true)) {\n",
       "      for (var i = 0; i < inline_js.length; i++) {\n",
       "        inline_js[i].call(root, root.Bokeh);\n",
       "      }if (force === true) {\n",
       "        display_loaded();\n",
       "      }} else if (Date.now() < root._bokeh_timeout) {\n",
       "      setTimeout(run_inline_js, 100);\n",
       "    } else if (!root._bokeh_failed_load) {\n",
       "      console.log(\"Bokeh: BokehJS failed to load within specified timeout.\");\n",
       "      root._bokeh_failed_load = true;\n",
       "    } else if (force !== true) {\n",
       "      var cell = $(document.getElementById(\"7b440602-6cac-48c0-ab88-b3e9a20901f0\")).parents('.cell').data().cell;\n",
       "      cell.output_area.append_execute_result(NB_LOAD_WARNING)\n",
       "    }\n",
       "\n",
       "  }\n",
       "\n",
       "  if (root._bokeh_is_loading === 0) {\n",
       "    console.log(\"Bokeh: BokehJS loaded, going straight to plotting\");\n",
       "    run_inline_js();\n",
       "  } else {\n",
       "    load_libs(js_urls, function() {\n",
       "      console.log(\"Bokeh: BokehJS plotting callback run at\", now());\n",
       "      run_inline_js();\n",
       "    });\n",
       "  }\n",
       "}(window));"
      ],
      "application/vnd.bokehjs_load.v0+json": "\n(function(root) {\n  function now() {\n    return new Date();\n  }\n\n  var force = true;\n\n  if (typeof (root._bokeh_onload_callbacks) === \"undefined\" || force === true) {\n    root._bokeh_onload_callbacks = [];\n    root._bokeh_is_loading = undefined;\n  }\n\n  \n\n  \n  if (typeof (root._bokeh_timeout) === \"undefined\" || force === true) {\n    root._bokeh_timeout = Date.now() + 5000;\n    root._bokeh_failed_load = false;\n  }\n\n  var NB_LOAD_WARNING = {'data': {'text/html':\n     \"<div style='background-color: #fdd'>\\n\"+\n     \"<p>\\n\"+\n     \"BokehJS does not appear to have successfully loaded. If loading BokehJS from CDN, this \\n\"+\n     \"may be due to a slow or bad network connection. Possible fixes:\\n\"+\n     \"</p>\\n\"+\n     \"<ul>\\n\"+\n     \"<li>re-rerun `output_notebook()` to attempt to load from CDN again, or</li>\\n\"+\n     \"<li>use INLINE resources instead, as so:</li>\\n\"+\n     \"</ul>\\n\"+\n     \"<code>\\n\"+\n     \"from bokeh.resources import INLINE\\n\"+\n     \"output_notebook(resources=INLINE)\\n\"+\n     \"</code>\\n\"+\n     \"</div>\"}};\n\n  function display_loaded() {\n    var el = document.getElementById(\"7b440602-6cac-48c0-ab88-b3e9a20901f0\");\n    if (el != null) {\n      el.textContent = \"BokehJS is loading...\";\n    }\n    if (root.Bokeh !== undefined) {\n      if (el != null) {\n        el.textContent = \"BokehJS \" + root.Bokeh.version + \" successfully loaded.\";\n      }\n    } else if (Date.now() < root._bokeh_timeout) {\n      setTimeout(display_loaded, 100)\n    }\n  }\n\n\n  function run_callbacks() {\n    try {\n      root._bokeh_onload_callbacks.forEach(function(callback) { callback() });\n    }\n    finally {\n      delete root._bokeh_onload_callbacks\n    }\n    console.info(\"Bokeh: all callbacks have finished\");\n  }\n\n  function load_libs(js_urls, callback) {\n    root._bokeh_onload_callbacks.push(callback);\n    if (root._bokeh_is_loading > 0) {\n      console.log(\"Bokeh: BokehJS is being loaded, scheduling callback at\", now());\n      return null;\n    }\n    if (js_urls == null || js_urls.length === 0) {\n      run_callbacks();\n      return null;\n    }\n    console.log(\"Bokeh: BokehJS not loaded, scheduling load and callback at\", now());\n    root._bokeh_is_loading = js_urls.length;\n    for (var i = 0; i < js_urls.length; i++) {\n      var url = js_urls[i];\n      var s = document.createElement('script');\n      s.src = url;\n      s.async = false;\n      s.onreadystatechange = s.onload = function() {\n        root._bokeh_is_loading--;\n        if (root._bokeh_is_loading === 0) {\n          console.log(\"Bokeh: all BokehJS libraries loaded\");\n          run_callbacks()\n        }\n      };\n      s.onerror = function() {\n        console.warn(\"failed to load library \" + url);\n      };\n      console.log(\"Bokeh: injecting script tag for BokehJS library: \", url);\n      document.getElementsByTagName(\"head\")[0].appendChild(s);\n    }\n  };var element = document.getElementById(\"7b440602-6cac-48c0-ab88-b3e9a20901f0\");\n  if (element == null) {\n    console.log(\"Bokeh: ERROR: autoload.js configured with elementid '7b440602-6cac-48c0-ab88-b3e9a20901f0' but no matching script tag was found. \")\n    return false;\n  }\n\n  var js_urls = [\"https://cdn.pydata.org/bokeh/release/bokeh-0.12.14.min.js\", \"https://cdn.pydata.org/bokeh/release/bokeh-widgets-0.12.14.min.js\", \"https://cdn.pydata.org/bokeh/release/bokeh-tables-0.12.14.min.js\", \"https://cdn.pydata.org/bokeh/release/bokeh-gl-0.12.14.min.js\"];\n\n  var inline_js = [\n    function(Bokeh) {\n      Bokeh.set_log_level(\"info\");\n    },\n    \n    function(Bokeh) {\n      \n    },\n    function(Bokeh) {\n      console.log(\"Bokeh: injecting CSS: https://cdn.pydata.org/bokeh/release/bokeh-0.12.14.min.css\");\n      Bokeh.embed.inject_css(\"https://cdn.pydata.org/bokeh/release/bokeh-0.12.14.min.css\");\n      console.log(\"Bokeh: injecting CSS: https://cdn.pydata.org/bokeh/release/bokeh-widgets-0.12.14.min.css\");\n      Bokeh.embed.inject_css(\"https://cdn.pydata.org/bokeh/release/bokeh-widgets-0.12.14.min.css\");\n      console.log(\"Bokeh: injecting CSS: https://cdn.pydata.org/bokeh/release/bokeh-tables-0.12.14.min.css\");\n      Bokeh.embed.inject_css(\"https://cdn.pydata.org/bokeh/release/bokeh-tables-0.12.14.min.css\");\n    }\n  ];\n\n  function run_inline_js() {\n    \n    if ((root.Bokeh !== undefined) || (force === true)) {\n      for (var i = 0; i < inline_js.length; i++) {\n        inline_js[i].call(root, root.Bokeh);\n      }if (force === true) {\n        display_loaded();\n      }} else if (Date.now() < root._bokeh_timeout) {\n      setTimeout(run_inline_js, 100);\n    } else if (!root._bokeh_failed_load) {\n      console.log(\"Bokeh: BokehJS failed to load within specified timeout.\");\n      root._bokeh_failed_load = true;\n    } else if (force !== true) {\n      var cell = $(document.getElementById(\"7b440602-6cac-48c0-ab88-b3e9a20901f0\")).parents('.cell').data().cell;\n      cell.output_area.append_execute_result(NB_LOAD_WARNING)\n    }\n\n  }\n\n  if (root._bokeh_is_loading === 0) {\n    console.log(\"Bokeh: BokehJS loaded, going straight to plotting\");\n    run_inline_js();\n  } else {\n    load_libs(js_urls, function() {\n      console.log(\"Bokeh: BokehJS plotting callback run at\", now());\n      run_inline_js();\n    });\n  }\n}(window));"
     },
     "metadata": {},
     "output_type": "display_data"
    }
   ],
   "source": [
    "output_notebook()"
   ]
  },
  {
   "cell_type": "code",
   "execution_count": 8,
   "metadata": {
    "collapsed": true
   },
   "outputs": [],
   "source": [
    "def fmt_cool(ds_in):\n",
    "    ds = ds_in.copy(deep=True)\n",
    "    if 'igg' in ds.dims:\n",
    "        ds = ds.sel(igg=1)\n",
    "\n",
    "    if 'g' in ds.dims:\n",
    "        ds = ds.sum('g')\n",
    "            \n",
    "    if 'band' in ds.dims:\n",
    "        try:\n",
    "            ds = ds.squeeze('band')\n",
    "        except ValueError:\n",
    "            ds = ds.sum('band')\n",
    "                \n",
    "    return ds['coolrg']\n",
    "\n",
    "\n",
    "def pltdata_cooling_1(ds_cool=None,\n",
    "                      ds_cool_crd=None, ds_cool_wgt=None):\n",
    "    \n",
    "\n",
    "\n",
    "    colors = all_palettes['Set1'][4]\n",
    "    data = [{'label': 'CLIRAD `coolr_bands`',\n",
    "             'srs': fmt_cool(ds_cool),\n",
    "             'line_dash': 'dashed', 'line_width': 5,\n",
    "             'color': colors[0], 'alpha': .6},\n",
    "            {'label': 'CRD',\n",
    "             'srs': fmt_cool(ds_cool_crd),\n",
    "             'line_dash': 'solid', 'line_width': 1.5,\n",
    "             'marker': 'circle', 'marker_size': 5,\n",
    "             'color': colors[2], 'alpha': 1,},\n",
    "            {'label': 'WGT igg=10 wgt_flux=2',\n",
    "             'srs': fmt_cool(ds_cool_wgt),\n",
    "             'line_dash': 'solid', 'line_width': 3,\n",
    "             'marker': 'square', 'marker_size': 5,\n",
    "             'color': colors[3], 'alpha': .6}]\n",
    "    return data\n",
    "\n",
    "\n",
    "def nice_xlims(pltdata=None, prange=None):\n",
    "    \n",
    "    def get_slice(srs):\n",
    "        return srs.sel(pressure=slice(*prange))\n",
    "    \n",
    "    srss = [d['srs'] for d in pltdata]\n",
    "    vmin = min([get_slice(srs).min() for srs in srss])\n",
    "    vmax = max([get_slice(srs).max() for srs in srss])\n",
    "    dv = (vmax - vmin) * .01\n",
    "    return float(vmin - dv), float(vmax + dv)\n",
    "    \n",
    "\n",
    "def plt_cooling_bokeh(pltdata=None):\n",
    "    '''\n",
    "    Plot a list of cooling rate profiles using bokeh.\n",
    "    '''\n",
    "    ymin = 1e-2 \n",
    "    ymax = 1020 \n",
    "        \n",
    "    p1 = figure(title=\"Linear pressure scale\", \n",
    "                plot_width=400)        \n",
    "    xmin, xmax = nice_xlims(pltdata, prange=(50, 1050))\n",
    "    for d in pltdata:\n",
    "        if 'marker' in d:\n",
    "            getattr(p1, d['marker'])(d['srs'].values, \n",
    "                    d['srs'].coords['pressure'].values,\n",
    "                    color=d['color'], alpha=.7)\n",
    "        p1.line(d['srs'].values, \n",
    "                d['srs'].coords['pressure'].values,\n",
    "                color=d['color'], alpha=d['alpha'], \n",
    "                line_width=d['line_width'], line_dash=d['line_dash'])\n",
    "    \n",
    "    p1.y_range = Range1d(ymax, ymin)\n",
    "    p1.yaxis.axis_label = 'pressure [mb]'   \n",
    "    p1.x_range = Range1d(xmin, xmax)\n",
    "    p1.xaxis.axis_label = 'cooling rate [K/day]'\n",
    "            \n",
    "    p2 = figure(title='Log pressure scale', y_axis_type='log',\n",
    "                plot_width=560)\n",
    "    xmin, xmax = nice_xlims(pltdata, prange=(.01, 200))\n",
    "    \n",
    "    rs = []\n",
    "    for d in pltdata:\n",
    "        rd = []\n",
    "        if 'marker' in d:\n",
    "            r_mark = getattr(p2, d['marker'])(d['srs'].values, \n",
    "                        d['srs'].coords['pressure'].values,\n",
    "                        color=d['color'], alpha=.7)\n",
    "            rd.append(r_mark)\n",
    "        r_line = p2.line(d['srs'].values, \n",
    "                    d['srs'].coords['pressure'].values,\n",
    "                    color=d['color'], alpha=d['alpha'], \n",
    "                    line_width=d['line_width'], line_dash=d['line_dash'])\n",
    "        rd.append(r_line)\n",
    "      \n",
    "        rs.append(rd)\n",
    "        \n",
    "    p2.y_range = Range1d(ymax, ymin)  \n",
    "    p2.yaxis.axis_label = 'pressure [mb]'\n",
    "    \n",
    "    p2.x_range = Range1d(xmin, xmax)\n",
    "    p2.xaxis.axis_label = 'cooling rate [K/day]'\n",
    "    \n",
    "    items = [(d['label'], r) for r, d in zip(rs, pltdata)]\n",
    "    legend = Legend(items=items, location=(10, -30))\n",
    "    legend.label_text_font_size = '8pt'\n",
    "    \n",
    "    p2.add_layout(legend, 'right')  \n",
    "    \n",
    "    show(gridplot(p1, p2, ncols=2, plot_height=500))\n",
    "    \n",
    "\n",
    "def script_plt_cooling():\n",
    "    pltdata = pltdata_cooling_1(\n",
    "        ds_cool=DS_COOL,\n",
    "        ds_cool_crd=DS_COOL_CRD,\n",
    "        ds_cool_wgt=DS_COOL_WGT)\n",
    "    plt_cooling_bokeh(pltdata=pltdata)\n",
    "    print('''FIGURE. Cooling rate profiles.''')"
   ]
  },
  {
   "cell_type": "code",
   "execution_count": 9,
   "metadata": {
    "collapsed": true
   },
   "outputs": [],
   "source": [
    "def fmt_flux(ds_in):\n",
    "    ds = ds_in.copy(deep=True)\n",
    "    \n",
    "    for l in ('level', 'layer'):\n",
    "        if l in ds.data_vars:\n",
    "            if len(ds[l].dims) > 1:\n",
    "                surface = {d: 0 for d in ds.dims if d != 'pressure'}\n",
    "                coord_level = ds[l][surface]\n",
    "                ds.coords[l] = ('pressure', coord_level)\n",
    "            else:\n",
    "                ds.coords[l] = ('pressure', ds[l])\n",
    "        \n",
    "    ds = ds.isel(pressure=[0, 23, -1])\n",
    "        \n",
    "    if 'igg' in ds.dims:\n",
    "        ds = ds.sel(igg=[1])\n",
    "        ds = ds.squeeze('igg').drop('igg')\n",
    "    \n",
    "    if 'g' in ds.dims:\n",
    "        ds = ds.sum('g')\n",
    "            \n",
    "    if 'band' in ds.dims:\n",
    "        try:\n",
    "            ds = ds.squeeze('band').drop('band')\n",
    "        except ValueError:\n",
    "            ds = ds.sum('band')\n",
    "                \n",
    "    df = ds.to_dataframe()\n",
    "    df = df.set_index('level', append=True)               \n",
    "    return df\n",
    "\n",
    "\n",
    "def tbdata_flux(ds_flux=None, ds_flux_crd=None, ds_flux_wgt=None):\n",
    "    ilevels = [0, 23, -1]\n",
    "            \n",
    "    benchmark = {'label': 'WGT igg=10 wgt_flux=1',\n",
    "                 'df': fmt_flux(ds_flux_wgt)}\n",
    "    \n",
    "    tbs = [{'label': 'CRD',\n",
    "            'df': fmt_flux(ds_flux_crd)},\n",
    "           {'label': 'CLIRAD',\n",
    "            'df': fmt_flux(ds_flux)}]\n",
    "    \n",
    "    data = {'benchmark': benchmark, 'others': tbs}\n",
    "    return data\n",
    "\n",
    "\n",
    "def tb_flux(tbdata=None):\n",
    "    benchmark = tbdata['benchmark']\n",
    "    others = tbdata['others']\n",
    "    \n",
    "    def show_tb(d=None):\n",
    "        display.display(d['df'])\n",
    "        print('Table.', 'Fluxes.', d['label'])\n",
    "        \n",
    "    def show_tbdiff(d0=None, d=None):\n",
    "        df = d['df']\n",
    "        df.index = d0['df'].index\n",
    "        display.display(df - d0['df'])\n",
    "        print('Table.', 'Fluxes.', \n",
    "              '({}) - ({})'.format(d['label'], d0['label']))\n",
    "        \n",
    "    show_tb(benchmark)\n",
    "    for d in others:\n",
    "        show_tb(d)\n",
    "        \n",
    "    for d in others:\n",
    "        show_tbdiff(d=d, d0=benchmark)\n",
    "        \n",
    "        \n",
    "def script_tb_flux():\n",
    "    data = tbdata_flux(ds_flux=DS_FLUX,\n",
    "                       ds_flux_crd=DS_FLUX_CRD,\n",
    "                       ds_flux_wgt=DS_FLUX_WGT)\n",
    "    tb_flux(tbdata=data)"
   ]
  },
  {
   "cell_type": "code",
   "execution_count": 10,
   "metadata": {
    "collapsed": true
   },
   "outputs": [],
   "source": [
    "def band_map():\n",
    "    '''\n",
    "    Maps spectral bands in lblnew to spectral bands in clirad.\n",
    "    '''\n",
    "    lblnew2clirad = {'1': '1',\n",
    "            '2': '2',\n",
    "            '3a': '3',\n",
    "            '3b': '4',\n",
    "            '3c': '5',\n",
    "            '4': '6', \n",
    "            '5': '7',\n",
    "            '6': '8',\n",
    "            '7': '9', \n",
    "            '8': '10',\n",
    "            '9': '11'}\n",
    "    \n",
    "    clirad2lblnew = {clirad: lblnew \n",
    "                     for lblnew, clirad in lblnew2clirad.items()}\n",
    "    return clirad2lblnew\n",
    "\n",
    "\n",
    "def gasbands():\n",
    "    bmap = band_map()\n",
    "    gases = list(PARAM['molecule'].keys())\n",
    "    \n",
    "    bands = [bmap[str(b)] for b in PARAM['band']]\n",
    "    return list(itertools.product(gases, bands))\n",
    "\n",
    "\n",
    "def print_bestfit_params():\n",
    "    print('Best-fit values for each (gas, band)')\n",
    "    print('------------------------------------')\n",
    "    for gas, band in gasbands():\n",
    "        print('o {} band{}'.format(gas, band))\n",
    "        param = bestfits.kdist_params(molecule=gas, band=band)\n",
    "        for name, value in sorted(param.items()):\n",
    "            print(2 * ' ' + '{} = {}'.format(name, value))\n",
    "\n",
    "        \n",
    "def print_input_param():        \n",
    "    for name, value in PARAM.items():\n",
    "        print('{} = {}'.format(name, value))\n",
    "        \n",
    "        \n",
    "def print_lblnew_param():\n",
    "    for name, value in sorted(PARAM_LBLNEW.items()):\n",
    "        print('{} = {}'.format(name, value))\n"
   ]
  },
  {
   "cell_type": "code",
   "execution_count": 11,
   "metadata": {
    "collapsed": true,
    "scrolled": false
   },
   "outputs": [],
   "source": [
    "def show_html(s):\n",
    "    display.display(display.HTML(s))\n",
    "\n",
    "    \n",
    "def show_markdown(s):\n",
    "    display.display(display.Markdown(s))\n",
    "\n",
    "    \n",
    "def script():\n",
    "    \n",
    "    title = '### CLIRAD-LW'\n",
    "    s_input = 'Input Parameters'\n",
    "    s_lblnew_param = 'LBLNEW case compaired against'\n",
    "    s_bestfits = 'Best-fit Parameters'\n",
    "    s_plt_cooling = 'Cooling Rate Profiles'\n",
    "    s_tb_flux = 'Flux Comparison'\n",
    "    \n",
    "    # title\n",
    "    show_markdown('### CLIRAD-LW')\n",
    "    \n",
    "    # TOC\n",
    "    show_markdown('### Table of Contents')\n",
    "    show_html(climahtml.getHTML_hrefanchor(s_input))\n",
    "    show_html(climahtml.getHTML_hrefanchor(s_lblnew_param))\n",
    "    show_html(climahtml.getHTML_hrefanchor(s_plt_cooling))\n",
    "    show_html(climahtml.getHTML_hrefanchor(s_tb_flux))\n",
    "    show_html(climahtml.getHTML_hrefanchor(s_bestfits))\n",
    "    \n",
    "    # Input parameters\n",
    "    show_html(climahtml.getHTML_idanchor(s_input))\n",
    "    show_markdown(climahtml.getMarkdown_sectitle(s_input))\n",
    "    print_input_param()\n",
    "    \n",
    "    # LBLNEW parameters \n",
    "    show_html(climahtml.getHTML_idanchor(s_lblnew_param))\n",
    "    show_markdown(climahtml.getMarkdown_sectitle(s_lblnew_param))\n",
    "    print_lblnew_param()\n",
    "    \n",
    "    # Cooling rate profiles\n",
    "    show_html(climahtml.getHTML_idanchor(s_plt_cooling))\n",
    "    show_markdown(climahtml.getMarkdown_sectitle(s_plt_cooling))\n",
    "    script_plt_cooling()\n",
    "    \n",
    "    # Flux comparison\n",
    "    show_html(climahtml.getHTML_idanchor(s_tb_flux))\n",
    "    show_markdown(climahtml.getMarkdown_sectitle(s_tb_flux))\n",
    "    script_tb_flux()\n",
    "    \n",
    "    # Best-fit values\n",
    "    show_html(climahtml.getHTML_idanchor(s_bestfits))\n",
    "    show_markdown(climahtml.getMarkdown_sectitle(s_bestfits))\n",
    "    print_bestfit_params()\n",
    "   \n",
    "    "
   ]
  },
  {
   "cell_type": "code",
   "execution_count": 12,
   "metadata": {
    "collapsed": true,
    "scrolled": false
   },
   "outputs": [
    {
     "data": {
      "text/markdown": [
       "### CLIRAD-LW"
      ],
      "text/plain": [
       "<IPython.core.display.Markdown object>"
      ]
     },
     "metadata": {},
     "output_type": "display_data"
    },
    {
     "data": {
      "text/markdown": [
       "### Table of Contents"
      ],
      "text/plain": [
       "<IPython.core.display.Markdown object>"
      ]
     },
     "metadata": {},
     "output_type": "display_data"
    },
    {
     "data": {
      "text/html": [
       "<a href=\"#Input_Parameters\">Input Parameters</a>"
      ],
      "text/plain": [
       "<IPython.core.display.HTML object>"
      ]
     },
     "metadata": {},
     "output_type": "display_data"
    },
    {
     "data": {
      "text/html": [
       "<a href=\"#LBLNEW_case_compaired_against\">LBLNEW case compaired against</a>"
      ],
      "text/plain": [
       "<IPython.core.display.HTML object>"
      ]
     },
     "metadata": {},
     "output_type": "display_data"
    },
    {
     "data": {
      "text/html": [
       "<a href=\"#Cooling_Rate_Profiles\">Cooling Rate Profiles</a>"
      ],
      "text/plain": [
       "<IPython.core.display.HTML object>"
      ]
     },
     "metadata": {},
     "output_type": "display_data"
    },
    {
     "data": {
      "text/html": [
       "<a href=\"#Flux_Comparison\">Flux Comparison</a>"
      ],
      "text/plain": [
       "<IPython.core.display.HTML object>"
      ]
     },
     "metadata": {},
     "output_type": "display_data"
    },
    {
     "data": {
      "text/html": [
       "<a href=\"#Best-fit_Parameters\">Best-fit Parameters</a>"
      ],
      "text/plain": [
       "<IPython.core.display.HTML object>"
      ]
     },
     "metadata": {},
     "output_type": "display_data"
    },
    {
     "data": {
      "text/html": [
       "<a id=\"Input_Parameters\"></a>"
      ],
      "text/plain": [
       "<IPython.core.display.HTML object>"
      ]
     },
     "metadata": {},
     "output_type": "display_data"
    },
    {
     "data": {
      "text/markdown": [
       "# Input Parameters"
      ],
      "text/plain": [
       "<IPython.core.display.Markdown object>"
      ]
     },
     "metadata": {},
     "output_type": "display_data"
    },
    {
     "name": "stdout",
     "output_type": "stream",
     "text": [
      "atmpro = trp\n",
      "band = [3]\n",
      "commitnumber = 0c003ef\n",
      "molecule = {'co2': 0.0004, 'h2o': 'atmpro', 'n2o': 3.2e-07}\n",
      "tsfc = 300\n"
     ]
    },
    {
     "data": {
      "text/html": [
       "<a id=\"LBLNEW_case_compaired_against\"></a>"
      ],
      "text/plain": [
       "<IPython.core.display.HTML object>"
      ]
     },
     "metadata": {},
     "output_type": "display_data"
    },
    {
     "data": {
      "text/markdown": [
       "# LBLNEW case compaired against"
      ],
      "text/plain": [
       "<IPython.core.display.Markdown object>"
      ]
     },
     "metadata": {},
     "output_type": "display_data"
    },
    {
     "name": "stdout",
     "output_type": "stream",
     "text": [
      "atmpro = trp\n",
      "band = 3a\n",
      "commitnumber = 5014a19\n",
      "dv = 0.01\n",
      "molecule = {'co2': 0.0004, 'h2o': 'atmpro', 'n2o': 3.2e-07}\n",
      "nv = 100\n",
      "tsfc = 300\n"
     ]
    },
    {
     "data": {
      "text/html": [
       "<a id=\"Cooling_Rate_Profiles\"></a>"
      ],
      "text/plain": [
       "<IPython.core.display.HTML object>"
      ]
     },
     "metadata": {},
     "output_type": "display_data"
    },
    {
     "data": {
      "text/markdown": [
       "# Cooling Rate Profiles"
      ],
      "text/plain": [
       "<IPython.core.display.Markdown object>"
      ]
     },
     "metadata": {},
     "output_type": "display_data"
    },
    {
     "data": {
      "text/html": [
       "\n",
       "<div class=\"bk-root\">\n",
       "    <div class=\"bk-plotdiv\" id=\"dbab117e-1194-4aa1-80f1-bf8b637e8a6f\"></div>\n",
       "</div>"
      ]
     },
     "metadata": {},
     "output_type": "display_data"
    },
    {
     "data": {
      "application/javascript": [
       "(function(root) {\n",
       "  function embed_document(root) {\n",
       "    \n",
       "  var docs_json = {\"f6e9de6e-fadf-4af8-9ba8-d227ce292282\":{\"roots\":{\"references\":[{\"attributes\":{\"label\":{\"value\":\"CLIRAD `coolr_bands`\"},\"renderers\":[{\"id\":\"7803bb06-23cb-4767-b4f2-724e6d2f9ba3\",\"type\":\"GlyphRenderer\"}]},\"id\":\"a5f9deda-5213-4044-a6e5-bafae53bbbed\",\"type\":\"LegendItem\"},{\"attributes\":{\"line_color\":\"#4daf4a\",\"line_width\":1.5,\"x\":{\"field\":\"x\"},\"y\":{\"field\":\"y\"}},\"id\":\"14afa215-295d-418e-91b1-b94f7ff035d1\",\"type\":\"Line\"},{\"attributes\":{\"fill_alpha\":{\"value\":0.7},\"fill_color\":{\"value\":\"#984ea3\"},\"line_alpha\":{\"value\":0.7},\"line_color\":{\"value\":\"#984ea3\"},\"x\":{\"field\":\"x\"},\"y\":{\"field\":\"y\"}},\"id\":\"d9144402-021a-40fc-96d3-a26866b2832c\",\"type\":\"Square\"},{\"attributes\":{\"data_source\":{\"id\":\"ea4890ea-db87-4e65-87ba-1e702f55d753\",\"type\":\"ColumnDataSource\"},\"glyph\":{\"id\":\"b28279f6-032d-4245-9afd-914f05cda1ff\",\"type\":\"Line\"},\"hover_glyph\":null,\"muted_glyph\":null,\"nonselection_glyph\":{\"id\":\"ae50607c-d09f-40e5-b92e-25a1c9c128f3\",\"type\":\"Line\"},\"selection_glyph\":null,\"view\":{\"id\":\"93c59609-80cf-4140-be52-9eb511f99923\",\"type\":\"CDSView\"}},\"id\":\"7d2ba261-b71e-4e21-b9f3-ddff5658625c\",\"type\":\"GlyphRenderer\"},{\"attributes\":{\"data_source\":{\"id\":\"03fdfa54-d4a0-4554-8c5f-eb7281338bf7\",\"type\":\"ColumnDataSource\"},\"glyph\":{\"id\":\"14afa215-295d-418e-91b1-b94f7ff035d1\",\"type\":\"Line\"},\"hover_glyph\":null,\"muted_glyph\":null,\"nonselection_glyph\":{\"id\":\"45089dcc-0fb4-4ead-878d-ccc59fc7055a\",\"type\":\"Line\"},\"selection_glyph\":null,\"view\":{\"id\":\"ad0745a2-5ae6-430b-9a40-1c49668e68a2\",\"type\":\"CDSView\"}},\"id\":\"e6bdc460-c386-4481-ba6e-706c99727367\",\"type\":\"GlyphRenderer\"},{\"attributes\":{},\"id\":\"5be19254-af62-4173-89b5-2fd9c2aeb8d5\",\"type\":\"BasicTickFormatter\"},{\"attributes\":{\"callback\":null,\"column_names\":[\"x\",\"y\"],\"data\":{\"x\":{\"__ndarray__\":\"imo60H1Y1T854Kk27oPVP/ycim21O9Y/VwWLP2H71j/9/FKaKJ3XPzRf63MxHdg/yegd+jBz2D84OnwMNY7YP39duDm2Wtg/NAowyVTD1z83O+9SLK/WP2v23QB1+9Q/9MdRDNKE0j8g07kmzbTOP/UmTDnbs8w/9Q8iGXLs0D+fQqZjawnUP+r+uYFlGdY/qk9JCBzq1z9Xi3iAYRjbP9jKtpkr3+A/bkFC1ks65j/uhCxF0efnPzpjb5SCj+U/pZJsO46b4j/pU56rc23eP9u3QYqN+9g/geAabY+91D86LwTvmgbRP0FwS5r1GMs/T2a0PKzDxD+iNAZjZbC+Pxql9f7Z67U/K/C1ak6Trz9THqNdAVygP/wGQPlPAHO/H1nkyuWunb+BtEuQG8KYv/i1qrN+3Ve/UrDOSr0bjT9jr6D+7ZGdP2f1IpsqZqc/5wKm8sfLsD+3fRjsSYq2P93kfT3berw/8RQwicw/wT+Tq3kKkFPEPzMPqh56HMc/AGSVkBfryD+ta5MO//7KPxeLtpUkcM0/PlHhIe8J0D8MTDzaF1TRP2IYqHPiftI/TLzqnsiV0z8GQKIqIprUP9ZPYoSujNU/gxMTzH9l1j8e7U1GdBPXP8bP82VxmNc/3nBh1Qfv1z8919bTN/7XP6Q4BQFLkdc/b4HjtqaO1z9htvD+cD7WP+ali+KPQdQ/y5O1l34T0j/wAvyF5AXPP1B1I4fj1Mo/Vyhv0+GZxz8dIDV5DAfFP9rIlmGzDsM/Bpd1nC7NwT+3CsXKJsjBP/wKiP8qdsg/\",\"dtype\":\"float64\",\"shape\":[75]},\"y\":{\"__ndarray__\":\"GhExyth1ND/Sv8nbtpRIP2vylNV0PVE/aTum7souWD/At0SJ8fVgPw3Iuahxymc/MSNhhJWvcD/bTfBN02d3P2zb5nxnaoA/CD5h5MAGhz8NmeH1TyaQP+zrCsc9p5Y/LbKd76fGnz/bLW5ISEmmPww9YvTcQq8/JV2OstnstT8Er5Y7M8G+P0c+r3jqkcU/5h99k6ZBzj88bCIzFzjVP4enV8oyxN0//yH99nXg5D8qOpLLf0jtP5kqGJXUifQ/c9cS8kHP/D+/DpwzojQEQIEmwoanVwxA4lgXt9HgE0BSSZ2AJuIbQAMJih9jjiNA5q4l5INuK0AwTKYKRj0zQNv5fmq8/DpAaCJseHrtQkB/+zpwzoxKQM3MzMzMeFJAZmZmZmZqWEAAAAAAAFxeQM3MzMzMJmJAmpmZmZkfZUBmZmZmZhhoQDMzMzMzEWtAAAAAAAAKbkBmZmZmZoFwQM3MzMzM/XFAMzMzMzN6c0CamZmZmfZ0QAAAAAAAc3ZAZmZmZmbvd0DNzMzMzGt5QDMzMzMz6HpAmpmZmZlkfEAAAAAAAOF9QGZmZmZmXX9AZmZmZuZsgECamZmZGSuBQM3MzMxM6YFAAAAAAICngkAzMzMzs2WDQGZmZmbmI4RAmpmZmRnihEDNzMzMTKCFQAAAAACAXoZAMzMzM7Mch0BmZmZm5tqHQJqZmZkZmYhAzczMzExXiUAAAAAAgBWKQDMzMzOz04pAZmZmZuaRi0CamZmZGVCMQM3MzMxMDo1AAAAAAIDMjUAzMzMzs4qOQGZmZmbmSI9A\",\"dtype\":\"float64\",\"shape\":[75]}}},\"id\":\"07df3541-adef-4a0d-aa0c-f7898fe0a4a0\",\"type\":\"ColumnDataSource\"},{\"attributes\":{\"line_alpha\":0.1,\"line_color\":\"#1f77b4\",\"line_width\":1.5,\"x\":{\"field\":\"x\"},\"y\":{\"field\":\"y\"}},\"id\":\"45089dcc-0fb4-4ead-878d-ccc59fc7055a\",\"type\":\"Line\"},{\"attributes\":{\"callback\":null,\"column_names\":[\"x\",\"y\"],\"data\":{\"x\":{\"__ndarray__\":\"0PuUnV3C2j9jEmiPm4raP8x313ZmRNs/Ypkj0AXa2z9NPX+YjDzcPybWFI5BY9w/6K0uZegx3D/s5EZwp53bP7J8ZfdHjNo/dTHV5ffq2D9t5m/GWabWP/lCjs51sdM/6wpLdkv2zz8NKOX/n1THP6JR7C5x4MM/03+9X1jAyD8A/Pjw0QfQPxghfvYKqNM/e7zzOMoJ2D8L+Mr2AOHdP+Upac2oHOM/4UqwF46w6D+ohXksCdLpP7gkYqXdo+Y/qKv5+Qgf4z84GdFNzSveP0n/Pwx8Xtc/2MTZ358z0j/jZXarIdDMP2NdgY2QJsc/ZnlHW89vwj+iDgrOCW+8P04v+euKI7U/dAU5+ii7rj/XepsLF0qeP1Fu7ZFF0nm/9LOYpYu3nb+m3IcAA+iZvzYiSWXSM3W/LaZOznRZgj+sVe4XSUGXP8AfDKmTTaQ/b5HmVb7jrj8P/nt5zIO1P73HVwqa+bs/YG6cuSxLwT+8MIj+v6DEP8CbyZKUz8c/osCvTwg2yj+g7LmOadTMP8yENmu2k88/86dTP+sx0T/7by2sfpnSP92Qb4R/8NM/ZGZVOg4y1T/8kDMkWU3WP9bbbpsMO9c/Imz8skn41z8dtmd19n7YP1PktbcA2dg/ol0q2ywD2T9WVC+FKNvYPxL3eQi6KNg/fqag09rR1z/ahlmBhBXWP/zydkK3sNM/DZTKyuU10T+CGfj2UwjNP5I+zrAo18g/5fmhDDSjxT+vqNJgZBPDP1gmssUkEsE/dGWrJuNzvz9aZUOKQy6/P/+xMSvracY/\",\"dtype\":\"float64\",\"shape\":[75]},\"y\":{\"__ndarray__\":\"GhExyth1ND/Sv8nbtpRIP2vylNV0PVE/aTum7souWD/At0SJ8fVgPw3Iuahxymc/MSNhhJWvcD/bTfBN02d3P2zb5nxnaoA/CD5h5MAGhz8NmeH1TyaQP+zrCsc9p5Y/LbKd76fGnz/bLW5ISEmmPww9YvTcQq8/JV2OstnstT8Er5Y7M8G+P0c+r3jqkcU/5h99k6ZBzj88bCIzFzjVP4enV8oyxN0//yH99nXg5D8qOpLLf0jtP5kqGJXUifQ/c9cS8kHP/D+/DpwzojQEQIEmwoanVwxA4lgXt9HgE0BSSZ2AJuIbQAMJih9jjiNA5q4l5INuK0AwTKYKRj0zQNv5fmq8/DpAaCJseHrtQkB/+zpwzoxKQM3MzMzMeFJAZmZmZmZqWEAAAAAAAFxeQM3MzMzMJmJAmpmZmZkfZUBmZmZmZhhoQDMzMzMzEWtAAAAAAAAKbkBmZmZmZoFwQM3MzMzM/XFAMzMzMzN6c0CamZmZmfZ0QAAAAAAAc3ZAZmZmZmbvd0DNzMzMzGt5QDMzMzMz6HpAmpmZmZlkfEAAAAAAAOF9QGZmZmZmXX9AZmZmZuZsgECamZmZGSuBQM3MzMxM6YFAAAAAAICngkAzMzMzs2WDQGZmZmbmI4RAmpmZmRnihEDNzMzMTKCFQAAAAACAXoZAMzMzM7Mch0BmZmZm5tqHQJqZmZkZmYhAzczMzExXiUAAAAAAgBWKQDMzMzOz04pAZmZmZuaRi0CamZmZGVCMQM3MzMxMDo1AAAAAAIDMjUAzMzMzs4qOQGZmZmbmSI9A\",\"dtype\":\"float64\",\"shape\":[75]}}},\"id\":\"03fdfa54-d4a0-4554-8c5f-eb7281338bf7\",\"type\":\"ColumnDataSource\"},{\"attributes\":{\"source\":{\"id\":\"03fdfa54-d4a0-4554-8c5f-eb7281338bf7\",\"type\":\"ColumnDataSource\"}},\"id\":\"ad0745a2-5ae6-430b-9a40-1c49668e68a2\",\"type\":\"CDSView\"},{\"attributes\":{\"plot\":null,\"text\":\"Log pressure scale\"},\"id\":\"89c46b47-91db-4fb1-8d7a-8e5983f2641f\",\"type\":\"Title\"},{\"attributes\":{\"source\":{\"id\":\"9bb751cd-1ab7-420d-87a2-98e1656f7bbc\",\"type\":\"ColumnDataSource\"}},\"id\":\"b4efea7c-b843-4192-ab95-f56bad1b5e0a\",\"type\":\"CDSView\"},{\"attributes\":{},\"id\":\"7fc678e9-0275-47ef-8ec1-d561127ffb69\",\"type\":\"LinearScale\"},{\"attributes\":{\"fill_alpha\":{\"value\":0.1},\"fill_color\":{\"value\":\"#1f77b4\"},\"line_alpha\":{\"value\":0.1},\"line_color\":{\"value\":\"#1f77b4\"},\"x\":{\"field\":\"x\"},\"y\":{\"field\":\"y\"}},\"id\":\"556d9537-f0d5-4845-8d37-0b61115708eb\",\"type\":\"Square\"},{\"attributes\":{\"fill_alpha\":{\"value\":0.1},\"fill_color\":{\"value\":\"#1f77b4\"},\"line_alpha\":{\"value\":0.1},\"line_color\":{\"value\":\"#1f77b4\"},\"x\":{\"field\":\"x\"},\"y\":{\"field\":\"y\"}},\"id\":\"6c968e98-1d6f-4877-b175-8ff9cda897ca\",\"type\":\"Square\"},{\"attributes\":{\"below\":[{\"id\":\"110bdd11-8b93-496e-9e0a-154fda4113b1\",\"type\":\"LinearAxis\"}],\"left\":[{\"id\":\"207706c6-874e-4d36-b0ca-3bcdea08cd7c\",\"type\":\"LogAxis\"}],\"plot_height\":500,\"plot_width\":560,\"renderers\":[{\"id\":\"110bdd11-8b93-496e-9e0a-154fda4113b1\",\"type\":\"LinearAxis\"},{\"id\":\"fc1fc075-32ab-4c3c-9a5a-6428f0bfb85d\",\"type\":\"Grid\"},{\"id\":\"207706c6-874e-4d36-b0ca-3bcdea08cd7c\",\"type\":\"LogAxis\"},{\"id\":\"f7ea816e-f98d-43cf-9cc8-a5b7065c7dcf\",\"type\":\"Grid\"},{\"id\":\"a1796928-b211-4653-b445-2709f7010159\",\"type\":\"BoxAnnotation\"},{\"id\":\"7803bb06-23cb-4767-b4f2-724e6d2f9ba3\",\"type\":\"GlyphRenderer\"},{\"id\":\"24b9f92c-6a6b-4d21-80a0-84f693ead863\",\"type\":\"GlyphRenderer\"},{\"id\":\"e6bdc460-c386-4481-ba6e-706c99727367\",\"type\":\"GlyphRenderer\"},{\"id\":\"4643a545-8ece-4214-bed6-b910dbc28c32\",\"type\":\"GlyphRenderer\"},{\"id\":\"e57b7a81-7123-41d2-bb4f-a900396465ef\",\"type\":\"GlyphRenderer\"},{\"id\":\"5d014eb8-5a15-4669-80c0-a483d4ae8f39\",\"type\":\"Legend\"}],\"right\":[{\"id\":\"5d014eb8-5a15-4669-80c0-a483d4ae8f39\",\"type\":\"Legend\"}],\"title\":{\"id\":\"89c46b47-91db-4fb1-8d7a-8e5983f2641f\",\"type\":\"Title\"},\"toolbar\":{\"id\":\"34f37b38-04ea-42c5-a337-211ae9bd4e83\",\"type\":\"Toolbar\"},\"toolbar_location\":null,\"x_range\":{\"id\":\"43963cc5-74d2-4efd-8f26-e8d308f6d61e\",\"type\":\"Range1d\"},\"x_scale\":{\"id\":\"7fc678e9-0275-47ef-8ec1-d561127ffb69\",\"type\":\"LinearScale\"},\"y_range\":{\"id\":\"848014e9-aa8e-4d55-b921-60bb99845c35\",\"type\":\"Range1d\"},\"y_scale\":{\"id\":\"d132272c-b977-44d4-b372-f471ea444ce6\",\"type\":\"LogScale\"}},\"id\":\"2be8f493-6386-45c2-b87d-13d10fb6454c\",\"subtype\":\"Figure\",\"type\":\"Plot\"},{\"attributes\":{\"line_alpha\":0.6,\"line_color\":\"#984ea3\",\"line_width\":3,\"x\":{\"field\":\"x\"},\"y\":{\"field\":\"y\"}},\"id\":\"fb83a55b-d223-4412-aa68-1454e689392c\",\"type\":\"Line\"},{\"attributes\":{},\"id\":\"5e05df2a-ee93-4721-8d56-5e7a9398be3d\",\"type\":\"HelpTool\"},{\"attributes\":{\"data_source\":{\"id\":\"9bb751cd-1ab7-420d-87a2-98e1656f7bbc\",\"type\":\"ColumnDataSource\"},\"glyph\":{\"id\":\"d9144402-021a-40fc-96d3-a26866b2832c\",\"type\":\"Square\"},\"hover_glyph\":null,\"muted_glyph\":null,\"nonselection_glyph\":{\"id\":\"556d9537-f0d5-4845-8d37-0b61115708eb\",\"type\":\"Square\"},\"selection_glyph\":null,\"view\":{\"id\":\"b4efea7c-b843-4192-ab95-f56bad1b5e0a\",\"type\":\"CDSView\"}},\"id\":\"4643a545-8ece-4214-bed6-b910dbc28c32\",\"type\":\"GlyphRenderer\"},{\"attributes\":{\"callback\":null,\"end\":0.81524823623,\"start\":-0.03737957923},\"id\":\"43963cc5-74d2-4efd-8f26-e8d308f6d61e\",\"type\":\"Range1d\"},{\"attributes\":{\"items\":[{\"id\":\"a5f9deda-5213-4044-a6e5-bafae53bbbed\",\"type\":\"LegendItem\"},{\"id\":\"7008a28b-1b75-4961-b5ed-e189a8a63c96\",\"type\":\"LegendItem\"},{\"id\":\"7087c5ae-983a-4572-957d-15ddf6ee1f1f\",\"type\":\"LegendItem\"}],\"label_text_font_size\":{\"value\":\"8pt\"},\"location\":[10,-30],\"plot\":{\"id\":\"2be8f493-6386-45c2-b87d-13d10fb6454c\",\"subtype\":\"Figure\",\"type\":\"Plot\"}},\"id\":\"5d014eb8-5a15-4669-80c0-a483d4ae8f39\",\"type\":\"Legend\"},{\"attributes\":{\"label\":{\"value\":\"WGT igg=10 wgt_flux=2\"},\"renderers\":[{\"id\":\"4643a545-8ece-4214-bed6-b910dbc28c32\",\"type\":\"GlyphRenderer\"},{\"id\":\"e57b7a81-7123-41d2-bb4f-a900396465ef\",\"type\":\"GlyphRenderer\"}]},\"id\":\"7087c5ae-983a-4572-957d-15ddf6ee1f1f\",\"type\":\"LegendItem\"},{\"attributes\":{\"active_drag\":\"auto\",\"active_inspect\":\"auto\",\"active_scroll\":\"auto\",\"active_tap\":\"auto\",\"tools\":[{\"id\":\"e2059191-3c4f-4096-bc98-147cb3e6711b\",\"type\":\"PanTool\"},{\"id\":\"1dfef53c-d9df-4f07-b300-e3858dc27395\",\"type\":\"WheelZoomTool\"},{\"id\":\"c1832954-bc8a-4f68-a2b3-8b5c59d1de67\",\"type\":\"BoxZoomTool\"},{\"id\":\"9a2b0055-442a-493c-b1bb-a663325045f6\",\"type\":\"SaveTool\"},{\"id\":\"af0040b7-c6b0-40e7-80a9-08e7b6d34bb9\",\"type\":\"ResetTool\"},{\"id\":\"5e05df2a-ee93-4721-8d56-5e7a9398be3d\",\"type\":\"HelpTool\"}]},\"id\":\"34f37b38-04ea-42c5-a337-211ae9bd4e83\",\"type\":\"Toolbar\"},{\"attributes\":{\"source\":{\"id\":\"07df3541-adef-4a0d-aa0c-f7898fe0a4a0\",\"type\":\"ColumnDataSource\"}},\"id\":\"35da14f0-17fb-48c3-9a2a-b62bb2684fa2\",\"type\":\"CDSView\"},{\"attributes\":{\"line_alpha\":0.1,\"line_color\":\"#1f77b4\",\"line_width\":3,\"x\":{\"field\":\"x\"},\"y\":{\"field\":\"y\"}},\"id\":\"a72df589-842c-4b8b-9ed0-1e87737306b6\",\"type\":\"Line\"},{\"attributes\":{\"data_source\":{\"id\":\"07df3541-adef-4a0d-aa0c-f7898fe0a4a0\",\"type\":\"ColumnDataSource\"},\"glyph\":{\"id\":\"fb83a55b-d223-4412-aa68-1454e689392c\",\"type\":\"Line\"},\"hover_glyph\":null,\"muted_glyph\":null,\"nonselection_glyph\":{\"id\":\"a72df589-842c-4b8b-9ed0-1e87737306b6\",\"type\":\"Line\"},\"selection_glyph\":null,\"view\":{\"id\":\"35da14f0-17fb-48c3-9a2a-b62bb2684fa2\",\"type\":\"CDSView\"}},\"id\":\"e57b7a81-7123-41d2-bb4f-a900396465ef\",\"type\":\"GlyphRenderer\"},{\"attributes\":{\"children\":[{\"id\":\"fd9bbc27-2e7a-4dcf-9b58-64b53a7d7cd3\",\"type\":\"ToolbarBox\"},{\"id\":\"838fd176-6212-459f-9ff2-b9e2f1cf26f3\",\"type\":\"Column\"}]},\"id\":\"56b36464-159f-47a7-8578-efaf7f1c0d64\",\"type\":\"Column\"},{\"attributes\":{\"fill_alpha\":{\"value\":0.7},\"fill_color\":{\"value\":\"#984ea3\"},\"line_alpha\":{\"value\":0.7},\"line_color\":{\"value\":\"#984ea3\"},\"x\":{\"field\":\"x\"},\"y\":{\"field\":\"y\"}},\"id\":\"49ea21ac-c3a2-4839-a57d-4f4a2a377658\",\"type\":\"Square\"},{\"attributes\":{\"toolbar\":{\"id\":\"a239f2d6-453b-40a3-84c8-c84c9dfc8ea3\",\"type\":\"ProxyToolbar\"},\"toolbar_location\":\"above\"},\"id\":\"fd9bbc27-2e7a-4dcf-9b58-64b53a7d7cd3\",\"type\":\"ToolbarBox\"},{\"attributes\":{\"bottom_units\":\"screen\",\"fill_alpha\":{\"value\":0.5},\"fill_color\":{\"value\":\"lightgrey\"},\"left_units\":\"screen\",\"level\":\"overlay\",\"line_alpha\":{\"value\":1.0},\"line_color\":{\"value\":\"black\"},\"line_dash\":[4,4],\"line_width\":{\"value\":2},\"plot\":null,\"render_mode\":\"css\",\"right_units\":\"screen\",\"top_units\":\"screen\"},\"id\":\"a1796928-b211-4653-b445-2709f7010159\",\"type\":\"BoxAnnotation\"},{\"attributes\":{},\"id\":\"93ba7d87-b7d9-408f-882e-43384e6c9993\",\"type\":\"HelpTool\"},{\"attributes\":{},\"id\":\"1dfef53c-d9df-4f07-b300-e3858dc27395\",\"type\":\"WheelZoomTool\"},{\"attributes\":{\"line_alpha\":0.1,\"line_color\":\"#1f77b4\",\"line_width\":1.5,\"x\":{\"field\":\"x\"},\"y\":{\"field\":\"y\"}},\"id\":\"b54f12e1-5757-41de-849e-5113c000b2d0\",\"type\":\"Line\"},{\"attributes\":{\"overlay\":{\"id\":\"a1796928-b211-4653-b445-2709f7010159\",\"type\":\"BoxAnnotation\"}},\"id\":\"c1832954-bc8a-4f68-a2b3-8b5c59d1de67\",\"type\":\"BoxZoomTool\"},{\"attributes\":{\"plot\":{\"id\":\"4c869173-ec22-4316-a803-027a5fa09caa\",\"subtype\":\"Figure\",\"type\":\"Plot\"},\"ticker\":{\"id\":\"43e2a808-bfa7-428e-9ddf-9c25319fdcb5\",\"type\":\"BasicTicker\"}},\"id\":\"c5630cc4-98c5-45a5-b2a0-39ef0a4a0f1f\",\"type\":\"Grid\"},{\"attributes\":{},\"id\":\"9a2b0055-442a-493c-b1bb-a663325045f6\",\"type\":\"SaveTool\"},{\"attributes\":{},\"id\":\"af0040b7-c6b0-40e7-80a9-08e7b6d34bb9\",\"type\":\"ResetTool\"},{\"attributes\":{\"axis_label\":\"pressure [mb]\",\"formatter\":{\"id\":\"5be19254-af62-4173-89b5-2fd9c2aeb8d5\",\"type\":\"BasicTickFormatter\"},\"plot\":{\"id\":\"4c869173-ec22-4316-a803-027a5fa09caa\",\"subtype\":\"Figure\",\"type\":\"Plot\"},\"ticker\":{\"id\":\"1c1505c7-2f17-429b-b394-3ee375119f51\",\"type\":\"BasicTicker\"}},\"id\":\"90a93936-952e-4a82-a98b-47f8ad658829\",\"type\":\"LinearAxis\"},{\"attributes\":{},\"id\":\"1c1505c7-2f17-429b-b394-3ee375119f51\",\"type\":\"BasicTicker\"},{\"attributes\":{},\"id\":\"e2059191-3c4f-4096-bc98-147cb3e6711b\",\"type\":\"PanTool\"},{\"attributes\":{},\"id\":\"1b49a2b5-685e-4385-ae5f-69aacb70a24b\",\"type\":\"BasicTickFormatter\"},{\"attributes\":{\"label\":{\"value\":\"CRD\"},\"renderers\":[{\"id\":\"24b9f92c-6a6b-4d21-80a0-84f693ead863\",\"type\":\"GlyphRenderer\"},{\"id\":\"e6bdc460-c386-4481-ba6e-706c99727367\",\"type\":\"GlyphRenderer\"}]},\"id\":\"7008a28b-1b75-4961-b5ed-e189a8a63c96\",\"type\":\"LegendItem\"},{\"attributes\":{\"num_minor_ticks\":10},\"id\":\"0f598051-583d-4f27-a587-5749a8c24b84\",\"type\":\"LogTicker\"},{\"attributes\":{\"callback\":null,\"column_names\":[\"x\",\"y\"],\"data\":{\"x\":{\"__ndarray__\":\"0PuUnV3C2j9jEmiPm4raP8x313ZmRNs/Ypkj0AXa2z9NPX+YjDzcPybWFI5BY9w/6K0uZegx3D/s5EZwp53bP7J8ZfdHjNo/dTHV5ffq2D9t5m/GWabWP/lCjs51sdM/6wpLdkv2zz8NKOX/n1THP6JR7C5x4MM/03+9X1jAyD8A/Pjw0QfQPxghfvYKqNM/e7zzOMoJ2D8L+Mr2AOHdP+Upac2oHOM/4UqwF46w6D+ohXksCdLpP7gkYqXdo+Y/qKv5+Qgf4z84GdFNzSveP0n/Pwx8Xtc/2MTZ358z0j/jZXarIdDMP2NdgY2QJsc/ZnlHW89vwj+iDgrOCW+8P04v+euKI7U/dAU5+ii7rj/XepsLF0qeP1Fu7ZFF0nm/9LOYpYu3nb+m3IcAA+iZvzYiSWXSM3W/LaZOznRZgj+sVe4XSUGXP8AfDKmTTaQ/b5HmVb7jrj8P/nt5zIO1P73HVwqa+bs/YG6cuSxLwT+8MIj+v6DEP8CbyZKUz8c/osCvTwg2yj+g7LmOadTMP8yENmu2k88/86dTP+sx0T/7by2sfpnSP92Qb4R/8NM/ZGZVOg4y1T/8kDMkWU3WP9bbbpsMO9c/Imz8skn41z8dtmd19n7YP1PktbcA2dg/ol0q2ywD2T9WVC+FKNvYPxL3eQi6KNg/fqag09rR1z/ahlmBhBXWP/zydkK3sNM/DZTKyuU10T+CGfj2UwjNP5I+zrAo18g/5fmhDDSjxT+vqNJgZBPDP1gmssUkEsE/dGWrJuNzvz9aZUOKQy6/P/+xMSvracY/\",\"dtype\":\"float64\",\"shape\":[75]},\"y\":{\"__ndarray__\":\"GhExyth1ND/Sv8nbtpRIP2vylNV0PVE/aTum7souWD/At0SJ8fVgPw3Iuahxymc/MSNhhJWvcD/bTfBN02d3P2zb5nxnaoA/CD5h5MAGhz8NmeH1TyaQP+zrCsc9p5Y/LbKd76fGnz/bLW5ISEmmPww9YvTcQq8/JV2OstnstT8Er5Y7M8G+P0c+r3jqkcU/5h99k6ZBzj88bCIzFzjVP4enV8oyxN0//yH99nXg5D8qOpLLf0jtP5kqGJXUifQ/c9cS8kHP/D+/DpwzojQEQIEmwoanVwxA4lgXt9HgE0BSSZ2AJuIbQAMJih9jjiNA5q4l5INuK0AwTKYKRj0zQNv5fmq8/DpAaCJseHrtQkB/+zpwzoxKQM3MzMzMeFJAZmZmZmZqWEAAAAAAAFxeQM3MzMzMJmJAmpmZmZkfZUBmZmZmZhhoQDMzMzMzEWtAAAAAAAAKbkBmZmZmZoFwQM3MzMzM/XFAMzMzMzN6c0CamZmZmfZ0QAAAAAAAc3ZAZmZmZmbvd0DNzMzMzGt5QDMzMzMz6HpAmpmZmZlkfEAAAAAAAOF9QGZmZmZmXX9AZmZmZuZsgECamZmZGSuBQM3MzMxM6YFAAAAAAICngkAzMzMzs2WDQGZmZmbmI4RAmpmZmRnihEDNzMzMTKCFQAAAAACAXoZAMzMzM7Mch0BmZmZm5tqHQJqZmZkZmYhAzczMzExXiUAAAAAAgBWKQDMzMzOz04pAZmZmZuaRi0CamZmZGVCMQM3MzMxMDo1AAAAAAIDMjUAzMzMzs4qOQGZmZmbmSI9A\",\"dtype\":\"float64\",\"shape\":[75]}}},\"id\":\"23291618-dc30-412d-a776-7cfaa57f979a\",\"type\":\"ColumnDataSource\"},{\"attributes\":{\"axis_label\":\"cooling rate [K/day]\",\"formatter\":{\"id\":\"2cde5148-68c8-4a1c-96a6-bcbf0a57057c\",\"type\":\"BasicTickFormatter\"},\"plot\":{\"id\":\"2be8f493-6386-45c2-b87d-13d10fb6454c\",\"subtype\":\"Figure\",\"type\":\"Plot\"},\"ticker\":{\"id\":\"f38328a4-7cbc-4459-954d-5c3ec9314eb8\",\"type\":\"BasicTicker\"}},\"id\":\"110bdd11-8b93-496e-9e0a-154fda4113b1\",\"type\":\"LinearAxis\"},{\"attributes\":{\"line_color\":\"#4daf4a\",\"line_width\":1.5,\"x\":{\"field\":\"x\"},\"y\":{\"field\":\"y\"}},\"id\":\"21e92dfd-9d7e-4d32-8f29-25b020393fd1\",\"type\":\"Line\"},{\"attributes\":{\"overlay\":{\"id\":\"e693d334-5fde-46de-90bb-64862b8acbf7\",\"type\":\"BoxAnnotation\"}},\"id\":\"f5020ff4-0bc7-4c0a-b2be-8bd81525a307\",\"type\":\"BoxZoomTool\"},{\"attributes\":{\"plot\":{\"id\":\"2be8f493-6386-45c2-b87d-13d10fb6454c\",\"subtype\":\"Figure\",\"type\":\"Plot\"},\"ticker\":{\"id\":\"f38328a4-7cbc-4459-954d-5c3ec9314eb8\",\"type\":\"BasicTicker\"}},\"id\":\"fc1fc075-32ab-4c3c-9a5a-6428f0bfb85d\",\"type\":\"Grid\"},{\"attributes\":{},\"id\":\"ac51b84e-f185-4355-b4cc-340adf42c7ac\",\"type\":\"LinearScale\"},{\"attributes\":{},\"id\":\"81f33520-584c-4cd4-9ef9-e17ccde31a82\",\"type\":\"LinearScale\"},{\"attributes\":{},\"id\":\"edb0a241-6341-4dfe-9bad-6f2157681789\",\"type\":\"SaveTool\"},{\"attributes\":{},\"id\":\"1322123e-c0b9-4875-af9d-9b0eb01abaf0\",\"type\":\"WheelZoomTool\"},{\"attributes\":{\"bottom_units\":\"screen\",\"fill_alpha\":{\"value\":0.5},\"fill_color\":{\"value\":\"lightgrey\"},\"left_units\":\"screen\",\"level\":\"overlay\",\"line_alpha\":{\"value\":1.0},\"line_color\":{\"value\":\"black\"},\"line_dash\":[4,4],\"line_width\":{\"value\":2},\"plot\":null,\"render_mode\":\"css\",\"right_units\":\"screen\",\"top_units\":\"screen\"},\"id\":\"e693d334-5fde-46de-90bb-64862b8acbf7\",\"type\":\"BoxAnnotation\"},{\"attributes\":{\"axis_label\":\"pressure [mb]\",\"formatter\":{\"id\":\"13a1b852-e347-4c37-845b-78d82443da51\",\"type\":\"LogTickFormatter\"},\"plot\":{\"id\":\"2be8f493-6386-45c2-b87d-13d10fb6454c\",\"subtype\":\"Figure\",\"type\":\"Plot\"},\"ticker\":{\"id\":\"0f598051-583d-4f27-a587-5749a8c24b84\",\"type\":\"LogTicker\"}},\"id\":\"207706c6-874e-4d36-b0ca-3bcdea08cd7c\",\"type\":\"LogAxis\"},{\"attributes\":{\"children\":[{\"id\":\"4c869173-ec22-4316-a803-027a5fa09caa\",\"subtype\":\"Figure\",\"type\":\"Plot\"},{\"id\":\"2be8f493-6386-45c2-b87d-13d10fb6454c\",\"subtype\":\"Figure\",\"type\":\"Plot\"}]},\"id\":\"a4e4e473-5470-4138-a096-d151ba8ea196\",\"type\":\"Row\"},{\"attributes\":{},\"id\":\"05c6592f-42cc-43df-aaac-92e1dd1c126c\",\"type\":\"ResetTool\"},{\"attributes\":{\"dimension\":1,\"plot\":{\"id\":\"2be8f493-6386-45c2-b87d-13d10fb6454c\",\"subtype\":\"Figure\",\"type\":\"Plot\"},\"ticker\":{\"id\":\"0f598051-583d-4f27-a587-5749a8c24b84\",\"type\":\"LogTicker\"}},\"id\":\"f7ea816e-f98d-43cf-9cc8-a5b7065c7dcf\",\"type\":\"Grid\"},{\"attributes\":{\"line_alpha\":0.6,\"line_color\":\"#e41a1c\",\"line_dash\":[6],\"line_width\":5,\"x\":{\"field\":\"x\"},\"y\":{\"field\":\"y\"}},\"id\":\"09340603-2f62-47b1-8e08-eae00cc91acd\",\"type\":\"Line\"},{\"attributes\":{\"dimension\":1,\"plot\":{\"id\":\"4c869173-ec22-4316-a803-027a5fa09caa\",\"subtype\":\"Figure\",\"type\":\"Plot\"},\"ticker\":{\"id\":\"1c1505c7-2f17-429b-b394-3ee375119f51\",\"type\":\"BasicTicker\"}},\"id\":\"0da3fc71-86f8-4716-ab3b-923b3cdac609\",\"type\":\"Grid\"},{\"attributes\":{},\"id\":\"d132272c-b977-44d4-b372-f471ea444ce6\",\"type\":\"LogScale\"},{\"attributes\":{\"axis_label\":\"cooling rate [K/day]\",\"formatter\":{\"id\":\"1b49a2b5-685e-4385-ae5f-69aacb70a24b\",\"type\":\"BasicTickFormatter\"},\"plot\":{\"id\":\"4c869173-ec22-4316-a803-027a5fa09caa\",\"subtype\":\"Figure\",\"type\":\"Plot\"},\"ticker\":{\"id\":\"43e2a808-bfa7-428e-9ddf-9c25319fdcb5\",\"type\":\"BasicTicker\"}},\"id\":\"d5574f76-86fd-432c-9579-2cc763de7c84\",\"type\":\"LinearAxis\"},{\"attributes\":{},\"id\":\"43e2a808-bfa7-428e-9ddf-9c25319fdcb5\",\"type\":\"BasicTicker\"},{\"attributes\":{},\"id\":\"f38328a4-7cbc-4459-954d-5c3ec9314eb8\",\"type\":\"BasicTicker\"},{\"attributes\":{\"callback\":null,\"column_names\":[\"x\",\"y\"],\"data\":{\"x\":{\"__ndarray__\":\"1pZTZYzN0z+IoIsCVGPQP7VAksRYh9E/+/nf39qo0D9T97e6UkXWP2UDp0YBhcs/ij68Ognd0j8UWCFh73DUPz9QEyKFF9U/ff9q/i071D8OnHW+hn3TPwqX+h6a3tM/UtCzegMj0T983diiu1rPP35Z80ZaaM4/q+KVPWzW0T9QqvkBeufUP3IYDnzzeNY/afST/wML1z+DdAwjGCLZP4Rd+59PJt8/UCbBXe4a5T+swcH/0jnnP9goTmLOW+U/Gsx4vhOx4j9kQmn7mbLePxK+WmIjWNk/ZOxCew4P1T8yUnPiQELRP1QGJwWKFss/jb3u34KNxD9lh53Ouuu9PwrVJn4njrQ/4uQWpC1vrD8xDhw6t7WdP0ybm774jHK/rpQmJCDGnL8Hgw1953+Yv/mfXb6sQme/TshpsPLJhz/MFkYDQxmaPwNf8rvAF6U/DH0Q/zmXrj8aEH8fnr20P3ht4w04ZLo/GKn/xZYSwD+rPAXp9zfDP+TWBwbOIcY/J959ZRDlxz+O0ZVjDfLJP2XYMFyAqsw/8omG1tTDzz9l9j/haF7RP5p+wyN1q9I/WQE6oxjm0z8ZUqgb5hPVP4J+tkBIN9Y/2qHt2tY91z9VD17cwgrYP7+/vUJRptg/azAmYOgP2T974hDcDi7ZP+2z0r2x1Ng/Vck6+0782D8Kn62Dg73XP/kuhCAwpNU/sTBlXEgy0z+WKf+9iDTQP+9xxxfEcss/K5oY3CCkxz/mie/dSbjEP+vFs3hvlMI/Z3t4v59UwT8c/uQ5bGzBPwbMSxfFH8g/\",\"dtype\":\"float64\",\"shape\":[75]},\"y\":{\"__ndarray__\":\"S/O/Q+51ND/430zAtpRIP2vylNV0PVE/QxsjCssuWD/TR4Z78fVgP+inNsRxymc/OuuBfZWvcD/u3TFA02d3P2d3VoBnaoA/CD5h5MAGhz/1pA8HUCaQP+zrCsc9p5Y/Fb7LAKjGnz/nJ9c/SEmmPwBD+fzcQq8/FOZwv9nstT8Er5Y7M8G+P0c+r3jqkcU/yK72qKZBzj+tM989FzjVPxbgmr8yxN0/cOm5AXbg5D+5ctXAf0jtP5kqGJXUifQ/DsrqDELP/D8MCAhBojQEQDItVnmnVwxAiFXNvdHgE0BSSZ2AJuIbQAMJih9jjiNA5q4l5INuK0CPVN/5RT0zQHzxRXu8/DpAOZ7PgHrtQkAg8wGBzoxKQBSTN8DMeFJA2NmQf2ZqWEAAAAAAAFxeQEQX1LfMJmJAmpmZmZkfZUBmZmZmZhhoQLzoK0gzEWtAAAAAAAAKbkCiC+pbZoFwQAhyUMLM/XFA+I2vPTN6c0AQ5KCEmfZ0QAAAAAAAc3ZA8Btfe2bvd0AIclDCzGt5QPeNrz0z6HpAEOSghJlkfEAAAAAAAOF9QKML6ltmXX9ABTkoYeZsgED7xteeGSuBQAhyUMJM6YFAAAAAAICngkD4ja89s2WDQAU5KGHmI4RA+8bXnhnihEAIclDCTKCFQAAAAACAXoZA+I2vPbMch0AFOShh5tqHQPvG154ZmYhACHJQwkxXiUAAAAAAgBWKQPeNrz2z04pABTkoYeaRi0D7xteeGVCMQAlyUMJMDo1AAAAAAIDMjUD3ja89s4qOQGZmZmbmSI9A\",\"dtype\":\"float64\",\"shape\":[75]}}},\"id\":\"68b2ec36-0097-47d1-b06e-f03b8ce4819b\",\"type\":\"ColumnDataSource\"},{\"attributes\":{},\"id\":\"c86a78b3-a154-476a-8ba7-bae76b29496d\",\"type\":\"PanTool\"},{\"attributes\":{\"line_alpha\":0.1,\"line_color\":\"#1f77b4\",\"line_dash\":[6],\"line_width\":5,\"x\":{\"field\":\"x\"},\"y\":{\"field\":\"y\"}},\"id\":\"ceac2a66-a831-4438-a949-eb28e82a9748\",\"type\":\"Line\"},{\"attributes\":{\"callback\":null,\"column_names\":[\"x\",\"y\"],\"data\":{\"x\":{\"__ndarray__\":\"0PuUnV3C2j9jEmiPm4raP8x313ZmRNs/Ypkj0AXa2z9NPX+YjDzcPybWFI5BY9w/6K0uZegx3D/s5EZwp53bP7J8ZfdHjNo/dTHV5ffq2D9t5m/GWabWP/lCjs51sdM/6wpLdkv2zz8NKOX/n1THP6JR7C5x4MM/03+9X1jAyD8A/Pjw0QfQPxghfvYKqNM/e7zzOMoJ2D8L+Mr2AOHdP+Upac2oHOM/4UqwF46w6D+ohXksCdLpP7gkYqXdo+Y/qKv5+Qgf4z84GdFNzSveP0n/Pwx8Xtc/2MTZ358z0j/jZXarIdDMP2NdgY2QJsc/ZnlHW89vwj+iDgrOCW+8P04v+euKI7U/dAU5+ii7rj/XepsLF0qeP1Fu7ZFF0nm/9LOYpYu3nb+m3IcAA+iZvzYiSWXSM3W/LaZOznRZgj+sVe4XSUGXP8AfDKmTTaQ/b5HmVb7jrj8P/nt5zIO1P73HVwqa+bs/YG6cuSxLwT+8MIj+v6DEP8CbyZKUz8c/osCvTwg2yj+g7LmOadTMP8yENmu2k88/86dTP+sx0T/7by2sfpnSP92Qb4R/8NM/ZGZVOg4y1T/8kDMkWU3WP9bbbpsMO9c/Imz8skn41z8dtmd19n7YP1PktbcA2dg/ol0q2ywD2T9WVC+FKNvYPxL3eQi6KNg/fqag09rR1z/ahlmBhBXWP/zydkK3sNM/DZTKyuU10T+CGfj2UwjNP5I+zrAo18g/5fmhDDSjxT+vqNJgZBPDP1gmssUkEsE/dGWrJuNzvz9aZUOKQy6/P/+xMSvracY/\",\"dtype\":\"float64\",\"shape\":[75]},\"y\":{\"__ndarray__\":\"GhExyth1ND/Sv8nbtpRIP2vylNV0PVE/aTum7souWD/At0SJ8fVgPw3Iuahxymc/MSNhhJWvcD/bTfBN02d3P2zb5nxnaoA/CD5h5MAGhz8NmeH1TyaQP+zrCsc9p5Y/LbKd76fGnz/bLW5ISEmmPww9YvTcQq8/JV2OstnstT8Er5Y7M8G+P0c+r3jqkcU/5h99k6ZBzj88bCIzFzjVP4enV8oyxN0//yH99nXg5D8qOpLLf0jtP5kqGJXUifQ/c9cS8kHP/D+/DpwzojQEQIEmwoanVwxA4lgXt9HgE0BSSZ2AJuIbQAMJih9jjiNA5q4l5INuK0AwTKYKRj0zQNv5fmq8/DpAaCJseHrtQkB/+zpwzoxKQM3MzMzMeFJAZmZmZmZqWEAAAAAAAFxeQM3MzMzMJmJAmpmZmZkfZUBmZmZmZhhoQDMzMzMzEWtAAAAAAAAKbkBmZmZmZoFwQM3MzMzM/XFAMzMzMzN6c0CamZmZmfZ0QAAAAAAAc3ZAZmZmZmbvd0DNzMzMzGt5QDMzMzMz6HpAmpmZmZlkfEAAAAAAAOF9QGZmZmZmXX9AZmZmZuZsgECamZmZGSuBQM3MzMxM6YFAAAAAAICngkAzMzMzs2WDQGZmZmbmI4RAmpmZmRnihEDNzMzMTKCFQAAAAACAXoZAMzMzM7Mch0BmZmZm5tqHQJqZmZkZmYhAzczMzExXiUAAAAAAgBWKQDMzMzOz04pAZmZmZuaRi0CamZmZGVCMQM3MzMxMDo1AAAAAAIDMjUAzMzMzs4qOQGZmZmbmSI9A\",\"dtype\":\"float64\",\"shape\":[75]}}},\"id\":\"450b15d4-7c4a-44bd-990e-573f8642537b\",\"type\":\"ColumnDataSource\"},{\"attributes\":{\"callback\":null,\"end\":0.01,\"start\":1020},\"id\":\"848014e9-aa8e-4d55-b921-60bb99845c35\",\"type\":\"Range1d\"},{\"attributes\":{\"callback\":null,\"column_names\":[\"x\",\"y\"],\"data\":{\"x\":{\"__ndarray__\":\"imo60H1Y1T854Kk27oPVP/ycim21O9Y/VwWLP2H71j/9/FKaKJ3XPzRf63MxHdg/yegd+jBz2D84OnwMNY7YP39duDm2Wtg/NAowyVTD1z83O+9SLK/WP2v23QB1+9Q/9MdRDNKE0j8g07kmzbTOP/UmTDnbs8w/9Q8iGXLs0D+fQqZjawnUP+r+uYFlGdY/qk9JCBzq1z9Xi3iAYRjbP9jKtpkr3+A/bkFC1ks65j/uhCxF0efnPzpjb5SCj+U/pZJsO46b4j/pU56rc23eP9u3QYqN+9g/geAabY+91D86LwTvmgbRP0FwS5r1GMs/T2a0PKzDxD+iNAZjZbC+Pxql9f7Z67U/K/C1ak6Trz9THqNdAVygP/wGQPlPAHO/H1nkyuWunb+BtEuQG8KYv/i1qrN+3Ve/UrDOSr0bjT9jr6D+7ZGdP2f1IpsqZqc/5wKm8sfLsD+3fRjsSYq2P93kfT3berw/8RQwicw/wT+Tq3kKkFPEPzMPqh56HMc/AGSVkBfryD+ta5MO//7KPxeLtpUkcM0/PlHhIe8J0D8MTDzaF1TRP2IYqHPiftI/TLzqnsiV0z8GQKIqIprUP9ZPYoSujNU/gxMTzH9l1j8e7U1GdBPXP8bP82VxmNc/3nBh1Qfv1z8919bTN/7XP6Q4BQFLkdc/b4HjtqaO1z9htvD+cD7WP+ali+KPQdQ/y5O1l34T0j/wAvyF5AXPP1B1I4fj1Mo/Vyhv0+GZxz8dIDV5DAfFP9rIlmGzDsM/Bpd1nC7NwT+3CsXKJsjBP/wKiP8qdsg/\",\"dtype\":\"float64\",\"shape\":[75]},\"y\":{\"__ndarray__\":\"GhExyth1ND/Sv8nbtpRIP2vylNV0PVE/aTum7souWD/At0SJ8fVgPw3Iuahxymc/MSNhhJWvcD/bTfBN02d3P2zb5nxnaoA/CD5h5MAGhz8NmeH1TyaQP+zrCsc9p5Y/LbKd76fGnz/bLW5ISEmmPww9YvTcQq8/JV2OstnstT8Er5Y7M8G+P0c+r3jqkcU/5h99k6ZBzj88bCIzFzjVP4enV8oyxN0//yH99nXg5D8qOpLLf0jtP5kqGJXUifQ/c9cS8kHP/D+/DpwzojQEQIEmwoanVwxA4lgXt9HgE0BSSZ2AJuIbQAMJih9jjiNA5q4l5INuK0AwTKYKRj0zQNv5fmq8/DpAaCJseHrtQkB/+zpwzoxKQM3MzMzMeFJAZmZmZmZqWEAAAAAAAFxeQM3MzMzMJmJAmpmZmZkfZUBmZmZmZhhoQDMzMzMzEWtAAAAAAAAKbkBmZmZmZoFwQM3MzMzM/XFAMzMzMzN6c0CamZmZmfZ0QAAAAAAAc3ZAZmZmZmbvd0DNzMzMzGt5QDMzMzMz6HpAmpmZmZlkfEAAAAAAAOF9QGZmZmZmXX9AZmZmZuZsgECamZmZGSuBQM3MzMxM6YFAAAAAAICngkAzMzMzs2WDQGZmZmbmI4RAmpmZmRnihEDNzMzMTKCFQAAAAACAXoZAMzMzM7Mch0BmZmZm5tqHQJqZmZkZmYhAzczMzExXiUAAAAAAgBWKQDMzMzOz04pAZmZmZuaRi0CamZmZGVCMQM3MzMxMDo1AAAAAAIDMjUAzMzMzs4qOQGZmZmbmSI9A\",\"dtype\":\"float64\",\"shape\":[75]}}},\"id\":\"6f682d84-fecb-4497-86c3-ca65b65ca259\",\"type\":\"ColumnDataSource\"},{\"attributes\":{},\"id\":\"2cde5148-68c8-4a1c-96a6-bcbf0a57057c\",\"type\":\"BasicTickFormatter\"},{\"attributes\":{\"source\":{\"id\":\"ea4890ea-db87-4e65-87ba-1e702f55d753\",\"type\":\"ColumnDataSource\"}},\"id\":\"93c59609-80cf-4140-be52-9eb511f99923\",\"type\":\"CDSView\"},{\"attributes\":{\"source\":{\"id\":\"8268d712-aab4-4564-829e-3fd8329e053f\",\"type\":\"ColumnDataSource\"}},\"id\":\"165608fa-1740-4fbf-99a4-9588d0de0fdc\",\"type\":\"CDSView\"},{\"attributes\":{\"source\":{\"id\":\"68b2ec36-0097-47d1-b06e-f03b8ce4819b\",\"type\":\"ColumnDataSource\"}},\"id\":\"9147e0a3-34be-4eb9-b1f0-590f58d675b8\",\"type\":\"CDSView\"},{\"attributes\":{\"source\":{\"id\":\"6f682d84-fecb-4497-86c3-ca65b65ca259\",\"type\":\"ColumnDataSource\"}},\"id\":\"229d49d1-9d0c-4b4c-bb27-ed797cdc071d\",\"type\":\"CDSView\"},{\"attributes\":{\"data_source\":{\"id\":\"450b15d4-7c4a-44bd-990e-573f8642537b\",\"type\":\"ColumnDataSource\"},\"glyph\":{\"id\":\"21e92dfd-9d7e-4d32-8f29-25b020393fd1\",\"type\":\"Line\"},\"hover_glyph\":null,\"muted_glyph\":null,\"nonselection_glyph\":{\"id\":\"b54f12e1-5757-41de-849e-5113c000b2d0\",\"type\":\"Line\"},\"selection_glyph\":null,\"view\":{\"id\":\"e2c1cd48-d708-4160-bdd1-96e97e8e5e83\",\"type\":\"CDSView\"}},\"id\":\"d02ed6bc-c535-47c4-b90b-ef4fe3bf9779\",\"type\":\"GlyphRenderer\"},{\"attributes\":{\"fill_alpha\":{\"value\":0.1},\"fill_color\":{\"value\":\"#1f77b4\"},\"line_alpha\":{\"value\":0.1},\"line_color\":{\"value\":\"#1f77b4\"},\"x\":{\"field\":\"x\"},\"y\":{\"field\":\"y\"}},\"id\":\"b54b55d2-1cbf-4b19-b931-26063417be28\",\"type\":\"Circle\"},{\"attributes\":{\"data_source\":{\"id\":\"68b2ec36-0097-47d1-b06e-f03b8ce4819b\",\"type\":\"ColumnDataSource\"},\"glyph\":{\"id\":\"09340603-2f62-47b1-8e08-eae00cc91acd\",\"type\":\"Line\"},\"hover_glyph\":null,\"muted_glyph\":null,\"nonselection_glyph\":{\"id\":\"ceac2a66-a831-4438-a949-eb28e82a9748\",\"type\":\"Line\"},\"selection_glyph\":null,\"view\":{\"id\":\"9147e0a3-34be-4eb9-b1f0-590f58d675b8\",\"type\":\"CDSView\"}},\"id\":\"7803bb06-23cb-4767-b4f2-724e6d2f9ba3\",\"type\":\"GlyphRenderer\"},{\"attributes\":{\"ticker\":null},\"id\":\"13a1b852-e347-4c37-845b-78d82443da51\",\"type\":\"LogTickFormatter\"},{\"attributes\":{\"callback\":null,\"end\":0.39766072643,\"start\":-0.03324504943},\"id\":\"095a07be-2654-4a2e-bfb7-ad3ebfc41048\",\"type\":\"Range1d\"},{\"attributes\":{\"line_alpha\":0.1,\"line_color\":\"#1f77b4\",\"line_width\":3,\"x\":{\"field\":\"x\"},\"y\":{\"field\":\"y\"}},\"id\":\"d9c8ef8b-d8f5-419b-9d50-f15bf5b323fa\",\"type\":\"Line\"},{\"attributes\":{\"fill_alpha\":{\"value\":0.7},\"fill_color\":{\"value\":\"#4daf4a\"},\"line_alpha\":{\"value\":0.7},\"line_color\":{\"value\":\"#4daf4a\"},\"x\":{\"field\":\"x\"},\"y\":{\"field\":\"y\"}},\"id\":\"fcc887cb-480e-4f0a-9933-6845e007adae\",\"type\":\"Circle\"},{\"attributes\":{\"callback\":null,\"column_names\":[\"x\",\"y\"],\"data\":{\"x\":{\"__ndarray__\":\"1pZTZYzN0z+IoIsCVGPQP7VAksRYh9E/+/nf39qo0D9T97e6UkXWP2UDp0YBhcs/ij68Ognd0j8UWCFh73DUPz9QEyKFF9U/ff9q/i071D8OnHW+hn3TPwqX+h6a3tM/UtCzegMj0T983diiu1rPP35Z80ZaaM4/q+KVPWzW0T9QqvkBeufUP3IYDnzzeNY/afST/wML1z+DdAwjGCLZP4Rd+59PJt8/UCbBXe4a5T+swcH/0jnnP9goTmLOW+U/Gsx4vhOx4j9kQmn7mbLePxK+WmIjWNk/ZOxCew4P1T8yUnPiQELRP1QGJwWKFss/jb3u34KNxD9lh53Ouuu9PwrVJn4njrQ/4uQWpC1vrD8xDhw6t7WdP0ybm774jHK/rpQmJCDGnL8Hgw1953+Yv/mfXb6sQme/TshpsPLJhz/MFkYDQxmaPwNf8rvAF6U/DH0Q/zmXrj8aEH8fnr20P3ht4w04ZLo/GKn/xZYSwD+rPAXp9zfDP+TWBwbOIcY/J959ZRDlxz+O0ZVjDfLJP2XYMFyAqsw/8omG1tTDzz9l9j/haF7RP5p+wyN1q9I/WQE6oxjm0z8ZUqgb5hPVP4J+tkBIN9Y/2qHt2tY91z9VD17cwgrYP7+/vUJRptg/azAmYOgP2T974hDcDi7ZP+2z0r2x1Ng/Vck6+0782D8Kn62Dg73XP/kuhCAwpNU/sTBlXEgy0z+WKf+9iDTQP+9xxxfEcss/K5oY3CCkxz/mie/dSbjEP+vFs3hvlMI/Z3t4v59UwT8c/uQ5bGzBPwbMSxfFH8g/\",\"dtype\":\"float64\",\"shape\":[75]},\"y\":{\"__ndarray__\":\"S/O/Q+51ND/430zAtpRIP2vylNV0PVE/QxsjCssuWD/TR4Z78fVgP+inNsRxymc/OuuBfZWvcD/u3TFA02d3P2d3VoBnaoA/CD5h5MAGhz/1pA8HUCaQP+zrCsc9p5Y/Fb7LAKjGnz/nJ9c/SEmmPwBD+fzcQq8/FOZwv9nstT8Er5Y7M8G+P0c+r3jqkcU/yK72qKZBzj+tM989FzjVPxbgmr8yxN0/cOm5AXbg5D+5ctXAf0jtP5kqGJXUifQ/DsrqDELP/D8MCAhBojQEQDItVnmnVwxAiFXNvdHgE0BSSZ2AJuIbQAMJih9jjiNA5q4l5INuK0CPVN/5RT0zQHzxRXu8/DpAOZ7PgHrtQkAg8wGBzoxKQBSTN8DMeFJA2NmQf2ZqWEAAAAAAAFxeQEQX1LfMJmJAmpmZmZkfZUBmZmZmZhhoQLzoK0gzEWtAAAAAAAAKbkCiC+pbZoFwQAhyUMLM/XFA+I2vPTN6c0AQ5KCEmfZ0QAAAAAAAc3ZA8Btfe2bvd0AIclDCzGt5QPeNrz0z6HpAEOSghJlkfEAAAAAAAOF9QKML6ltmXX9ABTkoYeZsgED7xteeGSuBQAhyUMJM6YFAAAAAAICngkD4ja89s2WDQAU5KGHmI4RA+8bXnhnihEAIclDCTKCFQAAAAACAXoZA+I2vPbMch0AFOShh5tqHQPvG154ZmYhACHJQwkxXiUAAAAAAgBWKQPeNrz2z04pABTkoYeaRi0D7xteeGVCMQAlyUMJMDo1AAAAAAIDMjUD3ja89s4qOQGZmZmbmSI9A\",\"dtype\":\"float64\",\"shape\":[75]}}},\"id\":\"ea4890ea-db87-4e65-87ba-1e702f55d753\",\"type\":\"ColumnDataSource\"},{\"attributes\":{\"data_source\":{\"id\":\"6f682d84-fecb-4497-86c3-ca65b65ca259\",\"type\":\"ColumnDataSource\"},\"glyph\":{\"id\":\"41dd5550-7c11-4005-89e5-ac6681771248\",\"type\":\"Line\"},\"hover_glyph\":null,\"muted_glyph\":null,\"nonselection_glyph\":{\"id\":\"d9c8ef8b-d8f5-419b-9d50-f15bf5b323fa\",\"type\":\"Line\"},\"selection_glyph\":null,\"view\":{\"id\":\"229d49d1-9d0c-4b4c-bb27-ed797cdc071d\",\"type\":\"CDSView\"}},\"id\":\"98d1d306-ff41-422c-a555-ac80dc98abbe\",\"type\":\"GlyphRenderer\"},{\"attributes\":{\"callback\":null,\"column_names\":[\"x\",\"y\"],\"data\":{\"x\":{\"__ndarray__\":\"imo60H1Y1T854Kk27oPVP/ycim21O9Y/VwWLP2H71j/9/FKaKJ3XPzRf63MxHdg/yegd+jBz2D84OnwMNY7YP39duDm2Wtg/NAowyVTD1z83O+9SLK/WP2v23QB1+9Q/9MdRDNKE0j8g07kmzbTOP/UmTDnbs8w/9Q8iGXLs0D+fQqZjawnUP+r+uYFlGdY/qk9JCBzq1z9Xi3iAYRjbP9jKtpkr3+A/bkFC1ks65j/uhCxF0efnPzpjb5SCj+U/pZJsO46b4j/pU56rc23eP9u3QYqN+9g/geAabY+91D86LwTvmgbRP0FwS5r1GMs/T2a0PKzDxD+iNAZjZbC+Pxql9f7Z67U/K/C1ak6Trz9THqNdAVygP/wGQPlPAHO/H1nkyuWunb+BtEuQG8KYv/i1qrN+3Ve/UrDOSr0bjT9jr6D+7ZGdP2f1IpsqZqc/5wKm8sfLsD+3fRjsSYq2P93kfT3berw/8RQwicw/wT+Tq3kKkFPEPzMPqh56HMc/AGSVkBfryD+ta5MO//7KPxeLtpUkcM0/PlHhIe8J0D8MTDzaF1TRP2IYqHPiftI/TLzqnsiV0z8GQKIqIprUP9ZPYoSujNU/gxMTzH9l1j8e7U1GdBPXP8bP82VxmNc/3nBh1Qfv1z8919bTN/7XP6Q4BQFLkdc/b4HjtqaO1z9htvD+cD7WP+ali+KPQdQ/y5O1l34T0j/wAvyF5AXPP1B1I4fj1Mo/Vyhv0+GZxz8dIDV5DAfFP9rIlmGzDsM/Bpd1nC7NwT+3CsXKJsjBP/wKiP8qdsg/\",\"dtype\":\"float64\",\"shape\":[75]},\"y\":{\"__ndarray__\":\"GhExyth1ND/Sv8nbtpRIP2vylNV0PVE/aTum7souWD/At0SJ8fVgPw3Iuahxymc/MSNhhJWvcD/bTfBN02d3P2zb5nxnaoA/CD5h5MAGhz8NmeH1TyaQP+zrCsc9p5Y/LbKd76fGnz/bLW5ISEmmPww9YvTcQq8/JV2OstnstT8Er5Y7M8G+P0c+r3jqkcU/5h99k6ZBzj88bCIzFzjVP4enV8oyxN0//yH99nXg5D8qOpLLf0jtP5kqGJXUifQ/c9cS8kHP/D+/DpwzojQEQIEmwoanVwxA4lgXt9HgE0BSSZ2AJuIbQAMJih9jjiNA5q4l5INuK0AwTKYKRj0zQNv5fmq8/DpAaCJseHrtQkB/+zpwzoxKQM3MzMzMeFJAZmZmZmZqWEAAAAAAAFxeQM3MzMzMJmJAmpmZmZkfZUBmZmZmZhhoQDMzMzMzEWtAAAAAAAAKbkBmZmZmZoFwQM3MzMzM/XFAMzMzMzN6c0CamZmZmfZ0QAAAAAAAc3ZAZmZmZmbvd0DNzMzMzGt5QDMzMzMz6HpAmpmZmZlkfEAAAAAAAOF9QGZmZmZmXX9AZmZmZuZsgECamZmZGSuBQM3MzMxM6YFAAAAAAICngkAzMzMzs2WDQGZmZmbmI4RAmpmZmRnihEDNzMzMTKCFQAAAAACAXoZAMzMzM7Mch0BmZmZm5tqHQJqZmZkZmYhAzczMzExXiUAAAAAAgBWKQDMzMzOz04pAZmZmZuaRi0CamZmZGVCMQM3MzMxMDo1AAAAAAIDMjUAzMzMzs4qOQGZmZmbmSI9A\",\"dtype\":\"float64\",\"shape\":[75]}}},\"id\":\"9bb751cd-1ab7-420d-87a2-98e1656f7bbc\",\"type\":\"ColumnDataSource\"},{\"attributes\":{\"children\":[{\"id\":\"a4e4e473-5470-4138-a096-d151ba8ea196\",\"type\":\"Row\"}]},\"id\":\"838fd176-6212-459f-9ff2-b9e2f1cf26f3\",\"type\":\"Column\"},{\"attributes\":{\"line_alpha\":0.6,\"line_color\":\"#984ea3\",\"line_width\":3,\"x\":{\"field\":\"x\"},\"y\":{\"field\":\"y\"}},\"id\":\"41dd5550-7c11-4005-89e5-ac6681771248\",\"type\":\"Line\"},{\"attributes\":{\"data_source\":{\"id\":\"8268d712-aab4-4564-829e-3fd8329e053f\",\"type\":\"ColumnDataSource\"},\"glyph\":{\"id\":\"49ea21ac-c3a2-4839-a57d-4f4a2a377658\",\"type\":\"Square\"},\"hover_glyph\":null,\"muted_glyph\":null,\"nonselection_glyph\":{\"id\":\"6c968e98-1d6f-4877-b175-8ff9cda897ca\",\"type\":\"Square\"},\"selection_glyph\":null,\"view\":{\"id\":\"165608fa-1740-4fbf-99a4-9588d0de0fdc\",\"type\":\"CDSView\"}},\"id\":\"4411f7a7-ede5-43a1-938e-d767d0ba290e\",\"type\":\"GlyphRenderer\"},{\"attributes\":{\"source\":{\"id\":\"23291618-dc30-412d-a776-7cfaa57f979a\",\"type\":\"ColumnDataSource\"}},\"id\":\"cb72b279-1bcc-4534-8ec0-03de85fafb0f\",\"type\":\"CDSView\"},{\"attributes\":{\"below\":[{\"id\":\"d5574f76-86fd-432c-9579-2cc763de7c84\",\"type\":\"LinearAxis\"}],\"left\":[{\"id\":\"90a93936-952e-4a82-a98b-47f8ad658829\",\"type\":\"LinearAxis\"}],\"plot_height\":500,\"plot_width\":400,\"renderers\":[{\"id\":\"d5574f76-86fd-432c-9579-2cc763de7c84\",\"type\":\"LinearAxis\"},{\"id\":\"c5630cc4-98c5-45a5-b2a0-39ef0a4a0f1f\",\"type\":\"Grid\"},{\"id\":\"90a93936-952e-4a82-a98b-47f8ad658829\",\"type\":\"LinearAxis\"},{\"id\":\"0da3fc71-86f8-4716-ab3b-923b3cdac609\",\"type\":\"Grid\"},{\"id\":\"e693d334-5fde-46de-90bb-64862b8acbf7\",\"type\":\"BoxAnnotation\"},{\"id\":\"7d2ba261-b71e-4e21-b9f3-ddff5658625c\",\"type\":\"GlyphRenderer\"},{\"id\":\"86c53684-0da4-4a38-9005-1980a429bf0a\",\"type\":\"GlyphRenderer\"},{\"id\":\"d02ed6bc-c535-47c4-b90b-ef4fe3bf9779\",\"type\":\"GlyphRenderer\"},{\"id\":\"4411f7a7-ede5-43a1-938e-d767d0ba290e\",\"type\":\"GlyphRenderer\"},{\"id\":\"98d1d306-ff41-422c-a555-ac80dc98abbe\",\"type\":\"GlyphRenderer\"}],\"title\":{\"id\":\"62c877ae-f964-4e3b-aab5-1e37c28735e5\",\"type\":\"Title\"},\"toolbar\":{\"id\":\"d8e978ba-045c-4b4c-bc31-5afc6f9a37e5\",\"type\":\"Toolbar\"},\"toolbar_location\":null,\"x_range\":{\"id\":\"095a07be-2654-4a2e-bfb7-ad3ebfc41048\",\"type\":\"Range1d\"},\"x_scale\":{\"id\":\"81f33520-584c-4cd4-9ef9-e17ccde31a82\",\"type\":\"LinearScale\"},\"y_range\":{\"id\":\"02686aa4-30b0-4fba-830e-86c717913579\",\"type\":\"Range1d\"},\"y_scale\":{\"id\":\"ac51b84e-f185-4355-b4cc-340adf42c7ac\",\"type\":\"LinearScale\"}},\"id\":\"4c869173-ec22-4316-a803-027a5fa09caa\",\"subtype\":\"Figure\",\"type\":\"Plot\"},{\"attributes\":{\"callback\":null,\"column_names\":[\"x\",\"y\"],\"data\":{\"x\":{\"__ndarray__\":\"0PuUnV3C2j9jEmiPm4raP8x313ZmRNs/Ypkj0AXa2z9NPX+YjDzcPybWFI5BY9w/6K0uZegx3D/s5EZwp53bP7J8ZfdHjNo/dTHV5ffq2D9t5m/GWabWP/lCjs51sdM/6wpLdkv2zz8NKOX/n1THP6JR7C5x4MM/03+9X1jAyD8A/Pjw0QfQPxghfvYKqNM/e7zzOMoJ2D8L+Mr2AOHdP+Upac2oHOM/4UqwF46w6D+ohXksCdLpP7gkYqXdo+Y/qKv5+Qgf4z84GdFNzSveP0n/Pwx8Xtc/2MTZ358z0j/jZXarIdDMP2NdgY2QJsc/ZnlHW89vwj+iDgrOCW+8P04v+euKI7U/dAU5+ii7rj/XepsLF0qeP1Fu7ZFF0nm/9LOYpYu3nb+m3IcAA+iZvzYiSWXSM3W/LaZOznRZgj+sVe4XSUGXP8AfDKmTTaQ/b5HmVb7jrj8P/nt5zIO1P73HVwqa+bs/YG6cuSxLwT+8MIj+v6DEP8CbyZKUz8c/osCvTwg2yj+g7LmOadTMP8yENmu2k88/86dTP+sx0T/7by2sfpnSP92Qb4R/8NM/ZGZVOg4y1T/8kDMkWU3WP9bbbpsMO9c/Imz8skn41z8dtmd19n7YP1PktbcA2dg/ol0q2ywD2T9WVC+FKNvYPxL3eQi6KNg/fqag09rR1z/ahlmBhBXWP/zydkK3sNM/DZTKyuU10T+CGfj2UwjNP5I+zrAo18g/5fmhDDSjxT+vqNJgZBPDP1gmssUkEsE/dGWrJuNzvz9aZUOKQy6/P/+xMSvracY/\",\"dtype\":\"float64\",\"shape\":[75]},\"y\":{\"__ndarray__\":\"GhExyth1ND/Sv8nbtpRIP2vylNV0PVE/aTum7souWD/At0SJ8fVgPw3Iuahxymc/MSNhhJWvcD/bTfBN02d3P2zb5nxnaoA/CD5h5MAGhz8NmeH1TyaQP+zrCsc9p5Y/LbKd76fGnz/bLW5ISEmmPww9YvTcQq8/JV2OstnstT8Er5Y7M8G+P0c+r3jqkcU/5h99k6ZBzj88bCIzFzjVP4enV8oyxN0//yH99nXg5D8qOpLLf0jtP5kqGJXUifQ/c9cS8kHP/D+/DpwzojQEQIEmwoanVwxA4lgXt9HgE0BSSZ2AJuIbQAMJih9jjiNA5q4l5INuK0AwTKYKRj0zQNv5fmq8/DpAaCJseHrtQkB/+zpwzoxKQM3MzMzMeFJAZmZmZmZqWEAAAAAAAFxeQM3MzMzMJmJAmpmZmZkfZUBmZmZmZhhoQDMzMzMzEWtAAAAAAAAKbkBmZmZmZoFwQM3MzMzM/XFAMzMzMzN6c0CamZmZmfZ0QAAAAAAAc3ZAZmZmZmbvd0DNzMzMzGt5QDMzMzMz6HpAmpmZmZlkfEAAAAAAAOF9QGZmZmZmXX9AZmZmZuZsgECamZmZGSuBQM3MzMxM6YFAAAAAAICngkAzMzMzs2WDQGZmZmbmI4RAmpmZmRnihEDNzMzMTKCFQAAAAACAXoZAMzMzM7Mch0BmZmZm5tqHQJqZmZkZmYhAzczMzExXiUAAAAAAgBWKQDMzMzOz04pAZmZmZuaRi0CamZmZGVCMQM3MzMxMDo1AAAAAAIDMjUAzMzMzs4qOQGZmZmbmSI9A\",\"dtype\":\"float64\",\"shape\":[75]}}},\"id\":\"696346c3-2d9d-462b-9f93-0bf92b881df6\",\"type\":\"ColumnDataSource\"},{\"attributes\":{\"data_source\":{\"id\":\"696346c3-2d9d-462b-9f93-0bf92b881df6\",\"type\":\"ColumnDataSource\"},\"glyph\":{\"id\":\"fcc887cb-480e-4f0a-9933-6845e007adae\",\"type\":\"Circle\"},\"hover_glyph\":null,\"muted_glyph\":null,\"nonselection_glyph\":{\"id\":\"795d644d-b0bc-4e42-ae40-d2c163edfdf8\",\"type\":\"Circle\"},\"selection_glyph\":null,\"view\":{\"id\":\"7e361e2f-eb36-456b-a6c0-5662833118fb\",\"type\":\"CDSView\"}},\"id\":\"24b9f92c-6a6b-4d21-80a0-84f693ead863\",\"type\":\"GlyphRenderer\"},{\"attributes\":{\"callback\":null,\"end\":0.01,\"start\":1020},\"id\":\"02686aa4-30b0-4fba-830e-86c717913579\",\"type\":\"Range1d\"},{\"attributes\":{\"source\":{\"id\":\"696346c3-2d9d-462b-9f93-0bf92b881df6\",\"type\":\"ColumnDataSource\"}},\"id\":\"7e361e2f-eb36-456b-a6c0-5662833118fb\",\"type\":\"CDSView\"},{\"attributes\":{\"tools\":[{\"id\":\"c86a78b3-a154-476a-8ba7-bae76b29496d\",\"type\":\"PanTool\"},{\"id\":\"1322123e-c0b9-4875-af9d-9b0eb01abaf0\",\"type\":\"WheelZoomTool\"},{\"id\":\"f5020ff4-0bc7-4c0a-b2be-8bd81525a307\",\"type\":\"BoxZoomTool\"},{\"id\":\"edb0a241-6341-4dfe-9bad-6f2157681789\",\"type\":\"SaveTool\"},{\"id\":\"05c6592f-42cc-43df-aaac-92e1dd1c126c\",\"type\":\"ResetTool\"},{\"id\":\"93ba7d87-b7d9-408f-882e-43384e6c9993\",\"type\":\"HelpTool\"},{\"id\":\"e2059191-3c4f-4096-bc98-147cb3e6711b\",\"type\":\"PanTool\"},{\"id\":\"1dfef53c-d9df-4f07-b300-e3858dc27395\",\"type\":\"WheelZoomTool\"},{\"id\":\"c1832954-bc8a-4f68-a2b3-8b5c59d1de67\",\"type\":\"BoxZoomTool\"},{\"id\":\"9a2b0055-442a-493c-b1bb-a663325045f6\",\"type\":\"SaveTool\"},{\"id\":\"af0040b7-c6b0-40e7-80a9-08e7b6d34bb9\",\"type\":\"ResetTool\"},{\"id\":\"5e05df2a-ee93-4721-8d56-5e7a9398be3d\",\"type\":\"HelpTool\"}]},\"id\":\"a239f2d6-453b-40a3-84c8-c84c9dfc8ea3\",\"type\":\"ProxyToolbar\"},{\"attributes\":{\"fill_alpha\":{\"value\":0.1},\"fill_color\":{\"value\":\"#1f77b4\"},\"line_alpha\":{\"value\":0.1},\"line_color\":{\"value\":\"#1f77b4\"},\"x\":{\"field\":\"x\"},\"y\":{\"field\":\"y\"}},\"id\":\"795d644d-b0bc-4e42-ae40-d2c163edfdf8\",\"type\":\"Circle\"},{\"attributes\":{\"callback\":null,\"column_names\":[\"x\",\"y\"],\"data\":{\"x\":{\"__ndarray__\":\"imo60H1Y1T854Kk27oPVP/ycim21O9Y/VwWLP2H71j/9/FKaKJ3XPzRf63MxHdg/yegd+jBz2D84OnwMNY7YP39duDm2Wtg/NAowyVTD1z83O+9SLK/WP2v23QB1+9Q/9MdRDNKE0j8g07kmzbTOP/UmTDnbs8w/9Q8iGXLs0D+fQqZjawnUP+r+uYFlGdY/qk9JCBzq1z9Xi3iAYRjbP9jKtpkr3+A/bkFC1ks65j/uhCxF0efnPzpjb5SCj+U/pZJsO46b4j/pU56rc23eP9u3QYqN+9g/geAabY+91D86LwTvmgbRP0FwS5r1GMs/T2a0PKzDxD+iNAZjZbC+Pxql9f7Z67U/K/C1ak6Trz9THqNdAVygP/wGQPlPAHO/H1nkyuWunb+BtEuQG8KYv/i1qrN+3Ve/UrDOSr0bjT9jr6D+7ZGdP2f1IpsqZqc/5wKm8sfLsD+3fRjsSYq2P93kfT3berw/8RQwicw/wT+Tq3kKkFPEPzMPqh56HMc/AGSVkBfryD+ta5MO//7KPxeLtpUkcM0/PlHhIe8J0D8MTDzaF1TRP2IYqHPiftI/TLzqnsiV0z8GQKIqIprUP9ZPYoSujNU/gxMTzH9l1j8e7U1GdBPXP8bP82VxmNc/3nBh1Qfv1z8919bTN/7XP6Q4BQFLkdc/b4HjtqaO1z9htvD+cD7WP+ali+KPQdQ/y5O1l34T0j/wAvyF5AXPP1B1I4fj1Mo/Vyhv0+GZxz8dIDV5DAfFP9rIlmGzDsM/Bpd1nC7NwT+3CsXKJsjBP/wKiP8qdsg/\",\"dtype\":\"float64\",\"shape\":[75]},\"y\":{\"__ndarray__\":\"GhExyth1ND/Sv8nbtpRIP2vylNV0PVE/aTum7souWD/At0SJ8fVgPw3Iuahxymc/MSNhhJWvcD/bTfBN02d3P2zb5nxnaoA/CD5h5MAGhz8NmeH1TyaQP+zrCsc9p5Y/LbKd76fGnz/bLW5ISEmmPww9YvTcQq8/JV2OstnstT8Er5Y7M8G+P0c+r3jqkcU/5h99k6ZBzj88bCIzFzjVP4enV8oyxN0//yH99nXg5D8qOpLLf0jtP5kqGJXUifQ/c9cS8kHP/D+/DpwzojQEQIEmwoanVwxA4lgXt9HgE0BSSZ2AJuIbQAMJih9jjiNA5q4l5INuK0AwTKYKRj0zQNv5fmq8/DpAaCJseHrtQkB/+zpwzoxKQM3MzMzMeFJAZmZmZmZqWEAAAAAAAFxeQM3MzMzMJmJAmpmZmZkfZUBmZmZmZhhoQDMzMzMzEWtAAAAAAAAKbkBmZmZmZoFwQM3MzMzM/XFAMzMzMzN6c0CamZmZmfZ0QAAAAAAAc3ZAZmZmZmbvd0DNzMzMzGt5QDMzMzMz6HpAmpmZmZlkfEAAAAAAAOF9QGZmZmZmXX9AZmZmZuZsgECamZmZGSuBQM3MzMxM6YFAAAAAAICngkAzMzMzs2WDQGZmZmbmI4RAmpmZmRnihEDNzMzMTKCFQAAAAACAXoZAMzMzM7Mch0BmZmZm5tqHQJqZmZkZmYhAzczMzExXiUAAAAAAgBWKQDMzMzOz04pAZmZmZuaRi0CamZmZGVCMQM3MzMxMDo1AAAAAAIDMjUAzMzMzs4qOQGZmZmbmSI9A\",\"dtype\":\"float64\",\"shape\":[75]}}},\"id\":\"8268d712-aab4-4564-829e-3fd8329e053f\",\"type\":\"ColumnDataSource\"},{\"attributes\":{\"line_alpha\":0.1,\"line_color\":\"#1f77b4\",\"line_dash\":[6],\"line_width\":5,\"x\":{\"field\":\"x\"},\"y\":{\"field\":\"y\"}},\"id\":\"ae50607c-d09f-40e5-b92e-25a1c9c128f3\",\"type\":\"Line\"},{\"attributes\":{\"line_alpha\":0.6,\"line_color\":\"#e41a1c\",\"line_dash\":[6],\"line_width\":5,\"x\":{\"field\":\"x\"},\"y\":{\"field\":\"y\"}},\"id\":\"b28279f6-032d-4245-9afd-914f05cda1ff\",\"type\":\"Line\"},{\"attributes\":{\"source\":{\"id\":\"450b15d4-7c4a-44bd-990e-573f8642537b\",\"type\":\"ColumnDataSource\"}},\"id\":\"e2c1cd48-d708-4160-bdd1-96e97e8e5e83\",\"type\":\"CDSView\"},{\"attributes\":{\"data_source\":{\"id\":\"23291618-dc30-412d-a776-7cfaa57f979a\",\"type\":\"ColumnDataSource\"},\"glyph\":{\"id\":\"b563863b-954a-4440-9931-42549e757011\",\"type\":\"Circle\"},\"hover_glyph\":null,\"muted_glyph\":null,\"nonselection_glyph\":{\"id\":\"b54b55d2-1cbf-4b19-b931-26063417be28\",\"type\":\"Circle\"},\"selection_glyph\":null,\"view\":{\"id\":\"cb72b279-1bcc-4534-8ec0-03de85fafb0f\",\"type\":\"CDSView\"}},\"id\":\"86c53684-0da4-4a38-9005-1980a429bf0a\",\"type\":\"GlyphRenderer\"},{\"attributes\":{\"plot\":null,\"text\":\"Linear pressure scale\"},\"id\":\"62c877ae-f964-4e3b-aab5-1e37c28735e5\",\"type\":\"Title\"},{\"attributes\":{\"fill_alpha\":{\"value\":0.7},\"fill_color\":{\"value\":\"#4daf4a\"},\"line_alpha\":{\"value\":0.7},\"line_color\":{\"value\":\"#4daf4a\"},\"x\":{\"field\":\"x\"},\"y\":{\"field\":\"y\"}},\"id\":\"b563863b-954a-4440-9931-42549e757011\",\"type\":\"Circle\"},{\"attributes\":{\"active_drag\":\"auto\",\"active_inspect\":\"auto\",\"active_scroll\":\"auto\",\"active_tap\":\"auto\",\"tools\":[{\"id\":\"c86a78b3-a154-476a-8ba7-bae76b29496d\",\"type\":\"PanTool\"},{\"id\":\"1322123e-c0b9-4875-af9d-9b0eb01abaf0\",\"type\":\"WheelZoomTool\"},{\"id\":\"f5020ff4-0bc7-4c0a-b2be-8bd81525a307\",\"type\":\"BoxZoomTool\"},{\"id\":\"edb0a241-6341-4dfe-9bad-6f2157681789\",\"type\":\"SaveTool\"},{\"id\":\"05c6592f-42cc-43df-aaac-92e1dd1c126c\",\"type\":\"ResetTool\"},{\"id\":\"93ba7d87-b7d9-408f-882e-43384e6c9993\",\"type\":\"HelpTool\"}]},\"id\":\"d8e978ba-045c-4b4c-bc31-5afc6f9a37e5\",\"type\":\"Toolbar\"}],\"root_ids\":[\"56b36464-159f-47a7-8578-efaf7f1c0d64\"]},\"title\":\"Bokeh Application\",\"version\":\"0.12.14\"}};\n",
       "  var render_items = [{\"docid\":\"f6e9de6e-fadf-4af8-9ba8-d227ce292282\",\"elementid\":\"dbab117e-1194-4aa1-80f1-bf8b637e8a6f\",\"modelid\":\"56b36464-159f-47a7-8578-efaf7f1c0d64\"}];\n",
       "  root.Bokeh.embed.embed_items_notebook(docs_json, render_items);\n",
       "\n",
       "  }\n",
       "  if (root.Bokeh !== undefined) {\n",
       "    embed_document(root);\n",
       "  } else {\n",
       "    var attempts = 0;\n",
       "    var timer = setInterval(function(root) {\n",
       "      if (root.Bokeh !== undefined) {\n",
       "        embed_document(root);\n",
       "        clearInterval(timer);\n",
       "      }\n",
       "      attempts++;\n",
       "      if (attempts > 100) {\n",
       "        console.log(\"Bokeh: ERROR: Unable to run BokehJS code because BokehJS library is missing\")\n",
       "        clearInterval(timer);\n",
       "      }\n",
       "    }, 10, root)\n",
       "  }\n",
       "})(window);"
      ],
      "application/vnd.bokehjs_exec.v0+json": ""
     },
     "metadata": {
      "application/vnd.bokehjs_exec.v0+json": {
       "id": "56b36464-159f-47a7-8578-efaf7f1c0d64"
      }
     },
     "output_type": "display_data"
    },
    {
     "name": "stdout",
     "output_type": "stream",
     "text": [
      "FIGURE. Cooling rate profiles.\n"
     ]
    },
    {
     "data": {
      "text/html": [
       "<a id=\"Flux_Comparison\"></a>"
      ],
      "text/plain": [
       "<IPython.core.display.HTML object>"
      ]
     },
     "metadata": {},
     "output_type": "display_data"
    },
    {
     "data": {
      "text/markdown": [
       "# Flux Comparison"
      ],
      "text/plain": [
       "<IPython.core.display.Markdown object>"
      ]
     },
     "metadata": {},
     "output_type": "display_data"
    },
    {
     "data": {
      "text/html": [
       "<div>\n",
       "<style>\n",
       "    .dataframe thead tr:only-child th {\n",
       "        text-align: right;\n",
       "    }\n",
       "\n",
       "    .dataframe thead th {\n",
       "        text-align: left;\n",
       "    }\n",
       "\n",
       "    .dataframe tbody tr th {\n",
       "        vertical-align: top;\n",
       "    }\n",
       "</style>\n",
       "<table border=\"1\" class=\"dataframe\">\n",
       "  <thead>\n",
       "    <tr style=\"text-align: right;\">\n",
       "      <th></th>\n",
       "      <th></th>\n",
       "      <th>flug</th>\n",
       "      <th>fldg</th>\n",
       "      <th>fnetg</th>\n",
       "    </tr>\n",
       "    <tr>\n",
       "      <th>pressure</th>\n",
       "      <th>level</th>\n",
       "      <th></th>\n",
       "      <th></th>\n",
       "      <th></th>\n",
       "    </tr>\n",
       "  </thead>\n",
       "  <tbody>\n",
       "    <tr>\n",
       "      <th>0.0000</th>\n",
       "      <th>1</th>\n",
       "      <td>-25.277188</td>\n",
       "      <td>0.000000</td>\n",
       "      <td>-25.277188</td>\n",
       "    </tr>\n",
       "    <tr>\n",
       "      <th>1.0685</th>\n",
       "      <th>24</th>\n",
       "      <td>-25.276180</td>\n",
       "      <td>0.070059</td>\n",
       "      <td>-25.206121</td>\n",
       "    </tr>\n",
       "    <tr>\n",
       "      <th>1013.0000</th>\n",
       "      <th>76</th>\n",
       "      <td>-38.491734</td>\n",
       "      <td>36.952139</td>\n",
       "      <td>-1.539595</td>\n",
       "    </tr>\n",
       "  </tbody>\n",
       "</table>\n",
       "</div>"
      ],
      "text/plain": [
       "                      flug       fldg      fnetg\n",
       "pressure  level                                 \n",
       "0.0000    1     -25.277188   0.000000 -25.277188\n",
       "1.0685    24    -25.276180   0.070059 -25.206121\n",
       "1013.0000 76    -38.491734  36.952139  -1.539595"
      ]
     },
     "metadata": {},
     "output_type": "display_data"
    },
    {
     "name": "stdout",
     "output_type": "stream",
     "text": [
      "Table. Fluxes. WGT igg=10 wgt_flux=1\n"
     ]
    },
    {
     "data": {
      "text/html": [
       "<div>\n",
       "<style>\n",
       "    .dataframe thead tr:only-child th {\n",
       "        text-align: right;\n",
       "    }\n",
       "\n",
       "    .dataframe thead th {\n",
       "        text-align: left;\n",
       "    }\n",
       "\n",
       "    .dataframe tbody tr th {\n",
       "        vertical-align: top;\n",
       "    }\n",
       "</style>\n",
       "<table border=\"1\" class=\"dataframe\">\n",
       "  <thead>\n",
       "    <tr style=\"text-align: right;\">\n",
       "      <th></th>\n",
       "      <th></th>\n",
       "      <th>flug</th>\n",
       "      <th>fldg</th>\n",
       "      <th>fnetg</th>\n",
       "    </tr>\n",
       "    <tr>\n",
       "      <th>pressure</th>\n",
       "      <th>level</th>\n",
       "      <th></th>\n",
       "      <th></th>\n",
       "      <th></th>\n",
       "    </tr>\n",
       "  </thead>\n",
       "  <tbody>\n",
       "    <tr>\n",
       "      <th>0.0000</th>\n",
       "      <th>1</th>\n",
       "      <td>-25.162348</td>\n",
       "      <td>0.000000</td>\n",
       "      <td>-25.162348</td>\n",
       "    </tr>\n",
       "    <tr>\n",
       "      <th>1.0685</th>\n",
       "      <th>24</th>\n",
       "      <td>-25.161930</td>\n",
       "      <td>0.075640</td>\n",
       "      <td>-25.086290</td>\n",
       "    </tr>\n",
       "    <tr>\n",
       "      <th>1013.0000</th>\n",
       "      <th>76</th>\n",
       "      <td>-38.491734</td>\n",
       "      <td>37.325351</td>\n",
       "      <td>-1.166383</td>\n",
       "    </tr>\n",
       "  </tbody>\n",
       "</table>\n",
       "</div>"
      ],
      "text/plain": [
       "                      flug       fldg      fnetg\n",
       "pressure  level                                 \n",
       "0.0000    1     -25.162348   0.000000 -25.162348\n",
       "1.0685    24    -25.161930   0.075640 -25.086290\n",
       "1013.0000 76    -38.491734  37.325351  -1.166383"
      ]
     },
     "metadata": {},
     "output_type": "display_data"
    },
    {
     "name": "stdout",
     "output_type": "stream",
     "text": [
      "Table. Fluxes. CRD\n"
     ]
    },
    {
     "data": {
      "text/html": [
       "<div>\n",
       "<style>\n",
       "    .dataframe thead tr:only-child th {\n",
       "        text-align: right;\n",
       "    }\n",
       "\n",
       "    .dataframe thead th {\n",
       "        text-align: left;\n",
       "    }\n",
       "\n",
       "    .dataframe tbody tr th {\n",
       "        vertical-align: top;\n",
       "    }\n",
       "</style>\n",
       "<table border=\"1\" class=\"dataframe\">\n",
       "  <thead>\n",
       "    <tr style=\"text-align: right;\">\n",
       "      <th></th>\n",
       "      <th></th>\n",
       "      <th>flug</th>\n",
       "      <th>fldg</th>\n",
       "      <th>fnetg</th>\n",
       "    </tr>\n",
       "    <tr>\n",
       "      <th>pressure</th>\n",
       "      <th>level</th>\n",
       "      <th></th>\n",
       "      <th></th>\n",
       "      <th></th>\n",
       "    </tr>\n",
       "  </thead>\n",
       "  <tbody>\n",
       "    <tr>\n",
       "      <th>1.000000e-08</th>\n",
       "      <th>1</th>\n",
       "      <td>-25.452410</td>\n",
       "      <td>0.000002</td>\n",
       "      <td>-25.452408</td>\n",
       "    </tr>\n",
       "    <tr>\n",
       "      <th>1.068500e+00</th>\n",
       "      <th>24</th>\n",
       "      <td>-25.450876</td>\n",
       "      <td>0.066600</td>\n",
       "      <td>-25.384277</td>\n",
       "    </tr>\n",
       "    <tr>\n",
       "      <th>1.013000e+03</th>\n",
       "      <th>76</th>\n",
       "      <td>-38.491730</td>\n",
       "      <td>37.122715</td>\n",
       "      <td>-1.369015</td>\n",
       "    </tr>\n",
       "  </tbody>\n",
       "</table>\n",
       "</div>"
      ],
      "text/plain": [
       "                         flug       fldg      fnetg\n",
       "pressure     level                                 \n",
       "1.000000e-08 1     -25.452410   0.000002 -25.452408\n",
       "1.068500e+00 24    -25.450876   0.066600 -25.384277\n",
       "1.013000e+03 76    -38.491730  37.122715  -1.369015"
      ]
     },
     "metadata": {},
     "output_type": "display_data"
    },
    {
     "name": "stdout",
     "output_type": "stream",
     "text": [
      "Table. Fluxes. CLIRAD\n"
     ]
    },
    {
     "data": {
      "text/html": [
       "<div>\n",
       "<style>\n",
       "    .dataframe thead tr:only-child th {\n",
       "        text-align: right;\n",
       "    }\n",
       "\n",
       "    .dataframe thead th {\n",
       "        text-align: left;\n",
       "    }\n",
       "\n",
       "    .dataframe tbody tr th {\n",
       "        vertical-align: top;\n",
       "    }\n",
       "</style>\n",
       "<table border=\"1\" class=\"dataframe\">\n",
       "  <thead>\n",
       "    <tr style=\"text-align: right;\">\n",
       "      <th></th>\n",
       "      <th></th>\n",
       "      <th>flug</th>\n",
       "      <th>fldg</th>\n",
       "      <th>fnetg</th>\n",
       "    </tr>\n",
       "    <tr>\n",
       "      <th>pressure</th>\n",
       "      <th>level</th>\n",
       "      <th></th>\n",
       "      <th></th>\n",
       "      <th></th>\n",
       "    </tr>\n",
       "  </thead>\n",
       "  <tbody>\n",
       "    <tr>\n",
       "      <th>0.0000</th>\n",
       "      <th>1</th>\n",
       "      <td>0.11484</td>\n",
       "      <td>0.000000</td>\n",
       "      <td>0.114840</td>\n",
       "    </tr>\n",
       "    <tr>\n",
       "      <th>1.0685</th>\n",
       "      <th>24</th>\n",
       "      <td>0.11425</td>\n",
       "      <td>0.005581</td>\n",
       "      <td>0.119831</td>\n",
       "    </tr>\n",
       "    <tr>\n",
       "      <th>1013.0000</th>\n",
       "      <th>76</th>\n",
       "      <td>0.00000</td>\n",
       "      <td>0.373212</td>\n",
       "      <td>0.373212</td>\n",
       "    </tr>\n",
       "  </tbody>\n",
       "</table>\n",
       "</div>"
      ],
      "text/plain": [
       "                    flug      fldg     fnetg\n",
       "pressure  level                             \n",
       "0.0000    1      0.11484  0.000000  0.114840\n",
       "1.0685    24     0.11425  0.005581  0.119831\n",
       "1013.0000 76     0.00000  0.373212  0.373212"
      ]
     },
     "metadata": {},
     "output_type": "display_data"
    },
    {
     "name": "stdout",
     "output_type": "stream",
     "text": [
      "Table. Fluxes. (CRD) - (WGT igg=10 wgt_flux=1)\n"
     ]
    },
    {
     "data": {
      "text/html": [
       "<div>\n",
       "<style>\n",
       "    .dataframe thead tr:only-child th {\n",
       "        text-align: right;\n",
       "    }\n",
       "\n",
       "    .dataframe thead th {\n",
       "        text-align: left;\n",
       "    }\n",
       "\n",
       "    .dataframe tbody tr th {\n",
       "        vertical-align: top;\n",
       "    }\n",
       "</style>\n",
       "<table border=\"1\" class=\"dataframe\">\n",
       "  <thead>\n",
       "    <tr style=\"text-align: right;\">\n",
       "      <th></th>\n",
       "      <th></th>\n",
       "      <th>flug</th>\n",
       "      <th>fldg</th>\n",
       "      <th>fnetg</th>\n",
       "    </tr>\n",
       "    <tr>\n",
       "      <th>pressure</th>\n",
       "      <th>level</th>\n",
       "      <th></th>\n",
       "      <th></th>\n",
       "      <th></th>\n",
       "    </tr>\n",
       "  </thead>\n",
       "  <tbody>\n",
       "    <tr>\n",
       "      <th>0.0000</th>\n",
       "      <th>1</th>\n",
       "      <td>-0.175222</td>\n",
       "      <td>0.000002</td>\n",
       "      <td>-0.175220</td>\n",
       "    </tr>\n",
       "    <tr>\n",
       "      <th>1.0685</th>\n",
       "      <th>24</th>\n",
       "      <td>-0.174696</td>\n",
       "      <td>-0.003460</td>\n",
       "      <td>-0.178156</td>\n",
       "    </tr>\n",
       "    <tr>\n",
       "      <th>1013.0000</th>\n",
       "      <th>76</th>\n",
       "      <td>0.000004</td>\n",
       "      <td>0.170576</td>\n",
       "      <td>0.170581</td>\n",
       "    </tr>\n",
       "  </tbody>\n",
       "</table>\n",
       "</div>"
      ],
      "text/plain": [
       "                     flug      fldg     fnetg\n",
       "pressure  level                              \n",
       "0.0000    1     -0.175222  0.000002 -0.175220\n",
       "1.0685    24    -0.174696 -0.003460 -0.178156\n",
       "1013.0000 76     0.000004  0.170576  0.170581"
      ]
     },
     "metadata": {},
     "output_type": "display_data"
    },
    {
     "name": "stdout",
     "output_type": "stream",
     "text": [
      "Table. Fluxes. (CLIRAD) - (WGT igg=10 wgt_flux=1)\n"
     ]
    },
    {
     "data": {
      "text/html": [
       "<a id=\"Best-fit_Parameters\"></a>"
      ],
      "text/plain": [
       "<IPython.core.display.HTML object>"
      ]
     },
     "metadata": {},
     "output_type": "display_data"
    },
    {
     "data": {
      "text/markdown": [
       "# Best-fit Parameters"
      ],
      "text/plain": [
       "<IPython.core.display.Markdown object>"
      ]
     },
     "metadata": {},
     "output_type": "display_data"
    },
    {
     "name": "stdout",
     "output_type": "stream",
     "text": [
      "Best-fit values for each (gas, band)\n",
      "------------------------------------\n",
      "o co2 band3a\n",
      "  atmpro = mls\n",
      "  band = 3a\n",
      "  commitnumber = 2bd1f75\n",
      "  conc = 0.0004\n",
      "  dv = 0.01\n",
      "  klin = 6.375563e-24\n",
      "  molecule = co2\n",
      "  ng_adju = [0, 0, 0]\n",
      "  ng_refs = [3, 2, 4]\n",
      "  nv = 100\n",
      "  option_compute_btable = 0\n",
      "  option_compute_ktable = 1\n",
      "  option_wgt_flux = 1\n",
      "  option_wgt_k = 1\n",
      "  ref_pts = [(1, 250), (10, 250), (500, 250)]\n",
      "  tsfc = 294\n",
      "  vmax = 620\n",
      "  vmin = 540\n",
      "  w_diffuse = [(1.6, 1.6, 1.7), (1.75, 1.75), (1.55, 1.55, 1.6, 1.85)]\n",
      "  wgt = [(0.7, 0.3, 0.7), (0.7, 0.6), (0.4, 0.5, 0.8, 0.95)]\n",
      "o h2o band3a\n",
      "  atmpro = mls\n",
      "  band = 3a\n",
      "  commitnumber = 2bd1f75\n",
      "  conc = None\n",
      "  dv = 0.01\n",
      "  klin = 0\n",
      "  molecule = h2o\n",
      "  ng_adju = [0, 0]\n",
      "  ng_refs = [2, 6]\n",
      "  nv = 100\n",
      "  option_compute_btable = 0\n",
      "  option_compute_ktable = 1\n",
      "  option_wgt_flux = 1\n",
      "  option_wgt_k = 1\n",
      "  ref_pts = [(10, 250), (600, 250)]\n",
      "  tsfc = 294\n",
      "  vmax = 620\n",
      "  vmin = 540\n",
      "  w_diffuse = [(1.9, 1.7), (1.4, 1.4, 1.4, 1.55, 1.6, 1.66)]\n",
      "  wgt = [(0.7, 0.7), (0.7, 0.5, 0.5, 0.5, 0.5, 0.5)]\n",
      "o n2o band3a\n",
      "  atmpro = mls\n",
      "  band = 3a\n",
      "  commitnumber = 2bd1f75\n",
      "  conc = 3.2e-07\n",
      "  dv = 0.01\n",
      "  klin = 2.22e-20\n",
      "  molecule = n2o\n",
      "  ng_adju = [0, 0]\n",
      "  ng_refs = [1, 2]\n",
      "  nv = 100\n",
      "  option_compute_btable = 0\n",
      "  option_compute_ktable = 1\n",
      "  option_wgt_flux = 1\n",
      "  option_wgt_k = 1\n",
      "  ref_pts = [(1, 250), (500, 250)]\n",
      "  tsfc = 294\n",
      "  vmax = 620\n",
      "  vmin = 540\n",
      "  w_diffuse = [(1.8,), (1.66, 1.8)]\n",
      "  wgt = [(0.9,), (0.5, 0.95)]\n"
     ]
    }
   ],
   "source": [
    "script()"
   ]
  },
  {
   "cell_type": "code",
   "execution_count": 13,
   "metadata": {
    "collapsed": true
   },
   "outputs": [
    {
     "data": {
      "text/html": [
       "<script>\n",
       "code_show=true; \n",
       "function code_toggle() {\n",
       " if (code_show){\n",
       " $('div.input').hide();\n",
       " } else {\n",
       " $('div.input').show();\n",
       " }\n",
       " code_show = !code_show\n",
       "} \n",
       "$( document ).ready(code_toggle);\n",
       "</script>\n",
       "<form action=\"javascript:code_toggle()\"><input type=\"submit\" value=\"Click here to toggle on/off the raw code.\"></form>"
      ],
      "text/plain": [
       "<IPython.core.display.HTML object>"
      ]
     },
     "execution_count": 13,
     "metadata": {},
     "output_type": "execute_result"
    }
   ],
   "source": [
    "display.HTML('''<script>\n",
    "code_show=true; \n",
    "function code_toggle() {\n",
    " if (code_show){\n",
    " $('div.input').hide();\n",
    " } else {\n",
    " $('div.input').show();\n",
    " }\n",
    " code_show = !code_show\n",
    "} \n",
    "$( document ).ready(code_toggle);\n",
    "</script>\n",
    "<form action=\"javascript:code_toggle()\"><input type=\"submit\" value=\"Click here to toggle on/off the raw code.\"></form>''')"
   ]
  }
 ],
 "metadata": {
  "kernelspec": {
   "display_name": "Python 3",
   "language": "python",
   "name": "python3"
  },
  "language_info": {
   "codemirror_mode": {
    "name": "ipython",
    "version": 3
   },
   "file_extension": ".py",
   "mimetype": "text/x-python",
   "name": "python",
   "nbconvert_exporter": "python",
   "pygments_lexer": "ipython3",
   "version": "3.6.1"
  }
 },
 "nbformat": 4,
 "nbformat_minor": 2
}
