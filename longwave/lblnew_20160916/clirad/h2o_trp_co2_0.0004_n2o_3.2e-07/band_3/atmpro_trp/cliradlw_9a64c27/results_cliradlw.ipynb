{
 "cells": [
  {
   "cell_type": "code",
   "execution_count": 1,
   "metadata": {
    "collapsed": true
   },
   "outputs": [],
   "source": [
    "%matplotlib inline\n",
    "import os\n",
    "import re\n",
    "import io\n",
    "import itertools\n",
    "import pprint\n",
    "\n",
    "from bokeh.io import output_notebook, show\n",
    "from bokeh.layouts import gridplot\n",
    "from bokeh.plotting import figure\n",
    "from bokeh.models import Range1d, Legend\n",
    "from bokeh.palettes import all_palettes\n",
    "\n",
    "import matplotlib\n",
    "import matplotlib.pyplot as plt\n",
    "import numpy as np\n",
    "import pandas as pd\n",
    "import xarray as xr\n",
    "\n",
    "import climatools.lblnew.bestfit_params as bestfits\n",
    "from climatools.lblnew import setup_bestfit, setup_overlap\n",
    "import climatools.lblnew.pipeline as pipe_lblnew\n",
    "import climatools.cliradlw.setup as setup_cliradlw\n",
    "import climatools.cliradlw.pipeline as pipe_cliradlw\n",
    "\n",
    "import climatools.html.html as climahtml\n",
    "from climatools.lblnew.dataio import *\n",
    "from climatools.plot.plot import *\n",
    "\n",
    "\n",
    "import IPython.display as display"
   ]
  },
  {
   "cell_type": "code",
   "execution_count": 2,
   "metadata": {
    "collapsed": true
   },
   "outputs": [],
   "source": [
    "%run param.py"
   ]
  },
  {
   "cell_type": "code",
   "execution_count": 3,
   "metadata": {
    "collapsed": true
   },
   "outputs": [],
   "source": [
    "def load_output_file(path_csv):\n",
    "    '''\n",
    "    Load lblnew output .csv file to xarray.Dataset\n",
    "    \n",
    "    Parameters\n",
    "    ----------\n",
    "    path_csv: str\n",
    "              Path to the .csv file to be loaded.\n",
    "    ds: xarray.Dataset\n",
    "        Data in the input file in the form of an xarray.Dataset.\n",
    "    '''\n",
    "    toindex = ['band', 'pressure', 'igg', 'g']    \n",
    "    df = pd.read_csv(path_csv, sep=r'\\s+')\n",
    "    df = df.set_index([i for i in toindex if i in df.columns])\n",
    "    df = df.rename(columns={'sfu': 'flug',\n",
    "                            'sfd': 'fldg',\n",
    "                            'fnet': 'fnetg',\n",
    "                            'coolr': 'coolrg'})\n",
    "    ds = xr.Dataset.from_dataframe(df)\n",
    "\n",
    "    for l in ('level', 'layer'):\n",
    "        if l in ds.data_vars:\n",
    "            if len(ds[l].dims) > 1:\n",
    "                surface = {d: 0 for d in ds.dims if d != 'pressure'}\n",
    "                coord_level = ds[l][surface]\n",
    "                ds.coords[l] = ('pressure', coord_level)\n",
    "            else:\n",
    "                ds.coords[l] = ('pressure', ds[l])\n",
    "    \n",
    "    return ds"
   ]
  },
  {
   "cell_type": "code",
   "execution_count": 4,
   "metadata": {
    "collapsed": true
   },
   "outputs": [],
   "source": [
    "def lblnew_setup(param=None):\n",
    "    if 'ng_refs' in param:\n",
    "        return {'setup': setup_bestfit,\n",
    "                'fname_flux_crd': 'output_flux.dat',\n",
    "                'fname_cool_crd': 'output_coolr.dat',\n",
    "                'fname_flux_wgt': 'output_wfluxg.dat',\n",
    "                'fname_cool_wgt': 'output_wcoolrg.dat'}\n",
    "    else:\n",
    "        return {'setup': setup_overlap,\n",
    "                'fname_flux_crd': 'output_flux.dat',\n",
    "                'fname_cool_crd': 'output_coolr.dat',\n",
    "                'fname_flux_wgt': 'output_wflux.dat',\n",
    "                'fname_cool_wgt': 'output_wcoolr.dat'}\n",
    "\n",
    "    \n",
    "def load_lblnew_data(param):\n",
    "    \n",
    "    fname_dsname = [('fname_flux_crd', 'ds_flux_crd'),\n",
    "                    ('fname_cool_crd', 'ds_cool_crd'),\n",
    "                    ('fname_flux_wgt', 'ds_flux_wgt'),\n",
    "                    ('fname_cool_wgt', 'ds_cool_wgt')]\n",
    "    \n",
    "    d = lblnew_setup(param)\n",
    "    dir_fortran = pipe_lblnew.get_dir_case(param, setup=d['setup'])\n",
    "    \n",
    "    data_dict = {}\n",
    "    for fname, dsname in fname_dsname:\n",
    "        fpath = os.path.join(dir_fortran, d[fname])\n",
    "        data_dict[dsname] = load_output_file(fpath)\n",
    "    return data_dict\n",
    "    \n",
    "\n",
    "    \n",
    "    "
   ]
  },
  {
   "cell_type": "code",
   "execution_count": 5,
   "metadata": {
    "collapsed": true
   },
   "outputs": [],
   "source": [
    "d = load_lblnew_data(PARAM_LBLNEW)\n",
    "\n",
    "DS_FLUX_CRD = d['ds_flux_crd']\n",
    "DS_COOL_CRD = d['ds_cool_crd']\n",
    "DS_FLUX_WGT = d['ds_flux_wgt']\n",
    "DS_COOL_WGT = d['ds_cool_wgt']"
   ]
  },
  {
   "cell_type": "code",
   "execution_count": 6,
   "metadata": {
    "collapsed": true
   },
   "outputs": [],
   "source": [
    "DIR_FORTRAN = pipe_cliradlw.get_fortran_dir(PARAM, \n",
    "                                            setup=setup_cliradlw)\n",
    "\n",
    "PATH_FLUX = os.path.join(DIR_FORTRAN, 'output_flux.dat')\n",
    "PATH_COOL = os.path.join(DIR_FORTRAN, 'output_coolr.dat')\n",
    "\n",
    "DS_FLUX = load_output_file(PATH_FLUX)\n",
    "DS_COOL = load_output_file(PATH_COOL)"
   ]
  },
  {
   "cell_type": "code",
   "execution_count": 7,
   "metadata": {
    "collapsed": true
   },
   "outputs": [
    {
     "data": {
      "text/html": [
       "\n",
       "    <div class=\"bk-root\">\n",
       "        <a href=\"https://bokeh.pydata.org\" target=\"_blank\" class=\"bk-logo bk-logo-small bk-logo-notebook\"></a>\n",
       "        <span id=\"8e018044-d408-4432-acb7-952823d7ce78\">Loading BokehJS ...</span>\n",
       "    </div>"
      ]
     },
     "metadata": {},
     "output_type": "display_data"
    },
    {
     "data": {
      "application/javascript": [
       "\n",
       "(function(root) {\n",
       "  function now() {\n",
       "    return new Date();\n",
       "  }\n",
       "\n",
       "  var force = true;\n",
       "\n",
       "  if (typeof (root._bokeh_onload_callbacks) === \"undefined\" || force === true) {\n",
       "    root._bokeh_onload_callbacks = [];\n",
       "    root._bokeh_is_loading = undefined;\n",
       "  }\n",
       "\n",
       "  var JS_MIME_TYPE = 'application/javascript';\n",
       "  var HTML_MIME_TYPE = 'text/html';\n",
       "  var EXEC_MIME_TYPE = 'application/vnd.bokehjs_exec.v0+json';\n",
       "  var CLASS_NAME = 'output_bokeh rendered_html';\n",
       "\n",
       "  /**\n",
       "   * Render data to the DOM node\n",
       "   */\n",
       "  function render(props, node) {\n",
       "    var script = document.createElement(\"script\");\n",
       "    node.appendChild(script);\n",
       "  }\n",
       "\n",
       "  /**\n",
       "   * Handle when an output is cleared or removed\n",
       "   */\n",
       "  function handleClearOutput(event, handle) {\n",
       "    var cell = handle.cell;\n",
       "\n",
       "    var id = cell.output_area._bokeh_element_id;\n",
       "    var server_id = cell.output_area._bokeh_server_id;\n",
       "    // Clean up Bokeh references\n",
       "    if (id !== undefined) {\n",
       "      Bokeh.index[id].model.document.clear();\n",
       "      delete Bokeh.index[id];\n",
       "    }\n",
       "\n",
       "    if (server_id !== undefined) {\n",
       "      // Clean up Bokeh references\n",
       "      var cmd = \"from bokeh.io.state import curstate; print(curstate().uuid_to_server['\" + server_id + \"'].get_sessions()[0].document.roots[0]._id)\";\n",
       "      cell.notebook.kernel.execute(cmd, {\n",
       "        iopub: {\n",
       "          output: function(msg) {\n",
       "            var element_id = msg.content.text.trim();\n",
       "            Bokeh.index[element_id].model.document.clear();\n",
       "            delete Bokeh.index[element_id];\n",
       "          }\n",
       "        }\n",
       "      });\n",
       "      // Destroy server and session\n",
       "      var cmd = \"import bokeh.io.notebook as ion; ion.destroy_server('\" + server_id + \"')\";\n",
       "      cell.notebook.kernel.execute(cmd);\n",
       "    }\n",
       "  }\n",
       "\n",
       "  /**\n",
       "   * Handle when a new output is added\n",
       "   */\n",
       "  function handleAddOutput(event, handle) {\n",
       "    var output_area = handle.output_area;\n",
       "    var output = handle.output;\n",
       "\n",
       "    // limit handleAddOutput to display_data with EXEC_MIME_TYPE content only\n",
       "    if ((output.output_type != \"display_data\") || (!output.data.hasOwnProperty(EXEC_MIME_TYPE))) {\n",
       "      return\n",
       "    }\n",
       "\n",
       "    var toinsert = output_area.element.find(\".\" + CLASS_NAME.split(' ')[0]);\n",
       "\n",
       "    if (output.metadata[EXEC_MIME_TYPE][\"id\"] !== undefined) {\n",
       "      toinsert[0].firstChild.textContent = output.data[JS_MIME_TYPE];\n",
       "      // store reference to embed id on output_area\n",
       "      output_area._bokeh_element_id = output.metadata[EXEC_MIME_TYPE][\"id\"];\n",
       "    }\n",
       "    if (output.metadata[EXEC_MIME_TYPE][\"server_id\"] !== undefined) {\n",
       "      var bk_div = document.createElement(\"div\");\n",
       "      bk_div.innerHTML = output.data[HTML_MIME_TYPE];\n",
       "      var script_attrs = bk_div.children[0].attributes;\n",
       "      for (var i = 0; i < script_attrs.length; i++) {\n",
       "        toinsert[0].firstChild.setAttribute(script_attrs[i].name, script_attrs[i].value);\n",
       "      }\n",
       "      // store reference to server id on output_area\n",
       "      output_area._bokeh_server_id = output.metadata[EXEC_MIME_TYPE][\"server_id\"];\n",
       "    }\n",
       "  }\n",
       "\n",
       "  function register_renderer(events, OutputArea) {\n",
       "\n",
       "    function append_mime(data, metadata, element) {\n",
       "      // create a DOM node to render to\n",
       "      var toinsert = this.create_output_subarea(\n",
       "        metadata,\n",
       "        CLASS_NAME,\n",
       "        EXEC_MIME_TYPE\n",
       "      );\n",
       "      this.keyboard_manager.register_events(toinsert);\n",
       "      // Render to node\n",
       "      var props = {data: data, metadata: metadata[EXEC_MIME_TYPE]};\n",
       "      render(props, toinsert[0]);\n",
       "      element.append(toinsert);\n",
       "      return toinsert\n",
       "    }\n",
       "\n",
       "    /* Handle when an output is cleared or removed */\n",
       "    events.on('clear_output.CodeCell', handleClearOutput);\n",
       "    events.on('delete.Cell', handleClearOutput);\n",
       "\n",
       "    /* Handle when a new output is added */\n",
       "    events.on('output_added.OutputArea', handleAddOutput);\n",
       "\n",
       "    /**\n",
       "     * Register the mime type and append_mime function with output_area\n",
       "     */\n",
       "    OutputArea.prototype.register_mime_type(EXEC_MIME_TYPE, append_mime, {\n",
       "      /* Is output safe? */\n",
       "      safe: true,\n",
       "      /* Index of renderer in `output_area.display_order` */\n",
       "      index: 0\n",
       "    });\n",
       "  }\n",
       "\n",
       "  // register the mime type if in Jupyter Notebook environment and previously unregistered\n",
       "  if (root.Jupyter !== undefined) {\n",
       "    var events = require('base/js/events');\n",
       "    var OutputArea = require('notebook/js/outputarea').OutputArea;\n",
       "\n",
       "    if (OutputArea.prototype.mime_types().indexOf(EXEC_MIME_TYPE) == -1) {\n",
       "      register_renderer(events, OutputArea);\n",
       "    }\n",
       "  }\n",
       "\n",
       "  \n",
       "  if (typeof (root._bokeh_timeout) === \"undefined\" || force === true) {\n",
       "    root._bokeh_timeout = Date.now() + 5000;\n",
       "    root._bokeh_failed_load = false;\n",
       "  }\n",
       "\n",
       "  var NB_LOAD_WARNING = {'data': {'text/html':\n",
       "     \"<div style='background-color: #fdd'>\\n\"+\n",
       "     \"<p>\\n\"+\n",
       "     \"BokehJS does not appear to have successfully loaded. If loading BokehJS from CDN, this \\n\"+\n",
       "     \"may be due to a slow or bad network connection. Possible fixes:\\n\"+\n",
       "     \"</p>\\n\"+\n",
       "     \"<ul>\\n\"+\n",
       "     \"<li>re-rerun `output_notebook()` to attempt to load from CDN again, or</li>\\n\"+\n",
       "     \"<li>use INLINE resources instead, as so:</li>\\n\"+\n",
       "     \"</ul>\\n\"+\n",
       "     \"<code>\\n\"+\n",
       "     \"from bokeh.resources import INLINE\\n\"+\n",
       "     \"output_notebook(resources=INLINE)\\n\"+\n",
       "     \"</code>\\n\"+\n",
       "     \"</div>\"}};\n",
       "\n",
       "  function display_loaded() {\n",
       "    var el = document.getElementById(\"8e018044-d408-4432-acb7-952823d7ce78\");\n",
       "    if (el != null) {\n",
       "      el.textContent = \"BokehJS is loading...\";\n",
       "    }\n",
       "    if (root.Bokeh !== undefined) {\n",
       "      if (el != null) {\n",
       "        el.textContent = \"BokehJS \" + root.Bokeh.version + \" successfully loaded.\";\n",
       "      }\n",
       "    } else if (Date.now() < root._bokeh_timeout) {\n",
       "      setTimeout(display_loaded, 100)\n",
       "    }\n",
       "  }\n",
       "\n",
       "\n",
       "  function run_callbacks() {\n",
       "    try {\n",
       "      root._bokeh_onload_callbacks.forEach(function(callback) { callback() });\n",
       "    }\n",
       "    finally {\n",
       "      delete root._bokeh_onload_callbacks\n",
       "    }\n",
       "    console.info(\"Bokeh: all callbacks have finished\");\n",
       "  }\n",
       "\n",
       "  function load_libs(js_urls, callback) {\n",
       "    root._bokeh_onload_callbacks.push(callback);\n",
       "    if (root._bokeh_is_loading > 0) {\n",
       "      console.log(\"Bokeh: BokehJS is being loaded, scheduling callback at\", now());\n",
       "      return null;\n",
       "    }\n",
       "    if (js_urls == null || js_urls.length === 0) {\n",
       "      run_callbacks();\n",
       "      return null;\n",
       "    }\n",
       "    console.log(\"Bokeh: BokehJS not loaded, scheduling load and callback at\", now());\n",
       "    root._bokeh_is_loading = js_urls.length;\n",
       "    for (var i = 0; i < js_urls.length; i++) {\n",
       "      var url = js_urls[i];\n",
       "      var s = document.createElement('script');\n",
       "      s.src = url;\n",
       "      s.async = false;\n",
       "      s.onreadystatechange = s.onload = function() {\n",
       "        root._bokeh_is_loading--;\n",
       "        if (root._bokeh_is_loading === 0) {\n",
       "          console.log(\"Bokeh: all BokehJS libraries loaded\");\n",
       "          run_callbacks()\n",
       "        }\n",
       "      };\n",
       "      s.onerror = function() {\n",
       "        console.warn(\"failed to load library \" + url);\n",
       "      };\n",
       "      console.log(\"Bokeh: injecting script tag for BokehJS library: \", url);\n",
       "      document.getElementsByTagName(\"head\")[0].appendChild(s);\n",
       "    }\n",
       "  };var element = document.getElementById(\"8e018044-d408-4432-acb7-952823d7ce78\");\n",
       "  if (element == null) {\n",
       "    console.log(\"Bokeh: ERROR: autoload.js configured with elementid '8e018044-d408-4432-acb7-952823d7ce78' but no matching script tag was found. \")\n",
       "    return false;\n",
       "  }\n",
       "\n",
       "  var js_urls = [\"https://cdn.pydata.org/bokeh/release/bokeh-0.12.14.min.js\", \"https://cdn.pydata.org/bokeh/release/bokeh-widgets-0.12.14.min.js\", \"https://cdn.pydata.org/bokeh/release/bokeh-tables-0.12.14.min.js\", \"https://cdn.pydata.org/bokeh/release/bokeh-gl-0.12.14.min.js\"];\n",
       "\n",
       "  var inline_js = [\n",
       "    function(Bokeh) {\n",
       "      Bokeh.set_log_level(\"info\");\n",
       "    },\n",
       "    \n",
       "    function(Bokeh) {\n",
       "      \n",
       "    },\n",
       "    function(Bokeh) {\n",
       "      console.log(\"Bokeh: injecting CSS: https://cdn.pydata.org/bokeh/release/bokeh-0.12.14.min.css\");\n",
       "      Bokeh.embed.inject_css(\"https://cdn.pydata.org/bokeh/release/bokeh-0.12.14.min.css\");\n",
       "      console.log(\"Bokeh: injecting CSS: https://cdn.pydata.org/bokeh/release/bokeh-widgets-0.12.14.min.css\");\n",
       "      Bokeh.embed.inject_css(\"https://cdn.pydata.org/bokeh/release/bokeh-widgets-0.12.14.min.css\");\n",
       "      console.log(\"Bokeh: injecting CSS: https://cdn.pydata.org/bokeh/release/bokeh-tables-0.12.14.min.css\");\n",
       "      Bokeh.embed.inject_css(\"https://cdn.pydata.org/bokeh/release/bokeh-tables-0.12.14.min.css\");\n",
       "    }\n",
       "  ];\n",
       "\n",
       "  function run_inline_js() {\n",
       "    \n",
       "    if ((root.Bokeh !== undefined) || (force === true)) {\n",
       "      for (var i = 0; i < inline_js.length; i++) {\n",
       "        inline_js[i].call(root, root.Bokeh);\n",
       "      }if (force === true) {\n",
       "        display_loaded();\n",
       "      }} else if (Date.now() < root._bokeh_timeout) {\n",
       "      setTimeout(run_inline_js, 100);\n",
       "    } else if (!root._bokeh_failed_load) {\n",
       "      console.log(\"Bokeh: BokehJS failed to load within specified timeout.\");\n",
       "      root._bokeh_failed_load = true;\n",
       "    } else if (force !== true) {\n",
       "      var cell = $(document.getElementById(\"8e018044-d408-4432-acb7-952823d7ce78\")).parents('.cell').data().cell;\n",
       "      cell.output_area.append_execute_result(NB_LOAD_WARNING)\n",
       "    }\n",
       "\n",
       "  }\n",
       "\n",
       "  if (root._bokeh_is_loading === 0) {\n",
       "    console.log(\"Bokeh: BokehJS loaded, going straight to plotting\");\n",
       "    run_inline_js();\n",
       "  } else {\n",
       "    load_libs(js_urls, function() {\n",
       "      console.log(\"Bokeh: BokehJS plotting callback run at\", now());\n",
       "      run_inline_js();\n",
       "    });\n",
       "  }\n",
       "}(window));"
      ],
      "application/vnd.bokehjs_load.v0+json": "\n(function(root) {\n  function now() {\n    return new Date();\n  }\n\n  var force = true;\n\n  if (typeof (root._bokeh_onload_callbacks) === \"undefined\" || force === true) {\n    root._bokeh_onload_callbacks = [];\n    root._bokeh_is_loading = undefined;\n  }\n\n  \n\n  \n  if (typeof (root._bokeh_timeout) === \"undefined\" || force === true) {\n    root._bokeh_timeout = Date.now() + 5000;\n    root._bokeh_failed_load = false;\n  }\n\n  var NB_LOAD_WARNING = {'data': {'text/html':\n     \"<div style='background-color: #fdd'>\\n\"+\n     \"<p>\\n\"+\n     \"BokehJS does not appear to have successfully loaded. If loading BokehJS from CDN, this \\n\"+\n     \"may be due to a slow or bad network connection. Possible fixes:\\n\"+\n     \"</p>\\n\"+\n     \"<ul>\\n\"+\n     \"<li>re-rerun `output_notebook()` to attempt to load from CDN again, or</li>\\n\"+\n     \"<li>use INLINE resources instead, as so:</li>\\n\"+\n     \"</ul>\\n\"+\n     \"<code>\\n\"+\n     \"from bokeh.resources import INLINE\\n\"+\n     \"output_notebook(resources=INLINE)\\n\"+\n     \"</code>\\n\"+\n     \"</div>\"}};\n\n  function display_loaded() {\n    var el = document.getElementById(\"8e018044-d408-4432-acb7-952823d7ce78\");\n    if (el != null) {\n      el.textContent = \"BokehJS is loading...\";\n    }\n    if (root.Bokeh !== undefined) {\n      if (el != null) {\n        el.textContent = \"BokehJS \" + root.Bokeh.version + \" successfully loaded.\";\n      }\n    } else if (Date.now() < root._bokeh_timeout) {\n      setTimeout(display_loaded, 100)\n    }\n  }\n\n\n  function run_callbacks() {\n    try {\n      root._bokeh_onload_callbacks.forEach(function(callback) { callback() });\n    }\n    finally {\n      delete root._bokeh_onload_callbacks\n    }\n    console.info(\"Bokeh: all callbacks have finished\");\n  }\n\n  function load_libs(js_urls, callback) {\n    root._bokeh_onload_callbacks.push(callback);\n    if (root._bokeh_is_loading > 0) {\n      console.log(\"Bokeh: BokehJS is being loaded, scheduling callback at\", now());\n      return null;\n    }\n    if (js_urls == null || js_urls.length === 0) {\n      run_callbacks();\n      return null;\n    }\n    console.log(\"Bokeh: BokehJS not loaded, scheduling load and callback at\", now());\n    root._bokeh_is_loading = js_urls.length;\n    for (var i = 0; i < js_urls.length; i++) {\n      var url = js_urls[i];\n      var s = document.createElement('script');\n      s.src = url;\n      s.async = false;\n      s.onreadystatechange = s.onload = function() {\n        root._bokeh_is_loading--;\n        if (root._bokeh_is_loading === 0) {\n          console.log(\"Bokeh: all BokehJS libraries loaded\");\n          run_callbacks()\n        }\n      };\n      s.onerror = function() {\n        console.warn(\"failed to load library \" + url);\n      };\n      console.log(\"Bokeh: injecting script tag for BokehJS library: \", url);\n      document.getElementsByTagName(\"head\")[0].appendChild(s);\n    }\n  };var element = document.getElementById(\"8e018044-d408-4432-acb7-952823d7ce78\");\n  if (element == null) {\n    console.log(\"Bokeh: ERROR: autoload.js configured with elementid '8e018044-d408-4432-acb7-952823d7ce78' but no matching script tag was found. \")\n    return false;\n  }\n\n  var js_urls = [\"https://cdn.pydata.org/bokeh/release/bokeh-0.12.14.min.js\", \"https://cdn.pydata.org/bokeh/release/bokeh-widgets-0.12.14.min.js\", \"https://cdn.pydata.org/bokeh/release/bokeh-tables-0.12.14.min.js\", \"https://cdn.pydata.org/bokeh/release/bokeh-gl-0.12.14.min.js\"];\n\n  var inline_js = [\n    function(Bokeh) {\n      Bokeh.set_log_level(\"info\");\n    },\n    \n    function(Bokeh) {\n      \n    },\n    function(Bokeh) {\n      console.log(\"Bokeh: injecting CSS: https://cdn.pydata.org/bokeh/release/bokeh-0.12.14.min.css\");\n      Bokeh.embed.inject_css(\"https://cdn.pydata.org/bokeh/release/bokeh-0.12.14.min.css\");\n      console.log(\"Bokeh: injecting CSS: https://cdn.pydata.org/bokeh/release/bokeh-widgets-0.12.14.min.css\");\n      Bokeh.embed.inject_css(\"https://cdn.pydata.org/bokeh/release/bokeh-widgets-0.12.14.min.css\");\n      console.log(\"Bokeh: injecting CSS: https://cdn.pydata.org/bokeh/release/bokeh-tables-0.12.14.min.css\");\n      Bokeh.embed.inject_css(\"https://cdn.pydata.org/bokeh/release/bokeh-tables-0.12.14.min.css\");\n    }\n  ];\n\n  function run_inline_js() {\n    \n    if ((root.Bokeh !== undefined) || (force === true)) {\n      for (var i = 0; i < inline_js.length; i++) {\n        inline_js[i].call(root, root.Bokeh);\n      }if (force === true) {\n        display_loaded();\n      }} else if (Date.now() < root._bokeh_timeout) {\n      setTimeout(run_inline_js, 100);\n    } else if (!root._bokeh_failed_load) {\n      console.log(\"Bokeh: BokehJS failed to load within specified timeout.\");\n      root._bokeh_failed_load = true;\n    } else if (force !== true) {\n      var cell = $(document.getElementById(\"8e018044-d408-4432-acb7-952823d7ce78\")).parents('.cell').data().cell;\n      cell.output_area.append_execute_result(NB_LOAD_WARNING)\n    }\n\n  }\n\n  if (root._bokeh_is_loading === 0) {\n    console.log(\"Bokeh: BokehJS loaded, going straight to plotting\");\n    run_inline_js();\n  } else {\n    load_libs(js_urls, function() {\n      console.log(\"Bokeh: BokehJS plotting callback run at\", now());\n      run_inline_js();\n    });\n  }\n}(window));"
     },
     "metadata": {},
     "output_type": "display_data"
    }
   ],
   "source": [
    "output_notebook()"
   ]
  },
  {
   "cell_type": "code",
   "execution_count": 8,
   "metadata": {
    "collapsed": true
   },
   "outputs": [],
   "source": [
    "def fmt_cool(ds_in):\n",
    "    ds = ds_in.copy(deep=True)\n",
    "    if 'igg' in ds.dims:\n",
    "        ds = ds.sel(igg=1)\n",
    "\n",
    "    if 'g' in ds.dims:\n",
    "        ds = ds.sum('g')\n",
    "            \n",
    "    if 'band' in ds.dims:\n",
    "        try:\n",
    "            ds = ds.squeeze('band')\n",
    "        except ValueError:\n",
    "            ds = ds.sum('band')\n",
    "                \n",
    "    return ds['coolrg']\n",
    "\n",
    "\n",
    "def pltdata_cooling_1(ds_cool=None,\n",
    "                      ds_cool_crd=None, ds_cool_wgt=None):\n",
    "    \n",
    "\n",
    "\n",
    "    colors = all_palettes['Set1'][4]\n",
    "    data = [{'label': 'CLIRAD `coolr_bands`',\n",
    "             'srs': fmt_cool(ds_cool),\n",
    "             'line_dash': 'dashed', 'line_width': 5,\n",
    "             'color': colors[0], 'alpha': .6},\n",
    "            {'label': 'CRD',\n",
    "             'srs': fmt_cool(ds_cool_crd),\n",
    "             'line_dash': 'solid', 'line_width': 1.5,\n",
    "             'marker': 'circle', 'marker_size': 5,\n",
    "             'color': colors[2], 'alpha': 1,},\n",
    "            {'label': 'WGT igg=10 wgt_flux=2',\n",
    "             'srs': fmt_cool(ds_cool_wgt),\n",
    "             'line_dash': 'solid', 'line_width': 3,\n",
    "             'marker': 'square', 'marker_size': 5,\n",
    "             'color': colors[3], 'alpha': .6}]\n",
    "    return data\n",
    "\n",
    "\n",
    "def nice_xlims(pltdata=None, prange=None):\n",
    "    \n",
    "    def get_slice(srs):\n",
    "        return srs.sel(pressure=slice(*prange))\n",
    "    \n",
    "    srss = [d['srs'] for d in pltdata]\n",
    "    vmin = min([get_slice(srs).min() for srs in srss])\n",
    "    vmax = max([get_slice(srs).max() for srs in srss])\n",
    "    dv = (vmax - vmin) * .01\n",
    "    return float(vmin - dv), float(vmax + dv)\n",
    "    \n",
    "\n",
    "def plt_cooling_bokeh(pltdata=None):\n",
    "    '''\n",
    "    Plot a list of cooling rate profiles using bokeh.\n",
    "    '''\n",
    "    ymin = 1e-2 \n",
    "    ymax = 1020 \n",
    "        \n",
    "    p1 = figure(title=\"Linear pressure scale\", \n",
    "                plot_width=400)        \n",
    "    xmin, xmax = nice_xlims(pltdata, prange=(50, 1050))\n",
    "    for d in pltdata:\n",
    "        if 'marker' in d:\n",
    "            getattr(p1, d['marker'])(d['srs'].values, \n",
    "                    d['srs'].coords['pressure'].values,\n",
    "                    color=d['color'], alpha=.7)\n",
    "        p1.line(d['srs'].values, \n",
    "                d['srs'].coords['pressure'].values,\n",
    "                color=d['color'], alpha=d['alpha'], \n",
    "                line_width=d['line_width'], line_dash=d['line_dash'])\n",
    "    \n",
    "    p1.y_range = Range1d(ymax, ymin)\n",
    "    p1.yaxis.axis_label = 'pressure [mb]'   \n",
    "    p1.x_range = Range1d(xmin, xmax)\n",
    "    p1.xaxis.axis_label = 'cooling rate [K/day]'\n",
    "            \n",
    "    p2 = figure(title='Log pressure scale', y_axis_type='log',\n",
    "                plot_width=560)\n",
    "    xmin, xmax = nice_xlims(pltdata, prange=(.01, 200))\n",
    "    \n",
    "    rs = []\n",
    "    for d in pltdata:\n",
    "        rd = []\n",
    "        if 'marker' in d:\n",
    "            r_mark = getattr(p2, d['marker'])(d['srs'].values, \n",
    "                        d['srs'].coords['pressure'].values,\n",
    "                        color=d['color'], alpha=.7)\n",
    "            rd.append(r_mark)\n",
    "        r_line = p2.line(d['srs'].values, \n",
    "                    d['srs'].coords['pressure'].values,\n",
    "                    color=d['color'], alpha=d['alpha'], \n",
    "                    line_width=d['line_width'], line_dash=d['line_dash'])\n",
    "        rd.append(r_line)\n",
    "      \n",
    "        rs.append(rd)\n",
    "        \n",
    "    p2.y_range = Range1d(ymax, ymin)  \n",
    "    p2.yaxis.axis_label = 'pressure [mb]'\n",
    "    \n",
    "    p2.x_range = Range1d(xmin, xmax)\n",
    "    p2.xaxis.axis_label = 'cooling rate [K/day]'\n",
    "    \n",
    "    items = [(d['label'], r) for r, d in zip(rs, pltdata)]\n",
    "    legend = Legend(items=items, location=(10, -30))\n",
    "    legend.label_text_font_size = '8pt'\n",
    "    \n",
    "    p2.add_layout(legend, 'right')  \n",
    "    \n",
    "    show(gridplot(p1, p2, ncols=2, plot_height=500))\n",
    "    \n",
    "\n",
    "def script_plt_cooling():\n",
    "    pltdata = pltdata_cooling_1(\n",
    "        ds_cool=DS_COOL,\n",
    "        ds_cool_crd=DS_COOL_CRD,\n",
    "        ds_cool_wgt=DS_COOL_WGT)\n",
    "    plt_cooling_bokeh(pltdata=pltdata)\n",
    "    print('''FIGURE. Cooling rate profiles.''')"
   ]
  },
  {
   "cell_type": "code",
   "execution_count": 9,
   "metadata": {
    "collapsed": true
   },
   "outputs": [],
   "source": [
    "def fmt_flux(ds_in):\n",
    "    ds = ds_in.copy(deep=True)\n",
    "    \n",
    "    for l in ('level', 'layer'):\n",
    "        if l in ds.data_vars:\n",
    "            if len(ds[l].dims) > 1:\n",
    "                surface = {d: 0 for d in ds.dims if d != 'pressure'}\n",
    "                coord_level = ds[l][surface]\n",
    "                ds.coords[l] = ('pressure', coord_level)\n",
    "            else:\n",
    "                ds.coords[l] = ('pressure', ds[l])\n",
    "        \n",
    "    ds = ds.isel(pressure=[0, 23, -1])\n",
    "        \n",
    "    if 'igg' in ds.dims:\n",
    "        ds = ds.sel(igg=[1])\n",
    "        ds = ds.squeeze('igg').drop('igg')\n",
    "    \n",
    "    if 'g' in ds.dims:\n",
    "        ds = ds.sum('g')\n",
    "            \n",
    "    if 'band' in ds.dims:\n",
    "        try:\n",
    "            ds = ds.squeeze('band').drop('band')\n",
    "        except ValueError:\n",
    "            ds = ds.sum('band')\n",
    "                \n",
    "    df = ds.to_dataframe()\n",
    "    df = df.set_index('level', append=True)               \n",
    "    return df\n",
    "\n",
    "\n",
    "def tbdata_flux(ds_flux=None, ds_flux_crd=None, ds_flux_wgt=None):\n",
    "    ilevels = [0, 23, -1]\n",
    "            \n",
    "    benchmark = {'label': 'WGT igg=10 wgt_flux=1',\n",
    "                 'df': fmt_flux(ds_flux_wgt)}\n",
    "    \n",
    "    tbs = [{'label': 'CRD',\n",
    "            'df': fmt_flux(ds_flux_crd)},\n",
    "           {'label': 'CLIRAD',\n",
    "            'df': fmt_flux(ds_flux)}]\n",
    "    \n",
    "    data = {'benchmark': benchmark, 'others': tbs}\n",
    "    return data\n",
    "\n",
    "\n",
    "def tb_flux(tbdata=None):\n",
    "    benchmark = tbdata['benchmark']\n",
    "    others = tbdata['others']\n",
    "    \n",
    "    def show_tb(d=None):\n",
    "        display.display(d['df'])\n",
    "        print('Table.', 'Fluxes.', d['label'])\n",
    "        \n",
    "    def show_tbdiff(d0=None, d=None):\n",
    "        df = d['df']\n",
    "        df.index = d0['df'].index\n",
    "        display.display(df - d0['df'])\n",
    "        print('Table.', 'Fluxes.', \n",
    "              '({}) - ({})'.format(d['label'], d0['label']))\n",
    "        \n",
    "    show_tb(benchmark)\n",
    "    for d in others:\n",
    "        show_tb(d)\n",
    "        \n",
    "    for d in others:\n",
    "        show_tbdiff(d=d, d0=benchmark)\n",
    "        \n",
    "        \n",
    "def script_tb_flux():\n",
    "    data = tbdata_flux(ds_flux=DS_FLUX,\n",
    "                       ds_flux_crd=DS_FLUX_CRD,\n",
    "                       ds_flux_wgt=DS_FLUX_WGT)\n",
    "    tb_flux(tbdata=data)"
   ]
  },
  {
   "cell_type": "code",
   "execution_count": 10,
   "metadata": {
    "collapsed": true
   },
   "outputs": [],
   "source": [
    "def band_map():\n",
    "    '''\n",
    "    Maps spectral bands in lblnew to spectral bands in clirad.\n",
    "    '''\n",
    "    lblnew2clirad = {'1': '1',\n",
    "            '2': '2',\n",
    "            '3a': '3',\n",
    "            '3b': '4',\n",
    "            '3c': '5',\n",
    "            '4': '6', \n",
    "            '5': '7',\n",
    "            '6': '8',\n",
    "            '7': '9', \n",
    "            '8': '10',\n",
    "            '9': '11'}\n",
    "    \n",
    "    clirad2lblnew = {clirad: lblnew \n",
    "                     for lblnew, clirad in lblnew2clirad.items()}\n",
    "    return clirad2lblnew\n",
    "\n",
    "\n",
    "def gasbands():\n",
    "    bmap = band_map()\n",
    "    gases = list(PARAM['molecule'].keys())\n",
    "    \n",
    "    bands = [bmap[str(b)] for b in PARAM['band']]\n",
    "    return list(itertools.product(gases, bands))\n",
    "\n",
    "\n",
    "def print_bestfit_params():\n",
    "    print('Best-fit values for each (gas, band)')\n",
    "    print('------------------------------------')\n",
    "    for gas, band in gasbands():\n",
    "        print('o {} band{}'.format(gas, band))\n",
    "        param = bestfits.kdist_params(molecule=gas, band=band)\n",
    "        for name, value in sorted(param.items()):\n",
    "            print(2 * ' ' + '{} = {}'.format(name, value))\n",
    "\n",
    "        \n",
    "def print_input_param():        \n",
    "    for name, value in PARAM.items():\n",
    "        print('{} = {}'.format(name, value))\n",
    "        \n",
    "        \n",
    "def print_lblnew_param():\n",
    "    for name, value in sorted(PARAM_LBLNEW.items()):\n",
    "        print('{} = {}'.format(name, value))\n"
   ]
  },
  {
   "cell_type": "code",
   "execution_count": 11,
   "metadata": {
    "collapsed": true,
    "scrolled": false
   },
   "outputs": [],
   "source": [
    "def show_html(s):\n",
    "    display.display(display.HTML(s))\n",
    "\n",
    "    \n",
    "def show_markdown(s):\n",
    "    display.display(display.Markdown(s))\n",
    "\n",
    "    \n",
    "def script():\n",
    "    \n",
    "    title = '### CLIRAD-LW'\n",
    "    s_input = 'Input Parameters'\n",
    "    s_lblnew_param = 'LBLNEW case compaired against'\n",
    "    s_bestfits = 'Best-fit Parameters'\n",
    "    s_plt_cooling = 'Cooling Rate Profiles'\n",
    "    s_tb_flux = 'Flux Comparison'\n",
    "    \n",
    "    # title\n",
    "    show_markdown('### CLIRAD-LW')\n",
    "    \n",
    "    # TOC\n",
    "    show_markdown('### Table of Contents')\n",
    "    show_html(climahtml.getHTML_hrefanchor(s_input))\n",
    "    show_html(climahtml.getHTML_hrefanchor(s_lblnew_param))\n",
    "    show_html(climahtml.getHTML_hrefanchor(s_plt_cooling))\n",
    "    show_html(climahtml.getHTML_hrefanchor(s_tb_flux))\n",
    "    show_html(climahtml.getHTML_hrefanchor(s_bestfits))\n",
    "    \n",
    "    # Input parameters\n",
    "    show_html(climahtml.getHTML_idanchor(s_input))\n",
    "    show_markdown(climahtml.getMarkdown_sectitle(s_input))\n",
    "    print_input_param()\n",
    "    \n",
    "    # LBLNEW parameters \n",
    "    show_html(climahtml.getHTML_idanchor(s_lblnew_param))\n",
    "    show_markdown(climahtml.getMarkdown_sectitle(s_lblnew_param))\n",
    "    print_lblnew_param()\n",
    "    \n",
    "    # Cooling rate profiles\n",
    "    show_html(climahtml.getHTML_idanchor(s_plt_cooling))\n",
    "    show_markdown(climahtml.getMarkdown_sectitle(s_plt_cooling))\n",
    "    script_plt_cooling()\n",
    "    \n",
    "    # Flux comparison\n",
    "    show_html(climahtml.getHTML_idanchor(s_tb_flux))\n",
    "    show_markdown(climahtml.getMarkdown_sectitle(s_tb_flux))\n",
    "    script_tb_flux()\n",
    "    \n",
    "    # Best-fit values\n",
    "    show_html(climahtml.getHTML_idanchor(s_bestfits))\n",
    "    show_markdown(climahtml.getMarkdown_sectitle(s_bestfits))\n",
    "    print_bestfit_params()\n",
    "   \n",
    "    "
   ]
  },
  {
   "cell_type": "code",
   "execution_count": 12,
   "metadata": {
    "collapsed": true,
    "scrolled": false
   },
   "outputs": [
    {
     "data": {
      "text/markdown": [
       "### CLIRAD-LW"
      ],
      "text/plain": [
       "<IPython.core.display.Markdown object>"
      ]
     },
     "metadata": {},
     "output_type": "display_data"
    },
    {
     "data": {
      "text/markdown": [
       "### Table of Contents"
      ],
      "text/plain": [
       "<IPython.core.display.Markdown object>"
      ]
     },
     "metadata": {},
     "output_type": "display_data"
    },
    {
     "data": {
      "text/html": [
       "<a href=\"#Input_Parameters\">Input Parameters</a>"
      ],
      "text/plain": [
       "<IPython.core.display.HTML object>"
      ]
     },
     "metadata": {},
     "output_type": "display_data"
    },
    {
     "data": {
      "text/html": [
       "<a href=\"#LBLNEW_case_compaired_against\">LBLNEW case compaired against</a>"
      ],
      "text/plain": [
       "<IPython.core.display.HTML object>"
      ]
     },
     "metadata": {},
     "output_type": "display_data"
    },
    {
     "data": {
      "text/html": [
       "<a href=\"#Cooling_Rate_Profiles\">Cooling Rate Profiles</a>"
      ],
      "text/plain": [
       "<IPython.core.display.HTML object>"
      ]
     },
     "metadata": {},
     "output_type": "display_data"
    },
    {
     "data": {
      "text/html": [
       "<a href=\"#Flux_Comparison\">Flux Comparison</a>"
      ],
      "text/plain": [
       "<IPython.core.display.HTML object>"
      ]
     },
     "metadata": {},
     "output_type": "display_data"
    },
    {
     "data": {
      "text/html": [
       "<a href=\"#Best-fit_Parameters\">Best-fit Parameters</a>"
      ],
      "text/plain": [
       "<IPython.core.display.HTML object>"
      ]
     },
     "metadata": {},
     "output_type": "display_data"
    },
    {
     "data": {
      "text/html": [
       "<a id=\"Input_Parameters\"></a>"
      ],
      "text/plain": [
       "<IPython.core.display.HTML object>"
      ]
     },
     "metadata": {},
     "output_type": "display_data"
    },
    {
     "data": {
      "text/markdown": [
       "# Input Parameters"
      ],
      "text/plain": [
       "<IPython.core.display.Markdown object>"
      ]
     },
     "metadata": {},
     "output_type": "display_data"
    },
    {
     "name": "stdout",
     "output_type": "stream",
     "text": [
      "atmpro = trp\n",
      "band = [3]\n",
      "commitnumber = 9a64c27\n",
      "molecule = {'co2': 0.0004, 'h2o': 'atmpro', 'n2o': 3.2e-07}\n",
      "tsfc = 300\n"
     ]
    },
    {
     "data": {
      "text/html": [
       "<a id=\"LBLNEW_case_compaired_against\"></a>"
      ],
      "text/plain": [
       "<IPython.core.display.HTML object>"
      ]
     },
     "metadata": {},
     "output_type": "display_data"
    },
    {
     "data": {
      "text/markdown": [
       "# LBLNEW case compaired against"
      ],
      "text/plain": [
       "<IPython.core.display.Markdown object>"
      ]
     },
     "metadata": {},
     "output_type": "display_data"
    },
    {
     "name": "stdout",
     "output_type": "stream",
     "text": [
      "atmpro = trp\n",
      "band = 3a\n",
      "commitnumber = 5014a19\n",
      "dv = 0.01\n",
      "molecule = {'co2': 0.0004, 'h2o': 'atmpro', 'n2o': 3.2e-07}\n",
      "nv = 100\n",
      "tsfc = 300\n"
     ]
    },
    {
     "data": {
      "text/html": [
       "<a id=\"Cooling_Rate_Profiles\"></a>"
      ],
      "text/plain": [
       "<IPython.core.display.HTML object>"
      ]
     },
     "metadata": {},
     "output_type": "display_data"
    },
    {
     "data": {
      "text/markdown": [
       "# Cooling Rate Profiles"
      ],
      "text/plain": [
       "<IPython.core.display.Markdown object>"
      ]
     },
     "metadata": {},
     "output_type": "display_data"
    },
    {
     "data": {
      "text/html": [
       "\n",
       "<div class=\"bk-root\">\n",
       "    <div class=\"bk-plotdiv\" id=\"6b4d9fee-e50e-4bfe-982c-3ee6f0123794\"></div>\n",
       "</div>"
      ]
     },
     "metadata": {},
     "output_type": "display_data"
    },
    {
     "data": {
      "application/javascript": [
       "(function(root) {\n",
       "  function embed_document(root) {\n",
       "    \n",
       "  var docs_json = {\"d58bc6db-3986-4013-a2d0-20acc7d96638\":{\"roots\":{\"references\":[{\"attributes\":{\"overlay\":{\"id\":\"10e67134-05b3-4376-a190-344f658e2253\",\"type\":\"BoxAnnotation\"}},\"id\":\"3a442e33-3bd3-4314-a377-d2e64e01448d\",\"type\":\"BoxZoomTool\"},{\"attributes\":{\"source\":{\"id\":\"813a68fd-0c5b-4af2-b15a-7b3d59e56b7b\",\"type\":\"ColumnDataSource\"}},\"id\":\"8b453cf0-7ecd-47fe-9ec2-ea2c8c3ae54e\",\"type\":\"CDSView\"},{\"attributes\":{\"callback\":null,\"column_names\":[\"x\",\"y\"],\"data\":{\"x\":{\"__ndarray__\":\"imo60H1Y1T854Kk27oPVP/ycim21O9Y/VwWLP2H71j/9/FKaKJ3XPzRf63MxHdg/yegd+jBz2D84OnwMNY7YP39duDm2Wtg/NAowyVTD1z83O+9SLK/WP2v23QB1+9Q/9MdRDNKE0j8g07kmzbTOP/UmTDnbs8w/9Q8iGXLs0D+fQqZjawnUP+r+uYFlGdY/qk9JCBzq1z9Xi3iAYRjbP9jKtpkr3+A/bkFC1ks65j/uhCxF0efnPzpjb5SCj+U/pZJsO46b4j/pU56rc23eP9u3QYqN+9g/geAabY+91D86LwTvmgbRP0FwS5r1GMs/T2a0PKzDxD+iNAZjZbC+Pxql9f7Z67U/K/C1ak6Trz9THqNdAVygP/wGQPlPAHO/H1nkyuWunb+BtEuQG8KYv/i1qrN+3Ve/UrDOSr0bjT9jr6D+7ZGdP2f1IpsqZqc/5wKm8sfLsD+3fRjsSYq2P93kfT3berw/8RQwicw/wT+Tq3kKkFPEPzMPqh56HMc/AGSVkBfryD+ta5MO//7KPxeLtpUkcM0/PlHhIe8J0D8MTDzaF1TRP2IYqHPiftI/TLzqnsiV0z8GQKIqIprUP9ZPYoSujNU/gxMTzH9l1j8e7U1GdBPXP8bP82VxmNc/3nBh1Qfv1z8919bTN/7XP6Q4BQFLkdc/b4HjtqaO1z9htvD+cD7WP+ali+KPQdQ/y5O1l34T0j/wAvyF5AXPP1B1I4fj1Mo/Vyhv0+GZxz8dIDV5DAfFP9rIlmGzDsM/Bpd1nC7NwT+3CsXKJsjBP/wKiP8qdsg/\",\"dtype\":\"float64\",\"shape\":[75]},\"y\":{\"__ndarray__\":\"GhExyth1ND/Sv8nbtpRIP2vylNV0PVE/aTum7souWD/At0SJ8fVgPw3Iuahxymc/MSNhhJWvcD/bTfBN02d3P2zb5nxnaoA/CD5h5MAGhz8NmeH1TyaQP+zrCsc9p5Y/LbKd76fGnz/bLW5ISEmmPww9YvTcQq8/JV2OstnstT8Er5Y7M8G+P0c+r3jqkcU/5h99k6ZBzj88bCIzFzjVP4enV8oyxN0//yH99nXg5D8qOpLLf0jtP5kqGJXUifQ/c9cS8kHP/D+/DpwzojQEQIEmwoanVwxA4lgXt9HgE0BSSZ2AJuIbQAMJih9jjiNA5q4l5INuK0AwTKYKRj0zQNv5fmq8/DpAaCJseHrtQkB/+zpwzoxKQM3MzMzMeFJAZmZmZmZqWEAAAAAAAFxeQM3MzMzMJmJAmpmZmZkfZUBmZmZmZhhoQDMzMzMzEWtAAAAAAAAKbkBmZmZmZoFwQM3MzMzM/XFAMzMzMzN6c0CamZmZmfZ0QAAAAAAAc3ZAZmZmZmbvd0DNzMzMzGt5QDMzMzMz6HpAmpmZmZlkfEAAAAAAAOF9QGZmZmZmXX9AZmZmZuZsgECamZmZGSuBQM3MzMxM6YFAAAAAAICngkAzMzMzs2WDQGZmZmbmI4RAmpmZmRnihEDNzMzMTKCFQAAAAACAXoZAMzMzM7Mch0BmZmZm5tqHQJqZmZkZmYhAzczMzExXiUAAAAAAgBWKQDMzMzOz04pAZmZmZuaRi0CamZmZGVCMQM3MzMxMDo1AAAAAAIDMjUAzMzMzs4qOQGZmZmbmSI9A\",\"dtype\":\"float64\",\"shape\":[75]}}},\"id\":\"42583012-252e-4e53-ad84-5388475fc78b\",\"type\":\"ColumnDataSource\"},{\"attributes\":{\"axis_label\":\"cooling rate [K/day]\",\"formatter\":{\"id\":\"f2506f7e-2f4b-47a9-b6b7-487ab22a7da5\",\"type\":\"BasicTickFormatter\"},\"plot\":{\"id\":\"ada1b0a5-8950-4fda-a0fc-05e5033a264d\",\"subtype\":\"Figure\",\"type\":\"Plot\"},\"ticker\":{\"id\":\"57cfde90-23a4-4684-87ba-bc599d2fe620\",\"type\":\"BasicTicker\"}},\"id\":\"f471f43f-5538-4b13-82e7-bb7290d7263d\",\"type\":\"LinearAxis\"},{\"attributes\":{\"line_alpha\":0.6,\"line_color\":\"#984ea3\",\"line_width\":3,\"x\":{\"field\":\"x\"},\"y\":{\"field\":\"y\"}},\"id\":\"3a14460a-ae94-40b4-aeb6-0053eecfe336\",\"type\":\"Line\"},{\"attributes\":{\"callback\":null,\"column_names\":[\"x\",\"y\"],\"data\":{\"x\":{\"__ndarray__\":\"imo60H1Y1T854Kk27oPVP/ycim21O9Y/VwWLP2H71j/9/FKaKJ3XPzRf63MxHdg/yegd+jBz2D84OnwMNY7YP39duDm2Wtg/NAowyVTD1z83O+9SLK/WP2v23QB1+9Q/9MdRDNKE0j8g07kmzbTOP/UmTDnbs8w/9Q8iGXLs0D+fQqZjawnUP+r+uYFlGdY/qk9JCBzq1z9Xi3iAYRjbP9jKtpkr3+A/bkFC1ks65j/uhCxF0efnPzpjb5SCj+U/pZJsO46b4j/pU56rc23eP9u3QYqN+9g/geAabY+91D86LwTvmgbRP0FwS5r1GMs/T2a0PKzDxD+iNAZjZbC+Pxql9f7Z67U/K/C1ak6Trz9THqNdAVygP/wGQPlPAHO/H1nkyuWunb+BtEuQG8KYv/i1qrN+3Ve/UrDOSr0bjT9jr6D+7ZGdP2f1IpsqZqc/5wKm8sfLsD+3fRjsSYq2P93kfT3berw/8RQwicw/wT+Tq3kKkFPEPzMPqh56HMc/AGSVkBfryD+ta5MO//7KPxeLtpUkcM0/PlHhIe8J0D8MTDzaF1TRP2IYqHPiftI/TLzqnsiV0z8GQKIqIprUP9ZPYoSujNU/gxMTzH9l1j8e7U1GdBPXP8bP82VxmNc/3nBh1Qfv1z8919bTN/7XP6Q4BQFLkdc/b4HjtqaO1z9htvD+cD7WP+ali+KPQdQ/y5O1l34T0j/wAvyF5AXPP1B1I4fj1Mo/Vyhv0+GZxz8dIDV5DAfFP9rIlmGzDsM/Bpd1nC7NwT+3CsXKJsjBP/wKiP8qdsg/\",\"dtype\":\"float64\",\"shape\":[75]},\"y\":{\"__ndarray__\":\"GhExyth1ND/Sv8nbtpRIP2vylNV0PVE/aTum7souWD/At0SJ8fVgPw3Iuahxymc/MSNhhJWvcD/bTfBN02d3P2zb5nxnaoA/CD5h5MAGhz8NmeH1TyaQP+zrCsc9p5Y/LbKd76fGnz/bLW5ISEmmPww9YvTcQq8/JV2OstnstT8Er5Y7M8G+P0c+r3jqkcU/5h99k6ZBzj88bCIzFzjVP4enV8oyxN0//yH99nXg5D8qOpLLf0jtP5kqGJXUifQ/c9cS8kHP/D+/DpwzojQEQIEmwoanVwxA4lgXt9HgE0BSSZ2AJuIbQAMJih9jjiNA5q4l5INuK0AwTKYKRj0zQNv5fmq8/DpAaCJseHrtQkB/+zpwzoxKQM3MzMzMeFJAZmZmZmZqWEAAAAAAAFxeQM3MzMzMJmJAmpmZmZkfZUBmZmZmZhhoQDMzMzMzEWtAAAAAAAAKbkBmZmZmZoFwQM3MzMzM/XFAMzMzMzN6c0CamZmZmfZ0QAAAAAAAc3ZAZmZmZmbvd0DNzMzMzGt5QDMzMzMz6HpAmpmZmZlkfEAAAAAAAOF9QGZmZmZmXX9AZmZmZuZsgECamZmZGSuBQM3MzMxM6YFAAAAAAICngkAzMzMzs2WDQGZmZmbmI4RAmpmZmRnihEDNzMzMTKCFQAAAAACAXoZAMzMzM7Mch0BmZmZm5tqHQJqZmZkZmYhAzczMzExXiUAAAAAAgBWKQDMzMzOz04pAZmZmZuaRi0CamZmZGVCMQM3MzMxMDo1AAAAAAIDMjUAzMzMzs4qOQGZmZmbmSI9A\",\"dtype\":\"float64\",\"shape\":[75]}}},\"id\":\"6a7df3b5-584e-4984-a499-117cb4b1f698\",\"type\":\"ColumnDataSource\"},{\"attributes\":{\"dimension\":1,\"plot\":{\"id\":\"ada1b0a5-8950-4fda-a0fc-05e5033a264d\",\"subtype\":\"Figure\",\"type\":\"Plot\"},\"ticker\":{\"id\":\"dc5e24fa-3348-4647-ab4b-66601bc34c6f\",\"type\":\"LogTicker\"}},\"id\":\"1d3d4098-1ade-4f0f-9b1f-d26f876422d1\",\"type\":\"Grid\"},{\"attributes\":{\"source\":{\"id\":\"81438456-d785-4da3-bfda-880d0fa5893c\",\"type\":\"ColumnDataSource\"}},\"id\":\"9da6d144-2d4a-4b18-86e3-3d421bbfb5bd\",\"type\":\"CDSView\"},{\"attributes\":{\"data_source\":{\"id\":\"dcc1444b-085b-4d51-ad5c-cbaa31c94437\",\"type\":\"ColumnDataSource\"},\"glyph\":{\"id\":\"3a14460a-ae94-40b4-aeb6-0053eecfe336\",\"type\":\"Line\"},\"hover_glyph\":null,\"muted_glyph\":null,\"nonselection_glyph\":{\"id\":\"0c8d087b-66c2-491e-b95c-76fb32c2311c\",\"type\":\"Line\"},\"selection_glyph\":null,\"view\":{\"id\":\"802ff9e6-daa5-474c-9d33-f9c6d43fc2ec\",\"type\":\"CDSView\"}},\"id\":\"5cfb2f99-fa2c-43a9-ab92-e7add9130202\",\"type\":\"GlyphRenderer\"},{\"attributes\":{\"label\":{\"value\":\"WGT igg=10 wgt_flux=2\"},\"renderers\":[{\"id\":\"7fd68288-ee49-4c18-875f-542231c6d7cb\",\"type\":\"GlyphRenderer\"},{\"id\":\"34864759-6fc2-4aee-afca-e689038e7df8\",\"type\":\"GlyphRenderer\"}]},\"id\":\"37de9378-bd05-4d2b-8a8e-935f43317ff7\",\"type\":\"LegendItem\"},{\"attributes\":{\"plot\":null,\"text\":\"Log pressure scale\"},\"id\":\"52d2890f-49bd-4cf3-a104-9f3ccc417123\",\"type\":\"Title\"},{\"attributes\":{\"line_color\":\"#4daf4a\",\"line_width\":1.5,\"x\":{\"field\":\"x\"},\"y\":{\"field\":\"y\"}},\"id\":\"fbe9e61b-ebc6-4eb5-94f0-cc5880e022e2\",\"type\":\"Line\"},{\"attributes\":{\"fill_alpha\":{\"value\":0.1},\"fill_color\":{\"value\":\"#1f77b4\"},\"line_alpha\":{\"value\":0.1},\"line_color\":{\"value\":\"#1f77b4\"},\"x\":{\"field\":\"x\"},\"y\":{\"field\":\"y\"}},\"id\":\"22b7d7a1-9d10-46d2-a7fe-29b74681d30d\",\"type\":\"Circle\"},{\"attributes\":{\"line_alpha\":0.1,\"line_color\":\"#1f77b4\",\"line_dash\":[6],\"line_width\":5,\"x\":{\"field\":\"x\"},\"y\":{\"field\":\"y\"}},\"id\":\"e2767f15-e097-43f8-9f0c-cabd8e129337\",\"type\":\"Line\"},{\"attributes\":{\"data_source\":{\"id\":\"81438456-d785-4da3-bfda-880d0fa5893c\",\"type\":\"ColumnDataSource\"},\"glyph\":{\"id\":\"4798e3a1-7152-4e04-ab76-9e53103b1d9b\",\"type\":\"Line\"},\"hover_glyph\":null,\"muted_glyph\":null,\"nonselection_glyph\":{\"id\":\"395f6118-e939-42f2-a7d3-8aa5139f19a5\",\"type\":\"Line\"},\"selection_glyph\":null,\"view\":{\"id\":\"9da6d144-2d4a-4b18-86e3-3d421bbfb5bd\",\"type\":\"CDSView\"}},\"id\":\"123835d4-b732-4e3d-b458-2d502e745be5\",\"type\":\"GlyphRenderer\"},{\"attributes\":{\"data_source\":{\"id\":\"6a7df3b5-584e-4984-a499-117cb4b1f698\",\"type\":\"ColumnDataSource\"},\"glyph\":{\"id\":\"315932ec-1844-4a48-bb85-3a09e132f6a7\",\"type\":\"Square\"},\"hover_glyph\":null,\"muted_glyph\":null,\"nonselection_glyph\":{\"id\":\"79fb7a37-d9db-461b-9a65-54d954bd0b8f\",\"type\":\"Square\"},\"selection_glyph\":null,\"view\":{\"id\":\"5459fd18-8b03-440c-9e59-a0d34e17b802\",\"type\":\"CDSView\"}},\"id\":\"7fd68288-ee49-4c18-875f-542231c6d7cb\",\"type\":\"GlyphRenderer\"},{\"attributes\":{},\"id\":\"ae5e1782-2493-4273-adc8-b10477641970\",\"type\":\"SaveTool\"},{\"attributes\":{\"line_alpha\":0.1,\"line_color\":\"#1f77b4\",\"line_width\":3,\"x\":{\"field\":\"x\"},\"y\":{\"field\":\"y\"}},\"id\":\"0c8d087b-66c2-491e-b95c-76fb32c2311c\",\"type\":\"Line\"},{\"attributes\":{\"line_alpha\":0.1,\"line_color\":\"#1f77b4\",\"line_width\":1.5,\"x\":{\"field\":\"x\"},\"y\":{\"field\":\"y\"}},\"id\":\"c4b85915-f22f-4d56-a450-60ecc87339c7\",\"type\":\"Line\"},{\"attributes\":{\"fill_alpha\":{\"value\":0.7},\"fill_color\":{\"value\":\"#984ea3\"},\"line_alpha\":{\"value\":0.7},\"line_color\":{\"value\":\"#984ea3\"},\"x\":{\"field\":\"x\"},\"y\":{\"field\":\"y\"}},\"id\":\"4bdc9088-7656-4dc2-8811-184ce4e2ffd8\",\"type\":\"Square\"},{\"attributes\":{\"callback\":null,\"column_names\":[\"x\",\"y\"],\"data\":{\"x\":{\"__ndarray__\":\"0PuUnV3C2j9jEmiPm4raP8x313ZmRNs/Ypkj0AXa2z9NPX+YjDzcPybWFI5BY9w/6K0uZegx3D/s5EZwp53bP7J8ZfdHjNo/dTHV5ffq2D9t5m/GWabWP/lCjs51sdM/6wpLdkv2zz8NKOX/n1THP6JR7C5x4MM/03+9X1jAyD8A/Pjw0QfQPxghfvYKqNM/e7zzOMoJ2D8L+Mr2AOHdP+Upac2oHOM/4UqwF46w6D+ohXksCdLpP7gkYqXdo+Y/qKv5+Qgf4z84GdFNzSveP0n/Pwx8Xtc/2MTZ358z0j/jZXarIdDMP2NdgY2QJsc/ZnlHW89vwj+iDgrOCW+8P04v+euKI7U/dAU5+ii7rj/XepsLF0qeP1Fu7ZFF0nm/9LOYpYu3nb+m3IcAA+iZvzYiSWXSM3W/LaZOznRZgj+sVe4XSUGXP8AfDKmTTaQ/b5HmVb7jrj8P/nt5zIO1P73HVwqa+bs/YG6cuSxLwT+8MIj+v6DEP8CbyZKUz8c/osCvTwg2yj+g7LmOadTMP8yENmu2k88/86dTP+sx0T/7by2sfpnSP92Qb4R/8NM/ZGZVOg4y1T/8kDMkWU3WP9bbbpsMO9c/Imz8skn41z8dtmd19n7YP1PktbcA2dg/ol0q2ywD2T9WVC+FKNvYPxL3eQi6KNg/fqag09rR1z/ahlmBhBXWP/zydkK3sNM/DZTKyuU10T+CGfj2UwjNP5I+zrAo18g/5fmhDDSjxT+vqNJgZBPDP1gmssUkEsE/dGWrJuNzvz9aZUOKQy6/P/+xMSvracY/\",\"dtype\":\"float64\",\"shape\":[75]},\"y\":{\"__ndarray__\":\"GhExyth1ND/Sv8nbtpRIP2vylNV0PVE/aTum7souWD/At0SJ8fVgPw3Iuahxymc/MSNhhJWvcD/bTfBN02d3P2zb5nxnaoA/CD5h5MAGhz8NmeH1TyaQP+zrCsc9p5Y/LbKd76fGnz/bLW5ISEmmPww9YvTcQq8/JV2OstnstT8Er5Y7M8G+P0c+r3jqkcU/5h99k6ZBzj88bCIzFzjVP4enV8oyxN0//yH99nXg5D8qOpLLf0jtP5kqGJXUifQ/c9cS8kHP/D+/DpwzojQEQIEmwoanVwxA4lgXt9HgE0BSSZ2AJuIbQAMJih9jjiNA5q4l5INuK0AwTKYKRj0zQNv5fmq8/DpAaCJseHrtQkB/+zpwzoxKQM3MzMzMeFJAZmZmZmZqWEAAAAAAAFxeQM3MzMzMJmJAmpmZmZkfZUBmZmZmZhhoQDMzMzMzEWtAAAAAAAAKbkBmZmZmZoFwQM3MzMzM/XFAMzMzMzN6c0CamZmZmfZ0QAAAAAAAc3ZAZmZmZmbvd0DNzMzMzGt5QDMzMzMz6HpAmpmZmZlkfEAAAAAAAOF9QGZmZmZmXX9AZmZmZuZsgECamZmZGSuBQM3MzMxM6YFAAAAAAICngkAzMzMzs2WDQGZmZmbmI4RAmpmZmRnihEDNzMzMTKCFQAAAAACAXoZAMzMzM7Mch0BmZmZm5tqHQJqZmZkZmYhAzczMzExXiUAAAAAAgBWKQDMzMzOz04pAZmZmZuaRi0CamZmZGVCMQM3MzMxMDo1AAAAAAIDMjUAzMzMzs4qOQGZmZmbmSI9A\",\"dtype\":\"float64\",\"shape\":[75]}}},\"id\":\"ca3ca8db-0333-46cd-8291-e0b8db0988ba\",\"type\":\"ColumnDataSource\"},{\"attributes\":{\"data_source\":{\"id\":\"ca3ca8db-0333-46cd-8291-e0b8db0988ba\",\"type\":\"ColumnDataSource\"},\"glyph\":{\"id\":\"fbe9e61b-ebc6-4eb5-94f0-cc5880e022e2\",\"type\":\"Line\"},\"hover_glyph\":null,\"muted_glyph\":null,\"nonselection_glyph\":{\"id\":\"c4b85915-f22f-4d56-a450-60ecc87339c7\",\"type\":\"Line\"},\"selection_glyph\":null,\"view\":{\"id\":\"40efb0d8-10d6-438f-9afb-be8bed6b6f5f\",\"type\":\"CDSView\"}},\"id\":\"49371a5f-2bda-46c1-b9fb-0b0750707c66\",\"type\":\"GlyphRenderer\"},{\"attributes\":{\"callback\":null,\"column_names\":[\"x\",\"y\"],\"data\":{\"x\":{\"__ndarray__\":\"0PuUnV3C2j9jEmiPm4raP8x313ZmRNs/Ypkj0AXa2z9NPX+YjDzcPybWFI5BY9w/6K0uZegx3D/s5EZwp53bP7J8ZfdHjNo/dTHV5ffq2D9t5m/GWabWP/lCjs51sdM/6wpLdkv2zz8NKOX/n1THP6JR7C5x4MM/03+9X1jAyD8A/Pjw0QfQPxghfvYKqNM/e7zzOMoJ2D8L+Mr2AOHdP+Upac2oHOM/4UqwF46w6D+ohXksCdLpP7gkYqXdo+Y/qKv5+Qgf4z84GdFNzSveP0n/Pwx8Xtc/2MTZ358z0j/jZXarIdDMP2NdgY2QJsc/ZnlHW89vwj+iDgrOCW+8P04v+euKI7U/dAU5+ii7rj/XepsLF0qeP1Fu7ZFF0nm/9LOYpYu3nb+m3IcAA+iZvzYiSWXSM3W/LaZOznRZgj+sVe4XSUGXP8AfDKmTTaQ/b5HmVb7jrj8P/nt5zIO1P73HVwqa+bs/YG6cuSxLwT+8MIj+v6DEP8CbyZKUz8c/osCvTwg2yj+g7LmOadTMP8yENmu2k88/86dTP+sx0T/7by2sfpnSP92Qb4R/8NM/ZGZVOg4y1T/8kDMkWU3WP9bbbpsMO9c/Imz8skn41z8dtmd19n7YP1PktbcA2dg/ol0q2ywD2T9WVC+FKNvYPxL3eQi6KNg/fqag09rR1z/ahlmBhBXWP/zydkK3sNM/DZTKyuU10T+CGfj2UwjNP5I+zrAo18g/5fmhDDSjxT+vqNJgZBPDP1gmssUkEsE/dGWrJuNzvz9aZUOKQy6/P/+xMSvracY/\",\"dtype\":\"float64\",\"shape\":[75]},\"y\":{\"__ndarray__\":\"GhExyth1ND/Sv8nbtpRIP2vylNV0PVE/aTum7souWD/At0SJ8fVgPw3Iuahxymc/MSNhhJWvcD/bTfBN02d3P2zb5nxnaoA/CD5h5MAGhz8NmeH1TyaQP+zrCsc9p5Y/LbKd76fGnz/bLW5ISEmmPww9YvTcQq8/JV2OstnstT8Er5Y7M8G+P0c+r3jqkcU/5h99k6ZBzj88bCIzFzjVP4enV8oyxN0//yH99nXg5D8qOpLLf0jtP5kqGJXUifQ/c9cS8kHP/D+/DpwzojQEQIEmwoanVwxA4lgXt9HgE0BSSZ2AJuIbQAMJih9jjiNA5q4l5INuK0AwTKYKRj0zQNv5fmq8/DpAaCJseHrtQkB/+zpwzoxKQM3MzMzMeFJAZmZmZmZqWEAAAAAAAFxeQM3MzMzMJmJAmpmZmZkfZUBmZmZmZhhoQDMzMzMzEWtAAAAAAAAKbkBmZmZmZoFwQM3MzMzM/XFAMzMzMzN6c0CamZmZmfZ0QAAAAAAAc3ZAZmZmZmbvd0DNzMzMzGt5QDMzMzMz6HpAmpmZmZlkfEAAAAAAAOF9QGZmZmZmXX9AZmZmZuZsgECamZmZGSuBQM3MzMxM6YFAAAAAAICngkAzMzMzs2WDQGZmZmbmI4RAmpmZmRnihEDNzMzMTKCFQAAAAACAXoZAMzMzM7Mch0BmZmZm5tqHQJqZmZkZmYhAzczMzExXiUAAAAAAgBWKQDMzMzOz04pAZmZmZuaRi0CamZmZGVCMQM3MzMxMDo1AAAAAAIDMjUAzMzMzs4qOQGZmZmbmSI9A\",\"dtype\":\"float64\",\"shape\":[75]}}},\"id\":\"81438456-d785-4da3-bfda-880d0fa5893c\",\"type\":\"ColumnDataSource\"},{\"attributes\":{},\"id\":\"15b9a907-a385-4288-992b-4e2242a79df9\",\"type\":\"WheelZoomTool\"},{\"attributes\":{\"data_source\":{\"id\":\"2e557ea8-3988-4332-ab2f-a0ad249942ef\",\"type\":\"ColumnDataSource\"},\"glyph\":{\"id\":\"44afe977-1de1-4fcf-a3f1-24250c254d47\",\"type\":\"Circle\"},\"hover_glyph\":null,\"muted_glyph\":null,\"nonselection_glyph\":{\"id\":\"22b7d7a1-9d10-46d2-a7fe-29b74681d30d\",\"type\":\"Circle\"},\"selection_glyph\":null,\"view\":{\"id\":\"67aaff79-3e93-4c69-9701-67e88f1aea9f\",\"type\":\"CDSView\"}},\"id\":\"7ee78af2-ae4a-4d81-a09b-9efde428ba4b\",\"type\":\"GlyphRenderer\"},{\"attributes\":{\"source\":{\"id\":\"ca3ca8db-0333-46cd-8291-e0b8db0988ba\",\"type\":\"ColumnDataSource\"}},\"id\":\"40efb0d8-10d6-438f-9afb-be8bed6b6f5f\",\"type\":\"CDSView\"},{\"attributes\":{\"source\":{\"id\":\"2e557ea8-3988-4332-ab2f-a0ad249942ef\",\"type\":\"ColumnDataSource\"}},\"id\":\"67aaff79-3e93-4c69-9701-67e88f1aea9f\",\"type\":\"CDSView\"},{\"attributes\":{\"callback\":null,\"end\":0.01,\"start\":1020},\"id\":\"ee82b95a-176a-4b6b-8ec4-3fc22930f420\",\"type\":\"Range1d\"},{\"attributes\":{\"fill_alpha\":{\"value\":0.7},\"fill_color\":{\"value\":\"#984ea3\"},\"line_alpha\":{\"value\":0.7},\"line_color\":{\"value\":\"#984ea3\"},\"x\":{\"field\":\"x\"},\"y\":{\"field\":\"y\"}},\"id\":\"315932ec-1844-4a48-bb85-3a09e132f6a7\",\"type\":\"Square\"},{\"attributes\":{\"fill_alpha\":{\"value\":0.1},\"fill_color\":{\"value\":\"#1f77b4\"},\"line_alpha\":{\"value\":0.1},\"line_color\":{\"value\":\"#1f77b4\"},\"x\":{\"field\":\"x\"},\"y\":{\"field\":\"y\"}},\"id\":\"79fb7a37-d9db-461b-9a65-54d954bd0b8f\",\"type\":\"Square\"},{\"attributes\":{\"callback\":null,\"end\":0.81524823623,\"start\":-0.03737957923},\"id\":\"f9181f24-f3e0-4183-96bf-0dc2336635d6\",\"type\":\"Range1d\"},{\"attributes\":{\"plot\":{\"id\":\"ada1b0a5-8950-4fda-a0fc-05e5033a264d\",\"subtype\":\"Figure\",\"type\":\"Plot\"},\"ticker\":{\"id\":\"57cfde90-23a4-4684-87ba-bc599d2fe620\",\"type\":\"BasicTicker\"}},\"id\":\"6a5efdd7-c1ef-4f1a-9908-ccadc000de8e\",\"type\":\"Grid\"},{\"attributes\":{\"data_source\":{\"id\":\"42583012-252e-4e53-ad84-5388475fc78b\",\"type\":\"ColumnDataSource\"},\"glyph\":{\"id\":\"aa798b66-4755-481b-a38c-0155d99e074e\",\"type\":\"Line\"},\"hover_glyph\":null,\"muted_glyph\":null,\"nonselection_glyph\":{\"id\":\"a4778358-279a-4c11-b910-b6f5f0b9ccf2\",\"type\":\"Line\"},\"selection_glyph\":null,\"view\":{\"id\":\"5fb6d00f-34d7-4b46-a923-2d1de0b3aeec\",\"type\":\"CDSView\"}},\"id\":\"34864759-6fc2-4aee-afca-e689038e7df8\",\"type\":\"GlyphRenderer\"},{\"attributes\":{\"ticker\":null},\"id\":\"d4b55d91-1d64-4bad-9695-8cc10bae590b\",\"type\":\"LogTickFormatter\"},{\"attributes\":{\"source\":{\"id\":\"6a7df3b5-584e-4984-a499-117cb4b1f698\",\"type\":\"ColumnDataSource\"}},\"id\":\"5459fd18-8b03-440c-9e59-a0d34e17b802\",\"type\":\"CDSView\"},{\"attributes\":{\"line_alpha\":0.6,\"line_color\":\"#984ea3\",\"line_width\":3,\"x\":{\"field\":\"x\"},\"y\":{\"field\":\"y\"}},\"id\":\"aa798b66-4755-481b-a38c-0155d99e074e\",\"type\":\"Line\"},{\"attributes\":{\"line_color\":\"#4daf4a\",\"line_width\":1.5,\"x\":{\"field\":\"x\"},\"y\":{\"field\":\"y\"}},\"id\":\"4798e3a1-7152-4e04-ab76-9e53103b1d9b\",\"type\":\"Line\"},{\"attributes\":{\"line_alpha\":0.1,\"line_color\":\"#1f77b4\",\"line_width\":3,\"x\":{\"field\":\"x\"},\"y\":{\"field\":\"y\"}},\"id\":\"a4778358-279a-4c11-b910-b6f5f0b9ccf2\",\"type\":\"Line\"},{\"attributes\":{\"data_source\":{\"id\":\"0322dc01-439b-4592-93f3-60a4ae7ca64b\",\"type\":\"ColumnDataSource\"},\"glyph\":{\"id\":\"1d2d8d9b-347a-4d9f-a6f2-67f983ff0991\",\"type\":\"Line\"},\"hover_glyph\":null,\"muted_glyph\":null,\"nonselection_glyph\":{\"id\":\"0f7577aa-92dc-4f38-b286-240c21a5503e\",\"type\":\"Line\"},\"selection_glyph\":null,\"view\":{\"id\":\"29cc426e-7f47-4ef5-972e-19c3a38058f6\",\"type\":\"CDSView\"}},\"id\":\"6b15ac8c-5f61-42c4-81e4-48eb9869151a\",\"type\":\"GlyphRenderer\"},{\"attributes\":{\"children\":[{\"id\":\"2ea97bcd-7ff3-4c5c-8609-61f22ad914ab\",\"type\":\"ToolbarBox\"},{\"id\":\"392afe14-5702-48d9-ab4a-78de490655ee\",\"type\":\"Column\"}]},\"id\":\"54034fe5-5024-4945-9a4c-8ed7ead67e86\",\"type\":\"Column\"},{\"attributes\":{\"bottom_units\":\"screen\",\"fill_alpha\":{\"value\":0.5},\"fill_color\":{\"value\":\"lightgrey\"},\"left_units\":\"screen\",\"level\":\"overlay\",\"line_alpha\":{\"value\":1.0},\"line_color\":{\"value\":\"black\"},\"line_dash\":[4,4],\"line_width\":{\"value\":2},\"plot\":null,\"render_mode\":\"css\",\"right_units\":\"screen\",\"top_units\":\"screen\"},\"id\":\"10e67134-05b3-4376-a190-344f658e2253\",\"type\":\"BoxAnnotation\"},{\"attributes\":{\"source\":{\"id\":\"42583012-252e-4e53-ad84-5388475fc78b\",\"type\":\"ColumnDataSource\"}},\"id\":\"5fb6d00f-34d7-4b46-a923-2d1de0b3aeec\",\"type\":\"CDSView\"},{\"attributes\":{\"items\":[{\"id\":\"f1d55040-091f-403a-ae63-163b49df2dba\",\"type\":\"LegendItem\"},{\"id\":\"a98729ac-3df5-4124-a1ae-8376bf713967\",\"type\":\"LegendItem\"},{\"id\":\"37de9378-bd05-4d2b-8a8e-935f43317ff7\",\"type\":\"LegendItem\"}],\"label_text_font_size\":{\"value\":\"8pt\"},\"location\":[10,-30],\"plot\":{\"id\":\"ada1b0a5-8950-4fda-a0fc-05e5033a264d\",\"subtype\":\"Figure\",\"type\":\"Plot\"}},\"id\":\"c32860ec-02c0-4593-b4b6-0b50fff6587b\",\"type\":\"Legend\"},{\"attributes\":{\"fill_alpha\":{\"value\":0.7},\"fill_color\":{\"value\":\"#4daf4a\"},\"line_alpha\":{\"value\":0.7},\"line_color\":{\"value\":\"#4daf4a\"},\"x\":{\"field\":\"x\"},\"y\":{\"field\":\"y\"}},\"id\":\"44afe977-1de1-4fcf-a3f1-24250c254d47\",\"type\":\"Circle\"},{\"attributes\":{\"tools\":[{\"id\":\"d38c7830-e189-455b-9cfd-ddc5954b64ce\",\"type\":\"PanTool\"},{\"id\":\"6df7ddba-0d02-43ab-a978-4ead01dbadd9\",\"type\":\"WheelZoomTool\"},{\"id\":\"7c2d5e79-1de2-4e9d-bc27-c6597f059eed\",\"type\":\"BoxZoomTool\"},{\"id\":\"e7484981-2bf1-4d33-9e06-59ad505f6894\",\"type\":\"SaveTool\"},{\"id\":\"33aabc3f-7c1a-4bb8-ba21-682c5039a994\",\"type\":\"ResetTool\"},{\"id\":\"a45a5a1c-2325-4398-81f8-3b62cc6357c8\",\"type\":\"HelpTool\"},{\"id\":\"25c19512-897e-4246-aa00-80f65c04eed4\",\"type\":\"PanTool\"},{\"id\":\"15b9a907-a385-4288-992b-4e2242a79df9\",\"type\":\"WheelZoomTool\"},{\"id\":\"3a442e33-3bd3-4314-a377-d2e64e01448d\",\"type\":\"BoxZoomTool\"},{\"id\":\"ae5e1782-2493-4273-adc8-b10477641970\",\"type\":\"SaveTool\"},{\"id\":\"aca84aac-4b22-4205-92d0-34c24538ef85\",\"type\":\"ResetTool\"},{\"id\":\"392e6c4f-75a3-4996-9779-49f4cb479724\",\"type\":\"HelpTool\"}]},\"id\":\"68c28a32-c498-442c-921d-0150552b72d1\",\"type\":\"ProxyToolbar\"},{\"attributes\":{\"fill_alpha\":{\"value\":0.1},\"fill_color\":{\"value\":\"#1f77b4\"},\"line_alpha\":{\"value\":0.1},\"line_color\":{\"value\":\"#1f77b4\"},\"x\":{\"field\":\"x\"},\"y\":{\"field\":\"y\"}},\"id\":\"c9205412-3f8f-447d-abc3-d51e1545f819\",\"type\":\"Square\"},{\"attributes\":{\"toolbar\":{\"id\":\"68c28a32-c498-442c-921d-0150552b72d1\",\"type\":\"ProxyToolbar\"},\"toolbar_location\":\"above\"},\"id\":\"2ea97bcd-7ff3-4c5c-8609-61f22ad914ab\",\"type\":\"ToolbarBox\"},{\"attributes\":{\"source\":{\"id\":\"d5273e67-2e7d-4a16-b80b-e2d9248fb3df\",\"type\":\"ColumnDataSource\"}},\"id\":\"e4ee3430-c718-4ebd-af24-c71db231f2aa\",\"type\":\"CDSView\"},{\"attributes\":{\"axis_label\":\"pressure [mb]\",\"formatter\":{\"id\":\"d4b55d91-1d64-4bad-9695-8cc10bae590b\",\"type\":\"LogTickFormatter\"},\"plot\":{\"id\":\"ada1b0a5-8950-4fda-a0fc-05e5033a264d\",\"subtype\":\"Figure\",\"type\":\"Plot\"},\"ticker\":{\"id\":\"dc5e24fa-3348-4647-ab4b-66601bc34c6f\",\"type\":\"LogTicker\"}},\"id\":\"423a357a-a55b-4921-822f-fc3e0a3dc784\",\"type\":\"LogAxis\"},{\"attributes\":{},\"id\":\"8cf437f0-d232-440e-96c0-922c7dbd4159\",\"type\":\"LogScale\"},{\"attributes\":{},\"id\":\"95cd93b1-28d7-4a7b-8c78-53dff6b719ac\",\"type\":\"LinearScale\"},{\"attributes\":{\"fill_alpha\":{\"value\":0.7},\"fill_color\":{\"value\":\"#4daf4a\"},\"line_alpha\":{\"value\":0.7},\"line_color\":{\"value\":\"#4daf4a\"},\"x\":{\"field\":\"x\"},\"y\":{\"field\":\"y\"}},\"id\":\"7c4aebd8-f0c1-49d1-a657-f79b5d2c1b6d\",\"type\":\"Circle\"},{\"attributes\":{\"callback\":null,\"column_names\":[\"x\",\"y\"],\"data\":{\"x\":{\"__ndarray__\":\"imo60H1Y1T854Kk27oPVP/ycim21O9Y/VwWLP2H71j/9/FKaKJ3XPzRf63MxHdg/yegd+jBz2D84OnwMNY7YP39duDm2Wtg/NAowyVTD1z83O+9SLK/WP2v23QB1+9Q/9MdRDNKE0j8g07kmzbTOP/UmTDnbs8w/9Q8iGXLs0D+fQqZjawnUP+r+uYFlGdY/qk9JCBzq1z9Xi3iAYRjbP9jKtpkr3+A/bkFC1ks65j/uhCxF0efnPzpjb5SCj+U/pZJsO46b4j/pU56rc23eP9u3QYqN+9g/geAabY+91D86LwTvmgbRP0FwS5r1GMs/T2a0PKzDxD+iNAZjZbC+Pxql9f7Z67U/K/C1ak6Trz9THqNdAVygP/wGQPlPAHO/H1nkyuWunb+BtEuQG8KYv/i1qrN+3Ve/UrDOSr0bjT9jr6D+7ZGdP2f1IpsqZqc/5wKm8sfLsD+3fRjsSYq2P93kfT3berw/8RQwicw/wT+Tq3kKkFPEPzMPqh56HMc/AGSVkBfryD+ta5MO//7KPxeLtpUkcM0/PlHhIe8J0D8MTDzaF1TRP2IYqHPiftI/TLzqnsiV0z8GQKIqIprUP9ZPYoSujNU/gxMTzH9l1j8e7U1GdBPXP8bP82VxmNc/3nBh1Qfv1z8919bTN/7XP6Q4BQFLkdc/b4HjtqaO1z9htvD+cD7WP+ali+KPQdQ/y5O1l34T0j/wAvyF5AXPP1B1I4fj1Mo/Vyhv0+GZxz8dIDV5DAfFP9rIlmGzDsM/Bpd1nC7NwT+3CsXKJsjBP/wKiP8qdsg/\",\"dtype\":\"float64\",\"shape\":[75]},\"y\":{\"__ndarray__\":\"GhExyth1ND/Sv8nbtpRIP2vylNV0PVE/aTum7souWD/At0SJ8fVgPw3Iuahxymc/MSNhhJWvcD/bTfBN02d3P2zb5nxnaoA/CD5h5MAGhz8NmeH1TyaQP+zrCsc9p5Y/LbKd76fGnz/bLW5ISEmmPww9YvTcQq8/JV2OstnstT8Er5Y7M8G+P0c+r3jqkcU/5h99k6ZBzj88bCIzFzjVP4enV8oyxN0//yH99nXg5D8qOpLLf0jtP5kqGJXUifQ/c9cS8kHP/D+/DpwzojQEQIEmwoanVwxA4lgXt9HgE0BSSZ2AJuIbQAMJih9jjiNA5q4l5INuK0AwTKYKRj0zQNv5fmq8/DpAaCJseHrtQkB/+zpwzoxKQM3MzMzMeFJAZmZmZmZqWEAAAAAAAFxeQM3MzMzMJmJAmpmZmZkfZUBmZmZmZhhoQDMzMzMzEWtAAAAAAAAKbkBmZmZmZoFwQM3MzMzM/XFAMzMzMzN6c0CamZmZmfZ0QAAAAAAAc3ZAZmZmZmbvd0DNzMzMzGt5QDMzMzMz6HpAmpmZmZlkfEAAAAAAAOF9QGZmZmZmXX9AZmZmZuZsgECamZmZGSuBQM3MzMxM6YFAAAAAAICngkAzMzMzs2WDQGZmZmbmI4RAmpmZmRnihEDNzMzMTKCFQAAAAACAXoZAMzMzM7Mch0BmZmZm5tqHQJqZmZkZmYhAzczMzExXiUAAAAAAgBWKQDMzMzOz04pAZmZmZuaRi0CamZmZGVCMQM3MzMxMDo1AAAAAAIDMjUAzMzMzs4qOQGZmZmbmSI9A\",\"dtype\":\"float64\",\"shape\":[75]}}},\"id\":\"813a68fd-0c5b-4af2-b15a-7b3d59e56b7b\",\"type\":\"ColumnDataSource\"},{\"attributes\":{},\"id\":\"f2506f7e-2f4b-47a9-b6b7-487ab22a7da5\",\"type\":\"BasicTickFormatter\"},{\"attributes\":{},\"id\":\"25c19512-897e-4246-aa00-80f65c04eed4\",\"type\":\"PanTool\"},{\"attributes\":{\"line_alpha\":0.6,\"line_color\":\"#e41a1c\",\"line_dash\":[6],\"line_width\":5,\"x\":{\"field\":\"x\"},\"y\":{\"field\":\"y\"}},\"id\":\"f5bbd1be-9be6-454c-8110-b2bb73256257\",\"type\":\"Line\"},{\"attributes\":{},\"id\":\"aca84aac-4b22-4205-92d0-34c24538ef85\",\"type\":\"ResetTool\"},{\"attributes\":{},\"id\":\"57cfde90-23a4-4684-87ba-bc599d2fe620\",\"type\":\"BasicTicker\"},{\"attributes\":{\"children\":[{\"id\":\"5ee6ca8e-4af5-4b67-aec2-03eed18cd4e1\",\"type\":\"Row\"}]},\"id\":\"392afe14-5702-48d9-ab4a-78de490655ee\",\"type\":\"Column\"},{\"attributes\":{},\"id\":\"392e6c4f-75a3-4996-9779-49f4cb479724\",\"type\":\"HelpTool\"},{\"attributes\":{\"source\":{\"id\":\"0322dc01-439b-4592-93f3-60a4ae7ca64b\",\"type\":\"ColumnDataSource\"}},\"id\":\"29cc426e-7f47-4ef5-972e-19c3a38058f6\",\"type\":\"CDSView\"},{\"attributes\":{\"active_drag\":\"auto\",\"active_inspect\":\"auto\",\"active_scroll\":\"auto\",\"active_tap\":\"auto\",\"tools\":[{\"id\":\"25c19512-897e-4246-aa00-80f65c04eed4\",\"type\":\"PanTool\"},{\"id\":\"15b9a907-a385-4288-992b-4e2242a79df9\",\"type\":\"WheelZoomTool\"},{\"id\":\"3a442e33-3bd3-4314-a377-d2e64e01448d\",\"type\":\"BoxZoomTool\"},{\"id\":\"ae5e1782-2493-4273-adc8-b10477641970\",\"type\":\"SaveTool\"},{\"id\":\"aca84aac-4b22-4205-92d0-34c24538ef85\",\"type\":\"ResetTool\"},{\"id\":\"392e6c4f-75a3-4996-9779-49f4cb479724\",\"type\":\"HelpTool\"}]},\"id\":\"40531cdb-617a-4f38-9425-7931250c4c11\",\"type\":\"Toolbar\"},{\"attributes\":{\"source\":{\"id\":\"dcc1444b-085b-4d51-ad5c-cbaa31c94437\",\"type\":\"ColumnDataSource\"}},\"id\":\"802ff9e6-daa5-474c-9d33-f9c6d43fc2ec\",\"type\":\"CDSView\"},{\"attributes\":{\"data_source\":{\"id\":\"813a68fd-0c5b-4af2-b15a-7b3d59e56b7b\",\"type\":\"ColumnDataSource\"},\"glyph\":{\"id\":\"4bdc9088-7656-4dc2-8811-184ce4e2ffd8\",\"type\":\"Square\"},\"hover_glyph\":null,\"muted_glyph\":null,\"nonselection_glyph\":{\"id\":\"c9205412-3f8f-447d-abc3-d51e1545f819\",\"type\":\"Square\"},\"selection_glyph\":null,\"view\":{\"id\":\"8b453cf0-7ecd-47fe-9ec2-ea2c8c3ae54e\",\"type\":\"CDSView\"}},\"id\":\"2f7b874f-e794-4819-a3d5-efd66bd69638\",\"type\":\"GlyphRenderer\"},{\"attributes\":{\"callback\":null,\"column_names\":[\"x\",\"y\"],\"data\":{\"x\":{\"__ndarray__\":\"imo60H1Y1T854Kk27oPVP/ycim21O9Y/VwWLP2H71j/9/FKaKJ3XPzRf63MxHdg/yegd+jBz2D84OnwMNY7YP39duDm2Wtg/NAowyVTD1z83O+9SLK/WP2v23QB1+9Q/9MdRDNKE0j8g07kmzbTOP/UmTDnbs8w/9Q8iGXLs0D+fQqZjawnUP+r+uYFlGdY/qk9JCBzq1z9Xi3iAYRjbP9jKtpkr3+A/bkFC1ks65j/uhCxF0efnPzpjb5SCj+U/pZJsO46b4j/pU56rc23eP9u3QYqN+9g/geAabY+91D86LwTvmgbRP0FwS5r1GMs/T2a0PKzDxD+iNAZjZbC+Pxql9f7Z67U/K/C1ak6Trz9THqNdAVygP/wGQPlPAHO/H1nkyuWunb+BtEuQG8KYv/i1qrN+3Ve/UrDOSr0bjT9jr6D+7ZGdP2f1IpsqZqc/5wKm8sfLsD+3fRjsSYq2P93kfT3berw/8RQwicw/wT+Tq3kKkFPEPzMPqh56HMc/AGSVkBfryD+ta5MO//7KPxeLtpUkcM0/PlHhIe8J0D8MTDzaF1TRP2IYqHPiftI/TLzqnsiV0z8GQKIqIprUP9ZPYoSujNU/gxMTzH9l1j8e7U1GdBPXP8bP82VxmNc/3nBh1Qfv1z8919bTN/7XP6Q4BQFLkdc/b4HjtqaO1z9htvD+cD7WP+ali+KPQdQ/y5O1l34T0j/wAvyF5AXPP1B1I4fj1Mo/Vyhv0+GZxz8dIDV5DAfFP9rIlmGzDsM/Bpd1nC7NwT+3CsXKJsjBP/wKiP8qdsg/\",\"dtype\":\"float64\",\"shape\":[75]},\"y\":{\"__ndarray__\":\"GhExyth1ND/Sv8nbtpRIP2vylNV0PVE/aTum7souWD/At0SJ8fVgPw3Iuahxymc/MSNhhJWvcD/bTfBN02d3P2zb5nxnaoA/CD5h5MAGhz8NmeH1TyaQP+zrCsc9p5Y/LbKd76fGnz/bLW5ISEmmPww9YvTcQq8/JV2OstnstT8Er5Y7M8G+P0c+r3jqkcU/5h99k6ZBzj88bCIzFzjVP4enV8oyxN0//yH99nXg5D8qOpLLf0jtP5kqGJXUifQ/c9cS8kHP/D+/DpwzojQEQIEmwoanVwxA4lgXt9HgE0BSSZ2AJuIbQAMJih9jjiNA5q4l5INuK0AwTKYKRj0zQNv5fmq8/DpAaCJseHrtQkB/+zpwzoxKQM3MzMzMeFJAZmZmZmZqWEAAAAAAAFxeQM3MzMzMJmJAmpmZmZkfZUBmZmZmZhhoQDMzMzMzEWtAAAAAAAAKbkBmZmZmZoFwQM3MzMzM/XFAMzMzMzN6c0CamZmZmfZ0QAAAAAAAc3ZAZmZmZmbvd0DNzMzMzGt5QDMzMzMz6HpAmpmZmZlkfEAAAAAAAOF9QGZmZmZmXX9AZmZmZuZsgECamZmZGSuBQM3MzMxM6YFAAAAAAICngkAzMzMzs2WDQGZmZmbmI4RAmpmZmRnihEDNzMzMTKCFQAAAAACAXoZAMzMzM7Mch0BmZmZm5tqHQJqZmZkZmYhAzczMzExXiUAAAAAAgBWKQDMzMzOz04pAZmZmZuaRi0CamZmZGVCMQM3MzMxMDo1AAAAAAIDMjUAzMzMzs4qOQGZmZmbmSI9A\",\"dtype\":\"float64\",\"shape\":[75]}}},\"id\":\"dcc1444b-085b-4d51-ad5c-cbaa31c94437\",\"type\":\"ColumnDataSource\"},{\"attributes\":{\"line_alpha\":0.1,\"line_color\":\"#1f77b4\",\"line_width\":1.5,\"x\":{\"field\":\"x\"},\"y\":{\"field\":\"y\"}},\"id\":\"395f6118-e939-42f2-a7d3-8aa5139f19a5\",\"type\":\"Line\"},{\"attributes\":{},\"id\":\"27e93905-cf8f-4b1c-93a8-3e75415e58b1\",\"type\":\"BasicTickFormatter\"},{\"attributes\":{\"callback\":null,\"column_names\":[\"x\",\"y\"],\"data\":{\"x\":{\"__ndarray__\":\"0PuUnV3C2j9jEmiPm4raP8x313ZmRNs/Ypkj0AXa2z9NPX+YjDzcPybWFI5BY9w/6K0uZegx3D/s5EZwp53bP7J8ZfdHjNo/dTHV5ffq2D9t5m/GWabWP/lCjs51sdM/6wpLdkv2zz8NKOX/n1THP6JR7C5x4MM/03+9X1jAyD8A/Pjw0QfQPxghfvYKqNM/e7zzOMoJ2D8L+Mr2AOHdP+Upac2oHOM/4UqwF46w6D+ohXksCdLpP7gkYqXdo+Y/qKv5+Qgf4z84GdFNzSveP0n/Pwx8Xtc/2MTZ358z0j/jZXarIdDMP2NdgY2QJsc/ZnlHW89vwj+iDgrOCW+8P04v+euKI7U/dAU5+ii7rj/XepsLF0qeP1Fu7ZFF0nm/9LOYpYu3nb+m3IcAA+iZvzYiSWXSM3W/LaZOznRZgj+sVe4XSUGXP8AfDKmTTaQ/b5HmVb7jrj8P/nt5zIO1P73HVwqa+bs/YG6cuSxLwT+8MIj+v6DEP8CbyZKUz8c/osCvTwg2yj+g7LmOadTMP8yENmu2k88/86dTP+sx0T/7by2sfpnSP92Qb4R/8NM/ZGZVOg4y1T/8kDMkWU3WP9bbbpsMO9c/Imz8skn41z8dtmd19n7YP1PktbcA2dg/ol0q2ywD2T9WVC+FKNvYPxL3eQi6KNg/fqag09rR1z/ahlmBhBXWP/zydkK3sNM/DZTKyuU10T+CGfj2UwjNP5I+zrAo18g/5fmhDDSjxT+vqNJgZBPDP1gmssUkEsE/dGWrJuNzvz9aZUOKQy6/P/+xMSvracY/\",\"dtype\":\"float64\",\"shape\":[75]},\"y\":{\"__ndarray__\":\"GhExyth1ND/Sv8nbtpRIP2vylNV0PVE/aTum7souWD/At0SJ8fVgPw3Iuahxymc/MSNhhJWvcD/bTfBN02d3P2zb5nxnaoA/CD5h5MAGhz8NmeH1TyaQP+zrCsc9p5Y/LbKd76fGnz/bLW5ISEmmPww9YvTcQq8/JV2OstnstT8Er5Y7M8G+P0c+r3jqkcU/5h99k6ZBzj88bCIzFzjVP4enV8oyxN0//yH99nXg5D8qOpLLf0jtP5kqGJXUifQ/c9cS8kHP/D+/DpwzojQEQIEmwoanVwxA4lgXt9HgE0BSSZ2AJuIbQAMJih9jjiNA5q4l5INuK0AwTKYKRj0zQNv5fmq8/DpAaCJseHrtQkB/+zpwzoxKQM3MzMzMeFJAZmZmZmZqWEAAAAAAAFxeQM3MzMzMJmJAmpmZmZkfZUBmZmZmZhhoQDMzMzMzEWtAAAAAAAAKbkBmZmZmZoFwQM3MzMzM/XFAMzMzMzN6c0CamZmZmfZ0QAAAAAAAc3ZAZmZmZmbvd0DNzMzMzGt5QDMzMzMz6HpAmpmZmZlkfEAAAAAAAOF9QGZmZmZmXX9AZmZmZuZsgECamZmZGSuBQM3MzMxM6YFAAAAAAICngkAzMzMzs2WDQGZmZmbmI4RAmpmZmRnihEDNzMzMTKCFQAAAAACAXoZAMzMzM7Mch0BmZmZm5tqHQJqZmZkZmYhAzczMzExXiUAAAAAAgBWKQDMzMzOz04pAZmZmZuaRi0CamZmZGVCMQM3MzMxMDo1AAAAAAIDMjUAzMzMzs4qOQGZmZmbmSI9A\",\"dtype\":\"float64\",\"shape\":[75]}}},\"id\":\"2e557ea8-3988-4332-ab2f-a0ad249942ef\",\"type\":\"ColumnDataSource\"},{\"attributes\":{\"below\":[{\"id\":\"f471f43f-5538-4b13-82e7-bb7290d7263d\",\"type\":\"LinearAxis\"}],\"left\":[{\"id\":\"423a357a-a55b-4921-822f-fc3e0a3dc784\",\"type\":\"LogAxis\"}],\"plot_height\":500,\"plot_width\":560,\"renderers\":[{\"id\":\"f471f43f-5538-4b13-82e7-bb7290d7263d\",\"type\":\"LinearAxis\"},{\"id\":\"6a5efdd7-c1ef-4f1a-9908-ccadc000de8e\",\"type\":\"Grid\"},{\"id\":\"423a357a-a55b-4921-822f-fc3e0a3dc784\",\"type\":\"LogAxis\"},{\"id\":\"1d3d4098-1ade-4f0f-9b1f-d26f876422d1\",\"type\":\"Grid\"},{\"id\":\"10e67134-05b3-4376-a190-344f658e2253\",\"type\":\"BoxAnnotation\"},{\"id\":\"6b15ac8c-5f61-42c4-81e4-48eb9869151a\",\"type\":\"GlyphRenderer\"},{\"id\":\"7ee78af2-ae4a-4d81-a09b-9efde428ba4b\",\"type\":\"GlyphRenderer\"},{\"id\":\"49371a5f-2bda-46c1-b9fb-0b0750707c66\",\"type\":\"GlyphRenderer\"},{\"id\":\"7fd68288-ee49-4c18-875f-542231c6d7cb\",\"type\":\"GlyphRenderer\"},{\"id\":\"34864759-6fc2-4aee-afca-e689038e7df8\",\"type\":\"GlyphRenderer\"},{\"id\":\"c32860ec-02c0-4593-b4b6-0b50fff6587b\",\"type\":\"Legend\"}],\"right\":[{\"id\":\"c32860ec-02c0-4593-b4b6-0b50fff6587b\",\"type\":\"Legend\"}],\"title\":{\"id\":\"52d2890f-49bd-4cf3-a104-9f3ccc417123\",\"type\":\"Title\"},\"toolbar\":{\"id\":\"40531cdb-617a-4f38-9425-7931250c4c11\",\"type\":\"Toolbar\"},\"toolbar_location\":null,\"x_range\":{\"id\":\"f9181f24-f3e0-4183-96bf-0dc2336635d6\",\"type\":\"Range1d\"},\"x_scale\":{\"id\":\"95cd93b1-28d7-4a7b-8c78-53dff6b719ac\",\"type\":\"LinearScale\"},\"y_range\":{\"id\":\"2581bca9-1fbf-4fa6-91fd-86f559af060f\",\"type\":\"Range1d\"},\"y_scale\":{\"id\":\"8cf437f0-d232-440e-96c0-922c7dbd4159\",\"type\":\"LogScale\"}},\"id\":\"ada1b0a5-8950-4fda-a0fc-05e5033a264d\",\"subtype\":\"Figure\",\"type\":\"Plot\"},{\"attributes\":{\"axis_label\":\"pressure [mb]\",\"formatter\":{\"id\":\"4911bc04-e71a-4594-8b7c-bdc0b4e1ac12\",\"type\":\"BasicTickFormatter\"},\"plot\":{\"id\":\"8825c318-b566-4036-8c2d-07c762aaa17a\",\"subtype\":\"Figure\",\"type\":\"Plot\"},\"ticker\":{\"id\":\"89513822-1dca-47c9-a05e-0d6a3ea41c1d\",\"type\":\"BasicTicker\"}},\"id\":\"1d913f5e-04bc-4bfc-8f0b-b8f6bbcf3279\",\"type\":\"LinearAxis\"},{\"attributes\":{\"num_minor_ticks\":10},\"id\":\"dc5e24fa-3348-4647-ab4b-66601bc34c6f\",\"type\":\"LogTicker\"},{\"attributes\":{\"data_source\":{\"id\":\"d5273e67-2e7d-4a16-b80b-e2d9248fb3df\",\"type\":\"ColumnDataSource\"},\"glyph\":{\"id\":\"f5bbd1be-9be6-454c-8110-b2bb73256257\",\"type\":\"Line\"},\"hover_glyph\":null,\"muted_glyph\":null,\"nonselection_glyph\":{\"id\":\"e2767f15-e097-43f8-9f0c-cabd8e129337\",\"type\":\"Line\"},\"selection_glyph\":null,\"view\":{\"id\":\"e4ee3430-c718-4ebd-af24-c71db231f2aa\",\"type\":\"CDSView\"}},\"id\":\"847cece4-d929-459b-b100-d0a518951948\",\"type\":\"GlyphRenderer\"},{\"attributes\":{},\"id\":\"89513822-1dca-47c9-a05e-0d6a3ea41c1d\",\"type\":\"BasicTicker\"},{\"attributes\":{\"line_alpha\":0.1,\"line_color\":\"#1f77b4\",\"line_dash\":[6],\"line_width\":5,\"x\":{\"field\":\"x\"},\"y\":{\"field\":\"y\"}},\"id\":\"0f7577aa-92dc-4f38-b286-240c21a5503e\",\"type\":\"Line\"},{\"attributes\":{\"axis_label\":\"cooling rate [K/day]\",\"formatter\":{\"id\":\"27e93905-cf8f-4b1c-93a8-3e75415e58b1\",\"type\":\"BasicTickFormatter\"},\"plot\":{\"id\":\"8825c318-b566-4036-8c2d-07c762aaa17a\",\"subtype\":\"Figure\",\"type\":\"Plot\"},\"ticker\":{\"id\":\"d0010e0e-2b3d-45dd-8488-4a03b98c84c7\",\"type\":\"BasicTicker\"}},\"id\":\"54e0ee89-10a4-4eac-a707-256a8dd02dbf\",\"type\":\"LinearAxis\"},{\"attributes\":{},\"id\":\"85a416c6-aef3-4e3c-b8ca-68eac2340dde\",\"type\":\"LinearScale\"},{\"attributes\":{},\"id\":\"9bd8755b-bce9-4147-8b5a-244ff82adbda\",\"type\":\"LinearScale\"},{\"attributes\":{\"callback\":null,\"end\":0.01,\"start\":1020},\"id\":\"2581bca9-1fbf-4fa6-91fd-86f559af060f\",\"type\":\"Range1d\"},{\"attributes\":{\"plot\":null,\"text\":\"Linear pressure scale\"},\"id\":\"a35d48c8-d08f-45c9-8cde-b393a18c0929\",\"type\":\"Title\"},{\"attributes\":{},\"id\":\"4911bc04-e71a-4594-8b7c-bdc0b4e1ac12\",\"type\":\"BasicTickFormatter\"},{\"attributes\":{\"line_alpha\":0.6,\"line_color\":\"#e41a1c\",\"line_dash\":[6],\"line_width\":5,\"x\":{\"field\":\"x\"},\"y\":{\"field\":\"y\"}},\"id\":\"1d2d8d9b-347a-4d9f-a6f2-67f983ff0991\",\"type\":\"Line\"},{\"attributes\":{},\"id\":\"d38c7830-e189-455b-9cfd-ddc5954b64ce\",\"type\":\"PanTool\"},{\"attributes\":{\"fill_alpha\":{\"value\":0.1},\"fill_color\":{\"value\":\"#1f77b4\"},\"line_alpha\":{\"value\":0.1},\"line_color\":{\"value\":\"#1f77b4\"},\"x\":{\"field\":\"x\"},\"y\":{\"field\":\"y\"}},\"id\":\"2f4d8afc-646e-43ad-b7c3-bce03c6b585e\",\"type\":\"Circle\"},{\"attributes\":{\"below\":[{\"id\":\"54e0ee89-10a4-4eac-a707-256a8dd02dbf\",\"type\":\"LinearAxis\"}],\"left\":[{\"id\":\"1d913f5e-04bc-4bfc-8f0b-b8f6bbcf3279\",\"type\":\"LinearAxis\"}],\"plot_height\":500,\"plot_width\":400,\"renderers\":[{\"id\":\"54e0ee89-10a4-4eac-a707-256a8dd02dbf\",\"type\":\"LinearAxis\"},{\"id\":\"19fa76d8-3aff-4b7a-b2fd-5656aaf18c08\",\"type\":\"Grid\"},{\"id\":\"1d913f5e-04bc-4bfc-8f0b-b8f6bbcf3279\",\"type\":\"LinearAxis\"},{\"id\":\"47e4a982-dafd-49e4-8c65-402f83ad94d6\",\"type\":\"Grid\"},{\"id\":\"64e1c12a-5e74-4a4e-8676-d7a230ee9c0c\",\"type\":\"BoxAnnotation\"},{\"id\":\"847cece4-d929-459b-b100-d0a518951948\",\"type\":\"GlyphRenderer\"},{\"id\":\"d6f4e1c3-5478-4e53-bee0-407b2dd2ef8f\",\"type\":\"GlyphRenderer\"},{\"id\":\"123835d4-b732-4e3d-b458-2d502e745be5\",\"type\":\"GlyphRenderer\"},{\"id\":\"2f7b874f-e794-4819-a3d5-efd66bd69638\",\"type\":\"GlyphRenderer\"},{\"id\":\"5cfb2f99-fa2c-43a9-ab92-e7add9130202\",\"type\":\"GlyphRenderer\"}],\"title\":{\"id\":\"a35d48c8-d08f-45c9-8cde-b393a18c0929\",\"type\":\"Title\"},\"toolbar\":{\"id\":\"aaf2954c-2b6d-4950-b43a-f301322f72cb\",\"type\":\"Toolbar\"},\"toolbar_location\":null,\"x_range\":{\"id\":\"a08beeb8-1bec-4c53-a266-040836792cad\",\"type\":\"Range1d\"},\"x_scale\":{\"id\":\"9bd8755b-bce9-4147-8b5a-244ff82adbda\",\"type\":\"LinearScale\"},\"y_range\":{\"id\":\"ee82b95a-176a-4b6b-8ec4-3fc22930f420\",\"type\":\"Range1d\"},\"y_scale\":{\"id\":\"85a416c6-aef3-4e3c-b8ca-68eac2340dde\",\"type\":\"LinearScale\"}},\"id\":\"8825c318-b566-4036-8c2d-07c762aaa17a\",\"subtype\":\"Figure\",\"type\":\"Plot\"},{\"attributes\":{\"label\":{\"value\":\"CRD\"},\"renderers\":[{\"id\":\"7ee78af2-ae4a-4d81-a09b-9efde428ba4b\",\"type\":\"GlyphRenderer\"},{\"id\":\"49371a5f-2bda-46c1-b9fb-0b0750707c66\",\"type\":\"GlyphRenderer\"}]},\"id\":\"a98729ac-3df5-4124-a1ae-8376bf713967\",\"type\":\"LegendItem\"},{\"attributes\":{},\"id\":\"d0010e0e-2b3d-45dd-8488-4a03b98c84c7\",\"type\":\"BasicTicker\"},{\"attributes\":{\"callback\":null,\"column_names\":[\"x\",\"y\"],\"data\":{\"x\":{\"__ndarray__\":\"EoPAyqFFzz+o6ILZiNDPP55wftzho9A/kiuKkQRl0T8V3mlbYh/SP31JGSd0zdI/gQncuptn0z+X2wdqQuTTP2No0Cv5M9Q/a34+whdD1D+RdoryWPXTP4XmAOIqJtM/Z6r1uE6n0T/BzxMqk/XOP0oSAPP7RM4/zZpQb+Pi0T9Kw53JBuvUPxD35KO9aNY/BcBX+CMa1z9pr3jJgx3ZP7QWsC64MN8/wBpvRFoX5T+/uscl0DjnP/uCzIQVXeU/dtVNczyw4j+avDsRSLLePxf57dIjWdk/q4fcyhoO1T8y1R+jNELRP84plpUFF8s/SueqFmSNxD+EznNdW+y9P46xgPqwjbQ/svzQNy9vrD9bW8mlKbadP0/RUYp2jnK/zpoTDMvFnL+Npo/NSYCYv9PVBO7MRme/0J3uqY3Lhz+XvU7lEhmaP1O+CmqkF6U/vI7dqpCXrj/aP8vKYb20PxEU5AxqZLo/18Yzw6ESwD/WrZ6T3jfDP36JugfPIcY/m6JtRhflxz+lxXR8D/LJP2NV7zaQqsw/yh7bEdLDzz+KYcHccl7RP9xgjyZqq9I/9DM31xfm0z+akJxt6hPVP8Pd1YJJN9Y/DAe+edw91z/xwaVCwArYP7RIRSlCptg/abBGye0P2T/orAWsCy7ZP8dFWs+11Ng/CPCrrEz82D+tzpy7fr3XPzURkfUvpNU/NOxBUlUy0z8EdD7AgzTQPyhaA6Wycss/0cPYWy2kxz92xSnGO7jEP63duL2LlMI/g/LCxopUwT+rM8agdmzBPza0nq3FH8g/\",\"dtype\":\"float64\",\"shape\":[75]},\"y\":{\"__ndarray__\":\"S/O/Q+51ND/Sv8nbtpRIP2vylNV0PVE/aTum7souWD/At0SJ8fVgPw3Iuahxymc/MSNhhJWvcD/bTfBN02d3P2zb5nxnaoA/CD5h5MAGhz8NmeH1TyaQP+zrCsc9p5Y/LbKd76fGnz/bLW5ISEmmPww9YvTcQq8/JV2OstnstT8Er5Y7M8G+P0c+r3jqkcU/5h99k6ZBzj88bCIzFzjVP4enV8oyxN0//yH99nXg5D8qOpLLf0jtP5kqGJXUifQ/c9cS8kHP/D+/DpwzojQEQIEmwoanVwxA4lgXt9HgE0BSSZ2AJuIbQAMJih9jjiNA5q4l5INuK0AwTKYKRj0zQNv5fmq8/DpAaCJseHrtQkB/+zpwzoxKQM3MzMzMeFJAZmZmZmZqWEAAAAAAAFxeQM3MzMzMJmJAmpmZmZkfZUBmZmZmZhhoQDMzMzMzEWtAAAAAAAAKbkBmZmZmZoFwQM3MzMzM/XFAMzMzMzN6c0CamZmZmfZ0QAAAAAAAc3ZAZmZmZmbvd0DNzMzMzGt5QDMzMzMz6HpAmpmZmZlkfEAAAAAAAOF9QGZmZmZmXX9AZmZmZuZsgECamZmZGSuBQM3MzMxM6YFAAAAAAICngkAzMzMzs2WDQGZmZmbmI4RAmpmZmRnihEDNzMzMTKCFQAAAAACAXoZAMzMzM7Mch0BmZmZm5tqHQJqZmZkZmYhAzczMzExXiUAAAAAAgBWKQDMzMzOz04pAZmZmZuaRi0CamZmZGVCMQM3MzMxMDo1AAAAAAIDMjUAzMzMzs4qOQGZmZmbmSI9A\",\"dtype\":\"float64\",\"shape\":[75]}}},\"id\":\"0322dc01-439b-4592-93f3-60a4ae7ca64b\",\"type\":\"ColumnDataSource\"},{\"attributes\":{\"callback\":null,\"end\":0.39765995883,\"start\":-0.03324504183},\"id\":\"a08beeb8-1bec-4c53-a266-040836792cad\",\"type\":\"Range1d\"},{\"attributes\":{\"children\":[{\"id\":\"8825c318-b566-4036-8c2d-07c762aaa17a\",\"subtype\":\"Figure\",\"type\":\"Plot\"},{\"id\":\"ada1b0a5-8950-4fda-a0fc-05e5033a264d\",\"subtype\":\"Figure\",\"type\":\"Plot\"}]},\"id\":\"5ee6ca8e-4af5-4b67-aec2-03eed18cd4e1\",\"type\":\"Row\"},{\"attributes\":{\"dimension\":1,\"plot\":{\"id\":\"8825c318-b566-4036-8c2d-07c762aaa17a\",\"subtype\":\"Figure\",\"type\":\"Plot\"},\"ticker\":{\"id\":\"89513822-1dca-47c9-a05e-0d6a3ea41c1d\",\"type\":\"BasicTicker\"}},\"id\":\"47e4a982-dafd-49e4-8c65-402f83ad94d6\",\"type\":\"Grid\"},{\"attributes\":{\"callback\":null,\"column_names\":[\"x\",\"y\"],\"data\":{\"x\":{\"__ndarray__\":\"0PuUnV3C2j9jEmiPm4raP8x313ZmRNs/Ypkj0AXa2z9NPX+YjDzcPybWFI5BY9w/6K0uZegx3D/s5EZwp53bP7J8ZfdHjNo/dTHV5ffq2D9t5m/GWabWP/lCjs51sdM/6wpLdkv2zz8NKOX/n1THP6JR7C5x4MM/03+9X1jAyD8A/Pjw0QfQPxghfvYKqNM/e7zzOMoJ2D8L+Mr2AOHdP+Upac2oHOM/4UqwF46w6D+ohXksCdLpP7gkYqXdo+Y/qKv5+Qgf4z84GdFNzSveP0n/Pwx8Xtc/2MTZ358z0j/jZXarIdDMP2NdgY2QJsc/ZnlHW89vwj+iDgrOCW+8P04v+euKI7U/dAU5+ii7rj/XepsLF0qeP1Fu7ZFF0nm/9LOYpYu3nb+m3IcAA+iZvzYiSWXSM3W/LaZOznRZgj+sVe4XSUGXP8AfDKmTTaQ/b5HmVb7jrj8P/nt5zIO1P73HVwqa+bs/YG6cuSxLwT+8MIj+v6DEP8CbyZKUz8c/osCvTwg2yj+g7LmOadTMP8yENmu2k88/86dTP+sx0T/7by2sfpnSP92Qb4R/8NM/ZGZVOg4y1T/8kDMkWU3WP9bbbpsMO9c/Imz8skn41z8dtmd19n7YP1PktbcA2dg/ol0q2ywD2T9WVC+FKNvYPxL3eQi6KNg/fqag09rR1z/ahlmBhBXWP/zydkK3sNM/DZTKyuU10T+CGfj2UwjNP5I+zrAo18g/5fmhDDSjxT+vqNJgZBPDP1gmssUkEsE/dGWrJuNzvz9aZUOKQy6/P/+xMSvracY/\",\"dtype\":\"float64\",\"shape\":[75]},\"y\":{\"__ndarray__\":\"GhExyth1ND/Sv8nbtpRIP2vylNV0PVE/aTum7souWD/At0SJ8fVgPw3Iuahxymc/MSNhhJWvcD/bTfBN02d3P2zb5nxnaoA/CD5h5MAGhz8NmeH1TyaQP+zrCsc9p5Y/LbKd76fGnz/bLW5ISEmmPww9YvTcQq8/JV2OstnstT8Er5Y7M8G+P0c+r3jqkcU/5h99k6ZBzj88bCIzFzjVP4enV8oyxN0//yH99nXg5D8qOpLLf0jtP5kqGJXUifQ/c9cS8kHP/D+/DpwzojQEQIEmwoanVwxA4lgXt9HgE0BSSZ2AJuIbQAMJih9jjiNA5q4l5INuK0AwTKYKRj0zQNv5fmq8/DpAaCJseHrtQkB/+zpwzoxKQM3MzMzMeFJAZmZmZmZqWEAAAAAAAFxeQM3MzMzMJmJAmpmZmZkfZUBmZmZmZhhoQDMzMzMzEWtAAAAAAAAKbkBmZmZmZoFwQM3MzMzM/XFAMzMzMzN6c0CamZmZmfZ0QAAAAAAAc3ZAZmZmZmbvd0DNzMzMzGt5QDMzMzMz6HpAmpmZmZlkfEAAAAAAAOF9QGZmZmZmXX9AZmZmZuZsgECamZmZGSuBQM3MzMxM6YFAAAAAAICngkAzMzMzs2WDQGZmZmbmI4RAmpmZmRnihEDNzMzMTKCFQAAAAACAXoZAMzMzM7Mch0BmZmZm5tqHQJqZmZkZmYhAzczMzExXiUAAAAAAgBWKQDMzMzOz04pAZmZmZuaRi0CamZmZGVCMQM3MzMxMDo1AAAAAAIDMjUAzMzMzs4qOQGZmZmbmSI9A\",\"dtype\":\"float64\",\"shape\":[75]}}},\"id\":\"cc024abb-4f1b-4a0e-a3cd-4d9be5f9911e\",\"type\":\"ColumnDataSource\"},{\"attributes\":{\"plot\":{\"id\":\"8825c318-b566-4036-8c2d-07c762aaa17a\",\"subtype\":\"Figure\",\"type\":\"Plot\"},\"ticker\":{\"id\":\"d0010e0e-2b3d-45dd-8488-4a03b98c84c7\",\"type\":\"BasicTicker\"}},\"id\":\"19fa76d8-3aff-4b7a-b2fd-5656aaf18c08\",\"type\":\"Grid\"},{\"attributes\":{\"label\":{\"value\":\"CLIRAD `coolr_bands`\"},\"renderers\":[{\"id\":\"6b15ac8c-5f61-42c4-81e4-48eb9869151a\",\"type\":\"GlyphRenderer\"}]},\"id\":\"f1d55040-091f-403a-ae63-163b49df2dba\",\"type\":\"LegendItem\"},{\"attributes\":{\"data_source\":{\"id\":\"cc024abb-4f1b-4a0e-a3cd-4d9be5f9911e\",\"type\":\"ColumnDataSource\"},\"glyph\":{\"id\":\"7c4aebd8-f0c1-49d1-a657-f79b5d2c1b6d\",\"type\":\"Circle\"},\"hover_glyph\":null,\"muted_glyph\":null,\"nonselection_glyph\":{\"id\":\"2f4d8afc-646e-43ad-b7c3-bce03c6b585e\",\"type\":\"Circle\"},\"selection_glyph\":null,\"view\":{\"id\":\"0eaf7e3c-f40b-4514-b002-e1958bf1f203\",\"type\":\"CDSView\"}},\"id\":\"d6f4e1c3-5478-4e53-bee0-407b2dd2ef8f\",\"type\":\"GlyphRenderer\"},{\"attributes\":{\"active_drag\":\"auto\",\"active_inspect\":\"auto\",\"active_scroll\":\"auto\",\"active_tap\":\"auto\",\"tools\":[{\"id\":\"d38c7830-e189-455b-9cfd-ddc5954b64ce\",\"type\":\"PanTool\"},{\"id\":\"6df7ddba-0d02-43ab-a978-4ead01dbadd9\",\"type\":\"WheelZoomTool\"},{\"id\":\"7c2d5e79-1de2-4e9d-bc27-c6597f059eed\",\"type\":\"BoxZoomTool\"},{\"id\":\"e7484981-2bf1-4d33-9e06-59ad505f6894\",\"type\":\"SaveTool\"},{\"id\":\"33aabc3f-7c1a-4bb8-ba21-682c5039a994\",\"type\":\"ResetTool\"},{\"id\":\"a45a5a1c-2325-4398-81f8-3b62cc6357c8\",\"type\":\"HelpTool\"}]},\"id\":\"aaf2954c-2b6d-4950-b43a-f301322f72cb\",\"type\":\"Toolbar\"},{\"attributes\":{},\"id\":\"6df7ddba-0d02-43ab-a978-4ead01dbadd9\",\"type\":\"WheelZoomTool\"},{\"attributes\":{\"bottom_units\":\"screen\",\"fill_alpha\":{\"value\":0.5},\"fill_color\":{\"value\":\"lightgrey\"},\"left_units\":\"screen\",\"level\":\"overlay\",\"line_alpha\":{\"value\":1.0},\"line_color\":{\"value\":\"black\"},\"line_dash\":[4,4],\"line_width\":{\"value\":2},\"plot\":null,\"render_mode\":\"css\",\"right_units\":\"screen\",\"top_units\":\"screen\"},\"id\":\"64e1c12a-5e74-4a4e-8676-d7a230ee9c0c\",\"type\":\"BoxAnnotation\"},{\"attributes\":{\"callback\":null,\"column_names\":[\"x\",\"y\"],\"data\":{\"x\":{\"__ndarray__\":\"EoPAyqFFzz+o6ILZiNDPP55wftzho9A/kiuKkQRl0T8V3mlbYh/SP31JGSd0zdI/gQncuptn0z+X2wdqQuTTP2No0Cv5M9Q/a34+whdD1D+RdoryWPXTP4XmAOIqJtM/Z6r1uE6n0T/BzxMqk/XOP0oSAPP7RM4/zZpQb+Pi0T9Kw53JBuvUPxD35KO9aNY/BcBX+CMa1z9pr3jJgx3ZP7QWsC64MN8/wBpvRFoX5T+/uscl0DjnP/uCzIQVXeU/dtVNczyw4j+avDsRSLLePxf57dIjWdk/q4fcyhoO1T8y1R+jNELRP84plpUFF8s/SueqFmSNxD+EznNdW+y9P46xgPqwjbQ/svzQNy9vrD9bW8mlKbadP0/RUYp2jnK/zpoTDMvFnL+Npo/NSYCYv9PVBO7MRme/0J3uqY3Lhz+XvU7lEhmaP1O+CmqkF6U/vI7dqpCXrj/aP8vKYb20PxEU5AxqZLo/18Yzw6ESwD/WrZ6T3jfDP36JugfPIcY/m6JtRhflxz+lxXR8D/LJP2NV7zaQqsw/yh7bEdLDzz+KYcHccl7RP9xgjyZqq9I/9DM31xfm0z+akJxt6hPVP8Pd1YJJN9Y/DAe+edw91z/xwaVCwArYP7RIRSlCptg/abBGye0P2T/orAWsCy7ZP8dFWs+11Ng/CPCrrEz82D+tzpy7fr3XPzURkfUvpNU/NOxBUlUy0z8EdD7AgzTQPyhaA6Wycss/0cPYWy2kxz92xSnGO7jEP63duL2LlMI/g/LCxopUwT+rM8agdmzBPza0nq3FH8g/\",\"dtype\":\"float64\",\"shape\":[75]},\"y\":{\"__ndarray__\":\"S/O/Q+51ND/Sv8nbtpRIP2vylNV0PVE/aTum7souWD/At0SJ8fVgPw3Iuahxymc/MSNhhJWvcD/bTfBN02d3P2zb5nxnaoA/CD5h5MAGhz8NmeH1TyaQP+zrCsc9p5Y/LbKd76fGnz/bLW5ISEmmPww9YvTcQq8/JV2OstnstT8Er5Y7M8G+P0c+r3jqkcU/5h99k6ZBzj88bCIzFzjVP4enV8oyxN0//yH99nXg5D8qOpLLf0jtP5kqGJXUifQ/c9cS8kHP/D+/DpwzojQEQIEmwoanVwxA4lgXt9HgE0BSSZ2AJuIbQAMJih9jjiNA5q4l5INuK0AwTKYKRj0zQNv5fmq8/DpAaCJseHrtQkB/+zpwzoxKQM3MzMzMeFJAZmZmZmZqWEAAAAAAAFxeQM3MzMzMJmJAmpmZmZkfZUBmZmZmZhhoQDMzMzMzEWtAAAAAAAAKbkBmZmZmZoFwQM3MzMzM/XFAMzMzMzN6c0CamZmZmfZ0QAAAAAAAc3ZAZmZmZmbvd0DNzMzMzGt5QDMzMzMz6HpAmpmZmZlkfEAAAAAAAOF9QGZmZmZmXX9AZmZmZuZsgECamZmZGSuBQM3MzMxM6YFAAAAAAICngkAzMzMzs2WDQGZmZmbmI4RAmpmZmRnihEDNzMzMTKCFQAAAAACAXoZAMzMzM7Mch0BmZmZm5tqHQJqZmZkZmYhAzczMzExXiUAAAAAAgBWKQDMzMzOz04pAZmZmZuaRi0CamZmZGVCMQM3MzMxMDo1AAAAAAIDMjUAzMzMzs4qOQGZmZmbmSI9A\",\"dtype\":\"float64\",\"shape\":[75]}}},\"id\":\"d5273e67-2e7d-4a16-b80b-e2d9248fb3df\",\"type\":\"ColumnDataSource\"},{\"attributes\":{},\"id\":\"e7484981-2bf1-4d33-9e06-59ad505f6894\",\"type\":\"SaveTool\"},{\"attributes\":{},\"id\":\"33aabc3f-7c1a-4bb8-ba21-682c5039a994\",\"type\":\"ResetTool\"},{\"attributes\":{\"overlay\":{\"id\":\"64e1c12a-5e74-4a4e-8676-d7a230ee9c0c\",\"type\":\"BoxAnnotation\"}},\"id\":\"7c2d5e79-1de2-4e9d-bc27-c6597f059eed\",\"type\":\"BoxZoomTool\"},{\"attributes\":{},\"id\":\"a45a5a1c-2325-4398-81f8-3b62cc6357c8\",\"type\":\"HelpTool\"},{\"attributes\":{\"source\":{\"id\":\"cc024abb-4f1b-4a0e-a3cd-4d9be5f9911e\",\"type\":\"ColumnDataSource\"}},\"id\":\"0eaf7e3c-f40b-4514-b002-e1958bf1f203\",\"type\":\"CDSView\"}],\"root_ids\":[\"54034fe5-5024-4945-9a4c-8ed7ead67e86\"]},\"title\":\"Bokeh Application\",\"version\":\"0.12.14\"}};\n",
       "  var render_items = [{\"docid\":\"d58bc6db-3986-4013-a2d0-20acc7d96638\",\"elementid\":\"6b4d9fee-e50e-4bfe-982c-3ee6f0123794\",\"modelid\":\"54034fe5-5024-4945-9a4c-8ed7ead67e86\"}];\n",
       "  root.Bokeh.embed.embed_items_notebook(docs_json, render_items);\n",
       "\n",
       "  }\n",
       "  if (root.Bokeh !== undefined) {\n",
       "    embed_document(root);\n",
       "  } else {\n",
       "    var attempts = 0;\n",
       "    var timer = setInterval(function(root) {\n",
       "      if (root.Bokeh !== undefined) {\n",
       "        embed_document(root);\n",
       "        clearInterval(timer);\n",
       "      }\n",
       "      attempts++;\n",
       "      if (attempts > 100) {\n",
       "        console.log(\"Bokeh: ERROR: Unable to run BokehJS code because BokehJS library is missing\")\n",
       "        clearInterval(timer);\n",
       "      }\n",
       "    }, 10, root)\n",
       "  }\n",
       "})(window);"
      ],
      "application/vnd.bokehjs_exec.v0+json": ""
     },
     "metadata": {
      "application/vnd.bokehjs_exec.v0+json": {
       "id": "54034fe5-5024-4945-9a4c-8ed7ead67e86"
      }
     },
     "output_type": "display_data"
    },
    {
     "name": "stdout",
     "output_type": "stream",
     "text": [
      "FIGURE. Cooling rate profiles.\n"
     ]
    },
    {
     "data": {
      "text/html": [
       "<a id=\"Flux_Comparison\"></a>"
      ],
      "text/plain": [
       "<IPython.core.display.HTML object>"
      ]
     },
     "metadata": {},
     "output_type": "display_data"
    },
    {
     "data": {
      "text/markdown": [
       "# Flux Comparison"
      ],
      "text/plain": [
       "<IPython.core.display.Markdown object>"
      ]
     },
     "metadata": {},
     "output_type": "display_data"
    },
    {
     "data": {
      "text/html": [
       "<div>\n",
       "<style>\n",
       "    .dataframe thead tr:only-child th {\n",
       "        text-align: right;\n",
       "    }\n",
       "\n",
       "    .dataframe thead th {\n",
       "        text-align: left;\n",
       "    }\n",
       "\n",
       "    .dataframe tbody tr th {\n",
       "        vertical-align: top;\n",
       "    }\n",
       "</style>\n",
       "<table border=\"1\" class=\"dataframe\">\n",
       "  <thead>\n",
       "    <tr style=\"text-align: right;\">\n",
       "      <th></th>\n",
       "      <th></th>\n",
       "      <th>flug</th>\n",
       "      <th>fldg</th>\n",
       "      <th>fnetg</th>\n",
       "    </tr>\n",
       "    <tr>\n",
       "      <th>pressure</th>\n",
       "      <th>level</th>\n",
       "      <th></th>\n",
       "      <th></th>\n",
       "      <th></th>\n",
       "    </tr>\n",
       "  </thead>\n",
       "  <tbody>\n",
       "    <tr>\n",
       "      <th>0.0000</th>\n",
       "      <th>1</th>\n",
       "      <td>-25.277188</td>\n",
       "      <td>0.000000</td>\n",
       "      <td>-25.277188</td>\n",
       "    </tr>\n",
       "    <tr>\n",
       "      <th>1.0685</th>\n",
       "      <th>24</th>\n",
       "      <td>-25.276180</td>\n",
       "      <td>0.070059</td>\n",
       "      <td>-25.206121</td>\n",
       "    </tr>\n",
       "    <tr>\n",
       "      <th>1013.0000</th>\n",
       "      <th>76</th>\n",
       "      <td>-38.491734</td>\n",
       "      <td>36.952139</td>\n",
       "      <td>-1.539595</td>\n",
       "    </tr>\n",
       "  </tbody>\n",
       "</table>\n",
       "</div>"
      ],
      "text/plain": [
       "                      flug       fldg      fnetg\n",
       "pressure  level                                 \n",
       "0.0000    1     -25.277188   0.000000 -25.277188\n",
       "1.0685    24    -25.276180   0.070059 -25.206121\n",
       "1013.0000 76    -38.491734  36.952139  -1.539595"
      ]
     },
     "metadata": {},
     "output_type": "display_data"
    },
    {
     "name": "stdout",
     "output_type": "stream",
     "text": [
      "Table. Fluxes. WGT igg=10 wgt_flux=1\n"
     ]
    },
    {
     "data": {
      "text/html": [
       "<div>\n",
       "<style>\n",
       "    .dataframe thead tr:only-child th {\n",
       "        text-align: right;\n",
       "    }\n",
       "\n",
       "    .dataframe thead th {\n",
       "        text-align: left;\n",
       "    }\n",
       "\n",
       "    .dataframe tbody tr th {\n",
       "        vertical-align: top;\n",
       "    }\n",
       "</style>\n",
       "<table border=\"1\" class=\"dataframe\">\n",
       "  <thead>\n",
       "    <tr style=\"text-align: right;\">\n",
       "      <th></th>\n",
       "      <th></th>\n",
       "      <th>flug</th>\n",
       "      <th>fldg</th>\n",
       "      <th>fnetg</th>\n",
       "    </tr>\n",
       "    <tr>\n",
       "      <th>pressure</th>\n",
       "      <th>level</th>\n",
       "      <th></th>\n",
       "      <th></th>\n",
       "      <th></th>\n",
       "    </tr>\n",
       "  </thead>\n",
       "  <tbody>\n",
       "    <tr>\n",
       "      <th>0.0000</th>\n",
       "      <th>1</th>\n",
       "      <td>-25.162348</td>\n",
       "      <td>0.000000</td>\n",
       "      <td>-25.162348</td>\n",
       "    </tr>\n",
       "    <tr>\n",
       "      <th>1.0685</th>\n",
       "      <th>24</th>\n",
       "      <td>-25.161930</td>\n",
       "      <td>0.075640</td>\n",
       "      <td>-25.086290</td>\n",
       "    </tr>\n",
       "    <tr>\n",
       "      <th>1013.0000</th>\n",
       "      <th>76</th>\n",
       "      <td>-38.491734</td>\n",
       "      <td>37.325351</td>\n",
       "      <td>-1.166383</td>\n",
       "    </tr>\n",
       "  </tbody>\n",
       "</table>\n",
       "</div>"
      ],
      "text/plain": [
       "                      flug       fldg      fnetg\n",
       "pressure  level                                 \n",
       "0.0000    1     -25.162348   0.000000 -25.162348\n",
       "1.0685    24    -25.161930   0.075640 -25.086290\n",
       "1013.0000 76    -38.491734  37.325351  -1.166383"
      ]
     },
     "metadata": {},
     "output_type": "display_data"
    },
    {
     "name": "stdout",
     "output_type": "stream",
     "text": [
      "Table. Fluxes. CRD\n"
     ]
    },
    {
     "data": {
      "text/html": [
       "<div>\n",
       "<style>\n",
       "    .dataframe thead tr:only-child th {\n",
       "        text-align: right;\n",
       "    }\n",
       "\n",
       "    .dataframe thead th {\n",
       "        text-align: left;\n",
       "    }\n",
       "\n",
       "    .dataframe tbody tr th {\n",
       "        vertical-align: top;\n",
       "    }\n",
       "</style>\n",
       "<table border=\"1\" class=\"dataframe\">\n",
       "  <thead>\n",
       "    <tr style=\"text-align: right;\">\n",
       "      <th></th>\n",
       "      <th></th>\n",
       "      <th>flug</th>\n",
       "      <th>fldg</th>\n",
       "      <th>fnetg</th>\n",
       "    </tr>\n",
       "    <tr>\n",
       "      <th>pressure</th>\n",
       "      <th>level</th>\n",
       "      <th></th>\n",
       "      <th></th>\n",
       "      <th></th>\n",
       "    </tr>\n",
       "  </thead>\n",
       "  <tbody>\n",
       "    <tr>\n",
       "      <th>1.000000e-08</th>\n",
       "      <th>1</th>\n",
       "      <td>-25.452399</td>\n",
       "      <td>0.000002</td>\n",
       "      <td>-25.452396</td>\n",
       "    </tr>\n",
       "    <tr>\n",
       "      <th>1.068500e+00</th>\n",
       "      <th>24</th>\n",
       "      <td>-25.450879</td>\n",
       "      <td>0.066602</td>\n",
       "      <td>-25.384277</td>\n",
       "    </tr>\n",
       "    <tr>\n",
       "      <th>1.013000e+03</th>\n",
       "      <th>76</th>\n",
       "      <td>-38.491730</td>\n",
       "      <td>37.122719</td>\n",
       "      <td>-1.369012</td>\n",
       "    </tr>\n",
       "  </tbody>\n",
       "</table>\n",
       "</div>"
      ],
      "text/plain": [
       "                         flug       fldg      fnetg\n",
       "pressure     level                                 \n",
       "1.000000e-08 1     -25.452399   0.000002 -25.452396\n",
       "1.068500e+00 24    -25.450879   0.066602 -25.384277\n",
       "1.013000e+03 76    -38.491730  37.122719  -1.369012"
      ]
     },
     "metadata": {},
     "output_type": "display_data"
    },
    {
     "name": "stdout",
     "output_type": "stream",
     "text": [
      "Table. Fluxes. CLIRAD\n"
     ]
    },
    {
     "data": {
      "text/html": [
       "<div>\n",
       "<style>\n",
       "    .dataframe thead tr:only-child th {\n",
       "        text-align: right;\n",
       "    }\n",
       "\n",
       "    .dataframe thead th {\n",
       "        text-align: left;\n",
       "    }\n",
       "\n",
       "    .dataframe tbody tr th {\n",
       "        vertical-align: top;\n",
       "    }\n",
       "</style>\n",
       "<table border=\"1\" class=\"dataframe\">\n",
       "  <thead>\n",
       "    <tr style=\"text-align: right;\">\n",
       "      <th></th>\n",
       "      <th></th>\n",
       "      <th>flug</th>\n",
       "      <th>fldg</th>\n",
       "      <th>fnetg</th>\n",
       "    </tr>\n",
       "    <tr>\n",
       "      <th>pressure</th>\n",
       "      <th>level</th>\n",
       "      <th></th>\n",
       "      <th></th>\n",
       "      <th></th>\n",
       "    </tr>\n",
       "  </thead>\n",
       "  <tbody>\n",
       "    <tr>\n",
       "      <th>0.0000</th>\n",
       "      <th>1</th>\n",
       "      <td>0.11484</td>\n",
       "      <td>0.000000</td>\n",
       "      <td>0.114840</td>\n",
       "    </tr>\n",
       "    <tr>\n",
       "      <th>1.0685</th>\n",
       "      <th>24</th>\n",
       "      <td>0.11425</td>\n",
       "      <td>0.005581</td>\n",
       "      <td>0.119831</td>\n",
       "    </tr>\n",
       "    <tr>\n",
       "      <th>1013.0000</th>\n",
       "      <th>76</th>\n",
       "      <td>0.00000</td>\n",
       "      <td>0.373212</td>\n",
       "      <td>0.373212</td>\n",
       "    </tr>\n",
       "  </tbody>\n",
       "</table>\n",
       "</div>"
      ],
      "text/plain": [
       "                    flug      fldg     fnetg\n",
       "pressure  level                             \n",
       "0.0000    1      0.11484  0.000000  0.114840\n",
       "1.0685    24     0.11425  0.005581  0.119831\n",
       "1013.0000 76     0.00000  0.373212  0.373212"
      ]
     },
     "metadata": {},
     "output_type": "display_data"
    },
    {
     "name": "stdout",
     "output_type": "stream",
     "text": [
      "Table. Fluxes. (CRD) - (WGT igg=10 wgt_flux=1)\n"
     ]
    },
    {
     "data": {
      "text/html": [
       "<div>\n",
       "<style>\n",
       "    .dataframe thead tr:only-child th {\n",
       "        text-align: right;\n",
       "    }\n",
       "\n",
       "    .dataframe thead th {\n",
       "        text-align: left;\n",
       "    }\n",
       "\n",
       "    .dataframe tbody tr th {\n",
       "        vertical-align: top;\n",
       "    }\n",
       "</style>\n",
       "<table border=\"1\" class=\"dataframe\">\n",
       "  <thead>\n",
       "    <tr style=\"text-align: right;\">\n",
       "      <th></th>\n",
       "      <th></th>\n",
       "      <th>flug</th>\n",
       "      <th>fldg</th>\n",
       "      <th>fnetg</th>\n",
       "    </tr>\n",
       "    <tr>\n",
       "      <th>pressure</th>\n",
       "      <th>level</th>\n",
       "      <th></th>\n",
       "      <th></th>\n",
       "      <th></th>\n",
       "    </tr>\n",
       "  </thead>\n",
       "  <tbody>\n",
       "    <tr>\n",
       "      <th>0.0000</th>\n",
       "      <th>1</th>\n",
       "      <td>-0.175211</td>\n",
       "      <td>0.000002</td>\n",
       "      <td>-0.175208</td>\n",
       "    </tr>\n",
       "    <tr>\n",
       "      <th>1.0685</th>\n",
       "      <th>24</th>\n",
       "      <td>-0.174699</td>\n",
       "      <td>-0.003457</td>\n",
       "      <td>-0.178156</td>\n",
       "    </tr>\n",
       "    <tr>\n",
       "      <th>1013.0000</th>\n",
       "      <th>76</th>\n",
       "      <td>0.000004</td>\n",
       "      <td>0.170580</td>\n",
       "      <td>0.170584</td>\n",
       "    </tr>\n",
       "  </tbody>\n",
       "</table>\n",
       "</div>"
      ],
      "text/plain": [
       "                     flug      fldg     fnetg\n",
       "pressure  level                              \n",
       "0.0000    1     -0.175211  0.000002 -0.175208\n",
       "1.0685    24    -0.174699 -0.003457 -0.178156\n",
       "1013.0000 76     0.000004  0.170580  0.170584"
      ]
     },
     "metadata": {},
     "output_type": "display_data"
    },
    {
     "name": "stdout",
     "output_type": "stream",
     "text": [
      "Table. Fluxes. (CLIRAD) - (WGT igg=10 wgt_flux=1)\n"
     ]
    },
    {
     "data": {
      "text/html": [
       "<a id=\"Best-fit_Parameters\"></a>"
      ],
      "text/plain": [
       "<IPython.core.display.HTML object>"
      ]
     },
     "metadata": {},
     "output_type": "display_data"
    },
    {
     "data": {
      "text/markdown": [
       "# Best-fit Parameters"
      ],
      "text/plain": [
       "<IPython.core.display.Markdown object>"
      ]
     },
     "metadata": {},
     "output_type": "display_data"
    },
    {
     "name": "stdout",
     "output_type": "stream",
     "text": [
      "Best-fit values for each (gas, band)\n",
      "------------------------------------\n",
      "o co2 band3a\n",
      "  atmpro = mls\n",
      "  band = 3a\n",
      "  commitnumber = 2bd1f75\n",
      "  conc = 0.0004\n",
      "  dv = 0.01\n",
      "  klin = 6.375563e-24\n",
      "  molecule = co2\n",
      "  ng_adju = [0, 0, 0]\n",
      "  ng_refs = [3, 2, 4]\n",
      "  nv = 100\n",
      "  option_compute_btable = 0\n",
      "  option_compute_ktable = 1\n",
      "  option_wgt_flux = 1\n",
      "  option_wgt_k = 1\n",
      "  ref_pts = [(1, 250), (10, 250), (500, 250)]\n",
      "  tsfc = 294\n",
      "  vmax = 620\n",
      "  vmin = 540\n",
      "  w_diffuse = [(1.6, 1.6, 1.7), (1.75, 1.75), (1.55, 1.55, 1.6, 1.85)]\n",
      "  wgt = [(0.7, 0.3, 0.7), (0.7, 0.6), (0.4, 0.5, 0.8, 0.95)]\n",
      "o h2o band3a\n",
      "  atmpro = mls\n",
      "  band = 3a\n",
      "  commitnumber = 2bd1f75\n",
      "  conc = None\n",
      "  dv = 0.01\n",
      "  klin = 0\n",
      "  molecule = h2o\n",
      "  ng_adju = [0, 0]\n",
      "  ng_refs = [2, 6]\n",
      "  nv = 100\n",
      "  option_compute_btable = 0\n",
      "  option_compute_ktable = 1\n",
      "  option_wgt_flux = 1\n",
      "  option_wgt_k = 1\n",
      "  ref_pts = [(10, 250), (600, 250)]\n",
      "  tsfc = 294\n",
      "  vmax = 620\n",
      "  vmin = 540\n",
      "  w_diffuse = [(1.9, 1.7), (1.4, 1.4, 1.4, 1.55, 1.6, 1.66)]\n",
      "  wgt = [(0.7, 0.7), (0.7, 0.5, 0.5, 0.5, 0.5, 0.5)]\n",
      "o n2o band3a\n",
      "  atmpro = mls\n",
      "  band = 3a\n",
      "  commitnumber = 2bd1f75\n",
      "  conc = 3.2e-07\n",
      "  dv = 0.01\n",
      "  klin = 2.22e-20\n",
      "  molecule = n2o\n",
      "  ng_adju = [0, 0]\n",
      "  ng_refs = [1, 2]\n",
      "  nv = 100\n",
      "  option_compute_btable = 0\n",
      "  option_compute_ktable = 1\n",
      "  option_wgt_flux = 1\n",
      "  option_wgt_k = 1\n",
      "  ref_pts = [(1, 250), (500, 250)]\n",
      "  tsfc = 294\n",
      "  vmax = 620\n",
      "  vmin = 540\n",
      "  w_diffuse = [(1.8,), (1.66, 1.8)]\n",
      "  wgt = [(0.9,), (0.5, 0.95)]\n"
     ]
    }
   ],
   "source": [
    "script()"
   ]
  },
  {
   "cell_type": "code",
   "execution_count": 13,
   "metadata": {
    "collapsed": true
   },
   "outputs": [
    {
     "data": {
      "text/html": [
       "<script>\n",
       "code_show=true; \n",
       "function code_toggle() {\n",
       " if (code_show){\n",
       " $('div.input').hide();\n",
       " } else {\n",
       " $('div.input').show();\n",
       " }\n",
       " code_show = !code_show\n",
       "} \n",
       "$( document ).ready(code_toggle);\n",
       "</script>\n",
       "<form action=\"javascript:code_toggle()\"><input type=\"submit\" value=\"Click here to toggle on/off the raw code.\"></form>"
      ],
      "text/plain": [
       "<IPython.core.display.HTML object>"
      ]
     },
     "execution_count": 13,
     "metadata": {},
     "output_type": "execute_result"
    }
   ],
   "source": [
    "display.HTML('''<script>\n",
    "code_show=true; \n",
    "function code_toggle() {\n",
    " if (code_show){\n",
    " $('div.input').hide();\n",
    " } else {\n",
    " $('div.input').show();\n",
    " }\n",
    " code_show = !code_show\n",
    "} \n",
    "$( document ).ready(code_toggle);\n",
    "</script>\n",
    "<form action=\"javascript:code_toggle()\"><input type=\"submit\" value=\"Click here to toggle on/off the raw code.\"></form>''')"
   ]
  }
 ],
 "metadata": {
  "kernelspec": {
   "display_name": "Python 3",
   "language": "python",
   "name": "python3"
  },
  "language_info": {
   "codemirror_mode": {
    "name": "ipython",
    "version": 3
   },
   "file_extension": ".py",
   "mimetype": "text/x-python",
   "name": "python",
   "nbconvert_exporter": "python",
   "pygments_lexer": "ipython3",
   "version": "3.6.1"
  }
 },
 "nbformat": 4,
 "nbformat_minor": 2
}
