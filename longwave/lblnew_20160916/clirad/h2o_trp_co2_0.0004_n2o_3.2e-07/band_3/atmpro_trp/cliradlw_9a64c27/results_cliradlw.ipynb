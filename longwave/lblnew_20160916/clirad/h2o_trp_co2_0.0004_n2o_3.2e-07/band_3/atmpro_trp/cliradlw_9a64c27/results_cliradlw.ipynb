{
 "cells": [
  {
   "cell_type": "code",
   "execution_count": 1,
   "metadata": {
    "collapsed": true
   },
   "outputs": [],
   "source": [
    "%matplotlib inline\n",
    "import os\n",
    "import re\n",
    "import io\n",
    "import itertools\n",
    "import pprint\n",
    "\n",
    "from bokeh.io import output_notebook, show\n",
    "from bokeh.layouts import gridplot\n",
    "from bokeh.plotting import figure\n",
    "from bokeh.models import Range1d, Legend\n",
    "from bokeh.palettes import all_palettes\n",
    "\n",
    "import matplotlib\n",
    "import matplotlib.pyplot as plt\n",
    "import numpy as np\n",
    "import pandas as pd\n",
    "import xarray as xr\n",
    "\n",
    "import climatools.lblnew.bestfit_params as bestfits\n",
    "from climatools.lblnew import setup_bestfit, setup_overlap\n",
    "import climatools.lblnew.pipeline as pipe_lblnew\n",
    "import climatools.cliradlw.setup as setup_cliradlw\n",
    "import climatools.cliradlw.pipeline as pipe_cliradlw\n",
    "\n",
    "import climatools.html.html as climahtml\n",
    "from climatools.lblnew.dataio import *\n",
    "from climatools.plot.plot import *\n",
    "\n",
    "\n",
    "import IPython.display as display"
   ]
  },
  {
   "cell_type": "code",
   "execution_count": 2,
   "metadata": {
    "collapsed": true
   },
   "outputs": [],
   "source": [
    "%run param.py"
   ]
  },
  {
   "cell_type": "code",
   "execution_count": 3,
   "metadata": {
    "collapsed": true
   },
   "outputs": [],
   "source": [
    "def load_output_file(path_csv):\n",
    "    '''\n",
    "    Load lblnew output .csv file to xarray.Dataset\n",
    "    \n",
    "    Parameters\n",
    "    ----------\n",
    "    path_csv: str\n",
    "              Path to the .csv file to be loaded.\n",
    "    ds: xarray.Dataset\n",
    "        Data in the input file in the form of an xarray.Dataset.\n",
    "    '''\n",
    "    toindex = ['band', 'pressure', 'igg', 'g']    \n",
    "    df = pd.read_csv(path_csv, sep=r'\\s+')\n",
    "    df = df.set_index([i for i in toindex if i in df.columns])\n",
    "    df = df.rename(columns={'sfu': 'flug',\n",
    "                            'sfd': 'fldg',\n",
    "                            'fnet': 'fnetg',\n",
    "                            'coolr': 'coolrg'})\n",
    "    ds = xr.Dataset.from_dataframe(df)\n",
    "\n",
    "    for l in ('level', 'layer'):\n",
    "        if l in ds.data_vars:\n",
    "            if len(ds[l].dims) > 1:\n",
    "                surface = {d: 0 for d in ds.dims if d != 'pressure'}\n",
    "                coord_level = ds[l][surface]\n",
    "                ds.coords[l] = ('pressure', coord_level)\n",
    "            else:\n",
    "                ds.coords[l] = ('pressure', ds[l])\n",
    "    \n",
    "    return ds"
   ]
  },
  {
   "cell_type": "code",
   "execution_count": 4,
   "metadata": {
    "collapsed": true
   },
   "outputs": [],
   "source": [
    "def lblnew_setup(param=None):\n",
    "    if 'ng_refs' in param:\n",
    "        return {'setup': setup_bestfit,\n",
    "                'fname_flux_crd': 'output_flux.dat',\n",
    "                'fname_cool_crd': 'output_coolr.dat',\n",
    "                'fname_flux_wgt': 'output_wfluxg.dat',\n",
    "                'fname_cool_wgt': 'output_wcoolrg.dat'}\n",
    "    else:\n",
    "        return {'setup': setup_overlap,\n",
    "                'fname_flux_crd': 'output_flux.dat',\n",
    "                'fname_cool_crd': 'output_coolr.dat',\n",
    "                'fname_flux_wgt': 'output_wflux.dat',\n",
    "                'fname_cool_wgt': 'output_wcoolr.dat'}\n",
    "\n",
    "    \n",
    "def load_lblnew_data(param):\n",
    "    \n",
    "    fname_dsname = [('fname_flux_crd', 'ds_flux_crd'),\n",
    "                    ('fname_cool_crd', 'ds_cool_crd'),\n",
    "                    ('fname_flux_wgt', 'ds_flux_wgt'),\n",
    "                    ('fname_cool_wgt', 'ds_cool_wgt')]\n",
    "    \n",
    "    d = lblnew_setup(param)\n",
    "    dir_fortran = pipe_lblnew.get_dir_case(param, setup=d['setup'])\n",
    "    \n",
    "    data_dict = {}\n",
    "    for fname, dsname in fname_dsname:\n",
    "        fpath = os.path.join(dir_fortran, d[fname])\n",
    "        data_dict[dsname] = load_output_file(fpath)\n",
    "    return data_dict\n",
    "    \n",
    "\n",
    "    \n",
    "    "
   ]
  },
  {
   "cell_type": "code",
   "execution_count": 5,
   "metadata": {
    "collapsed": true
   },
   "outputs": [],
   "source": [
    "d = load_lblnew_data(PARAM_LBLNEW)\n",
    "\n",
    "DS_FLUX_CRD = d['ds_flux_crd']\n",
    "DS_COOL_CRD = d['ds_cool_crd']\n",
    "DS_FLUX_WGT = d['ds_flux_wgt']\n",
    "DS_COOL_WGT = d['ds_cool_wgt']"
   ]
  },
  {
   "cell_type": "code",
   "execution_count": 6,
   "metadata": {
    "collapsed": true
   },
   "outputs": [],
   "source": [
    "DIR_FORTRAN = pipe_cliradlw.get_fortran_dir(PARAM, \n",
    "                                            setup=setup_cliradlw)\n",
    "\n",
    "PATH_FLUX = os.path.join(DIR_FORTRAN, 'output_flux.dat')\n",
    "PATH_COOL = os.path.join(DIR_FORTRAN, 'output_coolr.dat')\n",
    "\n",
    "DS_FLUX = load_output_file(PATH_FLUX)\n",
    "DS_COOL = load_output_file(PATH_COOL)"
   ]
  },
  {
   "cell_type": "code",
   "execution_count": 7,
   "metadata": {
    "collapsed": true
   },
   "outputs": [
    {
     "data": {
      "text/html": [
       "\n",
       "    <div class=\"bk-root\">\n",
       "        <a href=\"https://bokeh.pydata.org\" target=\"_blank\" class=\"bk-logo bk-logo-small bk-logo-notebook\"></a>\n",
       "        <span id=\"2ccf306b-ab51-4a0b-9671-dd17715bc1a6\">Loading BokehJS ...</span>\n",
       "    </div>"
      ]
     },
     "metadata": {},
     "output_type": "display_data"
    },
    {
     "data": {
      "application/javascript": [
       "\n",
       "(function(root) {\n",
       "  function now() {\n",
       "    return new Date();\n",
       "  }\n",
       "\n",
       "  var force = true;\n",
       "\n",
       "  if (typeof (root._bokeh_onload_callbacks) === \"undefined\" || force === true) {\n",
       "    root._bokeh_onload_callbacks = [];\n",
       "    root._bokeh_is_loading = undefined;\n",
       "  }\n",
       "\n",
       "  var JS_MIME_TYPE = 'application/javascript';\n",
       "  var HTML_MIME_TYPE = 'text/html';\n",
       "  var EXEC_MIME_TYPE = 'application/vnd.bokehjs_exec.v0+json';\n",
       "  var CLASS_NAME = 'output_bokeh rendered_html';\n",
       "\n",
       "  /**\n",
       "   * Render data to the DOM node\n",
       "   */\n",
       "  function render(props, node) {\n",
       "    var script = document.createElement(\"script\");\n",
       "    node.appendChild(script);\n",
       "  }\n",
       "\n",
       "  /**\n",
       "   * Handle when an output is cleared or removed\n",
       "   */\n",
       "  function handleClearOutput(event, handle) {\n",
       "    var cell = handle.cell;\n",
       "\n",
       "    var id = cell.output_area._bokeh_element_id;\n",
       "    var server_id = cell.output_area._bokeh_server_id;\n",
       "    // Clean up Bokeh references\n",
       "    if (id !== undefined) {\n",
       "      Bokeh.index[id].model.document.clear();\n",
       "      delete Bokeh.index[id];\n",
       "    }\n",
       "\n",
       "    if (server_id !== undefined) {\n",
       "      // Clean up Bokeh references\n",
       "      var cmd = \"from bokeh.io.state import curstate; print(curstate().uuid_to_server['\" + server_id + \"'].get_sessions()[0].document.roots[0]._id)\";\n",
       "      cell.notebook.kernel.execute(cmd, {\n",
       "        iopub: {\n",
       "          output: function(msg) {\n",
       "            var element_id = msg.content.text.trim();\n",
       "            Bokeh.index[element_id].model.document.clear();\n",
       "            delete Bokeh.index[element_id];\n",
       "          }\n",
       "        }\n",
       "      });\n",
       "      // Destroy server and session\n",
       "      var cmd = \"import bokeh.io.notebook as ion; ion.destroy_server('\" + server_id + \"')\";\n",
       "      cell.notebook.kernel.execute(cmd);\n",
       "    }\n",
       "  }\n",
       "\n",
       "  /**\n",
       "   * Handle when a new output is added\n",
       "   */\n",
       "  function handleAddOutput(event, handle) {\n",
       "    var output_area = handle.output_area;\n",
       "    var output = handle.output;\n",
       "\n",
       "    // limit handleAddOutput to display_data with EXEC_MIME_TYPE content only\n",
       "    if ((output.output_type != \"display_data\") || (!output.data.hasOwnProperty(EXEC_MIME_TYPE))) {\n",
       "      return\n",
       "    }\n",
       "\n",
       "    var toinsert = output_area.element.find(\".\" + CLASS_NAME.split(' ')[0]);\n",
       "\n",
       "    if (output.metadata[EXEC_MIME_TYPE][\"id\"] !== undefined) {\n",
       "      toinsert[0].firstChild.textContent = output.data[JS_MIME_TYPE];\n",
       "      // store reference to embed id on output_area\n",
       "      output_area._bokeh_element_id = output.metadata[EXEC_MIME_TYPE][\"id\"];\n",
       "    }\n",
       "    if (output.metadata[EXEC_MIME_TYPE][\"server_id\"] !== undefined) {\n",
       "      var bk_div = document.createElement(\"div\");\n",
       "      bk_div.innerHTML = output.data[HTML_MIME_TYPE];\n",
       "      var script_attrs = bk_div.children[0].attributes;\n",
       "      for (var i = 0; i < script_attrs.length; i++) {\n",
       "        toinsert[0].firstChild.setAttribute(script_attrs[i].name, script_attrs[i].value);\n",
       "      }\n",
       "      // store reference to server id on output_area\n",
       "      output_area._bokeh_server_id = output.metadata[EXEC_MIME_TYPE][\"server_id\"];\n",
       "    }\n",
       "  }\n",
       "\n",
       "  function register_renderer(events, OutputArea) {\n",
       "\n",
       "    function append_mime(data, metadata, element) {\n",
       "      // create a DOM node to render to\n",
       "      var toinsert = this.create_output_subarea(\n",
       "        metadata,\n",
       "        CLASS_NAME,\n",
       "        EXEC_MIME_TYPE\n",
       "      );\n",
       "      this.keyboard_manager.register_events(toinsert);\n",
       "      // Render to node\n",
       "      var props = {data: data, metadata: metadata[EXEC_MIME_TYPE]};\n",
       "      render(props, toinsert[0]);\n",
       "      element.append(toinsert);\n",
       "      return toinsert\n",
       "    }\n",
       "\n",
       "    /* Handle when an output is cleared or removed */\n",
       "    events.on('clear_output.CodeCell', handleClearOutput);\n",
       "    events.on('delete.Cell', handleClearOutput);\n",
       "\n",
       "    /* Handle when a new output is added */\n",
       "    events.on('output_added.OutputArea', handleAddOutput);\n",
       "\n",
       "    /**\n",
       "     * Register the mime type and append_mime function with output_area\n",
       "     */\n",
       "    OutputArea.prototype.register_mime_type(EXEC_MIME_TYPE, append_mime, {\n",
       "      /* Is output safe? */\n",
       "      safe: true,\n",
       "      /* Index of renderer in `output_area.display_order` */\n",
       "      index: 0\n",
       "    });\n",
       "  }\n",
       "\n",
       "  // register the mime type if in Jupyter Notebook environment and previously unregistered\n",
       "  if (root.Jupyter !== undefined) {\n",
       "    var events = require('base/js/events');\n",
       "    var OutputArea = require('notebook/js/outputarea').OutputArea;\n",
       "\n",
       "    if (OutputArea.prototype.mime_types().indexOf(EXEC_MIME_TYPE) == -1) {\n",
       "      register_renderer(events, OutputArea);\n",
       "    }\n",
       "  }\n",
       "\n",
       "  \n",
       "  if (typeof (root._bokeh_timeout) === \"undefined\" || force === true) {\n",
       "    root._bokeh_timeout = Date.now() + 5000;\n",
       "    root._bokeh_failed_load = false;\n",
       "  }\n",
       "\n",
       "  var NB_LOAD_WARNING = {'data': {'text/html':\n",
       "     \"<div style='background-color: #fdd'>\\n\"+\n",
       "     \"<p>\\n\"+\n",
       "     \"BokehJS does not appear to have successfully loaded. If loading BokehJS from CDN, this \\n\"+\n",
       "     \"may be due to a slow or bad network connection. Possible fixes:\\n\"+\n",
       "     \"</p>\\n\"+\n",
       "     \"<ul>\\n\"+\n",
       "     \"<li>re-rerun `output_notebook()` to attempt to load from CDN again, or</li>\\n\"+\n",
       "     \"<li>use INLINE resources instead, as so:</li>\\n\"+\n",
       "     \"</ul>\\n\"+\n",
       "     \"<code>\\n\"+\n",
       "     \"from bokeh.resources import INLINE\\n\"+\n",
       "     \"output_notebook(resources=INLINE)\\n\"+\n",
       "     \"</code>\\n\"+\n",
       "     \"</div>\"}};\n",
       "\n",
       "  function display_loaded() {\n",
       "    var el = document.getElementById(\"2ccf306b-ab51-4a0b-9671-dd17715bc1a6\");\n",
       "    if (el != null) {\n",
       "      el.textContent = \"BokehJS is loading...\";\n",
       "    }\n",
       "    if (root.Bokeh !== undefined) {\n",
       "      if (el != null) {\n",
       "        el.textContent = \"BokehJS \" + root.Bokeh.version + \" successfully loaded.\";\n",
       "      }\n",
       "    } else if (Date.now() < root._bokeh_timeout) {\n",
       "      setTimeout(display_loaded, 100)\n",
       "    }\n",
       "  }\n",
       "\n",
       "\n",
       "  function run_callbacks() {\n",
       "    try {\n",
       "      root._bokeh_onload_callbacks.forEach(function(callback) { callback() });\n",
       "    }\n",
       "    finally {\n",
       "      delete root._bokeh_onload_callbacks\n",
       "    }\n",
       "    console.info(\"Bokeh: all callbacks have finished\");\n",
       "  }\n",
       "\n",
       "  function load_libs(js_urls, callback) {\n",
       "    root._bokeh_onload_callbacks.push(callback);\n",
       "    if (root._bokeh_is_loading > 0) {\n",
       "      console.log(\"Bokeh: BokehJS is being loaded, scheduling callback at\", now());\n",
       "      return null;\n",
       "    }\n",
       "    if (js_urls == null || js_urls.length === 0) {\n",
       "      run_callbacks();\n",
       "      return null;\n",
       "    }\n",
       "    console.log(\"Bokeh: BokehJS not loaded, scheduling load and callback at\", now());\n",
       "    root._bokeh_is_loading = js_urls.length;\n",
       "    for (var i = 0; i < js_urls.length; i++) {\n",
       "      var url = js_urls[i];\n",
       "      var s = document.createElement('script');\n",
       "      s.src = url;\n",
       "      s.async = false;\n",
       "      s.onreadystatechange = s.onload = function() {\n",
       "        root._bokeh_is_loading--;\n",
       "        if (root._bokeh_is_loading === 0) {\n",
       "          console.log(\"Bokeh: all BokehJS libraries loaded\");\n",
       "          run_callbacks()\n",
       "        }\n",
       "      };\n",
       "      s.onerror = function() {\n",
       "        console.warn(\"failed to load library \" + url);\n",
       "      };\n",
       "      console.log(\"Bokeh: injecting script tag for BokehJS library: \", url);\n",
       "      document.getElementsByTagName(\"head\")[0].appendChild(s);\n",
       "    }\n",
       "  };var element = document.getElementById(\"2ccf306b-ab51-4a0b-9671-dd17715bc1a6\");\n",
       "  if (element == null) {\n",
       "    console.log(\"Bokeh: ERROR: autoload.js configured with elementid '2ccf306b-ab51-4a0b-9671-dd17715bc1a6' but no matching script tag was found. \")\n",
       "    return false;\n",
       "  }\n",
       "\n",
       "  var js_urls = [\"https://cdn.pydata.org/bokeh/release/bokeh-0.12.14.min.js\", \"https://cdn.pydata.org/bokeh/release/bokeh-widgets-0.12.14.min.js\", \"https://cdn.pydata.org/bokeh/release/bokeh-tables-0.12.14.min.js\", \"https://cdn.pydata.org/bokeh/release/bokeh-gl-0.12.14.min.js\"];\n",
       "\n",
       "  var inline_js = [\n",
       "    function(Bokeh) {\n",
       "      Bokeh.set_log_level(\"info\");\n",
       "    },\n",
       "    \n",
       "    function(Bokeh) {\n",
       "      \n",
       "    },\n",
       "    function(Bokeh) {\n",
       "      console.log(\"Bokeh: injecting CSS: https://cdn.pydata.org/bokeh/release/bokeh-0.12.14.min.css\");\n",
       "      Bokeh.embed.inject_css(\"https://cdn.pydata.org/bokeh/release/bokeh-0.12.14.min.css\");\n",
       "      console.log(\"Bokeh: injecting CSS: https://cdn.pydata.org/bokeh/release/bokeh-widgets-0.12.14.min.css\");\n",
       "      Bokeh.embed.inject_css(\"https://cdn.pydata.org/bokeh/release/bokeh-widgets-0.12.14.min.css\");\n",
       "      console.log(\"Bokeh: injecting CSS: https://cdn.pydata.org/bokeh/release/bokeh-tables-0.12.14.min.css\");\n",
       "      Bokeh.embed.inject_css(\"https://cdn.pydata.org/bokeh/release/bokeh-tables-0.12.14.min.css\");\n",
       "    }\n",
       "  ];\n",
       "\n",
       "  function run_inline_js() {\n",
       "    \n",
       "    if ((root.Bokeh !== undefined) || (force === true)) {\n",
       "      for (var i = 0; i < inline_js.length; i++) {\n",
       "        inline_js[i].call(root, root.Bokeh);\n",
       "      }if (force === true) {\n",
       "        display_loaded();\n",
       "      }} else if (Date.now() < root._bokeh_timeout) {\n",
       "      setTimeout(run_inline_js, 100);\n",
       "    } else if (!root._bokeh_failed_load) {\n",
       "      console.log(\"Bokeh: BokehJS failed to load within specified timeout.\");\n",
       "      root._bokeh_failed_load = true;\n",
       "    } else if (force !== true) {\n",
       "      var cell = $(document.getElementById(\"2ccf306b-ab51-4a0b-9671-dd17715bc1a6\")).parents('.cell').data().cell;\n",
       "      cell.output_area.append_execute_result(NB_LOAD_WARNING)\n",
       "    }\n",
       "\n",
       "  }\n",
       "\n",
       "  if (root._bokeh_is_loading === 0) {\n",
       "    console.log(\"Bokeh: BokehJS loaded, going straight to plotting\");\n",
       "    run_inline_js();\n",
       "  } else {\n",
       "    load_libs(js_urls, function() {\n",
       "      console.log(\"Bokeh: BokehJS plotting callback run at\", now());\n",
       "      run_inline_js();\n",
       "    });\n",
       "  }\n",
       "}(window));"
      ],
      "application/vnd.bokehjs_load.v0+json": "\n(function(root) {\n  function now() {\n    return new Date();\n  }\n\n  var force = true;\n\n  if (typeof (root._bokeh_onload_callbacks) === \"undefined\" || force === true) {\n    root._bokeh_onload_callbacks = [];\n    root._bokeh_is_loading = undefined;\n  }\n\n  \n\n  \n  if (typeof (root._bokeh_timeout) === \"undefined\" || force === true) {\n    root._bokeh_timeout = Date.now() + 5000;\n    root._bokeh_failed_load = false;\n  }\n\n  var NB_LOAD_WARNING = {'data': {'text/html':\n     \"<div style='background-color: #fdd'>\\n\"+\n     \"<p>\\n\"+\n     \"BokehJS does not appear to have successfully loaded. If loading BokehJS from CDN, this \\n\"+\n     \"may be due to a slow or bad network connection. Possible fixes:\\n\"+\n     \"</p>\\n\"+\n     \"<ul>\\n\"+\n     \"<li>re-rerun `output_notebook()` to attempt to load from CDN again, or</li>\\n\"+\n     \"<li>use INLINE resources instead, as so:</li>\\n\"+\n     \"</ul>\\n\"+\n     \"<code>\\n\"+\n     \"from bokeh.resources import INLINE\\n\"+\n     \"output_notebook(resources=INLINE)\\n\"+\n     \"</code>\\n\"+\n     \"</div>\"}};\n\n  function display_loaded() {\n    var el = document.getElementById(\"2ccf306b-ab51-4a0b-9671-dd17715bc1a6\");\n    if (el != null) {\n      el.textContent = \"BokehJS is loading...\";\n    }\n    if (root.Bokeh !== undefined) {\n      if (el != null) {\n        el.textContent = \"BokehJS \" + root.Bokeh.version + \" successfully loaded.\";\n      }\n    } else if (Date.now() < root._bokeh_timeout) {\n      setTimeout(display_loaded, 100)\n    }\n  }\n\n\n  function run_callbacks() {\n    try {\n      root._bokeh_onload_callbacks.forEach(function(callback) { callback() });\n    }\n    finally {\n      delete root._bokeh_onload_callbacks\n    }\n    console.info(\"Bokeh: all callbacks have finished\");\n  }\n\n  function load_libs(js_urls, callback) {\n    root._bokeh_onload_callbacks.push(callback);\n    if (root._bokeh_is_loading > 0) {\n      console.log(\"Bokeh: BokehJS is being loaded, scheduling callback at\", now());\n      return null;\n    }\n    if (js_urls == null || js_urls.length === 0) {\n      run_callbacks();\n      return null;\n    }\n    console.log(\"Bokeh: BokehJS not loaded, scheduling load and callback at\", now());\n    root._bokeh_is_loading = js_urls.length;\n    for (var i = 0; i < js_urls.length; i++) {\n      var url = js_urls[i];\n      var s = document.createElement('script');\n      s.src = url;\n      s.async = false;\n      s.onreadystatechange = s.onload = function() {\n        root._bokeh_is_loading--;\n        if (root._bokeh_is_loading === 0) {\n          console.log(\"Bokeh: all BokehJS libraries loaded\");\n          run_callbacks()\n        }\n      };\n      s.onerror = function() {\n        console.warn(\"failed to load library \" + url);\n      };\n      console.log(\"Bokeh: injecting script tag for BokehJS library: \", url);\n      document.getElementsByTagName(\"head\")[0].appendChild(s);\n    }\n  };var element = document.getElementById(\"2ccf306b-ab51-4a0b-9671-dd17715bc1a6\");\n  if (element == null) {\n    console.log(\"Bokeh: ERROR: autoload.js configured with elementid '2ccf306b-ab51-4a0b-9671-dd17715bc1a6' but no matching script tag was found. \")\n    return false;\n  }\n\n  var js_urls = [\"https://cdn.pydata.org/bokeh/release/bokeh-0.12.14.min.js\", \"https://cdn.pydata.org/bokeh/release/bokeh-widgets-0.12.14.min.js\", \"https://cdn.pydata.org/bokeh/release/bokeh-tables-0.12.14.min.js\", \"https://cdn.pydata.org/bokeh/release/bokeh-gl-0.12.14.min.js\"];\n\n  var inline_js = [\n    function(Bokeh) {\n      Bokeh.set_log_level(\"info\");\n    },\n    \n    function(Bokeh) {\n      \n    },\n    function(Bokeh) {\n      console.log(\"Bokeh: injecting CSS: https://cdn.pydata.org/bokeh/release/bokeh-0.12.14.min.css\");\n      Bokeh.embed.inject_css(\"https://cdn.pydata.org/bokeh/release/bokeh-0.12.14.min.css\");\n      console.log(\"Bokeh: injecting CSS: https://cdn.pydata.org/bokeh/release/bokeh-widgets-0.12.14.min.css\");\n      Bokeh.embed.inject_css(\"https://cdn.pydata.org/bokeh/release/bokeh-widgets-0.12.14.min.css\");\n      console.log(\"Bokeh: injecting CSS: https://cdn.pydata.org/bokeh/release/bokeh-tables-0.12.14.min.css\");\n      Bokeh.embed.inject_css(\"https://cdn.pydata.org/bokeh/release/bokeh-tables-0.12.14.min.css\");\n    }\n  ];\n\n  function run_inline_js() {\n    \n    if ((root.Bokeh !== undefined) || (force === true)) {\n      for (var i = 0; i < inline_js.length; i++) {\n        inline_js[i].call(root, root.Bokeh);\n      }if (force === true) {\n        display_loaded();\n      }} else if (Date.now() < root._bokeh_timeout) {\n      setTimeout(run_inline_js, 100);\n    } else if (!root._bokeh_failed_load) {\n      console.log(\"Bokeh: BokehJS failed to load within specified timeout.\");\n      root._bokeh_failed_load = true;\n    } else if (force !== true) {\n      var cell = $(document.getElementById(\"2ccf306b-ab51-4a0b-9671-dd17715bc1a6\")).parents('.cell').data().cell;\n      cell.output_area.append_execute_result(NB_LOAD_WARNING)\n    }\n\n  }\n\n  if (root._bokeh_is_loading === 0) {\n    console.log(\"Bokeh: BokehJS loaded, going straight to plotting\");\n    run_inline_js();\n  } else {\n    load_libs(js_urls, function() {\n      console.log(\"Bokeh: BokehJS plotting callback run at\", now());\n      run_inline_js();\n    });\n  }\n}(window));"
     },
     "metadata": {},
     "output_type": "display_data"
    }
   ],
   "source": [
    "output_notebook()"
   ]
  },
  {
   "cell_type": "code",
   "execution_count": 8,
   "metadata": {
    "collapsed": true
   },
   "outputs": [],
   "source": [
    "def fmt_cool(ds_in):\n",
    "    ds = ds_in.copy(deep=True)\n",
    "    if 'igg' in ds.dims:\n",
    "        ds = ds.sel(igg=1)\n",
    "\n",
    "    if 'g' in ds.dims:\n",
    "        ds = ds.sum('g')\n",
    "            \n",
    "    if 'band' in ds.dims:\n",
    "        try:\n",
    "            ds = ds.squeeze('band')\n",
    "        except ValueError:\n",
    "            ds = ds.sum('band')\n",
    "                \n",
    "    return ds['coolrg']\n",
    "\n",
    "\n",
    "def pltdata_cooling_1(ds_cool=None,\n",
    "                      ds_cool_crd=None, ds_cool_wgt=None):\n",
    "    \n",
    "\n",
    "\n",
    "    colors = all_palettes['Set1'][4]\n",
    "    data = [{'label': 'CLIRAD `coolr_bands`',\n",
    "             'srs': fmt_cool(ds_cool),\n",
    "             'line_dash': 'dashed', 'line_width': 5,\n",
    "             'color': colors[0], 'alpha': .6},\n",
    "            {'label': 'CRD',\n",
    "             'srs': fmt_cool(ds_cool_crd),\n",
    "             'line_dash': 'solid', 'line_width': 1.5,\n",
    "             'marker': 'circle', 'marker_size': 5,\n",
    "             'color': colors[2], 'alpha': 1,},\n",
    "            {'label': 'WGT igg=10 wgt_flux=2',\n",
    "             'srs': fmt_cool(ds_cool_wgt),\n",
    "             'line_dash': 'solid', 'line_width': 3,\n",
    "             'marker': 'square', 'marker_size': 5,\n",
    "             'color': colors[3], 'alpha': .6}]\n",
    "    return data\n",
    "\n",
    "\n",
    "def nice_xlims(pltdata=None, prange=None):\n",
    "    \n",
    "    def get_slice(srs):\n",
    "        return srs.sel(pressure=slice(*prange))\n",
    "    \n",
    "    srss = [d['srs'] for d in pltdata]\n",
    "    vmin = min([get_slice(srs).min() for srs in srss])\n",
    "    vmax = max([get_slice(srs).max() for srs in srss])\n",
    "    dv = (vmax - vmin) * .01\n",
    "    return float(vmin - dv), float(vmax + dv)\n",
    "    \n",
    "\n",
    "def plt_cooling_bokeh(pltdata=None):\n",
    "    '''\n",
    "    Plot a list of cooling rate profiles using bokeh.\n",
    "    '''\n",
    "    ymin = 1e-2 \n",
    "    ymax = 1020 \n",
    "        \n",
    "    p1 = figure(title=\"Linear pressure scale\", \n",
    "                plot_width=400)        \n",
    "    xmin, xmax = nice_xlims(pltdata, prange=(50, 1050))\n",
    "    for d in pltdata:\n",
    "        if 'marker' in d:\n",
    "            getattr(p1, d['marker'])(d['srs'].values, \n",
    "                    d['srs'].coords['pressure'].values,\n",
    "                    color=d['color'], alpha=.7)\n",
    "        p1.line(d['srs'].values, \n",
    "                d['srs'].coords['pressure'].values,\n",
    "                color=d['color'], alpha=d['alpha'], \n",
    "                line_width=d['line_width'], line_dash=d['line_dash'])\n",
    "    \n",
    "    p1.y_range = Range1d(ymax, ymin)\n",
    "    p1.yaxis.axis_label = 'pressure [mb]'   \n",
    "    p1.x_range = Range1d(xmin, xmax)\n",
    "    p1.xaxis.axis_label = 'cooling rate [K/day]'\n",
    "            \n",
    "    p2 = figure(title='Log pressure scale', y_axis_type='log',\n",
    "                plot_width=560)\n",
    "    xmin, xmax = nice_xlims(pltdata, prange=(.01, 200))\n",
    "    \n",
    "    rs = []\n",
    "    for d in pltdata:\n",
    "        rd = []\n",
    "        if 'marker' in d:\n",
    "            r_mark = getattr(p2, d['marker'])(d['srs'].values, \n",
    "                        d['srs'].coords['pressure'].values,\n",
    "                        color=d['color'], alpha=.7)\n",
    "            rd.append(r_mark)\n",
    "        r_line = p2.line(d['srs'].values, \n",
    "                    d['srs'].coords['pressure'].values,\n",
    "                    color=d['color'], alpha=d['alpha'], \n",
    "                    line_width=d['line_width'], line_dash=d['line_dash'])\n",
    "        rd.append(r_line)\n",
    "      \n",
    "        rs.append(rd)\n",
    "        \n",
    "    p2.y_range = Range1d(ymax, ymin)  \n",
    "    p2.yaxis.axis_label = 'pressure [mb]'\n",
    "    \n",
    "    p2.x_range = Range1d(xmin, xmax)\n",
    "    p2.xaxis.axis_label = 'cooling rate [K/day]'\n",
    "    \n",
    "    items = [(d['label'], r) for r, d in zip(rs, pltdata)]\n",
    "    legend = Legend(items=items, location=(10, -30))\n",
    "    legend.label_text_font_size = '8pt'\n",
    "    \n",
    "    p2.add_layout(legend, 'right')  \n",
    "    \n",
    "    show(gridplot(p1, p2, ncols=2, plot_height=500))\n",
    "    \n",
    "\n",
    "def script_plt_cooling():\n",
    "    pltdata = pltdata_cooling_1(\n",
    "        ds_cool=DS_COOL,\n",
    "        ds_cool_crd=DS_COOL_CRD,\n",
    "        ds_cool_wgt=DS_COOL_WGT)\n",
    "    plt_cooling_bokeh(pltdata=pltdata)\n",
    "    print('''FIGURE. Cooling rate profiles.''')"
   ]
  },
  {
   "cell_type": "code",
   "execution_count": 9,
   "metadata": {
    "collapsed": true
   },
   "outputs": [],
   "source": [
    "def fmt_flux(ds_in):\n",
    "    ds = ds_in.copy(deep=True)\n",
    "    \n",
    "    for l in ('level', 'layer'):\n",
    "        if l in ds.data_vars:\n",
    "            if len(ds[l].dims) > 1:\n",
    "                surface = {d: 0 for d in ds.dims if d != 'pressure'}\n",
    "                coord_level = ds[l][surface]\n",
    "                ds.coords[l] = ('pressure', coord_level)\n",
    "            else:\n",
    "                ds.coords[l] = ('pressure', ds[l])\n",
    "        \n",
    "    ds = ds.isel(pressure=[0, 23, -1])\n",
    "        \n",
    "    if 'igg' in ds.dims:\n",
    "        ds = ds.sel(igg=[1])\n",
    "        ds = ds.squeeze('igg').drop('igg')\n",
    "    \n",
    "    if 'g' in ds.dims:\n",
    "        ds = ds.sum('g')\n",
    "            \n",
    "    if 'band' in ds.dims:\n",
    "        try:\n",
    "            ds = ds.squeeze('band').drop('band')\n",
    "        except ValueError:\n",
    "            ds = ds.sum('band')\n",
    "                \n",
    "    df = ds.to_dataframe()\n",
    "    df = df.set_index('level', append=True)               \n",
    "    return df\n",
    "\n",
    "\n",
    "def tbdata_flux(ds_flux=None, ds_flux_crd=None, ds_flux_wgt=None):\n",
    "    ilevels = [0, 23, -1]\n",
    "            \n",
    "    benchmark = {'label': 'WGT igg=10 wgt_flux=1',\n",
    "                 'df': fmt_flux(ds_flux_wgt)}\n",
    "    \n",
    "    tbs = [{'label': 'CRD',\n",
    "            'df': fmt_flux(ds_flux_crd)},\n",
    "           {'label': 'CLIRAD',\n",
    "            'df': fmt_flux(ds_flux)}]\n",
    "    \n",
    "    data = {'benchmark': benchmark, 'others': tbs}\n",
    "    return data\n",
    "\n",
    "\n",
    "def tb_flux(tbdata=None):\n",
    "    benchmark = tbdata['benchmark']\n",
    "    others = tbdata['others']\n",
    "    \n",
    "    def show_tb(d=None):\n",
    "        display.display(d['df'])\n",
    "        print('Table.', 'Fluxes.', d['label'])\n",
    "        \n",
    "    def show_tbdiff(d0=None, d=None):\n",
    "        df = d['df']\n",
    "        df.index = d0['df'].index\n",
    "        display.display(df - d0['df'])\n",
    "        print('Table.', 'Fluxes.', \n",
    "              '({}) - ({})'.format(d['label'], d0['label']))\n",
    "        \n",
    "    show_tb(benchmark)\n",
    "    for d in others:\n",
    "        show_tb(d)\n",
    "        \n",
    "    for d in others:\n",
    "        show_tbdiff(d=d, d0=benchmark)\n",
    "        \n",
    "        \n",
    "def script_tb_flux():\n",
    "    data = tbdata_flux(ds_flux=DS_FLUX,\n",
    "                       ds_flux_crd=DS_FLUX_CRD,\n",
    "                       ds_flux_wgt=DS_FLUX_WGT)\n",
    "    tb_flux(tbdata=data)"
   ]
  },
  {
   "cell_type": "code",
   "execution_count": 10,
   "metadata": {
    "collapsed": true
   },
   "outputs": [],
   "source": [
    "def band_map():\n",
    "    '''\n",
    "    Maps spectral bands in lblnew to spectral bands in clirad.\n",
    "    '''\n",
    "    lblnew2clirad = {'1': '1',\n",
    "            '2': '2',\n",
    "            '3a': '3',\n",
    "            '3b': '4',\n",
    "            '3c': '5',\n",
    "            '4': '6', \n",
    "            '5': '7',\n",
    "            '6': '8',\n",
    "            '7': '9', \n",
    "            '8': '10',\n",
    "            '9': '11'}\n",
    "    \n",
    "    clirad2lblnew = {clirad: lblnew \n",
    "                     for lblnew, clirad in lblnew2clirad.items()}\n",
    "    return clirad2lblnew\n",
    "\n",
    "\n",
    "def gasbands():\n",
    "    bmap = band_map()\n",
    "    gases = list(PARAM['molecule'].keys())\n",
    "    \n",
    "    bands = [bmap[str(b)] for b in PARAM['band']]\n",
    "    return list(itertools.product(gases, bands))\n",
    "\n",
    "\n",
    "def print_bestfit_params():\n",
    "    print('Best-fit values for each (gas, band)')\n",
    "    print('------------------------------------')\n",
    "    for gas, band in gasbands():\n",
    "        print('o {} band{}'.format(gas, band))\n",
    "        param = bestfits.kdist_params(molecule=gas, band=band)\n",
    "        for name, value in sorted(param.items()):\n",
    "            print(2 * ' ' + '{} = {}'.format(name, value))\n",
    "\n",
    "        \n",
    "def print_input_param():        \n",
    "    for name, value in PARAM.items():\n",
    "        print('{} = {}'.format(name, value))\n",
    "        \n",
    "        \n",
    "def print_lblnew_param():\n",
    "    for name, value in sorted(PARAM_LBLNEW.items()):\n",
    "        print('{} = {}'.format(name, value))\n"
   ]
  },
  {
   "cell_type": "code",
   "execution_count": 11,
   "metadata": {
    "collapsed": true,
    "scrolled": false
   },
   "outputs": [],
   "source": [
    "def show_html(s):\n",
    "    display.display(display.HTML(s))\n",
    "\n",
    "    \n",
    "def show_markdown(s):\n",
    "    display.display(display.Markdown(s))\n",
    "\n",
    "    \n",
    "def script():\n",
    "    \n",
    "    title = '### CLIRAD-LW'\n",
    "    s_input = 'Input Parameters'\n",
    "    s_lblnew_param = 'LBLNEW case compaired against'\n",
    "    s_bestfits = 'Best-fit Parameters'\n",
    "    s_plt_cooling = 'Cooling Rate Profiles'\n",
    "    s_tb_flux = 'Flux Comparison'\n",
    "    \n",
    "    # title\n",
    "    show_markdown('### CLIRAD-LW')\n",
    "    \n",
    "    # TOC\n",
    "    show_markdown('### Table of Contents')\n",
    "    show_html(climahtml.getHTML_hrefanchor(s_input))\n",
    "    show_html(climahtml.getHTML_hrefanchor(s_lblnew_param))\n",
    "    show_html(climahtml.getHTML_hrefanchor(s_plt_cooling))\n",
    "    show_html(climahtml.getHTML_hrefanchor(s_tb_flux))\n",
    "    show_html(climahtml.getHTML_hrefanchor(s_bestfits))\n",
    "    \n",
    "    # Input parameters\n",
    "    show_html(climahtml.getHTML_idanchor(s_input))\n",
    "    show_markdown(climahtml.getMarkdown_sectitle(s_input))\n",
    "    print_input_param()\n",
    "    \n",
    "    # LBLNEW parameters \n",
    "    show_html(climahtml.getHTML_idanchor(s_lblnew_param))\n",
    "    show_markdown(climahtml.getMarkdown_sectitle(s_lblnew_param))\n",
    "    print_lblnew_param()\n",
    "    \n",
    "    # Cooling rate profiles\n",
    "    show_html(climahtml.getHTML_idanchor(s_plt_cooling))\n",
    "    show_markdown(climahtml.getMarkdown_sectitle(s_plt_cooling))\n",
    "    script_plt_cooling()\n",
    "    \n",
    "    # Flux comparison\n",
    "    show_html(climahtml.getHTML_idanchor(s_tb_flux))\n",
    "    show_markdown(climahtml.getMarkdown_sectitle(s_tb_flux))\n",
    "    script_tb_flux()\n",
    "    \n",
    "    # Best-fit values\n",
    "    show_html(climahtml.getHTML_idanchor(s_bestfits))\n",
    "    show_markdown(climahtml.getMarkdown_sectitle(s_bestfits))\n",
    "    print_bestfit_params()\n",
    "   \n",
    "    "
   ]
  },
  {
   "cell_type": "code",
   "execution_count": 12,
   "metadata": {
    "collapsed": true,
    "scrolled": false
   },
   "outputs": [
    {
     "data": {
      "text/markdown": [
       "### CLIRAD-LW"
      ],
      "text/plain": [
       "<IPython.core.display.Markdown object>"
      ]
     },
     "metadata": {},
     "output_type": "display_data"
    },
    {
     "data": {
      "text/markdown": [
       "### Table of Contents"
      ],
      "text/plain": [
       "<IPython.core.display.Markdown object>"
      ]
     },
     "metadata": {},
     "output_type": "display_data"
    },
    {
     "data": {
      "text/html": [
       "<a href=\"#Input_Parameters\">Input Parameters</a>"
      ],
      "text/plain": [
       "<IPython.core.display.HTML object>"
      ]
     },
     "metadata": {},
     "output_type": "display_data"
    },
    {
     "data": {
      "text/html": [
       "<a href=\"#LBLNEW_case_compaired_against\">LBLNEW case compaired against</a>"
      ],
      "text/plain": [
       "<IPython.core.display.HTML object>"
      ]
     },
     "metadata": {},
     "output_type": "display_data"
    },
    {
     "data": {
      "text/html": [
       "<a href=\"#Cooling_Rate_Profiles\">Cooling Rate Profiles</a>"
      ],
      "text/plain": [
       "<IPython.core.display.HTML object>"
      ]
     },
     "metadata": {},
     "output_type": "display_data"
    },
    {
     "data": {
      "text/html": [
       "<a href=\"#Flux_Comparison\">Flux Comparison</a>"
      ],
      "text/plain": [
       "<IPython.core.display.HTML object>"
      ]
     },
     "metadata": {},
     "output_type": "display_data"
    },
    {
     "data": {
      "text/html": [
       "<a href=\"#Best-fit_Parameters\">Best-fit Parameters</a>"
      ],
      "text/plain": [
       "<IPython.core.display.HTML object>"
      ]
     },
     "metadata": {},
     "output_type": "display_data"
    },
    {
     "data": {
      "text/html": [
       "<a id=\"Input_Parameters\"></a>"
      ],
      "text/plain": [
       "<IPython.core.display.HTML object>"
      ]
     },
     "metadata": {},
     "output_type": "display_data"
    },
    {
     "data": {
      "text/markdown": [
       "# Input Parameters"
      ],
      "text/plain": [
       "<IPython.core.display.Markdown object>"
      ]
     },
     "metadata": {},
     "output_type": "display_data"
    },
    {
     "name": "stdout",
     "output_type": "stream",
     "text": [
      "atmpro = trp\n",
      "band = [3]\n",
      "commitnumber = 9a64c27\n",
      "molecule = {'co2': 0.0004, 'h2o': 'atmpro', 'n2o': 3.2e-07}\n",
      "tsfc = 300\n"
     ]
    },
    {
     "data": {
      "text/html": [
       "<a id=\"LBLNEW_case_compaired_against\"></a>"
      ],
      "text/plain": [
       "<IPython.core.display.HTML object>"
      ]
     },
     "metadata": {},
     "output_type": "display_data"
    },
    {
     "data": {
      "text/markdown": [
       "# LBLNEW case compaired against"
      ],
      "text/plain": [
       "<IPython.core.display.Markdown object>"
      ]
     },
     "metadata": {},
     "output_type": "display_data"
    },
    {
     "name": "stdout",
     "output_type": "stream",
     "text": [
      "atmpro = trp\n",
      "band = 3a\n",
      "commitnumber = 5014a19\n",
      "dv = 0.01\n",
      "molecule = {'co2': 0.0004, 'h2o': 'atmpro', 'n2o': 3.2e-07}\n",
      "nv = 100\n",
      "tsfc = 300\n"
     ]
    },
    {
     "data": {
      "text/html": [
       "<a id=\"Cooling_Rate_Profiles\"></a>"
      ],
      "text/plain": [
       "<IPython.core.display.HTML object>"
      ]
     },
     "metadata": {},
     "output_type": "display_data"
    },
    {
     "data": {
      "text/markdown": [
       "# Cooling Rate Profiles"
      ],
      "text/plain": [
       "<IPython.core.display.Markdown object>"
      ]
     },
     "metadata": {},
     "output_type": "display_data"
    },
    {
     "data": {
      "text/html": [
       "\n",
       "<div class=\"bk-root\">\n",
       "    <div class=\"bk-plotdiv\" id=\"99549e02-b792-4f30-aee9-7639d9ab6deb\"></div>\n",
       "</div>"
      ]
     },
     "metadata": {},
     "output_type": "display_data"
    },
    {
     "data": {
      "application/javascript": [
       "(function(root) {\n",
       "  function embed_document(root) {\n",
       "    \n",
       "  var docs_json = {\"ce37bb65-7473-4b34-b58b-c48b9a55a32b\":{\"roots\":{\"references\":[{\"attributes\":{\"callback\":null,\"end\":0.39766072643,\"start\":-0.03324504943},\"id\":\"ffdf616f-009b-42cb-988d-3e387396d20b\",\"type\":\"Range1d\"},{\"attributes\":{\"num_minor_ticks\":10},\"id\":\"b1694073-80fe-4271-855a-bcb1baddd297\",\"type\":\"LogTicker\"},{\"attributes\":{\"data_source\":{\"id\":\"29632023-d87d-45ea-aaa4-b421ffa43b9c\",\"type\":\"ColumnDataSource\"},\"glyph\":{\"id\":\"ea2f960b-2395-4486-859f-cbd85224da3d\",\"type\":\"Line\"},\"hover_glyph\":null,\"muted_glyph\":null,\"nonselection_glyph\":{\"id\":\"e526cdae-4dda-40d6-b009-33f7101af1d7\",\"type\":\"Line\"},\"selection_glyph\":null,\"view\":{\"id\":\"427d9f4a-3d9f-4561-9ac4-a414a2deb2e2\",\"type\":\"CDSView\"}},\"id\":\"9902435f-dd30-4d45-9f64-cd857cb5e7df\",\"type\":\"GlyphRenderer\"},{\"attributes\":{\"line_alpha\":0.1,\"line_color\":\"#1f77b4\",\"line_width\":3,\"x\":{\"field\":\"x\"},\"y\":{\"field\":\"y\"}},\"id\":\"5a18feb0-f2ba-43bd-938d-b77c7de6d09a\",\"type\":\"Line\"},{\"attributes\":{\"axis_label\":\"cooling rate [K/day]\",\"formatter\":{\"id\":\"16f0756a-ea8c-4223-abbe-20454fd09b36\",\"type\":\"BasicTickFormatter\"},\"plot\":{\"id\":\"75c5c679-460e-44de-9816-e3aa8d23ec67\",\"subtype\":\"Figure\",\"type\":\"Plot\"},\"ticker\":{\"id\":\"db10b5f9-4449-4284-92ab-73a9afa86a03\",\"type\":\"BasicTicker\"}},\"id\":\"e39b03fd-6a95-4b6f-a361-6b7eaebc7c3c\",\"type\":\"LinearAxis\"},{\"attributes\":{\"data_source\":{\"id\":\"3313a2e5-cd0c-4fe0-ad02-9531145a0ce7\",\"type\":\"ColumnDataSource\"},\"glyph\":{\"id\":\"aa51144e-0f10-4eb7-ac5b-c0e2b5698cf2\",\"type\":\"Line\"},\"hover_glyph\":null,\"muted_glyph\":null,\"nonselection_glyph\":{\"id\":\"5c5b67a5-ade2-4b02-9b94-4c0cceae5004\",\"type\":\"Line\"},\"selection_glyph\":null,\"view\":{\"id\":\"2d0f20b2-5955-4d46-8c2d-26ffadb0fc07\",\"type\":\"CDSView\"}},\"id\":\"e3c5f719-7ada-45ef-a07b-10e60fe5fedc\",\"type\":\"GlyphRenderer\"},{\"attributes\":{\"source\":{\"id\":\"29632023-d87d-45ea-aaa4-b421ffa43b9c\",\"type\":\"ColumnDataSource\"}},\"id\":\"427d9f4a-3d9f-4561-9ac4-a414a2deb2e2\",\"type\":\"CDSView\"},{\"attributes\":{},\"id\":\"c857cb54-bd75-4dac-a924-9197649e06b3\",\"type\":\"WheelZoomTool\"},{\"attributes\":{\"label\":{\"value\":\"WGT igg=10 wgt_flux=2\"},\"renderers\":[{\"id\":\"65002b0b-9f87-4198-84d5-9171ed5e2da9\",\"type\":\"GlyphRenderer\"},{\"id\":\"672a4293-667b-4aee-85d8-8c97edc6ab24\",\"type\":\"GlyphRenderer\"}]},\"id\":\"ed873738-8b46-4e46-85d6-cccba2821981\",\"type\":\"LegendItem\"},{\"attributes\":{},\"id\":\"db10b5f9-4449-4284-92ab-73a9afa86a03\",\"type\":\"BasicTicker\"},{\"attributes\":{},\"id\":\"f53e96c1-1d13-4bd1-bc56-0a0dfc71c984\",\"type\":\"LinearScale\"},{\"attributes\":{\"plot\":null,\"text\":\"Log pressure scale\"},\"id\":\"d212d508-ca92-4cc7-b078-dac054d1c66d\",\"type\":\"Title\"},{\"attributes\":{\"source\":{\"id\":\"b4c57933-3a93-4bbc-a908-51b84d56e568\",\"type\":\"ColumnDataSource\"}},\"id\":\"3259d464-f74a-47fa-a78e-45d26350e9e7\",\"type\":\"CDSView\"},{\"attributes\":{\"line_alpha\":0.1,\"line_color\":\"#1f77b4\",\"line_width\":1.5,\"x\":{\"field\":\"x\"},\"y\":{\"field\":\"y\"}},\"id\":\"5c5b67a5-ade2-4b02-9b94-4c0cceae5004\",\"type\":\"Line\"},{\"attributes\":{},\"id\":\"788852af-2b31-4351-8cd1-e41c91fb6ef3\",\"type\":\"ResetTool\"},{\"attributes\":{},\"id\":\"1e15a52c-ab78-40db-8864-86f491ef240c\",\"type\":\"PanTool\"},{\"attributes\":{},\"id\":\"cba03c5f-3f2a-4c32-872e-331c6a0821f7\",\"type\":\"WheelZoomTool\"},{\"attributes\":{\"active_drag\":\"auto\",\"active_inspect\":\"auto\",\"active_scroll\":\"auto\",\"active_tap\":\"auto\",\"tools\":[{\"id\":\"8ac626a1-bd53-4e60-a047-aca04dfac9b4\",\"type\":\"PanTool\"},{\"id\":\"c857cb54-bd75-4dac-a924-9197649e06b3\",\"type\":\"WheelZoomTool\"},{\"id\":\"eb4147c5-67b1-498b-b8ed-90228d0214d2\",\"type\":\"BoxZoomTool\"},{\"id\":\"62bb0056-25d8-4722-9437-14f5d17a360a\",\"type\":\"SaveTool\"},{\"id\":\"c494af19-365d-454a-a933-16c2f348ee40\",\"type\":\"ResetTool\"},{\"id\":\"34cb8c16-e1c4-48b1-b98a-4fe14a58cca4\",\"type\":\"HelpTool\"}]},\"id\":\"792f20fe-855c-438a-8b08-29a099b82c7f\",\"type\":\"Toolbar\"},{\"attributes\":{\"below\":[{\"id\":\"e39b03fd-6a95-4b6f-a361-6b7eaebc7c3c\",\"type\":\"LinearAxis\"}],\"left\":[{\"id\":\"ab2306f3-467a-4dc7-9a87-e65d05787ec0\",\"type\":\"LogAxis\"}],\"plot_height\":500,\"plot_width\":560,\"renderers\":[{\"id\":\"e39b03fd-6a95-4b6f-a361-6b7eaebc7c3c\",\"type\":\"LinearAxis\"},{\"id\":\"c5026326-d73d-49fd-8afb-ef0c182398a7\",\"type\":\"Grid\"},{\"id\":\"ab2306f3-467a-4dc7-9a87-e65d05787ec0\",\"type\":\"LogAxis\"},{\"id\":\"9be1b77f-a48c-4620-aa39-5848b508c2ca\",\"type\":\"Grid\"},{\"id\":\"3a02bbc7-84c5-4602-b452-8b0141de8e4e\",\"type\":\"BoxAnnotation\"},{\"id\":\"59c3f87b-ed7c-4f57-9bdf-8144f9a06b98\",\"type\":\"GlyphRenderer\"},{\"id\":\"549f5c1f-da97-4821-89e1-a6744565dfdd\",\"type\":\"GlyphRenderer\"},{\"id\":\"ce9ed088-bbff-4fbc-8152-e5731799b714\",\"type\":\"GlyphRenderer\"},{\"id\":\"65002b0b-9f87-4198-84d5-9171ed5e2da9\",\"type\":\"GlyphRenderer\"},{\"id\":\"672a4293-667b-4aee-85d8-8c97edc6ab24\",\"type\":\"GlyphRenderer\"},{\"id\":\"3b036c67-0b08-4537-8d90-fd90af57c108\",\"type\":\"Legend\"}],\"right\":[{\"id\":\"3b036c67-0b08-4537-8d90-fd90af57c108\",\"type\":\"Legend\"}],\"title\":{\"id\":\"d212d508-ca92-4cc7-b078-dac054d1c66d\",\"type\":\"Title\"},\"toolbar\":{\"id\":\"792f20fe-855c-438a-8b08-29a099b82c7f\",\"type\":\"Toolbar\"},\"toolbar_location\":null,\"x_range\":{\"id\":\"662aa353-4e9a-4216-9f6a-b114904e9105\",\"type\":\"Range1d\"},\"x_scale\":{\"id\":\"01cda1f1-5681-424c-926b-9c27ef7cc775\",\"type\":\"LinearScale\"},\"y_range\":{\"id\":\"af689d42-6dfe-4844-b960-96f0b894aafd\",\"type\":\"Range1d\"},\"y_scale\":{\"id\":\"8ed32368-186e-4c19-9c89-e68bc6f78ea3\",\"type\":\"LogScale\"}},\"id\":\"75c5c679-460e-44de-9816-e3aa8d23ec67\",\"subtype\":\"Figure\",\"type\":\"Plot\"},{\"attributes\":{\"plot\":{\"id\":\"b17f6f94-78d9-41c9-b387-e05e68fcd23b\",\"subtype\":\"Figure\",\"type\":\"Plot\"},\"ticker\":{\"id\":\"9efd5937-c02a-4e7b-895a-595c07a9e68f\",\"type\":\"BasicTicker\"}},\"id\":\"963a24f1-845c-421f-a1ba-59bf0b730b5f\",\"type\":\"Grid\"},{\"attributes\":{\"active_drag\":\"auto\",\"active_inspect\":\"auto\",\"active_scroll\":\"auto\",\"active_tap\":\"auto\",\"tools\":[{\"id\":\"1e15a52c-ab78-40db-8864-86f491ef240c\",\"type\":\"PanTool\"},{\"id\":\"cba03c5f-3f2a-4c32-872e-331c6a0821f7\",\"type\":\"WheelZoomTool\"},{\"id\":\"d3147753-edf8-4ec2-9e34-059abb5cfa93\",\"type\":\"BoxZoomTool\"},{\"id\":\"0dd23073-9514-4b17-8111-f0065d21a03d\",\"type\":\"SaveTool\"},{\"id\":\"788852af-2b31-4351-8cd1-e41c91fb6ef3\",\"type\":\"ResetTool\"},{\"id\":\"4ca9a586-adf2-493b-9aa3-d82fb49721cf\",\"type\":\"HelpTool\"}]},\"id\":\"bed3e216-492c-44fe-a9c5-0128389c793a\",\"type\":\"Toolbar\"},{\"attributes\":{\"fill_alpha\":{\"value\":0.1},\"fill_color\":{\"value\":\"#1f77b4\"},\"line_alpha\":{\"value\":0.1},\"line_color\":{\"value\":\"#1f77b4\"},\"x\":{\"field\":\"x\"},\"y\":{\"field\":\"y\"}},\"id\":\"f04cd659-63ee-4e47-9cd0-4f90dfff2f7c\",\"type\":\"Circle\"},{\"attributes\":{\"fill_alpha\":{\"value\":0.7},\"fill_color\":{\"value\":\"#4daf4a\"},\"line_alpha\":{\"value\":0.7},\"line_color\":{\"value\":\"#4daf4a\"},\"x\":{\"field\":\"x\"},\"y\":{\"field\":\"y\"}},\"id\":\"fe1d4ab0-d372-4b1b-a89c-9e380ec0d6c2\",\"type\":\"Circle\"},{\"attributes\":{\"fill_alpha\":{\"value\":0.7},\"fill_color\":{\"value\":\"#984ea3\"},\"line_alpha\":{\"value\":0.7},\"line_color\":{\"value\":\"#984ea3\"},\"x\":{\"field\":\"x\"},\"y\":{\"field\":\"y\"}},\"id\":\"fcdcf34b-e467-446b-abba-17544cff1ea2\",\"type\":\"Square\"},{\"attributes\":{\"callback\":null,\"column_names\":[\"x\",\"y\"],\"data\":{\"x\":{\"__ndarray__\":\"1pZTZYzN0z+IoIsCVGPQP7VAksRYh9E/+/nf39qo0D9T97e6UkXWP2UDp0YBhcs/ij68Ognd0j8UWCFh73DUPz9QEyKFF9U/ff9q/i071D8OnHW+hn3TPwqX+h6a3tM/UtCzegMj0T983diiu1rPP35Z80ZaaM4/q+KVPWzW0T9QqvkBeufUP3IYDnzzeNY/afST/wML1z+DdAwjGCLZP4Rd+59PJt8/UCbBXe4a5T+swcH/0jnnP9goTmLOW+U/Gsx4vhOx4j9kQmn7mbLePxK+WmIjWNk/ZOxCew4P1T8yUnPiQELRP1QGJwWKFss/jb3u34KNxD9lh53Ouuu9PwrVJn4njrQ/4uQWpC1vrD8xDhw6t7WdP0ybm774jHK/rpQmJCDGnL8Hgw1953+Yv/mfXb6sQme/TshpsPLJhz/MFkYDQxmaPwNf8rvAF6U/DH0Q/zmXrj8aEH8fnr20P3ht4w04ZLo/GKn/xZYSwD+rPAXp9zfDP+TWBwbOIcY/J959ZRDlxz+O0ZVjDfLJP2XYMFyAqsw/8omG1tTDzz9l9j/haF7RP5p+wyN1q9I/WQE6oxjm0z8ZUqgb5hPVP4J+tkBIN9Y/2qHt2tY91z9VD17cwgrYP7+/vUJRptg/azAmYOgP2T974hDcDi7ZP+2z0r2x1Ng/Vck6+0782D8Kn62Dg73XP/kuhCAwpNU/sTBlXEgy0z+WKf+9iDTQP+9xxxfEcss/K5oY3CCkxz/mie/dSbjEP+vFs3hvlMI/Z3t4v59UwT8c/uQ5bGzBPwbMSxfFH8g/\",\"dtype\":\"float64\",\"shape\":[75]},\"y\":{\"__ndarray__\":\"S/O/Q+51ND/430zAtpRIP2vylNV0PVE/QxsjCssuWD/TR4Z78fVgP+inNsRxymc/OuuBfZWvcD/u3TFA02d3P2d3VoBnaoA/CD5h5MAGhz/1pA8HUCaQP+zrCsc9p5Y/Fb7LAKjGnz/nJ9c/SEmmPwBD+fzcQq8/FOZwv9nstT8Er5Y7M8G+P0c+r3jqkcU/yK72qKZBzj+tM989FzjVPxbgmr8yxN0/cOm5AXbg5D+5ctXAf0jtP5kqGJXUifQ/DsrqDELP/D8MCAhBojQEQDItVnmnVwxAiFXNvdHgE0BSSZ2AJuIbQAMJih9jjiNA5q4l5INuK0CPVN/5RT0zQHzxRXu8/DpAOZ7PgHrtQkAg8wGBzoxKQBSTN8DMeFJA2NmQf2ZqWEAAAAAAAFxeQEQX1LfMJmJAmpmZmZkfZUBmZmZmZhhoQLzoK0gzEWtAAAAAAAAKbkCiC+pbZoFwQAhyUMLM/XFA+I2vPTN6c0AQ5KCEmfZ0QAAAAAAAc3ZA8Btfe2bvd0AIclDCzGt5QPeNrz0z6HpAEOSghJlkfEAAAAAAAOF9QKML6ltmXX9ABTkoYeZsgED7xteeGSuBQAhyUMJM6YFAAAAAAICngkD4ja89s2WDQAU5KGHmI4RA+8bXnhnihEAIclDCTKCFQAAAAACAXoZA+I2vPbMch0AFOShh5tqHQPvG154ZmYhACHJQwkxXiUAAAAAAgBWKQPeNrz2z04pABTkoYeaRi0D7xteeGVCMQAlyUMJMDo1AAAAAAIDMjUD3ja89s4qOQGZmZmbmSI9A\",\"dtype\":\"float64\",\"shape\":[75]}}},\"id\":\"29632023-d87d-45ea-aaa4-b421ffa43b9c\",\"type\":\"ColumnDataSource\"},{\"attributes\":{\"fill_alpha\":{\"value\":0.1},\"fill_color\":{\"value\":\"#1f77b4\"},\"line_alpha\":{\"value\":0.1},\"line_color\":{\"value\":\"#1f77b4\"},\"x\":{\"field\":\"x\"},\"y\":{\"field\":\"y\"}},\"id\":\"934c693b-1cde-47cc-8e16-d916d6c711d1\",\"type\":\"Square\"},{\"attributes\":{\"callback\":null,\"column_names\":[\"x\",\"y\"],\"data\":{\"x\":{\"__ndarray__\":\"0PuUnV3C2j9jEmiPm4raP8x313ZmRNs/Ypkj0AXa2z9NPX+YjDzcPybWFI5BY9w/6K0uZegx3D/s5EZwp53bP7J8ZfdHjNo/dTHV5ffq2D9t5m/GWabWP/lCjs51sdM/6wpLdkv2zz8NKOX/n1THP6JR7C5x4MM/03+9X1jAyD8A/Pjw0QfQPxghfvYKqNM/e7zzOMoJ2D8L+Mr2AOHdP+Upac2oHOM/4UqwF46w6D+ohXksCdLpP7gkYqXdo+Y/qKv5+Qgf4z84GdFNzSveP0n/Pwx8Xtc/2MTZ358z0j/jZXarIdDMP2NdgY2QJsc/ZnlHW89vwj+iDgrOCW+8P04v+euKI7U/dAU5+ii7rj/XepsLF0qeP1Fu7ZFF0nm/9LOYpYu3nb+m3IcAA+iZvzYiSWXSM3W/LaZOznRZgj+sVe4XSUGXP8AfDKmTTaQ/b5HmVb7jrj8P/nt5zIO1P73HVwqa+bs/YG6cuSxLwT+8MIj+v6DEP8CbyZKUz8c/osCvTwg2yj+g7LmOadTMP8yENmu2k88/86dTP+sx0T/7by2sfpnSP92Qb4R/8NM/ZGZVOg4y1T/8kDMkWU3WP9bbbpsMO9c/Imz8skn41z8dtmd19n7YP1PktbcA2dg/ol0q2ywD2T9WVC+FKNvYPxL3eQi6KNg/fqag09rR1z/ahlmBhBXWP/zydkK3sNM/DZTKyuU10T+CGfj2UwjNP5I+zrAo18g/5fmhDDSjxT+vqNJgZBPDP1gmssUkEsE/dGWrJuNzvz9aZUOKQy6/P/+xMSvracY/\",\"dtype\":\"float64\",\"shape\":[75]},\"y\":{\"__ndarray__\":\"GhExyth1ND/Sv8nbtpRIP2vylNV0PVE/aTum7souWD/At0SJ8fVgPw3Iuahxymc/MSNhhJWvcD/bTfBN02d3P2zb5nxnaoA/CD5h5MAGhz8NmeH1TyaQP+zrCsc9p5Y/LbKd76fGnz/bLW5ISEmmPww9YvTcQq8/JV2OstnstT8Er5Y7M8G+P0c+r3jqkcU/5h99k6ZBzj88bCIzFzjVP4enV8oyxN0//yH99nXg5D8qOpLLf0jtP5kqGJXUifQ/c9cS8kHP/D+/DpwzojQEQIEmwoanVwxA4lgXt9HgE0BSSZ2AJuIbQAMJih9jjiNA5q4l5INuK0AwTKYKRj0zQNv5fmq8/DpAaCJseHrtQkB/+zpwzoxKQM3MzMzMeFJAZmZmZmZqWEAAAAAAAFxeQM3MzMzMJmJAmpmZmZkfZUBmZmZmZhhoQDMzMzMzEWtAAAAAAAAKbkBmZmZmZoFwQM3MzMzM/XFAMzMzMzN6c0CamZmZmfZ0QAAAAAAAc3ZAZmZmZmbvd0DNzMzMzGt5QDMzMzMz6HpAmpmZmZlkfEAAAAAAAOF9QGZmZmZmXX9AZmZmZuZsgECamZmZGSuBQM3MzMxM6YFAAAAAAICngkAzMzMzs2WDQGZmZmbmI4RAmpmZmRnihEDNzMzMTKCFQAAAAACAXoZAMzMzM7Mch0BmZmZm5tqHQJqZmZkZmYhAzczMzExXiUAAAAAAgBWKQDMzMzOz04pAZmZmZuaRi0CamZmZGVCMQM3MzMxMDo1AAAAAAIDMjUAzMzMzs4qOQGZmZmbmSI9A\",\"dtype\":\"float64\",\"shape\":[75]}}},\"id\":\"3313a2e5-cd0c-4fe0-ad02-9531145a0ce7\",\"type\":\"ColumnDataSource\"},{\"attributes\":{\"plot\":{\"id\":\"75c5c679-460e-44de-9816-e3aa8d23ec67\",\"subtype\":\"Figure\",\"type\":\"Plot\"},\"ticker\":{\"id\":\"db10b5f9-4449-4284-92ab-73a9afa86a03\",\"type\":\"BasicTicker\"}},\"id\":\"c5026326-d73d-49fd-8afb-ef0c182398a7\",\"type\":\"Grid\"},{\"attributes\":{\"plot\":null,\"text\":\"Linear pressure scale\"},\"id\":\"5d9c70bc-ae82-4cd5-b4ee-4025edce3ff8\",\"type\":\"Title\"},{\"attributes\":{\"axis_label\":\"pressure [mb]\",\"formatter\":{\"id\":\"18350f64-45eb-4423-bbca-1e3b118ef6f3\",\"type\":\"LogTickFormatter\"},\"plot\":{\"id\":\"75c5c679-460e-44de-9816-e3aa8d23ec67\",\"subtype\":\"Figure\",\"type\":\"Plot\"},\"ticker\":{\"id\":\"b1694073-80fe-4271-855a-bcb1baddd297\",\"type\":\"LogTicker\"}},\"id\":\"ab2306f3-467a-4dc7-9a87-e65d05787ec0\",\"type\":\"LogAxis\"},{\"attributes\":{\"callback\":null,\"column_names\":[\"x\",\"y\"],\"data\":{\"x\":{\"__ndarray__\":\"imo60H1Y1T854Kk27oPVP/ycim21O9Y/VwWLP2H71j/9/FKaKJ3XPzRf63MxHdg/yegd+jBz2D84OnwMNY7YP39duDm2Wtg/NAowyVTD1z83O+9SLK/WP2v23QB1+9Q/9MdRDNKE0j8g07kmzbTOP/UmTDnbs8w/9Q8iGXLs0D+fQqZjawnUP+r+uYFlGdY/qk9JCBzq1z9Xi3iAYRjbP9jKtpkr3+A/bkFC1ks65j/uhCxF0efnPzpjb5SCj+U/pZJsO46b4j/pU56rc23eP9u3QYqN+9g/geAabY+91D86LwTvmgbRP0FwS5r1GMs/T2a0PKzDxD+iNAZjZbC+Pxql9f7Z67U/K/C1ak6Trz9THqNdAVygP/wGQPlPAHO/H1nkyuWunb+BtEuQG8KYv/i1qrN+3Ve/UrDOSr0bjT9jr6D+7ZGdP2f1IpsqZqc/5wKm8sfLsD+3fRjsSYq2P93kfT3berw/8RQwicw/wT+Tq3kKkFPEPzMPqh56HMc/AGSVkBfryD+ta5MO//7KPxeLtpUkcM0/PlHhIe8J0D8MTDzaF1TRP2IYqHPiftI/TLzqnsiV0z8GQKIqIprUP9ZPYoSujNU/gxMTzH9l1j8e7U1GdBPXP8bP82VxmNc/3nBh1Qfv1z8919bTN/7XP6Q4BQFLkdc/b4HjtqaO1z9htvD+cD7WP+ali+KPQdQ/y5O1l34T0j/wAvyF5AXPP1B1I4fj1Mo/Vyhv0+GZxz8dIDV5DAfFP9rIlmGzDsM/Bpd1nC7NwT+3CsXKJsjBP/wKiP8qdsg/\",\"dtype\":\"float64\",\"shape\":[75]},\"y\":{\"__ndarray__\":\"GhExyth1ND/Sv8nbtpRIP2vylNV0PVE/aTum7souWD/At0SJ8fVgPw3Iuahxymc/MSNhhJWvcD/bTfBN02d3P2zb5nxnaoA/CD5h5MAGhz8NmeH1TyaQP+zrCsc9p5Y/LbKd76fGnz/bLW5ISEmmPww9YvTcQq8/JV2OstnstT8Er5Y7M8G+P0c+r3jqkcU/5h99k6ZBzj88bCIzFzjVP4enV8oyxN0//yH99nXg5D8qOpLLf0jtP5kqGJXUifQ/c9cS8kHP/D+/DpwzojQEQIEmwoanVwxA4lgXt9HgE0BSSZ2AJuIbQAMJih9jjiNA5q4l5INuK0AwTKYKRj0zQNv5fmq8/DpAaCJseHrtQkB/+zpwzoxKQM3MzMzMeFJAZmZmZmZqWEAAAAAAAFxeQM3MzMzMJmJAmpmZmZkfZUBmZmZmZhhoQDMzMzMzEWtAAAAAAAAKbkBmZmZmZoFwQM3MzMzM/XFAMzMzMzN6c0CamZmZmfZ0QAAAAAAAc3ZAZmZmZmbvd0DNzMzMzGt5QDMzMzMz6HpAmpmZmZlkfEAAAAAAAOF9QGZmZmZmXX9AZmZmZuZsgECamZmZGSuBQM3MzMxM6YFAAAAAAICngkAzMzMzs2WDQGZmZmbmI4RAmpmZmRnihEDNzMzMTKCFQAAAAACAXoZAMzMzM7Mch0BmZmZm5tqHQJqZmZkZmYhAzczMzExXiUAAAAAAgBWKQDMzMzOz04pAZmZmZuaRi0CamZmZGVCMQM3MzMxMDo1AAAAAAIDMjUAzMzMzs4qOQGZmZmbmSI9A\",\"dtype\":\"float64\",\"shape\":[75]}}},\"id\":\"246872d6-6558-49df-a066-007f6b801092\",\"type\":\"ColumnDataSource\"},{\"attributes\":{},\"id\":\"01cda1f1-5681-424c-926b-9c27ef7cc775\",\"type\":\"LinearScale\"},{\"attributes\":{\"callback\":null,\"end\":0.01,\"start\":1020},\"id\":\"11db5817-352d-4f4b-8e7d-9473b2a6491a\",\"type\":\"Range1d\"},{\"attributes\":{\"below\":[{\"id\":\"0ba33e58-063d-4676-821b-3a0fd85e6b05\",\"type\":\"LinearAxis\"}],\"left\":[{\"id\":\"79832261-2f48-42ff-9b7c-cddd091d3a96\",\"type\":\"LinearAxis\"}],\"plot_height\":500,\"plot_width\":400,\"renderers\":[{\"id\":\"0ba33e58-063d-4676-821b-3a0fd85e6b05\",\"type\":\"LinearAxis\"},{\"id\":\"963a24f1-845c-421f-a1ba-59bf0b730b5f\",\"type\":\"Grid\"},{\"id\":\"79832261-2f48-42ff-9b7c-cddd091d3a96\",\"type\":\"LinearAxis\"},{\"id\":\"5ad6608c-a458-4cca-aa8f-211cfd77bb4b\",\"type\":\"Grid\"},{\"id\":\"5099154d-80fc-4c4b-a51a-992bcb5a608b\",\"type\":\"BoxAnnotation\"},{\"id\":\"9902435f-dd30-4d45-9f64-cd857cb5e7df\",\"type\":\"GlyphRenderer\"},{\"id\":\"fa78fe6e-4c73-405b-aa41-949becb8a080\",\"type\":\"GlyphRenderer\"},{\"id\":\"e3c5f719-7ada-45ef-a07b-10e60fe5fedc\",\"type\":\"GlyphRenderer\"},{\"id\":\"7ee159e6-664f-4804-a4a1-84499947c7af\",\"type\":\"GlyphRenderer\"},{\"id\":\"e4fe2e1f-4c6f-455f-a542-f45a14aef071\",\"type\":\"GlyphRenderer\"}],\"title\":{\"id\":\"5d9c70bc-ae82-4cd5-b4ee-4025edce3ff8\",\"type\":\"Title\"},\"toolbar\":{\"id\":\"bed3e216-492c-44fe-a9c5-0128389c793a\",\"type\":\"Toolbar\"},\"toolbar_location\":null,\"x_range\":{\"id\":\"ffdf616f-009b-42cb-988d-3e387396d20b\",\"type\":\"Range1d\"},\"x_scale\":{\"id\":\"5cca04bb-dfce-4c1a-ab87-ddcbda78830f\",\"type\":\"LinearScale\"},\"y_range\":{\"id\":\"11db5817-352d-4f4b-8e7d-9473b2a6491a\",\"type\":\"Range1d\"},\"y_scale\":{\"id\":\"f53e96c1-1d13-4bd1-bc56-0a0dfc71c984\",\"type\":\"LinearScale\"}},\"id\":\"b17f6f94-78d9-41c9-b387-e05e68fcd23b\",\"subtype\":\"Figure\",\"type\":\"Plot\"},{\"attributes\":{\"line_alpha\":0.6,\"line_color\":\"#984ea3\",\"line_width\":3,\"x\":{\"field\":\"x\"},\"y\":{\"field\":\"y\"}},\"id\":\"438d2f6b-b311-42ec-bedb-205deb4b1676\",\"type\":\"Line\"},{\"attributes\":{\"source\":{\"id\":\"ed5b1b28-6852-41f2-8bfe-a9488529ea68\",\"type\":\"ColumnDataSource\"}},\"id\":\"bdb9a81f-6f23-4af1-a6fa-1f04ed734539\",\"type\":\"CDSView\"},{\"attributes\":{},\"id\":\"9efd5937-c02a-4e7b-895a-595c07a9e68f\",\"type\":\"BasicTicker\"},{\"attributes\":{\"line_color\":\"#4daf4a\",\"line_width\":1.5,\"x\":{\"field\":\"x\"},\"y\":{\"field\":\"y\"}},\"id\":\"aa51144e-0f10-4eb7-ac5b-c0e2b5698cf2\",\"type\":\"Line\"},{\"attributes\":{\"dimension\":1,\"plot\":{\"id\":\"75c5c679-460e-44de-9816-e3aa8d23ec67\",\"subtype\":\"Figure\",\"type\":\"Plot\"},\"ticker\":{\"id\":\"b1694073-80fe-4271-855a-bcb1baddd297\",\"type\":\"LogTicker\"}},\"id\":\"9be1b77f-a48c-4620-aa39-5848b508c2ca\",\"type\":\"Grid\"},{\"attributes\":{},\"id\":\"5cca04bb-dfce-4c1a-ab87-ddcbda78830f\",\"type\":\"LinearScale\"},{\"attributes\":{\"line_alpha\":0.6,\"line_color\":\"#e41a1c\",\"line_dash\":[6],\"line_width\":5,\"x\":{\"field\":\"x\"},\"y\":{\"field\":\"y\"}},\"id\":\"7bbdd8c5-4d44-439e-a441-e91fb7d25bed\",\"type\":\"Line\"},{\"attributes\":{\"axis_label\":\"cooling rate [K/day]\",\"formatter\":{\"id\":\"4e7ca1ce-b8d6-477d-a0a4-4df3af99d516\",\"type\":\"BasicTickFormatter\"},\"plot\":{\"id\":\"b17f6f94-78d9-41c9-b387-e05e68fcd23b\",\"subtype\":\"Figure\",\"type\":\"Plot\"},\"ticker\":{\"id\":\"9efd5937-c02a-4e7b-895a-595c07a9e68f\",\"type\":\"BasicTicker\"}},\"id\":\"0ba33e58-063d-4676-821b-3a0fd85e6b05\",\"type\":\"LinearAxis\"},{\"attributes\":{\"children\":[{\"id\":\"dc2f4ac3-de18-40e1-b6ec-2893f46609b4\",\"type\":\"Row\"}]},\"id\":\"f6d70297-4875-41ea-8656-a3f6cd24196d\",\"type\":\"Column\"},{\"attributes\":{\"dimension\":1,\"plot\":{\"id\":\"b17f6f94-78d9-41c9-b387-e05e68fcd23b\",\"subtype\":\"Figure\",\"type\":\"Plot\"},\"ticker\":{\"id\":\"492283df-3405-4eab-be77-0efdb5986f44\",\"type\":\"BasicTicker\"}},\"id\":\"5ad6608c-a458-4cca-aa8f-211cfd77bb4b\",\"type\":\"Grid\"},{\"attributes\":{\"callback\":null,\"end\":0.01,\"start\":1020},\"id\":\"af689d42-6dfe-4844-b960-96f0b894aafd\",\"type\":\"Range1d\"},{\"attributes\":{\"callback\":null,\"column_names\":[\"x\",\"y\"],\"data\":{\"x\":{\"__ndarray__\":\"1pZTZYzN0z+IoIsCVGPQP7VAksRYh9E/+/nf39qo0D9T97e6UkXWP2UDp0YBhcs/ij68Ognd0j8UWCFh73DUPz9QEyKFF9U/ff9q/i071D8OnHW+hn3TPwqX+h6a3tM/UtCzegMj0T983diiu1rPP35Z80ZaaM4/q+KVPWzW0T9QqvkBeufUP3IYDnzzeNY/afST/wML1z+DdAwjGCLZP4Rd+59PJt8/UCbBXe4a5T+swcH/0jnnP9goTmLOW+U/Gsx4vhOx4j9kQmn7mbLePxK+WmIjWNk/ZOxCew4P1T8yUnPiQELRP1QGJwWKFss/jb3u34KNxD9lh53Ouuu9PwrVJn4njrQ/4uQWpC1vrD8xDhw6t7WdP0ybm774jHK/rpQmJCDGnL8Hgw1953+Yv/mfXb6sQme/TshpsPLJhz/MFkYDQxmaPwNf8rvAF6U/DH0Q/zmXrj8aEH8fnr20P3ht4w04ZLo/GKn/xZYSwD+rPAXp9zfDP+TWBwbOIcY/J959ZRDlxz+O0ZVjDfLJP2XYMFyAqsw/8omG1tTDzz9l9j/haF7RP5p+wyN1q9I/WQE6oxjm0z8ZUqgb5hPVP4J+tkBIN9Y/2qHt2tY91z9VD17cwgrYP7+/vUJRptg/azAmYOgP2T974hDcDi7ZP+2z0r2x1Ng/Vck6+0782D8Kn62Dg73XP/kuhCAwpNU/sTBlXEgy0z+WKf+9iDTQP+9xxxfEcss/K5oY3CCkxz/mie/dSbjEP+vFs3hvlMI/Z3t4v59UwT8c/uQ5bGzBPwbMSxfFH8g/\",\"dtype\":\"float64\",\"shape\":[75]},\"y\":{\"__ndarray__\":\"S/O/Q+51ND/430zAtpRIP2vylNV0PVE/QxsjCssuWD/TR4Z78fVgP+inNsRxymc/OuuBfZWvcD/u3TFA02d3P2d3VoBnaoA/CD5h5MAGhz/1pA8HUCaQP+zrCsc9p5Y/Fb7LAKjGnz/nJ9c/SEmmPwBD+fzcQq8/FOZwv9nstT8Er5Y7M8G+P0c+r3jqkcU/yK72qKZBzj+tM989FzjVPxbgmr8yxN0/cOm5AXbg5D+5ctXAf0jtP5kqGJXUifQ/DsrqDELP/D8MCAhBojQEQDItVnmnVwxAiFXNvdHgE0BSSZ2AJuIbQAMJih9jjiNA5q4l5INuK0CPVN/5RT0zQHzxRXu8/DpAOZ7PgHrtQkAg8wGBzoxKQBSTN8DMeFJA2NmQf2ZqWEAAAAAAAFxeQEQX1LfMJmJAmpmZmZkfZUBmZmZmZhhoQLzoK0gzEWtAAAAAAAAKbkCiC+pbZoFwQAhyUMLM/XFA+I2vPTN6c0AQ5KCEmfZ0QAAAAAAAc3ZA8Btfe2bvd0AIclDCzGt5QPeNrz0z6HpAEOSghJlkfEAAAAAAAOF9QKML6ltmXX9ABTkoYeZsgED7xteeGSuBQAhyUMJM6YFAAAAAAICngkD4ja89s2WDQAU5KGHmI4RA+8bXnhnihEAIclDCTKCFQAAAAACAXoZA+I2vPbMch0AFOShh5tqHQPvG154ZmYhACHJQwkxXiUAAAAAAgBWKQPeNrz2z04pABTkoYeaRi0D7xteeGVCMQAlyUMJMDo1AAAAAAIDMjUD3ja89s4qOQGZmZmbmSI9A\",\"dtype\":\"float64\",\"shape\":[75]}}},\"id\":\"df52a3a8-8980-4fa1-9d34-efdf52f806f2\",\"type\":\"ColumnDataSource\"},{\"attributes\":{},\"id\":\"8ed32368-186e-4c19-9c89-e68bc6f78ea3\",\"type\":\"LogScale\"},{\"attributes\":{\"overlay\":{\"id\":\"5099154d-80fc-4c4b-a51a-992bcb5a608b\",\"type\":\"BoxAnnotation\"}},\"id\":\"d3147753-edf8-4ec2-9e34-059abb5cfa93\",\"type\":\"BoxZoomTool\"},{\"attributes\":{},\"id\":\"492283df-3405-4eab-be77-0efdb5986f44\",\"type\":\"BasicTicker\"},{\"attributes\":{\"data_source\":{\"id\":\"ed5b1b28-6852-41f2-8bfe-a9488529ea68\",\"type\":\"ColumnDataSource\"},\"glyph\":{\"id\":\"438d2f6b-b311-42ec-bedb-205deb4b1676\",\"type\":\"Line\"},\"hover_glyph\":null,\"muted_glyph\":null,\"nonselection_glyph\":{\"id\":\"5a18feb0-f2ba-43bd-938d-b77c7de6d09a\",\"type\":\"Line\"},\"selection_glyph\":null,\"view\":{\"id\":\"bdb9a81f-6f23-4af1-a6fa-1f04ed734539\",\"type\":\"CDSView\"}},\"id\":\"e4fe2e1f-4c6f-455f-a542-f45a14aef071\",\"type\":\"GlyphRenderer\"},{\"attributes\":{\"axis_label\":\"pressure [mb]\",\"formatter\":{\"id\":\"67e47c2d-157e-4b49-90d9-340b75876b7d\",\"type\":\"BasicTickFormatter\"},\"plot\":{\"id\":\"b17f6f94-78d9-41c9-b387-e05e68fcd23b\",\"subtype\":\"Figure\",\"type\":\"Plot\"},\"ticker\":{\"id\":\"492283df-3405-4eab-be77-0efdb5986f44\",\"type\":\"BasicTicker\"}},\"id\":\"79832261-2f48-42ff-9b7c-cddd091d3a96\",\"type\":\"LinearAxis\"},{\"attributes\":{},\"id\":\"8ac626a1-bd53-4e60-a047-aca04dfac9b4\",\"type\":\"PanTool\"},{\"attributes\":{\"callback\":null,\"column_names\":[\"x\",\"y\"],\"data\":{\"x\":{\"__ndarray__\":\"0PuUnV3C2j9jEmiPm4raP8x313ZmRNs/Ypkj0AXa2z9NPX+YjDzcPybWFI5BY9w/6K0uZegx3D/s5EZwp53bP7J8ZfdHjNo/dTHV5ffq2D9t5m/GWabWP/lCjs51sdM/6wpLdkv2zz8NKOX/n1THP6JR7C5x4MM/03+9X1jAyD8A/Pjw0QfQPxghfvYKqNM/e7zzOMoJ2D8L+Mr2AOHdP+Upac2oHOM/4UqwF46w6D+ohXksCdLpP7gkYqXdo+Y/qKv5+Qgf4z84GdFNzSveP0n/Pwx8Xtc/2MTZ358z0j/jZXarIdDMP2NdgY2QJsc/ZnlHW89vwj+iDgrOCW+8P04v+euKI7U/dAU5+ii7rj/XepsLF0qeP1Fu7ZFF0nm/9LOYpYu3nb+m3IcAA+iZvzYiSWXSM3W/LaZOznRZgj+sVe4XSUGXP8AfDKmTTaQ/b5HmVb7jrj8P/nt5zIO1P73HVwqa+bs/YG6cuSxLwT+8MIj+v6DEP8CbyZKUz8c/osCvTwg2yj+g7LmOadTMP8yENmu2k88/86dTP+sx0T/7by2sfpnSP92Qb4R/8NM/ZGZVOg4y1T/8kDMkWU3WP9bbbpsMO9c/Imz8skn41z8dtmd19n7YP1PktbcA2dg/ol0q2ywD2T9WVC+FKNvYPxL3eQi6KNg/fqag09rR1z/ahlmBhBXWP/zydkK3sNM/DZTKyuU10T+CGfj2UwjNP5I+zrAo18g/5fmhDDSjxT+vqNJgZBPDP1gmssUkEsE/dGWrJuNzvz9aZUOKQy6/P/+xMSvracY/\",\"dtype\":\"float64\",\"shape\":[75]},\"y\":{\"__ndarray__\":\"GhExyth1ND/Sv8nbtpRIP2vylNV0PVE/aTum7souWD/At0SJ8fVgPw3Iuahxymc/MSNhhJWvcD/bTfBN02d3P2zb5nxnaoA/CD5h5MAGhz8NmeH1TyaQP+zrCsc9p5Y/LbKd76fGnz/bLW5ISEmmPww9YvTcQq8/JV2OstnstT8Er5Y7M8G+P0c+r3jqkcU/5h99k6ZBzj88bCIzFzjVP4enV8oyxN0//yH99nXg5D8qOpLLf0jtP5kqGJXUifQ/c9cS8kHP/D+/DpwzojQEQIEmwoanVwxA4lgXt9HgE0BSSZ2AJuIbQAMJih9jjiNA5q4l5INuK0AwTKYKRj0zQNv5fmq8/DpAaCJseHrtQkB/+zpwzoxKQM3MzMzMeFJAZmZmZmZqWEAAAAAAAFxeQM3MzMzMJmJAmpmZmZkfZUBmZmZmZhhoQDMzMzMzEWtAAAAAAAAKbkBmZmZmZoFwQM3MzMzM/XFAMzMzMzN6c0CamZmZmfZ0QAAAAAAAc3ZAZmZmZmbvd0DNzMzMzGt5QDMzMzMz6HpAmpmZmZlkfEAAAAAAAOF9QGZmZmZmXX9AZmZmZuZsgECamZmZGSuBQM3MzMxM6YFAAAAAAICngkAzMzMzs2WDQGZmZmbmI4RAmpmZmRnihEDNzMzMTKCFQAAAAACAXoZAMzMzM7Mch0BmZmZm5tqHQJqZmZkZmYhAzczMzExXiUAAAAAAgBWKQDMzMzOz04pAZmZmZuaRi0CamZmZGVCMQM3MzMxMDo1AAAAAAIDMjUAzMzMzs4qOQGZmZmbmSI9A\",\"dtype\":\"float64\",\"shape\":[75]}}},\"id\":\"a4405000-91d7-4a08-9050-f2d1588c20f4\",\"type\":\"ColumnDataSource\"},{\"attributes\":{\"source\":{\"id\":\"a4405000-91d7-4a08-9050-f2d1588c20f4\",\"type\":\"ColumnDataSource\"}},\"id\":\"bfd1c030-ab04-47f7-8180-4f89b158c986\",\"type\":\"CDSView\"},{\"attributes\":{\"children\":[{\"id\":\"b17f6f94-78d9-41c9-b387-e05e68fcd23b\",\"subtype\":\"Figure\",\"type\":\"Plot\"},{\"id\":\"75c5c679-460e-44de-9816-e3aa8d23ec67\",\"subtype\":\"Figure\",\"type\":\"Plot\"}]},\"id\":\"dc2f4ac3-de18-40e1-b6ec-2893f46609b4\",\"type\":\"Row\"},{\"attributes\":{\"data_source\":{\"id\":\"b4c57933-3a93-4bbc-a908-51b84d56e568\",\"type\":\"ColumnDataSource\"},\"glyph\":{\"id\":\"fe1d4ab0-d372-4b1b-a89c-9e380ec0d6c2\",\"type\":\"Circle\"},\"hover_glyph\":null,\"muted_glyph\":null,\"nonselection_glyph\":{\"id\":\"f04cd659-63ee-4e47-9cd0-4f90dfff2f7c\",\"type\":\"Circle\"},\"selection_glyph\":null,\"view\":{\"id\":\"3259d464-f74a-47fa-a78e-45d26350e9e7\",\"type\":\"CDSView\"}},\"id\":\"fa78fe6e-4c73-405b-aa41-949becb8a080\",\"type\":\"GlyphRenderer\"},{\"attributes\":{\"line_color\":\"#4daf4a\",\"line_width\":1.5,\"x\":{\"field\":\"x\"},\"y\":{\"field\":\"y\"}},\"id\":\"d71f7dc0-0b37-4f97-b32f-af6ceb4d119e\",\"type\":\"Line\"},{\"attributes\":{\"fill_alpha\":{\"value\":0.1},\"fill_color\":{\"value\":\"#1f77b4\"},\"line_alpha\":{\"value\":0.1},\"line_color\":{\"value\":\"#1f77b4\"},\"x\":{\"field\":\"x\"},\"y\":{\"field\":\"y\"}},\"id\":\"3e31a4c1-944d-4bda-9648-cb62f7558eec\",\"type\":\"Circle\"},{\"attributes\":{\"callback\":null,\"column_names\":[\"x\",\"y\"],\"data\":{\"x\":{\"__ndarray__\":\"imo60H1Y1T854Kk27oPVP/ycim21O9Y/VwWLP2H71j/9/FKaKJ3XPzRf63MxHdg/yegd+jBz2D84OnwMNY7YP39duDm2Wtg/NAowyVTD1z83O+9SLK/WP2v23QB1+9Q/9MdRDNKE0j8g07kmzbTOP/UmTDnbs8w/9Q8iGXLs0D+fQqZjawnUP+r+uYFlGdY/qk9JCBzq1z9Xi3iAYRjbP9jKtpkr3+A/bkFC1ks65j/uhCxF0efnPzpjb5SCj+U/pZJsO46b4j/pU56rc23eP9u3QYqN+9g/geAabY+91D86LwTvmgbRP0FwS5r1GMs/T2a0PKzDxD+iNAZjZbC+Pxql9f7Z67U/K/C1ak6Trz9THqNdAVygP/wGQPlPAHO/H1nkyuWunb+BtEuQG8KYv/i1qrN+3Ve/UrDOSr0bjT9jr6D+7ZGdP2f1IpsqZqc/5wKm8sfLsD+3fRjsSYq2P93kfT3berw/8RQwicw/wT+Tq3kKkFPEPzMPqh56HMc/AGSVkBfryD+ta5MO//7KPxeLtpUkcM0/PlHhIe8J0D8MTDzaF1TRP2IYqHPiftI/TLzqnsiV0z8GQKIqIprUP9ZPYoSujNU/gxMTzH9l1j8e7U1GdBPXP8bP82VxmNc/3nBh1Qfv1z8919bTN/7XP6Q4BQFLkdc/b4HjtqaO1z9htvD+cD7WP+ali+KPQdQ/y5O1l34T0j/wAvyF5AXPP1B1I4fj1Mo/Vyhv0+GZxz8dIDV5DAfFP9rIlmGzDsM/Bpd1nC7NwT+3CsXKJsjBP/wKiP8qdsg/\",\"dtype\":\"float64\",\"shape\":[75]},\"y\":{\"__ndarray__\":\"GhExyth1ND/Sv8nbtpRIP2vylNV0PVE/aTum7souWD/At0SJ8fVgPw3Iuahxymc/MSNhhJWvcD/bTfBN02d3P2zb5nxnaoA/CD5h5MAGhz8NmeH1TyaQP+zrCsc9p5Y/LbKd76fGnz/bLW5ISEmmPww9YvTcQq8/JV2OstnstT8Er5Y7M8G+P0c+r3jqkcU/5h99k6ZBzj88bCIzFzjVP4enV8oyxN0//yH99nXg5D8qOpLLf0jtP5kqGJXUifQ/c9cS8kHP/D+/DpwzojQEQIEmwoanVwxA4lgXt9HgE0BSSZ2AJuIbQAMJih9jjiNA5q4l5INuK0AwTKYKRj0zQNv5fmq8/DpAaCJseHrtQkB/+zpwzoxKQM3MzMzMeFJAZmZmZmZqWEAAAAAAAFxeQM3MzMzMJmJAmpmZmZkfZUBmZmZmZhhoQDMzMzMzEWtAAAAAAAAKbkBmZmZmZoFwQM3MzMzM/XFAMzMzMzN6c0CamZmZmfZ0QAAAAAAAc3ZAZmZmZmbvd0DNzMzMzGt5QDMzMzMz6HpAmpmZmZlkfEAAAAAAAOF9QGZmZmZmXX9AZmZmZuZsgECamZmZGSuBQM3MzMxM6YFAAAAAAICngkAzMzMzs2WDQGZmZmbmI4RAmpmZmRnihEDNzMzMTKCFQAAAAACAXoZAMzMzM7Mch0BmZmZm5tqHQJqZmZkZmYhAzczMzExXiUAAAAAAgBWKQDMzMzOz04pAZmZmZuaRi0CamZmZGVCMQM3MzMxMDo1AAAAAAIDMjUAzMzMzs4qOQGZmZmbmSI9A\",\"dtype\":\"float64\",\"shape\":[75]}}},\"id\":\"444c8e89-1ff8-4e6e-a63e-0fd1ed162161\",\"type\":\"ColumnDataSource\"},{\"attributes\":{\"line_alpha\":0.1,\"line_color\":\"#1f77b4\",\"line_dash\":[6],\"line_width\":5,\"x\":{\"field\":\"x\"},\"y\":{\"field\":\"y\"}},\"id\":\"e526cdae-4dda-40d6-b009-33f7101af1d7\",\"type\":\"Line\"},{\"attributes\":{\"fill_alpha\":{\"value\":0.7},\"fill_color\":{\"value\":\"#4daf4a\"},\"line_alpha\":{\"value\":0.7},\"line_color\":{\"value\":\"#4daf4a\"},\"x\":{\"field\":\"x\"},\"y\":{\"field\":\"y\"}},\"id\":\"ca44af9f-d15e-46a8-8d15-6ccbf3296289\",\"type\":\"Circle\"},{\"attributes\":{},\"id\":\"16f0756a-ea8c-4223-abbe-20454fd09b36\",\"type\":\"BasicTickFormatter\"},{\"attributes\":{\"data_source\":{\"id\":\"a4405000-91d7-4a08-9050-f2d1588c20f4\",\"type\":\"ColumnDataSource\"},\"glyph\":{\"id\":\"ca44af9f-d15e-46a8-8d15-6ccbf3296289\",\"type\":\"Circle\"},\"hover_glyph\":null,\"muted_glyph\":null,\"nonselection_glyph\":{\"id\":\"3e31a4c1-944d-4bda-9648-cb62f7558eec\",\"type\":\"Circle\"},\"selection_glyph\":null,\"view\":{\"id\":\"bfd1c030-ab04-47f7-8180-4f89b158c986\",\"type\":\"CDSView\"}},\"id\":\"549f5c1f-da97-4821-89e1-a6744565dfdd\",\"type\":\"GlyphRenderer\"},{\"attributes\":{\"callback\":null,\"end\":0.81524823623,\"start\":-0.03737957923},\"id\":\"662aa353-4e9a-4216-9f6a-b114904e9105\",\"type\":\"Range1d\"},{\"attributes\":{\"source\":{\"id\":\"df52a3a8-8980-4fa1-9d34-efdf52f806f2\",\"type\":\"ColumnDataSource\"}},\"id\":\"da6e060a-b464-470e-8826-ae01bf3a6820\",\"type\":\"CDSView\"},{\"attributes\":{},\"id\":\"62bb0056-25d8-4722-9437-14f5d17a360a\",\"type\":\"SaveTool\"},{\"attributes\":{},\"id\":\"34cb8c16-e1c4-48b1-b98a-4fe14a58cca4\",\"type\":\"HelpTool\"},{\"attributes\":{},\"id\":\"0dd23073-9514-4b17-8111-f0065d21a03d\",\"type\":\"SaveTool\"},{\"attributes\":{\"data_source\":{\"id\":\"05f755b1-7d2a-4d2a-b44a-7aa5facb57c0\",\"type\":\"ColumnDataSource\"},\"glyph\":{\"id\":\"d71f7dc0-0b37-4f97-b32f-af6ceb4d119e\",\"type\":\"Line\"},\"hover_glyph\":null,\"muted_glyph\":null,\"nonselection_glyph\":{\"id\":\"60f6c7be-8115-4b31-91d3-de32c9587e79\",\"type\":\"Line\"},\"selection_glyph\":null,\"view\":{\"id\":\"714550b6-dc72-4be4-9691-0615d4a84625\",\"type\":\"CDSView\"}},\"id\":\"ce9ed088-bbff-4fbc-8152-e5731799b714\",\"type\":\"GlyphRenderer\"},{\"attributes\":{\"callback\":null,\"column_names\":[\"x\",\"y\"],\"data\":{\"x\":{\"__ndarray__\":\"imo60H1Y1T854Kk27oPVP/ycim21O9Y/VwWLP2H71j/9/FKaKJ3XPzRf63MxHdg/yegd+jBz2D84OnwMNY7YP39duDm2Wtg/NAowyVTD1z83O+9SLK/WP2v23QB1+9Q/9MdRDNKE0j8g07kmzbTOP/UmTDnbs8w/9Q8iGXLs0D+fQqZjawnUP+r+uYFlGdY/qk9JCBzq1z9Xi3iAYRjbP9jKtpkr3+A/bkFC1ks65j/uhCxF0efnPzpjb5SCj+U/pZJsO46b4j/pU56rc23eP9u3QYqN+9g/geAabY+91D86LwTvmgbRP0FwS5r1GMs/T2a0PKzDxD+iNAZjZbC+Pxql9f7Z67U/K/C1ak6Trz9THqNdAVygP/wGQPlPAHO/H1nkyuWunb+BtEuQG8KYv/i1qrN+3Ve/UrDOSr0bjT9jr6D+7ZGdP2f1IpsqZqc/5wKm8sfLsD+3fRjsSYq2P93kfT3berw/8RQwicw/wT+Tq3kKkFPEPzMPqh56HMc/AGSVkBfryD+ta5MO//7KPxeLtpUkcM0/PlHhIe8J0D8MTDzaF1TRP2IYqHPiftI/TLzqnsiV0z8GQKIqIprUP9ZPYoSujNU/gxMTzH9l1j8e7U1GdBPXP8bP82VxmNc/3nBh1Qfv1z8919bTN/7XP6Q4BQFLkdc/b4HjtqaO1z9htvD+cD7WP+ali+KPQdQ/y5O1l34T0j/wAvyF5AXPP1B1I4fj1Mo/Vyhv0+GZxz8dIDV5DAfFP9rIlmGzDsM/Bpd1nC7NwT+3CsXKJsjBP/wKiP8qdsg/\",\"dtype\":\"float64\",\"shape\":[75]},\"y\":{\"__ndarray__\":\"GhExyth1ND/Sv8nbtpRIP2vylNV0PVE/aTum7souWD/At0SJ8fVgPw3Iuahxymc/MSNhhJWvcD/bTfBN02d3P2zb5nxnaoA/CD5h5MAGhz8NmeH1TyaQP+zrCsc9p5Y/LbKd76fGnz/bLW5ISEmmPww9YvTcQq8/JV2OstnstT8Er5Y7M8G+P0c+r3jqkcU/5h99k6ZBzj88bCIzFzjVP4enV8oyxN0//yH99nXg5D8qOpLLf0jtP5kqGJXUifQ/c9cS8kHP/D+/DpwzojQEQIEmwoanVwxA4lgXt9HgE0BSSZ2AJuIbQAMJih9jjiNA5q4l5INuK0AwTKYKRj0zQNv5fmq8/DpAaCJseHrtQkB/+zpwzoxKQM3MzMzMeFJAZmZmZmZqWEAAAAAAAFxeQM3MzMzMJmJAmpmZmZkfZUBmZmZmZhhoQDMzMzMzEWtAAAAAAAAKbkBmZmZmZoFwQM3MzMzM/XFAMzMzMzN6c0CamZmZmfZ0QAAAAAAAc3ZAZmZmZmbvd0DNzMzMzGt5QDMzMzMz6HpAmpmZmZlkfEAAAAAAAOF9QGZmZmZmXX9AZmZmZuZsgECamZmZGSuBQM3MzMxM6YFAAAAAAICngkAzMzMzs2WDQGZmZmbmI4RAmpmZmRnihEDNzMzMTKCFQAAAAACAXoZAMzMzM7Mch0BmZmZm5tqHQJqZmZkZmYhAzczMzExXiUAAAAAAgBWKQDMzMzOz04pAZmZmZuaRi0CamZmZGVCMQM3MzMxMDo1AAAAAAIDMjUAzMzMzs4qOQGZmZmbmSI9A\",\"dtype\":\"float64\",\"shape\":[75]}}},\"id\":\"9bdabb37-46b8-480c-b6de-39c8206b89e3\",\"type\":\"ColumnDataSource\"},{\"attributes\":{\"line_alpha\":0.1,\"line_color\":\"#1f77b4\",\"line_width\":1.5,\"x\":{\"field\":\"x\"},\"y\":{\"field\":\"y\"}},\"id\":\"60f6c7be-8115-4b31-91d3-de32c9587e79\",\"type\":\"Line\"},{\"attributes\":{\"callback\":null,\"column_names\":[\"x\",\"y\"],\"data\":{\"x\":{\"__ndarray__\":\"0PuUnV3C2j9jEmiPm4raP8x313ZmRNs/Ypkj0AXa2z9NPX+YjDzcPybWFI5BY9w/6K0uZegx3D/s5EZwp53bP7J8ZfdHjNo/dTHV5ffq2D9t5m/GWabWP/lCjs51sdM/6wpLdkv2zz8NKOX/n1THP6JR7C5x4MM/03+9X1jAyD8A/Pjw0QfQPxghfvYKqNM/e7zzOMoJ2D8L+Mr2AOHdP+Upac2oHOM/4UqwF46w6D+ohXksCdLpP7gkYqXdo+Y/qKv5+Qgf4z84GdFNzSveP0n/Pwx8Xtc/2MTZ358z0j/jZXarIdDMP2NdgY2QJsc/ZnlHW89vwj+iDgrOCW+8P04v+euKI7U/dAU5+ii7rj/XepsLF0qeP1Fu7ZFF0nm/9LOYpYu3nb+m3IcAA+iZvzYiSWXSM3W/LaZOznRZgj+sVe4XSUGXP8AfDKmTTaQ/b5HmVb7jrj8P/nt5zIO1P73HVwqa+bs/YG6cuSxLwT+8MIj+v6DEP8CbyZKUz8c/osCvTwg2yj+g7LmOadTMP8yENmu2k88/86dTP+sx0T/7by2sfpnSP92Qb4R/8NM/ZGZVOg4y1T/8kDMkWU3WP9bbbpsMO9c/Imz8skn41z8dtmd19n7YP1PktbcA2dg/ol0q2ywD2T9WVC+FKNvYPxL3eQi6KNg/fqag09rR1z/ahlmBhBXWP/zydkK3sNM/DZTKyuU10T+CGfj2UwjNP5I+zrAo18g/5fmhDDSjxT+vqNJgZBPDP1gmssUkEsE/dGWrJuNzvz9aZUOKQy6/P/+xMSvracY/\",\"dtype\":\"float64\",\"shape\":[75]},\"y\":{\"__ndarray__\":\"GhExyth1ND/Sv8nbtpRIP2vylNV0PVE/aTum7souWD/At0SJ8fVgPw3Iuahxymc/MSNhhJWvcD/bTfBN02d3P2zb5nxnaoA/CD5h5MAGhz8NmeH1TyaQP+zrCsc9p5Y/LbKd76fGnz/bLW5ISEmmPww9YvTcQq8/JV2OstnstT8Er5Y7M8G+P0c+r3jqkcU/5h99k6ZBzj88bCIzFzjVP4enV8oyxN0//yH99nXg5D8qOpLLf0jtP5kqGJXUifQ/c9cS8kHP/D+/DpwzojQEQIEmwoanVwxA4lgXt9HgE0BSSZ2AJuIbQAMJih9jjiNA5q4l5INuK0AwTKYKRj0zQNv5fmq8/DpAaCJseHrtQkB/+zpwzoxKQM3MzMzMeFJAZmZmZmZqWEAAAAAAAFxeQM3MzMzMJmJAmpmZmZkfZUBmZmZmZhhoQDMzMzMzEWtAAAAAAAAKbkBmZmZmZoFwQM3MzMzM/XFAMzMzMzN6c0CamZmZmfZ0QAAAAAAAc3ZAZmZmZmbvd0DNzMzMzGt5QDMzMzMz6HpAmpmZmZlkfEAAAAAAAOF9QGZmZmZmXX9AZmZmZuZsgECamZmZGSuBQM3MzMxM6YFAAAAAAICngkAzMzMzs2WDQGZmZmbmI4RAmpmZmRnihEDNzMzMTKCFQAAAAACAXoZAMzMzM7Mch0BmZmZm5tqHQJqZmZkZmYhAzczMzExXiUAAAAAAgBWKQDMzMzOz04pAZmZmZuaRi0CamZmZGVCMQM3MzMxMDo1AAAAAAIDMjUAzMzMzs4qOQGZmZmbmSI9A\",\"dtype\":\"float64\",\"shape\":[75]}}},\"id\":\"05f755b1-7d2a-4d2a-b44a-7aa5facb57c0\",\"type\":\"ColumnDataSource\"},{\"attributes\":{\"source\":{\"id\":\"05f755b1-7d2a-4d2a-b44a-7aa5facb57c0\",\"type\":\"ColumnDataSource\"}},\"id\":\"714550b6-dc72-4be4-9691-0615d4a84625\",\"type\":\"CDSView\"},{\"attributes\":{\"overlay\":{\"id\":\"3a02bbc7-84c5-4602-b452-8b0141de8e4e\",\"type\":\"BoxAnnotation\"}},\"id\":\"eb4147c5-67b1-498b-b8ed-90228d0214d2\",\"type\":\"BoxZoomTool\"},{\"attributes\":{\"fill_alpha\":{\"value\":0.7},\"fill_color\":{\"value\":\"#984ea3\"},\"line_alpha\":{\"value\":0.7},\"line_color\":{\"value\":\"#984ea3\"},\"x\":{\"field\":\"x\"},\"y\":{\"field\":\"y\"}},\"id\":\"b50c3499-5301-4b42-8b95-605bfa8d588a\",\"type\":\"Square\"},{\"attributes\":{\"bottom_units\":\"screen\",\"fill_alpha\":{\"value\":0.5},\"fill_color\":{\"value\":\"lightgrey\"},\"left_units\":\"screen\",\"level\":\"overlay\",\"line_alpha\":{\"value\":1.0},\"line_color\":{\"value\":\"black\"},\"line_dash\":[4,4],\"line_width\":{\"value\":2},\"plot\":null,\"render_mode\":\"css\",\"right_units\":\"screen\",\"top_units\":\"screen\"},\"id\":\"3a02bbc7-84c5-4602-b452-8b0141de8e4e\",\"type\":\"BoxAnnotation\"},{\"attributes\":{\"ticker\":null},\"id\":\"18350f64-45eb-4423-bbca-1e3b118ef6f3\",\"type\":\"LogTickFormatter\"},{\"attributes\":{\"line_alpha\":0.6,\"line_color\":\"#984ea3\",\"line_width\":3,\"x\":{\"field\":\"x\"},\"y\":{\"field\":\"y\"}},\"id\":\"765e4227-3f19-411d-9f7b-f62edfba25eb\",\"type\":\"Line\"},{\"attributes\":{},\"id\":\"c494af19-365d-454a-a933-16c2f348ee40\",\"type\":\"ResetTool\"},{\"attributes\":{\"source\":{\"id\":\"9bdabb37-46b8-480c-b6de-39c8206b89e3\",\"type\":\"ColumnDataSource\"}},\"id\":\"74f6915c-7ffe-4dfd-b5d5-10d8409ff500\",\"type\":\"CDSView\"},{\"attributes\":{\"fill_alpha\":{\"value\":0.1},\"fill_color\":{\"value\":\"#1f77b4\"},\"line_alpha\":{\"value\":0.1},\"line_color\":{\"value\":\"#1f77b4\"},\"x\":{\"field\":\"x\"},\"y\":{\"field\":\"y\"}},\"id\":\"c4840824-1782-48bb-b97e-aa5eeb8407a6\",\"type\":\"Square\"},{\"attributes\":{\"data_source\":{\"id\":\"9bdabb37-46b8-480c-b6de-39c8206b89e3\",\"type\":\"ColumnDataSource\"},\"glyph\":{\"id\":\"b50c3499-5301-4b42-8b95-605bfa8d588a\",\"type\":\"Square\"},\"hover_glyph\":null,\"muted_glyph\":null,\"nonselection_glyph\":{\"id\":\"c4840824-1782-48bb-b97e-aa5eeb8407a6\",\"type\":\"Square\"},\"selection_glyph\":null,\"view\":{\"id\":\"74f6915c-7ffe-4dfd-b5d5-10d8409ff500\",\"type\":\"CDSView\"}},\"id\":\"65002b0b-9f87-4198-84d5-9171ed5e2da9\",\"type\":\"GlyphRenderer\"},{\"attributes\":{\"children\":[{\"id\":\"a4fe6c9d-7009-4767-ab1f-ecba0c904aa5\",\"type\":\"ToolbarBox\"},{\"id\":\"f6d70297-4875-41ea-8656-a3f6cd24196d\",\"type\":\"Column\"}]},\"id\":\"b501b628-6b87-4b81-a313-061dce0d6425\",\"type\":\"Column\"},{\"attributes\":{},\"id\":\"4ca9a586-adf2-493b-9aa3-d82fb49721cf\",\"type\":\"HelpTool\"},{\"attributes\":{\"items\":[{\"id\":\"7db67b1e-9dbb-4587-bbff-baa05b4019cb\",\"type\":\"LegendItem\"},{\"id\":\"5eecfc0d-6763-4fd4-8292-d07e8dbbe2af\",\"type\":\"LegendItem\"},{\"id\":\"ed873738-8b46-4e46-85d6-cccba2821981\",\"type\":\"LegendItem\"}],\"label_text_font_size\":{\"value\":\"8pt\"},\"location\":[10,-30],\"plot\":{\"id\":\"75c5c679-460e-44de-9816-e3aa8d23ec67\",\"subtype\":\"Figure\",\"type\":\"Plot\"}},\"id\":\"3b036c67-0b08-4537-8d90-fd90af57c108\",\"type\":\"Legend\"},{\"attributes\":{\"source\":{\"id\":\"444c8e89-1ff8-4e6e-a63e-0fd1ed162161\",\"type\":\"ColumnDataSource\"}},\"id\":\"e8fd1c86-5a4b-472b-bc33-5747d2b96f1a\",\"type\":\"CDSView\"},{\"attributes\":{\"line_alpha\":0.1,\"line_color\":\"#1f77b4\",\"line_width\":3,\"x\":{\"field\":\"x\"},\"y\":{\"field\":\"y\"}},\"id\":\"73c98f7a-2fb8-407f-86c3-fe486d4fc058\",\"type\":\"Line\"},{\"attributes\":{\"data_source\":{\"id\":\"444c8e89-1ff8-4e6e-a63e-0fd1ed162161\",\"type\":\"ColumnDataSource\"},\"glyph\":{\"id\":\"765e4227-3f19-411d-9f7b-f62edfba25eb\",\"type\":\"Line\"},\"hover_glyph\":null,\"muted_glyph\":null,\"nonselection_glyph\":{\"id\":\"73c98f7a-2fb8-407f-86c3-fe486d4fc058\",\"type\":\"Line\"},\"selection_glyph\":null,\"view\":{\"id\":\"e8fd1c86-5a4b-472b-bc33-5747d2b96f1a\",\"type\":\"CDSView\"}},\"id\":\"672a4293-667b-4aee-85d8-8c97edc6ab24\",\"type\":\"GlyphRenderer\"},{\"attributes\":{\"label\":{\"value\":\"CLIRAD `coolr_bands`\"},\"renderers\":[{\"id\":\"59c3f87b-ed7c-4f57-9bdf-8144f9a06b98\",\"type\":\"GlyphRenderer\"}]},\"id\":\"7db67b1e-9dbb-4587-bbff-baa05b4019cb\",\"type\":\"LegendItem\"},{\"attributes\":{\"line_alpha\":0.1,\"line_color\":\"#1f77b4\",\"line_dash\":[6],\"line_width\":5,\"x\":{\"field\":\"x\"},\"y\":{\"field\":\"y\"}},\"id\":\"032ddc8a-3dd1-4cf0-88e1-4390c4c734b6\",\"type\":\"Line\"},{\"attributes\":{\"callback\":null,\"column_names\":[\"x\",\"y\"],\"data\":{\"x\":{\"__ndarray__\":\"imo60H1Y1T854Kk27oPVP/ycim21O9Y/VwWLP2H71j/9/FKaKJ3XPzRf63MxHdg/yegd+jBz2D84OnwMNY7YP39duDm2Wtg/NAowyVTD1z83O+9SLK/WP2v23QB1+9Q/9MdRDNKE0j8g07kmzbTOP/UmTDnbs8w/9Q8iGXLs0D+fQqZjawnUP+r+uYFlGdY/qk9JCBzq1z9Xi3iAYRjbP9jKtpkr3+A/bkFC1ks65j/uhCxF0efnPzpjb5SCj+U/pZJsO46b4j/pU56rc23eP9u3QYqN+9g/geAabY+91D86LwTvmgbRP0FwS5r1GMs/T2a0PKzDxD+iNAZjZbC+Pxql9f7Z67U/K/C1ak6Trz9THqNdAVygP/wGQPlPAHO/H1nkyuWunb+BtEuQG8KYv/i1qrN+3Ve/UrDOSr0bjT9jr6D+7ZGdP2f1IpsqZqc/5wKm8sfLsD+3fRjsSYq2P93kfT3berw/8RQwicw/wT+Tq3kKkFPEPzMPqh56HMc/AGSVkBfryD+ta5MO//7KPxeLtpUkcM0/PlHhIe8J0D8MTDzaF1TRP2IYqHPiftI/TLzqnsiV0z8GQKIqIprUP9ZPYoSujNU/gxMTzH9l1j8e7U1GdBPXP8bP82VxmNc/3nBh1Qfv1z8919bTN/7XP6Q4BQFLkdc/b4HjtqaO1z9htvD+cD7WP+ali+KPQdQ/y5O1l34T0j/wAvyF5AXPP1B1I4fj1Mo/Vyhv0+GZxz8dIDV5DAfFP9rIlmGzDsM/Bpd1nC7NwT+3CsXKJsjBP/wKiP8qdsg/\",\"dtype\":\"float64\",\"shape\":[75]},\"y\":{\"__ndarray__\":\"GhExyth1ND/Sv8nbtpRIP2vylNV0PVE/aTum7souWD/At0SJ8fVgPw3Iuahxymc/MSNhhJWvcD/bTfBN02d3P2zb5nxnaoA/CD5h5MAGhz8NmeH1TyaQP+zrCsc9p5Y/LbKd76fGnz/bLW5ISEmmPww9YvTcQq8/JV2OstnstT8Er5Y7M8G+P0c+r3jqkcU/5h99k6ZBzj88bCIzFzjVP4enV8oyxN0//yH99nXg5D8qOpLLf0jtP5kqGJXUifQ/c9cS8kHP/D+/DpwzojQEQIEmwoanVwxA4lgXt9HgE0BSSZ2AJuIbQAMJih9jjiNA5q4l5INuK0AwTKYKRj0zQNv5fmq8/DpAaCJseHrtQkB/+zpwzoxKQM3MzMzMeFJAZmZmZmZqWEAAAAAAAFxeQM3MzMzMJmJAmpmZmZkfZUBmZmZmZhhoQDMzMzMzEWtAAAAAAAAKbkBmZmZmZoFwQM3MzMzM/XFAMzMzMzN6c0CamZmZmfZ0QAAAAAAAc3ZAZmZmZmbvd0DNzMzMzGt5QDMzMzMz6HpAmpmZmZlkfEAAAAAAAOF9QGZmZmZmXX9AZmZmZuZsgECamZmZGSuBQM3MzMxM6YFAAAAAAICngkAzMzMzs2WDQGZmZmbmI4RAmpmZmRnihEDNzMzMTKCFQAAAAACAXoZAMzMzM7Mch0BmZmZm5tqHQJqZmZkZmYhAzczMzExXiUAAAAAAgBWKQDMzMzOz04pAZmZmZuaRi0CamZmZGVCMQM3MzMxMDo1AAAAAAIDMjUAzMzMzs4qOQGZmZmbmSI9A\",\"dtype\":\"float64\",\"shape\":[75]}}},\"id\":\"ed5b1b28-6852-41f2-8bfe-a9488529ea68\",\"type\":\"ColumnDataSource\"},{\"attributes\":{\"toolbar\":{\"id\":\"53bb1457-7aed-4e53-9437-54754e21868b\",\"type\":\"ProxyToolbar\"},\"toolbar_location\":\"above\"},\"id\":\"a4fe6c9d-7009-4767-ab1f-ecba0c904aa5\",\"type\":\"ToolbarBox\"},{\"attributes\":{\"tools\":[{\"id\":\"1e15a52c-ab78-40db-8864-86f491ef240c\",\"type\":\"PanTool\"},{\"id\":\"cba03c5f-3f2a-4c32-872e-331c6a0821f7\",\"type\":\"WheelZoomTool\"},{\"id\":\"d3147753-edf8-4ec2-9e34-059abb5cfa93\",\"type\":\"BoxZoomTool\"},{\"id\":\"0dd23073-9514-4b17-8111-f0065d21a03d\",\"type\":\"SaveTool\"},{\"id\":\"788852af-2b31-4351-8cd1-e41c91fb6ef3\",\"type\":\"ResetTool\"},{\"id\":\"4ca9a586-adf2-493b-9aa3-d82fb49721cf\",\"type\":\"HelpTool\"},{\"id\":\"8ac626a1-bd53-4e60-a047-aca04dfac9b4\",\"type\":\"PanTool\"},{\"id\":\"c857cb54-bd75-4dac-a924-9197649e06b3\",\"type\":\"WheelZoomTool\"},{\"id\":\"eb4147c5-67b1-498b-b8ed-90228d0214d2\",\"type\":\"BoxZoomTool\"},{\"id\":\"62bb0056-25d8-4722-9437-14f5d17a360a\",\"type\":\"SaveTool\"},{\"id\":\"c494af19-365d-454a-a933-16c2f348ee40\",\"type\":\"ResetTool\"},{\"id\":\"34cb8c16-e1c4-48b1-b98a-4fe14a58cca4\",\"type\":\"HelpTool\"}]},\"id\":\"53bb1457-7aed-4e53-9437-54754e21868b\",\"type\":\"ProxyToolbar\"},{\"attributes\":{},\"id\":\"4e7ca1ce-b8d6-477d-a0a4-4df3af99d516\",\"type\":\"BasicTickFormatter\"},{\"attributes\":{\"data_source\":{\"id\":\"246872d6-6558-49df-a066-007f6b801092\",\"type\":\"ColumnDataSource\"},\"glyph\":{\"id\":\"fcdcf34b-e467-446b-abba-17544cff1ea2\",\"type\":\"Square\"},\"hover_glyph\":null,\"muted_glyph\":null,\"nonselection_glyph\":{\"id\":\"934c693b-1cde-47cc-8e16-d916d6c711d1\",\"type\":\"Square\"},\"selection_glyph\":null,\"view\":{\"id\":\"1d1ecbfa-bdec-47c9-ad6d-7eaf95ff2c72\",\"type\":\"CDSView\"}},\"id\":\"7ee159e6-664f-4804-a4a1-84499947c7af\",\"type\":\"GlyphRenderer\"},{\"attributes\":{\"label\":{\"value\":\"CRD\"},\"renderers\":[{\"id\":\"549f5c1f-da97-4821-89e1-a6744565dfdd\",\"type\":\"GlyphRenderer\"},{\"id\":\"ce9ed088-bbff-4fbc-8152-e5731799b714\",\"type\":\"GlyphRenderer\"}]},\"id\":\"5eecfc0d-6763-4fd4-8292-d07e8dbbe2af\",\"type\":\"LegendItem\"},{\"attributes\":{\"data_source\":{\"id\":\"df52a3a8-8980-4fa1-9d34-efdf52f806f2\",\"type\":\"ColumnDataSource\"},\"glyph\":{\"id\":\"7bbdd8c5-4d44-439e-a441-e91fb7d25bed\",\"type\":\"Line\"},\"hover_glyph\":null,\"muted_glyph\":null,\"nonselection_glyph\":{\"id\":\"032ddc8a-3dd1-4cf0-88e1-4390c4c734b6\",\"type\":\"Line\"},\"selection_glyph\":null,\"view\":{\"id\":\"da6e060a-b464-470e-8826-ae01bf3a6820\",\"type\":\"CDSView\"}},\"id\":\"59c3f87b-ed7c-4f57-9bdf-8144f9a06b98\",\"type\":\"GlyphRenderer\"},{\"attributes\":{\"callback\":null,\"column_names\":[\"x\",\"y\"],\"data\":{\"x\":{\"__ndarray__\":\"0PuUnV3C2j9jEmiPm4raP8x313ZmRNs/Ypkj0AXa2z9NPX+YjDzcPybWFI5BY9w/6K0uZegx3D/s5EZwp53bP7J8ZfdHjNo/dTHV5ffq2D9t5m/GWabWP/lCjs51sdM/6wpLdkv2zz8NKOX/n1THP6JR7C5x4MM/03+9X1jAyD8A/Pjw0QfQPxghfvYKqNM/e7zzOMoJ2D8L+Mr2AOHdP+Upac2oHOM/4UqwF46w6D+ohXksCdLpP7gkYqXdo+Y/qKv5+Qgf4z84GdFNzSveP0n/Pwx8Xtc/2MTZ358z0j/jZXarIdDMP2NdgY2QJsc/ZnlHW89vwj+iDgrOCW+8P04v+euKI7U/dAU5+ii7rj/XepsLF0qeP1Fu7ZFF0nm/9LOYpYu3nb+m3IcAA+iZvzYiSWXSM3W/LaZOznRZgj+sVe4XSUGXP8AfDKmTTaQ/b5HmVb7jrj8P/nt5zIO1P73HVwqa+bs/YG6cuSxLwT+8MIj+v6DEP8CbyZKUz8c/osCvTwg2yj+g7LmOadTMP8yENmu2k88/86dTP+sx0T/7by2sfpnSP92Qb4R/8NM/ZGZVOg4y1T/8kDMkWU3WP9bbbpsMO9c/Imz8skn41z8dtmd19n7YP1PktbcA2dg/ol0q2ywD2T9WVC+FKNvYPxL3eQi6KNg/fqag09rR1z/ahlmBhBXWP/zydkK3sNM/DZTKyuU10T+CGfj2UwjNP5I+zrAo18g/5fmhDDSjxT+vqNJgZBPDP1gmssUkEsE/dGWrJuNzvz9aZUOKQy6/P/+xMSvracY/\",\"dtype\":\"float64\",\"shape\":[75]},\"y\":{\"__ndarray__\":\"GhExyth1ND/Sv8nbtpRIP2vylNV0PVE/aTum7souWD/At0SJ8fVgPw3Iuahxymc/MSNhhJWvcD/bTfBN02d3P2zb5nxnaoA/CD5h5MAGhz8NmeH1TyaQP+zrCsc9p5Y/LbKd76fGnz/bLW5ISEmmPww9YvTcQq8/JV2OstnstT8Er5Y7M8G+P0c+r3jqkcU/5h99k6ZBzj88bCIzFzjVP4enV8oyxN0//yH99nXg5D8qOpLLf0jtP5kqGJXUifQ/c9cS8kHP/D+/DpwzojQEQIEmwoanVwxA4lgXt9HgE0BSSZ2AJuIbQAMJih9jjiNA5q4l5INuK0AwTKYKRj0zQNv5fmq8/DpAaCJseHrtQkB/+zpwzoxKQM3MzMzMeFJAZmZmZmZqWEAAAAAAAFxeQM3MzMzMJmJAmpmZmZkfZUBmZmZmZhhoQDMzMzMzEWtAAAAAAAAKbkBmZmZmZoFwQM3MzMzM/XFAMzMzMzN6c0CamZmZmfZ0QAAAAAAAc3ZAZmZmZmbvd0DNzMzMzGt5QDMzMzMz6HpAmpmZmZlkfEAAAAAAAOF9QGZmZmZmXX9AZmZmZuZsgECamZmZGSuBQM3MzMxM6YFAAAAAAICngkAzMzMzs2WDQGZmZmbmI4RAmpmZmRnihEDNzMzMTKCFQAAAAACAXoZAMzMzM7Mch0BmZmZm5tqHQJqZmZkZmYhAzczMzExXiUAAAAAAgBWKQDMzMzOz04pAZmZmZuaRi0CamZmZGVCMQM3MzMxMDo1AAAAAAIDMjUAzMzMzs4qOQGZmZmbmSI9A\",\"dtype\":\"float64\",\"shape\":[75]}}},\"id\":\"b4c57933-3a93-4bbc-a908-51b84d56e568\",\"type\":\"ColumnDataSource\"},{\"attributes\":{\"source\":{\"id\":\"246872d6-6558-49df-a066-007f6b801092\",\"type\":\"ColumnDataSource\"}},\"id\":\"1d1ecbfa-bdec-47c9-ad6d-7eaf95ff2c72\",\"type\":\"CDSView\"},{\"attributes\":{\"bottom_units\":\"screen\",\"fill_alpha\":{\"value\":0.5},\"fill_color\":{\"value\":\"lightgrey\"},\"left_units\":\"screen\",\"level\":\"overlay\",\"line_alpha\":{\"value\":1.0},\"line_color\":{\"value\":\"black\"},\"line_dash\":[4,4],\"line_width\":{\"value\":2},\"plot\":null,\"render_mode\":\"css\",\"right_units\":\"screen\",\"top_units\":\"screen\"},\"id\":\"5099154d-80fc-4c4b-a51a-992bcb5a608b\",\"type\":\"BoxAnnotation\"},{\"attributes\":{\"source\":{\"id\":\"3313a2e5-cd0c-4fe0-ad02-9531145a0ce7\",\"type\":\"ColumnDataSource\"}},\"id\":\"2d0f20b2-5955-4d46-8c2d-26ffadb0fc07\",\"type\":\"CDSView\"},{\"attributes\":{},\"id\":\"67e47c2d-157e-4b49-90d9-340b75876b7d\",\"type\":\"BasicTickFormatter\"},{\"attributes\":{\"line_alpha\":0.6,\"line_color\":\"#e41a1c\",\"line_dash\":[6],\"line_width\":5,\"x\":{\"field\":\"x\"},\"y\":{\"field\":\"y\"}},\"id\":\"ea2f960b-2395-4486-859f-cbd85224da3d\",\"type\":\"Line\"}],\"root_ids\":[\"b501b628-6b87-4b81-a313-061dce0d6425\"]},\"title\":\"Bokeh Application\",\"version\":\"0.12.14\"}};\n",
       "  var render_items = [{\"docid\":\"ce37bb65-7473-4b34-b58b-c48b9a55a32b\",\"elementid\":\"99549e02-b792-4f30-aee9-7639d9ab6deb\",\"modelid\":\"b501b628-6b87-4b81-a313-061dce0d6425\"}];\n",
       "  root.Bokeh.embed.embed_items_notebook(docs_json, render_items);\n",
       "\n",
       "  }\n",
       "  if (root.Bokeh !== undefined) {\n",
       "    embed_document(root);\n",
       "  } else {\n",
       "    var attempts = 0;\n",
       "    var timer = setInterval(function(root) {\n",
       "      if (root.Bokeh !== undefined) {\n",
       "        embed_document(root);\n",
       "        clearInterval(timer);\n",
       "      }\n",
       "      attempts++;\n",
       "      if (attempts > 100) {\n",
       "        console.log(\"Bokeh: ERROR: Unable to run BokehJS code because BokehJS library is missing\")\n",
       "        clearInterval(timer);\n",
       "      }\n",
       "    }, 10, root)\n",
       "  }\n",
       "})(window);"
      ],
      "application/vnd.bokehjs_exec.v0+json": ""
     },
     "metadata": {
      "application/vnd.bokehjs_exec.v0+json": {
       "id": "b501b628-6b87-4b81-a313-061dce0d6425"
      }
     },
     "output_type": "display_data"
    },
    {
     "name": "stdout",
     "output_type": "stream",
     "text": [
      "FIGURE. Cooling rate profiles.\n"
     ]
    },
    {
     "data": {
      "text/html": [
       "<a id=\"Flux_Comparison\"></a>"
      ],
      "text/plain": [
       "<IPython.core.display.HTML object>"
      ]
     },
     "metadata": {},
     "output_type": "display_data"
    },
    {
     "data": {
      "text/markdown": [
       "# Flux Comparison"
      ],
      "text/plain": [
       "<IPython.core.display.Markdown object>"
      ]
     },
     "metadata": {},
     "output_type": "display_data"
    },
    {
     "data": {
      "text/html": [
       "<div>\n",
       "<style>\n",
       "    .dataframe thead tr:only-child th {\n",
       "        text-align: right;\n",
       "    }\n",
       "\n",
       "    .dataframe thead th {\n",
       "        text-align: left;\n",
       "    }\n",
       "\n",
       "    .dataframe tbody tr th {\n",
       "        vertical-align: top;\n",
       "    }\n",
       "</style>\n",
       "<table border=\"1\" class=\"dataframe\">\n",
       "  <thead>\n",
       "    <tr style=\"text-align: right;\">\n",
       "      <th></th>\n",
       "      <th></th>\n",
       "      <th>flug</th>\n",
       "      <th>fldg</th>\n",
       "      <th>fnetg</th>\n",
       "    </tr>\n",
       "    <tr>\n",
       "      <th>pressure</th>\n",
       "      <th>level</th>\n",
       "      <th></th>\n",
       "      <th></th>\n",
       "      <th></th>\n",
       "    </tr>\n",
       "  </thead>\n",
       "  <tbody>\n",
       "    <tr>\n",
       "      <th>0.0000</th>\n",
       "      <th>1</th>\n",
       "      <td>-25.277188</td>\n",
       "      <td>0.000000</td>\n",
       "      <td>-25.277188</td>\n",
       "    </tr>\n",
       "    <tr>\n",
       "      <th>1.0685</th>\n",
       "      <th>24</th>\n",
       "      <td>-25.276180</td>\n",
       "      <td>0.070059</td>\n",
       "      <td>-25.206121</td>\n",
       "    </tr>\n",
       "    <tr>\n",
       "      <th>1013.0000</th>\n",
       "      <th>76</th>\n",
       "      <td>-38.491734</td>\n",
       "      <td>36.952139</td>\n",
       "      <td>-1.539595</td>\n",
       "    </tr>\n",
       "  </tbody>\n",
       "</table>\n",
       "</div>"
      ],
      "text/plain": [
       "                      flug       fldg      fnetg\n",
       "pressure  level                                 \n",
       "0.0000    1     -25.277188   0.000000 -25.277188\n",
       "1.0685    24    -25.276180   0.070059 -25.206121\n",
       "1013.0000 76    -38.491734  36.952139  -1.539595"
      ]
     },
     "metadata": {},
     "output_type": "display_data"
    },
    {
     "name": "stdout",
     "output_type": "stream",
     "text": [
      "Table. Fluxes. WGT igg=10 wgt_flux=1\n"
     ]
    },
    {
     "data": {
      "text/html": [
       "<div>\n",
       "<style>\n",
       "    .dataframe thead tr:only-child th {\n",
       "        text-align: right;\n",
       "    }\n",
       "\n",
       "    .dataframe thead th {\n",
       "        text-align: left;\n",
       "    }\n",
       "\n",
       "    .dataframe tbody tr th {\n",
       "        vertical-align: top;\n",
       "    }\n",
       "</style>\n",
       "<table border=\"1\" class=\"dataframe\">\n",
       "  <thead>\n",
       "    <tr style=\"text-align: right;\">\n",
       "      <th></th>\n",
       "      <th></th>\n",
       "      <th>flug</th>\n",
       "      <th>fldg</th>\n",
       "      <th>fnetg</th>\n",
       "    </tr>\n",
       "    <tr>\n",
       "      <th>pressure</th>\n",
       "      <th>level</th>\n",
       "      <th></th>\n",
       "      <th></th>\n",
       "      <th></th>\n",
       "    </tr>\n",
       "  </thead>\n",
       "  <tbody>\n",
       "    <tr>\n",
       "      <th>0.0000</th>\n",
       "      <th>1</th>\n",
       "      <td>-25.162348</td>\n",
       "      <td>0.000000</td>\n",
       "      <td>-25.162348</td>\n",
       "    </tr>\n",
       "    <tr>\n",
       "      <th>1.0685</th>\n",
       "      <th>24</th>\n",
       "      <td>-25.161930</td>\n",
       "      <td>0.075640</td>\n",
       "      <td>-25.086290</td>\n",
       "    </tr>\n",
       "    <tr>\n",
       "      <th>1013.0000</th>\n",
       "      <th>76</th>\n",
       "      <td>-38.491734</td>\n",
       "      <td>37.325351</td>\n",
       "      <td>-1.166383</td>\n",
       "    </tr>\n",
       "  </tbody>\n",
       "</table>\n",
       "</div>"
      ],
      "text/plain": [
       "                      flug       fldg      fnetg\n",
       "pressure  level                                 \n",
       "0.0000    1     -25.162348   0.000000 -25.162348\n",
       "1.0685    24    -25.161930   0.075640 -25.086290\n",
       "1013.0000 76    -38.491734  37.325351  -1.166383"
      ]
     },
     "metadata": {},
     "output_type": "display_data"
    },
    {
     "name": "stdout",
     "output_type": "stream",
     "text": [
      "Table. Fluxes. CRD\n"
     ]
    },
    {
     "data": {
      "text/html": [
       "<div>\n",
       "<style>\n",
       "    .dataframe thead tr:only-child th {\n",
       "        text-align: right;\n",
       "    }\n",
       "\n",
       "    .dataframe thead th {\n",
       "        text-align: left;\n",
       "    }\n",
       "\n",
       "    .dataframe tbody tr th {\n",
       "        vertical-align: top;\n",
       "    }\n",
       "</style>\n",
       "<table border=\"1\" class=\"dataframe\">\n",
       "  <thead>\n",
       "    <tr style=\"text-align: right;\">\n",
       "      <th></th>\n",
       "      <th></th>\n",
       "      <th>flug</th>\n",
       "      <th>fldg</th>\n",
       "      <th>fnetg</th>\n",
       "    </tr>\n",
       "    <tr>\n",
       "      <th>pressure</th>\n",
       "      <th>level</th>\n",
       "      <th></th>\n",
       "      <th></th>\n",
       "      <th></th>\n",
       "    </tr>\n",
       "  </thead>\n",
       "  <tbody>\n",
       "    <tr>\n",
       "      <th>1.000000e-08</th>\n",
       "      <th>1</th>\n",
       "      <td>-25.452410</td>\n",
       "      <td>0.000002</td>\n",
       "      <td>-25.452408</td>\n",
       "    </tr>\n",
       "    <tr>\n",
       "      <th>1.068500e+00</th>\n",
       "      <th>24</th>\n",
       "      <td>-25.450876</td>\n",
       "      <td>0.066600</td>\n",
       "      <td>-25.384277</td>\n",
       "    </tr>\n",
       "    <tr>\n",
       "      <th>1.013000e+03</th>\n",
       "      <th>76</th>\n",
       "      <td>-38.491730</td>\n",
       "      <td>37.122715</td>\n",
       "      <td>-1.369015</td>\n",
       "    </tr>\n",
       "  </tbody>\n",
       "</table>\n",
       "</div>"
      ],
      "text/plain": [
       "                         flug       fldg      fnetg\n",
       "pressure     level                                 \n",
       "1.000000e-08 1     -25.452410   0.000002 -25.452408\n",
       "1.068500e+00 24    -25.450876   0.066600 -25.384277\n",
       "1.013000e+03 76    -38.491730  37.122715  -1.369015"
      ]
     },
     "metadata": {},
     "output_type": "display_data"
    },
    {
     "name": "stdout",
     "output_type": "stream",
     "text": [
      "Table. Fluxes. CLIRAD\n"
     ]
    },
    {
     "data": {
      "text/html": [
       "<div>\n",
       "<style>\n",
       "    .dataframe thead tr:only-child th {\n",
       "        text-align: right;\n",
       "    }\n",
       "\n",
       "    .dataframe thead th {\n",
       "        text-align: left;\n",
       "    }\n",
       "\n",
       "    .dataframe tbody tr th {\n",
       "        vertical-align: top;\n",
       "    }\n",
       "</style>\n",
       "<table border=\"1\" class=\"dataframe\">\n",
       "  <thead>\n",
       "    <tr style=\"text-align: right;\">\n",
       "      <th></th>\n",
       "      <th></th>\n",
       "      <th>flug</th>\n",
       "      <th>fldg</th>\n",
       "      <th>fnetg</th>\n",
       "    </tr>\n",
       "    <tr>\n",
       "      <th>pressure</th>\n",
       "      <th>level</th>\n",
       "      <th></th>\n",
       "      <th></th>\n",
       "      <th></th>\n",
       "    </tr>\n",
       "  </thead>\n",
       "  <tbody>\n",
       "    <tr>\n",
       "      <th>0.0000</th>\n",
       "      <th>1</th>\n",
       "      <td>0.11484</td>\n",
       "      <td>0.000000</td>\n",
       "      <td>0.114840</td>\n",
       "    </tr>\n",
       "    <tr>\n",
       "      <th>1.0685</th>\n",
       "      <th>24</th>\n",
       "      <td>0.11425</td>\n",
       "      <td>0.005581</td>\n",
       "      <td>0.119831</td>\n",
       "    </tr>\n",
       "    <tr>\n",
       "      <th>1013.0000</th>\n",
       "      <th>76</th>\n",
       "      <td>0.00000</td>\n",
       "      <td>0.373212</td>\n",
       "      <td>0.373212</td>\n",
       "    </tr>\n",
       "  </tbody>\n",
       "</table>\n",
       "</div>"
      ],
      "text/plain": [
       "                    flug      fldg     fnetg\n",
       "pressure  level                             \n",
       "0.0000    1      0.11484  0.000000  0.114840\n",
       "1.0685    24     0.11425  0.005581  0.119831\n",
       "1013.0000 76     0.00000  0.373212  0.373212"
      ]
     },
     "metadata": {},
     "output_type": "display_data"
    },
    {
     "name": "stdout",
     "output_type": "stream",
     "text": [
      "Table. Fluxes. (CRD) - (WGT igg=10 wgt_flux=1)\n"
     ]
    },
    {
     "data": {
      "text/html": [
       "<div>\n",
       "<style>\n",
       "    .dataframe thead tr:only-child th {\n",
       "        text-align: right;\n",
       "    }\n",
       "\n",
       "    .dataframe thead th {\n",
       "        text-align: left;\n",
       "    }\n",
       "\n",
       "    .dataframe tbody tr th {\n",
       "        vertical-align: top;\n",
       "    }\n",
       "</style>\n",
       "<table border=\"1\" class=\"dataframe\">\n",
       "  <thead>\n",
       "    <tr style=\"text-align: right;\">\n",
       "      <th></th>\n",
       "      <th></th>\n",
       "      <th>flug</th>\n",
       "      <th>fldg</th>\n",
       "      <th>fnetg</th>\n",
       "    </tr>\n",
       "    <tr>\n",
       "      <th>pressure</th>\n",
       "      <th>level</th>\n",
       "      <th></th>\n",
       "      <th></th>\n",
       "      <th></th>\n",
       "    </tr>\n",
       "  </thead>\n",
       "  <tbody>\n",
       "    <tr>\n",
       "      <th>0.0000</th>\n",
       "      <th>1</th>\n",
       "      <td>-0.175222</td>\n",
       "      <td>0.000002</td>\n",
       "      <td>-0.175220</td>\n",
       "    </tr>\n",
       "    <tr>\n",
       "      <th>1.0685</th>\n",
       "      <th>24</th>\n",
       "      <td>-0.174696</td>\n",
       "      <td>-0.003460</td>\n",
       "      <td>-0.178156</td>\n",
       "    </tr>\n",
       "    <tr>\n",
       "      <th>1013.0000</th>\n",
       "      <th>76</th>\n",
       "      <td>0.000004</td>\n",
       "      <td>0.170576</td>\n",
       "      <td>0.170581</td>\n",
       "    </tr>\n",
       "  </tbody>\n",
       "</table>\n",
       "</div>"
      ],
      "text/plain": [
       "                     flug      fldg     fnetg\n",
       "pressure  level                              \n",
       "0.0000    1     -0.175222  0.000002 -0.175220\n",
       "1.0685    24    -0.174696 -0.003460 -0.178156\n",
       "1013.0000 76     0.000004  0.170576  0.170581"
      ]
     },
     "metadata": {},
     "output_type": "display_data"
    },
    {
     "name": "stdout",
     "output_type": "stream",
     "text": [
      "Table. Fluxes. (CLIRAD) - (WGT igg=10 wgt_flux=1)\n"
     ]
    },
    {
     "data": {
      "text/html": [
       "<a id=\"Best-fit_Parameters\"></a>"
      ],
      "text/plain": [
       "<IPython.core.display.HTML object>"
      ]
     },
     "metadata": {},
     "output_type": "display_data"
    },
    {
     "data": {
      "text/markdown": [
       "# Best-fit Parameters"
      ],
      "text/plain": [
       "<IPython.core.display.Markdown object>"
      ]
     },
     "metadata": {},
     "output_type": "display_data"
    },
    {
     "name": "stdout",
     "output_type": "stream",
     "text": [
      "Best-fit values for each (gas, band)\n",
      "------------------------------------\n",
      "o co2 band3a\n",
      "  atmpro = mls\n",
      "  band = 3a\n",
      "  commitnumber = 2bd1f75\n",
      "  conc = 0.0004\n",
      "  dv = 0.01\n",
      "  klin = 6.375563e-24\n",
      "  molecule = co2\n",
      "  ng_adju = [0, 0, 0]\n",
      "  ng_refs = [3, 2, 4]\n",
      "  nv = 100\n",
      "  option_compute_btable = 0\n",
      "  option_compute_ktable = 1\n",
      "  option_wgt_flux = 1\n",
      "  option_wgt_k = 1\n",
      "  ref_pts = [(1, 250), (10, 250), (500, 250)]\n",
      "  tsfc = 294\n",
      "  vmax = 620\n",
      "  vmin = 540\n",
      "  w_diffuse = [(1.6, 1.6, 1.7), (1.75, 1.75), (1.55, 1.55, 1.6, 1.85)]\n",
      "  wgt = [(0.7, 0.3, 0.7), (0.7, 0.6), (0.4, 0.5, 0.8, 0.95)]\n",
      "o h2o band3a\n",
      "  atmpro = mls\n",
      "  band = 3a\n",
      "  commitnumber = 2bd1f75\n",
      "  conc = None\n",
      "  dv = 0.01\n",
      "  klin = 0\n",
      "  molecule = h2o\n",
      "  ng_adju = [0, 0]\n",
      "  ng_refs = [2, 6]\n",
      "  nv = 100\n",
      "  option_compute_btable = 0\n",
      "  option_compute_ktable = 1\n",
      "  option_wgt_flux = 1\n",
      "  option_wgt_k = 1\n",
      "  ref_pts = [(10, 250), (600, 250)]\n",
      "  tsfc = 294\n",
      "  vmax = 620\n",
      "  vmin = 540\n",
      "  w_diffuse = [(1.9, 1.7), (1.4, 1.4, 1.4, 1.55, 1.6, 1.66)]\n",
      "  wgt = [(0.7, 0.7), (0.7, 0.5, 0.5, 0.5, 0.5, 0.5)]\n",
      "o n2o band3a\n",
      "  atmpro = mls\n",
      "  band = 3a\n",
      "  commitnumber = 2bd1f75\n",
      "  conc = 3.2e-07\n",
      "  dv = 0.01\n",
      "  klin = 2.22e-20\n",
      "  molecule = n2o\n",
      "  ng_adju = [0, 0]\n",
      "  ng_refs = [1, 2]\n",
      "  nv = 100\n",
      "  option_compute_btable = 0\n",
      "  option_compute_ktable = 1\n",
      "  option_wgt_flux = 1\n",
      "  option_wgt_k = 1\n",
      "  ref_pts = [(1, 250), (500, 250)]\n",
      "  tsfc = 294\n",
      "  vmax = 620\n",
      "  vmin = 540\n",
      "  w_diffuse = [(1.8,), (1.66, 1.8)]\n",
      "  wgt = [(0.9,), (0.5, 0.95)]\n"
     ]
    }
   ],
   "source": [
    "script()"
   ]
  },
  {
   "cell_type": "code",
   "execution_count": 13,
   "metadata": {
    "collapsed": true
   },
   "outputs": [
    {
     "data": {
      "text/html": [
       "<script>\n",
       "code_show=true; \n",
       "function code_toggle() {\n",
       " if (code_show){\n",
       " $('div.input').hide();\n",
       " } else {\n",
       " $('div.input').show();\n",
       " }\n",
       " code_show = !code_show\n",
       "} \n",
       "$( document ).ready(code_toggle);\n",
       "</script>\n",
       "<form action=\"javascript:code_toggle()\"><input type=\"submit\" value=\"Click here to toggle on/off the raw code.\"></form>"
      ],
      "text/plain": [
       "<IPython.core.display.HTML object>"
      ]
     },
     "execution_count": 13,
     "metadata": {},
     "output_type": "execute_result"
    }
   ],
   "source": [
    "display.HTML('''<script>\n",
    "code_show=true; \n",
    "function code_toggle() {\n",
    " if (code_show){\n",
    " $('div.input').hide();\n",
    " } else {\n",
    " $('div.input').show();\n",
    " }\n",
    " code_show = !code_show\n",
    "} \n",
    "$( document ).ready(code_toggle);\n",
    "</script>\n",
    "<form action=\"javascript:code_toggle()\"><input type=\"submit\" value=\"Click here to toggle on/off the raw code.\"></form>''')"
   ]
  }
 ],
 "metadata": {
  "kernelspec": {
   "display_name": "Python 3",
   "language": "python",
   "name": "python3"
  },
  "language_info": {
   "codemirror_mode": {
    "name": "ipython",
    "version": 3
   },
   "file_extension": ".py",
   "mimetype": "text/x-python",
   "name": "python",
   "nbconvert_exporter": "python",
   "pygments_lexer": "ipython3",
   "version": "3.6.1"
  }
 },
 "nbformat": 4,
 "nbformat_minor": 2
}
