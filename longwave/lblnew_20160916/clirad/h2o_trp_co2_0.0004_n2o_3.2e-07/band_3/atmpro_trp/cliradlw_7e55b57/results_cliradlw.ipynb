{
 "cells": [
  {
   "cell_type": "code",
   "execution_count": 1,
   "metadata": {
    "collapsed": true
   },
   "outputs": [],
   "source": [
    "%matplotlib inline\n",
    "import os\n",
    "import re\n",
    "import io\n",
    "import itertools\n",
    "import pprint\n",
    "\n",
    "from bokeh.io import output_notebook, show\n",
    "from bokeh.layouts import gridplot\n",
    "from bokeh.plotting import figure\n",
    "from bokeh.models import Range1d, Legend\n",
    "from bokeh.palettes import all_palettes\n",
    "\n",
    "import matplotlib\n",
    "import matplotlib.pyplot as plt\n",
    "import numpy as np\n",
    "import pandas as pd\n",
    "import xarray as xr\n",
    "\n",
    "import climatools.lblnew.bestfit_params as bestfits\n",
    "from climatools.lblnew import setup_bestfit, setup_overlap\n",
    "import climatools.lblnew.pipeline as pipe_lblnew\n",
    "import climatools.cliradlw.setup as setup_cliradlw\n",
    "import climatools.cliradlw.pipeline as pipe_cliradlw\n",
    "\n",
    "import climatools.html.html as climahtml\n",
    "from climatools.lblnew.dataio import *\n",
    "from climatools.plot.plot import *\n",
    "\n",
    "\n",
    "import IPython.display as display"
   ]
  },
  {
   "cell_type": "code",
   "execution_count": 2,
   "metadata": {
    "collapsed": true
   },
   "outputs": [],
   "source": [
    "%run param.py"
   ]
  },
  {
   "cell_type": "code",
   "execution_count": 3,
   "metadata": {
    "collapsed": true
   },
   "outputs": [],
   "source": [
    "def load_output_file(path_csv):\n",
    "    '''\n",
    "    Load lblnew output .csv file to xarray.Dataset\n",
    "    \n",
    "    Parameters\n",
    "    ----------\n",
    "    path_csv: str\n",
    "              Path to the .csv file to be loaded.\n",
    "    ds: xarray.Dataset\n",
    "        Data in the input file in the form of an xarray.Dataset.\n",
    "    '''\n",
    "    toindex = ['band', 'pressure', 'igg', 'g']    \n",
    "    df = pd.read_csv(path_csv, sep=r'\\s+')\n",
    "    df = df.set_index([i for i in toindex if i in df.columns])\n",
    "    df = df.rename(columns={'sfu': 'flug',\n",
    "                            'sfd': 'fldg',\n",
    "                            'fnet': 'fnetg',\n",
    "                            'coolr': 'coolrg'})\n",
    "    ds = xr.Dataset.from_dataframe(df)\n",
    "\n",
    "    for l in ('level', 'layer'):\n",
    "        if l in ds.data_vars:\n",
    "            if len(ds[l].dims) > 1:\n",
    "                surface = {d: 0 for d in ds.dims if d != 'pressure'}\n",
    "                coord_level = ds[l][surface]\n",
    "                ds.coords[l] = ('pressure', coord_level)\n",
    "            else:\n",
    "                ds.coords[l] = ('pressure', ds[l])\n",
    "    \n",
    "    return ds"
   ]
  },
  {
   "cell_type": "code",
   "execution_count": 4,
   "metadata": {
    "collapsed": true
   },
   "outputs": [],
   "source": [
    "def lblnew_setup(param=None):\n",
    "    if 'ng_refs' in param:\n",
    "        return {'setup': setup_bestfit,\n",
    "                'fname_flux_crd': 'output_flux.dat',\n",
    "                'fname_cool_crd': 'output_coolr.dat',\n",
    "                'fname_flux_wgt': 'output_wfluxg.dat',\n",
    "                'fname_cool_wgt': 'output_wcoolrg.dat'}\n",
    "    else:\n",
    "        return {'setup': setup_overlap,\n",
    "                'fname_flux_crd': 'output_flux.dat',\n",
    "                'fname_cool_crd': 'output_coolr.dat',\n",
    "                'fname_flux_wgt': 'output_wflux.dat',\n",
    "                'fname_cool_wgt': 'output_wcoolr.dat'}\n",
    "\n",
    "    \n",
    "def load_lblnew_data(param):\n",
    "    \n",
    "    fname_dsname = [('fname_flux_crd', 'ds_flux_crd'),\n",
    "                    ('fname_cool_crd', 'ds_cool_crd'),\n",
    "                    ('fname_flux_wgt', 'ds_flux_wgt'),\n",
    "                    ('fname_cool_wgt', 'ds_cool_wgt')]\n",
    "    \n",
    "    d = lblnew_setup(param)\n",
    "    dir_fortran = pipe_lblnew.get_dir_case(param, setup=d['setup'])\n",
    "    \n",
    "    data_dict = {}\n",
    "    for fname, dsname in fname_dsname:\n",
    "        fpath = os.path.join(dir_fortran, d[fname])\n",
    "        data_dict[dsname] = load_output_file(fpath)\n",
    "    return data_dict\n",
    "    \n",
    "\n",
    "    \n",
    "    "
   ]
  },
  {
   "cell_type": "code",
   "execution_count": 5,
   "metadata": {
    "collapsed": true
   },
   "outputs": [],
   "source": [
    "d = load_lblnew_data(PARAM_LBLNEW)\n",
    "\n",
    "DS_FLUX_CRD = d['ds_flux_crd']\n",
    "DS_COOL_CRD = d['ds_cool_crd']\n",
    "DS_FLUX_WGT = d['ds_flux_wgt']\n",
    "DS_COOL_WGT = d['ds_cool_wgt']"
   ]
  },
  {
   "cell_type": "code",
   "execution_count": 6,
   "metadata": {
    "collapsed": true
   },
   "outputs": [],
   "source": [
    "DIR_FORTRAN = pipe_cliradlw.get_fortran_dir(PARAM, \n",
    "                                            setup=setup_cliradlw)\n",
    "\n",
    "PATH_FLUX = os.path.join(DIR_FORTRAN, 'output_flux.dat')\n",
    "PATH_COOL = os.path.join(DIR_FORTRAN, 'output_coolr.dat')\n",
    "\n",
    "DS_FLUX = load_output_file(PATH_FLUX)\n",
    "DS_COOL = load_output_file(PATH_COOL)"
   ]
  },
  {
   "cell_type": "code",
   "execution_count": 7,
   "metadata": {
    "collapsed": true
   },
   "outputs": [
    {
     "data": {
      "text/html": [
       "\n",
       "    <div class=\"bk-root\">\n",
       "        <a href=\"https://bokeh.pydata.org\" target=\"_blank\" class=\"bk-logo bk-logo-small bk-logo-notebook\"></a>\n",
       "        <span id=\"f76b4273-4bf4-48fd-bed5-183b1bd5ea4a\">Loading BokehJS ...</span>\n",
       "    </div>"
      ]
     },
     "metadata": {},
     "output_type": "display_data"
    },
    {
     "data": {
      "application/javascript": [
       "\n",
       "(function(root) {\n",
       "  function now() {\n",
       "    return new Date();\n",
       "  }\n",
       "\n",
       "  var force = true;\n",
       "\n",
       "  if (typeof (root._bokeh_onload_callbacks) === \"undefined\" || force === true) {\n",
       "    root._bokeh_onload_callbacks = [];\n",
       "    root._bokeh_is_loading = undefined;\n",
       "  }\n",
       "\n",
       "  var JS_MIME_TYPE = 'application/javascript';\n",
       "  var HTML_MIME_TYPE = 'text/html';\n",
       "  var EXEC_MIME_TYPE = 'application/vnd.bokehjs_exec.v0+json';\n",
       "  var CLASS_NAME = 'output_bokeh rendered_html';\n",
       "\n",
       "  /**\n",
       "   * Render data to the DOM node\n",
       "   */\n",
       "  function render(props, node) {\n",
       "    var script = document.createElement(\"script\");\n",
       "    node.appendChild(script);\n",
       "  }\n",
       "\n",
       "  /**\n",
       "   * Handle when an output is cleared or removed\n",
       "   */\n",
       "  function handleClearOutput(event, handle) {\n",
       "    var cell = handle.cell;\n",
       "\n",
       "    var id = cell.output_area._bokeh_element_id;\n",
       "    var server_id = cell.output_area._bokeh_server_id;\n",
       "    // Clean up Bokeh references\n",
       "    if (id !== undefined) {\n",
       "      Bokeh.index[id].model.document.clear();\n",
       "      delete Bokeh.index[id];\n",
       "    }\n",
       "\n",
       "    if (server_id !== undefined) {\n",
       "      // Clean up Bokeh references\n",
       "      var cmd = \"from bokeh.io.state import curstate; print(curstate().uuid_to_server['\" + server_id + \"'].get_sessions()[0].document.roots[0]._id)\";\n",
       "      cell.notebook.kernel.execute(cmd, {\n",
       "        iopub: {\n",
       "          output: function(msg) {\n",
       "            var element_id = msg.content.text.trim();\n",
       "            Bokeh.index[element_id].model.document.clear();\n",
       "            delete Bokeh.index[element_id];\n",
       "          }\n",
       "        }\n",
       "      });\n",
       "      // Destroy server and session\n",
       "      var cmd = \"import bokeh.io.notebook as ion; ion.destroy_server('\" + server_id + \"')\";\n",
       "      cell.notebook.kernel.execute(cmd);\n",
       "    }\n",
       "  }\n",
       "\n",
       "  /**\n",
       "   * Handle when a new output is added\n",
       "   */\n",
       "  function handleAddOutput(event, handle) {\n",
       "    var output_area = handle.output_area;\n",
       "    var output = handle.output;\n",
       "\n",
       "    // limit handleAddOutput to display_data with EXEC_MIME_TYPE content only\n",
       "    if ((output.output_type != \"display_data\") || (!output.data.hasOwnProperty(EXEC_MIME_TYPE))) {\n",
       "      return\n",
       "    }\n",
       "\n",
       "    var toinsert = output_area.element.find(\".\" + CLASS_NAME.split(' ')[0]);\n",
       "\n",
       "    if (output.metadata[EXEC_MIME_TYPE][\"id\"] !== undefined) {\n",
       "      toinsert[0].firstChild.textContent = output.data[JS_MIME_TYPE];\n",
       "      // store reference to embed id on output_area\n",
       "      output_area._bokeh_element_id = output.metadata[EXEC_MIME_TYPE][\"id\"];\n",
       "    }\n",
       "    if (output.metadata[EXEC_MIME_TYPE][\"server_id\"] !== undefined) {\n",
       "      var bk_div = document.createElement(\"div\");\n",
       "      bk_div.innerHTML = output.data[HTML_MIME_TYPE];\n",
       "      var script_attrs = bk_div.children[0].attributes;\n",
       "      for (var i = 0; i < script_attrs.length; i++) {\n",
       "        toinsert[0].firstChild.setAttribute(script_attrs[i].name, script_attrs[i].value);\n",
       "      }\n",
       "      // store reference to server id on output_area\n",
       "      output_area._bokeh_server_id = output.metadata[EXEC_MIME_TYPE][\"server_id\"];\n",
       "    }\n",
       "  }\n",
       "\n",
       "  function register_renderer(events, OutputArea) {\n",
       "\n",
       "    function append_mime(data, metadata, element) {\n",
       "      // create a DOM node to render to\n",
       "      var toinsert = this.create_output_subarea(\n",
       "        metadata,\n",
       "        CLASS_NAME,\n",
       "        EXEC_MIME_TYPE\n",
       "      );\n",
       "      this.keyboard_manager.register_events(toinsert);\n",
       "      // Render to node\n",
       "      var props = {data: data, metadata: metadata[EXEC_MIME_TYPE]};\n",
       "      render(props, toinsert[0]);\n",
       "      element.append(toinsert);\n",
       "      return toinsert\n",
       "    }\n",
       "\n",
       "    /* Handle when an output is cleared or removed */\n",
       "    events.on('clear_output.CodeCell', handleClearOutput);\n",
       "    events.on('delete.Cell', handleClearOutput);\n",
       "\n",
       "    /* Handle when a new output is added */\n",
       "    events.on('output_added.OutputArea', handleAddOutput);\n",
       "\n",
       "    /**\n",
       "     * Register the mime type and append_mime function with output_area\n",
       "     */\n",
       "    OutputArea.prototype.register_mime_type(EXEC_MIME_TYPE, append_mime, {\n",
       "      /* Is output safe? */\n",
       "      safe: true,\n",
       "      /* Index of renderer in `output_area.display_order` */\n",
       "      index: 0\n",
       "    });\n",
       "  }\n",
       "\n",
       "  // register the mime type if in Jupyter Notebook environment and previously unregistered\n",
       "  if (root.Jupyter !== undefined) {\n",
       "    var events = require('base/js/events');\n",
       "    var OutputArea = require('notebook/js/outputarea').OutputArea;\n",
       "\n",
       "    if (OutputArea.prototype.mime_types().indexOf(EXEC_MIME_TYPE) == -1) {\n",
       "      register_renderer(events, OutputArea);\n",
       "    }\n",
       "  }\n",
       "\n",
       "  \n",
       "  if (typeof (root._bokeh_timeout) === \"undefined\" || force === true) {\n",
       "    root._bokeh_timeout = Date.now() + 5000;\n",
       "    root._bokeh_failed_load = false;\n",
       "  }\n",
       "\n",
       "  var NB_LOAD_WARNING = {'data': {'text/html':\n",
       "     \"<div style='background-color: #fdd'>\\n\"+\n",
       "     \"<p>\\n\"+\n",
       "     \"BokehJS does not appear to have successfully loaded. If loading BokehJS from CDN, this \\n\"+\n",
       "     \"may be due to a slow or bad network connection. Possible fixes:\\n\"+\n",
       "     \"</p>\\n\"+\n",
       "     \"<ul>\\n\"+\n",
       "     \"<li>re-rerun `output_notebook()` to attempt to load from CDN again, or</li>\\n\"+\n",
       "     \"<li>use INLINE resources instead, as so:</li>\\n\"+\n",
       "     \"</ul>\\n\"+\n",
       "     \"<code>\\n\"+\n",
       "     \"from bokeh.resources import INLINE\\n\"+\n",
       "     \"output_notebook(resources=INLINE)\\n\"+\n",
       "     \"</code>\\n\"+\n",
       "     \"</div>\"}};\n",
       "\n",
       "  function display_loaded() {\n",
       "    var el = document.getElementById(\"f76b4273-4bf4-48fd-bed5-183b1bd5ea4a\");\n",
       "    if (el != null) {\n",
       "      el.textContent = \"BokehJS is loading...\";\n",
       "    }\n",
       "    if (root.Bokeh !== undefined) {\n",
       "      if (el != null) {\n",
       "        el.textContent = \"BokehJS \" + root.Bokeh.version + \" successfully loaded.\";\n",
       "      }\n",
       "    } else if (Date.now() < root._bokeh_timeout) {\n",
       "      setTimeout(display_loaded, 100)\n",
       "    }\n",
       "  }\n",
       "\n",
       "\n",
       "  function run_callbacks() {\n",
       "    try {\n",
       "      root._bokeh_onload_callbacks.forEach(function(callback) { callback() });\n",
       "    }\n",
       "    finally {\n",
       "      delete root._bokeh_onload_callbacks\n",
       "    }\n",
       "    console.info(\"Bokeh: all callbacks have finished\");\n",
       "  }\n",
       "\n",
       "  function load_libs(js_urls, callback) {\n",
       "    root._bokeh_onload_callbacks.push(callback);\n",
       "    if (root._bokeh_is_loading > 0) {\n",
       "      console.log(\"Bokeh: BokehJS is being loaded, scheduling callback at\", now());\n",
       "      return null;\n",
       "    }\n",
       "    if (js_urls == null || js_urls.length === 0) {\n",
       "      run_callbacks();\n",
       "      return null;\n",
       "    }\n",
       "    console.log(\"Bokeh: BokehJS not loaded, scheduling load and callback at\", now());\n",
       "    root._bokeh_is_loading = js_urls.length;\n",
       "    for (var i = 0; i < js_urls.length; i++) {\n",
       "      var url = js_urls[i];\n",
       "      var s = document.createElement('script');\n",
       "      s.src = url;\n",
       "      s.async = false;\n",
       "      s.onreadystatechange = s.onload = function() {\n",
       "        root._bokeh_is_loading--;\n",
       "        if (root._bokeh_is_loading === 0) {\n",
       "          console.log(\"Bokeh: all BokehJS libraries loaded\");\n",
       "          run_callbacks()\n",
       "        }\n",
       "      };\n",
       "      s.onerror = function() {\n",
       "        console.warn(\"failed to load library \" + url);\n",
       "      };\n",
       "      console.log(\"Bokeh: injecting script tag for BokehJS library: \", url);\n",
       "      document.getElementsByTagName(\"head\")[0].appendChild(s);\n",
       "    }\n",
       "  };var element = document.getElementById(\"f76b4273-4bf4-48fd-bed5-183b1bd5ea4a\");\n",
       "  if (element == null) {\n",
       "    console.log(\"Bokeh: ERROR: autoload.js configured with elementid 'f76b4273-4bf4-48fd-bed5-183b1bd5ea4a' but no matching script tag was found. \")\n",
       "    return false;\n",
       "  }\n",
       "\n",
       "  var js_urls = [\"https://cdn.pydata.org/bokeh/release/bokeh-0.12.14.min.js\", \"https://cdn.pydata.org/bokeh/release/bokeh-widgets-0.12.14.min.js\", \"https://cdn.pydata.org/bokeh/release/bokeh-tables-0.12.14.min.js\", \"https://cdn.pydata.org/bokeh/release/bokeh-gl-0.12.14.min.js\"];\n",
       "\n",
       "  var inline_js = [\n",
       "    function(Bokeh) {\n",
       "      Bokeh.set_log_level(\"info\");\n",
       "    },\n",
       "    \n",
       "    function(Bokeh) {\n",
       "      \n",
       "    },\n",
       "    function(Bokeh) {\n",
       "      console.log(\"Bokeh: injecting CSS: https://cdn.pydata.org/bokeh/release/bokeh-0.12.14.min.css\");\n",
       "      Bokeh.embed.inject_css(\"https://cdn.pydata.org/bokeh/release/bokeh-0.12.14.min.css\");\n",
       "      console.log(\"Bokeh: injecting CSS: https://cdn.pydata.org/bokeh/release/bokeh-widgets-0.12.14.min.css\");\n",
       "      Bokeh.embed.inject_css(\"https://cdn.pydata.org/bokeh/release/bokeh-widgets-0.12.14.min.css\");\n",
       "      console.log(\"Bokeh: injecting CSS: https://cdn.pydata.org/bokeh/release/bokeh-tables-0.12.14.min.css\");\n",
       "      Bokeh.embed.inject_css(\"https://cdn.pydata.org/bokeh/release/bokeh-tables-0.12.14.min.css\");\n",
       "    }\n",
       "  ];\n",
       "\n",
       "  function run_inline_js() {\n",
       "    \n",
       "    if ((root.Bokeh !== undefined) || (force === true)) {\n",
       "      for (var i = 0; i < inline_js.length; i++) {\n",
       "        inline_js[i].call(root, root.Bokeh);\n",
       "      }if (force === true) {\n",
       "        display_loaded();\n",
       "      }} else if (Date.now() < root._bokeh_timeout) {\n",
       "      setTimeout(run_inline_js, 100);\n",
       "    } else if (!root._bokeh_failed_load) {\n",
       "      console.log(\"Bokeh: BokehJS failed to load within specified timeout.\");\n",
       "      root._bokeh_failed_load = true;\n",
       "    } else if (force !== true) {\n",
       "      var cell = $(document.getElementById(\"f76b4273-4bf4-48fd-bed5-183b1bd5ea4a\")).parents('.cell').data().cell;\n",
       "      cell.output_area.append_execute_result(NB_LOAD_WARNING)\n",
       "    }\n",
       "\n",
       "  }\n",
       "\n",
       "  if (root._bokeh_is_loading === 0) {\n",
       "    console.log(\"Bokeh: BokehJS loaded, going straight to plotting\");\n",
       "    run_inline_js();\n",
       "  } else {\n",
       "    load_libs(js_urls, function() {\n",
       "      console.log(\"Bokeh: BokehJS plotting callback run at\", now());\n",
       "      run_inline_js();\n",
       "    });\n",
       "  }\n",
       "}(window));"
      ],
      "application/vnd.bokehjs_load.v0+json": "\n(function(root) {\n  function now() {\n    return new Date();\n  }\n\n  var force = true;\n\n  if (typeof (root._bokeh_onload_callbacks) === \"undefined\" || force === true) {\n    root._bokeh_onload_callbacks = [];\n    root._bokeh_is_loading = undefined;\n  }\n\n  \n\n  \n  if (typeof (root._bokeh_timeout) === \"undefined\" || force === true) {\n    root._bokeh_timeout = Date.now() + 5000;\n    root._bokeh_failed_load = false;\n  }\n\n  var NB_LOAD_WARNING = {'data': {'text/html':\n     \"<div style='background-color: #fdd'>\\n\"+\n     \"<p>\\n\"+\n     \"BokehJS does not appear to have successfully loaded. If loading BokehJS from CDN, this \\n\"+\n     \"may be due to a slow or bad network connection. Possible fixes:\\n\"+\n     \"</p>\\n\"+\n     \"<ul>\\n\"+\n     \"<li>re-rerun `output_notebook()` to attempt to load from CDN again, or</li>\\n\"+\n     \"<li>use INLINE resources instead, as so:</li>\\n\"+\n     \"</ul>\\n\"+\n     \"<code>\\n\"+\n     \"from bokeh.resources import INLINE\\n\"+\n     \"output_notebook(resources=INLINE)\\n\"+\n     \"</code>\\n\"+\n     \"</div>\"}};\n\n  function display_loaded() {\n    var el = document.getElementById(\"f76b4273-4bf4-48fd-bed5-183b1bd5ea4a\");\n    if (el != null) {\n      el.textContent = \"BokehJS is loading...\";\n    }\n    if (root.Bokeh !== undefined) {\n      if (el != null) {\n        el.textContent = \"BokehJS \" + root.Bokeh.version + \" successfully loaded.\";\n      }\n    } else if (Date.now() < root._bokeh_timeout) {\n      setTimeout(display_loaded, 100)\n    }\n  }\n\n\n  function run_callbacks() {\n    try {\n      root._bokeh_onload_callbacks.forEach(function(callback) { callback() });\n    }\n    finally {\n      delete root._bokeh_onload_callbacks\n    }\n    console.info(\"Bokeh: all callbacks have finished\");\n  }\n\n  function load_libs(js_urls, callback) {\n    root._bokeh_onload_callbacks.push(callback);\n    if (root._bokeh_is_loading > 0) {\n      console.log(\"Bokeh: BokehJS is being loaded, scheduling callback at\", now());\n      return null;\n    }\n    if (js_urls == null || js_urls.length === 0) {\n      run_callbacks();\n      return null;\n    }\n    console.log(\"Bokeh: BokehJS not loaded, scheduling load and callback at\", now());\n    root._bokeh_is_loading = js_urls.length;\n    for (var i = 0; i < js_urls.length; i++) {\n      var url = js_urls[i];\n      var s = document.createElement('script');\n      s.src = url;\n      s.async = false;\n      s.onreadystatechange = s.onload = function() {\n        root._bokeh_is_loading--;\n        if (root._bokeh_is_loading === 0) {\n          console.log(\"Bokeh: all BokehJS libraries loaded\");\n          run_callbacks()\n        }\n      };\n      s.onerror = function() {\n        console.warn(\"failed to load library \" + url);\n      };\n      console.log(\"Bokeh: injecting script tag for BokehJS library: \", url);\n      document.getElementsByTagName(\"head\")[0].appendChild(s);\n    }\n  };var element = document.getElementById(\"f76b4273-4bf4-48fd-bed5-183b1bd5ea4a\");\n  if (element == null) {\n    console.log(\"Bokeh: ERROR: autoload.js configured with elementid 'f76b4273-4bf4-48fd-bed5-183b1bd5ea4a' but no matching script tag was found. \")\n    return false;\n  }\n\n  var js_urls = [\"https://cdn.pydata.org/bokeh/release/bokeh-0.12.14.min.js\", \"https://cdn.pydata.org/bokeh/release/bokeh-widgets-0.12.14.min.js\", \"https://cdn.pydata.org/bokeh/release/bokeh-tables-0.12.14.min.js\", \"https://cdn.pydata.org/bokeh/release/bokeh-gl-0.12.14.min.js\"];\n\n  var inline_js = [\n    function(Bokeh) {\n      Bokeh.set_log_level(\"info\");\n    },\n    \n    function(Bokeh) {\n      \n    },\n    function(Bokeh) {\n      console.log(\"Bokeh: injecting CSS: https://cdn.pydata.org/bokeh/release/bokeh-0.12.14.min.css\");\n      Bokeh.embed.inject_css(\"https://cdn.pydata.org/bokeh/release/bokeh-0.12.14.min.css\");\n      console.log(\"Bokeh: injecting CSS: https://cdn.pydata.org/bokeh/release/bokeh-widgets-0.12.14.min.css\");\n      Bokeh.embed.inject_css(\"https://cdn.pydata.org/bokeh/release/bokeh-widgets-0.12.14.min.css\");\n      console.log(\"Bokeh: injecting CSS: https://cdn.pydata.org/bokeh/release/bokeh-tables-0.12.14.min.css\");\n      Bokeh.embed.inject_css(\"https://cdn.pydata.org/bokeh/release/bokeh-tables-0.12.14.min.css\");\n    }\n  ];\n\n  function run_inline_js() {\n    \n    if ((root.Bokeh !== undefined) || (force === true)) {\n      for (var i = 0; i < inline_js.length; i++) {\n        inline_js[i].call(root, root.Bokeh);\n      }if (force === true) {\n        display_loaded();\n      }} else if (Date.now() < root._bokeh_timeout) {\n      setTimeout(run_inline_js, 100);\n    } else if (!root._bokeh_failed_load) {\n      console.log(\"Bokeh: BokehJS failed to load within specified timeout.\");\n      root._bokeh_failed_load = true;\n    } else if (force !== true) {\n      var cell = $(document.getElementById(\"f76b4273-4bf4-48fd-bed5-183b1bd5ea4a\")).parents('.cell').data().cell;\n      cell.output_area.append_execute_result(NB_LOAD_WARNING)\n    }\n\n  }\n\n  if (root._bokeh_is_loading === 0) {\n    console.log(\"Bokeh: BokehJS loaded, going straight to plotting\");\n    run_inline_js();\n  } else {\n    load_libs(js_urls, function() {\n      console.log(\"Bokeh: BokehJS plotting callback run at\", now());\n      run_inline_js();\n    });\n  }\n}(window));"
     },
     "metadata": {},
     "output_type": "display_data"
    }
   ],
   "source": [
    "output_notebook()"
   ]
  },
  {
   "cell_type": "code",
   "execution_count": 8,
   "metadata": {
    "collapsed": true
   },
   "outputs": [],
   "source": [
    "def fmt_cool(ds_in):\n",
    "    ds = ds_in.copy(deep=True)\n",
    "    if 'igg' in ds.dims:\n",
    "        ds = ds.sel(igg=1)\n",
    "\n",
    "    if 'g' in ds.dims:\n",
    "        ds = ds.sum('g')\n",
    "            \n",
    "    if 'band' in ds.dims:\n",
    "        try:\n",
    "            ds = ds.squeeze('band')\n",
    "        except ValueError:\n",
    "            ds = ds.sum('band')\n",
    "                \n",
    "    return ds['coolrg']\n",
    "\n",
    "\n",
    "def pltdata_cooling_1(ds_cool=None,\n",
    "                      ds_cool_crd=None, ds_cool_wgt=None):\n",
    "    \n",
    "\n",
    "\n",
    "    colors = all_palettes['Set1'][4]\n",
    "    data = [{'label': 'CLIRAD `coolr_bands`',\n",
    "             'srs': fmt_cool(ds_cool),\n",
    "             'line_dash': 'dashed', 'line_width': 5,\n",
    "             'color': colors[0], 'alpha': .6},\n",
    "            {'label': 'CRD',\n",
    "             'srs': fmt_cool(ds_cool_crd),\n",
    "             'line_dash': 'solid', 'line_width': 1.5,\n",
    "             'marker': 'circle', 'marker_size': 5,\n",
    "             'color': colors[2], 'alpha': 1,},\n",
    "            {'label': 'WGT igg=10 wgt_flux=2',\n",
    "             'srs': fmt_cool(ds_cool_wgt),\n",
    "             'line_dash': 'solid', 'line_width': 3,\n",
    "             'marker': 'square', 'marker_size': 5,\n",
    "             'color': colors[3], 'alpha': .6}]\n",
    "    return data\n",
    "\n",
    "\n",
    "def nice_xlims(pltdata=None, prange=None):\n",
    "    \n",
    "    def get_slice(srs):\n",
    "        return srs.sel(pressure=slice(*prange))\n",
    "    \n",
    "    srss = [d['srs'] for d in pltdata]\n",
    "    vmin = min([get_slice(srs).min() for srs in srss])\n",
    "    vmax = max([get_slice(srs).max() for srs in srss])\n",
    "    dv = (vmax - vmin) * .01\n",
    "    return float(vmin - dv), float(vmax + dv)\n",
    "    \n",
    "\n",
    "def plt_cooling_bokeh(pltdata=None):\n",
    "    '''\n",
    "    Plot a list of cooling rate profiles using bokeh.\n",
    "    '''\n",
    "    ymin = 1e-2 \n",
    "    ymax = 1020 \n",
    "        \n",
    "    p1 = figure(title=\"Linear pressure scale\", \n",
    "                plot_width=400)        \n",
    "    xmin, xmax = nice_xlims(pltdata, prange=(50, 1050))\n",
    "    for d in pltdata:\n",
    "        if 'marker' in d:\n",
    "            getattr(p1, d['marker'])(d['srs'].values, \n",
    "                    d['srs'].coords['pressure'].values,\n",
    "                    color=d['color'], alpha=.7)\n",
    "        p1.line(d['srs'].values, \n",
    "                d['srs'].coords['pressure'].values,\n",
    "                color=d['color'], alpha=d['alpha'], \n",
    "                line_width=d['line_width'], line_dash=d['line_dash'])\n",
    "    \n",
    "    p1.y_range = Range1d(ymax, ymin)\n",
    "    p1.yaxis.axis_label = 'pressure [mb]'   \n",
    "    p1.x_range = Range1d(xmin, xmax)\n",
    "    p1.xaxis.axis_label = 'cooling rate [K/day]'\n",
    "            \n",
    "    p2 = figure(title='Log pressure scale', y_axis_type='log',\n",
    "                plot_width=560)\n",
    "    xmin, xmax = nice_xlims(pltdata, prange=(.01, 200))\n",
    "    \n",
    "    rs = []\n",
    "    for d in pltdata:\n",
    "        rd = []\n",
    "        if 'marker' in d:\n",
    "            r_mark = getattr(p2, d['marker'])(d['srs'].values, \n",
    "                        d['srs'].coords['pressure'].values,\n",
    "                        color=d['color'], alpha=.7)\n",
    "            rd.append(r_mark)\n",
    "        r_line = p2.line(d['srs'].values, \n",
    "                    d['srs'].coords['pressure'].values,\n",
    "                    color=d['color'], alpha=d['alpha'], \n",
    "                    line_width=d['line_width'], line_dash=d['line_dash'])\n",
    "        rd.append(r_line)\n",
    "      \n",
    "        rs.append(rd)\n",
    "        \n",
    "    p2.y_range = Range1d(ymax, ymin)  \n",
    "    p2.yaxis.axis_label = 'pressure [mb]'\n",
    "    \n",
    "    p2.x_range = Range1d(xmin, xmax)\n",
    "    p2.xaxis.axis_label = 'cooling rate [K/day]'\n",
    "    \n",
    "    items = [(d['label'], r) for r, d in zip(rs, pltdata)]\n",
    "    legend = Legend(items=items, location=(10, -30))\n",
    "    legend.label_text_font_size = '8pt'\n",
    "    \n",
    "    p2.add_layout(legend, 'right')  \n",
    "    \n",
    "    show(gridplot(p1, p2, ncols=2, plot_height=500))\n",
    "    \n",
    "\n",
    "def script_plt_cooling():\n",
    "    pltdata = pltdata_cooling_1(\n",
    "        ds_cool=DS_COOL,\n",
    "        ds_cool_crd=DS_COOL_CRD,\n",
    "        ds_cool_wgt=DS_COOL_WGT)\n",
    "    plt_cooling_bokeh(pltdata=pltdata)\n",
    "    print('''FIGURE. Cooling rate profiles.''')"
   ]
  },
  {
   "cell_type": "code",
   "execution_count": 9,
   "metadata": {
    "collapsed": true
   },
   "outputs": [],
   "source": [
    "def fmt_flux(ds_in):\n",
    "    ds = ds_in.copy(deep=True)\n",
    "    \n",
    "    for l in ('level', 'layer'):\n",
    "        if l in ds.data_vars:\n",
    "            if len(ds[l].dims) > 1:\n",
    "                surface = {d: 0 for d in ds.dims if d != 'pressure'}\n",
    "                coord_level = ds[l][surface]\n",
    "                ds.coords[l] = ('pressure', coord_level)\n",
    "            else:\n",
    "                ds.coords[l] = ('pressure', ds[l])\n",
    "        \n",
    "    ds = ds.isel(pressure=[0, 23, -1])\n",
    "        \n",
    "    if 'igg' in ds.dims:\n",
    "        ds = ds.sel(igg=[1])\n",
    "        ds = ds.squeeze('igg').drop('igg')\n",
    "    \n",
    "    if 'g' in ds.dims:\n",
    "        ds = ds.sum('g')\n",
    "            \n",
    "    if 'band' in ds.dims:\n",
    "        try:\n",
    "            ds = ds.squeeze('band').drop('band')\n",
    "        except ValueError:\n",
    "            ds = ds.sum('band')\n",
    "                \n",
    "    df = ds.to_dataframe()\n",
    "    df = df.set_index('level', append=True)               \n",
    "    return df\n",
    "\n",
    "\n",
    "def tbdata_flux(ds_flux=None, ds_flux_crd=None, ds_flux_wgt=None):\n",
    "    ilevels = [0, 23, -1]\n",
    "            \n",
    "    benchmark = {'label': 'WGT igg=10 wgt_flux=1',\n",
    "                 'df': fmt_flux(ds_flux_wgt)}\n",
    "    \n",
    "    tbs = [{'label': 'CRD',\n",
    "            'df': fmt_flux(ds_flux_crd)},\n",
    "           {'label': 'CLIRAD',\n",
    "            'df': fmt_flux(ds_flux)}]\n",
    "    \n",
    "    data = {'benchmark': benchmark, 'others': tbs}\n",
    "    return data\n",
    "\n",
    "\n",
    "def tb_flux(tbdata=None):\n",
    "    benchmark = tbdata['benchmark']\n",
    "    others = tbdata['others']\n",
    "    \n",
    "    def show_tb(d=None):\n",
    "        display.display(d['df'])\n",
    "        print('Table.', 'Fluxes.', d['label'])\n",
    "        \n",
    "    def show_tbdiff(d0=None, d=None):\n",
    "        df = d['df']\n",
    "        df.index = d0['df'].index\n",
    "        display.display(df - d0['df'])\n",
    "        print('Table.', 'Fluxes.', \n",
    "              '({}) - ({})'.format(d['label'], d0['label']))\n",
    "        \n",
    "    show_tb(benchmark)\n",
    "    for d in others:\n",
    "        show_tb(d)\n",
    "        \n",
    "    for d in others:\n",
    "        show_tbdiff(d=d, d0=benchmark)\n",
    "        \n",
    "        \n",
    "def script_tb_flux():\n",
    "    data = tbdata_flux(ds_flux=DS_FLUX,\n",
    "                       ds_flux_crd=DS_FLUX_CRD,\n",
    "                       ds_flux_wgt=DS_FLUX_WGT)\n",
    "    tb_flux(tbdata=data)"
   ]
  },
  {
   "cell_type": "code",
   "execution_count": 10,
   "metadata": {
    "collapsed": true
   },
   "outputs": [],
   "source": [
    "def band_map():\n",
    "    '''\n",
    "    Maps spectral bands in lblnew to spectral bands in clirad.\n",
    "    '''\n",
    "    lblnew2clirad = {'1': '1',\n",
    "            '2': '2',\n",
    "            '3a': '3',\n",
    "            '3b': '4',\n",
    "            '3c': '5',\n",
    "            '4': '6', \n",
    "            '5': '7',\n",
    "            '6': '8',\n",
    "            '7': '9', \n",
    "            '8': '10',\n",
    "            '9': '11'}\n",
    "    \n",
    "    clirad2lblnew = {clirad: lblnew \n",
    "                     for lblnew, clirad in lblnew2clirad.items()}\n",
    "    return clirad2lblnew\n",
    "\n",
    "\n",
    "def gasbands():\n",
    "    bmap = band_map()\n",
    "    gases = list(PARAM['molecule'].keys())\n",
    "    \n",
    "    bands = [bmap[str(b)] for b in PARAM['band']]\n",
    "    return list(itertools.product(gases, bands))\n",
    "\n",
    "\n",
    "def print_bestfit_params():\n",
    "    print('Best-fit values for each (gas, band)')\n",
    "    print('------------------------------------')\n",
    "    for gas, band in gasbands():\n",
    "        print('o {} band{}'.format(gas, band))\n",
    "        param = bestfits.kdist_params(molecule=gas, band=band)\n",
    "        for name, value in sorted(param.items()):\n",
    "            print(2 * ' ' + '{} = {}'.format(name, value))\n",
    "\n",
    "        \n",
    "def print_input_param():        \n",
    "    for name, value in PARAM.items():\n",
    "        print('{} = {}'.format(name, value))\n",
    "        \n",
    "        \n",
    "def print_lblnew_param():\n",
    "    for name, value in sorted(PARAM_LBLNEW.items()):\n",
    "        print('{} = {}'.format(name, value))\n"
   ]
  },
  {
   "cell_type": "code",
   "execution_count": 11,
   "metadata": {
    "collapsed": true,
    "scrolled": false
   },
   "outputs": [],
   "source": [
    "def show_html(s):\n",
    "    display.display(display.HTML(s))\n",
    "\n",
    "    \n",
    "def show_markdown(s):\n",
    "    display.display(display.Markdown(s))\n",
    "\n",
    "    \n",
    "def script():\n",
    "    \n",
    "    title = '### CLIRAD-LW'\n",
    "    s_input = 'Input Parameters'\n",
    "    s_lblnew_param = 'LBLNEW case compaired against'\n",
    "    s_bestfits = 'Best-fit Parameters'\n",
    "    s_plt_cooling = 'Cooling Rate Profiles'\n",
    "    s_tb_flux = 'Flux Comparison'\n",
    "    \n",
    "    # title\n",
    "    show_markdown('### CLIRAD-LW')\n",
    "    \n",
    "    # TOC\n",
    "    show_markdown('### Table of Contents')\n",
    "    show_html(climahtml.getHTML_hrefanchor(s_input))\n",
    "    show_html(climahtml.getHTML_hrefanchor(s_lblnew_param))\n",
    "    show_html(climahtml.getHTML_hrefanchor(s_plt_cooling))\n",
    "    show_html(climahtml.getHTML_hrefanchor(s_tb_flux))\n",
    "    show_html(climahtml.getHTML_hrefanchor(s_bestfits))\n",
    "    \n",
    "    # Input parameters\n",
    "    show_html(climahtml.getHTML_idanchor(s_input))\n",
    "    show_markdown(climahtml.getMarkdown_sectitle(s_input))\n",
    "    print_input_param()\n",
    "    \n",
    "    # LBLNEW parameters \n",
    "    show_html(climahtml.getHTML_idanchor(s_lblnew_param))\n",
    "    show_markdown(climahtml.getMarkdown_sectitle(s_lblnew_param))\n",
    "    print_lblnew_param()\n",
    "    \n",
    "    # Cooling rate profiles\n",
    "    show_html(climahtml.getHTML_idanchor(s_plt_cooling))\n",
    "    show_markdown(climahtml.getMarkdown_sectitle(s_plt_cooling))\n",
    "    script_plt_cooling()\n",
    "    \n",
    "    # Flux comparison\n",
    "    show_html(climahtml.getHTML_idanchor(s_tb_flux))\n",
    "    show_markdown(climahtml.getMarkdown_sectitle(s_tb_flux))\n",
    "    script_tb_flux()\n",
    "    \n",
    "    # Best-fit values\n",
    "    show_html(climahtml.getHTML_idanchor(s_bestfits))\n",
    "    show_markdown(climahtml.getMarkdown_sectitle(s_bestfits))\n",
    "    print_bestfit_params()\n",
    "   \n",
    "    "
   ]
  },
  {
   "cell_type": "code",
   "execution_count": 12,
   "metadata": {
    "collapsed": true,
    "scrolled": false
   },
   "outputs": [
    {
     "data": {
      "text/markdown": [
       "### CLIRAD-LW"
      ],
      "text/plain": [
       "<IPython.core.display.Markdown object>"
      ]
     },
     "metadata": {},
     "output_type": "display_data"
    },
    {
     "data": {
      "text/markdown": [
       "### Table of Contents"
      ],
      "text/plain": [
       "<IPython.core.display.Markdown object>"
      ]
     },
     "metadata": {},
     "output_type": "display_data"
    },
    {
     "data": {
      "text/html": [
       "<a href=\"#Input_Parameters\">Input Parameters</a>"
      ],
      "text/plain": [
       "<IPython.core.display.HTML object>"
      ]
     },
     "metadata": {},
     "output_type": "display_data"
    },
    {
     "data": {
      "text/html": [
       "<a href=\"#LBLNEW_case_compaired_against\">LBLNEW case compaired against</a>"
      ],
      "text/plain": [
       "<IPython.core.display.HTML object>"
      ]
     },
     "metadata": {},
     "output_type": "display_data"
    },
    {
     "data": {
      "text/html": [
       "<a href=\"#Cooling_Rate_Profiles\">Cooling Rate Profiles</a>"
      ],
      "text/plain": [
       "<IPython.core.display.HTML object>"
      ]
     },
     "metadata": {},
     "output_type": "display_data"
    },
    {
     "data": {
      "text/html": [
       "<a href=\"#Flux_Comparison\">Flux Comparison</a>"
      ],
      "text/plain": [
       "<IPython.core.display.HTML object>"
      ]
     },
     "metadata": {},
     "output_type": "display_data"
    },
    {
     "data": {
      "text/html": [
       "<a href=\"#Best-fit_Parameters\">Best-fit Parameters</a>"
      ],
      "text/plain": [
       "<IPython.core.display.HTML object>"
      ]
     },
     "metadata": {},
     "output_type": "display_data"
    },
    {
     "data": {
      "text/html": [
       "<a id=\"Input_Parameters\"></a>"
      ],
      "text/plain": [
       "<IPython.core.display.HTML object>"
      ]
     },
     "metadata": {},
     "output_type": "display_data"
    },
    {
     "data": {
      "text/markdown": [
       "# Input Parameters"
      ],
      "text/plain": [
       "<IPython.core.display.Markdown object>"
      ]
     },
     "metadata": {},
     "output_type": "display_data"
    },
    {
     "name": "stdout",
     "output_type": "stream",
     "text": [
      "atmpro = trp\n",
      "band = [3]\n",
      "commitnumber = 7e55b57\n",
      "molecule = {'co2': 0.0004, 'h2o': 'atmpro', 'n2o': 3.2e-07}\n",
      "tsfc = 300\n"
     ]
    },
    {
     "data": {
      "text/html": [
       "<a id=\"LBLNEW_case_compaired_against\"></a>"
      ],
      "text/plain": [
       "<IPython.core.display.HTML object>"
      ]
     },
     "metadata": {},
     "output_type": "display_data"
    },
    {
     "data": {
      "text/markdown": [
       "# LBLNEW case compaired against"
      ],
      "text/plain": [
       "<IPython.core.display.Markdown object>"
      ]
     },
     "metadata": {},
     "output_type": "display_data"
    },
    {
     "name": "stdout",
     "output_type": "stream",
     "text": [
      "atmpro = trp\n",
      "band = 3a\n",
      "commitnumber = 5014a19\n",
      "dv = 0.01\n",
      "molecule = {'co2': 0.0004, 'h2o': 'atmpro', 'n2o': 3.2e-07}\n",
      "nv = 100\n",
      "tsfc = 300\n"
     ]
    },
    {
     "data": {
      "text/html": [
       "<a id=\"Cooling_Rate_Profiles\"></a>"
      ],
      "text/plain": [
       "<IPython.core.display.HTML object>"
      ]
     },
     "metadata": {},
     "output_type": "display_data"
    },
    {
     "data": {
      "text/markdown": [
       "# Cooling Rate Profiles"
      ],
      "text/plain": [
       "<IPython.core.display.Markdown object>"
      ]
     },
     "metadata": {},
     "output_type": "display_data"
    },
    {
     "data": {
      "text/html": [
       "\n",
       "<div class=\"bk-root\">\n",
       "    <div class=\"bk-plotdiv\" id=\"3e43550e-9e45-42f6-8da3-9a06c42a1b63\"></div>\n",
       "</div>"
      ]
     },
     "metadata": {},
     "output_type": "display_data"
    },
    {
     "data": {
      "application/javascript": [
       "(function(root) {\n",
       "  function embed_document(root) {\n",
       "    \n",
       "  var docs_json = {\"8475fb84-6fb0-4edc-a8ed-d588db3991cd\":{\"roots\":{\"references\":[{\"attributes\":{\"overlay\":{\"id\":\"2c3d96c1-4437-40b5-9ad6-13ddf202e022\",\"type\":\"BoxAnnotation\"}},\"id\":\"87f61d48-c8e0-4194-99df-dfc9045b63db\",\"type\":\"BoxZoomTool\"},{\"attributes\":{\"callback\":null,\"column_names\":[\"x\",\"y\"],\"data\":{\"x\":{\"__ndarray__\":\"0PuUnV3C2j9jEmiPm4raP8x313ZmRNs/Ypkj0AXa2z9NPX+YjDzcPybWFI5BY9w/6K0uZegx3D/s5EZwp53bP7J8ZfdHjNo/dTHV5ffq2D9t5m/GWabWP/lCjs51sdM/6wpLdkv2zz8NKOX/n1THP6JR7C5x4MM/03+9X1jAyD8A/Pjw0QfQPxghfvYKqNM/e7zzOMoJ2D8L+Mr2AOHdP+Upac2oHOM/4UqwF46w6D+ohXksCdLpP7gkYqXdo+Y/qKv5+Qgf4z84GdFNzSveP0n/Pwx8Xtc/2MTZ358z0j/jZXarIdDMP2NdgY2QJsc/ZnlHW89vwj+iDgrOCW+8P04v+euKI7U/dAU5+ii7rj/XepsLF0qeP1Fu7ZFF0nm/9LOYpYu3nb+m3IcAA+iZvzYiSWXSM3W/LaZOznRZgj+sVe4XSUGXP8AfDKmTTaQ/b5HmVb7jrj8P/nt5zIO1P73HVwqa+bs/YG6cuSxLwT+8MIj+v6DEP8CbyZKUz8c/osCvTwg2yj+g7LmOadTMP8yENmu2k88/86dTP+sx0T/7by2sfpnSP92Qb4R/8NM/ZGZVOg4y1T/8kDMkWU3WP9bbbpsMO9c/Imz8skn41z8dtmd19n7YP1PktbcA2dg/ol0q2ywD2T9WVC+FKNvYPxL3eQi6KNg/fqag09rR1z/ahlmBhBXWP/zydkK3sNM/DZTKyuU10T+CGfj2UwjNP5I+zrAo18g/5fmhDDSjxT+vqNJgZBPDP1gmssUkEsE/dGWrJuNzvz9aZUOKQy6/P/+xMSvracY/\",\"dtype\":\"float64\",\"shape\":[75]},\"y\":{\"__ndarray__\":\"GhExyth1ND/Sv8nbtpRIP2vylNV0PVE/aTum7souWD/At0SJ8fVgPw3Iuahxymc/MSNhhJWvcD/bTfBN02d3P2zb5nxnaoA/CD5h5MAGhz8NmeH1TyaQP+zrCsc9p5Y/LbKd76fGnz/bLW5ISEmmPww9YvTcQq8/JV2OstnstT8Er5Y7M8G+P0c+r3jqkcU/5h99k6ZBzj88bCIzFzjVP4enV8oyxN0//yH99nXg5D8qOpLLf0jtP5kqGJXUifQ/c9cS8kHP/D+/DpwzojQEQIEmwoanVwxA4lgXt9HgE0BSSZ2AJuIbQAMJih9jjiNA5q4l5INuK0AwTKYKRj0zQNv5fmq8/DpAaCJseHrtQkB/+zpwzoxKQM3MzMzMeFJAZmZmZmZqWEAAAAAAAFxeQM3MzMzMJmJAmpmZmZkfZUBmZmZmZhhoQDMzMzMzEWtAAAAAAAAKbkBmZmZmZoFwQM3MzMzM/XFAMzMzMzN6c0CamZmZmfZ0QAAAAAAAc3ZAZmZmZmbvd0DNzMzMzGt5QDMzMzMz6HpAmpmZmZlkfEAAAAAAAOF9QGZmZmZmXX9AZmZmZuZsgECamZmZGSuBQM3MzMxM6YFAAAAAAICngkAzMzMzs2WDQGZmZmbmI4RAmpmZmRnihEDNzMzMTKCFQAAAAACAXoZAMzMzM7Mch0BmZmZm5tqHQJqZmZkZmYhAzczMzExXiUAAAAAAgBWKQDMzMzOz04pAZmZmZuaRi0CamZmZGVCMQM3MzMxMDo1AAAAAAIDMjUAzMzMzs4qOQGZmZmbmSI9A\",\"dtype\":\"float64\",\"shape\":[75]}}},\"id\":\"4825c95c-a768-4902-92f4-7fd3483812e6\",\"type\":\"ColumnDataSource\"},{\"attributes\":{},\"id\":\"21f6b64d-0f2e-4719-88e6-13e3f278ac22\",\"type\":\"LogScale\"},{\"attributes\":{\"bottom_units\":\"screen\",\"fill_alpha\":{\"value\":0.5},\"fill_color\":{\"value\":\"lightgrey\"},\"left_units\":\"screen\",\"level\":\"overlay\",\"line_alpha\":{\"value\":1.0},\"line_color\":{\"value\":\"black\"},\"line_dash\":[4,4],\"line_width\":{\"value\":2},\"plot\":null,\"render_mode\":\"css\",\"right_units\":\"screen\",\"top_units\":\"screen\"},\"id\":\"2c3d96c1-4437-40b5-9ad6-13ddf202e022\",\"type\":\"BoxAnnotation\"},{\"attributes\":{\"fill_alpha\":{\"value\":0.1},\"fill_color\":{\"value\":\"#1f77b4\"},\"line_alpha\":{\"value\":0.1},\"line_color\":{\"value\":\"#1f77b4\"},\"x\":{\"field\":\"x\"},\"y\":{\"field\":\"y\"}},\"id\":\"faebbb59-6c7a-43c9-9be9-4c570cf2a7e2\",\"type\":\"Circle\"},{\"attributes\":{},\"id\":\"9bc971ea-f102-4d2d-96b0-9f0c527be36a\",\"type\":\"BasicTicker\"},{\"attributes\":{\"callback\":null,\"column_names\":[\"x\",\"y\"],\"data\":{\"x\":{\"__ndarray__\":\"ZyOdop+A0D8TDXP+/ZTYP0R51blYh8E/YuQbwBHT1D91X8b7DtHRP6kYxmFZ/tE/vNgHmzKe0z/Wd3bgOefTPz3wlIIsU9Q/ff9q/i071D+B7ol9G0XUP+OwbpstCdM/2VKTIiq70T/pnYZ/Q+7OPxZtbWWyzc0/GSXgvqux0T/Lqyl/rQHVP0QqlJ5MkNY/afST/wML1z8Vcue61ybZPw/zQL9Kmd8/E4gRoZUk5T+QzZ+ANy7nP+lSr50gWOU/4gTH4aOw4j/zxWLE06XeP0E+zzwML9k/JgFJXPD31D9uPmSA+kXRP3sAIGH3Ics/AknYt5OIxD+CKVZP3q69P3Jj5V0Wj7Q/2ee1Ati6rD9lGlxZ8/qdP+NyZ94dHXO/w5Uohb2snL+VfUjZ0SGYv5a686JAqGW/25bGBDw2iD/VYLdb1B+aPz7XzmLv5qQ/ulHvnyqDrj91UPk/1r+0P+NNRODEZ7o/H77p6WUMwD9j17RaeSzDP9/LdQHMCMY/iFEp2V7Jxz+3RbobG+zJP+laYgIKt8w/ViHtmB3Wzz8RZJD9JGXRPzM3OkJhq9I/3T9YvhXm0z9NOuNeDQ7VPzfOv8AgJ9Y//h4GBIQg1z8H1HpDCvPXP4F60D8Dotg/RypCoOkb2T+f9Rnl00LZP+TF/LvC69g/3uG4hCoS2T8xq14bfc7XPzzKd9/nrtU/i02vveQ50z/rx+TcPznQP8qrEOIMdss/oWXdPxaixz+RRVhcNbLEP7iU88Xei8I/xccGVv5KwT/Ax+T9TWLBP6x9EZ8BFsg/\",\"dtype\":\"float64\",\"shape\":[75]},\"y\":{\"__ndarray__\":\"S/O/Q+51ND/430zAtpRIP2vylNV0PVE/QxsjCssuWD/TR4Z78fVgP+inNsRxymc/OuuBfZWvcD/u3TFA02d3P2d3VoBnaoA/CD5h5MAGhz/1pA8HUCaQP+zrCsc9p5Y/Fb7LAKjGnz/nJ9c/SEmmPwBD+fzcQq8/FOZwv9nstT8Er5Y7M8G+P0c+r3jqkcU/yK72qKZBzj+tM989FzjVPxbgmr8yxN0/cOm5AXbg5D+5ctXAf0jtP5kqGJXUifQ/DsrqDELP/D8MCAhBojQEQDItVnmnVwxAiFXNvdHgE0BSSZ2AJuIbQAMJih9jjiNA5q4l5INuK0CPVN/5RT0zQHzxRXu8/DpAOZ7PgHrtQkAg8wGBzoxKQBSTN8DMeFJA2NmQf2ZqWEAAAAAAAFxeQEQX1LfMJmJAmpmZmZkfZUBmZmZmZhhoQLzoK0gzEWtAAAAAAAAKbkCiC+pbZoFwQAhyUMLM/XFA+I2vPTN6c0AQ5KCEmfZ0QAAAAAAAc3ZA8Btfe2bvd0AIclDCzGt5QPeNrz0z6HpAEOSghJlkfEAAAAAAAOF9QKML6ltmXX9ABTkoYeZsgED7xteeGSuBQAhyUMJM6YFAAAAAAICngkD4ja89s2WDQAU5KGHmI4RA+8bXnhnihEAIclDCTKCFQAAAAACAXoZA+I2vPbMch0AFOShh5tqHQPvG154ZmYhACHJQwkxXiUAAAAAAgBWKQPeNrz2z04pABTkoYeaRi0D7xteeGVCMQAlyUMJMDo1AAAAAAIDMjUD3ja89s4qOQGZmZmbmSI9A\",\"dtype\":\"float64\",\"shape\":[75]}}},\"id\":\"829f4fee-b83b-4bf4-9916-06ba33995092\",\"type\":\"ColumnDataSource\"},{\"attributes\":{\"callback\":null,\"column_names\":[\"x\",\"y\"],\"data\":{\"x\":{\"__ndarray__\":\"ZyOdop+A0D8TDXP+/ZTYP0R51blYh8E/YuQbwBHT1D91X8b7DtHRP6kYxmFZ/tE/vNgHmzKe0z/Wd3bgOefTPz3wlIIsU9Q/ff9q/i071D+B7ol9G0XUP+OwbpstCdM/2VKTIiq70T/pnYZ/Q+7OPxZtbWWyzc0/GSXgvqux0T/Lqyl/rQHVP0QqlJ5MkNY/afST/wML1z8Vcue61ybZPw/zQL9Kmd8/E4gRoZUk5T+QzZ+ANy7nP+lSr50gWOU/4gTH4aOw4j/zxWLE06XeP0E+zzwML9k/JgFJXPD31D9uPmSA+kXRP3sAIGH3Ics/AknYt5OIxD+CKVZP3q69P3Jj5V0Wj7Q/2ee1Ati6rD9lGlxZ8/qdP+NyZ94dHXO/w5Uohb2snL+VfUjZ0SGYv5a686JAqGW/25bGBDw2iD/VYLdb1B+aPz7XzmLv5qQ/ulHvnyqDrj91UPk/1r+0P+NNRODEZ7o/H77p6WUMwD9j17RaeSzDP9/LdQHMCMY/iFEp2V7Jxz+3RbobG+zJP+laYgIKt8w/ViHtmB3Wzz8RZJD9JGXRPzM3OkJhq9I/3T9YvhXm0z9NOuNeDQ7VPzfOv8AgJ9Y//h4GBIQg1z8H1HpDCvPXP4F60D8Dotg/RypCoOkb2T+f9Rnl00LZP+TF/LvC69g/3uG4hCoS2T8xq14bfc7XPzzKd9/nrtU/i02vveQ50z/rx+TcPznQP8qrEOIMdss/oWXdPxaixz+RRVhcNbLEP7iU88Xei8I/xccGVv5KwT/Ax+T9TWLBP6x9EZ8BFsg/\",\"dtype\":\"float64\",\"shape\":[75]},\"y\":{\"__ndarray__\":\"S/O/Q+51ND/430zAtpRIP2vylNV0PVE/QxsjCssuWD/TR4Z78fVgP+inNsRxymc/OuuBfZWvcD/u3TFA02d3P2d3VoBnaoA/CD5h5MAGhz/1pA8HUCaQP+zrCsc9p5Y/Fb7LAKjGnz/nJ9c/SEmmPwBD+fzcQq8/FOZwv9nstT8Er5Y7M8G+P0c+r3jqkcU/yK72qKZBzj+tM989FzjVPxbgmr8yxN0/cOm5AXbg5D+5ctXAf0jtP5kqGJXUifQ/DsrqDELP/D8MCAhBojQEQDItVnmnVwxAiFXNvdHgE0BSSZ2AJuIbQAMJih9jjiNA5q4l5INuK0CPVN/5RT0zQHzxRXu8/DpAOZ7PgHrtQkAg8wGBzoxKQBSTN8DMeFJA2NmQf2ZqWEAAAAAAAFxeQEQX1LfMJmJAmpmZmZkfZUBmZmZmZhhoQLzoK0gzEWtAAAAAAAAKbkCiC+pbZoFwQAhyUMLM/XFA+I2vPTN6c0AQ5KCEmfZ0QAAAAAAAc3ZA8Btfe2bvd0AIclDCzGt5QPeNrz0z6HpAEOSghJlkfEAAAAAAAOF9QKML6ltmXX9ABTkoYeZsgED7xteeGSuBQAhyUMJM6YFAAAAAAICngkD4ja89s2WDQAU5KGHmI4RA+8bXnhnihEAIclDCTKCFQAAAAACAXoZA+I2vPbMch0AFOShh5tqHQPvG154ZmYhACHJQwkxXiUAAAAAAgBWKQPeNrz2z04pABTkoYeaRi0D7xteeGVCMQAlyUMJMDo1AAAAAAIDMjUD3ja89s4qOQGZmZmbmSI9A\",\"dtype\":\"float64\",\"shape\":[75]}}},\"id\":\"4f5182d9-8ed6-4d3c-adec-69dcd1c7ae95\",\"type\":\"ColumnDataSource\"},{\"attributes\":{},\"id\":\"1057f036-a7dc-4058-9d4c-7b3789c94ada\",\"type\":\"PanTool\"},{\"attributes\":{\"fill_alpha\":{\"value\":0.7},\"fill_color\":{\"value\":\"#4daf4a\"},\"line_alpha\":{\"value\":0.7},\"line_color\":{\"value\":\"#4daf4a\"},\"x\":{\"field\":\"x\"},\"y\":{\"field\":\"y\"}},\"id\":\"6c8706df-f1de-4079-bcbc-fd183bdaafd9\",\"type\":\"Circle\"},{\"attributes\":{\"callback\":null,\"column_names\":[\"x\",\"y\"],\"data\":{\"x\":{\"__ndarray__\":\"imo60H1Y1T854Kk27oPVP/ycim21O9Y/VwWLP2H71j/9/FKaKJ3XPzRf63MxHdg/yegd+jBz2D84OnwMNY7YP39duDm2Wtg/NAowyVTD1z83O+9SLK/WP2v23QB1+9Q/9MdRDNKE0j8g07kmzbTOP/UmTDnbs8w/9Q8iGXLs0D+fQqZjawnUP+r+uYFlGdY/qk9JCBzq1z9Xi3iAYRjbP9jKtpkr3+A/bkFC1ks65j/uhCxF0efnPzpjb5SCj+U/pZJsO46b4j/pU56rc23eP9u3QYqN+9g/geAabY+91D86LwTvmgbRP0FwS5r1GMs/T2a0PKzDxD+iNAZjZbC+Pxql9f7Z67U/K/C1ak6Trz9THqNdAVygP/wGQPlPAHO/H1nkyuWunb+BtEuQG8KYv/i1qrN+3Ve/UrDOSr0bjT9jr6D+7ZGdP2f1IpsqZqc/5wKm8sfLsD+3fRjsSYq2P93kfT3berw/8RQwicw/wT+Tq3kKkFPEPzMPqh56HMc/AGSVkBfryD+ta5MO//7KPxeLtpUkcM0/PlHhIe8J0D8MTDzaF1TRP2IYqHPiftI/TLzqnsiV0z8GQKIqIprUP9ZPYoSujNU/gxMTzH9l1j8e7U1GdBPXP8bP82VxmNc/3nBh1Qfv1z8919bTN/7XP6Q4BQFLkdc/b4HjtqaO1z9htvD+cD7WP+ali+KPQdQ/y5O1l34T0j/wAvyF5AXPP1B1I4fj1Mo/Vyhv0+GZxz8dIDV5DAfFP9rIlmGzDsM/Bpd1nC7NwT+3CsXKJsjBP/wKiP8qdsg/\",\"dtype\":\"float64\",\"shape\":[75]},\"y\":{\"__ndarray__\":\"GhExyth1ND/Sv8nbtpRIP2vylNV0PVE/aTum7souWD/At0SJ8fVgPw3Iuahxymc/MSNhhJWvcD/bTfBN02d3P2zb5nxnaoA/CD5h5MAGhz8NmeH1TyaQP+zrCsc9p5Y/LbKd76fGnz/bLW5ISEmmPww9YvTcQq8/JV2OstnstT8Er5Y7M8G+P0c+r3jqkcU/5h99k6ZBzj88bCIzFzjVP4enV8oyxN0//yH99nXg5D8qOpLLf0jtP5kqGJXUifQ/c9cS8kHP/D+/DpwzojQEQIEmwoanVwxA4lgXt9HgE0BSSZ2AJuIbQAMJih9jjiNA5q4l5INuK0AwTKYKRj0zQNv5fmq8/DpAaCJseHrtQkB/+zpwzoxKQM3MzMzMeFJAZmZmZmZqWEAAAAAAAFxeQM3MzMzMJmJAmpmZmZkfZUBmZmZmZhhoQDMzMzMzEWtAAAAAAAAKbkBmZmZmZoFwQM3MzMzM/XFAMzMzMzN6c0CamZmZmfZ0QAAAAAAAc3ZAZmZmZmbvd0DNzMzMzGt5QDMzMzMz6HpAmpmZmZlkfEAAAAAAAOF9QGZmZmZmXX9AZmZmZuZsgECamZmZGSuBQM3MzMxM6YFAAAAAAICngkAzMzMzs2WDQGZmZmbmI4RAmpmZmRnihEDNzMzMTKCFQAAAAACAXoZAMzMzM7Mch0BmZmZm5tqHQJqZmZkZmYhAzczMzExXiUAAAAAAgBWKQDMzMzOz04pAZmZmZuaRi0CamZmZGVCMQM3MzMxMDo1AAAAAAIDMjUAzMzMzs4qOQGZmZmbmSI9A\",\"dtype\":\"float64\",\"shape\":[75]}}},\"id\":\"f65cd9ec-4390-4359-a45d-975a06db98bc\",\"type\":\"ColumnDataSource\"},{\"attributes\":{\"source\":{\"id\":\"0359acea-c105-4b75-b9bb-154ef7f70d83\",\"type\":\"ColumnDataSource\"}},\"id\":\"3dc1c985-7769-49dc-ad7b-f51138b6d2c5\",\"type\":\"CDSView\"},{\"attributes\":{\"line_color\":\"#4daf4a\",\"line_width\":1.5,\"x\":{\"field\":\"x\"},\"y\":{\"field\":\"y\"}},\"id\":\"da603f2f-1ed8-464e-baeb-25f2cbfff179\",\"type\":\"Line\"},{\"attributes\":{\"data_source\":{\"id\":\"4825c95c-a768-4902-92f4-7fd3483812e6\",\"type\":\"ColumnDataSource\"},\"glyph\":{\"id\":\"da603f2f-1ed8-464e-baeb-25f2cbfff179\",\"type\":\"Line\"},\"hover_glyph\":null,\"muted_glyph\":null,\"nonselection_glyph\":{\"id\":\"de20c82d-a109-4c35-b678-fc345fe574a0\",\"type\":\"Line\"},\"selection_glyph\":null,\"view\":{\"id\":\"53cfbdb1-a490-4440-9edf-f32a8a3a1625\",\"type\":\"CDSView\"}},\"id\":\"75a8ab17-2f65-4138-b2d6-bbad359701b3\",\"type\":\"GlyphRenderer\"},{\"attributes\":{\"source\":{\"id\":\"c422e1cf-74f2-43c0-ab34-b85f0dc6c9ba\",\"type\":\"ColumnDataSource\"}},\"id\":\"247fca0b-cefb-48eb-904c-e21dbd471ba6\",\"type\":\"CDSView\"},{\"attributes\":{\"callback\":null,\"column_names\":[\"x\",\"y\"],\"data\":{\"x\":{\"__ndarray__\":\"0PuUnV3C2j9jEmiPm4raP8x313ZmRNs/Ypkj0AXa2z9NPX+YjDzcPybWFI5BY9w/6K0uZegx3D/s5EZwp53bP7J8ZfdHjNo/dTHV5ffq2D9t5m/GWabWP/lCjs51sdM/6wpLdkv2zz8NKOX/n1THP6JR7C5x4MM/03+9X1jAyD8A/Pjw0QfQPxghfvYKqNM/e7zzOMoJ2D8L+Mr2AOHdP+Upac2oHOM/4UqwF46w6D+ohXksCdLpP7gkYqXdo+Y/qKv5+Qgf4z84GdFNzSveP0n/Pwx8Xtc/2MTZ358z0j/jZXarIdDMP2NdgY2QJsc/ZnlHW89vwj+iDgrOCW+8P04v+euKI7U/dAU5+ii7rj/XepsLF0qeP1Fu7ZFF0nm/9LOYpYu3nb+m3IcAA+iZvzYiSWXSM3W/LaZOznRZgj+sVe4XSUGXP8AfDKmTTaQ/b5HmVb7jrj8P/nt5zIO1P73HVwqa+bs/YG6cuSxLwT+8MIj+v6DEP8CbyZKUz8c/osCvTwg2yj+g7LmOadTMP8yENmu2k88/86dTP+sx0T/7by2sfpnSP92Qb4R/8NM/ZGZVOg4y1T/8kDMkWU3WP9bbbpsMO9c/Imz8skn41z8dtmd19n7YP1PktbcA2dg/ol0q2ywD2T9WVC+FKNvYPxL3eQi6KNg/fqag09rR1z/ahlmBhBXWP/zydkK3sNM/DZTKyuU10T+CGfj2UwjNP5I+zrAo18g/5fmhDDSjxT+vqNJgZBPDP1gmssUkEsE/dGWrJuNzvz9aZUOKQy6/P/+xMSvracY/\",\"dtype\":\"float64\",\"shape\":[75]},\"y\":{\"__ndarray__\":\"GhExyth1ND/Sv8nbtpRIP2vylNV0PVE/aTum7souWD/At0SJ8fVgPw3Iuahxymc/MSNhhJWvcD/bTfBN02d3P2zb5nxnaoA/CD5h5MAGhz8NmeH1TyaQP+zrCsc9p5Y/LbKd76fGnz/bLW5ISEmmPww9YvTcQq8/JV2OstnstT8Er5Y7M8G+P0c+r3jqkcU/5h99k6ZBzj88bCIzFzjVP4enV8oyxN0//yH99nXg5D8qOpLLf0jtP5kqGJXUifQ/c9cS8kHP/D+/DpwzojQEQIEmwoanVwxA4lgXt9HgE0BSSZ2AJuIbQAMJih9jjiNA5q4l5INuK0AwTKYKRj0zQNv5fmq8/DpAaCJseHrtQkB/+zpwzoxKQM3MzMzMeFJAZmZmZmZqWEAAAAAAAFxeQM3MzMzMJmJAmpmZmZkfZUBmZmZmZhhoQDMzMzMzEWtAAAAAAAAKbkBmZmZmZoFwQM3MzMzM/XFAMzMzMzN6c0CamZmZmfZ0QAAAAAAAc3ZAZmZmZmbvd0DNzMzMzGt5QDMzMzMz6HpAmpmZmZlkfEAAAAAAAOF9QGZmZmZmXX9AZmZmZuZsgECamZmZGSuBQM3MzMxM6YFAAAAAAICngkAzMzMzs2WDQGZmZmbmI4RAmpmZmRnihEDNzMzMTKCFQAAAAACAXoZAMzMzM7Mch0BmZmZm5tqHQJqZmZkZmYhAzczMzExXiUAAAAAAgBWKQDMzMzOz04pAZmZmZuaRi0CamZmZGVCMQM3MzMxMDo1AAAAAAIDMjUAzMzMzs4qOQGZmZmbmSI9A\",\"dtype\":\"float64\",\"shape\":[75]}}},\"id\":\"c422e1cf-74f2-43c0-ab34-b85f0dc6c9ba\",\"type\":\"ColumnDataSource\"},{\"attributes\":{\"data_source\":{\"id\":\"0359acea-c105-4b75-b9bb-154ef7f70d83\",\"type\":\"ColumnDataSource\"},\"glyph\":{\"id\":\"79085a8b-86c2-44b2-9b7b-2675d5d2fca1\",\"type\":\"Line\"},\"hover_glyph\":null,\"muted_glyph\":null,\"nonselection_glyph\":{\"id\":\"5767bfec-0c40-4715-9340-4b4cdfcc2a68\",\"type\":\"Line\"},\"selection_glyph\":null,\"view\":{\"id\":\"3dc1c985-7769-49dc-ad7b-f51138b6d2c5\",\"type\":\"CDSView\"}},\"id\":\"6695e5bc-0804-4db4-9f34-73e2e2ff2f58\",\"type\":\"GlyphRenderer\"},{\"attributes\":{},\"id\":\"5ed3752e-962c-4e97-b831-b1d5012a7f54\",\"type\":\"WheelZoomTool\"},{\"attributes\":{\"data_source\":{\"id\":\"f65cd9ec-4390-4359-a45d-975a06db98bc\",\"type\":\"ColumnDataSource\"},\"glyph\":{\"id\":\"8c01e8b8-876a-40df-9ae1-d90bbeef67af\",\"type\":\"Square\"},\"hover_glyph\":null,\"muted_glyph\":null,\"nonselection_glyph\":{\"id\":\"43588bef-22ca-414e-b640-2951fdcf8ec8\",\"type\":\"Square\"},\"selection_glyph\":null,\"view\":{\"id\":\"48a9d242-2923-4476-bc98-9ce559be8b39\",\"type\":\"CDSView\"}},\"id\":\"46219485-646d-47cc-895f-6047250398a5\",\"type\":\"GlyphRenderer\"},{\"attributes\":{\"fill_alpha\":{\"value\":0.1},\"fill_color\":{\"value\":\"#1f77b4\"},\"line_alpha\":{\"value\":0.1},\"line_color\":{\"value\":\"#1f77b4\"},\"x\":{\"field\":\"x\"},\"y\":{\"field\":\"y\"}},\"id\":\"77bb909a-352c-404b-bc07-812058a11287\",\"type\":\"Square\"},{\"attributes\":{},\"id\":\"ac20a5c1-0eb2-45c7-8383-7ee9657065c5\",\"type\":\"BasicTickFormatter\"},{\"attributes\":{\"children\":[{\"id\":\"8430555a-be25-41f7-b4f4-dcfc07fd0434\",\"subtype\":\"Figure\",\"type\":\"Plot\"},{\"id\":\"38189685-01e1-4fca-b684-ade22d708bc8\",\"subtype\":\"Figure\",\"type\":\"Plot\"}]},\"id\":\"21e04016-148f-434b-8578-d88357539393\",\"type\":\"Row\"},{\"attributes\":{\"callback\":null,\"column_names\":[\"x\",\"y\"],\"data\":{\"x\":{\"__ndarray__\":\"imo60H1Y1T854Kk27oPVP/ycim21O9Y/VwWLP2H71j/9/FKaKJ3XPzRf63MxHdg/yegd+jBz2D84OnwMNY7YP39duDm2Wtg/NAowyVTD1z83O+9SLK/WP2v23QB1+9Q/9MdRDNKE0j8g07kmzbTOP/UmTDnbs8w/9Q8iGXLs0D+fQqZjawnUP+r+uYFlGdY/qk9JCBzq1z9Xi3iAYRjbP9jKtpkr3+A/bkFC1ks65j/uhCxF0efnPzpjb5SCj+U/pZJsO46b4j/pU56rc23eP9u3QYqN+9g/geAabY+91D86LwTvmgbRP0FwS5r1GMs/T2a0PKzDxD+iNAZjZbC+Pxql9f7Z67U/K/C1ak6Trz9THqNdAVygP/wGQPlPAHO/H1nkyuWunb+BtEuQG8KYv/i1qrN+3Ve/UrDOSr0bjT9jr6D+7ZGdP2f1IpsqZqc/5wKm8sfLsD+3fRjsSYq2P93kfT3berw/8RQwicw/wT+Tq3kKkFPEPzMPqh56HMc/AGSVkBfryD+ta5MO//7KPxeLtpUkcM0/PlHhIe8J0D8MTDzaF1TRP2IYqHPiftI/TLzqnsiV0z8GQKIqIprUP9ZPYoSujNU/gxMTzH9l1j8e7U1GdBPXP8bP82VxmNc/3nBh1Qfv1z8919bTN/7XP6Q4BQFLkdc/b4HjtqaO1z9htvD+cD7WP+ali+KPQdQ/y5O1l34T0j/wAvyF5AXPP1B1I4fj1Mo/Vyhv0+GZxz8dIDV5DAfFP9rIlmGzDsM/Bpd1nC7NwT+3CsXKJsjBP/wKiP8qdsg/\",\"dtype\":\"float64\",\"shape\":[75]},\"y\":{\"__ndarray__\":\"GhExyth1ND/Sv8nbtpRIP2vylNV0PVE/aTum7souWD/At0SJ8fVgPw3Iuahxymc/MSNhhJWvcD/bTfBN02d3P2zb5nxnaoA/CD5h5MAGhz8NmeH1TyaQP+zrCsc9p5Y/LbKd76fGnz/bLW5ISEmmPww9YvTcQq8/JV2OstnstT8Er5Y7M8G+P0c+r3jqkcU/5h99k6ZBzj88bCIzFzjVP4enV8oyxN0//yH99nXg5D8qOpLLf0jtP5kqGJXUifQ/c9cS8kHP/D+/DpwzojQEQIEmwoanVwxA4lgXt9HgE0BSSZ2AJuIbQAMJih9jjiNA5q4l5INuK0AwTKYKRj0zQNv5fmq8/DpAaCJseHrtQkB/+zpwzoxKQM3MzMzMeFJAZmZmZmZqWEAAAAAAAFxeQM3MzMzMJmJAmpmZmZkfZUBmZmZmZhhoQDMzMzMzEWtAAAAAAAAKbkBmZmZmZoFwQM3MzMzM/XFAMzMzMzN6c0CamZmZmfZ0QAAAAAAAc3ZAZmZmZmbvd0DNzMzMzGt5QDMzMzMz6HpAmpmZmZlkfEAAAAAAAOF9QGZmZmZmXX9AZmZmZuZsgECamZmZGSuBQM3MzMxM6YFAAAAAAICngkAzMzMzs2WDQGZmZmbmI4RAmpmZmRnihEDNzMzMTKCFQAAAAACAXoZAMzMzM7Mch0BmZmZm5tqHQJqZmZkZmYhAzczMzExXiUAAAAAAgBWKQDMzMzOz04pAZmZmZuaRi0CamZmZGVCMQM3MzMxMDo1AAAAAAIDMjUAzMzMzs4qOQGZmZmbmSI9A\",\"dtype\":\"float64\",\"shape\":[75]}}},\"id\":\"89821c82-465e-489c-a2b6-ca7f0280bb5c\",\"type\":\"ColumnDataSource\"},{\"attributes\":{\"plot\":{\"id\":\"8430555a-be25-41f7-b4f4-dcfc07fd0434\",\"subtype\":\"Figure\",\"type\":\"Plot\"},\"ticker\":{\"id\":\"c95b5cd1-3599-49d0-923d-5b9ffd537d7a\",\"type\":\"BasicTicker\"}},\"id\":\"e33425eb-4c77-4d65-b56f-6d148c399014\",\"type\":\"Grid\"},{\"attributes\":{\"ticker\":null},\"id\":\"cc2c2209-a951-4ebf-a99d-00d154c21745\",\"type\":\"LogTickFormatter\"},{\"attributes\":{\"line_alpha\":0.1,\"line_color\":\"#1f77b4\",\"line_width\":1.5,\"x\":{\"field\":\"x\"},\"y\":{\"field\":\"y\"}},\"id\":\"de20c82d-a109-4c35-b678-fc345fe574a0\",\"type\":\"Line\"},{\"attributes\":{\"data_source\":{\"id\":\"c422e1cf-74f2-43c0-ab34-b85f0dc6c9ba\",\"type\":\"ColumnDataSource\"},\"glyph\":{\"id\":\"6c8706df-f1de-4079-bcbc-fd183bdaafd9\",\"type\":\"Circle\"},\"hover_glyph\":null,\"muted_glyph\":null,\"nonselection_glyph\":{\"id\":\"d93db293-7302-4cbe-8157-c283fcc9fef4\",\"type\":\"Circle\"},\"selection_glyph\":null,\"view\":{\"id\":\"247fca0b-cefb-48eb-904c-e21dbd471ba6\",\"type\":\"CDSView\"}},\"id\":\"0438d23a-527a-402e-9852-e2ebb894c3ca\",\"type\":\"GlyphRenderer\"},{\"attributes\":{\"axis_label\":\"pressure [mb]\",\"formatter\":{\"id\":\"cc2c2209-a951-4ebf-a99d-00d154c21745\",\"type\":\"LogTickFormatter\"},\"plot\":{\"id\":\"38189685-01e1-4fca-b684-ade22d708bc8\",\"subtype\":\"Figure\",\"type\":\"Plot\"},\"ticker\":{\"id\":\"35b6f6a3-4c1d-4187-bf84-0642a19ec667\",\"type\":\"LogTicker\"}},\"id\":\"a210a84d-5a7f-486a-874b-93de920cd48d\",\"type\":\"LogAxis\"},{\"attributes\":{\"callback\":null,\"end\":0.01,\"start\":1020},\"id\":\"09d5810c-3e5d-4366-b8e9-914f280e8821\",\"type\":\"Range1d\"},{\"attributes\":{\"source\":{\"id\":\"4825c95c-a768-4902-92f4-7fd3483812e6\",\"type\":\"ColumnDataSource\"}},\"id\":\"53cfbdb1-a490-4440-9edf-f32a8a3a1625\",\"type\":\"CDSView\"},{\"attributes\":{\"fill_alpha\":{\"value\":0.1},\"fill_color\":{\"value\":\"#1f77b4\"},\"line_alpha\":{\"value\":0.1},\"line_color\":{\"value\":\"#1f77b4\"},\"x\":{\"field\":\"x\"},\"y\":{\"field\":\"y\"}},\"id\":\"d93db293-7302-4cbe-8157-c283fcc9fef4\",\"type\":\"Circle\"},{\"attributes\":{\"axis_label\":\"cooling rate [K/day]\",\"formatter\":{\"id\":\"2818f8a0-b9cd-4c78-ab4d-a6fc58209d36\",\"type\":\"BasicTickFormatter\"},\"plot\":{\"id\":\"8430555a-be25-41f7-b4f4-dcfc07fd0434\",\"subtype\":\"Figure\",\"type\":\"Plot\"},\"ticker\":{\"id\":\"c95b5cd1-3599-49d0-923d-5b9ffd537d7a\",\"type\":\"BasicTicker\"}},\"id\":\"a4f7536a-afaf-48aa-a813-8a0e6f1bf21d\",\"type\":\"LinearAxis\"},{\"attributes\":{\"fill_alpha\":{\"value\":0.7},\"fill_color\":{\"value\":\"#984ea3\"},\"line_alpha\":{\"value\":0.7},\"line_color\":{\"value\":\"#984ea3\"},\"x\":{\"field\":\"x\"},\"y\":{\"field\":\"y\"}},\"id\":\"bbf3b7a3-0376-4f09-8895-a296ee35f129\",\"type\":\"Square\"},{\"attributes\":{\"fill_alpha\":{\"value\":0.7},\"fill_color\":{\"value\":\"#984ea3\"},\"line_alpha\":{\"value\":0.7},\"line_color\":{\"value\":\"#984ea3\"},\"x\":{\"field\":\"x\"},\"y\":{\"field\":\"y\"}},\"id\":\"8c01e8b8-876a-40df-9ae1-d90bbeef67af\",\"type\":\"Square\"},{\"attributes\":{\"data_source\":{\"id\":\"89821c82-465e-489c-a2b6-ca7f0280bb5c\",\"type\":\"ColumnDataSource\"},\"glyph\":{\"id\":\"8e95b035-0186-4d40-a6f1-e50874866a73\",\"type\":\"Line\"},\"hover_glyph\":null,\"muted_glyph\":null,\"nonselection_glyph\":{\"id\":\"fbde276b-ba46-421d-8831-00e1e5536435\",\"type\":\"Line\"},\"selection_glyph\":null,\"view\":{\"id\":\"8d279639-9c8b-4458-bb79-37a10a1e5d86\",\"type\":\"CDSView\"}},\"id\":\"61b8e8c6-42c8-4f2b-a901-5654127706f0\",\"type\":\"GlyphRenderer\"},{\"attributes\":{},\"id\":\"c95b5cd1-3599-49d0-923d-5b9ffd537d7a\",\"type\":\"BasicTicker\"},{\"attributes\":{\"fill_alpha\":{\"value\":0.1},\"fill_color\":{\"value\":\"#1f77b4\"},\"line_alpha\":{\"value\":0.1},\"line_color\":{\"value\":\"#1f77b4\"},\"x\":{\"field\":\"x\"},\"y\":{\"field\":\"y\"}},\"id\":\"43588bef-22ca-414e-b640-2951fdcf8ec8\",\"type\":\"Square\"},{\"attributes\":{\"callback\":null,\"end\":0.81524823623,\"start\":-0.03737957923},\"id\":\"0b12546a-cf3d-4a08-b3e2-169fdb9fb70d\",\"type\":\"Range1d\"},{\"attributes\":{\"fill_alpha\":{\"value\":0.7},\"fill_color\":{\"value\":\"#4daf4a\"},\"line_alpha\":{\"value\":0.7},\"line_color\":{\"value\":\"#4daf4a\"},\"x\":{\"field\":\"x\"},\"y\":{\"field\":\"y\"}},\"id\":\"d66fe64a-d80d-4fc6-a9c5-85e895f07454\",\"type\":\"Circle\"},{\"attributes\":{\"source\":{\"id\":\"f65cd9ec-4390-4359-a45d-975a06db98bc\",\"type\":\"ColumnDataSource\"}},\"id\":\"48a9d242-2923-4476-bc98-9ce559be8b39\",\"type\":\"CDSView\"},{\"attributes\":{\"active_drag\":\"auto\",\"active_inspect\":\"auto\",\"active_scroll\":\"auto\",\"active_tap\":\"auto\",\"tools\":[{\"id\":\"1057f036-a7dc-4058-9d4c-7b3789c94ada\",\"type\":\"PanTool\"},{\"id\":\"5ed3752e-962c-4e97-b831-b1d5012a7f54\",\"type\":\"WheelZoomTool\"},{\"id\":\"87f61d48-c8e0-4194-99df-dfc9045b63db\",\"type\":\"BoxZoomTool\"},{\"id\":\"9f511318-579d-4370-bfc9-60ccd23ea900\",\"type\":\"SaveTool\"},{\"id\":\"6ea13c49-1cc7-492a-a444-a765bf378f65\",\"type\":\"ResetTool\"},{\"id\":\"bad379c4-8542-4058-b8cc-86a4aec98611\",\"type\":\"HelpTool\"}]},\"id\":\"3af3c7ae-2996-468d-a7fb-feb2907e7760\",\"type\":\"Toolbar\"},{\"attributes\":{\"line_alpha\":0.6,\"line_color\":\"#984ea3\",\"line_width\":3,\"x\":{\"field\":\"x\"},\"y\":{\"field\":\"y\"}},\"id\":\"8e95b035-0186-4d40-a6f1-e50874866a73\",\"type\":\"Line\"},{\"attributes\":{\"items\":[{\"id\":\"cd12e672-fd51-4746-8d83-eac5ebe1e8f3\",\"type\":\"LegendItem\"},{\"id\":\"844aa4b7-3e6e-4f1d-9f0a-c82c83bef27e\",\"type\":\"LegendItem\"},{\"id\":\"ed0848de-ba28-4428-8556-181253999d2a\",\"type\":\"LegendItem\"}],\"label_text_font_size\":{\"value\":\"8pt\"},\"location\":[10,-30],\"plot\":{\"id\":\"38189685-01e1-4fca-b684-ade22d708bc8\",\"subtype\":\"Figure\",\"type\":\"Plot\"}},\"id\":\"32e04672-c771-4cf4-9afb-186ffa02e6ad\",\"type\":\"Legend\"},{\"attributes\":{\"line_alpha\":0.6,\"line_color\":\"#e41a1c\",\"line_dash\":[6],\"line_width\":5,\"x\":{\"field\":\"x\"},\"y\":{\"field\":\"y\"}},\"id\":\"a8fba6f9-26ec-4977-9a8b-0f976471da65\",\"type\":\"Line\"},{\"attributes\":{\"line_alpha\":0.1,\"line_color\":\"#1f77b4\",\"line_width\":3,\"x\":{\"field\":\"x\"},\"y\":{\"field\":\"y\"}},\"id\":\"fbde276b-ba46-421d-8831-00e1e5536435\",\"type\":\"Line\"},{\"attributes\":{\"callback\":null,\"column_names\":[\"x\",\"y\"],\"data\":{\"x\":{\"__ndarray__\":\"0PuUnV3C2j9jEmiPm4raP8x313ZmRNs/Ypkj0AXa2z9NPX+YjDzcPybWFI5BY9w/6K0uZegx3D/s5EZwp53bP7J8ZfdHjNo/dTHV5ffq2D9t5m/GWabWP/lCjs51sdM/6wpLdkv2zz8NKOX/n1THP6JR7C5x4MM/03+9X1jAyD8A/Pjw0QfQPxghfvYKqNM/e7zzOMoJ2D8L+Mr2AOHdP+Upac2oHOM/4UqwF46w6D+ohXksCdLpP7gkYqXdo+Y/qKv5+Qgf4z84GdFNzSveP0n/Pwx8Xtc/2MTZ358z0j/jZXarIdDMP2NdgY2QJsc/ZnlHW89vwj+iDgrOCW+8P04v+euKI7U/dAU5+ii7rj/XepsLF0qeP1Fu7ZFF0nm/9LOYpYu3nb+m3IcAA+iZvzYiSWXSM3W/LaZOznRZgj+sVe4XSUGXP8AfDKmTTaQ/b5HmVb7jrj8P/nt5zIO1P73HVwqa+bs/YG6cuSxLwT+8MIj+v6DEP8CbyZKUz8c/osCvTwg2yj+g7LmOadTMP8yENmu2k88/86dTP+sx0T/7by2sfpnSP92Qb4R/8NM/ZGZVOg4y1T/8kDMkWU3WP9bbbpsMO9c/Imz8skn41z8dtmd19n7YP1PktbcA2dg/ol0q2ywD2T9WVC+FKNvYPxL3eQi6KNg/fqag09rR1z/ahlmBhBXWP/zydkK3sNM/DZTKyuU10T+CGfj2UwjNP5I+zrAo18g/5fmhDDSjxT+vqNJgZBPDP1gmssUkEsE/dGWrJuNzvz9aZUOKQy6/P/+xMSvracY/\",\"dtype\":\"float64\",\"shape\":[75]},\"y\":{\"__ndarray__\":\"GhExyth1ND/Sv8nbtpRIP2vylNV0PVE/aTum7souWD/At0SJ8fVgPw3Iuahxymc/MSNhhJWvcD/bTfBN02d3P2zb5nxnaoA/CD5h5MAGhz8NmeH1TyaQP+zrCsc9p5Y/LbKd76fGnz/bLW5ISEmmPww9YvTcQq8/JV2OstnstT8Er5Y7M8G+P0c+r3jqkcU/5h99k6ZBzj88bCIzFzjVP4enV8oyxN0//yH99nXg5D8qOpLLf0jtP5kqGJXUifQ/c9cS8kHP/D+/DpwzojQEQIEmwoanVwxA4lgXt9HgE0BSSZ2AJuIbQAMJih9jjiNA5q4l5INuK0AwTKYKRj0zQNv5fmq8/DpAaCJseHrtQkB/+zpwzoxKQM3MzMzMeFJAZmZmZmZqWEAAAAAAAFxeQM3MzMzMJmJAmpmZmZkfZUBmZmZmZhhoQDMzMzMzEWtAAAAAAAAKbkBmZmZmZoFwQM3MzMzM/XFAMzMzMzN6c0CamZmZmfZ0QAAAAAAAc3ZAZmZmZmbvd0DNzMzMzGt5QDMzMzMz6HpAmpmZmZlkfEAAAAAAAOF9QGZmZmZmXX9AZmZmZuZsgECamZmZGSuBQM3MzMxM6YFAAAAAAICngkAzMzMzs2WDQGZmZmbmI4RAmpmZmRnihEDNzMzMTKCFQAAAAACAXoZAMzMzM7Mch0BmZmZm5tqHQJqZmZkZmYhAzczMzExXiUAAAAAAgBWKQDMzMzOz04pAZmZmZuaRi0CamZmZGVCMQM3MzMxMDo1AAAAAAIDMjUAzMzMzs4qOQGZmZmbmSI9A\",\"dtype\":\"float64\",\"shape\":[75]}}},\"id\":\"fd3e29b3-eec6-4214-8042-7549b75ac6f1\",\"type\":\"ColumnDataSource\"},{\"attributes\":{\"label\":{\"value\":\"CRD\"},\"renderers\":[{\"id\":\"0438d23a-527a-402e-9852-e2ebb894c3ca\",\"type\":\"GlyphRenderer\"},{\"id\":\"75a8ab17-2f65-4138-b2d6-bbad359701b3\",\"type\":\"GlyphRenderer\"}]},\"id\":\"844aa4b7-3e6e-4f1d-9f0a-c82c83bef27e\",\"type\":\"LegendItem\"},{\"attributes\":{\"source\":{\"id\":\"89821c82-465e-489c-a2b6-ca7f0280bb5c\",\"type\":\"ColumnDataSource\"}},\"id\":\"8d279639-9c8b-4458-bb79-37a10a1e5d86\",\"type\":\"CDSView\"},{\"attributes\":{\"dimension\":1,\"plot\":{\"id\":\"8430555a-be25-41f7-b4f4-dcfc07fd0434\",\"subtype\":\"Figure\",\"type\":\"Plot\"},\"ticker\":{\"id\":\"9bc971ea-f102-4d2d-96b0-9f0c527be36a\",\"type\":\"BasicTicker\"}},\"id\":\"8e2a209d-3791-42d7-ae0e-a3af1d1e7b50\",\"type\":\"Grid\"},{\"attributes\":{},\"id\":\"451bb203-e883-4761-a141-d1de298984dd\",\"type\":\"LinearScale\"},{\"attributes\":{\"children\":[{\"id\":\"8a89bcdc-9190-40b0-be3f-de9d9216f29c\",\"type\":\"ToolbarBox\"},{\"id\":\"25e3f894-1b55-4d59-8980-225b773415a1\",\"type\":\"Column\"}]},\"id\":\"0e860fa3-25c5-429c-8472-4d96c6816e9c\",\"type\":\"Column\"},{\"attributes\":{\"label\":{\"value\":\"WGT igg=10 wgt_flux=2\"},\"renderers\":[{\"id\":\"46219485-646d-47cc-895f-6047250398a5\",\"type\":\"GlyphRenderer\"},{\"id\":\"61b8e8c6-42c8-4f2b-a901-5654127706f0\",\"type\":\"GlyphRenderer\"}]},\"id\":\"ed0848de-ba28-4428-8556-181253999d2a\",\"type\":\"LegendItem\"},{\"attributes\":{},\"id\":\"9f511318-579d-4370-bfc9-60ccd23ea900\",\"type\":\"SaveTool\"},{\"attributes\":{\"below\":[{\"id\":\"a4f7536a-afaf-48aa-a813-8a0e6f1bf21d\",\"type\":\"LinearAxis\"}],\"left\":[{\"id\":\"0aa3116e-6041-4537-a379-5e962efa5a1f\",\"type\":\"LinearAxis\"}],\"plot_height\":500,\"plot_width\":400,\"renderers\":[{\"id\":\"a4f7536a-afaf-48aa-a813-8a0e6f1bf21d\",\"type\":\"LinearAxis\"},{\"id\":\"e33425eb-4c77-4d65-b56f-6d148c399014\",\"type\":\"Grid\"},{\"id\":\"0aa3116e-6041-4537-a379-5e962efa5a1f\",\"type\":\"LinearAxis\"},{\"id\":\"8e2a209d-3791-42d7-ae0e-a3af1d1e7b50\",\"type\":\"Grid\"},{\"id\":\"2c3d96c1-4437-40b5-9ad6-13ddf202e022\",\"type\":\"BoxAnnotation\"},{\"id\":\"367e1967-2d9d-43be-91e2-0d498e4d939e\",\"type\":\"GlyphRenderer\"},{\"id\":\"fa179206-2270-492c-af59-b360ac0114dd\",\"type\":\"GlyphRenderer\"},{\"id\":\"6695e5bc-0804-4db4-9f34-73e2e2ff2f58\",\"type\":\"GlyphRenderer\"},{\"id\":\"393298db-0db7-4f84-9bec-289644b78f62\",\"type\":\"GlyphRenderer\"},{\"id\":\"444e23f5-3315-4d31-b3f5-d3c610f21de7\",\"type\":\"GlyphRenderer\"}],\"title\":{\"id\":\"616013b8-8557-4f19-a41e-477cb738fe27\",\"type\":\"Title\"},\"toolbar\":{\"id\":\"3af3c7ae-2996-468d-a7fb-feb2907e7760\",\"type\":\"Toolbar\"},\"toolbar_location\":null,\"x_range\":{\"id\":\"f6dc6cde-7fd3-4820-bb11-41c55bff079d\",\"type\":\"Range1d\"},\"x_scale\":{\"id\":\"451bb203-e883-4761-a141-d1de298984dd\",\"type\":\"LinearScale\"},\"y_range\":{\"id\":\"031cc7b1-1c00-41d7-aa62-21fb13741273\",\"type\":\"Range1d\"},\"y_scale\":{\"id\":\"f5215d40-12f4-4070-ae75-a658d4813159\",\"type\":\"LinearScale\"}},\"id\":\"8430555a-be25-41f7-b4f4-dcfc07fd0434\",\"subtype\":\"Figure\",\"type\":\"Plot\"},{\"attributes\":{\"axis_label\":\"pressure [mb]\",\"formatter\":{\"id\":\"ee187f97-fb43-48c8-a6af-eb4610300650\",\"type\":\"BasicTickFormatter\"},\"plot\":{\"id\":\"8430555a-be25-41f7-b4f4-dcfc07fd0434\",\"subtype\":\"Figure\",\"type\":\"Plot\"},\"ticker\":{\"id\":\"9bc971ea-f102-4d2d-96b0-9f0c527be36a\",\"type\":\"BasicTicker\"}},\"id\":\"0aa3116e-6041-4537-a379-5e962efa5a1f\",\"type\":\"LinearAxis\"},{\"attributes\":{\"callback\":null,\"column_names\":[\"x\",\"y\"],\"data\":{\"x\":{\"__ndarray__\":\"imo60H1Y1T854Kk27oPVP/ycim21O9Y/VwWLP2H71j/9/FKaKJ3XPzRf63MxHdg/yegd+jBz2D84OnwMNY7YP39duDm2Wtg/NAowyVTD1z83O+9SLK/WP2v23QB1+9Q/9MdRDNKE0j8g07kmzbTOP/UmTDnbs8w/9Q8iGXLs0D+fQqZjawnUP+r+uYFlGdY/qk9JCBzq1z9Xi3iAYRjbP9jKtpkr3+A/bkFC1ks65j/uhCxF0efnPzpjb5SCj+U/pZJsO46b4j/pU56rc23eP9u3QYqN+9g/geAabY+91D86LwTvmgbRP0FwS5r1GMs/T2a0PKzDxD+iNAZjZbC+Pxql9f7Z67U/K/C1ak6Trz9THqNdAVygP/wGQPlPAHO/H1nkyuWunb+BtEuQG8KYv/i1qrN+3Ve/UrDOSr0bjT9jr6D+7ZGdP2f1IpsqZqc/5wKm8sfLsD+3fRjsSYq2P93kfT3berw/8RQwicw/wT+Tq3kKkFPEPzMPqh56HMc/AGSVkBfryD+ta5MO//7KPxeLtpUkcM0/PlHhIe8J0D8MTDzaF1TRP2IYqHPiftI/TLzqnsiV0z8GQKIqIprUP9ZPYoSujNU/gxMTzH9l1j8e7U1GdBPXP8bP82VxmNc/3nBh1Qfv1z8919bTN/7XP6Q4BQFLkdc/b4HjtqaO1z9htvD+cD7WP+ali+KPQdQ/y5O1l34T0j/wAvyF5AXPP1B1I4fj1Mo/Vyhv0+GZxz8dIDV5DAfFP9rIlmGzDsM/Bpd1nC7NwT+3CsXKJsjBP/wKiP8qdsg/\",\"dtype\":\"float64\",\"shape\":[75]},\"y\":{\"__ndarray__\":\"GhExyth1ND/Sv8nbtpRIP2vylNV0PVE/aTum7souWD/At0SJ8fVgPw3Iuahxymc/MSNhhJWvcD/bTfBN02d3P2zb5nxnaoA/CD5h5MAGhz8NmeH1TyaQP+zrCsc9p5Y/LbKd76fGnz/bLW5ISEmmPww9YvTcQq8/JV2OstnstT8Er5Y7M8G+P0c+r3jqkcU/5h99k6ZBzj88bCIzFzjVP4enV8oyxN0//yH99nXg5D8qOpLLf0jtP5kqGJXUifQ/c9cS8kHP/D+/DpwzojQEQIEmwoanVwxA4lgXt9HgE0BSSZ2AJuIbQAMJih9jjiNA5q4l5INuK0AwTKYKRj0zQNv5fmq8/DpAaCJseHrtQkB/+zpwzoxKQM3MzMzMeFJAZmZmZmZqWEAAAAAAAFxeQM3MzMzMJmJAmpmZmZkfZUBmZmZmZhhoQDMzMzMzEWtAAAAAAAAKbkBmZmZmZoFwQM3MzMzM/XFAMzMzMzN6c0CamZmZmfZ0QAAAAAAAc3ZAZmZmZmbvd0DNzMzMzGt5QDMzMzMz6HpAmpmZmZlkfEAAAAAAAOF9QGZmZmZmXX9AZmZmZuZsgECamZmZGSuBQM3MzMxM6YFAAAAAAICngkAzMzMzs2WDQGZmZmbmI4RAmpmZmRnihEDNzMzMTKCFQAAAAACAXoZAMzMzM7Mch0BmZmZm5tqHQJqZmZkZmYhAzczMzExXiUAAAAAAgBWKQDMzMzOz04pAZmZmZuaRi0CamZmZGVCMQM3MzMxMDo1AAAAAAIDMjUAzMzMzs4qOQGZmZmbmSI9A\",\"dtype\":\"float64\",\"shape\":[75]}}},\"id\":\"aff3b369-0229-4b78-b23f-1ae457a3add4\",\"type\":\"ColumnDataSource\"},{\"attributes\":{},\"id\":\"f5215d40-12f4-4070-ae75-a658d4813159\",\"type\":\"LinearScale\"},{\"attributes\":{},\"id\":\"2818f8a0-b9cd-4c78-ab4d-a6fc58209d36\",\"type\":\"BasicTickFormatter\"},{\"attributes\":{\"line_alpha\":0.1,\"line_color\":\"#1f77b4\",\"line_width\":1.5,\"x\":{\"field\":\"x\"},\"y\":{\"field\":\"y\"}},\"id\":\"5767bfec-0c40-4715-9340-4b4cdfcc2a68\",\"type\":\"Line\"},{\"attributes\":{},\"id\":\"6ea13c49-1cc7-492a-a444-a765bf378f65\",\"type\":\"ResetTool\"},{\"attributes\":{\"plot\":null,\"text\":\"Linear pressure scale\"},\"id\":\"616013b8-8557-4f19-a41e-477cb738fe27\",\"type\":\"Title\"},{\"attributes\":{\"callback\":null,\"end\":0.01,\"start\":1020},\"id\":\"031cc7b1-1c00-41d7-aa62-21fb13741273\",\"type\":\"Range1d\"},{\"attributes\":{\"callback\":null,\"column_names\":[\"x\",\"y\"],\"data\":{\"x\":{\"__ndarray__\":\"0PuUnV3C2j9jEmiPm4raP8x313ZmRNs/Ypkj0AXa2z9NPX+YjDzcPybWFI5BY9w/6K0uZegx3D/s5EZwp53bP7J8ZfdHjNo/dTHV5ffq2D9t5m/GWabWP/lCjs51sdM/6wpLdkv2zz8NKOX/n1THP6JR7C5x4MM/03+9X1jAyD8A/Pjw0QfQPxghfvYKqNM/e7zzOMoJ2D8L+Mr2AOHdP+Upac2oHOM/4UqwF46w6D+ohXksCdLpP7gkYqXdo+Y/qKv5+Qgf4z84GdFNzSveP0n/Pwx8Xtc/2MTZ358z0j/jZXarIdDMP2NdgY2QJsc/ZnlHW89vwj+iDgrOCW+8P04v+euKI7U/dAU5+ii7rj/XepsLF0qeP1Fu7ZFF0nm/9LOYpYu3nb+m3IcAA+iZvzYiSWXSM3W/LaZOznRZgj+sVe4XSUGXP8AfDKmTTaQ/b5HmVb7jrj8P/nt5zIO1P73HVwqa+bs/YG6cuSxLwT+8MIj+v6DEP8CbyZKUz8c/osCvTwg2yj+g7LmOadTMP8yENmu2k88/86dTP+sx0T/7by2sfpnSP92Qb4R/8NM/ZGZVOg4y1T/8kDMkWU3WP9bbbpsMO9c/Imz8skn41z8dtmd19n7YP1PktbcA2dg/ol0q2ywD2T9WVC+FKNvYPxL3eQi6KNg/fqag09rR1z/ahlmBhBXWP/zydkK3sNM/DZTKyuU10T+CGfj2UwjNP5I+zrAo18g/5fmhDDSjxT+vqNJgZBPDP1gmssUkEsE/dGWrJuNzvz9aZUOKQy6/P/+xMSvracY/\",\"dtype\":\"float64\",\"shape\":[75]},\"y\":{\"__ndarray__\":\"GhExyth1ND/Sv8nbtpRIP2vylNV0PVE/aTum7souWD/At0SJ8fVgPw3Iuahxymc/MSNhhJWvcD/bTfBN02d3P2zb5nxnaoA/CD5h5MAGhz8NmeH1TyaQP+zrCsc9p5Y/LbKd76fGnz/bLW5ISEmmPww9YvTcQq8/JV2OstnstT8Er5Y7M8G+P0c+r3jqkcU/5h99k6ZBzj88bCIzFzjVP4enV8oyxN0//yH99nXg5D8qOpLLf0jtP5kqGJXUifQ/c9cS8kHP/D+/DpwzojQEQIEmwoanVwxA4lgXt9HgE0BSSZ2AJuIbQAMJih9jjiNA5q4l5INuK0AwTKYKRj0zQNv5fmq8/DpAaCJseHrtQkB/+zpwzoxKQM3MzMzMeFJAZmZmZmZqWEAAAAAAAFxeQM3MzMzMJmJAmpmZmZkfZUBmZmZmZhhoQDMzMzMzEWtAAAAAAAAKbkBmZmZmZoFwQM3MzMzM/XFAMzMzMzN6c0CamZmZmfZ0QAAAAAAAc3ZAZmZmZmbvd0DNzMzMzGt5QDMzMzMz6HpAmpmZmZlkfEAAAAAAAOF9QGZmZmZmXX9AZmZmZuZsgECamZmZGSuBQM3MzMxM6YFAAAAAAICngkAzMzMzs2WDQGZmZmbmI4RAmpmZmRnihEDNzMzMTKCFQAAAAACAXoZAMzMzM7Mch0BmZmZm5tqHQJqZmZkZmYhAzczMzExXiUAAAAAAgBWKQDMzMzOz04pAZmZmZuaRi0CamZmZGVCMQM3MzMxMDo1AAAAAAIDMjUAzMzMzs4qOQGZmZmbmSI9A\",\"dtype\":\"float64\",\"shape\":[75]}}},\"id\":\"0359acea-c105-4b75-b9bb-154ef7f70d83\",\"type\":\"ColumnDataSource\"},{\"attributes\":{},\"id\":\"bad379c4-8542-4058-b8cc-86a4aec98611\",\"type\":\"HelpTool\"},{\"attributes\":{\"line_alpha\":0.1,\"line_color\":\"#1f77b4\",\"line_dash\":[6],\"line_width\":5,\"x\":{\"field\":\"x\"},\"y\":{\"field\":\"y\"}},\"id\":\"6697ca5b-1819-4e12-a25c-958784026277\",\"type\":\"Line\"},{\"attributes\":{},\"id\":\"3db59aa6-1e58-4e5c-b57b-0fc50c0eadb6\",\"type\":\"SaveTool\"},{\"attributes\":{},\"id\":\"915009a2-7642-4ba6-a225-3aa8962588e2\",\"type\":\"WheelZoomTool\"},{\"attributes\":{},\"id\":\"3f91b083-f086-4ec3-a755-0a455829d095\",\"type\":\"ResetTool\"},{\"attributes\":{},\"id\":\"f0c4a825-4d40-461a-a454-ba04b70ae63f\",\"type\":\"HelpTool\"},{\"attributes\":{\"source\":{\"id\":\"829f4fee-b83b-4bf4-9916-06ba33995092\",\"type\":\"ColumnDataSource\"}},\"id\":\"d98a7232-721e-4e3f-aca1-52f56d5f3c51\",\"type\":\"CDSView\"},{\"attributes\":{\"line_color\":\"#4daf4a\",\"line_width\":1.5,\"x\":{\"field\":\"x\"},\"y\":{\"field\":\"y\"}},\"id\":\"79085a8b-86c2-44b2-9b7b-2675d5d2fca1\",\"type\":\"Line\"},{\"attributes\":{\"overlay\":{\"id\":\"7bf5c3ee-96dd-4ad4-b0ff-6e5e2da83805\",\"type\":\"BoxAnnotation\"}},\"id\":\"f996113c-dc6a-47b9-9c99-76cfcd6eece4\",\"type\":\"BoxZoomTool\"},{\"attributes\":{\"line_alpha\":0.1,\"line_color\":\"#1f77b4\",\"line_dash\":[6],\"line_width\":5,\"x\":{\"field\":\"x\"},\"y\":{\"field\":\"y\"}},\"id\":\"2faeb1bf-67db-480b-9743-40837fbbb17b\",\"type\":\"Line\"},{\"attributes\":{\"source\":{\"id\":\"fd3e29b3-eec6-4214-8042-7549b75ac6f1\",\"type\":\"ColumnDataSource\"}},\"id\":\"94c2b4cc-6cad-43af-8f93-de991c841077\",\"type\":\"CDSView\"},{\"attributes\":{\"source\":{\"id\":\"4f5182d9-8ed6-4d3c-adec-69dcd1c7ae95\",\"type\":\"ColumnDataSource\"}},\"id\":\"48d3ad44-b3c2-4121-98b1-496d9c563a7f\",\"type\":\"CDSView\"},{\"attributes\":{\"toolbar\":{\"id\":\"427a33e6-4668-4003-a353-2015f55cf356\",\"type\":\"ProxyToolbar\"},\"toolbar_location\":\"above\"},\"id\":\"8a89bcdc-9190-40b0-be3f-de9d9216f29c\",\"type\":\"ToolbarBox\"},{\"attributes\":{},\"id\":\"ee187f97-fb43-48c8-a6af-eb4610300650\",\"type\":\"BasicTickFormatter\"},{\"attributes\":{\"line_alpha\":0.1,\"line_color\":\"#1f77b4\",\"line_width\":3,\"x\":{\"field\":\"x\"},\"y\":{\"field\":\"y\"}},\"id\":\"dbb06ca4-dfd5-40fb-b5be-7fa37472c75c\",\"type\":\"Line\"},{\"attributes\":{\"children\":[{\"id\":\"21e04016-148f-434b-8578-d88357539393\",\"type\":\"Row\"}]},\"id\":\"25e3f894-1b55-4d59-8980-225b773415a1\",\"type\":\"Column\"},{\"attributes\":{\"data_source\":{\"id\":\"829f4fee-b83b-4bf4-9916-06ba33995092\",\"type\":\"ColumnDataSource\"},\"glyph\":{\"id\":\"16ee1c19-7204-436c-9e2d-ff5eb40e1ac5\",\"type\":\"Line\"},\"hover_glyph\":null,\"muted_glyph\":null,\"nonselection_glyph\":{\"id\":\"6697ca5b-1819-4e12-a25c-958784026277\",\"type\":\"Line\"},\"selection_glyph\":null,\"view\":{\"id\":\"d98a7232-721e-4e3f-aca1-52f56d5f3c51\",\"type\":\"CDSView\"}},\"id\":\"367e1967-2d9d-43be-91e2-0d498e4d939e\",\"type\":\"GlyphRenderer\"},{\"attributes\":{\"callback\":null,\"column_names\":[\"x\",\"y\"],\"data\":{\"x\":{\"__ndarray__\":\"imo60H1Y1T854Kk27oPVP/ycim21O9Y/VwWLP2H71j/9/FKaKJ3XPzRf63MxHdg/yegd+jBz2D84OnwMNY7YP39duDm2Wtg/NAowyVTD1z83O+9SLK/WP2v23QB1+9Q/9MdRDNKE0j8g07kmzbTOP/UmTDnbs8w/9Q8iGXLs0D+fQqZjawnUP+r+uYFlGdY/qk9JCBzq1z9Xi3iAYRjbP9jKtpkr3+A/bkFC1ks65j/uhCxF0efnPzpjb5SCj+U/pZJsO46b4j/pU56rc23eP9u3QYqN+9g/geAabY+91D86LwTvmgbRP0FwS5r1GMs/T2a0PKzDxD+iNAZjZbC+Pxql9f7Z67U/K/C1ak6Trz9THqNdAVygP/wGQPlPAHO/H1nkyuWunb+BtEuQG8KYv/i1qrN+3Ve/UrDOSr0bjT9jr6D+7ZGdP2f1IpsqZqc/5wKm8sfLsD+3fRjsSYq2P93kfT3berw/8RQwicw/wT+Tq3kKkFPEPzMPqh56HMc/AGSVkBfryD+ta5MO//7KPxeLtpUkcM0/PlHhIe8J0D8MTDzaF1TRP2IYqHPiftI/TLzqnsiV0z8GQKIqIprUP9ZPYoSujNU/gxMTzH9l1j8e7U1GdBPXP8bP82VxmNc/3nBh1Qfv1z8919bTN/7XP6Q4BQFLkdc/b4HjtqaO1z9htvD+cD7WP+ali+KPQdQ/y5O1l34T0j/wAvyF5AXPP1B1I4fj1Mo/Vyhv0+GZxz8dIDV5DAfFP9rIlmGzDsM/Bpd1nC7NwT+3CsXKJsjBP/wKiP8qdsg/\",\"dtype\":\"float64\",\"shape\":[75]},\"y\":{\"__ndarray__\":\"GhExyth1ND/Sv8nbtpRIP2vylNV0PVE/aTum7souWD/At0SJ8fVgPw3Iuahxymc/MSNhhJWvcD/bTfBN02d3P2zb5nxnaoA/CD5h5MAGhz8NmeH1TyaQP+zrCsc9p5Y/LbKd76fGnz/bLW5ISEmmPww9YvTcQq8/JV2OstnstT8Er5Y7M8G+P0c+r3jqkcU/5h99k6ZBzj88bCIzFzjVP4enV8oyxN0//yH99nXg5D8qOpLLf0jtP5kqGJXUifQ/c9cS8kHP/D+/DpwzojQEQIEmwoanVwxA4lgXt9HgE0BSSZ2AJuIbQAMJih9jjiNA5q4l5INuK0AwTKYKRj0zQNv5fmq8/DpAaCJseHrtQkB/+zpwzoxKQM3MzMzMeFJAZmZmZmZqWEAAAAAAAFxeQM3MzMzMJmJAmpmZmZkfZUBmZmZmZhhoQDMzMzMzEWtAAAAAAAAKbkBmZmZmZoFwQM3MzMzM/XFAMzMzMzN6c0CamZmZmfZ0QAAAAAAAc3ZAZmZmZmbvd0DNzMzMzGt5QDMzMzMz6HpAmpmZmZlkfEAAAAAAAOF9QGZmZmZmXX9AZmZmZuZsgECamZmZGSuBQM3MzMxM6YFAAAAAAICngkAzMzMzs2WDQGZmZmbmI4RAmpmZmRnihEDNzMzMTKCFQAAAAACAXoZAMzMzM7Mch0BmZmZm5tqHQJqZmZkZmYhAzczMzExXiUAAAAAAgBWKQDMzMzOz04pAZmZmZuaRi0CamZmZGVCMQM3MzMxMDo1AAAAAAIDMjUAzMzMzs4qOQGZmZmbmSI9A\",\"dtype\":\"float64\",\"shape\":[75]}}},\"id\":\"6cf0f794-8f9f-4472-b4a6-3b56bf945461\",\"type\":\"ColumnDataSource\"},{\"attributes\":{\"plot\":{\"id\":\"38189685-01e1-4fca-b684-ade22d708bc8\",\"subtype\":\"Figure\",\"type\":\"Plot\"},\"ticker\":{\"id\":\"cce6a27a-ad0a-477e-b0c8-973fe1116454\",\"type\":\"BasicTicker\"}},\"id\":\"1b078801-8dbd-41f0-bc99-b35ea94eb76a\",\"type\":\"Grid\"},{\"attributes\":{\"data_source\":{\"id\":\"6cf0f794-8f9f-4472-b4a6-3b56bf945461\",\"type\":\"ColumnDataSource\"},\"glyph\":{\"id\":\"28f3afaa-cc12-43ca-b40d-f0daa88fd05f\",\"type\":\"Line\"},\"hover_glyph\":null,\"muted_glyph\":null,\"nonselection_glyph\":{\"id\":\"dbb06ca4-dfd5-40fb-b5be-7fa37472c75c\",\"type\":\"Line\"},\"selection_glyph\":null,\"view\":{\"id\":\"a93a4004-7210-422a-8d2b-2a183b4be482\",\"type\":\"CDSView\"}},\"id\":\"444e23f5-3315-4d31-b3f5-d3c610f21de7\",\"type\":\"GlyphRenderer\"},{\"attributes\":{\"data_source\":{\"id\":\"fd3e29b3-eec6-4214-8042-7549b75ac6f1\",\"type\":\"ColumnDataSource\"},\"glyph\":{\"id\":\"d66fe64a-d80d-4fc6-a9c5-85e895f07454\",\"type\":\"Circle\"},\"hover_glyph\":null,\"muted_glyph\":null,\"nonselection_glyph\":{\"id\":\"faebbb59-6c7a-43c9-9be9-4c570cf2a7e2\",\"type\":\"Circle\"},\"selection_glyph\":null,\"view\":{\"id\":\"94c2b4cc-6cad-43af-8f93-de991c841077\",\"type\":\"CDSView\"}},\"id\":\"fa179206-2270-492c-af59-b360ac0114dd\",\"type\":\"GlyphRenderer\"},{\"attributes\":{\"line_alpha\":0.6,\"line_color\":\"#984ea3\",\"line_width\":3,\"x\":{\"field\":\"x\"},\"y\":{\"field\":\"y\"}},\"id\":\"28f3afaa-cc12-43ca-b40d-f0daa88fd05f\",\"type\":\"Line\"},{\"attributes\":{\"source\":{\"id\":\"6cf0f794-8f9f-4472-b4a6-3b56bf945461\",\"type\":\"ColumnDataSource\"}},\"id\":\"a93a4004-7210-422a-8d2b-2a183b4be482\",\"type\":\"CDSView\"},{\"attributes\":{\"data_source\":{\"id\":\"aff3b369-0229-4b78-b23f-1ae457a3add4\",\"type\":\"ColumnDataSource\"},\"glyph\":{\"id\":\"bbf3b7a3-0376-4f09-8895-a296ee35f129\",\"type\":\"Square\"},\"hover_glyph\":null,\"muted_glyph\":null,\"nonselection_glyph\":{\"id\":\"77bb909a-352c-404b-bc07-812058a11287\",\"type\":\"Square\"},\"selection_glyph\":null,\"view\":{\"id\":\"d5f311d2-f651-44bc-97d3-e39ee31c297d\",\"type\":\"CDSView\"}},\"id\":\"393298db-0db7-4f84-9bec-289644b78f62\",\"type\":\"GlyphRenderer\"},{\"attributes\":{\"below\":[{\"id\":\"5a9cd673-3a09-49fc-8be0-6622a6cf71f3\",\"type\":\"LinearAxis\"}],\"left\":[{\"id\":\"a210a84d-5a7f-486a-874b-93de920cd48d\",\"type\":\"LogAxis\"}],\"plot_height\":500,\"plot_width\":560,\"renderers\":[{\"id\":\"5a9cd673-3a09-49fc-8be0-6622a6cf71f3\",\"type\":\"LinearAxis\"},{\"id\":\"1b078801-8dbd-41f0-bc99-b35ea94eb76a\",\"type\":\"Grid\"},{\"id\":\"a210a84d-5a7f-486a-874b-93de920cd48d\",\"type\":\"LogAxis\"},{\"id\":\"02186919-7dca-4ea3-a384-b488ec817057\",\"type\":\"Grid\"},{\"id\":\"7bf5c3ee-96dd-4ad4-b0ff-6e5e2da83805\",\"type\":\"BoxAnnotation\"},{\"id\":\"1fa8340d-6e46-489a-ba79-85b6cf87fdd8\",\"type\":\"GlyphRenderer\"},{\"id\":\"0438d23a-527a-402e-9852-e2ebb894c3ca\",\"type\":\"GlyphRenderer\"},{\"id\":\"75a8ab17-2f65-4138-b2d6-bbad359701b3\",\"type\":\"GlyphRenderer\"},{\"id\":\"46219485-646d-47cc-895f-6047250398a5\",\"type\":\"GlyphRenderer\"},{\"id\":\"61b8e8c6-42c8-4f2b-a901-5654127706f0\",\"type\":\"GlyphRenderer\"},{\"id\":\"32e04672-c771-4cf4-9afb-186ffa02e6ad\",\"type\":\"Legend\"}],\"right\":[{\"id\":\"32e04672-c771-4cf4-9afb-186ffa02e6ad\",\"type\":\"Legend\"}],\"title\":{\"id\":\"036dd300-6fc4-4266-b941-add730dc6a68\",\"type\":\"Title\"},\"toolbar\":{\"id\":\"747de7c4-bd76-4a79-b42e-f143b029d8e5\",\"type\":\"Toolbar\"},\"toolbar_location\":null,\"x_range\":{\"id\":\"0b12546a-cf3d-4a08-b3e2-169fdb9fb70d\",\"type\":\"Range1d\"},\"x_scale\":{\"id\":\"f827d1c0-e5ba-4598-906a-6315146710f2\",\"type\":\"LinearScale\"},\"y_range\":{\"id\":\"09d5810c-3e5d-4366-b8e9-914f280e8821\",\"type\":\"Range1d\"},\"y_scale\":{\"id\":\"21f6b64d-0f2e-4719-88e6-13e3f278ac22\",\"type\":\"LogScale\"}},\"id\":\"38189685-01e1-4fca-b684-ade22d708bc8\",\"subtype\":\"Figure\",\"type\":\"Plot\"},{\"attributes\":{\"callback\":null,\"end\":0.39894108323,\"start\":-0.03325772623},\"id\":\"f6dc6cde-7fd3-4820-bb11-41c55bff079d\",\"type\":\"Range1d\"},{\"attributes\":{\"dimension\":1,\"plot\":{\"id\":\"38189685-01e1-4fca-b684-ade22d708bc8\",\"subtype\":\"Figure\",\"type\":\"Plot\"},\"ticker\":{\"id\":\"35b6f6a3-4c1d-4187-bf84-0642a19ec667\",\"type\":\"LogTicker\"}},\"id\":\"02186919-7dca-4ea3-a384-b488ec817057\",\"type\":\"Grid\"},{\"attributes\":{\"source\":{\"id\":\"aff3b369-0229-4b78-b23f-1ae457a3add4\",\"type\":\"ColumnDataSource\"}},\"id\":\"d5f311d2-f651-44bc-97d3-e39ee31c297d\",\"type\":\"CDSView\"},{\"attributes\":{\"plot\":null,\"text\":\"Log pressure scale\"},\"id\":\"036dd300-6fc4-4266-b941-add730dc6a68\",\"type\":\"Title\"},{\"attributes\":{\"active_drag\":\"auto\",\"active_inspect\":\"auto\",\"active_scroll\":\"auto\",\"active_tap\":\"auto\",\"tools\":[{\"id\":\"a5908888-063f-4f9f-9d19-9fe45934fa36\",\"type\":\"PanTool\"},{\"id\":\"915009a2-7642-4ba6-a225-3aa8962588e2\",\"type\":\"WheelZoomTool\"},{\"id\":\"f996113c-dc6a-47b9-9c99-76cfcd6eece4\",\"type\":\"BoxZoomTool\"},{\"id\":\"3db59aa6-1e58-4e5c-b57b-0fc50c0eadb6\",\"type\":\"SaveTool\"},{\"id\":\"3f91b083-f086-4ec3-a755-0a455829d095\",\"type\":\"ResetTool\"},{\"id\":\"f0c4a825-4d40-461a-a454-ba04b70ae63f\",\"type\":\"HelpTool\"}]},\"id\":\"747de7c4-bd76-4a79-b42e-f143b029d8e5\",\"type\":\"Toolbar\"},{\"attributes\":{\"num_minor_ticks\":10},\"id\":\"35b6f6a3-4c1d-4187-bf84-0642a19ec667\",\"type\":\"LogTicker\"},{\"attributes\":{\"bottom_units\":\"screen\",\"fill_alpha\":{\"value\":0.5},\"fill_color\":{\"value\":\"lightgrey\"},\"left_units\":\"screen\",\"level\":\"overlay\",\"line_alpha\":{\"value\":1.0},\"line_color\":{\"value\":\"black\"},\"line_dash\":[4,4],\"line_width\":{\"value\":2},\"plot\":null,\"render_mode\":\"css\",\"right_units\":\"screen\",\"top_units\":\"screen\"},\"id\":\"7bf5c3ee-96dd-4ad4-b0ff-6e5e2da83805\",\"type\":\"BoxAnnotation\"},{\"attributes\":{\"data_source\":{\"id\":\"4f5182d9-8ed6-4d3c-adec-69dcd1c7ae95\",\"type\":\"ColumnDataSource\"},\"glyph\":{\"id\":\"a8fba6f9-26ec-4977-9a8b-0f976471da65\",\"type\":\"Line\"},\"hover_glyph\":null,\"muted_glyph\":null,\"nonselection_glyph\":{\"id\":\"2faeb1bf-67db-480b-9743-40837fbbb17b\",\"type\":\"Line\"},\"selection_glyph\":null,\"view\":{\"id\":\"48d3ad44-b3c2-4121-98b1-496d9c563a7f\",\"type\":\"CDSView\"}},\"id\":\"1fa8340d-6e46-489a-ba79-85b6cf87fdd8\",\"type\":\"GlyphRenderer\"},{\"attributes\":{\"label\":{\"value\":\"CLIRAD `coolr_bands`\"},\"renderers\":[{\"id\":\"1fa8340d-6e46-489a-ba79-85b6cf87fdd8\",\"type\":\"GlyphRenderer\"}]},\"id\":\"cd12e672-fd51-4746-8d83-eac5ebe1e8f3\",\"type\":\"LegendItem\"},{\"attributes\":{\"line_alpha\":0.6,\"line_color\":\"#e41a1c\",\"line_dash\":[6],\"line_width\":5,\"x\":{\"field\":\"x\"},\"y\":{\"field\":\"y\"}},\"id\":\"16ee1c19-7204-436c-9e2d-ff5eb40e1ac5\",\"type\":\"Line\"},{\"attributes\":{},\"id\":\"cce6a27a-ad0a-477e-b0c8-973fe1116454\",\"type\":\"BasicTicker\"},{\"attributes\":{\"axis_label\":\"cooling rate [K/day]\",\"formatter\":{\"id\":\"ac20a5c1-0eb2-45c7-8383-7ee9657065c5\",\"type\":\"BasicTickFormatter\"},\"plot\":{\"id\":\"38189685-01e1-4fca-b684-ade22d708bc8\",\"subtype\":\"Figure\",\"type\":\"Plot\"},\"ticker\":{\"id\":\"cce6a27a-ad0a-477e-b0c8-973fe1116454\",\"type\":\"BasicTicker\"}},\"id\":\"5a9cd673-3a09-49fc-8be0-6622a6cf71f3\",\"type\":\"LinearAxis\"},{\"attributes\":{\"tools\":[{\"id\":\"1057f036-a7dc-4058-9d4c-7b3789c94ada\",\"type\":\"PanTool\"},{\"id\":\"5ed3752e-962c-4e97-b831-b1d5012a7f54\",\"type\":\"WheelZoomTool\"},{\"id\":\"87f61d48-c8e0-4194-99df-dfc9045b63db\",\"type\":\"BoxZoomTool\"},{\"id\":\"9f511318-579d-4370-bfc9-60ccd23ea900\",\"type\":\"SaveTool\"},{\"id\":\"6ea13c49-1cc7-492a-a444-a765bf378f65\",\"type\":\"ResetTool\"},{\"id\":\"bad379c4-8542-4058-b8cc-86a4aec98611\",\"type\":\"HelpTool\"},{\"id\":\"a5908888-063f-4f9f-9d19-9fe45934fa36\",\"type\":\"PanTool\"},{\"id\":\"915009a2-7642-4ba6-a225-3aa8962588e2\",\"type\":\"WheelZoomTool\"},{\"id\":\"f996113c-dc6a-47b9-9c99-76cfcd6eece4\",\"type\":\"BoxZoomTool\"},{\"id\":\"3db59aa6-1e58-4e5c-b57b-0fc50c0eadb6\",\"type\":\"SaveTool\"},{\"id\":\"3f91b083-f086-4ec3-a755-0a455829d095\",\"type\":\"ResetTool\"},{\"id\":\"f0c4a825-4d40-461a-a454-ba04b70ae63f\",\"type\":\"HelpTool\"}]},\"id\":\"427a33e6-4668-4003-a353-2015f55cf356\",\"type\":\"ProxyToolbar\"},{\"attributes\":{},\"id\":\"a5908888-063f-4f9f-9d19-9fe45934fa36\",\"type\":\"PanTool\"},{\"attributes\":{},\"id\":\"f827d1c0-e5ba-4598-906a-6315146710f2\",\"type\":\"LinearScale\"}],\"root_ids\":[\"0e860fa3-25c5-429c-8472-4d96c6816e9c\"]},\"title\":\"Bokeh Application\",\"version\":\"0.12.14\"}};\n",
       "  var render_items = [{\"docid\":\"8475fb84-6fb0-4edc-a8ed-d588db3991cd\",\"elementid\":\"3e43550e-9e45-42f6-8da3-9a06c42a1b63\",\"modelid\":\"0e860fa3-25c5-429c-8472-4d96c6816e9c\"}];\n",
       "  root.Bokeh.embed.embed_items_notebook(docs_json, render_items);\n",
       "\n",
       "  }\n",
       "  if (root.Bokeh !== undefined) {\n",
       "    embed_document(root);\n",
       "  } else {\n",
       "    var attempts = 0;\n",
       "    var timer = setInterval(function(root) {\n",
       "      if (root.Bokeh !== undefined) {\n",
       "        embed_document(root);\n",
       "        clearInterval(timer);\n",
       "      }\n",
       "      attempts++;\n",
       "      if (attempts > 100) {\n",
       "        console.log(\"Bokeh: ERROR: Unable to run BokehJS code because BokehJS library is missing\")\n",
       "        clearInterval(timer);\n",
       "      }\n",
       "    }, 10, root)\n",
       "  }\n",
       "})(window);"
      ],
      "application/vnd.bokehjs_exec.v0+json": ""
     },
     "metadata": {
      "application/vnd.bokehjs_exec.v0+json": {
       "id": "0e860fa3-25c5-429c-8472-4d96c6816e9c"
      }
     },
     "output_type": "display_data"
    },
    {
     "name": "stdout",
     "output_type": "stream",
     "text": [
      "FIGURE. Cooling rate profiles.\n"
     ]
    },
    {
     "data": {
      "text/html": [
       "<a id=\"Flux_Comparison\"></a>"
      ],
      "text/plain": [
       "<IPython.core.display.HTML object>"
      ]
     },
     "metadata": {},
     "output_type": "display_data"
    },
    {
     "data": {
      "text/markdown": [
       "# Flux Comparison"
      ],
      "text/plain": [
       "<IPython.core.display.Markdown object>"
      ]
     },
     "metadata": {},
     "output_type": "display_data"
    },
    {
     "data": {
      "text/html": [
       "<div>\n",
       "<style>\n",
       "    .dataframe thead tr:only-child th {\n",
       "        text-align: right;\n",
       "    }\n",
       "\n",
       "    .dataframe thead th {\n",
       "        text-align: left;\n",
       "    }\n",
       "\n",
       "    .dataframe tbody tr th {\n",
       "        vertical-align: top;\n",
       "    }\n",
       "</style>\n",
       "<table border=\"1\" class=\"dataframe\">\n",
       "  <thead>\n",
       "    <tr style=\"text-align: right;\">\n",
       "      <th></th>\n",
       "      <th></th>\n",
       "      <th>flug</th>\n",
       "      <th>fldg</th>\n",
       "      <th>fnetg</th>\n",
       "    </tr>\n",
       "    <tr>\n",
       "      <th>pressure</th>\n",
       "      <th>level</th>\n",
       "      <th></th>\n",
       "      <th></th>\n",
       "      <th></th>\n",
       "    </tr>\n",
       "  </thead>\n",
       "  <tbody>\n",
       "    <tr>\n",
       "      <th>0.0000</th>\n",
       "      <th>1</th>\n",
       "      <td>-25.277188</td>\n",
       "      <td>0.000000</td>\n",
       "      <td>-25.277188</td>\n",
       "    </tr>\n",
       "    <tr>\n",
       "      <th>1.0685</th>\n",
       "      <th>24</th>\n",
       "      <td>-25.276180</td>\n",
       "      <td>0.070059</td>\n",
       "      <td>-25.206121</td>\n",
       "    </tr>\n",
       "    <tr>\n",
       "      <th>1013.0000</th>\n",
       "      <th>76</th>\n",
       "      <td>-38.491734</td>\n",
       "      <td>36.952139</td>\n",
       "      <td>-1.539595</td>\n",
       "    </tr>\n",
       "  </tbody>\n",
       "</table>\n",
       "</div>"
      ],
      "text/plain": [
       "                      flug       fldg      fnetg\n",
       "pressure  level                                 \n",
       "0.0000    1     -25.277188   0.000000 -25.277188\n",
       "1.0685    24    -25.276180   0.070059 -25.206121\n",
       "1013.0000 76    -38.491734  36.952139  -1.539595"
      ]
     },
     "metadata": {},
     "output_type": "display_data"
    },
    {
     "name": "stdout",
     "output_type": "stream",
     "text": [
      "Table. Fluxes. WGT igg=10 wgt_flux=1\n"
     ]
    },
    {
     "data": {
      "text/html": [
       "<div>\n",
       "<style>\n",
       "    .dataframe thead tr:only-child th {\n",
       "        text-align: right;\n",
       "    }\n",
       "\n",
       "    .dataframe thead th {\n",
       "        text-align: left;\n",
       "    }\n",
       "\n",
       "    .dataframe tbody tr th {\n",
       "        vertical-align: top;\n",
       "    }\n",
       "</style>\n",
       "<table border=\"1\" class=\"dataframe\">\n",
       "  <thead>\n",
       "    <tr style=\"text-align: right;\">\n",
       "      <th></th>\n",
       "      <th></th>\n",
       "      <th>flug</th>\n",
       "      <th>fldg</th>\n",
       "      <th>fnetg</th>\n",
       "    </tr>\n",
       "    <tr>\n",
       "      <th>pressure</th>\n",
       "      <th>level</th>\n",
       "      <th></th>\n",
       "      <th></th>\n",
       "      <th></th>\n",
       "    </tr>\n",
       "  </thead>\n",
       "  <tbody>\n",
       "    <tr>\n",
       "      <th>0.0000</th>\n",
       "      <th>1</th>\n",
       "      <td>-25.162348</td>\n",
       "      <td>0.000000</td>\n",
       "      <td>-25.162348</td>\n",
       "    </tr>\n",
       "    <tr>\n",
       "      <th>1.0685</th>\n",
       "      <th>24</th>\n",
       "      <td>-25.161930</td>\n",
       "      <td>0.075640</td>\n",
       "      <td>-25.086290</td>\n",
       "    </tr>\n",
       "    <tr>\n",
       "      <th>1013.0000</th>\n",
       "      <th>76</th>\n",
       "      <td>-38.491734</td>\n",
       "      <td>37.325351</td>\n",
       "      <td>-1.166383</td>\n",
       "    </tr>\n",
       "  </tbody>\n",
       "</table>\n",
       "</div>"
      ],
      "text/plain": [
       "                      flug       fldg      fnetg\n",
       "pressure  level                                 \n",
       "0.0000    1     -25.162348   0.000000 -25.162348\n",
       "1.0685    24    -25.161930   0.075640 -25.086290\n",
       "1013.0000 76    -38.491734  37.325351  -1.166383"
      ]
     },
     "metadata": {},
     "output_type": "display_data"
    },
    {
     "name": "stdout",
     "output_type": "stream",
     "text": [
      "Table. Fluxes. CRD\n"
     ]
    },
    {
     "data": {
      "text/html": [
       "<div>\n",
       "<style>\n",
       "    .dataframe thead tr:only-child th {\n",
       "        text-align: right;\n",
       "    }\n",
       "\n",
       "    .dataframe thead th {\n",
       "        text-align: left;\n",
       "    }\n",
       "\n",
       "    .dataframe tbody tr th {\n",
       "        vertical-align: top;\n",
       "    }\n",
       "</style>\n",
       "<table border=\"1\" class=\"dataframe\">\n",
       "  <thead>\n",
       "    <tr style=\"text-align: right;\">\n",
       "      <th></th>\n",
       "      <th></th>\n",
       "      <th>flug</th>\n",
       "      <th>fldg</th>\n",
       "      <th>fnetg</th>\n",
       "    </tr>\n",
       "    <tr>\n",
       "      <th>pressure</th>\n",
       "      <th>level</th>\n",
       "      <th></th>\n",
       "      <th></th>\n",
       "      <th></th>\n",
       "    </tr>\n",
       "  </thead>\n",
       "  <tbody>\n",
       "    <tr>\n",
       "      <th>1.000000e-08</th>\n",
       "      <th>1</th>\n",
       "      <td>-25.457392</td>\n",
       "      <td>0.000002</td>\n",
       "      <td>-25.457390</td>\n",
       "    </tr>\n",
       "    <tr>\n",
       "      <th>1.068500e+00</th>\n",
       "      <th>24</th>\n",
       "      <td>-25.455837</td>\n",
       "      <td>0.066687</td>\n",
       "      <td>-25.389151</td>\n",
       "    </tr>\n",
       "    <tr>\n",
       "      <th>1.013000e+03</th>\n",
       "      <th>76</th>\n",
       "      <td>-38.491730</td>\n",
       "      <td>37.118958</td>\n",
       "      <td>-1.372772</td>\n",
       "    </tr>\n",
       "  </tbody>\n",
       "</table>\n",
       "</div>"
      ],
      "text/plain": [
       "                         flug       fldg      fnetg\n",
       "pressure     level                                 \n",
       "1.000000e-08 1     -25.457392   0.000002 -25.457390\n",
       "1.068500e+00 24    -25.455837   0.066687 -25.389151\n",
       "1.013000e+03 76    -38.491730  37.118958  -1.372772"
      ]
     },
     "metadata": {},
     "output_type": "display_data"
    },
    {
     "name": "stdout",
     "output_type": "stream",
     "text": [
      "Table. Fluxes. CLIRAD\n"
     ]
    },
    {
     "data": {
      "text/html": [
       "<div>\n",
       "<style>\n",
       "    .dataframe thead tr:only-child th {\n",
       "        text-align: right;\n",
       "    }\n",
       "\n",
       "    .dataframe thead th {\n",
       "        text-align: left;\n",
       "    }\n",
       "\n",
       "    .dataframe tbody tr th {\n",
       "        vertical-align: top;\n",
       "    }\n",
       "</style>\n",
       "<table border=\"1\" class=\"dataframe\">\n",
       "  <thead>\n",
       "    <tr style=\"text-align: right;\">\n",
       "      <th></th>\n",
       "      <th></th>\n",
       "      <th>flug</th>\n",
       "      <th>fldg</th>\n",
       "      <th>fnetg</th>\n",
       "    </tr>\n",
       "    <tr>\n",
       "      <th>pressure</th>\n",
       "      <th>level</th>\n",
       "      <th></th>\n",
       "      <th></th>\n",
       "      <th></th>\n",
       "    </tr>\n",
       "  </thead>\n",
       "  <tbody>\n",
       "    <tr>\n",
       "      <th>0.0000</th>\n",
       "      <th>1</th>\n",
       "      <td>0.11484</td>\n",
       "      <td>0.000000</td>\n",
       "      <td>0.114840</td>\n",
       "    </tr>\n",
       "    <tr>\n",
       "      <th>1.0685</th>\n",
       "      <th>24</th>\n",
       "      <td>0.11425</td>\n",
       "      <td>0.005581</td>\n",
       "      <td>0.119831</td>\n",
       "    </tr>\n",
       "    <tr>\n",
       "      <th>1013.0000</th>\n",
       "      <th>76</th>\n",
       "      <td>0.00000</td>\n",
       "      <td>0.373212</td>\n",
       "      <td>0.373212</td>\n",
       "    </tr>\n",
       "  </tbody>\n",
       "</table>\n",
       "</div>"
      ],
      "text/plain": [
       "                    flug      fldg     fnetg\n",
       "pressure  level                             \n",
       "0.0000    1      0.11484  0.000000  0.114840\n",
       "1.0685    24     0.11425  0.005581  0.119831\n",
       "1013.0000 76     0.00000  0.373212  0.373212"
      ]
     },
     "metadata": {},
     "output_type": "display_data"
    },
    {
     "name": "stdout",
     "output_type": "stream",
     "text": [
      "Table. Fluxes. (CRD) - (WGT igg=10 wgt_flux=1)\n"
     ]
    },
    {
     "data": {
      "text/html": [
       "<div>\n",
       "<style>\n",
       "    .dataframe thead tr:only-child th {\n",
       "        text-align: right;\n",
       "    }\n",
       "\n",
       "    .dataframe thead th {\n",
       "        text-align: left;\n",
       "    }\n",
       "\n",
       "    .dataframe tbody tr th {\n",
       "        vertical-align: top;\n",
       "    }\n",
       "</style>\n",
       "<table border=\"1\" class=\"dataframe\">\n",
       "  <thead>\n",
       "    <tr style=\"text-align: right;\">\n",
       "      <th></th>\n",
       "      <th></th>\n",
       "      <th>flug</th>\n",
       "      <th>fldg</th>\n",
       "      <th>fnetg</th>\n",
       "    </tr>\n",
       "    <tr>\n",
       "      <th>pressure</th>\n",
       "      <th>level</th>\n",
       "      <th></th>\n",
       "      <th></th>\n",
       "      <th></th>\n",
       "    </tr>\n",
       "  </thead>\n",
       "  <tbody>\n",
       "    <tr>\n",
       "      <th>0.0000</th>\n",
       "      <th>1</th>\n",
       "      <td>-0.180204</td>\n",
       "      <td>0.000002</td>\n",
       "      <td>-0.180202</td>\n",
       "    </tr>\n",
       "    <tr>\n",
       "      <th>1.0685</th>\n",
       "      <th>24</th>\n",
       "      <td>-0.179657</td>\n",
       "      <td>-0.003373</td>\n",
       "      <td>-0.183030</td>\n",
       "    </tr>\n",
       "    <tr>\n",
       "      <th>1013.0000</th>\n",
       "      <th>76</th>\n",
       "      <td>0.000004</td>\n",
       "      <td>0.166819</td>\n",
       "      <td>0.166823</td>\n",
       "    </tr>\n",
       "  </tbody>\n",
       "</table>\n",
       "</div>"
      ],
      "text/plain": [
       "                     flug      fldg     fnetg\n",
       "pressure  level                              \n",
       "0.0000    1     -0.180204  0.000002 -0.180202\n",
       "1.0685    24    -0.179657 -0.003373 -0.183030\n",
       "1013.0000 76     0.000004  0.166819  0.166823"
      ]
     },
     "metadata": {},
     "output_type": "display_data"
    },
    {
     "name": "stdout",
     "output_type": "stream",
     "text": [
      "Table. Fluxes. (CLIRAD) - (WGT igg=10 wgt_flux=1)\n"
     ]
    },
    {
     "data": {
      "text/html": [
       "<a id=\"Best-fit_Parameters\"></a>"
      ],
      "text/plain": [
       "<IPython.core.display.HTML object>"
      ]
     },
     "metadata": {},
     "output_type": "display_data"
    },
    {
     "data": {
      "text/markdown": [
       "# Best-fit Parameters"
      ],
      "text/plain": [
       "<IPython.core.display.Markdown object>"
      ]
     },
     "metadata": {},
     "output_type": "display_data"
    },
    {
     "name": "stdout",
     "output_type": "stream",
     "text": [
      "Best-fit values for each (gas, band)\n",
      "------------------------------------\n",
      "o co2 band3a\n",
      "  atmpro = mls\n",
      "  band = 3a\n",
      "  commitnumber = 5014a19\n",
      "  conc = 0.0004\n",
      "  dv = 0.01\n",
      "  klin = 6.375563e-24\n",
      "  molecule = co2\n",
      "  ng_adju = [0, 0, 0]\n",
      "  ng_refs = [3, 2, 4]\n",
      "  nv = 100\n",
      "  option_compute_btable = 0\n",
      "  option_compute_ktable = 1\n",
      "  option_wgt_flux = 1\n",
      "  option_wgt_k = 1\n",
      "  ref_pts = [(1, 250), (10, 250), (500, 250)]\n",
      "  tsfc = 294\n",
      "  vmax = 620\n",
      "  vmin = 540\n",
      "  w_diffuse = [(1.6, 1.6, 1.7), (1.75, 1.75), (1.55, 1.55, 1.6, 1.85)]\n",
      "  wgt = [(0.7, 0.3, 0.7), (0.7, 0.6), (0.4, 0.5, 0.8, 0.95)]\n",
      "o h2o band3a\n",
      "  atmpro = mls\n",
      "  band = 3a\n",
      "  commitnumber = 5014a19\n",
      "  conc = None\n",
      "  dv = 0.01\n",
      "  klin = 0\n",
      "  molecule = h2o\n",
      "  ng_adju = [0, 0]\n",
      "  ng_refs = [2, 6]\n",
      "  nv = 100\n",
      "  option_compute_btable = 0\n",
      "  option_compute_ktable = 1\n",
      "  option_wgt_flux = 1\n",
      "  option_wgt_k = 1\n",
      "  ref_pts = [(10, 250), (600, 250)]\n",
      "  tsfc = 294\n",
      "  vmax = 620\n",
      "  vmin = 540\n",
      "  w_diffuse = [(1.9, 1.7), (1.4, 1.4, 1.4, 1.55, 1.6, 1.66)]\n",
      "  wgt = [(0.7, 0.7), (0.7, 0.5, 0.5, 0.5, 0.5, 0.5)]\n",
      "o n2o band3a\n",
      "  atmpro = mls\n",
      "  band = 3a\n",
      "  commitnumber = 5014a19\n",
      "  conc = 3.2e-07\n",
      "  dv = 0.01\n",
      "  klin = 2.22e-20\n",
      "  molecule = n2o\n",
      "  ng_adju = [0, 0]\n",
      "  ng_refs = [1, 2]\n",
      "  nv = 100\n",
      "  option_compute_btable = 0\n",
      "  option_compute_ktable = 1\n",
      "  option_wgt_flux = 1\n",
      "  option_wgt_k = 1\n",
      "  ref_pts = [(1, 250), (500, 250)]\n",
      "  tsfc = 294\n",
      "  vmax = 620\n",
      "  vmin = 540\n",
      "  w_diffuse = [(1.8,), (1.66, 1.8)]\n",
      "  wgt = [(0.9,), (0.5, 0.95)]\n"
     ]
    }
   ],
   "source": [
    "script()"
   ]
  },
  {
   "cell_type": "code",
   "execution_count": 13,
   "metadata": {
    "collapsed": true
   },
   "outputs": [
    {
     "data": {
      "text/html": [
       "<script>\n",
       "code_show=true; \n",
       "function code_toggle() {\n",
       " if (code_show){\n",
       " $('div.input').hide();\n",
       " } else {\n",
       " $('div.input').show();\n",
       " }\n",
       " code_show = !code_show\n",
       "} \n",
       "$( document ).ready(code_toggle);\n",
       "</script>\n",
       "<form action=\"javascript:code_toggle()\"><input type=\"submit\" value=\"Click here to toggle on/off the raw code.\"></form>"
      ],
      "text/plain": [
       "<IPython.core.display.HTML object>"
      ]
     },
     "execution_count": 13,
     "metadata": {},
     "output_type": "execute_result"
    }
   ],
   "source": [
    "display.HTML('''<script>\n",
    "code_show=true; \n",
    "function code_toggle() {\n",
    " if (code_show){\n",
    " $('div.input').hide();\n",
    " } else {\n",
    " $('div.input').show();\n",
    " }\n",
    " code_show = !code_show\n",
    "} \n",
    "$( document ).ready(code_toggle);\n",
    "</script>\n",
    "<form action=\"javascript:code_toggle()\"><input type=\"submit\" value=\"Click here to toggle on/off the raw code.\"></form>''')"
   ]
  }
 ],
 "metadata": {
  "kernelspec": {
   "display_name": "Python 3",
   "language": "python",
   "name": "python3"
  },
  "language_info": {
   "codemirror_mode": {
    "name": "ipython",
    "version": 3
   },
   "file_extension": ".py",
   "mimetype": "text/x-python",
   "name": "python",
   "nbconvert_exporter": "python",
   "pygments_lexer": "ipython3",
   "version": "3.6.1"
  }
 },
 "nbformat": 4,
 "nbformat_minor": 2
}
