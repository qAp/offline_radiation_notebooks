{
 "cells": [
  {
   "cell_type": "code",
   "execution_count": 1,
   "metadata": {
    "collapsed": true
   },
   "outputs": [],
   "source": [
    "%matplotlib inline\n",
    "import os\n",
    "import re\n",
    "import io\n",
    "import itertools\n",
    "import pprint\n",
    "\n",
    "from bokeh.io import output_notebook, show\n",
    "from bokeh.layouts import gridplot\n",
    "from bokeh.plotting import figure\n",
    "from bokeh.models import Range1d, Legend\n",
    "from bokeh.palettes import all_palettes\n",
    "\n",
    "import matplotlib\n",
    "import matplotlib.pyplot as plt\n",
    "import numpy as np\n",
    "import pandas as pd\n",
    "import xarray as xr\n",
    "\n",
    "import climatools.lblnew.bestfit_params as bestfits\n",
    "from climatools.lblnew import setup_bestfit, setup_overlap\n",
    "import climatools.lblnew.pipeline as pipe_lblnew\n",
    "import climatools.cliradlw.setup as setup_cliradlw\n",
    "import climatools.cliradlw.pipeline as pipe_cliradlw\n",
    "\n",
    "import climatools.html.html as climahtml\n",
    "from climatools.lblnew.dataio import *\n",
    "from climatools.plot.plot import *\n",
    "\n",
    "\n",
    "import IPython.display as display"
   ]
  },
  {
   "cell_type": "code",
   "execution_count": 2,
   "metadata": {
    "collapsed": true
   },
   "outputs": [],
   "source": [
    "%run param.py"
   ]
  },
  {
   "cell_type": "code",
   "execution_count": 3,
   "metadata": {
    "collapsed": true
   },
   "outputs": [],
   "source": [
    "def load_output_file(path_csv):\n",
    "    '''\n",
    "    Load lblnew output .csv file to xarray.Dataset\n",
    "    \n",
    "    Parameters\n",
    "    ----------\n",
    "    path_csv: str\n",
    "              Path to the .csv file to be loaded.\n",
    "    ds: xarray.Dataset\n",
    "        Data in the input file in the form of an xarray.Dataset.\n",
    "    '''\n",
    "    toindex = ['band', 'pressure', 'igg', 'g']    \n",
    "    df = pd.read_csv(path_csv, sep=r'\\s+')\n",
    "    df = df.set_index([i for i in toindex if i in df.columns])\n",
    "    df = df.rename(columns={'sfu': 'flug',\n",
    "                            'sfd': 'fldg',\n",
    "                            'fnet': 'fnetg',\n",
    "                            'coolr': 'coolrg'})\n",
    "    ds = xr.Dataset.from_dataframe(df)\n",
    "\n",
    "    for l in ('level', 'layer'):\n",
    "        if l in ds.data_vars:\n",
    "            if len(ds[l].dims) > 1:\n",
    "                surface = {d: 0 for d in ds.dims if d != 'pressure'}\n",
    "                coord_level = ds[l][surface]\n",
    "                ds.coords[l] = ('pressure', coord_level)\n",
    "            else:\n",
    "                ds.coords[l] = ('pressure', ds[l])\n",
    "    \n",
    "    return ds"
   ]
  },
  {
   "cell_type": "code",
   "execution_count": 4,
   "metadata": {
    "collapsed": true
   },
   "outputs": [],
   "source": [
    "def lblnew_setup(param=None):\n",
    "    if 'ng_refs' in param:\n",
    "        return {'setup': setup_bestfit,\n",
    "                'fname_flux_crd': 'output_flux.dat',\n",
    "                'fname_cool_crd': 'output_coolr.dat',\n",
    "                'fname_flux_wgt': 'output_wfluxg.dat',\n",
    "                'fname_cool_wgt': 'output_wcoolrg.dat'}\n",
    "    else:\n",
    "        return {'setup': setup_overlap,\n",
    "                'fname_flux_crd': 'output_flux.dat',\n",
    "                'fname_cool_crd': 'output_coolr.dat',\n",
    "                'fname_flux_wgt': 'output_wflux.dat',\n",
    "                'fname_cool_wgt': 'output_wcoolr.dat'}\n",
    "\n",
    "    \n",
    "def load_lblnew_data(param):\n",
    "    \n",
    "    fname_dsname = [('fname_flux_crd', 'ds_flux_crd'),\n",
    "                    ('fname_cool_crd', 'ds_cool_crd'),\n",
    "                    ('fname_flux_wgt', 'ds_flux_wgt'),\n",
    "                    ('fname_cool_wgt', 'ds_cool_wgt')]\n",
    "    \n",
    "    d = lblnew_setup(param)\n",
    "    dir_fortran = pipe_lblnew.get_dir_case(param, setup=d['setup'])\n",
    "    \n",
    "    data_dict = {}\n",
    "    for fname, dsname in fname_dsname:\n",
    "        fpath = os.path.join(dir_fortran, d[fname])\n",
    "        data_dict[dsname] = load_output_file(fpath)\n",
    "    return data_dict\n",
    "    \n",
    "\n",
    "    \n",
    "    "
   ]
  },
  {
   "cell_type": "code",
   "execution_count": 5,
   "metadata": {
    "collapsed": true
   },
   "outputs": [],
   "source": [
    "d = load_lblnew_data(PARAM_LBLNEW)\n",
    "\n",
    "DS_FLUX_CRD = d['ds_flux_crd']\n",
    "DS_COOL_CRD = d['ds_cool_crd']\n",
    "DS_FLUX_WGT = d['ds_flux_wgt']\n",
    "DS_COOL_WGT = d['ds_cool_wgt']"
   ]
  },
  {
   "cell_type": "code",
   "execution_count": 6,
   "metadata": {
    "collapsed": true
   },
   "outputs": [],
   "source": [
    "DIR_FORTRAN = pipe_cliradlw.get_fortran_dir(PARAM, \n",
    "                                            setup=setup_cliradlw)\n",
    "\n",
    "PATH_FLUX = os.path.join(DIR_FORTRAN, 'output_flux.dat')\n",
    "PATH_COOL = os.path.join(DIR_FORTRAN, 'output_coolr.dat')\n",
    "\n",
    "DS_FLUX = load_output_file(PATH_FLUX)\n",
    "DS_COOL = load_output_file(PATH_COOL)"
   ]
  },
  {
   "cell_type": "code",
   "execution_count": 7,
   "metadata": {
    "collapsed": true
   },
   "outputs": [
    {
     "data": {
      "text/html": [
       "\n",
       "    <div class=\"bk-root\">\n",
       "        <a href=\"https://bokeh.pydata.org\" target=\"_blank\" class=\"bk-logo bk-logo-small bk-logo-notebook\"></a>\n",
       "        <span id=\"279349bb-1eaa-4f69-96fa-7fe574cb60c1\">Loading BokehJS ...</span>\n",
       "    </div>"
      ]
     },
     "metadata": {},
     "output_type": "display_data"
    },
    {
     "data": {
      "application/javascript": [
       "\n",
       "(function(root) {\n",
       "  function now() {\n",
       "    return new Date();\n",
       "  }\n",
       "\n",
       "  var force = true;\n",
       "\n",
       "  if (typeof (root._bokeh_onload_callbacks) === \"undefined\" || force === true) {\n",
       "    root._bokeh_onload_callbacks = [];\n",
       "    root._bokeh_is_loading = undefined;\n",
       "  }\n",
       "\n",
       "  var JS_MIME_TYPE = 'application/javascript';\n",
       "  var HTML_MIME_TYPE = 'text/html';\n",
       "  var EXEC_MIME_TYPE = 'application/vnd.bokehjs_exec.v0+json';\n",
       "  var CLASS_NAME = 'output_bokeh rendered_html';\n",
       "\n",
       "  /**\n",
       "   * Render data to the DOM node\n",
       "   */\n",
       "  function render(props, node) {\n",
       "    var script = document.createElement(\"script\");\n",
       "    node.appendChild(script);\n",
       "  }\n",
       "\n",
       "  /**\n",
       "   * Handle when an output is cleared or removed\n",
       "   */\n",
       "  function handleClearOutput(event, handle) {\n",
       "    var cell = handle.cell;\n",
       "\n",
       "    var id = cell.output_area._bokeh_element_id;\n",
       "    var server_id = cell.output_area._bokeh_server_id;\n",
       "    // Clean up Bokeh references\n",
       "    if (id !== undefined) {\n",
       "      Bokeh.index[id].model.document.clear();\n",
       "      delete Bokeh.index[id];\n",
       "    }\n",
       "\n",
       "    if (server_id !== undefined) {\n",
       "      // Clean up Bokeh references\n",
       "      var cmd = \"from bokeh.io.state import curstate; print(curstate().uuid_to_server['\" + server_id + \"'].get_sessions()[0].document.roots[0]._id)\";\n",
       "      cell.notebook.kernel.execute(cmd, {\n",
       "        iopub: {\n",
       "          output: function(msg) {\n",
       "            var element_id = msg.content.text.trim();\n",
       "            Bokeh.index[element_id].model.document.clear();\n",
       "            delete Bokeh.index[element_id];\n",
       "          }\n",
       "        }\n",
       "      });\n",
       "      // Destroy server and session\n",
       "      var cmd = \"import bokeh.io.notebook as ion; ion.destroy_server('\" + server_id + \"')\";\n",
       "      cell.notebook.kernel.execute(cmd);\n",
       "    }\n",
       "  }\n",
       "\n",
       "  /**\n",
       "   * Handle when a new output is added\n",
       "   */\n",
       "  function handleAddOutput(event, handle) {\n",
       "    var output_area = handle.output_area;\n",
       "    var output = handle.output;\n",
       "\n",
       "    // limit handleAddOutput to display_data with EXEC_MIME_TYPE content only\n",
       "    if ((output.output_type != \"display_data\") || (!output.data.hasOwnProperty(EXEC_MIME_TYPE))) {\n",
       "      return\n",
       "    }\n",
       "\n",
       "    var toinsert = output_area.element.find(\".\" + CLASS_NAME.split(' ')[0]);\n",
       "\n",
       "    if (output.metadata[EXEC_MIME_TYPE][\"id\"] !== undefined) {\n",
       "      toinsert[0].firstChild.textContent = output.data[JS_MIME_TYPE];\n",
       "      // store reference to embed id on output_area\n",
       "      output_area._bokeh_element_id = output.metadata[EXEC_MIME_TYPE][\"id\"];\n",
       "    }\n",
       "    if (output.metadata[EXEC_MIME_TYPE][\"server_id\"] !== undefined) {\n",
       "      var bk_div = document.createElement(\"div\");\n",
       "      bk_div.innerHTML = output.data[HTML_MIME_TYPE];\n",
       "      var script_attrs = bk_div.children[0].attributes;\n",
       "      for (var i = 0; i < script_attrs.length; i++) {\n",
       "        toinsert[0].firstChild.setAttribute(script_attrs[i].name, script_attrs[i].value);\n",
       "      }\n",
       "      // store reference to server id on output_area\n",
       "      output_area._bokeh_server_id = output.metadata[EXEC_MIME_TYPE][\"server_id\"];\n",
       "    }\n",
       "  }\n",
       "\n",
       "  function register_renderer(events, OutputArea) {\n",
       "\n",
       "    function append_mime(data, metadata, element) {\n",
       "      // create a DOM node to render to\n",
       "      var toinsert = this.create_output_subarea(\n",
       "        metadata,\n",
       "        CLASS_NAME,\n",
       "        EXEC_MIME_TYPE\n",
       "      );\n",
       "      this.keyboard_manager.register_events(toinsert);\n",
       "      // Render to node\n",
       "      var props = {data: data, metadata: metadata[EXEC_MIME_TYPE]};\n",
       "      render(props, toinsert[0]);\n",
       "      element.append(toinsert);\n",
       "      return toinsert\n",
       "    }\n",
       "\n",
       "    /* Handle when an output is cleared or removed */\n",
       "    events.on('clear_output.CodeCell', handleClearOutput);\n",
       "    events.on('delete.Cell', handleClearOutput);\n",
       "\n",
       "    /* Handle when a new output is added */\n",
       "    events.on('output_added.OutputArea', handleAddOutput);\n",
       "\n",
       "    /**\n",
       "     * Register the mime type and append_mime function with output_area\n",
       "     */\n",
       "    OutputArea.prototype.register_mime_type(EXEC_MIME_TYPE, append_mime, {\n",
       "      /* Is output safe? */\n",
       "      safe: true,\n",
       "      /* Index of renderer in `output_area.display_order` */\n",
       "      index: 0\n",
       "    });\n",
       "  }\n",
       "\n",
       "  // register the mime type if in Jupyter Notebook environment and previously unregistered\n",
       "  if (root.Jupyter !== undefined) {\n",
       "    var events = require('base/js/events');\n",
       "    var OutputArea = require('notebook/js/outputarea').OutputArea;\n",
       "\n",
       "    if (OutputArea.prototype.mime_types().indexOf(EXEC_MIME_TYPE) == -1) {\n",
       "      register_renderer(events, OutputArea);\n",
       "    }\n",
       "  }\n",
       "\n",
       "  \n",
       "  if (typeof (root._bokeh_timeout) === \"undefined\" || force === true) {\n",
       "    root._bokeh_timeout = Date.now() + 5000;\n",
       "    root._bokeh_failed_load = false;\n",
       "  }\n",
       "\n",
       "  var NB_LOAD_WARNING = {'data': {'text/html':\n",
       "     \"<div style='background-color: #fdd'>\\n\"+\n",
       "     \"<p>\\n\"+\n",
       "     \"BokehJS does not appear to have successfully loaded. If loading BokehJS from CDN, this \\n\"+\n",
       "     \"may be due to a slow or bad network connection. Possible fixes:\\n\"+\n",
       "     \"</p>\\n\"+\n",
       "     \"<ul>\\n\"+\n",
       "     \"<li>re-rerun `output_notebook()` to attempt to load from CDN again, or</li>\\n\"+\n",
       "     \"<li>use INLINE resources instead, as so:</li>\\n\"+\n",
       "     \"</ul>\\n\"+\n",
       "     \"<code>\\n\"+\n",
       "     \"from bokeh.resources import INLINE\\n\"+\n",
       "     \"output_notebook(resources=INLINE)\\n\"+\n",
       "     \"</code>\\n\"+\n",
       "     \"</div>\"}};\n",
       "\n",
       "  function display_loaded() {\n",
       "    var el = document.getElementById(\"279349bb-1eaa-4f69-96fa-7fe574cb60c1\");\n",
       "    if (el != null) {\n",
       "      el.textContent = \"BokehJS is loading...\";\n",
       "    }\n",
       "    if (root.Bokeh !== undefined) {\n",
       "      if (el != null) {\n",
       "        el.textContent = \"BokehJS \" + root.Bokeh.version + \" successfully loaded.\";\n",
       "      }\n",
       "    } else if (Date.now() < root._bokeh_timeout) {\n",
       "      setTimeout(display_loaded, 100)\n",
       "    }\n",
       "  }\n",
       "\n",
       "\n",
       "  function run_callbacks() {\n",
       "    try {\n",
       "      root._bokeh_onload_callbacks.forEach(function(callback) { callback() });\n",
       "    }\n",
       "    finally {\n",
       "      delete root._bokeh_onload_callbacks\n",
       "    }\n",
       "    console.info(\"Bokeh: all callbacks have finished\");\n",
       "  }\n",
       "\n",
       "  function load_libs(js_urls, callback) {\n",
       "    root._bokeh_onload_callbacks.push(callback);\n",
       "    if (root._bokeh_is_loading > 0) {\n",
       "      console.log(\"Bokeh: BokehJS is being loaded, scheduling callback at\", now());\n",
       "      return null;\n",
       "    }\n",
       "    if (js_urls == null || js_urls.length === 0) {\n",
       "      run_callbacks();\n",
       "      return null;\n",
       "    }\n",
       "    console.log(\"Bokeh: BokehJS not loaded, scheduling load and callback at\", now());\n",
       "    root._bokeh_is_loading = js_urls.length;\n",
       "    for (var i = 0; i < js_urls.length; i++) {\n",
       "      var url = js_urls[i];\n",
       "      var s = document.createElement('script');\n",
       "      s.src = url;\n",
       "      s.async = false;\n",
       "      s.onreadystatechange = s.onload = function() {\n",
       "        root._bokeh_is_loading--;\n",
       "        if (root._bokeh_is_loading === 0) {\n",
       "          console.log(\"Bokeh: all BokehJS libraries loaded\");\n",
       "          run_callbacks()\n",
       "        }\n",
       "      };\n",
       "      s.onerror = function() {\n",
       "        console.warn(\"failed to load library \" + url);\n",
       "      };\n",
       "      console.log(\"Bokeh: injecting script tag for BokehJS library: \", url);\n",
       "      document.getElementsByTagName(\"head\")[0].appendChild(s);\n",
       "    }\n",
       "  };var element = document.getElementById(\"279349bb-1eaa-4f69-96fa-7fe574cb60c1\");\n",
       "  if (element == null) {\n",
       "    console.log(\"Bokeh: ERROR: autoload.js configured with elementid '279349bb-1eaa-4f69-96fa-7fe574cb60c1' but no matching script tag was found. \")\n",
       "    return false;\n",
       "  }\n",
       "\n",
       "  var js_urls = [\"https://cdn.pydata.org/bokeh/release/bokeh-0.12.14.min.js\", \"https://cdn.pydata.org/bokeh/release/bokeh-widgets-0.12.14.min.js\", \"https://cdn.pydata.org/bokeh/release/bokeh-tables-0.12.14.min.js\", \"https://cdn.pydata.org/bokeh/release/bokeh-gl-0.12.14.min.js\"];\n",
       "\n",
       "  var inline_js = [\n",
       "    function(Bokeh) {\n",
       "      Bokeh.set_log_level(\"info\");\n",
       "    },\n",
       "    \n",
       "    function(Bokeh) {\n",
       "      \n",
       "    },\n",
       "    function(Bokeh) {\n",
       "      console.log(\"Bokeh: injecting CSS: https://cdn.pydata.org/bokeh/release/bokeh-0.12.14.min.css\");\n",
       "      Bokeh.embed.inject_css(\"https://cdn.pydata.org/bokeh/release/bokeh-0.12.14.min.css\");\n",
       "      console.log(\"Bokeh: injecting CSS: https://cdn.pydata.org/bokeh/release/bokeh-widgets-0.12.14.min.css\");\n",
       "      Bokeh.embed.inject_css(\"https://cdn.pydata.org/bokeh/release/bokeh-widgets-0.12.14.min.css\");\n",
       "      console.log(\"Bokeh: injecting CSS: https://cdn.pydata.org/bokeh/release/bokeh-tables-0.12.14.min.css\");\n",
       "      Bokeh.embed.inject_css(\"https://cdn.pydata.org/bokeh/release/bokeh-tables-0.12.14.min.css\");\n",
       "    }\n",
       "  ];\n",
       "\n",
       "  function run_inline_js() {\n",
       "    \n",
       "    if ((root.Bokeh !== undefined) || (force === true)) {\n",
       "      for (var i = 0; i < inline_js.length; i++) {\n",
       "        inline_js[i].call(root, root.Bokeh);\n",
       "      }if (force === true) {\n",
       "        display_loaded();\n",
       "      }} else if (Date.now() < root._bokeh_timeout) {\n",
       "      setTimeout(run_inline_js, 100);\n",
       "    } else if (!root._bokeh_failed_load) {\n",
       "      console.log(\"Bokeh: BokehJS failed to load within specified timeout.\");\n",
       "      root._bokeh_failed_load = true;\n",
       "    } else if (force !== true) {\n",
       "      var cell = $(document.getElementById(\"279349bb-1eaa-4f69-96fa-7fe574cb60c1\")).parents('.cell').data().cell;\n",
       "      cell.output_area.append_execute_result(NB_LOAD_WARNING)\n",
       "    }\n",
       "\n",
       "  }\n",
       "\n",
       "  if (root._bokeh_is_loading === 0) {\n",
       "    console.log(\"Bokeh: BokehJS loaded, going straight to plotting\");\n",
       "    run_inline_js();\n",
       "  } else {\n",
       "    load_libs(js_urls, function() {\n",
       "      console.log(\"Bokeh: BokehJS plotting callback run at\", now());\n",
       "      run_inline_js();\n",
       "    });\n",
       "  }\n",
       "}(window));"
      ],
      "application/vnd.bokehjs_load.v0+json": "\n(function(root) {\n  function now() {\n    return new Date();\n  }\n\n  var force = true;\n\n  if (typeof (root._bokeh_onload_callbacks) === \"undefined\" || force === true) {\n    root._bokeh_onload_callbacks = [];\n    root._bokeh_is_loading = undefined;\n  }\n\n  \n\n  \n  if (typeof (root._bokeh_timeout) === \"undefined\" || force === true) {\n    root._bokeh_timeout = Date.now() + 5000;\n    root._bokeh_failed_load = false;\n  }\n\n  var NB_LOAD_WARNING = {'data': {'text/html':\n     \"<div style='background-color: #fdd'>\\n\"+\n     \"<p>\\n\"+\n     \"BokehJS does not appear to have successfully loaded. If loading BokehJS from CDN, this \\n\"+\n     \"may be due to a slow or bad network connection. Possible fixes:\\n\"+\n     \"</p>\\n\"+\n     \"<ul>\\n\"+\n     \"<li>re-rerun `output_notebook()` to attempt to load from CDN again, or</li>\\n\"+\n     \"<li>use INLINE resources instead, as so:</li>\\n\"+\n     \"</ul>\\n\"+\n     \"<code>\\n\"+\n     \"from bokeh.resources import INLINE\\n\"+\n     \"output_notebook(resources=INLINE)\\n\"+\n     \"</code>\\n\"+\n     \"</div>\"}};\n\n  function display_loaded() {\n    var el = document.getElementById(\"279349bb-1eaa-4f69-96fa-7fe574cb60c1\");\n    if (el != null) {\n      el.textContent = \"BokehJS is loading...\";\n    }\n    if (root.Bokeh !== undefined) {\n      if (el != null) {\n        el.textContent = \"BokehJS \" + root.Bokeh.version + \" successfully loaded.\";\n      }\n    } else if (Date.now() < root._bokeh_timeout) {\n      setTimeout(display_loaded, 100)\n    }\n  }\n\n\n  function run_callbacks() {\n    try {\n      root._bokeh_onload_callbacks.forEach(function(callback) { callback() });\n    }\n    finally {\n      delete root._bokeh_onload_callbacks\n    }\n    console.info(\"Bokeh: all callbacks have finished\");\n  }\n\n  function load_libs(js_urls, callback) {\n    root._bokeh_onload_callbacks.push(callback);\n    if (root._bokeh_is_loading > 0) {\n      console.log(\"Bokeh: BokehJS is being loaded, scheduling callback at\", now());\n      return null;\n    }\n    if (js_urls == null || js_urls.length === 0) {\n      run_callbacks();\n      return null;\n    }\n    console.log(\"Bokeh: BokehJS not loaded, scheduling load and callback at\", now());\n    root._bokeh_is_loading = js_urls.length;\n    for (var i = 0; i < js_urls.length; i++) {\n      var url = js_urls[i];\n      var s = document.createElement('script');\n      s.src = url;\n      s.async = false;\n      s.onreadystatechange = s.onload = function() {\n        root._bokeh_is_loading--;\n        if (root._bokeh_is_loading === 0) {\n          console.log(\"Bokeh: all BokehJS libraries loaded\");\n          run_callbacks()\n        }\n      };\n      s.onerror = function() {\n        console.warn(\"failed to load library \" + url);\n      };\n      console.log(\"Bokeh: injecting script tag for BokehJS library: \", url);\n      document.getElementsByTagName(\"head\")[0].appendChild(s);\n    }\n  };var element = document.getElementById(\"279349bb-1eaa-4f69-96fa-7fe574cb60c1\");\n  if (element == null) {\n    console.log(\"Bokeh: ERROR: autoload.js configured with elementid '279349bb-1eaa-4f69-96fa-7fe574cb60c1' but no matching script tag was found. \")\n    return false;\n  }\n\n  var js_urls = [\"https://cdn.pydata.org/bokeh/release/bokeh-0.12.14.min.js\", \"https://cdn.pydata.org/bokeh/release/bokeh-widgets-0.12.14.min.js\", \"https://cdn.pydata.org/bokeh/release/bokeh-tables-0.12.14.min.js\", \"https://cdn.pydata.org/bokeh/release/bokeh-gl-0.12.14.min.js\"];\n\n  var inline_js = [\n    function(Bokeh) {\n      Bokeh.set_log_level(\"info\");\n    },\n    \n    function(Bokeh) {\n      \n    },\n    function(Bokeh) {\n      console.log(\"Bokeh: injecting CSS: https://cdn.pydata.org/bokeh/release/bokeh-0.12.14.min.css\");\n      Bokeh.embed.inject_css(\"https://cdn.pydata.org/bokeh/release/bokeh-0.12.14.min.css\");\n      console.log(\"Bokeh: injecting CSS: https://cdn.pydata.org/bokeh/release/bokeh-widgets-0.12.14.min.css\");\n      Bokeh.embed.inject_css(\"https://cdn.pydata.org/bokeh/release/bokeh-widgets-0.12.14.min.css\");\n      console.log(\"Bokeh: injecting CSS: https://cdn.pydata.org/bokeh/release/bokeh-tables-0.12.14.min.css\");\n      Bokeh.embed.inject_css(\"https://cdn.pydata.org/bokeh/release/bokeh-tables-0.12.14.min.css\");\n    }\n  ];\n\n  function run_inline_js() {\n    \n    if ((root.Bokeh !== undefined) || (force === true)) {\n      for (var i = 0; i < inline_js.length; i++) {\n        inline_js[i].call(root, root.Bokeh);\n      }if (force === true) {\n        display_loaded();\n      }} else if (Date.now() < root._bokeh_timeout) {\n      setTimeout(run_inline_js, 100);\n    } else if (!root._bokeh_failed_load) {\n      console.log(\"Bokeh: BokehJS failed to load within specified timeout.\");\n      root._bokeh_failed_load = true;\n    } else if (force !== true) {\n      var cell = $(document.getElementById(\"279349bb-1eaa-4f69-96fa-7fe574cb60c1\")).parents('.cell').data().cell;\n      cell.output_area.append_execute_result(NB_LOAD_WARNING)\n    }\n\n  }\n\n  if (root._bokeh_is_loading === 0) {\n    console.log(\"Bokeh: BokehJS loaded, going straight to plotting\");\n    run_inline_js();\n  } else {\n    load_libs(js_urls, function() {\n      console.log(\"Bokeh: BokehJS plotting callback run at\", now());\n      run_inline_js();\n    });\n  }\n}(window));"
     },
     "metadata": {},
     "output_type": "display_data"
    }
   ],
   "source": [
    "output_notebook()"
   ]
  },
  {
   "cell_type": "code",
   "execution_count": 8,
   "metadata": {
    "collapsed": true
   },
   "outputs": [],
   "source": [
    "def fmt_cool(ds_in):\n",
    "    ds = ds_in.copy(deep=True)\n",
    "    if 'igg' in ds.dims:\n",
    "        ds = ds.sel(igg=1)\n",
    "\n",
    "    if 'g' in ds.dims:\n",
    "        ds = ds.sum('g')\n",
    "            \n",
    "    if 'band' in ds.dims:\n",
    "        try:\n",
    "            ds = ds.squeeze('band')\n",
    "        except ValueError:\n",
    "            ds = ds.sum('band')\n",
    "                \n",
    "    return ds['coolrg']\n",
    "\n",
    "\n",
    "def pltdata_cooling_1(ds_cool=None,\n",
    "                      ds_cool_crd=None, ds_cool_wgt=None):\n",
    "    \n",
    "\n",
    "\n",
    "    colors = all_palettes['Set1'][4]\n",
    "    data = [{'label': 'CLIRAD `coolr_bands`',\n",
    "             'srs': fmt_cool(ds_cool),\n",
    "             'line_dash': 'dashed', 'line_width': 5,\n",
    "             'color': colors[0], 'alpha': .6},\n",
    "            {'label': 'CRD',\n",
    "             'srs': fmt_cool(ds_cool_crd),\n",
    "             'line_dash': 'solid', 'line_width': 1.5,\n",
    "             'marker': 'circle', 'marker_size': 5,\n",
    "             'color': colors[2], 'alpha': 1,},\n",
    "            {'label': 'WGT igg=10 wgt_flux=2',\n",
    "             'srs': fmt_cool(ds_cool_wgt),\n",
    "             'line_dash': 'solid', 'line_width': 3,\n",
    "             'marker': 'square', 'marker_size': 5,\n",
    "             'color': colors[3], 'alpha': .6}]\n",
    "    return data\n",
    "\n",
    "\n",
    "def nice_xlims(pltdata=None, prange=None):\n",
    "    \n",
    "    def get_slice(srs):\n",
    "        return srs.sel(pressure=slice(*prange))\n",
    "    \n",
    "    srss = [d['srs'] for d in pltdata]\n",
    "    vmin = min([get_slice(srs).min() for srs in srss])\n",
    "    vmax = max([get_slice(srs).max() for srs in srss])\n",
    "    dv = (vmax - vmin) * .01\n",
    "    return float(vmin - dv), float(vmax + dv)\n",
    "    \n",
    "\n",
    "def plt_cooling_bokeh(pltdata=None):\n",
    "    '''\n",
    "    Plot a list of cooling rate profiles using bokeh.\n",
    "    '''\n",
    "    ymin = 1e-2 \n",
    "    ymax = 1020 \n",
    "        \n",
    "    p1 = figure(title=\"Linear pressure scale\", \n",
    "                plot_width=400)        \n",
    "    xmin, xmax = nice_xlims(pltdata, prange=(50, 1050))\n",
    "    for d in pltdata:\n",
    "        if 'marker' in d:\n",
    "            getattr(p1, d['marker'])(d['srs'].values, \n",
    "                    d['srs'].coords['pressure'].values,\n",
    "                    color=d['color'], alpha=.7)\n",
    "        p1.line(d['srs'].values, \n",
    "                d['srs'].coords['pressure'].values,\n",
    "                color=d['color'], alpha=d['alpha'], \n",
    "                line_width=d['line_width'], line_dash=d['line_dash'])\n",
    "    \n",
    "    p1.y_range = Range1d(ymax, ymin)\n",
    "    p1.yaxis.axis_label = 'pressure [mb]'   \n",
    "    p1.x_range = Range1d(xmin, xmax)\n",
    "    p1.xaxis.axis_label = 'cooling rate [K/day]'\n",
    "            \n",
    "    p2 = figure(title='Log pressure scale', y_axis_type='log',\n",
    "                plot_width=560)\n",
    "    xmin, xmax = nice_xlims(pltdata, prange=(.01, 200))\n",
    "    \n",
    "    rs = []\n",
    "    for d in pltdata:\n",
    "        rd = []\n",
    "        if 'marker' in d:\n",
    "            r_mark = getattr(p2, d['marker'])(d['srs'].values, \n",
    "                        d['srs'].coords['pressure'].values,\n",
    "                        color=d['color'], alpha=.7)\n",
    "            rd.append(r_mark)\n",
    "        r_line = p2.line(d['srs'].values, \n",
    "                    d['srs'].coords['pressure'].values,\n",
    "                    color=d['color'], alpha=d['alpha'], \n",
    "                    line_width=d['line_width'], line_dash=d['line_dash'])\n",
    "        rd.append(r_line)\n",
    "      \n",
    "        rs.append(rd)\n",
    "        \n",
    "    p2.y_range = Range1d(ymax, ymin)  \n",
    "    p2.yaxis.axis_label = 'pressure [mb]'\n",
    "    \n",
    "    p2.x_range = Range1d(xmin, xmax)\n",
    "    p2.xaxis.axis_label = 'cooling rate [K/day]'\n",
    "    \n",
    "    items = [(d['label'], r) for r, d in zip(rs, pltdata)]\n",
    "    legend = Legend(items=items, location=(10, -30))\n",
    "    legend.label_text_font_size = '8pt'\n",
    "    \n",
    "    p2.add_layout(legend, 'right')  \n",
    "    \n",
    "    show(gridplot(p1, p2, ncols=2, plot_height=500))\n",
    "    \n",
    "\n",
    "def script_plt_cooling():\n",
    "    pltdata = pltdata_cooling_1(\n",
    "        ds_cool=DS_COOL,\n",
    "        ds_cool_crd=DS_COOL_CRD,\n",
    "        ds_cool_wgt=DS_COOL_WGT)\n",
    "    plt_cooling_bokeh(pltdata=pltdata)\n",
    "    print('''FIGURE. Cooling rate profiles.''')"
   ]
  },
  {
   "cell_type": "code",
   "execution_count": 9,
   "metadata": {
    "collapsed": true
   },
   "outputs": [],
   "source": [
    "def fmt_flux(ds_in):\n",
    "    ds = ds_in.copy(deep=True)\n",
    "    \n",
    "    for l in ('level', 'layer'):\n",
    "        if l in ds.data_vars:\n",
    "            if len(ds[l].dims) > 1:\n",
    "                surface = {d: 0 for d in ds.dims if d != 'pressure'}\n",
    "                coord_level = ds[l][surface]\n",
    "                ds.coords[l] = ('pressure', coord_level)\n",
    "            else:\n",
    "                ds.coords[l] = ('pressure', ds[l])\n",
    "        \n",
    "    ds = ds.isel(pressure=[0, 23, -1])\n",
    "        \n",
    "    if 'igg' in ds.dims:\n",
    "        ds = ds.sel(igg=[1])\n",
    "        ds = ds.squeeze('igg').drop('igg')\n",
    "    \n",
    "    if 'g' in ds.dims:\n",
    "        ds = ds.sum('g')\n",
    "            \n",
    "    if 'band' in ds.dims:\n",
    "        try:\n",
    "            ds = ds.squeeze('band').drop('band')\n",
    "        except ValueError:\n",
    "            ds = ds.sum('band')\n",
    "                \n",
    "    df = ds.to_dataframe()\n",
    "    df = df.set_index('level', append=True)               \n",
    "    return df\n",
    "\n",
    "\n",
    "def tbdata_flux(ds_flux=None, ds_flux_crd=None, ds_flux_wgt=None):\n",
    "    ilevels = [0, 23, -1]\n",
    "            \n",
    "    benchmark = {'label': 'WGT igg=10 wgt_flux=1',\n",
    "                 'df': fmt_flux(ds_flux_wgt)}\n",
    "    \n",
    "    tbs = [{'label': 'CRD',\n",
    "            'df': fmt_flux(ds_flux_crd)},\n",
    "           {'label': 'CLIRAD',\n",
    "            'df': fmt_flux(ds_flux)}]\n",
    "    \n",
    "    data = {'benchmark': benchmark, 'others': tbs}\n",
    "    return data\n",
    "\n",
    "\n",
    "def tb_flux(tbdata=None):\n",
    "    benchmark = tbdata['benchmark']\n",
    "    others = tbdata['others']\n",
    "    \n",
    "    def show_tb(d=None):\n",
    "        display.display(d['df'])\n",
    "        print('Table.', 'Fluxes.', d['label'])\n",
    "        \n",
    "    def show_tbdiff(d0=None, d=None):\n",
    "        df = d['df']\n",
    "        df.index = d0['df'].index\n",
    "        display.display(df - d0['df'])\n",
    "        print('Table.', 'Fluxes.', \n",
    "              '({}) - ({})'.format(d['label'], d0['label']))\n",
    "        \n",
    "    show_tb(benchmark)\n",
    "    for d in others:\n",
    "        show_tb(d)\n",
    "        \n",
    "    for d in others:\n",
    "        show_tbdiff(d=d, d0=benchmark)\n",
    "        \n",
    "        \n",
    "def script_tb_flux():\n",
    "    data = tbdata_flux(ds_flux=DS_FLUX,\n",
    "                       ds_flux_crd=DS_FLUX_CRD,\n",
    "                       ds_flux_wgt=DS_FLUX_WGT)\n",
    "    tb_flux(tbdata=data)"
   ]
  },
  {
   "cell_type": "code",
   "execution_count": 10,
   "metadata": {
    "collapsed": true
   },
   "outputs": [],
   "source": [
    "def band_map():\n",
    "    '''\n",
    "    Maps spectral bands in lblnew to spectral bands in clirad.\n",
    "    '''\n",
    "    lblnew2clirad = {'1': '1',\n",
    "            '2': '2',\n",
    "            '3a': '3',\n",
    "            '3b': '4',\n",
    "            '3c': '5',\n",
    "            '4': '6', \n",
    "            '5': '7',\n",
    "            '6': '8',\n",
    "            '7': '9', \n",
    "            '8': '10',\n",
    "            '9': '11'}\n",
    "    \n",
    "    clirad2lblnew = {clirad: lblnew \n",
    "                     for lblnew, clirad in lblnew2clirad.items()}\n",
    "    return clirad2lblnew\n",
    "\n",
    "\n",
    "def gasbands():\n",
    "    bmap = band_map()\n",
    "    gases = list(PARAM['molecule'].keys())\n",
    "    \n",
    "    bands = [bmap[str(b)] for b in PARAM['band']]\n",
    "    return list(itertools.product(gases, bands))\n",
    "\n",
    "\n",
    "def print_bestfit_params():\n",
    "    print('Best-fit values for each (gas, band)')\n",
    "    print('------------------------------------')\n",
    "    for gas, band in gasbands():\n",
    "        print('o {} band{}'.format(gas, band))\n",
    "        param = bestfits.kdist_params(molecule=gas, band=band)\n",
    "        for name, value in sorted(param.items()):\n",
    "            print(2 * ' ' + '{} = {}'.format(name, value))\n",
    "\n",
    "        \n",
    "def print_input_param():        \n",
    "    for name, value in PARAM.items():\n",
    "        print('{} = {}'.format(name, value))\n",
    "        \n",
    "        \n",
    "def print_lblnew_param():\n",
    "    for name, value in sorted(PARAM_LBLNEW.items()):\n",
    "        print('{} = {}'.format(name, value))\n"
   ]
  },
  {
   "cell_type": "code",
   "execution_count": 11,
   "metadata": {
    "collapsed": true,
    "scrolled": false
   },
   "outputs": [],
   "source": [
    "def show_html(s):\n",
    "    display.display(display.HTML(s))\n",
    "\n",
    "    \n",
    "def show_markdown(s):\n",
    "    display.display(display.Markdown(s))\n",
    "\n",
    "    \n",
    "def script():\n",
    "    \n",
    "    title = '### CLIRAD-LW'\n",
    "    s_input = 'Input Parameters'\n",
    "    s_lblnew_param = 'LBLNEW case compaired against'\n",
    "    s_bestfits = 'Best-fit Parameters'\n",
    "    s_plt_cooling = 'Cooling Rate Profiles'\n",
    "    s_tb_flux = 'Flux Comparison'\n",
    "    \n",
    "    # title\n",
    "    show_markdown('### CLIRAD-LW')\n",
    "    \n",
    "    # TOC\n",
    "    show_markdown('### Table of Contents')\n",
    "    show_html(climahtml.getHTML_hrefanchor(s_input))\n",
    "    show_html(climahtml.getHTML_hrefanchor(s_lblnew_param))\n",
    "    show_html(climahtml.getHTML_hrefanchor(s_plt_cooling))\n",
    "    show_html(climahtml.getHTML_hrefanchor(s_tb_flux))\n",
    "    show_html(climahtml.getHTML_hrefanchor(s_bestfits))\n",
    "    \n",
    "    # Input parameters\n",
    "    show_html(climahtml.getHTML_idanchor(s_input))\n",
    "    show_markdown(climahtml.getMarkdown_sectitle(s_input))\n",
    "    print_input_param()\n",
    "    \n",
    "    # LBLNEW parameters \n",
    "    show_html(climahtml.getHTML_idanchor(s_lblnew_param))\n",
    "    show_markdown(climahtml.getMarkdown_sectitle(s_lblnew_param))\n",
    "    print_lblnew_param()\n",
    "    \n",
    "    # Cooling rate profiles\n",
    "    show_html(climahtml.getHTML_idanchor(s_plt_cooling))\n",
    "    show_markdown(climahtml.getMarkdown_sectitle(s_plt_cooling))\n",
    "    script_plt_cooling()\n",
    "    \n",
    "    # Flux comparison\n",
    "    show_html(climahtml.getHTML_idanchor(s_tb_flux))\n",
    "    show_markdown(climahtml.getMarkdown_sectitle(s_tb_flux))\n",
    "    script_tb_flux()\n",
    "    \n",
    "    # Best-fit values\n",
    "    show_html(climahtml.getHTML_idanchor(s_bestfits))\n",
    "    show_markdown(climahtml.getMarkdown_sectitle(s_bestfits))\n",
    "    print_bestfit_params()\n",
    "   \n",
    "    "
   ]
  },
  {
   "cell_type": "code",
   "execution_count": 12,
   "metadata": {
    "collapsed": true,
    "scrolled": false
   },
   "outputs": [
    {
     "data": {
      "text/markdown": [
       "### CLIRAD-LW"
      ],
      "text/plain": [
       "<IPython.core.display.Markdown object>"
      ]
     },
     "metadata": {},
     "output_type": "display_data"
    },
    {
     "data": {
      "text/markdown": [
       "### Table of Contents"
      ],
      "text/plain": [
       "<IPython.core.display.Markdown object>"
      ]
     },
     "metadata": {},
     "output_type": "display_data"
    },
    {
     "data": {
      "text/html": [
       "<a href=\"#Input_Parameters\">Input Parameters</a>"
      ],
      "text/plain": [
       "<IPython.core.display.HTML object>"
      ]
     },
     "metadata": {},
     "output_type": "display_data"
    },
    {
     "data": {
      "text/html": [
       "<a href=\"#LBLNEW_case_compaired_against\">LBLNEW case compaired against</a>"
      ],
      "text/plain": [
       "<IPython.core.display.HTML object>"
      ]
     },
     "metadata": {},
     "output_type": "display_data"
    },
    {
     "data": {
      "text/html": [
       "<a href=\"#Cooling_Rate_Profiles\">Cooling Rate Profiles</a>"
      ],
      "text/plain": [
       "<IPython.core.display.HTML object>"
      ]
     },
     "metadata": {},
     "output_type": "display_data"
    },
    {
     "data": {
      "text/html": [
       "<a href=\"#Flux_Comparison\">Flux Comparison</a>"
      ],
      "text/plain": [
       "<IPython.core.display.HTML object>"
      ]
     },
     "metadata": {},
     "output_type": "display_data"
    },
    {
     "data": {
      "text/html": [
       "<a href=\"#Best-fit_Parameters\">Best-fit Parameters</a>"
      ],
      "text/plain": [
       "<IPython.core.display.HTML object>"
      ]
     },
     "metadata": {},
     "output_type": "display_data"
    },
    {
     "data": {
      "text/html": [
       "<a id=\"Input_Parameters\"></a>"
      ],
      "text/plain": [
       "<IPython.core.display.HTML object>"
      ]
     },
     "metadata": {},
     "output_type": "display_data"
    },
    {
     "data": {
      "text/markdown": [
       "# Input Parameters"
      ],
      "text/plain": [
       "<IPython.core.display.Markdown object>"
      ]
     },
     "metadata": {},
     "output_type": "display_data"
    },
    {
     "name": "stdout",
     "output_type": "stream",
     "text": [
      "atmpro = trp\n",
      "band = [3]\n",
      "commitnumber = fc273c9\n",
      "molecule = {'co2': 0.0004, 'h2o': 'atmpro', 'n2o': 3.2e-07}\n",
      "tsfc = 300\n"
     ]
    },
    {
     "data": {
      "text/html": [
       "<a id=\"LBLNEW_case_compaired_against\"></a>"
      ],
      "text/plain": [
       "<IPython.core.display.HTML object>"
      ]
     },
     "metadata": {},
     "output_type": "display_data"
    },
    {
     "data": {
      "text/markdown": [
       "# LBLNEW case compaired against"
      ],
      "text/plain": [
       "<IPython.core.display.Markdown object>"
      ]
     },
     "metadata": {},
     "output_type": "display_data"
    },
    {
     "name": "stdout",
     "output_type": "stream",
     "text": [
      "atmpro = trp\n",
      "band = 3a\n",
      "commitnumber = 5014a19\n",
      "dv = 0.01\n",
      "molecule = {'co2': 0.0004, 'h2o': 'atmpro', 'n2o': 3.2e-07}\n",
      "nv = 100\n",
      "tsfc = 300\n"
     ]
    },
    {
     "data": {
      "text/html": [
       "<a id=\"Cooling_Rate_Profiles\"></a>"
      ],
      "text/plain": [
       "<IPython.core.display.HTML object>"
      ]
     },
     "metadata": {},
     "output_type": "display_data"
    },
    {
     "data": {
      "text/markdown": [
       "# Cooling Rate Profiles"
      ],
      "text/plain": [
       "<IPython.core.display.Markdown object>"
      ]
     },
     "metadata": {},
     "output_type": "display_data"
    },
    {
     "data": {
      "text/html": [
       "\n",
       "<div class=\"bk-root\">\n",
       "    <div class=\"bk-plotdiv\" id=\"168d4f93-2495-4ce8-9dac-3c10f77123c7\"></div>\n",
       "</div>"
      ]
     },
     "metadata": {},
     "output_type": "display_data"
    },
    {
     "data": {
      "application/javascript": [
       "(function(root) {\n",
       "  function embed_document(root) {\n",
       "    \n",
       "  var docs_json = {\"95dc733c-a854-4ecf-973b-4690dbba7931\":{\"roots\":{\"references\":[{\"attributes\":{\"callback\":null,\"column_names\":[\"x\",\"y\"],\"data\":{\"x\":{\"__ndarray__\":\"0PuUnV3C2j9jEmiPm4raP8x313ZmRNs/Ypkj0AXa2z9NPX+YjDzcPybWFI5BY9w/6K0uZegx3D/s5EZwp53bP7J8ZfdHjNo/dTHV5ffq2D9t5m/GWabWP/lCjs51sdM/6wpLdkv2zz8NKOX/n1THP6JR7C5x4MM/03+9X1jAyD8A/Pjw0QfQPxghfvYKqNM/e7zzOMoJ2D8L+Mr2AOHdP+Upac2oHOM/4UqwF46w6D+ohXksCdLpP7gkYqXdo+Y/qKv5+Qgf4z84GdFNzSveP0n/Pwx8Xtc/2MTZ358z0j/jZXarIdDMP2NdgY2QJsc/ZnlHW89vwj+iDgrOCW+8P04v+euKI7U/dAU5+ii7rj/XepsLF0qeP1Fu7ZFF0nm/9LOYpYu3nb+m3IcAA+iZvzYiSWXSM3W/LaZOznRZgj+sVe4XSUGXP8AfDKmTTaQ/b5HmVb7jrj8P/nt5zIO1P73HVwqa+bs/YG6cuSxLwT+8MIj+v6DEP8CbyZKUz8c/osCvTwg2yj+g7LmOadTMP8yENmu2k88/86dTP+sx0T/7by2sfpnSP92Qb4R/8NM/ZGZVOg4y1T/8kDMkWU3WP9bbbpsMO9c/Imz8skn41z8dtmd19n7YP1PktbcA2dg/ol0q2ywD2T9WVC+FKNvYPxL3eQi6KNg/fqag09rR1z/ahlmBhBXWP/zydkK3sNM/DZTKyuU10T+CGfj2UwjNP5I+zrAo18g/5fmhDDSjxT+vqNJgZBPDP1gmssUkEsE/dGWrJuNzvz9aZUOKQy6/P/+xMSvracY/\",\"dtype\":\"float64\",\"shape\":[75]},\"y\":{\"__ndarray__\":\"GhExyth1ND/Sv8nbtpRIP2vylNV0PVE/aTum7souWD/At0SJ8fVgPw3Iuahxymc/MSNhhJWvcD/bTfBN02d3P2zb5nxnaoA/CD5h5MAGhz8NmeH1TyaQP+zrCsc9p5Y/LbKd76fGnz/bLW5ISEmmPww9YvTcQq8/JV2OstnstT8Er5Y7M8G+P0c+r3jqkcU/5h99k6ZBzj88bCIzFzjVP4enV8oyxN0//yH99nXg5D8qOpLLf0jtP5kqGJXUifQ/c9cS8kHP/D+/DpwzojQEQIEmwoanVwxA4lgXt9HgE0BSSZ2AJuIbQAMJih9jjiNA5q4l5INuK0AwTKYKRj0zQNv5fmq8/DpAaCJseHrtQkB/+zpwzoxKQM3MzMzMeFJAZmZmZmZqWEAAAAAAAFxeQM3MzMzMJmJAmpmZmZkfZUBmZmZmZhhoQDMzMzMzEWtAAAAAAAAKbkBmZmZmZoFwQM3MzMzM/XFAMzMzMzN6c0CamZmZmfZ0QAAAAAAAc3ZAZmZmZmbvd0DNzMzMzGt5QDMzMzMz6HpAmpmZmZlkfEAAAAAAAOF9QGZmZmZmXX9AZmZmZuZsgECamZmZGSuBQM3MzMxM6YFAAAAAAICngkAzMzMzs2WDQGZmZmbmI4RAmpmZmRnihEDNzMzMTKCFQAAAAACAXoZAMzMzM7Mch0BmZmZm5tqHQJqZmZkZmYhAzczMzExXiUAAAAAAgBWKQDMzMzOz04pAZmZmZuaRi0CamZmZGVCMQM3MzMxMDo1AAAAAAIDMjUAzMzMzs4qOQGZmZmbmSI9A\",\"dtype\":\"float64\",\"shape\":[75]}}},\"id\":\"967164de-7744-4557-a41e-402733630ed8\",\"type\":\"ColumnDataSource\"},{\"attributes\":{},\"id\":\"038a709c-ef80-4128-9013-9ac2e1d452f7\",\"type\":\"BasicTickFormatter\"},{\"attributes\":{},\"id\":\"cdf46e66-bf78-468e-bd1f-d33bba8ef676\",\"type\":\"BasicTicker\"},{\"attributes\":{\"active_drag\":\"auto\",\"active_inspect\":\"auto\",\"active_scroll\":\"auto\",\"active_tap\":\"auto\",\"tools\":[{\"id\":\"b7006c5f-fb3f-4d9a-918f-b7df105f74f4\",\"type\":\"PanTool\"},{\"id\":\"a79168e1-a19c-4e6b-b64e-bba5f432dec9\",\"type\":\"WheelZoomTool\"},{\"id\":\"0c8cf3fb-5362-4200-96d6-42e61c7cd307\",\"type\":\"BoxZoomTool\"},{\"id\":\"68c0dff7-7911-4dfc-91f4-240e19420dcd\",\"type\":\"SaveTool\"},{\"id\":\"c9bbc095-40f9-467d-93f8-d2188dc227e8\",\"type\":\"ResetTool\"},{\"id\":\"f071dd6d-0782-48c7-b9b1-4751976bf7cd\",\"type\":\"HelpTool\"}]},\"id\":\"76a67ced-11d7-4105-98bf-8f25be291fe3\",\"type\":\"Toolbar\"},{\"attributes\":{\"source\":{\"id\":\"e6f9e864-b8a7-4dde-bc4f-8ee1f588be3a\",\"type\":\"ColumnDataSource\"}},\"id\":\"3a460d7c-6152-477a-a191-4de937be6e90\",\"type\":\"CDSView\"},{\"attributes\":{\"plot\":{\"id\":\"b71a3819-9ff5-49c9-a3eb-f86d976d0411\",\"subtype\":\"Figure\",\"type\":\"Plot\"},\"ticker\":{\"id\":\"cdf46e66-bf78-468e-bd1f-d33bba8ef676\",\"type\":\"BasicTicker\"}},\"id\":\"c0e01487-55b9-464e-aa21-5ba9d9c1f2ec\",\"type\":\"Grid\"},{\"attributes\":{\"active_drag\":\"auto\",\"active_inspect\":\"auto\",\"active_scroll\":\"auto\",\"active_tap\":\"auto\",\"tools\":[{\"id\":\"59be324d-e908-4734-b48b-1d8302f42a1e\",\"type\":\"PanTool\"},{\"id\":\"c232fa23-d1fa-4313-bedd-524ffa139cb5\",\"type\":\"WheelZoomTool\"},{\"id\":\"538271e8-abb0-4627-911f-a84e93a595b8\",\"type\":\"BoxZoomTool\"},{\"id\":\"f08e2276-8523-432e-b3da-3c7a4499ef52\",\"type\":\"SaveTool\"},{\"id\":\"bcce1101-851e-4023-b10a-e9395e31adc5\",\"type\":\"ResetTool\"},{\"id\":\"45ca1409-5a1c-4e79-acb3-35d607c4a951\",\"type\":\"HelpTool\"}]},\"id\":\"e80da7fe-0304-494e-846c-c80e074042a6\",\"type\":\"Toolbar\"},{\"attributes\":{\"plot\":null,\"text\":\"Log pressure scale\"},\"id\":\"e44f2291-eae4-433f-a7ad-d48a07142658\",\"type\":\"Title\"},{\"attributes\":{},\"id\":\"0765888b-4efd-4948-a61e-f04c0d20b47f\",\"type\":\"BasicTickFormatter\"},{\"attributes\":{\"label\":{\"value\":\"WGT igg=10 wgt_flux=2\"},\"renderers\":[{\"id\":\"6173f6c0-aa64-4e06-ac48-d2e727002e2d\",\"type\":\"GlyphRenderer\"},{\"id\":\"76f2ac14-fcd8-41dc-b634-9eced33b9b88\",\"type\":\"GlyphRenderer\"}]},\"id\":\"9727b4f7-5709-4773-9001-79f5176e26ed\",\"type\":\"LegendItem\"},{\"attributes\":{\"callback\":null,\"end\":0.39765995883,\"start\":-0.03324504183},\"id\":\"07c3f60c-0be8-4bae-ac06-bfd2ea85abf7\",\"type\":\"Range1d\"},{\"attributes\":{\"axis_label\":\"cooling rate [K/day]\",\"formatter\":{\"id\":\"46deec02-7011-4cfa-9f7e-5fbe1d842f45\",\"type\":\"BasicTickFormatter\"},\"plot\":{\"id\":\"b71a3819-9ff5-49c9-a3eb-f86d976d0411\",\"subtype\":\"Figure\",\"type\":\"Plot\"},\"ticker\":{\"id\":\"cdf46e66-bf78-468e-bd1f-d33bba8ef676\",\"type\":\"BasicTicker\"}},\"id\":\"0a838f98-901e-4ddf-999d-d7593e9d1f10\",\"type\":\"LinearAxis\"},{\"attributes\":{\"below\":[{\"id\":\"0a838f98-901e-4ddf-999d-d7593e9d1f10\",\"type\":\"LinearAxis\"}],\"left\":[{\"id\":\"3711db93-5816-4f23-acaa-88f90dbbf53a\",\"type\":\"LogAxis\"}],\"plot_height\":500,\"plot_width\":560,\"renderers\":[{\"id\":\"0a838f98-901e-4ddf-999d-d7593e9d1f10\",\"type\":\"LinearAxis\"},{\"id\":\"c0e01487-55b9-464e-aa21-5ba9d9c1f2ec\",\"type\":\"Grid\"},{\"id\":\"3711db93-5816-4f23-acaa-88f90dbbf53a\",\"type\":\"LogAxis\"},{\"id\":\"20881ee6-e973-4336-ae79-51649b956e78\",\"type\":\"Grid\"},{\"id\":\"8f1b4b71-f118-425b-9e37-050a686a4f7c\",\"type\":\"BoxAnnotation\"},{\"id\":\"ef7e041b-1e17-48dc-b153-a82bf85811ef\",\"type\":\"GlyphRenderer\"},{\"id\":\"f5e4a342-2d0a-4fe6-beb2-78084eaa631f\",\"type\":\"GlyphRenderer\"},{\"id\":\"67802155-14db-423c-a309-c94ae014066f\",\"type\":\"GlyphRenderer\"},{\"id\":\"6173f6c0-aa64-4e06-ac48-d2e727002e2d\",\"type\":\"GlyphRenderer\"},{\"id\":\"76f2ac14-fcd8-41dc-b634-9eced33b9b88\",\"type\":\"GlyphRenderer\"},{\"id\":\"2c9e9ae5-c73d-43c3-ae4b-00b13382b294\",\"type\":\"Legend\"}],\"right\":[{\"id\":\"2c9e9ae5-c73d-43c3-ae4b-00b13382b294\",\"type\":\"Legend\"}],\"title\":{\"id\":\"e44f2291-eae4-433f-a7ad-d48a07142658\",\"type\":\"Title\"},\"toolbar\":{\"id\":\"e80da7fe-0304-494e-846c-c80e074042a6\",\"type\":\"Toolbar\"},\"toolbar_location\":null,\"x_range\":{\"id\":\"bcff3c26-568b-4b55-8025-1953a5cdf22f\",\"type\":\"Range1d\"},\"x_scale\":{\"id\":\"f0bdc3ad-3993-4f28-857a-1e421ea4853a\",\"type\":\"LinearScale\"},\"y_range\":{\"id\":\"7e1c441b-cd1b-4f5e-bfc2-08e30f219c96\",\"type\":\"Range1d\"},\"y_scale\":{\"id\":\"ccb2cc9b-41fc-4072-81bd-6227d7a0ca13\",\"type\":\"LogScale\"}},\"id\":\"b71a3819-9ff5-49c9-a3eb-f86d976d0411\",\"subtype\":\"Figure\",\"type\":\"Plot\"},{\"attributes\":{\"source\":{\"id\":\"f9623dc1-0adc-41d7-a8f2-f292c569b719\",\"type\":\"ColumnDataSource\"}},\"id\":\"cc28a1ce-cde4-479a-b822-d30a193200ca\",\"type\":\"CDSView\"},{\"attributes\":{\"line_alpha\":0.6,\"line_color\":\"#e41a1c\",\"line_dash\":[6],\"line_width\":5,\"x\":{\"field\":\"x\"},\"y\":{\"field\":\"y\"}},\"id\":\"a72b0768-61a6-4ede-b095-28866186a05c\",\"type\":\"Line\"},{\"attributes\":{\"axis_label\":\"pressure [mb]\",\"formatter\":{\"id\":\"e8de71fc-9cff-4d76-abef-5a6a8c0d2881\",\"type\":\"LogTickFormatter\"},\"plot\":{\"id\":\"b71a3819-9ff5-49c9-a3eb-f86d976d0411\",\"subtype\":\"Figure\",\"type\":\"Plot\"},\"ticker\":{\"id\":\"2c180690-29e9-4790-b3c5-5dc50faed6e2\",\"type\":\"LogTicker\"}},\"id\":\"3711db93-5816-4f23-acaa-88f90dbbf53a\",\"type\":\"LogAxis\"},{\"attributes\":{},\"id\":\"f0bdc3ad-3993-4f28-857a-1e421ea4853a\",\"type\":\"LinearScale\"},{\"attributes\":{\"data_source\":{\"id\":\"f9623dc1-0adc-41d7-a8f2-f292c569b719\",\"type\":\"ColumnDataSource\"},\"glyph\":{\"id\":\"0168a96a-68cc-4517-bebc-76f3d550f6c8\",\"type\":\"Line\"},\"hover_glyph\":null,\"muted_glyph\":null,\"nonselection_glyph\":{\"id\":\"d304da72-f4f8-40b0-8a70-d587c0e51cd3\",\"type\":\"Line\"},\"selection_glyph\":null,\"view\":{\"id\":\"cc28a1ce-cde4-479a-b822-d30a193200ca\",\"type\":\"CDSView\"}},\"id\":\"62a81bc0-c1e6-4638-9917-992dd96905e2\",\"type\":\"GlyphRenderer\"},{\"attributes\":{\"callback\":null,\"column_names\":[\"x\",\"y\"],\"data\":{\"x\":{\"__ndarray__\":\"imo60H1Y1T854Kk27oPVP/ycim21O9Y/VwWLP2H71j/9/FKaKJ3XPzRf63MxHdg/yegd+jBz2D84OnwMNY7YP39duDm2Wtg/NAowyVTD1z83O+9SLK/WP2v23QB1+9Q/9MdRDNKE0j8g07kmzbTOP/UmTDnbs8w/9Q8iGXLs0D+fQqZjawnUP+r+uYFlGdY/qk9JCBzq1z9Xi3iAYRjbP9jKtpkr3+A/bkFC1ks65j/uhCxF0efnPzpjb5SCj+U/pZJsO46b4j/pU56rc23eP9u3QYqN+9g/geAabY+91D86LwTvmgbRP0FwS5r1GMs/T2a0PKzDxD+iNAZjZbC+Pxql9f7Z67U/K/C1ak6Trz9THqNdAVygP/wGQPlPAHO/H1nkyuWunb+BtEuQG8KYv/i1qrN+3Ve/UrDOSr0bjT9jr6D+7ZGdP2f1IpsqZqc/5wKm8sfLsD+3fRjsSYq2P93kfT3berw/8RQwicw/wT+Tq3kKkFPEPzMPqh56HMc/AGSVkBfryD+ta5MO//7KPxeLtpUkcM0/PlHhIe8J0D8MTDzaF1TRP2IYqHPiftI/TLzqnsiV0z8GQKIqIprUP9ZPYoSujNU/gxMTzH9l1j8e7U1GdBPXP8bP82VxmNc/3nBh1Qfv1z8919bTN/7XP6Q4BQFLkdc/b4HjtqaO1z9htvD+cD7WP+ali+KPQdQ/y5O1l34T0j/wAvyF5AXPP1B1I4fj1Mo/Vyhv0+GZxz8dIDV5DAfFP9rIlmGzDsM/Bpd1nC7NwT+3CsXKJsjBP/wKiP8qdsg/\",\"dtype\":\"float64\",\"shape\":[75]},\"y\":{\"__ndarray__\":\"GhExyth1ND/Sv8nbtpRIP2vylNV0PVE/aTum7souWD/At0SJ8fVgPw3Iuahxymc/MSNhhJWvcD/bTfBN02d3P2zb5nxnaoA/CD5h5MAGhz8NmeH1TyaQP+zrCsc9p5Y/LbKd76fGnz/bLW5ISEmmPww9YvTcQq8/JV2OstnstT8Er5Y7M8G+P0c+r3jqkcU/5h99k6ZBzj88bCIzFzjVP4enV8oyxN0//yH99nXg5D8qOpLLf0jtP5kqGJXUifQ/c9cS8kHP/D+/DpwzojQEQIEmwoanVwxA4lgXt9HgE0BSSZ2AJuIbQAMJih9jjiNA5q4l5INuK0AwTKYKRj0zQNv5fmq8/DpAaCJseHrtQkB/+zpwzoxKQM3MzMzMeFJAZmZmZmZqWEAAAAAAAFxeQM3MzMzMJmJAmpmZmZkfZUBmZmZmZhhoQDMzMzMzEWtAAAAAAAAKbkBmZmZmZoFwQM3MzMzM/XFAMzMzMzN6c0CamZmZmfZ0QAAAAAAAc3ZAZmZmZmbvd0DNzMzMzGt5QDMzMzMz6HpAmpmZmZlkfEAAAAAAAOF9QGZmZmZmXX9AZmZmZuZsgECamZmZGSuBQM3MzMxM6YFAAAAAAICngkAzMzMzs2WDQGZmZmbmI4RAmpmZmRnihEDNzMzMTKCFQAAAAACAXoZAMzMzM7Mch0BmZmZm5tqHQJqZmZkZmYhAzczMzExXiUAAAAAAgBWKQDMzMzOz04pAZmZmZuaRi0CamZmZGVCMQM3MzMxMDo1AAAAAAIDMjUAzMzMzs4qOQGZmZmbmSI9A\",\"dtype\":\"float64\",\"shape\":[75]}}},\"id\":\"f9623dc1-0adc-41d7-a8f2-f292c569b719\",\"type\":\"ColumnDataSource\"},{\"attributes\":{\"line_color\":\"#4daf4a\",\"line_width\":1.5,\"x\":{\"field\":\"x\"},\"y\":{\"field\":\"y\"}},\"id\":\"b7cfb572-e0f1-49e0-9c45-8d2fe0052013\",\"type\":\"Line\"},{\"attributes\":{\"data_source\":{\"id\":\"cc97211c-d906-457f-80e2-bb9ce99fc499\",\"type\":\"ColumnDataSource\"},\"glyph\":{\"id\":\"e3030bc2-ad72-4f79-ba72-d2b7539970c8\",\"type\":\"Square\"},\"hover_glyph\":null,\"muted_glyph\":null,\"nonselection_glyph\":{\"id\":\"f21c6b8f-36bc-4d4f-98ef-52d792112d4a\",\"type\":\"Square\"},\"selection_glyph\":null,\"view\":{\"id\":\"df972e30-141c-4001-a427-a3162a19c4d4\",\"type\":\"CDSView\"}},\"id\":\"e4105797-ba6f-4eb7-b273-dc590555f915\",\"type\":\"GlyphRenderer\"},{\"attributes\":{},\"id\":\"4e937087-6901-441f-a09c-c36b0cd9be9d\",\"type\":\"BasicTicker\"},{\"attributes\":{\"line_alpha\":0.6,\"line_color\":\"#984ea3\",\"line_width\":3,\"x\":{\"field\":\"x\"},\"y\":{\"field\":\"y\"}},\"id\":\"c4e54192-e6c4-4d8c-9ecd-5640c81d5c90\",\"type\":\"Line\"},{\"attributes\":{\"source\":{\"id\":\"cc97211c-d906-457f-80e2-bb9ce99fc499\",\"type\":\"ColumnDataSource\"}},\"id\":\"df972e30-141c-4001-a427-a3162a19c4d4\",\"type\":\"CDSView\"},{\"attributes\":{\"source\":{\"id\":\"efaf4f39-6c34-4380-9155-8f9e3b51ab81\",\"type\":\"ColumnDataSource\"}},\"id\":\"444845a8-6401-45e9-9638-2f52f0f17327\",\"type\":\"CDSView\"},{\"attributes\":{},\"id\":\"b0edaa05-9aea-4a4e-ba45-94ed14699979\",\"type\":\"LinearScale\"},{\"attributes\":{\"data_source\":{\"id\":\"efaf4f39-6c34-4380-9155-8f9e3b51ab81\",\"type\":\"ColumnDataSource\"},\"glyph\":{\"id\":\"339f5ff7-43b0-49af-99fb-65c391342c50\",\"type\":\"Circle\"},\"hover_glyph\":null,\"muted_glyph\":null,\"nonselection_glyph\":{\"id\":\"4f202d54-08c1-4b97-a808-2568d3bd7acd\",\"type\":\"Circle\"},\"selection_glyph\":null,\"view\":{\"id\":\"444845a8-6401-45e9-9638-2f52f0f17327\",\"type\":\"CDSView\"}},\"id\":\"f5e4a342-2d0a-4fe6-beb2-78084eaa631f\",\"type\":\"GlyphRenderer\"},{\"attributes\":{\"source\":{\"id\":\"967164de-7744-4557-a41e-402733630ed8\",\"type\":\"ColumnDataSource\"}},\"id\":\"0872f457-3553-4ad2-9039-a476f49899d3\",\"type\":\"CDSView\"},{\"attributes\":{\"dimension\":1,\"plot\":{\"id\":\"b71a3819-9ff5-49c9-a3eb-f86d976d0411\",\"subtype\":\"Figure\",\"type\":\"Plot\"},\"ticker\":{\"id\":\"2c180690-29e9-4790-b3c5-5dc50faed6e2\",\"type\":\"LogTicker\"}},\"id\":\"20881ee6-e973-4336-ae79-51649b956e78\",\"type\":\"Grid\"},{\"attributes\":{\"source\":{\"id\":\"8caa0fd1-5067-4531-91e4-d9a223e3f7e9\",\"type\":\"ColumnDataSource\"}},\"id\":\"ad7838e5-fce6-41f5-855a-b254ac1a26f3\",\"type\":\"CDSView\"},{\"attributes\":{\"callback\":null,\"column_names\":[\"x\",\"y\"],\"data\":{\"x\":{\"__ndarray__\":\"EoPAyqFFzz+o6ILZiNDPP55wftzho9A/kiuKkQRl0T8V3mlbYh/SP31JGSd0zdI/gQncuptn0z+X2wdqQuTTP2No0Cv5M9Q/a34+whdD1D+RdoryWPXTP4XmAOIqJtM/Z6r1uE6n0T/BzxMqk/XOP0oSAPP7RM4/zZpQb+Pi0T9Kw53JBuvUPxD35KO9aNY/BcBX+CMa1z9pr3jJgx3ZP7QWsC64MN8/wBpvRFoX5T+/uscl0DjnP/uCzIQVXeU/dtVNczyw4j+avDsRSLLePxf57dIjWdk/q4fcyhoO1T8y1R+jNELRP84plpUFF8s/SueqFmSNxD+EznNdW+y9P46xgPqwjbQ/svzQNy9vrD9bW8mlKbadP0/RUYp2jnK/zpoTDMvFnL+Npo/NSYCYv9PVBO7MRme/0J3uqY3Lhz+XvU7lEhmaP1O+CmqkF6U/vI7dqpCXrj/aP8vKYb20PxEU5AxqZLo/18Yzw6ESwD/WrZ6T3jfDP36JugfPIcY/m6JtRhflxz+lxXR8D/LJP2NV7zaQqsw/yh7bEdLDzz+KYcHccl7RP9xgjyZqq9I/9DM31xfm0z+akJxt6hPVP8Pd1YJJN9Y/DAe+edw91z/xwaVCwArYP7RIRSlCptg/abBGye0P2T/orAWsCy7ZP8dFWs+11Ng/CPCrrEz82D+tzpy7fr3XPzURkfUvpNU/NOxBUlUy0z8EdD7AgzTQPyhaA6Wycss/0cPYWy2kxz92xSnGO7jEP63duL2LlMI/g/LCxopUwT+rM8agdmzBPza0nq3FH8g/\",\"dtype\":\"float64\",\"shape\":[75]},\"y\":{\"__ndarray__\":\"S/O/Q+51ND/Sv8nbtpRIP2vylNV0PVE/aTum7souWD/At0SJ8fVgPw3Iuahxymc/MSNhhJWvcD/bTfBN02d3P2zb5nxnaoA/CD5h5MAGhz8NmeH1TyaQP+zrCsc9p5Y/LbKd76fGnz/bLW5ISEmmPww9YvTcQq8/JV2OstnstT8Er5Y7M8G+P0c+r3jqkcU/5h99k6ZBzj88bCIzFzjVP4enV8oyxN0//yH99nXg5D8qOpLLf0jtP5kqGJXUifQ/c9cS8kHP/D+/DpwzojQEQIEmwoanVwxA4lgXt9HgE0BSSZ2AJuIbQAMJih9jjiNA5q4l5INuK0AwTKYKRj0zQNv5fmq8/DpAaCJseHrtQkB/+zpwzoxKQM3MzMzMeFJAZmZmZmZqWEAAAAAAAFxeQM3MzMzMJmJAmpmZmZkfZUBmZmZmZhhoQDMzMzMzEWtAAAAAAAAKbkBmZmZmZoFwQM3MzMzM/XFAMzMzMzN6c0CamZmZmfZ0QAAAAAAAc3ZAZmZmZmbvd0DNzMzMzGt5QDMzMzMz6HpAmpmZmZlkfEAAAAAAAOF9QGZmZmZmXX9AZmZmZuZsgECamZmZGSuBQM3MzMxM6YFAAAAAAICngkAzMzMzs2WDQGZmZmbmI4RAmpmZmRnihEDNzMzMTKCFQAAAAACAXoZAMzMzM7Mch0BmZmZm5tqHQJqZmZkZmYhAzczMzExXiUAAAAAAgBWKQDMzMzOz04pAZmZmZuaRi0CamZmZGVCMQM3MzMxMDo1AAAAAAIDMjUAzMzMzs4qOQGZmZmbmSI9A\",\"dtype\":\"float64\",\"shape\":[75]}}},\"id\":\"59489990-7e73-4403-9bee-8b6869913a87\",\"type\":\"ColumnDataSource\"},{\"attributes\":{\"fill_alpha\":{\"value\":0.1},\"fill_color\":{\"value\":\"#1f77b4\"},\"line_alpha\":{\"value\":0.1},\"line_color\":{\"value\":\"#1f77b4\"},\"x\":{\"field\":\"x\"},\"y\":{\"field\":\"y\"}},\"id\":\"4f202d54-08c1-4b97-a808-2568d3bd7acd\",\"type\":\"Circle\"},{\"attributes\":{},\"id\":\"45ca1409-5a1c-4e79-acb3-35d607c4a951\",\"type\":\"HelpTool\"},{\"attributes\":{},\"id\":\"bcce1101-851e-4023-b10a-e9395e31adc5\",\"type\":\"ResetTool\"},{\"attributes\":{\"data_source\":{\"id\":\"e6f9e864-b8a7-4dde-bc4f-8ee1f588be3a\",\"type\":\"ColumnDataSource\"},\"glyph\":{\"id\":\"a72b0768-61a6-4ede-b095-28866186a05c\",\"type\":\"Line\"},\"hover_glyph\":null,\"muted_glyph\":null,\"nonselection_glyph\":{\"id\":\"2a9ff8be-99ce-4b89-b4ea-89a7454178df\",\"type\":\"Line\"},\"selection_glyph\":null,\"view\":{\"id\":\"3a460d7c-6152-477a-a191-4de937be6e90\",\"type\":\"CDSView\"}},\"id\":\"4fc9d624-3873-4c38-8a41-a4f19fb93f84\",\"type\":\"GlyphRenderer\"},{\"attributes\":{\"callback\":null,\"column_names\":[\"x\",\"y\"],\"data\":{\"x\":{\"__ndarray__\":\"EoPAyqFFzz+o6ILZiNDPP55wftzho9A/kiuKkQRl0T8V3mlbYh/SP31JGSd0zdI/gQncuptn0z+X2wdqQuTTP2No0Cv5M9Q/a34+whdD1D+RdoryWPXTP4XmAOIqJtM/Z6r1uE6n0T/BzxMqk/XOP0oSAPP7RM4/zZpQb+Pi0T9Kw53JBuvUPxD35KO9aNY/BcBX+CMa1z9pr3jJgx3ZP7QWsC64MN8/wBpvRFoX5T+/uscl0DjnP/uCzIQVXeU/dtVNczyw4j+avDsRSLLePxf57dIjWdk/q4fcyhoO1T8y1R+jNELRP84plpUFF8s/SueqFmSNxD+EznNdW+y9P46xgPqwjbQ/svzQNy9vrD9bW8mlKbadP0/RUYp2jnK/zpoTDMvFnL+Npo/NSYCYv9PVBO7MRme/0J3uqY3Lhz+XvU7lEhmaP1O+CmqkF6U/vI7dqpCXrj/aP8vKYb20PxEU5AxqZLo/18Yzw6ESwD/WrZ6T3jfDP36JugfPIcY/m6JtRhflxz+lxXR8D/LJP2NV7zaQqsw/yh7bEdLDzz+KYcHccl7RP9xgjyZqq9I/9DM31xfm0z+akJxt6hPVP8Pd1YJJN9Y/DAe+edw91z/xwaVCwArYP7RIRSlCptg/abBGye0P2T/orAWsCy7ZP8dFWs+11Ng/CPCrrEz82D+tzpy7fr3XPzURkfUvpNU/NOxBUlUy0z8EdD7AgzTQPyhaA6Wycss/0cPYWy2kxz92xSnGO7jEP63duL2LlMI/g/LCxopUwT+rM8agdmzBPza0nq3FH8g/\",\"dtype\":\"float64\",\"shape\":[75]},\"y\":{\"__ndarray__\":\"S/O/Q+51ND/Sv8nbtpRIP2vylNV0PVE/aTum7souWD/At0SJ8fVgPw3Iuahxymc/MSNhhJWvcD/bTfBN02d3P2zb5nxnaoA/CD5h5MAGhz8NmeH1TyaQP+zrCsc9p5Y/LbKd76fGnz/bLW5ISEmmPww9YvTcQq8/JV2OstnstT8Er5Y7M8G+P0c+r3jqkcU/5h99k6ZBzj88bCIzFzjVP4enV8oyxN0//yH99nXg5D8qOpLLf0jtP5kqGJXUifQ/c9cS8kHP/D+/DpwzojQEQIEmwoanVwxA4lgXt9HgE0BSSZ2AJuIbQAMJih9jjiNA5q4l5INuK0AwTKYKRj0zQNv5fmq8/DpAaCJseHrtQkB/+zpwzoxKQM3MzMzMeFJAZmZmZmZqWEAAAAAAAFxeQM3MzMzMJmJAmpmZmZkfZUBmZmZmZhhoQDMzMzMzEWtAAAAAAAAKbkBmZmZmZoFwQM3MzMzM/XFAMzMzMzN6c0CamZmZmfZ0QAAAAAAAc3ZAZmZmZmbvd0DNzMzMzGt5QDMzMzMz6HpAmpmZmZlkfEAAAAAAAOF9QGZmZmZmXX9AZmZmZuZsgECamZmZGSuBQM3MzMxM6YFAAAAAAICngkAzMzMzs2WDQGZmZmbmI4RAmpmZmRnihEDNzMzMTKCFQAAAAACAXoZAMzMzM7Mch0BmZmZm5tqHQJqZmZkZmYhAzczMzExXiUAAAAAAgBWKQDMzMzOz04pAZmZmZuaRi0CamZmZGVCMQM3MzMxMDo1AAAAAAIDMjUAzMzMzs4qOQGZmZmbmSI9A\",\"dtype\":\"float64\",\"shape\":[75]}}},\"id\":\"e6f9e864-b8a7-4dde-bc4f-8ee1f588be3a\",\"type\":\"ColumnDataSource\"},{\"attributes\":{\"data_source\":{\"id\":\"0e323ad7-9d85-4a27-b6c4-6daac24f9990\",\"type\":\"ColumnDataSource\"},\"glyph\":{\"id\":\"b7cfb572-e0f1-49e0-9c45-8d2fe0052013\",\"type\":\"Line\"},\"hover_glyph\":null,\"muted_glyph\":null,\"nonselection_glyph\":{\"id\":\"fa434296-552c-400a-a24b-c4bf97ce674e\",\"type\":\"Line\"},\"selection_glyph\":null,\"view\":{\"id\":\"f5543266-1f29-47a3-9719-4874a162a22f\",\"type\":\"CDSView\"}},\"id\":\"67802155-14db-423c-a309-c94ae014066f\",\"type\":\"GlyphRenderer\"},{\"attributes\":{\"children\":[{\"id\":\"02a377c3-3286-423c-91a8-1c9df1c56d9e\",\"subtype\":\"Figure\",\"type\":\"Plot\"},{\"id\":\"b71a3819-9ff5-49c9-a3eb-f86d976d0411\",\"subtype\":\"Figure\",\"type\":\"Plot\"}]},\"id\":\"ce7ee8bd-3831-4534-b9b4-301d9e191a0d\",\"type\":\"Row\"},{\"attributes\":{},\"id\":\"a083341c-ba7e-4598-9a21-6e2540394ed5\",\"type\":\"BasicTicker\"},{\"attributes\":{\"line_alpha\":0.1,\"line_color\":\"#1f77b4\",\"line_width\":1.5,\"x\":{\"field\":\"x\"},\"y\":{\"field\":\"y\"}},\"id\":\"fa434296-552c-400a-a24b-c4bf97ce674e\",\"type\":\"Line\"},{\"attributes\":{\"callback\":null,\"column_names\":[\"x\",\"y\"],\"data\":{\"x\":{\"__ndarray__\":\"imo60H1Y1T854Kk27oPVP/ycim21O9Y/VwWLP2H71j/9/FKaKJ3XPzRf63MxHdg/yegd+jBz2D84OnwMNY7YP39duDm2Wtg/NAowyVTD1z83O+9SLK/WP2v23QB1+9Q/9MdRDNKE0j8g07kmzbTOP/UmTDnbs8w/9Q8iGXLs0D+fQqZjawnUP+r+uYFlGdY/qk9JCBzq1z9Xi3iAYRjbP9jKtpkr3+A/bkFC1ks65j/uhCxF0efnPzpjb5SCj+U/pZJsO46b4j/pU56rc23eP9u3QYqN+9g/geAabY+91D86LwTvmgbRP0FwS5r1GMs/T2a0PKzDxD+iNAZjZbC+Pxql9f7Z67U/K/C1ak6Trz9THqNdAVygP/wGQPlPAHO/H1nkyuWunb+BtEuQG8KYv/i1qrN+3Ve/UrDOSr0bjT9jr6D+7ZGdP2f1IpsqZqc/5wKm8sfLsD+3fRjsSYq2P93kfT3berw/8RQwicw/wT+Tq3kKkFPEPzMPqh56HMc/AGSVkBfryD+ta5MO//7KPxeLtpUkcM0/PlHhIe8J0D8MTDzaF1TRP2IYqHPiftI/TLzqnsiV0z8GQKIqIprUP9ZPYoSujNU/gxMTzH9l1j8e7U1GdBPXP8bP82VxmNc/3nBh1Qfv1z8919bTN/7XP6Q4BQFLkdc/b4HjtqaO1z9htvD+cD7WP+ali+KPQdQ/y5O1l34T0j/wAvyF5AXPP1B1I4fj1Mo/Vyhv0+GZxz8dIDV5DAfFP9rIlmGzDsM/Bpd1nC7NwT+3CsXKJsjBP/wKiP8qdsg/\",\"dtype\":\"float64\",\"shape\":[75]},\"y\":{\"__ndarray__\":\"GhExyth1ND/Sv8nbtpRIP2vylNV0PVE/aTum7souWD/At0SJ8fVgPw3Iuahxymc/MSNhhJWvcD/bTfBN02d3P2zb5nxnaoA/CD5h5MAGhz8NmeH1TyaQP+zrCsc9p5Y/LbKd76fGnz/bLW5ISEmmPww9YvTcQq8/JV2OstnstT8Er5Y7M8G+P0c+r3jqkcU/5h99k6ZBzj88bCIzFzjVP4enV8oyxN0//yH99nXg5D8qOpLLf0jtP5kqGJXUifQ/c9cS8kHP/D+/DpwzojQEQIEmwoanVwxA4lgXt9HgE0BSSZ2AJuIbQAMJih9jjiNA5q4l5INuK0AwTKYKRj0zQNv5fmq8/DpAaCJseHrtQkB/+zpwzoxKQM3MzMzMeFJAZmZmZmZqWEAAAAAAAFxeQM3MzMzMJmJAmpmZmZkfZUBmZmZmZhhoQDMzMzMzEWtAAAAAAAAKbkBmZmZmZoFwQM3MzMzM/XFAMzMzMzN6c0CamZmZmfZ0QAAAAAAAc3ZAZmZmZmbvd0DNzMzMzGt5QDMzMzMz6HpAmpmZmZlkfEAAAAAAAOF9QGZmZmZmXX9AZmZmZuZsgECamZmZGSuBQM3MzMxM6YFAAAAAAICngkAzMzMzs2WDQGZmZmbmI4RAmpmZmRnihEDNzMzMTKCFQAAAAACAXoZAMzMzM7Mch0BmZmZm5tqHQJqZmZkZmYhAzczMzExXiUAAAAAAgBWKQDMzMzOz04pAZmZmZuaRi0CamZmZGVCMQM3MzMxMDo1AAAAAAIDMjUAzMzMzs4qOQGZmZmbmSI9A\",\"dtype\":\"float64\",\"shape\":[75]}}},\"id\":\"cc97211c-d906-457f-80e2-bb9ce99fc499\",\"type\":\"ColumnDataSource\"},{\"attributes\":{\"fill_alpha\":{\"value\":0.7},\"fill_color\":{\"value\":\"#4daf4a\"},\"line_alpha\":{\"value\":0.7},\"line_color\":{\"value\":\"#4daf4a\"},\"x\":{\"field\":\"x\"},\"y\":{\"field\":\"y\"}},\"id\":\"339f5ff7-43b0-49af-99fb-65c391342c50\",\"type\":\"Circle\"},{\"attributes\":{\"line_alpha\":0.1,\"line_color\":\"#1f77b4\",\"line_dash\":[6],\"line_width\":5,\"x\":{\"field\":\"x\"},\"y\":{\"field\":\"y\"}},\"id\":\"40ffadde-48b2-45c4-9d68-586202cbff2c\",\"type\":\"Line\"},{\"attributes\":{\"callback\":null,\"column_names\":[\"x\",\"y\"],\"data\":{\"x\":{\"__ndarray__\":\"0PuUnV3C2j9jEmiPm4raP8x313ZmRNs/Ypkj0AXa2z9NPX+YjDzcPybWFI5BY9w/6K0uZegx3D/s5EZwp53bP7J8ZfdHjNo/dTHV5ffq2D9t5m/GWabWP/lCjs51sdM/6wpLdkv2zz8NKOX/n1THP6JR7C5x4MM/03+9X1jAyD8A/Pjw0QfQPxghfvYKqNM/e7zzOMoJ2D8L+Mr2AOHdP+Upac2oHOM/4UqwF46w6D+ohXksCdLpP7gkYqXdo+Y/qKv5+Qgf4z84GdFNzSveP0n/Pwx8Xtc/2MTZ358z0j/jZXarIdDMP2NdgY2QJsc/ZnlHW89vwj+iDgrOCW+8P04v+euKI7U/dAU5+ii7rj/XepsLF0qeP1Fu7ZFF0nm/9LOYpYu3nb+m3IcAA+iZvzYiSWXSM3W/LaZOznRZgj+sVe4XSUGXP8AfDKmTTaQ/b5HmVb7jrj8P/nt5zIO1P73HVwqa+bs/YG6cuSxLwT+8MIj+v6DEP8CbyZKUz8c/osCvTwg2yj+g7LmOadTMP8yENmu2k88/86dTP+sx0T/7by2sfpnSP92Qb4R/8NM/ZGZVOg4y1T/8kDMkWU3WP9bbbpsMO9c/Imz8skn41z8dtmd19n7YP1PktbcA2dg/ol0q2ywD2T9WVC+FKNvYPxL3eQi6KNg/fqag09rR1z/ahlmBhBXWP/zydkK3sNM/DZTKyuU10T+CGfj2UwjNP5I+zrAo18g/5fmhDDSjxT+vqNJgZBPDP1gmssUkEsE/dGWrJuNzvz9aZUOKQy6/P/+xMSvracY/\",\"dtype\":\"float64\",\"shape\":[75]},\"y\":{\"__ndarray__\":\"GhExyth1ND/Sv8nbtpRIP2vylNV0PVE/aTum7souWD/At0SJ8fVgPw3Iuahxymc/MSNhhJWvcD/bTfBN02d3P2zb5nxnaoA/CD5h5MAGhz8NmeH1TyaQP+zrCsc9p5Y/LbKd76fGnz/bLW5ISEmmPww9YvTcQq8/JV2OstnstT8Er5Y7M8G+P0c+r3jqkcU/5h99k6ZBzj88bCIzFzjVP4enV8oyxN0//yH99nXg5D8qOpLLf0jtP5kqGJXUifQ/c9cS8kHP/D+/DpwzojQEQIEmwoanVwxA4lgXt9HgE0BSSZ2AJuIbQAMJih9jjiNA5q4l5INuK0AwTKYKRj0zQNv5fmq8/DpAaCJseHrtQkB/+zpwzoxKQM3MzMzMeFJAZmZmZmZqWEAAAAAAAFxeQM3MzMzMJmJAmpmZmZkfZUBmZmZmZhhoQDMzMzMzEWtAAAAAAAAKbkBmZmZmZoFwQM3MzMzM/XFAMzMzMzN6c0CamZmZmfZ0QAAAAAAAc3ZAZmZmZmbvd0DNzMzMzGt5QDMzMzMz6HpAmpmZmZlkfEAAAAAAAOF9QGZmZmZmXX9AZmZmZuZsgECamZmZGSuBQM3MzMxM6YFAAAAAAICngkAzMzMzs2WDQGZmZmbmI4RAmpmZmRnihEDNzMzMTKCFQAAAAACAXoZAMzMzM7Mch0BmZmZm5tqHQJqZmZkZmYhAzczMzExXiUAAAAAAgBWKQDMzMzOz04pAZmZmZuaRi0CamZmZGVCMQM3MzMxMDo1AAAAAAIDMjUAzMzMzs4qOQGZmZmbmSI9A\",\"dtype\":\"float64\",\"shape\":[75]}}},\"id\":\"0e323ad7-9d85-4a27-b6c4-6daac24f9990\",\"type\":\"ColumnDataSource\"},{\"attributes\":{\"overlay\":{\"id\":\"8f1b4b71-f118-425b-9e37-050a686a4f7c\",\"type\":\"BoxAnnotation\"}},\"id\":\"538271e8-abb0-4627-911f-a84e93a595b8\",\"type\":\"BoxZoomTool\"},{\"attributes\":{\"below\":[{\"id\":\"32982ebe-d275-4b5a-860b-ecd971f19427\",\"type\":\"LinearAxis\"}],\"left\":[{\"id\":\"806ea8a4-8b1e-4d5c-9e6d-d4474255107e\",\"type\":\"LinearAxis\"}],\"plot_height\":500,\"plot_width\":400,\"renderers\":[{\"id\":\"32982ebe-d275-4b5a-860b-ecd971f19427\",\"type\":\"LinearAxis\"},{\"id\":\"a8970d09-6196-4a03-b586-cf48b5b51247\",\"type\":\"Grid\"},{\"id\":\"806ea8a4-8b1e-4d5c-9e6d-d4474255107e\",\"type\":\"LinearAxis\"},{\"id\":\"dfb50d28-0b87-405a-bd82-9ceb4cc85adb\",\"type\":\"Grid\"},{\"id\":\"368caa84-0f25-45f6-b616-3500f6a3d61f\",\"type\":\"BoxAnnotation\"},{\"id\":\"4fc9d624-3873-4c38-8a41-a4f19fb93f84\",\"type\":\"GlyphRenderer\"},{\"id\":\"142a656f-6f3e-4225-8fcd-6419dc4b5a96\",\"type\":\"GlyphRenderer\"},{\"id\":\"98a4d082-37be-4706-b3cd-ddd28e8cb49d\",\"type\":\"GlyphRenderer\"},{\"id\":\"e4105797-ba6f-4eb7-b273-dc590555f915\",\"type\":\"GlyphRenderer\"},{\"id\":\"62a81bc0-c1e6-4638-9917-992dd96905e2\",\"type\":\"GlyphRenderer\"}],\"title\":{\"id\":\"040ff677-0c3c-4621-848d-c7dabe8517ab\",\"type\":\"Title\"},\"toolbar\":{\"id\":\"76a67ced-11d7-4105-98bf-8f25be291fe3\",\"type\":\"Toolbar\"},\"toolbar_location\":null,\"x_range\":{\"id\":\"07c3f60c-0be8-4bae-ac06-bfd2ea85abf7\",\"type\":\"Range1d\"},\"x_scale\":{\"id\":\"f82a1bf6-7612-4044-9780-151c53cc0345\",\"type\":\"LinearScale\"},\"y_range\":{\"id\":\"0c0bec37-9142-4ebd-9c3a-f9fbd835fb6a\",\"type\":\"Range1d\"},\"y_scale\":{\"id\":\"b0edaa05-9aea-4a4e-ba45-94ed14699979\",\"type\":\"LinearScale\"}},\"id\":\"02a377c3-3286-423c-91a8-1c9df1c56d9e\",\"subtype\":\"Figure\",\"type\":\"Plot\"},{\"attributes\":{\"callback\":null,\"column_names\":[\"x\",\"y\"],\"data\":{\"x\":{\"__ndarray__\":\"imo60H1Y1T854Kk27oPVP/ycim21O9Y/VwWLP2H71j/9/FKaKJ3XPzRf63MxHdg/yegd+jBz2D84OnwMNY7YP39duDm2Wtg/NAowyVTD1z83O+9SLK/WP2v23QB1+9Q/9MdRDNKE0j8g07kmzbTOP/UmTDnbs8w/9Q8iGXLs0D+fQqZjawnUP+r+uYFlGdY/qk9JCBzq1z9Xi3iAYRjbP9jKtpkr3+A/bkFC1ks65j/uhCxF0efnPzpjb5SCj+U/pZJsO46b4j/pU56rc23eP9u3QYqN+9g/geAabY+91D86LwTvmgbRP0FwS5r1GMs/T2a0PKzDxD+iNAZjZbC+Pxql9f7Z67U/K/C1ak6Trz9THqNdAVygP/wGQPlPAHO/H1nkyuWunb+BtEuQG8KYv/i1qrN+3Ve/UrDOSr0bjT9jr6D+7ZGdP2f1IpsqZqc/5wKm8sfLsD+3fRjsSYq2P93kfT3berw/8RQwicw/wT+Tq3kKkFPEPzMPqh56HMc/AGSVkBfryD+ta5MO//7KPxeLtpUkcM0/PlHhIe8J0D8MTDzaF1TRP2IYqHPiftI/TLzqnsiV0z8GQKIqIprUP9ZPYoSujNU/gxMTzH9l1j8e7U1GdBPXP8bP82VxmNc/3nBh1Qfv1z8919bTN/7XP6Q4BQFLkdc/b4HjtqaO1z9htvD+cD7WP+ali+KPQdQ/y5O1l34T0j/wAvyF5AXPP1B1I4fj1Mo/Vyhv0+GZxz8dIDV5DAfFP9rIlmGzDsM/Bpd1nC7NwT+3CsXKJsjBP/wKiP8qdsg/\",\"dtype\":\"float64\",\"shape\":[75]},\"y\":{\"__ndarray__\":\"GhExyth1ND/Sv8nbtpRIP2vylNV0PVE/aTum7souWD/At0SJ8fVgPw3Iuahxymc/MSNhhJWvcD/bTfBN02d3P2zb5nxnaoA/CD5h5MAGhz8NmeH1TyaQP+zrCsc9p5Y/LbKd76fGnz/bLW5ISEmmPww9YvTcQq8/JV2OstnstT8Er5Y7M8G+P0c+r3jqkcU/5h99k6ZBzj88bCIzFzjVP4enV8oyxN0//yH99nXg5D8qOpLLf0jtP5kqGJXUifQ/c9cS8kHP/D+/DpwzojQEQIEmwoanVwxA4lgXt9HgE0BSSZ2AJuIbQAMJih9jjiNA5q4l5INuK0AwTKYKRj0zQNv5fmq8/DpAaCJseHrtQkB/+zpwzoxKQM3MzMzMeFJAZmZmZmZqWEAAAAAAAFxeQM3MzMzMJmJAmpmZmZkfZUBmZmZmZhhoQDMzMzMzEWtAAAAAAAAKbkBmZmZmZoFwQM3MzMzM/XFAMzMzMzN6c0CamZmZmfZ0QAAAAAAAc3ZAZmZmZmbvd0DNzMzMzGt5QDMzMzMz6HpAmpmZmZlkfEAAAAAAAOF9QGZmZmZmXX9AZmZmZuZsgECamZmZGSuBQM3MzMxM6YFAAAAAAICngkAzMzMzs2WDQGZmZmbmI4RAmpmZmRnihEDNzMzMTKCFQAAAAACAXoZAMzMzM7Mch0BmZmZm5tqHQJqZmZkZmYhAzczMzExXiUAAAAAAgBWKQDMzMzOz04pAZmZmZuaRi0CamZmZGVCMQM3MzMxMDo1AAAAAAIDMjUAzMzMzs4qOQGZmZmbmSI9A\",\"dtype\":\"float64\",\"shape\":[75]}}},\"id\":\"60f0386a-4959-445d-873d-e509d1cfc082\",\"type\":\"ColumnDataSource\"},{\"attributes\":{\"callback\":null,\"column_names\":[\"x\",\"y\"],\"data\":{\"x\":{\"__ndarray__\":\"imo60H1Y1T854Kk27oPVP/ycim21O9Y/VwWLP2H71j/9/FKaKJ3XPzRf63MxHdg/yegd+jBz2D84OnwMNY7YP39duDm2Wtg/NAowyVTD1z83O+9SLK/WP2v23QB1+9Q/9MdRDNKE0j8g07kmzbTOP/UmTDnbs8w/9Q8iGXLs0D+fQqZjawnUP+r+uYFlGdY/qk9JCBzq1z9Xi3iAYRjbP9jKtpkr3+A/bkFC1ks65j/uhCxF0efnPzpjb5SCj+U/pZJsO46b4j/pU56rc23eP9u3QYqN+9g/geAabY+91D86LwTvmgbRP0FwS5r1GMs/T2a0PKzDxD+iNAZjZbC+Pxql9f7Z67U/K/C1ak6Trz9THqNdAVygP/wGQPlPAHO/H1nkyuWunb+BtEuQG8KYv/i1qrN+3Ve/UrDOSr0bjT9jr6D+7ZGdP2f1IpsqZqc/5wKm8sfLsD+3fRjsSYq2P93kfT3berw/8RQwicw/wT+Tq3kKkFPEPzMPqh56HMc/AGSVkBfryD+ta5MO//7KPxeLtpUkcM0/PlHhIe8J0D8MTDzaF1TRP2IYqHPiftI/TLzqnsiV0z8GQKIqIprUP9ZPYoSujNU/gxMTzH9l1j8e7U1GdBPXP8bP82VxmNc/3nBh1Qfv1z8919bTN/7XP6Q4BQFLkdc/b4HjtqaO1z9htvD+cD7WP+ali+KPQdQ/y5O1l34T0j/wAvyF5AXPP1B1I4fj1Mo/Vyhv0+GZxz8dIDV5DAfFP9rIlmGzDsM/Bpd1nC7NwT+3CsXKJsjBP/wKiP8qdsg/\",\"dtype\":\"float64\",\"shape\":[75]},\"y\":{\"__ndarray__\":\"GhExyth1ND/Sv8nbtpRIP2vylNV0PVE/aTum7souWD/At0SJ8fVgPw3Iuahxymc/MSNhhJWvcD/bTfBN02d3P2zb5nxnaoA/CD5h5MAGhz8NmeH1TyaQP+zrCsc9p5Y/LbKd76fGnz/bLW5ISEmmPww9YvTcQq8/JV2OstnstT8Er5Y7M8G+P0c+r3jqkcU/5h99k6ZBzj88bCIzFzjVP4enV8oyxN0//yH99nXg5D8qOpLLf0jtP5kqGJXUifQ/c9cS8kHP/D+/DpwzojQEQIEmwoanVwxA4lgXt9HgE0BSSZ2AJuIbQAMJih9jjiNA5q4l5INuK0AwTKYKRj0zQNv5fmq8/DpAaCJseHrtQkB/+zpwzoxKQM3MzMzMeFJAZmZmZmZqWEAAAAAAAFxeQM3MzMzMJmJAmpmZmZkfZUBmZmZmZhhoQDMzMzMzEWtAAAAAAAAKbkBmZmZmZoFwQM3MzMzM/XFAMzMzMzN6c0CamZmZmfZ0QAAAAAAAc3ZAZmZmZmbvd0DNzMzMzGt5QDMzMzMz6HpAmpmZmZlkfEAAAAAAAOF9QGZmZmZmXX9AZmZmZuZsgECamZmZGSuBQM3MzMxM6YFAAAAAAICngkAzMzMzs2WDQGZmZmbmI4RAmpmZmRnihEDNzMzMTKCFQAAAAACAXoZAMzMzM7Mch0BmZmZm5tqHQJqZmZkZmYhAzczMzExXiUAAAAAAgBWKQDMzMzOz04pAZmZmZuaRi0CamZmZGVCMQM3MzMxMDo1AAAAAAIDMjUAzMzMzs4qOQGZmZmbmSI9A\",\"dtype\":\"float64\",\"shape\":[75]}}},\"id\":\"e9025362-2198-4f3a-ae66-1a1e4baf3342\",\"type\":\"ColumnDataSource\"},{\"attributes\":{\"plot\":null,\"text\":\"Linear pressure scale\"},\"id\":\"040ff677-0c3c-4621-848d-c7dabe8517ab\",\"type\":\"Title\"},{\"attributes\":{\"data_source\":{\"id\":\"8caa0fd1-5067-4531-91e4-d9a223e3f7e9\",\"type\":\"ColumnDataSource\"},\"glyph\":{\"id\":\"3c096341-bffa-4170-bf2d-4599a9e27089\",\"type\":\"Line\"},\"hover_glyph\":null,\"muted_glyph\":null,\"nonselection_glyph\":{\"id\":\"6a43d76e-bbfd-45d2-b60b-b21988b4279e\",\"type\":\"Line\"},\"selection_glyph\":null,\"view\":{\"id\":\"ad7838e5-fce6-41f5-855a-b254ac1a26f3\",\"type\":\"CDSView\"}},\"id\":\"98a4d082-37be-4706-b3cd-ddd28e8cb49d\",\"type\":\"GlyphRenderer\"},{\"attributes\":{\"source\":{\"id\":\"0e323ad7-9d85-4a27-b6c4-6daac24f9990\",\"type\":\"ColumnDataSource\"}},\"id\":\"f5543266-1f29-47a3-9719-4874a162a22f\",\"type\":\"CDSView\"},{\"attributes\":{\"fill_alpha\":{\"value\":0.1},\"fill_color\":{\"value\":\"#1f77b4\"},\"line_alpha\":{\"value\":0.1},\"line_color\":{\"value\":\"#1f77b4\"},\"x\":{\"field\":\"x\"},\"y\":{\"field\":\"y\"}},\"id\":\"f21c6b8f-36bc-4d4f-98ef-52d792112d4a\",\"type\":\"Square\"},{\"attributes\":{\"fill_alpha\":{\"value\":0.7},\"fill_color\":{\"value\":\"#984ea3\"},\"line_alpha\":{\"value\":0.7},\"line_color\":{\"value\":\"#984ea3\"},\"x\":{\"field\":\"x\"},\"y\":{\"field\":\"y\"}},\"id\":\"a5911674-d23c-433f-9edd-1268013679f9\",\"type\":\"Square\"},{\"attributes\":{\"items\":[{\"id\":\"12d3d4d3-505f-4f57-9091-692005ba2474\",\"type\":\"LegendItem\"},{\"id\":\"5879e68e-c2d1-4e93-8648-ddef0ce766c4\",\"type\":\"LegendItem\"},{\"id\":\"9727b4f7-5709-4773-9001-79f5176e26ed\",\"type\":\"LegendItem\"}],\"label_text_font_size\":{\"value\":\"8pt\"},\"location\":[10,-30],\"plot\":{\"id\":\"b71a3819-9ff5-49c9-a3eb-f86d976d0411\",\"subtype\":\"Figure\",\"type\":\"Plot\"}},\"id\":\"2c9e9ae5-c73d-43c3-ae4b-00b13382b294\",\"type\":\"Legend\"},{\"attributes\":{\"source\":{\"id\":\"e9025362-2198-4f3a-ae66-1a1e4baf3342\",\"type\":\"ColumnDataSource\"}},\"id\":\"6350bcbd-eda6-48f8-9c81-c38debd843e0\",\"type\":\"CDSView\"},{\"attributes\":{\"callback\":null,\"end\":0.81524823623,\"start\":-0.03737957923},\"id\":\"bcff3c26-568b-4b55-8025-1953a5cdf22f\",\"type\":\"Range1d\"},{\"attributes\":{\"data_source\":{\"id\":\"59489990-7e73-4403-9bee-8b6869913a87\",\"type\":\"ColumnDataSource\"},\"glyph\":{\"id\":\"04b9f8a7-9fc1-4071-b7ca-4e0ef610a976\",\"type\":\"Line\"},\"hover_glyph\":null,\"muted_glyph\":null,\"nonselection_glyph\":{\"id\":\"40ffadde-48b2-45c4-9d68-586202cbff2c\",\"type\":\"Line\"},\"selection_glyph\":null,\"view\":{\"id\":\"9524c7c3-ad47-453d-a17c-c8d7f25ea8e2\",\"type\":\"CDSView\"}},\"id\":\"ef7e041b-1e17-48dc-b153-a82bf85811ef\",\"type\":\"GlyphRenderer\"},{\"attributes\":{\"fill_alpha\":{\"value\":0.1},\"fill_color\":{\"value\":\"#1f77b4\"},\"line_alpha\":{\"value\":0.1},\"line_color\":{\"value\":\"#1f77b4\"},\"x\":{\"field\":\"x\"},\"y\":{\"field\":\"y\"}},\"id\":\"a54503a7-2610-468f-9430-8fca0ef8e1b5\",\"type\":\"Square\"},{\"attributes\":{\"data_source\":{\"id\":\"e9025362-2198-4f3a-ae66-1a1e4baf3342\",\"type\":\"ColumnDataSource\"},\"glyph\":{\"id\":\"a5911674-d23c-433f-9edd-1268013679f9\",\"type\":\"Square\"},\"hover_glyph\":null,\"muted_glyph\":null,\"nonselection_glyph\":{\"id\":\"a54503a7-2610-468f-9430-8fca0ef8e1b5\",\"type\":\"Square\"},\"selection_glyph\":null,\"view\":{\"id\":\"6350bcbd-eda6-48f8-9c81-c38debd843e0\",\"type\":\"CDSView\"}},\"id\":\"6173f6c0-aa64-4e06-ac48-d2e727002e2d\",\"type\":\"GlyphRenderer\"},{\"attributes\":{},\"id\":\"f071dd6d-0782-48c7-b9b1-4751976bf7cd\",\"type\":\"HelpTool\"},{\"attributes\":{\"source\":{\"id\":\"60f0386a-4959-445d-873d-e509d1cfc082\",\"type\":\"ColumnDataSource\"}},\"id\":\"26bcd084-e757-412a-bab8-4c6cb08dd43a\",\"type\":\"CDSView\"},{\"attributes\":{\"callback\":null,\"end\":0.01,\"start\":1020},\"id\":\"0c0bec37-9142-4ebd-9c3a-f9fbd835fb6a\",\"type\":\"Range1d\"},{\"attributes\":{\"line_alpha\":0.1,\"line_color\":\"#1f77b4\",\"line_width\":3,\"x\":{\"field\":\"x\"},\"y\":{\"field\":\"y\"}},\"id\":\"90342d27-672f-4125-8baf-4f7fc4d260d5\",\"type\":\"Line\"},{\"attributes\":{\"data_source\":{\"id\":\"60f0386a-4959-445d-873d-e509d1cfc082\",\"type\":\"ColumnDataSource\"},\"glyph\":{\"id\":\"c4e54192-e6c4-4d8c-9ecd-5640c81d5c90\",\"type\":\"Line\"},\"hover_glyph\":null,\"muted_glyph\":null,\"nonselection_glyph\":{\"id\":\"90342d27-672f-4125-8baf-4f7fc4d260d5\",\"type\":\"Line\"},\"selection_glyph\":null,\"view\":{\"id\":\"26bcd084-e757-412a-bab8-4c6cb08dd43a\",\"type\":\"CDSView\"}},\"id\":\"76f2ac14-fcd8-41dc-b634-9eced33b9b88\",\"type\":\"GlyphRenderer\"},{\"attributes\":{\"fill_alpha\":{\"value\":0.1},\"fill_color\":{\"value\":\"#1f77b4\"},\"line_alpha\":{\"value\":0.1},\"line_color\":{\"value\":\"#1f77b4\"},\"x\":{\"field\":\"x\"},\"y\":{\"field\":\"y\"}},\"id\":\"c6f329bc-e2ad-4d99-a15d-39371d125875\",\"type\":\"Circle\"},{\"attributes\":{\"children\":[{\"id\":\"bffd8f89-b0c2-43fc-8482-1506f728ea35\",\"type\":\"ToolbarBox\"},{\"id\":\"01e9b186-e17a-42c4-be6a-7698fd4471b9\",\"type\":\"Column\"}]},\"id\":\"15d33f31-ee60-45ab-8c03-4f5a90986d83\",\"type\":\"Column\"},{\"attributes\":{},\"id\":\"59be324d-e908-4734-b48b-1d8302f42a1e\",\"type\":\"PanTool\"},{\"attributes\":{\"axis_label\":\"cooling rate [K/day]\",\"formatter\":{\"id\":\"038a709c-ef80-4128-9013-9ac2e1d452f7\",\"type\":\"BasicTickFormatter\"},\"plot\":{\"id\":\"02a377c3-3286-423c-91a8-1c9df1c56d9e\",\"subtype\":\"Figure\",\"type\":\"Plot\"},\"ticker\":{\"id\":\"4e937087-6901-441f-a09c-c36b0cd9be9d\",\"type\":\"BasicTicker\"}},\"id\":\"32982ebe-d275-4b5a-860b-ecd971f19427\",\"type\":\"LinearAxis\"},{\"attributes\":{\"toolbar\":{\"id\":\"5c53b89c-5441-4818-ab96-70beba64f098\",\"type\":\"ProxyToolbar\"},\"toolbar_location\":\"above\"},\"id\":\"bffd8f89-b0c2-43fc-8482-1506f728ea35\",\"type\":\"ToolbarBox\"},{\"attributes\":{\"plot\":{\"id\":\"02a377c3-3286-423c-91a8-1c9df1c56d9e\",\"subtype\":\"Figure\",\"type\":\"Plot\"},\"ticker\":{\"id\":\"4e937087-6901-441f-a09c-c36b0cd9be9d\",\"type\":\"BasicTicker\"}},\"id\":\"a8970d09-6196-4a03-b586-cf48b5b51247\",\"type\":\"Grid\"},{\"attributes\":{\"fill_alpha\":{\"value\":0.7},\"fill_color\":{\"value\":\"#984ea3\"},\"line_alpha\":{\"value\":0.7},\"line_color\":{\"value\":\"#984ea3\"},\"x\":{\"field\":\"x\"},\"y\":{\"field\":\"y\"}},\"id\":\"e3030bc2-ad72-4f79-ba72-d2b7539970c8\",\"type\":\"Square\"},{\"attributes\":{\"axis_label\":\"pressure [mb]\",\"formatter\":{\"id\":\"0765888b-4efd-4948-a61e-f04c0d20b47f\",\"type\":\"BasicTickFormatter\"},\"plot\":{\"id\":\"02a377c3-3286-423c-91a8-1c9df1c56d9e\",\"subtype\":\"Figure\",\"type\":\"Plot\"},\"ticker\":{\"id\":\"a083341c-ba7e-4598-9a21-6e2540394ed5\",\"type\":\"BasicTicker\"}},\"id\":\"806ea8a4-8b1e-4d5c-9e6d-d4474255107e\",\"type\":\"LinearAxis\"},{\"attributes\":{\"line_alpha\":0.1,\"line_color\":\"#1f77b4\",\"line_width\":1.5,\"x\":{\"field\":\"x\"},\"y\":{\"field\":\"y\"}},\"id\":\"6a43d76e-bbfd-45d2-b60b-b21988b4279e\",\"type\":\"Line\"},{\"attributes\":{\"line_alpha\":0.6,\"line_color\":\"#e41a1c\",\"line_dash\":[6],\"line_width\":5,\"x\":{\"field\":\"x\"},\"y\":{\"field\":\"y\"}},\"id\":\"04b9f8a7-9fc1-4071-b7ca-4e0ef610a976\",\"type\":\"Line\"},{\"attributes\":{},\"id\":\"46deec02-7011-4cfa-9f7e-5fbe1d842f45\",\"type\":\"BasicTickFormatter\"},{\"attributes\":{\"label\":{\"value\":\"CRD\"},\"renderers\":[{\"id\":\"f5e4a342-2d0a-4fe6-beb2-78084eaa631f\",\"type\":\"GlyphRenderer\"},{\"id\":\"67802155-14db-423c-a309-c94ae014066f\",\"type\":\"GlyphRenderer\"}]},\"id\":\"5879e68e-c2d1-4e93-8648-ddef0ce766c4\",\"type\":\"LegendItem\"},{\"attributes\":{\"callback\":null,\"end\":0.01,\"start\":1020},\"id\":\"7e1c441b-cd1b-4f5e-bfc2-08e30f219c96\",\"type\":\"Range1d\"},{\"attributes\":{\"callback\":null,\"column_names\":[\"x\",\"y\"],\"data\":{\"x\":{\"__ndarray__\":\"0PuUnV3C2j9jEmiPm4raP8x313ZmRNs/Ypkj0AXa2z9NPX+YjDzcPybWFI5BY9w/6K0uZegx3D/s5EZwp53bP7J8ZfdHjNo/dTHV5ffq2D9t5m/GWabWP/lCjs51sdM/6wpLdkv2zz8NKOX/n1THP6JR7C5x4MM/03+9X1jAyD8A/Pjw0QfQPxghfvYKqNM/e7zzOMoJ2D8L+Mr2AOHdP+Upac2oHOM/4UqwF46w6D+ohXksCdLpP7gkYqXdo+Y/qKv5+Qgf4z84GdFNzSveP0n/Pwx8Xtc/2MTZ358z0j/jZXarIdDMP2NdgY2QJsc/ZnlHW89vwj+iDgrOCW+8P04v+euKI7U/dAU5+ii7rj/XepsLF0qeP1Fu7ZFF0nm/9LOYpYu3nb+m3IcAA+iZvzYiSWXSM3W/LaZOznRZgj+sVe4XSUGXP8AfDKmTTaQ/b5HmVb7jrj8P/nt5zIO1P73HVwqa+bs/YG6cuSxLwT+8MIj+v6DEP8CbyZKUz8c/osCvTwg2yj+g7LmOadTMP8yENmu2k88/86dTP+sx0T/7by2sfpnSP92Qb4R/8NM/ZGZVOg4y1T/8kDMkWU3WP9bbbpsMO9c/Imz8skn41z8dtmd19n7YP1PktbcA2dg/ol0q2ywD2T9WVC+FKNvYPxL3eQi6KNg/fqag09rR1z/ahlmBhBXWP/zydkK3sNM/DZTKyuU10T+CGfj2UwjNP5I+zrAo18g/5fmhDDSjxT+vqNJgZBPDP1gmssUkEsE/dGWrJuNzvz9aZUOKQy6/P/+xMSvracY/\",\"dtype\":\"float64\",\"shape\":[75]},\"y\":{\"__ndarray__\":\"GhExyth1ND/Sv8nbtpRIP2vylNV0PVE/aTum7souWD/At0SJ8fVgPw3Iuahxymc/MSNhhJWvcD/bTfBN02d3P2zb5nxnaoA/CD5h5MAGhz8NmeH1TyaQP+zrCsc9p5Y/LbKd76fGnz/bLW5ISEmmPww9YvTcQq8/JV2OstnstT8Er5Y7M8G+P0c+r3jqkcU/5h99k6ZBzj88bCIzFzjVP4enV8oyxN0//yH99nXg5D8qOpLLf0jtP5kqGJXUifQ/c9cS8kHP/D+/DpwzojQEQIEmwoanVwxA4lgXt9HgE0BSSZ2AJuIbQAMJih9jjiNA5q4l5INuK0AwTKYKRj0zQNv5fmq8/DpAaCJseHrtQkB/+zpwzoxKQM3MzMzMeFJAZmZmZmZqWEAAAAAAAFxeQM3MzMzMJmJAmpmZmZkfZUBmZmZmZhhoQDMzMzMzEWtAAAAAAAAKbkBmZmZmZoFwQM3MzMzM/XFAMzMzMzN6c0CamZmZmfZ0QAAAAAAAc3ZAZmZmZmbvd0DNzMzMzGt5QDMzMzMz6HpAmpmZmZlkfEAAAAAAAOF9QGZmZmZmXX9AZmZmZuZsgECamZmZGSuBQM3MzMxM6YFAAAAAAICngkAzMzMzs2WDQGZmZmbmI4RAmpmZmRnihEDNzMzMTKCFQAAAAACAXoZAMzMzM7Mch0BmZmZm5tqHQJqZmZkZmYhAzczMzExXiUAAAAAAgBWKQDMzMzOz04pAZmZmZuaRi0CamZmZGVCMQM3MzMxMDo1AAAAAAIDMjUAzMzMzs4qOQGZmZmbmSI9A\",\"dtype\":\"float64\",\"shape\":[75]}}},\"id\":\"efaf4f39-6c34-4380-9155-8f9e3b51ab81\",\"type\":\"ColumnDataSource\"},{\"attributes\":{\"fill_alpha\":{\"value\":0.7},\"fill_color\":{\"value\":\"#4daf4a\"},\"line_alpha\":{\"value\":0.7},\"line_color\":{\"value\":\"#4daf4a\"},\"x\":{\"field\":\"x\"},\"y\":{\"field\":\"y\"}},\"id\":\"6a59409d-0055-4614-bd94-7f92ec363305\",\"type\":\"Circle\"},{\"attributes\":{\"dimension\":1,\"plot\":{\"id\":\"02a377c3-3286-423c-91a8-1c9df1c56d9e\",\"subtype\":\"Figure\",\"type\":\"Plot\"},\"ticker\":{\"id\":\"a083341c-ba7e-4598-9a21-6e2540394ed5\",\"type\":\"BasicTicker\"}},\"id\":\"dfb50d28-0b87-405a-bd82-9ceb4cc85adb\",\"type\":\"Grid\"},{\"attributes\":{},\"id\":\"f82a1bf6-7612-4044-9780-151c53cc0345\",\"type\":\"LinearScale\"},{\"attributes\":{\"bottom_units\":\"screen\",\"fill_alpha\":{\"value\":0.5},\"fill_color\":{\"value\":\"lightgrey\"},\"left_units\":\"screen\",\"level\":\"overlay\",\"line_alpha\":{\"value\":1.0},\"line_color\":{\"value\":\"black\"},\"line_dash\":[4,4],\"line_width\":{\"value\":2},\"plot\":null,\"render_mode\":\"css\",\"right_units\":\"screen\",\"top_units\":\"screen\"},\"id\":\"8f1b4b71-f118-425b-9e37-050a686a4f7c\",\"type\":\"BoxAnnotation\"},{\"attributes\":{\"callback\":null,\"column_names\":[\"x\",\"y\"],\"data\":{\"x\":{\"__ndarray__\":\"0PuUnV3C2j9jEmiPm4raP8x313ZmRNs/Ypkj0AXa2z9NPX+YjDzcPybWFI5BY9w/6K0uZegx3D/s5EZwp53bP7J8ZfdHjNo/dTHV5ffq2D9t5m/GWabWP/lCjs51sdM/6wpLdkv2zz8NKOX/n1THP6JR7C5x4MM/03+9X1jAyD8A/Pjw0QfQPxghfvYKqNM/e7zzOMoJ2D8L+Mr2AOHdP+Upac2oHOM/4UqwF46w6D+ohXksCdLpP7gkYqXdo+Y/qKv5+Qgf4z84GdFNzSveP0n/Pwx8Xtc/2MTZ358z0j/jZXarIdDMP2NdgY2QJsc/ZnlHW89vwj+iDgrOCW+8P04v+euKI7U/dAU5+ii7rj/XepsLF0qeP1Fu7ZFF0nm/9LOYpYu3nb+m3IcAA+iZvzYiSWXSM3W/LaZOznRZgj+sVe4XSUGXP8AfDKmTTaQ/b5HmVb7jrj8P/nt5zIO1P73HVwqa+bs/YG6cuSxLwT+8MIj+v6DEP8CbyZKUz8c/osCvTwg2yj+g7LmOadTMP8yENmu2k88/86dTP+sx0T/7by2sfpnSP92Qb4R/8NM/ZGZVOg4y1T/8kDMkWU3WP9bbbpsMO9c/Imz8skn41z8dtmd19n7YP1PktbcA2dg/ol0q2ywD2T9WVC+FKNvYPxL3eQi6KNg/fqag09rR1z/ahlmBhBXWP/zydkK3sNM/DZTKyuU10T+CGfj2UwjNP5I+zrAo18g/5fmhDDSjxT+vqNJgZBPDP1gmssUkEsE/dGWrJuNzvz9aZUOKQy6/P/+xMSvracY/\",\"dtype\":\"float64\",\"shape\":[75]},\"y\":{\"__ndarray__\":\"GhExyth1ND/Sv8nbtpRIP2vylNV0PVE/aTum7souWD/At0SJ8fVgPw3Iuahxymc/MSNhhJWvcD/bTfBN02d3P2zb5nxnaoA/CD5h5MAGhz8NmeH1TyaQP+zrCsc9p5Y/LbKd76fGnz/bLW5ISEmmPww9YvTcQq8/JV2OstnstT8Er5Y7M8G+P0c+r3jqkcU/5h99k6ZBzj88bCIzFzjVP4enV8oyxN0//yH99nXg5D8qOpLLf0jtP5kqGJXUifQ/c9cS8kHP/D+/DpwzojQEQIEmwoanVwxA4lgXt9HgE0BSSZ2AJuIbQAMJih9jjiNA5q4l5INuK0AwTKYKRj0zQNv5fmq8/DpAaCJseHrtQkB/+zpwzoxKQM3MzMzMeFJAZmZmZmZqWEAAAAAAAFxeQM3MzMzMJmJAmpmZmZkfZUBmZmZmZhhoQDMzMzMzEWtAAAAAAAAKbkBmZmZmZoFwQM3MzMzM/XFAMzMzMzN6c0CamZmZmfZ0QAAAAAAAc3ZAZmZmZmbvd0DNzMzMzGt5QDMzMzMz6HpAmpmZmZlkfEAAAAAAAOF9QGZmZmZmXX9AZmZmZuZsgECamZmZGSuBQM3MzMxM6YFAAAAAAICngkAzMzMzs2WDQGZmZmbmI4RAmpmZmRnihEDNzMzMTKCFQAAAAACAXoZAMzMzM7Mch0BmZmZm5tqHQJqZmZkZmYhAzczMzExXiUAAAAAAgBWKQDMzMzOz04pAZmZmZuaRi0CamZmZGVCMQM3MzMxMDo1AAAAAAIDMjUAzMzMzs4qOQGZmZmbmSI9A\",\"dtype\":\"float64\",\"shape\":[75]}}},\"id\":\"8caa0fd1-5067-4531-91e4-d9a223e3f7e9\",\"type\":\"ColumnDataSource\"},{\"attributes\":{\"source\":{\"id\":\"59489990-7e73-4403-9bee-8b6869913a87\",\"type\":\"ColumnDataSource\"}},\"id\":\"9524c7c3-ad47-453d-a17c-c8d7f25ea8e2\",\"type\":\"CDSView\"},{\"attributes\":{},\"id\":\"c232fa23-d1fa-4313-bedd-524ffa139cb5\",\"type\":\"WheelZoomTool\"},{\"attributes\":{\"num_minor_ticks\":10},\"id\":\"2c180690-29e9-4790-b3c5-5dc50faed6e2\",\"type\":\"LogTicker\"},{\"attributes\":{\"tools\":[{\"id\":\"b7006c5f-fb3f-4d9a-918f-b7df105f74f4\",\"type\":\"PanTool\"},{\"id\":\"a79168e1-a19c-4e6b-b64e-bba5f432dec9\",\"type\":\"WheelZoomTool\"},{\"id\":\"0c8cf3fb-5362-4200-96d6-42e61c7cd307\",\"type\":\"BoxZoomTool\"},{\"id\":\"68c0dff7-7911-4dfc-91f4-240e19420dcd\",\"type\":\"SaveTool\"},{\"id\":\"c9bbc095-40f9-467d-93f8-d2188dc227e8\",\"type\":\"ResetTool\"},{\"id\":\"f071dd6d-0782-48c7-b9b1-4751976bf7cd\",\"type\":\"HelpTool\"},{\"id\":\"59be324d-e908-4734-b48b-1d8302f42a1e\",\"type\":\"PanTool\"},{\"id\":\"c232fa23-d1fa-4313-bedd-524ffa139cb5\",\"type\":\"WheelZoomTool\"},{\"id\":\"538271e8-abb0-4627-911f-a84e93a595b8\",\"type\":\"BoxZoomTool\"},{\"id\":\"f08e2276-8523-432e-b3da-3c7a4499ef52\",\"type\":\"SaveTool\"},{\"id\":\"bcce1101-851e-4023-b10a-e9395e31adc5\",\"type\":\"ResetTool\"},{\"id\":\"45ca1409-5a1c-4e79-acb3-35d607c4a951\",\"type\":\"HelpTool\"}]},\"id\":\"5c53b89c-5441-4818-ab96-70beba64f098\",\"type\":\"ProxyToolbar\"},{\"attributes\":{\"bottom_units\":\"screen\",\"fill_alpha\":{\"value\":0.5},\"fill_color\":{\"value\":\"lightgrey\"},\"left_units\":\"screen\",\"level\":\"overlay\",\"line_alpha\":{\"value\":1.0},\"line_color\":{\"value\":\"black\"},\"line_dash\":[4,4],\"line_width\":{\"value\":2},\"plot\":null,\"render_mode\":\"css\",\"right_units\":\"screen\",\"top_units\":\"screen\"},\"id\":\"368caa84-0f25-45f6-b616-3500f6a3d61f\",\"type\":\"BoxAnnotation\"},{\"attributes\":{},\"id\":\"b7006c5f-fb3f-4d9a-918f-b7df105f74f4\",\"type\":\"PanTool\"},{\"attributes\":{\"line_alpha\":0.1,\"line_color\":\"#1f77b4\",\"line_width\":3,\"x\":{\"field\":\"x\"},\"y\":{\"field\":\"y\"}},\"id\":\"d304da72-f4f8-40b0-8a70-d587c0e51cd3\",\"type\":\"Line\"},{\"attributes\":{},\"id\":\"f08e2276-8523-432e-b3da-3c7a4499ef52\",\"type\":\"SaveTool\"},{\"attributes\":{},\"id\":\"ccb2cc9b-41fc-4072-81bd-6227d7a0ca13\",\"type\":\"LogScale\"},{\"attributes\":{\"line_alpha\":0.6,\"line_color\":\"#984ea3\",\"line_width\":3,\"x\":{\"field\":\"x\"},\"y\":{\"field\":\"y\"}},\"id\":\"0168a96a-68cc-4517-bebc-76f3d550f6c8\",\"type\":\"Line\"},{\"attributes\":{\"overlay\":{\"id\":\"368caa84-0f25-45f6-b616-3500f6a3d61f\",\"type\":\"BoxAnnotation\"}},\"id\":\"0c8cf3fb-5362-4200-96d6-42e61c7cd307\",\"type\":\"BoxZoomTool\"},{\"attributes\":{\"ticker\":null},\"id\":\"e8de71fc-9cff-4d76-abef-5a6a8c0d2881\",\"type\":\"LogTickFormatter\"},{\"attributes\":{},\"id\":\"c9bbc095-40f9-467d-93f8-d2188dc227e8\",\"type\":\"ResetTool\"},{\"attributes\":{},\"id\":\"a79168e1-a19c-4e6b-b64e-bba5f432dec9\",\"type\":\"WheelZoomTool\"},{\"attributes\":{},\"id\":\"68c0dff7-7911-4dfc-91f4-240e19420dcd\",\"type\":\"SaveTool\"},{\"attributes\":{\"line_alpha\":0.1,\"line_color\":\"#1f77b4\",\"line_dash\":[6],\"line_width\":5,\"x\":{\"field\":\"x\"},\"y\":{\"field\":\"y\"}},\"id\":\"2a9ff8be-99ce-4b89-b4ea-89a7454178df\",\"type\":\"Line\"},{\"attributes\":{\"line_color\":\"#4daf4a\",\"line_width\":1.5,\"x\":{\"field\":\"x\"},\"y\":{\"field\":\"y\"}},\"id\":\"3c096341-bffa-4170-bf2d-4599a9e27089\",\"type\":\"Line\"},{\"attributes\":{\"label\":{\"value\":\"CLIRAD `coolr_bands`\"},\"renderers\":[{\"id\":\"ef7e041b-1e17-48dc-b153-a82bf85811ef\",\"type\":\"GlyphRenderer\"}]},\"id\":\"12d3d4d3-505f-4f57-9091-692005ba2474\",\"type\":\"LegendItem\"},{\"attributes\":{\"data_source\":{\"id\":\"967164de-7744-4557-a41e-402733630ed8\",\"type\":\"ColumnDataSource\"},\"glyph\":{\"id\":\"6a59409d-0055-4614-bd94-7f92ec363305\",\"type\":\"Circle\"},\"hover_glyph\":null,\"muted_glyph\":null,\"nonselection_glyph\":{\"id\":\"c6f329bc-e2ad-4d99-a15d-39371d125875\",\"type\":\"Circle\"},\"selection_glyph\":null,\"view\":{\"id\":\"0872f457-3553-4ad2-9039-a476f49899d3\",\"type\":\"CDSView\"}},\"id\":\"142a656f-6f3e-4225-8fcd-6419dc4b5a96\",\"type\":\"GlyphRenderer\"},{\"attributes\":{\"children\":[{\"id\":\"ce7ee8bd-3831-4534-b9b4-301d9e191a0d\",\"type\":\"Row\"}]},\"id\":\"01e9b186-e17a-42c4-be6a-7698fd4471b9\",\"type\":\"Column\"}],\"root_ids\":[\"15d33f31-ee60-45ab-8c03-4f5a90986d83\"]},\"title\":\"Bokeh Application\",\"version\":\"0.12.14\"}};\n",
       "  var render_items = [{\"docid\":\"95dc733c-a854-4ecf-973b-4690dbba7931\",\"elementid\":\"168d4f93-2495-4ce8-9dac-3c10f77123c7\",\"modelid\":\"15d33f31-ee60-45ab-8c03-4f5a90986d83\"}];\n",
       "  root.Bokeh.embed.embed_items_notebook(docs_json, render_items);\n",
       "\n",
       "  }\n",
       "  if (root.Bokeh !== undefined) {\n",
       "    embed_document(root);\n",
       "  } else {\n",
       "    var attempts = 0;\n",
       "    var timer = setInterval(function(root) {\n",
       "      if (root.Bokeh !== undefined) {\n",
       "        embed_document(root);\n",
       "        clearInterval(timer);\n",
       "      }\n",
       "      attempts++;\n",
       "      if (attempts > 100) {\n",
       "        console.log(\"Bokeh: ERROR: Unable to run BokehJS code because BokehJS library is missing\")\n",
       "        clearInterval(timer);\n",
       "      }\n",
       "    }, 10, root)\n",
       "  }\n",
       "})(window);"
      ],
      "application/vnd.bokehjs_exec.v0+json": ""
     },
     "metadata": {
      "application/vnd.bokehjs_exec.v0+json": {
       "id": "15d33f31-ee60-45ab-8c03-4f5a90986d83"
      }
     },
     "output_type": "display_data"
    },
    {
     "name": "stdout",
     "output_type": "stream",
     "text": [
      "FIGURE. Cooling rate profiles.\n"
     ]
    },
    {
     "data": {
      "text/html": [
       "<a id=\"Flux_Comparison\"></a>"
      ],
      "text/plain": [
       "<IPython.core.display.HTML object>"
      ]
     },
     "metadata": {},
     "output_type": "display_data"
    },
    {
     "data": {
      "text/markdown": [
       "# Flux Comparison"
      ],
      "text/plain": [
       "<IPython.core.display.Markdown object>"
      ]
     },
     "metadata": {},
     "output_type": "display_data"
    },
    {
     "data": {
      "text/html": [
       "<div>\n",
       "<style>\n",
       "    .dataframe thead tr:only-child th {\n",
       "        text-align: right;\n",
       "    }\n",
       "\n",
       "    .dataframe thead th {\n",
       "        text-align: left;\n",
       "    }\n",
       "\n",
       "    .dataframe tbody tr th {\n",
       "        vertical-align: top;\n",
       "    }\n",
       "</style>\n",
       "<table border=\"1\" class=\"dataframe\">\n",
       "  <thead>\n",
       "    <tr style=\"text-align: right;\">\n",
       "      <th></th>\n",
       "      <th></th>\n",
       "      <th>flug</th>\n",
       "      <th>fldg</th>\n",
       "      <th>fnetg</th>\n",
       "    </tr>\n",
       "    <tr>\n",
       "      <th>pressure</th>\n",
       "      <th>level</th>\n",
       "      <th></th>\n",
       "      <th></th>\n",
       "      <th></th>\n",
       "    </tr>\n",
       "  </thead>\n",
       "  <tbody>\n",
       "    <tr>\n",
       "      <th>0.0000</th>\n",
       "      <th>1</th>\n",
       "      <td>-25.277188</td>\n",
       "      <td>0.000000</td>\n",
       "      <td>-25.277188</td>\n",
       "    </tr>\n",
       "    <tr>\n",
       "      <th>1.0685</th>\n",
       "      <th>24</th>\n",
       "      <td>-25.276180</td>\n",
       "      <td>0.070059</td>\n",
       "      <td>-25.206121</td>\n",
       "    </tr>\n",
       "    <tr>\n",
       "      <th>1013.0000</th>\n",
       "      <th>76</th>\n",
       "      <td>-38.491734</td>\n",
       "      <td>36.952139</td>\n",
       "      <td>-1.539595</td>\n",
       "    </tr>\n",
       "  </tbody>\n",
       "</table>\n",
       "</div>"
      ],
      "text/plain": [
       "                      flug       fldg      fnetg\n",
       "pressure  level                                 \n",
       "0.0000    1     -25.277188   0.000000 -25.277188\n",
       "1.0685    24    -25.276180   0.070059 -25.206121\n",
       "1013.0000 76    -38.491734  36.952139  -1.539595"
      ]
     },
     "metadata": {},
     "output_type": "display_data"
    },
    {
     "name": "stdout",
     "output_type": "stream",
     "text": [
      "Table. Fluxes. WGT igg=10 wgt_flux=1\n"
     ]
    },
    {
     "data": {
      "text/html": [
       "<div>\n",
       "<style>\n",
       "    .dataframe thead tr:only-child th {\n",
       "        text-align: right;\n",
       "    }\n",
       "\n",
       "    .dataframe thead th {\n",
       "        text-align: left;\n",
       "    }\n",
       "\n",
       "    .dataframe tbody tr th {\n",
       "        vertical-align: top;\n",
       "    }\n",
       "</style>\n",
       "<table border=\"1\" class=\"dataframe\">\n",
       "  <thead>\n",
       "    <tr style=\"text-align: right;\">\n",
       "      <th></th>\n",
       "      <th></th>\n",
       "      <th>flug</th>\n",
       "      <th>fldg</th>\n",
       "      <th>fnetg</th>\n",
       "    </tr>\n",
       "    <tr>\n",
       "      <th>pressure</th>\n",
       "      <th>level</th>\n",
       "      <th></th>\n",
       "      <th></th>\n",
       "      <th></th>\n",
       "    </tr>\n",
       "  </thead>\n",
       "  <tbody>\n",
       "    <tr>\n",
       "      <th>0.0000</th>\n",
       "      <th>1</th>\n",
       "      <td>-25.162348</td>\n",
       "      <td>0.000000</td>\n",
       "      <td>-25.162348</td>\n",
       "    </tr>\n",
       "    <tr>\n",
       "      <th>1.0685</th>\n",
       "      <th>24</th>\n",
       "      <td>-25.161930</td>\n",
       "      <td>0.075640</td>\n",
       "      <td>-25.086290</td>\n",
       "    </tr>\n",
       "    <tr>\n",
       "      <th>1013.0000</th>\n",
       "      <th>76</th>\n",
       "      <td>-38.491734</td>\n",
       "      <td>37.325351</td>\n",
       "      <td>-1.166383</td>\n",
       "    </tr>\n",
       "  </tbody>\n",
       "</table>\n",
       "</div>"
      ],
      "text/plain": [
       "                      flug       fldg      fnetg\n",
       "pressure  level                                 \n",
       "0.0000    1     -25.162348   0.000000 -25.162348\n",
       "1.0685    24    -25.161930   0.075640 -25.086290\n",
       "1013.0000 76    -38.491734  37.325351  -1.166383"
      ]
     },
     "metadata": {},
     "output_type": "display_data"
    },
    {
     "name": "stdout",
     "output_type": "stream",
     "text": [
      "Table. Fluxes. CRD\n"
     ]
    },
    {
     "data": {
      "text/html": [
       "<div>\n",
       "<style>\n",
       "    .dataframe thead tr:only-child th {\n",
       "        text-align: right;\n",
       "    }\n",
       "\n",
       "    .dataframe thead th {\n",
       "        text-align: left;\n",
       "    }\n",
       "\n",
       "    .dataframe tbody tr th {\n",
       "        vertical-align: top;\n",
       "    }\n",
       "</style>\n",
       "<table border=\"1\" class=\"dataframe\">\n",
       "  <thead>\n",
       "    <tr style=\"text-align: right;\">\n",
       "      <th></th>\n",
       "      <th></th>\n",
       "      <th>flug</th>\n",
       "      <th>fldg</th>\n",
       "      <th>fnetg</th>\n",
       "    </tr>\n",
       "    <tr>\n",
       "      <th>pressure</th>\n",
       "      <th>level</th>\n",
       "      <th></th>\n",
       "      <th></th>\n",
       "      <th></th>\n",
       "    </tr>\n",
       "  </thead>\n",
       "  <tbody>\n",
       "    <tr>\n",
       "      <th>1.000000e-08</th>\n",
       "      <th>1</th>\n",
       "      <td>-25.452399</td>\n",
       "      <td>0.000002</td>\n",
       "      <td>-25.452396</td>\n",
       "    </tr>\n",
       "    <tr>\n",
       "      <th>1.068500e+00</th>\n",
       "      <th>24</th>\n",
       "      <td>-25.450879</td>\n",
       "      <td>0.066602</td>\n",
       "      <td>-25.384277</td>\n",
       "    </tr>\n",
       "    <tr>\n",
       "      <th>1.013000e+03</th>\n",
       "      <th>76</th>\n",
       "      <td>-38.491730</td>\n",
       "      <td>37.122719</td>\n",
       "      <td>-1.369012</td>\n",
       "    </tr>\n",
       "  </tbody>\n",
       "</table>\n",
       "</div>"
      ],
      "text/plain": [
       "                         flug       fldg      fnetg\n",
       "pressure     level                                 \n",
       "1.000000e-08 1     -25.452399   0.000002 -25.452396\n",
       "1.068500e+00 24    -25.450879   0.066602 -25.384277\n",
       "1.013000e+03 76    -38.491730  37.122719  -1.369012"
      ]
     },
     "metadata": {},
     "output_type": "display_data"
    },
    {
     "name": "stdout",
     "output_type": "stream",
     "text": [
      "Table. Fluxes. CLIRAD\n"
     ]
    },
    {
     "data": {
      "text/html": [
       "<div>\n",
       "<style>\n",
       "    .dataframe thead tr:only-child th {\n",
       "        text-align: right;\n",
       "    }\n",
       "\n",
       "    .dataframe thead th {\n",
       "        text-align: left;\n",
       "    }\n",
       "\n",
       "    .dataframe tbody tr th {\n",
       "        vertical-align: top;\n",
       "    }\n",
       "</style>\n",
       "<table border=\"1\" class=\"dataframe\">\n",
       "  <thead>\n",
       "    <tr style=\"text-align: right;\">\n",
       "      <th></th>\n",
       "      <th></th>\n",
       "      <th>flug</th>\n",
       "      <th>fldg</th>\n",
       "      <th>fnetg</th>\n",
       "    </tr>\n",
       "    <tr>\n",
       "      <th>pressure</th>\n",
       "      <th>level</th>\n",
       "      <th></th>\n",
       "      <th></th>\n",
       "      <th></th>\n",
       "    </tr>\n",
       "  </thead>\n",
       "  <tbody>\n",
       "    <tr>\n",
       "      <th>0.0000</th>\n",
       "      <th>1</th>\n",
       "      <td>0.11484</td>\n",
       "      <td>0.000000</td>\n",
       "      <td>0.114840</td>\n",
       "    </tr>\n",
       "    <tr>\n",
       "      <th>1.0685</th>\n",
       "      <th>24</th>\n",
       "      <td>0.11425</td>\n",
       "      <td>0.005581</td>\n",
       "      <td>0.119831</td>\n",
       "    </tr>\n",
       "    <tr>\n",
       "      <th>1013.0000</th>\n",
       "      <th>76</th>\n",
       "      <td>0.00000</td>\n",
       "      <td>0.373212</td>\n",
       "      <td>0.373212</td>\n",
       "    </tr>\n",
       "  </tbody>\n",
       "</table>\n",
       "</div>"
      ],
      "text/plain": [
       "                    flug      fldg     fnetg\n",
       "pressure  level                             \n",
       "0.0000    1      0.11484  0.000000  0.114840\n",
       "1.0685    24     0.11425  0.005581  0.119831\n",
       "1013.0000 76     0.00000  0.373212  0.373212"
      ]
     },
     "metadata": {},
     "output_type": "display_data"
    },
    {
     "name": "stdout",
     "output_type": "stream",
     "text": [
      "Table. Fluxes. (CRD) - (WGT igg=10 wgt_flux=1)\n"
     ]
    },
    {
     "data": {
      "text/html": [
       "<div>\n",
       "<style>\n",
       "    .dataframe thead tr:only-child th {\n",
       "        text-align: right;\n",
       "    }\n",
       "\n",
       "    .dataframe thead th {\n",
       "        text-align: left;\n",
       "    }\n",
       "\n",
       "    .dataframe tbody tr th {\n",
       "        vertical-align: top;\n",
       "    }\n",
       "</style>\n",
       "<table border=\"1\" class=\"dataframe\">\n",
       "  <thead>\n",
       "    <tr style=\"text-align: right;\">\n",
       "      <th></th>\n",
       "      <th></th>\n",
       "      <th>flug</th>\n",
       "      <th>fldg</th>\n",
       "      <th>fnetg</th>\n",
       "    </tr>\n",
       "    <tr>\n",
       "      <th>pressure</th>\n",
       "      <th>level</th>\n",
       "      <th></th>\n",
       "      <th></th>\n",
       "      <th></th>\n",
       "    </tr>\n",
       "  </thead>\n",
       "  <tbody>\n",
       "    <tr>\n",
       "      <th>0.0000</th>\n",
       "      <th>1</th>\n",
       "      <td>-0.175211</td>\n",
       "      <td>0.000002</td>\n",
       "      <td>-0.175208</td>\n",
       "    </tr>\n",
       "    <tr>\n",
       "      <th>1.0685</th>\n",
       "      <th>24</th>\n",
       "      <td>-0.174699</td>\n",
       "      <td>-0.003457</td>\n",
       "      <td>-0.178156</td>\n",
       "    </tr>\n",
       "    <tr>\n",
       "      <th>1013.0000</th>\n",
       "      <th>76</th>\n",
       "      <td>0.000004</td>\n",
       "      <td>0.170580</td>\n",
       "      <td>0.170584</td>\n",
       "    </tr>\n",
       "  </tbody>\n",
       "</table>\n",
       "</div>"
      ],
      "text/plain": [
       "                     flug      fldg     fnetg\n",
       "pressure  level                              \n",
       "0.0000    1     -0.175211  0.000002 -0.175208\n",
       "1.0685    24    -0.174699 -0.003457 -0.178156\n",
       "1013.0000 76     0.000004  0.170580  0.170584"
      ]
     },
     "metadata": {},
     "output_type": "display_data"
    },
    {
     "name": "stdout",
     "output_type": "stream",
     "text": [
      "Table. Fluxes. (CLIRAD) - (WGT igg=10 wgt_flux=1)\n"
     ]
    },
    {
     "data": {
      "text/html": [
       "<a id=\"Best-fit_Parameters\"></a>"
      ],
      "text/plain": [
       "<IPython.core.display.HTML object>"
      ]
     },
     "metadata": {},
     "output_type": "display_data"
    },
    {
     "data": {
      "text/markdown": [
       "# Best-fit Parameters"
      ],
      "text/plain": [
       "<IPython.core.display.Markdown object>"
      ]
     },
     "metadata": {},
     "output_type": "display_data"
    },
    {
     "name": "stdout",
     "output_type": "stream",
     "text": [
      "Best-fit values for each (gas, band)\n",
      "------------------------------------\n",
      "o co2 band3a\n",
      "  atmpro = mls\n",
      "  band = 3a\n",
      "  commitnumber = 2bd1f75\n",
      "  conc = 0.0004\n",
      "  dv = 0.01\n",
      "  klin = 6.375563e-24\n",
      "  molecule = co2\n",
      "  ng_adju = [0, 0, 0]\n",
      "  ng_refs = [3, 2, 4]\n",
      "  nv = 100\n",
      "  option_compute_btable = 0\n",
      "  option_compute_ktable = 1\n",
      "  option_wgt_flux = 1\n",
      "  option_wgt_k = 1\n",
      "  ref_pts = [(1, 250), (10, 250), (500, 250)]\n",
      "  tsfc = 294\n",
      "  vmax = 620\n",
      "  vmin = 540\n",
      "  w_diffuse = [(1.6, 1.6, 1.7), (1.75, 1.75), (1.55, 1.55, 1.6, 1.85)]\n",
      "  wgt = [(0.7, 0.3, 0.7), (0.7, 0.6), (0.4, 0.5, 0.8, 0.95)]\n",
      "o h2o band3a\n",
      "  atmpro = mls\n",
      "  band = 3a\n",
      "  commitnumber = 2bd1f75\n",
      "  conc = None\n",
      "  dv = 0.01\n",
      "  klin = 0\n",
      "  molecule = h2o\n",
      "  ng_adju = [0, 0]\n",
      "  ng_refs = [2, 6]\n",
      "  nv = 100\n",
      "  option_compute_btable = 0\n",
      "  option_compute_ktable = 1\n",
      "  option_wgt_flux = 1\n",
      "  option_wgt_k = 1\n",
      "  ref_pts = [(10, 250), (600, 250)]\n",
      "  tsfc = 294\n",
      "  vmax = 620\n",
      "  vmin = 540\n",
      "  w_diffuse = [(1.9, 1.7), (1.4, 1.4, 1.4, 1.55, 1.6, 1.66)]\n",
      "  wgt = [(0.7, 0.7), (0.7, 0.5, 0.5, 0.5, 0.5, 0.5)]\n",
      "o n2o band3a\n",
      "  atmpro = mls\n",
      "  band = 3a\n",
      "  commitnumber = 2bd1f75\n",
      "  conc = 3.2e-07\n",
      "  dv = 0.01\n",
      "  klin = 2.22e-20\n",
      "  molecule = n2o\n",
      "  ng_adju = [0, 0]\n",
      "  ng_refs = [1, 2]\n",
      "  nv = 100\n",
      "  option_compute_btable = 0\n",
      "  option_compute_ktable = 1\n",
      "  option_wgt_flux = 1\n",
      "  option_wgt_k = 1\n",
      "  ref_pts = [(1, 250), (500, 250)]\n",
      "  tsfc = 294\n",
      "  vmax = 620\n",
      "  vmin = 540\n",
      "  w_diffuse = [(1.8,), (1.66, 1.8)]\n",
      "  wgt = [(0.9,), (0.5, 0.95)]\n"
     ]
    }
   ],
   "source": [
    "script()"
   ]
  },
  {
   "cell_type": "code",
   "execution_count": 13,
   "metadata": {
    "collapsed": true
   },
   "outputs": [
    {
     "data": {
      "text/html": [
       "<script>\n",
       "code_show=true; \n",
       "function code_toggle() {\n",
       " if (code_show){\n",
       " $('div.input').hide();\n",
       " } else {\n",
       " $('div.input').show();\n",
       " }\n",
       " code_show = !code_show\n",
       "} \n",
       "$( document ).ready(code_toggle);\n",
       "</script>\n",
       "<form action=\"javascript:code_toggle()\"><input type=\"submit\" value=\"Click here to toggle on/off the raw code.\"></form>"
      ],
      "text/plain": [
       "<IPython.core.display.HTML object>"
      ]
     },
     "execution_count": 13,
     "metadata": {},
     "output_type": "execute_result"
    }
   ],
   "source": [
    "display.HTML('''<script>\n",
    "code_show=true; \n",
    "function code_toggle() {\n",
    " if (code_show){\n",
    " $('div.input').hide();\n",
    " } else {\n",
    " $('div.input').show();\n",
    " }\n",
    " code_show = !code_show\n",
    "} \n",
    "$( document ).ready(code_toggle);\n",
    "</script>\n",
    "<form action=\"javascript:code_toggle()\"><input type=\"submit\" value=\"Click here to toggle on/off the raw code.\"></form>''')"
   ]
  }
 ],
 "metadata": {
  "kernelspec": {
   "display_name": "Python 3",
   "language": "python",
   "name": "python3"
  },
  "language_info": {
   "codemirror_mode": {
    "name": "ipython",
    "version": 3
   },
   "file_extension": ".py",
   "mimetype": "text/x-python",
   "name": "python",
   "nbconvert_exporter": "python",
   "pygments_lexer": "ipython3",
   "version": "3.6.1"
  }
 },
 "nbformat": 4,
 "nbformat_minor": 2
}
