{
 "cells": [
  {
   "cell_type": "code",
   "execution_count": 1,
   "metadata": {
    "collapsed": true
   },
   "outputs": [],
   "source": [
    "%matplotlib inline\n",
    "import os\n",
    "import re\n",
    "import io\n",
    "import itertools\n",
    "import pprint\n",
    "\n",
    "from bokeh.io import output_notebook, show\n",
    "from bokeh.layouts import gridplot\n",
    "from bokeh.plotting import figure\n",
    "from bokeh.models import Range1d, Legend\n",
    "from bokeh.palettes import all_palettes\n",
    "\n",
    "import matplotlib\n",
    "import matplotlib.pyplot as plt\n",
    "import numpy as np\n",
    "import pandas as pd\n",
    "import xarray as xr\n",
    "\n",
    "import climatools.lblnew.bestfit_params as bestfits\n",
    "from climatools.lblnew import setup_bestfit, setup_overlap\n",
    "import climatools.lblnew.pipeline as pipe_lblnew\n",
    "import climatools.cliradlw.setup as setup_cliradlw\n",
    "import climatools.cliradlw.pipeline as pipe_cliradlw\n",
    "\n",
    "import climatools.html.html as climahtml\n",
    "from climatools.lblnew.dataio import *\n",
    "from climatools.plot.plot import *\n",
    "\n",
    "\n",
    "import IPython.display as display"
   ]
  },
  {
   "cell_type": "code",
   "execution_count": 2,
   "metadata": {
    "collapsed": true
   },
   "outputs": [],
   "source": [
    "%run param.py"
   ]
  },
  {
   "cell_type": "code",
   "execution_count": 3,
   "metadata": {
    "collapsed": true
   },
   "outputs": [],
   "source": [
    "def load_output_file(path_csv):\n",
    "    '''\n",
    "    Load lblnew output .csv file to xarray.Dataset\n",
    "    \n",
    "    Parameters\n",
    "    ----------\n",
    "    path_csv: str\n",
    "              Path to the .csv file to be loaded.\n",
    "    ds: xarray.Dataset\n",
    "        Data in the input file in the form of an xarray.Dataset.\n",
    "    '''\n",
    "    toindex = ['band', 'pressure', 'igg', 'g']    \n",
    "    df = pd.read_csv(path_csv, sep=r'\\s+')\n",
    "    df = df.set_index([i for i in toindex if i in df.columns])\n",
    "    df = df.rename(columns={'sfu': 'flug',\n",
    "                            'sfd': 'fldg',\n",
    "                            'fnet': 'fnetg',\n",
    "                            'coolr': 'coolrg'})\n",
    "    ds = xr.Dataset.from_dataframe(df)\n",
    "\n",
    "    for l in ('level', 'layer'):\n",
    "        if l in ds.data_vars:\n",
    "            if len(ds[l].dims) > 1:\n",
    "                surface = {d: 0 for d in ds.dims if d != 'pressure'}\n",
    "                coord_level = ds[l][surface]\n",
    "                ds.coords[l] = ('pressure', coord_level)\n",
    "            else:\n",
    "                ds.coords[l] = ('pressure', ds[l])\n",
    "    \n",
    "    return ds"
   ]
  },
  {
   "cell_type": "code",
   "execution_count": 4,
   "metadata": {
    "collapsed": true
   },
   "outputs": [],
   "source": [
    "def lblnew_setup(param=None):\n",
    "    if 'ng_refs' in param:\n",
    "        return {'setup': setup_bestfit,\n",
    "                'fname_flux_crd': 'output_flux.dat',\n",
    "                'fname_cool_crd': 'output_coolr.dat',\n",
    "                'fname_flux_wgt': 'output_wfluxg.dat',\n",
    "                'fname_cool_wgt': 'output_wcoolrg.dat'}\n",
    "    else:\n",
    "        return {'setup': setup_overlap,\n",
    "                'fname_flux_crd': 'output_flux.dat',\n",
    "                'fname_cool_crd': 'output_coolr.dat',\n",
    "                'fname_flux_wgt': 'output_wflux.dat',\n",
    "                'fname_cool_wgt': 'output_wcoolr.dat'}\n",
    "\n",
    "    \n",
    "def load_lblnew_data(param):\n",
    "    \n",
    "    fname_dsname = [('fname_flux_crd', 'ds_flux_crd'),\n",
    "                    ('fname_cool_crd', 'ds_cool_crd'),\n",
    "                    ('fname_flux_wgt', 'ds_flux_wgt'),\n",
    "                    ('fname_cool_wgt', 'ds_cool_wgt')]\n",
    "    \n",
    "    d = lblnew_setup(param)\n",
    "    dir_fortran = pipe_lblnew.get_dir_case(param, setup=d['setup'])\n",
    "    \n",
    "    data_dict = {}\n",
    "    for fname, dsname in fname_dsname:\n",
    "        fpath = os.path.join(dir_fortran, d[fname])\n",
    "        data_dict[dsname] = load_output_file(fpath)\n",
    "    return data_dict\n",
    "    \n",
    "\n",
    "    \n",
    "    "
   ]
  },
  {
   "cell_type": "code",
   "execution_count": 5,
   "metadata": {
    "collapsed": true
   },
   "outputs": [],
   "source": [
    "d = load_lblnew_data(PARAM_LBLNEW)\n",
    "\n",
    "DS_FLUX_CRD = d['ds_flux_crd']\n",
    "DS_COOL_CRD = d['ds_cool_crd']\n",
    "DS_FLUX_WGT = d['ds_flux_wgt']\n",
    "DS_COOL_WGT = d['ds_cool_wgt']"
   ]
  },
  {
   "cell_type": "code",
   "execution_count": 6,
   "metadata": {
    "collapsed": true
   },
   "outputs": [],
   "source": [
    "DIR_FORTRAN = pipe_cliradlw.get_fortran_dir(PARAM, \n",
    "                                            setup=setup_cliradlw)\n",
    "\n",
    "PATH_FLUX = os.path.join(DIR_FORTRAN, 'output_flux.dat')\n",
    "PATH_COOL = os.path.join(DIR_FORTRAN, 'output_coolr.dat')\n",
    "\n",
    "DS_FLUX = load_output_file(PATH_FLUX)\n",
    "DS_COOL = load_output_file(PATH_COOL)"
   ]
  },
  {
   "cell_type": "code",
   "execution_count": 7,
   "metadata": {},
   "outputs": [
    {
     "data": {
      "text/html": [
       "\n",
       "    <div class=\"bk-root\">\n",
       "        <a href=\"https://bokeh.pydata.org\" target=\"_blank\" class=\"bk-logo bk-logo-small bk-logo-notebook\"></a>\n",
       "        <span id=\"aebf3e4a-5e78-4099-aee4-5606bfbe4137\">Loading BokehJS ...</span>\n",
       "    </div>"
      ]
     },
     "metadata": {},
     "output_type": "display_data"
    },
    {
     "data": {
      "application/javascript": [
       "\n",
       "(function(root) {\n",
       "  function now() {\n",
       "    return new Date();\n",
       "  }\n",
       "\n",
       "  var force = true;\n",
       "\n",
       "  if (typeof (root._bokeh_onload_callbacks) === \"undefined\" || force === true) {\n",
       "    root._bokeh_onload_callbacks = [];\n",
       "    root._bokeh_is_loading = undefined;\n",
       "  }\n",
       "\n",
       "  var JS_MIME_TYPE = 'application/javascript';\n",
       "  var HTML_MIME_TYPE = 'text/html';\n",
       "  var EXEC_MIME_TYPE = 'application/vnd.bokehjs_exec.v0+json';\n",
       "  var CLASS_NAME = 'output_bokeh rendered_html';\n",
       "\n",
       "  /**\n",
       "   * Render data to the DOM node\n",
       "   */\n",
       "  function render(props, node) {\n",
       "    var script = document.createElement(\"script\");\n",
       "    node.appendChild(script);\n",
       "  }\n",
       "\n",
       "  /**\n",
       "   * Handle when an output is cleared or removed\n",
       "   */\n",
       "  function handleClearOutput(event, handle) {\n",
       "    var cell = handle.cell;\n",
       "\n",
       "    var id = cell.output_area._bokeh_element_id;\n",
       "    var server_id = cell.output_area._bokeh_server_id;\n",
       "    // Clean up Bokeh references\n",
       "    if (id !== undefined) {\n",
       "      Bokeh.index[id].model.document.clear();\n",
       "      delete Bokeh.index[id];\n",
       "    }\n",
       "\n",
       "    if (server_id !== undefined) {\n",
       "      // Clean up Bokeh references\n",
       "      var cmd = \"from bokeh.io.state import curstate; print(curstate().uuid_to_server['\" + server_id + \"'].get_sessions()[0].document.roots[0]._id)\";\n",
       "      cell.notebook.kernel.execute(cmd, {\n",
       "        iopub: {\n",
       "          output: function(msg) {\n",
       "            var element_id = msg.content.text.trim();\n",
       "            Bokeh.index[element_id].model.document.clear();\n",
       "            delete Bokeh.index[element_id];\n",
       "          }\n",
       "        }\n",
       "      });\n",
       "      // Destroy server and session\n",
       "      var cmd = \"import bokeh.io.notebook as ion; ion.destroy_server('\" + server_id + \"')\";\n",
       "      cell.notebook.kernel.execute(cmd);\n",
       "    }\n",
       "  }\n",
       "\n",
       "  /**\n",
       "   * Handle when a new output is added\n",
       "   */\n",
       "  function handleAddOutput(event, handle) {\n",
       "    var output_area = handle.output_area;\n",
       "    var output = handle.output;\n",
       "\n",
       "    // limit handleAddOutput to display_data with EXEC_MIME_TYPE content only\n",
       "    if ((output.output_type != \"display_data\") || (!output.data.hasOwnProperty(EXEC_MIME_TYPE))) {\n",
       "      return\n",
       "    }\n",
       "\n",
       "    var toinsert = output_area.element.find(\".\" + CLASS_NAME.split(' ')[0]);\n",
       "\n",
       "    if (output.metadata[EXEC_MIME_TYPE][\"id\"] !== undefined) {\n",
       "      toinsert[0].firstChild.textContent = output.data[JS_MIME_TYPE];\n",
       "      // store reference to embed id on output_area\n",
       "      output_area._bokeh_element_id = output.metadata[EXEC_MIME_TYPE][\"id\"];\n",
       "    }\n",
       "    if (output.metadata[EXEC_MIME_TYPE][\"server_id\"] !== undefined) {\n",
       "      var bk_div = document.createElement(\"div\");\n",
       "      bk_div.innerHTML = output.data[HTML_MIME_TYPE];\n",
       "      var script_attrs = bk_div.children[0].attributes;\n",
       "      for (var i = 0; i < script_attrs.length; i++) {\n",
       "        toinsert[0].firstChild.setAttribute(script_attrs[i].name, script_attrs[i].value);\n",
       "      }\n",
       "      // store reference to server id on output_area\n",
       "      output_area._bokeh_server_id = output.metadata[EXEC_MIME_TYPE][\"server_id\"];\n",
       "    }\n",
       "  }\n",
       "\n",
       "  function register_renderer(events, OutputArea) {\n",
       "\n",
       "    function append_mime(data, metadata, element) {\n",
       "      // create a DOM node to render to\n",
       "      var toinsert = this.create_output_subarea(\n",
       "        metadata,\n",
       "        CLASS_NAME,\n",
       "        EXEC_MIME_TYPE\n",
       "      );\n",
       "      this.keyboard_manager.register_events(toinsert);\n",
       "      // Render to node\n",
       "      var props = {data: data, metadata: metadata[EXEC_MIME_TYPE]};\n",
       "      render(props, toinsert[0]);\n",
       "      element.append(toinsert);\n",
       "      return toinsert\n",
       "    }\n",
       "\n",
       "    /* Handle when an output is cleared or removed */\n",
       "    events.on('clear_output.CodeCell', handleClearOutput);\n",
       "    events.on('delete.Cell', handleClearOutput);\n",
       "\n",
       "    /* Handle when a new output is added */\n",
       "    events.on('output_added.OutputArea', handleAddOutput);\n",
       "\n",
       "    /**\n",
       "     * Register the mime type and append_mime function with output_area\n",
       "     */\n",
       "    OutputArea.prototype.register_mime_type(EXEC_MIME_TYPE, append_mime, {\n",
       "      /* Is output safe? */\n",
       "      safe: true,\n",
       "      /* Index of renderer in `output_area.display_order` */\n",
       "      index: 0\n",
       "    });\n",
       "  }\n",
       "\n",
       "  // register the mime type if in Jupyter Notebook environment and previously unregistered\n",
       "  if (root.Jupyter !== undefined) {\n",
       "    var events = require('base/js/events');\n",
       "    var OutputArea = require('notebook/js/outputarea').OutputArea;\n",
       "\n",
       "    if (OutputArea.prototype.mime_types().indexOf(EXEC_MIME_TYPE) == -1) {\n",
       "      register_renderer(events, OutputArea);\n",
       "    }\n",
       "  }\n",
       "\n",
       "  \n",
       "  if (typeof (root._bokeh_timeout) === \"undefined\" || force === true) {\n",
       "    root._bokeh_timeout = Date.now() + 5000;\n",
       "    root._bokeh_failed_load = false;\n",
       "  }\n",
       "\n",
       "  var NB_LOAD_WARNING = {'data': {'text/html':\n",
       "     \"<div style='background-color: #fdd'>\\n\"+\n",
       "     \"<p>\\n\"+\n",
       "     \"BokehJS does not appear to have successfully loaded. If loading BokehJS from CDN, this \\n\"+\n",
       "     \"may be due to a slow or bad network connection. Possible fixes:\\n\"+\n",
       "     \"</p>\\n\"+\n",
       "     \"<ul>\\n\"+\n",
       "     \"<li>re-rerun `output_notebook()` to attempt to load from CDN again, or</li>\\n\"+\n",
       "     \"<li>use INLINE resources instead, as so:</li>\\n\"+\n",
       "     \"</ul>\\n\"+\n",
       "     \"<code>\\n\"+\n",
       "     \"from bokeh.resources import INLINE\\n\"+\n",
       "     \"output_notebook(resources=INLINE)\\n\"+\n",
       "     \"</code>\\n\"+\n",
       "     \"</div>\"}};\n",
       "\n",
       "  function display_loaded() {\n",
       "    var el = document.getElementById(\"aebf3e4a-5e78-4099-aee4-5606bfbe4137\");\n",
       "    if (el != null) {\n",
       "      el.textContent = \"BokehJS is loading...\";\n",
       "    }\n",
       "    if (root.Bokeh !== undefined) {\n",
       "      if (el != null) {\n",
       "        el.textContent = \"BokehJS \" + root.Bokeh.version + \" successfully loaded.\";\n",
       "      }\n",
       "    } else if (Date.now() < root._bokeh_timeout) {\n",
       "      setTimeout(display_loaded, 100)\n",
       "    }\n",
       "  }\n",
       "\n",
       "\n",
       "  function run_callbacks() {\n",
       "    try {\n",
       "      root._bokeh_onload_callbacks.forEach(function(callback) { callback() });\n",
       "    }\n",
       "    finally {\n",
       "      delete root._bokeh_onload_callbacks\n",
       "    }\n",
       "    console.info(\"Bokeh: all callbacks have finished\");\n",
       "  }\n",
       "\n",
       "  function load_libs(js_urls, callback) {\n",
       "    root._bokeh_onload_callbacks.push(callback);\n",
       "    if (root._bokeh_is_loading > 0) {\n",
       "      console.log(\"Bokeh: BokehJS is being loaded, scheduling callback at\", now());\n",
       "      return null;\n",
       "    }\n",
       "    if (js_urls == null || js_urls.length === 0) {\n",
       "      run_callbacks();\n",
       "      return null;\n",
       "    }\n",
       "    console.log(\"Bokeh: BokehJS not loaded, scheduling load and callback at\", now());\n",
       "    root._bokeh_is_loading = js_urls.length;\n",
       "    for (var i = 0; i < js_urls.length; i++) {\n",
       "      var url = js_urls[i];\n",
       "      var s = document.createElement('script');\n",
       "      s.src = url;\n",
       "      s.async = false;\n",
       "      s.onreadystatechange = s.onload = function() {\n",
       "        root._bokeh_is_loading--;\n",
       "        if (root._bokeh_is_loading === 0) {\n",
       "          console.log(\"Bokeh: all BokehJS libraries loaded\");\n",
       "          run_callbacks()\n",
       "        }\n",
       "      };\n",
       "      s.onerror = function() {\n",
       "        console.warn(\"failed to load library \" + url);\n",
       "      };\n",
       "      console.log(\"Bokeh: injecting script tag for BokehJS library: \", url);\n",
       "      document.getElementsByTagName(\"head\")[0].appendChild(s);\n",
       "    }\n",
       "  };var element = document.getElementById(\"aebf3e4a-5e78-4099-aee4-5606bfbe4137\");\n",
       "  if (element == null) {\n",
       "    console.log(\"Bokeh: ERROR: autoload.js configured with elementid 'aebf3e4a-5e78-4099-aee4-5606bfbe4137' but no matching script tag was found. \")\n",
       "    return false;\n",
       "  }\n",
       "\n",
       "  var js_urls = [\"https://cdn.pydata.org/bokeh/release/bokeh-0.12.14.min.js\", \"https://cdn.pydata.org/bokeh/release/bokeh-widgets-0.12.14.min.js\", \"https://cdn.pydata.org/bokeh/release/bokeh-tables-0.12.14.min.js\", \"https://cdn.pydata.org/bokeh/release/bokeh-gl-0.12.14.min.js\"];\n",
       "\n",
       "  var inline_js = [\n",
       "    function(Bokeh) {\n",
       "      Bokeh.set_log_level(\"info\");\n",
       "    },\n",
       "    \n",
       "    function(Bokeh) {\n",
       "      \n",
       "    },\n",
       "    function(Bokeh) {\n",
       "      console.log(\"Bokeh: injecting CSS: https://cdn.pydata.org/bokeh/release/bokeh-0.12.14.min.css\");\n",
       "      Bokeh.embed.inject_css(\"https://cdn.pydata.org/bokeh/release/bokeh-0.12.14.min.css\");\n",
       "      console.log(\"Bokeh: injecting CSS: https://cdn.pydata.org/bokeh/release/bokeh-widgets-0.12.14.min.css\");\n",
       "      Bokeh.embed.inject_css(\"https://cdn.pydata.org/bokeh/release/bokeh-widgets-0.12.14.min.css\");\n",
       "      console.log(\"Bokeh: injecting CSS: https://cdn.pydata.org/bokeh/release/bokeh-tables-0.12.14.min.css\");\n",
       "      Bokeh.embed.inject_css(\"https://cdn.pydata.org/bokeh/release/bokeh-tables-0.12.14.min.css\");\n",
       "    }\n",
       "  ];\n",
       "\n",
       "  function run_inline_js() {\n",
       "    \n",
       "    if ((root.Bokeh !== undefined) || (force === true)) {\n",
       "      for (var i = 0; i < inline_js.length; i++) {\n",
       "        inline_js[i].call(root, root.Bokeh);\n",
       "      }if (force === true) {\n",
       "        display_loaded();\n",
       "      }} else if (Date.now() < root._bokeh_timeout) {\n",
       "      setTimeout(run_inline_js, 100);\n",
       "    } else if (!root._bokeh_failed_load) {\n",
       "      console.log(\"Bokeh: BokehJS failed to load within specified timeout.\");\n",
       "      root._bokeh_failed_load = true;\n",
       "    } else if (force !== true) {\n",
       "      var cell = $(document.getElementById(\"aebf3e4a-5e78-4099-aee4-5606bfbe4137\")).parents('.cell').data().cell;\n",
       "      cell.output_area.append_execute_result(NB_LOAD_WARNING)\n",
       "    }\n",
       "\n",
       "  }\n",
       "\n",
       "  if (root._bokeh_is_loading === 0) {\n",
       "    console.log(\"Bokeh: BokehJS loaded, going straight to plotting\");\n",
       "    run_inline_js();\n",
       "  } else {\n",
       "    load_libs(js_urls, function() {\n",
       "      console.log(\"Bokeh: BokehJS plotting callback run at\", now());\n",
       "      run_inline_js();\n",
       "    });\n",
       "  }\n",
       "}(window));"
      ],
      "application/vnd.bokehjs_load.v0+json": "\n(function(root) {\n  function now() {\n    return new Date();\n  }\n\n  var force = true;\n\n  if (typeof (root._bokeh_onload_callbacks) === \"undefined\" || force === true) {\n    root._bokeh_onload_callbacks = [];\n    root._bokeh_is_loading = undefined;\n  }\n\n  \n\n  \n  if (typeof (root._bokeh_timeout) === \"undefined\" || force === true) {\n    root._bokeh_timeout = Date.now() + 5000;\n    root._bokeh_failed_load = false;\n  }\n\n  var NB_LOAD_WARNING = {'data': {'text/html':\n     \"<div style='background-color: #fdd'>\\n\"+\n     \"<p>\\n\"+\n     \"BokehJS does not appear to have successfully loaded. If loading BokehJS from CDN, this \\n\"+\n     \"may be due to a slow or bad network connection. Possible fixes:\\n\"+\n     \"</p>\\n\"+\n     \"<ul>\\n\"+\n     \"<li>re-rerun `output_notebook()` to attempt to load from CDN again, or</li>\\n\"+\n     \"<li>use INLINE resources instead, as so:</li>\\n\"+\n     \"</ul>\\n\"+\n     \"<code>\\n\"+\n     \"from bokeh.resources import INLINE\\n\"+\n     \"output_notebook(resources=INLINE)\\n\"+\n     \"</code>\\n\"+\n     \"</div>\"}};\n\n  function display_loaded() {\n    var el = document.getElementById(\"aebf3e4a-5e78-4099-aee4-5606bfbe4137\");\n    if (el != null) {\n      el.textContent = \"BokehJS is loading...\";\n    }\n    if (root.Bokeh !== undefined) {\n      if (el != null) {\n        el.textContent = \"BokehJS \" + root.Bokeh.version + \" successfully loaded.\";\n      }\n    } else if (Date.now() < root._bokeh_timeout) {\n      setTimeout(display_loaded, 100)\n    }\n  }\n\n\n  function run_callbacks() {\n    try {\n      root._bokeh_onload_callbacks.forEach(function(callback) { callback() });\n    }\n    finally {\n      delete root._bokeh_onload_callbacks\n    }\n    console.info(\"Bokeh: all callbacks have finished\");\n  }\n\n  function load_libs(js_urls, callback) {\n    root._bokeh_onload_callbacks.push(callback);\n    if (root._bokeh_is_loading > 0) {\n      console.log(\"Bokeh: BokehJS is being loaded, scheduling callback at\", now());\n      return null;\n    }\n    if (js_urls == null || js_urls.length === 0) {\n      run_callbacks();\n      return null;\n    }\n    console.log(\"Bokeh: BokehJS not loaded, scheduling load and callback at\", now());\n    root._bokeh_is_loading = js_urls.length;\n    for (var i = 0; i < js_urls.length; i++) {\n      var url = js_urls[i];\n      var s = document.createElement('script');\n      s.src = url;\n      s.async = false;\n      s.onreadystatechange = s.onload = function() {\n        root._bokeh_is_loading--;\n        if (root._bokeh_is_loading === 0) {\n          console.log(\"Bokeh: all BokehJS libraries loaded\");\n          run_callbacks()\n        }\n      };\n      s.onerror = function() {\n        console.warn(\"failed to load library \" + url);\n      };\n      console.log(\"Bokeh: injecting script tag for BokehJS library: \", url);\n      document.getElementsByTagName(\"head\")[0].appendChild(s);\n    }\n  };var element = document.getElementById(\"aebf3e4a-5e78-4099-aee4-5606bfbe4137\");\n  if (element == null) {\n    console.log(\"Bokeh: ERROR: autoload.js configured with elementid 'aebf3e4a-5e78-4099-aee4-5606bfbe4137' but no matching script tag was found. \")\n    return false;\n  }\n\n  var js_urls = [\"https://cdn.pydata.org/bokeh/release/bokeh-0.12.14.min.js\", \"https://cdn.pydata.org/bokeh/release/bokeh-widgets-0.12.14.min.js\", \"https://cdn.pydata.org/bokeh/release/bokeh-tables-0.12.14.min.js\", \"https://cdn.pydata.org/bokeh/release/bokeh-gl-0.12.14.min.js\"];\n\n  var inline_js = [\n    function(Bokeh) {\n      Bokeh.set_log_level(\"info\");\n    },\n    \n    function(Bokeh) {\n      \n    },\n    function(Bokeh) {\n      console.log(\"Bokeh: injecting CSS: https://cdn.pydata.org/bokeh/release/bokeh-0.12.14.min.css\");\n      Bokeh.embed.inject_css(\"https://cdn.pydata.org/bokeh/release/bokeh-0.12.14.min.css\");\n      console.log(\"Bokeh: injecting CSS: https://cdn.pydata.org/bokeh/release/bokeh-widgets-0.12.14.min.css\");\n      Bokeh.embed.inject_css(\"https://cdn.pydata.org/bokeh/release/bokeh-widgets-0.12.14.min.css\");\n      console.log(\"Bokeh: injecting CSS: https://cdn.pydata.org/bokeh/release/bokeh-tables-0.12.14.min.css\");\n      Bokeh.embed.inject_css(\"https://cdn.pydata.org/bokeh/release/bokeh-tables-0.12.14.min.css\");\n    }\n  ];\n\n  function run_inline_js() {\n    \n    if ((root.Bokeh !== undefined) || (force === true)) {\n      for (var i = 0; i < inline_js.length; i++) {\n        inline_js[i].call(root, root.Bokeh);\n      }if (force === true) {\n        display_loaded();\n      }} else if (Date.now() < root._bokeh_timeout) {\n      setTimeout(run_inline_js, 100);\n    } else if (!root._bokeh_failed_load) {\n      console.log(\"Bokeh: BokehJS failed to load within specified timeout.\");\n      root._bokeh_failed_load = true;\n    } else if (force !== true) {\n      var cell = $(document.getElementById(\"aebf3e4a-5e78-4099-aee4-5606bfbe4137\")).parents('.cell').data().cell;\n      cell.output_area.append_execute_result(NB_LOAD_WARNING)\n    }\n\n  }\n\n  if (root._bokeh_is_loading === 0) {\n    console.log(\"Bokeh: BokehJS loaded, going straight to plotting\");\n    run_inline_js();\n  } else {\n    load_libs(js_urls, function() {\n      console.log(\"Bokeh: BokehJS plotting callback run at\", now());\n      run_inline_js();\n    });\n  }\n}(window));"
     },
     "metadata": {},
     "output_type": "display_data"
    }
   ],
   "source": [
    "output_notebook()"
   ]
  },
  {
   "cell_type": "code",
   "execution_count": 8,
   "metadata": {
    "collapsed": true
   },
   "outputs": [],
   "source": [
    "def fmt_cool(ds_in):\n",
    "    ds = ds_in.copy(deep=True)\n",
    "    if 'igg' in ds.dims:\n",
    "        ds = ds.sel(igg=1)\n",
    "\n",
    "    if 'g' in ds.dims:\n",
    "        ds = ds.sum('g')\n",
    "            \n",
    "    if 'band' in ds.dims:\n",
    "        try:\n",
    "            ds = ds.squeeze('band')\n",
    "        except ValueError:\n",
    "            ds = ds.sum('band')\n",
    "                \n",
    "    return ds['coolrg']\n",
    "\n",
    "\n",
    "def pltdata_cooling_1(ds_cool=None,\n",
    "                      ds_cool_crd=None, ds_cool_wgt=None):\n",
    "    \n",
    "\n",
    "\n",
    "    colors = all_palettes['Set1'][4]\n",
    "    data = [{'label': 'CLIRAD `coolr_bands`',\n",
    "             'srs': fmt_cool(ds_cool),\n",
    "             'line_dash': 'dashed', 'line_width': 5,\n",
    "             'color': colors[0], 'alpha': .6},\n",
    "            {'label': 'CRD',\n",
    "             'srs': fmt_cool(ds_cool_crd),\n",
    "             'line_dash': 'solid', 'line_width': 1.5,\n",
    "             'marker': 'circle', 'marker_size': 5,\n",
    "             'color': colors[2], 'alpha': 1,},\n",
    "            {'label': 'WGT igg=10 wgt_flux=2',\n",
    "             'srs': fmt_cool(ds_cool_wgt),\n",
    "             'line_dash': 'solid', 'line_width': 3,\n",
    "             'marker': 'square', 'marker_size': 5,\n",
    "             'color': colors[3], 'alpha': .6}]\n",
    "    return data\n",
    "\n",
    "\n",
    "def nice_xlims(pltdata=None, prange=None):\n",
    "    \n",
    "    def get_slice(srs):\n",
    "        return srs.sel(pressure=slice(*prange))\n",
    "    \n",
    "    srss = [d['srs'] for d in pltdata]\n",
    "    vmin = min([get_slice(srs).min() for srs in srss])\n",
    "    vmax = max([get_slice(srs).max() for srs in srss])\n",
    "    dv = (vmax - vmin) * .01\n",
    "    return float(vmin - dv), float(vmax + dv)\n",
    "    \n",
    "\n",
    "def plt_cooling_bokeh(pltdata=None):\n",
    "    '''\n",
    "    Plot a list of cooling rate profiles using bokeh.\n",
    "    '''\n",
    "    ymin = 1e-2 \n",
    "    ymax = 1020 \n",
    "        \n",
    "    p1 = figure(title=\"Linear pressure scale\", \n",
    "                plot_width=400)        \n",
    "    xmin, xmax = nice_xlims(pltdata, prange=(50, 1050))\n",
    "    for d in pltdata:\n",
    "        if 'marker' in d:\n",
    "            getattr(p1, d['marker'])(d['srs'].values, \n",
    "                    d['srs'].coords['pressure'].values,\n",
    "                    color=d['color'], alpha=.7)\n",
    "        p1.line(d['srs'].values, \n",
    "                d['srs'].coords['pressure'].values,\n",
    "                color=d['color'], alpha=d['alpha'], \n",
    "                line_width=d['line_width'], line_dash=d['line_dash'])\n",
    "    \n",
    "    p1.y_range = Range1d(ymax, ymin)\n",
    "    p1.yaxis.axis_label = 'pressure [mb]'   \n",
    "    p1.x_range = Range1d(xmin, xmax)\n",
    "    p1.xaxis.axis_label = 'cooling rate [K/day]'\n",
    "            \n",
    "    p2 = figure(title='Log pressure scale', y_axis_type='log',\n",
    "                plot_width=560)\n",
    "    xmin, xmax = nice_xlims(pltdata, prange=(.01, 200))\n",
    "    \n",
    "    rs = []\n",
    "    for d in pltdata:\n",
    "        rd = []\n",
    "        if 'marker' in d:\n",
    "            r_mark = getattr(p2, d['marker'])(d['srs'].values, \n",
    "                        d['srs'].coords['pressure'].values,\n",
    "                        color=d['color'], alpha=.7)\n",
    "            rd.append(r_mark)\n",
    "        r_line = p2.line(d['srs'].values, \n",
    "                    d['srs'].coords['pressure'].values,\n",
    "                    color=d['color'], alpha=d['alpha'], \n",
    "                    line_width=d['line_width'], line_dash=d['line_dash'])\n",
    "        rd.append(r_line)\n",
    "      \n",
    "        rs.append(rd)\n",
    "        \n",
    "    p2.y_range = Range1d(ymax, ymin)  \n",
    "    p2.yaxis.axis_label = 'pressure [mb]'\n",
    "    \n",
    "    p2.x_range = Range1d(xmin, xmax)\n",
    "    p2.xaxis.axis_label = 'cooling rate [K/day]'\n",
    "    \n",
    "    items = [(d['label'], r) for r, d in zip(rs, pltdata)]\n",
    "    legend = Legend(items=items, location=(10, -30))\n",
    "    legend.label_text_font_size = '8pt'\n",
    "    \n",
    "    p2.add_layout(legend, 'right')  \n",
    "    \n",
    "    show(gridplot(p1, p2, ncols=2, plot_height=500))\n",
    "    \n",
    "\n",
    "def script_plt_cooling():\n",
    "    pltdata = pltdata_cooling_1(\n",
    "        ds_cool=DS_COOL,\n",
    "        ds_cool_crd=DS_COOL_CRD,\n",
    "        ds_cool_wgt=DS_COOL_WGT)\n",
    "    plt_cooling_bokeh(pltdata=pltdata)\n",
    "    print('''FIGURE. Cooling rate profiles.''')"
   ]
  },
  {
   "cell_type": "code",
   "execution_count": 9,
   "metadata": {
    "collapsed": true
   },
   "outputs": [],
   "source": [
    "def fmt_flux(ds_in):\n",
    "    ds = ds_in.copy(deep=True)\n",
    "    \n",
    "    for l in ('level', 'layer'):\n",
    "        if l in ds.data_vars:\n",
    "            if len(ds[l].dims) > 1:\n",
    "                surface = {d: 0 for d in ds.dims if d != 'pressure'}\n",
    "                coord_level = ds[l][surface]\n",
    "                ds.coords[l] = ('pressure', coord_level)\n",
    "            else:\n",
    "                ds.coords[l] = ('pressure', ds[l])\n",
    "        \n",
    "    ds = ds.isel(pressure=[0, 23, -1])\n",
    "        \n",
    "    if 'igg' in ds.dims:\n",
    "        ds = ds.sel(igg=[1])\n",
    "        ds = ds.squeeze('igg').drop('igg')\n",
    "    \n",
    "    if 'g' in ds.dims:\n",
    "        ds = ds.sum('g')\n",
    "            \n",
    "    if 'band' in ds.dims:\n",
    "        try:\n",
    "            ds = ds.squeeze('band').drop('band')\n",
    "        except ValueError:\n",
    "            ds = ds.sum('band')\n",
    "                \n",
    "    df = ds.to_dataframe()\n",
    "    df = df.set_index('level', append=True)               \n",
    "    return df\n",
    "\n",
    "\n",
    "def tbdata_flux(ds_flux=None, ds_flux_crd=None, ds_flux_wgt=None):\n",
    "    ilevels = [0, 23, -1]\n",
    "            \n",
    "    benchmark = {'label': 'WGT igg=10 wgt_flux=1',\n",
    "                 'df': fmt_flux(ds_flux_wgt)}\n",
    "    \n",
    "    tbs = [{'label': 'CRD',\n",
    "            'df': fmt_flux(ds_flux_crd)},\n",
    "           {'label': 'CLIRAD',\n",
    "            'df': fmt_flux(ds_flux)}]\n",
    "    \n",
    "    data = {'benchmark': benchmark, 'others': tbs}\n",
    "    return data\n",
    "\n",
    "\n",
    "def tb_flux(tbdata=None):\n",
    "    benchmark = tbdata['benchmark']\n",
    "    others = tbdata['others']\n",
    "    \n",
    "    def show_tb(d=None):\n",
    "        display.display(d['df'])\n",
    "        print('Table.', 'Fluxes.', d['label'])\n",
    "        \n",
    "    def show_tbdiff(d0=None, d=None):\n",
    "        df = d['df']\n",
    "        df.index = d0['df'].index\n",
    "        display.display(df - d0['df'])\n",
    "        print('Table.', 'Fluxes.', \n",
    "              '({}) - ({})'.format(d['label'], d0['label']))\n",
    "        \n",
    "    show_tb(benchmark)\n",
    "    for d in others:\n",
    "        show_tb(d)\n",
    "        \n",
    "    for d in others:\n",
    "        show_tbdiff(d=d, d0=benchmark)\n",
    "        \n",
    "        \n",
    "def script_tb_flux():\n",
    "    data = tbdata_flux(ds_flux=DS_FLUX,\n",
    "                       ds_flux_crd=DS_FLUX_CRD,\n",
    "                       ds_flux_wgt=DS_FLUX_WGT)\n",
    "    tb_flux(tbdata=data)"
   ]
  },
  {
   "cell_type": "code",
   "execution_count": 10,
   "metadata": {
    "collapsed": true
   },
   "outputs": [],
   "source": [
    "def band_map():\n",
    "    '''\n",
    "    Maps spectral bands in lblnew to spectral bands in clirad.\n",
    "    '''\n",
    "    lblnew2clirad = {'1': '1',\n",
    "            '2': '2',\n",
    "            '3a': '3',\n",
    "            '3b': '4',\n",
    "            '3c': '5',\n",
    "            '4': '6', \n",
    "            '5': '7',\n",
    "            '6': '8',\n",
    "            '7': '9', \n",
    "            '8': '10',\n",
    "            '9': '11'}\n",
    "    \n",
    "    clirad2lblnew = {clirad: lblnew \n",
    "                     for lblnew, clirad in lblnew2clirad.items()}\n",
    "    return clirad2lblnew\n",
    "\n",
    "\n",
    "def gasbands():\n",
    "    bmap = band_map()\n",
    "    gases = list(PARAM['molecule'].keys())\n",
    "    \n",
    "    bands = [bmap[str(b)] for b in PARAM['band']]\n",
    "    return list(itertools.product(gases, bands))\n",
    "\n",
    "\n",
    "def print_bestfit_params():\n",
    "    print('Best-fit values for each (gas, band)')\n",
    "    print('------------------------------------')\n",
    "    for gas, band in gasbands():\n",
    "        print('o {} band{}'.format(gas, band))\n",
    "        param = bestfits.kdist_params(molecule=gas, band=band)\n",
    "        for name, value in param.items():\n",
    "            print(2 * ' ' + '{} = {}'.format(name, value))\n",
    "\n",
    "        \n",
    "def print_input_param():        \n",
    "    for name, value in PARAM.items():\n",
    "        print('{} = {}'.format(name, value))\n",
    "        \n",
    "        \n",
    "def print_lblnew_param():\n",
    "    for name, value in PARAM_LBLNEW.items():\n",
    "        print('{} = {}'.format(name, value))\n"
   ]
  },
  {
   "cell_type": "code",
   "execution_count": 11,
   "metadata": {
    "collapsed": true,
    "scrolled": false
   },
   "outputs": [],
   "source": [
    "def show_html(s):\n",
    "    display.display(display.HTML(s))\n",
    "\n",
    "    \n",
    "def show_markdown(s):\n",
    "    display.display(display.Markdown(s))\n",
    "\n",
    "    \n",
    "def script():\n",
    "    \n",
    "    title = '### CLIRAD-LW'\n",
    "    s_input = 'Input Parameters'\n",
    "    s_lblnew_param = 'LBLNEW case compaired against'\n",
    "    s_bestfits = 'Best-fit Parameters'\n",
    "    s_plt_cooling = 'Cooling Rate Profiles'\n",
    "    s_tb_flux = 'Flux Comparison'\n",
    "    \n",
    "    # title\n",
    "    show_markdown('### CLIRAD-LW')\n",
    "    \n",
    "    # TOC\n",
    "    show_markdown('### Table of Contents')\n",
    "    show_html(climahtml.getHTML_hrefanchor(s_input))\n",
    "    show_html(climahtml.getHTML_hrefanchor(s_lblnew_param))\n",
    "    show_html(climahtml.getHTML_hrefanchor(s_plt_cooling))\n",
    "    show_html(climahtml.getHTML_hrefanchor(s_tb_flux))\n",
    "    show_html(climahtml.getHTML_hrefanchor(s_bestfits))\n",
    "    \n",
    "    # Input parameters\n",
    "    show_html(climahtml.getHTML_idanchor(s_input))\n",
    "    show_markdown(climahtml.getMarkdown_sectitle(s_input))\n",
    "    print_input_param()\n",
    "    \n",
    "    # LBLNEW parameters \n",
    "    show_html(climahtml.getHTML_idanchor(s_lblnew_param))\n",
    "    show_markdown(climahtml.getMarkdown_sectitle(s_lblnew_param))\n",
    "    print_lblnew_param()\n",
    "    \n",
    "    # Cooling rate profiles\n",
    "    show_html(climahtml.getHTML_idanchor(s_plt_cooling))\n",
    "    show_markdown(climahtml.getMarkdown_sectitle(s_plt_cooling))\n",
    "    script_plt_cooling()\n",
    "    \n",
    "    # Flux comparison\n",
    "    show_html(climahtml.getHTML_idanchor(s_tb_flux))\n",
    "    show_markdown(climahtml.getMarkdown_sectitle(s_tb_flux))\n",
    "    script_tb_flux()\n",
    "    \n",
    "    # Best-fit values\n",
    "    show_html(climahtml.getHTML_idanchor(s_bestfits))\n",
    "    show_markdown(climahtml.getMarkdown_sectitle(s_bestfits))\n",
    "    print_bestfit_params()\n",
    "   \n",
    "    "
   ]
  },
  {
   "cell_type": "code",
   "execution_count": 12,
   "metadata": {
    "scrolled": false
   },
   "outputs": [
    {
     "data": {
      "text/markdown": [
       "### CLIRAD-LW"
      ],
      "text/plain": [
       "<IPython.core.display.Markdown object>"
      ]
     },
     "metadata": {},
     "output_type": "display_data"
    },
    {
     "data": {
      "text/markdown": [
       "### Table of Contents"
      ],
      "text/plain": [
       "<IPython.core.display.Markdown object>"
      ]
     },
     "metadata": {},
     "output_type": "display_data"
    },
    {
     "data": {
      "text/html": [
       "<a href=\"#Input_Parameters\">Input Parameters</a>"
      ],
      "text/plain": [
       "<IPython.core.display.HTML object>"
      ]
     },
     "metadata": {},
     "output_type": "display_data"
    },
    {
     "data": {
      "text/html": [
       "<a href=\"#LBLNEW_case_compaired_against\">LBLNEW case compaired against</a>"
      ],
      "text/plain": [
       "<IPython.core.display.HTML object>"
      ]
     },
     "metadata": {},
     "output_type": "display_data"
    },
    {
     "data": {
      "text/html": [
       "<a href=\"#Cooling_Rate_Profiles\">Cooling Rate Profiles</a>"
      ],
      "text/plain": [
       "<IPython.core.display.HTML object>"
      ]
     },
     "metadata": {},
     "output_type": "display_data"
    },
    {
     "data": {
      "text/html": [
       "<a href=\"#Flux_Comparison\">Flux Comparison</a>"
      ],
      "text/plain": [
       "<IPython.core.display.HTML object>"
      ]
     },
     "metadata": {},
     "output_type": "display_data"
    },
    {
     "data": {
      "text/html": [
       "<a href=\"#Best-fit_Parameters\">Best-fit Parameters</a>"
      ],
      "text/plain": [
       "<IPython.core.display.HTML object>"
      ]
     },
     "metadata": {},
     "output_type": "display_data"
    },
    {
     "data": {
      "text/html": [
       "<a id=\"Input_Parameters\"></a>"
      ],
      "text/plain": [
       "<IPython.core.display.HTML object>"
      ]
     },
     "metadata": {},
     "output_type": "display_data"
    },
    {
     "data": {
      "text/markdown": [
       "# Input Parameters"
      ],
      "text/plain": [
       "<IPython.core.display.Markdown object>"
      ]
     },
     "metadata": {},
     "output_type": "display_data"
    },
    {
     "name": "stdout",
     "output_type": "stream",
     "text": [
      "atmpro = mls\n",
      "band = [11]\n",
      "commitnumber = commitnumber\n",
      "molecule = {'h2o': 'atmpro', 'co2': 0.0004}\n",
      "tsfc = 294\n"
     ]
    },
    {
     "data": {
      "text/html": [
       "<a id=\"LBLNEW_case_compaired_against\"></a>"
      ],
      "text/plain": [
       "<IPython.core.display.HTML object>"
      ]
     },
     "metadata": {},
     "output_type": "display_data"
    },
    {
     "data": {
      "text/markdown": [
       "# LBLNEW case compaired against"
      ],
      "text/plain": [
       "<IPython.core.display.Markdown object>"
      ]
     },
     "metadata": {},
     "output_type": "display_data"
    },
    {
     "name": "stdout",
     "output_type": "stream",
     "text": [
      "atmpro = mls\n",
      "band = 9\n",
      "commitnumber = 8ba2806\n",
      "dv = 0.001\n",
      "molecule = {'co2': 0.0004, 'h2o': 'atmpro'}\n",
      "nv = 1000\n",
      "tsfc = 294\n"
     ]
    },
    {
     "data": {
      "text/html": [
       "<a id=\"Cooling_Rate_Profiles\"></a>"
      ],
      "text/plain": [
       "<IPython.core.display.HTML object>"
      ]
     },
     "metadata": {},
     "output_type": "display_data"
    },
    {
     "data": {
      "text/markdown": [
       "# Cooling Rate Profiles"
      ],
      "text/plain": [
       "<IPython.core.display.Markdown object>"
      ]
     },
     "metadata": {},
     "output_type": "display_data"
    },
    {
     "data": {
      "text/html": [
       "\n",
       "<div class=\"bk-root\">\n",
       "    <div class=\"bk-plotdiv\" id=\"ab7164f6-62d9-4001-80f2-8adb392f20e8\"></div>\n",
       "</div>"
      ]
     },
     "metadata": {},
     "output_type": "display_data"
    },
    {
     "data": {
      "application/javascript": [
       "(function(root) {\n",
       "  function embed_document(root) {\n",
       "    \n",
       "  var docs_json = {\"965338f9-5844-4159-aa55-42e43038d025\":{\"roots\":{\"references\":[{\"attributes\":{\"source\":{\"id\":\"7e44b5eb-c06a-40be-afe4-d6b7c526f134\",\"type\":\"ColumnDataSource\"}},\"id\":\"b3626d04-db10-4dad-a884-ffbdacf7ccd7\",\"type\":\"CDSView\"},{\"attributes\":{\"overlay\":{\"id\":\"70d09238-08f8-49c3-836c-b1070c3d79a4\",\"type\":\"BoxAnnotation\"}},\"id\":\"fa773388-6d2c-4060-8ac5-13d171f6ceb9\",\"type\":\"BoxZoomTool\"},{\"attributes\":{\"line_alpha\":0.1,\"line_color\":\"#1f77b4\",\"line_dash\":[6],\"line_width\":5,\"x\":{\"field\":\"x\"},\"y\":{\"field\":\"y\"}},\"id\":\"6b767b4b-2329-433c-a648-99f670583282\",\"type\":\"Line\"},{\"attributes\":{\"callback\":null,\"column_names\":[\"x\",\"y\"],\"data\":{\"x\":{\"__ndarray__\":\"D4285jTP0T+JI6dgoRe1P1HIVBWoMqc/QDDQgD3QjT9jl4IXeEyHv8kQqWReGZy/ACZ7FEZkor8mKxJV8MKjv9ay2M1cRaS/e9GOg2Gsor8rfRECLNGnv+7N4e1QM6e/zhkPvkk2qb/I4PY+NHevvy8hidgMYrK/G5arxOFxsr98zurYmSatv0EyFcn016S/NzZKfaohl7+N9AVCzr9LvzglwLO0iJ0/z4cE33aZuj+Vqh9hOT7OPxjGJ650CM8/2OPwD3yIxD9JgP2EcT+7P3CeLq6YYbA/QQ5wXwyHnz+c86zUTvWFP8wlUUe5z3A/CWoTR+D/bj8TEm7UOAtjPwccYC2cSkc/iQr8uY2zNb/8/h2u7ZZRvySy6MVkxFm/zUBqtbX1W798qkaU1h1bv4b1sUg0/WG/yNz06L9nab8UqVk1Qh5tv7vdnUWHcWu/cqJYzNo2bL+tKReBbVhtvyXdJyuscm6/RFSGzV4/br+xoAI5B5xsv1leK30+zGq/jjw/bZWeaL/W9ZqOHzJlvzrULQL1u1+/0z4zT4mHUr/NUwxMfcEZP4qSh/uMb1Y/TrHUPaXYZz/zGv1gxxxzPz3FZW0353o/4P510QRIgj/gSzdCbNSGP40RVlEmr4o/ZjVxM1sAjj8PWPWWy3aQPxrOn7BwBJI/vnUcRA3Ukz/WVW93UDWWP2nlQgsnbpk/1Tvu8chznT+ZC+BWD9KgPyI4M5xgb6I/mhcEr8Z0oz80siks+DqkP6qCmB4pL6U/JD77uqFjpj9hjWKiCWCoP181j/ZRI7A/\",\"dtype\":\"float64\",\"shape\":[75]},\"y\":{\"__ndarray__\":\"GhExyth1ND/Sv8nbtpRIP2vylNV0PVE/aTum7souWD/At0SJ8fVgPw3Iuahxymc/MSNhhJWvcD/bTfBN02d3P2zb5nxnaoA/CD5h5MAGhz8NmeH1TyaQP+zrCsc9p5Y/LbKd76fGnz/bLW5ISEmmPww9YvTcQq8/JV2OstnstT8Er5Y7M8G+P0c+r3jqkcU/5h99k6ZBzj88bCIzFzjVP4enV8oyxN0//yH99nXg5D8qOpLLf0jtP5kqGJXUifQ/c9cS8kHP/D+/DpwzojQEQIEmwoanVwxA4lgXt9HgE0BSSZ2AJuIbQAMJih9jjiNA5q4l5INuK0AwTKYKRj0zQNv5fmq8/DpAaCJseHrtQkB/+zpwzoxKQM3MzMzMeFJAZmZmZmZqWEAAAAAAAFxeQM3MzMzMJmJAmpmZmZkfZUBmZmZmZhhoQDMzMzMzEWtAAAAAAAAKbkBmZmZmZoFwQM3MzMzM/XFAMzMzMzN6c0CamZmZmfZ0QAAAAAAAc3ZAZmZmZmbvd0DNzMzMzGt5QDMzMzMz6HpAmpmZmZlkfEAAAAAAAOF9QGZmZmZmXX9AZmZmZuZsgECamZmZGSuBQM3MzMxM6YFAAAAAAICngkAzMzMzs2WDQGZmZmbmI4RAmpmZmRnihEDNzMzMTKCFQAAAAACAXoZAMzMzM7Mch0BmZmZm5tqHQJqZmZkZmYhAzczMzExXiUAAAAAAgBWKQDMzMzOz04pAZmZmZuaRi0CamZmZGVCMQM3MzMxMDo1AAAAAAIDMjUAzMzMzs4qOQGZmZmbmSI9A\",\"dtype\":\"float64\",\"shape\":[75]}}},\"id\":\"f4c9aa05-6ab9-458e-901d-f2f9ee21be52\",\"type\":\"ColumnDataSource\"},{\"attributes\":{\"dimension\":1,\"plot\":{\"id\":\"2c5ebfb0-abee-4464-a137-97afc7d07557\",\"subtype\":\"Figure\",\"type\":\"Plot\"},\"ticker\":{\"id\":\"c66fce8c-ec91-4270-afb4-3b361bc39b3b\",\"type\":\"LogTicker\"}},\"id\":\"05aa07c2-7bc9-4578-b724-f7be473900f6\",\"type\":\"Grid\"},{\"attributes\":{},\"id\":\"5ed246ba-3d97-4060-9d3c-7c3a5e11c848\",\"type\":\"BasicTickFormatter\"},{\"attributes\":{\"line_alpha\":0.6,\"line_color\":\"#984ea3\",\"line_width\":3,\"x\":{\"field\":\"x\"},\"y\":{\"field\":\"y\"}},\"id\":\"9181e92f-dcdc-472c-9127-3229a3d8eaa6\",\"type\":\"Line\"},{\"attributes\":{\"line_color\":\"#4daf4a\",\"line_width\":1.5,\"x\":{\"field\":\"x\"},\"y\":{\"field\":\"y\"}},\"id\":\"a51e6ec7-ed1c-4940-9f87-94210e7640e3\",\"type\":\"Line\"},{\"attributes\":{\"source\":{\"id\":\"3e3031d4-0c19-4b92-8cb8-1b891fdb9fd0\",\"type\":\"ColumnDataSource\"}},\"id\":\"2f37bea9-754b-4f4a-b70a-0229e98ed869\",\"type\":\"CDSView\"},{\"attributes\":{\"data_source\":{\"id\":\"6e7d553c-8c45-4a52-8566-185404b2aa7b\",\"type\":\"ColumnDataSource\"},\"glyph\":{\"id\":\"64540e66-2bb1-4033-80d8-e121e4aba34b\",\"type\":\"Line\"},\"hover_glyph\":null,\"muted_glyph\":null,\"nonselection_glyph\":{\"id\":\"6a1ec01b-ae71-425d-b60c-747fc527aee0\",\"type\":\"Line\"},\"selection_glyph\":null,\"view\":{\"id\":\"5def9ce1-9f2f-4a53-8816-a81b1bf86862\",\"type\":\"CDSView\"}},\"id\":\"a193dd1a-e57c-4ba9-937f-e62212d81169\",\"type\":\"GlyphRenderer\"},{\"attributes\":{\"source\":{\"id\":\"de38fd19-db08-4a9f-875a-2465b641abd8\",\"type\":\"ColumnDataSource\"}},\"id\":\"39e6f192-20fe-464d-9b99-9362632c300b\",\"type\":\"CDSView\"},{\"attributes\":{\"callback\":null,\"column_names\":[\"x\",\"y\"],\"data\":{\"x\":{\"__ndarray__\":\"D4285jTP0T+JI6dgoRe1P1HIVBWoMqc/QDDQgD3QjT9jl4IXeEyHv8kQqWReGZy/ACZ7FEZkor8mKxJV8MKjv9ay2M1cRaS/e9GOg2Gsor8rfRECLNGnv+7N4e1QM6e/zhkPvkk2qb/I4PY+NHevvy8hidgMYrK/G5arxOFxsr98zurYmSatv0EyFcn016S/NzZKfaohl7+N9AVCzr9LvzglwLO0iJ0/z4cE33aZuj+Vqh9hOT7OPxjGJ650CM8/2OPwD3yIxD9JgP2EcT+7P3CeLq6YYbA/QQ5wXwyHnz+c86zUTvWFP8wlUUe5z3A/CWoTR+D/bj8TEm7UOAtjPwccYC2cSkc/iQr8uY2zNb/8/h2u7ZZRvySy6MVkxFm/zUBqtbX1W798qkaU1h1bv4b1sUg0/WG/yNz06L9nab8UqVk1Qh5tv7vdnUWHcWu/cqJYzNo2bL+tKReBbVhtvyXdJyuscm6/RFSGzV4/br+xoAI5B5xsv1leK30+zGq/jjw/bZWeaL/W9ZqOHzJlvzrULQL1u1+/0z4zT4mHUr/NUwxMfcEZP4qSh/uMb1Y/TrHUPaXYZz/zGv1gxxxzPz3FZW0353o/4P510QRIgj/gSzdCbNSGP40RVlEmr4o/ZjVxM1sAjj8PWPWWy3aQPxrOn7BwBJI/vnUcRA3Ukz/WVW93UDWWP2nlQgsnbpk/1Tvu8chznT+ZC+BWD9KgPyI4M5xgb6I/mhcEr8Z0oz80siks+DqkP6qCmB4pL6U/JD77uqFjpj9hjWKiCWCoP181j/ZRI7A/\",\"dtype\":\"float64\",\"shape\":[75]},\"y\":{\"__ndarray__\":\"GhExyth1ND/Sv8nbtpRIP2vylNV0PVE/aTum7souWD/At0SJ8fVgPw3Iuahxymc/MSNhhJWvcD/bTfBN02d3P2zb5nxnaoA/CD5h5MAGhz8NmeH1TyaQP+zrCsc9p5Y/LbKd76fGnz/bLW5ISEmmPww9YvTcQq8/JV2OstnstT8Er5Y7M8G+P0c+r3jqkcU/5h99k6ZBzj88bCIzFzjVP4enV8oyxN0//yH99nXg5D8qOpLLf0jtP5kqGJXUifQ/c9cS8kHP/D+/DpwzojQEQIEmwoanVwxA4lgXt9HgE0BSSZ2AJuIbQAMJih9jjiNA5q4l5INuK0AwTKYKRj0zQNv5fmq8/DpAaCJseHrtQkB/+zpwzoxKQM3MzMzMeFJAZmZmZmZqWEAAAAAAAFxeQM3MzMzMJmJAmpmZmZkfZUBmZmZmZhhoQDMzMzMzEWtAAAAAAAAKbkBmZmZmZoFwQM3MzMzM/XFAMzMzMzN6c0CamZmZmfZ0QAAAAAAAc3ZAZmZmZmbvd0DNzMzMzGt5QDMzMzMz6HpAmpmZmZlkfEAAAAAAAOF9QGZmZmZmXX9AZmZmZuZsgECamZmZGSuBQM3MzMxM6YFAAAAAAICngkAzMzMzs2WDQGZmZmbmI4RAmpmZmRnihEDNzMzMTKCFQAAAAACAXoZAMzMzM7Mch0BmZmZm5tqHQJqZmZkZmYhAzczMzExXiUAAAAAAgBWKQDMzMzOz04pAZmZmZuaRi0CamZmZGVCMQM3MzMxMDo1AAAAAAIDMjUAzMzMzs4qOQGZmZmbmSI9A\",\"dtype\":\"float64\",\"shape\":[75]}}},\"id\":\"d67ffa95-ce27-44cd-bc4a-0fbda7bfafc1\",\"type\":\"ColumnDataSource\"},{\"attributes\":{\"plot\":null,\"text\":\"Log pressure scale\"},\"id\":\"1a7147a2-6c38-4a71-b3e1-9fa4ba3d8395\",\"type\":\"Title\"},{\"attributes\":{\"line_alpha\":0.1,\"line_color\":\"#1f77b4\",\"line_width\":1.5,\"x\":{\"field\":\"x\"},\"y\":{\"field\":\"y\"}},\"id\":\"37a84b92-26eb-4041-bed8-2aefd29fe7f7\",\"type\":\"Line\"},{\"attributes\":{},\"id\":\"702b51a4-a46c-477d-bf2d-4febd4d786d0\",\"type\":\"SaveTool\"},{\"attributes\":{\"data_source\":{\"id\":\"7e44b5eb-c06a-40be-afe4-d6b7c526f134\",\"type\":\"ColumnDataSource\"},\"glyph\":{\"id\":\"a51e6ec7-ed1c-4940-9f87-94210e7640e3\",\"type\":\"Line\"},\"hover_glyph\":null,\"muted_glyph\":null,\"nonselection_glyph\":{\"id\":\"37a84b92-26eb-4041-bed8-2aefd29fe7f7\",\"type\":\"Line\"},\"selection_glyph\":null,\"view\":{\"id\":\"b3626d04-db10-4dad-a884-ffbdacf7ccd7\",\"type\":\"CDSView\"}},\"id\":\"72258728-c456-4f44-b0d8-546f34376314\",\"type\":\"GlyphRenderer\"},{\"attributes\":{},\"id\":\"97b5a1d2-1f7b-470c-97c2-cc38d2fece99\",\"type\":\"HelpTool\"},{\"attributes\":{\"data_source\":{\"id\":\"d67ffa95-ce27-44cd-bc4a-0fbda7bfafc1\",\"type\":\"ColumnDataSource\"},\"glyph\":{\"id\":\"ebca98c4-fc2d-47ca-a70a-3b5d673f7bae\",\"type\":\"Square\"},\"hover_glyph\":null,\"muted_glyph\":null,\"nonselection_glyph\":{\"id\":\"afc96f13-b3c6-46f3-8348-e1f63771547f\",\"type\":\"Square\"},\"selection_glyph\":null,\"view\":{\"id\":\"9eacc2be-857a-4d15-a0ef-9c59d9f2cb53\",\"type\":\"CDSView\"}},\"id\":\"e964127f-d0c7-453f-bb0f-a2c88c3e66d1\",\"type\":\"GlyphRenderer\"},{\"attributes\":{\"source\":{\"id\":\"51a9d720-4412-4896-8df1-8904a7708145\",\"type\":\"ColumnDataSource\"}},\"id\":\"4b04163c-c7c9-49ab-97e0-4756c69a32b7\",\"type\":\"CDSView\"},{\"attributes\":{\"line_alpha\":0.1,\"line_color\":\"#1f77b4\",\"line_width\":3,\"x\":{\"field\":\"x\"},\"y\":{\"field\":\"y\"}},\"id\":\"dce99693-3207-4178-9ba9-111581948061\",\"type\":\"Line\"},{\"attributes\":{\"callback\":null,\"column_names\":[\"x\",\"y\"],\"data\":{\"x\":{\"__ndarray__\":\"95vDlMzawD9U4j5aqjeEPwX9/VH4zXg/V7xLgF7TUz+eyDMyP2xuv5X1Dd/R5YC/mq0aVoHyiL8d9a9jXnKQv6X1SmixZZS/M/VutxqVmL9z1cB/iEedvxYswSHVKaG/CiWgfT1DpL+TzBWeynupv8tZCg5Qlq+/X449zHXSsL+WoTFgt3Kvv2s2M1OKuKy/klAy7Sbupr8MhzErDHiWv4gaO5eYHZY/nQvIAzaMvj8pkq8EUmLRP6lzf9SqRtE/DDl885dtwz9slSt/aC21P5WExVrcfKc/+XQrOkg+mT+BVgUPeAWLP87LOHjsiHs/X5Q1bex5Yj++1f8rUVZEv8/Z2OazNVO/4FGUK845SL/T0lPt6IVLv6WgjE5ls1S/DAfyj6bRV7+lx9n2qapYv+wwCYNpEmC/QHlWFcxmZr9NUN15dsJpv6b8cg4oIGi/Kkf/DvdfZ7+kCvK3JYBnv614dRbOEWi/PdxOlvMwaL8BheMCoxVnvxlfi0jarmS/3PgGawvrYL8V0tNko4NXv4gHG4CTlUW/vCeC+vsiLD/jLqhSH39TPzBZHJsLxmI/JSlMQwQIbT8bFmBtvml0P6lvInykT3s/NhwUYUMvgj9zDyU0K9aGP3WO/B8ydYs/XQPKwrEQkD8HH1fe5nGSP69QPhnw7ZQ/Ud1Apz6Vlz9t4S0bk4GaPzB86ZIW050/mlGEuJi9oD+a3C9su3OiPy6GehOmnKM/PPOJdPMYpD+sX3RvAUWkP5BJz78gk6Q/UNFMiJ1PpT+ArIkABemmP748iJD/ca4/\",\"dtype\":\"float64\",\"shape\":[75]},\"y\":{\"__ndarray__\":\"GhExyth1ND/Sv8nbtpRIP2vylNV0PVE/aTum7souWD/At0SJ8fVgPw3Iuahxymc/MSNhhJWvcD/bTfBN02d3P2zb5nxnaoA/CD5h5MAGhz8NmeH1TyaQP+zrCsc9p5Y/LbKd76fGnz/bLW5ISEmmPww9YvTcQq8/JV2OstnstT8Er5Y7M8G+P0c+r3jqkcU/5h99k6ZBzj88bCIzFzjVP4enV8oyxN0//yH99nXg5D8qOpLLf0jtP5kqGJXUifQ/c9cS8kHP/D+/DpwzojQEQIEmwoanVwxA4lgXt9HgE0BSSZ2AJuIbQAMJih9jjiNA5q4l5INuK0AwTKYKRj0zQNv5fmq8/DpAaCJseHrtQkB/+zpwzoxKQM3MzMzMeFJAZmZmZmZqWEAAAAAAAFxeQM3MzMzMJmJAmpmZmZkfZUBmZmZmZhhoQDMzMzMzEWtAAAAAAAAKbkBmZmZmZoFwQM3MzMzM/XFAMzMzMzN6c0CamZmZmfZ0QAAAAAAAc3ZAZmZmZmbvd0DNzMzMzGt5QDMzMzMz6HpAmpmZmZlkfEAAAAAAAOF9QGZmZmZmXX9AZmZmZuZsgECamZmZGSuBQM3MzMxM6YFAAAAAAICngkAzMzMzs2WDQGZmZmbmI4RAmpmZmRnihEDNzMzMTKCFQAAAAACAXoZAMzMzM7Mch0BmZmZm5tqHQJqZmZkZmYhAzczMzExXiUAAAAAAgBWKQDMzMzOz04pAZmZmZuaRi0CamZmZGVCMQM3MzMxMDo1AAAAAAIDMjUAzMzMzs4qOQGZmZmbmSI9A\",\"dtype\":\"float64\",\"shape\":[75]}}},\"id\":\"7e44b5eb-c06a-40be-afe4-d6b7c526f134\",\"type\":\"ColumnDataSource\"},{\"attributes\":{\"fill_alpha\":{\"value\":0.7},\"fill_color\":{\"value\":\"#984ea3\"},\"line_alpha\":{\"value\":0.7},\"line_color\":{\"value\":\"#984ea3\"},\"x\":{\"field\":\"x\"},\"y\":{\"field\":\"y\"}},\"id\":\"ebca98c4-fc2d-47ca-a70a-3b5d673f7bae\",\"type\":\"Square\"},{\"attributes\":{\"children\":[{\"id\":\"7d3092ca-6298-4c9c-a398-79eb3f5dfc9d\",\"type\":\"Row\"}]},\"id\":\"7a277777-aaba-4311-a87e-beb246365196\",\"type\":\"Column\"},{\"attributes\":{\"fill_alpha\":{\"value\":0.1},\"fill_color\":{\"value\":\"#1f77b4\"},\"line_alpha\":{\"value\":0.1},\"line_color\":{\"value\":\"#1f77b4\"},\"x\":{\"field\":\"x\"},\"y\":{\"field\":\"y\"}},\"id\":\"afc96f13-b3c6-46f3-8348-e1f63771547f\",\"type\":\"Square\"},{\"attributes\":{\"label\":{\"value\":\"CLIRAD `coolr_bands`\"},\"renderers\":[{\"id\":\"a193dd1a-e57c-4ba9-937f-e62212d81169\",\"type\":\"GlyphRenderer\"}]},\"id\":\"ad0b04b6-8bfc-43be-9ae1-a5547c08637c\",\"type\":\"LegendItem\"},{\"attributes\":{\"label\":{\"value\":\"CRD\"},\"renderers\":[{\"id\":\"a9c9e906-546f-416e-a00d-cfcb937b91af\",\"type\":\"GlyphRenderer\"},{\"id\":\"72258728-c456-4f44-b0d8-546f34376314\",\"type\":\"GlyphRenderer\"}]},\"id\":\"9274b169-810f-46b0-a112-87ea48e0c8b9\",\"type\":\"LegendItem\"},{\"attributes\":{\"data_source\":{\"id\":\"f4c9aa05-6ab9-458e-901d-f2f9ee21be52\",\"type\":\"ColumnDataSource\"},\"glyph\":{\"id\":\"61e64b2f-ea9f-41c3-8e2a-fdd967c8af3d\",\"type\":\"Line\"},\"hover_glyph\":null,\"muted_glyph\":null,\"nonselection_glyph\":{\"id\":\"fa816a3b-1201-479f-a4ad-eadf6f931b2d\",\"type\":\"Line\"},\"selection_glyph\":null,\"view\":{\"id\":\"fd04e6f1-5c5a-4518-b408-961f9fe41d6b\",\"type\":\"CDSView\"}},\"id\":\"47790d0a-4817-4c12-87db-fad9de8123af\",\"type\":\"GlyphRenderer\"},{\"attributes\":{\"active_drag\":\"auto\",\"active_inspect\":\"auto\",\"active_scroll\":\"auto\",\"active_tap\":\"auto\",\"tools\":[{\"id\":\"9b07e3ad-5865-4b82-9040-b5993fca3da0\",\"type\":\"PanTool\"},{\"id\":\"a526da32-9e90-42af-8267-e35f25a8b648\",\"type\":\"WheelZoomTool\"},{\"id\":\"fa773388-6d2c-4060-8ac5-13d171f6ceb9\",\"type\":\"BoxZoomTool\"},{\"id\":\"702b51a4-a46c-477d-bf2d-4febd4d786d0\",\"type\":\"SaveTool\"},{\"id\":\"381921a5-fda1-4f7d-ba46-2a66a20af371\",\"type\":\"ResetTool\"},{\"id\":\"97b5a1d2-1f7b-470c-97c2-cc38d2fece99\",\"type\":\"HelpTool\"}]},\"id\":\"59af73f3-11d5-494a-8325-018cc693c658\",\"type\":\"Toolbar\"},{\"attributes\":{\"callback\":null,\"column_names\":[\"x\",\"y\"],\"data\":{\"x\":{\"__ndarray__\":\"h2OGW3i90T+MN5IBKXy0Pz38IL5Yh6E/cz5R5tqokD9qZV0ED9GRv6lzJhxj76C/tltTnzKeo7+Ylvte73CkvyfpOaCnLKO/D6CGPyjHpL/zQJ48sAylvyR1p+CVyaa/70DpgC5eqL/MbJcDK/Gtv4B09j0GhbG/LAL036kesb90A+xAKZyqvx63Mr3RgqG/x7v44lgFkL9j9KW9HfZlPxweYoY9Ips/gVuGHoLBuD9TJhSmGDXNP9fDdns5gc4/ryjj59gkxT9QK5ZshmW9Py4Hf2EnLLI/R//BQ/UvoD8xeLIBsyeAPxypvjyr6Go/00TFn/RDdT837HNDd/NqP9Kkal6nVEQ/20XjPg/iSr/F2WBpqOZVvwxn+7PGcFq/QOZDiwUpXL8uAESzz0Bcv23mmSGRUmK/GqaI5XWRab8qIv76jD9tv6IEIN5R5Gu/yl5+hZZ+bL87bliZwFtuv8TrNPpjZm+/JTsRYHN3br/TEMoFqw1tvzNuwKCyhWu/CD23Ya+Pab8UVWxBsOBmv/ikwsGmGmK/D4WHk/H0Vb/oHrqfDnoXv5ebJCT2s1Y/wySLJTSjaT/j5CJg69B0PwfwcQHDTX0/ZHeK31CUgz/2o8dAtfmHPywx4y5BlIs/UOsIcBI0jj8YnUCZxRKQP2geGdsGFpE/9aaCh/LQkj8DMKX7JyKVP7DNieez1pg/QtAYgCIjnT8iqksh6wShP2JtDR4G8KI/Suas3eM9pD8vjds/gT2lP/vHOAKVSqY/MOKJwFuXpz+vrhf+ZHCpPzgyTeDverA/\",\"dtype\":\"float64\",\"shape\":[75]},\"y\":{\"__ndarray__\":\"S/O/Q+51ND/430zAtpRIP2vylNV0PVE/QxsjCssuWD/TR4Z78fVgP+inNsRxymc/OuuBfZWvcD/u3TFA02d3P2d3VoBnaoA/CD5h5MAGhz/1pA8HUCaQP+zrCsc9p5Y/Fb7LAKjGnz/nJ9c/SEmmPwBD+fzcQq8/FOZwv9nstT8Er5Y7M8G+P0c+r3jqkcU/yK72qKZBzj+tM989FzjVPxbgmr8yxN0/cOm5AXbg5D+5ctXAf0jtP5kqGJXUifQ/DsrqDELP/D8MCAhBojQEQDItVnmnVwxAiFXNvdHgE0BSSZ2AJuIbQAMJih9jjiNA5q4l5INuK0CPVN/5RT0zQHzxRXu8/DpAOZ7PgHrtQkAg8wGBzoxKQBSTN8DMeFJA2NmQf2ZqWEAAAAAAAFxeQEQX1LfMJmJAmpmZmZkfZUBmZmZmZhhoQLzoK0gzEWtAAAAAAAAKbkCiC+pbZoFwQAhyUMLM/XFA+I2vPTN6c0AQ5KCEmfZ0QAAAAAAAc3ZA8Btfe2bvd0AIclDCzGt5QPeNrz0z6HpAEOSghJlkfEAAAAAAAOF9QKML6ltmXX9ABTkoYeZsgED7xteeGSuBQAhyUMJM6YFAAAAAAICngkD4ja89s2WDQAU5KGHmI4RA+8bXnhnihEAIclDCTKCFQAAAAACAXoZA+I2vPbMch0AFOShh5tqHQPvG154ZmYhACHJQwkxXiUAAAAAAgBWKQPeNrz2z04pABTkoYeaRi0D7xteeGVCMQAlyUMJMDo1AAAAAAIDMjUD3ja89s4qOQGZmZmbmSI9A\",\"dtype\":\"float64\",\"shape\":[75]}}},\"id\":\"6e7d553c-8c45-4a52-8566-185404b2aa7b\",\"type\":\"ColumnDataSource\"},{\"attributes\":{\"source\":{\"id\":\"d67ffa95-ce27-44cd-bc4a-0fbda7bfafc1\",\"type\":\"ColumnDataSource\"}},\"id\":\"9eacc2be-857a-4d15-a0ef-9c59d9f2cb53\",\"type\":\"CDSView\"},{\"attributes\":{\"source\":{\"id\":\"6e7d553c-8c45-4a52-8566-185404b2aa7b\",\"type\":\"ColumnDataSource\"}},\"id\":\"5def9ce1-9f2f-4a53-8816-a81b1bf86862\",\"type\":\"CDSView\"},{\"attributes\":{\"line_alpha\":0.6,\"line_color\":\"#984ea3\",\"line_width\":3,\"x\":{\"field\":\"x\"},\"y\":{\"field\":\"y\"}},\"id\":\"61e64b2f-ea9f-41c3-8e2a-fdd967c8af3d\",\"type\":\"Line\"},{\"attributes\":{\"ticker\":null},\"id\":\"82de2472-125a-463d-9c89-6eab31d36f54\",\"type\":\"LogTickFormatter\"},{\"attributes\":{\"line_alpha\":0.1,\"line_color\":\"#1f77b4\",\"line_width\":3,\"x\":{\"field\":\"x\"},\"y\":{\"field\":\"y\"}},\"id\":\"fa816a3b-1201-479f-a4ad-eadf6f931b2d\",\"type\":\"Line\"},{\"attributes\":{\"toolbar\":{\"id\":\"c7fb7329-afdc-4ff5-adad-4b0c6d10d2f4\",\"type\":\"ProxyToolbar\"},\"toolbar_location\":\"above\"},\"id\":\"7dc32f9b-20be-4247-94ae-549ca7ff56a3\",\"type\":\"ToolbarBox\"},{\"attributes\":{\"axis_label\":\"cooling rate [K/day]\",\"formatter\":{\"id\":\"386bb990-6135-40ae-b75c-bcfd30bc76f6\",\"type\":\"BasicTickFormatter\"},\"plot\":{\"id\":\"2c5ebfb0-abee-4464-a137-97afc7d07557\",\"subtype\":\"Figure\",\"type\":\"Plot\"},\"ticker\":{\"id\":\"d5c9fa72-9da9-4913-a009-cfd881c53c09\",\"type\":\"BasicTicker\"}},\"id\":\"9bd0a620-bd4d-4ff9-8fbb-1e3153cfd87d\",\"type\":\"LinearAxis\"},{\"attributes\":{\"line_alpha\":0.6,\"line_color\":\"#e41a1c\",\"line_dash\":[6],\"line_width\":5,\"x\":{\"field\":\"x\"},\"y\":{\"field\":\"y\"}},\"id\":\"64540e66-2bb1-4033-80d8-e121e4aba34b\",\"type\":\"Line\"},{\"attributes\":{\"fill_alpha\":{\"value\":0.7},\"fill_color\":{\"value\":\"#4daf4a\"},\"line_alpha\":{\"value\":0.7},\"line_color\":{\"value\":\"#4daf4a\"},\"x\":{\"field\":\"x\"},\"y\":{\"field\":\"y\"}},\"id\":\"17ba90a9-e584-4ad4-bdeb-7ac17e3f9ec3\",\"type\":\"Circle\"},{\"attributes\":{\"source\":{\"id\":\"f4c9aa05-6ab9-458e-901d-f2f9ee21be52\",\"type\":\"ColumnDataSource\"}},\"id\":\"fd04e6f1-5c5a-4518-b408-961f9fe41d6b\",\"type\":\"CDSView\"},{\"attributes\":{\"tools\":[{\"id\":\"96b31dfe-8f3c-4aab-823a-e1dcbc0727c6\",\"type\":\"PanTool\"},{\"id\":\"2ccc489c-2c51-4f5d-ac87-d612d35dc530\",\"type\":\"WheelZoomTool\"},{\"id\":\"308db277-df28-4f2d-8e75-4305206f5b31\",\"type\":\"BoxZoomTool\"},{\"id\":\"4a4826c4-b08b-405b-b993-fc38b9c9c069\",\"type\":\"SaveTool\"},{\"id\":\"7befa865-9c0a-40ca-8f61-dfac0e6accbe\",\"type\":\"ResetTool\"},{\"id\":\"55f43113-79fe-421b-8383-eefa6ace1f77\",\"type\":\"HelpTool\"},{\"id\":\"9b07e3ad-5865-4b82-9040-b5993fca3da0\",\"type\":\"PanTool\"},{\"id\":\"a526da32-9e90-42af-8267-e35f25a8b648\",\"type\":\"WheelZoomTool\"},{\"id\":\"fa773388-6d2c-4060-8ac5-13d171f6ceb9\",\"type\":\"BoxZoomTool\"},{\"id\":\"702b51a4-a46c-477d-bf2d-4febd4d786d0\",\"type\":\"SaveTool\"},{\"id\":\"381921a5-fda1-4f7d-ba46-2a66a20af371\",\"type\":\"ResetTool\"},{\"id\":\"97b5a1d2-1f7b-470c-97c2-cc38d2fece99\",\"type\":\"HelpTool\"}]},\"id\":\"c7fb7329-afdc-4ff5-adad-4b0c6d10d2f4\",\"type\":\"ProxyToolbar\"},{\"attributes\":{\"label\":{\"value\":\"WGT igg=10 wgt_flux=2\"},\"renderers\":[{\"id\":\"e964127f-d0c7-453f-bb0f-a2c88c3e66d1\",\"type\":\"GlyphRenderer\"},{\"id\":\"47790d0a-4817-4c12-87db-fad9de8123af\",\"type\":\"GlyphRenderer\"}]},\"id\":\"951a2011-c6fa-4478-b700-1cdb840c6a30\",\"type\":\"LegendItem\"},{\"attributes\":{\"children\":[{\"id\":\"7dc32f9b-20be-4247-94ae-549ca7ff56a3\",\"type\":\"ToolbarBox\"},{\"id\":\"7a277777-aaba-4311-a87e-beb246365196\",\"type\":\"Column\"}]},\"id\":\"33a2796c-fe69-4cbf-90b1-2207c25579a3\",\"type\":\"Column\"},{\"attributes\":{\"callback\":null,\"column_names\":[\"x\",\"y\"],\"data\":{\"x\":{\"__ndarray__\":\"95vDlMzawD9U4j5aqjeEPwX9/VH4zXg/V7xLgF7TUz+eyDMyP2xuv5X1Dd/R5YC/mq0aVoHyiL8d9a9jXnKQv6X1SmixZZS/M/VutxqVmL9z1cB/iEedvxYswSHVKaG/CiWgfT1DpL+TzBWeynupv8tZCg5Qlq+/X449zHXSsL+WoTFgt3Kvv2s2M1OKuKy/klAy7Sbupr8MhzErDHiWv4gaO5eYHZY/nQvIAzaMvj8pkq8EUmLRP6lzf9SqRtE/DDl885dtwz9slSt/aC21P5WExVrcfKc/+XQrOkg+mT+BVgUPeAWLP87LOHjsiHs/X5Q1bex5Yj++1f8rUVZEv8/Z2OazNVO/4FGUK845SL/T0lPt6IVLv6WgjE5ls1S/DAfyj6bRV7+lx9n2qapYv+wwCYNpEmC/QHlWFcxmZr9NUN15dsJpv6b8cg4oIGi/Kkf/DvdfZ7+kCvK3JYBnv614dRbOEWi/PdxOlvMwaL8BheMCoxVnvxlfi0jarmS/3PgGawvrYL8V0tNko4NXv4gHG4CTlUW/vCeC+vsiLD/jLqhSH39TPzBZHJsLxmI/JSlMQwQIbT8bFmBtvml0P6lvInykT3s/NhwUYUMvgj9zDyU0K9aGP3WO/B8ydYs/XQPKwrEQkD8HH1fe5nGSP69QPhnw7ZQ/Ud1Apz6Vlz9t4S0bk4GaPzB86ZIW050/mlGEuJi9oD+a3C9su3OiPy6GehOmnKM/PPOJdPMYpD+sX3RvAUWkP5BJz78gk6Q/UNFMiJ1PpT+ArIkABemmP748iJD/ca4/\",\"dtype\":\"float64\",\"shape\":[75]},\"y\":{\"__ndarray__\":\"GhExyth1ND/Sv8nbtpRIP2vylNV0PVE/aTum7souWD/At0SJ8fVgPw3Iuahxymc/MSNhhJWvcD/bTfBN02d3P2zb5nxnaoA/CD5h5MAGhz8NmeH1TyaQP+zrCsc9p5Y/LbKd76fGnz/bLW5ISEmmPww9YvTcQq8/JV2OstnstT8Er5Y7M8G+P0c+r3jqkcU/5h99k6ZBzj88bCIzFzjVP4enV8oyxN0//yH99nXg5D8qOpLLf0jtP5kqGJXUifQ/c9cS8kHP/D+/DpwzojQEQIEmwoanVwxA4lgXt9HgE0BSSZ2AJuIbQAMJih9jjiNA5q4l5INuK0AwTKYKRj0zQNv5fmq8/DpAaCJseHrtQkB/+zpwzoxKQM3MzMzMeFJAZmZmZmZqWEAAAAAAAFxeQM3MzMzMJmJAmpmZmZkfZUBmZmZmZhhoQDMzMzMzEWtAAAAAAAAKbkBmZmZmZoFwQM3MzMzM/XFAMzMzMzN6c0CamZmZmfZ0QAAAAAAAc3ZAZmZmZmbvd0DNzMzMzGt5QDMzMzMz6HpAmpmZmZlkfEAAAAAAAOF9QGZmZmZmXX9AZmZmZuZsgECamZmZGSuBQM3MzMxM6YFAAAAAAICngkAzMzMzs2WDQGZmZmbmI4RAmpmZmRnihEDNzMzMTKCFQAAAAACAXoZAMzMzM7Mch0BmZmZm5tqHQJqZmZkZmYhAzczMzExXiUAAAAAAgBWKQDMzMzOz04pAZmZmZuaRi0CamZmZGVCMQM3MzMxMDo1AAAAAAIDMjUAzMzMzs4qOQGZmZmbmSI9A\",\"dtype\":\"float64\",\"shape\":[75]}}},\"id\":\"2e3ae30f-54e3-4956-9fc2-a99b3f0e9c14\",\"type\":\"ColumnDataSource\"},{\"attributes\":{},\"id\":\"a7fb838f-1213-4edd-a162-2d0b41e2f89f\",\"type\":\"LinearScale\"},{\"attributes\":{\"below\":[{\"id\":\"9bd0a620-bd4d-4ff9-8fbb-1e3153cfd87d\",\"type\":\"LinearAxis\"}],\"left\":[{\"id\":\"a1ce9444-e671-4b1b-a13c-7498f5043002\",\"type\":\"LogAxis\"}],\"plot_height\":500,\"plot_width\":560,\"renderers\":[{\"id\":\"9bd0a620-bd4d-4ff9-8fbb-1e3153cfd87d\",\"type\":\"LinearAxis\"},{\"id\":\"2a1ba6b0-2d22-415a-89f2-6a4d968465a2\",\"type\":\"Grid\"},{\"id\":\"a1ce9444-e671-4b1b-a13c-7498f5043002\",\"type\":\"LogAxis\"},{\"id\":\"05aa07c2-7bc9-4578-b724-f7be473900f6\",\"type\":\"Grid\"},{\"id\":\"70d09238-08f8-49c3-836c-b1070c3d79a4\",\"type\":\"BoxAnnotation\"},{\"id\":\"a193dd1a-e57c-4ba9-937f-e62212d81169\",\"type\":\"GlyphRenderer\"},{\"id\":\"a9c9e906-546f-416e-a00d-cfcb937b91af\",\"type\":\"GlyphRenderer\"},{\"id\":\"72258728-c456-4f44-b0d8-546f34376314\",\"type\":\"GlyphRenderer\"},{\"id\":\"e964127f-d0c7-453f-bb0f-a2c88c3e66d1\",\"type\":\"GlyphRenderer\"},{\"id\":\"47790d0a-4817-4c12-87db-fad9de8123af\",\"type\":\"GlyphRenderer\"},{\"id\":\"29bbde6b-1613-42d9-9e78-4703d1c43746\",\"type\":\"Legend\"}],\"right\":[{\"id\":\"29bbde6b-1613-42d9-9e78-4703d1c43746\",\"type\":\"Legend\"}],\"title\":{\"id\":\"1a7147a2-6c38-4a71-b3e1-9fa4ba3d8395\",\"type\":\"Title\"},\"toolbar\":{\"id\":\"59af73f3-11d5-494a-8325-018cc693c658\",\"type\":\"Toolbar\"},\"toolbar_location\":null,\"x_range\":{\"id\":\"320e8b7d-0ed2-486d-a984-0431c3a7f50e\",\"type\":\"Range1d\"},\"x_scale\":{\"id\":\"a7fb838f-1213-4edd-a162-2d0b41e2f89f\",\"type\":\"LinearScale\"},\"y_range\":{\"id\":\"51096b9e-7b61-413b-96c1-66d27725a2e1\",\"type\":\"Range1d\"},\"y_scale\":{\"id\":\"5b07997a-643e-476d-a76a-37036586a1ec\",\"type\":\"LogScale\"}},\"id\":\"2c5ebfb0-abee-4464-a137-97afc7d07557\",\"subtype\":\"Figure\",\"type\":\"Plot\"},{\"attributes\":{\"line_alpha\":0.1,\"line_color\":\"#1f77b4\",\"line_dash\":[6],\"line_width\":5,\"x\":{\"field\":\"x\"},\"y\":{\"field\":\"y\"}},\"id\":\"6a1ec01b-ae71-425d-b60c-747fc527aee0\",\"type\":\"Line\"},{\"attributes\":{\"plot\":{\"id\":\"2c5ebfb0-abee-4464-a137-97afc7d07557\",\"subtype\":\"Figure\",\"type\":\"Plot\"},\"ticker\":{\"id\":\"d5c9fa72-9da9-4913-a009-cfd881c53c09\",\"type\":\"BasicTicker\"}},\"id\":\"2a1ba6b0-2d22-415a-89f2-6a4d968465a2\",\"type\":\"Grid\"},{\"attributes\":{},\"id\":\"d5c9fa72-9da9-4913-a009-cfd881c53c09\",\"type\":\"BasicTicker\"},{\"attributes\":{},\"id\":\"386bb990-6135-40ae-b75c-bcfd30bc76f6\",\"type\":\"BasicTickFormatter\"},{\"attributes\":{},\"id\":\"5b07997a-643e-476d-a76a-37036586a1ec\",\"type\":\"LogScale\"},{\"attributes\":{\"callback\":null,\"end\":0.27506276199999996,\"start\":-0.07548696199999999},\"id\":\"320e8b7d-0ed2-486d-a984-0431c3a7f50e\",\"type\":\"Range1d\"},{\"attributes\":{\"callback\":null,\"column_names\":[\"x\",\"y\"],\"data\":{\"x\":{\"__ndarray__\":\"95vDlMzawD9U4j5aqjeEPwX9/VH4zXg/V7xLgF7TUz+eyDMyP2xuv5X1Dd/R5YC/mq0aVoHyiL8d9a9jXnKQv6X1SmixZZS/M/VutxqVmL9z1cB/iEedvxYswSHVKaG/CiWgfT1DpL+TzBWeynupv8tZCg5Qlq+/X449zHXSsL+WoTFgt3Kvv2s2M1OKuKy/klAy7Sbupr8MhzErDHiWv4gaO5eYHZY/nQvIAzaMvj8pkq8EUmLRP6lzf9SqRtE/DDl885dtwz9slSt/aC21P5WExVrcfKc/+XQrOkg+mT+BVgUPeAWLP87LOHjsiHs/X5Q1bex5Yj++1f8rUVZEv8/Z2OazNVO/4FGUK845SL/T0lPt6IVLv6WgjE5ls1S/DAfyj6bRV7+lx9n2qapYv+wwCYNpEmC/QHlWFcxmZr9NUN15dsJpv6b8cg4oIGi/Kkf/DvdfZ7+kCvK3JYBnv614dRbOEWi/PdxOlvMwaL8BheMCoxVnvxlfi0jarmS/3PgGawvrYL8V0tNko4NXv4gHG4CTlUW/vCeC+vsiLD/jLqhSH39TPzBZHJsLxmI/JSlMQwQIbT8bFmBtvml0P6lvInykT3s/NhwUYUMvgj9zDyU0K9aGP3WO/B8ydYs/XQPKwrEQkD8HH1fe5nGSP69QPhnw7ZQ/Ud1Apz6Vlz9t4S0bk4GaPzB86ZIW050/mlGEuJi9oD+a3C9su3OiPy6GehOmnKM/PPOJdPMYpD+sX3RvAUWkP5BJz78gk6Q/UNFMiJ1PpT+ArIkABemmP748iJD/ca4/\",\"dtype\":\"float64\",\"shape\":[75]},\"y\":{\"__ndarray__\":\"GhExyth1ND/Sv8nbtpRIP2vylNV0PVE/aTum7souWD/At0SJ8fVgPw3Iuahxymc/MSNhhJWvcD/bTfBN02d3P2zb5nxnaoA/CD5h5MAGhz8NmeH1TyaQP+zrCsc9p5Y/LbKd76fGnz/bLW5ISEmmPww9YvTcQq8/JV2OstnstT8Er5Y7M8G+P0c+r3jqkcU/5h99k6ZBzj88bCIzFzjVP4enV8oyxN0//yH99nXg5D8qOpLLf0jtP5kqGJXUifQ/c9cS8kHP/D+/DpwzojQEQIEmwoanVwxA4lgXt9HgE0BSSZ2AJuIbQAMJih9jjiNA5q4l5INuK0AwTKYKRj0zQNv5fmq8/DpAaCJseHrtQkB/+zpwzoxKQM3MzMzMeFJAZmZmZmZqWEAAAAAAAFxeQM3MzMzMJmJAmpmZmZkfZUBmZmZmZhhoQDMzMzMzEWtAAAAAAAAKbkBmZmZmZoFwQM3MzMzM/XFAMzMzMzN6c0CamZmZmfZ0QAAAAAAAc3ZAZmZmZmbvd0DNzMzMzGt5QDMzMzMz6HpAmpmZmZlkfEAAAAAAAOF9QGZmZmZmXX9AZmZmZuZsgECamZmZGSuBQM3MzMxM6YFAAAAAAICngkAzMzMzs2WDQGZmZmbmI4RAmpmZmRnihEDNzMzMTKCFQAAAAACAXoZAMzMzM7Mch0BmZmZm5tqHQJqZmZkZmYhAzczMzExXiUAAAAAAgBWKQDMzMzOz04pAZmZmZuaRi0CamZmZGVCMQM3MzMxMDo1AAAAAAIDMjUAzMzMzs4qOQGZmZmbmSI9A\",\"dtype\":\"float64\",\"shape\":[75]}}},\"id\":\"51a9d720-4412-4896-8df1-8904a7708145\",\"type\":\"ColumnDataSource\"},{\"attributes\":{\"data_source\":{\"id\":\"51a9d720-4412-4896-8df1-8904a7708145\",\"type\":\"ColumnDataSource\"},\"glyph\":{\"id\":\"17ba90a9-e584-4ad4-bdeb-7ac17e3f9ec3\",\"type\":\"Circle\"},\"hover_glyph\":null,\"muted_glyph\":null,\"nonselection_glyph\":{\"id\":\"7c6b8ce8-97bc-47cc-984d-4183591691fb\",\"type\":\"Circle\"},\"selection_glyph\":null,\"view\":{\"id\":\"4b04163c-c7c9-49ab-97e0-4756c69a32b7\",\"type\":\"CDSView\"}},\"id\":\"a9c9e906-546f-416e-a00d-cfcb937b91af\",\"type\":\"GlyphRenderer\"},{\"attributes\":{\"callback\":null,\"column_names\":[\"x\",\"y\"],\"data\":{\"x\":{\"__ndarray__\":\"D4285jTP0T+JI6dgoRe1P1HIVBWoMqc/QDDQgD3QjT9jl4IXeEyHv8kQqWReGZy/ACZ7FEZkor8mKxJV8MKjv9ay2M1cRaS/e9GOg2Gsor8rfRECLNGnv+7N4e1QM6e/zhkPvkk2qb/I4PY+NHevvy8hidgMYrK/G5arxOFxsr98zurYmSatv0EyFcn016S/NzZKfaohl7+N9AVCzr9LvzglwLO0iJ0/z4cE33aZuj+Vqh9hOT7OPxjGJ650CM8/2OPwD3yIxD9JgP2EcT+7P3CeLq6YYbA/QQ5wXwyHnz+c86zUTvWFP8wlUUe5z3A/CWoTR+D/bj8TEm7UOAtjPwccYC2cSkc/iQr8uY2zNb/8/h2u7ZZRvySy6MVkxFm/zUBqtbX1W798qkaU1h1bv4b1sUg0/WG/yNz06L9nab8UqVk1Qh5tv7vdnUWHcWu/cqJYzNo2bL+tKReBbVhtvyXdJyuscm6/RFSGzV4/br+xoAI5B5xsv1leK30+zGq/jjw/bZWeaL/W9ZqOHzJlvzrULQL1u1+/0z4zT4mHUr/NUwxMfcEZP4qSh/uMb1Y/TrHUPaXYZz/zGv1gxxxzPz3FZW0353o/4P510QRIgj/gSzdCbNSGP40RVlEmr4o/ZjVxM1sAjj8PWPWWy3aQPxrOn7BwBJI/vnUcRA3Ukz/WVW93UDWWP2nlQgsnbpk/1Tvu8chznT+ZC+BWD9KgPyI4M5xgb6I/mhcEr8Z0oz80siks+DqkP6qCmB4pL6U/JD77uqFjpj9hjWKiCWCoP181j/ZRI7A/\",\"dtype\":\"float64\",\"shape\":[75]},\"y\":{\"__ndarray__\":\"GhExyth1ND/Sv8nbtpRIP2vylNV0PVE/aTum7souWD/At0SJ8fVgPw3Iuahxymc/MSNhhJWvcD/bTfBN02d3P2zb5nxnaoA/CD5h5MAGhz8NmeH1TyaQP+zrCsc9p5Y/LbKd76fGnz/bLW5ISEmmPww9YvTcQq8/JV2OstnstT8Er5Y7M8G+P0c+r3jqkcU/5h99k6ZBzj88bCIzFzjVP4enV8oyxN0//yH99nXg5D8qOpLLf0jtP5kqGJXUifQ/c9cS8kHP/D+/DpwzojQEQIEmwoanVwxA4lgXt9HgE0BSSZ2AJuIbQAMJih9jjiNA5q4l5INuK0AwTKYKRj0zQNv5fmq8/DpAaCJseHrtQkB/+zpwzoxKQM3MzMzMeFJAZmZmZmZqWEAAAAAAAFxeQM3MzMzMJmJAmpmZmZkfZUBmZmZmZhhoQDMzMzMzEWtAAAAAAAAKbkBmZmZmZoFwQM3MzMzM/XFAMzMzMzN6c0CamZmZmfZ0QAAAAAAAc3ZAZmZmZmbvd0DNzMzMzGt5QDMzMzMz6HpAmpmZmZlkfEAAAAAAAOF9QGZmZmZmXX9AZmZmZuZsgECamZmZGSuBQM3MzMxM6YFAAAAAAICngkAzMzMzs2WDQGZmZmbmI4RAmpmZmRnihEDNzMzMTKCFQAAAAACAXoZAMzMzM7Mch0BmZmZm5tqHQJqZmZkZmYhAzczMzExXiUAAAAAAgBWKQDMzMzOz04pAZmZmZuaRi0CamZmZGVCMQM3MzMxMDo1AAAAAAIDMjUAzMzMzs4qOQGZmZmbmSI9A\",\"dtype\":\"float64\",\"shape\":[75]}}},\"id\":\"de38fd19-db08-4a9f-875a-2465b641abd8\",\"type\":\"ColumnDataSource\"},{\"attributes\":{\"fill_alpha\":{\"value\":0.1},\"fill_color\":{\"value\":\"#1f77b4\"},\"line_alpha\":{\"value\":0.1},\"line_color\":{\"value\":\"#1f77b4\"},\"x\":{\"field\":\"x\"},\"y\":{\"field\":\"y\"}},\"id\":\"7c6b8ce8-97bc-47cc-984d-4183591691fb\",\"type\":\"Circle\"},{\"attributes\":{\"data_source\":{\"id\":\"de38fd19-db08-4a9f-875a-2465b641abd8\",\"type\":\"ColumnDataSource\"},\"glyph\":{\"id\":\"9181e92f-dcdc-472c-9127-3229a3d8eaa6\",\"type\":\"Line\"},\"hover_glyph\":null,\"muted_glyph\":null,\"nonselection_glyph\":{\"id\":\"dce99693-3207-4178-9ba9-111581948061\",\"type\":\"Line\"},\"selection_glyph\":null,\"view\":{\"id\":\"39e6f192-20fe-464d-9b99-9362632c300b\",\"type\":\"CDSView\"}},\"id\":\"e0eb594f-30cd-433c-93d5-f2477db147b4\",\"type\":\"GlyphRenderer\"},{\"attributes\":{},\"id\":\"a526da32-9e90-42af-8267-e35f25a8b648\",\"type\":\"WheelZoomTool\"},{\"attributes\":{},\"id\":\"381921a5-fda1-4f7d-ba46-2a66a20af371\",\"type\":\"ResetTool\"},{\"attributes\":{},\"id\":\"9b07e3ad-5865-4b82-9040-b5993fca3da0\",\"type\":\"PanTool\"},{\"attributes\":{\"items\":[{\"id\":\"ad0b04b6-8bfc-43be-9ae1-a5547c08637c\",\"type\":\"LegendItem\"},{\"id\":\"9274b169-810f-46b0-a112-87ea48e0c8b9\",\"type\":\"LegendItem\"},{\"id\":\"951a2011-c6fa-4478-b700-1cdb840c6a30\",\"type\":\"LegendItem\"}],\"label_text_font_size\":{\"value\":\"8pt\"},\"location\":[10,-30],\"plot\":{\"id\":\"2c5ebfb0-abee-4464-a137-97afc7d07557\",\"subtype\":\"Figure\",\"type\":\"Plot\"}},\"id\":\"29bbde6b-1613-42d9-9e78-4703d1c43746\",\"type\":\"Legend\"},{\"attributes\":{\"bottom_units\":\"screen\",\"fill_alpha\":{\"value\":0.5},\"fill_color\":{\"value\":\"lightgrey\"},\"left_units\":\"screen\",\"level\":\"overlay\",\"line_alpha\":{\"value\":1.0},\"line_color\":{\"value\":\"black\"},\"line_dash\":[4,4],\"line_width\":{\"value\":2},\"plot\":null,\"render_mode\":\"css\",\"right_units\":\"screen\",\"top_units\":\"screen\"},\"id\":\"70d09238-08f8-49c3-836c-b1070c3d79a4\",\"type\":\"BoxAnnotation\"},{\"attributes\":{\"children\":[{\"id\":\"ea4a964e-8d75-4f52-abdb-91b60f616a9f\",\"subtype\":\"Figure\",\"type\":\"Plot\"},{\"id\":\"2c5ebfb0-abee-4464-a137-97afc7d07557\",\"subtype\":\"Figure\",\"type\":\"Plot\"}]},\"id\":\"7d3092ca-6298-4c9c-a398-79eb3f5dfc9d\",\"type\":\"Row\"},{\"attributes\":{\"callback\":null,\"end\":0.06505795873300001,\"start\":-0.004515092033},\"id\":\"8756890b-d207-4c44-ab3b-b9d3520f26d2\",\"type\":\"Range1d\"},{\"attributes\":{\"source\":{\"id\":\"2e3ae30f-54e3-4956-9fc2-a99b3f0e9c14\",\"type\":\"ColumnDataSource\"}},\"id\":\"5b7afad6-8ee4-4736-919c-c6b517ca20ab\",\"type\":\"CDSView\"},{\"attributes\":{\"plot\":null,\"text\":\"Linear pressure scale\"},\"id\":\"e582c52e-3000-44dc-a14a-4bb48a79254f\",\"type\":\"Title\"},{\"attributes\":{\"source\":{\"id\":\"45efece7-0ab4-4e0c-b30e-556903522343\",\"type\":\"ColumnDataSource\"}},\"id\":\"ea9fee12-73e0-4f9f-b1a7-e88525a8f78f\",\"type\":\"CDSView\"},{\"attributes\":{\"axis_label\":\"pressure [mb]\",\"formatter\":{\"id\":\"82de2472-125a-463d-9c89-6eab31d36f54\",\"type\":\"LogTickFormatter\"},\"plot\":{\"id\":\"2c5ebfb0-abee-4464-a137-97afc7d07557\",\"subtype\":\"Figure\",\"type\":\"Plot\"},\"ticker\":{\"id\":\"c66fce8c-ec91-4270-afb4-3b361bc39b3b\",\"type\":\"LogTicker\"}},\"id\":\"a1ce9444-e671-4b1b-a13c-7498f5043002\",\"type\":\"LogAxis\"},{\"attributes\":{\"line_color\":\"#4daf4a\",\"line_width\":1.5,\"x\":{\"field\":\"x\"},\"y\":{\"field\":\"y\"}},\"id\":\"af26d798-539a-4f79-bba4-99d1c8ea8fe7\",\"type\":\"Line\"},{\"attributes\":{\"data_source\":{\"id\":\"d3e10057-34f2-43cf-816f-8f25093140a0\",\"type\":\"ColumnDataSource\"},\"glyph\":{\"id\":\"ea2cdaf4-a656-40c6-a489-a06f0a930afd\",\"type\":\"Line\"},\"hover_glyph\":null,\"muted_glyph\":null,\"nonselection_glyph\":{\"id\":\"6b767b4b-2329-433c-a648-99f670583282\",\"type\":\"Line\"},\"selection_glyph\":null,\"view\":{\"id\":\"2fd1ca13-a238-4c6c-a98d-7f9fcda60e4a\",\"type\":\"CDSView\"}},\"id\":\"78a33c80-6cd7-4a51-b924-c7ac14ea776a\",\"type\":\"GlyphRenderer\"},{\"attributes\":{\"data_source\":{\"id\":\"2e3ae30f-54e3-4956-9fc2-a99b3f0e9c14\",\"type\":\"ColumnDataSource\"},\"glyph\":{\"id\":\"0c3e8dbf-f40c-4a45-a9d2-058fb5c58765\",\"type\":\"Circle\"},\"hover_glyph\":null,\"muted_glyph\":null,\"nonselection_glyph\":{\"id\":\"1daa8bb3-0003-4adf-ab6d-ca2e5889b281\",\"type\":\"Circle\"},\"selection_glyph\":null,\"view\":{\"id\":\"5b7afad6-8ee4-4736-919c-c6b517ca20ab\",\"type\":\"CDSView\"}},\"id\":\"db6c4045-d18b-4186-98a8-61573e1d300e\",\"type\":\"GlyphRenderer\"},{\"attributes\":{\"overlay\":{\"id\":\"e9596b2a-880a-4736-a49f-a3ea0f640e24\",\"type\":\"BoxAnnotation\"}},\"id\":\"308db277-df28-4f2d-8e75-4305206f5b31\",\"type\":\"BoxZoomTool\"},{\"attributes\":{\"below\":[{\"id\":\"0b13c0c5-1217-4806-ad00-eb9fd71cddf4\",\"type\":\"LinearAxis\"}],\"left\":[{\"id\":\"1ccfe061-784d-4adc-8047-1f22951047d3\",\"type\":\"LinearAxis\"}],\"plot_height\":500,\"plot_width\":400,\"renderers\":[{\"id\":\"0b13c0c5-1217-4806-ad00-eb9fd71cddf4\",\"type\":\"LinearAxis\"},{\"id\":\"84b92047-0aa6-48f6-9f32-706bd6c28ad2\",\"type\":\"Grid\"},{\"id\":\"1ccfe061-784d-4adc-8047-1f22951047d3\",\"type\":\"LinearAxis\"},{\"id\":\"af38dace-34d6-4e8c-9ed8-07e6b4cf5d34\",\"type\":\"Grid\"},{\"id\":\"e9596b2a-880a-4736-a49f-a3ea0f640e24\",\"type\":\"BoxAnnotation\"},{\"id\":\"78a33c80-6cd7-4a51-b924-c7ac14ea776a\",\"type\":\"GlyphRenderer\"},{\"id\":\"db6c4045-d18b-4186-98a8-61573e1d300e\",\"type\":\"GlyphRenderer\"},{\"id\":\"470ef495-8bf8-459e-8ad7-8176b9a6dd01\",\"type\":\"GlyphRenderer\"},{\"id\":\"7cf97ba3-075f-4627-83cb-add25fd77b58\",\"type\":\"GlyphRenderer\"},{\"id\":\"e0eb594f-30cd-433c-93d5-f2477db147b4\",\"type\":\"GlyphRenderer\"}],\"title\":{\"id\":\"e582c52e-3000-44dc-a14a-4bb48a79254f\",\"type\":\"Title\"},\"toolbar\":{\"id\":\"97e9020a-d59a-43c4-a6e5-26c87b639f03\",\"type\":\"Toolbar\"},\"toolbar_location\":null,\"x_range\":{\"id\":\"8756890b-d207-4c44-ab3b-b9d3520f26d2\",\"type\":\"Range1d\"},\"x_scale\":{\"id\":\"08bb1b99-bcfb-416d-858b-61ca7efbee83\",\"type\":\"LinearScale\"},\"y_range\":{\"id\":\"f69a1688-b2cc-499b-97e9-6d200a4cd49b\",\"type\":\"Range1d\"},\"y_scale\":{\"id\":\"652f683f-0764-49bd-a259-8b8de3e569c4\",\"type\":\"LinearScale\"}},\"id\":\"ea4a964e-8d75-4f52-abdb-91b60f616a9f\",\"subtype\":\"Figure\",\"type\":\"Plot\"},{\"attributes\":{},\"id\":\"2fa57e2f-6458-426d-8835-693bdac4a414\",\"type\":\"BasicTicker\"},{\"attributes\":{},\"id\":\"7befa865-9c0a-40ca-8f61-dfac0e6accbe\",\"type\":\"ResetTool\"},{\"attributes\":{\"axis_label\":\"cooling rate [K/day]\",\"formatter\":{\"id\":\"976cd865-4c8b-4a61-ac2d-f54151e7ce05\",\"type\":\"BasicTickFormatter\"},\"plot\":{\"id\":\"ea4a964e-8d75-4f52-abdb-91b60f616a9f\",\"subtype\":\"Figure\",\"type\":\"Plot\"},\"ticker\":{\"id\":\"2fa57e2f-6458-426d-8835-693bdac4a414\",\"type\":\"BasicTicker\"}},\"id\":\"0b13c0c5-1217-4806-ad00-eb9fd71cddf4\",\"type\":\"LinearAxis\"},{\"attributes\":{\"fill_alpha\":{\"value\":0.1},\"fill_color\":{\"value\":\"#1f77b4\"},\"line_alpha\":{\"value\":0.1},\"line_color\":{\"value\":\"#1f77b4\"},\"x\":{\"field\":\"x\"},\"y\":{\"field\":\"y\"}},\"id\":\"5f4c3301-2171-434f-ae0e-0bb0260fc919\",\"type\":\"Square\"},{\"attributes\":{},\"id\":\"08bb1b99-bcfb-416d-858b-61ca7efbee83\",\"type\":\"LinearScale\"},{\"attributes\":{\"callback\":null,\"column_names\":[\"x\",\"y\"],\"data\":{\"x\":{\"__ndarray__\":\"95vDlMzawD9U4j5aqjeEPwX9/VH4zXg/V7xLgF7TUz+eyDMyP2xuv5X1Dd/R5YC/mq0aVoHyiL8d9a9jXnKQv6X1SmixZZS/M/VutxqVmL9z1cB/iEedvxYswSHVKaG/CiWgfT1DpL+TzBWeynupv8tZCg5Qlq+/X449zHXSsL+WoTFgt3Kvv2s2M1OKuKy/klAy7Sbupr8MhzErDHiWv4gaO5eYHZY/nQvIAzaMvj8pkq8EUmLRP6lzf9SqRtE/DDl885dtwz9slSt/aC21P5WExVrcfKc/+XQrOkg+mT+BVgUPeAWLP87LOHjsiHs/X5Q1bex5Yj++1f8rUVZEv8/Z2OazNVO/4FGUK845SL/T0lPt6IVLv6WgjE5ls1S/DAfyj6bRV7+lx9n2qapYv+wwCYNpEmC/QHlWFcxmZr9NUN15dsJpv6b8cg4oIGi/Kkf/DvdfZ7+kCvK3JYBnv614dRbOEWi/PdxOlvMwaL8BheMCoxVnvxlfi0jarmS/3PgGawvrYL8V0tNko4NXv4gHG4CTlUW/vCeC+vsiLD/jLqhSH39TPzBZHJsLxmI/JSlMQwQIbT8bFmBtvml0P6lvInykT3s/NhwUYUMvgj9zDyU0K9aGP3WO/B8ydYs/XQPKwrEQkD8HH1fe5nGSP69QPhnw7ZQ/Ud1Apz6Vlz9t4S0bk4GaPzB86ZIW050/mlGEuJi9oD+a3C9su3OiPy6GehOmnKM/PPOJdPMYpD+sX3RvAUWkP5BJz78gk6Q/UNFMiJ1PpT+ArIkABemmP748iJD/ca4/\",\"dtype\":\"float64\",\"shape\":[75]},\"y\":{\"__ndarray__\":\"GhExyth1ND/Sv8nbtpRIP2vylNV0PVE/aTum7souWD/At0SJ8fVgPw3Iuahxymc/MSNhhJWvcD/bTfBN02d3P2zb5nxnaoA/CD5h5MAGhz8NmeH1TyaQP+zrCsc9p5Y/LbKd76fGnz/bLW5ISEmmPww9YvTcQq8/JV2OstnstT8Er5Y7M8G+P0c+r3jqkcU/5h99k6ZBzj88bCIzFzjVP4enV8oyxN0//yH99nXg5D8qOpLLf0jtP5kqGJXUifQ/c9cS8kHP/D+/DpwzojQEQIEmwoanVwxA4lgXt9HgE0BSSZ2AJuIbQAMJih9jjiNA5q4l5INuK0AwTKYKRj0zQNv5fmq8/DpAaCJseHrtQkB/+zpwzoxKQM3MzMzMeFJAZmZmZmZqWEAAAAAAAFxeQM3MzMzMJmJAmpmZmZkfZUBmZmZmZhhoQDMzMzMzEWtAAAAAAAAKbkBmZmZmZoFwQM3MzMzM/XFAMzMzMzN6c0CamZmZmfZ0QAAAAAAAc3ZAZmZmZmbvd0DNzMzMzGt5QDMzMzMz6HpAmpmZmZlkfEAAAAAAAOF9QGZmZmZmXX9AZmZmZuZsgECamZmZGSuBQM3MzMxM6YFAAAAAAICngkAzMzMzs2WDQGZmZmbmI4RAmpmZmRnihEDNzMzMTKCFQAAAAACAXoZAMzMzM7Mch0BmZmZm5tqHQJqZmZkZmYhAzczMzExXiUAAAAAAgBWKQDMzMzOz04pAZmZmZuaRi0CamZmZGVCMQM3MzMxMDo1AAAAAAIDMjUAzMzMzs4qOQGZmZmbmSI9A\",\"dtype\":\"float64\",\"shape\":[75]}}},\"id\":\"45efece7-0ab4-4e0c-b30e-556903522343\",\"type\":\"ColumnDataSource\"},{\"attributes\":{},\"id\":\"4a4826c4-b08b-405b-b993-fc38b9c9c069\",\"type\":\"SaveTool\"},{\"attributes\":{},\"id\":\"976cd865-4c8b-4a61-ac2d-f54151e7ce05\",\"type\":\"BasicTickFormatter\"},{\"attributes\":{\"callback\":null,\"end\":0.01,\"start\":1020},\"id\":\"51096b9e-7b61-413b-96c1-66d27725a2e1\",\"type\":\"Range1d\"},{\"attributes\":{\"num_minor_ticks\":10},\"id\":\"c66fce8c-ec91-4270-afb4-3b361bc39b3b\",\"type\":\"LogTicker\"},{\"attributes\":{\"source\":{\"id\":\"d3e10057-34f2-43cf-816f-8f25093140a0\",\"type\":\"ColumnDataSource\"}},\"id\":\"2fd1ca13-a238-4c6c-a98d-7f9fcda60e4a\",\"type\":\"CDSView\"},{\"attributes\":{\"callback\":null,\"column_names\":[\"x\",\"y\"],\"data\":{\"x\":{\"__ndarray__\":\"D4285jTP0T+JI6dgoRe1P1HIVBWoMqc/QDDQgD3QjT9jl4IXeEyHv8kQqWReGZy/ACZ7FEZkor8mKxJV8MKjv9ay2M1cRaS/e9GOg2Gsor8rfRECLNGnv+7N4e1QM6e/zhkPvkk2qb/I4PY+NHevvy8hidgMYrK/G5arxOFxsr98zurYmSatv0EyFcn016S/NzZKfaohl7+N9AVCzr9LvzglwLO0iJ0/z4cE33aZuj+Vqh9hOT7OPxjGJ650CM8/2OPwD3yIxD9JgP2EcT+7P3CeLq6YYbA/QQ5wXwyHnz+c86zUTvWFP8wlUUe5z3A/CWoTR+D/bj8TEm7UOAtjPwccYC2cSkc/iQr8uY2zNb/8/h2u7ZZRvySy6MVkxFm/zUBqtbX1W798qkaU1h1bv4b1sUg0/WG/yNz06L9nab8UqVk1Qh5tv7vdnUWHcWu/cqJYzNo2bL+tKReBbVhtvyXdJyuscm6/RFSGzV4/br+xoAI5B5xsv1leK30+zGq/jjw/bZWeaL/W9ZqOHzJlvzrULQL1u1+/0z4zT4mHUr/NUwxMfcEZP4qSh/uMb1Y/TrHUPaXYZz/zGv1gxxxzPz3FZW0353o/4P510QRIgj/gSzdCbNSGP40RVlEmr4o/ZjVxM1sAjj8PWPWWy3aQPxrOn7BwBJI/vnUcRA3Ukz/WVW93UDWWP2nlQgsnbpk/1Tvu8chznT+ZC+BWD9KgPyI4M5xgb6I/mhcEr8Z0oz80siks+DqkP6qCmB4pL6U/JD77uqFjpj9hjWKiCWCoP181j/ZRI7A/\",\"dtype\":\"float64\",\"shape\":[75]},\"y\":{\"__ndarray__\":\"GhExyth1ND/Sv8nbtpRIP2vylNV0PVE/aTum7souWD/At0SJ8fVgPw3Iuahxymc/MSNhhJWvcD/bTfBN02d3P2zb5nxnaoA/CD5h5MAGhz8NmeH1TyaQP+zrCsc9p5Y/LbKd76fGnz/bLW5ISEmmPww9YvTcQq8/JV2OstnstT8Er5Y7M8G+P0c+r3jqkcU/5h99k6ZBzj88bCIzFzjVP4enV8oyxN0//yH99nXg5D8qOpLLf0jtP5kqGJXUifQ/c9cS8kHP/D+/DpwzojQEQIEmwoanVwxA4lgXt9HgE0BSSZ2AJuIbQAMJih9jjiNA5q4l5INuK0AwTKYKRj0zQNv5fmq8/DpAaCJseHrtQkB/+zpwzoxKQM3MzMzMeFJAZmZmZmZqWEAAAAAAAFxeQM3MzMzMJmJAmpmZmZkfZUBmZmZmZhhoQDMzMzMzEWtAAAAAAAAKbkBmZmZmZoFwQM3MzMzM/XFAMzMzMzN6c0CamZmZmfZ0QAAAAAAAc3ZAZmZmZmbvd0DNzMzMzGt5QDMzMzMz6HpAmpmZmZlkfEAAAAAAAOF9QGZmZmZmXX9AZmZmZuZsgECamZmZGSuBQM3MzMxM6YFAAAAAAICngkAzMzMzs2WDQGZmZmbmI4RAmpmZmRnihEDNzMzMTKCFQAAAAACAXoZAMzMzM7Mch0BmZmZm5tqHQJqZmZkZmYhAzczMzExXiUAAAAAAgBWKQDMzMzOz04pAZmZmZuaRi0CamZmZGVCMQM3MzMxMDo1AAAAAAIDMjUAzMzMzs4qOQGZmZmbmSI9A\",\"dtype\":\"float64\",\"shape\":[75]}}},\"id\":\"3e3031d4-0c19-4b92-8cb8-1b891fdb9fd0\",\"type\":\"ColumnDataSource\"},{\"attributes\":{},\"id\":\"652f683f-0764-49bd-a259-8b8de3e569c4\",\"type\":\"LinearScale\"},{\"attributes\":{\"fill_alpha\":{\"value\":0.7},\"fill_color\":{\"value\":\"#4daf4a\"},\"line_alpha\":{\"value\":0.7},\"line_color\":{\"value\":\"#4daf4a\"},\"x\":{\"field\":\"x\"},\"y\":{\"field\":\"y\"}},\"id\":\"0c3e8dbf-f40c-4a45-a9d2-058fb5c58765\",\"type\":\"Circle\"},{\"attributes\":{\"fill_alpha\":{\"value\":0.1},\"fill_color\":{\"value\":\"#1f77b4\"},\"line_alpha\":{\"value\":0.1},\"line_color\":{\"value\":\"#1f77b4\"},\"x\":{\"field\":\"x\"},\"y\":{\"field\":\"y\"}},\"id\":\"1daa8bb3-0003-4adf-ab6d-ca2e5889b281\",\"type\":\"Circle\"},{\"attributes\":{\"active_drag\":\"auto\",\"active_inspect\":\"auto\",\"active_scroll\":\"auto\",\"active_tap\":\"auto\",\"tools\":[{\"id\":\"96b31dfe-8f3c-4aab-823a-e1dcbc0727c6\",\"type\":\"PanTool\"},{\"id\":\"2ccc489c-2c51-4f5d-ac87-d612d35dc530\",\"type\":\"WheelZoomTool\"},{\"id\":\"308db277-df28-4f2d-8e75-4305206f5b31\",\"type\":\"BoxZoomTool\"},{\"id\":\"4a4826c4-b08b-405b-b993-fc38b9c9c069\",\"type\":\"SaveTool\"},{\"id\":\"7befa865-9c0a-40ca-8f61-dfac0e6accbe\",\"type\":\"ResetTool\"},{\"id\":\"55f43113-79fe-421b-8383-eefa6ace1f77\",\"type\":\"HelpTool\"}]},\"id\":\"97e9020a-d59a-43c4-a6e5-26c87b639f03\",\"type\":\"Toolbar\"},{\"attributes\":{\"plot\":{\"id\":\"ea4a964e-8d75-4f52-abdb-91b60f616a9f\",\"subtype\":\"Figure\",\"type\":\"Plot\"},\"ticker\":{\"id\":\"2fa57e2f-6458-426d-8835-693bdac4a414\",\"type\":\"BasicTicker\"}},\"id\":\"84b92047-0aa6-48f6-9f32-706bd6c28ad2\",\"type\":\"Grid\"},{\"attributes\":{\"line_alpha\":0.6,\"line_color\":\"#e41a1c\",\"line_dash\":[6],\"line_width\":5,\"x\":{\"field\":\"x\"},\"y\":{\"field\":\"y\"}},\"id\":\"ea2cdaf4-a656-40c6-a489-a06f0a930afd\",\"type\":\"Line\"},{\"attributes\":{\"callback\":null,\"end\":0.01,\"start\":1020},\"id\":\"f69a1688-b2cc-499b-97e9-6d200a4cd49b\",\"type\":\"Range1d\"},{\"attributes\":{\"axis_label\":\"pressure [mb]\",\"formatter\":{\"id\":\"5ed246ba-3d97-4060-9d3c-7c3a5e11c848\",\"type\":\"BasicTickFormatter\"},\"plot\":{\"id\":\"ea4a964e-8d75-4f52-abdb-91b60f616a9f\",\"subtype\":\"Figure\",\"type\":\"Plot\"},\"ticker\":{\"id\":\"443197da-91bb-4030-ab15-3a6b7e2e2393\",\"type\":\"BasicTicker\"}},\"id\":\"1ccfe061-784d-4adc-8047-1f22951047d3\",\"type\":\"LinearAxis\"},{\"attributes\":{\"data_source\":{\"id\":\"3e3031d4-0c19-4b92-8cb8-1b891fdb9fd0\",\"type\":\"ColumnDataSource\"},\"glyph\":{\"id\":\"5ec27a36-9970-4cbf-a53b-3b8c81f63965\",\"type\":\"Square\"},\"hover_glyph\":null,\"muted_glyph\":null,\"nonselection_glyph\":{\"id\":\"5f4c3301-2171-434f-ae0e-0bb0260fc919\",\"type\":\"Square\"},\"selection_glyph\":null,\"view\":{\"id\":\"2f37bea9-754b-4f4a-b70a-0229e98ed869\",\"type\":\"CDSView\"}},\"id\":\"7cf97ba3-075f-4627-83cb-add25fd77b58\",\"type\":\"GlyphRenderer\"},{\"attributes\":{\"callback\":null,\"column_names\":[\"x\",\"y\"],\"data\":{\"x\":{\"__ndarray__\":\"h2OGW3i90T+MN5IBKXy0Pz38IL5Yh6E/cz5R5tqokD9qZV0ED9GRv6lzJhxj76C/tltTnzKeo7+Ylvte73CkvyfpOaCnLKO/D6CGPyjHpL/zQJ48sAylvyR1p+CVyaa/70DpgC5eqL/MbJcDK/Gtv4B09j0GhbG/LAL036kesb90A+xAKZyqvx63Mr3RgqG/x7v44lgFkL9j9KW9HfZlPxweYoY9Ips/gVuGHoLBuD9TJhSmGDXNP9fDdns5gc4/ryjj59gkxT9QK5ZshmW9Py4Hf2EnLLI/R//BQ/UvoD8xeLIBsyeAPxypvjyr6Go/00TFn/RDdT837HNDd/NqP9Kkal6nVEQ/20XjPg/iSr/F2WBpqOZVvwxn+7PGcFq/QOZDiwUpXL8uAESzz0Bcv23mmSGRUmK/GqaI5XWRab8qIv76jD9tv6IEIN5R5Gu/yl5+hZZ+bL87bliZwFtuv8TrNPpjZm+/JTsRYHN3br/TEMoFqw1tvzNuwKCyhWu/CD23Ya+Pab8UVWxBsOBmv/ikwsGmGmK/D4WHk/H0Vb/oHrqfDnoXv5ebJCT2s1Y/wySLJTSjaT/j5CJg69B0PwfwcQHDTX0/ZHeK31CUgz/2o8dAtfmHPywx4y5BlIs/UOsIcBI0jj8YnUCZxRKQP2geGdsGFpE/9aaCh/LQkj8DMKX7JyKVP7DNieez1pg/QtAYgCIjnT8iqksh6wShP2JtDR4G8KI/Suas3eM9pD8vjds/gT2lP/vHOAKVSqY/MOKJwFuXpz+vrhf+ZHCpPzgyTeDverA/\",\"dtype\":\"float64\",\"shape\":[75]},\"y\":{\"__ndarray__\":\"S/O/Q+51ND/430zAtpRIP2vylNV0PVE/QxsjCssuWD/TR4Z78fVgP+inNsRxymc/OuuBfZWvcD/u3TFA02d3P2d3VoBnaoA/CD5h5MAGhz/1pA8HUCaQP+zrCsc9p5Y/Fb7LAKjGnz/nJ9c/SEmmPwBD+fzcQq8/FOZwv9nstT8Er5Y7M8G+P0c+r3jqkcU/yK72qKZBzj+tM989FzjVPxbgmr8yxN0/cOm5AXbg5D+5ctXAf0jtP5kqGJXUifQ/DsrqDELP/D8MCAhBojQEQDItVnmnVwxAiFXNvdHgE0BSSZ2AJuIbQAMJih9jjiNA5q4l5INuK0CPVN/5RT0zQHzxRXu8/DpAOZ7PgHrtQkAg8wGBzoxKQBSTN8DMeFJA2NmQf2ZqWEAAAAAAAFxeQEQX1LfMJmJAmpmZmZkfZUBmZmZmZhhoQLzoK0gzEWtAAAAAAAAKbkCiC+pbZoFwQAhyUMLM/XFA+I2vPTN6c0AQ5KCEmfZ0QAAAAAAAc3ZA8Btfe2bvd0AIclDCzGt5QPeNrz0z6HpAEOSghJlkfEAAAAAAAOF9QKML6ltmXX9ABTkoYeZsgED7xteeGSuBQAhyUMJM6YFAAAAAAICngkD4ja89s2WDQAU5KGHmI4RA+8bXnhnihEAIclDCTKCFQAAAAACAXoZA+I2vPbMch0AFOShh5tqHQPvG154ZmYhACHJQwkxXiUAAAAAAgBWKQPeNrz2z04pABTkoYeaRi0D7xteeGVCMQAlyUMJMDo1AAAAAAIDMjUD3ja89s4qOQGZmZmbmSI9A\",\"dtype\":\"float64\",\"shape\":[75]}}},\"id\":\"d3e10057-34f2-43cf-816f-8f25093140a0\",\"type\":\"ColumnDataSource\"},{\"attributes\":{\"dimension\":1,\"plot\":{\"id\":\"ea4a964e-8d75-4f52-abdb-91b60f616a9f\",\"subtype\":\"Figure\",\"type\":\"Plot\"},\"ticker\":{\"id\":\"443197da-91bb-4030-ab15-3a6b7e2e2393\",\"type\":\"BasicTicker\"}},\"id\":\"af38dace-34d6-4e8c-9ed8-07e6b4cf5d34\",\"type\":\"Grid\"},{\"attributes\":{},\"id\":\"443197da-91bb-4030-ab15-3a6b7e2e2393\",\"type\":\"BasicTicker\"},{\"attributes\":{},\"id\":\"96b31dfe-8f3c-4aab-823a-e1dcbc0727c6\",\"type\":\"PanTool\"},{\"attributes\":{\"data_source\":{\"id\":\"45efece7-0ab4-4e0c-b30e-556903522343\",\"type\":\"ColumnDataSource\"},\"glyph\":{\"id\":\"af26d798-539a-4f79-bba4-99d1c8ea8fe7\",\"type\":\"Line\"},\"hover_glyph\":null,\"muted_glyph\":null,\"nonselection_glyph\":{\"id\":\"d177e604-a429-4c98-965b-9218d10f1d49\",\"type\":\"Line\"},\"selection_glyph\":null,\"view\":{\"id\":\"ea9fee12-73e0-4f9f-b1a7-e88525a8f78f\",\"type\":\"CDSView\"}},\"id\":\"470ef495-8bf8-459e-8ad7-8176b9a6dd01\",\"type\":\"GlyphRenderer\"},{\"attributes\":{\"line_alpha\":0.1,\"line_color\":\"#1f77b4\",\"line_width\":1.5,\"x\":{\"field\":\"x\"},\"y\":{\"field\":\"y\"}},\"id\":\"d177e604-a429-4c98-965b-9218d10f1d49\",\"type\":\"Line\"},{\"attributes\":{\"fill_alpha\":{\"value\":0.7},\"fill_color\":{\"value\":\"#984ea3\"},\"line_alpha\":{\"value\":0.7},\"line_color\":{\"value\":\"#984ea3\"},\"x\":{\"field\":\"x\"},\"y\":{\"field\":\"y\"}},\"id\":\"5ec27a36-9970-4cbf-a53b-3b8c81f63965\",\"type\":\"Square\"},{\"attributes\":{},\"id\":\"55f43113-79fe-421b-8383-eefa6ace1f77\",\"type\":\"HelpTool\"},{\"attributes\":{\"bottom_units\":\"screen\",\"fill_alpha\":{\"value\":0.5},\"fill_color\":{\"value\":\"lightgrey\"},\"left_units\":\"screen\",\"level\":\"overlay\",\"line_alpha\":{\"value\":1.0},\"line_color\":{\"value\":\"black\"},\"line_dash\":[4,4],\"line_width\":{\"value\":2},\"plot\":null,\"render_mode\":\"css\",\"right_units\":\"screen\",\"top_units\":\"screen\"},\"id\":\"e9596b2a-880a-4736-a49f-a3ea0f640e24\",\"type\":\"BoxAnnotation\"},{\"attributes\":{},\"id\":\"2ccc489c-2c51-4f5d-ac87-d612d35dc530\",\"type\":\"WheelZoomTool\"}],\"root_ids\":[\"33a2796c-fe69-4cbf-90b1-2207c25579a3\"]},\"title\":\"Bokeh Application\",\"version\":\"0.12.14\"}};\n",
       "  var render_items = [{\"docid\":\"965338f9-5844-4159-aa55-42e43038d025\",\"elementid\":\"ab7164f6-62d9-4001-80f2-8adb392f20e8\",\"modelid\":\"33a2796c-fe69-4cbf-90b1-2207c25579a3\"}];\n",
       "  root.Bokeh.embed.embed_items_notebook(docs_json, render_items);\n",
       "\n",
       "  }\n",
       "  if (root.Bokeh !== undefined) {\n",
       "    embed_document(root);\n",
       "  } else {\n",
       "    var attempts = 0;\n",
       "    var timer = setInterval(function(root) {\n",
       "      if (root.Bokeh !== undefined) {\n",
       "        embed_document(root);\n",
       "        clearInterval(timer);\n",
       "      }\n",
       "      attempts++;\n",
       "      if (attempts > 100) {\n",
       "        console.log(\"Bokeh: ERROR: Unable to run BokehJS code because BokehJS library is missing\")\n",
       "        clearInterval(timer);\n",
       "      }\n",
       "    }, 10, root)\n",
       "  }\n",
       "})(window);"
      ],
      "application/vnd.bokehjs_exec.v0+json": ""
     },
     "metadata": {
      "application/vnd.bokehjs_exec.v0+json": {
       "id": "33a2796c-fe69-4cbf-90b1-2207c25579a3"
      }
     },
     "output_type": "display_data"
    },
    {
     "name": "stdout",
     "output_type": "stream",
     "text": [
      "FIGURE. Cooling rate profiles.\n"
     ]
    },
    {
     "data": {
      "text/html": [
       "<a id=\"Flux_Comparison\"></a>"
      ],
      "text/plain": [
       "<IPython.core.display.HTML object>"
      ]
     },
     "metadata": {},
     "output_type": "display_data"
    },
    {
     "data": {
      "text/markdown": [
       "# Flux Comparison"
      ],
      "text/plain": [
       "<IPython.core.display.Markdown object>"
      ]
     },
     "metadata": {},
     "output_type": "display_data"
    },
    {
     "data": {
      "text/html": [
       "<div>\n",
       "<style>\n",
       "    .dataframe thead tr:only-child th {\n",
       "        text-align: right;\n",
       "    }\n",
       "\n",
       "    .dataframe thead th {\n",
       "        text-align: left;\n",
       "    }\n",
       "\n",
       "    .dataframe tbody tr th {\n",
       "        vertical-align: top;\n",
       "    }\n",
       "</style>\n",
       "<table border=\"1\" class=\"dataframe\">\n",
       "  <thead>\n",
       "    <tr style=\"text-align: right;\">\n",
       "      <th></th>\n",
       "      <th></th>\n",
       "      <th>flug</th>\n",
       "      <th>fldg</th>\n",
       "      <th>fnetg</th>\n",
       "    </tr>\n",
       "    <tr>\n",
       "      <th>pressure</th>\n",
       "      <th>level</th>\n",
       "      <th></th>\n",
       "      <th></th>\n",
       "      <th></th>\n",
       "    </tr>\n",
       "  </thead>\n",
       "  <tbody>\n",
       "    <tr>\n",
       "      <th>0.0000</th>\n",
       "      <th>1</th>\n",
       "      <td>-4.021537</td>\n",
       "      <td>0.000000</td>\n",
       "      <td>-4.021537</td>\n",
       "    </tr>\n",
       "    <tr>\n",
       "      <th>1.0685</th>\n",
       "      <th>24</th>\n",
       "      <td>-4.029232</td>\n",
       "      <td>0.018062</td>\n",
       "      <td>-4.011170</td>\n",
       "    </tr>\n",
       "    <tr>\n",
       "      <th>1013.0000</th>\n",
       "      <th>76</th>\n",
       "      <td>-6.625452</td>\n",
       "      <td>4.041280</td>\n",
       "      <td>-2.584173</td>\n",
       "    </tr>\n",
       "  </tbody>\n",
       "</table>\n",
       "</div>"
      ],
      "text/plain": [
       "                     flug      fldg     fnetg\n",
       "pressure  level                              \n",
       "0.0000    1     -4.021537  0.000000 -4.021537\n",
       "1.0685    24    -4.029232  0.018062 -4.011170\n",
       "1013.0000 76    -6.625452  4.041280 -2.584173"
      ]
     },
     "metadata": {},
     "output_type": "display_data"
    },
    {
     "name": "stdout",
     "output_type": "stream",
     "text": [
      "Table. Fluxes. WGT igg=10 wgt_flux=1\n"
     ]
    },
    {
     "data": {
      "text/html": [
       "<div>\n",
       "<style>\n",
       "    .dataframe thead tr:only-child th {\n",
       "        text-align: right;\n",
       "    }\n",
       "\n",
       "    .dataframe thead th {\n",
       "        text-align: left;\n",
       "    }\n",
       "\n",
       "    .dataframe tbody tr th {\n",
       "        vertical-align: top;\n",
       "    }\n",
       "</style>\n",
       "<table border=\"1\" class=\"dataframe\">\n",
       "  <thead>\n",
       "    <tr style=\"text-align: right;\">\n",
       "      <th></th>\n",
       "      <th></th>\n",
       "      <th>flug</th>\n",
       "      <th>fldg</th>\n",
       "      <th>fnetg</th>\n",
       "    </tr>\n",
       "    <tr>\n",
       "      <th>pressure</th>\n",
       "      <th>level</th>\n",
       "      <th></th>\n",
       "      <th></th>\n",
       "      <th></th>\n",
       "    </tr>\n",
       "  </thead>\n",
       "  <tbody>\n",
       "    <tr>\n",
       "      <th>0.0000</th>\n",
       "      <th>1</th>\n",
       "      <td>-4.087499</td>\n",
       "      <td>0.000000</td>\n",
       "      <td>-4.087499</td>\n",
       "    </tr>\n",
       "    <tr>\n",
       "      <th>1.0685</th>\n",
       "      <th>24</th>\n",
       "      <td>-4.094944</td>\n",
       "      <td>0.018859</td>\n",
       "      <td>-4.076085</td>\n",
       "    </tr>\n",
       "    <tr>\n",
       "      <th>1013.0000</th>\n",
       "      <th>76</th>\n",
       "      <td>-6.625452</td>\n",
       "      <td>4.061761</td>\n",
       "      <td>-2.563691</td>\n",
       "    </tr>\n",
       "  </tbody>\n",
       "</table>\n",
       "</div>"
      ],
      "text/plain": [
       "                     flug      fldg     fnetg\n",
       "pressure  level                              \n",
       "0.0000    1     -4.087499  0.000000 -4.087499\n",
       "1.0685    24    -4.094944  0.018859 -4.076085\n",
       "1013.0000 76    -6.625452  4.061761 -2.563691"
      ]
     },
     "metadata": {},
     "output_type": "display_data"
    },
    {
     "name": "stdout",
     "output_type": "stream",
     "text": [
      "Table. Fluxes. CRD\n"
     ]
    },
    {
     "data": {
      "text/html": [
       "<div>\n",
       "<style>\n",
       "    .dataframe thead tr:only-child th {\n",
       "        text-align: right;\n",
       "    }\n",
       "\n",
       "    .dataframe thead th {\n",
       "        text-align: left;\n",
       "    }\n",
       "\n",
       "    .dataframe tbody tr th {\n",
       "        vertical-align: top;\n",
       "    }\n",
       "</style>\n",
       "<table border=\"1\" class=\"dataframe\">\n",
       "  <thead>\n",
       "    <tr style=\"text-align: right;\">\n",
       "      <th></th>\n",
       "      <th></th>\n",
       "      <th>flug</th>\n",
       "      <th>fldg</th>\n",
       "      <th>fnetg</th>\n",
       "    </tr>\n",
       "    <tr>\n",
       "      <th>pressure</th>\n",
       "      <th>level</th>\n",
       "      <th></th>\n",
       "      <th></th>\n",
       "      <th></th>\n",
       "    </tr>\n",
       "  </thead>\n",
       "  <tbody>\n",
       "    <tr>\n",
       "      <th>1.000000e-08</th>\n",
       "      <th>1</th>\n",
       "      <td>-4.022599</td>\n",
       "      <td>0.000002</td>\n",
       "      <td>-4.022597</td>\n",
       "    </tr>\n",
       "    <tr>\n",
       "      <th>1.068500e+00</th>\n",
       "      <th>24</th>\n",
       "      <td>-4.030184</td>\n",
       "      <td>0.017642</td>\n",
       "      <td>-4.012541</td>\n",
       "    </tr>\n",
       "    <tr>\n",
       "      <th>1.013000e+03</th>\n",
       "      <th>76</th>\n",
       "      <td>-6.625452</td>\n",
       "      <td>4.068976</td>\n",
       "      <td>-2.556476</td>\n",
       "    </tr>\n",
       "  </tbody>\n",
       "</table>\n",
       "</div>"
      ],
      "text/plain": [
       "                        flug      fldg     fnetg\n",
       "pressure     level                              \n",
       "1.000000e-08 1     -4.022599  0.000002 -4.022597\n",
       "1.068500e+00 24    -4.030184  0.017642 -4.012541\n",
       "1.013000e+03 76    -6.625452  4.068976 -2.556476"
      ]
     },
     "metadata": {},
     "output_type": "display_data"
    },
    {
     "name": "stdout",
     "output_type": "stream",
     "text": [
      "Table. Fluxes. CLIRAD\n"
     ]
    },
    {
     "data": {
      "text/html": [
       "<div>\n",
       "<style>\n",
       "    .dataframe thead tr:only-child th {\n",
       "        text-align: right;\n",
       "    }\n",
       "\n",
       "    .dataframe thead th {\n",
       "        text-align: left;\n",
       "    }\n",
       "\n",
       "    .dataframe tbody tr th {\n",
       "        vertical-align: top;\n",
       "    }\n",
       "</style>\n",
       "<table border=\"1\" class=\"dataframe\">\n",
       "  <thead>\n",
       "    <tr style=\"text-align: right;\">\n",
       "      <th></th>\n",
       "      <th></th>\n",
       "      <th>flug</th>\n",
       "      <th>fldg</th>\n",
       "      <th>fnetg</th>\n",
       "    </tr>\n",
       "    <tr>\n",
       "      <th>pressure</th>\n",
       "      <th>level</th>\n",
       "      <th></th>\n",
       "      <th></th>\n",
       "      <th></th>\n",
       "    </tr>\n",
       "  </thead>\n",
       "  <tbody>\n",
       "    <tr>\n",
       "      <th>0.0000</th>\n",
       "      <th>1</th>\n",
       "      <td>-0.065963</td>\n",
       "      <td>0.000000</td>\n",
       "      <td>-0.065963</td>\n",
       "    </tr>\n",
       "    <tr>\n",
       "      <th>1.0685</th>\n",
       "      <th>24</th>\n",
       "      <td>-0.065711</td>\n",
       "      <td>0.000796</td>\n",
       "      <td>-0.064915</td>\n",
       "    </tr>\n",
       "    <tr>\n",
       "      <th>1013.0000</th>\n",
       "      <th>76</th>\n",
       "      <td>0.000000</td>\n",
       "      <td>0.020482</td>\n",
       "      <td>0.020482</td>\n",
       "    </tr>\n",
       "  </tbody>\n",
       "</table>\n",
       "</div>"
      ],
      "text/plain": [
       "                     flug      fldg     fnetg\n",
       "pressure  level                              \n",
       "0.0000    1     -0.065963  0.000000 -0.065963\n",
       "1.0685    24    -0.065711  0.000796 -0.064915\n",
       "1013.0000 76     0.000000  0.020482  0.020482"
      ]
     },
     "metadata": {},
     "output_type": "display_data"
    },
    {
     "name": "stdout",
     "output_type": "stream",
     "text": [
      "Table. Fluxes. (CRD) - (WGT igg=10 wgt_flux=1)\n"
     ]
    },
    {
     "data": {
      "text/html": [
       "<div>\n",
       "<style>\n",
       "    .dataframe thead tr:only-child th {\n",
       "        text-align: right;\n",
       "    }\n",
       "\n",
       "    .dataframe thead th {\n",
       "        text-align: left;\n",
       "    }\n",
       "\n",
       "    .dataframe tbody tr th {\n",
       "        vertical-align: top;\n",
       "    }\n",
       "</style>\n",
       "<table border=\"1\" class=\"dataframe\">\n",
       "  <thead>\n",
       "    <tr style=\"text-align: right;\">\n",
       "      <th></th>\n",
       "      <th></th>\n",
       "      <th>flug</th>\n",
       "      <th>fldg</th>\n",
       "      <th>fnetg</th>\n",
       "    </tr>\n",
       "    <tr>\n",
       "      <th>pressure</th>\n",
       "      <th>level</th>\n",
       "      <th></th>\n",
       "      <th></th>\n",
       "      <th></th>\n",
       "    </tr>\n",
       "  </thead>\n",
       "  <tbody>\n",
       "    <tr>\n",
       "      <th>0.0000</th>\n",
       "      <th>1</th>\n",
       "      <td>-1.062600e-03</td>\n",
       "      <td>0.000002</td>\n",
       "      <td>-0.001061</td>\n",
       "    </tr>\n",
       "    <tr>\n",
       "      <th>1.0685</th>\n",
       "      <th>24</th>\n",
       "      <td>-9.513000e-04</td>\n",
       "      <td>-0.000420</td>\n",
       "      <td>-0.001371</td>\n",
       "    </tr>\n",
       "    <tr>\n",
       "      <th>1013.0000</th>\n",
       "      <th>76</th>\n",
       "      <td>3.000000e-07</td>\n",
       "      <td>0.027697</td>\n",
       "      <td>0.027697</td>\n",
       "    </tr>\n",
       "  </tbody>\n",
       "</table>\n",
       "</div>"
      ],
      "text/plain": [
       "                         flug      fldg     fnetg\n",
       "pressure  level                                  \n",
       "0.0000    1     -1.062600e-03  0.000002 -0.001061\n",
       "1.0685    24    -9.513000e-04 -0.000420 -0.001371\n",
       "1013.0000 76     3.000000e-07  0.027697  0.027697"
      ]
     },
     "metadata": {},
     "output_type": "display_data"
    },
    {
     "name": "stdout",
     "output_type": "stream",
     "text": [
      "Table. Fluxes. (CLIRAD) - (WGT igg=10 wgt_flux=1)\n"
     ]
    },
    {
     "data": {
      "text/html": [
       "<a id=\"Best-fit_Parameters\"></a>"
      ],
      "text/plain": [
       "<IPython.core.display.HTML object>"
      ]
     },
     "metadata": {},
     "output_type": "display_data"
    },
    {
     "data": {
      "text/markdown": [
       "# Best-fit Parameters"
      ],
      "text/plain": [
       "<IPython.core.display.Markdown object>"
      ]
     },
     "metadata": {},
     "output_type": "display_data"
    },
    {
     "name": "stdout",
     "output_type": "stream",
     "text": [
      "Best-fit values for each (gas, band)\n",
      "------------------------------------\n",
      "o h2o band9\n",
      "  molecule = h2o\n",
      "  band = 9\n",
      "  commitnumber = d5931a1\n",
      "  vmin = 1900\n",
      "  vmax = 3000\n",
      "  dv = 0.001\n",
      "  nv = 1000\n",
      "  ref_pts = [(500, 250)]\n",
      "  ng_refs = [5]\n",
      "  ng_adju = [0]\n",
      "  klin = 1e-24\n",
      "  option_wgt_k = 1\n",
      "  wgt = [(0.4, 0.4, 0.5, 0.55, 0.85)]\n",
      "  w_diffuse = [(1.66, 1.66, 1.66, 1.66, 1.66)]\n",
      "  option_wgt_flux = 1\n",
      "  atmpro = mls\n",
      "  tsfc = 294\n",
      "  conc = None\n",
      "  option_compute_btable = 0\n",
      "  option_compute_ktable = 1\n",
      "o co2 band9\n",
      "  molecule = co2\n",
      "  band = 9\n",
      "  commitnumber = 043bdfe\n",
      "  vmin = 1900\n",
      "  vmax = 3000\n",
      "  dv = 0.001\n",
      "  nv = 1000\n",
      "  ref_pts = [(1, 250), (50, 250)]\n",
      "  ng_refs = [3, 3]\n",
      "  ng_adju = [2, 0]\n",
      "  klin = 1e-23\n",
      "  option_wgt_k = 1\n",
      "  wgt = [(0.7, 0.8, 0.7), (0.8, 0.7, 0.8)]\n",
      "  w_diffuse = [(1.66, 1.66, 1.75), (1.75, 1.6, 1.85)]\n",
      "  option_wgt_flux = 1\n",
      "  atmpro = mls\n",
      "  tsfc = 294\n",
      "  conc = 0.0004\n",
      "  option_compute_btable = 0\n",
      "  option_compute_ktable = 0\n"
     ]
    }
   ],
   "source": [
    "script()"
   ]
  },
  {
   "cell_type": "code",
   "execution_count": 13,
   "metadata": {},
   "outputs": [
    {
     "data": {
      "text/html": [
       "<script>\n",
       "code_show=true; \n",
       "function code_toggle() {\n",
       " if (code_show){\n",
       " $('div.input').hide();\n",
       " } else {\n",
       " $('div.input').show();\n",
       " }\n",
       " code_show = !code_show\n",
       "} \n",
       "$( document ).ready(code_toggle);\n",
       "</script>\n",
       "<form action=\"javascript:code_toggle()\"><input type=\"submit\" value=\"Click here to toggle on/off the raw code.\"></form>"
      ],
      "text/plain": [
       "<IPython.core.display.HTML object>"
      ]
     },
     "execution_count": 13,
     "metadata": {},
     "output_type": "execute_result"
    }
   ],
   "source": [
    "display.HTML('''<script>\n",
    "code_show=true; \n",
    "function code_toggle() {\n",
    " if (code_show){\n",
    " $('div.input').hide();\n",
    " } else {\n",
    " $('div.input').show();\n",
    " }\n",
    " code_show = !code_show\n",
    "} \n",
    "$( document ).ready(code_toggle);\n",
    "</script>\n",
    "<form action=\"javascript:code_toggle()\"><input type=\"submit\" value=\"Click here to toggle on/off the raw code.\"></form>''')"
   ]
  }
 ],
 "metadata": {
  "kernelspec": {
   "display_name": "Python 3",
   "language": "python",
   "name": "python3"
  },
  "language_info": {
   "codemirror_mode": {
    "name": "ipython",
    "version": 3
   },
   "file_extension": ".py",
   "mimetype": "text/x-python",
   "name": "python",
   "nbconvert_exporter": "python",
   "pygments_lexer": "ipython3",
   "version": "3.6.1"
  }
 },
 "nbformat": 4,
 "nbformat_minor": 2
}
