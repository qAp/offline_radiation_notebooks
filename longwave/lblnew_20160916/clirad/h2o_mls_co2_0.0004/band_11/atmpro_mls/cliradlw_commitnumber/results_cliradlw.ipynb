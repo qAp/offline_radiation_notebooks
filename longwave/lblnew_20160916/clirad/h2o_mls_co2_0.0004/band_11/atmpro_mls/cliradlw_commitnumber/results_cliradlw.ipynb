{
 "cells": [
  {
   "cell_type": "code",
   "execution_count": 1,
   "metadata": {
    "collapsed": true
   },
   "outputs": [],
   "source": [
    "%matplotlib inline\n",
    "import os\n",
    "import re\n",
    "import io\n",
    "import itertools\n",
    "import pprint\n",
    "\n",
    "from bokeh.io import output_notebook, show\n",
    "from bokeh.layouts import gridplot\n",
    "from bokeh.plotting import figure\n",
    "from bokeh.models import Range1d, Legend\n",
    "from bokeh.palettes import all_palettes\n",
    "\n",
    "import matplotlib\n",
    "import matplotlib.pyplot as plt\n",
    "import numpy as np\n",
    "import pandas as pd\n",
    "import xarray as xr\n",
    "\n",
    "import climatools.lblnew.bestfit_params as bestfits\n",
    "from climatools.lblnew import setup_bestfit, setup_overlap\n",
    "import climatools.lblnew.pipeline as pipe_lblnew\n",
    "import climatools.cliradlw.setup as setup_cliradlw\n",
    "import climatools.cliradlw.pipeline as pipe_cliradlw\n",
    "\n",
    "import climatools.html.html as climahtml\n",
    "from climatools.lblnew.dataio import *\n",
    "from climatools.plot.plot import *\n",
    "\n",
    "\n",
    "import IPython.display as display"
   ]
  },
  {
   "cell_type": "code",
   "execution_count": 2,
   "metadata": {
    "collapsed": true
   },
   "outputs": [],
   "source": [
    "%run param.py"
   ]
  },
  {
   "cell_type": "code",
   "execution_count": 3,
   "metadata": {
    "collapsed": true
   },
   "outputs": [],
   "source": [
    "def load_output_file(path_csv):\n",
    "    '''\n",
    "    Load lblnew output .csv file to xarray.Dataset\n",
    "    \n",
    "    Parameters\n",
    "    ----------\n",
    "    path_csv: str\n",
    "              Path to the .csv file to be loaded.\n",
    "    ds: xarray.Dataset\n",
    "        Data in the input file in the form of an xarray.Dataset.\n",
    "    '''\n",
    "    toindex = ['band', 'pressure', 'igg', 'g']    \n",
    "    df = pd.read_csv(path_csv, sep=r'\\s+')\n",
    "    df = df.set_index([i for i in toindex if i in df.columns])\n",
    "    df = df.rename(columns={'sfu': 'flug',\n",
    "                            'sfd': 'fldg',\n",
    "                            'fnet': 'fnetg',\n",
    "                            'coolr': 'coolrg'})\n",
    "    ds = xr.Dataset.from_dataframe(df)\n",
    "\n",
    "    for l in ('level', 'layer'):\n",
    "        if l in ds.data_vars:\n",
    "            if len(ds[l].dims) > 1:\n",
    "                surface = {d: 0 for d in ds.dims if d != 'pressure'}\n",
    "                coord_level = ds[l][surface]\n",
    "                ds.coords[l] = ('pressure', coord_level)\n",
    "            else:\n",
    "                ds.coords[l] = ('pressure', ds[l])\n",
    "    \n",
    "    return ds"
   ]
  },
  {
   "cell_type": "code",
   "execution_count": 4,
   "metadata": {
    "collapsed": true
   },
   "outputs": [],
   "source": [
    "def lblnew_setup(param=None):\n",
    "    if 'ng_refs' in param:\n",
    "        return {'setup': setup_bestfit,\n",
    "                'fname_flux_crd': 'output_flux.dat',\n",
    "                'fname_cool_crd': 'output_coolr.dat',\n",
    "                'fname_flux_wgt': 'output_wfluxg.dat',\n",
    "                'fname_cool_wgt': 'output_wcoolrg.dat'}\n",
    "    else:\n",
    "        return {'setup': setup_overlap,\n",
    "                'fname_flux_crd': 'output_flux.dat',\n",
    "                'fname_cool_crd': 'output_coolr.dat',\n",
    "                'fname_flux_wgt': 'output_wflux.dat',\n",
    "                'fname_cool_wgt': 'output_wcoolr.dat'}\n",
    "\n",
    "    \n",
    "def load_lblnew_data(param):\n",
    "    \n",
    "    fname_dsname = [('fname_flux_crd', 'ds_flux_crd'),\n",
    "                    ('fname_cool_crd', 'ds_cool_crd'),\n",
    "                    ('fname_flux_wgt', 'ds_flux_wgt'),\n",
    "                    ('fname_cool_wgt', 'ds_cool_wgt')]\n",
    "    \n",
    "    d = lblnew_setup(param)\n",
    "    dir_fortran = pipe_lblnew.get_dir_case(param, setup=d['setup'])\n",
    "    \n",
    "    data_dict = {}\n",
    "    for fname, dsname in fname_dsname:\n",
    "        fpath = os.path.join(dir_fortran, d[fname])\n",
    "        data_dict[dsname] = load_output_file(fpath)\n",
    "    return data_dict\n",
    "    \n",
    "\n",
    "    \n",
    "    "
   ]
  },
  {
   "cell_type": "code",
   "execution_count": 5,
   "metadata": {
    "collapsed": true
   },
   "outputs": [],
   "source": [
    "d = load_lblnew_data(PARAM_LBLNEW)\n",
    "\n",
    "DS_FLUX_CRD = d['ds_flux_crd']\n",
    "DS_COOL_CRD = d['ds_cool_crd']\n",
    "DS_FLUX_WGT = d['ds_flux_wgt']\n",
    "DS_COOL_WGT = d['ds_cool_wgt']"
   ]
  },
  {
   "cell_type": "code",
   "execution_count": 6,
   "metadata": {
    "collapsed": true
   },
   "outputs": [],
   "source": [
    "DIR_FORTRAN = pipe_cliradlw.get_fortran_dir(PARAM, \n",
    "                                            setup=setup_cliradlw)\n",
    "\n",
    "PATH_FLUX = os.path.join(DIR_FORTRAN, 'output_flux.dat')\n",
    "PATH_COOL = os.path.join(DIR_FORTRAN, 'output_coolr.dat')\n",
    "\n",
    "DS_FLUX = load_output_file(PATH_FLUX)\n",
    "DS_COOL = load_output_file(PATH_COOL)"
   ]
  },
  {
   "cell_type": "code",
   "execution_count": 7,
   "metadata": {},
   "outputs": [
    {
     "data": {
      "text/html": [
       "\n",
       "    <div class=\"bk-root\">\n",
       "        <a href=\"https://bokeh.pydata.org\" target=\"_blank\" class=\"bk-logo bk-logo-small bk-logo-notebook\"></a>\n",
       "        <span id=\"7663b0a0-4efe-4880-b37e-5321c542a9aa\">Loading BokehJS ...</span>\n",
       "    </div>"
      ]
     },
     "metadata": {},
     "output_type": "display_data"
    },
    {
     "data": {
      "application/javascript": [
       "\n",
       "(function(root) {\n",
       "  function now() {\n",
       "    return new Date();\n",
       "  }\n",
       "\n",
       "  var force = true;\n",
       "\n",
       "  if (typeof (root._bokeh_onload_callbacks) === \"undefined\" || force === true) {\n",
       "    root._bokeh_onload_callbacks = [];\n",
       "    root._bokeh_is_loading = undefined;\n",
       "  }\n",
       "\n",
       "  var JS_MIME_TYPE = 'application/javascript';\n",
       "  var HTML_MIME_TYPE = 'text/html';\n",
       "  var EXEC_MIME_TYPE = 'application/vnd.bokehjs_exec.v0+json';\n",
       "  var CLASS_NAME = 'output_bokeh rendered_html';\n",
       "\n",
       "  /**\n",
       "   * Render data to the DOM node\n",
       "   */\n",
       "  function render(props, node) {\n",
       "    var script = document.createElement(\"script\");\n",
       "    node.appendChild(script);\n",
       "  }\n",
       "\n",
       "  /**\n",
       "   * Handle when an output is cleared or removed\n",
       "   */\n",
       "  function handleClearOutput(event, handle) {\n",
       "    var cell = handle.cell;\n",
       "\n",
       "    var id = cell.output_area._bokeh_element_id;\n",
       "    var server_id = cell.output_area._bokeh_server_id;\n",
       "    // Clean up Bokeh references\n",
       "    if (id !== undefined) {\n",
       "      Bokeh.index[id].model.document.clear();\n",
       "      delete Bokeh.index[id];\n",
       "    }\n",
       "\n",
       "    if (server_id !== undefined) {\n",
       "      // Clean up Bokeh references\n",
       "      var cmd = \"from bokeh.io.state import curstate; print(curstate().uuid_to_server['\" + server_id + \"'].get_sessions()[0].document.roots[0]._id)\";\n",
       "      cell.notebook.kernel.execute(cmd, {\n",
       "        iopub: {\n",
       "          output: function(msg) {\n",
       "            var element_id = msg.content.text.trim();\n",
       "            Bokeh.index[element_id].model.document.clear();\n",
       "            delete Bokeh.index[element_id];\n",
       "          }\n",
       "        }\n",
       "      });\n",
       "      // Destroy server and session\n",
       "      var cmd = \"import bokeh.io.notebook as ion; ion.destroy_server('\" + server_id + \"')\";\n",
       "      cell.notebook.kernel.execute(cmd);\n",
       "    }\n",
       "  }\n",
       "\n",
       "  /**\n",
       "   * Handle when a new output is added\n",
       "   */\n",
       "  function handleAddOutput(event, handle) {\n",
       "    var output_area = handle.output_area;\n",
       "    var output = handle.output;\n",
       "\n",
       "    // limit handleAddOutput to display_data with EXEC_MIME_TYPE content only\n",
       "    if ((output.output_type != \"display_data\") || (!output.data.hasOwnProperty(EXEC_MIME_TYPE))) {\n",
       "      return\n",
       "    }\n",
       "\n",
       "    var toinsert = output_area.element.find(\".\" + CLASS_NAME.split(' ')[0]);\n",
       "\n",
       "    if (output.metadata[EXEC_MIME_TYPE][\"id\"] !== undefined) {\n",
       "      toinsert[0].firstChild.textContent = output.data[JS_MIME_TYPE];\n",
       "      // store reference to embed id on output_area\n",
       "      output_area._bokeh_element_id = output.metadata[EXEC_MIME_TYPE][\"id\"];\n",
       "    }\n",
       "    if (output.metadata[EXEC_MIME_TYPE][\"server_id\"] !== undefined) {\n",
       "      var bk_div = document.createElement(\"div\");\n",
       "      bk_div.innerHTML = output.data[HTML_MIME_TYPE];\n",
       "      var script_attrs = bk_div.children[0].attributes;\n",
       "      for (var i = 0; i < script_attrs.length; i++) {\n",
       "        toinsert[0].firstChild.setAttribute(script_attrs[i].name, script_attrs[i].value);\n",
       "      }\n",
       "      // store reference to server id on output_area\n",
       "      output_area._bokeh_server_id = output.metadata[EXEC_MIME_TYPE][\"server_id\"];\n",
       "    }\n",
       "  }\n",
       "\n",
       "  function register_renderer(events, OutputArea) {\n",
       "\n",
       "    function append_mime(data, metadata, element) {\n",
       "      // create a DOM node to render to\n",
       "      var toinsert = this.create_output_subarea(\n",
       "        metadata,\n",
       "        CLASS_NAME,\n",
       "        EXEC_MIME_TYPE\n",
       "      );\n",
       "      this.keyboard_manager.register_events(toinsert);\n",
       "      // Render to node\n",
       "      var props = {data: data, metadata: metadata[EXEC_MIME_TYPE]};\n",
       "      render(props, toinsert[0]);\n",
       "      element.append(toinsert);\n",
       "      return toinsert\n",
       "    }\n",
       "\n",
       "    /* Handle when an output is cleared or removed */\n",
       "    events.on('clear_output.CodeCell', handleClearOutput);\n",
       "    events.on('delete.Cell', handleClearOutput);\n",
       "\n",
       "    /* Handle when a new output is added */\n",
       "    events.on('output_added.OutputArea', handleAddOutput);\n",
       "\n",
       "    /**\n",
       "     * Register the mime type and append_mime function with output_area\n",
       "     */\n",
       "    OutputArea.prototype.register_mime_type(EXEC_MIME_TYPE, append_mime, {\n",
       "      /* Is output safe? */\n",
       "      safe: true,\n",
       "      /* Index of renderer in `output_area.display_order` */\n",
       "      index: 0\n",
       "    });\n",
       "  }\n",
       "\n",
       "  // register the mime type if in Jupyter Notebook environment and previously unregistered\n",
       "  if (root.Jupyter !== undefined) {\n",
       "    var events = require('base/js/events');\n",
       "    var OutputArea = require('notebook/js/outputarea').OutputArea;\n",
       "\n",
       "    if (OutputArea.prototype.mime_types().indexOf(EXEC_MIME_TYPE) == -1) {\n",
       "      register_renderer(events, OutputArea);\n",
       "    }\n",
       "  }\n",
       "\n",
       "  \n",
       "  if (typeof (root._bokeh_timeout) === \"undefined\" || force === true) {\n",
       "    root._bokeh_timeout = Date.now() + 5000;\n",
       "    root._bokeh_failed_load = false;\n",
       "  }\n",
       "\n",
       "  var NB_LOAD_WARNING = {'data': {'text/html':\n",
       "     \"<div style='background-color: #fdd'>\\n\"+\n",
       "     \"<p>\\n\"+\n",
       "     \"BokehJS does not appear to have successfully loaded. If loading BokehJS from CDN, this \\n\"+\n",
       "     \"may be due to a slow or bad network connection. Possible fixes:\\n\"+\n",
       "     \"</p>\\n\"+\n",
       "     \"<ul>\\n\"+\n",
       "     \"<li>re-rerun `output_notebook()` to attempt to load from CDN again, or</li>\\n\"+\n",
       "     \"<li>use INLINE resources instead, as so:</li>\\n\"+\n",
       "     \"</ul>\\n\"+\n",
       "     \"<code>\\n\"+\n",
       "     \"from bokeh.resources import INLINE\\n\"+\n",
       "     \"output_notebook(resources=INLINE)\\n\"+\n",
       "     \"</code>\\n\"+\n",
       "     \"</div>\"}};\n",
       "\n",
       "  function display_loaded() {\n",
       "    var el = document.getElementById(\"7663b0a0-4efe-4880-b37e-5321c542a9aa\");\n",
       "    if (el != null) {\n",
       "      el.textContent = \"BokehJS is loading...\";\n",
       "    }\n",
       "    if (root.Bokeh !== undefined) {\n",
       "      if (el != null) {\n",
       "        el.textContent = \"BokehJS \" + root.Bokeh.version + \" successfully loaded.\";\n",
       "      }\n",
       "    } else if (Date.now() < root._bokeh_timeout) {\n",
       "      setTimeout(display_loaded, 100)\n",
       "    }\n",
       "  }\n",
       "\n",
       "\n",
       "  function run_callbacks() {\n",
       "    try {\n",
       "      root._bokeh_onload_callbacks.forEach(function(callback) { callback() });\n",
       "    }\n",
       "    finally {\n",
       "      delete root._bokeh_onload_callbacks\n",
       "    }\n",
       "    console.info(\"Bokeh: all callbacks have finished\");\n",
       "  }\n",
       "\n",
       "  function load_libs(js_urls, callback) {\n",
       "    root._bokeh_onload_callbacks.push(callback);\n",
       "    if (root._bokeh_is_loading > 0) {\n",
       "      console.log(\"Bokeh: BokehJS is being loaded, scheduling callback at\", now());\n",
       "      return null;\n",
       "    }\n",
       "    if (js_urls == null || js_urls.length === 0) {\n",
       "      run_callbacks();\n",
       "      return null;\n",
       "    }\n",
       "    console.log(\"Bokeh: BokehJS not loaded, scheduling load and callback at\", now());\n",
       "    root._bokeh_is_loading = js_urls.length;\n",
       "    for (var i = 0; i < js_urls.length; i++) {\n",
       "      var url = js_urls[i];\n",
       "      var s = document.createElement('script');\n",
       "      s.src = url;\n",
       "      s.async = false;\n",
       "      s.onreadystatechange = s.onload = function() {\n",
       "        root._bokeh_is_loading--;\n",
       "        if (root._bokeh_is_loading === 0) {\n",
       "          console.log(\"Bokeh: all BokehJS libraries loaded\");\n",
       "          run_callbacks()\n",
       "        }\n",
       "      };\n",
       "      s.onerror = function() {\n",
       "        console.warn(\"failed to load library \" + url);\n",
       "      };\n",
       "      console.log(\"Bokeh: injecting script tag for BokehJS library: \", url);\n",
       "      document.getElementsByTagName(\"head\")[0].appendChild(s);\n",
       "    }\n",
       "  };var element = document.getElementById(\"7663b0a0-4efe-4880-b37e-5321c542a9aa\");\n",
       "  if (element == null) {\n",
       "    console.log(\"Bokeh: ERROR: autoload.js configured with elementid '7663b0a0-4efe-4880-b37e-5321c542a9aa' but no matching script tag was found. \")\n",
       "    return false;\n",
       "  }\n",
       "\n",
       "  var js_urls = [\"https://cdn.pydata.org/bokeh/release/bokeh-0.12.14.min.js\", \"https://cdn.pydata.org/bokeh/release/bokeh-widgets-0.12.14.min.js\", \"https://cdn.pydata.org/bokeh/release/bokeh-tables-0.12.14.min.js\", \"https://cdn.pydata.org/bokeh/release/bokeh-gl-0.12.14.min.js\"];\n",
       "\n",
       "  var inline_js = [\n",
       "    function(Bokeh) {\n",
       "      Bokeh.set_log_level(\"info\");\n",
       "    },\n",
       "    \n",
       "    function(Bokeh) {\n",
       "      \n",
       "    },\n",
       "    function(Bokeh) {\n",
       "      console.log(\"Bokeh: injecting CSS: https://cdn.pydata.org/bokeh/release/bokeh-0.12.14.min.css\");\n",
       "      Bokeh.embed.inject_css(\"https://cdn.pydata.org/bokeh/release/bokeh-0.12.14.min.css\");\n",
       "      console.log(\"Bokeh: injecting CSS: https://cdn.pydata.org/bokeh/release/bokeh-widgets-0.12.14.min.css\");\n",
       "      Bokeh.embed.inject_css(\"https://cdn.pydata.org/bokeh/release/bokeh-widgets-0.12.14.min.css\");\n",
       "      console.log(\"Bokeh: injecting CSS: https://cdn.pydata.org/bokeh/release/bokeh-tables-0.12.14.min.css\");\n",
       "      Bokeh.embed.inject_css(\"https://cdn.pydata.org/bokeh/release/bokeh-tables-0.12.14.min.css\");\n",
       "    }\n",
       "  ];\n",
       "\n",
       "  function run_inline_js() {\n",
       "    \n",
       "    if ((root.Bokeh !== undefined) || (force === true)) {\n",
       "      for (var i = 0; i < inline_js.length; i++) {\n",
       "        inline_js[i].call(root, root.Bokeh);\n",
       "      }if (force === true) {\n",
       "        display_loaded();\n",
       "      }} else if (Date.now() < root._bokeh_timeout) {\n",
       "      setTimeout(run_inline_js, 100);\n",
       "    } else if (!root._bokeh_failed_load) {\n",
       "      console.log(\"Bokeh: BokehJS failed to load within specified timeout.\");\n",
       "      root._bokeh_failed_load = true;\n",
       "    } else if (force !== true) {\n",
       "      var cell = $(document.getElementById(\"7663b0a0-4efe-4880-b37e-5321c542a9aa\")).parents('.cell').data().cell;\n",
       "      cell.output_area.append_execute_result(NB_LOAD_WARNING)\n",
       "    }\n",
       "\n",
       "  }\n",
       "\n",
       "  if (root._bokeh_is_loading === 0) {\n",
       "    console.log(\"Bokeh: BokehJS loaded, going straight to plotting\");\n",
       "    run_inline_js();\n",
       "  } else {\n",
       "    load_libs(js_urls, function() {\n",
       "      console.log(\"Bokeh: BokehJS plotting callback run at\", now());\n",
       "      run_inline_js();\n",
       "    });\n",
       "  }\n",
       "}(window));"
      ],
      "application/vnd.bokehjs_load.v0+json": "\n(function(root) {\n  function now() {\n    return new Date();\n  }\n\n  var force = true;\n\n  if (typeof (root._bokeh_onload_callbacks) === \"undefined\" || force === true) {\n    root._bokeh_onload_callbacks = [];\n    root._bokeh_is_loading = undefined;\n  }\n\n  \n\n  \n  if (typeof (root._bokeh_timeout) === \"undefined\" || force === true) {\n    root._bokeh_timeout = Date.now() + 5000;\n    root._bokeh_failed_load = false;\n  }\n\n  var NB_LOAD_WARNING = {'data': {'text/html':\n     \"<div style='background-color: #fdd'>\\n\"+\n     \"<p>\\n\"+\n     \"BokehJS does not appear to have successfully loaded. If loading BokehJS from CDN, this \\n\"+\n     \"may be due to a slow or bad network connection. Possible fixes:\\n\"+\n     \"</p>\\n\"+\n     \"<ul>\\n\"+\n     \"<li>re-rerun `output_notebook()` to attempt to load from CDN again, or</li>\\n\"+\n     \"<li>use INLINE resources instead, as so:</li>\\n\"+\n     \"</ul>\\n\"+\n     \"<code>\\n\"+\n     \"from bokeh.resources import INLINE\\n\"+\n     \"output_notebook(resources=INLINE)\\n\"+\n     \"</code>\\n\"+\n     \"</div>\"}};\n\n  function display_loaded() {\n    var el = document.getElementById(\"7663b0a0-4efe-4880-b37e-5321c542a9aa\");\n    if (el != null) {\n      el.textContent = \"BokehJS is loading...\";\n    }\n    if (root.Bokeh !== undefined) {\n      if (el != null) {\n        el.textContent = \"BokehJS \" + root.Bokeh.version + \" successfully loaded.\";\n      }\n    } else if (Date.now() < root._bokeh_timeout) {\n      setTimeout(display_loaded, 100)\n    }\n  }\n\n\n  function run_callbacks() {\n    try {\n      root._bokeh_onload_callbacks.forEach(function(callback) { callback() });\n    }\n    finally {\n      delete root._bokeh_onload_callbacks\n    }\n    console.info(\"Bokeh: all callbacks have finished\");\n  }\n\n  function load_libs(js_urls, callback) {\n    root._bokeh_onload_callbacks.push(callback);\n    if (root._bokeh_is_loading > 0) {\n      console.log(\"Bokeh: BokehJS is being loaded, scheduling callback at\", now());\n      return null;\n    }\n    if (js_urls == null || js_urls.length === 0) {\n      run_callbacks();\n      return null;\n    }\n    console.log(\"Bokeh: BokehJS not loaded, scheduling load and callback at\", now());\n    root._bokeh_is_loading = js_urls.length;\n    for (var i = 0; i < js_urls.length; i++) {\n      var url = js_urls[i];\n      var s = document.createElement('script');\n      s.src = url;\n      s.async = false;\n      s.onreadystatechange = s.onload = function() {\n        root._bokeh_is_loading--;\n        if (root._bokeh_is_loading === 0) {\n          console.log(\"Bokeh: all BokehJS libraries loaded\");\n          run_callbacks()\n        }\n      };\n      s.onerror = function() {\n        console.warn(\"failed to load library \" + url);\n      };\n      console.log(\"Bokeh: injecting script tag for BokehJS library: \", url);\n      document.getElementsByTagName(\"head\")[0].appendChild(s);\n    }\n  };var element = document.getElementById(\"7663b0a0-4efe-4880-b37e-5321c542a9aa\");\n  if (element == null) {\n    console.log(\"Bokeh: ERROR: autoload.js configured with elementid '7663b0a0-4efe-4880-b37e-5321c542a9aa' but no matching script tag was found. \")\n    return false;\n  }\n\n  var js_urls = [\"https://cdn.pydata.org/bokeh/release/bokeh-0.12.14.min.js\", \"https://cdn.pydata.org/bokeh/release/bokeh-widgets-0.12.14.min.js\", \"https://cdn.pydata.org/bokeh/release/bokeh-tables-0.12.14.min.js\", \"https://cdn.pydata.org/bokeh/release/bokeh-gl-0.12.14.min.js\"];\n\n  var inline_js = [\n    function(Bokeh) {\n      Bokeh.set_log_level(\"info\");\n    },\n    \n    function(Bokeh) {\n      \n    },\n    function(Bokeh) {\n      console.log(\"Bokeh: injecting CSS: https://cdn.pydata.org/bokeh/release/bokeh-0.12.14.min.css\");\n      Bokeh.embed.inject_css(\"https://cdn.pydata.org/bokeh/release/bokeh-0.12.14.min.css\");\n      console.log(\"Bokeh: injecting CSS: https://cdn.pydata.org/bokeh/release/bokeh-widgets-0.12.14.min.css\");\n      Bokeh.embed.inject_css(\"https://cdn.pydata.org/bokeh/release/bokeh-widgets-0.12.14.min.css\");\n      console.log(\"Bokeh: injecting CSS: https://cdn.pydata.org/bokeh/release/bokeh-tables-0.12.14.min.css\");\n      Bokeh.embed.inject_css(\"https://cdn.pydata.org/bokeh/release/bokeh-tables-0.12.14.min.css\");\n    }\n  ];\n\n  function run_inline_js() {\n    \n    if ((root.Bokeh !== undefined) || (force === true)) {\n      for (var i = 0; i < inline_js.length; i++) {\n        inline_js[i].call(root, root.Bokeh);\n      }if (force === true) {\n        display_loaded();\n      }} else if (Date.now() < root._bokeh_timeout) {\n      setTimeout(run_inline_js, 100);\n    } else if (!root._bokeh_failed_load) {\n      console.log(\"Bokeh: BokehJS failed to load within specified timeout.\");\n      root._bokeh_failed_load = true;\n    } else if (force !== true) {\n      var cell = $(document.getElementById(\"7663b0a0-4efe-4880-b37e-5321c542a9aa\")).parents('.cell').data().cell;\n      cell.output_area.append_execute_result(NB_LOAD_WARNING)\n    }\n\n  }\n\n  if (root._bokeh_is_loading === 0) {\n    console.log(\"Bokeh: BokehJS loaded, going straight to plotting\");\n    run_inline_js();\n  } else {\n    load_libs(js_urls, function() {\n      console.log(\"Bokeh: BokehJS plotting callback run at\", now());\n      run_inline_js();\n    });\n  }\n}(window));"
     },
     "metadata": {},
     "output_type": "display_data"
    }
   ],
   "source": [
    "output_notebook()"
   ]
  },
  {
   "cell_type": "code",
   "execution_count": 8,
   "metadata": {
    "collapsed": true
   },
   "outputs": [],
   "source": [
    "def fmt_cool(ds_in):\n",
    "    ds = ds_in.copy(deep=True)\n",
    "    if 'igg' in ds.dims:\n",
    "        ds = ds.sel(igg=1)\n",
    "\n",
    "    if 'g' in ds.dims:\n",
    "        ds = ds.sum('g')\n",
    "            \n",
    "    if 'band' in ds.dims:\n",
    "        try:\n",
    "            ds = ds.squeeze('band')\n",
    "        except ValueError:\n",
    "            ds = ds.sum('band')\n",
    "                \n",
    "    return ds['coolrg']\n",
    "\n",
    "\n",
    "def pltdata_cooling_1(ds_cool=None,\n",
    "                      ds_cool_crd=None, ds_cool_wgt=None):\n",
    "    \n",
    "\n",
    "\n",
    "    colors = all_palettes['Set1'][4]\n",
    "    data = [{'label': 'CLIRAD `coolr_bands`',\n",
    "             'srs': fmt_cool(ds_cool),\n",
    "             'line_dash': 'dashed', 'line_width': 5,\n",
    "             'color': colors[0], 'alpha': .6},\n",
    "            {'label': 'CRD',\n",
    "             'srs': fmt_cool(ds_cool_crd),\n",
    "             'line_dash': 'solid', 'line_width': 1.5,\n",
    "             'marker': 'circle', 'marker_size': 5,\n",
    "             'color': colors[2], 'alpha': 1,},\n",
    "            {'label': 'WGT igg=10 wgt_flux=2',\n",
    "             'srs': fmt_cool(ds_cool_wgt),\n",
    "             'line_dash': 'solid', 'line_width': 3,\n",
    "             'marker': 'square', 'marker_size': 5,\n",
    "             'color': colors[3], 'alpha': .6}]\n",
    "    return data\n",
    "\n",
    "\n",
    "def nice_xlims(pltdata=None, prange=None):\n",
    "    \n",
    "    def get_slice(srs):\n",
    "        return srs.sel(pressure=slice(*prange))\n",
    "    \n",
    "    srss = [d['srs'] for d in pltdata]\n",
    "    vmin = min([get_slice(srs).min() for srs in srss])\n",
    "    vmax = max([get_slice(srs).max() for srs in srss])\n",
    "    dv = (vmax - vmin) * .01\n",
    "    return float(vmin - dv), float(vmax + dv)\n",
    "    \n",
    "\n",
    "def plt_cooling_bokeh(pltdata=None):\n",
    "    '''\n",
    "    Plot a list of cooling rate profiles using bokeh.\n",
    "    '''\n",
    "    ymin = 1e-2 \n",
    "    ymax = 1020 \n",
    "        \n",
    "    p1 = figure(title=\"Linear pressure scale\", \n",
    "                plot_width=400)        \n",
    "    xmin, xmax = nice_xlims(pltdata, prange=(50, 1050))\n",
    "    for d in pltdata:\n",
    "        if 'marker' in d:\n",
    "            getattr(p1, d['marker'])(d['srs'].values, \n",
    "                    d['srs'].coords['pressure'].values,\n",
    "                    color=d['color'], alpha=.7)\n",
    "        p1.line(d['srs'].values, \n",
    "                d['srs'].coords['pressure'].values,\n",
    "                color=d['color'], alpha=d['alpha'], \n",
    "                line_width=d['line_width'], line_dash=d['line_dash'])\n",
    "    \n",
    "    p1.y_range = Range1d(ymax, ymin)\n",
    "    p1.yaxis.axis_label = 'pressure [mb]'   \n",
    "    p1.x_range = Range1d(xmin, xmax)\n",
    "    p1.xaxis.axis_label = 'cooling rate [K/day]'\n",
    "            \n",
    "    p2 = figure(title='Log pressure scale', y_axis_type='log',\n",
    "                plot_width=560)\n",
    "    xmin, xmax = nice_xlims(pltdata, prange=(.01, 200))\n",
    "    \n",
    "    rs = []\n",
    "    for d in pltdata:\n",
    "        rd = []\n",
    "        if 'marker' in d:\n",
    "            r_mark = getattr(p2, d['marker'])(d['srs'].values, \n",
    "                        d['srs'].coords['pressure'].values,\n",
    "                        color=d['color'], alpha=.7)\n",
    "            rd.append(r_mark)\n",
    "        r_line = p2.line(d['srs'].values, \n",
    "                    d['srs'].coords['pressure'].values,\n",
    "                    color=d['color'], alpha=d['alpha'], \n",
    "                    line_width=d['line_width'], line_dash=d['line_dash'])\n",
    "        rd.append(r_line)\n",
    "      \n",
    "        rs.append(rd)\n",
    "        \n",
    "    p2.y_range = Range1d(ymax, ymin)  \n",
    "    p2.yaxis.axis_label = 'pressure [mb]'\n",
    "    \n",
    "    p2.x_range = Range1d(xmin, xmax)\n",
    "    p2.xaxis.axis_label = 'cooling rate [K/day]'\n",
    "    \n",
    "    items = [(d['label'], r) for r, d in zip(rs, pltdata)]\n",
    "    legend = Legend(items=items, location=(10, -30))\n",
    "    legend.label_text_font_size = '8pt'\n",
    "    \n",
    "    p2.add_layout(legend, 'right')  \n",
    "    \n",
    "    show(gridplot(p1, p2, ncols=2, plot_height=500))\n",
    "    \n",
    "\n",
    "def script_plt_cooling():\n",
    "    pltdata = pltdata_cooling_1(\n",
    "        ds_cool=DS_COOL,\n",
    "        ds_cool_crd=DS_COOL_CRD,\n",
    "        ds_cool_wgt=DS_COOL_WGT)\n",
    "    plt_cooling_bokeh(pltdata=pltdata)\n",
    "    print('''FIGURE. Cooling rate profiles.''')"
   ]
  },
  {
   "cell_type": "code",
   "execution_count": 9,
   "metadata": {
    "collapsed": true
   },
   "outputs": [],
   "source": [
    "def fmt_flux(ds_in):\n",
    "    ds = ds_in.copy(deep=True)\n",
    "    \n",
    "    for l in ('level', 'layer'):\n",
    "        if l in ds.data_vars:\n",
    "            if len(ds[l].dims) > 1:\n",
    "                surface = {d: 0 for d in ds.dims if d != 'pressure'}\n",
    "                coord_level = ds[l][surface]\n",
    "                ds.coords[l] = ('pressure', coord_level)\n",
    "            else:\n",
    "                ds.coords[l] = ('pressure', ds[l])\n",
    "        \n",
    "    ds = ds.isel(pressure=[0, 23, -1])\n",
    "        \n",
    "    if 'igg' in ds.dims:\n",
    "        ds = ds.sel(igg=[1])\n",
    "        ds = ds.squeeze('igg').drop('igg')\n",
    "    \n",
    "    if 'g' in ds.dims:\n",
    "        ds = ds.sum('g')\n",
    "            \n",
    "    if 'band' in ds.dims:\n",
    "        try:\n",
    "            ds = ds.squeeze('band').drop('band')\n",
    "        except ValueError:\n",
    "            ds = ds.sum('band')\n",
    "                \n",
    "    df = ds.to_dataframe()\n",
    "    df = df.set_index('level', append=True)               \n",
    "    return df\n",
    "\n",
    "\n",
    "def tbdata_flux(ds_flux=None, ds_flux_crd=None, ds_flux_wgt=None):\n",
    "    ilevels = [0, 23, -1]\n",
    "            \n",
    "    benchmark = {'label': 'WGT igg=10 wgt_flux=1',\n",
    "                 'df': fmt_flux(ds_flux_wgt)}\n",
    "    \n",
    "    tbs = [{'label': 'CRD',\n",
    "            'df': fmt_flux(ds_flux_crd)},\n",
    "           {'label': 'CLIRAD',\n",
    "            'df': fmt_flux(ds_flux)}]\n",
    "    \n",
    "    data = {'benchmark': benchmark, 'others': tbs}\n",
    "    return data\n",
    "\n",
    "\n",
    "def tb_flux(tbdata=None):\n",
    "    benchmark = tbdata['benchmark']\n",
    "    others = tbdata['others']\n",
    "    \n",
    "    def show_tb(d=None):\n",
    "        display.display(d['df'])\n",
    "        print('Table.', 'Fluxes.', d['label'])\n",
    "        \n",
    "    def show_tbdiff(d0=None, d=None):\n",
    "        df = d['df']\n",
    "        df.index = d0['df'].index\n",
    "        display.display(df - d0['df'])\n",
    "        print('Table.', 'Fluxes.', \n",
    "              '({}) - ({})'.format(d['label'], d0['label']))\n",
    "        \n",
    "    show_tb(benchmark)\n",
    "    for d in others:\n",
    "        show_tb(d)\n",
    "        \n",
    "    for d in others:\n",
    "        show_tbdiff(d=d, d0=benchmark)\n",
    "        \n",
    "        \n",
    "def script_tb_flux():\n",
    "    data = tbdata_flux(ds_flux=DS_FLUX,\n",
    "                       ds_flux_crd=DS_FLUX_CRD,\n",
    "                       ds_flux_wgt=DS_FLUX_WGT)\n",
    "    tb_flux(tbdata=data)"
   ]
  },
  {
   "cell_type": "code",
   "execution_count": 10,
   "metadata": {
    "collapsed": true
   },
   "outputs": [],
   "source": [
    "def band_map():\n",
    "    '''\n",
    "    Maps spectral bands in lblnew to spectral bands in clirad.\n",
    "    '''\n",
    "    lblnew2clirad = {'1': '1',\n",
    "            '2': '2',\n",
    "            '3a': '3',\n",
    "            '3b': '4',\n",
    "            '3c': '5',\n",
    "            '4': '6', \n",
    "            '5': '7',\n",
    "            '6': '8',\n",
    "            '7': '9', \n",
    "            '8': '10',\n",
    "            '9': '11'}\n",
    "    \n",
    "    clirad2lblnew = {clirad: lblnew \n",
    "                     for lblnew, clirad in lblnew2clirad.items()}\n",
    "    return clirad2lblnew\n",
    "\n",
    "\n",
    "def gasbands():\n",
    "    bmap = band_map()\n",
    "    gases = list(PARAM['molecule'].keys())\n",
    "    \n",
    "    bands = [bmap[str(b)] for b in PARAM['band']]\n",
    "    return list(itertools.product(gases, bands))\n",
    "\n",
    "\n",
    "def print_bestfit_params():\n",
    "    print('Best-fit values for each (gas, band)')\n",
    "    print('------------------------------------')\n",
    "    for gas, band in gasbands():\n",
    "        print('o {} band{}'.format(gas, band))\n",
    "        param = bestfits.kdist_params(molecule=gas, band=band)\n",
    "        for name, value in param.items():\n",
    "            print(2 * ' ' + '{} = {}'.format(name, value))\n",
    "\n",
    "        \n",
    "def print_input_param():        \n",
    "    for name, value in PARAM.items():\n",
    "        print('{} = {}'.format(name, value))\n",
    "        \n",
    "        \n",
    "def print_lblnew_param():\n",
    "    for name, value in PARAM_LBLNEW.items():\n",
    "        print('{} = {}'.format(name, value))\n"
   ]
  },
  {
   "cell_type": "code",
   "execution_count": 11,
   "metadata": {
    "collapsed": true,
    "scrolled": false
   },
   "outputs": [],
   "source": [
    "def show_html(s):\n",
    "    display.display(display.HTML(s))\n",
    "\n",
    "    \n",
    "def show_markdown(s):\n",
    "    display.display(display.Markdown(s))\n",
    "\n",
    "    \n",
    "def script():\n",
    "    \n",
    "    title = '### CLIRAD-LW'\n",
    "    s_input = 'Input Parameters'\n",
    "    s_lblnew_param = 'LBLNEW case compaired against'\n",
    "    s_bestfits = 'Best-fit Parameters'\n",
    "    s_plt_cooling = 'Cooling Rate Profiles'\n",
    "    s_tb_flux = 'Flux Comparison'\n",
    "    \n",
    "    # title\n",
    "    show_markdown('### CLIRAD-LW')\n",
    "    \n",
    "    # TOC\n",
    "    show_markdown('### Table of Contents')\n",
    "    show_html(climahtml.getHTML_hrefanchor(s_input))\n",
    "    show_html(climahtml.getHTML_hrefanchor(s_lblnew_param))\n",
    "    show_html(climahtml.getHTML_hrefanchor(s_plt_cooling))\n",
    "    show_html(climahtml.getHTML_hrefanchor(s_tb_flux))\n",
    "    show_html(climahtml.getHTML_hrefanchor(s_bestfits))\n",
    "    \n",
    "    # Input parameters\n",
    "    show_html(climahtml.getHTML_idanchor(s_input))\n",
    "    show_markdown(climahtml.getMarkdown_sectitle(s_input))\n",
    "    print_input_param()\n",
    "    \n",
    "    # LBLNEW parameters \n",
    "    show_html(climahtml.getHTML_idanchor(s_lblnew_param))\n",
    "    show_markdown(climahtml.getMarkdown_sectitle(s_lblnew_param))\n",
    "    print_lblnew_param()\n",
    "    \n",
    "    # Cooling rate profiles\n",
    "    show_html(climahtml.getHTML_idanchor(s_plt_cooling))\n",
    "    show_markdown(climahtml.getMarkdown_sectitle(s_plt_cooling))\n",
    "    script_plt_cooling()\n",
    "    \n",
    "    # Flux comparison\n",
    "    show_html(climahtml.getHTML_idanchor(s_tb_flux))\n",
    "    show_markdown(climahtml.getMarkdown_sectitle(s_tb_flux))\n",
    "    script_tb_flux()\n",
    "    \n",
    "    # Best-fit values\n",
    "    show_html(climahtml.getHTML_idanchor(s_bestfits))\n",
    "    show_markdown(climahtml.getMarkdown_sectitle(s_bestfits))\n",
    "    print_bestfit_params()\n",
    "   \n",
    "    "
   ]
  },
  {
   "cell_type": "code",
   "execution_count": 12,
   "metadata": {
    "scrolled": false
   },
   "outputs": [
    {
     "data": {
      "text/markdown": [
       "### CLIRAD-LW"
      ],
      "text/plain": [
       "<IPython.core.display.Markdown object>"
      ]
     },
     "metadata": {},
     "output_type": "display_data"
    },
    {
     "data": {
      "text/markdown": [
       "### Table of Contents"
      ],
      "text/plain": [
       "<IPython.core.display.Markdown object>"
      ]
     },
     "metadata": {},
     "output_type": "display_data"
    },
    {
     "data": {
      "text/html": [
       "<a href=\"#Input_Parameters\">Input Parameters</a>"
      ],
      "text/plain": [
       "<IPython.core.display.HTML object>"
      ]
     },
     "metadata": {},
     "output_type": "display_data"
    },
    {
     "data": {
      "text/html": [
       "<a href=\"#LBLNEW_case_compaired_against\">LBLNEW case compaired against</a>"
      ],
      "text/plain": [
       "<IPython.core.display.HTML object>"
      ]
     },
     "metadata": {},
     "output_type": "display_data"
    },
    {
     "data": {
      "text/html": [
       "<a href=\"#Cooling_Rate_Profiles\">Cooling Rate Profiles</a>"
      ],
      "text/plain": [
       "<IPython.core.display.HTML object>"
      ]
     },
     "metadata": {},
     "output_type": "display_data"
    },
    {
     "data": {
      "text/html": [
       "<a href=\"#Flux_Comparison\">Flux Comparison</a>"
      ],
      "text/plain": [
       "<IPython.core.display.HTML object>"
      ]
     },
     "metadata": {},
     "output_type": "display_data"
    },
    {
     "data": {
      "text/html": [
       "<a href=\"#Best-fit_Parameters\">Best-fit Parameters</a>"
      ],
      "text/plain": [
       "<IPython.core.display.HTML object>"
      ]
     },
     "metadata": {},
     "output_type": "display_data"
    },
    {
     "data": {
      "text/html": [
       "<a id=\"Input_Parameters\"></a>"
      ],
      "text/plain": [
       "<IPython.core.display.HTML object>"
      ]
     },
     "metadata": {},
     "output_type": "display_data"
    },
    {
     "data": {
      "text/markdown": [
       "# Input Parameters"
      ],
      "text/plain": [
       "<IPython.core.display.Markdown object>"
      ]
     },
     "metadata": {},
     "output_type": "display_data"
    },
    {
     "name": "stdout",
     "output_type": "stream",
     "text": [
      "atmpro = mls\n",
      "band = [11]\n",
      "commitnumber = commitnumber\n",
      "molecule = {'h2o': 'atmpro', 'co2': 0.0004}\n",
      "tsfc = 294\n"
     ]
    },
    {
     "data": {
      "text/html": [
       "<a id=\"LBLNEW_case_compaired_against\"></a>"
      ],
      "text/plain": [
       "<IPython.core.display.HTML object>"
      ]
     },
     "metadata": {},
     "output_type": "display_data"
    },
    {
     "data": {
      "text/markdown": [
       "# LBLNEW case compaired against"
      ],
      "text/plain": [
       "<IPython.core.display.Markdown object>"
      ]
     },
     "metadata": {},
     "output_type": "display_data"
    },
    {
     "name": "stdout",
     "output_type": "stream",
     "text": [
      "atmpro = mls\n",
      "band = 9\n",
      "commitnumber = 8ba2806\n",
      "dv = 0.001\n",
      "molecule = {'co2': 0.0004, 'h2o': 'atmpro'}\n",
      "nv = 1000\n",
      "tsfc = 294\n"
     ]
    },
    {
     "data": {
      "text/html": [
       "<a id=\"Cooling_Rate_Profiles\"></a>"
      ],
      "text/plain": [
       "<IPython.core.display.HTML object>"
      ]
     },
     "metadata": {},
     "output_type": "display_data"
    },
    {
     "data": {
      "text/markdown": [
       "# Cooling Rate Profiles"
      ],
      "text/plain": [
       "<IPython.core.display.Markdown object>"
      ]
     },
     "metadata": {},
     "output_type": "display_data"
    },
    {
     "data": {
      "text/html": [
       "\n",
       "<div class=\"bk-root\">\n",
       "    <div class=\"bk-plotdiv\" id=\"2231eafe-26d2-4a54-83b8-67e7efd9a7da\"></div>\n",
       "</div>"
      ]
     },
     "metadata": {},
     "output_type": "display_data"
    },
    {
     "data": {
      "application/javascript": [
       "(function(root) {\n",
       "  function embed_document(root) {\n",
       "    \n",
       "  var docs_json = {\"2a89fc24-9e94-448b-8807-3a1f9c5e9877\":{\"roots\":{\"references\":[{\"attributes\":{\"below\":[{\"id\":\"5f1dd477-f872-4eb4-baec-a405672028ba\",\"type\":\"LinearAxis\"}],\"left\":[{\"id\":\"f63b5ebb-b782-4655-8812-fe6562777ea3\",\"type\":\"LinearAxis\"}],\"plot_height\":500,\"plot_width\":400,\"renderers\":[{\"id\":\"5f1dd477-f872-4eb4-baec-a405672028ba\",\"type\":\"LinearAxis\"},{\"id\":\"cc5089ad-67bd-439f-8cc0-21f1a72c1029\",\"type\":\"Grid\"},{\"id\":\"f63b5ebb-b782-4655-8812-fe6562777ea3\",\"type\":\"LinearAxis\"},{\"id\":\"995ca03f-8b87-4d4b-9eb2-1608c8b8a43d\",\"type\":\"Grid\"},{\"id\":\"a5ec5361-159e-4562-8280-359514a07a02\",\"type\":\"BoxAnnotation\"},{\"id\":\"aa0502a4-a6e4-4f9c-ac6d-07e5f1c6920c\",\"type\":\"GlyphRenderer\"},{\"id\":\"a935ca62-4b54-4c44-aff3-6eef5793437c\",\"type\":\"GlyphRenderer\"},{\"id\":\"b8961434-27d6-4886-bfa5-df1542fcdb78\",\"type\":\"GlyphRenderer\"},{\"id\":\"aa4ddeed-ba83-42cd-aa4f-fdd0098ca898\",\"type\":\"GlyphRenderer\"},{\"id\":\"31f19708-766b-4b2e-bdfb-98feedad123d\",\"type\":\"GlyphRenderer\"}],\"title\":{\"id\":\"204f162f-0fb1-42db-adf9-917c48d40d31\",\"type\":\"Title\"},\"toolbar\":{\"id\":\"57fae506-3e3c-4a01-b937-45c7c5820f65\",\"type\":\"Toolbar\"},\"toolbar_location\":null,\"x_range\":{\"id\":\"bafa5539-a273-4380-99fe-e2074ce71871\",\"type\":\"Range1d\"},\"x_scale\":{\"id\":\"b905df5c-0eaa-4e06-9897-659a973ffe04\",\"type\":\"LinearScale\"},\"y_range\":{\"id\":\"f83f8f94-3e3d-4f3e-84eb-218785674a40\",\"type\":\"Range1d\"},\"y_scale\":{\"id\":\"6496689f-ba7a-4709-82eb-af28b04121bf\",\"type\":\"LinearScale\"}},\"id\":\"e83a530c-0c70-4269-bd68-7d80b276988d\",\"subtype\":\"Figure\",\"type\":\"Plot\"},{\"attributes\":{\"source\":{\"id\":\"5fcc0ea9-63a4-46b6-894d-9eb5a376b5f9\",\"type\":\"ColumnDataSource\"}},\"id\":\"bae7682e-1187-4ba6-98a5-4c73dea8ecfd\",\"type\":\"CDSView\"},{\"attributes\":{\"line_color\":\"#4daf4a\",\"line_width\":1.5,\"x\":{\"field\":\"x\"},\"y\":{\"field\":\"y\"}},\"id\":\"7ba28e10-71ef-4d09-b4c4-b09e592966b2\",\"type\":\"Line\"},{\"attributes\":{\"dimension\":1,\"plot\":{\"id\":\"e83a530c-0c70-4269-bd68-7d80b276988d\",\"subtype\":\"Figure\",\"type\":\"Plot\"},\"ticker\":{\"id\":\"adac22c1-af70-4fe2-b9bb-62b7cf8ad7b4\",\"type\":\"BasicTicker\"}},\"id\":\"995ca03f-8b87-4d4b-9eb2-1608c8b8a43d\",\"type\":\"Grid\"},{\"attributes\":{\"callback\":null,\"column_names\":[\"x\",\"y\"],\"data\":{\"x\":{\"__ndarray__\":\"95vDlMzawD9U4j5aqjeEPwX9/VH4zXg/V7xLgF7TUz+eyDMyP2xuv5X1Dd/R5YC/mq0aVoHyiL8d9a9jXnKQv6X1SmixZZS/M/VutxqVmL9z1cB/iEedvxYswSHVKaG/CiWgfT1DpL+TzBWeynupv8tZCg5Qlq+/X449zHXSsL+WoTFgt3Kvv2s2M1OKuKy/klAy7Sbupr8MhzErDHiWv4gaO5eYHZY/nQvIAzaMvj8pkq8EUmLRP6lzf9SqRtE/DDl885dtwz9slSt/aC21P5WExVrcfKc/+XQrOkg+mT+BVgUPeAWLP87LOHjsiHs/X5Q1bex5Yj++1f8rUVZEv8/Z2OazNVO/4FGUK845SL/T0lPt6IVLv6WgjE5ls1S/DAfyj6bRV7+lx9n2qapYv+wwCYNpEmC/QHlWFcxmZr9NUN15dsJpv6b8cg4oIGi/Kkf/DvdfZ7+kCvK3JYBnv614dRbOEWi/PdxOlvMwaL8BheMCoxVnvxlfi0jarmS/3PgGawvrYL8V0tNko4NXv4gHG4CTlUW/vCeC+vsiLD/jLqhSH39TPzBZHJsLxmI/JSlMQwQIbT8bFmBtvml0P6lvInykT3s/NhwUYUMvgj9zDyU0K9aGP3WO/B8ydYs/XQPKwrEQkD8HH1fe5nGSP69QPhnw7ZQ/Ud1Apz6Vlz9t4S0bk4GaPzB86ZIW050/mlGEuJi9oD+a3C9su3OiPy6GehOmnKM/PPOJdPMYpD+sX3RvAUWkP5BJz78gk6Q/UNFMiJ1PpT+ArIkABemmP748iJD/ca4/\",\"dtype\":\"float64\",\"shape\":[75]},\"y\":{\"__ndarray__\":\"GhExyth1ND/Sv8nbtpRIP2vylNV0PVE/aTum7souWD/At0SJ8fVgPw3Iuahxymc/MSNhhJWvcD/bTfBN02d3P2zb5nxnaoA/CD5h5MAGhz8NmeH1TyaQP+zrCsc9p5Y/LbKd76fGnz/bLW5ISEmmPww9YvTcQq8/JV2OstnstT8Er5Y7M8G+P0c+r3jqkcU/5h99k6ZBzj88bCIzFzjVP4enV8oyxN0//yH99nXg5D8qOpLLf0jtP5kqGJXUifQ/c9cS8kHP/D+/DpwzojQEQIEmwoanVwxA4lgXt9HgE0BSSZ2AJuIbQAMJih9jjiNA5q4l5INuK0AwTKYKRj0zQNv5fmq8/DpAaCJseHrtQkB/+zpwzoxKQM3MzMzMeFJAZmZmZmZqWEAAAAAAAFxeQM3MzMzMJmJAmpmZmZkfZUBmZmZmZhhoQDMzMzMzEWtAAAAAAAAKbkBmZmZmZoFwQM3MzMzM/XFAMzMzMzN6c0CamZmZmfZ0QAAAAAAAc3ZAZmZmZmbvd0DNzMzMzGt5QDMzMzMz6HpAmpmZmZlkfEAAAAAAAOF9QGZmZmZmXX9AZmZmZuZsgECamZmZGSuBQM3MzMxM6YFAAAAAAICngkAzMzMzs2WDQGZmZmbmI4RAmpmZmRnihEDNzMzMTKCFQAAAAACAXoZAMzMzM7Mch0BmZmZm5tqHQJqZmZkZmYhAzczMzExXiUAAAAAAgBWKQDMzMzOz04pAZmZmZuaRi0CamZmZGVCMQM3MzMxMDo1AAAAAAIDMjUAzMzMzs4qOQGZmZmbmSI9A\",\"dtype\":\"float64\",\"shape\":[75]}}},\"id\":\"5fcc0ea9-63a4-46b6-894d-9eb5a376b5f9\",\"type\":\"ColumnDataSource\"},{\"attributes\":{\"data_source\":{\"id\":\"46d7ab84-a49d-4747-aed6-41ff2e4bff36\",\"type\":\"ColumnDataSource\"},\"glyph\":{\"id\":\"209ee3f6-81d6-4233-9a70-5dfb26387dd5\",\"type\":\"Line\"},\"hover_glyph\":null,\"muted_glyph\":null,\"nonselection_glyph\":{\"id\":\"96775d6f-fad8-4606-b881-3e3f0390c69d\",\"type\":\"Line\"},\"selection_glyph\":null,\"view\":{\"id\":\"901d6e0e-0254-4320-845f-e4186725d40e\",\"type\":\"CDSView\"}},\"id\":\"aa0502a4-a6e4-4f9c-ac6d-07e5f1c6920c\",\"type\":\"GlyphRenderer\"},{\"attributes\":{},\"id\":\"b905df5c-0eaa-4e06-9897-659a973ffe04\",\"type\":\"LinearScale\"},{\"attributes\":{\"data_source\":{\"id\":\"5fcc0ea9-63a4-46b6-894d-9eb5a376b5f9\",\"type\":\"ColumnDataSource\"},\"glyph\":{\"id\":\"7ba28e10-71ef-4d09-b4c4-b09e592966b2\",\"type\":\"Line\"},\"hover_glyph\":null,\"muted_glyph\":null,\"nonselection_glyph\":{\"id\":\"8b519756-4ece-495b-9e49-7db2eff79e8a\",\"type\":\"Line\"},\"selection_glyph\":null,\"view\":{\"id\":\"bae7682e-1187-4ba6-98a5-4c73dea8ecfd\",\"type\":\"CDSView\"}},\"id\":\"6c31fc19-f4b4-4a99-b02e-0a3c8ce61587\",\"type\":\"GlyphRenderer\"},{\"attributes\":{\"callback\":null,\"end\":0.01,\"start\":1020},\"id\":\"f83f8f94-3e3d-4f3e-84eb-218785674a40\",\"type\":\"Range1d\"},{\"attributes\":{\"line_alpha\":0.1,\"line_color\":\"#1f77b4\",\"line_dash\":[6],\"line_width\":5,\"x\":{\"field\":\"x\"},\"y\":{\"field\":\"y\"}},\"id\":\"96775d6f-fad8-4606-b881-3e3f0390c69d\",\"type\":\"Line\"},{\"attributes\":{\"active_drag\":\"auto\",\"active_inspect\":\"auto\",\"active_scroll\":\"auto\",\"active_tap\":\"auto\",\"tools\":[{\"id\":\"e9f7d3b2-9511-48a0-b6b8-8d1200b303ec\",\"type\":\"PanTool\"},{\"id\":\"e24fa9c3-a010-4197-946d-d34524c9ae1d\",\"type\":\"WheelZoomTool\"},{\"id\":\"aa2cc54e-8ea4-45ca-bccd-045301f0574e\",\"type\":\"BoxZoomTool\"},{\"id\":\"1ea543cf-662b-44ed-85e6-3e3ce433376d\",\"type\":\"SaveTool\"},{\"id\":\"9e0d555a-bb51-4b82-836a-024d87b46d11\",\"type\":\"ResetTool\"},{\"id\":\"f14c8e33-b649-4e7c-908f-51ddbfb6f8f7\",\"type\":\"HelpTool\"}]},\"id\":\"57fae506-3e3c-4a01-b937-45c7c5820f65\",\"type\":\"Toolbar\"},{\"attributes\":{\"data_source\":{\"id\":\"58f62da0-a340-433d-8705-d6a6e14cb0b2\",\"type\":\"ColumnDataSource\"},\"glyph\":{\"id\":\"70769f0f-1eba-4b45-ba20-aa8fa02f88dc\",\"type\":\"Line\"},\"hover_glyph\":null,\"muted_glyph\":null,\"nonselection_glyph\":{\"id\":\"5fc58b53-dbe6-45c2-9099-50292abc6b9e\",\"type\":\"Line\"},\"selection_glyph\":null,\"view\":{\"id\":\"173946ab-7555-4b3e-a5ef-ccb87b1ce2f3\",\"type\":\"CDSView\"}},\"id\":\"fe3ca7d2-a693-470e-877f-413ea321eb93\",\"type\":\"GlyphRenderer\"},{\"attributes\":{\"line_alpha\":0.1,\"line_color\":\"#1f77b4\",\"line_width\":1.5,\"x\":{\"field\":\"x\"},\"y\":{\"field\":\"y\"}},\"id\":\"8b519756-4ece-495b-9e49-7db2eff79e8a\",\"type\":\"Line\"},{\"attributes\":{\"callback\":null,\"column_names\":[\"x\",\"y\"],\"data\":{\"x\":{\"__ndarray__\":\"D4285jTP0T+JI6dgoRe1P1HIVBWoMqc/QDDQgD3QjT9jl4IXeEyHv8kQqWReGZy/ACZ7FEZkor8mKxJV8MKjv9ay2M1cRaS/e9GOg2Gsor8rfRECLNGnv+7N4e1QM6e/zhkPvkk2qb/I4PY+NHevvy8hidgMYrK/G5arxOFxsr98zurYmSatv0EyFcn016S/NzZKfaohl7+N9AVCzr9LvzglwLO0iJ0/z4cE33aZuj+Vqh9hOT7OPxjGJ650CM8/2OPwD3yIxD9JgP2EcT+7P3CeLq6YYbA/QQ5wXwyHnz+c86zUTvWFP8wlUUe5z3A/CWoTR+D/bj8TEm7UOAtjPwccYC2cSkc/iQr8uY2zNb/8/h2u7ZZRvySy6MVkxFm/zUBqtbX1W798qkaU1h1bv4b1sUg0/WG/yNz06L9nab8UqVk1Qh5tv7vdnUWHcWu/cqJYzNo2bL+tKReBbVhtvyXdJyuscm6/RFSGzV4/br+xoAI5B5xsv1leK30+zGq/jjw/bZWeaL/W9ZqOHzJlvzrULQL1u1+/0z4zT4mHUr/NUwxMfcEZP4qSh/uMb1Y/TrHUPaXYZz/zGv1gxxxzPz3FZW0353o/4P510QRIgj/gSzdCbNSGP40RVlEmr4o/ZjVxM1sAjj8PWPWWy3aQPxrOn7BwBJI/vnUcRA3Ukz/WVW93UDWWP2nlQgsnbpk/1Tvu8chznT+ZC+BWD9KgPyI4M5xgb6I/mhcEr8Z0oz80siks+DqkP6qCmB4pL6U/JD77uqFjpj9hjWKiCWCoP181j/ZRI7A/\",\"dtype\":\"float64\",\"shape\":[75]},\"y\":{\"__ndarray__\":\"GhExyth1ND/Sv8nbtpRIP2vylNV0PVE/aTum7souWD/At0SJ8fVgPw3Iuahxymc/MSNhhJWvcD/bTfBN02d3P2zb5nxnaoA/CD5h5MAGhz8NmeH1TyaQP+zrCsc9p5Y/LbKd76fGnz/bLW5ISEmmPww9YvTcQq8/JV2OstnstT8Er5Y7M8G+P0c+r3jqkcU/5h99k6ZBzj88bCIzFzjVP4enV8oyxN0//yH99nXg5D8qOpLLf0jtP5kqGJXUifQ/c9cS8kHP/D+/DpwzojQEQIEmwoanVwxA4lgXt9HgE0BSSZ2AJuIbQAMJih9jjiNA5q4l5INuK0AwTKYKRj0zQNv5fmq8/DpAaCJseHrtQkB/+zpwzoxKQM3MzMzMeFJAZmZmZmZqWEAAAAAAAFxeQM3MzMzMJmJAmpmZmZkfZUBmZmZmZhhoQDMzMzMzEWtAAAAAAAAKbkBmZmZmZoFwQM3MzMzM/XFAMzMzMzN6c0CamZmZmfZ0QAAAAAAAc3ZAZmZmZmbvd0DNzMzMzGt5QDMzMzMz6HpAmpmZmZlkfEAAAAAAAOF9QGZmZmZmXX9AZmZmZuZsgECamZmZGSuBQM3MzMxM6YFAAAAAAICngkAzMzMzs2WDQGZmZmbmI4RAmpmZmRnihEDNzMzMTKCFQAAAAACAXoZAMzMzM7Mch0BmZmZm5tqHQJqZmZkZmYhAzczMzExXiUAAAAAAgBWKQDMzMzOz04pAZmZmZuaRi0CamZmZGVCMQM3MzMxMDo1AAAAAAIDMjUAzMzMzs4qOQGZmZmbmSI9A\",\"dtype\":\"float64\",\"shape\":[75]}}},\"id\":\"c61cbfec-da20-4bc9-9580-8d4c859e097a\",\"type\":\"ColumnDataSource\"},{\"attributes\":{},\"id\":\"a75d8778-a9d9-4eea-976c-d8c2fe5184db\",\"type\":\"BasicTicker\"},{\"attributes\":{\"callback\":null,\"column_names\":[\"x\",\"y\"],\"data\":{\"x\":{\"__ndarray__\":\"D4285jTP0T+JI6dgoRe1P1HIVBWoMqc/QDDQgD3QjT9jl4IXeEyHv8kQqWReGZy/ACZ7FEZkor8mKxJV8MKjv9ay2M1cRaS/e9GOg2Gsor8rfRECLNGnv+7N4e1QM6e/zhkPvkk2qb/I4PY+NHevvy8hidgMYrK/G5arxOFxsr98zurYmSatv0EyFcn016S/NzZKfaohl7+N9AVCzr9LvzglwLO0iJ0/z4cE33aZuj+Vqh9hOT7OPxjGJ650CM8/2OPwD3yIxD9JgP2EcT+7P3CeLq6YYbA/QQ5wXwyHnz+c86zUTvWFP8wlUUe5z3A/CWoTR+D/bj8TEm7UOAtjPwccYC2cSkc/iQr8uY2zNb/8/h2u7ZZRvySy6MVkxFm/zUBqtbX1W798qkaU1h1bv4b1sUg0/WG/yNz06L9nab8UqVk1Qh5tv7vdnUWHcWu/cqJYzNo2bL+tKReBbVhtvyXdJyuscm6/RFSGzV4/br+xoAI5B5xsv1leK30+zGq/jjw/bZWeaL/W9ZqOHzJlvzrULQL1u1+/0z4zT4mHUr/NUwxMfcEZP4qSh/uMb1Y/TrHUPaXYZz/zGv1gxxxzPz3FZW0353o/4P510QRIgj/gSzdCbNSGP40RVlEmr4o/ZjVxM1sAjj8PWPWWy3aQPxrOn7BwBJI/vnUcRA3Ukz/WVW93UDWWP2nlQgsnbpk/1Tvu8chznT+ZC+BWD9KgPyI4M5xgb6I/mhcEr8Z0oz80siks+DqkP6qCmB4pL6U/JD77uqFjpj9hjWKiCWCoP181j/ZRI7A/\",\"dtype\":\"float64\",\"shape\":[75]},\"y\":{\"__ndarray__\":\"GhExyth1ND/Sv8nbtpRIP2vylNV0PVE/aTum7souWD/At0SJ8fVgPw3Iuahxymc/MSNhhJWvcD/bTfBN02d3P2zb5nxnaoA/CD5h5MAGhz8NmeH1TyaQP+zrCsc9p5Y/LbKd76fGnz/bLW5ISEmmPww9YvTcQq8/JV2OstnstT8Er5Y7M8G+P0c+r3jqkcU/5h99k6ZBzj88bCIzFzjVP4enV8oyxN0//yH99nXg5D8qOpLLf0jtP5kqGJXUifQ/c9cS8kHP/D+/DpwzojQEQIEmwoanVwxA4lgXt9HgE0BSSZ2AJuIbQAMJih9jjiNA5q4l5INuK0AwTKYKRj0zQNv5fmq8/DpAaCJseHrtQkB/+zpwzoxKQM3MzMzMeFJAZmZmZmZqWEAAAAAAAFxeQM3MzMzMJmJAmpmZmZkfZUBmZmZmZhhoQDMzMzMzEWtAAAAAAAAKbkBmZmZmZoFwQM3MzMzM/XFAMzMzMzN6c0CamZmZmfZ0QAAAAAAAc3ZAZmZmZmbvd0DNzMzMzGt5QDMzMzMz6HpAmpmZmZlkfEAAAAAAAOF9QGZmZmZmXX9AZmZmZuZsgECamZmZGSuBQM3MzMxM6YFAAAAAAICngkAzMzMzs2WDQGZmZmbmI4RAmpmZmRnihEDNzMzMTKCFQAAAAACAXoZAMzMzM7Mch0BmZmZm5tqHQJqZmZkZmYhAzczMzExXiUAAAAAAgBWKQDMzMzOz04pAZmZmZuaRi0CamZmZGVCMQM3MzMxMDo1AAAAAAIDMjUAzMzMzs4qOQGZmZmbmSI9A\",\"dtype\":\"float64\",\"shape\":[75]}}},\"id\":\"d1ad12cc-e63c-44d9-b891-2103cbde5a1d\",\"type\":\"ColumnDataSource\"},{\"attributes\":{\"source\":{\"id\":\"a6b88220-faa6-4364-a519-71b7744712b5\",\"type\":\"ColumnDataSource\"}},\"id\":\"cc3b754a-d77d-4a7b-8218-c5b7b88faf1c\",\"type\":\"CDSView\"},{\"attributes\":{\"data_source\":{\"id\":\"a6b88220-faa6-4364-a519-71b7744712b5\",\"type\":\"ColumnDataSource\"},\"glyph\":{\"id\":\"5f4f3a72-6cbf-4433-b851-09241e6a95f1\",\"type\":\"Circle\"},\"hover_glyph\":null,\"muted_glyph\":null,\"nonselection_glyph\":{\"id\":\"2e7eb438-233e-4dbf-913d-fb82014d775d\",\"type\":\"Circle\"},\"selection_glyph\":null,\"view\":{\"id\":\"cc3b754a-d77d-4a7b-8218-c5b7b88faf1c\",\"type\":\"CDSView\"}},\"id\":\"1de6ba20-ca10-4333-a502-1407baea9015\",\"type\":\"GlyphRenderer\"},{\"attributes\":{\"plot\":null,\"text\":\"Linear pressure scale\"},\"id\":\"204f162f-0fb1-42db-adf9-917c48d40d31\",\"type\":\"Title\"},{\"attributes\":{\"callback\":null,\"column_names\":[\"x\",\"y\"],\"data\":{\"x\":{\"__ndarray__\":\"95vDlMzawD9U4j5aqjeEPwX9/VH4zXg/V7xLgF7TUz+eyDMyP2xuv5X1Dd/R5YC/mq0aVoHyiL8d9a9jXnKQv6X1SmixZZS/M/VutxqVmL9z1cB/iEedvxYswSHVKaG/CiWgfT1DpL+TzBWeynupv8tZCg5Qlq+/X449zHXSsL+WoTFgt3Kvv2s2M1OKuKy/klAy7Sbupr8MhzErDHiWv4gaO5eYHZY/nQvIAzaMvj8pkq8EUmLRP6lzf9SqRtE/DDl885dtwz9slSt/aC21P5WExVrcfKc/+XQrOkg+mT+BVgUPeAWLP87LOHjsiHs/X5Q1bex5Yj++1f8rUVZEv8/Z2OazNVO/4FGUK845SL/T0lPt6IVLv6WgjE5ls1S/DAfyj6bRV7+lx9n2qapYv+wwCYNpEmC/QHlWFcxmZr9NUN15dsJpv6b8cg4oIGi/Kkf/DvdfZ7+kCvK3JYBnv614dRbOEWi/PdxOlvMwaL8BheMCoxVnvxlfi0jarmS/3PgGawvrYL8V0tNko4NXv4gHG4CTlUW/vCeC+vsiLD/jLqhSH39TPzBZHJsLxmI/JSlMQwQIbT8bFmBtvml0P6lvInykT3s/NhwUYUMvgj9zDyU0K9aGP3WO/B8ydYs/XQPKwrEQkD8HH1fe5nGSP69QPhnw7ZQ/Ud1Apz6Vlz9t4S0bk4GaPzB86ZIW050/mlGEuJi9oD+a3C9su3OiPy6GehOmnKM/PPOJdPMYpD+sX3RvAUWkP5BJz78gk6Q/UNFMiJ1PpT+ArIkABemmP748iJD/ca4/\",\"dtype\":\"float64\",\"shape\":[75]},\"y\":{\"__ndarray__\":\"GhExyth1ND/Sv8nbtpRIP2vylNV0PVE/aTum7souWD/At0SJ8fVgPw3Iuahxymc/MSNhhJWvcD/bTfBN02d3P2zb5nxnaoA/CD5h5MAGhz8NmeH1TyaQP+zrCsc9p5Y/LbKd76fGnz/bLW5ISEmmPww9YvTcQq8/JV2OstnstT8Er5Y7M8G+P0c+r3jqkcU/5h99k6ZBzj88bCIzFzjVP4enV8oyxN0//yH99nXg5D8qOpLLf0jtP5kqGJXUifQ/c9cS8kHP/D+/DpwzojQEQIEmwoanVwxA4lgXt9HgE0BSSZ2AJuIbQAMJih9jjiNA5q4l5INuK0AwTKYKRj0zQNv5fmq8/DpAaCJseHrtQkB/+zpwzoxKQM3MzMzMeFJAZmZmZmZqWEAAAAAAAFxeQM3MzMzMJmJAmpmZmZkfZUBmZmZmZhhoQDMzMzMzEWtAAAAAAAAKbkBmZmZmZoFwQM3MzMzM/XFAMzMzMzN6c0CamZmZmfZ0QAAAAAAAc3ZAZmZmZmbvd0DNzMzMzGt5QDMzMzMz6HpAmpmZmZlkfEAAAAAAAOF9QGZmZmZmXX9AZmZmZuZsgECamZmZGSuBQM3MzMxM6YFAAAAAAICngkAzMzMzs2WDQGZmZmbmI4RAmpmZmRnihEDNzMzMTKCFQAAAAACAXoZAMzMzM7Mch0BmZmZm5tqHQJqZmZkZmYhAzczMzExXiUAAAAAAgBWKQDMzMzOz04pAZmZmZuaRi0CamZmZGVCMQM3MzMxMDo1AAAAAAIDMjUAzMzMzs4qOQGZmZmbmSI9A\",\"dtype\":\"float64\",\"shape\":[75]}}},\"id\":\"a1c62542-28ba-4564-84d1-67a62b396d6f\",\"type\":\"ColumnDataSource\"},{\"attributes\":{\"callback\":null,\"column_names\":[\"x\",\"y\"],\"data\":{\"x\":{\"__ndarray__\":\"95vDlMzawD9U4j5aqjeEPwX9/VH4zXg/V7xLgF7TUz+eyDMyP2xuv5X1Dd/R5YC/mq0aVoHyiL8d9a9jXnKQv6X1SmixZZS/M/VutxqVmL9z1cB/iEedvxYswSHVKaG/CiWgfT1DpL+TzBWeynupv8tZCg5Qlq+/X449zHXSsL+WoTFgt3Kvv2s2M1OKuKy/klAy7Sbupr8MhzErDHiWv4gaO5eYHZY/nQvIAzaMvj8pkq8EUmLRP6lzf9SqRtE/DDl885dtwz9slSt/aC21P5WExVrcfKc/+XQrOkg+mT+BVgUPeAWLP87LOHjsiHs/X5Q1bex5Yj++1f8rUVZEv8/Z2OazNVO/4FGUK845SL/T0lPt6IVLv6WgjE5ls1S/DAfyj6bRV7+lx9n2qapYv+wwCYNpEmC/QHlWFcxmZr9NUN15dsJpv6b8cg4oIGi/Kkf/DvdfZ7+kCvK3JYBnv614dRbOEWi/PdxOlvMwaL8BheMCoxVnvxlfi0jarmS/3PgGawvrYL8V0tNko4NXv4gHG4CTlUW/vCeC+vsiLD/jLqhSH39TPzBZHJsLxmI/JSlMQwQIbT8bFmBtvml0P6lvInykT3s/NhwUYUMvgj9zDyU0K9aGP3WO/B8ydYs/XQPKwrEQkD8HH1fe5nGSP69QPhnw7ZQ/Ud1Apz6Vlz9t4S0bk4GaPzB86ZIW050/mlGEuJi9oD+a3C9su3OiPy6GehOmnKM/PPOJdPMYpD+sX3RvAUWkP5BJz78gk6Q/UNFMiJ1PpT+ArIkABemmP748iJD/ca4/\",\"dtype\":\"float64\",\"shape\":[75]},\"y\":{\"__ndarray__\":\"GhExyth1ND/Sv8nbtpRIP2vylNV0PVE/aTum7souWD/At0SJ8fVgPw3Iuahxymc/MSNhhJWvcD/bTfBN02d3P2zb5nxnaoA/CD5h5MAGhz8NmeH1TyaQP+zrCsc9p5Y/LbKd76fGnz/bLW5ISEmmPww9YvTcQq8/JV2OstnstT8Er5Y7M8G+P0c+r3jqkcU/5h99k6ZBzj88bCIzFzjVP4enV8oyxN0//yH99nXg5D8qOpLLf0jtP5kqGJXUifQ/c9cS8kHP/D+/DpwzojQEQIEmwoanVwxA4lgXt9HgE0BSSZ2AJuIbQAMJih9jjiNA5q4l5INuK0AwTKYKRj0zQNv5fmq8/DpAaCJseHrtQkB/+zpwzoxKQM3MzMzMeFJAZmZmZmZqWEAAAAAAAFxeQM3MzMzMJmJAmpmZmZkfZUBmZmZmZhhoQDMzMzMzEWtAAAAAAAAKbkBmZmZmZoFwQM3MzMzM/XFAMzMzMzN6c0CamZmZmfZ0QAAAAAAAc3ZAZmZmZmbvd0DNzMzMzGt5QDMzMzMz6HpAmpmZmZlkfEAAAAAAAOF9QGZmZmZmXX9AZmZmZuZsgECamZmZGSuBQM3MzMxM6YFAAAAAAICngkAzMzMzs2WDQGZmZmbmI4RAmpmZmRnihEDNzMzMTKCFQAAAAACAXoZAMzMzM7Mch0BmZmZm5tqHQJqZmZkZmYhAzczMzExXiUAAAAAAgBWKQDMzMzOz04pAZmZmZuaRi0CamZmZGVCMQM3MzMxMDo1AAAAAAIDMjUAzMzMzs4qOQGZmZmbmSI9A\",\"dtype\":\"float64\",\"shape\":[75]}}},\"id\":\"a6b88220-faa6-4364-a519-71b7744712b5\",\"type\":\"ColumnDataSource\"},{\"attributes\":{\"fill_alpha\":{\"value\":0.7},\"fill_color\":{\"value\":\"#984ea3\"},\"line_alpha\":{\"value\":0.7},\"line_color\":{\"value\":\"#984ea3\"},\"x\":{\"field\":\"x\"},\"y\":{\"field\":\"y\"}},\"id\":\"55e82704-b8c9-498f-b099-b12cdd020247\",\"type\":\"Square\"},{\"attributes\":{\"data_source\":{\"id\":\"d1ad12cc-e63c-44d9-b891-2103cbde5a1d\",\"type\":\"ColumnDataSource\"},\"glyph\":{\"id\":\"55e82704-b8c9-498f-b099-b12cdd020247\",\"type\":\"Square\"},\"hover_glyph\":null,\"muted_glyph\":null,\"nonselection_glyph\":{\"id\":\"71f75085-b524-408c-b1ec-a98a09bab78d\",\"type\":\"Square\"},\"selection_glyph\":null,\"view\":{\"id\":\"78bd3346-8bd2-419b-bc93-cd9165b35702\",\"type\":\"CDSView\"}},\"id\":\"d156e954-f439-4742-989e-0cffb48c3de3\",\"type\":\"GlyphRenderer\"},{\"attributes\":{\"source\":{\"id\":\"58f62da0-a340-433d-8705-d6a6e14cb0b2\",\"type\":\"ColumnDataSource\"}},\"id\":\"173946ab-7555-4b3e-a5ef-ccb87b1ce2f3\",\"type\":\"CDSView\"},{\"attributes\":{\"label\":{\"value\":\"CRD\"},\"renderers\":[{\"id\":\"1de6ba20-ca10-4333-a502-1407baea9015\",\"type\":\"GlyphRenderer\"},{\"id\":\"6c31fc19-f4b4-4a99-b02e-0a3c8ce61587\",\"type\":\"GlyphRenderer\"}]},\"id\":\"6c966e71-7ff9-49c4-a9b6-5d6d568c4593\",\"type\":\"LegendItem\"},{\"attributes\":{\"children\":[{\"id\":\"175a6982-7ebd-4614-9b09-33f947785973\",\"type\":\"Row\"}]},\"id\":\"d256cf8a-8201-4de1-bd16-b70b64404d53\",\"type\":\"Column\"},{\"attributes\":{\"fill_alpha\":{\"value\":0.1},\"fill_color\":{\"value\":\"#1f77b4\"},\"line_alpha\":{\"value\":0.1},\"line_color\":{\"value\":\"#1f77b4\"},\"x\":{\"field\":\"x\"},\"y\":{\"field\":\"y\"}},\"id\":\"71f75085-b524-408c-b1ec-a98a09bab78d\",\"type\":\"Square\"},{\"attributes\":{\"items\":[{\"id\":\"602fe5c6-d387-443b-a289-d37883cb63b6\",\"type\":\"LegendItem\"},{\"id\":\"6c966e71-7ff9-49c4-a9b6-5d6d568c4593\",\"type\":\"LegendItem\"},{\"id\":\"ee95010a-3a16-4334-aca3-3354e3ddd9d7\",\"type\":\"LegendItem\"}],\"label_text_font_size\":{\"value\":\"8pt\"},\"location\":[10,-30],\"plot\":{\"id\":\"204345d7-c980-4a0b-9468-f3e69f01ccde\",\"subtype\":\"Figure\",\"type\":\"Plot\"}},\"id\":\"2a5f3195-7133-4a42-99c2-a185b082f1fe\",\"type\":\"Legend\"},{\"attributes\":{\"source\":{\"id\":\"d1ad12cc-e63c-44d9-b891-2103cbde5a1d\",\"type\":\"ColumnDataSource\"}},\"id\":\"78bd3346-8bd2-419b-bc93-cd9165b35702\",\"type\":\"CDSView\"},{\"attributes\":{\"line_alpha\":0.6,\"line_color\":\"#984ea3\",\"line_width\":3,\"x\":{\"field\":\"x\"},\"y\":{\"field\":\"y\"}},\"id\":\"3489c33c-3566-480d-bdfd-a8d734d90d4b\",\"type\":\"Line\"},{\"attributes\":{\"data_source\":{\"id\":\"c61cbfec-da20-4bc9-9580-8d4c859e097a\",\"type\":\"ColumnDataSource\"},\"glyph\":{\"id\":\"3489c33c-3566-480d-bdfd-a8d734d90d4b\",\"type\":\"Line\"},\"hover_glyph\":null,\"muted_glyph\":null,\"nonselection_glyph\":{\"id\":\"0ae646e4-a316-4a24-b942-8dbb94ad2585\",\"type\":\"Line\"},\"selection_glyph\":null,\"view\":{\"id\":\"9ac893d9-8692-45f1-9df7-1fd59a9cfae4\",\"type\":\"CDSView\"}},\"id\":\"29a7abb0-5cfb-4fb3-b03f-562e1a81d919\",\"type\":\"GlyphRenderer\"},{\"attributes\":{\"bottom_units\":\"screen\",\"fill_alpha\":{\"value\":0.5},\"fill_color\":{\"value\":\"lightgrey\"},\"left_units\":\"screen\",\"level\":\"overlay\",\"line_alpha\":{\"value\":1.0},\"line_color\":{\"value\":\"black\"},\"line_dash\":[4,4],\"line_width\":{\"value\":2},\"plot\":null,\"render_mode\":\"css\",\"right_units\":\"screen\",\"top_units\":\"screen\"},\"id\":\"a5ec5361-159e-4562-8280-359514a07a02\",\"type\":\"BoxAnnotation\"},{\"attributes\":{\"line_alpha\":0.1,\"line_color\":\"#1f77b4\",\"line_width\":3,\"x\":{\"field\":\"x\"},\"y\":{\"field\":\"y\"}},\"id\":\"0ae646e4-a316-4a24-b942-8dbb94ad2585\",\"type\":\"Line\"},{\"attributes\":{\"source\":{\"id\":\"c61cbfec-da20-4bc9-9580-8d4c859e097a\",\"type\":\"ColumnDataSource\"}},\"id\":\"9ac893d9-8692-45f1-9df7-1fd59a9cfae4\",\"type\":\"CDSView\"},{\"attributes\":{\"children\":[{\"id\":\"811014e9-681e-4c3e-9015-312d1d6a5b4c\",\"type\":\"ToolbarBox\"},{\"id\":\"d256cf8a-8201-4de1-bd16-b70b64404d53\",\"type\":\"Column\"}]},\"id\":\"cbd492c6-c94c-4201-b76a-2f541e4b1483\",\"type\":\"Column\"},{\"attributes\":{\"label\":{\"value\":\"WGT igg=10 wgt_flux=2\"},\"renderers\":[{\"id\":\"d156e954-f439-4742-989e-0cffb48c3de3\",\"type\":\"GlyphRenderer\"},{\"id\":\"29a7abb0-5cfb-4fb3-b03f-562e1a81d919\",\"type\":\"GlyphRenderer\"}]},\"id\":\"ee95010a-3a16-4334-aca3-3354e3ddd9d7\",\"type\":\"LegendItem\"},{\"attributes\":{\"toolbar\":{\"id\":\"7a56c915-cc0b-4047-98ef-92008967fe7b\",\"type\":\"ProxyToolbar\"},\"toolbar_location\":\"above\"},\"id\":\"811014e9-681e-4c3e-9015-312d1d6a5b4c\",\"type\":\"ToolbarBox\"},{\"attributes\":{},\"id\":\"e24fa9c3-a010-4197-946d-d34524c9ae1d\",\"type\":\"WheelZoomTool\"},{\"attributes\":{\"plot\":{\"id\":\"e83a530c-0c70-4269-bd68-7d80b276988d\",\"subtype\":\"Figure\",\"type\":\"Plot\"},\"ticker\":{\"id\":\"a75d8778-a9d9-4eea-976c-d8c2fe5184db\",\"type\":\"BasicTicker\"}},\"id\":\"cc5089ad-67bd-439f-8cc0-21f1a72c1029\",\"type\":\"Grid\"},{\"attributes\":{},\"id\":\"5a3a4487-3b49-485c-ae2f-fba4cf37a7b0\",\"type\":\"BasicTickFormatter\"},{\"attributes\":{\"source\":{\"id\":\"46d7ab84-a49d-4747-aed6-41ff2e4bff36\",\"type\":\"ColumnDataSource\"}},\"id\":\"901d6e0e-0254-4320-845f-e4186725d40e\",\"type\":\"CDSView\"},{\"attributes\":{\"callback\":null,\"column_names\":[\"x\",\"y\"],\"data\":{\"x\":{\"__ndarray__\":\"h2OGW3i90T+MN5IBKXy0Pz38IL5Yh6E/cz5R5tqokD9qZV0ED9GRv6lzJhxj76C/tltTnzKeo7+Ylvte73CkvyfpOaCnLKO/D6CGPyjHpL/zQJ48sAylvyR1p+CVyaa/70DpgC5eqL/MbJcDK/Gtv4B09j0GhbG/LAL036kesb90A+xAKZyqvx63Mr3RgqG/x7v44lgFkL9j9KW9HfZlPxweYoY9Ips/gVuGHoLBuD9TJhSmGDXNP9fDdns5gc4/ryjj59gkxT9QK5ZshmW9Py4Hf2EnLLI/R//BQ/UvoD8xeLIBsyeAPxypvjyr6Go/00TFn/RDdT837HNDd/NqP9Kkal6nVEQ/20XjPg/iSr/F2WBpqOZVvwxn+7PGcFq/QOZDiwUpXL8uAESzz0Bcv23mmSGRUmK/GqaI5XWRab8qIv76jD9tv6IEIN5R5Gu/yl5+hZZ+bL87bliZwFtuv8TrNPpjZm+/JTsRYHN3br/TEMoFqw1tvzNuwKCyhWu/CD23Ya+Pab8UVWxBsOBmv/ikwsGmGmK/D4WHk/H0Vb/oHrqfDnoXv5ebJCT2s1Y/wySLJTSjaT/j5CJg69B0PwfwcQHDTX0/ZHeK31CUgz/2o8dAtfmHPywx4y5BlIs/UOsIcBI0jj8YnUCZxRKQP2geGdsGFpE/9aaCh/LQkj8DMKX7JyKVP7DNieez1pg/QtAYgCIjnT8iqksh6wShP2JtDR4G8KI/Suas3eM9pD8vjds/gT2lP/vHOAKVSqY/MOKJwFuXpz+vrhf+ZHCpPzgyTeDverA/\",\"dtype\":\"float64\",\"shape\":[75]},\"y\":{\"__ndarray__\":\"S/O/Q+51ND/430zAtpRIP2vylNV0PVE/QxsjCssuWD/TR4Z78fVgP+inNsRxymc/OuuBfZWvcD/u3TFA02d3P2d3VoBnaoA/CD5h5MAGhz/1pA8HUCaQP+zrCsc9p5Y/Fb7LAKjGnz/nJ9c/SEmmPwBD+fzcQq8/FOZwv9nstT8Er5Y7M8G+P0c+r3jqkcU/yK72qKZBzj+tM989FzjVPxbgmr8yxN0/cOm5AXbg5D+5ctXAf0jtP5kqGJXUifQ/DsrqDELP/D8MCAhBojQEQDItVnmnVwxAiFXNvdHgE0BSSZ2AJuIbQAMJih9jjiNA5q4l5INuK0CPVN/5RT0zQHzxRXu8/DpAOZ7PgHrtQkAg8wGBzoxKQBSTN8DMeFJA2NmQf2ZqWEAAAAAAAFxeQEQX1LfMJmJAmpmZmZkfZUBmZmZmZhhoQLzoK0gzEWtAAAAAAAAKbkCiC+pbZoFwQAhyUMLM/XFA+I2vPTN6c0AQ5KCEmfZ0QAAAAAAAc3ZA8Btfe2bvd0AIclDCzGt5QPeNrz0z6HpAEOSghJlkfEAAAAAAAOF9QKML6ltmXX9ABTkoYeZsgED7xteeGSuBQAhyUMJM6YFAAAAAAICngkD4ja89s2WDQAU5KGHmI4RA+8bXnhnihEAIclDCTKCFQAAAAACAXoZA+I2vPbMch0AFOShh5tqHQPvG154ZmYhACHJQwkxXiUAAAAAAgBWKQPeNrz2z04pABTkoYeaRi0D7xteeGVCMQAlyUMJMDo1AAAAAAIDMjUD3ja89s4qOQGZmZmbmSI9A\",\"dtype\":\"float64\",\"shape\":[75]}}},\"id\":\"46d7ab84-a49d-4747-aed6-41ff2e4bff36\",\"type\":\"ColumnDataSource\"},{\"attributes\":{},\"id\":\"c78235c8-5072-42f5-bf34-8edf52963bee\",\"type\":\"BasicTickFormatter\"},{\"attributes\":{},\"id\":\"adac22c1-af70-4fe2-b9bb-62b7cf8ad7b4\",\"type\":\"BasicTicker\"},{\"attributes\":{\"axis_label\":\"cooling rate [K/day]\",\"formatter\":{\"id\":\"c78235c8-5072-42f5-bf34-8edf52963bee\",\"type\":\"BasicTickFormatter\"},\"plot\":{\"id\":\"e83a530c-0c70-4269-bd68-7d80b276988d\",\"subtype\":\"Figure\",\"type\":\"Plot\"},\"ticker\":{\"id\":\"a75d8778-a9d9-4eea-976c-d8c2fe5184db\",\"type\":\"BasicTicker\"}},\"id\":\"5f1dd477-f872-4eb4-baec-a405672028ba\",\"type\":\"LinearAxis\"},{\"attributes\":{\"num_minor_ticks\":10},\"id\":\"d9539351-288b-4d7e-9437-c5c4c6524f96\",\"type\":\"LogTicker\"},{\"attributes\":{\"line_alpha\":0.1,\"line_color\":\"#1f77b4\",\"line_dash\":[6],\"line_width\":5,\"x\":{\"field\":\"x\"},\"y\":{\"field\":\"y\"}},\"id\":\"5fc58b53-dbe6-45c2-9099-50292abc6b9e\",\"type\":\"Line\"},{\"attributes\":{\"line_alpha\":0.6,\"line_color\":\"#e41a1c\",\"line_dash\":[6],\"line_width\":5,\"x\":{\"field\":\"x\"},\"y\":{\"field\":\"y\"}},\"id\":\"209ee3f6-81d6-4233-9a70-5dfb26387dd5\",\"type\":\"Line\"},{\"attributes\":{\"ticker\":null},\"id\":\"a18a29be-38f4-4aae-9afb-aa211582f1ba\",\"type\":\"LogTickFormatter\"},{\"attributes\":{\"line_color\":\"#4daf4a\",\"line_width\":1.5,\"x\":{\"field\":\"x\"},\"y\":{\"field\":\"y\"}},\"id\":\"54e60713-d43f-4902-83f9-7a59b7f90286\",\"type\":\"Line\"},{\"attributes\":{\"axis_label\":\"pressure [mb]\",\"formatter\":{\"id\":\"a18a29be-38f4-4aae-9afb-aa211582f1ba\",\"type\":\"LogTickFormatter\"},\"plot\":{\"id\":\"204345d7-c980-4a0b-9468-f3e69f01ccde\",\"subtype\":\"Figure\",\"type\":\"Plot\"},\"ticker\":{\"id\":\"d9539351-288b-4d7e-9437-c5c4c6524f96\",\"type\":\"LogTicker\"}},\"id\":\"68d63a59-cde7-4826-a979-93a51ad9d0e3\",\"type\":\"LogAxis\"},{\"attributes\":{},\"id\":\"6496689f-ba7a-4709-82eb-af28b04121bf\",\"type\":\"LinearScale\"},{\"attributes\":{},\"id\":\"e9f7d3b2-9511-48a0-b6b8-8d1200b303ec\",\"type\":\"PanTool\"},{\"attributes\":{\"callback\":null,\"column_names\":[\"x\",\"y\"],\"data\":{\"x\":{\"__ndarray__\":\"95vDlMzawD9U4j5aqjeEPwX9/VH4zXg/V7xLgF7TUz+eyDMyP2xuv5X1Dd/R5YC/mq0aVoHyiL8d9a9jXnKQv6X1SmixZZS/M/VutxqVmL9z1cB/iEedvxYswSHVKaG/CiWgfT1DpL+TzBWeynupv8tZCg5Qlq+/X449zHXSsL+WoTFgt3Kvv2s2M1OKuKy/klAy7Sbupr8MhzErDHiWv4gaO5eYHZY/nQvIAzaMvj8pkq8EUmLRP6lzf9SqRtE/DDl885dtwz9slSt/aC21P5WExVrcfKc/+XQrOkg+mT+BVgUPeAWLP87LOHjsiHs/X5Q1bex5Yj++1f8rUVZEv8/Z2OazNVO/4FGUK845SL/T0lPt6IVLv6WgjE5ls1S/DAfyj6bRV7+lx9n2qapYv+wwCYNpEmC/QHlWFcxmZr9NUN15dsJpv6b8cg4oIGi/Kkf/DvdfZ7+kCvK3JYBnv614dRbOEWi/PdxOlvMwaL8BheMCoxVnvxlfi0jarmS/3PgGawvrYL8V0tNko4NXv4gHG4CTlUW/vCeC+vsiLD/jLqhSH39TPzBZHJsLxmI/JSlMQwQIbT8bFmBtvml0P6lvInykT3s/NhwUYUMvgj9zDyU0K9aGP3WO/B8ydYs/XQPKwrEQkD8HH1fe5nGSP69QPhnw7ZQ/Ud1Apz6Vlz9t4S0bk4GaPzB86ZIW050/mlGEuJi9oD+a3C9su3OiPy6GehOmnKM/PPOJdPMYpD+sX3RvAUWkP5BJz78gk6Q/UNFMiJ1PpT+ArIkABemmP748iJD/ca4/\",\"dtype\":\"float64\",\"shape\":[75]},\"y\":{\"__ndarray__\":\"GhExyth1ND/Sv8nbtpRIP2vylNV0PVE/aTum7souWD/At0SJ8fVgPw3Iuahxymc/MSNhhJWvcD/bTfBN02d3P2zb5nxnaoA/CD5h5MAGhz8NmeH1TyaQP+zrCsc9p5Y/LbKd76fGnz/bLW5ISEmmPww9YvTcQq8/JV2OstnstT8Er5Y7M8G+P0c+r3jqkcU/5h99k6ZBzj88bCIzFzjVP4enV8oyxN0//yH99nXg5D8qOpLLf0jtP5kqGJXUifQ/c9cS8kHP/D+/DpwzojQEQIEmwoanVwxA4lgXt9HgE0BSSZ2AJuIbQAMJih9jjiNA5q4l5INuK0AwTKYKRj0zQNv5fmq8/DpAaCJseHrtQkB/+zpwzoxKQM3MzMzMeFJAZmZmZmZqWEAAAAAAAFxeQM3MzMzMJmJAmpmZmZkfZUBmZmZmZhhoQDMzMzMzEWtAAAAAAAAKbkBmZmZmZoFwQM3MzMzM/XFAMzMzMzN6c0CamZmZmfZ0QAAAAAAAc3ZAZmZmZmbvd0DNzMzMzGt5QDMzMzMz6HpAmpmZmZlkfEAAAAAAAOF9QGZmZmZmXX9AZmZmZuZsgECamZmZGSuBQM3MzMxM6YFAAAAAAICngkAzMzMzs2WDQGZmZmbmI4RAmpmZmRnihEDNzMzMTKCFQAAAAACAXoZAMzMzM7Mch0BmZmZm5tqHQJqZmZkZmYhAzczMzExXiUAAAAAAgBWKQDMzMzOz04pAZmZmZuaRi0CamZmZGVCMQM3MzMxMDo1AAAAAAIDMjUAzMzMzs4qOQGZmZmbmSI9A\",\"dtype\":\"float64\",\"shape\":[75]}}},\"id\":\"76446358-a4e5-4d09-b66d-05fc8e060fa1\",\"type\":\"ColumnDataSource\"},{\"attributes\":{\"source\":{\"id\":\"a1c62542-28ba-4564-84d1-67a62b396d6f\",\"type\":\"ColumnDataSource\"}},\"id\":\"78ca13bf-db3b-4078-98a0-71ccd6c1a931\",\"type\":\"CDSView\"},{\"attributes\":{\"axis_label\":\"pressure [mb]\",\"formatter\":{\"id\":\"e567b9b7-7755-43ae-a87f-f40360d9e5f1\",\"type\":\"BasicTickFormatter\"},\"plot\":{\"id\":\"e83a530c-0c70-4269-bd68-7d80b276988d\",\"subtype\":\"Figure\",\"type\":\"Plot\"},\"ticker\":{\"id\":\"adac22c1-af70-4fe2-b9bb-62b7cf8ad7b4\",\"type\":\"BasicTicker\"}},\"id\":\"f63b5ebb-b782-4655-8812-fe6562777ea3\",\"type\":\"LinearAxis\"},{\"attributes\":{\"fill_alpha\":{\"value\":0.7},\"fill_color\":{\"value\":\"#4daf4a\"},\"line_alpha\":{\"value\":0.7},\"line_color\":{\"value\":\"#4daf4a\"},\"x\":{\"field\":\"x\"},\"y\":{\"field\":\"y\"}},\"id\":\"c1dd03c7-544b-4bad-93d8-4bd8b5885f22\",\"type\":\"Circle\"},{\"attributes\":{\"source\":{\"id\":\"7a13c18a-f4bc-477b-95c8-b6b03192e1aa\",\"type\":\"ColumnDataSource\"}},\"id\":\"d17b26eb-194c-474d-86b8-60ec15d4e10c\",\"type\":\"CDSView\"},{\"attributes\":{\"callback\":null,\"column_names\":[\"x\",\"y\"],\"data\":{\"x\":{\"__ndarray__\":\"D4285jTP0T+JI6dgoRe1P1HIVBWoMqc/QDDQgD3QjT9jl4IXeEyHv8kQqWReGZy/ACZ7FEZkor8mKxJV8MKjv9ay2M1cRaS/e9GOg2Gsor8rfRECLNGnv+7N4e1QM6e/zhkPvkk2qb/I4PY+NHevvy8hidgMYrK/G5arxOFxsr98zurYmSatv0EyFcn016S/NzZKfaohl7+N9AVCzr9LvzglwLO0iJ0/z4cE33aZuj+Vqh9hOT7OPxjGJ650CM8/2OPwD3yIxD9JgP2EcT+7P3CeLq6YYbA/QQ5wXwyHnz+c86zUTvWFP8wlUUe5z3A/CWoTR+D/bj8TEm7UOAtjPwccYC2cSkc/iQr8uY2zNb/8/h2u7ZZRvySy6MVkxFm/zUBqtbX1W798qkaU1h1bv4b1sUg0/WG/yNz06L9nab8UqVk1Qh5tv7vdnUWHcWu/cqJYzNo2bL+tKReBbVhtvyXdJyuscm6/RFSGzV4/br+xoAI5B5xsv1leK30+zGq/jjw/bZWeaL/W9ZqOHzJlvzrULQL1u1+/0z4zT4mHUr/NUwxMfcEZP4qSh/uMb1Y/TrHUPaXYZz/zGv1gxxxzPz3FZW0353o/4P510QRIgj/gSzdCbNSGP40RVlEmr4o/ZjVxM1sAjj8PWPWWy3aQPxrOn7BwBJI/vnUcRA3Ukz/WVW93UDWWP2nlQgsnbpk/1Tvu8chznT+ZC+BWD9KgPyI4M5xgb6I/mhcEr8Z0oz80siks+DqkP6qCmB4pL6U/JD77uqFjpj9hjWKiCWCoP181j/ZRI7A/\",\"dtype\":\"float64\",\"shape\":[75]},\"y\":{\"__ndarray__\":\"GhExyth1ND/Sv8nbtpRIP2vylNV0PVE/aTum7souWD/At0SJ8fVgPw3Iuahxymc/MSNhhJWvcD/bTfBN02d3P2zb5nxnaoA/CD5h5MAGhz8NmeH1TyaQP+zrCsc9p5Y/LbKd76fGnz/bLW5ISEmmPww9YvTcQq8/JV2OstnstT8Er5Y7M8G+P0c+r3jqkcU/5h99k6ZBzj88bCIzFzjVP4enV8oyxN0//yH99nXg5D8qOpLLf0jtP5kqGJXUifQ/c9cS8kHP/D+/DpwzojQEQIEmwoanVwxA4lgXt9HgE0BSSZ2AJuIbQAMJih9jjiNA5q4l5INuK0AwTKYKRj0zQNv5fmq8/DpAaCJseHrtQkB/+zpwzoxKQM3MzMzMeFJAZmZmZmZqWEAAAAAAAFxeQM3MzMzMJmJAmpmZmZkfZUBmZmZmZhhoQDMzMzMzEWtAAAAAAAAKbkBmZmZmZoFwQM3MzMzM/XFAMzMzMzN6c0CamZmZmfZ0QAAAAAAAc3ZAZmZmZmbvd0DNzMzMzGt5QDMzMzMz6HpAmpmZmZlkfEAAAAAAAOF9QGZmZmZmXX9AZmZmZuZsgECamZmZGSuBQM3MzMxM6YFAAAAAAICngkAzMzMzs2WDQGZmZmbmI4RAmpmZmRnihEDNzMzMTKCFQAAAAACAXoZAMzMzM7Mch0BmZmZm5tqHQJqZmZkZmYhAzczMzExXiUAAAAAAgBWKQDMzMzOz04pAZmZmZuaRi0CamZmZGVCMQM3MzMxMDo1AAAAAAIDMjUAzMzMzs4qOQGZmZmbmSI9A\",\"dtype\":\"float64\",\"shape\":[75]}}},\"id\":\"7a13c18a-f4bc-477b-95c8-b6b03192e1aa\",\"type\":\"ColumnDataSource\"},{\"attributes\":{},\"id\":\"1ea543cf-662b-44ed-85e6-3e3ce433376d\",\"type\":\"SaveTool\"},{\"attributes\":{\"line_alpha\":0.6,\"line_color\":\"#984ea3\",\"line_width\":3,\"x\":{\"field\":\"x\"},\"y\":{\"field\":\"y\"}},\"id\":\"250759a7-be78-4ada-8839-e10c44126888\",\"type\":\"Line\"},{\"attributes\":{\"callback\":null,\"column_names\":[\"x\",\"y\"],\"data\":{\"x\":{\"__ndarray__\":\"D4285jTP0T+JI6dgoRe1P1HIVBWoMqc/QDDQgD3QjT9jl4IXeEyHv8kQqWReGZy/ACZ7FEZkor8mKxJV8MKjv9ay2M1cRaS/e9GOg2Gsor8rfRECLNGnv+7N4e1QM6e/zhkPvkk2qb/I4PY+NHevvy8hidgMYrK/G5arxOFxsr98zurYmSatv0EyFcn016S/NzZKfaohl7+N9AVCzr9LvzglwLO0iJ0/z4cE33aZuj+Vqh9hOT7OPxjGJ650CM8/2OPwD3yIxD9JgP2EcT+7P3CeLq6YYbA/QQ5wXwyHnz+c86zUTvWFP8wlUUe5z3A/CWoTR+D/bj8TEm7UOAtjPwccYC2cSkc/iQr8uY2zNb/8/h2u7ZZRvySy6MVkxFm/zUBqtbX1W798qkaU1h1bv4b1sUg0/WG/yNz06L9nab8UqVk1Qh5tv7vdnUWHcWu/cqJYzNo2bL+tKReBbVhtvyXdJyuscm6/RFSGzV4/br+xoAI5B5xsv1leK30+zGq/jjw/bZWeaL/W9ZqOHzJlvzrULQL1u1+/0z4zT4mHUr/NUwxMfcEZP4qSh/uMb1Y/TrHUPaXYZz/zGv1gxxxzPz3FZW0353o/4P510QRIgj/gSzdCbNSGP40RVlEmr4o/ZjVxM1sAjj8PWPWWy3aQPxrOn7BwBJI/vnUcRA3Ukz/WVW93UDWWP2nlQgsnbpk/1Tvu8chznT+ZC+BWD9KgPyI4M5xgb6I/mhcEr8Z0oz80siks+DqkP6qCmB4pL6U/JD77uqFjpj9hjWKiCWCoP181j/ZRI7A/\",\"dtype\":\"float64\",\"shape\":[75]},\"y\":{\"__ndarray__\":\"GhExyth1ND/Sv8nbtpRIP2vylNV0PVE/aTum7souWD/At0SJ8fVgPw3Iuahxymc/MSNhhJWvcD/bTfBN02d3P2zb5nxnaoA/CD5h5MAGhz8NmeH1TyaQP+zrCsc9p5Y/LbKd76fGnz/bLW5ISEmmPww9YvTcQq8/JV2OstnstT8Er5Y7M8G+P0c+r3jqkcU/5h99k6ZBzj88bCIzFzjVP4enV8oyxN0//yH99nXg5D8qOpLLf0jtP5kqGJXUifQ/c9cS8kHP/D+/DpwzojQEQIEmwoanVwxA4lgXt9HgE0BSSZ2AJuIbQAMJih9jjiNA5q4l5INuK0AwTKYKRj0zQNv5fmq8/DpAaCJseHrtQkB/+zpwzoxKQM3MzMzMeFJAZmZmZmZqWEAAAAAAAFxeQM3MzMzMJmJAmpmZmZkfZUBmZmZmZhhoQDMzMzMzEWtAAAAAAAAKbkBmZmZmZoFwQM3MzMzM/XFAMzMzMzN6c0CamZmZmfZ0QAAAAAAAc3ZAZmZmZmbvd0DNzMzMzGt5QDMzMzMz6HpAmpmZmZlkfEAAAAAAAOF9QGZmZmZmXX9AZmZmZuZsgECamZmZGSuBQM3MzMxM6YFAAAAAAICngkAzMzMzs2WDQGZmZmbmI4RAmpmZmRnihEDNzMzMTKCFQAAAAACAXoZAMzMzM7Mch0BmZmZm5tqHQJqZmZkZmYhAzczMzExXiUAAAAAAgBWKQDMzMzOz04pAZmZmZuaRi0CamZmZGVCMQM3MzMxMDo1AAAAAAIDMjUAzMzMzs4qOQGZmZmbmSI9A\",\"dtype\":\"float64\",\"shape\":[75]}}},\"id\":\"3ba5acff-8da4-43be-9360-f005f9ced047\",\"type\":\"ColumnDataSource\"},{\"attributes\":{},\"id\":\"382ac581-e7f6-4b0f-846d-639898943baa\",\"type\":\"SaveTool\"},{\"attributes\":{\"line_alpha\":0.1,\"line_color\":\"#1f77b4\",\"line_width\":3,\"x\":{\"field\":\"x\"},\"y\":{\"field\":\"y\"}},\"id\":\"12b893f1-ba64-4eb5-8fed-5cabe29f2c49\",\"type\":\"Line\"},{\"attributes\":{},\"id\":\"f14c8e33-b649-4e7c-908f-51ddbfb6f8f7\",\"type\":\"HelpTool\"},{\"attributes\":{\"source\":{\"id\":\"3ba5acff-8da4-43be-9360-f005f9ced047\",\"type\":\"ColumnDataSource\"}},\"id\":\"15f467ef-e110-4e7b-9118-667c38f8cf47\",\"type\":\"CDSView\"},{\"attributes\":{\"fill_alpha\":{\"value\":0.1},\"fill_color\":{\"value\":\"#1f77b4\"},\"line_alpha\":{\"value\":0.1},\"line_color\":{\"value\":\"#1f77b4\"},\"x\":{\"field\":\"x\"},\"y\":{\"field\":\"y\"}},\"id\":\"893bf46f-fa82-440c-8678-dba62f533e12\",\"type\":\"Square\"},{\"attributes\":{\"plot\":null,\"text\":\"Log pressure scale\"},\"id\":\"ffe98008-7d30-4eec-abdb-d504cd246f53\",\"type\":\"Title\"},{\"attributes\":{\"below\":[{\"id\":\"74d664e4-7a43-47b6-b450-8807cf0894ad\",\"type\":\"LinearAxis\"}],\"left\":[{\"id\":\"68d63a59-cde7-4826-a979-93a51ad9d0e3\",\"type\":\"LogAxis\"}],\"plot_height\":500,\"plot_width\":560,\"renderers\":[{\"id\":\"74d664e4-7a43-47b6-b450-8807cf0894ad\",\"type\":\"LinearAxis\"},{\"id\":\"4a9deb11-3794-4e0c-bf3b-05f289aca559\",\"type\":\"Grid\"},{\"id\":\"68d63a59-cde7-4826-a979-93a51ad9d0e3\",\"type\":\"LogAxis\"},{\"id\":\"a35e4fe5-718c-497b-b2f6-e8bbc51c921f\",\"type\":\"Grid\"},{\"id\":\"b71382ce-7a9a-4822-99bd-76a3b124f6c3\",\"type\":\"BoxAnnotation\"},{\"id\":\"fe3ca7d2-a693-470e-877f-413ea321eb93\",\"type\":\"GlyphRenderer\"},{\"id\":\"1de6ba20-ca10-4333-a502-1407baea9015\",\"type\":\"GlyphRenderer\"},{\"id\":\"6c31fc19-f4b4-4a99-b02e-0a3c8ce61587\",\"type\":\"GlyphRenderer\"},{\"id\":\"d156e954-f439-4742-989e-0cffb48c3de3\",\"type\":\"GlyphRenderer\"},{\"id\":\"29a7abb0-5cfb-4fb3-b03f-562e1a81d919\",\"type\":\"GlyphRenderer\"},{\"id\":\"2a5f3195-7133-4a42-99c2-a185b082f1fe\",\"type\":\"Legend\"}],\"right\":[{\"id\":\"2a5f3195-7133-4a42-99c2-a185b082f1fe\",\"type\":\"Legend\"}],\"title\":{\"id\":\"ffe98008-7d30-4eec-abdb-d504cd246f53\",\"type\":\"Title\"},\"toolbar\":{\"id\":\"491fd2bc-07af-4f9f-9539-724083665ca9\",\"type\":\"Toolbar\"},\"toolbar_location\":null,\"x_range\":{\"id\":\"41163b88-e7e6-43ca-9ff3-aaab68e70548\",\"type\":\"Range1d\"},\"x_scale\":{\"id\":\"1d57721d-e210-4171-a38a-5bf7a254568b\",\"type\":\"LinearScale\"},\"y_range\":{\"id\":\"e8f1ad06-937a-4388-b54d-7657e88f2fa3\",\"type\":\"Range1d\"},\"y_scale\":{\"id\":\"aaa4d784-3b99-4b5f-b8f7-f77fcae1b5be\",\"type\":\"LogScale\"}},\"id\":\"204345d7-c980-4a0b-9468-f3e69f01ccde\",\"subtype\":\"Figure\",\"type\":\"Plot\"},{\"attributes\":{\"active_drag\":\"auto\",\"active_inspect\":\"auto\",\"active_scroll\":\"auto\",\"active_tap\":\"auto\",\"tools\":[{\"id\":\"631d72fb-0a2b-4587-8a9e-90d172341b21\",\"type\":\"PanTool\"},{\"id\":\"343632cb-e5b0-41d0-8a07-3f882eb3c748\",\"type\":\"WheelZoomTool\"},{\"id\":\"bc79a8d9-4ded-43d9-a17b-b55808b19814\",\"type\":\"BoxZoomTool\"},{\"id\":\"382ac581-e7f6-4b0f-846d-639898943baa\",\"type\":\"SaveTool\"},{\"id\":\"96650289-45dd-421c-bfd3-82017a6e833f\",\"type\":\"ResetTool\"},{\"id\":\"3701ae98-7e64-4b2c-bc96-2c7ed5e9b1a4\",\"type\":\"HelpTool\"}]},\"id\":\"491fd2bc-07af-4f9f-9539-724083665ca9\",\"type\":\"Toolbar\"},{\"attributes\":{\"label\":{\"value\":\"CLIRAD `coolr_bands`\"},\"renderers\":[{\"id\":\"fe3ca7d2-a693-470e-877f-413ea321eb93\",\"type\":\"GlyphRenderer\"}]},\"id\":\"602fe5c6-d387-443b-a289-d37883cb63b6\",\"type\":\"LegendItem\"},{\"attributes\":{},\"id\":\"aaa4d784-3b99-4b5f-b8f7-f77fcae1b5be\",\"type\":\"LogScale\"},{\"attributes\":{\"data_source\":{\"id\":\"a1c62542-28ba-4564-84d1-67a62b396d6f\",\"type\":\"ColumnDataSource\"},\"glyph\":{\"id\":\"c1dd03c7-544b-4bad-93d8-4bd8b5885f22\",\"type\":\"Circle\"},\"hover_glyph\":null,\"muted_glyph\":null,\"nonselection_glyph\":{\"id\":\"f68780af-c8f8-4640-a3ea-8b9169ed5102\",\"type\":\"Circle\"},\"selection_glyph\":null,\"view\":{\"id\":\"78ca13bf-db3b-4078-98a0-71ccd6c1a931\",\"type\":\"CDSView\"}},\"id\":\"a935ca62-4b54-4c44-aff3-6eef5793437c\",\"type\":\"GlyphRenderer\"},{\"attributes\":{\"axis_label\":\"cooling rate [K/day]\",\"formatter\":{\"id\":\"5a3a4487-3b49-485c-ae2f-fba4cf37a7b0\",\"type\":\"BasicTickFormatter\"},\"plot\":{\"id\":\"204345d7-c980-4a0b-9468-f3e69f01ccde\",\"subtype\":\"Figure\",\"type\":\"Plot\"},\"ticker\":{\"id\":\"12669f64-90b6-4641-bbaf-7d14ec8a0033\",\"type\":\"BasicTicker\"}},\"id\":\"74d664e4-7a43-47b6-b450-8807cf0894ad\",\"type\":\"LinearAxis\"},{\"attributes\":{\"data_source\":{\"id\":\"76446358-a4e5-4d09-b66d-05fc8e060fa1\",\"type\":\"ColumnDataSource\"},\"glyph\":{\"id\":\"54e60713-d43f-4902-83f9-7a59b7f90286\",\"type\":\"Line\"},\"hover_glyph\":null,\"muted_glyph\":null,\"nonselection_glyph\":{\"id\":\"286f623a-f4a4-4faf-b241-35abd9b13df1\",\"type\":\"Line\"},\"selection_glyph\":null,\"view\":{\"id\":\"a83b1c41-4f69-42f1-98c5-2ca309f86373\",\"type\":\"CDSView\"}},\"id\":\"b8961434-27d6-4886-bfa5-df1542fcdb78\",\"type\":\"GlyphRenderer\"},{\"attributes\":{},\"id\":\"1d57721d-e210-4171-a38a-5bf7a254568b\",\"type\":\"LinearScale\"},{\"attributes\":{},\"id\":\"12669f64-90b6-4641-bbaf-7d14ec8a0033\",\"type\":\"BasicTicker\"},{\"attributes\":{},\"id\":\"3701ae98-7e64-4b2c-bc96-2c7ed5e9b1a4\",\"type\":\"HelpTool\"},{\"attributes\":{\"data_source\":{\"id\":\"3ba5acff-8da4-43be-9360-f005f9ced047\",\"type\":\"ColumnDataSource\"},\"glyph\":{\"id\":\"250759a7-be78-4ada-8839-e10c44126888\",\"type\":\"Line\"},\"hover_glyph\":null,\"muted_glyph\":null,\"nonselection_glyph\":{\"id\":\"12b893f1-ba64-4eb5-8fed-5cabe29f2c49\",\"type\":\"Line\"},\"selection_glyph\":null,\"view\":{\"id\":\"15f467ef-e110-4e7b-9118-667c38f8cf47\",\"type\":\"CDSView\"}},\"id\":\"31f19708-766b-4b2e-bdfb-98feedad123d\",\"type\":\"GlyphRenderer\"},{\"attributes\":{\"fill_alpha\":{\"value\":0.7},\"fill_color\":{\"value\":\"#4daf4a\"},\"line_alpha\":{\"value\":0.7},\"line_color\":{\"value\":\"#4daf4a\"},\"x\":{\"field\":\"x\"},\"y\":{\"field\":\"y\"}},\"id\":\"5f4f3a72-6cbf-4433-b851-09241e6a95f1\",\"type\":\"Circle\"},{\"attributes\":{\"plot\":{\"id\":\"204345d7-c980-4a0b-9468-f3e69f01ccde\",\"subtype\":\"Figure\",\"type\":\"Plot\"},\"ticker\":{\"id\":\"12669f64-90b6-4641-bbaf-7d14ec8a0033\",\"type\":\"BasicTicker\"}},\"id\":\"4a9deb11-3794-4e0c-bf3b-05f289aca559\",\"type\":\"Grid\"},{\"attributes\":{\"fill_alpha\":{\"value\":0.1},\"fill_color\":{\"value\":\"#1f77b4\"},\"line_alpha\":{\"value\":0.1},\"line_color\":{\"value\":\"#1f77b4\"},\"x\":{\"field\":\"x\"},\"y\":{\"field\":\"y\"}},\"id\":\"f68780af-c8f8-4640-a3ea-8b9169ed5102\",\"type\":\"Circle\"},{\"attributes\":{\"source\":{\"id\":\"76446358-a4e5-4d09-b66d-05fc8e060fa1\",\"type\":\"ColumnDataSource\"}},\"id\":\"a83b1c41-4f69-42f1-98c5-2ca309f86373\",\"type\":\"CDSView\"},{\"attributes\":{\"callback\":null,\"end\":0.01,\"start\":1020},\"id\":\"e8f1ad06-937a-4388-b54d-7657e88f2fa3\",\"type\":\"Range1d\"},{\"attributes\":{\"callback\":null,\"end\":0.27506276199999996,\"start\":-0.07548696199999999},\"id\":\"41163b88-e7e6-43ca-9ff3-aaab68e70548\",\"type\":\"Range1d\"},{\"attributes\":{},\"id\":\"96650289-45dd-421c-bfd3-82017a6e833f\",\"type\":\"ResetTool\"},{\"attributes\":{\"callback\":null,\"end\":0.06505795873300001,\"start\":-0.004515092033},\"id\":\"bafa5539-a273-4380-99fe-e2074ce71871\",\"type\":\"Range1d\"},{\"attributes\":{},\"id\":\"631d72fb-0a2b-4587-8a9e-90d172341b21\",\"type\":\"PanTool\"},{\"attributes\":{\"line_alpha\":0.1,\"line_color\":\"#1f77b4\",\"line_width\":1.5,\"x\":{\"field\":\"x\"},\"y\":{\"field\":\"y\"}},\"id\":\"286f623a-f4a4-4faf-b241-35abd9b13df1\",\"type\":\"Line\"},{\"attributes\":{\"dimension\":1,\"plot\":{\"id\":\"204345d7-c980-4a0b-9468-f3e69f01ccde\",\"subtype\":\"Figure\",\"type\":\"Plot\"},\"ticker\":{\"id\":\"d9539351-288b-4d7e-9437-c5c4c6524f96\",\"type\":\"LogTicker\"}},\"id\":\"a35e4fe5-718c-497b-b2f6-e8bbc51c921f\",\"type\":\"Grid\"},{\"attributes\":{},\"id\":\"e567b9b7-7755-43ae-a87f-f40360d9e5f1\",\"type\":\"BasicTickFormatter\"},{\"attributes\":{\"callback\":null,\"column_names\":[\"x\",\"y\"],\"data\":{\"x\":{\"__ndarray__\":\"h2OGW3i90T+MN5IBKXy0Pz38IL5Yh6E/cz5R5tqokD9qZV0ED9GRv6lzJhxj76C/tltTnzKeo7+Ylvte73CkvyfpOaCnLKO/D6CGPyjHpL/zQJ48sAylvyR1p+CVyaa/70DpgC5eqL/MbJcDK/Gtv4B09j0GhbG/LAL036kesb90A+xAKZyqvx63Mr3RgqG/x7v44lgFkL9j9KW9HfZlPxweYoY9Ips/gVuGHoLBuD9TJhSmGDXNP9fDdns5gc4/ryjj59gkxT9QK5ZshmW9Py4Hf2EnLLI/R//BQ/UvoD8xeLIBsyeAPxypvjyr6Go/00TFn/RDdT837HNDd/NqP9Kkal6nVEQ/20XjPg/iSr/F2WBpqOZVvwxn+7PGcFq/QOZDiwUpXL8uAESzz0Bcv23mmSGRUmK/GqaI5XWRab8qIv76jD9tv6IEIN5R5Gu/yl5+hZZ+bL87bliZwFtuv8TrNPpjZm+/JTsRYHN3br/TEMoFqw1tvzNuwKCyhWu/CD23Ya+Pab8UVWxBsOBmv/ikwsGmGmK/D4WHk/H0Vb/oHrqfDnoXv5ebJCT2s1Y/wySLJTSjaT/j5CJg69B0PwfwcQHDTX0/ZHeK31CUgz/2o8dAtfmHPywx4y5BlIs/UOsIcBI0jj8YnUCZxRKQP2geGdsGFpE/9aaCh/LQkj8DMKX7JyKVP7DNieez1pg/QtAYgCIjnT8iqksh6wShP2JtDR4G8KI/Suas3eM9pD8vjds/gT2lP/vHOAKVSqY/MOKJwFuXpz+vrhf+ZHCpPzgyTeDverA/\",\"dtype\":\"float64\",\"shape\":[75]},\"y\":{\"__ndarray__\":\"S/O/Q+51ND/430zAtpRIP2vylNV0PVE/QxsjCssuWD/TR4Z78fVgP+inNsRxymc/OuuBfZWvcD/u3TFA02d3P2d3VoBnaoA/CD5h5MAGhz/1pA8HUCaQP+zrCsc9p5Y/Fb7LAKjGnz/nJ9c/SEmmPwBD+fzcQq8/FOZwv9nstT8Er5Y7M8G+P0c+r3jqkcU/yK72qKZBzj+tM989FzjVPxbgmr8yxN0/cOm5AXbg5D+5ctXAf0jtP5kqGJXUifQ/DsrqDELP/D8MCAhBojQEQDItVnmnVwxAiFXNvdHgE0BSSZ2AJuIbQAMJih9jjiNA5q4l5INuK0CPVN/5RT0zQHzxRXu8/DpAOZ7PgHrtQkAg8wGBzoxKQBSTN8DMeFJA2NmQf2ZqWEAAAAAAAFxeQEQX1LfMJmJAmpmZmZkfZUBmZmZmZhhoQLzoK0gzEWtAAAAAAAAKbkCiC+pbZoFwQAhyUMLM/XFA+I2vPTN6c0AQ5KCEmfZ0QAAAAAAAc3ZA8Btfe2bvd0AIclDCzGt5QPeNrz0z6HpAEOSghJlkfEAAAAAAAOF9QKML6ltmXX9ABTkoYeZsgED7xteeGSuBQAhyUMJM6YFAAAAAAICngkD4ja89s2WDQAU5KGHmI4RA+8bXnhnihEAIclDCTKCFQAAAAACAXoZA+I2vPbMch0AFOShh5tqHQPvG154ZmYhACHJQwkxXiUAAAAAAgBWKQPeNrz2z04pABTkoYeaRi0D7xteeGVCMQAlyUMJMDo1AAAAAAIDMjUD3ja89s4qOQGZmZmbmSI9A\",\"dtype\":\"float64\",\"shape\":[75]}}},\"id\":\"58f62da0-a340-433d-8705-d6a6e14cb0b2\",\"type\":\"ColumnDataSource\"},{\"attributes\":{\"overlay\":{\"id\":\"a5ec5361-159e-4562-8280-359514a07a02\",\"type\":\"BoxAnnotation\"}},\"id\":\"aa2cc54e-8ea4-45ca-bccd-045301f0574e\",\"type\":\"BoxZoomTool\"},{\"attributes\":{\"tools\":[{\"id\":\"e9f7d3b2-9511-48a0-b6b8-8d1200b303ec\",\"type\":\"PanTool\"},{\"id\":\"e24fa9c3-a010-4197-946d-d34524c9ae1d\",\"type\":\"WheelZoomTool\"},{\"id\":\"aa2cc54e-8ea4-45ca-bccd-045301f0574e\",\"type\":\"BoxZoomTool\"},{\"id\":\"1ea543cf-662b-44ed-85e6-3e3ce433376d\",\"type\":\"SaveTool\"},{\"id\":\"9e0d555a-bb51-4b82-836a-024d87b46d11\",\"type\":\"ResetTool\"},{\"id\":\"f14c8e33-b649-4e7c-908f-51ddbfb6f8f7\",\"type\":\"HelpTool\"},{\"id\":\"631d72fb-0a2b-4587-8a9e-90d172341b21\",\"type\":\"PanTool\"},{\"id\":\"343632cb-e5b0-41d0-8a07-3f882eb3c748\",\"type\":\"WheelZoomTool\"},{\"id\":\"bc79a8d9-4ded-43d9-a17b-b55808b19814\",\"type\":\"BoxZoomTool\"},{\"id\":\"382ac581-e7f6-4b0f-846d-639898943baa\",\"type\":\"SaveTool\"},{\"id\":\"96650289-45dd-421c-bfd3-82017a6e833f\",\"type\":\"ResetTool\"},{\"id\":\"3701ae98-7e64-4b2c-bc96-2c7ed5e9b1a4\",\"type\":\"HelpTool\"}]},\"id\":\"7a56c915-cc0b-4047-98ef-92008967fe7b\",\"type\":\"ProxyToolbar\"},{\"attributes\":{\"bottom_units\":\"screen\",\"fill_alpha\":{\"value\":0.5},\"fill_color\":{\"value\":\"lightgrey\"},\"left_units\":\"screen\",\"level\":\"overlay\",\"line_alpha\":{\"value\":1.0},\"line_color\":{\"value\":\"black\"},\"line_dash\":[4,4],\"line_width\":{\"value\":2},\"plot\":null,\"render_mode\":\"css\",\"right_units\":\"screen\",\"top_units\":\"screen\"},\"id\":\"b71382ce-7a9a-4822-99bd-76a3b124f6c3\",\"type\":\"BoxAnnotation\"},{\"attributes\":{\"overlay\":{\"id\":\"b71382ce-7a9a-4822-99bd-76a3b124f6c3\",\"type\":\"BoxAnnotation\"}},\"id\":\"bc79a8d9-4ded-43d9-a17b-b55808b19814\",\"type\":\"BoxZoomTool\"},{\"attributes\":{},\"id\":\"343632cb-e5b0-41d0-8a07-3f882eb3c748\",\"type\":\"WheelZoomTool\"},{\"attributes\":{\"fill_alpha\":{\"value\":0.7},\"fill_color\":{\"value\":\"#984ea3\"},\"line_alpha\":{\"value\":0.7},\"line_color\":{\"value\":\"#984ea3\"},\"x\":{\"field\":\"x\"},\"y\":{\"field\":\"y\"}},\"id\":\"c9b91279-05c2-4dcc-8a56-da92e1fd7c48\",\"type\":\"Square\"},{\"attributes\":{\"line_alpha\":0.6,\"line_color\":\"#e41a1c\",\"line_dash\":[6],\"line_width\":5,\"x\":{\"field\":\"x\"},\"y\":{\"field\":\"y\"}},\"id\":\"70769f0f-1eba-4b45-ba20-aa8fa02f88dc\",\"type\":\"Line\"},{\"attributes\":{\"children\":[{\"id\":\"e83a530c-0c70-4269-bd68-7d80b276988d\",\"subtype\":\"Figure\",\"type\":\"Plot\"},{\"id\":\"204345d7-c980-4a0b-9468-f3e69f01ccde\",\"subtype\":\"Figure\",\"type\":\"Plot\"}]},\"id\":\"175a6982-7ebd-4614-9b09-33f947785973\",\"type\":\"Row\"},{\"attributes\":{\"data_source\":{\"id\":\"7a13c18a-f4bc-477b-95c8-b6b03192e1aa\",\"type\":\"ColumnDataSource\"},\"glyph\":{\"id\":\"c9b91279-05c2-4dcc-8a56-da92e1fd7c48\",\"type\":\"Square\"},\"hover_glyph\":null,\"muted_glyph\":null,\"nonselection_glyph\":{\"id\":\"893bf46f-fa82-440c-8678-dba62f533e12\",\"type\":\"Square\"},\"selection_glyph\":null,\"view\":{\"id\":\"d17b26eb-194c-474d-86b8-60ec15d4e10c\",\"type\":\"CDSView\"}},\"id\":\"aa4ddeed-ba83-42cd-aa4f-fdd0098ca898\",\"type\":\"GlyphRenderer\"},{\"attributes\":{},\"id\":\"9e0d555a-bb51-4b82-836a-024d87b46d11\",\"type\":\"ResetTool\"},{\"attributes\":{\"fill_alpha\":{\"value\":0.1},\"fill_color\":{\"value\":\"#1f77b4\"},\"line_alpha\":{\"value\":0.1},\"line_color\":{\"value\":\"#1f77b4\"},\"x\":{\"field\":\"x\"},\"y\":{\"field\":\"y\"}},\"id\":\"2e7eb438-233e-4dbf-913d-fb82014d775d\",\"type\":\"Circle\"}],\"root_ids\":[\"cbd492c6-c94c-4201-b76a-2f541e4b1483\"]},\"title\":\"Bokeh Application\",\"version\":\"0.12.14\"}};\n",
       "  var render_items = [{\"docid\":\"2a89fc24-9e94-448b-8807-3a1f9c5e9877\",\"elementid\":\"2231eafe-26d2-4a54-83b8-67e7efd9a7da\",\"modelid\":\"cbd492c6-c94c-4201-b76a-2f541e4b1483\"}];\n",
       "  root.Bokeh.embed.embed_items_notebook(docs_json, render_items);\n",
       "\n",
       "  }\n",
       "  if (root.Bokeh !== undefined) {\n",
       "    embed_document(root);\n",
       "  } else {\n",
       "    var attempts = 0;\n",
       "    var timer = setInterval(function(root) {\n",
       "      if (root.Bokeh !== undefined) {\n",
       "        embed_document(root);\n",
       "        clearInterval(timer);\n",
       "      }\n",
       "      attempts++;\n",
       "      if (attempts > 100) {\n",
       "        console.log(\"Bokeh: ERROR: Unable to run BokehJS code because BokehJS library is missing\")\n",
       "        clearInterval(timer);\n",
       "      }\n",
       "    }, 10, root)\n",
       "  }\n",
       "})(window);"
      ],
      "application/vnd.bokehjs_exec.v0+json": ""
     },
     "metadata": {
      "application/vnd.bokehjs_exec.v0+json": {
       "id": "cbd492c6-c94c-4201-b76a-2f541e4b1483"
      }
     },
     "output_type": "display_data"
    },
    {
     "name": "stdout",
     "output_type": "stream",
     "text": [
      "FIGURE. Cooling rate profiles.\n"
     ]
    },
    {
     "data": {
      "text/html": [
       "<a id=\"Flux_Comparison\"></a>"
      ],
      "text/plain": [
       "<IPython.core.display.HTML object>"
      ]
     },
     "metadata": {},
     "output_type": "display_data"
    },
    {
     "data": {
      "text/markdown": [
       "# Flux Comparison"
      ],
      "text/plain": [
       "<IPython.core.display.Markdown object>"
      ]
     },
     "metadata": {},
     "output_type": "display_data"
    },
    {
     "data": {
      "text/html": [
       "<div>\n",
       "<style>\n",
       "    .dataframe thead tr:only-child th {\n",
       "        text-align: right;\n",
       "    }\n",
       "\n",
       "    .dataframe thead th {\n",
       "        text-align: left;\n",
       "    }\n",
       "\n",
       "    .dataframe tbody tr th {\n",
       "        vertical-align: top;\n",
       "    }\n",
       "</style>\n",
       "<table border=\"1\" class=\"dataframe\">\n",
       "  <thead>\n",
       "    <tr style=\"text-align: right;\">\n",
       "      <th></th>\n",
       "      <th></th>\n",
       "      <th>flug</th>\n",
       "      <th>fldg</th>\n",
       "      <th>fnetg</th>\n",
       "    </tr>\n",
       "    <tr>\n",
       "      <th>pressure</th>\n",
       "      <th>level</th>\n",
       "      <th></th>\n",
       "      <th></th>\n",
       "      <th></th>\n",
       "    </tr>\n",
       "  </thead>\n",
       "  <tbody>\n",
       "    <tr>\n",
       "      <th>0.0000</th>\n",
       "      <th>1</th>\n",
       "      <td>-4.021537</td>\n",
       "      <td>0.000000</td>\n",
       "      <td>-4.021537</td>\n",
       "    </tr>\n",
       "    <tr>\n",
       "      <th>1.0685</th>\n",
       "      <th>24</th>\n",
       "      <td>-4.029232</td>\n",
       "      <td>0.018062</td>\n",
       "      <td>-4.011170</td>\n",
       "    </tr>\n",
       "    <tr>\n",
       "      <th>1013.0000</th>\n",
       "      <th>76</th>\n",
       "      <td>-6.625452</td>\n",
       "      <td>4.041280</td>\n",
       "      <td>-2.584173</td>\n",
       "    </tr>\n",
       "  </tbody>\n",
       "</table>\n",
       "</div>"
      ],
      "text/plain": [
       "                     flug      fldg     fnetg\n",
       "pressure  level                              \n",
       "0.0000    1     -4.021537  0.000000 -4.021537\n",
       "1.0685    24    -4.029232  0.018062 -4.011170\n",
       "1013.0000 76    -6.625452  4.041280 -2.584173"
      ]
     },
     "metadata": {},
     "output_type": "display_data"
    },
    {
     "name": "stdout",
     "output_type": "stream",
     "text": [
      "Table. Fluxes. WGT igg=10 wgt_flux=1\n"
     ]
    },
    {
     "data": {
      "text/html": [
       "<div>\n",
       "<style>\n",
       "    .dataframe thead tr:only-child th {\n",
       "        text-align: right;\n",
       "    }\n",
       "\n",
       "    .dataframe thead th {\n",
       "        text-align: left;\n",
       "    }\n",
       "\n",
       "    .dataframe tbody tr th {\n",
       "        vertical-align: top;\n",
       "    }\n",
       "</style>\n",
       "<table border=\"1\" class=\"dataframe\">\n",
       "  <thead>\n",
       "    <tr style=\"text-align: right;\">\n",
       "      <th></th>\n",
       "      <th></th>\n",
       "      <th>flug</th>\n",
       "      <th>fldg</th>\n",
       "      <th>fnetg</th>\n",
       "    </tr>\n",
       "    <tr>\n",
       "      <th>pressure</th>\n",
       "      <th>level</th>\n",
       "      <th></th>\n",
       "      <th></th>\n",
       "      <th></th>\n",
       "    </tr>\n",
       "  </thead>\n",
       "  <tbody>\n",
       "    <tr>\n",
       "      <th>0.0000</th>\n",
       "      <th>1</th>\n",
       "      <td>-4.087499</td>\n",
       "      <td>0.000000</td>\n",
       "      <td>-4.087499</td>\n",
       "    </tr>\n",
       "    <tr>\n",
       "      <th>1.0685</th>\n",
       "      <th>24</th>\n",
       "      <td>-4.094944</td>\n",
       "      <td>0.018859</td>\n",
       "      <td>-4.076085</td>\n",
       "    </tr>\n",
       "    <tr>\n",
       "      <th>1013.0000</th>\n",
       "      <th>76</th>\n",
       "      <td>-6.625452</td>\n",
       "      <td>4.061761</td>\n",
       "      <td>-2.563691</td>\n",
       "    </tr>\n",
       "  </tbody>\n",
       "</table>\n",
       "</div>"
      ],
      "text/plain": [
       "                     flug      fldg     fnetg\n",
       "pressure  level                              \n",
       "0.0000    1     -4.087499  0.000000 -4.087499\n",
       "1.0685    24    -4.094944  0.018859 -4.076085\n",
       "1013.0000 76    -6.625452  4.061761 -2.563691"
      ]
     },
     "metadata": {},
     "output_type": "display_data"
    },
    {
     "name": "stdout",
     "output_type": "stream",
     "text": [
      "Table. Fluxes. CRD\n"
     ]
    },
    {
     "data": {
      "text/html": [
       "<div>\n",
       "<style>\n",
       "    .dataframe thead tr:only-child th {\n",
       "        text-align: right;\n",
       "    }\n",
       "\n",
       "    .dataframe thead th {\n",
       "        text-align: left;\n",
       "    }\n",
       "\n",
       "    .dataframe tbody tr th {\n",
       "        vertical-align: top;\n",
       "    }\n",
       "</style>\n",
       "<table border=\"1\" class=\"dataframe\">\n",
       "  <thead>\n",
       "    <tr style=\"text-align: right;\">\n",
       "      <th></th>\n",
       "      <th></th>\n",
       "      <th>flug</th>\n",
       "      <th>fldg</th>\n",
       "      <th>fnetg</th>\n",
       "    </tr>\n",
       "    <tr>\n",
       "      <th>pressure</th>\n",
       "      <th>level</th>\n",
       "      <th></th>\n",
       "      <th></th>\n",
       "      <th></th>\n",
       "    </tr>\n",
       "  </thead>\n",
       "  <tbody>\n",
       "    <tr>\n",
       "      <th>1.000000e-08</th>\n",
       "      <th>1</th>\n",
       "      <td>-4.022599</td>\n",
       "      <td>0.000002</td>\n",
       "      <td>-4.022597</td>\n",
       "    </tr>\n",
       "    <tr>\n",
       "      <th>1.068500e+00</th>\n",
       "      <th>24</th>\n",
       "      <td>-4.030184</td>\n",
       "      <td>0.017642</td>\n",
       "      <td>-4.012541</td>\n",
       "    </tr>\n",
       "    <tr>\n",
       "      <th>1.013000e+03</th>\n",
       "      <th>76</th>\n",
       "      <td>-6.625452</td>\n",
       "      <td>4.068976</td>\n",
       "      <td>-2.556476</td>\n",
       "    </tr>\n",
       "  </tbody>\n",
       "</table>\n",
       "</div>"
      ],
      "text/plain": [
       "                        flug      fldg     fnetg\n",
       "pressure     level                              \n",
       "1.000000e-08 1     -4.022599  0.000002 -4.022597\n",
       "1.068500e+00 24    -4.030184  0.017642 -4.012541\n",
       "1.013000e+03 76    -6.625452  4.068976 -2.556476"
      ]
     },
     "metadata": {},
     "output_type": "display_data"
    },
    {
     "name": "stdout",
     "output_type": "stream",
     "text": [
      "Table. Fluxes. CLIRAD\n"
     ]
    },
    {
     "data": {
      "text/html": [
       "<div>\n",
       "<style>\n",
       "    .dataframe thead tr:only-child th {\n",
       "        text-align: right;\n",
       "    }\n",
       "\n",
       "    .dataframe thead th {\n",
       "        text-align: left;\n",
       "    }\n",
       "\n",
       "    .dataframe tbody tr th {\n",
       "        vertical-align: top;\n",
       "    }\n",
       "</style>\n",
       "<table border=\"1\" class=\"dataframe\">\n",
       "  <thead>\n",
       "    <tr style=\"text-align: right;\">\n",
       "      <th></th>\n",
       "      <th></th>\n",
       "      <th>flug</th>\n",
       "      <th>fldg</th>\n",
       "      <th>fnetg</th>\n",
       "    </tr>\n",
       "    <tr>\n",
       "      <th>pressure</th>\n",
       "      <th>level</th>\n",
       "      <th></th>\n",
       "      <th></th>\n",
       "      <th></th>\n",
       "    </tr>\n",
       "  </thead>\n",
       "  <tbody>\n",
       "    <tr>\n",
       "      <th>0.0000</th>\n",
       "      <th>1</th>\n",
       "      <td>-0.065963</td>\n",
       "      <td>0.000000</td>\n",
       "      <td>-0.065963</td>\n",
       "    </tr>\n",
       "    <tr>\n",
       "      <th>1.0685</th>\n",
       "      <th>24</th>\n",
       "      <td>-0.065711</td>\n",
       "      <td>0.000796</td>\n",
       "      <td>-0.064915</td>\n",
       "    </tr>\n",
       "    <tr>\n",
       "      <th>1013.0000</th>\n",
       "      <th>76</th>\n",
       "      <td>0.000000</td>\n",
       "      <td>0.020482</td>\n",
       "      <td>0.020482</td>\n",
       "    </tr>\n",
       "  </tbody>\n",
       "</table>\n",
       "</div>"
      ],
      "text/plain": [
       "                     flug      fldg     fnetg\n",
       "pressure  level                              \n",
       "0.0000    1     -0.065963  0.000000 -0.065963\n",
       "1.0685    24    -0.065711  0.000796 -0.064915\n",
       "1013.0000 76     0.000000  0.020482  0.020482"
      ]
     },
     "metadata": {},
     "output_type": "display_data"
    },
    {
     "name": "stdout",
     "output_type": "stream",
     "text": [
      "Table. Fluxes. (CRD) - (WGT igg=10 wgt_flux=1)\n"
     ]
    },
    {
     "data": {
      "text/html": [
       "<div>\n",
       "<style>\n",
       "    .dataframe thead tr:only-child th {\n",
       "        text-align: right;\n",
       "    }\n",
       "\n",
       "    .dataframe thead th {\n",
       "        text-align: left;\n",
       "    }\n",
       "\n",
       "    .dataframe tbody tr th {\n",
       "        vertical-align: top;\n",
       "    }\n",
       "</style>\n",
       "<table border=\"1\" class=\"dataframe\">\n",
       "  <thead>\n",
       "    <tr style=\"text-align: right;\">\n",
       "      <th></th>\n",
       "      <th></th>\n",
       "      <th>flug</th>\n",
       "      <th>fldg</th>\n",
       "      <th>fnetg</th>\n",
       "    </tr>\n",
       "    <tr>\n",
       "      <th>pressure</th>\n",
       "      <th>level</th>\n",
       "      <th></th>\n",
       "      <th></th>\n",
       "      <th></th>\n",
       "    </tr>\n",
       "  </thead>\n",
       "  <tbody>\n",
       "    <tr>\n",
       "      <th>0.0000</th>\n",
       "      <th>1</th>\n",
       "      <td>-1.062600e-03</td>\n",
       "      <td>0.000002</td>\n",
       "      <td>-0.001061</td>\n",
       "    </tr>\n",
       "    <tr>\n",
       "      <th>1.0685</th>\n",
       "      <th>24</th>\n",
       "      <td>-9.513000e-04</td>\n",
       "      <td>-0.000420</td>\n",
       "      <td>-0.001371</td>\n",
       "    </tr>\n",
       "    <tr>\n",
       "      <th>1013.0000</th>\n",
       "      <th>76</th>\n",
       "      <td>3.000000e-07</td>\n",
       "      <td>0.027697</td>\n",
       "      <td>0.027697</td>\n",
       "    </tr>\n",
       "  </tbody>\n",
       "</table>\n",
       "</div>"
      ],
      "text/plain": [
       "                         flug      fldg     fnetg\n",
       "pressure  level                                  \n",
       "0.0000    1     -1.062600e-03  0.000002 -0.001061\n",
       "1.0685    24    -9.513000e-04 -0.000420 -0.001371\n",
       "1013.0000 76     3.000000e-07  0.027697  0.027697"
      ]
     },
     "metadata": {},
     "output_type": "display_data"
    },
    {
     "name": "stdout",
     "output_type": "stream",
     "text": [
      "Table. Fluxes. (CLIRAD) - (WGT igg=10 wgt_flux=1)\n"
     ]
    },
    {
     "data": {
      "text/html": [
       "<a id=\"Best-fit_Parameters\"></a>"
      ],
      "text/plain": [
       "<IPython.core.display.HTML object>"
      ]
     },
     "metadata": {},
     "output_type": "display_data"
    },
    {
     "data": {
      "text/markdown": [
       "# Best-fit Parameters"
      ],
      "text/plain": [
       "<IPython.core.display.Markdown object>"
      ]
     },
     "metadata": {},
     "output_type": "display_data"
    },
    {
     "name": "stdout",
     "output_type": "stream",
     "text": [
      "Best-fit values for each (gas, band)\n",
      "------------------------------------\n",
      "o h2o band9\n",
      "  molecule = h2o\n",
      "  band = 9\n",
      "  commitnumber = d5931a1\n",
      "  vmin = 1900\n",
      "  vmax = 3000\n",
      "  dv = 0.001\n",
      "  nv = 1000\n",
      "  ref_pts = [(500, 250)]\n",
      "  ng_refs = [5]\n",
      "  ng_adju = [0]\n",
      "  klin = 1e-24\n",
      "  option_wgt_k = 1\n",
      "  wgt = [(0.4, 0.4, 0.5, 0.55, 0.85)]\n",
      "  w_diffuse = [(1.66, 1.66, 1.66, 1.66, 1.66)]\n",
      "  option_wgt_flux = 1\n",
      "  atmpro = mls\n",
      "  tsfc = 294\n",
      "  conc = None\n",
      "  option_compute_btable = 0\n",
      "  option_compute_ktable = 1\n",
      "o co2 band9\n",
      "  molecule = co2\n",
      "  band = 9\n",
      "  commitnumber = 043bdfe\n",
      "  vmin = 1900\n",
      "  vmax = 3000\n",
      "  dv = 0.001\n",
      "  nv = 1000\n",
      "  ref_pts = [(1, 250), (50, 250)]\n",
      "  ng_refs = [3, 3]\n",
      "  ng_adju = [2, 0]\n",
      "  klin = 1e-23\n",
      "  option_wgt_k = 1\n",
      "  wgt = [(0.7, 0.8, 0.7), (0.8, 0.7, 0.8)]\n",
      "  w_diffuse = [(1.66, 1.66, 1.75), (1.75, 1.6, 1.85)]\n",
      "  option_wgt_flux = 1\n",
      "  atmpro = mls\n",
      "  tsfc = 294\n",
      "  conc = 0.0004\n",
      "  option_compute_btable = 0\n",
      "  option_compute_ktable = 0\n"
     ]
    }
   ],
   "source": [
    "script()"
   ]
  },
  {
   "cell_type": "code",
   "execution_count": 13,
   "metadata": {},
   "outputs": [
    {
     "data": {
      "text/html": [
       "<script>\n",
       "code_show=true; \n",
       "function code_toggle() {\n",
       " if (code_show){\n",
       " $('div.input').hide();\n",
       " } else {\n",
       " $('div.input').show();\n",
       " }\n",
       " code_show = !code_show\n",
       "} \n",
       "$( document ).ready(code_toggle);\n",
       "</script>\n",
       "<form action=\"javascript:code_toggle()\"><input type=\"submit\" value=\"Click here to toggle on/off the raw code.\"></form>"
      ],
      "text/plain": [
       "<IPython.core.display.HTML object>"
      ]
     },
     "execution_count": 13,
     "metadata": {},
     "output_type": "execute_result"
    }
   ],
   "source": [
    "display.HTML('''<script>\n",
    "code_show=true; \n",
    "function code_toggle() {\n",
    " if (code_show){\n",
    " $('div.input').hide();\n",
    " } else {\n",
    " $('div.input').show();\n",
    " }\n",
    " code_show = !code_show\n",
    "} \n",
    "$( document ).ready(code_toggle);\n",
    "</script>\n",
    "<form action=\"javascript:code_toggle()\"><input type=\"submit\" value=\"Click here to toggle on/off the raw code.\"></form>''')"
   ]
  }
 ],
 "metadata": {
  "kernelspec": {
   "display_name": "Python 3",
   "language": "python",
   "name": "python3"
  },
  "language_info": {
   "codemirror_mode": {
    "name": "ipython",
    "version": 3
   },
   "file_extension": ".py",
   "mimetype": "text/x-python",
   "name": "python",
   "nbconvert_exporter": "python",
   "pygments_lexer": "ipython3",
   "version": "3.6.1"
  }
 },
 "nbformat": 4,
 "nbformat_minor": 2
}
