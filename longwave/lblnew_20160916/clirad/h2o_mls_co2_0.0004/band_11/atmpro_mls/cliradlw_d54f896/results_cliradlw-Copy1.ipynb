{
 "cells": [
  {
   "cell_type": "code",
   "execution_count": 1,
   "metadata": {
    "collapsed": true
   },
   "outputs": [],
   "source": [
    "%matplotlib inline\n",
    "import os\n",
    "import re\n",
    "import io\n",
    "import itertools\n",
    "import pprint\n",
    "\n",
    "from bokeh.io import output_notebook, show\n",
    "from bokeh.layouts import gridplot\n",
    "from bokeh.plotting import figure\n",
    "from bokeh.models import Range1d, Legend\n",
    "from bokeh.palettes import all_palettes\n",
    "\n",
    "import matplotlib\n",
    "import matplotlib.pyplot as plt\n",
    "import numpy as np\n",
    "import pandas as pd\n",
    "import xarray as xr\n",
    "\n",
    "import climatools.html.html as climahtml\n",
    "from climatools.lblnew.dataio import *\n",
    "from climatools.plot.plot import *\n",
    "\n",
    "import climatools.lblnew.bestfit_params as bestfits\n",
    "\n",
    "\n",
    "import IPython.display as display"
   ]
  },
  {
   "cell_type": "code",
   "execution_count": 2,
   "metadata": {},
   "outputs": [
    {
     "data": {
      "text/html": [
       "\n",
       "    <div class=\"bk-root\">\n",
       "        <a href=\"https://bokeh.pydata.org\" target=\"_blank\" class=\"bk-logo bk-logo-small bk-logo-notebook\"></a>\n",
       "        <span id=\"af48897e-d679-49df-89d8-3c9ba551ea7d\">Loading BokehJS ...</span>\n",
       "    </div>"
      ]
     },
     "metadata": {},
     "output_type": "display_data"
    },
    {
     "data": {
      "application/javascript": [
       "\n",
       "(function(root) {\n",
       "  function now() {\n",
       "    return new Date();\n",
       "  }\n",
       "\n",
       "  var force = true;\n",
       "\n",
       "  if (typeof (root._bokeh_onload_callbacks) === \"undefined\" || force === true) {\n",
       "    root._bokeh_onload_callbacks = [];\n",
       "    root._bokeh_is_loading = undefined;\n",
       "  }\n",
       "\n",
       "  var JS_MIME_TYPE = 'application/javascript';\n",
       "  var HTML_MIME_TYPE = 'text/html';\n",
       "  var EXEC_MIME_TYPE = 'application/vnd.bokehjs_exec.v0+json';\n",
       "  var CLASS_NAME = 'output_bokeh rendered_html';\n",
       "\n",
       "  /**\n",
       "   * Render data to the DOM node\n",
       "   */\n",
       "  function render(props, node) {\n",
       "    var script = document.createElement(\"script\");\n",
       "    node.appendChild(script);\n",
       "  }\n",
       "\n",
       "  /**\n",
       "   * Handle when an output is cleared or removed\n",
       "   */\n",
       "  function handleClearOutput(event, handle) {\n",
       "    var cell = handle.cell;\n",
       "\n",
       "    var id = cell.output_area._bokeh_element_id;\n",
       "    var server_id = cell.output_area._bokeh_server_id;\n",
       "    // Clean up Bokeh references\n",
       "    if (id !== undefined) {\n",
       "      Bokeh.index[id].model.document.clear();\n",
       "      delete Bokeh.index[id];\n",
       "    }\n",
       "\n",
       "    if (server_id !== undefined) {\n",
       "      // Clean up Bokeh references\n",
       "      var cmd = \"from bokeh.io.state import curstate; print(curstate().uuid_to_server['\" + server_id + \"'].get_sessions()[0].document.roots[0]._id)\";\n",
       "      cell.notebook.kernel.execute(cmd, {\n",
       "        iopub: {\n",
       "          output: function(msg) {\n",
       "            var element_id = msg.content.text.trim();\n",
       "            Bokeh.index[element_id].model.document.clear();\n",
       "            delete Bokeh.index[element_id];\n",
       "          }\n",
       "        }\n",
       "      });\n",
       "      // Destroy server and session\n",
       "      var cmd = \"import bokeh.io.notebook as ion; ion.destroy_server('\" + server_id + \"')\";\n",
       "      cell.notebook.kernel.execute(cmd);\n",
       "    }\n",
       "  }\n",
       "\n",
       "  /**\n",
       "   * Handle when a new output is added\n",
       "   */\n",
       "  function handleAddOutput(event, handle) {\n",
       "    var output_area = handle.output_area;\n",
       "    var output = handle.output;\n",
       "\n",
       "    // limit handleAddOutput to display_data with EXEC_MIME_TYPE content only\n",
       "    if ((output.output_type != \"display_data\") || (!output.data.hasOwnProperty(EXEC_MIME_TYPE))) {\n",
       "      return\n",
       "    }\n",
       "\n",
       "    var toinsert = output_area.element.find(\".\" + CLASS_NAME.split(' ')[0]);\n",
       "\n",
       "    if (output.metadata[EXEC_MIME_TYPE][\"id\"] !== undefined) {\n",
       "      toinsert[0].firstChild.textContent = output.data[JS_MIME_TYPE];\n",
       "      // store reference to embed id on output_area\n",
       "      output_area._bokeh_element_id = output.metadata[EXEC_MIME_TYPE][\"id\"];\n",
       "    }\n",
       "    if (output.metadata[EXEC_MIME_TYPE][\"server_id\"] !== undefined) {\n",
       "      var bk_div = document.createElement(\"div\");\n",
       "      bk_div.innerHTML = output.data[HTML_MIME_TYPE];\n",
       "      var script_attrs = bk_div.children[0].attributes;\n",
       "      for (var i = 0; i < script_attrs.length; i++) {\n",
       "        toinsert[0].firstChild.setAttribute(script_attrs[i].name, script_attrs[i].value);\n",
       "      }\n",
       "      // store reference to server id on output_area\n",
       "      output_area._bokeh_server_id = output.metadata[EXEC_MIME_TYPE][\"server_id\"];\n",
       "    }\n",
       "  }\n",
       "\n",
       "  function register_renderer(events, OutputArea) {\n",
       "\n",
       "    function append_mime(data, metadata, element) {\n",
       "      // create a DOM node to render to\n",
       "      var toinsert = this.create_output_subarea(\n",
       "        metadata,\n",
       "        CLASS_NAME,\n",
       "        EXEC_MIME_TYPE\n",
       "      );\n",
       "      this.keyboard_manager.register_events(toinsert);\n",
       "      // Render to node\n",
       "      var props = {data: data, metadata: metadata[EXEC_MIME_TYPE]};\n",
       "      render(props, toinsert[0]);\n",
       "      element.append(toinsert);\n",
       "      return toinsert\n",
       "    }\n",
       "\n",
       "    /* Handle when an output is cleared or removed */\n",
       "    events.on('clear_output.CodeCell', handleClearOutput);\n",
       "    events.on('delete.Cell', handleClearOutput);\n",
       "\n",
       "    /* Handle when a new output is added */\n",
       "    events.on('output_added.OutputArea', handleAddOutput);\n",
       "\n",
       "    /**\n",
       "     * Register the mime type and append_mime function with output_area\n",
       "     */\n",
       "    OutputArea.prototype.register_mime_type(EXEC_MIME_TYPE, append_mime, {\n",
       "      /* Is output safe? */\n",
       "      safe: true,\n",
       "      /* Index of renderer in `output_area.display_order` */\n",
       "      index: 0\n",
       "    });\n",
       "  }\n",
       "\n",
       "  // register the mime type if in Jupyter Notebook environment and previously unregistered\n",
       "  if (root.Jupyter !== undefined) {\n",
       "    var events = require('base/js/events');\n",
       "    var OutputArea = require('notebook/js/outputarea').OutputArea;\n",
       "\n",
       "    if (OutputArea.prototype.mime_types().indexOf(EXEC_MIME_TYPE) == -1) {\n",
       "      register_renderer(events, OutputArea);\n",
       "    }\n",
       "  }\n",
       "\n",
       "  \n",
       "  if (typeof (root._bokeh_timeout) === \"undefined\" || force === true) {\n",
       "    root._bokeh_timeout = Date.now() + 5000;\n",
       "    root._bokeh_failed_load = false;\n",
       "  }\n",
       "\n",
       "  var NB_LOAD_WARNING = {'data': {'text/html':\n",
       "     \"<div style='background-color: #fdd'>\\n\"+\n",
       "     \"<p>\\n\"+\n",
       "     \"BokehJS does not appear to have successfully loaded. If loading BokehJS from CDN, this \\n\"+\n",
       "     \"may be due to a slow or bad network connection. Possible fixes:\\n\"+\n",
       "     \"</p>\\n\"+\n",
       "     \"<ul>\\n\"+\n",
       "     \"<li>re-rerun `output_notebook()` to attempt to load from CDN again, or</li>\\n\"+\n",
       "     \"<li>use INLINE resources instead, as so:</li>\\n\"+\n",
       "     \"</ul>\\n\"+\n",
       "     \"<code>\\n\"+\n",
       "     \"from bokeh.resources import INLINE\\n\"+\n",
       "     \"output_notebook(resources=INLINE)\\n\"+\n",
       "     \"</code>\\n\"+\n",
       "     \"</div>\"}};\n",
       "\n",
       "  function display_loaded() {\n",
       "    var el = document.getElementById(\"af48897e-d679-49df-89d8-3c9ba551ea7d\");\n",
       "    if (el != null) {\n",
       "      el.textContent = \"BokehJS is loading...\";\n",
       "    }\n",
       "    if (root.Bokeh !== undefined) {\n",
       "      if (el != null) {\n",
       "        el.textContent = \"BokehJS \" + root.Bokeh.version + \" successfully loaded.\";\n",
       "      }\n",
       "    } else if (Date.now() < root._bokeh_timeout) {\n",
       "      setTimeout(display_loaded, 100)\n",
       "    }\n",
       "  }\n",
       "\n",
       "\n",
       "  function run_callbacks() {\n",
       "    try {\n",
       "      root._bokeh_onload_callbacks.forEach(function(callback) { callback() });\n",
       "    }\n",
       "    finally {\n",
       "      delete root._bokeh_onload_callbacks\n",
       "    }\n",
       "    console.info(\"Bokeh: all callbacks have finished\");\n",
       "  }\n",
       "\n",
       "  function load_libs(js_urls, callback) {\n",
       "    root._bokeh_onload_callbacks.push(callback);\n",
       "    if (root._bokeh_is_loading > 0) {\n",
       "      console.log(\"Bokeh: BokehJS is being loaded, scheduling callback at\", now());\n",
       "      return null;\n",
       "    }\n",
       "    if (js_urls == null || js_urls.length === 0) {\n",
       "      run_callbacks();\n",
       "      return null;\n",
       "    }\n",
       "    console.log(\"Bokeh: BokehJS not loaded, scheduling load and callback at\", now());\n",
       "    root._bokeh_is_loading = js_urls.length;\n",
       "    for (var i = 0; i < js_urls.length; i++) {\n",
       "      var url = js_urls[i];\n",
       "      var s = document.createElement('script');\n",
       "      s.src = url;\n",
       "      s.async = false;\n",
       "      s.onreadystatechange = s.onload = function() {\n",
       "        root._bokeh_is_loading--;\n",
       "        if (root._bokeh_is_loading === 0) {\n",
       "          console.log(\"Bokeh: all BokehJS libraries loaded\");\n",
       "          run_callbacks()\n",
       "        }\n",
       "      };\n",
       "      s.onerror = function() {\n",
       "        console.warn(\"failed to load library \" + url);\n",
       "      };\n",
       "      console.log(\"Bokeh: injecting script tag for BokehJS library: \", url);\n",
       "      document.getElementsByTagName(\"head\")[0].appendChild(s);\n",
       "    }\n",
       "  };var element = document.getElementById(\"af48897e-d679-49df-89d8-3c9ba551ea7d\");\n",
       "  if (element == null) {\n",
       "    console.log(\"Bokeh: ERROR: autoload.js configured with elementid 'af48897e-d679-49df-89d8-3c9ba551ea7d' but no matching script tag was found. \")\n",
       "    return false;\n",
       "  }\n",
       "\n",
       "  var js_urls = [\"https://cdn.pydata.org/bokeh/release/bokeh-0.12.14.min.js\", \"https://cdn.pydata.org/bokeh/release/bokeh-widgets-0.12.14.min.js\", \"https://cdn.pydata.org/bokeh/release/bokeh-tables-0.12.14.min.js\", \"https://cdn.pydata.org/bokeh/release/bokeh-gl-0.12.14.min.js\"];\n",
       "\n",
       "  var inline_js = [\n",
       "    function(Bokeh) {\n",
       "      Bokeh.set_log_level(\"info\");\n",
       "    },\n",
       "    \n",
       "    function(Bokeh) {\n",
       "      \n",
       "    },\n",
       "    function(Bokeh) {\n",
       "      console.log(\"Bokeh: injecting CSS: https://cdn.pydata.org/bokeh/release/bokeh-0.12.14.min.css\");\n",
       "      Bokeh.embed.inject_css(\"https://cdn.pydata.org/bokeh/release/bokeh-0.12.14.min.css\");\n",
       "      console.log(\"Bokeh: injecting CSS: https://cdn.pydata.org/bokeh/release/bokeh-widgets-0.12.14.min.css\");\n",
       "      Bokeh.embed.inject_css(\"https://cdn.pydata.org/bokeh/release/bokeh-widgets-0.12.14.min.css\");\n",
       "      console.log(\"Bokeh: injecting CSS: https://cdn.pydata.org/bokeh/release/bokeh-tables-0.12.14.min.css\");\n",
       "      Bokeh.embed.inject_css(\"https://cdn.pydata.org/bokeh/release/bokeh-tables-0.12.14.min.css\");\n",
       "    }\n",
       "  ];\n",
       "\n",
       "  function run_inline_js() {\n",
       "    \n",
       "    if ((root.Bokeh !== undefined) || (force === true)) {\n",
       "      for (var i = 0; i < inline_js.length; i++) {\n",
       "        inline_js[i].call(root, root.Bokeh);\n",
       "      }if (force === true) {\n",
       "        display_loaded();\n",
       "      }} else if (Date.now() < root._bokeh_timeout) {\n",
       "      setTimeout(run_inline_js, 100);\n",
       "    } else if (!root._bokeh_failed_load) {\n",
       "      console.log(\"Bokeh: BokehJS failed to load within specified timeout.\");\n",
       "      root._bokeh_failed_load = true;\n",
       "    } else if (force !== true) {\n",
       "      var cell = $(document.getElementById(\"af48897e-d679-49df-89d8-3c9ba551ea7d\")).parents('.cell').data().cell;\n",
       "      cell.output_area.append_execute_result(NB_LOAD_WARNING)\n",
       "    }\n",
       "\n",
       "  }\n",
       "\n",
       "  if (root._bokeh_is_loading === 0) {\n",
       "    console.log(\"Bokeh: BokehJS loaded, going straight to plotting\");\n",
       "    run_inline_js();\n",
       "  } else {\n",
       "    load_libs(js_urls, function() {\n",
       "      console.log(\"Bokeh: BokehJS plotting callback run at\", now());\n",
       "      run_inline_js();\n",
       "    });\n",
       "  }\n",
       "}(window));"
      ],
      "application/vnd.bokehjs_load.v0+json": "\n(function(root) {\n  function now() {\n    return new Date();\n  }\n\n  var force = true;\n\n  if (typeof (root._bokeh_onload_callbacks) === \"undefined\" || force === true) {\n    root._bokeh_onload_callbacks = [];\n    root._bokeh_is_loading = undefined;\n  }\n\n  \n\n  \n  if (typeof (root._bokeh_timeout) === \"undefined\" || force === true) {\n    root._bokeh_timeout = Date.now() + 5000;\n    root._bokeh_failed_load = false;\n  }\n\n  var NB_LOAD_WARNING = {'data': {'text/html':\n     \"<div style='background-color: #fdd'>\\n\"+\n     \"<p>\\n\"+\n     \"BokehJS does not appear to have successfully loaded. If loading BokehJS from CDN, this \\n\"+\n     \"may be due to a slow or bad network connection. Possible fixes:\\n\"+\n     \"</p>\\n\"+\n     \"<ul>\\n\"+\n     \"<li>re-rerun `output_notebook()` to attempt to load from CDN again, or</li>\\n\"+\n     \"<li>use INLINE resources instead, as so:</li>\\n\"+\n     \"</ul>\\n\"+\n     \"<code>\\n\"+\n     \"from bokeh.resources import INLINE\\n\"+\n     \"output_notebook(resources=INLINE)\\n\"+\n     \"</code>\\n\"+\n     \"</div>\"}};\n\n  function display_loaded() {\n    var el = document.getElementById(\"af48897e-d679-49df-89d8-3c9ba551ea7d\");\n    if (el != null) {\n      el.textContent = \"BokehJS is loading...\";\n    }\n    if (root.Bokeh !== undefined) {\n      if (el != null) {\n        el.textContent = \"BokehJS \" + root.Bokeh.version + \" successfully loaded.\";\n      }\n    } else if (Date.now() < root._bokeh_timeout) {\n      setTimeout(display_loaded, 100)\n    }\n  }\n\n\n  function run_callbacks() {\n    try {\n      root._bokeh_onload_callbacks.forEach(function(callback) { callback() });\n    }\n    finally {\n      delete root._bokeh_onload_callbacks\n    }\n    console.info(\"Bokeh: all callbacks have finished\");\n  }\n\n  function load_libs(js_urls, callback) {\n    root._bokeh_onload_callbacks.push(callback);\n    if (root._bokeh_is_loading > 0) {\n      console.log(\"Bokeh: BokehJS is being loaded, scheduling callback at\", now());\n      return null;\n    }\n    if (js_urls == null || js_urls.length === 0) {\n      run_callbacks();\n      return null;\n    }\n    console.log(\"Bokeh: BokehJS not loaded, scheduling load and callback at\", now());\n    root._bokeh_is_loading = js_urls.length;\n    for (var i = 0; i < js_urls.length; i++) {\n      var url = js_urls[i];\n      var s = document.createElement('script');\n      s.src = url;\n      s.async = false;\n      s.onreadystatechange = s.onload = function() {\n        root._bokeh_is_loading--;\n        if (root._bokeh_is_loading === 0) {\n          console.log(\"Bokeh: all BokehJS libraries loaded\");\n          run_callbacks()\n        }\n      };\n      s.onerror = function() {\n        console.warn(\"failed to load library \" + url);\n      };\n      console.log(\"Bokeh: injecting script tag for BokehJS library: \", url);\n      document.getElementsByTagName(\"head\")[0].appendChild(s);\n    }\n  };var element = document.getElementById(\"af48897e-d679-49df-89d8-3c9ba551ea7d\");\n  if (element == null) {\n    console.log(\"Bokeh: ERROR: autoload.js configured with elementid 'af48897e-d679-49df-89d8-3c9ba551ea7d' but no matching script tag was found. \")\n    return false;\n  }\n\n  var js_urls = [\"https://cdn.pydata.org/bokeh/release/bokeh-0.12.14.min.js\", \"https://cdn.pydata.org/bokeh/release/bokeh-widgets-0.12.14.min.js\", \"https://cdn.pydata.org/bokeh/release/bokeh-tables-0.12.14.min.js\", \"https://cdn.pydata.org/bokeh/release/bokeh-gl-0.12.14.min.js\"];\n\n  var inline_js = [\n    function(Bokeh) {\n      Bokeh.set_log_level(\"info\");\n    },\n    \n    function(Bokeh) {\n      \n    },\n    function(Bokeh) {\n      console.log(\"Bokeh: injecting CSS: https://cdn.pydata.org/bokeh/release/bokeh-0.12.14.min.css\");\n      Bokeh.embed.inject_css(\"https://cdn.pydata.org/bokeh/release/bokeh-0.12.14.min.css\");\n      console.log(\"Bokeh: injecting CSS: https://cdn.pydata.org/bokeh/release/bokeh-widgets-0.12.14.min.css\");\n      Bokeh.embed.inject_css(\"https://cdn.pydata.org/bokeh/release/bokeh-widgets-0.12.14.min.css\");\n      console.log(\"Bokeh: injecting CSS: https://cdn.pydata.org/bokeh/release/bokeh-tables-0.12.14.min.css\");\n      Bokeh.embed.inject_css(\"https://cdn.pydata.org/bokeh/release/bokeh-tables-0.12.14.min.css\");\n    }\n  ];\n\n  function run_inline_js() {\n    \n    if ((root.Bokeh !== undefined) || (force === true)) {\n      for (var i = 0; i < inline_js.length; i++) {\n        inline_js[i].call(root, root.Bokeh);\n      }if (force === true) {\n        display_loaded();\n      }} else if (Date.now() < root._bokeh_timeout) {\n      setTimeout(run_inline_js, 100);\n    } else if (!root._bokeh_failed_load) {\n      console.log(\"Bokeh: BokehJS failed to load within specified timeout.\");\n      root._bokeh_failed_load = true;\n    } else if (force !== true) {\n      var cell = $(document.getElementById(\"af48897e-d679-49df-89d8-3c9ba551ea7d\")).parents('.cell').data().cell;\n      cell.output_area.append_execute_result(NB_LOAD_WARNING)\n    }\n\n  }\n\n  if (root._bokeh_is_loading === 0) {\n    console.log(\"Bokeh: BokehJS loaded, going straight to plotting\");\n    run_inline_js();\n  } else {\n    load_libs(js_urls, function() {\n      console.log(\"Bokeh: BokehJS plotting callback run at\", now());\n      run_inline_js();\n    });\n  }\n}(window));"
     },
     "metadata": {},
     "output_type": "display_data"
    }
   ],
   "source": [
    "output_notebook()"
   ]
  },
  {
   "cell_type": "code",
   "execution_count": 3,
   "metadata": {
    "collapsed": true
   },
   "outputs": [],
   "source": [
    "%run param.py"
   ]
  },
  {
   "cell_type": "code",
   "execution_count": 4,
   "metadata": {
    "collapsed": true
   },
   "outputs": [],
   "source": [
    "# clirad's flux and cooling rate\n",
    "PATH_FLUX_CLIRAD = os.path.join(DIR_FORTRAN, 'output_flux.dat')\n",
    "PATH_COOLR_CLIRAD = os.path.join(DIR_FORTRAN, 'output_coolr.dat')"
   ]
  },
  {
   "cell_type": "code",
   "execution_count": 5,
   "metadata": {
    "collapsed": true
   },
   "outputs": [],
   "source": [
    "# lblnew's CRD flux and cooling rate\n",
    "PATH_FLUX_LBLNEW = os.path.join(DIR_FORTRAN_LBLNEW, 'output_flux.dat')\n",
    "PATH_COOLR_LBLNEW = os.path.join(DIR_FORTRAN_LBLNEW, 'output_coolr.dat')"
   ]
  },
  {
   "cell_type": "code",
   "execution_count": 6,
   "metadata": {
    "collapsed": true
   },
   "outputs": [],
   "source": [
    "# lblnew's k-dist, transf/diffusivity flux and cooling rate\n",
    "PATH_WFLUX_LBLNEW = os.path.join(DIR_FORTRAN_LBLNEW, 'output_wflux.dat')\n",
    "PATH_WCOOLR_LBLNEW = os.path.join(DIR_FORTRAN_LBLNEW, 'output_wcoolr.dat')"
   ]
  },
  {
   "cell_type": "code",
   "execution_count": 7,
   "metadata": {
    "collapsed": true
   },
   "outputs": [],
   "source": [
    "def load_output_file(path_csv):\n",
    "    '''\n",
    "    Load lblnew output .csv file to xarray.Dataset\n",
    "    \n",
    "    Parameters\n",
    "    ----------\n",
    "    path_csv: str\n",
    "              Path to the .csv file to be loaded.\n",
    "    ds: xarray.Dataset\n",
    "        Data in the input file in the form of an xarray.Dataset.\n",
    "    '''\n",
    "    toindex = ['band', 'pressure', 'igg', 'g']    \n",
    "    df = pd.read_csv(path_csv, sep=r'\\s+')\n",
    "    df = df.set_index([i for i in toindex if i in df.columns])\n",
    "    df = df.rename(columns={'sfu': 'flug',\n",
    "                            'sfd': 'fldg',\n",
    "                            'fnet': 'fnetg',\n",
    "                            'coolr': 'coolrg'})\n",
    "    ds = xr.Dataset.from_dataframe(df)\n",
    "    return ds"
   ]
  },
  {
   "cell_type": "code",
   "execution_count": 8,
   "metadata": {
    "collapsed": true
   },
   "outputs": [],
   "source": [
    "DS_FLUX_CLIRAD = load_output_file(PATH_FLUX_CLIRAD)\n",
    "DS_COOLR_CLIRAD = load_output_file(PATH_COOLR_CLIRAD)"
   ]
  },
  {
   "cell_type": "code",
   "execution_count": 9,
   "metadata": {
    "collapsed": true
   },
   "outputs": [],
   "source": [
    "DS_FLUX_LBLNEW = load_output_file(PATH_FLUX_LBLNEW)\n",
    "DS_COOLR_LBLNEW = load_output_file(PATH_COOLR_LBLNEW)\n",
    "DS_WFLUX_LBLNEW = load_output_file(PATH_WFLUX_LBLNEW)\n",
    "DS_WCOOLR_LBLNEW = load_output_file(PATH_WCOOLR_LBLNEW)"
   ]
  },
  {
   "cell_type": "code",
   "execution_count": 10,
   "metadata": {
    "collapsed": true
   },
   "outputs": [],
   "source": [
    "def pltdata_cooling_1(ds_coolr_clirad=None,\n",
    "                      ds_coolrg_lblnew=None, ds_wcoolrg_lblnew=None,\n",
    "                      ds_coolr_lblnew=None, ds_wcoolr_lblnew=None):\n",
    "    colors = all_palettes['Set1'][4]\n",
    "    data = [{'label': 'CLIRAD `coolr_bands`',\n",
    "             'srs': ds_coolr_clirad['coolrg'].sel(band=11),\n",
    "             'line_dash': 'dashed', 'line_width': 5,\n",
    "             'color': colors[0], 'alpha': .6},\n",
    "            {'label': 'CRD',\n",
    "             'srs': ds_coolr_lblnew['coolrg'],\n",
    "             'line_dash': 'solid', 'line_width': 1.5,\n",
    "             'marker': 'circle', 'marker_size': 5,\n",
    "             'color': colors[2], 'alpha': 1,},\n",
    "            {'label': 'WGT igg=10 wgt_flux=2',\n",
    "             'srs': ds_wcoolr_lblnew['coolrg'].sel(igg=10),\n",
    "             'line_dash': 'solid', 'line_width': 3,\n",
    "             'marker': 'square', 'marker_size': 5,\n",
    "             'color': colors[3], 'alpha': .6}]\n",
    "    return data\n",
    "\n",
    "\n",
    "\n",
    "def nice_xlims(pltdata=None, prange=None):\n",
    "    \n",
    "    def get_slice(srs):\n",
    "        return srs.sel(pressure=slice(*prange))\n",
    "    \n",
    "    srss = [d['srs'] for d in pltdata]\n",
    "    vmin = min([get_slice(srs).min() for srs in srss])\n",
    "    vmax = max([get_slice(srs).max() for srs in srss])\n",
    "    dv = (vmax - vmin) * .01\n",
    "    return float(vmin - dv), float(vmax + dv)\n",
    "    \n",
    "\n",
    "def plt_cooling_bokeh(pltdata=None):\n",
    "    '''\n",
    "    Plot a list of cooling rate profiles using bokeh.\n",
    "    '''\n",
    "    ymin = 1e-2 \n",
    "    ymax = 1020 \n",
    "        \n",
    "    p1 = figure(title=\"Linear pressure scale\", \n",
    "                plot_width=400)        \n",
    "    xmin, xmax = nice_xlims(pltdata, prange=(50, 1050))\n",
    "    for d in pltdata:\n",
    "        if 'marker' in d:\n",
    "            getattr(p1, d['marker'])(d['srs'].values, \n",
    "                    d['srs'].coords['pressure'].values,\n",
    "                    color=d['color'], alpha=.7)\n",
    "        p1.line(d['srs'].values, \n",
    "                d['srs'].coords['pressure'].values,\n",
    "                color=d['color'], alpha=d['alpha'], \n",
    "                line_width=d['line_width'], line_dash=d['line_dash'])\n",
    "    \n",
    "    p1.y_range = Range1d(ymax, ymin)\n",
    "    p1.yaxis.axis_label = 'pressure [mb]'   \n",
    "    p1.x_range = Range1d(xmin, xmax)\n",
    "    p1.xaxis.axis_label = 'cooling rate [K/day]'\n",
    "            \n",
    "    p2 = figure(title='Log pressure scale', y_axis_type='log',\n",
    "                plot_width=560)\n",
    "    xmin, xmax = nice_xlims(pltdata, prange=(.01, 200))\n",
    "    \n",
    "    rs = []\n",
    "    for d in pltdata:\n",
    "        rd = []\n",
    "        if 'marker' in d:\n",
    "            r_mark = getattr(p2, d['marker'])(d['srs'].values, \n",
    "                        d['srs'].coords['pressure'].values,\n",
    "                        color=d['color'], alpha=.7)\n",
    "            rd.append(r_mark)\n",
    "        r_line = p2.line(d['srs'].values, \n",
    "                    d['srs'].coords['pressure'].values,\n",
    "                    color=d['color'], alpha=d['alpha'], \n",
    "                    line_width=d['line_width'], line_dash=d['line_dash'])\n",
    "        rd.append(r_line)\n",
    "      \n",
    "        rs.append(rd)\n",
    "        \n",
    "    p2.y_range = Range1d(ymax, ymin)  \n",
    "    p2.yaxis.axis_label = 'pressure [mb]'\n",
    "    \n",
    "    p2.x_range = Range1d(xmin, xmax)\n",
    "    p2.xaxis.axis_label = 'cooling rate [K/day]'\n",
    "    \n",
    "    items = [(d['label'], r) for r, d in zip(rs, pltdata)]\n",
    "    legend = Legend(items=items, location=(10, -30))\n",
    "    legend.label_text_font_size = '8pt'\n",
    "    \n",
    "    p2.add_layout(legend, 'right')  \n",
    "    \n",
    "    show(gridplot(p1, p2, ncols=2, plot_height=500))\n",
    "    \n",
    "\n",
    "def script_plt_cooling():\n",
    "    pltdata = pltdata_cooling_1(\n",
    "        ds_coolr_clirad=DS_COOLR_CLIRAD,\n",
    "        ds_coolr_lblnew=DS_COOLR_LBLNEW,\n",
    "        ds_wcoolr_lblnew=DS_WCOOLR_LBLNEW)\n",
    "    plt_cooling_bokeh(pltdata=pltdata)\n",
    "    print('''FIGURE. Cooling rate profiles.''')"
   ]
  },
  {
   "cell_type": "code",
   "execution_count": 11,
   "metadata": {
    "collapsed": true
   },
   "outputs": [],
   "source": [
    "\n",
    "def tbdata_flux(ds_flux_clirad=None,\n",
    "                ds_fluxg_lblnew=None, ds_wfluxg_lblnew=None,\n",
    "                ds_flux_lblnew=None, ds_wflux_lblnew=None):\n",
    "    ilevels = [0, 23, -1]\n",
    "    \n",
    "    def fmt(ds):\n",
    "        return ds.isel(pressure=ilevels)\\\n",
    "                 .to_dataframe()\\\n",
    "                 .set_index('level', append=True)\\\n",
    "                 .drop('igg', axis=1, errors='ignore')\\\n",
    "                 .drop('band', axis=1, errors='ignore')\\\n",
    "                 .groupby(['pressure', 'level']).sum()\n",
    "            \n",
    "    benchmark = {'label': 'WGT igg=10 wgt_flux=1',\n",
    "                 'df': fmt(ds_wflux_lblnew.sel(igg=10))}\n",
    "    \n",
    "    \n",
    "    tbs = [{'label': 'CRD',\n",
    "            'df': fmt(ds_flux_lblnew)},\n",
    "           {'label': 'CLIRAD',\n",
    "            'df': fmt(ds_flux_clirad.sel(band=11))}]\n",
    "    \n",
    "    data = {'benchmark': benchmark, 'others': tbs}\n",
    "    return data\n",
    "\n",
    "\n",
    "def tb_flux(tbdata=None):\n",
    "    benchmark = tbdata['benchmark']\n",
    "    others = tbdata['others']\n",
    "    \n",
    "    def show_tb(d=None):\n",
    "        display.display(d['df'])\n",
    "        print('Table.', 'Fluxes.', d['label'])\n",
    "        \n",
    "    def show_tbdiff(d0=None, d=None):\n",
    "        df = d['df']\n",
    "        df.index = d0['df'].index\n",
    "        display.display(df - d0['df'])\n",
    "        print('Table.', 'Fluxes.', \n",
    "              '({}) - ({})'.format(d['label'], d0['label']))\n",
    "        \n",
    "    show_tb(benchmark)\n",
    "    for d in others:\n",
    "        show_tb(d)\n",
    "        \n",
    "    for d in others:\n",
    "        show_tbdiff(d=d, d0=benchmark)\n",
    "        \n",
    "        \n",
    "def script_tb_flux():\n",
    "    data = tbdata_flux(ds_flux_clirad=DS_FLUX_CLIRAD,\n",
    "                       ds_flux_lblnew=DS_FLUX_LBLNEW,\n",
    "                       ds_wflux_lblnew=DS_WFLUX_LBLNEW)\n",
    "    tb_flux(tbdata=data)"
   ]
  },
  {
   "cell_type": "code",
   "execution_count": 12,
   "metadata": {
    "collapsed": true
   },
   "outputs": [],
   "source": [
    "def band_map():\n",
    "    '''\n",
    "    Maps spectral bands in lblnew to spectral bands in clirad.\n",
    "    '''\n",
    "    lblnew2clirad = {'1': '1',\n",
    "            '2': '2',\n",
    "            '3a': '3',\n",
    "            '3b': '4',\n",
    "            '3c': '5',\n",
    "            '4': '6', \n",
    "            '5': '7',\n",
    "            '6': '8',\n",
    "            '7': '9', \n",
    "            '8': '10',\n",
    "            '9': '11'}\n",
    "    \n",
    "    clirad2lblnew = {clirad: lblnew \n",
    "                     for lblnew, clirad in lblnew2clirad.items()}\n",
    "    return clirad2lblnew\n",
    "\n",
    "\n",
    "def gasbands():\n",
    "    bmap = band_map()\n",
    "    gases = list(PARAM['molecule'].keys())\n",
    "    \n",
    "    bands = [bmap[str(b)] for b in PARAM['band']]\n",
    "    return list(itertools.product(gases, bands))\n",
    "\n",
    "\n",
    "def print_bestfit_params():\n",
    "    print('Best-fit values for each (gas, band)')\n",
    "    print('------------------------------------')\n",
    "    for gas, band in gasbands():\n",
    "        print('o {} band{}'.format(gas, band))\n",
    "        #pprint.pprint(bestfits.kdist_params(molecule=gas, band=band))\n",
    "        param = bestfits.kdist_params(molecule=gas, band=band)\n",
    "        for name, value in param.items():\n",
    "            print(2 * ' ' + '{} = {}'.format(name, value))\n",
    "\n",
    "        \n",
    "def print_input_param():        \n",
    "    for name, value in PARAM.items():\n",
    "        print('{} = {}'.format(name, value))\n",
    "\n",
    "        \n",
    "def display_input_param():\n",
    "    s = \"# Input parameters\"\n",
    "    display.display(display.Markdown(s))\n",
    "    print_input_param()\n",
    "\n",
    "\n",
    "def display_title():\n",
    "    s = \"### CLIRAD-LW\"\n",
    "    display.display(display.Markdown(s))\n",
    "    \n"
   ]
  },
  {
   "cell_type": "code",
   "execution_count": 13,
   "metadata": {
    "scrolled": false
   },
   "outputs": [
    {
     "data": {
      "text/markdown": [
       "### CLIRAD-LW"
      ],
      "text/plain": [
       "<IPython.core.display.Markdown object>"
      ]
     },
     "metadata": {},
     "output_type": "display_data"
    },
    {
     "data": {
      "text/markdown": [
       "### Table of Content"
      ],
      "text/plain": [
       "<IPython.core.display.Markdown object>"
      ]
     },
     "metadata": {},
     "output_type": "display_data"
    },
    {
     "data": {
      "text/html": [
       "<a href=\"#Input_Parameters\">Input Parameters</a>"
      ],
      "text/plain": [
       "<IPython.core.display.HTML object>"
      ]
     },
     "metadata": {},
     "output_type": "display_data"
    },
    {
     "data": {
      "text/html": [
       "<a href=\"#Cooling_Rate_Profiles\">Cooling Rate Profiles</a>"
      ],
      "text/plain": [
       "<IPython.core.display.HTML object>"
      ]
     },
     "metadata": {},
     "output_type": "display_data"
    },
    {
     "data": {
      "text/html": [
       "<a href=\"#Flux_Comparison\">Flux Comparison</a>"
      ],
      "text/plain": [
       "<IPython.core.display.HTML object>"
      ]
     },
     "metadata": {},
     "output_type": "display_data"
    },
    {
     "data": {
      "text/html": [
       "<a href=\"#Best-fit_Parameters\">Best-fit Parameters</a>"
      ],
      "text/plain": [
       "<IPython.core.display.HTML object>"
      ]
     },
     "metadata": {},
     "output_type": "display_data"
    },
    {
     "data": {
      "text/html": [
       "<a id=\"Input_Parameters\"></a>"
      ],
      "text/plain": [
       "<IPython.core.display.HTML object>"
      ]
     },
     "metadata": {},
     "output_type": "display_data"
    },
    {
     "data": {
      "text/markdown": [
       "# Input Parameters"
      ],
      "text/plain": [
       "<IPython.core.display.Markdown object>"
      ]
     },
     "metadata": {},
     "output_type": "display_data"
    },
    {
     "name": "stdout",
     "output_type": "stream",
     "text": [
      "atmpro = mls\n",
      "band = [11]\n",
      "commitnumber = d54f896\n",
      "molecule = {'h2o': 'atmpro', 'co2': 0.0004}\n",
      "tsfc = 294\n"
     ]
    },
    {
     "data": {
      "text/html": [
       "<a id=\"Cooling_Rate_Profiles\"></a>"
      ],
      "text/plain": [
       "<IPython.core.display.HTML object>"
      ]
     },
     "metadata": {},
     "output_type": "display_data"
    },
    {
     "data": {
      "text/markdown": [
       "# Cooling Rate Profiles"
      ],
      "text/plain": [
       "<IPython.core.display.Markdown object>"
      ]
     },
     "metadata": {},
     "output_type": "display_data"
    },
    {
     "data": {
      "text/html": [
       "\n",
       "<div class=\"bk-root\">\n",
       "    <div class=\"bk-plotdiv\" id=\"47ce30d3-4d29-466f-832a-f1ccbb7f2fc0\"></div>\n",
       "</div>"
      ]
     },
     "metadata": {},
     "output_type": "display_data"
    },
    {
     "data": {
      "application/javascript": [
       "(function(root) {\n",
       "  function embed_document(root) {\n",
       "    \n",
       "  var docs_json = {\"971500df-0546-4e90-ab90-512606814876\":{\"roots\":{\"references\":[{\"attributes\":{\"source\":{\"id\":\"92bc3f4c-a6e0-4035-9271-b9f624a3b4ac\",\"type\":\"ColumnDataSource\"}},\"id\":\"a4a3e5d2-d3b8-4698-8a11-bbd830d4aed2\",\"type\":\"CDSView\"},{\"attributes\":{},\"id\":\"a3acf110-6160-4195-830a-0a62212f92c1\",\"type\":\"LinearScale\"},{\"attributes\":{\"callback\":null,\"column_names\":[\"x\",\"y\"],\"data\":{\"x\":{\"__ndarray__\":\"OsOa67AZ0j/NvKgfzFS4P2dx4IQraKk/ggq2LaSlhT99fGg9gVKSv/kdxWRqRaG/pu7AvKSKpL/XcvIYoXylv1NYEYQXvKW/eI4zEy31pb9LP8WXp3imv7ErnXeyh6e/n3AMh/mAqb/dD+X8Lhuuv3RBBr36orG/yuuYJcc+sb/Yn8mgCBmrv0rSOkwpH6K/bhnsXe5ZkL8+fSXDukBsP3F7zlK8Dpw/lxJMrME4uD/Je1GS4FPMP6d8xo10ac0//YwDlvkaxD+cfXHrZi28P6ZotyZ1s7E/ExbL4x9soD8EOwBWTpGAP+ZltutqWWM/cpJzzDyscT+TJUz3BwFqPxIqiCcaMFA/B1jRcILMPr/DTMxLZsJUvzUBdEszpVq/tm9BQWgHXL9IQxLpegNcv21L8IcQMGK/Y2zPEv5qab/Ey40JPC5tv7qm2/Fh2Gu/Vq39QxBlbL80qEjSrQ9uv7mKyN55A2+/xt8iqgoqbr/fip0Ybahsvy5W+ie9EWu/oRBz3DhIab/+LTujMYNmv7DKjfLo12G/IGmZSE4GVb/FVhMJeEkQv78zITeRilc/ObCnXKv9aT8VsLfyreZ0PwoVQ0rYZH0/79p+at6ngz+Wy3nYoSCIP5BCgncslYs/xp+ApIoNjj+K8oiuZPePPxIdpNUADZE/SbepqmWlkj9A2kEdPRuVP1EADp9Jopg/ic8PtucYnT9U5WSqrOKgP1EHUXXKzqI/wZCdA0AfpD9GeHGejiClPxd8ldpdMKY/TOdq+7yBpz/w8LWfQGOpP0sQeNcOg7A/\",\"dtype\":\"float64\",\"shape\":[75]},\"y\":{\"__ndarray__\":\"GhExyth1ND/Sv8nbtpRIP2vylNV0PVE/aTum7souWD/At0SJ8fVgPw3Iuahxymc/MSNhhJWvcD/bTfBN02d3P2zb5nxnaoA/CD5h5MAGhz8NmeH1TyaQP+zrCsc9p5Y/LbKd76fGnz/bLW5ISEmmPww9YvTcQq8/JV2OstnstT8Er5Y7M8G+P0c+r3jqkcU/5h99k6ZBzj88bCIzFzjVP4enV8oyxN0//yH99nXg5D8qOpLLf0jtP5kqGJXUifQ/c9cS8kHP/D+/DpwzojQEQIEmwoanVwxA4lgXt9HgE0BSSZ2AJuIbQAMJih9jjiNA5q4l5INuK0AwTKYKRj0zQNv5fmq8/DpAaCJseHrtQkB/+zpwzoxKQM3MzMzMeFJAZmZmZmZqWEAAAAAAAFxeQM3MzMzMJmJAmpmZmZkfZUBmZmZmZhhoQDMzMzMzEWtAAAAAAAAKbkBmZmZmZoFwQM3MzMzM/XFAMzMzMzN6c0CamZmZmfZ0QAAAAAAAc3ZAZmZmZmbvd0DNzMzMzGt5QDMzMzMz6HpAmpmZmZlkfEAAAAAAAOF9QGZmZmZmXX9AZmZmZuZsgECamZmZGSuBQM3MzMxM6YFAAAAAAICngkAzMzMzs2WDQGZmZmbmI4RAmpmZmRnihEDNzMzMTKCFQAAAAACAXoZAMzMzM7Mch0BmZmZm5tqHQJqZmZkZmYhAzczMzExXiUAAAAAAgBWKQDMzMzOz04pAZmZmZuaRi0CamZmZGVCMQM3MzMxMDo1AAAAAAIDMjUAzMzMzs4qOQGZmZmbmSI9A\",\"dtype\":\"float64\",\"shape\":[75]}}},\"id\":\"cfa81948-98ff-4320-a575-8e79af93e08c\",\"type\":\"ColumnDataSource\"},{\"attributes\":{\"data_source\":{\"id\":\"df5e242e-20b4-4f2d-a962-ce8b4e910bc5\",\"type\":\"ColumnDataSource\"},\"glyph\":{\"id\":\"2190553e-352a-454e-b7b8-064c7d9c0b5e\",\"type\":\"Line\"},\"hover_glyph\":null,\"muted_glyph\":null,\"nonselection_glyph\":{\"id\":\"46ee32bd-afa9-4cd0-b3a0-88b8549a624d\",\"type\":\"Line\"},\"selection_glyph\":null,\"view\":{\"id\":\"89ba4cc7-3a61-46e2-8a35-9ef887f9e10a\",\"type\":\"CDSView\"}},\"id\":\"8ed10dc9-3c42-4474-8742-cb254b3f3a06\",\"type\":\"GlyphRenderer\"},{\"attributes\":{\"active_drag\":\"auto\",\"active_inspect\":\"auto\",\"active_scroll\":\"auto\",\"active_tap\":\"auto\",\"tools\":[{\"id\":\"094d0ddb-104a-44fd-a7fe-5a4b06fcef4a\",\"type\":\"PanTool\"},{\"id\":\"ba24fcd6-bcc9-4135-8c37-b667ed7269e7\",\"type\":\"WheelZoomTool\"},{\"id\":\"400641eb-f8c1-4066-9386-8a89e6bd55e9\",\"type\":\"BoxZoomTool\"},{\"id\":\"04f56348-a1bc-4dd1-be7f-4e9a5a13b6d4\",\"type\":\"SaveTool\"},{\"id\":\"30f56f9b-8e65-4cd1-82de-d8feeb18adde\",\"type\":\"ResetTool\"},{\"id\":\"ec5253bc-1f77-4135-b632-0e57c5c399c0\",\"type\":\"HelpTool\"}]},\"id\":\"007e1d29-f7d8-45a6-84ca-76420f322e3c\",\"type\":\"Toolbar\"},{\"attributes\":{\"axis_label\":\"cooling rate [K/day]\",\"formatter\":{\"id\":\"6599da3c-790e-4a02-9d8f-6ebc019b88d3\",\"type\":\"BasicTickFormatter\"},\"plot\":{\"id\":\"50b95a9d-8d29-4410-a629-9dc55eb6c512\",\"subtype\":\"Figure\",\"type\":\"Plot\"},\"ticker\":{\"id\":\"635aa304-ac81-42fb-8475-c099e33a754e\",\"type\":\"BasicTicker\"}},\"id\":\"3f0c4e59-ea41-43b0-987e-280918a7ef80\",\"type\":\"LinearAxis\"},{\"attributes\":{\"dimension\":1,\"plot\":{\"id\":\"50b95a9d-8d29-4410-a629-9dc55eb6c512\",\"subtype\":\"Figure\",\"type\":\"Plot\"},\"ticker\":{\"id\":\"3388b1eb-af72-40d6-baf3-5c49ce43d160\",\"type\":\"BasicTicker\"}},\"id\":\"220fe49c-1320-4faf-ba86-2f2fed1e94e2\",\"type\":\"Grid\"},{\"attributes\":{},\"id\":\"635aa304-ac81-42fb-8475-c099e33a754e\",\"type\":\"BasicTicker\"},{\"attributes\":{\"axis_label\":\"pressure [mb]\",\"formatter\":{\"id\":\"70609ced-c1c4-4619-92dc-83772c7ceecc\",\"type\":\"BasicTickFormatter\"},\"plot\":{\"id\":\"50b95a9d-8d29-4410-a629-9dc55eb6c512\",\"subtype\":\"Figure\",\"type\":\"Plot\"},\"ticker\":{\"id\":\"3388b1eb-af72-40d6-baf3-5c49ce43d160\",\"type\":\"BasicTicker\"}},\"id\":\"9485fa21-179c-45b1-a74e-6e144d90aba3\",\"type\":\"LinearAxis\"},{\"attributes\":{},\"id\":\"3388b1eb-af72-40d6-baf3-5c49ce43d160\",\"type\":\"BasicTicker\"},{\"attributes\":{\"plot\":{\"id\":\"50b95a9d-8d29-4410-a629-9dc55eb6c512\",\"subtype\":\"Figure\",\"type\":\"Plot\"},\"ticker\":{\"id\":\"635aa304-ac81-42fb-8475-c099e33a754e\",\"type\":\"BasicTicker\"}},\"id\":\"99cf40d9-aa82-4813-9699-435cf9c9e4f4\",\"type\":\"Grid\"},{\"attributes\":{},\"id\":\"ec5253bc-1f77-4135-b632-0e57c5c399c0\",\"type\":\"HelpTool\"},{\"attributes\":{},\"id\":\"ba24fcd6-bcc9-4135-8c37-b667ed7269e7\",\"type\":\"WheelZoomTool\"},{\"attributes\":{},\"id\":\"094d0ddb-104a-44fd-a7fe-5a4b06fcef4a\",\"type\":\"PanTool\"},{\"attributes\":{\"overlay\":{\"id\":\"161fba6d-0ec8-4e30-b8d3-934260242ee0\",\"type\":\"BoxAnnotation\"}},\"id\":\"400641eb-f8c1-4066-9386-8a89e6bd55e9\",\"type\":\"BoxZoomTool\"},{\"attributes\":{\"callback\":null,\"column_names\":[\"x\",\"y\"],\"data\":{\"x\":{\"__ndarray__\":\"h2OGW3i90T+MN5IBKXy0Pz38IL5Yh6E/cz5R5tqokD9qZV0ED9GRv6lzJhxj76C/tltTnzKeo7+Ylvte73CkvyfpOaCnLKO/D6CGPyjHpL/zQJ48sAylvyR1p+CVyaa/70DpgC5eqL/MbJcDK/Gtv4B09j0GhbG/LAL036kesb90A+xAKZyqvx63Mr3RgqG/x7v44lgFkL9j9KW9HfZlPxweYoY9Ips/gVuGHoLBuD9TJhSmGDXNP9fDdns5gc4/ryjj59gkxT9QK5ZshmW9Py4Hf2EnLLI/R//BQ/UvoD8xeLIBsyeAPxypvjyr6Go/00TFn/RDdT837HNDd/NqP9Kkal6nVEQ/20XjPg/iSr/F2WBpqOZVvwxn+7PGcFq/QOZDiwUpXL8uAESzz0Bcv23mmSGRUmK/GqaI5XWRab8qIv76jD9tv6IEIN5R5Gu/yl5+hZZ+bL87bliZwFtuv8TrNPpjZm+/JTsRYHN3br/TEMoFqw1tvzNuwKCyhWu/CD23Ya+Pab8UVWxBsOBmv/ikwsGmGmK/D4WHk/H0Vb/oHrqfDnoXv5ebJCT2s1Y/wySLJTSjaT/j5CJg69B0PwfwcQHDTX0/ZHeK31CUgz/2o8dAtfmHPywx4y5BlIs/UOsIcBI0jj8YnUCZxRKQP2geGdsGFpE/9aaCh/LQkj8DMKX7JyKVP7DNieez1pg/QtAYgCIjnT8iqksh6wShP2JtDR4G8KI/Suas3eM9pD8vjds/gT2lP/vHOAKVSqY/MOKJwFuXpz+vrhf+ZHCpPzgyTeDverA/\",\"dtype\":\"float64\",\"shape\":[75]},\"y\":{\"__ndarray__\":\"S/O/Q+51ND/430zAtpRIP2vylNV0PVE/QxsjCssuWD/TR4Z78fVgP+inNsRxymc/OuuBfZWvcD/u3TFA02d3P2d3VoBnaoA/CD5h5MAGhz/1pA8HUCaQP+zrCsc9p5Y/Fb7LAKjGnz/nJ9c/SEmmPwBD+fzcQq8/FOZwv9nstT8Er5Y7M8G+P0c+r3jqkcU/yK72qKZBzj+tM989FzjVPxbgmr8yxN0/cOm5AXbg5D+5ctXAf0jtP5kqGJXUifQ/DsrqDELP/D8MCAhBojQEQDItVnmnVwxAiFXNvdHgE0BSSZ2AJuIbQAMJih9jjiNA5q4l5INuK0CPVN/5RT0zQHzxRXu8/DpAOZ7PgHrtQkAg8wGBzoxKQBSTN8DMeFJA2NmQf2ZqWEAAAAAAAFxeQEQX1LfMJmJAmpmZmZkfZUBmZmZmZhhoQLzoK0gzEWtAAAAAAAAKbkCiC+pbZoFwQAhyUMLM/XFA+I2vPTN6c0AQ5KCEmfZ0QAAAAAAAc3ZA8Btfe2bvd0AIclDCzGt5QPeNrz0z6HpAEOSghJlkfEAAAAAAAOF9QKML6ltmXX9ABTkoYeZsgED7xteeGSuBQAhyUMJM6YFAAAAAAICngkD4ja89s2WDQAU5KGHmI4RA+8bXnhnihEAIclDCTKCFQAAAAACAXoZA+I2vPbMch0AFOShh5tqHQPvG154ZmYhACHJQwkxXiUAAAAAAgBWKQPeNrz2z04pABTkoYeaRi0D7xteeGVCMQAlyUMJMDo1AAAAAAIDMjUD3ja89s4qOQGZmZmbmSI9A\",\"dtype\":\"float64\",\"shape\":[75]}}},\"id\":\"df5e242e-20b4-4f2d-a962-ce8b4e910bc5\",\"type\":\"ColumnDataSource\"},{\"attributes\":{\"bottom_units\":\"screen\",\"fill_alpha\":{\"value\":0.5},\"fill_color\":{\"value\":\"lightgrey\"},\"left_units\":\"screen\",\"level\":\"overlay\",\"line_alpha\":{\"value\":1.0},\"line_color\":{\"value\":\"black\"},\"line_dash\":[4,4],\"line_width\":{\"value\":2},\"plot\":null,\"render_mode\":\"css\",\"right_units\":\"screen\",\"top_units\":\"screen\"},\"id\":\"161fba6d-0ec8-4e30-b8d3-934260242ee0\",\"type\":\"BoxAnnotation\"},{\"attributes\":{},\"id\":\"30f56f9b-8e65-4cd1-82de-d8feeb18adde\",\"type\":\"ResetTool\"},{\"attributes\":{},\"id\":\"04f56348-a1bc-4dd1-be7f-4e9a5a13b6d4\",\"type\":\"SaveTool\"},{\"attributes\":{\"callback\":null,\"end\":0.01,\"start\":1020},\"id\":\"0a61aacd-a864-4dcf-b078-ad320259f4da\",\"type\":\"Range1d\"},{\"attributes\":{\"callback\":null,\"column_names\":[\"x\",\"y\"],\"data\":{\"x\":{\"__ndarray__\":\"95vDlMzawD9U4j5aqjeEPwX9/VH4zXg/V7xLgF7TUz+eyDMyP2xuv5X1Dd/R5YC/mq0aVoHyiL8d9a9jXnKQv6X1SmixZZS/M/VutxqVmL9z1cB/iEedvxYswSHVKaG/CiWgfT1DpL+TzBWeynupv8tZCg5Qlq+/X449zHXSsL+WoTFgt3Kvv2s2M1OKuKy/klAy7Sbupr8MhzErDHiWv4gaO5eYHZY/nQvIAzaMvj8pkq8EUmLRP6lzf9SqRtE/DDl885dtwz9slSt/aC21P5WExVrcfKc/+XQrOkg+mT+BVgUPeAWLP87LOHjsiHs/X5Q1bex5Yj++1f8rUVZEv8/Z2OazNVO/4FGUK845SL/T0lPt6IVLv6WgjE5ls1S/DAfyj6bRV7+lx9n2qapYv+wwCYNpEmC/QHlWFcxmZr9NUN15dsJpv6b8cg4oIGi/Kkf/DvdfZ7+kCvK3JYBnv614dRbOEWi/PdxOlvMwaL8BheMCoxVnvxlfi0jarmS/3PgGawvrYL8V0tNko4NXv4gHG4CTlUW/vCeC+vsiLD/jLqhSH39TPzBZHJsLxmI/JSlMQwQIbT8bFmBtvml0P6lvInykT3s/NhwUYUMvgj9zDyU0K9aGP3WO/B8ydYs/XQPKwrEQkD8HH1fe5nGSP69QPhnw7ZQ/Ud1Apz6Vlz9t4S0bk4GaPzB86ZIW050/mlGEuJi9oD+a3C9su3OiPy6GehOmnKM/PPOJdPMYpD+sX3RvAUWkP5BJz78gk6Q/UNFMiJ1PpT+ArIkABemmP748iJD/ca4/\",\"dtype\":\"float64\",\"shape\":[75]},\"y\":{\"__ndarray__\":\"GhExyth1ND/Sv8nbtpRIP2vylNV0PVE/aTum7souWD/At0SJ8fVgPw3Iuahxymc/MSNhhJWvcD/bTfBN02d3P2zb5nxnaoA/CD5h5MAGhz8NmeH1TyaQP+zrCsc9p5Y/LbKd76fGnz/bLW5ISEmmPww9YvTcQq8/JV2OstnstT8Er5Y7M8G+P0c+r3jqkcU/5h99k6ZBzj88bCIzFzjVP4enV8oyxN0//yH99nXg5D8qOpLLf0jtP5kqGJXUifQ/c9cS8kHP/D+/DpwzojQEQIEmwoanVwxA4lgXt9HgE0BSSZ2AJuIbQAMJih9jjiNA5q4l5INuK0AwTKYKRj0zQNv5fmq8/DpAaCJseHrtQkB/+zpwzoxKQM3MzMzMeFJAZmZmZmZqWEAAAAAAAFxeQM3MzMzMJmJAmpmZmZkfZUBmZmZmZhhoQDMzMzMzEWtAAAAAAAAKbkBmZmZmZoFwQM3MzMzM/XFAMzMzMzN6c0CamZmZmfZ0QAAAAAAAc3ZAZmZmZmbvd0DNzMzMzGt5QDMzMzMz6HpAmpmZmZlkfEAAAAAAAOF9QGZmZmZmXX9AZmZmZuZsgECamZmZGSuBQM3MzMxM6YFAAAAAAICngkAzMzMzs2WDQGZmZmbmI4RAmpmZmRnihEDNzMzMTKCFQAAAAACAXoZAMzMzM7Mch0BmZmZm5tqHQJqZmZkZmYhAzczMzExXiUAAAAAAgBWKQDMzMzOz04pAZmZmZuaRi0CamZmZGVCMQM3MzMxMDo1AAAAAAIDMjUAzMzMzs4qOQGZmZmbmSI9A\",\"dtype\":\"float64\",\"shape\":[75]}}},\"id\":\"dbb577b6-3b53-4753-97d9-5c923c79eeb4\",\"type\":\"ColumnDataSource\"},{\"attributes\":{\"below\":[{\"id\":\"3f0c4e59-ea41-43b0-987e-280918a7ef80\",\"type\":\"LinearAxis\"}],\"left\":[{\"id\":\"9485fa21-179c-45b1-a74e-6e144d90aba3\",\"type\":\"LinearAxis\"}],\"plot_height\":500,\"plot_width\":400,\"renderers\":[{\"id\":\"3f0c4e59-ea41-43b0-987e-280918a7ef80\",\"type\":\"LinearAxis\"},{\"id\":\"99cf40d9-aa82-4813-9699-435cf9c9e4f4\",\"type\":\"Grid\"},{\"id\":\"9485fa21-179c-45b1-a74e-6e144d90aba3\",\"type\":\"LinearAxis\"},{\"id\":\"220fe49c-1320-4faf-ba86-2f2fed1e94e2\",\"type\":\"Grid\"},{\"id\":\"161fba6d-0ec8-4e30-b8d3-934260242ee0\",\"type\":\"BoxAnnotation\"},{\"id\":\"8ed10dc9-3c42-4474-8742-cb254b3f3a06\",\"type\":\"GlyphRenderer\"},{\"id\":\"e0088802-6d3f-4a43-ab59-185ed2c056cc\",\"type\":\"GlyphRenderer\"},{\"id\":\"024a5b78-7c59-4468-9b5a-0dd2faa0b661\",\"type\":\"GlyphRenderer\"},{\"id\":\"a6c5a5de-56c9-48e6-a6dc-59f28944b2d0\",\"type\":\"GlyphRenderer\"},{\"id\":\"ac5ab2de-c3aa-4070-b9a8-1074e894b8da\",\"type\":\"GlyphRenderer\"}],\"title\":{\"id\":\"e5360b66-693f-4580-a1c3-fbb3092879c9\",\"type\":\"Title\"},\"toolbar\":{\"id\":\"007e1d29-f7d8-45a6-84ca-76420f322e3c\",\"type\":\"Toolbar\"},\"toolbar_location\":null,\"x_range\":{\"id\":\"f9f958c7-9973-4a10-b0c8-7a831862eb15\",\"type\":\"Range1d\"},\"x_scale\":{\"id\":\"678cad58-e1ce-4957-9467-8e5b3fd80fc1\",\"type\":\"LinearScale\"},\"y_range\":{\"id\":\"0a61aacd-a864-4dcf-b078-ad320259f4da\",\"type\":\"Range1d\"},\"y_scale\":{\"id\":\"a3acf110-6160-4195-830a-0a62212f92c1\",\"type\":\"LinearScale\"}},\"id\":\"50b95a9d-8d29-4410-a629-9dc55eb6c512\",\"subtype\":\"Figure\",\"type\":\"Plot\"},{\"attributes\":{\"fill_alpha\":{\"value\":0.7},\"fill_color\":{\"value\":\"#984ea3\"},\"line_alpha\":{\"value\":0.7},\"line_color\":{\"value\":\"#984ea3\"},\"x\":{\"field\":\"x\"},\"y\":{\"field\":\"y\"}},\"id\":\"70e7f3c1-da74-45e6-9441-92e0762d8679\",\"type\":\"Square\"},{\"attributes\":{\"plot\":null,\"text\":\"Linear pressure scale\"},\"id\":\"e5360b66-693f-4580-a1c3-fbb3092879c9\",\"type\":\"Title\"},{\"attributes\":{},\"id\":\"678cad58-e1ce-4957-9467-8e5b3fd80fc1\",\"type\":\"LinearScale\"},{\"attributes\":{\"callback\":null,\"end\":0.27503119118999997,\"start\":-0.07229831019},\"id\":\"81bdc1ad-1f18-4c6e-8298-c0d4c65116e6\",\"type\":\"Range1d\"},{\"attributes\":{\"source\":{\"id\":\"dbb577b6-3b53-4753-97d9-5c923c79eeb4\",\"type\":\"ColumnDataSource\"}},\"id\":\"e25fccc9-57ec-441b-b45e-e6c0fe5dc131\",\"type\":\"CDSView\"},{\"attributes\":{\"data_source\":{\"id\":\"15738b6e-9c10-457b-a1c3-8aeb769acc03\",\"type\":\"ColumnDataSource\"},\"glyph\":{\"id\":\"95839716-8578-48d8-949f-5015f68ba4f1\",\"type\":\"Line\"},\"hover_glyph\":null,\"muted_glyph\":null,\"nonselection_glyph\":{\"id\":\"9c1caa30-81a8-48aa-b2e5-e20355ca7134\",\"type\":\"Line\"},\"selection_glyph\":null,\"view\":{\"id\":\"d5c33d26-8131-4cfc-927d-71b49a524a12\",\"type\":\"CDSView\"}},\"id\":\"1908f1ef-98b7-4651-a7b2-194849ddd3ec\",\"type\":\"GlyphRenderer\"},{\"attributes\":{\"data_source\":{\"id\":\"9e0248c8-902a-4f55-bd57-11a87f70570f\",\"type\":\"ColumnDataSource\"},\"glyph\":{\"id\":\"c9f01c04-0cf0-4007-bc78-02f6c816047d\",\"type\":\"Circle\"},\"hover_glyph\":null,\"muted_glyph\":null,\"nonselection_glyph\":{\"id\":\"81db5e37-c07e-43cc-8788-8aa9158c6842\",\"type\":\"Circle\"},\"selection_glyph\":null,\"view\":{\"id\":\"7cac4989-8496-4f77-84d8-6a8d6b2730ea\",\"type\":\"CDSView\"}},\"id\":\"262fedee-deeb-45b3-888b-6195cf93598a\",\"type\":\"GlyphRenderer\"},{\"attributes\":{\"fill_alpha\":{\"value\":0.7},\"fill_color\":{\"value\":\"#4daf4a\"},\"line_alpha\":{\"value\":0.7},\"line_color\":{\"value\":\"#4daf4a\"},\"x\":{\"field\":\"x\"},\"y\":{\"field\":\"y\"}},\"id\":\"584f8732-250d-49d5-bd71-141d811686e3\",\"type\":\"Circle\"},{\"attributes\":{\"data_source\":{\"id\":\"063f1ab1-53ac-4f0e-b7c9-2257a64c9234\",\"type\":\"ColumnDataSource\"},\"glyph\":{\"id\":\"099d45b1-e18e-40f6-b668-b43a45df8e5e\",\"type\":\"Square\"},\"hover_glyph\":null,\"muted_glyph\":null,\"nonselection_glyph\":{\"id\":\"5fdd8386-8e21-42c9-a6bf-2f4f399b334d\",\"type\":\"Square\"},\"selection_glyph\":null,\"view\":{\"id\":\"037e2d72-731e-44f4-ac27-4490f7875f10\",\"type\":\"CDSView\"}},\"id\":\"8ee3d464-43e4-4999-83e0-ee8b0288620e\",\"type\":\"GlyphRenderer\"},{\"attributes\":{\"callback\":null,\"column_names\":[\"x\",\"y\"],\"data\":{\"x\":{\"__ndarray__\":\"OsOa67AZ0j/NvKgfzFS4P2dx4IQraKk/ggq2LaSlhT99fGg9gVKSv/kdxWRqRaG/pu7AvKSKpL/XcvIYoXylv1NYEYQXvKW/eI4zEy31pb9LP8WXp3imv7ErnXeyh6e/n3AMh/mAqb/dD+X8Lhuuv3RBBr36orG/yuuYJcc+sb/Yn8mgCBmrv0rSOkwpH6K/bhnsXe5ZkL8+fSXDukBsP3F7zlK8Dpw/lxJMrME4uD/Je1GS4FPMP6d8xo10ac0//YwDlvkaxD+cfXHrZi28P6ZotyZ1s7E/ExbL4x9soD8EOwBWTpGAP+ZltutqWWM/cpJzzDyscT+TJUz3BwFqPxIqiCcaMFA/B1jRcILMPr/DTMxLZsJUvzUBdEszpVq/tm9BQWgHXL9IQxLpegNcv21L8IcQMGK/Y2zPEv5qab/Ey40JPC5tv7qm2/Fh2Gu/Vq39QxBlbL80qEjSrQ9uv7mKyN55A2+/xt8iqgoqbr/fip0Ybahsvy5W+ie9EWu/oRBz3DhIab/+LTujMYNmv7DKjfLo12G/IGmZSE4GVb/FVhMJeEkQv78zITeRilc/ObCnXKv9aT8VsLfyreZ0PwoVQ0rYZH0/79p+at6ngz+Wy3nYoSCIP5BCgncslYs/xp+ApIoNjj+K8oiuZPePPxIdpNUADZE/SbepqmWlkj9A2kEdPRuVP1EADp9Jopg/ic8PtucYnT9U5WSqrOKgP1EHUXXKzqI/wZCdA0AfpD9GeHGejiClPxd8ldpdMKY/TOdq+7yBpz/w8LWfQGOpP0sQeNcOg7A/\",\"dtype\":\"float64\",\"shape\":[75]},\"y\":{\"__ndarray__\":\"GhExyth1ND/Sv8nbtpRIP2vylNV0PVE/aTum7souWD/At0SJ8fVgPw3Iuahxymc/MSNhhJWvcD/bTfBN02d3P2zb5nxnaoA/CD5h5MAGhz8NmeH1TyaQP+zrCsc9p5Y/LbKd76fGnz/bLW5ISEmmPww9YvTcQq8/JV2OstnstT8Er5Y7M8G+P0c+r3jqkcU/5h99k6ZBzj88bCIzFzjVP4enV8oyxN0//yH99nXg5D8qOpLLf0jtP5kqGJXUifQ/c9cS8kHP/D+/DpwzojQEQIEmwoanVwxA4lgXt9HgE0BSSZ2AJuIbQAMJih9jjiNA5q4l5INuK0AwTKYKRj0zQNv5fmq8/DpAaCJseHrtQkB/+zpwzoxKQM3MzMzMeFJAZmZmZmZqWEAAAAAAAFxeQM3MzMzMJmJAmpmZmZkfZUBmZmZmZhhoQDMzMzMzEWtAAAAAAAAKbkBmZmZmZoFwQM3MzMzM/XFAMzMzMzN6c0CamZmZmfZ0QAAAAAAAc3ZAZmZmZmbvd0DNzMzMzGt5QDMzMzMz6HpAmpmZmZlkfEAAAAAAAOF9QGZmZmZmXX9AZmZmZuZsgECamZmZGSuBQM3MzMxM6YFAAAAAAICngkAzMzMzs2WDQGZmZmbmI4RAmpmZmRnihEDNzMzMTKCFQAAAAACAXoZAMzMzM7Mch0BmZmZm5tqHQJqZmZkZmYhAzczMzExXiUAAAAAAgBWKQDMzMzOz04pAZmZmZuaRi0CamZmZGVCMQM3MzMxMDo1AAAAAAIDMjUAzMzMzs4qOQGZmZmbmSI9A\",\"dtype\":\"float64\",\"shape\":[75]}}},\"id\":\"063f1ab1-53ac-4f0e-b7c9-2257a64c9234\",\"type\":\"ColumnDataSource\"},{\"attributes\":{\"fill_alpha\":{\"value\":0.1},\"fill_color\":{\"value\":\"#1f77b4\"},\"line_alpha\":{\"value\":0.1},\"line_color\":{\"value\":\"#1f77b4\"},\"x\":{\"field\":\"x\"},\"y\":{\"field\":\"y\"}},\"id\":\"81db5e37-c07e-43cc-8788-8aa9158c6842\",\"type\":\"Circle\"},{\"attributes\":{\"line_alpha\":0.1,\"line_color\":\"#1f77b4\",\"line_dash\":[6],\"line_width\":5,\"x\":{\"field\":\"x\"},\"y\":{\"field\":\"y\"}},\"id\":\"46ee32bd-afa9-4cd0-b3a0-88b8549a624d\",\"type\":\"Line\"},{\"attributes\":{\"fill_alpha\":{\"value\":0.7},\"fill_color\":{\"value\":\"#984ea3\"},\"line_alpha\":{\"value\":0.7},\"line_color\":{\"value\":\"#984ea3\"},\"x\":{\"field\":\"x\"},\"y\":{\"field\":\"y\"}},\"id\":\"099d45b1-e18e-40f6-b668-b43a45df8e5e\",\"type\":\"Square\"},{\"attributes\":{\"axis_label\":\"cooling rate [K/day]\",\"formatter\":{\"id\":\"afab371e-d76a-403a-ba89-6d0037816038\",\"type\":\"BasicTickFormatter\"},\"plot\":{\"id\":\"5ecfde8e-7ba6-4ced-bbe1-f2e12d3d647b\",\"subtype\":\"Figure\",\"type\":\"Plot\"},\"ticker\":{\"id\":\"8e49fe63-b124-482e-9b70-d08c5ae3c92e\",\"type\":\"BasicTicker\"}},\"id\":\"92ff5368-be78-4763-bd85-1f4093df398c\",\"type\":\"LinearAxis\"},{\"attributes\":{},\"id\":\"6599da3c-790e-4a02-9d8f-6ebc019b88d3\",\"type\":\"BasicTickFormatter\"},{\"attributes\":{\"fill_alpha\":{\"value\":0.7},\"fill_color\":{\"value\":\"#4daf4a\"},\"line_alpha\":{\"value\":0.7},\"line_color\":{\"value\":\"#4daf4a\"},\"x\":{\"field\":\"x\"},\"y\":{\"field\":\"y\"}},\"id\":\"c9f01c04-0cf0-4007-bc78-02f6c816047d\",\"type\":\"Circle\"},{\"attributes\":{\"line_alpha\":0.6,\"line_color\":\"#984ea3\",\"line_width\":3,\"x\":{\"field\":\"x\"},\"y\":{\"field\":\"y\"}},\"id\":\"95839716-8578-48d8-949f-5015f68ba4f1\",\"type\":\"Line\"},{\"attributes\":{\"source\":{\"id\":\"063f1ab1-53ac-4f0e-b7c9-2257a64c9234\",\"type\":\"ColumnDataSource\"}},\"id\":\"037e2d72-731e-44f4-ac27-4490f7875f10\",\"type\":\"CDSView\"},{\"attributes\":{\"source\":{\"id\":\"9e0248c8-902a-4f55-bd57-11a87f70570f\",\"type\":\"ColumnDataSource\"}},\"id\":\"7cac4989-8496-4f77-84d8-6a8d6b2730ea\",\"type\":\"CDSView\"},{\"attributes\":{\"data_source\":{\"id\":\"cfa81948-98ff-4320-a575-8e79af93e08c\",\"type\":\"ColumnDataSource\"},\"glyph\":{\"id\":\"70e7f3c1-da74-45e6-9441-92e0762d8679\",\"type\":\"Square\"},\"hover_glyph\":null,\"muted_glyph\":null,\"nonselection_glyph\":{\"id\":\"a174f1ad-83ea-4855-b2a5-cbd10d8bd915\",\"type\":\"Square\"},\"selection_glyph\":null,\"view\":{\"id\":\"2f9a6cfb-64d9-4fa3-b953-58805924e6df\",\"type\":\"CDSView\"}},\"id\":\"a6c5a5de-56c9-48e6-a6dc-59f28944b2d0\",\"type\":\"GlyphRenderer\"},{\"attributes\":{\"callback\":null,\"column_names\":[\"x\",\"y\"],\"data\":{\"x\":{\"__ndarray__\":\"OsOa67AZ0j/NvKgfzFS4P2dx4IQraKk/ggq2LaSlhT99fGg9gVKSv/kdxWRqRaG/pu7AvKSKpL/XcvIYoXylv1NYEYQXvKW/eI4zEy31pb9LP8WXp3imv7ErnXeyh6e/n3AMh/mAqb/dD+X8Lhuuv3RBBr36orG/yuuYJcc+sb/Yn8mgCBmrv0rSOkwpH6K/bhnsXe5ZkL8+fSXDukBsP3F7zlK8Dpw/lxJMrME4uD/Je1GS4FPMP6d8xo10ac0//YwDlvkaxD+cfXHrZi28P6ZotyZ1s7E/ExbL4x9soD8EOwBWTpGAP+ZltutqWWM/cpJzzDyscT+TJUz3BwFqPxIqiCcaMFA/B1jRcILMPr/DTMxLZsJUvzUBdEszpVq/tm9BQWgHXL9IQxLpegNcv21L8IcQMGK/Y2zPEv5qab/Ey40JPC5tv7qm2/Fh2Gu/Vq39QxBlbL80qEjSrQ9uv7mKyN55A2+/xt8iqgoqbr/fip0Ybahsvy5W+ie9EWu/oRBz3DhIab/+LTujMYNmv7DKjfLo12G/IGmZSE4GVb/FVhMJeEkQv78zITeRilc/ObCnXKv9aT8VsLfyreZ0PwoVQ0rYZH0/79p+at6ngz+Wy3nYoSCIP5BCgncslYs/xp+ApIoNjj+K8oiuZPePPxIdpNUADZE/SbepqmWlkj9A2kEdPRuVP1EADp9Jopg/ic8PtucYnT9U5WSqrOKgP1EHUXXKzqI/wZCdA0AfpD9GeHGejiClPxd8ldpdMKY/TOdq+7yBpz/w8LWfQGOpP0sQeNcOg7A/\",\"dtype\":\"float64\",\"shape\":[75]},\"y\":{\"__ndarray__\":\"GhExyth1ND/Sv8nbtpRIP2vylNV0PVE/aTum7souWD/At0SJ8fVgPw3Iuahxymc/MSNhhJWvcD/bTfBN02d3P2zb5nxnaoA/CD5h5MAGhz8NmeH1TyaQP+zrCsc9p5Y/LbKd76fGnz/bLW5ISEmmPww9YvTcQq8/JV2OstnstT8Er5Y7M8G+P0c+r3jqkcU/5h99k6ZBzj88bCIzFzjVP4enV8oyxN0//yH99nXg5D8qOpLLf0jtP5kqGJXUifQ/c9cS8kHP/D+/DpwzojQEQIEmwoanVwxA4lgXt9HgE0BSSZ2AJuIbQAMJih9jjiNA5q4l5INuK0AwTKYKRj0zQNv5fmq8/DpAaCJseHrtQkB/+zpwzoxKQM3MzMzMeFJAZmZmZmZqWEAAAAAAAFxeQM3MzMzMJmJAmpmZmZkfZUBmZmZmZhhoQDMzMzMzEWtAAAAAAAAKbkBmZmZmZoFwQM3MzMzM/XFAMzMzMzN6c0CamZmZmfZ0QAAAAAAAc3ZAZmZmZmbvd0DNzMzMzGt5QDMzMzMz6HpAmpmZmZlkfEAAAAAAAOF9QGZmZmZmXX9AZmZmZuZsgECamZmZGSuBQM3MzMxM6YFAAAAAAICngkAzMzMzs2WDQGZmZmbmI4RAmpmZmRnihEDNzMzMTKCFQAAAAACAXoZAMzMzM7Mch0BmZmZm5tqHQJqZmZkZmYhAzczMzExXiUAAAAAAgBWKQDMzMzOz04pAZmZmZuaRi0CamZmZGVCMQM3MzMxMDo1AAAAAAIDMjUAzMzMzs4qOQGZmZmbmSI9A\",\"dtype\":\"float64\",\"shape\":[75]}}},\"id\":\"15738b6e-9c10-457b-a1c3-8aeb769acc03\",\"type\":\"ColumnDataSource\"},{\"attributes\":{\"source\":{\"id\":\"ae926531-0447-48ea-9061-7ef412baee43\",\"type\":\"ColumnDataSource\"}},\"id\":\"f07252f4-3493-4b53-bab9-70bcbb5c561d\",\"type\":\"CDSView\"},{\"attributes\":{\"fill_alpha\":{\"value\":0.1},\"fill_color\":{\"value\":\"#1f77b4\"},\"line_alpha\":{\"value\":0.1},\"line_color\":{\"value\":\"#1f77b4\"},\"x\":{\"field\":\"x\"},\"y\":{\"field\":\"y\"}},\"id\":\"5fdd8386-8e21-42c9-a6bf-2f4f399b334d\",\"type\":\"Square\"},{\"attributes\":{\"data_source\":{\"id\":\"dbb577b6-3b53-4753-97d9-5c923c79eeb4\",\"type\":\"ColumnDataSource\"},\"glyph\":{\"id\":\"584f8732-250d-49d5-bd71-141d811686e3\",\"type\":\"Circle\"},\"hover_glyph\":null,\"muted_glyph\":null,\"nonselection_glyph\":{\"id\":\"69bb3a84-d017-4a3c-83b9-bc5aa08e94b6\",\"type\":\"Circle\"},\"selection_glyph\":null,\"view\":{\"id\":\"e25fccc9-57ec-441b-b45e-e6c0fe5dc131\",\"type\":\"CDSView\"}},\"id\":\"e0088802-6d3f-4a43-ab59-185ed2c056cc\",\"type\":\"GlyphRenderer\"},{\"attributes\":{\"line_alpha\":0.1,\"line_color\":\"#1f77b4\",\"line_width\":3,\"x\":{\"field\":\"x\"},\"y\":{\"field\":\"y\"}},\"id\":\"9c1caa30-81a8-48aa-b2e5-e20355ca7134\",\"type\":\"Line\"},{\"attributes\":{\"toolbar\":{\"id\":\"17d4cc29-3b6b-4c63-aeed-ad31935b256f\",\"type\":\"ProxyToolbar\"},\"toolbar_location\":\"above\"},\"id\":\"90c29748-921f-4ceb-a019-5d11b3d1d437\",\"type\":\"ToolbarBox\"},{\"attributes\":{\"below\":[{\"id\":\"92ff5368-be78-4763-bd85-1f4093df398c\",\"type\":\"LinearAxis\"}],\"left\":[{\"id\":\"df4d3564-7868-4e51-a1ea-56f3fe292f5b\",\"type\":\"LogAxis\"}],\"plot_height\":500,\"plot_width\":560,\"renderers\":[{\"id\":\"92ff5368-be78-4763-bd85-1f4093df398c\",\"type\":\"LinearAxis\"},{\"id\":\"bc1ed61d-9531-42ff-b8c6-7265e1720cfb\",\"type\":\"Grid\"},{\"id\":\"df4d3564-7868-4e51-a1ea-56f3fe292f5b\",\"type\":\"LogAxis\"},{\"id\":\"d1ca1252-d473-4a2f-9d3b-93fdf1290ffd\",\"type\":\"Grid\"},{\"id\":\"d1309cbb-6179-46c0-bad9-2cf524a2c230\",\"type\":\"BoxAnnotation\"},{\"id\":\"dafb8887-028a-40a1-9a61-6e46b7f53c40\",\"type\":\"GlyphRenderer\"},{\"id\":\"262fedee-deeb-45b3-888b-6195cf93598a\",\"type\":\"GlyphRenderer\"},{\"id\":\"91d64c9a-91bb-432f-9ef4-baf6bb12227b\",\"type\":\"GlyphRenderer\"},{\"id\":\"8ee3d464-43e4-4999-83e0-ee8b0288620e\",\"type\":\"GlyphRenderer\"},{\"id\":\"1908f1ef-98b7-4651-a7b2-194849ddd3ec\",\"type\":\"GlyphRenderer\"},{\"id\":\"c480fcd1-0093-4e7c-aea0-e12481a7149d\",\"type\":\"Legend\"}],\"right\":[{\"id\":\"c480fcd1-0093-4e7c-aea0-e12481a7149d\",\"type\":\"Legend\"}],\"title\":{\"id\":\"654a1153-2949-440e-821f-fdea60813c79\",\"type\":\"Title\"},\"toolbar\":{\"id\":\"1e781b48-9f36-4933-8309-f2abaf4b08ab\",\"type\":\"Toolbar\"},\"toolbar_location\":null,\"x_range\":{\"id\":\"81bdc1ad-1f18-4c6e-8298-c0d4c65116e6\",\"type\":\"Range1d\"},\"x_scale\":{\"id\":\"5d4efd24-88b6-4449-9d00-2488fe68de8f\",\"type\":\"LinearScale\"},\"y_range\":{\"id\":\"6ad553c6-3e52-4a36-b67c-881f13e24551\",\"type\":\"Range1d\"},\"y_scale\":{\"id\":\"ce293ada-5822-40c1-b2b9-aa2588f07a04\",\"type\":\"LogScale\"}},\"id\":\"5ecfde8e-7ba6-4ced-bbe1-f2e12d3d647b\",\"subtype\":\"Figure\",\"type\":\"Plot\"},{\"attributes\":{},\"id\":\"5d4efd24-88b6-4449-9d00-2488fe68de8f\",\"type\":\"LinearScale\"},{\"attributes\":{\"source\":{\"id\":\"15738b6e-9c10-457b-a1c3-8aeb769acc03\",\"type\":\"ColumnDataSource\"}},\"id\":\"d5c33d26-8131-4cfc-927d-71b49a524a12\",\"type\":\"CDSView\"},{\"attributes\":{\"items\":[{\"id\":\"cc4568bd-8585-4a77-a0a2-9453c618e097\",\"type\":\"LegendItem\"},{\"id\":\"f22d9610-1e11-4da5-8be3-fef884c7a7b5\",\"type\":\"LegendItem\"},{\"id\":\"d2b1df99-1fc4-408b-875a-510d4b1875cf\",\"type\":\"LegendItem\"}],\"label_text_font_size\":{\"value\":\"8pt\"},\"location\":[10,-30],\"plot\":{\"id\":\"5ecfde8e-7ba6-4ced-bbe1-f2e12d3d647b\",\"subtype\":\"Figure\",\"type\":\"Plot\"}},\"id\":\"c480fcd1-0093-4e7c-aea0-e12481a7149d\",\"type\":\"Legend\"},{\"attributes\":{\"fill_alpha\":{\"value\":0.1},\"fill_color\":{\"value\":\"#1f77b4\"},\"line_alpha\":{\"value\":0.1},\"line_color\":{\"value\":\"#1f77b4\"},\"x\":{\"field\":\"x\"},\"y\":{\"field\":\"y\"}},\"id\":\"69bb3a84-d017-4a3c-83b9-bc5aa08e94b6\",\"type\":\"Circle\"},{\"attributes\":{\"children\":[{\"id\":\"50b95a9d-8d29-4410-a629-9dc55eb6c512\",\"subtype\":\"Figure\",\"type\":\"Plot\"},{\"id\":\"5ecfde8e-7ba6-4ced-bbe1-f2e12d3d647b\",\"subtype\":\"Figure\",\"type\":\"Plot\"}]},\"id\":\"5fdd1a98-4ea8-46bf-80df-c17aa27f0ffa\",\"type\":\"Row\"},{\"attributes\":{\"callback\":null,\"end\":0.065183113893,\"start\":-0.004516331193},\"id\":\"f9f958c7-9973-4a10-b0c8-7a831862eb15\",\"type\":\"Range1d\"},{\"attributes\":{\"label\":{\"value\":\"CRD\"},\"renderers\":[{\"id\":\"262fedee-deeb-45b3-888b-6195cf93598a\",\"type\":\"GlyphRenderer\"},{\"id\":\"91d64c9a-91bb-432f-9ef4-baf6bb12227b\",\"type\":\"GlyphRenderer\"}]},\"id\":\"f22d9610-1e11-4da5-8be3-fef884c7a7b5\",\"type\":\"LegendItem\"},{\"attributes\":{\"children\":[{\"id\":\"5fdd1a98-4ea8-46bf-80df-c17aa27f0ffa\",\"type\":\"Row\"}]},\"id\":\"8fb17154-6b46-40fa-b560-a27afd0eba0a\",\"type\":\"Column\"},{\"attributes\":{\"line_alpha\":0.1,\"line_color\":\"#1f77b4\",\"line_width\":3,\"x\":{\"field\":\"x\"},\"y\":{\"field\":\"y\"}},\"id\":\"f9e385a1-7f4f-4125-9d4d-14d4f8de5ac9\",\"type\":\"Line\"},{\"attributes\":{\"source\":{\"id\":\"2ade2685-6e08-4d90-a9cd-6fbcc9945d93\",\"type\":\"ColumnDataSource\"}},\"id\":\"2a7b2da8-a7df-4c0f-abb2-d0c7a8438f4b\",\"type\":\"CDSView\"},{\"attributes\":{\"label\":{\"value\":\"CLIRAD `coolr_bands`\"},\"renderers\":[{\"id\":\"dafb8887-028a-40a1-9a61-6e46b7f53c40\",\"type\":\"GlyphRenderer\"}]},\"id\":\"cc4568bd-8585-4a77-a0a2-9453c618e097\",\"type\":\"LegendItem\"},{\"attributes\":{\"data_source\":{\"id\":\"2ade2685-6e08-4d90-a9cd-6fbcc9945d93\",\"type\":\"ColumnDataSource\"},\"glyph\":{\"id\":\"79156c47-cf07-47ec-82d4-64057a615c49\",\"type\":\"Line\"},\"hover_glyph\":null,\"muted_glyph\":null,\"nonselection_glyph\":{\"id\":\"f9e385a1-7f4f-4125-9d4d-14d4f8de5ac9\",\"type\":\"Line\"},\"selection_glyph\":null,\"view\":{\"id\":\"2a7b2da8-a7df-4c0f-abb2-d0c7a8438f4b\",\"type\":\"CDSView\"}},\"id\":\"ac5ab2de-c3aa-4070-b9a8-1074e894b8da\",\"type\":\"GlyphRenderer\"},{\"attributes\":{\"label\":{\"value\":\"WGT igg=10 wgt_flux=2\"},\"renderers\":[{\"id\":\"8ee3d464-43e4-4999-83e0-ee8b0288620e\",\"type\":\"GlyphRenderer\"},{\"id\":\"1908f1ef-98b7-4651-a7b2-194849ddd3ec\",\"type\":\"GlyphRenderer\"}]},\"id\":\"d2b1df99-1fc4-408b-875a-510d4b1875cf\",\"type\":\"LegendItem\"},{\"attributes\":{\"data_source\":{\"id\":\"92bc3f4c-a6e0-4035-9271-b9f624a3b4ac\",\"type\":\"ColumnDataSource\"},\"glyph\":{\"id\":\"ede9bc51-27a9-4e63-897e-98cda8883866\",\"type\":\"Line\"},\"hover_glyph\":null,\"muted_glyph\":null,\"nonselection_glyph\":{\"id\":\"cef98c07-c8ab-4cf8-9cc8-26d245a4166e\",\"type\":\"Line\"},\"selection_glyph\":null,\"view\":{\"id\":\"a4a3e5d2-d3b8-4698-8a11-bbd830d4aed2\",\"type\":\"CDSView\"}},\"id\":\"024a5b78-7c59-4468-9b5a-0dd2faa0b661\",\"type\":\"GlyphRenderer\"},{\"attributes\":{\"tools\":[{\"id\":\"094d0ddb-104a-44fd-a7fe-5a4b06fcef4a\",\"type\":\"PanTool\"},{\"id\":\"ba24fcd6-bcc9-4135-8c37-b667ed7269e7\",\"type\":\"WheelZoomTool\"},{\"id\":\"400641eb-f8c1-4066-9386-8a89e6bd55e9\",\"type\":\"BoxZoomTool\"},{\"id\":\"04f56348-a1bc-4dd1-be7f-4e9a5a13b6d4\",\"type\":\"SaveTool\"},{\"id\":\"30f56f9b-8e65-4cd1-82de-d8feeb18adde\",\"type\":\"ResetTool\"},{\"id\":\"ec5253bc-1f77-4135-b632-0e57c5c399c0\",\"type\":\"HelpTool\"},{\"id\":\"cb8f0b48-aa4a-48da-9d50-ba313e00828e\",\"type\":\"PanTool\"},{\"id\":\"f76b0456-4d52-43ac-a664-cd3ec510be22\",\"type\":\"WheelZoomTool\"},{\"id\":\"51522754-ae16-403b-a482-54b4d35e76eb\",\"type\":\"BoxZoomTool\"},{\"id\":\"82905795-adfb-4d66-a982-5a463d8138d9\",\"type\":\"SaveTool\"},{\"id\":\"0d101221-5adc-46af-b624-cd3dbbfc1eaf\",\"type\":\"ResetTool\"},{\"id\":\"f6ef20df-3d06-421d-a232-618713f012be\",\"type\":\"HelpTool\"}]},\"id\":\"17d4cc29-3b6b-4c63-aeed-ad31935b256f\",\"type\":\"ProxyToolbar\"},{\"attributes\":{\"num_minor_ticks\":10},\"id\":\"84fe93ef-d391-46a2-99ea-c7bc040d03cd\",\"type\":\"LogTicker\"},{\"attributes\":{\"children\":[{\"id\":\"90c29748-921f-4ceb-a019-5d11b3d1d437\",\"type\":\"ToolbarBox\"},{\"id\":\"8fb17154-6b46-40fa-b560-a27afd0eba0a\",\"type\":\"Column\"}]},\"id\":\"690cf47a-f45b-4480-8316-3f3c84abefd3\",\"type\":\"Column\"},{\"attributes\":{\"callback\":null,\"column_names\":[\"x\",\"y\"],\"data\":{\"x\":{\"__ndarray__\":\"95vDlMzawD9U4j5aqjeEPwX9/VH4zXg/V7xLgF7TUz+eyDMyP2xuv5X1Dd/R5YC/mq0aVoHyiL8d9a9jXnKQv6X1SmixZZS/M/VutxqVmL9z1cB/iEedvxYswSHVKaG/CiWgfT1DpL+TzBWeynupv8tZCg5Qlq+/X449zHXSsL+WoTFgt3Kvv2s2M1OKuKy/klAy7Sbupr8MhzErDHiWv4gaO5eYHZY/nQvIAzaMvj8pkq8EUmLRP6lzf9SqRtE/DDl885dtwz9slSt/aC21P5WExVrcfKc/+XQrOkg+mT+BVgUPeAWLP87LOHjsiHs/X5Q1bex5Yj++1f8rUVZEv8/Z2OazNVO/4FGUK845SL/T0lPt6IVLv6WgjE5ls1S/DAfyj6bRV7+lx9n2qapYv+wwCYNpEmC/QHlWFcxmZr9NUN15dsJpv6b8cg4oIGi/Kkf/DvdfZ7+kCvK3JYBnv614dRbOEWi/PdxOlvMwaL8BheMCoxVnvxlfi0jarmS/3PgGawvrYL8V0tNko4NXv4gHG4CTlUW/vCeC+vsiLD/jLqhSH39TPzBZHJsLxmI/JSlMQwQIbT8bFmBtvml0P6lvInykT3s/NhwUYUMvgj9zDyU0K9aGP3WO/B8ydYs/XQPKwrEQkD8HH1fe5nGSP69QPhnw7ZQ/Ud1Apz6Vlz9t4S0bk4GaPzB86ZIW050/mlGEuJi9oD+a3C9su3OiPy6GehOmnKM/PPOJdPMYpD+sX3RvAUWkP5BJz78gk6Q/UNFMiJ1PpT+ArIkABemmP748iJD/ca4/\",\"dtype\":\"float64\",\"shape\":[75]},\"y\":{\"__ndarray__\":\"GhExyth1ND/Sv8nbtpRIP2vylNV0PVE/aTum7souWD/At0SJ8fVgPw3Iuahxymc/MSNhhJWvcD/bTfBN02d3P2zb5nxnaoA/CD5h5MAGhz8NmeH1TyaQP+zrCsc9p5Y/LbKd76fGnz/bLW5ISEmmPww9YvTcQq8/JV2OstnstT8Er5Y7M8G+P0c+r3jqkcU/5h99k6ZBzj88bCIzFzjVP4enV8oyxN0//yH99nXg5D8qOpLLf0jtP5kqGJXUifQ/c9cS8kHP/D+/DpwzojQEQIEmwoanVwxA4lgXt9HgE0BSSZ2AJuIbQAMJih9jjiNA5q4l5INuK0AwTKYKRj0zQNv5fmq8/DpAaCJseHrtQkB/+zpwzoxKQM3MzMzMeFJAZmZmZmZqWEAAAAAAAFxeQM3MzMzMJmJAmpmZmZkfZUBmZmZmZhhoQDMzMzMzEWtAAAAAAAAKbkBmZmZmZoFwQM3MzMzM/XFAMzMzMzN6c0CamZmZmfZ0QAAAAAAAc3ZAZmZmZmbvd0DNzMzMzGt5QDMzMzMz6HpAmpmZmZlkfEAAAAAAAOF9QGZmZmZmXX9AZmZmZuZsgECamZmZGSuBQM3MzMxM6YFAAAAAAICngkAzMzMzs2WDQGZmZmbmI4RAmpmZmRnihEDNzMzMTKCFQAAAAACAXoZAMzMzM7Mch0BmZmZm5tqHQJqZmZkZmYhAzczMzExXiUAAAAAAgBWKQDMzMzOz04pAZmZmZuaRi0CamZmZGVCMQM3MzMxMDo1AAAAAAIDMjUAzMzMzs4qOQGZmZmbmSI9A\",\"dtype\":\"float64\",\"shape\":[75]}}},\"id\":\"92bc3f4c-a6e0-4035-9271-b9f624a3b4ac\",\"type\":\"ColumnDataSource\"},{\"attributes\":{\"line_alpha\":0.1,\"line_color\":\"#1f77b4\",\"line_width\":1.5,\"x\":{\"field\":\"x\"},\"y\":{\"field\":\"y\"}},\"id\":\"cef98c07-c8ab-4cf8-9cc8-26d245a4166e\",\"type\":\"Line\"},{\"attributes\":{\"callback\":null,\"column_names\":[\"x\",\"y\"],\"data\":{\"x\":{\"__ndarray__\":\"OsOa67AZ0j/NvKgfzFS4P2dx4IQraKk/ggq2LaSlhT99fGg9gVKSv/kdxWRqRaG/pu7AvKSKpL/XcvIYoXylv1NYEYQXvKW/eI4zEy31pb9LP8WXp3imv7ErnXeyh6e/n3AMh/mAqb/dD+X8Lhuuv3RBBr36orG/yuuYJcc+sb/Yn8mgCBmrv0rSOkwpH6K/bhnsXe5ZkL8+fSXDukBsP3F7zlK8Dpw/lxJMrME4uD/Je1GS4FPMP6d8xo10ac0//YwDlvkaxD+cfXHrZi28P6ZotyZ1s7E/ExbL4x9soD8EOwBWTpGAP+ZltutqWWM/cpJzzDyscT+TJUz3BwFqPxIqiCcaMFA/B1jRcILMPr/DTMxLZsJUvzUBdEszpVq/tm9BQWgHXL9IQxLpegNcv21L8IcQMGK/Y2zPEv5qab/Ey40JPC5tv7qm2/Fh2Gu/Vq39QxBlbL80qEjSrQ9uv7mKyN55A2+/xt8iqgoqbr/fip0Ybahsvy5W+ie9EWu/oRBz3DhIab/+LTujMYNmv7DKjfLo12G/IGmZSE4GVb/FVhMJeEkQv78zITeRilc/ObCnXKv9aT8VsLfyreZ0PwoVQ0rYZH0/79p+at6ngz+Wy3nYoSCIP5BCgncslYs/xp+ApIoNjj+K8oiuZPePPxIdpNUADZE/SbepqmWlkj9A2kEdPRuVP1EADp9Jopg/ic8PtucYnT9U5WSqrOKgP1EHUXXKzqI/wZCdA0AfpD9GeHGejiClPxd8ldpdMKY/TOdq+7yBpz/w8LWfQGOpP0sQeNcOg7A/\",\"dtype\":\"float64\",\"shape\":[75]},\"y\":{\"__ndarray__\":\"GhExyth1ND/Sv8nbtpRIP2vylNV0PVE/aTum7souWD/At0SJ8fVgPw3Iuahxymc/MSNhhJWvcD/bTfBN02d3P2zb5nxnaoA/CD5h5MAGhz8NmeH1TyaQP+zrCsc9p5Y/LbKd76fGnz/bLW5ISEmmPww9YvTcQq8/JV2OstnstT8Er5Y7M8G+P0c+r3jqkcU/5h99k6ZBzj88bCIzFzjVP4enV8oyxN0//yH99nXg5D8qOpLLf0jtP5kqGJXUifQ/c9cS8kHP/D+/DpwzojQEQIEmwoanVwxA4lgXt9HgE0BSSZ2AJuIbQAMJih9jjiNA5q4l5INuK0AwTKYKRj0zQNv5fmq8/DpAaCJseHrtQkB/+zpwzoxKQM3MzMzMeFJAZmZmZmZqWEAAAAAAAFxeQM3MzMzMJmJAmpmZmZkfZUBmZmZmZhhoQDMzMzMzEWtAAAAAAAAKbkBmZmZmZoFwQM3MzMzM/XFAMzMzMzN6c0CamZmZmfZ0QAAAAAAAc3ZAZmZmZmbvd0DNzMzMzGt5QDMzMzMz6HpAmpmZmZlkfEAAAAAAAOF9QGZmZmZmXX9AZmZmZuZsgECamZmZGSuBQM3MzMxM6YFAAAAAAICngkAzMzMzs2WDQGZmZmbmI4RAmpmZmRnihEDNzMzMTKCFQAAAAACAXoZAMzMzM7Mch0BmZmZm5tqHQJqZmZkZmYhAzczMzExXiUAAAAAAgBWKQDMzMzOz04pAZmZmZuaRi0CamZmZGVCMQM3MzMxMDo1AAAAAAIDMjUAzMzMzs4qOQGZmZmbmSI9A\",\"dtype\":\"float64\",\"shape\":[75]}}},\"id\":\"2ade2685-6e08-4d90-a9cd-6fbcc9945d93\",\"type\":\"ColumnDataSource\"},{\"attributes\":{},\"id\":\"afab371e-d76a-403a-ba89-6d0037816038\",\"type\":\"BasicTickFormatter\"},{\"attributes\":{\"source\":{\"id\":\"df5e242e-20b4-4f2d-a962-ce8b4e910bc5\",\"type\":\"ColumnDataSource\"}},\"id\":\"89ba4cc7-3a61-46e2-8a35-9ef887f9e10a\",\"type\":\"CDSView\"},{\"attributes\":{\"line_alpha\":0.6,\"line_color\":\"#984ea3\",\"line_width\":3,\"x\":{\"field\":\"x\"},\"y\":{\"field\":\"y\"}},\"id\":\"79156c47-cf07-47ec-82d4-64057a615c49\",\"type\":\"Line\"},{\"attributes\":{\"active_drag\":\"auto\",\"active_inspect\":\"auto\",\"active_scroll\":\"auto\",\"active_tap\":\"auto\",\"tools\":[{\"id\":\"cb8f0b48-aa4a-48da-9d50-ba313e00828e\",\"type\":\"PanTool\"},{\"id\":\"f76b0456-4d52-43ac-a664-cd3ec510be22\",\"type\":\"WheelZoomTool\"},{\"id\":\"51522754-ae16-403b-a482-54b4d35e76eb\",\"type\":\"BoxZoomTool\"},{\"id\":\"82905795-adfb-4d66-a982-5a463d8138d9\",\"type\":\"SaveTool\"},{\"id\":\"0d101221-5adc-46af-b624-cd3dbbfc1eaf\",\"type\":\"ResetTool\"},{\"id\":\"f6ef20df-3d06-421d-a232-618713f012be\",\"type\":\"HelpTool\"}]},\"id\":\"1e781b48-9f36-4933-8309-f2abaf4b08ab\",\"type\":\"Toolbar\"},{\"attributes\":{\"plot\":null,\"text\":\"Log pressure scale\"},\"id\":\"654a1153-2949-440e-821f-fdea60813c79\",\"type\":\"Title\"},{\"attributes\":{\"source\":{\"id\":\"cfa81948-98ff-4320-a575-8e79af93e08c\",\"type\":\"ColumnDataSource\"}},\"id\":\"2f9a6cfb-64d9-4fa3-b953-58805924e6df\",\"type\":\"CDSView\"},{\"attributes\":{\"fill_alpha\":{\"value\":0.1},\"fill_color\":{\"value\":\"#1f77b4\"},\"line_alpha\":{\"value\":0.1},\"line_color\":{\"value\":\"#1f77b4\"},\"x\":{\"field\":\"x\"},\"y\":{\"field\":\"y\"}},\"id\":\"a174f1ad-83ea-4855-b2a5-cbd10d8bd915\",\"type\":\"Square\"},{\"attributes\":{\"line_color\":\"#4daf4a\",\"line_width\":1.5,\"x\":{\"field\":\"x\"},\"y\":{\"field\":\"y\"}},\"id\":\"ede9bc51-27a9-4e63-897e-98cda8883866\",\"type\":\"Line\"},{\"attributes\":{\"plot\":{\"id\":\"5ecfde8e-7ba6-4ced-bbe1-f2e12d3d647b\",\"subtype\":\"Figure\",\"type\":\"Plot\"},\"ticker\":{\"id\":\"8e49fe63-b124-482e-9b70-d08c5ae3c92e\",\"type\":\"BasicTicker\"}},\"id\":\"bc1ed61d-9531-42ff-b8c6-7265e1720cfb\",\"type\":\"Grid\"},{\"attributes\":{},\"id\":\"8e49fe63-b124-482e-9b70-d08c5ae3c92e\",\"type\":\"BasicTicker\"},{\"attributes\":{},\"id\":\"ce293ada-5822-40c1-b2b9-aa2588f07a04\",\"type\":\"LogScale\"},{\"attributes\":{\"axis_label\":\"pressure [mb]\",\"formatter\":{\"id\":\"c631da33-04a1-4072-977c-69045c938e4f\",\"type\":\"LogTickFormatter\"},\"plot\":{\"id\":\"5ecfde8e-7ba6-4ced-bbe1-f2e12d3d647b\",\"subtype\":\"Figure\",\"type\":\"Plot\"},\"ticker\":{\"id\":\"84fe93ef-d391-46a2-99ea-c7bc040d03cd\",\"type\":\"LogTicker\"}},\"id\":\"df4d3564-7868-4e51-a1ea-56f3fe292f5b\",\"type\":\"LogAxis\"},{\"attributes\":{\"dimension\":1,\"plot\":{\"id\":\"5ecfde8e-7ba6-4ced-bbe1-f2e12d3d647b\",\"subtype\":\"Figure\",\"type\":\"Plot\"},\"ticker\":{\"id\":\"84fe93ef-d391-46a2-99ea-c7bc040d03cd\",\"type\":\"LogTicker\"}},\"id\":\"d1ca1252-d473-4a2f-9d3b-93fdf1290ffd\",\"type\":\"Grid\"},{\"attributes\":{},\"id\":\"70609ced-c1c4-4619-92dc-83772c7ceecc\",\"type\":\"BasicTickFormatter\"},{\"attributes\":{\"line_alpha\":0.6,\"line_color\":\"#e41a1c\",\"line_dash\":[6],\"line_width\":5,\"x\":{\"field\":\"x\"},\"y\":{\"field\":\"y\"}},\"id\":\"2190553e-352a-454e-b7b8-064c7d9c0b5e\",\"type\":\"Line\"},{\"attributes\":{\"source\":{\"id\":\"4b4abc3e-fedc-441e-8914-8066a5f0a6b3\",\"type\":\"ColumnDataSource\"}},\"id\":\"8016a1d1-774c-4051-bfa0-e48547d17d66\",\"type\":\"CDSView\"},{\"attributes\":{\"line_color\":\"#4daf4a\",\"line_width\":1.5,\"x\":{\"field\":\"x\"},\"y\":{\"field\":\"y\"}},\"id\":\"83eb91de-8628-4dbe-9e99-7e793f52ccce\",\"type\":\"Line\"},{\"attributes\":{\"callback\":null,\"end\":0.01,\"start\":1020},\"id\":\"6ad553c6-3e52-4a36-b67c-881f13e24551\",\"type\":\"Range1d\"},{\"attributes\":{\"bottom_units\":\"screen\",\"fill_alpha\":{\"value\":0.5},\"fill_color\":{\"value\":\"lightgrey\"},\"left_units\":\"screen\",\"level\":\"overlay\",\"line_alpha\":{\"value\":1.0},\"line_color\":{\"value\":\"black\"},\"line_dash\":[4,4],\"line_width\":{\"value\":2},\"plot\":null,\"render_mode\":\"css\",\"right_units\":\"screen\",\"top_units\":\"screen\"},\"id\":\"d1309cbb-6179-46c0-bad9-2cf524a2c230\",\"type\":\"BoxAnnotation\"},{\"attributes\":{},\"id\":\"cb8f0b48-aa4a-48da-9d50-ba313e00828e\",\"type\":\"PanTool\"},{\"attributes\":{\"callback\":null,\"column_names\":[\"x\",\"y\"],\"data\":{\"x\":{\"__ndarray__\":\"h2OGW3i90T+MN5IBKXy0Pz38IL5Yh6E/cz5R5tqokD9qZV0ED9GRv6lzJhxj76C/tltTnzKeo7+Ylvte73CkvyfpOaCnLKO/D6CGPyjHpL/zQJ48sAylvyR1p+CVyaa/70DpgC5eqL/MbJcDK/Gtv4B09j0GhbG/LAL036kesb90A+xAKZyqvx63Mr3RgqG/x7v44lgFkL9j9KW9HfZlPxweYoY9Ips/gVuGHoLBuD9TJhSmGDXNP9fDdns5gc4/ryjj59gkxT9QK5ZshmW9Py4Hf2EnLLI/R//BQ/UvoD8xeLIBsyeAPxypvjyr6Go/00TFn/RDdT837HNDd/NqP9Kkal6nVEQ/20XjPg/iSr/F2WBpqOZVvwxn+7PGcFq/QOZDiwUpXL8uAESzz0Bcv23mmSGRUmK/GqaI5XWRab8qIv76jD9tv6IEIN5R5Gu/yl5+hZZ+bL87bliZwFtuv8TrNPpjZm+/JTsRYHN3br/TEMoFqw1tvzNuwKCyhWu/CD23Ya+Pab8UVWxBsOBmv/ikwsGmGmK/D4WHk/H0Vb/oHrqfDnoXv5ebJCT2s1Y/wySLJTSjaT/j5CJg69B0PwfwcQHDTX0/ZHeK31CUgz/2o8dAtfmHPywx4y5BlIs/UOsIcBI0jj8YnUCZxRKQP2geGdsGFpE/9aaCh/LQkj8DMKX7JyKVP7DNieez1pg/QtAYgCIjnT8iqksh6wShP2JtDR4G8KI/Suas3eM9pD8vjds/gT2lP/vHOAKVSqY/MOKJwFuXpz+vrhf+ZHCpPzgyTeDverA/\",\"dtype\":\"float64\",\"shape\":[75]},\"y\":{\"__ndarray__\":\"S/O/Q+51ND/430zAtpRIP2vylNV0PVE/QxsjCssuWD/TR4Z78fVgP+inNsRxymc/OuuBfZWvcD/u3TFA02d3P2d3VoBnaoA/CD5h5MAGhz/1pA8HUCaQP+zrCsc9p5Y/Fb7LAKjGnz/nJ9c/SEmmPwBD+fzcQq8/FOZwv9nstT8Er5Y7M8G+P0c+r3jqkcU/yK72qKZBzj+tM989FzjVPxbgmr8yxN0/cOm5AXbg5D+5ctXAf0jtP5kqGJXUifQ/DsrqDELP/D8MCAhBojQEQDItVnmnVwxAiFXNvdHgE0BSSZ2AJuIbQAMJih9jjiNA5q4l5INuK0CPVN/5RT0zQHzxRXu8/DpAOZ7PgHrtQkAg8wGBzoxKQBSTN8DMeFJA2NmQf2ZqWEAAAAAAAFxeQEQX1LfMJmJAmpmZmZkfZUBmZmZmZhhoQLzoK0gzEWtAAAAAAAAKbkCiC+pbZoFwQAhyUMLM/XFA+I2vPTN6c0AQ5KCEmfZ0QAAAAAAAc3ZA8Btfe2bvd0AIclDCzGt5QPeNrz0z6HpAEOSghJlkfEAAAAAAAOF9QKML6ltmXX9ABTkoYeZsgED7xteeGSuBQAhyUMJM6YFAAAAAAICngkD4ja89s2WDQAU5KGHmI4RA+8bXnhnihEAIclDCTKCFQAAAAACAXoZA+I2vPbMch0AFOShh5tqHQPvG154ZmYhACHJQwkxXiUAAAAAAgBWKQPeNrz2z04pABTkoYeaRi0D7xteeGVCMQAlyUMJMDo1AAAAAAIDMjUD3ja89s4qOQGZmZmbmSI9A\",\"dtype\":\"float64\",\"shape\":[75]}}},\"id\":\"4b4abc3e-fedc-441e-8914-8066a5f0a6b3\",\"type\":\"ColumnDataSource\"},{\"attributes\":{},\"id\":\"f76b0456-4d52-43ac-a664-cd3ec510be22\",\"type\":\"WheelZoomTool\"},{\"attributes\":{\"overlay\":{\"id\":\"d1309cbb-6179-46c0-bad9-2cf524a2c230\",\"type\":\"BoxAnnotation\"}},\"id\":\"51522754-ae16-403b-a482-54b4d35e76eb\",\"type\":\"BoxZoomTool\"},{\"attributes\":{},\"id\":\"82905795-adfb-4d66-a982-5a463d8138d9\",\"type\":\"SaveTool\"},{\"attributes\":{},\"id\":\"0d101221-5adc-46af-b624-cd3dbbfc1eaf\",\"type\":\"ResetTool\"},{\"attributes\":{},\"id\":\"f6ef20df-3d06-421d-a232-618713f012be\",\"type\":\"HelpTool\"},{\"attributes\":{\"line_alpha\":0.1,\"line_color\":\"#1f77b4\",\"line_width\":1.5,\"x\":{\"field\":\"x\"},\"y\":{\"field\":\"y\"}},\"id\":\"555652f6-3e24-4c44-998c-2b75b7aea838\",\"type\":\"Line\"},{\"attributes\":{\"data_source\":{\"id\":\"ae926531-0447-48ea-9061-7ef412baee43\",\"type\":\"ColumnDataSource\"},\"glyph\":{\"id\":\"83eb91de-8628-4dbe-9e99-7e793f52ccce\",\"type\":\"Line\"},\"hover_glyph\":null,\"muted_glyph\":null,\"nonselection_glyph\":{\"id\":\"555652f6-3e24-4c44-998c-2b75b7aea838\",\"type\":\"Line\"},\"selection_glyph\":null,\"view\":{\"id\":\"f07252f4-3493-4b53-bab9-70bcbb5c561d\",\"type\":\"CDSView\"}},\"id\":\"91d64c9a-91bb-432f-9ef4-baf6bb12227b\",\"type\":\"GlyphRenderer\"},{\"attributes\":{\"ticker\":null},\"id\":\"c631da33-04a1-4072-977c-69045c938e4f\",\"type\":\"LogTickFormatter\"},{\"attributes\":{\"line_alpha\":0.1,\"line_color\":\"#1f77b4\",\"line_dash\":[6],\"line_width\":5,\"x\":{\"field\":\"x\"},\"y\":{\"field\":\"y\"}},\"id\":\"530025cd-4f70-4bd5-bfa4-5e011a609ff9\",\"type\":\"Line\"},{\"attributes\":{\"callback\":null,\"column_names\":[\"x\",\"y\"],\"data\":{\"x\":{\"__ndarray__\":\"95vDlMzawD9U4j5aqjeEPwX9/VH4zXg/V7xLgF7TUz+eyDMyP2xuv5X1Dd/R5YC/mq0aVoHyiL8d9a9jXnKQv6X1SmixZZS/M/VutxqVmL9z1cB/iEedvxYswSHVKaG/CiWgfT1DpL+TzBWeynupv8tZCg5Qlq+/X449zHXSsL+WoTFgt3Kvv2s2M1OKuKy/klAy7Sbupr8MhzErDHiWv4gaO5eYHZY/nQvIAzaMvj8pkq8EUmLRP6lzf9SqRtE/DDl885dtwz9slSt/aC21P5WExVrcfKc/+XQrOkg+mT+BVgUPeAWLP87LOHjsiHs/X5Q1bex5Yj++1f8rUVZEv8/Z2OazNVO/4FGUK845SL/T0lPt6IVLv6WgjE5ls1S/DAfyj6bRV7+lx9n2qapYv+wwCYNpEmC/QHlWFcxmZr9NUN15dsJpv6b8cg4oIGi/Kkf/DvdfZ7+kCvK3JYBnv614dRbOEWi/PdxOlvMwaL8BheMCoxVnvxlfi0jarmS/3PgGawvrYL8V0tNko4NXv4gHG4CTlUW/vCeC+vsiLD/jLqhSH39TPzBZHJsLxmI/JSlMQwQIbT8bFmBtvml0P6lvInykT3s/NhwUYUMvgj9zDyU0K9aGP3WO/B8ydYs/XQPKwrEQkD8HH1fe5nGSP69QPhnw7ZQ/Ud1Apz6Vlz9t4S0bk4GaPzB86ZIW050/mlGEuJi9oD+a3C9su3OiPy6GehOmnKM/PPOJdPMYpD+sX3RvAUWkP5BJz78gk6Q/UNFMiJ1PpT+ArIkABemmP748iJD/ca4/\",\"dtype\":\"float64\",\"shape\":[75]},\"y\":{\"__ndarray__\":\"GhExyth1ND/Sv8nbtpRIP2vylNV0PVE/aTum7souWD/At0SJ8fVgPw3Iuahxymc/MSNhhJWvcD/bTfBN02d3P2zb5nxnaoA/CD5h5MAGhz8NmeH1TyaQP+zrCsc9p5Y/LbKd76fGnz/bLW5ISEmmPww9YvTcQq8/JV2OstnstT8Er5Y7M8G+P0c+r3jqkcU/5h99k6ZBzj88bCIzFzjVP4enV8oyxN0//yH99nXg5D8qOpLLf0jtP5kqGJXUifQ/c9cS8kHP/D+/DpwzojQEQIEmwoanVwxA4lgXt9HgE0BSSZ2AJuIbQAMJih9jjiNA5q4l5INuK0AwTKYKRj0zQNv5fmq8/DpAaCJseHrtQkB/+zpwzoxKQM3MzMzMeFJAZmZmZmZqWEAAAAAAAFxeQM3MzMzMJmJAmpmZmZkfZUBmZmZmZhhoQDMzMzMzEWtAAAAAAAAKbkBmZmZmZoFwQM3MzMzM/XFAMzMzMzN6c0CamZmZmfZ0QAAAAAAAc3ZAZmZmZmbvd0DNzMzMzGt5QDMzMzMz6HpAmpmZmZlkfEAAAAAAAOF9QGZmZmZmXX9AZmZmZuZsgECamZmZGSuBQM3MzMxM6YFAAAAAAICngkAzMzMzs2WDQGZmZmbmI4RAmpmZmRnihEDNzMzMTKCFQAAAAACAXoZAMzMzM7Mch0BmZmZm5tqHQJqZmZkZmYhAzczMzExXiUAAAAAAgBWKQDMzMzOz04pAZmZmZuaRi0CamZmZGVCMQM3MzMxMDo1AAAAAAIDMjUAzMzMzs4qOQGZmZmbmSI9A\",\"dtype\":\"float64\",\"shape\":[75]}}},\"id\":\"9e0248c8-902a-4f55-bd57-11a87f70570f\",\"type\":\"ColumnDataSource\"},{\"attributes\":{\"callback\":null,\"column_names\":[\"x\",\"y\"],\"data\":{\"x\":{\"__ndarray__\":\"95vDlMzawD9U4j5aqjeEPwX9/VH4zXg/V7xLgF7TUz+eyDMyP2xuv5X1Dd/R5YC/mq0aVoHyiL8d9a9jXnKQv6X1SmixZZS/M/VutxqVmL9z1cB/iEedvxYswSHVKaG/CiWgfT1DpL+TzBWeynupv8tZCg5Qlq+/X449zHXSsL+WoTFgt3Kvv2s2M1OKuKy/klAy7Sbupr8MhzErDHiWv4gaO5eYHZY/nQvIAzaMvj8pkq8EUmLRP6lzf9SqRtE/DDl885dtwz9slSt/aC21P5WExVrcfKc/+XQrOkg+mT+BVgUPeAWLP87LOHjsiHs/X5Q1bex5Yj++1f8rUVZEv8/Z2OazNVO/4FGUK845SL/T0lPt6IVLv6WgjE5ls1S/DAfyj6bRV7+lx9n2qapYv+wwCYNpEmC/QHlWFcxmZr9NUN15dsJpv6b8cg4oIGi/Kkf/DvdfZ7+kCvK3JYBnv614dRbOEWi/PdxOlvMwaL8BheMCoxVnvxlfi0jarmS/3PgGawvrYL8V0tNko4NXv4gHG4CTlUW/vCeC+vsiLD/jLqhSH39TPzBZHJsLxmI/JSlMQwQIbT8bFmBtvml0P6lvInykT3s/NhwUYUMvgj9zDyU0K9aGP3WO/B8ydYs/XQPKwrEQkD8HH1fe5nGSP69QPhnw7ZQ/Ud1Apz6Vlz9t4S0bk4GaPzB86ZIW050/mlGEuJi9oD+a3C9su3OiPy6GehOmnKM/PPOJdPMYpD+sX3RvAUWkP5BJz78gk6Q/UNFMiJ1PpT+ArIkABemmP748iJD/ca4/\",\"dtype\":\"float64\",\"shape\":[75]},\"y\":{\"__ndarray__\":\"GhExyth1ND/Sv8nbtpRIP2vylNV0PVE/aTum7souWD/At0SJ8fVgPw3Iuahxymc/MSNhhJWvcD/bTfBN02d3P2zb5nxnaoA/CD5h5MAGhz8NmeH1TyaQP+zrCsc9p5Y/LbKd76fGnz/bLW5ISEmmPww9YvTcQq8/JV2OstnstT8Er5Y7M8G+P0c+r3jqkcU/5h99k6ZBzj88bCIzFzjVP4enV8oyxN0//yH99nXg5D8qOpLLf0jtP5kqGJXUifQ/c9cS8kHP/D+/DpwzojQEQIEmwoanVwxA4lgXt9HgE0BSSZ2AJuIbQAMJih9jjiNA5q4l5INuK0AwTKYKRj0zQNv5fmq8/DpAaCJseHrtQkB/+zpwzoxKQM3MzMzMeFJAZmZmZmZqWEAAAAAAAFxeQM3MzMzMJmJAmpmZmZkfZUBmZmZmZhhoQDMzMzMzEWtAAAAAAAAKbkBmZmZmZoFwQM3MzMzM/XFAMzMzMzN6c0CamZmZmfZ0QAAAAAAAc3ZAZmZmZmbvd0DNzMzMzGt5QDMzMzMz6HpAmpmZmZlkfEAAAAAAAOF9QGZmZmZmXX9AZmZmZuZsgECamZmZGSuBQM3MzMxM6YFAAAAAAICngkAzMzMzs2WDQGZmZmbmI4RAmpmZmRnihEDNzMzMTKCFQAAAAACAXoZAMzMzM7Mch0BmZmZm5tqHQJqZmZkZmYhAzczMzExXiUAAAAAAgBWKQDMzMzOz04pAZmZmZuaRi0CamZmZGVCMQM3MzMxMDo1AAAAAAIDMjUAzMzMzs4qOQGZmZmbmSI9A\",\"dtype\":\"float64\",\"shape\":[75]}}},\"id\":\"ae926531-0447-48ea-9061-7ef412baee43\",\"type\":\"ColumnDataSource\"},{\"attributes\":{\"data_source\":{\"id\":\"4b4abc3e-fedc-441e-8914-8066a5f0a6b3\",\"type\":\"ColumnDataSource\"},\"glyph\":{\"id\":\"8280592b-4ea6-4385-8b23-d486de5b5697\",\"type\":\"Line\"},\"hover_glyph\":null,\"muted_glyph\":null,\"nonselection_glyph\":{\"id\":\"530025cd-4f70-4bd5-bfa4-5e011a609ff9\",\"type\":\"Line\"},\"selection_glyph\":null,\"view\":{\"id\":\"8016a1d1-774c-4051-bfa0-e48547d17d66\",\"type\":\"CDSView\"}},\"id\":\"dafb8887-028a-40a1-9a61-6e46b7f53c40\",\"type\":\"GlyphRenderer\"},{\"attributes\":{\"line_alpha\":0.6,\"line_color\":\"#e41a1c\",\"line_dash\":[6],\"line_width\":5,\"x\":{\"field\":\"x\"},\"y\":{\"field\":\"y\"}},\"id\":\"8280592b-4ea6-4385-8b23-d486de5b5697\",\"type\":\"Line\"}],\"root_ids\":[\"690cf47a-f45b-4480-8316-3f3c84abefd3\"]},\"title\":\"Bokeh Application\",\"version\":\"0.12.14\"}};\n",
       "  var render_items = [{\"docid\":\"971500df-0546-4e90-ab90-512606814876\",\"elementid\":\"47ce30d3-4d29-466f-832a-f1ccbb7f2fc0\",\"modelid\":\"690cf47a-f45b-4480-8316-3f3c84abefd3\"}];\n",
       "  root.Bokeh.embed.embed_items_notebook(docs_json, render_items);\n",
       "\n",
       "  }\n",
       "  if (root.Bokeh !== undefined) {\n",
       "    embed_document(root);\n",
       "  } else {\n",
       "    var attempts = 0;\n",
       "    var timer = setInterval(function(root) {\n",
       "      if (root.Bokeh !== undefined) {\n",
       "        embed_document(root);\n",
       "        clearInterval(timer);\n",
       "      }\n",
       "      attempts++;\n",
       "      if (attempts > 100) {\n",
       "        console.log(\"Bokeh: ERROR: Unable to run BokehJS code because BokehJS library is missing\")\n",
       "        clearInterval(timer);\n",
       "      }\n",
       "    }, 10, root)\n",
       "  }\n",
       "})(window);"
      ],
      "application/vnd.bokehjs_exec.v0+json": ""
     },
     "metadata": {
      "application/vnd.bokehjs_exec.v0+json": {
       "id": "690cf47a-f45b-4480-8316-3f3c84abefd3"
      }
     },
     "output_type": "display_data"
    },
    {
     "name": "stdout",
     "output_type": "stream",
     "text": [
      "FIGURE. Cooling rate profiles.\n"
     ]
    },
    {
     "data": {
      "text/html": [
       "<a id=\"Flux_Comparison\"></a>"
      ],
      "text/plain": [
       "<IPython.core.display.HTML object>"
      ]
     },
     "metadata": {},
     "output_type": "display_data"
    },
    {
     "data": {
      "text/markdown": [
       "# Flux Comparison"
      ],
      "text/plain": [
       "<IPython.core.display.Markdown object>"
      ]
     },
     "metadata": {},
     "output_type": "display_data"
    },
    {
     "data": {
      "text/html": [
       "<div>\n",
       "<style>\n",
       "    .dataframe thead tr:only-child th {\n",
       "        text-align: right;\n",
       "    }\n",
       "\n",
       "    .dataframe thead th {\n",
       "        text-align: left;\n",
       "    }\n",
       "\n",
       "    .dataframe tbody tr th {\n",
       "        vertical-align: top;\n",
       "    }\n",
       "</style>\n",
       "<table border=\"1\" class=\"dataframe\">\n",
       "  <thead>\n",
       "    <tr style=\"text-align: right;\">\n",
       "      <th></th>\n",
       "      <th></th>\n",
       "      <th>flug</th>\n",
       "      <th>fldg</th>\n",
       "      <th>fnetg</th>\n",
       "    </tr>\n",
       "    <tr>\n",
       "      <th>pressure</th>\n",
       "      <th>level</th>\n",
       "      <th></th>\n",
       "      <th></th>\n",
       "      <th></th>\n",
       "    </tr>\n",
       "  </thead>\n",
       "  <tbody>\n",
       "    <tr>\n",
       "      <th>0.0000</th>\n",
       "      <th>1</th>\n",
       "      <td>-4.023297</td>\n",
       "      <td>0.000000</td>\n",
       "      <td>-4.023297</td>\n",
       "    </tr>\n",
       "    <tr>\n",
       "      <th>1.0685</th>\n",
       "      <th>24</th>\n",
       "      <td>-4.030783</td>\n",
       "      <td>0.017237</td>\n",
       "      <td>-4.013546</td>\n",
       "    </tr>\n",
       "    <tr>\n",
       "      <th>1013.0000</th>\n",
       "      <th>76</th>\n",
       "      <td>-6.625452</td>\n",
       "      <td>4.062985</td>\n",
       "      <td>-2.562467</td>\n",
       "    </tr>\n",
       "  </tbody>\n",
       "</table>\n",
       "</div>"
      ],
      "text/plain": [
       "                     flug      fldg     fnetg\n",
       "pressure  level                              \n",
       "0.0000    1     -4.023297  0.000000 -4.023297\n",
       "1.0685    24    -4.030783  0.017237 -4.013546\n",
       "1013.0000 76    -6.625452  4.062985 -2.562467"
      ]
     },
     "metadata": {},
     "output_type": "display_data"
    },
    {
     "name": "stdout",
     "output_type": "stream",
     "text": [
      "Table. Fluxes. WGT igg=10 wgt_flux=1\n"
     ]
    },
    {
     "data": {
      "text/html": [
       "<div>\n",
       "<style>\n",
       "    .dataframe thead tr:only-child th {\n",
       "        text-align: right;\n",
       "    }\n",
       "\n",
       "    .dataframe thead th {\n",
       "        text-align: left;\n",
       "    }\n",
       "\n",
       "    .dataframe tbody tr th {\n",
       "        vertical-align: top;\n",
       "    }\n",
       "</style>\n",
       "<table border=\"1\" class=\"dataframe\">\n",
       "  <thead>\n",
       "    <tr style=\"text-align: right;\">\n",
       "      <th></th>\n",
       "      <th></th>\n",
       "      <th>flug</th>\n",
       "      <th>fldg</th>\n",
       "      <th>fnetg</th>\n",
       "    </tr>\n",
       "    <tr>\n",
       "      <th>pressure</th>\n",
       "      <th>level</th>\n",
       "      <th></th>\n",
       "      <th></th>\n",
       "      <th></th>\n",
       "    </tr>\n",
       "  </thead>\n",
       "  <tbody>\n",
       "    <tr>\n",
       "      <th>0.0000</th>\n",
       "      <th>1</th>\n",
       "      <td>-4.087499</td>\n",
       "      <td>0.000000</td>\n",
       "      <td>-4.087499</td>\n",
       "    </tr>\n",
       "    <tr>\n",
       "      <th>1.0685</th>\n",
       "      <th>24</th>\n",
       "      <td>-4.094944</td>\n",
       "      <td>0.018859</td>\n",
       "      <td>-4.076085</td>\n",
       "    </tr>\n",
       "    <tr>\n",
       "      <th>1013.0000</th>\n",
       "      <th>76</th>\n",
       "      <td>-6.625452</td>\n",
       "      <td>4.061761</td>\n",
       "      <td>-2.563691</td>\n",
       "    </tr>\n",
       "  </tbody>\n",
       "</table>\n",
       "</div>"
      ],
      "text/plain": [
       "                     flug      fldg     fnetg\n",
       "pressure  level                              \n",
       "0.0000    1     -4.087499  0.000000 -4.087499\n",
       "1.0685    24    -4.094944  0.018859 -4.076085\n",
       "1013.0000 76    -6.625452  4.061761 -2.563691"
      ]
     },
     "metadata": {},
     "output_type": "display_data"
    },
    {
     "name": "stdout",
     "output_type": "stream",
     "text": [
      "Table. Fluxes. CRD\n"
     ]
    },
    {
     "data": {
      "text/html": [
       "<div>\n",
       "<style>\n",
       "    .dataframe thead tr:only-child th {\n",
       "        text-align: right;\n",
       "    }\n",
       "\n",
       "    .dataframe thead th {\n",
       "        text-align: left;\n",
       "    }\n",
       "\n",
       "    .dataframe tbody tr th {\n",
       "        vertical-align: top;\n",
       "    }\n",
       "</style>\n",
       "<table border=\"1\" class=\"dataframe\">\n",
       "  <thead>\n",
       "    <tr style=\"text-align: right;\">\n",
       "      <th></th>\n",
       "      <th></th>\n",
       "      <th>flug</th>\n",
       "      <th>fldg</th>\n",
       "      <th>fnetg</th>\n",
       "    </tr>\n",
       "    <tr>\n",
       "      <th>pressure</th>\n",
       "      <th>level</th>\n",
       "      <th></th>\n",
       "      <th></th>\n",
       "      <th></th>\n",
       "    </tr>\n",
       "  </thead>\n",
       "  <tbody>\n",
       "    <tr>\n",
       "      <th>1.000000e-08</th>\n",
       "      <th>1</th>\n",
       "      <td>-4.022599</td>\n",
       "      <td>0.000002</td>\n",
       "      <td>-4.022597</td>\n",
       "    </tr>\n",
       "    <tr>\n",
       "      <th>1.068500e+00</th>\n",
       "      <th>24</th>\n",
       "      <td>-4.030184</td>\n",
       "      <td>0.017642</td>\n",
       "      <td>-4.012541</td>\n",
       "    </tr>\n",
       "    <tr>\n",
       "      <th>1.013000e+03</th>\n",
       "      <th>76</th>\n",
       "      <td>-6.625452</td>\n",
       "      <td>4.068976</td>\n",
       "      <td>-2.556476</td>\n",
       "    </tr>\n",
       "  </tbody>\n",
       "</table>\n",
       "</div>"
      ],
      "text/plain": [
       "                        flug      fldg     fnetg\n",
       "pressure     level                              \n",
       "1.000000e-08 1     -4.022599  0.000002 -4.022597\n",
       "1.068500e+00 24    -4.030184  0.017642 -4.012541\n",
       "1.013000e+03 76    -6.625452  4.068976 -2.556476"
      ]
     },
     "metadata": {},
     "output_type": "display_data"
    },
    {
     "name": "stdout",
     "output_type": "stream",
     "text": [
      "Table. Fluxes. CLIRAD\n"
     ]
    },
    {
     "data": {
      "text/html": [
       "<div>\n",
       "<style>\n",
       "    .dataframe thead tr:only-child th {\n",
       "        text-align: right;\n",
       "    }\n",
       "\n",
       "    .dataframe thead th {\n",
       "        text-align: left;\n",
       "    }\n",
       "\n",
       "    .dataframe tbody tr th {\n",
       "        vertical-align: top;\n",
       "    }\n",
       "</style>\n",
       "<table border=\"1\" class=\"dataframe\">\n",
       "  <thead>\n",
       "    <tr style=\"text-align: right;\">\n",
       "      <th></th>\n",
       "      <th></th>\n",
       "      <th>flug</th>\n",
       "      <th>fldg</th>\n",
       "      <th>fnetg</th>\n",
       "    </tr>\n",
       "    <tr>\n",
       "      <th>pressure</th>\n",
       "      <th>level</th>\n",
       "      <th></th>\n",
       "      <th></th>\n",
       "      <th></th>\n",
       "    </tr>\n",
       "  </thead>\n",
       "  <tbody>\n",
       "    <tr>\n",
       "      <th>0.0000</th>\n",
       "      <th>1</th>\n",
       "      <td>-0.064203</td>\n",
       "      <td>0.000000</td>\n",
       "      <td>-0.064203</td>\n",
       "    </tr>\n",
       "    <tr>\n",
       "      <th>1.0685</th>\n",
       "      <th>24</th>\n",
       "      <td>-0.064161</td>\n",
       "      <td>0.001622</td>\n",
       "      <td>-0.062539</td>\n",
       "    </tr>\n",
       "    <tr>\n",
       "      <th>1013.0000</th>\n",
       "      <th>76</th>\n",
       "      <td>0.000000</td>\n",
       "      <td>-0.001224</td>\n",
       "      <td>-0.001224</td>\n",
       "    </tr>\n",
       "  </tbody>\n",
       "</table>\n",
       "</div>"
      ],
      "text/plain": [
       "                     flug      fldg     fnetg\n",
       "pressure  level                              \n",
       "0.0000    1     -0.064203  0.000000 -0.064203\n",
       "1.0685    24    -0.064161  0.001622 -0.062539\n",
       "1013.0000 76     0.000000 -0.001224 -0.001224"
      ]
     },
     "metadata": {},
     "output_type": "display_data"
    },
    {
     "name": "stdout",
     "output_type": "stream",
     "text": [
      "Table. Fluxes. (CRD) - (WGT igg=10 wgt_flux=1)\n"
     ]
    },
    {
     "data": {
      "text/html": [
       "<div>\n",
       "<style>\n",
       "    .dataframe thead tr:only-child th {\n",
       "        text-align: right;\n",
       "    }\n",
       "\n",
       "    .dataframe thead th {\n",
       "        text-align: left;\n",
       "    }\n",
       "\n",
       "    .dataframe tbody tr th {\n",
       "        vertical-align: top;\n",
       "    }\n",
       "</style>\n",
       "<table border=\"1\" class=\"dataframe\">\n",
       "  <thead>\n",
       "    <tr style=\"text-align: right;\">\n",
       "      <th></th>\n",
       "      <th></th>\n",
       "      <th>flug</th>\n",
       "      <th>fldg</th>\n",
       "      <th>fnetg</th>\n",
       "    </tr>\n",
       "    <tr>\n",
       "      <th>pressure</th>\n",
       "      <th>level</th>\n",
       "      <th></th>\n",
       "      <th></th>\n",
       "      <th></th>\n",
       "    </tr>\n",
       "  </thead>\n",
       "  <tbody>\n",
       "    <tr>\n",
       "      <th>0.0000</th>\n",
       "      <th>1</th>\n",
       "      <td>6.976000e-04</td>\n",
       "      <td>0.000002</td>\n",
       "      <td>0.000699</td>\n",
       "    </tr>\n",
       "    <tr>\n",
       "      <th>1.0685</th>\n",
       "      <th>24</th>\n",
       "      <td>5.990000e-04</td>\n",
       "      <td>0.000405</td>\n",
       "      <td>0.001005</td>\n",
       "    </tr>\n",
       "    <tr>\n",
       "      <th>1013.0000</th>\n",
       "      <th>76</th>\n",
       "      <td>3.000000e-07</td>\n",
       "      <td>0.005991</td>\n",
       "      <td>0.005992</td>\n",
       "    </tr>\n",
       "  </tbody>\n",
       "</table>\n",
       "</div>"
      ],
      "text/plain": [
       "                         flug      fldg     fnetg\n",
       "pressure  level                                  \n",
       "0.0000    1      6.976000e-04  0.000002  0.000699\n",
       "1.0685    24     5.990000e-04  0.000405  0.001005\n",
       "1013.0000 76     3.000000e-07  0.005991  0.005992"
      ]
     },
     "metadata": {},
     "output_type": "display_data"
    },
    {
     "name": "stdout",
     "output_type": "stream",
     "text": [
      "Table. Fluxes. (CLIRAD) - (WGT igg=10 wgt_flux=1)\n"
     ]
    },
    {
     "data": {
      "text/html": [
       "<a id=\"Best-fit_Parameters\"></a>"
      ],
      "text/plain": [
       "<IPython.core.display.HTML object>"
      ]
     },
     "metadata": {},
     "output_type": "display_data"
    },
    {
     "data": {
      "text/markdown": [
       "# Best-fit Parameters"
      ],
      "text/plain": [
       "<IPython.core.display.Markdown object>"
      ]
     },
     "metadata": {},
     "output_type": "display_data"
    },
    {
     "name": "stdout",
     "output_type": "stream",
     "text": [
      "Best-fit values for each (gas, band)\n",
      "------------------------------------\n",
      "o h2o band9\n",
      "  molecule = h2o\n",
      "  band = 9\n",
      "  commitnumber = d5931a1\n",
      "  vmin = 1900\n",
      "  vmax = 3000\n",
      "  dv = 0.001\n",
      "  nv = 1000\n",
      "  ref_pts = [(500, 250)]\n",
      "  ng_refs = [5]\n",
      "  ng_adju = [0]\n",
      "  klin = 1e-24\n",
      "  option_wgt_k = 1\n",
      "  wgt = [(0.4, 0.4, 0.5, 0.55, 0.85)]\n",
      "  w_diffuse = [(1.66, 1.66, 1.66, 1.66, 1.66)]\n",
      "  option_wgt_flux = 1\n",
      "  atmpro = mls\n",
      "  tsfc = 294\n",
      "  conc = None\n",
      "  option_compute_btable = 0\n",
      "  option_compute_ktable = 1\n",
      "o co2 band9\n",
      "  molecule = co2\n",
      "  band = 9\n",
      "  commitnumber = d5931a1\n",
      "  vmin = 1900\n",
      "  vmax = 3000\n",
      "  dv = 0.001\n",
      "  nv = 1000\n",
      "  ref_pts = [(1, 250), (50, 250)]\n",
      "  ng_refs = [3, 3]\n",
      "  ng_adju = [0, 0]\n",
      "  klin = 6.5e-24\n",
      "  option_wgt_k = 1\n",
      "  wgt = [(0.7, 0.7, 0.7), (0.7, 0.7, 0.8)]\n",
      "  w_diffuse = [(1.66, 1.66, 1.66), (1.66, 1.66, 1.8)]\n",
      "  option_wgt_flux = 1\n",
      "  atmpro = mls\n",
      "  tsfc = 294\n",
      "  conc = 0.0004\n",
      "  option_compute_btable = 0\n",
      "  option_compute_ktable = 1\n"
     ]
    }
   ],
   "source": [
    "def show_html(s):\n",
    "    display.display(display.HTML(s))\n",
    "\n",
    "    \n",
    "def show_markdown(s):\n",
    "    display.display(display.Markdown(s))\n",
    "\n",
    "    \n",
    "def script():\n",
    "    \n",
    "    title = '### CLIRAD-LW'\n",
    "    s_input = 'Input Parameters'\n",
    "    s_bestfits = 'Best-fit Parameters'\n",
    "    s_plt_cooling = 'Cooling Rate Profiles'\n",
    "    s_tb_flux = 'Flux Comparison'\n",
    "    \n",
    "    # title\n",
    "    show_markdown('### CLIRAD-LW')\n",
    "    \n",
    "    # TOC\n",
    "    show_markdown('### Table of Content')\n",
    "    show_html(climahtml.getHTML_hrefanchor(s_input))\n",
    "    show_html(climahtml.getHTML_hrefanchor(s_plt_cooling))\n",
    "    show_html(climahtml.getHTML_hrefanchor(s_tb_flux))\n",
    "    show_html(climahtml.getHTML_hrefanchor(s_bestfits))\n",
    "    \n",
    "    # Input parameters\n",
    "    show_html(climahtml.getHTML_idanchor(s_input))\n",
    "    show_markdown(climahtml.getMarkdown_sectitle(s_input))\n",
    "    print_input_param()\n",
    "    \n",
    "    # Cooling rate profiles\n",
    "    show_html(climahtml.getHTML_idanchor(s_plt_cooling))\n",
    "    show_markdown(climahtml.getMarkdown_sectitle(s_plt_cooling))\n",
    "    script_plt_cooling()\n",
    "    \n",
    "    # Flux comparison\n",
    "    show_html(climahtml.getHTML_idanchor(s_tb_flux))\n",
    "    show_markdown(climahtml.getMarkdown_sectitle(s_tb_flux))\n",
    "    script_tb_flux()\n",
    "    \n",
    "    # Best-fit values\n",
    "    show_html(climahtml.getHTML_idanchor(s_bestfits))\n",
    "    show_markdown(climahtml.getMarkdown_sectitle(s_bestfits))\n",
    "    print_bestfit_params()\n",
    "    \n",
    "    \n",
    "script()\n",
    "    \n",
    "    "
   ]
  },
  {
   "cell_type": "code",
   "execution_count": 14,
   "metadata": {},
   "outputs": [
    {
     "data": {
      "text/html": [
       "<script>\n",
       "code_show=true; \n",
       "function code_toggle() {\n",
       " if (code_show){\n",
       " $('div.input').hide();\n",
       " } else {\n",
       " $('div.input').show();\n",
       " }\n",
       " code_show = !code_show\n",
       "} \n",
       "$( document ).ready(code_toggle);\n",
       "</script>\n",
       "<form action=\"javascript:code_toggle()\"><input type=\"submit\" value=\"Click here to toggle on/off the raw code.\"></form>"
      ],
      "text/plain": [
       "<IPython.core.display.HTML object>"
      ]
     },
     "execution_count": 14,
     "metadata": {},
     "output_type": "execute_result"
    }
   ],
   "source": [
    "display.HTML('''<script>\n",
    "code_show=true; \n",
    "function code_toggle() {\n",
    " if (code_show){\n",
    " $('div.input').hide();\n",
    " } else {\n",
    " $('div.input').show();\n",
    " }\n",
    " code_show = !code_show\n",
    "} \n",
    "$( document ).ready(code_toggle);\n",
    "</script>\n",
    "<form action=\"javascript:code_toggle()\"><input type=\"submit\" value=\"Click here to toggle on/off the raw code.\"></form>''')"
   ]
  }
 ],
 "metadata": {
  "kernelspec": {
   "display_name": "Python 3",
   "language": "python",
   "name": "python3"
  },
  "language_info": {
   "codemirror_mode": {
    "name": "ipython",
    "version": 3
   },
   "file_extension": ".py",
   "mimetype": "text/x-python",
   "name": "python",
   "nbconvert_exporter": "python",
   "pygments_lexer": "ipython3",
   "version": "3.6.1"
  }
 },
 "nbformat": 4,
 "nbformat_minor": 2
}
