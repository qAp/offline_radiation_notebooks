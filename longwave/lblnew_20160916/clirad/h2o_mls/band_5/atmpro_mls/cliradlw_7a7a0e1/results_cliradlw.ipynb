{
 "cells": [
  {
   "cell_type": "code",
   "execution_count": 1,
   "metadata": {
    "collapsed": true
   },
   "outputs": [],
   "source": [
    "%matplotlib inline\n",
    "import os\n",
    "import re\n",
    "import io\n",
    "import itertools\n",
    "import pprint\n",
    "\n",
    "from bokeh.io import output_notebook, show\n",
    "from bokeh.layouts import gridplot\n",
    "from bokeh.plotting import figure\n",
    "from bokeh.models import Range1d, Legend\n",
    "from bokeh.palettes import all_palettes\n",
    "\n",
    "import matplotlib\n",
    "import matplotlib.pyplot as plt\n",
    "import numpy as np\n",
    "import pandas as pd\n",
    "import xarray as xr\n",
    "\n",
    "import climatools.lblnew.bestfit_params as bestfits\n",
    "from climatools.lblnew import setup_bestfit, setup_overlap\n",
    "import climatools.lblnew.pipeline as pipe_lblnew\n",
    "import climatools.cliradlw.setup as setup_cliradlw\n",
    "import climatools.cliradlw.pipeline as pipe_cliradlw\n",
    "\n",
    "import climatools.html.html as climahtml\n",
    "from climatools.lblnew.dataio import *\n",
    "from climatools.plot.plot import *\n",
    "\n",
    "\n",
    "import IPython.display as display"
   ]
  },
  {
   "cell_type": "code",
   "execution_count": 2,
   "metadata": {
    "collapsed": true
   },
   "outputs": [],
   "source": [
    "%run param.py"
   ]
  },
  {
   "cell_type": "code",
   "execution_count": 3,
   "metadata": {
    "collapsed": true
   },
   "outputs": [],
   "source": [
    "def load_output_file(path_csv):\n",
    "    '''\n",
    "    Load lblnew output .csv file to xarray.Dataset\n",
    "    \n",
    "    Parameters\n",
    "    ----------\n",
    "    path_csv: str\n",
    "              Path to the .csv file to be loaded.\n",
    "    ds: xarray.Dataset\n",
    "        Data in the input file in the form of an xarray.Dataset.\n",
    "    '''\n",
    "    toindex = ['band', 'pressure', 'igg', 'g']    \n",
    "    df = pd.read_csv(path_csv, sep=r'\\s+')\n",
    "    df = df.set_index([i for i in toindex if i in df.columns])\n",
    "    df = df.rename(columns={'sfu': 'flug',\n",
    "                            'sfd': 'fldg',\n",
    "                            'fnet': 'fnetg',\n",
    "                            'coolr': 'coolrg'})\n",
    "    ds = xr.Dataset.from_dataframe(df)\n",
    "\n",
    "    for l in ('level', 'layer'):\n",
    "        if l in ds.data_vars:\n",
    "            if len(ds[l].dims) > 1:\n",
    "                surface = {d: 0 for d in ds.dims if d != 'pressure'}\n",
    "                coord_level = ds[l][surface]\n",
    "                ds.coords[l] = ('pressure', coord_level)\n",
    "            else:\n",
    "                ds.coords[l] = ('pressure', ds[l])\n",
    "    \n",
    "    return ds"
   ]
  },
  {
   "cell_type": "code",
   "execution_count": 4,
   "metadata": {
    "collapsed": true
   },
   "outputs": [],
   "source": [
    "def lblnew_setup(param=None):\n",
    "    if 'ng_refs' in param:\n",
    "        return {'setup': setup_bestfit,\n",
    "                'fname_flux_crd': 'output_flux.dat',\n",
    "                'fname_cool_crd': 'output_coolr.dat',\n",
    "                'fname_flux_wgt': 'output_wfluxg.dat',\n",
    "                'fname_cool_wgt': 'output_wcoolrg.dat'}\n",
    "    else:\n",
    "        return {'setup': setup_overlap,\n",
    "                'fname_flux_crd': 'output_flux.dat',\n",
    "                'fname_cool_crd': 'output_coolr.dat',\n",
    "                'fname_flux_wgt': 'output_wflux.dat',\n",
    "                'fname_cool_wgt': 'output_wcoolr.dat'}\n",
    "\n",
    "    \n",
    "def load_lblnew_data(param):\n",
    "    \n",
    "    fname_dsname = [('fname_flux_crd', 'ds_flux_crd'),\n",
    "                    ('fname_cool_crd', 'ds_cool_crd'),\n",
    "                    ('fname_flux_wgt', 'ds_flux_wgt'),\n",
    "                    ('fname_cool_wgt', 'ds_cool_wgt')]\n",
    "    \n",
    "    d = lblnew_setup(param)\n",
    "    dir_fortran = pipe_lblnew.get_dir_case(param, setup=d['setup'])\n",
    "    \n",
    "    data_dict = {}\n",
    "    for fname, dsname in fname_dsname:\n",
    "        fpath = os.path.join(dir_fortran, d[fname])\n",
    "        data_dict[dsname] = load_output_file(fpath)\n",
    "    return data_dict\n",
    "    \n",
    "\n",
    "    \n",
    "    "
   ]
  },
  {
   "cell_type": "code",
   "execution_count": 5,
   "metadata": {
    "collapsed": true
   },
   "outputs": [],
   "source": [
    "d = load_lblnew_data(PARAM_LBLNEW)\n",
    "\n",
    "DS_FLUX_CRD = d['ds_flux_crd']\n",
    "DS_COOL_CRD = d['ds_cool_crd']\n",
    "DS_FLUX_WGT = d['ds_flux_wgt']\n",
    "DS_COOL_WGT = d['ds_cool_wgt']"
   ]
  },
  {
   "cell_type": "code",
   "execution_count": 6,
   "metadata": {
    "collapsed": true
   },
   "outputs": [],
   "source": [
    "DIR_FORTRAN = pipe_cliradlw.get_fortran_dir(PARAM, \n",
    "                                            setup=setup_cliradlw)\n",
    "\n",
    "PATH_FLUX = os.path.join(DIR_FORTRAN, 'output_flux.dat')\n",
    "PATH_COOL = os.path.join(DIR_FORTRAN, 'output_coolr.dat')\n",
    "\n",
    "DS_FLUX = load_output_file(PATH_FLUX)\n",
    "DS_COOL = load_output_file(PATH_COOL)"
   ]
  },
  {
   "cell_type": "code",
   "execution_count": 7,
   "metadata": {},
   "outputs": [
    {
     "data": {
      "text/html": [
       "\n",
       "    <div class=\"bk-root\">\n",
       "        <a href=\"https://bokeh.pydata.org\" target=\"_blank\" class=\"bk-logo bk-logo-small bk-logo-notebook\"></a>\n",
       "        <span id=\"8ff1194b-e827-4473-bb39-1f4ba4dfbb01\">Loading BokehJS ...</span>\n",
       "    </div>"
      ]
     },
     "metadata": {},
     "output_type": "display_data"
    },
    {
     "data": {
      "application/javascript": [
       "\n",
       "(function(root) {\n",
       "  function now() {\n",
       "    return new Date();\n",
       "  }\n",
       "\n",
       "  var force = true;\n",
       "\n",
       "  if (typeof (root._bokeh_onload_callbacks) === \"undefined\" || force === true) {\n",
       "    root._bokeh_onload_callbacks = [];\n",
       "    root._bokeh_is_loading = undefined;\n",
       "  }\n",
       "\n",
       "  var JS_MIME_TYPE = 'application/javascript';\n",
       "  var HTML_MIME_TYPE = 'text/html';\n",
       "  var EXEC_MIME_TYPE = 'application/vnd.bokehjs_exec.v0+json';\n",
       "  var CLASS_NAME = 'output_bokeh rendered_html';\n",
       "\n",
       "  /**\n",
       "   * Render data to the DOM node\n",
       "   */\n",
       "  function render(props, node) {\n",
       "    var script = document.createElement(\"script\");\n",
       "    node.appendChild(script);\n",
       "  }\n",
       "\n",
       "  /**\n",
       "   * Handle when an output is cleared or removed\n",
       "   */\n",
       "  function handleClearOutput(event, handle) {\n",
       "    var cell = handle.cell;\n",
       "\n",
       "    var id = cell.output_area._bokeh_element_id;\n",
       "    var server_id = cell.output_area._bokeh_server_id;\n",
       "    // Clean up Bokeh references\n",
       "    if (id !== undefined) {\n",
       "      Bokeh.index[id].model.document.clear();\n",
       "      delete Bokeh.index[id];\n",
       "    }\n",
       "\n",
       "    if (server_id !== undefined) {\n",
       "      // Clean up Bokeh references\n",
       "      var cmd = \"from bokeh.io.state import curstate; print(curstate().uuid_to_server['\" + server_id + \"'].get_sessions()[0].document.roots[0]._id)\";\n",
       "      cell.notebook.kernel.execute(cmd, {\n",
       "        iopub: {\n",
       "          output: function(msg) {\n",
       "            var element_id = msg.content.text.trim();\n",
       "            Bokeh.index[element_id].model.document.clear();\n",
       "            delete Bokeh.index[element_id];\n",
       "          }\n",
       "        }\n",
       "      });\n",
       "      // Destroy server and session\n",
       "      var cmd = \"import bokeh.io.notebook as ion; ion.destroy_server('\" + server_id + \"')\";\n",
       "      cell.notebook.kernel.execute(cmd);\n",
       "    }\n",
       "  }\n",
       "\n",
       "  /**\n",
       "   * Handle when a new output is added\n",
       "   */\n",
       "  function handleAddOutput(event, handle) {\n",
       "    var output_area = handle.output_area;\n",
       "    var output = handle.output;\n",
       "\n",
       "    // limit handleAddOutput to display_data with EXEC_MIME_TYPE content only\n",
       "    if ((output.output_type != \"display_data\") || (!output.data.hasOwnProperty(EXEC_MIME_TYPE))) {\n",
       "      return\n",
       "    }\n",
       "\n",
       "    var toinsert = output_area.element.find(\".\" + CLASS_NAME.split(' ')[0]);\n",
       "\n",
       "    if (output.metadata[EXEC_MIME_TYPE][\"id\"] !== undefined) {\n",
       "      toinsert[0].firstChild.textContent = output.data[JS_MIME_TYPE];\n",
       "      // store reference to embed id on output_area\n",
       "      output_area._bokeh_element_id = output.metadata[EXEC_MIME_TYPE][\"id\"];\n",
       "    }\n",
       "    if (output.metadata[EXEC_MIME_TYPE][\"server_id\"] !== undefined) {\n",
       "      var bk_div = document.createElement(\"div\");\n",
       "      bk_div.innerHTML = output.data[HTML_MIME_TYPE];\n",
       "      var script_attrs = bk_div.children[0].attributes;\n",
       "      for (var i = 0; i < script_attrs.length; i++) {\n",
       "        toinsert[0].firstChild.setAttribute(script_attrs[i].name, script_attrs[i].value);\n",
       "      }\n",
       "      // store reference to server id on output_area\n",
       "      output_area._bokeh_server_id = output.metadata[EXEC_MIME_TYPE][\"server_id\"];\n",
       "    }\n",
       "  }\n",
       "\n",
       "  function register_renderer(events, OutputArea) {\n",
       "\n",
       "    function append_mime(data, metadata, element) {\n",
       "      // create a DOM node to render to\n",
       "      var toinsert = this.create_output_subarea(\n",
       "        metadata,\n",
       "        CLASS_NAME,\n",
       "        EXEC_MIME_TYPE\n",
       "      );\n",
       "      this.keyboard_manager.register_events(toinsert);\n",
       "      // Render to node\n",
       "      var props = {data: data, metadata: metadata[EXEC_MIME_TYPE]};\n",
       "      render(props, toinsert[0]);\n",
       "      element.append(toinsert);\n",
       "      return toinsert\n",
       "    }\n",
       "\n",
       "    /* Handle when an output is cleared or removed */\n",
       "    events.on('clear_output.CodeCell', handleClearOutput);\n",
       "    events.on('delete.Cell', handleClearOutput);\n",
       "\n",
       "    /* Handle when a new output is added */\n",
       "    events.on('output_added.OutputArea', handleAddOutput);\n",
       "\n",
       "    /**\n",
       "     * Register the mime type and append_mime function with output_area\n",
       "     */\n",
       "    OutputArea.prototype.register_mime_type(EXEC_MIME_TYPE, append_mime, {\n",
       "      /* Is output safe? */\n",
       "      safe: true,\n",
       "      /* Index of renderer in `output_area.display_order` */\n",
       "      index: 0\n",
       "    });\n",
       "  }\n",
       "\n",
       "  // register the mime type if in Jupyter Notebook environment and previously unregistered\n",
       "  if (root.Jupyter !== undefined) {\n",
       "    var events = require('base/js/events');\n",
       "    var OutputArea = require('notebook/js/outputarea').OutputArea;\n",
       "\n",
       "    if (OutputArea.prototype.mime_types().indexOf(EXEC_MIME_TYPE) == -1) {\n",
       "      register_renderer(events, OutputArea);\n",
       "    }\n",
       "  }\n",
       "\n",
       "  \n",
       "  if (typeof (root._bokeh_timeout) === \"undefined\" || force === true) {\n",
       "    root._bokeh_timeout = Date.now() + 5000;\n",
       "    root._bokeh_failed_load = false;\n",
       "  }\n",
       "\n",
       "  var NB_LOAD_WARNING = {'data': {'text/html':\n",
       "     \"<div style='background-color: #fdd'>\\n\"+\n",
       "     \"<p>\\n\"+\n",
       "     \"BokehJS does not appear to have successfully loaded. If loading BokehJS from CDN, this \\n\"+\n",
       "     \"may be due to a slow or bad network connection. Possible fixes:\\n\"+\n",
       "     \"</p>\\n\"+\n",
       "     \"<ul>\\n\"+\n",
       "     \"<li>re-rerun `output_notebook()` to attempt to load from CDN again, or</li>\\n\"+\n",
       "     \"<li>use INLINE resources instead, as so:</li>\\n\"+\n",
       "     \"</ul>\\n\"+\n",
       "     \"<code>\\n\"+\n",
       "     \"from bokeh.resources import INLINE\\n\"+\n",
       "     \"output_notebook(resources=INLINE)\\n\"+\n",
       "     \"</code>\\n\"+\n",
       "     \"</div>\"}};\n",
       "\n",
       "  function display_loaded() {\n",
       "    var el = document.getElementById(\"8ff1194b-e827-4473-bb39-1f4ba4dfbb01\");\n",
       "    if (el != null) {\n",
       "      el.textContent = \"BokehJS is loading...\";\n",
       "    }\n",
       "    if (root.Bokeh !== undefined) {\n",
       "      if (el != null) {\n",
       "        el.textContent = \"BokehJS \" + root.Bokeh.version + \" successfully loaded.\";\n",
       "      }\n",
       "    } else if (Date.now() < root._bokeh_timeout) {\n",
       "      setTimeout(display_loaded, 100)\n",
       "    }\n",
       "  }\n",
       "\n",
       "\n",
       "  function run_callbacks() {\n",
       "    try {\n",
       "      root._bokeh_onload_callbacks.forEach(function(callback) { callback() });\n",
       "    }\n",
       "    finally {\n",
       "      delete root._bokeh_onload_callbacks\n",
       "    }\n",
       "    console.info(\"Bokeh: all callbacks have finished\");\n",
       "  }\n",
       "\n",
       "  function load_libs(js_urls, callback) {\n",
       "    root._bokeh_onload_callbacks.push(callback);\n",
       "    if (root._bokeh_is_loading > 0) {\n",
       "      console.log(\"Bokeh: BokehJS is being loaded, scheduling callback at\", now());\n",
       "      return null;\n",
       "    }\n",
       "    if (js_urls == null || js_urls.length === 0) {\n",
       "      run_callbacks();\n",
       "      return null;\n",
       "    }\n",
       "    console.log(\"Bokeh: BokehJS not loaded, scheduling load and callback at\", now());\n",
       "    root._bokeh_is_loading = js_urls.length;\n",
       "    for (var i = 0; i < js_urls.length; i++) {\n",
       "      var url = js_urls[i];\n",
       "      var s = document.createElement('script');\n",
       "      s.src = url;\n",
       "      s.async = false;\n",
       "      s.onreadystatechange = s.onload = function() {\n",
       "        root._bokeh_is_loading--;\n",
       "        if (root._bokeh_is_loading === 0) {\n",
       "          console.log(\"Bokeh: all BokehJS libraries loaded\");\n",
       "          run_callbacks()\n",
       "        }\n",
       "      };\n",
       "      s.onerror = function() {\n",
       "        console.warn(\"failed to load library \" + url);\n",
       "      };\n",
       "      console.log(\"Bokeh: injecting script tag for BokehJS library: \", url);\n",
       "      document.getElementsByTagName(\"head\")[0].appendChild(s);\n",
       "    }\n",
       "  };var element = document.getElementById(\"8ff1194b-e827-4473-bb39-1f4ba4dfbb01\");\n",
       "  if (element == null) {\n",
       "    console.log(\"Bokeh: ERROR: autoload.js configured with elementid '8ff1194b-e827-4473-bb39-1f4ba4dfbb01' but no matching script tag was found. \")\n",
       "    return false;\n",
       "  }\n",
       "\n",
       "  var js_urls = [\"https://cdn.pydata.org/bokeh/release/bokeh-0.12.14.min.js\", \"https://cdn.pydata.org/bokeh/release/bokeh-widgets-0.12.14.min.js\", \"https://cdn.pydata.org/bokeh/release/bokeh-tables-0.12.14.min.js\", \"https://cdn.pydata.org/bokeh/release/bokeh-gl-0.12.14.min.js\"];\n",
       "\n",
       "  var inline_js = [\n",
       "    function(Bokeh) {\n",
       "      Bokeh.set_log_level(\"info\");\n",
       "    },\n",
       "    \n",
       "    function(Bokeh) {\n",
       "      \n",
       "    },\n",
       "    function(Bokeh) {\n",
       "      console.log(\"Bokeh: injecting CSS: https://cdn.pydata.org/bokeh/release/bokeh-0.12.14.min.css\");\n",
       "      Bokeh.embed.inject_css(\"https://cdn.pydata.org/bokeh/release/bokeh-0.12.14.min.css\");\n",
       "      console.log(\"Bokeh: injecting CSS: https://cdn.pydata.org/bokeh/release/bokeh-widgets-0.12.14.min.css\");\n",
       "      Bokeh.embed.inject_css(\"https://cdn.pydata.org/bokeh/release/bokeh-widgets-0.12.14.min.css\");\n",
       "      console.log(\"Bokeh: injecting CSS: https://cdn.pydata.org/bokeh/release/bokeh-tables-0.12.14.min.css\");\n",
       "      Bokeh.embed.inject_css(\"https://cdn.pydata.org/bokeh/release/bokeh-tables-0.12.14.min.css\");\n",
       "    }\n",
       "  ];\n",
       "\n",
       "  function run_inline_js() {\n",
       "    \n",
       "    if ((root.Bokeh !== undefined) || (force === true)) {\n",
       "      for (var i = 0; i < inline_js.length; i++) {\n",
       "        inline_js[i].call(root, root.Bokeh);\n",
       "      }if (force === true) {\n",
       "        display_loaded();\n",
       "      }} else if (Date.now() < root._bokeh_timeout) {\n",
       "      setTimeout(run_inline_js, 100);\n",
       "    } else if (!root._bokeh_failed_load) {\n",
       "      console.log(\"Bokeh: BokehJS failed to load within specified timeout.\");\n",
       "      root._bokeh_failed_load = true;\n",
       "    } else if (force !== true) {\n",
       "      var cell = $(document.getElementById(\"8ff1194b-e827-4473-bb39-1f4ba4dfbb01\")).parents('.cell').data().cell;\n",
       "      cell.output_area.append_execute_result(NB_LOAD_WARNING)\n",
       "    }\n",
       "\n",
       "  }\n",
       "\n",
       "  if (root._bokeh_is_loading === 0) {\n",
       "    console.log(\"Bokeh: BokehJS loaded, going straight to plotting\");\n",
       "    run_inline_js();\n",
       "  } else {\n",
       "    load_libs(js_urls, function() {\n",
       "      console.log(\"Bokeh: BokehJS plotting callback run at\", now());\n",
       "      run_inline_js();\n",
       "    });\n",
       "  }\n",
       "}(window));"
      ],
      "application/vnd.bokehjs_load.v0+json": "\n(function(root) {\n  function now() {\n    return new Date();\n  }\n\n  var force = true;\n\n  if (typeof (root._bokeh_onload_callbacks) === \"undefined\" || force === true) {\n    root._bokeh_onload_callbacks = [];\n    root._bokeh_is_loading = undefined;\n  }\n\n  \n\n  \n  if (typeof (root._bokeh_timeout) === \"undefined\" || force === true) {\n    root._bokeh_timeout = Date.now() + 5000;\n    root._bokeh_failed_load = false;\n  }\n\n  var NB_LOAD_WARNING = {'data': {'text/html':\n     \"<div style='background-color: #fdd'>\\n\"+\n     \"<p>\\n\"+\n     \"BokehJS does not appear to have successfully loaded. If loading BokehJS from CDN, this \\n\"+\n     \"may be due to a slow or bad network connection. Possible fixes:\\n\"+\n     \"</p>\\n\"+\n     \"<ul>\\n\"+\n     \"<li>re-rerun `output_notebook()` to attempt to load from CDN again, or</li>\\n\"+\n     \"<li>use INLINE resources instead, as so:</li>\\n\"+\n     \"</ul>\\n\"+\n     \"<code>\\n\"+\n     \"from bokeh.resources import INLINE\\n\"+\n     \"output_notebook(resources=INLINE)\\n\"+\n     \"</code>\\n\"+\n     \"</div>\"}};\n\n  function display_loaded() {\n    var el = document.getElementById(\"8ff1194b-e827-4473-bb39-1f4ba4dfbb01\");\n    if (el != null) {\n      el.textContent = \"BokehJS is loading...\";\n    }\n    if (root.Bokeh !== undefined) {\n      if (el != null) {\n        el.textContent = \"BokehJS \" + root.Bokeh.version + \" successfully loaded.\";\n      }\n    } else if (Date.now() < root._bokeh_timeout) {\n      setTimeout(display_loaded, 100)\n    }\n  }\n\n\n  function run_callbacks() {\n    try {\n      root._bokeh_onload_callbacks.forEach(function(callback) { callback() });\n    }\n    finally {\n      delete root._bokeh_onload_callbacks\n    }\n    console.info(\"Bokeh: all callbacks have finished\");\n  }\n\n  function load_libs(js_urls, callback) {\n    root._bokeh_onload_callbacks.push(callback);\n    if (root._bokeh_is_loading > 0) {\n      console.log(\"Bokeh: BokehJS is being loaded, scheduling callback at\", now());\n      return null;\n    }\n    if (js_urls == null || js_urls.length === 0) {\n      run_callbacks();\n      return null;\n    }\n    console.log(\"Bokeh: BokehJS not loaded, scheduling load and callback at\", now());\n    root._bokeh_is_loading = js_urls.length;\n    for (var i = 0; i < js_urls.length; i++) {\n      var url = js_urls[i];\n      var s = document.createElement('script');\n      s.src = url;\n      s.async = false;\n      s.onreadystatechange = s.onload = function() {\n        root._bokeh_is_loading--;\n        if (root._bokeh_is_loading === 0) {\n          console.log(\"Bokeh: all BokehJS libraries loaded\");\n          run_callbacks()\n        }\n      };\n      s.onerror = function() {\n        console.warn(\"failed to load library \" + url);\n      };\n      console.log(\"Bokeh: injecting script tag for BokehJS library: \", url);\n      document.getElementsByTagName(\"head\")[0].appendChild(s);\n    }\n  };var element = document.getElementById(\"8ff1194b-e827-4473-bb39-1f4ba4dfbb01\");\n  if (element == null) {\n    console.log(\"Bokeh: ERROR: autoload.js configured with elementid '8ff1194b-e827-4473-bb39-1f4ba4dfbb01' but no matching script tag was found. \")\n    return false;\n  }\n\n  var js_urls = [\"https://cdn.pydata.org/bokeh/release/bokeh-0.12.14.min.js\", \"https://cdn.pydata.org/bokeh/release/bokeh-widgets-0.12.14.min.js\", \"https://cdn.pydata.org/bokeh/release/bokeh-tables-0.12.14.min.js\", \"https://cdn.pydata.org/bokeh/release/bokeh-gl-0.12.14.min.js\"];\n\n  var inline_js = [\n    function(Bokeh) {\n      Bokeh.set_log_level(\"info\");\n    },\n    \n    function(Bokeh) {\n      \n    },\n    function(Bokeh) {\n      console.log(\"Bokeh: injecting CSS: https://cdn.pydata.org/bokeh/release/bokeh-0.12.14.min.css\");\n      Bokeh.embed.inject_css(\"https://cdn.pydata.org/bokeh/release/bokeh-0.12.14.min.css\");\n      console.log(\"Bokeh: injecting CSS: https://cdn.pydata.org/bokeh/release/bokeh-widgets-0.12.14.min.css\");\n      Bokeh.embed.inject_css(\"https://cdn.pydata.org/bokeh/release/bokeh-widgets-0.12.14.min.css\");\n      console.log(\"Bokeh: injecting CSS: https://cdn.pydata.org/bokeh/release/bokeh-tables-0.12.14.min.css\");\n      Bokeh.embed.inject_css(\"https://cdn.pydata.org/bokeh/release/bokeh-tables-0.12.14.min.css\");\n    }\n  ];\n\n  function run_inline_js() {\n    \n    if ((root.Bokeh !== undefined) || (force === true)) {\n      for (var i = 0; i < inline_js.length; i++) {\n        inline_js[i].call(root, root.Bokeh);\n      }if (force === true) {\n        display_loaded();\n      }} else if (Date.now() < root._bokeh_timeout) {\n      setTimeout(run_inline_js, 100);\n    } else if (!root._bokeh_failed_load) {\n      console.log(\"Bokeh: BokehJS failed to load within specified timeout.\");\n      root._bokeh_failed_load = true;\n    } else if (force !== true) {\n      var cell = $(document.getElementById(\"8ff1194b-e827-4473-bb39-1f4ba4dfbb01\")).parents('.cell').data().cell;\n      cell.output_area.append_execute_result(NB_LOAD_WARNING)\n    }\n\n  }\n\n  if (root._bokeh_is_loading === 0) {\n    console.log(\"Bokeh: BokehJS loaded, going straight to plotting\");\n    run_inline_js();\n  } else {\n    load_libs(js_urls, function() {\n      console.log(\"Bokeh: BokehJS plotting callback run at\", now());\n      run_inline_js();\n    });\n  }\n}(window));"
     },
     "metadata": {},
     "output_type": "display_data"
    }
   ],
   "source": [
    "output_notebook()"
   ]
  },
  {
   "cell_type": "code",
   "execution_count": 8,
   "metadata": {
    "collapsed": true
   },
   "outputs": [],
   "source": [
    "def fmt_cool(ds_in):\n",
    "    ds = ds_in.copy(deep=True)\n",
    "    if 'igg' in ds.dims:\n",
    "        ds = ds.sel(igg=1)\n",
    "\n",
    "    if 'g' in ds.dims:\n",
    "        ds = ds.sum('g')\n",
    "            \n",
    "    if 'band' in ds.dims:\n",
    "        try:\n",
    "            ds = ds.squeeze('band')\n",
    "        except ValueError:\n",
    "            ds = ds.sum('band')\n",
    "                \n",
    "    return ds['coolrg']\n",
    "\n",
    "\n",
    "def pltdata_cooling_1(ds_cool=None,\n",
    "                      ds_cool_crd=None, ds_cool_wgt=None):\n",
    "    \n",
    "\n",
    "\n",
    "    colors = all_palettes['Set1'][4]\n",
    "    data = [{'label': 'CLIRAD `coolr_bands`',\n",
    "             'srs': fmt_cool(ds_cool),\n",
    "             'line_dash': 'dashed', 'line_width': 5,\n",
    "             'color': colors[0], 'alpha': .6},\n",
    "            {'label': 'CRD',\n",
    "             'srs': fmt_cool(ds_cool_crd),\n",
    "             'line_dash': 'solid', 'line_width': 1.5,\n",
    "             'marker': 'circle', 'marker_size': 5,\n",
    "             'color': colors[2], 'alpha': 1,},\n",
    "            {'label': 'WGT igg=10 wgt_flux=2',\n",
    "             'srs': fmt_cool(ds_cool_wgt),\n",
    "             'line_dash': 'solid', 'line_width': 3,\n",
    "             'marker': 'square', 'marker_size': 5,\n",
    "             'color': colors[3], 'alpha': .6}]\n",
    "    return data\n",
    "\n",
    "\n",
    "def nice_xlims(pltdata=None, prange=None):\n",
    "    \n",
    "    def get_slice(srs):\n",
    "        return srs.sel(pressure=slice(*prange))\n",
    "    \n",
    "    srss = [d['srs'] for d in pltdata]\n",
    "    vmin = min([get_slice(srs).min() for srs in srss])\n",
    "    vmax = max([get_slice(srs).max() for srs in srss])\n",
    "    dv = (vmax - vmin) * .01\n",
    "    return float(vmin - dv), float(vmax + dv)\n",
    "    \n",
    "\n",
    "def plt_cooling_bokeh(pltdata=None):\n",
    "    '''\n",
    "    Plot a list of cooling rate profiles using bokeh.\n",
    "    '''\n",
    "    ymin = 1e-2 \n",
    "    ymax = 1020 \n",
    "        \n",
    "    p1 = figure(title=\"Linear pressure scale\", \n",
    "                plot_width=400)        \n",
    "    xmin, xmax = nice_xlims(pltdata, prange=(50, 1050))\n",
    "    for d in pltdata:\n",
    "        if 'marker' in d:\n",
    "            getattr(p1, d['marker'])(d['srs'].values, \n",
    "                    d['srs'].coords['pressure'].values,\n",
    "                    color=d['color'], alpha=.7)\n",
    "        p1.line(d['srs'].values, \n",
    "                d['srs'].coords['pressure'].values,\n",
    "                color=d['color'], alpha=d['alpha'], \n",
    "                line_width=d['line_width'], line_dash=d['line_dash'])\n",
    "    \n",
    "    p1.y_range = Range1d(ymax, ymin)\n",
    "    p1.yaxis.axis_label = 'pressure [mb]'   \n",
    "    p1.x_range = Range1d(xmin, xmax)\n",
    "    p1.xaxis.axis_label = 'cooling rate [K/day]'\n",
    "            \n",
    "    p2 = figure(title='Log pressure scale', y_axis_type='log',\n",
    "                plot_width=560)\n",
    "    xmin, xmax = nice_xlims(pltdata, prange=(.01, 200))\n",
    "    \n",
    "    rs = []\n",
    "    for d in pltdata:\n",
    "        rd = []\n",
    "        if 'marker' in d:\n",
    "            r_mark = getattr(p2, d['marker'])(d['srs'].values, \n",
    "                        d['srs'].coords['pressure'].values,\n",
    "                        color=d['color'], alpha=.7)\n",
    "            rd.append(r_mark)\n",
    "        r_line = p2.line(d['srs'].values, \n",
    "                    d['srs'].coords['pressure'].values,\n",
    "                    color=d['color'], alpha=d['alpha'], \n",
    "                    line_width=d['line_width'], line_dash=d['line_dash'])\n",
    "        rd.append(r_line)\n",
    "      \n",
    "        rs.append(rd)\n",
    "        \n",
    "    p2.y_range = Range1d(ymax, ymin)  \n",
    "    p2.yaxis.axis_label = 'pressure [mb]'\n",
    "    \n",
    "    p2.x_range = Range1d(xmin, xmax)\n",
    "    p2.xaxis.axis_label = 'cooling rate [K/day]'\n",
    "    \n",
    "    items = [(d['label'], r) for r, d in zip(rs, pltdata)]\n",
    "    legend = Legend(items=items, location=(10, -30))\n",
    "    legend.label_text_font_size = '8pt'\n",
    "    \n",
    "    p2.add_layout(legend, 'right')  \n",
    "    \n",
    "    show(gridplot(p1, p2, ncols=2, plot_height=500))\n",
    "    \n",
    "\n",
    "def script_plt_cooling():\n",
    "    pltdata = pltdata_cooling_1(\n",
    "        ds_cool=DS_COOL,\n",
    "        ds_cool_crd=DS_COOL_CRD,\n",
    "        ds_cool_wgt=DS_COOL_WGT)\n",
    "    plt_cooling_bokeh(pltdata=pltdata)\n",
    "    print('''FIGURE. Cooling rate profiles.''')"
   ]
  },
  {
   "cell_type": "code",
   "execution_count": 9,
   "metadata": {
    "collapsed": true
   },
   "outputs": [],
   "source": [
    "def fmt_flux(ds_in):\n",
    "    ds = ds_in.copy(deep=True)\n",
    "    \n",
    "    for l in ('level', 'layer'):\n",
    "        if l in ds.data_vars:\n",
    "            if len(ds[l].dims) > 1:\n",
    "                surface = {d: 0 for d in ds.dims if d != 'pressure'}\n",
    "                coord_level = ds[l][surface]\n",
    "                ds.coords[l] = ('pressure', coord_level)\n",
    "            else:\n",
    "                ds.coords[l] = ('pressure', ds[l])\n",
    "        \n",
    "    ds = ds.isel(pressure=[0, 23, -1])\n",
    "        \n",
    "    if 'igg' in ds.dims:\n",
    "        ds = ds.sel(igg=[1])\n",
    "        ds = ds.squeeze('igg').drop('igg')\n",
    "    \n",
    "    if 'g' in ds.dims:\n",
    "        ds = ds.sum('g')\n",
    "            \n",
    "    if 'band' in ds.dims:\n",
    "        try:\n",
    "            ds = ds.squeeze('band').drop('band')\n",
    "        except ValueError:\n",
    "            ds = ds.sum('band')\n",
    "                \n",
    "    df = ds.to_dataframe()\n",
    "    df = df.set_index('level', append=True)               \n",
    "    return df\n",
    "\n",
    "\n",
    "def tbdata_flux(ds_flux=None, ds_flux_crd=None, ds_flux_wgt=None):\n",
    "    ilevels = [0, 23, -1]\n",
    "            \n",
    "    benchmark = {'label': 'WGT igg=10 wgt_flux=1',\n",
    "                 'df': fmt_flux(ds_flux_wgt)}\n",
    "    \n",
    "    tbs = [{'label': 'CRD',\n",
    "            'df': fmt_flux(ds_flux_crd)},\n",
    "           {'label': 'CLIRAD',\n",
    "            'df': fmt_flux(ds_flux)}]\n",
    "    \n",
    "    data = {'benchmark': benchmark, 'others': tbs}\n",
    "    return data\n",
    "\n",
    "\n",
    "def tb_flux(tbdata=None):\n",
    "    benchmark = tbdata['benchmark']\n",
    "    others = tbdata['others']\n",
    "    \n",
    "    def show_tb(d=None):\n",
    "        display.display(d['df'])\n",
    "        print('Table.', 'Fluxes.', d['label'])\n",
    "        \n",
    "    def show_tbdiff(d0=None, d=None):\n",
    "        df = d['df']\n",
    "        df.index = d0['df'].index\n",
    "        display.display(df - d0['df'])\n",
    "        print('Table.', 'Fluxes.', \n",
    "              '({}) - ({})'.format(d['label'], d0['label']))\n",
    "        \n",
    "    show_tb(benchmark)\n",
    "    for d in others:\n",
    "        show_tb(d)\n",
    "        \n",
    "    for d in others:\n",
    "        show_tbdiff(d=d, d0=benchmark)\n",
    "        \n",
    "        \n",
    "def script_tb_flux():\n",
    "    data = tbdata_flux(ds_flux=DS_FLUX,\n",
    "                       ds_flux_crd=DS_FLUX_CRD,\n",
    "                       ds_flux_wgt=DS_FLUX_WGT)\n",
    "    tb_flux(tbdata=data)"
   ]
  },
  {
   "cell_type": "code",
   "execution_count": 10,
   "metadata": {
    "collapsed": true
   },
   "outputs": [],
   "source": [
    "def band_map():\n",
    "    '''\n",
    "    Maps spectral bands in lblnew to spectral bands in clirad.\n",
    "    '''\n",
    "    lblnew2clirad = {'1': '1',\n",
    "            '2': '2',\n",
    "            '3a': '3',\n",
    "            '3b': '4',\n",
    "            '3c': '5',\n",
    "            '4': '6', \n",
    "            '5': '7',\n",
    "            '6': '8',\n",
    "            '7': '9', \n",
    "            '8': '10',\n",
    "            '9': '11'}\n",
    "    \n",
    "    clirad2lblnew = {clirad: lblnew \n",
    "                     for lblnew, clirad in lblnew2clirad.items()}\n",
    "    return clirad2lblnew\n",
    "\n",
    "\n",
    "def gasbands():\n",
    "    bmap = band_map()\n",
    "    gases = list(PARAM['molecule'].keys())\n",
    "    \n",
    "    bands = [bmap[str(b)] for b in PARAM['band']]\n",
    "    return list(itertools.product(gases, bands))\n",
    "\n",
    "\n",
    "def print_bestfit_params():\n",
    "    print('Best-fit values for each (gas, band)')\n",
    "    print('------------------------------------')\n",
    "    for gas, band in gasbands():\n",
    "        print('o {} band{}'.format(gas, band))\n",
    "        param = bestfits.kdist_params(molecule=gas, band=band)\n",
    "        for name, value in param.items():\n",
    "            print(2 * ' ' + '{} = {}'.format(name, value))\n",
    "\n",
    "        \n",
    "def print_input_param():        \n",
    "    for name, value in PARAM.items():\n",
    "        print('{} = {}'.format(name, value))\n",
    "        \n",
    "        \n",
    "def print_lblnew_param():\n",
    "    for name, value in PARAM_LBLNEW.items():\n",
    "        print('{} = {}'.format(name, value))\n"
   ]
  },
  {
   "cell_type": "code",
   "execution_count": 11,
   "metadata": {
    "collapsed": true,
    "scrolled": false
   },
   "outputs": [],
   "source": [
    "def show_html(s):\n",
    "    display.display(display.HTML(s))\n",
    "\n",
    "    \n",
    "def show_markdown(s):\n",
    "    display.display(display.Markdown(s))\n",
    "\n",
    "    \n",
    "def script():\n",
    "    \n",
    "    title = '### CLIRAD-LW'\n",
    "    s_input = 'Input Parameters'\n",
    "    s_lblnew_param = 'LBLNEW case compaired against'\n",
    "    s_bestfits = 'Best-fit Parameters'\n",
    "    s_plt_cooling = 'Cooling Rate Profiles'\n",
    "    s_tb_flux = 'Flux Comparison'\n",
    "    \n",
    "    # title\n",
    "    show_markdown('### CLIRAD-LW')\n",
    "    \n",
    "    # TOC\n",
    "    show_markdown('### Table of Contents')\n",
    "    show_html(climahtml.getHTML_hrefanchor(s_input))\n",
    "    show_html(climahtml.getHTML_hrefanchor(s_lblnew_param))\n",
    "    show_html(climahtml.getHTML_hrefanchor(s_plt_cooling))\n",
    "    show_html(climahtml.getHTML_hrefanchor(s_tb_flux))\n",
    "    show_html(climahtml.getHTML_hrefanchor(s_bestfits))\n",
    "    \n",
    "    # Input parameters\n",
    "    show_html(climahtml.getHTML_idanchor(s_input))\n",
    "    show_markdown(climahtml.getMarkdown_sectitle(s_input))\n",
    "    print_input_param()\n",
    "    \n",
    "    # LBLNEW parameters \n",
    "    show_html(climahtml.getHTML_idanchor(s_lblnew_param))\n",
    "    show_markdown(climahtml.getMarkdown_sectitle(s_lblnew_param))\n",
    "    print_lblnew_param()\n",
    "    \n",
    "    # Cooling rate profiles\n",
    "    show_html(climahtml.getHTML_idanchor(s_plt_cooling))\n",
    "    show_markdown(climahtml.getMarkdown_sectitle(s_plt_cooling))\n",
    "    script_plt_cooling()\n",
    "    \n",
    "    # Flux comparison\n",
    "    show_html(climahtml.getHTML_idanchor(s_tb_flux))\n",
    "    show_markdown(climahtml.getMarkdown_sectitle(s_tb_flux))\n",
    "    script_tb_flux()\n",
    "    \n",
    "    # Best-fit values\n",
    "    show_html(climahtml.getHTML_idanchor(s_bestfits))\n",
    "    show_markdown(climahtml.getMarkdown_sectitle(s_bestfits))\n",
    "    print_bestfit_params()\n",
    "   \n",
    "    "
   ]
  },
  {
   "cell_type": "code",
   "execution_count": 12,
   "metadata": {
    "scrolled": false
   },
   "outputs": [
    {
     "data": {
      "text/markdown": [
       "### CLIRAD-LW"
      ],
      "text/plain": [
       "<IPython.core.display.Markdown object>"
      ]
     },
     "metadata": {},
     "output_type": "display_data"
    },
    {
     "data": {
      "text/markdown": [
       "### Table of Contents"
      ],
      "text/plain": [
       "<IPython.core.display.Markdown object>"
      ]
     },
     "metadata": {},
     "output_type": "display_data"
    },
    {
     "data": {
      "text/html": [
       "<a href=\"#Input_Parameters\">Input Parameters</a>"
      ],
      "text/plain": [
       "<IPython.core.display.HTML object>"
      ]
     },
     "metadata": {},
     "output_type": "display_data"
    },
    {
     "data": {
      "text/html": [
       "<a href=\"#LBLNEW_case_compaired_against\">LBLNEW case compaired against</a>"
      ],
      "text/plain": [
       "<IPython.core.display.HTML object>"
      ]
     },
     "metadata": {},
     "output_type": "display_data"
    },
    {
     "data": {
      "text/html": [
       "<a href=\"#Cooling_Rate_Profiles\">Cooling Rate Profiles</a>"
      ],
      "text/plain": [
       "<IPython.core.display.HTML object>"
      ]
     },
     "metadata": {},
     "output_type": "display_data"
    },
    {
     "data": {
      "text/html": [
       "<a href=\"#Flux_Comparison\">Flux Comparison</a>"
      ],
      "text/plain": [
       "<IPython.core.display.HTML object>"
      ]
     },
     "metadata": {},
     "output_type": "display_data"
    },
    {
     "data": {
      "text/html": [
       "<a href=\"#Best-fit_Parameters\">Best-fit Parameters</a>"
      ],
      "text/plain": [
       "<IPython.core.display.HTML object>"
      ]
     },
     "metadata": {},
     "output_type": "display_data"
    },
    {
     "data": {
      "text/html": [
       "<a id=\"Input_Parameters\"></a>"
      ],
      "text/plain": [
       "<IPython.core.display.HTML object>"
      ]
     },
     "metadata": {},
     "output_type": "display_data"
    },
    {
     "data": {
      "text/markdown": [
       "# Input Parameters"
      ],
      "text/plain": [
       "<IPython.core.display.Markdown object>"
      ]
     },
     "metadata": {},
     "output_type": "display_data"
    },
    {
     "name": "stdout",
     "output_type": "stream",
     "text": [
      "atmpro = mls\n",
      "band = [5]\n",
      "commitnumber = 7a7a0e1\n",
      "molecule = {'h2o': 'atmpro'}\n",
      "tsfc = 294\n"
     ]
    },
    {
     "data": {
      "text/html": [
       "<a id=\"LBLNEW_case_compaired_against\"></a>"
      ],
      "text/plain": [
       "<IPython.core.display.HTML object>"
      ]
     },
     "metadata": {},
     "output_type": "display_data"
    },
    {
     "data": {
      "text/markdown": [
       "# LBLNEW case compaired against"
      ],
      "text/plain": [
       "<IPython.core.display.Markdown object>"
      ]
     },
     "metadata": {},
     "output_type": "display_data"
    },
    {
     "name": "stdout",
     "output_type": "stream",
     "text": [
      "molecule = h2o\n",
      "band = 3c\n",
      "commitnumber = d62b618\n",
      "vmin = 720\n",
      "vmax = 800\n",
      "dv = 0.001\n",
      "nv = 1000\n",
      "ref_pts = [(600, 250)]\n",
      "ng_refs = [5]\n",
      "ng_adju = [0]\n",
      "klin = 5e-25\n",
      "option_wgt_k = 1\n",
      "wgt = [(0.5, 0.5, 0.6, 0.7, 0.9)]\n",
      "w_diffuse = [(1.55, 1.6, 1.66, 1.66, 1.8)]\n",
      "option_wgt_flux = 1\n",
      "atmpro = mls\n",
      "tsfc = 294\n",
      "conc = None\n",
      "option_compute_btable = 0\n",
      "option_compute_ktable = 1\n"
     ]
    },
    {
     "data": {
      "text/html": [
       "<a id=\"Cooling_Rate_Profiles\"></a>"
      ],
      "text/plain": [
       "<IPython.core.display.HTML object>"
      ]
     },
     "metadata": {},
     "output_type": "display_data"
    },
    {
     "data": {
      "text/markdown": [
       "# Cooling Rate Profiles"
      ],
      "text/plain": [
       "<IPython.core.display.Markdown object>"
      ]
     },
     "metadata": {},
     "output_type": "display_data"
    },
    {
     "data": {
      "text/html": [
       "\n",
       "<div class=\"bk-root\">\n",
       "    <div class=\"bk-plotdiv\" id=\"b5299bc0-0a49-47e5-b48e-8eff9b7e8af1\"></div>\n",
       "</div>"
      ]
     },
     "metadata": {},
     "output_type": "display_data"
    },
    {
     "data": {
      "application/javascript": [
       "(function(root) {\n",
       "  function embed_document(root) {\n",
       "    \n",
       "  var docs_json = {\"5232c96d-4a3f-46f8-b9a0-3045bb261b4e\":{\"roots\":{\"references\":[{\"attributes\":{},\"id\":\"36e6eb1d-cfa2-4efa-992a-82247520206b\",\"type\":\"BasicTickFormatter\"},{\"attributes\":{\"callback\":null,\"column_names\":[\"x\",\"y\"],\"data\":{\"x\":{\"__ndarray__\":\"QbwuQCd+575llX183Ojmvg/SZunQoOW+kfVec7015L7mf16wjbnivrycwbzMK+G+OIH2jnkY37464v2FbbTbviKALgQvKti+fhJgFNZ41L67NRTFfZ/QvoXZ5c4XOcm+PORQRCncwL4ISJN56kauvnBO44WcJ8Y+BjTC0DRW7j4OzPD22CkEP0kaMKm/oBM/MshsGNTDID9fYdr5sK8qPyNHk3bnTTQ/YXgLv0PePT/NQmWM8ONDP8R0LYUMYkQ/s5rGi8R2QD8TDclDk5w4P22ed52x1jE/2nAOOCpXKT9QKZt2ENQhP3fnL79isRg/e/BagfBAED+dqjFUApIDP63BhNvp7vU+P061gUwj5j52d1sK3pLAPo+tGS4bI9e+vWIzMPAw5L4SYYBFmnznvj4wwFHPhuq+IOyy40Ou6r5e+h8XBbPgvvB7/pibTAg/CMB2UPyhMz83+VGk9XRQPyTca1cdv2Q/gsoTZClIcj/sbuarDcB7P72GUKVtCoQ/5P/GLwhdiz8XfC8CXcORP9ek+HaAhZY/FWjk5F/6mj80yX29JUygPxqCAmxGTqI/7SXNAm8TpT81EWi/HUCoP4vLSVVHyKs/EdHOul2nsD+n2n5kAImzP1gtSC3vjrY/pzNpur5luj/TJbMo0re8P5ZFtL4bXb8/2HuVUVZFwT/nSSh48/DCPwpVbrbvpsQ/qQGmEhBsxj81shD9GBPIP6nLZGMenMk/7hH/1MPzyj+iJI3EQxrNP7iPubd6Qc0/pTyL94KezT+2Rp1tsLfOP265fKCjOdA/\",\"dtype\":\"float64\",\"shape\":[75]},\"y\":{\"__ndarray__\":\"GhExyth1ND/Sv8nbtpRIP2vylNV0PVE/aTum7souWD/At0SJ8fVgPw3Iuahxymc/MSNhhJWvcD/bTfBN02d3P2zb5nxnaoA/CD5h5MAGhz8NmeH1TyaQP+zrCsc9p5Y/LbKd76fGnz/bLW5ISEmmPww9YvTcQq8/JV2OstnstT8Er5Y7M8G+P0c+r3jqkcU/5h99k6ZBzj88bCIzFzjVP4enV8oyxN0//yH99nXg5D8qOpLLf0jtP5kqGJXUifQ/c9cS8kHP/D+/DpwzojQEQIEmwoanVwxA4lgXt9HgE0BSSZ2AJuIbQAMJih9jjiNA5q4l5INuK0AwTKYKRj0zQNv5fmq8/DpAaCJseHrtQkB/+zpwzoxKQM3MzMzMeFJAZmZmZmZqWEAAAAAAAFxeQM3MzMzMJmJAmpmZmZkfZUBmZmZmZhhoQDMzMzMzEWtAAAAAAAAKbkBmZmZmZoFwQM3MzMzM/XFAMzMzMzN6c0CamZmZmfZ0QAAAAAAAc3ZAZmZmZmbvd0DNzMzMzGt5QDMzMzMz6HpAmpmZmZlkfEAAAAAAAOF9QGZmZmZmXX9AZmZmZuZsgECamZmZGSuBQM3MzMxM6YFAAAAAAICngkAzMzMzs2WDQGZmZmbmI4RAmpmZmRnihEDNzMzMTKCFQAAAAACAXoZAMzMzM7Mch0BmZmZm5tqHQJqZmZkZmYhAzczMzExXiUAAAAAAgBWKQDMzMzOz04pAZmZmZuaRi0CamZmZGVCMQM3MzMxMDo1AAAAAAIDMjUAzMzMzs4qOQGZmZmbmSI9A\",\"dtype\":\"float64\",\"shape\":[75]}}},\"id\":\"098bdef2-4def-4275-854d-acd603d3067a\",\"type\":\"ColumnDataSource\"},{\"attributes\":{\"line_color\":\"#4daf4a\",\"line_width\":1.5,\"x\":{\"field\":\"x\"},\"y\":{\"field\":\"y\"}},\"id\":\"7dd92211-5f75-4dc8-8a3f-4110445a659e\",\"type\":\"Line\"},{\"attributes\":{\"line_alpha\":0.1,\"line_color\":\"#1f77b4\",\"line_dash\":[6],\"line_width\":5,\"x\":{\"field\":\"x\"},\"y\":{\"field\":\"y\"}},\"id\":\"40231139-a590-4f68-88d1-bfef3d78f2b0\",\"type\":\"Line\"},{\"attributes\":{\"data_source\":{\"id\":\"24747192-562f-40f5-be16-fd8b91f34e09\",\"type\":\"ColumnDataSource\"},\"glyph\":{\"id\":\"a4111d08-789c-4353-877c-be77bb421025\",\"type\":\"Circle\"},\"hover_glyph\":null,\"muted_glyph\":null,\"nonselection_glyph\":{\"id\":\"b128430a-3783-47c8-9ef0-82d6eaf59a79\",\"type\":\"Circle\"},\"selection_glyph\":null,\"view\":{\"id\":\"faf1bd51-886e-4cd4-a87d-12af4ded9b71\",\"type\":\"CDSView\"}},\"id\":\"f457319a-f931-4a17-95c7-7469ceede12e\",\"type\":\"GlyphRenderer\"},{\"attributes\":{},\"id\":\"63f0b51a-5730-44f6-aa0e-ff1be499a806\",\"type\":\"BasicTickFormatter\"},{\"attributes\":{\"fill_alpha\":{\"value\":0.7},\"fill_color\":{\"value\":\"#984ea3\"},\"line_alpha\":{\"value\":0.7},\"line_color\":{\"value\":\"#984ea3\"},\"x\":{\"field\":\"x\"},\"y\":{\"field\":\"y\"}},\"id\":\"4920203d-a084-426d-97b9-62eb05416f92\",\"type\":\"Square\"},{\"attributes\":{\"source\":{\"id\":\"d53eb44c-b91b-48f4-adbb-25db60f83787\",\"type\":\"ColumnDataSource\"}},\"id\":\"21f384cc-9af5-4e9e-80a1-616d9262f2e7\",\"type\":\"CDSView\"},{\"attributes\":{\"data_source\":{\"id\":\"098bdef2-4def-4275-854d-acd603d3067a\",\"type\":\"ColumnDataSource\"},\"glyph\":{\"id\":\"133a9f18-f0c7-421e-9216-e9576c5dff84\",\"type\":\"Line\"},\"hover_glyph\":null,\"muted_glyph\":null,\"nonselection_glyph\":{\"id\":\"ca6dffa7-9908-4cd7-b26e-48b52af7e8f3\",\"type\":\"Line\"},\"selection_glyph\":null,\"view\":{\"id\":\"94daeac1-5735-4eb6-b73e-c4df02b87c43\",\"type\":\"CDSView\"}},\"id\":\"d2a54334-025c-4923-b26c-5c6241d98722\",\"type\":\"GlyphRenderer\"},{\"attributes\":{\"plot\":{\"id\":\"c469c456-a0bf-4daf-882f-7ceba5f7682c\",\"subtype\":\"Figure\",\"type\":\"Plot\"},\"ticker\":{\"id\":\"427f9500-53ce-42f8-9972-8e0b2eb74ab5\",\"type\":\"BasicTicker\"}},\"id\":\"ded56951-6852-4d2c-bfe8-64656924fc01\",\"type\":\"Grid\"},{\"attributes\":{\"line_alpha\":0.6,\"line_color\":\"#984ea3\",\"line_width\":3,\"x\":{\"field\":\"x\"},\"y\":{\"field\":\"y\"}},\"id\":\"133a9f18-f0c7-421e-9216-e9576c5dff84\",\"type\":\"Line\"},{\"attributes\":{\"callback\":null,\"end\":0.01,\"start\":1020},\"id\":\"56832736-4ea3-4eff-95c6-2f46e305da55\",\"type\":\"Range1d\"},{\"attributes\":{\"plot\":null,\"text\":\"Log pressure scale\"},\"id\":\"47777c14-f63c-45e0-9963-eb77df56cad7\",\"type\":\"Title\"},{\"attributes\":{\"fill_alpha\":{\"value\":0.1},\"fill_color\":{\"value\":\"#1f77b4\"},\"line_alpha\":{\"value\":0.1},\"line_color\":{\"value\":\"#1f77b4\"},\"x\":{\"field\":\"x\"},\"y\":{\"field\":\"y\"}},\"id\":\"96adf805-f1ae-4200-83e6-801c87491465\",\"type\":\"Square\"},{\"attributes\":{\"line_alpha\":0.1,\"line_color\":\"#1f77b4\",\"line_width\":3,\"x\":{\"field\":\"x\"},\"y\":{\"field\":\"y\"}},\"id\":\"ca6dffa7-9908-4cd7-b26e-48b52af7e8f3\",\"type\":\"Line\"},{\"attributes\":{\"source\":{\"id\":\"7a9a24a5-100b-45d2-82b6-188909831fd8\",\"type\":\"ColumnDataSource\"}},\"id\":\"c0ec190b-4f8b-48e5-bfaf-cab54e49398d\",\"type\":\"CDSView\"},{\"attributes\":{},\"id\":\"21873d6f-782e-4eb7-a13f-03ad99f6c644\",\"type\":\"LinearScale\"},{\"attributes\":{\"below\":[{\"id\":\"15b39554-0ef7-45b0-88a6-c48504dbd7e4\",\"type\":\"LinearAxis\"}],\"left\":[{\"id\":\"3b30189c-25cb-462f-8b6b-27c043b6d9a6\",\"type\":\"LogAxis\"}],\"plot_height\":500,\"plot_width\":560,\"renderers\":[{\"id\":\"15b39554-0ef7-45b0-88a6-c48504dbd7e4\",\"type\":\"LinearAxis\"},{\"id\":\"ded56951-6852-4d2c-bfe8-64656924fc01\",\"type\":\"Grid\"},{\"id\":\"3b30189c-25cb-462f-8b6b-27c043b6d9a6\",\"type\":\"LogAxis\"},{\"id\":\"7cb18fcf-edb0-4310-9795-884df27a96a7\",\"type\":\"Grid\"},{\"id\":\"d716bbcd-cbd8-4f8a-8213-34df95f9f700\",\"type\":\"BoxAnnotation\"},{\"id\":\"bcf30b18-111f-4839-89bf-c0efcbaa9303\",\"type\":\"GlyphRenderer\"},{\"id\":\"5df05bf3-019c-41a4-b078-0b2183fc8c01\",\"type\":\"GlyphRenderer\"},{\"id\":\"a047f67c-8185-480a-9519-3c67e43cf43d\",\"type\":\"GlyphRenderer\"},{\"id\":\"993c7191-bd84-4321-9ee0-080ee9f94335\",\"type\":\"GlyphRenderer\"},{\"id\":\"2ef6e436-99c9-44df-a196-7e470fcbd5ce\",\"type\":\"GlyphRenderer\"},{\"id\":\"0615fddb-a674-4e60-a030-c8145ff9ab0d\",\"type\":\"Legend\"}],\"right\":[{\"id\":\"0615fddb-a674-4e60-a030-c8145ff9ab0d\",\"type\":\"Legend\"}],\"title\":{\"id\":\"47777c14-f63c-45e0-9963-eb77df56cad7\",\"type\":\"Title\"},\"toolbar\":{\"id\":\"7efaf288-71c4-4d9f-8b8a-82a79d191364\",\"type\":\"Toolbar\"},\"toolbar_location\":null,\"x_range\":{\"id\":\"8c003773-c0a3-44e5-bdf4-2c0ebf746438\",\"type\":\"Range1d\"},\"x_scale\":{\"id\":\"21873d6f-782e-4eb7-a13f-03ad99f6c644\",\"type\":\"LinearScale\"},\"y_range\":{\"id\":\"e87747b0-e777-4bb0-be74-0d0fdfdf361e\",\"type\":\"Range1d\"},\"y_scale\":{\"id\":\"b240a5a2-f036-42c1-89f2-929862107368\",\"type\":\"LogScale\"}},\"id\":\"c469c456-a0bf-4daf-882f-7ceba5f7682c\",\"subtype\":\"Figure\",\"type\":\"Plot\"},{\"attributes\":{\"overlay\":{\"id\":\"95b5ffcb-5503-495f-a839-1c574d6eeb24\",\"type\":\"BoxAnnotation\"}},\"id\":\"a99e8715-49d7-412e-ad7e-c15a8ff4adc3\",\"type\":\"BoxZoomTool\"},{\"attributes\":{\"children\":[{\"id\":\"e3a89ed2-e122-4912-a965-4c4d697cd9db\",\"type\":\"Row\"}]},\"id\":\"9cacd66f-64c8-4f72-9d43-01772b6259c0\",\"type\":\"Column\"},{\"attributes\":{\"axis_label\":\"cooling rate [K/day]\",\"formatter\":{\"id\":\"d56faa13-a911-4890-991c-5546b76551ed\",\"type\":\"BasicTickFormatter\"},\"plot\":{\"id\":\"3598b405-f52c-47b5-bb6a-777f009d6a50\",\"subtype\":\"Figure\",\"type\":\"Plot\"},\"ticker\":{\"id\":\"fd72b0a1-dfce-4317-b34d-3a8ef7713cd5\",\"type\":\"BasicTicker\"}},\"id\":\"74c34c9f-30c3-4964-85fd-72a24f46be83\",\"type\":\"LinearAxis\"},{\"attributes\":{},\"id\":\"fd72b0a1-dfce-4317-b34d-3a8ef7713cd5\",\"type\":\"BasicTicker\"},{\"attributes\":{\"plot\":{\"id\":\"3598b405-f52c-47b5-bb6a-777f009d6a50\",\"subtype\":\"Figure\",\"type\":\"Plot\"},\"ticker\":{\"id\":\"fd72b0a1-dfce-4317-b34d-3a8ef7713cd5\",\"type\":\"BasicTicker\"}},\"id\":\"1df1d5e0-5354-4ebb-a4c5-f35ba67e8c2b\",\"type\":\"Grid\"},{\"attributes\":{\"callback\":null,\"column_names\":[\"x\",\"y\"],\"data\":{\"x\":{\"__ndarray__\":\"1K2ij08S3763CIRt3HLcvp0n1UFvtta+AriDgMhi0L5YPfOCX4/DvtFIqSSBJ6e+c+4mpv8bsT6isJeSs3zHPssRsNC1g9M+wMw7rH6Y2z45S0zsO//hPsIkM7LnW+Y+ijMXUPfj6j6VMc/V+ufvPmAH+P9O9fc+eqqiLfYxCT+ENJP6n88ZP/0dlIp90SY/hn9JqzKOMj92STIbJKo8Px3qZfPoXkU/iTkieNH3Tj+SeVP2fmhUPysqqe4tx1Q/b5vNjee/UD8IroBQLfhIPyUdXfOpCEI/ru6ZY0CIOT/VwYXTY/QxP5ui1k6x/ig/XohVe1GtID+UWNX0o/MUP28/T+2e4wk/KM4dyd0HAD9LNcOR8crwPncJfN5U6tA+sSp4+nguwb7OotEYlGbSvjmYZT+Hitq+uc1CzF+/2b7nyEZFRHHUPhxtzkrvmxg/fXA/4/BwPD9/yTUhh2pVP/rDmvsA7Gg/HUxGclLIdD9Ne/FeYXx+P0VLLXr4SYU/eUcwT5OLjD+LHtzDfH6SPyPup4IuOpc/98U7Rs3lmz/5Pt2/AGKgP71zu6YmEqM/9h0u/0ILpj+fWNy8x1KpP4HcWjPt86w/xBJvmscssT8BZvvmtxW0P3PKHeKRC7c/4l0N1FIOuj/uFcxO9Rq9P6oOmAuFHcA/aDef35y2wT9omaDhKFTDPxXhaL+c9sQ/YMp+5VqXxj/KpIY2ABvIP18eOlaMZ8k/rmcIxyx7yj+FW4CuZGTLPzetkMkUOcw/1EjoujIgzT8GT3wQXSvOP2oEsDu8688/\",\"dtype\":\"float64\",\"shape\":[75]},\"y\":{\"__ndarray__\":\"GhExyth1ND/Sv8nbtpRIP2vylNV0PVE/aTum7souWD/At0SJ8fVgPw3Iuahxymc/MSNhhJWvcD/bTfBN02d3P2zb5nxnaoA/CD5h5MAGhz8NmeH1TyaQP+zrCsc9p5Y/LbKd76fGnz/bLW5ISEmmPww9YvTcQq8/JV2OstnstT8Er5Y7M8G+P0c+r3jqkcU/5h99k6ZBzj88bCIzFzjVP4enV8oyxN0//yH99nXg5D8qOpLLf0jtP5kqGJXUifQ/c9cS8kHP/D+/DpwzojQEQIEmwoanVwxA4lgXt9HgE0BSSZ2AJuIbQAMJih9jjiNA5q4l5INuK0AwTKYKRj0zQNv5fmq8/DpAaCJseHrtQkB/+zpwzoxKQM3MzMzMeFJAZmZmZmZqWEAAAAAAAFxeQM3MzMzMJmJAmpmZmZkfZUBmZmZmZhhoQDMzMzMzEWtAAAAAAAAKbkBmZmZmZoFwQM3MzMzM/XFAMzMzMzN6c0CamZmZmfZ0QAAAAAAAc3ZAZmZmZmbvd0DNzMzMzGt5QDMzMzMz6HpAmpmZmZlkfEAAAAAAAOF9QGZmZmZmXX9AZmZmZuZsgECamZmZGSuBQM3MzMxM6YFAAAAAAICngkAzMzMzs2WDQGZmZmbmI4RAmpmZmRnihEDNzMzMTKCFQAAAAACAXoZAMzMzM7Mch0BmZmZm5tqHQJqZmZkZmYhAzczMzExXiUAAAAAAgBWKQDMzMzOz04pAZmZmZuaRi0CamZmZGVCMQM3MzMxMDo1AAAAAAIDMjUAzMzMzs4qOQGZmZmbmSI9A\",\"dtype\":\"float64\",\"shape\":[75]}}},\"id\":\"a64a8122-ab05-4472-8c18-79acf3d4ddbd\",\"type\":\"ColumnDataSource\"},{\"attributes\":{\"callback\":null,\"column_names\":[\"x\",\"y\"],\"data\":{\"x\":{\"__ndarray__\":\"QbwuQCd+575llX183Ojmvg/SZunQoOW+kfVec7015L7mf16wjbnivrycwbzMK+G+OIH2jnkY37464v2FbbTbviKALgQvKti+fhJgFNZ41L67NRTFfZ/QvoXZ5c4XOcm+PORQRCncwL4ISJN56kauvnBO44WcJ8Y+BjTC0DRW7j4OzPD22CkEP0kaMKm/oBM/MshsGNTDID9fYdr5sK8qPyNHk3bnTTQ/YXgLv0PePT/NQmWM8ONDP8R0LYUMYkQ/s5rGi8R2QD8TDclDk5w4P22ed52x1jE/2nAOOCpXKT9QKZt2ENQhP3fnL79isRg/e/BagfBAED+dqjFUApIDP63BhNvp7vU+P061gUwj5j52d1sK3pLAPo+tGS4bI9e+vWIzMPAw5L4SYYBFmnznvj4wwFHPhuq+IOyy40Ou6r5e+h8XBbPgvvB7/pibTAg/CMB2UPyhMz83+VGk9XRQPyTca1cdv2Q/gsoTZClIcj/sbuarDcB7P72GUKVtCoQ/5P/GLwhdiz8XfC8CXcORP9ek+HaAhZY/FWjk5F/6mj80yX29JUygPxqCAmxGTqI/7SXNAm8TpT81EWi/HUCoP4vLSVVHyKs/EdHOul2nsD+n2n5kAImzP1gtSC3vjrY/pzNpur5luj/TJbMo0re8P5ZFtL4bXb8/2HuVUVZFwT/nSSh48/DCPwpVbrbvpsQ/qQGmEhBsxj81shD9GBPIP6nLZGMenMk/7hH/1MPzyj+iJI3EQxrNP7iPubd6Qc0/pTyL94KezT+2Rp1tsLfOP265fKCjOdA/\",\"dtype\":\"float64\",\"shape\":[75]},\"y\":{\"__ndarray__\":\"GhExyth1ND/Sv8nbtpRIP2vylNV0PVE/aTum7souWD/At0SJ8fVgPw3Iuahxymc/MSNhhJWvcD/bTfBN02d3P2zb5nxnaoA/CD5h5MAGhz8NmeH1TyaQP+zrCsc9p5Y/LbKd76fGnz/bLW5ISEmmPww9YvTcQq8/JV2OstnstT8Er5Y7M8G+P0c+r3jqkcU/5h99k6ZBzj88bCIzFzjVP4enV8oyxN0//yH99nXg5D8qOpLLf0jtP5kqGJXUifQ/c9cS8kHP/D+/DpwzojQEQIEmwoanVwxA4lgXt9HgE0BSSZ2AJuIbQAMJih9jjiNA5q4l5INuK0AwTKYKRj0zQNv5fmq8/DpAaCJseHrtQkB/+zpwzoxKQM3MzMzMeFJAZmZmZmZqWEAAAAAAAFxeQM3MzMzMJmJAmpmZmZkfZUBmZmZmZhhoQDMzMzMzEWtAAAAAAAAKbkBmZmZmZoFwQM3MzMzM/XFAMzMzMzN6c0CamZmZmfZ0QAAAAAAAc3ZAZmZmZmbvd0DNzMzMzGt5QDMzMzMz6HpAmpmZmZlkfEAAAAAAAOF9QGZmZmZmXX9AZmZmZuZsgECamZmZGSuBQM3MzMxM6YFAAAAAAICngkAzMzMzs2WDQGZmZmbmI4RAmpmZmRnihEDNzMzMTKCFQAAAAACAXoZAMzMzM7Mch0BmZmZm5tqHQJqZmZkZmYhAzczMzExXiUAAAAAAgBWKQDMzMzOz04pAZmZmZuaRi0CamZmZGVCMQM3MzMxMDo1AAAAAAIDMjUAzMzMzs4qOQGZmZmbmSI9A\",\"dtype\":\"float64\",\"shape\":[75]}}},\"id\":\"7a9a24a5-100b-45d2-82b6-188909831fd8\",\"type\":\"ColumnDataSource\"},{\"attributes\":{\"axis_label\":\"pressure [mb]\",\"formatter\":{\"id\":\"36e6eb1d-cfa2-4efa-992a-82247520206b\",\"type\":\"BasicTickFormatter\"},\"plot\":{\"id\":\"3598b405-f52c-47b5-bb6a-777f009d6a50\",\"subtype\":\"Figure\",\"type\":\"Plot\"},\"ticker\":{\"id\":\"9dc0b333-f4de-4e68-af8e-a75a960579f7\",\"type\":\"BasicTicker\"}},\"id\":\"cfa0dfdd-1cde-4d09-9d6f-f78d25518573\",\"type\":\"LinearAxis\"},{\"attributes\":{\"source\":{\"id\":\"d6ef07aa-a27b-4971-9532-6ac58b644499\",\"type\":\"ColumnDataSource\"}},\"id\":\"7f5c36bf-7202-4fc5-8ef3-7547ed47de2f\",\"type\":\"CDSView\"},{\"attributes\":{\"dimension\":1,\"plot\":{\"id\":\"3598b405-f52c-47b5-bb6a-777f009d6a50\",\"subtype\":\"Figure\",\"type\":\"Plot\"},\"ticker\":{\"id\":\"9dc0b333-f4de-4e68-af8e-a75a960579f7\",\"type\":\"BasicTicker\"}},\"id\":\"2082e966-8beb-492e-a406-90612009315e\",\"type\":\"Grid\"},{\"attributes\":{\"bottom_units\":\"screen\",\"fill_alpha\":{\"value\":0.5},\"fill_color\":{\"value\":\"lightgrey\"},\"left_units\":\"screen\",\"level\":\"overlay\",\"line_alpha\":{\"value\":1.0},\"line_color\":{\"value\":\"black\"},\"line_dash\":[4,4],\"line_width\":{\"value\":2},\"plot\":null,\"render_mode\":\"css\",\"right_units\":\"screen\",\"top_units\":\"screen\"},\"id\":\"95b5ffcb-5503-495f-a839-1c574d6eeb24\",\"type\":\"BoxAnnotation\"},{\"attributes\":{\"data_source\":{\"id\":\"7a9a24a5-100b-45d2-82b6-188909831fd8\",\"type\":\"ColumnDataSource\"},\"glyph\":{\"id\":\"4920203d-a084-426d-97b9-62eb05416f92\",\"type\":\"Square\"},\"hover_glyph\":null,\"muted_glyph\":null,\"nonselection_glyph\":{\"id\":\"96adf805-f1ae-4200-83e6-801c87491465\",\"type\":\"Square\"},\"selection_glyph\":null,\"view\":{\"id\":\"c0ec190b-4f8b-48e5-bfaf-cab54e49398d\",\"type\":\"CDSView\"}},\"id\":\"c1eee174-21dd-4add-a2cd-01e3a61c7d2c\",\"type\":\"GlyphRenderer\"},{\"attributes\":{},\"id\":\"9dc0b333-f4de-4e68-af8e-a75a960579f7\",\"type\":\"BasicTicker\"},{\"attributes\":{},\"id\":\"427f9500-53ce-42f8-9972-8e0b2eb74ab5\",\"type\":\"BasicTicker\"},{\"attributes\":{},\"id\":\"160e0194-a164-4be8-95ae-eef6237dcf5f\",\"type\":\"PanTool\"},{\"attributes\":{},\"id\":\"b2932d53-47db-492b-a901-6b286f29759e\",\"type\":\"ResetTool\"},{\"attributes\":{\"data_source\":{\"id\":\"a64a8122-ab05-4472-8c18-79acf3d4ddbd\",\"type\":\"ColumnDataSource\"},\"glyph\":{\"id\":\"7dd92211-5f75-4dc8-8a3f-4110445a659e\",\"type\":\"Line\"},\"hover_glyph\":null,\"muted_glyph\":null,\"nonselection_glyph\":{\"id\":\"24d6745c-4f2a-4222-9ccc-ede018b778be\",\"type\":\"Line\"},\"selection_glyph\":null,\"view\":{\"id\":\"a61705ef-2950-49ac-8d0a-60c7aac3ee46\",\"type\":\"CDSView\"}},\"id\":\"f28147d7-367c-4224-a85b-950c7151ad91\",\"type\":\"GlyphRenderer\"},{\"attributes\":{},\"id\":\"2e7f8b38-bb5c-446b-bc0c-15554caa36e0\",\"type\":\"SaveTool\"},{\"attributes\":{\"source\":{\"id\":\"24747192-562f-40f5-be16-fd8b91f34e09\",\"type\":\"ColumnDataSource\"}},\"id\":\"faf1bd51-886e-4cd4-a87d-12af4ded9b71\",\"type\":\"CDSView\"},{\"attributes\":{},\"id\":\"22e787be-e48f-472c-be24-e7468973c768\",\"type\":\"LinearScale\"},{\"attributes\":{\"line_alpha\":0.1,\"line_color\":\"#1f77b4\",\"line_width\":1.5,\"x\":{\"field\":\"x\"},\"y\":{\"field\":\"y\"}},\"id\":\"24d6745c-4f2a-4222-9ccc-ede018b778be\",\"type\":\"Line\"},{\"attributes\":{\"axis_label\":\"cooling rate [K/day]\",\"formatter\":{\"id\":\"63f0b51a-5730-44f6-aa0e-ff1be499a806\",\"type\":\"BasicTickFormatter\"},\"plot\":{\"id\":\"c469c456-a0bf-4daf-882f-7ceba5f7682c\",\"subtype\":\"Figure\",\"type\":\"Plot\"},\"ticker\":{\"id\":\"427f9500-53ce-42f8-9972-8e0b2eb74ab5\",\"type\":\"BasicTicker\"}},\"id\":\"15b39554-0ef7-45b0-88a6-c48504dbd7e4\",\"type\":\"LinearAxis\"},{\"attributes\":{\"data_source\":{\"id\":\"d53eb44c-b91b-48f4-adbb-25db60f83787\",\"type\":\"ColumnDataSource\"},\"glyph\":{\"id\":\"be0d1faf-c75d-4157-992b-2d0264b61646\",\"type\":\"Line\"},\"hover_glyph\":null,\"muted_glyph\":null,\"nonselection_glyph\":{\"id\":\"aa5a228b-9595-4d1b-9bc9-a64ee8f5471c\",\"type\":\"Line\"},\"selection_glyph\":null,\"view\":{\"id\":\"21f384cc-9af5-4e9e-80a1-616d9262f2e7\",\"type\":\"CDSView\"}},\"id\":\"bcf30b18-111f-4839-89bf-c0efcbaa9303\",\"type\":\"GlyphRenderer\"},{\"attributes\":{\"callback\":null,\"end\":0.26392897923836,\"start\":-0.0026316230743600004},\"id\":\"065547a4-7518-4c64-b948-9cb026b39117\",\"type\":\"Range1d\"},{\"attributes\":{},\"id\":\"fd0b18ac-d3fc-4686-b4ef-9b3389183d80\",\"type\":\"LinearScale\"},{\"attributes\":{\"source\":{\"id\":\"a64a8122-ab05-4472-8c18-79acf3d4ddbd\",\"type\":\"ColumnDataSource\"}},\"id\":\"a61705ef-2950-49ac-8d0a-60c7aac3ee46\",\"type\":\"CDSView\"},{\"attributes\":{\"axis_label\":\"pressure [mb]\",\"formatter\":{\"id\":\"3e702166-3cc8-4f75-839f-60fce4b6fb49\",\"type\":\"LogTickFormatter\"},\"plot\":{\"id\":\"c469c456-a0bf-4daf-882f-7ceba5f7682c\",\"subtype\":\"Figure\",\"type\":\"Plot\"},\"ticker\":{\"id\":\"3ac9f279-fa9e-44f4-a2c5-d9b64ebc8729\",\"type\":\"LogTicker\"}},\"id\":\"3b30189c-25cb-462f-8b6b-27c043b6d9a6\",\"type\":\"LogAxis\"},{\"attributes\":{},\"id\":\"2858f459-8160-4d4f-8de6-ef167d2c957e\",\"type\":\"HelpTool\"},{\"attributes\":{},\"id\":\"1539281f-a1d9-4849-a285-850059c7c97f\",\"type\":\"WheelZoomTool\"},{\"attributes\":{\"num_minor_ticks\":10},\"id\":\"3ac9f279-fa9e-44f4-a2c5-d9b64ebc8729\",\"type\":\"LogTicker\"},{\"attributes\":{},\"id\":\"b240a5a2-f036-42c1-89f2-929862107368\",\"type\":\"LogScale\"},{\"attributes\":{\"line_alpha\":0.1,\"line_color\":\"#1f77b4\",\"line_dash\":[6],\"line_width\":5,\"x\":{\"field\":\"x\"},\"y\":{\"field\":\"y\"}},\"id\":\"aa5a228b-9595-4d1b-9bc9-a64ee8f5471c\",\"type\":\"Line\"},{\"attributes\":{\"active_drag\":\"auto\",\"active_inspect\":\"auto\",\"active_scroll\":\"auto\",\"active_tap\":\"auto\",\"tools\":[{\"id\":\"98ca6e30-21bf-418e-88be-9d4e6bb91da4\",\"type\":\"PanTool\"},{\"id\":\"f600714c-8410-4665-842a-d40cc0b2da3d\",\"type\":\"WheelZoomTool\"},{\"id\":\"30e4f2df-6e9a-4414-ad83-462f3cc7c768\",\"type\":\"BoxZoomTool\"},{\"id\":\"fb2be5cc-48e5-4c6e-a2b0-e4cd09deb8be\",\"type\":\"SaveTool\"},{\"id\":\"c39a5834-7ec9-4353-addc-f2f672b5df84\",\"type\":\"ResetTool\"},{\"id\":\"7addd74b-006f-4d05-a40e-6acb22c52dd1\",\"type\":\"HelpTool\"}]},\"id\":\"7efaf288-71c4-4d9f-8b8a-82a79d191364\",\"type\":\"Toolbar\"},{\"attributes\":{\"source\":{\"id\":\"098bdef2-4def-4275-854d-acd603d3067a\",\"type\":\"ColumnDataSource\"}},\"id\":\"94daeac1-5735-4eb6-b73e-c4df02b87c43\",\"type\":\"CDSView\"},{\"attributes\":{},\"id\":\"c39a5834-7ec9-4353-addc-f2f672b5df84\",\"type\":\"ResetTool\"},{\"attributes\":{\"toolbar\":{\"id\":\"ec32b91c-ac57-4128-a462-1f02546a7c17\",\"type\":\"ProxyToolbar\"},\"toolbar_location\":\"above\"},\"id\":\"3e97d728-b9d8-430b-a03c-ab63ea659e8c\",\"type\":\"ToolbarBox\"},{\"attributes\":{\"data_source\":{\"id\":\"d6ef07aa-a27b-4971-9532-6ac58b644499\",\"type\":\"ColumnDataSource\"},\"glyph\":{\"id\":\"770c3c8e-6c8a-4f0f-b05a-feff0cc49fd0\",\"type\":\"Line\"},\"hover_glyph\":null,\"muted_glyph\":null,\"nonselection_glyph\":{\"id\":\"40231139-a590-4f68-88d1-bfef3d78f2b0\",\"type\":\"Line\"},\"selection_glyph\":null,\"view\":{\"id\":\"7f5c36bf-7202-4fc5-8ef3-7547ed47de2f\",\"type\":\"CDSView\"}},\"id\":\"20047e02-a31e-4ece-b6dd-ac0bd6d2c1af\",\"type\":\"GlyphRenderer\"},{\"attributes\":{\"overlay\":{\"id\":\"d716bbcd-cbd8-4f8a-8213-34df95f9f700\",\"type\":\"BoxAnnotation\"}},\"id\":\"30e4f2df-6e9a-4414-ad83-462f3cc7c768\",\"type\":\"BoxZoomTool\"},{\"attributes\":{\"ticker\":null},\"id\":\"3e702166-3cc8-4f75-839f-60fce4b6fb49\",\"type\":\"LogTickFormatter\"},{\"attributes\":{\"callback\":null,\"column_names\":[\"x\",\"y\"],\"data\":{\"x\":{\"__ndarray__\":\"1K2ij08S3763CIRt3HLcvp0n1UFvtta+AriDgMhi0L5YPfOCX4/DvtFIqSSBJ6e+c+4mpv8bsT6isJeSs3zHPssRsNC1g9M+wMw7rH6Y2z45S0zsO//hPsIkM7LnW+Y+ijMXUPfj6j6VMc/V+ufvPmAH+P9O9fc+eqqiLfYxCT+ENJP6n88ZP/0dlIp90SY/hn9JqzKOMj92STIbJKo8Px3qZfPoXkU/iTkieNH3Tj+SeVP2fmhUPysqqe4tx1Q/b5vNjee/UD8IroBQLfhIPyUdXfOpCEI/ru6ZY0CIOT/VwYXTY/QxP5ui1k6x/ig/XohVe1GtID+UWNX0o/MUP28/T+2e4wk/KM4dyd0HAD9LNcOR8crwPncJfN5U6tA+sSp4+nguwb7OotEYlGbSvjmYZT+Hitq+uc1CzF+/2b7nyEZFRHHUPhxtzkrvmxg/fXA/4/BwPD9/yTUhh2pVP/rDmvsA7Gg/HUxGclLIdD9Ne/FeYXx+P0VLLXr4SYU/eUcwT5OLjD+LHtzDfH6SPyPup4IuOpc/98U7Rs3lmz/5Pt2/AGKgP71zu6YmEqM/9h0u/0ILpj+fWNy8x1KpP4HcWjPt86w/xBJvmscssT8BZvvmtxW0P3PKHeKRC7c/4l0N1FIOuj/uFcxO9Rq9P6oOmAuFHcA/aDef35y2wT9omaDhKFTDPxXhaL+c9sQ/YMp+5VqXxj/KpIY2ABvIP18eOlaMZ8k/rmcIxyx7yj+FW4CuZGTLPzetkMkUOcw/1EjoujIgzT8GT3wQXSvOP2oEsDu8688/\",\"dtype\":\"float64\",\"shape\":[75]},\"y\":{\"__ndarray__\":\"GhExyth1ND/Sv8nbtpRIP2vylNV0PVE/aTum7souWD/At0SJ8fVgPw3Iuahxymc/MSNhhJWvcD/bTfBN02d3P2zb5nxnaoA/CD5h5MAGhz8NmeH1TyaQP+zrCsc9p5Y/LbKd76fGnz/bLW5ISEmmPww9YvTcQq8/JV2OstnstT8Er5Y7M8G+P0c+r3jqkcU/5h99k6ZBzj88bCIzFzjVP4enV8oyxN0//yH99nXg5D8qOpLLf0jtP5kqGJXUifQ/c9cS8kHP/D+/DpwzojQEQIEmwoanVwxA4lgXt9HgE0BSSZ2AJuIbQAMJih9jjiNA5q4l5INuK0AwTKYKRj0zQNv5fmq8/DpAaCJseHrtQkB/+zpwzoxKQM3MzMzMeFJAZmZmZmZqWEAAAAAAAFxeQM3MzMzMJmJAmpmZmZkfZUBmZmZmZhhoQDMzMzMzEWtAAAAAAAAKbkBmZmZmZoFwQM3MzMzM/XFAMzMzMzN6c0CamZmZmfZ0QAAAAAAAc3ZAZmZmZmbvd0DNzMzMzGt5QDMzMzMz6HpAmpmZmZlkfEAAAAAAAOF9QGZmZmZmXX9AZmZmZuZsgECamZmZGSuBQM3MzMxM6YFAAAAAAICngkAzMzMzs2WDQGZmZmbmI4RAmpmZmRnihEDNzMzMTKCFQAAAAACAXoZAMzMzM7Mch0BmZmZm5tqHQJqZmZkZmYhAzczMzExXiUAAAAAAgBWKQDMzMzOz04pAZmZmZuaRi0CamZmZGVCMQM3MzMxMDo1AAAAAAIDMjUAzMzMzs4qOQGZmZmbmSI9A\",\"dtype\":\"float64\",\"shape\":[75]}}},\"id\":\"7c753e06-2962-4e42-a338-6c0ce95e383c\",\"type\":\"ColumnDataSource\"},{\"attributes\":{\"children\":[{\"id\":\"3598b405-f52c-47b5-bb6a-777f009d6a50\",\"subtype\":\"Figure\",\"type\":\"Plot\"},{\"id\":\"c469c456-a0bf-4daf-882f-7ceba5f7682c\",\"subtype\":\"Figure\",\"type\":\"Plot\"}]},\"id\":\"e3a89ed2-e122-4912-a965-4c4d697cd9db\",\"type\":\"Row\"},{\"attributes\":{\"fill_alpha\":{\"value\":0.1},\"fill_color\":{\"value\":\"#1f77b4\"},\"line_alpha\":{\"value\":0.1},\"line_color\":{\"value\":\"#1f77b4\"},\"x\":{\"field\":\"x\"},\"y\":{\"field\":\"y\"}},\"id\":\"d9666596-399f-4d6f-93c8-5b285d35c61e\",\"type\":\"Circle\"},{\"attributes\":{\"data_source\":{\"id\":\"abc2fc1a-e074-4e63-a41d-97aa1e24f932\",\"type\":\"ColumnDataSource\"},\"glyph\":{\"id\":\"7e5bacac-b1b9-4802-90e4-b50d206bec09\",\"type\":\"Circle\"},\"hover_glyph\":null,\"muted_glyph\":null,\"nonselection_glyph\":{\"id\":\"d9666596-399f-4d6f-93c8-5b285d35c61e\",\"type\":\"Circle\"},\"selection_glyph\":null,\"view\":{\"id\":\"d0fe2165-f13d-42cb-880b-c971cd6209bc\",\"type\":\"CDSView\"}},\"id\":\"5df05bf3-019c-41a4-b078-0b2183fc8c01\",\"type\":\"GlyphRenderer\"},{\"attributes\":{\"callback\":null,\"column_names\":[\"x\",\"y\"],\"data\":{\"x\":{\"__ndarray__\":\"QbwuQCd+575llX183Ojmvg/SZunQoOW+kfVec7015L7mf16wjbnivrycwbzMK+G+OIH2jnkY37464v2FbbTbviKALgQvKti+fhJgFNZ41L67NRTFfZ/QvoXZ5c4XOcm+PORQRCncwL4ISJN56kauvnBO44WcJ8Y+BjTC0DRW7j4OzPD22CkEP0kaMKm/oBM/MshsGNTDID9fYdr5sK8qPyNHk3bnTTQ/YXgLv0PePT/NQmWM8ONDP8R0LYUMYkQ/s5rGi8R2QD8TDclDk5w4P22ed52x1jE/2nAOOCpXKT9QKZt2ENQhP3fnL79isRg/e/BagfBAED+dqjFUApIDP63BhNvp7vU+P061gUwj5j52d1sK3pLAPo+tGS4bI9e+vWIzMPAw5L4SYYBFmnznvj4wwFHPhuq+IOyy40Ou6r5e+h8XBbPgvvB7/pibTAg/CMB2UPyhMz83+VGk9XRQPyTca1cdv2Q/gsoTZClIcj/sbuarDcB7P72GUKVtCoQ/5P/GLwhdiz8XfC8CXcORP9ek+HaAhZY/FWjk5F/6mj80yX29JUygPxqCAmxGTqI/7SXNAm8TpT81EWi/HUCoP4vLSVVHyKs/EdHOul2nsD+n2n5kAImzP1gtSC3vjrY/pzNpur5luj/TJbMo0re8P5ZFtL4bXb8/2HuVUVZFwT/nSSh48/DCPwpVbrbvpsQ/qQGmEhBsxj81shD9GBPIP6nLZGMenMk/7hH/1MPzyj+iJI3EQxrNP7iPubd6Qc0/pTyL94KezT+2Rp1tsLfOP265fKCjOdA/\",\"dtype\":\"float64\",\"shape\":[75]},\"y\":{\"__ndarray__\":\"GhExyth1ND/Sv8nbtpRIP2vylNV0PVE/aTum7souWD/At0SJ8fVgPw3Iuahxymc/MSNhhJWvcD/bTfBN02d3P2zb5nxnaoA/CD5h5MAGhz8NmeH1TyaQP+zrCsc9p5Y/LbKd76fGnz/bLW5ISEmmPww9YvTcQq8/JV2OstnstT8Er5Y7M8G+P0c+r3jqkcU/5h99k6ZBzj88bCIzFzjVP4enV8oyxN0//yH99nXg5D8qOpLLf0jtP5kqGJXUifQ/c9cS8kHP/D+/DpwzojQEQIEmwoanVwxA4lgXt9HgE0BSSZ2AJuIbQAMJih9jjiNA5q4l5INuK0AwTKYKRj0zQNv5fmq8/DpAaCJseHrtQkB/+zpwzoxKQM3MzMzMeFJAZmZmZmZqWEAAAAAAAFxeQM3MzMzMJmJAmpmZmZkfZUBmZmZmZhhoQDMzMzMzEWtAAAAAAAAKbkBmZmZmZoFwQM3MzMzM/XFAMzMzMzN6c0CamZmZmfZ0QAAAAAAAc3ZAZmZmZmbvd0DNzMzMzGt5QDMzMzMz6HpAmpmZmZlkfEAAAAAAAOF9QGZmZmZmXX9AZmZmZuZsgECamZmZGSuBQM3MzMxM6YFAAAAAAICngkAzMzMzs2WDQGZmZmbmI4RAmpmZmRnihEDNzMzMTKCFQAAAAACAXoZAMzMzM7Mch0BmZmZm5tqHQJqZmZkZmYhAzczMzExXiUAAAAAAgBWKQDMzMzOz04pAZmZmZuaRi0CamZmZGVCMQM3MzMxMDo1AAAAAAIDMjUAzMzMzs4qOQGZmZmbmSI9A\",\"dtype\":\"float64\",\"shape\":[75]}}},\"id\":\"3e6164ad-b42c-43af-aa46-223e8728fdb5\",\"type\":\"ColumnDataSource\"},{\"attributes\":{\"callback\":null,\"column_names\":[\"x\",\"y\"],\"data\":{\"x\":{\"__ndarray__\":\"1K2ij08S3763CIRt3HLcvp0n1UFvtta+AriDgMhi0L5YPfOCX4/DvtFIqSSBJ6e+c+4mpv8bsT6isJeSs3zHPssRsNC1g9M+wMw7rH6Y2z45S0zsO//hPsIkM7LnW+Y+ijMXUPfj6j6VMc/V+ufvPmAH+P9O9fc+eqqiLfYxCT+ENJP6n88ZP/0dlIp90SY/hn9JqzKOMj92STIbJKo8Px3qZfPoXkU/iTkieNH3Tj+SeVP2fmhUPysqqe4tx1Q/b5vNjee/UD8IroBQLfhIPyUdXfOpCEI/ru6ZY0CIOT/VwYXTY/QxP5ui1k6x/ig/XohVe1GtID+UWNX0o/MUP28/T+2e4wk/KM4dyd0HAD9LNcOR8crwPncJfN5U6tA+sSp4+nguwb7OotEYlGbSvjmYZT+Hitq+uc1CzF+/2b7nyEZFRHHUPhxtzkrvmxg/fXA/4/BwPD9/yTUhh2pVP/rDmvsA7Gg/HUxGclLIdD9Ne/FeYXx+P0VLLXr4SYU/eUcwT5OLjD+LHtzDfH6SPyPup4IuOpc/98U7Rs3lmz/5Pt2/AGKgP71zu6YmEqM/9h0u/0ILpj+fWNy8x1KpP4HcWjPt86w/xBJvmscssT8BZvvmtxW0P3PKHeKRC7c/4l0N1FIOuj/uFcxO9Rq9P6oOmAuFHcA/aDef35y2wT9omaDhKFTDPxXhaL+c9sQ/YMp+5VqXxj/KpIY2ABvIP18eOlaMZ8k/rmcIxyx7yj+FW4CuZGTLPzetkMkUOcw/1EjoujIgzT8GT3wQXSvOP2oEsDu8688/\",\"dtype\":\"float64\",\"shape\":[75]},\"y\":{\"__ndarray__\":\"GhExyth1ND/Sv8nbtpRIP2vylNV0PVE/aTum7souWD/At0SJ8fVgPw3Iuahxymc/MSNhhJWvcD/bTfBN02d3P2zb5nxnaoA/CD5h5MAGhz8NmeH1TyaQP+zrCsc9p5Y/LbKd76fGnz/bLW5ISEmmPww9YvTcQq8/JV2OstnstT8Er5Y7M8G+P0c+r3jqkcU/5h99k6ZBzj88bCIzFzjVP4enV8oyxN0//yH99nXg5D8qOpLLf0jtP5kqGJXUifQ/c9cS8kHP/D+/DpwzojQEQIEmwoanVwxA4lgXt9HgE0BSSZ2AJuIbQAMJih9jjiNA5q4l5INuK0AwTKYKRj0zQNv5fmq8/DpAaCJseHrtQkB/+zpwzoxKQM3MzMzMeFJAZmZmZmZqWEAAAAAAAFxeQM3MzMzMJmJAmpmZmZkfZUBmZmZmZhhoQDMzMzMzEWtAAAAAAAAKbkBmZmZmZoFwQM3MzMzM/XFAMzMzMzN6c0CamZmZmfZ0QAAAAAAAc3ZAZmZmZmbvd0DNzMzMzGt5QDMzMzMz6HpAmpmZmZlkfEAAAAAAAOF9QGZmZmZmXX9AZmZmZuZsgECamZmZGSuBQM3MzMxM6YFAAAAAAICngkAzMzMzs2WDQGZmZmbmI4RAmpmZmRnihEDNzMzMTKCFQAAAAACAXoZAMzMzM7Mch0BmZmZm5tqHQJqZmZkZmYhAzczMzExXiUAAAAAAgBWKQDMzMzOz04pAZmZmZuaRi0CamZmZGVCMQM3MzMxMDo1AAAAAAIDMjUAzMzMzs4qOQGZmZmbmSI9A\",\"dtype\":\"float64\",\"shape\":[75]}}},\"id\":\"abc2fc1a-e074-4e63-a41d-97aa1e24f932\",\"type\":\"ColumnDataSource\"},{\"attributes\":{\"bottom_units\":\"screen\",\"fill_alpha\":{\"value\":0.5},\"fill_color\":{\"value\":\"lightgrey\"},\"left_units\":\"screen\",\"level\":\"overlay\",\"line_alpha\":{\"value\":1.0},\"line_color\":{\"value\":\"black\"},\"line_dash\":[4,4],\"line_width\":{\"value\":2},\"plot\":null,\"render_mode\":\"css\",\"right_units\":\"screen\",\"top_units\":\"screen\"},\"id\":\"d716bbcd-cbd8-4f8a-8213-34df95f9f700\",\"type\":\"BoxAnnotation\"},{\"attributes\":{\"fill_alpha\":{\"value\":0.7},\"fill_color\":{\"value\":\"#4daf4a\"},\"line_alpha\":{\"value\":0.7},\"line_color\":{\"value\":\"#4daf4a\"},\"x\":{\"field\":\"x\"},\"y\":{\"field\":\"y\"}},\"id\":\"7e5bacac-b1b9-4802-90e4-b50d206bec09\",\"type\":\"Circle\"},{\"attributes\":{\"data_source\":{\"id\":\"3e6164ad-b42c-43af-aa46-223e8728fdb5\",\"type\":\"ColumnDataSource\"},\"glyph\":{\"id\":\"fdd751be-cb02-4a80-b87f-aba228a3133b\",\"type\":\"Square\"},\"hover_glyph\":null,\"muted_glyph\":null,\"nonselection_glyph\":{\"id\":\"ea025d02-d51b-41ac-98e5-612331343f80\",\"type\":\"Square\"},\"selection_glyph\":null,\"view\":{\"id\":\"3961c42c-9313-4c78-bd9d-8c6803b34a7a\",\"type\":\"CDSView\"}},\"id\":\"993c7191-bd84-4321-9ee0-080ee9f94335\",\"type\":\"GlyphRenderer\"},{\"attributes\":{\"callback\":null,\"column_names\":[\"x\",\"y\"],\"data\":{\"x\":{\"__ndarray__\":\"AAAAAAAAAAAAAAAAAAAAAAAAAAAAAAAAAAAAAAAAAAAAAAAAAAAAAAAAAAAAAAAAAAAAAAAAAADGndaerjaBPwAAAAAAAAAAAAAAAAAAAAAAAAAAAAAAAAAAAAAAAAAAAAAAAAAAAAAAAAAAAAAAAAAAAAAAAAAAAAAAAAAAAAAAAAAAAAAAAAAAAAAAAAAAKtE+3tKhKj/fyAL+Xv4yPwAAAAAAAAAAf6nA/N71PD9Fu5TgFTJBP9MJX7+QETY/bpaQ+oa3PT/3L56CxXIxP+lMzZ8UNS4/LFzjRdKIJT+7QrT/9noXPzuAqaHDBhI/ByCR4/ExBD80BC5H01LyPmJPKWg7IOo+/p6zYD1Jtb7rQ5ijjlm+vmy/C956JOi+ZFPzUidn7L5bUKh7sQrxvluHNsYmZ+y+1YCEpAcs875bUKh7sQrxvsIWLb8mZ8w+B3pv/esfJT/CNrVBb3pGP5XgC9bqeV8/lVKMPurgbT+AO2sgZgJ4P/4GxJ+134E/UjhQGkkGiT8b0w7dvteQP1oLft7+o5U/6dbBegk5mj8ShHznT8+eP4i34KIZ36E/MWtkgtqipD8aVqIAEsynP7/+vlsta6s/fKVwYBlrsD9nusofe1mzP5t08z6iSrY/zfZEfs1XuT+1l+H9wG68Pw2bElogi78/DTe/5dplwT9fKhXYjCHDPw6peflj+8Q/4MGJx8ntxj/FdrXkCtLIP7JMv0S8dco/ClPO9mzGyz8Oz33/B9TMP4T98FYKv80/WPeX9jCozj+70H21ernPP4vu7jtludA/\",\"dtype\":\"float64\",\"shape\":[75]},\"y\":{\"__ndarray__\":\"S/O/Q+51ND/430zAtpRIP2vylNV0PVE/QxsjCssuWD/TR4Z78fVgP+inNsRxymc/OuuBfZWvcD/u3TFA02d3P2d3VoBnaoA/CD5h5MAGhz/1pA8HUCaQP+zrCsc9p5Y/Fb7LAKjGnz/nJ9c/SEmmPwBD+fzcQq8/FOZwv9nstT8Er5Y7M8G+P0c+r3jqkcU/yK72qKZBzj+tM989FzjVPxbgmr8yxN0/cOm5AXbg5D+5ctXAf0jtP5kqGJXUifQ/DsrqDELP/D8MCAhBojQEQDItVnmnVwxAiFXNvdHgE0BSSZ2AJuIbQAMJih9jjiNA5q4l5INuK0CPVN/5RT0zQHzxRXu8/DpAOZ7PgHrtQkAg8wGBzoxKQBSTN8DMeFJA2NmQf2ZqWEAAAAAAAFxeQEQX1LfMJmJAmpmZmZkfZUBmZmZmZhhoQLzoK0gzEWtAAAAAAAAKbkCiC+pbZoFwQAhyUMLM/XFA+I2vPTN6c0AQ5KCEmfZ0QAAAAAAAc3ZA8Btfe2bvd0AIclDCzGt5QPeNrz0z6HpAEOSghJlkfEAAAAAAAOF9QKML6ltmXX9ABTkoYeZsgED7xteeGSuBQAhyUMJM6YFAAAAAAICngkD4ja89s2WDQAU5KGHmI4RA+8bXnhnihEAIclDCTKCFQAAAAACAXoZA+I2vPbMch0AFOShh5tqHQPvG154ZmYhACHJQwkxXiUAAAAAAgBWKQPeNrz2z04pABTkoYeaRi0D7xteeGVCMQAlyUMJMDo1AAAAAAIDMjUD3ja89s4qOQGZmZmbmSI9A\",\"dtype\":\"float64\",\"shape\":[75]}}},\"id\":\"d53eb44c-b91b-48f4-adbb-25db60f83787\",\"type\":\"ColumnDataSource\"},{\"attributes\":{\"source\":{\"id\":\"abc2fc1a-e074-4e63-a41d-97aa1e24f932\",\"type\":\"ColumnDataSource\"}},\"id\":\"d0fe2165-f13d-42cb-880b-c971cd6209bc\",\"type\":\"CDSView\"},{\"attributes\":{\"line_color\":\"#4daf4a\",\"line_width\":1.5,\"x\":{\"field\":\"x\"},\"y\":{\"field\":\"y\"}},\"id\":\"0c018a08-44bb-4cde-9a1d-df404c207549\",\"type\":\"Line\"},{\"attributes\":{\"callback\":null,\"column_names\":[\"x\",\"y\"],\"data\":{\"x\":{\"__ndarray__\":\"QbwuQCd+575llX183Ojmvg/SZunQoOW+kfVec7015L7mf16wjbnivrycwbzMK+G+OIH2jnkY37464v2FbbTbviKALgQvKti+fhJgFNZ41L67NRTFfZ/QvoXZ5c4XOcm+PORQRCncwL4ISJN56kauvnBO44WcJ8Y+BjTC0DRW7j4OzPD22CkEP0kaMKm/oBM/MshsGNTDID9fYdr5sK8qPyNHk3bnTTQ/YXgLv0PePT/NQmWM8ONDP8R0LYUMYkQ/s5rGi8R2QD8TDclDk5w4P22ed52x1jE/2nAOOCpXKT9QKZt2ENQhP3fnL79isRg/e/BagfBAED+dqjFUApIDP63BhNvp7vU+P061gUwj5j52d1sK3pLAPo+tGS4bI9e+vWIzMPAw5L4SYYBFmnznvj4wwFHPhuq+IOyy40Ou6r5e+h8XBbPgvvB7/pibTAg/CMB2UPyhMz83+VGk9XRQPyTca1cdv2Q/gsoTZClIcj/sbuarDcB7P72GUKVtCoQ/5P/GLwhdiz8XfC8CXcORP9ek+HaAhZY/FWjk5F/6mj80yX29JUygPxqCAmxGTqI/7SXNAm8TpT81EWi/HUCoP4vLSVVHyKs/EdHOul2nsD+n2n5kAImzP1gtSC3vjrY/pzNpur5luj/TJbMo0re8P5ZFtL4bXb8/2HuVUVZFwT/nSSh48/DCPwpVbrbvpsQ/qQGmEhBsxj81shD9GBPIP6nLZGMenMk/7hH/1MPzyj+iJI3EQxrNP7iPubd6Qc0/pTyL94KezT+2Rp1tsLfOP265fKCjOdA/\",\"dtype\":\"float64\",\"shape\":[75]},\"y\":{\"__ndarray__\":\"GhExyth1ND/Sv8nbtpRIP2vylNV0PVE/aTum7souWD/At0SJ8fVgPw3Iuahxymc/MSNhhJWvcD/bTfBN02d3P2zb5nxnaoA/CD5h5MAGhz8NmeH1TyaQP+zrCsc9p5Y/LbKd76fGnz/bLW5ISEmmPww9YvTcQq8/JV2OstnstT8Er5Y7M8G+P0c+r3jqkcU/5h99k6ZBzj88bCIzFzjVP4enV8oyxN0//yH99nXg5D8qOpLLf0jtP5kqGJXUifQ/c9cS8kHP/D+/DpwzojQEQIEmwoanVwxA4lgXt9HgE0BSSZ2AJuIbQAMJih9jjiNA5q4l5INuK0AwTKYKRj0zQNv5fmq8/DpAaCJseHrtQkB/+zpwzoxKQM3MzMzMeFJAZmZmZmZqWEAAAAAAAFxeQM3MzMzMJmJAmpmZmZkfZUBmZmZmZhhoQDMzMzMzEWtAAAAAAAAKbkBmZmZmZoFwQM3MzMzM/XFAMzMzMzN6c0CamZmZmfZ0QAAAAAAAc3ZAZmZmZmbvd0DNzMzMzGt5QDMzMzMz6HpAmpmZmZlkfEAAAAAAAOF9QGZmZmZmXX9AZmZmZuZsgECamZmZGSuBQM3MzMxM6YFAAAAAAICngkAzMzMzs2WDQGZmZmbmI4RAmpmZmRnihEDNzMzMTKCFQAAAAACAXoZAMzMzM7Mch0BmZmZm5tqHQJqZmZkZmYhAzczMzExXiUAAAAAAgBWKQDMzMzOz04pAZmZmZuaRi0CamZmZGVCMQM3MzMxMDo1AAAAAAIDMjUAzMzMzs4qOQGZmZmbmSI9A\",\"dtype\":\"float64\",\"shape\":[75]}}},\"id\":\"19b88ca5-a3d4-4179-9ceb-f6590d687257\",\"type\":\"ColumnDataSource\"},{\"attributes\":{\"line_alpha\":0.1,\"line_color\":\"#1f77b4\",\"line_width\":1.5,\"x\":{\"field\":\"x\"},\"y\":{\"field\":\"y\"}},\"id\":\"495d8723-6315-4df2-bbd9-962c3a5264ab\",\"type\":\"Line\"},{\"attributes\":{\"data_source\":{\"id\":\"7c753e06-2962-4e42-a338-6c0ce95e383c\",\"type\":\"ColumnDataSource\"},\"glyph\":{\"id\":\"0c018a08-44bb-4cde-9a1d-df404c207549\",\"type\":\"Line\"},\"hover_glyph\":null,\"muted_glyph\":null,\"nonselection_glyph\":{\"id\":\"495d8723-6315-4df2-bbd9-962c3a5264ab\",\"type\":\"Line\"},\"selection_glyph\":null,\"view\":{\"id\":\"4fd54d79-e2d6-40c5-92bc-5d38d8109401\",\"type\":\"CDSView\"}},\"id\":\"a047f67c-8185-480a-9519-3c67e43cf43d\",\"type\":\"GlyphRenderer\"},{\"attributes\":{\"source\":{\"id\":\"7c753e06-2962-4e42-a338-6c0ce95e383c\",\"type\":\"ColumnDataSource\"}},\"id\":\"4fd54d79-e2d6-40c5-92bc-5d38d8109401\",\"type\":\"CDSView\"},{\"attributes\":{},\"id\":\"7addd74b-006f-4d05-a40e-6acb22c52dd1\",\"type\":\"HelpTool\"},{\"attributes\":{},\"id\":\"d56faa13-a911-4890-991c-5546b76551ed\",\"type\":\"BasicTickFormatter\"},{\"attributes\":{\"fill_alpha\":{\"value\":0.7},\"fill_color\":{\"value\":\"#984ea3\"},\"line_alpha\":{\"value\":0.7},\"line_color\":{\"value\":\"#984ea3\"},\"x\":{\"field\":\"x\"},\"y\":{\"field\":\"y\"}},\"id\":\"fdd751be-cb02-4a80-b87f-aba228a3133b\",\"type\":\"Square\"},{\"attributes\":{\"fill_alpha\":{\"value\":0.1},\"fill_color\":{\"value\":\"#1f77b4\"},\"line_alpha\":{\"value\":0.1},\"line_color\":{\"value\":\"#1f77b4\"},\"x\":{\"field\":\"x\"},\"y\":{\"field\":\"y\"}},\"id\":\"ea025d02-d51b-41ac-98e5-612331343f80\",\"type\":\"Square\"},{\"attributes\":{},\"id\":\"fb2be5cc-48e5-4c6e-a2b0-e4cd09deb8be\",\"type\":\"SaveTool\"},{\"attributes\":{\"callback\":null,\"end\":0.00128105595036,\"start\":-3.114858636e-05},\"id\":\"8c003773-c0a3-44e5-bdf4-2c0ebf746438\",\"type\":\"Range1d\"},{\"attributes\":{\"data_source\":{\"id\":\"19b88ca5-a3d4-4179-9ceb-f6590d687257\",\"type\":\"ColumnDataSource\"},\"glyph\":{\"id\":\"b559a499-b6c1-4ab1-bf70-7385848e4478\",\"type\":\"Line\"},\"hover_glyph\":null,\"muted_glyph\":null,\"nonselection_glyph\":{\"id\":\"c5fe6e47-ba77-4492-b65e-67511c221c6d\",\"type\":\"Line\"},\"selection_glyph\":null,\"view\":{\"id\":\"4ad8a56c-f4ce-4fb6-aebf-bb169a6466fc\",\"type\":\"CDSView\"}},\"id\":\"2ef6e436-99c9-44df-a196-7e470fcbd5ce\",\"type\":\"GlyphRenderer\"},{\"attributes\":{\"tools\":[{\"id\":\"160e0194-a164-4be8-95ae-eef6237dcf5f\",\"type\":\"PanTool\"},{\"id\":\"1539281f-a1d9-4849-a285-850059c7c97f\",\"type\":\"WheelZoomTool\"},{\"id\":\"a99e8715-49d7-412e-ad7e-c15a8ff4adc3\",\"type\":\"BoxZoomTool\"},{\"id\":\"2e7f8b38-bb5c-446b-bc0c-15554caa36e0\",\"type\":\"SaveTool\"},{\"id\":\"b2932d53-47db-492b-a901-6b286f29759e\",\"type\":\"ResetTool\"},{\"id\":\"2858f459-8160-4d4f-8de6-ef167d2c957e\",\"type\":\"HelpTool\"},{\"id\":\"98ca6e30-21bf-418e-88be-9d4e6bb91da4\",\"type\":\"PanTool\"},{\"id\":\"f600714c-8410-4665-842a-d40cc0b2da3d\",\"type\":\"WheelZoomTool\"},{\"id\":\"30e4f2df-6e9a-4414-ad83-462f3cc7c768\",\"type\":\"BoxZoomTool\"},{\"id\":\"fb2be5cc-48e5-4c6e-a2b0-e4cd09deb8be\",\"type\":\"SaveTool\"},{\"id\":\"c39a5834-7ec9-4353-addc-f2f672b5df84\",\"type\":\"ResetTool\"},{\"id\":\"7addd74b-006f-4d05-a40e-6acb22c52dd1\",\"type\":\"HelpTool\"}]},\"id\":\"ec32b91c-ac57-4128-a462-1f02546a7c17\",\"type\":\"ProxyToolbar\"},{\"attributes\":{\"source\":{\"id\":\"3e6164ad-b42c-43af-aa46-223e8728fdb5\",\"type\":\"ColumnDataSource\"}},\"id\":\"3961c42c-9313-4c78-bd9d-8c6803b34a7a\",\"type\":\"CDSView\"},{\"attributes\":{\"line_alpha\":0.6,\"line_color\":\"#984ea3\",\"line_width\":3,\"x\":{\"field\":\"x\"},\"y\":{\"field\":\"y\"}},\"id\":\"b559a499-b6c1-4ab1-bf70-7385848e4478\",\"type\":\"Line\"},{\"attributes\":{\"line_alpha\":0.1,\"line_color\":\"#1f77b4\",\"line_width\":3,\"x\":{\"field\":\"x\"},\"y\":{\"field\":\"y\"}},\"id\":\"c5fe6e47-ba77-4492-b65e-67511c221c6d\",\"type\":\"Line\"},{\"attributes\":{\"label\":{\"value\":\"CRD\"},\"renderers\":[{\"id\":\"5df05bf3-019c-41a4-b078-0b2183fc8c01\",\"type\":\"GlyphRenderer\"},{\"id\":\"a047f67c-8185-480a-9519-3c67e43cf43d\",\"type\":\"GlyphRenderer\"}]},\"id\":\"bcea1848-4126-449e-a10d-3503798c298f\",\"type\":\"LegendItem\"},{\"attributes\":{\"children\":[{\"id\":\"3e97d728-b9d8-430b-a03c-ab63ea659e8c\",\"type\":\"ToolbarBox\"},{\"id\":\"9cacd66f-64c8-4f72-9d43-01772b6259c0\",\"type\":\"Column\"}]},\"id\":\"d3e6dace-55f0-4523-af87-ccbf9d795f08\",\"type\":\"Column\"},{\"attributes\":{\"source\":{\"id\":\"19b88ca5-a3d4-4179-9ceb-f6590d687257\",\"type\":\"ColumnDataSource\"}},\"id\":\"4ad8a56c-f4ce-4fb6-aebf-bb169a6466fc\",\"type\":\"CDSView\"},{\"attributes\":{\"items\":[{\"id\":\"ff8afdb2-2344-42d4-b495-412dd0dededd\",\"type\":\"LegendItem\"},{\"id\":\"bcea1848-4126-449e-a10d-3503798c298f\",\"type\":\"LegendItem\"},{\"id\":\"6c61ecad-e328-4ed7-9b7d-ba4944a67601\",\"type\":\"LegendItem\"}],\"label_text_font_size\":{\"value\":\"8pt\"},\"location\":[10,-30],\"plot\":{\"id\":\"c469c456-a0bf-4daf-882f-7ceba5f7682c\",\"subtype\":\"Figure\",\"type\":\"Plot\"}},\"id\":\"0615fddb-a674-4e60-a030-c8145ff9ab0d\",\"type\":\"Legend\"},{\"attributes\":{\"callback\":null,\"column_names\":[\"x\",\"y\"],\"data\":{\"x\":{\"__ndarray__\":\"AAAAAAAAAAAAAAAAAAAAAAAAAAAAAAAAAAAAAAAAAAAAAAAAAAAAAAAAAAAAAAAAAAAAAAAAAADGndaerjaBPwAAAAAAAAAAAAAAAAAAAAAAAAAAAAAAAAAAAAAAAAAAAAAAAAAAAAAAAAAAAAAAAAAAAAAAAAAAAAAAAAAAAAAAAAAAAAAAAAAAAAAAAAAAKtE+3tKhKj/fyAL+Xv4yPwAAAAAAAAAAf6nA/N71PD9Fu5TgFTJBP9MJX7+QETY/bpaQ+oa3PT/3L56CxXIxP+lMzZ8UNS4/LFzjRdKIJT+7QrT/9noXPzuAqaHDBhI/ByCR4/ExBD80BC5H01LyPmJPKWg7IOo+/p6zYD1Jtb7rQ5ijjlm+vmy/C956JOi+ZFPzUidn7L5bUKh7sQrxvluHNsYmZ+y+1YCEpAcs875bUKh7sQrxvsIWLb8mZ8w+B3pv/esfJT/CNrVBb3pGP5XgC9bqeV8/lVKMPurgbT+AO2sgZgJ4P/4GxJ+134E/UjhQGkkGiT8b0w7dvteQP1oLft7+o5U/6dbBegk5mj8ShHznT8+eP4i34KIZ36E/MWtkgtqipD8aVqIAEsynP7/+vlsta6s/fKVwYBlrsD9nusofe1mzP5t08z6iSrY/zfZEfs1XuT+1l+H9wG68Pw2bElogi78/DTe/5dplwT9fKhXYjCHDPw6peflj+8Q/4MGJx8ntxj/FdrXkCtLIP7JMv0S8dco/ClPO9mzGyz8Oz33/B9TMP4T98FYKv80/WPeX9jCozj+70H21ernPP4vu7jtludA/\",\"dtype\":\"float64\",\"shape\":[75]},\"y\":{\"__ndarray__\":\"S/O/Q+51ND/430zAtpRIP2vylNV0PVE/QxsjCssuWD/TR4Z78fVgP+inNsRxymc/OuuBfZWvcD/u3TFA02d3P2d3VoBnaoA/CD5h5MAGhz/1pA8HUCaQP+zrCsc9p5Y/Fb7LAKjGnz/nJ9c/SEmmPwBD+fzcQq8/FOZwv9nstT8Er5Y7M8G+P0c+r3jqkcU/yK72qKZBzj+tM989FzjVPxbgmr8yxN0/cOm5AXbg5D+5ctXAf0jtP5kqGJXUifQ/DsrqDELP/D8MCAhBojQEQDItVnmnVwxAiFXNvdHgE0BSSZ2AJuIbQAMJih9jjiNA5q4l5INuK0CPVN/5RT0zQHzxRXu8/DpAOZ7PgHrtQkAg8wGBzoxKQBSTN8DMeFJA2NmQf2ZqWEAAAAAAAFxeQEQX1LfMJmJAmpmZmZkfZUBmZmZmZhhoQLzoK0gzEWtAAAAAAAAKbkCiC+pbZoFwQAhyUMLM/XFA+I2vPTN6c0AQ5KCEmfZ0QAAAAAAAc3ZA8Btfe2bvd0AIclDCzGt5QPeNrz0z6HpAEOSghJlkfEAAAAAAAOF9QKML6ltmXX9ABTkoYeZsgED7xteeGSuBQAhyUMJM6YFAAAAAAICngkD4ja89s2WDQAU5KGHmI4RA+8bXnhnihEAIclDCTKCFQAAAAACAXoZA+I2vPbMch0AFOShh5tqHQPvG154ZmYhACHJQwkxXiUAAAAAAgBWKQPeNrz2z04pABTkoYeaRi0D7xteeGVCMQAlyUMJMDo1AAAAAAIDMjUD3ja89s4qOQGZmZmbmSI9A\",\"dtype\":\"float64\",\"shape\":[75]}}},\"id\":\"d6ef07aa-a27b-4971-9532-6ac58b644499\",\"type\":\"ColumnDataSource\"},{\"attributes\":{\"active_drag\":\"auto\",\"active_inspect\":\"auto\",\"active_scroll\":\"auto\",\"active_tap\":\"auto\",\"tools\":[{\"id\":\"160e0194-a164-4be8-95ae-eef6237dcf5f\",\"type\":\"PanTool\"},{\"id\":\"1539281f-a1d9-4849-a285-850059c7c97f\",\"type\":\"WheelZoomTool\"},{\"id\":\"a99e8715-49d7-412e-ad7e-c15a8ff4adc3\",\"type\":\"BoxZoomTool\"},{\"id\":\"2e7f8b38-bb5c-446b-bc0c-15554caa36e0\",\"type\":\"SaveTool\"},{\"id\":\"b2932d53-47db-492b-a901-6b286f29759e\",\"type\":\"ResetTool\"},{\"id\":\"2858f459-8160-4d4f-8de6-ef167d2c957e\",\"type\":\"HelpTool\"}]},\"id\":\"da62a68f-da81-4968-a0ec-4d07758340ae\",\"type\":\"Toolbar\"},{\"attributes\":{\"label\":{\"value\":\"CLIRAD `coolr_bands`\"},\"renderers\":[{\"id\":\"bcf30b18-111f-4839-89bf-c0efcbaa9303\",\"type\":\"GlyphRenderer\"}]},\"id\":\"ff8afdb2-2344-42d4-b495-412dd0dededd\",\"type\":\"LegendItem\"},{\"attributes\":{\"fill_alpha\":{\"value\":0.7},\"fill_color\":{\"value\":\"#4daf4a\"},\"line_alpha\":{\"value\":0.7},\"line_color\":{\"value\":\"#4daf4a\"},\"x\":{\"field\":\"x\"},\"y\":{\"field\":\"y\"}},\"id\":\"a4111d08-789c-4353-877c-be77bb421025\",\"type\":\"Circle\"},{\"attributes\":{},\"id\":\"f600714c-8410-4665-842a-d40cc0b2da3d\",\"type\":\"WheelZoomTool\"},{\"attributes\":{\"callback\":null,\"column_names\":[\"x\",\"y\"],\"data\":{\"x\":{\"__ndarray__\":\"1K2ij08S3763CIRt3HLcvp0n1UFvtta+AriDgMhi0L5YPfOCX4/DvtFIqSSBJ6e+c+4mpv8bsT6isJeSs3zHPssRsNC1g9M+wMw7rH6Y2z45S0zsO//hPsIkM7LnW+Y+ijMXUPfj6j6VMc/V+ufvPmAH+P9O9fc+eqqiLfYxCT+ENJP6n88ZP/0dlIp90SY/hn9JqzKOMj92STIbJKo8Px3qZfPoXkU/iTkieNH3Tj+SeVP2fmhUPysqqe4tx1Q/b5vNjee/UD8IroBQLfhIPyUdXfOpCEI/ru6ZY0CIOT/VwYXTY/QxP5ui1k6x/ig/XohVe1GtID+UWNX0o/MUP28/T+2e4wk/KM4dyd0HAD9LNcOR8crwPncJfN5U6tA+sSp4+nguwb7OotEYlGbSvjmYZT+Hitq+uc1CzF+/2b7nyEZFRHHUPhxtzkrvmxg/fXA/4/BwPD9/yTUhh2pVP/rDmvsA7Gg/HUxGclLIdD9Ne/FeYXx+P0VLLXr4SYU/eUcwT5OLjD+LHtzDfH6SPyPup4IuOpc/98U7Rs3lmz/5Pt2/AGKgP71zu6YmEqM/9h0u/0ILpj+fWNy8x1KpP4HcWjPt86w/xBJvmscssT8BZvvmtxW0P3PKHeKRC7c/4l0N1FIOuj/uFcxO9Rq9P6oOmAuFHcA/aDef35y2wT9omaDhKFTDPxXhaL+c9sQ/YMp+5VqXxj/KpIY2ABvIP18eOlaMZ8k/rmcIxyx7yj+FW4CuZGTLPzetkMkUOcw/1EjoujIgzT8GT3wQXSvOP2oEsDu8688/\",\"dtype\":\"float64\",\"shape\":[75]},\"y\":{\"__ndarray__\":\"GhExyth1ND/Sv8nbtpRIP2vylNV0PVE/aTum7souWD/At0SJ8fVgPw3Iuahxymc/MSNhhJWvcD/bTfBN02d3P2zb5nxnaoA/CD5h5MAGhz8NmeH1TyaQP+zrCsc9p5Y/LbKd76fGnz/bLW5ISEmmPww9YvTcQq8/JV2OstnstT8Er5Y7M8G+P0c+r3jqkcU/5h99k6ZBzj88bCIzFzjVP4enV8oyxN0//yH99nXg5D8qOpLLf0jtP5kqGJXUifQ/c9cS8kHP/D+/DpwzojQEQIEmwoanVwxA4lgXt9HgE0BSSZ2AJuIbQAMJih9jjiNA5q4l5INuK0AwTKYKRj0zQNv5fmq8/DpAaCJseHrtQkB/+zpwzoxKQM3MzMzMeFJAZmZmZmZqWEAAAAAAAFxeQM3MzMzMJmJAmpmZmZkfZUBmZmZmZhhoQDMzMzMzEWtAAAAAAAAKbkBmZmZmZoFwQM3MzMzM/XFAMzMzMzN6c0CamZmZmfZ0QAAAAAAAc3ZAZmZmZmbvd0DNzMzMzGt5QDMzMzMz6HpAmpmZmZlkfEAAAAAAAOF9QGZmZmZmXX9AZmZmZuZsgECamZmZGSuBQM3MzMxM6YFAAAAAAICngkAzMzMzs2WDQGZmZmbmI4RAmpmZmRnihEDNzMzMTKCFQAAAAACAXoZAMzMzM7Mch0BmZmZm5tqHQJqZmZkZmYhAzczMzExXiUAAAAAAgBWKQDMzMzOz04pAZmZmZuaRi0CamZmZGVCMQM3MzMxMDo1AAAAAAIDMjUAzMzMzs4qOQGZmZmbmSI9A\",\"dtype\":\"float64\",\"shape\":[75]}}},\"id\":\"24747192-562f-40f5-be16-fd8b91f34e09\",\"type\":\"ColumnDataSource\"},{\"attributes\":{\"fill_alpha\":{\"value\":0.1},\"fill_color\":{\"value\":\"#1f77b4\"},\"line_alpha\":{\"value\":0.1},\"line_color\":{\"value\":\"#1f77b4\"},\"x\":{\"field\":\"x\"},\"y\":{\"field\":\"y\"}},\"id\":\"b128430a-3783-47c8-9ef0-82d6eaf59a79\",\"type\":\"Circle\"},{\"attributes\":{\"dimension\":1,\"plot\":{\"id\":\"c469c456-a0bf-4daf-882f-7ceba5f7682c\",\"subtype\":\"Figure\",\"type\":\"Plot\"},\"ticker\":{\"id\":\"3ac9f279-fa9e-44f4-a2c5-d9b64ebc8729\",\"type\":\"LogTicker\"}},\"id\":\"7cb18fcf-edb0-4310-9795-884df27a96a7\",\"type\":\"Grid\"},{\"attributes\":{\"line_alpha\":0.6,\"line_color\":\"#e41a1c\",\"line_dash\":[6],\"line_width\":5,\"x\":{\"field\":\"x\"},\"y\":{\"field\":\"y\"}},\"id\":\"770c3c8e-6c8a-4f0f-b05a-feff0cc49fd0\",\"type\":\"Line\"},{\"attributes\":{\"label\":{\"value\":\"WGT igg=10 wgt_flux=2\"},\"renderers\":[{\"id\":\"993c7191-bd84-4321-9ee0-080ee9f94335\",\"type\":\"GlyphRenderer\"},{\"id\":\"2ef6e436-99c9-44df-a196-7e470fcbd5ce\",\"type\":\"GlyphRenderer\"}]},\"id\":\"6c61ecad-e328-4ed7-9b7d-ba4944a67601\",\"type\":\"LegendItem\"},{\"attributes\":{\"below\":[{\"id\":\"74c34c9f-30c3-4964-85fd-72a24f46be83\",\"type\":\"LinearAxis\"}],\"left\":[{\"id\":\"cfa0dfdd-1cde-4d09-9d6f-f78d25518573\",\"type\":\"LinearAxis\"}],\"plot_height\":500,\"plot_width\":400,\"renderers\":[{\"id\":\"74c34c9f-30c3-4964-85fd-72a24f46be83\",\"type\":\"LinearAxis\"},{\"id\":\"1df1d5e0-5354-4ebb-a4c5-f35ba67e8c2b\",\"type\":\"Grid\"},{\"id\":\"cfa0dfdd-1cde-4d09-9d6f-f78d25518573\",\"type\":\"LinearAxis\"},{\"id\":\"2082e966-8beb-492e-a406-90612009315e\",\"type\":\"Grid\"},{\"id\":\"95b5ffcb-5503-495f-a839-1c574d6eeb24\",\"type\":\"BoxAnnotation\"},{\"id\":\"20047e02-a31e-4ece-b6dd-ac0bd6d2c1af\",\"type\":\"GlyphRenderer\"},{\"id\":\"f457319a-f931-4a17-95c7-7469ceede12e\",\"type\":\"GlyphRenderer\"},{\"id\":\"f28147d7-367c-4224-a85b-950c7151ad91\",\"type\":\"GlyphRenderer\"},{\"id\":\"c1eee174-21dd-4add-a2cd-01e3a61c7d2c\",\"type\":\"GlyphRenderer\"},{\"id\":\"d2a54334-025c-4923-b26c-5c6241d98722\",\"type\":\"GlyphRenderer\"}],\"title\":{\"id\":\"0ed2c84c-b718-42bb-8c68-ebb7e7449440\",\"type\":\"Title\"},\"toolbar\":{\"id\":\"da62a68f-da81-4968-a0ec-4d07758340ae\",\"type\":\"Toolbar\"},\"toolbar_location\":null,\"x_range\":{\"id\":\"065547a4-7518-4c64-b948-9cb026b39117\",\"type\":\"Range1d\"},\"x_scale\":{\"id\":\"22e787be-e48f-472c-be24-e7468973c768\",\"type\":\"LinearScale\"},\"y_range\":{\"id\":\"56832736-4ea3-4eff-95c6-2f46e305da55\",\"type\":\"Range1d\"},\"y_scale\":{\"id\":\"fd0b18ac-d3fc-4686-b4ef-9b3389183d80\",\"type\":\"LinearScale\"}},\"id\":\"3598b405-f52c-47b5-bb6a-777f009d6a50\",\"subtype\":\"Figure\",\"type\":\"Plot\"},{\"attributes\":{\"callback\":null,\"end\":0.01,\"start\":1020},\"id\":\"e87747b0-e777-4bb0-be74-0d0fdfdf361e\",\"type\":\"Range1d\"},{\"attributes\":{\"plot\":null,\"text\":\"Linear pressure scale\"},\"id\":\"0ed2c84c-b718-42bb-8c68-ebb7e7449440\",\"type\":\"Title\"},{\"attributes\":{},\"id\":\"98ca6e30-21bf-418e-88be-9d4e6bb91da4\",\"type\":\"PanTool\"},{\"attributes\":{\"line_alpha\":0.6,\"line_color\":\"#e41a1c\",\"line_dash\":[6],\"line_width\":5,\"x\":{\"field\":\"x\"},\"y\":{\"field\":\"y\"}},\"id\":\"be0d1faf-c75d-4157-992b-2d0264b61646\",\"type\":\"Line\"}],\"root_ids\":[\"d3e6dace-55f0-4523-af87-ccbf9d795f08\"]},\"title\":\"Bokeh Application\",\"version\":\"0.12.14\"}};\n",
       "  var render_items = [{\"docid\":\"5232c96d-4a3f-46f8-b9a0-3045bb261b4e\",\"elementid\":\"b5299bc0-0a49-47e5-b48e-8eff9b7e8af1\",\"modelid\":\"d3e6dace-55f0-4523-af87-ccbf9d795f08\"}];\n",
       "  root.Bokeh.embed.embed_items_notebook(docs_json, render_items);\n",
       "\n",
       "  }\n",
       "  if (root.Bokeh !== undefined) {\n",
       "    embed_document(root);\n",
       "  } else {\n",
       "    var attempts = 0;\n",
       "    var timer = setInterval(function(root) {\n",
       "      if (root.Bokeh !== undefined) {\n",
       "        embed_document(root);\n",
       "        clearInterval(timer);\n",
       "      }\n",
       "      attempts++;\n",
       "      if (attempts > 100) {\n",
       "        console.log(\"Bokeh: ERROR: Unable to run BokehJS code because BokehJS library is missing\")\n",
       "        clearInterval(timer);\n",
       "      }\n",
       "    }, 10, root)\n",
       "  }\n",
       "})(window);"
      ],
      "application/vnd.bokehjs_exec.v0+json": ""
     },
     "metadata": {
      "application/vnd.bokehjs_exec.v0+json": {
       "id": "d3e6dace-55f0-4523-af87-ccbf9d795f08"
      }
     },
     "output_type": "display_data"
    },
    {
     "name": "stdout",
     "output_type": "stream",
     "text": [
      "FIGURE. Cooling rate profiles.\n"
     ]
    },
    {
     "data": {
      "text/html": [
       "<a id=\"Flux_Comparison\"></a>"
      ],
      "text/plain": [
       "<IPython.core.display.HTML object>"
      ]
     },
     "metadata": {},
     "output_type": "display_data"
    },
    {
     "data": {
      "text/markdown": [
       "# Flux Comparison"
      ],
      "text/plain": [
       "<IPython.core.display.Markdown object>"
      ]
     },
     "metadata": {},
     "output_type": "display_data"
    },
    {
     "data": {
      "text/html": [
       "<div>\n",
       "<style>\n",
       "    .dataframe thead tr:only-child th {\n",
       "        text-align: right;\n",
       "    }\n",
       "\n",
       "    .dataframe thead th {\n",
       "        text-align: left;\n",
       "    }\n",
       "\n",
       "    .dataframe tbody tr th {\n",
       "        vertical-align: top;\n",
       "    }\n",
       "</style>\n",
       "<table border=\"1\" class=\"dataframe\">\n",
       "  <thead>\n",
       "    <tr style=\"text-align: right;\">\n",
       "      <th></th>\n",
       "      <th></th>\n",
       "      <th>flug</th>\n",
       "      <th>fldg</th>\n",
       "      <th>fnetg</th>\n",
       "    </tr>\n",
       "    <tr>\n",
       "      <th>pressure</th>\n",
       "      <th>level</th>\n",
       "      <th></th>\n",
       "      <th></th>\n",
       "      <th></th>\n",
       "    </tr>\n",
       "  </thead>\n",
       "  <tbody>\n",
       "    <tr>\n",
       "      <th>0.0000</th>\n",
       "      <th>1</th>\n",
       "      <td>-30.780449</td>\n",
       "      <td>0.000000</td>\n",
       "      <td>-30.780449</td>\n",
       "    </tr>\n",
       "    <tr>\n",
       "      <th>1.0685</th>\n",
       "      <th>24</th>\n",
       "      <td>-30.780442</td>\n",
       "      <td>0.000038</td>\n",
       "      <td>-30.780404</td>\n",
       "    </tr>\n",
       "    <tr>\n",
       "      <th>1013.0000</th>\n",
       "      <th>76</th>\n",
       "      <td>-32.637543</td>\n",
       "      <td>11.096519</td>\n",
       "      <td>-21.541024</td>\n",
       "    </tr>\n",
       "  </tbody>\n",
       "</table>\n",
       "</div>"
      ],
      "text/plain": [
       "                      flug       fldg      fnetg\n",
       "pressure  level                                 \n",
       "0.0000    1     -30.780449   0.000000 -30.780449\n",
       "1.0685    24    -30.780442   0.000038 -30.780404\n",
       "1013.0000 76    -32.637543  11.096519 -21.541024"
      ]
     },
     "metadata": {},
     "output_type": "display_data"
    },
    {
     "name": "stdout",
     "output_type": "stream",
     "text": [
      "Table. Fluxes. WGT igg=10 wgt_flux=1\n"
     ]
    },
    {
     "data": {
      "text/html": [
       "<div>\n",
       "<style>\n",
       "    .dataframe thead tr:only-child th {\n",
       "        text-align: right;\n",
       "    }\n",
       "\n",
       "    .dataframe thead th {\n",
       "        text-align: left;\n",
       "    }\n",
       "\n",
       "    .dataframe tbody tr th {\n",
       "        vertical-align: top;\n",
       "    }\n",
       "</style>\n",
       "<table border=\"1\" class=\"dataframe\">\n",
       "  <thead>\n",
       "    <tr style=\"text-align: right;\">\n",
       "      <th></th>\n",
       "      <th></th>\n",
       "      <th>flug</th>\n",
       "      <th>fldg</th>\n",
       "      <th>fnetg</th>\n",
       "    </tr>\n",
       "    <tr>\n",
       "      <th>pressure</th>\n",
       "      <th>level</th>\n",
       "      <th></th>\n",
       "      <th></th>\n",
       "      <th></th>\n",
       "    </tr>\n",
       "  </thead>\n",
       "  <tbody>\n",
       "    <tr>\n",
       "      <th>0.0000</th>\n",
       "      <th>1</th>\n",
       "      <td>-30.741611</td>\n",
       "      <td>0.000000</td>\n",
       "      <td>-30.741611</td>\n",
       "    </tr>\n",
       "    <tr>\n",
       "      <th>1.0685</th>\n",
       "      <th>24</th>\n",
       "      <td>-30.741592</td>\n",
       "      <td>0.000073</td>\n",
       "      <td>-30.741519</td>\n",
       "    </tr>\n",
       "    <tr>\n",
       "      <th>1013.0000</th>\n",
       "      <th>76</th>\n",
       "      <td>-32.637543</td>\n",
       "      <td>11.121411</td>\n",
       "      <td>-21.516132</td>\n",
       "    </tr>\n",
       "  </tbody>\n",
       "</table>\n",
       "</div>"
      ],
      "text/plain": [
       "                      flug       fldg      fnetg\n",
       "pressure  level                                 \n",
       "0.0000    1     -30.741611   0.000000 -30.741611\n",
       "1.0685    24    -30.741592   0.000073 -30.741519\n",
       "1013.0000 76    -32.637543  11.121411 -21.516132"
      ]
     },
     "metadata": {},
     "output_type": "display_data"
    },
    {
     "name": "stdout",
     "output_type": "stream",
     "text": [
      "Table. Fluxes. CRD\n"
     ]
    },
    {
     "data": {
      "text/html": [
       "<div>\n",
       "<style>\n",
       "    .dataframe thead tr:only-child th {\n",
       "        text-align: right;\n",
       "    }\n",
       "\n",
       "    .dataframe thead th {\n",
       "        text-align: left;\n",
       "    }\n",
       "\n",
       "    .dataframe tbody tr th {\n",
       "        vertical-align: top;\n",
       "    }\n",
       "</style>\n",
       "<table border=\"1\" class=\"dataframe\">\n",
       "  <thead>\n",
       "    <tr style=\"text-align: right;\">\n",
       "      <th></th>\n",
       "      <th></th>\n",
       "      <th>flug</th>\n",
       "      <th>fldg</th>\n",
       "      <th>fnetg</th>\n",
       "    </tr>\n",
       "    <tr>\n",
       "      <th>pressure</th>\n",
       "      <th>level</th>\n",
       "      <th></th>\n",
       "      <th></th>\n",
       "      <th></th>\n",
       "    </tr>\n",
       "  </thead>\n",
       "  <tbody>\n",
       "    <tr>\n",
       "      <th>1.000000e-08</th>\n",
       "      <th>1</th>\n",
       "      <td>-30.809696</td>\n",
       "      <td>9.536743e-07</td>\n",
       "      <td>-30.809696</td>\n",
       "    </tr>\n",
       "    <tr>\n",
       "      <th>1.068500e+00</th>\n",
       "      <th>24</th>\n",
       "      <td>-30.809689</td>\n",
       "      <td>3.004074e-05</td>\n",
       "      <td>-30.809658</td>\n",
       "    </tr>\n",
       "    <tr>\n",
       "      <th>1.013000e+03</th>\n",
       "      <th>76</th>\n",
       "      <td>-32.637539</td>\n",
       "      <td>1.116256e+01</td>\n",
       "      <td>-21.474983</td>\n",
       "    </tr>\n",
       "  </tbody>\n",
       "</table>\n",
       "</div>"
      ],
      "text/plain": [
       "                         flug          fldg      fnetg\n",
       "pressure     level                                    \n",
       "1.000000e-08 1     -30.809696  9.536743e-07 -30.809696\n",
       "1.068500e+00 24    -30.809689  3.004074e-05 -30.809658\n",
       "1.013000e+03 76    -32.637539  1.116256e+01 -21.474983"
      ]
     },
     "metadata": {},
     "output_type": "display_data"
    },
    {
     "name": "stdout",
     "output_type": "stream",
     "text": [
      "Table. Fluxes. CLIRAD\n"
     ]
    },
    {
     "data": {
      "text/html": [
       "<div>\n",
       "<style>\n",
       "    .dataframe thead tr:only-child th {\n",
       "        text-align: right;\n",
       "    }\n",
       "\n",
       "    .dataframe thead th {\n",
       "        text-align: left;\n",
       "    }\n",
       "\n",
       "    .dataframe tbody tr th {\n",
       "        vertical-align: top;\n",
       "    }\n",
       "</style>\n",
       "<table border=\"1\" class=\"dataframe\">\n",
       "  <thead>\n",
       "    <tr style=\"text-align: right;\">\n",
       "      <th></th>\n",
       "      <th></th>\n",
       "      <th>flug</th>\n",
       "      <th>fldg</th>\n",
       "      <th>fnetg</th>\n",
       "    </tr>\n",
       "    <tr>\n",
       "      <th>pressure</th>\n",
       "      <th>level</th>\n",
       "      <th></th>\n",
       "      <th></th>\n",
       "      <th></th>\n",
       "    </tr>\n",
       "  </thead>\n",
       "  <tbody>\n",
       "    <tr>\n",
       "      <th>0.0000</th>\n",
       "      <th>1</th>\n",
       "      <td>3.883752e-02</td>\n",
       "      <td>0.000000</td>\n",
       "      <td>0.038838</td>\n",
       "    </tr>\n",
       "    <tr>\n",
       "      <th>1.0685</th>\n",
       "      <th>24</th>\n",
       "      <td>3.884986e-02</td>\n",
       "      <td>0.000035</td>\n",
       "      <td>0.038885</td>\n",
       "    </tr>\n",
       "    <tr>\n",
       "      <th>1013.0000</th>\n",
       "      <th>76</th>\n",
       "      <td>9.000000e-08</td>\n",
       "      <td>0.024892</td>\n",
       "      <td>0.024892</td>\n",
       "    </tr>\n",
       "  </tbody>\n",
       "</table>\n",
       "</div>"
      ],
      "text/plain": [
       "                         flug      fldg     fnetg\n",
       "pressure  level                                  \n",
       "0.0000    1      3.883752e-02  0.000000  0.038838\n",
       "1.0685    24     3.884986e-02  0.000035  0.038885\n",
       "1013.0000 76     9.000000e-08  0.024892  0.024892"
      ]
     },
     "metadata": {},
     "output_type": "display_data"
    },
    {
     "name": "stdout",
     "output_type": "stream",
     "text": [
      "Table. Fluxes. (CRD) - (WGT igg=10 wgt_flux=1)\n"
     ]
    },
    {
     "data": {
      "text/html": [
       "<div>\n",
       "<style>\n",
       "    .dataframe thead tr:only-child th {\n",
       "        text-align: right;\n",
       "    }\n",
       "\n",
       "    .dataframe thead th {\n",
       "        text-align: left;\n",
       "    }\n",
       "\n",
       "    .dataframe tbody tr th {\n",
       "        vertical-align: top;\n",
       "    }\n",
       "</style>\n",
       "<table border=\"1\" class=\"dataframe\">\n",
       "  <thead>\n",
       "    <tr style=\"text-align: right;\">\n",
       "      <th></th>\n",
       "      <th></th>\n",
       "      <th>flug</th>\n",
       "      <th>fldg</th>\n",
       "      <th>fnetg</th>\n",
       "    </tr>\n",
       "    <tr>\n",
       "      <th>pressure</th>\n",
       "      <th>level</th>\n",
       "      <th></th>\n",
       "      <th></th>\n",
       "      <th></th>\n",
       "    </tr>\n",
       "  </thead>\n",
       "  <tbody>\n",
       "    <tr>\n",
       "      <th>0.0000</th>\n",
       "      <th>1</th>\n",
       "      <td>-0.029247</td>\n",
       "      <td>9.536743e-07</td>\n",
       "      <td>-0.029247</td>\n",
       "    </tr>\n",
       "    <tr>\n",
       "      <th>1.0685</th>\n",
       "      <th>24</th>\n",
       "      <td>-0.029247</td>\n",
       "      <td>-7.529351e-06</td>\n",
       "      <td>-0.029254</td>\n",
       "    </tr>\n",
       "    <tr>\n",
       "      <th>1013.0000</th>\n",
       "      <th>76</th>\n",
       "      <td>0.000004</td>\n",
       "      <td>6.603730e-02</td>\n",
       "      <td>0.066041</td>\n",
       "    </tr>\n",
       "  </tbody>\n",
       "</table>\n",
       "</div>"
      ],
      "text/plain": [
       "                     flug          fldg     fnetg\n",
       "pressure  level                                  \n",
       "0.0000    1     -0.029247  9.536743e-07 -0.029247\n",
       "1.0685    24    -0.029247 -7.529351e-06 -0.029254\n",
       "1013.0000 76     0.000004  6.603730e-02  0.066041"
      ]
     },
     "metadata": {},
     "output_type": "display_data"
    },
    {
     "name": "stdout",
     "output_type": "stream",
     "text": [
      "Table. Fluxes. (CLIRAD) - (WGT igg=10 wgt_flux=1)\n"
     ]
    },
    {
     "data": {
      "text/html": [
       "<a id=\"Best-fit_Parameters\"></a>"
      ],
      "text/plain": [
       "<IPython.core.display.HTML object>"
      ]
     },
     "metadata": {},
     "output_type": "display_data"
    },
    {
     "data": {
      "text/markdown": [
       "# Best-fit Parameters"
      ],
      "text/plain": [
       "<IPython.core.display.Markdown object>"
      ]
     },
     "metadata": {},
     "output_type": "display_data"
    },
    {
     "name": "stdout",
     "output_type": "stream",
     "text": [
      "Best-fit values for each (gas, band)\n",
      "------------------------------------\n",
      "o h2o band3c\n",
      "  molecule = h2o\n",
      "  band = 3c\n",
      "  commitnumber = d62b618\n",
      "  vmin = 720\n",
      "  vmax = 800\n",
      "  dv = 0.001\n",
      "  nv = 1000\n",
      "  ref_pts = [(600, 250)]\n",
      "  ng_refs = [5]\n",
      "  ng_adju = [0]\n",
      "  klin = 5e-25\n",
      "  option_wgt_k = 1\n",
      "  wgt = [(0.5, 0.5, 0.6, 0.7, 0.9)]\n",
      "  w_diffuse = [(1.55, 1.6, 1.66, 1.66, 1.8)]\n",
      "  option_wgt_flux = 1\n",
      "  atmpro = mls\n",
      "  tsfc = 294\n",
      "  conc = None\n",
      "  option_compute_btable = 0\n",
      "  option_compute_ktable = 1\n"
     ]
    }
   ],
   "source": [
    "script()"
   ]
  },
  {
   "cell_type": "code",
   "execution_count": 13,
   "metadata": {},
   "outputs": [
    {
     "data": {
      "text/html": [
       "<script>\n",
       "code_show=true; \n",
       "function code_toggle() {\n",
       " if (code_show){\n",
       " $('div.input').hide();\n",
       " } else {\n",
       " $('div.input').show();\n",
       " }\n",
       " code_show = !code_show\n",
       "} \n",
       "$( document ).ready(code_toggle);\n",
       "</script>\n",
       "<form action=\"javascript:code_toggle()\"><input type=\"submit\" value=\"Click here to toggle on/off the raw code.\"></form>"
      ],
      "text/plain": [
       "<IPython.core.display.HTML object>"
      ]
     },
     "execution_count": 13,
     "metadata": {},
     "output_type": "execute_result"
    }
   ],
   "source": [
    "display.HTML('''<script>\n",
    "code_show=true; \n",
    "function code_toggle() {\n",
    " if (code_show){\n",
    " $('div.input').hide();\n",
    " } else {\n",
    " $('div.input').show();\n",
    " }\n",
    " code_show = !code_show\n",
    "} \n",
    "$( document ).ready(code_toggle);\n",
    "</script>\n",
    "<form action=\"javascript:code_toggle()\"><input type=\"submit\" value=\"Click here to toggle on/off the raw code.\"></form>''')"
   ]
  }
 ],
 "metadata": {
  "kernelspec": {
   "display_name": "Python 3",
   "language": "python",
   "name": "python3"
  },
  "language_info": {
   "codemirror_mode": {
    "name": "ipython",
    "version": 3
   },
   "file_extension": ".py",
   "mimetype": "text/x-python",
   "name": "python",
   "nbconvert_exporter": "python",
   "pygments_lexer": "ipython3",
   "version": "3.6.1"
  }
 },
 "nbformat": 4,
 "nbformat_minor": 2
}
