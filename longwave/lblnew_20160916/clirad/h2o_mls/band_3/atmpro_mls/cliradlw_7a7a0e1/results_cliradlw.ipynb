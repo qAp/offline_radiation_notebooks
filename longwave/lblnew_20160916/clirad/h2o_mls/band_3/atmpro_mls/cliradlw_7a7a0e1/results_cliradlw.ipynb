{
 "cells": [
  {
   "cell_type": "code",
   "execution_count": 1,
   "metadata": {
    "collapsed": true
   },
   "outputs": [],
   "source": [
    "%matplotlib inline\n",
    "import os\n",
    "import re\n",
    "import io\n",
    "import itertools\n",
    "import pprint\n",
    "\n",
    "from bokeh.io import output_notebook, show\n",
    "from bokeh.layouts import gridplot\n",
    "from bokeh.plotting import figure\n",
    "from bokeh.models import Range1d, Legend\n",
    "from bokeh.palettes import all_palettes\n",
    "\n",
    "import matplotlib\n",
    "import matplotlib.pyplot as plt\n",
    "import numpy as np\n",
    "import pandas as pd\n",
    "import xarray as xr\n",
    "\n",
    "import climatools.lblnew.bestfit_params as bestfits\n",
    "from climatools.lblnew import setup_bestfit, setup_overlap\n",
    "import climatools.lblnew.pipeline as pipe_lblnew\n",
    "import climatools.cliradlw.setup as setup_cliradlw\n",
    "import climatools.cliradlw.pipeline as pipe_cliradlw\n",
    "\n",
    "import climatools.html.html as climahtml\n",
    "from climatools.lblnew.dataio import *\n",
    "from climatools.plot.plot import *\n",
    "\n",
    "\n",
    "import IPython.display as display"
   ]
  },
  {
   "cell_type": "code",
   "execution_count": 2,
   "metadata": {
    "collapsed": true
   },
   "outputs": [],
   "source": [
    "%run param.py"
   ]
  },
  {
   "cell_type": "code",
   "execution_count": 3,
   "metadata": {
    "collapsed": true
   },
   "outputs": [
    {
     "name": "stdout",
     "output_type": "stream",
     "text": [
      "The history saving thread hit an unexpected error (OperationalError('database is locked',)).History will not be written to the database.\n"
     ]
    }
   ],
   "source": [
    "def load_output_file(path_csv):\n",
    "    '''\n",
    "    Load lblnew output .csv file to xarray.Dataset\n",
    "    \n",
    "    Parameters\n",
    "    ----------\n",
    "    path_csv: str\n",
    "              Path to the .csv file to be loaded.\n",
    "    ds: xarray.Dataset\n",
    "        Data in the input file in the form of an xarray.Dataset.\n",
    "    '''\n",
    "    toindex = ['band', 'pressure', 'igg', 'g']    \n",
    "    df = pd.read_csv(path_csv, sep=r'\\s+')\n",
    "    df = df.set_index([i for i in toindex if i in df.columns])\n",
    "    df = df.rename(columns={'sfu': 'flug',\n",
    "                            'sfd': 'fldg',\n",
    "                            'fnet': 'fnetg',\n",
    "                            'coolr': 'coolrg'})\n",
    "    ds = xr.Dataset.from_dataframe(df)\n",
    "\n",
    "    for l in ('level', 'layer'):\n",
    "        if l in ds.data_vars:\n",
    "            if len(ds[l].dims) > 1:\n",
    "                surface = {d: 0 for d in ds.dims if d != 'pressure'}\n",
    "                coord_level = ds[l][surface]\n",
    "                ds.coords[l] = ('pressure', coord_level)\n",
    "            else:\n",
    "                ds.coords[l] = ('pressure', ds[l])\n",
    "    \n",
    "    return ds"
   ]
  },
  {
   "cell_type": "code",
   "execution_count": 4,
   "metadata": {
    "collapsed": true
   },
   "outputs": [],
   "source": [
    "def lblnew_setup(param=None):\n",
    "    if 'ng_refs' in param:\n",
    "        return {'setup': setup_bestfit,\n",
    "                'fname_flux_crd': 'output_flux.dat',\n",
    "                'fname_cool_crd': 'output_coolr.dat',\n",
    "                'fname_flux_wgt': 'output_wfluxg.dat',\n",
    "                'fname_cool_wgt': 'output_wcoolrg.dat'}\n",
    "    else:\n",
    "        return {'setup': setup_overlap,\n",
    "                'fname_flux_crd': 'output_flux.dat',\n",
    "                'fname_cool_crd': 'output_coolr.dat',\n",
    "                'fname_flux_wgt': 'output_wflux.dat',\n",
    "                'fname_cool_wgt': 'output_wcoolr.dat'}\n",
    "\n",
    "    \n",
    "def load_lblnew_data(param):\n",
    "    \n",
    "    fname_dsname = [('fname_flux_crd', 'ds_flux_crd'),\n",
    "                    ('fname_cool_crd', 'ds_cool_crd'),\n",
    "                    ('fname_flux_wgt', 'ds_flux_wgt'),\n",
    "                    ('fname_cool_wgt', 'ds_cool_wgt')]\n",
    "    \n",
    "    d = lblnew_setup(param)\n",
    "    dir_fortran = pipe_lblnew.get_dir_case(param, setup=d['setup'])\n",
    "    \n",
    "    data_dict = {}\n",
    "    for fname, dsname in fname_dsname:\n",
    "        fpath = os.path.join(dir_fortran, d[fname])\n",
    "        data_dict[dsname] = load_output_file(fpath)\n",
    "    return data_dict\n",
    "    \n",
    "\n",
    "    \n",
    "    "
   ]
  },
  {
   "cell_type": "code",
   "execution_count": 5,
   "metadata": {
    "collapsed": true
   },
   "outputs": [],
   "source": [
    "d = load_lblnew_data(PARAM_LBLNEW)\n",
    "\n",
    "DS_FLUX_CRD = d['ds_flux_crd']\n",
    "DS_COOL_CRD = d['ds_cool_crd']\n",
    "DS_FLUX_WGT = d['ds_flux_wgt']\n",
    "DS_COOL_WGT = d['ds_cool_wgt']"
   ]
  },
  {
   "cell_type": "code",
   "execution_count": 6,
   "metadata": {
    "collapsed": true
   },
   "outputs": [],
   "source": [
    "DIR_FORTRAN = pipe_cliradlw.get_fortran_dir(PARAM, \n",
    "                                            setup=setup_cliradlw)\n",
    "\n",
    "PATH_FLUX = os.path.join(DIR_FORTRAN, 'output_flux.dat')\n",
    "PATH_COOL = os.path.join(DIR_FORTRAN, 'output_coolr.dat')\n",
    "\n",
    "DS_FLUX = load_output_file(PATH_FLUX)\n",
    "DS_COOL = load_output_file(PATH_COOL)"
   ]
  },
  {
   "cell_type": "code",
   "execution_count": 7,
   "metadata": {},
   "outputs": [
    {
     "data": {
      "text/html": [
       "\n",
       "    <div class=\"bk-root\">\n",
       "        <a href=\"https://bokeh.pydata.org\" target=\"_blank\" class=\"bk-logo bk-logo-small bk-logo-notebook\"></a>\n",
       "        <span id=\"37f3da08-6fe3-48ad-8591-f31497bc5044\">Loading BokehJS ...</span>\n",
       "    </div>"
      ]
     },
     "metadata": {},
     "output_type": "display_data"
    },
    {
     "data": {
      "application/javascript": [
       "\n",
       "(function(root) {\n",
       "  function now() {\n",
       "    return new Date();\n",
       "  }\n",
       "\n",
       "  var force = true;\n",
       "\n",
       "  if (typeof (root._bokeh_onload_callbacks) === \"undefined\" || force === true) {\n",
       "    root._bokeh_onload_callbacks = [];\n",
       "    root._bokeh_is_loading = undefined;\n",
       "  }\n",
       "\n",
       "  var JS_MIME_TYPE = 'application/javascript';\n",
       "  var HTML_MIME_TYPE = 'text/html';\n",
       "  var EXEC_MIME_TYPE = 'application/vnd.bokehjs_exec.v0+json';\n",
       "  var CLASS_NAME = 'output_bokeh rendered_html';\n",
       "\n",
       "  /**\n",
       "   * Render data to the DOM node\n",
       "   */\n",
       "  function render(props, node) {\n",
       "    var script = document.createElement(\"script\");\n",
       "    node.appendChild(script);\n",
       "  }\n",
       "\n",
       "  /**\n",
       "   * Handle when an output is cleared or removed\n",
       "   */\n",
       "  function handleClearOutput(event, handle) {\n",
       "    var cell = handle.cell;\n",
       "\n",
       "    var id = cell.output_area._bokeh_element_id;\n",
       "    var server_id = cell.output_area._bokeh_server_id;\n",
       "    // Clean up Bokeh references\n",
       "    if (id !== undefined) {\n",
       "      Bokeh.index[id].model.document.clear();\n",
       "      delete Bokeh.index[id];\n",
       "    }\n",
       "\n",
       "    if (server_id !== undefined) {\n",
       "      // Clean up Bokeh references\n",
       "      var cmd = \"from bokeh.io.state import curstate; print(curstate().uuid_to_server['\" + server_id + \"'].get_sessions()[0].document.roots[0]._id)\";\n",
       "      cell.notebook.kernel.execute(cmd, {\n",
       "        iopub: {\n",
       "          output: function(msg) {\n",
       "            var element_id = msg.content.text.trim();\n",
       "            Bokeh.index[element_id].model.document.clear();\n",
       "            delete Bokeh.index[element_id];\n",
       "          }\n",
       "        }\n",
       "      });\n",
       "      // Destroy server and session\n",
       "      var cmd = \"import bokeh.io.notebook as ion; ion.destroy_server('\" + server_id + \"')\";\n",
       "      cell.notebook.kernel.execute(cmd);\n",
       "    }\n",
       "  }\n",
       "\n",
       "  /**\n",
       "   * Handle when a new output is added\n",
       "   */\n",
       "  function handleAddOutput(event, handle) {\n",
       "    var output_area = handle.output_area;\n",
       "    var output = handle.output;\n",
       "\n",
       "    // limit handleAddOutput to display_data with EXEC_MIME_TYPE content only\n",
       "    if ((output.output_type != \"display_data\") || (!output.data.hasOwnProperty(EXEC_MIME_TYPE))) {\n",
       "      return\n",
       "    }\n",
       "\n",
       "    var toinsert = output_area.element.find(\".\" + CLASS_NAME.split(' ')[0]);\n",
       "\n",
       "    if (output.metadata[EXEC_MIME_TYPE][\"id\"] !== undefined) {\n",
       "      toinsert[0].firstChild.textContent = output.data[JS_MIME_TYPE];\n",
       "      // store reference to embed id on output_area\n",
       "      output_area._bokeh_element_id = output.metadata[EXEC_MIME_TYPE][\"id\"];\n",
       "    }\n",
       "    if (output.metadata[EXEC_MIME_TYPE][\"server_id\"] !== undefined) {\n",
       "      var bk_div = document.createElement(\"div\");\n",
       "      bk_div.innerHTML = output.data[HTML_MIME_TYPE];\n",
       "      var script_attrs = bk_div.children[0].attributes;\n",
       "      for (var i = 0; i < script_attrs.length; i++) {\n",
       "        toinsert[0].firstChild.setAttribute(script_attrs[i].name, script_attrs[i].value);\n",
       "      }\n",
       "      // store reference to server id on output_area\n",
       "      output_area._bokeh_server_id = output.metadata[EXEC_MIME_TYPE][\"server_id\"];\n",
       "    }\n",
       "  }\n",
       "\n",
       "  function register_renderer(events, OutputArea) {\n",
       "\n",
       "    function append_mime(data, metadata, element) {\n",
       "      // create a DOM node to render to\n",
       "      var toinsert = this.create_output_subarea(\n",
       "        metadata,\n",
       "        CLASS_NAME,\n",
       "        EXEC_MIME_TYPE\n",
       "      );\n",
       "      this.keyboard_manager.register_events(toinsert);\n",
       "      // Render to node\n",
       "      var props = {data: data, metadata: metadata[EXEC_MIME_TYPE]};\n",
       "      render(props, toinsert[0]);\n",
       "      element.append(toinsert);\n",
       "      return toinsert\n",
       "    }\n",
       "\n",
       "    /* Handle when an output is cleared or removed */\n",
       "    events.on('clear_output.CodeCell', handleClearOutput);\n",
       "    events.on('delete.Cell', handleClearOutput);\n",
       "\n",
       "    /* Handle when a new output is added */\n",
       "    events.on('output_added.OutputArea', handleAddOutput);\n",
       "\n",
       "    /**\n",
       "     * Register the mime type and append_mime function with output_area\n",
       "     */\n",
       "    OutputArea.prototype.register_mime_type(EXEC_MIME_TYPE, append_mime, {\n",
       "      /* Is output safe? */\n",
       "      safe: true,\n",
       "      /* Index of renderer in `output_area.display_order` */\n",
       "      index: 0\n",
       "    });\n",
       "  }\n",
       "\n",
       "  // register the mime type if in Jupyter Notebook environment and previously unregistered\n",
       "  if (root.Jupyter !== undefined) {\n",
       "    var events = require('base/js/events');\n",
       "    var OutputArea = require('notebook/js/outputarea').OutputArea;\n",
       "\n",
       "    if (OutputArea.prototype.mime_types().indexOf(EXEC_MIME_TYPE) == -1) {\n",
       "      register_renderer(events, OutputArea);\n",
       "    }\n",
       "  }\n",
       "\n",
       "  \n",
       "  if (typeof (root._bokeh_timeout) === \"undefined\" || force === true) {\n",
       "    root._bokeh_timeout = Date.now() + 5000;\n",
       "    root._bokeh_failed_load = false;\n",
       "  }\n",
       "\n",
       "  var NB_LOAD_WARNING = {'data': {'text/html':\n",
       "     \"<div style='background-color: #fdd'>\\n\"+\n",
       "     \"<p>\\n\"+\n",
       "     \"BokehJS does not appear to have successfully loaded. If loading BokehJS from CDN, this \\n\"+\n",
       "     \"may be due to a slow or bad network connection. Possible fixes:\\n\"+\n",
       "     \"</p>\\n\"+\n",
       "     \"<ul>\\n\"+\n",
       "     \"<li>re-rerun `output_notebook()` to attempt to load from CDN again, or</li>\\n\"+\n",
       "     \"<li>use INLINE resources instead, as so:</li>\\n\"+\n",
       "     \"</ul>\\n\"+\n",
       "     \"<code>\\n\"+\n",
       "     \"from bokeh.resources import INLINE\\n\"+\n",
       "     \"output_notebook(resources=INLINE)\\n\"+\n",
       "     \"</code>\\n\"+\n",
       "     \"</div>\"}};\n",
       "\n",
       "  function display_loaded() {\n",
       "    var el = document.getElementById(\"37f3da08-6fe3-48ad-8591-f31497bc5044\");\n",
       "    if (el != null) {\n",
       "      el.textContent = \"BokehJS is loading...\";\n",
       "    }\n",
       "    if (root.Bokeh !== undefined) {\n",
       "      if (el != null) {\n",
       "        el.textContent = \"BokehJS \" + root.Bokeh.version + \" successfully loaded.\";\n",
       "      }\n",
       "    } else if (Date.now() < root._bokeh_timeout) {\n",
       "      setTimeout(display_loaded, 100)\n",
       "    }\n",
       "  }\n",
       "\n",
       "\n",
       "  function run_callbacks() {\n",
       "    try {\n",
       "      root._bokeh_onload_callbacks.forEach(function(callback) { callback() });\n",
       "    }\n",
       "    finally {\n",
       "      delete root._bokeh_onload_callbacks\n",
       "    }\n",
       "    console.info(\"Bokeh: all callbacks have finished\");\n",
       "  }\n",
       "\n",
       "  function load_libs(js_urls, callback) {\n",
       "    root._bokeh_onload_callbacks.push(callback);\n",
       "    if (root._bokeh_is_loading > 0) {\n",
       "      console.log(\"Bokeh: BokehJS is being loaded, scheduling callback at\", now());\n",
       "      return null;\n",
       "    }\n",
       "    if (js_urls == null || js_urls.length === 0) {\n",
       "      run_callbacks();\n",
       "      return null;\n",
       "    }\n",
       "    console.log(\"Bokeh: BokehJS not loaded, scheduling load and callback at\", now());\n",
       "    root._bokeh_is_loading = js_urls.length;\n",
       "    for (var i = 0; i < js_urls.length; i++) {\n",
       "      var url = js_urls[i];\n",
       "      var s = document.createElement('script');\n",
       "      s.src = url;\n",
       "      s.async = false;\n",
       "      s.onreadystatechange = s.onload = function() {\n",
       "        root._bokeh_is_loading--;\n",
       "        if (root._bokeh_is_loading === 0) {\n",
       "          console.log(\"Bokeh: all BokehJS libraries loaded\");\n",
       "          run_callbacks()\n",
       "        }\n",
       "      };\n",
       "      s.onerror = function() {\n",
       "        console.warn(\"failed to load library \" + url);\n",
       "      };\n",
       "      console.log(\"Bokeh: injecting script tag for BokehJS library: \", url);\n",
       "      document.getElementsByTagName(\"head\")[0].appendChild(s);\n",
       "    }\n",
       "  };var element = document.getElementById(\"37f3da08-6fe3-48ad-8591-f31497bc5044\");\n",
       "  if (element == null) {\n",
       "    console.log(\"Bokeh: ERROR: autoload.js configured with elementid '37f3da08-6fe3-48ad-8591-f31497bc5044' but no matching script tag was found. \")\n",
       "    return false;\n",
       "  }\n",
       "\n",
       "  var js_urls = [\"https://cdn.pydata.org/bokeh/release/bokeh-0.12.14.min.js\", \"https://cdn.pydata.org/bokeh/release/bokeh-widgets-0.12.14.min.js\", \"https://cdn.pydata.org/bokeh/release/bokeh-tables-0.12.14.min.js\", \"https://cdn.pydata.org/bokeh/release/bokeh-gl-0.12.14.min.js\"];\n",
       "\n",
       "  var inline_js = [\n",
       "    function(Bokeh) {\n",
       "      Bokeh.set_log_level(\"info\");\n",
       "    },\n",
       "    \n",
       "    function(Bokeh) {\n",
       "      \n",
       "    },\n",
       "    function(Bokeh) {\n",
       "      console.log(\"Bokeh: injecting CSS: https://cdn.pydata.org/bokeh/release/bokeh-0.12.14.min.css\");\n",
       "      Bokeh.embed.inject_css(\"https://cdn.pydata.org/bokeh/release/bokeh-0.12.14.min.css\");\n",
       "      console.log(\"Bokeh: injecting CSS: https://cdn.pydata.org/bokeh/release/bokeh-widgets-0.12.14.min.css\");\n",
       "      Bokeh.embed.inject_css(\"https://cdn.pydata.org/bokeh/release/bokeh-widgets-0.12.14.min.css\");\n",
       "      console.log(\"Bokeh: injecting CSS: https://cdn.pydata.org/bokeh/release/bokeh-tables-0.12.14.min.css\");\n",
       "      Bokeh.embed.inject_css(\"https://cdn.pydata.org/bokeh/release/bokeh-tables-0.12.14.min.css\");\n",
       "    }\n",
       "  ];\n",
       "\n",
       "  function run_inline_js() {\n",
       "    \n",
       "    if ((root.Bokeh !== undefined) || (force === true)) {\n",
       "      for (var i = 0; i < inline_js.length; i++) {\n",
       "        inline_js[i].call(root, root.Bokeh);\n",
       "      }if (force === true) {\n",
       "        display_loaded();\n",
       "      }} else if (Date.now() < root._bokeh_timeout) {\n",
       "      setTimeout(run_inline_js, 100);\n",
       "    } else if (!root._bokeh_failed_load) {\n",
       "      console.log(\"Bokeh: BokehJS failed to load within specified timeout.\");\n",
       "      root._bokeh_failed_load = true;\n",
       "    } else if (force !== true) {\n",
       "      var cell = $(document.getElementById(\"37f3da08-6fe3-48ad-8591-f31497bc5044\")).parents('.cell').data().cell;\n",
       "      cell.output_area.append_execute_result(NB_LOAD_WARNING)\n",
       "    }\n",
       "\n",
       "  }\n",
       "\n",
       "  if (root._bokeh_is_loading === 0) {\n",
       "    console.log(\"Bokeh: BokehJS loaded, going straight to plotting\");\n",
       "    run_inline_js();\n",
       "  } else {\n",
       "    load_libs(js_urls, function() {\n",
       "      console.log(\"Bokeh: BokehJS plotting callback run at\", now());\n",
       "      run_inline_js();\n",
       "    });\n",
       "  }\n",
       "}(window));"
      ],
      "application/vnd.bokehjs_load.v0+json": "\n(function(root) {\n  function now() {\n    return new Date();\n  }\n\n  var force = true;\n\n  if (typeof (root._bokeh_onload_callbacks) === \"undefined\" || force === true) {\n    root._bokeh_onload_callbacks = [];\n    root._bokeh_is_loading = undefined;\n  }\n\n  \n\n  \n  if (typeof (root._bokeh_timeout) === \"undefined\" || force === true) {\n    root._bokeh_timeout = Date.now() + 5000;\n    root._bokeh_failed_load = false;\n  }\n\n  var NB_LOAD_WARNING = {'data': {'text/html':\n     \"<div style='background-color: #fdd'>\\n\"+\n     \"<p>\\n\"+\n     \"BokehJS does not appear to have successfully loaded. If loading BokehJS from CDN, this \\n\"+\n     \"may be due to a slow or bad network connection. Possible fixes:\\n\"+\n     \"</p>\\n\"+\n     \"<ul>\\n\"+\n     \"<li>re-rerun `output_notebook()` to attempt to load from CDN again, or</li>\\n\"+\n     \"<li>use INLINE resources instead, as so:</li>\\n\"+\n     \"</ul>\\n\"+\n     \"<code>\\n\"+\n     \"from bokeh.resources import INLINE\\n\"+\n     \"output_notebook(resources=INLINE)\\n\"+\n     \"</code>\\n\"+\n     \"</div>\"}};\n\n  function display_loaded() {\n    var el = document.getElementById(\"37f3da08-6fe3-48ad-8591-f31497bc5044\");\n    if (el != null) {\n      el.textContent = \"BokehJS is loading...\";\n    }\n    if (root.Bokeh !== undefined) {\n      if (el != null) {\n        el.textContent = \"BokehJS \" + root.Bokeh.version + \" successfully loaded.\";\n      }\n    } else if (Date.now() < root._bokeh_timeout) {\n      setTimeout(display_loaded, 100)\n    }\n  }\n\n\n  function run_callbacks() {\n    try {\n      root._bokeh_onload_callbacks.forEach(function(callback) { callback() });\n    }\n    finally {\n      delete root._bokeh_onload_callbacks\n    }\n    console.info(\"Bokeh: all callbacks have finished\");\n  }\n\n  function load_libs(js_urls, callback) {\n    root._bokeh_onload_callbacks.push(callback);\n    if (root._bokeh_is_loading > 0) {\n      console.log(\"Bokeh: BokehJS is being loaded, scheduling callback at\", now());\n      return null;\n    }\n    if (js_urls == null || js_urls.length === 0) {\n      run_callbacks();\n      return null;\n    }\n    console.log(\"Bokeh: BokehJS not loaded, scheduling load and callback at\", now());\n    root._bokeh_is_loading = js_urls.length;\n    for (var i = 0; i < js_urls.length; i++) {\n      var url = js_urls[i];\n      var s = document.createElement('script');\n      s.src = url;\n      s.async = false;\n      s.onreadystatechange = s.onload = function() {\n        root._bokeh_is_loading--;\n        if (root._bokeh_is_loading === 0) {\n          console.log(\"Bokeh: all BokehJS libraries loaded\");\n          run_callbacks()\n        }\n      };\n      s.onerror = function() {\n        console.warn(\"failed to load library \" + url);\n      };\n      console.log(\"Bokeh: injecting script tag for BokehJS library: \", url);\n      document.getElementsByTagName(\"head\")[0].appendChild(s);\n    }\n  };var element = document.getElementById(\"37f3da08-6fe3-48ad-8591-f31497bc5044\");\n  if (element == null) {\n    console.log(\"Bokeh: ERROR: autoload.js configured with elementid '37f3da08-6fe3-48ad-8591-f31497bc5044' but no matching script tag was found. \")\n    return false;\n  }\n\n  var js_urls = [\"https://cdn.pydata.org/bokeh/release/bokeh-0.12.14.min.js\", \"https://cdn.pydata.org/bokeh/release/bokeh-widgets-0.12.14.min.js\", \"https://cdn.pydata.org/bokeh/release/bokeh-tables-0.12.14.min.js\", \"https://cdn.pydata.org/bokeh/release/bokeh-gl-0.12.14.min.js\"];\n\n  var inline_js = [\n    function(Bokeh) {\n      Bokeh.set_log_level(\"info\");\n    },\n    \n    function(Bokeh) {\n      \n    },\n    function(Bokeh) {\n      console.log(\"Bokeh: injecting CSS: https://cdn.pydata.org/bokeh/release/bokeh-0.12.14.min.css\");\n      Bokeh.embed.inject_css(\"https://cdn.pydata.org/bokeh/release/bokeh-0.12.14.min.css\");\n      console.log(\"Bokeh: injecting CSS: https://cdn.pydata.org/bokeh/release/bokeh-widgets-0.12.14.min.css\");\n      Bokeh.embed.inject_css(\"https://cdn.pydata.org/bokeh/release/bokeh-widgets-0.12.14.min.css\");\n      console.log(\"Bokeh: injecting CSS: https://cdn.pydata.org/bokeh/release/bokeh-tables-0.12.14.min.css\");\n      Bokeh.embed.inject_css(\"https://cdn.pydata.org/bokeh/release/bokeh-tables-0.12.14.min.css\");\n    }\n  ];\n\n  function run_inline_js() {\n    \n    if ((root.Bokeh !== undefined) || (force === true)) {\n      for (var i = 0; i < inline_js.length; i++) {\n        inline_js[i].call(root, root.Bokeh);\n      }if (force === true) {\n        display_loaded();\n      }} else if (Date.now() < root._bokeh_timeout) {\n      setTimeout(run_inline_js, 100);\n    } else if (!root._bokeh_failed_load) {\n      console.log(\"Bokeh: BokehJS failed to load within specified timeout.\");\n      root._bokeh_failed_load = true;\n    } else if (force !== true) {\n      var cell = $(document.getElementById(\"37f3da08-6fe3-48ad-8591-f31497bc5044\")).parents('.cell').data().cell;\n      cell.output_area.append_execute_result(NB_LOAD_WARNING)\n    }\n\n  }\n\n  if (root._bokeh_is_loading === 0) {\n    console.log(\"Bokeh: BokehJS loaded, going straight to plotting\");\n    run_inline_js();\n  } else {\n    load_libs(js_urls, function() {\n      console.log(\"Bokeh: BokehJS plotting callback run at\", now());\n      run_inline_js();\n    });\n  }\n}(window));"
     },
     "metadata": {},
     "output_type": "display_data"
    }
   ],
   "source": [
    "output_notebook()"
   ]
  },
  {
   "cell_type": "code",
   "execution_count": 8,
   "metadata": {
    "collapsed": true
   },
   "outputs": [],
   "source": [
    "def fmt_cool(ds_in):\n",
    "    ds = ds_in.copy(deep=True)\n",
    "    if 'igg' in ds.dims:\n",
    "        ds = ds.sel(igg=1)\n",
    "\n",
    "    if 'g' in ds.dims:\n",
    "        ds = ds.sum('g')\n",
    "            \n",
    "    if 'band' in ds.dims:\n",
    "        try:\n",
    "            ds = ds.squeeze('band')\n",
    "        except ValueError:\n",
    "            ds = ds.sum('band')\n",
    "                \n",
    "    return ds['coolrg']\n",
    "\n",
    "\n",
    "def pltdata_cooling_1(ds_cool=None,\n",
    "                      ds_cool_crd=None, ds_cool_wgt=None):\n",
    "    \n",
    "\n",
    "\n",
    "    colors = all_palettes['Set1'][4]\n",
    "    data = [{'label': 'CLIRAD `coolr_bands`',\n",
    "             'srs': fmt_cool(ds_cool),\n",
    "             'line_dash': 'dashed', 'line_width': 5,\n",
    "             'color': colors[0], 'alpha': .6},\n",
    "            {'label': 'CRD',\n",
    "             'srs': fmt_cool(ds_cool_crd),\n",
    "             'line_dash': 'solid', 'line_width': 1.5,\n",
    "             'marker': 'circle', 'marker_size': 5,\n",
    "             'color': colors[2], 'alpha': 1,},\n",
    "            {'label': 'WGT igg=10 wgt_flux=2',\n",
    "             'srs': fmt_cool(ds_cool_wgt),\n",
    "             'line_dash': 'solid', 'line_width': 3,\n",
    "             'marker': 'square', 'marker_size': 5,\n",
    "             'color': colors[3], 'alpha': .6}]\n",
    "    return data\n",
    "\n",
    "\n",
    "def nice_xlims(pltdata=None, prange=None):\n",
    "    \n",
    "    def get_slice(srs):\n",
    "        return srs.sel(pressure=slice(*prange))\n",
    "    \n",
    "    srss = [d['srs'] for d in pltdata]\n",
    "    vmin = min([get_slice(srs).min() for srs in srss])\n",
    "    vmax = max([get_slice(srs).max() for srs in srss])\n",
    "    dv = (vmax - vmin) * .01\n",
    "    return float(vmin - dv), float(vmax + dv)\n",
    "    \n",
    "\n",
    "def plt_cooling_bokeh(pltdata=None):\n",
    "    '''\n",
    "    Plot a list of cooling rate profiles using bokeh.\n",
    "    '''\n",
    "    ymin = 1e-2 \n",
    "    ymax = 1020 \n",
    "        \n",
    "    p1 = figure(title=\"Linear pressure scale\", \n",
    "                plot_width=400)        \n",
    "    xmin, xmax = nice_xlims(pltdata, prange=(50, 1050))\n",
    "    for d in pltdata:\n",
    "        if 'marker' in d:\n",
    "            getattr(p1, d['marker'])(d['srs'].values, \n",
    "                    d['srs'].coords['pressure'].values,\n",
    "                    color=d['color'], alpha=.7)\n",
    "        p1.line(d['srs'].values, \n",
    "                d['srs'].coords['pressure'].values,\n",
    "                color=d['color'], alpha=d['alpha'], \n",
    "                line_width=d['line_width'], line_dash=d['line_dash'])\n",
    "    \n",
    "    p1.y_range = Range1d(ymax, ymin)\n",
    "    p1.yaxis.axis_label = 'pressure [mb]'   \n",
    "    p1.x_range = Range1d(xmin, xmax)\n",
    "    p1.xaxis.axis_label = 'cooling rate [K/day]'\n",
    "            \n",
    "    p2 = figure(title='Log pressure scale', y_axis_type='log',\n",
    "                plot_width=560)\n",
    "    xmin, xmax = nice_xlims(pltdata, prange=(.01, 200))\n",
    "    \n",
    "    rs = []\n",
    "    for d in pltdata:\n",
    "        rd = []\n",
    "        if 'marker' in d:\n",
    "            r_mark = getattr(p2, d['marker'])(d['srs'].values, \n",
    "                        d['srs'].coords['pressure'].values,\n",
    "                        color=d['color'], alpha=.7)\n",
    "            rd.append(r_mark)\n",
    "        r_line = p2.line(d['srs'].values, \n",
    "                    d['srs'].coords['pressure'].values,\n",
    "                    color=d['color'], alpha=d['alpha'], \n",
    "                    line_width=d['line_width'], line_dash=d['line_dash'])\n",
    "        rd.append(r_line)\n",
    "      \n",
    "        rs.append(rd)\n",
    "        \n",
    "    p2.y_range = Range1d(ymax, ymin)  \n",
    "    p2.yaxis.axis_label = 'pressure [mb]'\n",
    "    \n",
    "    p2.x_range = Range1d(xmin, xmax)\n",
    "    p2.xaxis.axis_label = 'cooling rate [K/day]'\n",
    "    \n",
    "    items = [(d['label'], r) for r, d in zip(rs, pltdata)]\n",
    "    legend = Legend(items=items, location=(10, -30))\n",
    "    legend.label_text_font_size = '8pt'\n",
    "    \n",
    "    p2.add_layout(legend, 'right')  \n",
    "    \n",
    "    show(gridplot(p1, p2, ncols=2, plot_height=500))\n",
    "    \n",
    "\n",
    "def script_plt_cooling():\n",
    "    pltdata = pltdata_cooling_1(\n",
    "        ds_cool=DS_COOL,\n",
    "        ds_cool_crd=DS_COOL_CRD,\n",
    "        ds_cool_wgt=DS_COOL_WGT)\n",
    "    plt_cooling_bokeh(pltdata=pltdata)\n",
    "    print('''FIGURE. Cooling rate profiles.''')"
   ]
  },
  {
   "cell_type": "code",
   "execution_count": 9,
   "metadata": {
    "collapsed": true
   },
   "outputs": [],
   "source": [
    "def fmt_flux(ds_in):\n",
    "    ds = ds_in.copy(deep=True)\n",
    "    \n",
    "    for l in ('level', 'layer'):\n",
    "        if l in ds.data_vars:\n",
    "            if len(ds[l].dims) > 1:\n",
    "                surface = {d: 0 for d in ds.dims if d != 'pressure'}\n",
    "                coord_level = ds[l][surface]\n",
    "                ds.coords[l] = ('pressure', coord_level)\n",
    "            else:\n",
    "                ds.coords[l] = ('pressure', ds[l])\n",
    "        \n",
    "    ds = ds.isel(pressure=[0, 23, -1])\n",
    "        \n",
    "    if 'igg' in ds.dims:\n",
    "        ds = ds.sel(igg=[1])\n",
    "        ds = ds.squeeze('igg').drop('igg')\n",
    "    \n",
    "    if 'g' in ds.dims:\n",
    "        ds = ds.sum('g')\n",
    "            \n",
    "    if 'band' in ds.dims:\n",
    "        try:\n",
    "            ds = ds.squeeze('band').drop('band')\n",
    "        except ValueError:\n",
    "            ds = ds.sum('band')\n",
    "                \n",
    "    df = ds.to_dataframe()\n",
    "    df = df.set_index('level', append=True)               \n",
    "    return df\n",
    "\n",
    "\n",
    "def tbdata_flux(ds_flux=None, ds_flux_crd=None, ds_flux_wgt=None):\n",
    "    ilevels = [0, 23, -1]\n",
    "            \n",
    "    benchmark = {'label': 'WGT igg=10 wgt_flux=1',\n",
    "                 'df': fmt_flux(ds_flux_wgt)}\n",
    "    \n",
    "    tbs = [{'label': 'CRD',\n",
    "            'df': fmt_flux(ds_flux_crd)},\n",
    "           {'label': 'CLIRAD',\n",
    "            'df': fmt_flux(ds_flux)}]\n",
    "    \n",
    "    data = {'benchmark': benchmark, 'others': tbs}\n",
    "    return data\n",
    "\n",
    "\n",
    "def tb_flux(tbdata=None):\n",
    "    benchmark = tbdata['benchmark']\n",
    "    others = tbdata['others']\n",
    "    \n",
    "    def show_tb(d=None):\n",
    "        display.display(d['df'])\n",
    "        print('Table.', 'Fluxes.', d['label'])\n",
    "        \n",
    "    def show_tbdiff(d0=None, d=None):\n",
    "        df = d['df']\n",
    "        df.index = d0['df'].index\n",
    "        display.display(df - d0['df'])\n",
    "        print('Table.', 'Fluxes.', \n",
    "              '({}) - ({})'.format(d['label'], d0['label']))\n",
    "        \n",
    "    show_tb(benchmark)\n",
    "    for d in others:\n",
    "        show_tb(d)\n",
    "        \n",
    "    for d in others:\n",
    "        show_tbdiff(d=d, d0=benchmark)\n",
    "        \n",
    "        \n",
    "def script_tb_flux():\n",
    "    data = tbdata_flux(ds_flux=DS_FLUX,\n",
    "                       ds_flux_crd=DS_FLUX_CRD,\n",
    "                       ds_flux_wgt=DS_FLUX_WGT)\n",
    "    tb_flux(tbdata=data)"
   ]
  },
  {
   "cell_type": "code",
   "execution_count": 10,
   "metadata": {
    "collapsed": true
   },
   "outputs": [],
   "source": [
    "def band_map():\n",
    "    '''\n",
    "    Maps spectral bands in lblnew to spectral bands in clirad.\n",
    "    '''\n",
    "    lblnew2clirad = {'1': '1',\n",
    "            '2': '2',\n",
    "            '3a': '3',\n",
    "            '3b': '4',\n",
    "            '3c': '5',\n",
    "            '4': '6', \n",
    "            '5': '7',\n",
    "            '6': '8',\n",
    "            '7': '9', \n",
    "            '8': '10',\n",
    "            '9': '11'}\n",
    "    \n",
    "    clirad2lblnew = {clirad: lblnew \n",
    "                     for lblnew, clirad in lblnew2clirad.items()}\n",
    "    return clirad2lblnew\n",
    "\n",
    "\n",
    "def gasbands():\n",
    "    bmap = band_map()\n",
    "    gases = list(PARAM['molecule'].keys())\n",
    "    \n",
    "    bands = [bmap[str(b)] for b in PARAM['band']]\n",
    "    return list(itertools.product(gases, bands))\n",
    "\n",
    "\n",
    "def print_bestfit_params():\n",
    "    print('Best-fit values for each (gas, band)')\n",
    "    print('------------------------------------')\n",
    "    for gas, band in gasbands():\n",
    "        print('o {} band{}'.format(gas, band))\n",
    "        param = bestfits.kdist_params(molecule=gas, band=band)\n",
    "        for name, value in param.items():\n",
    "            print(2 * ' ' + '{} = {}'.format(name, value))\n",
    "\n",
    "        \n",
    "def print_input_param():        \n",
    "    for name, value in PARAM.items():\n",
    "        print('{} = {}'.format(name, value))\n",
    "        \n",
    "        \n",
    "def print_lblnew_param():\n",
    "    for name, value in PARAM_LBLNEW.items():\n",
    "        print('{} = {}'.format(name, value))\n"
   ]
  },
  {
   "cell_type": "code",
   "execution_count": 11,
   "metadata": {
    "collapsed": true,
    "scrolled": false
   },
   "outputs": [],
   "source": [
    "def show_html(s):\n",
    "    display.display(display.HTML(s))\n",
    "\n",
    "    \n",
    "def show_markdown(s):\n",
    "    display.display(display.Markdown(s))\n",
    "\n",
    "    \n",
    "def script():\n",
    "    \n",
    "    title = '### CLIRAD-LW'\n",
    "    s_input = 'Input Parameters'\n",
    "    s_lblnew_param = 'LBLNEW case compaired against'\n",
    "    s_bestfits = 'Best-fit Parameters'\n",
    "    s_plt_cooling = 'Cooling Rate Profiles'\n",
    "    s_tb_flux = 'Flux Comparison'\n",
    "    \n",
    "    # title\n",
    "    show_markdown('### CLIRAD-LW')\n",
    "    \n",
    "    # TOC\n",
    "    show_markdown('### Table of Contents')\n",
    "    show_html(climahtml.getHTML_hrefanchor(s_input))\n",
    "    show_html(climahtml.getHTML_hrefanchor(s_lblnew_param))\n",
    "    show_html(climahtml.getHTML_hrefanchor(s_plt_cooling))\n",
    "    show_html(climahtml.getHTML_hrefanchor(s_tb_flux))\n",
    "    show_html(climahtml.getHTML_hrefanchor(s_bestfits))\n",
    "    \n",
    "    # Input parameters\n",
    "    show_html(climahtml.getHTML_idanchor(s_input))\n",
    "    show_markdown(climahtml.getMarkdown_sectitle(s_input))\n",
    "    print_input_param()\n",
    "    \n",
    "    # LBLNEW parameters \n",
    "    show_html(climahtml.getHTML_idanchor(s_lblnew_param))\n",
    "    show_markdown(climahtml.getMarkdown_sectitle(s_lblnew_param))\n",
    "    print_lblnew_param()\n",
    "    \n",
    "    # Cooling rate profiles\n",
    "    show_html(climahtml.getHTML_idanchor(s_plt_cooling))\n",
    "    show_markdown(climahtml.getMarkdown_sectitle(s_plt_cooling))\n",
    "    script_plt_cooling()\n",
    "    \n",
    "    # Flux comparison\n",
    "    show_html(climahtml.getHTML_idanchor(s_tb_flux))\n",
    "    show_markdown(climahtml.getMarkdown_sectitle(s_tb_flux))\n",
    "    script_tb_flux()\n",
    "    \n",
    "    # Best-fit values\n",
    "    show_html(climahtml.getHTML_idanchor(s_bestfits))\n",
    "    show_markdown(climahtml.getMarkdown_sectitle(s_bestfits))\n",
    "    print_bestfit_params()\n",
    "   \n",
    "    "
   ]
  },
  {
   "cell_type": "code",
   "execution_count": 12,
   "metadata": {
    "scrolled": false
   },
   "outputs": [
    {
     "data": {
      "text/markdown": [
       "### CLIRAD-LW"
      ],
      "text/plain": [
       "<IPython.core.display.Markdown object>"
      ]
     },
     "metadata": {},
     "output_type": "display_data"
    },
    {
     "data": {
      "text/markdown": [
       "### Table of Contents"
      ],
      "text/plain": [
       "<IPython.core.display.Markdown object>"
      ]
     },
     "metadata": {},
     "output_type": "display_data"
    },
    {
     "data": {
      "text/html": [
       "<a href=\"#Input_Parameters\">Input Parameters</a>"
      ],
      "text/plain": [
       "<IPython.core.display.HTML object>"
      ]
     },
     "metadata": {},
     "output_type": "display_data"
    },
    {
     "data": {
      "text/html": [
       "<a href=\"#LBLNEW_case_compaired_against\">LBLNEW case compaired against</a>"
      ],
      "text/plain": [
       "<IPython.core.display.HTML object>"
      ]
     },
     "metadata": {},
     "output_type": "display_data"
    },
    {
     "data": {
      "text/html": [
       "<a href=\"#Cooling_Rate_Profiles\">Cooling Rate Profiles</a>"
      ],
      "text/plain": [
       "<IPython.core.display.HTML object>"
      ]
     },
     "metadata": {},
     "output_type": "display_data"
    },
    {
     "data": {
      "text/html": [
       "<a href=\"#Flux_Comparison\">Flux Comparison</a>"
      ],
      "text/plain": [
       "<IPython.core.display.HTML object>"
      ]
     },
     "metadata": {},
     "output_type": "display_data"
    },
    {
     "data": {
      "text/html": [
       "<a href=\"#Best-fit_Parameters\">Best-fit Parameters</a>"
      ],
      "text/plain": [
       "<IPython.core.display.HTML object>"
      ]
     },
     "metadata": {},
     "output_type": "display_data"
    },
    {
     "data": {
      "text/html": [
       "<a id=\"Input_Parameters\"></a>"
      ],
      "text/plain": [
       "<IPython.core.display.HTML object>"
      ]
     },
     "metadata": {},
     "output_type": "display_data"
    },
    {
     "data": {
      "text/markdown": [
       "# Input Parameters"
      ],
      "text/plain": [
       "<IPython.core.display.Markdown object>"
      ]
     },
     "metadata": {},
     "output_type": "display_data"
    },
    {
     "name": "stdout",
     "output_type": "stream",
     "text": [
      "atmpro = mls\n",
      "band = [3]\n",
      "commitnumber = 7a7a0e1\n",
      "molecule = {'h2o': 'atmpro'}\n",
      "tsfc = 294\n"
     ]
    },
    {
     "data": {
      "text/html": [
       "<a id=\"LBLNEW_case_compaired_against\"></a>"
      ],
      "text/plain": [
       "<IPython.core.display.HTML object>"
      ]
     },
     "metadata": {},
     "output_type": "display_data"
    },
    {
     "data": {
      "text/markdown": [
       "# LBLNEW case compaired against"
      ],
      "text/plain": [
       "<IPython.core.display.Markdown object>"
      ]
     },
     "metadata": {},
     "output_type": "display_data"
    },
    {
     "name": "stdout",
     "output_type": "stream",
     "text": [
      "molecule = h2o\n",
      "band = 3a\n",
      "commitnumber = d62b618\n",
      "vmin = 540\n",
      "vmax = 620\n",
      "dv = 0.001\n",
      "nv = 1000\n",
      "ref_pts = [(10, 250), (600, 250)]\n",
      "ng_refs = [2, 6]\n",
      "ng_adju = [0, 0]\n",
      "klin = 0\n",
      "option_wgt_k = 1\n",
      "wgt = [(0.7, 0.7), (0.7, 0.5, 0.5, 0.5, 0.5, 0.5)]\n",
      "w_diffuse = [(1.9, 1.7), (1.4, 1.4, 1.4, 1.55, 1.6, 1.66)]\n",
      "option_wgt_flux = 1\n",
      "atmpro = mls\n",
      "tsfc = 294\n",
      "conc = None\n",
      "option_compute_btable = 0\n",
      "option_compute_ktable = 1\n"
     ]
    },
    {
     "data": {
      "text/html": [
       "<a id=\"Cooling_Rate_Profiles\"></a>"
      ],
      "text/plain": [
       "<IPython.core.display.HTML object>"
      ]
     },
     "metadata": {},
     "output_type": "display_data"
    },
    {
     "data": {
      "text/markdown": [
       "# Cooling Rate Profiles"
      ],
      "text/plain": [
       "<IPython.core.display.Markdown object>"
      ]
     },
     "metadata": {},
     "output_type": "display_data"
    },
    {
     "data": {
      "text/html": [
       "\n",
       "<div class=\"bk-root\">\n",
       "    <div class=\"bk-plotdiv\" id=\"d7467399-139c-4516-bc35-d6fdb23744f0\"></div>\n",
       "</div>"
      ]
     },
     "metadata": {},
     "output_type": "display_data"
    },
    {
     "data": {
      "application/javascript": [
       "(function(root) {\n",
       "  function embed_document(root) {\n",
       "    \n",
       "  var docs_json = {\"3626575e-5bdb-4ece-a06e-a1adf40007cb\":{\"roots\":{\"references\":[{\"attributes\":{\"plot\":null,\"text\":\"Linear pressure scale\"},\"id\":\"81ae36ce-dfbd-4ec0-89c0-218dedd4ab57\",\"type\":\"Title\"},{\"attributes\":{\"callback\":null,\"column_names\":[\"x\",\"y\"],\"data\":{\"x\":{\"__ndarray__\":\"AAAAAAAAAAAAAAAAAAAAAAAAAAAAAAAAAAAAAAAAAADiMSdbacGXPwAAAAAAAAAAAAAAAAAAAADGndaerjaBPwAAAAAAAAAAIzfTXUp/cb8AAAAAAAAAADs9YkGQrXo/AAAAAAAAAAAAAAAAAAAAAGVKhR/+VGM/5G+GGV2Qaz+ZXlnfhKZzPx6gQP6n2Xo/nuqE3yOlgD96BpM246GIP2tR6LrFA5E/iBTxQN5XlT+4UdQBX72ZP+Wn1ppk5pk/8UdCPMHnlT+bUcMc3FSRP+wTGmoP2Yo/EhR636oChD+CBFo9Tc19P7SzS3+mSnY/q8iMooxScD8qI2eG8bhnP48KF8YazWE/wd/UrNgEXT87iHKpF2pXP6JRpVnlsVI/hekMJ0inUD9MAbtrKHRQP4OR05++EFA/FcV9vaG9UT+tu99Dbq9hP29eoh9pzn8/cDheRz3AlD9XgNPhP+KjP0hq9WMAma4/o9j1/kvBsj+XOPJAZBG2P+ZBwV+oULk/on/dRIiGvD9P/pNkwlTAP5QwNiFrFcM/N4eMw3DgxT8092/i1JzIP0c/VPkiSss/ATtxGFAYzj+qWtrCVn3QP24aul1YDNI/XRddYlWS1D/9rt9+hhjXP416DH8bXNk/if0zvaNK2z8g+BA78L3cP6O25CPvvd0/Yl/8fnto3j+rxdB/ScneP/HRqOHX394/efoxexOi3j/6tMwao9LdP74K10BGQtw/ar8YPuAJ2j+z7dVDC3vXPw6oDiS18dQ/G9hs3bS20j8eDMigCxHRP8MZ034xPNE/\",\"dtype\":\"float64\",\"shape\":[75]},\"y\":{\"__ndarray__\":\"S/O/Q+51ND/430zAtpRIP2vylNV0PVE/QxsjCssuWD/TR4Z78fVgP+inNsRxymc/OuuBfZWvcD/u3TFA02d3P2d3VoBnaoA/CD5h5MAGhz/1pA8HUCaQP+zrCsc9p5Y/Fb7LAKjGnz/nJ9c/SEmmPwBD+fzcQq8/FOZwv9nstT8Er5Y7M8G+P0c+r3jqkcU/yK72qKZBzj+tM989FzjVPxbgmr8yxN0/cOm5AXbg5D+5ctXAf0jtP5kqGJXUifQ/DsrqDELP/D8MCAhBojQEQDItVnmnVwxAiFXNvdHgE0BSSZ2AJuIbQAMJih9jjiNA5q4l5INuK0CPVN/5RT0zQHzxRXu8/DpAOZ7PgHrtQkAg8wGBzoxKQBSTN8DMeFJA2NmQf2ZqWEAAAAAAAFxeQEQX1LfMJmJAmpmZmZkfZUBmZmZmZhhoQLzoK0gzEWtAAAAAAAAKbkCiC+pbZoFwQAhyUMLM/XFA+I2vPTN6c0AQ5KCEmfZ0QAAAAAAAc3ZA8Btfe2bvd0AIclDCzGt5QPeNrz0z6HpAEOSghJlkfEAAAAAAAOF9QKML6ltmXX9ABTkoYeZsgED7xteeGSuBQAhyUMJM6YFAAAAAAICngkD4ja89s2WDQAU5KGHmI4RA+8bXnhnihEAIclDCTKCFQAAAAACAXoZA+I2vPbMch0AFOShh5tqHQPvG154ZmYhACHJQwkxXiUAAAAAAgBWKQPeNrz2z04pABTkoYeaRi0D7xteeGVCMQAlyUMJMDo1AAAAAAIDMjUD3ja89s4qOQGZmZmbmSI9A\",\"dtype\":\"float64\",\"shape\":[75]}}},\"id\":\"98c9e252-e332-4db9-920f-9a0b1b4ed266\",\"type\":\"ColumnDataSource\"},{\"attributes\":{\"active_drag\":\"auto\",\"active_inspect\":\"auto\",\"active_scroll\":\"auto\",\"active_tap\":\"auto\",\"tools\":[{\"id\":\"ea618dcb-1d94-4aac-9c7b-f7e682fe59af\",\"type\":\"PanTool\"},{\"id\":\"0cfe0e76-0d34-4b54-abd3-ac0da97c96a0\",\"type\":\"WheelZoomTool\"},{\"id\":\"732e0316-7b2e-49a8-b71c-96b4a069626d\",\"type\":\"BoxZoomTool\"},{\"id\":\"9bd086f8-5fea-4030-888a-7dc63b28b08e\",\"type\":\"SaveTool\"},{\"id\":\"42f87905-5590-4652-8e60-62c0ac0dbd51\",\"type\":\"ResetTool\"},{\"id\":\"8d54de8c-5d78-4524-bd6f-ce5b077cdee8\",\"type\":\"HelpTool\"}]},\"id\":\"3df2c8fc-9f2a-4f0b-9cc9-14f8e51e6d22\",\"type\":\"Toolbar\"},{\"attributes\":{\"line_alpha\":0.1,\"line_color\":\"#1f77b4\",\"line_dash\":[6],\"line_width\":5,\"x\":{\"field\":\"x\"},\"y\":{\"field\":\"y\"}},\"id\":\"075d9377-4147-40ab-b124-07f8af6a71e0\",\"type\":\"Line\"},{\"attributes\":{\"callback\":null,\"column_names\":[\"x\",\"y\"],\"data\":{\"x\":{\"__ndarray__\":\"4D6vLZf+ND+cMBGdFxI3P4qH8YeYszs/OyZldpRZQD904nhYOulCP+UHOlPSjkU/IRva4A1DSD9JJ+0e8QBLP5sKoM4qxE0/bv4D2fNHUD+c9WBMnp1RP6Ludy8N+FI/R/Pn5hk+VD87SDljEpFVPwKAFhw0bFo/ySZgh+8VZT8RkDIQ8ptxP6pt8KmPzHo/Qcuh4os4gz8sYIbvknKKPzu5+j/0lZE/BebNU7DVlj/VmtnzpGibPxiUOfuiu5o/gBUpkoSElT9Poa5GWlCQPxKPrS9eaIg/4a5N0M48gj/JcolYARR8P9Ee56kSTXY/UVozBtq8cT/h5uRvgRdsP/miCUh+M2c/8Az0e6QCZD/RpVeBXA1hP/kQBGuE1Vs/6cBFcUaJWD+wvKaulXxXPzDGnHQWTlY/+ZIEqDukVz8wsNKSw/ZmPz15ZxyC3YM/q0fLlQJRmD/sxw9dnG2mP+6xO3eXGLE/8/2fhhlhtD9IBQQpZ163PyhwPrfIJLs/cyytjjWGvz+02Lt5iTXCPxM+pZQh2MQ/2pCgdPlBxz8y8R7SNbTJP6269Tf0WMw/2JR1SeYizz91IqBGSgjRP2MK1jibjtI/5KI5Nivw1D+DjvOK6TrXP+jjkMMWMdk/UO3CxUDN2j9+wl3mCf7bP2ydNOQKtdw/ZfpG8JYW3T8uF1TIUx7dP1wVjyhA1tw/LHu3Hioy3D/NAYI5ejzbP/6OE+zg3Nk/jLbw3WIV2D+EWEefoB7WP/gyk6CmM9Q/GP8EODlT0j80qZmcd+/QP/z9Qah7ctE/\",\"dtype\":\"float64\",\"shape\":[75]},\"y\":{\"__ndarray__\":\"GhExyth1ND/Sv8nbtpRIP2vylNV0PVE/aTum7souWD/At0SJ8fVgPw3Iuahxymc/MSNhhJWvcD/bTfBN02d3P2zb5nxnaoA/CD5h5MAGhz8NmeH1TyaQP+zrCsc9p5Y/LbKd76fGnz/bLW5ISEmmPww9YvTcQq8/JV2OstnstT8Er5Y7M8G+P0c+r3jqkcU/5h99k6ZBzj88bCIzFzjVP4enV8oyxN0//yH99nXg5D8qOpLLf0jtP5kqGJXUifQ/c9cS8kHP/D+/DpwzojQEQIEmwoanVwxA4lgXt9HgE0BSSZ2AJuIbQAMJih9jjiNA5q4l5INuK0AwTKYKRj0zQNv5fmq8/DpAaCJseHrtQkB/+zpwzoxKQM3MzMzMeFJAZmZmZmZqWEAAAAAAAFxeQM3MzMzMJmJAmpmZmZkfZUBmZmZmZhhoQDMzMzMzEWtAAAAAAAAKbkBmZmZmZoFwQM3MzMzM/XFAMzMzMzN6c0CamZmZmfZ0QAAAAAAAc3ZAZmZmZmbvd0DNzMzMzGt5QDMzMzMz6HpAmpmZmZlkfEAAAAAAAOF9QGZmZmZmXX9AZmZmZuZsgECamZmZGSuBQM3MzMxM6YFAAAAAAICngkAzMzMzs2WDQGZmZmbmI4RAmpmZmRnihEDNzMzMTKCFQAAAAACAXoZAMzMzM7Mch0BmZmZm5tqHQJqZmZkZmYhAzczMzExXiUAAAAAAgBWKQDMzMzOz04pAZmZmZuaRi0CamZmZGVCMQM3MzMxMDo1AAAAAAIDMjUAzMzMzs4qOQGZmZmbmSI9A\",\"dtype\":\"float64\",\"shape\":[75]}}},\"id\":\"1aea094a-f021-4ddd-b16b-9c6a469d9a2b\",\"type\":\"ColumnDataSource\"},{\"attributes\":{},\"id\":\"07091df7-8c66-49d8-8d6f-262a847b7786\",\"type\":\"BasicTickFormatter\"},{\"attributes\":{\"line_color\":\"#4daf4a\",\"line_width\":1.5,\"x\":{\"field\":\"x\"},\"y\":{\"field\":\"y\"}},\"id\":\"0baba2ec-206f-46e1-8112-627e5e582ce7\",\"type\":\"Line\"},{\"attributes\":{\"below\":[{\"id\":\"ca1154e0-99f2-411a-90e3-4adeb3fcf5c3\",\"type\":\"LinearAxis\"}],\"left\":[{\"id\":\"8adb8838-2746-42b5-97ce-36b3cce54985\",\"type\":\"LinearAxis\"}],\"plot_height\":500,\"plot_width\":400,\"renderers\":[{\"id\":\"ca1154e0-99f2-411a-90e3-4adeb3fcf5c3\",\"type\":\"LinearAxis\"},{\"id\":\"8922b277-2a17-410b-8c1e-ed20c97a75e3\",\"type\":\"Grid\"},{\"id\":\"8adb8838-2746-42b5-97ce-36b3cce54985\",\"type\":\"LinearAxis\"},{\"id\":\"ecbbadb4-c01b-4ab6-9a96-945f516c33cd\",\"type\":\"Grid\"},{\"id\":\"8187bf1f-2f71-4a1f-b565-ad0541310ff5\",\"type\":\"BoxAnnotation\"},{\"id\":\"5c9495e4-4d9d-4144-b8cb-8d5f8d757da0\",\"type\":\"GlyphRenderer\"},{\"id\":\"87f1275d-1e19-4d37-a185-599dd762ef1d\",\"type\":\"GlyphRenderer\"},{\"id\":\"39b7a3ae-3db9-41d1-baef-758669398eae\",\"type\":\"GlyphRenderer\"},{\"id\":\"7badf2e0-56a7-4dca-8f99-f8cc50b4cde8\",\"type\":\"GlyphRenderer\"},{\"id\":\"adf9e0e0-9232-4876-8294-bf0e3a4fd811\",\"type\":\"GlyphRenderer\"}],\"title\":{\"id\":\"81ae36ce-dfbd-4ec0-89c0-218dedd4ab57\",\"type\":\"Title\"},\"toolbar\":{\"id\":\"3df2c8fc-9f2a-4f0b-9cc9-14f8e51e6d22\",\"type\":\"Toolbar\"},\"toolbar_location\":null,\"x_range\":{\"id\":\"bacd59ae-1c6c-4c94-b87b-552a69139fe8\",\"type\":\"Range1d\"},\"x_scale\":{\"id\":\"30f269f7-05b1-4172-b459-a13e4eb735e5\",\"type\":\"LinearScale\"},\"y_range\":{\"id\":\"e599edae-c129-484f-96ee-e43f873d1fb8\",\"type\":\"Range1d\"},\"y_scale\":{\"id\":\"ef8ed99b-9e89-4eeb-9a07-ac90a25d879f\",\"type\":\"LinearScale\"}},\"id\":\"a7174384-717e-4930-b1d7-2542ddb373f1\",\"subtype\":\"Figure\",\"type\":\"Plot\"},{\"attributes\":{\"plot\":{\"id\":\"a7174384-717e-4930-b1d7-2542ddb373f1\",\"subtype\":\"Figure\",\"type\":\"Plot\"},\"ticker\":{\"id\":\"7bd38875-8122-44c1-b2b2-6943188c06aa\",\"type\":\"BasicTicker\"}},\"id\":\"8922b277-2a17-410b-8c1e-ed20c97a75e3\",\"type\":\"Grid\"},{\"attributes\":{\"data_source\":{\"id\":\"98c9e252-e332-4db9-920f-9a0b1b4ed266\",\"type\":\"ColumnDataSource\"},\"glyph\":{\"id\":\"011b8396-d577-479c-9700-9bc1ef6cfe0b\",\"type\":\"Line\"},\"hover_glyph\":null,\"muted_glyph\":null,\"nonselection_glyph\":{\"id\":\"075d9377-4147-40ab-b124-07f8af6a71e0\",\"type\":\"Line\"},\"selection_glyph\":null,\"view\":{\"id\":\"ca7afe92-0085-4bb9-8452-909fd3f7c34b\",\"type\":\"CDSView\"}},\"id\":\"5c9495e4-4d9d-4144-b8cb-8d5f8d757da0\",\"type\":\"GlyphRenderer\"},{\"attributes\":{\"data_source\":{\"id\":\"1aea094a-f021-4ddd-b16b-9c6a469d9a2b\",\"type\":\"ColumnDataSource\"},\"glyph\":{\"id\":\"0baba2ec-206f-46e1-8112-627e5e582ce7\",\"type\":\"Line\"},\"hover_glyph\":null,\"muted_glyph\":null,\"nonselection_glyph\":{\"id\":\"a8f0e524-4324-4d4e-8a70-f3aad35dfbef\",\"type\":\"Line\"},\"selection_glyph\":null,\"view\":{\"id\":\"d76e6f89-239a-4471-a995-73c7165f0f5e\",\"type\":\"CDSView\"}},\"id\":\"39b7a3ae-3db9-41d1-baef-758669398eae\",\"type\":\"GlyphRenderer\"},{\"attributes\":{\"callback\":null,\"column_names\":[\"x\",\"y\"],\"data\":{\"x\":{\"__ndarray__\":\"4D6vLZf+ND+cMBGdFxI3P4qH8YeYszs/OyZldpRZQD904nhYOulCP+UHOlPSjkU/IRva4A1DSD9JJ+0e8QBLP5sKoM4qxE0/bv4D2fNHUD+c9WBMnp1RP6Ludy8N+FI/R/Pn5hk+VD87SDljEpFVPwKAFhw0bFo/ySZgh+8VZT8RkDIQ8ptxP6pt8KmPzHo/Qcuh4os4gz8sYIbvknKKPzu5+j/0lZE/BebNU7DVlj/VmtnzpGibPxiUOfuiu5o/gBUpkoSElT9Poa5GWlCQPxKPrS9eaIg/4a5N0M48gj/JcolYARR8P9Ee56kSTXY/UVozBtq8cT/h5uRvgRdsP/miCUh+M2c/8Az0e6QCZD/RpVeBXA1hP/kQBGuE1Vs/6cBFcUaJWD+wvKaulXxXPzDGnHQWTlY/+ZIEqDukVz8wsNKSw/ZmPz15ZxyC3YM/q0fLlQJRmD/sxw9dnG2mP+6xO3eXGLE/8/2fhhlhtD9IBQQpZ163PyhwPrfIJLs/cyytjjWGvz+02Lt5iTXCPxM+pZQh2MQ/2pCgdPlBxz8y8R7SNbTJP6269Tf0WMw/2JR1SeYizz91IqBGSgjRP2MK1jibjtI/5KI5Nivw1D+DjvOK6TrXP+jjkMMWMdk/UO3CxUDN2j9+wl3mCf7bP2ydNOQKtdw/ZfpG8JYW3T8uF1TIUx7dP1wVjyhA1tw/LHu3Hioy3D/NAYI5ejzbP/6OE+zg3Nk/jLbw3WIV2D+EWEefoB7WP/gyk6CmM9Q/GP8EODlT0j80qZmcd+/QP/z9Qah7ctE/\",\"dtype\":\"float64\",\"shape\":[75]},\"y\":{\"__ndarray__\":\"GhExyth1ND/Sv8nbtpRIP2vylNV0PVE/aTum7souWD/At0SJ8fVgPw3Iuahxymc/MSNhhJWvcD/bTfBN02d3P2zb5nxnaoA/CD5h5MAGhz8NmeH1TyaQP+zrCsc9p5Y/LbKd76fGnz/bLW5ISEmmPww9YvTcQq8/JV2OstnstT8Er5Y7M8G+P0c+r3jqkcU/5h99k6ZBzj88bCIzFzjVP4enV8oyxN0//yH99nXg5D8qOpLLf0jtP5kqGJXUifQ/c9cS8kHP/D+/DpwzojQEQIEmwoanVwxA4lgXt9HgE0BSSZ2AJuIbQAMJih9jjiNA5q4l5INuK0AwTKYKRj0zQNv5fmq8/DpAaCJseHrtQkB/+zpwzoxKQM3MzMzMeFJAZmZmZmZqWEAAAAAAAFxeQM3MzMzMJmJAmpmZmZkfZUBmZmZmZhhoQDMzMzMzEWtAAAAAAAAKbkBmZmZmZoFwQM3MzMzM/XFAMzMzMzN6c0CamZmZmfZ0QAAAAAAAc3ZAZmZmZmbvd0DNzMzMzGt5QDMzMzMz6HpAmpmZmZlkfEAAAAAAAOF9QGZmZmZmXX9AZmZmZuZsgECamZmZGSuBQM3MzMxM6YFAAAAAAICngkAzMzMzs2WDQGZmZmbmI4RAmpmZmRnihEDNzMzMTKCFQAAAAACAXoZAMzMzM7Mch0BmZmZm5tqHQJqZmZkZmYhAzczMzExXiUAAAAAAgBWKQDMzMzOz04pAZmZmZuaRi0CamZmZGVCMQM3MzMxMDo1AAAAAAIDMjUAzMzMzs4qOQGZmZmbmSI9A\",\"dtype\":\"float64\",\"shape\":[75]}}},\"id\":\"22f38975-a7ba-4e39-82a9-0bb399a8d2f9\",\"type\":\"ColumnDataSource\"},{\"attributes\":{\"axis_label\":\"pressure [mb]\",\"formatter\":{\"id\":\"c7ee192c-3539-4223-9c07-c05b6c7deb1c\",\"type\":\"BasicTickFormatter\"},\"plot\":{\"id\":\"a7174384-717e-4930-b1d7-2542ddb373f1\",\"subtype\":\"Figure\",\"type\":\"Plot\"},\"ticker\":{\"id\":\"6dbb8f98-7aaa-42a2-89b7-6037398ffc7b\",\"type\":\"BasicTicker\"}},\"id\":\"8adb8838-2746-42b5-97ce-36b3cce54985\",\"type\":\"LinearAxis\"},{\"attributes\":{},\"id\":\"7bd38875-8122-44c1-b2b2-6943188c06aa\",\"type\":\"BasicTicker\"},{\"attributes\":{},\"id\":\"6dbb8f98-7aaa-42a2-89b7-6037398ffc7b\",\"type\":\"BasicTicker\"},{\"attributes\":{\"dimension\":1,\"plot\":{\"id\":\"a7174384-717e-4930-b1d7-2542ddb373f1\",\"subtype\":\"Figure\",\"type\":\"Plot\"},\"ticker\":{\"id\":\"6dbb8f98-7aaa-42a2-89b7-6037398ffc7b\",\"type\":\"BasicTicker\"}},\"id\":\"ecbbadb4-c01b-4ab6-9a96-945f516c33cd\",\"type\":\"Grid\"},{\"attributes\":{\"axis_label\":\"cooling rate [K/day]\",\"formatter\":{\"id\":\"07091df7-8c66-49d8-8d6f-262a847b7786\",\"type\":\"BasicTickFormatter\"},\"plot\":{\"id\":\"a7174384-717e-4930-b1d7-2542ddb373f1\",\"subtype\":\"Figure\",\"type\":\"Plot\"},\"ticker\":{\"id\":\"7bd38875-8122-44c1-b2b2-6943188c06aa\",\"type\":\"BasicTicker\"}},\"id\":\"ca1154e0-99f2-411a-90e3-4adeb3fcf5c3\",\"type\":\"LinearAxis\"},{\"attributes\":{\"bottom_units\":\"screen\",\"fill_alpha\":{\"value\":0.5},\"fill_color\":{\"value\":\"lightgrey\"},\"left_units\":\"screen\",\"level\":\"overlay\",\"line_alpha\":{\"value\":1.0},\"line_color\":{\"value\":\"black\"},\"line_dash\":[4,4],\"line_width\":{\"value\":2},\"plot\":null,\"render_mode\":\"css\",\"right_units\":\"screen\",\"top_units\":\"screen\"},\"id\":\"8187bf1f-2f71-4a1f-b565-ad0541310ff5\",\"type\":\"BoxAnnotation\"},{\"attributes\":{},\"id\":\"ef8ed99b-9e89-4eeb-9a07-ac90a25d879f\",\"type\":\"LinearScale\"},{\"attributes\":{\"fill_alpha\":{\"value\":0.1},\"fill_color\":{\"value\":\"#1f77b4\"},\"line_alpha\":{\"value\":0.1},\"line_color\":{\"value\":\"#1f77b4\"},\"x\":{\"field\":\"x\"},\"y\":{\"field\":\"y\"}},\"id\":\"a506bcc9-ff89-4bff-a6ce-ae7e1fcd3842\",\"type\":\"Circle\"},{\"attributes\":{},\"id\":\"8d54de8c-5d78-4524-bd6f-ce5b077cdee8\",\"type\":\"HelpTool\"},{\"attributes\":{},\"id\":\"9bd086f8-5fea-4030-888a-7dc63b28b08e\",\"type\":\"SaveTool\"},{\"attributes\":{},\"id\":\"0cfe0e76-0d34-4b54-abd3-ac0da97c96a0\",\"type\":\"WheelZoomTool\"},{\"attributes\":{\"overlay\":{\"id\":\"8187bf1f-2f71-4a1f-b565-ad0541310ff5\",\"type\":\"BoxAnnotation\"}},\"id\":\"732e0316-7b2e-49a8-b71c-96b4a069626d\",\"type\":\"BoxZoomTool\"},{\"attributes\":{\"callback\":null,\"end\":0.01,\"start\":1020},\"id\":\"e599edae-c129-484f-96ee-e43f873d1fb8\",\"type\":\"Range1d\"},{\"attributes\":{\"line_alpha\":0.6,\"line_color\":\"#e41a1c\",\"line_dash\":[6],\"line_width\":5,\"x\":{\"field\":\"x\"},\"y\":{\"field\":\"y\"}},\"id\":\"011b8396-d577-479c-9700-9bc1ef6cfe0b\",\"type\":\"Line\"},{\"attributes\":{\"line_alpha\":0.1,\"line_color\":\"#1f77b4\",\"line_width\":1.5,\"x\":{\"field\":\"x\"},\"y\":{\"field\":\"y\"}},\"id\":\"a8f0e524-4324-4d4e-8a70-f3aad35dfbef\",\"type\":\"Line\"},{\"attributes\":{\"callback\":null,\"column_names\":[\"x\",\"y\"],\"data\":{\"x\":{\"__ndarray__\":\"aidtbGymQj+FotMyvZ1DP6XMuQ4St0U/Z7/G7gX+Rz+ACCmEAlRKP9M8mzNpuEw/haNgwv8qTz8tZl3ZqtVQP+2fBu1lHFI/wraz+gppUz+IkgWgJqtUP5A/Is/n4lU/GxNb0OI+Vz9KhZnMa7NYP0lJTk5nYl0/CMh6I83LZT+MfafUEEtxP5lFhbd8rHk/sbK0p1Qfgj/S8Rr2r6CIPzs890ExTpA/8GzyHrkllT+p0IUQKpKZP2d1CDHzYpk/ZlKitHcilT9rYpYuPJSQPxcKe9w5aYk/PU3hVWYngz/sX5XW7UZ9P9Aul+fvkHY/Mu9xETZRcT+C9SQHf2JqP6jYgTFp8WQ/Fj6YFrSZYj+jofAFlpddP/n3ACwToFg/U27snYA6Vj8oIESadhdWP0WfIyg+gFU/IN1FrZohVz/RFzP5SnNmPwcjcOjSuIM/On1I0NOUmD9Ep2acGd+mP61I62bfKLE/oieogH6ItD8odvSXSJW3P8SLyEJQoLs/TDMAjfd3vj/rG3hZzHTBP0GCer6rGMQ/PmzXjTSqxj+SfkKIBsfJP5gt6hEgrcs/qVY9peILzj/qwL3BVXDQP2Fy9Zhx9NE/rRsERgZY1D/pjJTDBsTWP6NCokmZf9k/QmYncAPi2j+HWv6i6m7bP8SQlatVQNw/qz9LzEHY3D+4XCeu2/fcP34g82bX7tw/B8cc6nST3D/DVSc9Hs/bP8oNGkOBwt0//n9Vwpgd2D+GAETUjBXWP5hLjHRZ/dM/IGSttOY/0j/k9L7eNfDQPzbA/Wo7StE/\",\"dtype\":\"float64\",\"shape\":[75]},\"y\":{\"__ndarray__\":\"GhExyth1ND/Sv8nbtpRIP2vylNV0PVE/aTum7souWD/At0SJ8fVgPw3Iuahxymc/MSNhhJWvcD/bTfBN02d3P2zb5nxnaoA/CD5h5MAGhz8NmeH1TyaQP+zrCsc9p5Y/LbKd76fGnz/bLW5ISEmmPww9YvTcQq8/JV2OstnstT8Er5Y7M8G+P0c+r3jqkcU/5h99k6ZBzj88bCIzFzjVP4enV8oyxN0//yH99nXg5D8qOpLLf0jtP5kqGJXUifQ/c9cS8kHP/D+/DpwzojQEQIEmwoanVwxA4lgXt9HgE0BSSZ2AJuIbQAMJih9jjiNA5q4l5INuK0AwTKYKRj0zQNv5fmq8/DpAaCJseHrtQkB/+zpwzoxKQM3MzMzMeFJAZmZmZmZqWEAAAAAAAFxeQM3MzMzMJmJAmpmZmZkfZUBmZmZmZhhoQDMzMzMzEWtAAAAAAAAKbkBmZmZmZoFwQM3MzMzM/XFAMzMzMzN6c0CamZmZmfZ0QAAAAAAAc3ZAZmZmZmbvd0DNzMzMzGt5QDMzMzMz6HpAmpmZmZlkfEAAAAAAAOF9QGZmZmZmXX9AZmZmZuZsgECamZmZGSuBQM3MzMxM6YFAAAAAAICngkAzMzMzs2WDQGZmZmbmI4RAmpmZmRnihEDNzMzMTKCFQAAAAACAXoZAMzMzM7Mch0BmZmZm5tqHQJqZmZkZmYhAzczMzExXiUAAAAAAgBWKQDMzMzOz04pAZmZmZuaRi0CamZmZGVCMQM3MzMxMDo1AAAAAAIDMjUAzMzMzs4qOQGZmZmbmSI9A\",\"dtype\":\"float64\",\"shape\":[75]}}},\"id\":\"443596a3-3143-4e3c-b8fb-43a171291748\",\"type\":\"ColumnDataSource\"},{\"attributes\":{},\"id\":\"30f269f7-05b1-4172-b459-a13e4eb735e5\",\"type\":\"LinearScale\"},{\"attributes\":{\"source\":{\"id\":\"1aea094a-f021-4ddd-b16b-9c6a469d9a2b\",\"type\":\"ColumnDataSource\"}},\"id\":\"d76e6f89-239a-4471-a995-73c7165f0f5e\",\"type\":\"CDSView\"},{\"attributes\":{},\"id\":\"42f87905-5590-4652-8e60-62c0ac0dbd51\",\"type\":\"ResetTool\"},{\"attributes\":{},\"id\":\"ea618dcb-1d94-4aac-9c7b-f7e682fe59af\",\"type\":\"PanTool\"},{\"attributes\":{\"source\":{\"id\":\"22f38975-a7ba-4e39-82a9-0bb399a8d2f9\",\"type\":\"ColumnDataSource\"}},\"id\":\"bbdf135a-397e-4d49-a0f7-3c454badca06\",\"type\":\"CDSView\"},{\"attributes\":{\"line_alpha\":0.1,\"line_color\":\"#1f77b4\",\"line_width\":3,\"x\":{\"field\":\"x\"},\"y\":{\"field\":\"y\"}},\"id\":\"e522a6b2-5a34-4b52-a29c-c646c5076b33\",\"type\":\"Line\"},{\"attributes\":{\"fill_alpha\":{\"value\":0.1},\"fill_color\":{\"value\":\"#1f77b4\"},\"line_alpha\":{\"value\":0.1},\"line_color\":{\"value\":\"#1f77b4\"},\"x\":{\"field\":\"x\"},\"y\":{\"field\":\"y\"}},\"id\":\"e170885d-0cc8-4d4b-8b80-3e4036474c94\",\"type\":\"Square\"},{\"attributes\":{},\"id\":\"38a37e37-4e0e-4831-af67-45612cef5528\",\"type\":\"WheelZoomTool\"},{\"attributes\":{\"fill_alpha\":{\"value\":0.7},\"fill_color\":{\"value\":\"#4daf4a\"},\"line_alpha\":{\"value\":0.7},\"line_color\":{\"value\":\"#4daf4a\"},\"x\":{\"field\":\"x\"},\"y\":{\"field\":\"y\"}},\"id\":\"f9405506-b38e-40eb-8949-c500e322e5ea\",\"type\":\"Circle\"},{\"attributes\":{\"children\":[{\"id\":\"a7174384-717e-4930-b1d7-2542ddb373f1\",\"subtype\":\"Figure\",\"type\":\"Plot\"},{\"id\":\"6987e36c-2064-454e-889d-0d3858b8cb81\",\"subtype\":\"Figure\",\"type\":\"Plot\"}]},\"id\":\"983ef7fc-769a-4175-96f7-e2d18958e3d4\",\"type\":\"Row\"},{\"attributes\":{\"line_alpha\":0.6,\"line_color\":\"#984ea3\",\"line_width\":3,\"x\":{\"field\":\"x\"},\"y\":{\"field\":\"y\"}},\"id\":\"4fa8ec99-901a-4398-91be-40476945cbe4\",\"type\":\"Line\"},{\"attributes\":{\"fill_alpha\":{\"value\":0.7},\"fill_color\":{\"value\":\"#4daf4a\"},\"line_alpha\":{\"value\":0.7},\"line_color\":{\"value\":\"#4daf4a\"},\"x\":{\"field\":\"x\"},\"y\":{\"field\":\"y\"}},\"id\":\"290a1ffd-f75e-4163-bfd7-7e60d1564f09\",\"type\":\"Circle\"},{\"attributes\":{\"fill_alpha\":{\"value\":0.7},\"fill_color\":{\"value\":\"#984ea3\"},\"line_alpha\":{\"value\":0.7},\"line_color\":{\"value\":\"#984ea3\"},\"x\":{\"field\":\"x\"},\"y\":{\"field\":\"y\"}},\"id\":\"0c2da588-fddf-403c-b094-50f26e15b26e\",\"type\":\"Square\"},{\"attributes\":{\"callback\":null,\"column_names\":[\"x\",\"y\"],\"data\":{\"x\":{\"__ndarray__\":\"4D6vLZf+ND+cMBGdFxI3P4qH8YeYszs/OyZldpRZQD904nhYOulCP+UHOlPSjkU/IRva4A1DSD9JJ+0e8QBLP5sKoM4qxE0/bv4D2fNHUD+c9WBMnp1RP6Ludy8N+FI/R/Pn5hk+VD87SDljEpFVPwKAFhw0bFo/ySZgh+8VZT8RkDIQ8ptxP6pt8KmPzHo/Qcuh4os4gz8sYIbvknKKPzu5+j/0lZE/BebNU7DVlj/VmtnzpGibPxiUOfuiu5o/gBUpkoSElT9Poa5GWlCQPxKPrS9eaIg/4a5N0M48gj/JcolYARR8P9Ee56kSTXY/UVozBtq8cT/h5uRvgRdsP/miCUh+M2c/8Az0e6QCZD/RpVeBXA1hP/kQBGuE1Vs/6cBFcUaJWD+wvKaulXxXPzDGnHQWTlY/+ZIEqDukVz8wsNKSw/ZmPz15ZxyC3YM/q0fLlQJRmD/sxw9dnG2mP+6xO3eXGLE/8/2fhhlhtD9IBQQpZ163PyhwPrfIJLs/cyytjjWGvz+02Lt5iTXCPxM+pZQh2MQ/2pCgdPlBxz8y8R7SNbTJP6269Tf0WMw/2JR1SeYizz91IqBGSgjRP2MK1jibjtI/5KI5Nivw1D+DjvOK6TrXP+jjkMMWMdk/UO3CxUDN2j9+wl3mCf7bP2ydNOQKtdw/ZfpG8JYW3T8uF1TIUx7dP1wVjyhA1tw/LHu3Hioy3D/NAYI5ejzbP/6OE+zg3Nk/jLbw3WIV2D+EWEefoB7WP/gyk6CmM9Q/GP8EODlT0j80qZmcd+/QP/z9Qah7ctE/\",\"dtype\":\"float64\",\"shape\":[75]},\"y\":{\"__ndarray__\":\"GhExyth1ND/Sv8nbtpRIP2vylNV0PVE/aTum7souWD/At0SJ8fVgPw3Iuahxymc/MSNhhJWvcD/bTfBN02d3P2zb5nxnaoA/CD5h5MAGhz8NmeH1TyaQP+zrCsc9p5Y/LbKd76fGnz/bLW5ISEmmPww9YvTcQq8/JV2OstnstT8Er5Y7M8G+P0c+r3jqkcU/5h99k6ZBzj88bCIzFzjVP4enV8oyxN0//yH99nXg5D8qOpLLf0jtP5kqGJXUifQ/c9cS8kHP/D+/DpwzojQEQIEmwoanVwxA4lgXt9HgE0BSSZ2AJuIbQAMJih9jjiNA5q4l5INuK0AwTKYKRj0zQNv5fmq8/DpAaCJseHrtQkB/+zpwzoxKQM3MzMzMeFJAZmZmZmZqWEAAAAAAAFxeQM3MzMzMJmJAmpmZmZkfZUBmZmZmZhhoQDMzMzMzEWtAAAAAAAAKbkBmZmZmZoFwQM3MzMzM/XFAMzMzMzN6c0CamZmZmfZ0QAAAAAAAc3ZAZmZmZmbvd0DNzMzMzGt5QDMzMzMz6HpAmpmZmZlkfEAAAAAAAOF9QGZmZmZmXX9AZmZmZuZsgECamZmZGSuBQM3MzMxM6YFAAAAAAICngkAzMzMzs2WDQGZmZmbmI4RAmpmZmRnihEDNzMzMTKCFQAAAAACAXoZAMzMzM7Mch0BmZmZm5tqHQJqZmZkZmYhAzczMzExXiUAAAAAAgBWKQDMzMzOz04pAZmZmZuaRi0CamZmZGVCMQM3MzMxMDo1AAAAAAIDMjUAzMzMzs4qOQGZmZmbmSI9A\",\"dtype\":\"float64\",\"shape\":[75]}}},\"id\":\"b799f4eb-dfda-496c-af9d-4ec64d53a414\",\"type\":\"ColumnDataSource\"},{\"attributes\":{\"callback\":null,\"column_names\":[\"x\",\"y\"],\"data\":{\"x\":{\"__ndarray__\":\"aidtbGymQj+FotMyvZ1DP6XMuQ4St0U/Z7/G7gX+Rz+ACCmEAlRKP9M8mzNpuEw/haNgwv8qTz8tZl3ZqtVQP+2fBu1lHFI/wraz+gppUz+IkgWgJqtUP5A/Is/n4lU/GxNb0OI+Vz9KhZnMa7NYP0lJTk5nYl0/CMh6I83LZT+MfafUEEtxP5lFhbd8rHk/sbK0p1Qfgj/S8Rr2r6CIPzs890ExTpA/8GzyHrkllT+p0IUQKpKZP2d1CDHzYpk/ZlKitHcilT9rYpYuPJSQPxcKe9w5aYk/PU3hVWYngz/sX5XW7UZ9P9Aul+fvkHY/Mu9xETZRcT+C9SQHf2JqP6jYgTFp8WQ/Fj6YFrSZYj+jofAFlpddP/n3ACwToFg/U27snYA6Vj8oIESadhdWP0WfIyg+gFU/IN1FrZohVz/RFzP5SnNmPwcjcOjSuIM/On1I0NOUmD9Ep2acGd+mP61I62bfKLE/oieogH6ItD8odvSXSJW3P8SLyEJQoLs/TDMAjfd3vj/rG3hZzHTBP0GCer6rGMQ/PmzXjTSqxj+SfkKIBsfJP5gt6hEgrcs/qVY9peILzj/qwL3BVXDQP2Fy9Zhx9NE/rRsERgZY1D/pjJTDBsTWP6NCokmZf9k/QmYncAPi2j+HWv6i6m7bP8SQlatVQNw/qz9LzEHY3D+4XCeu2/fcP34g82bX7tw/B8cc6nST3D/DVSc9Hs/bP8oNGkOBwt0//n9Vwpgd2D+GAETUjBXWP5hLjHRZ/dM/IGSttOY/0j/k9L7eNfDQPzbA/Wo7StE/\",\"dtype\":\"float64\",\"shape\":[75]},\"y\":{\"__ndarray__\":\"GhExyth1ND/Sv8nbtpRIP2vylNV0PVE/aTum7souWD/At0SJ8fVgPw3Iuahxymc/MSNhhJWvcD/bTfBN02d3P2zb5nxnaoA/CD5h5MAGhz8NmeH1TyaQP+zrCsc9p5Y/LbKd76fGnz/bLW5ISEmmPww9YvTcQq8/JV2OstnstT8Er5Y7M8G+P0c+r3jqkcU/5h99k6ZBzj88bCIzFzjVP4enV8oyxN0//yH99nXg5D8qOpLLf0jtP5kqGJXUifQ/c9cS8kHP/D+/DpwzojQEQIEmwoanVwxA4lgXt9HgE0BSSZ2AJuIbQAMJih9jjiNA5q4l5INuK0AwTKYKRj0zQNv5fmq8/DpAaCJseHrtQkB/+zpwzoxKQM3MzMzMeFJAZmZmZmZqWEAAAAAAAFxeQM3MzMzMJmJAmpmZmZkfZUBmZmZmZhhoQDMzMzMzEWtAAAAAAAAKbkBmZmZmZoFwQM3MzMzM/XFAMzMzMzN6c0CamZmZmfZ0QAAAAAAAc3ZAZmZmZmbvd0DNzMzMzGt5QDMzMzMz6HpAmpmZmZlkfEAAAAAAAOF9QGZmZmZmXX9AZmZmZuZsgECamZmZGSuBQM3MzMxM6YFAAAAAAICngkAzMzMzs2WDQGZmZmbmI4RAmpmZmRnihEDNzMzMTKCFQAAAAACAXoZAMzMzM7Mch0BmZmZm5tqHQJqZmZkZmYhAzczMzExXiUAAAAAAgBWKQDMzMzOz04pAZmZmZuaRi0CamZmZGVCMQM3MzMxMDo1AAAAAAIDMjUAzMzMzs4qOQGZmZmbmSI9A\",\"dtype\":\"float64\",\"shape\":[75]}}},\"id\":\"6f6e7868-85bb-41df-931d-0839763198a6\",\"type\":\"ColumnDataSource\"},{\"attributes\":{\"data_source\":{\"id\":\"abe5db9c-0647-42c5-b311-cf8b6779676a\",\"type\":\"ColumnDataSource\"},\"glyph\":{\"id\":\"290a1ffd-f75e-4163-bfd7-7e60d1564f09\",\"type\":\"Circle\"},\"hover_glyph\":null,\"muted_glyph\":null,\"nonselection_glyph\":{\"id\":\"9937b5cf-2449-4f8b-b921-19b98f69fd0f\",\"type\":\"Circle\"},\"selection_glyph\":null,\"view\":{\"id\":\"819f9317-96d9-485b-9105-b770530f755d\",\"type\":\"CDSView\"}},\"id\":\"2f05fcf5-aa8d-439b-a2a2-65d79421dbe1\",\"type\":\"GlyphRenderer\"},{\"attributes\":{\"data_source\":{\"id\":\"b799f4eb-dfda-496c-af9d-4ec64d53a414\",\"type\":\"ColumnDataSource\"},\"glyph\":{\"id\":\"828340bd-d6f7-44bf-affa-d9b781ad871b\",\"type\":\"Line\"},\"hover_glyph\":null,\"muted_glyph\":null,\"nonselection_glyph\":{\"id\":\"2fef784e-b5a7-413f-b3db-657d012eeed0\",\"type\":\"Line\"},\"selection_glyph\":null,\"view\":{\"id\":\"76058e4f-6cea-4bcb-b3a2-f9c78a54a7d6\",\"type\":\"CDSView\"}},\"id\":\"b5fd931c-7ca1-46f3-8ab7-62e22c312598\",\"type\":\"GlyphRenderer\"},{\"attributes\":{\"num_minor_ticks\":10},\"id\":\"0d7ef2da-7196-4991-b08a-e8677a5bbb21\",\"type\":\"LogTicker\"},{\"attributes\":{\"callback\":null,\"column_names\":[\"x\",\"y\"],\"data\":{\"x\":{\"__ndarray__\":\"4D6vLZf+ND+cMBGdFxI3P4qH8YeYszs/OyZldpRZQD904nhYOulCP+UHOlPSjkU/IRva4A1DSD9JJ+0e8QBLP5sKoM4qxE0/bv4D2fNHUD+c9WBMnp1RP6Ludy8N+FI/R/Pn5hk+VD87SDljEpFVPwKAFhw0bFo/ySZgh+8VZT8RkDIQ8ptxP6pt8KmPzHo/Qcuh4os4gz8sYIbvknKKPzu5+j/0lZE/BebNU7DVlj/VmtnzpGibPxiUOfuiu5o/gBUpkoSElT9Poa5GWlCQPxKPrS9eaIg/4a5N0M48gj/JcolYARR8P9Ee56kSTXY/UVozBtq8cT/h5uRvgRdsP/miCUh+M2c/8Az0e6QCZD/RpVeBXA1hP/kQBGuE1Vs/6cBFcUaJWD+wvKaulXxXPzDGnHQWTlY/+ZIEqDukVz8wsNKSw/ZmPz15ZxyC3YM/q0fLlQJRmD/sxw9dnG2mP+6xO3eXGLE/8/2fhhlhtD9IBQQpZ163PyhwPrfIJLs/cyytjjWGvz+02Lt5iTXCPxM+pZQh2MQ/2pCgdPlBxz8y8R7SNbTJP6269Tf0WMw/2JR1SeYizz91IqBGSgjRP2MK1jibjtI/5KI5Nivw1D+DjvOK6TrXP+jjkMMWMdk/UO3CxUDN2j9+wl3mCf7bP2ydNOQKtdw/ZfpG8JYW3T8uF1TIUx7dP1wVjyhA1tw/LHu3Hioy3D/NAYI5ejzbP/6OE+zg3Nk/jLbw3WIV2D+EWEefoB7WP/gyk6CmM9Q/GP8EODlT0j80qZmcd+/QP/z9Qah7ctE/\",\"dtype\":\"float64\",\"shape\":[75]},\"y\":{\"__ndarray__\":\"GhExyth1ND/Sv8nbtpRIP2vylNV0PVE/aTum7souWD/At0SJ8fVgPw3Iuahxymc/MSNhhJWvcD/bTfBN02d3P2zb5nxnaoA/CD5h5MAGhz8NmeH1TyaQP+zrCsc9p5Y/LbKd76fGnz/bLW5ISEmmPww9YvTcQq8/JV2OstnstT8Er5Y7M8G+P0c+r3jqkcU/5h99k6ZBzj88bCIzFzjVP4enV8oyxN0//yH99nXg5D8qOpLLf0jtP5kqGJXUifQ/c9cS8kHP/D+/DpwzojQEQIEmwoanVwxA4lgXt9HgE0BSSZ2AJuIbQAMJih9jjiNA5q4l5INuK0AwTKYKRj0zQNv5fmq8/DpAaCJseHrtQkB/+zpwzoxKQM3MzMzMeFJAZmZmZmZqWEAAAAAAAFxeQM3MzMzMJmJAmpmZmZkfZUBmZmZmZhhoQDMzMzMzEWtAAAAAAAAKbkBmZmZmZoFwQM3MzMzM/XFAMzMzMzN6c0CamZmZmfZ0QAAAAAAAc3ZAZmZmZmbvd0DNzMzMzGt5QDMzMzMz6HpAmpmZmZlkfEAAAAAAAOF9QGZmZmZmXX9AZmZmZuZsgECamZmZGSuBQM3MzMxM6YFAAAAAAICngkAzMzMzs2WDQGZmZmbmI4RAmpmZmRnihEDNzMzMTKCFQAAAAACAXoZAMzMzM7Mch0BmZmZm5tqHQJqZmZkZmYhAzczMzExXiUAAAAAAgBWKQDMzMzOz04pAZmZmZuaRi0CamZmZGVCMQM3MzMxMDo1AAAAAAIDMjUAzMzMzs4qOQGZmZmbmSI9A\",\"dtype\":\"float64\",\"shape\":[75]}}},\"id\":\"abe5db9c-0647-42c5-b311-cf8b6779676a\",\"type\":\"ColumnDataSource\"},{\"attributes\":{},\"id\":\"9d482f94-871e-4314-baeb-7aad27618281\",\"type\":\"LogScale\"},{\"attributes\":{\"axis_label\":\"cooling rate [K/day]\",\"formatter\":{\"id\":\"935b119a-5562-4780-aa95-82e014c7f5a8\",\"type\":\"BasicTickFormatter\"},\"plot\":{\"id\":\"6987e36c-2064-454e-889d-0d3858b8cb81\",\"subtype\":\"Figure\",\"type\":\"Plot\"},\"ticker\":{\"id\":\"bc09b05a-93dc-4cc0-b94e-5d7fcb38be47\",\"type\":\"BasicTicker\"}},\"id\":\"b6aaddec-e0d8-4372-acc1-1e01dc2538ba\",\"type\":\"LinearAxis\"},{\"attributes\":{\"tools\":[{\"id\":\"ea618dcb-1d94-4aac-9c7b-f7e682fe59af\",\"type\":\"PanTool\"},{\"id\":\"0cfe0e76-0d34-4b54-abd3-ac0da97c96a0\",\"type\":\"WheelZoomTool\"},{\"id\":\"732e0316-7b2e-49a8-b71c-96b4a069626d\",\"type\":\"BoxZoomTool\"},{\"id\":\"9bd086f8-5fea-4030-888a-7dc63b28b08e\",\"type\":\"SaveTool\"},{\"id\":\"42f87905-5590-4652-8e60-62c0ac0dbd51\",\"type\":\"ResetTool\"},{\"id\":\"8d54de8c-5d78-4524-bd6f-ce5b077cdee8\",\"type\":\"HelpTool\"},{\"id\":\"24d14129-3686-4379-9bf1-b4cb24922a9a\",\"type\":\"PanTool\"},{\"id\":\"38a37e37-4e0e-4831-af67-45612cef5528\",\"type\":\"WheelZoomTool\"},{\"id\":\"8f902f19-f2ca-49fa-8a1b-d2b16b18cb4a\",\"type\":\"BoxZoomTool\"},{\"id\":\"0ecb3e5f-24b4-4c54-81b8-fa6a2bee4af5\",\"type\":\"SaveTool\"},{\"id\":\"faeaf4d2-46d0-402c-bee8-3baa393ab5a3\",\"type\":\"ResetTool\"},{\"id\":\"64d0daa5-6f56-4b12-b734-8f82eb57cf4e\",\"type\":\"HelpTool\"}]},\"id\":\"16e48d81-5fe5-4bdc-8cec-91539db58b3f\",\"type\":\"ProxyToolbar\"},{\"attributes\":{\"fill_alpha\":{\"value\":0.1},\"fill_color\":{\"value\":\"#1f77b4\"},\"line_alpha\":{\"value\":0.1},\"line_color\":{\"value\":\"#1f77b4\"},\"x\":{\"field\":\"x\"},\"y\":{\"field\":\"y\"}},\"id\":\"9937b5cf-2449-4f8b-b921-19b98f69fd0f\",\"type\":\"Circle\"},{\"attributes\":{\"active_drag\":\"auto\",\"active_inspect\":\"auto\",\"active_scroll\":\"auto\",\"active_tap\":\"auto\",\"tools\":[{\"id\":\"24d14129-3686-4379-9bf1-b4cb24922a9a\",\"type\":\"PanTool\"},{\"id\":\"38a37e37-4e0e-4831-af67-45612cef5528\",\"type\":\"WheelZoomTool\"},{\"id\":\"8f902f19-f2ca-49fa-8a1b-d2b16b18cb4a\",\"type\":\"BoxZoomTool\"},{\"id\":\"0ecb3e5f-24b4-4c54-81b8-fa6a2bee4af5\",\"type\":\"SaveTool\"},{\"id\":\"faeaf4d2-46d0-402c-bee8-3baa393ab5a3\",\"type\":\"ResetTool\"},{\"id\":\"64d0daa5-6f56-4b12-b734-8f82eb57cf4e\",\"type\":\"HelpTool\"}]},\"id\":\"afddc029-b19d-4eb4-b55b-7e7f8b2409e0\",\"type\":\"Toolbar\"},{\"attributes\":{\"source\":{\"id\":\"abe5db9c-0647-42c5-b311-cf8b6779676a\",\"type\":\"ColumnDataSource\"}},\"id\":\"819f9317-96d9-485b-9105-b770530f755d\",\"type\":\"CDSView\"},{\"attributes\":{\"plot\":{\"id\":\"6987e36c-2064-454e-889d-0d3858b8cb81\",\"subtype\":\"Figure\",\"type\":\"Plot\"},\"ticker\":{\"id\":\"bc09b05a-93dc-4cc0-b94e-5d7fcb38be47\",\"type\":\"BasicTicker\"}},\"id\":\"6bc92a9d-4632-47aa-8680-3a7fd34f5818\",\"type\":\"Grid\"},{\"attributes\":{\"line_alpha\":0.1,\"line_color\":\"#1f77b4\",\"line_dash\":[6],\"line_width\":5,\"x\":{\"field\":\"x\"},\"y\":{\"field\":\"y\"}},\"id\":\"4502711e-04e9-4b25-8e50-22e70b17b75f\",\"type\":\"Line\"},{\"attributes\":{\"line_color\":\"#4daf4a\",\"line_width\":1.5,\"x\":{\"field\":\"x\"},\"y\":{\"field\":\"y\"}},\"id\":\"828340bd-d6f7-44bf-affa-d9b781ad871b\",\"type\":\"Line\"},{\"attributes\":{\"line_alpha\":0.1,\"line_color\":\"#1f77b4\",\"line_width\":1.5,\"x\":{\"field\":\"x\"},\"y\":{\"field\":\"y\"}},\"id\":\"2fef784e-b5a7-413f-b3db-657d012eeed0\",\"type\":\"Line\"},{\"attributes\":{},\"id\":\"bc09b05a-93dc-4cc0-b94e-5d7fcb38be47\",\"type\":\"BasicTicker\"},{\"attributes\":{\"callback\":null,\"column_names\":[\"x\",\"y\"],\"data\":{\"x\":{\"__ndarray__\":\"aidtbGymQj+FotMyvZ1DP6XMuQ4St0U/Z7/G7gX+Rz+ACCmEAlRKP9M8mzNpuEw/haNgwv8qTz8tZl3ZqtVQP+2fBu1lHFI/wraz+gppUz+IkgWgJqtUP5A/Is/n4lU/GxNb0OI+Vz9KhZnMa7NYP0lJTk5nYl0/CMh6I83LZT+MfafUEEtxP5lFhbd8rHk/sbK0p1Qfgj/S8Rr2r6CIPzs890ExTpA/8GzyHrkllT+p0IUQKpKZP2d1CDHzYpk/ZlKitHcilT9rYpYuPJSQPxcKe9w5aYk/PU3hVWYngz/sX5XW7UZ9P9Aul+fvkHY/Mu9xETZRcT+C9SQHf2JqP6jYgTFp8WQ/Fj6YFrSZYj+jofAFlpddP/n3ACwToFg/U27snYA6Vj8oIESadhdWP0WfIyg+gFU/IN1FrZohVz/RFzP5SnNmPwcjcOjSuIM/On1I0NOUmD9Ep2acGd+mP61I62bfKLE/oieogH6ItD8odvSXSJW3P8SLyEJQoLs/TDMAjfd3vj/rG3hZzHTBP0GCer6rGMQ/PmzXjTSqxj+SfkKIBsfJP5gt6hEgrcs/qVY9peILzj/qwL3BVXDQP2Fy9Zhx9NE/rRsERgZY1D/pjJTDBsTWP6NCokmZf9k/QmYncAPi2j+HWv6i6m7bP8SQlatVQNw/qz9LzEHY3D+4XCeu2/fcP34g82bX7tw/B8cc6nST3D/DVSc9Hs/bP8oNGkOBwt0//n9Vwpgd2D+GAETUjBXWP5hLjHRZ/dM/IGSttOY/0j/k9L7eNfDQPzbA/Wo7StE/\",\"dtype\":\"float64\",\"shape\":[75]},\"y\":{\"__ndarray__\":\"GhExyth1ND/Sv8nbtpRIP2vylNV0PVE/aTum7souWD/At0SJ8fVgPw3Iuahxymc/MSNhhJWvcD/bTfBN02d3P2zb5nxnaoA/CD5h5MAGhz8NmeH1TyaQP+zrCsc9p5Y/LbKd76fGnz/bLW5ISEmmPww9YvTcQq8/JV2OstnstT8Er5Y7M8G+P0c+r3jqkcU/5h99k6ZBzj88bCIzFzjVP4enV8oyxN0//yH99nXg5D8qOpLLf0jtP5kqGJXUifQ/c9cS8kHP/D+/DpwzojQEQIEmwoanVwxA4lgXt9HgE0BSSZ2AJuIbQAMJih9jjiNA5q4l5INuK0AwTKYKRj0zQNv5fmq8/DpAaCJseHrtQkB/+zpwzoxKQM3MzMzMeFJAZmZmZmZqWEAAAAAAAFxeQM3MzMzMJmJAmpmZmZkfZUBmZmZmZhhoQDMzMzMzEWtAAAAAAAAKbkBmZmZmZoFwQM3MzMzM/XFAMzMzMzN6c0CamZmZmfZ0QAAAAAAAc3ZAZmZmZmbvd0DNzMzMzGt5QDMzMzMz6HpAmpmZmZlkfEAAAAAAAOF9QGZmZmZmXX9AZmZmZuZsgECamZmZGSuBQM3MzMxM6YFAAAAAAICngkAzMzMzs2WDQGZmZmbmI4RAmpmZmRnihEDNzMzMTKCFQAAAAACAXoZAMzMzM7Mch0BmZmZm5tqHQJqZmZkZmYhAzczMzExXiUAAAAAAgBWKQDMzMzOz04pAZmZmZuaRi0CamZmZGVCMQM3MzMxMDo1AAAAAAIDMjUAzMzMzs4qOQGZmZmbmSI9A\",\"dtype\":\"float64\",\"shape\":[75]}}},\"id\":\"44ece5c8-59ce-45a5-99ed-08dc3cbbcd76\",\"type\":\"ColumnDataSource\"},{\"attributes\":{\"data_source\":{\"id\":\"994188f2-0014-46c0-9e73-263f5e123327\",\"type\":\"ColumnDataSource\"},\"glyph\":{\"id\":\"4fa8ec99-901a-4398-91be-40476945cbe4\",\"type\":\"Line\"},\"hover_glyph\":null,\"muted_glyph\":null,\"nonselection_glyph\":{\"id\":\"e522a6b2-5a34-4b52-a29c-c646c5076b33\",\"type\":\"Line\"},\"selection_glyph\":null,\"view\":{\"id\":\"60c73b45-b873-4d6d-a776-f70b08a9bbee\",\"type\":\"CDSView\"}},\"id\":\"adf9e0e0-9232-4876-8294-bf0e3a4fd811\",\"type\":\"GlyphRenderer\"},{\"attributes\":{\"line_alpha\":0.6,\"line_color\":\"#984ea3\",\"line_width\":3,\"x\":{\"field\":\"x\"},\"y\":{\"field\":\"y\"}},\"id\":\"e6271e0f-4caa-4450-9b5f-372dced49424\",\"type\":\"Line\"},{\"attributes\":{},\"id\":\"85037bfa-781f-4385-852e-7df5e9c70a1c\",\"type\":\"LinearScale\"},{\"attributes\":{\"source\":{\"id\":\"b799f4eb-dfda-496c-af9d-4ec64d53a414\",\"type\":\"ColumnDataSource\"}},\"id\":\"76058e4f-6cea-4bcb-b3a2-f9c78a54a7d6\",\"type\":\"CDSView\"},{\"attributes\":{\"fill_alpha\":{\"value\":0.7},\"fill_color\":{\"value\":\"#984ea3\"},\"line_alpha\":{\"value\":0.7},\"line_color\":{\"value\":\"#984ea3\"},\"x\":{\"field\":\"x\"},\"y\":{\"field\":\"y\"}},\"id\":\"af8eed00-7157-4ffd-8d3d-9dba57395ab1\",\"type\":\"Square\"},{\"attributes\":{\"source\":{\"id\":\"6f6e7868-85bb-41df-931d-0839763198a6\",\"type\":\"ColumnDataSource\"}},\"id\":\"5c186c57-48f1-4979-b90a-0a958c1c1907\",\"type\":\"CDSView\"},{\"attributes\":{\"dimension\":1,\"plot\":{\"id\":\"6987e36c-2064-454e-889d-0d3858b8cb81\",\"subtype\":\"Figure\",\"type\":\"Plot\"},\"ticker\":{\"id\":\"0d7ef2da-7196-4991-b08a-e8677a5bbb21\",\"type\":\"LogTicker\"}},\"id\":\"07321359-af24-4a0e-a03c-afbcd284b932\",\"type\":\"Grid\"},{\"attributes\":{\"callback\":null,\"end\":0.027076755583,\"start\":-0.004582165883},\"id\":\"920f2be2-168e-4b78-9e3a-93d2d1314448\",\"type\":\"Range1d\"},{\"attributes\":{\"items\":[{\"id\":\"b8c242e9-3a43-48b2-b0da-8ecccb777353\",\"type\":\"LegendItem\"},{\"id\":\"4c0b2853-c64e-4e12-8a55-218f57df8f74\",\"type\":\"LegendItem\"},{\"id\":\"197dd5ec-bb6a-4af4-bbab-514e2a9c9fcc\",\"type\":\"LegendItem\"}],\"label_text_font_size\":{\"value\":\"8pt\"},\"location\":[10,-30],\"plot\":{\"id\":\"6987e36c-2064-454e-889d-0d3858b8cb81\",\"subtype\":\"Figure\",\"type\":\"Plot\"}},\"id\":\"0f089aac-228f-4af6-b90f-ca50056e990a\",\"type\":\"Legend\"},{\"attributes\":{\"callback\":null,\"column_names\":[\"x\",\"y\"],\"data\":{\"x\":{\"__ndarray__\":\"AAAAAAAAAAAAAAAAAAAAAAAAAAAAAAAAAAAAAAAAAADiMSdbacGXPwAAAAAAAAAAAAAAAAAAAADGndaerjaBPwAAAAAAAAAAIzfTXUp/cb8AAAAAAAAAADs9YkGQrXo/AAAAAAAAAAAAAAAAAAAAAGVKhR/+VGM/5G+GGV2Qaz+ZXlnfhKZzPx6gQP6n2Xo/nuqE3yOlgD96BpM246GIP2tR6LrFA5E/iBTxQN5XlT+4UdQBX72ZP+Wn1ppk5pk/8UdCPMHnlT+bUcMc3FSRP+wTGmoP2Yo/EhR636oChD+CBFo9Tc19P7SzS3+mSnY/q8iMooxScD8qI2eG8bhnP48KF8YazWE/wd/UrNgEXT87iHKpF2pXP6JRpVnlsVI/hekMJ0inUD9MAbtrKHRQP4OR05++EFA/FcV9vaG9UT+tu99Dbq9hP29eoh9pzn8/cDheRz3AlD9XgNPhP+KjP0hq9WMAma4/o9j1/kvBsj+XOPJAZBG2P+ZBwV+oULk/on/dRIiGvD9P/pNkwlTAP5QwNiFrFcM/N4eMw3DgxT8092/i1JzIP0c/VPkiSss/ATtxGFAYzj+qWtrCVn3QP24aul1YDNI/XRddYlWS1D/9rt9+hhjXP416DH8bXNk/if0zvaNK2z8g+BA78L3cP6O25CPvvd0/Yl/8fnto3j+rxdB/ScneP/HRqOHX394/efoxexOi3j/6tMwao9LdP74K10BGQtw/ar8YPuAJ2j+z7dVDC3vXPw6oDiS18dQ/G9hs3bS20j8eDMigCxHRP8MZ034xPNE/\",\"dtype\":\"float64\",\"shape\":[75]},\"y\":{\"__ndarray__\":\"S/O/Q+51ND/430zAtpRIP2vylNV0PVE/QxsjCssuWD/TR4Z78fVgP+inNsRxymc/OuuBfZWvcD/u3TFA02d3P2d3VoBnaoA/CD5h5MAGhz/1pA8HUCaQP+zrCsc9p5Y/Fb7LAKjGnz/nJ9c/SEmmPwBD+fzcQq8/FOZwv9nstT8Er5Y7M8G+P0c+r3jqkcU/yK72qKZBzj+tM989FzjVPxbgmr8yxN0/cOm5AXbg5D+5ctXAf0jtP5kqGJXUifQ/DsrqDELP/D8MCAhBojQEQDItVnmnVwxAiFXNvdHgE0BSSZ2AJuIbQAMJih9jjiNA5q4l5INuK0CPVN/5RT0zQHzxRXu8/DpAOZ7PgHrtQkAg8wGBzoxKQBSTN8DMeFJA2NmQf2ZqWEAAAAAAAFxeQEQX1LfMJmJAmpmZmZkfZUBmZmZmZhhoQLzoK0gzEWtAAAAAAAAKbkCiC+pbZoFwQAhyUMLM/XFA+I2vPTN6c0AQ5KCEmfZ0QAAAAAAAc3ZA8Btfe2bvd0AIclDCzGt5QPeNrz0z6HpAEOSghJlkfEAAAAAAAOF9QKML6ltmXX9ABTkoYeZsgED7xteeGSuBQAhyUMJM6YFAAAAAAICngkD4ja89s2WDQAU5KGHmI4RA+8bXnhnihEAIclDCTKCFQAAAAACAXoZA+I2vPbMch0AFOShh5tqHQPvG154ZmYhACHJQwkxXiUAAAAAAgBWKQPeNrz2z04pABTkoYeaRi0D7xteeGVCMQAlyUMJMDo1AAAAAAIDMjUD3ja89s4qOQGZmZmbmSI9A\",\"dtype\":\"float64\",\"shape\":[75]}}},\"id\":\"e3aefece-1821-42e9-95a9-2dad1d4b7741\",\"type\":\"ColumnDataSource\"},{\"attributes\":{\"fill_alpha\":{\"value\":0.1},\"fill_color\":{\"value\":\"#1f77b4\"},\"line_alpha\":{\"value\":0.1},\"line_color\":{\"value\":\"#1f77b4\"},\"x\":{\"field\":\"x\"},\"y\":{\"field\":\"y\"}},\"id\":\"4025a2ac-d7bd-4b4f-bba4-d4424450ace2\",\"type\":\"Square\"},{\"attributes\":{\"label\":{\"value\":\"WGT igg=10 wgt_flux=2\"},\"renderers\":[{\"id\":\"492e974a-17cc-490a-9a55-eef890fc2454\",\"type\":\"GlyphRenderer\"},{\"id\":\"ad0142a4-32cc-4886-a51f-5e9e30548ff0\",\"type\":\"GlyphRenderer\"}]},\"id\":\"197dd5ec-bb6a-4af4-bbab-514e2a9c9fcc\",\"type\":\"LegendItem\"},{\"attributes\":{\"data_source\":{\"id\":\"6f6e7868-85bb-41df-931d-0839763198a6\",\"type\":\"ColumnDataSource\"},\"glyph\":{\"id\":\"af8eed00-7157-4ffd-8d3d-9dba57395ab1\",\"type\":\"Square\"},\"hover_glyph\":null,\"muted_glyph\":null,\"nonselection_glyph\":{\"id\":\"4025a2ac-d7bd-4b4f-bba4-d4424450ace2\",\"type\":\"Square\"},\"selection_glyph\":null,\"view\":{\"id\":\"5c186c57-48f1-4979-b90a-0a958c1c1907\",\"type\":\"CDSView\"}},\"id\":\"492e974a-17cc-490a-9a55-eef890fc2454\",\"type\":\"GlyphRenderer\"},{\"attributes\":{\"axis_label\":\"pressure [mb]\",\"formatter\":{\"id\":\"29db4731-0b4d-4ae0-9774-beeb43c11c66\",\"type\":\"LogTickFormatter\"},\"plot\":{\"id\":\"6987e36c-2064-454e-889d-0d3858b8cb81\",\"subtype\":\"Figure\",\"type\":\"Plot\"},\"ticker\":{\"id\":\"0d7ef2da-7196-4991-b08a-e8677a5bbb21\",\"type\":\"LogTicker\"}},\"id\":\"ce8241a9-2acc-410c-80fc-68b0d56bf769\",\"type\":\"LogAxis\"},{\"attributes\":{\"source\":{\"id\":\"44ece5c8-59ce-45a5-99ed-08dc3cbbcd76\",\"type\":\"ColumnDataSource\"}},\"id\":\"25e2f6cb-da3b-40af-b855-db44a1d13868\",\"type\":\"CDSView\"},{\"attributes\":{\"line_alpha\":0.1,\"line_color\":\"#1f77b4\",\"line_width\":3,\"x\":{\"field\":\"x\"},\"y\":{\"field\":\"y\"}},\"id\":\"d205ffa9-d4d9-4ebd-833e-3be95fab2363\",\"type\":\"Line\"},{\"attributes\":{\"data_source\":{\"id\":\"44ece5c8-59ce-45a5-99ed-08dc3cbbcd76\",\"type\":\"ColumnDataSource\"},\"glyph\":{\"id\":\"e6271e0f-4caa-4450-9b5f-372dced49424\",\"type\":\"Line\"},\"hover_glyph\":null,\"muted_glyph\":null,\"nonselection_glyph\":{\"id\":\"d205ffa9-d4d9-4ebd-833e-3be95fab2363\",\"type\":\"Line\"},\"selection_glyph\":null,\"view\":{\"id\":\"25e2f6cb-da3b-40af-b855-db44a1d13868\",\"type\":\"CDSView\"}},\"id\":\"ad0142a4-32cc-4886-a51f-5e9e30548ff0\",\"type\":\"GlyphRenderer\"},{\"attributes\":{\"line_alpha\":0.6,\"line_color\":\"#e41a1c\",\"line_dash\":[6],\"line_width\":5,\"x\":{\"field\":\"x\"},\"y\":{\"field\":\"y\"}},\"id\":\"bf599468-95b6-4d85-8fc8-fa4a4f33393f\",\"type\":\"Line\"},{\"attributes\":{\"children\":[{\"id\":\"91da99b1-bcab-4f66-869f-8069f8bed785\",\"type\":\"ToolbarBox\"},{\"id\":\"f9c75101-b703-4534-81b9-8f49c39ec4f9\",\"type\":\"Column\"}]},\"id\":\"3799f481-556c-429d-ad7f-d509e6d62624\",\"type\":\"Column\"},{\"attributes\":{\"bottom_units\":\"screen\",\"fill_alpha\":{\"value\":0.5},\"fill_color\":{\"value\":\"lightgrey\"},\"left_units\":\"screen\",\"level\":\"overlay\",\"line_alpha\":{\"value\":1.0},\"line_color\":{\"value\":\"black\"},\"line_dash\":[4,4],\"line_width\":{\"value\":2},\"plot\":null,\"render_mode\":\"css\",\"right_units\":\"screen\",\"top_units\":\"screen\"},\"id\":\"56684fff-363e-459c-95f4-e9af01c0394b\",\"type\":\"BoxAnnotation\"},{\"attributes\":{},\"id\":\"c7ee192c-3539-4223-9c07-c05b6c7deb1c\",\"type\":\"BasicTickFormatter\"},{\"attributes\":{\"callback\":null,\"end\":0.4872266275527,\"start\":-0.0038337628226999994},\"id\":\"bacd59ae-1c6c-4c94-b87b-552a69139fe8\",\"type\":\"Range1d\"},{\"attributes\":{\"ticker\":null},\"id\":\"29db4731-0b4d-4ae0-9774-beeb43c11c66\",\"type\":\"LogTickFormatter\"},{\"attributes\":{\"label\":{\"value\":\"CLIRAD `coolr_bands`\"},\"renderers\":[{\"id\":\"3784fffe-fb8e-4dd0-ad28-d7a3a10118d9\",\"type\":\"GlyphRenderer\"}]},\"id\":\"b8c242e9-3a43-48b2-b0da-8ecccb777353\",\"type\":\"LegendItem\"},{\"attributes\":{},\"id\":\"0ecb3e5f-24b4-4c54-81b8-fa6a2bee4af5\",\"type\":\"SaveTool\"},{\"attributes\":{\"toolbar\":{\"id\":\"16e48d81-5fe5-4bdc-8cec-91539db58b3f\",\"type\":\"ProxyToolbar\"},\"toolbar_location\":\"above\"},\"id\":\"91da99b1-bcab-4f66-869f-8069f8bed785\",\"type\":\"ToolbarBox\"},{\"attributes\":{\"source\":{\"id\":\"98c9e252-e332-4db9-920f-9a0b1b4ed266\",\"type\":\"ColumnDataSource\"}},\"id\":\"ca7afe92-0085-4bb9-8452-909fd3f7c34b\",\"type\":\"CDSView\"},{\"attributes\":{\"below\":[{\"id\":\"b6aaddec-e0d8-4372-acc1-1e01dc2538ba\",\"type\":\"LinearAxis\"}],\"left\":[{\"id\":\"ce8241a9-2acc-410c-80fc-68b0d56bf769\",\"type\":\"LogAxis\"}],\"plot_height\":500,\"plot_width\":560,\"renderers\":[{\"id\":\"b6aaddec-e0d8-4372-acc1-1e01dc2538ba\",\"type\":\"LinearAxis\"},{\"id\":\"6bc92a9d-4632-47aa-8680-3a7fd34f5818\",\"type\":\"Grid\"},{\"id\":\"ce8241a9-2acc-410c-80fc-68b0d56bf769\",\"type\":\"LogAxis\"},{\"id\":\"07321359-af24-4a0e-a03c-afbcd284b932\",\"type\":\"Grid\"},{\"id\":\"56684fff-363e-459c-95f4-e9af01c0394b\",\"type\":\"BoxAnnotation\"},{\"id\":\"3784fffe-fb8e-4dd0-ad28-d7a3a10118d9\",\"type\":\"GlyphRenderer\"},{\"id\":\"2f05fcf5-aa8d-439b-a2a2-65d79421dbe1\",\"type\":\"GlyphRenderer\"},{\"id\":\"b5fd931c-7ca1-46f3-8ab7-62e22c312598\",\"type\":\"GlyphRenderer\"},{\"id\":\"492e974a-17cc-490a-9a55-eef890fc2454\",\"type\":\"GlyphRenderer\"},{\"id\":\"ad0142a4-32cc-4886-a51f-5e9e30548ff0\",\"type\":\"GlyphRenderer\"},{\"id\":\"0f089aac-228f-4af6-b90f-ca50056e990a\",\"type\":\"Legend\"}],\"right\":[{\"id\":\"0f089aac-228f-4af6-b90f-ca50056e990a\",\"type\":\"Legend\"}],\"title\":{\"id\":\"e83a9179-fee9-43e2-ac6b-01d5a6f6dd50\",\"type\":\"Title\"},\"toolbar\":{\"id\":\"afddc029-b19d-4eb4-b55b-7e7f8b2409e0\",\"type\":\"Toolbar\"},\"toolbar_location\":null,\"x_range\":{\"id\":\"920f2be2-168e-4b78-9e3a-93d2d1314448\",\"type\":\"Range1d\"},\"x_scale\":{\"id\":\"85037bfa-781f-4385-852e-7df5e9c70a1c\",\"type\":\"LinearScale\"},\"y_range\":{\"id\":\"9b69bf9d-2551-4546-a525-3cf229b738a4\",\"type\":\"Range1d\"},\"y_scale\":{\"id\":\"9d482f94-871e-4314-baeb-7aad27618281\",\"type\":\"LogScale\"}},\"id\":\"6987e36c-2064-454e-889d-0d3858b8cb81\",\"subtype\":\"Figure\",\"type\":\"Plot\"},{\"attributes\":{\"overlay\":{\"id\":\"56684fff-363e-459c-95f4-e9af01c0394b\",\"type\":\"BoxAnnotation\"}},\"id\":\"8f902f19-f2ca-49fa-8a1b-d2b16b18cb4a\",\"type\":\"BoxZoomTool\"},{\"attributes\":{\"callback\":null,\"column_names\":[\"x\",\"y\"],\"data\":{\"x\":{\"__ndarray__\":\"aidtbGymQj+FotMyvZ1DP6XMuQ4St0U/Z7/G7gX+Rz+ACCmEAlRKP9M8mzNpuEw/haNgwv8qTz8tZl3ZqtVQP+2fBu1lHFI/wraz+gppUz+IkgWgJqtUP5A/Is/n4lU/GxNb0OI+Vz9KhZnMa7NYP0lJTk5nYl0/CMh6I83LZT+MfafUEEtxP5lFhbd8rHk/sbK0p1Qfgj/S8Rr2r6CIPzs890ExTpA/8GzyHrkllT+p0IUQKpKZP2d1CDHzYpk/ZlKitHcilT9rYpYuPJSQPxcKe9w5aYk/PU3hVWYngz/sX5XW7UZ9P9Aul+fvkHY/Mu9xETZRcT+C9SQHf2JqP6jYgTFp8WQ/Fj6YFrSZYj+jofAFlpddP/n3ACwToFg/U27snYA6Vj8oIESadhdWP0WfIyg+gFU/IN1FrZohVz/RFzP5SnNmPwcjcOjSuIM/On1I0NOUmD9Ep2acGd+mP61I62bfKLE/oieogH6ItD8odvSXSJW3P8SLyEJQoLs/TDMAjfd3vj/rG3hZzHTBP0GCer6rGMQ/PmzXjTSqxj+SfkKIBsfJP5gt6hEgrcs/qVY9peILzj/qwL3BVXDQP2Fy9Zhx9NE/rRsERgZY1D/pjJTDBsTWP6NCokmZf9k/QmYncAPi2j+HWv6i6m7bP8SQlatVQNw/qz9LzEHY3D+4XCeu2/fcP34g82bX7tw/B8cc6nST3D/DVSc9Hs/bP8oNGkOBwt0//n9Vwpgd2D+GAETUjBXWP5hLjHRZ/dM/IGSttOY/0j/k9L7eNfDQPzbA/Wo7StE/\",\"dtype\":\"float64\",\"shape\":[75]},\"y\":{\"__ndarray__\":\"GhExyth1ND/Sv8nbtpRIP2vylNV0PVE/aTum7souWD/At0SJ8fVgPw3Iuahxymc/MSNhhJWvcD/bTfBN02d3P2zb5nxnaoA/CD5h5MAGhz8NmeH1TyaQP+zrCsc9p5Y/LbKd76fGnz/bLW5ISEmmPww9YvTcQq8/JV2OstnstT8Er5Y7M8G+P0c+r3jqkcU/5h99k6ZBzj88bCIzFzjVP4enV8oyxN0//yH99nXg5D8qOpLLf0jtP5kqGJXUifQ/c9cS8kHP/D+/DpwzojQEQIEmwoanVwxA4lgXt9HgE0BSSZ2AJuIbQAMJih9jjiNA5q4l5INuK0AwTKYKRj0zQNv5fmq8/DpAaCJseHrtQkB/+zpwzoxKQM3MzMzMeFJAZmZmZmZqWEAAAAAAAFxeQM3MzMzMJmJAmpmZmZkfZUBmZmZmZhhoQDMzMzMzEWtAAAAAAAAKbkBmZmZmZoFwQM3MzMzM/XFAMzMzMzN6c0CamZmZmfZ0QAAAAAAAc3ZAZmZmZmbvd0DNzMzMzGt5QDMzMzMz6HpAmpmZmZlkfEAAAAAAAOF9QGZmZmZmXX9AZmZmZuZsgECamZmZGSuBQM3MzMxM6YFAAAAAAICngkAzMzMzs2WDQGZmZmbmI4RAmpmZmRnihEDNzMzMTKCFQAAAAACAXoZAMzMzM7Mch0BmZmZm5tqHQJqZmZkZmYhAzczMzExXiUAAAAAAgBWKQDMzMzOz04pAZmZmZuaRi0CamZmZGVCMQM3MzMxMDo1AAAAAAIDMjUAzMzMzs4qOQGZmZmbmSI9A\",\"dtype\":\"float64\",\"shape\":[75]}}},\"id\":\"994188f2-0014-46c0-9e73-263f5e123327\",\"type\":\"ColumnDataSource\"},{\"attributes\":{},\"id\":\"64d0daa5-6f56-4b12-b734-8f82eb57cf4e\",\"type\":\"HelpTool\"},{\"attributes\":{\"label\":{\"value\":\"CRD\"},\"renderers\":[{\"id\":\"2f05fcf5-aa8d-439b-a2a2-65d79421dbe1\",\"type\":\"GlyphRenderer\"},{\"id\":\"b5fd931c-7ca1-46f3-8ab7-62e22c312598\",\"type\":\"GlyphRenderer\"}]},\"id\":\"4c0b2853-c64e-4e12-8a55-218f57df8f74\",\"type\":\"LegendItem\"},{\"attributes\":{\"data_source\":{\"id\":\"443596a3-3143-4e3c-b8fb-43a171291748\",\"type\":\"ColumnDataSource\"},\"glyph\":{\"id\":\"0c2da588-fddf-403c-b094-50f26e15b26e\",\"type\":\"Square\"},\"hover_glyph\":null,\"muted_glyph\":null,\"nonselection_glyph\":{\"id\":\"e170885d-0cc8-4d4b-8b80-3e4036474c94\",\"type\":\"Square\"},\"selection_glyph\":null,\"view\":{\"id\":\"e02af7d5-c31e-40c0-85d2-59ad715bd25d\",\"type\":\"CDSView\"}},\"id\":\"7badf2e0-56a7-4dca-8f99-f8cc50b4cde8\",\"type\":\"GlyphRenderer\"},{\"attributes\":{\"source\":{\"id\":\"994188f2-0014-46c0-9e73-263f5e123327\",\"type\":\"ColumnDataSource\"}},\"id\":\"60c73b45-b873-4d6d-a776-f70b08a9bbee\",\"type\":\"CDSView\"},{\"attributes\":{\"source\":{\"id\":\"443596a3-3143-4e3c-b8fb-43a171291748\",\"type\":\"ColumnDataSource\"}},\"id\":\"e02af7d5-c31e-40c0-85d2-59ad715bd25d\",\"type\":\"CDSView\"},{\"attributes\":{\"children\":[{\"id\":\"983ef7fc-769a-4175-96f7-e2d18958e3d4\",\"type\":\"Row\"}]},\"id\":\"f9c75101-b703-4534-81b9-8f49c39ec4f9\",\"type\":\"Column\"},{\"attributes\":{\"plot\":null,\"text\":\"Log pressure scale\"},\"id\":\"e83a9179-fee9-43e2-ac6b-01d5a6f6dd50\",\"type\":\"Title\"},{\"attributes\":{\"data_source\":{\"id\":\"e3aefece-1821-42e9-95a9-2dad1d4b7741\",\"type\":\"ColumnDataSource\"},\"glyph\":{\"id\":\"bf599468-95b6-4d85-8fc8-fa4a4f33393f\",\"type\":\"Line\"},\"hover_glyph\":null,\"muted_glyph\":null,\"nonselection_glyph\":{\"id\":\"4502711e-04e9-4b25-8e50-22e70b17b75f\",\"type\":\"Line\"},\"selection_glyph\":null,\"view\":{\"id\":\"a7952aee-c6e7-47d4-8f0b-a652011ee023\",\"type\":\"CDSView\"}},\"id\":\"3784fffe-fb8e-4dd0-ad28-d7a3a10118d9\",\"type\":\"GlyphRenderer\"},{\"attributes\":{\"callback\":null,\"end\":0.01,\"start\":1020},\"id\":\"9b69bf9d-2551-4546-a525-3cf229b738a4\",\"type\":\"Range1d\"},{\"attributes\":{\"source\":{\"id\":\"e3aefece-1821-42e9-95a9-2dad1d4b7741\",\"type\":\"ColumnDataSource\"}},\"id\":\"a7952aee-c6e7-47d4-8f0b-a652011ee023\",\"type\":\"CDSView\"},{\"attributes\":{},\"id\":\"24d14129-3686-4379-9bf1-b4cb24922a9a\",\"type\":\"PanTool\"},{\"attributes\":{},\"id\":\"935b119a-5562-4780-aa95-82e014c7f5a8\",\"type\":\"BasicTickFormatter\"},{\"attributes\":{},\"id\":\"faeaf4d2-46d0-402c-bee8-3baa393ab5a3\",\"type\":\"ResetTool\"},{\"attributes\":{\"data_source\":{\"id\":\"22f38975-a7ba-4e39-82a9-0bb399a8d2f9\",\"type\":\"ColumnDataSource\"},\"glyph\":{\"id\":\"f9405506-b38e-40eb-8949-c500e322e5ea\",\"type\":\"Circle\"},\"hover_glyph\":null,\"muted_glyph\":null,\"nonselection_glyph\":{\"id\":\"a506bcc9-ff89-4bff-a6ce-ae7e1fcd3842\",\"type\":\"Circle\"},\"selection_glyph\":null,\"view\":{\"id\":\"bbdf135a-397e-4d49-a0f7-3c454badca06\",\"type\":\"CDSView\"}},\"id\":\"87f1275d-1e19-4d37-a185-599dd762ef1d\",\"type\":\"GlyphRenderer\"}],\"root_ids\":[\"3799f481-556c-429d-ad7f-d509e6d62624\"]},\"title\":\"Bokeh Application\",\"version\":\"0.12.14\"}};\n",
       "  var render_items = [{\"docid\":\"3626575e-5bdb-4ece-a06e-a1adf40007cb\",\"elementid\":\"d7467399-139c-4516-bc35-d6fdb23744f0\",\"modelid\":\"3799f481-556c-429d-ad7f-d509e6d62624\"}];\n",
       "  root.Bokeh.embed.embed_items_notebook(docs_json, render_items);\n",
       "\n",
       "  }\n",
       "  if (root.Bokeh !== undefined) {\n",
       "    embed_document(root);\n",
       "  } else {\n",
       "    var attempts = 0;\n",
       "    var timer = setInterval(function(root) {\n",
       "      if (root.Bokeh !== undefined) {\n",
       "        embed_document(root);\n",
       "        clearInterval(timer);\n",
       "      }\n",
       "      attempts++;\n",
       "      if (attempts > 100) {\n",
       "        console.log(\"Bokeh: ERROR: Unable to run BokehJS code because BokehJS library is missing\")\n",
       "        clearInterval(timer);\n",
       "      }\n",
       "    }, 10, root)\n",
       "  }\n",
       "})(window);"
      ],
      "application/vnd.bokehjs_exec.v0+json": ""
     },
     "metadata": {
      "application/vnd.bokehjs_exec.v0+json": {
       "id": "3799f481-556c-429d-ad7f-d509e6d62624"
      }
     },
     "output_type": "display_data"
    },
    {
     "name": "stdout",
     "output_type": "stream",
     "text": [
      "FIGURE. Cooling rate profiles.\n"
     ]
    },
    {
     "data": {
      "text/html": [
       "<a id=\"Flux_Comparison\"></a>"
      ],
      "text/plain": [
       "<IPython.core.display.HTML object>"
      ]
     },
     "metadata": {},
     "output_type": "display_data"
    },
    {
     "data": {
      "text/markdown": [
       "# Flux Comparison"
      ],
      "text/plain": [
       "<IPython.core.display.Markdown object>"
      ]
     },
     "metadata": {},
     "output_type": "display_data"
    },
    {
     "data": {
      "text/html": [
       "<div>\n",
       "<style>\n",
       "    .dataframe thead tr:only-child th {\n",
       "        text-align: right;\n",
       "    }\n",
       "\n",
       "    .dataframe thead th {\n",
       "        text-align: left;\n",
       "    }\n",
       "\n",
       "    .dataframe tbody tr th {\n",
       "        vertical-align: top;\n",
       "    }\n",
       "</style>\n",
       "<table border=\"1\" class=\"dataframe\">\n",
       "  <thead>\n",
       "    <tr style=\"text-align: right;\">\n",
       "      <th></th>\n",
       "      <th></th>\n",
       "      <th>flug</th>\n",
       "      <th>fldg</th>\n",
       "      <th>fnetg</th>\n",
       "    </tr>\n",
       "    <tr>\n",
       "      <th>pressure</th>\n",
       "      <th>level</th>\n",
       "      <th></th>\n",
       "      <th></th>\n",
       "      <th></th>\n",
       "    </tr>\n",
       "  </thead>\n",
       "  <tbody>\n",
       "    <tr>\n",
       "      <th>0.0000</th>\n",
       "      <th>1</th>\n",
       "      <td>-29.458775</td>\n",
       "      <td>0.000000</td>\n",
       "      <td>-29.458775</td>\n",
       "    </tr>\n",
       "    <tr>\n",
       "      <th>1.0685</th>\n",
       "      <th>24</th>\n",
       "      <td>-29.458411</td>\n",
       "      <td>0.001699</td>\n",
       "      <td>-29.456712</td>\n",
       "    </tr>\n",
       "    <tr>\n",
       "      <th>1013.0000</th>\n",
       "      <th>76</th>\n",
       "      <td>-36.235408</td>\n",
       "      <td>32.524607</td>\n",
       "      <td>-3.710801</td>\n",
       "    </tr>\n",
       "  </tbody>\n",
       "</table>\n",
       "</div>"
      ],
      "text/plain": [
       "                      flug       fldg      fnetg\n",
       "pressure  level                                 \n",
       "0.0000    1     -29.458775   0.000000 -29.458775\n",
       "1.0685    24    -29.458411   0.001699 -29.456712\n",
       "1013.0000 76    -36.235408  32.524607  -3.710801"
      ]
     },
     "metadata": {},
     "output_type": "display_data"
    },
    {
     "name": "stdout",
     "output_type": "stream",
     "text": [
      "Table. Fluxes. WGT igg=10 wgt_flux=1\n"
     ]
    },
    {
     "data": {
      "text/html": [
       "<div>\n",
       "<style>\n",
       "    .dataframe thead tr:only-child th {\n",
       "        text-align: right;\n",
       "    }\n",
       "\n",
       "    .dataframe thead th {\n",
       "        text-align: left;\n",
       "    }\n",
       "\n",
       "    .dataframe tbody tr th {\n",
       "        vertical-align: top;\n",
       "    }\n",
       "</style>\n",
       "<table border=\"1\" class=\"dataframe\">\n",
       "  <thead>\n",
       "    <tr style=\"text-align: right;\">\n",
       "      <th></th>\n",
       "      <th></th>\n",
       "      <th>flug</th>\n",
       "      <th>fldg</th>\n",
       "      <th>fnetg</th>\n",
       "    </tr>\n",
       "    <tr>\n",
       "      <th>pressure</th>\n",
       "      <th>level</th>\n",
       "      <th></th>\n",
       "      <th></th>\n",
       "      <th></th>\n",
       "    </tr>\n",
       "  </thead>\n",
       "  <tbody>\n",
       "    <tr>\n",
       "      <th>0.0000</th>\n",
       "      <th>1</th>\n",
       "      <td>-29.459473</td>\n",
       "      <td>0.000000</td>\n",
       "      <td>-29.459473</td>\n",
       "    </tr>\n",
       "    <tr>\n",
       "      <th>1.0685</th>\n",
       "      <th>24</th>\n",
       "      <td>-29.459184</td>\n",
       "      <td>0.001920</td>\n",
       "      <td>-29.457264</td>\n",
       "    </tr>\n",
       "    <tr>\n",
       "      <th>1013.0000</th>\n",
       "      <th>76</th>\n",
       "      <td>-36.235408</td>\n",
       "      <td>32.554668</td>\n",
       "      <td>-3.680740</td>\n",
       "    </tr>\n",
       "  </tbody>\n",
       "</table>\n",
       "</div>"
      ],
      "text/plain": [
       "                      flug       fldg      fnetg\n",
       "pressure  level                                 \n",
       "0.0000    1     -29.459473   0.000000 -29.459473\n",
       "1.0685    24    -29.459184   0.001920 -29.457264\n",
       "1013.0000 76    -36.235408  32.554668  -3.680740"
      ]
     },
     "metadata": {},
     "output_type": "display_data"
    },
    {
     "name": "stdout",
     "output_type": "stream",
     "text": [
      "Table. Fluxes. CRD\n"
     ]
    },
    {
     "data": {
      "text/html": [
       "<div>\n",
       "<style>\n",
       "    .dataframe thead tr:only-child th {\n",
       "        text-align: right;\n",
       "    }\n",
       "\n",
       "    .dataframe thead th {\n",
       "        text-align: left;\n",
       "    }\n",
       "\n",
       "    .dataframe tbody tr th {\n",
       "        vertical-align: top;\n",
       "    }\n",
       "</style>\n",
       "<table border=\"1\" class=\"dataframe\">\n",
       "  <thead>\n",
       "    <tr style=\"text-align: right;\">\n",
       "      <th></th>\n",
       "      <th></th>\n",
       "      <th>flug</th>\n",
       "      <th>fldg</th>\n",
       "      <th>fnetg</th>\n",
       "    </tr>\n",
       "    <tr>\n",
       "      <th>pressure</th>\n",
       "      <th>level</th>\n",
       "      <th></th>\n",
       "      <th></th>\n",
       "      <th></th>\n",
       "    </tr>\n",
       "  </thead>\n",
       "  <tbody>\n",
       "    <tr>\n",
       "      <th>1.000000e-08</th>\n",
       "      <th>1</th>\n",
       "      <td>-29.573439</td>\n",
       "      <td>0.000002</td>\n",
       "      <td>-29.573437</td>\n",
       "    </tr>\n",
       "    <tr>\n",
       "      <th>1.068500e+00</th>\n",
       "      <th>24</th>\n",
       "      <td>-29.573027</td>\n",
       "      <td>0.001676</td>\n",
       "      <td>-29.571350</td>\n",
       "    </tr>\n",
       "    <tr>\n",
       "      <th>1.013000e+03</th>\n",
       "      <th>76</th>\n",
       "      <td>-36.235409</td>\n",
       "      <td>32.896084</td>\n",
       "      <td>-3.339325</td>\n",
       "    </tr>\n",
       "  </tbody>\n",
       "</table>\n",
       "</div>"
      ],
      "text/plain": [
       "                         flug       fldg      fnetg\n",
       "pressure     level                                 \n",
       "1.000000e-08 1     -29.573439   0.000002 -29.573437\n",
       "1.068500e+00 24    -29.573027   0.001676 -29.571350\n",
       "1.013000e+03 76    -36.235409  32.896084  -3.339325"
      ]
     },
     "metadata": {},
     "output_type": "display_data"
    },
    {
     "name": "stdout",
     "output_type": "stream",
     "text": [
      "Table. Fluxes. CLIRAD\n"
     ]
    },
    {
     "data": {
      "text/html": [
       "<div>\n",
       "<style>\n",
       "    .dataframe thead tr:only-child th {\n",
       "        text-align: right;\n",
       "    }\n",
       "\n",
       "    .dataframe thead th {\n",
       "        text-align: left;\n",
       "    }\n",
       "\n",
       "    .dataframe tbody tr th {\n",
       "        vertical-align: top;\n",
       "    }\n",
       "</style>\n",
       "<table border=\"1\" class=\"dataframe\">\n",
       "  <thead>\n",
       "    <tr style=\"text-align: right;\">\n",
       "      <th></th>\n",
       "      <th></th>\n",
       "      <th>flug</th>\n",
       "      <th>fldg</th>\n",
       "      <th>fnetg</th>\n",
       "    </tr>\n",
       "    <tr>\n",
       "      <th>pressure</th>\n",
       "      <th>level</th>\n",
       "      <th></th>\n",
       "      <th></th>\n",
       "      <th></th>\n",
       "    </tr>\n",
       "  </thead>\n",
       "  <tbody>\n",
       "    <tr>\n",
       "      <th>0.0000</th>\n",
       "      <th>1</th>\n",
       "      <td>-6.984890e-04</td>\n",
       "      <td>0.000000</td>\n",
       "      <td>-0.000698</td>\n",
       "    </tr>\n",
       "    <tr>\n",
       "      <th>1.0685</th>\n",
       "      <th>24</th>\n",
       "      <td>-7.726570e-04</td>\n",
       "      <td>0.000222</td>\n",
       "      <td>-0.000552</td>\n",
       "    </tr>\n",
       "    <tr>\n",
       "      <th>1013.0000</th>\n",
       "      <th>76</th>\n",
       "      <td>8.700000e-08</td>\n",
       "      <td>0.030061</td>\n",
       "      <td>0.030061</td>\n",
       "    </tr>\n",
       "  </tbody>\n",
       "</table>\n",
       "</div>"
      ],
      "text/plain": [
       "                         flug      fldg     fnetg\n",
       "pressure  level                                  \n",
       "0.0000    1     -6.984890e-04  0.000000 -0.000698\n",
       "1.0685    24    -7.726570e-04  0.000222 -0.000552\n",
       "1013.0000 76     8.700000e-08  0.030061  0.030061"
      ]
     },
     "metadata": {},
     "output_type": "display_data"
    },
    {
     "name": "stdout",
     "output_type": "stream",
     "text": [
      "Table. Fluxes. (CRD) - (WGT igg=10 wgt_flux=1)\n"
     ]
    },
    {
     "data": {
      "text/html": [
       "<div>\n",
       "<style>\n",
       "    .dataframe thead tr:only-child th {\n",
       "        text-align: right;\n",
       "    }\n",
       "\n",
       "    .dataframe thead th {\n",
       "        text-align: left;\n",
       "    }\n",
       "\n",
       "    .dataframe tbody tr th {\n",
       "        vertical-align: top;\n",
       "    }\n",
       "</style>\n",
       "<table border=\"1\" class=\"dataframe\">\n",
       "  <thead>\n",
       "    <tr style=\"text-align: right;\">\n",
       "      <th></th>\n",
       "      <th></th>\n",
       "      <th>flug</th>\n",
       "      <th>fldg</th>\n",
       "      <th>fnetg</th>\n",
       "    </tr>\n",
       "    <tr>\n",
       "      <th>pressure</th>\n",
       "      <th>level</th>\n",
       "      <th></th>\n",
       "      <th></th>\n",
       "      <th></th>\n",
       "    </tr>\n",
       "  </thead>\n",
       "  <tbody>\n",
       "    <tr>\n",
       "      <th>0.0000</th>\n",
       "      <th>1</th>\n",
       "      <td>-1.146645e-01</td>\n",
       "      <td>0.000002</td>\n",
       "      <td>-0.114662</td>\n",
       "    </tr>\n",
       "    <tr>\n",
       "      <th>1.0685</th>\n",
       "      <th>24</th>\n",
       "      <td>-1.146157e-01</td>\n",
       "      <td>-0.000022</td>\n",
       "      <td>-0.114638</td>\n",
       "    </tr>\n",
       "    <tr>\n",
       "      <th>1013.0000</th>\n",
       "      <th>76</th>\n",
       "      <td>-9.130000e-07</td>\n",
       "      <td>0.371477</td>\n",
       "      <td>0.371476</td>\n",
       "    </tr>\n",
       "  </tbody>\n",
       "</table>\n",
       "</div>"
      ],
      "text/plain": [
       "                         flug      fldg     fnetg\n",
       "pressure  level                                  \n",
       "0.0000    1     -1.146645e-01  0.000002 -0.114662\n",
       "1.0685    24    -1.146157e-01 -0.000022 -0.114638\n",
       "1013.0000 76    -9.130000e-07  0.371477  0.371476"
      ]
     },
     "metadata": {},
     "output_type": "display_data"
    },
    {
     "name": "stdout",
     "output_type": "stream",
     "text": [
      "Table. Fluxes. (CLIRAD) - (WGT igg=10 wgt_flux=1)\n"
     ]
    },
    {
     "data": {
      "text/html": [
       "<a id=\"Best-fit_Parameters\"></a>"
      ],
      "text/plain": [
       "<IPython.core.display.HTML object>"
      ]
     },
     "metadata": {},
     "output_type": "display_data"
    },
    {
     "data": {
      "text/markdown": [
       "# Best-fit Parameters"
      ],
      "text/plain": [
       "<IPython.core.display.Markdown object>"
      ]
     },
     "metadata": {},
     "output_type": "display_data"
    },
    {
     "name": "stdout",
     "output_type": "stream",
     "text": [
      "Best-fit values for each (gas, band)\n",
      "------------------------------------\n",
      "o h2o band3a\n",
      "  molecule = h2o\n",
      "  band = 3a\n",
      "  commitnumber = d62b618\n",
      "  vmin = 540\n",
      "  vmax = 620\n",
      "  dv = 0.001\n",
      "  nv = 1000\n",
      "  ref_pts = [(10, 250), (600, 250)]\n",
      "  ng_refs = [2, 6]\n",
      "  ng_adju = [0, 0]\n",
      "  klin = 0\n",
      "  option_wgt_k = 1\n",
      "  wgt = [(0.7, 0.7), (0.7, 0.5, 0.5, 0.5, 0.5, 0.5)]\n",
      "  w_diffuse = [(1.9, 1.7), (1.4, 1.4, 1.4, 1.55, 1.6, 1.66)]\n",
      "  option_wgt_flux = 1\n",
      "  atmpro = mls\n",
      "  tsfc = 294\n",
      "  conc = None\n",
      "  option_compute_btable = 0\n",
      "  option_compute_ktable = 1\n"
     ]
    }
   ],
   "source": [
    "script()"
   ]
  },
  {
   "cell_type": "code",
   "execution_count": 13,
   "metadata": {},
   "outputs": [
    {
     "data": {
      "text/html": [
       "<script>\n",
       "code_show=true; \n",
       "function code_toggle() {\n",
       " if (code_show){\n",
       " $('div.input').hide();\n",
       " } else {\n",
       " $('div.input').show();\n",
       " }\n",
       " code_show = !code_show\n",
       "} \n",
       "$( document ).ready(code_toggle);\n",
       "</script>\n",
       "<form action=\"javascript:code_toggle()\"><input type=\"submit\" value=\"Click here to toggle on/off the raw code.\"></form>"
      ],
      "text/plain": [
       "<IPython.core.display.HTML object>"
      ]
     },
     "execution_count": 13,
     "metadata": {},
     "output_type": "execute_result"
    }
   ],
   "source": [
    "display.HTML('''<script>\n",
    "code_show=true; \n",
    "function code_toggle() {\n",
    " if (code_show){\n",
    " $('div.input').hide();\n",
    " } else {\n",
    " $('div.input').show();\n",
    " }\n",
    " code_show = !code_show\n",
    "} \n",
    "$( document ).ready(code_toggle);\n",
    "</script>\n",
    "<form action=\"javascript:code_toggle()\"><input type=\"submit\" value=\"Click here to toggle on/off the raw code.\"></form>''')"
   ]
  }
 ],
 "metadata": {
  "kernelspec": {
   "display_name": "Python 3",
   "language": "python",
   "name": "python3"
  },
  "language_info": {
   "codemirror_mode": {
    "name": "ipython",
    "version": 3
   },
   "file_extension": ".py",
   "mimetype": "text/x-python",
   "name": "python",
   "nbconvert_exporter": "python",
   "pygments_lexer": "ipython3",
   "version": "3.6.1"
  }
 },
 "nbformat": 4,
 "nbformat_minor": 2
}
