{
 "cells": [
  {
   "cell_type": "code",
   "execution_count": 1,
   "metadata": {
    "collapsed": true
   },
   "outputs": [],
   "source": [
    "%matplotlib inline\n",
    "import os\n",
    "import re\n",
    "import io\n",
    "import itertools\n",
    "import pprint\n",
    "\n",
    "from bokeh.io import output_notebook, show\n",
    "from bokeh.layouts import gridplot\n",
    "from bokeh.plotting import figure\n",
    "from bokeh.models import Range1d, Legend\n",
    "from bokeh.palettes import all_palettes\n",
    "\n",
    "import matplotlib\n",
    "import matplotlib.pyplot as plt\n",
    "import numpy as np\n",
    "import pandas as pd\n",
    "import xarray as xr\n",
    "\n",
    "import climatools.lblnew.bestfit_params as bestfits\n",
    "from climatools.lblnew import setup_bestfit, setup_overlap\n",
    "import climatools.lblnew.pipeline as pipe_lblnew\n",
    "import climatools.cliradlw.setup as setup_cliradlw\n",
    "import climatools.cliradlw.pipeline as pipe_cliradlw\n",
    "\n",
    "import climatools.html.html as climahtml\n",
    "from climatools.lblnew.dataio import *\n",
    "from climatools.plot.plot import *\n",
    "\n",
    "\n",
    "import IPython.display as display"
   ]
  },
  {
   "cell_type": "code",
   "execution_count": 2,
   "metadata": {
    "collapsed": true
   },
   "outputs": [],
   "source": [
    "%run param.py"
   ]
  },
  {
   "cell_type": "code",
   "execution_count": 3,
   "metadata": {
    "collapsed": true
   },
   "outputs": [],
   "source": [
    "def load_output_file(path_csv):\n",
    "    '''\n",
    "    Load lblnew output .csv file to xarray.Dataset\n",
    "    \n",
    "    Parameters\n",
    "    ----------\n",
    "    path_csv: str\n",
    "              Path to the .csv file to be loaded.\n",
    "    ds: xarray.Dataset\n",
    "        Data in the input file in the form of an xarray.Dataset.\n",
    "    '''\n",
    "    toindex = ['band', 'pressure', 'igg', 'g']    \n",
    "    df = pd.read_csv(path_csv, sep=r'\\s+')\n",
    "    df = df.set_index([i for i in toindex if i in df.columns])\n",
    "    df = df.rename(columns={'sfu': 'flug',\n",
    "                            'sfd': 'fldg',\n",
    "                            'fnet': 'fnetg',\n",
    "                            'coolr': 'coolrg'})\n",
    "    ds = xr.Dataset.from_dataframe(df)\n",
    "\n",
    "    for l in ('level', 'layer'):\n",
    "        if l in ds.data_vars:\n",
    "            if len(ds[l].dims) > 1:\n",
    "                surface = {d: 0 for d in ds.dims if d != 'pressure'}\n",
    "                coord_level = ds[l][surface]\n",
    "                ds.coords[l] = ('pressure', coord_level)\n",
    "            else:\n",
    "                ds.coords[l] = ('pressure', ds[l])\n",
    "    \n",
    "    return ds"
   ]
  },
  {
   "cell_type": "code",
   "execution_count": 4,
   "metadata": {
    "collapsed": true
   },
   "outputs": [],
   "source": [
    "def lblnew_setup(param=None):\n",
    "    if 'ng_refs' in param:\n",
    "        return {'setup': setup_bestfit,\n",
    "                'fname_flux_crd': 'output_flux.dat',\n",
    "                'fname_cool_crd': 'output_coolr.dat',\n",
    "                'fname_flux_wgt': 'output_wfluxg.dat',\n",
    "                'fname_cool_wgt': 'output_wcoolrg.dat'}\n",
    "    else:\n",
    "        return {'setup': setup_overlap,\n",
    "                'fname_flux_crd': 'output_flux.dat',\n",
    "                'fname_cool_crd': 'output_coolr.dat',\n",
    "                'fname_flux_wgt': 'output_wflux.dat',\n",
    "                'fname_cool_wgt': 'output_wcoolr.dat'}\n",
    "\n",
    "    \n",
    "def load_lblnew_data(param):\n",
    "    \n",
    "    fname_dsname = [('fname_flux_crd', 'ds_flux_crd'),\n",
    "                    ('fname_cool_crd', 'ds_cool_crd'),\n",
    "                    ('fname_flux_wgt', 'ds_flux_wgt'),\n",
    "                    ('fname_cool_wgt', 'ds_cool_wgt')]\n",
    "    \n",
    "    d = lblnew_setup(param)\n",
    "    dir_fortran = pipe_lblnew.get_dir_case(param, setup=d['setup'])\n",
    "    \n",
    "    data_dict = {}\n",
    "    for fname, dsname in fname_dsname:\n",
    "        fpath = os.path.join(dir_fortran, d[fname])\n",
    "        data_dict[dsname] = load_output_file(fpath)\n",
    "    return data_dict\n",
    "    \n",
    "\n",
    "    \n",
    "    "
   ]
  },
  {
   "cell_type": "code",
   "execution_count": 5,
   "metadata": {
    "collapsed": true
   },
   "outputs": [],
   "source": [
    "d = load_lblnew_data(PARAM_LBLNEW)\n",
    "\n",
    "DS_FLUX_CRD = d['ds_flux_crd']\n",
    "DS_COOL_CRD = d['ds_cool_crd']\n",
    "DS_FLUX_WGT = d['ds_flux_wgt']\n",
    "DS_COOL_WGT = d['ds_cool_wgt']"
   ]
  },
  {
   "cell_type": "code",
   "execution_count": 6,
   "metadata": {
    "collapsed": true
   },
   "outputs": [],
   "source": [
    "DIR_FORTRAN = pipe_cliradlw.get_fortran_dir(PARAM, \n",
    "                                            setup=setup_cliradlw)\n",
    "\n",
    "PATH_FLUX = os.path.join(DIR_FORTRAN, 'output_flux.dat')\n",
    "PATH_COOL = os.path.join(DIR_FORTRAN, 'output_coolr.dat')\n",
    "\n",
    "DS_FLUX = load_output_file(PATH_FLUX)\n",
    "DS_COOL = load_output_file(PATH_COOL)"
   ]
  },
  {
   "cell_type": "code",
   "execution_count": 7,
   "metadata": {},
   "outputs": [
    {
     "data": {
      "text/html": [
       "\n",
       "    <div class=\"bk-root\">\n",
       "        <a href=\"https://bokeh.pydata.org\" target=\"_blank\" class=\"bk-logo bk-logo-small bk-logo-notebook\"></a>\n",
       "        <span id=\"c25cdb5d-18b4-49f5-b948-d23b657b6e71\">Loading BokehJS ...</span>\n",
       "    </div>"
      ]
     },
     "metadata": {},
     "output_type": "display_data"
    },
    {
     "data": {
      "application/javascript": [
       "\n",
       "(function(root) {\n",
       "  function now() {\n",
       "    return new Date();\n",
       "  }\n",
       "\n",
       "  var force = true;\n",
       "\n",
       "  if (typeof (root._bokeh_onload_callbacks) === \"undefined\" || force === true) {\n",
       "    root._bokeh_onload_callbacks = [];\n",
       "    root._bokeh_is_loading = undefined;\n",
       "  }\n",
       "\n",
       "  var JS_MIME_TYPE = 'application/javascript';\n",
       "  var HTML_MIME_TYPE = 'text/html';\n",
       "  var EXEC_MIME_TYPE = 'application/vnd.bokehjs_exec.v0+json';\n",
       "  var CLASS_NAME = 'output_bokeh rendered_html';\n",
       "\n",
       "  /**\n",
       "   * Render data to the DOM node\n",
       "   */\n",
       "  function render(props, node) {\n",
       "    var script = document.createElement(\"script\");\n",
       "    node.appendChild(script);\n",
       "  }\n",
       "\n",
       "  /**\n",
       "   * Handle when an output is cleared or removed\n",
       "   */\n",
       "  function handleClearOutput(event, handle) {\n",
       "    var cell = handle.cell;\n",
       "\n",
       "    var id = cell.output_area._bokeh_element_id;\n",
       "    var server_id = cell.output_area._bokeh_server_id;\n",
       "    // Clean up Bokeh references\n",
       "    if (id !== undefined) {\n",
       "      Bokeh.index[id].model.document.clear();\n",
       "      delete Bokeh.index[id];\n",
       "    }\n",
       "\n",
       "    if (server_id !== undefined) {\n",
       "      // Clean up Bokeh references\n",
       "      var cmd = \"from bokeh.io.state import curstate; print(curstate().uuid_to_server['\" + server_id + \"'].get_sessions()[0].document.roots[0]._id)\";\n",
       "      cell.notebook.kernel.execute(cmd, {\n",
       "        iopub: {\n",
       "          output: function(msg) {\n",
       "            var element_id = msg.content.text.trim();\n",
       "            Bokeh.index[element_id].model.document.clear();\n",
       "            delete Bokeh.index[element_id];\n",
       "          }\n",
       "        }\n",
       "      });\n",
       "      // Destroy server and session\n",
       "      var cmd = \"import bokeh.io.notebook as ion; ion.destroy_server('\" + server_id + \"')\";\n",
       "      cell.notebook.kernel.execute(cmd);\n",
       "    }\n",
       "  }\n",
       "\n",
       "  /**\n",
       "   * Handle when a new output is added\n",
       "   */\n",
       "  function handleAddOutput(event, handle) {\n",
       "    var output_area = handle.output_area;\n",
       "    var output = handle.output;\n",
       "\n",
       "    // limit handleAddOutput to display_data with EXEC_MIME_TYPE content only\n",
       "    if ((output.output_type != \"display_data\") || (!output.data.hasOwnProperty(EXEC_MIME_TYPE))) {\n",
       "      return\n",
       "    }\n",
       "\n",
       "    var toinsert = output_area.element.find(\".\" + CLASS_NAME.split(' ')[0]);\n",
       "\n",
       "    if (output.metadata[EXEC_MIME_TYPE][\"id\"] !== undefined) {\n",
       "      toinsert[0].firstChild.textContent = output.data[JS_MIME_TYPE];\n",
       "      // store reference to embed id on output_area\n",
       "      output_area._bokeh_element_id = output.metadata[EXEC_MIME_TYPE][\"id\"];\n",
       "    }\n",
       "    if (output.metadata[EXEC_MIME_TYPE][\"server_id\"] !== undefined) {\n",
       "      var bk_div = document.createElement(\"div\");\n",
       "      bk_div.innerHTML = output.data[HTML_MIME_TYPE];\n",
       "      var script_attrs = bk_div.children[0].attributes;\n",
       "      for (var i = 0; i < script_attrs.length; i++) {\n",
       "        toinsert[0].firstChild.setAttribute(script_attrs[i].name, script_attrs[i].value);\n",
       "      }\n",
       "      // store reference to server id on output_area\n",
       "      output_area._bokeh_server_id = output.metadata[EXEC_MIME_TYPE][\"server_id\"];\n",
       "    }\n",
       "  }\n",
       "\n",
       "  function register_renderer(events, OutputArea) {\n",
       "\n",
       "    function append_mime(data, metadata, element) {\n",
       "      // create a DOM node to render to\n",
       "      var toinsert = this.create_output_subarea(\n",
       "        metadata,\n",
       "        CLASS_NAME,\n",
       "        EXEC_MIME_TYPE\n",
       "      );\n",
       "      this.keyboard_manager.register_events(toinsert);\n",
       "      // Render to node\n",
       "      var props = {data: data, metadata: metadata[EXEC_MIME_TYPE]};\n",
       "      render(props, toinsert[0]);\n",
       "      element.append(toinsert);\n",
       "      return toinsert\n",
       "    }\n",
       "\n",
       "    /* Handle when an output is cleared or removed */\n",
       "    events.on('clear_output.CodeCell', handleClearOutput);\n",
       "    events.on('delete.Cell', handleClearOutput);\n",
       "\n",
       "    /* Handle when a new output is added */\n",
       "    events.on('output_added.OutputArea', handleAddOutput);\n",
       "\n",
       "    /**\n",
       "     * Register the mime type and append_mime function with output_area\n",
       "     */\n",
       "    OutputArea.prototype.register_mime_type(EXEC_MIME_TYPE, append_mime, {\n",
       "      /* Is output safe? */\n",
       "      safe: true,\n",
       "      /* Index of renderer in `output_area.display_order` */\n",
       "      index: 0\n",
       "    });\n",
       "  }\n",
       "\n",
       "  // register the mime type if in Jupyter Notebook environment and previously unregistered\n",
       "  if (root.Jupyter !== undefined) {\n",
       "    var events = require('base/js/events');\n",
       "    var OutputArea = require('notebook/js/outputarea').OutputArea;\n",
       "\n",
       "    if (OutputArea.prototype.mime_types().indexOf(EXEC_MIME_TYPE) == -1) {\n",
       "      register_renderer(events, OutputArea);\n",
       "    }\n",
       "  }\n",
       "\n",
       "  \n",
       "  if (typeof (root._bokeh_timeout) === \"undefined\" || force === true) {\n",
       "    root._bokeh_timeout = Date.now() + 5000;\n",
       "    root._bokeh_failed_load = false;\n",
       "  }\n",
       "\n",
       "  var NB_LOAD_WARNING = {'data': {'text/html':\n",
       "     \"<div style='background-color: #fdd'>\\n\"+\n",
       "     \"<p>\\n\"+\n",
       "     \"BokehJS does not appear to have successfully loaded. If loading BokehJS from CDN, this \\n\"+\n",
       "     \"may be due to a slow or bad network connection. Possible fixes:\\n\"+\n",
       "     \"</p>\\n\"+\n",
       "     \"<ul>\\n\"+\n",
       "     \"<li>re-rerun `output_notebook()` to attempt to load from CDN again, or</li>\\n\"+\n",
       "     \"<li>use INLINE resources instead, as so:</li>\\n\"+\n",
       "     \"</ul>\\n\"+\n",
       "     \"<code>\\n\"+\n",
       "     \"from bokeh.resources import INLINE\\n\"+\n",
       "     \"output_notebook(resources=INLINE)\\n\"+\n",
       "     \"</code>\\n\"+\n",
       "     \"</div>\"}};\n",
       "\n",
       "  function display_loaded() {\n",
       "    var el = document.getElementById(\"c25cdb5d-18b4-49f5-b948-d23b657b6e71\");\n",
       "    if (el != null) {\n",
       "      el.textContent = \"BokehJS is loading...\";\n",
       "    }\n",
       "    if (root.Bokeh !== undefined) {\n",
       "      if (el != null) {\n",
       "        el.textContent = \"BokehJS \" + root.Bokeh.version + \" successfully loaded.\";\n",
       "      }\n",
       "    } else if (Date.now() < root._bokeh_timeout) {\n",
       "      setTimeout(display_loaded, 100)\n",
       "    }\n",
       "  }\n",
       "\n",
       "\n",
       "  function run_callbacks() {\n",
       "    try {\n",
       "      root._bokeh_onload_callbacks.forEach(function(callback) { callback() });\n",
       "    }\n",
       "    finally {\n",
       "      delete root._bokeh_onload_callbacks\n",
       "    }\n",
       "    console.info(\"Bokeh: all callbacks have finished\");\n",
       "  }\n",
       "\n",
       "  function load_libs(js_urls, callback) {\n",
       "    root._bokeh_onload_callbacks.push(callback);\n",
       "    if (root._bokeh_is_loading > 0) {\n",
       "      console.log(\"Bokeh: BokehJS is being loaded, scheduling callback at\", now());\n",
       "      return null;\n",
       "    }\n",
       "    if (js_urls == null || js_urls.length === 0) {\n",
       "      run_callbacks();\n",
       "      return null;\n",
       "    }\n",
       "    console.log(\"Bokeh: BokehJS not loaded, scheduling load and callback at\", now());\n",
       "    root._bokeh_is_loading = js_urls.length;\n",
       "    for (var i = 0; i < js_urls.length; i++) {\n",
       "      var url = js_urls[i];\n",
       "      var s = document.createElement('script');\n",
       "      s.src = url;\n",
       "      s.async = false;\n",
       "      s.onreadystatechange = s.onload = function() {\n",
       "        root._bokeh_is_loading--;\n",
       "        if (root._bokeh_is_loading === 0) {\n",
       "          console.log(\"Bokeh: all BokehJS libraries loaded\");\n",
       "          run_callbacks()\n",
       "        }\n",
       "      };\n",
       "      s.onerror = function() {\n",
       "        console.warn(\"failed to load library \" + url);\n",
       "      };\n",
       "      console.log(\"Bokeh: injecting script tag for BokehJS library: \", url);\n",
       "      document.getElementsByTagName(\"head\")[0].appendChild(s);\n",
       "    }\n",
       "  };var element = document.getElementById(\"c25cdb5d-18b4-49f5-b948-d23b657b6e71\");\n",
       "  if (element == null) {\n",
       "    console.log(\"Bokeh: ERROR: autoload.js configured with elementid 'c25cdb5d-18b4-49f5-b948-d23b657b6e71' but no matching script tag was found. \")\n",
       "    return false;\n",
       "  }\n",
       "\n",
       "  var js_urls = [\"https://cdn.pydata.org/bokeh/release/bokeh-0.12.14.min.js\", \"https://cdn.pydata.org/bokeh/release/bokeh-widgets-0.12.14.min.js\", \"https://cdn.pydata.org/bokeh/release/bokeh-tables-0.12.14.min.js\", \"https://cdn.pydata.org/bokeh/release/bokeh-gl-0.12.14.min.js\"];\n",
       "\n",
       "  var inline_js = [\n",
       "    function(Bokeh) {\n",
       "      Bokeh.set_log_level(\"info\");\n",
       "    },\n",
       "    \n",
       "    function(Bokeh) {\n",
       "      \n",
       "    },\n",
       "    function(Bokeh) {\n",
       "      console.log(\"Bokeh: injecting CSS: https://cdn.pydata.org/bokeh/release/bokeh-0.12.14.min.css\");\n",
       "      Bokeh.embed.inject_css(\"https://cdn.pydata.org/bokeh/release/bokeh-0.12.14.min.css\");\n",
       "      console.log(\"Bokeh: injecting CSS: https://cdn.pydata.org/bokeh/release/bokeh-widgets-0.12.14.min.css\");\n",
       "      Bokeh.embed.inject_css(\"https://cdn.pydata.org/bokeh/release/bokeh-widgets-0.12.14.min.css\");\n",
       "      console.log(\"Bokeh: injecting CSS: https://cdn.pydata.org/bokeh/release/bokeh-tables-0.12.14.min.css\");\n",
       "      Bokeh.embed.inject_css(\"https://cdn.pydata.org/bokeh/release/bokeh-tables-0.12.14.min.css\");\n",
       "    }\n",
       "  ];\n",
       "\n",
       "  function run_inline_js() {\n",
       "    \n",
       "    if ((root.Bokeh !== undefined) || (force === true)) {\n",
       "      for (var i = 0; i < inline_js.length; i++) {\n",
       "        inline_js[i].call(root, root.Bokeh);\n",
       "      }if (force === true) {\n",
       "        display_loaded();\n",
       "      }} else if (Date.now() < root._bokeh_timeout) {\n",
       "      setTimeout(run_inline_js, 100);\n",
       "    } else if (!root._bokeh_failed_load) {\n",
       "      console.log(\"Bokeh: BokehJS failed to load within specified timeout.\");\n",
       "      root._bokeh_failed_load = true;\n",
       "    } else if (force !== true) {\n",
       "      var cell = $(document.getElementById(\"c25cdb5d-18b4-49f5-b948-d23b657b6e71\")).parents('.cell').data().cell;\n",
       "      cell.output_area.append_execute_result(NB_LOAD_WARNING)\n",
       "    }\n",
       "\n",
       "  }\n",
       "\n",
       "  if (root._bokeh_is_loading === 0) {\n",
       "    console.log(\"Bokeh: BokehJS loaded, going straight to plotting\");\n",
       "    run_inline_js();\n",
       "  } else {\n",
       "    load_libs(js_urls, function() {\n",
       "      console.log(\"Bokeh: BokehJS plotting callback run at\", now());\n",
       "      run_inline_js();\n",
       "    });\n",
       "  }\n",
       "}(window));"
      ],
      "application/vnd.bokehjs_load.v0+json": "\n(function(root) {\n  function now() {\n    return new Date();\n  }\n\n  var force = true;\n\n  if (typeof (root._bokeh_onload_callbacks) === \"undefined\" || force === true) {\n    root._bokeh_onload_callbacks = [];\n    root._bokeh_is_loading = undefined;\n  }\n\n  \n\n  \n  if (typeof (root._bokeh_timeout) === \"undefined\" || force === true) {\n    root._bokeh_timeout = Date.now() + 5000;\n    root._bokeh_failed_load = false;\n  }\n\n  var NB_LOAD_WARNING = {'data': {'text/html':\n     \"<div style='background-color: #fdd'>\\n\"+\n     \"<p>\\n\"+\n     \"BokehJS does not appear to have successfully loaded. If loading BokehJS from CDN, this \\n\"+\n     \"may be due to a slow or bad network connection. Possible fixes:\\n\"+\n     \"</p>\\n\"+\n     \"<ul>\\n\"+\n     \"<li>re-rerun `output_notebook()` to attempt to load from CDN again, or</li>\\n\"+\n     \"<li>use INLINE resources instead, as so:</li>\\n\"+\n     \"</ul>\\n\"+\n     \"<code>\\n\"+\n     \"from bokeh.resources import INLINE\\n\"+\n     \"output_notebook(resources=INLINE)\\n\"+\n     \"</code>\\n\"+\n     \"</div>\"}};\n\n  function display_loaded() {\n    var el = document.getElementById(\"c25cdb5d-18b4-49f5-b948-d23b657b6e71\");\n    if (el != null) {\n      el.textContent = \"BokehJS is loading...\";\n    }\n    if (root.Bokeh !== undefined) {\n      if (el != null) {\n        el.textContent = \"BokehJS \" + root.Bokeh.version + \" successfully loaded.\";\n      }\n    } else if (Date.now() < root._bokeh_timeout) {\n      setTimeout(display_loaded, 100)\n    }\n  }\n\n\n  function run_callbacks() {\n    try {\n      root._bokeh_onload_callbacks.forEach(function(callback) { callback() });\n    }\n    finally {\n      delete root._bokeh_onload_callbacks\n    }\n    console.info(\"Bokeh: all callbacks have finished\");\n  }\n\n  function load_libs(js_urls, callback) {\n    root._bokeh_onload_callbacks.push(callback);\n    if (root._bokeh_is_loading > 0) {\n      console.log(\"Bokeh: BokehJS is being loaded, scheduling callback at\", now());\n      return null;\n    }\n    if (js_urls == null || js_urls.length === 0) {\n      run_callbacks();\n      return null;\n    }\n    console.log(\"Bokeh: BokehJS not loaded, scheduling load and callback at\", now());\n    root._bokeh_is_loading = js_urls.length;\n    for (var i = 0; i < js_urls.length; i++) {\n      var url = js_urls[i];\n      var s = document.createElement('script');\n      s.src = url;\n      s.async = false;\n      s.onreadystatechange = s.onload = function() {\n        root._bokeh_is_loading--;\n        if (root._bokeh_is_loading === 0) {\n          console.log(\"Bokeh: all BokehJS libraries loaded\");\n          run_callbacks()\n        }\n      };\n      s.onerror = function() {\n        console.warn(\"failed to load library \" + url);\n      };\n      console.log(\"Bokeh: injecting script tag for BokehJS library: \", url);\n      document.getElementsByTagName(\"head\")[0].appendChild(s);\n    }\n  };var element = document.getElementById(\"c25cdb5d-18b4-49f5-b948-d23b657b6e71\");\n  if (element == null) {\n    console.log(\"Bokeh: ERROR: autoload.js configured with elementid 'c25cdb5d-18b4-49f5-b948-d23b657b6e71' but no matching script tag was found. \")\n    return false;\n  }\n\n  var js_urls = [\"https://cdn.pydata.org/bokeh/release/bokeh-0.12.14.min.js\", \"https://cdn.pydata.org/bokeh/release/bokeh-widgets-0.12.14.min.js\", \"https://cdn.pydata.org/bokeh/release/bokeh-tables-0.12.14.min.js\", \"https://cdn.pydata.org/bokeh/release/bokeh-gl-0.12.14.min.js\"];\n\n  var inline_js = [\n    function(Bokeh) {\n      Bokeh.set_log_level(\"info\");\n    },\n    \n    function(Bokeh) {\n      \n    },\n    function(Bokeh) {\n      console.log(\"Bokeh: injecting CSS: https://cdn.pydata.org/bokeh/release/bokeh-0.12.14.min.css\");\n      Bokeh.embed.inject_css(\"https://cdn.pydata.org/bokeh/release/bokeh-0.12.14.min.css\");\n      console.log(\"Bokeh: injecting CSS: https://cdn.pydata.org/bokeh/release/bokeh-widgets-0.12.14.min.css\");\n      Bokeh.embed.inject_css(\"https://cdn.pydata.org/bokeh/release/bokeh-widgets-0.12.14.min.css\");\n      console.log(\"Bokeh: injecting CSS: https://cdn.pydata.org/bokeh/release/bokeh-tables-0.12.14.min.css\");\n      Bokeh.embed.inject_css(\"https://cdn.pydata.org/bokeh/release/bokeh-tables-0.12.14.min.css\");\n    }\n  ];\n\n  function run_inline_js() {\n    \n    if ((root.Bokeh !== undefined) || (force === true)) {\n      for (var i = 0; i < inline_js.length; i++) {\n        inline_js[i].call(root, root.Bokeh);\n      }if (force === true) {\n        display_loaded();\n      }} else if (Date.now() < root._bokeh_timeout) {\n      setTimeout(run_inline_js, 100);\n    } else if (!root._bokeh_failed_load) {\n      console.log(\"Bokeh: BokehJS failed to load within specified timeout.\");\n      root._bokeh_failed_load = true;\n    } else if (force !== true) {\n      var cell = $(document.getElementById(\"c25cdb5d-18b4-49f5-b948-d23b657b6e71\")).parents('.cell').data().cell;\n      cell.output_area.append_execute_result(NB_LOAD_WARNING)\n    }\n\n  }\n\n  if (root._bokeh_is_loading === 0) {\n    console.log(\"Bokeh: BokehJS loaded, going straight to plotting\");\n    run_inline_js();\n  } else {\n    load_libs(js_urls, function() {\n      console.log(\"Bokeh: BokehJS plotting callback run at\", now());\n      run_inline_js();\n    });\n  }\n}(window));"
     },
     "metadata": {},
     "output_type": "display_data"
    }
   ],
   "source": [
    "output_notebook()"
   ]
  },
  {
   "cell_type": "code",
   "execution_count": 8,
   "metadata": {
    "collapsed": true
   },
   "outputs": [],
   "source": [
    "def fmt_cool(ds_in):\n",
    "    ds = ds_in.copy(deep=True)\n",
    "    if 'igg' in ds.dims:\n",
    "        ds = ds.sel(igg=1)\n",
    "\n",
    "    if 'g' in ds.dims:\n",
    "        ds = ds.sum('g')\n",
    "            \n",
    "    if 'band' in ds.dims:\n",
    "        try:\n",
    "            ds = ds.squeeze('band')\n",
    "        except ValueError:\n",
    "            ds = ds.sum('band')\n",
    "                \n",
    "    return ds['coolrg']\n",
    "\n",
    "\n",
    "def pltdata_cooling_1(ds_cool=None,\n",
    "                      ds_cool_crd=None, ds_cool_wgt=None):\n",
    "    \n",
    "\n",
    "\n",
    "    colors = all_palettes['Set1'][4]\n",
    "    data = [{'label': 'CLIRAD `coolr_bands`',\n",
    "             'srs': fmt_cool(ds_cool),\n",
    "             'line_dash': 'dashed', 'line_width': 5,\n",
    "             'color': colors[0], 'alpha': .6},\n",
    "            {'label': 'CRD',\n",
    "             'srs': fmt_cool(ds_cool_crd),\n",
    "             'line_dash': 'solid', 'line_width': 1.5,\n",
    "             'marker': 'circle', 'marker_size': 5,\n",
    "             'color': colors[2], 'alpha': 1,},\n",
    "            {'label': 'WGT igg=10 wgt_flux=2',\n",
    "             'srs': fmt_cool(ds_cool_wgt),\n",
    "             'line_dash': 'solid', 'line_width': 3,\n",
    "             'marker': 'square', 'marker_size': 5,\n",
    "             'color': colors[3], 'alpha': .6}]\n",
    "    return data\n",
    "\n",
    "\n",
    "def nice_xlims(pltdata=None, prange=None):\n",
    "    \n",
    "    def get_slice(srs):\n",
    "        return srs.sel(pressure=slice(*prange))\n",
    "    \n",
    "    srss = [d['srs'] for d in pltdata]\n",
    "    vmin = min([get_slice(srs).min() for srs in srss])\n",
    "    vmax = max([get_slice(srs).max() for srs in srss])\n",
    "    dv = (vmax - vmin) * .01\n",
    "    return float(vmin - dv), float(vmax + dv)\n",
    "    \n",
    "\n",
    "def plt_cooling_bokeh(pltdata=None):\n",
    "    '''\n",
    "    Plot a list of cooling rate profiles using bokeh.\n",
    "    '''\n",
    "    ymin = 1e-2 \n",
    "    ymax = 1020 \n",
    "        \n",
    "    p1 = figure(title=\"Linear pressure scale\", \n",
    "                plot_width=400)        \n",
    "    xmin, xmax = nice_xlims(pltdata, prange=(50, 1050))\n",
    "    for d in pltdata:\n",
    "        if 'marker' in d:\n",
    "            getattr(p1, d['marker'])(d['srs'].values, \n",
    "                    d['srs'].coords['pressure'].values,\n",
    "                    color=d['color'], alpha=.7)\n",
    "        p1.line(d['srs'].values, \n",
    "                d['srs'].coords['pressure'].values,\n",
    "                color=d['color'], alpha=d['alpha'], \n",
    "                line_width=d['line_width'], line_dash=d['line_dash'])\n",
    "    \n",
    "    p1.y_range = Range1d(ymax, ymin)\n",
    "    p1.yaxis.axis_label = 'pressure [mb]'   \n",
    "    p1.x_range = Range1d(xmin, xmax)\n",
    "    p1.xaxis.axis_label = 'cooling rate [K/day]'\n",
    "            \n",
    "    p2 = figure(title='Log pressure scale', y_axis_type='log',\n",
    "                plot_width=560)\n",
    "    xmin, xmax = nice_xlims(pltdata, prange=(.01, 200))\n",
    "    \n",
    "    rs = []\n",
    "    for d in pltdata:\n",
    "        rd = []\n",
    "        if 'marker' in d:\n",
    "            r_mark = getattr(p2, d['marker'])(d['srs'].values, \n",
    "                        d['srs'].coords['pressure'].values,\n",
    "                        color=d['color'], alpha=.7)\n",
    "            rd.append(r_mark)\n",
    "        r_line = p2.line(d['srs'].values, \n",
    "                    d['srs'].coords['pressure'].values,\n",
    "                    color=d['color'], alpha=d['alpha'], \n",
    "                    line_width=d['line_width'], line_dash=d['line_dash'])\n",
    "        rd.append(r_line)\n",
    "      \n",
    "        rs.append(rd)\n",
    "        \n",
    "    p2.y_range = Range1d(ymax, ymin)  \n",
    "    p2.yaxis.axis_label = 'pressure [mb]'\n",
    "    \n",
    "    p2.x_range = Range1d(xmin, xmax)\n",
    "    p2.xaxis.axis_label = 'cooling rate [K/day]'\n",
    "    \n",
    "    items = [(d['label'], r) for r, d in zip(rs, pltdata)]\n",
    "    legend = Legend(items=items, location=(10, -30))\n",
    "    legend.label_text_font_size = '8pt'\n",
    "    \n",
    "    p2.add_layout(legend, 'right')  \n",
    "    \n",
    "    show(gridplot(p1, p2, ncols=2, plot_height=500))\n",
    "    \n",
    "\n",
    "def script_plt_cooling():\n",
    "    pltdata = pltdata_cooling_1(\n",
    "        ds_cool=DS_COOL,\n",
    "        ds_cool_crd=DS_COOL_CRD,\n",
    "        ds_cool_wgt=DS_COOL_WGT)\n",
    "    plt_cooling_bokeh(pltdata=pltdata)\n",
    "    print('''FIGURE. Cooling rate profiles.''')"
   ]
  },
  {
   "cell_type": "code",
   "execution_count": 9,
   "metadata": {
    "collapsed": true
   },
   "outputs": [],
   "source": [
    "def fmt_flux(ds_in):\n",
    "    ds = ds_in.copy(deep=True)\n",
    "    \n",
    "    for l in ('level', 'layer'):\n",
    "        if l in ds.data_vars:\n",
    "            if len(ds[l].dims) > 1:\n",
    "                surface = {d: 0 for d in ds.dims if d != 'pressure'}\n",
    "                coord_level = ds[l][surface]\n",
    "                ds.coords[l] = ('pressure', coord_level)\n",
    "            else:\n",
    "                ds.coords[l] = ('pressure', ds[l])\n",
    "        \n",
    "    ds = ds.isel(pressure=[0, 23, -1])\n",
    "        \n",
    "    if 'igg' in ds.dims:\n",
    "        ds = ds.sel(igg=[1])\n",
    "        ds = ds.squeeze('igg').drop('igg')\n",
    "    \n",
    "    if 'g' in ds.dims:\n",
    "        ds = ds.sum('g')\n",
    "            \n",
    "    if 'band' in ds.dims:\n",
    "        try:\n",
    "            ds = ds.squeeze('band').drop('band')\n",
    "        except ValueError:\n",
    "            ds = ds.sum('band')\n",
    "                \n",
    "    df = ds.to_dataframe()\n",
    "    df = df.set_index('level', append=True)               \n",
    "    return df\n",
    "\n",
    "\n",
    "def tbdata_flux(ds_flux=None, ds_flux_crd=None, ds_flux_wgt=None):\n",
    "    ilevels = [0, 23, -1]\n",
    "            \n",
    "    benchmark = {'label': 'WGT igg=10 wgt_flux=1',\n",
    "                 'df': fmt_flux(ds_flux_wgt)}\n",
    "    \n",
    "    tbs = [{'label': 'CRD',\n",
    "            'df': fmt_flux(ds_flux_crd)},\n",
    "           {'label': 'CLIRAD',\n",
    "            'df': fmt_flux(ds_flux)}]\n",
    "    \n",
    "    data = {'benchmark': benchmark, 'others': tbs}\n",
    "    return data\n",
    "\n",
    "\n",
    "def tb_flux(tbdata=None):\n",
    "    benchmark = tbdata['benchmark']\n",
    "    others = tbdata['others']\n",
    "    \n",
    "    def show_tb(d=None):\n",
    "        display.display(d['df'])\n",
    "        print('Table.', 'Fluxes.', d['label'])\n",
    "        \n",
    "    def show_tbdiff(d0=None, d=None):\n",
    "        df = d['df']\n",
    "        df.index = d0['df'].index\n",
    "        display.display(df - d0['df'])\n",
    "        print('Table.', 'Fluxes.', \n",
    "              '({}) - ({})'.format(d['label'], d0['label']))\n",
    "        \n",
    "    show_tb(benchmark)\n",
    "    for d in others:\n",
    "        show_tb(d)\n",
    "        \n",
    "    for d in others:\n",
    "        show_tbdiff(d=d, d0=benchmark)\n",
    "        \n",
    "        \n",
    "def script_tb_flux():\n",
    "    data = tbdata_flux(ds_flux=DS_FLUX,\n",
    "                       ds_flux_crd=DS_FLUX_CRD,\n",
    "                       ds_flux_wgt=DS_FLUX_WGT)\n",
    "    tb_flux(tbdata=data)"
   ]
  },
  {
   "cell_type": "code",
   "execution_count": 10,
   "metadata": {
    "collapsed": true
   },
   "outputs": [],
   "source": [
    "def band_map():\n",
    "    '''\n",
    "    Maps spectral bands in lblnew to spectral bands in clirad.\n",
    "    '''\n",
    "    lblnew2clirad = {'1': '1',\n",
    "            '2': '2',\n",
    "            '3a': '3',\n",
    "            '3b': '4',\n",
    "            '3c': '5',\n",
    "            '4': '6', \n",
    "            '5': '7',\n",
    "            '6': '8',\n",
    "            '7': '9', \n",
    "            '8': '10',\n",
    "            '9': '11'}\n",
    "    \n",
    "    clirad2lblnew = {clirad: lblnew \n",
    "                     for lblnew, clirad in lblnew2clirad.items()}\n",
    "    return clirad2lblnew\n",
    "\n",
    "\n",
    "def gasbands():\n",
    "    bmap = band_map()\n",
    "    gases = list(PARAM['molecule'].keys())\n",
    "    \n",
    "    bands = [bmap[str(b)] for b in PARAM['band']]\n",
    "    return list(itertools.product(gases, bands))\n",
    "\n",
    "\n",
    "def print_bestfit_params():\n",
    "    print('Best-fit values for each (gas, band)')\n",
    "    print('------------------------------------')\n",
    "    for gas, band in gasbands():\n",
    "        print('o {} band{}'.format(gas, band))\n",
    "        param = bestfits.kdist_params(molecule=gas, band=band)\n",
    "        for name, value in param.items():\n",
    "            print(2 * ' ' + '{} = {}'.format(name, value))\n",
    "\n",
    "        \n",
    "def print_input_param():        \n",
    "    for name, value in PARAM.items():\n",
    "        print('{} = {}'.format(name, value))\n",
    "        \n",
    "        \n",
    "def print_lblnew_param():\n",
    "    for name, value in PARAM_LBLNEW.items():\n",
    "        print('{} = {}'.format(name, value))\n"
   ]
  },
  {
   "cell_type": "code",
   "execution_count": 11,
   "metadata": {
    "collapsed": true,
    "scrolled": false
   },
   "outputs": [],
   "source": [
    "def show_html(s):\n",
    "    display.display(display.HTML(s))\n",
    "\n",
    "    \n",
    "def show_markdown(s):\n",
    "    display.display(display.Markdown(s))\n",
    "\n",
    "    \n",
    "def script():\n",
    "    \n",
    "    title = '### CLIRAD-LW'\n",
    "    s_input = 'Input Parameters'\n",
    "    s_lblnew_param = 'LBLNEW case compaired against'\n",
    "    s_bestfits = 'Best-fit Parameters'\n",
    "    s_plt_cooling = 'Cooling Rate Profiles'\n",
    "    s_tb_flux = 'Flux Comparison'\n",
    "    \n",
    "    # title\n",
    "    show_markdown('### CLIRAD-LW')\n",
    "    \n",
    "    # TOC\n",
    "    show_markdown('### Table of Contents')\n",
    "    show_html(climahtml.getHTML_hrefanchor(s_input))\n",
    "    show_html(climahtml.getHTML_hrefanchor(s_lblnew_param))\n",
    "    show_html(climahtml.getHTML_hrefanchor(s_plt_cooling))\n",
    "    show_html(climahtml.getHTML_hrefanchor(s_tb_flux))\n",
    "    show_html(climahtml.getHTML_hrefanchor(s_bestfits))\n",
    "    \n",
    "    # Input parameters\n",
    "    show_html(climahtml.getHTML_idanchor(s_input))\n",
    "    show_markdown(climahtml.getMarkdown_sectitle(s_input))\n",
    "    print_input_param()\n",
    "    \n",
    "    # LBLNEW parameters \n",
    "    show_html(climahtml.getHTML_idanchor(s_lblnew_param))\n",
    "    show_markdown(climahtml.getMarkdown_sectitle(s_lblnew_param))\n",
    "    print_lblnew_param()\n",
    "    \n",
    "    # Cooling rate profiles\n",
    "    show_html(climahtml.getHTML_idanchor(s_plt_cooling))\n",
    "    show_markdown(climahtml.getMarkdown_sectitle(s_plt_cooling))\n",
    "    script_plt_cooling()\n",
    "    \n",
    "    # Flux comparison\n",
    "    show_html(climahtml.getHTML_idanchor(s_tb_flux))\n",
    "    show_markdown(climahtml.getMarkdown_sectitle(s_tb_flux))\n",
    "    script_tb_flux()\n",
    "    \n",
    "    # Best-fit values\n",
    "    show_html(climahtml.getHTML_idanchor(s_bestfits))\n",
    "    show_markdown(climahtml.getMarkdown_sectitle(s_bestfits))\n",
    "    print_bestfit_params()\n",
    "   \n",
    "    "
   ]
  },
  {
   "cell_type": "code",
   "execution_count": 12,
   "metadata": {
    "scrolled": false
   },
   "outputs": [
    {
     "data": {
      "text/markdown": [
       "### CLIRAD-LW"
      ],
      "text/plain": [
       "<IPython.core.display.Markdown object>"
      ]
     },
     "metadata": {},
     "output_type": "display_data"
    },
    {
     "data": {
      "text/markdown": [
       "### Table of Contents"
      ],
      "text/plain": [
       "<IPython.core.display.Markdown object>"
      ]
     },
     "metadata": {},
     "output_type": "display_data"
    },
    {
     "data": {
      "text/html": [
       "<a href=\"#Input_Parameters\">Input Parameters</a>"
      ],
      "text/plain": [
       "<IPython.core.display.HTML object>"
      ]
     },
     "metadata": {},
     "output_type": "display_data"
    },
    {
     "data": {
      "text/html": [
       "<a href=\"#LBLNEW_case_compaired_against\">LBLNEW case compaired against</a>"
      ],
      "text/plain": [
       "<IPython.core.display.HTML object>"
      ]
     },
     "metadata": {},
     "output_type": "display_data"
    },
    {
     "data": {
      "text/html": [
       "<a href=\"#Cooling_Rate_Profiles\">Cooling Rate Profiles</a>"
      ],
      "text/plain": [
       "<IPython.core.display.HTML object>"
      ]
     },
     "metadata": {},
     "output_type": "display_data"
    },
    {
     "data": {
      "text/html": [
       "<a href=\"#Flux_Comparison\">Flux Comparison</a>"
      ],
      "text/plain": [
       "<IPython.core.display.HTML object>"
      ]
     },
     "metadata": {},
     "output_type": "display_data"
    },
    {
     "data": {
      "text/html": [
       "<a href=\"#Best-fit_Parameters\">Best-fit Parameters</a>"
      ],
      "text/plain": [
       "<IPython.core.display.HTML object>"
      ]
     },
     "metadata": {},
     "output_type": "display_data"
    },
    {
     "data": {
      "text/html": [
       "<a id=\"Input_Parameters\"></a>"
      ],
      "text/plain": [
       "<IPython.core.display.HTML object>"
      ]
     },
     "metadata": {},
     "output_type": "display_data"
    },
    {
     "data": {
      "text/markdown": [
       "# Input Parameters"
      ],
      "text/plain": [
       "<IPython.core.display.Markdown object>"
      ]
     },
     "metadata": {},
     "output_type": "display_data"
    },
    {
     "name": "stdout",
     "output_type": "stream",
     "text": [
      "atmpro = mls\n",
      "band = [3]\n",
      "commitnumber = 4f33c91\n",
      "molecule = {'h2o': 'atmpro'}\n",
      "tsfc = 294\n"
     ]
    },
    {
     "data": {
      "text/html": [
       "<a id=\"LBLNEW_case_compaired_against\"></a>"
      ],
      "text/plain": [
       "<IPython.core.display.HTML object>"
      ]
     },
     "metadata": {},
     "output_type": "display_data"
    },
    {
     "data": {
      "text/markdown": [
       "# LBLNEW case compaired against"
      ],
      "text/plain": [
       "<IPython.core.display.Markdown object>"
      ]
     },
     "metadata": {},
     "output_type": "display_data"
    },
    {
     "name": "stdout",
     "output_type": "stream",
     "text": [
      "molecule = h2o\n",
      "band = 3a\n",
      "commitnumber = d62b618\n",
      "vmin = 540\n",
      "vmax = 620\n",
      "dv = 0.001\n",
      "nv = 1000\n",
      "ref_pts = [(10, 250), (600, 250)]\n",
      "ng_refs = [2, 6]\n",
      "ng_adju = [0, 0]\n",
      "klin = 0\n",
      "option_wgt_k = 1\n",
      "wgt = [(0.7, 0.7), (0.7, 0.5, 0.5, 0.5, 0.5, 0.5)]\n",
      "w_diffuse = [(1.9, 1.7), (1.4, 1.4, 1.4, 1.55, 1.6, 1.66)]\n",
      "option_wgt_flux = 1\n",
      "atmpro = mls\n",
      "tsfc = 294\n",
      "conc = None\n",
      "option_compute_btable = 0\n",
      "option_compute_ktable = 1\n"
     ]
    },
    {
     "data": {
      "text/html": [
       "<a id=\"Cooling_Rate_Profiles\"></a>"
      ],
      "text/plain": [
       "<IPython.core.display.HTML object>"
      ]
     },
     "metadata": {},
     "output_type": "display_data"
    },
    {
     "data": {
      "text/markdown": [
       "# Cooling Rate Profiles"
      ],
      "text/plain": [
       "<IPython.core.display.Markdown object>"
      ]
     },
     "metadata": {},
     "output_type": "display_data"
    },
    {
     "data": {
      "text/html": [
       "\n",
       "<div class=\"bk-root\">\n",
       "    <div class=\"bk-plotdiv\" id=\"0053eacb-dcc7-4ba9-8b24-34e3da28be0e\"></div>\n",
       "</div>"
      ]
     },
     "metadata": {},
     "output_type": "display_data"
    },
    {
     "data": {
      "application/javascript": [
       "(function(root) {\n",
       "  function embed_document(root) {\n",
       "    \n",
       "  var docs_json = {\"e53c2c84-e835-4a7b-ae66-7a934de92adf\":{\"roots\":{\"references\":[{\"attributes\":{\"callback\":null,\"column_names\":[\"x\",\"y\"],\"data\":{\"x\":{\"__ndarray__\":\"4D6vLZf+ND+cMBGdFxI3P4qH8YeYszs/OyZldpRZQD904nhYOulCP+UHOlPSjkU/IRva4A1DSD9JJ+0e8QBLP5sKoM4qxE0/bv4D2fNHUD+c9WBMnp1RP6Ludy8N+FI/R/Pn5hk+VD87SDljEpFVPwKAFhw0bFo/ySZgh+8VZT8RkDIQ8ptxP6pt8KmPzHo/Qcuh4os4gz8sYIbvknKKPzu5+j/0lZE/BebNU7DVlj/VmtnzpGibPxiUOfuiu5o/gBUpkoSElT9Poa5GWlCQPxKPrS9eaIg/4a5N0M48gj/JcolYARR8P9Ee56kSTXY/UVozBtq8cT/h5uRvgRdsP/miCUh+M2c/8Az0e6QCZD/RpVeBXA1hP/kQBGuE1Vs/6cBFcUaJWD+wvKaulXxXPzDGnHQWTlY/+ZIEqDukVz8wsNKSw/ZmPz15ZxyC3YM/q0fLlQJRmD/sxw9dnG2mP+6xO3eXGLE/8/2fhhlhtD9IBQQpZ163PyhwPrfIJLs/cyytjjWGvz+02Lt5iTXCPxM+pZQh2MQ/2pCgdPlBxz8y8R7SNbTJP6269Tf0WMw/2JR1SeYizz91IqBGSgjRP2MK1jibjtI/5KI5Nivw1D+DjvOK6TrXP+jjkMMWMdk/UO3CxUDN2j9+wl3mCf7bP2ydNOQKtdw/ZfpG8JYW3T8uF1TIUx7dP1wVjyhA1tw/LHu3Hioy3D/NAYI5ejzbP/6OE+zg3Nk/jLbw3WIV2D+EWEefoB7WP/gyk6CmM9Q/GP8EODlT0j80qZmcd+/QP/z9Qah7ctE/\",\"dtype\":\"float64\",\"shape\":[75]},\"y\":{\"__ndarray__\":\"GhExyth1ND/Sv8nbtpRIP2vylNV0PVE/aTum7souWD/At0SJ8fVgPw3Iuahxymc/MSNhhJWvcD/bTfBN02d3P2zb5nxnaoA/CD5h5MAGhz8NmeH1TyaQP+zrCsc9p5Y/LbKd76fGnz/bLW5ISEmmPww9YvTcQq8/JV2OstnstT8Er5Y7M8G+P0c+r3jqkcU/5h99k6ZBzj88bCIzFzjVP4enV8oyxN0//yH99nXg5D8qOpLLf0jtP5kqGJXUifQ/c9cS8kHP/D+/DpwzojQEQIEmwoanVwxA4lgXt9HgE0BSSZ2AJuIbQAMJih9jjiNA5q4l5INuK0AwTKYKRj0zQNv5fmq8/DpAaCJseHrtQkB/+zpwzoxKQM3MzMzMeFJAZmZmZmZqWEAAAAAAAFxeQM3MzMzMJmJAmpmZmZkfZUBmZmZmZhhoQDMzMzMzEWtAAAAAAAAKbkBmZmZmZoFwQM3MzMzM/XFAMzMzMzN6c0CamZmZmfZ0QAAAAAAAc3ZAZmZmZmbvd0DNzMzMzGt5QDMzMzMz6HpAmpmZmZlkfEAAAAAAAOF9QGZmZmZmXX9AZmZmZuZsgECamZmZGSuBQM3MzMxM6YFAAAAAAICngkAzMzMzs2WDQGZmZmbmI4RAmpmZmRnihEDNzMzMTKCFQAAAAACAXoZAMzMzM7Mch0BmZmZm5tqHQJqZmZkZmYhAzczMzExXiUAAAAAAgBWKQDMzMzOz04pAZmZmZuaRi0CamZmZGVCMQM3MzMxMDo1AAAAAAIDMjUAzMzMzs4qOQGZmZmbmSI9A\",\"dtype\":\"float64\",\"shape\":[75]}}},\"id\":\"e9ba7cb7-e2fc-419e-baba-50510917a6b2\",\"type\":\"ColumnDataSource\"},{\"attributes\":{\"fill_alpha\":{\"value\":0.1},\"fill_color\":{\"value\":\"#1f77b4\"},\"line_alpha\":{\"value\":0.1},\"line_color\":{\"value\":\"#1f77b4\"},\"x\":{\"field\":\"x\"},\"y\":{\"field\":\"y\"}},\"id\":\"5c8781f1-a9d5-4200-8de2-fc0025c4150a\",\"type\":\"Square\"},{\"attributes\":{\"ticker\":null},\"id\":\"3362a8b0-dc5c-43e1-9ee3-060f51ed4a6f\",\"type\":\"LogTickFormatter\"},{\"attributes\":{\"line_alpha\":0.1,\"line_color\":\"#1f77b4\",\"line_dash\":[6],\"line_width\":5,\"x\":{\"field\":\"x\"},\"y\":{\"field\":\"y\"}},\"id\":\"4dd45708-1675-479c-aaa5-5a442c643168\",\"type\":\"Line\"},{\"attributes\":{\"source\":{\"id\":\"263a9de7-ff97-43e8-9f8c-accccd7e6852\",\"type\":\"ColumnDataSource\"}},\"id\":\"ad41d567-1d9f-4979-a8d5-fc3e560c488a\",\"type\":\"CDSView\"},{\"attributes\":{},\"id\":\"80b22d94-51f5-4a52-9654-91534a87fe0c\",\"type\":\"WheelZoomTool\"},{\"attributes\":{\"callback\":null,\"end\":0.48722662078080003,\"start\":-0.003833078860800001},\"id\":\"e81c83f7-c017-4ba0-ad2c-97f47d6b51e0\",\"type\":\"Range1d\"},{\"attributes\":{\"source\":{\"id\":\"d1c5f2a5-d6e8-4656-9060-7ffa45c47e69\",\"type\":\"ColumnDataSource\"}},\"id\":\"847c2609-05a9-4f6e-89a2-171e68db5a39\",\"type\":\"CDSView\"},{\"attributes\":{},\"id\":\"0b681e46-6863-47e5-81a9-5cd30447f613\",\"type\":\"BasicTicker\"},{\"attributes\":{},\"id\":\"aa85eeb8-23b8-43b8-87a1-a007564bac8a\",\"type\":\"ResetTool\"},{\"attributes\":{\"source\":{\"id\":\"7b41f9dd-e16f-4aa4-92d9-49fb4b889240\",\"type\":\"ColumnDataSource\"}},\"id\":\"19b46545-539d-4643-ac37-fcaa914f502d\",\"type\":\"CDSView\"},{\"attributes\":{\"children\":[{\"id\":\"35709ba5-5a29-4b24-99d4-e86cf8d68be2\",\"subtype\":\"Figure\",\"type\":\"Plot\"},{\"id\":\"b43f6a4f-0607-4f18-9123-71751f815ed5\",\"subtype\":\"Figure\",\"type\":\"Plot\"}]},\"id\":\"9e2652e7-b300-4611-9ae7-738f9f306247\",\"type\":\"Row\"},{\"attributes\":{\"num_minor_ticks\":10},\"id\":\"fb2f5783-7359-41aa-a6b0-ef894aadb013\",\"type\":\"LogTicker\"},{\"attributes\":{\"active_drag\":\"auto\",\"active_inspect\":\"auto\",\"active_scroll\":\"auto\",\"active_tap\":\"auto\",\"tools\":[{\"id\":\"1e377e23-5a98-42cf-b5d7-fd394303885b\",\"type\":\"PanTool\"},{\"id\":\"80b22d94-51f5-4a52-9654-91534a87fe0c\",\"type\":\"WheelZoomTool\"},{\"id\":\"63d08161-e6ef-4d23-974e-01d4ca5af670\",\"type\":\"BoxZoomTool\"},{\"id\":\"c50b9d34-995b-40eb-a8fb-39cf94258f9b\",\"type\":\"SaveTool\"},{\"id\":\"aa85eeb8-23b8-43b8-87a1-a007564bac8a\",\"type\":\"ResetTool\"},{\"id\":\"6faa279b-0ed1-4506-9130-c8c33f26cbbe\",\"type\":\"HelpTool\"}]},\"id\":\"1b2cdb2a-7a70-40a5-8fdb-51bdf0e17891\",\"type\":\"Toolbar\"},{\"attributes\":{\"axis_label\":\"cooling rate [K/day]\",\"formatter\":{\"id\":\"1957fa31-c3b2-46bf-94d7-ab2711dd2341\",\"type\":\"BasicTickFormatter\"},\"plot\":{\"id\":\"b43f6a4f-0607-4f18-9123-71751f815ed5\",\"subtype\":\"Figure\",\"type\":\"Plot\"},\"ticker\":{\"id\":\"0b681e46-6863-47e5-81a9-5cd30447f613\",\"type\":\"BasicTicker\"}},\"id\":\"2ff44835-3e97-44f7-a895-882e15671ab1\",\"type\":\"LinearAxis\"},{\"attributes\":{\"plot\":{\"id\":\"b43f6a4f-0607-4f18-9123-71751f815ed5\",\"subtype\":\"Figure\",\"type\":\"Plot\"},\"ticker\":{\"id\":\"0b681e46-6863-47e5-81a9-5cd30447f613\",\"type\":\"BasicTicker\"}},\"id\":\"3a454b0d-16d2-439c-8322-34ee5c9ffcb0\",\"type\":\"Grid\"},{\"attributes\":{\"plot\":null,\"text\":\"Log pressure scale\"},\"id\":\"49e31673-77f5-4e75-824f-c3d103f67f14\",\"type\":\"Title\"},{\"attributes\":{\"source\":{\"id\":\"c8919498-1189-492a-92aa-85c17180fdd9\",\"type\":\"ColumnDataSource\"}},\"id\":\"b630887d-4a57-4b67-8d9c-0c183ae1a935\",\"type\":\"CDSView\"},{\"attributes\":{\"axis_label\":\"pressure [mb]\",\"formatter\":{\"id\":\"3362a8b0-dc5c-43e1-9ee3-060f51ed4a6f\",\"type\":\"LogTickFormatter\"},\"plot\":{\"id\":\"b43f6a4f-0607-4f18-9123-71751f815ed5\",\"subtype\":\"Figure\",\"type\":\"Plot\"},\"ticker\":{\"id\":\"fb2f5783-7359-41aa-a6b0-ef894aadb013\",\"type\":\"LogTicker\"}},\"id\":\"9efacf80-717a-43dd-a2ed-ff60dcc70eda\",\"type\":\"LogAxis\"},{\"attributes\":{\"data_source\":{\"id\":\"f308b5f2-432f-446a-91cf-503cd6862e87\",\"type\":\"ColumnDataSource\"},\"glyph\":{\"id\":\"0aa623c3-6a67-43eb-b365-be2ed83ec8d6\",\"type\":\"Circle\"},\"hover_glyph\":null,\"muted_glyph\":null,\"nonselection_glyph\":{\"id\":\"7ab1d6aa-c1bb-47ff-afbc-d64c5eebd610\",\"type\":\"Circle\"},\"selection_glyph\":null,\"view\":{\"id\":\"838d9e2f-a840-4765-a9e8-cd1e6e8d1cce\",\"type\":\"CDSView\"}},\"id\":\"ff1af795-eae4-403c-a1dd-9e349a2a4608\",\"type\":\"GlyphRenderer\"},{\"attributes\":{\"line_alpha\":0.6,\"line_color\":\"#984ea3\",\"line_width\":3,\"x\":{\"field\":\"x\"},\"y\":{\"field\":\"y\"}},\"id\":\"e6e69993-b113-4377-ba12-15e16b929221\",\"type\":\"Line\"},{\"attributes\":{\"below\":[{\"id\":\"2ff44835-3e97-44f7-a895-882e15671ab1\",\"type\":\"LinearAxis\"}],\"left\":[{\"id\":\"9efacf80-717a-43dd-a2ed-ff60dcc70eda\",\"type\":\"LogAxis\"}],\"plot_height\":500,\"plot_width\":560,\"renderers\":[{\"id\":\"2ff44835-3e97-44f7-a895-882e15671ab1\",\"type\":\"LinearAxis\"},{\"id\":\"3a454b0d-16d2-439c-8322-34ee5c9ffcb0\",\"type\":\"Grid\"},{\"id\":\"9efacf80-717a-43dd-a2ed-ff60dcc70eda\",\"type\":\"LogAxis\"},{\"id\":\"5d718d1a-d546-463d-b264-cbb9e306aaa6\",\"type\":\"Grid\"},{\"id\":\"1648fd86-8e14-4579-bd80-bb0aaf0afa3f\",\"type\":\"BoxAnnotation\"},{\"id\":\"f0f7458e-94b3-4044-ab87-6f77d2bf3588\",\"type\":\"GlyphRenderer\"},{\"id\":\"ff1af795-eae4-403c-a1dd-9e349a2a4608\",\"type\":\"GlyphRenderer\"},{\"id\":\"840c1177-e3e6-41e0-9e26-a2a3be24d812\",\"type\":\"GlyphRenderer\"},{\"id\":\"533f5cc3-ec5a-449a-8638-33d1c5bb9bc4\",\"type\":\"GlyphRenderer\"},{\"id\":\"748d235d-f89d-4631-a943-6f657f9ea111\",\"type\":\"GlyphRenderer\"},{\"id\":\"423469b4-5a74-490d-a4b1-9d0189f75bd3\",\"type\":\"Legend\"}],\"right\":[{\"id\":\"423469b4-5a74-490d-a4b1-9d0189f75bd3\",\"type\":\"Legend\"}],\"title\":{\"id\":\"49e31673-77f5-4e75-824f-c3d103f67f14\",\"type\":\"Title\"},\"toolbar\":{\"id\":\"1b2cdb2a-7a70-40a5-8fdb-51bdf0e17891\",\"type\":\"Toolbar\"},\"toolbar_location\":null,\"x_range\":{\"id\":\"42fba58d-6bca-4c0d-b57e-0ecfde7b0b12\",\"type\":\"Range1d\"},\"x_scale\":{\"id\":\"77e73f9a-f27e-4dad-bef6-4f40950d997a\",\"type\":\"LinearScale\"},\"y_range\":{\"id\":\"e406fdcb-4998-4f5f-b505-14432c1ccd28\",\"type\":\"Range1d\"},\"y_scale\":{\"id\":\"69f03513-58ec-44a8-a65f-3f7264df7ea4\",\"type\":\"LogScale\"}},\"id\":\"b43f6a4f-0607-4f18-9123-71751f815ed5\",\"subtype\":\"Figure\",\"type\":\"Plot\"},{\"attributes\":{\"callback\":null,\"column_names\":[\"x\",\"y\"],\"data\":{\"x\":{\"__ndarray__\":\"4D6vLZf+ND+cMBGdFxI3P4qH8YeYszs/OyZldpRZQD904nhYOulCP+UHOlPSjkU/IRva4A1DSD9JJ+0e8QBLP5sKoM4qxE0/bv4D2fNHUD+c9WBMnp1RP6Ludy8N+FI/R/Pn5hk+VD87SDljEpFVPwKAFhw0bFo/ySZgh+8VZT8RkDIQ8ptxP6pt8KmPzHo/Qcuh4os4gz8sYIbvknKKPzu5+j/0lZE/BebNU7DVlj/VmtnzpGibPxiUOfuiu5o/gBUpkoSElT9Poa5GWlCQPxKPrS9eaIg/4a5N0M48gj/JcolYARR8P9Ee56kSTXY/UVozBtq8cT/h5uRvgRdsP/miCUh+M2c/8Az0e6QCZD/RpVeBXA1hP/kQBGuE1Vs/6cBFcUaJWD+wvKaulXxXPzDGnHQWTlY/+ZIEqDukVz8wsNKSw/ZmPz15ZxyC3YM/q0fLlQJRmD/sxw9dnG2mP+6xO3eXGLE/8/2fhhlhtD9IBQQpZ163PyhwPrfIJLs/cyytjjWGvz+02Lt5iTXCPxM+pZQh2MQ/2pCgdPlBxz8y8R7SNbTJP6269Tf0WMw/2JR1SeYizz91IqBGSgjRP2MK1jibjtI/5KI5Nivw1D+DjvOK6TrXP+jjkMMWMdk/UO3CxUDN2j9+wl3mCf7bP2ydNOQKtdw/ZfpG8JYW3T8uF1TIUx7dP1wVjyhA1tw/LHu3Hioy3D/NAYI5ejzbP/6OE+zg3Nk/jLbw3WIV2D+EWEefoB7WP/gyk6CmM9Q/GP8EODlT0j80qZmcd+/QP/z9Qah7ctE/\",\"dtype\":\"float64\",\"shape\":[75]},\"y\":{\"__ndarray__\":\"GhExyth1ND/Sv8nbtpRIP2vylNV0PVE/aTum7souWD/At0SJ8fVgPw3Iuahxymc/MSNhhJWvcD/bTfBN02d3P2zb5nxnaoA/CD5h5MAGhz8NmeH1TyaQP+zrCsc9p5Y/LbKd76fGnz/bLW5ISEmmPww9YvTcQq8/JV2OstnstT8Er5Y7M8G+P0c+r3jqkcU/5h99k6ZBzj88bCIzFzjVP4enV8oyxN0//yH99nXg5D8qOpLLf0jtP5kqGJXUifQ/c9cS8kHP/D+/DpwzojQEQIEmwoanVwxA4lgXt9HgE0BSSZ2AJuIbQAMJih9jjiNA5q4l5INuK0AwTKYKRj0zQNv5fmq8/DpAaCJseHrtQkB/+zpwzoxKQM3MzMzMeFJAZmZmZmZqWEAAAAAAAFxeQM3MzMzMJmJAmpmZmZkfZUBmZmZmZhhoQDMzMzMzEWtAAAAAAAAKbkBmZmZmZoFwQM3MzMzM/XFAMzMzMzN6c0CamZmZmfZ0QAAAAAAAc3ZAZmZmZmbvd0DNzMzMzGt5QDMzMzMz6HpAmpmZmZlkfEAAAAAAAOF9QGZmZmZmXX9AZmZmZuZsgECamZmZGSuBQM3MzMxM6YFAAAAAAICngkAzMzMzs2WDQGZmZmbmI4RAmpmZmRnihEDNzMzMTKCFQAAAAACAXoZAMzMzM7Mch0BmZmZm5tqHQJqZmZkZmYhAzczMzExXiUAAAAAAgBWKQDMzMzOz04pAZmZmZuaRi0CamZmZGVCMQM3MzMxMDo1AAAAAAIDMjUAzMzMzs4qOQGZmZmbmSI9A\",\"dtype\":\"float64\",\"shape\":[75]}}},\"id\":\"f308b5f2-432f-446a-91cf-503cd6862e87\",\"type\":\"ColumnDataSource\"},{\"attributes\":{},\"id\":\"77e73f9a-f27e-4dad-bef6-4f40950d997a\",\"type\":\"LinearScale\"},{\"attributes\":{\"fill_alpha\":{\"value\":0.1},\"fill_color\":{\"value\":\"#1f77b4\"},\"line_alpha\":{\"value\":0.1},\"line_color\":{\"value\":\"#1f77b4\"},\"x\":{\"field\":\"x\"},\"y\":{\"field\":\"y\"}},\"id\":\"7ab1d6aa-c1bb-47ff-afbc-d64c5eebd610\",\"type\":\"Circle\"},{\"attributes\":{\"callback\":null,\"column_names\":[\"x\",\"y\"],\"data\":{\"x\":{\"__ndarray__\":\"aidtbGymQj+FotMyvZ1DP6XMuQ4St0U/Z7/G7gX+Rz+ACCmEAlRKP9M8mzNpuEw/haNgwv8qTz8tZl3ZqtVQP+2fBu1lHFI/wraz+gppUz+IkgWgJqtUP5A/Is/n4lU/GxNb0OI+Vz9KhZnMa7NYP0lJTk5nYl0/CMh6I83LZT+MfafUEEtxP5lFhbd8rHk/sbK0p1Qfgj/S8Rr2r6CIPzs890ExTpA/8GzyHrkllT+p0IUQKpKZP2d1CDHzYpk/ZlKitHcilT9rYpYuPJSQPxcKe9w5aYk/PU3hVWYngz/sX5XW7UZ9P9Aul+fvkHY/Mu9xETZRcT+C9SQHf2JqP6jYgTFp8WQ/Fj6YFrSZYj+jofAFlpddP/n3ACwToFg/U27snYA6Vj8oIESadhdWP0WfIyg+gFU/IN1FrZohVz/RFzP5SnNmPwcjcOjSuIM/On1I0NOUmD9Ep2acGd+mP61I62bfKLE/oieogH6ItD8odvSXSJW3P8SLyEJQoLs/TDMAjfd3vj/rG3hZzHTBP0GCer6rGMQ/PmzXjTSqxj+SfkKIBsfJP5gt6hEgrcs/qVY9peILzj/qwL3BVXDQP2Fy9Zhx9NE/rRsERgZY1D/pjJTDBsTWP6NCokmZf9k/QmYncAPi2j+HWv6i6m7bP8SQlatVQNw/qz9LzEHY3D+4XCeu2/fcP34g82bX7tw/B8cc6nST3D/DVSc9Hs/bP8oNGkOBwt0//n9Vwpgd2D+GAETUjBXWP5hLjHRZ/dM/IGSttOY/0j/k9L7eNfDQPzbA/Wo7StE/\",\"dtype\":\"float64\",\"shape\":[75]},\"y\":{\"__ndarray__\":\"GhExyth1ND/Sv8nbtpRIP2vylNV0PVE/aTum7souWD/At0SJ8fVgPw3Iuahxymc/MSNhhJWvcD/bTfBN02d3P2zb5nxnaoA/CD5h5MAGhz8NmeH1TyaQP+zrCsc9p5Y/LbKd76fGnz/bLW5ISEmmPww9YvTcQq8/JV2OstnstT8Er5Y7M8G+P0c+r3jqkcU/5h99k6ZBzj88bCIzFzjVP4enV8oyxN0//yH99nXg5D8qOpLLf0jtP5kqGJXUifQ/c9cS8kHP/D+/DpwzojQEQIEmwoanVwxA4lgXt9HgE0BSSZ2AJuIbQAMJih9jjiNA5q4l5INuK0AwTKYKRj0zQNv5fmq8/DpAaCJseHrtQkB/+zpwzoxKQM3MzMzMeFJAZmZmZmZqWEAAAAAAAFxeQM3MzMzMJmJAmpmZmZkfZUBmZmZmZhhoQDMzMzMzEWtAAAAAAAAKbkBmZmZmZoFwQM3MzMzM/XFAMzMzMzN6c0CamZmZmfZ0QAAAAAAAc3ZAZmZmZmbvd0DNzMzMzGt5QDMzMzMz6HpAmpmZmZlkfEAAAAAAAOF9QGZmZmZmXX9AZmZmZuZsgECamZmZGSuBQM3MzMxM6YFAAAAAAICngkAzMzMzs2WDQGZmZmbmI4RAmpmZmRnihEDNzMzMTKCFQAAAAACAXoZAMzMzM7Mch0BmZmZm5tqHQJqZmZkZmYhAzczMzExXiUAAAAAAgBWKQDMzMzOz04pAZmZmZuaRi0CamZmZGVCMQM3MzMxMDo1AAAAAAIDMjUAzMzMzs4qOQGZmZmbmSI9A\",\"dtype\":\"float64\",\"shape\":[75]}}},\"id\":\"8b903e5e-776e-4442-8895-68b4d11643fa\",\"type\":\"ColumnDataSource\"},{\"attributes\":{},\"id\":\"6faa279b-0ed1-4506-9130-c8c33f26cbbe\",\"type\":\"HelpTool\"},{\"attributes\":{\"line_alpha\":0.1,\"line_color\":\"#1f77b4\",\"line_width\":3,\"x\":{\"field\":\"x\"},\"y\":{\"field\":\"y\"}},\"id\":\"1050d32f-18f3-4112-8e30-6680fffcdc4a\",\"type\":\"Line\"},{\"attributes\":{\"data_source\":{\"id\":\"c8919498-1189-492a-92aa-85c17180fdd9\",\"type\":\"ColumnDataSource\"},\"glyph\":{\"id\":\"1b439925-f7fe-430f-a203-232a0315dfc9\",\"type\":\"Line\"},\"hover_glyph\":null,\"muted_glyph\":null,\"nonselection_glyph\":{\"id\":\"4dd45708-1675-479c-aaa5-5a442c643168\",\"type\":\"Line\"},\"selection_glyph\":null,\"view\":{\"id\":\"b630887d-4a57-4b67-8d9c-0c183ae1a935\",\"type\":\"CDSView\"}},\"id\":\"f0f7458e-94b3-4044-ab87-6f77d2bf3588\",\"type\":\"GlyphRenderer\"},{\"attributes\":{\"source\":{\"id\":\"deb27f86-2837-4b9c-a4fc-1bbf608731c7\",\"type\":\"ColumnDataSource\"}},\"id\":\"f9b3f104-ca1d-4d1f-a7c6-6f10d4b54667\",\"type\":\"CDSView\"},{\"attributes\":{\"fill_alpha\":{\"value\":0.7},\"fill_color\":{\"value\":\"#4daf4a\"},\"line_alpha\":{\"value\":0.7},\"line_color\":{\"value\":\"#4daf4a\"},\"x\":{\"field\":\"x\"},\"y\":{\"field\":\"y\"}},\"id\":\"0aa623c3-6a67-43eb-b365-be2ed83ec8d6\",\"type\":\"Circle\"},{\"attributes\":{},\"id\":\"69f03513-58ec-44a8-a65f-3f7264df7ea4\",\"type\":\"LogScale\"},{\"attributes\":{},\"id\":\"1957fa31-c3b2-46bf-94d7-ab2711dd2341\",\"type\":\"BasicTickFormatter\"},{\"attributes\":{\"tools\":[{\"id\":\"5bdfeb72-06b9-4b31-9278-764955e9a8ec\",\"type\":\"PanTool\"},{\"id\":\"888e97a6-f2fe-4940-ba15-22fa94f11a4b\",\"type\":\"WheelZoomTool\"},{\"id\":\"3475e663-a8ab-4a70-b9e0-cfcc96e9596f\",\"type\":\"BoxZoomTool\"},{\"id\":\"8cb72544-ddf5-4aca-8d86-163dea273c53\",\"type\":\"SaveTool\"},{\"id\":\"69ebaaa3-175e-4069-a3e9-37fcbd6a090f\",\"type\":\"ResetTool\"},{\"id\":\"79c79e89-1ba6-4b80-93af-5a6a76ecbfe5\",\"type\":\"HelpTool\"},{\"id\":\"1e377e23-5a98-42cf-b5d7-fd394303885b\",\"type\":\"PanTool\"},{\"id\":\"80b22d94-51f5-4a52-9654-91534a87fe0c\",\"type\":\"WheelZoomTool\"},{\"id\":\"63d08161-e6ef-4d23-974e-01d4ca5af670\",\"type\":\"BoxZoomTool\"},{\"id\":\"c50b9d34-995b-40eb-a8fb-39cf94258f9b\",\"type\":\"SaveTool\"},{\"id\":\"aa85eeb8-23b8-43b8-87a1-a007564bac8a\",\"type\":\"ResetTool\"},{\"id\":\"6faa279b-0ed1-4506-9130-c8c33f26cbbe\",\"type\":\"HelpTool\"}]},\"id\":\"1e551255-3588-4500-9b60-258a67a35c52\",\"type\":\"ProxyToolbar\"},{\"attributes\":{\"data_source\":{\"id\":\"8b903e5e-776e-4442-8895-68b4d11643fa\",\"type\":\"ColumnDataSource\"},\"glyph\":{\"id\":\"0842c73c-3312-4f57-a586-c5f4bfe60bb4\",\"type\":\"Square\"},\"hover_glyph\":null,\"muted_glyph\":null,\"nonselection_glyph\":{\"id\":\"5bcc6d2e-3df9-4d4c-a97b-a2113f631acc\",\"type\":\"Square\"},\"selection_glyph\":null,\"view\":{\"id\":\"af367eee-211b-4ea0-bb5d-740903696f10\",\"type\":\"CDSView\"}},\"id\":\"533f5cc3-ec5a-449a-8638-33d1c5bb9bc4\",\"type\":\"GlyphRenderer\"},{\"attributes\":{\"source\":{\"id\":\"f308b5f2-432f-446a-91cf-503cd6862e87\",\"type\":\"ColumnDataSource\"}},\"id\":\"838d9e2f-a840-4765-a9e8-cd1e6e8d1cce\",\"type\":\"CDSView\"},{\"attributes\":{\"data_source\":{\"id\":\"7b41f9dd-e16f-4aa4-92d9-49fb4b889240\",\"type\":\"ColumnDataSource\"},\"glyph\":{\"id\":\"461f7dba-528b-47e6-a584-a86e3383eca2\",\"type\":\"Square\"},\"hover_glyph\":null,\"muted_glyph\":null,\"nonselection_glyph\":{\"id\":\"5c8781f1-a9d5-4200-8de2-fc0025c4150a\",\"type\":\"Square\"},\"selection_glyph\":null,\"view\":{\"id\":\"19b46545-539d-4643-ac37-fcaa914f502d\",\"type\":\"CDSView\"}},\"id\":\"7fed8ca0-dea4-4fec-a242-41810b3ccc0d\",\"type\":\"GlyphRenderer\"},{\"attributes\":{\"line_color\":\"#4daf4a\",\"line_width\":1.5,\"x\":{\"field\":\"x\"},\"y\":{\"field\":\"y\"}},\"id\":\"d53790b4-dc2a-4a22-8d8f-8d9b93ce0191\",\"type\":\"Line\"},{\"attributes\":{\"data_source\":{\"id\":\"deb27f86-2837-4b9c-a4fc-1bbf608731c7\",\"type\":\"ColumnDataSource\"},\"glyph\":{\"id\":\"e6e69993-b113-4377-ba12-15e16b929221\",\"type\":\"Line\"},\"hover_glyph\":null,\"muted_glyph\":null,\"nonselection_glyph\":{\"id\":\"1050d32f-18f3-4112-8e30-6680fffcdc4a\",\"type\":\"Line\"},\"selection_glyph\":null,\"view\":{\"id\":\"f9b3f104-ca1d-4d1f-a7c6-6f10d4b54667\",\"type\":\"CDSView\"}},\"id\":\"c053ae44-5df6-4b6d-9656-626259011391\",\"type\":\"GlyphRenderer\"},{\"attributes\":{\"data_source\":{\"id\":\"e9ba7cb7-e2fc-419e-baba-50510917a6b2\",\"type\":\"ColumnDataSource\"},\"glyph\":{\"id\":\"d53790b4-dc2a-4a22-8d8f-8d9b93ce0191\",\"type\":\"Line\"},\"hover_glyph\":null,\"muted_glyph\":null,\"nonselection_glyph\":{\"id\":\"16da4da2-7f0f-4282-8b86-34df2f38a54d\",\"type\":\"Line\"},\"selection_glyph\":null,\"view\":{\"id\":\"70d37d18-d9a2-40c6-b1c6-4ca9b8c23caa\",\"type\":\"CDSView\"}},\"id\":\"840c1177-e3e6-41e0-9e26-a2a3be24d812\",\"type\":\"GlyphRenderer\"},{\"attributes\":{\"fill_alpha\":{\"value\":0.1},\"fill_color\":{\"value\":\"#1f77b4\"},\"line_alpha\":{\"value\":0.1},\"line_color\":{\"value\":\"#1f77b4\"},\"x\":{\"field\":\"x\"},\"y\":{\"field\":\"y\"}},\"id\":\"da37370b-8f29-4362-979b-33e62d6ef993\",\"type\":\"Circle\"},{\"attributes\":{\"callback\":null,\"column_names\":[\"x\",\"y\"],\"data\":{\"x\":{\"__ndarray__\":\"aidtbGymQj+FotMyvZ1DP6XMuQ4St0U/Z7/G7gX+Rz+ACCmEAlRKP9M8mzNpuEw/haNgwv8qTz8tZl3ZqtVQP+2fBu1lHFI/wraz+gppUz+IkgWgJqtUP5A/Is/n4lU/GxNb0OI+Vz9KhZnMa7NYP0lJTk5nYl0/CMh6I83LZT+MfafUEEtxP5lFhbd8rHk/sbK0p1Qfgj/S8Rr2r6CIPzs890ExTpA/8GzyHrkllT+p0IUQKpKZP2d1CDHzYpk/ZlKitHcilT9rYpYuPJSQPxcKe9w5aYk/PU3hVWYngz/sX5XW7UZ9P9Aul+fvkHY/Mu9xETZRcT+C9SQHf2JqP6jYgTFp8WQ/Fj6YFrSZYj+jofAFlpddP/n3ACwToFg/U27snYA6Vj8oIESadhdWP0WfIyg+gFU/IN1FrZohVz/RFzP5SnNmPwcjcOjSuIM/On1I0NOUmD9Ep2acGd+mP61I62bfKLE/oieogH6ItD8odvSXSJW3P8SLyEJQoLs/TDMAjfd3vj/rG3hZzHTBP0GCer6rGMQ/PmzXjTSqxj+SfkKIBsfJP5gt6hEgrcs/qVY9peILzj/qwL3BVXDQP2Fy9Zhx9NE/rRsERgZY1D/pjJTDBsTWP6NCokmZf9k/QmYncAPi2j+HWv6i6m7bP8SQlatVQNw/qz9LzEHY3D+4XCeu2/fcP34g82bX7tw/B8cc6nST3D/DVSc9Hs/bP8oNGkOBwt0//n9Vwpgd2D+GAETUjBXWP5hLjHRZ/dM/IGSttOY/0j/k9L7eNfDQPzbA/Wo7StE/\",\"dtype\":\"float64\",\"shape\":[75]},\"y\":{\"__ndarray__\":\"GhExyth1ND/Sv8nbtpRIP2vylNV0PVE/aTum7souWD/At0SJ8fVgPw3Iuahxymc/MSNhhJWvcD/bTfBN02d3P2zb5nxnaoA/CD5h5MAGhz8NmeH1TyaQP+zrCsc9p5Y/LbKd76fGnz/bLW5ISEmmPww9YvTcQq8/JV2OstnstT8Er5Y7M8G+P0c+r3jqkcU/5h99k6ZBzj88bCIzFzjVP4enV8oyxN0//yH99nXg5D8qOpLLf0jtP5kqGJXUifQ/c9cS8kHP/D+/DpwzojQEQIEmwoanVwxA4lgXt9HgE0BSSZ2AJuIbQAMJih9jjiNA5q4l5INuK0AwTKYKRj0zQNv5fmq8/DpAaCJseHrtQkB/+zpwzoxKQM3MzMzMeFJAZmZmZmZqWEAAAAAAAFxeQM3MzMzMJmJAmpmZmZkfZUBmZmZmZhhoQDMzMzMzEWtAAAAAAAAKbkBmZmZmZoFwQM3MzMzM/XFAMzMzMzN6c0CamZmZmfZ0QAAAAAAAc3ZAZmZmZmbvd0DNzMzMzGt5QDMzMzMz6HpAmpmZmZlkfEAAAAAAAOF9QGZmZmZmXX9AZmZmZuZsgECamZmZGSuBQM3MzMxM6YFAAAAAAICngkAzMzMzs2WDQGZmZmbmI4RAmpmZmRnihEDNzMzMTKCFQAAAAACAXoZAMzMzM7Mch0BmZmZm5tqHQJqZmZkZmYhAzczMzExXiUAAAAAAgBWKQDMzMzOz04pAZmZmZuaRi0CamZmZGVCMQM3MzMxMDo1AAAAAAIDMjUAzMzMzs4qOQGZmZmbmSI9A\",\"dtype\":\"float64\",\"shape\":[75]}}},\"id\":\"ef8fa8d7-37fa-4b1b-9be4-4285fe327f67\",\"type\":\"ColumnDataSource\"},{\"attributes\":{\"line_alpha\":0.1,\"line_color\":\"#1f77b4\",\"line_width\":1.5,\"x\":{\"field\":\"x\"},\"y\":{\"field\":\"y\"}},\"id\":\"16da4da2-7f0f-4282-8b86-34df2f38a54d\",\"type\":\"Line\"},{\"attributes\":{\"source\":{\"id\":\"e9ba7cb7-e2fc-419e-baba-50510917a6b2\",\"type\":\"ColumnDataSource\"}},\"id\":\"70d37d18-d9a2-40c6-b1c6-4ca9b8c23caa\",\"type\":\"CDSView\"},{\"attributes\":{\"fill_alpha\":{\"value\":0.7},\"fill_color\":{\"value\":\"#984ea3\"},\"line_alpha\":{\"value\":0.7},\"line_color\":{\"value\":\"#984ea3\"},\"x\":{\"field\":\"x\"},\"y\":{\"field\":\"y\"}},\"id\":\"0842c73c-3312-4f57-a586-c5f4bfe60bb4\",\"type\":\"Square\"},{\"attributes\":{\"data_source\":{\"id\":\"ef8fa8d7-37fa-4b1b-9be4-4285fe327f67\",\"type\":\"ColumnDataSource\"},\"glyph\":{\"id\":\"4a577928-4ea8-4045-8a64-0be9bc7f88dd\",\"type\":\"Line\"},\"hover_glyph\":null,\"muted_glyph\":null,\"nonselection_glyph\":{\"id\":\"13b4e454-07dc-48bc-886e-d0d5351b444c\",\"type\":\"Line\"},\"selection_glyph\":null,\"view\":{\"id\":\"332ff39d-92ba-4890-9612-39da3f1725f4\",\"type\":\"CDSView\"}},\"id\":\"748d235d-f89d-4631-a943-6f657f9ea111\",\"type\":\"GlyphRenderer\"},{\"attributes\":{\"fill_alpha\":{\"value\":0.1},\"fill_color\":{\"value\":\"#1f77b4\"},\"line_alpha\":{\"value\":0.1},\"line_color\":{\"value\":\"#1f77b4\"},\"x\":{\"field\":\"x\"},\"y\":{\"field\":\"y\"}},\"id\":\"5bcc6d2e-3df9-4d4c-a97b-a2113f631acc\",\"type\":\"Square\"},{\"attributes\":{\"callback\":null,\"end\":0.027095948046,\"start\":-0.006520604646},\"id\":\"42fba58d-6bca-4c0d-b57e-0ecfde7b0b12\",\"type\":\"Range1d\"},{\"attributes\":{\"source\":{\"id\":\"8b903e5e-776e-4442-8895-68b4d11643fa\",\"type\":\"ColumnDataSource\"}},\"id\":\"af367eee-211b-4ea0-bb5d-740903696f10\",\"type\":\"CDSView\"},{\"attributes\":{\"line_alpha\":0.6,\"line_color\":\"#984ea3\",\"line_width\":3,\"x\":{\"field\":\"x\"},\"y\":{\"field\":\"y\"}},\"id\":\"4a577928-4ea8-4045-8a64-0be9bc7f88dd\",\"type\":\"Line\"},{\"attributes\":{\"bottom_units\":\"screen\",\"fill_alpha\":{\"value\":0.5},\"fill_color\":{\"value\":\"lightgrey\"},\"left_units\":\"screen\",\"level\":\"overlay\",\"line_alpha\":{\"value\":1.0},\"line_color\":{\"value\":\"black\"},\"line_dash\":[4,4],\"line_width\":{\"value\":2},\"plot\":null,\"render_mode\":\"css\",\"right_units\":\"screen\",\"top_units\":\"screen\"},\"id\":\"1648fd86-8e14-4579-bd80-bb0aaf0afa3f\",\"type\":\"BoxAnnotation\"},{\"attributes\":{\"line_alpha\":0.1,\"line_color\":\"#1f77b4\",\"line_width\":3,\"x\":{\"field\":\"x\"},\"y\":{\"field\":\"y\"}},\"id\":\"13b4e454-07dc-48bc-886e-d0d5351b444c\",\"type\":\"Line\"},{\"attributes\":{},\"id\":\"1e377e23-5a98-42cf-b5d7-fd394303885b\",\"type\":\"PanTool\"},{\"attributes\":{\"label\":{\"value\":\"CRD\"},\"renderers\":[{\"id\":\"ff1af795-eae4-403c-a1dd-9e349a2a4608\",\"type\":\"GlyphRenderer\"},{\"id\":\"840c1177-e3e6-41e0-9e26-a2a3be24d812\",\"type\":\"GlyphRenderer\"}]},\"id\":\"35ed273f-08a7-455a-b836-7ce795fe0bfa\",\"type\":\"LegendItem\"},{\"attributes\":{\"callback\":null,\"column_names\":[\"x\",\"y\"],\"data\":{\"x\":{\"__ndarray__\":\"aidtbGymQj+FotMyvZ1DP6XMuQ4St0U/Z7/G7gX+Rz+ACCmEAlRKP9M8mzNpuEw/haNgwv8qTz8tZl3ZqtVQP+2fBu1lHFI/wraz+gppUz+IkgWgJqtUP5A/Is/n4lU/GxNb0OI+Vz9KhZnMa7NYP0lJTk5nYl0/CMh6I83LZT+MfafUEEtxP5lFhbd8rHk/sbK0p1Qfgj/S8Rr2r6CIPzs890ExTpA/8GzyHrkllT+p0IUQKpKZP2d1CDHzYpk/ZlKitHcilT9rYpYuPJSQPxcKe9w5aYk/PU3hVWYngz/sX5XW7UZ9P9Aul+fvkHY/Mu9xETZRcT+C9SQHf2JqP6jYgTFp8WQ/Fj6YFrSZYj+jofAFlpddP/n3ACwToFg/U27snYA6Vj8oIESadhdWP0WfIyg+gFU/IN1FrZohVz/RFzP5SnNmPwcjcOjSuIM/On1I0NOUmD9Ep2acGd+mP61I62bfKLE/oieogH6ItD8odvSXSJW3P8SLyEJQoLs/TDMAjfd3vj/rG3hZzHTBP0GCer6rGMQ/PmzXjTSqxj+SfkKIBsfJP5gt6hEgrcs/qVY9peILzj/qwL3BVXDQP2Fy9Zhx9NE/rRsERgZY1D/pjJTDBsTWP6NCokmZf9k/QmYncAPi2j+HWv6i6m7bP8SQlatVQNw/qz9LzEHY3D+4XCeu2/fcP34g82bX7tw/B8cc6nST3D/DVSc9Hs/bP8oNGkOBwt0//n9Vwpgd2D+GAETUjBXWP5hLjHRZ/dM/IGSttOY/0j/k9L7eNfDQPzbA/Wo7StE/\",\"dtype\":\"float64\",\"shape\":[75]},\"y\":{\"__ndarray__\":\"GhExyth1ND/Sv8nbtpRIP2vylNV0PVE/aTum7souWD/At0SJ8fVgPw3Iuahxymc/MSNhhJWvcD/bTfBN02d3P2zb5nxnaoA/CD5h5MAGhz8NmeH1TyaQP+zrCsc9p5Y/LbKd76fGnz/bLW5ISEmmPww9YvTcQq8/JV2OstnstT8Er5Y7M8G+P0c+r3jqkcU/5h99k6ZBzj88bCIzFzjVP4enV8oyxN0//yH99nXg5D8qOpLLf0jtP5kqGJXUifQ/c9cS8kHP/D+/DpwzojQEQIEmwoanVwxA4lgXt9HgE0BSSZ2AJuIbQAMJih9jjiNA5q4l5INuK0AwTKYKRj0zQNv5fmq8/DpAaCJseHrtQkB/+zpwzoxKQM3MzMzMeFJAZmZmZmZqWEAAAAAAAFxeQM3MzMzMJmJAmpmZmZkfZUBmZmZmZhhoQDMzMzMzEWtAAAAAAAAKbkBmZmZmZoFwQM3MzMzM/XFAMzMzMzN6c0CamZmZmfZ0QAAAAAAAc3ZAZmZmZmbvd0DNzMzMzGt5QDMzMzMz6HpAmpmZmZlkfEAAAAAAAOF9QGZmZmZmXX9AZmZmZuZsgECamZmZGSuBQM3MzMxM6YFAAAAAAICngkAzMzMzs2WDQGZmZmbmI4RAmpmZmRnihEDNzMzMTKCFQAAAAACAXoZAMzMzM7Mch0BmZmZm5tqHQJqZmZkZmYhAzczMzExXiUAAAAAAgBWKQDMzMzOz04pAZmZmZuaRi0CamZmZGVCMQM3MzMxMDo1AAAAAAIDMjUAzMzMzs4qOQGZmZmbmSI9A\",\"dtype\":\"float64\",\"shape\":[75]}}},\"id\":\"7b41f9dd-e16f-4aa4-92d9-49fb4b889240\",\"type\":\"ColumnDataSource\"},{\"attributes\":{\"source\":{\"id\":\"ef8fa8d7-37fa-4b1b-9be4-4285fe327f67\",\"type\":\"ColumnDataSource\"}},\"id\":\"332ff39d-92ba-4890-9612-39da3f1725f4\",\"type\":\"CDSView\"},{\"attributes\":{\"children\":[{\"id\":\"50c28241-0724-43c0-adcd-03703f6d6b78\",\"type\":\"ToolbarBox\"},{\"id\":\"5f939973-a7a1-4641-bf33-c382aa64719f\",\"type\":\"Column\"}]},\"id\":\"599b4646-faf8-4785-96a5-bcdae886efd1\",\"type\":\"Column\"},{\"attributes\":{\"overlay\":{\"id\":\"1648fd86-8e14-4579-bd80-bb0aaf0afa3f\",\"type\":\"BoxAnnotation\"}},\"id\":\"63d08161-e6ef-4d23-974e-01d4ca5af670\",\"type\":\"BoxZoomTool\"},{\"attributes\":{\"label\":{\"value\":\"WGT igg=10 wgt_flux=2\"},\"renderers\":[{\"id\":\"533f5cc3-ec5a-449a-8638-33d1c5bb9bc4\",\"type\":\"GlyphRenderer\"},{\"id\":\"748d235d-f89d-4631-a943-6f657f9ea111\",\"type\":\"GlyphRenderer\"}]},\"id\":\"fae618e7-c9c1-4cfb-bdae-6ec8810196d9\",\"type\":\"LegendItem\"},{\"attributes\":{\"items\":[{\"id\":\"d10bf324-3a5b-4138-ab1f-c3e1746f33bb\",\"type\":\"LegendItem\"},{\"id\":\"35ed273f-08a7-455a-b836-7ce795fe0bfa\",\"type\":\"LegendItem\"},{\"id\":\"fae618e7-c9c1-4cfb-bdae-6ec8810196d9\",\"type\":\"LegendItem\"}],\"label_text_font_size\":{\"value\":\"8pt\"},\"location\":[10,-30],\"plot\":{\"id\":\"b43f6a4f-0607-4f18-9123-71751f815ed5\",\"subtype\":\"Figure\",\"type\":\"Plot\"}},\"id\":\"423469b4-5a74-490d-a4b1-9d0189f75bd3\",\"type\":\"Legend\"},{\"attributes\":{\"callback\":null,\"column_names\":[\"x\",\"y\"],\"data\":{\"x\":{\"__ndarray__\":\"aidtbGymQj+FotMyvZ1DP6XMuQ4St0U/Z7/G7gX+Rz+ACCmEAlRKP9M8mzNpuEw/haNgwv8qTz8tZl3ZqtVQP+2fBu1lHFI/wraz+gppUz+IkgWgJqtUP5A/Is/n4lU/GxNb0OI+Vz9KhZnMa7NYP0lJTk5nYl0/CMh6I83LZT+MfafUEEtxP5lFhbd8rHk/sbK0p1Qfgj/S8Rr2r6CIPzs890ExTpA/8GzyHrkllT+p0IUQKpKZP2d1CDHzYpk/ZlKitHcilT9rYpYuPJSQPxcKe9w5aYk/PU3hVWYngz/sX5XW7UZ9P9Aul+fvkHY/Mu9xETZRcT+C9SQHf2JqP6jYgTFp8WQ/Fj6YFrSZYj+jofAFlpddP/n3ACwToFg/U27snYA6Vj8oIESadhdWP0WfIyg+gFU/IN1FrZohVz/RFzP5SnNmPwcjcOjSuIM/On1I0NOUmD9Ep2acGd+mP61I62bfKLE/oieogH6ItD8odvSXSJW3P8SLyEJQoLs/TDMAjfd3vj/rG3hZzHTBP0GCer6rGMQ/PmzXjTSqxj+SfkKIBsfJP5gt6hEgrcs/qVY9peILzj/qwL3BVXDQP2Fy9Zhx9NE/rRsERgZY1D/pjJTDBsTWP6NCokmZf9k/QmYncAPi2j+HWv6i6m7bP8SQlatVQNw/qz9LzEHY3D+4XCeu2/fcP34g82bX7tw/B8cc6nST3D/DVSc9Hs/bP8oNGkOBwt0//n9Vwpgd2D+GAETUjBXWP5hLjHRZ/dM/IGSttOY/0j/k9L7eNfDQPzbA/Wo7StE/\",\"dtype\":\"float64\",\"shape\":[75]},\"y\":{\"__ndarray__\":\"GhExyth1ND/Sv8nbtpRIP2vylNV0PVE/aTum7souWD/At0SJ8fVgPw3Iuahxymc/MSNhhJWvcD/bTfBN02d3P2zb5nxnaoA/CD5h5MAGhz8NmeH1TyaQP+zrCsc9p5Y/LbKd76fGnz/bLW5ISEmmPww9YvTcQq8/JV2OstnstT8Er5Y7M8G+P0c+r3jqkcU/5h99k6ZBzj88bCIzFzjVP4enV8oyxN0//yH99nXg5D8qOpLLf0jtP5kqGJXUifQ/c9cS8kHP/D+/DpwzojQEQIEmwoanVwxA4lgXt9HgE0BSSZ2AJuIbQAMJih9jjiNA5q4l5INuK0AwTKYKRj0zQNv5fmq8/DpAaCJseHrtQkB/+zpwzoxKQM3MzMzMeFJAZmZmZmZqWEAAAAAAAFxeQM3MzMzMJmJAmpmZmZkfZUBmZmZmZhhoQDMzMzMzEWtAAAAAAAAKbkBmZmZmZoFwQM3MzMzM/XFAMzMzMzN6c0CamZmZmfZ0QAAAAAAAc3ZAZmZmZmbvd0DNzMzMzGt5QDMzMzMz6HpAmpmZmZlkfEAAAAAAAOF9QGZmZmZmXX9AZmZmZuZsgECamZmZGSuBQM3MzMxM6YFAAAAAAICngkAzMzMzs2WDQGZmZmbmI4RAmpmZmRnihEDNzMzMTKCFQAAAAACAXoZAMzMzM7Mch0BmZmZm5tqHQJqZmZkZmYhAzczMzExXiUAAAAAAgBWKQDMzMzOz04pAZmZmZuaRi0CamZmZGVCMQM3MzMxMDo1AAAAAAIDMjUAzMzMzs4qOQGZmZmbmSI9A\",\"dtype\":\"float64\",\"shape\":[75]}}},\"id\":\"deb27f86-2837-4b9c-a4fc-1bbf608731c7\",\"type\":\"ColumnDataSource\"},{\"attributes\":{\"toolbar\":{\"id\":\"1e551255-3588-4500-9b60-258a67a35c52\",\"type\":\"ProxyToolbar\"},\"toolbar_location\":\"above\"},\"id\":\"50c28241-0724-43c0-adcd-03703f6d6b78\",\"type\":\"ToolbarBox\"},{\"attributes\":{\"line_alpha\":0.6,\"line_color\":\"#e41a1c\",\"line_dash\":[6],\"line_width\":5,\"x\":{\"field\":\"x\"},\"y\":{\"field\":\"y\"}},\"id\":\"1b439925-f7fe-430f-a203-232a0315dfc9\",\"type\":\"Line\"},{\"attributes\":{},\"id\":\"c50b9d34-995b-40eb-a8fb-39cf94258f9b\",\"type\":\"SaveTool\"},{\"attributes\":{\"children\":[{\"id\":\"9e2652e7-b300-4611-9ae7-738f9f306247\",\"type\":\"Row\"}]},\"id\":\"5f939973-a7a1-4641-bf33-c382aa64719f\",\"type\":\"Column\"},{\"attributes\":{\"fill_alpha\":{\"value\":0.7},\"fill_color\":{\"value\":\"#984ea3\"},\"line_alpha\":{\"value\":0.7},\"line_color\":{\"value\":\"#984ea3\"},\"x\":{\"field\":\"x\"},\"y\":{\"field\":\"y\"}},\"id\":\"461f7dba-528b-47e6-a584-a86e3383eca2\",\"type\":\"Square\"},{\"attributes\":{\"label\":{\"value\":\"CLIRAD `coolr_bands`\"},\"renderers\":[{\"id\":\"f0f7458e-94b3-4044-ab87-6f77d2bf3588\",\"type\":\"GlyphRenderer\"}]},\"id\":\"d10bf324-3a5b-4138-ab1f-c3e1746f33bb\",\"type\":\"LegendItem\"},{\"attributes\":{\"callback\":null,\"column_names\":[\"x\",\"y\"],\"data\":{\"x\":{\"__ndarray__\":\"AAAAAAAAAAAAAAAAAAAAAAAAAAAAAAAAAAAAAAAAAADiMSdbacGXP555vSRj75A/AAAAAAAAAADLAWebrjaRvwAAAAAAAAAAIzfTXUp/cT8AAAAAAAAAADs9YkGQrXo/V99JH8Rbeb8EPQGBCJl2P9wNByqoxlk/K80Do034Zj+ZXlnfhKZzP15zkh/Nrnk/nuqE3yOlgD/soJYP1jmJP4o73uS36JA/Zqt84yxrlT+4UdQBX72ZP5/g4cT3yJk/urCbPcPglT8Id5cmzWiRP1jdise8w4o/SPenILwHhD+CBFo9Tc19P2wdn//MT3Y/q8iMooxScD97h0ljtbNnP9B9C8SR1GE/wd/UrNgEXT8TObHB6lpXPwpbQ9MYwFI/R8xp4JmhUD8RsI9z/3ZQPyVwZcCVE1A/sIdXkvO3UT81TREFl6xhP/ppFP0ez38/R8FRx2rAlD9d8Wo/beKjP9q9NeCOmK4/RX/sHm7Bsj+XOPJAZBG2P69fxP+cULk/CEp+gpOGvD9Ye9CavFTAP6kkgNVwFcM/57A1OmvgxT8092/i1JzIP60J9TYuSss/wl6T+z4Yzj/dv6phXH3QP2MglYNVDNI/kHwtAVuS1D8doEUAgRjXPwg87mMeXNk/Drk6fKlK2z+PQuWh573cP66wCf7xvd0/V2XXpHho3j8mh7JkTMneP/HRqOHX394/efoxexOi3j/6tMwao9LdP8kE/BpJQtw/kirEAuMJ2j83LPReCHvXPw6oDiS18dQ/EN5HA7K20j8oBu16DhHRP8MZ034xPNE/\",\"dtype\":\"float64\",\"shape\":[75]},\"y\":{\"__ndarray__\":\"S/O/Q+51ND/430zAtpRIP2vylNV0PVE/QxsjCssuWD/TR4Z78fVgP+inNsRxymc/OuuBfZWvcD/u3TFA02d3P2d3VoBnaoA/CD5h5MAGhz/1pA8HUCaQP+zrCsc9p5Y/Fb7LAKjGnz/nJ9c/SEmmPwBD+fzcQq8/FOZwv9nstT8Er5Y7M8G+P0c+r3jqkcU/yK72qKZBzj+tM989FzjVPxbgmr8yxN0/cOm5AXbg5D+5ctXAf0jtP5kqGJXUifQ/DsrqDELP/D8MCAhBojQEQDItVnmnVwxAiFXNvdHgE0BSSZ2AJuIbQAMJih9jjiNA5q4l5INuK0CPVN/5RT0zQHzxRXu8/DpAOZ7PgHrtQkAg8wGBzoxKQBSTN8DMeFJA2NmQf2ZqWEAAAAAAAFxeQEQX1LfMJmJAmpmZmZkfZUBmZmZmZhhoQLzoK0gzEWtAAAAAAAAKbkCiC+pbZoFwQAhyUMLM/XFA+I2vPTN6c0AQ5KCEmfZ0QAAAAAAAc3ZA8Btfe2bvd0AIclDCzGt5QPeNrz0z6HpAEOSghJlkfEAAAAAAAOF9QKML6ltmXX9ABTkoYeZsgED7xteeGSuBQAhyUMJM6YFAAAAAAICngkD4ja89s2WDQAU5KGHmI4RA+8bXnhnihEAIclDCTKCFQAAAAACAXoZA+I2vPbMch0AFOShh5tqHQPvG154ZmYhACHJQwkxXiUAAAAAAgBWKQPeNrz2z04pABTkoYeaRi0D7xteeGVCMQAlyUMJMDo1AAAAAAIDMjUD3ja89s4qOQGZmZmbmSI9A\",\"dtype\":\"float64\",\"shape\":[75]}}},\"id\":\"c8919498-1189-492a-92aa-85c17180fdd9\",\"type\":\"ColumnDataSource\"},{\"attributes\":{},\"id\":\"69ebaaa3-175e-4069-a3e9-37fcbd6a090f\",\"type\":\"ResetTool\"},{\"attributes\":{\"axis_label\":\"pressure [mb]\",\"formatter\":{\"id\":\"cd59173e-a554-40c7-a14f-34d4f9001469\",\"type\":\"BasicTickFormatter\"},\"plot\":{\"id\":\"35709ba5-5a29-4b24-99d4-e86cf8d68be2\",\"subtype\":\"Figure\",\"type\":\"Plot\"},\"ticker\":{\"id\":\"060f9e29-2a34-409b-b2e0-6fc6fb098643\",\"type\":\"BasicTicker\"}},\"id\":\"b5a46f46-309a-4c5e-9cc5-c739b946c03d\",\"type\":\"LinearAxis\"},{\"attributes\":{\"data_source\":{\"id\":\"263a9de7-ff97-43e8-9f8c-accccd7e6852\",\"type\":\"ColumnDataSource\"},\"glyph\":{\"id\":\"67c47e23-ed36-4cea-b1c2-3f853e3af1a8\",\"type\":\"Line\"},\"hover_glyph\":null,\"muted_glyph\":null,\"nonselection_glyph\":{\"id\":\"7fce6415-316b-45ad-98fd-88e17923a8a5\",\"type\":\"Line\"},\"selection_glyph\":null,\"view\":{\"id\":\"ad41d567-1d9f-4979-a8d5-fc3e560c488a\",\"type\":\"CDSView\"}},\"id\":\"bba87e5e-d237-4f27-9c16-1e59936a3e07\",\"type\":\"GlyphRenderer\"},{\"attributes\":{},\"id\":\"03f01dc1-de3d-43d1-ace1-886e17dea9f3\",\"type\":\"BasicTickFormatter\"},{\"attributes\":{},\"id\":\"060f9e29-2a34-409b-b2e0-6fc6fb098643\",\"type\":\"BasicTicker\"},{\"attributes\":{\"line_alpha\":0.1,\"line_color\":\"#1f77b4\",\"line_dash\":[6],\"line_width\":5,\"x\":{\"field\":\"x\"},\"y\":{\"field\":\"y\"}},\"id\":\"6396f471-3f0f-43c6-b7b1-71dc252403d0\",\"type\":\"Line\"},{\"attributes\":{},\"id\":\"f6df6070-9575-4556-a06e-25d59d1de5ce\",\"type\":\"BasicTicker\"},{\"attributes\":{\"callback\":null,\"column_names\":[\"x\",\"y\"],\"data\":{\"x\":{\"__ndarray__\":\"4D6vLZf+ND+cMBGdFxI3P4qH8YeYszs/OyZldpRZQD904nhYOulCP+UHOlPSjkU/IRva4A1DSD9JJ+0e8QBLP5sKoM4qxE0/bv4D2fNHUD+c9WBMnp1RP6Ludy8N+FI/R/Pn5hk+VD87SDljEpFVPwKAFhw0bFo/ySZgh+8VZT8RkDIQ8ptxP6pt8KmPzHo/Qcuh4os4gz8sYIbvknKKPzu5+j/0lZE/BebNU7DVlj/VmtnzpGibPxiUOfuiu5o/gBUpkoSElT9Poa5GWlCQPxKPrS9eaIg/4a5N0M48gj/JcolYARR8P9Ee56kSTXY/UVozBtq8cT/h5uRvgRdsP/miCUh+M2c/8Az0e6QCZD/RpVeBXA1hP/kQBGuE1Vs/6cBFcUaJWD+wvKaulXxXPzDGnHQWTlY/+ZIEqDukVz8wsNKSw/ZmPz15ZxyC3YM/q0fLlQJRmD/sxw9dnG2mP+6xO3eXGLE/8/2fhhlhtD9IBQQpZ163PyhwPrfIJLs/cyytjjWGvz+02Lt5iTXCPxM+pZQh2MQ/2pCgdPlBxz8y8R7SNbTJP6269Tf0WMw/2JR1SeYizz91IqBGSgjRP2MK1jibjtI/5KI5Nivw1D+DjvOK6TrXP+jjkMMWMdk/UO3CxUDN2j9+wl3mCf7bP2ydNOQKtdw/ZfpG8JYW3T8uF1TIUx7dP1wVjyhA1tw/LHu3Hioy3D/NAYI5ejzbP/6OE+zg3Nk/jLbw3WIV2D+EWEefoB7WP/gyk6CmM9Q/GP8EODlT0j80qZmcd+/QP/z9Qah7ctE/\",\"dtype\":\"float64\",\"shape\":[75]},\"y\":{\"__ndarray__\":\"GhExyth1ND/Sv8nbtpRIP2vylNV0PVE/aTum7souWD/At0SJ8fVgPw3Iuahxymc/MSNhhJWvcD/bTfBN02d3P2zb5nxnaoA/CD5h5MAGhz8NmeH1TyaQP+zrCsc9p5Y/LbKd76fGnz/bLW5ISEmmPww9YvTcQq8/JV2OstnstT8Er5Y7M8G+P0c+r3jqkcU/5h99k6ZBzj88bCIzFzjVP4enV8oyxN0//yH99nXg5D8qOpLLf0jtP5kqGJXUifQ/c9cS8kHP/D+/DpwzojQEQIEmwoanVwxA4lgXt9HgE0BSSZ2AJuIbQAMJih9jjiNA5q4l5INuK0AwTKYKRj0zQNv5fmq8/DpAaCJseHrtQkB/+zpwzoxKQM3MzMzMeFJAZmZmZmZqWEAAAAAAAFxeQM3MzMzMJmJAmpmZmZkfZUBmZmZmZhhoQDMzMzMzEWtAAAAAAAAKbkBmZmZmZoFwQM3MzMzM/XFAMzMzMzN6c0CamZmZmfZ0QAAAAAAAc3ZAZmZmZmbvd0DNzMzMzGt5QDMzMzMz6HpAmpmZmZlkfEAAAAAAAOF9QGZmZmZmXX9AZmZmZuZsgECamZmZGSuBQM3MzMxM6YFAAAAAAICngkAzMzMzs2WDQGZmZmbmI4RAmpmZmRnihEDNzMzMTKCFQAAAAACAXoZAMzMzM7Mch0BmZmZm5tqHQJqZmZkZmYhAzczMzExXiUAAAAAAgBWKQDMzMzOz04pAZmZmZuaRi0CamZmZGVCMQM3MzMxMDo1AAAAAAIDMjUAzMzMzs4qOQGZmZmbmSI9A\",\"dtype\":\"float64\",\"shape\":[75]}}},\"id\":\"263a9de7-ff97-43e8-9f8c-accccd7e6852\",\"type\":\"ColumnDataSource\"},{\"attributes\":{\"callback\":null,\"end\":0.01,\"start\":1020},\"id\":\"8621d0c5-2397-4b8d-b6e7-418c9cdd191a\",\"type\":\"Range1d\"},{\"attributes\":{\"data_source\":{\"id\":\"00fa144e-b628-4285-b9e2-41aee343cd9d\",\"type\":\"ColumnDataSource\"},\"glyph\":{\"id\":\"80d4d421-0adb-4c69-abbd-719c508cdd28\",\"type\":\"Circle\"},\"hover_glyph\":null,\"muted_glyph\":null,\"nonselection_glyph\":{\"id\":\"da37370b-8f29-4362-979b-33e62d6ef993\",\"type\":\"Circle\"},\"selection_glyph\":null,\"view\":{\"id\":\"d8ed6284-b87c-4d9f-a756-036df9325ea3\",\"type\":\"CDSView\"}},\"id\":\"85494079-02df-49ed-b5b8-6d2e99d3e702\",\"type\":\"GlyphRenderer\"},{\"attributes\":{\"source\":{\"id\":\"00fa144e-b628-4285-b9e2-41aee343cd9d\",\"type\":\"ColumnDataSource\"}},\"id\":\"d8ed6284-b87c-4d9f-a756-036df9325ea3\",\"type\":\"CDSView\"},{\"attributes\":{\"line_alpha\":0.1,\"line_color\":\"#1f77b4\",\"line_width\":1.5,\"x\":{\"field\":\"x\"},\"y\":{\"field\":\"y\"}},\"id\":\"7fce6415-316b-45ad-98fd-88e17923a8a5\",\"type\":\"Line\"},{\"attributes\":{\"dimension\":1,\"plot\":{\"id\":\"b43f6a4f-0607-4f18-9123-71751f815ed5\",\"subtype\":\"Figure\",\"type\":\"Plot\"},\"ticker\":{\"id\":\"fb2f5783-7359-41aa-a6b0-ef894aadb013\",\"type\":\"LogTicker\"}},\"id\":\"5d718d1a-d546-463d-b264-cbb9e306aaa6\",\"type\":\"Grid\"},{\"attributes\":{\"active_drag\":\"auto\",\"active_inspect\":\"auto\",\"active_scroll\":\"auto\",\"active_tap\":\"auto\",\"tools\":[{\"id\":\"5bdfeb72-06b9-4b31-9278-764955e9a8ec\",\"type\":\"PanTool\"},{\"id\":\"888e97a6-f2fe-4940-ba15-22fa94f11a4b\",\"type\":\"WheelZoomTool\"},{\"id\":\"3475e663-a8ab-4a70-b9e0-cfcc96e9596f\",\"type\":\"BoxZoomTool\"},{\"id\":\"8cb72544-ddf5-4aca-8d86-163dea273c53\",\"type\":\"SaveTool\"},{\"id\":\"69ebaaa3-175e-4069-a3e9-37fcbd6a090f\",\"type\":\"ResetTool\"},{\"id\":\"79c79e89-1ba6-4b80-93af-5a6a76ecbfe5\",\"type\":\"HelpTool\"}]},\"id\":\"798fe403-cece-456b-bcd1-0bf51a0855a1\",\"type\":\"Toolbar\"},{\"attributes\":{\"below\":[{\"id\":\"67932b0a-2f65-47e5-ac65-ce685e50d969\",\"type\":\"LinearAxis\"}],\"left\":[{\"id\":\"b5a46f46-309a-4c5e-9cc5-c739b946c03d\",\"type\":\"LinearAxis\"}],\"plot_height\":500,\"plot_width\":400,\"renderers\":[{\"id\":\"67932b0a-2f65-47e5-ac65-ce685e50d969\",\"type\":\"LinearAxis\"},{\"id\":\"a2799923-872c-40f3-be8d-4eb0627bc2a5\",\"type\":\"Grid\"},{\"id\":\"b5a46f46-309a-4c5e-9cc5-c739b946c03d\",\"type\":\"LinearAxis\"},{\"id\":\"9fca349e-c3d5-436e-b398-cc3760f7444b\",\"type\":\"Grid\"},{\"id\":\"9fee95db-2a30-4ee1-94dd-995ee72bec5f\",\"type\":\"BoxAnnotation\"},{\"id\":\"5d19d920-b21f-4747-ac82-a247090c13a1\",\"type\":\"GlyphRenderer\"},{\"id\":\"85494079-02df-49ed-b5b8-6d2e99d3e702\",\"type\":\"GlyphRenderer\"},{\"id\":\"bba87e5e-d237-4f27-9c16-1e59936a3e07\",\"type\":\"GlyphRenderer\"},{\"id\":\"7fed8ca0-dea4-4fec-a242-41810b3ccc0d\",\"type\":\"GlyphRenderer\"},{\"id\":\"c053ae44-5df6-4b6d-9656-626259011391\",\"type\":\"GlyphRenderer\"}],\"title\":{\"id\":\"31fa5bff-c712-444b-92d0-7b4e6594640e\",\"type\":\"Title\"},\"toolbar\":{\"id\":\"798fe403-cece-456b-bcd1-0bf51a0855a1\",\"type\":\"Toolbar\"},\"toolbar_location\":null,\"x_range\":{\"id\":\"e81c83f7-c017-4ba0-ad2c-97f47d6b51e0\",\"type\":\"Range1d\"},\"x_scale\":{\"id\":\"834f439d-a926-4e36-8b48-a8b3e0a54c0f\",\"type\":\"LinearScale\"},\"y_range\":{\"id\":\"8621d0c5-2397-4b8d-b6e7-418c9cdd191a\",\"type\":\"Range1d\"},\"y_scale\":{\"id\":\"c54dfd87-0ddd-4d34-b8a3-12b104127e41\",\"type\":\"LinearScale\"}},\"id\":\"35709ba5-5a29-4b24-99d4-e86cf8d68be2\",\"subtype\":\"Figure\",\"type\":\"Plot\"},{\"attributes\":{\"bottom_units\":\"screen\",\"fill_alpha\":{\"value\":0.5},\"fill_color\":{\"value\":\"lightgrey\"},\"left_units\":\"screen\",\"level\":\"overlay\",\"line_alpha\":{\"value\":1.0},\"line_color\":{\"value\":\"black\"},\"line_dash\":[4,4],\"line_width\":{\"value\":2},\"plot\":null,\"render_mode\":\"css\",\"right_units\":\"screen\",\"top_units\":\"screen\"},\"id\":\"9fee95db-2a30-4ee1-94dd-995ee72bec5f\",\"type\":\"BoxAnnotation\"},{\"attributes\":{\"callback\":null,\"end\":0.01,\"start\":1020},\"id\":\"e406fdcb-4998-4f5f-b505-14432c1ccd28\",\"type\":\"Range1d\"},{\"attributes\":{\"axis_label\":\"cooling rate [K/day]\",\"formatter\":{\"id\":\"03f01dc1-de3d-43d1-ace1-886e17dea9f3\",\"type\":\"BasicTickFormatter\"},\"plot\":{\"id\":\"35709ba5-5a29-4b24-99d4-e86cf8d68be2\",\"subtype\":\"Figure\",\"type\":\"Plot\"},\"ticker\":{\"id\":\"f6df6070-9575-4556-a06e-25d59d1de5ce\",\"type\":\"BasicTicker\"}},\"id\":\"67932b0a-2f65-47e5-ac65-ce685e50d969\",\"type\":\"LinearAxis\"},{\"attributes\":{\"dimension\":1,\"plot\":{\"id\":\"35709ba5-5a29-4b24-99d4-e86cf8d68be2\",\"subtype\":\"Figure\",\"type\":\"Plot\"},\"ticker\":{\"id\":\"060f9e29-2a34-409b-b2e0-6fc6fb098643\",\"type\":\"BasicTicker\"}},\"id\":\"9fca349e-c3d5-436e-b398-cc3760f7444b\",\"type\":\"Grid\"},{\"attributes\":{\"callback\":null,\"column_names\":[\"x\",\"y\"],\"data\":{\"x\":{\"__ndarray__\":\"4D6vLZf+ND+cMBGdFxI3P4qH8YeYszs/OyZldpRZQD904nhYOulCP+UHOlPSjkU/IRva4A1DSD9JJ+0e8QBLP5sKoM4qxE0/bv4D2fNHUD+c9WBMnp1RP6Ludy8N+FI/R/Pn5hk+VD87SDljEpFVPwKAFhw0bFo/ySZgh+8VZT8RkDIQ8ptxP6pt8KmPzHo/Qcuh4os4gz8sYIbvknKKPzu5+j/0lZE/BebNU7DVlj/VmtnzpGibPxiUOfuiu5o/gBUpkoSElT9Poa5GWlCQPxKPrS9eaIg/4a5N0M48gj/JcolYARR8P9Ee56kSTXY/UVozBtq8cT/h5uRvgRdsP/miCUh+M2c/8Az0e6QCZD/RpVeBXA1hP/kQBGuE1Vs/6cBFcUaJWD+wvKaulXxXPzDGnHQWTlY/+ZIEqDukVz8wsNKSw/ZmPz15ZxyC3YM/q0fLlQJRmD/sxw9dnG2mP+6xO3eXGLE/8/2fhhlhtD9IBQQpZ163PyhwPrfIJLs/cyytjjWGvz+02Lt5iTXCPxM+pZQh2MQ/2pCgdPlBxz8y8R7SNbTJP6269Tf0WMw/2JR1SeYizz91IqBGSgjRP2MK1jibjtI/5KI5Nivw1D+DjvOK6TrXP+jjkMMWMdk/UO3CxUDN2j9+wl3mCf7bP2ydNOQKtdw/ZfpG8JYW3T8uF1TIUx7dP1wVjyhA1tw/LHu3Hioy3D/NAYI5ejzbP/6OE+zg3Nk/jLbw3WIV2D+EWEefoB7WP/gyk6CmM9Q/GP8EODlT0j80qZmcd+/QP/z9Qah7ctE/\",\"dtype\":\"float64\",\"shape\":[75]},\"y\":{\"__ndarray__\":\"GhExyth1ND/Sv8nbtpRIP2vylNV0PVE/aTum7souWD/At0SJ8fVgPw3Iuahxymc/MSNhhJWvcD/bTfBN02d3P2zb5nxnaoA/CD5h5MAGhz8NmeH1TyaQP+zrCsc9p5Y/LbKd76fGnz/bLW5ISEmmPww9YvTcQq8/JV2OstnstT8Er5Y7M8G+P0c+r3jqkcU/5h99k6ZBzj88bCIzFzjVP4enV8oyxN0//yH99nXg5D8qOpLLf0jtP5kqGJXUifQ/c9cS8kHP/D+/DpwzojQEQIEmwoanVwxA4lgXt9HgE0BSSZ2AJuIbQAMJih9jjiNA5q4l5INuK0AwTKYKRj0zQNv5fmq8/DpAaCJseHrtQkB/+zpwzoxKQM3MzMzMeFJAZmZmZmZqWEAAAAAAAFxeQM3MzMzMJmJAmpmZmZkfZUBmZmZmZhhoQDMzMzMzEWtAAAAAAAAKbkBmZmZmZoFwQM3MzMzM/XFAMzMzMzN6c0CamZmZmfZ0QAAAAAAAc3ZAZmZmZmbvd0DNzMzMzGt5QDMzMzMz6HpAmpmZmZlkfEAAAAAAAOF9QGZmZmZmXX9AZmZmZuZsgECamZmZGSuBQM3MzMxM6YFAAAAAAICngkAzMzMzs2WDQGZmZmbmI4RAmpmZmRnihEDNzMzMTKCFQAAAAACAXoZAMzMzM7Mch0BmZmZm5tqHQJqZmZkZmYhAzczMzExXiUAAAAAAgBWKQDMzMzOz04pAZmZmZuaRi0CamZmZGVCMQM3MzMxMDo1AAAAAAIDMjUAzMzMzs4qOQGZmZmbmSI9A\",\"dtype\":\"float64\",\"shape\":[75]}}},\"id\":\"00fa144e-b628-4285-b9e2-41aee343cd9d\",\"type\":\"ColumnDataSource\"},{\"attributes\":{\"overlay\":{\"id\":\"9fee95db-2a30-4ee1-94dd-995ee72bec5f\",\"type\":\"BoxAnnotation\"}},\"id\":\"3475e663-a8ab-4a70-b9e0-cfcc96e9596f\",\"type\":\"BoxZoomTool\"},{\"attributes\":{\"plot\":null,\"text\":\"Linear pressure scale\"},\"id\":\"31fa5bff-c712-444b-92d0-7b4e6594640e\",\"type\":\"Title\"},{\"attributes\":{},\"id\":\"888e97a6-f2fe-4940-ba15-22fa94f11a4b\",\"type\":\"WheelZoomTool\"},{\"attributes\":{\"data_source\":{\"id\":\"d1c5f2a5-d6e8-4656-9060-7ffa45c47e69\",\"type\":\"ColumnDataSource\"},\"glyph\":{\"id\":\"0ee18efc-2fa0-4493-adc1-9708653c15e3\",\"type\":\"Line\"},\"hover_glyph\":null,\"muted_glyph\":null,\"nonselection_glyph\":{\"id\":\"6396f471-3f0f-43c6-b7b1-71dc252403d0\",\"type\":\"Line\"},\"selection_glyph\":null,\"view\":{\"id\":\"847c2609-05a9-4f6e-89a2-171e68db5a39\",\"type\":\"CDSView\"}},\"id\":\"5d19d920-b21f-4747-ac82-a247090c13a1\",\"type\":\"GlyphRenderer\"},{\"attributes\":{\"plot\":{\"id\":\"35709ba5-5a29-4b24-99d4-e86cf8d68be2\",\"subtype\":\"Figure\",\"type\":\"Plot\"},\"ticker\":{\"id\":\"f6df6070-9575-4556-a06e-25d59d1de5ce\",\"type\":\"BasicTicker\"}},\"id\":\"a2799923-872c-40f3-be8d-4eb0627bc2a5\",\"type\":\"Grid\"},{\"attributes\":{\"fill_alpha\":{\"value\":0.7},\"fill_color\":{\"value\":\"#4daf4a\"},\"line_alpha\":{\"value\":0.7},\"line_color\":{\"value\":\"#4daf4a\"},\"x\":{\"field\":\"x\"},\"y\":{\"field\":\"y\"}},\"id\":\"80d4d421-0adb-4c69-abbd-719c508cdd28\",\"type\":\"Circle\"},{\"attributes\":{},\"id\":\"79c79e89-1ba6-4b80-93af-5a6a76ecbfe5\",\"type\":\"HelpTool\"},{\"attributes\":{},\"id\":\"5bdfeb72-06b9-4b31-9278-764955e9a8ec\",\"type\":\"PanTool\"},{\"attributes\":{},\"id\":\"cd59173e-a554-40c7-a14f-34d4f9001469\",\"type\":\"BasicTickFormatter\"},{\"attributes\":{},\"id\":\"8cb72544-ddf5-4aca-8d86-163dea273c53\",\"type\":\"SaveTool\"},{\"attributes\":{\"line_alpha\":0.6,\"line_color\":\"#e41a1c\",\"line_dash\":[6],\"line_width\":5,\"x\":{\"field\":\"x\"},\"y\":{\"field\":\"y\"}},\"id\":\"0ee18efc-2fa0-4493-adc1-9708653c15e3\",\"type\":\"Line\"},{\"attributes\":{},\"id\":\"834f439d-a926-4e36-8b48-a8b3e0a54c0f\",\"type\":\"LinearScale\"},{\"attributes\":{\"callback\":null,\"column_names\":[\"x\",\"y\"],\"data\":{\"x\":{\"__ndarray__\":\"AAAAAAAAAAAAAAAAAAAAAAAAAAAAAAAAAAAAAAAAAADiMSdbacGXP555vSRj75A/AAAAAAAAAADLAWebrjaRvwAAAAAAAAAAIzfTXUp/cT8AAAAAAAAAADs9YkGQrXo/V99JH8Rbeb8EPQGBCJl2P9wNByqoxlk/K80Do034Zj+ZXlnfhKZzP15zkh/Nrnk/nuqE3yOlgD/soJYP1jmJP4o73uS36JA/Zqt84yxrlT+4UdQBX72ZP5/g4cT3yJk/urCbPcPglT8Id5cmzWiRP1jdise8w4o/SPenILwHhD+CBFo9Tc19P2wdn//MT3Y/q8iMooxScD97h0ljtbNnP9B9C8SR1GE/wd/UrNgEXT8TObHB6lpXPwpbQ9MYwFI/R8xp4JmhUD8RsI9z/3ZQPyVwZcCVE1A/sIdXkvO3UT81TREFl6xhP/ppFP0ez38/R8FRx2rAlD9d8Wo/beKjP9q9NeCOmK4/RX/sHm7Bsj+XOPJAZBG2P69fxP+cULk/CEp+gpOGvD9Ye9CavFTAP6kkgNVwFcM/57A1OmvgxT8092/i1JzIP60J9TYuSss/wl6T+z4Yzj/dv6phXH3QP2MglYNVDNI/kHwtAVuS1D8doEUAgRjXPwg87mMeXNk/Drk6fKlK2z+PQuWh573cP66wCf7xvd0/V2XXpHho3j8mh7JkTMneP/HRqOHX394/efoxexOi3j/6tMwao9LdP8kE/BpJQtw/kirEAuMJ2j83LPReCHvXPw6oDiS18dQ/EN5HA7K20j8oBu16DhHRP8MZ034xPNE/\",\"dtype\":\"float64\",\"shape\":[75]},\"y\":{\"__ndarray__\":\"S/O/Q+51ND/430zAtpRIP2vylNV0PVE/QxsjCssuWD/TR4Z78fVgP+inNsRxymc/OuuBfZWvcD/u3TFA02d3P2d3VoBnaoA/CD5h5MAGhz/1pA8HUCaQP+zrCsc9p5Y/Fb7LAKjGnz/nJ9c/SEmmPwBD+fzcQq8/FOZwv9nstT8Er5Y7M8G+P0c+r3jqkcU/yK72qKZBzj+tM989FzjVPxbgmr8yxN0/cOm5AXbg5D+5ctXAf0jtP5kqGJXUifQ/DsrqDELP/D8MCAhBojQEQDItVnmnVwxAiFXNvdHgE0BSSZ2AJuIbQAMJih9jjiNA5q4l5INuK0CPVN/5RT0zQHzxRXu8/DpAOZ7PgHrtQkAg8wGBzoxKQBSTN8DMeFJA2NmQf2ZqWEAAAAAAAFxeQEQX1LfMJmJAmpmZmZkfZUBmZmZmZhhoQLzoK0gzEWtAAAAAAAAKbkCiC+pbZoFwQAhyUMLM/XFA+I2vPTN6c0AQ5KCEmfZ0QAAAAAAAc3ZA8Btfe2bvd0AIclDCzGt5QPeNrz0z6HpAEOSghJlkfEAAAAAAAOF9QKML6ltmXX9ABTkoYeZsgED7xteeGSuBQAhyUMJM6YFAAAAAAICngkD4ja89s2WDQAU5KGHmI4RA+8bXnhnihEAIclDCTKCFQAAAAACAXoZA+I2vPbMch0AFOShh5tqHQPvG154ZmYhACHJQwkxXiUAAAAAAgBWKQPeNrz2z04pABTkoYeaRi0D7xteeGVCMQAlyUMJMDo1AAAAAAIDMjUD3ja89s4qOQGZmZmbmSI9A\",\"dtype\":\"float64\",\"shape\":[75]}}},\"id\":\"d1c5f2a5-d6e8-4656-9060-7ffa45c47e69\",\"type\":\"ColumnDataSource\"},{\"attributes\":{},\"id\":\"c54dfd87-0ddd-4d34-b8a3-12b104127e41\",\"type\":\"LinearScale\"},{\"attributes\":{\"line_color\":\"#4daf4a\",\"line_width\":1.5,\"x\":{\"field\":\"x\"},\"y\":{\"field\":\"y\"}},\"id\":\"67c47e23-ed36-4cea-b1c2-3f853e3af1a8\",\"type\":\"Line\"}],\"root_ids\":[\"599b4646-faf8-4785-96a5-bcdae886efd1\"]},\"title\":\"Bokeh Application\",\"version\":\"0.12.14\"}};\n",
       "  var render_items = [{\"docid\":\"e53c2c84-e835-4a7b-ae66-7a934de92adf\",\"elementid\":\"0053eacb-dcc7-4ba9-8b24-34e3da28be0e\",\"modelid\":\"599b4646-faf8-4785-96a5-bcdae886efd1\"}];\n",
       "  root.Bokeh.embed.embed_items_notebook(docs_json, render_items);\n",
       "\n",
       "  }\n",
       "  if (root.Bokeh !== undefined) {\n",
       "    embed_document(root);\n",
       "  } else {\n",
       "    var attempts = 0;\n",
       "    var timer = setInterval(function(root) {\n",
       "      if (root.Bokeh !== undefined) {\n",
       "        embed_document(root);\n",
       "        clearInterval(timer);\n",
       "      }\n",
       "      attempts++;\n",
       "      if (attempts > 100) {\n",
       "        console.log(\"Bokeh: ERROR: Unable to run BokehJS code because BokehJS library is missing\")\n",
       "        clearInterval(timer);\n",
       "      }\n",
       "    }, 10, root)\n",
       "  }\n",
       "})(window);"
      ],
      "application/vnd.bokehjs_exec.v0+json": ""
     },
     "metadata": {
      "application/vnd.bokehjs_exec.v0+json": {
       "id": "599b4646-faf8-4785-96a5-bcdae886efd1"
      }
     },
     "output_type": "display_data"
    },
    {
     "name": "stdout",
     "output_type": "stream",
     "text": [
      "FIGURE. Cooling rate profiles.\n"
     ]
    },
    {
     "data": {
      "text/html": [
       "<a id=\"Flux_Comparison\"></a>"
      ],
      "text/plain": [
       "<IPython.core.display.HTML object>"
      ]
     },
     "metadata": {},
     "output_type": "display_data"
    },
    {
     "data": {
      "text/markdown": [
       "# Flux Comparison"
      ],
      "text/plain": [
       "<IPython.core.display.Markdown object>"
      ]
     },
     "metadata": {},
     "output_type": "display_data"
    },
    {
     "data": {
      "text/html": [
       "<div>\n",
       "<style>\n",
       "    .dataframe thead tr:only-child th {\n",
       "        text-align: right;\n",
       "    }\n",
       "\n",
       "    .dataframe thead th {\n",
       "        text-align: left;\n",
       "    }\n",
       "\n",
       "    .dataframe tbody tr th {\n",
       "        vertical-align: top;\n",
       "    }\n",
       "</style>\n",
       "<table border=\"1\" class=\"dataframe\">\n",
       "  <thead>\n",
       "    <tr style=\"text-align: right;\">\n",
       "      <th></th>\n",
       "      <th></th>\n",
       "      <th>flug</th>\n",
       "      <th>fldg</th>\n",
       "      <th>fnetg</th>\n",
       "    </tr>\n",
       "    <tr>\n",
       "      <th>pressure</th>\n",
       "      <th>level</th>\n",
       "      <th></th>\n",
       "      <th></th>\n",
       "      <th></th>\n",
       "    </tr>\n",
       "  </thead>\n",
       "  <tbody>\n",
       "    <tr>\n",
       "      <th>0.0000</th>\n",
       "      <th>1</th>\n",
       "      <td>-29.458775</td>\n",
       "      <td>0.000000</td>\n",
       "      <td>-29.458775</td>\n",
       "    </tr>\n",
       "    <tr>\n",
       "      <th>1.0685</th>\n",
       "      <th>24</th>\n",
       "      <td>-29.458411</td>\n",
       "      <td>0.001699</td>\n",
       "      <td>-29.456712</td>\n",
       "    </tr>\n",
       "    <tr>\n",
       "      <th>1013.0000</th>\n",
       "      <th>76</th>\n",
       "      <td>-36.235408</td>\n",
       "      <td>32.524607</td>\n",
       "      <td>-3.710801</td>\n",
       "    </tr>\n",
       "  </tbody>\n",
       "</table>\n",
       "</div>"
      ],
      "text/plain": [
       "                      flug       fldg      fnetg\n",
       "pressure  level                                 \n",
       "0.0000    1     -29.458775   0.000000 -29.458775\n",
       "1.0685    24    -29.458411   0.001699 -29.456712\n",
       "1013.0000 76    -36.235408  32.524607  -3.710801"
      ]
     },
     "metadata": {},
     "output_type": "display_data"
    },
    {
     "name": "stdout",
     "output_type": "stream",
     "text": [
      "Table. Fluxes. WGT igg=10 wgt_flux=1\n"
     ]
    },
    {
     "data": {
      "text/html": [
       "<div>\n",
       "<style>\n",
       "    .dataframe thead tr:only-child th {\n",
       "        text-align: right;\n",
       "    }\n",
       "\n",
       "    .dataframe thead th {\n",
       "        text-align: left;\n",
       "    }\n",
       "\n",
       "    .dataframe tbody tr th {\n",
       "        vertical-align: top;\n",
       "    }\n",
       "</style>\n",
       "<table border=\"1\" class=\"dataframe\">\n",
       "  <thead>\n",
       "    <tr style=\"text-align: right;\">\n",
       "      <th></th>\n",
       "      <th></th>\n",
       "      <th>flug</th>\n",
       "      <th>fldg</th>\n",
       "      <th>fnetg</th>\n",
       "    </tr>\n",
       "    <tr>\n",
       "      <th>pressure</th>\n",
       "      <th>level</th>\n",
       "      <th></th>\n",
       "      <th></th>\n",
       "      <th></th>\n",
       "    </tr>\n",
       "  </thead>\n",
       "  <tbody>\n",
       "    <tr>\n",
       "      <th>0.0000</th>\n",
       "      <th>1</th>\n",
       "      <td>-29.459473</td>\n",
       "      <td>0.000000</td>\n",
       "      <td>-29.459473</td>\n",
       "    </tr>\n",
       "    <tr>\n",
       "      <th>1.0685</th>\n",
       "      <th>24</th>\n",
       "      <td>-29.459184</td>\n",
       "      <td>0.001920</td>\n",
       "      <td>-29.457264</td>\n",
       "    </tr>\n",
       "    <tr>\n",
       "      <th>1013.0000</th>\n",
       "      <th>76</th>\n",
       "      <td>-36.235408</td>\n",
       "      <td>32.554668</td>\n",
       "      <td>-3.680740</td>\n",
       "    </tr>\n",
       "  </tbody>\n",
       "</table>\n",
       "</div>"
      ],
      "text/plain": [
       "                      flug       fldg      fnetg\n",
       "pressure  level                                 \n",
       "0.0000    1     -29.459473   0.000000 -29.459473\n",
       "1.0685    24    -29.459184   0.001920 -29.457264\n",
       "1013.0000 76    -36.235408  32.554668  -3.680740"
      ]
     },
     "metadata": {},
     "output_type": "display_data"
    },
    {
     "name": "stdout",
     "output_type": "stream",
     "text": [
      "Table. Fluxes. CRD\n"
     ]
    },
    {
     "data": {
      "text/html": [
       "<div>\n",
       "<style>\n",
       "    .dataframe thead tr:only-child th {\n",
       "        text-align: right;\n",
       "    }\n",
       "\n",
       "    .dataframe thead th {\n",
       "        text-align: left;\n",
       "    }\n",
       "\n",
       "    .dataframe tbody tr th {\n",
       "        vertical-align: top;\n",
       "    }\n",
       "</style>\n",
       "<table border=\"1\" class=\"dataframe\">\n",
       "  <thead>\n",
       "    <tr style=\"text-align: right;\">\n",
       "      <th></th>\n",
       "      <th></th>\n",
       "      <th>flug</th>\n",
       "      <th>fldg</th>\n",
       "      <th>fnetg</th>\n",
       "    </tr>\n",
       "    <tr>\n",
       "      <th>pressure</th>\n",
       "      <th>level</th>\n",
       "      <th></th>\n",
       "      <th></th>\n",
       "      <th></th>\n",
       "    </tr>\n",
       "  </thead>\n",
       "  <tbody>\n",
       "    <tr>\n",
       "      <th>1.000000e-08</th>\n",
       "      <th>1</th>\n",
       "      <td>-29.573439</td>\n",
       "      <td>9.536743e-07</td>\n",
       "      <td>-29.573437</td>\n",
       "    </tr>\n",
       "    <tr>\n",
       "      <th>1.068500e+00</th>\n",
       "      <th>24</th>\n",
       "      <td>-29.573025</td>\n",
       "      <td>1.674414e-03</td>\n",
       "      <td>-29.571350</td>\n",
       "    </tr>\n",
       "    <tr>\n",
       "      <th>1.013000e+03</th>\n",
       "      <th>76</th>\n",
       "      <td>-36.235409</td>\n",
       "      <td>3.289608e+01</td>\n",
       "      <td>-3.339325</td>\n",
       "    </tr>\n",
       "  </tbody>\n",
       "</table>\n",
       "</div>"
      ],
      "text/plain": [
       "                         flug          fldg      fnetg\n",
       "pressure     level                                    \n",
       "1.000000e-08 1     -29.573439  9.536743e-07 -29.573437\n",
       "1.068500e+00 24    -29.573025  1.674414e-03 -29.571350\n",
       "1.013000e+03 76    -36.235409  3.289608e+01  -3.339325"
      ]
     },
     "metadata": {},
     "output_type": "display_data"
    },
    {
     "name": "stdout",
     "output_type": "stream",
     "text": [
      "Table. Fluxes. CLIRAD\n"
     ]
    },
    {
     "data": {
      "text/html": [
       "<div>\n",
       "<style>\n",
       "    .dataframe thead tr:only-child th {\n",
       "        text-align: right;\n",
       "    }\n",
       "\n",
       "    .dataframe thead th {\n",
       "        text-align: left;\n",
       "    }\n",
       "\n",
       "    .dataframe tbody tr th {\n",
       "        vertical-align: top;\n",
       "    }\n",
       "</style>\n",
       "<table border=\"1\" class=\"dataframe\">\n",
       "  <thead>\n",
       "    <tr style=\"text-align: right;\">\n",
       "      <th></th>\n",
       "      <th></th>\n",
       "      <th>flug</th>\n",
       "      <th>fldg</th>\n",
       "      <th>fnetg</th>\n",
       "    </tr>\n",
       "    <tr>\n",
       "      <th>pressure</th>\n",
       "      <th>level</th>\n",
       "      <th></th>\n",
       "      <th></th>\n",
       "      <th></th>\n",
       "    </tr>\n",
       "  </thead>\n",
       "  <tbody>\n",
       "    <tr>\n",
       "      <th>0.0000</th>\n",
       "      <th>1</th>\n",
       "      <td>-6.984890e-04</td>\n",
       "      <td>0.000000</td>\n",
       "      <td>-0.000698</td>\n",
       "    </tr>\n",
       "    <tr>\n",
       "      <th>1.0685</th>\n",
       "      <th>24</th>\n",
       "      <td>-7.726570e-04</td>\n",
       "      <td>0.000222</td>\n",
       "      <td>-0.000552</td>\n",
       "    </tr>\n",
       "    <tr>\n",
       "      <th>1013.0000</th>\n",
       "      <th>76</th>\n",
       "      <td>8.700000e-08</td>\n",
       "      <td>0.030061</td>\n",
       "      <td>0.030061</td>\n",
       "    </tr>\n",
       "  </tbody>\n",
       "</table>\n",
       "</div>"
      ],
      "text/plain": [
       "                         flug      fldg     fnetg\n",
       "pressure  level                                  \n",
       "0.0000    1     -6.984890e-04  0.000000 -0.000698\n",
       "1.0685    24    -7.726570e-04  0.000222 -0.000552\n",
       "1013.0000 76     8.700000e-08  0.030061  0.030061"
      ]
     },
     "metadata": {},
     "output_type": "display_data"
    },
    {
     "name": "stdout",
     "output_type": "stream",
     "text": [
      "Table. Fluxes. (CRD) - (WGT igg=10 wgt_flux=1)\n"
     ]
    },
    {
     "data": {
      "text/html": [
       "<div>\n",
       "<style>\n",
       "    .dataframe thead tr:only-child th {\n",
       "        text-align: right;\n",
       "    }\n",
       "\n",
       "    .dataframe thead th {\n",
       "        text-align: left;\n",
       "    }\n",
       "\n",
       "    .dataframe tbody tr th {\n",
       "        vertical-align: top;\n",
       "    }\n",
       "</style>\n",
       "<table border=\"1\" class=\"dataframe\">\n",
       "  <thead>\n",
       "    <tr style=\"text-align: right;\">\n",
       "      <th></th>\n",
       "      <th></th>\n",
       "      <th>flug</th>\n",
       "      <th>fldg</th>\n",
       "      <th>fnetg</th>\n",
       "    </tr>\n",
       "    <tr>\n",
       "      <th>pressure</th>\n",
       "      <th>level</th>\n",
       "      <th></th>\n",
       "      <th></th>\n",
       "      <th></th>\n",
       "    </tr>\n",
       "  </thead>\n",
       "  <tbody>\n",
       "    <tr>\n",
       "      <th>0.0000</th>\n",
       "      <th>1</th>\n",
       "      <td>-1.146645e-01</td>\n",
       "      <td>9.536743e-07</td>\n",
       "      <td>-0.114662</td>\n",
       "    </tr>\n",
       "    <tr>\n",
       "      <th>1.0685</th>\n",
       "      <th>24</th>\n",
       "      <td>-1.146137e-01</td>\n",
       "      <td>-2.432630e-05</td>\n",
       "      <td>-0.114638</td>\n",
       "    </tr>\n",
       "    <tr>\n",
       "      <th>1013.0000</th>\n",
       "      <th>76</th>\n",
       "      <td>-9.130000e-07</td>\n",
       "      <td>3.714768e-01</td>\n",
       "      <td>0.371476</td>\n",
       "    </tr>\n",
       "  </tbody>\n",
       "</table>\n",
       "</div>"
      ],
      "text/plain": [
       "                         flug          fldg     fnetg\n",
       "pressure  level                                      \n",
       "0.0000    1     -1.146645e-01  9.536743e-07 -0.114662\n",
       "1.0685    24    -1.146137e-01 -2.432630e-05 -0.114638\n",
       "1013.0000 76    -9.130000e-07  3.714768e-01  0.371476"
      ]
     },
     "metadata": {},
     "output_type": "display_data"
    },
    {
     "name": "stdout",
     "output_type": "stream",
     "text": [
      "Table. Fluxes. (CLIRAD) - (WGT igg=10 wgt_flux=1)\n"
     ]
    },
    {
     "data": {
      "text/html": [
       "<a id=\"Best-fit_Parameters\"></a>"
      ],
      "text/plain": [
       "<IPython.core.display.HTML object>"
      ]
     },
     "metadata": {},
     "output_type": "display_data"
    },
    {
     "data": {
      "text/markdown": [
       "# Best-fit Parameters"
      ],
      "text/plain": [
       "<IPython.core.display.Markdown object>"
      ]
     },
     "metadata": {},
     "output_type": "display_data"
    },
    {
     "name": "stdout",
     "output_type": "stream",
     "text": [
      "Best-fit values for each (gas, band)\n",
      "------------------------------------\n",
      "o h2o band3a\n",
      "  molecule = h2o\n",
      "  band = 3a\n",
      "  commitnumber = d62b618\n",
      "  vmin = 540\n",
      "  vmax = 620\n",
      "  dv = 0.001\n",
      "  nv = 1000\n",
      "  ref_pts = [(10, 250), (600, 250)]\n",
      "  ng_refs = [2, 6]\n",
      "  ng_adju = [0, 0]\n",
      "  klin = 0\n",
      "  option_wgt_k = 1\n",
      "  wgt = [(0.7, 0.7), (0.7, 0.5, 0.5, 0.5, 0.5, 0.5)]\n",
      "  w_diffuse = [(1.9, 1.7), (1.4, 1.4, 1.4, 1.55, 1.6, 1.66)]\n",
      "  option_wgt_flux = 1\n",
      "  atmpro = mls\n",
      "  tsfc = 294\n",
      "  conc = None\n",
      "  option_compute_btable = 0\n",
      "  option_compute_ktable = 1\n"
     ]
    }
   ],
   "source": [
    "script()"
   ]
  },
  {
   "cell_type": "code",
   "execution_count": 13,
   "metadata": {},
   "outputs": [
    {
     "data": {
      "text/html": [
       "<script>\n",
       "code_show=true; \n",
       "function code_toggle() {\n",
       " if (code_show){\n",
       " $('div.input').hide();\n",
       " } else {\n",
       " $('div.input').show();\n",
       " }\n",
       " code_show = !code_show\n",
       "} \n",
       "$( document ).ready(code_toggle);\n",
       "</script>\n",
       "<form action=\"javascript:code_toggle()\"><input type=\"submit\" value=\"Click here to toggle on/off the raw code.\"></form>"
      ],
      "text/plain": [
       "<IPython.core.display.HTML object>"
      ]
     },
     "execution_count": 13,
     "metadata": {},
     "output_type": "execute_result"
    }
   ],
   "source": [
    "display.HTML('''<script>\n",
    "code_show=true; \n",
    "function code_toggle() {\n",
    " if (code_show){\n",
    " $('div.input').hide();\n",
    " } else {\n",
    " $('div.input').show();\n",
    " }\n",
    " code_show = !code_show\n",
    "} \n",
    "$( document ).ready(code_toggle);\n",
    "</script>\n",
    "<form action=\"javascript:code_toggle()\"><input type=\"submit\" value=\"Click here to toggle on/off the raw code.\"></form>''')"
   ]
  }
 ],
 "metadata": {
  "kernelspec": {
   "display_name": "Python 3",
   "language": "python",
   "name": "python3"
  },
  "language_info": {
   "codemirror_mode": {
    "name": "ipython",
    "version": 3
   },
   "file_extension": ".py",
   "mimetype": "text/x-python",
   "name": "python",
   "nbconvert_exporter": "python",
   "pygments_lexer": "ipython3",
   "version": "3.6.1"
  }
 },
 "nbformat": 4,
 "nbformat_minor": 2
}
