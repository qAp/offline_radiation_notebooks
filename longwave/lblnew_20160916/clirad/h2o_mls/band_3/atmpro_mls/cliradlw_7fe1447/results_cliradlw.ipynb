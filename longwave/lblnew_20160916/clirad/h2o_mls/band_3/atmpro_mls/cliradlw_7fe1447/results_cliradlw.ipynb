{
 "cells": [
  {
   "cell_type": "code",
   "execution_count": 1,
   "metadata": {
    "collapsed": true
   },
   "outputs": [],
   "source": [
    "%matplotlib inline\n",
    "import os\n",
    "import re\n",
    "import io\n",
    "import itertools\n",
    "import pprint\n",
    "\n",
    "from bokeh.io import output_notebook, show\n",
    "from bokeh.layouts import gridplot\n",
    "from bokeh.plotting import figure\n",
    "from bokeh.models import Range1d, Legend\n",
    "from bokeh.palettes import all_palettes\n",
    "\n",
    "import matplotlib\n",
    "import matplotlib.pyplot as plt\n",
    "import numpy as np\n",
    "import pandas as pd\n",
    "import xarray as xr\n",
    "\n",
    "import climatools.lblnew.bestfit_params as bestfits\n",
    "from climatools.lblnew import setup_bestfit, setup_overlap\n",
    "import climatools.lblnew.pipeline as pipe_lblnew\n",
    "import climatools.cliradlw.setup as setup_cliradlw\n",
    "import climatools.cliradlw.pipeline as pipe_cliradlw\n",
    "\n",
    "import climatools.html.html as climahtml\n",
    "from climatools.lblnew.dataio import *\n",
    "from climatools.plot.plot import *\n",
    "\n",
    "\n",
    "import IPython.display as display"
   ]
  },
  {
   "cell_type": "code",
   "execution_count": 2,
   "metadata": {
    "collapsed": true
   },
   "outputs": [],
   "source": [
    "%run param.py"
   ]
  },
  {
   "cell_type": "code",
   "execution_count": 3,
   "metadata": {
    "collapsed": true
   },
   "outputs": [],
   "source": [
    "def load_output_file(path_csv):\n",
    "    '''\n",
    "    Load lblnew output .csv file to xarray.Dataset\n",
    "    \n",
    "    Parameters\n",
    "    ----------\n",
    "    path_csv: str\n",
    "              Path to the .csv file to be loaded.\n",
    "    ds: xarray.Dataset\n",
    "        Data in the input file in the form of an xarray.Dataset.\n",
    "    '''\n",
    "    toindex = ['band', 'pressure', 'igg', 'g']    \n",
    "    df = pd.read_csv(path_csv, sep=r'\\s+')\n",
    "    df = df.set_index([i for i in toindex if i in df.columns])\n",
    "    df = df.rename(columns={'sfu': 'flug',\n",
    "                            'sfd': 'fldg',\n",
    "                            'fnet': 'fnetg',\n",
    "                            'coolr': 'coolrg'})\n",
    "    ds = xr.Dataset.from_dataframe(df)\n",
    "\n",
    "    for l in ('level', 'layer'):\n",
    "        if l in ds.data_vars:\n",
    "            if len(ds[l].dims) > 1:\n",
    "                surface = {d: 0 for d in ds.dims if d != 'pressure'}\n",
    "                coord_level = ds[l][surface]\n",
    "                ds.coords[l] = ('pressure', coord_level)\n",
    "            else:\n",
    "                ds.coords[l] = ('pressure', ds[l])\n",
    "    \n",
    "    return ds"
   ]
  },
  {
   "cell_type": "code",
   "execution_count": 4,
   "metadata": {
    "collapsed": true
   },
   "outputs": [],
   "source": [
    "def lblnew_setup(param=None):\n",
    "    if 'ng_refs' in param:\n",
    "        return {'setup': setup_bestfit,\n",
    "                'fname_flux_crd': 'output_flux.dat',\n",
    "                'fname_cool_crd': 'output_coolr.dat',\n",
    "                'fname_flux_wgt': 'output_wfluxg.dat',\n",
    "                'fname_cool_wgt': 'output_wcoolrg.dat'}\n",
    "    else:\n",
    "        return {'setup': setup_overlap,\n",
    "                'fname_flux_crd': 'output_flux.dat',\n",
    "                'fname_cool_crd': 'output_coolr.dat',\n",
    "                'fname_flux_wgt': 'output_wflux.dat',\n",
    "                'fname_cool_wgt': 'output_wcoolr.dat'}\n",
    "\n",
    "    \n",
    "def load_lblnew_data(param):\n",
    "    \n",
    "    fname_dsname = [('fname_flux_crd', 'ds_flux_crd'),\n",
    "                    ('fname_cool_crd', 'ds_cool_crd'),\n",
    "                    ('fname_flux_wgt', 'ds_flux_wgt'),\n",
    "                    ('fname_cool_wgt', 'ds_cool_wgt')]\n",
    "    \n",
    "    d = lblnew_setup(param)\n",
    "    dir_fortran = pipe_lblnew.get_dir_case(param, setup=d['setup'])\n",
    "    \n",
    "    data_dict = {}\n",
    "    for fname, dsname in fname_dsname:\n",
    "        fpath = os.path.join(dir_fortran, d[fname])\n",
    "        data_dict[dsname] = load_output_file(fpath)\n",
    "    return data_dict\n",
    "    \n",
    "\n",
    "    \n",
    "    "
   ]
  },
  {
   "cell_type": "code",
   "execution_count": 5,
   "metadata": {
    "collapsed": true
   },
   "outputs": [],
   "source": [
    "d = load_lblnew_data(PARAM_LBLNEW)\n",
    "\n",
    "DS_FLUX_CRD = d['ds_flux_crd']\n",
    "DS_COOL_CRD = d['ds_cool_crd']\n",
    "DS_FLUX_WGT = d['ds_flux_wgt']\n",
    "DS_COOL_WGT = d['ds_cool_wgt']"
   ]
  },
  {
   "cell_type": "code",
   "execution_count": 6,
   "metadata": {
    "collapsed": true
   },
   "outputs": [],
   "source": [
    "DIR_FORTRAN = pipe_cliradlw.get_fortran_dir(PARAM, \n",
    "                                            setup=setup_cliradlw)\n",
    "\n",
    "PATH_FLUX = os.path.join(DIR_FORTRAN, 'output_flux.dat')\n",
    "PATH_COOL = os.path.join(DIR_FORTRAN, 'output_coolr.dat')\n",
    "\n",
    "DS_FLUX = load_output_file(PATH_FLUX)\n",
    "DS_COOL = load_output_file(PATH_COOL)"
   ]
  },
  {
   "cell_type": "code",
   "execution_count": 7,
   "metadata": {
    "collapsed": true
   },
   "outputs": [
    {
     "data": {
      "text/html": [
       "\n",
       "    <div class=\"bk-root\">\n",
       "        <a href=\"https://bokeh.pydata.org\" target=\"_blank\" class=\"bk-logo bk-logo-small bk-logo-notebook\"></a>\n",
       "        <span id=\"fc12df10-3f53-4315-a083-17f40c796fc9\">Loading BokehJS ...</span>\n",
       "    </div>"
      ]
     },
     "metadata": {},
     "output_type": "display_data"
    },
    {
     "data": {
      "application/javascript": [
       "\n",
       "(function(root) {\n",
       "  function now() {\n",
       "    return new Date();\n",
       "  }\n",
       "\n",
       "  var force = true;\n",
       "\n",
       "  if (typeof (root._bokeh_onload_callbacks) === \"undefined\" || force === true) {\n",
       "    root._bokeh_onload_callbacks = [];\n",
       "    root._bokeh_is_loading = undefined;\n",
       "  }\n",
       "\n",
       "  var JS_MIME_TYPE = 'application/javascript';\n",
       "  var HTML_MIME_TYPE = 'text/html';\n",
       "  var EXEC_MIME_TYPE = 'application/vnd.bokehjs_exec.v0+json';\n",
       "  var CLASS_NAME = 'output_bokeh rendered_html';\n",
       "\n",
       "  /**\n",
       "   * Render data to the DOM node\n",
       "   */\n",
       "  function render(props, node) {\n",
       "    var script = document.createElement(\"script\");\n",
       "    node.appendChild(script);\n",
       "  }\n",
       "\n",
       "  /**\n",
       "   * Handle when an output is cleared or removed\n",
       "   */\n",
       "  function handleClearOutput(event, handle) {\n",
       "    var cell = handle.cell;\n",
       "\n",
       "    var id = cell.output_area._bokeh_element_id;\n",
       "    var server_id = cell.output_area._bokeh_server_id;\n",
       "    // Clean up Bokeh references\n",
       "    if (id !== undefined) {\n",
       "      Bokeh.index[id].model.document.clear();\n",
       "      delete Bokeh.index[id];\n",
       "    }\n",
       "\n",
       "    if (server_id !== undefined) {\n",
       "      // Clean up Bokeh references\n",
       "      var cmd = \"from bokeh.io.state import curstate; print(curstate().uuid_to_server['\" + server_id + \"'].get_sessions()[0].document.roots[0]._id)\";\n",
       "      cell.notebook.kernel.execute(cmd, {\n",
       "        iopub: {\n",
       "          output: function(msg) {\n",
       "            var element_id = msg.content.text.trim();\n",
       "            Bokeh.index[element_id].model.document.clear();\n",
       "            delete Bokeh.index[element_id];\n",
       "          }\n",
       "        }\n",
       "      });\n",
       "      // Destroy server and session\n",
       "      var cmd = \"import bokeh.io.notebook as ion; ion.destroy_server('\" + server_id + \"')\";\n",
       "      cell.notebook.kernel.execute(cmd);\n",
       "    }\n",
       "  }\n",
       "\n",
       "  /**\n",
       "   * Handle when a new output is added\n",
       "   */\n",
       "  function handleAddOutput(event, handle) {\n",
       "    var output_area = handle.output_area;\n",
       "    var output = handle.output;\n",
       "\n",
       "    // limit handleAddOutput to display_data with EXEC_MIME_TYPE content only\n",
       "    if ((output.output_type != \"display_data\") || (!output.data.hasOwnProperty(EXEC_MIME_TYPE))) {\n",
       "      return\n",
       "    }\n",
       "\n",
       "    var toinsert = output_area.element.find(\".\" + CLASS_NAME.split(' ')[0]);\n",
       "\n",
       "    if (output.metadata[EXEC_MIME_TYPE][\"id\"] !== undefined) {\n",
       "      toinsert[0].firstChild.textContent = output.data[JS_MIME_TYPE];\n",
       "      // store reference to embed id on output_area\n",
       "      output_area._bokeh_element_id = output.metadata[EXEC_MIME_TYPE][\"id\"];\n",
       "    }\n",
       "    if (output.metadata[EXEC_MIME_TYPE][\"server_id\"] !== undefined) {\n",
       "      var bk_div = document.createElement(\"div\");\n",
       "      bk_div.innerHTML = output.data[HTML_MIME_TYPE];\n",
       "      var script_attrs = bk_div.children[0].attributes;\n",
       "      for (var i = 0; i < script_attrs.length; i++) {\n",
       "        toinsert[0].firstChild.setAttribute(script_attrs[i].name, script_attrs[i].value);\n",
       "      }\n",
       "      // store reference to server id on output_area\n",
       "      output_area._bokeh_server_id = output.metadata[EXEC_MIME_TYPE][\"server_id\"];\n",
       "    }\n",
       "  }\n",
       "\n",
       "  function register_renderer(events, OutputArea) {\n",
       "\n",
       "    function append_mime(data, metadata, element) {\n",
       "      // create a DOM node to render to\n",
       "      var toinsert = this.create_output_subarea(\n",
       "        metadata,\n",
       "        CLASS_NAME,\n",
       "        EXEC_MIME_TYPE\n",
       "      );\n",
       "      this.keyboard_manager.register_events(toinsert);\n",
       "      // Render to node\n",
       "      var props = {data: data, metadata: metadata[EXEC_MIME_TYPE]};\n",
       "      render(props, toinsert[0]);\n",
       "      element.append(toinsert);\n",
       "      return toinsert\n",
       "    }\n",
       "\n",
       "    /* Handle when an output is cleared or removed */\n",
       "    events.on('clear_output.CodeCell', handleClearOutput);\n",
       "    events.on('delete.Cell', handleClearOutput);\n",
       "\n",
       "    /* Handle when a new output is added */\n",
       "    events.on('output_added.OutputArea', handleAddOutput);\n",
       "\n",
       "    /**\n",
       "     * Register the mime type and append_mime function with output_area\n",
       "     */\n",
       "    OutputArea.prototype.register_mime_type(EXEC_MIME_TYPE, append_mime, {\n",
       "      /* Is output safe? */\n",
       "      safe: true,\n",
       "      /* Index of renderer in `output_area.display_order` */\n",
       "      index: 0\n",
       "    });\n",
       "  }\n",
       "\n",
       "  // register the mime type if in Jupyter Notebook environment and previously unregistered\n",
       "  if (root.Jupyter !== undefined) {\n",
       "    var events = require('base/js/events');\n",
       "    var OutputArea = require('notebook/js/outputarea').OutputArea;\n",
       "\n",
       "    if (OutputArea.prototype.mime_types().indexOf(EXEC_MIME_TYPE) == -1) {\n",
       "      register_renderer(events, OutputArea);\n",
       "    }\n",
       "  }\n",
       "\n",
       "  \n",
       "  if (typeof (root._bokeh_timeout) === \"undefined\" || force === true) {\n",
       "    root._bokeh_timeout = Date.now() + 5000;\n",
       "    root._bokeh_failed_load = false;\n",
       "  }\n",
       "\n",
       "  var NB_LOAD_WARNING = {'data': {'text/html':\n",
       "     \"<div style='background-color: #fdd'>\\n\"+\n",
       "     \"<p>\\n\"+\n",
       "     \"BokehJS does not appear to have successfully loaded. If loading BokehJS from CDN, this \\n\"+\n",
       "     \"may be due to a slow or bad network connection. Possible fixes:\\n\"+\n",
       "     \"</p>\\n\"+\n",
       "     \"<ul>\\n\"+\n",
       "     \"<li>re-rerun `output_notebook()` to attempt to load from CDN again, or</li>\\n\"+\n",
       "     \"<li>use INLINE resources instead, as so:</li>\\n\"+\n",
       "     \"</ul>\\n\"+\n",
       "     \"<code>\\n\"+\n",
       "     \"from bokeh.resources import INLINE\\n\"+\n",
       "     \"output_notebook(resources=INLINE)\\n\"+\n",
       "     \"</code>\\n\"+\n",
       "     \"</div>\"}};\n",
       "\n",
       "  function display_loaded() {\n",
       "    var el = document.getElementById(\"fc12df10-3f53-4315-a083-17f40c796fc9\");\n",
       "    if (el != null) {\n",
       "      el.textContent = \"BokehJS is loading...\";\n",
       "    }\n",
       "    if (root.Bokeh !== undefined) {\n",
       "      if (el != null) {\n",
       "        el.textContent = \"BokehJS \" + root.Bokeh.version + \" successfully loaded.\";\n",
       "      }\n",
       "    } else if (Date.now() < root._bokeh_timeout) {\n",
       "      setTimeout(display_loaded, 100)\n",
       "    }\n",
       "  }\n",
       "\n",
       "\n",
       "  function run_callbacks() {\n",
       "    try {\n",
       "      root._bokeh_onload_callbacks.forEach(function(callback) { callback() });\n",
       "    }\n",
       "    finally {\n",
       "      delete root._bokeh_onload_callbacks\n",
       "    }\n",
       "    console.info(\"Bokeh: all callbacks have finished\");\n",
       "  }\n",
       "\n",
       "  function load_libs(js_urls, callback) {\n",
       "    root._bokeh_onload_callbacks.push(callback);\n",
       "    if (root._bokeh_is_loading > 0) {\n",
       "      console.log(\"Bokeh: BokehJS is being loaded, scheduling callback at\", now());\n",
       "      return null;\n",
       "    }\n",
       "    if (js_urls == null || js_urls.length === 0) {\n",
       "      run_callbacks();\n",
       "      return null;\n",
       "    }\n",
       "    console.log(\"Bokeh: BokehJS not loaded, scheduling load and callback at\", now());\n",
       "    root._bokeh_is_loading = js_urls.length;\n",
       "    for (var i = 0; i < js_urls.length; i++) {\n",
       "      var url = js_urls[i];\n",
       "      var s = document.createElement('script');\n",
       "      s.src = url;\n",
       "      s.async = false;\n",
       "      s.onreadystatechange = s.onload = function() {\n",
       "        root._bokeh_is_loading--;\n",
       "        if (root._bokeh_is_loading === 0) {\n",
       "          console.log(\"Bokeh: all BokehJS libraries loaded\");\n",
       "          run_callbacks()\n",
       "        }\n",
       "      };\n",
       "      s.onerror = function() {\n",
       "        console.warn(\"failed to load library \" + url);\n",
       "      };\n",
       "      console.log(\"Bokeh: injecting script tag for BokehJS library: \", url);\n",
       "      document.getElementsByTagName(\"head\")[0].appendChild(s);\n",
       "    }\n",
       "  };var element = document.getElementById(\"fc12df10-3f53-4315-a083-17f40c796fc9\");\n",
       "  if (element == null) {\n",
       "    console.log(\"Bokeh: ERROR: autoload.js configured with elementid 'fc12df10-3f53-4315-a083-17f40c796fc9' but no matching script tag was found. \")\n",
       "    return false;\n",
       "  }\n",
       "\n",
       "  var js_urls = [\"https://cdn.pydata.org/bokeh/release/bokeh-0.12.14.min.js\", \"https://cdn.pydata.org/bokeh/release/bokeh-widgets-0.12.14.min.js\", \"https://cdn.pydata.org/bokeh/release/bokeh-tables-0.12.14.min.js\", \"https://cdn.pydata.org/bokeh/release/bokeh-gl-0.12.14.min.js\"];\n",
       "\n",
       "  var inline_js = [\n",
       "    function(Bokeh) {\n",
       "      Bokeh.set_log_level(\"info\");\n",
       "    },\n",
       "    \n",
       "    function(Bokeh) {\n",
       "      \n",
       "    },\n",
       "    function(Bokeh) {\n",
       "      console.log(\"Bokeh: injecting CSS: https://cdn.pydata.org/bokeh/release/bokeh-0.12.14.min.css\");\n",
       "      Bokeh.embed.inject_css(\"https://cdn.pydata.org/bokeh/release/bokeh-0.12.14.min.css\");\n",
       "      console.log(\"Bokeh: injecting CSS: https://cdn.pydata.org/bokeh/release/bokeh-widgets-0.12.14.min.css\");\n",
       "      Bokeh.embed.inject_css(\"https://cdn.pydata.org/bokeh/release/bokeh-widgets-0.12.14.min.css\");\n",
       "      console.log(\"Bokeh: injecting CSS: https://cdn.pydata.org/bokeh/release/bokeh-tables-0.12.14.min.css\");\n",
       "      Bokeh.embed.inject_css(\"https://cdn.pydata.org/bokeh/release/bokeh-tables-0.12.14.min.css\");\n",
       "    }\n",
       "  ];\n",
       "\n",
       "  function run_inline_js() {\n",
       "    \n",
       "    if ((root.Bokeh !== undefined) || (force === true)) {\n",
       "      for (var i = 0; i < inline_js.length; i++) {\n",
       "        inline_js[i].call(root, root.Bokeh);\n",
       "      }if (force === true) {\n",
       "        display_loaded();\n",
       "      }} else if (Date.now() < root._bokeh_timeout) {\n",
       "      setTimeout(run_inline_js, 100);\n",
       "    } else if (!root._bokeh_failed_load) {\n",
       "      console.log(\"Bokeh: BokehJS failed to load within specified timeout.\");\n",
       "      root._bokeh_failed_load = true;\n",
       "    } else if (force !== true) {\n",
       "      var cell = $(document.getElementById(\"fc12df10-3f53-4315-a083-17f40c796fc9\")).parents('.cell').data().cell;\n",
       "      cell.output_area.append_execute_result(NB_LOAD_WARNING)\n",
       "    }\n",
       "\n",
       "  }\n",
       "\n",
       "  if (root._bokeh_is_loading === 0) {\n",
       "    console.log(\"Bokeh: BokehJS loaded, going straight to plotting\");\n",
       "    run_inline_js();\n",
       "  } else {\n",
       "    load_libs(js_urls, function() {\n",
       "      console.log(\"Bokeh: BokehJS plotting callback run at\", now());\n",
       "      run_inline_js();\n",
       "    });\n",
       "  }\n",
       "}(window));"
      ],
      "application/vnd.bokehjs_load.v0+json": "\n(function(root) {\n  function now() {\n    return new Date();\n  }\n\n  var force = true;\n\n  if (typeof (root._bokeh_onload_callbacks) === \"undefined\" || force === true) {\n    root._bokeh_onload_callbacks = [];\n    root._bokeh_is_loading = undefined;\n  }\n\n  \n\n  \n  if (typeof (root._bokeh_timeout) === \"undefined\" || force === true) {\n    root._bokeh_timeout = Date.now() + 5000;\n    root._bokeh_failed_load = false;\n  }\n\n  var NB_LOAD_WARNING = {'data': {'text/html':\n     \"<div style='background-color: #fdd'>\\n\"+\n     \"<p>\\n\"+\n     \"BokehJS does not appear to have successfully loaded. If loading BokehJS from CDN, this \\n\"+\n     \"may be due to a slow or bad network connection. Possible fixes:\\n\"+\n     \"</p>\\n\"+\n     \"<ul>\\n\"+\n     \"<li>re-rerun `output_notebook()` to attempt to load from CDN again, or</li>\\n\"+\n     \"<li>use INLINE resources instead, as so:</li>\\n\"+\n     \"</ul>\\n\"+\n     \"<code>\\n\"+\n     \"from bokeh.resources import INLINE\\n\"+\n     \"output_notebook(resources=INLINE)\\n\"+\n     \"</code>\\n\"+\n     \"</div>\"}};\n\n  function display_loaded() {\n    var el = document.getElementById(\"fc12df10-3f53-4315-a083-17f40c796fc9\");\n    if (el != null) {\n      el.textContent = \"BokehJS is loading...\";\n    }\n    if (root.Bokeh !== undefined) {\n      if (el != null) {\n        el.textContent = \"BokehJS \" + root.Bokeh.version + \" successfully loaded.\";\n      }\n    } else if (Date.now() < root._bokeh_timeout) {\n      setTimeout(display_loaded, 100)\n    }\n  }\n\n\n  function run_callbacks() {\n    try {\n      root._bokeh_onload_callbacks.forEach(function(callback) { callback() });\n    }\n    finally {\n      delete root._bokeh_onload_callbacks\n    }\n    console.info(\"Bokeh: all callbacks have finished\");\n  }\n\n  function load_libs(js_urls, callback) {\n    root._bokeh_onload_callbacks.push(callback);\n    if (root._bokeh_is_loading > 0) {\n      console.log(\"Bokeh: BokehJS is being loaded, scheduling callback at\", now());\n      return null;\n    }\n    if (js_urls == null || js_urls.length === 0) {\n      run_callbacks();\n      return null;\n    }\n    console.log(\"Bokeh: BokehJS not loaded, scheduling load and callback at\", now());\n    root._bokeh_is_loading = js_urls.length;\n    for (var i = 0; i < js_urls.length; i++) {\n      var url = js_urls[i];\n      var s = document.createElement('script');\n      s.src = url;\n      s.async = false;\n      s.onreadystatechange = s.onload = function() {\n        root._bokeh_is_loading--;\n        if (root._bokeh_is_loading === 0) {\n          console.log(\"Bokeh: all BokehJS libraries loaded\");\n          run_callbacks()\n        }\n      };\n      s.onerror = function() {\n        console.warn(\"failed to load library \" + url);\n      };\n      console.log(\"Bokeh: injecting script tag for BokehJS library: \", url);\n      document.getElementsByTagName(\"head\")[0].appendChild(s);\n    }\n  };var element = document.getElementById(\"fc12df10-3f53-4315-a083-17f40c796fc9\");\n  if (element == null) {\n    console.log(\"Bokeh: ERROR: autoload.js configured with elementid 'fc12df10-3f53-4315-a083-17f40c796fc9' but no matching script tag was found. \")\n    return false;\n  }\n\n  var js_urls = [\"https://cdn.pydata.org/bokeh/release/bokeh-0.12.14.min.js\", \"https://cdn.pydata.org/bokeh/release/bokeh-widgets-0.12.14.min.js\", \"https://cdn.pydata.org/bokeh/release/bokeh-tables-0.12.14.min.js\", \"https://cdn.pydata.org/bokeh/release/bokeh-gl-0.12.14.min.js\"];\n\n  var inline_js = [\n    function(Bokeh) {\n      Bokeh.set_log_level(\"info\");\n    },\n    \n    function(Bokeh) {\n      \n    },\n    function(Bokeh) {\n      console.log(\"Bokeh: injecting CSS: https://cdn.pydata.org/bokeh/release/bokeh-0.12.14.min.css\");\n      Bokeh.embed.inject_css(\"https://cdn.pydata.org/bokeh/release/bokeh-0.12.14.min.css\");\n      console.log(\"Bokeh: injecting CSS: https://cdn.pydata.org/bokeh/release/bokeh-widgets-0.12.14.min.css\");\n      Bokeh.embed.inject_css(\"https://cdn.pydata.org/bokeh/release/bokeh-widgets-0.12.14.min.css\");\n      console.log(\"Bokeh: injecting CSS: https://cdn.pydata.org/bokeh/release/bokeh-tables-0.12.14.min.css\");\n      Bokeh.embed.inject_css(\"https://cdn.pydata.org/bokeh/release/bokeh-tables-0.12.14.min.css\");\n    }\n  ];\n\n  function run_inline_js() {\n    \n    if ((root.Bokeh !== undefined) || (force === true)) {\n      for (var i = 0; i < inline_js.length; i++) {\n        inline_js[i].call(root, root.Bokeh);\n      }if (force === true) {\n        display_loaded();\n      }} else if (Date.now() < root._bokeh_timeout) {\n      setTimeout(run_inline_js, 100);\n    } else if (!root._bokeh_failed_load) {\n      console.log(\"Bokeh: BokehJS failed to load within specified timeout.\");\n      root._bokeh_failed_load = true;\n    } else if (force !== true) {\n      var cell = $(document.getElementById(\"fc12df10-3f53-4315-a083-17f40c796fc9\")).parents('.cell').data().cell;\n      cell.output_area.append_execute_result(NB_LOAD_WARNING)\n    }\n\n  }\n\n  if (root._bokeh_is_loading === 0) {\n    console.log(\"Bokeh: BokehJS loaded, going straight to plotting\");\n    run_inline_js();\n  } else {\n    load_libs(js_urls, function() {\n      console.log(\"Bokeh: BokehJS plotting callback run at\", now());\n      run_inline_js();\n    });\n  }\n}(window));"
     },
     "metadata": {},
     "output_type": "display_data"
    }
   ],
   "source": [
    "output_notebook()"
   ]
  },
  {
   "cell_type": "code",
   "execution_count": 8,
   "metadata": {
    "collapsed": true
   },
   "outputs": [],
   "source": [
    "def fmt_cool(ds_in):\n",
    "    ds = ds_in.copy(deep=True)\n",
    "    if 'igg' in ds.dims:\n",
    "        ds = ds.sel(igg=1)\n",
    "\n",
    "    if 'g' in ds.dims:\n",
    "        ds = ds.sum('g')\n",
    "            \n",
    "    if 'band' in ds.dims:\n",
    "        try:\n",
    "            ds = ds.squeeze('band')\n",
    "        except ValueError:\n",
    "            ds = ds.sum('band')\n",
    "                \n",
    "    return ds['coolrg']\n",
    "\n",
    "\n",
    "def pltdata_cooling_1(ds_cool=None,\n",
    "                      ds_cool_crd=None, ds_cool_wgt=None):\n",
    "    \n",
    "\n",
    "\n",
    "    colors = all_palettes['Set1'][4]\n",
    "    data = [{'label': 'CLIRAD `coolr_bands`',\n",
    "             'srs': fmt_cool(ds_cool),\n",
    "             'line_dash': 'dashed', 'line_width': 5,\n",
    "             'color': colors[0], 'alpha': .6},\n",
    "            {'label': 'CRD',\n",
    "             'srs': fmt_cool(ds_cool_crd),\n",
    "             'line_dash': 'solid', 'line_width': 1.5,\n",
    "             'marker': 'circle', 'marker_size': 5,\n",
    "             'color': colors[2], 'alpha': 1,},\n",
    "            {'label': 'WGT igg=10 wgt_flux=2',\n",
    "             'srs': fmt_cool(ds_cool_wgt),\n",
    "             'line_dash': 'solid', 'line_width': 3,\n",
    "             'marker': 'square', 'marker_size': 5,\n",
    "             'color': colors[3], 'alpha': .6}]\n",
    "    return data\n",
    "\n",
    "\n",
    "def nice_xlims(pltdata=None, prange=None):\n",
    "    \n",
    "    def get_slice(srs):\n",
    "        return srs.sel(pressure=slice(*prange))\n",
    "    \n",
    "    srss = [d['srs'] for d in pltdata]\n",
    "    vmin = min([get_slice(srs).min() for srs in srss])\n",
    "    vmax = max([get_slice(srs).max() for srs in srss])\n",
    "    dv = (vmax - vmin) * .01\n",
    "    return float(vmin - dv), float(vmax + dv)\n",
    "    \n",
    "\n",
    "def plt_cooling_bokeh(pltdata=None):\n",
    "    '''\n",
    "    Plot a list of cooling rate profiles using bokeh.\n",
    "    '''\n",
    "    ymin = 1e-2 \n",
    "    ymax = 1020 \n",
    "        \n",
    "    p1 = figure(title=\"Linear pressure scale\", \n",
    "                plot_width=400)        \n",
    "    xmin, xmax = nice_xlims(pltdata, prange=(50, 1050))\n",
    "    for d in pltdata:\n",
    "        if 'marker' in d:\n",
    "            getattr(p1, d['marker'])(d['srs'].values, \n",
    "                    d['srs'].coords['pressure'].values,\n",
    "                    color=d['color'], alpha=.7)\n",
    "        p1.line(d['srs'].values, \n",
    "                d['srs'].coords['pressure'].values,\n",
    "                color=d['color'], alpha=d['alpha'], \n",
    "                line_width=d['line_width'], line_dash=d['line_dash'])\n",
    "    \n",
    "    p1.y_range = Range1d(ymax, ymin)\n",
    "    p1.yaxis.axis_label = 'pressure [mb]'   \n",
    "    p1.x_range = Range1d(xmin, xmax)\n",
    "    p1.xaxis.axis_label = 'cooling rate [K/day]'\n",
    "            \n",
    "    p2 = figure(title='Log pressure scale', y_axis_type='log',\n",
    "                plot_width=560)\n",
    "    xmin, xmax = nice_xlims(pltdata, prange=(.01, 200))\n",
    "    \n",
    "    rs = []\n",
    "    for d in pltdata:\n",
    "        rd = []\n",
    "        if 'marker' in d:\n",
    "            r_mark = getattr(p2, d['marker'])(d['srs'].values, \n",
    "                        d['srs'].coords['pressure'].values,\n",
    "                        color=d['color'], alpha=.7)\n",
    "            rd.append(r_mark)\n",
    "        r_line = p2.line(d['srs'].values, \n",
    "                    d['srs'].coords['pressure'].values,\n",
    "                    color=d['color'], alpha=d['alpha'], \n",
    "                    line_width=d['line_width'], line_dash=d['line_dash'])\n",
    "        rd.append(r_line)\n",
    "      \n",
    "        rs.append(rd)\n",
    "        \n",
    "    p2.y_range = Range1d(ymax, ymin)  \n",
    "    p2.yaxis.axis_label = 'pressure [mb]'\n",
    "    \n",
    "    p2.x_range = Range1d(xmin, xmax)\n",
    "    p2.xaxis.axis_label = 'cooling rate [K/day]'\n",
    "    \n",
    "    items = [(d['label'], r) for r, d in zip(rs, pltdata)]\n",
    "    legend = Legend(items=items, location=(10, -30))\n",
    "    legend.label_text_font_size = '8pt'\n",
    "    \n",
    "    p2.add_layout(legend, 'right')  \n",
    "    \n",
    "    show(gridplot(p1, p2, ncols=2, plot_height=500))\n",
    "    \n",
    "\n",
    "def script_plt_cooling():\n",
    "    pltdata = pltdata_cooling_1(\n",
    "        ds_cool=DS_COOL,\n",
    "        ds_cool_crd=DS_COOL_CRD,\n",
    "        ds_cool_wgt=DS_COOL_WGT)\n",
    "    plt_cooling_bokeh(pltdata=pltdata)\n",
    "    print('''FIGURE. Cooling rate profiles.''')"
   ]
  },
  {
   "cell_type": "code",
   "execution_count": 9,
   "metadata": {
    "collapsed": true
   },
   "outputs": [],
   "source": [
    "def fmt_flux(ds_in):\n",
    "    ds = ds_in.copy(deep=True)\n",
    "    \n",
    "    for l in ('level', 'layer'):\n",
    "        if l in ds.data_vars:\n",
    "            if len(ds[l].dims) > 1:\n",
    "                surface = {d: 0 for d in ds.dims if d != 'pressure'}\n",
    "                coord_level = ds[l][surface]\n",
    "                ds.coords[l] = ('pressure', coord_level)\n",
    "            else:\n",
    "                ds.coords[l] = ('pressure', ds[l])\n",
    "        \n",
    "    ds = ds.isel(pressure=[0, 23, -1])\n",
    "        \n",
    "    if 'igg' in ds.dims:\n",
    "        ds = ds.sel(igg=[1])\n",
    "        ds = ds.squeeze('igg').drop('igg')\n",
    "    \n",
    "    if 'g' in ds.dims:\n",
    "        ds = ds.sum('g')\n",
    "            \n",
    "    if 'band' in ds.dims:\n",
    "        try:\n",
    "            ds = ds.squeeze('band').drop('band')\n",
    "        except ValueError:\n",
    "            ds = ds.sum('band')\n",
    "                \n",
    "    df = ds.to_dataframe()\n",
    "    df = df.set_index('level', append=True)               \n",
    "    return df\n",
    "\n",
    "\n",
    "def tbdata_flux(ds_flux=None, ds_flux_crd=None, ds_flux_wgt=None):\n",
    "    ilevels = [0, 23, -1]\n",
    "            \n",
    "    benchmark = {'label': 'WGT igg=10 wgt_flux=1',\n",
    "                 'df': fmt_flux(ds_flux_wgt)}\n",
    "    \n",
    "    tbs = [{'label': 'CRD',\n",
    "            'df': fmt_flux(ds_flux_crd)},\n",
    "           {'label': 'CLIRAD',\n",
    "            'df': fmt_flux(ds_flux)}]\n",
    "    \n",
    "    data = {'benchmark': benchmark, 'others': tbs}\n",
    "    return data\n",
    "\n",
    "\n",
    "def tb_flux(tbdata=None):\n",
    "    benchmark = tbdata['benchmark']\n",
    "    others = tbdata['others']\n",
    "    \n",
    "    def show_tb(d=None):\n",
    "        display.display(d['df'])\n",
    "        print('Table.', 'Fluxes.', d['label'])\n",
    "        \n",
    "    def show_tbdiff(d0=None, d=None):\n",
    "        df = d['df']\n",
    "        df.index = d0['df'].index\n",
    "        display.display(df - d0['df'])\n",
    "        print('Table.', 'Fluxes.', \n",
    "              '({}) - ({})'.format(d['label'], d0['label']))\n",
    "        \n",
    "    show_tb(benchmark)\n",
    "    for d in others:\n",
    "        show_tb(d)\n",
    "        \n",
    "    for d in others:\n",
    "        show_tbdiff(d=d, d0=benchmark)\n",
    "        \n",
    "        \n",
    "def script_tb_flux():\n",
    "    data = tbdata_flux(ds_flux=DS_FLUX,\n",
    "                       ds_flux_crd=DS_FLUX_CRD,\n",
    "                       ds_flux_wgt=DS_FLUX_WGT)\n",
    "    tb_flux(tbdata=data)"
   ]
  },
  {
   "cell_type": "code",
   "execution_count": 10,
   "metadata": {
    "collapsed": true
   },
   "outputs": [],
   "source": [
    "def band_map():\n",
    "    '''\n",
    "    Maps spectral bands in lblnew to spectral bands in clirad.\n",
    "    '''\n",
    "    lblnew2clirad = {'1': '1',\n",
    "            '2': '2',\n",
    "            '3a': '3',\n",
    "            '3b': '4',\n",
    "            '3c': '5',\n",
    "            '4': '6', \n",
    "            '5': '7',\n",
    "            '6': '8',\n",
    "            '7': '9', \n",
    "            '8': '10',\n",
    "            '9': '11'}\n",
    "    \n",
    "    clirad2lblnew = {clirad: lblnew \n",
    "                     for lblnew, clirad in lblnew2clirad.items()}\n",
    "    return clirad2lblnew\n",
    "\n",
    "\n",
    "def gasbands():\n",
    "    bmap = band_map()\n",
    "    gases = list(PARAM['molecule'].keys())\n",
    "    \n",
    "    bands = [bmap[str(b)] for b in PARAM['band']]\n",
    "    return list(itertools.product(gases, bands))\n",
    "\n",
    "\n",
    "def print_bestfit_params():\n",
    "    print('Best-fit values for each (gas, band)')\n",
    "    print('------------------------------------')\n",
    "    for gas, band in gasbands():\n",
    "        print('o {} band{}'.format(gas, band))\n",
    "        param = bestfits.kdist_params(molecule=gas, band=band)\n",
    "        for name, value in sorted(param.items()):\n",
    "            print(2 * ' ' + '{} = {}'.format(name, value))\n",
    "\n",
    "        \n",
    "def print_input_param():        \n",
    "    for name, value in PARAM.items():\n",
    "        print('{} = {}'.format(name, value))\n",
    "        \n",
    "        \n",
    "def print_lblnew_param():\n",
    "    for name, value in sorted(PARAM_LBLNEW.items()):\n",
    "        print('{} = {}'.format(name, value))\n"
   ]
  },
  {
   "cell_type": "code",
   "execution_count": 11,
   "metadata": {
    "collapsed": true,
    "scrolled": false
   },
   "outputs": [],
   "source": [
    "def show_html(s):\n",
    "    display.display(display.HTML(s))\n",
    "\n",
    "    \n",
    "def show_markdown(s):\n",
    "    display.display(display.Markdown(s))\n",
    "\n",
    "    \n",
    "def script():\n",
    "    \n",
    "    title = '### CLIRAD-LW'\n",
    "    s_input = 'Input Parameters'\n",
    "    s_lblnew_param = 'LBLNEW case compaired against'\n",
    "    s_bestfits = 'Best-fit Parameters'\n",
    "    s_plt_cooling = 'Cooling Rate Profiles'\n",
    "    s_tb_flux = 'Flux Comparison'\n",
    "    \n",
    "    # title\n",
    "    show_markdown('### CLIRAD-LW')\n",
    "    \n",
    "    # TOC\n",
    "    show_markdown('### Table of Contents')\n",
    "    show_html(climahtml.getHTML_hrefanchor(s_input))\n",
    "    show_html(climahtml.getHTML_hrefanchor(s_lblnew_param))\n",
    "    show_html(climahtml.getHTML_hrefanchor(s_plt_cooling))\n",
    "    show_html(climahtml.getHTML_hrefanchor(s_tb_flux))\n",
    "    show_html(climahtml.getHTML_hrefanchor(s_bestfits))\n",
    "    \n",
    "    # Input parameters\n",
    "    show_html(climahtml.getHTML_idanchor(s_input))\n",
    "    show_markdown(climahtml.getMarkdown_sectitle(s_input))\n",
    "    print_input_param()\n",
    "    \n",
    "    # LBLNEW parameters \n",
    "    show_html(climahtml.getHTML_idanchor(s_lblnew_param))\n",
    "    show_markdown(climahtml.getMarkdown_sectitle(s_lblnew_param))\n",
    "    print_lblnew_param()\n",
    "    \n",
    "    # Cooling rate profiles\n",
    "    show_html(climahtml.getHTML_idanchor(s_plt_cooling))\n",
    "    show_markdown(climahtml.getMarkdown_sectitle(s_plt_cooling))\n",
    "    script_plt_cooling()\n",
    "    \n",
    "    # Flux comparison\n",
    "    show_html(climahtml.getHTML_idanchor(s_tb_flux))\n",
    "    show_markdown(climahtml.getMarkdown_sectitle(s_tb_flux))\n",
    "    script_tb_flux()\n",
    "    \n",
    "    # Best-fit values\n",
    "    show_html(climahtml.getHTML_idanchor(s_bestfits))\n",
    "    show_markdown(climahtml.getMarkdown_sectitle(s_bestfits))\n",
    "    print_bestfit_params()\n",
    "   \n",
    "    "
   ]
  },
  {
   "cell_type": "code",
   "execution_count": 12,
   "metadata": {
    "collapsed": true,
    "scrolled": false
   },
   "outputs": [
    {
     "data": {
      "text/markdown": [
       "### CLIRAD-LW"
      ],
      "text/plain": [
       "<IPython.core.display.Markdown object>"
      ]
     },
     "metadata": {},
     "output_type": "display_data"
    },
    {
     "data": {
      "text/markdown": [
       "### Table of Contents"
      ],
      "text/plain": [
       "<IPython.core.display.Markdown object>"
      ]
     },
     "metadata": {},
     "output_type": "display_data"
    },
    {
     "data": {
      "text/html": [
       "<a href=\"#Input_Parameters\">Input Parameters</a>"
      ],
      "text/plain": [
       "<IPython.core.display.HTML object>"
      ]
     },
     "metadata": {},
     "output_type": "display_data"
    },
    {
     "data": {
      "text/html": [
       "<a href=\"#LBLNEW_case_compaired_against\">LBLNEW case compaired against</a>"
      ],
      "text/plain": [
       "<IPython.core.display.HTML object>"
      ]
     },
     "metadata": {},
     "output_type": "display_data"
    },
    {
     "data": {
      "text/html": [
       "<a href=\"#Cooling_Rate_Profiles\">Cooling Rate Profiles</a>"
      ],
      "text/plain": [
       "<IPython.core.display.HTML object>"
      ]
     },
     "metadata": {},
     "output_type": "display_data"
    },
    {
     "data": {
      "text/html": [
       "<a href=\"#Flux_Comparison\">Flux Comparison</a>"
      ],
      "text/plain": [
       "<IPython.core.display.HTML object>"
      ]
     },
     "metadata": {},
     "output_type": "display_data"
    },
    {
     "data": {
      "text/html": [
       "<a href=\"#Best-fit_Parameters\">Best-fit Parameters</a>"
      ],
      "text/plain": [
       "<IPython.core.display.HTML object>"
      ]
     },
     "metadata": {},
     "output_type": "display_data"
    },
    {
     "data": {
      "text/html": [
       "<a id=\"Input_Parameters\"></a>"
      ],
      "text/plain": [
       "<IPython.core.display.HTML object>"
      ]
     },
     "metadata": {},
     "output_type": "display_data"
    },
    {
     "data": {
      "text/markdown": [
       "# Input Parameters"
      ],
      "text/plain": [
       "<IPython.core.display.Markdown object>"
      ]
     },
     "metadata": {},
     "output_type": "display_data"
    },
    {
     "name": "stdout",
     "output_type": "stream",
     "text": [
      "atmpro = mls\n",
      "band = [3]\n",
      "commitnumber = 7fe1447\n",
      "molecule = {'h2o': 'atmpro'}\n",
      "tsfc = 294\n"
     ]
    },
    {
     "data": {
      "text/html": [
       "<a id=\"LBLNEW_case_compaired_against\"></a>"
      ],
      "text/plain": [
       "<IPython.core.display.HTML object>"
      ]
     },
     "metadata": {},
     "output_type": "display_data"
    },
    {
     "data": {
      "text/markdown": [
       "# LBLNEW case compaired against"
      ],
      "text/plain": [
       "<IPython.core.display.Markdown object>"
      ]
     },
     "metadata": {},
     "output_type": "display_data"
    },
    {
     "name": "stdout",
     "output_type": "stream",
     "text": [
      "atmpro = mls\n",
      "band = 3a\n",
      "commitnumber = a06b618\n",
      "conc = None\n",
      "dv = 0.001\n",
      "klin = 0\n",
      "molecule = h2o\n",
      "ng_adju = [0, 0]\n",
      "ng_refs = [2, 6]\n",
      "nv = 1000\n",
      "option_compute_btable = 0\n",
      "option_compute_ktable = 0\n",
      "option_wgt_flux = 1\n",
      "option_wgt_k = 1\n",
      "ref_pts = [(10, 250), (600, 250)]\n",
      "tsfc = 294\n",
      "vmax = 620\n",
      "vmin = 540\n",
      "w_diffuse = [(1.9, 1.7), (1.4, 1.4, 1.4, 1.55, 1.6, 1.66)]\n",
      "wgt = [(0.7, 0.7), (0.7, 0.5, 0.5, 0.5, 0.5, 0.5)]\n"
     ]
    },
    {
     "data": {
      "text/html": [
       "<a id=\"Cooling_Rate_Profiles\"></a>"
      ],
      "text/plain": [
       "<IPython.core.display.HTML object>"
      ]
     },
     "metadata": {},
     "output_type": "display_data"
    },
    {
     "data": {
      "text/markdown": [
       "# Cooling Rate Profiles"
      ],
      "text/plain": [
       "<IPython.core.display.Markdown object>"
      ]
     },
     "metadata": {},
     "output_type": "display_data"
    },
    {
     "data": {
      "text/html": [
       "\n",
       "<div class=\"bk-root\">\n",
       "    <div class=\"bk-plotdiv\" id=\"1c226585-9f2d-4351-bf52-a2fda1244c88\"></div>\n",
       "</div>"
      ]
     },
     "metadata": {},
     "output_type": "display_data"
    },
    {
     "data": {
      "application/javascript": [
       "(function(root) {\n",
       "  function embed_document(root) {\n",
       "    \n",
       "  var docs_json = {\"51e5c6c4-42f0-4b3c-b938-df6bb4b98eb0\":{\"roots\":{\"references\":[{\"attributes\":{},\"id\":\"dd432d19-d0fd-449d-a792-595f74bff479\",\"type\":\"PanTool\"},{\"attributes\":{\"callback\":null,\"end\":0.01,\"start\":1020},\"id\":\"9d426dca-940b-44cc-a405-1f81e2c0b3eb\",\"type\":\"Range1d\"},{\"attributes\":{\"ticker\":null},\"id\":\"90cd0f88-4edb-408c-9b4d-f6d6d09bcca6\",\"type\":\"LogTickFormatter\"},{\"attributes\":{\"bottom_units\":\"screen\",\"fill_alpha\":{\"value\":0.5},\"fill_color\":{\"value\":\"lightgrey\"},\"left_units\":\"screen\",\"level\":\"overlay\",\"line_alpha\":{\"value\":1.0},\"line_color\":{\"value\":\"black\"},\"line_dash\":[4,4],\"line_width\":{\"value\":2},\"plot\":null,\"render_mode\":\"css\",\"right_units\":\"screen\",\"top_units\":\"screen\"},\"id\":\"2488d7f3-ca31-4636-82e9-f4a406beee46\",\"type\":\"BoxAnnotation\"},{\"attributes\":{\"data_source\":{\"id\":\"1ac147e2-a403-4f59-9e7f-55122dedc227\",\"type\":\"ColumnDataSource\"},\"glyph\":{\"id\":\"168f8bdd-e74b-4372-83b5-2068ebadb77d\",\"type\":\"Circle\"},\"hover_glyph\":null,\"muted_glyph\":null,\"nonselection_glyph\":{\"id\":\"37c891d4-7cf9-4c91-8a35-75447b185c01\",\"type\":\"Circle\"},\"selection_glyph\":null,\"view\":{\"id\":\"523e4e81-7b44-4b78-8b0b-c7c7e82383b6\",\"type\":\"CDSView\"}},\"id\":\"065b704e-3b50-4435-87cb-30e4ace8aba0\",\"type\":\"GlyphRenderer\"},{\"attributes\":{},\"id\":\"287edf67-5282-4143-a819-c003ca89813c\",\"type\":\"HelpTool\"},{\"attributes\":{\"data_source\":{\"id\":\"9c77e39d-60ee-4b68-8db7-fb289694df6b\",\"type\":\"ColumnDataSource\"},\"glyph\":{\"id\":\"391cde52-f646-407a-9391-836e486e2933\",\"type\":\"Circle\"},\"hover_glyph\":null,\"muted_glyph\":null,\"nonselection_glyph\":{\"id\":\"a31013b1-54c2-4816-bdcc-0b55ca4b9909\",\"type\":\"Circle\"},\"selection_glyph\":null,\"view\":{\"id\":\"c7bcd6bb-3e49-4127-a8ee-364437a69934\",\"type\":\"CDSView\"}},\"id\":\"df019736-25bb-4f99-97a0-0bef7b6e56d9\",\"type\":\"GlyphRenderer\"},{\"attributes\":{\"line_alpha\":0.1,\"line_color\":\"#1f77b4\",\"line_width\":1.5,\"x\":{\"field\":\"x\"},\"y\":{\"field\":\"y\"}},\"id\":\"3b22b230-c9ae-41d8-a771-3e1787a4c280\",\"type\":\"Line\"},{\"attributes\":{\"callback\":null,\"column_names\":[\"x\",\"y\"],\"data\":{\"x\":{\"__ndarray__\":\"dpcYUicmRz9saZvwqutHPy1eHNLLLko/+zmhZ1J/TD/Xr7x6lNpOPwmspifIoVA/MhDDhwTeUT/TFpOSMCBTP2OJUY8palQ/cZsYrui4VT8puCs+vQ5XP+OTMapDaFg/2llnyRLHWT/5SCJpKz5bPxhneuu24l8/fcO72tUdZz9YC+FR2eJxP7Zckao6I3o/UB4wLBNHgj+aQlTSpMOIP+w942IPZJA/jCMgcG5dlT/uyghRueeZPyRtutAi/Jk/M5gkbsztlT86LcZgyGGRPxycRmKbt4o/5I49ju0UhD//TwDwSO99P9ZJ1hEiQXY/5iDaYk1ZcD/xbqvwFcNnP+4w3ZTI/2E/Nvk39esRXT/FrW7r4WFXPxJCvDzBqFI/sw4wu3OdUD9ZkWE4Ul5QPxqmRaR+A1A/dJXlYWWYUT9fbqoIVJNhP8i/bEWW4X8/34ZQWdjJlD+7XiMUHt6jP/9KrxlVkK4/CFUU9ofCsj/rp3EC4hS2P4DPF5TMXrk/PLwIz1unvD8qQdpaul3AP1lD80qjE8M/oiuufUPZxT9uWkKhEpXIP6fbZQELR8s/IAn7dhIRzj8wr0yNCnvQP8NRC4i9DtI/G1kB13id1D8Y3ll50TDXP+4X/bLFf9k/Fhx3rTFm2z8HXm+TOMjcP2iIdIk0u90/G2UedUtd3j8F9MoOVLreP5nigTO+0N4/AYzCiUOR3j9LAlgNV8HdPwDFp4RQM9w/aBhnodf+2T9L4jDBPnTXPxxiF6DI7tQ/fZ+Bw9G20j+QNFWDchPRPzBNbJlnQNE/\",\"dtype\":\"float64\",\"shape\":[75]},\"y\":{\"__ndarray__\":\"S/O/Q+51ND/Sv8nbtpRIP2vylNV0PVE/aTum7souWD/At0SJ8fVgPw3Iuahxymc/MSNhhJWvcD/bTfBN02d3P2zb5nxnaoA/CD5h5MAGhz8NmeH1TyaQP+zrCsc9p5Y/LbKd76fGnz/bLW5ISEmmPww9YvTcQq8/JV2OstnstT8Er5Y7M8G+P0c+r3jqkcU/5h99k6ZBzj88bCIzFzjVP4enV8oyxN0//yH99nXg5D8qOpLLf0jtP5kqGJXUifQ/c9cS8kHP/D+/DpwzojQEQIEmwoanVwxA4lgXt9HgE0BSSZ2AJuIbQAMJih9jjiNA5q4l5INuK0AwTKYKRj0zQNv5fmq8/DpAaCJseHrtQkB/+zpwzoxKQM3MzMzMeFJAZmZmZmZqWEAAAAAAAFxeQM3MzMzMJmJAmpmZmZkfZUBmZmZmZhhoQDMzMzMzEWtAAAAAAAAKbkBmZmZmZoFwQM3MzMzM/XFAMzMzMzN6c0CamZmZmfZ0QAAAAAAAc3ZAZmZmZmbvd0DNzMzMzGt5QDMzMzMz6HpAmpmZmZlkfEAAAAAAAOF9QGZmZmZmXX9AZmZmZuZsgECamZmZGSuBQM3MzMxM6YFAAAAAAICngkAzMzMzs2WDQGZmZmbmI4RAmpmZmRnihEDNzMzMTKCFQAAAAACAXoZAMzMzM7Mch0BmZmZm5tqHQJqZmZkZmYhAzczMzExXiUAAAAAAgBWKQDMzMzOz04pAZmZmZuaRi0CamZmZGVCMQM3MzMxMDo1AAAAAAIDMjUAzMzMzs4qOQGZmZmbmSI9A\",\"dtype\":\"float64\",\"shape\":[75]}}},\"id\":\"0a964139-5ff5-4507-9623-dc77726291e9\",\"type\":\"ColumnDataSource\"},{\"attributes\":{},\"id\":\"4d96d16a-ecc1-48b9-9548-a98aab6f41cd\",\"type\":\"WheelZoomTool\"},{\"attributes\":{\"plot\":null,\"text\":\"Log pressure scale\"},\"id\":\"496681e3-044e-41e6-ab40-feb47ffa334c\",\"type\":\"Title\"},{\"attributes\":{\"data_source\":{\"id\":\"0a964139-5ff5-4507-9623-dc77726291e9\",\"type\":\"ColumnDataSource\"},\"glyph\":{\"id\":\"fa6d7815-57f0-4785-b531-2a07227ebba3\",\"type\":\"Line\"},\"hover_glyph\":null,\"muted_glyph\":null,\"nonselection_glyph\":{\"id\":\"3b5bbd19-e383-4774-9b31-f63b3f303892\",\"type\":\"Line\"},\"selection_glyph\":null,\"view\":{\"id\":\"dc9edec5-463b-40e9-9ec7-bcaf819b7923\",\"type\":\"CDSView\"}},\"id\":\"dfbad161-9595-4985-a140-495d65fe6e5f\",\"type\":\"GlyphRenderer\"},{\"attributes\":{\"callback\":null,\"column_names\":[\"x\",\"y\"],\"data\":{\"x\":{\"__ndarray__\":\"LOZpX3MKND9Vu6pREyM2Pxt2RO9gxTo/UASSzYrPPz/9cDBVmXtCP/ypizkjIUU/m5x/uGfbRz8/LEBUl6hKP3ywKJLigE0/sZHWcW4xUD+W+X2teqFRP7k4W5WM8FI/XrLz8/RDVD+DVsmHZZpVP1JfYYSaaFo/vREjrTQOZT9TehV+kZVxP91iGfpi0Xo/ixuest85gz8KIv+KBGyKP3V97BxtlpE/ZeLk6yPRlj9UH/Teq2WbPzG/mALZuJo/BmqbXDiClT8f5KFhxE2QP+KiB/zpWIg/HNJDTMQ9gj9xEwR7iwh8P3+5izq3LHY/DXnuvwGtcT/taOHQqRRsP3e52TbELGc/rmWdbrMRZD+mNZwmMgJhP3rHmUUw3ls/XQJsFwWHWD94s770+ntXP+hR/4VPRlY/yz7Ks4ucVz++0pc0tvZmP4TGAzpp24M/s2msyqxImD9+nU2ncmOmPyyGv+cGEbE/0/toZp1ZtD+Lc5duWVi3P6z9ne3RG7s/M6PEUzR7vz/MlHsmoC7CPwLIv4Ur1sQ/m57B8Fs+xz9Xch38J6zJPyAfusHMTsw//Z55tbMazz9rq+UQaQLRPyv0h4eshdI/71iNoXPp1D8ZDyF08TPXP8429YlVJtk/ZywWlqq62j9vqM5ZVeXbP/waapBZqNw/lben1LoH3T8NB9cWfQndP9xEkPdoudw/AKrZf3Qc3D/1ovKGZiTbP0kiJKD8vNk/hCFZXdry1z+Af0qVKPvVP0vmWN5VD9Q/Fvb23zFZ0j/3QMgFqQzRP/3dtzGofNE/\",\"dtype\":\"float64\",\"shape\":[75]},\"y\":{\"__ndarray__\":\"GhExyth1ND/Sv8nbtpRIP2vylNV0PVE/aTum7souWD/At0SJ8fVgPw3Iuahxymc/MSNhhJWvcD/bTfBN02d3P2zb5nxnaoA/CD5h5MAGhz8NmeH1TyaQP+zrCsc9p5Y/LbKd76fGnz/bLW5ISEmmPww9YvTcQq8/JV2OstnstT8Er5Y7M8G+P0c+r3jqkcU/5h99k6ZBzj88bCIzFzjVP4enV8oyxN0//yH99nXg5D8qOpLLf0jtP5kqGJXUifQ/c9cS8kHP/D+/DpwzojQEQIEmwoanVwxA4lgXt9HgE0BSSZ2AJuIbQAMJih9jjiNA5q4l5INuK0AwTKYKRj0zQNv5fmq8/DpAaCJseHrtQkB/+zpwzoxKQM3MzMzMeFJAZmZmZmZqWEAAAAAAAFxeQM3MzMzMJmJAmpmZmZkfZUBmZmZmZhhoQDMzMzMzEWtAAAAAAAAKbkBmZmZmZoFwQM3MzMzM/XFAMzMzMzN6c0CamZmZmfZ0QAAAAAAAc3ZAZmZmZmbvd0DNzMzMzGt5QDMzMzMz6HpAmpmZmZlkfEAAAAAAAOF9QGZmZmZmXX9AZmZmZuZsgECamZmZGSuBQM3MzMxM6YFAAAAAAICngkAzMzMzs2WDQGZmZmbmI4RAmpmZmRnihEDNzMzMTKCFQAAAAACAXoZAMzMzM7Mch0BmZmZm5tqHQJqZmZkZmYhAzczMzExXiUAAAAAAgBWKQDMzMzOz04pAZmZmZuaRi0CamZmZGVCMQM3MzMxMDo1AAAAAAIDMjUAzMzMzs4qOQGZmZmbmSI9A\",\"dtype\":\"float64\",\"shape\":[75]}}},\"id\":\"350d0ad6-9d9f-4382-be5c-85b184b246da\",\"type\":\"ColumnDataSource\"},{\"attributes\":{},\"id\":\"5548b8de-2ed0-42fc-9c5c-2132cfdfbed7\",\"type\":\"LinearScale\"},{\"attributes\":{\"fill_alpha\":{\"value\":0.1},\"fill_color\":{\"value\":\"#1f77b4\"},\"line_alpha\":{\"value\":0.1},\"line_color\":{\"value\":\"#1f77b4\"},\"x\":{\"field\":\"x\"},\"y\":{\"field\":\"y\"}},\"id\":\"a31013b1-54c2-4816-bdcc-0b55ca4b9909\",\"type\":\"Circle\"},{\"attributes\":{\"callback\":null,\"column_names\":[\"x\",\"y\"],\"data\":{\"x\":{\"__ndarray__\":\"SWM1q2oSQj+ZAhjy8utCPzwClYP3A0U/6dGhxbNMRz+cstEGh61JPzhAg95fE0w/lk1rvUaJTj+cFJRQtIlQP8X4VG7S2lE/SSs4a0snUz/4cRIY2X1UP7F/1Q+q1VU/NdroLGo7Vz9ntyJPqLlYP5+EzqFaf10/lR7cyJ+5ZT/EWaG9s0xxP6TPHjANnXk/DAL68LQSgj9GbBz/hJqIP8BLvKNrUJA/NBSvuRYllT906GNaMn+ZP2Bpi/iAXpk/pQU1dRAelT9MfwpeDI6QPwWoRrMTWYk/Y8c/05Awgz/pAKCJfTl9P0jWB1bLg3Y/TRKpmpRNcT+Iu+0nrmdqP6TCR05z/mQ/tzkXs6zEYT/feE10ZfFdP+cCX/mG91g//2rbJMmfVj91T8wI8jhWP3/xKqFxjFU/Qsoj1fcxVz/3zg3F7JdmPyGVQ4iKs4M//EjFwHN/mD/fi5Kx862mP/8EixaNNrE/lKfZC0ShtD8fEtElkaq3P/g6OJerBrs/z9ZChs26vj8RRYTGXo7BP7y1xjwpKMQ/lNyXMUmlxj+Q63yrCB/JP7fd+yt/rss/RvES4zRPzj9oRbsG7ofQP5F3bFApAdI/J2blTF5m1D8rGLL2bMTWP/7CoNDX09g/8CxqNsGB2j/XWl9lvL3bP0Pvud/fjNw/qK+nQ5IA3T/hMJ/kkSXdP3kQsNCVBt0/EKqhA7Ge3D9YD0YmENLbP1AU+1IZgdo/bhWBxU+02D+I8AqMQabWP4g9ysJJkNQ/DvYzCTSz0j+mj5tOFUfRP5g67rU1ldE/\",\"dtype\":\"float64\",\"shape\":[75]},\"y\":{\"__ndarray__\":\"GhExyth1ND/Sv8nbtpRIP2vylNV0PVE/aTum7souWD/At0SJ8fVgPw3Iuahxymc/MSNhhJWvcD/bTfBN02d3P2zb5nxnaoA/CD5h5MAGhz8NmeH1TyaQP+zrCsc9p5Y/LbKd76fGnz/bLW5ISEmmPww9YvTcQq8/JV2OstnstT8Er5Y7M8G+P0c+r3jqkcU/5h99k6ZBzj88bCIzFzjVP4enV8oyxN0//yH99nXg5D8qOpLLf0jtP5kqGJXUifQ/c9cS8kHP/D+/DpwzojQEQIEmwoanVwxA4lgXt9HgE0BSSZ2AJuIbQAMJih9jjiNA5q4l5INuK0AwTKYKRj0zQNv5fmq8/DpAaCJseHrtQkB/+zpwzoxKQM3MzMzMeFJAZmZmZmZqWEAAAAAAAFxeQM3MzMzMJmJAmpmZmZkfZUBmZmZmZhhoQDMzMzMzEWtAAAAAAAAKbkBmZmZmZoFwQM3MzMzM/XFAMzMzMzN6c0CamZmZmfZ0QAAAAAAAc3ZAZmZmZmbvd0DNzMzMzGt5QDMzMzMz6HpAmpmZmZlkfEAAAAAAAOF9QGZmZmZmXX9AZmZmZuZsgECamZmZGSuBQM3MzMxM6YFAAAAAAICngkAzMzMzs2WDQGZmZmbmI4RAmpmZmRnihEDNzMzMTKCFQAAAAACAXoZAMzMzM7Mch0BmZmZm5tqHQJqZmZkZmYhAzczMzExXiUAAAAAAgBWKQDMzMzOz04pAZmZmZuaRi0CamZmZGVCMQM3MzMxMDo1AAAAAAIDMjUAzMzMzs4qOQGZmZmbmSI9A\",\"dtype\":\"float64\",\"shape\":[75]}}},\"id\":\"f65e9c42-79a2-4d30-b83c-5af64af8fa2f\",\"type\":\"ColumnDataSource\"},{\"attributes\":{\"overlay\":{\"id\":\"2488d7f3-ca31-4636-82e9-f4a406beee46\",\"type\":\"BoxAnnotation\"}},\"id\":\"2056980a-d7ef-4053-b82a-8c08a13dc27e\",\"type\":\"BoxZoomTool\"},{\"attributes\":{\"source\":{\"id\":\"6e459aba-f74f-4319-8b25-212a95307320\",\"type\":\"ColumnDataSource\"}},\"id\":\"4e557d24-bb1c-48d9-b381-bf4d8f913eb2\",\"type\":\"CDSView\"},{\"attributes\":{\"callback\":null,\"end\":0.486295792643,\"start\":-0.0038277369430000006},\"id\":\"669a2943-5342-46eb-8a14-49f2a3e98ea4\",\"type\":\"Range1d\"},{\"attributes\":{\"source\":{\"id\":\"75712e0f-2c36-4168-827a-31990a757755\",\"type\":\"ColumnDataSource\"}},\"id\":\"44e9f3bb-73ef-489c-b018-ccaf8181166f\",\"type\":\"CDSView\"},{\"attributes\":{\"fill_alpha\":{\"value\":0.7},\"fill_color\":{\"value\":\"#4daf4a\"},\"line_alpha\":{\"value\":0.7},\"line_color\":{\"value\":\"#4daf4a\"},\"x\":{\"field\":\"x\"},\"y\":{\"field\":\"y\"}},\"id\":\"391cde52-f646-407a-9391-836e486e2933\",\"type\":\"Circle\"},{\"attributes\":{\"line_color\":\"#4daf4a\",\"line_width\":1.5,\"x\":{\"field\":\"x\"},\"y\":{\"field\":\"y\"}},\"id\":\"e4362abe-b491-4247-84fd-549952f7a3e4\",\"type\":\"Line\"},{\"attributes\":{\"data_source\":{\"id\":\"350d0ad6-9d9f-4382-be5c-85b184b246da\",\"type\":\"ColumnDataSource\"},\"glyph\":{\"id\":\"85cd2503-117d-4e6a-bddc-b60f0cd01ea4\",\"type\":\"Line\"},\"hover_glyph\":null,\"muted_glyph\":null,\"nonselection_glyph\":{\"id\":\"1495397e-cc3c-484d-99b6-d7a0a4d9a814\",\"type\":\"Line\"},\"selection_glyph\":null,\"view\":{\"id\":\"15a8b2a4-3cbb-4858-bc7e-541df0d844f1\",\"type\":\"CDSView\"}},\"id\":\"2fd62676-31ea-40af-ab6f-58f5a5a57921\",\"type\":\"GlyphRenderer\"},{\"attributes\":{},\"id\":\"0816d2ce-c7b1-41d7-9da6-13b9e06c40c8\",\"type\":\"SaveTool\"},{\"attributes\":{\"source\":{\"id\":\"9c77e39d-60ee-4b68-8db7-fb289694df6b\",\"type\":\"ColumnDataSource\"}},\"id\":\"c7bcd6bb-3e49-4127-a8ee-364437a69934\",\"type\":\"CDSView\"},{\"attributes\":{},\"id\":\"5e3319b2-bf67-4753-bf78-6804a05b16c0\",\"type\":\"ResetTool\"},{\"attributes\":{\"data_source\":{\"id\":\"6e459aba-f74f-4319-8b25-212a95307320\",\"type\":\"ColumnDataSource\"},\"glyph\":{\"id\":\"e4362abe-b491-4247-84fd-549952f7a3e4\",\"type\":\"Line\"},\"hover_glyph\":null,\"muted_glyph\":null,\"nonselection_glyph\":{\"id\":\"3b22b230-c9ae-41d8-a771-3e1787a4c280\",\"type\":\"Line\"},\"selection_glyph\":null,\"view\":{\"id\":\"4e557d24-bb1c-48d9-b381-bf4d8f913eb2\",\"type\":\"CDSView\"}},\"id\":\"280269c3-1240-4197-9f14-a965143bc2a5\",\"type\":\"GlyphRenderer\"},{\"attributes\":{\"callback\":null,\"column_names\":[\"x\",\"y\"],\"data\":{\"x\":{\"__ndarray__\":\"LOZpX3MKND9Vu6pREyM2Pxt2RO9gxTo/UASSzYrPPz/9cDBVmXtCP/ypizkjIUU/m5x/uGfbRz8/LEBUl6hKP3ywKJLigE0/sZHWcW4xUD+W+X2teqFRP7k4W5WM8FI/XrLz8/RDVD+DVsmHZZpVP1JfYYSaaFo/vREjrTQOZT9TehV+kZVxP91iGfpi0Xo/ixuest85gz8KIv+KBGyKP3V97BxtlpE/ZeLk6yPRlj9UH/Teq2WbPzG/mALZuJo/BmqbXDiClT8f5KFhxE2QP+KiB/zpWIg/HNJDTMQ9gj9xEwR7iwh8P3+5izq3LHY/DXnuvwGtcT/taOHQqRRsP3e52TbELGc/rmWdbrMRZD+mNZwmMgJhP3rHmUUw3ls/XQJsFwWHWD94s770+ntXP+hR/4VPRlY/yz7Ks4ucVz++0pc0tvZmP4TGAzpp24M/s2msyqxImD9+nU2ncmOmPyyGv+cGEbE/0/toZp1ZtD+Lc5duWVi3P6z9ne3RG7s/M6PEUzR7vz/MlHsmoC7CPwLIv4Ur1sQ/m57B8Fs+xz9Xch38J6zJPyAfusHMTsw//Z55tbMazz9rq+UQaQLRPyv0h4eshdI/71iNoXPp1D8ZDyF08TPXP8429YlVJtk/ZywWlqq62j9vqM5ZVeXbP/waapBZqNw/lben1LoH3T8NB9cWfQndP9xEkPdoudw/AKrZf3Qc3D/1ovKGZiTbP0kiJKD8vNk/hCFZXdry1z+Af0qVKPvVP0vmWN5VD9Q/Fvb23zFZ0j/3QMgFqQzRP/3dtzGofNE/\",\"dtype\":\"float64\",\"shape\":[75]},\"y\":{\"__ndarray__\":\"GhExyth1ND/Sv8nbtpRIP2vylNV0PVE/aTum7souWD/At0SJ8fVgPw3Iuahxymc/MSNhhJWvcD/bTfBN02d3P2zb5nxnaoA/CD5h5MAGhz8NmeH1TyaQP+zrCsc9p5Y/LbKd76fGnz/bLW5ISEmmPww9YvTcQq8/JV2OstnstT8Er5Y7M8G+P0c+r3jqkcU/5h99k6ZBzj88bCIzFzjVP4enV8oyxN0//yH99nXg5D8qOpLLf0jtP5kqGJXUifQ/c9cS8kHP/D+/DpwzojQEQIEmwoanVwxA4lgXt9HgE0BSSZ2AJuIbQAMJih9jjiNA5q4l5INuK0AwTKYKRj0zQNv5fmq8/DpAaCJseHrtQkB/+zpwzoxKQM3MzMzMeFJAZmZmZmZqWEAAAAAAAFxeQM3MzMzMJmJAmpmZmZkfZUBmZmZmZhhoQDMzMzMzEWtAAAAAAAAKbkBmZmZmZoFwQM3MzMzM/XFAMzMzMzN6c0CamZmZmfZ0QAAAAAAAc3ZAZmZmZmbvd0DNzMzMzGt5QDMzMzMz6HpAmpmZmZlkfEAAAAAAAOF9QGZmZmZmXX9AZmZmZuZsgECamZmZGSuBQM3MzMxM6YFAAAAAAICngkAzMzMzs2WDQGZmZmbmI4RAmpmZmRnihEDNzMzMTKCFQAAAAACAXoZAMzMzM7Mch0BmZmZm5tqHQJqZmZkZmYhAzczMzExXiUAAAAAAgBWKQDMzMzOz04pAZmZmZuaRi0CamZmZGVCMQM3MzMxMDo1AAAAAAIDMjUAzMzMzs4qOQGZmZmbmSI9A\",\"dtype\":\"float64\",\"shape\":[75]}}},\"id\":\"9c77e39d-60ee-4b68-8db7-fb289694df6b\",\"type\":\"ColumnDataSource\"},{\"attributes\":{\"below\":[{\"id\":\"587d0bff-cd39-4974-b79d-ca07c9c75427\",\"type\":\"LinearAxis\"}],\"left\":[{\"id\":\"d94fbc1a-ffb1-400d-88ae-019ff14011ab\",\"type\":\"LinearAxis\"}],\"plot_height\":500,\"plot_width\":400,\"renderers\":[{\"id\":\"587d0bff-cd39-4974-b79d-ca07c9c75427\",\"type\":\"LinearAxis\"},{\"id\":\"651c38f0-b559-40f5-90ac-c127a16c01c6\",\"type\":\"Grid\"},{\"id\":\"d94fbc1a-ffb1-400d-88ae-019ff14011ab\",\"type\":\"LinearAxis\"},{\"id\":\"1fa9bf2c-ab5a-4484-b329-ab9fc7ce0ed0\",\"type\":\"Grid\"},{\"id\":\"2488d7f3-ca31-4636-82e9-f4a406beee46\",\"type\":\"BoxAnnotation\"},{\"id\":\"dfbad161-9595-4985-a140-495d65fe6e5f\",\"type\":\"GlyphRenderer\"},{\"id\":\"065b704e-3b50-4435-87cb-30e4ace8aba0\",\"type\":\"GlyphRenderer\"},{\"id\":\"280269c3-1240-4197-9f14-a965143bc2a5\",\"type\":\"GlyphRenderer\"},{\"id\":\"d709f512-a61c-4ecd-a4c8-ddf2b30b503c\",\"type\":\"GlyphRenderer\"},{\"id\":\"b2bad83b-96a1-4385-8066-67c901fdd5e6\",\"type\":\"GlyphRenderer\"}],\"title\":{\"id\":\"768983f0-34f4-4bb8-af34-6c9db723b939\",\"type\":\"Title\"},\"toolbar\":{\"id\":\"444d1289-f10f-4dcb-ab52-badc9166ed8f\",\"type\":\"Toolbar\"},\"toolbar_location\":null,\"x_range\":{\"id\":\"669a2943-5342-46eb-8a14-49f2a3e98ea4\",\"type\":\"Range1d\"},\"x_scale\":{\"id\":\"11cd453b-4f17-4378-a797-e4314c05c275\",\"type\":\"LinearScale\"},\"y_range\":{\"id\":\"9d426dca-940b-44cc-a405-1f81e2c0b3eb\",\"type\":\"Range1d\"},\"y_scale\":{\"id\":\"1aeaa409-cfcf-4a56-a631-c6952ba00535\",\"type\":\"LinearScale\"}},\"id\":\"a3aca29a-fae5-49d9-bdac-0d2616cb9275\",\"subtype\":\"Figure\",\"type\":\"Plot\"},{\"attributes\":{\"line_color\":\"#4daf4a\",\"line_width\":1.5,\"x\":{\"field\":\"x\"},\"y\":{\"field\":\"y\"}},\"id\":\"85cd2503-117d-4e6a-bddc-b60f0cd01ea4\",\"type\":\"Line\"},{\"attributes\":{\"line_alpha\":0.1,\"line_color\":\"#1f77b4\",\"line_width\":3,\"x\":{\"field\":\"x\"},\"y\":{\"field\":\"y\"}},\"id\":\"8f7f2329-88c2-4037-b27e-ca3d7fac14af\",\"type\":\"Line\"},{\"attributes\":{\"line_alpha\":0.1,\"line_color\":\"#1f77b4\",\"line_width\":1.5,\"x\":{\"field\":\"x\"},\"y\":{\"field\":\"y\"}},\"id\":\"1495397e-cc3c-484d-99b6-d7a0a4d9a814\",\"type\":\"Line\"},{\"attributes\":{\"callback\":null,\"column_names\":[\"x\",\"y\"],\"data\":{\"x\":{\"__ndarray__\":\"SWM1q2oSQj+ZAhjy8utCPzwClYP3A0U/6dGhxbNMRz+cstEGh61JPzhAg95fE0w/lk1rvUaJTj+cFJRQtIlQP8X4VG7S2lE/SSs4a0snUz/4cRIY2X1UP7F/1Q+q1VU/NdroLGo7Vz9ntyJPqLlYP5+EzqFaf10/lR7cyJ+5ZT/EWaG9s0xxP6TPHjANnXk/DAL68LQSgj9GbBz/hJqIP8BLvKNrUJA/NBSvuRYllT906GNaMn+ZP2Bpi/iAXpk/pQU1dRAelT9MfwpeDI6QPwWoRrMTWYk/Y8c/05Awgz/pAKCJfTl9P0jWB1bLg3Y/TRKpmpRNcT+Iu+0nrmdqP6TCR05z/mQ/tzkXs6zEYT/feE10ZfFdP+cCX/mG91g//2rbJMmfVj91T8wI8jhWP3/xKqFxjFU/Qsoj1fcxVz/3zg3F7JdmPyGVQ4iKs4M//EjFwHN/mD/fi5Kx862mP/8EixaNNrE/lKfZC0ShtD8fEtElkaq3P/g6OJerBrs/z9ZChs26vj8RRYTGXo7BP7y1xjwpKMQ/lNyXMUmlxj+Q63yrCB/JP7fd+yt/rss/RvES4zRPzj9oRbsG7ofQP5F3bFApAdI/J2blTF5m1D8rGLL2bMTWP/7CoNDX09g/8CxqNsGB2j/XWl9lvL3bP0Pvud/fjNw/qK+nQ5IA3T/hMJ/kkSXdP3kQsNCVBt0/EKqhA7Ge3D9YD0YmENLbP1AU+1IZgdo/bhWBxU+02D+I8AqMQabWP4g9ysJJkNQ/DvYzCTSz0j+mj5tOFUfRP5g67rU1ldE/\",\"dtype\":\"float64\",\"shape\":[75]},\"y\":{\"__ndarray__\":\"GhExyth1ND/Sv8nbtpRIP2vylNV0PVE/aTum7souWD/At0SJ8fVgPw3Iuahxymc/MSNhhJWvcD/bTfBN02d3P2zb5nxnaoA/CD5h5MAGhz8NmeH1TyaQP+zrCsc9p5Y/LbKd76fGnz/bLW5ISEmmPww9YvTcQq8/JV2OstnstT8Er5Y7M8G+P0c+r3jqkcU/5h99k6ZBzj88bCIzFzjVP4enV8oyxN0//yH99nXg5D8qOpLLf0jtP5kqGJXUifQ/c9cS8kHP/D+/DpwzojQEQIEmwoanVwxA4lgXt9HgE0BSSZ2AJuIbQAMJih9jjiNA5q4l5INuK0AwTKYKRj0zQNv5fmq8/DpAaCJseHrtQkB/+zpwzoxKQM3MzMzMeFJAZmZmZmZqWEAAAAAAAFxeQM3MzMzMJmJAmpmZmZkfZUBmZmZmZhhoQDMzMzMzEWtAAAAAAAAKbkBmZmZmZoFwQM3MzMzM/XFAMzMzMzN6c0CamZmZmfZ0QAAAAAAAc3ZAZmZmZmbvd0DNzMzMzGt5QDMzMzMz6HpAmpmZmZlkfEAAAAAAAOF9QGZmZmZmXX9AZmZmZuZsgECamZmZGSuBQM3MzMxM6YFAAAAAAICngkAzMzMzs2WDQGZmZmbmI4RAmpmZmRnihEDNzMzMTKCFQAAAAACAXoZAMzMzM7Mch0BmZmZm5tqHQJqZmZkZmYhAzczMzExXiUAAAAAAgBWKQDMzMzOz04pAZmZmZuaRi0CamZmZGVCMQM3MzMxMDo1AAAAAAIDMjUAzMzMzs4qOQGZmZmbmSI9A\",\"dtype\":\"float64\",\"shape\":[75]}}},\"id\":\"2bf253dc-17de-4e98-8e02-84a467a7d423\",\"type\":\"ColumnDataSource\"},{\"attributes\":{\"fill_alpha\":{\"value\":0.1},\"fill_color\":{\"value\":\"#1f77b4\"},\"line_alpha\":{\"value\":0.1},\"line_color\":{\"value\":\"#1f77b4\"},\"x\":{\"field\":\"x\"},\"y\":{\"field\":\"y\"}},\"id\":\"37c891d4-7cf9-4c91-8a35-75447b185c01\",\"type\":\"Circle\"},{\"attributes\":{\"source\":{\"id\":\"350d0ad6-9d9f-4382-be5c-85b184b246da\",\"type\":\"ColumnDataSource\"}},\"id\":\"15a8b2a4-3cbb-4858-bc7e-541df0d844f1\",\"type\":\"CDSView\"},{\"attributes\":{\"fill_alpha\":{\"value\":0.7},\"fill_color\":{\"value\":\"#984ea3\"},\"line_alpha\":{\"value\":0.7},\"line_color\":{\"value\":\"#984ea3\"},\"x\":{\"field\":\"x\"},\"y\":{\"field\":\"y\"}},\"id\":\"1676eb06-4e9d-4f04-a8d1-32d4e845ddc5\",\"type\":\"Square\"},{\"attributes\":{},\"id\":\"1aeaa409-cfcf-4a56-a631-c6952ba00535\",\"type\":\"LinearScale\"},{\"attributes\":{\"data_source\":{\"id\":\"f65e9c42-79a2-4d30-b83c-5af64af8fa2f\",\"type\":\"ColumnDataSource\"},\"glyph\":{\"id\":\"1676eb06-4e9d-4f04-a8d1-32d4e845ddc5\",\"type\":\"Square\"},\"hover_glyph\":null,\"muted_glyph\":null,\"nonselection_glyph\":{\"id\":\"ba071f1d-1896-42e3-8d84-068b837f2429\",\"type\":\"Square\"},\"selection_glyph\":null,\"view\":{\"id\":\"83ff4dcb-524f-494a-9a79-a311ed89970b\",\"type\":\"CDSView\"}},\"id\":\"7665c179-c15d-4f6a-998e-b1d1c7e110af\",\"type\":\"GlyphRenderer\"},{\"attributes\":{\"callback\":null,\"end\":0.027012809372999998,\"start\":0.0007196193270000001},\"id\":\"be6ee3a4-573c-477c-b822-f60f8f3773f0\",\"type\":\"Range1d\"},{\"attributes\":{\"callback\":null,\"column_names\":[\"x\",\"y\"],\"data\":{\"x\":{\"__ndarray__\":\"SWM1q2oSQj+ZAhjy8utCPzwClYP3A0U/6dGhxbNMRz+cstEGh61JPzhAg95fE0w/lk1rvUaJTj+cFJRQtIlQP8X4VG7S2lE/SSs4a0snUz/4cRIY2X1UP7F/1Q+q1VU/NdroLGo7Vz9ntyJPqLlYP5+EzqFaf10/lR7cyJ+5ZT/EWaG9s0xxP6TPHjANnXk/DAL68LQSgj9GbBz/hJqIP8BLvKNrUJA/NBSvuRYllT906GNaMn+ZP2Bpi/iAXpk/pQU1dRAelT9MfwpeDI6QPwWoRrMTWYk/Y8c/05Awgz/pAKCJfTl9P0jWB1bLg3Y/TRKpmpRNcT+Iu+0nrmdqP6TCR05z/mQ/tzkXs6zEYT/feE10ZfFdP+cCX/mG91g//2rbJMmfVj91T8wI8jhWP3/xKqFxjFU/Qsoj1fcxVz/3zg3F7JdmPyGVQ4iKs4M//EjFwHN/mD/fi5Kx862mP/8EixaNNrE/lKfZC0ShtD8fEtElkaq3P/g6OJerBrs/z9ZChs26vj8RRYTGXo7BP7y1xjwpKMQ/lNyXMUmlxj+Q63yrCB/JP7fd+yt/rss/RvES4zRPzj9oRbsG7ofQP5F3bFApAdI/J2blTF5m1D8rGLL2bMTWP/7CoNDX09g/8CxqNsGB2j/XWl9lvL3bP0Pvud/fjNw/qK+nQ5IA3T/hMJ/kkSXdP3kQsNCVBt0/EKqhA7Ge3D9YD0YmENLbP1AU+1IZgdo/bhWBxU+02D+I8AqMQabWP4g9ysJJkNQ/DvYzCTSz0j+mj5tOFUfRP5g67rU1ldE/\",\"dtype\":\"float64\",\"shape\":[75]},\"y\":{\"__ndarray__\":\"GhExyth1ND/Sv8nbtpRIP2vylNV0PVE/aTum7souWD/At0SJ8fVgPw3Iuahxymc/MSNhhJWvcD/bTfBN02d3P2zb5nxnaoA/CD5h5MAGhz8NmeH1TyaQP+zrCsc9p5Y/LbKd76fGnz/bLW5ISEmmPww9YvTcQq8/JV2OstnstT8Er5Y7M8G+P0c+r3jqkcU/5h99k6ZBzj88bCIzFzjVP4enV8oyxN0//yH99nXg5D8qOpLLf0jtP5kqGJXUifQ/c9cS8kHP/D+/DpwzojQEQIEmwoanVwxA4lgXt9HgE0BSSZ2AJuIbQAMJih9jjiNA5q4l5INuK0AwTKYKRj0zQNv5fmq8/DpAaCJseHrtQkB/+zpwzoxKQM3MzMzMeFJAZmZmZmZqWEAAAAAAAFxeQM3MzMzMJmJAmpmZmZkfZUBmZmZmZhhoQDMzMzMzEWtAAAAAAAAKbkBmZmZmZoFwQM3MzMzM/XFAMzMzMzN6c0CamZmZmfZ0QAAAAAAAc3ZAZmZmZmbvd0DNzMzMzGt5QDMzMzMz6HpAmpmZmZlkfEAAAAAAAOF9QGZmZmZmXX9AZmZmZuZsgECamZmZGSuBQM3MzMxM6YFAAAAAAICngkAzMzMzs2WDQGZmZmbmI4RAmpmZmRnihEDNzMzMTKCFQAAAAACAXoZAMzMzM7Mch0BmZmZm5tqHQJqZmZkZmYhAzczMzExXiUAAAAAAgBWKQDMzMzOz04pAZmZmZuaRi0CamZmZGVCMQM3MzMxMDo1AAAAAAIDMjUAzMzMzs4qOQGZmZmbmSI9A\",\"dtype\":\"float64\",\"shape\":[75]}}},\"id\":\"9f20fad7-43c4-4355-9cf4-172b7a9a707a\",\"type\":\"ColumnDataSource\"},{\"attributes\":{\"fill_alpha\":{\"value\":0.1},\"fill_color\":{\"value\":\"#1f77b4\"},\"line_alpha\":{\"value\":0.1},\"line_color\":{\"value\":\"#1f77b4\"},\"x\":{\"field\":\"x\"},\"y\":{\"field\":\"y\"}},\"id\":\"ba071f1d-1896-42e3-8d84-068b837f2429\",\"type\":\"Square\"},{\"attributes\":{\"plot\":null,\"text\":\"Linear pressure scale\"},\"id\":\"768983f0-34f4-4bb8-af34-6c9db723b939\",\"type\":\"Title\"},{\"attributes\":{\"source\":{\"id\":\"f65e9c42-79a2-4d30-b83c-5af64af8fa2f\",\"type\":\"ColumnDataSource\"}},\"id\":\"83ff4dcb-524f-494a-9a79-a311ed89970b\",\"type\":\"CDSView\"},{\"attributes\":{\"line_alpha\":0.6,\"line_color\":\"#984ea3\",\"line_width\":3,\"x\":{\"field\":\"x\"},\"y\":{\"field\":\"y\"}},\"id\":\"22c9ead1-a7a1-49ef-81c8-32e5fa92c22a\",\"type\":\"Line\"},{\"attributes\":{},\"id\":\"11cd453b-4f17-4378-a797-e4314c05c275\",\"type\":\"LinearScale\"},{\"attributes\":{\"data_source\":{\"id\":\"2bf253dc-17de-4e98-8e02-84a467a7d423\",\"type\":\"ColumnDataSource\"},\"glyph\":{\"id\":\"22c9ead1-a7a1-49ef-81c8-32e5fa92c22a\",\"type\":\"Line\"},\"hover_glyph\":null,\"muted_glyph\":null,\"nonselection_glyph\":{\"id\":\"feab43cd-384f-4b39-9735-3424b949c26b\",\"type\":\"Line\"},\"selection_glyph\":null,\"view\":{\"id\":\"a98002b9-2cc4-4095-a761-3faab7cdcc69\",\"type\":\"CDSView\"}},\"id\":\"84345f0e-d5e6-41c7-83a7-36f4f77c80e7\",\"type\":\"GlyphRenderer\"},{\"attributes\":{\"plot\":{\"id\":\"62961ec5-61dc-4fd5-b902-708d96066a11\",\"subtype\":\"Figure\",\"type\":\"Plot\"},\"ticker\":{\"id\":\"29e2f74a-d385-4083-b014-c23d97d62032\",\"type\":\"BasicTicker\"}},\"id\":\"851058c3-7f6d-430f-b988-b2d4b30fe036\",\"type\":\"Grid\"},{\"attributes\":{\"dimension\":1,\"plot\":{\"id\":\"62961ec5-61dc-4fd5-b902-708d96066a11\",\"subtype\":\"Figure\",\"type\":\"Plot\"},\"ticker\":{\"id\":\"4cf01e02-fb74-4a1e-a30d-653625e2cb86\",\"type\":\"LogTicker\"}},\"id\":\"15ac6729-980b-4513-950b-56e8e2a0e57a\",\"type\":\"Grid\"},{\"attributes\":{\"label\":{\"value\":\"CRD\"},\"renderers\":[{\"id\":\"df019736-25bb-4f99-97a0-0bef7b6e56d9\",\"type\":\"GlyphRenderer\"},{\"id\":\"2fd62676-31ea-40af-ab6f-58f5a5a57921\",\"type\":\"GlyphRenderer\"}]},\"id\":\"46c6892d-7c84-40fa-852f-8db4ce008d9b\",\"type\":\"LegendItem\"},{\"attributes\":{\"line_alpha\":0.1,\"line_color\":\"#1f77b4\",\"line_width\":3,\"x\":{\"field\":\"x\"},\"y\":{\"field\":\"y\"}},\"id\":\"feab43cd-384f-4b39-9735-3424b949c26b\",\"type\":\"Line\"},{\"attributes\":{\"source\":{\"id\":\"2bf253dc-17de-4e98-8e02-84a467a7d423\",\"type\":\"ColumnDataSource\"}},\"id\":\"a98002b9-2cc4-4095-a761-3faab7cdcc69\",\"type\":\"CDSView\"},{\"attributes\":{\"axis_label\":\"pressure [mb]\",\"formatter\":{\"id\":\"90cd0f88-4edb-408c-9b4d-f6d6d09bcca6\",\"type\":\"LogTickFormatter\"},\"plot\":{\"id\":\"62961ec5-61dc-4fd5-b902-708d96066a11\",\"subtype\":\"Figure\",\"type\":\"Plot\"},\"ticker\":{\"id\":\"4cf01e02-fb74-4a1e-a30d-653625e2cb86\",\"type\":\"LogTicker\"}},\"id\":\"7e058896-33db-4cfe-8116-4db605cb7b4e\",\"type\":\"LogAxis\"},{\"attributes\":{\"callback\":null,\"column_names\":[\"x\",\"y\"],\"data\":{\"x\":{\"__ndarray__\":\"SWM1q2oSQj+ZAhjy8utCPzwClYP3A0U/6dGhxbNMRz+cstEGh61JPzhAg95fE0w/lk1rvUaJTj+cFJRQtIlQP8X4VG7S2lE/SSs4a0snUz/4cRIY2X1UP7F/1Q+q1VU/NdroLGo7Vz9ntyJPqLlYP5+EzqFaf10/lR7cyJ+5ZT/EWaG9s0xxP6TPHjANnXk/DAL68LQSgj9GbBz/hJqIP8BLvKNrUJA/NBSvuRYllT906GNaMn+ZP2Bpi/iAXpk/pQU1dRAelT9MfwpeDI6QPwWoRrMTWYk/Y8c/05Awgz/pAKCJfTl9P0jWB1bLg3Y/TRKpmpRNcT+Iu+0nrmdqP6TCR05z/mQ/tzkXs6zEYT/feE10ZfFdP+cCX/mG91g//2rbJMmfVj91T8wI8jhWP3/xKqFxjFU/Qsoj1fcxVz/3zg3F7JdmPyGVQ4iKs4M//EjFwHN/mD/fi5Kx862mP/8EixaNNrE/lKfZC0ShtD8fEtElkaq3P/g6OJerBrs/z9ZChs26vj8RRYTGXo7BP7y1xjwpKMQ/lNyXMUmlxj+Q63yrCB/JP7fd+yt/rss/RvES4zRPzj9oRbsG7ofQP5F3bFApAdI/J2blTF5m1D8rGLL2bMTWP/7CoNDX09g/8CxqNsGB2j/XWl9lvL3bP0Pvud/fjNw/qK+nQ5IA3T/hMJ/kkSXdP3kQsNCVBt0/EKqhA7Ge3D9YD0YmENLbP1AU+1IZgdo/bhWBxU+02D+I8AqMQabWP4g9ysJJkNQ/DvYzCTSz0j+mj5tOFUfRP5g67rU1ldE/\",\"dtype\":\"float64\",\"shape\":[75]},\"y\":{\"__ndarray__\":\"GhExyth1ND/Sv8nbtpRIP2vylNV0PVE/aTum7souWD/At0SJ8fVgPw3Iuahxymc/MSNhhJWvcD/bTfBN02d3P2zb5nxnaoA/CD5h5MAGhz8NmeH1TyaQP+zrCsc9p5Y/LbKd76fGnz/bLW5ISEmmPww9YvTcQq8/JV2OstnstT8Er5Y7M8G+P0c+r3jqkcU/5h99k6ZBzj88bCIzFzjVP4enV8oyxN0//yH99nXg5D8qOpLLf0jtP5kqGJXUifQ/c9cS8kHP/D+/DpwzojQEQIEmwoanVwxA4lgXt9HgE0BSSZ2AJuIbQAMJih9jjiNA5q4l5INuK0AwTKYKRj0zQNv5fmq8/DpAaCJseHrtQkB/+zpwzoxKQM3MzMzMeFJAZmZmZmZqWEAAAAAAAFxeQM3MzMzMJmJAmpmZmZkfZUBmZmZmZhhoQDMzMzMzEWtAAAAAAAAKbkBmZmZmZoFwQM3MzMzM/XFAMzMzMzN6c0CamZmZmfZ0QAAAAAAAc3ZAZmZmZmbvd0DNzMzMzGt5QDMzMzMz6HpAmpmZmZlkfEAAAAAAAOF9QGZmZmZmXX9AZmZmZuZsgECamZmZGSuBQM3MzMxM6YFAAAAAAICngkAzMzMzs2WDQGZmZmbmI4RAmpmZmRnihEDNzMzMTKCFQAAAAACAXoZAMzMzM7Mch0BmZmZm5tqHQJqZmZkZmYhAzczMzExXiUAAAAAAgBWKQDMzMzOz04pAZmZmZuaRi0CamZmZGVCMQM3MzMxMDo1AAAAAAIDMjUAzMzMzs4qOQGZmZmbmSI9A\",\"dtype\":\"float64\",\"shape\":[75]}}},\"id\":\"75712e0f-2c36-4168-827a-31990a757755\",\"type\":\"ColumnDataSource\"},{\"attributes\":{\"label\":{\"value\":\"WGT igg=10 wgt_flux=2\"},\"renderers\":[{\"id\":\"7665c179-c15d-4f6a-998e-b1d1c7e110af\",\"type\":\"GlyphRenderer\"},{\"id\":\"84345f0e-d5e6-41c7-83a7-36f4f77c80e7\",\"type\":\"GlyphRenderer\"}]},\"id\":\"0608e7ec-0908-48b5-966f-ae3b8ecea8fc\",\"type\":\"LegendItem\"},{\"attributes\":{\"toolbar\":{\"id\":\"a456c305-5812-4da4-9f2e-d26688568be9\",\"type\":\"ProxyToolbar\"},\"toolbar_location\":\"above\"},\"id\":\"a0bc1452-db61-4181-ace8-fa5b89300e85\",\"type\":\"ToolbarBox\"},{\"attributes\":{\"active_drag\":\"auto\",\"active_inspect\":\"auto\",\"active_scroll\":\"auto\",\"active_tap\":\"auto\",\"tools\":[{\"id\":\"02d162ca-abe8-4ea3-aaa8-9e808ecb2a81\",\"type\":\"PanTool\"},{\"id\":\"d239a4be-e08b-4ab4-b1d9-752a4e500e07\",\"type\":\"WheelZoomTool\"},{\"id\":\"e1f4cc16-d084-4e49-86e1-8ad8b68c7070\",\"type\":\"BoxZoomTool\"},{\"id\":\"f828e475-8e22-4f42-8c90-2feb275b147b\",\"type\":\"SaveTool\"},{\"id\":\"5f9b2b39-1d82-4e56-9093-8573f6e3bd92\",\"type\":\"ResetTool\"},{\"id\":\"731079dc-adab-4d32-bd50-0bed5c995dea\",\"type\":\"HelpTool\"}]},\"id\":\"75a99a4a-4b70-42a5-a23e-2e04ef245f54\",\"type\":\"Toolbar\"},{\"attributes\":{\"children\":[{\"id\":\"a0bc1452-db61-4181-ace8-fa5b89300e85\",\"type\":\"ToolbarBox\"},{\"id\":\"9770a8db-166d-406d-a67f-fa3550a73299\",\"type\":\"Column\"}]},\"id\":\"e84ed881-e1dd-46e2-9da9-b25458c89a33\",\"type\":\"Column\"},{\"attributes\":{\"axis_label\":\"cooling rate [K/day]\",\"formatter\":{\"id\":\"1969cd84-8ee8-475a-8721-2c11778ca858\",\"type\":\"BasicTickFormatter\"},\"plot\":{\"id\":\"62961ec5-61dc-4fd5-b902-708d96066a11\",\"subtype\":\"Figure\",\"type\":\"Plot\"},\"ticker\":{\"id\":\"29e2f74a-d385-4083-b014-c23d97d62032\",\"type\":\"BasicTicker\"}},\"id\":\"e85911ed-5304-42de-88e2-c96e469743db\",\"type\":\"LinearAxis\"},{\"attributes\":{\"source\":{\"id\":\"1ac147e2-a403-4f59-9e7f-55122dedc227\",\"type\":\"ColumnDataSource\"}},\"id\":\"523e4e81-7b44-4b78-8b0b-c7c7e82383b6\",\"type\":\"CDSView\"},{\"attributes\":{\"active_drag\":\"auto\",\"active_inspect\":\"auto\",\"active_scroll\":\"auto\",\"active_tap\":\"auto\",\"tools\":[{\"id\":\"dd432d19-d0fd-449d-a792-595f74bff479\",\"type\":\"PanTool\"},{\"id\":\"4d96d16a-ecc1-48b9-9548-a98aab6f41cd\",\"type\":\"WheelZoomTool\"},{\"id\":\"2056980a-d7ef-4053-b82a-8c08a13dc27e\",\"type\":\"BoxZoomTool\"},{\"id\":\"0816d2ce-c7b1-41d7-9da6-13b9e06c40c8\",\"type\":\"SaveTool\"},{\"id\":\"5e3319b2-bf67-4753-bf78-6804a05b16c0\",\"type\":\"ResetTool\"},{\"id\":\"287edf67-5282-4143-a819-c003ca89813c\",\"type\":\"HelpTool\"}]},\"id\":\"444d1289-f10f-4dcb-ab52-badc9166ed8f\",\"type\":\"Toolbar\"},{\"attributes\":{\"source\":{\"id\":\"9f20fad7-43c4-4355-9cf4-172b7a9a707a\",\"type\":\"ColumnDataSource\"}},\"id\":\"91485c1c-4048-414a-8e1a-716757c3eb30\",\"type\":\"CDSView\"},{\"attributes\":{\"num_minor_ticks\":10},\"id\":\"4cf01e02-fb74-4a1e-a30d-653625e2cb86\",\"type\":\"LogTicker\"},{\"attributes\":{\"data_source\":{\"id\":\"9f20fad7-43c4-4355-9cf4-172b7a9a707a\",\"type\":\"ColumnDataSource\"},\"glyph\":{\"id\":\"5bd34f0f-fe81-4312-be74-d1db3bc275be\",\"type\":\"Line\"},\"hover_glyph\":null,\"muted_glyph\":null,\"nonselection_glyph\":{\"id\":\"8f7f2329-88c2-4037-b27e-ca3d7fac14af\",\"type\":\"Line\"},\"selection_glyph\":null,\"view\":{\"id\":\"91485c1c-4048-414a-8e1a-716757c3eb30\",\"type\":\"CDSView\"}},\"id\":\"b2bad83b-96a1-4385-8066-67c901fdd5e6\",\"type\":\"GlyphRenderer\"},{\"attributes\":{\"callback\":null,\"end\":0.01,\"start\":1020},\"id\":\"86b9e10f-d51e-4065-862c-c8fe17bcafe9\",\"type\":\"Range1d\"},{\"attributes\":{\"callback\":null,\"column_names\":[\"x\",\"y\"],\"data\":{\"x\":{\"__ndarray__\":\"LOZpX3MKND9Vu6pREyM2Pxt2RO9gxTo/UASSzYrPPz/9cDBVmXtCP/ypizkjIUU/m5x/uGfbRz8/LEBUl6hKP3ywKJLigE0/sZHWcW4xUD+W+X2teqFRP7k4W5WM8FI/XrLz8/RDVD+DVsmHZZpVP1JfYYSaaFo/vREjrTQOZT9TehV+kZVxP91iGfpi0Xo/ixuest85gz8KIv+KBGyKP3V97BxtlpE/ZeLk6yPRlj9UH/Teq2WbPzG/mALZuJo/BmqbXDiClT8f5KFhxE2QP+KiB/zpWIg/HNJDTMQ9gj9xEwR7iwh8P3+5izq3LHY/DXnuvwGtcT/taOHQqRRsP3e52TbELGc/rmWdbrMRZD+mNZwmMgJhP3rHmUUw3ls/XQJsFwWHWD94s770+ntXP+hR/4VPRlY/yz7Ks4ucVz++0pc0tvZmP4TGAzpp24M/s2msyqxImD9+nU2ncmOmPyyGv+cGEbE/0/toZp1ZtD+Lc5duWVi3P6z9ne3RG7s/M6PEUzR7vz/MlHsmoC7CPwLIv4Ur1sQ/m57B8Fs+xz9Xch38J6zJPyAfusHMTsw//Z55tbMazz9rq+UQaQLRPyv0h4eshdI/71iNoXPp1D8ZDyF08TPXP8429YlVJtk/ZywWlqq62j9vqM5ZVeXbP/waapBZqNw/lben1LoH3T8NB9cWfQndP9xEkPdoudw/AKrZf3Qc3D/1ovKGZiTbP0kiJKD8vNk/hCFZXdry1z+Af0qVKPvVP0vmWN5VD9Q/Fvb23zFZ0j/3QMgFqQzRP/3dtzGofNE/\",\"dtype\":\"float64\",\"shape\":[75]},\"y\":{\"__ndarray__\":\"GhExyth1ND/Sv8nbtpRIP2vylNV0PVE/aTum7souWD/At0SJ8fVgPw3Iuahxymc/MSNhhJWvcD/bTfBN02d3P2zb5nxnaoA/CD5h5MAGhz8NmeH1TyaQP+zrCsc9p5Y/LbKd76fGnz/bLW5ISEmmPww9YvTcQq8/JV2OstnstT8Er5Y7M8G+P0c+r3jqkcU/5h99k6ZBzj88bCIzFzjVP4enV8oyxN0//yH99nXg5D8qOpLLf0jtP5kqGJXUifQ/c9cS8kHP/D+/DpwzojQEQIEmwoanVwxA4lgXt9HgE0BSSZ2AJuIbQAMJih9jjiNA5q4l5INuK0AwTKYKRj0zQNv5fmq8/DpAaCJseHrtQkB/+zpwzoxKQM3MzMzMeFJAZmZmZmZqWEAAAAAAAFxeQM3MzMzMJmJAmpmZmZkfZUBmZmZmZhhoQDMzMzMzEWtAAAAAAAAKbkBmZmZmZoFwQM3MzMzM/XFAMzMzMzN6c0CamZmZmfZ0QAAAAAAAc3ZAZmZmZmbvd0DNzMzMzGt5QDMzMzMz6HpAmpmZmZlkfEAAAAAAAOF9QGZmZmZmXX9AZmZmZuZsgECamZmZGSuBQM3MzMxM6YFAAAAAAICngkAzMzMzs2WDQGZmZmbmI4RAmpmZmRnihEDNzMzMTKCFQAAAAACAXoZAMzMzM7Mch0BmZmZm5tqHQJqZmZkZmYhAzczMzExXiUAAAAAAgBWKQDMzMzOz04pAZmZmZuaRi0CamZmZGVCMQM3MzMxMDo1AAAAAAIDMjUAzMzMzs4qOQGZmZmbmSI9A\",\"dtype\":\"float64\",\"shape\":[75]}}},\"id\":\"6e459aba-f74f-4319-8b25-212a95307320\",\"type\":\"ColumnDataSource\"},{\"attributes\":{\"axis_label\":\"pressure [mb]\",\"formatter\":{\"id\":\"dcd6ed3c-c756-41ef-bed5-207a5eecc562\",\"type\":\"BasicTickFormatter\"},\"plot\":{\"id\":\"a3aca29a-fae5-49d9-bdac-0d2616cb9275\",\"subtype\":\"Figure\",\"type\":\"Plot\"},\"ticker\":{\"id\":\"c9d5fc37-4180-4fa9-8191-4824d1b82f8a\",\"type\":\"BasicTicker\"}},\"id\":\"d94fbc1a-ffb1-400d-88ae-019ff14011ab\",\"type\":\"LinearAxis\"},{\"attributes\":{\"fill_alpha\":{\"value\":0.7},\"fill_color\":{\"value\":\"#984ea3\"},\"line_alpha\":{\"value\":0.7},\"line_color\":{\"value\":\"#984ea3\"},\"x\":{\"field\":\"x\"},\"y\":{\"field\":\"y\"}},\"id\":\"4e865a00-050a-4ae5-9666-ad3e1d04ab30\",\"type\":\"Square\"},{\"attributes\":{\"fill_alpha\":{\"value\":0.1},\"fill_color\":{\"value\":\"#1f77b4\"},\"line_alpha\":{\"value\":0.1},\"line_color\":{\"value\":\"#1f77b4\"},\"x\":{\"field\":\"x\"},\"y\":{\"field\":\"y\"}},\"id\":\"fa0d9ffb-8388-40af-bf94-7cf089dfb6e9\",\"type\":\"Square\"},{\"attributes\":{},\"id\":\"29e2f74a-d385-4083-b014-c23d97d62032\",\"type\":\"BasicTicker\"},{\"attributes\":{\"dimension\":1,\"plot\":{\"id\":\"a3aca29a-fae5-49d9-bdac-0d2616cb9275\",\"subtype\":\"Figure\",\"type\":\"Plot\"},\"ticker\":{\"id\":\"c9d5fc37-4180-4fa9-8191-4824d1b82f8a\",\"type\":\"BasicTicker\"}},\"id\":\"1fa9bf2c-ab5a-4484-b329-ab9fc7ce0ed0\",\"type\":\"Grid\"},{\"attributes\":{},\"id\":\"a8256d21-04e5-45a3-a151-d6a14db33189\",\"type\":\"BasicTickFormatter\"},{\"attributes\":{\"below\":[{\"id\":\"e85911ed-5304-42de-88e2-c96e469743db\",\"type\":\"LinearAxis\"}],\"left\":[{\"id\":\"7e058896-33db-4cfe-8116-4db605cb7b4e\",\"type\":\"LogAxis\"}],\"plot_height\":500,\"plot_width\":560,\"renderers\":[{\"id\":\"e85911ed-5304-42de-88e2-c96e469743db\",\"type\":\"LinearAxis\"},{\"id\":\"851058c3-7f6d-430f-b988-b2d4b30fe036\",\"type\":\"Grid\"},{\"id\":\"7e058896-33db-4cfe-8116-4db605cb7b4e\",\"type\":\"LogAxis\"},{\"id\":\"15ac6729-980b-4513-950b-56e8e2a0e57a\",\"type\":\"Grid\"},{\"id\":\"14099855-5f49-4c19-95ad-ef9c80b53b77\",\"type\":\"BoxAnnotation\"},{\"id\":\"36c50911-0420-4ca5-8b4f-1a61c2a61f9a\",\"type\":\"GlyphRenderer\"},{\"id\":\"df019736-25bb-4f99-97a0-0bef7b6e56d9\",\"type\":\"GlyphRenderer\"},{\"id\":\"2fd62676-31ea-40af-ab6f-58f5a5a57921\",\"type\":\"GlyphRenderer\"},{\"id\":\"7665c179-c15d-4f6a-998e-b1d1c7e110af\",\"type\":\"GlyphRenderer\"},{\"id\":\"84345f0e-d5e6-41c7-83a7-36f4f77c80e7\",\"type\":\"GlyphRenderer\"},{\"id\":\"9b675f4a-7acf-4f2c-a6bd-781aaf47594f\",\"type\":\"Legend\"}],\"right\":[{\"id\":\"9b675f4a-7acf-4f2c-a6bd-781aaf47594f\",\"type\":\"Legend\"}],\"title\":{\"id\":\"496681e3-044e-41e6-ab40-feb47ffa334c\",\"type\":\"Title\"},\"toolbar\":{\"id\":\"75a99a4a-4b70-42a5-a23e-2e04ef245f54\",\"type\":\"Toolbar\"},\"toolbar_location\":null,\"x_range\":{\"id\":\"be6ee3a4-573c-477c-b822-f60f8f3773f0\",\"type\":\"Range1d\"},\"x_scale\":{\"id\":\"5548b8de-2ed0-42fc-9c5c-2132cfdfbed7\",\"type\":\"LinearScale\"},\"y_range\":{\"id\":\"86b9e10f-d51e-4065-862c-c8fe17bcafe9\",\"type\":\"Range1d\"},\"y_scale\":{\"id\":\"d85dd1ed-69cb-4877-ad1b-4a8ced065e0c\",\"type\":\"LogScale\"}},\"id\":\"62961ec5-61dc-4fd5-b902-708d96066a11\",\"subtype\":\"Figure\",\"type\":\"Plot\"},{\"attributes\":{\"axis_label\":\"cooling rate [K/day]\",\"formatter\":{\"id\":\"a8256d21-04e5-45a3-a151-d6a14db33189\",\"type\":\"BasicTickFormatter\"},\"plot\":{\"id\":\"a3aca29a-fae5-49d9-bdac-0d2616cb9275\",\"subtype\":\"Figure\",\"type\":\"Plot\"},\"ticker\":{\"id\":\"391b95ee-ac53-4a96-a27b-2834be8fdc8f\",\"type\":\"BasicTicker\"}},\"id\":\"587d0bff-cd39-4974-b79d-ca07c9c75427\",\"type\":\"LinearAxis\"},{\"attributes\":{\"line_alpha\":0.6,\"line_color\":\"#984ea3\",\"line_width\":3,\"x\":{\"field\":\"x\"},\"y\":{\"field\":\"y\"}},\"id\":\"5bd34f0f-fe81-4312-be74-d1db3bc275be\",\"type\":\"Line\"},{\"attributes\":{\"data_source\":{\"id\":\"75712e0f-2c36-4168-827a-31990a757755\",\"type\":\"ColumnDataSource\"},\"glyph\":{\"id\":\"4e865a00-050a-4ae5-9666-ad3e1d04ab30\",\"type\":\"Square\"},\"hover_glyph\":null,\"muted_glyph\":null,\"nonselection_glyph\":{\"id\":\"fa0d9ffb-8388-40af-bf94-7cf089dfb6e9\",\"type\":\"Square\"},\"selection_glyph\":null,\"view\":{\"id\":\"44e9f3bb-73ef-489c-b018-ccaf8181166f\",\"type\":\"CDSView\"}},\"id\":\"d709f512-a61c-4ecd-a4c8-ddf2b30b503c\",\"type\":\"GlyphRenderer\"},{\"attributes\":{},\"id\":\"c9d5fc37-4180-4fa9-8191-4824d1b82f8a\",\"type\":\"BasicTicker\"},{\"attributes\":{\"plot\":{\"id\":\"a3aca29a-fae5-49d9-bdac-0d2616cb9275\",\"subtype\":\"Figure\",\"type\":\"Plot\"},\"ticker\":{\"id\":\"391b95ee-ac53-4a96-a27b-2834be8fdc8f\",\"type\":\"BasicTicker\"}},\"id\":\"651c38f0-b559-40f5-90ac-c127a16c01c6\",\"type\":\"Grid\"},{\"attributes\":{},\"id\":\"391b95ee-ac53-4a96-a27b-2834be8fdc8f\",\"type\":\"BasicTicker\"},{\"attributes\":{},\"id\":\"1969cd84-8ee8-475a-8721-2c11778ca858\",\"type\":\"BasicTickFormatter\"},{\"attributes\":{},\"id\":\"dcd6ed3c-c756-41ef-bed5-207a5eecc562\",\"type\":\"BasicTickFormatter\"},{\"attributes\":{},\"id\":\"f828e475-8e22-4f42-8c90-2feb275b147b\",\"type\":\"SaveTool\"},{\"attributes\":{\"source\":{\"id\":\"cac238c4-df48-4e42-b92a-19fa051ae5f4\",\"type\":\"ColumnDataSource\"}},\"id\":\"100d313b-894e-457a-9732-f51500acd1d6\",\"type\":\"CDSView\"},{\"attributes\":{\"line_alpha\":0.1,\"line_color\":\"#1f77b4\",\"line_dash\":[6],\"line_width\":5,\"x\":{\"field\":\"x\"},\"y\":{\"field\":\"y\"}},\"id\":\"3b5bbd19-e383-4774-9b31-f63b3f303892\",\"type\":\"Line\"},{\"attributes\":{\"children\":[{\"id\":\"a3aca29a-fae5-49d9-bdac-0d2616cb9275\",\"subtype\":\"Figure\",\"type\":\"Plot\"},{\"id\":\"62961ec5-61dc-4fd5-b902-708d96066a11\",\"subtype\":\"Figure\",\"type\":\"Plot\"}]},\"id\":\"27a14837-f8f1-4d9e-8b16-768665f6ffae\",\"type\":\"Row\"},{\"attributes\":{},\"id\":\"d239a4be-e08b-4ab4-b1d9-752a4e500e07\",\"type\":\"WheelZoomTool\"},{\"attributes\":{\"bottom_units\":\"screen\",\"fill_alpha\":{\"value\":0.5},\"fill_color\":{\"value\":\"lightgrey\"},\"left_units\":\"screen\",\"level\":\"overlay\",\"line_alpha\":{\"value\":1.0},\"line_color\":{\"value\":\"black\"},\"line_dash\":[4,4],\"line_width\":{\"value\":2},\"plot\":null,\"render_mode\":\"css\",\"right_units\":\"screen\",\"top_units\":\"screen\"},\"id\":\"14099855-5f49-4c19-95ad-ef9c80b53b77\",\"type\":\"BoxAnnotation\"},{\"attributes\":{\"children\":[{\"id\":\"27a14837-f8f1-4d9e-8b16-768665f6ffae\",\"type\":\"Row\"}]},\"id\":\"9770a8db-166d-406d-a67f-fa3550a73299\",\"type\":\"Column\"},{\"attributes\":{\"callback\":null,\"column_names\":[\"x\",\"y\"],\"data\":{\"x\":{\"__ndarray__\":\"dpcYUicmRz9saZvwqutHPy1eHNLLLko/+zmhZ1J/TD/Xr7x6lNpOPwmspifIoVA/MhDDhwTeUT/TFpOSMCBTP2OJUY8palQ/cZsYrui4VT8puCs+vQ5XP+OTMapDaFg/2llnyRLHWT/5SCJpKz5bPxhneuu24l8/fcO72tUdZz9YC+FR2eJxP7Zckao6I3o/UB4wLBNHgj+aQlTSpMOIP+w942IPZJA/jCMgcG5dlT/uyghRueeZPyRtutAi/Jk/M5gkbsztlT86LcZgyGGRPxycRmKbt4o/5I49ju0UhD//TwDwSO99P9ZJ1hEiQXY/5iDaYk1ZcD/xbqvwFcNnP+4w3ZTI/2E/Nvk39esRXT/FrW7r4WFXPxJCvDzBqFI/sw4wu3OdUD9ZkWE4Ul5QPxqmRaR+A1A/dJXlYWWYUT9fbqoIVJNhP8i/bEWW4X8/34ZQWdjJlD+7XiMUHt6jP/9KrxlVkK4/CFUU9ofCsj/rp3EC4hS2P4DPF5TMXrk/PLwIz1unvD8qQdpaul3AP1lD80qjE8M/oiuufUPZxT9uWkKhEpXIP6fbZQELR8s/IAn7dhIRzj8wr0yNCnvQP8NRC4i9DtI/G1kB13id1D8Y3ll50TDXP+4X/bLFf9k/Fhx3rTFm2z8HXm+TOMjcP2iIdIk0u90/G2UedUtd3j8F9MoOVLreP5nigTO+0N4/AYzCiUOR3j9LAlgNV8HdPwDFp4RQM9w/aBhnodf+2T9L4jDBPnTXPxxiF6DI7tQ/fZ+Bw9G20j+QNFWDchPRPzBNbJlnQNE/\",\"dtype\":\"float64\",\"shape\":[75]},\"y\":{\"__ndarray__\":\"S/O/Q+51ND/Sv8nbtpRIP2vylNV0PVE/aTum7souWD/At0SJ8fVgPw3Iuahxymc/MSNhhJWvcD/bTfBN02d3P2zb5nxnaoA/CD5h5MAGhz8NmeH1TyaQP+zrCsc9p5Y/LbKd76fGnz/bLW5ISEmmPww9YvTcQq8/JV2OstnstT8Er5Y7M8G+P0c+r3jqkcU/5h99k6ZBzj88bCIzFzjVP4enV8oyxN0//yH99nXg5D8qOpLLf0jtP5kqGJXUifQ/c9cS8kHP/D+/DpwzojQEQIEmwoanVwxA4lgXt9HgE0BSSZ2AJuIbQAMJih9jjiNA5q4l5INuK0AwTKYKRj0zQNv5fmq8/DpAaCJseHrtQkB/+zpwzoxKQM3MzMzMeFJAZmZmZmZqWEAAAAAAAFxeQM3MzMzMJmJAmpmZmZkfZUBmZmZmZhhoQDMzMzMzEWtAAAAAAAAKbkBmZmZmZoFwQM3MzMzM/XFAMzMzMzN6c0CamZmZmfZ0QAAAAAAAc3ZAZmZmZmbvd0DNzMzMzGt5QDMzMzMz6HpAmpmZmZlkfEAAAAAAAOF9QGZmZmZmXX9AZmZmZuZsgECamZmZGSuBQM3MzMxM6YFAAAAAAICngkAzMzMzs2WDQGZmZmbmI4RAmpmZmRnihEDNzMzMTKCFQAAAAACAXoZAMzMzM7Mch0BmZmZm5tqHQJqZmZkZmYhAzczMzExXiUAAAAAAgBWKQDMzMzOz04pAZmZmZuaRi0CamZmZGVCMQM3MzMxMDo1AAAAAAIDMjUAzMzMzs4qOQGZmZmbmSI9A\",\"dtype\":\"float64\",\"shape\":[75]}}},\"id\":\"cac238c4-df48-4e42-b92a-19fa051ae5f4\",\"type\":\"ColumnDataSource\"},{\"attributes\":{\"data_source\":{\"id\":\"cac238c4-df48-4e42-b92a-19fa051ae5f4\",\"type\":\"ColumnDataSource\"},\"glyph\":{\"id\":\"0c51835a-1855-4bd6-8cec-a1c433ac83ee\",\"type\":\"Line\"},\"hover_glyph\":null,\"muted_glyph\":null,\"nonselection_glyph\":{\"id\":\"5f567d2f-5a32-4bee-9efa-417b170005aa\",\"type\":\"Line\"},\"selection_glyph\":null,\"view\":{\"id\":\"100d313b-894e-457a-9732-f51500acd1d6\",\"type\":\"CDSView\"}},\"id\":\"36c50911-0420-4ca5-8b4f-1a61c2a61f9a\",\"type\":\"GlyphRenderer\"},{\"attributes\":{},\"id\":\"731079dc-adab-4d32-bd50-0bed5c995dea\",\"type\":\"HelpTool\"},{\"attributes\":{\"line_alpha\":0.6,\"line_color\":\"#e41a1c\",\"line_dash\":[6],\"line_width\":5,\"x\":{\"field\":\"x\"},\"y\":{\"field\":\"y\"}},\"id\":\"0c51835a-1855-4bd6-8cec-a1c433ac83ee\",\"type\":\"Line\"},{\"attributes\":{\"tools\":[{\"id\":\"dd432d19-d0fd-449d-a792-595f74bff479\",\"type\":\"PanTool\"},{\"id\":\"4d96d16a-ecc1-48b9-9548-a98aab6f41cd\",\"type\":\"WheelZoomTool\"},{\"id\":\"2056980a-d7ef-4053-b82a-8c08a13dc27e\",\"type\":\"BoxZoomTool\"},{\"id\":\"0816d2ce-c7b1-41d7-9da6-13b9e06c40c8\",\"type\":\"SaveTool\"},{\"id\":\"5e3319b2-bf67-4753-bf78-6804a05b16c0\",\"type\":\"ResetTool\"},{\"id\":\"287edf67-5282-4143-a819-c003ca89813c\",\"type\":\"HelpTool\"},{\"id\":\"02d162ca-abe8-4ea3-aaa8-9e808ecb2a81\",\"type\":\"PanTool\"},{\"id\":\"d239a4be-e08b-4ab4-b1d9-752a4e500e07\",\"type\":\"WheelZoomTool\"},{\"id\":\"e1f4cc16-d084-4e49-86e1-8ad8b68c7070\",\"type\":\"BoxZoomTool\"},{\"id\":\"f828e475-8e22-4f42-8c90-2feb275b147b\",\"type\":\"SaveTool\"},{\"id\":\"5f9b2b39-1d82-4e56-9093-8573f6e3bd92\",\"type\":\"ResetTool\"},{\"id\":\"731079dc-adab-4d32-bd50-0bed5c995dea\",\"type\":\"HelpTool\"}]},\"id\":\"a456c305-5812-4da4-9f2e-d26688568be9\",\"type\":\"ProxyToolbar\"},{\"attributes\":{\"items\":[{\"id\":\"bcf19222-2549-41d7-ba76-c7f3ac25a1d6\",\"type\":\"LegendItem\"},{\"id\":\"46c6892d-7c84-40fa-852f-8db4ce008d9b\",\"type\":\"LegendItem\"},{\"id\":\"0608e7ec-0908-48b5-966f-ae3b8ecea8fc\",\"type\":\"LegendItem\"}],\"label_text_font_size\":{\"value\":\"8pt\"},\"location\":[10,-30],\"plot\":{\"id\":\"62961ec5-61dc-4fd5-b902-708d96066a11\",\"subtype\":\"Figure\",\"type\":\"Plot\"}},\"id\":\"9b675f4a-7acf-4f2c-a6bd-781aaf47594f\",\"type\":\"Legend\"},{\"attributes\":{\"source\":{\"id\":\"0a964139-5ff5-4507-9623-dc77726291e9\",\"type\":\"ColumnDataSource\"}},\"id\":\"dc9edec5-463b-40e9-9ec7-bcaf819b7923\",\"type\":\"CDSView\"},{\"attributes\":{},\"id\":\"d85dd1ed-69cb-4877-ad1b-4a8ced065e0c\",\"type\":\"LogScale\"},{\"attributes\":{\"overlay\":{\"id\":\"14099855-5f49-4c19-95ad-ef9c80b53b77\",\"type\":\"BoxAnnotation\"}},\"id\":\"e1f4cc16-d084-4e49-86e1-8ad8b68c7070\",\"type\":\"BoxZoomTool\"},{\"attributes\":{\"callback\":null,\"column_names\":[\"x\",\"y\"],\"data\":{\"x\":{\"__ndarray__\":\"LOZpX3MKND9Vu6pREyM2Pxt2RO9gxTo/UASSzYrPPz/9cDBVmXtCP/ypizkjIUU/m5x/uGfbRz8/LEBUl6hKP3ywKJLigE0/sZHWcW4xUD+W+X2teqFRP7k4W5WM8FI/XrLz8/RDVD+DVsmHZZpVP1JfYYSaaFo/vREjrTQOZT9TehV+kZVxP91iGfpi0Xo/ixuest85gz8KIv+KBGyKP3V97BxtlpE/ZeLk6yPRlj9UH/Teq2WbPzG/mALZuJo/BmqbXDiClT8f5KFhxE2QP+KiB/zpWIg/HNJDTMQ9gj9xEwR7iwh8P3+5izq3LHY/DXnuvwGtcT/taOHQqRRsP3e52TbELGc/rmWdbrMRZD+mNZwmMgJhP3rHmUUw3ls/XQJsFwWHWD94s770+ntXP+hR/4VPRlY/yz7Ks4ucVz++0pc0tvZmP4TGAzpp24M/s2msyqxImD9+nU2ncmOmPyyGv+cGEbE/0/toZp1ZtD+Lc5duWVi3P6z9ne3RG7s/M6PEUzR7vz/MlHsmoC7CPwLIv4Ur1sQ/m57B8Fs+xz9Xch38J6zJPyAfusHMTsw//Z55tbMazz9rq+UQaQLRPyv0h4eshdI/71iNoXPp1D8ZDyF08TPXP8429YlVJtk/ZywWlqq62j9vqM5ZVeXbP/waapBZqNw/lben1LoH3T8NB9cWfQndP9xEkPdoudw/AKrZf3Qc3D/1ovKGZiTbP0kiJKD8vNk/hCFZXdry1z+Af0qVKPvVP0vmWN5VD9Q/Fvb23zFZ0j/3QMgFqQzRP/3dtzGofNE/\",\"dtype\":\"float64\",\"shape\":[75]},\"y\":{\"__ndarray__\":\"GhExyth1ND/Sv8nbtpRIP2vylNV0PVE/aTum7souWD/At0SJ8fVgPw3Iuahxymc/MSNhhJWvcD/bTfBN02d3P2zb5nxnaoA/CD5h5MAGhz8NmeH1TyaQP+zrCsc9p5Y/LbKd76fGnz/bLW5ISEmmPww9YvTcQq8/JV2OstnstT8Er5Y7M8G+P0c+r3jqkcU/5h99k6ZBzj88bCIzFzjVP4enV8oyxN0//yH99nXg5D8qOpLLf0jtP5kqGJXUifQ/c9cS8kHP/D+/DpwzojQEQIEmwoanVwxA4lgXt9HgE0BSSZ2AJuIbQAMJih9jjiNA5q4l5INuK0AwTKYKRj0zQNv5fmq8/DpAaCJseHrtQkB/+zpwzoxKQM3MzMzMeFJAZmZmZmZqWEAAAAAAAFxeQM3MzMzMJmJAmpmZmZkfZUBmZmZmZhhoQDMzMzMzEWtAAAAAAAAKbkBmZmZmZoFwQM3MzMzM/XFAMzMzMzN6c0CamZmZmfZ0QAAAAAAAc3ZAZmZmZmbvd0DNzMzMzGt5QDMzMzMz6HpAmpmZmZlkfEAAAAAAAOF9QGZmZmZmXX9AZmZmZuZsgECamZmZGSuBQM3MzMxM6YFAAAAAAICngkAzMzMzs2WDQGZmZmbmI4RAmpmZmRnihEDNzMzMTKCFQAAAAACAXoZAMzMzM7Mch0BmZmZm5tqHQJqZmZkZmYhAzczMzExXiUAAAAAAgBWKQDMzMzOz04pAZmZmZuaRi0CamZmZGVCMQM3MzMxMDo1AAAAAAIDMjUAzMzMzs4qOQGZmZmbmSI9A\",\"dtype\":\"float64\",\"shape\":[75]}}},\"id\":\"1ac147e2-a403-4f59-9e7f-55122dedc227\",\"type\":\"ColumnDataSource\"},{\"attributes\":{\"fill_alpha\":{\"value\":0.7},\"fill_color\":{\"value\":\"#4daf4a\"},\"line_alpha\":{\"value\":0.7},\"line_color\":{\"value\":\"#4daf4a\"},\"x\":{\"field\":\"x\"},\"y\":{\"field\":\"y\"}},\"id\":\"168f8bdd-e74b-4372-83b5-2068ebadb77d\",\"type\":\"Circle\"},{\"attributes\":{},\"id\":\"02d162ca-abe8-4ea3-aaa8-9e808ecb2a81\",\"type\":\"PanTool\"},{\"attributes\":{\"label\":{\"value\":\"CLIRAD `coolr_bands`\"},\"renderers\":[{\"id\":\"36c50911-0420-4ca5-8b4f-1a61c2a61f9a\",\"type\":\"GlyphRenderer\"}]},\"id\":\"bcf19222-2549-41d7-ba76-c7f3ac25a1d6\",\"type\":\"LegendItem\"},{\"attributes\":{\"line_alpha\":0.6,\"line_color\":\"#e41a1c\",\"line_dash\":[6],\"line_width\":5,\"x\":{\"field\":\"x\"},\"y\":{\"field\":\"y\"}},\"id\":\"fa6d7815-57f0-4785-b531-2a07227ebba3\",\"type\":\"Line\"},{\"attributes\":{},\"id\":\"5f9b2b39-1d82-4e56-9093-8573f6e3bd92\",\"type\":\"ResetTool\"},{\"attributes\":{\"line_alpha\":0.1,\"line_color\":\"#1f77b4\",\"line_dash\":[6],\"line_width\":5,\"x\":{\"field\":\"x\"},\"y\":{\"field\":\"y\"}},\"id\":\"5f567d2f-5a32-4bee-9efa-417b170005aa\",\"type\":\"Line\"}],\"root_ids\":[\"e84ed881-e1dd-46e2-9da9-b25458c89a33\"]},\"title\":\"Bokeh Application\",\"version\":\"0.12.14\"}};\n",
       "  var render_items = [{\"docid\":\"51e5c6c4-42f0-4b3c-b938-df6bb4b98eb0\",\"elementid\":\"1c226585-9f2d-4351-bf52-a2fda1244c88\",\"modelid\":\"e84ed881-e1dd-46e2-9da9-b25458c89a33\"}];\n",
       "  root.Bokeh.embed.embed_items_notebook(docs_json, render_items);\n",
       "\n",
       "  }\n",
       "  if (root.Bokeh !== undefined) {\n",
       "    embed_document(root);\n",
       "  } else {\n",
       "    var attempts = 0;\n",
       "    var timer = setInterval(function(root) {\n",
       "      if (root.Bokeh !== undefined) {\n",
       "        embed_document(root);\n",
       "        clearInterval(timer);\n",
       "      }\n",
       "      attempts++;\n",
       "      if (attempts > 100) {\n",
       "        console.log(\"Bokeh: ERROR: Unable to run BokehJS code because BokehJS library is missing\")\n",
       "        clearInterval(timer);\n",
       "      }\n",
       "    }, 10, root)\n",
       "  }\n",
       "})(window);"
      ],
      "application/vnd.bokehjs_exec.v0+json": ""
     },
     "metadata": {
      "application/vnd.bokehjs_exec.v0+json": {
       "id": "e84ed881-e1dd-46e2-9da9-b25458c89a33"
      }
     },
     "output_type": "display_data"
    },
    {
     "name": "stdout",
     "output_type": "stream",
     "text": [
      "FIGURE. Cooling rate profiles.\n"
     ]
    },
    {
     "data": {
      "text/html": [
       "<a id=\"Flux_Comparison\"></a>"
      ],
      "text/plain": [
       "<IPython.core.display.HTML object>"
      ]
     },
     "metadata": {},
     "output_type": "display_data"
    },
    {
     "data": {
      "text/markdown": [
       "# Flux Comparison"
      ],
      "text/plain": [
       "<IPython.core.display.Markdown object>"
      ]
     },
     "metadata": {},
     "output_type": "display_data"
    },
    {
     "data": {
      "text/html": [
       "<div>\n",
       "<style>\n",
       "    .dataframe thead tr:only-child th {\n",
       "        text-align: right;\n",
       "    }\n",
       "\n",
       "    .dataframe thead th {\n",
       "        text-align: left;\n",
       "    }\n",
       "\n",
       "    .dataframe tbody tr th {\n",
       "        vertical-align: top;\n",
       "    }\n",
       "</style>\n",
       "<table border=\"1\" class=\"dataframe\">\n",
       "  <thead>\n",
       "    <tr style=\"text-align: right;\">\n",
       "      <th></th>\n",
       "      <th></th>\n",
       "      <th>flug</th>\n",
       "      <th>fldg</th>\n",
       "      <th>fnetg</th>\n",
       "    </tr>\n",
       "    <tr>\n",
       "      <th>pressure</th>\n",
       "      <th>level</th>\n",
       "      <th></th>\n",
       "      <th></th>\n",
       "      <th></th>\n",
       "    </tr>\n",
       "  </thead>\n",
       "  <tbody>\n",
       "    <tr>\n",
       "      <th>0.0000</th>\n",
       "      <th>1</th>\n",
       "      <td>-29.470174</td>\n",
       "      <td>0.000000</td>\n",
       "      <td>-29.470174</td>\n",
       "    </tr>\n",
       "    <tr>\n",
       "      <th>1.0685</th>\n",
       "      <th>24</th>\n",
       "      <td>-29.469816</td>\n",
       "      <td>0.001700</td>\n",
       "      <td>-29.468116</td>\n",
       "    </tr>\n",
       "    <tr>\n",
       "      <th>1013.0000</th>\n",
       "      <th>76</th>\n",
       "      <td>-36.235408</td>\n",
       "      <td>32.496542</td>\n",
       "      <td>-3.738867</td>\n",
       "    </tr>\n",
       "  </tbody>\n",
       "</table>\n",
       "</div>"
      ],
      "text/plain": [
       "                      flug       fldg      fnetg\n",
       "pressure  level                                 \n",
       "0.0000    1     -29.470174   0.000000 -29.470174\n",
       "1.0685    24    -29.469816   0.001700 -29.468116\n",
       "1013.0000 76    -36.235408  32.496542  -3.738867"
      ]
     },
     "metadata": {},
     "output_type": "display_data"
    },
    {
     "name": "stdout",
     "output_type": "stream",
     "text": [
      "Table. Fluxes. WGT igg=10 wgt_flux=1\n"
     ]
    },
    {
     "data": {
      "text/html": [
       "<div>\n",
       "<style>\n",
       "    .dataframe thead tr:only-child th {\n",
       "        text-align: right;\n",
       "    }\n",
       "\n",
       "    .dataframe thead th {\n",
       "        text-align: left;\n",
       "    }\n",
       "\n",
       "    .dataframe tbody tr th {\n",
       "        vertical-align: top;\n",
       "    }\n",
       "</style>\n",
       "<table border=\"1\" class=\"dataframe\">\n",
       "  <thead>\n",
       "    <tr style=\"text-align: right;\">\n",
       "      <th></th>\n",
       "      <th></th>\n",
       "      <th>flug</th>\n",
       "      <th>fldg</th>\n",
       "      <th>fnetg</th>\n",
       "    </tr>\n",
       "    <tr>\n",
       "      <th>pressure</th>\n",
       "      <th>level</th>\n",
       "      <th></th>\n",
       "      <th></th>\n",
       "      <th></th>\n",
       "    </tr>\n",
       "  </thead>\n",
       "  <tbody>\n",
       "    <tr>\n",
       "      <th>0.0000</th>\n",
       "      <th>1</th>\n",
       "      <td>-29.471371</td>\n",
       "      <td>0.000000</td>\n",
       "      <td>-29.471371</td>\n",
       "    </tr>\n",
       "    <tr>\n",
       "      <th>1.0685</th>\n",
       "      <th>24</th>\n",
       "      <td>-29.471083</td>\n",
       "      <td>0.001921</td>\n",
       "      <td>-29.469162</td>\n",
       "    </tr>\n",
       "    <tr>\n",
       "      <th>1013.0000</th>\n",
       "      <th>76</th>\n",
       "      <td>-36.235408</td>\n",
       "      <td>32.486003</td>\n",
       "      <td>-3.749405</td>\n",
       "    </tr>\n",
       "  </tbody>\n",
       "</table>\n",
       "</div>"
      ],
      "text/plain": [
       "                      flug       fldg      fnetg\n",
       "pressure  level                                 \n",
       "0.0000    1     -29.471371   0.000000 -29.471371\n",
       "1.0685    24    -29.471083   0.001921 -29.469162\n",
       "1013.0000 76    -36.235408  32.486003  -3.749405"
      ]
     },
     "metadata": {},
     "output_type": "display_data"
    },
    {
     "name": "stdout",
     "output_type": "stream",
     "text": [
      "Table. Fluxes. CRD\n"
     ]
    },
    {
     "data": {
      "text/html": [
       "<div>\n",
       "<style>\n",
       "    .dataframe thead tr:only-child th {\n",
       "        text-align: right;\n",
       "    }\n",
       "\n",
       "    .dataframe thead th {\n",
       "        text-align: left;\n",
       "    }\n",
       "\n",
       "    .dataframe tbody tr th {\n",
       "        vertical-align: top;\n",
       "    }\n",
       "</style>\n",
       "<table border=\"1\" class=\"dataframe\">\n",
       "  <thead>\n",
       "    <tr style=\"text-align: right;\">\n",
       "      <th></th>\n",
       "      <th></th>\n",
       "      <th>flug</th>\n",
       "      <th>fldg</th>\n",
       "      <th>fnetg</th>\n",
       "    </tr>\n",
       "    <tr>\n",
       "      <th>pressure</th>\n",
       "      <th>level</th>\n",
       "      <th></th>\n",
       "      <th></th>\n",
       "      <th></th>\n",
       "    </tr>\n",
       "  </thead>\n",
       "  <tbody>\n",
       "    <tr>\n",
       "      <th>1.000000e-08</th>\n",
       "      <th>1</th>\n",
       "      <td>-29.569379</td>\n",
       "      <td>0.000002</td>\n",
       "      <td>-29.569378</td>\n",
       "    </tr>\n",
       "    <tr>\n",
       "      <th>1.068500e+00</th>\n",
       "      <th>24</th>\n",
       "      <td>-29.568971</td>\n",
       "      <td>0.001678</td>\n",
       "      <td>-29.567292</td>\n",
       "    </tr>\n",
       "    <tr>\n",
       "      <th>1.013000e+03</th>\n",
       "      <th>76</th>\n",
       "      <td>-36.235410</td>\n",
       "      <td>32.900975</td>\n",
       "      <td>-3.334435</td>\n",
       "    </tr>\n",
       "  </tbody>\n",
       "</table>\n",
       "</div>"
      ],
      "text/plain": [
       "                         flug       fldg      fnetg\n",
       "pressure     level                                 \n",
       "1.000000e-08 1     -29.569379   0.000002 -29.569378\n",
       "1.068500e+00 24    -29.568971   0.001678 -29.567292\n",
       "1.013000e+03 76    -36.235410  32.900975  -3.334435"
      ]
     },
     "metadata": {},
     "output_type": "display_data"
    },
    {
     "name": "stdout",
     "output_type": "stream",
     "text": [
      "Table. Fluxes. CLIRAD\n"
     ]
    },
    {
     "data": {
      "text/html": [
       "<div>\n",
       "<style>\n",
       "    .dataframe thead tr:only-child th {\n",
       "        text-align: right;\n",
       "    }\n",
       "\n",
       "    .dataframe thead th {\n",
       "        text-align: left;\n",
       "    }\n",
       "\n",
       "    .dataframe tbody tr th {\n",
       "        vertical-align: top;\n",
       "    }\n",
       "</style>\n",
       "<table border=\"1\" class=\"dataframe\">\n",
       "  <thead>\n",
       "    <tr style=\"text-align: right;\">\n",
       "      <th></th>\n",
       "      <th></th>\n",
       "      <th>flug</th>\n",
       "      <th>fldg</th>\n",
       "      <th>fnetg</th>\n",
       "    </tr>\n",
       "    <tr>\n",
       "      <th>pressure</th>\n",
       "      <th>level</th>\n",
       "      <th></th>\n",
       "      <th></th>\n",
       "      <th></th>\n",
       "    </tr>\n",
       "  </thead>\n",
       "  <tbody>\n",
       "    <tr>\n",
       "      <th>0.0000</th>\n",
       "      <th>1</th>\n",
       "      <td>-1.197008e-03</td>\n",
       "      <td>0.000000</td>\n",
       "      <td>-0.001197</td>\n",
       "    </tr>\n",
       "    <tr>\n",
       "      <th>1.0685</th>\n",
       "      <th>24</th>\n",
       "      <td>-1.267342e-03</td>\n",
       "      <td>0.000221</td>\n",
       "      <td>-0.001046</td>\n",
       "    </tr>\n",
       "    <tr>\n",
       "      <th>1013.0000</th>\n",
       "      <th>76</th>\n",
       "      <td>8.700000e-08</td>\n",
       "      <td>-0.010539</td>\n",
       "      <td>-0.010539</td>\n",
       "    </tr>\n",
       "  </tbody>\n",
       "</table>\n",
       "</div>"
      ],
      "text/plain": [
       "                         flug      fldg     fnetg\n",
       "pressure  level                                  \n",
       "0.0000    1     -1.197008e-03  0.000000 -0.001197\n",
       "1.0685    24    -1.267342e-03  0.000221 -0.001046\n",
       "1013.0000 76     8.700000e-08 -0.010539 -0.010539"
      ]
     },
     "metadata": {},
     "output_type": "display_data"
    },
    {
     "name": "stdout",
     "output_type": "stream",
     "text": [
      "Table. Fluxes. (CRD) - (WGT igg=10 wgt_flux=1)\n"
     ]
    },
    {
     "data": {
      "text/html": [
       "<div>\n",
       "<style>\n",
       "    .dataframe thead tr:only-child th {\n",
       "        text-align: right;\n",
       "    }\n",
       "\n",
       "    .dataframe thead th {\n",
       "        text-align: left;\n",
       "    }\n",
       "\n",
       "    .dataframe tbody tr th {\n",
       "        vertical-align: top;\n",
       "    }\n",
       "</style>\n",
       "<table border=\"1\" class=\"dataframe\">\n",
       "  <thead>\n",
       "    <tr style=\"text-align: right;\">\n",
       "      <th></th>\n",
       "      <th></th>\n",
       "      <th>flug</th>\n",
       "      <th>fldg</th>\n",
       "      <th>fnetg</th>\n",
       "    </tr>\n",
       "    <tr>\n",
       "      <th>pressure</th>\n",
       "      <th>level</th>\n",
       "      <th></th>\n",
       "      <th></th>\n",
       "      <th></th>\n",
       "    </tr>\n",
       "  </thead>\n",
       "  <tbody>\n",
       "    <tr>\n",
       "      <th>0.0000</th>\n",
       "      <th>1</th>\n",
       "      <td>-0.099205</td>\n",
       "      <td>0.000002</td>\n",
       "      <td>-0.099204</td>\n",
       "    </tr>\n",
       "    <tr>\n",
       "      <th>1.0685</th>\n",
       "      <th>24</th>\n",
       "      <td>-0.099155</td>\n",
       "      <td>-0.000021</td>\n",
       "      <td>-0.099176</td>\n",
       "    </tr>\n",
       "    <tr>\n",
       "      <th>1013.0000</th>\n",
       "      <th>76</th>\n",
       "      <td>-0.000002</td>\n",
       "      <td>0.404433</td>\n",
       "      <td>0.404431</td>\n",
       "    </tr>\n",
       "  </tbody>\n",
       "</table>\n",
       "</div>"
      ],
      "text/plain": [
       "                     flug      fldg     fnetg\n",
       "pressure  level                              \n",
       "0.0000    1     -0.099205  0.000002 -0.099204\n",
       "1.0685    24    -0.099155 -0.000021 -0.099176\n",
       "1013.0000 76    -0.000002  0.404433  0.404431"
      ]
     },
     "metadata": {},
     "output_type": "display_data"
    },
    {
     "name": "stdout",
     "output_type": "stream",
     "text": [
      "Table. Fluxes. (CLIRAD) - (WGT igg=10 wgt_flux=1)\n"
     ]
    },
    {
     "data": {
      "text/html": [
       "<a id=\"Best-fit_Parameters\"></a>"
      ],
      "text/plain": [
       "<IPython.core.display.HTML object>"
      ]
     },
     "metadata": {},
     "output_type": "display_data"
    },
    {
     "data": {
      "text/markdown": [
       "# Best-fit Parameters"
      ],
      "text/plain": [
       "<IPython.core.display.Markdown object>"
      ]
     },
     "metadata": {},
     "output_type": "display_data"
    },
    {
     "name": "stdout",
     "output_type": "stream",
     "text": [
      "Best-fit values for each (gas, band)\n",
      "------------------------------------\n",
      "o h2o band3a\n",
      "  atmpro = mls\n",
      "  band = 3a\n",
      "  commitnumber = a06b618\n",
      "  conc = None\n",
      "  dv = 0.001\n",
      "  klin = 0\n",
      "  molecule = h2o\n",
      "  ng_adju = [0, 0]\n",
      "  ng_refs = [2, 6]\n",
      "  nv = 1000\n",
      "  option_compute_btable = 0\n",
      "  option_compute_ktable = 1\n",
      "  option_wgt_flux = 1\n",
      "  option_wgt_k = 1\n",
      "  ref_pts = [(10, 250), (600, 250)]\n",
      "  tsfc = 294\n",
      "  vmax = 620\n",
      "  vmin = 540\n",
      "  w_diffuse = [(1.9, 1.7), (1.4, 1.4, 1.4, 1.55, 1.6, 1.66)]\n",
      "  wgt = [(0.7, 0.7), (0.7, 0.5, 0.5, 0.5, 0.5, 0.5)]\n"
     ]
    }
   ],
   "source": [
    "script()"
   ]
  },
  {
   "cell_type": "code",
   "execution_count": 13,
   "metadata": {
    "collapsed": true
   },
   "outputs": [
    {
     "data": {
      "text/html": [
       "<script>\n",
       "code_show=true; \n",
       "function code_toggle() {\n",
       " if (code_show){\n",
       " $('div.input').hide();\n",
       " } else {\n",
       " $('div.input').show();\n",
       " }\n",
       " code_show = !code_show\n",
       "} \n",
       "$( document ).ready(code_toggle);\n",
       "</script>\n",
       "<form action=\"javascript:code_toggle()\"><input type=\"submit\" value=\"Click here to toggle on/off the raw code.\"></form>"
      ],
      "text/plain": [
       "<IPython.core.display.HTML object>"
      ]
     },
     "execution_count": 13,
     "metadata": {},
     "output_type": "execute_result"
    }
   ],
   "source": [
    "display.HTML('''<script>\n",
    "code_show=true; \n",
    "function code_toggle() {\n",
    " if (code_show){\n",
    " $('div.input').hide();\n",
    " } else {\n",
    " $('div.input').show();\n",
    " }\n",
    " code_show = !code_show\n",
    "} \n",
    "$( document ).ready(code_toggle);\n",
    "</script>\n",
    "<form action=\"javascript:code_toggle()\"><input type=\"submit\" value=\"Click here to toggle on/off the raw code.\"></form>''')"
   ]
  }
 ],
 "metadata": {
  "kernelspec": {
   "display_name": "Python 3",
   "language": "python",
   "name": "python3"
  },
  "language_info": {
   "codemirror_mode": {
    "name": "ipython",
    "version": 3
   },
   "file_extension": ".py",
   "mimetype": "text/x-python",
   "name": "python",
   "nbconvert_exporter": "python",
   "pygments_lexer": "ipython3",
   "version": "3.6.1"
  }
 },
 "nbformat": 4,
 "nbformat_minor": 2
}
