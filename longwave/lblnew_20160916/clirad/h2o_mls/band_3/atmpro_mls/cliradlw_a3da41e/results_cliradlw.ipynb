{
 "cells": [
  {
   "cell_type": "code",
   "execution_count": 1,
   "metadata": {
    "collapsed": true
   },
   "outputs": [],
   "source": [
    "%matplotlib inline\n",
    "import os\n",
    "import re\n",
    "import io\n",
    "import itertools\n",
    "import pprint\n",
    "\n",
    "from bokeh.io import output_notebook, show\n",
    "from bokeh.layouts import gridplot\n",
    "from bokeh.plotting import figure\n",
    "from bokeh.models import Range1d, Legend\n",
    "from bokeh.palettes import all_palettes\n",
    "\n",
    "import matplotlib\n",
    "import matplotlib.pyplot as plt\n",
    "import numpy as np\n",
    "import pandas as pd\n",
    "import xarray as xr\n",
    "\n",
    "import climatools.lblnew.bestfit_params as bestfits\n",
    "from climatools.lblnew import setup_bestfit, setup_overlap\n",
    "import climatools.lblnew.pipeline as pipe_lblnew\n",
    "import climatools.cliradlw.setup as setup_cliradlw\n",
    "import climatools.cliradlw.pipeline as pipe_cliradlw\n",
    "\n",
    "import climatools.html.html as climahtml\n",
    "from climatools.lblnew.dataio import *\n",
    "from climatools.plot.plot import *\n",
    "\n",
    "\n",
    "import IPython.display as display"
   ]
  },
  {
   "cell_type": "code",
   "execution_count": 2,
   "metadata": {
    "collapsed": true
   },
   "outputs": [],
   "source": [
    "%run param.py"
   ]
  },
  {
   "cell_type": "code",
   "execution_count": 3,
   "metadata": {
    "collapsed": true
   },
   "outputs": [],
   "source": [
    "def load_output_file(path_csv):\n",
    "    '''\n",
    "    Load lblnew output .csv file to xarray.Dataset\n",
    "    \n",
    "    Parameters\n",
    "    ----------\n",
    "    path_csv: str\n",
    "              Path to the .csv file to be loaded.\n",
    "    ds: xarray.Dataset\n",
    "        Data in the input file in the form of an xarray.Dataset.\n",
    "    '''\n",
    "    toindex = ['band', 'pressure', 'igg', 'g']    \n",
    "    df = pd.read_csv(path_csv, sep=r'\\s+')\n",
    "    df = df.set_index([i for i in toindex if i in df.columns])\n",
    "    df = df.rename(columns={'sfu': 'flug',\n",
    "                            'sfd': 'fldg',\n",
    "                            'fnet': 'fnetg',\n",
    "                            'coolr': 'coolrg'})\n",
    "    ds = xr.Dataset.from_dataframe(df)\n",
    "\n",
    "    for l in ('level', 'layer'):\n",
    "        if l in ds.data_vars:\n",
    "            if len(ds[l].dims) > 1:\n",
    "                surface = {d: 0 for d in ds.dims if d != 'pressure'}\n",
    "                coord_level = ds[l][surface]\n",
    "                ds.coords[l] = ('pressure', coord_level)\n",
    "            else:\n",
    "                ds.coords[l] = ('pressure', ds[l])\n",
    "    \n",
    "    return ds"
   ]
  },
  {
   "cell_type": "code",
   "execution_count": 4,
   "metadata": {
    "collapsed": true
   },
   "outputs": [],
   "source": [
    "def lblnew_setup(param=None):\n",
    "    if 'ng_refs' in param:\n",
    "        return {'setup': setup_bestfit,\n",
    "                'fname_flux_crd': 'output_flux.dat',\n",
    "                'fname_cool_crd': 'output_coolr.dat',\n",
    "                'fname_flux_wgt': 'output_wfluxg.dat',\n",
    "                'fname_cool_wgt': 'output_wcoolrg.dat'}\n",
    "    else:\n",
    "        return {'setup': setup_overlap,\n",
    "                'fname_flux_crd': 'output_flux.dat',\n",
    "                'fname_cool_crd': 'output_coolr.dat',\n",
    "                'fname_flux_wgt': 'output_wflux.dat',\n",
    "                'fname_cool_wgt': 'output_wcoolr.dat'}\n",
    "\n",
    "    \n",
    "def load_lblnew_data(param):\n",
    "    \n",
    "    fname_dsname = [('fname_flux_crd', 'ds_flux_crd'),\n",
    "                    ('fname_cool_crd', 'ds_cool_crd'),\n",
    "                    ('fname_flux_wgt', 'ds_flux_wgt'),\n",
    "                    ('fname_cool_wgt', 'ds_cool_wgt')]\n",
    "    \n",
    "    d = lblnew_setup(param)\n",
    "    dir_fortran = pipe_lblnew.get_dir_case(param, setup=d['setup'])\n",
    "    \n",
    "    data_dict = {}\n",
    "    for fname, dsname in fname_dsname:\n",
    "        fpath = os.path.join(dir_fortran, d[fname])\n",
    "        data_dict[dsname] = load_output_file(fpath)\n",
    "    return data_dict\n",
    "    \n",
    "\n",
    "    \n",
    "    "
   ]
  },
  {
   "cell_type": "code",
   "execution_count": 5,
   "metadata": {
    "collapsed": true
   },
   "outputs": [],
   "source": [
    "d = load_lblnew_data(PARAM_LBLNEW)\n",
    "\n",
    "DS_FLUX_CRD = d['ds_flux_crd']\n",
    "DS_COOL_CRD = d['ds_cool_crd']\n",
    "DS_FLUX_WGT = d['ds_flux_wgt']\n",
    "DS_COOL_WGT = d['ds_cool_wgt']"
   ]
  },
  {
   "cell_type": "code",
   "execution_count": 6,
   "metadata": {
    "collapsed": true
   },
   "outputs": [],
   "source": [
    "DIR_FORTRAN = pipe_cliradlw.get_fortran_dir(PARAM, \n",
    "                                            setup=setup_cliradlw)\n",
    "\n",
    "PATH_FLUX = os.path.join(DIR_FORTRAN, 'output_flux.dat')\n",
    "PATH_COOL = os.path.join(DIR_FORTRAN, 'output_coolr.dat')\n",
    "\n",
    "DS_FLUX = load_output_file(PATH_FLUX)\n",
    "DS_COOL = load_output_file(PATH_COOL)"
   ]
  },
  {
   "cell_type": "code",
   "execution_count": 7,
   "metadata": {
    "collapsed": true
   },
   "outputs": [
    {
     "data": {
      "text/html": [
       "\n",
       "    <div class=\"bk-root\">\n",
       "        <a href=\"https://bokeh.pydata.org\" target=\"_blank\" class=\"bk-logo bk-logo-small bk-logo-notebook\"></a>\n",
       "        <span id=\"0aeeef85-17c1-4f6b-8107-acd1e9653fb2\">Loading BokehJS ...</span>\n",
       "    </div>"
      ]
     },
     "metadata": {},
     "output_type": "display_data"
    },
    {
     "data": {
      "application/javascript": [
       "\n",
       "(function(root) {\n",
       "  function now() {\n",
       "    return new Date();\n",
       "  }\n",
       "\n",
       "  var force = true;\n",
       "\n",
       "  if (typeof (root._bokeh_onload_callbacks) === \"undefined\" || force === true) {\n",
       "    root._bokeh_onload_callbacks = [];\n",
       "    root._bokeh_is_loading = undefined;\n",
       "  }\n",
       "\n",
       "  var JS_MIME_TYPE = 'application/javascript';\n",
       "  var HTML_MIME_TYPE = 'text/html';\n",
       "  var EXEC_MIME_TYPE = 'application/vnd.bokehjs_exec.v0+json';\n",
       "  var CLASS_NAME = 'output_bokeh rendered_html';\n",
       "\n",
       "  /**\n",
       "   * Render data to the DOM node\n",
       "   */\n",
       "  function render(props, node) {\n",
       "    var script = document.createElement(\"script\");\n",
       "    node.appendChild(script);\n",
       "  }\n",
       "\n",
       "  /**\n",
       "   * Handle when an output is cleared or removed\n",
       "   */\n",
       "  function handleClearOutput(event, handle) {\n",
       "    var cell = handle.cell;\n",
       "\n",
       "    var id = cell.output_area._bokeh_element_id;\n",
       "    var server_id = cell.output_area._bokeh_server_id;\n",
       "    // Clean up Bokeh references\n",
       "    if (id !== undefined) {\n",
       "      Bokeh.index[id].model.document.clear();\n",
       "      delete Bokeh.index[id];\n",
       "    }\n",
       "\n",
       "    if (server_id !== undefined) {\n",
       "      // Clean up Bokeh references\n",
       "      var cmd = \"from bokeh.io.state import curstate; print(curstate().uuid_to_server['\" + server_id + \"'].get_sessions()[0].document.roots[0]._id)\";\n",
       "      cell.notebook.kernel.execute(cmd, {\n",
       "        iopub: {\n",
       "          output: function(msg) {\n",
       "            var element_id = msg.content.text.trim();\n",
       "            Bokeh.index[element_id].model.document.clear();\n",
       "            delete Bokeh.index[element_id];\n",
       "          }\n",
       "        }\n",
       "      });\n",
       "      // Destroy server and session\n",
       "      var cmd = \"import bokeh.io.notebook as ion; ion.destroy_server('\" + server_id + \"')\";\n",
       "      cell.notebook.kernel.execute(cmd);\n",
       "    }\n",
       "  }\n",
       "\n",
       "  /**\n",
       "   * Handle when a new output is added\n",
       "   */\n",
       "  function handleAddOutput(event, handle) {\n",
       "    var output_area = handle.output_area;\n",
       "    var output = handle.output;\n",
       "\n",
       "    // limit handleAddOutput to display_data with EXEC_MIME_TYPE content only\n",
       "    if ((output.output_type != \"display_data\") || (!output.data.hasOwnProperty(EXEC_MIME_TYPE))) {\n",
       "      return\n",
       "    }\n",
       "\n",
       "    var toinsert = output_area.element.find(\".\" + CLASS_NAME.split(' ')[0]);\n",
       "\n",
       "    if (output.metadata[EXEC_MIME_TYPE][\"id\"] !== undefined) {\n",
       "      toinsert[0].firstChild.textContent = output.data[JS_MIME_TYPE];\n",
       "      // store reference to embed id on output_area\n",
       "      output_area._bokeh_element_id = output.metadata[EXEC_MIME_TYPE][\"id\"];\n",
       "    }\n",
       "    if (output.metadata[EXEC_MIME_TYPE][\"server_id\"] !== undefined) {\n",
       "      var bk_div = document.createElement(\"div\");\n",
       "      bk_div.innerHTML = output.data[HTML_MIME_TYPE];\n",
       "      var script_attrs = bk_div.children[0].attributes;\n",
       "      for (var i = 0; i < script_attrs.length; i++) {\n",
       "        toinsert[0].firstChild.setAttribute(script_attrs[i].name, script_attrs[i].value);\n",
       "      }\n",
       "      // store reference to server id on output_area\n",
       "      output_area._bokeh_server_id = output.metadata[EXEC_MIME_TYPE][\"server_id\"];\n",
       "    }\n",
       "  }\n",
       "\n",
       "  function register_renderer(events, OutputArea) {\n",
       "\n",
       "    function append_mime(data, metadata, element) {\n",
       "      // create a DOM node to render to\n",
       "      var toinsert = this.create_output_subarea(\n",
       "        metadata,\n",
       "        CLASS_NAME,\n",
       "        EXEC_MIME_TYPE\n",
       "      );\n",
       "      this.keyboard_manager.register_events(toinsert);\n",
       "      // Render to node\n",
       "      var props = {data: data, metadata: metadata[EXEC_MIME_TYPE]};\n",
       "      render(props, toinsert[0]);\n",
       "      element.append(toinsert);\n",
       "      return toinsert\n",
       "    }\n",
       "\n",
       "    /* Handle when an output is cleared or removed */\n",
       "    events.on('clear_output.CodeCell', handleClearOutput);\n",
       "    events.on('delete.Cell', handleClearOutput);\n",
       "\n",
       "    /* Handle when a new output is added */\n",
       "    events.on('output_added.OutputArea', handleAddOutput);\n",
       "\n",
       "    /**\n",
       "     * Register the mime type and append_mime function with output_area\n",
       "     */\n",
       "    OutputArea.prototype.register_mime_type(EXEC_MIME_TYPE, append_mime, {\n",
       "      /* Is output safe? */\n",
       "      safe: true,\n",
       "      /* Index of renderer in `output_area.display_order` */\n",
       "      index: 0\n",
       "    });\n",
       "  }\n",
       "\n",
       "  // register the mime type if in Jupyter Notebook environment and previously unregistered\n",
       "  if (root.Jupyter !== undefined) {\n",
       "    var events = require('base/js/events');\n",
       "    var OutputArea = require('notebook/js/outputarea').OutputArea;\n",
       "\n",
       "    if (OutputArea.prototype.mime_types().indexOf(EXEC_MIME_TYPE) == -1) {\n",
       "      register_renderer(events, OutputArea);\n",
       "    }\n",
       "  }\n",
       "\n",
       "  \n",
       "  if (typeof (root._bokeh_timeout) === \"undefined\" || force === true) {\n",
       "    root._bokeh_timeout = Date.now() + 5000;\n",
       "    root._bokeh_failed_load = false;\n",
       "  }\n",
       "\n",
       "  var NB_LOAD_WARNING = {'data': {'text/html':\n",
       "     \"<div style='background-color: #fdd'>\\n\"+\n",
       "     \"<p>\\n\"+\n",
       "     \"BokehJS does not appear to have successfully loaded. If loading BokehJS from CDN, this \\n\"+\n",
       "     \"may be due to a slow or bad network connection. Possible fixes:\\n\"+\n",
       "     \"</p>\\n\"+\n",
       "     \"<ul>\\n\"+\n",
       "     \"<li>re-rerun `output_notebook()` to attempt to load from CDN again, or</li>\\n\"+\n",
       "     \"<li>use INLINE resources instead, as so:</li>\\n\"+\n",
       "     \"</ul>\\n\"+\n",
       "     \"<code>\\n\"+\n",
       "     \"from bokeh.resources import INLINE\\n\"+\n",
       "     \"output_notebook(resources=INLINE)\\n\"+\n",
       "     \"</code>\\n\"+\n",
       "     \"</div>\"}};\n",
       "\n",
       "  function display_loaded() {\n",
       "    var el = document.getElementById(\"0aeeef85-17c1-4f6b-8107-acd1e9653fb2\");\n",
       "    if (el != null) {\n",
       "      el.textContent = \"BokehJS is loading...\";\n",
       "    }\n",
       "    if (root.Bokeh !== undefined) {\n",
       "      if (el != null) {\n",
       "        el.textContent = \"BokehJS \" + root.Bokeh.version + \" successfully loaded.\";\n",
       "      }\n",
       "    } else if (Date.now() < root._bokeh_timeout) {\n",
       "      setTimeout(display_loaded, 100)\n",
       "    }\n",
       "  }\n",
       "\n",
       "\n",
       "  function run_callbacks() {\n",
       "    try {\n",
       "      root._bokeh_onload_callbacks.forEach(function(callback) { callback() });\n",
       "    }\n",
       "    finally {\n",
       "      delete root._bokeh_onload_callbacks\n",
       "    }\n",
       "    console.info(\"Bokeh: all callbacks have finished\");\n",
       "  }\n",
       "\n",
       "  function load_libs(js_urls, callback) {\n",
       "    root._bokeh_onload_callbacks.push(callback);\n",
       "    if (root._bokeh_is_loading > 0) {\n",
       "      console.log(\"Bokeh: BokehJS is being loaded, scheduling callback at\", now());\n",
       "      return null;\n",
       "    }\n",
       "    if (js_urls == null || js_urls.length === 0) {\n",
       "      run_callbacks();\n",
       "      return null;\n",
       "    }\n",
       "    console.log(\"Bokeh: BokehJS not loaded, scheduling load and callback at\", now());\n",
       "    root._bokeh_is_loading = js_urls.length;\n",
       "    for (var i = 0; i < js_urls.length; i++) {\n",
       "      var url = js_urls[i];\n",
       "      var s = document.createElement('script');\n",
       "      s.src = url;\n",
       "      s.async = false;\n",
       "      s.onreadystatechange = s.onload = function() {\n",
       "        root._bokeh_is_loading--;\n",
       "        if (root._bokeh_is_loading === 0) {\n",
       "          console.log(\"Bokeh: all BokehJS libraries loaded\");\n",
       "          run_callbacks()\n",
       "        }\n",
       "      };\n",
       "      s.onerror = function() {\n",
       "        console.warn(\"failed to load library \" + url);\n",
       "      };\n",
       "      console.log(\"Bokeh: injecting script tag for BokehJS library: \", url);\n",
       "      document.getElementsByTagName(\"head\")[0].appendChild(s);\n",
       "    }\n",
       "  };var element = document.getElementById(\"0aeeef85-17c1-4f6b-8107-acd1e9653fb2\");\n",
       "  if (element == null) {\n",
       "    console.log(\"Bokeh: ERROR: autoload.js configured with elementid '0aeeef85-17c1-4f6b-8107-acd1e9653fb2' but no matching script tag was found. \")\n",
       "    return false;\n",
       "  }\n",
       "\n",
       "  var js_urls = [\"https://cdn.pydata.org/bokeh/release/bokeh-0.12.14.min.js\", \"https://cdn.pydata.org/bokeh/release/bokeh-widgets-0.12.14.min.js\", \"https://cdn.pydata.org/bokeh/release/bokeh-tables-0.12.14.min.js\", \"https://cdn.pydata.org/bokeh/release/bokeh-gl-0.12.14.min.js\"];\n",
       "\n",
       "  var inline_js = [\n",
       "    function(Bokeh) {\n",
       "      Bokeh.set_log_level(\"info\");\n",
       "    },\n",
       "    \n",
       "    function(Bokeh) {\n",
       "      \n",
       "    },\n",
       "    function(Bokeh) {\n",
       "      console.log(\"Bokeh: injecting CSS: https://cdn.pydata.org/bokeh/release/bokeh-0.12.14.min.css\");\n",
       "      Bokeh.embed.inject_css(\"https://cdn.pydata.org/bokeh/release/bokeh-0.12.14.min.css\");\n",
       "      console.log(\"Bokeh: injecting CSS: https://cdn.pydata.org/bokeh/release/bokeh-widgets-0.12.14.min.css\");\n",
       "      Bokeh.embed.inject_css(\"https://cdn.pydata.org/bokeh/release/bokeh-widgets-0.12.14.min.css\");\n",
       "      console.log(\"Bokeh: injecting CSS: https://cdn.pydata.org/bokeh/release/bokeh-tables-0.12.14.min.css\");\n",
       "      Bokeh.embed.inject_css(\"https://cdn.pydata.org/bokeh/release/bokeh-tables-0.12.14.min.css\");\n",
       "    }\n",
       "  ];\n",
       "\n",
       "  function run_inline_js() {\n",
       "    \n",
       "    if ((root.Bokeh !== undefined) || (force === true)) {\n",
       "      for (var i = 0; i < inline_js.length; i++) {\n",
       "        inline_js[i].call(root, root.Bokeh);\n",
       "      }if (force === true) {\n",
       "        display_loaded();\n",
       "      }} else if (Date.now() < root._bokeh_timeout) {\n",
       "      setTimeout(run_inline_js, 100);\n",
       "    } else if (!root._bokeh_failed_load) {\n",
       "      console.log(\"Bokeh: BokehJS failed to load within specified timeout.\");\n",
       "      root._bokeh_failed_load = true;\n",
       "    } else if (force !== true) {\n",
       "      var cell = $(document.getElementById(\"0aeeef85-17c1-4f6b-8107-acd1e9653fb2\")).parents('.cell').data().cell;\n",
       "      cell.output_area.append_execute_result(NB_LOAD_WARNING)\n",
       "    }\n",
       "\n",
       "  }\n",
       "\n",
       "  if (root._bokeh_is_loading === 0) {\n",
       "    console.log(\"Bokeh: BokehJS loaded, going straight to plotting\");\n",
       "    run_inline_js();\n",
       "  } else {\n",
       "    load_libs(js_urls, function() {\n",
       "      console.log(\"Bokeh: BokehJS plotting callback run at\", now());\n",
       "      run_inline_js();\n",
       "    });\n",
       "  }\n",
       "}(window));"
      ],
      "application/vnd.bokehjs_load.v0+json": "\n(function(root) {\n  function now() {\n    return new Date();\n  }\n\n  var force = true;\n\n  if (typeof (root._bokeh_onload_callbacks) === \"undefined\" || force === true) {\n    root._bokeh_onload_callbacks = [];\n    root._bokeh_is_loading = undefined;\n  }\n\n  \n\n  \n  if (typeof (root._bokeh_timeout) === \"undefined\" || force === true) {\n    root._bokeh_timeout = Date.now() + 5000;\n    root._bokeh_failed_load = false;\n  }\n\n  var NB_LOAD_WARNING = {'data': {'text/html':\n     \"<div style='background-color: #fdd'>\\n\"+\n     \"<p>\\n\"+\n     \"BokehJS does not appear to have successfully loaded. If loading BokehJS from CDN, this \\n\"+\n     \"may be due to a slow or bad network connection. Possible fixes:\\n\"+\n     \"</p>\\n\"+\n     \"<ul>\\n\"+\n     \"<li>re-rerun `output_notebook()` to attempt to load from CDN again, or</li>\\n\"+\n     \"<li>use INLINE resources instead, as so:</li>\\n\"+\n     \"</ul>\\n\"+\n     \"<code>\\n\"+\n     \"from bokeh.resources import INLINE\\n\"+\n     \"output_notebook(resources=INLINE)\\n\"+\n     \"</code>\\n\"+\n     \"</div>\"}};\n\n  function display_loaded() {\n    var el = document.getElementById(\"0aeeef85-17c1-4f6b-8107-acd1e9653fb2\");\n    if (el != null) {\n      el.textContent = \"BokehJS is loading...\";\n    }\n    if (root.Bokeh !== undefined) {\n      if (el != null) {\n        el.textContent = \"BokehJS \" + root.Bokeh.version + \" successfully loaded.\";\n      }\n    } else if (Date.now() < root._bokeh_timeout) {\n      setTimeout(display_loaded, 100)\n    }\n  }\n\n\n  function run_callbacks() {\n    try {\n      root._bokeh_onload_callbacks.forEach(function(callback) { callback() });\n    }\n    finally {\n      delete root._bokeh_onload_callbacks\n    }\n    console.info(\"Bokeh: all callbacks have finished\");\n  }\n\n  function load_libs(js_urls, callback) {\n    root._bokeh_onload_callbacks.push(callback);\n    if (root._bokeh_is_loading > 0) {\n      console.log(\"Bokeh: BokehJS is being loaded, scheduling callback at\", now());\n      return null;\n    }\n    if (js_urls == null || js_urls.length === 0) {\n      run_callbacks();\n      return null;\n    }\n    console.log(\"Bokeh: BokehJS not loaded, scheduling load and callback at\", now());\n    root._bokeh_is_loading = js_urls.length;\n    for (var i = 0; i < js_urls.length; i++) {\n      var url = js_urls[i];\n      var s = document.createElement('script');\n      s.src = url;\n      s.async = false;\n      s.onreadystatechange = s.onload = function() {\n        root._bokeh_is_loading--;\n        if (root._bokeh_is_loading === 0) {\n          console.log(\"Bokeh: all BokehJS libraries loaded\");\n          run_callbacks()\n        }\n      };\n      s.onerror = function() {\n        console.warn(\"failed to load library \" + url);\n      };\n      console.log(\"Bokeh: injecting script tag for BokehJS library: \", url);\n      document.getElementsByTagName(\"head\")[0].appendChild(s);\n    }\n  };var element = document.getElementById(\"0aeeef85-17c1-4f6b-8107-acd1e9653fb2\");\n  if (element == null) {\n    console.log(\"Bokeh: ERROR: autoload.js configured with elementid '0aeeef85-17c1-4f6b-8107-acd1e9653fb2' but no matching script tag was found. \")\n    return false;\n  }\n\n  var js_urls = [\"https://cdn.pydata.org/bokeh/release/bokeh-0.12.14.min.js\", \"https://cdn.pydata.org/bokeh/release/bokeh-widgets-0.12.14.min.js\", \"https://cdn.pydata.org/bokeh/release/bokeh-tables-0.12.14.min.js\", \"https://cdn.pydata.org/bokeh/release/bokeh-gl-0.12.14.min.js\"];\n\n  var inline_js = [\n    function(Bokeh) {\n      Bokeh.set_log_level(\"info\");\n    },\n    \n    function(Bokeh) {\n      \n    },\n    function(Bokeh) {\n      console.log(\"Bokeh: injecting CSS: https://cdn.pydata.org/bokeh/release/bokeh-0.12.14.min.css\");\n      Bokeh.embed.inject_css(\"https://cdn.pydata.org/bokeh/release/bokeh-0.12.14.min.css\");\n      console.log(\"Bokeh: injecting CSS: https://cdn.pydata.org/bokeh/release/bokeh-widgets-0.12.14.min.css\");\n      Bokeh.embed.inject_css(\"https://cdn.pydata.org/bokeh/release/bokeh-widgets-0.12.14.min.css\");\n      console.log(\"Bokeh: injecting CSS: https://cdn.pydata.org/bokeh/release/bokeh-tables-0.12.14.min.css\");\n      Bokeh.embed.inject_css(\"https://cdn.pydata.org/bokeh/release/bokeh-tables-0.12.14.min.css\");\n    }\n  ];\n\n  function run_inline_js() {\n    \n    if ((root.Bokeh !== undefined) || (force === true)) {\n      for (var i = 0; i < inline_js.length; i++) {\n        inline_js[i].call(root, root.Bokeh);\n      }if (force === true) {\n        display_loaded();\n      }} else if (Date.now() < root._bokeh_timeout) {\n      setTimeout(run_inline_js, 100);\n    } else if (!root._bokeh_failed_load) {\n      console.log(\"Bokeh: BokehJS failed to load within specified timeout.\");\n      root._bokeh_failed_load = true;\n    } else if (force !== true) {\n      var cell = $(document.getElementById(\"0aeeef85-17c1-4f6b-8107-acd1e9653fb2\")).parents('.cell').data().cell;\n      cell.output_area.append_execute_result(NB_LOAD_WARNING)\n    }\n\n  }\n\n  if (root._bokeh_is_loading === 0) {\n    console.log(\"Bokeh: BokehJS loaded, going straight to plotting\");\n    run_inline_js();\n  } else {\n    load_libs(js_urls, function() {\n      console.log(\"Bokeh: BokehJS plotting callback run at\", now());\n      run_inline_js();\n    });\n  }\n}(window));"
     },
     "metadata": {},
     "output_type": "display_data"
    }
   ],
   "source": [
    "output_notebook()"
   ]
  },
  {
   "cell_type": "code",
   "execution_count": 8,
   "metadata": {
    "collapsed": true
   },
   "outputs": [],
   "source": [
    "def fmt_cool(ds_in):\n",
    "    ds = ds_in.copy(deep=True)\n",
    "    if 'igg' in ds.dims:\n",
    "        ds = ds.sel(igg=1)\n",
    "\n",
    "    if 'g' in ds.dims:\n",
    "        ds = ds.sum('g')\n",
    "            \n",
    "    if 'band' in ds.dims:\n",
    "        try:\n",
    "            ds = ds.squeeze('band')\n",
    "        except ValueError:\n",
    "            ds = ds.sum('band')\n",
    "                \n",
    "    return ds['coolrg']\n",
    "\n",
    "\n",
    "def pltdata_cooling_1(ds_cool=None,\n",
    "                      ds_cool_crd=None, ds_cool_wgt=None):\n",
    "    \n",
    "\n",
    "\n",
    "    colors = all_palettes['Set1'][4]\n",
    "    data = [{'label': 'CLIRAD `coolr_bands`',\n",
    "             'srs': fmt_cool(ds_cool),\n",
    "             'line_dash': 'dashed', 'line_width': 5,\n",
    "             'color': colors[0], 'alpha': .6},\n",
    "            {'label': 'CRD',\n",
    "             'srs': fmt_cool(ds_cool_crd),\n",
    "             'line_dash': 'solid', 'line_width': 1.5,\n",
    "             'marker': 'circle', 'marker_size': 5,\n",
    "             'color': colors[2], 'alpha': 1,},\n",
    "            {'label': 'WGT igg=10 wgt_flux=2',\n",
    "             'srs': fmt_cool(ds_cool_wgt),\n",
    "             'line_dash': 'solid', 'line_width': 3,\n",
    "             'marker': 'square', 'marker_size': 5,\n",
    "             'color': colors[3], 'alpha': .6}]\n",
    "    return data\n",
    "\n",
    "\n",
    "def nice_xlims(pltdata=None, prange=None):\n",
    "    \n",
    "    def get_slice(srs):\n",
    "        return srs.sel(pressure=slice(*prange))\n",
    "    \n",
    "    srss = [d['srs'] for d in pltdata]\n",
    "    vmin = min([get_slice(srs).min() for srs in srss])\n",
    "    vmax = max([get_slice(srs).max() for srs in srss])\n",
    "    dv = (vmax - vmin) * .01\n",
    "    return float(vmin - dv), float(vmax + dv)\n",
    "    \n",
    "\n",
    "def plt_cooling_bokeh(pltdata=None):\n",
    "    '''\n",
    "    Plot a list of cooling rate profiles using bokeh.\n",
    "    '''\n",
    "    ymin = 1e-2 \n",
    "    ymax = 1020 \n",
    "        \n",
    "    p1 = figure(title=\"Linear pressure scale\", \n",
    "                plot_width=400)        \n",
    "    xmin, xmax = nice_xlims(pltdata, prange=(50, 1050))\n",
    "    for d in pltdata:\n",
    "        if 'marker' in d:\n",
    "            getattr(p1, d['marker'])(d['srs'].values, \n",
    "                    d['srs'].coords['pressure'].values,\n",
    "                    color=d['color'], alpha=.7)\n",
    "        p1.line(d['srs'].values, \n",
    "                d['srs'].coords['pressure'].values,\n",
    "                color=d['color'], alpha=d['alpha'], \n",
    "                line_width=d['line_width'], line_dash=d['line_dash'])\n",
    "    \n",
    "    p1.y_range = Range1d(ymax, ymin)\n",
    "    p1.yaxis.axis_label = 'pressure [mb]'   \n",
    "    p1.x_range = Range1d(xmin, xmax)\n",
    "    p1.xaxis.axis_label = 'cooling rate [K/day]'\n",
    "            \n",
    "    p2 = figure(title='Log pressure scale', y_axis_type='log',\n",
    "                plot_width=560)\n",
    "    xmin, xmax = nice_xlims(pltdata, prange=(.01, 200))\n",
    "    \n",
    "    rs = []\n",
    "    for d in pltdata:\n",
    "        rd = []\n",
    "        if 'marker' in d:\n",
    "            r_mark = getattr(p2, d['marker'])(d['srs'].values, \n",
    "                        d['srs'].coords['pressure'].values,\n",
    "                        color=d['color'], alpha=.7)\n",
    "            rd.append(r_mark)\n",
    "        r_line = p2.line(d['srs'].values, \n",
    "                    d['srs'].coords['pressure'].values,\n",
    "                    color=d['color'], alpha=d['alpha'], \n",
    "                    line_width=d['line_width'], line_dash=d['line_dash'])\n",
    "        rd.append(r_line)\n",
    "      \n",
    "        rs.append(rd)\n",
    "        \n",
    "    p2.y_range = Range1d(ymax, ymin)  \n",
    "    p2.yaxis.axis_label = 'pressure [mb]'\n",
    "    \n",
    "    p2.x_range = Range1d(xmin, xmax)\n",
    "    p2.xaxis.axis_label = 'cooling rate [K/day]'\n",
    "    \n",
    "    items = [(d['label'], r) for r, d in zip(rs, pltdata)]\n",
    "    legend = Legend(items=items, location=(10, -30))\n",
    "    legend.label_text_font_size = '8pt'\n",
    "    \n",
    "    p2.add_layout(legend, 'right')  \n",
    "    \n",
    "    show(gridplot(p1, p2, ncols=2, plot_height=500))\n",
    "    \n",
    "\n",
    "def script_plt_cooling():\n",
    "    pltdata = pltdata_cooling_1(\n",
    "        ds_cool=DS_COOL,\n",
    "        ds_cool_crd=DS_COOL_CRD,\n",
    "        ds_cool_wgt=DS_COOL_WGT)\n",
    "    plt_cooling_bokeh(pltdata=pltdata)\n",
    "    print('''FIGURE. Cooling rate profiles.''')"
   ]
  },
  {
   "cell_type": "code",
   "execution_count": 9,
   "metadata": {
    "collapsed": true
   },
   "outputs": [],
   "source": [
    "def fmt_flux(ds_in):\n",
    "    ds = ds_in.copy(deep=True)\n",
    "    \n",
    "    for l in ('level', 'layer'):\n",
    "        if l in ds.data_vars:\n",
    "            if len(ds[l].dims) > 1:\n",
    "                surface = {d: 0 for d in ds.dims if d != 'pressure'}\n",
    "                coord_level = ds[l][surface]\n",
    "                ds.coords[l] = ('pressure', coord_level)\n",
    "            else:\n",
    "                ds.coords[l] = ('pressure', ds[l])\n",
    "        \n",
    "    ds = ds.isel(pressure=[0, 23, -1])\n",
    "        \n",
    "    if 'igg' in ds.dims:\n",
    "        ds = ds.sel(igg=[1])\n",
    "        ds = ds.squeeze('igg').drop('igg')\n",
    "    \n",
    "    if 'g' in ds.dims:\n",
    "        ds = ds.sum('g')\n",
    "            \n",
    "    if 'band' in ds.dims:\n",
    "        try:\n",
    "            ds = ds.squeeze('band').drop('band')\n",
    "        except ValueError:\n",
    "            ds = ds.sum('band')\n",
    "                \n",
    "    df = ds.to_dataframe()\n",
    "    df = df.set_index('level', append=True)               \n",
    "    return df\n",
    "\n",
    "\n",
    "def tbdata_flux(ds_flux=None, ds_flux_crd=None, ds_flux_wgt=None):\n",
    "    ilevels = [0, 23, -1]\n",
    "            \n",
    "    benchmark = {'label': 'WGT igg=10 wgt_flux=1',\n",
    "                 'df': fmt_flux(ds_flux_wgt)}\n",
    "    \n",
    "    tbs = [{'label': 'CRD',\n",
    "            'df': fmt_flux(ds_flux_crd)},\n",
    "           {'label': 'CLIRAD',\n",
    "            'df': fmt_flux(ds_flux)}]\n",
    "    \n",
    "    data = {'benchmark': benchmark, 'others': tbs}\n",
    "    return data\n",
    "\n",
    "\n",
    "def tb_flux(tbdata=None):\n",
    "    benchmark = tbdata['benchmark']\n",
    "    others = tbdata['others']\n",
    "    \n",
    "    def show_tb(d=None):\n",
    "        display.display(d['df'])\n",
    "        print('Table.', 'Fluxes.', d['label'])\n",
    "        \n",
    "    def show_tbdiff(d0=None, d=None):\n",
    "        df = d['df']\n",
    "        df.index = d0['df'].index\n",
    "        display.display(df - d0['df'])\n",
    "        print('Table.', 'Fluxes.', \n",
    "              '({}) - ({})'.format(d['label'], d0['label']))\n",
    "        \n",
    "    show_tb(benchmark)\n",
    "    for d in others:\n",
    "        show_tb(d)\n",
    "        \n",
    "    for d in others:\n",
    "        show_tbdiff(d=d, d0=benchmark)\n",
    "        \n",
    "        \n",
    "def script_tb_flux():\n",
    "    data = tbdata_flux(ds_flux=DS_FLUX,\n",
    "                       ds_flux_crd=DS_FLUX_CRD,\n",
    "                       ds_flux_wgt=DS_FLUX_WGT)\n",
    "    tb_flux(tbdata=data)"
   ]
  },
  {
   "cell_type": "code",
   "execution_count": 10,
   "metadata": {
    "collapsed": true
   },
   "outputs": [],
   "source": [
    "def band_map():\n",
    "    '''\n",
    "    Maps spectral bands in lblnew to spectral bands in clirad.\n",
    "    '''\n",
    "    lblnew2clirad = {'1': '1',\n",
    "            '2': '2',\n",
    "            '3a': '3',\n",
    "            '3b': '4',\n",
    "            '3c': '5',\n",
    "            '4': '6', \n",
    "            '5': '7',\n",
    "            '6': '8',\n",
    "            '7': '9', \n",
    "            '8': '10',\n",
    "            '9': '11'}\n",
    "    \n",
    "    clirad2lblnew = {clirad: lblnew \n",
    "                     for lblnew, clirad in lblnew2clirad.items()}\n",
    "    return clirad2lblnew\n",
    "\n",
    "\n",
    "def gasbands():\n",
    "    bmap = band_map()\n",
    "    gases = list(PARAM['molecule'].keys())\n",
    "    \n",
    "    bands = [bmap[str(b)] for b in PARAM['band']]\n",
    "    return list(itertools.product(gases, bands))\n",
    "\n",
    "\n",
    "def print_bestfit_params():\n",
    "    print('Best-fit values for each (gas, band)')\n",
    "    print('------------------------------------')\n",
    "    for gas, band in gasbands():\n",
    "        print('o {} band{}'.format(gas, band))\n",
    "        param = bestfits.kdist_params(molecule=gas, band=band)\n",
    "        for name, value in sorted(param.items()):\n",
    "            print(2 * ' ' + '{} = {}'.format(name, value))\n",
    "\n",
    "        \n",
    "def print_input_param():        \n",
    "    for name, value in PARAM.items():\n",
    "        print('{} = {}'.format(name, value))\n",
    "        \n",
    "        \n",
    "def print_lblnew_param():\n",
    "    for name, value in sorted(PARAM_LBLNEW.items()):\n",
    "        print('{} = {}'.format(name, value))\n"
   ]
  },
  {
   "cell_type": "code",
   "execution_count": 11,
   "metadata": {
    "collapsed": true,
    "scrolled": false
   },
   "outputs": [],
   "source": [
    "def show_html(s):\n",
    "    display.display(display.HTML(s))\n",
    "\n",
    "    \n",
    "def show_markdown(s):\n",
    "    display.display(display.Markdown(s))\n",
    "\n",
    "    \n",
    "def script():\n",
    "    \n",
    "    title = '### CLIRAD-LW'\n",
    "    s_input = 'Input Parameters'\n",
    "    s_lblnew_param = 'LBLNEW case compaired against'\n",
    "    s_bestfits = 'Best-fit Parameters'\n",
    "    s_plt_cooling = 'Cooling Rate Profiles'\n",
    "    s_tb_flux = 'Flux Comparison'\n",
    "    \n",
    "    # title\n",
    "    show_markdown('### CLIRAD-LW')\n",
    "    \n",
    "    # TOC\n",
    "    show_markdown('### Table of Contents')\n",
    "    show_html(climahtml.getHTML_hrefanchor(s_input))\n",
    "    show_html(climahtml.getHTML_hrefanchor(s_lblnew_param))\n",
    "    show_html(climahtml.getHTML_hrefanchor(s_plt_cooling))\n",
    "    show_html(climahtml.getHTML_hrefanchor(s_tb_flux))\n",
    "    show_html(climahtml.getHTML_hrefanchor(s_bestfits))\n",
    "    \n",
    "    # Input parameters\n",
    "    show_html(climahtml.getHTML_idanchor(s_input))\n",
    "    show_markdown(climahtml.getMarkdown_sectitle(s_input))\n",
    "    print_input_param()\n",
    "    \n",
    "    # LBLNEW parameters \n",
    "    show_html(climahtml.getHTML_idanchor(s_lblnew_param))\n",
    "    show_markdown(climahtml.getMarkdown_sectitle(s_lblnew_param))\n",
    "    print_lblnew_param()\n",
    "    \n",
    "    # Cooling rate profiles\n",
    "    show_html(climahtml.getHTML_idanchor(s_plt_cooling))\n",
    "    show_markdown(climahtml.getMarkdown_sectitle(s_plt_cooling))\n",
    "    script_plt_cooling()\n",
    "    \n",
    "    # Flux comparison\n",
    "    show_html(climahtml.getHTML_idanchor(s_tb_flux))\n",
    "    show_markdown(climahtml.getMarkdown_sectitle(s_tb_flux))\n",
    "    script_tb_flux()\n",
    "    \n",
    "    # Best-fit values\n",
    "    show_html(climahtml.getHTML_idanchor(s_bestfits))\n",
    "    show_markdown(climahtml.getMarkdown_sectitle(s_bestfits))\n",
    "    print_bestfit_params()\n",
    "   \n",
    "    "
   ]
  },
  {
   "cell_type": "code",
   "execution_count": 12,
   "metadata": {
    "collapsed": true,
    "scrolled": false
   },
   "outputs": [
    {
     "data": {
      "text/markdown": [
       "### CLIRAD-LW"
      ],
      "text/plain": [
       "<IPython.core.display.Markdown object>"
      ]
     },
     "metadata": {},
     "output_type": "display_data"
    },
    {
     "data": {
      "text/markdown": [
       "### Table of Contents"
      ],
      "text/plain": [
       "<IPython.core.display.Markdown object>"
      ]
     },
     "metadata": {},
     "output_type": "display_data"
    },
    {
     "data": {
      "text/html": [
       "<a href=\"#Input_Parameters\">Input Parameters</a>"
      ],
      "text/plain": [
       "<IPython.core.display.HTML object>"
      ]
     },
     "metadata": {},
     "output_type": "display_data"
    },
    {
     "data": {
      "text/html": [
       "<a href=\"#LBLNEW_case_compaired_against\">LBLNEW case compaired against</a>"
      ],
      "text/plain": [
       "<IPython.core.display.HTML object>"
      ]
     },
     "metadata": {},
     "output_type": "display_data"
    },
    {
     "data": {
      "text/html": [
       "<a href=\"#Cooling_Rate_Profiles\">Cooling Rate Profiles</a>"
      ],
      "text/plain": [
       "<IPython.core.display.HTML object>"
      ]
     },
     "metadata": {},
     "output_type": "display_data"
    },
    {
     "data": {
      "text/html": [
       "<a href=\"#Flux_Comparison\">Flux Comparison</a>"
      ],
      "text/plain": [
       "<IPython.core.display.HTML object>"
      ]
     },
     "metadata": {},
     "output_type": "display_data"
    },
    {
     "data": {
      "text/html": [
       "<a href=\"#Best-fit_Parameters\">Best-fit Parameters</a>"
      ],
      "text/plain": [
       "<IPython.core.display.HTML object>"
      ]
     },
     "metadata": {},
     "output_type": "display_data"
    },
    {
     "data": {
      "text/html": [
       "<a id=\"Input_Parameters\"></a>"
      ],
      "text/plain": [
       "<IPython.core.display.HTML object>"
      ]
     },
     "metadata": {},
     "output_type": "display_data"
    },
    {
     "data": {
      "text/markdown": [
       "# Input Parameters"
      ],
      "text/plain": [
       "<IPython.core.display.Markdown object>"
      ]
     },
     "metadata": {},
     "output_type": "display_data"
    },
    {
     "name": "stdout",
     "output_type": "stream",
     "text": [
      "atmpro = mls\n",
      "band = [3]\n",
      "commitnumber = a3da41e\n",
      "molecule = {'h2o': 'atmpro'}\n",
      "tsfc = 294\n"
     ]
    },
    {
     "data": {
      "text/html": [
       "<a id=\"LBLNEW_case_compaired_against\"></a>"
      ],
      "text/plain": [
       "<IPython.core.display.HTML object>"
      ]
     },
     "metadata": {},
     "output_type": "display_data"
    },
    {
     "data": {
      "text/markdown": [
       "# LBLNEW case compaired against"
      ],
      "text/plain": [
       "<IPython.core.display.Markdown object>"
      ]
     },
     "metadata": {},
     "output_type": "display_data"
    },
    {
     "name": "stdout",
     "output_type": "stream",
     "text": [
      "atmpro = mls\n",
      "band = 3a\n",
      "commitnumber = 5014a19\n",
      "conc = None\n",
      "dv = 0.01\n",
      "klin = 0\n",
      "molecule = h2o\n",
      "ng_adju = [0, 0]\n",
      "ng_refs = [2, 6]\n",
      "nv = 100\n",
      "option_compute_btable = 0\n",
      "option_compute_ktable = 0\n",
      "option_wgt_flux = 1\n",
      "option_wgt_k = 1\n",
      "ref_pts = [(10, 250), (600, 250)]\n",
      "tsfc = 294\n",
      "vmax = 620\n",
      "vmin = 540\n",
      "w_diffuse = [(1.9, 1.7), (1.4, 1.4, 1.4, 1.55, 1.6, 1.66)]\n",
      "wgt = [(0.7, 0.7), (0.7, 0.5, 0.5, 0.5, 0.5, 0.5)]\n"
     ]
    },
    {
     "data": {
      "text/html": [
       "<a id=\"Cooling_Rate_Profiles\"></a>"
      ],
      "text/plain": [
       "<IPython.core.display.HTML object>"
      ]
     },
     "metadata": {},
     "output_type": "display_data"
    },
    {
     "data": {
      "text/markdown": [
       "# Cooling Rate Profiles"
      ],
      "text/plain": [
       "<IPython.core.display.Markdown object>"
      ]
     },
     "metadata": {},
     "output_type": "display_data"
    },
    {
     "data": {
      "text/html": [
       "\n",
       "<div class=\"bk-root\">\n",
       "    <div class=\"bk-plotdiv\" id=\"8cc99a3a-3d76-4481-b63f-bd6f70b245e3\"></div>\n",
       "</div>"
      ]
     },
     "metadata": {},
     "output_type": "display_data"
    },
    {
     "data": {
      "application/javascript": [
       "(function(root) {\n",
       "  function embed_document(root) {\n",
       "    \n",
       "  var docs_json = {\"4957ec48-2544-4e56-a809-35e8a01be0a1\":{\"roots\":{\"references\":[{\"attributes\":{},\"id\":\"0186ae9f-b585-43bb-b82a-53dab9b7d732\",\"type\":\"HelpTool\"},{\"attributes\":{},\"id\":\"22bcefd3-eb82-4587-a9bf-09af0aa26aee\",\"type\":\"BasicTickFormatter\"},{\"attributes\":{},\"id\":\"ab23e825-a9f5-4447-8f54-ee9e7bd3f3e2\",\"type\":\"PanTool\"},{\"attributes\":{\"bottom_units\":\"screen\",\"fill_alpha\":{\"value\":0.5},\"fill_color\":{\"value\":\"lightgrey\"},\"left_units\":\"screen\",\"level\":\"overlay\",\"line_alpha\":{\"value\":1.0},\"line_color\":{\"value\":\"black\"},\"line_dash\":[4,4],\"line_width\":{\"value\":2},\"plot\":null,\"render_mode\":\"css\",\"right_units\":\"screen\",\"top_units\":\"screen\"},\"id\":\"e8c84c22-fe81-47ac-afb6-7c79b49f39d8\",\"type\":\"BoxAnnotation\"},{\"attributes\":{\"axis_label\":\"pressure [mb]\",\"formatter\":{\"id\":\"0a69a84a-621a-491a-a908-711676bd52e3\",\"type\":\"LogTickFormatter\"},\"plot\":{\"id\":\"ccb02d42-57ef-4e16-8158-2d9b35a1ed62\",\"subtype\":\"Figure\",\"type\":\"Plot\"},\"ticker\":{\"id\":\"ae50f7e8-0118-404c-813d-da081200f3c6\",\"type\":\"LogTicker\"}},\"id\":\"95d02765-2cdb-4fdb-b563-e44afb34f2c4\",\"type\":\"LogAxis\"},{\"attributes\":{\"line_alpha\":0.1,\"line_color\":\"#1f77b4\",\"line_dash\":[6],\"line_width\":5,\"x\":{\"field\":\"x\"},\"y\":{\"field\":\"y\"}},\"id\":\"04f0a8b3-f2e5-4a34-b023-86d981e6d686\",\"type\":\"Line\"},{\"attributes\":{\"data_source\":{\"id\":\"b6d58fdb-6d77-43ee-915d-37e818b0b6b4\",\"type\":\"ColumnDataSource\"},\"glyph\":{\"id\":\"32a8f1e7-f7ef-47b6-80c4-74acba0d562c\",\"type\":\"Line\"},\"hover_glyph\":null,\"muted_glyph\":null,\"nonselection_glyph\":{\"id\":\"15fbdf8b-07cd-4926-96ba-141ca798098b\",\"type\":\"Line\"},\"selection_glyph\":null,\"view\":{\"id\":\"6a016549-676e-4479-808c-65125bf0bce8\",\"type\":\"CDSView\"}},\"id\":\"2969e5f3-6c0f-4c9d-846d-2c9be05454da\",\"type\":\"GlyphRenderer\"},{\"attributes\":{},\"id\":\"a42397f2-830f-40a9-9fe2-d65189567c69\",\"type\":\"BasicTicker\"},{\"attributes\":{\"active_drag\":\"auto\",\"active_inspect\":\"auto\",\"active_scroll\":\"auto\",\"active_tap\":\"auto\",\"tools\":[{\"id\":\"ab23e825-a9f5-4447-8f54-ee9e7bd3f3e2\",\"type\":\"PanTool\"},{\"id\":\"f7d5eecc-be49-4e80-8008-ddbb97382ff0\",\"type\":\"WheelZoomTool\"},{\"id\":\"7555894f-c7ea-406f-8d9b-a1ef46882202\",\"type\":\"BoxZoomTool\"},{\"id\":\"43269a84-e08f-4553-966c-0c93518d11eb\",\"type\":\"SaveTool\"},{\"id\":\"9a9e19ed-e167-47dd-905a-4eb46e6a214f\",\"type\":\"ResetTool\"},{\"id\":\"0186ae9f-b585-43bb-b82a-53dab9b7d732\",\"type\":\"HelpTool\"}]},\"id\":\"5fd8e43a-37f3-4c08-9c93-87ec0fac4977\",\"type\":\"Toolbar\"},{\"attributes\":{\"dimension\":1,\"plot\":{\"id\":\"4252bc9d-1f12-432d-815b-0b7358fd4c9c\",\"subtype\":\"Figure\",\"type\":\"Plot\"},\"ticker\":{\"id\":\"a42397f2-830f-40a9-9fe2-d65189567c69\",\"type\":\"BasicTicker\"}},\"id\":\"5120d0bd-8caf-4f01-9c54-e72a433e9d51\",\"type\":\"Grid\"},{\"attributes\":{\"data_source\":{\"id\":\"4a5281f2-63b9-4300-95d2-f920be8c7c6d\",\"type\":\"ColumnDataSource\"},\"glyph\":{\"id\":\"0cc4a392-68e7-41c6-9440-da4e11436e9a\",\"type\":\"Line\"},\"hover_glyph\":null,\"muted_glyph\":null,\"nonselection_glyph\":{\"id\":\"5f023d6d-890e-4c16-a7e6-f57d0860a415\",\"type\":\"Line\"},\"selection_glyph\":null,\"view\":{\"id\":\"0e1e1894-54f6-427a-be4c-9eccd31022c4\",\"type\":\"CDSView\"}},\"id\":\"03a3531d-a169-4e49-ac4f-57423c5b60df\",\"type\":\"GlyphRenderer\"},{\"attributes\":{\"num_minor_ticks\":10},\"id\":\"ae50f7e8-0118-404c-813d-da081200f3c6\",\"type\":\"LogTicker\"},{\"attributes\":{\"overlay\":{\"id\":\"e8c84c22-fe81-47ac-afb6-7c79b49f39d8\",\"type\":\"BoxAnnotation\"}},\"id\":\"7555894f-c7ea-406f-8d9b-a1ef46882202\",\"type\":\"BoxZoomTool\"},{\"attributes\":{\"plot\":null,\"text\":\"Linear pressure scale\"},\"id\":\"4fad7975-edf8-44a3-b1c0-f90295166e75\",\"type\":\"Title\"},{\"attributes\":{\"line_alpha\":0.1,\"line_color\":\"#1f77b4\",\"line_dash\":[6],\"line_width\":5,\"x\":{\"field\":\"x\"},\"y\":{\"field\":\"y\"}},\"id\":\"5f023d6d-890e-4c16-a7e6-f57d0860a415\",\"type\":\"Line\"},{\"attributes\":{\"tools\":[{\"id\":\"ab23e825-a9f5-4447-8f54-ee9e7bd3f3e2\",\"type\":\"PanTool\"},{\"id\":\"f7d5eecc-be49-4e80-8008-ddbb97382ff0\",\"type\":\"WheelZoomTool\"},{\"id\":\"7555894f-c7ea-406f-8d9b-a1ef46882202\",\"type\":\"BoxZoomTool\"},{\"id\":\"43269a84-e08f-4553-966c-0c93518d11eb\",\"type\":\"SaveTool\"},{\"id\":\"9a9e19ed-e167-47dd-905a-4eb46e6a214f\",\"type\":\"ResetTool\"},{\"id\":\"0186ae9f-b585-43bb-b82a-53dab9b7d732\",\"type\":\"HelpTool\"},{\"id\":\"3a6b593c-4891-4134-a38f-9256d9e98c87\",\"type\":\"PanTool\"},{\"id\":\"e6ddf6e6-ca7e-4188-8133-d4d1351b6673\",\"type\":\"WheelZoomTool\"},{\"id\":\"b329b83c-8c8d-4199-814d-9853074c66c6\",\"type\":\"BoxZoomTool\"},{\"id\":\"c5bd2991-2c04-4490-b670-9cff1aa03a68\",\"type\":\"SaveTool\"},{\"id\":\"a1aca518-f49d-4b36-afa4-76979b57745f\",\"type\":\"ResetTool\"},{\"id\":\"e573ebc4-a491-4b85-9b3a-2260d12d4045\",\"type\":\"HelpTool\"}]},\"id\":\"9d913c73-bc26-405d-ad97-9c1f5d6d265f\",\"type\":\"ProxyToolbar\"},{\"attributes\":{\"plot\":{\"id\":\"4252bc9d-1f12-432d-815b-0b7358fd4c9c\",\"subtype\":\"Figure\",\"type\":\"Plot\"},\"ticker\":{\"id\":\"321b90a3-fa59-4005-a753-e5882fe95940\",\"type\":\"BasicTicker\"}},\"id\":\"b4569f5a-5931-4c56-b1c2-a3afcdcf6def\",\"type\":\"Grid\"},{\"attributes\":{\"callback\":null,\"column_names\":[\"x\",\"y\"],\"data\":{\"x\":{\"__ndarray__\":\"1gCVyf4c6r70+W+8tO8AP2R7JdYhziA/SBw82p6GLj+tIc2ZV2Q2PxRp8MuzxT0/HkPDTnuVQj9tnoCWbnhGPz1tVpkZc0o/G2SaLhaDTj9sKQbimlZRP1zetBOAI1M/7QjqRiaIVD+Cmg8El3JWP4IKnUfkw1w/Mkt8mgVtaT+80zGwlMF2PxmdeR8q+YE/KxTpfk5Bij+Qsm5RoC6SP3NUa+oHOJg/6+cLKVhGnz9/MM/OkpWiP+OZAl/yu6E/iQjw9zqSmz8rWv00lRWUP8VB6dvn0Iw/oKl+dbrLhD8qKdMPuul+P4MDEneyoHc/Ky8hsen5cT/E9EYvH9dqPzywqoL7/2Q/DCQWm9DQYT8izee6umxeP1B0stNVmlk/kObnRa8/Vz/bS33NML1WP4uBZczs0VU/dCedZs9OVz/YmqfeBc9mP9BllG3zzYM/s7GESJVHmD8GABUurmimP3tCyt1UFbE/vDsecrRctD82MV+JAFq3P1D3KseeHLs/nVVVHpN7vz/p/6iPuC7CP+lQn0c51sQ/5/cFDWA+xz9m6VRDLKzJPw+o7RXMTsw/iNr0b7Aazz8LW/WxaQLRPxd9JnevhdI/jwidQnTp1D/RMlpg8jPXPw4WyplYJtk/VrVJ6qm62j+TFrLjVOXbP2XlNJddqNw/F/Ywi7sH3T/iG0y7fwndP2YAwX9nudw/d27zKXQc3D82AhLJZyTbP2GWTev8vNk/QUJahN7y1z9fkUaiI/vVP4vFLe5YD9Q/mLQ1ZDRZ0j+k6pHlqAzRP7aBO1CnfNE/\",\"dtype\":\"float64\",\"shape\":[75]},\"y\":{\"__ndarray__\":\"GhExyth1ND/Sv8nbtpRIP2vylNV0PVE/aTum7souWD/At0SJ8fVgPw3Iuahxymc/MSNhhJWvcD/bTfBN02d3P2zb5nxnaoA/CD5h5MAGhz8NmeH1TyaQP+zrCsc9p5Y/LbKd76fGnz/bLW5ISEmmPww9YvTcQq8/JV2OstnstT8Er5Y7M8G+P0c+r3jqkcU/5h99k6ZBzj88bCIzFzjVP4enV8oyxN0//yH99nXg5D8qOpLLf0jtP5kqGJXUifQ/c9cS8kHP/D+/DpwzojQEQIEmwoanVwxA4lgXt9HgE0BSSZ2AJuIbQAMJih9jjiNA5q4l5INuK0AwTKYKRj0zQNv5fmq8/DpAaCJseHrtQkB/+zpwzoxKQM3MzMzMeFJAZmZmZmZqWEAAAAAAAFxeQM3MzMzMJmJAmpmZmZkfZUBmZmZmZhhoQDMzMzMzEWtAAAAAAAAKbkBmZmZmZoFwQM3MzMzM/XFAMzMzMzN6c0CamZmZmfZ0QAAAAAAAc3ZAZmZmZmbvd0DNzMzMzGt5QDMzMzMz6HpAmpmZmZlkfEAAAAAAAOF9QGZmZmZmXX9AZmZmZuZsgECamZmZGSuBQM3MzMxM6YFAAAAAAICngkAzMzMzs2WDQGZmZmbmI4RAmpmZmRnihEDNzMzMTKCFQAAAAACAXoZAMzMzM7Mch0BmZmZm5tqHQJqZmZkZmYhAzczMzExXiUAAAAAAgBWKQDMzMzOz04pAZmZmZuaRi0CamZmZGVCMQM3MzMxMDo1AAAAAAIDMjUAzMzMzs4qOQGZmZmbmSI9A\",\"dtype\":\"float64\",\"shape\":[75]}}},\"id\":\"b6d58fdb-6d77-43ee-915d-37e818b0b6b4\",\"type\":\"ColumnDataSource\"},{\"attributes\":{\"line_alpha\":0.6,\"line_color\":\"#984ea3\",\"line_width\":3,\"x\":{\"field\":\"x\"},\"y\":{\"field\":\"y\"}},\"id\":\"ab3a8742-f33f-4d64-969c-7b4879bfa7bb\",\"type\":\"Line\"},{\"attributes\":{\"axis_label\":\"pressure [mb]\",\"formatter\":{\"id\":\"22bcefd3-eb82-4587-a9bf-09af0aa26aee\",\"type\":\"BasicTickFormatter\"},\"plot\":{\"id\":\"4252bc9d-1f12-432d-815b-0b7358fd4c9c\",\"subtype\":\"Figure\",\"type\":\"Plot\"},\"ticker\":{\"id\":\"a42397f2-830f-40a9-9fe2-d65189567c69\",\"type\":\"BasicTicker\"}},\"id\":\"c4370760-4f17-4bff-9f04-afbece2fca42\",\"type\":\"LinearAxis\"},{\"attributes\":{},\"id\":\"43269a84-e08f-4553-966c-0c93518d11eb\",\"type\":\"SaveTool\"},{\"attributes\":{\"line_alpha\":0.1,\"line_color\":\"#1f77b4\",\"line_width\":1.5,\"x\":{\"field\":\"x\"},\"y\":{\"field\":\"y\"}},\"id\":\"15fbdf8b-07cd-4926-96ba-141ca798098b\",\"type\":\"Line\"},{\"attributes\":{\"fill_alpha\":{\"value\":0.7},\"fill_color\":{\"value\":\"#984ea3\"},\"line_alpha\":{\"value\":0.7},\"line_color\":{\"value\":\"#984ea3\"},\"x\":{\"field\":\"x\"},\"y\":{\"field\":\"y\"}},\"id\":\"bbda1cdc-a931-44d0-9e5d-274296447825\",\"type\":\"Square\"},{\"attributes\":{},\"id\":\"321b90a3-fa59-4005-a753-e5882fe95940\",\"type\":\"BasicTicker\"},{\"attributes\":{\"line_alpha\":0.1,\"line_color\":\"#1f77b4\",\"line_width\":3,\"x\":{\"field\":\"x\"},\"y\":{\"field\":\"y\"}},\"id\":\"fc7882ce-e0b0-4ead-8f83-682b38e7f2a3\",\"type\":\"Line\"},{\"attributes\":{\"callback\":null,\"end\":0.48577265020000004,\"start\":-0.004809630200000001},\"id\":\"784b3cf7-32cd-4ea8-a012-47cdef8ea977\",\"type\":\"Range1d\"},{\"attributes\":{\"data_source\":{\"id\":\"750b35b0-9dbf-46bb-a156-5a0ef93115d6\",\"type\":\"ColumnDataSource\"},\"glyph\":{\"id\":\"bbda1cdc-a931-44d0-9e5d-274296447825\",\"type\":\"Square\"},\"hover_glyph\":null,\"muted_glyph\":null,\"nonselection_glyph\":{\"id\":\"1a08d245-2040-4044-9274-ed60f52e49ac\",\"type\":\"Square\"},\"selection_glyph\":null,\"view\":{\"id\":\"146ab07a-206f-46ca-8972-d28e95728b33\",\"type\":\"CDSView\"}},\"id\":\"11c4c91c-1518-4954-9548-03d5b2d52e3a\",\"type\":\"GlyphRenderer\"},{\"attributes\":{},\"id\":\"a5b3dc83-fe01-4918-aa2f-a5385ed3a5f6\",\"type\":\"LinearScale\"},{\"attributes\":{},\"id\":\"9a9e19ed-e167-47dd-905a-4eb46e6a214f\",\"type\":\"ResetTool\"},{\"attributes\":{\"fill_alpha\":{\"value\":0.1},\"fill_color\":{\"value\":\"#1f77b4\"},\"line_alpha\":{\"value\":0.1},\"line_color\":{\"value\":\"#1f77b4\"},\"x\":{\"field\":\"x\"},\"y\":{\"field\":\"y\"}},\"id\":\"1a08d245-2040-4044-9274-ed60f52e49ac\",\"type\":\"Square\"},{\"attributes\":{\"source\":{\"id\":\"84bde026-2769-4a4d-8866-1384fe05b083\",\"type\":\"ColumnDataSource\"}},\"id\":\"90a8e9c3-8f2e-459e-904d-5ac368d2ad31\",\"type\":\"CDSView\"},{\"attributes\":{\"callback\":null,\"column_names\":[\"x\",\"y\"],\"data\":{\"x\":{\"__ndarray__\":\"1gCVyf4c6r70+W+8tO8AP2R7JdYhziA/SBw82p6GLj+tIc2ZV2Q2PxRp8MuzxT0/HkPDTnuVQj9tnoCWbnhGPz1tVpkZc0o/G2SaLhaDTj9sKQbimlZRP1zetBOAI1M/7QjqRiaIVD+Cmg8El3JWP4IKnUfkw1w/Mkt8mgVtaT+80zGwlMF2PxmdeR8q+YE/KxTpfk5Bij+Qsm5RoC6SP3NUa+oHOJg/6+cLKVhGnz9/MM/OkpWiP+OZAl/yu6E/iQjw9zqSmz8rWv00lRWUP8VB6dvn0Iw/oKl+dbrLhD8qKdMPuul+P4MDEneyoHc/Ky8hsen5cT/E9EYvH9dqPzywqoL7/2Q/DCQWm9DQYT8izee6umxeP1B0stNVmlk/kObnRa8/Vz/bS33NML1WP4uBZczs0VU/dCedZs9OVz/YmqfeBc9mP9BllG3zzYM/s7GESJVHmD8GABUurmimP3tCyt1UFbE/vDsecrRctD82MV+JAFq3P1D3KseeHLs/nVVVHpN7vz/p/6iPuC7CP+lQn0c51sQ/5/cFDWA+xz9m6VRDLKzJPw+o7RXMTsw/iNr0b7Aazz8LW/WxaQLRPxd9JnevhdI/jwidQnTp1D/RMlpg8jPXPw4WyplYJtk/VrVJ6qm62j+TFrLjVOXbP2XlNJddqNw/F/Ywi7sH3T/iG0y7fwndP2YAwX9nudw/d27zKXQc3D82AhLJZyTbP2GWTev8vNk/QUJahN7y1z9fkUaiI/vVP4vFLe5YD9Q/mLQ1ZDRZ0j+k6pHlqAzRP7aBO1CnfNE/\",\"dtype\":\"float64\",\"shape\":[75]},\"y\":{\"__ndarray__\":\"GhExyth1ND/Sv8nbtpRIP2vylNV0PVE/aTum7souWD/At0SJ8fVgPw3Iuahxymc/MSNhhJWvcD/bTfBN02d3P2zb5nxnaoA/CD5h5MAGhz8NmeH1TyaQP+zrCsc9p5Y/LbKd76fGnz/bLW5ISEmmPww9YvTcQq8/JV2OstnstT8Er5Y7M8G+P0c+r3jqkcU/5h99k6ZBzj88bCIzFzjVP4enV8oyxN0//yH99nXg5D8qOpLLf0jtP5kqGJXUifQ/c9cS8kHP/D+/DpwzojQEQIEmwoanVwxA4lgXt9HgE0BSSZ2AJuIbQAMJih9jjiNA5q4l5INuK0AwTKYKRj0zQNv5fmq8/DpAaCJseHrtQkB/+zpwzoxKQM3MzMzMeFJAZmZmZmZqWEAAAAAAAFxeQM3MzMzMJmJAmpmZmZkfZUBmZmZmZhhoQDMzMzMzEWtAAAAAAAAKbkBmZmZmZoFwQM3MzMzM/XFAMzMzMzN6c0CamZmZmfZ0QAAAAAAAc3ZAZmZmZmbvd0DNzMzMzGt5QDMzMzMz6HpAmpmZmZlkfEAAAAAAAOF9QGZmZmZmXX9AZmZmZuZsgECamZmZGSuBQM3MzMxM6YFAAAAAAICngkAzMzMzs2WDQGZmZmbmI4RAmpmZmRnihEDNzMzMTKCFQAAAAACAXoZAMzMzM7Mch0BmZmZm5tqHQJqZmZkZmYhAzczMzExXiUAAAAAAgBWKQDMzMzOz04pAZmZmZuaRi0CamZmZGVCMQM3MzMxMDo1AAAAAAIDMjUAzMzMzs4qOQGZmZmbmSI9A\",\"dtype\":\"float64\",\"shape\":[75]}}},\"id\":\"ab35740e-674f-41f1-9dc4-f94245bfcb4b\",\"type\":\"ColumnDataSource\"},{\"attributes\":{\"source\":{\"id\":\"71de6455-8785-4d61-b4b6-ba5c08b61ea7\",\"type\":\"ColumnDataSource\"}},\"id\":\"daaa4fb3-813d-4556-bae1-445bb06bb335\",\"type\":\"CDSView\"},{\"attributes\":{\"plot\":null,\"text\":\"Log pressure scale\"},\"id\":\"b16a1b6b-ea55-48bd-967d-105d412f07fd\",\"type\":\"Title\"},{\"attributes\":{\"data_source\":{\"id\":\"71de6455-8785-4d61-b4b6-ba5c08b61ea7\",\"type\":\"ColumnDataSource\"},\"glyph\":{\"id\":\"ab3a8742-f33f-4d64-969c-7b4879bfa7bb\",\"type\":\"Line\"},\"hover_glyph\":null,\"muted_glyph\":null,\"nonselection_glyph\":{\"id\":\"fc7882ce-e0b0-4ead-8f83-682b38e7f2a3\",\"type\":\"Line\"},\"selection_glyph\":null,\"view\":{\"id\":\"daaa4fb3-813d-4556-bae1-445bb06bb335\",\"type\":\"CDSView\"}},\"id\":\"8d176b5c-e82c-4a46-9e85-a0dfcfe802c0\",\"type\":\"GlyphRenderer\"},{\"attributes\":{\"fill_alpha\":{\"value\":0.7},\"fill_color\":{\"value\":\"#4daf4a\"},\"line_alpha\":{\"value\":0.7},\"line_color\":{\"value\":\"#4daf4a\"},\"x\":{\"field\":\"x\"},\"y\":{\"field\":\"y\"}},\"id\":\"378eba47-8dbe-4452-8912-a0d0f900e0c2\",\"type\":\"Circle\"},{\"attributes\":{},\"id\":\"f7d5eecc-be49-4e80-8008-ddbb97382ff0\",\"type\":\"WheelZoomTool\"},{\"attributes\":{\"line_color\":\"#4daf4a\",\"line_width\":1.5,\"x\":{\"field\":\"x\"},\"y\":{\"field\":\"y\"}},\"id\":\"32a8f1e7-f7ef-47b6-80c4-74acba0d562c\",\"type\":\"Line\"},{\"attributes\":{\"active_drag\":\"auto\",\"active_inspect\":\"auto\",\"active_scroll\":\"auto\",\"active_tap\":\"auto\",\"tools\":[{\"id\":\"3a6b593c-4891-4134-a38f-9256d9e98c87\",\"type\":\"PanTool\"},{\"id\":\"e6ddf6e6-ca7e-4188-8133-d4d1351b6673\",\"type\":\"WheelZoomTool\"},{\"id\":\"b329b83c-8c8d-4199-814d-9853074c66c6\",\"type\":\"BoxZoomTool\"},{\"id\":\"c5bd2991-2c04-4490-b670-9cff1aa03a68\",\"type\":\"SaveTool\"},{\"id\":\"a1aca518-f49d-4b36-afa4-76979b57745f\",\"type\":\"ResetTool\"},{\"id\":\"e573ebc4-a491-4b85-9b3a-2260d12d4045\",\"type\":\"HelpTool\"}]},\"id\":\"b9349e92-d222-48fb-9fe2-53ad9871b575\",\"type\":\"Toolbar\"},{\"attributes\":{\"callback\":null,\"column_names\":[\"x\",\"y\"],\"data\":{\"x\":{\"__ndarray__\":\"AAAAAAAAAAAAAAAAAAAAAAAAAAAAAAAAAAAAAAAAAAAAAAAAAAAAAAAAAAAAAAAAd8PP4jkZlD9/5QnQK6iMv3I6JBAKpY4/90tUvgohbb8AAAAAAAAAANI2XyXWm20/t7KIzbUbVb/kYsb7fJJmP8XZWR2FF2A/y7LiPqvxdj9IpbDAS7hxP7f5FV+z64M/ixQt7ZJAiD9og0l642eRP5UBkKiKiJY/07gj23r/nT+481AdoyOiP/6B2r4zGaI/VwGlPhxmnj+3gQ0YvJmXPzzhteM3mZE/Io13OJs9iT9IXyz/ZtGBP3yrkYDBTHg/kinRYPtTbz+meJUjD0VjP+0oI3b6PVk/yLxbR7/3Uz84vLOFBrNQPwMf4iAHNEw/bcCOAlwjSz9Fk1+/wEpMP/S+Fb6GAE0/a4lOsx1jUD9l+J+iSe5gP5cq53+4On8/APaDGrvNlD8IBnghCTqkP26kjZ+dPq8/lhP5nUIIsz8WXZr/sFW2P4sPmvrMm7k/SPRbCRfRvD8ep+hILn/AP4ycx1m/NsM/Rn5Yyo39xT9KBJHib73IPwAAAAAAAAAASJHOI/OGyz8jUFg9u1fOP78DyVyVm9A/Q/7bXU4m0j/vfWB98qbUP+/zCAMJKdc/BZJm4gx02T/P4GvfDlrbP5BfaEM4xdw/STSav7a83T+5+WeCuF3eP+Vw94PLtN4/shBfHhnI3j/e0Tket4jeP7dKLAD4rd0/6CdBJOgU3D97lSmkBNbZP6ZeO0EwQdc/FdZbPQav1D9qYxUEyVrSP8MduX92Uc8/\",\"dtype\":\"float64\",\"shape\":[75]},\"y\":{\"__ndarray__\":\"MCRxoNFnQT9dcvo90IdNP+qWHeIftlQ/dNWXAFcNXT8NYIJ9MWBkP10nQT3OlGw/j4BJYrQLdD9jyv8cUR58P6d8Yj6UuIM/4k9uirCpiz98QnbexmaTPzw3+LjyNps/eYMeIE4Woz9zNWieEsaqP8rD9h4kx7I/FYYSdwZXuj8CvMP1QXnCPxYvFobI6ck/F35wPnUs0j/hCb3+JH7ZPwumL75H4eE/FK5H4XoU6T/Xo3A9CpfxPwaBlUOLrPg/ira+oyFOAUCgGi/dJEYIQBE2PL1SBhFAwE2QInzhF0B3TrNAu78gQPXb14FzfidA0ZFc/kN6MEAFo5I6AR03QHtLOV/sNUBAxAq3fCS9RkC8zob8M79PQCgmb4CZcVVAMzMzMzNjW0BmZmZmZqpgQLzoK0gzo2NAAAAAAACcZkBEF9S3zJRpQJqZmZmZjWxAZmZmZmaGb0AQ5KCEmT9xQAAAAAAAvHJA8Btfe2Y4dEAIclDCzLR1QPiNrz0zMXdAEOSghJmteEAAAAAAACp6QPAbX3tmpntACXJQwswifUD3ja89M59+QDeJQWDlSH9ACHJQwswNgEAAAAAAAMyAQPiNrz0zioFABTkoYWZIgkD7xteemQaDQAhyUMLMxINAAAAAAACDhED4ja89M0GFQAU5KGFm/4VA+8bXnpm9hkAIclDCzHuHQAAAAAAAOohA+I2vPTP4iEAFOShhZraJQPvG156ZdIpACXJQwswyi0AAAAAAAPGLQPeNrz0zr4xABTkoYWZtjUD7xteemSuOQHEDPj/M6Y5A\",\"dtype\":\"float64\",\"shape\":[75]}}},\"id\":\"84bde026-2769-4a4d-8866-1384fe05b083\",\"type\":\"ColumnDataSource\"},{\"attributes\":{\"fill_alpha\":{\"value\":0.1},\"fill_color\":{\"value\":\"#1f77b4\"},\"line_alpha\":{\"value\":0.1},\"line_color\":{\"value\":\"#1f77b4\"},\"x\":{\"field\":\"x\"},\"y\":{\"field\":\"y\"}},\"id\":\"91843c03-5bbe-4845-ade9-74beef4fe689\",\"type\":\"Circle\"},{\"attributes\":{\"line_alpha\":0.6,\"line_color\":\"#e41a1c\",\"line_dash\":[6],\"line_width\":5,\"x\":{\"field\":\"x\"},\"y\":{\"field\":\"y\"}},\"id\":\"e5e66870-df57-43a8-a928-f322e299d85b\",\"type\":\"Line\"},{\"attributes\":{\"callback\":null,\"column_names\":[\"x\",\"y\"],\"data\":{\"x\":{\"__ndarray__\":\"aiJooTdsRj+mTNbAP7pHPwcKOOL0jEo//KTv+gifTT+9ICfY8WNQP3Z04xugA1I/+oYt5syuUz/oeOBHuWVVP0qhp2SeKVc/2Wm1I+j6WD9+PGIzRtdaP5sApnm1j1w/KAONRTdiXj82hP+A2UlgP1inEy3njmM/IRksnZppbT/dsHqlv6J3P54R6mtatoE/g2Jexsg2iT/Uh6beB0qRPyZJncesDJc/1YztA7L7nT+VqkuRgRmiP73vIZCo8KE/Sz9DIPyWnT/ssKWwPNqWP9KtUuKuG5E/kNsYDioJiT8nt0k6BR6CPyEBupwC8Hk/+rR4DSkLcj8kWKwHRmpoPyxf0618mmE/mtdUzELMXD9GIbVIJJJYP9qfEb78alU/afpCnwVzVD85UF4Ynt1UP9wx6Kxnr1Q/S+V5rqmXVj+gpvqfnktmP9JmEOvumoM/IVB6zKSJmD/oa4P+DtGmP6fJqj2xTrE/Ga/YPSCqtD+fTeJ+F6u3P/xLBm2aB7s/10ciwxu3vj+I1BAVnobBP0PbfHZYG8Q/c16qLV6Zxj9VDtlFqhnJPx8Gg4rnscs/nvjLLYRYzj+Z8Zcv/4zQP+mOVju8BNI/Q4l2aAtn1D9XWx5Sj8LWPySF+Dr10Ng/0HF/RIx/2j/ghhp9z7zbP7jnZe4YjNw/9oINNu7+3D9Ji6UKDSLdP+rMJ7EVAd0/hsqi3SyY3D+OnQTRCszbP267XgEdfdo/1rO24ROz2D96TuQCLKjWP1SQXzwPlNQ/TJ5cAF240j/9sAISmUzRPxoX9l17mtE/\",\"dtype\":\"float64\",\"shape\":[75]},\"y\":{\"__ndarray__\":\"GhExyth1ND/Sv8nbtpRIP2vylNV0PVE/aTum7souWD/At0SJ8fVgPw3Iuahxymc/MSNhhJWvcD/bTfBN02d3P2zb5nxnaoA/CD5h5MAGhz8NmeH1TyaQP+zrCsc9p5Y/LbKd76fGnz/bLW5ISEmmPww9YvTcQq8/JV2OstnstT8Er5Y7M8G+P0c+r3jqkcU/5h99k6ZBzj88bCIzFzjVP4enV8oyxN0//yH99nXg5D8qOpLLf0jtP5kqGJXUifQ/c9cS8kHP/D+/DpwzojQEQIEmwoanVwxA4lgXt9HgE0BSSZ2AJuIbQAMJih9jjiNA5q4l5INuK0AwTKYKRj0zQNv5fmq8/DpAaCJseHrtQkB/+zpwzoxKQM3MzMzMeFJAZmZmZmZqWEAAAAAAAFxeQM3MzMzMJmJAmpmZmZkfZUBmZmZmZhhoQDMzMzMzEWtAAAAAAAAKbkBmZmZmZoFwQM3MzMzM/XFAMzMzMzN6c0CamZmZmfZ0QAAAAAAAc3ZAZmZmZmbvd0DNzMzMzGt5QDMzMzMz6HpAmpmZmZlkfEAAAAAAAOF9QGZmZmZmXX9AZmZmZuZsgECamZmZGSuBQM3MzMxM6YFAAAAAAICngkAzMzMzs2WDQGZmZmbmI4RAmpmZmRnihEDNzMzMTKCFQAAAAACAXoZAMzMzM7Mch0BmZmZm5tqHQJqZmZkZmYhAzczMzExXiUAAAAAAgBWKQDMzMzOz04pAZmZmZuaRi0CamZmZGVCMQM3MzMxMDo1AAAAAAIDMjUAzMzMzs4qOQGZmZmbmSI9A\",\"dtype\":\"float64\",\"shape\":[75]}}},\"id\":\"750b35b0-9dbf-46bb-a156-5a0ef93115d6\",\"type\":\"ColumnDataSource\"},{\"attributes\":{\"source\":{\"id\":\"750b35b0-9dbf-46bb-a156-5a0ef93115d6\",\"type\":\"ColumnDataSource\"}},\"id\":\"146ab07a-206f-46ca-8972-d28e95728b33\",\"type\":\"CDSView\"},{\"attributes\":{\"callback\":null,\"column_names\":[\"x\",\"y\"],\"data\":{\"x\":{\"__ndarray__\":\"aiJooTdsRj+mTNbAP7pHPwcKOOL0jEo//KTv+gifTT+9ICfY8WNQP3Z04xugA1I/+oYt5syuUz/oeOBHuWVVP0qhp2SeKVc/2Wm1I+j6WD9+PGIzRtdaP5sApnm1j1w/KAONRTdiXj82hP+A2UlgP1inEy3njmM/IRksnZppbT/dsHqlv6J3P54R6mtatoE/g2Jexsg2iT/Uh6beB0qRPyZJncesDJc/1YztA7L7nT+VqkuRgRmiP73vIZCo8KE/Sz9DIPyWnT/ssKWwPNqWP9KtUuKuG5E/kNsYDioJiT8nt0k6BR6CPyEBupwC8Hk/+rR4DSkLcj8kWKwHRmpoPyxf0618mmE/mtdUzELMXD9GIbVIJJJYP9qfEb78alU/afpCnwVzVD85UF4Ynt1UP9wx6Kxnr1Q/S+V5rqmXVj+gpvqfnktmP9JmEOvumoM/IVB6zKSJmD/oa4P+DtGmP6fJqj2xTrE/Ga/YPSCqtD+fTeJ+F6u3P/xLBm2aB7s/10ciwxu3vj+I1BAVnobBP0PbfHZYG8Q/c16qLV6Zxj9VDtlFqhnJPx8Gg4rnscs/nvjLLYRYzj+Z8Zcv/4zQP+mOVju8BNI/Q4l2aAtn1D9XWx5Sj8LWPySF+Dr10Ng/0HF/RIx/2j/ghhp9z7zbP7jnZe4YjNw/9oINNu7+3D9Ji6UKDSLdP+rMJ7EVAd0/hsqi3SyY3D+OnQTRCszbP267XgEdfdo/1rO24ROz2D96TuQCLKjWP1SQXzwPlNQ/TJ5cAF240j/9sAISmUzRPxoX9l17mtE/\",\"dtype\":\"float64\",\"shape\":[75]},\"y\":{\"__ndarray__\":\"GhExyth1ND/Sv8nbtpRIP2vylNV0PVE/aTum7souWD/At0SJ8fVgPw3Iuahxymc/MSNhhJWvcD/bTfBN02d3P2zb5nxnaoA/CD5h5MAGhz8NmeH1TyaQP+zrCsc9p5Y/LbKd76fGnz/bLW5ISEmmPww9YvTcQq8/JV2OstnstT8Er5Y7M8G+P0c+r3jqkcU/5h99k6ZBzj88bCIzFzjVP4enV8oyxN0//yH99nXg5D8qOpLLf0jtP5kqGJXUifQ/c9cS8kHP/D+/DpwzojQEQIEmwoanVwxA4lgXt9HgE0BSSZ2AJuIbQAMJih9jjiNA5q4l5INuK0AwTKYKRj0zQNv5fmq8/DpAaCJseHrtQkB/+zpwzoxKQM3MzMzMeFJAZmZmZmZqWEAAAAAAAFxeQM3MzMzMJmJAmpmZmZkfZUBmZmZmZhhoQDMzMzMzEWtAAAAAAAAKbkBmZmZmZoFwQM3MzMzM/XFAMzMzMzN6c0CamZmZmfZ0QAAAAAAAc3ZAZmZmZmbvd0DNzMzMzGt5QDMzMzMz6HpAmpmZmZlkfEAAAAAAAOF9QGZmZmZmXX9AZmZmZuZsgECamZmZGSuBQM3MzMxM6YFAAAAAAICngkAzMzMzs2WDQGZmZmbmI4RAmpmZmRnihEDNzMzMTKCFQAAAAACAXoZAMzMzM7Mch0BmZmZm5tqHQJqZmZkZmYhAzczMzExXiUAAAAAAgBWKQDMzMzOz04pAZmZmZuaRi0CamZmZGVCMQM3MzMxMDo1AAAAAAIDMjUAzMzMzs4qOQGZmZmbmSI9A\",\"dtype\":\"float64\",\"shape\":[75]}}},\"id\":\"71de6455-8785-4d61-b4b6-ba5c08b61ea7\",\"type\":\"ColumnDataSource\"},{\"attributes\":{\"data_source\":{\"id\":\"da46bc19-a7ff-4736-9770-e7771e353805\",\"type\":\"ColumnDataSource\"},\"glyph\":{\"id\":\"378eba47-8dbe-4452-8912-a0d0f900e0c2\",\"type\":\"Circle\"},\"hover_glyph\":null,\"muted_glyph\":null,\"nonselection_glyph\":{\"id\":\"91843c03-5bbe-4845-ade9-74beef4fe689\",\"type\":\"Circle\"},\"selection_glyph\":null,\"view\":{\"id\":\"dd6dc6cd-0893-45eb-beaf-6c65fd2db22f\",\"type\":\"CDSView\"}},\"id\":\"f011f595-0557-40d6-be0a-dd8e996a6f37\",\"type\":\"GlyphRenderer\"},{\"attributes\":{\"source\":{\"id\":\"da46bc19-a7ff-4736-9770-e7771e353805\",\"type\":\"ColumnDataSource\"}},\"id\":\"dd6dc6cd-0893-45eb-beaf-6c65fd2db22f\",\"type\":\"CDSView\"},{\"attributes\":{\"below\":[{\"id\":\"fce5318d-5aa0-489b-82ce-88559aeb8a6d\",\"type\":\"LinearAxis\"}],\"left\":[{\"id\":\"95d02765-2cdb-4fdb-b563-e44afb34f2c4\",\"type\":\"LogAxis\"}],\"plot_height\":500,\"plot_width\":560,\"renderers\":[{\"id\":\"fce5318d-5aa0-489b-82ce-88559aeb8a6d\",\"type\":\"LinearAxis\"},{\"id\":\"5727d8fe-164a-46d3-b82e-53d176996bbb\",\"type\":\"Grid\"},{\"id\":\"95d02765-2cdb-4fdb-b563-e44afb34f2c4\",\"type\":\"LogAxis\"},{\"id\":\"72fdcef8-638c-4e0e-8a17-38431bd2e42a\",\"type\":\"Grid\"},{\"id\":\"be1c296e-681c-4148-a434-b08c261bfcde\",\"type\":\"BoxAnnotation\"},{\"id\":\"03a3531d-a169-4e49-ac4f-57423c5b60df\",\"type\":\"GlyphRenderer\"},{\"id\":\"d837f5d8-a968-4c27-8023-12e82baea587\",\"type\":\"GlyphRenderer\"},{\"id\":\"01a79e93-250c-4ff7-a01c-e6e984f7c31d\",\"type\":\"GlyphRenderer\"},{\"id\":\"442740d4-272e-460c-88bf-b348e2a794fc\",\"type\":\"GlyphRenderer\"},{\"id\":\"570f5512-cda9-4e32-aa56-bbc4a13eae86\",\"type\":\"GlyphRenderer\"},{\"id\":\"f6664935-dbfe-41d6-802b-e2236e928198\",\"type\":\"Legend\"}],\"right\":[{\"id\":\"f6664935-dbfe-41d6-802b-e2236e928198\",\"type\":\"Legend\"}],\"title\":{\"id\":\"b16a1b6b-ea55-48bd-967d-105d412f07fd\",\"type\":\"Title\"},\"toolbar\":{\"id\":\"b9349e92-d222-48fb-9fe2-53ad9871b575\",\"type\":\"Toolbar\"},\"toolbar_location\":null,\"x_range\":{\"id\":\"e7691fe0-6ec7-47bc-8b16-60b0b7aacf3e\",\"type\":\"Range1d\"},\"x_scale\":{\"id\":\"d2de3fb8-6b08-4958-a448-5dee8c5b9e23\",\"type\":\"LinearScale\"},\"y_range\":{\"id\":\"22b937db-cd3a-44b4-8c7c-39de9cc75272\",\"type\":\"Range1d\"},\"y_scale\":{\"id\":\"016158f6-ea53-45eb-a7bb-ae702a109aee\",\"type\":\"LogScale\"}},\"id\":\"ccb02d42-57ef-4e16-8158-2d9b35a1ed62\",\"subtype\":\"Figure\",\"type\":\"Plot\"},{\"attributes\":{\"source\":{\"id\":\"b6d58fdb-6d77-43ee-915d-37e818b0b6b4\",\"type\":\"ColumnDataSource\"}},\"id\":\"6a016549-676e-4479-808c-65125bf0bce8\",\"type\":\"CDSView\"},{\"attributes\":{\"callback\":null,\"column_names\":[\"x\",\"y\"],\"data\":{\"x\":{\"__ndarray__\":\"aiJooTdsRj+mTNbAP7pHPwcKOOL0jEo//KTv+gifTT+9ICfY8WNQP3Z04xugA1I/+oYt5syuUz/oeOBHuWVVP0qhp2SeKVc/2Wm1I+j6WD9+PGIzRtdaP5sApnm1j1w/KAONRTdiXj82hP+A2UlgP1inEy3njmM/IRksnZppbT/dsHqlv6J3P54R6mtatoE/g2Jexsg2iT/Uh6beB0qRPyZJncesDJc/1YztA7L7nT+VqkuRgRmiP73vIZCo8KE/Sz9DIPyWnT/ssKWwPNqWP9KtUuKuG5E/kNsYDioJiT8nt0k6BR6CPyEBupwC8Hk/+rR4DSkLcj8kWKwHRmpoPyxf0618mmE/mtdUzELMXD9GIbVIJJJYP9qfEb78alU/afpCnwVzVD85UF4Ynt1UP9wx6Kxnr1Q/S+V5rqmXVj+gpvqfnktmP9JmEOvumoM/IVB6zKSJmD/oa4P+DtGmP6fJqj2xTrE/Ga/YPSCqtD+fTeJ+F6u3P/xLBm2aB7s/10ciwxu3vj+I1BAVnobBP0PbfHZYG8Q/c16qLV6Zxj9VDtlFqhnJPx8Gg4rnscs/nvjLLYRYzj+Z8Zcv/4zQP+mOVju8BNI/Q4l2aAtn1D9XWx5Sj8LWPySF+Dr10Ng/0HF/RIx/2j/ghhp9z7zbP7jnZe4YjNw/9oINNu7+3D9Ji6UKDSLdP+rMJ7EVAd0/hsqi3SyY3D+OnQTRCszbP267XgEdfdo/1rO24ROz2D96TuQCLKjWP1SQXzwPlNQ/TJ5cAF240j/9sAISmUzRPxoX9l17mtE/\",\"dtype\":\"float64\",\"shape\":[75]},\"y\":{\"__ndarray__\":\"GhExyth1ND/Sv8nbtpRIP2vylNV0PVE/aTum7souWD/At0SJ8fVgPw3Iuahxymc/MSNhhJWvcD/bTfBN02d3P2zb5nxnaoA/CD5h5MAGhz8NmeH1TyaQP+zrCsc9p5Y/LbKd76fGnz/bLW5ISEmmPww9YvTcQq8/JV2OstnstT8Er5Y7M8G+P0c+r3jqkcU/5h99k6ZBzj88bCIzFzjVP4enV8oyxN0//yH99nXg5D8qOpLLf0jtP5kqGJXUifQ/c9cS8kHP/D+/DpwzojQEQIEmwoanVwxA4lgXt9HgE0BSSZ2AJuIbQAMJih9jjiNA5q4l5INuK0AwTKYKRj0zQNv5fmq8/DpAaCJseHrtQkB/+zpwzoxKQM3MzMzMeFJAZmZmZmZqWEAAAAAAAFxeQM3MzMzMJmJAmpmZmZkfZUBmZmZmZhhoQDMzMzMzEWtAAAAAAAAKbkBmZmZmZoFwQM3MzMzM/XFAMzMzMzN6c0CamZmZmfZ0QAAAAAAAc3ZAZmZmZmbvd0DNzMzMzGt5QDMzMzMz6HpAmpmZmZlkfEAAAAAAAOF9QGZmZmZmXX9AZmZmZuZsgECamZmZGSuBQM3MzMxM6YFAAAAAAICngkAzMzMzs2WDQGZmZmbmI4RAmpmZmRnihEDNzMzMTKCFQAAAAACAXoZAMzMzM7Mch0BmZmZm5tqHQJqZmZkZmYhAzczMzExXiUAAAAAAgBWKQDMzMzOz04pAZmZmZuaRi0CamZmZGVCMQM3MzMxMDo1AAAAAAIDMjUAzMzMzs4qOQGZmZmbmSI9A\",\"dtype\":\"float64\",\"shape\":[75]}}},\"id\":\"aaec74b8-5ec3-4b0c-b605-dae4b1efefe7\",\"type\":\"ColumnDataSource\"},{\"attributes\":{\"data_source\":{\"id\":\"84bde026-2769-4a4d-8866-1384fe05b083\",\"type\":\"ColumnDataSource\"},\"glyph\":{\"id\":\"e5e66870-df57-43a8-a928-f322e299d85b\",\"type\":\"Line\"},\"hover_glyph\":null,\"muted_glyph\":null,\"nonselection_glyph\":{\"id\":\"04f0a8b3-f2e5-4a34-b023-86d981e6d686\",\"type\":\"Line\"},\"selection_glyph\":null,\"view\":{\"id\":\"90a8e9c3-8f2e-459e-904d-5ac368d2ad31\",\"type\":\"CDSView\"}},\"id\":\"383e423d-5f64-44fb-9882-3514c5a6d701\",\"type\":\"GlyphRenderer\"},{\"attributes\":{\"ticker\":null},\"id\":\"0a69a84a-621a-491a-a908-711676bd52e3\",\"type\":\"LogTickFormatter\"},{\"attributes\":{\"callback\":null,\"column_names\":[\"x\",\"y\"],\"data\":{\"x\":{\"__ndarray__\":\"1gCVyf4c6r70+W+8tO8AP2R7JdYhziA/SBw82p6GLj+tIc2ZV2Q2PxRp8MuzxT0/HkPDTnuVQj9tnoCWbnhGPz1tVpkZc0o/G2SaLhaDTj9sKQbimlZRP1zetBOAI1M/7QjqRiaIVD+Cmg8El3JWP4IKnUfkw1w/Mkt8mgVtaT+80zGwlMF2PxmdeR8q+YE/KxTpfk5Bij+Qsm5RoC6SP3NUa+oHOJg/6+cLKVhGnz9/MM/OkpWiP+OZAl/yu6E/iQjw9zqSmz8rWv00lRWUP8VB6dvn0Iw/oKl+dbrLhD8qKdMPuul+P4MDEneyoHc/Ky8hsen5cT/E9EYvH9dqPzywqoL7/2Q/DCQWm9DQYT8izee6umxeP1B0stNVmlk/kObnRa8/Vz/bS33NML1WP4uBZczs0VU/dCedZs9OVz/YmqfeBc9mP9BllG3zzYM/s7GESJVHmD8GABUurmimP3tCyt1UFbE/vDsecrRctD82MV+JAFq3P1D3KseeHLs/nVVVHpN7vz/p/6iPuC7CP+lQn0c51sQ/5/cFDWA+xz9m6VRDLKzJPw+o7RXMTsw/iNr0b7Aazz8LW/WxaQLRPxd9JnevhdI/jwidQnTp1D/RMlpg8jPXPw4WyplYJtk/VrVJ6qm62j+TFrLjVOXbP2XlNJddqNw/F/Ywi7sH3T/iG0y7fwndP2YAwX9nudw/d27zKXQc3D82AhLJZyTbP2GWTev8vNk/QUJahN7y1z9fkUaiI/vVP4vFLe5YD9Q/mLQ1ZDRZ0j+k6pHlqAzRP7aBO1CnfNE/\",\"dtype\":\"float64\",\"shape\":[75]},\"y\":{\"__ndarray__\":\"GhExyth1ND/Sv8nbtpRIP2vylNV0PVE/aTum7souWD/At0SJ8fVgPw3Iuahxymc/MSNhhJWvcD/bTfBN02d3P2zb5nxnaoA/CD5h5MAGhz8NmeH1TyaQP+zrCsc9p5Y/LbKd76fGnz/bLW5ISEmmPww9YvTcQq8/JV2OstnstT8Er5Y7M8G+P0c+r3jqkcU/5h99k6ZBzj88bCIzFzjVP4enV8oyxN0//yH99nXg5D8qOpLLf0jtP5kqGJXUifQ/c9cS8kHP/D+/DpwzojQEQIEmwoanVwxA4lgXt9HgE0BSSZ2AJuIbQAMJih9jjiNA5q4l5INuK0AwTKYKRj0zQNv5fmq8/DpAaCJseHrtQkB/+zpwzoxKQM3MzMzMeFJAZmZmZmZqWEAAAAAAAFxeQM3MzMzMJmJAmpmZmZkfZUBmZmZmZhhoQDMzMzMzEWtAAAAAAAAKbkBmZmZmZoFwQM3MzMzM/XFAMzMzMzN6c0CamZmZmfZ0QAAAAAAAc3ZAZmZmZmbvd0DNzMzMzGt5QDMzMzMz6HpAmpmZmZlkfEAAAAAAAOF9QGZmZmZmXX9AZmZmZuZsgECamZmZGSuBQM3MzMxM6YFAAAAAAICngkAzMzMzs2WDQGZmZmbmI4RAmpmZmRnihEDNzMzMTKCFQAAAAACAXoZAMzMzM7Mch0BmZmZm5tqHQJqZmZkZmYhAzczMzExXiUAAAAAAgBWKQDMzMzOz04pAZmZmZuaRi0CamZmZGVCMQM3MzMxMDo1AAAAAAIDMjUAzMzMzs4qOQGZmZmbmSI9A\",\"dtype\":\"float64\",\"shape\":[75]}}},\"id\":\"f951634d-90ef-4e29-8ad3-5daf221e3817\",\"type\":\"ColumnDataSource\"},{\"attributes\":{\"axis_label\":\"cooling rate [K/day]\",\"formatter\":{\"id\":\"b37a60ff-fa17-40c4-9540-bbbdcc7a6350\",\"type\":\"BasicTickFormatter\"},\"plot\":{\"id\":\"4252bc9d-1f12-432d-815b-0b7358fd4c9c\",\"subtype\":\"Figure\",\"type\":\"Plot\"},\"ticker\":{\"id\":\"321b90a3-fa59-4005-a753-e5882fe95940\",\"type\":\"BasicTicker\"}},\"id\":\"d623abc1-945f-4b64-80ea-31f319d9c936\",\"type\":\"LinearAxis\"},{\"attributes\":{},\"id\":\"aa87069b-640f-420b-a255-f8934de118e5\",\"type\":\"BasicTickFormatter\"},{\"attributes\":{\"fill_alpha\":{\"value\":0.7},\"fill_color\":{\"value\":\"#4daf4a\"},\"line_alpha\":{\"value\":0.7},\"line_color\":{\"value\":\"#4daf4a\"},\"x\":{\"field\":\"x\"},\"y\":{\"field\":\"y\"}},\"id\":\"dd997843-1d0b-414f-ae33-e5287f552fe0\",\"type\":\"Circle\"},{\"attributes\":{\"fill_alpha\":{\"value\":0.1},\"fill_color\":{\"value\":\"#1f77b4\"},\"line_alpha\":{\"value\":0.1},\"line_color\":{\"value\":\"#1f77b4\"},\"x\":{\"field\":\"x\"},\"y\":{\"field\":\"y\"}},\"id\":\"99599400-9dd4-4b13-b52b-e3a69c8ac30d\",\"type\":\"Circle\"},{\"attributes\":{\"data_source\":{\"id\":\"ab35740e-674f-41f1-9dc4-f94245bfcb4b\",\"type\":\"ColumnDataSource\"},\"glyph\":{\"id\":\"dd997843-1d0b-414f-ae33-e5287f552fe0\",\"type\":\"Circle\"},\"hover_glyph\":null,\"muted_glyph\":null,\"nonselection_glyph\":{\"id\":\"99599400-9dd4-4b13-b52b-e3a69c8ac30d\",\"type\":\"Circle\"},\"selection_glyph\":null,\"view\":{\"id\":\"7f28215c-4d93-402d-8742-2b6e58286838\",\"type\":\"CDSView\"}},\"id\":\"d837f5d8-a968-4c27-8023-12e82baea587\",\"type\":\"GlyphRenderer\"},{\"attributes\":{\"items\":[{\"id\":\"394430eb-4298-4a08-a06c-58fed674463e\",\"type\":\"LegendItem\"},{\"id\":\"f5c73aa5-1463-4d4d-a4fe-f20086db8970\",\"type\":\"LegendItem\"},{\"id\":\"45c720a8-5fb3-4d01-b194-e1a9e5c44d75\",\"type\":\"LegendItem\"}],\"label_text_font_size\":{\"value\":\"8pt\"},\"location\":[10,-30],\"plot\":{\"id\":\"ccb02d42-57ef-4e16-8158-2d9b35a1ed62\",\"subtype\":\"Figure\",\"type\":\"Plot\"}},\"id\":\"f6664935-dbfe-41d6-802b-e2236e928198\",\"type\":\"Legend\"},{\"attributes\":{\"callback\":null,\"column_names\":[\"x\",\"y\"],\"data\":{\"x\":{\"__ndarray__\":\"aiJooTdsRj+mTNbAP7pHPwcKOOL0jEo//KTv+gifTT+9ICfY8WNQP3Z04xugA1I/+oYt5syuUz/oeOBHuWVVP0qhp2SeKVc/2Wm1I+j6WD9+PGIzRtdaP5sApnm1j1w/KAONRTdiXj82hP+A2UlgP1inEy3njmM/IRksnZppbT/dsHqlv6J3P54R6mtatoE/g2Jexsg2iT/Uh6beB0qRPyZJncesDJc/1YztA7L7nT+VqkuRgRmiP73vIZCo8KE/Sz9DIPyWnT/ssKWwPNqWP9KtUuKuG5E/kNsYDioJiT8nt0k6BR6CPyEBupwC8Hk/+rR4DSkLcj8kWKwHRmpoPyxf0618mmE/mtdUzELMXD9GIbVIJJJYP9qfEb78alU/afpCnwVzVD85UF4Ynt1UP9wx6Kxnr1Q/S+V5rqmXVj+gpvqfnktmP9JmEOvumoM/IVB6zKSJmD/oa4P+DtGmP6fJqj2xTrE/Ga/YPSCqtD+fTeJ+F6u3P/xLBm2aB7s/10ciwxu3vj+I1BAVnobBP0PbfHZYG8Q/c16qLV6Zxj9VDtlFqhnJPx8Gg4rnscs/nvjLLYRYzj+Z8Zcv/4zQP+mOVju8BNI/Q4l2aAtn1D9XWx5Sj8LWPySF+Dr10Ng/0HF/RIx/2j/ghhp9z7zbP7jnZe4YjNw/9oINNu7+3D9Ji6UKDSLdP+rMJ7EVAd0/hsqi3SyY3D+OnQTRCszbP267XgEdfdo/1rO24ROz2D96TuQCLKjWP1SQXzwPlNQ/TJ5cAF240j/9sAISmUzRPxoX9l17mtE/\",\"dtype\":\"float64\",\"shape\":[75]},\"y\":{\"__ndarray__\":\"GhExyth1ND/Sv8nbtpRIP2vylNV0PVE/aTum7souWD/At0SJ8fVgPw3Iuahxymc/MSNhhJWvcD/bTfBN02d3P2zb5nxnaoA/CD5h5MAGhz8NmeH1TyaQP+zrCsc9p5Y/LbKd76fGnz/bLW5ISEmmPww9YvTcQq8/JV2OstnstT8Er5Y7M8G+P0c+r3jqkcU/5h99k6ZBzj88bCIzFzjVP4enV8oyxN0//yH99nXg5D8qOpLLf0jtP5kqGJXUifQ/c9cS8kHP/D+/DpwzojQEQIEmwoanVwxA4lgXt9HgE0BSSZ2AJuIbQAMJih9jjiNA5q4l5INuK0AwTKYKRj0zQNv5fmq8/DpAaCJseHrtQkB/+zpwzoxKQM3MzMzMeFJAZmZmZmZqWEAAAAAAAFxeQM3MzMzMJmJAmpmZmZkfZUBmZmZmZhhoQDMzMzMzEWtAAAAAAAAKbkBmZmZmZoFwQM3MzMzM/XFAMzMzMzN6c0CamZmZmfZ0QAAAAAAAc3ZAZmZmZmbvd0DNzMzMzGt5QDMzMzMz6HpAmpmZmZlkfEAAAAAAAOF9QGZmZmZmXX9AZmZmZuZsgECamZmZGSuBQM3MzMxM6YFAAAAAAICngkAzMzMzs2WDQGZmZmbmI4RAmpmZmRnihEDNzMzMTKCFQAAAAACAXoZAMzMzM7Mch0BmZmZm5tqHQJqZmZkZmYhAzczMzExXiUAAAAAAgBWKQDMzMzOz04pAZmZmZuaRi0CamZmZGVCMQM3MzMxMDo1AAAAAAIDMjUAzMzMzs4qOQGZmZmbmSI9A\",\"dtype\":\"float64\",\"shape\":[75]}}},\"id\":\"75f24061-df06-4b34-a6f0-4f2b7b0eac77\",\"type\":\"ColumnDataSource\"},{\"attributes\":{\"below\":[{\"id\":\"d623abc1-945f-4b64-80ea-31f319d9c936\",\"type\":\"LinearAxis\"}],\"left\":[{\"id\":\"c4370760-4f17-4bff-9f04-afbece2fca42\",\"type\":\"LinearAxis\"}],\"plot_height\":500,\"plot_width\":400,\"renderers\":[{\"id\":\"d623abc1-945f-4b64-80ea-31f319d9c936\",\"type\":\"LinearAxis\"},{\"id\":\"b4569f5a-5931-4c56-b1c2-a3afcdcf6def\",\"type\":\"Grid\"},{\"id\":\"c4370760-4f17-4bff-9f04-afbece2fca42\",\"type\":\"LinearAxis\"},{\"id\":\"5120d0bd-8caf-4f01-9c54-e72a433e9d51\",\"type\":\"Grid\"},{\"id\":\"e8c84c22-fe81-47ac-afb6-7c79b49f39d8\",\"type\":\"BoxAnnotation\"},{\"id\":\"383e423d-5f64-44fb-9882-3514c5a6d701\",\"type\":\"GlyphRenderer\"},{\"id\":\"f011f595-0557-40d6-be0a-dd8e996a6f37\",\"type\":\"GlyphRenderer\"},{\"id\":\"2969e5f3-6c0f-4c9d-846d-2c9be05454da\",\"type\":\"GlyphRenderer\"},{\"id\":\"11c4c91c-1518-4954-9548-03d5b2d52e3a\",\"type\":\"GlyphRenderer\"},{\"id\":\"8d176b5c-e82c-4a46-9e85-a0dfcfe802c0\",\"type\":\"GlyphRenderer\"}],\"title\":{\"id\":\"4fad7975-edf8-44a3-b1c0-f90295166e75\",\"type\":\"Title\"},\"toolbar\":{\"id\":\"5fd8e43a-37f3-4c08-9c93-87ec0fac4977\",\"type\":\"Toolbar\"},\"toolbar_location\":null,\"x_range\":{\"id\":\"784b3cf7-32cd-4ea8-a012-47cdef8ea977\",\"type\":\"Range1d\"},\"x_scale\":{\"id\":\"a5b3dc83-fe01-4918-aa2f-a5385ed3a5f6\",\"type\":\"LinearScale\"},\"y_range\":{\"id\":\"16ce0b2d-e417-430e-a531-d2c2fb99d8a1\",\"type\":\"Range1d\"},\"y_scale\":{\"id\":\"2e85a017-8f9e-418f-bbb6-d3cd66f410ab\",\"type\":\"LinearScale\"}},\"id\":\"4252bc9d-1f12-432d-815b-0b7358fd4c9c\",\"subtype\":\"Figure\",\"type\":\"Plot\"},{\"attributes\":{\"source\":{\"id\":\"4a5281f2-63b9-4300-95d2-f920be8c7c6d\",\"type\":\"ColumnDataSource\"}},\"id\":\"0e1e1894-54f6-427a-be4c-9eccd31022c4\",\"type\":\"CDSView\"},{\"attributes\":{},\"id\":\"016158f6-ea53-45eb-a7bb-ae702a109aee\",\"type\":\"LogScale\"},{\"attributes\":{\"source\":{\"id\":\"ab35740e-674f-41f1-9dc4-f94245bfcb4b\",\"type\":\"ColumnDataSource\"}},\"id\":\"7f28215c-4d93-402d-8742-2b6e58286838\",\"type\":\"CDSView\"},{\"attributes\":{\"toolbar\":{\"id\":\"9d913c73-bc26-405d-ad97-9c1f5d6d265f\",\"type\":\"ProxyToolbar\"},\"toolbar_location\":\"above\"},\"id\":\"dbfb4d7d-8d89-47d3-87ae-357d77071280\",\"type\":\"ToolbarBox\"},{\"attributes\":{},\"id\":\"b37a60ff-fa17-40c4-9540-bbbdcc7a6350\",\"type\":\"BasicTickFormatter\"},{\"attributes\":{\"line_color\":\"#4daf4a\",\"line_width\":1.5,\"x\":{\"field\":\"x\"},\"y\":{\"field\":\"y\"}},\"id\":\"9a713030-4002-4204-bd09-721eba5a9808\",\"type\":\"Line\"},{\"attributes\":{\"plot\":{\"id\":\"ccb02d42-57ef-4e16-8158-2d9b35a1ed62\",\"subtype\":\"Figure\",\"type\":\"Plot\"},\"ticker\":{\"id\":\"d8bfeabe-a305-4070-b079-aec84eb2d235\",\"type\":\"BasicTicker\"}},\"id\":\"5727d8fe-164a-46d3-b82e-53d176996bbb\",\"type\":\"Grid\"},{\"attributes\":{\"fill_alpha\":{\"value\":0.1},\"fill_color\":{\"value\":\"#1f77b4\"},\"line_alpha\":{\"value\":0.1},\"line_color\":{\"value\":\"#1f77b4\"},\"x\":{\"field\":\"x\"},\"y\":{\"field\":\"y\"}},\"id\":\"e25428d7-bb61-422f-9cfb-3097df728fea\",\"type\":\"Square\"},{\"attributes\":{\"data_source\":{\"id\":\"f951634d-90ef-4e29-8ad3-5daf221e3817\",\"type\":\"ColumnDataSource\"},\"glyph\":{\"id\":\"9a713030-4002-4204-bd09-721eba5a9808\",\"type\":\"Line\"},\"hover_glyph\":null,\"muted_glyph\":null,\"nonselection_glyph\":{\"id\":\"59f42fb2-8bc2-478d-9690-980c4d1627ee\",\"type\":\"Line\"},\"selection_glyph\":null,\"view\":{\"id\":\"330709ce-ffec-42fa-aaa5-dce8c3394b2d\",\"type\":\"CDSView\"}},\"id\":\"01a79e93-250c-4ff7-a01c-e6e984f7c31d\",\"type\":\"GlyphRenderer\"},{\"attributes\":{},\"id\":\"d2de3fb8-6b08-4958-a448-5dee8c5b9e23\",\"type\":\"LinearScale\"},{\"attributes\":{\"line_alpha\":0.1,\"line_color\":\"#1f77b4\",\"line_width\":1.5,\"x\":{\"field\":\"x\"},\"y\":{\"field\":\"y\"}},\"id\":\"59f42fb2-8bc2-478d-9690-980c4d1627ee\",\"type\":\"Line\"},{\"attributes\":{\"source\":{\"id\":\"f951634d-90ef-4e29-8ad3-5daf221e3817\",\"type\":\"ColumnDataSource\"}},\"id\":\"330709ce-ffec-42fa-aaa5-dce8c3394b2d\",\"type\":\"CDSView\"},{\"attributes\":{\"line_alpha\":0.6,\"line_color\":\"#e41a1c\",\"line_dash\":[6],\"line_width\":5,\"x\":{\"field\":\"x\"},\"y\":{\"field\":\"y\"}},\"id\":\"0cc4a392-68e7-41c6-9440-da4e11436e9a\",\"type\":\"Line\"},{\"attributes\":{\"fill_alpha\":{\"value\":0.7},\"fill_color\":{\"value\":\"#984ea3\"},\"line_alpha\":{\"value\":0.7},\"line_color\":{\"value\":\"#984ea3\"},\"x\":{\"field\":\"x\"},\"y\":{\"field\":\"y\"}},\"id\":\"ecd5c57c-4b21-4bab-9779-71cb56d50070\",\"type\":\"Square\"},{\"attributes\":{\"data_source\":{\"id\":\"75f24061-df06-4b34-a6f0-4f2b7b0eac77\",\"type\":\"ColumnDataSource\"},\"glyph\":{\"id\":\"ecd5c57c-4b21-4bab-9779-71cb56d50070\",\"type\":\"Square\"},\"hover_glyph\":null,\"muted_glyph\":null,\"nonselection_glyph\":{\"id\":\"e25428d7-bb61-422f-9cfb-3097df728fea\",\"type\":\"Square\"},\"selection_glyph\":null,\"view\":{\"id\":\"1f64a057-ec96-48a4-8e10-62e9017aa608\",\"type\":\"CDSView\"}},\"id\":\"442740d4-272e-460c-88bf-b348e2a794fc\",\"type\":\"GlyphRenderer\"},{\"attributes\":{\"dimension\":1,\"plot\":{\"id\":\"ccb02d42-57ef-4e16-8158-2d9b35a1ed62\",\"subtype\":\"Figure\",\"type\":\"Plot\"},\"ticker\":{\"id\":\"ae50f7e8-0118-404c-813d-da081200f3c6\",\"type\":\"LogTicker\"}},\"id\":\"72fdcef8-638c-4e0e-8a17-38431bd2e42a\",\"type\":\"Grid\"},{\"attributes\":{},\"id\":\"d8bfeabe-a305-4070-b079-aec84eb2d235\",\"type\":\"BasicTicker\"},{\"attributes\":{\"line_alpha\":0.1,\"line_color\":\"#1f77b4\",\"line_width\":3,\"x\":{\"field\":\"x\"},\"y\":{\"field\":\"y\"}},\"id\":\"def9c4f0-615a-4c82-9617-52ad9338cf49\",\"type\":\"Line\"},{\"attributes\":{\"axis_label\":\"cooling rate [K/day]\",\"formatter\":{\"id\":\"aa87069b-640f-420b-a255-f8934de118e5\",\"type\":\"BasicTickFormatter\"},\"plot\":{\"id\":\"ccb02d42-57ef-4e16-8158-2d9b35a1ed62\",\"subtype\":\"Figure\",\"type\":\"Plot\"},\"ticker\":{\"id\":\"d8bfeabe-a305-4070-b079-aec84eb2d235\",\"type\":\"BasicTicker\"}},\"id\":\"fce5318d-5aa0-489b-82ce-88559aeb8a6d\",\"type\":\"LinearAxis\"},{\"attributes\":{\"callback\":null,\"end\":0.036695936996999995,\"start\":-0.003954326697},\"id\":\"e7691fe0-6ec7-47bc-8b16-60b0b7aacf3e\",\"type\":\"Range1d\"},{\"attributes\":{\"callback\":null,\"end\":0.01,\"start\":1020},\"id\":\"16ce0b2d-e417-430e-a531-d2c2fb99d8a1\",\"type\":\"Range1d\"},{\"attributes\":{\"source\":{\"id\":\"75f24061-df06-4b34-a6f0-4f2b7b0eac77\",\"type\":\"ColumnDataSource\"}},\"id\":\"1f64a057-ec96-48a4-8e10-62e9017aa608\",\"type\":\"CDSView\"},{\"attributes\":{},\"id\":\"2e85a017-8f9e-418f-bbb6-d3cd66f410ab\",\"type\":\"LinearScale\"},{\"attributes\":{\"line_alpha\":0.6,\"line_color\":\"#984ea3\",\"line_width\":3,\"x\":{\"field\":\"x\"},\"y\":{\"field\":\"y\"}},\"id\":\"20c2de65-8318-401b-821e-011b8ed24337\",\"type\":\"Line\"},{\"attributes\":{\"data_source\":{\"id\":\"aaec74b8-5ec3-4b0c-b605-dae4b1efefe7\",\"type\":\"ColumnDataSource\"},\"glyph\":{\"id\":\"20c2de65-8318-401b-821e-011b8ed24337\",\"type\":\"Line\"},\"hover_glyph\":null,\"muted_glyph\":null,\"nonselection_glyph\":{\"id\":\"def9c4f0-615a-4c82-9617-52ad9338cf49\",\"type\":\"Line\"},\"selection_glyph\":null,\"view\":{\"id\":\"7e777734-9f15-4790-ae6a-14cf4f0a8aa0\",\"type\":\"CDSView\"}},\"id\":\"570f5512-cda9-4e32-aa56-bbc4a13eae86\",\"type\":\"GlyphRenderer\"},{\"attributes\":{},\"id\":\"e6ddf6e6-ca7e-4188-8133-d4d1351b6673\",\"type\":\"WheelZoomTool\"},{\"attributes\":{\"label\":{\"value\":\"CRD\"},\"renderers\":[{\"id\":\"d837f5d8-a968-4c27-8023-12e82baea587\",\"type\":\"GlyphRenderer\"},{\"id\":\"01a79e93-250c-4ff7-a01c-e6e984f7c31d\",\"type\":\"GlyphRenderer\"}]},\"id\":\"f5c73aa5-1463-4d4d-a4fe-f20086db8970\",\"type\":\"LegendItem\"},{\"attributes\":{\"source\":{\"id\":\"aaec74b8-5ec3-4b0c-b605-dae4b1efefe7\",\"type\":\"ColumnDataSource\"}},\"id\":\"7e777734-9f15-4790-ae6a-14cf4f0a8aa0\",\"type\":\"CDSView\"},{\"attributes\":{\"overlay\":{\"id\":\"be1c296e-681c-4148-a434-b08c261bfcde\",\"type\":\"BoxAnnotation\"}},\"id\":\"b329b83c-8c8d-4199-814d-9853074c66c6\",\"type\":\"BoxZoomTool\"},{\"attributes\":{},\"id\":\"a1aca518-f49d-4b36-afa4-76979b57745f\",\"type\":\"ResetTool\"},{\"attributes\":{\"callback\":null,\"column_names\":[\"x\",\"y\"],\"data\":{\"x\":{\"__ndarray__\":\"1gCVyf4c6r70+W+8tO8AP2R7JdYhziA/SBw82p6GLj+tIc2ZV2Q2PxRp8MuzxT0/HkPDTnuVQj9tnoCWbnhGPz1tVpkZc0o/G2SaLhaDTj9sKQbimlZRP1zetBOAI1M/7QjqRiaIVD+Cmg8El3JWP4IKnUfkw1w/Mkt8mgVtaT+80zGwlMF2PxmdeR8q+YE/KxTpfk5Bij+Qsm5RoC6SP3NUa+oHOJg/6+cLKVhGnz9/MM/OkpWiP+OZAl/yu6E/iQjw9zqSmz8rWv00lRWUP8VB6dvn0Iw/oKl+dbrLhD8qKdMPuul+P4MDEneyoHc/Ky8hsen5cT/E9EYvH9dqPzywqoL7/2Q/DCQWm9DQYT8izee6umxeP1B0stNVmlk/kObnRa8/Vz/bS33NML1WP4uBZczs0VU/dCedZs9OVz/YmqfeBc9mP9BllG3zzYM/s7GESJVHmD8GABUurmimP3tCyt1UFbE/vDsecrRctD82MV+JAFq3P1D3KseeHLs/nVVVHpN7vz/p/6iPuC7CP+lQn0c51sQ/5/cFDWA+xz9m6VRDLKzJPw+o7RXMTsw/iNr0b7Aazz8LW/WxaQLRPxd9JnevhdI/jwidQnTp1D/RMlpg8jPXPw4WyplYJtk/VrVJ6qm62j+TFrLjVOXbP2XlNJddqNw/F/Ywi7sH3T/iG0y7fwndP2YAwX9nudw/d27zKXQc3D82AhLJZyTbP2GWTev8vNk/QUJahN7y1z9fkUaiI/vVP4vFLe5YD9Q/mLQ1ZDRZ0j+k6pHlqAzRP7aBO1CnfNE/\",\"dtype\":\"float64\",\"shape\":[75]},\"y\":{\"__ndarray__\":\"GhExyth1ND/Sv8nbtpRIP2vylNV0PVE/aTum7souWD/At0SJ8fVgPw3Iuahxymc/MSNhhJWvcD/bTfBN02d3P2zb5nxnaoA/CD5h5MAGhz8NmeH1TyaQP+zrCsc9p5Y/LbKd76fGnz/bLW5ISEmmPww9YvTcQq8/JV2OstnstT8Er5Y7M8G+P0c+r3jqkcU/5h99k6ZBzj88bCIzFzjVP4enV8oyxN0//yH99nXg5D8qOpLLf0jtP5kqGJXUifQ/c9cS8kHP/D+/DpwzojQEQIEmwoanVwxA4lgXt9HgE0BSSZ2AJuIbQAMJih9jjiNA5q4l5INuK0AwTKYKRj0zQNv5fmq8/DpAaCJseHrtQkB/+zpwzoxKQM3MzMzMeFJAZmZmZmZqWEAAAAAAAFxeQM3MzMzMJmJAmpmZmZkfZUBmZmZmZhhoQDMzMzMzEWtAAAAAAAAKbkBmZmZmZoFwQM3MzMzM/XFAMzMzMzN6c0CamZmZmfZ0QAAAAAAAc3ZAZmZmZmbvd0DNzMzMzGt5QDMzMzMz6HpAmpmZmZlkfEAAAAAAAOF9QGZmZmZmXX9AZmZmZuZsgECamZmZGSuBQM3MzMxM6YFAAAAAAICngkAzMzMzs2WDQGZmZmbmI4RAmpmZmRnihEDNzMzMTKCFQAAAAACAXoZAMzMzM7Mch0BmZmZm5tqHQJqZmZkZmYhAzczMzExXiUAAAAAAgBWKQDMzMzOz04pAZmZmZuaRi0CamZmZGVCMQM3MzMxMDo1AAAAAAIDMjUAzMzMzs4qOQGZmZmbmSI9A\",\"dtype\":\"float64\",\"shape\":[75]}}},\"id\":\"da46bc19-a7ff-4736-9770-e7771e353805\",\"type\":\"ColumnDataSource\"},{\"attributes\":{},\"id\":\"e573ebc4-a491-4b85-9b3a-2260d12d4045\",\"type\":\"HelpTool\"},{\"attributes\":{\"label\":{\"value\":\"WGT igg=10 wgt_flux=2\"},\"renderers\":[{\"id\":\"442740d4-272e-460c-88bf-b348e2a794fc\",\"type\":\"GlyphRenderer\"},{\"id\":\"570f5512-cda9-4e32-aa56-bbc4a13eae86\",\"type\":\"GlyphRenderer\"}]},\"id\":\"45c720a8-5fb3-4d01-b194-e1a9e5c44d75\",\"type\":\"LegendItem\"},{\"attributes\":{\"children\":[{\"id\":\"dbfb4d7d-8d89-47d3-87ae-357d77071280\",\"type\":\"ToolbarBox\"},{\"id\":\"8028c988-e3d0-47ac-9be7-faee9a39eb7a\",\"type\":\"Column\"}]},\"id\":\"e791b9b8-26ab-4512-b6ed-b5d7726f319f\",\"type\":\"Column\"},{\"attributes\":{\"children\":[{\"id\":\"4252bc9d-1f12-432d-815b-0b7358fd4c9c\",\"subtype\":\"Figure\",\"type\":\"Plot\"},{\"id\":\"ccb02d42-57ef-4e16-8158-2d9b35a1ed62\",\"subtype\":\"Figure\",\"type\":\"Plot\"}]},\"id\":\"f95ef574-7400-4b0d-8125-0c3fb5439fba\",\"type\":\"Row\"},{\"attributes\":{},\"id\":\"3a6b593c-4891-4134-a38f-9256d9e98c87\",\"type\":\"PanTool\"},{\"attributes\":{\"callback\":null,\"column_names\":[\"x\",\"y\"],\"data\":{\"x\":{\"__ndarray__\":\"AAAAAAAAAAAAAAAAAAAAAAAAAAAAAAAAAAAAAAAAAAAAAAAAAAAAAAAAAAAAAAAAd8PP4jkZlD9/5QnQK6iMv3I6JBAKpY4/90tUvgohbb8AAAAAAAAAANI2XyXWm20/t7KIzbUbVb/kYsb7fJJmP8XZWR2FF2A/y7LiPqvxdj9IpbDAS7hxP7f5FV+z64M/ixQt7ZJAiD9og0l642eRP5UBkKiKiJY/07gj23r/nT+481AdoyOiP/6B2r4zGaI/VwGlPhxmnj+3gQ0YvJmXPzzhteM3mZE/Io13OJs9iT9IXyz/ZtGBP3yrkYDBTHg/kinRYPtTbz+meJUjD0VjP+0oI3b6PVk/yLxbR7/3Uz84vLOFBrNQPwMf4iAHNEw/bcCOAlwjSz9Fk1+/wEpMP/S+Fb6GAE0/a4lOsx1jUD9l+J+iSe5gP5cq53+4On8/APaDGrvNlD8IBnghCTqkP26kjZ+dPq8/lhP5nUIIsz8WXZr/sFW2P4sPmvrMm7k/SPRbCRfRvD8ep+hILn/AP4ycx1m/NsM/Rn5Yyo39xT9KBJHib73IPwAAAAAAAAAASJHOI/OGyz8jUFg9u1fOP78DyVyVm9A/Q/7bXU4m0j/vfWB98qbUP+/zCAMJKdc/BZJm4gx02T/P4GvfDlrbP5BfaEM4xdw/STSav7a83T+5+WeCuF3eP+Vw94PLtN4/shBfHhnI3j/e0Tket4jeP7dKLAD4rd0/6CdBJOgU3D97lSmkBNbZP6ZeO0EwQdc/FdZbPQav1D9qYxUEyVrSP8MduX92Uc8/\",\"dtype\":\"float64\",\"shape\":[75]},\"y\":{\"__ndarray__\":\"MCRxoNFnQT9dcvo90IdNP+qWHeIftlQ/dNWXAFcNXT8NYIJ9MWBkP10nQT3OlGw/j4BJYrQLdD9jyv8cUR58P6d8Yj6UuIM/4k9uirCpiz98QnbexmaTPzw3+LjyNps/eYMeIE4Woz9zNWieEsaqP8rD9h4kx7I/FYYSdwZXuj8CvMP1QXnCPxYvFobI6ck/F35wPnUs0j/hCb3+JH7ZPwumL75H4eE/FK5H4XoU6T/Xo3A9CpfxPwaBlUOLrPg/ira+oyFOAUCgGi/dJEYIQBE2PL1SBhFAwE2QInzhF0B3TrNAu78gQPXb14FzfidA0ZFc/kN6MEAFo5I6AR03QHtLOV/sNUBAxAq3fCS9RkC8zob8M79PQCgmb4CZcVVAMzMzMzNjW0BmZmZmZqpgQLzoK0gzo2NAAAAAAACcZkBEF9S3zJRpQJqZmZmZjWxAZmZmZmaGb0AQ5KCEmT9xQAAAAAAAvHJA8Btfe2Y4dEAIclDCzLR1QPiNrz0zMXdAEOSghJmteEAAAAAAACp6QPAbX3tmpntACXJQwswifUD3ja89M59+QDeJQWDlSH9ACHJQwswNgEAAAAAAAMyAQPiNrz0zioFABTkoYWZIgkD7xteemQaDQAhyUMLMxINAAAAAAACDhED4ja89M0GFQAU5KGFm/4VA+8bXnpm9hkAIclDCzHuHQAAAAAAAOohA+I2vPTP4iEAFOShhZraJQPvG156ZdIpACXJQwswyi0AAAAAAAPGLQPeNrz0zr4xABTkoYWZtjUD7xteemSuOQHEDPj/M6Y5A\",\"dtype\":\"float64\",\"shape\":[75]}}},\"id\":\"4a5281f2-63b9-4300-95d2-f920be8c7c6d\",\"type\":\"ColumnDataSource\"},{\"attributes\":{\"label\":{\"value\":\"CLIRAD `coolr_bands`\"},\"renderers\":[{\"id\":\"03a3531d-a169-4e49-ac4f-57423c5b60df\",\"type\":\"GlyphRenderer\"}]},\"id\":\"394430eb-4298-4a08-a06c-58fed674463e\",\"type\":\"LegendItem\"},{\"attributes\":{\"callback\":null,\"end\":0.01,\"start\":1020},\"id\":\"22b937db-cd3a-44b4-8c7c-39de9cc75272\",\"type\":\"Range1d\"},{\"attributes\":{\"bottom_units\":\"screen\",\"fill_alpha\":{\"value\":0.5},\"fill_color\":{\"value\":\"lightgrey\"},\"left_units\":\"screen\",\"level\":\"overlay\",\"line_alpha\":{\"value\":1.0},\"line_color\":{\"value\":\"black\"},\"line_dash\":[4,4],\"line_width\":{\"value\":2},\"plot\":null,\"render_mode\":\"css\",\"right_units\":\"screen\",\"top_units\":\"screen\"},\"id\":\"be1c296e-681c-4148-a434-b08c261bfcde\",\"type\":\"BoxAnnotation\"},{\"attributes\":{\"children\":[{\"id\":\"f95ef574-7400-4b0d-8125-0c3fb5439fba\",\"type\":\"Row\"}]},\"id\":\"8028c988-e3d0-47ac-9be7-faee9a39eb7a\",\"type\":\"Column\"},{\"attributes\":{},\"id\":\"c5bd2991-2c04-4490-b670-9cff1aa03a68\",\"type\":\"SaveTool\"}],\"root_ids\":[\"e791b9b8-26ab-4512-b6ed-b5d7726f319f\"]},\"title\":\"Bokeh Application\",\"version\":\"0.12.14\"}};\n",
       "  var render_items = [{\"docid\":\"4957ec48-2544-4e56-a809-35e8a01be0a1\",\"elementid\":\"8cc99a3a-3d76-4481-b63f-bd6f70b245e3\",\"modelid\":\"e791b9b8-26ab-4512-b6ed-b5d7726f319f\"}];\n",
       "  root.Bokeh.embed.embed_items_notebook(docs_json, render_items);\n",
       "\n",
       "  }\n",
       "  if (root.Bokeh !== undefined) {\n",
       "    embed_document(root);\n",
       "  } else {\n",
       "    var attempts = 0;\n",
       "    var timer = setInterval(function(root) {\n",
       "      if (root.Bokeh !== undefined) {\n",
       "        embed_document(root);\n",
       "        clearInterval(timer);\n",
       "      }\n",
       "      attempts++;\n",
       "      if (attempts > 100) {\n",
       "        console.log(\"Bokeh: ERROR: Unable to run BokehJS code because BokehJS library is missing\")\n",
       "        clearInterval(timer);\n",
       "      }\n",
       "    }, 10, root)\n",
       "  }\n",
       "})(window);"
      ],
      "application/vnd.bokehjs_exec.v0+json": ""
     },
     "metadata": {
      "application/vnd.bokehjs_exec.v0+json": {
       "id": "e791b9b8-26ab-4512-b6ed-b5d7726f319f"
      }
     },
     "output_type": "display_data"
    },
    {
     "name": "stdout",
     "output_type": "stream",
     "text": [
      "FIGURE. Cooling rate profiles.\n"
     ]
    },
    {
     "data": {
      "text/html": [
       "<a id=\"Flux_Comparison\"></a>"
      ],
      "text/plain": [
       "<IPython.core.display.HTML object>"
      ]
     },
     "metadata": {},
     "output_type": "display_data"
    },
    {
     "data": {
      "text/markdown": [
       "# Flux Comparison"
      ],
      "text/plain": [
       "<IPython.core.display.Markdown object>"
      ]
     },
     "metadata": {},
     "output_type": "display_data"
    },
    {
     "data": {
      "text/html": [
       "<div>\n",
       "<style>\n",
       "    .dataframe thead tr:only-child th {\n",
       "        text-align: right;\n",
       "    }\n",
       "\n",
       "    .dataframe thead th {\n",
       "        text-align: left;\n",
       "    }\n",
       "\n",
       "    .dataframe tbody tr th {\n",
       "        vertical-align: top;\n",
       "    }\n",
       "</style>\n",
       "<table border=\"1\" class=\"dataframe\">\n",
       "  <thead>\n",
       "    <tr style=\"text-align: right;\">\n",
       "      <th></th>\n",
       "      <th></th>\n",
       "      <th>flug</th>\n",
       "      <th>fldg</th>\n",
       "      <th>fnetg</th>\n",
       "    </tr>\n",
       "    <tr>\n",
       "      <th>pressure</th>\n",
       "      <th>level</th>\n",
       "      <th></th>\n",
       "      <th></th>\n",
       "      <th></th>\n",
       "    </tr>\n",
       "  </thead>\n",
       "  <tbody>\n",
       "    <tr>\n",
       "      <th>0.0000</th>\n",
       "      <th>1</th>\n",
       "      <td>-29.472113</td>\n",
       "      <td>0.000000</td>\n",
       "      <td>-29.472113</td>\n",
       "    </tr>\n",
       "    <tr>\n",
       "      <th>1.0685</th>\n",
       "      <th>24</th>\n",
       "      <td>-29.471614</td>\n",
       "      <td>0.002412</td>\n",
       "      <td>-29.469202</td>\n",
       "    </tr>\n",
       "    <tr>\n",
       "      <th>1013.0000</th>\n",
       "      <th>76</th>\n",
       "      <td>-36.235409</td>\n",
       "      <td>32.494585</td>\n",
       "      <td>-3.740822</td>\n",
       "    </tr>\n",
       "  </tbody>\n",
       "</table>\n",
       "</div>"
      ],
      "text/plain": [
       "                      flug       fldg      fnetg\n",
       "pressure  level                                 \n",
       "0.0000    1     -29.472113   0.000000 -29.472113\n",
       "1.0685    24    -29.471614   0.002412 -29.469202\n",
       "1013.0000 76    -36.235409  32.494585  -3.740822"
      ]
     },
     "metadata": {},
     "output_type": "display_data"
    },
    {
     "name": "stdout",
     "output_type": "stream",
     "text": [
      "Table. Fluxes. WGT igg=10 wgt_flux=1\n"
     ]
    },
    {
     "data": {
      "text/html": [
       "<div>\n",
       "<style>\n",
       "    .dataframe thead tr:only-child th {\n",
       "        text-align: right;\n",
       "    }\n",
       "\n",
       "    .dataframe thead th {\n",
       "        text-align: left;\n",
       "    }\n",
       "\n",
       "    .dataframe tbody tr th {\n",
       "        vertical-align: top;\n",
       "    }\n",
       "</style>\n",
       "<table border=\"1\" class=\"dataframe\">\n",
       "  <thead>\n",
       "    <tr style=\"text-align: right;\">\n",
       "      <th></th>\n",
       "      <th></th>\n",
       "      <th>flug</th>\n",
       "      <th>fldg</th>\n",
       "      <th>fnetg</th>\n",
       "    </tr>\n",
       "    <tr>\n",
       "      <th>pressure</th>\n",
       "      <th>level</th>\n",
       "      <th></th>\n",
       "      <th></th>\n",
       "      <th></th>\n",
       "    </tr>\n",
       "  </thead>\n",
       "  <tbody>\n",
       "    <tr>\n",
       "      <th>0.0000</th>\n",
       "      <th>1</th>\n",
       "      <td>-29.472619</td>\n",
       "      <td>0.000000</td>\n",
       "      <td>-29.472619</td>\n",
       "    </tr>\n",
       "    <tr>\n",
       "      <th>1.0685</th>\n",
       "      <th>24</th>\n",
       "      <td>-29.472354</td>\n",
       "      <td>0.002743</td>\n",
       "      <td>-29.469611</td>\n",
       "    </tr>\n",
       "    <tr>\n",
       "      <th>1013.0000</th>\n",
       "      <th>76</th>\n",
       "      <td>-36.235408</td>\n",
       "      <td>32.486006</td>\n",
       "      <td>-3.749402</td>\n",
       "    </tr>\n",
       "  </tbody>\n",
       "</table>\n",
       "</div>"
      ],
      "text/plain": [
       "                      flug       fldg      fnetg\n",
       "pressure  level                                 \n",
       "0.0000    1     -29.472619   0.000000 -29.472619\n",
       "1.0685    24    -29.472354   0.002743 -29.469611\n",
       "1013.0000 76    -36.235408  32.486006  -3.749402"
      ]
     },
     "metadata": {},
     "output_type": "display_data"
    },
    {
     "name": "stdout",
     "output_type": "stream",
     "text": [
      "Table. Fluxes. CRD\n"
     ]
    },
    {
     "data": {
      "text/html": [
       "<div>\n",
       "<style>\n",
       "    .dataframe thead tr:only-child th {\n",
       "        text-align: right;\n",
       "    }\n",
       "\n",
       "    .dataframe thead th {\n",
       "        text-align: left;\n",
       "    }\n",
       "\n",
       "    .dataframe tbody tr th {\n",
       "        vertical-align: top;\n",
       "    }\n",
       "</style>\n",
       "<table border=\"1\" class=\"dataframe\">\n",
       "  <thead>\n",
       "    <tr style=\"text-align: right;\">\n",
       "      <th></th>\n",
       "      <th></th>\n",
       "      <th>flug</th>\n",
       "      <th>fldg</th>\n",
       "      <th>fnetg</th>\n",
       "    </tr>\n",
       "    <tr>\n",
       "      <th>pressure</th>\n",
       "      <th>level</th>\n",
       "      <th></th>\n",
       "      <th></th>\n",
       "      <th></th>\n",
       "    </tr>\n",
       "  </thead>\n",
       "  <tbody>\n",
       "    <tr>\n",
       "      <th>0.0000</th>\n",
       "      <th>76</th>\n",
       "      <td>-36.235409</td>\n",
       "      <td>32.105602</td>\n",
       "      <td>-4.129806</td>\n",
       "    </tr>\n",
       "    <tr>\n",
       "      <th>0.9151</th>\n",
       "      <th>23</th>\n",
       "      <td>-29.537603</td>\n",
       "      <td>0.001722</td>\n",
       "      <td>-29.535881</td>\n",
       "    </tr>\n",
       "    <tr>\n",
       "      <th>1001.1120</th>\n",
       "      <th>75</th>\n",
       "      <td>-36.235409</td>\n",
       "      <td>32.105602</td>\n",
       "      <td>-4.129806</td>\n",
       "    </tr>\n",
       "  </tbody>\n",
       "</table>\n",
       "</div>"
      ],
      "text/plain": [
       "                      flug       fldg      fnetg\n",
       "pressure  level                                 \n",
       "0.0000    76    -36.235409  32.105602  -4.129806\n",
       "0.9151    23    -29.537603   0.001722 -29.535881\n",
       "1001.1120 75    -36.235409  32.105602  -4.129806"
      ]
     },
     "metadata": {},
     "output_type": "display_data"
    },
    {
     "name": "stdout",
     "output_type": "stream",
     "text": [
      "Table. Fluxes. CLIRAD\n"
     ]
    },
    {
     "data": {
      "text/html": [
       "<div>\n",
       "<style>\n",
       "    .dataframe thead tr:only-child th {\n",
       "        text-align: right;\n",
       "    }\n",
       "\n",
       "    .dataframe thead th {\n",
       "        text-align: left;\n",
       "    }\n",
       "\n",
       "    .dataframe tbody tr th {\n",
       "        vertical-align: top;\n",
       "    }\n",
       "</style>\n",
       "<table border=\"1\" class=\"dataframe\">\n",
       "  <thead>\n",
       "    <tr style=\"text-align: right;\">\n",
       "      <th></th>\n",
       "      <th></th>\n",
       "      <th>flug</th>\n",
       "      <th>fldg</th>\n",
       "      <th>fnetg</th>\n",
       "    </tr>\n",
       "    <tr>\n",
       "      <th>pressure</th>\n",
       "      <th>level</th>\n",
       "      <th></th>\n",
       "      <th></th>\n",
       "      <th></th>\n",
       "    </tr>\n",
       "  </thead>\n",
       "  <tbody>\n",
       "    <tr>\n",
       "      <th>0.0000</th>\n",
       "      <th>1</th>\n",
       "      <td>-5.063210e-04</td>\n",
       "      <td>0.000000</td>\n",
       "      <td>-0.000506</td>\n",
       "    </tr>\n",
       "    <tr>\n",
       "      <th>1.0685</th>\n",
       "      <th>24</th>\n",
       "      <td>-7.401200e-04</td>\n",
       "      <td>0.000332</td>\n",
       "      <td>-0.000409</td>\n",
       "    </tr>\n",
       "    <tr>\n",
       "      <th>1013.0000</th>\n",
       "      <th>76</th>\n",
       "      <td>5.300000e-07</td>\n",
       "      <td>-0.008579</td>\n",
       "      <td>-0.008580</td>\n",
       "    </tr>\n",
       "  </tbody>\n",
       "</table>\n",
       "</div>"
      ],
      "text/plain": [
       "                         flug      fldg     fnetg\n",
       "pressure  level                                  \n",
       "0.0000    1     -5.063210e-04  0.000000 -0.000506\n",
       "1.0685    24    -7.401200e-04  0.000332 -0.000409\n",
       "1013.0000 76     5.300000e-07 -0.008579 -0.008580"
      ]
     },
     "metadata": {},
     "output_type": "display_data"
    },
    {
     "name": "stdout",
     "output_type": "stream",
     "text": [
      "Table. Fluxes. (CRD) - (WGT igg=10 wgt_flux=1)\n"
     ]
    },
    {
     "data": {
      "text/html": [
       "<div>\n",
       "<style>\n",
       "    .dataframe thead tr:only-child th {\n",
       "        text-align: right;\n",
       "    }\n",
       "\n",
       "    .dataframe thead th {\n",
       "        text-align: left;\n",
       "    }\n",
       "\n",
       "    .dataframe tbody tr th {\n",
       "        vertical-align: top;\n",
       "    }\n",
       "</style>\n",
       "<table border=\"1\" class=\"dataframe\">\n",
       "  <thead>\n",
       "    <tr style=\"text-align: right;\">\n",
       "      <th></th>\n",
       "      <th></th>\n",
       "      <th>flug</th>\n",
       "      <th>fldg</th>\n",
       "      <th>fnetg</th>\n",
       "    </tr>\n",
       "    <tr>\n",
       "      <th>pressure</th>\n",
       "      <th>level</th>\n",
       "      <th></th>\n",
       "      <th></th>\n",
       "      <th></th>\n",
       "    </tr>\n",
       "  </thead>\n",
       "  <tbody>\n",
       "    <tr>\n",
       "      <th>0.0000</th>\n",
       "      <th>1</th>\n",
       "      <td>-6.763296e+00</td>\n",
       "      <td>32.105602</td>\n",
       "      <td>25.342306</td>\n",
       "    </tr>\n",
       "    <tr>\n",
       "      <th>1.0685</th>\n",
       "      <th>24</th>\n",
       "      <td>-6.598912e-02</td>\n",
       "      <td>-0.000690</td>\n",
       "      <td>-0.066679</td>\n",
       "    </tr>\n",
       "    <tr>\n",
       "      <th>1013.0000</th>\n",
       "      <th>76</th>\n",
       "      <td>-4.700000e-07</td>\n",
       "      <td>-0.388983</td>\n",
       "      <td>-0.388984</td>\n",
       "    </tr>\n",
       "  </tbody>\n",
       "</table>\n",
       "</div>"
      ],
      "text/plain": [
       "                         flug       fldg      fnetg\n",
       "pressure  level                                    \n",
       "0.0000    1     -6.763296e+00  32.105602  25.342306\n",
       "1.0685    24    -6.598912e-02  -0.000690  -0.066679\n",
       "1013.0000 76    -4.700000e-07  -0.388983  -0.388984"
      ]
     },
     "metadata": {},
     "output_type": "display_data"
    },
    {
     "name": "stdout",
     "output_type": "stream",
     "text": [
      "Table. Fluxes. (CLIRAD) - (WGT igg=10 wgt_flux=1)\n"
     ]
    },
    {
     "data": {
      "text/html": [
       "<a id=\"Best-fit_Parameters\"></a>"
      ],
      "text/plain": [
       "<IPython.core.display.HTML object>"
      ]
     },
     "metadata": {},
     "output_type": "display_data"
    },
    {
     "data": {
      "text/markdown": [
       "# Best-fit Parameters"
      ],
      "text/plain": [
       "<IPython.core.display.Markdown object>"
      ]
     },
     "metadata": {},
     "output_type": "display_data"
    },
    {
     "name": "stdout",
     "output_type": "stream",
     "text": [
      "Best-fit values for each (gas, band)\n",
      "------------------------------------\n",
      "o h2o band3a\n",
      "  atmpro = mls\n",
      "  band = 3a\n",
      "  commitnumber = 5014a19\n",
      "  conc = None\n",
      "  dv = 0.01\n",
      "  klin = 0\n",
      "  molecule = h2o\n",
      "  ng_adju = [0, 0]\n",
      "  ng_refs = [2, 6]\n",
      "  nv = 100\n",
      "  option_compute_btable = 0\n",
      "  option_compute_ktable = 1\n",
      "  option_wgt_flux = 1\n",
      "  option_wgt_k = 1\n",
      "  ref_pts = [(10, 250), (600, 250)]\n",
      "  tsfc = 294\n",
      "  vmax = 620\n",
      "  vmin = 540\n",
      "  w_diffuse = [(1.9, 1.7), (1.4, 1.4, 1.4, 1.55, 1.6, 1.66)]\n",
      "  wgt = [(0.7, 0.7), (0.7, 0.5, 0.5, 0.5, 0.5, 0.5)]\n"
     ]
    }
   ],
   "source": [
    "script()"
   ]
  },
  {
   "cell_type": "code",
   "execution_count": 13,
   "metadata": {
    "collapsed": true
   },
   "outputs": [
    {
     "data": {
      "text/html": [
       "<script>\n",
       "code_show=true; \n",
       "function code_toggle() {\n",
       " if (code_show){\n",
       " $('div.input').hide();\n",
       " } else {\n",
       " $('div.input').show();\n",
       " }\n",
       " code_show = !code_show\n",
       "} \n",
       "$( document ).ready(code_toggle);\n",
       "</script>\n",
       "<form action=\"javascript:code_toggle()\"><input type=\"submit\" value=\"Click here to toggle on/off the raw code.\"></form>"
      ],
      "text/plain": [
       "<IPython.core.display.HTML object>"
      ]
     },
     "execution_count": 13,
     "metadata": {},
     "output_type": "execute_result"
    }
   ],
   "source": [
    "display.HTML('''<script>\n",
    "code_show=true; \n",
    "function code_toggle() {\n",
    " if (code_show){\n",
    " $('div.input').hide();\n",
    " } else {\n",
    " $('div.input').show();\n",
    " }\n",
    " code_show = !code_show\n",
    "} \n",
    "$( document ).ready(code_toggle);\n",
    "</script>\n",
    "<form action=\"javascript:code_toggle()\"><input type=\"submit\" value=\"Click here to toggle on/off the raw code.\"></form>''')"
   ]
  }
 ],
 "metadata": {
  "kernelspec": {
   "display_name": "Python 3",
   "language": "python",
   "name": "python3"
  },
  "language_info": {
   "codemirror_mode": {
    "name": "ipython",
    "version": 3
   },
   "file_extension": ".py",
   "mimetype": "text/x-python",
   "name": "python",
   "nbconvert_exporter": "python",
   "pygments_lexer": "ipython3",
   "version": "3.6.1"
  }
 },
 "nbformat": 4,
 "nbformat_minor": 2
}
