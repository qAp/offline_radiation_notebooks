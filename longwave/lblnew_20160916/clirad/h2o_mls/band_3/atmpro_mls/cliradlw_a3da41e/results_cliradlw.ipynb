{
 "cells": [
  {
   "cell_type": "code",
   "execution_count": 1,
   "metadata": {
    "collapsed": true
   },
   "outputs": [],
   "source": [
    "%matplotlib inline\n",
    "import os\n",
    "import re\n",
    "import io\n",
    "import itertools\n",
    "import pprint\n",
    "\n",
    "from bokeh.io import output_notebook, show\n",
    "from bokeh.layouts import gridplot\n",
    "from bokeh.plotting import figure\n",
    "from bokeh.models import Range1d, Legend\n",
    "from bokeh.palettes import all_palettes\n",
    "\n",
    "import matplotlib\n",
    "import matplotlib.pyplot as plt\n",
    "import numpy as np\n",
    "import pandas as pd\n",
    "import xarray as xr\n",
    "\n",
    "import climatools.lblnew.bestfit_params as bestfits\n",
    "from climatools.lblnew import setup_bestfit, setup_overlap\n",
    "import climatools.lblnew.pipeline as pipe_lblnew\n",
    "import climatools.cliradlw.setup as setup_cliradlw\n",
    "import climatools.cliradlw.pipeline as pipe_cliradlw\n",
    "\n",
    "import climatools.html.html as climahtml\n",
    "from climatools.lblnew.dataio import *\n",
    "from climatools.plot.plot import *\n",
    "\n",
    "\n",
    "import IPython.display as display"
   ]
  },
  {
   "cell_type": "code",
   "execution_count": 2,
   "metadata": {
    "collapsed": true
   },
   "outputs": [],
   "source": [
    "%run param.py"
   ]
  },
  {
   "cell_type": "code",
   "execution_count": 3,
   "metadata": {
    "collapsed": true
   },
   "outputs": [],
   "source": [
    "def load_output_file(path_csv):\n",
    "    '''\n",
    "    Load lblnew output .csv file to xarray.Dataset\n",
    "    \n",
    "    Parameters\n",
    "    ----------\n",
    "    path_csv: str\n",
    "              Path to the .csv file to be loaded.\n",
    "    ds: xarray.Dataset\n",
    "        Data in the input file in the form of an xarray.Dataset.\n",
    "    '''\n",
    "    toindex = ['band', 'pressure', 'igg', 'g']    \n",
    "    df = pd.read_csv(path_csv, sep=r'\\s+')\n",
    "    df = df.set_index([i for i in toindex if i in df.columns])\n",
    "    df = df.rename(columns={'sfu': 'flug',\n",
    "                            'sfd': 'fldg',\n",
    "                            'fnet': 'fnetg',\n",
    "                            'coolr': 'coolrg'})\n",
    "    ds = xr.Dataset.from_dataframe(df)\n",
    "\n",
    "    for l in ('level', 'layer'):\n",
    "        if l in ds.data_vars:\n",
    "            if len(ds[l].dims) > 1:\n",
    "                surface = {d: 0 for d in ds.dims if d != 'pressure'}\n",
    "                coord_level = ds[l][surface]\n",
    "                ds.coords[l] = ('pressure', coord_level)\n",
    "            else:\n",
    "                ds.coords[l] = ('pressure', ds[l])\n",
    "    \n",
    "    return ds"
   ]
  },
  {
   "cell_type": "code",
   "execution_count": 4,
   "metadata": {
    "collapsed": true
   },
   "outputs": [],
   "source": [
    "def lblnew_setup(param=None):\n",
    "    if 'ng_refs' in param:\n",
    "        return {'setup': setup_bestfit,\n",
    "                'fname_flux_crd': 'output_flux.dat',\n",
    "                'fname_cool_crd': 'output_coolr.dat',\n",
    "                'fname_flux_wgt': 'output_wfluxg.dat',\n",
    "                'fname_cool_wgt': 'output_wcoolrg.dat'}\n",
    "    else:\n",
    "        return {'setup': setup_overlap,\n",
    "                'fname_flux_crd': 'output_flux.dat',\n",
    "                'fname_cool_crd': 'output_coolr.dat',\n",
    "                'fname_flux_wgt': 'output_wflux.dat',\n",
    "                'fname_cool_wgt': 'output_wcoolr.dat'}\n",
    "\n",
    "    \n",
    "def load_lblnew_data(param):\n",
    "    \n",
    "    fname_dsname = [('fname_flux_crd', 'ds_flux_crd'),\n",
    "                    ('fname_cool_crd', 'ds_cool_crd'),\n",
    "                    ('fname_flux_wgt', 'ds_flux_wgt'),\n",
    "                    ('fname_cool_wgt', 'ds_cool_wgt')]\n",
    "    \n",
    "    d = lblnew_setup(param)\n",
    "    dir_fortran = pipe_lblnew.get_dir_case(param, setup=d['setup'])\n",
    "    \n",
    "    data_dict = {}\n",
    "    for fname, dsname in fname_dsname:\n",
    "        fpath = os.path.join(dir_fortran, d[fname])\n",
    "        data_dict[dsname] = load_output_file(fpath)\n",
    "    return data_dict\n",
    "    \n",
    "\n",
    "    \n",
    "    "
   ]
  },
  {
   "cell_type": "code",
   "execution_count": 5,
   "metadata": {
    "collapsed": true
   },
   "outputs": [],
   "source": [
    "d = load_lblnew_data(PARAM_LBLNEW)\n",
    "\n",
    "DS_FLUX_CRD = d['ds_flux_crd']\n",
    "DS_COOL_CRD = d['ds_cool_crd']\n",
    "DS_FLUX_WGT = d['ds_flux_wgt']\n",
    "DS_COOL_WGT = d['ds_cool_wgt']"
   ]
  },
  {
   "cell_type": "code",
   "execution_count": 6,
   "metadata": {
    "collapsed": true
   },
   "outputs": [],
   "source": [
    "DIR_FORTRAN = pipe_cliradlw.get_fortran_dir(PARAM, \n",
    "                                            setup=setup_cliradlw)\n",
    "\n",
    "PATH_FLUX = os.path.join(DIR_FORTRAN, 'output_flux.dat')\n",
    "PATH_COOL = os.path.join(DIR_FORTRAN, 'output_coolr.dat')\n",
    "\n",
    "DS_FLUX = load_output_file(PATH_FLUX)\n",
    "DS_COOL = load_output_file(PATH_COOL)"
   ]
  },
  {
   "cell_type": "code",
   "execution_count": 7,
   "metadata": {
    "collapsed": true
   },
   "outputs": [
    {
     "data": {
      "text/html": [
       "\n",
       "    <div class=\"bk-root\">\n",
       "        <a href=\"https://bokeh.pydata.org\" target=\"_blank\" class=\"bk-logo bk-logo-small bk-logo-notebook\"></a>\n",
       "        <span id=\"5a33cee8-f66a-44e3-ab6e-9075f019ad70\">Loading BokehJS ...</span>\n",
       "    </div>"
      ]
     },
     "metadata": {},
     "output_type": "display_data"
    },
    {
     "data": {
      "application/javascript": [
       "\n",
       "(function(root) {\n",
       "  function now() {\n",
       "    return new Date();\n",
       "  }\n",
       "\n",
       "  var force = true;\n",
       "\n",
       "  if (typeof (root._bokeh_onload_callbacks) === \"undefined\" || force === true) {\n",
       "    root._bokeh_onload_callbacks = [];\n",
       "    root._bokeh_is_loading = undefined;\n",
       "  }\n",
       "\n",
       "  var JS_MIME_TYPE = 'application/javascript';\n",
       "  var HTML_MIME_TYPE = 'text/html';\n",
       "  var EXEC_MIME_TYPE = 'application/vnd.bokehjs_exec.v0+json';\n",
       "  var CLASS_NAME = 'output_bokeh rendered_html';\n",
       "\n",
       "  /**\n",
       "   * Render data to the DOM node\n",
       "   */\n",
       "  function render(props, node) {\n",
       "    var script = document.createElement(\"script\");\n",
       "    node.appendChild(script);\n",
       "  }\n",
       "\n",
       "  /**\n",
       "   * Handle when an output is cleared or removed\n",
       "   */\n",
       "  function handleClearOutput(event, handle) {\n",
       "    var cell = handle.cell;\n",
       "\n",
       "    var id = cell.output_area._bokeh_element_id;\n",
       "    var server_id = cell.output_area._bokeh_server_id;\n",
       "    // Clean up Bokeh references\n",
       "    if (id !== undefined) {\n",
       "      Bokeh.index[id].model.document.clear();\n",
       "      delete Bokeh.index[id];\n",
       "    }\n",
       "\n",
       "    if (server_id !== undefined) {\n",
       "      // Clean up Bokeh references\n",
       "      var cmd = \"from bokeh.io.state import curstate; print(curstate().uuid_to_server['\" + server_id + \"'].get_sessions()[0].document.roots[0]._id)\";\n",
       "      cell.notebook.kernel.execute(cmd, {\n",
       "        iopub: {\n",
       "          output: function(msg) {\n",
       "            var element_id = msg.content.text.trim();\n",
       "            Bokeh.index[element_id].model.document.clear();\n",
       "            delete Bokeh.index[element_id];\n",
       "          }\n",
       "        }\n",
       "      });\n",
       "      // Destroy server and session\n",
       "      var cmd = \"import bokeh.io.notebook as ion; ion.destroy_server('\" + server_id + \"')\";\n",
       "      cell.notebook.kernel.execute(cmd);\n",
       "    }\n",
       "  }\n",
       "\n",
       "  /**\n",
       "   * Handle when a new output is added\n",
       "   */\n",
       "  function handleAddOutput(event, handle) {\n",
       "    var output_area = handle.output_area;\n",
       "    var output = handle.output;\n",
       "\n",
       "    // limit handleAddOutput to display_data with EXEC_MIME_TYPE content only\n",
       "    if ((output.output_type != \"display_data\") || (!output.data.hasOwnProperty(EXEC_MIME_TYPE))) {\n",
       "      return\n",
       "    }\n",
       "\n",
       "    var toinsert = output_area.element.find(\".\" + CLASS_NAME.split(' ')[0]);\n",
       "\n",
       "    if (output.metadata[EXEC_MIME_TYPE][\"id\"] !== undefined) {\n",
       "      toinsert[0].firstChild.textContent = output.data[JS_MIME_TYPE];\n",
       "      // store reference to embed id on output_area\n",
       "      output_area._bokeh_element_id = output.metadata[EXEC_MIME_TYPE][\"id\"];\n",
       "    }\n",
       "    if (output.metadata[EXEC_MIME_TYPE][\"server_id\"] !== undefined) {\n",
       "      var bk_div = document.createElement(\"div\");\n",
       "      bk_div.innerHTML = output.data[HTML_MIME_TYPE];\n",
       "      var script_attrs = bk_div.children[0].attributes;\n",
       "      for (var i = 0; i < script_attrs.length; i++) {\n",
       "        toinsert[0].firstChild.setAttribute(script_attrs[i].name, script_attrs[i].value);\n",
       "      }\n",
       "      // store reference to server id on output_area\n",
       "      output_area._bokeh_server_id = output.metadata[EXEC_MIME_TYPE][\"server_id\"];\n",
       "    }\n",
       "  }\n",
       "\n",
       "  function register_renderer(events, OutputArea) {\n",
       "\n",
       "    function append_mime(data, metadata, element) {\n",
       "      // create a DOM node to render to\n",
       "      var toinsert = this.create_output_subarea(\n",
       "        metadata,\n",
       "        CLASS_NAME,\n",
       "        EXEC_MIME_TYPE\n",
       "      );\n",
       "      this.keyboard_manager.register_events(toinsert);\n",
       "      // Render to node\n",
       "      var props = {data: data, metadata: metadata[EXEC_MIME_TYPE]};\n",
       "      render(props, toinsert[0]);\n",
       "      element.append(toinsert);\n",
       "      return toinsert\n",
       "    }\n",
       "\n",
       "    /* Handle when an output is cleared or removed */\n",
       "    events.on('clear_output.CodeCell', handleClearOutput);\n",
       "    events.on('delete.Cell', handleClearOutput);\n",
       "\n",
       "    /* Handle when a new output is added */\n",
       "    events.on('output_added.OutputArea', handleAddOutput);\n",
       "\n",
       "    /**\n",
       "     * Register the mime type and append_mime function with output_area\n",
       "     */\n",
       "    OutputArea.prototype.register_mime_type(EXEC_MIME_TYPE, append_mime, {\n",
       "      /* Is output safe? */\n",
       "      safe: true,\n",
       "      /* Index of renderer in `output_area.display_order` */\n",
       "      index: 0\n",
       "    });\n",
       "  }\n",
       "\n",
       "  // register the mime type if in Jupyter Notebook environment and previously unregistered\n",
       "  if (root.Jupyter !== undefined) {\n",
       "    var events = require('base/js/events');\n",
       "    var OutputArea = require('notebook/js/outputarea').OutputArea;\n",
       "\n",
       "    if (OutputArea.prototype.mime_types().indexOf(EXEC_MIME_TYPE) == -1) {\n",
       "      register_renderer(events, OutputArea);\n",
       "    }\n",
       "  }\n",
       "\n",
       "  \n",
       "  if (typeof (root._bokeh_timeout) === \"undefined\" || force === true) {\n",
       "    root._bokeh_timeout = Date.now() + 5000;\n",
       "    root._bokeh_failed_load = false;\n",
       "  }\n",
       "\n",
       "  var NB_LOAD_WARNING = {'data': {'text/html':\n",
       "     \"<div style='background-color: #fdd'>\\n\"+\n",
       "     \"<p>\\n\"+\n",
       "     \"BokehJS does not appear to have successfully loaded. If loading BokehJS from CDN, this \\n\"+\n",
       "     \"may be due to a slow or bad network connection. Possible fixes:\\n\"+\n",
       "     \"</p>\\n\"+\n",
       "     \"<ul>\\n\"+\n",
       "     \"<li>re-rerun `output_notebook()` to attempt to load from CDN again, or</li>\\n\"+\n",
       "     \"<li>use INLINE resources instead, as so:</li>\\n\"+\n",
       "     \"</ul>\\n\"+\n",
       "     \"<code>\\n\"+\n",
       "     \"from bokeh.resources import INLINE\\n\"+\n",
       "     \"output_notebook(resources=INLINE)\\n\"+\n",
       "     \"</code>\\n\"+\n",
       "     \"</div>\"}};\n",
       "\n",
       "  function display_loaded() {\n",
       "    var el = document.getElementById(\"5a33cee8-f66a-44e3-ab6e-9075f019ad70\");\n",
       "    if (el != null) {\n",
       "      el.textContent = \"BokehJS is loading...\";\n",
       "    }\n",
       "    if (root.Bokeh !== undefined) {\n",
       "      if (el != null) {\n",
       "        el.textContent = \"BokehJS \" + root.Bokeh.version + \" successfully loaded.\";\n",
       "      }\n",
       "    } else if (Date.now() < root._bokeh_timeout) {\n",
       "      setTimeout(display_loaded, 100)\n",
       "    }\n",
       "  }\n",
       "\n",
       "\n",
       "  function run_callbacks() {\n",
       "    try {\n",
       "      root._bokeh_onload_callbacks.forEach(function(callback) { callback() });\n",
       "    }\n",
       "    finally {\n",
       "      delete root._bokeh_onload_callbacks\n",
       "    }\n",
       "    console.info(\"Bokeh: all callbacks have finished\");\n",
       "  }\n",
       "\n",
       "  function load_libs(js_urls, callback) {\n",
       "    root._bokeh_onload_callbacks.push(callback);\n",
       "    if (root._bokeh_is_loading > 0) {\n",
       "      console.log(\"Bokeh: BokehJS is being loaded, scheduling callback at\", now());\n",
       "      return null;\n",
       "    }\n",
       "    if (js_urls == null || js_urls.length === 0) {\n",
       "      run_callbacks();\n",
       "      return null;\n",
       "    }\n",
       "    console.log(\"Bokeh: BokehJS not loaded, scheduling load and callback at\", now());\n",
       "    root._bokeh_is_loading = js_urls.length;\n",
       "    for (var i = 0; i < js_urls.length; i++) {\n",
       "      var url = js_urls[i];\n",
       "      var s = document.createElement('script');\n",
       "      s.src = url;\n",
       "      s.async = false;\n",
       "      s.onreadystatechange = s.onload = function() {\n",
       "        root._bokeh_is_loading--;\n",
       "        if (root._bokeh_is_loading === 0) {\n",
       "          console.log(\"Bokeh: all BokehJS libraries loaded\");\n",
       "          run_callbacks()\n",
       "        }\n",
       "      };\n",
       "      s.onerror = function() {\n",
       "        console.warn(\"failed to load library \" + url);\n",
       "      };\n",
       "      console.log(\"Bokeh: injecting script tag for BokehJS library: \", url);\n",
       "      document.getElementsByTagName(\"head\")[0].appendChild(s);\n",
       "    }\n",
       "  };var element = document.getElementById(\"5a33cee8-f66a-44e3-ab6e-9075f019ad70\");\n",
       "  if (element == null) {\n",
       "    console.log(\"Bokeh: ERROR: autoload.js configured with elementid '5a33cee8-f66a-44e3-ab6e-9075f019ad70' but no matching script tag was found. \")\n",
       "    return false;\n",
       "  }\n",
       "\n",
       "  var js_urls = [\"https://cdn.pydata.org/bokeh/release/bokeh-0.12.14.min.js\", \"https://cdn.pydata.org/bokeh/release/bokeh-widgets-0.12.14.min.js\", \"https://cdn.pydata.org/bokeh/release/bokeh-tables-0.12.14.min.js\", \"https://cdn.pydata.org/bokeh/release/bokeh-gl-0.12.14.min.js\"];\n",
       "\n",
       "  var inline_js = [\n",
       "    function(Bokeh) {\n",
       "      Bokeh.set_log_level(\"info\");\n",
       "    },\n",
       "    \n",
       "    function(Bokeh) {\n",
       "      \n",
       "    },\n",
       "    function(Bokeh) {\n",
       "      console.log(\"Bokeh: injecting CSS: https://cdn.pydata.org/bokeh/release/bokeh-0.12.14.min.css\");\n",
       "      Bokeh.embed.inject_css(\"https://cdn.pydata.org/bokeh/release/bokeh-0.12.14.min.css\");\n",
       "      console.log(\"Bokeh: injecting CSS: https://cdn.pydata.org/bokeh/release/bokeh-widgets-0.12.14.min.css\");\n",
       "      Bokeh.embed.inject_css(\"https://cdn.pydata.org/bokeh/release/bokeh-widgets-0.12.14.min.css\");\n",
       "      console.log(\"Bokeh: injecting CSS: https://cdn.pydata.org/bokeh/release/bokeh-tables-0.12.14.min.css\");\n",
       "      Bokeh.embed.inject_css(\"https://cdn.pydata.org/bokeh/release/bokeh-tables-0.12.14.min.css\");\n",
       "    }\n",
       "  ];\n",
       "\n",
       "  function run_inline_js() {\n",
       "    \n",
       "    if ((root.Bokeh !== undefined) || (force === true)) {\n",
       "      for (var i = 0; i < inline_js.length; i++) {\n",
       "        inline_js[i].call(root, root.Bokeh);\n",
       "      }if (force === true) {\n",
       "        display_loaded();\n",
       "      }} else if (Date.now() < root._bokeh_timeout) {\n",
       "      setTimeout(run_inline_js, 100);\n",
       "    } else if (!root._bokeh_failed_load) {\n",
       "      console.log(\"Bokeh: BokehJS failed to load within specified timeout.\");\n",
       "      root._bokeh_failed_load = true;\n",
       "    } else if (force !== true) {\n",
       "      var cell = $(document.getElementById(\"5a33cee8-f66a-44e3-ab6e-9075f019ad70\")).parents('.cell').data().cell;\n",
       "      cell.output_area.append_execute_result(NB_LOAD_WARNING)\n",
       "    }\n",
       "\n",
       "  }\n",
       "\n",
       "  if (root._bokeh_is_loading === 0) {\n",
       "    console.log(\"Bokeh: BokehJS loaded, going straight to plotting\");\n",
       "    run_inline_js();\n",
       "  } else {\n",
       "    load_libs(js_urls, function() {\n",
       "      console.log(\"Bokeh: BokehJS plotting callback run at\", now());\n",
       "      run_inline_js();\n",
       "    });\n",
       "  }\n",
       "}(window));"
      ],
      "application/vnd.bokehjs_load.v0+json": "\n(function(root) {\n  function now() {\n    return new Date();\n  }\n\n  var force = true;\n\n  if (typeof (root._bokeh_onload_callbacks) === \"undefined\" || force === true) {\n    root._bokeh_onload_callbacks = [];\n    root._bokeh_is_loading = undefined;\n  }\n\n  \n\n  \n  if (typeof (root._bokeh_timeout) === \"undefined\" || force === true) {\n    root._bokeh_timeout = Date.now() + 5000;\n    root._bokeh_failed_load = false;\n  }\n\n  var NB_LOAD_WARNING = {'data': {'text/html':\n     \"<div style='background-color: #fdd'>\\n\"+\n     \"<p>\\n\"+\n     \"BokehJS does not appear to have successfully loaded. If loading BokehJS from CDN, this \\n\"+\n     \"may be due to a slow or bad network connection. Possible fixes:\\n\"+\n     \"</p>\\n\"+\n     \"<ul>\\n\"+\n     \"<li>re-rerun `output_notebook()` to attempt to load from CDN again, or</li>\\n\"+\n     \"<li>use INLINE resources instead, as so:</li>\\n\"+\n     \"</ul>\\n\"+\n     \"<code>\\n\"+\n     \"from bokeh.resources import INLINE\\n\"+\n     \"output_notebook(resources=INLINE)\\n\"+\n     \"</code>\\n\"+\n     \"</div>\"}};\n\n  function display_loaded() {\n    var el = document.getElementById(\"5a33cee8-f66a-44e3-ab6e-9075f019ad70\");\n    if (el != null) {\n      el.textContent = \"BokehJS is loading...\";\n    }\n    if (root.Bokeh !== undefined) {\n      if (el != null) {\n        el.textContent = \"BokehJS \" + root.Bokeh.version + \" successfully loaded.\";\n      }\n    } else if (Date.now() < root._bokeh_timeout) {\n      setTimeout(display_loaded, 100)\n    }\n  }\n\n\n  function run_callbacks() {\n    try {\n      root._bokeh_onload_callbacks.forEach(function(callback) { callback() });\n    }\n    finally {\n      delete root._bokeh_onload_callbacks\n    }\n    console.info(\"Bokeh: all callbacks have finished\");\n  }\n\n  function load_libs(js_urls, callback) {\n    root._bokeh_onload_callbacks.push(callback);\n    if (root._bokeh_is_loading > 0) {\n      console.log(\"Bokeh: BokehJS is being loaded, scheduling callback at\", now());\n      return null;\n    }\n    if (js_urls == null || js_urls.length === 0) {\n      run_callbacks();\n      return null;\n    }\n    console.log(\"Bokeh: BokehJS not loaded, scheduling load and callback at\", now());\n    root._bokeh_is_loading = js_urls.length;\n    for (var i = 0; i < js_urls.length; i++) {\n      var url = js_urls[i];\n      var s = document.createElement('script');\n      s.src = url;\n      s.async = false;\n      s.onreadystatechange = s.onload = function() {\n        root._bokeh_is_loading--;\n        if (root._bokeh_is_loading === 0) {\n          console.log(\"Bokeh: all BokehJS libraries loaded\");\n          run_callbacks()\n        }\n      };\n      s.onerror = function() {\n        console.warn(\"failed to load library \" + url);\n      };\n      console.log(\"Bokeh: injecting script tag for BokehJS library: \", url);\n      document.getElementsByTagName(\"head\")[0].appendChild(s);\n    }\n  };var element = document.getElementById(\"5a33cee8-f66a-44e3-ab6e-9075f019ad70\");\n  if (element == null) {\n    console.log(\"Bokeh: ERROR: autoload.js configured with elementid '5a33cee8-f66a-44e3-ab6e-9075f019ad70' but no matching script tag was found. \")\n    return false;\n  }\n\n  var js_urls = [\"https://cdn.pydata.org/bokeh/release/bokeh-0.12.14.min.js\", \"https://cdn.pydata.org/bokeh/release/bokeh-widgets-0.12.14.min.js\", \"https://cdn.pydata.org/bokeh/release/bokeh-tables-0.12.14.min.js\", \"https://cdn.pydata.org/bokeh/release/bokeh-gl-0.12.14.min.js\"];\n\n  var inline_js = [\n    function(Bokeh) {\n      Bokeh.set_log_level(\"info\");\n    },\n    \n    function(Bokeh) {\n      \n    },\n    function(Bokeh) {\n      console.log(\"Bokeh: injecting CSS: https://cdn.pydata.org/bokeh/release/bokeh-0.12.14.min.css\");\n      Bokeh.embed.inject_css(\"https://cdn.pydata.org/bokeh/release/bokeh-0.12.14.min.css\");\n      console.log(\"Bokeh: injecting CSS: https://cdn.pydata.org/bokeh/release/bokeh-widgets-0.12.14.min.css\");\n      Bokeh.embed.inject_css(\"https://cdn.pydata.org/bokeh/release/bokeh-widgets-0.12.14.min.css\");\n      console.log(\"Bokeh: injecting CSS: https://cdn.pydata.org/bokeh/release/bokeh-tables-0.12.14.min.css\");\n      Bokeh.embed.inject_css(\"https://cdn.pydata.org/bokeh/release/bokeh-tables-0.12.14.min.css\");\n    }\n  ];\n\n  function run_inline_js() {\n    \n    if ((root.Bokeh !== undefined) || (force === true)) {\n      for (var i = 0; i < inline_js.length; i++) {\n        inline_js[i].call(root, root.Bokeh);\n      }if (force === true) {\n        display_loaded();\n      }} else if (Date.now() < root._bokeh_timeout) {\n      setTimeout(run_inline_js, 100);\n    } else if (!root._bokeh_failed_load) {\n      console.log(\"Bokeh: BokehJS failed to load within specified timeout.\");\n      root._bokeh_failed_load = true;\n    } else if (force !== true) {\n      var cell = $(document.getElementById(\"5a33cee8-f66a-44e3-ab6e-9075f019ad70\")).parents('.cell').data().cell;\n      cell.output_area.append_execute_result(NB_LOAD_WARNING)\n    }\n\n  }\n\n  if (root._bokeh_is_loading === 0) {\n    console.log(\"Bokeh: BokehJS loaded, going straight to plotting\");\n    run_inline_js();\n  } else {\n    load_libs(js_urls, function() {\n      console.log(\"Bokeh: BokehJS plotting callback run at\", now());\n      run_inline_js();\n    });\n  }\n}(window));"
     },
     "metadata": {},
     "output_type": "display_data"
    }
   ],
   "source": [
    "output_notebook()"
   ]
  },
  {
   "cell_type": "code",
   "execution_count": 8,
   "metadata": {
    "collapsed": true
   },
   "outputs": [],
   "source": [
    "def fmt_cool(ds_in):\n",
    "    ds = ds_in.copy(deep=True)\n",
    "    if 'igg' in ds.dims:\n",
    "        ds = ds.sel(igg=1)\n",
    "\n",
    "    if 'g' in ds.dims:\n",
    "        ds = ds.sum('g')\n",
    "            \n",
    "    if 'band' in ds.dims:\n",
    "        try:\n",
    "            ds = ds.squeeze('band')\n",
    "        except ValueError:\n",
    "            ds = ds.sum('band')\n",
    "                \n",
    "    return ds['coolrg']\n",
    "\n",
    "\n",
    "def pltdata_cooling_1(ds_cool=None,\n",
    "                      ds_cool_crd=None, ds_cool_wgt=None):\n",
    "    \n",
    "\n",
    "\n",
    "    colors = all_palettes['Set1'][4]\n",
    "    data = [{'label': 'CLIRAD `coolr_bands`',\n",
    "             'srs': fmt_cool(ds_cool),\n",
    "             'line_dash': 'dashed', 'line_width': 5,\n",
    "             'color': colors[0], 'alpha': .6},\n",
    "            {'label': 'CRD',\n",
    "             'srs': fmt_cool(ds_cool_crd),\n",
    "             'line_dash': 'solid', 'line_width': 1.5,\n",
    "             'marker': 'circle', 'marker_size': 5,\n",
    "             'color': colors[2], 'alpha': 1,},\n",
    "            {'label': 'WGT igg=10 wgt_flux=2',\n",
    "             'srs': fmt_cool(ds_cool_wgt),\n",
    "             'line_dash': 'solid', 'line_width': 3,\n",
    "             'marker': 'square', 'marker_size': 5,\n",
    "             'color': colors[3], 'alpha': .6}]\n",
    "    return data\n",
    "\n",
    "\n",
    "def nice_xlims(pltdata=None, prange=None):\n",
    "    \n",
    "    def get_slice(srs):\n",
    "        return srs.sel(pressure=slice(*prange))\n",
    "    \n",
    "    srss = [d['srs'] for d in pltdata]\n",
    "    vmin = min([get_slice(srs).min() for srs in srss])\n",
    "    vmax = max([get_slice(srs).max() for srs in srss])\n",
    "    dv = (vmax - vmin) * .01\n",
    "    return float(vmin - dv), float(vmax + dv)\n",
    "    \n",
    "\n",
    "def plt_cooling_bokeh(pltdata=None):\n",
    "    '''\n",
    "    Plot a list of cooling rate profiles using bokeh.\n",
    "    '''\n",
    "    ymin = 1e-2 \n",
    "    ymax = 1020 \n",
    "        \n",
    "    p1 = figure(title=\"Linear pressure scale\", \n",
    "                plot_width=400)        \n",
    "    xmin, xmax = nice_xlims(pltdata, prange=(50, 1050))\n",
    "    for d in pltdata:\n",
    "        if 'marker' in d:\n",
    "            getattr(p1, d['marker'])(d['srs'].values, \n",
    "                    d['srs'].coords['pressure'].values,\n",
    "                    color=d['color'], alpha=.7)\n",
    "        p1.line(d['srs'].values, \n",
    "                d['srs'].coords['pressure'].values,\n",
    "                color=d['color'], alpha=d['alpha'], \n",
    "                line_width=d['line_width'], line_dash=d['line_dash'])\n",
    "    \n",
    "    p1.y_range = Range1d(ymax, ymin)\n",
    "    p1.yaxis.axis_label = 'pressure [mb]'   \n",
    "    p1.x_range = Range1d(xmin, xmax)\n",
    "    p1.xaxis.axis_label = 'cooling rate [K/day]'\n",
    "            \n",
    "    p2 = figure(title='Log pressure scale', y_axis_type='log',\n",
    "                plot_width=560)\n",
    "    xmin, xmax = nice_xlims(pltdata, prange=(.01, 200))\n",
    "    \n",
    "    rs = []\n",
    "    for d in pltdata:\n",
    "        rd = []\n",
    "        if 'marker' in d:\n",
    "            r_mark = getattr(p2, d['marker'])(d['srs'].values, \n",
    "                        d['srs'].coords['pressure'].values,\n",
    "                        color=d['color'], alpha=.7)\n",
    "            rd.append(r_mark)\n",
    "        r_line = p2.line(d['srs'].values, \n",
    "                    d['srs'].coords['pressure'].values,\n",
    "                    color=d['color'], alpha=d['alpha'], \n",
    "                    line_width=d['line_width'], line_dash=d['line_dash'])\n",
    "        rd.append(r_line)\n",
    "      \n",
    "        rs.append(rd)\n",
    "        \n",
    "    p2.y_range = Range1d(ymax, ymin)  \n",
    "    p2.yaxis.axis_label = 'pressure [mb]'\n",
    "    \n",
    "    p2.x_range = Range1d(xmin, xmax)\n",
    "    p2.xaxis.axis_label = 'cooling rate [K/day]'\n",
    "    \n",
    "    items = [(d['label'], r) for r, d in zip(rs, pltdata)]\n",
    "    legend = Legend(items=items, location=(10, -30))\n",
    "    legend.label_text_font_size = '8pt'\n",
    "    \n",
    "    p2.add_layout(legend, 'right')  \n",
    "    \n",
    "    show(gridplot(p1, p2, ncols=2, plot_height=500))\n",
    "    \n",
    "\n",
    "def script_plt_cooling():\n",
    "    pltdata = pltdata_cooling_1(\n",
    "        ds_cool=DS_COOL,\n",
    "        ds_cool_crd=DS_COOL_CRD,\n",
    "        ds_cool_wgt=DS_COOL_WGT)\n",
    "    plt_cooling_bokeh(pltdata=pltdata)\n",
    "    print('''FIGURE. Cooling rate profiles.''')"
   ]
  },
  {
   "cell_type": "code",
   "execution_count": 9,
   "metadata": {
    "collapsed": true
   },
   "outputs": [],
   "source": [
    "def fmt_flux(ds_in):\n",
    "    ds = ds_in.copy(deep=True)\n",
    "    \n",
    "    for l in ('level', 'layer'):\n",
    "        if l in ds.data_vars:\n",
    "            if len(ds[l].dims) > 1:\n",
    "                surface = {d: 0 for d in ds.dims if d != 'pressure'}\n",
    "                coord_level = ds[l][surface]\n",
    "                ds.coords[l] = ('pressure', coord_level)\n",
    "            else:\n",
    "                ds.coords[l] = ('pressure', ds[l])\n",
    "        \n",
    "    ds = ds.isel(pressure=[0, 23, -1])\n",
    "        \n",
    "    if 'igg' in ds.dims:\n",
    "        ds = ds.sel(igg=[1])\n",
    "        ds = ds.squeeze('igg').drop('igg')\n",
    "    \n",
    "    if 'g' in ds.dims:\n",
    "        ds = ds.sum('g')\n",
    "            \n",
    "    if 'band' in ds.dims:\n",
    "        try:\n",
    "            ds = ds.squeeze('band').drop('band')\n",
    "        except ValueError:\n",
    "            ds = ds.sum('band')\n",
    "                \n",
    "    df = ds.to_dataframe()\n",
    "    df = df.set_index('level', append=True)               \n",
    "    return df\n",
    "\n",
    "\n",
    "def tbdata_flux(ds_flux=None, ds_flux_crd=None, ds_flux_wgt=None):\n",
    "    ilevels = [0, 23, -1]\n",
    "            \n",
    "    benchmark = {'label': 'WGT igg=10 wgt_flux=1',\n",
    "                 'df': fmt_flux(ds_flux_wgt)}\n",
    "    \n",
    "    tbs = [{'label': 'CRD',\n",
    "            'df': fmt_flux(ds_flux_crd)},\n",
    "           {'label': 'CLIRAD',\n",
    "            'df': fmt_flux(ds_flux)}]\n",
    "    \n",
    "    data = {'benchmark': benchmark, 'others': tbs}\n",
    "    return data\n",
    "\n",
    "\n",
    "def tb_flux(tbdata=None):\n",
    "    benchmark = tbdata['benchmark']\n",
    "    others = tbdata['others']\n",
    "    \n",
    "    def show_tb(d=None):\n",
    "        display.display(d['df'])\n",
    "        print('Table.', 'Fluxes.', d['label'])\n",
    "        \n",
    "    def show_tbdiff(d0=None, d=None):\n",
    "        df = d['df']\n",
    "        df.index = d0['df'].index\n",
    "        display.display(df - d0['df'])\n",
    "        print('Table.', 'Fluxes.', \n",
    "              '({}) - ({})'.format(d['label'], d0['label']))\n",
    "        \n",
    "    show_tb(benchmark)\n",
    "    for d in others:\n",
    "        show_tb(d)\n",
    "        \n",
    "    for d in others:\n",
    "        show_tbdiff(d=d, d0=benchmark)\n",
    "        \n",
    "        \n",
    "def script_tb_flux():\n",
    "    data = tbdata_flux(ds_flux=DS_FLUX,\n",
    "                       ds_flux_crd=DS_FLUX_CRD,\n",
    "                       ds_flux_wgt=DS_FLUX_WGT)\n",
    "    tb_flux(tbdata=data)"
   ]
  },
  {
   "cell_type": "code",
   "execution_count": 10,
   "metadata": {
    "collapsed": true
   },
   "outputs": [],
   "source": [
    "def band_map():\n",
    "    '''\n",
    "    Maps spectral bands in lblnew to spectral bands in clirad.\n",
    "    '''\n",
    "    lblnew2clirad = {'1': '1',\n",
    "            '2': '2',\n",
    "            '3a': '3',\n",
    "            '3b': '4',\n",
    "            '3c': '5',\n",
    "            '4': '6', \n",
    "            '5': '7',\n",
    "            '6': '8',\n",
    "            '7': '9', \n",
    "            '8': '10',\n",
    "            '9': '11'}\n",
    "    \n",
    "    clirad2lblnew = {clirad: lblnew \n",
    "                     for lblnew, clirad in lblnew2clirad.items()}\n",
    "    return clirad2lblnew\n",
    "\n",
    "\n",
    "def gasbands():\n",
    "    bmap = band_map()\n",
    "    gases = list(PARAM['molecule'].keys())\n",
    "    \n",
    "    bands = [bmap[str(b)] for b in PARAM['band']]\n",
    "    return list(itertools.product(gases, bands))\n",
    "\n",
    "\n",
    "def print_bestfit_params():\n",
    "    print('Best-fit values for each (gas, band)')\n",
    "    print('------------------------------------')\n",
    "    for gas, band in gasbands():\n",
    "        print('o {} band{}'.format(gas, band))\n",
    "        param = bestfits.kdist_params(molecule=gas, band=band)\n",
    "        for name, value in sorted(param.items()):\n",
    "            print(2 * ' ' + '{} = {}'.format(name, value))\n",
    "\n",
    "        \n",
    "def print_input_param():        \n",
    "    for name, value in PARAM.items():\n",
    "        print('{} = {}'.format(name, value))\n",
    "        \n",
    "        \n",
    "def print_lblnew_param():\n",
    "    for name, value in sorted(PARAM_LBLNEW.items()):\n",
    "        print('{} = {}'.format(name, value))\n"
   ]
  },
  {
   "cell_type": "code",
   "execution_count": 11,
   "metadata": {
    "collapsed": true,
    "scrolled": false
   },
   "outputs": [],
   "source": [
    "def show_html(s):\n",
    "    display.display(display.HTML(s))\n",
    "\n",
    "    \n",
    "def show_markdown(s):\n",
    "    display.display(display.Markdown(s))\n",
    "\n",
    "    \n",
    "def script():\n",
    "    \n",
    "    title = '### CLIRAD-LW'\n",
    "    s_input = 'Input Parameters'\n",
    "    s_lblnew_param = 'LBLNEW case compaired against'\n",
    "    s_bestfits = 'Best-fit Parameters'\n",
    "    s_plt_cooling = 'Cooling Rate Profiles'\n",
    "    s_tb_flux = 'Flux Comparison'\n",
    "    \n",
    "    # title\n",
    "    show_markdown('### CLIRAD-LW')\n",
    "    \n",
    "    # TOC\n",
    "    show_markdown('### Table of Contents')\n",
    "    show_html(climahtml.getHTML_hrefanchor(s_input))\n",
    "    show_html(climahtml.getHTML_hrefanchor(s_lblnew_param))\n",
    "    show_html(climahtml.getHTML_hrefanchor(s_plt_cooling))\n",
    "    show_html(climahtml.getHTML_hrefanchor(s_tb_flux))\n",
    "    show_html(climahtml.getHTML_hrefanchor(s_bestfits))\n",
    "    \n",
    "    # Input parameters\n",
    "    show_html(climahtml.getHTML_idanchor(s_input))\n",
    "    show_markdown(climahtml.getMarkdown_sectitle(s_input))\n",
    "    print_input_param()\n",
    "    \n",
    "    # LBLNEW parameters \n",
    "    show_html(climahtml.getHTML_idanchor(s_lblnew_param))\n",
    "    show_markdown(climahtml.getMarkdown_sectitle(s_lblnew_param))\n",
    "    print_lblnew_param()\n",
    "    \n",
    "    # Cooling rate profiles\n",
    "    show_html(climahtml.getHTML_idanchor(s_plt_cooling))\n",
    "    show_markdown(climahtml.getMarkdown_sectitle(s_plt_cooling))\n",
    "    script_plt_cooling()\n",
    "    \n",
    "    # Flux comparison\n",
    "    show_html(climahtml.getHTML_idanchor(s_tb_flux))\n",
    "    show_markdown(climahtml.getMarkdown_sectitle(s_tb_flux))\n",
    "    script_tb_flux()\n",
    "    \n",
    "    # Best-fit values\n",
    "    show_html(climahtml.getHTML_idanchor(s_bestfits))\n",
    "    show_markdown(climahtml.getMarkdown_sectitle(s_bestfits))\n",
    "    print_bestfit_params()\n",
    "   \n",
    "    "
   ]
  },
  {
   "cell_type": "code",
   "execution_count": 12,
   "metadata": {
    "collapsed": true,
    "scrolled": false
   },
   "outputs": [
    {
     "data": {
      "text/markdown": [
       "### CLIRAD-LW"
      ],
      "text/plain": [
       "<IPython.core.display.Markdown object>"
      ]
     },
     "metadata": {},
     "output_type": "display_data"
    },
    {
     "data": {
      "text/markdown": [
       "### Table of Contents"
      ],
      "text/plain": [
       "<IPython.core.display.Markdown object>"
      ]
     },
     "metadata": {},
     "output_type": "display_data"
    },
    {
     "data": {
      "text/html": [
       "<a href=\"#Input_Parameters\">Input Parameters</a>"
      ],
      "text/plain": [
       "<IPython.core.display.HTML object>"
      ]
     },
     "metadata": {},
     "output_type": "display_data"
    },
    {
     "data": {
      "text/html": [
       "<a href=\"#LBLNEW_case_compaired_against\">LBLNEW case compaired against</a>"
      ],
      "text/plain": [
       "<IPython.core.display.HTML object>"
      ]
     },
     "metadata": {},
     "output_type": "display_data"
    },
    {
     "data": {
      "text/html": [
       "<a href=\"#Cooling_Rate_Profiles\">Cooling Rate Profiles</a>"
      ],
      "text/plain": [
       "<IPython.core.display.HTML object>"
      ]
     },
     "metadata": {},
     "output_type": "display_data"
    },
    {
     "data": {
      "text/html": [
       "<a href=\"#Flux_Comparison\">Flux Comparison</a>"
      ],
      "text/plain": [
       "<IPython.core.display.HTML object>"
      ]
     },
     "metadata": {},
     "output_type": "display_data"
    },
    {
     "data": {
      "text/html": [
       "<a href=\"#Best-fit_Parameters\">Best-fit Parameters</a>"
      ],
      "text/plain": [
       "<IPython.core.display.HTML object>"
      ]
     },
     "metadata": {},
     "output_type": "display_data"
    },
    {
     "data": {
      "text/html": [
       "<a id=\"Input_Parameters\"></a>"
      ],
      "text/plain": [
       "<IPython.core.display.HTML object>"
      ]
     },
     "metadata": {},
     "output_type": "display_data"
    },
    {
     "data": {
      "text/markdown": [
       "# Input Parameters"
      ],
      "text/plain": [
       "<IPython.core.display.Markdown object>"
      ]
     },
     "metadata": {},
     "output_type": "display_data"
    },
    {
     "name": "stdout",
     "output_type": "stream",
     "text": [
      "atmpro = mls\n",
      "band = [3]\n",
      "commitnumber = a3da41e\n",
      "molecule = {'h2o': 'atmpro'}\n",
      "tsfc = 294\n"
     ]
    },
    {
     "data": {
      "text/html": [
       "<a id=\"LBLNEW_case_compaired_against\"></a>"
      ],
      "text/plain": [
       "<IPython.core.display.HTML object>"
      ]
     },
     "metadata": {},
     "output_type": "display_data"
    },
    {
     "data": {
      "text/markdown": [
       "# LBLNEW case compaired against"
      ],
      "text/plain": [
       "<IPython.core.display.Markdown object>"
      ]
     },
     "metadata": {},
     "output_type": "display_data"
    },
    {
     "name": "stdout",
     "output_type": "stream",
     "text": [
      "atmpro = mls\n",
      "band = 3a\n",
      "commitnumber = 5014a19\n",
      "conc = None\n",
      "dv = 0.01\n",
      "klin = 0\n",
      "molecule = h2o\n",
      "ng_adju = [0, 0]\n",
      "ng_refs = [2, 6]\n",
      "nv = 100\n",
      "option_compute_btable = 0\n",
      "option_compute_ktable = 0\n",
      "option_wgt_flux = 1\n",
      "option_wgt_k = 1\n",
      "ref_pts = [(10, 250), (600, 250)]\n",
      "tsfc = 294\n",
      "vmax = 620\n",
      "vmin = 540\n",
      "w_diffuse = [(1.9, 1.7), (1.4, 1.4, 1.4, 1.55, 1.6, 1.66)]\n",
      "wgt = [(0.7, 0.7), (0.7, 0.5, 0.5, 0.5, 0.5, 0.5)]\n"
     ]
    },
    {
     "data": {
      "text/html": [
       "<a id=\"Cooling_Rate_Profiles\"></a>"
      ],
      "text/plain": [
       "<IPython.core.display.HTML object>"
      ]
     },
     "metadata": {},
     "output_type": "display_data"
    },
    {
     "data": {
      "text/markdown": [
       "# Cooling Rate Profiles"
      ],
      "text/plain": [
       "<IPython.core.display.Markdown object>"
      ]
     },
     "metadata": {},
     "output_type": "display_data"
    },
    {
     "data": {
      "text/html": [
       "\n",
       "<div class=\"bk-root\">\n",
       "    <div class=\"bk-plotdiv\" id=\"533360c7-c201-44c6-ad10-eba0df53e2c8\"></div>\n",
       "</div>"
      ]
     },
     "metadata": {},
     "output_type": "display_data"
    },
    {
     "data": {
      "application/javascript": [
       "(function(root) {\n",
       "  function embed_document(root) {\n",
       "    \n",
       "  var docs_json = {\"cb825d5c-5a3a-43a8-b565-fbb6de5ec086\":{\"roots\":{\"references\":[{\"attributes\":{\"line_alpha\":0.1,\"line_color\":\"#1f77b4\",\"line_dash\":[6],\"line_width\":5,\"x\":{\"field\":\"x\"},\"y\":{\"field\":\"y\"}},\"id\":\"4d0d3018-bae0-406f-83e1-2e2ed2a92757\",\"type\":\"Line\"},{\"attributes\":{\"callback\":null,\"end\":0.01,\"start\":1020},\"id\":\"c7214080-2b8a-40df-91fa-3030745ee757\",\"type\":\"Range1d\"},{\"attributes\":{},\"id\":\"4890badc-1dc6-4a9f-b4cc-307bac24050b\",\"type\":\"BasicTickFormatter\"},{\"attributes\":{},\"id\":\"c4134b2a-f3a3-4a85-8d85-734a442ff8c8\",\"type\":\"LinearScale\"},{\"attributes\":{\"callback\":null,\"end\":0.48577265020000004,\"start\":-0.004809630200000001},\"id\":\"d18231e2-1609-400b-b9a4-940c1c68af89\",\"type\":\"Range1d\"},{\"attributes\":{\"callback\":null,\"column_names\":[\"x\",\"y\"],\"data\":{\"x\":{\"__ndarray__\":\"AAAAAAAAAAAAAAAAAAAAAAAAAAAAAAAAAAAAAAAAAAAAAAAAAAAAAAAAAAAAAAAAd8PP4jkZlD9/5QnQK6iMv3I6JBAKpY4/90tUvgohbb8AAAAAAAAAANI2XyXWm20/t7KIzbUbVb/kYsb7fJJmP8XZWR2FF2A/y7LiPqvxdj9IpbDAS7hxP7f5FV+z64M/ixQt7ZJAiD9og0l642eRP5UBkKiKiJY/07gj23r/nT+481AdoyOiP/6B2r4zGaI/VwGlPhxmnj+3gQ0YvJmXPzzhteM3mZE/Io13OJs9iT9IXyz/ZtGBP3yrkYDBTHg/kinRYPtTbz+meJUjD0VjP+0oI3b6PVk/yLxbR7/3Uz84vLOFBrNQPwMf4iAHNEw/bcCOAlwjSz9Fk1+/wEpMP/S+Fb6GAE0/a4lOsx1jUD9l+J+iSe5gP5cq53+4On8/APaDGrvNlD8IBnghCTqkP26kjZ+dPq8/lhP5nUIIsz8WXZr/sFW2P4sPmvrMm7k/SPRbCRfRvD8ep+hILn/AP4ycx1m/NsM/Rn5Yyo39xT9KBJHib73IPwAAAAAAAAAASJHOI/OGyz8jUFg9u1fOP78DyVyVm9A/Q/7bXU4m0j/vfWB98qbUP+/zCAMJKdc/BZJm4gx02T/P4GvfDlrbP5BfaEM4xdw/STSav7a83T+5+WeCuF3eP+Vw94PLtN4/shBfHhnI3j/e0Tket4jeP7dKLAD4rd0/6CdBJOgU3D97lSmkBNbZP6ZeO0EwQdc/FdZbPQav1D9qYxUEyVrSP8MduX92Uc8/\",\"dtype\":\"float64\",\"shape\":[75]},\"y\":{\"__ndarray__\":\"MCRxoNFnQT9dcvo90IdNP+qWHeIftlQ/dNWXAFcNXT8NYIJ9MWBkP10nQT3OlGw/j4BJYrQLdD9jyv8cUR58P6d8Yj6UuIM/4k9uirCpiz98QnbexmaTPzw3+LjyNps/eYMeIE4Woz9zNWieEsaqP8rD9h4kx7I/FYYSdwZXuj8CvMP1QXnCPxYvFobI6ck/F35wPnUs0j/hCb3+JH7ZPwumL75H4eE/FK5H4XoU6T/Xo3A9CpfxPwaBlUOLrPg/ira+oyFOAUCgGi/dJEYIQBE2PL1SBhFAwE2QInzhF0B3TrNAu78gQPXb14FzfidA0ZFc/kN6MEAFo5I6AR03QHtLOV/sNUBAxAq3fCS9RkC8zob8M79PQCgmb4CZcVVAMzMzMzNjW0BmZmZmZqpgQLzoK0gzo2NAAAAAAACcZkBEF9S3zJRpQJqZmZmZjWxAZmZmZmaGb0AQ5KCEmT9xQAAAAAAAvHJA8Btfe2Y4dEAIclDCzLR1QPiNrz0zMXdAEOSghJmteEAAAAAAACp6QPAbX3tmpntACXJQwswifUD3ja89M59+QDeJQWDlSH9ACHJQwswNgEAAAAAAAMyAQPiNrz0zioFABTkoYWZIgkD7xteemQaDQAhyUMLMxINAAAAAAACDhED4ja89M0GFQAU5KGFm/4VA+8bXnpm9hkAIclDCzHuHQAAAAAAAOohA+I2vPTP4iEAFOShhZraJQPvG156ZdIpACXJQwswyi0AAAAAAAPGLQPeNrz0zr4xABTkoYWZtjUD7xteemSuOQHEDPj/M6Y5A\",\"dtype\":\"float64\",\"shape\":[75]}}},\"id\":\"95f55e1e-976c-47e5-a12c-ba2668af78fe\",\"type\":\"ColumnDataSource\"},{\"attributes\":{},\"id\":\"72fe21c7-cf3a-4c29-824e-697d9b2fba75\",\"type\":\"ResetTool\"},{\"attributes\":{\"plot\":null,\"text\":\"Log pressure scale\"},\"id\":\"76c93bc0-b9f7-4286-858d-89cc5e06f619\",\"type\":\"Title\"},{\"attributes\":{\"below\":[{\"id\":\"fe328df0-0af4-430e-aa88-b062b59d284d\",\"type\":\"LinearAxis\"}],\"left\":[{\"id\":\"4dabd443-8fc5-4cbe-b530-3f96676f4f0b\",\"type\":\"LogAxis\"}],\"plot_height\":500,\"plot_width\":560,\"renderers\":[{\"id\":\"fe328df0-0af4-430e-aa88-b062b59d284d\",\"type\":\"LinearAxis\"},{\"id\":\"a21142d7-698a-4880-9326-517f8354b9c2\",\"type\":\"Grid\"},{\"id\":\"4dabd443-8fc5-4cbe-b530-3f96676f4f0b\",\"type\":\"LogAxis\"},{\"id\":\"9e19dcc1-fcda-4541-b7ba-ff58ea81e13e\",\"type\":\"Grid\"},{\"id\":\"57e1662d-4d7a-4156-9b14-f600432b6172\",\"type\":\"BoxAnnotation\"},{\"id\":\"ee869543-1df9-45f6-ae60-adf0e344e40a\",\"type\":\"GlyphRenderer\"},{\"id\":\"136c2054-81f5-4c69-93a7-9bcc6bc3c0a1\",\"type\":\"GlyphRenderer\"},{\"id\":\"e5c8d7f6-fcca-4c2d-8bdd-7e9717768527\",\"type\":\"GlyphRenderer\"},{\"id\":\"d1f4193e-32e9-484a-bcae-6b1d037fe798\",\"type\":\"GlyphRenderer\"},{\"id\":\"b43e41de-98e7-4a40-b272-7906eacb55d9\",\"type\":\"GlyphRenderer\"},{\"id\":\"23e639e6-f173-49dc-a8a2-47899fc96243\",\"type\":\"Legend\"}],\"right\":[{\"id\":\"23e639e6-f173-49dc-a8a2-47899fc96243\",\"type\":\"Legend\"}],\"title\":{\"id\":\"76c93bc0-b9f7-4286-858d-89cc5e06f619\",\"type\":\"Title\"},\"toolbar\":{\"id\":\"c9b6d533-2b1c-4c39-b6f3-cbc188f37721\",\"type\":\"Toolbar\"},\"toolbar_location\":null,\"x_range\":{\"id\":\"3ef1ee63-5f79-4482-b516-2e9d6619d80b\",\"type\":\"Range1d\"},\"x_scale\":{\"id\":\"c4134b2a-f3a3-4a85-8d85-734a442ff8c8\",\"type\":\"LinearScale\"},\"y_range\":{\"id\":\"c7214080-2b8a-40df-91fa-3030745ee757\",\"type\":\"Range1d\"},\"y_scale\":{\"id\":\"3d3f0fdd-886a-457f-86d7-2738f2a516b7\",\"type\":\"LogScale\"}},\"id\":\"06cba1b8-4aa5-4ee8-9876-d6be2ef6f71e\",\"subtype\":\"Figure\",\"type\":\"Plot\"},{\"attributes\":{\"active_drag\":\"auto\",\"active_inspect\":\"auto\",\"active_scroll\":\"auto\",\"active_tap\":\"auto\",\"tools\":[{\"id\":\"8ad32e7c-d4e1-489f-ad47-788e19c52153\",\"type\":\"PanTool\"},{\"id\":\"ee98057c-c2a9-4d79-abcd-a5109848211c\",\"type\":\"WheelZoomTool\"},{\"id\":\"d3422d17-74c8-481c-81be-110c80c10f3d\",\"type\":\"BoxZoomTool\"},{\"id\":\"029ebbb6-1606-4c89-994e-a83daed10d0c\",\"type\":\"SaveTool\"},{\"id\":\"3c980cb1-3467-4885-b60b-6f08dd07c27c\",\"type\":\"ResetTool\"},{\"id\":\"a4c3fc34-8187-44ff-a5e8-7fa40eef6749\",\"type\":\"HelpTool\"}]},\"id\":\"c9b6d533-2b1c-4c39-b6f3-cbc188f37721\",\"type\":\"Toolbar\"},{\"attributes\":{\"items\":[{\"id\":\"950c4440-f7b7-4bbd-8a53-8987631791ca\",\"type\":\"LegendItem\"},{\"id\":\"5e42eb24-0548-414d-a14f-0a692eb5f88e\",\"type\":\"LegendItem\"},{\"id\":\"ab26e7ef-50ba-48d1-81d8-516cbfe6b5ee\",\"type\":\"LegendItem\"}],\"label_text_font_size\":{\"value\":\"8pt\"},\"location\":[10,-30],\"plot\":{\"id\":\"06cba1b8-4aa5-4ee8-9876-d6be2ef6f71e\",\"subtype\":\"Figure\",\"type\":\"Plot\"}},\"id\":\"23e639e6-f173-49dc-a8a2-47899fc96243\",\"type\":\"Legend\"},{\"attributes\":{\"children\":[{\"id\":\"29ac3161-14e4-4e0f-9fc0-8e71cc53de7f\",\"type\":\"Row\"}]},\"id\":\"54cc0811-0ed9-4ec8-993d-513fe006eeeb\",\"type\":\"Column\"},{\"attributes\":{\"bottom_units\":\"screen\",\"fill_alpha\":{\"value\":0.5},\"fill_color\":{\"value\":\"lightgrey\"},\"left_units\":\"screen\",\"level\":\"overlay\",\"line_alpha\":{\"value\":1.0},\"line_color\":{\"value\":\"black\"},\"line_dash\":[4,4],\"line_width\":{\"value\":2},\"plot\":null,\"render_mode\":\"css\",\"right_units\":\"screen\",\"top_units\":\"screen\"},\"id\":\"57e1662d-4d7a-4156-9b14-f600432b6172\",\"type\":\"BoxAnnotation\"},{\"attributes\":{\"source\":{\"id\":\"ca630acc-0f3d-4d6a-b829-f02974ccc458\",\"type\":\"ColumnDataSource\"}},\"id\":\"754caf55-4b25-43a5-8bd4-382d4f812b2d\",\"type\":\"CDSView\"},{\"attributes\":{},\"id\":\"8ad32e7c-d4e1-489f-ad47-788e19c52153\",\"type\":\"PanTool\"},{\"attributes\":{},\"id\":\"3c980cb1-3467-4885-b60b-6f08dd07c27c\",\"type\":\"ResetTool\"},{\"attributes\":{\"overlay\":{\"id\":\"57e1662d-4d7a-4156-9b14-f600432b6172\",\"type\":\"BoxAnnotation\"}},\"id\":\"d3422d17-74c8-481c-81be-110c80c10f3d\",\"type\":\"BoxZoomTool\"},{\"attributes\":{},\"id\":\"029ebbb6-1606-4c89-994e-a83daed10d0c\",\"type\":\"SaveTool\"},{\"attributes\":{},\"id\":\"ee98057c-c2a9-4d79-abcd-a5109848211c\",\"type\":\"WheelZoomTool\"},{\"attributes\":{},\"id\":\"a4c3fc34-8187-44ff-a5e8-7fa40eef6749\",\"type\":\"HelpTool\"},{\"attributes\":{\"callback\":null,\"column_names\":[\"x\",\"y\"],\"data\":{\"x\":{\"__ndarray__\":\"1gCVyf4c6r70+W+8tO8AP2R7JdYhziA/SBw82p6GLj+tIc2ZV2Q2PxRp8MuzxT0/HkPDTnuVQj9tnoCWbnhGPz1tVpkZc0o/G2SaLhaDTj9sKQbimlZRP1zetBOAI1M/7QjqRiaIVD+Cmg8El3JWP4IKnUfkw1w/Mkt8mgVtaT+80zGwlMF2PxmdeR8q+YE/KxTpfk5Bij+Qsm5RoC6SP3NUa+oHOJg/6+cLKVhGnz9/MM/OkpWiP+OZAl/yu6E/iQjw9zqSmz8rWv00lRWUP8VB6dvn0Iw/oKl+dbrLhD8qKdMPuul+P4MDEneyoHc/Ky8hsen5cT/E9EYvH9dqPzywqoL7/2Q/DCQWm9DQYT8izee6umxeP1B0stNVmlk/kObnRa8/Vz/bS33NML1WP4uBZczs0VU/dCedZs9OVz/YmqfeBc9mP9BllG3zzYM/s7GESJVHmD8GABUurmimP3tCyt1UFbE/vDsecrRctD82MV+JAFq3P1D3KseeHLs/nVVVHpN7vz/p/6iPuC7CP+lQn0c51sQ/5/cFDWA+xz9m6VRDLKzJPw+o7RXMTsw/iNr0b7Aazz8LW/WxaQLRPxd9JnevhdI/jwidQnTp1D/RMlpg8jPXPw4WyplYJtk/VrVJ6qm62j+TFrLjVOXbP2XlNJddqNw/F/Ywi7sH3T/iG0y7fwndP2YAwX9nudw/d27zKXQc3D82AhLJZyTbP2GWTev8vNk/QUJahN7y1z9fkUaiI/vVP4vFLe5YD9Q/mLQ1ZDRZ0j+k6pHlqAzRP7aBO1CnfNE/\",\"dtype\":\"float64\",\"shape\":[75]},\"y\":{\"__ndarray__\":\"GhExyth1ND/Sv8nbtpRIP2vylNV0PVE/aTum7souWD/At0SJ8fVgPw3Iuahxymc/MSNhhJWvcD/bTfBN02d3P2zb5nxnaoA/CD5h5MAGhz8NmeH1TyaQP+zrCsc9p5Y/LbKd76fGnz/bLW5ISEmmPww9YvTcQq8/JV2OstnstT8Er5Y7M8G+P0c+r3jqkcU/5h99k6ZBzj88bCIzFzjVP4enV8oyxN0//yH99nXg5D8qOpLLf0jtP5kqGJXUifQ/c9cS8kHP/D+/DpwzojQEQIEmwoanVwxA4lgXt9HgE0BSSZ2AJuIbQAMJih9jjiNA5q4l5INuK0AwTKYKRj0zQNv5fmq8/DpAaCJseHrtQkB/+zpwzoxKQM3MzMzMeFJAZmZmZmZqWEAAAAAAAFxeQM3MzMzMJmJAmpmZmZkfZUBmZmZmZhhoQDMzMzMzEWtAAAAAAAAKbkBmZmZmZoFwQM3MzMzM/XFAMzMzMzN6c0CamZmZmfZ0QAAAAAAAc3ZAZmZmZmbvd0DNzMzMzGt5QDMzMzMz6HpAmpmZmZlkfEAAAAAAAOF9QGZmZmZmXX9AZmZmZuZsgECamZmZGSuBQM3MzMxM6YFAAAAAAICngkAzMzMzs2WDQGZmZmbmI4RAmpmZmRnihEDNzMzMTKCFQAAAAACAXoZAMzMzM7Mch0BmZmZm5tqHQJqZmZkZmYhAzczMzExXiUAAAAAAgBWKQDMzMzOz04pAZmZmZuaRi0CamZmZGVCMQM3MzMxMDo1AAAAAAIDMjUAzMzMzs4qOQGZmZmbmSI9A\",\"dtype\":\"float64\",\"shape\":[75]}}},\"id\":\"2c33e826-f3c8-41bb-900e-ed4c06475bf9\",\"type\":\"ColumnDataSource\"},{\"attributes\":{},\"id\":\"1b330023-3b0c-4a0f-93eb-5a13bd9ae707\",\"type\":\"BasicTicker\"},{\"attributes\":{\"data_source\":{\"id\":\"95f55e1e-976c-47e5-a12c-ba2668af78fe\",\"type\":\"ColumnDataSource\"},\"glyph\":{\"id\":\"bc30d84b-a5cc-475f-93f4-a0df13f71502\",\"type\":\"Line\"},\"hover_glyph\":null,\"muted_glyph\":null,\"nonselection_glyph\":{\"id\":\"14c486dc-480b-4a89-bc90-ce5541df2fc4\",\"type\":\"Line\"},\"selection_glyph\":null,\"view\":{\"id\":\"aa922202-2d21-4941-9eca-abcd603e38f8\",\"type\":\"CDSView\"}},\"id\":\"ee869543-1df9-45f6-ae60-adf0e344e40a\",\"type\":\"GlyphRenderer\"},{\"attributes\":{},\"id\":\"3d3f0fdd-886a-457f-86d7-2738f2a516b7\",\"type\":\"LogScale\"},{\"attributes\":{\"label\":{\"value\":\"CRD\"},\"renderers\":[{\"id\":\"136c2054-81f5-4c69-93a7-9bcc6bc3c0a1\",\"type\":\"GlyphRenderer\"},{\"id\":\"e5c8d7f6-fcca-4c2d-8bdd-7e9717768527\",\"type\":\"GlyphRenderer\"}]},\"id\":\"5e42eb24-0548-414d-a14f-0a692eb5f88e\",\"type\":\"LegendItem\"},{\"attributes\":{\"line_alpha\":0.6,\"line_color\":\"#e41a1c\",\"line_dash\":[6],\"line_width\":5,\"x\":{\"field\":\"x\"},\"y\":{\"field\":\"y\"}},\"id\":\"40012029-74c3-4217-9dda-66894085dcee\",\"type\":\"Line\"},{\"attributes\":{\"plot\":{\"id\":\"06cba1b8-4aa5-4ee8-9876-d6be2ef6f71e\",\"subtype\":\"Figure\",\"type\":\"Plot\"},\"ticker\":{\"id\":\"1b330023-3b0c-4a0f-93eb-5a13bd9ae707\",\"type\":\"BasicTicker\"}},\"id\":\"a21142d7-698a-4880-9326-517f8354b9c2\",\"type\":\"Grid\"},{\"attributes\":{\"label\":{\"value\":\"CLIRAD `coolr_bands`\"},\"renderers\":[{\"id\":\"ee869543-1df9-45f6-ae60-adf0e344e40a\",\"type\":\"GlyphRenderer\"}]},\"id\":\"950c4440-f7b7-4bbd-8a53-8987631791ca\",\"type\":\"LegendItem\"},{\"attributes\":{},\"id\":\"5832d271-a476-484d-b484-dc6db7cc9541\",\"type\":\"SaveTool\"},{\"attributes\":{\"line_alpha\":0.6,\"line_color\":\"#e41a1c\",\"line_dash\":[6],\"line_width\":5,\"x\":{\"field\":\"x\"},\"y\":{\"field\":\"y\"}},\"id\":\"bc30d84b-a5cc-475f-93f4-a0df13f71502\",\"type\":\"Line\"},{\"attributes\":{\"dimension\":1,\"plot\":{\"id\":\"06cba1b8-4aa5-4ee8-9876-d6be2ef6f71e\",\"subtype\":\"Figure\",\"type\":\"Plot\"},\"ticker\":{\"id\":\"73a8a753-8fe7-41f0-a813-3bd72ccbbb7b\",\"type\":\"LogTicker\"}},\"id\":\"9e19dcc1-fcda-4541-b7ba-ff58ea81e13e\",\"type\":\"Grid\"},{\"attributes\":{\"line_alpha\":0.1,\"line_color\":\"#1f77b4\",\"line_dash\":[6],\"line_width\":5,\"x\":{\"field\":\"x\"},\"y\":{\"field\":\"y\"}},\"id\":\"14c486dc-480b-4a89-bc90-ce5541df2fc4\",\"type\":\"Line\"},{\"attributes\":{\"children\":[{\"id\":\"60310163-99f1-4da7-9cba-a4e237f906c4\",\"subtype\":\"Figure\",\"type\":\"Plot\"},{\"id\":\"06cba1b8-4aa5-4ee8-9876-d6be2ef6f71e\",\"subtype\":\"Figure\",\"type\":\"Plot\"}]},\"id\":\"29ac3161-14e4-4e0f-9fc0-8e71cc53de7f\",\"type\":\"Row\"},{\"attributes\":{\"fill_alpha\":{\"value\":0.7},\"fill_color\":{\"value\":\"#4daf4a\"},\"line_alpha\":{\"value\":0.7},\"line_color\":{\"value\":\"#4daf4a\"},\"x\":{\"field\":\"x\"},\"y\":{\"field\":\"y\"}},\"id\":\"ea8bb4a3-061b-4bf0-822f-0e457b97edf2\",\"type\":\"Circle\"},{\"attributes\":{\"axis_label\":\"cooling rate [K/day]\",\"formatter\":{\"id\":\"4890badc-1dc6-4a9f-b4cc-307bac24050b\",\"type\":\"BasicTickFormatter\"},\"plot\":{\"id\":\"06cba1b8-4aa5-4ee8-9876-d6be2ef6f71e\",\"subtype\":\"Figure\",\"type\":\"Plot\"},\"ticker\":{\"id\":\"1b330023-3b0c-4a0f-93eb-5a13bd9ae707\",\"type\":\"BasicTicker\"}},\"id\":\"fe328df0-0af4-430e-aa88-b062b59d284d\",\"type\":\"LinearAxis\"},{\"attributes\":{\"line_alpha\":0.1,\"line_color\":\"#1f77b4\",\"line_width\":3,\"x\":{\"field\":\"x\"},\"y\":{\"field\":\"y\"}},\"id\":\"26cac5bc-f211-4327-9e35-dc20957021c7\",\"type\":\"Line\"},{\"attributes\":{\"data_source\":{\"id\":\"06688674-9026-4412-840c-963efb35812b\",\"type\":\"ColumnDataSource\"},\"glyph\":{\"id\":\"4a1da8ed-abd0-4c72-912b-741def484f3f\",\"type\":\"Square\"},\"hover_glyph\":null,\"muted_glyph\":null,\"nonselection_glyph\":{\"id\":\"8b9075b3-4567-440f-98d2-b4bbd0c441e9\",\"type\":\"Square\"},\"selection_glyph\":null,\"view\":{\"id\":\"f7849985-29bc-4f92-b2f7-f80d03d71c85\",\"type\":\"CDSView\"}},\"id\":\"cc75d756-7708-4862-b490-15c5f88cc48b\",\"type\":\"GlyphRenderer\"},{\"attributes\":{\"callback\":null,\"column_names\":[\"x\",\"y\"],\"data\":{\"x\":{\"__ndarray__\":\"1gCVyf4c6r70+W+8tO8AP2R7JdYhziA/SBw82p6GLj+tIc2ZV2Q2PxRp8MuzxT0/HkPDTnuVQj9tnoCWbnhGPz1tVpkZc0o/G2SaLhaDTj9sKQbimlZRP1zetBOAI1M/7QjqRiaIVD+Cmg8El3JWP4IKnUfkw1w/Mkt8mgVtaT+80zGwlMF2PxmdeR8q+YE/KxTpfk5Bij+Qsm5RoC6SP3NUa+oHOJg/6+cLKVhGnz9/MM/OkpWiP+OZAl/yu6E/iQjw9zqSmz8rWv00lRWUP8VB6dvn0Iw/oKl+dbrLhD8qKdMPuul+P4MDEneyoHc/Ky8hsen5cT/E9EYvH9dqPzywqoL7/2Q/DCQWm9DQYT8izee6umxeP1B0stNVmlk/kObnRa8/Vz/bS33NML1WP4uBZczs0VU/dCedZs9OVz/YmqfeBc9mP9BllG3zzYM/s7GESJVHmD8GABUurmimP3tCyt1UFbE/vDsecrRctD82MV+JAFq3P1D3KseeHLs/nVVVHpN7vz/p/6iPuC7CP+lQn0c51sQ/5/cFDWA+xz9m6VRDLKzJPw+o7RXMTsw/iNr0b7Aazz8LW/WxaQLRPxd9JnevhdI/jwidQnTp1D/RMlpg8jPXPw4WyplYJtk/VrVJ6qm62j+TFrLjVOXbP2XlNJddqNw/F/Ywi7sH3T/iG0y7fwndP2YAwX9nudw/d27zKXQc3D82AhLJZyTbP2GWTev8vNk/QUJahN7y1z9fkUaiI/vVP4vFLe5YD9Q/mLQ1ZDRZ0j+k6pHlqAzRP7aBO1CnfNE/\",\"dtype\":\"float64\",\"shape\":[75]},\"y\":{\"__ndarray__\":\"GhExyth1ND/Sv8nbtpRIP2vylNV0PVE/aTum7souWD/At0SJ8fVgPw3Iuahxymc/MSNhhJWvcD/bTfBN02d3P2zb5nxnaoA/CD5h5MAGhz8NmeH1TyaQP+zrCsc9p5Y/LbKd76fGnz/bLW5ISEmmPww9YvTcQq8/JV2OstnstT8Er5Y7M8G+P0c+r3jqkcU/5h99k6ZBzj88bCIzFzjVP4enV8oyxN0//yH99nXg5D8qOpLLf0jtP5kqGJXUifQ/c9cS8kHP/D+/DpwzojQEQIEmwoanVwxA4lgXt9HgE0BSSZ2AJuIbQAMJih9jjiNA5q4l5INuK0AwTKYKRj0zQNv5fmq8/DpAaCJseHrtQkB/+zpwzoxKQM3MzMzMeFJAZmZmZmZqWEAAAAAAAFxeQM3MzMzMJmJAmpmZmZkfZUBmZmZmZhhoQDMzMzMzEWtAAAAAAAAKbkBmZmZmZoFwQM3MzMzM/XFAMzMzMzN6c0CamZmZmfZ0QAAAAAAAc3ZAZmZmZmbvd0DNzMzMzGt5QDMzMzMz6HpAmpmZmZlkfEAAAAAAAOF9QGZmZmZmXX9AZmZmZuZsgECamZmZGSuBQM3MzMxM6YFAAAAAAICngkAzMzMzs2WDQGZmZmbmI4RAmpmZmRnihEDNzMzMTKCFQAAAAACAXoZAMzMzM7Mch0BmZmZm5tqHQJqZmZkZmYhAzczMzExXiUAAAAAAgBWKQDMzMzOz04pAZmZmZuaRi0CamZmZGVCMQM3MzMxMDo1AAAAAAIDMjUAzMzMzs4qOQGZmZmbmSI9A\",\"dtype\":\"float64\",\"shape\":[75]}}},\"id\":\"46c15b86-0472-429f-8819-a73e21b115c5\",\"type\":\"ColumnDataSource\"},{\"attributes\":{\"overlay\":{\"id\":\"9e54b1a9-9973-4d5b-87f6-05bcb0b34a77\",\"type\":\"BoxAnnotation\"}},\"id\":\"c0956d53-b248-443b-a228-064dc5308884\",\"type\":\"BoxZoomTool\"},{\"attributes\":{\"data_source\":{\"id\":\"c546351d-dfb5-404b-b7f9-56b472b645e9\",\"type\":\"ColumnDataSource\"},\"glyph\":{\"id\":\"939f4418-3f32-4fcf-85cd-08c3e0439735\",\"type\":\"Circle\"},\"hover_glyph\":null,\"muted_glyph\":null,\"nonselection_glyph\":{\"id\":\"bd3cecee-edd1-4817-9f92-be6e23391fe6\",\"type\":\"Circle\"},\"selection_glyph\":null,\"view\":{\"id\":\"69f5aa2b-438d-435f-b040-8ab6f4eec880\",\"type\":\"CDSView\"}},\"id\":\"136c2054-81f5-4c69-93a7-9bcc6bc3c0a1\",\"type\":\"GlyphRenderer\"},{\"attributes\":{\"data_source\":{\"id\":\"46c15b86-0472-429f-8819-a73e21b115c5\",\"type\":\"ColumnDataSource\"},\"glyph\":{\"id\":\"40324eff-25b8-44f5-b686-bbf233cfda7b\",\"type\":\"Line\"},\"hover_glyph\":null,\"muted_glyph\":null,\"nonselection_glyph\":{\"id\":\"b3d40896-823d-49c6-9598-2e4ba2f3d7bd\",\"type\":\"Line\"},\"selection_glyph\":null,\"view\":{\"id\":\"69996f96-228f-4672-9227-583c24c73fb6\",\"type\":\"CDSView\"}},\"id\":\"e5c8d7f6-fcca-4c2d-8bdd-7e9717768527\",\"type\":\"GlyphRenderer\"},{\"attributes\":{\"callback\":null,\"column_names\":[\"x\",\"y\"],\"data\":{\"x\":{\"__ndarray__\":\"aiJooTdsRj+mTNbAP7pHPwcKOOL0jEo//KTv+gifTT+9ICfY8WNQP3Z04xugA1I/+oYt5syuUz/oeOBHuWVVP0qhp2SeKVc/2Wm1I+j6WD9+PGIzRtdaP5sApnm1j1w/KAONRTdiXj82hP+A2UlgP1inEy3njmM/IRksnZppbT/dsHqlv6J3P54R6mtatoE/g2Jexsg2iT/Uh6beB0qRPyZJncesDJc/1YztA7L7nT+VqkuRgRmiP73vIZCo8KE/Sz9DIPyWnT/ssKWwPNqWP9KtUuKuG5E/kNsYDioJiT8nt0k6BR6CPyEBupwC8Hk/+rR4DSkLcj8kWKwHRmpoPyxf0618mmE/mtdUzELMXD9GIbVIJJJYP9qfEb78alU/afpCnwVzVD85UF4Ynt1UP9wx6Kxnr1Q/S+V5rqmXVj+gpvqfnktmP9JmEOvumoM/IVB6zKSJmD/oa4P+DtGmP6fJqj2xTrE/Ga/YPSCqtD+fTeJ+F6u3P/xLBm2aB7s/10ciwxu3vj+I1BAVnobBP0PbfHZYG8Q/c16qLV6Zxj9VDtlFqhnJPx8Gg4rnscs/nvjLLYRYzj+Z8Zcv/4zQP+mOVju8BNI/Q4l2aAtn1D9XWx5Sj8LWPySF+Dr10Ng/0HF/RIx/2j/ghhp9z7zbP7jnZe4YjNw/9oINNu7+3D9Ji6UKDSLdP+rMJ7EVAd0/hsqi3SyY3D+OnQTRCszbP267XgEdfdo/1rO24ROz2D96TuQCLKjWP1SQXzwPlNQ/TJ5cAF240j/9sAISmUzRPxoX9l17mtE/\",\"dtype\":\"float64\",\"shape\":[75]},\"y\":{\"__ndarray__\":\"GhExyth1ND/Sv8nbtpRIP2vylNV0PVE/aTum7souWD/At0SJ8fVgPw3Iuahxymc/MSNhhJWvcD/bTfBN02d3P2zb5nxnaoA/CD5h5MAGhz8NmeH1TyaQP+zrCsc9p5Y/LbKd76fGnz/bLW5ISEmmPww9YvTcQq8/JV2OstnstT8Er5Y7M8G+P0c+r3jqkcU/5h99k6ZBzj88bCIzFzjVP4enV8oyxN0//yH99nXg5D8qOpLLf0jtP5kqGJXUifQ/c9cS8kHP/D+/DpwzojQEQIEmwoanVwxA4lgXt9HgE0BSSZ2AJuIbQAMJih9jjiNA5q4l5INuK0AwTKYKRj0zQNv5fmq8/DpAaCJseHrtQkB/+zpwzoxKQM3MzMzMeFJAZmZmZmZqWEAAAAAAAFxeQM3MzMzMJmJAmpmZmZkfZUBmZmZmZhhoQDMzMzMzEWtAAAAAAAAKbkBmZmZmZoFwQM3MzMzM/XFAMzMzMzN6c0CamZmZmfZ0QAAAAAAAc3ZAZmZmZmbvd0DNzMzMzGt5QDMzMzMz6HpAmpmZmZlkfEAAAAAAAOF9QGZmZmZmXX9AZmZmZuZsgECamZmZGSuBQM3MzMxM6YFAAAAAAICngkAzMzMzs2WDQGZmZmbmI4RAmpmZmRnihEDNzMzMTKCFQAAAAACAXoZAMzMzM7Mch0BmZmZm5tqHQJqZmZkZmYhAzczMzExXiUAAAAAAgBWKQDMzMzOz04pAZmZmZuaRi0CamZmZGVCMQM3MzMxMDo1AAAAAAIDMjUAzMzMzs4qOQGZmZmbmSI9A\",\"dtype\":\"float64\",\"shape\":[75]}}},\"id\":\"1749ed05-6921-41ca-b0da-a0a38920228f\",\"type\":\"ColumnDataSource\"},{\"attributes\":{\"callback\":null,\"column_names\":[\"x\",\"y\"],\"data\":{\"x\":{\"__ndarray__\":\"AAAAAAAAAAAAAAAAAAAAAAAAAAAAAAAAAAAAAAAAAAAAAAAAAAAAAAAAAAAAAAAAd8PP4jkZlD9/5QnQK6iMv3I6JBAKpY4/90tUvgohbb8AAAAAAAAAANI2XyXWm20/t7KIzbUbVb/kYsb7fJJmP8XZWR2FF2A/y7LiPqvxdj9IpbDAS7hxP7f5FV+z64M/ixQt7ZJAiD9og0l642eRP5UBkKiKiJY/07gj23r/nT+481AdoyOiP/6B2r4zGaI/VwGlPhxmnj+3gQ0YvJmXPzzhteM3mZE/Io13OJs9iT9IXyz/ZtGBP3yrkYDBTHg/kinRYPtTbz+meJUjD0VjP+0oI3b6PVk/yLxbR7/3Uz84vLOFBrNQPwMf4iAHNEw/bcCOAlwjSz9Fk1+/wEpMP/S+Fb6GAE0/a4lOsx1jUD9l+J+iSe5gP5cq53+4On8/APaDGrvNlD8IBnghCTqkP26kjZ+dPq8/lhP5nUIIsz8WXZr/sFW2P4sPmvrMm7k/SPRbCRfRvD8ep+hILn/AP4ycx1m/NsM/Rn5Yyo39xT9KBJHib73IPwAAAAAAAAAASJHOI/OGyz8jUFg9u1fOP78DyVyVm9A/Q/7bXU4m0j/vfWB98qbUP+/zCAMJKdc/BZJm4gx02T/P4GvfDlrbP5BfaEM4xdw/STSav7a83T+5+WeCuF3eP+Vw94PLtN4/shBfHhnI3j/e0Tket4jeP7dKLAD4rd0/6CdBJOgU3D97lSmkBNbZP6ZeO0EwQdc/FdZbPQav1D9qYxUEyVrSP8MduX92Uc8/\",\"dtype\":\"float64\",\"shape\":[75]},\"y\":{\"__ndarray__\":\"MCRxoNFnQT9dcvo90IdNP+qWHeIftlQ/dNWXAFcNXT8NYIJ9MWBkP10nQT3OlGw/j4BJYrQLdD9jyv8cUR58P6d8Yj6UuIM/4k9uirCpiz98QnbexmaTPzw3+LjyNps/eYMeIE4Woz9zNWieEsaqP8rD9h4kx7I/FYYSdwZXuj8CvMP1QXnCPxYvFobI6ck/F35wPnUs0j/hCb3+JH7ZPwumL75H4eE/FK5H4XoU6T/Xo3A9CpfxPwaBlUOLrPg/ira+oyFOAUCgGi/dJEYIQBE2PL1SBhFAwE2QInzhF0B3TrNAu78gQPXb14FzfidA0ZFc/kN6MEAFo5I6AR03QHtLOV/sNUBAxAq3fCS9RkC8zob8M79PQCgmb4CZcVVAMzMzMzNjW0BmZmZmZqpgQLzoK0gzo2NAAAAAAACcZkBEF9S3zJRpQJqZmZmZjWxAZmZmZmaGb0AQ5KCEmT9xQAAAAAAAvHJA8Btfe2Y4dEAIclDCzLR1QPiNrz0zMXdAEOSghJmteEAAAAAAACp6QPAbX3tmpntACXJQwswifUD3ja89M59+QDeJQWDlSH9ACHJQwswNgEAAAAAAAMyAQPiNrz0zioFABTkoYWZIgkD7xteemQaDQAhyUMLMxINAAAAAAACDhED4ja89M0GFQAU5KGFm/4VA+8bXnpm9hkAIclDCzHuHQAAAAAAAOohA+I2vPTP4iEAFOShhZraJQPvG156ZdIpACXJQwswyi0AAAAAAAPGLQPeNrz0zr4xABTkoYWZtjUD7xteemSuOQHEDPj/M6Y5A\",\"dtype\":\"float64\",\"shape\":[75]}}},\"id\":\"ca630acc-0f3d-4d6a-b829-f02974ccc458\",\"type\":\"ColumnDataSource\"},{\"attributes\":{\"source\":{\"id\":\"c546351d-dfb5-404b-b7f9-56b472b645e9\",\"type\":\"ColumnDataSource\"}},\"id\":\"69f5aa2b-438d-435f-b040-8ab6f4eec880\",\"type\":\"CDSView\"},{\"attributes\":{\"data_source\":{\"id\":\"ca630acc-0f3d-4d6a-b829-f02974ccc458\",\"type\":\"ColumnDataSource\"},\"glyph\":{\"id\":\"40012029-74c3-4217-9dda-66894085dcee\",\"type\":\"Line\"},\"hover_glyph\":null,\"muted_glyph\":null,\"nonselection_glyph\":{\"id\":\"4d0d3018-bae0-406f-83e1-2e2ed2a92757\",\"type\":\"Line\"},\"selection_glyph\":null,\"view\":{\"id\":\"754caf55-4b25-43a5-8bd4-382d4f812b2d\",\"type\":\"CDSView\"}},\"id\":\"73fd487f-edfc-496a-925f-8ff52c69e667\",\"type\":\"GlyphRenderer\"},{\"attributes\":{},\"id\":\"9805de7f-88d4-42ac-978a-4a8d5c14a197\",\"type\":\"BasicTickFormatter\"},{\"attributes\":{\"fill_alpha\":{\"value\":0.7},\"fill_color\":{\"value\":\"#4daf4a\"},\"line_alpha\":{\"value\":0.7},\"line_color\":{\"value\":\"#4daf4a\"},\"x\":{\"field\":\"x\"},\"y\":{\"field\":\"y\"}},\"id\":\"939f4418-3f32-4fcf-85cd-08c3e0439735\",\"type\":\"Circle\"},{\"attributes\":{\"callback\":null,\"column_names\":[\"x\",\"y\"],\"data\":{\"x\":{\"__ndarray__\":\"aiJooTdsRj+mTNbAP7pHPwcKOOL0jEo//KTv+gifTT+9ICfY8WNQP3Z04xugA1I/+oYt5syuUz/oeOBHuWVVP0qhp2SeKVc/2Wm1I+j6WD9+PGIzRtdaP5sApnm1j1w/KAONRTdiXj82hP+A2UlgP1inEy3njmM/IRksnZppbT/dsHqlv6J3P54R6mtatoE/g2Jexsg2iT/Uh6beB0qRPyZJncesDJc/1YztA7L7nT+VqkuRgRmiP73vIZCo8KE/Sz9DIPyWnT/ssKWwPNqWP9KtUuKuG5E/kNsYDioJiT8nt0k6BR6CPyEBupwC8Hk/+rR4DSkLcj8kWKwHRmpoPyxf0618mmE/mtdUzELMXD9GIbVIJJJYP9qfEb78alU/afpCnwVzVD85UF4Ynt1UP9wx6Kxnr1Q/S+V5rqmXVj+gpvqfnktmP9JmEOvumoM/IVB6zKSJmD/oa4P+DtGmP6fJqj2xTrE/Ga/YPSCqtD+fTeJ+F6u3P/xLBm2aB7s/10ciwxu3vj+I1BAVnobBP0PbfHZYG8Q/c16qLV6Zxj9VDtlFqhnJPx8Gg4rnscs/nvjLLYRYzj+Z8Zcv/4zQP+mOVju8BNI/Q4l2aAtn1D9XWx5Sj8LWPySF+Dr10Ng/0HF/RIx/2j/ghhp9z7zbP7jnZe4YjNw/9oINNu7+3D9Ji6UKDSLdP+rMJ7EVAd0/hsqi3SyY3D+OnQTRCszbP267XgEdfdo/1rO24ROz2D96TuQCLKjWP1SQXzwPlNQ/TJ5cAF240j/9sAISmUzRPxoX9l17mtE/\",\"dtype\":\"float64\",\"shape\":[75]},\"y\":{\"__ndarray__\":\"GhExyth1ND/Sv8nbtpRIP2vylNV0PVE/aTum7souWD/At0SJ8fVgPw3Iuahxymc/MSNhhJWvcD/bTfBN02d3P2zb5nxnaoA/CD5h5MAGhz8NmeH1TyaQP+zrCsc9p5Y/LbKd76fGnz/bLW5ISEmmPww9YvTcQq8/JV2OstnstT8Er5Y7M8G+P0c+r3jqkcU/5h99k6ZBzj88bCIzFzjVP4enV8oyxN0//yH99nXg5D8qOpLLf0jtP5kqGJXUifQ/c9cS8kHP/D+/DpwzojQEQIEmwoanVwxA4lgXt9HgE0BSSZ2AJuIbQAMJih9jjiNA5q4l5INuK0AwTKYKRj0zQNv5fmq8/DpAaCJseHrtQkB/+zpwzoxKQM3MzMzMeFJAZmZmZmZqWEAAAAAAAFxeQM3MzMzMJmJAmpmZmZkfZUBmZmZmZhhoQDMzMzMzEWtAAAAAAAAKbkBmZmZmZoFwQM3MzMzM/XFAMzMzMzN6c0CamZmZmfZ0QAAAAAAAc3ZAZmZmZmbvd0DNzMzMzGt5QDMzMzMz6HpAmpmZmZlkfEAAAAAAAOF9QGZmZmZmXX9AZmZmZuZsgECamZmZGSuBQM3MzMxM6YFAAAAAAICngkAzMzMzs2WDQGZmZmbmI4RAmpmZmRnihEDNzMzMTKCFQAAAAACAXoZAMzMzM7Mch0BmZmZm5tqHQJqZmZkZmYhAzczMzExXiUAAAAAAgBWKQDMzMzOz04pAZmZmZuaRi0CamZmZGVCMQM3MzMxMDo1AAAAAAIDMjUAzMzMzs4qOQGZmZmbmSI9A\",\"dtype\":\"float64\",\"shape\":[75]}}},\"id\":\"06688674-9026-4412-840c-963efb35812b\",\"type\":\"ColumnDataSource\"},{\"attributes\":{\"line_color\":\"#4daf4a\",\"line_width\":1.5,\"x\":{\"field\":\"x\"},\"y\":{\"field\":\"y\"}},\"id\":\"08ab4337-9edb-4e36-aec0-c3609e1956f7\",\"type\":\"Line\"},{\"attributes\":{\"source\":{\"id\":\"79edeb0f-9293-41e8-a530-cf90662be2cb\",\"type\":\"ColumnDataSource\"}},\"id\":\"57e28f86-1924-4101-9da9-9fb7a5f878ff\",\"type\":\"CDSView\"},{\"attributes\":{\"ticker\":null},\"id\":\"b61a2f68-4e99-419a-9b9d-e8b62f7ef33f\",\"type\":\"LogTickFormatter\"},{\"attributes\":{\"callback\":null,\"column_names\":[\"x\",\"y\"],\"data\":{\"x\":{\"__ndarray__\":\"aiJooTdsRj+mTNbAP7pHPwcKOOL0jEo//KTv+gifTT+9ICfY8WNQP3Z04xugA1I/+oYt5syuUz/oeOBHuWVVP0qhp2SeKVc/2Wm1I+j6WD9+PGIzRtdaP5sApnm1j1w/KAONRTdiXj82hP+A2UlgP1inEy3njmM/IRksnZppbT/dsHqlv6J3P54R6mtatoE/g2Jexsg2iT/Uh6beB0qRPyZJncesDJc/1YztA7L7nT+VqkuRgRmiP73vIZCo8KE/Sz9DIPyWnT/ssKWwPNqWP9KtUuKuG5E/kNsYDioJiT8nt0k6BR6CPyEBupwC8Hk/+rR4DSkLcj8kWKwHRmpoPyxf0618mmE/mtdUzELMXD9GIbVIJJJYP9qfEb78alU/afpCnwVzVD85UF4Ynt1UP9wx6Kxnr1Q/S+V5rqmXVj+gpvqfnktmP9JmEOvumoM/IVB6zKSJmD/oa4P+DtGmP6fJqj2xTrE/Ga/YPSCqtD+fTeJ+F6u3P/xLBm2aB7s/10ciwxu3vj+I1BAVnobBP0PbfHZYG8Q/c16qLV6Zxj9VDtlFqhnJPx8Gg4rnscs/nvjLLYRYzj+Z8Zcv/4zQP+mOVju8BNI/Q4l2aAtn1D9XWx5Sj8LWPySF+Dr10Ng/0HF/RIx/2j/ghhp9z7zbP7jnZe4YjNw/9oINNu7+3D9Ji6UKDSLdP+rMJ7EVAd0/hsqi3SyY3D+OnQTRCszbP267XgEdfdo/1rO24ROz2D96TuQCLKjWP1SQXzwPlNQ/TJ5cAF240j/9sAISmUzRPxoX9l17mtE/\",\"dtype\":\"float64\",\"shape\":[75]},\"y\":{\"__ndarray__\":\"GhExyth1ND/Sv8nbtpRIP2vylNV0PVE/aTum7souWD/At0SJ8fVgPw3Iuahxymc/MSNhhJWvcD/bTfBN02d3P2zb5nxnaoA/CD5h5MAGhz8NmeH1TyaQP+zrCsc9p5Y/LbKd76fGnz/bLW5ISEmmPww9YvTcQq8/JV2OstnstT8Er5Y7M8G+P0c+r3jqkcU/5h99k6ZBzj88bCIzFzjVP4enV8oyxN0//yH99nXg5D8qOpLLf0jtP5kqGJXUifQ/c9cS8kHP/D+/DpwzojQEQIEmwoanVwxA4lgXt9HgE0BSSZ2AJuIbQAMJih9jjiNA5q4l5INuK0AwTKYKRj0zQNv5fmq8/DpAaCJseHrtQkB/+zpwzoxKQM3MzMzMeFJAZmZmZmZqWEAAAAAAAFxeQM3MzMzMJmJAmpmZmZkfZUBmZmZmZhhoQDMzMzMzEWtAAAAAAAAKbkBmZmZmZoFwQM3MzMzM/XFAMzMzMzN6c0CamZmZmfZ0QAAAAAAAc3ZAZmZmZmbvd0DNzMzMzGt5QDMzMzMz6HpAmpmZmZlkfEAAAAAAAOF9QGZmZmZmXX9AZmZmZuZsgECamZmZGSuBQM3MzMxM6YFAAAAAAICngkAzMzMzs2WDQGZmZmbmI4RAmpmZmRnihEDNzMzMTKCFQAAAAACAXoZAMzMzM7Mch0BmZmZm5tqHQJqZmZkZmYhAzczMzExXiUAAAAAAgBWKQDMzMzOz04pAZmZmZuaRi0CamZmZGVCMQM3MzMxMDo1AAAAAAIDMjUAzMzMzs4qOQGZmZmbmSI9A\",\"dtype\":\"float64\",\"shape\":[75]}}},\"id\":\"a73b82df-2e00-474d-bbb9-5aeb3294e710\",\"type\":\"ColumnDataSource\"},{\"attributes\":{\"fill_alpha\":{\"value\":0.1},\"fill_color\":{\"value\":\"#1f77b4\"},\"line_alpha\":{\"value\":0.1},\"line_color\":{\"value\":\"#1f77b4\"},\"x\":{\"field\":\"x\"},\"y\":{\"field\":\"y\"}},\"id\":\"bd3cecee-edd1-4817-9f92-be6e23391fe6\",\"type\":\"Circle\"},{\"attributes\":{\"line_color\":\"#4daf4a\",\"line_width\":1.5,\"x\":{\"field\":\"x\"},\"y\":{\"field\":\"y\"}},\"id\":\"40324eff-25b8-44f5-b686-bbf233cfda7b\",\"type\":\"Line\"},{\"attributes\":{\"data_source\":{\"id\":\"1749ed05-6921-41ca-b0da-a0a38920228f\",\"type\":\"ColumnDataSource\"},\"glyph\":{\"id\":\"3e62b8c3-c591-45f4-94e8-15c04a7f8ce1\",\"type\":\"Line\"},\"hover_glyph\":null,\"muted_glyph\":null,\"nonselection_glyph\":{\"id\":\"26cac5bc-f211-4327-9e35-dc20957021c7\",\"type\":\"Line\"},\"selection_glyph\":null,\"view\":{\"id\":\"86f9fc51-0b6a-46ca-8023-04e163ea4646\",\"type\":\"CDSView\"}},\"id\":\"e5a8f106-c7df-4960-89c4-33c943982c34\",\"type\":\"GlyphRenderer\"},{\"attributes\":{\"line_alpha\":0.1,\"line_color\":\"#1f77b4\",\"line_width\":1.5,\"x\":{\"field\":\"x\"},\"y\":{\"field\":\"y\"}},\"id\":\"b3d40896-823d-49c6-9598-2e4ba2f3d7bd\",\"type\":\"Line\"},{\"attributes\":{\"callback\":null,\"column_names\":[\"x\",\"y\"],\"data\":{\"x\":{\"__ndarray__\":\"aiJooTdsRj+mTNbAP7pHPwcKOOL0jEo//KTv+gifTT+9ICfY8WNQP3Z04xugA1I/+oYt5syuUz/oeOBHuWVVP0qhp2SeKVc/2Wm1I+j6WD9+PGIzRtdaP5sApnm1j1w/KAONRTdiXj82hP+A2UlgP1inEy3njmM/IRksnZppbT/dsHqlv6J3P54R6mtatoE/g2Jexsg2iT/Uh6beB0qRPyZJncesDJc/1YztA7L7nT+VqkuRgRmiP73vIZCo8KE/Sz9DIPyWnT/ssKWwPNqWP9KtUuKuG5E/kNsYDioJiT8nt0k6BR6CPyEBupwC8Hk/+rR4DSkLcj8kWKwHRmpoPyxf0618mmE/mtdUzELMXD9GIbVIJJJYP9qfEb78alU/afpCnwVzVD85UF4Ynt1UP9wx6Kxnr1Q/S+V5rqmXVj+gpvqfnktmP9JmEOvumoM/IVB6zKSJmD/oa4P+DtGmP6fJqj2xTrE/Ga/YPSCqtD+fTeJ+F6u3P/xLBm2aB7s/10ciwxu3vj+I1BAVnobBP0PbfHZYG8Q/c16qLV6Zxj9VDtlFqhnJPx8Gg4rnscs/nvjLLYRYzj+Z8Zcv/4zQP+mOVju8BNI/Q4l2aAtn1D9XWx5Sj8LWPySF+Dr10Ng/0HF/RIx/2j/ghhp9z7zbP7jnZe4YjNw/9oINNu7+3D9Ji6UKDSLdP+rMJ7EVAd0/hsqi3SyY3D+OnQTRCszbP267XgEdfdo/1rO24ROz2D96TuQCLKjWP1SQXzwPlNQ/TJ5cAF240j/9sAISmUzRPxoX9l17mtE/\",\"dtype\":\"float64\",\"shape\":[75]},\"y\":{\"__ndarray__\":\"GhExyth1ND/Sv8nbtpRIP2vylNV0PVE/aTum7souWD/At0SJ8fVgPw3Iuahxymc/MSNhhJWvcD/bTfBN02d3P2zb5nxnaoA/CD5h5MAGhz8NmeH1TyaQP+zrCsc9p5Y/LbKd76fGnz/bLW5ISEmmPww9YvTcQq8/JV2OstnstT8Er5Y7M8G+P0c+r3jqkcU/5h99k6ZBzj88bCIzFzjVP4enV8oyxN0//yH99nXg5D8qOpLLf0jtP5kqGJXUifQ/c9cS8kHP/D+/DpwzojQEQIEmwoanVwxA4lgXt9HgE0BSSZ2AJuIbQAMJih9jjiNA5q4l5INuK0AwTKYKRj0zQNv5fmq8/DpAaCJseHrtQkB/+zpwzoxKQM3MzMzMeFJAZmZmZmZqWEAAAAAAAFxeQM3MzMzMJmJAmpmZmZkfZUBmZmZmZhhoQDMzMzMzEWtAAAAAAAAKbkBmZmZmZoFwQM3MzMzM/XFAMzMzMzN6c0CamZmZmfZ0QAAAAAAAc3ZAZmZmZmbvd0DNzMzMzGt5QDMzMzMz6HpAmpmZmZlkfEAAAAAAAOF9QGZmZmZmXX9AZmZmZuZsgECamZmZGSuBQM3MzMxM6YFAAAAAAICngkAzMzMzs2WDQGZmZmbmI4RAmpmZmRnihEDNzMzMTKCFQAAAAACAXoZAMzMzM7Mch0BmZmZm5tqHQJqZmZkZmYhAzczMzExXiUAAAAAAgBWKQDMzMzOz04pAZmZmZuaRi0CamZmZGVCMQM3MzMxMDo1AAAAAAIDMjUAzMzMzs4qOQGZmZmbmSI9A\",\"dtype\":\"float64\",\"shape\":[75]}}},\"id\":\"84a18524-aa40-46a5-89d4-2fa559147fb6\",\"type\":\"ColumnDataSource\"},{\"attributes\":{\"source\":{\"id\":\"46c15b86-0472-429f-8819-a73e21b115c5\",\"type\":\"ColumnDataSource\"}},\"id\":\"69996f96-228f-4672-9227-583c24c73fb6\",\"type\":\"CDSView\"},{\"attributes\":{\"callback\":null,\"column_names\":[\"x\",\"y\"],\"data\":{\"x\":{\"__ndarray__\":\"1gCVyf4c6r70+W+8tO8AP2R7JdYhziA/SBw82p6GLj+tIc2ZV2Q2PxRp8MuzxT0/HkPDTnuVQj9tnoCWbnhGPz1tVpkZc0o/G2SaLhaDTj9sKQbimlZRP1zetBOAI1M/7QjqRiaIVD+Cmg8El3JWP4IKnUfkw1w/Mkt8mgVtaT+80zGwlMF2PxmdeR8q+YE/KxTpfk5Bij+Qsm5RoC6SP3NUa+oHOJg/6+cLKVhGnz9/MM/OkpWiP+OZAl/yu6E/iQjw9zqSmz8rWv00lRWUP8VB6dvn0Iw/oKl+dbrLhD8qKdMPuul+P4MDEneyoHc/Ky8hsen5cT/E9EYvH9dqPzywqoL7/2Q/DCQWm9DQYT8izee6umxeP1B0stNVmlk/kObnRa8/Vz/bS33NML1WP4uBZczs0VU/dCedZs9OVz/YmqfeBc9mP9BllG3zzYM/s7GESJVHmD8GABUurmimP3tCyt1UFbE/vDsecrRctD82MV+JAFq3P1D3KseeHLs/nVVVHpN7vz/p/6iPuC7CP+lQn0c51sQ/5/cFDWA+xz9m6VRDLKzJPw+o7RXMTsw/iNr0b7Aazz8LW/WxaQLRPxd9JnevhdI/jwidQnTp1D/RMlpg8jPXPw4WyplYJtk/VrVJ6qm62j+TFrLjVOXbP2XlNJddqNw/F/Ywi7sH3T/iG0y7fwndP2YAwX9nudw/d27zKXQc3D82AhLJZyTbP2GWTev8vNk/QUJahN7y1z9fkUaiI/vVP4vFLe5YD9Q/mLQ1ZDRZ0j+k6pHlqAzRP7aBO1CnfNE/\",\"dtype\":\"float64\",\"shape\":[75]},\"y\":{\"__ndarray__\":\"GhExyth1ND/Sv8nbtpRIP2vylNV0PVE/aTum7souWD/At0SJ8fVgPw3Iuahxymc/MSNhhJWvcD/bTfBN02d3P2zb5nxnaoA/CD5h5MAGhz8NmeH1TyaQP+zrCsc9p5Y/LbKd76fGnz/bLW5ISEmmPww9YvTcQq8/JV2OstnstT8Er5Y7M8G+P0c+r3jqkcU/5h99k6ZBzj88bCIzFzjVP4enV8oyxN0//yH99nXg5D8qOpLLf0jtP5kqGJXUifQ/c9cS8kHP/D+/DpwzojQEQIEmwoanVwxA4lgXt9HgE0BSSZ2AJuIbQAMJih9jjiNA5q4l5INuK0AwTKYKRj0zQNv5fmq8/DpAaCJseHrtQkB/+zpwzoxKQM3MzMzMeFJAZmZmZmZqWEAAAAAAAFxeQM3MzMzMJmJAmpmZmZkfZUBmZmZmZhhoQDMzMzMzEWtAAAAAAAAKbkBmZmZmZoFwQM3MzMzM/XFAMzMzMzN6c0CamZmZmfZ0QAAAAAAAc3ZAZmZmZmbvd0DNzMzMzGt5QDMzMzMz6HpAmpmZmZlkfEAAAAAAAOF9QGZmZmZmXX9AZmZmZuZsgECamZmZGSuBQM3MzMxM6YFAAAAAAICngkAzMzMzs2WDQGZmZmbmI4RAmpmZmRnihEDNzMzMTKCFQAAAAACAXoZAMzMzM7Mch0BmZmZm5tqHQJqZmZkZmYhAzczMzExXiUAAAAAAgBWKQDMzMzOz04pAZmZmZuaRi0CamZmZGVCMQM3MzMxMDo1AAAAAAIDMjUAzMzMzs4qOQGZmZmbmSI9A\",\"dtype\":\"float64\",\"shape\":[75]}}},\"id\":\"79edeb0f-9293-41e8-a530-cf90662be2cb\",\"type\":\"ColumnDataSource\"},{\"attributes\":{\"fill_alpha\":{\"value\":0.7},\"fill_color\":{\"value\":\"#984ea3\"},\"line_alpha\":{\"value\":0.7},\"line_color\":{\"value\":\"#984ea3\"},\"x\":{\"field\":\"x\"},\"y\":{\"field\":\"y\"}},\"id\":\"aa376b87-649b-4b66-a111-de483effba3e\",\"type\":\"Square\"},{\"attributes\":{\"callback\":null,\"end\":0.036695936996999995,\"start\":-0.003954326697},\"id\":\"3ef1ee63-5f79-4482-b516-2e9d6619d80b\",\"type\":\"Range1d\"},{\"attributes\":{\"fill_alpha\":{\"value\":0.1},\"fill_color\":{\"value\":\"#1f77b4\"},\"line_alpha\":{\"value\":0.1},\"line_color\":{\"value\":\"#1f77b4\"},\"x\":{\"field\":\"x\"},\"y\":{\"field\":\"y\"}},\"id\":\"2aa13a05-776a-45f3-b7cd-72de831b93b5\",\"type\":\"Circle\"},{\"attributes\":{\"line_alpha\":0.6,\"line_color\":\"#984ea3\",\"line_width\":3,\"x\":{\"field\":\"x\"},\"y\":{\"field\":\"y\"}},\"id\":\"3e62b8c3-c591-45f4-94e8-15c04a7f8ce1\",\"type\":\"Line\"},{\"attributes\":{\"fill_alpha\":{\"value\":0.1},\"fill_color\":{\"value\":\"#1f77b4\"},\"line_alpha\":{\"value\":0.1},\"line_color\":{\"value\":\"#1f77b4\"},\"x\":{\"field\":\"x\"},\"y\":{\"field\":\"y\"}},\"id\":\"37d4c34d-156b-454f-bb3e-9f623364a890\",\"type\":\"Square\"},{\"attributes\":{\"axis_label\":\"pressure [mb]\",\"formatter\":{\"id\":\"b61a2f68-4e99-419a-9b9d-e8b62f7ef33f\",\"type\":\"LogTickFormatter\"},\"plot\":{\"id\":\"06cba1b8-4aa5-4ee8-9876-d6be2ef6f71e\",\"subtype\":\"Figure\",\"type\":\"Plot\"},\"ticker\":{\"id\":\"73a8a753-8fe7-41f0-a813-3bd72ccbbb7b\",\"type\":\"LogTicker\"}},\"id\":\"4dabd443-8fc5-4cbe-b530-3f96676f4f0b\",\"type\":\"LogAxis\"},{\"attributes\":{\"data_source\":{\"id\":\"a73b82df-2e00-474d-bbb9-5aeb3294e710\",\"type\":\"ColumnDataSource\"},\"glyph\":{\"id\":\"aa376b87-649b-4b66-a111-de483effba3e\",\"type\":\"Square\"},\"hover_glyph\":null,\"muted_glyph\":null,\"nonselection_glyph\":{\"id\":\"37d4c34d-156b-454f-bb3e-9f623364a890\",\"type\":\"Square\"},\"selection_glyph\":null,\"view\":{\"id\":\"2d3d9b5a-fe5b-4c57-9b07-dd59a925c912\",\"type\":\"CDSView\"}},\"id\":\"d1f4193e-32e9-484a-bcae-6b1d037fe798\",\"type\":\"GlyphRenderer\"},{\"attributes\":{\"source\":{\"id\":\"a73b82df-2e00-474d-bbb9-5aeb3294e710\",\"type\":\"ColumnDataSource\"}},\"id\":\"2d3d9b5a-fe5b-4c57-9b07-dd59a925c912\",\"type\":\"CDSView\"},{\"attributes\":{\"line_alpha\":0.6,\"line_color\":\"#984ea3\",\"line_width\":3,\"x\":{\"field\":\"x\"},\"y\":{\"field\":\"y\"}},\"id\":\"caaf2ee8-8187-48a9-ba4b-397354bde4de\",\"type\":\"Line\"},{\"attributes\":{\"dimension\":1,\"plot\":{\"id\":\"60310163-99f1-4da7-9cba-a4e237f906c4\",\"subtype\":\"Figure\",\"type\":\"Plot\"},\"ticker\":{\"id\":\"67530290-8e80-4b80-9a36-e4de13016fa6\",\"type\":\"BasicTicker\"}},\"id\":\"a47b6fb4-6a7b-420a-9a38-50a80a891f29\",\"type\":\"Grid\"},{\"attributes\":{\"axis_label\":\"pressure [mb]\",\"formatter\":{\"id\":\"d894edbb-3cd1-47dc-b605-ce1f60a44b4e\",\"type\":\"BasicTickFormatter\"},\"plot\":{\"id\":\"60310163-99f1-4da7-9cba-a4e237f906c4\",\"subtype\":\"Figure\",\"type\":\"Plot\"},\"ticker\":{\"id\":\"67530290-8e80-4b80-9a36-e4de13016fa6\",\"type\":\"BasicTicker\"}},\"id\":\"a18aaf19-df49-4405-a4c8-120eb41d49be\",\"type\":\"LinearAxis\"},{\"attributes\":{},\"id\":\"d894edbb-3cd1-47dc-b605-ce1f60a44b4e\",\"type\":\"BasicTickFormatter\"},{\"attributes\":{\"line_alpha\":0.1,\"line_color\":\"#1f77b4\",\"line_width\":3,\"x\":{\"field\":\"x\"},\"y\":{\"field\":\"y\"}},\"id\":\"fcd04267-d19e-4b2a-899b-4755e0be6f6a\",\"type\":\"Line\"},{\"attributes\":{},\"id\":\"31b176ec-0f4e-49de-b2de-a32b416dbbb2\",\"type\":\"LinearScale\"},{\"attributes\":{\"data_source\":{\"id\":\"84a18524-aa40-46a5-89d4-2fa559147fb6\",\"type\":\"ColumnDataSource\"},\"glyph\":{\"id\":\"caaf2ee8-8187-48a9-ba4b-397354bde4de\",\"type\":\"Line\"},\"hover_glyph\":null,\"muted_glyph\":null,\"nonselection_glyph\":{\"id\":\"fcd04267-d19e-4b2a-899b-4755e0be6f6a\",\"type\":\"Line\"},\"selection_glyph\":null,\"view\":{\"id\":\"ab7bc767-ddb3-4c3f-a7a2-b52dba0b421b\",\"type\":\"CDSView\"}},\"id\":\"b43e41de-98e7-4a40-b272-7906eacb55d9\",\"type\":\"GlyphRenderer\"},{\"attributes\":{\"axis_label\":\"cooling rate [K/day]\",\"formatter\":{\"id\":\"9805de7f-88d4-42ac-978a-4a8d5c14a197\",\"type\":\"BasicTickFormatter\"},\"plot\":{\"id\":\"60310163-99f1-4da7-9cba-a4e237f906c4\",\"subtype\":\"Figure\",\"type\":\"Plot\"},\"ticker\":{\"id\":\"2d7ca45d-827f-4b42-8844-8161b68c42f3\",\"type\":\"BasicTicker\"}},\"id\":\"54dd431c-342f-4200-90ca-43865f016928\",\"type\":\"LinearAxis\"},{\"attributes\":{\"source\":{\"id\":\"84a18524-aa40-46a5-89d4-2fa559147fb6\",\"type\":\"ColumnDataSource\"}},\"id\":\"ab7bc767-ddb3-4c3f-a7a2-b52dba0b421b\",\"type\":\"CDSView\"},{\"attributes\":{\"toolbar\":{\"id\":\"3951cad3-4c6a-4cb3-9164-ccbe04c6555d\",\"type\":\"ProxyToolbar\"},\"toolbar_location\":\"above\"},\"id\":\"684b5651-01d8-482c-9163-865725991c4f\",\"type\":\"ToolbarBox\"},{\"attributes\":{\"label\":{\"value\":\"WGT igg=10 wgt_flux=2\"},\"renderers\":[{\"id\":\"d1f4193e-32e9-484a-bcae-6b1d037fe798\",\"type\":\"GlyphRenderer\"},{\"id\":\"b43e41de-98e7-4a40-b272-7906eacb55d9\",\"type\":\"GlyphRenderer\"}]},\"id\":\"ab26e7ef-50ba-48d1-81d8-516cbfe6b5ee\",\"type\":\"LegendItem\"},{\"attributes\":{\"children\":[{\"id\":\"684b5651-01d8-482c-9163-865725991c4f\",\"type\":\"ToolbarBox\"},{\"id\":\"54cc0811-0ed9-4ec8-993d-513fe006eeeb\",\"type\":\"Column\"}]},\"id\":\"b43e3964-be29-4f46-94bd-55541b3aa745\",\"type\":\"Column\"},{\"attributes\":{},\"id\":\"6f142a70-8197-4658-aaa7-567c85396c7d\",\"type\":\"WheelZoomTool\"},{\"attributes\":{},\"id\":\"2d7ca45d-827f-4b42-8844-8161b68c42f3\",\"type\":\"BasicTicker\"},{\"attributes\":{\"tools\":[{\"id\":\"0dc35af4-55e1-45c2-8699-a6f25f5e8358\",\"type\":\"PanTool\"},{\"id\":\"6f142a70-8197-4658-aaa7-567c85396c7d\",\"type\":\"WheelZoomTool\"},{\"id\":\"c0956d53-b248-443b-a228-064dc5308884\",\"type\":\"BoxZoomTool\"},{\"id\":\"5832d271-a476-484d-b484-dc6db7cc9541\",\"type\":\"SaveTool\"},{\"id\":\"72fe21c7-cf3a-4c29-824e-697d9b2fba75\",\"type\":\"ResetTool\"},{\"id\":\"72532f72-bbc8-466c-8280-59157f54387c\",\"type\":\"HelpTool\"},{\"id\":\"8ad32e7c-d4e1-489f-ad47-788e19c52153\",\"type\":\"PanTool\"},{\"id\":\"ee98057c-c2a9-4d79-abcd-a5109848211c\",\"type\":\"WheelZoomTool\"},{\"id\":\"d3422d17-74c8-481c-81be-110c80c10f3d\",\"type\":\"BoxZoomTool\"},{\"id\":\"029ebbb6-1606-4c89-994e-a83daed10d0c\",\"type\":\"SaveTool\"},{\"id\":\"3c980cb1-3467-4885-b60b-6f08dd07c27c\",\"type\":\"ResetTool\"},{\"id\":\"a4c3fc34-8187-44ff-a5e8-7fa40eef6749\",\"type\":\"HelpTool\"}]},\"id\":\"3951cad3-4c6a-4cb3-9164-ccbe04c6555d\",\"type\":\"ProxyToolbar\"},{\"attributes\":{\"fill_alpha\":{\"value\":0.7},\"fill_color\":{\"value\":\"#984ea3\"},\"line_alpha\":{\"value\":0.7},\"line_color\":{\"value\":\"#984ea3\"},\"x\":{\"field\":\"x\"},\"y\":{\"field\":\"y\"}},\"id\":\"4a1da8ed-abd0-4c72-912b-741def484f3f\",\"type\":\"Square\"},{\"attributes\":{\"fill_alpha\":{\"value\":0.1},\"fill_color\":{\"value\":\"#1f77b4\"},\"line_alpha\":{\"value\":0.1},\"line_color\":{\"value\":\"#1f77b4\"},\"x\":{\"field\":\"x\"},\"y\":{\"field\":\"y\"}},\"id\":\"8b9075b3-4567-440f-98d2-b4bbd0c441e9\",\"type\":\"Square\"},{\"attributes\":{\"active_drag\":\"auto\",\"active_inspect\":\"auto\",\"active_scroll\":\"auto\",\"active_tap\":\"auto\",\"tools\":[{\"id\":\"0dc35af4-55e1-45c2-8699-a6f25f5e8358\",\"type\":\"PanTool\"},{\"id\":\"6f142a70-8197-4658-aaa7-567c85396c7d\",\"type\":\"WheelZoomTool\"},{\"id\":\"c0956d53-b248-443b-a228-064dc5308884\",\"type\":\"BoxZoomTool\"},{\"id\":\"5832d271-a476-484d-b484-dc6db7cc9541\",\"type\":\"SaveTool\"},{\"id\":\"72fe21c7-cf3a-4c29-824e-697d9b2fba75\",\"type\":\"ResetTool\"},{\"id\":\"72532f72-bbc8-466c-8280-59157f54387c\",\"type\":\"HelpTool\"}]},\"id\":\"34a03e70-6257-42b6-bfbc-c2c7d3f0563c\",\"type\":\"Toolbar\"},{\"attributes\":{\"bottom_units\":\"screen\",\"fill_alpha\":{\"value\":0.5},\"fill_color\":{\"value\":\"lightgrey\"},\"left_units\":\"screen\",\"level\":\"overlay\",\"line_alpha\":{\"value\":1.0},\"line_color\":{\"value\":\"black\"},\"line_dash\":[4,4],\"line_width\":{\"value\":2},\"plot\":null,\"render_mode\":\"css\",\"right_units\":\"screen\",\"top_units\":\"screen\"},\"id\":\"9e54b1a9-9973-4d5b-87f6-05bcb0b34a77\",\"type\":\"BoxAnnotation\"},{\"attributes\":{\"source\":{\"id\":\"2c33e826-f3c8-41bb-900e-ed4c06475bf9\",\"type\":\"ColumnDataSource\"}},\"id\":\"497be2bc-b46d-48a3-838f-df2a28367561\",\"type\":\"CDSView\"},{\"attributes\":{\"callback\":null,\"end\":0.01,\"start\":1020},\"id\":\"97df329d-9360-48c0-8137-2f43d7f51041\",\"type\":\"Range1d\"},{\"attributes\":{\"line_alpha\":0.1,\"line_color\":\"#1f77b4\",\"line_width\":1.5,\"x\":{\"field\":\"x\"},\"y\":{\"field\":\"y\"}},\"id\":\"d0cfb76d-3f06-47cd-a8de-caf7e8a51efb\",\"type\":\"Line\"},{\"attributes\":{\"callback\":null,\"column_names\":[\"x\",\"y\"],\"data\":{\"x\":{\"__ndarray__\":\"1gCVyf4c6r70+W+8tO8AP2R7JdYhziA/SBw82p6GLj+tIc2ZV2Q2PxRp8MuzxT0/HkPDTnuVQj9tnoCWbnhGPz1tVpkZc0o/G2SaLhaDTj9sKQbimlZRP1zetBOAI1M/7QjqRiaIVD+Cmg8El3JWP4IKnUfkw1w/Mkt8mgVtaT+80zGwlMF2PxmdeR8q+YE/KxTpfk5Bij+Qsm5RoC6SP3NUa+oHOJg/6+cLKVhGnz9/MM/OkpWiP+OZAl/yu6E/iQjw9zqSmz8rWv00lRWUP8VB6dvn0Iw/oKl+dbrLhD8qKdMPuul+P4MDEneyoHc/Ky8hsen5cT/E9EYvH9dqPzywqoL7/2Q/DCQWm9DQYT8izee6umxeP1B0stNVmlk/kObnRa8/Vz/bS33NML1WP4uBZczs0VU/dCedZs9OVz/YmqfeBc9mP9BllG3zzYM/s7GESJVHmD8GABUurmimP3tCyt1UFbE/vDsecrRctD82MV+JAFq3P1D3KseeHLs/nVVVHpN7vz/p/6iPuC7CP+lQn0c51sQ/5/cFDWA+xz9m6VRDLKzJPw+o7RXMTsw/iNr0b7Aazz8LW/WxaQLRPxd9JnevhdI/jwidQnTp1D/RMlpg8jPXPw4WyplYJtk/VrVJ6qm62j+TFrLjVOXbP2XlNJddqNw/F/Ywi7sH3T/iG0y7fwndP2YAwX9nudw/d27zKXQc3D82AhLJZyTbP2GWTev8vNk/QUJahN7y1z9fkUaiI/vVP4vFLe5YD9Q/mLQ1ZDRZ0j+k6pHlqAzRP7aBO1CnfNE/\",\"dtype\":\"float64\",\"shape\":[75]},\"y\":{\"__ndarray__\":\"GhExyth1ND/Sv8nbtpRIP2vylNV0PVE/aTum7souWD/At0SJ8fVgPw3Iuahxymc/MSNhhJWvcD/bTfBN02d3P2zb5nxnaoA/CD5h5MAGhz8NmeH1TyaQP+zrCsc9p5Y/LbKd76fGnz/bLW5ISEmmPww9YvTcQq8/JV2OstnstT8Er5Y7M8G+P0c+r3jqkcU/5h99k6ZBzj88bCIzFzjVP4enV8oyxN0//yH99nXg5D8qOpLLf0jtP5kqGJXUifQ/c9cS8kHP/D+/DpwzojQEQIEmwoanVwxA4lgXt9HgE0BSSZ2AJuIbQAMJih9jjiNA5q4l5INuK0AwTKYKRj0zQNv5fmq8/DpAaCJseHrtQkB/+zpwzoxKQM3MzMzMeFJAZmZmZmZqWEAAAAAAAFxeQM3MzMzMJmJAmpmZmZkfZUBmZmZmZhhoQDMzMzMzEWtAAAAAAAAKbkBmZmZmZoFwQM3MzMzM/XFAMzMzMzN6c0CamZmZmfZ0QAAAAAAAc3ZAZmZmZmbvd0DNzMzMzGt5QDMzMzMz6HpAmpmZmZlkfEAAAAAAAOF9QGZmZmZmXX9AZmZmZuZsgECamZmZGSuBQM3MzMxM6YFAAAAAAICngkAzMzMzs2WDQGZmZmbmI4RAmpmZmRnihEDNzMzMTKCFQAAAAACAXoZAMzMzM7Mch0BmZmZm5tqHQJqZmZkZmYhAzczMzExXiUAAAAAAgBWKQDMzMzOz04pAZmZmZuaRi0CamZmZGVCMQM3MzMxMDo1AAAAAAIDMjUAzMzMzs4qOQGZmZmbmSI9A\",\"dtype\":\"float64\",\"shape\":[75]}}},\"id\":\"c546351d-dfb5-404b-b7f9-56b472b645e9\",\"type\":\"ColumnDataSource\"},{\"attributes\":{\"below\":[{\"id\":\"54dd431c-342f-4200-90ca-43865f016928\",\"type\":\"LinearAxis\"}],\"left\":[{\"id\":\"a18aaf19-df49-4405-a4c8-120eb41d49be\",\"type\":\"LinearAxis\"}],\"plot_height\":500,\"plot_width\":400,\"renderers\":[{\"id\":\"54dd431c-342f-4200-90ca-43865f016928\",\"type\":\"LinearAxis\"},{\"id\":\"b72b3b6e-34d2-4a2a-8bfb-085a755e036f\",\"type\":\"Grid\"},{\"id\":\"a18aaf19-df49-4405-a4c8-120eb41d49be\",\"type\":\"LinearAxis\"},{\"id\":\"a47b6fb4-6a7b-420a-9a38-50a80a891f29\",\"type\":\"Grid\"},{\"id\":\"9e54b1a9-9973-4d5b-87f6-05bcb0b34a77\",\"type\":\"BoxAnnotation\"},{\"id\":\"73fd487f-edfc-496a-925f-8ff52c69e667\",\"type\":\"GlyphRenderer\"},{\"id\":\"218026eb-aec7-445f-bc10-0a1832339635\",\"type\":\"GlyphRenderer\"},{\"id\":\"666d1f8b-4e51-4efb-9b52-6d57c561b1de\",\"type\":\"GlyphRenderer\"},{\"id\":\"cc75d756-7708-4862-b490-15c5f88cc48b\",\"type\":\"GlyphRenderer\"},{\"id\":\"e5a8f106-c7df-4960-89c4-33c943982c34\",\"type\":\"GlyphRenderer\"}],\"title\":{\"id\":\"ff1936c2-5f04-45db-82aa-0ca00b9c2af4\",\"type\":\"Title\"},\"toolbar\":{\"id\":\"34a03e70-6257-42b6-bfbc-c2c7d3f0563c\",\"type\":\"Toolbar\"},\"toolbar_location\":null,\"x_range\":{\"id\":\"d18231e2-1609-400b-b9a4-940c1c68af89\",\"type\":\"Range1d\"},\"x_scale\":{\"id\":\"31b176ec-0f4e-49de-b2de-a32b416dbbb2\",\"type\":\"LinearScale\"},\"y_range\":{\"id\":\"97df329d-9360-48c0-8137-2f43d7f51041\",\"type\":\"Range1d\"},\"y_scale\":{\"id\":\"8d0e398e-995a-48f6-b748-04a96def5e5a\",\"type\":\"LinearScale\"}},\"id\":\"60310163-99f1-4da7-9cba-a4e237f906c4\",\"subtype\":\"Figure\",\"type\":\"Plot\"},{\"attributes\":{},\"id\":\"8d0e398e-995a-48f6-b748-04a96def5e5a\",\"type\":\"LinearScale\"},{\"attributes\":{\"plot\":null,\"text\":\"Linear pressure scale\"},\"id\":\"ff1936c2-5f04-45db-82aa-0ca00b9c2af4\",\"type\":\"Title\"},{\"attributes\":{\"data_source\":{\"id\":\"79edeb0f-9293-41e8-a530-cf90662be2cb\",\"type\":\"ColumnDataSource\"},\"glyph\":{\"id\":\"08ab4337-9edb-4e36-aec0-c3609e1956f7\",\"type\":\"Line\"},\"hover_glyph\":null,\"muted_glyph\":null,\"nonselection_glyph\":{\"id\":\"d0cfb76d-3f06-47cd-a8de-caf7e8a51efb\",\"type\":\"Line\"},\"selection_glyph\":null,\"view\":{\"id\":\"57e28f86-1924-4101-9da9-9fb7a5f878ff\",\"type\":\"CDSView\"}},\"id\":\"666d1f8b-4e51-4efb-9b52-6d57c561b1de\",\"type\":\"GlyphRenderer\"},{\"attributes\":{\"source\":{\"id\":\"1749ed05-6921-41ca-b0da-a0a38920228f\",\"type\":\"ColumnDataSource\"}},\"id\":\"86f9fc51-0b6a-46ca-8023-04e163ea4646\",\"type\":\"CDSView\"},{\"attributes\":{\"data_source\":{\"id\":\"2c33e826-f3c8-41bb-900e-ed4c06475bf9\",\"type\":\"ColumnDataSource\"},\"glyph\":{\"id\":\"ea8bb4a3-061b-4bf0-822f-0e457b97edf2\",\"type\":\"Circle\"},\"hover_glyph\":null,\"muted_glyph\":null,\"nonselection_glyph\":{\"id\":\"2aa13a05-776a-45f3-b7cd-72de831b93b5\",\"type\":\"Circle\"},\"selection_glyph\":null,\"view\":{\"id\":\"497be2bc-b46d-48a3-838f-df2a28367561\",\"type\":\"CDSView\"}},\"id\":\"218026eb-aec7-445f-bc10-0a1832339635\",\"type\":\"GlyphRenderer\"},{\"attributes\":{\"source\":{\"id\":\"95f55e1e-976c-47e5-a12c-ba2668af78fe\",\"type\":\"ColumnDataSource\"}},\"id\":\"aa922202-2d21-4941-9eca-abcd603e38f8\",\"type\":\"CDSView\"},{\"attributes\":{},\"id\":\"67530290-8e80-4b80-9a36-e4de13016fa6\",\"type\":\"BasicTicker\"},{\"attributes\":{},\"id\":\"72532f72-bbc8-466c-8280-59157f54387c\",\"type\":\"HelpTool\"},{\"attributes\":{\"plot\":{\"id\":\"60310163-99f1-4da7-9cba-a4e237f906c4\",\"subtype\":\"Figure\",\"type\":\"Plot\"},\"ticker\":{\"id\":\"2d7ca45d-827f-4b42-8844-8161b68c42f3\",\"type\":\"BasicTicker\"}},\"id\":\"b72b3b6e-34d2-4a2a-8bfb-085a755e036f\",\"type\":\"Grid\"},{\"attributes\":{},\"id\":\"0dc35af4-55e1-45c2-8699-a6f25f5e8358\",\"type\":\"PanTool\"},{\"attributes\":{\"source\":{\"id\":\"06688674-9026-4412-840c-963efb35812b\",\"type\":\"ColumnDataSource\"}},\"id\":\"f7849985-29bc-4f92-b2f7-f80d03d71c85\",\"type\":\"CDSView\"},{\"attributes\":{\"num_minor_ticks\":10},\"id\":\"73a8a753-8fe7-41f0-a813-3bd72ccbbb7b\",\"type\":\"LogTicker\"}],\"root_ids\":[\"b43e3964-be29-4f46-94bd-55541b3aa745\"]},\"title\":\"Bokeh Application\",\"version\":\"0.12.14\"}};\n",
       "  var render_items = [{\"docid\":\"cb825d5c-5a3a-43a8-b565-fbb6de5ec086\",\"elementid\":\"533360c7-c201-44c6-ad10-eba0df53e2c8\",\"modelid\":\"b43e3964-be29-4f46-94bd-55541b3aa745\"}];\n",
       "  root.Bokeh.embed.embed_items_notebook(docs_json, render_items);\n",
       "\n",
       "  }\n",
       "  if (root.Bokeh !== undefined) {\n",
       "    embed_document(root);\n",
       "  } else {\n",
       "    var attempts = 0;\n",
       "    var timer = setInterval(function(root) {\n",
       "      if (root.Bokeh !== undefined) {\n",
       "        embed_document(root);\n",
       "        clearInterval(timer);\n",
       "      }\n",
       "      attempts++;\n",
       "      if (attempts > 100) {\n",
       "        console.log(\"Bokeh: ERROR: Unable to run BokehJS code because BokehJS library is missing\")\n",
       "        clearInterval(timer);\n",
       "      }\n",
       "    }, 10, root)\n",
       "  }\n",
       "})(window);"
      ],
      "application/vnd.bokehjs_exec.v0+json": ""
     },
     "metadata": {
      "application/vnd.bokehjs_exec.v0+json": {
       "id": "b43e3964-be29-4f46-94bd-55541b3aa745"
      }
     },
     "output_type": "display_data"
    },
    {
     "name": "stdout",
     "output_type": "stream",
     "text": [
      "FIGURE. Cooling rate profiles.\n"
     ]
    },
    {
     "data": {
      "text/html": [
       "<a id=\"Flux_Comparison\"></a>"
      ],
      "text/plain": [
       "<IPython.core.display.HTML object>"
      ]
     },
     "metadata": {},
     "output_type": "display_data"
    },
    {
     "data": {
      "text/markdown": [
       "# Flux Comparison"
      ],
      "text/plain": [
       "<IPython.core.display.Markdown object>"
      ]
     },
     "metadata": {},
     "output_type": "display_data"
    },
    {
     "data": {
      "text/html": [
       "<div>\n",
       "<style>\n",
       "    .dataframe thead tr:only-child th {\n",
       "        text-align: right;\n",
       "    }\n",
       "\n",
       "    .dataframe thead th {\n",
       "        text-align: left;\n",
       "    }\n",
       "\n",
       "    .dataframe tbody tr th {\n",
       "        vertical-align: top;\n",
       "    }\n",
       "</style>\n",
       "<table border=\"1\" class=\"dataframe\">\n",
       "  <thead>\n",
       "    <tr style=\"text-align: right;\">\n",
       "      <th></th>\n",
       "      <th></th>\n",
       "      <th>flug</th>\n",
       "      <th>fldg</th>\n",
       "      <th>fnetg</th>\n",
       "    </tr>\n",
       "    <tr>\n",
       "      <th>pressure</th>\n",
       "      <th>level</th>\n",
       "      <th></th>\n",
       "      <th></th>\n",
       "      <th></th>\n",
       "    </tr>\n",
       "  </thead>\n",
       "  <tbody>\n",
       "    <tr>\n",
       "      <th>0.0000</th>\n",
       "      <th>1</th>\n",
       "      <td>-29.472113</td>\n",
       "      <td>0.000000</td>\n",
       "      <td>-29.472113</td>\n",
       "    </tr>\n",
       "    <tr>\n",
       "      <th>1.0685</th>\n",
       "      <th>24</th>\n",
       "      <td>-29.471614</td>\n",
       "      <td>0.002412</td>\n",
       "      <td>-29.469202</td>\n",
       "    </tr>\n",
       "    <tr>\n",
       "      <th>1013.0000</th>\n",
       "      <th>76</th>\n",
       "      <td>-36.235409</td>\n",
       "      <td>32.494585</td>\n",
       "      <td>-3.740822</td>\n",
       "    </tr>\n",
       "  </tbody>\n",
       "</table>\n",
       "</div>"
      ],
      "text/plain": [
       "                      flug       fldg      fnetg\n",
       "pressure  level                                 \n",
       "0.0000    1     -29.472113   0.000000 -29.472113\n",
       "1.0685    24    -29.471614   0.002412 -29.469202\n",
       "1013.0000 76    -36.235409  32.494585  -3.740822"
      ]
     },
     "metadata": {},
     "output_type": "display_data"
    },
    {
     "name": "stdout",
     "output_type": "stream",
     "text": [
      "Table. Fluxes. WGT igg=10 wgt_flux=1\n"
     ]
    },
    {
     "data": {
      "text/html": [
       "<div>\n",
       "<style>\n",
       "    .dataframe thead tr:only-child th {\n",
       "        text-align: right;\n",
       "    }\n",
       "\n",
       "    .dataframe thead th {\n",
       "        text-align: left;\n",
       "    }\n",
       "\n",
       "    .dataframe tbody tr th {\n",
       "        vertical-align: top;\n",
       "    }\n",
       "</style>\n",
       "<table border=\"1\" class=\"dataframe\">\n",
       "  <thead>\n",
       "    <tr style=\"text-align: right;\">\n",
       "      <th></th>\n",
       "      <th></th>\n",
       "      <th>flug</th>\n",
       "      <th>fldg</th>\n",
       "      <th>fnetg</th>\n",
       "    </tr>\n",
       "    <tr>\n",
       "      <th>pressure</th>\n",
       "      <th>level</th>\n",
       "      <th></th>\n",
       "      <th></th>\n",
       "      <th></th>\n",
       "    </tr>\n",
       "  </thead>\n",
       "  <tbody>\n",
       "    <tr>\n",
       "      <th>0.0000</th>\n",
       "      <th>1</th>\n",
       "      <td>-29.472619</td>\n",
       "      <td>0.000000</td>\n",
       "      <td>-29.472619</td>\n",
       "    </tr>\n",
       "    <tr>\n",
       "      <th>1.0685</th>\n",
       "      <th>24</th>\n",
       "      <td>-29.472354</td>\n",
       "      <td>0.002743</td>\n",
       "      <td>-29.469611</td>\n",
       "    </tr>\n",
       "    <tr>\n",
       "      <th>1013.0000</th>\n",
       "      <th>76</th>\n",
       "      <td>-36.235408</td>\n",
       "      <td>32.486006</td>\n",
       "      <td>-3.749402</td>\n",
       "    </tr>\n",
       "  </tbody>\n",
       "</table>\n",
       "</div>"
      ],
      "text/plain": [
       "                      flug       fldg      fnetg\n",
       "pressure  level                                 \n",
       "0.0000    1     -29.472619   0.000000 -29.472619\n",
       "1.0685    24    -29.472354   0.002743 -29.469611\n",
       "1013.0000 76    -36.235408  32.486006  -3.749402"
      ]
     },
     "metadata": {},
     "output_type": "display_data"
    },
    {
     "name": "stdout",
     "output_type": "stream",
     "text": [
      "Table. Fluxes. CRD\n"
     ]
    },
    {
     "data": {
      "text/html": [
       "<div>\n",
       "<style>\n",
       "    .dataframe thead tr:only-child th {\n",
       "        text-align: right;\n",
       "    }\n",
       "\n",
       "    .dataframe thead th {\n",
       "        text-align: left;\n",
       "    }\n",
       "\n",
       "    .dataframe tbody tr th {\n",
       "        vertical-align: top;\n",
       "    }\n",
       "</style>\n",
       "<table border=\"1\" class=\"dataframe\">\n",
       "  <thead>\n",
       "    <tr style=\"text-align: right;\">\n",
       "      <th></th>\n",
       "      <th></th>\n",
       "      <th>flug</th>\n",
       "      <th>fldg</th>\n",
       "      <th>fnetg</th>\n",
       "    </tr>\n",
       "    <tr>\n",
       "      <th>pressure</th>\n",
       "      <th>level</th>\n",
       "      <th></th>\n",
       "      <th></th>\n",
       "      <th></th>\n",
       "    </tr>\n",
       "  </thead>\n",
       "  <tbody>\n",
       "    <tr>\n",
       "      <th>0.0000</th>\n",
       "      <th>76</th>\n",
       "      <td>-36.235409</td>\n",
       "      <td>32.105602</td>\n",
       "      <td>-4.129806</td>\n",
       "    </tr>\n",
       "    <tr>\n",
       "      <th>0.9151</th>\n",
       "      <th>23</th>\n",
       "      <td>-29.537603</td>\n",
       "      <td>0.001722</td>\n",
       "      <td>-29.535881</td>\n",
       "    </tr>\n",
       "    <tr>\n",
       "      <th>1001.1120</th>\n",
       "      <th>75</th>\n",
       "      <td>-36.235409</td>\n",
       "      <td>32.105602</td>\n",
       "      <td>-4.129806</td>\n",
       "    </tr>\n",
       "  </tbody>\n",
       "</table>\n",
       "</div>"
      ],
      "text/plain": [
       "                      flug       fldg      fnetg\n",
       "pressure  level                                 \n",
       "0.0000    76    -36.235409  32.105602  -4.129806\n",
       "0.9151    23    -29.537603   0.001722 -29.535881\n",
       "1001.1120 75    -36.235409  32.105602  -4.129806"
      ]
     },
     "metadata": {},
     "output_type": "display_data"
    },
    {
     "name": "stdout",
     "output_type": "stream",
     "text": [
      "Table. Fluxes. CLIRAD\n"
     ]
    },
    {
     "data": {
      "text/html": [
       "<div>\n",
       "<style>\n",
       "    .dataframe thead tr:only-child th {\n",
       "        text-align: right;\n",
       "    }\n",
       "\n",
       "    .dataframe thead th {\n",
       "        text-align: left;\n",
       "    }\n",
       "\n",
       "    .dataframe tbody tr th {\n",
       "        vertical-align: top;\n",
       "    }\n",
       "</style>\n",
       "<table border=\"1\" class=\"dataframe\">\n",
       "  <thead>\n",
       "    <tr style=\"text-align: right;\">\n",
       "      <th></th>\n",
       "      <th></th>\n",
       "      <th>flug</th>\n",
       "      <th>fldg</th>\n",
       "      <th>fnetg</th>\n",
       "    </tr>\n",
       "    <tr>\n",
       "      <th>pressure</th>\n",
       "      <th>level</th>\n",
       "      <th></th>\n",
       "      <th></th>\n",
       "      <th></th>\n",
       "    </tr>\n",
       "  </thead>\n",
       "  <tbody>\n",
       "    <tr>\n",
       "      <th>0.0000</th>\n",
       "      <th>1</th>\n",
       "      <td>-5.063210e-04</td>\n",
       "      <td>0.000000</td>\n",
       "      <td>-0.000506</td>\n",
       "    </tr>\n",
       "    <tr>\n",
       "      <th>1.0685</th>\n",
       "      <th>24</th>\n",
       "      <td>-7.401200e-04</td>\n",
       "      <td>0.000332</td>\n",
       "      <td>-0.000409</td>\n",
       "    </tr>\n",
       "    <tr>\n",
       "      <th>1013.0000</th>\n",
       "      <th>76</th>\n",
       "      <td>5.300000e-07</td>\n",
       "      <td>-0.008579</td>\n",
       "      <td>-0.008580</td>\n",
       "    </tr>\n",
       "  </tbody>\n",
       "</table>\n",
       "</div>"
      ],
      "text/plain": [
       "                         flug      fldg     fnetg\n",
       "pressure  level                                  \n",
       "0.0000    1     -5.063210e-04  0.000000 -0.000506\n",
       "1.0685    24    -7.401200e-04  0.000332 -0.000409\n",
       "1013.0000 76     5.300000e-07 -0.008579 -0.008580"
      ]
     },
     "metadata": {},
     "output_type": "display_data"
    },
    {
     "name": "stdout",
     "output_type": "stream",
     "text": [
      "Table. Fluxes. (CRD) - (WGT igg=10 wgt_flux=1)\n"
     ]
    },
    {
     "data": {
      "text/html": [
       "<div>\n",
       "<style>\n",
       "    .dataframe thead tr:only-child th {\n",
       "        text-align: right;\n",
       "    }\n",
       "\n",
       "    .dataframe thead th {\n",
       "        text-align: left;\n",
       "    }\n",
       "\n",
       "    .dataframe tbody tr th {\n",
       "        vertical-align: top;\n",
       "    }\n",
       "</style>\n",
       "<table border=\"1\" class=\"dataframe\">\n",
       "  <thead>\n",
       "    <tr style=\"text-align: right;\">\n",
       "      <th></th>\n",
       "      <th></th>\n",
       "      <th>flug</th>\n",
       "      <th>fldg</th>\n",
       "      <th>fnetg</th>\n",
       "    </tr>\n",
       "    <tr>\n",
       "      <th>pressure</th>\n",
       "      <th>level</th>\n",
       "      <th></th>\n",
       "      <th></th>\n",
       "      <th></th>\n",
       "    </tr>\n",
       "  </thead>\n",
       "  <tbody>\n",
       "    <tr>\n",
       "      <th>0.0000</th>\n",
       "      <th>1</th>\n",
       "      <td>-6.763296e+00</td>\n",
       "      <td>32.105602</td>\n",
       "      <td>25.342306</td>\n",
       "    </tr>\n",
       "    <tr>\n",
       "      <th>1.0685</th>\n",
       "      <th>24</th>\n",
       "      <td>-6.598912e-02</td>\n",
       "      <td>-0.000690</td>\n",
       "      <td>-0.066679</td>\n",
       "    </tr>\n",
       "    <tr>\n",
       "      <th>1013.0000</th>\n",
       "      <th>76</th>\n",
       "      <td>-4.700000e-07</td>\n",
       "      <td>-0.388983</td>\n",
       "      <td>-0.388984</td>\n",
       "    </tr>\n",
       "  </tbody>\n",
       "</table>\n",
       "</div>"
      ],
      "text/plain": [
       "                         flug       fldg      fnetg\n",
       "pressure  level                                    \n",
       "0.0000    1     -6.763296e+00  32.105602  25.342306\n",
       "1.0685    24    -6.598912e-02  -0.000690  -0.066679\n",
       "1013.0000 76    -4.700000e-07  -0.388983  -0.388984"
      ]
     },
     "metadata": {},
     "output_type": "display_data"
    },
    {
     "name": "stdout",
     "output_type": "stream",
     "text": [
      "Table. Fluxes. (CLIRAD) - (WGT igg=10 wgt_flux=1)\n"
     ]
    },
    {
     "data": {
      "text/html": [
       "<a id=\"Best-fit_Parameters\"></a>"
      ],
      "text/plain": [
       "<IPython.core.display.HTML object>"
      ]
     },
     "metadata": {},
     "output_type": "display_data"
    },
    {
     "data": {
      "text/markdown": [
       "# Best-fit Parameters"
      ],
      "text/plain": [
       "<IPython.core.display.Markdown object>"
      ]
     },
     "metadata": {},
     "output_type": "display_data"
    },
    {
     "name": "stdout",
     "output_type": "stream",
     "text": [
      "Best-fit values for each (gas, band)\n",
      "------------------------------------\n",
      "o h2o band3a\n",
      "  atmpro = mls\n",
      "  band = 3a\n",
      "  commitnumber = 5014a19\n",
      "  conc = None\n",
      "  dv = 0.01\n",
      "  klin = 0\n",
      "  molecule = h2o\n",
      "  ng_adju = [0, 0]\n",
      "  ng_refs = [2, 6]\n",
      "  nv = 100\n",
      "  option_compute_btable = 0\n",
      "  option_compute_ktable = 1\n",
      "  option_wgt_flux = 1\n",
      "  option_wgt_k = 1\n",
      "  ref_pts = [(10, 250), (600, 250)]\n",
      "  tsfc = 294\n",
      "  vmax = 620\n",
      "  vmin = 540\n",
      "  w_diffuse = [(1.9, 1.7), (1.4, 1.4, 1.4, 1.55, 1.6, 1.66)]\n",
      "  wgt = [(0.7, 0.7), (0.7, 0.5, 0.5, 0.5, 0.5, 0.5)]\n"
     ]
    }
   ],
   "source": [
    "script()"
   ]
  },
  {
   "cell_type": "code",
   "execution_count": 13,
   "metadata": {
    "collapsed": true
   },
   "outputs": [
    {
     "data": {
      "text/html": [
       "<script>\n",
       "code_show=true; \n",
       "function code_toggle() {\n",
       " if (code_show){\n",
       " $('div.input').hide();\n",
       " } else {\n",
       " $('div.input').show();\n",
       " }\n",
       " code_show = !code_show\n",
       "} \n",
       "$( document ).ready(code_toggle);\n",
       "</script>\n",
       "<form action=\"javascript:code_toggle()\"><input type=\"submit\" value=\"Click here to toggle on/off the raw code.\"></form>"
      ],
      "text/plain": [
       "<IPython.core.display.HTML object>"
      ]
     },
     "execution_count": 13,
     "metadata": {},
     "output_type": "execute_result"
    }
   ],
   "source": [
    "display.HTML('''<script>\n",
    "code_show=true; \n",
    "function code_toggle() {\n",
    " if (code_show){\n",
    " $('div.input').hide();\n",
    " } else {\n",
    " $('div.input').show();\n",
    " }\n",
    " code_show = !code_show\n",
    "} \n",
    "$( document ).ready(code_toggle);\n",
    "</script>\n",
    "<form action=\"javascript:code_toggle()\"><input type=\"submit\" value=\"Click here to toggle on/off the raw code.\"></form>''')"
   ]
  }
 ],
 "metadata": {
  "kernelspec": {
   "display_name": "Python 3",
   "language": "python",
   "name": "python3"
  },
  "language_info": {
   "codemirror_mode": {
    "name": "ipython",
    "version": 3
   },
   "file_extension": ".py",
   "mimetype": "text/x-python",
   "name": "python",
   "nbconvert_exporter": "python",
   "pygments_lexer": "ipython3",
   "version": "3.6.1"
  }
 },
 "nbformat": 4,
 "nbformat_minor": 2
}
