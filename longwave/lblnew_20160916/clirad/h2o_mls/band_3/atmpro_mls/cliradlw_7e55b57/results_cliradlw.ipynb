{
 "cells": [
  {
   "cell_type": "code",
   "execution_count": 1,
   "metadata": {
    "collapsed": true
   },
   "outputs": [],
   "source": [
    "%matplotlib inline\n",
    "import os\n",
    "import re\n",
    "import io\n",
    "import itertools\n",
    "import pprint\n",
    "\n",
    "from bokeh.io import output_notebook, show\n",
    "from bokeh.layouts import gridplot\n",
    "from bokeh.plotting import figure\n",
    "from bokeh.models import Range1d, Legend\n",
    "from bokeh.palettes import all_palettes\n",
    "\n",
    "import matplotlib\n",
    "import matplotlib.pyplot as plt\n",
    "import numpy as np\n",
    "import pandas as pd\n",
    "import xarray as xr\n",
    "\n",
    "import climatools.lblnew.bestfit_params as bestfits\n",
    "from climatools.lblnew import setup_bestfit, setup_overlap\n",
    "import climatools.lblnew.pipeline as pipe_lblnew\n",
    "import climatools.cliradlw.setup as setup_cliradlw\n",
    "import climatools.cliradlw.pipeline as pipe_cliradlw\n",
    "\n",
    "import climatools.html.html as climahtml\n",
    "from climatools.lblnew.dataio import *\n",
    "from climatools.plot.plot import *\n",
    "\n",
    "\n",
    "import IPython.display as display"
   ]
  },
  {
   "cell_type": "code",
   "execution_count": 2,
   "metadata": {
    "collapsed": true
   },
   "outputs": [],
   "source": [
    "%run param.py"
   ]
  },
  {
   "cell_type": "code",
   "execution_count": 3,
   "metadata": {
    "collapsed": true
   },
   "outputs": [
    {
     "name": "stdout",
     "output_type": "stream",
     "text": [
      "The history saving thread hit an unexpected error (OperationalError('database is locked',)).History will not be written to the database.\n"
     ]
    }
   ],
   "source": [
    "def load_output_file(path_csv):\n",
    "    '''\n",
    "    Load lblnew output .csv file to xarray.Dataset\n",
    "    \n",
    "    Parameters\n",
    "    ----------\n",
    "    path_csv: str\n",
    "              Path to the .csv file to be loaded.\n",
    "    ds: xarray.Dataset\n",
    "        Data in the input file in the form of an xarray.Dataset.\n",
    "    '''\n",
    "    toindex = ['band', 'pressure', 'igg', 'g']    \n",
    "    df = pd.read_csv(path_csv, sep=r'\\s+')\n",
    "    df = df.set_index([i for i in toindex if i in df.columns])\n",
    "    df = df.rename(columns={'sfu': 'flug',\n",
    "                            'sfd': 'fldg',\n",
    "                            'fnet': 'fnetg',\n",
    "                            'coolr': 'coolrg'})\n",
    "    ds = xr.Dataset.from_dataframe(df)\n",
    "\n",
    "    for l in ('level', 'layer'):\n",
    "        if l in ds.data_vars:\n",
    "            if len(ds[l].dims) > 1:\n",
    "                surface = {d: 0 for d in ds.dims if d != 'pressure'}\n",
    "                coord_level = ds[l][surface]\n",
    "                ds.coords[l] = ('pressure', coord_level)\n",
    "            else:\n",
    "                ds.coords[l] = ('pressure', ds[l])\n",
    "    \n",
    "    return ds"
   ]
  },
  {
   "cell_type": "code",
   "execution_count": 4,
   "metadata": {
    "collapsed": true
   },
   "outputs": [],
   "source": [
    "def lblnew_setup(param=None):\n",
    "    if 'ng_refs' in param:\n",
    "        return {'setup': setup_bestfit,\n",
    "                'fname_flux_crd': 'output_flux.dat',\n",
    "                'fname_cool_crd': 'output_coolr.dat',\n",
    "                'fname_flux_wgt': 'output_wfluxg.dat',\n",
    "                'fname_cool_wgt': 'output_wcoolrg.dat'}\n",
    "    else:\n",
    "        return {'setup': setup_overlap,\n",
    "                'fname_flux_crd': 'output_flux.dat',\n",
    "                'fname_cool_crd': 'output_coolr.dat',\n",
    "                'fname_flux_wgt': 'output_wflux.dat',\n",
    "                'fname_cool_wgt': 'output_wcoolr.dat'}\n",
    "\n",
    "    \n",
    "def load_lblnew_data(param):\n",
    "    \n",
    "    fname_dsname = [('fname_flux_crd', 'ds_flux_crd'),\n",
    "                    ('fname_cool_crd', 'ds_cool_crd'),\n",
    "                    ('fname_flux_wgt', 'ds_flux_wgt'),\n",
    "                    ('fname_cool_wgt', 'ds_cool_wgt')]\n",
    "    \n",
    "    d = lblnew_setup(param)\n",
    "    dir_fortran = pipe_lblnew.get_dir_case(param, setup=d['setup'])\n",
    "    \n",
    "    data_dict = {}\n",
    "    for fname, dsname in fname_dsname:\n",
    "        fpath = os.path.join(dir_fortran, d[fname])\n",
    "        data_dict[dsname] = load_output_file(fpath)\n",
    "    return data_dict\n",
    "    \n",
    "\n",
    "    \n",
    "    "
   ]
  },
  {
   "cell_type": "code",
   "execution_count": 5,
   "metadata": {
    "collapsed": true
   },
   "outputs": [],
   "source": [
    "d = load_lblnew_data(PARAM_LBLNEW)\n",
    "\n",
    "DS_FLUX_CRD = d['ds_flux_crd']\n",
    "DS_COOL_CRD = d['ds_cool_crd']\n",
    "DS_FLUX_WGT = d['ds_flux_wgt']\n",
    "DS_COOL_WGT = d['ds_cool_wgt']"
   ]
  },
  {
   "cell_type": "code",
   "execution_count": 6,
   "metadata": {
    "collapsed": true
   },
   "outputs": [],
   "source": [
    "DIR_FORTRAN = pipe_cliradlw.get_fortran_dir(PARAM, \n",
    "                                            setup=setup_cliradlw)\n",
    "\n",
    "PATH_FLUX = os.path.join(DIR_FORTRAN, 'output_flux.dat')\n",
    "PATH_COOL = os.path.join(DIR_FORTRAN, 'output_coolr.dat')\n",
    "\n",
    "DS_FLUX = load_output_file(PATH_FLUX)\n",
    "DS_COOL = load_output_file(PATH_COOL)"
   ]
  },
  {
   "cell_type": "code",
   "execution_count": 7,
   "metadata": {
    "collapsed": true
   },
   "outputs": [
    {
     "data": {
      "text/html": [
       "\n",
       "    <div class=\"bk-root\">\n",
       "        <a href=\"https://bokeh.pydata.org\" target=\"_blank\" class=\"bk-logo bk-logo-small bk-logo-notebook\"></a>\n",
       "        <span id=\"edacda41-e14d-446d-bb9c-e875882960d8\">Loading BokehJS ...</span>\n",
       "    </div>"
      ]
     },
     "metadata": {},
     "output_type": "display_data"
    },
    {
     "data": {
      "application/javascript": [
       "\n",
       "(function(root) {\n",
       "  function now() {\n",
       "    return new Date();\n",
       "  }\n",
       "\n",
       "  var force = true;\n",
       "\n",
       "  if (typeof (root._bokeh_onload_callbacks) === \"undefined\" || force === true) {\n",
       "    root._bokeh_onload_callbacks = [];\n",
       "    root._bokeh_is_loading = undefined;\n",
       "  }\n",
       "\n",
       "  var JS_MIME_TYPE = 'application/javascript';\n",
       "  var HTML_MIME_TYPE = 'text/html';\n",
       "  var EXEC_MIME_TYPE = 'application/vnd.bokehjs_exec.v0+json';\n",
       "  var CLASS_NAME = 'output_bokeh rendered_html';\n",
       "\n",
       "  /**\n",
       "   * Render data to the DOM node\n",
       "   */\n",
       "  function render(props, node) {\n",
       "    var script = document.createElement(\"script\");\n",
       "    node.appendChild(script);\n",
       "  }\n",
       "\n",
       "  /**\n",
       "   * Handle when an output is cleared or removed\n",
       "   */\n",
       "  function handleClearOutput(event, handle) {\n",
       "    var cell = handle.cell;\n",
       "\n",
       "    var id = cell.output_area._bokeh_element_id;\n",
       "    var server_id = cell.output_area._bokeh_server_id;\n",
       "    // Clean up Bokeh references\n",
       "    if (id !== undefined) {\n",
       "      Bokeh.index[id].model.document.clear();\n",
       "      delete Bokeh.index[id];\n",
       "    }\n",
       "\n",
       "    if (server_id !== undefined) {\n",
       "      // Clean up Bokeh references\n",
       "      var cmd = \"from bokeh.io.state import curstate; print(curstate().uuid_to_server['\" + server_id + \"'].get_sessions()[0].document.roots[0]._id)\";\n",
       "      cell.notebook.kernel.execute(cmd, {\n",
       "        iopub: {\n",
       "          output: function(msg) {\n",
       "            var element_id = msg.content.text.trim();\n",
       "            Bokeh.index[element_id].model.document.clear();\n",
       "            delete Bokeh.index[element_id];\n",
       "          }\n",
       "        }\n",
       "      });\n",
       "      // Destroy server and session\n",
       "      var cmd = \"import bokeh.io.notebook as ion; ion.destroy_server('\" + server_id + \"')\";\n",
       "      cell.notebook.kernel.execute(cmd);\n",
       "    }\n",
       "  }\n",
       "\n",
       "  /**\n",
       "   * Handle when a new output is added\n",
       "   */\n",
       "  function handleAddOutput(event, handle) {\n",
       "    var output_area = handle.output_area;\n",
       "    var output = handle.output;\n",
       "\n",
       "    // limit handleAddOutput to display_data with EXEC_MIME_TYPE content only\n",
       "    if ((output.output_type != \"display_data\") || (!output.data.hasOwnProperty(EXEC_MIME_TYPE))) {\n",
       "      return\n",
       "    }\n",
       "\n",
       "    var toinsert = output_area.element.find(\".\" + CLASS_NAME.split(' ')[0]);\n",
       "\n",
       "    if (output.metadata[EXEC_MIME_TYPE][\"id\"] !== undefined) {\n",
       "      toinsert[0].firstChild.textContent = output.data[JS_MIME_TYPE];\n",
       "      // store reference to embed id on output_area\n",
       "      output_area._bokeh_element_id = output.metadata[EXEC_MIME_TYPE][\"id\"];\n",
       "    }\n",
       "    if (output.metadata[EXEC_MIME_TYPE][\"server_id\"] !== undefined) {\n",
       "      var bk_div = document.createElement(\"div\");\n",
       "      bk_div.innerHTML = output.data[HTML_MIME_TYPE];\n",
       "      var script_attrs = bk_div.children[0].attributes;\n",
       "      for (var i = 0; i < script_attrs.length; i++) {\n",
       "        toinsert[0].firstChild.setAttribute(script_attrs[i].name, script_attrs[i].value);\n",
       "      }\n",
       "      // store reference to server id on output_area\n",
       "      output_area._bokeh_server_id = output.metadata[EXEC_MIME_TYPE][\"server_id\"];\n",
       "    }\n",
       "  }\n",
       "\n",
       "  function register_renderer(events, OutputArea) {\n",
       "\n",
       "    function append_mime(data, metadata, element) {\n",
       "      // create a DOM node to render to\n",
       "      var toinsert = this.create_output_subarea(\n",
       "        metadata,\n",
       "        CLASS_NAME,\n",
       "        EXEC_MIME_TYPE\n",
       "      );\n",
       "      this.keyboard_manager.register_events(toinsert);\n",
       "      // Render to node\n",
       "      var props = {data: data, metadata: metadata[EXEC_MIME_TYPE]};\n",
       "      render(props, toinsert[0]);\n",
       "      element.append(toinsert);\n",
       "      return toinsert\n",
       "    }\n",
       "\n",
       "    /* Handle when an output is cleared or removed */\n",
       "    events.on('clear_output.CodeCell', handleClearOutput);\n",
       "    events.on('delete.Cell', handleClearOutput);\n",
       "\n",
       "    /* Handle when a new output is added */\n",
       "    events.on('output_added.OutputArea', handleAddOutput);\n",
       "\n",
       "    /**\n",
       "     * Register the mime type and append_mime function with output_area\n",
       "     */\n",
       "    OutputArea.prototype.register_mime_type(EXEC_MIME_TYPE, append_mime, {\n",
       "      /* Is output safe? */\n",
       "      safe: true,\n",
       "      /* Index of renderer in `output_area.display_order` */\n",
       "      index: 0\n",
       "    });\n",
       "  }\n",
       "\n",
       "  // register the mime type if in Jupyter Notebook environment and previously unregistered\n",
       "  if (root.Jupyter !== undefined) {\n",
       "    var events = require('base/js/events');\n",
       "    var OutputArea = require('notebook/js/outputarea').OutputArea;\n",
       "\n",
       "    if (OutputArea.prototype.mime_types().indexOf(EXEC_MIME_TYPE) == -1) {\n",
       "      register_renderer(events, OutputArea);\n",
       "    }\n",
       "  }\n",
       "\n",
       "  \n",
       "  if (typeof (root._bokeh_timeout) === \"undefined\" || force === true) {\n",
       "    root._bokeh_timeout = Date.now() + 5000;\n",
       "    root._bokeh_failed_load = false;\n",
       "  }\n",
       "\n",
       "  var NB_LOAD_WARNING = {'data': {'text/html':\n",
       "     \"<div style='background-color: #fdd'>\\n\"+\n",
       "     \"<p>\\n\"+\n",
       "     \"BokehJS does not appear to have successfully loaded. If loading BokehJS from CDN, this \\n\"+\n",
       "     \"may be due to a slow or bad network connection. Possible fixes:\\n\"+\n",
       "     \"</p>\\n\"+\n",
       "     \"<ul>\\n\"+\n",
       "     \"<li>re-rerun `output_notebook()` to attempt to load from CDN again, or</li>\\n\"+\n",
       "     \"<li>use INLINE resources instead, as so:</li>\\n\"+\n",
       "     \"</ul>\\n\"+\n",
       "     \"<code>\\n\"+\n",
       "     \"from bokeh.resources import INLINE\\n\"+\n",
       "     \"output_notebook(resources=INLINE)\\n\"+\n",
       "     \"</code>\\n\"+\n",
       "     \"</div>\"}};\n",
       "\n",
       "  function display_loaded() {\n",
       "    var el = document.getElementById(\"edacda41-e14d-446d-bb9c-e875882960d8\");\n",
       "    if (el != null) {\n",
       "      el.textContent = \"BokehJS is loading...\";\n",
       "    }\n",
       "    if (root.Bokeh !== undefined) {\n",
       "      if (el != null) {\n",
       "        el.textContent = \"BokehJS \" + root.Bokeh.version + \" successfully loaded.\";\n",
       "      }\n",
       "    } else if (Date.now() < root._bokeh_timeout) {\n",
       "      setTimeout(display_loaded, 100)\n",
       "    }\n",
       "  }\n",
       "\n",
       "\n",
       "  function run_callbacks() {\n",
       "    try {\n",
       "      root._bokeh_onload_callbacks.forEach(function(callback) { callback() });\n",
       "    }\n",
       "    finally {\n",
       "      delete root._bokeh_onload_callbacks\n",
       "    }\n",
       "    console.info(\"Bokeh: all callbacks have finished\");\n",
       "  }\n",
       "\n",
       "  function load_libs(js_urls, callback) {\n",
       "    root._bokeh_onload_callbacks.push(callback);\n",
       "    if (root._bokeh_is_loading > 0) {\n",
       "      console.log(\"Bokeh: BokehJS is being loaded, scheduling callback at\", now());\n",
       "      return null;\n",
       "    }\n",
       "    if (js_urls == null || js_urls.length === 0) {\n",
       "      run_callbacks();\n",
       "      return null;\n",
       "    }\n",
       "    console.log(\"Bokeh: BokehJS not loaded, scheduling load and callback at\", now());\n",
       "    root._bokeh_is_loading = js_urls.length;\n",
       "    for (var i = 0; i < js_urls.length; i++) {\n",
       "      var url = js_urls[i];\n",
       "      var s = document.createElement('script');\n",
       "      s.src = url;\n",
       "      s.async = false;\n",
       "      s.onreadystatechange = s.onload = function() {\n",
       "        root._bokeh_is_loading--;\n",
       "        if (root._bokeh_is_loading === 0) {\n",
       "          console.log(\"Bokeh: all BokehJS libraries loaded\");\n",
       "          run_callbacks()\n",
       "        }\n",
       "      };\n",
       "      s.onerror = function() {\n",
       "        console.warn(\"failed to load library \" + url);\n",
       "      };\n",
       "      console.log(\"Bokeh: injecting script tag for BokehJS library: \", url);\n",
       "      document.getElementsByTagName(\"head\")[0].appendChild(s);\n",
       "    }\n",
       "  };var element = document.getElementById(\"edacda41-e14d-446d-bb9c-e875882960d8\");\n",
       "  if (element == null) {\n",
       "    console.log(\"Bokeh: ERROR: autoload.js configured with elementid 'edacda41-e14d-446d-bb9c-e875882960d8' but no matching script tag was found. \")\n",
       "    return false;\n",
       "  }\n",
       "\n",
       "  var js_urls = [\"https://cdn.pydata.org/bokeh/release/bokeh-0.12.14.min.js\", \"https://cdn.pydata.org/bokeh/release/bokeh-widgets-0.12.14.min.js\", \"https://cdn.pydata.org/bokeh/release/bokeh-tables-0.12.14.min.js\", \"https://cdn.pydata.org/bokeh/release/bokeh-gl-0.12.14.min.js\"];\n",
       "\n",
       "  var inline_js = [\n",
       "    function(Bokeh) {\n",
       "      Bokeh.set_log_level(\"info\");\n",
       "    },\n",
       "    \n",
       "    function(Bokeh) {\n",
       "      \n",
       "    },\n",
       "    function(Bokeh) {\n",
       "      console.log(\"Bokeh: injecting CSS: https://cdn.pydata.org/bokeh/release/bokeh-0.12.14.min.css\");\n",
       "      Bokeh.embed.inject_css(\"https://cdn.pydata.org/bokeh/release/bokeh-0.12.14.min.css\");\n",
       "      console.log(\"Bokeh: injecting CSS: https://cdn.pydata.org/bokeh/release/bokeh-widgets-0.12.14.min.css\");\n",
       "      Bokeh.embed.inject_css(\"https://cdn.pydata.org/bokeh/release/bokeh-widgets-0.12.14.min.css\");\n",
       "      console.log(\"Bokeh: injecting CSS: https://cdn.pydata.org/bokeh/release/bokeh-tables-0.12.14.min.css\");\n",
       "      Bokeh.embed.inject_css(\"https://cdn.pydata.org/bokeh/release/bokeh-tables-0.12.14.min.css\");\n",
       "    }\n",
       "  ];\n",
       "\n",
       "  function run_inline_js() {\n",
       "    \n",
       "    if ((root.Bokeh !== undefined) || (force === true)) {\n",
       "      for (var i = 0; i < inline_js.length; i++) {\n",
       "        inline_js[i].call(root, root.Bokeh);\n",
       "      }if (force === true) {\n",
       "        display_loaded();\n",
       "      }} else if (Date.now() < root._bokeh_timeout) {\n",
       "      setTimeout(run_inline_js, 100);\n",
       "    } else if (!root._bokeh_failed_load) {\n",
       "      console.log(\"Bokeh: BokehJS failed to load within specified timeout.\");\n",
       "      root._bokeh_failed_load = true;\n",
       "    } else if (force !== true) {\n",
       "      var cell = $(document.getElementById(\"edacda41-e14d-446d-bb9c-e875882960d8\")).parents('.cell').data().cell;\n",
       "      cell.output_area.append_execute_result(NB_LOAD_WARNING)\n",
       "    }\n",
       "\n",
       "  }\n",
       "\n",
       "  if (root._bokeh_is_loading === 0) {\n",
       "    console.log(\"Bokeh: BokehJS loaded, going straight to plotting\");\n",
       "    run_inline_js();\n",
       "  } else {\n",
       "    load_libs(js_urls, function() {\n",
       "      console.log(\"Bokeh: BokehJS plotting callback run at\", now());\n",
       "      run_inline_js();\n",
       "    });\n",
       "  }\n",
       "}(window));"
      ],
      "application/vnd.bokehjs_load.v0+json": "\n(function(root) {\n  function now() {\n    return new Date();\n  }\n\n  var force = true;\n\n  if (typeof (root._bokeh_onload_callbacks) === \"undefined\" || force === true) {\n    root._bokeh_onload_callbacks = [];\n    root._bokeh_is_loading = undefined;\n  }\n\n  \n\n  \n  if (typeof (root._bokeh_timeout) === \"undefined\" || force === true) {\n    root._bokeh_timeout = Date.now() + 5000;\n    root._bokeh_failed_load = false;\n  }\n\n  var NB_LOAD_WARNING = {'data': {'text/html':\n     \"<div style='background-color: #fdd'>\\n\"+\n     \"<p>\\n\"+\n     \"BokehJS does not appear to have successfully loaded. If loading BokehJS from CDN, this \\n\"+\n     \"may be due to a slow or bad network connection. Possible fixes:\\n\"+\n     \"</p>\\n\"+\n     \"<ul>\\n\"+\n     \"<li>re-rerun `output_notebook()` to attempt to load from CDN again, or</li>\\n\"+\n     \"<li>use INLINE resources instead, as so:</li>\\n\"+\n     \"</ul>\\n\"+\n     \"<code>\\n\"+\n     \"from bokeh.resources import INLINE\\n\"+\n     \"output_notebook(resources=INLINE)\\n\"+\n     \"</code>\\n\"+\n     \"</div>\"}};\n\n  function display_loaded() {\n    var el = document.getElementById(\"edacda41-e14d-446d-bb9c-e875882960d8\");\n    if (el != null) {\n      el.textContent = \"BokehJS is loading...\";\n    }\n    if (root.Bokeh !== undefined) {\n      if (el != null) {\n        el.textContent = \"BokehJS \" + root.Bokeh.version + \" successfully loaded.\";\n      }\n    } else if (Date.now() < root._bokeh_timeout) {\n      setTimeout(display_loaded, 100)\n    }\n  }\n\n\n  function run_callbacks() {\n    try {\n      root._bokeh_onload_callbacks.forEach(function(callback) { callback() });\n    }\n    finally {\n      delete root._bokeh_onload_callbacks\n    }\n    console.info(\"Bokeh: all callbacks have finished\");\n  }\n\n  function load_libs(js_urls, callback) {\n    root._bokeh_onload_callbacks.push(callback);\n    if (root._bokeh_is_loading > 0) {\n      console.log(\"Bokeh: BokehJS is being loaded, scheduling callback at\", now());\n      return null;\n    }\n    if (js_urls == null || js_urls.length === 0) {\n      run_callbacks();\n      return null;\n    }\n    console.log(\"Bokeh: BokehJS not loaded, scheduling load and callback at\", now());\n    root._bokeh_is_loading = js_urls.length;\n    for (var i = 0; i < js_urls.length; i++) {\n      var url = js_urls[i];\n      var s = document.createElement('script');\n      s.src = url;\n      s.async = false;\n      s.onreadystatechange = s.onload = function() {\n        root._bokeh_is_loading--;\n        if (root._bokeh_is_loading === 0) {\n          console.log(\"Bokeh: all BokehJS libraries loaded\");\n          run_callbacks()\n        }\n      };\n      s.onerror = function() {\n        console.warn(\"failed to load library \" + url);\n      };\n      console.log(\"Bokeh: injecting script tag for BokehJS library: \", url);\n      document.getElementsByTagName(\"head\")[0].appendChild(s);\n    }\n  };var element = document.getElementById(\"edacda41-e14d-446d-bb9c-e875882960d8\");\n  if (element == null) {\n    console.log(\"Bokeh: ERROR: autoload.js configured with elementid 'edacda41-e14d-446d-bb9c-e875882960d8' but no matching script tag was found. \")\n    return false;\n  }\n\n  var js_urls = [\"https://cdn.pydata.org/bokeh/release/bokeh-0.12.14.min.js\", \"https://cdn.pydata.org/bokeh/release/bokeh-widgets-0.12.14.min.js\", \"https://cdn.pydata.org/bokeh/release/bokeh-tables-0.12.14.min.js\", \"https://cdn.pydata.org/bokeh/release/bokeh-gl-0.12.14.min.js\"];\n\n  var inline_js = [\n    function(Bokeh) {\n      Bokeh.set_log_level(\"info\");\n    },\n    \n    function(Bokeh) {\n      \n    },\n    function(Bokeh) {\n      console.log(\"Bokeh: injecting CSS: https://cdn.pydata.org/bokeh/release/bokeh-0.12.14.min.css\");\n      Bokeh.embed.inject_css(\"https://cdn.pydata.org/bokeh/release/bokeh-0.12.14.min.css\");\n      console.log(\"Bokeh: injecting CSS: https://cdn.pydata.org/bokeh/release/bokeh-widgets-0.12.14.min.css\");\n      Bokeh.embed.inject_css(\"https://cdn.pydata.org/bokeh/release/bokeh-widgets-0.12.14.min.css\");\n      console.log(\"Bokeh: injecting CSS: https://cdn.pydata.org/bokeh/release/bokeh-tables-0.12.14.min.css\");\n      Bokeh.embed.inject_css(\"https://cdn.pydata.org/bokeh/release/bokeh-tables-0.12.14.min.css\");\n    }\n  ];\n\n  function run_inline_js() {\n    \n    if ((root.Bokeh !== undefined) || (force === true)) {\n      for (var i = 0; i < inline_js.length; i++) {\n        inline_js[i].call(root, root.Bokeh);\n      }if (force === true) {\n        display_loaded();\n      }} else if (Date.now() < root._bokeh_timeout) {\n      setTimeout(run_inline_js, 100);\n    } else if (!root._bokeh_failed_load) {\n      console.log(\"Bokeh: BokehJS failed to load within specified timeout.\");\n      root._bokeh_failed_load = true;\n    } else if (force !== true) {\n      var cell = $(document.getElementById(\"edacda41-e14d-446d-bb9c-e875882960d8\")).parents('.cell').data().cell;\n      cell.output_area.append_execute_result(NB_LOAD_WARNING)\n    }\n\n  }\n\n  if (root._bokeh_is_loading === 0) {\n    console.log(\"Bokeh: BokehJS loaded, going straight to plotting\");\n    run_inline_js();\n  } else {\n    load_libs(js_urls, function() {\n      console.log(\"Bokeh: BokehJS plotting callback run at\", now());\n      run_inline_js();\n    });\n  }\n}(window));"
     },
     "metadata": {},
     "output_type": "display_data"
    }
   ],
   "source": [
    "output_notebook()"
   ]
  },
  {
   "cell_type": "code",
   "execution_count": 8,
   "metadata": {
    "collapsed": true
   },
   "outputs": [],
   "source": [
    "def fmt_cool(ds_in):\n",
    "    ds = ds_in.copy(deep=True)\n",
    "    if 'igg' in ds.dims:\n",
    "        ds = ds.sel(igg=1)\n",
    "\n",
    "    if 'g' in ds.dims:\n",
    "        ds = ds.sum('g')\n",
    "            \n",
    "    if 'band' in ds.dims:\n",
    "        try:\n",
    "            ds = ds.squeeze('band')\n",
    "        except ValueError:\n",
    "            ds = ds.sum('band')\n",
    "                \n",
    "    return ds['coolrg']\n",
    "\n",
    "\n",
    "def pltdata_cooling_1(ds_cool=None,\n",
    "                      ds_cool_crd=None, ds_cool_wgt=None):\n",
    "    \n",
    "\n",
    "\n",
    "    colors = all_palettes['Set1'][4]\n",
    "    data = [{'label': 'CLIRAD `coolr_bands`',\n",
    "             'srs': fmt_cool(ds_cool),\n",
    "             'line_dash': 'dashed', 'line_width': 5,\n",
    "             'color': colors[0], 'alpha': .6},\n",
    "            {'label': 'CRD',\n",
    "             'srs': fmt_cool(ds_cool_crd),\n",
    "             'line_dash': 'solid', 'line_width': 1.5,\n",
    "             'marker': 'circle', 'marker_size': 5,\n",
    "             'color': colors[2], 'alpha': 1,},\n",
    "            {'label': 'WGT igg=10 wgt_flux=2',\n",
    "             'srs': fmt_cool(ds_cool_wgt),\n",
    "             'line_dash': 'solid', 'line_width': 3,\n",
    "             'marker': 'square', 'marker_size': 5,\n",
    "             'color': colors[3], 'alpha': .6}]\n",
    "    return data\n",
    "\n",
    "\n",
    "def nice_xlims(pltdata=None, prange=None):\n",
    "    \n",
    "    def get_slice(srs):\n",
    "        return srs.sel(pressure=slice(*prange))\n",
    "    \n",
    "    srss = [d['srs'] for d in pltdata]\n",
    "    vmin = min([get_slice(srs).min() for srs in srss])\n",
    "    vmax = max([get_slice(srs).max() for srs in srss])\n",
    "    dv = (vmax - vmin) * .01\n",
    "    return float(vmin - dv), float(vmax + dv)\n",
    "    \n",
    "\n",
    "def plt_cooling_bokeh(pltdata=None):\n",
    "    '''\n",
    "    Plot a list of cooling rate profiles using bokeh.\n",
    "    '''\n",
    "    ymin = 1e-2 \n",
    "    ymax = 1020 \n",
    "        \n",
    "    p1 = figure(title=\"Linear pressure scale\", \n",
    "                plot_width=400)        \n",
    "    xmin, xmax = nice_xlims(pltdata, prange=(50, 1050))\n",
    "    for d in pltdata:\n",
    "        if 'marker' in d:\n",
    "            getattr(p1, d['marker'])(d['srs'].values, \n",
    "                    d['srs'].coords['pressure'].values,\n",
    "                    color=d['color'], alpha=.7)\n",
    "        p1.line(d['srs'].values, \n",
    "                d['srs'].coords['pressure'].values,\n",
    "                color=d['color'], alpha=d['alpha'], \n",
    "                line_width=d['line_width'], line_dash=d['line_dash'])\n",
    "    \n",
    "    p1.y_range = Range1d(ymax, ymin)\n",
    "    p1.yaxis.axis_label = 'pressure [mb]'   \n",
    "    p1.x_range = Range1d(xmin, xmax)\n",
    "    p1.xaxis.axis_label = 'cooling rate [K/day]'\n",
    "            \n",
    "    p2 = figure(title='Log pressure scale', y_axis_type='log',\n",
    "                plot_width=560)\n",
    "    xmin, xmax = nice_xlims(pltdata, prange=(.01, 200))\n",
    "    \n",
    "    rs = []\n",
    "    for d in pltdata:\n",
    "        rd = []\n",
    "        if 'marker' in d:\n",
    "            r_mark = getattr(p2, d['marker'])(d['srs'].values, \n",
    "                        d['srs'].coords['pressure'].values,\n",
    "                        color=d['color'], alpha=.7)\n",
    "            rd.append(r_mark)\n",
    "        r_line = p2.line(d['srs'].values, \n",
    "                    d['srs'].coords['pressure'].values,\n",
    "                    color=d['color'], alpha=d['alpha'], \n",
    "                    line_width=d['line_width'], line_dash=d['line_dash'])\n",
    "        rd.append(r_line)\n",
    "      \n",
    "        rs.append(rd)\n",
    "        \n",
    "    p2.y_range = Range1d(ymax, ymin)  \n",
    "    p2.yaxis.axis_label = 'pressure [mb]'\n",
    "    \n",
    "    p2.x_range = Range1d(xmin, xmax)\n",
    "    p2.xaxis.axis_label = 'cooling rate [K/day]'\n",
    "    \n",
    "    items = [(d['label'], r) for r, d in zip(rs, pltdata)]\n",
    "    legend = Legend(items=items, location=(10, -30))\n",
    "    legend.label_text_font_size = '8pt'\n",
    "    \n",
    "    p2.add_layout(legend, 'right')  \n",
    "    \n",
    "    show(gridplot(p1, p2, ncols=2, plot_height=500))\n",
    "    \n",
    "\n",
    "def script_plt_cooling():\n",
    "    pltdata = pltdata_cooling_1(\n",
    "        ds_cool=DS_COOL,\n",
    "        ds_cool_crd=DS_COOL_CRD,\n",
    "        ds_cool_wgt=DS_COOL_WGT)\n",
    "    plt_cooling_bokeh(pltdata=pltdata)\n",
    "    print('''FIGURE. Cooling rate profiles.''')"
   ]
  },
  {
   "cell_type": "code",
   "execution_count": 9,
   "metadata": {
    "collapsed": true
   },
   "outputs": [],
   "source": [
    "def fmt_flux(ds_in):\n",
    "    ds = ds_in.copy(deep=True)\n",
    "    \n",
    "    for l in ('level', 'layer'):\n",
    "        if l in ds.data_vars:\n",
    "            if len(ds[l].dims) > 1:\n",
    "                surface = {d: 0 for d in ds.dims if d != 'pressure'}\n",
    "                coord_level = ds[l][surface]\n",
    "                ds.coords[l] = ('pressure', coord_level)\n",
    "            else:\n",
    "                ds.coords[l] = ('pressure', ds[l])\n",
    "        \n",
    "    ds = ds.isel(pressure=[0, 23, -1])\n",
    "        \n",
    "    if 'igg' in ds.dims:\n",
    "        ds = ds.sel(igg=[1])\n",
    "        ds = ds.squeeze('igg').drop('igg')\n",
    "    \n",
    "    if 'g' in ds.dims:\n",
    "        ds = ds.sum('g')\n",
    "            \n",
    "    if 'band' in ds.dims:\n",
    "        try:\n",
    "            ds = ds.squeeze('band').drop('band')\n",
    "        except ValueError:\n",
    "            ds = ds.sum('band')\n",
    "                \n",
    "    df = ds.to_dataframe()\n",
    "    df = df.set_index('level', append=True)               \n",
    "    return df\n",
    "\n",
    "\n",
    "def tbdata_flux(ds_flux=None, ds_flux_crd=None, ds_flux_wgt=None):\n",
    "    ilevels = [0, 23, -1]\n",
    "            \n",
    "    benchmark = {'label': 'WGT igg=10 wgt_flux=1',\n",
    "                 'df': fmt_flux(ds_flux_wgt)}\n",
    "    \n",
    "    tbs = [{'label': 'CRD',\n",
    "            'df': fmt_flux(ds_flux_crd)},\n",
    "           {'label': 'CLIRAD',\n",
    "            'df': fmt_flux(ds_flux)}]\n",
    "    \n",
    "    data = {'benchmark': benchmark, 'others': tbs}\n",
    "    return data\n",
    "\n",
    "\n",
    "def tb_flux(tbdata=None):\n",
    "    benchmark = tbdata['benchmark']\n",
    "    others = tbdata['others']\n",
    "    \n",
    "    def show_tb(d=None):\n",
    "        display.display(d['df'])\n",
    "        print('Table.', 'Fluxes.', d['label'])\n",
    "        \n",
    "    def show_tbdiff(d0=None, d=None):\n",
    "        df = d['df']\n",
    "        df.index = d0['df'].index\n",
    "        display.display(df - d0['df'])\n",
    "        print('Table.', 'Fluxes.', \n",
    "              '({}) - ({})'.format(d['label'], d0['label']))\n",
    "        \n",
    "    show_tb(benchmark)\n",
    "    for d in others:\n",
    "        show_tb(d)\n",
    "        \n",
    "    for d in others:\n",
    "        show_tbdiff(d=d, d0=benchmark)\n",
    "        \n",
    "        \n",
    "def script_tb_flux():\n",
    "    data = tbdata_flux(ds_flux=DS_FLUX,\n",
    "                       ds_flux_crd=DS_FLUX_CRD,\n",
    "                       ds_flux_wgt=DS_FLUX_WGT)\n",
    "    tb_flux(tbdata=data)"
   ]
  },
  {
   "cell_type": "code",
   "execution_count": 10,
   "metadata": {
    "collapsed": true
   },
   "outputs": [],
   "source": [
    "def band_map():\n",
    "    '''\n",
    "    Maps spectral bands in lblnew to spectral bands in clirad.\n",
    "    '''\n",
    "    lblnew2clirad = {'1': '1',\n",
    "            '2': '2',\n",
    "            '3a': '3',\n",
    "            '3b': '4',\n",
    "            '3c': '5',\n",
    "            '4': '6', \n",
    "            '5': '7',\n",
    "            '6': '8',\n",
    "            '7': '9', \n",
    "            '8': '10',\n",
    "            '9': '11'}\n",
    "    \n",
    "    clirad2lblnew = {clirad: lblnew \n",
    "                     for lblnew, clirad in lblnew2clirad.items()}\n",
    "    return clirad2lblnew\n",
    "\n",
    "\n",
    "def gasbands():\n",
    "    bmap = band_map()\n",
    "    gases = list(PARAM['molecule'].keys())\n",
    "    \n",
    "    bands = [bmap[str(b)] for b in PARAM['band']]\n",
    "    return list(itertools.product(gases, bands))\n",
    "\n",
    "\n",
    "def print_bestfit_params():\n",
    "    print('Best-fit values for each (gas, band)')\n",
    "    print('------------------------------------')\n",
    "    for gas, band in gasbands():\n",
    "        print('o {} band{}'.format(gas, band))\n",
    "        param = bestfits.kdist_params(molecule=gas, band=band)\n",
    "        for name, value in sorted(param.items()):\n",
    "            print(2 * ' ' + '{} = {}'.format(name, value))\n",
    "\n",
    "        \n",
    "def print_input_param():        \n",
    "    for name, value in PARAM.items():\n",
    "        print('{} = {}'.format(name, value))\n",
    "        \n",
    "        \n",
    "def print_lblnew_param():\n",
    "    for name, value in sorted(PARAM_LBLNEW.items()):\n",
    "        print('{} = {}'.format(name, value))\n"
   ]
  },
  {
   "cell_type": "code",
   "execution_count": 11,
   "metadata": {
    "collapsed": true,
    "scrolled": false
   },
   "outputs": [],
   "source": [
    "def show_html(s):\n",
    "    display.display(display.HTML(s))\n",
    "\n",
    "    \n",
    "def show_markdown(s):\n",
    "    display.display(display.Markdown(s))\n",
    "\n",
    "    \n",
    "def script():\n",
    "    \n",
    "    title = '### CLIRAD-LW'\n",
    "    s_input = 'Input Parameters'\n",
    "    s_lblnew_param = 'LBLNEW case compaired against'\n",
    "    s_bestfits = 'Best-fit Parameters'\n",
    "    s_plt_cooling = 'Cooling Rate Profiles'\n",
    "    s_tb_flux = 'Flux Comparison'\n",
    "    \n",
    "    # title\n",
    "    show_markdown('### CLIRAD-LW')\n",
    "    \n",
    "    # TOC\n",
    "    show_markdown('### Table of Contents')\n",
    "    show_html(climahtml.getHTML_hrefanchor(s_input))\n",
    "    show_html(climahtml.getHTML_hrefanchor(s_lblnew_param))\n",
    "    show_html(climahtml.getHTML_hrefanchor(s_plt_cooling))\n",
    "    show_html(climahtml.getHTML_hrefanchor(s_tb_flux))\n",
    "    show_html(climahtml.getHTML_hrefanchor(s_bestfits))\n",
    "    \n",
    "    # Input parameters\n",
    "    show_html(climahtml.getHTML_idanchor(s_input))\n",
    "    show_markdown(climahtml.getMarkdown_sectitle(s_input))\n",
    "    print_input_param()\n",
    "    \n",
    "    # LBLNEW parameters \n",
    "    show_html(climahtml.getHTML_idanchor(s_lblnew_param))\n",
    "    show_markdown(climahtml.getMarkdown_sectitle(s_lblnew_param))\n",
    "    print_lblnew_param()\n",
    "    \n",
    "    # Cooling rate profiles\n",
    "    show_html(climahtml.getHTML_idanchor(s_plt_cooling))\n",
    "    show_markdown(climahtml.getMarkdown_sectitle(s_plt_cooling))\n",
    "    script_plt_cooling()\n",
    "    \n",
    "    # Flux comparison\n",
    "    show_html(climahtml.getHTML_idanchor(s_tb_flux))\n",
    "    show_markdown(climahtml.getMarkdown_sectitle(s_tb_flux))\n",
    "    script_tb_flux()\n",
    "    \n",
    "    # Best-fit values\n",
    "    show_html(climahtml.getHTML_idanchor(s_bestfits))\n",
    "    show_markdown(climahtml.getMarkdown_sectitle(s_bestfits))\n",
    "    print_bestfit_params()\n",
    "   \n",
    "    "
   ]
  },
  {
   "cell_type": "code",
   "execution_count": 12,
   "metadata": {
    "collapsed": true,
    "scrolled": false
   },
   "outputs": [
    {
     "data": {
      "text/markdown": [
       "### CLIRAD-LW"
      ],
      "text/plain": [
       "<IPython.core.display.Markdown object>"
      ]
     },
     "metadata": {},
     "output_type": "display_data"
    },
    {
     "data": {
      "text/markdown": [
       "### Table of Contents"
      ],
      "text/plain": [
       "<IPython.core.display.Markdown object>"
      ]
     },
     "metadata": {},
     "output_type": "display_data"
    },
    {
     "data": {
      "text/html": [
       "<a href=\"#Input_Parameters\">Input Parameters</a>"
      ],
      "text/plain": [
       "<IPython.core.display.HTML object>"
      ]
     },
     "metadata": {},
     "output_type": "display_data"
    },
    {
     "data": {
      "text/html": [
       "<a href=\"#LBLNEW_case_compaired_against\">LBLNEW case compaired against</a>"
      ],
      "text/plain": [
       "<IPython.core.display.HTML object>"
      ]
     },
     "metadata": {},
     "output_type": "display_data"
    },
    {
     "data": {
      "text/html": [
       "<a href=\"#Cooling_Rate_Profiles\">Cooling Rate Profiles</a>"
      ],
      "text/plain": [
       "<IPython.core.display.HTML object>"
      ]
     },
     "metadata": {},
     "output_type": "display_data"
    },
    {
     "data": {
      "text/html": [
       "<a href=\"#Flux_Comparison\">Flux Comparison</a>"
      ],
      "text/plain": [
       "<IPython.core.display.HTML object>"
      ]
     },
     "metadata": {},
     "output_type": "display_data"
    },
    {
     "data": {
      "text/html": [
       "<a href=\"#Best-fit_Parameters\">Best-fit Parameters</a>"
      ],
      "text/plain": [
       "<IPython.core.display.HTML object>"
      ]
     },
     "metadata": {},
     "output_type": "display_data"
    },
    {
     "data": {
      "text/html": [
       "<a id=\"Input_Parameters\"></a>"
      ],
      "text/plain": [
       "<IPython.core.display.HTML object>"
      ]
     },
     "metadata": {},
     "output_type": "display_data"
    },
    {
     "data": {
      "text/markdown": [
       "# Input Parameters"
      ],
      "text/plain": [
       "<IPython.core.display.Markdown object>"
      ]
     },
     "metadata": {},
     "output_type": "display_data"
    },
    {
     "name": "stdout",
     "output_type": "stream",
     "text": [
      "atmpro = mls\n",
      "band = [3]\n",
      "commitnumber = 7e55b57\n",
      "molecule = {'h2o': 'atmpro'}\n",
      "tsfc = 294\n"
     ]
    },
    {
     "data": {
      "text/html": [
       "<a id=\"LBLNEW_case_compaired_against\"></a>"
      ],
      "text/plain": [
       "<IPython.core.display.HTML object>"
      ]
     },
     "metadata": {},
     "output_type": "display_data"
    },
    {
     "data": {
      "text/markdown": [
       "# LBLNEW case compaired against"
      ],
      "text/plain": [
       "<IPython.core.display.Markdown object>"
      ]
     },
     "metadata": {},
     "output_type": "display_data"
    },
    {
     "name": "stdout",
     "output_type": "stream",
     "text": [
      "atmpro = mls\n",
      "band = 3a\n",
      "commitnumber = 5014a19\n",
      "conc = None\n",
      "dv = 0.01\n",
      "klin = 0\n",
      "molecule = h2o\n",
      "ng_adju = [0, 0]\n",
      "ng_refs = [2, 6]\n",
      "nv = 100\n",
      "option_compute_btable = 0\n",
      "option_compute_ktable = 0\n",
      "option_wgt_flux = 1\n",
      "option_wgt_k = 1\n",
      "ref_pts = [(10, 250), (600, 250)]\n",
      "tsfc = 294\n",
      "vmax = 620\n",
      "vmin = 540\n",
      "w_diffuse = [(1.9, 1.7), (1.4, 1.4, 1.4, 1.55, 1.6, 1.66)]\n",
      "wgt = [(0.7, 0.7), (0.7, 0.5, 0.5, 0.5, 0.5, 0.5)]\n"
     ]
    },
    {
     "data": {
      "text/html": [
       "<a id=\"Cooling_Rate_Profiles\"></a>"
      ],
      "text/plain": [
       "<IPython.core.display.HTML object>"
      ]
     },
     "metadata": {},
     "output_type": "display_data"
    },
    {
     "data": {
      "text/markdown": [
       "# Cooling Rate Profiles"
      ],
      "text/plain": [
       "<IPython.core.display.Markdown object>"
      ]
     },
     "metadata": {},
     "output_type": "display_data"
    },
    {
     "data": {
      "text/html": [
       "\n",
       "<div class=\"bk-root\">\n",
       "    <div class=\"bk-plotdiv\" id=\"fa2a29b5-a974-470c-b23a-bed17ade44a4\"></div>\n",
       "</div>"
      ]
     },
     "metadata": {},
     "output_type": "display_data"
    },
    {
     "data": {
      "application/javascript": [
       "(function(root) {\n",
       "  function embed_document(root) {\n",
       "    \n",
       "  var docs_json = {\"3fcefe2e-e48a-45a6-a76d-2454e9e69ebf\":{\"roots\":{\"references\":[{\"attributes\":{\"source\":{\"id\":\"0d3e7783-bc9b-4402-a600-2d874ba1fcf9\",\"type\":\"ColumnDataSource\"}},\"id\":\"96f60130-7967-47ea-88d5-d3bcc4043dd1\",\"type\":\"CDSView\"},{\"attributes\":{\"line_color\":\"#4daf4a\",\"line_width\":1.5,\"x\":{\"field\":\"x\"},\"y\":{\"field\":\"y\"}},\"id\":\"5c7713c5-d2ab-448f-b865-1686e959d24f\",\"type\":\"Line\"},{\"attributes\":{\"below\":[{\"id\":\"52a78a6c-0c1c-45f8-ae9f-1f849d66b52c\",\"type\":\"LinearAxis\"}],\"left\":[{\"id\":\"67b0e88b-e339-4e0d-9600-89aea9eb433c\",\"type\":\"LinearAxis\"}],\"plot_height\":500,\"plot_width\":400,\"renderers\":[{\"id\":\"52a78a6c-0c1c-45f8-ae9f-1f849d66b52c\",\"type\":\"LinearAxis\"},{\"id\":\"c1e8eb58-0962-422d-ac87-1aa43222c138\",\"type\":\"Grid\"},{\"id\":\"67b0e88b-e339-4e0d-9600-89aea9eb433c\",\"type\":\"LinearAxis\"},{\"id\":\"bc13b4df-3cb0-4a92-a937-2d78b790657e\",\"type\":\"Grid\"},{\"id\":\"ab970c43-d81b-41f3-8d75-605d6aba5556\",\"type\":\"BoxAnnotation\"},{\"id\":\"484252eb-0a1e-46df-9404-8dac9ff9d7be\",\"type\":\"GlyphRenderer\"},{\"id\":\"a4d833cf-ab6a-4f29-97ba-b016976f7bbf\",\"type\":\"GlyphRenderer\"},{\"id\":\"ba5cbe83-7e19-41de-ad83-a18047b01626\",\"type\":\"GlyphRenderer\"},{\"id\":\"5459bc58-e17e-4616-929d-188e93f5e343\",\"type\":\"GlyphRenderer\"},{\"id\":\"526d62e6-2381-4977-a55f-0cce3009ec9d\",\"type\":\"GlyphRenderer\"}],\"title\":{\"id\":\"0c2780c3-fa3a-4941-b44e-349b8d36910f\",\"type\":\"Title\"},\"toolbar\":{\"id\":\"409bc39c-39fd-47e3-a606-116a72ec54b8\",\"type\":\"Toolbar\"},\"toolbar_location\":null,\"x_range\":{\"id\":\"c6275da8-0d0a-4bb1-8b51-7eec209d145b\",\"type\":\"Range1d\"},\"x_scale\":{\"id\":\"a6e85025-c933-4fc7-b2a4-f4496745a4c6\",\"type\":\"LinearScale\"},\"y_range\":{\"id\":\"e44d9ad2-a347-4f57-8892-8502c373050b\",\"type\":\"Range1d\"},\"y_scale\":{\"id\":\"16e1217c-868e-41f6-adb9-67c7a6773ff7\",\"type\":\"LinearScale\"}},\"id\":\"34c7c891-afe8-4dca-a7f2-49bf1bae3441\",\"subtype\":\"Figure\",\"type\":\"Plot\"},{\"attributes\":{\"callback\":null,\"column_names\":[\"x\",\"y\"],\"data\":{\"x\":{\"__ndarray__\":\"aiJooTdsRj+mTNbAP7pHPwcKOOL0jEo//KTv+gifTT+9ICfY8WNQP3Z04xugA1I/+oYt5syuUz/oeOBHuWVVP0qhp2SeKVc/2Wm1I+j6WD9+PGIzRtdaP5sApnm1j1w/KAONRTdiXj82hP+A2UlgP1inEy3njmM/IRksnZppbT/dsHqlv6J3P54R6mtatoE/g2Jexsg2iT/Uh6beB0qRPyZJncesDJc/1YztA7L7nT+VqkuRgRmiP73vIZCo8KE/Sz9DIPyWnT/ssKWwPNqWP9KtUuKuG5E/kNsYDioJiT8nt0k6BR6CPyEBupwC8Hk/+rR4DSkLcj8kWKwHRmpoPyxf0618mmE/mtdUzELMXD9GIbVIJJJYP9qfEb78alU/afpCnwVzVD85UF4Ynt1UP9wx6Kxnr1Q/S+V5rqmXVj+gpvqfnktmP9JmEOvumoM/IVB6zKSJmD/oa4P+DtGmP6fJqj2xTrE/Ga/YPSCqtD+fTeJ+F6u3P/xLBm2aB7s/10ciwxu3vj+I1BAVnobBP0PbfHZYG8Q/c16qLV6Zxj9VDtlFqhnJPx8Gg4rnscs/nvjLLYRYzj+Z8Zcv/4zQP+mOVju8BNI/Q4l2aAtn1D9XWx5Sj8LWPySF+Dr10Ng/0HF/RIx/2j/ghhp9z7zbP7jnZe4YjNw/9oINNu7+3D9Ji6UKDSLdP+rMJ7EVAd0/hsqi3SyY3D+OnQTRCszbP267XgEdfdo/1rO24ROz2D96TuQCLKjWP1SQXzwPlNQ/TJ5cAF240j/9sAISmUzRPxoX9l17mtE/\",\"dtype\":\"float64\",\"shape\":[75]},\"y\":{\"__ndarray__\":\"GhExyth1ND/Sv8nbtpRIP2vylNV0PVE/aTum7souWD/At0SJ8fVgPw3Iuahxymc/MSNhhJWvcD/bTfBN02d3P2zb5nxnaoA/CD5h5MAGhz8NmeH1TyaQP+zrCsc9p5Y/LbKd76fGnz/bLW5ISEmmPww9YvTcQq8/JV2OstnstT8Er5Y7M8G+P0c+r3jqkcU/5h99k6ZBzj88bCIzFzjVP4enV8oyxN0//yH99nXg5D8qOpLLf0jtP5kqGJXUifQ/c9cS8kHP/D+/DpwzojQEQIEmwoanVwxA4lgXt9HgE0BSSZ2AJuIbQAMJih9jjiNA5q4l5INuK0AwTKYKRj0zQNv5fmq8/DpAaCJseHrtQkB/+zpwzoxKQM3MzMzMeFJAZmZmZmZqWEAAAAAAAFxeQM3MzMzMJmJAmpmZmZkfZUBmZmZmZhhoQDMzMzMzEWtAAAAAAAAKbkBmZmZmZoFwQM3MzMzM/XFAMzMzMzN6c0CamZmZmfZ0QAAAAAAAc3ZAZmZmZmbvd0DNzMzMzGt5QDMzMzMz6HpAmpmZmZlkfEAAAAAAAOF9QGZmZmZmXX9AZmZmZuZsgECamZmZGSuBQM3MzMxM6YFAAAAAAICngkAzMzMzs2WDQGZmZmbmI4RAmpmZmRnihEDNzMzMTKCFQAAAAACAXoZAMzMzM7Mch0BmZmZm5tqHQJqZmZkZmYhAzczMzExXiUAAAAAAgBWKQDMzMzOz04pAZmZmZuaRi0CamZmZGVCMQM3MzMxMDo1AAAAAAIDMjUAzMzMzs4qOQGZmZmbmSI9A\",\"dtype\":\"float64\",\"shape\":[75]}}},\"id\":\"a679678f-4b9b-476a-8057-0922214dfaad\",\"type\":\"ColumnDataSource\"},{\"attributes\":{\"line_alpha\":0.1,\"line_color\":\"#1f77b4\",\"line_dash\":[6],\"line_width\":5,\"x\":{\"field\":\"x\"},\"y\":{\"field\":\"y\"}},\"id\":\"86676a51-d7b9-47a2-af19-d2765b4e3ee1\",\"type\":\"Line\"},{\"attributes\":{\"fill_alpha\":{\"value\":0.7},\"fill_color\":{\"value\":\"#4daf4a\"},\"line_alpha\":{\"value\":0.7},\"line_color\":{\"value\":\"#4daf4a\"},\"x\":{\"field\":\"x\"},\"y\":{\"field\":\"y\"}},\"id\":\"c564d583-33f0-4963-9037-b444bee8041e\",\"type\":\"Circle\"},{\"attributes\":{\"fill_alpha\":{\"value\":0.1},\"fill_color\":{\"value\":\"#1f77b4\"},\"line_alpha\":{\"value\":0.1},\"line_color\":{\"value\":\"#1f77b4\"},\"x\":{\"field\":\"x\"},\"y\":{\"field\":\"y\"}},\"id\":\"b58de0ef-4e93-4950-81bf-a6e21ac7f112\",\"type\":\"Circle\"},{\"attributes\":{\"toolbar\":{\"id\":\"ba5dc425-e12a-42ac-ae1c-ab6c525c891c\",\"type\":\"ProxyToolbar\"},\"toolbar_location\":\"above\"},\"id\":\"3c4a8c1c-8811-48dc-a0b6-4abb2d6819ed\",\"type\":\"ToolbarBox\"},{\"attributes\":{\"data_source\":{\"id\":\"a679678f-4b9b-476a-8057-0922214dfaad\",\"type\":\"ColumnDataSource\"},\"glyph\":{\"id\":\"7ec3e4d4-6214-4e72-93ec-cf6133c04e38\",\"type\":\"Square\"},\"hover_glyph\":null,\"muted_glyph\":null,\"nonselection_glyph\":{\"id\":\"f52e018a-f0cf-4cd8-a79d-bace83d658d2\",\"type\":\"Square\"},\"selection_glyph\":null,\"view\":{\"id\":\"52731d4e-e5ab-45fb-b0ca-425ca6537875\",\"type\":\"CDSView\"}},\"id\":\"22f7bc8f-0991-4090-8de5-10e4988fbb7b\",\"type\":\"GlyphRenderer\"},{\"attributes\":{\"callback\":null,\"column_names\":[\"x\",\"y\"],\"data\":{\"x\":{\"__ndarray__\":\"AAAAAAAAAAAAAAAAAAAAAE5SXgAhX7e/eLsF4tqosD8AAAAAAAAAAAAAAAAAAAAAbjRQfiolmD8AAAAAAAAAAAAAAAAAAAAAJ5tjWkp/kT8nLgf+l/JovxeGteEKyXG/Q08ILcRbWT8Wg+0CCh57P+tNCB+oxkk/10Pj4EWsdD+jlSB/x3l9P61mUWM4Wn4/UgNjAz1iiT9pkPT8eM6RP6LP2nxCx5c/NQzv1zzFnj+TroLgPXyiPx3DSqLqmaI/RhUKgA1inz85eDNeS6yYP7z94uf5spI/yv8PcDtGiz/aWU2+LZ2DP84eveAZTXs/4TY3g8/4cT+cPYZ98ftlP2FPZVdtBVw/GQaGTdjOVD9uzVOmY5FQP8sHi+Gmmks/3b15nt/kSj9/rVwCSJpMP+WTId4/F00/0p9o5BSZUD/ftbfbNhNhPzYSY0APYX8/oQ+MPy7KlD+kSzc9sxqkP9Bh0J+8464/QdsRHtLHsj/HA+r94Q+2PzmvIaARWLk/ZdcosYyJvD+TjHt3VErAPwNysqJA/sI/TFLbfuDHxT+DyDvqXI/IP2AmxDtETMs/zf6C1T8lzj9xerTEDIXQP88jkFxIEdI/2y7ZHfeS1D9xnvu88xXXP7tyxd7uWdk/Q5vzvrdK2z8u5VujDsDcP3l0Ah5Bv90/Ygd8G+5l3j+/n/kg9MHeP2jUdCQ01d4/fj5nXlCX3j8UIXU7+8rdP6K7waPPP9w/+SuFvPUM2j8lz7NhZoLXP/i0muBh+9Q/5+FGwqXA0j9Qw5aihRnRPzZJ4ptcQtE/\",\"dtype\":\"float64\",\"shape\":[75]},\"y\":{\"__ndarray__\":\"S/O/Q+51ND/430zAtpRIP2vylNV0PVE/QxsjCssuWD/TR4Z78fVgP+inNsRxymc/OuuBfZWvcD/u3TFA02d3P2d3VoBnaoA/CD5h5MAGhz/1pA8HUCaQP+zrCsc9p5Y/Fb7LAKjGnz/nJ9c/SEmmPwBD+fzcQq8/FOZwv9nstT8Er5Y7M8G+P0c+r3jqkcU/yK72qKZBzj+tM989FzjVPxbgmr8yxN0/cOm5AXbg5D+5ctXAf0jtP5kqGJXUifQ/DsrqDELP/D8MCAhBojQEQDItVnmnVwxAiFXNvdHgE0BSSZ2AJuIbQAMJih9jjiNA5q4l5INuK0CPVN/5RT0zQHzxRXu8/DpAOZ7PgHrtQkAg8wGBzoxKQBSTN8DMeFJA2NmQf2ZqWEAAAAAAAFxeQEQX1LfMJmJAmpmZmZkfZUBmZmZmZhhoQLzoK0gzEWtAAAAAAAAKbkCiC+pbZoFwQAhyUMLM/XFA+I2vPTN6c0AQ5KCEmfZ0QAAAAAAAc3ZA8Btfe2bvd0AIclDCzGt5QPeNrz0z6HpAEOSghJlkfEAAAAAAAOF9QKML6ltmXX9ABTkoYeZsgED7xteeGSuBQAhyUMJM6YFAAAAAAICngkD4ja89s2WDQAU5KGHmI4RA+8bXnhnihEAIclDCTKCFQAAAAACAXoZA+I2vPbMch0AFOShh5tqHQPvG154ZmYhACHJQwkxXiUAAAAAAgBWKQPeNrz2z04pABTkoYeaRi0D7xteeGVCMQAlyUMJMDo1AAAAAAIDMjUD3ja89s4qOQGZmZmbmSI9A\",\"dtype\":\"float64\",\"shape\":[75]}}},\"id\":\"ead19e14-bca2-4724-800e-f18b4d263d8c\",\"type\":\"ColumnDataSource\"},{\"attributes\":{\"data_source\":{\"id\":\"571515c6-5255-4b01-80ba-82999bb034a7\",\"type\":\"ColumnDataSource\"},\"glyph\":{\"id\":\"c564d583-33f0-4963-9037-b444bee8041e\",\"type\":\"Circle\"},\"hover_glyph\":null,\"muted_glyph\":null,\"nonselection_glyph\":{\"id\":\"b58de0ef-4e93-4950-81bf-a6e21ac7f112\",\"type\":\"Circle\"},\"selection_glyph\":null,\"view\":{\"id\":\"c122f7b8-9266-4d00-ada5-5ee437c57cab\",\"type\":\"CDSView\"}},\"id\":\"e3d09138-7b14-46c3-b955-d8f7de946e86\",\"type\":\"GlyphRenderer\"},{\"attributes\":{\"callback\":null,\"column_names\":[\"x\",\"y\"],\"data\":{\"x\":{\"__ndarray__\":\"1gCVyf4c6r70+W+8tO8AP2R7JdYhziA/SBw82p6GLj+tIc2ZV2Q2PxRp8MuzxT0/HkPDTnuVQj9tnoCWbnhGPz1tVpkZc0o/G2SaLhaDTj9sKQbimlZRP1zetBOAI1M/7QjqRiaIVD+Cmg8El3JWP4IKnUfkw1w/Mkt8mgVtaT+80zGwlMF2PxmdeR8q+YE/KxTpfk5Bij+Qsm5RoC6SP3NUa+oHOJg/6+cLKVhGnz9/MM/OkpWiP+OZAl/yu6E/iQjw9zqSmz8rWv00lRWUP8VB6dvn0Iw/oKl+dbrLhD8qKdMPuul+P4MDEneyoHc/Ky8hsen5cT/E9EYvH9dqPzywqoL7/2Q/DCQWm9DQYT8izee6umxeP1B0stNVmlk/kObnRa8/Vz/bS33NML1WP4uBZczs0VU/dCedZs9OVz/YmqfeBc9mP9BllG3zzYM/s7GESJVHmD8GABUurmimP3tCyt1UFbE/vDsecrRctD82MV+JAFq3P1D3KseeHLs/nVVVHpN7vz/p/6iPuC7CP+lQn0c51sQ/5/cFDWA+xz9m6VRDLKzJPw+o7RXMTsw/iNr0b7Aazz8LW/WxaQLRPxd9JnevhdI/jwidQnTp1D/RMlpg8jPXPw4WyplYJtk/VrVJ6qm62j+TFrLjVOXbP2XlNJddqNw/F/Ywi7sH3T/iG0y7fwndP2YAwX9nudw/d27zKXQc3D82AhLJZyTbP2GWTev8vNk/QUJahN7y1z9fkUaiI/vVP4vFLe5YD9Q/mLQ1ZDRZ0j+k6pHlqAzRP7aBO1CnfNE/\",\"dtype\":\"float64\",\"shape\":[75]},\"y\":{\"__ndarray__\":\"GhExyth1ND/Sv8nbtpRIP2vylNV0PVE/aTum7souWD/At0SJ8fVgPw3Iuahxymc/MSNhhJWvcD/bTfBN02d3P2zb5nxnaoA/CD5h5MAGhz8NmeH1TyaQP+zrCsc9p5Y/LbKd76fGnz/bLW5ISEmmPww9YvTcQq8/JV2OstnstT8Er5Y7M8G+P0c+r3jqkcU/5h99k6ZBzj88bCIzFzjVP4enV8oyxN0//yH99nXg5D8qOpLLf0jtP5kqGJXUifQ/c9cS8kHP/D+/DpwzojQEQIEmwoanVwxA4lgXt9HgE0BSSZ2AJuIbQAMJih9jjiNA5q4l5INuK0AwTKYKRj0zQNv5fmq8/DpAaCJseHrtQkB/+zpwzoxKQM3MzMzMeFJAZmZmZmZqWEAAAAAAAFxeQM3MzMzMJmJAmpmZmZkfZUBmZmZmZhhoQDMzMzMzEWtAAAAAAAAKbkBmZmZmZoFwQM3MzMzM/XFAMzMzMzN6c0CamZmZmfZ0QAAAAAAAc3ZAZmZmZmbvd0DNzMzMzGt5QDMzMzMz6HpAmpmZmZlkfEAAAAAAAOF9QGZmZmZmXX9AZmZmZuZsgECamZmZGSuBQM3MzMxM6YFAAAAAAICngkAzMzMzs2WDQGZmZmbmI4RAmpmZmRnihEDNzMzMTKCFQAAAAACAXoZAMzMzM7Mch0BmZmZm5tqHQJqZmZkZmYhAzczMzExXiUAAAAAAgBWKQDMzMzOz04pAZmZmZuaRi0CamZmZGVCMQM3MzMxMDo1AAAAAAIDMjUAzMzMzs4qOQGZmZmbmSI9A\",\"dtype\":\"float64\",\"shape\":[75]}}},\"id\":\"33b36460-f0c7-48d2-a94d-e8bb2979bf24\",\"type\":\"ColumnDataSource\"},{\"attributes\":{},\"id\":\"4fc2d4aa-394a-4ee7-a21f-b0d7ad546aaf\",\"type\":\"WheelZoomTool\"},{\"attributes\":{\"callback\":null,\"column_names\":[\"x\",\"y\"],\"data\":{\"x\":{\"__ndarray__\":\"1gCVyf4c6r70+W+8tO8AP2R7JdYhziA/SBw82p6GLj+tIc2ZV2Q2PxRp8MuzxT0/HkPDTnuVQj9tnoCWbnhGPz1tVpkZc0o/G2SaLhaDTj9sKQbimlZRP1zetBOAI1M/7QjqRiaIVD+Cmg8El3JWP4IKnUfkw1w/Mkt8mgVtaT+80zGwlMF2PxmdeR8q+YE/KxTpfk5Bij+Qsm5RoC6SP3NUa+oHOJg/6+cLKVhGnz9/MM/OkpWiP+OZAl/yu6E/iQjw9zqSmz8rWv00lRWUP8VB6dvn0Iw/oKl+dbrLhD8qKdMPuul+P4MDEneyoHc/Ky8hsen5cT/E9EYvH9dqPzywqoL7/2Q/DCQWm9DQYT8izee6umxeP1B0stNVmlk/kObnRa8/Vz/bS33NML1WP4uBZczs0VU/dCedZs9OVz/YmqfeBc9mP9BllG3zzYM/s7GESJVHmD8GABUurmimP3tCyt1UFbE/vDsecrRctD82MV+JAFq3P1D3KseeHLs/nVVVHpN7vz/p/6iPuC7CP+lQn0c51sQ/5/cFDWA+xz9m6VRDLKzJPw+o7RXMTsw/iNr0b7Aazz8LW/WxaQLRPxd9JnevhdI/jwidQnTp1D/RMlpg8jPXPw4WyplYJtk/VrVJ6qm62j+TFrLjVOXbP2XlNJddqNw/F/Ywi7sH3T/iG0y7fwndP2YAwX9nudw/d27zKXQc3D82AhLJZyTbP2GWTev8vNk/QUJahN7y1z9fkUaiI/vVP4vFLe5YD9Q/mLQ1ZDRZ0j+k6pHlqAzRP7aBO1CnfNE/\",\"dtype\":\"float64\",\"shape\":[75]},\"y\":{\"__ndarray__\":\"GhExyth1ND/Sv8nbtpRIP2vylNV0PVE/aTum7souWD/At0SJ8fVgPw3Iuahxymc/MSNhhJWvcD/bTfBN02d3P2zb5nxnaoA/CD5h5MAGhz8NmeH1TyaQP+zrCsc9p5Y/LbKd76fGnz/bLW5ISEmmPww9YvTcQq8/JV2OstnstT8Er5Y7M8G+P0c+r3jqkcU/5h99k6ZBzj88bCIzFzjVP4enV8oyxN0//yH99nXg5D8qOpLLf0jtP5kqGJXUifQ/c9cS8kHP/D+/DpwzojQEQIEmwoanVwxA4lgXt9HgE0BSSZ2AJuIbQAMJih9jjiNA5q4l5INuK0AwTKYKRj0zQNv5fmq8/DpAaCJseHrtQkB/+zpwzoxKQM3MzMzMeFJAZmZmZmZqWEAAAAAAAFxeQM3MzMzMJmJAmpmZmZkfZUBmZmZmZhhoQDMzMzMzEWtAAAAAAAAKbkBmZmZmZoFwQM3MzMzM/XFAMzMzMzN6c0CamZmZmfZ0QAAAAAAAc3ZAZmZmZmbvd0DNzMzMzGt5QDMzMzMz6HpAmpmZmZlkfEAAAAAAAOF9QGZmZmZmXX9AZmZmZuZsgECamZmZGSuBQM3MzMxM6YFAAAAAAICngkAzMzMzs2WDQGZmZmbmI4RAmpmZmRnihEDNzMzMTKCFQAAAAACAXoZAMzMzM7Mch0BmZmZm5tqHQJqZmZkZmYhAzczMzExXiUAAAAAAgBWKQDMzMzOz04pAZmZmZuaRi0CamZmZGVCMQM3MzMxMDo1AAAAAAIDMjUAzMzMzs4qOQGZmZmbmSI9A\",\"dtype\":\"float64\",\"shape\":[75]}}},\"id\":\"571515c6-5255-4b01-80ba-82999bb034a7\",\"type\":\"ColumnDataSource\"},{\"attributes\":{\"source\":{\"id\":\"571515c6-5255-4b01-80ba-82999bb034a7\",\"type\":\"ColumnDataSource\"}},\"id\":\"c122f7b8-9266-4d00-ada5-5ee437c57cab\",\"type\":\"CDSView\"},{\"attributes\":{\"line_color\":\"#4daf4a\",\"line_width\":1.5,\"x\":{\"field\":\"x\"},\"y\":{\"field\":\"y\"}},\"id\":\"294ac0a7-4985-44e2-ac6d-629c3d0e341c\",\"type\":\"Line\"},{\"attributes\":{\"callback\":null,\"column_names\":[\"x\",\"y\"],\"data\":{\"x\":{\"__ndarray__\":\"aiJooTdsRj+mTNbAP7pHPwcKOOL0jEo//KTv+gifTT+9ICfY8WNQP3Z04xugA1I/+oYt5syuUz/oeOBHuWVVP0qhp2SeKVc/2Wm1I+j6WD9+PGIzRtdaP5sApnm1j1w/KAONRTdiXj82hP+A2UlgP1inEy3njmM/IRksnZppbT/dsHqlv6J3P54R6mtatoE/g2Jexsg2iT/Uh6beB0qRPyZJncesDJc/1YztA7L7nT+VqkuRgRmiP73vIZCo8KE/Sz9DIPyWnT/ssKWwPNqWP9KtUuKuG5E/kNsYDioJiT8nt0k6BR6CPyEBupwC8Hk/+rR4DSkLcj8kWKwHRmpoPyxf0618mmE/mtdUzELMXD9GIbVIJJJYP9qfEb78alU/afpCnwVzVD85UF4Ynt1UP9wx6Kxnr1Q/S+V5rqmXVj+gpvqfnktmP9JmEOvumoM/IVB6zKSJmD/oa4P+DtGmP6fJqj2xTrE/Ga/YPSCqtD+fTeJ+F6u3P/xLBm2aB7s/10ciwxu3vj+I1BAVnobBP0PbfHZYG8Q/c16qLV6Zxj9VDtlFqhnJPx8Gg4rnscs/nvjLLYRYzj+Z8Zcv/4zQP+mOVju8BNI/Q4l2aAtn1D9XWx5Sj8LWPySF+Dr10Ng/0HF/RIx/2j/ghhp9z7zbP7jnZe4YjNw/9oINNu7+3D9Ji6UKDSLdP+rMJ7EVAd0/hsqi3SyY3D+OnQTRCszbP267XgEdfdo/1rO24ROz2D96TuQCLKjWP1SQXzwPlNQ/TJ5cAF240j/9sAISmUzRPxoX9l17mtE/\",\"dtype\":\"float64\",\"shape\":[75]},\"y\":{\"__ndarray__\":\"GhExyth1ND/Sv8nbtpRIP2vylNV0PVE/aTum7souWD/At0SJ8fVgPw3Iuahxymc/MSNhhJWvcD/bTfBN02d3P2zb5nxnaoA/CD5h5MAGhz8NmeH1TyaQP+zrCsc9p5Y/LbKd76fGnz/bLW5ISEmmPww9YvTcQq8/JV2OstnstT8Er5Y7M8G+P0c+r3jqkcU/5h99k6ZBzj88bCIzFzjVP4enV8oyxN0//yH99nXg5D8qOpLLf0jtP5kqGJXUifQ/c9cS8kHP/D+/DpwzojQEQIEmwoanVwxA4lgXt9HgE0BSSZ2AJuIbQAMJih9jjiNA5q4l5INuK0AwTKYKRj0zQNv5fmq8/DpAaCJseHrtQkB/+zpwzoxKQM3MzMzMeFJAZmZmZmZqWEAAAAAAAFxeQM3MzMzMJmJAmpmZmZkfZUBmZmZmZhhoQDMzMzMzEWtAAAAAAAAKbkBmZmZmZoFwQM3MzMzM/XFAMzMzMzN6c0CamZmZmfZ0QAAAAAAAc3ZAZmZmZmbvd0DNzMzMzGt5QDMzMzMz6HpAmpmZmZlkfEAAAAAAAOF9QGZmZmZmXX9AZmZmZuZsgECamZmZGSuBQM3MzMxM6YFAAAAAAICngkAzMzMzs2WDQGZmZmbmI4RAmpmZmRnihEDNzMzMTKCFQAAAAACAXoZAMzMzM7Mch0BmZmZm5tqHQJqZmZkZmYhAzczMzExXiUAAAAAAgBWKQDMzMzOz04pAZmZmZuaRi0CamZmZGVCMQM3MzMxMDo1AAAAAAIDMjUAzMzMzs4qOQGZmZmbmSI9A\",\"dtype\":\"float64\",\"shape\":[75]}}},\"id\":\"8e23e8d5-2de4-4db9-bf55-1ac6963d7979\",\"type\":\"ColumnDataSource\"},{\"attributes\":{\"line_alpha\":0.1,\"line_color\":\"#1f77b4\",\"line_width\":1.5,\"x\":{\"field\":\"x\"},\"y\":{\"field\":\"y\"}},\"id\":\"2d51e031-f709-4a39-b048-a66df56408b1\",\"type\":\"Line\"},{\"attributes\":{\"data_source\":{\"id\":\"33b36460-f0c7-48d2-a94d-e8bb2979bf24\",\"type\":\"ColumnDataSource\"},\"glyph\":{\"id\":\"294ac0a7-4985-44e2-ac6d-629c3d0e341c\",\"type\":\"Line\"},\"hover_glyph\":null,\"muted_glyph\":null,\"nonselection_glyph\":{\"id\":\"2d51e031-f709-4a39-b048-a66df56408b1\",\"type\":\"Line\"},\"selection_glyph\":null,\"view\":{\"id\":\"e5151b23-9ef9-466a-9587-09be7b7ea00a\",\"type\":\"CDSView\"}},\"id\":\"63d94cef-8faf-4b7b-9e57-53e135eba728\",\"type\":\"GlyphRenderer\"},{\"attributes\":{\"line_alpha\":0.1,\"line_color\":\"#1f77b4\",\"line_width\":1.5,\"x\":{\"field\":\"x\"},\"y\":{\"field\":\"y\"}},\"id\":\"3253b595-05f9-430e-9af3-29870a6cf022\",\"type\":\"Line\"},{\"attributes\":{\"source\":{\"id\":\"33b36460-f0c7-48d2-a94d-e8bb2979bf24\",\"type\":\"ColumnDataSource\"}},\"id\":\"e5151b23-9ef9-466a-9587-09be7b7ea00a\",\"type\":\"CDSView\"},{\"attributes\":{\"label\":{\"value\":\"WGT igg=10 wgt_flux=2\"},\"renderers\":[{\"id\":\"22f7bc8f-0991-4090-8de5-10e4988fbb7b\",\"type\":\"GlyphRenderer\"},{\"id\":\"c0088c51-3ea6-42ed-bded-3ec5d5d9fb21\",\"type\":\"GlyphRenderer\"}]},\"id\":\"0ef359a6-3929-47cf-bd95-a4f3b27d1c6d\",\"type\":\"LegendItem\"},{\"attributes\":{\"bottom_units\":\"screen\",\"fill_alpha\":{\"value\":0.5},\"fill_color\":{\"value\":\"lightgrey\"},\"left_units\":\"screen\",\"level\":\"overlay\",\"line_alpha\":{\"value\":1.0},\"line_color\":{\"value\":\"black\"},\"line_dash\":[4,4],\"line_width\":{\"value\":2},\"plot\":null,\"render_mode\":\"css\",\"right_units\":\"screen\",\"top_units\":\"screen\"},\"id\":\"ab970c43-d81b-41f3-8d75-605d6aba5556\",\"type\":\"BoxAnnotation\"},{\"attributes\":{\"fill_alpha\":{\"value\":0.7},\"fill_color\":{\"value\":\"#984ea3\"},\"line_alpha\":{\"value\":0.7},\"line_color\":{\"value\":\"#984ea3\"},\"x\":{\"field\":\"x\"},\"y\":{\"field\":\"y\"}},\"id\":\"7ec3e4d4-6214-4e72-93ec-cf6133c04e38\",\"type\":\"Square\"},{\"attributes\":{\"fill_alpha\":{\"value\":0.1},\"fill_color\":{\"value\":\"#1f77b4\"},\"line_alpha\":{\"value\":0.1},\"line_color\":{\"value\":\"#1f77b4\"},\"x\":{\"field\":\"x\"},\"y\":{\"field\":\"y\"}},\"id\":\"f52e018a-f0cf-4cd8-a79d-bace83d658d2\",\"type\":\"Square\"},{\"attributes\":{\"callback\":null,\"end\":0.036737266597,\"start\":-0.004748846297},\"id\":\"64f07993-ddc5-4bd0-93d0-c3b5a869bb27\",\"type\":\"Range1d\"},{\"attributes\":{\"data_source\":{\"id\":\"8e23e8d5-2de4-4db9-bf55-1ac6963d7979\",\"type\":\"ColumnDataSource\"},\"glyph\":{\"id\":\"50eec15f-a8fd-4dad-b9e6-a04b3f615552\",\"type\":\"Line\"},\"hover_glyph\":null,\"muted_glyph\":null,\"nonselection_glyph\":{\"id\":\"a73380c2-6104-4ed2-8124-b34c119b32e9\",\"type\":\"Line\"},\"selection_glyph\":null,\"view\":{\"id\":\"3ef40253-eff5-4639-b7ff-1df3b16677fd\",\"type\":\"CDSView\"}},\"id\":\"c0088c51-3ea6-42ed-bded-3ec5d5d9fb21\",\"type\":\"GlyphRenderer\"},{\"attributes\":{\"bottom_units\":\"screen\",\"fill_alpha\":{\"value\":0.5},\"fill_color\":{\"value\":\"lightgrey\"},\"left_units\":\"screen\",\"level\":\"overlay\",\"line_alpha\":{\"value\":1.0},\"line_color\":{\"value\":\"black\"},\"line_dash\":[4,4],\"line_width\":{\"value\":2},\"plot\":null,\"render_mode\":\"css\",\"right_units\":\"screen\",\"top_units\":\"screen\"},\"id\":\"e73daa6d-0a54-4ddd-b9ae-624735c3db06\",\"type\":\"BoxAnnotation\"},{\"attributes\":{\"source\":{\"id\":\"a679678f-4b9b-476a-8057-0922214dfaad\",\"type\":\"ColumnDataSource\"}},\"id\":\"52731d4e-e5ab-45fb-b0ca-425ca6537875\",\"type\":\"CDSView\"},{\"attributes\":{\"callback\":null,\"column_names\":[\"x\",\"y\"],\"data\":{\"x\":{\"__ndarray__\":\"AAAAAAAAAAAAAAAAAAAAAE5SXgAhX7e/eLsF4tqosD8AAAAAAAAAAAAAAAAAAAAAbjRQfiolmD8AAAAAAAAAAAAAAAAAAAAAJ5tjWkp/kT8nLgf+l/JovxeGteEKyXG/Q08ILcRbWT8Wg+0CCh57P+tNCB+oxkk/10Pj4EWsdD+jlSB/x3l9P61mUWM4Wn4/UgNjAz1iiT9pkPT8eM6RP6LP2nxCx5c/NQzv1zzFnj+TroLgPXyiPx3DSqLqmaI/RhUKgA1inz85eDNeS6yYP7z94uf5spI/yv8PcDtGiz/aWU2+LZ2DP84eveAZTXs/4TY3g8/4cT+cPYZ98ftlP2FPZVdtBVw/GQaGTdjOVD9uzVOmY5FQP8sHi+Gmmks/3b15nt/kSj9/rVwCSJpMP+WTId4/F00/0p9o5BSZUD/ftbfbNhNhPzYSY0APYX8/oQ+MPy7KlD+kSzc9sxqkP9Bh0J+8464/QdsRHtLHsj/HA+r94Q+2PzmvIaARWLk/ZdcosYyJvD+TjHt3VErAPwNysqJA/sI/TFLbfuDHxT+DyDvqXI/IP2AmxDtETMs/zf6C1T8lzj9xerTEDIXQP88jkFxIEdI/2y7ZHfeS1D9xnvu88xXXP7tyxd7uWdk/Q5vzvrdK2z8u5VujDsDcP3l0Ah5Bv90/Ygd8G+5l3j+/n/kg9MHeP2jUdCQ01d4/fj5nXlCX3j8UIXU7+8rdP6K7waPPP9w/+SuFvPUM2j8lz7NhZoLXP/i0muBh+9Q/5+FGwqXA0j9Qw5aihRnRPzZJ4ptcQtE/\",\"dtype\":\"float64\",\"shape\":[75]},\"y\":{\"__ndarray__\":\"S/O/Q+51ND/430zAtpRIP2vylNV0PVE/QxsjCssuWD/TR4Z78fVgP+inNsRxymc/OuuBfZWvcD/u3TFA02d3P2d3VoBnaoA/CD5h5MAGhz/1pA8HUCaQP+zrCsc9p5Y/Fb7LAKjGnz/nJ9c/SEmmPwBD+fzcQq8/FOZwv9nstT8Er5Y7M8G+P0c+r3jqkcU/yK72qKZBzj+tM989FzjVPxbgmr8yxN0/cOm5AXbg5D+5ctXAf0jtP5kqGJXUifQ/DsrqDELP/D8MCAhBojQEQDItVnmnVwxAiFXNvdHgE0BSSZ2AJuIbQAMJih9jjiNA5q4l5INuK0CPVN/5RT0zQHzxRXu8/DpAOZ7PgHrtQkAg8wGBzoxKQBSTN8DMeFJA2NmQf2ZqWEAAAAAAAFxeQEQX1LfMJmJAmpmZmZkfZUBmZmZmZhhoQLzoK0gzEWtAAAAAAAAKbkCiC+pbZoFwQAhyUMLM/XFA+I2vPTN6c0AQ5KCEmfZ0QAAAAAAAc3ZA8Btfe2bvd0AIclDCzGt5QPeNrz0z6HpAEOSghJlkfEAAAAAAAOF9QKML6ltmXX9ABTkoYeZsgED7xteeGSuBQAhyUMJM6YFAAAAAAICngkD4ja89s2WDQAU5KGHmI4RA+8bXnhnihEAIclDCTKCFQAAAAACAXoZA+I2vPbMch0AFOShh5tqHQPvG154ZmYhACHJQwkxXiUAAAAAAgBWKQPeNrz2z04pABTkoYeaRi0D7xteeGVCMQAlyUMJMDo1AAAAAAIDMjUD3ja89s4qOQGZmZmbmSI9A\",\"dtype\":\"float64\",\"shape\":[75]}}},\"id\":\"30fd57d8-2a97-4c33-8b34-aa03b37f95bb\",\"type\":\"ColumnDataSource\"},{\"attributes\":{\"line_alpha\":0.6,\"line_color\":\"#984ea3\",\"line_width\":3,\"x\":{\"field\":\"x\"},\"y\":{\"field\":\"y\"}},\"id\":\"50eec15f-a8fd-4dad-b9e6-a04b3f615552\",\"type\":\"Line\"},{\"attributes\":{\"line_alpha\":0.6,\"line_color\":\"#e41a1c\",\"line_dash\":[6],\"line_width\":5,\"x\":{\"field\":\"x\"},\"y\":{\"field\":\"y\"}},\"id\":\"d9ffe3bd-df13-4d1a-b65d-d03ae1e16e22\",\"type\":\"Line\"},{\"attributes\":{\"line_alpha\":0.1,\"line_color\":\"#1f77b4\",\"line_width\":3,\"x\":{\"field\":\"x\"},\"y\":{\"field\":\"y\"}},\"id\":\"a73380c2-6104-4ed2-8124-b34c119b32e9\",\"type\":\"Line\"},{\"attributes\":{\"overlay\":{\"id\":\"e73daa6d-0a54-4ddd-b9ae-624735c3db06\",\"type\":\"BoxAnnotation\"}},\"id\":\"bdd7b3ad-92aa-494f-a34b-02433c195bb9\",\"type\":\"BoxZoomTool\"},{\"attributes\":{\"source\":{\"id\":\"8e23e8d5-2de4-4db9-bf55-1ac6963d7979\",\"type\":\"ColumnDataSource\"}},\"id\":\"3ef40253-eff5-4639-b7ff-1df3b16677fd\",\"type\":\"CDSView\"},{\"attributes\":{\"data_source\":{\"id\":\"0d3e7783-bc9b-4402-a600-2d874ba1fcf9\",\"type\":\"ColumnDataSource\"},\"glyph\":{\"id\":\"e0e2c048-b356-482e-a26f-ea208ac78a10\",\"type\":\"Circle\"},\"hover_glyph\":null,\"muted_glyph\":null,\"nonselection_glyph\":{\"id\":\"a29f875d-808f-4bfa-8a86-a8e7850c9e5c\",\"type\":\"Circle\"},\"selection_glyph\":null,\"view\":{\"id\":\"96f60130-7967-47ea-88d5-d3bcc4043dd1\",\"type\":\"CDSView\"}},\"id\":\"a4d833cf-ab6a-4f29-97ba-b016976f7bbf\",\"type\":\"GlyphRenderer\"},{\"attributes\":{\"data_source\":{\"id\":\"30fd57d8-2a97-4c33-8b34-aa03b37f95bb\",\"type\":\"ColumnDataSource\"},\"glyph\":{\"id\":\"d9ffe3bd-df13-4d1a-b65d-d03ae1e16e22\",\"type\":\"Line\"},\"hover_glyph\":null,\"muted_glyph\":null,\"nonselection_glyph\":{\"id\":\"aed6463a-0281-4415-be4c-0aec4d0b8aa2\",\"type\":\"Line\"},\"selection_glyph\":null,\"view\":{\"id\":\"89fc3670-f183-48e3-9ff8-d78bb1f4ebe2\",\"type\":\"CDSView\"}},\"id\":\"4e1755f0-ceae-463f-af24-f271b02987b8\",\"type\":\"GlyphRenderer\"},{\"attributes\":{\"items\":[{\"id\":\"22c8174c-ec12-4674-86b8-8a8faee7db2e\",\"type\":\"LegendItem\"},{\"id\":\"5dd4d9a1-c59f-4884-b2dc-17845d7219c9\",\"type\":\"LegendItem\"},{\"id\":\"0ef359a6-3929-47cf-bd95-a4f3b27d1c6d\",\"type\":\"LegendItem\"}],\"label_text_font_size\":{\"value\":\"8pt\"},\"location\":[10,-30],\"plot\":{\"id\":\"f8c93806-c9d9-4b9c-9787-09506eb602e1\",\"subtype\":\"Figure\",\"type\":\"Plot\"}},\"id\":\"622f4d9b-282e-44d2-8863-134e3d77e001\",\"type\":\"Legend\"},{\"attributes\":{\"children\":[{\"id\":\"3c4a8c1c-8811-48dc-a0b6-4abb2d6819ed\",\"type\":\"ToolbarBox\"},{\"id\":\"12880732-dfc0-43ef-abfd-5d76534aee8b\",\"type\":\"Column\"}]},\"id\":\"3eb6a87d-6f70-4d4e-af88-8b7e138a8494\",\"type\":\"Column\"},{\"attributes\":{},\"id\":\"a6e85025-c933-4fc7-b2a4-f4496745a4c6\",\"type\":\"LinearScale\"},{\"attributes\":{\"source\":{\"id\":\"ead19e14-bca2-4724-800e-f18b4d263d8c\",\"type\":\"ColumnDataSource\"}},\"id\":\"1fa747d0-4f26-4d1d-bc56-3a4a694831e8\",\"type\":\"CDSView\"},{\"attributes\":{\"plot\":null,\"text\":\"Linear pressure scale\"},\"id\":\"0c2780c3-fa3a-4941-b44e-349b8d36910f\",\"type\":\"Title\"},{\"attributes\":{\"label\":{\"value\":\"CLIRAD `coolr_bands`\"},\"renderers\":[{\"id\":\"4e1755f0-ceae-463f-af24-f271b02987b8\",\"type\":\"GlyphRenderer\"}]},\"id\":\"22c8174c-ec12-4674-86b8-8a8faee7db2e\",\"type\":\"LegendItem\"},{\"attributes\":{\"children\":[{\"id\":\"3b7397b4-82a9-42d1-8c5f-3c7394fbe4f2\",\"type\":\"Row\"}]},\"id\":\"12880732-dfc0-43ef-abfd-5d76534aee8b\",\"type\":\"Column\"},{\"attributes\":{},\"id\":\"de74d9d2-a78c-4366-8e39-f60c88526618\",\"type\":\"BasicTicker\"},{\"attributes\":{\"plot\":{\"id\":\"34c7c891-afe8-4dca-a7f2-49bf1bae3441\",\"subtype\":\"Figure\",\"type\":\"Plot\"},\"ticker\":{\"id\":\"de74d9d2-a78c-4366-8e39-f60c88526618\",\"type\":\"BasicTicker\"}},\"id\":\"c1e8eb58-0962-422d-ac87-1aa43222c138\",\"type\":\"Grid\"},{\"attributes\":{},\"id\":\"16e1217c-868e-41f6-adb9-67c7a6773ff7\",\"type\":\"LinearScale\"},{\"attributes\":{\"axis_label\":\"pressure [mb]\",\"formatter\":{\"id\":\"d6dd54ab-b089-4b1b-881c-e20f6bfe27e9\",\"type\":\"BasicTickFormatter\"},\"plot\":{\"id\":\"34c7c891-afe8-4dca-a7f2-49bf1bae3441\",\"subtype\":\"Figure\",\"type\":\"Plot\"},\"ticker\":{\"id\":\"8d3f45ee-1efc-4a95-abef-f52ead9b247c\",\"type\":\"BasicTicker\"}},\"id\":\"67b0e88b-e339-4e0d-9600-89aea9eb433c\",\"type\":\"LinearAxis\"},{\"attributes\":{\"dimension\":1,\"plot\":{\"id\":\"34c7c891-afe8-4dca-a7f2-49bf1bae3441\",\"subtype\":\"Figure\",\"type\":\"Plot\"},\"ticker\":{\"id\":\"8d3f45ee-1efc-4a95-abef-f52ead9b247c\",\"type\":\"BasicTicker\"}},\"id\":\"bc13b4df-3cb0-4a92-a937-2d78b790657e\",\"type\":\"Grid\"},{\"attributes\":{},\"id\":\"d38c39f2-a766-4a26-a6bc-796c74dfa5b1\",\"type\":\"PanTool\"},{\"attributes\":{\"children\":[{\"id\":\"34c7c891-afe8-4dca-a7f2-49bf1bae3441\",\"subtype\":\"Figure\",\"type\":\"Plot\"},{\"id\":\"f8c93806-c9d9-4b9c-9787-09506eb602e1\",\"subtype\":\"Figure\",\"type\":\"Plot\"}]},\"id\":\"3b7397b4-82a9-42d1-8c5f-3c7394fbe4f2\",\"type\":\"Row\"},{\"attributes\":{\"overlay\":{\"id\":\"ab970c43-d81b-41f3-8d75-605d6aba5556\",\"type\":\"BoxAnnotation\"}},\"id\":\"05765e86-52cf-412a-a6db-63f19bebe733\",\"type\":\"BoxZoomTool\"},{\"attributes\":{\"axis_label\":\"cooling rate [K/day]\",\"formatter\":{\"id\":\"dda071d2-8bd3-4b92-81d6-eefe97c4cef0\",\"type\":\"BasicTickFormatter\"},\"plot\":{\"id\":\"34c7c891-afe8-4dca-a7f2-49bf1bae3441\",\"subtype\":\"Figure\",\"type\":\"Plot\"},\"ticker\":{\"id\":\"de74d9d2-a78c-4366-8e39-f60c88526618\",\"type\":\"BasicTicker\"}},\"id\":\"52a78a6c-0c1c-45f8-ae9f-1f849d66b52c\",\"type\":\"LinearAxis\"},{\"attributes\":{},\"id\":\"d6dd54ab-b089-4b1b-881c-e20f6bfe27e9\",\"type\":\"BasicTickFormatter\"},{\"attributes\":{\"callback\":null,\"end\":0.01,\"start\":1020},\"id\":\"e44d9ad2-a347-4f57-8892-8502c373050b\",\"type\":\"Range1d\"},{\"attributes\":{\"ticker\":null},\"id\":\"d071693f-c07c-4cc5-9bae-2137a0ce6ce0\",\"type\":\"LogTickFormatter\"},{\"attributes\":{\"line_alpha\":0.1,\"line_color\":\"#1f77b4\",\"line_dash\":[6],\"line_width\":5,\"x\":{\"field\":\"x\"},\"y\":{\"field\":\"y\"}},\"id\":\"aed6463a-0281-4415-be4c-0aec4d0b8aa2\",\"type\":\"Line\"},{\"attributes\":{\"callback\":null,\"end\":0.01,\"start\":1020},\"id\":\"e21cf615-5e9a-4e46-afa7-a8604eca02ef\",\"type\":\"Range1d\"},{\"attributes\":{},\"id\":\"8d3f45ee-1efc-4a95-abef-f52ead9b247c\",\"type\":\"BasicTicker\"},{\"attributes\":{},\"id\":\"420e9906-bc13-426c-873c-ae5eca2c7367\",\"type\":\"ResetTool\"},{\"attributes\":{},\"id\":\"b373381d-5ba6-48c7-a667-b65d08fcab47\",\"type\":\"HelpTool\"},{\"attributes\":{},\"id\":\"9ca16b55-644c-4275-9aae-a576dfe6679e\",\"type\":\"SaveTool\"},{\"attributes\":{},\"id\":\"cf947bcb-c550-4fbf-9922-ed5448ff2ac7\",\"type\":\"SaveTool\"},{\"attributes\":{\"active_drag\":\"auto\",\"active_inspect\":\"auto\",\"active_scroll\":\"auto\",\"active_tap\":\"auto\",\"tools\":[{\"id\":\"d38c39f2-a766-4a26-a6bc-796c74dfa5b1\",\"type\":\"PanTool\"},{\"id\":\"e1ebd2ed-d27a-44c6-b20e-bfd0abbbdab8\",\"type\":\"WheelZoomTool\"},{\"id\":\"05765e86-52cf-412a-a6db-63f19bebe733\",\"type\":\"BoxZoomTool\"},{\"id\":\"9ca16b55-644c-4275-9aae-a576dfe6679e\",\"type\":\"SaveTool\"},{\"id\":\"c3a8deeb-8651-4767-96ec-490e2de76c3a\",\"type\":\"ResetTool\"},{\"id\":\"b373381d-5ba6-48c7-a667-b65d08fcab47\",\"type\":\"HelpTool\"}]},\"id\":\"409bc39c-39fd-47e3-a606-116a72ec54b8\",\"type\":\"Toolbar\"},{\"attributes\":{},\"id\":\"c962c5d5-a7a3-44b4-9c1f-8bca4c98aeed\",\"type\":\"PanTool\"},{\"attributes\":{\"data_source\":{\"id\":\"af4113a3-bc01-4f91-85dd-c8e5c8a9f69f\",\"type\":\"ColumnDataSource\"},\"glyph\":{\"id\":\"5c7713c5-d2ab-448f-b865-1686e959d24f\",\"type\":\"Line\"},\"hover_glyph\":null,\"muted_glyph\":null,\"nonselection_glyph\":{\"id\":\"3253b595-05f9-430e-9af3-29870a6cf022\",\"type\":\"Line\"},\"selection_glyph\":null,\"view\":{\"id\":\"eb413a74-72d0-433a-932b-ade8466e5787\",\"type\":\"CDSView\"}},\"id\":\"ba5cbe83-7e19-41de-ad83-a18047b01626\",\"type\":\"GlyphRenderer\"},{\"attributes\":{},\"id\":\"e1ebd2ed-d27a-44c6-b20e-bfd0abbbdab8\",\"type\":\"WheelZoomTool\"},{\"attributes\":{\"callback\":null,\"column_names\":[\"x\",\"y\"],\"data\":{\"x\":{\"__ndarray__\":\"1gCVyf4c6r70+W+8tO8AP2R7JdYhziA/SBw82p6GLj+tIc2ZV2Q2PxRp8MuzxT0/HkPDTnuVQj9tnoCWbnhGPz1tVpkZc0o/G2SaLhaDTj9sKQbimlZRP1zetBOAI1M/7QjqRiaIVD+Cmg8El3JWP4IKnUfkw1w/Mkt8mgVtaT+80zGwlMF2PxmdeR8q+YE/KxTpfk5Bij+Qsm5RoC6SP3NUa+oHOJg/6+cLKVhGnz9/MM/OkpWiP+OZAl/yu6E/iQjw9zqSmz8rWv00lRWUP8VB6dvn0Iw/oKl+dbrLhD8qKdMPuul+P4MDEneyoHc/Ky8hsen5cT/E9EYvH9dqPzywqoL7/2Q/DCQWm9DQYT8izee6umxeP1B0stNVmlk/kObnRa8/Vz/bS33NML1WP4uBZczs0VU/dCedZs9OVz/YmqfeBc9mP9BllG3zzYM/s7GESJVHmD8GABUurmimP3tCyt1UFbE/vDsecrRctD82MV+JAFq3P1D3KseeHLs/nVVVHpN7vz/p/6iPuC7CP+lQn0c51sQ/5/cFDWA+xz9m6VRDLKzJPw+o7RXMTsw/iNr0b7Aazz8LW/WxaQLRPxd9JnevhdI/jwidQnTp1D/RMlpg8jPXPw4WyplYJtk/VrVJ6qm62j+TFrLjVOXbP2XlNJddqNw/F/Ywi7sH3T/iG0y7fwndP2YAwX9nudw/d27zKXQc3D82AhLJZyTbP2GWTev8vNk/QUJahN7y1z9fkUaiI/vVP4vFLe5YD9Q/mLQ1ZDRZ0j+k6pHlqAzRP7aBO1CnfNE/\",\"dtype\":\"float64\",\"shape\":[75]},\"y\":{\"__ndarray__\":\"GhExyth1ND/Sv8nbtpRIP2vylNV0PVE/aTum7souWD/At0SJ8fVgPw3Iuahxymc/MSNhhJWvcD/bTfBN02d3P2zb5nxnaoA/CD5h5MAGhz8NmeH1TyaQP+zrCsc9p5Y/LbKd76fGnz/bLW5ISEmmPww9YvTcQq8/JV2OstnstT8Er5Y7M8G+P0c+r3jqkcU/5h99k6ZBzj88bCIzFzjVP4enV8oyxN0//yH99nXg5D8qOpLLf0jtP5kqGJXUifQ/c9cS8kHP/D+/DpwzojQEQIEmwoanVwxA4lgXt9HgE0BSSZ2AJuIbQAMJih9jjiNA5q4l5INuK0AwTKYKRj0zQNv5fmq8/DpAaCJseHrtQkB/+zpwzoxKQM3MzMzMeFJAZmZmZmZqWEAAAAAAAFxeQM3MzMzMJmJAmpmZmZkfZUBmZmZmZhhoQDMzMzMzEWtAAAAAAAAKbkBmZmZmZoFwQM3MzMzM/XFAMzMzMzN6c0CamZmZmfZ0QAAAAAAAc3ZAZmZmZmbvd0DNzMzMzGt5QDMzMzMz6HpAmpmZmZlkfEAAAAAAAOF9QGZmZmZmXX9AZmZmZuZsgECamZmZGSuBQM3MzMxM6YFAAAAAAICngkAzMzMzs2WDQGZmZmbmI4RAmpmZmRnihEDNzMzMTKCFQAAAAACAXoZAMzMzM7Mch0BmZmZm5tqHQJqZmZkZmYhAzczMzExXiUAAAAAAgBWKQDMzMzOz04pAZmZmZuaRi0CamZmZGVCMQM3MzMxMDo1AAAAAAIDMjUAzMzMzs4qOQGZmZmbmSI9A\",\"dtype\":\"float64\",\"shape\":[75]}}},\"id\":\"af4113a3-bc01-4f91-85dd-c8e5c8a9f69f\",\"type\":\"ColumnDataSource\"},{\"attributes\":{},\"id\":\"c3a8deeb-8651-4767-96ec-490e2de76c3a\",\"type\":\"ResetTool\"},{\"attributes\":{\"tools\":[{\"id\":\"d38c39f2-a766-4a26-a6bc-796c74dfa5b1\",\"type\":\"PanTool\"},{\"id\":\"e1ebd2ed-d27a-44c6-b20e-bfd0abbbdab8\",\"type\":\"WheelZoomTool\"},{\"id\":\"05765e86-52cf-412a-a6db-63f19bebe733\",\"type\":\"BoxZoomTool\"},{\"id\":\"9ca16b55-644c-4275-9aae-a576dfe6679e\",\"type\":\"SaveTool\"},{\"id\":\"c3a8deeb-8651-4767-96ec-490e2de76c3a\",\"type\":\"ResetTool\"},{\"id\":\"b373381d-5ba6-48c7-a667-b65d08fcab47\",\"type\":\"HelpTool\"},{\"id\":\"c962c5d5-a7a3-44b4-9c1f-8bca4c98aeed\",\"type\":\"PanTool\"},{\"id\":\"4fc2d4aa-394a-4ee7-a21f-b0d7ad546aaf\",\"type\":\"WheelZoomTool\"},{\"id\":\"bdd7b3ad-92aa-494f-a34b-02433c195bb9\",\"type\":\"BoxZoomTool\"},{\"id\":\"cf947bcb-c550-4fbf-9922-ed5448ff2ac7\",\"type\":\"SaveTool\"},{\"id\":\"420e9906-bc13-426c-873c-ae5eca2c7367\",\"type\":\"ResetTool\"},{\"id\":\"4febf763-4678-41e6-af59-f368936c3f02\",\"type\":\"HelpTool\"}]},\"id\":\"ba5dc425-e12a-42ac-ae1c-ab6c525c891c\",\"type\":\"ProxyToolbar\"},{\"attributes\":{},\"id\":\"dda071d2-8bd3-4b92-81d6-eefe97c4cef0\",\"type\":\"BasicTickFormatter\"},{\"attributes\":{\"line_alpha\":0.1,\"line_color\":\"#1f77b4\",\"line_width\":3,\"x\":{\"field\":\"x\"},\"y\":{\"field\":\"y\"}},\"id\":\"6550e922-bed3-4ce3-ba59-34b974088596\",\"type\":\"Line\"},{\"attributes\":{\"fill_alpha\":{\"value\":0.1},\"fill_color\":{\"value\":\"#1f77b4\"},\"line_alpha\":{\"value\":0.1},\"line_color\":{\"value\":\"#1f77b4\"},\"x\":{\"field\":\"x\"},\"y\":{\"field\":\"y\"}},\"id\":\"5f6123c4-9932-4438-9288-5e05ee749882\",\"type\":\"Square\"},{\"attributes\":{},\"id\":\"27bcad97-2655-42d4-aecc-b6b292c8f4b0\",\"type\":\"LogScale\"},{\"attributes\":{\"data_source\":{\"id\":\"ead19e14-bca2-4724-800e-f18b4d263d8c\",\"type\":\"ColumnDataSource\"},\"glyph\":{\"id\":\"a96a1a37-68c5-439e-b2f0-72d88349deb8\",\"type\":\"Line\"},\"hover_glyph\":null,\"muted_glyph\":null,\"nonselection_glyph\":{\"id\":\"86676a51-d7b9-47a2-af19-d2765b4e3ee1\",\"type\":\"Line\"},\"selection_glyph\":null,\"view\":{\"id\":\"1fa747d0-4f26-4d1d-bc56-3a4a694831e8\",\"type\":\"CDSView\"}},\"id\":\"484252eb-0a1e-46df-9404-8dac9ff9d7be\",\"type\":\"GlyphRenderer\"},{\"attributes\":{\"callback\":null,\"end\":0.48657234179119996,\"start\":-0.0039886809112},\"id\":\"c6275da8-0d0a-4bb1-8b51-7eec209d145b\",\"type\":\"Range1d\"},{\"attributes\":{},\"id\":\"4febf763-4678-41e6-af59-f368936c3f02\",\"type\":\"HelpTool\"},{\"attributes\":{\"label\":{\"value\":\"CRD\"},\"renderers\":[{\"id\":\"e3d09138-7b14-46c3-b955-d8f7de946e86\",\"type\":\"GlyphRenderer\"},{\"id\":\"63d94cef-8faf-4b7b-9e57-53e135eba728\",\"type\":\"GlyphRenderer\"}]},\"id\":\"5dd4d9a1-c59f-4884-b2dc-17845d7219c9\",\"type\":\"LegendItem\"},{\"attributes\":{\"source\":{\"id\":\"7b10802e-79c8-4986-9aac-fc16ff6065a8\",\"type\":\"ColumnDataSource\"}},\"id\":\"d4f80cde-e38e-4486-a9ae-bce8f3e9daa1\",\"type\":\"CDSView\"},{\"attributes\":{\"plot\":null,\"text\":\"Log pressure scale\"},\"id\":\"a347ea44-951c-415e-9109-f647c5269ff9\",\"type\":\"Title\"},{\"attributes\":{\"axis_label\":\"cooling rate [K/day]\",\"formatter\":{\"id\":\"1aabb301-7317-4192-a259-b7d2ee24efda\",\"type\":\"BasicTickFormatter\"},\"plot\":{\"id\":\"f8c93806-c9d9-4b9c-9787-09506eb602e1\",\"subtype\":\"Figure\",\"type\":\"Plot\"},\"ticker\":{\"id\":\"f2d8b300-5474-4001-b859-907391c31439\",\"type\":\"BasicTicker\"}},\"id\":\"d190af7e-b139-4209-bfe8-c28f7118c8f4\",\"type\":\"LinearAxis\"},{\"attributes\":{\"source\":{\"id\":\"30fd57d8-2a97-4c33-8b34-aa03b37f95bb\",\"type\":\"ColumnDataSource\"}},\"id\":\"89fc3670-f183-48e3-9ff8-d78bb1f4ebe2\",\"type\":\"CDSView\"},{\"attributes\":{\"source\":{\"id\":\"608d82fc-4ed6-439a-97a0-04ff4fbf5e4f\",\"type\":\"ColumnDataSource\"}},\"id\":\"36a30d72-d9b4-47e0-9267-bd07ef9e1d86\",\"type\":\"CDSView\"},{\"attributes\":{\"callback\":null,\"column_names\":[\"x\",\"y\"],\"data\":{\"x\":{\"__ndarray__\":\"1gCVyf4c6r70+W+8tO8AP2R7JdYhziA/SBw82p6GLj+tIc2ZV2Q2PxRp8MuzxT0/HkPDTnuVQj9tnoCWbnhGPz1tVpkZc0o/G2SaLhaDTj9sKQbimlZRP1zetBOAI1M/7QjqRiaIVD+Cmg8El3JWP4IKnUfkw1w/Mkt8mgVtaT+80zGwlMF2PxmdeR8q+YE/KxTpfk5Bij+Qsm5RoC6SP3NUa+oHOJg/6+cLKVhGnz9/MM/OkpWiP+OZAl/yu6E/iQjw9zqSmz8rWv00lRWUP8VB6dvn0Iw/oKl+dbrLhD8qKdMPuul+P4MDEneyoHc/Ky8hsen5cT/E9EYvH9dqPzywqoL7/2Q/DCQWm9DQYT8izee6umxeP1B0stNVmlk/kObnRa8/Vz/bS33NML1WP4uBZczs0VU/dCedZs9OVz/YmqfeBc9mP9BllG3zzYM/s7GESJVHmD8GABUurmimP3tCyt1UFbE/vDsecrRctD82MV+JAFq3P1D3KseeHLs/nVVVHpN7vz/p/6iPuC7CP+lQn0c51sQ/5/cFDWA+xz9m6VRDLKzJPw+o7RXMTsw/iNr0b7Aazz8LW/WxaQLRPxd9JnevhdI/jwidQnTp1D/RMlpg8jPXPw4WyplYJtk/VrVJ6qm62j+TFrLjVOXbP2XlNJddqNw/F/Ywi7sH3T/iG0y7fwndP2YAwX9nudw/d27zKXQc3D82AhLJZyTbP2GWTev8vNk/QUJahN7y1z9fkUaiI/vVP4vFLe5YD9Q/mLQ1ZDRZ0j+k6pHlqAzRP7aBO1CnfNE/\",\"dtype\":\"float64\",\"shape\":[75]},\"y\":{\"__ndarray__\":\"GhExyth1ND/Sv8nbtpRIP2vylNV0PVE/aTum7souWD/At0SJ8fVgPw3Iuahxymc/MSNhhJWvcD/bTfBN02d3P2zb5nxnaoA/CD5h5MAGhz8NmeH1TyaQP+zrCsc9p5Y/LbKd76fGnz/bLW5ISEmmPww9YvTcQq8/JV2OstnstT8Er5Y7M8G+P0c+r3jqkcU/5h99k6ZBzj88bCIzFzjVP4enV8oyxN0//yH99nXg5D8qOpLLf0jtP5kqGJXUifQ/c9cS8kHP/D+/DpwzojQEQIEmwoanVwxA4lgXt9HgE0BSSZ2AJuIbQAMJih9jjiNA5q4l5INuK0AwTKYKRj0zQNv5fmq8/DpAaCJseHrtQkB/+zpwzoxKQM3MzMzMeFJAZmZmZmZqWEAAAAAAAFxeQM3MzMzMJmJAmpmZmZkfZUBmZmZmZhhoQDMzMzMzEWtAAAAAAAAKbkBmZmZmZoFwQM3MzMzM/XFAMzMzMzN6c0CamZmZmfZ0QAAAAAAAc3ZAZmZmZmbvd0DNzMzMzGt5QDMzMzMz6HpAmpmZmZlkfEAAAAAAAOF9QGZmZmZmXX9AZmZmZuZsgECamZmZGSuBQM3MzMxM6YFAAAAAAICngkAzMzMzs2WDQGZmZmbmI4RAmpmZmRnihEDNzMzMTKCFQAAAAACAXoZAMzMzM7Mch0BmZmZm5tqHQJqZmZkZmYhAzczMzExXiUAAAAAAgBWKQDMzMzOz04pAZmZmZuaRi0CamZmZGVCMQM3MzMxMDo1AAAAAAIDMjUAzMzMzs4qOQGZmZmbmSI9A\",\"dtype\":\"float64\",\"shape\":[75]}}},\"id\":\"0d3e7783-bc9b-4402-a600-2d874ba1fcf9\",\"type\":\"ColumnDataSource\"},{\"attributes\":{\"line_alpha\":0.6,\"line_color\":\"#984ea3\",\"line_width\":3,\"x\":{\"field\":\"x\"},\"y\":{\"field\":\"y\"}},\"id\":\"5b2c4bf6-1a28-4901-b4fc-74a4fb10c680\",\"type\":\"Line\"},{\"attributes\":{\"data_source\":{\"id\":\"7b10802e-79c8-4986-9aac-fc16ff6065a8\",\"type\":\"ColumnDataSource\"},\"glyph\":{\"id\":\"5b2c4bf6-1a28-4901-b4fc-74a4fb10c680\",\"type\":\"Line\"},\"hover_glyph\":null,\"muted_glyph\":null,\"nonselection_glyph\":{\"id\":\"6550e922-bed3-4ce3-ba59-34b974088596\",\"type\":\"Line\"},\"selection_glyph\":null,\"view\":{\"id\":\"d4f80cde-e38e-4486-a9ae-bce8f3e9daa1\",\"type\":\"CDSView\"}},\"id\":\"526d62e6-2381-4977-a55f-0cce3009ec9d\",\"type\":\"GlyphRenderer\"},{\"attributes\":{\"active_drag\":\"auto\",\"active_inspect\":\"auto\",\"active_scroll\":\"auto\",\"active_tap\":\"auto\",\"tools\":[{\"id\":\"c962c5d5-a7a3-44b4-9c1f-8bca4c98aeed\",\"type\":\"PanTool\"},{\"id\":\"4fc2d4aa-394a-4ee7-a21f-b0d7ad546aaf\",\"type\":\"WheelZoomTool\"},{\"id\":\"bdd7b3ad-92aa-494f-a34b-02433c195bb9\",\"type\":\"BoxZoomTool\"},{\"id\":\"cf947bcb-c550-4fbf-9922-ed5448ff2ac7\",\"type\":\"SaveTool\"},{\"id\":\"420e9906-bc13-426c-873c-ae5eca2c7367\",\"type\":\"ResetTool\"},{\"id\":\"4febf763-4678-41e6-af59-f368936c3f02\",\"type\":\"HelpTool\"}]},\"id\":\"9f0a0b15-2cca-4b82-86eb-0fcb416f530c\",\"type\":\"Toolbar\"},{\"attributes\":{\"below\":[{\"id\":\"d190af7e-b139-4209-bfe8-c28f7118c8f4\",\"type\":\"LinearAxis\"}],\"left\":[{\"id\":\"9b5bb3dd-2595-4f7d-b696-95d87886a3e5\",\"type\":\"LogAxis\"}],\"plot_height\":500,\"plot_width\":560,\"renderers\":[{\"id\":\"d190af7e-b139-4209-bfe8-c28f7118c8f4\",\"type\":\"LinearAxis\"},{\"id\":\"4837a08c-41ca-4b90-99a1-c22eb65ff345\",\"type\":\"Grid\"},{\"id\":\"9b5bb3dd-2595-4f7d-b696-95d87886a3e5\",\"type\":\"LogAxis\"},{\"id\":\"01ba1f13-ef39-4f69-8ad7-96a3a792e2d6\",\"type\":\"Grid\"},{\"id\":\"e73daa6d-0a54-4ddd-b9ae-624735c3db06\",\"type\":\"BoxAnnotation\"},{\"id\":\"4e1755f0-ceae-463f-af24-f271b02987b8\",\"type\":\"GlyphRenderer\"},{\"id\":\"e3d09138-7b14-46c3-b955-d8f7de946e86\",\"type\":\"GlyphRenderer\"},{\"id\":\"63d94cef-8faf-4b7b-9e57-53e135eba728\",\"type\":\"GlyphRenderer\"},{\"id\":\"22f7bc8f-0991-4090-8de5-10e4988fbb7b\",\"type\":\"GlyphRenderer\"},{\"id\":\"c0088c51-3ea6-42ed-bded-3ec5d5d9fb21\",\"type\":\"GlyphRenderer\"},{\"id\":\"622f4d9b-282e-44d2-8863-134e3d77e001\",\"type\":\"Legend\"}],\"right\":[{\"id\":\"622f4d9b-282e-44d2-8863-134e3d77e001\",\"type\":\"Legend\"}],\"title\":{\"id\":\"a347ea44-951c-415e-9109-f647c5269ff9\",\"type\":\"Title\"},\"toolbar\":{\"id\":\"9f0a0b15-2cca-4b82-86eb-0fcb416f530c\",\"type\":\"Toolbar\"},\"toolbar_location\":null,\"x_range\":{\"id\":\"64f07993-ddc5-4bd0-93d0-c3b5a869bb27\",\"type\":\"Range1d\"},\"x_scale\":{\"id\":\"75739d91-8259-4a74-93b0-042a1ce086ac\",\"type\":\"LinearScale\"},\"y_range\":{\"id\":\"e21cf615-5e9a-4e46-afa7-a8604eca02ef\",\"type\":\"Range1d\"},\"y_scale\":{\"id\":\"27bcad97-2655-42d4-aecc-b6b292c8f4b0\",\"type\":\"LogScale\"}},\"id\":\"f8c93806-c9d9-4b9c-9787-09506eb602e1\",\"subtype\":\"Figure\",\"type\":\"Plot\"},{\"attributes\":{\"fill_alpha\":{\"value\":0.7},\"fill_color\":{\"value\":\"#4daf4a\"},\"line_alpha\":{\"value\":0.7},\"line_color\":{\"value\":\"#4daf4a\"},\"x\":{\"field\":\"x\"},\"y\":{\"field\":\"y\"}},\"id\":\"e0e2c048-b356-482e-a26f-ea208ac78a10\",\"type\":\"Circle\"},{\"attributes\":{\"source\":{\"id\":\"af4113a3-bc01-4f91-85dd-c8e5c8a9f69f\",\"type\":\"ColumnDataSource\"}},\"id\":\"eb413a74-72d0-433a-932b-ade8466e5787\",\"type\":\"CDSView\"},{\"attributes\":{\"fill_alpha\":{\"value\":0.7},\"fill_color\":{\"value\":\"#984ea3\"},\"line_alpha\":{\"value\":0.7},\"line_color\":{\"value\":\"#984ea3\"},\"x\":{\"field\":\"x\"},\"y\":{\"field\":\"y\"}},\"id\":\"b1349136-8953-442b-bfcc-4f87246f180b\",\"type\":\"Square\"},{\"attributes\":{},\"id\":\"1aabb301-7317-4192-a259-b7d2ee24efda\",\"type\":\"BasicTickFormatter\"},{\"attributes\":{\"line_alpha\":0.6,\"line_color\":\"#e41a1c\",\"line_dash\":[6],\"line_width\":5,\"x\":{\"field\":\"x\"},\"y\":{\"field\":\"y\"}},\"id\":\"a96a1a37-68c5-439e-b2f0-72d88349deb8\",\"type\":\"Line\"},{\"attributes\":{\"data_source\":{\"id\":\"608d82fc-4ed6-439a-97a0-04ff4fbf5e4f\",\"type\":\"ColumnDataSource\"},\"glyph\":{\"id\":\"b1349136-8953-442b-bfcc-4f87246f180b\",\"type\":\"Square\"},\"hover_glyph\":null,\"muted_glyph\":null,\"nonselection_glyph\":{\"id\":\"5f6123c4-9932-4438-9288-5e05ee749882\",\"type\":\"Square\"},\"selection_glyph\":null,\"view\":{\"id\":\"36a30d72-d9b4-47e0-9267-bd07ef9e1d86\",\"type\":\"CDSView\"}},\"id\":\"5459bc58-e17e-4616-929d-188e93f5e343\",\"type\":\"GlyphRenderer\"},{\"attributes\":{\"dimension\":1,\"plot\":{\"id\":\"f8c93806-c9d9-4b9c-9787-09506eb602e1\",\"subtype\":\"Figure\",\"type\":\"Plot\"},\"ticker\":{\"id\":\"2cd4f864-4b75-44d0-a66e-b675d075420e\",\"type\":\"LogTicker\"}},\"id\":\"01ba1f13-ef39-4f69-8ad7-96a3a792e2d6\",\"type\":\"Grid\"},{\"attributes\":{\"callback\":null,\"column_names\":[\"x\",\"y\"],\"data\":{\"x\":{\"__ndarray__\":\"aiJooTdsRj+mTNbAP7pHPwcKOOL0jEo//KTv+gifTT+9ICfY8WNQP3Z04xugA1I/+oYt5syuUz/oeOBHuWVVP0qhp2SeKVc/2Wm1I+j6WD9+PGIzRtdaP5sApnm1j1w/KAONRTdiXj82hP+A2UlgP1inEy3njmM/IRksnZppbT/dsHqlv6J3P54R6mtatoE/g2Jexsg2iT/Uh6beB0qRPyZJncesDJc/1YztA7L7nT+VqkuRgRmiP73vIZCo8KE/Sz9DIPyWnT/ssKWwPNqWP9KtUuKuG5E/kNsYDioJiT8nt0k6BR6CPyEBupwC8Hk/+rR4DSkLcj8kWKwHRmpoPyxf0618mmE/mtdUzELMXD9GIbVIJJJYP9qfEb78alU/afpCnwVzVD85UF4Ynt1UP9wx6Kxnr1Q/S+V5rqmXVj+gpvqfnktmP9JmEOvumoM/IVB6zKSJmD/oa4P+DtGmP6fJqj2xTrE/Ga/YPSCqtD+fTeJ+F6u3P/xLBm2aB7s/10ciwxu3vj+I1BAVnobBP0PbfHZYG8Q/c16qLV6Zxj9VDtlFqhnJPx8Gg4rnscs/nvjLLYRYzj+Z8Zcv/4zQP+mOVju8BNI/Q4l2aAtn1D9XWx5Sj8LWPySF+Dr10Ng/0HF/RIx/2j/ghhp9z7zbP7jnZe4YjNw/9oINNu7+3D9Ji6UKDSLdP+rMJ7EVAd0/hsqi3SyY3D+OnQTRCszbP267XgEdfdo/1rO24ROz2D96TuQCLKjWP1SQXzwPlNQ/TJ5cAF240j/9sAISmUzRPxoX9l17mtE/\",\"dtype\":\"float64\",\"shape\":[75]},\"y\":{\"__ndarray__\":\"GhExyth1ND/Sv8nbtpRIP2vylNV0PVE/aTum7souWD/At0SJ8fVgPw3Iuahxymc/MSNhhJWvcD/bTfBN02d3P2zb5nxnaoA/CD5h5MAGhz8NmeH1TyaQP+zrCsc9p5Y/LbKd76fGnz/bLW5ISEmmPww9YvTcQq8/JV2OstnstT8Er5Y7M8G+P0c+r3jqkcU/5h99k6ZBzj88bCIzFzjVP4enV8oyxN0//yH99nXg5D8qOpLLf0jtP5kqGJXUifQ/c9cS8kHP/D+/DpwzojQEQIEmwoanVwxA4lgXt9HgE0BSSZ2AJuIbQAMJih9jjiNA5q4l5INuK0AwTKYKRj0zQNv5fmq8/DpAaCJseHrtQkB/+zpwzoxKQM3MzMzMeFJAZmZmZmZqWEAAAAAAAFxeQM3MzMzMJmJAmpmZmZkfZUBmZmZmZhhoQDMzMzMzEWtAAAAAAAAKbkBmZmZmZoFwQM3MzMzM/XFAMzMzMzN6c0CamZmZmfZ0QAAAAAAAc3ZAZmZmZmbvd0DNzMzMzGt5QDMzMzMz6HpAmpmZmZlkfEAAAAAAAOF9QGZmZmZmXX9AZmZmZuZsgECamZmZGSuBQM3MzMxM6YFAAAAAAICngkAzMzMzs2WDQGZmZmbmI4RAmpmZmRnihEDNzMzMTKCFQAAAAACAXoZAMzMzM7Mch0BmZmZm5tqHQJqZmZkZmYhAzczMzExXiUAAAAAAgBWKQDMzMzOz04pAZmZmZuaRi0CamZmZGVCMQM3MzMxMDo1AAAAAAIDMjUAzMzMzs4qOQGZmZmbmSI9A\",\"dtype\":\"float64\",\"shape\":[75]}}},\"id\":\"7b10802e-79c8-4986-9aac-fc16ff6065a8\",\"type\":\"ColumnDataSource\"},{\"attributes\":{\"callback\":null,\"column_names\":[\"x\",\"y\"],\"data\":{\"x\":{\"__ndarray__\":\"aiJooTdsRj+mTNbAP7pHPwcKOOL0jEo//KTv+gifTT+9ICfY8WNQP3Z04xugA1I/+oYt5syuUz/oeOBHuWVVP0qhp2SeKVc/2Wm1I+j6WD9+PGIzRtdaP5sApnm1j1w/KAONRTdiXj82hP+A2UlgP1inEy3njmM/IRksnZppbT/dsHqlv6J3P54R6mtatoE/g2Jexsg2iT/Uh6beB0qRPyZJncesDJc/1YztA7L7nT+VqkuRgRmiP73vIZCo8KE/Sz9DIPyWnT/ssKWwPNqWP9KtUuKuG5E/kNsYDioJiT8nt0k6BR6CPyEBupwC8Hk/+rR4DSkLcj8kWKwHRmpoPyxf0618mmE/mtdUzELMXD9GIbVIJJJYP9qfEb78alU/afpCnwVzVD85UF4Ynt1UP9wx6Kxnr1Q/S+V5rqmXVj+gpvqfnktmP9JmEOvumoM/IVB6zKSJmD/oa4P+DtGmP6fJqj2xTrE/Ga/YPSCqtD+fTeJ+F6u3P/xLBm2aB7s/10ciwxu3vj+I1BAVnobBP0PbfHZYG8Q/c16qLV6Zxj9VDtlFqhnJPx8Gg4rnscs/nvjLLYRYzj+Z8Zcv/4zQP+mOVju8BNI/Q4l2aAtn1D9XWx5Sj8LWPySF+Dr10Ng/0HF/RIx/2j/ghhp9z7zbP7jnZe4YjNw/9oINNu7+3D9Ji6UKDSLdP+rMJ7EVAd0/hsqi3SyY3D+OnQTRCszbP267XgEdfdo/1rO24ROz2D96TuQCLKjWP1SQXzwPlNQ/TJ5cAF240j/9sAISmUzRPxoX9l17mtE/\",\"dtype\":\"float64\",\"shape\":[75]},\"y\":{\"__ndarray__\":\"GhExyth1ND/Sv8nbtpRIP2vylNV0PVE/aTum7souWD/At0SJ8fVgPw3Iuahxymc/MSNhhJWvcD/bTfBN02d3P2zb5nxnaoA/CD5h5MAGhz8NmeH1TyaQP+zrCsc9p5Y/LbKd76fGnz/bLW5ISEmmPww9YvTcQq8/JV2OstnstT8Er5Y7M8G+P0c+r3jqkcU/5h99k6ZBzj88bCIzFzjVP4enV8oyxN0//yH99nXg5D8qOpLLf0jtP5kqGJXUifQ/c9cS8kHP/D+/DpwzojQEQIEmwoanVwxA4lgXt9HgE0BSSZ2AJuIbQAMJih9jjiNA5q4l5INuK0AwTKYKRj0zQNv5fmq8/DpAaCJseHrtQkB/+zpwzoxKQM3MzMzMeFJAZmZmZmZqWEAAAAAAAFxeQM3MzMzMJmJAmpmZmZkfZUBmZmZmZhhoQDMzMzMzEWtAAAAAAAAKbkBmZmZmZoFwQM3MzMzM/XFAMzMzMzN6c0CamZmZmfZ0QAAAAAAAc3ZAZmZmZmbvd0DNzMzMzGt5QDMzMzMz6HpAmpmZmZlkfEAAAAAAAOF9QGZmZmZmXX9AZmZmZuZsgECamZmZGSuBQM3MzMxM6YFAAAAAAICngkAzMzMzs2WDQGZmZmbmI4RAmpmZmRnihEDNzMzMTKCFQAAAAACAXoZAMzMzM7Mch0BmZmZm5tqHQJqZmZkZmYhAzczMzExXiUAAAAAAgBWKQDMzMzOz04pAZmZmZuaRi0CamZmZGVCMQM3MzMxMDo1AAAAAAIDMjUAzMzMzs4qOQGZmZmbmSI9A\",\"dtype\":\"float64\",\"shape\":[75]}}},\"id\":\"608d82fc-4ed6-439a-97a0-04ff4fbf5e4f\",\"type\":\"ColumnDataSource\"},{\"attributes\":{},\"id\":\"f2d8b300-5474-4001-b859-907391c31439\",\"type\":\"BasicTicker\"},{\"attributes\":{\"num_minor_ticks\":10},\"id\":\"2cd4f864-4b75-44d0-a66e-b675d075420e\",\"type\":\"LogTicker\"},{\"attributes\":{},\"id\":\"75739d91-8259-4a74-93b0-042a1ce086ac\",\"type\":\"LinearScale\"},{\"attributes\":{\"axis_label\":\"pressure [mb]\",\"formatter\":{\"id\":\"d071693f-c07c-4cc5-9bae-2137a0ce6ce0\",\"type\":\"LogTickFormatter\"},\"plot\":{\"id\":\"f8c93806-c9d9-4b9c-9787-09506eb602e1\",\"subtype\":\"Figure\",\"type\":\"Plot\"},\"ticker\":{\"id\":\"2cd4f864-4b75-44d0-a66e-b675d075420e\",\"type\":\"LogTicker\"}},\"id\":\"9b5bb3dd-2595-4f7d-b696-95d87886a3e5\",\"type\":\"LogAxis\"},{\"attributes\":{\"plot\":{\"id\":\"f8c93806-c9d9-4b9c-9787-09506eb602e1\",\"subtype\":\"Figure\",\"type\":\"Plot\"},\"ticker\":{\"id\":\"f2d8b300-5474-4001-b859-907391c31439\",\"type\":\"BasicTicker\"}},\"id\":\"4837a08c-41ca-4b90-99a1-c22eb65ff345\",\"type\":\"Grid\"},{\"attributes\":{\"fill_alpha\":{\"value\":0.1},\"fill_color\":{\"value\":\"#1f77b4\"},\"line_alpha\":{\"value\":0.1},\"line_color\":{\"value\":\"#1f77b4\"},\"x\":{\"field\":\"x\"},\"y\":{\"field\":\"y\"}},\"id\":\"a29f875d-808f-4bfa-8a86-a8e7850c9e5c\",\"type\":\"Circle\"}],\"root_ids\":[\"3eb6a87d-6f70-4d4e-af88-8b7e138a8494\"]},\"title\":\"Bokeh Application\",\"version\":\"0.12.14\"}};\n",
       "  var render_items = [{\"docid\":\"3fcefe2e-e48a-45a6-a76d-2454e9e69ebf\",\"elementid\":\"fa2a29b5-a974-470c-b23a-bed17ade44a4\",\"modelid\":\"3eb6a87d-6f70-4d4e-af88-8b7e138a8494\"}];\n",
       "  root.Bokeh.embed.embed_items_notebook(docs_json, render_items);\n",
       "\n",
       "  }\n",
       "  if (root.Bokeh !== undefined) {\n",
       "    embed_document(root);\n",
       "  } else {\n",
       "    var attempts = 0;\n",
       "    var timer = setInterval(function(root) {\n",
       "      if (root.Bokeh !== undefined) {\n",
       "        embed_document(root);\n",
       "        clearInterval(timer);\n",
       "      }\n",
       "      attempts++;\n",
       "      if (attempts > 100) {\n",
       "        console.log(\"Bokeh: ERROR: Unable to run BokehJS code because BokehJS library is missing\")\n",
       "        clearInterval(timer);\n",
       "      }\n",
       "    }, 10, root)\n",
       "  }\n",
       "})(window);"
      ],
      "application/vnd.bokehjs_exec.v0+json": ""
     },
     "metadata": {
      "application/vnd.bokehjs_exec.v0+json": {
       "id": "3eb6a87d-6f70-4d4e-af88-8b7e138a8494"
      }
     },
     "output_type": "display_data"
    },
    {
     "name": "stdout",
     "output_type": "stream",
     "text": [
      "FIGURE. Cooling rate profiles.\n"
     ]
    },
    {
     "data": {
      "text/html": [
       "<a id=\"Flux_Comparison\"></a>"
      ],
      "text/plain": [
       "<IPython.core.display.HTML object>"
      ]
     },
     "metadata": {},
     "output_type": "display_data"
    },
    {
     "data": {
      "text/markdown": [
       "# Flux Comparison"
      ],
      "text/plain": [
       "<IPython.core.display.Markdown object>"
      ]
     },
     "metadata": {},
     "output_type": "display_data"
    },
    {
     "data": {
      "text/html": [
       "<div>\n",
       "<style>\n",
       "    .dataframe thead tr:only-child th {\n",
       "        text-align: right;\n",
       "    }\n",
       "\n",
       "    .dataframe thead th {\n",
       "        text-align: left;\n",
       "    }\n",
       "\n",
       "    .dataframe tbody tr th {\n",
       "        vertical-align: top;\n",
       "    }\n",
       "</style>\n",
       "<table border=\"1\" class=\"dataframe\">\n",
       "  <thead>\n",
       "    <tr style=\"text-align: right;\">\n",
       "      <th></th>\n",
       "      <th></th>\n",
       "      <th>flug</th>\n",
       "      <th>fldg</th>\n",
       "      <th>fnetg</th>\n",
       "    </tr>\n",
       "    <tr>\n",
       "      <th>pressure</th>\n",
       "      <th>level</th>\n",
       "      <th></th>\n",
       "      <th></th>\n",
       "      <th></th>\n",
       "    </tr>\n",
       "  </thead>\n",
       "  <tbody>\n",
       "    <tr>\n",
       "      <th>0.0000</th>\n",
       "      <th>1</th>\n",
       "      <td>-29.472113</td>\n",
       "      <td>0.000000</td>\n",
       "      <td>-29.472113</td>\n",
       "    </tr>\n",
       "    <tr>\n",
       "      <th>1.0685</th>\n",
       "      <th>24</th>\n",
       "      <td>-29.471614</td>\n",
       "      <td>0.002412</td>\n",
       "      <td>-29.469202</td>\n",
       "    </tr>\n",
       "    <tr>\n",
       "      <th>1013.0000</th>\n",
       "      <th>76</th>\n",
       "      <td>-36.235409</td>\n",
       "      <td>32.494585</td>\n",
       "      <td>-3.740822</td>\n",
       "    </tr>\n",
       "  </tbody>\n",
       "</table>\n",
       "</div>"
      ],
      "text/plain": [
       "                      flug       fldg      fnetg\n",
       "pressure  level                                 \n",
       "0.0000    1     -29.472113   0.000000 -29.472113\n",
       "1.0685    24    -29.471614   0.002412 -29.469202\n",
       "1013.0000 76    -36.235409  32.494585  -3.740822"
      ]
     },
     "metadata": {},
     "output_type": "display_data"
    },
    {
     "name": "stdout",
     "output_type": "stream",
     "text": [
      "Table. Fluxes. WGT igg=10 wgt_flux=1\n"
     ]
    },
    {
     "data": {
      "text/html": [
       "<div>\n",
       "<style>\n",
       "    .dataframe thead tr:only-child th {\n",
       "        text-align: right;\n",
       "    }\n",
       "\n",
       "    .dataframe thead th {\n",
       "        text-align: left;\n",
       "    }\n",
       "\n",
       "    .dataframe tbody tr th {\n",
       "        vertical-align: top;\n",
       "    }\n",
       "</style>\n",
       "<table border=\"1\" class=\"dataframe\">\n",
       "  <thead>\n",
       "    <tr style=\"text-align: right;\">\n",
       "      <th></th>\n",
       "      <th></th>\n",
       "      <th>flug</th>\n",
       "      <th>fldg</th>\n",
       "      <th>fnetg</th>\n",
       "    </tr>\n",
       "    <tr>\n",
       "      <th>pressure</th>\n",
       "      <th>level</th>\n",
       "      <th></th>\n",
       "      <th></th>\n",
       "      <th></th>\n",
       "    </tr>\n",
       "  </thead>\n",
       "  <tbody>\n",
       "    <tr>\n",
       "      <th>0.0000</th>\n",
       "      <th>1</th>\n",
       "      <td>-29.472619</td>\n",
       "      <td>0.000000</td>\n",
       "      <td>-29.472619</td>\n",
       "    </tr>\n",
       "    <tr>\n",
       "      <th>1.0685</th>\n",
       "      <th>24</th>\n",
       "      <td>-29.472354</td>\n",
       "      <td>0.002743</td>\n",
       "      <td>-29.469611</td>\n",
       "    </tr>\n",
       "    <tr>\n",
       "      <th>1013.0000</th>\n",
       "      <th>76</th>\n",
       "      <td>-36.235408</td>\n",
       "      <td>32.486006</td>\n",
       "      <td>-3.749402</td>\n",
       "    </tr>\n",
       "  </tbody>\n",
       "</table>\n",
       "</div>"
      ],
      "text/plain": [
       "                      flug       fldg      fnetg\n",
       "pressure  level                                 \n",
       "0.0000    1     -29.472619   0.000000 -29.472619\n",
       "1.0685    24    -29.472354   0.002743 -29.469611\n",
       "1013.0000 76    -36.235408  32.486006  -3.749402"
      ]
     },
     "metadata": {},
     "output_type": "display_data"
    },
    {
     "name": "stdout",
     "output_type": "stream",
     "text": [
      "Table. Fluxes. CRD\n"
     ]
    },
    {
     "data": {
      "text/html": [
       "<div>\n",
       "<style>\n",
       "    .dataframe thead tr:only-child th {\n",
       "        text-align: right;\n",
       "    }\n",
       "\n",
       "    .dataframe thead th {\n",
       "        text-align: left;\n",
       "    }\n",
       "\n",
       "    .dataframe tbody tr th {\n",
       "        vertical-align: top;\n",
       "    }\n",
       "</style>\n",
       "<table border=\"1\" class=\"dataframe\">\n",
       "  <thead>\n",
       "    <tr style=\"text-align: right;\">\n",
       "      <th></th>\n",
       "      <th></th>\n",
       "      <th>flug</th>\n",
       "      <th>fldg</th>\n",
       "      <th>fnetg</th>\n",
       "    </tr>\n",
       "    <tr>\n",
       "      <th>pressure</th>\n",
       "      <th>level</th>\n",
       "      <th></th>\n",
       "      <th></th>\n",
       "      <th></th>\n",
       "    </tr>\n",
       "  </thead>\n",
       "  <tbody>\n",
       "    <tr>\n",
       "      <th>1.000000e-08</th>\n",
       "      <th>1</th>\n",
       "      <td>-29.576773</td>\n",
       "      <td>0.000002</td>\n",
       "      <td>-29.576771</td>\n",
       "    </tr>\n",
       "    <tr>\n",
       "      <th>1.068500e+00</th>\n",
       "      <th>24</th>\n",
       "      <td>-29.576185</td>\n",
       "      <td>0.002401</td>\n",
       "      <td>-29.573784</td>\n",
       "    </tr>\n",
       "    <tr>\n",
       "      <th>1.013000e+03</th>\n",
       "      <th>76</th>\n",
       "      <td>-36.235409</td>\n",
       "      <td>32.894699</td>\n",
       "      <td>-3.340710</td>\n",
       "    </tr>\n",
       "  </tbody>\n",
       "</table>\n",
       "</div>"
      ],
      "text/plain": [
       "                         flug       fldg      fnetg\n",
       "pressure     level                                 \n",
       "1.000000e-08 1     -29.576773   0.000002 -29.576771\n",
       "1.068500e+00 24    -29.576185   0.002401 -29.573784\n",
       "1.013000e+03 76    -36.235409  32.894699  -3.340710"
      ]
     },
     "metadata": {},
     "output_type": "display_data"
    },
    {
     "name": "stdout",
     "output_type": "stream",
     "text": [
      "Table. Fluxes. CLIRAD\n"
     ]
    },
    {
     "data": {
      "text/html": [
       "<div>\n",
       "<style>\n",
       "    .dataframe thead tr:only-child th {\n",
       "        text-align: right;\n",
       "    }\n",
       "\n",
       "    .dataframe thead th {\n",
       "        text-align: left;\n",
       "    }\n",
       "\n",
       "    .dataframe tbody tr th {\n",
       "        vertical-align: top;\n",
       "    }\n",
       "</style>\n",
       "<table border=\"1\" class=\"dataframe\">\n",
       "  <thead>\n",
       "    <tr style=\"text-align: right;\">\n",
       "      <th></th>\n",
       "      <th></th>\n",
       "      <th>flug</th>\n",
       "      <th>fldg</th>\n",
       "      <th>fnetg</th>\n",
       "    </tr>\n",
       "    <tr>\n",
       "      <th>pressure</th>\n",
       "      <th>level</th>\n",
       "      <th></th>\n",
       "      <th></th>\n",
       "      <th></th>\n",
       "    </tr>\n",
       "  </thead>\n",
       "  <tbody>\n",
       "    <tr>\n",
       "      <th>0.0000</th>\n",
       "      <th>1</th>\n",
       "      <td>-5.063210e-04</td>\n",
       "      <td>0.000000</td>\n",
       "      <td>-0.000506</td>\n",
       "    </tr>\n",
       "    <tr>\n",
       "      <th>1.0685</th>\n",
       "      <th>24</th>\n",
       "      <td>-7.401200e-04</td>\n",
       "      <td>0.000332</td>\n",
       "      <td>-0.000409</td>\n",
       "    </tr>\n",
       "    <tr>\n",
       "      <th>1013.0000</th>\n",
       "      <th>76</th>\n",
       "      <td>5.300000e-07</td>\n",
       "      <td>-0.008579</td>\n",
       "      <td>-0.008580</td>\n",
       "    </tr>\n",
       "  </tbody>\n",
       "</table>\n",
       "</div>"
      ],
      "text/plain": [
       "                         flug      fldg     fnetg\n",
       "pressure  level                                  \n",
       "0.0000    1     -5.063210e-04  0.000000 -0.000506\n",
       "1.0685    24    -7.401200e-04  0.000332 -0.000409\n",
       "1013.0000 76     5.300000e-07 -0.008579 -0.008580"
      ]
     },
     "metadata": {},
     "output_type": "display_data"
    },
    {
     "name": "stdout",
     "output_type": "stream",
     "text": [
      "Table. Fluxes. (CRD) - (WGT igg=10 wgt_flux=1)\n"
     ]
    },
    {
     "data": {
      "text/html": [
       "<div>\n",
       "<style>\n",
       "    .dataframe thead tr:only-child th {\n",
       "        text-align: right;\n",
       "    }\n",
       "\n",
       "    .dataframe thead th {\n",
       "        text-align: left;\n",
       "    }\n",
       "\n",
       "    .dataframe tbody tr th {\n",
       "        vertical-align: top;\n",
       "    }\n",
       "</style>\n",
       "<table border=\"1\" class=\"dataframe\">\n",
       "  <thead>\n",
       "    <tr style=\"text-align: right;\">\n",
       "      <th></th>\n",
       "      <th></th>\n",
       "      <th>flug</th>\n",
       "      <th>fldg</th>\n",
       "      <th>fnetg</th>\n",
       "    </tr>\n",
       "    <tr>\n",
       "      <th>pressure</th>\n",
       "      <th>level</th>\n",
       "      <th></th>\n",
       "      <th></th>\n",
       "      <th></th>\n",
       "    </tr>\n",
       "  </thead>\n",
       "  <tbody>\n",
       "    <tr>\n",
       "      <th>0.0000</th>\n",
       "      <th>1</th>\n",
       "      <td>-1.046603e-01</td>\n",
       "      <td>0.000002</td>\n",
       "      <td>-0.104658</td>\n",
       "    </tr>\n",
       "    <tr>\n",
       "      <th>1.0685</th>\n",
       "      <th>24</th>\n",
       "      <td>-1.045711e-01</td>\n",
       "      <td>-0.000011</td>\n",
       "      <td>-0.104582</td>\n",
       "    </tr>\n",
       "    <tr>\n",
       "      <th>1013.0000</th>\n",
       "      <th>76</th>\n",
       "      <td>-4.700000e-07</td>\n",
       "      <td>0.400114</td>\n",
       "      <td>0.400113</td>\n",
       "    </tr>\n",
       "  </tbody>\n",
       "</table>\n",
       "</div>"
      ],
      "text/plain": [
       "                         flug      fldg     fnetg\n",
       "pressure  level                                  \n",
       "0.0000    1     -1.046603e-01  0.000002 -0.104658\n",
       "1.0685    24    -1.045711e-01 -0.000011 -0.104582\n",
       "1013.0000 76    -4.700000e-07  0.400114  0.400113"
      ]
     },
     "metadata": {},
     "output_type": "display_data"
    },
    {
     "name": "stdout",
     "output_type": "stream",
     "text": [
      "Table. Fluxes. (CLIRAD) - (WGT igg=10 wgt_flux=1)\n"
     ]
    },
    {
     "data": {
      "text/html": [
       "<a id=\"Best-fit_Parameters\"></a>"
      ],
      "text/plain": [
       "<IPython.core.display.HTML object>"
      ]
     },
     "metadata": {},
     "output_type": "display_data"
    },
    {
     "data": {
      "text/markdown": [
       "# Best-fit Parameters"
      ],
      "text/plain": [
       "<IPython.core.display.Markdown object>"
      ]
     },
     "metadata": {},
     "output_type": "display_data"
    },
    {
     "name": "stdout",
     "output_type": "stream",
     "text": [
      "Best-fit values for each (gas, band)\n",
      "------------------------------------\n",
      "o h2o band3a\n",
      "  atmpro = mls\n",
      "  band = 3a\n",
      "  commitnumber = 5014a19\n",
      "  conc = None\n",
      "  dv = 0.01\n",
      "  klin = 0\n",
      "  molecule = h2o\n",
      "  ng_adju = [0, 0]\n",
      "  ng_refs = [2, 6]\n",
      "  nv = 100\n",
      "  option_compute_btable = 0\n",
      "  option_compute_ktable = 1\n",
      "  option_wgt_flux = 1\n",
      "  option_wgt_k = 1\n",
      "  ref_pts = [(10, 250), (600, 250)]\n",
      "  tsfc = 294\n",
      "  vmax = 620\n",
      "  vmin = 540\n",
      "  w_diffuse = [(1.9, 1.7), (1.4, 1.4, 1.4, 1.55, 1.6, 1.66)]\n",
      "  wgt = [(0.7, 0.7), (0.7, 0.5, 0.5, 0.5, 0.5, 0.5)]\n"
     ]
    }
   ],
   "source": [
    "script()"
   ]
  },
  {
   "cell_type": "code",
   "execution_count": 13,
   "metadata": {
    "collapsed": true
   },
   "outputs": [
    {
     "data": {
      "text/html": [
       "<script>\n",
       "code_show=true; \n",
       "function code_toggle() {\n",
       " if (code_show){\n",
       " $('div.input').hide();\n",
       " } else {\n",
       " $('div.input').show();\n",
       " }\n",
       " code_show = !code_show\n",
       "} \n",
       "$( document ).ready(code_toggle);\n",
       "</script>\n",
       "<form action=\"javascript:code_toggle()\"><input type=\"submit\" value=\"Click here to toggle on/off the raw code.\"></form>"
      ],
      "text/plain": [
       "<IPython.core.display.HTML object>"
      ]
     },
     "execution_count": 13,
     "metadata": {},
     "output_type": "execute_result"
    }
   ],
   "source": [
    "display.HTML('''<script>\n",
    "code_show=true; \n",
    "function code_toggle() {\n",
    " if (code_show){\n",
    " $('div.input').hide();\n",
    " } else {\n",
    " $('div.input').show();\n",
    " }\n",
    " code_show = !code_show\n",
    "} \n",
    "$( document ).ready(code_toggle);\n",
    "</script>\n",
    "<form action=\"javascript:code_toggle()\"><input type=\"submit\" value=\"Click here to toggle on/off the raw code.\"></form>''')"
   ]
  }
 ],
 "metadata": {
  "kernelspec": {
   "display_name": "Python 3",
   "language": "python",
   "name": "python3"
  },
  "language_info": {
   "codemirror_mode": {
    "name": "ipython",
    "version": 3
   },
   "file_extension": ".py",
   "mimetype": "text/x-python",
   "name": "python",
   "nbconvert_exporter": "python",
   "pygments_lexer": "ipython3",
   "version": "3.6.1"
  }
 },
 "nbformat": 4,
 "nbformat_minor": 2
}
