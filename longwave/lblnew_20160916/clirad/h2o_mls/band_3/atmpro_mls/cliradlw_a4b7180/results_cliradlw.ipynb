{
 "cells": [
  {
   "cell_type": "code",
   "execution_count": 1,
   "metadata": {
    "collapsed": true
   },
   "outputs": [],
   "source": [
    "%matplotlib inline\n",
    "import os\n",
    "import re\n",
    "import io\n",
    "import itertools\n",
    "import pprint\n",
    "\n",
    "from bokeh.io import output_notebook, show\n",
    "from bokeh.layouts import gridplot\n",
    "from bokeh.plotting import figure\n",
    "from bokeh.models import Range1d, Legend\n",
    "from bokeh.palettes import all_palettes\n",
    "\n",
    "import matplotlib\n",
    "import matplotlib.pyplot as plt\n",
    "import numpy as np\n",
    "import pandas as pd\n",
    "import xarray as xr\n",
    "\n",
    "import climatools.lblnew.bestfit_params as bestfits\n",
    "from climatools.lblnew import setup_bestfit, setup_overlap\n",
    "import climatools.lblnew.pipeline as pipe_lblnew\n",
    "import climatools.cliradlw.setup as setup_cliradlw\n",
    "import climatools.cliradlw.pipeline as pipe_cliradlw\n",
    "\n",
    "import climatools.html.html as climahtml\n",
    "from climatools.lblnew.dataio import *\n",
    "from climatools.plot.plot import *\n",
    "\n",
    "\n",
    "import IPython.display as display"
   ]
  },
  {
   "cell_type": "code",
   "execution_count": 2,
   "metadata": {
    "collapsed": true
   },
   "outputs": [],
   "source": [
    "%run param.py"
   ]
  },
  {
   "cell_type": "code",
   "execution_count": 3,
   "metadata": {
    "collapsed": true
   },
   "outputs": [],
   "source": [
    "def load_output_file(path_csv):\n",
    "    '''\n",
    "    Load lblnew output .csv file to xarray.Dataset\n",
    "    \n",
    "    Parameters\n",
    "    ----------\n",
    "    path_csv: str\n",
    "              Path to the .csv file to be loaded.\n",
    "    ds: xarray.Dataset\n",
    "        Data in the input file in the form of an xarray.Dataset.\n",
    "    '''\n",
    "    toindex = ['band', 'pressure', 'igg', 'g']    \n",
    "    df = pd.read_csv(path_csv, sep=r'\\s+')\n",
    "    df = df.set_index([i for i in toindex if i in df.columns])\n",
    "    df = df.rename(columns={'sfu': 'flug',\n",
    "                            'sfd': 'fldg',\n",
    "                            'fnet': 'fnetg',\n",
    "                            'coolr': 'coolrg'})\n",
    "    ds = xr.Dataset.from_dataframe(df)\n",
    "\n",
    "    for l in ('level', 'layer'):\n",
    "        if l in ds.data_vars:\n",
    "            if len(ds[l].dims) > 1:\n",
    "                surface = {d: 0 for d in ds.dims if d != 'pressure'}\n",
    "                coord_level = ds[l][surface]\n",
    "                ds.coords[l] = ('pressure', coord_level)\n",
    "            else:\n",
    "                ds.coords[l] = ('pressure', ds[l])\n",
    "    \n",
    "    return ds"
   ]
  },
  {
   "cell_type": "code",
   "execution_count": 4,
   "metadata": {
    "collapsed": true
   },
   "outputs": [],
   "source": [
    "def lblnew_setup(param=None):\n",
    "    if 'ng_refs' in param:\n",
    "        return {'setup': setup_bestfit,\n",
    "                'fname_flux_crd': 'output_flux.dat',\n",
    "                'fname_cool_crd': 'output_coolr.dat',\n",
    "                'fname_flux_wgt': 'output_wfluxg.dat',\n",
    "                'fname_cool_wgt': 'output_wcoolrg.dat'}\n",
    "    else:\n",
    "        return {'setup': setup_overlap,\n",
    "                'fname_flux_crd': 'output_flux.dat',\n",
    "                'fname_cool_crd': 'output_coolr.dat',\n",
    "                'fname_flux_wgt': 'output_wflux.dat',\n",
    "                'fname_cool_wgt': 'output_wcoolr.dat'}\n",
    "\n",
    "    \n",
    "def load_lblnew_data(param):\n",
    "    \n",
    "    fname_dsname = [('fname_flux_crd', 'ds_flux_crd'),\n",
    "                    ('fname_cool_crd', 'ds_cool_crd'),\n",
    "                    ('fname_flux_wgt', 'ds_flux_wgt'),\n",
    "                    ('fname_cool_wgt', 'ds_cool_wgt')]\n",
    "    \n",
    "    d = lblnew_setup(param)\n",
    "    dir_fortran = pipe_lblnew.get_dir_case(param, setup=d['setup'])\n",
    "    \n",
    "    data_dict = {}\n",
    "    for fname, dsname in fname_dsname:\n",
    "        fpath = os.path.join(dir_fortran, d[fname])\n",
    "        data_dict[dsname] = load_output_file(fpath)\n",
    "    return data_dict\n",
    "    \n",
    "\n",
    "    \n",
    "    "
   ]
  },
  {
   "cell_type": "code",
   "execution_count": 5,
   "metadata": {
    "collapsed": true
   },
   "outputs": [],
   "source": [
    "d = load_lblnew_data(PARAM_LBLNEW)\n",
    "\n",
    "DS_FLUX_CRD = d['ds_flux_crd']\n",
    "DS_COOL_CRD = d['ds_cool_crd']\n",
    "DS_FLUX_WGT = d['ds_flux_wgt']\n",
    "DS_COOL_WGT = d['ds_cool_wgt']"
   ]
  },
  {
   "cell_type": "code",
   "execution_count": 6,
   "metadata": {
    "collapsed": true
   },
   "outputs": [],
   "source": [
    "DIR_FORTRAN = pipe_cliradlw.get_fortran_dir(PARAM, \n",
    "                                            setup=setup_cliradlw)\n",
    "\n",
    "PATH_FLUX = os.path.join(DIR_FORTRAN, 'output_flux.dat')\n",
    "PATH_COOL = os.path.join(DIR_FORTRAN, 'output_coolr.dat')\n",
    "\n",
    "DS_FLUX = load_output_file(PATH_FLUX)\n",
    "DS_COOL = load_output_file(PATH_COOL)"
   ]
  },
  {
   "cell_type": "code",
   "execution_count": 7,
   "metadata": {
    "collapsed": true
   },
   "outputs": [
    {
     "data": {
      "text/html": [
       "\n",
       "    <div class=\"bk-root\">\n",
       "        <a href=\"https://bokeh.pydata.org\" target=\"_blank\" class=\"bk-logo bk-logo-small bk-logo-notebook\"></a>\n",
       "        <span id=\"d90a1c06-dbb4-40a6-af30-7b35df41a7d4\">Loading BokehJS ...</span>\n",
       "    </div>"
      ]
     },
     "metadata": {},
     "output_type": "display_data"
    },
    {
     "data": {
      "application/javascript": [
       "\n",
       "(function(root) {\n",
       "  function now() {\n",
       "    return new Date();\n",
       "  }\n",
       "\n",
       "  var force = true;\n",
       "\n",
       "  if (typeof (root._bokeh_onload_callbacks) === \"undefined\" || force === true) {\n",
       "    root._bokeh_onload_callbacks = [];\n",
       "    root._bokeh_is_loading = undefined;\n",
       "  }\n",
       "\n",
       "  var JS_MIME_TYPE = 'application/javascript';\n",
       "  var HTML_MIME_TYPE = 'text/html';\n",
       "  var EXEC_MIME_TYPE = 'application/vnd.bokehjs_exec.v0+json';\n",
       "  var CLASS_NAME = 'output_bokeh rendered_html';\n",
       "\n",
       "  /**\n",
       "   * Render data to the DOM node\n",
       "   */\n",
       "  function render(props, node) {\n",
       "    var script = document.createElement(\"script\");\n",
       "    node.appendChild(script);\n",
       "  }\n",
       "\n",
       "  /**\n",
       "   * Handle when an output is cleared or removed\n",
       "   */\n",
       "  function handleClearOutput(event, handle) {\n",
       "    var cell = handle.cell;\n",
       "\n",
       "    var id = cell.output_area._bokeh_element_id;\n",
       "    var server_id = cell.output_area._bokeh_server_id;\n",
       "    // Clean up Bokeh references\n",
       "    if (id !== undefined) {\n",
       "      Bokeh.index[id].model.document.clear();\n",
       "      delete Bokeh.index[id];\n",
       "    }\n",
       "\n",
       "    if (server_id !== undefined) {\n",
       "      // Clean up Bokeh references\n",
       "      var cmd = \"from bokeh.io.state import curstate; print(curstate().uuid_to_server['\" + server_id + \"'].get_sessions()[0].document.roots[0]._id)\";\n",
       "      cell.notebook.kernel.execute(cmd, {\n",
       "        iopub: {\n",
       "          output: function(msg) {\n",
       "            var element_id = msg.content.text.trim();\n",
       "            Bokeh.index[element_id].model.document.clear();\n",
       "            delete Bokeh.index[element_id];\n",
       "          }\n",
       "        }\n",
       "      });\n",
       "      // Destroy server and session\n",
       "      var cmd = \"import bokeh.io.notebook as ion; ion.destroy_server('\" + server_id + \"')\";\n",
       "      cell.notebook.kernel.execute(cmd);\n",
       "    }\n",
       "  }\n",
       "\n",
       "  /**\n",
       "   * Handle when a new output is added\n",
       "   */\n",
       "  function handleAddOutput(event, handle) {\n",
       "    var output_area = handle.output_area;\n",
       "    var output = handle.output;\n",
       "\n",
       "    // limit handleAddOutput to display_data with EXEC_MIME_TYPE content only\n",
       "    if ((output.output_type != \"display_data\") || (!output.data.hasOwnProperty(EXEC_MIME_TYPE))) {\n",
       "      return\n",
       "    }\n",
       "\n",
       "    var toinsert = output_area.element.find(\".\" + CLASS_NAME.split(' ')[0]);\n",
       "\n",
       "    if (output.metadata[EXEC_MIME_TYPE][\"id\"] !== undefined) {\n",
       "      toinsert[0].firstChild.textContent = output.data[JS_MIME_TYPE];\n",
       "      // store reference to embed id on output_area\n",
       "      output_area._bokeh_element_id = output.metadata[EXEC_MIME_TYPE][\"id\"];\n",
       "    }\n",
       "    if (output.metadata[EXEC_MIME_TYPE][\"server_id\"] !== undefined) {\n",
       "      var bk_div = document.createElement(\"div\");\n",
       "      bk_div.innerHTML = output.data[HTML_MIME_TYPE];\n",
       "      var script_attrs = bk_div.children[0].attributes;\n",
       "      for (var i = 0; i < script_attrs.length; i++) {\n",
       "        toinsert[0].firstChild.setAttribute(script_attrs[i].name, script_attrs[i].value);\n",
       "      }\n",
       "      // store reference to server id on output_area\n",
       "      output_area._bokeh_server_id = output.metadata[EXEC_MIME_TYPE][\"server_id\"];\n",
       "    }\n",
       "  }\n",
       "\n",
       "  function register_renderer(events, OutputArea) {\n",
       "\n",
       "    function append_mime(data, metadata, element) {\n",
       "      // create a DOM node to render to\n",
       "      var toinsert = this.create_output_subarea(\n",
       "        metadata,\n",
       "        CLASS_NAME,\n",
       "        EXEC_MIME_TYPE\n",
       "      );\n",
       "      this.keyboard_manager.register_events(toinsert);\n",
       "      // Render to node\n",
       "      var props = {data: data, metadata: metadata[EXEC_MIME_TYPE]};\n",
       "      render(props, toinsert[0]);\n",
       "      element.append(toinsert);\n",
       "      return toinsert\n",
       "    }\n",
       "\n",
       "    /* Handle when an output is cleared or removed */\n",
       "    events.on('clear_output.CodeCell', handleClearOutput);\n",
       "    events.on('delete.Cell', handleClearOutput);\n",
       "\n",
       "    /* Handle when a new output is added */\n",
       "    events.on('output_added.OutputArea', handleAddOutput);\n",
       "\n",
       "    /**\n",
       "     * Register the mime type and append_mime function with output_area\n",
       "     */\n",
       "    OutputArea.prototype.register_mime_type(EXEC_MIME_TYPE, append_mime, {\n",
       "      /* Is output safe? */\n",
       "      safe: true,\n",
       "      /* Index of renderer in `output_area.display_order` */\n",
       "      index: 0\n",
       "    });\n",
       "  }\n",
       "\n",
       "  // register the mime type if in Jupyter Notebook environment and previously unregistered\n",
       "  if (root.Jupyter !== undefined) {\n",
       "    var events = require('base/js/events');\n",
       "    var OutputArea = require('notebook/js/outputarea').OutputArea;\n",
       "\n",
       "    if (OutputArea.prototype.mime_types().indexOf(EXEC_MIME_TYPE) == -1) {\n",
       "      register_renderer(events, OutputArea);\n",
       "    }\n",
       "  }\n",
       "\n",
       "  \n",
       "  if (typeof (root._bokeh_timeout) === \"undefined\" || force === true) {\n",
       "    root._bokeh_timeout = Date.now() + 5000;\n",
       "    root._bokeh_failed_load = false;\n",
       "  }\n",
       "\n",
       "  var NB_LOAD_WARNING = {'data': {'text/html':\n",
       "     \"<div style='background-color: #fdd'>\\n\"+\n",
       "     \"<p>\\n\"+\n",
       "     \"BokehJS does not appear to have successfully loaded. If loading BokehJS from CDN, this \\n\"+\n",
       "     \"may be due to a slow or bad network connection. Possible fixes:\\n\"+\n",
       "     \"</p>\\n\"+\n",
       "     \"<ul>\\n\"+\n",
       "     \"<li>re-rerun `output_notebook()` to attempt to load from CDN again, or</li>\\n\"+\n",
       "     \"<li>use INLINE resources instead, as so:</li>\\n\"+\n",
       "     \"</ul>\\n\"+\n",
       "     \"<code>\\n\"+\n",
       "     \"from bokeh.resources import INLINE\\n\"+\n",
       "     \"output_notebook(resources=INLINE)\\n\"+\n",
       "     \"</code>\\n\"+\n",
       "     \"</div>\"}};\n",
       "\n",
       "  function display_loaded() {\n",
       "    var el = document.getElementById(\"d90a1c06-dbb4-40a6-af30-7b35df41a7d4\");\n",
       "    if (el != null) {\n",
       "      el.textContent = \"BokehJS is loading...\";\n",
       "    }\n",
       "    if (root.Bokeh !== undefined) {\n",
       "      if (el != null) {\n",
       "        el.textContent = \"BokehJS \" + root.Bokeh.version + \" successfully loaded.\";\n",
       "      }\n",
       "    } else if (Date.now() < root._bokeh_timeout) {\n",
       "      setTimeout(display_loaded, 100)\n",
       "    }\n",
       "  }\n",
       "\n",
       "\n",
       "  function run_callbacks() {\n",
       "    try {\n",
       "      root._bokeh_onload_callbacks.forEach(function(callback) { callback() });\n",
       "    }\n",
       "    finally {\n",
       "      delete root._bokeh_onload_callbacks\n",
       "    }\n",
       "    console.info(\"Bokeh: all callbacks have finished\");\n",
       "  }\n",
       "\n",
       "  function load_libs(js_urls, callback) {\n",
       "    root._bokeh_onload_callbacks.push(callback);\n",
       "    if (root._bokeh_is_loading > 0) {\n",
       "      console.log(\"Bokeh: BokehJS is being loaded, scheduling callback at\", now());\n",
       "      return null;\n",
       "    }\n",
       "    if (js_urls == null || js_urls.length === 0) {\n",
       "      run_callbacks();\n",
       "      return null;\n",
       "    }\n",
       "    console.log(\"Bokeh: BokehJS not loaded, scheduling load and callback at\", now());\n",
       "    root._bokeh_is_loading = js_urls.length;\n",
       "    for (var i = 0; i < js_urls.length; i++) {\n",
       "      var url = js_urls[i];\n",
       "      var s = document.createElement('script');\n",
       "      s.src = url;\n",
       "      s.async = false;\n",
       "      s.onreadystatechange = s.onload = function() {\n",
       "        root._bokeh_is_loading--;\n",
       "        if (root._bokeh_is_loading === 0) {\n",
       "          console.log(\"Bokeh: all BokehJS libraries loaded\");\n",
       "          run_callbacks()\n",
       "        }\n",
       "      };\n",
       "      s.onerror = function() {\n",
       "        console.warn(\"failed to load library \" + url);\n",
       "      };\n",
       "      console.log(\"Bokeh: injecting script tag for BokehJS library: \", url);\n",
       "      document.getElementsByTagName(\"head\")[0].appendChild(s);\n",
       "    }\n",
       "  };var element = document.getElementById(\"d90a1c06-dbb4-40a6-af30-7b35df41a7d4\");\n",
       "  if (element == null) {\n",
       "    console.log(\"Bokeh: ERROR: autoload.js configured with elementid 'd90a1c06-dbb4-40a6-af30-7b35df41a7d4' but no matching script tag was found. \")\n",
       "    return false;\n",
       "  }\n",
       "\n",
       "  var js_urls = [\"https://cdn.pydata.org/bokeh/release/bokeh-0.12.14.min.js\", \"https://cdn.pydata.org/bokeh/release/bokeh-widgets-0.12.14.min.js\", \"https://cdn.pydata.org/bokeh/release/bokeh-tables-0.12.14.min.js\", \"https://cdn.pydata.org/bokeh/release/bokeh-gl-0.12.14.min.js\"];\n",
       "\n",
       "  var inline_js = [\n",
       "    function(Bokeh) {\n",
       "      Bokeh.set_log_level(\"info\");\n",
       "    },\n",
       "    \n",
       "    function(Bokeh) {\n",
       "      \n",
       "    },\n",
       "    function(Bokeh) {\n",
       "      console.log(\"Bokeh: injecting CSS: https://cdn.pydata.org/bokeh/release/bokeh-0.12.14.min.css\");\n",
       "      Bokeh.embed.inject_css(\"https://cdn.pydata.org/bokeh/release/bokeh-0.12.14.min.css\");\n",
       "      console.log(\"Bokeh: injecting CSS: https://cdn.pydata.org/bokeh/release/bokeh-widgets-0.12.14.min.css\");\n",
       "      Bokeh.embed.inject_css(\"https://cdn.pydata.org/bokeh/release/bokeh-widgets-0.12.14.min.css\");\n",
       "      console.log(\"Bokeh: injecting CSS: https://cdn.pydata.org/bokeh/release/bokeh-tables-0.12.14.min.css\");\n",
       "      Bokeh.embed.inject_css(\"https://cdn.pydata.org/bokeh/release/bokeh-tables-0.12.14.min.css\");\n",
       "    }\n",
       "  ];\n",
       "\n",
       "  function run_inline_js() {\n",
       "    \n",
       "    if ((root.Bokeh !== undefined) || (force === true)) {\n",
       "      for (var i = 0; i < inline_js.length; i++) {\n",
       "        inline_js[i].call(root, root.Bokeh);\n",
       "      }if (force === true) {\n",
       "        display_loaded();\n",
       "      }} else if (Date.now() < root._bokeh_timeout) {\n",
       "      setTimeout(run_inline_js, 100);\n",
       "    } else if (!root._bokeh_failed_load) {\n",
       "      console.log(\"Bokeh: BokehJS failed to load within specified timeout.\");\n",
       "      root._bokeh_failed_load = true;\n",
       "    } else if (force !== true) {\n",
       "      var cell = $(document.getElementById(\"d90a1c06-dbb4-40a6-af30-7b35df41a7d4\")).parents('.cell').data().cell;\n",
       "      cell.output_area.append_execute_result(NB_LOAD_WARNING)\n",
       "    }\n",
       "\n",
       "  }\n",
       "\n",
       "  if (root._bokeh_is_loading === 0) {\n",
       "    console.log(\"Bokeh: BokehJS loaded, going straight to plotting\");\n",
       "    run_inline_js();\n",
       "  } else {\n",
       "    load_libs(js_urls, function() {\n",
       "      console.log(\"Bokeh: BokehJS plotting callback run at\", now());\n",
       "      run_inline_js();\n",
       "    });\n",
       "  }\n",
       "}(window));"
      ],
      "application/vnd.bokehjs_load.v0+json": "\n(function(root) {\n  function now() {\n    return new Date();\n  }\n\n  var force = true;\n\n  if (typeof (root._bokeh_onload_callbacks) === \"undefined\" || force === true) {\n    root._bokeh_onload_callbacks = [];\n    root._bokeh_is_loading = undefined;\n  }\n\n  \n\n  \n  if (typeof (root._bokeh_timeout) === \"undefined\" || force === true) {\n    root._bokeh_timeout = Date.now() + 5000;\n    root._bokeh_failed_load = false;\n  }\n\n  var NB_LOAD_WARNING = {'data': {'text/html':\n     \"<div style='background-color: #fdd'>\\n\"+\n     \"<p>\\n\"+\n     \"BokehJS does not appear to have successfully loaded. If loading BokehJS from CDN, this \\n\"+\n     \"may be due to a slow or bad network connection. Possible fixes:\\n\"+\n     \"</p>\\n\"+\n     \"<ul>\\n\"+\n     \"<li>re-rerun `output_notebook()` to attempt to load from CDN again, or</li>\\n\"+\n     \"<li>use INLINE resources instead, as so:</li>\\n\"+\n     \"</ul>\\n\"+\n     \"<code>\\n\"+\n     \"from bokeh.resources import INLINE\\n\"+\n     \"output_notebook(resources=INLINE)\\n\"+\n     \"</code>\\n\"+\n     \"</div>\"}};\n\n  function display_loaded() {\n    var el = document.getElementById(\"d90a1c06-dbb4-40a6-af30-7b35df41a7d4\");\n    if (el != null) {\n      el.textContent = \"BokehJS is loading...\";\n    }\n    if (root.Bokeh !== undefined) {\n      if (el != null) {\n        el.textContent = \"BokehJS \" + root.Bokeh.version + \" successfully loaded.\";\n      }\n    } else if (Date.now() < root._bokeh_timeout) {\n      setTimeout(display_loaded, 100)\n    }\n  }\n\n\n  function run_callbacks() {\n    try {\n      root._bokeh_onload_callbacks.forEach(function(callback) { callback() });\n    }\n    finally {\n      delete root._bokeh_onload_callbacks\n    }\n    console.info(\"Bokeh: all callbacks have finished\");\n  }\n\n  function load_libs(js_urls, callback) {\n    root._bokeh_onload_callbacks.push(callback);\n    if (root._bokeh_is_loading > 0) {\n      console.log(\"Bokeh: BokehJS is being loaded, scheduling callback at\", now());\n      return null;\n    }\n    if (js_urls == null || js_urls.length === 0) {\n      run_callbacks();\n      return null;\n    }\n    console.log(\"Bokeh: BokehJS not loaded, scheduling load and callback at\", now());\n    root._bokeh_is_loading = js_urls.length;\n    for (var i = 0; i < js_urls.length; i++) {\n      var url = js_urls[i];\n      var s = document.createElement('script');\n      s.src = url;\n      s.async = false;\n      s.onreadystatechange = s.onload = function() {\n        root._bokeh_is_loading--;\n        if (root._bokeh_is_loading === 0) {\n          console.log(\"Bokeh: all BokehJS libraries loaded\");\n          run_callbacks()\n        }\n      };\n      s.onerror = function() {\n        console.warn(\"failed to load library \" + url);\n      };\n      console.log(\"Bokeh: injecting script tag for BokehJS library: \", url);\n      document.getElementsByTagName(\"head\")[0].appendChild(s);\n    }\n  };var element = document.getElementById(\"d90a1c06-dbb4-40a6-af30-7b35df41a7d4\");\n  if (element == null) {\n    console.log(\"Bokeh: ERROR: autoload.js configured with elementid 'd90a1c06-dbb4-40a6-af30-7b35df41a7d4' but no matching script tag was found. \")\n    return false;\n  }\n\n  var js_urls = [\"https://cdn.pydata.org/bokeh/release/bokeh-0.12.14.min.js\", \"https://cdn.pydata.org/bokeh/release/bokeh-widgets-0.12.14.min.js\", \"https://cdn.pydata.org/bokeh/release/bokeh-tables-0.12.14.min.js\", \"https://cdn.pydata.org/bokeh/release/bokeh-gl-0.12.14.min.js\"];\n\n  var inline_js = [\n    function(Bokeh) {\n      Bokeh.set_log_level(\"info\");\n    },\n    \n    function(Bokeh) {\n      \n    },\n    function(Bokeh) {\n      console.log(\"Bokeh: injecting CSS: https://cdn.pydata.org/bokeh/release/bokeh-0.12.14.min.css\");\n      Bokeh.embed.inject_css(\"https://cdn.pydata.org/bokeh/release/bokeh-0.12.14.min.css\");\n      console.log(\"Bokeh: injecting CSS: https://cdn.pydata.org/bokeh/release/bokeh-widgets-0.12.14.min.css\");\n      Bokeh.embed.inject_css(\"https://cdn.pydata.org/bokeh/release/bokeh-widgets-0.12.14.min.css\");\n      console.log(\"Bokeh: injecting CSS: https://cdn.pydata.org/bokeh/release/bokeh-tables-0.12.14.min.css\");\n      Bokeh.embed.inject_css(\"https://cdn.pydata.org/bokeh/release/bokeh-tables-0.12.14.min.css\");\n    }\n  ];\n\n  function run_inline_js() {\n    \n    if ((root.Bokeh !== undefined) || (force === true)) {\n      for (var i = 0; i < inline_js.length; i++) {\n        inline_js[i].call(root, root.Bokeh);\n      }if (force === true) {\n        display_loaded();\n      }} else if (Date.now() < root._bokeh_timeout) {\n      setTimeout(run_inline_js, 100);\n    } else if (!root._bokeh_failed_load) {\n      console.log(\"Bokeh: BokehJS failed to load within specified timeout.\");\n      root._bokeh_failed_load = true;\n    } else if (force !== true) {\n      var cell = $(document.getElementById(\"d90a1c06-dbb4-40a6-af30-7b35df41a7d4\")).parents('.cell').data().cell;\n      cell.output_area.append_execute_result(NB_LOAD_WARNING)\n    }\n\n  }\n\n  if (root._bokeh_is_loading === 0) {\n    console.log(\"Bokeh: BokehJS loaded, going straight to plotting\");\n    run_inline_js();\n  } else {\n    load_libs(js_urls, function() {\n      console.log(\"Bokeh: BokehJS plotting callback run at\", now());\n      run_inline_js();\n    });\n  }\n}(window));"
     },
     "metadata": {},
     "output_type": "display_data"
    }
   ],
   "source": [
    "output_notebook()"
   ]
  },
  {
   "cell_type": "code",
   "execution_count": 8,
   "metadata": {
    "collapsed": true
   },
   "outputs": [],
   "source": [
    "def fmt_cool(ds_in):\n",
    "    ds = ds_in.copy(deep=True)\n",
    "    if 'igg' in ds.dims:\n",
    "        ds = ds.sel(igg=1)\n",
    "\n",
    "    if 'g' in ds.dims:\n",
    "        ds = ds.sum('g')\n",
    "            \n",
    "    if 'band' in ds.dims:\n",
    "        try:\n",
    "            ds = ds.squeeze('band')\n",
    "        except ValueError:\n",
    "            ds = ds.sum('band')\n",
    "                \n",
    "    return ds['coolrg']\n",
    "\n",
    "\n",
    "def pltdata_cooling_1(ds_cool=None,\n",
    "                      ds_cool_crd=None, ds_cool_wgt=None):\n",
    "    \n",
    "\n",
    "\n",
    "    colors = all_palettes['Set1'][4]\n",
    "    data = [{'label': 'CLIRAD `coolr_bands`',\n",
    "             'srs': fmt_cool(ds_cool),\n",
    "             'line_dash': 'dashed', 'line_width': 5,\n",
    "             'color': colors[0], 'alpha': .6},\n",
    "            {'label': 'CRD',\n",
    "             'srs': fmt_cool(ds_cool_crd),\n",
    "             'line_dash': 'solid', 'line_width': 1.5,\n",
    "             'marker': 'circle', 'marker_size': 5,\n",
    "             'color': colors[2], 'alpha': 1,},\n",
    "            {'label': 'WGT igg=10 wgt_flux=2',\n",
    "             'srs': fmt_cool(ds_cool_wgt),\n",
    "             'line_dash': 'solid', 'line_width': 3,\n",
    "             'marker': 'square', 'marker_size': 5,\n",
    "             'color': colors[3], 'alpha': .6}]\n",
    "    return data\n",
    "\n",
    "\n",
    "def nice_xlims(pltdata=None, prange=None):\n",
    "    \n",
    "    def get_slice(srs):\n",
    "        return srs.sel(pressure=slice(*prange))\n",
    "    \n",
    "    srss = [d['srs'] for d in pltdata]\n",
    "    vmin = min([get_slice(srs).min() for srs in srss])\n",
    "    vmax = max([get_slice(srs).max() for srs in srss])\n",
    "    dv = (vmax - vmin) * .01\n",
    "    return float(vmin - dv), float(vmax + dv)\n",
    "    \n",
    "\n",
    "def plt_cooling_bokeh(pltdata=None):\n",
    "    '''\n",
    "    Plot a list of cooling rate profiles using bokeh.\n",
    "    '''\n",
    "    ymin = 1e-2 \n",
    "    ymax = 1020 \n",
    "        \n",
    "    p1 = figure(title=\"Linear pressure scale\", \n",
    "                plot_width=400)        \n",
    "    xmin, xmax = nice_xlims(pltdata, prange=(50, 1050))\n",
    "    for d in pltdata:\n",
    "        if 'marker' in d:\n",
    "            getattr(p1, d['marker'])(d['srs'].values, \n",
    "                    d['srs'].coords['pressure'].values,\n",
    "                    color=d['color'], alpha=.7)\n",
    "        p1.line(d['srs'].values, \n",
    "                d['srs'].coords['pressure'].values,\n",
    "                color=d['color'], alpha=d['alpha'], \n",
    "                line_width=d['line_width'], line_dash=d['line_dash'])\n",
    "    \n",
    "    p1.y_range = Range1d(ymax, ymin)\n",
    "    p1.yaxis.axis_label = 'pressure [mb]'   \n",
    "    p1.x_range = Range1d(xmin, xmax)\n",
    "    p1.xaxis.axis_label = 'cooling rate [K/day]'\n",
    "            \n",
    "    p2 = figure(title='Log pressure scale', y_axis_type='log',\n",
    "                plot_width=560)\n",
    "    xmin, xmax = nice_xlims(pltdata, prange=(.01, 200))\n",
    "    \n",
    "    rs = []\n",
    "    for d in pltdata:\n",
    "        rd = []\n",
    "        if 'marker' in d:\n",
    "            r_mark = getattr(p2, d['marker'])(d['srs'].values, \n",
    "                        d['srs'].coords['pressure'].values,\n",
    "                        color=d['color'], alpha=.7)\n",
    "            rd.append(r_mark)\n",
    "        r_line = p2.line(d['srs'].values, \n",
    "                    d['srs'].coords['pressure'].values,\n",
    "                    color=d['color'], alpha=d['alpha'], \n",
    "                    line_width=d['line_width'], line_dash=d['line_dash'])\n",
    "        rd.append(r_line)\n",
    "      \n",
    "        rs.append(rd)\n",
    "        \n",
    "    p2.y_range = Range1d(ymax, ymin)  \n",
    "    p2.yaxis.axis_label = 'pressure [mb]'\n",
    "    \n",
    "    p2.x_range = Range1d(xmin, xmax)\n",
    "    p2.xaxis.axis_label = 'cooling rate [K/day]'\n",
    "    \n",
    "    items = [(d['label'], r) for r, d in zip(rs, pltdata)]\n",
    "    legend = Legend(items=items, location=(10, -30))\n",
    "    legend.label_text_font_size = '8pt'\n",
    "    \n",
    "    p2.add_layout(legend, 'right')  \n",
    "    \n",
    "    show(gridplot(p1, p2, ncols=2, plot_height=500))\n",
    "    \n",
    "\n",
    "def script_plt_cooling():\n",
    "    pltdata = pltdata_cooling_1(\n",
    "        ds_cool=DS_COOL,\n",
    "        ds_cool_crd=DS_COOL_CRD,\n",
    "        ds_cool_wgt=DS_COOL_WGT)\n",
    "    plt_cooling_bokeh(pltdata=pltdata)\n",
    "    print('''FIGURE. Cooling rate profiles.''')"
   ]
  },
  {
   "cell_type": "code",
   "execution_count": 9,
   "metadata": {
    "collapsed": true
   },
   "outputs": [],
   "source": [
    "def fmt_flux(ds_in):\n",
    "    ds = ds_in.copy(deep=True)\n",
    "    \n",
    "    for l in ('level', 'layer'):\n",
    "        if l in ds.data_vars:\n",
    "            if len(ds[l].dims) > 1:\n",
    "                surface = {d: 0 for d in ds.dims if d != 'pressure'}\n",
    "                coord_level = ds[l][surface]\n",
    "                ds.coords[l] = ('pressure', coord_level)\n",
    "            else:\n",
    "                ds.coords[l] = ('pressure', ds[l])\n",
    "        \n",
    "    ds = ds.isel(pressure=[0, 23, -1])\n",
    "        \n",
    "    if 'igg' in ds.dims:\n",
    "        ds = ds.sel(igg=[1])\n",
    "        ds = ds.squeeze('igg').drop('igg')\n",
    "    \n",
    "    if 'g' in ds.dims:\n",
    "        ds = ds.sum('g')\n",
    "            \n",
    "    if 'band' in ds.dims:\n",
    "        try:\n",
    "            ds = ds.squeeze('band').drop('band')\n",
    "        except ValueError:\n",
    "            ds = ds.sum('band')\n",
    "                \n",
    "    df = ds.to_dataframe()\n",
    "    df = df.set_index('level', append=True)               \n",
    "    return df\n",
    "\n",
    "\n",
    "def tbdata_flux(ds_flux=None, ds_flux_crd=None, ds_flux_wgt=None):\n",
    "    ilevels = [0, 23, -1]\n",
    "            \n",
    "    benchmark = {'label': 'WGT igg=10 wgt_flux=1',\n",
    "                 'df': fmt_flux(ds_flux_wgt)}\n",
    "    \n",
    "    tbs = [{'label': 'CRD',\n",
    "            'df': fmt_flux(ds_flux_crd)},\n",
    "           {'label': 'CLIRAD',\n",
    "            'df': fmt_flux(ds_flux)}]\n",
    "    \n",
    "    data = {'benchmark': benchmark, 'others': tbs}\n",
    "    return data\n",
    "\n",
    "\n",
    "def tb_flux(tbdata=None):\n",
    "    benchmark = tbdata['benchmark']\n",
    "    others = tbdata['others']\n",
    "    \n",
    "    def show_tb(d=None):\n",
    "        display.display(d['df'])\n",
    "        print('Table.', 'Fluxes.', d['label'])\n",
    "        \n",
    "    def show_tbdiff(d0=None, d=None):\n",
    "        df = d['df']\n",
    "        df.index = d0['df'].index\n",
    "        display.display(df - d0['df'])\n",
    "        print('Table.', 'Fluxes.', \n",
    "              '({}) - ({})'.format(d['label'], d0['label']))\n",
    "        \n",
    "    show_tb(benchmark)\n",
    "    for d in others:\n",
    "        show_tb(d)\n",
    "        \n",
    "    for d in others:\n",
    "        show_tbdiff(d=d, d0=benchmark)\n",
    "        \n",
    "        \n",
    "def script_tb_flux():\n",
    "    data = tbdata_flux(ds_flux=DS_FLUX,\n",
    "                       ds_flux_crd=DS_FLUX_CRD,\n",
    "                       ds_flux_wgt=DS_FLUX_WGT)\n",
    "    tb_flux(tbdata=data)"
   ]
  },
  {
   "cell_type": "code",
   "execution_count": 10,
   "metadata": {
    "collapsed": true
   },
   "outputs": [],
   "source": [
    "def band_map():\n",
    "    '''\n",
    "    Maps spectral bands in lblnew to spectral bands in clirad.\n",
    "    '''\n",
    "    lblnew2clirad = {'1': '1',\n",
    "            '2': '2',\n",
    "            '3a': '3',\n",
    "            '3b': '4',\n",
    "            '3c': '5',\n",
    "            '4': '6', \n",
    "            '5': '7',\n",
    "            '6': '8',\n",
    "            '7': '9', \n",
    "            '8': '10',\n",
    "            '9': '11'}\n",
    "    \n",
    "    clirad2lblnew = {clirad: lblnew \n",
    "                     for lblnew, clirad in lblnew2clirad.items()}\n",
    "    return clirad2lblnew\n",
    "\n",
    "\n",
    "def gasbands():\n",
    "    bmap = band_map()\n",
    "    gases = list(PARAM['molecule'].keys())\n",
    "    \n",
    "    bands = [bmap[str(b)] for b in PARAM['band']]\n",
    "    return list(itertools.product(gases, bands))\n",
    "\n",
    "\n",
    "def print_bestfit_params():\n",
    "    print('Best-fit values for each (gas, band)')\n",
    "    print('------------------------------------')\n",
    "    for gas, band in gasbands():\n",
    "        print('o {} band{}'.format(gas, band))\n",
    "        param = bestfits.kdist_params(molecule=gas, band=band)\n",
    "        for name, value in sorted(param.items()):\n",
    "            print(2 * ' ' + '{} = {}'.format(name, value))\n",
    "\n",
    "        \n",
    "def print_input_param():        \n",
    "    for name, value in PARAM.items():\n",
    "        print('{} = {}'.format(name, value))\n",
    "        \n",
    "        \n",
    "def print_lblnew_param():\n",
    "    for name, value in sorted(PARAM_LBLNEW.items()):\n",
    "        print('{} = {}'.format(name, value))\n"
   ]
  },
  {
   "cell_type": "code",
   "execution_count": 11,
   "metadata": {
    "collapsed": true,
    "scrolled": false
   },
   "outputs": [],
   "source": [
    "def show_html(s):\n",
    "    display.display(display.HTML(s))\n",
    "\n",
    "    \n",
    "def show_markdown(s):\n",
    "    display.display(display.Markdown(s))\n",
    "\n",
    "    \n",
    "def script():\n",
    "    \n",
    "    title = '### CLIRAD-LW'\n",
    "    s_input = 'Input Parameters'\n",
    "    s_lblnew_param = 'LBLNEW case compaired against'\n",
    "    s_bestfits = 'Best-fit Parameters'\n",
    "    s_plt_cooling = 'Cooling Rate Profiles'\n",
    "    s_tb_flux = 'Flux Comparison'\n",
    "    \n",
    "    # title\n",
    "    show_markdown('### CLIRAD-LW')\n",
    "    \n",
    "    # TOC\n",
    "    show_markdown('### Table of Contents')\n",
    "    show_html(climahtml.getHTML_hrefanchor(s_input))\n",
    "    show_html(climahtml.getHTML_hrefanchor(s_lblnew_param))\n",
    "    show_html(climahtml.getHTML_hrefanchor(s_plt_cooling))\n",
    "    show_html(climahtml.getHTML_hrefanchor(s_tb_flux))\n",
    "    show_html(climahtml.getHTML_hrefanchor(s_bestfits))\n",
    "    \n",
    "    # Input parameters\n",
    "    show_html(climahtml.getHTML_idanchor(s_input))\n",
    "    show_markdown(climahtml.getMarkdown_sectitle(s_input))\n",
    "    print_input_param()\n",
    "    \n",
    "    # LBLNEW parameters \n",
    "    show_html(climahtml.getHTML_idanchor(s_lblnew_param))\n",
    "    show_markdown(climahtml.getMarkdown_sectitle(s_lblnew_param))\n",
    "    print_lblnew_param()\n",
    "    \n",
    "    # Cooling rate profiles\n",
    "    show_html(climahtml.getHTML_idanchor(s_plt_cooling))\n",
    "    show_markdown(climahtml.getMarkdown_sectitle(s_plt_cooling))\n",
    "    script_plt_cooling()\n",
    "    \n",
    "    # Flux comparison\n",
    "    show_html(climahtml.getHTML_idanchor(s_tb_flux))\n",
    "    show_markdown(climahtml.getMarkdown_sectitle(s_tb_flux))\n",
    "    script_tb_flux()\n",
    "    \n",
    "    # Best-fit values\n",
    "    show_html(climahtml.getHTML_idanchor(s_bestfits))\n",
    "    show_markdown(climahtml.getMarkdown_sectitle(s_bestfits))\n",
    "    print_bestfit_params()\n",
    "   \n",
    "    "
   ]
  },
  {
   "cell_type": "code",
   "execution_count": 12,
   "metadata": {
    "collapsed": true,
    "scrolled": false
   },
   "outputs": [
    {
     "data": {
      "text/markdown": [
       "### CLIRAD-LW"
      ],
      "text/plain": [
       "<IPython.core.display.Markdown object>"
      ]
     },
     "metadata": {},
     "output_type": "display_data"
    },
    {
     "data": {
      "text/markdown": [
       "### Table of Contents"
      ],
      "text/plain": [
       "<IPython.core.display.Markdown object>"
      ]
     },
     "metadata": {},
     "output_type": "display_data"
    },
    {
     "data": {
      "text/html": [
       "<a href=\"#Input_Parameters\">Input Parameters</a>"
      ],
      "text/plain": [
       "<IPython.core.display.HTML object>"
      ]
     },
     "metadata": {},
     "output_type": "display_data"
    },
    {
     "data": {
      "text/html": [
       "<a href=\"#LBLNEW_case_compaired_against\">LBLNEW case compaired against</a>"
      ],
      "text/plain": [
       "<IPython.core.display.HTML object>"
      ]
     },
     "metadata": {},
     "output_type": "display_data"
    },
    {
     "data": {
      "text/html": [
       "<a href=\"#Cooling_Rate_Profiles\">Cooling Rate Profiles</a>"
      ],
      "text/plain": [
       "<IPython.core.display.HTML object>"
      ]
     },
     "metadata": {},
     "output_type": "display_data"
    },
    {
     "data": {
      "text/html": [
       "<a href=\"#Flux_Comparison\">Flux Comparison</a>"
      ],
      "text/plain": [
       "<IPython.core.display.HTML object>"
      ]
     },
     "metadata": {},
     "output_type": "display_data"
    },
    {
     "data": {
      "text/html": [
       "<a href=\"#Best-fit_Parameters\">Best-fit Parameters</a>"
      ],
      "text/plain": [
       "<IPython.core.display.HTML object>"
      ]
     },
     "metadata": {},
     "output_type": "display_data"
    },
    {
     "data": {
      "text/html": [
       "<a id=\"Input_Parameters\"></a>"
      ],
      "text/plain": [
       "<IPython.core.display.HTML object>"
      ]
     },
     "metadata": {},
     "output_type": "display_data"
    },
    {
     "data": {
      "text/markdown": [
       "# Input Parameters"
      ],
      "text/plain": [
       "<IPython.core.display.Markdown object>"
      ]
     },
     "metadata": {},
     "output_type": "display_data"
    },
    {
     "name": "stdout",
     "output_type": "stream",
     "text": [
      "atmpro = mls\n",
      "band = [3]\n",
      "commitnumber = a4b7180\n",
      "molecule = {'h2o': 'atmpro'}\n",
      "tsfc = 294\n"
     ]
    },
    {
     "data": {
      "text/html": [
       "<a id=\"LBLNEW_case_compaired_against\"></a>"
      ],
      "text/plain": [
       "<IPython.core.display.HTML object>"
      ]
     },
     "metadata": {},
     "output_type": "display_data"
    },
    {
     "data": {
      "text/markdown": [
       "# LBLNEW case compaired against"
      ],
      "text/plain": [
       "<IPython.core.display.Markdown object>"
      ]
     },
     "metadata": {},
     "output_type": "display_data"
    },
    {
     "name": "stdout",
     "output_type": "stream",
     "text": [
      "atmpro = mls\n",
      "band = 3a\n",
      "commitnumber = 2bd1f75\n",
      "conc = None\n",
      "dv = 0.01\n",
      "klin = 0\n",
      "molecule = h2o\n",
      "ng_adju = [0, 0]\n",
      "ng_refs = [2, 6]\n",
      "nv = 100\n",
      "option_compute_btable = 0\n",
      "option_compute_ktable = 0\n",
      "option_wgt_flux = 1\n",
      "option_wgt_k = 1\n",
      "ref_pts = [(10, 250), (600, 250)]\n",
      "tsfc = 294\n",
      "vmax = 620\n",
      "vmin = 540\n",
      "w_diffuse = [(1.9, 1.7), (1.4, 1.4, 1.4, 1.55, 1.6, 1.66)]\n",
      "wgt = [(0.7, 0.7), (0.7, 0.5, 0.5, 0.5, 0.5, 0.5)]\n"
     ]
    },
    {
     "data": {
      "text/html": [
       "<a id=\"Cooling_Rate_Profiles\"></a>"
      ],
      "text/plain": [
       "<IPython.core.display.HTML object>"
      ]
     },
     "metadata": {},
     "output_type": "display_data"
    },
    {
     "data": {
      "text/markdown": [
       "# Cooling Rate Profiles"
      ],
      "text/plain": [
       "<IPython.core.display.Markdown object>"
      ]
     },
     "metadata": {},
     "output_type": "display_data"
    },
    {
     "data": {
      "text/html": [
       "\n",
       "<div class=\"bk-root\">\n",
       "    <div class=\"bk-plotdiv\" id=\"2ce09bb0-cb59-4ad1-b086-6372470f356e\"></div>\n",
       "</div>"
      ]
     },
     "metadata": {},
     "output_type": "display_data"
    },
    {
     "data": {
      "application/javascript": [
       "(function(root) {\n",
       "  function embed_document(root) {\n",
       "    \n",
       "  var docs_json = {\"324dadbf-fb5b-4108-9e5d-411095950d41\":{\"roots\":{\"references\":[{\"attributes\":{\"children\":[{\"id\":\"abfab9d2-55f2-4309-a28c-128ae35b0f9d\",\"subtype\":\"Figure\",\"type\":\"Plot\"},{\"id\":\"c00d566b-8859-4b9f-9d8d-8ac4a5bcc620\",\"subtype\":\"Figure\",\"type\":\"Plot\"}]},\"id\":\"ef6444ea-ec8c-43bf-ab5b-070b950acc60\",\"type\":\"Row\"},{\"attributes\":{\"callback\":null,\"end\":0.5466946932383,\"start\":-0.0048349370683},\"id\":\"41d8f660-64b0-487c-b60f-e21f35ecdb7e\",\"type\":\"Range1d\"},{\"attributes\":{\"bottom_units\":\"screen\",\"fill_alpha\":{\"value\":0.5},\"fill_color\":{\"value\":\"lightgrey\"},\"left_units\":\"screen\",\"level\":\"overlay\",\"line_alpha\":{\"value\":1.0},\"line_color\":{\"value\":\"black\"},\"line_dash\":[4,4],\"line_width\":{\"value\":2},\"plot\":null,\"render_mode\":\"css\",\"right_units\":\"screen\",\"top_units\":\"screen\"},\"id\":\"322c5d25-17e2-4158-bad9-72a2d0328c14\",\"type\":\"BoxAnnotation\"},{\"attributes\":{},\"id\":\"75cb7a13-61b1-4f82-bea2-07ad96d56621\",\"type\":\"PanTool\"},{\"attributes\":{\"fill_alpha\":{\"value\":0.1},\"fill_color\":{\"value\":\"#1f77b4\"},\"line_alpha\":{\"value\":0.1},\"line_color\":{\"value\":\"#1f77b4\"},\"x\":{\"field\":\"x\"},\"y\":{\"field\":\"y\"}},\"id\":\"b2a08cbe-816d-439b-b3d9-2f8af7f5795b\",\"type\":\"Circle\"},{\"attributes\":{},\"id\":\"7bdce6de-97fe-4af4-8600-6296abaf593c\",\"type\":\"HelpTool\"},{\"attributes\":{\"fill_alpha\":{\"value\":0.7},\"fill_color\":{\"value\":\"#4daf4a\"},\"line_alpha\":{\"value\":0.7},\"line_color\":{\"value\":\"#4daf4a\"},\"x\":{\"field\":\"x\"},\"y\":{\"field\":\"y\"}},\"id\":\"691974e1-7174-4abe-b2d7-eaf5616e495c\",\"type\":\"Circle\"},{\"attributes\":{},\"id\":\"f462db63-b87e-4fd2-8c54-af6d828c8823\",\"type\":\"ResetTool\"},{\"attributes\":{},\"id\":\"67b69143-e091-458e-a056-ac1ae94521d6\",\"type\":\"SaveTool\"},{\"attributes\":{},\"id\":\"a718e603-fbc6-46c3-9ffd-ea9e7c098784\",\"type\":\"WheelZoomTool\"},{\"attributes\":{\"callback\":null,\"column_names\":[\"x\",\"y\"],\"data\":{\"x\":{\"__ndarray__\":\"1gCVyf4c6r70+W+8tO8AP2R7JdYhziA/SBw82p6GLj+tIc2ZV2Q2PxRp8MuzxT0/HkPDTnuVQj9tnoCWbnhGPz1tVpkZc0o/G2SaLhaDTj9sKQbimlZRP1zetBOAI1M/7QjqRiaIVD+Cmg8El3JWP4IKnUfkw1w/Mkt8mgVtaT+80zGwlMF2PxmdeR8q+YE/KxTpfk5Bij+Qsm5RoC6SP3NUa+oHOJg/6+cLKVhGnz9/MM/OkpWiP+OZAl/yu6E/iQjw9zqSmz8rWv00lRWUP8VB6dvn0Iw/oKl+dbrLhD8qKdMPuul+P4MDEneyoHc/Ky8hsen5cT/E9EYvH9dqPzywqoL7/2Q/DCQWm9DQYT8izee6umxeP1B0stNVmlk/kObnRa8/Vz/bS33NML1WP4uBZczs0VU/dCedZs9OVz/YmqfeBc9mP9BllG3zzYM/s7GESJVHmD8GABUurmimP3tCyt1UFbE/vDsecrRctD82MV+JAFq3P1D3KseeHLs/nVVVHpN7vz/p/6iPuC7CP+lQn0c51sQ/5/cFDWA+xz9m6VRDLKzJPw+o7RXMTsw/iNr0b7Aazz8LW/WxaQLRPxd9JnevhdI/jwidQnTp1D/RMlpg8jPXPw4WyplYJtk/VrVJ6qm62j+TFrLjVOXbP2XlNJddqNw/F/Ywi7sH3T/iG0y7fwndP2YAwX9nudw/d27zKXQc3D82AhLJZyTbP2GWTev8vNk/QUJahN7y1z9fkUaiI/vVP4vFLe5YD9Q/mLQ1ZDRZ0j+k6pHlqAzRP7aBO1CnfNE/\",\"dtype\":\"float64\",\"shape\":[75]},\"y\":{\"__ndarray__\":\"GhExyth1ND/Sv8nbtpRIP2vylNV0PVE/aTum7souWD/At0SJ8fVgPw3Iuahxymc/MSNhhJWvcD/bTfBN02d3P2zb5nxnaoA/CD5h5MAGhz8NmeH1TyaQP+zrCsc9p5Y/LbKd76fGnz/bLW5ISEmmPww9YvTcQq8/JV2OstnstT8Er5Y7M8G+P0c+r3jqkcU/5h99k6ZBzj88bCIzFzjVP4enV8oyxN0//yH99nXg5D8qOpLLf0jtP5kqGJXUifQ/c9cS8kHP/D+/DpwzojQEQIEmwoanVwxA4lgXt9HgE0BSSZ2AJuIbQAMJih9jjiNA5q4l5INuK0AwTKYKRj0zQNv5fmq8/DpAaCJseHrtQkB/+zpwzoxKQM3MzMzMeFJAZmZmZmZqWEAAAAAAAFxeQM3MzMzMJmJAmpmZmZkfZUBmZmZmZhhoQDMzMzMzEWtAAAAAAAAKbkBmZmZmZoFwQM3MzMzM/XFAMzMzMzN6c0CamZmZmfZ0QAAAAAAAc3ZAZmZmZmbvd0DNzMzMzGt5QDMzMzMz6HpAmpmZmZlkfEAAAAAAAOF9QGZmZmZmXX9AZmZmZuZsgECamZmZGSuBQM3MzMxM6YFAAAAAAICngkAzMzMzs2WDQGZmZmbmI4RAmpmZmRnihEDNzMzMTKCFQAAAAACAXoZAMzMzM7Mch0BmZmZm5tqHQJqZmZkZmYhAzczMzExXiUAAAAAAgBWKQDMzMzOz04pAZmZmZuaRi0CamZmZGVCMQM3MzMxMDo1AAAAAAIDMjUAzMzMzs4qOQGZmZmbmSI9A\",\"dtype\":\"float64\",\"shape\":[75]}}},\"id\":\"4b4896f9-8a55-4bbc-a3ee-c777e5c3676e\",\"type\":\"ColumnDataSource\"},{\"attributes\":{\"overlay\":{\"id\":\"322c5d25-17e2-4158-bad9-72a2d0328c14\",\"type\":\"BoxAnnotation\"}},\"id\":\"9774aa53-8feb-43ac-9cdb-6f9f67c4afc4\",\"type\":\"BoxZoomTool\"},{\"attributes\":{\"children\":[{\"id\":\"4323c058-1150-49de-91c7-749c56815e84\",\"type\":\"ToolbarBox\"},{\"id\":\"1f90f90a-d525-4410-88ec-079edd4240fa\",\"type\":\"Column\"}]},\"id\":\"72defb61-baef-44ce-a34b-d50723b13d60\",\"type\":\"Column\"},{\"attributes\":{\"num_minor_ticks\":10},\"id\":\"a252131d-6c5c-4d8f-ade3-f7a84d3527c6\",\"type\":\"LogTicker\"},{\"attributes\":{\"line_alpha\":0.1,\"line_color\":\"#1f77b4\",\"line_width\":1.5,\"x\":{\"field\":\"x\"},\"y\":{\"field\":\"y\"}},\"id\":\"10b72b53-bb4d-4f4a-ab85-a23a9ab8446e\",\"type\":\"Line\"},{\"attributes\":{\"ticker\":null},\"id\":\"798c5573-3613-4cab-ba39-f22660d481c2\",\"type\":\"LogTickFormatter\"},{\"attributes\":{\"children\":[{\"id\":\"ef6444ea-ec8c-43bf-ab5b-070b950acc60\",\"type\":\"Row\"}]},\"id\":\"1f90f90a-d525-4410-88ec-079edd4240fa\",\"type\":\"Column\"},{\"attributes\":{\"data_source\":{\"id\":\"54058bbb-3305-4ce2-9edf-293c34ac33f5\",\"type\":\"ColumnDataSource\"},\"glyph\":{\"id\":\"c5971d9a-27a1-433d-a969-fbefc758fe93\",\"type\":\"Line\"},\"hover_glyph\":null,\"muted_glyph\":null,\"nonselection_glyph\":{\"id\":\"d72055ae-623e-479c-b78e-6900471327f0\",\"type\":\"Line\"},\"selection_glyph\":null,\"view\":{\"id\":\"bfafab7d-bc34-4325-8163-2f6d704ee460\",\"type\":\"CDSView\"}},\"id\":\"e49ba49b-5f77-4a21-8b50-3b30b6367012\",\"type\":\"GlyphRenderer\"},{\"attributes\":{\"data_source\":{\"id\":\"198039d5-0693-4371-b967-e3f762f2494e\",\"type\":\"ColumnDataSource\"},\"glyph\":{\"id\":\"691974e1-7174-4abe-b2d7-eaf5616e495c\",\"type\":\"Circle\"},\"hover_glyph\":null,\"muted_glyph\":null,\"nonselection_glyph\":{\"id\":\"b2a08cbe-816d-439b-b3d9-2f8af7f5795b\",\"type\":\"Circle\"},\"selection_glyph\":null,\"view\":{\"id\":\"33e70ea9-5c37-4e24-868a-7cecb08b79e2\",\"type\":\"CDSView\"}},\"id\":\"4a5d2c13-2d56-4f66-ba35-e4e18b3eb7d7\",\"type\":\"GlyphRenderer\"},{\"attributes\":{},\"id\":\"bf5baf8c-324f-43ac-be54-010da6daff59\",\"type\":\"BasicTickFormatter\"},{\"attributes\":{\"callback\":null,\"column_names\":[\"x\",\"y\"],\"data\":{\"x\":{\"__ndarray__\":\"8F/Nv2Vnqr8AAAAAAAAAAAAAAAAAAAAAAAAAAAAAAAAAAAAAAAAAAAAAAAAAAAAAbjRQfiolmD/LAWebrjaRvzZwiv0Ti3g/HtNCYUp/gT8AAAAAAAAAADs9YkGQrXq/V99JH8RbeT8+NxvIBhRSPwAAAAAAAAAABvrFHjo6gT+8MOvfWzN6P2g7sxjNrok/knFzx+5EkT/UrMQg1jmZPygJqsJ2YqE/bgk9vmSzpj+Rsvz7t4uqP9ACT4KAeqk/dxQX4rlApD+s3frZXdqdP93UvLqV65Q/EBQzUz4qjD8JtVagDMiCP9y0pOLJLng/STLRPlupbT8qcoLaWuRgPz8Vz9PbQ1Q/B+cWImsvTT8VxHpAoRZHP15tdR6A3EI/+xpC3hjAQj9MN5M+miVFPzj9Ul06vkc/e6IloSv1TD/2UbqyE3dfP5Jh9TyBbX4/1hrYl10RlT/rX0g9+hWlP0m2of9xhLA/nWjvPXBWtD/MI3W+fIu4P86gqfDKorw/09zIRGNQwD9jiknqygjDP0PjDVlyz8Y/K6hm3sOIyj/Tu7pbQAXOP+zrjv/hstA/r3HkHp6n0j//s4OdpLHUP4+ZGz6v2dY/zkTHxJwW2j9VhUh+qxLdP1jKjX0kgN8/2JnGH9qh4D+Gpk8fPyPhP4kIQT86UuE/UDs24eIx4T/DQAA+srjgP5pwtz2kzN8/X5Uso2iQ3T8SkS/bLc3aPzQyRCXgndc/voDB4i5K1D8Ckvr8QS7RPxd1WnUlG80/3Gs5fkUKyT9Rf6Ql4m/GP4P6VB2LUMg/\",\"dtype\":\"float64\",\"shape\":[75]},\"y\":{\"__ndarray__\":\"S/O/Q+51ND/430zAtpRIP2vylNV0PVE/QxsjCssuWD/TR4Z78fVgP+inNsRxymc/OuuBfZWvcD/u3TFA02d3P2d3VoBnaoA/CD5h5MAGhz/1pA8HUCaQP+zrCsc9p5Y/Fb7LAKjGnz/nJ9c/SEmmPwBD+fzcQq8/FOZwv9nstT8Er5Y7M8G+P0c+r3jqkcU/yK72qKZBzj+tM989FzjVPxbgmr8yxN0/cOm5AXbg5D+5ctXAf0jtP5kqGJXUifQ/DsrqDELP/D8MCAhBojQEQDItVnmnVwxAiFXNvdHgE0BSSZ2AJuIbQAMJih9jjiNA5q4l5INuK0CPVN/5RT0zQHzxRXu8/DpAOZ7PgHrtQkAg8wGBzoxKQBSTN8DMeFJA2NmQf2ZqWEAAAAAAAFxeQEQX1LfMJmJAmpmZmZkfZUBmZmZmZhhoQLzoK0gzEWtAAAAAAAAKbkCiC+pbZoFwQAhyUMLM/XFA+I2vPTN6c0AQ5KCEmfZ0QAAAAAAAc3ZA8Btfe2bvd0AIclDCzGt5QPeNrz0z6HpAEOSghJlkfEAAAAAAAOF9QKML6ltmXX9ABTkoYeZsgED7xteeGSuBQAhyUMJM6YFAAAAAAICngkD4ja89s2WDQAU5KGHmI4RA+8bXnhnihEAIclDCTKCFQAAAAACAXoZA+I2vPbMch0AFOShh5tqHQPvG154ZmYhACHJQwkxXiUAAAAAAgBWKQPeNrz2z04pABTkoYeaRi0D7xteeGVCMQAlyUMJMDo1AAAAAAIDMjUD3ja89s4qOQGZmZmbmSI9A\",\"dtype\":\"float64\",\"shape\":[75]}}},\"id\":\"54058bbb-3305-4ce2-9edf-293c34ac33f5\",\"type\":\"ColumnDataSource\"},{\"attributes\":{\"callback\":null,\"column_names\":[\"x\",\"y\"],\"data\":{\"x\":{\"__ndarray__\":\"1gCVyf4c6r70+W+8tO8AP2R7JdYhziA/SBw82p6GLj+tIc2ZV2Q2PxRp8MuzxT0/HkPDTnuVQj9tnoCWbnhGPz1tVpkZc0o/G2SaLhaDTj9sKQbimlZRP1zetBOAI1M/7QjqRiaIVD+Cmg8El3JWP4IKnUfkw1w/Mkt8mgVtaT+80zGwlMF2PxmdeR8q+YE/KxTpfk5Bij+Qsm5RoC6SP3NUa+oHOJg/6+cLKVhGnz9/MM/OkpWiP+OZAl/yu6E/iQjw9zqSmz8rWv00lRWUP8VB6dvn0Iw/oKl+dbrLhD8qKdMPuul+P4MDEneyoHc/Ky8hsen5cT/E9EYvH9dqPzywqoL7/2Q/DCQWm9DQYT8izee6umxeP1B0stNVmlk/kObnRa8/Vz/bS33NML1WP4uBZczs0VU/dCedZs9OVz/YmqfeBc9mP9BllG3zzYM/s7GESJVHmD8GABUurmimP3tCyt1UFbE/vDsecrRctD82MV+JAFq3P1D3KseeHLs/nVVVHpN7vz/p/6iPuC7CP+lQn0c51sQ/5/cFDWA+xz9m6VRDLKzJPw+o7RXMTsw/iNr0b7Aazz8LW/WxaQLRPxd9JnevhdI/jwidQnTp1D/RMlpg8jPXPw4WyplYJtk/VrVJ6qm62j+TFrLjVOXbP2XlNJddqNw/F/Ywi7sH3T/iG0y7fwndP2YAwX9nudw/d27zKXQc3D82AhLJZyTbP2GWTev8vNk/QUJahN7y1z9fkUaiI/vVP4vFLe5YD9Q/mLQ1ZDRZ0j+k6pHlqAzRP7aBO1CnfNE/\",\"dtype\":\"float64\",\"shape\":[75]},\"y\":{\"__ndarray__\":\"GhExyth1ND/Sv8nbtpRIP2vylNV0PVE/aTum7souWD/At0SJ8fVgPw3Iuahxymc/MSNhhJWvcD/bTfBN02d3P2zb5nxnaoA/CD5h5MAGhz8NmeH1TyaQP+zrCsc9p5Y/LbKd76fGnz/bLW5ISEmmPww9YvTcQq8/JV2OstnstT8Er5Y7M8G+P0c+r3jqkcU/5h99k6ZBzj88bCIzFzjVP4enV8oyxN0//yH99nXg5D8qOpLLf0jtP5kqGJXUifQ/c9cS8kHP/D+/DpwzojQEQIEmwoanVwxA4lgXt9HgE0BSSZ2AJuIbQAMJih9jjiNA5q4l5INuK0AwTKYKRj0zQNv5fmq8/DpAaCJseHrtQkB/+zpwzoxKQM3MzMzMeFJAZmZmZmZqWEAAAAAAAFxeQM3MzMzMJmJAmpmZmZkfZUBmZmZmZhhoQDMzMzMzEWtAAAAAAAAKbkBmZmZmZoFwQM3MzMzM/XFAMzMzMzN6c0CamZmZmfZ0QAAAAAAAc3ZAZmZmZmbvd0DNzMzMzGt5QDMzMzMz6HpAmpmZmZlkfEAAAAAAAOF9QGZmZmZmXX9AZmZmZuZsgECamZmZGSuBQM3MzMxM6YFAAAAAAICngkAzMzMzs2WDQGZmZmbmI4RAmpmZmRnihEDNzMzMTKCFQAAAAACAXoZAMzMzM7Mch0BmZmZm5tqHQJqZmZkZmYhAzczMzExXiUAAAAAAgBWKQDMzMzOz04pAZmZmZuaRi0CamZmZGVCMQM3MzMxMDo1AAAAAAIDMjUAzMzMzs4qOQGZmZmbmSI9A\",\"dtype\":\"float64\",\"shape\":[75]}}},\"id\":\"d9f0351f-ca82-4578-805c-eb05ca1a7aa2\",\"type\":\"ColumnDataSource\"},{\"attributes\":{\"callback\":null,\"column_names\":[\"x\",\"y\"],\"data\":{\"x\":{\"__ndarray__\":\"aiJooTdsRj+mTNbAP7pHPwcKOOL0jEo//KTv+gifTT+9ICfY8WNQP3Z04xugA1I/+oYt5syuUz/oeOBHuWVVP0qhp2SeKVc/2Wm1I+j6WD9+PGIzRtdaP5sApnm1j1w/KAONRTdiXj82hP+A2UlgP1inEy3njmM/IRksnZppbT/dsHqlv6J3P54R6mtatoE/g2Jexsg2iT/Uh6beB0qRPyZJncesDJc/1YztA7L7nT+VqkuRgRmiP73vIZCo8KE/Sz9DIPyWnT/ssKWwPNqWP9KtUuKuG5E/kNsYDioJiT8nt0k6BR6CPyEBupwC8Hk/+rR4DSkLcj8kWKwHRmpoPyxf0618mmE/mtdUzELMXD9GIbVIJJJYP9qfEb78alU/afpCnwVzVD85UF4Ynt1UP9wx6Kxnr1Q/S+V5rqmXVj+gpvqfnktmP9JmEOvumoM/IVB6zKSJmD/oa4P+DtGmP6fJqj2xTrE/Ga/YPSCqtD+fTeJ+F6u3P/xLBm2aB7s/10ciwxu3vj+I1BAVnobBP0PbfHZYG8Q/c16qLV6Zxj9VDtlFqhnJPx8Gg4rnscs/nvjLLYRYzj+Z8Zcv/4zQP+mOVju8BNI/Q4l2aAtn1D9XWx5Sj8LWPySF+Dr10Ng/0HF/RIx/2j/ghhp9z7zbP7jnZe4YjNw/9oINNu7+3D9Ji6UKDSLdP+rMJ7EVAd0/hsqi3SyY3D+OnQTRCszbP267XgEdfdo/1rO24ROz2D96TuQCLKjWP1SQXzwPlNQ/TJ5cAF240j/9sAISmUzRPxoX9l17mtE/\",\"dtype\":\"float64\",\"shape\":[75]},\"y\":{\"__ndarray__\":\"GhExyth1ND/Sv8nbtpRIP2vylNV0PVE/aTum7souWD/At0SJ8fVgPw3Iuahxymc/MSNhhJWvcD/bTfBN02d3P2zb5nxnaoA/CD5h5MAGhz8NmeH1TyaQP+zrCsc9p5Y/LbKd76fGnz/bLW5ISEmmPww9YvTcQq8/JV2OstnstT8Er5Y7M8G+P0c+r3jqkcU/5h99k6ZBzj88bCIzFzjVP4enV8oyxN0//yH99nXg5D8qOpLLf0jtP5kqGJXUifQ/c9cS8kHP/D+/DpwzojQEQIEmwoanVwxA4lgXt9HgE0BSSZ2AJuIbQAMJih9jjiNA5q4l5INuK0AwTKYKRj0zQNv5fmq8/DpAaCJseHrtQkB/+zpwzoxKQM3MzMzMeFJAZmZmZmZqWEAAAAAAAFxeQM3MzMzMJmJAmpmZmZkfZUBmZmZmZhhoQDMzMzMzEWtAAAAAAAAKbkBmZmZmZoFwQM3MzMzM/XFAMzMzMzN6c0CamZmZmfZ0QAAAAAAAc3ZAZmZmZmbvd0DNzMzMzGt5QDMzMzMz6HpAmpmZmZlkfEAAAAAAAOF9QGZmZmZmXX9AZmZmZuZsgECamZmZGSuBQM3MzMxM6YFAAAAAAICngkAzMzMzs2WDQGZmZmbmI4RAmpmZmRnihEDNzMzMTKCFQAAAAACAXoZAMzMzM7Mch0BmZmZm5tqHQJqZmZkZmYhAzczMzExXiUAAAAAAgBWKQDMzMzOz04pAZmZmZuaRi0CamZmZGVCMQM3MzMxMDo1AAAAAAIDMjUAzMzMzs4qOQGZmZmbmSI9A\",\"dtype\":\"float64\",\"shape\":[75]}}},\"id\":\"029be77d-b3cd-4d04-8ee3-5cf3a0f25eb0\",\"type\":\"ColumnDataSource\"},{\"attributes\":{\"source\":{\"id\":\"54058bbb-3305-4ce2-9edf-293c34ac33f5\",\"type\":\"ColumnDataSource\"}},\"id\":\"bfafab7d-bc34-4325-8163-2f6d704ee460\",\"type\":\"CDSView\"},{\"attributes\":{\"source\":{\"id\":\"198039d5-0693-4371-b967-e3f762f2494e\",\"type\":\"ColumnDataSource\"}},\"id\":\"33e70ea9-5c37-4e24-868a-7cecb08b79e2\",\"type\":\"CDSView\"},{\"attributes\":{},\"id\":\"b692a258-b0b9-43b1-9816-675567a7e999\",\"type\":\"BasicTickFormatter\"},{\"attributes\":{\"callback\":null,\"column_names\":[\"x\",\"y\"],\"data\":{\"x\":{\"__ndarray__\":\"1gCVyf4c6r70+W+8tO8AP2R7JdYhziA/SBw82p6GLj+tIc2ZV2Q2PxRp8MuzxT0/HkPDTnuVQj9tnoCWbnhGPz1tVpkZc0o/G2SaLhaDTj9sKQbimlZRP1zetBOAI1M/7QjqRiaIVD+Cmg8El3JWP4IKnUfkw1w/Mkt8mgVtaT+80zGwlMF2PxmdeR8q+YE/KxTpfk5Bij+Qsm5RoC6SP3NUa+oHOJg/6+cLKVhGnz9/MM/OkpWiP+OZAl/yu6E/iQjw9zqSmz8rWv00lRWUP8VB6dvn0Iw/oKl+dbrLhD8qKdMPuul+P4MDEneyoHc/Ky8hsen5cT/E9EYvH9dqPzywqoL7/2Q/DCQWm9DQYT8izee6umxeP1B0stNVmlk/kObnRa8/Vz/bS33NML1WP4uBZczs0VU/dCedZs9OVz/YmqfeBc9mP9BllG3zzYM/s7GESJVHmD8GABUurmimP3tCyt1UFbE/vDsecrRctD82MV+JAFq3P1D3KseeHLs/nVVVHpN7vz/p/6iPuC7CP+lQn0c51sQ/5/cFDWA+xz9m6VRDLKzJPw+o7RXMTsw/iNr0b7Aazz8LW/WxaQLRPxd9JnevhdI/jwidQnTp1D/RMlpg8jPXPw4WyplYJtk/VrVJ6qm62j+TFrLjVOXbP2XlNJddqNw/F/Ywi7sH3T/iG0y7fwndP2YAwX9nudw/d27zKXQc3D82AhLJZyTbP2GWTev8vNk/QUJahN7y1z9fkUaiI/vVP4vFLe5YD9Q/mLQ1ZDRZ0j+k6pHlqAzRP7aBO1CnfNE/\",\"dtype\":\"float64\",\"shape\":[75]},\"y\":{\"__ndarray__\":\"GhExyth1ND/Sv8nbtpRIP2vylNV0PVE/aTum7souWD/At0SJ8fVgPw3Iuahxymc/MSNhhJWvcD/bTfBN02d3P2zb5nxnaoA/CD5h5MAGhz8NmeH1TyaQP+zrCsc9p5Y/LbKd76fGnz/bLW5ISEmmPww9YvTcQq8/JV2OstnstT8Er5Y7M8G+P0c+r3jqkcU/5h99k6ZBzj88bCIzFzjVP4enV8oyxN0//yH99nXg5D8qOpLLf0jtP5kqGJXUifQ/c9cS8kHP/D+/DpwzojQEQIEmwoanVwxA4lgXt9HgE0BSSZ2AJuIbQAMJih9jjiNA5q4l5INuK0AwTKYKRj0zQNv5fmq8/DpAaCJseHrtQkB/+zpwzoxKQM3MzMzMeFJAZmZmZmZqWEAAAAAAAFxeQM3MzMzMJmJAmpmZmZkfZUBmZmZmZhhoQDMzMzMzEWtAAAAAAAAKbkBmZmZmZoFwQM3MzMzM/XFAMzMzMzN6c0CamZmZmfZ0QAAAAAAAc3ZAZmZmZmbvd0DNzMzMzGt5QDMzMzMz6HpAmpmZmZlkfEAAAAAAAOF9QGZmZmZmXX9AZmZmZuZsgECamZmZGSuBQM3MzMxM6YFAAAAAAICngkAzMzMzs2WDQGZmZmbmI4RAmpmZmRnihEDNzMzMTKCFQAAAAACAXoZAMzMzM7Mch0BmZmZm5tqHQJqZmZkZmYhAzczMzExXiUAAAAAAgBWKQDMzMzOz04pAZmZmZuaRi0CamZmZGVCMQM3MzMxMDo1AAAAAAIDMjUAzMzMzs4qOQGZmZmbmSI9A\",\"dtype\":\"float64\",\"shape\":[75]}}},\"id\":\"198039d5-0693-4371-b967-e3f762f2494e\",\"type\":\"ColumnDataSource\"},{\"attributes\":{\"line_color\":\"#4daf4a\",\"line_width\":1.5,\"x\":{\"field\":\"x\"},\"y\":{\"field\":\"y\"}},\"id\":\"aac5313d-f52e-4788-970d-26106ac9ddd5\",\"type\":\"Line\"},{\"attributes\":{\"below\":[{\"id\":\"dac12030-bbb2-4261-a390-88a97d08845d\",\"type\":\"LinearAxis\"}],\"left\":[{\"id\":\"d8b11c0b-973c-4e6c-8183-7e4316b87219\",\"type\":\"LinearAxis\"}],\"plot_height\":500,\"plot_width\":400,\"renderers\":[{\"id\":\"dac12030-bbb2-4261-a390-88a97d08845d\",\"type\":\"LinearAxis\"},{\"id\":\"680ce4c5-20eb-49ba-a9d1-cbe542e3c48e\",\"type\":\"Grid\"},{\"id\":\"d8b11c0b-973c-4e6c-8183-7e4316b87219\",\"type\":\"LinearAxis\"},{\"id\":\"6ae8922a-5502-4989-b462-8f62e7f8a731\",\"type\":\"Grid\"},{\"id\":\"d8a54081-4d6a-450d-8a1d-b6a19cff94c0\",\"type\":\"BoxAnnotation\"},{\"id\":\"f0bb23fb-bd87-41e9-b354-b14618f79ed3\",\"type\":\"GlyphRenderer\"},{\"id\":\"0d7c7c7a-d189-4b86-a3b8-547c51755ecf\",\"type\":\"GlyphRenderer\"},{\"id\":\"5c74ce3d-2085-469f-92e5-97e9d7b333bc\",\"type\":\"GlyphRenderer\"},{\"id\":\"2fd07133-8ef3-4201-9a5c-5461e84c4993\",\"type\":\"GlyphRenderer\"},{\"id\":\"8bf895c9-b1d8-45de-9d92-dbc1fbee0cdc\",\"type\":\"GlyphRenderer\"}],\"title\":{\"id\":\"c0709ba7-e560-4b0b-abde-86f0f622bbd7\",\"type\":\"Title\"},\"toolbar\":{\"id\":\"551a4e48-ebd1-4e1c-a702-1afeba063e43\",\"type\":\"Toolbar\"},\"toolbar_location\":null,\"x_range\":{\"id\":\"41d8f660-64b0-487c-b60f-e21f35ecdb7e\",\"type\":\"Range1d\"},\"x_scale\":{\"id\":\"bb5359be-8151-4fbf-872b-74deb4b2384d\",\"type\":\"LinearScale\"},\"y_range\":{\"id\":\"a5b01a38-d2c6-42f0-ac7e-532a855765da\",\"type\":\"Range1d\"},\"y_scale\":{\"id\":\"691a97d4-9d19-4afc-b110-d8b4bb9bc52c\",\"type\":\"LinearScale\"}},\"id\":\"abfab9d2-55f2-4309-a28c-128ae35b0f9d\",\"subtype\":\"Figure\",\"type\":\"Plot\"},{\"attributes\":{\"data_source\":{\"id\":\"4b4896f9-8a55-4bbc-a3ee-c777e5c3676e\",\"type\":\"ColumnDataSource\"},\"glyph\":{\"id\":\"aac5313d-f52e-4788-970d-26106ac9ddd5\",\"type\":\"Line\"},\"hover_glyph\":null,\"muted_glyph\":null,\"nonselection_glyph\":{\"id\":\"10b72b53-bb4d-4f4a-ab85-a23a9ab8446e\",\"type\":\"Line\"},\"selection_glyph\":null,\"view\":{\"id\":\"de6d9f80-c636-41e6-b38b-b8cdd4c1da14\",\"type\":\"CDSView\"}},\"id\":\"47e65785-00d3-4209-af93-b70eceec7db2\",\"type\":\"GlyphRenderer\"},{\"attributes\":{\"line_alpha\":0.6,\"line_color\":\"#e41a1c\",\"line_dash\":[6],\"line_width\":5,\"x\":{\"field\":\"x\"},\"y\":{\"field\":\"y\"}},\"id\":\"c5971d9a-27a1-433d-a969-fbefc758fe93\",\"type\":\"Line\"},{\"attributes\":{\"callback\":null,\"end\":0.05243082298300001,\"start\":-0.007096783283000001},\"id\":\"a6614061-fffd-4756-9ed3-b19291bcb99b\",\"type\":\"Range1d\"},{\"attributes\":{\"fill_alpha\":{\"value\":0.7},\"fill_color\":{\"value\":\"#984ea3\"},\"line_alpha\":{\"value\":0.7},\"line_color\":{\"value\":\"#984ea3\"},\"x\":{\"field\":\"x\"},\"y\":{\"field\":\"y\"}},\"id\":\"e6f8b3ff-3f86-453d-b03a-801f7d5f4818\",\"type\":\"Square\"},{\"attributes\":{\"callback\":null,\"column_names\":[\"x\",\"y\"],\"data\":{\"x\":{\"__ndarray__\":\"aiJooTdsRj+mTNbAP7pHPwcKOOL0jEo//KTv+gifTT+9ICfY8WNQP3Z04xugA1I/+oYt5syuUz/oeOBHuWVVP0qhp2SeKVc/2Wm1I+j6WD9+PGIzRtdaP5sApnm1j1w/KAONRTdiXj82hP+A2UlgP1inEy3njmM/IRksnZppbT/dsHqlv6J3P54R6mtatoE/g2Jexsg2iT/Uh6beB0qRPyZJncesDJc/1YztA7L7nT+VqkuRgRmiP73vIZCo8KE/Sz9DIPyWnT/ssKWwPNqWP9KtUuKuG5E/kNsYDioJiT8nt0k6BR6CPyEBupwC8Hk/+rR4DSkLcj8kWKwHRmpoPyxf0618mmE/mtdUzELMXD9GIbVIJJJYP9qfEb78alU/afpCnwVzVD85UF4Ynt1UP9wx6Kxnr1Q/S+V5rqmXVj+gpvqfnktmP9JmEOvumoM/IVB6zKSJmD/oa4P+DtGmP6fJqj2xTrE/Ga/YPSCqtD+fTeJ+F6u3P/xLBm2aB7s/10ciwxu3vj+I1BAVnobBP0PbfHZYG8Q/c16qLV6Zxj9VDtlFqhnJPx8Gg4rnscs/nvjLLYRYzj+Z8Zcv/4zQP+mOVju8BNI/Q4l2aAtn1D9XWx5Sj8LWPySF+Dr10Ng/0HF/RIx/2j/ghhp9z7zbP7jnZe4YjNw/9oINNu7+3D9Ji6UKDSLdP+rMJ7EVAd0/hsqi3SyY3D+OnQTRCszbP267XgEdfdo/1rO24ROz2D96TuQCLKjWP1SQXzwPlNQ/TJ5cAF240j/9sAISmUzRPxoX9l17mtE/\",\"dtype\":\"float64\",\"shape\":[75]},\"y\":{\"__ndarray__\":\"GhExyth1ND/Sv8nbtpRIP2vylNV0PVE/aTum7souWD/At0SJ8fVgPw3Iuahxymc/MSNhhJWvcD/bTfBN02d3P2zb5nxnaoA/CD5h5MAGhz8NmeH1TyaQP+zrCsc9p5Y/LbKd76fGnz/bLW5ISEmmPww9YvTcQq8/JV2OstnstT8Er5Y7M8G+P0c+r3jqkcU/5h99k6ZBzj88bCIzFzjVP4enV8oyxN0//yH99nXg5D8qOpLLf0jtP5kqGJXUifQ/c9cS8kHP/D+/DpwzojQEQIEmwoanVwxA4lgXt9HgE0BSSZ2AJuIbQAMJih9jjiNA5q4l5INuK0AwTKYKRj0zQNv5fmq8/DpAaCJseHrtQkB/+zpwzoxKQM3MzMzMeFJAZmZmZmZqWEAAAAAAAFxeQM3MzMzMJmJAmpmZmZkfZUBmZmZmZhhoQDMzMzMzEWtAAAAAAAAKbkBmZmZmZoFwQM3MzMzM/XFAMzMzMzN6c0CamZmZmfZ0QAAAAAAAc3ZAZmZmZmbvd0DNzMzMzGt5QDMzMzMz6HpAmpmZmZlkfEAAAAAAAOF9QGZmZmZmXX9AZmZmZuZsgECamZmZGSuBQM3MzMxM6YFAAAAAAICngkAzMzMzs2WDQGZmZmbmI4RAmpmZmRnihEDNzMzMTKCFQAAAAACAXoZAMzMzM7Mch0BmZmZm5tqHQJqZmZkZmYhAzczMzExXiUAAAAAAgBWKQDMzMzOz04pAZmZmZuaRi0CamZmZGVCMQM3MzMxMDo1AAAAAAIDMjUAzMzMzs4qOQGZmZmbmSI9A\",\"dtype\":\"float64\",\"shape\":[75]}}},\"id\":\"a4b31f79-af85-4ff0-a588-04edae241401\",\"type\":\"ColumnDataSource\"},{\"attributes\":{\"callback\":null,\"column_names\":[\"x\",\"y\"],\"data\":{\"x\":{\"__ndarray__\":\"aiJooTdsRj+mTNbAP7pHPwcKOOL0jEo//KTv+gifTT+9ICfY8WNQP3Z04xugA1I/+oYt5syuUz/oeOBHuWVVP0qhp2SeKVc/2Wm1I+j6WD9+PGIzRtdaP5sApnm1j1w/KAONRTdiXj82hP+A2UlgP1inEy3njmM/IRksnZppbT/dsHqlv6J3P54R6mtatoE/g2Jexsg2iT/Uh6beB0qRPyZJncesDJc/1YztA7L7nT+VqkuRgRmiP73vIZCo8KE/Sz9DIPyWnT/ssKWwPNqWP9KtUuKuG5E/kNsYDioJiT8nt0k6BR6CPyEBupwC8Hk/+rR4DSkLcj8kWKwHRmpoPyxf0618mmE/mtdUzELMXD9GIbVIJJJYP9qfEb78alU/afpCnwVzVD85UF4Ynt1UP9wx6Kxnr1Q/S+V5rqmXVj+gpvqfnktmP9JmEOvumoM/IVB6zKSJmD/oa4P+DtGmP6fJqj2xTrE/Ga/YPSCqtD+fTeJ+F6u3P/xLBm2aB7s/10ciwxu3vj+I1BAVnobBP0PbfHZYG8Q/c16qLV6Zxj9VDtlFqhnJPx8Gg4rnscs/nvjLLYRYzj+Z8Zcv/4zQP+mOVju8BNI/Q4l2aAtn1D9XWx5Sj8LWPySF+Dr10Ng/0HF/RIx/2j/ghhp9z7zbP7jnZe4YjNw/9oINNu7+3D9Ji6UKDSLdP+rMJ7EVAd0/hsqi3SyY3D+OnQTRCszbP267XgEdfdo/1rO24ROz2D96TuQCLKjWP1SQXzwPlNQ/TJ5cAF240j/9sAISmUzRPxoX9l17mtE/\",\"dtype\":\"float64\",\"shape\":[75]},\"y\":{\"__ndarray__\":\"GhExyth1ND/Sv8nbtpRIP2vylNV0PVE/aTum7souWD/At0SJ8fVgPw3Iuahxymc/MSNhhJWvcD/bTfBN02d3P2zb5nxnaoA/CD5h5MAGhz8NmeH1TyaQP+zrCsc9p5Y/LbKd76fGnz/bLW5ISEmmPww9YvTcQq8/JV2OstnstT8Er5Y7M8G+P0c+r3jqkcU/5h99k6ZBzj88bCIzFzjVP4enV8oyxN0//yH99nXg5D8qOpLLf0jtP5kqGJXUifQ/c9cS8kHP/D+/DpwzojQEQIEmwoanVwxA4lgXt9HgE0BSSZ2AJuIbQAMJih9jjiNA5q4l5INuK0AwTKYKRj0zQNv5fmq8/DpAaCJseHrtQkB/+zpwzoxKQM3MzMzMeFJAZmZmZmZqWEAAAAAAAFxeQM3MzMzMJmJAmpmZmZkfZUBmZmZmZhhoQDMzMzMzEWtAAAAAAAAKbkBmZmZmZoFwQM3MzMzM/XFAMzMzMzN6c0CamZmZmfZ0QAAAAAAAc3ZAZmZmZmbvd0DNzMzMzGt5QDMzMzMz6HpAmpmZmZlkfEAAAAAAAOF9QGZmZmZmXX9AZmZmZuZsgECamZmZGSuBQM3MzMxM6YFAAAAAAICngkAzMzMzs2WDQGZmZmbmI4RAmpmZmRnihEDNzMzMTKCFQAAAAACAXoZAMzMzM7Mch0BmZmZm5tqHQJqZmZkZmYhAzczMzExXiUAAAAAAgBWKQDMzMzOz04pAZmZmZuaRi0CamZmZGVCMQM3MzMxMDo1AAAAAAIDMjUAzMzMzs4qOQGZmZmbmSI9A\",\"dtype\":\"float64\",\"shape\":[75]}}},\"id\":\"fc7551ba-b087-4f99-9248-bae9d1604553\",\"type\":\"ColumnDataSource\"},{\"attributes\":{\"source\":{\"id\":\"4b4896f9-8a55-4bbc-a3ee-c777e5c3676e\",\"type\":\"ColumnDataSource\"}},\"id\":\"de6d9f80-c636-41e6-b38b-b8cdd4c1da14\",\"type\":\"CDSView\"},{\"attributes\":{\"fill_alpha\":{\"value\":0.7},\"fill_color\":{\"value\":\"#984ea3\"},\"line_alpha\":{\"value\":0.7},\"line_color\":{\"value\":\"#984ea3\"},\"x\":{\"field\":\"x\"},\"y\":{\"field\":\"y\"}},\"id\":\"533339b8-fe6f-40d7-8c9f-dd222b18309f\",\"type\":\"Square\"},{\"attributes\":{\"label\":{\"value\":\"CLIRAD `coolr_bands`\"},\"renderers\":[{\"id\":\"e49ba49b-5f77-4a21-8b50-3b30b6367012\",\"type\":\"GlyphRenderer\"}]},\"id\":\"761cbd98-d1bc-4f64-8667-1182ab277749\",\"type\":\"LegendItem\"},{\"attributes\":{\"label\":{\"value\":\"CRD\"},\"renderers\":[{\"id\":\"4a5d2c13-2d56-4f66-ba35-e4e18b3eb7d7\",\"type\":\"GlyphRenderer\"},{\"id\":\"47e65785-00d3-4209-af93-b70eceec7db2\",\"type\":\"GlyphRenderer\"}]},\"id\":\"8449c659-f07d-489c-82ea-fa52394be8ce\",\"type\":\"LegendItem\"},{\"attributes\":{\"data_source\":{\"id\":\"029be77d-b3cd-4d04-8ee3-5cf3a0f25eb0\",\"type\":\"ColumnDataSource\"},\"glyph\":{\"id\":\"533339b8-fe6f-40d7-8c9f-dd222b18309f\",\"type\":\"Square\"},\"hover_glyph\":null,\"muted_glyph\":null,\"nonselection_glyph\":{\"id\":\"9ae74be4-44d6-4893-a570-46aa2115ca91\",\"type\":\"Square\"},\"selection_glyph\":null,\"view\":{\"id\":\"3819c805-833e-4fb9-85d8-5546deb78be2\",\"type\":\"CDSView\"}},\"id\":\"a203e989-7a1e-4161-900c-d18f8e4ecb46\",\"type\":\"GlyphRenderer\"},{\"attributes\":{\"callback\":null,\"column_names\":[\"x\",\"y\"],\"data\":{\"x\":{\"__ndarray__\":\"1gCVyf4c6r70+W+8tO8AP2R7JdYhziA/SBw82p6GLj+tIc2ZV2Q2PxRp8MuzxT0/HkPDTnuVQj9tnoCWbnhGPz1tVpkZc0o/G2SaLhaDTj9sKQbimlZRP1zetBOAI1M/7QjqRiaIVD+Cmg8El3JWP4IKnUfkw1w/Mkt8mgVtaT+80zGwlMF2PxmdeR8q+YE/KxTpfk5Bij+Qsm5RoC6SP3NUa+oHOJg/6+cLKVhGnz9/MM/OkpWiP+OZAl/yu6E/iQjw9zqSmz8rWv00lRWUP8VB6dvn0Iw/oKl+dbrLhD8qKdMPuul+P4MDEneyoHc/Ky8hsen5cT/E9EYvH9dqPzywqoL7/2Q/DCQWm9DQYT8izee6umxeP1B0stNVmlk/kObnRa8/Vz/bS33NML1WP4uBZczs0VU/dCedZs9OVz/YmqfeBc9mP9BllG3zzYM/s7GESJVHmD8GABUurmimP3tCyt1UFbE/vDsecrRctD82MV+JAFq3P1D3KseeHLs/nVVVHpN7vz/p/6iPuC7CP+lQn0c51sQ/5/cFDWA+xz9m6VRDLKzJPw+o7RXMTsw/iNr0b7Aazz8LW/WxaQLRPxd9JnevhdI/jwidQnTp1D/RMlpg8jPXPw4WyplYJtk/VrVJ6qm62j+TFrLjVOXbP2XlNJddqNw/F/Ywi7sH3T/iG0y7fwndP2YAwX9nudw/d27zKXQc3D82AhLJZyTbP2GWTev8vNk/QUJahN7y1z9fkUaiI/vVP4vFLe5YD9Q/mLQ1ZDRZ0j+k6pHlqAzRP7aBO1CnfNE/\",\"dtype\":\"float64\",\"shape\":[75]},\"y\":{\"__ndarray__\":\"GhExyth1ND/Sv8nbtpRIP2vylNV0PVE/aTum7souWD/At0SJ8fVgPw3Iuahxymc/MSNhhJWvcD/bTfBN02d3P2zb5nxnaoA/CD5h5MAGhz8NmeH1TyaQP+zrCsc9p5Y/LbKd76fGnz/bLW5ISEmmPww9YvTcQq8/JV2OstnstT8Er5Y7M8G+P0c+r3jqkcU/5h99k6ZBzj88bCIzFzjVP4enV8oyxN0//yH99nXg5D8qOpLLf0jtP5kqGJXUifQ/c9cS8kHP/D+/DpwzojQEQIEmwoanVwxA4lgXt9HgE0BSSZ2AJuIbQAMJih9jjiNA5q4l5INuK0AwTKYKRj0zQNv5fmq8/DpAaCJseHrtQkB/+zpwzoxKQM3MzMzMeFJAZmZmZmZqWEAAAAAAAFxeQM3MzMzMJmJAmpmZmZkfZUBmZmZmZhhoQDMzMzMzEWtAAAAAAAAKbkBmZmZmZoFwQM3MzMzM/XFAMzMzMzN6c0CamZmZmfZ0QAAAAAAAc3ZAZmZmZmbvd0DNzMzMzGt5QDMzMzMz6HpAmpmZmZlkfEAAAAAAAOF9QGZmZmZmXX9AZmZmZuZsgECamZmZGSuBQM3MzMxM6YFAAAAAAICngkAzMzMzs2WDQGZmZmbmI4RAmpmZmRnihEDNzMzMTKCFQAAAAACAXoZAMzMzM7Mch0BmZmZm5tqHQJqZmZkZmYhAzczMzExXiUAAAAAAgBWKQDMzMzOz04pAZmZmZuaRi0CamZmZGVCMQM3MzMxMDo1AAAAAAIDMjUAzMzMzs4qOQGZmZmbmSI9A\",\"dtype\":\"float64\",\"shape\":[75]}}},\"id\":\"f3e085e6-1b54-4bae-9050-1178bab3591c\",\"type\":\"ColumnDataSource\"},{\"attributes\":{\"fill_alpha\":{\"value\":0.1},\"fill_color\":{\"value\":\"#1f77b4\"},\"line_alpha\":{\"value\":0.1},\"line_color\":{\"value\":\"#1f77b4\"},\"x\":{\"field\":\"x\"},\"y\":{\"field\":\"y\"}},\"id\":\"9ae74be4-44d6-4893-a570-46aa2115ca91\",\"type\":\"Square\"},{\"attributes\":{\"axis_label\":\"cooling rate [K/day]\",\"formatter\":{\"id\":\"bf5baf8c-324f-43ac-be54-010da6daff59\",\"type\":\"BasicTickFormatter\"},\"plot\":{\"id\":\"c00d566b-8859-4b9f-9d8d-8ac4a5bcc620\",\"subtype\":\"Figure\",\"type\":\"Plot\"},\"ticker\":{\"id\":\"b526eea7-8b8b-45da-8cb3-5379423a97cb\",\"type\":\"BasicTicker\"}},\"id\":\"f6ac305d-0adc-4830-bef1-3734caecd9ff\",\"type\":\"LinearAxis\"},{\"attributes\":{\"source\":{\"id\":\"029be77d-b3cd-4d04-8ee3-5cf3a0f25eb0\",\"type\":\"ColumnDataSource\"}},\"id\":\"3819c805-833e-4fb9-85d8-5546deb78be2\",\"type\":\"CDSView\"},{\"attributes\":{},\"id\":\"c94d1088-61aa-40ac-b437-db52a900d81b\",\"type\":\"LinearScale\"},{\"attributes\":{\"line_alpha\":0.6,\"line_color\":\"#984ea3\",\"line_width\":3,\"x\":{\"field\":\"x\"},\"y\":{\"field\":\"y\"}},\"id\":\"3b494250-2aa6-4e4e-b9d2-dcd88eb73b60\",\"type\":\"Line\"},{\"attributes\":{},\"id\":\"062a33ea-a9db-41cf-b7a1-43d7b49d7852\",\"type\":\"LogScale\"},{\"attributes\":{\"label\":{\"value\":\"WGT igg=10 wgt_flux=2\"},\"renderers\":[{\"id\":\"a203e989-7a1e-4161-900c-d18f8e4ecb46\",\"type\":\"GlyphRenderer\"},{\"id\":\"b1778bc9-d7eb-4d0a-85e7-6baa2286cff7\",\"type\":\"GlyphRenderer\"}]},\"id\":\"d1b275d2-fae4-4629-963e-4107eaf526c1\",\"type\":\"LegendItem\"},{\"attributes\":{\"data_source\":{\"id\":\"a4b31f79-af85-4ff0-a588-04edae241401\",\"type\":\"ColumnDataSource\"},\"glyph\":{\"id\":\"3b494250-2aa6-4e4e-b9d2-dcd88eb73b60\",\"type\":\"Line\"},\"hover_glyph\":null,\"muted_glyph\":null,\"nonselection_glyph\":{\"id\":\"b462d5ad-bc31-4130-833f-d4ab814b44d6\",\"type\":\"Line\"},\"selection_glyph\":null,\"view\":{\"id\":\"3be1a518-10b0-498d-8b0a-f612f1a7f337\",\"type\":\"CDSView\"}},\"id\":\"b1778bc9-d7eb-4d0a-85e7-6baa2286cff7\",\"type\":\"GlyphRenderer\"},{\"attributes\":{\"source\":{\"id\":\"fc7551ba-b087-4f99-9248-bae9d1604553\",\"type\":\"ColumnDataSource\"}},\"id\":\"b8165107-4d7b-470a-88ac-687525ff8814\",\"type\":\"CDSView\"},{\"attributes\":{\"line_alpha\":0.1,\"line_color\":\"#1f77b4\",\"line_width\":3,\"x\":{\"field\":\"x\"},\"y\":{\"field\":\"y\"}},\"id\":\"b462d5ad-bc31-4130-833f-d4ab814b44d6\",\"type\":\"Line\"},{\"attributes\":{\"source\":{\"id\":\"a4b31f79-af85-4ff0-a588-04edae241401\",\"type\":\"ColumnDataSource\"}},\"id\":\"3be1a518-10b0-498d-8b0a-f612f1a7f337\",\"type\":\"CDSView\"},{\"attributes\":{\"line_color\":\"#4daf4a\",\"line_width\":1.5,\"x\":{\"field\":\"x\"},\"y\":{\"field\":\"y\"}},\"id\":\"a9c42b2d-2a3c-43f7-8507-497cd9ab63b1\",\"type\":\"Line\"},{\"attributes\":{\"callback\":null,\"column_names\":[\"x\",\"y\"],\"data\":{\"x\":{\"__ndarray__\":\"aiJooTdsRj+mTNbAP7pHPwcKOOL0jEo//KTv+gifTT+9ICfY8WNQP3Z04xugA1I/+oYt5syuUz/oeOBHuWVVP0qhp2SeKVc/2Wm1I+j6WD9+PGIzRtdaP5sApnm1j1w/KAONRTdiXj82hP+A2UlgP1inEy3njmM/IRksnZppbT/dsHqlv6J3P54R6mtatoE/g2Jexsg2iT/Uh6beB0qRPyZJncesDJc/1YztA7L7nT+VqkuRgRmiP73vIZCo8KE/Sz9DIPyWnT/ssKWwPNqWP9KtUuKuG5E/kNsYDioJiT8nt0k6BR6CPyEBupwC8Hk/+rR4DSkLcj8kWKwHRmpoPyxf0618mmE/mtdUzELMXD9GIbVIJJJYP9qfEb78alU/afpCnwVzVD85UF4Ynt1UP9wx6Kxnr1Q/S+V5rqmXVj+gpvqfnktmP9JmEOvumoM/IVB6zKSJmD/oa4P+DtGmP6fJqj2xTrE/Ga/YPSCqtD+fTeJ+F6u3P/xLBm2aB7s/10ciwxu3vj+I1BAVnobBP0PbfHZYG8Q/c16qLV6Zxj9VDtlFqhnJPx8Gg4rnscs/nvjLLYRYzj+Z8Zcv/4zQP+mOVju8BNI/Q4l2aAtn1D9XWx5Sj8LWPySF+Dr10Ng/0HF/RIx/2j/ghhp9z7zbP7jnZe4YjNw/9oINNu7+3D9Ji6UKDSLdP+rMJ7EVAd0/hsqi3SyY3D+OnQTRCszbP267XgEdfdo/1rO24ROz2D96TuQCLKjWP1SQXzwPlNQ/TJ5cAF240j/9sAISmUzRPxoX9l17mtE/\",\"dtype\":\"float64\",\"shape\":[75]},\"y\":{\"__ndarray__\":\"GhExyth1ND/Sv8nbtpRIP2vylNV0PVE/aTum7souWD/At0SJ8fVgPw3Iuahxymc/MSNhhJWvcD/bTfBN02d3P2zb5nxnaoA/CD5h5MAGhz8NmeH1TyaQP+zrCsc9p5Y/LbKd76fGnz/bLW5ISEmmPww9YvTcQq8/JV2OstnstT8Er5Y7M8G+P0c+r3jqkcU/5h99k6ZBzj88bCIzFzjVP4enV8oyxN0//yH99nXg5D8qOpLLf0jtP5kqGJXUifQ/c9cS8kHP/D+/DpwzojQEQIEmwoanVwxA4lgXt9HgE0BSSZ2AJuIbQAMJih9jjiNA5q4l5INuK0AwTKYKRj0zQNv5fmq8/DpAaCJseHrtQkB/+zpwzoxKQM3MzMzMeFJAZmZmZmZqWEAAAAAAAFxeQM3MzMzMJmJAmpmZmZkfZUBmZmZmZhhoQDMzMzMzEWtAAAAAAAAKbkBmZmZmZoFwQM3MzMzM/XFAMzMzMzN6c0CamZmZmfZ0QAAAAAAAc3ZAZmZmZmbvd0DNzMzMzGt5QDMzMzMz6HpAmpmZmZlkfEAAAAAAAOF9QGZmZmZmXX9AZmZmZuZsgECamZmZGSuBQM3MzMxM6YFAAAAAAICngkAzMzMzs2WDQGZmZmbmI4RAmpmZmRnihEDNzMzMTKCFQAAAAACAXoZAMzMzM7Mch0BmZmZm5tqHQJqZmZkZmYhAzczMzExXiUAAAAAAgBWKQDMzMzOz04pAZmZmZuaRi0CamZmZGVCMQM3MzMxMDo1AAAAAAIDMjUAzMzMzs4qOQGZmZmbmSI9A\",\"dtype\":\"float64\",\"shape\":[75]}}},\"id\":\"36294121-49e0-456f-95d9-fd5244227fd9\",\"type\":\"ColumnDataSource\"},{\"attributes\":{\"active_drag\":\"auto\",\"active_inspect\":\"auto\",\"active_scroll\":\"auto\",\"active_tap\":\"auto\",\"tools\":[{\"id\":\"e34769e5-a405-47d5-bdc7-d51148ff67b2\",\"type\":\"PanTool\"},{\"id\":\"0c80aae0-ff1f-4458-9724-78a4956765fc\",\"type\":\"WheelZoomTool\"},{\"id\":\"7cc390ee-5b0d-45fa-afc2-7a2bfab0699a\",\"type\":\"BoxZoomTool\"},{\"id\":\"a5e53d0a-050d-4bab-b72d-ae18b6c316d4\",\"type\":\"SaveTool\"},{\"id\":\"64722f42-f66f-457a-806c-0b29b6f9cbe9\",\"type\":\"ResetTool\"},{\"id\":\"a01a43d9-1be9-4280-8e89-d0c9aef268de\",\"type\":\"HelpTool\"}]},\"id\":\"551a4e48-ebd1-4e1c-a702-1afeba063e43\",\"type\":\"Toolbar\"},{\"attributes\":{\"line_alpha\":0.6,\"line_color\":\"#984ea3\",\"line_width\":3,\"x\":{\"field\":\"x\"},\"y\":{\"field\":\"y\"}},\"id\":\"05b9ee2c-0aca-4ddb-a415-c84899325c26\",\"type\":\"Line\"},{\"attributes\":{\"data_source\":{\"id\":\"36294121-49e0-456f-95d9-fd5244227fd9\",\"type\":\"ColumnDataSource\"},\"glyph\":{\"id\":\"05b9ee2c-0aca-4ddb-a415-c84899325c26\",\"type\":\"Line\"},\"hover_glyph\":null,\"muted_glyph\":null,\"nonselection_glyph\":{\"id\":\"2a57709e-2b10-4c8b-a8a7-010bf9249397\",\"type\":\"Line\"},\"selection_glyph\":null,\"view\":{\"id\":\"2341ac83-b035-46f0-bca9-8925cb342e4c\",\"type\":\"CDSView\"}},\"id\":\"8bf895c9-b1d8-45de-9d92-dbc1fbee0cdc\",\"type\":\"GlyphRenderer\"},{\"attributes\":{\"source\":{\"id\":\"d9f0351f-ca82-4578-805c-eb05ca1a7aa2\",\"type\":\"ColumnDataSource\"}},\"id\":\"30f49aa2-051c-42b4-bb14-eff910d7cdf1\",\"type\":\"CDSView\"},{\"attributes\":{\"toolbar\":{\"id\":\"1a444c4d-7402-4c11-b557-aaa121c97fe8\",\"type\":\"ProxyToolbar\"},\"toolbar_location\":\"above\"},\"id\":\"4323c058-1150-49de-91c7-749c56815e84\",\"type\":\"ToolbarBox\"},{\"attributes\":{\"dimension\":1,\"plot\":{\"id\":\"c00d566b-8859-4b9f-9d8d-8ac4a5bcc620\",\"subtype\":\"Figure\",\"type\":\"Plot\"},\"ticker\":{\"id\":\"a252131d-6c5c-4d8f-ade3-f7a84d3527c6\",\"type\":\"LogTicker\"}},\"id\":\"c26647fd-bb97-4227-8c4a-b9a4704c7cf4\",\"type\":\"Grid\"},{\"attributes\":{\"line_alpha\":0.1,\"line_color\":\"#1f77b4\",\"line_width\":3,\"x\":{\"field\":\"x\"},\"y\":{\"field\":\"y\"}},\"id\":\"2a57709e-2b10-4c8b-a8a7-010bf9249397\",\"type\":\"Line\"},{\"attributes\":{\"plot\":null,\"text\":\"Log pressure scale\"},\"id\":\"9e45544e-4913-4782-819a-3815663a77e6\",\"type\":\"Title\"},{\"attributes\":{\"active_drag\":\"auto\",\"active_inspect\":\"auto\",\"active_scroll\":\"auto\",\"active_tap\":\"auto\",\"tools\":[{\"id\":\"75cb7a13-61b1-4f82-bea2-07ad96d56621\",\"type\":\"PanTool\"},{\"id\":\"a718e603-fbc6-46c3-9ffd-ea9e7c098784\",\"type\":\"WheelZoomTool\"},{\"id\":\"9774aa53-8feb-43ac-9cdb-6f9f67c4afc4\",\"type\":\"BoxZoomTool\"},{\"id\":\"67b69143-e091-458e-a056-ac1ae94521d6\",\"type\":\"SaveTool\"},{\"id\":\"f462db63-b87e-4fd2-8c54-af6d828c8823\",\"type\":\"ResetTool\"},{\"id\":\"7bdce6de-97fe-4af4-8600-6296abaf593c\",\"type\":\"HelpTool\"}]},\"id\":\"51680d26-8e8d-465d-aa57-4b28343be7d5\",\"type\":\"Toolbar\"},{\"attributes\":{\"source\":{\"id\":\"f3e085e6-1b54-4bae-9050-1178bab3591c\",\"type\":\"ColumnDataSource\"}},\"id\":\"a3768d6b-672a-495e-956c-79ca3d72d3e8\",\"type\":\"CDSView\"},{\"attributes\":{\"source\":{\"id\":\"36294121-49e0-456f-95d9-fd5244227fd9\",\"type\":\"ColumnDataSource\"}},\"id\":\"2341ac83-b035-46f0-bca9-8925cb342e4c\",\"type\":\"CDSView\"},{\"attributes\":{\"line_alpha\":0.6,\"line_color\":\"#e41a1c\",\"line_dash\":[6],\"line_width\":5,\"x\":{\"field\":\"x\"},\"y\":{\"field\":\"y\"}},\"id\":\"e7ff9896-e894-4d54-947b-34c864539537\",\"type\":\"Line\"},{\"attributes\":{\"fill_alpha\":{\"value\":0.1},\"fill_color\":{\"value\":\"#1f77b4\"},\"line_alpha\":{\"value\":0.1},\"line_color\":{\"value\":\"#1f77b4\"},\"x\":{\"field\":\"x\"},\"y\":{\"field\":\"y\"}},\"id\":\"dae50da5-3268-4b1d-a596-c67c67c289c8\",\"type\":\"Square\"},{\"attributes\":{\"plot\":{\"id\":\"c00d566b-8859-4b9f-9d8d-8ac4a5bcc620\",\"subtype\":\"Figure\",\"type\":\"Plot\"},\"ticker\":{\"id\":\"b526eea7-8b8b-45da-8cb3-5379423a97cb\",\"type\":\"BasicTicker\"}},\"id\":\"609c6774-8b37-48ee-9157-b8f280abbdc8\",\"type\":\"Grid\"},{\"attributes\":{\"fill_alpha\":{\"value\":0.7},\"fill_color\":{\"value\":\"#4daf4a\"},\"line_alpha\":{\"value\":0.7},\"line_color\":{\"value\":\"#4daf4a\"},\"x\":{\"field\":\"x\"},\"y\":{\"field\":\"y\"}},\"id\":\"a00683a9-10e3-4221-b747-6498df4fdf5e\",\"type\":\"Circle\"},{\"attributes\":{\"below\":[{\"id\":\"f6ac305d-0adc-4830-bef1-3734caecd9ff\",\"type\":\"LinearAxis\"}],\"left\":[{\"id\":\"0b469224-8de5-4d74-9843-63917af26a21\",\"type\":\"LogAxis\"}],\"plot_height\":500,\"plot_width\":560,\"renderers\":[{\"id\":\"f6ac305d-0adc-4830-bef1-3734caecd9ff\",\"type\":\"LinearAxis\"},{\"id\":\"609c6774-8b37-48ee-9157-b8f280abbdc8\",\"type\":\"Grid\"},{\"id\":\"0b469224-8de5-4d74-9843-63917af26a21\",\"type\":\"LogAxis\"},{\"id\":\"c26647fd-bb97-4227-8c4a-b9a4704c7cf4\",\"type\":\"Grid\"},{\"id\":\"322c5d25-17e2-4158-bad9-72a2d0328c14\",\"type\":\"BoxAnnotation\"},{\"id\":\"e49ba49b-5f77-4a21-8b50-3b30b6367012\",\"type\":\"GlyphRenderer\"},{\"id\":\"4a5d2c13-2d56-4f66-ba35-e4e18b3eb7d7\",\"type\":\"GlyphRenderer\"},{\"id\":\"47e65785-00d3-4209-af93-b70eceec7db2\",\"type\":\"GlyphRenderer\"},{\"id\":\"a203e989-7a1e-4161-900c-d18f8e4ecb46\",\"type\":\"GlyphRenderer\"},{\"id\":\"b1778bc9-d7eb-4d0a-85e7-6baa2286cff7\",\"type\":\"GlyphRenderer\"},{\"id\":\"b9c8e7b1-4609-429c-8fb1-65d11a7083ab\",\"type\":\"Legend\"}],\"right\":[{\"id\":\"b9c8e7b1-4609-429c-8fb1-65d11a7083ab\",\"type\":\"Legend\"}],\"title\":{\"id\":\"9e45544e-4913-4782-819a-3815663a77e6\",\"type\":\"Title\"},\"toolbar\":{\"id\":\"51680d26-8e8d-465d-aa57-4b28343be7d5\",\"type\":\"Toolbar\"},\"toolbar_location\":null,\"x_range\":{\"id\":\"a6614061-fffd-4756-9ed3-b19291bcb99b\",\"type\":\"Range1d\"},\"x_scale\":{\"id\":\"c94d1088-61aa-40ac-b437-db52a900d81b\",\"type\":\"LinearScale\"},\"y_range\":{\"id\":\"1296ad02-e9f5-45a0-bd22-0138f52613ef\",\"type\":\"Range1d\"},\"y_scale\":{\"id\":\"062a33ea-a9db-41cf-b7a1-43d7b49d7852\",\"type\":\"LogScale\"}},\"id\":\"c00d566b-8859-4b9f-9d8d-8ac4a5bcc620\",\"subtype\":\"Figure\",\"type\":\"Plot\"},{\"attributes\":{\"line_alpha\":0.1,\"line_color\":\"#1f77b4\",\"line_dash\":[6],\"line_width\":5,\"x\":{\"field\":\"x\"},\"y\":{\"field\":\"y\"}},\"id\":\"f55af84e-fcbd-4c76-931e-ba01b3a119f6\",\"type\":\"Line\"},{\"attributes\":{\"data_source\":{\"id\":\"fc7551ba-b087-4f99-9248-bae9d1604553\",\"type\":\"ColumnDataSource\"},\"glyph\":{\"id\":\"e6f8b3ff-3f86-453d-b03a-801f7d5f4818\",\"type\":\"Square\"},\"hover_glyph\":null,\"muted_glyph\":null,\"nonselection_glyph\":{\"id\":\"dae50da5-3268-4b1d-a596-c67c67c289c8\",\"type\":\"Square\"},\"selection_glyph\":null,\"view\":{\"id\":\"b8165107-4d7b-470a-88ac-687525ff8814\",\"type\":\"CDSView\"}},\"id\":\"2fd07133-8ef3-4201-9a5c-5461e84c4993\",\"type\":\"GlyphRenderer\"},{\"attributes\":{},\"id\":\"b526eea7-8b8b-45da-8cb3-5379423a97cb\",\"type\":\"BasicTicker\"},{\"attributes\":{\"source\":{\"id\":\"0316d86f-12ad-457b-9e28-25f0e04dfa41\",\"type\":\"ColumnDataSource\"}},\"id\":\"b83083f9-0008-482b-928f-3b03f83684fc\",\"type\":\"CDSView\"},{\"attributes\":{\"dimension\":1,\"plot\":{\"id\":\"abfab9d2-55f2-4309-a28c-128ae35b0f9d\",\"subtype\":\"Figure\",\"type\":\"Plot\"},\"ticker\":{\"id\":\"fdf2f202-d457-4a05-87ba-73d921a9a948\",\"type\":\"BasicTicker\"}},\"id\":\"6ae8922a-5502-4989-b462-8f62e7f8a731\",\"type\":\"Grid\"},{\"attributes\":{\"fill_alpha\":{\"value\":0.1},\"fill_color\":{\"value\":\"#1f77b4\"},\"line_alpha\":{\"value\":0.1},\"line_color\":{\"value\":\"#1f77b4\"},\"x\":{\"field\":\"x\"},\"y\":{\"field\":\"y\"}},\"id\":\"517cbc31-bf45-43ae-a0a3-e001c0fcc1ee\",\"type\":\"Circle\"},{\"attributes\":{\"line_alpha\":0.1,\"line_color\":\"#1f77b4\",\"line_width\":1.5,\"x\":{\"field\":\"x\"},\"y\":{\"field\":\"y\"}},\"id\":\"cce25356-1b65-45ac-a055-e9a05fb21e33\",\"type\":\"Line\"},{\"attributes\":{\"line_alpha\":0.1,\"line_color\":\"#1f77b4\",\"line_dash\":[6],\"line_width\":5,\"x\":{\"field\":\"x\"},\"y\":{\"field\":\"y\"}},\"id\":\"d72055ae-623e-479c-b78e-6900471327f0\",\"type\":\"Line\"},{\"attributes\":{\"axis_label\":\"pressure [mb]\",\"formatter\":{\"id\":\"b692a258-b0b9-43b1-9816-675567a7e999\",\"type\":\"BasicTickFormatter\"},\"plot\":{\"id\":\"abfab9d2-55f2-4309-a28c-128ae35b0f9d\",\"subtype\":\"Figure\",\"type\":\"Plot\"},\"ticker\":{\"id\":\"fdf2f202-d457-4a05-87ba-73d921a9a948\",\"type\":\"BasicTicker\"}},\"id\":\"d8b11c0b-973c-4e6c-8183-7e4316b87219\",\"type\":\"LinearAxis\"},{\"attributes\":{},\"id\":\"0c80aae0-ff1f-4458-9724-78a4956765fc\",\"type\":\"WheelZoomTool\"},{\"attributes\":{},\"id\":\"a5e53d0a-050d-4bab-b72d-ae18b6c316d4\",\"type\":\"SaveTool\"},{\"attributes\":{\"callback\":null,\"column_names\":[\"x\",\"y\"],\"data\":{\"x\":{\"__ndarray__\":\"8F/Nv2Vnqr8AAAAAAAAAAAAAAAAAAAAAAAAAAAAAAAAAAAAAAAAAAAAAAAAAAAAAbjRQfiolmD/LAWebrjaRvzZwiv0Ti3g/HtNCYUp/gT8AAAAAAAAAADs9YkGQrXq/V99JH8RbeT8+NxvIBhRSPwAAAAAAAAAABvrFHjo6gT+8MOvfWzN6P2g7sxjNrok/knFzx+5EkT/UrMQg1jmZPygJqsJ2YqE/bgk9vmSzpj+Rsvz7t4uqP9ACT4KAeqk/dxQX4rlApD+s3frZXdqdP93UvLqV65Q/EBQzUz4qjD8JtVagDMiCP9y0pOLJLng/STLRPlupbT8qcoLaWuRgPz8Vz9PbQ1Q/B+cWImsvTT8VxHpAoRZHP15tdR6A3EI/+xpC3hjAQj9MN5M+miVFPzj9Ul06vkc/e6IloSv1TD/2UbqyE3dfP5Jh9TyBbX4/1hrYl10RlT/rX0g9+hWlP0m2of9xhLA/nWjvPXBWtD/MI3W+fIu4P86gqfDKorw/09zIRGNQwD9jiknqygjDP0PjDVlyz8Y/K6hm3sOIyj/Tu7pbQAXOP+zrjv/hstA/r3HkHp6n0j//s4OdpLHUP4+ZGz6v2dY/zkTHxJwW2j9VhUh+qxLdP1jKjX0kgN8/2JnGH9qh4D+Gpk8fPyPhP4kIQT86UuE/UDs24eIx4T/DQAA+srjgP5pwtz2kzN8/X5Uso2iQ3T8SkS/bLc3aPzQyRCXgndc/voDB4i5K1D8Ckvr8QS7RPxd1WnUlG80/3Gs5fkUKyT9Rf6Ql4m/GP4P6VB2LUMg/\",\"dtype\":\"float64\",\"shape\":[75]},\"y\":{\"__ndarray__\":\"S/O/Q+51ND/430zAtpRIP2vylNV0PVE/QxsjCssuWD/TR4Z78fVgP+inNsRxymc/OuuBfZWvcD/u3TFA02d3P2d3VoBnaoA/CD5h5MAGhz/1pA8HUCaQP+zrCsc9p5Y/Fb7LAKjGnz/nJ9c/SEmmPwBD+fzcQq8/FOZwv9nstT8Er5Y7M8G+P0c+r3jqkcU/yK72qKZBzj+tM989FzjVPxbgmr8yxN0/cOm5AXbg5D+5ctXAf0jtP5kqGJXUifQ/DsrqDELP/D8MCAhBojQEQDItVnmnVwxAiFXNvdHgE0BSSZ2AJuIbQAMJih9jjiNA5q4l5INuK0CPVN/5RT0zQHzxRXu8/DpAOZ7PgHrtQkAg8wGBzoxKQBSTN8DMeFJA2NmQf2ZqWEAAAAAAAFxeQEQX1LfMJmJAmpmZmZkfZUBmZmZmZhhoQLzoK0gzEWtAAAAAAAAKbkCiC+pbZoFwQAhyUMLM/XFA+I2vPTN6c0AQ5KCEmfZ0QAAAAAAAc3ZA8Btfe2bvd0AIclDCzGt5QPeNrz0z6HpAEOSghJlkfEAAAAAAAOF9QKML6ltmXX9ABTkoYeZsgED7xteeGSuBQAhyUMJM6YFAAAAAAICngkD4ja89s2WDQAU5KGHmI4RA+8bXnhnihEAIclDCTKCFQAAAAACAXoZA+I2vPbMch0AFOShh5tqHQPvG154ZmYhACHJQwkxXiUAAAAAAgBWKQPeNrz2z04pABTkoYeaRi0D7xteeGVCMQAlyUMJMDo1AAAAAAIDMjUD3ja89s4qOQGZmZmbmSI9A\",\"dtype\":\"float64\",\"shape\":[75]}}},\"id\":\"0316d86f-12ad-457b-9e28-25f0e04dfa41\",\"type\":\"ColumnDataSource\"},{\"attributes\":{\"tools\":[{\"id\":\"e34769e5-a405-47d5-bdc7-d51148ff67b2\",\"type\":\"PanTool\"},{\"id\":\"0c80aae0-ff1f-4458-9724-78a4956765fc\",\"type\":\"WheelZoomTool\"},{\"id\":\"7cc390ee-5b0d-45fa-afc2-7a2bfab0699a\",\"type\":\"BoxZoomTool\"},{\"id\":\"a5e53d0a-050d-4bab-b72d-ae18b6c316d4\",\"type\":\"SaveTool\"},{\"id\":\"64722f42-f66f-457a-806c-0b29b6f9cbe9\",\"type\":\"ResetTool\"},{\"id\":\"a01a43d9-1be9-4280-8e89-d0c9aef268de\",\"type\":\"HelpTool\"},{\"id\":\"75cb7a13-61b1-4f82-bea2-07ad96d56621\",\"type\":\"PanTool\"},{\"id\":\"a718e603-fbc6-46c3-9ffd-ea9e7c098784\",\"type\":\"WheelZoomTool\"},{\"id\":\"9774aa53-8feb-43ac-9cdb-6f9f67c4afc4\",\"type\":\"BoxZoomTool\"},{\"id\":\"67b69143-e091-458e-a056-ac1ae94521d6\",\"type\":\"SaveTool\"},{\"id\":\"f462db63-b87e-4fd2-8c54-af6d828c8823\",\"type\":\"ResetTool\"},{\"id\":\"7bdce6de-97fe-4af4-8600-6296abaf593c\",\"type\":\"HelpTool\"}]},\"id\":\"1a444c4d-7402-4c11-b557-aaa121c97fe8\",\"type\":\"ProxyToolbar\"},{\"attributes\":{},\"id\":\"691a97d4-9d19-4afc-b110-d8b4bb9bc52c\",\"type\":\"LinearScale\"},{\"attributes\":{\"plot\":{\"id\":\"abfab9d2-55f2-4309-a28c-128ae35b0f9d\",\"subtype\":\"Figure\",\"type\":\"Plot\"},\"ticker\":{\"id\":\"d4688f51-a28a-410b-8154-d01d9737a2ff\",\"type\":\"BasicTicker\"}},\"id\":\"680ce4c5-20eb-49ba-a9d1-cbe542e3c48e\",\"type\":\"Grid\"},{\"attributes\":{},\"id\":\"bb5359be-8151-4fbf-872b-74deb4b2384d\",\"type\":\"LinearScale\"},{\"attributes\":{},\"id\":\"bc139b5c-5ee9-4888-a4c5-bacceecd827a\",\"type\":\"BasicTickFormatter\"},{\"attributes\":{},\"id\":\"d4688f51-a28a-410b-8154-d01d9737a2ff\",\"type\":\"BasicTicker\"},{\"attributes\":{\"data_source\":{\"id\":\"d9f0351f-ca82-4578-805c-eb05ca1a7aa2\",\"type\":\"ColumnDataSource\"},\"glyph\":{\"id\":\"a9c42b2d-2a3c-43f7-8507-497cd9ab63b1\",\"type\":\"Line\"},\"hover_glyph\":null,\"muted_glyph\":null,\"nonselection_glyph\":{\"id\":\"cce25356-1b65-45ac-a055-e9a05fb21e33\",\"type\":\"Line\"},\"selection_glyph\":null,\"view\":{\"id\":\"30f49aa2-051c-42b4-bb14-eff910d7cdf1\",\"type\":\"CDSView\"}},\"id\":\"5c74ce3d-2085-469f-92e5-97e9d7b333bc\",\"type\":\"GlyphRenderer\"},{\"attributes\":{\"data_source\":{\"id\":\"0316d86f-12ad-457b-9e28-25f0e04dfa41\",\"type\":\"ColumnDataSource\"},\"glyph\":{\"id\":\"e7ff9896-e894-4d54-947b-34c864539537\",\"type\":\"Line\"},\"hover_glyph\":null,\"muted_glyph\":null,\"nonselection_glyph\":{\"id\":\"f55af84e-fcbd-4c76-931e-ba01b3a119f6\",\"type\":\"Line\"},\"selection_glyph\":null,\"view\":{\"id\":\"b83083f9-0008-482b-928f-3b03f83684fc\",\"type\":\"CDSView\"}},\"id\":\"f0bb23fb-bd87-41e9-b354-b14618f79ed3\",\"type\":\"GlyphRenderer\"},{\"attributes\":{},\"id\":\"fdf2f202-d457-4a05-87ba-73d921a9a948\",\"type\":\"BasicTicker\"},{\"attributes\":{},\"id\":\"64722f42-f66f-457a-806c-0b29b6f9cbe9\",\"type\":\"ResetTool\"},{\"attributes\":{\"overlay\":{\"id\":\"d8a54081-4d6a-450d-8a1d-b6a19cff94c0\",\"type\":\"BoxAnnotation\"}},\"id\":\"7cc390ee-5b0d-45fa-afc2-7a2bfab0699a\",\"type\":\"BoxZoomTool\"},{\"attributes\":{\"axis_label\":\"pressure [mb]\",\"formatter\":{\"id\":\"798c5573-3613-4cab-ba39-f22660d481c2\",\"type\":\"LogTickFormatter\"},\"plot\":{\"id\":\"c00d566b-8859-4b9f-9d8d-8ac4a5bcc620\",\"subtype\":\"Figure\",\"type\":\"Plot\"},\"ticker\":{\"id\":\"a252131d-6c5c-4d8f-ade3-f7a84d3527c6\",\"type\":\"LogTicker\"}},\"id\":\"0b469224-8de5-4d74-9843-63917af26a21\",\"type\":\"LogAxis\"},{\"attributes\":{\"bottom_units\":\"screen\",\"fill_alpha\":{\"value\":0.5},\"fill_color\":{\"value\":\"lightgrey\"},\"left_units\":\"screen\",\"level\":\"overlay\",\"line_alpha\":{\"value\":1.0},\"line_color\":{\"value\":\"black\"},\"line_dash\":[4,4],\"line_width\":{\"value\":2},\"plot\":null,\"render_mode\":\"css\",\"right_units\":\"screen\",\"top_units\":\"screen\"},\"id\":\"d8a54081-4d6a-450d-8a1d-b6a19cff94c0\",\"type\":\"BoxAnnotation\"},{\"attributes\":{},\"id\":\"e34769e5-a405-47d5-bdc7-d51148ff67b2\",\"type\":\"PanTool\"},{\"attributes\":{\"axis_label\":\"cooling rate [K/day]\",\"formatter\":{\"id\":\"bc139b5c-5ee9-4888-a4c5-bacceecd827a\",\"type\":\"BasicTickFormatter\"},\"plot\":{\"id\":\"abfab9d2-55f2-4309-a28c-128ae35b0f9d\",\"subtype\":\"Figure\",\"type\":\"Plot\"},\"ticker\":{\"id\":\"d4688f51-a28a-410b-8154-d01d9737a2ff\",\"type\":\"BasicTicker\"}},\"id\":\"dac12030-bbb2-4261-a390-88a97d08845d\",\"type\":\"LinearAxis\"},{\"attributes\":{\"data_source\":{\"id\":\"f3e085e6-1b54-4bae-9050-1178bab3591c\",\"type\":\"ColumnDataSource\"},\"glyph\":{\"id\":\"a00683a9-10e3-4221-b747-6498df4fdf5e\",\"type\":\"Circle\"},\"hover_glyph\":null,\"muted_glyph\":null,\"nonselection_glyph\":{\"id\":\"517cbc31-bf45-43ae-a0a3-e001c0fcc1ee\",\"type\":\"Circle\"},\"selection_glyph\":null,\"view\":{\"id\":\"a3768d6b-672a-495e-956c-79ca3d72d3e8\",\"type\":\"CDSView\"}},\"id\":\"0d7c7c7a-d189-4b86-a3b8-547c51755ecf\",\"type\":\"GlyphRenderer\"},{\"attributes\":{\"callback\":null,\"end\":0.01,\"start\":1020},\"id\":\"1296ad02-e9f5-45a0-bd22-0138f52613ef\",\"type\":\"Range1d\"},{\"attributes\":{\"plot\":null,\"text\":\"Linear pressure scale\"},\"id\":\"c0709ba7-e560-4b0b-abde-86f0f622bbd7\",\"type\":\"Title\"},{\"attributes\":{\"callback\":null,\"end\":0.01,\"start\":1020},\"id\":\"a5b01a38-d2c6-42f0-ac7e-532a855765da\",\"type\":\"Range1d\"},{\"attributes\":{},\"id\":\"a01a43d9-1be9-4280-8e89-d0c9aef268de\",\"type\":\"HelpTool\"},{\"attributes\":{\"items\":[{\"id\":\"761cbd98-d1bc-4f64-8667-1182ab277749\",\"type\":\"LegendItem\"},{\"id\":\"8449c659-f07d-489c-82ea-fa52394be8ce\",\"type\":\"LegendItem\"},{\"id\":\"d1b275d2-fae4-4629-963e-4107eaf526c1\",\"type\":\"LegendItem\"}],\"label_text_font_size\":{\"value\":\"8pt\"},\"location\":[10,-30],\"plot\":{\"id\":\"c00d566b-8859-4b9f-9d8d-8ac4a5bcc620\",\"subtype\":\"Figure\",\"type\":\"Plot\"}},\"id\":\"b9c8e7b1-4609-429c-8fb1-65d11a7083ab\",\"type\":\"Legend\"}],\"root_ids\":[\"72defb61-baef-44ce-a34b-d50723b13d60\"]},\"title\":\"Bokeh Application\",\"version\":\"0.12.14\"}};\n",
       "  var render_items = [{\"docid\":\"324dadbf-fb5b-4108-9e5d-411095950d41\",\"elementid\":\"2ce09bb0-cb59-4ad1-b086-6372470f356e\",\"modelid\":\"72defb61-baef-44ce-a34b-d50723b13d60\"}];\n",
       "  root.Bokeh.embed.embed_items_notebook(docs_json, render_items);\n",
       "\n",
       "  }\n",
       "  if (root.Bokeh !== undefined) {\n",
       "    embed_document(root);\n",
       "  } else {\n",
       "    var attempts = 0;\n",
       "    var timer = setInterval(function(root) {\n",
       "      if (root.Bokeh !== undefined) {\n",
       "        embed_document(root);\n",
       "        clearInterval(timer);\n",
       "      }\n",
       "      attempts++;\n",
       "      if (attempts > 100) {\n",
       "        console.log(\"Bokeh: ERROR: Unable to run BokehJS code because BokehJS library is missing\")\n",
       "        clearInterval(timer);\n",
       "      }\n",
       "    }, 10, root)\n",
       "  }\n",
       "})(window);"
      ],
      "application/vnd.bokehjs_exec.v0+json": ""
     },
     "metadata": {
      "application/vnd.bokehjs_exec.v0+json": {
       "id": "72defb61-baef-44ce-a34b-d50723b13d60"
      }
     },
     "output_type": "display_data"
    },
    {
     "name": "stdout",
     "output_type": "stream",
     "text": [
      "FIGURE. Cooling rate profiles.\n"
     ]
    },
    {
     "data": {
      "text/html": [
       "<a id=\"Flux_Comparison\"></a>"
      ],
      "text/plain": [
       "<IPython.core.display.HTML object>"
      ]
     },
     "metadata": {},
     "output_type": "display_data"
    },
    {
     "data": {
      "text/markdown": [
       "# Flux Comparison"
      ],
      "text/plain": [
       "<IPython.core.display.Markdown object>"
      ]
     },
     "metadata": {},
     "output_type": "display_data"
    },
    {
     "data": {
      "text/html": [
       "<div>\n",
       "<style>\n",
       "    .dataframe thead tr:only-child th {\n",
       "        text-align: right;\n",
       "    }\n",
       "\n",
       "    .dataframe thead th {\n",
       "        text-align: left;\n",
       "    }\n",
       "\n",
       "    .dataframe tbody tr th {\n",
       "        vertical-align: top;\n",
       "    }\n",
       "</style>\n",
       "<table border=\"1\" class=\"dataframe\">\n",
       "  <thead>\n",
       "    <tr style=\"text-align: right;\">\n",
       "      <th></th>\n",
       "      <th></th>\n",
       "      <th>flug</th>\n",
       "      <th>fldg</th>\n",
       "      <th>fnetg</th>\n",
       "    </tr>\n",
       "    <tr>\n",
       "      <th>pressure</th>\n",
       "      <th>level</th>\n",
       "      <th></th>\n",
       "      <th></th>\n",
       "      <th></th>\n",
       "    </tr>\n",
       "  </thead>\n",
       "  <tbody>\n",
       "    <tr>\n",
       "      <th>0.0000</th>\n",
       "      <th>1</th>\n",
       "      <td>-29.472113</td>\n",
       "      <td>0.000000</td>\n",
       "      <td>-29.472113</td>\n",
       "    </tr>\n",
       "    <tr>\n",
       "      <th>1.0685</th>\n",
       "      <th>24</th>\n",
       "      <td>-29.471614</td>\n",
       "      <td>0.002412</td>\n",
       "      <td>-29.469202</td>\n",
       "    </tr>\n",
       "    <tr>\n",
       "      <th>1013.0000</th>\n",
       "      <th>76</th>\n",
       "      <td>-36.235409</td>\n",
       "      <td>32.494585</td>\n",
       "      <td>-3.740822</td>\n",
       "    </tr>\n",
       "  </tbody>\n",
       "</table>\n",
       "</div>"
      ],
      "text/plain": [
       "                      flug       fldg      fnetg\n",
       "pressure  level                                 \n",
       "0.0000    1     -29.472113   0.000000 -29.472113\n",
       "1.0685    24    -29.471614   0.002412 -29.469202\n",
       "1013.0000 76    -36.235409  32.494585  -3.740822"
      ]
     },
     "metadata": {},
     "output_type": "display_data"
    },
    {
     "name": "stdout",
     "output_type": "stream",
     "text": [
      "Table. Fluxes. WGT igg=10 wgt_flux=1\n"
     ]
    },
    {
     "data": {
      "text/html": [
       "<div>\n",
       "<style>\n",
       "    .dataframe thead tr:only-child th {\n",
       "        text-align: right;\n",
       "    }\n",
       "\n",
       "    .dataframe thead th {\n",
       "        text-align: left;\n",
       "    }\n",
       "\n",
       "    .dataframe tbody tr th {\n",
       "        vertical-align: top;\n",
       "    }\n",
       "</style>\n",
       "<table border=\"1\" class=\"dataframe\">\n",
       "  <thead>\n",
       "    <tr style=\"text-align: right;\">\n",
       "      <th></th>\n",
       "      <th></th>\n",
       "      <th>flug</th>\n",
       "      <th>fldg</th>\n",
       "      <th>fnetg</th>\n",
       "    </tr>\n",
       "    <tr>\n",
       "      <th>pressure</th>\n",
       "      <th>level</th>\n",
       "      <th></th>\n",
       "      <th></th>\n",
       "      <th></th>\n",
       "    </tr>\n",
       "  </thead>\n",
       "  <tbody>\n",
       "    <tr>\n",
       "      <th>0.0000</th>\n",
       "      <th>1</th>\n",
       "      <td>-29.472619</td>\n",
       "      <td>0.000000</td>\n",
       "      <td>-29.472619</td>\n",
       "    </tr>\n",
       "    <tr>\n",
       "      <th>1.0685</th>\n",
       "      <th>24</th>\n",
       "      <td>-29.472354</td>\n",
       "      <td>0.002743</td>\n",
       "      <td>-29.469611</td>\n",
       "    </tr>\n",
       "    <tr>\n",
       "      <th>1013.0000</th>\n",
       "      <th>76</th>\n",
       "      <td>-36.235408</td>\n",
       "      <td>32.486006</td>\n",
       "      <td>-3.749402</td>\n",
       "    </tr>\n",
       "  </tbody>\n",
       "</table>\n",
       "</div>"
      ],
      "text/plain": [
       "                      flug       fldg      fnetg\n",
       "pressure  level                                 \n",
       "0.0000    1     -29.472619   0.000000 -29.472619\n",
       "1.0685    24    -29.472354   0.002743 -29.469611\n",
       "1013.0000 76    -36.235408  32.486006  -3.749402"
      ]
     },
     "metadata": {},
     "output_type": "display_data"
    },
    {
     "name": "stdout",
     "output_type": "stream",
     "text": [
      "Table. Fluxes. CRD\n"
     ]
    },
    {
     "data": {
      "text/html": [
       "<div>\n",
       "<style>\n",
       "    .dataframe thead tr:only-child th {\n",
       "        text-align: right;\n",
       "    }\n",
       "\n",
       "    .dataframe thead th {\n",
       "        text-align: left;\n",
       "    }\n",
       "\n",
       "    .dataframe tbody tr th {\n",
       "        vertical-align: top;\n",
       "    }\n",
       "</style>\n",
       "<table border=\"1\" class=\"dataframe\">\n",
       "  <thead>\n",
       "    <tr style=\"text-align: right;\">\n",
       "      <th></th>\n",
       "      <th></th>\n",
       "      <th>flug</th>\n",
       "      <th>fldg</th>\n",
       "      <th>fnetg</th>\n",
       "    </tr>\n",
       "    <tr>\n",
       "      <th>pressure</th>\n",
       "      <th>level</th>\n",
       "      <th></th>\n",
       "      <th></th>\n",
       "      <th></th>\n",
       "    </tr>\n",
       "  </thead>\n",
       "  <tbody>\n",
       "    <tr>\n",
       "      <th>1.000000e-08</th>\n",
       "      <th>1</th>\n",
       "      <td>-28.697180</td>\n",
       "      <td>9.536743e-07</td>\n",
       "      <td>-28.697178</td>\n",
       "    </tr>\n",
       "    <tr>\n",
       "      <th>1.068500e+00</th>\n",
       "      <th>24</th>\n",
       "      <td>-28.696405</td>\n",
       "      <td>3.519297e-03</td>\n",
       "      <td>-28.692886</td>\n",
       "    </tr>\n",
       "    <tr>\n",
       "      <th>1.013000e+03</th>\n",
       "      <th>76</th>\n",
       "      <td>-36.235409</td>\n",
       "      <td>3.485086e+01</td>\n",
       "      <td>-1.384548</td>\n",
       "    </tr>\n",
       "  </tbody>\n",
       "</table>\n",
       "</div>"
      ],
      "text/plain": [
       "                         flug          fldg      fnetg\n",
       "pressure     level                                    \n",
       "1.000000e-08 1     -28.697180  9.536743e-07 -28.697178\n",
       "1.068500e+00 24    -28.696405  3.519297e-03 -28.692886\n",
       "1.013000e+03 76    -36.235409  3.485086e+01  -1.384548"
      ]
     },
     "metadata": {},
     "output_type": "display_data"
    },
    {
     "name": "stdout",
     "output_type": "stream",
     "text": [
      "Table. Fluxes. CLIRAD\n"
     ]
    },
    {
     "data": {
      "text/html": [
       "<div>\n",
       "<style>\n",
       "    .dataframe thead tr:only-child th {\n",
       "        text-align: right;\n",
       "    }\n",
       "\n",
       "    .dataframe thead th {\n",
       "        text-align: left;\n",
       "    }\n",
       "\n",
       "    .dataframe tbody tr th {\n",
       "        vertical-align: top;\n",
       "    }\n",
       "</style>\n",
       "<table border=\"1\" class=\"dataframe\">\n",
       "  <thead>\n",
       "    <tr style=\"text-align: right;\">\n",
       "      <th></th>\n",
       "      <th></th>\n",
       "      <th>flug</th>\n",
       "      <th>fldg</th>\n",
       "      <th>fnetg</th>\n",
       "    </tr>\n",
       "    <tr>\n",
       "      <th>pressure</th>\n",
       "      <th>level</th>\n",
       "      <th></th>\n",
       "      <th></th>\n",
       "      <th></th>\n",
       "    </tr>\n",
       "  </thead>\n",
       "  <tbody>\n",
       "    <tr>\n",
       "      <th>0.0000</th>\n",
       "      <th>1</th>\n",
       "      <td>-5.063210e-04</td>\n",
       "      <td>0.000000</td>\n",
       "      <td>-0.000506</td>\n",
       "    </tr>\n",
       "    <tr>\n",
       "      <th>1.0685</th>\n",
       "      <th>24</th>\n",
       "      <td>-7.401200e-04</td>\n",
       "      <td>0.000332</td>\n",
       "      <td>-0.000409</td>\n",
       "    </tr>\n",
       "    <tr>\n",
       "      <th>1013.0000</th>\n",
       "      <th>76</th>\n",
       "      <td>5.300000e-07</td>\n",
       "      <td>-0.008579</td>\n",
       "      <td>-0.008580</td>\n",
       "    </tr>\n",
       "  </tbody>\n",
       "</table>\n",
       "</div>"
      ],
      "text/plain": [
       "                         flug      fldg     fnetg\n",
       "pressure  level                                  \n",
       "0.0000    1     -5.063210e-04  0.000000 -0.000506\n",
       "1.0685    24    -7.401200e-04  0.000332 -0.000409\n",
       "1013.0000 76     5.300000e-07 -0.008579 -0.008580"
      ]
     },
     "metadata": {},
     "output_type": "display_data"
    },
    {
     "name": "stdout",
     "output_type": "stream",
     "text": [
      "Table. Fluxes. (CRD) - (WGT igg=10 wgt_flux=1)\n"
     ]
    },
    {
     "data": {
      "text/html": [
       "<div>\n",
       "<style>\n",
       "    .dataframe thead tr:only-child th {\n",
       "        text-align: right;\n",
       "    }\n",
       "\n",
       "    .dataframe thead th {\n",
       "        text-align: left;\n",
       "    }\n",
       "\n",
       "    .dataframe tbody tr th {\n",
       "        vertical-align: top;\n",
       "    }\n",
       "</style>\n",
       "<table border=\"1\" class=\"dataframe\">\n",
       "  <thead>\n",
       "    <tr style=\"text-align: right;\">\n",
       "      <th></th>\n",
       "      <th></th>\n",
       "      <th>flug</th>\n",
       "      <th>fldg</th>\n",
       "      <th>fnetg</th>\n",
       "    </tr>\n",
       "    <tr>\n",
       "      <th>pressure</th>\n",
       "      <th>level</th>\n",
       "      <th></th>\n",
       "      <th></th>\n",
       "      <th></th>\n",
       "    </tr>\n",
       "  </thead>\n",
       "  <tbody>\n",
       "    <tr>\n",
       "      <th>0.0000</th>\n",
       "      <th>1</th>\n",
       "      <td>7.749327e-01</td>\n",
       "      <td>9.536743e-07</td>\n",
       "      <td>0.774935</td>\n",
       "    </tr>\n",
       "    <tr>\n",
       "      <th>1.0685</th>\n",
       "      <th>24</th>\n",
       "      <td>7.752089e-01</td>\n",
       "      <td>1.107511e-03</td>\n",
       "      <td>0.776316</td>\n",
       "    </tr>\n",
       "    <tr>\n",
       "      <th>1013.0000</th>\n",
       "      <th>76</th>\n",
       "      <td>-4.700000e-07</td>\n",
       "      <td>2.356276e+00</td>\n",
       "      <td>2.356274</td>\n",
       "    </tr>\n",
       "  </tbody>\n",
       "</table>\n",
       "</div>"
      ],
      "text/plain": [
       "                         flug          fldg     fnetg\n",
       "pressure  level                                      \n",
       "0.0000    1      7.749327e-01  9.536743e-07  0.774935\n",
       "1.0685    24     7.752089e-01  1.107511e-03  0.776316\n",
       "1013.0000 76    -4.700000e-07  2.356276e+00  2.356274"
      ]
     },
     "metadata": {},
     "output_type": "display_data"
    },
    {
     "name": "stdout",
     "output_type": "stream",
     "text": [
      "Table. Fluxes. (CLIRAD) - (WGT igg=10 wgt_flux=1)\n"
     ]
    },
    {
     "data": {
      "text/html": [
       "<a id=\"Best-fit_Parameters\"></a>"
      ],
      "text/plain": [
       "<IPython.core.display.HTML object>"
      ]
     },
     "metadata": {},
     "output_type": "display_data"
    },
    {
     "data": {
      "text/markdown": [
       "# Best-fit Parameters"
      ],
      "text/plain": [
       "<IPython.core.display.Markdown object>"
      ]
     },
     "metadata": {},
     "output_type": "display_data"
    },
    {
     "name": "stdout",
     "output_type": "stream",
     "text": [
      "Best-fit values for each (gas, band)\n",
      "------------------------------------\n",
      "o h2o band3a\n",
      "  atmpro = mls\n",
      "  band = 3a\n",
      "  commitnumber = 2bd1f75\n",
      "  conc = None\n",
      "  dv = 0.01\n",
      "  klin = 0\n",
      "  molecule = h2o\n",
      "  ng_adju = [0, 0]\n",
      "  ng_refs = [2, 6]\n",
      "  nv = 100\n",
      "  option_compute_btable = 0\n",
      "  option_compute_ktable = 1\n",
      "  option_wgt_flux = 1\n",
      "  option_wgt_k = 1\n",
      "  ref_pts = [(10, 250), (600, 250)]\n",
      "  tsfc = 294\n",
      "  vmax = 620\n",
      "  vmin = 540\n",
      "  w_diffuse = [(1.9, 1.7), (1.4, 1.4, 1.4, 1.55, 1.6, 1.66)]\n",
      "  wgt = [(0.7, 0.7), (0.7, 0.5, 0.5, 0.5, 0.5, 0.5)]\n"
     ]
    }
   ],
   "source": [
    "script()"
   ]
  },
  {
   "cell_type": "code",
   "execution_count": 13,
   "metadata": {
    "collapsed": true
   },
   "outputs": [
    {
     "data": {
      "text/html": [
       "<script>\n",
       "code_show=true; \n",
       "function code_toggle() {\n",
       " if (code_show){\n",
       " $('div.input').hide();\n",
       " } else {\n",
       " $('div.input').show();\n",
       " }\n",
       " code_show = !code_show\n",
       "} \n",
       "$( document ).ready(code_toggle);\n",
       "</script>\n",
       "<form action=\"javascript:code_toggle()\"><input type=\"submit\" value=\"Click here to toggle on/off the raw code.\"></form>"
      ],
      "text/plain": [
       "<IPython.core.display.HTML object>"
      ]
     },
     "execution_count": 13,
     "metadata": {},
     "output_type": "execute_result"
    }
   ],
   "source": [
    "display.HTML('''<script>\n",
    "code_show=true; \n",
    "function code_toggle() {\n",
    " if (code_show){\n",
    " $('div.input').hide();\n",
    " } else {\n",
    " $('div.input').show();\n",
    " }\n",
    " code_show = !code_show\n",
    "} \n",
    "$( document ).ready(code_toggle);\n",
    "</script>\n",
    "<form action=\"javascript:code_toggle()\"><input type=\"submit\" value=\"Click here to toggle on/off the raw code.\"></form>''')"
   ]
  }
 ],
 "metadata": {
  "kernelspec": {
   "display_name": "Python 3",
   "language": "python",
   "name": "python3"
  },
  "language_info": {
   "codemirror_mode": {
    "name": "ipython",
    "version": 3
   },
   "file_extension": ".py",
   "mimetype": "text/x-python",
   "name": "python",
   "nbconvert_exporter": "python",
   "pygments_lexer": "ipython3",
   "version": "3.6.1"
  }
 },
 "nbformat": 4,
 "nbformat_minor": 2
}
