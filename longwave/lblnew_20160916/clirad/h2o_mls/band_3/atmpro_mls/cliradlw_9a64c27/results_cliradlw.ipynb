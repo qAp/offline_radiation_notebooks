{
 "cells": [
  {
   "cell_type": "code",
   "execution_count": 1,
   "metadata": {
    "collapsed": true
   },
   "outputs": [],
   "source": [
    "%matplotlib inline\n",
    "import os\n",
    "import re\n",
    "import io\n",
    "import itertools\n",
    "import pprint\n",
    "\n",
    "from bokeh.io import output_notebook, show\n",
    "from bokeh.layouts import gridplot\n",
    "from bokeh.plotting import figure\n",
    "from bokeh.models import Range1d, Legend\n",
    "from bokeh.palettes import all_palettes\n",
    "\n",
    "import matplotlib\n",
    "import matplotlib.pyplot as plt\n",
    "import numpy as np\n",
    "import pandas as pd\n",
    "import xarray as xr\n",
    "\n",
    "import climatools.lblnew.bestfit_params as bestfits\n",
    "from climatools.lblnew import setup_bestfit, setup_overlap\n",
    "import climatools.lblnew.pipeline as pipe_lblnew\n",
    "import climatools.cliradlw.setup as setup_cliradlw\n",
    "import climatools.cliradlw.pipeline as pipe_cliradlw\n",
    "\n",
    "import climatools.html.html as climahtml\n",
    "from climatools.lblnew.dataio import *\n",
    "from climatools.plot.plot import *\n",
    "\n",
    "\n",
    "import IPython.display as display"
   ]
  },
  {
   "cell_type": "code",
   "execution_count": 2,
   "metadata": {
    "collapsed": true
   },
   "outputs": [],
   "source": [
    "%run param.py"
   ]
  },
  {
   "cell_type": "code",
   "execution_count": 3,
   "metadata": {
    "collapsed": true
   },
   "outputs": [],
   "source": [
    "def load_output_file(path_csv):\n",
    "    '''\n",
    "    Load lblnew output .csv file to xarray.Dataset\n",
    "    \n",
    "    Parameters\n",
    "    ----------\n",
    "    path_csv: str\n",
    "              Path to the .csv file to be loaded.\n",
    "    ds: xarray.Dataset\n",
    "        Data in the input file in the form of an xarray.Dataset.\n",
    "    '''\n",
    "    toindex = ['band', 'pressure', 'igg', 'g']    \n",
    "    df = pd.read_csv(path_csv, sep=r'\\s+')\n",
    "    df = df.set_index([i for i in toindex if i in df.columns])\n",
    "    df = df.rename(columns={'sfu': 'flug',\n",
    "                            'sfd': 'fldg',\n",
    "                            'fnet': 'fnetg',\n",
    "                            'coolr': 'coolrg'})\n",
    "    ds = xr.Dataset.from_dataframe(df)\n",
    "\n",
    "    for l in ('level', 'layer'):\n",
    "        if l in ds.data_vars:\n",
    "            if len(ds[l].dims) > 1:\n",
    "                surface = {d: 0 for d in ds.dims if d != 'pressure'}\n",
    "                coord_level = ds[l][surface]\n",
    "                ds.coords[l] = ('pressure', coord_level)\n",
    "            else:\n",
    "                ds.coords[l] = ('pressure', ds[l])\n",
    "    \n",
    "    return ds"
   ]
  },
  {
   "cell_type": "code",
   "execution_count": 4,
   "metadata": {
    "collapsed": true
   },
   "outputs": [],
   "source": [
    "def lblnew_setup(param=None):\n",
    "    if 'ng_refs' in param:\n",
    "        return {'setup': setup_bestfit,\n",
    "                'fname_flux_crd': 'output_flux.dat',\n",
    "                'fname_cool_crd': 'output_coolr.dat',\n",
    "                'fname_flux_wgt': 'output_wfluxg.dat',\n",
    "                'fname_cool_wgt': 'output_wcoolrg.dat'}\n",
    "    else:\n",
    "        return {'setup': setup_overlap,\n",
    "                'fname_flux_crd': 'output_flux.dat',\n",
    "                'fname_cool_crd': 'output_coolr.dat',\n",
    "                'fname_flux_wgt': 'output_wflux.dat',\n",
    "                'fname_cool_wgt': 'output_wcoolr.dat'}\n",
    "\n",
    "    \n",
    "def load_lblnew_data(param):\n",
    "    \n",
    "    fname_dsname = [('fname_flux_crd', 'ds_flux_crd'),\n",
    "                    ('fname_cool_crd', 'ds_cool_crd'),\n",
    "                    ('fname_flux_wgt', 'ds_flux_wgt'),\n",
    "                    ('fname_cool_wgt', 'ds_cool_wgt')]\n",
    "    \n",
    "    d = lblnew_setup(param)\n",
    "    dir_fortran = pipe_lblnew.get_dir_case(param, setup=d['setup'])\n",
    "    \n",
    "    data_dict = {}\n",
    "    for fname, dsname in fname_dsname:\n",
    "        fpath = os.path.join(dir_fortran, d[fname])\n",
    "        data_dict[dsname] = load_output_file(fpath)\n",
    "    return data_dict\n",
    "    \n",
    "\n",
    "    \n",
    "    "
   ]
  },
  {
   "cell_type": "code",
   "execution_count": 5,
   "metadata": {
    "collapsed": true
   },
   "outputs": [],
   "source": [
    "d = load_lblnew_data(PARAM_LBLNEW)\n",
    "\n",
    "DS_FLUX_CRD = d['ds_flux_crd']\n",
    "DS_COOL_CRD = d['ds_cool_crd']\n",
    "DS_FLUX_WGT = d['ds_flux_wgt']\n",
    "DS_COOL_WGT = d['ds_cool_wgt']"
   ]
  },
  {
   "cell_type": "code",
   "execution_count": 6,
   "metadata": {
    "collapsed": true
   },
   "outputs": [],
   "source": [
    "DIR_FORTRAN = pipe_cliradlw.get_fortran_dir(PARAM, \n",
    "                                            setup=setup_cliradlw)\n",
    "\n",
    "PATH_FLUX = os.path.join(DIR_FORTRAN, 'output_flux.dat')\n",
    "PATH_COOL = os.path.join(DIR_FORTRAN, 'output_coolr.dat')\n",
    "\n",
    "DS_FLUX = load_output_file(PATH_FLUX)\n",
    "DS_COOL = load_output_file(PATH_COOL)"
   ]
  },
  {
   "cell_type": "code",
   "execution_count": 7,
   "metadata": {
    "collapsed": true
   },
   "outputs": [
    {
     "data": {
      "text/html": [
       "\n",
       "    <div class=\"bk-root\">\n",
       "        <a href=\"https://bokeh.pydata.org\" target=\"_blank\" class=\"bk-logo bk-logo-small bk-logo-notebook\"></a>\n",
       "        <span id=\"bde7901f-f017-44e3-ba71-b1161204d9ca\">Loading BokehJS ...</span>\n",
       "    </div>"
      ]
     },
     "metadata": {},
     "output_type": "display_data"
    },
    {
     "data": {
      "application/javascript": [
       "\n",
       "(function(root) {\n",
       "  function now() {\n",
       "    return new Date();\n",
       "  }\n",
       "\n",
       "  var force = true;\n",
       "\n",
       "  if (typeof (root._bokeh_onload_callbacks) === \"undefined\" || force === true) {\n",
       "    root._bokeh_onload_callbacks = [];\n",
       "    root._bokeh_is_loading = undefined;\n",
       "  }\n",
       "\n",
       "  var JS_MIME_TYPE = 'application/javascript';\n",
       "  var HTML_MIME_TYPE = 'text/html';\n",
       "  var EXEC_MIME_TYPE = 'application/vnd.bokehjs_exec.v0+json';\n",
       "  var CLASS_NAME = 'output_bokeh rendered_html';\n",
       "\n",
       "  /**\n",
       "   * Render data to the DOM node\n",
       "   */\n",
       "  function render(props, node) {\n",
       "    var script = document.createElement(\"script\");\n",
       "    node.appendChild(script);\n",
       "  }\n",
       "\n",
       "  /**\n",
       "   * Handle when an output is cleared or removed\n",
       "   */\n",
       "  function handleClearOutput(event, handle) {\n",
       "    var cell = handle.cell;\n",
       "\n",
       "    var id = cell.output_area._bokeh_element_id;\n",
       "    var server_id = cell.output_area._bokeh_server_id;\n",
       "    // Clean up Bokeh references\n",
       "    if (id !== undefined) {\n",
       "      Bokeh.index[id].model.document.clear();\n",
       "      delete Bokeh.index[id];\n",
       "    }\n",
       "\n",
       "    if (server_id !== undefined) {\n",
       "      // Clean up Bokeh references\n",
       "      var cmd = \"from bokeh.io.state import curstate; print(curstate().uuid_to_server['\" + server_id + \"'].get_sessions()[0].document.roots[0]._id)\";\n",
       "      cell.notebook.kernel.execute(cmd, {\n",
       "        iopub: {\n",
       "          output: function(msg) {\n",
       "            var element_id = msg.content.text.trim();\n",
       "            Bokeh.index[element_id].model.document.clear();\n",
       "            delete Bokeh.index[element_id];\n",
       "          }\n",
       "        }\n",
       "      });\n",
       "      // Destroy server and session\n",
       "      var cmd = \"import bokeh.io.notebook as ion; ion.destroy_server('\" + server_id + \"')\";\n",
       "      cell.notebook.kernel.execute(cmd);\n",
       "    }\n",
       "  }\n",
       "\n",
       "  /**\n",
       "   * Handle when a new output is added\n",
       "   */\n",
       "  function handleAddOutput(event, handle) {\n",
       "    var output_area = handle.output_area;\n",
       "    var output = handle.output;\n",
       "\n",
       "    // limit handleAddOutput to display_data with EXEC_MIME_TYPE content only\n",
       "    if ((output.output_type != \"display_data\") || (!output.data.hasOwnProperty(EXEC_MIME_TYPE))) {\n",
       "      return\n",
       "    }\n",
       "\n",
       "    var toinsert = output_area.element.find(\".\" + CLASS_NAME.split(' ')[0]);\n",
       "\n",
       "    if (output.metadata[EXEC_MIME_TYPE][\"id\"] !== undefined) {\n",
       "      toinsert[0].firstChild.textContent = output.data[JS_MIME_TYPE];\n",
       "      // store reference to embed id on output_area\n",
       "      output_area._bokeh_element_id = output.metadata[EXEC_MIME_TYPE][\"id\"];\n",
       "    }\n",
       "    if (output.metadata[EXEC_MIME_TYPE][\"server_id\"] !== undefined) {\n",
       "      var bk_div = document.createElement(\"div\");\n",
       "      bk_div.innerHTML = output.data[HTML_MIME_TYPE];\n",
       "      var script_attrs = bk_div.children[0].attributes;\n",
       "      for (var i = 0; i < script_attrs.length; i++) {\n",
       "        toinsert[0].firstChild.setAttribute(script_attrs[i].name, script_attrs[i].value);\n",
       "      }\n",
       "      // store reference to server id on output_area\n",
       "      output_area._bokeh_server_id = output.metadata[EXEC_MIME_TYPE][\"server_id\"];\n",
       "    }\n",
       "  }\n",
       "\n",
       "  function register_renderer(events, OutputArea) {\n",
       "\n",
       "    function append_mime(data, metadata, element) {\n",
       "      // create a DOM node to render to\n",
       "      var toinsert = this.create_output_subarea(\n",
       "        metadata,\n",
       "        CLASS_NAME,\n",
       "        EXEC_MIME_TYPE\n",
       "      );\n",
       "      this.keyboard_manager.register_events(toinsert);\n",
       "      // Render to node\n",
       "      var props = {data: data, metadata: metadata[EXEC_MIME_TYPE]};\n",
       "      render(props, toinsert[0]);\n",
       "      element.append(toinsert);\n",
       "      return toinsert\n",
       "    }\n",
       "\n",
       "    /* Handle when an output is cleared or removed */\n",
       "    events.on('clear_output.CodeCell', handleClearOutput);\n",
       "    events.on('delete.Cell', handleClearOutput);\n",
       "\n",
       "    /* Handle when a new output is added */\n",
       "    events.on('output_added.OutputArea', handleAddOutput);\n",
       "\n",
       "    /**\n",
       "     * Register the mime type and append_mime function with output_area\n",
       "     */\n",
       "    OutputArea.prototype.register_mime_type(EXEC_MIME_TYPE, append_mime, {\n",
       "      /* Is output safe? */\n",
       "      safe: true,\n",
       "      /* Index of renderer in `output_area.display_order` */\n",
       "      index: 0\n",
       "    });\n",
       "  }\n",
       "\n",
       "  // register the mime type if in Jupyter Notebook environment and previously unregistered\n",
       "  if (root.Jupyter !== undefined) {\n",
       "    var events = require('base/js/events');\n",
       "    var OutputArea = require('notebook/js/outputarea').OutputArea;\n",
       "\n",
       "    if (OutputArea.prototype.mime_types().indexOf(EXEC_MIME_TYPE) == -1) {\n",
       "      register_renderer(events, OutputArea);\n",
       "    }\n",
       "  }\n",
       "\n",
       "  \n",
       "  if (typeof (root._bokeh_timeout) === \"undefined\" || force === true) {\n",
       "    root._bokeh_timeout = Date.now() + 5000;\n",
       "    root._bokeh_failed_load = false;\n",
       "  }\n",
       "\n",
       "  var NB_LOAD_WARNING = {'data': {'text/html':\n",
       "     \"<div style='background-color: #fdd'>\\n\"+\n",
       "     \"<p>\\n\"+\n",
       "     \"BokehJS does not appear to have successfully loaded. If loading BokehJS from CDN, this \\n\"+\n",
       "     \"may be due to a slow or bad network connection. Possible fixes:\\n\"+\n",
       "     \"</p>\\n\"+\n",
       "     \"<ul>\\n\"+\n",
       "     \"<li>re-rerun `output_notebook()` to attempt to load from CDN again, or</li>\\n\"+\n",
       "     \"<li>use INLINE resources instead, as so:</li>\\n\"+\n",
       "     \"</ul>\\n\"+\n",
       "     \"<code>\\n\"+\n",
       "     \"from bokeh.resources import INLINE\\n\"+\n",
       "     \"output_notebook(resources=INLINE)\\n\"+\n",
       "     \"</code>\\n\"+\n",
       "     \"</div>\"}};\n",
       "\n",
       "  function display_loaded() {\n",
       "    var el = document.getElementById(\"bde7901f-f017-44e3-ba71-b1161204d9ca\");\n",
       "    if (el != null) {\n",
       "      el.textContent = \"BokehJS is loading...\";\n",
       "    }\n",
       "    if (root.Bokeh !== undefined) {\n",
       "      if (el != null) {\n",
       "        el.textContent = \"BokehJS \" + root.Bokeh.version + \" successfully loaded.\";\n",
       "      }\n",
       "    } else if (Date.now() < root._bokeh_timeout) {\n",
       "      setTimeout(display_loaded, 100)\n",
       "    }\n",
       "  }\n",
       "\n",
       "\n",
       "  function run_callbacks() {\n",
       "    try {\n",
       "      root._bokeh_onload_callbacks.forEach(function(callback) { callback() });\n",
       "    }\n",
       "    finally {\n",
       "      delete root._bokeh_onload_callbacks\n",
       "    }\n",
       "    console.info(\"Bokeh: all callbacks have finished\");\n",
       "  }\n",
       "\n",
       "  function load_libs(js_urls, callback) {\n",
       "    root._bokeh_onload_callbacks.push(callback);\n",
       "    if (root._bokeh_is_loading > 0) {\n",
       "      console.log(\"Bokeh: BokehJS is being loaded, scheduling callback at\", now());\n",
       "      return null;\n",
       "    }\n",
       "    if (js_urls == null || js_urls.length === 0) {\n",
       "      run_callbacks();\n",
       "      return null;\n",
       "    }\n",
       "    console.log(\"Bokeh: BokehJS not loaded, scheduling load and callback at\", now());\n",
       "    root._bokeh_is_loading = js_urls.length;\n",
       "    for (var i = 0; i < js_urls.length; i++) {\n",
       "      var url = js_urls[i];\n",
       "      var s = document.createElement('script');\n",
       "      s.src = url;\n",
       "      s.async = false;\n",
       "      s.onreadystatechange = s.onload = function() {\n",
       "        root._bokeh_is_loading--;\n",
       "        if (root._bokeh_is_loading === 0) {\n",
       "          console.log(\"Bokeh: all BokehJS libraries loaded\");\n",
       "          run_callbacks()\n",
       "        }\n",
       "      };\n",
       "      s.onerror = function() {\n",
       "        console.warn(\"failed to load library \" + url);\n",
       "      };\n",
       "      console.log(\"Bokeh: injecting script tag for BokehJS library: \", url);\n",
       "      document.getElementsByTagName(\"head\")[0].appendChild(s);\n",
       "    }\n",
       "  };var element = document.getElementById(\"bde7901f-f017-44e3-ba71-b1161204d9ca\");\n",
       "  if (element == null) {\n",
       "    console.log(\"Bokeh: ERROR: autoload.js configured with elementid 'bde7901f-f017-44e3-ba71-b1161204d9ca' but no matching script tag was found. \")\n",
       "    return false;\n",
       "  }\n",
       "\n",
       "  var js_urls = [\"https://cdn.pydata.org/bokeh/release/bokeh-0.12.14.min.js\", \"https://cdn.pydata.org/bokeh/release/bokeh-widgets-0.12.14.min.js\", \"https://cdn.pydata.org/bokeh/release/bokeh-tables-0.12.14.min.js\", \"https://cdn.pydata.org/bokeh/release/bokeh-gl-0.12.14.min.js\"];\n",
       "\n",
       "  var inline_js = [\n",
       "    function(Bokeh) {\n",
       "      Bokeh.set_log_level(\"info\");\n",
       "    },\n",
       "    \n",
       "    function(Bokeh) {\n",
       "      \n",
       "    },\n",
       "    function(Bokeh) {\n",
       "      console.log(\"Bokeh: injecting CSS: https://cdn.pydata.org/bokeh/release/bokeh-0.12.14.min.css\");\n",
       "      Bokeh.embed.inject_css(\"https://cdn.pydata.org/bokeh/release/bokeh-0.12.14.min.css\");\n",
       "      console.log(\"Bokeh: injecting CSS: https://cdn.pydata.org/bokeh/release/bokeh-widgets-0.12.14.min.css\");\n",
       "      Bokeh.embed.inject_css(\"https://cdn.pydata.org/bokeh/release/bokeh-widgets-0.12.14.min.css\");\n",
       "      console.log(\"Bokeh: injecting CSS: https://cdn.pydata.org/bokeh/release/bokeh-tables-0.12.14.min.css\");\n",
       "      Bokeh.embed.inject_css(\"https://cdn.pydata.org/bokeh/release/bokeh-tables-0.12.14.min.css\");\n",
       "    }\n",
       "  ];\n",
       "\n",
       "  function run_inline_js() {\n",
       "    \n",
       "    if ((root.Bokeh !== undefined) || (force === true)) {\n",
       "      for (var i = 0; i < inline_js.length; i++) {\n",
       "        inline_js[i].call(root, root.Bokeh);\n",
       "      }if (force === true) {\n",
       "        display_loaded();\n",
       "      }} else if (Date.now() < root._bokeh_timeout) {\n",
       "      setTimeout(run_inline_js, 100);\n",
       "    } else if (!root._bokeh_failed_load) {\n",
       "      console.log(\"Bokeh: BokehJS failed to load within specified timeout.\");\n",
       "      root._bokeh_failed_load = true;\n",
       "    } else if (force !== true) {\n",
       "      var cell = $(document.getElementById(\"bde7901f-f017-44e3-ba71-b1161204d9ca\")).parents('.cell').data().cell;\n",
       "      cell.output_area.append_execute_result(NB_LOAD_WARNING)\n",
       "    }\n",
       "\n",
       "  }\n",
       "\n",
       "  if (root._bokeh_is_loading === 0) {\n",
       "    console.log(\"Bokeh: BokehJS loaded, going straight to plotting\");\n",
       "    run_inline_js();\n",
       "  } else {\n",
       "    load_libs(js_urls, function() {\n",
       "      console.log(\"Bokeh: BokehJS plotting callback run at\", now());\n",
       "      run_inline_js();\n",
       "    });\n",
       "  }\n",
       "}(window));"
      ],
      "application/vnd.bokehjs_load.v0+json": "\n(function(root) {\n  function now() {\n    return new Date();\n  }\n\n  var force = true;\n\n  if (typeof (root._bokeh_onload_callbacks) === \"undefined\" || force === true) {\n    root._bokeh_onload_callbacks = [];\n    root._bokeh_is_loading = undefined;\n  }\n\n  \n\n  \n  if (typeof (root._bokeh_timeout) === \"undefined\" || force === true) {\n    root._bokeh_timeout = Date.now() + 5000;\n    root._bokeh_failed_load = false;\n  }\n\n  var NB_LOAD_WARNING = {'data': {'text/html':\n     \"<div style='background-color: #fdd'>\\n\"+\n     \"<p>\\n\"+\n     \"BokehJS does not appear to have successfully loaded. If loading BokehJS from CDN, this \\n\"+\n     \"may be due to a slow or bad network connection. Possible fixes:\\n\"+\n     \"</p>\\n\"+\n     \"<ul>\\n\"+\n     \"<li>re-rerun `output_notebook()` to attempt to load from CDN again, or</li>\\n\"+\n     \"<li>use INLINE resources instead, as so:</li>\\n\"+\n     \"</ul>\\n\"+\n     \"<code>\\n\"+\n     \"from bokeh.resources import INLINE\\n\"+\n     \"output_notebook(resources=INLINE)\\n\"+\n     \"</code>\\n\"+\n     \"</div>\"}};\n\n  function display_loaded() {\n    var el = document.getElementById(\"bde7901f-f017-44e3-ba71-b1161204d9ca\");\n    if (el != null) {\n      el.textContent = \"BokehJS is loading...\";\n    }\n    if (root.Bokeh !== undefined) {\n      if (el != null) {\n        el.textContent = \"BokehJS \" + root.Bokeh.version + \" successfully loaded.\";\n      }\n    } else if (Date.now() < root._bokeh_timeout) {\n      setTimeout(display_loaded, 100)\n    }\n  }\n\n\n  function run_callbacks() {\n    try {\n      root._bokeh_onload_callbacks.forEach(function(callback) { callback() });\n    }\n    finally {\n      delete root._bokeh_onload_callbacks\n    }\n    console.info(\"Bokeh: all callbacks have finished\");\n  }\n\n  function load_libs(js_urls, callback) {\n    root._bokeh_onload_callbacks.push(callback);\n    if (root._bokeh_is_loading > 0) {\n      console.log(\"Bokeh: BokehJS is being loaded, scheduling callback at\", now());\n      return null;\n    }\n    if (js_urls == null || js_urls.length === 0) {\n      run_callbacks();\n      return null;\n    }\n    console.log(\"Bokeh: BokehJS not loaded, scheduling load and callback at\", now());\n    root._bokeh_is_loading = js_urls.length;\n    for (var i = 0; i < js_urls.length; i++) {\n      var url = js_urls[i];\n      var s = document.createElement('script');\n      s.src = url;\n      s.async = false;\n      s.onreadystatechange = s.onload = function() {\n        root._bokeh_is_loading--;\n        if (root._bokeh_is_loading === 0) {\n          console.log(\"Bokeh: all BokehJS libraries loaded\");\n          run_callbacks()\n        }\n      };\n      s.onerror = function() {\n        console.warn(\"failed to load library \" + url);\n      };\n      console.log(\"Bokeh: injecting script tag for BokehJS library: \", url);\n      document.getElementsByTagName(\"head\")[0].appendChild(s);\n    }\n  };var element = document.getElementById(\"bde7901f-f017-44e3-ba71-b1161204d9ca\");\n  if (element == null) {\n    console.log(\"Bokeh: ERROR: autoload.js configured with elementid 'bde7901f-f017-44e3-ba71-b1161204d9ca' but no matching script tag was found. \")\n    return false;\n  }\n\n  var js_urls = [\"https://cdn.pydata.org/bokeh/release/bokeh-0.12.14.min.js\", \"https://cdn.pydata.org/bokeh/release/bokeh-widgets-0.12.14.min.js\", \"https://cdn.pydata.org/bokeh/release/bokeh-tables-0.12.14.min.js\", \"https://cdn.pydata.org/bokeh/release/bokeh-gl-0.12.14.min.js\"];\n\n  var inline_js = [\n    function(Bokeh) {\n      Bokeh.set_log_level(\"info\");\n    },\n    \n    function(Bokeh) {\n      \n    },\n    function(Bokeh) {\n      console.log(\"Bokeh: injecting CSS: https://cdn.pydata.org/bokeh/release/bokeh-0.12.14.min.css\");\n      Bokeh.embed.inject_css(\"https://cdn.pydata.org/bokeh/release/bokeh-0.12.14.min.css\");\n      console.log(\"Bokeh: injecting CSS: https://cdn.pydata.org/bokeh/release/bokeh-widgets-0.12.14.min.css\");\n      Bokeh.embed.inject_css(\"https://cdn.pydata.org/bokeh/release/bokeh-widgets-0.12.14.min.css\");\n      console.log(\"Bokeh: injecting CSS: https://cdn.pydata.org/bokeh/release/bokeh-tables-0.12.14.min.css\");\n      Bokeh.embed.inject_css(\"https://cdn.pydata.org/bokeh/release/bokeh-tables-0.12.14.min.css\");\n    }\n  ];\n\n  function run_inline_js() {\n    \n    if ((root.Bokeh !== undefined) || (force === true)) {\n      for (var i = 0; i < inline_js.length; i++) {\n        inline_js[i].call(root, root.Bokeh);\n      }if (force === true) {\n        display_loaded();\n      }} else if (Date.now() < root._bokeh_timeout) {\n      setTimeout(run_inline_js, 100);\n    } else if (!root._bokeh_failed_load) {\n      console.log(\"Bokeh: BokehJS failed to load within specified timeout.\");\n      root._bokeh_failed_load = true;\n    } else if (force !== true) {\n      var cell = $(document.getElementById(\"bde7901f-f017-44e3-ba71-b1161204d9ca\")).parents('.cell').data().cell;\n      cell.output_area.append_execute_result(NB_LOAD_WARNING)\n    }\n\n  }\n\n  if (root._bokeh_is_loading === 0) {\n    console.log(\"Bokeh: BokehJS loaded, going straight to plotting\");\n    run_inline_js();\n  } else {\n    load_libs(js_urls, function() {\n      console.log(\"Bokeh: BokehJS plotting callback run at\", now());\n      run_inline_js();\n    });\n  }\n}(window));"
     },
     "metadata": {},
     "output_type": "display_data"
    }
   ],
   "source": [
    "output_notebook()"
   ]
  },
  {
   "cell_type": "code",
   "execution_count": 8,
   "metadata": {
    "collapsed": true
   },
   "outputs": [],
   "source": [
    "def fmt_cool(ds_in):\n",
    "    ds = ds_in.copy(deep=True)\n",
    "    if 'igg' in ds.dims:\n",
    "        ds = ds.sel(igg=1)\n",
    "\n",
    "    if 'g' in ds.dims:\n",
    "        ds = ds.sum('g')\n",
    "            \n",
    "    if 'band' in ds.dims:\n",
    "        try:\n",
    "            ds = ds.squeeze('band')\n",
    "        except ValueError:\n",
    "            ds = ds.sum('band')\n",
    "                \n",
    "    return ds['coolrg']\n",
    "\n",
    "\n",
    "def pltdata_cooling_1(ds_cool=None,\n",
    "                      ds_cool_crd=None, ds_cool_wgt=None):\n",
    "    \n",
    "\n",
    "\n",
    "    colors = all_palettes['Set1'][4]\n",
    "    data = [{'label': 'CLIRAD `coolr_bands`',\n",
    "             'srs': fmt_cool(ds_cool),\n",
    "             'line_dash': 'dashed', 'line_width': 5,\n",
    "             'color': colors[0], 'alpha': .6},\n",
    "            {'label': 'CRD',\n",
    "             'srs': fmt_cool(ds_cool_crd),\n",
    "             'line_dash': 'solid', 'line_width': 1.5,\n",
    "             'marker': 'circle', 'marker_size': 5,\n",
    "             'color': colors[2], 'alpha': 1,},\n",
    "            {'label': 'WGT igg=10 wgt_flux=2',\n",
    "             'srs': fmt_cool(ds_cool_wgt),\n",
    "             'line_dash': 'solid', 'line_width': 3,\n",
    "             'marker': 'square', 'marker_size': 5,\n",
    "             'color': colors[3], 'alpha': .6}]\n",
    "    return data\n",
    "\n",
    "\n",
    "def nice_xlims(pltdata=None, prange=None):\n",
    "    \n",
    "    def get_slice(srs):\n",
    "        return srs.sel(pressure=slice(*prange))\n",
    "    \n",
    "    srss = [d['srs'] for d in pltdata]\n",
    "    vmin = min([get_slice(srs).min() for srs in srss])\n",
    "    vmax = max([get_slice(srs).max() for srs in srss])\n",
    "    dv = (vmax - vmin) * .01\n",
    "    return float(vmin - dv), float(vmax + dv)\n",
    "    \n",
    "\n",
    "def plt_cooling_bokeh(pltdata=None):\n",
    "    '''\n",
    "    Plot a list of cooling rate profiles using bokeh.\n",
    "    '''\n",
    "    ymin = 1e-2 \n",
    "    ymax = 1020 \n",
    "        \n",
    "    p1 = figure(title=\"Linear pressure scale\", \n",
    "                plot_width=400)        \n",
    "    xmin, xmax = nice_xlims(pltdata, prange=(50, 1050))\n",
    "    for d in pltdata:\n",
    "        if 'marker' in d:\n",
    "            getattr(p1, d['marker'])(d['srs'].values, \n",
    "                    d['srs'].coords['pressure'].values,\n",
    "                    color=d['color'], alpha=.7)\n",
    "        p1.line(d['srs'].values, \n",
    "                d['srs'].coords['pressure'].values,\n",
    "                color=d['color'], alpha=d['alpha'], \n",
    "                line_width=d['line_width'], line_dash=d['line_dash'])\n",
    "    \n",
    "    p1.y_range = Range1d(ymax, ymin)\n",
    "    p1.yaxis.axis_label = 'pressure [mb]'   \n",
    "    p1.x_range = Range1d(xmin, xmax)\n",
    "    p1.xaxis.axis_label = 'cooling rate [K/day]'\n",
    "            \n",
    "    p2 = figure(title='Log pressure scale', y_axis_type='log',\n",
    "                plot_width=560)\n",
    "    xmin, xmax = nice_xlims(pltdata, prange=(.01, 200))\n",
    "    \n",
    "    rs = []\n",
    "    for d in pltdata:\n",
    "        rd = []\n",
    "        if 'marker' in d:\n",
    "            r_mark = getattr(p2, d['marker'])(d['srs'].values, \n",
    "                        d['srs'].coords['pressure'].values,\n",
    "                        color=d['color'], alpha=.7)\n",
    "            rd.append(r_mark)\n",
    "        r_line = p2.line(d['srs'].values, \n",
    "                    d['srs'].coords['pressure'].values,\n",
    "                    color=d['color'], alpha=d['alpha'], \n",
    "                    line_width=d['line_width'], line_dash=d['line_dash'])\n",
    "        rd.append(r_line)\n",
    "      \n",
    "        rs.append(rd)\n",
    "        \n",
    "    p2.y_range = Range1d(ymax, ymin)  \n",
    "    p2.yaxis.axis_label = 'pressure [mb]'\n",
    "    \n",
    "    p2.x_range = Range1d(xmin, xmax)\n",
    "    p2.xaxis.axis_label = 'cooling rate [K/day]'\n",
    "    \n",
    "    items = [(d['label'], r) for r, d in zip(rs, pltdata)]\n",
    "    legend = Legend(items=items, location=(10, -30))\n",
    "    legend.label_text_font_size = '8pt'\n",
    "    \n",
    "    p2.add_layout(legend, 'right')  \n",
    "    \n",
    "    show(gridplot(p1, p2, ncols=2, plot_height=500))\n",
    "    \n",
    "\n",
    "def script_plt_cooling():\n",
    "    pltdata = pltdata_cooling_1(\n",
    "        ds_cool=DS_COOL,\n",
    "        ds_cool_crd=DS_COOL_CRD,\n",
    "        ds_cool_wgt=DS_COOL_WGT)\n",
    "    plt_cooling_bokeh(pltdata=pltdata)\n",
    "    print('''FIGURE. Cooling rate profiles.''')"
   ]
  },
  {
   "cell_type": "code",
   "execution_count": 9,
   "metadata": {
    "collapsed": true
   },
   "outputs": [],
   "source": [
    "def fmt_flux(ds_in):\n",
    "    ds = ds_in.copy(deep=True)\n",
    "    \n",
    "    for l in ('level', 'layer'):\n",
    "        if l in ds.data_vars:\n",
    "            if len(ds[l].dims) > 1:\n",
    "                surface = {d: 0 for d in ds.dims if d != 'pressure'}\n",
    "                coord_level = ds[l][surface]\n",
    "                ds.coords[l] = ('pressure', coord_level)\n",
    "            else:\n",
    "                ds.coords[l] = ('pressure', ds[l])\n",
    "        \n",
    "    ds = ds.isel(pressure=[0, 23, -1])\n",
    "        \n",
    "    if 'igg' in ds.dims:\n",
    "        ds = ds.sel(igg=[1])\n",
    "        ds = ds.squeeze('igg').drop('igg')\n",
    "    \n",
    "    if 'g' in ds.dims:\n",
    "        ds = ds.sum('g')\n",
    "            \n",
    "    if 'band' in ds.dims:\n",
    "        try:\n",
    "            ds = ds.squeeze('band').drop('band')\n",
    "        except ValueError:\n",
    "            ds = ds.sum('band')\n",
    "                \n",
    "    df = ds.to_dataframe()\n",
    "    df = df.set_index('level', append=True)               \n",
    "    return df\n",
    "\n",
    "\n",
    "def tbdata_flux(ds_flux=None, ds_flux_crd=None, ds_flux_wgt=None):\n",
    "    ilevels = [0, 23, -1]\n",
    "            \n",
    "    benchmark = {'label': 'WGT igg=10 wgt_flux=1',\n",
    "                 'df': fmt_flux(ds_flux_wgt)}\n",
    "    \n",
    "    tbs = [{'label': 'CRD',\n",
    "            'df': fmt_flux(ds_flux_crd)},\n",
    "           {'label': 'CLIRAD',\n",
    "            'df': fmt_flux(ds_flux)}]\n",
    "    \n",
    "    data = {'benchmark': benchmark, 'others': tbs}\n",
    "    return data\n",
    "\n",
    "\n",
    "def tb_flux(tbdata=None):\n",
    "    benchmark = tbdata['benchmark']\n",
    "    others = tbdata['others']\n",
    "    \n",
    "    def show_tb(d=None):\n",
    "        display.display(d['df'])\n",
    "        print('Table.', 'Fluxes.', d['label'])\n",
    "        \n",
    "    def show_tbdiff(d0=None, d=None):\n",
    "        df = d['df']\n",
    "        df.index = d0['df'].index\n",
    "        display.display(df - d0['df'])\n",
    "        print('Table.', 'Fluxes.', \n",
    "              '({}) - ({})'.format(d['label'], d0['label']))\n",
    "        \n",
    "    show_tb(benchmark)\n",
    "    for d in others:\n",
    "        show_tb(d)\n",
    "        \n",
    "    for d in others:\n",
    "        show_tbdiff(d=d, d0=benchmark)\n",
    "        \n",
    "        \n",
    "def script_tb_flux():\n",
    "    data = tbdata_flux(ds_flux=DS_FLUX,\n",
    "                       ds_flux_crd=DS_FLUX_CRD,\n",
    "                       ds_flux_wgt=DS_FLUX_WGT)\n",
    "    tb_flux(tbdata=data)"
   ]
  },
  {
   "cell_type": "code",
   "execution_count": 10,
   "metadata": {
    "collapsed": true
   },
   "outputs": [],
   "source": [
    "def band_map():\n",
    "    '''\n",
    "    Maps spectral bands in lblnew to spectral bands in clirad.\n",
    "    '''\n",
    "    lblnew2clirad = {'1': '1',\n",
    "            '2': '2',\n",
    "            '3a': '3',\n",
    "            '3b': '4',\n",
    "            '3c': '5',\n",
    "            '4': '6', \n",
    "            '5': '7',\n",
    "            '6': '8',\n",
    "            '7': '9', \n",
    "            '8': '10',\n",
    "            '9': '11'}\n",
    "    \n",
    "    clirad2lblnew = {clirad: lblnew \n",
    "                     for lblnew, clirad in lblnew2clirad.items()}\n",
    "    return clirad2lblnew\n",
    "\n",
    "\n",
    "def gasbands():\n",
    "    bmap = band_map()\n",
    "    gases = list(PARAM['molecule'].keys())\n",
    "    \n",
    "    bands = [bmap[str(b)] for b in PARAM['band']]\n",
    "    return list(itertools.product(gases, bands))\n",
    "\n",
    "\n",
    "def print_bestfit_params():\n",
    "    print('Best-fit values for each (gas, band)')\n",
    "    print('------------------------------------')\n",
    "    for gas, band in gasbands():\n",
    "        print('o {} band{}'.format(gas, band))\n",
    "        param = bestfits.kdist_params(molecule=gas, band=band)\n",
    "        for name, value in sorted(param.items()):\n",
    "            print(2 * ' ' + '{} = {}'.format(name, value))\n",
    "\n",
    "        \n",
    "def print_input_param():        \n",
    "    for name, value in PARAM.items():\n",
    "        print('{} = {}'.format(name, value))\n",
    "        \n",
    "        \n",
    "def print_lblnew_param():\n",
    "    for name, value in sorted(PARAM_LBLNEW.items()):\n",
    "        print('{} = {}'.format(name, value))\n"
   ]
  },
  {
   "cell_type": "code",
   "execution_count": 11,
   "metadata": {
    "collapsed": true,
    "scrolled": false
   },
   "outputs": [],
   "source": [
    "def show_html(s):\n",
    "    display.display(display.HTML(s))\n",
    "\n",
    "    \n",
    "def show_markdown(s):\n",
    "    display.display(display.Markdown(s))\n",
    "\n",
    "    \n",
    "def script():\n",
    "    \n",
    "    title = '### CLIRAD-LW'\n",
    "    s_input = 'Input Parameters'\n",
    "    s_lblnew_param = 'LBLNEW case compaired against'\n",
    "    s_bestfits = 'Best-fit Parameters'\n",
    "    s_plt_cooling = 'Cooling Rate Profiles'\n",
    "    s_tb_flux = 'Flux Comparison'\n",
    "    \n",
    "    # title\n",
    "    show_markdown('### CLIRAD-LW')\n",
    "    \n",
    "    # TOC\n",
    "    show_markdown('### Table of Contents')\n",
    "    show_html(climahtml.getHTML_hrefanchor(s_input))\n",
    "    show_html(climahtml.getHTML_hrefanchor(s_lblnew_param))\n",
    "    show_html(climahtml.getHTML_hrefanchor(s_plt_cooling))\n",
    "    show_html(climahtml.getHTML_hrefanchor(s_tb_flux))\n",
    "    show_html(climahtml.getHTML_hrefanchor(s_bestfits))\n",
    "    \n",
    "    # Input parameters\n",
    "    show_html(climahtml.getHTML_idanchor(s_input))\n",
    "    show_markdown(climahtml.getMarkdown_sectitle(s_input))\n",
    "    print_input_param()\n",
    "    \n",
    "    # LBLNEW parameters \n",
    "    show_html(climahtml.getHTML_idanchor(s_lblnew_param))\n",
    "    show_markdown(climahtml.getMarkdown_sectitle(s_lblnew_param))\n",
    "    print_lblnew_param()\n",
    "    \n",
    "    # Cooling rate profiles\n",
    "    show_html(climahtml.getHTML_idanchor(s_plt_cooling))\n",
    "    show_markdown(climahtml.getMarkdown_sectitle(s_plt_cooling))\n",
    "    script_plt_cooling()\n",
    "    \n",
    "    # Flux comparison\n",
    "    show_html(climahtml.getHTML_idanchor(s_tb_flux))\n",
    "    show_markdown(climahtml.getMarkdown_sectitle(s_tb_flux))\n",
    "    script_tb_flux()\n",
    "    \n",
    "    # Best-fit values\n",
    "    show_html(climahtml.getHTML_idanchor(s_bestfits))\n",
    "    show_markdown(climahtml.getMarkdown_sectitle(s_bestfits))\n",
    "    print_bestfit_params()\n",
    "   \n",
    "    "
   ]
  },
  {
   "cell_type": "code",
   "execution_count": 12,
   "metadata": {
    "collapsed": true,
    "scrolled": false
   },
   "outputs": [
    {
     "data": {
      "text/markdown": [
       "### CLIRAD-LW"
      ],
      "text/plain": [
       "<IPython.core.display.Markdown object>"
      ]
     },
     "metadata": {},
     "output_type": "display_data"
    },
    {
     "data": {
      "text/markdown": [
       "### Table of Contents"
      ],
      "text/plain": [
       "<IPython.core.display.Markdown object>"
      ]
     },
     "metadata": {},
     "output_type": "display_data"
    },
    {
     "data": {
      "text/html": [
       "<a href=\"#Input_Parameters\">Input Parameters</a>"
      ],
      "text/plain": [
       "<IPython.core.display.HTML object>"
      ]
     },
     "metadata": {},
     "output_type": "display_data"
    },
    {
     "data": {
      "text/html": [
       "<a href=\"#LBLNEW_case_compaired_against\">LBLNEW case compaired against</a>"
      ],
      "text/plain": [
       "<IPython.core.display.HTML object>"
      ]
     },
     "metadata": {},
     "output_type": "display_data"
    },
    {
     "data": {
      "text/html": [
       "<a href=\"#Cooling_Rate_Profiles\">Cooling Rate Profiles</a>"
      ],
      "text/plain": [
       "<IPython.core.display.HTML object>"
      ]
     },
     "metadata": {},
     "output_type": "display_data"
    },
    {
     "data": {
      "text/html": [
       "<a href=\"#Flux_Comparison\">Flux Comparison</a>"
      ],
      "text/plain": [
       "<IPython.core.display.HTML object>"
      ]
     },
     "metadata": {},
     "output_type": "display_data"
    },
    {
     "data": {
      "text/html": [
       "<a href=\"#Best-fit_Parameters\">Best-fit Parameters</a>"
      ],
      "text/plain": [
       "<IPython.core.display.HTML object>"
      ]
     },
     "metadata": {},
     "output_type": "display_data"
    },
    {
     "data": {
      "text/html": [
       "<a id=\"Input_Parameters\"></a>"
      ],
      "text/plain": [
       "<IPython.core.display.HTML object>"
      ]
     },
     "metadata": {},
     "output_type": "display_data"
    },
    {
     "data": {
      "text/markdown": [
       "# Input Parameters"
      ],
      "text/plain": [
       "<IPython.core.display.Markdown object>"
      ]
     },
     "metadata": {},
     "output_type": "display_data"
    },
    {
     "name": "stdout",
     "output_type": "stream",
     "text": [
      "atmpro = mls\n",
      "band = [3]\n",
      "commitnumber = 9a64c27\n",
      "molecule = {'h2o': 'atmpro'}\n",
      "tsfc = 294\n"
     ]
    },
    {
     "data": {
      "text/html": [
       "<a id=\"LBLNEW_case_compaired_against\"></a>"
      ],
      "text/plain": [
       "<IPython.core.display.HTML object>"
      ]
     },
     "metadata": {},
     "output_type": "display_data"
    },
    {
     "data": {
      "text/markdown": [
       "# LBLNEW case compaired against"
      ],
      "text/plain": [
       "<IPython.core.display.Markdown object>"
      ]
     },
     "metadata": {},
     "output_type": "display_data"
    },
    {
     "name": "stdout",
     "output_type": "stream",
     "text": [
      "atmpro = mls\n",
      "band = 3a\n",
      "commitnumber = 2bd1f75\n",
      "conc = None\n",
      "dv = 0.01\n",
      "klin = 0\n",
      "molecule = h2o\n",
      "ng_adju = [0, 0]\n",
      "ng_refs = [2, 6]\n",
      "nv = 100\n",
      "option_compute_btable = 0\n",
      "option_compute_ktable = 0\n",
      "option_wgt_flux = 1\n",
      "option_wgt_k = 1\n",
      "ref_pts = [(10, 250), (600, 250)]\n",
      "tsfc = 294\n",
      "vmax = 620\n",
      "vmin = 540\n",
      "w_diffuse = [(1.9, 1.7), (1.4, 1.4, 1.4, 1.55, 1.6, 1.66)]\n",
      "wgt = [(0.7, 0.7), (0.7, 0.5, 0.5, 0.5, 0.5, 0.5)]\n"
     ]
    },
    {
     "data": {
      "text/html": [
       "<a id=\"Cooling_Rate_Profiles\"></a>"
      ],
      "text/plain": [
       "<IPython.core.display.HTML object>"
      ]
     },
     "metadata": {},
     "output_type": "display_data"
    },
    {
     "data": {
      "text/markdown": [
       "# Cooling Rate Profiles"
      ],
      "text/plain": [
       "<IPython.core.display.Markdown object>"
      ]
     },
     "metadata": {},
     "output_type": "display_data"
    },
    {
     "data": {
      "text/html": [
       "\n",
       "<div class=\"bk-root\">\n",
       "    <div class=\"bk-plotdiv\" id=\"1aef7ef4-74aa-4480-a2cf-55f71e9414bf\"></div>\n",
       "</div>"
      ]
     },
     "metadata": {},
     "output_type": "display_data"
    },
    {
     "data": {
      "application/javascript": [
       "(function(root) {\n",
       "  function embed_document(root) {\n",
       "    \n",
       "  var docs_json = {\"96475425-81e1-4aa7-a7cc-2b2061ab40ff\":{\"roots\":{\"references\":[{\"attributes\":{},\"id\":\"15167c07-638c-42bc-b2c0-d86c403f59e1\",\"type\":\"BasicTicker\"},{\"attributes\":{},\"id\":\"7e4770a0-ed35-4fd5-8777-356cd4e48d18\",\"type\":\"PanTool\"},{\"attributes\":{\"dimension\":1,\"plot\":{\"id\":\"1bf9afac-7db1-4ec0-8364-90ce9f4bf956\",\"subtype\":\"Figure\",\"type\":\"Plot\"},\"ticker\":{\"id\":\"15167c07-638c-42bc-b2c0-d86c403f59e1\",\"type\":\"BasicTicker\"}},\"id\":\"0ebcb3b4-5806-4a5c-bc39-74d8837843d5\",\"type\":\"Grid\"},{\"attributes\":{\"callback\":null,\"column_names\":[\"x\",\"y\"],\"data\":{\"x\":{\"__ndarray__\":\"1gCVyf4c6r70+W+8tO8AP2R7JdYhziA/SBw82p6GLj+tIc2ZV2Q2PxRp8MuzxT0/HkPDTnuVQj9tnoCWbnhGPz1tVpkZc0o/G2SaLhaDTj9sKQbimlZRP1zetBOAI1M/7QjqRiaIVD+Cmg8El3JWP4IKnUfkw1w/Mkt8mgVtaT+80zGwlMF2PxmdeR8q+YE/KxTpfk5Bij+Qsm5RoC6SP3NUa+oHOJg/6+cLKVhGnz9/MM/OkpWiP+OZAl/yu6E/iQjw9zqSmz8rWv00lRWUP8VB6dvn0Iw/oKl+dbrLhD8qKdMPuul+P4MDEneyoHc/Ky8hsen5cT/E9EYvH9dqPzywqoL7/2Q/DCQWm9DQYT8izee6umxeP1B0stNVmlk/kObnRa8/Vz/bS33NML1WP4uBZczs0VU/dCedZs9OVz/YmqfeBc9mP9BllG3zzYM/s7GESJVHmD8GABUurmimP3tCyt1UFbE/vDsecrRctD82MV+JAFq3P1D3KseeHLs/nVVVHpN7vz/p/6iPuC7CP+lQn0c51sQ/5/cFDWA+xz9m6VRDLKzJPw+o7RXMTsw/iNr0b7Aazz8LW/WxaQLRPxd9JnevhdI/jwidQnTp1D/RMlpg8jPXPw4WyplYJtk/VrVJ6qm62j+TFrLjVOXbP2XlNJddqNw/F/Ywi7sH3T/iG0y7fwndP2YAwX9nudw/d27zKXQc3D82AhLJZyTbP2GWTev8vNk/QUJahN7y1z9fkUaiI/vVP4vFLe5YD9Q/mLQ1ZDRZ0j+k6pHlqAzRP7aBO1CnfNE/\",\"dtype\":\"float64\",\"shape\":[75]},\"y\":{\"__ndarray__\":\"GhExyth1ND/Sv8nbtpRIP2vylNV0PVE/aTum7souWD/At0SJ8fVgPw3Iuahxymc/MSNhhJWvcD/bTfBN02d3P2zb5nxnaoA/CD5h5MAGhz8NmeH1TyaQP+zrCsc9p5Y/LbKd76fGnz/bLW5ISEmmPww9YvTcQq8/JV2OstnstT8Er5Y7M8G+P0c+r3jqkcU/5h99k6ZBzj88bCIzFzjVP4enV8oyxN0//yH99nXg5D8qOpLLf0jtP5kqGJXUifQ/c9cS8kHP/D+/DpwzojQEQIEmwoanVwxA4lgXt9HgE0BSSZ2AJuIbQAMJih9jjiNA5q4l5INuK0AwTKYKRj0zQNv5fmq8/DpAaCJseHrtQkB/+zpwzoxKQM3MzMzMeFJAZmZmZmZqWEAAAAAAAFxeQM3MzMzMJmJAmpmZmZkfZUBmZmZmZhhoQDMzMzMzEWtAAAAAAAAKbkBmZmZmZoFwQM3MzMzM/XFAMzMzMzN6c0CamZmZmfZ0QAAAAAAAc3ZAZmZmZmbvd0DNzMzMzGt5QDMzMzMz6HpAmpmZmZlkfEAAAAAAAOF9QGZmZmZmXX9AZmZmZuZsgECamZmZGSuBQM3MzMxM6YFAAAAAAICngkAzMzMzs2WDQGZmZmbmI4RAmpmZmRnihEDNzMzMTKCFQAAAAACAXoZAMzMzM7Mch0BmZmZm5tqHQJqZmZkZmYhAzczMzExXiUAAAAAAgBWKQDMzMzOz04pAZmZmZuaRi0CamZmZGVCMQM3MzMxMDo1AAAAAAIDMjUAzMzMzs4qOQGZmZmbmSI9A\",\"dtype\":\"float64\",\"shape\":[75]}}},\"id\":\"a5e23f9f-0aa7-4cbb-9d79-1b638e7ea2bd\",\"type\":\"ColumnDataSource\"},{\"attributes\":{},\"id\":\"78c0d02d-95f2-4419-9df2-38edb5f6bd16\",\"type\":\"SaveTool\"},{\"attributes\":{\"axis_label\":\"pressure [mb]\",\"formatter\":{\"id\":\"712a6699-bc12-4f14-9293-02e32d9873c9\",\"type\":\"BasicTickFormatter\"},\"plot\":{\"id\":\"1bf9afac-7db1-4ec0-8364-90ce9f4bf956\",\"subtype\":\"Figure\",\"type\":\"Plot\"},\"ticker\":{\"id\":\"15167c07-638c-42bc-b2c0-d86c403f59e1\",\"type\":\"BasicTicker\"}},\"id\":\"b14622d1-1962-4ece-95f3-dad0ab974910\",\"type\":\"LinearAxis\"},{\"attributes\":{\"line_alpha\":0.1,\"line_color\":\"#1f77b4\",\"line_dash\":[6],\"line_width\":5,\"x\":{\"field\":\"x\"},\"y\":{\"field\":\"y\"}},\"id\":\"efe37f2d-4507-403c-9a4c-9b8633ca2614\",\"type\":\"Line\"},{\"attributes\":{},\"id\":\"cdd522db-b689-456d-ba28-201c5cefb12f\",\"type\":\"WheelZoomTool\"},{\"attributes\":{\"callback\":null,\"column_names\":[\"x\",\"y\"],\"data\":{\"x\":{\"__ndarray__\":\"AAAAAAAAAAAAAAAAAAAAAAAAAAAAAAAAfji63dqooL8AAAAAAAAAAAAAAAAAAAAAAAAAAAAAAAAAAAAAAAAAAAAAAAAAAAAAHtNCYUp/gT8nLgf+l/J4PyFO1toKyWG/V99JH8RbaT9H/zvBBhRyP9wNByqoxlm/10Pj4EWsdD+jlSB/x3l9P48rgyA/GII/luqLT8TMiT/39fAjhjaRPzwJb4ZQ4pc/QoseWIvYnj95I7sewZeiP30L3py5o6I/P2YHXw9bnz8JRgzYYY6YPx2N/CejvZI/lgmexuZ4iz8TN2K+oKuDP+bMxYLzR3s/9cwKfRvfcT/LMyOCAEBmP26XcH4AX1w/s3aAzHPpVD9Wm5d0qGdQP+qcmuBfsUs/7OhtfibOSj+Q6HKdeWFMP4A5XUDjC00/DuQXJXpuUD9LOXxmEvtgPwXTZwF+eH8/RuipBkjRlD8EGFIi4hakP5vLpaLF2q4/MiKsIczIsj8uzAAf1RO2P49yAGLqZbk/B6MGkRSqvD+pQJihElPAPwBnUth//MI/0diP+/PAxT+ertW7y4fIP3PyAQUHScs/40l3fCAezj9LKFSisoLQPwdzYN6IE9I/2FtvQPCd1D8yiWEkBy7XP/RIrFoMfdk/Op8y5eBl2z+JJ3l9/8ncP+vvW2OGvN0//w9Fu+la3j8YPDNeRrPeP4OU0ER1xt4/n3OW3byG3j8s8aHAErrdPxrMeL4TMdw/lygxvh4C2j+Q0pWduHvXP84GsgGF+NQ/i4jFHMLA0j/nVqWA9hvRP6X/vNuCRtE/\",\"dtype\":\"float64\",\"shape\":[75]},\"y\":{\"__ndarray__\":\"S/O/Q+51ND/430zAtpRIP2vylNV0PVE/QxsjCssuWD/TR4Z78fVgP+inNsRxymc/OuuBfZWvcD/u3TFA02d3P2d3VoBnaoA/CD5h5MAGhz/1pA8HUCaQP+zrCsc9p5Y/Fb7LAKjGnz/nJ9c/SEmmPwBD+fzcQq8/FOZwv9nstT8Er5Y7M8G+P0c+r3jqkcU/yK72qKZBzj+tM989FzjVPxbgmr8yxN0/cOm5AXbg5D+5ctXAf0jtP5kqGJXUifQ/DsrqDELP/D8MCAhBojQEQDItVnmnVwxAiFXNvdHgE0BSSZ2AJuIbQAMJih9jjiNA5q4l5INuK0CPVN/5RT0zQHzxRXu8/DpAOZ7PgHrtQkAg8wGBzoxKQBSTN8DMeFJA2NmQf2ZqWEAAAAAAAFxeQEQX1LfMJmJAmpmZmZkfZUBmZmZmZhhoQLzoK0gzEWtAAAAAAAAKbkCiC+pbZoFwQAhyUMLM/XFA+I2vPTN6c0AQ5KCEmfZ0QAAAAAAAc3ZA8Btfe2bvd0AIclDCzGt5QPeNrz0z6HpAEOSghJlkfEAAAAAAAOF9QKML6ltmXX9ABTkoYeZsgED7xteeGSuBQAhyUMJM6YFAAAAAAICngkD4ja89s2WDQAU5KGHmI4RA+8bXnhnihEAIclDCTKCFQAAAAACAXoZA+I2vPbMch0AFOShh5tqHQPvG154ZmYhACHJQwkxXiUAAAAAAgBWKQPeNrz2z04pABTkoYeaRi0D7xteeGVCMQAlyUMJMDo1AAAAAAIDMjUD3ja89s4qOQGZmZmbmSI9A\",\"dtype\":\"float64\",\"shape\":[75]}}},\"id\":\"df8bac12-176c-4ff6-ba10-2c1d3becad0c\",\"type\":\"ColumnDataSource\"},{\"attributes\":{\"overlay\":{\"id\":\"70194e6c-f97c-4144-9f7f-aadd6fa9e676\",\"type\":\"BoxAnnotation\"}},\"id\":\"6f8b0215-06dc-430c-be12-23d8b6a69038\",\"type\":\"BoxZoomTool\"},{\"attributes\":{},\"id\":\"1556a5c0-caf8-4043-a244-6679ad96e8fb\",\"type\":\"ResetTool\"},{\"attributes\":{},\"id\":\"d3e7fb51-8b5c-4437-9a6a-5c9a6a8d371e\",\"type\":\"HelpTool\"},{\"attributes\":{\"line_alpha\":0.1,\"line_color\":\"#1f77b4\",\"line_width\":1.5,\"x\":{\"field\":\"x\"},\"y\":{\"field\":\"y\"}},\"id\":\"7b54fb62-489d-4100-b3f2-37d30185b24f\",\"type\":\"Line\"},{\"attributes\":{\"below\":[{\"id\":\"e3765cb4-cd07-4eb4-ac89-4abf1cb72bfe\",\"type\":\"LinearAxis\"}],\"left\":[{\"id\":\"b14622d1-1962-4ece-95f3-dad0ab974910\",\"type\":\"LinearAxis\"}],\"plot_height\":500,\"plot_width\":400,\"renderers\":[{\"id\":\"e3765cb4-cd07-4eb4-ac89-4abf1cb72bfe\",\"type\":\"LinearAxis\"},{\"id\":\"c49a155e-7d9d-4717-bd7d-4f05af8029fe\",\"type\":\"Grid\"},{\"id\":\"b14622d1-1962-4ece-95f3-dad0ab974910\",\"type\":\"LinearAxis\"},{\"id\":\"0ebcb3b4-5806-4a5c-bc39-74d8837843d5\",\"type\":\"Grid\"},{\"id\":\"70194e6c-f97c-4144-9f7f-aadd6fa9e676\",\"type\":\"BoxAnnotation\"},{\"id\":\"d8a15eca-0309-48b4-8bc6-07aa2f475204\",\"type\":\"GlyphRenderer\"},{\"id\":\"4314ef16-c395-4875-b8bb-33775ff142c9\",\"type\":\"GlyphRenderer\"},{\"id\":\"4b1c4422-30fd-4620-a85d-0086e761bba7\",\"type\":\"GlyphRenderer\"},{\"id\":\"754a3222-9434-438a-b160-58c9323f30e2\",\"type\":\"GlyphRenderer\"},{\"id\":\"1c65158b-646e-4e49-9625-91ddc5e990d1\",\"type\":\"GlyphRenderer\"}],\"title\":{\"id\":\"7ed899ac-8a4b-41fb-9eec-fd5478b75933\",\"type\":\"Title\"},\"toolbar\":{\"id\":\"6e38f821-1c3d-44c6-8302-7da58f6e1cfe\",\"type\":\"Toolbar\"},\"toolbar_location\":null,\"x_range\":{\"id\":\"24c07df9-e2c4-4b90-a6ee-e4ecdeeae285\",\"type\":\"Range1d\"},\"x_scale\":{\"id\":\"b8803076-264c-4f3b-9c1e-54d6223b9ee6\",\"type\":\"LinearScale\"},\"y_range\":{\"id\":\"eb02ff63-afd6-43c2-bd4d-788f0c62ae85\",\"type\":\"Range1d\"},\"y_scale\":{\"id\":\"74b13ffe-d14c-4b51-b362-fb28db3ba38f\",\"type\":\"LinearScale\"}},\"id\":\"1bf9afac-7db1-4ec0-8364-90ce9f4bf956\",\"subtype\":\"Figure\",\"type\":\"Plot\"},{\"attributes\":{\"plot\":{\"id\":\"1bf9afac-7db1-4ec0-8364-90ce9f4bf956\",\"subtype\":\"Figure\",\"type\":\"Plot\"},\"ticker\":{\"id\":\"9dbbb261-9508-4da0-90ce-44811cd54ee6\",\"type\":\"BasicTicker\"}},\"id\":\"c49a155e-7d9d-4717-bd7d-4f05af8029fe\",\"type\":\"Grid\"},{\"attributes\":{\"axis_label\":\"pressure [mb]\",\"formatter\":{\"id\":\"c0819ff2-6e29-44f7-b029-f0909f30f7ce\",\"type\":\"LogTickFormatter\"},\"plot\":{\"id\":\"a5b95f60-942c-4ed3-9e43-c2952adffa7a\",\"subtype\":\"Figure\",\"type\":\"Plot\"},\"ticker\":{\"id\":\"38a57c02-f758-491f-bb05-8c197ff882d3\",\"type\":\"LogTicker\"}},\"id\":\"19874a63-ab77-431f-a9b7-a710a6666a8b\",\"type\":\"LogAxis\"},{\"attributes\":{\"line_color\":\"#4daf4a\",\"line_width\":1.5,\"x\":{\"field\":\"x\"},\"y\":{\"field\":\"y\"}},\"id\":\"e11dafb5-7cfe-402d-ac0f-85d5264617ec\",\"type\":\"Line\"},{\"attributes\":{\"source\":{\"id\":\"a5e23f9f-0aa7-4cbb-9d79-1b638e7ea2bd\",\"type\":\"ColumnDataSource\"}},\"id\":\"abf69383-652c-4c14-8ebb-8cc247da8586\",\"type\":\"CDSView\"},{\"attributes\":{},\"id\":\"712a6699-bc12-4f14-9293-02e32d9873c9\",\"type\":\"BasicTickFormatter\"},{\"attributes\":{},\"id\":\"74b13ffe-d14c-4b51-b362-fb28db3ba38f\",\"type\":\"LinearScale\"},{\"attributes\":{\"bottom_units\":\"screen\",\"fill_alpha\":{\"value\":0.5},\"fill_color\":{\"value\":\"lightgrey\"},\"left_units\":\"screen\",\"level\":\"overlay\",\"line_alpha\":{\"value\":1.0},\"line_color\":{\"value\":\"black\"},\"line_dash\":[4,4],\"line_width\":{\"value\":2},\"plot\":null,\"render_mode\":\"css\",\"right_units\":\"screen\",\"top_units\":\"screen\"},\"id\":\"70194e6c-f97c-4144-9f7f-aadd6fa9e676\",\"type\":\"BoxAnnotation\"},{\"attributes\":{\"plot\":null,\"text\":\"Linear pressure scale\"},\"id\":\"7ed899ac-8a4b-41fb-9eec-fd5478b75933\",\"type\":\"Title\"},{\"attributes\":{},\"id\":\"32a33ace-161b-4b09-ac97-28906a937dda\",\"type\":\"BasicTickFormatter\"},{\"attributes\":{\"callback\":null,\"column_names\":[\"x\",\"y\"],\"data\":{\"x\":{\"__ndarray__\":\"1gCVyf4c6r70+W+8tO8AP2R7JdYhziA/SBw82p6GLj+tIc2ZV2Q2PxRp8MuzxT0/HkPDTnuVQj9tnoCWbnhGPz1tVpkZc0o/G2SaLhaDTj9sKQbimlZRP1zetBOAI1M/7QjqRiaIVD+Cmg8El3JWP4IKnUfkw1w/Mkt8mgVtaT+80zGwlMF2PxmdeR8q+YE/KxTpfk5Bij+Qsm5RoC6SP3NUa+oHOJg/6+cLKVhGnz9/MM/OkpWiP+OZAl/yu6E/iQjw9zqSmz8rWv00lRWUP8VB6dvn0Iw/oKl+dbrLhD8qKdMPuul+P4MDEneyoHc/Ky8hsen5cT/E9EYvH9dqPzywqoL7/2Q/DCQWm9DQYT8izee6umxeP1B0stNVmlk/kObnRa8/Vz/bS33NML1WP4uBZczs0VU/dCedZs9OVz/YmqfeBc9mP9BllG3zzYM/s7GESJVHmD8GABUurmimP3tCyt1UFbE/vDsecrRctD82MV+JAFq3P1D3KseeHLs/nVVVHpN7vz/p/6iPuC7CP+lQn0c51sQ/5/cFDWA+xz9m6VRDLKzJPw+o7RXMTsw/iNr0b7Aazz8LW/WxaQLRPxd9JnevhdI/jwidQnTp1D/RMlpg8jPXPw4WyplYJtk/VrVJ6qm62j+TFrLjVOXbP2XlNJddqNw/F/Ywi7sH3T/iG0y7fwndP2YAwX9nudw/d27zKXQc3D82AhLJZyTbP2GWTev8vNk/QUJahN7y1z9fkUaiI/vVP4vFLe5YD9Q/mLQ1ZDRZ0j+k6pHlqAzRP7aBO1CnfNE/\",\"dtype\":\"float64\",\"shape\":[75]},\"y\":{\"__ndarray__\":\"GhExyth1ND/Sv8nbtpRIP2vylNV0PVE/aTum7souWD/At0SJ8fVgPw3Iuahxymc/MSNhhJWvcD/bTfBN02d3P2zb5nxnaoA/CD5h5MAGhz8NmeH1TyaQP+zrCsc9p5Y/LbKd76fGnz/bLW5ISEmmPww9YvTcQq8/JV2OstnstT8Er5Y7M8G+P0c+r3jqkcU/5h99k6ZBzj88bCIzFzjVP4enV8oyxN0//yH99nXg5D8qOpLLf0jtP5kqGJXUifQ/c9cS8kHP/D+/DpwzojQEQIEmwoanVwxA4lgXt9HgE0BSSZ2AJuIbQAMJih9jjiNA5q4l5INuK0AwTKYKRj0zQNv5fmq8/DpAaCJseHrtQkB/+zpwzoxKQM3MzMzMeFJAZmZmZmZqWEAAAAAAAFxeQM3MzMzMJmJAmpmZmZkfZUBmZmZmZhhoQDMzMzMzEWtAAAAAAAAKbkBmZmZmZoFwQM3MzMzM/XFAMzMzMzN6c0CamZmZmfZ0QAAAAAAAc3ZAZmZmZmbvd0DNzMzMzGt5QDMzMzMz6HpAmpmZmZlkfEAAAAAAAOF9QGZmZmZmXX9AZmZmZuZsgECamZmZGSuBQM3MzMxM6YFAAAAAAICngkAzMzMzs2WDQGZmZmbmI4RAmpmZmRnihEDNzMzMTKCFQAAAAACAXoZAMzMzM7Mch0BmZmZm5tqHQJqZmZkZmYhAzczMzExXiUAAAAAAgBWKQDMzMzOz04pAZmZmZuaRi0CamZmZGVCMQM3MzMxMDo1AAAAAAIDMjUAzMzMzs4qOQGZmZmbmSI9A\",\"dtype\":\"float64\",\"shape\":[75]}}},\"id\":\"73ce9385-ad31-48e6-9496-61de8b10fe29\",\"type\":\"ColumnDataSource\"},{\"attributes\":{\"data_source\":{\"id\":\"a5e23f9f-0aa7-4cbb-9d79-1b638e7ea2bd\",\"type\":\"ColumnDataSource\"},\"glyph\":{\"id\":\"394fabf7-a457-46a6-9e17-30015f7a98f6\",\"type\":\"Circle\"},\"hover_glyph\":null,\"muted_glyph\":null,\"nonselection_glyph\":{\"id\":\"74040353-4555-4ad9-9348-4c2fbe1169ec\",\"type\":\"Circle\"},\"selection_glyph\":null,\"view\":{\"id\":\"abf69383-652c-4c14-8ebb-8cc247da8586\",\"type\":\"CDSView\"}},\"id\":\"4314ef16-c395-4875-b8bb-33775ff142c9\",\"type\":\"GlyphRenderer\"},{\"attributes\":{\"num_minor_ticks\":10},\"id\":\"38a57c02-f758-491f-bb05-8c197ff882d3\",\"type\":\"LogTicker\"},{\"attributes\":{\"line_alpha\":0.6,\"line_color\":\"#e41a1c\",\"line_dash\":[6],\"line_width\":5,\"x\":{\"field\":\"x\"},\"y\":{\"field\":\"y\"}},\"id\":\"64a88ef4-57a8-4d9b-95e2-cb911bd2ec88\",\"type\":\"Line\"},{\"attributes\":{\"axis_label\":\"cooling rate [K/day]\",\"formatter\":{\"id\":\"32a33ace-161b-4b09-ac97-28906a937dda\",\"type\":\"BasicTickFormatter\"},\"plot\":{\"id\":\"1bf9afac-7db1-4ec0-8364-90ce9f4bf956\",\"subtype\":\"Figure\",\"type\":\"Plot\"},\"ticker\":{\"id\":\"9dbbb261-9508-4da0-90ce-44811cd54ee6\",\"type\":\"BasicTicker\"}},\"id\":\"e3765cb4-cd07-4eb4-ac89-4abf1cb72bfe\",\"type\":\"LinearAxis\"},{\"attributes\":{},\"id\":\"b8803076-264c-4f3b-9c1e-54d6223b9ee6\",\"type\":\"LinearScale\"},{\"attributes\":{\"data_source\":{\"id\":\"73ce9385-ad31-48e6-9496-61de8b10fe29\",\"type\":\"ColumnDataSource\"},\"glyph\":{\"id\":\"e11dafb5-7cfe-402d-ac0f-85d5264617ec\",\"type\":\"Line\"},\"hover_glyph\":null,\"muted_glyph\":null,\"nonselection_glyph\":{\"id\":\"7b54fb62-489d-4100-b3f2-37d30185b24f\",\"type\":\"Line\"},\"selection_glyph\":null,\"view\":{\"id\":\"570b89c1-574c-4958-bc08-51a2108a8a05\",\"type\":\"CDSView\"}},\"id\":\"4b1c4422-30fd-4620-a85d-0086e761bba7\",\"type\":\"GlyphRenderer\"},{\"attributes\":{},\"id\":\"9dbbb261-9508-4da0-90ce-44811cd54ee6\",\"type\":\"BasicTicker\"},{\"attributes\":{\"active_drag\":\"auto\",\"active_inspect\":\"auto\",\"active_scroll\":\"auto\",\"active_tap\":\"auto\",\"tools\":[{\"id\":\"7e4770a0-ed35-4fd5-8777-356cd4e48d18\",\"type\":\"PanTool\"},{\"id\":\"cdd522db-b689-456d-ba28-201c5cefb12f\",\"type\":\"WheelZoomTool\"},{\"id\":\"6f8b0215-06dc-430c-be12-23d8b6a69038\",\"type\":\"BoxZoomTool\"},{\"id\":\"78c0d02d-95f2-4419-9df2-38edb5f6bd16\",\"type\":\"SaveTool\"},{\"id\":\"1556a5c0-caf8-4043-a244-6679ad96e8fb\",\"type\":\"ResetTool\"},{\"id\":\"d3e7fb51-8b5c-4437-9a6a-5c9a6a8d371e\",\"type\":\"HelpTool\"}]},\"id\":\"6e38f821-1c3d-44c6-8302-7da58f6e1cfe\",\"type\":\"Toolbar\"},{\"attributes\":{\"source\":{\"id\":\"8d1f0834-544d-4ca7-81de-97b77f973253\",\"type\":\"ColumnDataSource\"}},\"id\":\"e6477cf4-c92d-4181-abd5-6621a0c8eeb9\",\"type\":\"CDSView\"},{\"attributes\":{\"source\":{\"id\":\"692429bb-16d6-4c32-a788-0b4505806e87\",\"type\":\"ColumnDataSource\"}},\"id\":\"6ae72a49-c718-4b60-905d-c8e8b2b88fe5\",\"type\":\"CDSView\"},{\"attributes\":{\"callback\":null,\"column_names\":[\"x\",\"y\"],\"data\":{\"x\":{\"__ndarray__\":\"1gCVyf4c6r70+W+8tO8AP2R7JdYhziA/SBw82p6GLj+tIc2ZV2Q2PxRp8MuzxT0/HkPDTnuVQj9tnoCWbnhGPz1tVpkZc0o/G2SaLhaDTj9sKQbimlZRP1zetBOAI1M/7QjqRiaIVD+Cmg8El3JWP4IKnUfkw1w/Mkt8mgVtaT+80zGwlMF2PxmdeR8q+YE/KxTpfk5Bij+Qsm5RoC6SP3NUa+oHOJg/6+cLKVhGnz9/MM/OkpWiP+OZAl/yu6E/iQjw9zqSmz8rWv00lRWUP8VB6dvn0Iw/oKl+dbrLhD8qKdMPuul+P4MDEneyoHc/Ky8hsen5cT/E9EYvH9dqPzywqoL7/2Q/DCQWm9DQYT8izee6umxeP1B0stNVmlk/kObnRa8/Vz/bS33NML1WP4uBZczs0VU/dCedZs9OVz/YmqfeBc9mP9BllG3zzYM/s7GESJVHmD8GABUurmimP3tCyt1UFbE/vDsecrRctD82MV+JAFq3P1D3KseeHLs/nVVVHpN7vz/p/6iPuC7CP+lQn0c51sQ/5/cFDWA+xz9m6VRDLKzJPw+o7RXMTsw/iNr0b7Aazz8LW/WxaQLRPxd9JnevhdI/jwidQnTp1D/RMlpg8jPXPw4WyplYJtk/VrVJ6qm62j+TFrLjVOXbP2XlNJddqNw/F/Ywi7sH3T/iG0y7fwndP2YAwX9nudw/d27zKXQc3D82AhLJZyTbP2GWTev8vNk/QUJahN7y1z9fkUaiI/vVP4vFLe5YD9Q/mLQ1ZDRZ0j+k6pHlqAzRP7aBO1CnfNE/\",\"dtype\":\"float64\",\"shape\":[75]},\"y\":{\"__ndarray__\":\"GhExyth1ND/Sv8nbtpRIP2vylNV0PVE/aTum7souWD/At0SJ8fVgPw3Iuahxymc/MSNhhJWvcD/bTfBN02d3P2zb5nxnaoA/CD5h5MAGhz8NmeH1TyaQP+zrCsc9p5Y/LbKd76fGnz/bLW5ISEmmPww9YvTcQq8/JV2OstnstT8Er5Y7M8G+P0c+r3jqkcU/5h99k6ZBzj88bCIzFzjVP4enV8oyxN0//yH99nXg5D8qOpLLf0jtP5kqGJXUifQ/c9cS8kHP/D+/DpwzojQEQIEmwoanVwxA4lgXt9HgE0BSSZ2AJuIbQAMJih9jjiNA5q4l5INuK0AwTKYKRj0zQNv5fmq8/DpAaCJseHrtQkB/+zpwzoxKQM3MzMzMeFJAZmZmZmZqWEAAAAAAAFxeQM3MzMzMJmJAmpmZmZkfZUBmZmZmZhhoQDMzMzMzEWtAAAAAAAAKbkBmZmZmZoFwQM3MzMzM/XFAMzMzMzN6c0CamZmZmfZ0QAAAAAAAc3ZAZmZmZmbvd0DNzMzMzGt5QDMzMzMz6HpAmpmZmZlkfEAAAAAAAOF9QGZmZmZmXX9AZmZmZuZsgECamZmZGSuBQM3MzMxM6YFAAAAAAICngkAzMzMzs2WDQGZmZmbmI4RAmpmZmRnihEDNzMzMTKCFQAAAAACAXoZAMzMzM7Mch0BmZmZm5tqHQJqZmZkZmYhAzczMzExXiUAAAAAAgBWKQDMzMzOz04pAZmZmZuaRi0CamZmZGVCMQM3MzMxMDo1AAAAAAIDMjUAzMzMzs4qOQGZmZmbmSI9A\",\"dtype\":\"float64\",\"shape\":[75]}}},\"id\":\"cb4fea61-07e0-49ea-b28e-21c94b88915c\",\"type\":\"ColumnDataSource\"},{\"attributes\":{\"children\":[{\"id\":\"5ac91892-7d87-4941-af80-6383fb68ccd0\",\"type\":\"ToolbarBox\"},{\"id\":\"fc3baba5-7b9d-402c-8750-68274dd85c38\",\"type\":\"Column\"}]},\"id\":\"cfab09c7-1bd9-48fc-9730-e7c2b1594650\",\"type\":\"Column\"},{\"attributes\":{\"fill_alpha\":{\"value\":0.1},\"fill_color\":{\"value\":\"#1f77b4\"},\"line_alpha\":{\"value\":0.1},\"line_color\":{\"value\":\"#1f77b4\"},\"x\":{\"field\":\"x\"},\"y\":{\"field\":\"y\"}},\"id\":\"d47b4e57-9026-4de5-917b-ecf931f1cd4c\",\"type\":\"Circle\"},{\"attributes\":{\"source\":{\"id\":\"df8bac12-176c-4ff6-ba10-2c1d3becad0c\",\"type\":\"ColumnDataSource\"}},\"id\":\"3a0c7984-b590-4034-8e2e-c02e45e50f01\",\"type\":\"CDSView\"},{\"attributes\":{},\"id\":\"52e0ab73-e10a-4e10-9bfe-99f468f2beff\",\"type\":\"WheelZoomTool\"},{\"attributes\":{\"dimension\":1,\"plot\":{\"id\":\"a5b95f60-942c-4ed3-9e43-c2952adffa7a\",\"subtype\":\"Figure\",\"type\":\"Plot\"},\"ticker\":{\"id\":\"38a57c02-f758-491f-bb05-8c197ff882d3\",\"type\":\"LogTicker\"}},\"id\":\"071c9c94-0725-4d94-9a72-3175646bb48e\",\"type\":\"Grid\"},{\"attributes\":{\"callback\":null,\"column_names\":[\"x\",\"y\"],\"data\":{\"x\":{\"__ndarray__\":\"aiJooTdsRj+mTNbAP7pHPwcKOOL0jEo//KTv+gifTT+9ICfY8WNQP3Z04xugA1I/+oYt5syuUz/oeOBHuWVVP0qhp2SeKVc/2Wm1I+j6WD9+PGIzRtdaP5sApnm1j1w/KAONRTdiXj82hP+A2UlgP1inEy3njmM/IRksnZppbT/dsHqlv6J3P54R6mtatoE/g2Jexsg2iT/Uh6beB0qRPyZJncesDJc/1YztA7L7nT+VqkuRgRmiP73vIZCo8KE/Sz9DIPyWnT/ssKWwPNqWP9KtUuKuG5E/kNsYDioJiT8nt0k6BR6CPyEBupwC8Hk/+rR4DSkLcj8kWKwHRmpoPyxf0618mmE/mtdUzELMXD9GIbVIJJJYP9qfEb78alU/afpCnwVzVD85UF4Ynt1UP9wx6Kxnr1Q/S+V5rqmXVj+gpvqfnktmP9JmEOvumoM/IVB6zKSJmD/oa4P+DtGmP6fJqj2xTrE/Ga/YPSCqtD+fTeJ+F6u3P/xLBm2aB7s/10ciwxu3vj+I1BAVnobBP0PbfHZYG8Q/c16qLV6Zxj9VDtlFqhnJPx8Gg4rnscs/nvjLLYRYzj+Z8Zcv/4zQP+mOVju8BNI/Q4l2aAtn1D9XWx5Sj8LWPySF+Dr10Ng/0HF/RIx/2j/ghhp9z7zbP7jnZe4YjNw/9oINNu7+3D9Ji6UKDSLdP+rMJ7EVAd0/hsqi3SyY3D+OnQTRCszbP267XgEdfdo/1rO24ROz2D96TuQCLKjWP1SQXzwPlNQ/TJ5cAF240j/9sAISmUzRPxoX9l17mtE/\",\"dtype\":\"float64\",\"shape\":[75]},\"y\":{\"__ndarray__\":\"GhExyth1ND/Sv8nbtpRIP2vylNV0PVE/aTum7souWD/At0SJ8fVgPw3Iuahxymc/MSNhhJWvcD/bTfBN02d3P2zb5nxnaoA/CD5h5MAGhz8NmeH1TyaQP+zrCsc9p5Y/LbKd76fGnz/bLW5ISEmmPww9YvTcQq8/JV2OstnstT8Er5Y7M8G+P0c+r3jqkcU/5h99k6ZBzj88bCIzFzjVP4enV8oyxN0//yH99nXg5D8qOpLLf0jtP5kqGJXUifQ/c9cS8kHP/D+/DpwzojQEQIEmwoanVwxA4lgXt9HgE0BSSZ2AJuIbQAMJih9jjiNA5q4l5INuK0AwTKYKRj0zQNv5fmq8/DpAaCJseHrtQkB/+zpwzoxKQM3MzMzMeFJAZmZmZmZqWEAAAAAAAFxeQM3MzMzMJmJAmpmZmZkfZUBmZmZmZhhoQDMzMzMzEWtAAAAAAAAKbkBmZmZmZoFwQM3MzMzM/XFAMzMzMzN6c0CamZmZmfZ0QAAAAAAAc3ZAZmZmZmbvd0DNzMzMzGt5QDMzMzMz6HpAmpmZmZlkfEAAAAAAAOF9QGZmZmZmXX9AZmZmZuZsgECamZmZGSuBQM3MzMxM6YFAAAAAAICngkAzMzMzs2WDQGZmZmbmI4RAmpmZmRnihEDNzMzMTKCFQAAAAACAXoZAMzMzM7Mch0BmZmZm5tqHQJqZmZkZmYhAzczMzExXiUAAAAAAgBWKQDMzMzOz04pAZmZmZuaRi0CamZmZGVCMQM3MzMxMDo1AAAAAAIDMjUAzMzMzs4qOQGZmZmbmSI9A\",\"dtype\":\"float64\",\"shape\":[75]}}},\"id\":\"07c0982b-03cf-42a7-b748-3f8e95228aa0\",\"type\":\"ColumnDataSource\"},{\"attributes\":{\"source\":{\"id\":\"5a8433e2-2935-471e-9745-46650e50e275\",\"type\":\"ColumnDataSource\"}},\"id\":\"f3851d4e-e594-4fd2-81ee-28fe756d01db\",\"type\":\"CDSView\"},{\"attributes\":{\"fill_alpha\":{\"value\":0.7},\"fill_color\":{\"value\":\"#4daf4a\"},\"line_alpha\":{\"value\":0.7},\"line_color\":{\"value\":\"#4daf4a\"},\"x\":{\"field\":\"x\"},\"y\":{\"field\":\"y\"}},\"id\":\"43181bb3-d980-4d3b-beda-8a82dc69df21\",\"type\":\"Circle\"},{\"attributes\":{\"data_source\":{\"id\":\"cb4fea61-07e0-49ea-b28e-21c94b88915c\",\"type\":\"ColumnDataSource\"},\"glyph\":{\"id\":\"a09fd87d-2aaa-40e4-ae86-65a6e2f94644\",\"type\":\"Line\"},\"hover_glyph\":null,\"muted_glyph\":null,\"nonselection_glyph\":{\"id\":\"f2b93f4a-8a85-4353-bc9b-d5b16ffaf7cf\",\"type\":\"Line\"},\"selection_glyph\":null,\"view\":{\"id\":\"cbcef422-40bd-49c1-929d-acad4d5a2cbd\",\"type\":\"CDSView\"}},\"id\":\"9949fb34-52c4-4d45-b8f9-be529955dd37\",\"type\":\"GlyphRenderer\"},{\"attributes\":{\"fill_alpha\":{\"value\":0.7},\"fill_color\":{\"value\":\"#984ea3\"},\"line_alpha\":{\"value\":0.7},\"line_color\":{\"value\":\"#984ea3\"},\"x\":{\"field\":\"x\"},\"y\":{\"field\":\"y\"}},\"id\":\"48cbf15c-5ef0-4d08-bec7-6e9d63d462a2\",\"type\":\"Square\"},{\"attributes\":{},\"id\":\"ff129f77-17c6-44f0-88dd-cffec650e7cb\",\"type\":\"BasicTicker\"},{\"attributes\":{},\"id\":\"c22625a5-fb9f-4d30-aed8-cf4a2ccefeaa\",\"type\":\"PanTool\"},{\"attributes\":{\"fill_alpha\":{\"value\":0.1},\"fill_color\":{\"value\":\"#1f77b4\"},\"line_alpha\":{\"value\":0.1},\"line_color\":{\"value\":\"#1f77b4\"},\"x\":{\"field\":\"x\"},\"y\":{\"field\":\"y\"}},\"id\":\"a4fecb90-2b6f-425d-8a59-8465e6027f2d\",\"type\":\"Square\"},{\"attributes\":{\"ticker\":null},\"id\":\"c0819ff2-6e29-44f7-b029-f0909f30f7ce\",\"type\":\"LogTickFormatter\"},{\"attributes\":{\"fill_alpha\":{\"value\":0.7},\"fill_color\":{\"value\":\"#4daf4a\"},\"line_alpha\":{\"value\":0.7},\"line_color\":{\"value\":\"#4daf4a\"},\"x\":{\"field\":\"x\"},\"y\":{\"field\":\"y\"}},\"id\":\"394fabf7-a457-46a6-9e17-30015f7a98f6\",\"type\":\"Circle\"},{\"attributes\":{\"tools\":[{\"id\":\"7e4770a0-ed35-4fd5-8777-356cd4e48d18\",\"type\":\"PanTool\"},{\"id\":\"cdd522db-b689-456d-ba28-201c5cefb12f\",\"type\":\"WheelZoomTool\"},{\"id\":\"6f8b0215-06dc-430c-be12-23d8b6a69038\",\"type\":\"BoxZoomTool\"},{\"id\":\"78c0d02d-95f2-4419-9df2-38edb5f6bd16\",\"type\":\"SaveTool\"},{\"id\":\"1556a5c0-caf8-4043-a244-6679ad96e8fb\",\"type\":\"ResetTool\"},{\"id\":\"d3e7fb51-8b5c-4437-9a6a-5c9a6a8d371e\",\"type\":\"HelpTool\"},{\"id\":\"c22625a5-fb9f-4d30-aed8-cf4a2ccefeaa\",\"type\":\"PanTool\"},{\"id\":\"52e0ab73-e10a-4e10-9bfe-99f468f2beff\",\"type\":\"WheelZoomTool\"},{\"id\":\"753976a1-2b27-4bd1-8d17-834a5ea7c0b4\",\"type\":\"BoxZoomTool\"},{\"id\":\"23ad4cf2-80ea-4375-9e52-63ca865b02f6\",\"type\":\"SaveTool\"},{\"id\":\"77b8b269-d7b4-4934-8da9-4b030f58b4ba\",\"type\":\"ResetTool\"},{\"id\":\"66d8ad79-5831-4f8d-ae1c-c43bc66e20ef\",\"type\":\"HelpTool\"}]},\"id\":\"39dcc51c-578a-49ff-82ea-e00760a39996\",\"type\":\"ProxyToolbar\"},{\"attributes\":{\"data_source\":{\"id\":\"8d1f0834-544d-4ca7-81de-97b77f973253\",\"type\":\"ColumnDataSource\"},\"glyph\":{\"id\":\"48cbf15c-5ef0-4d08-bec7-6e9d63d462a2\",\"type\":\"Square\"},\"hover_glyph\":null,\"muted_glyph\":null,\"nonselection_glyph\":{\"id\":\"a4fecb90-2b6f-425d-8a59-8465e6027f2d\",\"type\":\"Square\"},\"selection_glyph\":null,\"view\":{\"id\":\"e6477cf4-c92d-4181-abd5-6621a0c8eeb9\",\"type\":\"CDSView\"}},\"id\":\"754a3222-9434-438a-b160-58c9323f30e2\",\"type\":\"GlyphRenderer\"},{\"attributes\":{\"below\":[{\"id\":\"d3da44b8-4207-4219-a503-12d3f9f1b6ae\",\"type\":\"LinearAxis\"}],\"left\":[{\"id\":\"19874a63-ab77-431f-a9b7-a710a6666a8b\",\"type\":\"LogAxis\"}],\"plot_height\":500,\"plot_width\":560,\"renderers\":[{\"id\":\"d3da44b8-4207-4219-a503-12d3f9f1b6ae\",\"type\":\"LinearAxis\"},{\"id\":\"fc4504c4-6a49-43f6-8028-ab40abf431e5\",\"type\":\"Grid\"},{\"id\":\"19874a63-ab77-431f-a9b7-a710a6666a8b\",\"type\":\"LogAxis\"},{\"id\":\"071c9c94-0725-4d94-9a72-3175646bb48e\",\"type\":\"Grid\"},{\"id\":\"98228253-d9b9-43bc-a66f-36fab1345e6d\",\"type\":\"BoxAnnotation\"},{\"id\":\"88f6ca5a-95e8-46d6-b884-c40768a69a1e\",\"type\":\"GlyphRenderer\"},{\"id\":\"ed4eca89-2efa-4a96-a17b-f373c6efb2c0\",\"type\":\"GlyphRenderer\"},{\"id\":\"9949fb34-52c4-4d45-b8f9-be529955dd37\",\"type\":\"GlyphRenderer\"},{\"id\":\"f4f92a8a-20fb-4f05-b695-010cb9f9d4ad\",\"type\":\"GlyphRenderer\"},{\"id\":\"dfe4c34b-fbd2-4e66-b310-89c22f86c80d\",\"type\":\"GlyphRenderer\"},{\"id\":\"ef27518f-3852-49ab-94f1-df438dcac138\",\"type\":\"Legend\"}],\"right\":[{\"id\":\"ef27518f-3852-49ab-94f1-df438dcac138\",\"type\":\"Legend\"}],\"title\":{\"id\":\"27184881-c09f-49a0-a954-67e56bc722a5\",\"type\":\"Title\"},\"toolbar\":{\"id\":\"77c6c54e-51a4-4d84-bbae-479645052601\",\"type\":\"Toolbar\"},\"toolbar_location\":null,\"x_range\":{\"id\":\"fb40fdfc-3887-4a28-a1fa-335e30b5b508\",\"type\":\"Range1d\"},\"x_scale\":{\"id\":\"3d4f710c-a3fa-418b-9654-95ad52147682\",\"type\":\"LinearScale\"},\"y_range\":{\"id\":\"eeb72ea3-29f9-4232-910c-712c7c4ee590\",\"type\":\"Range1d\"},\"y_scale\":{\"id\":\"c70e1c54-01a0-4c67-857f-54008cbe29f2\",\"type\":\"LogScale\"}},\"id\":\"a5b95f60-942c-4ed3-9e43-c2952adffa7a\",\"subtype\":\"Figure\",\"type\":\"Plot\"},{\"attributes\":{\"callback\":null,\"column_names\":[\"x\",\"y\"],\"data\":{\"x\":{\"__ndarray__\":\"1gCVyf4c6r70+W+8tO8AP2R7JdYhziA/SBw82p6GLj+tIc2ZV2Q2PxRp8MuzxT0/HkPDTnuVQj9tnoCWbnhGPz1tVpkZc0o/G2SaLhaDTj9sKQbimlZRP1zetBOAI1M/7QjqRiaIVD+Cmg8El3JWP4IKnUfkw1w/Mkt8mgVtaT+80zGwlMF2PxmdeR8q+YE/KxTpfk5Bij+Qsm5RoC6SP3NUa+oHOJg/6+cLKVhGnz9/MM/OkpWiP+OZAl/yu6E/iQjw9zqSmz8rWv00lRWUP8VB6dvn0Iw/oKl+dbrLhD8qKdMPuul+P4MDEneyoHc/Ky8hsen5cT/E9EYvH9dqPzywqoL7/2Q/DCQWm9DQYT8izee6umxeP1B0stNVmlk/kObnRa8/Vz/bS33NML1WP4uBZczs0VU/dCedZs9OVz/YmqfeBc9mP9BllG3zzYM/s7GESJVHmD8GABUurmimP3tCyt1UFbE/vDsecrRctD82MV+JAFq3P1D3KseeHLs/nVVVHpN7vz/p/6iPuC7CP+lQn0c51sQ/5/cFDWA+xz9m6VRDLKzJPw+o7RXMTsw/iNr0b7Aazz8LW/WxaQLRPxd9JnevhdI/jwidQnTp1D/RMlpg8jPXPw4WyplYJtk/VrVJ6qm62j+TFrLjVOXbP2XlNJddqNw/F/Ywi7sH3T/iG0y7fwndP2YAwX9nudw/d27zKXQc3D82AhLJZyTbP2GWTev8vNk/QUJahN7y1z9fkUaiI/vVP4vFLe5YD9Q/mLQ1ZDRZ0j+k6pHlqAzRP7aBO1CnfNE/\",\"dtype\":\"float64\",\"shape\":[75]},\"y\":{\"__ndarray__\":\"GhExyth1ND/Sv8nbtpRIP2vylNV0PVE/aTum7souWD/At0SJ8fVgPw3Iuahxymc/MSNhhJWvcD/bTfBN02d3P2zb5nxnaoA/CD5h5MAGhz8NmeH1TyaQP+zrCsc9p5Y/LbKd76fGnz/bLW5ISEmmPww9YvTcQq8/JV2OstnstT8Er5Y7M8G+P0c+r3jqkcU/5h99k6ZBzj88bCIzFzjVP4enV8oyxN0//yH99nXg5D8qOpLLf0jtP5kqGJXUifQ/c9cS8kHP/D+/DpwzojQEQIEmwoanVwxA4lgXt9HgE0BSSZ2AJuIbQAMJih9jjiNA5q4l5INuK0AwTKYKRj0zQNv5fmq8/DpAaCJseHrtQkB/+zpwzoxKQM3MzMzMeFJAZmZmZmZqWEAAAAAAAFxeQM3MzMzMJmJAmpmZmZkfZUBmZmZmZhhoQDMzMzMzEWtAAAAAAAAKbkBmZmZmZoFwQM3MzMzM/XFAMzMzMzN6c0CamZmZmfZ0QAAAAAAAc3ZAZmZmZmbvd0DNzMzMzGt5QDMzMzMz6HpAmpmZmZlkfEAAAAAAAOF9QGZmZmZmXX9AZmZmZuZsgECamZmZGSuBQM3MzMxM6YFAAAAAAICngkAzMzMzs2WDQGZmZmbmI4RAmpmZmRnihEDNzMzMTKCFQAAAAACAXoZAMzMzM7Mch0BmZmZm5tqHQJqZmZkZmYhAzczMzExXiUAAAAAAgBWKQDMzMzOz04pAZmZmZuaRi0CamZmZGVCMQM3MzMxMDo1AAAAAAIDMjUAzMzMzs4qOQGZmZmbmSI9A\",\"dtype\":\"float64\",\"shape\":[75]}}},\"id\":\"36534150-dedd-4400-b894-93b36484a491\",\"type\":\"ColumnDataSource\"},{\"attributes\":{\"data_source\":{\"id\":\"36534150-dedd-4400-b894-93b36484a491\",\"type\":\"ColumnDataSource\"},\"glyph\":{\"id\":\"43181bb3-d980-4d3b-beda-8a82dc69df21\",\"type\":\"Circle\"},\"hover_glyph\":null,\"muted_glyph\":null,\"nonselection_glyph\":{\"id\":\"d47b4e57-9026-4de5-917b-ecf931f1cd4c\",\"type\":\"Circle\"},\"selection_glyph\":null,\"view\":{\"id\":\"0aa3d52e-a367-4455-a5ff-f33da5e3ffa5\",\"type\":\"CDSView\"}},\"id\":\"ed4eca89-2efa-4a96-a17b-f373c6efb2c0\",\"type\":\"GlyphRenderer\"},{\"attributes\":{},\"id\":\"47db4f8d-b4f3-43f5-a528-0fddf2a5be19\",\"type\":\"BasicTickFormatter\"},{\"attributes\":{\"source\":{\"id\":\"36534150-dedd-4400-b894-93b36484a491\",\"type\":\"ColumnDataSource\"}},\"id\":\"0aa3d52e-a367-4455-a5ff-f33da5e3ffa5\",\"type\":\"CDSView\"},{\"attributes\":{\"line_color\":\"#4daf4a\",\"line_width\":1.5,\"x\":{\"field\":\"x\"},\"y\":{\"field\":\"y\"}},\"id\":\"a09fd87d-2aaa-40e4-ae86-65a6e2f94644\",\"type\":\"Line\"},{\"attributes\":{\"line_alpha\":0.1,\"line_color\":\"#1f77b4\",\"line_width\":1.5,\"x\":{\"field\":\"x\"},\"y\":{\"field\":\"y\"}},\"id\":\"f2b93f4a-8a85-4353-bc9b-d5b16ffaf7cf\",\"type\":\"Line\"},{\"attributes\":{\"fill_alpha\":{\"value\":0.1},\"fill_color\":{\"value\":\"#1f77b4\"},\"line_alpha\":{\"value\":0.1},\"line_color\":{\"value\":\"#1f77b4\"},\"x\":{\"field\":\"x\"},\"y\":{\"field\":\"y\"}},\"id\":\"74040353-4555-4ad9-9348-4c2fbe1169ec\",\"type\":\"Circle\"},{\"attributes\":{\"callback\":null,\"column_names\":[\"x\",\"y\"],\"data\":{\"x\":{\"__ndarray__\":\"aiJooTdsRj+mTNbAP7pHPwcKOOL0jEo//KTv+gifTT+9ICfY8WNQP3Z04xugA1I/+oYt5syuUz/oeOBHuWVVP0qhp2SeKVc/2Wm1I+j6WD9+PGIzRtdaP5sApnm1j1w/KAONRTdiXj82hP+A2UlgP1inEy3njmM/IRksnZppbT/dsHqlv6J3P54R6mtatoE/g2Jexsg2iT/Uh6beB0qRPyZJncesDJc/1YztA7L7nT+VqkuRgRmiP73vIZCo8KE/Sz9DIPyWnT/ssKWwPNqWP9KtUuKuG5E/kNsYDioJiT8nt0k6BR6CPyEBupwC8Hk/+rR4DSkLcj8kWKwHRmpoPyxf0618mmE/mtdUzELMXD9GIbVIJJJYP9qfEb78alU/afpCnwVzVD85UF4Ynt1UP9wx6Kxnr1Q/S+V5rqmXVj+gpvqfnktmP9JmEOvumoM/IVB6zKSJmD/oa4P+DtGmP6fJqj2xTrE/Ga/YPSCqtD+fTeJ+F6u3P/xLBm2aB7s/10ciwxu3vj+I1BAVnobBP0PbfHZYG8Q/c16qLV6Zxj9VDtlFqhnJPx8Gg4rnscs/nvjLLYRYzj+Z8Zcv/4zQP+mOVju8BNI/Q4l2aAtn1D9XWx5Sj8LWPySF+Dr10Ng/0HF/RIx/2j/ghhp9z7zbP7jnZe4YjNw/9oINNu7+3D9Ji6UKDSLdP+rMJ7EVAd0/hsqi3SyY3D+OnQTRCszbP267XgEdfdo/1rO24ROz2D96TuQCLKjWP1SQXzwPlNQ/TJ5cAF240j/9sAISmUzRPxoX9l17mtE/\",\"dtype\":\"float64\",\"shape\":[75]},\"y\":{\"__ndarray__\":\"GhExyth1ND/Sv8nbtpRIP2vylNV0PVE/aTum7souWD/At0SJ8fVgPw3Iuahxymc/MSNhhJWvcD/bTfBN02d3P2zb5nxnaoA/CD5h5MAGhz8NmeH1TyaQP+zrCsc9p5Y/LbKd76fGnz/bLW5ISEmmPww9YvTcQq8/JV2OstnstT8Er5Y7M8G+P0c+r3jqkcU/5h99k6ZBzj88bCIzFzjVP4enV8oyxN0//yH99nXg5D8qOpLLf0jtP5kqGJXUifQ/c9cS8kHP/D+/DpwzojQEQIEmwoanVwxA4lgXt9HgE0BSSZ2AJuIbQAMJih9jjiNA5q4l5INuK0AwTKYKRj0zQNv5fmq8/DpAaCJseHrtQkB/+zpwzoxKQM3MzMzMeFJAZmZmZmZqWEAAAAAAAFxeQM3MzMzMJmJAmpmZmZkfZUBmZmZmZhhoQDMzMzMzEWtAAAAAAAAKbkBmZmZmZoFwQM3MzMzM/XFAMzMzMzN6c0CamZmZmfZ0QAAAAAAAc3ZAZmZmZmbvd0DNzMzMzGt5QDMzMzMz6HpAmpmZmZlkfEAAAAAAAOF9QGZmZmZmXX9AZmZmZuZsgECamZmZGSuBQM3MzMxM6YFAAAAAAICngkAzMzMzs2WDQGZmZmbmI4RAmpmZmRnihEDNzMzMTKCFQAAAAACAXoZAMzMzM7Mch0BmZmZm5tqHQJqZmZkZmYhAzczMzExXiUAAAAAAgBWKQDMzMzOz04pAZmZmZuaRi0CamZmZGVCMQM3MzMxMDo1AAAAAAIDMjUAzMzMzs4qOQGZmZmbmSI9A\",\"dtype\":\"float64\",\"shape\":[75]}}},\"id\":\"347c7911-58a2-435c-82e1-6f163a022209\",\"type\":\"ColumnDataSource\"},{\"attributes\":{\"bottom_units\":\"screen\",\"fill_alpha\":{\"value\":0.5},\"fill_color\":{\"value\":\"lightgrey\"},\"left_units\":\"screen\",\"level\":\"overlay\",\"line_alpha\":{\"value\":1.0},\"line_color\":{\"value\":\"black\"},\"line_dash\":[4,4],\"line_width\":{\"value\":2},\"plot\":null,\"render_mode\":\"css\",\"right_units\":\"screen\",\"top_units\":\"screen\"},\"id\":\"98228253-d9b9-43bc-a66f-36fab1345e6d\",\"type\":\"BoxAnnotation\"},{\"attributes\":{\"plot\":null,\"text\":\"Log pressure scale\"},\"id\":\"27184881-c09f-49a0-a954-67e56bc722a5\",\"type\":\"Title\"},{\"attributes\":{\"source\":{\"id\":\"cb4fea61-07e0-49ea-b28e-21c94b88915c\",\"type\":\"ColumnDataSource\"}},\"id\":\"cbcef422-40bd-49c1-929d-acad4d5a2cbd\",\"type\":\"CDSView\"},{\"attributes\":{\"line_alpha\":0.1,\"line_color\":\"#1f77b4\",\"line_width\":3,\"x\":{\"field\":\"x\"},\"y\":{\"field\":\"y\"}},\"id\":\"ffee8092-b0e4-4307-8ca3-631b14826d00\",\"type\":\"Line\"},{\"attributes\":{\"fill_alpha\":{\"value\":0.7},\"fill_color\":{\"value\":\"#984ea3\"},\"line_alpha\":{\"value\":0.7},\"line_color\":{\"value\":\"#984ea3\"},\"x\":{\"field\":\"x\"},\"y\":{\"field\":\"y\"}},\"id\":\"257ff2c6-d296-49c7-8c61-d2f4570334ab\",\"type\":\"Square\"},{\"attributes\":{\"line_alpha\":0.6,\"line_color\":\"#984ea3\",\"line_width\":3,\"x\":{\"field\":\"x\"},\"y\":{\"field\":\"y\"}},\"id\":\"224e0387-67d5-4f95-a312-9b30b0dc6049\",\"type\":\"Line\"},{\"attributes\":{\"callback\":null,\"end\":0.036791137328,\"start\":-0.002556824128},\"id\":\"fb40fdfc-3887-4a28-a1fa-335e30b5b508\",\"type\":\"Range1d\"},{\"attributes\":{\"fill_alpha\":{\"value\":0.1},\"fill_color\":{\"value\":\"#1f77b4\"},\"line_alpha\":{\"value\":0.1},\"line_color\":{\"value\":\"#1f77b4\"},\"x\":{\"field\":\"x\"},\"y\":{\"field\":\"y\"}},\"id\":\"18c16a16-f934-43e3-9209-6c6653dce5ce\",\"type\":\"Square\"},{\"attributes\":{\"data_source\":{\"id\":\"07c0982b-03cf-42a7-b748-3f8e95228aa0\",\"type\":\"ColumnDataSource\"},\"glyph\":{\"id\":\"257ff2c6-d296-49c7-8c61-d2f4570334ab\",\"type\":\"Square\"},\"hover_glyph\":null,\"muted_glyph\":null,\"nonselection_glyph\":{\"id\":\"18c16a16-f934-43e3-9209-6c6653dce5ce\",\"type\":\"Square\"},\"selection_glyph\":null,\"view\":{\"id\":\"1c0dbcf9-ce10-467a-a4ac-e64a58ee06a7\",\"type\":\"CDSView\"}},\"id\":\"f4f92a8a-20fb-4f05-b695-010cb9f9d4ad\",\"type\":\"GlyphRenderer\"},{\"attributes\":{\"data_source\":{\"id\":\"692429bb-16d6-4c32-a788-0b4505806e87\",\"type\":\"ColumnDataSource\"},\"glyph\":{\"id\":\"224e0387-67d5-4f95-a312-9b30b0dc6049\",\"type\":\"Line\"},\"hover_glyph\":null,\"muted_glyph\":null,\"nonselection_glyph\":{\"id\":\"ffee8092-b0e4-4307-8ca3-631b14826d00\",\"type\":\"Line\"},\"selection_glyph\":null,\"view\":{\"id\":\"6ae72a49-c718-4b60-905d-c8e8b2b88fe5\",\"type\":\"CDSView\"}},\"id\":\"1c65158b-646e-4e49-9625-91ddc5e990d1\",\"type\":\"GlyphRenderer\"},{\"attributes\":{\"source\":{\"id\":\"07c0982b-03cf-42a7-b748-3f8e95228aa0\",\"type\":\"ColumnDataSource\"}},\"id\":\"1c0dbcf9-ce10-467a-a4ac-e64a58ee06a7\",\"type\":\"CDSView\"},{\"attributes\":{\"plot\":{\"id\":\"a5b95f60-942c-4ed3-9e43-c2952adffa7a\",\"subtype\":\"Figure\",\"type\":\"Plot\"},\"ticker\":{\"id\":\"ff129f77-17c6-44f0-88dd-cffec650e7cb\",\"type\":\"BasicTicker\"}},\"id\":\"fc4504c4-6a49-43f6-8028-ab40abf431e5\",\"type\":\"Grid\"},{\"attributes\":{\"line_alpha\":0.6,\"line_color\":\"#984ea3\",\"line_width\":3,\"x\":{\"field\":\"x\"},\"y\":{\"field\":\"y\"}},\"id\":\"51682a21-0c9c-4afe-869c-806486dbdcbc\",\"type\":\"Line\"},{\"attributes\":{\"label\":{\"value\":\"CRD\"},\"renderers\":[{\"id\":\"ed4eca89-2efa-4a96-a17b-f373c6efb2c0\",\"type\":\"GlyphRenderer\"},{\"id\":\"9949fb34-52c4-4d45-b8f9-be529955dd37\",\"type\":\"GlyphRenderer\"}]},\"id\":\"d485ff5c-8b64-47bd-8184-c94ea660f603\",\"type\":\"LegendItem\"},{\"attributes\":{\"callback\":null,\"end\":0.01,\"start\":1020},\"id\":\"eeb72ea3-29f9-4232-910c-712c7c4ee590\",\"type\":\"Range1d\"},{\"attributes\":{\"line_alpha\":0.1,\"line_color\":\"#1f77b4\",\"line_width\":3,\"x\":{\"field\":\"x\"},\"y\":{\"field\":\"y\"}},\"id\":\"8a44b937-320b-4ea7-8984-7a640e45a392\",\"type\":\"Line\"},{\"attributes\":{\"data_source\":{\"id\":\"347c7911-58a2-435c-82e1-6f163a022209\",\"type\":\"ColumnDataSource\"},\"glyph\":{\"id\":\"51682a21-0c9c-4afe-869c-806486dbdcbc\",\"type\":\"Line\"},\"hover_glyph\":null,\"muted_glyph\":null,\"nonselection_glyph\":{\"id\":\"8a44b937-320b-4ea7-8984-7a640e45a392\",\"type\":\"Line\"},\"selection_glyph\":null,\"view\":{\"id\":\"492d495d-1706-4a55-a805-8df577a7aa28\",\"type\":\"CDSView\"}},\"id\":\"dfe4c34b-fbd2-4e66-b310-89c22f86c80d\",\"type\":\"GlyphRenderer\"},{\"attributes\":{\"line_alpha\":0.1,\"line_color\":\"#1f77b4\",\"line_dash\":[6],\"line_width\":5,\"x\":{\"field\":\"x\"},\"y\":{\"field\":\"y\"}},\"id\":\"faea232b-ea2a-4faa-a5f6-0073da13e5dd\",\"type\":\"Line\"},{\"attributes\":{\"children\":[{\"id\":\"1bf9afac-7db1-4ec0-8364-90ce9f4bf956\",\"subtype\":\"Figure\",\"type\":\"Plot\"},{\"id\":\"a5b95f60-942c-4ed3-9e43-c2952adffa7a\",\"subtype\":\"Figure\",\"type\":\"Plot\"}]},\"id\":\"bfc88c50-bccf-433c-8bc1-68e10323a1c7\",\"type\":\"Row\"},{\"attributes\":{\"callback\":null,\"end\":0.4856633688793,\"start\":-0.003982416809300001},\"id\":\"24c07df9-e2c4-4b90-a6ee-e4ecdeeae285\",\"type\":\"Range1d\"},{\"attributes\":{},\"id\":\"c70e1c54-01a0-4c67-857f-54008cbe29f2\",\"type\":\"LogScale\"},{\"attributes\":{\"items\":[{\"id\":\"ee5060ec-51ab-4723-bc8d-d73948b62984\",\"type\":\"LegendItem\"},{\"id\":\"d485ff5c-8b64-47bd-8184-c94ea660f603\",\"type\":\"LegendItem\"},{\"id\":\"d735f38b-f27f-4f8e-bca2-c04e1d6201c2\",\"type\":\"LegendItem\"}],\"label_text_font_size\":{\"value\":\"8pt\"},\"location\":[10,-30],\"plot\":{\"id\":\"a5b95f60-942c-4ed3-9e43-c2952adffa7a\",\"subtype\":\"Figure\",\"type\":\"Plot\"}},\"id\":\"ef27518f-3852-49ab-94f1-df438dcac138\",\"type\":\"Legend\"},{\"attributes\":{\"source\":{\"id\":\"347c7911-58a2-435c-82e1-6f163a022209\",\"type\":\"ColumnDataSource\"}},\"id\":\"492d495d-1706-4a55-a805-8df577a7aa28\",\"type\":\"CDSView\"},{\"attributes\":{\"label\":{\"value\":\"WGT igg=10 wgt_flux=2\"},\"renderers\":[{\"id\":\"f4f92a8a-20fb-4f05-b695-010cb9f9d4ad\",\"type\":\"GlyphRenderer\"},{\"id\":\"dfe4c34b-fbd2-4e66-b310-89c22f86c80d\",\"type\":\"GlyphRenderer\"}]},\"id\":\"d735f38b-f27f-4f8e-bca2-c04e1d6201c2\",\"type\":\"LegendItem\"},{\"attributes\":{\"toolbar\":{\"id\":\"39dcc51c-578a-49ff-82ea-e00760a39996\",\"type\":\"ProxyToolbar\"},\"toolbar_location\":\"above\"},\"id\":\"5ac91892-7d87-4941-af80-6383fb68ccd0\",\"type\":\"ToolbarBox\"},{\"attributes\":{\"data_source\":{\"id\":\"5a8433e2-2935-471e-9745-46650e50e275\",\"type\":\"ColumnDataSource\"},\"glyph\":{\"id\":\"37722f13-de0b-43ac-bdbb-32431bcba28d\",\"type\":\"Line\"},\"hover_glyph\":null,\"muted_glyph\":null,\"nonselection_glyph\":{\"id\":\"faea232b-ea2a-4faa-a5f6-0073da13e5dd\",\"type\":\"Line\"},\"selection_glyph\":null,\"view\":{\"id\":\"f3851d4e-e594-4fd2-81ee-28fe756d01db\",\"type\":\"CDSView\"}},\"id\":\"88f6ca5a-95e8-46d6-b884-c40768a69a1e\",\"type\":\"GlyphRenderer\"},{\"attributes\":{},\"id\":\"77b8b269-d7b4-4934-8da9-4b030f58b4ba\",\"type\":\"ResetTool\"},{\"attributes\":{},\"id\":\"66d8ad79-5831-4f8d-ae1c-c43bc66e20ef\",\"type\":\"HelpTool\"},{\"attributes\":{\"active_drag\":\"auto\",\"active_inspect\":\"auto\",\"active_scroll\":\"auto\",\"active_tap\":\"auto\",\"tools\":[{\"id\":\"c22625a5-fb9f-4d30-aed8-cf4a2ccefeaa\",\"type\":\"PanTool\"},{\"id\":\"52e0ab73-e10a-4e10-9bfe-99f468f2beff\",\"type\":\"WheelZoomTool\"},{\"id\":\"753976a1-2b27-4bd1-8d17-834a5ea7c0b4\",\"type\":\"BoxZoomTool\"},{\"id\":\"23ad4cf2-80ea-4375-9e52-63ca865b02f6\",\"type\":\"SaveTool\"},{\"id\":\"77b8b269-d7b4-4934-8da9-4b030f58b4ba\",\"type\":\"ResetTool\"},{\"id\":\"66d8ad79-5831-4f8d-ae1c-c43bc66e20ef\",\"type\":\"HelpTool\"}]},\"id\":\"77c6c54e-51a4-4d84-bbae-479645052601\",\"type\":\"Toolbar\"},{\"attributes\":{\"axis_label\":\"cooling rate [K/day]\",\"formatter\":{\"id\":\"47db4f8d-b4f3-43f5-a528-0fddf2a5be19\",\"type\":\"BasicTickFormatter\"},\"plot\":{\"id\":\"a5b95f60-942c-4ed3-9e43-c2952adffa7a\",\"subtype\":\"Figure\",\"type\":\"Plot\"},\"ticker\":{\"id\":\"ff129f77-17c6-44f0-88dd-cffec650e7cb\",\"type\":\"BasicTicker\"}},\"id\":\"d3da44b8-4207-4219-a503-12d3f9f1b6ae\",\"type\":\"LinearAxis\"},{\"attributes\":{\"line_alpha\":0.6,\"line_color\":\"#e41a1c\",\"line_dash\":[6],\"line_width\":5,\"x\":{\"field\":\"x\"},\"y\":{\"field\":\"y\"}},\"id\":\"37722f13-de0b-43ac-bdbb-32431bcba28d\",\"type\":\"Line\"},{\"attributes\":{\"callback\":null,\"column_names\":[\"x\",\"y\"],\"data\":{\"x\":{\"__ndarray__\":\"AAAAAAAAAAAAAAAAAAAAAAAAAAAAAAAAfji63dqooL8AAAAAAAAAAAAAAAAAAAAAAAAAAAAAAAAAAAAAAAAAAAAAAAAAAAAAHtNCYUp/gT8nLgf+l/J4PyFO1toKyWG/V99JH8RbaT9H/zvBBhRyP9wNByqoxlm/10Pj4EWsdD+jlSB/x3l9P48rgyA/GII/luqLT8TMiT/39fAjhjaRPzwJb4ZQ4pc/QoseWIvYnj95I7sewZeiP30L3py5o6I/P2YHXw9bnz8JRgzYYY6YPx2N/CejvZI/lgmexuZ4iz8TN2K+oKuDP+bMxYLzR3s/9cwKfRvfcT/LMyOCAEBmP26XcH4AX1w/s3aAzHPpVD9Wm5d0qGdQP+qcmuBfsUs/7OhtfibOSj+Q6HKdeWFMP4A5XUDjC00/DuQXJXpuUD9LOXxmEvtgPwXTZwF+eH8/RuipBkjRlD8EGFIi4hakP5vLpaLF2q4/MiKsIczIsj8uzAAf1RO2P49yAGLqZbk/B6MGkRSqvD+pQJihElPAPwBnUth//MI/0diP+/PAxT+ertW7y4fIP3PyAQUHScs/40l3fCAezj9LKFSisoLQPwdzYN6IE9I/2FtvQPCd1D8yiWEkBy7XP/RIrFoMfdk/Op8y5eBl2z+JJ3l9/8ncP+vvW2OGvN0//w9Fu+la3j8YPDNeRrPeP4OU0ER1xt4/n3OW3byG3j8s8aHAErrdPxrMeL4TMdw/lygxvh4C2j+Q0pWduHvXP84GsgGF+NQ/i4jFHMLA0j/nVqWA9hvRP6X/vNuCRtE/\",\"dtype\":\"float64\",\"shape\":[75]},\"y\":{\"__ndarray__\":\"S/O/Q+51ND/430zAtpRIP2vylNV0PVE/QxsjCssuWD/TR4Z78fVgP+inNsRxymc/OuuBfZWvcD/u3TFA02d3P2d3VoBnaoA/CD5h5MAGhz/1pA8HUCaQP+zrCsc9p5Y/Fb7LAKjGnz/nJ9c/SEmmPwBD+fzcQq8/FOZwv9nstT8Er5Y7M8G+P0c+r3jqkcU/yK72qKZBzj+tM989FzjVPxbgmr8yxN0/cOm5AXbg5D+5ctXAf0jtP5kqGJXUifQ/DsrqDELP/D8MCAhBojQEQDItVnmnVwxAiFXNvdHgE0BSSZ2AJuIbQAMJih9jjiNA5q4l5INuK0CPVN/5RT0zQHzxRXu8/DpAOZ7PgHrtQkAg8wGBzoxKQBSTN8DMeFJA2NmQf2ZqWEAAAAAAAFxeQEQX1LfMJmJAmpmZmZkfZUBmZmZmZhhoQLzoK0gzEWtAAAAAAAAKbkCiC+pbZoFwQAhyUMLM/XFA+I2vPTN6c0AQ5KCEmfZ0QAAAAAAAc3ZA8Btfe2bvd0AIclDCzGt5QPeNrz0z6HpAEOSghJlkfEAAAAAAAOF9QKML6ltmXX9ABTkoYeZsgED7xteeGSuBQAhyUMJM6YFAAAAAAICngkD4ja89s2WDQAU5KGHmI4RA+8bXnhnihEAIclDCTKCFQAAAAACAXoZA+I2vPbMch0AFOShh5tqHQPvG154ZmYhACHJQwkxXiUAAAAAAgBWKQPeNrz2z04pABTkoYeaRi0D7xteeGVCMQAlyUMJMDo1AAAAAAIDMjUD3ja89s4qOQGZmZmbmSI9A\",\"dtype\":\"float64\",\"shape\":[75]}}},\"id\":\"5a8433e2-2935-471e-9745-46650e50e275\",\"type\":\"ColumnDataSource\"},{\"attributes\":{\"callback\":null,\"column_names\":[\"x\",\"y\"],\"data\":{\"x\":{\"__ndarray__\":\"aiJooTdsRj+mTNbAP7pHPwcKOOL0jEo//KTv+gifTT+9ICfY8WNQP3Z04xugA1I/+oYt5syuUz/oeOBHuWVVP0qhp2SeKVc/2Wm1I+j6WD9+PGIzRtdaP5sApnm1j1w/KAONRTdiXj82hP+A2UlgP1inEy3njmM/IRksnZppbT/dsHqlv6J3P54R6mtatoE/g2Jexsg2iT/Uh6beB0qRPyZJncesDJc/1YztA7L7nT+VqkuRgRmiP73vIZCo8KE/Sz9DIPyWnT/ssKWwPNqWP9KtUuKuG5E/kNsYDioJiT8nt0k6BR6CPyEBupwC8Hk/+rR4DSkLcj8kWKwHRmpoPyxf0618mmE/mtdUzELMXD9GIbVIJJJYP9qfEb78alU/afpCnwVzVD85UF4Ynt1UP9wx6Kxnr1Q/S+V5rqmXVj+gpvqfnktmP9JmEOvumoM/IVB6zKSJmD/oa4P+DtGmP6fJqj2xTrE/Ga/YPSCqtD+fTeJ+F6u3P/xLBm2aB7s/10ciwxu3vj+I1BAVnobBP0PbfHZYG8Q/c16qLV6Zxj9VDtlFqhnJPx8Gg4rnscs/nvjLLYRYzj+Z8Zcv/4zQP+mOVju8BNI/Q4l2aAtn1D9XWx5Sj8LWPySF+Dr10Ng/0HF/RIx/2j/ghhp9z7zbP7jnZe4YjNw/9oINNu7+3D9Ji6UKDSLdP+rMJ7EVAd0/hsqi3SyY3D+OnQTRCszbP267XgEdfdo/1rO24ROz2D96TuQCLKjWP1SQXzwPlNQ/TJ5cAF240j/9sAISmUzRPxoX9l17mtE/\",\"dtype\":\"float64\",\"shape\":[75]},\"y\":{\"__ndarray__\":\"GhExyth1ND/Sv8nbtpRIP2vylNV0PVE/aTum7souWD/At0SJ8fVgPw3Iuahxymc/MSNhhJWvcD/bTfBN02d3P2zb5nxnaoA/CD5h5MAGhz8NmeH1TyaQP+zrCsc9p5Y/LbKd76fGnz/bLW5ISEmmPww9YvTcQq8/JV2OstnstT8Er5Y7M8G+P0c+r3jqkcU/5h99k6ZBzj88bCIzFzjVP4enV8oyxN0//yH99nXg5D8qOpLLf0jtP5kqGJXUifQ/c9cS8kHP/D+/DpwzojQEQIEmwoanVwxA4lgXt9HgE0BSSZ2AJuIbQAMJih9jjiNA5q4l5INuK0AwTKYKRj0zQNv5fmq8/DpAaCJseHrtQkB/+zpwzoxKQM3MzMzMeFJAZmZmZmZqWEAAAAAAAFxeQM3MzMzMJmJAmpmZmZkfZUBmZmZmZhhoQDMzMzMzEWtAAAAAAAAKbkBmZmZmZoFwQM3MzMzM/XFAMzMzMzN6c0CamZmZmfZ0QAAAAAAAc3ZAZmZmZmbvd0DNzMzMzGt5QDMzMzMz6HpAmpmZmZlkfEAAAAAAAOF9QGZmZmZmXX9AZmZmZuZsgECamZmZGSuBQM3MzMxM6YFAAAAAAICngkAzMzMzs2WDQGZmZmbmI4RAmpmZmRnihEDNzMzMTKCFQAAAAACAXoZAMzMzM7Mch0BmZmZm5tqHQJqZmZkZmYhAzczMzExXiUAAAAAAgBWKQDMzMzOz04pAZmZmZuaRi0CamZmZGVCMQM3MzMxMDo1AAAAAAIDMjUAzMzMzs4qOQGZmZmbmSI9A\",\"dtype\":\"float64\",\"shape\":[75]}}},\"id\":\"692429bb-16d6-4c32-a788-0b4505806e87\",\"type\":\"ColumnDataSource\"},{\"attributes\":{\"overlay\":{\"id\":\"98228253-d9b9-43bc-a66f-36fab1345e6d\",\"type\":\"BoxAnnotation\"}},\"id\":\"753976a1-2b27-4bd1-8d17-834a5ea7c0b4\",\"type\":\"BoxZoomTool\"},{\"attributes\":{\"children\":[{\"id\":\"bfc88c50-bccf-433c-8bc1-68e10323a1c7\",\"type\":\"Row\"}]},\"id\":\"fc3baba5-7b9d-402c-8750-68274dd85c38\",\"type\":\"Column\"},{\"attributes\":{},\"id\":\"3d4f710c-a3fa-418b-9654-95ad52147682\",\"type\":\"LinearScale\"},{\"attributes\":{\"data_source\":{\"id\":\"df8bac12-176c-4ff6-ba10-2c1d3becad0c\",\"type\":\"ColumnDataSource\"},\"glyph\":{\"id\":\"64a88ef4-57a8-4d9b-95e2-cb911bd2ec88\",\"type\":\"Line\"},\"hover_glyph\":null,\"muted_glyph\":null,\"nonselection_glyph\":{\"id\":\"efe37f2d-4507-403c-9a4c-9b8633ca2614\",\"type\":\"Line\"},\"selection_glyph\":null,\"view\":{\"id\":\"3a0c7984-b590-4034-8e2e-c02e45e50f01\",\"type\":\"CDSView\"}},\"id\":\"d8a15eca-0309-48b4-8bc6-07aa2f475204\",\"type\":\"GlyphRenderer\"},{\"attributes\":{\"label\":{\"value\":\"CLIRAD `coolr_bands`\"},\"renderers\":[{\"id\":\"88f6ca5a-95e8-46d6-b884-c40768a69a1e\",\"type\":\"GlyphRenderer\"}]},\"id\":\"ee5060ec-51ab-4723-bc8d-d73948b62984\",\"type\":\"LegendItem\"},{\"attributes\":{\"callback\":null,\"end\":0.01,\"start\":1020},\"id\":\"eb02ff63-afd6-43c2-bd4d-788f0c62ae85\",\"type\":\"Range1d\"},{\"attributes\":{\"source\":{\"id\":\"73ce9385-ad31-48e6-9496-61de8b10fe29\",\"type\":\"ColumnDataSource\"}},\"id\":\"570b89c1-574c-4958-bc08-51a2108a8a05\",\"type\":\"CDSView\"},{\"attributes\":{\"callback\":null,\"column_names\":[\"x\",\"y\"],\"data\":{\"x\":{\"__ndarray__\":\"aiJooTdsRj+mTNbAP7pHPwcKOOL0jEo//KTv+gifTT+9ICfY8WNQP3Z04xugA1I/+oYt5syuUz/oeOBHuWVVP0qhp2SeKVc/2Wm1I+j6WD9+PGIzRtdaP5sApnm1j1w/KAONRTdiXj82hP+A2UlgP1inEy3njmM/IRksnZppbT/dsHqlv6J3P54R6mtatoE/g2Jexsg2iT/Uh6beB0qRPyZJncesDJc/1YztA7L7nT+VqkuRgRmiP73vIZCo8KE/Sz9DIPyWnT/ssKWwPNqWP9KtUuKuG5E/kNsYDioJiT8nt0k6BR6CPyEBupwC8Hk/+rR4DSkLcj8kWKwHRmpoPyxf0618mmE/mtdUzELMXD9GIbVIJJJYP9qfEb78alU/afpCnwVzVD85UF4Ynt1UP9wx6Kxnr1Q/S+V5rqmXVj+gpvqfnktmP9JmEOvumoM/IVB6zKSJmD/oa4P+DtGmP6fJqj2xTrE/Ga/YPSCqtD+fTeJ+F6u3P/xLBm2aB7s/10ciwxu3vj+I1BAVnobBP0PbfHZYG8Q/c16qLV6Zxj9VDtlFqhnJPx8Gg4rnscs/nvjLLYRYzj+Z8Zcv/4zQP+mOVju8BNI/Q4l2aAtn1D9XWx5Sj8LWPySF+Dr10Ng/0HF/RIx/2j/ghhp9z7zbP7jnZe4YjNw/9oINNu7+3D9Ji6UKDSLdP+rMJ7EVAd0/hsqi3SyY3D+OnQTRCszbP267XgEdfdo/1rO24ROz2D96TuQCLKjWP1SQXzwPlNQ/TJ5cAF240j/9sAISmUzRPxoX9l17mtE/\",\"dtype\":\"float64\",\"shape\":[75]},\"y\":{\"__ndarray__\":\"GhExyth1ND/Sv8nbtpRIP2vylNV0PVE/aTum7souWD/At0SJ8fVgPw3Iuahxymc/MSNhhJWvcD/bTfBN02d3P2zb5nxnaoA/CD5h5MAGhz8NmeH1TyaQP+zrCsc9p5Y/LbKd76fGnz/bLW5ISEmmPww9YvTcQq8/JV2OstnstT8Er5Y7M8G+P0c+r3jqkcU/5h99k6ZBzj88bCIzFzjVP4enV8oyxN0//yH99nXg5D8qOpLLf0jtP5kqGJXUifQ/c9cS8kHP/D+/DpwzojQEQIEmwoanVwxA4lgXt9HgE0BSSZ2AJuIbQAMJih9jjiNA5q4l5INuK0AwTKYKRj0zQNv5fmq8/DpAaCJseHrtQkB/+zpwzoxKQM3MzMzMeFJAZmZmZmZqWEAAAAAAAFxeQM3MzMzMJmJAmpmZmZkfZUBmZmZmZhhoQDMzMzMzEWtAAAAAAAAKbkBmZmZmZoFwQM3MzMzM/XFAMzMzMzN6c0CamZmZmfZ0QAAAAAAAc3ZAZmZmZmbvd0DNzMzMzGt5QDMzMzMz6HpAmpmZmZlkfEAAAAAAAOF9QGZmZmZmXX9AZmZmZuZsgECamZmZGSuBQM3MzMxM6YFAAAAAAICngkAzMzMzs2WDQGZmZmbmI4RAmpmZmRnihEDNzMzMTKCFQAAAAACAXoZAMzMzM7Mch0BmZmZm5tqHQJqZmZkZmYhAzczMzExXiUAAAAAAgBWKQDMzMzOz04pAZmZmZuaRi0CamZmZGVCMQM3MzMxMDo1AAAAAAIDMjUAzMzMzs4qOQGZmZmbmSI9A\",\"dtype\":\"float64\",\"shape\":[75]}}},\"id\":\"8d1f0834-544d-4ca7-81de-97b77f973253\",\"type\":\"ColumnDataSource\"},{\"attributes\":{},\"id\":\"23ad4cf2-80ea-4375-9e52-63ca865b02f6\",\"type\":\"SaveTool\"}],\"root_ids\":[\"cfab09c7-1bd9-48fc-9730-e7c2b1594650\"]},\"title\":\"Bokeh Application\",\"version\":\"0.12.14\"}};\n",
       "  var render_items = [{\"docid\":\"96475425-81e1-4aa7-a7cc-2b2061ab40ff\",\"elementid\":\"1aef7ef4-74aa-4480-a2cf-55f71e9414bf\",\"modelid\":\"cfab09c7-1bd9-48fc-9730-e7c2b1594650\"}];\n",
       "  root.Bokeh.embed.embed_items_notebook(docs_json, render_items);\n",
       "\n",
       "  }\n",
       "  if (root.Bokeh !== undefined) {\n",
       "    embed_document(root);\n",
       "  } else {\n",
       "    var attempts = 0;\n",
       "    var timer = setInterval(function(root) {\n",
       "      if (root.Bokeh !== undefined) {\n",
       "        embed_document(root);\n",
       "        clearInterval(timer);\n",
       "      }\n",
       "      attempts++;\n",
       "      if (attempts > 100) {\n",
       "        console.log(\"Bokeh: ERROR: Unable to run BokehJS code because BokehJS library is missing\")\n",
       "        clearInterval(timer);\n",
       "      }\n",
       "    }, 10, root)\n",
       "  }\n",
       "})(window);"
      ],
      "application/vnd.bokehjs_exec.v0+json": ""
     },
     "metadata": {
      "application/vnd.bokehjs_exec.v0+json": {
       "id": "cfab09c7-1bd9-48fc-9730-e7c2b1594650"
      }
     },
     "output_type": "display_data"
    },
    {
     "name": "stdout",
     "output_type": "stream",
     "text": [
      "FIGURE. Cooling rate profiles.\n"
     ]
    },
    {
     "data": {
      "text/html": [
       "<a id=\"Flux_Comparison\"></a>"
      ],
      "text/plain": [
       "<IPython.core.display.HTML object>"
      ]
     },
     "metadata": {},
     "output_type": "display_data"
    },
    {
     "data": {
      "text/markdown": [
       "# Flux Comparison"
      ],
      "text/plain": [
       "<IPython.core.display.Markdown object>"
      ]
     },
     "metadata": {},
     "output_type": "display_data"
    },
    {
     "data": {
      "text/html": [
       "<div>\n",
       "<style>\n",
       "    .dataframe thead tr:only-child th {\n",
       "        text-align: right;\n",
       "    }\n",
       "\n",
       "    .dataframe thead th {\n",
       "        text-align: left;\n",
       "    }\n",
       "\n",
       "    .dataframe tbody tr th {\n",
       "        vertical-align: top;\n",
       "    }\n",
       "</style>\n",
       "<table border=\"1\" class=\"dataframe\">\n",
       "  <thead>\n",
       "    <tr style=\"text-align: right;\">\n",
       "      <th></th>\n",
       "      <th></th>\n",
       "      <th>flug</th>\n",
       "      <th>fldg</th>\n",
       "      <th>fnetg</th>\n",
       "    </tr>\n",
       "    <tr>\n",
       "      <th>pressure</th>\n",
       "      <th>level</th>\n",
       "      <th></th>\n",
       "      <th></th>\n",
       "      <th></th>\n",
       "    </tr>\n",
       "  </thead>\n",
       "  <tbody>\n",
       "    <tr>\n",
       "      <th>0.0000</th>\n",
       "      <th>1</th>\n",
       "      <td>-29.472113</td>\n",
       "      <td>0.000000</td>\n",
       "      <td>-29.472113</td>\n",
       "    </tr>\n",
       "    <tr>\n",
       "      <th>1.0685</th>\n",
       "      <th>24</th>\n",
       "      <td>-29.471614</td>\n",
       "      <td>0.002412</td>\n",
       "      <td>-29.469202</td>\n",
       "    </tr>\n",
       "    <tr>\n",
       "      <th>1013.0000</th>\n",
       "      <th>76</th>\n",
       "      <td>-36.235409</td>\n",
       "      <td>32.494585</td>\n",
       "      <td>-3.740822</td>\n",
       "    </tr>\n",
       "  </tbody>\n",
       "</table>\n",
       "</div>"
      ],
      "text/plain": [
       "                      flug       fldg      fnetg\n",
       "pressure  level                                 \n",
       "0.0000    1     -29.472113   0.000000 -29.472113\n",
       "1.0685    24    -29.471614   0.002412 -29.469202\n",
       "1013.0000 76    -36.235409  32.494585  -3.740822"
      ]
     },
     "metadata": {},
     "output_type": "display_data"
    },
    {
     "name": "stdout",
     "output_type": "stream",
     "text": [
      "Table. Fluxes. WGT igg=10 wgt_flux=1\n"
     ]
    },
    {
     "data": {
      "text/html": [
       "<div>\n",
       "<style>\n",
       "    .dataframe thead tr:only-child th {\n",
       "        text-align: right;\n",
       "    }\n",
       "\n",
       "    .dataframe thead th {\n",
       "        text-align: left;\n",
       "    }\n",
       "\n",
       "    .dataframe tbody tr th {\n",
       "        vertical-align: top;\n",
       "    }\n",
       "</style>\n",
       "<table border=\"1\" class=\"dataframe\">\n",
       "  <thead>\n",
       "    <tr style=\"text-align: right;\">\n",
       "      <th></th>\n",
       "      <th></th>\n",
       "      <th>flug</th>\n",
       "      <th>fldg</th>\n",
       "      <th>fnetg</th>\n",
       "    </tr>\n",
       "    <tr>\n",
       "      <th>pressure</th>\n",
       "      <th>level</th>\n",
       "      <th></th>\n",
       "      <th></th>\n",
       "      <th></th>\n",
       "    </tr>\n",
       "  </thead>\n",
       "  <tbody>\n",
       "    <tr>\n",
       "      <th>0.0000</th>\n",
       "      <th>1</th>\n",
       "      <td>-29.472619</td>\n",
       "      <td>0.000000</td>\n",
       "      <td>-29.472619</td>\n",
       "    </tr>\n",
       "    <tr>\n",
       "      <th>1.0685</th>\n",
       "      <th>24</th>\n",
       "      <td>-29.472354</td>\n",
       "      <td>0.002743</td>\n",
       "      <td>-29.469611</td>\n",
       "    </tr>\n",
       "    <tr>\n",
       "      <th>1013.0000</th>\n",
       "      <th>76</th>\n",
       "      <td>-36.235408</td>\n",
       "      <td>32.486006</td>\n",
       "      <td>-3.749402</td>\n",
       "    </tr>\n",
       "  </tbody>\n",
       "</table>\n",
       "</div>"
      ],
      "text/plain": [
       "                      flug       fldg      fnetg\n",
       "pressure  level                                 \n",
       "0.0000    1     -29.472619   0.000000 -29.472619\n",
       "1.0685    24    -29.472354   0.002743 -29.469611\n",
       "1013.0000 76    -36.235408  32.486006  -3.749402"
      ]
     },
     "metadata": {},
     "output_type": "display_data"
    },
    {
     "name": "stdout",
     "output_type": "stream",
     "text": [
      "Table. Fluxes. CRD\n"
     ]
    },
    {
     "data": {
      "text/html": [
       "<div>\n",
       "<style>\n",
       "    .dataframe thead tr:only-child th {\n",
       "        text-align: right;\n",
       "    }\n",
       "\n",
       "    .dataframe thead th {\n",
       "        text-align: left;\n",
       "    }\n",
       "\n",
       "    .dataframe tbody tr th {\n",
       "        vertical-align: top;\n",
       "    }\n",
       "</style>\n",
       "<table border=\"1\" class=\"dataframe\">\n",
       "  <thead>\n",
       "    <tr style=\"text-align: right;\">\n",
       "      <th></th>\n",
       "      <th></th>\n",
       "      <th>flug</th>\n",
       "      <th>fldg</th>\n",
       "      <th>fnetg</th>\n",
       "    </tr>\n",
       "    <tr>\n",
       "      <th>pressure</th>\n",
       "      <th>level</th>\n",
       "      <th></th>\n",
       "      <th></th>\n",
       "      <th></th>\n",
       "    </tr>\n",
       "  </thead>\n",
       "  <tbody>\n",
       "    <tr>\n",
       "      <th>1.000000e-08</th>\n",
       "      <th>1</th>\n",
       "      <td>-29.572773</td>\n",
       "      <td>0.000002</td>\n",
       "      <td>-29.572771</td>\n",
       "    </tr>\n",
       "    <tr>\n",
       "      <th>1.068500e+00</th>\n",
       "      <th>24</th>\n",
       "      <td>-29.572184</td>\n",
       "      <td>0.002405</td>\n",
       "      <td>-29.569778</td>\n",
       "    </tr>\n",
       "    <tr>\n",
       "      <th>1.013000e+03</th>\n",
       "      <th>76</th>\n",
       "      <td>-36.235409</td>\n",
       "      <td>32.899559</td>\n",
       "      <td>-3.335850</td>\n",
       "    </tr>\n",
       "  </tbody>\n",
       "</table>\n",
       "</div>"
      ],
      "text/plain": [
       "                         flug       fldg      fnetg\n",
       "pressure     level                                 \n",
       "1.000000e-08 1     -29.572773   0.000002 -29.572771\n",
       "1.068500e+00 24    -29.572184   0.002405 -29.569778\n",
       "1.013000e+03 76    -36.235409  32.899559  -3.335850"
      ]
     },
     "metadata": {},
     "output_type": "display_data"
    },
    {
     "name": "stdout",
     "output_type": "stream",
     "text": [
      "Table. Fluxes. CLIRAD\n"
     ]
    },
    {
     "data": {
      "text/html": [
       "<div>\n",
       "<style>\n",
       "    .dataframe thead tr:only-child th {\n",
       "        text-align: right;\n",
       "    }\n",
       "\n",
       "    .dataframe thead th {\n",
       "        text-align: left;\n",
       "    }\n",
       "\n",
       "    .dataframe tbody tr th {\n",
       "        vertical-align: top;\n",
       "    }\n",
       "</style>\n",
       "<table border=\"1\" class=\"dataframe\">\n",
       "  <thead>\n",
       "    <tr style=\"text-align: right;\">\n",
       "      <th></th>\n",
       "      <th></th>\n",
       "      <th>flug</th>\n",
       "      <th>fldg</th>\n",
       "      <th>fnetg</th>\n",
       "    </tr>\n",
       "    <tr>\n",
       "      <th>pressure</th>\n",
       "      <th>level</th>\n",
       "      <th></th>\n",
       "      <th></th>\n",
       "      <th></th>\n",
       "    </tr>\n",
       "  </thead>\n",
       "  <tbody>\n",
       "    <tr>\n",
       "      <th>0.0000</th>\n",
       "      <th>1</th>\n",
       "      <td>-5.063210e-04</td>\n",
       "      <td>0.000000</td>\n",
       "      <td>-0.000506</td>\n",
       "    </tr>\n",
       "    <tr>\n",
       "      <th>1.0685</th>\n",
       "      <th>24</th>\n",
       "      <td>-7.401200e-04</td>\n",
       "      <td>0.000332</td>\n",
       "      <td>-0.000409</td>\n",
       "    </tr>\n",
       "    <tr>\n",
       "      <th>1013.0000</th>\n",
       "      <th>76</th>\n",
       "      <td>5.300000e-07</td>\n",
       "      <td>-0.008579</td>\n",
       "      <td>-0.008580</td>\n",
       "    </tr>\n",
       "  </tbody>\n",
       "</table>\n",
       "</div>"
      ],
      "text/plain": [
       "                         flug      fldg     fnetg\n",
       "pressure  level                                  \n",
       "0.0000    1     -5.063210e-04  0.000000 -0.000506\n",
       "1.0685    24    -7.401200e-04  0.000332 -0.000409\n",
       "1013.0000 76     5.300000e-07 -0.008579 -0.008580"
      ]
     },
     "metadata": {},
     "output_type": "display_data"
    },
    {
     "name": "stdout",
     "output_type": "stream",
     "text": [
      "Table. Fluxes. (CRD) - (WGT igg=10 wgt_flux=1)\n"
     ]
    },
    {
     "data": {
      "text/html": [
       "<div>\n",
       "<style>\n",
       "    .dataframe thead tr:only-child th {\n",
       "        text-align: right;\n",
       "    }\n",
       "\n",
       "    .dataframe thead th {\n",
       "        text-align: left;\n",
       "    }\n",
       "\n",
       "    .dataframe tbody tr th {\n",
       "        vertical-align: top;\n",
       "    }\n",
       "</style>\n",
       "<table border=\"1\" class=\"dataframe\">\n",
       "  <thead>\n",
       "    <tr style=\"text-align: right;\">\n",
       "      <th></th>\n",
       "      <th></th>\n",
       "      <th>flug</th>\n",
       "      <th>fldg</th>\n",
       "      <th>fnetg</th>\n",
       "    </tr>\n",
       "    <tr>\n",
       "      <th>pressure</th>\n",
       "      <th>level</th>\n",
       "      <th></th>\n",
       "      <th></th>\n",
       "      <th></th>\n",
       "    </tr>\n",
       "  </thead>\n",
       "  <tbody>\n",
       "    <tr>\n",
       "      <th>0.0000</th>\n",
       "      <th>1</th>\n",
       "      <td>-1.006603e-01</td>\n",
       "      <td>0.000002</td>\n",
       "      <td>-0.100658</td>\n",
       "    </tr>\n",
       "    <tr>\n",
       "      <th>1.0685</th>\n",
       "      <th>24</th>\n",
       "      <td>-1.005701e-01</td>\n",
       "      <td>-0.000007</td>\n",
       "      <td>-0.100576</td>\n",
       "    </tr>\n",
       "    <tr>\n",
       "      <th>1013.0000</th>\n",
       "      <th>76</th>\n",
       "      <td>-4.700000e-07</td>\n",
       "      <td>0.404974</td>\n",
       "      <td>0.404973</td>\n",
       "    </tr>\n",
       "  </tbody>\n",
       "</table>\n",
       "</div>"
      ],
      "text/plain": [
       "                         flug      fldg     fnetg\n",
       "pressure  level                                  \n",
       "0.0000    1     -1.006603e-01  0.000002 -0.100658\n",
       "1.0685    24    -1.005701e-01 -0.000007 -0.100576\n",
       "1013.0000 76    -4.700000e-07  0.404974  0.404973"
      ]
     },
     "metadata": {},
     "output_type": "display_data"
    },
    {
     "name": "stdout",
     "output_type": "stream",
     "text": [
      "Table. Fluxes. (CLIRAD) - (WGT igg=10 wgt_flux=1)\n"
     ]
    },
    {
     "data": {
      "text/html": [
       "<a id=\"Best-fit_Parameters\"></a>"
      ],
      "text/plain": [
       "<IPython.core.display.HTML object>"
      ]
     },
     "metadata": {},
     "output_type": "display_data"
    },
    {
     "data": {
      "text/markdown": [
       "# Best-fit Parameters"
      ],
      "text/plain": [
       "<IPython.core.display.Markdown object>"
      ]
     },
     "metadata": {},
     "output_type": "display_data"
    },
    {
     "name": "stdout",
     "output_type": "stream",
     "text": [
      "Best-fit values for each (gas, band)\n",
      "------------------------------------\n",
      "o h2o band3a\n",
      "  atmpro = mls\n",
      "  band = 3a\n",
      "  commitnumber = 2bd1f75\n",
      "  conc = None\n",
      "  dv = 0.01\n",
      "  klin = 0\n",
      "  molecule = h2o\n",
      "  ng_adju = [0, 0]\n",
      "  ng_refs = [2, 6]\n",
      "  nv = 100\n",
      "  option_compute_btable = 0\n",
      "  option_compute_ktable = 1\n",
      "  option_wgt_flux = 1\n",
      "  option_wgt_k = 1\n",
      "  ref_pts = [(10, 250), (600, 250)]\n",
      "  tsfc = 294\n",
      "  vmax = 620\n",
      "  vmin = 540\n",
      "  w_diffuse = [(1.9, 1.7), (1.4, 1.4, 1.4, 1.55, 1.6, 1.66)]\n",
      "  wgt = [(0.7, 0.7), (0.7, 0.5, 0.5, 0.5, 0.5, 0.5)]\n"
     ]
    }
   ],
   "source": [
    "script()"
   ]
  },
  {
   "cell_type": "code",
   "execution_count": 13,
   "metadata": {
    "collapsed": true
   },
   "outputs": [
    {
     "data": {
      "text/html": [
       "<script>\n",
       "code_show=true; \n",
       "function code_toggle() {\n",
       " if (code_show){\n",
       " $('div.input').hide();\n",
       " } else {\n",
       " $('div.input').show();\n",
       " }\n",
       " code_show = !code_show\n",
       "} \n",
       "$( document ).ready(code_toggle);\n",
       "</script>\n",
       "<form action=\"javascript:code_toggle()\"><input type=\"submit\" value=\"Click here to toggle on/off the raw code.\"></form>"
      ],
      "text/plain": [
       "<IPython.core.display.HTML object>"
      ]
     },
     "execution_count": 13,
     "metadata": {},
     "output_type": "execute_result"
    }
   ],
   "source": [
    "display.HTML('''<script>\n",
    "code_show=true; \n",
    "function code_toggle() {\n",
    " if (code_show){\n",
    " $('div.input').hide();\n",
    " } else {\n",
    " $('div.input').show();\n",
    " }\n",
    " code_show = !code_show\n",
    "} \n",
    "$( document ).ready(code_toggle);\n",
    "</script>\n",
    "<form action=\"javascript:code_toggle()\"><input type=\"submit\" value=\"Click here to toggle on/off the raw code.\"></form>''')"
   ]
  }
 ],
 "metadata": {
  "kernelspec": {
   "display_name": "Python 3",
   "language": "python",
   "name": "python3"
  },
  "language_info": {
   "codemirror_mode": {
    "name": "ipython",
    "version": 3
   },
   "file_extension": ".py",
   "mimetype": "text/x-python",
   "name": "python",
   "nbconvert_exporter": "python",
   "pygments_lexer": "ipython3",
   "version": "3.6.1"
  }
 },
 "nbformat": 4,
 "nbformat_minor": 2
}
