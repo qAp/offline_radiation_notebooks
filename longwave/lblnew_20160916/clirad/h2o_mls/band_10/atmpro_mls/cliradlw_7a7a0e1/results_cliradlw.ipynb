{
 "cells": [
  {
   "cell_type": "code",
   "execution_count": 1,
   "metadata": {
    "collapsed": true
   },
   "outputs": [],
   "source": [
    "%matplotlib inline\n",
    "import os\n",
    "import re\n",
    "import io\n",
    "import itertools\n",
    "import pprint\n",
    "\n",
    "from bokeh.io import output_notebook, show\n",
    "from bokeh.layouts import gridplot\n",
    "from bokeh.plotting import figure\n",
    "from bokeh.models import Range1d, Legend\n",
    "from bokeh.palettes import all_palettes\n",
    "\n",
    "import matplotlib\n",
    "import matplotlib.pyplot as plt\n",
    "import numpy as np\n",
    "import pandas as pd\n",
    "import xarray as xr\n",
    "\n",
    "import climatools.lblnew.bestfit_params as bestfits\n",
    "from climatools.lblnew import setup_bestfit, setup_overlap\n",
    "import climatools.lblnew.pipeline as pipe_lblnew\n",
    "import climatools.cliradlw.setup as setup_cliradlw\n",
    "import climatools.cliradlw.pipeline as pipe_cliradlw\n",
    "\n",
    "import climatools.html.html as climahtml\n",
    "from climatools.lblnew.dataio import *\n",
    "from climatools.plot.plot import *\n",
    "\n",
    "\n",
    "import IPython.display as display"
   ]
  },
  {
   "cell_type": "code",
   "execution_count": 2,
   "metadata": {
    "collapsed": true
   },
   "outputs": [],
   "source": [
    "%run param.py"
   ]
  },
  {
   "cell_type": "code",
   "execution_count": 3,
   "metadata": {
    "collapsed": true
   },
   "outputs": [],
   "source": [
    "def load_output_file(path_csv):\n",
    "    '''\n",
    "    Load lblnew output .csv file to xarray.Dataset\n",
    "    \n",
    "    Parameters\n",
    "    ----------\n",
    "    path_csv: str\n",
    "              Path to the .csv file to be loaded.\n",
    "    ds: xarray.Dataset\n",
    "        Data in the input file in the form of an xarray.Dataset.\n",
    "    '''\n",
    "    toindex = ['band', 'pressure', 'igg', 'g']    \n",
    "    df = pd.read_csv(path_csv, sep=r'\\s+')\n",
    "    df = df.set_index([i for i in toindex if i in df.columns])\n",
    "    df = df.rename(columns={'sfu': 'flug',\n",
    "                            'sfd': 'fldg',\n",
    "                            'fnet': 'fnetg',\n",
    "                            'coolr': 'coolrg'})\n",
    "    ds = xr.Dataset.from_dataframe(df)\n",
    "\n",
    "    for l in ('level', 'layer'):\n",
    "        if l in ds.data_vars:\n",
    "            if len(ds[l].dims) > 1:\n",
    "                surface = {d: 0 for d in ds.dims if d != 'pressure'}\n",
    "                coord_level = ds[l][surface]\n",
    "                ds.coords[l] = ('pressure', coord_level)\n",
    "            else:\n",
    "                ds.coords[l] = ('pressure', ds[l])\n",
    "    \n",
    "    return ds"
   ]
  },
  {
   "cell_type": "code",
   "execution_count": 4,
   "metadata": {
    "collapsed": true
   },
   "outputs": [],
   "source": [
    "def lblnew_setup(param=None):\n",
    "    if 'ng_refs' in param:\n",
    "        return {'setup': setup_bestfit,\n",
    "                'fname_flux_crd': 'output_flux.dat',\n",
    "                'fname_cool_crd': 'output_coolr.dat',\n",
    "                'fname_flux_wgt': 'output_wfluxg.dat',\n",
    "                'fname_cool_wgt': 'output_wcoolrg.dat'}\n",
    "    else:\n",
    "        return {'setup': setup_overlap,\n",
    "                'fname_flux_crd': 'output_flux.dat',\n",
    "                'fname_cool_crd': 'output_coolr.dat',\n",
    "                'fname_flux_wgt': 'output_wflux.dat',\n",
    "                'fname_cool_wgt': 'output_wcoolr.dat'}\n",
    "\n",
    "    \n",
    "def load_lblnew_data(param):\n",
    "    \n",
    "    fname_dsname = [('fname_flux_crd', 'ds_flux_crd'),\n",
    "                    ('fname_cool_crd', 'ds_cool_crd'),\n",
    "                    ('fname_flux_wgt', 'ds_flux_wgt'),\n",
    "                    ('fname_cool_wgt', 'ds_cool_wgt')]\n",
    "    \n",
    "    d = lblnew_setup(param)\n",
    "    dir_fortran = pipe_lblnew.get_dir_case(param, setup=d['setup'])\n",
    "    \n",
    "    data_dict = {}\n",
    "    for fname, dsname in fname_dsname:\n",
    "        fpath = os.path.join(dir_fortran, d[fname])\n",
    "        data_dict[dsname] = load_output_file(fpath)\n",
    "    return data_dict\n",
    "    \n",
    "\n",
    "    \n",
    "    "
   ]
  },
  {
   "cell_type": "code",
   "execution_count": 5,
   "metadata": {
    "collapsed": true
   },
   "outputs": [],
   "source": [
    "d = load_lblnew_data(PARAM_LBLNEW)\n",
    "\n",
    "DS_FLUX_CRD = d['ds_flux_crd']\n",
    "DS_COOL_CRD = d['ds_cool_crd']\n",
    "DS_FLUX_WGT = d['ds_flux_wgt']\n",
    "DS_COOL_WGT = d['ds_cool_wgt']"
   ]
  },
  {
   "cell_type": "code",
   "execution_count": 6,
   "metadata": {
    "collapsed": true
   },
   "outputs": [],
   "source": [
    "DIR_FORTRAN = pipe_cliradlw.get_fortran_dir(PARAM, \n",
    "                                            setup=setup_cliradlw)\n",
    "\n",
    "PATH_FLUX = os.path.join(DIR_FORTRAN, 'output_flux.dat')\n",
    "PATH_COOL = os.path.join(DIR_FORTRAN, 'output_coolr.dat')\n",
    "\n",
    "DS_FLUX = load_output_file(PATH_FLUX)\n",
    "DS_COOL = load_output_file(PATH_COOL)"
   ]
  },
  {
   "cell_type": "code",
   "execution_count": 7,
   "metadata": {},
   "outputs": [
    {
     "data": {
      "text/html": [
       "\n",
       "    <div class=\"bk-root\">\n",
       "        <a href=\"https://bokeh.pydata.org\" target=\"_blank\" class=\"bk-logo bk-logo-small bk-logo-notebook\"></a>\n",
       "        <span id=\"4db6db29-0d58-4d31-8f48-b55ec11d2af7\">Loading BokehJS ...</span>\n",
       "    </div>"
      ]
     },
     "metadata": {},
     "output_type": "display_data"
    },
    {
     "data": {
      "application/javascript": [
       "\n",
       "(function(root) {\n",
       "  function now() {\n",
       "    return new Date();\n",
       "  }\n",
       "\n",
       "  var force = true;\n",
       "\n",
       "  if (typeof (root._bokeh_onload_callbacks) === \"undefined\" || force === true) {\n",
       "    root._bokeh_onload_callbacks = [];\n",
       "    root._bokeh_is_loading = undefined;\n",
       "  }\n",
       "\n",
       "  var JS_MIME_TYPE = 'application/javascript';\n",
       "  var HTML_MIME_TYPE = 'text/html';\n",
       "  var EXEC_MIME_TYPE = 'application/vnd.bokehjs_exec.v0+json';\n",
       "  var CLASS_NAME = 'output_bokeh rendered_html';\n",
       "\n",
       "  /**\n",
       "   * Render data to the DOM node\n",
       "   */\n",
       "  function render(props, node) {\n",
       "    var script = document.createElement(\"script\");\n",
       "    node.appendChild(script);\n",
       "  }\n",
       "\n",
       "  /**\n",
       "   * Handle when an output is cleared or removed\n",
       "   */\n",
       "  function handleClearOutput(event, handle) {\n",
       "    var cell = handle.cell;\n",
       "\n",
       "    var id = cell.output_area._bokeh_element_id;\n",
       "    var server_id = cell.output_area._bokeh_server_id;\n",
       "    // Clean up Bokeh references\n",
       "    if (id !== undefined) {\n",
       "      Bokeh.index[id].model.document.clear();\n",
       "      delete Bokeh.index[id];\n",
       "    }\n",
       "\n",
       "    if (server_id !== undefined) {\n",
       "      // Clean up Bokeh references\n",
       "      var cmd = \"from bokeh.io.state import curstate; print(curstate().uuid_to_server['\" + server_id + \"'].get_sessions()[0].document.roots[0]._id)\";\n",
       "      cell.notebook.kernel.execute(cmd, {\n",
       "        iopub: {\n",
       "          output: function(msg) {\n",
       "            var element_id = msg.content.text.trim();\n",
       "            Bokeh.index[element_id].model.document.clear();\n",
       "            delete Bokeh.index[element_id];\n",
       "          }\n",
       "        }\n",
       "      });\n",
       "      // Destroy server and session\n",
       "      var cmd = \"import bokeh.io.notebook as ion; ion.destroy_server('\" + server_id + \"')\";\n",
       "      cell.notebook.kernel.execute(cmd);\n",
       "    }\n",
       "  }\n",
       "\n",
       "  /**\n",
       "   * Handle when a new output is added\n",
       "   */\n",
       "  function handleAddOutput(event, handle) {\n",
       "    var output_area = handle.output_area;\n",
       "    var output = handle.output;\n",
       "\n",
       "    // limit handleAddOutput to display_data with EXEC_MIME_TYPE content only\n",
       "    if ((output.output_type != \"display_data\") || (!output.data.hasOwnProperty(EXEC_MIME_TYPE))) {\n",
       "      return\n",
       "    }\n",
       "\n",
       "    var toinsert = output_area.element.find(\".\" + CLASS_NAME.split(' ')[0]);\n",
       "\n",
       "    if (output.metadata[EXEC_MIME_TYPE][\"id\"] !== undefined) {\n",
       "      toinsert[0].firstChild.textContent = output.data[JS_MIME_TYPE];\n",
       "      // store reference to embed id on output_area\n",
       "      output_area._bokeh_element_id = output.metadata[EXEC_MIME_TYPE][\"id\"];\n",
       "    }\n",
       "    if (output.metadata[EXEC_MIME_TYPE][\"server_id\"] !== undefined) {\n",
       "      var bk_div = document.createElement(\"div\");\n",
       "      bk_div.innerHTML = output.data[HTML_MIME_TYPE];\n",
       "      var script_attrs = bk_div.children[0].attributes;\n",
       "      for (var i = 0; i < script_attrs.length; i++) {\n",
       "        toinsert[0].firstChild.setAttribute(script_attrs[i].name, script_attrs[i].value);\n",
       "      }\n",
       "      // store reference to server id on output_area\n",
       "      output_area._bokeh_server_id = output.metadata[EXEC_MIME_TYPE][\"server_id\"];\n",
       "    }\n",
       "  }\n",
       "\n",
       "  function register_renderer(events, OutputArea) {\n",
       "\n",
       "    function append_mime(data, metadata, element) {\n",
       "      // create a DOM node to render to\n",
       "      var toinsert = this.create_output_subarea(\n",
       "        metadata,\n",
       "        CLASS_NAME,\n",
       "        EXEC_MIME_TYPE\n",
       "      );\n",
       "      this.keyboard_manager.register_events(toinsert);\n",
       "      // Render to node\n",
       "      var props = {data: data, metadata: metadata[EXEC_MIME_TYPE]};\n",
       "      render(props, toinsert[0]);\n",
       "      element.append(toinsert);\n",
       "      return toinsert\n",
       "    }\n",
       "\n",
       "    /* Handle when an output is cleared or removed */\n",
       "    events.on('clear_output.CodeCell', handleClearOutput);\n",
       "    events.on('delete.Cell', handleClearOutput);\n",
       "\n",
       "    /* Handle when a new output is added */\n",
       "    events.on('output_added.OutputArea', handleAddOutput);\n",
       "\n",
       "    /**\n",
       "     * Register the mime type and append_mime function with output_area\n",
       "     */\n",
       "    OutputArea.prototype.register_mime_type(EXEC_MIME_TYPE, append_mime, {\n",
       "      /* Is output safe? */\n",
       "      safe: true,\n",
       "      /* Index of renderer in `output_area.display_order` */\n",
       "      index: 0\n",
       "    });\n",
       "  }\n",
       "\n",
       "  // register the mime type if in Jupyter Notebook environment and previously unregistered\n",
       "  if (root.Jupyter !== undefined) {\n",
       "    var events = require('base/js/events');\n",
       "    var OutputArea = require('notebook/js/outputarea').OutputArea;\n",
       "\n",
       "    if (OutputArea.prototype.mime_types().indexOf(EXEC_MIME_TYPE) == -1) {\n",
       "      register_renderer(events, OutputArea);\n",
       "    }\n",
       "  }\n",
       "\n",
       "  \n",
       "  if (typeof (root._bokeh_timeout) === \"undefined\" || force === true) {\n",
       "    root._bokeh_timeout = Date.now() + 5000;\n",
       "    root._bokeh_failed_load = false;\n",
       "  }\n",
       "\n",
       "  var NB_LOAD_WARNING = {'data': {'text/html':\n",
       "     \"<div style='background-color: #fdd'>\\n\"+\n",
       "     \"<p>\\n\"+\n",
       "     \"BokehJS does not appear to have successfully loaded. If loading BokehJS from CDN, this \\n\"+\n",
       "     \"may be due to a slow or bad network connection. Possible fixes:\\n\"+\n",
       "     \"</p>\\n\"+\n",
       "     \"<ul>\\n\"+\n",
       "     \"<li>re-rerun `output_notebook()` to attempt to load from CDN again, or</li>\\n\"+\n",
       "     \"<li>use INLINE resources instead, as so:</li>\\n\"+\n",
       "     \"</ul>\\n\"+\n",
       "     \"<code>\\n\"+\n",
       "     \"from bokeh.resources import INLINE\\n\"+\n",
       "     \"output_notebook(resources=INLINE)\\n\"+\n",
       "     \"</code>\\n\"+\n",
       "     \"</div>\"}};\n",
       "\n",
       "  function display_loaded() {\n",
       "    var el = document.getElementById(\"4db6db29-0d58-4d31-8f48-b55ec11d2af7\");\n",
       "    if (el != null) {\n",
       "      el.textContent = \"BokehJS is loading...\";\n",
       "    }\n",
       "    if (root.Bokeh !== undefined) {\n",
       "      if (el != null) {\n",
       "        el.textContent = \"BokehJS \" + root.Bokeh.version + \" successfully loaded.\";\n",
       "      }\n",
       "    } else if (Date.now() < root._bokeh_timeout) {\n",
       "      setTimeout(display_loaded, 100)\n",
       "    }\n",
       "  }\n",
       "\n",
       "\n",
       "  function run_callbacks() {\n",
       "    try {\n",
       "      root._bokeh_onload_callbacks.forEach(function(callback) { callback() });\n",
       "    }\n",
       "    finally {\n",
       "      delete root._bokeh_onload_callbacks\n",
       "    }\n",
       "    console.info(\"Bokeh: all callbacks have finished\");\n",
       "  }\n",
       "\n",
       "  function load_libs(js_urls, callback) {\n",
       "    root._bokeh_onload_callbacks.push(callback);\n",
       "    if (root._bokeh_is_loading > 0) {\n",
       "      console.log(\"Bokeh: BokehJS is being loaded, scheduling callback at\", now());\n",
       "      return null;\n",
       "    }\n",
       "    if (js_urls == null || js_urls.length === 0) {\n",
       "      run_callbacks();\n",
       "      return null;\n",
       "    }\n",
       "    console.log(\"Bokeh: BokehJS not loaded, scheduling load and callback at\", now());\n",
       "    root._bokeh_is_loading = js_urls.length;\n",
       "    for (var i = 0; i < js_urls.length; i++) {\n",
       "      var url = js_urls[i];\n",
       "      var s = document.createElement('script');\n",
       "      s.src = url;\n",
       "      s.async = false;\n",
       "      s.onreadystatechange = s.onload = function() {\n",
       "        root._bokeh_is_loading--;\n",
       "        if (root._bokeh_is_loading === 0) {\n",
       "          console.log(\"Bokeh: all BokehJS libraries loaded\");\n",
       "          run_callbacks()\n",
       "        }\n",
       "      };\n",
       "      s.onerror = function() {\n",
       "        console.warn(\"failed to load library \" + url);\n",
       "      };\n",
       "      console.log(\"Bokeh: injecting script tag for BokehJS library: \", url);\n",
       "      document.getElementsByTagName(\"head\")[0].appendChild(s);\n",
       "    }\n",
       "  };var element = document.getElementById(\"4db6db29-0d58-4d31-8f48-b55ec11d2af7\");\n",
       "  if (element == null) {\n",
       "    console.log(\"Bokeh: ERROR: autoload.js configured with elementid '4db6db29-0d58-4d31-8f48-b55ec11d2af7' but no matching script tag was found. \")\n",
       "    return false;\n",
       "  }\n",
       "\n",
       "  var js_urls = [\"https://cdn.pydata.org/bokeh/release/bokeh-0.12.14.min.js\", \"https://cdn.pydata.org/bokeh/release/bokeh-widgets-0.12.14.min.js\", \"https://cdn.pydata.org/bokeh/release/bokeh-tables-0.12.14.min.js\", \"https://cdn.pydata.org/bokeh/release/bokeh-gl-0.12.14.min.js\"];\n",
       "\n",
       "  var inline_js = [\n",
       "    function(Bokeh) {\n",
       "      Bokeh.set_log_level(\"info\");\n",
       "    },\n",
       "    \n",
       "    function(Bokeh) {\n",
       "      \n",
       "    },\n",
       "    function(Bokeh) {\n",
       "      console.log(\"Bokeh: injecting CSS: https://cdn.pydata.org/bokeh/release/bokeh-0.12.14.min.css\");\n",
       "      Bokeh.embed.inject_css(\"https://cdn.pydata.org/bokeh/release/bokeh-0.12.14.min.css\");\n",
       "      console.log(\"Bokeh: injecting CSS: https://cdn.pydata.org/bokeh/release/bokeh-widgets-0.12.14.min.css\");\n",
       "      Bokeh.embed.inject_css(\"https://cdn.pydata.org/bokeh/release/bokeh-widgets-0.12.14.min.css\");\n",
       "      console.log(\"Bokeh: injecting CSS: https://cdn.pydata.org/bokeh/release/bokeh-tables-0.12.14.min.css\");\n",
       "      Bokeh.embed.inject_css(\"https://cdn.pydata.org/bokeh/release/bokeh-tables-0.12.14.min.css\");\n",
       "    }\n",
       "  ];\n",
       "\n",
       "  function run_inline_js() {\n",
       "    \n",
       "    if ((root.Bokeh !== undefined) || (force === true)) {\n",
       "      for (var i = 0; i < inline_js.length; i++) {\n",
       "        inline_js[i].call(root, root.Bokeh);\n",
       "      }if (force === true) {\n",
       "        display_loaded();\n",
       "      }} else if (Date.now() < root._bokeh_timeout) {\n",
       "      setTimeout(run_inline_js, 100);\n",
       "    } else if (!root._bokeh_failed_load) {\n",
       "      console.log(\"Bokeh: BokehJS failed to load within specified timeout.\");\n",
       "      root._bokeh_failed_load = true;\n",
       "    } else if (force !== true) {\n",
       "      var cell = $(document.getElementById(\"4db6db29-0d58-4d31-8f48-b55ec11d2af7\")).parents('.cell').data().cell;\n",
       "      cell.output_area.append_execute_result(NB_LOAD_WARNING)\n",
       "    }\n",
       "\n",
       "  }\n",
       "\n",
       "  if (root._bokeh_is_loading === 0) {\n",
       "    console.log(\"Bokeh: BokehJS loaded, going straight to plotting\");\n",
       "    run_inline_js();\n",
       "  } else {\n",
       "    load_libs(js_urls, function() {\n",
       "      console.log(\"Bokeh: BokehJS plotting callback run at\", now());\n",
       "      run_inline_js();\n",
       "    });\n",
       "  }\n",
       "}(window));"
      ],
      "application/vnd.bokehjs_load.v0+json": "\n(function(root) {\n  function now() {\n    return new Date();\n  }\n\n  var force = true;\n\n  if (typeof (root._bokeh_onload_callbacks) === \"undefined\" || force === true) {\n    root._bokeh_onload_callbacks = [];\n    root._bokeh_is_loading = undefined;\n  }\n\n  \n\n  \n  if (typeof (root._bokeh_timeout) === \"undefined\" || force === true) {\n    root._bokeh_timeout = Date.now() + 5000;\n    root._bokeh_failed_load = false;\n  }\n\n  var NB_LOAD_WARNING = {'data': {'text/html':\n     \"<div style='background-color: #fdd'>\\n\"+\n     \"<p>\\n\"+\n     \"BokehJS does not appear to have successfully loaded. If loading BokehJS from CDN, this \\n\"+\n     \"may be due to a slow or bad network connection. Possible fixes:\\n\"+\n     \"</p>\\n\"+\n     \"<ul>\\n\"+\n     \"<li>re-rerun `output_notebook()` to attempt to load from CDN again, or</li>\\n\"+\n     \"<li>use INLINE resources instead, as so:</li>\\n\"+\n     \"</ul>\\n\"+\n     \"<code>\\n\"+\n     \"from bokeh.resources import INLINE\\n\"+\n     \"output_notebook(resources=INLINE)\\n\"+\n     \"</code>\\n\"+\n     \"</div>\"}};\n\n  function display_loaded() {\n    var el = document.getElementById(\"4db6db29-0d58-4d31-8f48-b55ec11d2af7\");\n    if (el != null) {\n      el.textContent = \"BokehJS is loading...\";\n    }\n    if (root.Bokeh !== undefined) {\n      if (el != null) {\n        el.textContent = \"BokehJS \" + root.Bokeh.version + \" successfully loaded.\";\n      }\n    } else if (Date.now() < root._bokeh_timeout) {\n      setTimeout(display_loaded, 100)\n    }\n  }\n\n\n  function run_callbacks() {\n    try {\n      root._bokeh_onload_callbacks.forEach(function(callback) { callback() });\n    }\n    finally {\n      delete root._bokeh_onload_callbacks\n    }\n    console.info(\"Bokeh: all callbacks have finished\");\n  }\n\n  function load_libs(js_urls, callback) {\n    root._bokeh_onload_callbacks.push(callback);\n    if (root._bokeh_is_loading > 0) {\n      console.log(\"Bokeh: BokehJS is being loaded, scheduling callback at\", now());\n      return null;\n    }\n    if (js_urls == null || js_urls.length === 0) {\n      run_callbacks();\n      return null;\n    }\n    console.log(\"Bokeh: BokehJS not loaded, scheduling load and callback at\", now());\n    root._bokeh_is_loading = js_urls.length;\n    for (var i = 0; i < js_urls.length; i++) {\n      var url = js_urls[i];\n      var s = document.createElement('script');\n      s.src = url;\n      s.async = false;\n      s.onreadystatechange = s.onload = function() {\n        root._bokeh_is_loading--;\n        if (root._bokeh_is_loading === 0) {\n          console.log(\"Bokeh: all BokehJS libraries loaded\");\n          run_callbacks()\n        }\n      };\n      s.onerror = function() {\n        console.warn(\"failed to load library \" + url);\n      };\n      console.log(\"Bokeh: injecting script tag for BokehJS library: \", url);\n      document.getElementsByTagName(\"head\")[0].appendChild(s);\n    }\n  };var element = document.getElementById(\"4db6db29-0d58-4d31-8f48-b55ec11d2af7\");\n  if (element == null) {\n    console.log(\"Bokeh: ERROR: autoload.js configured with elementid '4db6db29-0d58-4d31-8f48-b55ec11d2af7' but no matching script tag was found. \")\n    return false;\n  }\n\n  var js_urls = [\"https://cdn.pydata.org/bokeh/release/bokeh-0.12.14.min.js\", \"https://cdn.pydata.org/bokeh/release/bokeh-widgets-0.12.14.min.js\", \"https://cdn.pydata.org/bokeh/release/bokeh-tables-0.12.14.min.js\", \"https://cdn.pydata.org/bokeh/release/bokeh-gl-0.12.14.min.js\"];\n\n  var inline_js = [\n    function(Bokeh) {\n      Bokeh.set_log_level(\"info\");\n    },\n    \n    function(Bokeh) {\n      \n    },\n    function(Bokeh) {\n      console.log(\"Bokeh: injecting CSS: https://cdn.pydata.org/bokeh/release/bokeh-0.12.14.min.css\");\n      Bokeh.embed.inject_css(\"https://cdn.pydata.org/bokeh/release/bokeh-0.12.14.min.css\");\n      console.log(\"Bokeh: injecting CSS: https://cdn.pydata.org/bokeh/release/bokeh-widgets-0.12.14.min.css\");\n      Bokeh.embed.inject_css(\"https://cdn.pydata.org/bokeh/release/bokeh-widgets-0.12.14.min.css\");\n      console.log(\"Bokeh: injecting CSS: https://cdn.pydata.org/bokeh/release/bokeh-tables-0.12.14.min.css\");\n      Bokeh.embed.inject_css(\"https://cdn.pydata.org/bokeh/release/bokeh-tables-0.12.14.min.css\");\n    }\n  ];\n\n  function run_inline_js() {\n    \n    if ((root.Bokeh !== undefined) || (force === true)) {\n      for (var i = 0; i < inline_js.length; i++) {\n        inline_js[i].call(root, root.Bokeh);\n      }if (force === true) {\n        display_loaded();\n      }} else if (Date.now() < root._bokeh_timeout) {\n      setTimeout(run_inline_js, 100);\n    } else if (!root._bokeh_failed_load) {\n      console.log(\"Bokeh: BokehJS failed to load within specified timeout.\");\n      root._bokeh_failed_load = true;\n    } else if (force !== true) {\n      var cell = $(document.getElementById(\"4db6db29-0d58-4d31-8f48-b55ec11d2af7\")).parents('.cell').data().cell;\n      cell.output_area.append_execute_result(NB_LOAD_WARNING)\n    }\n\n  }\n\n  if (root._bokeh_is_loading === 0) {\n    console.log(\"Bokeh: BokehJS loaded, going straight to plotting\");\n    run_inline_js();\n  } else {\n    load_libs(js_urls, function() {\n      console.log(\"Bokeh: BokehJS plotting callback run at\", now());\n      run_inline_js();\n    });\n  }\n}(window));"
     },
     "metadata": {},
     "output_type": "display_data"
    }
   ],
   "source": [
    "output_notebook()"
   ]
  },
  {
   "cell_type": "code",
   "execution_count": 8,
   "metadata": {
    "collapsed": true
   },
   "outputs": [],
   "source": [
    "def fmt_cool(ds_in):\n",
    "    ds = ds_in.copy(deep=True)\n",
    "    if 'igg' in ds.dims:\n",
    "        ds = ds.sel(igg=1)\n",
    "\n",
    "    if 'g' in ds.dims:\n",
    "        ds = ds.sum('g')\n",
    "            \n",
    "    if 'band' in ds.dims:\n",
    "        try:\n",
    "            ds = ds.squeeze('band')\n",
    "        except ValueError:\n",
    "            ds = ds.sum('band')\n",
    "                \n",
    "    return ds['coolrg']\n",
    "\n",
    "\n",
    "def pltdata_cooling_1(ds_cool=None,\n",
    "                      ds_cool_crd=None, ds_cool_wgt=None):\n",
    "    \n",
    "\n",
    "\n",
    "    colors = all_palettes['Set1'][4]\n",
    "    data = [{'label': 'CLIRAD `coolr_bands`',\n",
    "             'srs': fmt_cool(ds_cool),\n",
    "             'line_dash': 'dashed', 'line_width': 5,\n",
    "             'color': colors[0], 'alpha': .6},\n",
    "            {'label': 'CRD',\n",
    "             'srs': fmt_cool(ds_cool_crd),\n",
    "             'line_dash': 'solid', 'line_width': 1.5,\n",
    "             'marker': 'circle', 'marker_size': 5,\n",
    "             'color': colors[2], 'alpha': 1,},\n",
    "            {'label': 'WGT igg=10 wgt_flux=2',\n",
    "             'srs': fmt_cool(ds_cool_wgt),\n",
    "             'line_dash': 'solid', 'line_width': 3,\n",
    "             'marker': 'square', 'marker_size': 5,\n",
    "             'color': colors[3], 'alpha': .6}]\n",
    "    return data\n",
    "\n",
    "\n",
    "def nice_xlims(pltdata=None, prange=None):\n",
    "    \n",
    "    def get_slice(srs):\n",
    "        return srs.sel(pressure=slice(*prange))\n",
    "    \n",
    "    srss = [d['srs'] for d in pltdata]\n",
    "    vmin = min([get_slice(srs).min() for srs in srss])\n",
    "    vmax = max([get_slice(srs).max() for srs in srss])\n",
    "    dv = (vmax - vmin) * .01\n",
    "    return float(vmin - dv), float(vmax + dv)\n",
    "    \n",
    "\n",
    "def plt_cooling_bokeh(pltdata=None):\n",
    "    '''\n",
    "    Plot a list of cooling rate profiles using bokeh.\n",
    "    '''\n",
    "    ymin = 1e-2 \n",
    "    ymax = 1020 \n",
    "        \n",
    "    p1 = figure(title=\"Linear pressure scale\", \n",
    "                plot_width=400)        \n",
    "    xmin, xmax = nice_xlims(pltdata, prange=(50, 1050))\n",
    "    for d in pltdata:\n",
    "        if 'marker' in d:\n",
    "            getattr(p1, d['marker'])(d['srs'].values, \n",
    "                    d['srs'].coords['pressure'].values,\n",
    "                    color=d['color'], alpha=.7)\n",
    "        p1.line(d['srs'].values, \n",
    "                d['srs'].coords['pressure'].values,\n",
    "                color=d['color'], alpha=d['alpha'], \n",
    "                line_width=d['line_width'], line_dash=d['line_dash'])\n",
    "    \n",
    "    p1.y_range = Range1d(ymax, ymin)\n",
    "    p1.yaxis.axis_label = 'pressure [mb]'   \n",
    "    p1.x_range = Range1d(xmin, xmax)\n",
    "    p1.xaxis.axis_label = 'cooling rate [K/day]'\n",
    "            \n",
    "    p2 = figure(title='Log pressure scale', y_axis_type='log',\n",
    "                plot_width=560)\n",
    "    xmin, xmax = nice_xlims(pltdata, prange=(.01, 200))\n",
    "    \n",
    "    rs = []\n",
    "    for d in pltdata:\n",
    "        rd = []\n",
    "        if 'marker' in d:\n",
    "            r_mark = getattr(p2, d['marker'])(d['srs'].values, \n",
    "                        d['srs'].coords['pressure'].values,\n",
    "                        color=d['color'], alpha=.7)\n",
    "            rd.append(r_mark)\n",
    "        r_line = p2.line(d['srs'].values, \n",
    "                    d['srs'].coords['pressure'].values,\n",
    "                    color=d['color'], alpha=d['alpha'], \n",
    "                    line_width=d['line_width'], line_dash=d['line_dash'])\n",
    "        rd.append(r_line)\n",
    "      \n",
    "        rs.append(rd)\n",
    "        \n",
    "    p2.y_range = Range1d(ymax, ymin)  \n",
    "    p2.yaxis.axis_label = 'pressure [mb]'\n",
    "    \n",
    "    p2.x_range = Range1d(xmin, xmax)\n",
    "    p2.xaxis.axis_label = 'cooling rate [K/day]'\n",
    "    \n",
    "    items = [(d['label'], r) for r, d in zip(rs, pltdata)]\n",
    "    legend = Legend(items=items, location=(10, -30))\n",
    "    legend.label_text_font_size = '8pt'\n",
    "    \n",
    "    p2.add_layout(legend, 'right')  \n",
    "    \n",
    "    show(gridplot(p1, p2, ncols=2, plot_height=500))\n",
    "    \n",
    "\n",
    "def script_plt_cooling():\n",
    "    pltdata = pltdata_cooling_1(\n",
    "        ds_cool=DS_COOL,\n",
    "        ds_cool_crd=DS_COOL_CRD,\n",
    "        ds_cool_wgt=DS_COOL_WGT)\n",
    "    plt_cooling_bokeh(pltdata=pltdata)\n",
    "    print('''FIGURE. Cooling rate profiles.''')"
   ]
  },
  {
   "cell_type": "code",
   "execution_count": 9,
   "metadata": {
    "collapsed": true
   },
   "outputs": [],
   "source": [
    "def fmt_flux(ds_in):\n",
    "    ds = ds_in.copy(deep=True)\n",
    "    \n",
    "    for l in ('level', 'layer'):\n",
    "        if l in ds.data_vars:\n",
    "            if len(ds[l].dims) > 1:\n",
    "                surface = {d: 0 for d in ds.dims if d != 'pressure'}\n",
    "                coord_level = ds[l][surface]\n",
    "                ds.coords[l] = ('pressure', coord_level)\n",
    "            else:\n",
    "                ds.coords[l] = ('pressure', ds[l])\n",
    "        \n",
    "    ds = ds.isel(pressure=[0, 23, -1])\n",
    "        \n",
    "    if 'igg' in ds.dims:\n",
    "        ds = ds.sel(igg=[1])\n",
    "        ds = ds.squeeze('igg').drop('igg')\n",
    "    \n",
    "    if 'g' in ds.dims:\n",
    "        ds = ds.sum('g')\n",
    "            \n",
    "    if 'band' in ds.dims:\n",
    "        try:\n",
    "            ds = ds.squeeze('band').drop('band')\n",
    "        except ValueError:\n",
    "            ds = ds.sum('band')\n",
    "                \n",
    "    df = ds.to_dataframe()\n",
    "    df = df.set_index('level', append=True)               \n",
    "    return df\n",
    "\n",
    "\n",
    "def tbdata_flux(ds_flux=None, ds_flux_crd=None, ds_flux_wgt=None):\n",
    "    ilevels = [0, 23, -1]\n",
    "            \n",
    "    benchmark = {'label': 'WGT igg=10 wgt_flux=1',\n",
    "                 'df': fmt_flux(ds_flux_wgt)}\n",
    "    \n",
    "    tbs = [{'label': 'CRD',\n",
    "            'df': fmt_flux(ds_flux_crd)},\n",
    "           {'label': 'CLIRAD',\n",
    "            'df': fmt_flux(ds_flux)}]\n",
    "    \n",
    "    data = {'benchmark': benchmark, 'others': tbs}\n",
    "    return data\n",
    "\n",
    "\n",
    "def tb_flux(tbdata=None):\n",
    "    benchmark = tbdata['benchmark']\n",
    "    others = tbdata['others']\n",
    "    \n",
    "    def show_tb(d=None):\n",
    "        display.display(d['df'])\n",
    "        print('Table.', 'Fluxes.', d['label'])\n",
    "        \n",
    "    def show_tbdiff(d0=None, d=None):\n",
    "        df = d['df']\n",
    "        df.index = d0['df'].index\n",
    "        display.display(df - d0['df'])\n",
    "        print('Table.', 'Fluxes.', \n",
    "              '({}) - ({})'.format(d['label'], d0['label']))\n",
    "        \n",
    "    show_tb(benchmark)\n",
    "    for d in others:\n",
    "        show_tb(d)\n",
    "        \n",
    "    for d in others:\n",
    "        show_tbdiff(d=d, d0=benchmark)\n",
    "        \n",
    "        \n",
    "def script_tb_flux():\n",
    "    data = tbdata_flux(ds_flux=DS_FLUX,\n",
    "                       ds_flux_crd=DS_FLUX_CRD,\n",
    "                       ds_flux_wgt=DS_FLUX_WGT)\n",
    "    tb_flux(tbdata=data)"
   ]
  },
  {
   "cell_type": "code",
   "execution_count": 10,
   "metadata": {
    "collapsed": true
   },
   "outputs": [],
   "source": [
    "def band_map():\n",
    "    '''\n",
    "    Maps spectral bands in lblnew to spectral bands in clirad.\n",
    "    '''\n",
    "    lblnew2clirad = {'1': '1',\n",
    "            '2': '2',\n",
    "            '3a': '3',\n",
    "            '3b': '4',\n",
    "            '3c': '5',\n",
    "            '4': '6', \n",
    "            '5': '7',\n",
    "            '6': '8',\n",
    "            '7': '9', \n",
    "            '8': '10',\n",
    "            '9': '11'}\n",
    "    \n",
    "    clirad2lblnew = {clirad: lblnew \n",
    "                     for lblnew, clirad in lblnew2clirad.items()}\n",
    "    return clirad2lblnew\n",
    "\n",
    "\n",
    "def gasbands():\n",
    "    bmap = band_map()\n",
    "    gases = list(PARAM['molecule'].keys())\n",
    "    \n",
    "    bands = [bmap[str(b)] for b in PARAM['band']]\n",
    "    return list(itertools.product(gases, bands))\n",
    "\n",
    "\n",
    "def print_bestfit_params():\n",
    "    print('Best-fit values for each (gas, band)')\n",
    "    print('------------------------------------')\n",
    "    for gas, band in gasbands():\n",
    "        print('o {} band{}'.format(gas, band))\n",
    "        param = bestfits.kdist_params(molecule=gas, band=band)\n",
    "        for name, value in param.items():\n",
    "            print(2 * ' ' + '{} = {}'.format(name, value))\n",
    "\n",
    "        \n",
    "def print_input_param():        \n",
    "    for name, value in PARAM.items():\n",
    "        print('{} = {}'.format(name, value))\n",
    "        \n",
    "        \n",
    "def print_lblnew_param():\n",
    "    for name, value in PARAM_LBLNEW.items():\n",
    "        print('{} = {}'.format(name, value))\n"
   ]
  },
  {
   "cell_type": "code",
   "execution_count": 11,
   "metadata": {
    "collapsed": true,
    "scrolled": false
   },
   "outputs": [],
   "source": [
    "def show_html(s):\n",
    "    display.display(display.HTML(s))\n",
    "\n",
    "    \n",
    "def show_markdown(s):\n",
    "    display.display(display.Markdown(s))\n",
    "\n",
    "    \n",
    "def script():\n",
    "    \n",
    "    title = '### CLIRAD-LW'\n",
    "    s_input = 'Input Parameters'\n",
    "    s_lblnew_param = 'LBLNEW case compaired against'\n",
    "    s_bestfits = 'Best-fit Parameters'\n",
    "    s_plt_cooling = 'Cooling Rate Profiles'\n",
    "    s_tb_flux = 'Flux Comparison'\n",
    "    \n",
    "    # title\n",
    "    show_markdown('### CLIRAD-LW')\n",
    "    \n",
    "    # TOC\n",
    "    show_markdown('### Table of Contents')\n",
    "    show_html(climahtml.getHTML_hrefanchor(s_input))\n",
    "    show_html(climahtml.getHTML_hrefanchor(s_lblnew_param))\n",
    "    show_html(climahtml.getHTML_hrefanchor(s_plt_cooling))\n",
    "    show_html(climahtml.getHTML_hrefanchor(s_tb_flux))\n",
    "    show_html(climahtml.getHTML_hrefanchor(s_bestfits))\n",
    "    \n",
    "    # Input parameters\n",
    "    show_html(climahtml.getHTML_idanchor(s_input))\n",
    "    show_markdown(climahtml.getMarkdown_sectitle(s_input))\n",
    "    print_input_param()\n",
    "    \n",
    "    # LBLNEW parameters \n",
    "    show_html(climahtml.getHTML_idanchor(s_lblnew_param))\n",
    "    show_markdown(climahtml.getMarkdown_sectitle(s_lblnew_param))\n",
    "    print_lblnew_param()\n",
    "    \n",
    "    # Cooling rate profiles\n",
    "    show_html(climahtml.getHTML_idanchor(s_plt_cooling))\n",
    "    show_markdown(climahtml.getMarkdown_sectitle(s_plt_cooling))\n",
    "    script_plt_cooling()\n",
    "    \n",
    "    # Flux comparison\n",
    "    show_html(climahtml.getHTML_idanchor(s_tb_flux))\n",
    "    show_markdown(climahtml.getMarkdown_sectitle(s_tb_flux))\n",
    "    script_tb_flux()\n",
    "    \n",
    "    # Best-fit values\n",
    "    show_html(climahtml.getHTML_idanchor(s_bestfits))\n",
    "    show_markdown(climahtml.getMarkdown_sectitle(s_bestfits))\n",
    "    print_bestfit_params()\n",
    "   \n",
    "    "
   ]
  },
  {
   "cell_type": "code",
   "execution_count": 12,
   "metadata": {
    "scrolled": false
   },
   "outputs": [
    {
     "data": {
      "text/markdown": [
       "### CLIRAD-LW"
      ],
      "text/plain": [
       "<IPython.core.display.Markdown object>"
      ]
     },
     "metadata": {},
     "output_type": "display_data"
    },
    {
     "data": {
      "text/markdown": [
       "### Table of Contents"
      ],
      "text/plain": [
       "<IPython.core.display.Markdown object>"
      ]
     },
     "metadata": {},
     "output_type": "display_data"
    },
    {
     "data": {
      "text/html": [
       "<a href=\"#Input_Parameters\">Input Parameters</a>"
      ],
      "text/plain": [
       "<IPython.core.display.HTML object>"
      ]
     },
     "metadata": {},
     "output_type": "display_data"
    },
    {
     "data": {
      "text/html": [
       "<a href=\"#LBLNEW_case_compaired_against\">LBLNEW case compaired against</a>"
      ],
      "text/plain": [
       "<IPython.core.display.HTML object>"
      ]
     },
     "metadata": {},
     "output_type": "display_data"
    },
    {
     "data": {
      "text/html": [
       "<a href=\"#Cooling_Rate_Profiles\">Cooling Rate Profiles</a>"
      ],
      "text/plain": [
       "<IPython.core.display.HTML object>"
      ]
     },
     "metadata": {},
     "output_type": "display_data"
    },
    {
     "data": {
      "text/html": [
       "<a href=\"#Flux_Comparison\">Flux Comparison</a>"
      ],
      "text/plain": [
       "<IPython.core.display.HTML object>"
      ]
     },
     "metadata": {},
     "output_type": "display_data"
    },
    {
     "data": {
      "text/html": [
       "<a href=\"#Best-fit_Parameters\">Best-fit Parameters</a>"
      ],
      "text/plain": [
       "<IPython.core.display.HTML object>"
      ]
     },
     "metadata": {},
     "output_type": "display_data"
    },
    {
     "data": {
      "text/html": [
       "<a id=\"Input_Parameters\"></a>"
      ],
      "text/plain": [
       "<IPython.core.display.HTML object>"
      ]
     },
     "metadata": {},
     "output_type": "display_data"
    },
    {
     "data": {
      "text/markdown": [
       "# Input Parameters"
      ],
      "text/plain": [
       "<IPython.core.display.Markdown object>"
      ]
     },
     "metadata": {},
     "output_type": "display_data"
    },
    {
     "name": "stdout",
     "output_type": "stream",
     "text": [
      "atmpro = mls\n",
      "band = [10]\n",
      "commitnumber = 7a7a0e1\n",
      "molecule = {'h2o': 'atmpro'}\n",
      "tsfc = 294\n"
     ]
    },
    {
     "data": {
      "text/html": [
       "<a id=\"LBLNEW_case_compaired_against\"></a>"
      ],
      "text/plain": [
       "<IPython.core.display.HTML object>"
      ]
     },
     "metadata": {},
     "output_type": "display_data"
    },
    {
     "data": {
      "text/markdown": [
       "# LBLNEW case compaired against"
      ],
      "text/plain": [
       "<IPython.core.display.Markdown object>"
      ]
     },
     "metadata": {},
     "output_type": "display_data"
    },
    {
     "name": "stdout",
     "output_type": "stream",
     "text": [
      "molecule = h2o\n",
      "band = 8\n",
      "commitnumber = d62b618\n",
      "vmin = 1380\n",
      "vmax = 1900\n",
      "dv = 0.001\n",
      "nv = 1000\n",
      "ref_pts = [(1, 250), (10, 250), (500, 250)]\n",
      "ng_refs = [3, 2, 3]\n",
      "ng_adju = [0, -1, 0]\n",
      "klin = 0\n",
      "option_wgt_k = 1\n",
      "wgt = [(0.55, 0.55, 0.85), (0.85, 0.85), (0, 0.3, 0.55)]\n",
      "w_diffuse = [(1.66, 1.66, 1.66), (1.66, 1.66), (1.66, 1.66, 1.66)]\n",
      "option_wgt_flux = 1\n",
      "atmpro = mls\n",
      "tsfc = 294\n",
      "conc = None\n",
      "option_compute_btable = 0\n",
      "option_compute_ktable = 1\n"
     ]
    },
    {
     "data": {
      "text/html": [
       "<a id=\"Cooling_Rate_Profiles\"></a>"
      ],
      "text/plain": [
       "<IPython.core.display.HTML object>"
      ]
     },
     "metadata": {},
     "output_type": "display_data"
    },
    {
     "data": {
      "text/markdown": [
       "# Cooling Rate Profiles"
      ],
      "text/plain": [
       "<IPython.core.display.Markdown object>"
      ]
     },
     "metadata": {},
     "output_type": "display_data"
    },
    {
     "data": {
      "text/html": [
       "\n",
       "<div class=\"bk-root\">\n",
       "    <div class=\"bk-plotdiv\" id=\"bbc2e0b8-8513-4d7d-9d8f-4ef84bfe9b00\"></div>\n",
       "</div>"
      ]
     },
     "metadata": {},
     "output_type": "display_data"
    },
    {
     "data": {
      "application/javascript": [
       "(function(root) {\n",
       "  function embed_document(root) {\n",
       "    \n",
       "  var docs_json = {\"9172e35d-48fc-4233-8863-1fe54d44445b\":{\"roots\":{\"references\":[{\"attributes\":{\"callback\":null,\"column_names\":[\"x\",\"y\"],\"data\":{\"x\":{\"__ndarray__\":\"3kRGak4cwb90tdPe+SjBv7eKURn3zcC/CHTkUNiowL8KrRyUD0XAv4o8KKx9z7+/aNUhFrUkv7+23PTC+MS+vyJIMYK+276/JVjBFIoZv78NUaZNrL6/v9+53tMoZsC/mSXozMlNwb96ibFMv8TCv9Nni5T718O/c8F0tXA0wr9Oifv654q7vyxoHf9M17C/Wtm6q4nLkL+0JEq/oCymP2kL3y1W9b0/A3hNQPpDzD/WzBjudfXUP0aHlxIPydI/wZ9MaR68xT8R8+cGAwK4PzMOuxAnB60/4fmEbT2joz+jhtaN7lWeP9T8Xi7VEZk/XX77yBrmkz/8wEsszQaNPwHJPD6WSIY/KmSr5lkLgz/0Z6+mAW98P/WAcaBrzm4/gcD1asGAXj/UQ+grPsFSP+dVSdZ0TEy/Hub41VYUab/EYSdlyTtQv///XXEBAI0/MD1VFmkIpD+0nqNTLD6xP4GEel0zt7c/tLZoglpsuT+2SPubJwm7P51LUEfwVL0/LaahX75pvz+KydlDFHbAPxHpEml2uMA/KXht4w04wD8hnngQM+K+PxDFDY1hLb0/glfLnZlguz8K3uv/d5+5PwoKkFyPJrg/DzJrV1hYtz8S5cHMLWO1PzjuvY0HurI/8NaP0yvzrz/tWt0SAreqP6BQTx+BP6Y/+N0ZEpyfoj+/5aqsf22gP9seivCZZqA/X/S3MhiLoj+g9ba6GNqkPzNZKg/VC6Q/PnowGhMRnz8ggken8JiUPw+KrlfNfYo/nsKPRzedgj8+tnKhPPSAP0UYWCoc/74/\",\"dtype\":\"float64\",\"shape\":[75]},\"y\":{\"__ndarray__\":\"GhExyth1ND/Sv8nbtpRIP2vylNV0PVE/aTum7souWD/At0SJ8fVgPw3Iuahxymc/MSNhhJWvcD/bTfBN02d3P2zb5nxnaoA/CD5h5MAGhz8NmeH1TyaQP+zrCsc9p5Y/LbKd76fGnz/bLW5ISEmmPww9YvTcQq8/JV2OstnstT8Er5Y7M8G+P0c+r3jqkcU/5h99k6ZBzj88bCIzFzjVP4enV8oyxN0//yH99nXg5D8qOpLLf0jtP5kqGJXUifQ/c9cS8kHP/D+/DpwzojQEQIEmwoanVwxA4lgXt9HgE0BSSZ2AJuIbQAMJih9jjiNA5q4l5INuK0AwTKYKRj0zQNv5fmq8/DpAaCJseHrtQkB/+zpwzoxKQM3MzMzMeFJAZmZmZmZqWEAAAAAAAFxeQM3MzMzMJmJAmpmZmZkfZUBmZmZmZhhoQDMzMzMzEWtAAAAAAAAKbkBmZmZmZoFwQM3MzMzM/XFAMzMzMzN6c0CamZmZmfZ0QAAAAAAAc3ZAZmZmZmbvd0DNzMzMzGt5QDMzMzMz6HpAmpmZmZlkfEAAAAAAAOF9QGZmZmZmXX9AZmZmZuZsgECamZmZGSuBQM3MzMxM6YFAAAAAAICngkAzMzMzs2WDQGZmZmbmI4RAmpmZmRnihEDNzMzMTKCFQAAAAACAXoZAMzMzM7Mch0BmZmZm5tqHQJqZmZkZmYhAzczMzExXiUAAAAAAgBWKQDMzMzOz04pAZmZmZuaRi0CamZmZGVCMQM3MzMxMDo1AAAAAAIDMjUAzMzMzs4qOQGZmZmbmSI9A\",\"dtype\":\"float64\",\"shape\":[75]}}},\"id\":\"9d744e9f-7334-43ca-9396-b41d36eb1734\",\"type\":\"ColumnDataSource\"},{\"attributes\":{\"data_source\":{\"id\":\"739a5d48-98d1-409b-8734-4f00e381253b\",\"type\":\"ColumnDataSource\"},\"glyph\":{\"id\":\"64990c74-c64d-48d9-b443-3bb1e1ac525c\",\"type\":\"Line\"},\"hover_glyph\":null,\"muted_glyph\":null,\"nonselection_glyph\":{\"id\":\"92123aaa-6f6f-4574-b0e7-2671f7d9e8a1\",\"type\":\"Line\"},\"selection_glyph\":null,\"view\":{\"id\":\"62c4f3c8-a3f7-4fc0-a4de-61af193bce54\",\"type\":\"CDSView\"}},\"id\":\"61c50cb1-522c-4989-afb2-536a6b2a68bf\",\"type\":\"GlyphRenderer\"},{\"attributes\":{\"callback\":null,\"column_names\":[\"x\",\"y\"],\"data\":{\"x\":{\"__ndarray__\":\"AAAAAAAAAAAAAAAAAAAAAAAAAAAAAAAAAAAAAAAAAAAAAAAAAAAAAAAAAAAAAAAAAAAAAAAAAAAAAAAAAAAAAAAAAAAAAAAAAAAAAAAAAAAAAAAAAAAAAAAAAAAAAAAAAAAAAAAAAAAAAAAAAAAAAAAAAAAAAAAAAAAAAAAAAAAAAAAAAAAAAAAAAAAAAAAAAAAAAAAAAAAAAAAAAAAAAAAAAAAAAAAAAAAAAAAAAAAAAAAAAAAAAAAAAAAAAAAAAAAAAAAAAAAAAAAAAAAAAAAAAAAAAAAAAAAAAAAAAAAAAAAAAAAAAAAAAAAAAAAAAAAAAAAAAAAAAAAAAAAAAAAAAAAAAAAAAAAAAAAAAAAAAAAAAAAAAAAAAAAAAAAAAAAAAAAAAAAAAAAAAAAAAAAAAAAAAAAAAAAAAAAAAAAAAAAAAAAAAAAAAAAAAAAAAAAAAAAAAAAAAAAAAAAAAAAAAAAAAAAAAAAAAAAAAAAAAAAAAAAAAAAAAAAAAAAAAAAAAAAAAAAAAAAAAAAAAAAAAAAAAAAAAAAAAAAAAAAAAAAAAAAAAAAAAAAAAAAAAAAAAAAAAAAAAAAAAAAAAAAAAAAAAAAAAAAAAAAAAAAAAAAAAAAAAAAAAAAAAAAAAAAAAAAAAAAAAAAAAAAAAAAAAAAAAAAAAAAAAAAAAAAAAAAAAAAAAAAAAAAAAAAAAAAAAAAAAAAAAAAAAAAAAAAAAAAAAAAAAAAAAAAAAAAAAAAAAAAAAAAAAAAAAAAAAAAAAAAAAAAAAAAAAAAAAAAAAAAAAAAA\",\"dtype\":\"float64\",\"shape\":[75]},\"y\":{\"__ndarray__\":\"S/O/Q+51ND/430zAtpRIP2vylNV0PVE/QxsjCssuWD/TR4Z78fVgP+inNsRxymc/OuuBfZWvcD/u3TFA02d3P2d3VoBnaoA/CD5h5MAGhz/1pA8HUCaQP+zrCsc9p5Y/Fb7LAKjGnz/nJ9c/SEmmPwBD+fzcQq8/FOZwv9nstT8Er5Y7M8G+P0c+r3jqkcU/yK72qKZBzj+tM989FzjVPxbgmr8yxN0/cOm5AXbg5D+5ctXAf0jtP5kqGJXUifQ/DsrqDELP/D8MCAhBojQEQDItVnmnVwxAiFXNvdHgE0BSSZ2AJuIbQAMJih9jjiNA5q4l5INuK0CPVN/5RT0zQHzxRXu8/DpAOZ7PgHrtQkAg8wGBzoxKQBSTN8DMeFJA2NmQf2ZqWEAAAAAAAFxeQEQX1LfMJmJAmpmZmZkfZUBmZmZmZhhoQLzoK0gzEWtAAAAAAAAKbkCiC+pbZoFwQAhyUMLM/XFA+I2vPTN6c0AQ5KCEmfZ0QAAAAAAAc3ZA8Btfe2bvd0AIclDCzGt5QPeNrz0z6HpAEOSghJlkfEAAAAAAAOF9QKML6ltmXX9ABTkoYeZsgED7xteeGSuBQAhyUMJM6YFAAAAAAICngkD4ja89s2WDQAU5KGHmI4RA+8bXnhnihEAIclDCTKCFQAAAAACAXoZA+I2vPbMch0AFOShh5tqHQPvG154ZmYhACHJQwkxXiUAAAAAAgBWKQPeNrz2z04pABTkoYeaRi0D7xteeGVCMQAlyUMJMDo1AAAAAAIDMjUD3ja89s4qOQGZmZmbmSI9A\",\"dtype\":\"float64\",\"shape\":[75]}}},\"id\":\"739a5d48-98d1-409b-8734-4f00e381253b\",\"type\":\"ColumnDataSource\"},{\"attributes\":{\"line_alpha\":0.1,\"line_color\":\"#1f77b4\",\"line_width\":1.5,\"x\":{\"field\":\"x\"},\"y\":{\"field\":\"y\"}},\"id\":\"47469d1f-f54b-4311-8947-e6188ca1665a\",\"type\":\"Line\"},{\"attributes\":{},\"id\":\"46a804c2-28c6-46d3-aa22-b0561ab10ce8\",\"type\":\"SaveTool\"},{\"attributes\":{},\"id\":\"6d0c27fe-4f77-4a13-83e6-e5db6dee16e6\",\"type\":\"WheelZoomTool\"},{\"attributes\":{},\"id\":\"0ebaec32-1582-487b-a32d-ba1bb51054ff\",\"type\":\"LinearScale\"},{\"attributes\":{\"fill_alpha\":{\"value\":0.7},\"fill_color\":{\"value\":\"#4daf4a\"},\"line_alpha\":{\"value\":0.7},\"line_color\":{\"value\":\"#4daf4a\"},\"x\":{\"field\":\"x\"},\"y\":{\"field\":\"y\"}},\"id\":\"6efd1ada-4b42-4044-b8f6-122318bd7453\",\"type\":\"Circle\"},{\"attributes\":{\"line_color\":\"#4daf4a\",\"line_width\":1.5,\"x\":{\"field\":\"x\"},\"y\":{\"field\":\"y\"}},\"id\":\"bedd2fc4-097b-430f-a416-c07abb699d1a\",\"type\":\"Line\"},{\"attributes\":{\"axis_label\":\"cooling rate [K/day]\",\"formatter\":{\"id\":\"b7b26a13-b882-4506-806d-c7cba3522451\",\"type\":\"BasicTickFormatter\"},\"plot\":{\"id\":\"c8d1b9ce-b197-4e95-8700-87aff8011ae4\",\"subtype\":\"Figure\",\"type\":\"Plot\"},\"ticker\":{\"id\":\"f74f7a46-0652-4f66-813b-20f198d102ac\",\"type\":\"BasicTicker\"}},\"id\":\"7cf49e8d-87fc-4914-9f14-237beaa03f50\",\"type\":\"LinearAxis\"},{\"attributes\":{\"axis_label\":\"pressure [mb]\",\"formatter\":{\"id\":\"f324a22b-75df-48d6-a1a2-f965005e7c9a\",\"type\":\"BasicTickFormatter\"},\"plot\":{\"id\":\"c8d1b9ce-b197-4e95-8700-87aff8011ae4\",\"subtype\":\"Figure\",\"type\":\"Plot\"},\"ticker\":{\"id\":\"793023b0-ee8e-48cc-be13-531f7c1a3060\",\"type\":\"BasicTicker\"}},\"id\":\"44d7e9ba-63b4-42bf-936c-b09584e92bc6\",\"type\":\"LinearAxis\"},{\"attributes\":{\"data_source\":{\"id\":\"9d744e9f-7334-43ca-9396-b41d36eb1734\",\"type\":\"ColumnDataSource\"},\"glyph\":{\"id\":\"bedd2fc4-097b-430f-a416-c07abb699d1a\",\"type\":\"Line\"},\"hover_glyph\":null,\"muted_glyph\":null,\"nonselection_glyph\":{\"id\":\"47469d1f-f54b-4311-8947-e6188ca1665a\",\"type\":\"Line\"},\"selection_glyph\":null,\"view\":{\"id\":\"5a7584b4-0d54-4386-8658-4c357be4d6d3\",\"type\":\"CDSView\"}},\"id\":\"db9eef2b-97d8-45d9-ba47-9cebff541d45\",\"type\":\"GlyphRenderer\"},{\"attributes\":{},\"id\":\"f74f7a46-0652-4f66-813b-20f198d102ac\",\"type\":\"BasicTicker\"},{\"attributes\":{\"plot\":{\"id\":\"c8d1b9ce-b197-4e95-8700-87aff8011ae4\",\"subtype\":\"Figure\",\"type\":\"Plot\"},\"ticker\":{\"id\":\"f74f7a46-0652-4f66-813b-20f198d102ac\",\"type\":\"BasicTicker\"}},\"id\":\"c815a425-7170-4050-8ad5-0a350a4e17d7\",\"type\":\"Grid\"},{\"attributes\":{\"num_minor_ticks\":10},\"id\":\"48c376da-5376-4ff3-8c28-2c15574f1fd5\",\"type\":\"LogTicker\"},{\"attributes\":{},\"id\":\"793023b0-ee8e-48cc-be13-531f7c1a3060\",\"type\":\"BasicTicker\"},{\"attributes\":{\"dimension\":1,\"plot\":{\"id\":\"c8d1b9ce-b197-4e95-8700-87aff8011ae4\",\"subtype\":\"Figure\",\"type\":\"Plot\"},\"ticker\":{\"id\":\"793023b0-ee8e-48cc-be13-531f7c1a3060\",\"type\":\"BasicTicker\"}},\"id\":\"30b1a74a-3a92-472c-a54a-3ddaa338aada\",\"type\":\"Grid\"},{\"attributes\":{\"source\":{\"id\":\"9d744e9f-7334-43ca-9396-b41d36eb1734\",\"type\":\"ColumnDataSource\"}},\"id\":\"5a7584b4-0d54-4386-8658-4c357be4d6d3\",\"type\":\"CDSView\"},{\"attributes\":{},\"id\":\"ba36b19a-f984-4050-9ac4-e68137eae71c\",\"type\":\"PanTool\"},{\"attributes\":{},\"id\":\"dadf63ca-f013-47ae-8a22-5f3b452cd2de\",\"type\":\"LinearScale\"},{\"attributes\":{\"bottom_units\":\"screen\",\"fill_alpha\":{\"value\":0.5},\"fill_color\":{\"value\":\"lightgrey\"},\"left_units\":\"screen\",\"level\":\"overlay\",\"line_alpha\":{\"value\":1.0},\"line_color\":{\"value\":\"black\"},\"line_dash\":[4,4],\"line_width\":{\"value\":2},\"plot\":null,\"render_mode\":\"css\",\"right_units\":\"screen\",\"top_units\":\"screen\"},\"id\":\"7fa3a27b-6002-47c6-ac32-69290e0e5f4a\",\"type\":\"BoxAnnotation\"},{\"attributes\":{},\"id\":\"09230829-f393-4e5f-a49e-a6458a125817\",\"type\":\"HelpTool\"},{\"attributes\":{\"overlay\":{\"id\":\"7fa3a27b-6002-47c6-ac32-69290e0e5f4a\",\"type\":\"BoxAnnotation\"}},\"id\":\"bd57a39c-6d80-41f7-a000-6af4904e5c05\",\"type\":\"BoxZoomTool\"},{\"attributes\":{},\"id\":\"4a2fc0e1-aa14-4d03-9d70-b5497e032eb1\",\"type\":\"ResetTool\"},{\"attributes\":{\"source\":{\"id\":\"05136973-2c05-4d4f-bd2b-95158fd20fa3\",\"type\":\"ColumnDataSource\"}},\"id\":\"9c7bdbe0-cd46-49cd-9612-2cb0c9e6f0f5\",\"type\":\"CDSView\"},{\"attributes\":{\"axis_label\":\"pressure [mb]\",\"formatter\":{\"id\":\"aa637ef4-ed60-4191-8024-936513715350\",\"type\":\"LogTickFormatter\"},\"plot\":{\"id\":\"26dfd47e-4721-4087-b123-43df3fdf1a90\",\"subtype\":\"Figure\",\"type\":\"Plot\"},\"ticker\":{\"id\":\"48c376da-5376-4ff3-8c28-2c15574f1fd5\",\"type\":\"LogTicker\"}},\"id\":\"7a628f1e-7c99-4fb2-8853-6f79fbc4fce9\",\"type\":\"LogAxis\"},{\"attributes\":{\"fill_alpha\":{\"value\":0.7},\"fill_color\":{\"value\":\"#984ea3\"},\"line_alpha\":{\"value\":0.7},\"line_color\":{\"value\":\"#984ea3\"},\"x\":{\"field\":\"x\"},\"y\":{\"field\":\"y\"}},\"id\":\"548a469b-3a71-4e21-bf9c-485ddafc40e3\",\"type\":\"Square\"},{\"attributes\":{\"fill_alpha\":{\"value\":0.1},\"fill_color\":{\"value\":\"#1f77b4\"},\"line_alpha\":{\"value\":0.1},\"line_color\":{\"value\":\"#1f77b4\"},\"x\":{\"field\":\"x\"},\"y\":{\"field\":\"y\"}},\"id\":\"486925c9-ef9d-41d6-aa7b-e72f228b4e25\",\"type\":\"Circle\"},{\"attributes\":{\"line_alpha\":0.6,\"line_color\":\"#984ea3\",\"line_width\":3,\"x\":{\"field\":\"x\"},\"y\":{\"field\":\"y\"}},\"id\":\"fa4277ce-0010-486d-9b80-f5f1b58b7d1d\",\"type\":\"Line\"},{\"attributes\":{\"label\":{\"value\":\"WGT igg=10 wgt_flux=2\"},\"renderers\":[{\"id\":\"6177d9fb-31ce-4c35-b0f6-23cdbc78c69e\",\"type\":\"GlyphRenderer\"},{\"id\":\"dca09b84-18a5-4009-beb7-65ef62f38ac5\",\"type\":\"GlyphRenderer\"}]},\"id\":\"79d819dd-c092-4c23-b7f0-2ffdc5b578b1\",\"type\":\"LegendItem\"},{\"attributes\":{\"callback\":null,\"column_names\":[\"x\",\"y\"],\"data\":{\"x\":{\"__ndarray__\":\"3kRGak4cwb90tdPe+SjBv7eKURn3zcC/CHTkUNiowL8KrRyUD0XAv4o8KKx9z7+/aNUhFrUkv7+23PTC+MS+vyJIMYK+276/JVjBFIoZv78NUaZNrL6/v9+53tMoZsC/mSXozMlNwb96ibFMv8TCv9Nni5T718O/c8F0tXA0wr9Oifv654q7vyxoHf9M17C/Wtm6q4nLkL+0JEq/oCymP2kL3y1W9b0/A3hNQPpDzD/WzBjudfXUP0aHlxIPydI/wZ9MaR68xT8R8+cGAwK4PzMOuxAnB60/4fmEbT2joz+jhtaN7lWeP9T8Xi7VEZk/XX77yBrmkz/8wEsszQaNPwHJPD6WSIY/KmSr5lkLgz/0Z6+mAW98P/WAcaBrzm4/gcD1asGAXj/UQ+grPsFSP+dVSdZ0TEy/Hub41VYUab/EYSdlyTtQv///XXEBAI0/MD1VFmkIpD+0nqNTLD6xP4GEel0zt7c/tLZoglpsuT+2SPubJwm7P51LUEfwVL0/LaahX75pvz+KydlDFHbAPxHpEml2uMA/KXht4w04wD8hnngQM+K+PxDFDY1hLb0/glfLnZlguz8K3uv/d5+5PwoKkFyPJrg/DzJrV1hYtz8S5cHMLWO1PzjuvY0HurI/8NaP0yvzrz/tWt0SAreqP6BQTx+BP6Y/+N0ZEpyfoj+/5aqsf22gP9seivCZZqA/X/S3MhiLoj+g9ba6GNqkPzNZKg/VC6Q/PnowGhMRnz8ggken8JiUPw+KrlfNfYo/nsKPRzedgj8+tnKhPPSAP0UYWCoc/74/\",\"dtype\":\"float64\",\"shape\":[75]},\"y\":{\"__ndarray__\":\"GhExyth1ND/Sv8nbtpRIP2vylNV0PVE/aTum7souWD/At0SJ8fVgPw3Iuahxymc/MSNhhJWvcD/bTfBN02d3P2zb5nxnaoA/CD5h5MAGhz8NmeH1TyaQP+zrCsc9p5Y/LbKd76fGnz/bLW5ISEmmPww9YvTcQq8/JV2OstnstT8Er5Y7M8G+P0c+r3jqkcU/5h99k6ZBzj88bCIzFzjVP4enV8oyxN0//yH99nXg5D8qOpLLf0jtP5kqGJXUifQ/c9cS8kHP/D+/DpwzojQEQIEmwoanVwxA4lgXt9HgE0BSSZ2AJuIbQAMJih9jjiNA5q4l5INuK0AwTKYKRj0zQNv5fmq8/DpAaCJseHrtQkB/+zpwzoxKQM3MzMzMeFJAZmZmZmZqWEAAAAAAAFxeQM3MzMzMJmJAmpmZmZkfZUBmZmZmZhhoQDMzMzMzEWtAAAAAAAAKbkBmZmZmZoFwQM3MzMzM/XFAMzMzMzN6c0CamZmZmfZ0QAAAAAAAc3ZAZmZmZmbvd0DNzMzMzGt5QDMzMzMz6HpAmpmZmZlkfEAAAAAAAOF9QGZmZmZmXX9AZmZmZuZsgECamZmZGSuBQM3MzMxM6YFAAAAAAICngkAzMzMzs2WDQGZmZmbmI4RAmpmZmRnihEDNzMzMTKCFQAAAAACAXoZAMzMzM7Mch0BmZmZm5tqHQJqZmZkZmYhAzczMzExXiUAAAAAAgBWKQDMzMzOz04pAZmZmZuaRi0CamZmZGVCMQM3MzMxMDo1AAAAAAIDMjUAzMzMzs4qOQGZmZmbmSI9A\",\"dtype\":\"float64\",\"shape\":[75]}}},\"id\":\"25d172bd-b918-46ad-b000-82140f6c2ea3\",\"type\":\"ColumnDataSource\"},{\"attributes\":{\"callback\":null,\"end\":0.01,\"start\":1020},\"id\":\"d810f4ca-918a-4b65-b278-576388d7ec68\",\"type\":\"Range1d\"},{\"attributes\":{\"line_alpha\":0.1,\"line_color\":\"#1f77b4\",\"line_dash\":[6],\"line_width\":5,\"x\":{\"field\":\"x\"},\"y\":{\"field\":\"y\"}},\"id\":\"92123aaa-6f6f-4574-b0e7-2671f7d9e8a1\",\"type\":\"Line\"},{\"attributes\":{\"source\":{\"id\":\"85173ef2-3627-4d6d-b607-2844a1837ee6\",\"type\":\"ColumnDataSource\"}},\"id\":\"42ca0149-f0a4-4207-8566-dc45cd44d0d6\",\"type\":\"CDSView\"},{\"attributes\":{\"data_source\":{\"id\":\"25d172bd-b918-46ad-b000-82140f6c2ea3\",\"type\":\"ColumnDataSource\"},\"glyph\":{\"id\":\"e4b304ab-283d-4124-ae58-24582b4e9643\",\"type\":\"Line\"},\"hover_glyph\":null,\"muted_glyph\":null,\"nonselection_glyph\":{\"id\":\"f82ddc93-288c-469f-a490-f5b8e5bd598e\",\"type\":\"Line\"},\"selection_glyph\":null,\"view\":{\"id\":\"e72f0363-13f6-4f82-97c1-9f6ec32da259\",\"type\":\"CDSView\"}},\"id\":\"c0abfc3f-3a84-4a41-86e6-94248f648c9d\",\"type\":\"GlyphRenderer\"},{\"attributes\":{\"fill_alpha\":{\"value\":0.1},\"fill_color\":{\"value\":\"#1f77b4\"},\"line_alpha\":{\"value\":0.1},\"line_color\":{\"value\":\"#1f77b4\"},\"x\":{\"field\":\"x\"},\"y\":{\"field\":\"y\"}},\"id\":\"76d4d8fd-aaee-4a33-a49f-26b57af0fbd0\",\"type\":\"Circle\"},{\"attributes\":{\"fill_alpha\":{\"value\":0.7},\"fill_color\":{\"value\":\"#4daf4a\"},\"line_alpha\":{\"value\":0.7},\"line_color\":{\"value\":\"#4daf4a\"},\"x\":{\"field\":\"x\"},\"y\":{\"field\":\"y\"}},\"id\":\"d82dfec0-d675-4aac-b1fd-ab8c18d8e0a9\",\"type\":\"Circle\"},{\"attributes\":{\"children\":[{\"id\":\"c8d1b9ce-b197-4e95-8700-87aff8011ae4\",\"subtype\":\"Figure\",\"type\":\"Plot\"},{\"id\":\"26dfd47e-4721-4087-b123-43df3fdf1a90\",\"subtype\":\"Figure\",\"type\":\"Plot\"}]},\"id\":\"258ca8fb-5491-411d-958d-7b15d5102c7c\",\"type\":\"Row\"},{\"attributes\":{\"callback\":null,\"column_names\":[\"x\",\"y\"],\"data\":{\"x\":{\"__ndarray__\":\"AAAAAAAAAAAAAAAAAAAAAAAAAAAAAAAAAAAAAAAAAAAAAAAAAAAAAAAAAAAAAAAAAAAAAAAAAAAAAAAAAAAAAAAAAAAAAAAAAAAAAAAAAAAAAAAAAAAAAAAAAAAAAAAAAAAAAAAAAAAAAAAAAAAAAAAAAAAAAAAAAAAAAAAAAAAAAAAAAAAAAAAAAAAAAAAAAAAAAAAAAAAAAAAAAAAAAAAAAAAAAAAAAAAAAAAAAAAAAAAAAAAAAAAAAAAAAAAAAAAAAAAAAAAAAAAAAAAAAAAAAAAAAAAAAAAAAAAAAAAAAAAAAAAAAAAAAAAAAAAAAAAAAAAAAAAAAAAAAAAAAAAAAAAAAAAAAAAAAAAAAAAAAAAAAAAAAAAAAAAAAAAAAAAAAAAAAAAAAAAAAAAAAAAAAAAAAAAAAAAAAAAAAAAAAAAAAAAAAAAAAAAAAAAAAAAAAAAAAAAAAAAAAAAAAAAAAAAAAAAAAAAAAAAAAAAAAAAAAAAAAAAAAAAAAAAAAAAAAAAAAAAAAAAAAAAAAAAAAAAAAAAAAAAAAAAAAAAAAAAAAAAAAAAAAAAAAAAAAAAAAAAAAAAAAAAAAAAAAAAAAAAAAAAAAAAAAAAAAAAAAAAAAAAAAAAAAAAAAAAAAAAAAAAAAAAAAAAAAAAAAAAAAAAAAAAAAAAAAAAAAAAAAAAAAAAAAAAAAAAAAAAAAAAAAAAAAAAAAAAAAAAAAAAAAAAAAAAAAAAAAAAAAAAAAAAAAAAAAAAAAAAAAAAAAAAAAAAAAAAAAAAAAAAAAAAAAAAAAAAA\",\"dtype\":\"float64\",\"shape\":[75]},\"y\":{\"__ndarray__\":\"S/O/Q+51ND/430zAtpRIP2vylNV0PVE/QxsjCssuWD/TR4Z78fVgP+inNsRxymc/OuuBfZWvcD/u3TFA02d3P2d3VoBnaoA/CD5h5MAGhz/1pA8HUCaQP+zrCsc9p5Y/Fb7LAKjGnz/nJ9c/SEmmPwBD+fzcQq8/FOZwv9nstT8Er5Y7M8G+P0c+r3jqkcU/yK72qKZBzj+tM989FzjVPxbgmr8yxN0/cOm5AXbg5D+5ctXAf0jtP5kqGJXUifQ/DsrqDELP/D8MCAhBojQEQDItVnmnVwxAiFXNvdHgE0BSSZ2AJuIbQAMJih9jjiNA5q4l5INuK0CPVN/5RT0zQHzxRXu8/DpAOZ7PgHrtQkAg8wGBzoxKQBSTN8DMeFJA2NmQf2ZqWEAAAAAAAFxeQEQX1LfMJmJAmpmZmZkfZUBmZmZmZhhoQLzoK0gzEWtAAAAAAAAKbkCiC+pbZoFwQAhyUMLM/XFA+I2vPTN6c0AQ5KCEmfZ0QAAAAAAAc3ZA8Btfe2bvd0AIclDCzGt5QPeNrz0z6HpAEOSghJlkfEAAAAAAAOF9QKML6ltmXX9ABTkoYeZsgED7xteeGSuBQAhyUMJM6YFAAAAAAICngkD4ja89s2WDQAU5KGHmI4RA+8bXnhnihEAIclDCTKCFQAAAAACAXoZA+I2vPbMch0AFOShh5tqHQPvG154ZmYhACHJQwkxXiUAAAAAAgBWKQPeNrz2z04pABTkoYeaRi0D7xteeGVCMQAlyUMJMDo1AAAAAAIDMjUD3ja89s4qOQGZmZmbmSI9A\",\"dtype\":\"float64\",\"shape\":[75]}}},\"id\":\"02fcc8b6-9b24-47e9-80fd-17dfcaaf81c7\",\"type\":\"ColumnDataSource\"},{\"attributes\":{\"overlay\":{\"id\":\"ade98dc9-c331-4aa1-9ca9-fdcbe359a33e\",\"type\":\"BoxAnnotation\"}},\"id\":\"0263ec30-02dd-420d-a576-44fe154d62a3\",\"type\":\"BoxZoomTool\"},{\"attributes\":{},\"id\":\"5736c434-773a-4392-8f76-92b04f13dc5c\",\"type\":\"BasicTicker\"},{\"attributes\":{\"ticker\":null},\"id\":\"aa637ef4-ed60-4191-8024-936513715350\",\"type\":\"LogTickFormatter\"},{\"attributes\":{},\"id\":\"b12280c7-142d-4dad-8d0e-a8074a806e54\",\"type\":\"ResetTool\"},{\"attributes\":{\"label\":{\"value\":\"CRD\"},\"renderers\":[{\"id\":\"0f08e212-b7fa-4f05-bdd6-5e4527f76aff\",\"type\":\"GlyphRenderer\"},{\"id\":\"c0abfc3f-3a84-4a41-86e6-94248f648c9d\",\"type\":\"GlyphRenderer\"}]},\"id\":\"39a448f8-3753-4d0b-a99e-76a39b97c3c4\",\"type\":\"LegendItem\"},{\"attributes\":{\"callback\":null,\"column_names\":[\"x\",\"y\"],\"data\":{\"x\":{\"__ndarray__\":\"eUcEscxiw7+uocoL3ELDv1xmxM8u8cK/NehbWo6iwr/qyD/msmTCv0JhnTMdG8K/Ui57pV71wb9ZZa6YC9PBv1gyLRCXrcG/Gve/FYWGwb9ez4HpHZrBv4t4sjx48MG/NQdxyXyWwr8q6TkLP4XDvyFVTKIl9sO/STasfIkqwr9e6cMGKo67v48u+/Rn7bC/e0kmNLhckL+DKF0Imo2nP7DvliAGxr4/Qu8h0z+ozD+fxXAX4MbUP+eA275MedI/lhEluSNsxT8Sg8J/mcy4P+OkxzmDja8/KXFae/jcpT8TM6EvI5mgP3nAQVVcfpo/uquxOlBklj/22GAfvDyRP77gzWsyF4s/6LAMicDRhj+N6kKdiryAP+OrDd0G4nA/dR9dGnb6UT+36NFl+sA/P7Mqb6Zvp1C/Md6Xt2gdab9CootrTyMwv8o1WYCKaZM/jXhWItBwqT9Ia1AYSKivPwH9u4tfVbE/fl0jJHu6tD/Ddc9D3A25P9COhPg5m70/yHVTHRemvT9sZtoWZjq/P0Jt3o86FsA/EcRz+CSAwD8XGP2NiinAP1bHZ4tyhME/qz4/hIkwvj8y0HD/ICy8P1yoIPdH3Lk/sBpvTCIAuD+tus8AXhG1P9fBRjikA7I/4tx8RjY+rz9aI3/e/ZeqP4CnE3dMLqU/e0Kioalioj//R3s3a3CgP8y3ftWXcaA/G4Fm2a+Loj8cAmgg4XykP+Zzzj44aqM/wvjz32JrnT9hTzoQRSOTP9lPFUbA/oY/1AGoB14Gfj+WpkVKQY57P52fNmSYtL4/\",\"dtype\":\"float64\",\"shape\":[75]},\"y\":{\"__ndarray__\":\"GhExyth1ND/Sv8nbtpRIP2vylNV0PVE/aTum7souWD/At0SJ8fVgPw3Iuahxymc/MSNhhJWvcD/bTfBN02d3P2zb5nxnaoA/CD5h5MAGhz8NmeH1TyaQP+zrCsc9p5Y/LbKd76fGnz/bLW5ISEmmPww9YvTcQq8/JV2OstnstT8Er5Y7M8G+P0c+r3jqkcU/5h99k6ZBzj88bCIzFzjVP4enV8oyxN0//yH99nXg5D8qOpLLf0jtP5kqGJXUifQ/c9cS8kHP/D+/DpwzojQEQIEmwoanVwxA4lgXt9HgE0BSSZ2AJuIbQAMJih9jjiNA5q4l5INuK0AwTKYKRj0zQNv5fmq8/DpAaCJseHrtQkB/+zpwzoxKQM3MzMzMeFJAZmZmZmZqWEAAAAAAAFxeQM3MzMzMJmJAmpmZmZkfZUBmZmZmZhhoQDMzMzMzEWtAAAAAAAAKbkBmZmZmZoFwQM3MzMzM/XFAMzMzMzN6c0CamZmZmfZ0QAAAAAAAc3ZAZmZmZmbvd0DNzMzMzGt5QDMzMzMz6HpAmpmZmZlkfEAAAAAAAOF9QGZmZmZmXX9AZmZmZuZsgECamZmZGSuBQM3MzMxM6YFAAAAAAICngkAzMzMzs2WDQGZmZmbmI4RAmpmZmRnihEDNzMzMTKCFQAAAAACAXoZAMzMzM7Mch0BmZmZm5tqHQJqZmZkZmYhAzczMzExXiUAAAAAAgBWKQDMzMzOz04pAZmZmZuaRi0CamZmZGVCMQM3MzMxMDo1AAAAAAIDMjUAzMzMzs4qOQGZmZmbmSI9A\",\"dtype\":\"float64\",\"shape\":[75]}}},\"id\":\"3b5377f7-d07e-440c-b0db-c1b254b19f41\",\"type\":\"ColumnDataSource\"},{\"attributes\":{\"active_drag\":\"auto\",\"active_inspect\":\"auto\",\"active_scroll\":\"auto\",\"active_tap\":\"auto\",\"tools\":[{\"id\":\"ba36b19a-f984-4050-9ac4-e68137eae71c\",\"type\":\"PanTool\"},{\"id\":\"6d0c27fe-4f77-4a13-83e6-e5db6dee16e6\",\"type\":\"WheelZoomTool\"},{\"id\":\"bd57a39c-6d80-41f7-a000-6af4904e5c05\",\"type\":\"BoxZoomTool\"},{\"id\":\"46a804c2-28c6-46d3-aa22-b0561ab10ce8\",\"type\":\"SaveTool\"},{\"id\":\"4a2fc0e1-aa14-4d03-9d70-b5497e032eb1\",\"type\":\"ResetTool\"},{\"id\":\"09230829-f393-4e5f-a49e-a6458a125817\",\"type\":\"HelpTool\"}]},\"id\":\"55da3be3-e938-4065-ac36-acb076cdfa66\",\"type\":\"Toolbar\"},{\"attributes\":{\"callback\":null,\"end\":0.01,\"start\":1020},\"id\":\"41132bd4-c1a4-4636-8e3e-4e0e09865be0\",\"type\":\"Range1d\"},{\"attributes\":{\"data_source\":{\"id\":\"85173ef2-3627-4d6d-b607-2844a1837ee6\",\"type\":\"ColumnDataSource\"},\"glyph\":{\"id\":\"d82dfec0-d675-4aac-b1fd-ab8c18d8e0a9\",\"type\":\"Circle\"},\"hover_glyph\":null,\"muted_glyph\":null,\"nonselection_glyph\":{\"id\":\"76d4d8fd-aaee-4a33-a49f-26b57af0fbd0\",\"type\":\"Circle\"},\"selection_glyph\":null,\"view\":{\"id\":\"42ca0149-f0a4-4207-8566-dc45cd44d0d6\",\"type\":\"CDSView\"}},\"id\":\"0f08e212-b7fa-4f05-bdd6-5e4527f76aff\",\"type\":\"GlyphRenderer\"},{\"attributes\":{\"callback\":null,\"column_names\":[\"x\",\"y\"],\"data\":{\"x\":{\"__ndarray__\":\"3kRGak4cwb90tdPe+SjBv7eKURn3zcC/CHTkUNiowL8KrRyUD0XAv4o8KKx9z7+/aNUhFrUkv7+23PTC+MS+vyJIMYK+276/JVjBFIoZv78NUaZNrL6/v9+53tMoZsC/mSXozMlNwb96ibFMv8TCv9Nni5T718O/c8F0tXA0wr9Oifv654q7vyxoHf9M17C/Wtm6q4nLkL+0JEq/oCymP2kL3y1W9b0/A3hNQPpDzD/WzBjudfXUP0aHlxIPydI/wZ9MaR68xT8R8+cGAwK4PzMOuxAnB60/4fmEbT2joz+jhtaN7lWeP9T8Xi7VEZk/XX77yBrmkz/8wEsszQaNPwHJPD6WSIY/KmSr5lkLgz/0Z6+mAW98P/WAcaBrzm4/gcD1asGAXj/UQ+grPsFSP+dVSdZ0TEy/Hub41VYUab/EYSdlyTtQv///XXEBAI0/MD1VFmkIpD+0nqNTLD6xP4GEel0zt7c/tLZoglpsuT+2SPubJwm7P51LUEfwVL0/LaahX75pvz+KydlDFHbAPxHpEml2uMA/KXht4w04wD8hnngQM+K+PxDFDY1hLb0/glfLnZlguz8K3uv/d5+5PwoKkFyPJrg/DzJrV1hYtz8S5cHMLWO1PzjuvY0HurI/8NaP0yvzrz/tWt0SAreqP6BQTx+BP6Y/+N0ZEpyfoj+/5aqsf22gP9seivCZZqA/X/S3MhiLoj+g9ba6GNqkPzNZKg/VC6Q/PnowGhMRnz8ggken8JiUPw+KrlfNfYo/nsKPRzedgj8+tnKhPPSAP0UYWCoc/74/\",\"dtype\":\"float64\",\"shape\":[75]},\"y\":{\"__ndarray__\":\"GhExyth1ND/Sv8nbtpRIP2vylNV0PVE/aTum7souWD/At0SJ8fVgPw3Iuahxymc/MSNhhJWvcD/bTfBN02d3P2zb5nxnaoA/CD5h5MAGhz8NmeH1TyaQP+zrCsc9p5Y/LbKd76fGnz/bLW5ISEmmPww9YvTcQq8/JV2OstnstT8Er5Y7M8G+P0c+r3jqkcU/5h99k6ZBzj88bCIzFzjVP4enV8oyxN0//yH99nXg5D8qOpLLf0jtP5kqGJXUifQ/c9cS8kHP/D+/DpwzojQEQIEmwoanVwxA4lgXt9HgE0BSSZ2AJuIbQAMJih9jjiNA5q4l5INuK0AwTKYKRj0zQNv5fmq8/DpAaCJseHrtQkB/+zpwzoxKQM3MzMzMeFJAZmZmZmZqWEAAAAAAAFxeQM3MzMzMJmJAmpmZmZkfZUBmZmZmZhhoQDMzMzMzEWtAAAAAAAAKbkBmZmZmZoFwQM3MzMzM/XFAMzMzMzN6c0CamZmZmfZ0QAAAAAAAc3ZAZmZmZmbvd0DNzMzMzGt5QDMzMzMz6HpAmpmZmZlkfEAAAAAAAOF9QGZmZmZmXX9AZmZmZuZsgECamZmZGSuBQM3MzMxM6YFAAAAAAICngkAzMzMzs2WDQGZmZmbmI4RAmpmZmRnihEDNzMzMTKCFQAAAAACAXoZAMzMzM7Mch0BmZmZm5tqHQJqZmZkZmYhAzczMzExXiUAAAAAAgBWKQDMzMzOz04pAZmZmZuaRi0CamZmZGVCMQM3MzMxMDo1AAAAAAIDMjUAzMzMzs4qOQGZmZmbmSI9A\",\"dtype\":\"float64\",\"shape\":[75]}}},\"id\":\"05136973-2c05-4d4f-bd2b-95158fd20fa3\",\"type\":\"ColumnDataSource\"},{\"attributes\":{\"axis_label\":\"cooling rate [K/day]\",\"formatter\":{\"id\":\"6bfe24e9-1c7e-479d-9b98-e22db4605b34\",\"type\":\"BasicTickFormatter\"},\"plot\":{\"id\":\"26dfd47e-4721-4087-b123-43df3fdf1a90\",\"subtype\":\"Figure\",\"type\":\"Plot\"},\"ticker\":{\"id\":\"5736c434-773a-4392-8f76-92b04f13dc5c\",\"type\":\"BasicTicker\"}},\"id\":\"69b56fd5-75c9-4898-a555-8241d654f21f\",\"type\":\"LinearAxis\"},{\"attributes\":{\"line_color\":\"#4daf4a\",\"line_width\":1.5,\"x\":{\"field\":\"x\"},\"y\":{\"field\":\"y\"}},\"id\":\"e4b304ab-283d-4124-ae58-24582b4e9643\",\"type\":\"Line\"},{\"attributes\":{\"line_alpha\":0.1,\"line_color\":\"#1f77b4\",\"line_width\":1.5,\"x\":{\"field\":\"x\"},\"y\":{\"field\":\"y\"}},\"id\":\"f82ddc93-288c-469f-a490-f5b8e5bd598e\",\"type\":\"Line\"},{\"attributes\":{\"callback\":null,\"column_names\":[\"x\",\"y\"],\"data\":{\"x\":{\"__ndarray__\":\"eUcEscxiw7+uocoL3ELDv1xmxM8u8cK/NehbWo6iwr/qyD/msmTCv0JhnTMdG8K/Ui57pV71wb9ZZa6YC9PBv1gyLRCXrcG/Gve/FYWGwb9ez4HpHZrBv4t4sjx48MG/NQdxyXyWwr8q6TkLP4XDvyFVTKIl9sO/STasfIkqwr9e6cMGKo67v48u+/Rn7bC/e0kmNLhckL+DKF0Imo2nP7DvliAGxr4/Qu8h0z+ozD+fxXAX4MbUP+eA275MedI/lhEluSNsxT8Sg8J/mcy4P+OkxzmDja8/KXFae/jcpT8TM6EvI5mgP3nAQVVcfpo/uquxOlBklj/22GAfvDyRP77gzWsyF4s/6LAMicDRhj+N6kKdiryAP+OrDd0G4nA/dR9dGnb6UT+36NFl+sA/P7Mqb6Zvp1C/Md6Xt2gdab9CootrTyMwv8o1WYCKaZM/jXhWItBwqT9Ia1AYSKivPwH9u4tfVbE/fl0jJHu6tD/Ddc9D3A25P9COhPg5m70/yHVTHRemvT9sZtoWZjq/P0Jt3o86FsA/EcRz+CSAwD8XGP2NiinAP1bHZ4tyhME/qz4/hIkwvj8y0HD/ICy8P1yoIPdH3Lk/sBpvTCIAuD+tus8AXhG1P9fBRjikA7I/4tx8RjY+rz9aI3/e/ZeqP4CnE3dMLqU/e0Kioalioj//R3s3a3CgP8y3ftWXcaA/G4Fm2a+Loj8cAmgg4XykP+Zzzj44aqM/wvjz32JrnT9hTzoQRSOTP9lPFUbA/oY/1AGoB14Gfj+WpkVKQY57P52fNmSYtL4/\",\"dtype\":\"float64\",\"shape\":[75]},\"y\":{\"__ndarray__\":\"GhExyth1ND/Sv8nbtpRIP2vylNV0PVE/aTum7souWD/At0SJ8fVgPw3Iuahxymc/MSNhhJWvcD/bTfBN02d3P2zb5nxnaoA/CD5h5MAGhz8NmeH1TyaQP+zrCsc9p5Y/LbKd76fGnz/bLW5ISEmmPww9YvTcQq8/JV2OstnstT8Er5Y7M8G+P0c+r3jqkcU/5h99k6ZBzj88bCIzFzjVP4enV8oyxN0//yH99nXg5D8qOpLLf0jtP5kqGJXUifQ/c9cS8kHP/D+/DpwzojQEQIEmwoanVwxA4lgXt9HgE0BSSZ2AJuIbQAMJih9jjiNA5q4l5INuK0AwTKYKRj0zQNv5fmq8/DpAaCJseHrtQkB/+zpwzoxKQM3MzMzMeFJAZmZmZmZqWEAAAAAAAFxeQM3MzMzMJmJAmpmZmZkfZUBmZmZmZhhoQDMzMzMzEWtAAAAAAAAKbkBmZmZmZoFwQM3MzMzM/XFAMzMzMzN6c0CamZmZmfZ0QAAAAAAAc3ZAZmZmZmbvd0DNzMzMzGt5QDMzMzMz6HpAmpmZmZlkfEAAAAAAAOF9QGZmZmZmXX9AZmZmZuZsgECamZmZGSuBQM3MzMxM6YFAAAAAAICngkAzMzMzs2WDQGZmZmbmI4RAmpmZmRnihEDNzMzMTKCFQAAAAACAXoZAMzMzM7Mch0BmZmZm5tqHQJqZmZkZmYhAzczMzExXiUAAAAAAgBWKQDMzMzOz04pAZmZmZuaRi0CamZmZGVCMQM3MzMxMDo1AAAAAAIDMjUAzMzMzs4qOQGZmZmbmSI9A\",\"dtype\":\"float64\",\"shape\":[75]}}},\"id\":\"27456e31-560c-41e6-a78c-4bbfd2da2ab5\",\"type\":\"ColumnDataSource\"},{\"attributes\":{\"line_alpha\":0.6,\"line_color\":\"#984ea3\",\"line_width\":3,\"x\":{\"field\":\"x\"},\"y\":{\"field\":\"y\"}},\"id\":\"48ddebf6-279d-4849-9773-c190569304c3\",\"type\":\"Line\"},{\"attributes\":{},\"id\":\"92f375ea-df19-430b-ab80-0adc958e7735\",\"type\":\"WheelZoomTool\"},{\"attributes\":{\"source\":{\"id\":\"25d172bd-b918-46ad-b000-82140f6c2ea3\",\"type\":\"ColumnDataSource\"}},\"id\":\"e72f0363-13f6-4f82-97c1-9f6ec32da259\",\"type\":\"CDSView\"},{\"attributes\":{\"line_alpha\":0.6,\"line_color\":\"#e41a1c\",\"line_dash\":[6],\"line_width\":5,\"x\":{\"field\":\"x\"},\"y\":{\"field\":\"y\"}},\"id\":\"a50cb46f-ee41-4602-99e3-37033a825565\",\"type\":\"Line\"},{\"attributes\":{\"fill_alpha\":{\"value\":0.7},\"fill_color\":{\"value\":\"#984ea3\"},\"line_alpha\":{\"value\":0.7},\"line_color\":{\"value\":\"#984ea3\"},\"x\":{\"field\":\"x\"},\"y\":{\"field\":\"y\"}},\"id\":\"251a887c-9514-494e-bddd-1b0490bf2ecd\",\"type\":\"Square\"},{\"attributes\":{},\"id\":\"20c33437-a6a5-463a-a0f6-f62ef823df59\",\"type\":\"PanTool\"},{\"attributes\":{\"source\":{\"id\":\"3b5377f7-d07e-440c-b0db-c1b254b19f41\",\"type\":\"ColumnDataSource\"}},\"id\":\"29157976-a46e-4957-b040-b4bcb9624a0d\",\"type\":\"CDSView\"},{\"attributes\":{\"plot\":{\"id\":\"26dfd47e-4721-4087-b123-43df3fdf1a90\",\"subtype\":\"Figure\",\"type\":\"Plot\"},\"ticker\":{\"id\":\"5736c434-773a-4392-8f76-92b04f13dc5c\",\"type\":\"BasicTicker\"}},\"id\":\"28ea905d-2f10-46fc-96ad-93af147c2d9c\",\"type\":\"Grid\"},{\"attributes\":{\"callback\":null,\"end\":0.3323160404053844,\"start\":-0.1607836209438244},\"id\":\"a1d41ff6-f1da-4cda-8cb4-982711019ef3\",\"type\":\"Range1d\"},{\"attributes\":{},\"id\":\"b5afd5dd-a7c6-4426-abca-9e2714ea4b16\",\"type\":\"HelpTool\"},{\"attributes\":{\"plot\":null,\"text\":\"Linear pressure scale\"},\"id\":\"68d3b112-0f45-4b28-9737-3158c613a2f2\",\"type\":\"Title\"},{\"attributes\":{\"items\":[{\"id\":\"f9c9e2d5-011b-4ba4-a018-dc60189f6dec\",\"type\":\"LegendItem\"},{\"id\":\"39a448f8-3753-4d0b-a99e-76a39b97c3c4\",\"type\":\"LegendItem\"},{\"id\":\"79d819dd-c092-4c23-b7f0-2ffdc5b578b1\",\"type\":\"LegendItem\"}],\"label_text_font_size\":{\"value\":\"8pt\"},\"location\":[10,-30],\"plot\":{\"id\":\"26dfd47e-4721-4087-b123-43df3fdf1a90\",\"subtype\":\"Figure\",\"type\":\"Plot\"}},\"id\":\"d6b4c205-ec8b-46dc-a327-97bfd89d0e94\",\"type\":\"Legend\"},{\"attributes\":{\"fill_alpha\":{\"value\":0.1},\"fill_color\":{\"value\":\"#1f77b4\"},\"line_alpha\":{\"value\":0.1},\"line_color\":{\"value\":\"#1f77b4\"},\"x\":{\"field\":\"x\"},\"y\":{\"field\":\"y\"}},\"id\":\"221b1448-5250-47c7-b448-c6a260e473ac\",\"type\":\"Square\"},{\"attributes\":{\"dimension\":1,\"plot\":{\"id\":\"26dfd47e-4721-4087-b123-43df3fdf1a90\",\"subtype\":\"Figure\",\"type\":\"Plot\"},\"ticker\":{\"id\":\"48c376da-5376-4ff3-8c28-2c15574f1fd5\",\"type\":\"LogTicker\"}},\"id\":\"2372a88e-576f-4020-bbc4-390d70a997e7\",\"type\":\"Grid\"},{\"attributes\":{\"data_source\":{\"id\":\"3b5377f7-d07e-440c-b0db-c1b254b19f41\",\"type\":\"ColumnDataSource\"},\"glyph\":{\"id\":\"251a887c-9514-494e-bddd-1b0490bf2ecd\",\"type\":\"Square\"},\"hover_glyph\":null,\"muted_glyph\":null,\"nonselection_glyph\":{\"id\":\"221b1448-5250-47c7-b448-c6a260e473ac\",\"type\":\"Square\"},\"selection_glyph\":null,\"view\":{\"id\":\"29157976-a46e-4957-b040-b4bcb9624a0d\",\"type\":\"CDSView\"}},\"id\":\"6177d9fb-31ce-4c35-b0f6-23cdbc78c69e\",\"type\":\"GlyphRenderer\"},{\"attributes\":{\"source\":{\"id\":\"27456e31-560c-41e6-a78c-4bbfd2da2ab5\",\"type\":\"ColumnDataSource\"}},\"id\":\"fa9adfe8-9f09-4bcb-b620-5b43bcda9aa0\",\"type\":\"CDSView\"},{\"attributes\":{},\"id\":\"7826d8da-1029-4fae-8137-41e5f4572938\",\"type\":\"LogScale\"},{\"attributes\":{\"line_alpha\":0.1,\"line_color\":\"#1f77b4\",\"line_width\":3,\"x\":{\"field\":\"x\"},\"y\":{\"field\":\"y\"}},\"id\":\"82a03cec-9e39-40f4-b7a5-375b5b096494\",\"type\":\"Line\"},{\"attributes\":{\"data_source\":{\"id\":\"02fcc8b6-9b24-47e9-80fd-17dfcaaf81c7\",\"type\":\"ColumnDataSource\"},\"glyph\":{\"id\":\"a50cb46f-ee41-4602-99e3-37033a825565\",\"type\":\"Line\"},\"hover_glyph\":null,\"muted_glyph\":null,\"nonselection_glyph\":{\"id\":\"6b13cf70-8722-451a-b689-3c8e422ed480\",\"type\":\"Line\"},\"selection_glyph\":null,\"view\":{\"id\":\"45c66b65-e032-4a2f-8da3-77efde4351a9\",\"type\":\"CDSView\"}},\"id\":\"bfe585e6-9641-4a39-a8a2-af0de6563304\",\"type\":\"GlyphRenderer\"},{\"attributes\":{\"line_alpha\":0.1,\"line_color\":\"#1f77b4\",\"line_width\":3,\"x\":{\"field\":\"x\"},\"y\":{\"field\":\"y\"}},\"id\":\"45579f3c-5f11-4d4f-8e11-d6366b51e3dd\",\"type\":\"Line\"},{\"attributes\":{\"data_source\":{\"id\":\"27456e31-560c-41e6-a78c-4bbfd2da2ab5\",\"type\":\"ColumnDataSource\"},\"glyph\":{\"id\":\"48ddebf6-279d-4849-9773-c190569304c3\",\"type\":\"Line\"},\"hover_glyph\":null,\"muted_glyph\":null,\"nonselection_glyph\":{\"id\":\"45579f3c-5f11-4d4f-8e11-d6366b51e3dd\",\"type\":\"Line\"},\"selection_glyph\":null,\"view\":{\"id\":\"fa9adfe8-9f09-4bcb-b620-5b43bcda9aa0\",\"type\":\"CDSView\"}},\"id\":\"dca09b84-18a5-4009-beb7-65ef62f38ac5\",\"type\":\"GlyphRenderer\"},{\"attributes\":{\"children\":[{\"id\":\"0e93df71-26b8-4c32-81a3-0043f810773f\",\"type\":\"ToolbarBox\"},{\"id\":\"4a6a23bc-4a4a-477a-aa91-12d2ea5d22b7\",\"type\":\"Column\"}]},\"id\":\"28f1e2ba-6db6-4b56-99e6-d93c64045217\",\"type\":\"Column\"},{\"attributes\":{\"source\":{\"id\":\"af15327b-00d8-481b-988c-88d638fb73ca\",\"type\":\"ColumnDataSource\"}},\"id\":\"f24adfb9-1951-447c-9e74-fb78af055669\",\"type\":\"CDSView\"},{\"attributes\":{\"active_drag\":\"auto\",\"active_inspect\":\"auto\",\"active_scroll\":\"auto\",\"active_tap\":\"auto\",\"tools\":[{\"id\":\"20c33437-a6a5-463a-a0f6-f62ef823df59\",\"type\":\"PanTool\"},{\"id\":\"92f375ea-df19-430b-ab80-0adc958e7735\",\"type\":\"WheelZoomTool\"},{\"id\":\"0263ec30-02dd-420d-a576-44fe154d62a3\",\"type\":\"BoxZoomTool\"},{\"id\":\"e2624f06-cd01-4efb-a868-ff074fe52ad1\",\"type\":\"SaveTool\"},{\"id\":\"b12280c7-142d-4dad-8d0e-a8074a806e54\",\"type\":\"ResetTool\"},{\"id\":\"b5afd5dd-a7c6-4426-abca-9e2714ea4b16\",\"type\":\"HelpTool\"}]},\"id\":\"8646e72b-4275-43f0-818a-1b53024cbeed\",\"type\":\"Toolbar\"},{\"attributes\":{\"source\":{\"id\":\"739a5d48-98d1-409b-8734-4f00e381253b\",\"type\":\"ColumnDataSource\"}},\"id\":\"62c4f3c8-a3f7-4fc0-a4de-61af193bce54\",\"type\":\"CDSView\"},{\"attributes\":{},\"id\":\"b7b26a13-b882-4506-806d-c7cba3522451\",\"type\":\"BasicTickFormatter\"},{\"attributes\":{\"callback\":null,\"column_names\":[\"x\",\"y\"],\"data\":{\"x\":{\"__ndarray__\":\"eUcEscxiw7+uocoL3ELDv1xmxM8u8cK/NehbWo6iwr/qyD/msmTCv0JhnTMdG8K/Ui57pV71wb9ZZa6YC9PBv1gyLRCXrcG/Gve/FYWGwb9ez4HpHZrBv4t4sjx48MG/NQdxyXyWwr8q6TkLP4XDvyFVTKIl9sO/STasfIkqwr9e6cMGKo67v48u+/Rn7bC/e0kmNLhckL+DKF0Imo2nP7DvliAGxr4/Qu8h0z+ozD+fxXAX4MbUP+eA275MedI/lhEluSNsxT8Sg8J/mcy4P+OkxzmDja8/KXFae/jcpT8TM6EvI5mgP3nAQVVcfpo/uquxOlBklj/22GAfvDyRP77gzWsyF4s/6LAMicDRhj+N6kKdiryAP+OrDd0G4nA/dR9dGnb6UT+36NFl+sA/P7Mqb6Zvp1C/Md6Xt2gdab9CootrTyMwv8o1WYCKaZM/jXhWItBwqT9Ia1AYSKivPwH9u4tfVbE/fl0jJHu6tD/Ddc9D3A25P9COhPg5m70/yHVTHRemvT9sZtoWZjq/P0Jt3o86FsA/EcRz+CSAwD8XGP2NiinAP1bHZ4tyhME/qz4/hIkwvj8y0HD/ICy8P1yoIPdH3Lk/sBpvTCIAuD+tus8AXhG1P9fBRjikA7I/4tx8RjY+rz9aI3/e/ZeqP4CnE3dMLqU/e0Kioalioj//R3s3a3CgP8y3ftWXcaA/G4Fm2a+Loj8cAmgg4XykP+Zzzj44aqM/wvjz32JrnT9hTzoQRSOTP9lPFUbA/oY/1AGoB14Gfj+WpkVKQY57P52fNmSYtL4/\",\"dtype\":\"float64\",\"shape\":[75]},\"y\":{\"__ndarray__\":\"GhExyth1ND/Sv8nbtpRIP2vylNV0PVE/aTum7souWD/At0SJ8fVgPw3Iuahxymc/MSNhhJWvcD/bTfBN02d3P2zb5nxnaoA/CD5h5MAGhz8NmeH1TyaQP+zrCsc9p5Y/LbKd76fGnz/bLW5ISEmmPww9YvTcQq8/JV2OstnstT8Er5Y7M8G+P0c+r3jqkcU/5h99k6ZBzj88bCIzFzjVP4enV8oyxN0//yH99nXg5D8qOpLLf0jtP5kqGJXUifQ/c9cS8kHP/D+/DpwzojQEQIEmwoanVwxA4lgXt9HgE0BSSZ2AJuIbQAMJih9jjiNA5q4l5INuK0AwTKYKRj0zQNv5fmq8/DpAaCJseHrtQkB/+zpwzoxKQM3MzMzMeFJAZmZmZmZqWEAAAAAAAFxeQM3MzMzMJmJAmpmZmZkfZUBmZmZmZhhoQDMzMzMzEWtAAAAAAAAKbkBmZmZmZoFwQM3MzMzM/XFAMzMzMzN6c0CamZmZmfZ0QAAAAAAAc3ZAZmZmZmbvd0DNzMzMzGt5QDMzMzMz6HpAmpmZmZlkfEAAAAAAAOF9QGZmZmZmXX9AZmZmZuZsgECamZmZGSuBQM3MzMxM6YFAAAAAAICngkAzMzMzs2WDQGZmZmbmI4RAmpmZmRnihEDNzMzMTKCFQAAAAACAXoZAMzMzM7Mch0BmZmZm5tqHQJqZmZkZmYhAzczMzExXiUAAAAAAgBWKQDMzMzOz04pAZmZmZuaRi0CamZmZGVCMQM3MzMxMDo1AAAAAAIDMjUAzMzMzs4qOQGZmZmbmSI9A\",\"dtype\":\"float64\",\"shape\":[75]}}},\"id\":\"e6707572-46b2-40d7-ada9-c0c7b9e0c293\",\"type\":\"ColumnDataSource\"},{\"attributes\":{\"label\":{\"value\":\"CLIRAD `coolr_bands`\"},\"renderers\":[{\"id\":\"bfe585e6-9641-4a39-a8a2-af0de6563304\",\"type\":\"GlyphRenderer\"}]},\"id\":\"f9c9e2d5-011b-4ba4-a018-dc60189f6dec\",\"type\":\"LegendItem\"},{\"attributes\":{\"bottom_units\":\"screen\",\"fill_alpha\":{\"value\":0.5},\"fill_color\":{\"value\":\"lightgrey\"},\"left_units\":\"screen\",\"level\":\"overlay\",\"line_alpha\":{\"value\":1.0},\"line_color\":{\"value\":\"black\"},\"line_dash\":[4,4],\"line_width\":{\"value\":2},\"plot\":null,\"render_mode\":\"css\",\"right_units\":\"screen\",\"top_units\":\"screen\"},\"id\":\"ade98dc9-c331-4aa1-9ca9-fdcbe359a33e\",\"type\":\"BoxAnnotation\"},{\"attributes\":{\"source\":{\"id\":\"02fcc8b6-9b24-47e9-80fd-17dfcaaf81c7\",\"type\":\"ColumnDataSource\"}},\"id\":\"45c66b65-e032-4a2f-8da3-77efde4351a9\",\"type\":\"CDSView\"},{\"attributes\":{\"callback\":null,\"column_names\":[\"x\",\"y\"],\"data\":{\"x\":{\"__ndarray__\":\"3kRGak4cwb90tdPe+SjBv7eKURn3zcC/CHTkUNiowL8KrRyUD0XAv4o8KKx9z7+/aNUhFrUkv7+23PTC+MS+vyJIMYK+276/JVjBFIoZv78NUaZNrL6/v9+53tMoZsC/mSXozMlNwb96ibFMv8TCv9Nni5T718O/c8F0tXA0wr9Oifv654q7vyxoHf9M17C/Wtm6q4nLkL+0JEq/oCymP2kL3y1W9b0/A3hNQPpDzD/WzBjudfXUP0aHlxIPydI/wZ9MaR68xT8R8+cGAwK4PzMOuxAnB60/4fmEbT2joz+jhtaN7lWeP9T8Xi7VEZk/XX77yBrmkz/8wEsszQaNPwHJPD6WSIY/KmSr5lkLgz/0Z6+mAW98P/WAcaBrzm4/gcD1asGAXj/UQ+grPsFSP+dVSdZ0TEy/Hub41VYUab/EYSdlyTtQv///XXEBAI0/MD1VFmkIpD+0nqNTLD6xP4GEel0zt7c/tLZoglpsuT+2SPubJwm7P51LUEfwVL0/LaahX75pvz+KydlDFHbAPxHpEml2uMA/KXht4w04wD8hnngQM+K+PxDFDY1hLb0/glfLnZlguz8K3uv/d5+5PwoKkFyPJrg/DzJrV1hYtz8S5cHMLWO1PzjuvY0HurI/8NaP0yvzrz/tWt0SAreqP6BQTx+BP6Y/+N0ZEpyfoj+/5aqsf22gP9seivCZZqA/X/S3MhiLoj+g9ba6GNqkPzNZKg/VC6Q/PnowGhMRnz8ggken8JiUPw+KrlfNfYo/nsKPRzedgj8+tnKhPPSAP0UYWCoc/74/\",\"dtype\":\"float64\",\"shape\":[75]},\"y\":{\"__ndarray__\":\"GhExyth1ND/Sv8nbtpRIP2vylNV0PVE/aTum7souWD/At0SJ8fVgPw3Iuahxymc/MSNhhJWvcD/bTfBN02d3P2zb5nxnaoA/CD5h5MAGhz8NmeH1TyaQP+zrCsc9p5Y/LbKd76fGnz/bLW5ISEmmPww9YvTcQq8/JV2OstnstT8Er5Y7M8G+P0c+r3jqkcU/5h99k6ZBzj88bCIzFzjVP4enV8oyxN0//yH99nXg5D8qOpLLf0jtP5kqGJXUifQ/c9cS8kHP/D+/DpwzojQEQIEmwoanVwxA4lgXt9HgE0BSSZ2AJuIbQAMJih9jjiNA5q4l5INuK0AwTKYKRj0zQNv5fmq8/DpAaCJseHrtQkB/+zpwzoxKQM3MzMzMeFJAZmZmZmZqWEAAAAAAAFxeQM3MzMzMJmJAmpmZmZkfZUBmZmZmZhhoQDMzMzMzEWtAAAAAAAAKbkBmZmZmZoFwQM3MzMzM/XFAMzMzMzN6c0CamZmZmfZ0QAAAAAAAc3ZAZmZmZmbvd0DNzMzMzGt5QDMzMzMz6HpAmpmZmZlkfEAAAAAAAOF9QGZmZmZmXX9AZmZmZuZsgECamZmZGSuBQM3MzMxM6YFAAAAAAICngkAzMzMzs2WDQGZmZmbmI4RAmpmZmRnihEDNzMzMTKCFQAAAAACAXoZAMzMzM7Mch0BmZmZm5tqHQJqZmZkZmYhAzczMzExXiUAAAAAAgBWKQDMzMzOz04pAZmZmZuaRi0CamZmZGVCMQM3MzMxMDo1AAAAAAIDMjUAzMzMzs4qOQGZmZmbmSI9A\",\"dtype\":\"float64\",\"shape\":[75]}}},\"id\":\"85173ef2-3627-4d6d-b607-2844a1837ee6\",\"type\":\"ColumnDataSource\"},{\"attributes\":{\"callback\":null,\"column_names\":[\"x\",\"y\"],\"data\":{\"x\":{\"__ndarray__\":\"eUcEscxiw7+uocoL3ELDv1xmxM8u8cK/NehbWo6iwr/qyD/msmTCv0JhnTMdG8K/Ui57pV71wb9ZZa6YC9PBv1gyLRCXrcG/Gve/FYWGwb9ez4HpHZrBv4t4sjx48MG/NQdxyXyWwr8q6TkLP4XDvyFVTKIl9sO/STasfIkqwr9e6cMGKo67v48u+/Rn7bC/e0kmNLhckL+DKF0Imo2nP7DvliAGxr4/Qu8h0z+ozD+fxXAX4MbUP+eA275MedI/lhEluSNsxT8Sg8J/mcy4P+OkxzmDja8/KXFae/jcpT8TM6EvI5mgP3nAQVVcfpo/uquxOlBklj/22GAfvDyRP77gzWsyF4s/6LAMicDRhj+N6kKdiryAP+OrDd0G4nA/dR9dGnb6UT+36NFl+sA/P7Mqb6Zvp1C/Md6Xt2gdab9CootrTyMwv8o1WYCKaZM/jXhWItBwqT9Ia1AYSKivPwH9u4tfVbE/fl0jJHu6tD/Ddc9D3A25P9COhPg5m70/yHVTHRemvT9sZtoWZjq/P0Jt3o86FsA/EcRz+CSAwD8XGP2NiinAP1bHZ4tyhME/qz4/hIkwvj8y0HD/ICy8P1yoIPdH3Lk/sBpvTCIAuD+tus8AXhG1P9fBRjikA7I/4tx8RjY+rz9aI3/e/ZeqP4CnE3dMLqU/e0Kioalioj//R3s3a3CgP8y3ftWXcaA/G4Fm2a+Loj8cAmgg4XykP+Zzzj44aqM/wvjz32JrnT9hTzoQRSOTP9lPFUbA/oY/1AGoB14Gfj+WpkVKQY57P52fNmSYtL4/\",\"dtype\":\"float64\",\"shape\":[75]},\"y\":{\"__ndarray__\":\"GhExyth1ND/Sv8nbtpRIP2vylNV0PVE/aTum7souWD/At0SJ8fVgPw3Iuahxymc/MSNhhJWvcD/bTfBN02d3P2zb5nxnaoA/CD5h5MAGhz8NmeH1TyaQP+zrCsc9p5Y/LbKd76fGnz/bLW5ISEmmPww9YvTcQq8/JV2OstnstT8Er5Y7M8G+P0c+r3jqkcU/5h99k6ZBzj88bCIzFzjVP4enV8oyxN0//yH99nXg5D8qOpLLf0jtP5kqGJXUifQ/c9cS8kHP/D+/DpwzojQEQIEmwoanVwxA4lgXt9HgE0BSSZ2AJuIbQAMJih9jjiNA5q4l5INuK0AwTKYKRj0zQNv5fmq8/DpAaCJseHrtQkB/+zpwzoxKQM3MzMzMeFJAZmZmZmZqWEAAAAAAAFxeQM3MzMzMJmJAmpmZmZkfZUBmZmZmZhhoQDMzMzMzEWtAAAAAAAAKbkBmZmZmZoFwQM3MzMzM/XFAMzMzMzN6c0CamZmZmfZ0QAAAAAAAc3ZAZmZmZmbvd0DNzMzMzGt5QDMzMzMz6HpAmpmZmZlkfEAAAAAAAOF9QGZmZmZmXX9AZmZmZuZsgECamZmZGSuBQM3MzMxM6YFAAAAAAICngkAzMzMzs2WDQGZmZmbmI4RAmpmZmRnihEDNzMzMTKCFQAAAAACAXoZAMzMzM7Mch0BmZmZm5tqHQJqZmZkZmYhAzczMzExXiUAAAAAAgBWKQDMzMzOz04pAZmZmZuaRi0CamZmZGVCMQM3MzMxMDo1AAAAAAIDMjUAzMzMzs4qOQGZmZmbmSI9A\",\"dtype\":\"float64\",\"shape\":[75]}}},\"id\":\"af15327b-00d8-481b-988c-88d638fb73ca\",\"type\":\"ColumnDataSource\"},{\"attributes\":{\"data_source\":{\"id\":\"af15327b-00d8-481b-988c-88d638fb73ca\",\"type\":\"ColumnDataSource\"},\"glyph\":{\"id\":\"548a469b-3a71-4e21-bf9c-485ddafc40e3\",\"type\":\"Square\"},\"hover_glyph\":null,\"muted_glyph\":null,\"nonselection_glyph\":{\"id\":\"544ddba0-2964-40c7-a58b-4b14a7cb84c2\",\"type\":\"Square\"},\"selection_glyph\":null,\"view\":{\"id\":\"f24adfb9-1951-447c-9e74-fb78af055669\",\"type\":\"CDSView\"}},\"id\":\"1c70173f-381c-459e-b848-cbaac9cd6943\",\"type\":\"GlyphRenderer\"},{\"attributes\":{},\"id\":\"f324a22b-75df-48d6-a1a2-f965005e7c9a\",\"type\":\"BasicTickFormatter\"},{\"attributes\":{\"below\":[{\"id\":\"69b56fd5-75c9-4898-a555-8241d654f21f\",\"type\":\"LinearAxis\"}],\"left\":[{\"id\":\"7a628f1e-7c99-4fb2-8853-6f79fbc4fce9\",\"type\":\"LogAxis\"}],\"plot_height\":500,\"plot_width\":560,\"renderers\":[{\"id\":\"69b56fd5-75c9-4898-a555-8241d654f21f\",\"type\":\"LinearAxis\"},{\"id\":\"28ea905d-2f10-46fc-96ad-93af147c2d9c\",\"type\":\"Grid\"},{\"id\":\"7a628f1e-7c99-4fb2-8853-6f79fbc4fce9\",\"type\":\"LogAxis\"},{\"id\":\"2372a88e-576f-4020-bbc4-390d70a997e7\",\"type\":\"Grid\"},{\"id\":\"ade98dc9-c331-4aa1-9ca9-fdcbe359a33e\",\"type\":\"BoxAnnotation\"},{\"id\":\"bfe585e6-9641-4a39-a8a2-af0de6563304\",\"type\":\"GlyphRenderer\"},{\"id\":\"0f08e212-b7fa-4f05-bdd6-5e4527f76aff\",\"type\":\"GlyphRenderer\"},{\"id\":\"c0abfc3f-3a84-4a41-86e6-94248f648c9d\",\"type\":\"GlyphRenderer\"},{\"id\":\"6177d9fb-31ce-4c35-b0f6-23cdbc78c69e\",\"type\":\"GlyphRenderer\"},{\"id\":\"dca09b84-18a5-4009-beb7-65ef62f38ac5\",\"type\":\"GlyphRenderer\"},{\"id\":\"d6b4c205-ec8b-46dc-a327-97bfd89d0e94\",\"type\":\"Legend\"}],\"right\":[{\"id\":\"d6b4c205-ec8b-46dc-a327-97bfd89d0e94\",\"type\":\"Legend\"}],\"title\":{\"id\":\"1fc25318-0c75-481e-82a1-f8e898864551\",\"type\":\"Title\"},\"toolbar\":{\"id\":\"8646e72b-4275-43f0-818a-1b53024cbeed\",\"type\":\"Toolbar\"},\"toolbar_location\":null,\"x_range\":{\"id\":\"a1d41ff6-f1da-4cda-8cb4-982711019ef3\",\"type\":\"Range1d\"},\"x_scale\":{\"id\":\"76df25ea-4d45-4123-9817-e5711e0e31b1\",\"type\":\"LinearScale\"},\"y_range\":{\"id\":\"41132bd4-c1a4-4636-8e3e-4e0e09865be0\",\"type\":\"Range1d\"},\"y_scale\":{\"id\":\"7826d8da-1029-4fae-8137-41e5f4572938\",\"type\":\"LogScale\"}},\"id\":\"26dfd47e-4721-4087-b123-43df3fdf1a90\",\"subtype\":\"Figure\",\"type\":\"Plot\"},{\"attributes\":{\"data_source\":{\"id\":\"05136973-2c05-4d4f-bd2b-95158fd20fa3\",\"type\":\"ColumnDataSource\"},\"glyph\":{\"id\":\"6efd1ada-4b42-4044-b8f6-122318bd7453\",\"type\":\"Circle\"},\"hover_glyph\":null,\"muted_glyph\":null,\"nonselection_glyph\":{\"id\":\"486925c9-ef9d-41d6-aa7b-e72f228b4e25\",\"type\":\"Circle\"},\"selection_glyph\":null,\"view\":{\"id\":\"9c7bdbe0-cd46-49cd-9612-2cb0c9e6f0f5\",\"type\":\"CDSView\"}},\"id\":\"314ba0d4-c4e5-4480-9284-ba7a04030286\",\"type\":\"GlyphRenderer\"},{\"attributes\":{\"callback\":null,\"end\":0.138253677649482,\"start\":-0.004464983703282001},\"id\":\"72a30357-7d82-41e9-a0b2-b053e52350f1\",\"type\":\"Range1d\"},{\"attributes\":{},\"id\":\"6bfe24e9-1c7e-479d-9b98-e22db4605b34\",\"type\":\"BasicTickFormatter\"},{\"attributes\":{\"tools\":[{\"id\":\"ba36b19a-f984-4050-9ac4-e68137eae71c\",\"type\":\"PanTool\"},{\"id\":\"6d0c27fe-4f77-4a13-83e6-e5db6dee16e6\",\"type\":\"WheelZoomTool\"},{\"id\":\"bd57a39c-6d80-41f7-a000-6af4904e5c05\",\"type\":\"BoxZoomTool\"},{\"id\":\"46a804c2-28c6-46d3-aa22-b0561ab10ce8\",\"type\":\"SaveTool\"},{\"id\":\"4a2fc0e1-aa14-4d03-9d70-b5497e032eb1\",\"type\":\"ResetTool\"},{\"id\":\"09230829-f393-4e5f-a49e-a6458a125817\",\"type\":\"HelpTool\"},{\"id\":\"20c33437-a6a5-463a-a0f6-f62ef823df59\",\"type\":\"PanTool\"},{\"id\":\"92f375ea-df19-430b-ab80-0adc958e7735\",\"type\":\"WheelZoomTool\"},{\"id\":\"0263ec30-02dd-420d-a576-44fe154d62a3\",\"type\":\"BoxZoomTool\"},{\"id\":\"e2624f06-cd01-4efb-a868-ff074fe52ad1\",\"type\":\"SaveTool\"},{\"id\":\"b12280c7-142d-4dad-8d0e-a8074a806e54\",\"type\":\"ResetTool\"},{\"id\":\"b5afd5dd-a7c6-4426-abca-9e2714ea4b16\",\"type\":\"HelpTool\"}]},\"id\":\"6b2b2186-aca3-419b-9b12-34dca6786705\",\"type\":\"ProxyToolbar\"},{\"attributes\":{\"fill_alpha\":{\"value\":0.1},\"fill_color\":{\"value\":\"#1f77b4\"},\"line_alpha\":{\"value\":0.1},\"line_color\":{\"value\":\"#1f77b4\"},\"x\":{\"field\":\"x\"},\"y\":{\"field\":\"y\"}},\"id\":\"544ddba0-2964-40c7-a58b-4b14a7cb84c2\",\"type\":\"Square\"},{\"attributes\":{\"children\":[{\"id\":\"258ca8fb-5491-411d-958d-7b15d5102c7c\",\"type\":\"Row\"}]},\"id\":\"4a6a23bc-4a4a-477a-aa91-12d2ea5d22b7\",\"type\":\"Column\"},{\"attributes\":{},\"id\":\"76df25ea-4d45-4123-9817-e5711e0e31b1\",\"type\":\"LinearScale\"},{\"attributes\":{\"data_source\":{\"id\":\"e6707572-46b2-40d7-ada9-c0c7b9e0c293\",\"type\":\"ColumnDataSource\"},\"glyph\":{\"id\":\"fa4277ce-0010-486d-9b80-f5f1b58b7d1d\",\"type\":\"Line\"},\"hover_glyph\":null,\"muted_glyph\":null,\"nonselection_glyph\":{\"id\":\"82a03cec-9e39-40f4-b7a5-375b5b096494\",\"type\":\"Line\"},\"selection_glyph\":null,\"view\":{\"id\":\"2fc96a76-52c0-4b84-abe2-64a846e7a7de\",\"type\":\"CDSView\"}},\"id\":\"d80bca6f-de7a-4096-89e8-048a5e4b9fe6\",\"type\":\"GlyphRenderer\"},{\"attributes\":{\"line_alpha\":0.6,\"line_color\":\"#e41a1c\",\"line_dash\":[6],\"line_width\":5,\"x\":{\"field\":\"x\"},\"y\":{\"field\":\"y\"}},\"id\":\"64990c74-c64d-48d9-b443-3bb1e1ac525c\",\"type\":\"Line\"},{\"attributes\":{\"plot\":null,\"text\":\"Log pressure scale\"},\"id\":\"1fc25318-0c75-481e-82a1-f8e898864551\",\"type\":\"Title\"},{\"attributes\":{},\"id\":\"e2624f06-cd01-4efb-a868-ff074fe52ad1\",\"type\":\"SaveTool\"},{\"attributes\":{\"source\":{\"id\":\"e6707572-46b2-40d7-ada9-c0c7b9e0c293\",\"type\":\"ColumnDataSource\"}},\"id\":\"2fc96a76-52c0-4b84-abe2-64a846e7a7de\",\"type\":\"CDSView\"},{\"attributes\":{\"below\":[{\"id\":\"7cf49e8d-87fc-4914-9f14-237beaa03f50\",\"type\":\"LinearAxis\"}],\"left\":[{\"id\":\"44d7e9ba-63b4-42bf-936c-b09584e92bc6\",\"type\":\"LinearAxis\"}],\"plot_height\":500,\"plot_width\":400,\"renderers\":[{\"id\":\"7cf49e8d-87fc-4914-9f14-237beaa03f50\",\"type\":\"LinearAxis\"},{\"id\":\"c815a425-7170-4050-8ad5-0a350a4e17d7\",\"type\":\"Grid\"},{\"id\":\"44d7e9ba-63b4-42bf-936c-b09584e92bc6\",\"type\":\"LinearAxis\"},{\"id\":\"30b1a74a-3a92-472c-a54a-3ddaa338aada\",\"type\":\"Grid\"},{\"id\":\"7fa3a27b-6002-47c6-ac32-69290e0e5f4a\",\"type\":\"BoxAnnotation\"},{\"id\":\"61c50cb1-522c-4989-afb2-536a6b2a68bf\",\"type\":\"GlyphRenderer\"},{\"id\":\"314ba0d4-c4e5-4480-9284-ba7a04030286\",\"type\":\"GlyphRenderer\"},{\"id\":\"db9eef2b-97d8-45d9-ba47-9cebff541d45\",\"type\":\"GlyphRenderer\"},{\"id\":\"1c70173f-381c-459e-b848-cbaac9cd6943\",\"type\":\"GlyphRenderer\"},{\"id\":\"d80bca6f-de7a-4096-89e8-048a5e4b9fe6\",\"type\":\"GlyphRenderer\"}],\"title\":{\"id\":\"68d3b112-0f45-4b28-9737-3158c613a2f2\",\"type\":\"Title\"},\"toolbar\":{\"id\":\"55da3be3-e938-4065-ac36-acb076cdfa66\",\"type\":\"Toolbar\"},\"toolbar_location\":null,\"x_range\":{\"id\":\"72a30357-7d82-41e9-a0b2-b053e52350f1\",\"type\":\"Range1d\"},\"x_scale\":{\"id\":\"dadf63ca-f013-47ae-8a22-5f3b452cd2de\",\"type\":\"LinearScale\"},\"y_range\":{\"id\":\"d810f4ca-918a-4b65-b278-576388d7ec68\",\"type\":\"Range1d\"},\"y_scale\":{\"id\":\"0ebaec32-1582-487b-a32d-ba1bb51054ff\",\"type\":\"LinearScale\"}},\"id\":\"c8d1b9ce-b197-4e95-8700-87aff8011ae4\",\"subtype\":\"Figure\",\"type\":\"Plot\"},{\"attributes\":{\"toolbar\":{\"id\":\"6b2b2186-aca3-419b-9b12-34dca6786705\",\"type\":\"ProxyToolbar\"},\"toolbar_location\":\"above\"},\"id\":\"0e93df71-26b8-4c32-81a3-0043f810773f\",\"type\":\"ToolbarBox\"},{\"attributes\":{\"line_alpha\":0.1,\"line_color\":\"#1f77b4\",\"line_dash\":[6],\"line_width\":5,\"x\":{\"field\":\"x\"},\"y\":{\"field\":\"y\"}},\"id\":\"6b13cf70-8722-451a-b689-3c8e422ed480\",\"type\":\"Line\"}],\"root_ids\":[\"28f1e2ba-6db6-4b56-99e6-d93c64045217\"]},\"title\":\"Bokeh Application\",\"version\":\"0.12.14\"}};\n",
       "  var render_items = [{\"docid\":\"9172e35d-48fc-4233-8863-1fe54d44445b\",\"elementid\":\"bbc2e0b8-8513-4d7d-9d8f-4ef84bfe9b00\",\"modelid\":\"28f1e2ba-6db6-4b56-99e6-d93c64045217\"}];\n",
       "  root.Bokeh.embed.embed_items_notebook(docs_json, render_items);\n",
       "\n",
       "  }\n",
       "  if (root.Bokeh !== undefined) {\n",
       "    embed_document(root);\n",
       "  } else {\n",
       "    var attempts = 0;\n",
       "    var timer = setInterval(function(root) {\n",
       "      if (root.Bokeh !== undefined) {\n",
       "        embed_document(root);\n",
       "        clearInterval(timer);\n",
       "      }\n",
       "      attempts++;\n",
       "      if (attempts > 100) {\n",
       "        console.log(\"Bokeh: ERROR: Unable to run BokehJS code because BokehJS library is missing\")\n",
       "        clearInterval(timer);\n",
       "      }\n",
       "    }, 10, root)\n",
       "  }\n",
       "})(window);"
      ],
      "application/vnd.bokehjs_exec.v0+json": ""
     },
     "metadata": {
      "application/vnd.bokehjs_exec.v0+json": {
       "id": "28f1e2ba-6db6-4b56-99e6-d93c64045217"
      }
     },
     "output_type": "display_data"
    },
    {
     "name": "stdout",
     "output_type": "stream",
     "text": [
      "FIGURE. Cooling rate profiles.\n"
     ]
    },
    {
     "data": {
      "text/html": [
       "<a id=\"Flux_Comparison\"></a>"
      ],
      "text/plain": [
       "<IPython.core.display.HTML object>"
      ]
     },
     "metadata": {},
     "output_type": "display_data"
    },
    {
     "data": {
      "text/markdown": [
       "# Flux Comparison"
      ],
      "text/plain": [
       "<IPython.core.display.Markdown object>"
      ]
     },
     "metadata": {},
     "output_type": "display_data"
    },
    {
     "data": {
      "text/html": [
       "<div>\n",
       "<style>\n",
       "    .dataframe thead tr:only-child th {\n",
       "        text-align: right;\n",
       "    }\n",
       "\n",
       "    .dataframe thead th {\n",
       "        text-align: left;\n",
       "    }\n",
       "\n",
       "    .dataframe tbody tr th {\n",
       "        vertical-align: top;\n",
       "    }\n",
       "</style>\n",
       "<table border=\"1\" class=\"dataframe\">\n",
       "  <thead>\n",
       "    <tr style=\"text-align: right;\">\n",
       "      <th></th>\n",
       "      <th></th>\n",
       "      <th>flug</th>\n",
       "      <th>fldg</th>\n",
       "      <th>fnetg</th>\n",
       "    </tr>\n",
       "    <tr>\n",
       "      <th>pressure</th>\n",
       "      <th>level</th>\n",
       "      <th></th>\n",
       "      <th></th>\n",
       "      <th></th>\n",
       "    </tr>\n",
       "  </thead>\n",
       "  <tbody>\n",
       "    <tr>\n",
       "      <th>0.0000</th>\n",
       "      <th>1</th>\n",
       "      <td>-7.228520</td>\n",
       "      <td>0.000000</td>\n",
       "      <td>-7.228520</td>\n",
       "    </tr>\n",
       "    <tr>\n",
       "      <th>1.0685</th>\n",
       "      <th>24</th>\n",
       "      <td>-7.237311</td>\n",
       "      <td>0.026378</td>\n",
       "      <td>-7.210933</td>\n",
       "    </tr>\n",
       "    <tr>\n",
       "      <th>1013.0000</th>\n",
       "      <th>76</th>\n",
       "      <td>-30.729617</td>\n",
       "      <td>30.384530</td>\n",
       "      <td>-0.345086</td>\n",
       "    </tr>\n",
       "  </tbody>\n",
       "</table>\n",
       "</div>"
      ],
      "text/plain": [
       "                      flug       fldg     fnetg\n",
       "pressure  level                                \n",
       "0.0000    1      -7.228520   0.000000 -7.228520\n",
       "1.0685    24     -7.237311   0.026378 -7.210933\n",
       "1013.0000 76    -30.729617  30.384530 -0.345086"
      ]
     },
     "metadata": {},
     "output_type": "display_data"
    },
    {
     "name": "stdout",
     "output_type": "stream",
     "text": [
      "Table. Fluxes. WGT igg=10 wgt_flux=1\n"
     ]
    },
    {
     "data": {
      "text/html": [
       "<div>\n",
       "<style>\n",
       "    .dataframe thead tr:only-child th {\n",
       "        text-align: right;\n",
       "    }\n",
       "\n",
       "    .dataframe thead th {\n",
       "        text-align: left;\n",
       "    }\n",
       "\n",
       "    .dataframe tbody tr th {\n",
       "        vertical-align: top;\n",
       "    }\n",
       "</style>\n",
       "<table border=\"1\" class=\"dataframe\">\n",
       "  <thead>\n",
       "    <tr style=\"text-align: right;\">\n",
       "      <th></th>\n",
       "      <th></th>\n",
       "      <th>flug</th>\n",
       "      <th>fldg</th>\n",
       "      <th>fnetg</th>\n",
       "    </tr>\n",
       "    <tr>\n",
       "      <th>pressure</th>\n",
       "      <th>level</th>\n",
       "      <th></th>\n",
       "      <th></th>\n",
       "      <th></th>\n",
       "    </tr>\n",
       "  </thead>\n",
       "  <tbody>\n",
       "    <tr>\n",
       "      <th>0.0000</th>\n",
       "      <th>1</th>\n",
       "      <td>-7.274256</td>\n",
       "      <td>0.000000</td>\n",
       "      <td>-7.274256</td>\n",
       "    </tr>\n",
       "    <tr>\n",
       "      <th>1.0685</th>\n",
       "      <th>24</th>\n",
       "      <td>-7.283563</td>\n",
       "      <td>0.026890</td>\n",
       "      <td>-7.256672</td>\n",
       "    </tr>\n",
       "    <tr>\n",
       "      <th>1013.0000</th>\n",
       "      <th>76</th>\n",
       "      <td>-30.729616</td>\n",
       "      <td>30.373709</td>\n",
       "      <td>-0.355907</td>\n",
       "    </tr>\n",
       "  </tbody>\n",
       "</table>\n",
       "</div>"
      ],
      "text/plain": [
       "                      flug       fldg     fnetg\n",
       "pressure  level                                \n",
       "0.0000    1      -7.274256   0.000000 -7.274256\n",
       "1.0685    24     -7.283563   0.026890 -7.256672\n",
       "1013.0000 76    -30.729616  30.373709 -0.355907"
      ]
     },
     "metadata": {},
     "output_type": "display_data"
    },
    {
     "name": "stdout",
     "output_type": "stream",
     "text": [
      "Table. Fluxes. CRD\n"
     ]
    },
    {
     "data": {
      "text/html": [
       "<div>\n",
       "<style>\n",
       "    .dataframe thead tr:only-child th {\n",
       "        text-align: right;\n",
       "    }\n",
       "\n",
       "    .dataframe thead th {\n",
       "        text-align: left;\n",
       "    }\n",
       "\n",
       "    .dataframe tbody tr th {\n",
       "        vertical-align: top;\n",
       "    }\n",
       "</style>\n",
       "<table border=\"1\" class=\"dataframe\">\n",
       "  <thead>\n",
       "    <tr style=\"text-align: right;\">\n",
       "      <th></th>\n",
       "      <th></th>\n",
       "      <th>flug</th>\n",
       "      <th>fldg</th>\n",
       "      <th>fnetg</th>\n",
       "    </tr>\n",
       "    <tr>\n",
       "      <th>pressure</th>\n",
       "      <th>level</th>\n",
       "      <th></th>\n",
       "      <th></th>\n",
       "      <th></th>\n",
       "    </tr>\n",
       "  </thead>\n",
       "  <tbody>\n",
       "    <tr>\n",
       "      <th>1.000000e-08</th>\n",
       "      <th>1</th>\n",
       "      <td>0.0</td>\n",
       "      <td>0.0</td>\n",
       "      <td>0.0</td>\n",
       "    </tr>\n",
       "    <tr>\n",
       "      <th>1.068500e+00</th>\n",
       "      <th>24</th>\n",
       "      <td>0.0</td>\n",
       "      <td>0.0</td>\n",
       "      <td>0.0</td>\n",
       "    </tr>\n",
       "    <tr>\n",
       "      <th>1.013000e+03</th>\n",
       "      <th>76</th>\n",
       "      <td>0.0</td>\n",
       "      <td>0.0</td>\n",
       "      <td>0.0</td>\n",
       "    </tr>\n",
       "  </tbody>\n",
       "</table>\n",
       "</div>"
      ],
      "text/plain": [
       "                    flug  fldg  fnetg\n",
       "pressure     level                   \n",
       "1.000000e-08 1       0.0   0.0    0.0\n",
       "1.068500e+00 24      0.0   0.0    0.0\n",
       "1.013000e+03 76      0.0   0.0    0.0"
      ]
     },
     "metadata": {},
     "output_type": "display_data"
    },
    {
     "name": "stdout",
     "output_type": "stream",
     "text": [
      "Table. Fluxes. CLIRAD\n"
     ]
    },
    {
     "data": {
      "text/html": [
       "<div>\n",
       "<style>\n",
       "    .dataframe thead tr:only-child th {\n",
       "        text-align: right;\n",
       "    }\n",
       "\n",
       "    .dataframe thead th {\n",
       "        text-align: left;\n",
       "    }\n",
       "\n",
       "    .dataframe tbody tr th {\n",
       "        vertical-align: top;\n",
       "    }\n",
       "</style>\n",
       "<table border=\"1\" class=\"dataframe\">\n",
       "  <thead>\n",
       "    <tr style=\"text-align: right;\">\n",
       "      <th></th>\n",
       "      <th></th>\n",
       "      <th>flug</th>\n",
       "      <th>fldg</th>\n",
       "      <th>fnetg</th>\n",
       "    </tr>\n",
       "    <tr>\n",
       "      <th>pressure</th>\n",
       "      <th>level</th>\n",
       "      <th></th>\n",
       "      <th></th>\n",
       "      <th></th>\n",
       "    </tr>\n",
       "  </thead>\n",
       "  <tbody>\n",
       "    <tr>\n",
       "      <th>0.0000</th>\n",
       "      <th>1</th>\n",
       "      <td>-4.573644e-02</td>\n",
       "      <td>0.000000</td>\n",
       "      <td>-0.045736</td>\n",
       "    </tr>\n",
       "    <tr>\n",
       "      <th>1.0685</th>\n",
       "      <th>24</th>\n",
       "      <td>-4.625110e-02</td>\n",
       "      <td>0.000512</td>\n",
       "      <td>-0.045739</td>\n",
       "    </tr>\n",
       "    <tr>\n",
       "      <th>1013.0000</th>\n",
       "      <th>76</th>\n",
       "      <td>5.090000e-07</td>\n",
       "      <td>-0.010821</td>\n",
       "      <td>-0.010821</td>\n",
       "    </tr>\n",
       "  </tbody>\n",
       "</table>\n",
       "</div>"
      ],
      "text/plain": [
       "                         flug      fldg     fnetg\n",
       "pressure  level                                  \n",
       "0.0000    1     -4.573644e-02  0.000000 -0.045736\n",
       "1.0685    24    -4.625110e-02  0.000512 -0.045739\n",
       "1013.0000 76     5.090000e-07 -0.010821 -0.010821"
      ]
     },
     "metadata": {},
     "output_type": "display_data"
    },
    {
     "name": "stdout",
     "output_type": "stream",
     "text": [
      "Table. Fluxes. (CRD) - (WGT igg=10 wgt_flux=1)\n"
     ]
    },
    {
     "data": {
      "text/html": [
       "<div>\n",
       "<style>\n",
       "    .dataframe thead tr:only-child th {\n",
       "        text-align: right;\n",
       "    }\n",
       "\n",
       "    .dataframe thead th {\n",
       "        text-align: left;\n",
       "    }\n",
       "\n",
       "    .dataframe tbody tr th {\n",
       "        vertical-align: top;\n",
       "    }\n",
       "</style>\n",
       "<table border=\"1\" class=\"dataframe\">\n",
       "  <thead>\n",
       "    <tr style=\"text-align: right;\">\n",
       "      <th></th>\n",
       "      <th></th>\n",
       "      <th>flug</th>\n",
       "      <th>fldg</th>\n",
       "      <th>fnetg</th>\n",
       "    </tr>\n",
       "    <tr>\n",
       "      <th>pressure</th>\n",
       "      <th>level</th>\n",
       "      <th></th>\n",
       "      <th></th>\n",
       "      <th></th>\n",
       "    </tr>\n",
       "  </thead>\n",
       "  <tbody>\n",
       "    <tr>\n",
       "      <th>0.0000</th>\n",
       "      <th>1</th>\n",
       "      <td>7.228520</td>\n",
       "      <td>0.000000</td>\n",
       "      <td>7.228520</td>\n",
       "    </tr>\n",
       "    <tr>\n",
       "      <th>1.0685</th>\n",
       "      <th>24</th>\n",
       "      <td>7.237311</td>\n",
       "      <td>-0.026378</td>\n",
       "      <td>7.210933</td>\n",
       "    </tr>\n",
       "    <tr>\n",
       "      <th>1013.0000</th>\n",
       "      <th>76</th>\n",
       "      <td>30.729617</td>\n",
       "      <td>-30.384530</td>\n",
       "      <td>0.345086</td>\n",
       "    </tr>\n",
       "  </tbody>\n",
       "</table>\n",
       "</div>"
      ],
      "text/plain": [
       "                      flug       fldg     fnetg\n",
       "pressure  level                                \n",
       "0.0000    1       7.228520   0.000000  7.228520\n",
       "1.0685    24      7.237311  -0.026378  7.210933\n",
       "1013.0000 76     30.729617 -30.384530  0.345086"
      ]
     },
     "metadata": {},
     "output_type": "display_data"
    },
    {
     "name": "stdout",
     "output_type": "stream",
     "text": [
      "Table. Fluxes. (CLIRAD) - (WGT igg=10 wgt_flux=1)\n"
     ]
    },
    {
     "data": {
      "text/html": [
       "<a id=\"Best-fit_Parameters\"></a>"
      ],
      "text/plain": [
       "<IPython.core.display.HTML object>"
      ]
     },
     "metadata": {},
     "output_type": "display_data"
    },
    {
     "data": {
      "text/markdown": [
       "# Best-fit Parameters"
      ],
      "text/plain": [
       "<IPython.core.display.Markdown object>"
      ]
     },
     "metadata": {},
     "output_type": "display_data"
    },
    {
     "name": "stdout",
     "output_type": "stream",
     "text": [
      "Best-fit values for each (gas, band)\n",
      "------------------------------------\n",
      "o h2o band8\n",
      "  molecule = h2o\n",
      "  band = 8\n",
      "  commitnumber = d62b618\n",
      "  vmin = 1380\n",
      "  vmax = 1900\n",
      "  dv = 0.001\n",
      "  nv = 1000\n",
      "  ref_pts = [(1, 250), (10, 250), (500, 250)]\n",
      "  ng_refs = [3, 2, 3]\n",
      "  ng_adju = [0, -1, 0]\n",
      "  klin = 0\n",
      "  option_wgt_k = 1\n",
      "  wgt = [(0.55, 0.55, 0.85), (0.85, 0.85), (0, 0.3, 0.55)]\n",
      "  w_diffuse = [(1.66, 1.66, 1.66), (1.66, 1.66), (1.66, 1.66, 1.66)]\n",
      "  option_wgt_flux = 1\n",
      "  atmpro = mls\n",
      "  tsfc = 294\n",
      "  conc = None\n",
      "  option_compute_btable = 0\n",
      "  option_compute_ktable = 1\n"
     ]
    }
   ],
   "source": [
    "script()"
   ]
  },
  {
   "cell_type": "code",
   "execution_count": 13,
   "metadata": {},
   "outputs": [
    {
     "data": {
      "text/html": [
       "<script>\n",
       "code_show=true; \n",
       "function code_toggle() {\n",
       " if (code_show){\n",
       " $('div.input').hide();\n",
       " } else {\n",
       " $('div.input').show();\n",
       " }\n",
       " code_show = !code_show\n",
       "} \n",
       "$( document ).ready(code_toggle);\n",
       "</script>\n",
       "<form action=\"javascript:code_toggle()\"><input type=\"submit\" value=\"Click here to toggle on/off the raw code.\"></form>"
      ],
      "text/plain": [
       "<IPython.core.display.HTML object>"
      ]
     },
     "execution_count": 13,
     "metadata": {},
     "output_type": "execute_result"
    }
   ],
   "source": [
    "display.HTML('''<script>\n",
    "code_show=true; \n",
    "function code_toggle() {\n",
    " if (code_show){\n",
    " $('div.input').hide();\n",
    " } else {\n",
    " $('div.input').show();\n",
    " }\n",
    " code_show = !code_show\n",
    "} \n",
    "$( document ).ready(code_toggle);\n",
    "</script>\n",
    "<form action=\"javascript:code_toggle()\"><input type=\"submit\" value=\"Click here to toggle on/off the raw code.\"></form>''')"
   ]
  }
 ],
 "metadata": {
  "kernelspec": {
   "display_name": "Python 3",
   "language": "python",
   "name": "python3"
  },
  "language_info": {
   "codemirror_mode": {
    "name": "ipython",
    "version": 3
   },
   "file_extension": ".py",
   "mimetype": "text/x-python",
   "name": "python",
   "nbconvert_exporter": "python",
   "pygments_lexer": "ipython3",
   "version": "3.6.1"
  }
 },
 "nbformat": 4,
 "nbformat_minor": 2
}
