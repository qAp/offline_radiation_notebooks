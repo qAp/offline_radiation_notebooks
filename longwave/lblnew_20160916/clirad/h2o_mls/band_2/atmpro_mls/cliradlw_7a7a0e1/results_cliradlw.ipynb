{
 "cells": [
  {
   "cell_type": "code",
   "execution_count": 1,
   "metadata": {
    "collapsed": true
   },
   "outputs": [],
   "source": [
    "%matplotlib inline\n",
    "import os\n",
    "import re\n",
    "import io\n",
    "import itertools\n",
    "import pprint\n",
    "\n",
    "from bokeh.io import output_notebook, show\n",
    "from bokeh.layouts import gridplot\n",
    "from bokeh.plotting import figure\n",
    "from bokeh.models import Range1d, Legend\n",
    "from bokeh.palettes import all_palettes\n",
    "\n",
    "import matplotlib\n",
    "import matplotlib.pyplot as plt\n",
    "import numpy as np\n",
    "import pandas as pd\n",
    "import xarray as xr\n",
    "\n",
    "import climatools.lblnew.bestfit_params as bestfits\n",
    "from climatools.lblnew import setup_bestfit, setup_overlap\n",
    "import climatools.lblnew.pipeline as pipe_lblnew\n",
    "import climatools.cliradlw.setup as setup_cliradlw\n",
    "import climatools.cliradlw.pipeline as pipe_cliradlw\n",
    "\n",
    "import climatools.html.html as climahtml\n",
    "from climatools.lblnew.dataio import *\n",
    "from climatools.plot.plot import *\n",
    "\n",
    "\n",
    "import IPython.display as display"
   ]
  },
  {
   "cell_type": "code",
   "execution_count": 2,
   "metadata": {
    "collapsed": true
   },
   "outputs": [],
   "source": [
    "%run param.py"
   ]
  },
  {
   "cell_type": "code",
   "execution_count": 3,
   "metadata": {
    "collapsed": true
   },
   "outputs": [],
   "source": [
    "def load_output_file(path_csv):\n",
    "    '''\n",
    "    Load lblnew output .csv file to xarray.Dataset\n",
    "    \n",
    "    Parameters\n",
    "    ----------\n",
    "    path_csv: str\n",
    "              Path to the .csv file to be loaded.\n",
    "    ds: xarray.Dataset\n",
    "        Data in the input file in the form of an xarray.Dataset.\n",
    "    '''\n",
    "    toindex = ['band', 'pressure', 'igg', 'g']    \n",
    "    df = pd.read_csv(path_csv, sep=r'\\s+')\n",
    "    df = df.set_index([i for i in toindex if i in df.columns])\n",
    "    df = df.rename(columns={'sfu': 'flug',\n",
    "                            'sfd': 'fldg',\n",
    "                            'fnet': 'fnetg',\n",
    "                            'coolr': 'coolrg'})\n",
    "    ds = xr.Dataset.from_dataframe(df)\n",
    "\n",
    "    for l in ('level', 'layer'):\n",
    "        if l in ds.data_vars:\n",
    "            if len(ds[l].dims) > 1:\n",
    "                surface = {d: 0 for d in ds.dims if d != 'pressure'}\n",
    "                coord_level = ds[l][surface]\n",
    "                ds.coords[l] = ('pressure', coord_level)\n",
    "            else:\n",
    "                ds.coords[l] = ('pressure', ds[l])\n",
    "    \n",
    "    return ds"
   ]
  },
  {
   "cell_type": "code",
   "execution_count": 4,
   "metadata": {
    "collapsed": true
   },
   "outputs": [],
   "source": [
    "def lblnew_setup(param=None):\n",
    "    if 'ng_refs' in param:\n",
    "        return {'setup': setup_bestfit,\n",
    "                'fname_flux_crd': 'output_flux.dat',\n",
    "                'fname_cool_crd': 'output_coolr.dat',\n",
    "                'fname_flux_wgt': 'output_wfluxg.dat',\n",
    "                'fname_cool_wgt': 'output_wcoolrg.dat'}\n",
    "    else:\n",
    "        return {'setup': setup_overlap,\n",
    "                'fname_flux_crd': 'output_flux.dat',\n",
    "                'fname_cool_crd': 'output_coolr.dat',\n",
    "                'fname_flux_wgt': 'output_wflux.dat',\n",
    "                'fname_cool_wgt': 'output_wcoolr.dat'}\n",
    "\n",
    "    \n",
    "def load_lblnew_data(param):\n",
    "    \n",
    "    fname_dsname = [('fname_flux_crd', 'ds_flux_crd'),\n",
    "                    ('fname_cool_crd', 'ds_cool_crd'),\n",
    "                    ('fname_flux_wgt', 'ds_flux_wgt'),\n",
    "                    ('fname_cool_wgt', 'ds_cool_wgt')]\n",
    "    \n",
    "    d = lblnew_setup(param)\n",
    "    dir_fortran = pipe_lblnew.get_dir_case(param, setup=d['setup'])\n",
    "    \n",
    "    data_dict = {}\n",
    "    for fname, dsname in fname_dsname:\n",
    "        fpath = os.path.join(dir_fortran, d[fname])\n",
    "        data_dict[dsname] = load_output_file(fpath)\n",
    "    return data_dict\n",
    "    \n",
    "\n",
    "    \n",
    "    "
   ]
  },
  {
   "cell_type": "code",
   "execution_count": 5,
   "metadata": {
    "collapsed": true
   },
   "outputs": [],
   "source": [
    "d = load_lblnew_data(PARAM_LBLNEW)\n",
    "\n",
    "DS_FLUX_CRD = d['ds_flux_crd']\n",
    "DS_COOL_CRD = d['ds_cool_crd']\n",
    "DS_FLUX_WGT = d['ds_flux_wgt']\n",
    "DS_COOL_WGT = d['ds_cool_wgt']"
   ]
  },
  {
   "cell_type": "code",
   "execution_count": 6,
   "metadata": {
    "collapsed": true
   },
   "outputs": [],
   "source": [
    "DIR_FORTRAN = pipe_cliradlw.get_fortran_dir(PARAM, \n",
    "                                            setup=setup_cliradlw)\n",
    "\n",
    "PATH_FLUX = os.path.join(DIR_FORTRAN, 'output_flux.dat')\n",
    "PATH_COOL = os.path.join(DIR_FORTRAN, 'output_coolr.dat')\n",
    "\n",
    "DS_FLUX = load_output_file(PATH_FLUX)\n",
    "DS_COOL = load_output_file(PATH_COOL)"
   ]
  },
  {
   "cell_type": "code",
   "execution_count": 7,
   "metadata": {},
   "outputs": [
    {
     "data": {
      "text/html": [
       "\n",
       "    <div class=\"bk-root\">\n",
       "        <a href=\"https://bokeh.pydata.org\" target=\"_blank\" class=\"bk-logo bk-logo-small bk-logo-notebook\"></a>\n",
       "        <span id=\"78c1ac22-bec8-453b-8255-00854b1bd4fc\">Loading BokehJS ...</span>\n",
       "    </div>"
      ]
     },
     "metadata": {},
     "output_type": "display_data"
    },
    {
     "data": {
      "application/javascript": [
       "\n",
       "(function(root) {\n",
       "  function now() {\n",
       "    return new Date();\n",
       "  }\n",
       "\n",
       "  var force = true;\n",
       "\n",
       "  if (typeof (root._bokeh_onload_callbacks) === \"undefined\" || force === true) {\n",
       "    root._bokeh_onload_callbacks = [];\n",
       "    root._bokeh_is_loading = undefined;\n",
       "  }\n",
       "\n",
       "  var JS_MIME_TYPE = 'application/javascript';\n",
       "  var HTML_MIME_TYPE = 'text/html';\n",
       "  var EXEC_MIME_TYPE = 'application/vnd.bokehjs_exec.v0+json';\n",
       "  var CLASS_NAME = 'output_bokeh rendered_html';\n",
       "\n",
       "  /**\n",
       "   * Render data to the DOM node\n",
       "   */\n",
       "  function render(props, node) {\n",
       "    var script = document.createElement(\"script\");\n",
       "    node.appendChild(script);\n",
       "  }\n",
       "\n",
       "  /**\n",
       "   * Handle when an output is cleared or removed\n",
       "   */\n",
       "  function handleClearOutput(event, handle) {\n",
       "    var cell = handle.cell;\n",
       "\n",
       "    var id = cell.output_area._bokeh_element_id;\n",
       "    var server_id = cell.output_area._bokeh_server_id;\n",
       "    // Clean up Bokeh references\n",
       "    if (id !== undefined) {\n",
       "      Bokeh.index[id].model.document.clear();\n",
       "      delete Bokeh.index[id];\n",
       "    }\n",
       "\n",
       "    if (server_id !== undefined) {\n",
       "      // Clean up Bokeh references\n",
       "      var cmd = \"from bokeh.io.state import curstate; print(curstate().uuid_to_server['\" + server_id + \"'].get_sessions()[0].document.roots[0]._id)\";\n",
       "      cell.notebook.kernel.execute(cmd, {\n",
       "        iopub: {\n",
       "          output: function(msg) {\n",
       "            var element_id = msg.content.text.trim();\n",
       "            Bokeh.index[element_id].model.document.clear();\n",
       "            delete Bokeh.index[element_id];\n",
       "          }\n",
       "        }\n",
       "      });\n",
       "      // Destroy server and session\n",
       "      var cmd = \"import bokeh.io.notebook as ion; ion.destroy_server('\" + server_id + \"')\";\n",
       "      cell.notebook.kernel.execute(cmd);\n",
       "    }\n",
       "  }\n",
       "\n",
       "  /**\n",
       "   * Handle when a new output is added\n",
       "   */\n",
       "  function handleAddOutput(event, handle) {\n",
       "    var output_area = handle.output_area;\n",
       "    var output = handle.output;\n",
       "\n",
       "    // limit handleAddOutput to display_data with EXEC_MIME_TYPE content only\n",
       "    if ((output.output_type != \"display_data\") || (!output.data.hasOwnProperty(EXEC_MIME_TYPE))) {\n",
       "      return\n",
       "    }\n",
       "\n",
       "    var toinsert = output_area.element.find(\".\" + CLASS_NAME.split(' ')[0]);\n",
       "\n",
       "    if (output.metadata[EXEC_MIME_TYPE][\"id\"] !== undefined) {\n",
       "      toinsert[0].firstChild.textContent = output.data[JS_MIME_TYPE];\n",
       "      // store reference to embed id on output_area\n",
       "      output_area._bokeh_element_id = output.metadata[EXEC_MIME_TYPE][\"id\"];\n",
       "    }\n",
       "    if (output.metadata[EXEC_MIME_TYPE][\"server_id\"] !== undefined) {\n",
       "      var bk_div = document.createElement(\"div\");\n",
       "      bk_div.innerHTML = output.data[HTML_MIME_TYPE];\n",
       "      var script_attrs = bk_div.children[0].attributes;\n",
       "      for (var i = 0; i < script_attrs.length; i++) {\n",
       "        toinsert[0].firstChild.setAttribute(script_attrs[i].name, script_attrs[i].value);\n",
       "      }\n",
       "      // store reference to server id on output_area\n",
       "      output_area._bokeh_server_id = output.metadata[EXEC_MIME_TYPE][\"server_id\"];\n",
       "    }\n",
       "  }\n",
       "\n",
       "  function register_renderer(events, OutputArea) {\n",
       "\n",
       "    function append_mime(data, metadata, element) {\n",
       "      // create a DOM node to render to\n",
       "      var toinsert = this.create_output_subarea(\n",
       "        metadata,\n",
       "        CLASS_NAME,\n",
       "        EXEC_MIME_TYPE\n",
       "      );\n",
       "      this.keyboard_manager.register_events(toinsert);\n",
       "      // Render to node\n",
       "      var props = {data: data, metadata: metadata[EXEC_MIME_TYPE]};\n",
       "      render(props, toinsert[0]);\n",
       "      element.append(toinsert);\n",
       "      return toinsert\n",
       "    }\n",
       "\n",
       "    /* Handle when an output is cleared or removed */\n",
       "    events.on('clear_output.CodeCell', handleClearOutput);\n",
       "    events.on('delete.Cell', handleClearOutput);\n",
       "\n",
       "    /* Handle when a new output is added */\n",
       "    events.on('output_added.OutputArea', handleAddOutput);\n",
       "\n",
       "    /**\n",
       "     * Register the mime type and append_mime function with output_area\n",
       "     */\n",
       "    OutputArea.prototype.register_mime_type(EXEC_MIME_TYPE, append_mime, {\n",
       "      /* Is output safe? */\n",
       "      safe: true,\n",
       "      /* Index of renderer in `output_area.display_order` */\n",
       "      index: 0\n",
       "    });\n",
       "  }\n",
       "\n",
       "  // register the mime type if in Jupyter Notebook environment and previously unregistered\n",
       "  if (root.Jupyter !== undefined) {\n",
       "    var events = require('base/js/events');\n",
       "    var OutputArea = require('notebook/js/outputarea').OutputArea;\n",
       "\n",
       "    if (OutputArea.prototype.mime_types().indexOf(EXEC_MIME_TYPE) == -1) {\n",
       "      register_renderer(events, OutputArea);\n",
       "    }\n",
       "  }\n",
       "\n",
       "  \n",
       "  if (typeof (root._bokeh_timeout) === \"undefined\" || force === true) {\n",
       "    root._bokeh_timeout = Date.now() + 5000;\n",
       "    root._bokeh_failed_load = false;\n",
       "  }\n",
       "\n",
       "  var NB_LOAD_WARNING = {'data': {'text/html':\n",
       "     \"<div style='background-color: #fdd'>\\n\"+\n",
       "     \"<p>\\n\"+\n",
       "     \"BokehJS does not appear to have successfully loaded. If loading BokehJS from CDN, this \\n\"+\n",
       "     \"may be due to a slow or bad network connection. Possible fixes:\\n\"+\n",
       "     \"</p>\\n\"+\n",
       "     \"<ul>\\n\"+\n",
       "     \"<li>re-rerun `output_notebook()` to attempt to load from CDN again, or</li>\\n\"+\n",
       "     \"<li>use INLINE resources instead, as so:</li>\\n\"+\n",
       "     \"</ul>\\n\"+\n",
       "     \"<code>\\n\"+\n",
       "     \"from bokeh.resources import INLINE\\n\"+\n",
       "     \"output_notebook(resources=INLINE)\\n\"+\n",
       "     \"</code>\\n\"+\n",
       "     \"</div>\"}};\n",
       "\n",
       "  function display_loaded() {\n",
       "    var el = document.getElementById(\"78c1ac22-bec8-453b-8255-00854b1bd4fc\");\n",
       "    if (el != null) {\n",
       "      el.textContent = \"BokehJS is loading...\";\n",
       "    }\n",
       "    if (root.Bokeh !== undefined) {\n",
       "      if (el != null) {\n",
       "        el.textContent = \"BokehJS \" + root.Bokeh.version + \" successfully loaded.\";\n",
       "      }\n",
       "    } else if (Date.now() < root._bokeh_timeout) {\n",
       "      setTimeout(display_loaded, 100)\n",
       "    }\n",
       "  }\n",
       "\n",
       "\n",
       "  function run_callbacks() {\n",
       "    try {\n",
       "      root._bokeh_onload_callbacks.forEach(function(callback) { callback() });\n",
       "    }\n",
       "    finally {\n",
       "      delete root._bokeh_onload_callbacks\n",
       "    }\n",
       "    console.info(\"Bokeh: all callbacks have finished\");\n",
       "  }\n",
       "\n",
       "  function load_libs(js_urls, callback) {\n",
       "    root._bokeh_onload_callbacks.push(callback);\n",
       "    if (root._bokeh_is_loading > 0) {\n",
       "      console.log(\"Bokeh: BokehJS is being loaded, scheduling callback at\", now());\n",
       "      return null;\n",
       "    }\n",
       "    if (js_urls == null || js_urls.length === 0) {\n",
       "      run_callbacks();\n",
       "      return null;\n",
       "    }\n",
       "    console.log(\"Bokeh: BokehJS not loaded, scheduling load and callback at\", now());\n",
       "    root._bokeh_is_loading = js_urls.length;\n",
       "    for (var i = 0; i < js_urls.length; i++) {\n",
       "      var url = js_urls[i];\n",
       "      var s = document.createElement('script');\n",
       "      s.src = url;\n",
       "      s.async = false;\n",
       "      s.onreadystatechange = s.onload = function() {\n",
       "        root._bokeh_is_loading--;\n",
       "        if (root._bokeh_is_loading === 0) {\n",
       "          console.log(\"Bokeh: all BokehJS libraries loaded\");\n",
       "          run_callbacks()\n",
       "        }\n",
       "      };\n",
       "      s.onerror = function() {\n",
       "        console.warn(\"failed to load library \" + url);\n",
       "      };\n",
       "      console.log(\"Bokeh: injecting script tag for BokehJS library: \", url);\n",
       "      document.getElementsByTagName(\"head\")[0].appendChild(s);\n",
       "    }\n",
       "  };var element = document.getElementById(\"78c1ac22-bec8-453b-8255-00854b1bd4fc\");\n",
       "  if (element == null) {\n",
       "    console.log(\"Bokeh: ERROR: autoload.js configured with elementid '78c1ac22-bec8-453b-8255-00854b1bd4fc' but no matching script tag was found. \")\n",
       "    return false;\n",
       "  }\n",
       "\n",
       "  var js_urls = [\"https://cdn.pydata.org/bokeh/release/bokeh-0.12.14.min.js\", \"https://cdn.pydata.org/bokeh/release/bokeh-widgets-0.12.14.min.js\", \"https://cdn.pydata.org/bokeh/release/bokeh-tables-0.12.14.min.js\", \"https://cdn.pydata.org/bokeh/release/bokeh-gl-0.12.14.min.js\"];\n",
       "\n",
       "  var inline_js = [\n",
       "    function(Bokeh) {\n",
       "      Bokeh.set_log_level(\"info\");\n",
       "    },\n",
       "    \n",
       "    function(Bokeh) {\n",
       "      \n",
       "    },\n",
       "    function(Bokeh) {\n",
       "      console.log(\"Bokeh: injecting CSS: https://cdn.pydata.org/bokeh/release/bokeh-0.12.14.min.css\");\n",
       "      Bokeh.embed.inject_css(\"https://cdn.pydata.org/bokeh/release/bokeh-0.12.14.min.css\");\n",
       "      console.log(\"Bokeh: injecting CSS: https://cdn.pydata.org/bokeh/release/bokeh-widgets-0.12.14.min.css\");\n",
       "      Bokeh.embed.inject_css(\"https://cdn.pydata.org/bokeh/release/bokeh-widgets-0.12.14.min.css\");\n",
       "      console.log(\"Bokeh: injecting CSS: https://cdn.pydata.org/bokeh/release/bokeh-tables-0.12.14.min.css\");\n",
       "      Bokeh.embed.inject_css(\"https://cdn.pydata.org/bokeh/release/bokeh-tables-0.12.14.min.css\");\n",
       "    }\n",
       "  ];\n",
       "\n",
       "  function run_inline_js() {\n",
       "    \n",
       "    if ((root.Bokeh !== undefined) || (force === true)) {\n",
       "      for (var i = 0; i < inline_js.length; i++) {\n",
       "        inline_js[i].call(root, root.Bokeh);\n",
       "      }if (force === true) {\n",
       "        display_loaded();\n",
       "      }} else if (Date.now() < root._bokeh_timeout) {\n",
       "      setTimeout(run_inline_js, 100);\n",
       "    } else if (!root._bokeh_failed_load) {\n",
       "      console.log(\"Bokeh: BokehJS failed to load within specified timeout.\");\n",
       "      root._bokeh_failed_load = true;\n",
       "    } else if (force !== true) {\n",
       "      var cell = $(document.getElementById(\"78c1ac22-bec8-453b-8255-00854b1bd4fc\")).parents('.cell').data().cell;\n",
       "      cell.output_area.append_execute_result(NB_LOAD_WARNING)\n",
       "    }\n",
       "\n",
       "  }\n",
       "\n",
       "  if (root._bokeh_is_loading === 0) {\n",
       "    console.log(\"Bokeh: BokehJS loaded, going straight to plotting\");\n",
       "    run_inline_js();\n",
       "  } else {\n",
       "    load_libs(js_urls, function() {\n",
       "      console.log(\"Bokeh: BokehJS plotting callback run at\", now());\n",
       "      run_inline_js();\n",
       "    });\n",
       "  }\n",
       "}(window));"
      ],
      "application/vnd.bokehjs_load.v0+json": "\n(function(root) {\n  function now() {\n    return new Date();\n  }\n\n  var force = true;\n\n  if (typeof (root._bokeh_onload_callbacks) === \"undefined\" || force === true) {\n    root._bokeh_onload_callbacks = [];\n    root._bokeh_is_loading = undefined;\n  }\n\n  \n\n  \n  if (typeof (root._bokeh_timeout) === \"undefined\" || force === true) {\n    root._bokeh_timeout = Date.now() + 5000;\n    root._bokeh_failed_load = false;\n  }\n\n  var NB_LOAD_WARNING = {'data': {'text/html':\n     \"<div style='background-color: #fdd'>\\n\"+\n     \"<p>\\n\"+\n     \"BokehJS does not appear to have successfully loaded. If loading BokehJS from CDN, this \\n\"+\n     \"may be due to a slow or bad network connection. Possible fixes:\\n\"+\n     \"</p>\\n\"+\n     \"<ul>\\n\"+\n     \"<li>re-rerun `output_notebook()` to attempt to load from CDN again, or</li>\\n\"+\n     \"<li>use INLINE resources instead, as so:</li>\\n\"+\n     \"</ul>\\n\"+\n     \"<code>\\n\"+\n     \"from bokeh.resources import INLINE\\n\"+\n     \"output_notebook(resources=INLINE)\\n\"+\n     \"</code>\\n\"+\n     \"</div>\"}};\n\n  function display_loaded() {\n    var el = document.getElementById(\"78c1ac22-bec8-453b-8255-00854b1bd4fc\");\n    if (el != null) {\n      el.textContent = \"BokehJS is loading...\";\n    }\n    if (root.Bokeh !== undefined) {\n      if (el != null) {\n        el.textContent = \"BokehJS \" + root.Bokeh.version + \" successfully loaded.\";\n      }\n    } else if (Date.now() < root._bokeh_timeout) {\n      setTimeout(display_loaded, 100)\n    }\n  }\n\n\n  function run_callbacks() {\n    try {\n      root._bokeh_onload_callbacks.forEach(function(callback) { callback() });\n    }\n    finally {\n      delete root._bokeh_onload_callbacks\n    }\n    console.info(\"Bokeh: all callbacks have finished\");\n  }\n\n  function load_libs(js_urls, callback) {\n    root._bokeh_onload_callbacks.push(callback);\n    if (root._bokeh_is_loading > 0) {\n      console.log(\"Bokeh: BokehJS is being loaded, scheduling callback at\", now());\n      return null;\n    }\n    if (js_urls == null || js_urls.length === 0) {\n      run_callbacks();\n      return null;\n    }\n    console.log(\"Bokeh: BokehJS not loaded, scheduling load and callback at\", now());\n    root._bokeh_is_loading = js_urls.length;\n    for (var i = 0; i < js_urls.length; i++) {\n      var url = js_urls[i];\n      var s = document.createElement('script');\n      s.src = url;\n      s.async = false;\n      s.onreadystatechange = s.onload = function() {\n        root._bokeh_is_loading--;\n        if (root._bokeh_is_loading === 0) {\n          console.log(\"Bokeh: all BokehJS libraries loaded\");\n          run_callbacks()\n        }\n      };\n      s.onerror = function() {\n        console.warn(\"failed to load library \" + url);\n      };\n      console.log(\"Bokeh: injecting script tag for BokehJS library: \", url);\n      document.getElementsByTagName(\"head\")[0].appendChild(s);\n    }\n  };var element = document.getElementById(\"78c1ac22-bec8-453b-8255-00854b1bd4fc\");\n  if (element == null) {\n    console.log(\"Bokeh: ERROR: autoload.js configured with elementid '78c1ac22-bec8-453b-8255-00854b1bd4fc' but no matching script tag was found. \")\n    return false;\n  }\n\n  var js_urls = [\"https://cdn.pydata.org/bokeh/release/bokeh-0.12.14.min.js\", \"https://cdn.pydata.org/bokeh/release/bokeh-widgets-0.12.14.min.js\", \"https://cdn.pydata.org/bokeh/release/bokeh-tables-0.12.14.min.js\", \"https://cdn.pydata.org/bokeh/release/bokeh-gl-0.12.14.min.js\"];\n\n  var inline_js = [\n    function(Bokeh) {\n      Bokeh.set_log_level(\"info\");\n    },\n    \n    function(Bokeh) {\n      \n    },\n    function(Bokeh) {\n      console.log(\"Bokeh: injecting CSS: https://cdn.pydata.org/bokeh/release/bokeh-0.12.14.min.css\");\n      Bokeh.embed.inject_css(\"https://cdn.pydata.org/bokeh/release/bokeh-0.12.14.min.css\");\n      console.log(\"Bokeh: injecting CSS: https://cdn.pydata.org/bokeh/release/bokeh-widgets-0.12.14.min.css\");\n      Bokeh.embed.inject_css(\"https://cdn.pydata.org/bokeh/release/bokeh-widgets-0.12.14.min.css\");\n      console.log(\"Bokeh: injecting CSS: https://cdn.pydata.org/bokeh/release/bokeh-tables-0.12.14.min.css\");\n      Bokeh.embed.inject_css(\"https://cdn.pydata.org/bokeh/release/bokeh-tables-0.12.14.min.css\");\n    }\n  ];\n\n  function run_inline_js() {\n    \n    if ((root.Bokeh !== undefined) || (force === true)) {\n      for (var i = 0; i < inline_js.length; i++) {\n        inline_js[i].call(root, root.Bokeh);\n      }if (force === true) {\n        display_loaded();\n      }} else if (Date.now() < root._bokeh_timeout) {\n      setTimeout(run_inline_js, 100);\n    } else if (!root._bokeh_failed_load) {\n      console.log(\"Bokeh: BokehJS failed to load within specified timeout.\");\n      root._bokeh_failed_load = true;\n    } else if (force !== true) {\n      var cell = $(document.getElementById(\"78c1ac22-bec8-453b-8255-00854b1bd4fc\")).parents('.cell').data().cell;\n      cell.output_area.append_execute_result(NB_LOAD_WARNING)\n    }\n\n  }\n\n  if (root._bokeh_is_loading === 0) {\n    console.log(\"Bokeh: BokehJS loaded, going straight to plotting\");\n    run_inline_js();\n  } else {\n    load_libs(js_urls, function() {\n      console.log(\"Bokeh: BokehJS plotting callback run at\", now());\n      run_inline_js();\n    });\n  }\n}(window));"
     },
     "metadata": {},
     "output_type": "display_data"
    }
   ],
   "source": [
    "output_notebook()"
   ]
  },
  {
   "cell_type": "code",
   "execution_count": 8,
   "metadata": {
    "collapsed": true
   },
   "outputs": [],
   "source": [
    "def fmt_cool(ds_in):\n",
    "    ds = ds_in.copy(deep=True)\n",
    "    if 'igg' in ds.dims:\n",
    "        ds = ds.sel(igg=1)\n",
    "\n",
    "    if 'g' in ds.dims:\n",
    "        ds = ds.sum('g')\n",
    "            \n",
    "    if 'band' in ds.dims:\n",
    "        try:\n",
    "            ds = ds.squeeze('band')\n",
    "        except ValueError:\n",
    "            ds = ds.sum('band')\n",
    "                \n",
    "    return ds['coolrg']\n",
    "\n",
    "\n",
    "def pltdata_cooling_1(ds_cool=None,\n",
    "                      ds_cool_crd=None, ds_cool_wgt=None):\n",
    "    \n",
    "\n",
    "\n",
    "    colors = all_palettes['Set1'][4]\n",
    "    data = [{'label': 'CLIRAD `coolr_bands`',\n",
    "             'srs': fmt_cool(ds_cool),\n",
    "             'line_dash': 'dashed', 'line_width': 5,\n",
    "             'color': colors[0], 'alpha': .6},\n",
    "            {'label': 'CRD',\n",
    "             'srs': fmt_cool(ds_cool_crd),\n",
    "             'line_dash': 'solid', 'line_width': 1.5,\n",
    "             'marker': 'circle', 'marker_size': 5,\n",
    "             'color': colors[2], 'alpha': 1,},\n",
    "            {'label': 'WGT igg=10 wgt_flux=2',\n",
    "             'srs': fmt_cool(ds_cool_wgt),\n",
    "             'line_dash': 'solid', 'line_width': 3,\n",
    "             'marker': 'square', 'marker_size': 5,\n",
    "             'color': colors[3], 'alpha': .6}]\n",
    "    return data\n",
    "\n",
    "\n",
    "def nice_xlims(pltdata=None, prange=None):\n",
    "    \n",
    "    def get_slice(srs):\n",
    "        return srs.sel(pressure=slice(*prange))\n",
    "    \n",
    "    srss = [d['srs'] for d in pltdata]\n",
    "    vmin = min([get_slice(srs).min() for srs in srss])\n",
    "    vmax = max([get_slice(srs).max() for srs in srss])\n",
    "    dv = (vmax - vmin) * .01\n",
    "    return float(vmin - dv), float(vmax + dv)\n",
    "    \n",
    "\n",
    "def plt_cooling_bokeh(pltdata=None):\n",
    "    '''\n",
    "    Plot a list of cooling rate profiles using bokeh.\n",
    "    '''\n",
    "    ymin = 1e-2 \n",
    "    ymax = 1020 \n",
    "        \n",
    "    p1 = figure(title=\"Linear pressure scale\", \n",
    "                plot_width=400)        \n",
    "    xmin, xmax = nice_xlims(pltdata, prange=(50, 1050))\n",
    "    for d in pltdata:\n",
    "        if 'marker' in d:\n",
    "            getattr(p1, d['marker'])(d['srs'].values, \n",
    "                    d['srs'].coords['pressure'].values,\n",
    "                    color=d['color'], alpha=.7)\n",
    "        p1.line(d['srs'].values, \n",
    "                d['srs'].coords['pressure'].values,\n",
    "                color=d['color'], alpha=d['alpha'], \n",
    "                line_width=d['line_width'], line_dash=d['line_dash'])\n",
    "    \n",
    "    p1.y_range = Range1d(ymax, ymin)\n",
    "    p1.yaxis.axis_label = 'pressure [mb]'   \n",
    "    p1.x_range = Range1d(xmin, xmax)\n",
    "    p1.xaxis.axis_label = 'cooling rate [K/day]'\n",
    "            \n",
    "    p2 = figure(title='Log pressure scale', y_axis_type='log',\n",
    "                plot_width=560)\n",
    "    xmin, xmax = nice_xlims(pltdata, prange=(.01, 200))\n",
    "    \n",
    "    rs = []\n",
    "    for d in pltdata:\n",
    "        rd = []\n",
    "        if 'marker' in d:\n",
    "            r_mark = getattr(p2, d['marker'])(d['srs'].values, \n",
    "                        d['srs'].coords['pressure'].values,\n",
    "                        color=d['color'], alpha=.7)\n",
    "            rd.append(r_mark)\n",
    "        r_line = p2.line(d['srs'].values, \n",
    "                    d['srs'].coords['pressure'].values,\n",
    "                    color=d['color'], alpha=d['alpha'], \n",
    "                    line_width=d['line_width'], line_dash=d['line_dash'])\n",
    "        rd.append(r_line)\n",
    "      \n",
    "        rs.append(rd)\n",
    "        \n",
    "    p2.y_range = Range1d(ymax, ymin)  \n",
    "    p2.yaxis.axis_label = 'pressure [mb]'\n",
    "    \n",
    "    p2.x_range = Range1d(xmin, xmax)\n",
    "    p2.xaxis.axis_label = 'cooling rate [K/day]'\n",
    "    \n",
    "    items = [(d['label'], r) for r, d in zip(rs, pltdata)]\n",
    "    legend = Legend(items=items, location=(10, -30))\n",
    "    legend.label_text_font_size = '8pt'\n",
    "    \n",
    "    p2.add_layout(legend, 'right')  \n",
    "    \n",
    "    show(gridplot(p1, p2, ncols=2, plot_height=500))\n",
    "    \n",
    "\n",
    "def script_plt_cooling():\n",
    "    pltdata = pltdata_cooling_1(\n",
    "        ds_cool=DS_COOL,\n",
    "        ds_cool_crd=DS_COOL_CRD,\n",
    "        ds_cool_wgt=DS_COOL_WGT)\n",
    "    plt_cooling_bokeh(pltdata=pltdata)\n",
    "    print('''FIGURE. Cooling rate profiles.''')"
   ]
  },
  {
   "cell_type": "code",
   "execution_count": 9,
   "metadata": {
    "collapsed": true
   },
   "outputs": [],
   "source": [
    "def fmt_flux(ds_in):\n",
    "    ds = ds_in.copy(deep=True)\n",
    "    \n",
    "    for l in ('level', 'layer'):\n",
    "        if l in ds.data_vars:\n",
    "            if len(ds[l].dims) > 1:\n",
    "                surface = {d: 0 for d in ds.dims if d != 'pressure'}\n",
    "                coord_level = ds[l][surface]\n",
    "                ds.coords[l] = ('pressure', coord_level)\n",
    "            else:\n",
    "                ds.coords[l] = ('pressure', ds[l])\n",
    "        \n",
    "    ds = ds.isel(pressure=[0, 23, -1])\n",
    "        \n",
    "    if 'igg' in ds.dims:\n",
    "        ds = ds.sel(igg=[1])\n",
    "        ds = ds.squeeze('igg').drop('igg')\n",
    "    \n",
    "    if 'g' in ds.dims:\n",
    "        ds = ds.sum('g')\n",
    "            \n",
    "    if 'band' in ds.dims:\n",
    "        try:\n",
    "            ds = ds.squeeze('band').drop('band')\n",
    "        except ValueError:\n",
    "            ds = ds.sum('band')\n",
    "                \n",
    "    df = ds.to_dataframe()\n",
    "    df = df.set_index('level', append=True)               \n",
    "    return df\n",
    "\n",
    "\n",
    "def tbdata_flux(ds_flux=None, ds_flux_crd=None, ds_flux_wgt=None):\n",
    "    ilevels = [0, 23, -1]\n",
    "            \n",
    "    benchmark = {'label': 'WGT igg=10 wgt_flux=1',\n",
    "                 'df': fmt_flux(ds_flux_wgt)}\n",
    "    \n",
    "    tbs = [{'label': 'CRD',\n",
    "            'df': fmt_flux(ds_flux_crd)},\n",
    "           {'label': 'CLIRAD',\n",
    "            'df': fmt_flux(ds_flux)}]\n",
    "    \n",
    "    data = {'benchmark': benchmark, 'others': tbs}\n",
    "    return data\n",
    "\n",
    "\n",
    "def tb_flux(tbdata=None):\n",
    "    benchmark = tbdata['benchmark']\n",
    "    others = tbdata['others']\n",
    "    \n",
    "    def show_tb(d=None):\n",
    "        display.display(d['df'])\n",
    "        print('Table.', 'Fluxes.', d['label'])\n",
    "        \n",
    "    def show_tbdiff(d0=None, d=None):\n",
    "        df = d['df']\n",
    "        df.index = d0['df'].index\n",
    "        display.display(df - d0['df'])\n",
    "        print('Table.', 'Fluxes.', \n",
    "              '({}) - ({})'.format(d['label'], d0['label']))\n",
    "        \n",
    "    show_tb(benchmark)\n",
    "    for d in others:\n",
    "        show_tb(d)\n",
    "        \n",
    "    for d in others:\n",
    "        show_tbdiff(d=d, d0=benchmark)\n",
    "        \n",
    "        \n",
    "def script_tb_flux():\n",
    "    data = tbdata_flux(ds_flux=DS_FLUX,\n",
    "                       ds_flux_crd=DS_FLUX_CRD,\n",
    "                       ds_flux_wgt=DS_FLUX_WGT)\n",
    "    tb_flux(tbdata=data)"
   ]
  },
  {
   "cell_type": "code",
   "execution_count": 10,
   "metadata": {
    "collapsed": true
   },
   "outputs": [],
   "source": [
    "def band_map():\n",
    "    '''\n",
    "    Maps spectral bands in lblnew to spectral bands in clirad.\n",
    "    '''\n",
    "    lblnew2clirad = {'1': '1',\n",
    "            '2': '2',\n",
    "            '3a': '3',\n",
    "            '3b': '4',\n",
    "            '3c': '5',\n",
    "            '4': '6', \n",
    "            '5': '7',\n",
    "            '6': '8',\n",
    "            '7': '9', \n",
    "            '8': '10',\n",
    "            '9': '11'}\n",
    "    \n",
    "    clirad2lblnew = {clirad: lblnew \n",
    "                     for lblnew, clirad in lblnew2clirad.items()}\n",
    "    return clirad2lblnew\n",
    "\n",
    "\n",
    "def gasbands():\n",
    "    bmap = band_map()\n",
    "    gases = list(PARAM['molecule'].keys())\n",
    "    \n",
    "    bands = [bmap[str(b)] for b in PARAM['band']]\n",
    "    return list(itertools.product(gases, bands))\n",
    "\n",
    "\n",
    "def print_bestfit_params():\n",
    "    print('Best-fit values for each (gas, band)')\n",
    "    print('------------------------------------')\n",
    "    for gas, band in gasbands():\n",
    "        print('o {} band{}'.format(gas, band))\n",
    "        param = bestfits.kdist_params(molecule=gas, band=band)\n",
    "        for name, value in param.items():\n",
    "            print(2 * ' ' + '{} = {}'.format(name, value))\n",
    "\n",
    "        \n",
    "def print_input_param():        \n",
    "    for name, value in PARAM.items():\n",
    "        print('{} = {}'.format(name, value))\n",
    "        \n",
    "        \n",
    "def print_lblnew_param():\n",
    "    for name, value in PARAM_LBLNEW.items():\n",
    "        print('{} = {}'.format(name, value))\n"
   ]
  },
  {
   "cell_type": "code",
   "execution_count": 11,
   "metadata": {
    "collapsed": true,
    "scrolled": false
   },
   "outputs": [],
   "source": [
    "def show_html(s):\n",
    "    display.display(display.HTML(s))\n",
    "\n",
    "    \n",
    "def show_markdown(s):\n",
    "    display.display(display.Markdown(s))\n",
    "\n",
    "    \n",
    "def script():\n",
    "    \n",
    "    title = '### CLIRAD-LW'\n",
    "    s_input = 'Input Parameters'\n",
    "    s_lblnew_param = 'LBLNEW case compaired against'\n",
    "    s_bestfits = 'Best-fit Parameters'\n",
    "    s_plt_cooling = 'Cooling Rate Profiles'\n",
    "    s_tb_flux = 'Flux Comparison'\n",
    "    \n",
    "    # title\n",
    "    show_markdown('### CLIRAD-LW')\n",
    "    \n",
    "    # TOC\n",
    "    show_markdown('### Table of Contents')\n",
    "    show_html(climahtml.getHTML_hrefanchor(s_input))\n",
    "    show_html(climahtml.getHTML_hrefanchor(s_lblnew_param))\n",
    "    show_html(climahtml.getHTML_hrefanchor(s_plt_cooling))\n",
    "    show_html(climahtml.getHTML_hrefanchor(s_tb_flux))\n",
    "    show_html(climahtml.getHTML_hrefanchor(s_bestfits))\n",
    "    \n",
    "    # Input parameters\n",
    "    show_html(climahtml.getHTML_idanchor(s_input))\n",
    "    show_markdown(climahtml.getMarkdown_sectitle(s_input))\n",
    "    print_input_param()\n",
    "    \n",
    "    # LBLNEW parameters \n",
    "    show_html(climahtml.getHTML_idanchor(s_lblnew_param))\n",
    "    show_markdown(climahtml.getMarkdown_sectitle(s_lblnew_param))\n",
    "    print_lblnew_param()\n",
    "    \n",
    "    # Cooling rate profiles\n",
    "    show_html(climahtml.getHTML_idanchor(s_plt_cooling))\n",
    "    show_markdown(climahtml.getMarkdown_sectitle(s_plt_cooling))\n",
    "    script_plt_cooling()\n",
    "    \n",
    "    # Flux comparison\n",
    "    show_html(climahtml.getHTML_idanchor(s_tb_flux))\n",
    "    show_markdown(climahtml.getMarkdown_sectitle(s_tb_flux))\n",
    "    script_tb_flux()\n",
    "    \n",
    "    # Best-fit values\n",
    "    show_html(climahtml.getHTML_idanchor(s_bestfits))\n",
    "    show_markdown(climahtml.getMarkdown_sectitle(s_bestfits))\n",
    "    print_bestfit_params()\n",
    "   \n",
    "    "
   ]
  },
  {
   "cell_type": "code",
   "execution_count": 12,
   "metadata": {
    "scrolled": false
   },
   "outputs": [
    {
     "data": {
      "text/markdown": [
       "### CLIRAD-LW"
      ],
      "text/plain": [
       "<IPython.core.display.Markdown object>"
      ]
     },
     "metadata": {},
     "output_type": "display_data"
    },
    {
     "data": {
      "text/markdown": [
       "### Table of Contents"
      ],
      "text/plain": [
       "<IPython.core.display.Markdown object>"
      ]
     },
     "metadata": {},
     "output_type": "display_data"
    },
    {
     "data": {
      "text/html": [
       "<a href=\"#Input_Parameters\">Input Parameters</a>"
      ],
      "text/plain": [
       "<IPython.core.display.HTML object>"
      ]
     },
     "metadata": {},
     "output_type": "display_data"
    },
    {
     "data": {
      "text/html": [
       "<a href=\"#LBLNEW_case_compaired_against\">LBLNEW case compaired against</a>"
      ],
      "text/plain": [
       "<IPython.core.display.HTML object>"
      ]
     },
     "metadata": {},
     "output_type": "display_data"
    },
    {
     "data": {
      "text/html": [
       "<a href=\"#Cooling_Rate_Profiles\">Cooling Rate Profiles</a>"
      ],
      "text/plain": [
       "<IPython.core.display.HTML object>"
      ]
     },
     "metadata": {},
     "output_type": "display_data"
    },
    {
     "data": {
      "text/html": [
       "<a href=\"#Flux_Comparison\">Flux Comparison</a>"
      ],
      "text/plain": [
       "<IPython.core.display.HTML object>"
      ]
     },
     "metadata": {},
     "output_type": "display_data"
    },
    {
     "data": {
      "text/html": [
       "<a href=\"#Best-fit_Parameters\">Best-fit Parameters</a>"
      ],
      "text/plain": [
       "<IPython.core.display.HTML object>"
      ]
     },
     "metadata": {},
     "output_type": "display_data"
    },
    {
     "data": {
      "text/html": [
       "<a id=\"Input_Parameters\"></a>"
      ],
      "text/plain": [
       "<IPython.core.display.HTML object>"
      ]
     },
     "metadata": {},
     "output_type": "display_data"
    },
    {
     "data": {
      "text/markdown": [
       "# Input Parameters"
      ],
      "text/plain": [
       "<IPython.core.display.Markdown object>"
      ]
     },
     "metadata": {},
     "output_type": "display_data"
    },
    {
     "name": "stdout",
     "output_type": "stream",
     "text": [
      "atmpro = mls\n",
      "band = [2]\n",
      "commitnumber = 7a7a0e1\n",
      "molecule = {'h2o': 'atmpro'}\n",
      "tsfc = 294\n"
     ]
    },
    {
     "data": {
      "text/html": [
       "<a id=\"LBLNEW_case_compaired_against\"></a>"
      ],
      "text/plain": [
       "<IPython.core.display.HTML object>"
      ]
     },
     "metadata": {},
     "output_type": "display_data"
    },
    {
     "data": {
      "text/markdown": [
       "# LBLNEW case compaired against"
      ],
      "text/plain": [
       "<IPython.core.display.Markdown object>"
      ]
     },
     "metadata": {},
     "output_type": "display_data"
    },
    {
     "name": "stdout",
     "output_type": "stream",
     "text": [
      "molecule = h2o\n",
      "band = 2\n",
      "commitnumber = d62b618\n",
      "vmin = 340\n",
      "vmax = 540\n",
      "dv = 0.001\n",
      "nv = 1000\n",
      "ref_pts = [(1, 250), (10, 250), (500, 250)]\n",
      "ng_refs = [2, 3, 6]\n",
      "ng_adju = [-2, -2, 0]\n",
      "klin = 0\n",
      "option_wgt_k = 1\n",
      "wgt = [(0.6, 0.6), (0.6, 0.6, 0.6), (0.6, 0.6, 0.6, 0.6, 0.6, 0.6)]\n",
      "w_diffuse = [(1.66, 1.66), (1.8, 1.8, 1.8), (1.8, 1.66, 1.45, 1.45, 1.45, 1.45)]\n",
      "option_wgt_flux = 1\n",
      "atmpro = mls\n",
      "tsfc = 294\n",
      "conc = None\n",
      "option_compute_btable = 0\n",
      "option_compute_ktable = 1\n"
     ]
    },
    {
     "data": {
      "text/html": [
       "<a id=\"Cooling_Rate_Profiles\"></a>"
      ],
      "text/plain": [
       "<IPython.core.display.HTML object>"
      ]
     },
     "metadata": {},
     "output_type": "display_data"
    },
    {
     "data": {
      "text/markdown": [
       "# Cooling Rate Profiles"
      ],
      "text/plain": [
       "<IPython.core.display.Markdown object>"
      ]
     },
     "metadata": {},
     "output_type": "display_data"
    },
    {
     "data": {
      "text/html": [
       "\n",
       "<div class=\"bk-root\">\n",
       "    <div class=\"bk-plotdiv\" id=\"b72f4bd5-de06-4949-b9bf-9d5086c8267a\"></div>\n",
       "</div>"
      ]
     },
     "metadata": {},
     "output_type": "display_data"
    },
    {
     "data": {
      "application/javascript": [
       "(function(root) {\n",
       "  function embed_document(root) {\n",
       "    \n",
       "  var docs_json = {\"06aec309-3297-4ca5-af49-fac49bd5d4af\":{\"roots\":{\"references\":[{\"attributes\":{\"data_source\":{\"id\":\"3b3318fb-b61a-4b5c-8a53-a2b760fb90b5\",\"type\":\"ColumnDataSource\"},\"glyph\":{\"id\":\"1a6fada0-1377-4ed7-93ba-f38750e70576\",\"type\":\"Line\"},\"hover_glyph\":null,\"muted_glyph\":null,\"nonselection_glyph\":{\"id\":\"13db0cc4-2690-4b21-990a-8a5bbcb7361a\",\"type\":\"Line\"},\"selection_glyph\":null,\"view\":{\"id\":\"a62b23a9-c11b-4db0-8f7f-bbf8af847e47\",\"type\":\"CDSView\"}},\"id\":\"e89b4373-8fae-4be3-9905-6338c4c3d61f\",\"type\":\"GlyphRenderer\"},{\"attributes\":{},\"id\":\"a4d0e77f-1ce0-4098-94d0-e1e93ae0ced7\",\"type\":\"BasicTickFormatter\"},{\"attributes\":{\"callback\":null,\"column_names\":[\"x\",\"y\"],\"data\":{\"x\":{\"__ndarray__\":\"afzjOTJBwz9UglGLuVLDP0bcc8vUxcM/vlJUBbwvxD/vTJERiozEP9C1cbzps8Q/oZE6x6H6xD/hJw6g3/fEP9qPVq0z28Q/OcWZFUBnxD8k6WAerqzDP1nEbqfGrsI/kJf7BTcpwT9MuS1XYES+P8RyUxxqiLs/7WX8d1Rnvj//3Y6ydkLCP1Lcp5mk6MQ/TwxFkSAixz/roH1yNa7IPxZNiDVsxso/EIwHhGsozj964yD4SqbQP0gvDz45r80//C4yIs0vxj8K071v+DTBP4/a7UgvSbw/wyhFgfc7uD8j5D2ApXC1P1/DX9VRPLM/saCvp70LsT/jWCubuKOtP4Dszyfta6o/73mgQ1CdqD+BAVmPyGWmP6dMUBT/r6M/h9jDC+A1oj+9nFvmSdmhP+kYkr4JuKA/fr/x5aCsoD8Rk4QFdoOtP9eGzI3QbMU/eIHtu33x1D/IwdedDwvgP05PUHG5LeU/THCH2Q1T5j9ky1Wg1MbmP4OsAhDSruc/ZzJWevHu6D/NFtauhVDqP4yw0QcFxOs/uPeZSKOB7D95G0BkNu3sP85cdVdVM+0/TjgmUVBG7T9RrCpmSiztP4P7nuRQ9+w/l1y9ce+t7T/ZmkqSKZftPzBlv3Kti+w/zMkwk03e6j8A8alSadroPyA0km98juY/00Be1Xo75D+IBSk+X6/hPwOGOBji/94/lCYxSsgu2z++qcRMDbrXP0PVXCwUQtQ/42gS5aB+0D+i++a8zp/KP05IpbfDz8U/RZ9NFhC9wT+7Jb2Y+x6/P+4VJwhobMg/\",\"dtype\":\"float64\",\"shape\":[75]},\"y\":{\"__ndarray__\":\"GhExyth1ND/Sv8nbtpRIP2vylNV0PVE/aTum7souWD/At0SJ8fVgPw3Iuahxymc/MSNhhJWvcD/bTfBN02d3P2zb5nxnaoA/CD5h5MAGhz8NmeH1TyaQP+zrCsc9p5Y/LbKd76fGnz/bLW5ISEmmPww9YvTcQq8/JV2OstnstT8Er5Y7M8G+P0c+r3jqkcU/5h99k6ZBzj88bCIzFzjVP4enV8oyxN0//yH99nXg5D8qOpLLf0jtP5kqGJXUifQ/c9cS8kHP/D+/DpwzojQEQIEmwoanVwxA4lgXt9HgE0BSSZ2AJuIbQAMJih9jjiNA5q4l5INuK0AwTKYKRj0zQNv5fmq8/DpAaCJseHrtQkB/+zpwzoxKQM3MzMzMeFJAZmZmZmZqWEAAAAAAAFxeQM3MzMzMJmJAmpmZmZkfZUBmZmZmZhhoQDMzMzMzEWtAAAAAAAAKbkBmZmZmZoFwQM3MzMzM/XFAMzMzMzN6c0CamZmZmfZ0QAAAAAAAc3ZAZmZmZmbvd0DNzMzMzGt5QDMzMzMz6HpAmpmZmZlkfEAAAAAAAOF9QGZmZmZmXX9AZmZmZuZsgECamZmZGSuBQM3MzMxM6YFAAAAAAICngkAzMzMzs2WDQGZmZmbmI4RAmpmZmRnihEDNzMzMTKCFQAAAAACAXoZAMzMzM7Mch0BmZmZm5tqHQJqZmZkZmYhAzczMzExXiUAAAAAAgBWKQDMzMzOz04pAZmZmZuaRi0CamZmZGVCMQM3MzMxMDo1AAAAAAIDMjUAzMzMzs4qOQGZmZmbmSI9A\",\"dtype\":\"float64\",\"shape\":[75]}}},\"id\":\"60a927c0-12d4-40a0-8176-81c60773b3f8\",\"type\":\"ColumnDataSource\"},{\"attributes\":{\"plot\":{\"id\":\"7443e7d0-137d-4659-b905-e7254529872e\",\"subtype\":\"Figure\",\"type\":\"Plot\"},\"ticker\":{\"id\":\"7b6201a1-5273-42ad-9475-f72146b049fc\",\"type\":\"BasicTicker\"}},\"id\":\"be5ae32d-efc5-4c72-8564-c68dd5dba794\",\"type\":\"Grid\"},{\"attributes\":{\"callback\":null,\"column_names\":[\"x\",\"y\"],\"data\":{\"x\":{\"__ndarray__\":\"afzjOTJBwz9UglGLuVLDP0bcc8vUxcM/vlJUBbwvxD/vTJERiozEP9C1cbzps8Q/oZE6x6H6xD/hJw6g3/fEP9qPVq0z28Q/OcWZFUBnxD8k6WAerqzDP1nEbqfGrsI/kJf7BTcpwT9MuS1XYES+P8RyUxxqiLs/7WX8d1Rnvj//3Y6ydkLCP1Lcp5mk6MQ/TwxFkSAixz/roH1yNa7IPxZNiDVsxso/EIwHhGsozj964yD4SqbQP0gvDz45r80//C4yIs0vxj8K071v+DTBP4/a7UgvSbw/wyhFgfc7uD8j5D2ApXC1P1/DX9VRPLM/saCvp70LsT/jWCubuKOtP4Dszyfta6o/73mgQ1CdqD+BAVmPyGWmP6dMUBT/r6M/h9jDC+A1oj+9nFvmSdmhP+kYkr4JuKA/fr/x5aCsoD8Rk4QFdoOtP9eGzI3QbMU/eIHtu33x1D/IwdedDwvgP05PUHG5LeU/THCH2Q1T5j9ky1Wg1MbmP4OsAhDSruc/ZzJWevHu6D/NFtauhVDqP4yw0QcFxOs/uPeZSKOB7D95G0BkNu3sP85cdVdVM+0/TjgmUVBG7T9RrCpmSiztP4P7nuRQ9+w/l1y9ce+t7T/ZmkqSKZftPzBlv3Kti+w/zMkwk03e6j8A8alSadroPyA0km98juY/00Be1Xo75D+IBSk+X6/hPwOGOBji/94/lCYxSsgu2z++qcRMDbrXP0PVXCwUQtQ/42gS5aB+0D+i++a8zp/KP05IpbfDz8U/RZ9NFhC9wT+7Jb2Y+x6/P+4VJwhobMg/\",\"dtype\":\"float64\",\"shape\":[75]},\"y\":{\"__ndarray__\":\"GhExyth1ND/Sv8nbtpRIP2vylNV0PVE/aTum7souWD/At0SJ8fVgPw3Iuahxymc/MSNhhJWvcD/bTfBN02d3P2zb5nxnaoA/CD5h5MAGhz8NmeH1TyaQP+zrCsc9p5Y/LbKd76fGnz/bLW5ISEmmPww9YvTcQq8/JV2OstnstT8Er5Y7M8G+P0c+r3jqkcU/5h99k6ZBzj88bCIzFzjVP4enV8oyxN0//yH99nXg5D8qOpLLf0jtP5kqGJXUifQ/c9cS8kHP/D+/DpwzojQEQIEmwoanVwxA4lgXt9HgE0BSSZ2AJuIbQAMJih9jjiNA5q4l5INuK0AwTKYKRj0zQNv5fmq8/DpAaCJseHrtQkB/+zpwzoxKQM3MzMzMeFJAZmZmZmZqWEAAAAAAAFxeQM3MzMzMJmJAmpmZmZkfZUBmZmZmZhhoQDMzMzMzEWtAAAAAAAAKbkBmZmZmZoFwQM3MzMzM/XFAMzMzMzN6c0CamZmZmfZ0QAAAAAAAc3ZAZmZmZmbvd0DNzMzMzGt5QDMzMzMz6HpAmpmZmZlkfEAAAAAAAOF9QGZmZmZmXX9AZmZmZuZsgECamZmZGSuBQM3MzMxM6YFAAAAAAICngkAzMzMzs2WDQGZmZmbmI4RAmpmZmRnihEDNzMzMTKCFQAAAAACAXoZAMzMzM7Mch0BmZmZm5tqHQJqZmZkZmYhAzczMzExXiUAAAAAAgBWKQDMzMzOz04pAZmZmZuaRi0CamZmZGVCMQM3MzMxMDo1AAAAAAIDMjUAzMzMzs4qOQGZmZmbmSI9A\",\"dtype\":\"float64\",\"shape\":[75]}}},\"id\":\"80670844-4df5-4ece-83bd-03cfedb9c6a0\",\"type\":\"ColumnDataSource\"},{\"attributes\":{\"callback\":null,\"column_names\":[\"x\",\"y\"],\"data\":{\"x\":{\"__ndarray__\":\"CGeGsVijuj/T5wLNV+i6PwuONUa0y7s/gtsUFTCrvD8km2CCBoa9P6SUpJ9DQb4/nixfE9nMvj9iRotACQq/P/ylkvxeML8/OLnRZH4tvz+z6b9KQLK+P3oL7cTme70/xzzVXDWeuz9euPHLvwq5Pxmkij1ijbc/nurPsjENuz/y1c2zKdPAPwJD4W27BcQ/rd3sdQVNxj97CP9ZG2XIP8fMJycNEso/Wig0D3fezT+1VU7h0/nQP35dBSCz6s4//WFWI25nxz+O4Ych5ynCP3ybTqm6ILw/20MLRWTJtz8DMKAhPN20P/KN3Nqg0bI//0zeT8fLrz+aIssfkqmrP0NzRv14IKk/clbuTwxepz/hLIiiWZClPy6yrZYrSaI/vRrrjnCToT8J5dmhF7GhPz1tKs0R7KA/x0I5/io3oT/8ULN4u+GuPzTss3oKpsY/nZXFLe5P1T8evn4V6/3fP2fPDq/IDuU/7anPNZ9F5j8r46F7LA3mP0qXedZVJ+c/oxguMXNn6T+oV6Pwf9vpPx7GTJrzR+s/hNs+Rx427D9HEx2s/tzsP7rjZXCGEe8/PqPrbVQq7T8fqjBa1vnsPwfbr/zcm+w/Yvd5rhVT7T+ab/f4amrtPwCgbSUry+w/giPavclb7j+gsfZUzJPoP9ubuMe44uU/TlkXYotI4z+Wu/85upbgP/z9oYAPuNw/ghtVoJ312D+/1066YfTVP08B9iK8VtY/WecA0vOdzj9IAdgCgvnIPyYoE5bzYMQ/RWo8dZzJwD+k2osQpJy8PxPdv5PYAsc/\",\"dtype\":\"float64\",\"shape\":[75]},\"y\":{\"__ndarray__\":\"GhExyth1ND/Sv8nbtpRIP2vylNV0PVE/aTum7souWD/At0SJ8fVgPw3Iuahxymc/MSNhhJWvcD/bTfBN02d3P2zb5nxnaoA/CD5h5MAGhz8NmeH1TyaQP+zrCsc9p5Y/LbKd76fGnz/bLW5ISEmmPww9YvTcQq8/JV2OstnstT8Er5Y7M8G+P0c+r3jqkcU/5h99k6ZBzj88bCIzFzjVP4enV8oyxN0//yH99nXg5D8qOpLLf0jtP5kqGJXUifQ/c9cS8kHP/D+/DpwzojQEQIEmwoanVwxA4lgXt9HgE0BSSZ2AJuIbQAMJih9jjiNA5q4l5INuK0AwTKYKRj0zQNv5fmq8/DpAaCJseHrtQkB/+zpwzoxKQM3MzMzMeFJAZmZmZmZqWEAAAAAAAFxeQM3MzMzMJmJAmpmZmZkfZUBmZmZmZhhoQDMzMzMzEWtAAAAAAAAKbkBmZmZmZoFwQM3MzMzM/XFAMzMzMzN6c0CamZmZmfZ0QAAAAAAAc3ZAZmZmZmbvd0DNzMzMzGt5QDMzMzMz6HpAmpmZmZlkfEAAAAAAAOF9QGZmZmZmXX9AZmZmZuZsgECamZmZGSuBQM3MzMxM6YFAAAAAAICngkAzMzMzs2WDQGZmZmbmI4RAmpmZmRnihEDNzMzMTKCFQAAAAACAXoZAMzMzM7Mch0BmZmZm5tqHQJqZmZkZmYhAzczMzExXiUAAAAAAgBWKQDMzMzOz04pAZmZmZuaRi0CamZmZGVCMQM3MzMxMDo1AAAAAAIDMjUAzMzMzs4qOQGZmZmbmSI9A\",\"dtype\":\"float64\",\"shape\":[75]}}},\"id\":\"92c0d509-b516-4b34-875f-eb446b253a85\",\"type\":\"ColumnDataSource\"},{\"attributes\":{},\"id\":\"b52fb2b1-7f90-4e8a-96fa-8001f4642839\",\"type\":\"ResetTool\"},{\"attributes\":{\"fill_alpha\":{\"value\":0.1},\"fill_color\":{\"value\":\"#1f77b4\"},\"line_alpha\":{\"value\":0.1},\"line_color\":{\"value\":\"#1f77b4\"},\"x\":{\"field\":\"x\"},\"y\":{\"field\":\"y\"}},\"id\":\"a271fda6-de9d-4b41-9aeb-06ea9effc0a5\",\"type\":\"Square\"},{\"attributes\":{\"overlay\":{\"id\":\"f1fab053-f3c2-466b-ba4e-e5533bc4f22a\",\"type\":\"BoxAnnotation\"}},\"id\":\"f9c59ab3-a63a-425b-86b4-34e88b152365\",\"type\":\"BoxZoomTool\"},{\"attributes\":{\"line_alpha\":0.6,\"line_color\":\"#e41a1c\",\"line_dash\":[6],\"line_width\":5,\"x\":{\"field\":\"x\"},\"y\":{\"field\":\"y\"}},\"id\":\"3d865d96-6ee0-4340-a0ac-d005b1c2b581\",\"type\":\"Line\"},{\"attributes\":{},\"id\":\"90dfe130-1dd0-474d-b325-2470a1ece11b\",\"type\":\"WheelZoomTool\"},{\"attributes\":{\"callback\":null,\"column_names\":[\"x\",\"y\"],\"data\":{\"x\":{\"__ndarray__\":\"CGeGsVijuj/T5wLNV+i6PwuONUa0y7s/gtsUFTCrvD8km2CCBoa9P6SUpJ9DQb4/nixfE9nMvj9iRotACQq/P/ylkvxeML8/OLnRZH4tvz+z6b9KQLK+P3oL7cTme70/xzzVXDWeuz9euPHLvwq5Pxmkij1ijbc/nurPsjENuz/y1c2zKdPAPwJD4W27BcQ/rd3sdQVNxj97CP9ZG2XIP8fMJycNEso/Wig0D3fezT+1VU7h0/nQP35dBSCz6s4//WFWI25nxz+O4Ych5ynCP3ybTqm6ILw/20MLRWTJtz8DMKAhPN20P/KN3Nqg0bI//0zeT8fLrz+aIssfkqmrP0NzRv14IKk/clbuTwxepz/hLIiiWZClPy6yrZYrSaI/vRrrjnCToT8J5dmhF7GhPz1tKs0R7KA/x0I5/io3oT/8ULN4u+GuPzTss3oKpsY/nZXFLe5P1T8evn4V6/3fP2fPDq/IDuU/7anPNZ9F5j8r46F7LA3mP0qXedZVJ+c/oxguMXNn6T+oV6Pwf9vpPx7GTJrzR+s/hNs+Rx427D9HEx2s/tzsP7rjZXCGEe8/PqPrbVQq7T8fqjBa1vnsPwfbr/zcm+w/Yvd5rhVT7T+ab/f4amrtPwCgbSUry+w/giPavclb7j+gsfZUzJPoP9ubuMe44uU/TlkXYotI4z+Wu/85upbgP/z9oYAPuNw/ghtVoJ312D+/1066YfTVP08B9iK8VtY/WecA0vOdzj9IAdgCgvnIPyYoE5bzYMQ/RWo8dZzJwD+k2osQpJy8PxPdv5PYAsc/\",\"dtype\":\"float64\",\"shape\":[75]},\"y\":{\"__ndarray__\":\"GhExyth1ND/Sv8nbtpRIP2vylNV0PVE/aTum7souWD/At0SJ8fVgPw3Iuahxymc/MSNhhJWvcD/bTfBN02d3P2zb5nxnaoA/CD5h5MAGhz8NmeH1TyaQP+zrCsc9p5Y/LbKd76fGnz/bLW5ISEmmPww9YvTcQq8/JV2OstnstT8Er5Y7M8G+P0c+r3jqkcU/5h99k6ZBzj88bCIzFzjVP4enV8oyxN0//yH99nXg5D8qOpLLf0jtP5kqGJXUifQ/c9cS8kHP/D+/DpwzojQEQIEmwoanVwxA4lgXt9HgE0BSSZ2AJuIbQAMJih9jjiNA5q4l5INuK0AwTKYKRj0zQNv5fmq8/DpAaCJseHrtQkB/+zpwzoxKQM3MzMzMeFJAZmZmZmZqWEAAAAAAAFxeQM3MzMzMJmJAmpmZmZkfZUBmZmZmZhhoQDMzMzMzEWtAAAAAAAAKbkBmZmZmZoFwQM3MzMzM/XFAMzMzMzN6c0CamZmZmfZ0QAAAAAAAc3ZAZmZmZmbvd0DNzMzMzGt5QDMzMzMz6HpAmpmZmZlkfEAAAAAAAOF9QGZmZmZmXX9AZmZmZuZsgECamZmZGSuBQM3MzMxM6YFAAAAAAICngkAzMzMzs2WDQGZmZmbmI4RAmpmZmRnihEDNzMzMTKCFQAAAAACAXoZAMzMzM7Mch0BmZmZm5tqHQJqZmZkZmYhAzczMzExXiUAAAAAAgBWKQDMzMzOz04pAZmZmZuaRi0CamZmZGVCMQM3MzMxMDo1AAAAAAIDMjUAzMzMzs4qOQGZmZmbmSI9A\",\"dtype\":\"float64\",\"shape\":[75]}}},\"id\":\"bd3bf5ae-93e8-4f2b-815d-39e4c4ca681d\",\"type\":\"ColumnDataSource\"},{\"attributes\":{\"ticker\":null},\"id\":\"218c43ae-a4e1-436f-a362-ddaa4e319277\",\"type\":\"LogTickFormatter\"},{\"attributes\":{},\"id\":\"76d211d5-65f3-44ab-bf56-aea8025a96de\",\"type\":\"SaveTool\"},{\"attributes\":{\"data_source\":{\"id\":\"92c0d509-b516-4b34-875f-eb446b253a85\",\"type\":\"ColumnDataSource\"},\"glyph\":{\"id\":\"844e252a-a3f7-4497-ba37-8592348d5638\",\"type\":\"Square\"},\"hover_glyph\":null,\"muted_glyph\":null,\"nonselection_glyph\":{\"id\":\"a271fda6-de9d-4b41-9aeb-06ea9effc0a5\",\"type\":\"Square\"},\"selection_glyph\":null,\"view\":{\"id\":\"9cf6ab41-35f0-4ce5-aa98-206fbc5af40c\",\"type\":\"CDSView\"}},\"id\":\"ab4bf64c-0c8d-4cd2-90d1-a7b3e6c8256c\",\"type\":\"GlyphRenderer\"},{\"attributes\":{\"fill_alpha\":{\"value\":0.7},\"fill_color\":{\"value\":\"#4daf4a\"},\"line_alpha\":{\"value\":0.7},\"line_color\":{\"value\":\"#4daf4a\"},\"x\":{\"field\":\"x\"},\"y\":{\"field\":\"y\"}},\"id\":\"38787d35-d203-4297-bd2d-e8410c596451\",\"type\":\"Circle\"},{\"attributes\":{\"data_source\":{\"id\":\"27cfb948-8246-45ff-9bfb-d3eb5b652d88\",\"type\":\"ColumnDataSource\"},\"glyph\":{\"id\":\"e0f32b6c-8742-4c41-b827-ecc14f77e26c\",\"type\":\"Line\"},\"hover_glyph\":null,\"muted_glyph\":null,\"nonselection_glyph\":{\"id\":\"8014623f-74bd-4695-9c8c-cbe629ffbafb\",\"type\":\"Line\"},\"selection_glyph\":null,\"view\":{\"id\":\"3aeb7f83-283b-4d9f-a285-c6000536be4d\",\"type\":\"CDSView\"}},\"id\":\"41866493-113c-4ebd-b312-e756ff791b1e\",\"type\":\"GlyphRenderer\"},{\"attributes\":{\"callback\":null,\"column_names\":[\"x\",\"y\"],\"data\":{\"x\":{\"__ndarray__\":\"afzjOTJBwz9UglGLuVLDP0bcc8vUxcM/vlJUBbwvxD/vTJERiozEP9C1cbzps8Q/oZE6x6H6xD/hJw6g3/fEP9qPVq0z28Q/OcWZFUBnxD8k6WAerqzDP1nEbqfGrsI/kJf7BTcpwT9MuS1XYES+P8RyUxxqiLs/7WX8d1Rnvj//3Y6ydkLCP1Lcp5mk6MQ/TwxFkSAixz/roH1yNa7IPxZNiDVsxso/EIwHhGsozj964yD4SqbQP0gvDz45r80//C4yIs0vxj8K071v+DTBP4/a7UgvSbw/wyhFgfc7uD8j5D2ApXC1P1/DX9VRPLM/saCvp70LsT/jWCubuKOtP4Dszyfta6o/73mgQ1CdqD+BAVmPyGWmP6dMUBT/r6M/h9jDC+A1oj+9nFvmSdmhP+kYkr4JuKA/fr/x5aCsoD8Rk4QFdoOtP9eGzI3QbMU/eIHtu33x1D/IwdedDwvgP05PUHG5LeU/THCH2Q1T5j9ky1Wg1MbmP4OsAhDSruc/ZzJWevHu6D/NFtauhVDqP4yw0QcFxOs/uPeZSKOB7D95G0BkNu3sP85cdVdVM+0/TjgmUVBG7T9RrCpmSiztP4P7nuRQ9+w/l1y9ce+t7T/ZmkqSKZftPzBlv3Kti+w/zMkwk03e6j8A8alSadroPyA0km98juY/00Be1Xo75D+IBSk+X6/hPwOGOBji/94/lCYxSsgu2z++qcRMDbrXP0PVXCwUQtQ/42gS5aB+0D+i++a8zp/KP05IpbfDz8U/RZ9NFhC9wT+7Jb2Y+x6/P+4VJwhobMg/\",\"dtype\":\"float64\",\"shape\":[75]},\"y\":{\"__ndarray__\":\"GhExyth1ND/Sv8nbtpRIP2vylNV0PVE/aTum7souWD/At0SJ8fVgPw3Iuahxymc/MSNhhJWvcD/bTfBN02d3P2zb5nxnaoA/CD5h5MAGhz8NmeH1TyaQP+zrCsc9p5Y/LbKd76fGnz/bLW5ISEmmPww9YvTcQq8/JV2OstnstT8Er5Y7M8G+P0c+r3jqkcU/5h99k6ZBzj88bCIzFzjVP4enV8oyxN0//yH99nXg5D8qOpLLf0jtP5kqGJXUifQ/c9cS8kHP/D+/DpwzojQEQIEmwoanVwxA4lgXt9HgE0BSSZ2AJuIbQAMJih9jjiNA5q4l5INuK0AwTKYKRj0zQNv5fmq8/DpAaCJseHrtQkB/+zpwzoxKQM3MzMzMeFJAZmZmZmZqWEAAAAAAAFxeQM3MzMzMJmJAmpmZmZkfZUBmZmZmZhhoQDMzMzMzEWtAAAAAAAAKbkBmZmZmZoFwQM3MzMzM/XFAMzMzMzN6c0CamZmZmfZ0QAAAAAAAc3ZAZmZmZmbvd0DNzMzMzGt5QDMzMzMz6HpAmpmZmZlkfEAAAAAAAOF9QGZmZmZmXX9AZmZmZuZsgECamZmZGSuBQM3MzMxM6YFAAAAAAICngkAzMzMzs2WDQGZmZmbmI4RAmpmZmRnihEDNzMzMTKCFQAAAAACAXoZAMzMzM7Mch0BmZmZm5tqHQJqZmZkZmYhAzczMzExXiUAAAAAAgBWKQDMzMzOz04pAZmZmZuaRi0CamZmZGVCMQM3MzMxMDo1AAAAAAIDMjUAzMzMzs4qOQGZmZmbmSI9A\",\"dtype\":\"float64\",\"shape\":[75]}}},\"id\":\"e6d116ef-3e6c-447f-bab1-d1370c947655\",\"type\":\"ColumnDataSource\"},{\"attributes\":{\"source\":{\"id\":\"e6d116ef-3e6c-447f-bab1-d1370c947655\",\"type\":\"ColumnDataSource\"}},\"id\":\"5c922834-9cad-494b-a3b7-127ceaf8f0b2\",\"type\":\"CDSView\"},{\"attributes\":{\"fill_alpha\":{\"value\":0.1},\"fill_color\":{\"value\":\"#1f77b4\"},\"line_alpha\":{\"value\":0.1},\"line_color\":{\"value\":\"#1f77b4\"},\"x\":{\"field\":\"x\"},\"y\":{\"field\":\"y\"}},\"id\":\"0d05e971-21ae-4e0f-835a-e1b3180abc96\",\"type\":\"Circle\"},{\"attributes\":{\"callback\":null,\"column_names\":[\"x\",\"y\"],\"data\":{\"x\":{\"__ndarray__\":\"1pZTZYzNwz8TDXP+/ZTYP1pMx/cgX8c/lOmnakj9yD/XN75jacGnv2A8s78UZ7k/Uie83t8bsj+kiLHxBdK5PzIM+gAUi6g/J+5f9j6Xwj8y87JgwYG6P4A7KN9udLg/VK0BIcRbuT/rJ3NeKWy5Pw7Rxf9NirQ/xOXbL12Quz9bhBieTf3AP+FXcjaZSMQ/lf8cKOhdxj9tgON8+4THP4Gb/zYP0Mk/TPQBmmvFzT/pSqF/xCfRP+xCnBx4lM8/ui9ntiv0xz+Ta9C47OfBPz4YgF+Gc7w/RxjMgC/ctz/YO+iBqxa1P1GzVqBVZ7I/W7/+wxTnrz91UlrdvAGsP5bnKcHOjKk/h88DQ0mNpz/zGRbEvJ6kP1hOsj3JCaI/3nPDY/1uoT+Kg+Hi/NuhP7VziCIeNaE/L2fkY99koT/cpRRBiqSuP8FxfGHwuMU/IoQufqYg1D8JBqWikOjdPyseUYCsEOQ/Ng9YIBdo5D/1R1oi/l7kPwfcyn046eU/rDStPYGq5z+vrzv+hyvpP+3VCWCxo+o/o8S2XjbO6z/j+ZDg2+7sP+uEwF8Gwu0/wIjonSsm7j+vw+KBEvDtPzcmm90ge+0/KBmtYY437j97Gf8d1ZnuP9hgI0GfZe4/KwzbYPJw7T+K4EWAT2PrPzbmt+DzYOg/fO0dXqX15D9t0TxfN7XhP3sRr+OmI94/bDEN/fJN2j9V10bhH1vXPxps6jwqftQ/u+jxnKln0T8Jj9NjnaLMPyTGvqb/E8c/2wWcCI90wj9XtPexm3y+PzxM2tgVSMc/\",\"dtype\":\"float64\",\"shape\":[75]},\"y\":{\"__ndarray__\":\"S/O/Q+51ND/430zAtpRIP2vylNV0PVE/QxsjCssuWD/TR4Z78fVgP+inNsRxymc/OuuBfZWvcD/u3TFA02d3P2d3VoBnaoA/CD5h5MAGhz/1pA8HUCaQP+zrCsc9p5Y/Fb7LAKjGnz/nJ9c/SEmmPwBD+fzcQq8/FOZwv9nstT8Er5Y7M8G+P0c+r3jqkcU/yK72qKZBzj+tM989FzjVPxbgmr8yxN0/cOm5AXbg5D+5ctXAf0jtP5kqGJXUifQ/DsrqDELP/D8MCAhBojQEQDItVnmnVwxAiFXNvdHgE0BSSZ2AJuIbQAMJih9jjiNA5q4l5INuK0CPVN/5RT0zQHzxRXu8/DpAOZ7PgHrtQkAg8wGBzoxKQBSTN8DMeFJA2NmQf2ZqWEAAAAAAAFxeQEQX1LfMJmJAmpmZmZkfZUBmZmZmZhhoQLzoK0gzEWtAAAAAAAAKbkCiC+pbZoFwQAhyUMLM/XFA+I2vPTN6c0AQ5KCEmfZ0QAAAAAAAc3ZA8Btfe2bvd0AIclDCzGt5QPeNrz0z6HpAEOSghJlkfEAAAAAAAOF9QKML6ltmXX9ABTkoYeZsgED7xteeGSuBQAhyUMJM6YFAAAAAAICngkD4ja89s2WDQAU5KGHmI4RA+8bXnhnihEAIclDCTKCFQAAAAACAXoZA+I2vPbMch0AFOShh5tqHQPvG154ZmYhACHJQwkxXiUAAAAAAgBWKQPeNrz2z04pABTkoYeaRi0D7xteeGVCMQAlyUMJMDo1AAAAAAIDMjUD3ja89s4qOQGZmZmbmSI9A\",\"dtype\":\"float64\",\"shape\":[75]}}},\"id\":\"144b9545-089d-47ec-8da5-14fe9f80b415\",\"type\":\"ColumnDataSource\"},{\"attributes\":{\"line_alpha\":0.1,\"line_color\":\"#1f77b4\",\"line_dash\":[6],\"line_width\":5,\"x\":{\"field\":\"x\"},\"y\":{\"field\":\"y\"}},\"id\":\"13db0cc4-2690-4b21-990a-8a5bbcb7361a\",\"type\":\"Line\"},{\"attributes\":{\"callback\":null,\"column_names\":[\"x\",\"y\"],\"data\":{\"x\":{\"__ndarray__\":\"1pZTZYzNwz8TDXP+/ZTYP1pMx/cgX8c/lOmnakj9yD/XN75jacGnv2A8s78UZ7k/Uie83t8bsj+kiLHxBdK5PzIM+gAUi6g/J+5f9j6Xwj8y87JgwYG6P4A7KN9udLg/VK0BIcRbuT/rJ3NeKWy5Pw7Rxf9NirQ/xOXbL12Quz9bhBieTf3AP+FXcjaZSMQ/lf8cKOhdxj9tgON8+4THP4Gb/zYP0Mk/TPQBmmvFzT/pSqF/xCfRP+xCnBx4lM8/ui9ntiv0xz+Ta9C47OfBPz4YgF+Gc7w/RxjMgC/ctz/YO+iBqxa1P1GzVqBVZ7I/W7/+wxTnrz91UlrdvAGsP5bnKcHOjKk/h88DQ0mNpz/zGRbEvJ6kP1hOsj3JCaI/3nPDY/1uoT+Kg+Hi/NuhP7VziCIeNaE/L2fkY99koT/cpRRBiqSuP8FxfGHwuMU/IoQufqYg1D8JBqWikOjdPyseUYCsEOQ/Ng9YIBdo5D/1R1oi/l7kPwfcyn046eU/rDStPYGq5z+vrzv+hyvpP+3VCWCxo+o/o8S2XjbO6z/j+ZDg2+7sP+uEwF8Gwu0/wIjonSsm7j+vw+KBEvDtPzcmm90ge+0/KBmtYY437j97Gf8d1ZnuP9hgI0GfZe4/KwzbYPJw7T+K4EWAT2PrPzbmt+DzYOg/fO0dXqX15D9t0TxfN7XhP3sRr+OmI94/bDEN/fJN2j9V10bhH1vXPxps6jwqftQ/u+jxnKln0T8Jj9NjnaLMPyTGvqb/E8c/2wWcCI90wj9XtPexm3y+PzxM2tgVSMc/\",\"dtype\":\"float64\",\"shape\":[75]},\"y\":{\"__ndarray__\":\"S/O/Q+51ND/430zAtpRIP2vylNV0PVE/QxsjCssuWD/TR4Z78fVgP+inNsRxymc/OuuBfZWvcD/u3TFA02d3P2d3VoBnaoA/CD5h5MAGhz/1pA8HUCaQP+zrCsc9p5Y/Fb7LAKjGnz/nJ9c/SEmmPwBD+fzcQq8/FOZwv9nstT8Er5Y7M8G+P0c+r3jqkcU/yK72qKZBzj+tM989FzjVPxbgmr8yxN0/cOm5AXbg5D+5ctXAf0jtP5kqGJXUifQ/DsrqDELP/D8MCAhBojQEQDItVnmnVwxAiFXNvdHgE0BSSZ2AJuIbQAMJih9jjiNA5q4l5INuK0CPVN/5RT0zQHzxRXu8/DpAOZ7PgHrtQkAg8wGBzoxKQBSTN8DMeFJA2NmQf2ZqWEAAAAAAAFxeQEQX1LfMJmJAmpmZmZkfZUBmZmZmZhhoQLzoK0gzEWtAAAAAAAAKbkCiC+pbZoFwQAhyUMLM/XFA+I2vPTN6c0AQ5KCEmfZ0QAAAAAAAc3ZA8Btfe2bvd0AIclDCzGt5QPeNrz0z6HpAEOSghJlkfEAAAAAAAOF9QKML6ltmXX9ABTkoYeZsgED7xteeGSuBQAhyUMJM6YFAAAAAAICngkD4ja89s2WDQAU5KGHmI4RA+8bXnhnihEAIclDCTKCFQAAAAACAXoZA+I2vPbMch0AFOShh5tqHQPvG154ZmYhACHJQwkxXiUAAAAAAgBWKQPeNrz2z04pABTkoYeaRi0D7xteeGVCMQAlyUMJMDo1AAAAAAIDMjUD3ja89s4qOQGZmZmbmSI9A\",\"dtype\":\"float64\",\"shape\":[75]}}},\"id\":\"3b3318fb-b61a-4b5c-8a53-a2b760fb90b5\",\"type\":\"ColumnDataSource\"},{\"attributes\":{\"fill_alpha\":{\"value\":0.7},\"fill_color\":{\"value\":\"#984ea3\"},\"line_alpha\":{\"value\":0.7},\"line_color\":{\"value\":\"#984ea3\"},\"x\":{\"field\":\"x\"},\"y\":{\"field\":\"y\"}},\"id\":\"844e252a-a3f7-4497-ba37-8592348d5638\",\"type\":\"Square\"},{\"attributes\":{\"plot\":null,\"text\":\"Log pressure scale\"},\"id\":\"08baac97-ff68-4f67-8f80-916847ee5b99\",\"type\":\"Title\"},{\"attributes\":{},\"id\":\"3564f474-6721-4aee-aa81-ecf135839bb1\",\"type\":\"ResetTool\"},{\"attributes\":{\"data_source\":{\"id\":\"80670844-4df5-4ece-83bd-03cfedb9c6a0\",\"type\":\"ColumnDataSource\"},\"glyph\":{\"id\":\"456cc2ab-7be9-4999-a11f-e2aa5a7c1c95\",\"type\":\"Circle\"},\"hover_glyph\":null,\"muted_glyph\":null,\"nonselection_glyph\":{\"id\":\"b6dcb86e-3c5f-4208-bb4a-4b1f80f04f4b\",\"type\":\"Circle\"},\"selection_glyph\":null,\"view\":{\"id\":\"389a54e1-1b66-4c4a-8343-8282b2287f15\",\"type\":\"CDSView\"}},\"id\":\"d26531c4-6452-4dfb-abcb-4b9539c07f43\",\"type\":\"GlyphRenderer\"},{\"attributes\":{\"below\":[{\"id\":\"08b3d034-9028-45a6-9e41-6f9f8fa7c3d9\",\"type\":\"LinearAxis\"}],\"left\":[{\"id\":\"6ccc1784-d4c6-457e-a5a8-55aa473b9695\",\"type\":\"LogAxis\"}],\"plot_height\":500,\"plot_width\":560,\"renderers\":[{\"id\":\"08b3d034-9028-45a6-9e41-6f9f8fa7c3d9\",\"type\":\"LinearAxis\"},{\"id\":\"0abd6786-3bad-4231-ac32-3338434cd811\",\"type\":\"Grid\"},{\"id\":\"6ccc1784-d4c6-457e-a5a8-55aa473b9695\",\"type\":\"LogAxis\"},{\"id\":\"8bd10da1-88f7-4890-b1c8-fc722eb21a32\",\"type\":\"Grid\"},{\"id\":\"74dfd49e-6e01-4e47-bd56-6ceffc1a4ae2\",\"type\":\"BoxAnnotation\"},{\"id\":\"247431e7-fa76-4dd8-a012-2a03a58ed286\",\"type\":\"GlyphRenderer\"},{\"id\":\"d26531c4-6452-4dfb-abcb-4b9539c07f43\",\"type\":\"GlyphRenderer\"},{\"id\":\"41866493-113c-4ebd-b312-e756ff791b1e\",\"type\":\"GlyphRenderer\"},{\"id\":\"d0629f54-4d4b-470d-8c1b-c203c75232dc\",\"type\":\"GlyphRenderer\"},{\"id\":\"19df272a-7b8e-4c58-88e4-36cf947d26bd\",\"type\":\"GlyphRenderer\"},{\"id\":\"790428b0-0a78-4f3e-a226-9ba149525357\",\"type\":\"Legend\"}],\"right\":[{\"id\":\"790428b0-0a78-4f3e-a226-9ba149525357\",\"type\":\"Legend\"}],\"title\":{\"id\":\"08baac97-ff68-4f67-8f80-916847ee5b99\",\"type\":\"Title\"},\"toolbar\":{\"id\":\"a99d9c6c-247b-4273-9493-a0b982fa3e32\",\"type\":\"Toolbar\"},\"toolbar_location\":null,\"x_range\":{\"id\":\"c2c2be59-eb1e-4154-b774-91355c926320\",\"type\":\"Range1d\"},\"x_scale\":{\"id\":\"93960a95-54db-49a9-9bc7-cefc42d7b8d8\",\"type\":\"LinearScale\"},\"y_range\":{\"id\":\"70f2b8d1-14c5-4e42-91f3-dc38af818dce\",\"type\":\"Range1d\"},\"y_scale\":{\"id\":\"8c67ab12-f66e-4148-8f0d-73846bba011b\",\"type\":\"LogScale\"}},\"id\":\"d22b36f7-dc45-4903-bdc3-a682c517b43d\",\"subtype\":\"Figure\",\"type\":\"Plot\"},{\"attributes\":{},\"id\":\"fe3762b7-7ac5-48d1-8481-a0198d6bd5cb\",\"type\":\"PanTool\"},{\"attributes\":{\"source\":{\"id\":\"92c0d509-b516-4b34-875f-eb446b253a85\",\"type\":\"ColumnDataSource\"}},\"id\":\"9cf6ab41-35f0-4ce5-aa98-206fbc5af40c\",\"type\":\"CDSView\"},{\"attributes\":{\"callback\":null,\"column_names\":[\"x\",\"y\"],\"data\":{\"x\":{\"__ndarray__\":\"afzjOTJBwz9UglGLuVLDP0bcc8vUxcM/vlJUBbwvxD/vTJERiozEP9C1cbzps8Q/oZE6x6H6xD/hJw6g3/fEP9qPVq0z28Q/OcWZFUBnxD8k6WAerqzDP1nEbqfGrsI/kJf7BTcpwT9MuS1XYES+P8RyUxxqiLs/7WX8d1Rnvj//3Y6ydkLCP1Lcp5mk6MQ/TwxFkSAixz/roH1yNa7IPxZNiDVsxso/EIwHhGsozj964yD4SqbQP0gvDz45r80//C4yIs0vxj8K071v+DTBP4/a7UgvSbw/wyhFgfc7uD8j5D2ApXC1P1/DX9VRPLM/saCvp70LsT/jWCubuKOtP4Dszyfta6o/73mgQ1CdqD+BAVmPyGWmP6dMUBT/r6M/h9jDC+A1oj+9nFvmSdmhP+kYkr4JuKA/fr/x5aCsoD8Rk4QFdoOtP9eGzI3QbMU/eIHtu33x1D/IwdedDwvgP05PUHG5LeU/THCH2Q1T5j9ky1Wg1MbmP4OsAhDSruc/ZzJWevHu6D/NFtauhVDqP4yw0QcFxOs/uPeZSKOB7D95G0BkNu3sP85cdVdVM+0/TjgmUVBG7T9RrCpmSiztP4P7nuRQ9+w/l1y9ce+t7T/ZmkqSKZftPzBlv3Kti+w/zMkwk03e6j8A8alSadroPyA0km98juY/00Be1Xo75D+IBSk+X6/hPwOGOBji/94/lCYxSsgu2z++qcRMDbrXP0PVXCwUQtQ/42gS5aB+0D+i++a8zp/KP05IpbfDz8U/RZ9NFhC9wT+7Jb2Y+x6/P+4VJwhobMg/\",\"dtype\":\"float64\",\"shape\":[75]},\"y\":{\"__ndarray__\":\"GhExyth1ND/Sv8nbtpRIP2vylNV0PVE/aTum7souWD/At0SJ8fVgPw3Iuahxymc/MSNhhJWvcD/bTfBN02d3P2zb5nxnaoA/CD5h5MAGhz8NmeH1TyaQP+zrCsc9p5Y/LbKd76fGnz/bLW5ISEmmPww9YvTcQq8/JV2OstnstT8Er5Y7M8G+P0c+r3jqkcU/5h99k6ZBzj88bCIzFzjVP4enV8oyxN0//yH99nXg5D8qOpLLf0jtP5kqGJXUifQ/c9cS8kHP/D+/DpwzojQEQIEmwoanVwxA4lgXt9HgE0BSSZ2AJuIbQAMJih9jjiNA5q4l5INuK0AwTKYKRj0zQNv5fmq8/DpAaCJseHrtQkB/+zpwzoxKQM3MzMzMeFJAZmZmZmZqWEAAAAAAAFxeQM3MzMzMJmJAmpmZmZkfZUBmZmZmZhhoQDMzMzMzEWtAAAAAAAAKbkBmZmZmZoFwQM3MzMzM/XFAMzMzMzN6c0CamZmZmfZ0QAAAAAAAc3ZAZmZmZmbvd0DNzMzMzGt5QDMzMzMz6HpAmpmZmZlkfEAAAAAAAOF9QGZmZmZmXX9AZmZmZuZsgECamZmZGSuBQM3MzMxM6YFAAAAAAICngkAzMzMzs2WDQGZmZmbmI4RAmpmZmRnihEDNzMzMTKCFQAAAAACAXoZAMzMzM7Mch0BmZmZm5tqHQJqZmZkZmYhAzczMzExXiUAAAAAAgBWKQDMzMzOz04pAZmZmZuaRi0CamZmZGVCMQM3MzMxMDo1AAAAAAIDMjUAzMzMzs4qOQGZmZmbmSI9A\",\"dtype\":\"float64\",\"shape\":[75]}}},\"id\":\"27cfb948-8246-45ff-9bfb-d3eb5b652d88\",\"type\":\"ColumnDataSource\"},{\"attributes\":{\"source\":{\"id\":\"bd3bf5ae-93e8-4f2b-815d-39e4c4ca681d\",\"type\":\"ColumnDataSource\"}},\"id\":\"ef59752d-c792-4f44-9205-fd1eea588f5d\",\"type\":\"CDSView\"},{\"attributes\":{},\"id\":\"98d9e4bf-f27e-4e1a-b5ed-d6eaabd09986\",\"type\":\"BasicTickFormatter\"},{\"attributes\":{\"children\":[{\"id\":\"7443e7d0-137d-4659-b905-e7254529872e\",\"subtype\":\"Figure\",\"type\":\"Plot\"},{\"id\":\"d22b36f7-dc45-4903-bdc3-a682c517b43d\",\"subtype\":\"Figure\",\"type\":\"Plot\"}]},\"id\":\"4be87941-f5eb-488b-87c3-53cf3bc491da\",\"type\":\"Row\"},{\"attributes\":{\"line_alpha\":0.6,\"line_color\":\"#984ea3\",\"line_width\":3,\"x\":{\"field\":\"x\"},\"y\":{\"field\":\"y\"}},\"id\":\"fb6d10f3-ccb1-4448-b738-bf02fd504778\",\"type\":\"Line\"},{\"attributes\":{\"fill_alpha\":{\"value\":0.1},\"fill_color\":{\"value\":\"#1f77b4\"},\"line_alpha\":{\"value\":0.1},\"line_color\":{\"value\":\"#1f77b4\"},\"x\":{\"field\":\"x\"},\"y\":{\"field\":\"y\"}},\"id\":\"b6dcb86e-3c5f-4208-bb4a-4b1f80f04f4b\",\"type\":\"Circle\"},{\"attributes\":{},\"id\":\"819a3ca0-f6a2-4a49-83c2-e1d5cece6a8d\",\"type\":\"WheelZoomTool\"},{\"attributes\":{\"callback\":null,\"end\":0.01,\"start\":1020},\"id\":\"4cf4e356-9c99-4627-abda-d9e35844f1a6\",\"type\":\"Range1d\"},{\"attributes\":{\"plot\":{\"id\":\"d22b36f7-dc45-4903-bdc3-a682c517b43d\",\"subtype\":\"Figure\",\"type\":\"Plot\"},\"ticker\":{\"id\":\"79d454b9-50a9-4edf-9d9c-480631f57c23\",\"type\":\"BasicTicker\"}},\"id\":\"0abd6786-3bad-4231-ac32-3338434cd811\",\"type\":\"Grid\"},{\"attributes\":{\"line_alpha\":0.1,\"line_color\":\"#1f77b4\",\"line_width\":3,\"x\":{\"field\":\"x\"},\"y\":{\"field\":\"y\"}},\"id\":\"c89dae26-1a68-4cbe-adcc-f3c0608149ef\",\"type\":\"Line\"},{\"attributes\":{\"source\":{\"id\":\"80670844-4df5-4ece-83bd-03cfedb9c6a0\",\"type\":\"ColumnDataSource\"}},\"id\":\"389a54e1-1b66-4c4a-8343-8282b2287f15\",\"type\":\"CDSView\"},{\"attributes\":{},\"id\":\"aed338d4-b94d-4723-b4b2-a38dfe0fa10f\",\"type\":\"LinearScale\"},{\"attributes\":{\"callback\":null,\"end\":0.01,\"start\":1020},\"id\":\"70f2b8d1-14c5-4e42-91f3-dc38af818dce\",\"type\":\"Range1d\"},{\"attributes\":{\"below\":[{\"id\":\"e09e0d19-5462-4e95-873f-9c3ccf4bd259\",\"type\":\"LinearAxis\"}],\"left\":[{\"id\":\"7ec2cfe9-8499-400e-9e58-41a657cb6916\",\"type\":\"LinearAxis\"}],\"plot_height\":500,\"plot_width\":400,\"renderers\":[{\"id\":\"e09e0d19-5462-4e95-873f-9c3ccf4bd259\",\"type\":\"LinearAxis\"},{\"id\":\"be5ae32d-efc5-4c72-8564-c68dd5dba794\",\"type\":\"Grid\"},{\"id\":\"7ec2cfe9-8499-400e-9e58-41a657cb6916\",\"type\":\"LinearAxis\"},{\"id\":\"5836c4ed-4716-457c-8c61-2d9bc201fbfa\",\"type\":\"Grid\"},{\"id\":\"f1fab053-f3c2-466b-ba4e-e5533bc4f22a\",\"type\":\"BoxAnnotation\"},{\"id\":\"e89b4373-8fae-4be3-9905-6338c4c3d61f\",\"type\":\"GlyphRenderer\"},{\"id\":\"75b2fbf6-39ca-4fac-bcfc-2ab8e6e5141d\",\"type\":\"GlyphRenderer\"},{\"id\":\"79b739be-4409-4d4c-995f-9769fdd702b5\",\"type\":\"GlyphRenderer\"},{\"id\":\"ab4bf64c-0c8d-4cd2-90d1-a7b3e6c8256c\",\"type\":\"GlyphRenderer\"},{\"id\":\"0662842e-e373-4efa-9fff-bf1a1399bfb1\",\"type\":\"GlyphRenderer\"}],\"title\":{\"id\":\"98098249-762c-4a17-a757-b0c243f3e13a\",\"type\":\"Title\"},\"toolbar\":{\"id\":\"f8bc127d-569e-4058-a7fd-b97f623d13a9\",\"type\":\"Toolbar\"},\"toolbar_location\":null,\"x_range\":{\"id\":\"5527c2f4-8775-4d53-92a3-a638864c3ce6\",\"type\":\"Range1d\"},\"x_scale\":{\"id\":\"380455d9-e442-4241-b5ec-16e8be211fac\",\"type\":\"LinearScale\"},\"y_range\":{\"id\":\"4cf4e356-9c99-4627-abda-d9e35844f1a6\",\"type\":\"Range1d\"},\"y_scale\":{\"id\":\"aed338d4-b94d-4723-b4b2-a38dfe0fa10f\",\"type\":\"LinearScale\"}},\"id\":\"7443e7d0-137d-4659-b905-e7254529872e\",\"subtype\":\"Figure\",\"type\":\"Plot\"},{\"attributes\":{},\"id\":\"93960a95-54db-49a9-9bc7-cefc42d7b8d8\",\"type\":\"LinearScale\"},{\"attributes\":{\"fill_alpha\":{\"value\":0.7},\"fill_color\":{\"value\":\"#4daf4a\"},\"line_alpha\":{\"value\":0.7},\"line_color\":{\"value\":\"#4daf4a\"},\"x\":{\"field\":\"x\"},\"y\":{\"field\":\"y\"}},\"id\":\"456cc2ab-7be9-4999-a11f-e2aa5a7c1c95\",\"type\":\"Circle\"},{\"attributes\":{},\"id\":\"380455d9-e442-4241-b5ec-16e8be211fac\",\"type\":\"LinearScale\"},{\"attributes\":{\"label\":{\"value\":\"CRD\"},\"renderers\":[{\"id\":\"d26531c4-6452-4dfb-abcb-4b9539c07f43\",\"type\":\"GlyphRenderer\"},{\"id\":\"41866493-113c-4ebd-b312-e756ff791b1e\",\"type\":\"GlyphRenderer\"}]},\"id\":\"21af49f0-2d0d-4b0e-b991-f16cc0c99f81\",\"type\":\"LegendItem\"},{\"attributes\":{\"source\":{\"id\":\"144b9545-089d-47ec-8da5-14fe9f80b415\",\"type\":\"ColumnDataSource\"}},\"id\":\"b9cf8142-a747-4eee-9702-410b80d63e6d\",\"type\":\"CDSView\"},{\"attributes\":{\"overlay\":{\"id\":\"74dfd49e-6e01-4e47-bd56-6ceffc1a4ae2\",\"type\":\"BoxAnnotation\"}},\"id\":\"6c90d0cd-a64b-467e-a98f-728f0bc41257\",\"type\":\"BoxZoomTool\"},{\"attributes\":{\"callback\":null,\"column_names\":[\"x\",\"y\"],\"data\":{\"x\":{\"__ndarray__\":\"CGeGsVijuj/T5wLNV+i6PwuONUa0y7s/gtsUFTCrvD8km2CCBoa9P6SUpJ9DQb4/nixfE9nMvj9iRotACQq/P/ylkvxeML8/OLnRZH4tvz+z6b9KQLK+P3oL7cTme70/xzzVXDWeuz9euPHLvwq5Pxmkij1ijbc/nurPsjENuz/y1c2zKdPAPwJD4W27BcQ/rd3sdQVNxj97CP9ZG2XIP8fMJycNEso/Wig0D3fezT+1VU7h0/nQP35dBSCz6s4//WFWI25nxz+O4Ych5ynCP3ybTqm6ILw/20MLRWTJtz8DMKAhPN20P/KN3Nqg0bI//0zeT8fLrz+aIssfkqmrP0NzRv14IKk/clbuTwxepz/hLIiiWZClPy6yrZYrSaI/vRrrjnCToT8J5dmhF7GhPz1tKs0R7KA/x0I5/io3oT/8ULN4u+GuPzTss3oKpsY/nZXFLe5P1T8evn4V6/3fP2fPDq/IDuU/7anPNZ9F5j8r46F7LA3mP0qXedZVJ+c/oxguMXNn6T+oV6Pwf9vpPx7GTJrzR+s/hNs+Rx427D9HEx2s/tzsP7rjZXCGEe8/PqPrbVQq7T8fqjBa1vnsPwfbr/zcm+w/Yvd5rhVT7T+ab/f4amrtPwCgbSUry+w/giPavclb7j+gsfZUzJPoP9ubuMe44uU/TlkXYotI4z+Wu/85upbgP/z9oYAPuNw/ghtVoJ312D+/1066YfTVP08B9iK8VtY/WecA0vOdzj9IAdgCgvnIPyYoE5bzYMQ/RWo8dZzJwD+k2osQpJy8PxPdv5PYAsc/\",\"dtype\":\"float64\",\"shape\":[75]},\"y\":{\"__ndarray__\":\"GhExyth1ND/Sv8nbtpRIP2vylNV0PVE/aTum7souWD/At0SJ8fVgPw3Iuahxymc/MSNhhJWvcD/bTfBN02d3P2zb5nxnaoA/CD5h5MAGhz8NmeH1TyaQP+zrCsc9p5Y/LbKd76fGnz/bLW5ISEmmPww9YvTcQq8/JV2OstnstT8Er5Y7M8G+P0c+r3jqkcU/5h99k6ZBzj88bCIzFzjVP4enV8oyxN0//yH99nXg5D8qOpLLf0jtP5kqGJXUifQ/c9cS8kHP/D+/DpwzojQEQIEmwoanVwxA4lgXt9HgE0BSSZ2AJuIbQAMJih9jjiNA5q4l5INuK0AwTKYKRj0zQNv5fmq8/DpAaCJseHrtQkB/+zpwzoxKQM3MzMzMeFJAZmZmZmZqWEAAAAAAAFxeQM3MzMzMJmJAmpmZmZkfZUBmZmZmZhhoQDMzMzMzEWtAAAAAAAAKbkBmZmZmZoFwQM3MzMzM/XFAMzMzMzN6c0CamZmZmfZ0QAAAAAAAc3ZAZmZmZmbvd0DNzMzMzGt5QDMzMzMz6HpAmpmZmZlkfEAAAAAAAOF9QGZmZmZmXX9AZmZmZuZsgECamZmZGSuBQM3MzMxM6YFAAAAAAICngkAzMzMzs2WDQGZmZmbmI4RAmpmZmRnihEDNzMzMTKCFQAAAAACAXoZAMzMzM7Mch0BmZmZm5tqHQJqZmZkZmYhAzczMzExXiUAAAAAAgBWKQDMzMzOz04pAZmZmZuaRi0CamZmZGVCMQM3MzMxMDo1AAAAAAIDMjUAzMzMzs4qOQGZmZmbmSI9A\",\"dtype\":\"float64\",\"shape\":[75]}}},\"id\":\"e08493f8-afd0-4d8c-81a0-6fd6b9ddc682\",\"type\":\"ColumnDataSource\"},{\"attributes\":{},\"id\":\"d10bddd3-280e-4b44-a4dc-34ac33dcd376\",\"type\":\"SaveTool\"},{\"attributes\":{},\"id\":\"f7ebce39-62dd-40eb-8efa-fae699891d09\",\"type\":\"BasicTicker\"},{\"attributes\":{\"axis_label\":\"cooling rate [K/day]\",\"formatter\":{\"id\":\"a4d0e77f-1ce0-4098-94d0-e1e93ae0ced7\",\"type\":\"BasicTickFormatter\"},\"plot\":{\"id\":\"7443e7d0-137d-4659-b905-e7254529872e\",\"subtype\":\"Figure\",\"type\":\"Plot\"},\"ticker\":{\"id\":\"7b6201a1-5273-42ad-9475-f72146b049fc\",\"type\":\"BasicTicker\"}},\"id\":\"e09e0d19-5462-4e95-873f-9c3ccf4bd259\",\"type\":\"LinearAxis\"},{\"attributes\":{\"line_color\":\"#4daf4a\",\"line_width\":1.5,\"x\":{\"field\":\"x\"},\"y\":{\"field\":\"y\"}},\"id\":\"e0f32b6c-8742-4c41-b827-ecc14f77e26c\",\"type\":\"Line\"},{\"attributes\":{\"children\":[{\"id\":\"3af3cb48-d138-45b3-b344-35ae0eb911bf\",\"type\":\"ToolbarBox\"},{\"id\":\"99e5d1f6-53e7-41fa-aabf-79c8551079bf\",\"type\":\"Column\"}]},\"id\":\"57342132-45ad-4776-a07f-15b3850644fd\",\"type\":\"Column\"},{\"attributes\":{\"dimension\":1,\"plot\":{\"id\":\"d22b36f7-dc45-4903-bdc3-a682c517b43d\",\"subtype\":\"Figure\",\"type\":\"Plot\"},\"ticker\":{\"id\":\"062b9970-ddcb-4d1a-a103-e3db466d1afa\",\"type\":\"LogTicker\"}},\"id\":\"8bd10da1-88f7-4890-b1c8-fc722eb21a32\",\"type\":\"Grid\"},{\"attributes\":{\"line_alpha\":0.1,\"line_color\":\"#1f77b4\",\"line_dash\":[6],\"line_width\":5,\"x\":{\"field\":\"x\"},\"y\":{\"field\":\"y\"}},\"id\":\"6fbf1aae-54cc-4990-8e8f-fe000187e4c4\",\"type\":\"Line\"},{\"attributes\":{\"line_alpha\":0.1,\"line_color\":\"#1f77b4\",\"line_width\":1.5,\"x\":{\"field\":\"x\"},\"y\":{\"field\":\"y\"}},\"id\":\"8014623f-74bd-4695-9c8c-cbe629ffbafb\",\"type\":\"Line\"},{\"attributes\":{},\"id\":\"8c67ab12-f66e-4148-8f0d-73846bba011b\",\"type\":\"LogScale\"},{\"attributes\":{\"callback\":null,\"column_names\":[\"x\",\"y\"],\"data\":{\"x\":{\"__ndarray__\":\"CGeGsVijuj/T5wLNV+i6PwuONUa0y7s/gtsUFTCrvD8km2CCBoa9P6SUpJ9DQb4/nixfE9nMvj9iRotACQq/P/ylkvxeML8/OLnRZH4tvz+z6b9KQLK+P3oL7cTme70/xzzVXDWeuz9euPHLvwq5Pxmkij1ijbc/nurPsjENuz/y1c2zKdPAPwJD4W27BcQ/rd3sdQVNxj97CP9ZG2XIP8fMJycNEso/Wig0D3fezT+1VU7h0/nQP35dBSCz6s4//WFWI25nxz+O4Ych5ynCP3ybTqm6ILw/20MLRWTJtz8DMKAhPN20P/KN3Nqg0bI//0zeT8fLrz+aIssfkqmrP0NzRv14IKk/clbuTwxepz/hLIiiWZClPy6yrZYrSaI/vRrrjnCToT8J5dmhF7GhPz1tKs0R7KA/x0I5/io3oT/8ULN4u+GuPzTss3oKpsY/nZXFLe5P1T8evn4V6/3fP2fPDq/IDuU/7anPNZ9F5j8r46F7LA3mP0qXedZVJ+c/oxguMXNn6T+oV6Pwf9vpPx7GTJrzR+s/hNs+Rx427D9HEx2s/tzsP7rjZXCGEe8/PqPrbVQq7T8fqjBa1vnsPwfbr/zcm+w/Yvd5rhVT7T+ab/f4amrtPwCgbSUry+w/giPavclb7j+gsfZUzJPoP9ubuMe44uU/TlkXYotI4z+Wu/85upbgP/z9oYAPuNw/ghtVoJ312D+/1066YfTVP08B9iK8VtY/WecA0vOdzj9IAdgCgvnIPyYoE5bzYMQ/RWo8dZzJwD+k2osQpJy8PxPdv5PYAsc/\",\"dtype\":\"float64\",\"shape\":[75]},\"y\":{\"__ndarray__\":\"GhExyth1ND/Sv8nbtpRIP2vylNV0PVE/aTum7souWD/At0SJ8fVgPw3Iuahxymc/MSNhhJWvcD/bTfBN02d3P2zb5nxnaoA/CD5h5MAGhz8NmeH1TyaQP+zrCsc9p5Y/LbKd76fGnz/bLW5ISEmmPww9YvTcQq8/JV2OstnstT8Er5Y7M8G+P0c+r3jqkcU/5h99k6ZBzj88bCIzFzjVP4enV8oyxN0//yH99nXg5D8qOpLLf0jtP5kqGJXUifQ/c9cS8kHP/D+/DpwzojQEQIEmwoanVwxA4lgXt9HgE0BSSZ2AJuIbQAMJih9jjiNA5q4l5INuK0AwTKYKRj0zQNv5fmq8/DpAaCJseHrtQkB/+zpwzoxKQM3MzMzMeFJAZmZmZmZqWEAAAAAAAFxeQM3MzMzMJmJAmpmZmZkfZUBmZmZmZhhoQDMzMzMzEWtAAAAAAAAKbkBmZmZmZoFwQM3MzMzM/XFAMzMzMzN6c0CamZmZmfZ0QAAAAAAAc3ZAZmZmZmbvd0DNzMzMzGt5QDMzMzMz6HpAmpmZmZlkfEAAAAAAAOF9QGZmZmZmXX9AZmZmZuZsgECamZmZGSuBQM3MzMxM6YFAAAAAAICngkAzMzMzs2WDQGZmZmbmI4RAmpmZmRnihEDNzMzMTKCFQAAAAACAXoZAMzMzM7Mch0BmZmZm5tqHQJqZmZkZmYhAzczMzExXiUAAAAAAgBWKQDMzMzOz04pAZmZmZuaRi0CamZmZGVCMQM3MzMxMDo1AAAAAAIDMjUAzMzMzs4qOQGZmZmbmSI9A\",\"dtype\":\"float64\",\"shape\":[75]}}},\"id\":\"60479788-3401-42fb-aa5b-8da8bec1bed8\",\"type\":\"ColumnDataSource\"},{\"attributes\":{\"data_source\":{\"id\":\"bd3bf5ae-93e8-4f2b-815d-39e4c4ca681d\",\"type\":\"ColumnDataSource\"},\"glyph\":{\"id\":\"fb6d10f3-ccb1-4448-b738-bf02fd504778\",\"type\":\"Line\"},\"hover_glyph\":null,\"muted_glyph\":null,\"nonselection_glyph\":{\"id\":\"c89dae26-1a68-4cbe-adcc-f3c0608149ef\",\"type\":\"Line\"},\"selection_glyph\":null,\"view\":{\"id\":\"ef59752d-c792-4f44-9205-fd1eea588f5d\",\"type\":\"CDSView\"}},\"id\":\"0662842e-e373-4efa-9fff-bf1a1399bfb1\",\"type\":\"GlyphRenderer\"},{\"attributes\":{},\"id\":\"fe04ba5c-24f3-475f-939c-2cb4d3464248\",\"type\":\"PanTool\"},{\"attributes\":{\"source\":{\"id\":\"27cfb948-8246-45ff-9bfb-d3eb5b652d88\",\"type\":\"ColumnDataSource\"}},\"id\":\"3aeb7f83-283b-4d9f-a285-c6000536be4d\",\"type\":\"CDSView\"},{\"attributes\":{\"fill_alpha\":{\"value\":0.7},\"fill_color\":{\"value\":\"#984ea3\"},\"line_alpha\":{\"value\":0.7},\"line_color\":{\"value\":\"#984ea3\"},\"x\":{\"field\":\"x\"},\"y\":{\"field\":\"y\"}},\"id\":\"54875fe0-12e2-4a88-88c1-3f43d8a43d95\",\"type\":\"Square\"},{\"attributes\":{\"data_source\":{\"id\":\"e08493f8-afd0-4d8c-81a0-6fd6b9ddc682\",\"type\":\"ColumnDataSource\"},\"glyph\":{\"id\":\"54875fe0-12e2-4a88-88c1-3f43d8a43d95\",\"type\":\"Square\"},\"hover_glyph\":null,\"muted_glyph\":null,\"nonselection_glyph\":{\"id\":\"792a1ecc-44c7-4165-8d85-8adb0daefb93\",\"type\":\"Square\"},\"selection_glyph\":null,\"view\":{\"id\":\"b43f9f4c-428c-4c5c-a741-9efe70a555c9\",\"type\":\"CDSView\"}},\"id\":\"d0629f54-4d4b-470d-8c1b-c203c75232dc\",\"type\":\"GlyphRenderer\"},{\"attributes\":{\"callback\":null,\"end\":0.27040707169,\"start\":0.03021219931},\"id\":\"c2c2be59-eb1e-4154-b774-91355c926320\",\"type\":\"Range1d\"},{\"attributes\":{\"fill_alpha\":{\"value\":0.1},\"fill_color\":{\"value\":\"#1f77b4\"},\"line_alpha\":{\"value\":0.1},\"line_color\":{\"value\":\"#1f77b4\"},\"x\":{\"field\":\"x\"},\"y\":{\"field\":\"y\"}},\"id\":\"792a1ecc-44c7-4165-8d85-8adb0daefb93\",\"type\":\"Square\"},{\"attributes\":{},\"id\":\"8d5e89d3-3054-4015-b544-d0f68b8b9987\",\"type\":\"HelpTool\"},{\"attributes\":{\"source\":{\"id\":\"3b3318fb-b61a-4b5c-8a53-a2b760fb90b5\",\"type\":\"ColumnDataSource\"}},\"id\":\"a62b23a9-c11b-4db0-8f7f-bbf8af847e47\",\"type\":\"CDSView\"},{\"attributes\":{\"source\":{\"id\":\"e08493f8-afd0-4d8c-81a0-6fd6b9ddc682\",\"type\":\"ColumnDataSource\"}},\"id\":\"b43f9f4c-428c-4c5c-a741-9efe70a555c9\",\"type\":\"CDSView\"},{\"attributes\":{\"line_alpha\":0.6,\"line_color\":\"#984ea3\",\"line_width\":3,\"x\":{\"field\":\"x\"},\"y\":{\"field\":\"y\"}},\"id\":\"064de7da-ec30-495e-832a-6a161320b7a4\",\"type\":\"Line\"},{\"attributes\":{\"data_source\":{\"id\":\"60479788-3401-42fb-aa5b-8da8bec1bed8\",\"type\":\"ColumnDataSource\"},\"glyph\":{\"id\":\"064de7da-ec30-495e-832a-6a161320b7a4\",\"type\":\"Line\"},\"hover_glyph\":null,\"muted_glyph\":null,\"nonselection_glyph\":{\"id\":\"44e5c051-cd63-4ca2-a309-6fcba80fef49\",\"type\":\"Line\"},\"selection_glyph\":null,\"view\":{\"id\":\"a431d7fd-62a5-40fe-8cb8-77b30dc47e4f\",\"type\":\"CDSView\"}},\"id\":\"19df272a-7b8e-4c58-88e4-36cf947d26bd\",\"type\":\"GlyphRenderer\"},{\"attributes\":{\"children\":[{\"id\":\"4be87941-f5eb-488b-87c3-53cf3bc491da\",\"type\":\"Row\"}]},\"id\":\"99e5d1f6-53e7-41fa-aabf-79c8551079bf\",\"type\":\"Column\"},{\"attributes\":{\"callback\":null,\"end\":0.980272523347793,\"start\":0.023183828501507},\"id\":\"5527c2f4-8775-4d53-92a3-a638864c3ce6\",\"type\":\"Range1d\"},{\"attributes\":{\"line_alpha\":0.1,\"line_color\":\"#1f77b4\",\"line_width\":3,\"x\":{\"field\":\"x\"},\"y\":{\"field\":\"y\"}},\"id\":\"44e5c051-cd63-4ca2-a309-6fcba80fef49\",\"type\":\"Line\"},{\"attributes\":{\"active_drag\":\"auto\",\"active_inspect\":\"auto\",\"active_scroll\":\"auto\",\"active_tap\":\"auto\",\"tools\":[{\"id\":\"fe3762b7-7ac5-48d1-8481-a0198d6bd5cb\",\"type\":\"PanTool\"},{\"id\":\"819a3ca0-f6a2-4a49-83c2-e1d5cece6a8d\",\"type\":\"WheelZoomTool\"},{\"id\":\"6c90d0cd-a64b-467e-a98f-728f0bc41257\",\"type\":\"BoxZoomTool\"},{\"id\":\"d10bddd3-280e-4b44-a4dc-34ac33dcd376\",\"type\":\"SaveTool\"},{\"id\":\"3564f474-6721-4aee-aa81-ecf135839bb1\",\"type\":\"ResetTool\"},{\"id\":\"8d5e89d3-3054-4015-b544-d0f68b8b9987\",\"type\":\"HelpTool\"}]},\"id\":\"a99d9c6c-247b-4273-9493-a0b982fa3e32\",\"type\":\"Toolbar\"},{\"attributes\":{\"num_minor_ticks\":10},\"id\":\"062b9970-ddcb-4d1a-a103-e3db466d1afa\",\"type\":\"LogTicker\"},{\"attributes\":{\"source\":{\"id\":\"60479788-3401-42fb-aa5b-8da8bec1bed8\",\"type\":\"ColumnDataSource\"}},\"id\":\"a431d7fd-62a5-40fe-8cb8-77b30dc47e4f\",\"type\":\"CDSView\"},{\"attributes\":{\"data_source\":{\"id\":\"e6d116ef-3e6c-447f-bab1-d1370c947655\",\"type\":\"ColumnDataSource\"},\"glyph\":{\"id\":\"1e7c2d3e-8c47-4471-bf85-cb358d728e5c\",\"type\":\"Line\"},\"hover_glyph\":null,\"muted_glyph\":null,\"nonselection_glyph\":{\"id\":\"143258b2-fb98-412e-9e5c-bf5df260d66a\",\"type\":\"Line\"},\"selection_glyph\":null,\"view\":{\"id\":\"5c922834-9cad-494b-a3b7-127ceaf8f0b2\",\"type\":\"CDSView\"}},\"id\":\"79b739be-4409-4d4c-995f-9769fdd702b5\",\"type\":\"GlyphRenderer\"},{\"attributes\":{\"active_drag\":\"auto\",\"active_inspect\":\"auto\",\"active_scroll\":\"auto\",\"active_tap\":\"auto\",\"tools\":[{\"id\":\"fe04ba5c-24f3-475f-939c-2cb4d3464248\",\"type\":\"PanTool\"},{\"id\":\"90dfe130-1dd0-474d-b325-2470a1ece11b\",\"type\":\"WheelZoomTool\"},{\"id\":\"f9c59ab3-a63a-425b-86b4-34e88b152365\",\"type\":\"BoxZoomTool\"},{\"id\":\"76d211d5-65f3-44ab-bf56-aea8025a96de\",\"type\":\"SaveTool\"},{\"id\":\"b52fb2b1-7f90-4e8a-96fa-8001f4642839\",\"type\":\"ResetTool\"},{\"id\":\"51ec77d3-e91b-468b-bd8f-69392d0792fe\",\"type\":\"HelpTool\"}]},\"id\":\"f8bc127d-569e-4058-a7fd-b97f623d13a9\",\"type\":\"Toolbar\"},{\"attributes\":{\"items\":[{\"id\":\"a0fdf35a-c288-40b5-a36d-dbf72ff7503f\",\"type\":\"LegendItem\"},{\"id\":\"21af49f0-2d0d-4b0e-b991-f16cc0c99f81\",\"type\":\"LegendItem\"},{\"id\":\"c080447b-d1cd-470f-bcbe-2f6174ed0762\",\"type\":\"LegendItem\"}],\"label_text_font_size\":{\"value\":\"8pt\"},\"location\":[10,-30],\"plot\":{\"id\":\"d22b36f7-dc45-4903-bdc3-a682c517b43d\",\"subtype\":\"Figure\",\"type\":\"Plot\"}},\"id\":\"790428b0-0a78-4f3e-a226-9ba149525357\",\"type\":\"Legend\"},{\"attributes\":{\"toolbar\":{\"id\":\"a703e181-5db5-4d85-a1e2-3953ec84bba7\",\"type\":\"ProxyToolbar\"},\"toolbar_location\":\"above\"},\"id\":\"3af3cb48-d138-45b3-b344-35ae0eb911bf\",\"type\":\"ToolbarBox\"},{\"attributes\":{\"plot\":null,\"text\":\"Linear pressure scale\"},\"id\":\"98098249-762c-4a17-a757-b0c243f3e13a\",\"type\":\"Title\"},{\"attributes\":{\"label\":{\"value\":\"CLIRAD `coolr_bands`\"},\"renderers\":[{\"id\":\"247431e7-fa76-4dd8-a012-2a03a58ed286\",\"type\":\"GlyphRenderer\"}]},\"id\":\"a0fdf35a-c288-40b5-a36d-dbf72ff7503f\",\"type\":\"LegendItem\"},{\"attributes\":{\"bottom_units\":\"screen\",\"fill_alpha\":{\"value\":0.5},\"fill_color\":{\"value\":\"lightgrey\"},\"left_units\":\"screen\",\"level\":\"overlay\",\"line_alpha\":{\"value\":1.0},\"line_color\":{\"value\":\"black\"},\"line_dash\":[4,4],\"line_width\":{\"value\":2},\"plot\":null,\"render_mode\":\"css\",\"right_units\":\"screen\",\"top_units\":\"screen\"},\"id\":\"f1fab053-f3c2-466b-ba4e-e5533bc4f22a\",\"type\":\"BoxAnnotation\"},{\"attributes\":{},\"id\":\"1c8f51b0-cd2d-4e45-b1ee-176ed1b3302d\",\"type\":\"BasicTickFormatter\"},{\"attributes\":{\"source\":{\"id\":\"60a927c0-12d4-40a0-8176-81c60773b3f8\",\"type\":\"ColumnDataSource\"}},\"id\":\"515b8756-f679-4dfd-8991-8143081d18ea\",\"type\":\"CDSView\"},{\"attributes\":{\"dimension\":1,\"plot\":{\"id\":\"7443e7d0-137d-4659-b905-e7254529872e\",\"subtype\":\"Figure\",\"type\":\"Plot\"},\"ticker\":{\"id\":\"f7ebce39-62dd-40eb-8efa-fae699891d09\",\"type\":\"BasicTicker\"}},\"id\":\"5836c4ed-4716-457c-8c61-2d9bc201fbfa\",\"type\":\"Grid\"},{\"attributes\":{},\"id\":\"51ec77d3-e91b-468b-bd8f-69392d0792fe\",\"type\":\"HelpTool\"},{\"attributes\":{\"data_source\":{\"id\":\"144b9545-089d-47ec-8da5-14fe9f80b415\",\"type\":\"ColumnDataSource\"},\"glyph\":{\"id\":\"3d865d96-6ee0-4340-a0ac-d005b1c2b581\",\"type\":\"Line\"},\"hover_glyph\":null,\"muted_glyph\":null,\"nonselection_glyph\":{\"id\":\"6fbf1aae-54cc-4990-8e8f-fe000187e4c4\",\"type\":\"Line\"},\"selection_glyph\":null,\"view\":{\"id\":\"b9cf8142-a747-4eee-9702-410b80d63e6d\",\"type\":\"CDSView\"}},\"id\":\"247431e7-fa76-4dd8-a012-2a03a58ed286\",\"type\":\"GlyphRenderer\"},{\"attributes\":{},\"id\":\"79d454b9-50a9-4edf-9d9c-480631f57c23\",\"type\":\"BasicTicker\"},{\"attributes\":{\"bottom_units\":\"screen\",\"fill_alpha\":{\"value\":0.5},\"fill_color\":{\"value\":\"lightgrey\"},\"left_units\":\"screen\",\"level\":\"overlay\",\"line_alpha\":{\"value\":1.0},\"line_color\":{\"value\":\"black\"},\"line_dash\":[4,4],\"line_width\":{\"value\":2},\"plot\":null,\"render_mode\":\"css\",\"right_units\":\"screen\",\"top_units\":\"screen\"},\"id\":\"74dfd49e-6e01-4e47-bd56-6ceffc1a4ae2\",\"type\":\"BoxAnnotation\"},{\"attributes\":{\"label\":{\"value\":\"WGT igg=10 wgt_flux=2\"},\"renderers\":[{\"id\":\"d0629f54-4d4b-470d-8c1b-c203c75232dc\",\"type\":\"GlyphRenderer\"},{\"id\":\"19df272a-7b8e-4c58-88e4-36cf947d26bd\",\"type\":\"GlyphRenderer\"}]},\"id\":\"c080447b-d1cd-470f-bcbe-2f6174ed0762\",\"type\":\"LegendItem\"},{\"attributes\":{},\"id\":\"7b6201a1-5273-42ad-9475-f72146b049fc\",\"type\":\"BasicTicker\"},{\"attributes\":{\"line_alpha\":0.6,\"line_color\":\"#e41a1c\",\"line_dash\":[6],\"line_width\":5,\"x\":{\"field\":\"x\"},\"y\":{\"field\":\"y\"}},\"id\":\"1a6fada0-1377-4ed7-93ba-f38750e70576\",\"type\":\"Line\"},{\"attributes\":{\"data_source\":{\"id\":\"60a927c0-12d4-40a0-8176-81c60773b3f8\",\"type\":\"ColumnDataSource\"},\"glyph\":{\"id\":\"38787d35-d203-4297-bd2d-e8410c596451\",\"type\":\"Circle\"},\"hover_glyph\":null,\"muted_glyph\":null,\"nonselection_glyph\":{\"id\":\"0d05e971-21ae-4e0f-835a-e1b3180abc96\",\"type\":\"Circle\"},\"selection_glyph\":null,\"view\":{\"id\":\"515b8756-f679-4dfd-8991-8143081d18ea\",\"type\":\"CDSView\"}},\"id\":\"75b2fbf6-39ca-4fac-bcfc-2ab8e6e5141d\",\"type\":\"GlyphRenderer\"},{\"attributes\":{\"line_alpha\":0.1,\"line_color\":\"#1f77b4\",\"line_width\":1.5,\"x\":{\"field\":\"x\"},\"y\":{\"field\":\"y\"}},\"id\":\"143258b2-fb98-412e-9e5c-bf5df260d66a\",\"type\":\"Line\"},{\"attributes\":{\"line_color\":\"#4daf4a\",\"line_width\":1.5,\"x\":{\"field\":\"x\"},\"y\":{\"field\":\"y\"}},\"id\":\"1e7c2d3e-8c47-4471-bf85-cb358d728e5c\",\"type\":\"Line\"},{\"attributes\":{\"axis_label\":\"pressure [mb]\",\"formatter\":{\"id\":\"218c43ae-a4e1-436f-a362-ddaa4e319277\",\"type\":\"LogTickFormatter\"},\"plot\":{\"id\":\"d22b36f7-dc45-4903-bdc3-a682c517b43d\",\"subtype\":\"Figure\",\"type\":\"Plot\"},\"ticker\":{\"id\":\"062b9970-ddcb-4d1a-a103-e3db466d1afa\",\"type\":\"LogTicker\"}},\"id\":\"6ccc1784-d4c6-457e-a5a8-55aa473b9695\",\"type\":\"LogAxis\"},{\"attributes\":{\"tools\":[{\"id\":\"fe04ba5c-24f3-475f-939c-2cb4d3464248\",\"type\":\"PanTool\"},{\"id\":\"90dfe130-1dd0-474d-b325-2470a1ece11b\",\"type\":\"WheelZoomTool\"},{\"id\":\"f9c59ab3-a63a-425b-86b4-34e88b152365\",\"type\":\"BoxZoomTool\"},{\"id\":\"76d211d5-65f3-44ab-bf56-aea8025a96de\",\"type\":\"SaveTool\"},{\"id\":\"b52fb2b1-7f90-4e8a-96fa-8001f4642839\",\"type\":\"ResetTool\"},{\"id\":\"51ec77d3-e91b-468b-bd8f-69392d0792fe\",\"type\":\"HelpTool\"},{\"id\":\"fe3762b7-7ac5-48d1-8481-a0198d6bd5cb\",\"type\":\"PanTool\"},{\"id\":\"819a3ca0-f6a2-4a49-83c2-e1d5cece6a8d\",\"type\":\"WheelZoomTool\"},{\"id\":\"6c90d0cd-a64b-467e-a98f-728f0bc41257\",\"type\":\"BoxZoomTool\"},{\"id\":\"d10bddd3-280e-4b44-a4dc-34ac33dcd376\",\"type\":\"SaveTool\"},{\"id\":\"3564f474-6721-4aee-aa81-ecf135839bb1\",\"type\":\"ResetTool\"},{\"id\":\"8d5e89d3-3054-4015-b544-d0f68b8b9987\",\"type\":\"HelpTool\"}]},\"id\":\"a703e181-5db5-4d85-a1e2-3953ec84bba7\",\"type\":\"ProxyToolbar\"},{\"attributes\":{\"axis_label\":\"pressure [mb]\",\"formatter\":{\"id\":\"1c8f51b0-cd2d-4e45-b1ee-176ed1b3302d\",\"type\":\"BasicTickFormatter\"},\"plot\":{\"id\":\"7443e7d0-137d-4659-b905-e7254529872e\",\"subtype\":\"Figure\",\"type\":\"Plot\"},\"ticker\":{\"id\":\"f7ebce39-62dd-40eb-8efa-fae699891d09\",\"type\":\"BasicTicker\"}},\"id\":\"7ec2cfe9-8499-400e-9e58-41a657cb6916\",\"type\":\"LinearAxis\"},{\"attributes\":{\"axis_label\":\"cooling rate [K/day]\",\"formatter\":{\"id\":\"98d9e4bf-f27e-4e1a-b5ed-d6eaabd09986\",\"type\":\"BasicTickFormatter\"},\"plot\":{\"id\":\"d22b36f7-dc45-4903-bdc3-a682c517b43d\",\"subtype\":\"Figure\",\"type\":\"Plot\"},\"ticker\":{\"id\":\"79d454b9-50a9-4edf-9d9c-480631f57c23\",\"type\":\"BasicTicker\"}},\"id\":\"08b3d034-9028-45a6-9e41-6f9f8fa7c3d9\",\"type\":\"LinearAxis\"}],\"root_ids\":[\"57342132-45ad-4776-a07f-15b3850644fd\"]},\"title\":\"Bokeh Application\",\"version\":\"0.12.14\"}};\n",
       "  var render_items = [{\"docid\":\"06aec309-3297-4ca5-af49-fac49bd5d4af\",\"elementid\":\"b72f4bd5-de06-4949-b9bf-9d5086c8267a\",\"modelid\":\"57342132-45ad-4776-a07f-15b3850644fd\"}];\n",
       "  root.Bokeh.embed.embed_items_notebook(docs_json, render_items);\n",
       "\n",
       "  }\n",
       "  if (root.Bokeh !== undefined) {\n",
       "    embed_document(root);\n",
       "  } else {\n",
       "    var attempts = 0;\n",
       "    var timer = setInterval(function(root) {\n",
       "      if (root.Bokeh !== undefined) {\n",
       "        embed_document(root);\n",
       "        clearInterval(timer);\n",
       "      }\n",
       "      attempts++;\n",
       "      if (attempts > 100) {\n",
       "        console.log(\"Bokeh: ERROR: Unable to run BokehJS code because BokehJS library is missing\")\n",
       "        clearInterval(timer);\n",
       "      }\n",
       "    }, 10, root)\n",
       "  }\n",
       "})(window);"
      ],
      "application/vnd.bokehjs_exec.v0+json": ""
     },
     "metadata": {
      "application/vnd.bokehjs_exec.v0+json": {
       "id": "57342132-45ad-4776-a07f-15b3850644fd"
      }
     },
     "output_type": "display_data"
    },
    {
     "name": "stdout",
     "output_type": "stream",
     "text": [
      "FIGURE. Cooling rate profiles.\n"
     ]
    },
    {
     "data": {
      "text/html": [
       "<a id=\"Flux_Comparison\"></a>"
      ],
      "text/plain": [
       "<IPython.core.display.HTML object>"
      ]
     },
     "metadata": {},
     "output_type": "display_data"
    },
    {
     "data": {
      "text/markdown": [
       "# Flux Comparison"
      ],
      "text/plain": [
       "<IPython.core.display.Markdown object>"
      ]
     },
     "metadata": {},
     "output_type": "display_data"
    },
    {
     "data": {
      "text/html": [
       "<div>\n",
       "<style>\n",
       "    .dataframe thead tr:only-child th {\n",
       "        text-align: right;\n",
       "    }\n",
       "\n",
       "    .dataframe thead th {\n",
       "        text-align: left;\n",
       "    }\n",
       "\n",
       "    .dataframe tbody tr th {\n",
       "        vertical-align: top;\n",
       "    }\n",
       "</style>\n",
       "<table border=\"1\" class=\"dataframe\">\n",
       "  <thead>\n",
       "    <tr style=\"text-align: right;\">\n",
       "      <th></th>\n",
       "      <th></th>\n",
       "      <th>flug</th>\n",
       "      <th>fldg</th>\n",
       "      <th>fnetg</th>\n",
       "    </tr>\n",
       "    <tr>\n",
       "      <th>pressure</th>\n",
       "      <th>level</th>\n",
       "      <th></th>\n",
       "      <th></th>\n",
       "      <th></th>\n",
       "    </tr>\n",
       "  </thead>\n",
       "  <tbody>\n",
       "    <tr>\n",
       "      <th>0.0000</th>\n",
       "      <th>1</th>\n",
       "      <td>-59.622621</td>\n",
       "      <td>0.000000</td>\n",
       "      <td>-59.622621</td>\n",
       "    </tr>\n",
       "    <tr>\n",
       "      <th>1.0685</th>\n",
       "      <th>24</th>\n",
       "      <td>-59.625496</td>\n",
       "      <td>0.029385</td>\n",
       "      <td>-59.596110</td>\n",
       "    </tr>\n",
       "    <tr>\n",
       "      <th>1013.0000</th>\n",
       "      <th>76</th>\n",
       "      <td>-82.315794</td>\n",
       "      <td>81.517535</td>\n",
       "      <td>-0.798259</td>\n",
       "    </tr>\n",
       "  </tbody>\n",
       "</table>\n",
       "</div>"
      ],
      "text/plain": [
       "                      flug       fldg      fnetg\n",
       "pressure  level                                 \n",
       "0.0000    1     -59.622621   0.000000 -59.622621\n",
       "1.0685    24    -59.625496   0.029385 -59.596110\n",
       "1013.0000 76    -82.315794  81.517535  -0.798259"
      ]
     },
     "metadata": {},
     "output_type": "display_data"
    },
    {
     "name": "stdout",
     "output_type": "stream",
     "text": [
      "Table. Fluxes. WGT igg=10 wgt_flux=1\n"
     ]
    },
    {
     "data": {
      "text/html": [
       "<div>\n",
       "<style>\n",
       "    .dataframe thead tr:only-child th {\n",
       "        text-align: right;\n",
       "    }\n",
       "\n",
       "    .dataframe thead th {\n",
       "        text-align: left;\n",
       "    }\n",
       "\n",
       "    .dataframe tbody tr th {\n",
       "        vertical-align: top;\n",
       "    }\n",
       "</style>\n",
       "<table border=\"1\" class=\"dataframe\">\n",
       "  <thead>\n",
       "    <tr style=\"text-align: right;\">\n",
       "      <th></th>\n",
       "      <th></th>\n",
       "      <th>flug</th>\n",
       "      <th>fldg</th>\n",
       "      <th>fnetg</th>\n",
       "    </tr>\n",
       "    <tr>\n",
       "      <th>pressure</th>\n",
       "      <th>level</th>\n",
       "      <th></th>\n",
       "      <th></th>\n",
       "      <th></th>\n",
       "    </tr>\n",
       "  </thead>\n",
       "  <tbody>\n",
       "    <tr>\n",
       "      <th>0.0000</th>\n",
       "      <th>1</th>\n",
       "      <td>-60.336794</td>\n",
       "      <td>0.000000</td>\n",
       "      <td>-60.336794</td>\n",
       "    </tr>\n",
       "    <tr>\n",
       "      <th>1.0685</th>\n",
       "      <th>24</th>\n",
       "      <td>-60.339695</td>\n",
       "      <td>0.029839</td>\n",
       "      <td>-60.309856</td>\n",
       "    </tr>\n",
       "    <tr>\n",
       "      <th>1013.0000</th>\n",
       "      <th>76</th>\n",
       "      <td>-82.315795</td>\n",
       "      <td>81.238047</td>\n",
       "      <td>-1.077748</td>\n",
       "    </tr>\n",
       "  </tbody>\n",
       "</table>\n",
       "</div>"
      ],
      "text/plain": [
       "                      flug       fldg      fnetg\n",
       "pressure  level                                 \n",
       "0.0000    1     -60.336794   0.000000 -60.336794\n",
       "1.0685    24    -60.339695   0.029839 -60.309856\n",
       "1013.0000 76    -82.315795  81.238047  -1.077748"
      ]
     },
     "metadata": {},
     "output_type": "display_data"
    },
    {
     "name": "stdout",
     "output_type": "stream",
     "text": [
      "Table. Fluxes. CRD\n"
     ]
    },
    {
     "data": {
      "text/html": [
       "<div>\n",
       "<style>\n",
       "    .dataframe thead tr:only-child th {\n",
       "        text-align: right;\n",
       "    }\n",
       "\n",
       "    .dataframe thead th {\n",
       "        text-align: left;\n",
       "    }\n",
       "\n",
       "    .dataframe tbody tr th {\n",
       "        vertical-align: top;\n",
       "    }\n",
       "</style>\n",
       "<table border=\"1\" class=\"dataframe\">\n",
       "  <thead>\n",
       "    <tr style=\"text-align: right;\">\n",
       "      <th></th>\n",
       "      <th></th>\n",
       "      <th>flug</th>\n",
       "      <th>fldg</th>\n",
       "      <th>fnetg</th>\n",
       "    </tr>\n",
       "    <tr>\n",
       "      <th>pressure</th>\n",
       "      <th>level</th>\n",
       "      <th></th>\n",
       "      <th></th>\n",
       "      <th></th>\n",
       "    </tr>\n",
       "  </thead>\n",
       "  <tbody>\n",
       "    <tr>\n",
       "      <th>1.000000e-08</th>\n",
       "      <th>1</th>\n",
       "      <td>-60.083805</td>\n",
       "      <td>0.000004</td>\n",
       "      <td>-60.083801</td>\n",
       "    </tr>\n",
       "    <tr>\n",
       "      <th>1.068500e+00</th>\n",
       "      <th>24</th>\n",
       "      <td>-60.086468</td>\n",
       "      <td>0.029081</td>\n",
       "      <td>-60.057388</td>\n",
       "    </tr>\n",
       "    <tr>\n",
       "      <th>1.013000e+03</th>\n",
       "      <th>76</th>\n",
       "      <td>-82.315788</td>\n",
       "      <td>81.574547</td>\n",
       "      <td>-0.741241</td>\n",
       "    </tr>\n",
       "  </tbody>\n",
       "</table>\n",
       "</div>"
      ],
      "text/plain": [
       "                         flug       fldg      fnetg\n",
       "pressure     level                                 \n",
       "1.000000e-08 1     -60.083805   0.000004 -60.083801\n",
       "1.068500e+00 24    -60.086468   0.029081 -60.057388\n",
       "1.013000e+03 76    -82.315788  81.574547  -0.741241"
      ]
     },
     "metadata": {},
     "output_type": "display_data"
    },
    {
     "name": "stdout",
     "output_type": "stream",
     "text": [
      "Table. Fluxes. CLIRAD\n"
     ]
    },
    {
     "data": {
      "text/html": [
       "<div>\n",
       "<style>\n",
       "    .dataframe thead tr:only-child th {\n",
       "        text-align: right;\n",
       "    }\n",
       "\n",
       "    .dataframe thead th {\n",
       "        text-align: left;\n",
       "    }\n",
       "\n",
       "    .dataframe tbody tr th {\n",
       "        vertical-align: top;\n",
       "    }\n",
       "</style>\n",
       "<table border=\"1\" class=\"dataframe\">\n",
       "  <thead>\n",
       "    <tr style=\"text-align: right;\">\n",
       "      <th></th>\n",
       "      <th></th>\n",
       "      <th>flug</th>\n",
       "      <th>fldg</th>\n",
       "      <th>fnetg</th>\n",
       "    </tr>\n",
       "    <tr>\n",
       "      <th>pressure</th>\n",
       "      <th>level</th>\n",
       "      <th></th>\n",
       "      <th></th>\n",
       "      <th></th>\n",
       "    </tr>\n",
       "  </thead>\n",
       "  <tbody>\n",
       "    <tr>\n",
       "      <th>0.0000</th>\n",
       "      <th>1</th>\n",
       "      <td>-7.141731e-01</td>\n",
       "      <td>0.000000</td>\n",
       "      <td>-0.714173</td>\n",
       "    </tr>\n",
       "    <tr>\n",
       "      <th>1.0685</th>\n",
       "      <th>24</th>\n",
       "      <td>-7.141988e-01</td>\n",
       "      <td>0.000454</td>\n",
       "      <td>-0.713746</td>\n",
       "    </tr>\n",
       "    <tr>\n",
       "      <th>1013.0000</th>\n",
       "      <th>76</th>\n",
       "      <td>-7.206000e-07</td>\n",
       "      <td>-0.279488</td>\n",
       "      <td>-0.279488</td>\n",
       "    </tr>\n",
       "  </tbody>\n",
       "</table>\n",
       "</div>"
      ],
      "text/plain": [
       "                         flug      fldg     fnetg\n",
       "pressure  level                                  \n",
       "0.0000    1     -7.141731e-01  0.000000 -0.714173\n",
       "1.0685    24    -7.141988e-01  0.000454 -0.713746\n",
       "1013.0000 76    -7.206000e-07 -0.279488 -0.279488"
      ]
     },
     "metadata": {},
     "output_type": "display_data"
    },
    {
     "name": "stdout",
     "output_type": "stream",
     "text": [
      "Table. Fluxes. (CRD) - (WGT igg=10 wgt_flux=1)\n"
     ]
    },
    {
     "data": {
      "text/html": [
       "<div>\n",
       "<style>\n",
       "    .dataframe thead tr:only-child th {\n",
       "        text-align: right;\n",
       "    }\n",
       "\n",
       "    .dataframe thead th {\n",
       "        text-align: left;\n",
       "    }\n",
       "\n",
       "    .dataframe tbody tr th {\n",
       "        vertical-align: top;\n",
       "    }\n",
       "</style>\n",
       "<table border=\"1\" class=\"dataframe\">\n",
       "  <thead>\n",
       "    <tr style=\"text-align: right;\">\n",
       "      <th></th>\n",
       "      <th></th>\n",
       "      <th>flug</th>\n",
       "      <th>fldg</th>\n",
       "      <th>fnetg</th>\n",
       "    </tr>\n",
       "    <tr>\n",
       "      <th>pressure</th>\n",
       "      <th>level</th>\n",
       "      <th></th>\n",
       "      <th></th>\n",
       "      <th></th>\n",
       "    </tr>\n",
       "  </thead>\n",
       "  <tbody>\n",
       "    <tr>\n",
       "      <th>0.0000</th>\n",
       "      <th>1</th>\n",
       "      <td>-0.461184</td>\n",
       "      <td>0.000004</td>\n",
       "      <td>-0.461180</td>\n",
       "    </tr>\n",
       "    <tr>\n",
       "      <th>1.0685</th>\n",
       "      <th>24</th>\n",
       "      <td>-0.460972</td>\n",
       "      <td>-0.000304</td>\n",
       "      <td>-0.461278</td>\n",
       "    </tr>\n",
       "    <tr>\n",
       "      <th>1013.0000</th>\n",
       "      <th>76</th>\n",
       "      <td>0.000006</td>\n",
       "      <td>0.057012</td>\n",
       "      <td>0.057018</td>\n",
       "    </tr>\n",
       "  </tbody>\n",
       "</table>\n",
       "</div>"
      ],
      "text/plain": [
       "                     flug      fldg     fnetg\n",
       "pressure  level                              \n",
       "0.0000    1     -0.461184  0.000004 -0.461180\n",
       "1.0685    24    -0.460972 -0.000304 -0.461278\n",
       "1013.0000 76     0.000006  0.057012  0.057018"
      ]
     },
     "metadata": {},
     "output_type": "display_data"
    },
    {
     "name": "stdout",
     "output_type": "stream",
     "text": [
      "Table. Fluxes. (CLIRAD) - (WGT igg=10 wgt_flux=1)\n"
     ]
    },
    {
     "data": {
      "text/html": [
       "<a id=\"Best-fit_Parameters\"></a>"
      ],
      "text/plain": [
       "<IPython.core.display.HTML object>"
      ]
     },
     "metadata": {},
     "output_type": "display_data"
    },
    {
     "data": {
      "text/markdown": [
       "# Best-fit Parameters"
      ],
      "text/plain": [
       "<IPython.core.display.Markdown object>"
      ]
     },
     "metadata": {},
     "output_type": "display_data"
    },
    {
     "name": "stdout",
     "output_type": "stream",
     "text": [
      "Best-fit values for each (gas, band)\n",
      "------------------------------------\n",
      "o h2o band2\n",
      "  molecule = h2o\n",
      "  band = 2\n",
      "  commitnumber = d62b618\n",
      "  vmin = 340\n",
      "  vmax = 540\n",
      "  dv = 0.001\n",
      "  nv = 1000\n",
      "  ref_pts = [(1, 250), (10, 250), (500, 250)]\n",
      "  ng_refs = [2, 3, 6]\n",
      "  ng_adju = [-2, -2, 0]\n",
      "  klin = 0\n",
      "  option_wgt_k = 1\n",
      "  wgt = [(0.6, 0.6), (0.6, 0.6, 0.6), (0.6, 0.6, 0.6, 0.6, 0.6, 0.6)]\n",
      "  w_diffuse = [(1.66, 1.66), (1.8, 1.8, 1.8), (1.8, 1.66, 1.45, 1.45, 1.45, 1.45)]\n",
      "  option_wgt_flux = 1\n",
      "  atmpro = mls\n",
      "  tsfc = 294\n",
      "  conc = None\n",
      "  option_compute_btable = 0\n",
      "  option_compute_ktable = 1\n"
     ]
    }
   ],
   "source": [
    "script()"
   ]
  },
  {
   "cell_type": "code",
   "execution_count": 13,
   "metadata": {},
   "outputs": [
    {
     "data": {
      "text/html": [
       "<script>\n",
       "code_show=true; \n",
       "function code_toggle() {\n",
       " if (code_show){\n",
       " $('div.input').hide();\n",
       " } else {\n",
       " $('div.input').show();\n",
       " }\n",
       " code_show = !code_show\n",
       "} \n",
       "$( document ).ready(code_toggle);\n",
       "</script>\n",
       "<form action=\"javascript:code_toggle()\"><input type=\"submit\" value=\"Click here to toggle on/off the raw code.\"></form>"
      ],
      "text/plain": [
       "<IPython.core.display.HTML object>"
      ]
     },
     "execution_count": 13,
     "metadata": {},
     "output_type": "execute_result"
    }
   ],
   "source": [
    "display.HTML('''<script>\n",
    "code_show=true; \n",
    "function code_toggle() {\n",
    " if (code_show){\n",
    " $('div.input').hide();\n",
    " } else {\n",
    " $('div.input').show();\n",
    " }\n",
    " code_show = !code_show\n",
    "} \n",
    "$( document ).ready(code_toggle);\n",
    "</script>\n",
    "<form action=\"javascript:code_toggle()\"><input type=\"submit\" value=\"Click here to toggle on/off the raw code.\"></form>''')"
   ]
  }
 ],
 "metadata": {
  "kernelspec": {
   "display_name": "Python 3",
   "language": "python",
   "name": "python3"
  },
  "language_info": {
   "codemirror_mode": {
    "name": "ipython",
    "version": 3
   },
   "file_extension": ".py",
   "mimetype": "text/x-python",
   "name": "python",
   "nbconvert_exporter": "python",
   "pygments_lexer": "ipython3",
   "version": "3.6.1"
  }
 },
 "nbformat": 4,
 "nbformat_minor": 2
}
