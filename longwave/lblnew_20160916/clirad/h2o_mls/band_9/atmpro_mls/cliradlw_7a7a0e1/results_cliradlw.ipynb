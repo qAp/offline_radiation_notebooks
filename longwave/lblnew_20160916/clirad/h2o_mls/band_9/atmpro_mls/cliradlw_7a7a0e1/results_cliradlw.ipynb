{
 "cells": [
  {
   "cell_type": "code",
   "execution_count": 1,
   "metadata": {
    "collapsed": true
   },
   "outputs": [],
   "source": [
    "%matplotlib inline\n",
    "import os\n",
    "import re\n",
    "import io\n",
    "import itertools\n",
    "import pprint\n",
    "\n",
    "from bokeh.io import output_notebook, show\n",
    "from bokeh.layouts import gridplot\n",
    "from bokeh.plotting import figure\n",
    "from bokeh.models import Range1d, Legend\n",
    "from bokeh.palettes import all_palettes\n",
    "\n",
    "import matplotlib\n",
    "import matplotlib.pyplot as plt\n",
    "import numpy as np\n",
    "import pandas as pd\n",
    "import xarray as xr\n",
    "\n",
    "import climatools.lblnew.bestfit_params as bestfits\n",
    "from climatools.lblnew import setup_bestfit, setup_overlap\n",
    "import climatools.lblnew.pipeline as pipe_lblnew\n",
    "import climatools.cliradlw.setup as setup_cliradlw\n",
    "import climatools.cliradlw.pipeline as pipe_cliradlw\n",
    "\n",
    "import climatools.html.html as climahtml\n",
    "from climatools.lblnew.dataio import *\n",
    "from climatools.plot.plot import *\n",
    "\n",
    "\n",
    "import IPython.display as display"
   ]
  },
  {
   "cell_type": "code",
   "execution_count": 2,
   "metadata": {
    "collapsed": true
   },
   "outputs": [],
   "source": [
    "%run param.py"
   ]
  },
  {
   "cell_type": "code",
   "execution_count": 3,
   "metadata": {
    "collapsed": true
   },
   "outputs": [],
   "source": [
    "def load_output_file(path_csv):\n",
    "    '''\n",
    "    Load lblnew output .csv file to xarray.Dataset\n",
    "    \n",
    "    Parameters\n",
    "    ----------\n",
    "    path_csv: str\n",
    "              Path to the .csv file to be loaded.\n",
    "    ds: xarray.Dataset\n",
    "        Data in the input file in the form of an xarray.Dataset.\n",
    "    '''\n",
    "    toindex = ['band', 'pressure', 'igg', 'g']    \n",
    "    df = pd.read_csv(path_csv, sep=r'\\s+')\n",
    "    df = df.set_index([i for i in toindex if i in df.columns])\n",
    "    df = df.rename(columns={'sfu': 'flug',\n",
    "                            'sfd': 'fldg',\n",
    "                            'fnet': 'fnetg',\n",
    "                            'coolr': 'coolrg'})\n",
    "    ds = xr.Dataset.from_dataframe(df)\n",
    "\n",
    "    for l in ('level', 'layer'):\n",
    "        if l in ds.data_vars:\n",
    "            if len(ds[l].dims) > 1:\n",
    "                surface = {d: 0 for d in ds.dims if d != 'pressure'}\n",
    "                coord_level = ds[l][surface]\n",
    "                ds.coords[l] = ('pressure', coord_level)\n",
    "            else:\n",
    "                ds.coords[l] = ('pressure', ds[l])\n",
    "    \n",
    "    return ds"
   ]
  },
  {
   "cell_type": "code",
   "execution_count": 4,
   "metadata": {
    "collapsed": true
   },
   "outputs": [],
   "source": [
    "def lblnew_setup(param=None):\n",
    "    if 'ng_refs' in param:\n",
    "        return {'setup': setup_bestfit,\n",
    "                'fname_flux_crd': 'output_flux.dat',\n",
    "                'fname_cool_crd': 'output_coolr.dat',\n",
    "                'fname_flux_wgt': 'output_wfluxg.dat',\n",
    "                'fname_cool_wgt': 'output_wcoolrg.dat'}\n",
    "    else:\n",
    "        return {'setup': setup_overlap,\n",
    "                'fname_flux_crd': 'output_flux.dat',\n",
    "                'fname_cool_crd': 'output_coolr.dat',\n",
    "                'fname_flux_wgt': 'output_wflux.dat',\n",
    "                'fname_cool_wgt': 'output_wcoolr.dat'}\n",
    "\n",
    "    \n",
    "def load_lblnew_data(param):\n",
    "    \n",
    "    fname_dsname = [('fname_flux_crd', 'ds_flux_crd'),\n",
    "                    ('fname_cool_crd', 'ds_cool_crd'),\n",
    "                    ('fname_flux_wgt', 'ds_flux_wgt'),\n",
    "                    ('fname_cool_wgt', 'ds_cool_wgt')]\n",
    "    \n",
    "    d = lblnew_setup(param)\n",
    "    dir_fortran = pipe_lblnew.get_dir_case(param, setup=d['setup'])\n",
    "    \n",
    "    data_dict = {}\n",
    "    for fname, dsname in fname_dsname:\n",
    "        fpath = os.path.join(dir_fortran, d[fname])\n",
    "        data_dict[dsname] = load_output_file(fpath)\n",
    "    return data_dict\n",
    "    \n",
    "\n",
    "    \n",
    "    "
   ]
  },
  {
   "cell_type": "code",
   "execution_count": 5,
   "metadata": {
    "collapsed": true
   },
   "outputs": [],
   "source": [
    "d = load_lblnew_data(PARAM_LBLNEW)\n",
    "\n",
    "DS_FLUX_CRD = d['ds_flux_crd']\n",
    "DS_COOL_CRD = d['ds_cool_crd']\n",
    "DS_FLUX_WGT = d['ds_flux_wgt']\n",
    "DS_COOL_WGT = d['ds_cool_wgt']"
   ]
  },
  {
   "cell_type": "code",
   "execution_count": 6,
   "metadata": {
    "collapsed": true
   },
   "outputs": [],
   "source": [
    "DIR_FORTRAN = pipe_cliradlw.get_fortran_dir(PARAM, \n",
    "                                            setup=setup_cliradlw)\n",
    "\n",
    "PATH_FLUX = os.path.join(DIR_FORTRAN, 'output_flux.dat')\n",
    "PATH_COOL = os.path.join(DIR_FORTRAN, 'output_coolr.dat')\n",
    "\n",
    "DS_FLUX = load_output_file(PATH_FLUX)\n",
    "DS_COOL = load_output_file(PATH_COOL)"
   ]
  },
  {
   "cell_type": "code",
   "execution_count": 7,
   "metadata": {},
   "outputs": [
    {
     "data": {
      "text/html": [
       "\n",
       "    <div class=\"bk-root\">\n",
       "        <a href=\"https://bokeh.pydata.org\" target=\"_blank\" class=\"bk-logo bk-logo-small bk-logo-notebook\"></a>\n",
       "        <span id=\"32936da4-987b-41e5-b08c-3b474e552f08\">Loading BokehJS ...</span>\n",
       "    </div>"
      ]
     },
     "metadata": {},
     "output_type": "display_data"
    },
    {
     "data": {
      "application/javascript": [
       "\n",
       "(function(root) {\n",
       "  function now() {\n",
       "    return new Date();\n",
       "  }\n",
       "\n",
       "  var force = true;\n",
       "\n",
       "  if (typeof (root._bokeh_onload_callbacks) === \"undefined\" || force === true) {\n",
       "    root._bokeh_onload_callbacks = [];\n",
       "    root._bokeh_is_loading = undefined;\n",
       "  }\n",
       "\n",
       "  var JS_MIME_TYPE = 'application/javascript';\n",
       "  var HTML_MIME_TYPE = 'text/html';\n",
       "  var EXEC_MIME_TYPE = 'application/vnd.bokehjs_exec.v0+json';\n",
       "  var CLASS_NAME = 'output_bokeh rendered_html';\n",
       "\n",
       "  /**\n",
       "   * Render data to the DOM node\n",
       "   */\n",
       "  function render(props, node) {\n",
       "    var script = document.createElement(\"script\");\n",
       "    node.appendChild(script);\n",
       "  }\n",
       "\n",
       "  /**\n",
       "   * Handle when an output is cleared or removed\n",
       "   */\n",
       "  function handleClearOutput(event, handle) {\n",
       "    var cell = handle.cell;\n",
       "\n",
       "    var id = cell.output_area._bokeh_element_id;\n",
       "    var server_id = cell.output_area._bokeh_server_id;\n",
       "    // Clean up Bokeh references\n",
       "    if (id !== undefined) {\n",
       "      Bokeh.index[id].model.document.clear();\n",
       "      delete Bokeh.index[id];\n",
       "    }\n",
       "\n",
       "    if (server_id !== undefined) {\n",
       "      // Clean up Bokeh references\n",
       "      var cmd = \"from bokeh.io.state import curstate; print(curstate().uuid_to_server['\" + server_id + \"'].get_sessions()[0].document.roots[0]._id)\";\n",
       "      cell.notebook.kernel.execute(cmd, {\n",
       "        iopub: {\n",
       "          output: function(msg) {\n",
       "            var element_id = msg.content.text.trim();\n",
       "            Bokeh.index[element_id].model.document.clear();\n",
       "            delete Bokeh.index[element_id];\n",
       "          }\n",
       "        }\n",
       "      });\n",
       "      // Destroy server and session\n",
       "      var cmd = \"import bokeh.io.notebook as ion; ion.destroy_server('\" + server_id + \"')\";\n",
       "      cell.notebook.kernel.execute(cmd);\n",
       "    }\n",
       "  }\n",
       "\n",
       "  /**\n",
       "   * Handle when a new output is added\n",
       "   */\n",
       "  function handleAddOutput(event, handle) {\n",
       "    var output_area = handle.output_area;\n",
       "    var output = handle.output;\n",
       "\n",
       "    // limit handleAddOutput to display_data with EXEC_MIME_TYPE content only\n",
       "    if ((output.output_type != \"display_data\") || (!output.data.hasOwnProperty(EXEC_MIME_TYPE))) {\n",
       "      return\n",
       "    }\n",
       "\n",
       "    var toinsert = output_area.element.find(\".\" + CLASS_NAME.split(' ')[0]);\n",
       "\n",
       "    if (output.metadata[EXEC_MIME_TYPE][\"id\"] !== undefined) {\n",
       "      toinsert[0].firstChild.textContent = output.data[JS_MIME_TYPE];\n",
       "      // store reference to embed id on output_area\n",
       "      output_area._bokeh_element_id = output.metadata[EXEC_MIME_TYPE][\"id\"];\n",
       "    }\n",
       "    if (output.metadata[EXEC_MIME_TYPE][\"server_id\"] !== undefined) {\n",
       "      var bk_div = document.createElement(\"div\");\n",
       "      bk_div.innerHTML = output.data[HTML_MIME_TYPE];\n",
       "      var script_attrs = bk_div.children[0].attributes;\n",
       "      for (var i = 0; i < script_attrs.length; i++) {\n",
       "        toinsert[0].firstChild.setAttribute(script_attrs[i].name, script_attrs[i].value);\n",
       "      }\n",
       "      // store reference to server id on output_area\n",
       "      output_area._bokeh_server_id = output.metadata[EXEC_MIME_TYPE][\"server_id\"];\n",
       "    }\n",
       "  }\n",
       "\n",
       "  function register_renderer(events, OutputArea) {\n",
       "\n",
       "    function append_mime(data, metadata, element) {\n",
       "      // create a DOM node to render to\n",
       "      var toinsert = this.create_output_subarea(\n",
       "        metadata,\n",
       "        CLASS_NAME,\n",
       "        EXEC_MIME_TYPE\n",
       "      );\n",
       "      this.keyboard_manager.register_events(toinsert);\n",
       "      // Render to node\n",
       "      var props = {data: data, metadata: metadata[EXEC_MIME_TYPE]};\n",
       "      render(props, toinsert[0]);\n",
       "      element.append(toinsert);\n",
       "      return toinsert\n",
       "    }\n",
       "\n",
       "    /* Handle when an output is cleared or removed */\n",
       "    events.on('clear_output.CodeCell', handleClearOutput);\n",
       "    events.on('delete.Cell', handleClearOutput);\n",
       "\n",
       "    /* Handle when a new output is added */\n",
       "    events.on('output_added.OutputArea', handleAddOutput);\n",
       "\n",
       "    /**\n",
       "     * Register the mime type and append_mime function with output_area\n",
       "     */\n",
       "    OutputArea.prototype.register_mime_type(EXEC_MIME_TYPE, append_mime, {\n",
       "      /* Is output safe? */\n",
       "      safe: true,\n",
       "      /* Index of renderer in `output_area.display_order` */\n",
       "      index: 0\n",
       "    });\n",
       "  }\n",
       "\n",
       "  // register the mime type if in Jupyter Notebook environment and previously unregistered\n",
       "  if (root.Jupyter !== undefined) {\n",
       "    var events = require('base/js/events');\n",
       "    var OutputArea = require('notebook/js/outputarea').OutputArea;\n",
       "\n",
       "    if (OutputArea.prototype.mime_types().indexOf(EXEC_MIME_TYPE) == -1) {\n",
       "      register_renderer(events, OutputArea);\n",
       "    }\n",
       "  }\n",
       "\n",
       "  \n",
       "  if (typeof (root._bokeh_timeout) === \"undefined\" || force === true) {\n",
       "    root._bokeh_timeout = Date.now() + 5000;\n",
       "    root._bokeh_failed_load = false;\n",
       "  }\n",
       "\n",
       "  var NB_LOAD_WARNING = {'data': {'text/html':\n",
       "     \"<div style='background-color: #fdd'>\\n\"+\n",
       "     \"<p>\\n\"+\n",
       "     \"BokehJS does not appear to have successfully loaded. If loading BokehJS from CDN, this \\n\"+\n",
       "     \"may be due to a slow or bad network connection. Possible fixes:\\n\"+\n",
       "     \"</p>\\n\"+\n",
       "     \"<ul>\\n\"+\n",
       "     \"<li>re-rerun `output_notebook()` to attempt to load from CDN again, or</li>\\n\"+\n",
       "     \"<li>use INLINE resources instead, as so:</li>\\n\"+\n",
       "     \"</ul>\\n\"+\n",
       "     \"<code>\\n\"+\n",
       "     \"from bokeh.resources import INLINE\\n\"+\n",
       "     \"output_notebook(resources=INLINE)\\n\"+\n",
       "     \"</code>\\n\"+\n",
       "     \"</div>\"}};\n",
       "\n",
       "  function display_loaded() {\n",
       "    var el = document.getElementById(\"32936da4-987b-41e5-b08c-3b474e552f08\");\n",
       "    if (el != null) {\n",
       "      el.textContent = \"BokehJS is loading...\";\n",
       "    }\n",
       "    if (root.Bokeh !== undefined) {\n",
       "      if (el != null) {\n",
       "        el.textContent = \"BokehJS \" + root.Bokeh.version + \" successfully loaded.\";\n",
       "      }\n",
       "    } else if (Date.now() < root._bokeh_timeout) {\n",
       "      setTimeout(display_loaded, 100)\n",
       "    }\n",
       "  }\n",
       "\n",
       "\n",
       "  function run_callbacks() {\n",
       "    try {\n",
       "      root._bokeh_onload_callbacks.forEach(function(callback) { callback() });\n",
       "    }\n",
       "    finally {\n",
       "      delete root._bokeh_onload_callbacks\n",
       "    }\n",
       "    console.info(\"Bokeh: all callbacks have finished\");\n",
       "  }\n",
       "\n",
       "  function load_libs(js_urls, callback) {\n",
       "    root._bokeh_onload_callbacks.push(callback);\n",
       "    if (root._bokeh_is_loading > 0) {\n",
       "      console.log(\"Bokeh: BokehJS is being loaded, scheduling callback at\", now());\n",
       "      return null;\n",
       "    }\n",
       "    if (js_urls == null || js_urls.length === 0) {\n",
       "      run_callbacks();\n",
       "      return null;\n",
       "    }\n",
       "    console.log(\"Bokeh: BokehJS not loaded, scheduling load and callback at\", now());\n",
       "    root._bokeh_is_loading = js_urls.length;\n",
       "    for (var i = 0; i < js_urls.length; i++) {\n",
       "      var url = js_urls[i];\n",
       "      var s = document.createElement('script');\n",
       "      s.src = url;\n",
       "      s.async = false;\n",
       "      s.onreadystatechange = s.onload = function() {\n",
       "        root._bokeh_is_loading--;\n",
       "        if (root._bokeh_is_loading === 0) {\n",
       "          console.log(\"Bokeh: all BokehJS libraries loaded\");\n",
       "          run_callbacks()\n",
       "        }\n",
       "      };\n",
       "      s.onerror = function() {\n",
       "        console.warn(\"failed to load library \" + url);\n",
       "      };\n",
       "      console.log(\"Bokeh: injecting script tag for BokehJS library: \", url);\n",
       "      document.getElementsByTagName(\"head\")[0].appendChild(s);\n",
       "    }\n",
       "  };var element = document.getElementById(\"32936da4-987b-41e5-b08c-3b474e552f08\");\n",
       "  if (element == null) {\n",
       "    console.log(\"Bokeh: ERROR: autoload.js configured with elementid '32936da4-987b-41e5-b08c-3b474e552f08' but no matching script tag was found. \")\n",
       "    return false;\n",
       "  }\n",
       "\n",
       "  var js_urls = [\"https://cdn.pydata.org/bokeh/release/bokeh-0.12.14.min.js\", \"https://cdn.pydata.org/bokeh/release/bokeh-widgets-0.12.14.min.js\", \"https://cdn.pydata.org/bokeh/release/bokeh-tables-0.12.14.min.js\", \"https://cdn.pydata.org/bokeh/release/bokeh-gl-0.12.14.min.js\"];\n",
       "\n",
       "  var inline_js = [\n",
       "    function(Bokeh) {\n",
       "      Bokeh.set_log_level(\"info\");\n",
       "    },\n",
       "    \n",
       "    function(Bokeh) {\n",
       "      \n",
       "    },\n",
       "    function(Bokeh) {\n",
       "      console.log(\"Bokeh: injecting CSS: https://cdn.pydata.org/bokeh/release/bokeh-0.12.14.min.css\");\n",
       "      Bokeh.embed.inject_css(\"https://cdn.pydata.org/bokeh/release/bokeh-0.12.14.min.css\");\n",
       "      console.log(\"Bokeh: injecting CSS: https://cdn.pydata.org/bokeh/release/bokeh-widgets-0.12.14.min.css\");\n",
       "      Bokeh.embed.inject_css(\"https://cdn.pydata.org/bokeh/release/bokeh-widgets-0.12.14.min.css\");\n",
       "      console.log(\"Bokeh: injecting CSS: https://cdn.pydata.org/bokeh/release/bokeh-tables-0.12.14.min.css\");\n",
       "      Bokeh.embed.inject_css(\"https://cdn.pydata.org/bokeh/release/bokeh-tables-0.12.14.min.css\");\n",
       "    }\n",
       "  ];\n",
       "\n",
       "  function run_inline_js() {\n",
       "    \n",
       "    if ((root.Bokeh !== undefined) || (force === true)) {\n",
       "      for (var i = 0; i < inline_js.length; i++) {\n",
       "        inline_js[i].call(root, root.Bokeh);\n",
       "      }if (force === true) {\n",
       "        display_loaded();\n",
       "      }} else if (Date.now() < root._bokeh_timeout) {\n",
       "      setTimeout(run_inline_js, 100);\n",
       "    } else if (!root._bokeh_failed_load) {\n",
       "      console.log(\"Bokeh: BokehJS failed to load within specified timeout.\");\n",
       "      root._bokeh_failed_load = true;\n",
       "    } else if (force !== true) {\n",
       "      var cell = $(document.getElementById(\"32936da4-987b-41e5-b08c-3b474e552f08\")).parents('.cell').data().cell;\n",
       "      cell.output_area.append_execute_result(NB_LOAD_WARNING)\n",
       "    }\n",
       "\n",
       "  }\n",
       "\n",
       "  if (root._bokeh_is_loading === 0) {\n",
       "    console.log(\"Bokeh: BokehJS loaded, going straight to plotting\");\n",
       "    run_inline_js();\n",
       "  } else {\n",
       "    load_libs(js_urls, function() {\n",
       "      console.log(\"Bokeh: BokehJS plotting callback run at\", now());\n",
       "      run_inline_js();\n",
       "    });\n",
       "  }\n",
       "}(window));"
      ],
      "application/vnd.bokehjs_load.v0+json": "\n(function(root) {\n  function now() {\n    return new Date();\n  }\n\n  var force = true;\n\n  if (typeof (root._bokeh_onload_callbacks) === \"undefined\" || force === true) {\n    root._bokeh_onload_callbacks = [];\n    root._bokeh_is_loading = undefined;\n  }\n\n  \n\n  \n  if (typeof (root._bokeh_timeout) === \"undefined\" || force === true) {\n    root._bokeh_timeout = Date.now() + 5000;\n    root._bokeh_failed_load = false;\n  }\n\n  var NB_LOAD_WARNING = {'data': {'text/html':\n     \"<div style='background-color: #fdd'>\\n\"+\n     \"<p>\\n\"+\n     \"BokehJS does not appear to have successfully loaded. If loading BokehJS from CDN, this \\n\"+\n     \"may be due to a slow or bad network connection. Possible fixes:\\n\"+\n     \"</p>\\n\"+\n     \"<ul>\\n\"+\n     \"<li>re-rerun `output_notebook()` to attempt to load from CDN again, or</li>\\n\"+\n     \"<li>use INLINE resources instead, as so:</li>\\n\"+\n     \"</ul>\\n\"+\n     \"<code>\\n\"+\n     \"from bokeh.resources import INLINE\\n\"+\n     \"output_notebook(resources=INLINE)\\n\"+\n     \"</code>\\n\"+\n     \"</div>\"}};\n\n  function display_loaded() {\n    var el = document.getElementById(\"32936da4-987b-41e5-b08c-3b474e552f08\");\n    if (el != null) {\n      el.textContent = \"BokehJS is loading...\";\n    }\n    if (root.Bokeh !== undefined) {\n      if (el != null) {\n        el.textContent = \"BokehJS \" + root.Bokeh.version + \" successfully loaded.\";\n      }\n    } else if (Date.now() < root._bokeh_timeout) {\n      setTimeout(display_loaded, 100)\n    }\n  }\n\n\n  function run_callbacks() {\n    try {\n      root._bokeh_onload_callbacks.forEach(function(callback) { callback() });\n    }\n    finally {\n      delete root._bokeh_onload_callbacks\n    }\n    console.info(\"Bokeh: all callbacks have finished\");\n  }\n\n  function load_libs(js_urls, callback) {\n    root._bokeh_onload_callbacks.push(callback);\n    if (root._bokeh_is_loading > 0) {\n      console.log(\"Bokeh: BokehJS is being loaded, scheduling callback at\", now());\n      return null;\n    }\n    if (js_urls == null || js_urls.length === 0) {\n      run_callbacks();\n      return null;\n    }\n    console.log(\"Bokeh: BokehJS not loaded, scheduling load and callback at\", now());\n    root._bokeh_is_loading = js_urls.length;\n    for (var i = 0; i < js_urls.length; i++) {\n      var url = js_urls[i];\n      var s = document.createElement('script');\n      s.src = url;\n      s.async = false;\n      s.onreadystatechange = s.onload = function() {\n        root._bokeh_is_loading--;\n        if (root._bokeh_is_loading === 0) {\n          console.log(\"Bokeh: all BokehJS libraries loaded\");\n          run_callbacks()\n        }\n      };\n      s.onerror = function() {\n        console.warn(\"failed to load library \" + url);\n      };\n      console.log(\"Bokeh: injecting script tag for BokehJS library: \", url);\n      document.getElementsByTagName(\"head\")[0].appendChild(s);\n    }\n  };var element = document.getElementById(\"32936da4-987b-41e5-b08c-3b474e552f08\");\n  if (element == null) {\n    console.log(\"Bokeh: ERROR: autoload.js configured with elementid '32936da4-987b-41e5-b08c-3b474e552f08' but no matching script tag was found. \")\n    return false;\n  }\n\n  var js_urls = [\"https://cdn.pydata.org/bokeh/release/bokeh-0.12.14.min.js\", \"https://cdn.pydata.org/bokeh/release/bokeh-widgets-0.12.14.min.js\", \"https://cdn.pydata.org/bokeh/release/bokeh-tables-0.12.14.min.js\", \"https://cdn.pydata.org/bokeh/release/bokeh-gl-0.12.14.min.js\"];\n\n  var inline_js = [\n    function(Bokeh) {\n      Bokeh.set_log_level(\"info\");\n    },\n    \n    function(Bokeh) {\n      \n    },\n    function(Bokeh) {\n      console.log(\"Bokeh: injecting CSS: https://cdn.pydata.org/bokeh/release/bokeh-0.12.14.min.css\");\n      Bokeh.embed.inject_css(\"https://cdn.pydata.org/bokeh/release/bokeh-0.12.14.min.css\");\n      console.log(\"Bokeh: injecting CSS: https://cdn.pydata.org/bokeh/release/bokeh-widgets-0.12.14.min.css\");\n      Bokeh.embed.inject_css(\"https://cdn.pydata.org/bokeh/release/bokeh-widgets-0.12.14.min.css\");\n      console.log(\"Bokeh: injecting CSS: https://cdn.pydata.org/bokeh/release/bokeh-tables-0.12.14.min.css\");\n      Bokeh.embed.inject_css(\"https://cdn.pydata.org/bokeh/release/bokeh-tables-0.12.14.min.css\");\n    }\n  ];\n\n  function run_inline_js() {\n    \n    if ((root.Bokeh !== undefined) || (force === true)) {\n      for (var i = 0; i < inline_js.length; i++) {\n        inline_js[i].call(root, root.Bokeh);\n      }if (force === true) {\n        display_loaded();\n      }} else if (Date.now() < root._bokeh_timeout) {\n      setTimeout(run_inline_js, 100);\n    } else if (!root._bokeh_failed_load) {\n      console.log(\"Bokeh: BokehJS failed to load within specified timeout.\");\n      root._bokeh_failed_load = true;\n    } else if (force !== true) {\n      var cell = $(document.getElementById(\"32936da4-987b-41e5-b08c-3b474e552f08\")).parents('.cell').data().cell;\n      cell.output_area.append_execute_result(NB_LOAD_WARNING)\n    }\n\n  }\n\n  if (root._bokeh_is_loading === 0) {\n    console.log(\"Bokeh: BokehJS loaded, going straight to plotting\");\n    run_inline_js();\n  } else {\n    load_libs(js_urls, function() {\n      console.log(\"Bokeh: BokehJS plotting callback run at\", now());\n      run_inline_js();\n    });\n  }\n}(window));"
     },
     "metadata": {},
     "output_type": "display_data"
    }
   ],
   "source": [
    "output_notebook()"
   ]
  },
  {
   "cell_type": "code",
   "execution_count": 8,
   "metadata": {
    "collapsed": true
   },
   "outputs": [],
   "source": [
    "def fmt_cool(ds_in):\n",
    "    ds = ds_in.copy(deep=True)\n",
    "    if 'igg' in ds.dims:\n",
    "        ds = ds.sel(igg=1)\n",
    "\n",
    "    if 'g' in ds.dims:\n",
    "        ds = ds.sum('g')\n",
    "            \n",
    "    if 'band' in ds.dims:\n",
    "        try:\n",
    "            ds = ds.squeeze('band')\n",
    "        except ValueError:\n",
    "            ds = ds.sum('band')\n",
    "                \n",
    "    return ds['coolrg']\n",
    "\n",
    "\n",
    "def pltdata_cooling_1(ds_cool=None,\n",
    "                      ds_cool_crd=None, ds_cool_wgt=None):\n",
    "    \n",
    "\n",
    "\n",
    "    colors = all_palettes['Set1'][4]\n",
    "    data = [{'label': 'CLIRAD `coolr_bands`',\n",
    "             'srs': fmt_cool(ds_cool),\n",
    "             'line_dash': 'dashed', 'line_width': 5,\n",
    "             'color': colors[0], 'alpha': .6},\n",
    "            {'label': 'CRD',\n",
    "             'srs': fmt_cool(ds_cool_crd),\n",
    "             'line_dash': 'solid', 'line_width': 1.5,\n",
    "             'marker': 'circle', 'marker_size': 5,\n",
    "             'color': colors[2], 'alpha': 1,},\n",
    "            {'label': 'WGT igg=10 wgt_flux=2',\n",
    "             'srs': fmt_cool(ds_cool_wgt),\n",
    "             'line_dash': 'solid', 'line_width': 3,\n",
    "             'marker': 'square', 'marker_size': 5,\n",
    "             'color': colors[3], 'alpha': .6}]\n",
    "    return data\n",
    "\n",
    "\n",
    "def nice_xlims(pltdata=None, prange=None):\n",
    "    \n",
    "    def get_slice(srs):\n",
    "        return srs.sel(pressure=slice(*prange))\n",
    "    \n",
    "    srss = [d['srs'] for d in pltdata]\n",
    "    vmin = min([get_slice(srs).min() for srs in srss])\n",
    "    vmax = max([get_slice(srs).max() for srs in srss])\n",
    "    dv = (vmax - vmin) * .01\n",
    "    return float(vmin - dv), float(vmax + dv)\n",
    "    \n",
    "\n",
    "def plt_cooling_bokeh(pltdata=None):\n",
    "    '''\n",
    "    Plot a list of cooling rate profiles using bokeh.\n",
    "    '''\n",
    "    ymin = 1e-2 \n",
    "    ymax = 1020 \n",
    "        \n",
    "    p1 = figure(title=\"Linear pressure scale\", \n",
    "                plot_width=400)        \n",
    "    xmin, xmax = nice_xlims(pltdata, prange=(50, 1050))\n",
    "    for d in pltdata:\n",
    "        if 'marker' in d:\n",
    "            getattr(p1, d['marker'])(d['srs'].values, \n",
    "                    d['srs'].coords['pressure'].values,\n",
    "                    color=d['color'], alpha=.7)\n",
    "        p1.line(d['srs'].values, \n",
    "                d['srs'].coords['pressure'].values,\n",
    "                color=d['color'], alpha=d['alpha'], \n",
    "                line_width=d['line_width'], line_dash=d['line_dash'])\n",
    "    \n",
    "    p1.y_range = Range1d(ymax, ymin)\n",
    "    p1.yaxis.axis_label = 'pressure [mb]'   \n",
    "    p1.x_range = Range1d(xmin, xmax)\n",
    "    p1.xaxis.axis_label = 'cooling rate [K/day]'\n",
    "            \n",
    "    p2 = figure(title='Log pressure scale', y_axis_type='log',\n",
    "                plot_width=560)\n",
    "    xmin, xmax = nice_xlims(pltdata, prange=(.01, 200))\n",
    "    \n",
    "    rs = []\n",
    "    for d in pltdata:\n",
    "        rd = []\n",
    "        if 'marker' in d:\n",
    "            r_mark = getattr(p2, d['marker'])(d['srs'].values, \n",
    "                        d['srs'].coords['pressure'].values,\n",
    "                        color=d['color'], alpha=.7)\n",
    "            rd.append(r_mark)\n",
    "        r_line = p2.line(d['srs'].values, \n",
    "                    d['srs'].coords['pressure'].values,\n",
    "                    color=d['color'], alpha=d['alpha'], \n",
    "                    line_width=d['line_width'], line_dash=d['line_dash'])\n",
    "        rd.append(r_line)\n",
    "      \n",
    "        rs.append(rd)\n",
    "        \n",
    "    p2.y_range = Range1d(ymax, ymin)  \n",
    "    p2.yaxis.axis_label = 'pressure [mb]'\n",
    "    \n",
    "    p2.x_range = Range1d(xmin, xmax)\n",
    "    p2.xaxis.axis_label = 'cooling rate [K/day]'\n",
    "    \n",
    "    items = [(d['label'], r) for r, d in zip(rs, pltdata)]\n",
    "    legend = Legend(items=items, location=(10, -30))\n",
    "    legend.label_text_font_size = '8pt'\n",
    "    \n",
    "    p2.add_layout(legend, 'right')  \n",
    "    \n",
    "    show(gridplot(p1, p2, ncols=2, plot_height=500))\n",
    "    \n",
    "\n",
    "def script_plt_cooling():\n",
    "    pltdata = pltdata_cooling_1(\n",
    "        ds_cool=DS_COOL,\n",
    "        ds_cool_crd=DS_COOL_CRD,\n",
    "        ds_cool_wgt=DS_COOL_WGT)\n",
    "    plt_cooling_bokeh(pltdata=pltdata)\n",
    "    print('''FIGURE. Cooling rate profiles.''')"
   ]
  },
  {
   "cell_type": "code",
   "execution_count": 9,
   "metadata": {
    "collapsed": true
   },
   "outputs": [],
   "source": [
    "def fmt_flux(ds_in):\n",
    "    ds = ds_in.copy(deep=True)\n",
    "    \n",
    "    for l in ('level', 'layer'):\n",
    "        if l in ds.data_vars:\n",
    "            if len(ds[l].dims) > 1:\n",
    "                surface = {d: 0 for d in ds.dims if d != 'pressure'}\n",
    "                coord_level = ds[l][surface]\n",
    "                ds.coords[l] = ('pressure', coord_level)\n",
    "            else:\n",
    "                ds.coords[l] = ('pressure', ds[l])\n",
    "        \n",
    "    ds = ds.isel(pressure=[0, 23, -1])\n",
    "        \n",
    "    if 'igg' in ds.dims:\n",
    "        ds = ds.sel(igg=[1])\n",
    "        ds = ds.squeeze('igg').drop('igg')\n",
    "    \n",
    "    if 'g' in ds.dims:\n",
    "        ds = ds.sum('g')\n",
    "            \n",
    "    if 'band' in ds.dims:\n",
    "        try:\n",
    "            ds = ds.squeeze('band').drop('band')\n",
    "        except ValueError:\n",
    "            ds = ds.sum('band')\n",
    "                \n",
    "    df = ds.to_dataframe()\n",
    "    df = df.set_index('level', append=True)               \n",
    "    return df\n",
    "\n",
    "\n",
    "def tbdata_flux(ds_flux=None, ds_flux_crd=None, ds_flux_wgt=None):\n",
    "    ilevels = [0, 23, -1]\n",
    "            \n",
    "    benchmark = {'label': 'WGT igg=10 wgt_flux=1',\n",
    "                 'df': fmt_flux(ds_flux_wgt)}\n",
    "    \n",
    "    tbs = [{'label': 'CRD',\n",
    "            'df': fmt_flux(ds_flux_crd)},\n",
    "           {'label': 'CLIRAD',\n",
    "            'df': fmt_flux(ds_flux)}]\n",
    "    \n",
    "    data = {'benchmark': benchmark, 'others': tbs}\n",
    "    return data\n",
    "\n",
    "\n",
    "def tb_flux(tbdata=None):\n",
    "    benchmark = tbdata['benchmark']\n",
    "    others = tbdata['others']\n",
    "    \n",
    "    def show_tb(d=None):\n",
    "        display.display(d['df'])\n",
    "        print('Table.', 'Fluxes.', d['label'])\n",
    "        \n",
    "    def show_tbdiff(d0=None, d=None):\n",
    "        df = d['df']\n",
    "        df.index = d0['df'].index\n",
    "        display.display(df - d0['df'])\n",
    "        print('Table.', 'Fluxes.', \n",
    "              '({}) - ({})'.format(d['label'], d0['label']))\n",
    "        \n",
    "    show_tb(benchmark)\n",
    "    for d in others:\n",
    "        show_tb(d)\n",
    "        \n",
    "    for d in others:\n",
    "        show_tbdiff(d=d, d0=benchmark)\n",
    "        \n",
    "        \n",
    "def script_tb_flux():\n",
    "    data = tbdata_flux(ds_flux=DS_FLUX,\n",
    "                       ds_flux_crd=DS_FLUX_CRD,\n",
    "                       ds_flux_wgt=DS_FLUX_WGT)\n",
    "    tb_flux(tbdata=data)"
   ]
  },
  {
   "cell_type": "code",
   "execution_count": 10,
   "metadata": {
    "collapsed": true
   },
   "outputs": [],
   "source": [
    "def band_map():\n",
    "    '''\n",
    "    Maps spectral bands in lblnew to spectral bands in clirad.\n",
    "    '''\n",
    "    lblnew2clirad = {'1': '1',\n",
    "            '2': '2',\n",
    "            '3a': '3',\n",
    "            '3b': '4',\n",
    "            '3c': '5',\n",
    "            '4': '6', \n",
    "            '5': '7',\n",
    "            '6': '8',\n",
    "            '7': '9', \n",
    "            '8': '10',\n",
    "            '9': '11'}\n",
    "    \n",
    "    clirad2lblnew = {clirad: lblnew \n",
    "                     for lblnew, clirad in lblnew2clirad.items()}\n",
    "    return clirad2lblnew\n",
    "\n",
    "\n",
    "def gasbands():\n",
    "    bmap = band_map()\n",
    "    gases = list(PARAM['molecule'].keys())\n",
    "    \n",
    "    bands = [bmap[str(b)] for b in PARAM['band']]\n",
    "    return list(itertools.product(gases, bands))\n",
    "\n",
    "\n",
    "def print_bestfit_params():\n",
    "    print('Best-fit values for each (gas, band)')\n",
    "    print('------------------------------------')\n",
    "    for gas, band in gasbands():\n",
    "        print('o {} band{}'.format(gas, band))\n",
    "        param = bestfits.kdist_params(molecule=gas, band=band)\n",
    "        for name, value in param.items():\n",
    "            print(2 * ' ' + '{} = {}'.format(name, value))\n",
    "\n",
    "        \n",
    "def print_input_param():        \n",
    "    for name, value in PARAM.items():\n",
    "        print('{} = {}'.format(name, value))\n",
    "        \n",
    "        \n",
    "def print_lblnew_param():\n",
    "    for name, value in PARAM_LBLNEW.items():\n",
    "        print('{} = {}'.format(name, value))\n"
   ]
  },
  {
   "cell_type": "code",
   "execution_count": 11,
   "metadata": {
    "collapsed": true,
    "scrolled": false
   },
   "outputs": [],
   "source": [
    "def show_html(s):\n",
    "    display.display(display.HTML(s))\n",
    "\n",
    "    \n",
    "def show_markdown(s):\n",
    "    display.display(display.Markdown(s))\n",
    "\n",
    "    \n",
    "def script():\n",
    "    \n",
    "    title = '### CLIRAD-LW'\n",
    "    s_input = 'Input Parameters'\n",
    "    s_lblnew_param = 'LBLNEW case compaired against'\n",
    "    s_bestfits = 'Best-fit Parameters'\n",
    "    s_plt_cooling = 'Cooling Rate Profiles'\n",
    "    s_tb_flux = 'Flux Comparison'\n",
    "    \n",
    "    # title\n",
    "    show_markdown('### CLIRAD-LW')\n",
    "    \n",
    "    # TOC\n",
    "    show_markdown('### Table of Contents')\n",
    "    show_html(climahtml.getHTML_hrefanchor(s_input))\n",
    "    show_html(climahtml.getHTML_hrefanchor(s_lblnew_param))\n",
    "    show_html(climahtml.getHTML_hrefanchor(s_plt_cooling))\n",
    "    show_html(climahtml.getHTML_hrefanchor(s_tb_flux))\n",
    "    show_html(climahtml.getHTML_hrefanchor(s_bestfits))\n",
    "    \n",
    "    # Input parameters\n",
    "    show_html(climahtml.getHTML_idanchor(s_input))\n",
    "    show_markdown(climahtml.getMarkdown_sectitle(s_input))\n",
    "    print_input_param()\n",
    "    \n",
    "    # LBLNEW parameters \n",
    "    show_html(climahtml.getHTML_idanchor(s_lblnew_param))\n",
    "    show_markdown(climahtml.getMarkdown_sectitle(s_lblnew_param))\n",
    "    print_lblnew_param()\n",
    "    \n",
    "    # Cooling rate profiles\n",
    "    show_html(climahtml.getHTML_idanchor(s_plt_cooling))\n",
    "    show_markdown(climahtml.getMarkdown_sectitle(s_plt_cooling))\n",
    "    script_plt_cooling()\n",
    "    \n",
    "    # Flux comparison\n",
    "    show_html(climahtml.getHTML_idanchor(s_tb_flux))\n",
    "    show_markdown(climahtml.getMarkdown_sectitle(s_tb_flux))\n",
    "    script_tb_flux()\n",
    "    \n",
    "    # Best-fit values\n",
    "    show_html(climahtml.getHTML_idanchor(s_bestfits))\n",
    "    show_markdown(climahtml.getMarkdown_sectitle(s_bestfits))\n",
    "    print_bestfit_params()\n",
    "   \n",
    "    "
   ]
  },
  {
   "cell_type": "code",
   "execution_count": 12,
   "metadata": {
    "scrolled": false
   },
   "outputs": [
    {
     "data": {
      "text/markdown": [
       "### CLIRAD-LW"
      ],
      "text/plain": [
       "<IPython.core.display.Markdown object>"
      ]
     },
     "metadata": {},
     "output_type": "display_data"
    },
    {
     "data": {
      "text/markdown": [
       "### Table of Contents"
      ],
      "text/plain": [
       "<IPython.core.display.Markdown object>"
      ]
     },
     "metadata": {},
     "output_type": "display_data"
    },
    {
     "data": {
      "text/html": [
       "<a href=\"#Input_Parameters\">Input Parameters</a>"
      ],
      "text/plain": [
       "<IPython.core.display.HTML object>"
      ]
     },
     "metadata": {},
     "output_type": "display_data"
    },
    {
     "data": {
      "text/html": [
       "<a href=\"#LBLNEW_case_compaired_against\">LBLNEW case compaired against</a>"
      ],
      "text/plain": [
       "<IPython.core.display.HTML object>"
      ]
     },
     "metadata": {},
     "output_type": "display_data"
    },
    {
     "data": {
      "text/html": [
       "<a href=\"#Cooling_Rate_Profiles\">Cooling Rate Profiles</a>"
      ],
      "text/plain": [
       "<IPython.core.display.HTML object>"
      ]
     },
     "metadata": {},
     "output_type": "display_data"
    },
    {
     "data": {
      "text/html": [
       "<a href=\"#Flux_Comparison\">Flux Comparison</a>"
      ],
      "text/plain": [
       "<IPython.core.display.HTML object>"
      ]
     },
     "metadata": {},
     "output_type": "display_data"
    },
    {
     "data": {
      "text/html": [
       "<a href=\"#Best-fit_Parameters\">Best-fit Parameters</a>"
      ],
      "text/plain": [
       "<IPython.core.display.HTML object>"
      ]
     },
     "metadata": {},
     "output_type": "display_data"
    },
    {
     "data": {
      "text/html": [
       "<a id=\"Input_Parameters\"></a>"
      ],
      "text/plain": [
       "<IPython.core.display.HTML object>"
      ]
     },
     "metadata": {},
     "output_type": "display_data"
    },
    {
     "data": {
      "text/markdown": [
       "# Input Parameters"
      ],
      "text/plain": [
       "<IPython.core.display.Markdown object>"
      ]
     },
     "metadata": {},
     "output_type": "display_data"
    },
    {
     "name": "stdout",
     "output_type": "stream",
     "text": [
      "atmpro = mls\n",
      "band = [9]\n",
      "commitnumber = 7a7a0e1\n",
      "molecule = {'h2o': 'atmpro'}\n",
      "tsfc = 294\n"
     ]
    },
    {
     "data": {
      "text/html": [
       "<a id=\"LBLNEW_case_compaired_against\"></a>"
      ],
      "text/plain": [
       "<IPython.core.display.HTML object>"
      ]
     },
     "metadata": {},
     "output_type": "display_data"
    },
    {
     "data": {
      "text/markdown": [
       "# LBLNEW case compaired against"
      ],
      "text/plain": [
       "<IPython.core.display.Markdown object>"
      ]
     },
     "metadata": {},
     "output_type": "display_data"
    },
    {
     "name": "stdout",
     "output_type": "stream",
     "text": [
      "molecule = h2o\n",
      "band = 7\n",
      "commitnumber = d62b618\n",
      "vmin = 1215\n",
      "vmax = 1380\n",
      "dv = 0.001\n",
      "nv = 1000\n",
      "ref_pts = [(600, 250)]\n",
      "ng_refs = [7]\n",
      "ng_adju = [0]\n",
      "klin = 0\n",
      "option_wgt_k = 1\n",
      "wgt = [(0.5, 0.5, 0.5, 0.5, 0.5, 0.5, 0.9)]\n",
      "w_diffuse = [(2, 1.6, 1.6, 1.6, 1.6, 1.6, 1.8)]\n",
      "option_wgt_flux = 1\n",
      "atmpro = mls\n",
      "tsfc = 294\n",
      "conc = None\n",
      "option_compute_btable = 0\n",
      "option_compute_ktable = 1\n"
     ]
    },
    {
     "data": {
      "text/html": [
       "<a id=\"Cooling_Rate_Profiles\"></a>"
      ],
      "text/plain": [
       "<IPython.core.display.HTML object>"
      ]
     },
     "metadata": {},
     "output_type": "display_data"
    },
    {
     "data": {
      "text/markdown": [
       "# Cooling Rate Profiles"
      ],
      "text/plain": [
       "<IPython.core.display.Markdown object>"
      ]
     },
     "metadata": {},
     "output_type": "display_data"
    },
    {
     "data": {
      "text/html": [
       "\n",
       "<div class=\"bk-root\">\n",
       "    <div class=\"bk-plotdiv\" id=\"759a4eeb-801a-4b51-bcbf-919756714394\"></div>\n",
       "</div>"
      ]
     },
     "metadata": {},
     "output_type": "display_data"
    },
    {
     "data": {
      "application/javascript": [
       "(function(root) {\n",
       "  function embed_document(root) {\n",
       "    \n",
       "  var docs_json = {\"04747133-54ff-4158-8cff-c2735cb5fed5\":{\"roots\":{\"references\":[{\"attributes\":{\"data_source\":{\"id\":\"4e08ef64-2fbf-45aa-b9fb-45392955489d\",\"type\":\"ColumnDataSource\"},\"glyph\":{\"id\":\"4d25caf9-4169-456e-a06a-b124457da578\",\"type\":\"Line\"},\"hover_glyph\":null,\"muted_glyph\":null,\"nonselection_glyph\":{\"id\":\"0de92408-8fc3-4229-abc1-988474a99679\",\"type\":\"Line\"},\"selection_glyph\":null,\"view\":{\"id\":\"4ffcf2d6-5dfe-4b07-9427-90c42ed90081\",\"type\":\"CDSView\"}},\"id\":\"b349c415-34eb-41fe-ad33-2b46adb7afce\",\"type\":\"GlyphRenderer\"},{\"attributes\":{\"source\":{\"id\":\"a187838c-164c-48bc-9227-a4992c201b49\",\"type\":\"ColumnDataSource\"}},\"id\":\"adf0d9e5-1281-476b-bed8-457b84b04ede\",\"type\":\"CDSView\"},{\"attributes\":{\"callback\":null,\"column_names\":[\"x\",\"y\"],\"data\":{\"x\":{\"__ndarray__\":\"68bBAUJmbb91Id9w4lVtv/sONp8wLW2/KJekRc39bL+imwuIes1svwhncApdmGy/bVXK3lZibL9b4j9bUidsv8wl18mn62u/CYK0+LWya7/eA+RqbH9rv7U3BaRHVGu/dlyGoCf8ar8KFzvfJA1rv5Z2r7l4Nmq/gGljOYEhZr+VVa3VMiNZv0Hk+Lyj5jc/vBoRrrZZaj8DGvUkuvR9PzVbPx52too/udDe3gpolT8iBbkF93WdP7fheou86Zw/Y7nxY9bPlD9fxLjHRN2KPw09fLailoA/fm+KgCcKdD9RTh20KgxpP81Tvf8GImA/YDJ9ijabVD8nEzZBLe1IP/b/zm0NPUA/LnqBffKGNz/4H5Ks7PEqP1q2o9EA2PE+qfd6xlwmGb/USQK+G7sjv48cxaXAni6/2P6VaQzqMr89f5phjcAlvyLEBuQ6oUo/kGRHxEMBaz8sTN0hvv18P0joDjIu9Ic/yHoo2QMQjz+rBjunVOeTP8dZq1KH0Jk/+3CdOueLoD8oFwXvG8ekP+i9Acvpaak/C3CsUTDfrT/+6nlQszSxP7t0CCZ7p7M/OM7YXcEytj/8Gb2e2Ni4PyEXB13jr7s/mX3k97LEvz+hTMTXrrvBPy6CENq8O8M/qbV6mAd6xD+vdlYDe2nFP4WRJCllKcY/zS3fwAXVxj+6KKNflWrHP8U1wsuh/8c/j1lR3iKLyD87Xz8GI93IP5n+ug1Jscg/llpzcH79xz/gQ3D5mxLHPyEqhSeRUMY/ELkyC2HzxT9+e/A90EjGP1t3NXFZIss/\",\"dtype\":\"float64\",\"shape\":[75]},\"y\":{\"__ndarray__\":\"GhExyth1ND/Sv8nbtpRIP2vylNV0PVE/aTum7souWD/At0SJ8fVgPw3Iuahxymc/MSNhhJWvcD/bTfBN02d3P2zb5nxnaoA/CD5h5MAGhz8NmeH1TyaQP+zrCsc9p5Y/LbKd76fGnz/bLW5ISEmmPww9YvTcQq8/JV2OstnstT8Er5Y7M8G+P0c+r3jqkcU/5h99k6ZBzj88bCIzFzjVP4enV8oyxN0//yH99nXg5D8qOpLLf0jtP5kqGJXUifQ/c9cS8kHP/D+/DpwzojQEQIEmwoanVwxA4lgXt9HgE0BSSZ2AJuIbQAMJih9jjiNA5q4l5INuK0AwTKYKRj0zQNv5fmq8/DpAaCJseHrtQkB/+zpwzoxKQM3MzMzMeFJAZmZmZmZqWEAAAAAAAFxeQM3MzMzMJmJAmpmZmZkfZUBmZmZmZhhoQDMzMzMzEWtAAAAAAAAKbkBmZmZmZoFwQM3MzMzM/XFAMzMzMzN6c0CamZmZmfZ0QAAAAAAAc3ZAZmZmZmbvd0DNzMzMzGt5QDMzMzMz6HpAmpmZmZlkfEAAAAAAAOF9QGZmZmZmXX9AZmZmZuZsgECamZmZGSuBQM3MzMxM6YFAAAAAAICngkAzMzMzs2WDQGZmZmbmI4RAmpmZmRnihEDNzMzMTKCFQAAAAACAXoZAMzMzM7Mch0BmZmZm5tqHQJqZmZkZmYhAzczMzExXiUAAAAAAgBWKQDMzMzOz04pAZmZmZuaRi0CamZmZGVCMQM3MzMxMDo1AAAAAAIDMjUAzMzMzs4qOQGZmZmbmSI9A\",\"dtype\":\"float64\",\"shape\":[75]}}},\"id\":\"8107740a-64e8-4df7-8b44-a0694d5bba84\",\"type\":\"ColumnDataSource\"},{\"attributes\":{\"data_source\":{\"id\":\"6ab0a8bf-5316-495e-8283-4674b35c1b6c\",\"type\":\"ColumnDataSource\"},\"glyph\":{\"id\":\"6f268645-8838-4f1a-b5a0-15964500fd18\",\"type\":\"Line\"},\"hover_glyph\":null,\"muted_glyph\":null,\"nonselection_glyph\":{\"id\":\"c291ed52-28b4-4833-bef5-8ce822153097\",\"type\":\"Line\"},\"selection_glyph\":null,\"view\":{\"id\":\"15176a99-d4fa-4187-84df-a047e9e10ac5\",\"type\":\"CDSView\"}},\"id\":\"fb6dc778-abfd-4833-8f13-c9bcafa68d22\",\"type\":\"GlyphRenderer\"},{\"attributes\":{\"fill_alpha\":{\"value\":0.7},\"fill_color\":{\"value\":\"#4daf4a\"},\"line_alpha\":{\"value\":0.7},\"line_color\":{\"value\":\"#4daf4a\"},\"x\":{\"field\":\"x\"},\"y\":{\"field\":\"y\"}},\"id\":\"341aa38c-aad5-4d48-a3c5-2e845d4d52c7\",\"type\":\"Circle\"},{\"attributes\":{\"fill_alpha\":{\"value\":0.1},\"fill_color\":{\"value\":\"#1f77b4\"},\"line_alpha\":{\"value\":0.1},\"line_color\":{\"value\":\"#1f77b4\"},\"x\":{\"field\":\"x\"},\"y\":{\"field\":\"y\"}},\"id\":\"3773e7ea-b182-4f6c-bf8e-651fa0d992b1\",\"type\":\"Circle\"},{\"attributes\":{\"callback\":null,\"column_names\":[\"x\",\"y\"],\"data\":{\"x\":{\"__ndarray__\":\"AAAAAAAAAAAAAAAAAAAAAAAAAAAAAAAAAAAAAAAAAAAAAAAAAAAAAAAAAAAAAAAAAAAAAAAAAADGndaerjaBv0kAzO8Ti4g/IzfTXUp/cT8nLgf+l/JovyFO1toKyWG/V99JH8RbaT8+NxvIBhRSv+tNCB+oxkk/5G+GGV2QWz+zaMrmWzNaP1WrcSbNrmk/i0CG4Il4dj/SWKc8TXV/P80alOf8P4c/Ld4gPtaqkD/RQ+niobWVP6YWd6cuJZY/fw/sZcw+kj+Qcd5i8sSLPzG+i54rr4Q/rBxMXjPtfT/IkwLdJ991P0qXdllwoG8/mjvgnejxZT/Iy9aW08BcP+ZFoYIOdVI/65a1QFJ9Rz8WrQvBEGw4P8ctYMREPg8/ayB1dhSZIL9eWTKhttItv6DQYWV58jS/kiXDwwJ0OL9Vli6bctYzv2UpvoCgST8/9T5ZYrpYZT+z6LJc46h5P53UG95BJog/QoYRn5R5jj+YTZf9bkWSP3ZjwOA6yZc/py8ZAfR/nz/Gzv+eZBqkP53hA8Tvaag/WmbAQq4grD89FIHBoBKwP9qB0AAygrI/YJixQHJttT/fZNLhTIy4PyLNcdE9qbs/SaKXUSy3vz+F61G4HoXBPzTLEltJxMI/xoWHWf3Lwz8V8ACJBcLEPwJflwJOxsU/uy/jfYfoxj/OqQHW7PnHP4WcteOf/Mg/eMKeuBS+yT8pJxQB0ifKP+rqTKlk48k/WgrtQa0OyT9Jcm1m/BTIP5ud+2E6Y8c/OYGnmJw9xz/AQoOg5fHHP9iSXYK2ycw/\",\"dtype\":\"float64\",\"shape\":[75]},\"y\":{\"__ndarray__\":\"S/O/Q+51ND/430zAtpRIP2vylNV0PVE/QxsjCssuWD/TR4Z78fVgP+inNsRxymc/OuuBfZWvcD/u3TFA02d3P2d3VoBnaoA/CD5h5MAGhz/1pA8HUCaQP+zrCsc9p5Y/Fb7LAKjGnz/nJ9c/SEmmPwBD+fzcQq8/FOZwv9nstT8Er5Y7M8G+P0c+r3jqkcU/yK72qKZBzj+tM989FzjVPxbgmr8yxN0/cOm5AXbg5D+5ctXAf0jtP5kqGJXUifQ/DsrqDELP/D8MCAhBojQEQDItVnmnVwxAiFXNvdHgE0BSSZ2AJuIbQAMJih9jjiNA5q4l5INuK0CPVN/5RT0zQHzxRXu8/DpAOZ7PgHrtQkAg8wGBzoxKQBSTN8DMeFJA2NmQf2ZqWEAAAAAAAFxeQEQX1LfMJmJAmpmZmZkfZUBmZmZmZhhoQLzoK0gzEWtAAAAAAAAKbkCiC+pbZoFwQAhyUMLM/XFA+I2vPTN6c0AQ5KCEmfZ0QAAAAAAAc3ZA8Btfe2bvd0AIclDCzGt5QPeNrz0z6HpAEOSghJlkfEAAAAAAAOF9QKML6ltmXX9ABTkoYeZsgED7xteeGSuBQAhyUMJM6YFAAAAAAICngkD4ja89s2WDQAU5KGHmI4RA+8bXnhnihEAIclDCTKCFQAAAAACAXoZA+I2vPbMch0AFOShh5tqHQPvG154ZmYhACHJQwkxXiUAAAAAAgBWKQPeNrz2z04pABTkoYeaRi0D7xteeGVCMQAlyUMJMDo1AAAAAAIDMjUD3ja89s4qOQGZmZmbmSI9A\",\"dtype\":\"float64\",\"shape\":[75]}}},\"id\":\"4e08ef64-2fbf-45aa-b9fb-45392955489d\",\"type\":\"ColumnDataSource\"},{\"attributes\":{\"source\":{\"id\":\"6ab0a8bf-5316-495e-8283-4674b35c1b6c\",\"type\":\"ColumnDataSource\"}},\"id\":\"15176a99-d4fa-4187-84df-a047e9e10ac5\",\"type\":\"CDSView\"},{\"attributes\":{},\"id\":\"8322334a-82f2-469b-9016-69f2535c92b5\",\"type\":\"BasicTickFormatter\"},{\"attributes\":{\"fill_alpha\":{\"value\":0.1},\"fill_color\":{\"value\":\"#1f77b4\"},\"line_alpha\":{\"value\":0.1},\"line_color\":{\"value\":\"#1f77b4\"},\"x\":{\"field\":\"x\"},\"y\":{\"field\":\"y\"}},\"id\":\"b6425802-6969-426f-a393-2a68a818750a\",\"type\":\"Circle\"},{\"attributes\":{\"callback\":null,\"end\":0.01,\"start\":1020},\"id\":\"1615c493-a75e-4482-9f3a-af89b0fd9fc8\",\"type\":\"Range1d\"},{\"attributes\":{\"data_source\":{\"id\":\"8107740a-64e8-4df7-8b44-a0694d5bba84\",\"type\":\"ColumnDataSource\"},\"glyph\":{\"id\":\"341aa38c-aad5-4d48-a3c5-2e845d4d52c7\",\"type\":\"Circle\"},\"hover_glyph\":null,\"muted_glyph\":null,\"nonselection_glyph\":{\"id\":\"b6425802-6969-426f-a393-2a68a818750a\",\"type\":\"Circle\"},\"selection_glyph\":null,\"view\":{\"id\":\"c759f024-1adc-4cd7-a96e-700d8f7a0900\",\"type\":\"CDSView\"}},\"id\":\"9b5ecb8b-ea51-48c3-85aa-e285cea61d28\",\"type\":\"GlyphRenderer\"},{\"attributes\":{\"line_color\":\"#4daf4a\",\"line_width\":1.5,\"x\":{\"field\":\"x\"},\"y\":{\"field\":\"y\"}},\"id\":\"9da34538-4706-405d-abe8-c3faebbb583e\",\"type\":\"Line\"},{\"attributes\":{\"callback\":null,\"column_names\":[\"x\",\"y\"],\"data\":{\"x\":{\"__ndarray__\":\"yASQSAcwLr8jMEAAlposv7CxxBecJCm/hcmmhH9VJb8E+5aMLV4hv7CVWKIFfRq/iyUHEevqEb/RuWGRFAgCv3jewPw4UuE+ViqKCGgnCD/hw9dPQQsWP90pu9LILyA/eKG1v7WJJT8kM2/nRHIrP4GjItagITc/Ct04RET5Sj+GYuqzYq5cP3mXN/iBkGk/xJwcyH/EdD9b1P+Eke5/P6VZvioUpoc/DKqSZGMFkT+0o33/B1CWPxc7DceM0JY/qaVADCqTkj/XWgh5NxSMPz+FUcJzg4Q/R2LCAJjefT9UzaCX4GF1Py115iNBOm4/jufZ+AWvZD9HXmbzm1xaP8wpUd5QF1A/ejWKjj+bRD9T9VXwy/8zPzURgVQh6fg+I/TJrCgRIb/EiT6rA7Mrvz4VdKkOfzO/Cb3v/q/YNb8G+ojnlL4vv+/+sL8gv0o/FdY0Nq7IaT9+nSBokk19P3+Xi4I/V4k/kRIf9qyIkD+3GBK+MUKTP+f3VDNe/Jg/TSIkrxFdoD8fba8U6FSkPx7m42sp/ak/X9B2gC/lrD9si5g5s3iwP/C+GWFnsLI/V7ajWg92tT+gx/X2Jzi4P/1U8N7CCLs/KkGcz/lswD+UrtwYYlHBP6eC34nSlcI/XzEoJt20wz8v704vy3LEP3CS/OK2ccU/YYwytQsrxj/OtEnAEjbHP/42Qj6D1cg/oQs81SRMyj9VuE6h/DPJP7GhyJsODMk/yenI9sqDyD8IU/jWyKfHP6H15L9x7MY/+YN3xCzKxj9bjIckEFDHP38dJCSxAsw/\",\"dtype\":\"float64\",\"shape\":[75]},\"y\":{\"__ndarray__\":\"GhExyth1ND/Sv8nbtpRIP2vylNV0PVE/aTum7souWD/At0SJ8fVgPw3Iuahxymc/MSNhhJWvcD/bTfBN02d3P2zb5nxnaoA/CD5h5MAGhz8NmeH1TyaQP+zrCsc9p5Y/LbKd76fGnz/bLW5ISEmmPww9YvTcQq8/JV2OstnstT8Er5Y7M8G+P0c+r3jqkcU/5h99k6ZBzj88bCIzFzjVP4enV8oyxN0//yH99nXg5D8qOpLLf0jtP5kqGJXUifQ/c9cS8kHP/D+/DpwzojQEQIEmwoanVwxA4lgXt9HgE0BSSZ2AJuIbQAMJih9jjiNA5q4l5INuK0AwTKYKRj0zQNv5fmq8/DpAaCJseHrtQkB/+zpwzoxKQM3MzMzMeFJAZmZmZmZqWEAAAAAAAFxeQM3MzMzMJmJAmpmZmZkfZUBmZmZmZhhoQDMzMzMzEWtAAAAAAAAKbkBmZmZmZoFwQM3MzMzM/XFAMzMzMzN6c0CamZmZmfZ0QAAAAAAAc3ZAZmZmZmbvd0DNzMzMzGt5QDMzMzMz6HpAmpmZmZlkfEAAAAAAAOF9QGZmZmZmXX9AZmZmZuZsgECamZmZGSuBQM3MzMxM6YFAAAAAAICngkAzMzMzs2WDQGZmZmbmI4RAmpmZmRnihEDNzMzMTKCFQAAAAACAXoZAMzMzM7Mch0BmZmZm5tqHQJqZmZkZmYhAzczMzExXiUAAAAAAgBWKQDMzMzOz04pAZmZmZuaRi0CamZmZGVCMQM3MzMxMDo1AAAAAAIDMjUAzMzMzs4qOQGZmZmbmSI9A\",\"dtype\":\"float64\",\"shape\":[75]}}},\"id\":\"7d7a6cf3-a17f-4c6a-b6bd-51b187951723\",\"type\":\"ColumnDataSource\"},{\"attributes\":{\"callback\":null,\"column_names\":[\"x\",\"y\"],\"data\":{\"x\":{\"__ndarray__\":\"68bBAUJmbb91Id9w4lVtv/sONp8wLW2/KJekRc39bL+imwuIes1svwhncApdmGy/bVXK3lZibL9b4j9bUidsv8wl18mn62u/CYK0+LWya7/eA+RqbH9rv7U3BaRHVGu/dlyGoCf8ar8KFzvfJA1rv5Z2r7l4Nmq/gGljOYEhZr+VVa3VMiNZv0Hk+Lyj5jc/vBoRrrZZaj8DGvUkuvR9PzVbPx52too/udDe3gpolT8iBbkF93WdP7fheou86Zw/Y7nxY9bPlD9fxLjHRN2KPw09fLailoA/fm+KgCcKdD9RTh20KgxpP81Tvf8GImA/YDJ9ijabVD8nEzZBLe1IP/b/zm0NPUA/LnqBffKGNz/4H5Ks7PEqP1q2o9EA2PE+qfd6xlwmGb/USQK+G7sjv48cxaXAni6/2P6VaQzqMr89f5phjcAlvyLEBuQ6oUo/kGRHxEMBaz8sTN0hvv18P0joDjIu9Ic/yHoo2QMQjz+rBjunVOeTP8dZq1KH0Jk/+3CdOueLoD8oFwXvG8ekP+i9Acvpaak/C3CsUTDfrT/+6nlQszSxP7t0CCZ7p7M/OM7YXcEytj/8Gb2e2Ni4PyEXB13jr7s/mX3k97LEvz+hTMTXrrvBPy6CENq8O8M/qbV6mAd6xD+vdlYDe2nFP4WRJCllKcY/zS3fwAXVxj+6KKNflWrHP8U1wsuh/8c/j1lR3iKLyD87Xz8GI93IP5n+ug1Jscg/llpzcH79xz/gQ3D5mxLHPyEqhSeRUMY/ELkyC2HzxT9+e/A90EjGP1t3NXFZIss/\",\"dtype\":\"float64\",\"shape\":[75]},\"y\":{\"__ndarray__\":\"GhExyth1ND/Sv8nbtpRIP2vylNV0PVE/aTum7souWD/At0SJ8fVgPw3Iuahxymc/MSNhhJWvcD/bTfBN02d3P2zb5nxnaoA/CD5h5MAGhz8NmeH1TyaQP+zrCsc9p5Y/LbKd76fGnz/bLW5ISEmmPww9YvTcQq8/JV2OstnstT8Er5Y7M8G+P0c+r3jqkcU/5h99k6ZBzj88bCIzFzjVP4enV8oyxN0//yH99nXg5D8qOpLLf0jtP5kqGJXUifQ/c9cS8kHP/D+/DpwzojQEQIEmwoanVwxA4lgXt9HgE0BSSZ2AJuIbQAMJih9jjiNA5q4l5INuK0AwTKYKRj0zQNv5fmq8/DpAaCJseHrtQkB/+zpwzoxKQM3MzMzMeFJAZmZmZmZqWEAAAAAAAFxeQM3MzMzMJmJAmpmZmZkfZUBmZmZmZhhoQDMzMzMzEWtAAAAAAAAKbkBmZmZmZoFwQM3MzMzM/XFAMzMzMzN6c0CamZmZmfZ0QAAAAAAAc3ZAZmZmZmbvd0DNzMzMzGt5QDMzMzMz6HpAmpmZmZlkfEAAAAAAAOF9QGZmZmZmXX9AZmZmZuZsgECamZmZGSuBQM3MzMxM6YFAAAAAAICngkAzMzMzs2WDQGZmZmbmI4RAmpmZmRnihEDNzMzMTKCFQAAAAACAXoZAMzMzM7Mch0BmZmZm5tqHQJqZmZkZmYhAzczMzExXiUAAAAAAgBWKQDMzMzOz04pAZmZmZuaRi0CamZmZGVCMQM3MzMxMDo1AAAAAAIDMjUAzMzMzs4qOQGZmZmbmSI9A\",\"dtype\":\"float64\",\"shape\":[75]}}},\"id\":\"132a6a96-a2e8-4dc1-a8ac-75f3fe309c24\",\"type\":\"ColumnDataSource\"},{\"attributes\":{},\"id\":\"9cb15d3a-07b8-4f00-a7a3-5038004306b1\",\"type\":\"PanTool\"},{\"attributes\":{\"source\":{\"id\":\"8107740a-64e8-4df7-8b44-a0694d5bba84\",\"type\":\"ColumnDataSource\"}},\"id\":\"c759f024-1adc-4cd7-a96e-700d8f7a0900\",\"type\":\"CDSView\"},{\"attributes\":{\"ticker\":null},\"id\":\"c3edb657-ea0b-48cd-84b3-00aca81a849a\",\"type\":\"LogTickFormatter\"},{\"attributes\":{},\"id\":\"cb112d8a-f6f2-4ed3-b7bb-90fa6a4e24b3\",\"type\":\"BasicTickFormatter\"},{\"attributes\":{\"line_color\":\"#4daf4a\",\"line_width\":1.5,\"x\":{\"field\":\"x\"},\"y\":{\"field\":\"y\"}},\"id\":\"860ba4b2-972a-4bef-8865-3d07567fa3db\",\"type\":\"Line\"},{\"attributes\":{\"line_alpha\":0.1,\"line_color\":\"#1f77b4\",\"line_width\":1.5,\"x\":{\"field\":\"x\"},\"y\":{\"field\":\"y\"}},\"id\":\"1453d9d1-9c90-4e79-91b8-0858ad566ba2\",\"type\":\"Line\"},{\"attributes\":{\"callback\":null,\"column_names\":[\"x\",\"y\"],\"data\":{\"x\":{\"__ndarray__\":\"yASQSAcwLr8jMEAAlposv7CxxBecJCm/hcmmhH9VJb8E+5aMLV4hv7CVWKIFfRq/iyUHEevqEb/RuWGRFAgCv3jewPw4UuE+ViqKCGgnCD/hw9dPQQsWP90pu9LILyA/eKG1v7WJJT8kM2/nRHIrP4GjItagITc/Ct04RET5Sj+GYuqzYq5cP3mXN/iBkGk/xJwcyH/EdD9b1P+Eke5/P6VZvioUpoc/DKqSZGMFkT+0o33/B1CWPxc7DceM0JY/qaVADCqTkj/XWgh5NxSMPz+FUcJzg4Q/R2LCAJjefT9UzaCX4GF1Py115iNBOm4/jufZ+AWvZD9HXmbzm1xaP8wpUd5QF1A/ejWKjj+bRD9T9VXwy/8zPzURgVQh6fg+I/TJrCgRIb/EiT6rA7Mrvz4VdKkOfzO/Cb3v/q/YNb8G+ojnlL4vv+/+sL8gv0o/FdY0Nq7IaT9+nSBokk19P3+Xi4I/V4k/kRIf9qyIkD+3GBK+MUKTP+f3VDNe/Jg/TSIkrxFdoD8fba8U6FSkPx7m42sp/ak/X9B2gC/lrD9si5g5s3iwP/C+GWFnsLI/V7ajWg92tT+gx/X2Jzi4P/1U8N7CCLs/KkGcz/lswD+UrtwYYlHBP6eC34nSlcI/XzEoJt20wz8v704vy3LEP3CS/OK2ccU/YYwytQsrxj/OtEnAEjbHP/42Qj6D1cg/oQs81SRMyj9VuE6h/DPJP7GhyJsODMk/yenI9sqDyD8IU/jWyKfHP6H15L9x7MY/+YN3xCzKxj9bjIckEFDHP38dJCSxAsw/\",\"dtype\":\"float64\",\"shape\":[75]},\"y\":{\"__ndarray__\":\"GhExyth1ND/Sv8nbtpRIP2vylNV0PVE/aTum7souWD/At0SJ8fVgPw3Iuahxymc/MSNhhJWvcD/bTfBN02d3P2zb5nxnaoA/CD5h5MAGhz8NmeH1TyaQP+zrCsc9p5Y/LbKd76fGnz/bLW5ISEmmPww9YvTcQq8/JV2OstnstT8Er5Y7M8G+P0c+r3jqkcU/5h99k6ZBzj88bCIzFzjVP4enV8oyxN0//yH99nXg5D8qOpLLf0jtP5kqGJXUifQ/c9cS8kHP/D+/DpwzojQEQIEmwoanVwxA4lgXt9HgE0BSSZ2AJuIbQAMJih9jjiNA5q4l5INuK0AwTKYKRj0zQNv5fmq8/DpAaCJseHrtQkB/+zpwzoxKQM3MzMzMeFJAZmZmZmZqWEAAAAAAAFxeQM3MzMzMJmJAmpmZmZkfZUBmZmZmZhhoQDMzMzMzEWtAAAAAAAAKbkBmZmZmZoFwQM3MzMzM/XFAMzMzMzN6c0CamZmZmfZ0QAAAAAAAc3ZAZmZmZmbvd0DNzMzMzGt5QDMzMzMz6HpAmpmZmZlkfEAAAAAAAOF9QGZmZmZmXX9AZmZmZuZsgECamZmZGSuBQM3MzMxM6YFAAAAAAICngkAzMzMzs2WDQGZmZmbmI4RAmpmZmRnihEDNzMzMTKCFQAAAAACAXoZAMzMzM7Mch0BmZmZm5tqHQJqZmZkZmYhAzczMzExXiUAAAAAAgBWKQDMzMzOz04pAZmZmZuaRi0CamZmZGVCMQM3MzMxMDo1AAAAAAIDMjUAzMzMzs4qOQGZmZmbmSI9A\",\"dtype\":\"float64\",\"shape\":[75]}}},\"id\":\"c76b4379-f1d4-4b88-a04d-3f4de8c276ba\",\"type\":\"ColumnDataSource\"},{\"attributes\":{\"data_source\":{\"id\":\"d9a5a571-5710-4056-aa45-79add69a77f9\",\"type\":\"ColumnDataSource\"},\"glyph\":{\"id\":\"9da34538-4706-405d-abe8-c3faebbb583e\",\"type\":\"Line\"},\"hover_glyph\":null,\"muted_glyph\":null,\"nonselection_glyph\":{\"id\":\"1453d9d1-9c90-4e79-91b8-0858ad566ba2\",\"type\":\"Line\"},\"selection_glyph\":null,\"view\":{\"id\":\"f51d15ad-0d8c-4655-8e33-b44f159714b0\",\"type\":\"CDSView\"}},\"id\":\"8d1b1d16-c4a0-4a5c-a34f-6bcb045d0d27\",\"type\":\"GlyphRenderer\"},{\"attributes\":{\"line_alpha\":0.1,\"line_color\":\"#1f77b4\",\"line_width\":1.5,\"x\":{\"field\":\"x\"},\"y\":{\"field\":\"y\"}},\"id\":\"e66a3e3c-7fe0-4f94-885e-ccd867ad40c8\",\"type\":\"Line\"},{\"attributes\":{\"bottom_units\":\"screen\",\"fill_alpha\":{\"value\":0.5},\"fill_color\":{\"value\":\"lightgrey\"},\"left_units\":\"screen\",\"level\":\"overlay\",\"line_alpha\":{\"value\":1.0},\"line_color\":{\"value\":\"black\"},\"line_dash\":[4,4],\"line_width\":{\"value\":2},\"plot\":null,\"render_mode\":\"css\",\"right_units\":\"screen\",\"top_units\":\"screen\"},\"id\":\"0344bbf0-d938-4584-962c-9de8d41b9269\",\"type\":\"BoxAnnotation\"},{\"attributes\":{\"data_source\":{\"id\":\"132a6a96-a2e8-4dc1-a8ac-75f3fe309c24\",\"type\":\"ColumnDataSource\"},\"glyph\":{\"id\":\"860ba4b2-972a-4bef-8865-3d07567fa3db\",\"type\":\"Line\"},\"hover_glyph\":null,\"muted_glyph\":null,\"nonselection_glyph\":{\"id\":\"e66a3e3c-7fe0-4f94-885e-ccd867ad40c8\",\"type\":\"Line\"},\"selection_glyph\":null,\"view\":{\"id\":\"82a0e3f3-d6b7-44ae-a3f4-98948cb3e683\",\"type\":\"CDSView\"}},\"id\":\"ced13fab-7856-4eea-b788-c7a8ac538139\",\"type\":\"GlyphRenderer\"},{\"attributes\":{\"overlay\":{\"id\":\"0344bbf0-d938-4584-962c-9de8d41b9269\",\"type\":\"BoxAnnotation\"}},\"id\":\"d0ea7cd1-eeef-4954-b60e-f22c3e3853f4\",\"type\":\"BoxZoomTool\"},{\"attributes\":{\"source\":{\"id\":\"132a6a96-a2e8-4dc1-a8ac-75f3fe309c24\",\"type\":\"ColumnDataSource\"}},\"id\":\"82a0e3f3-d6b7-44ae-a3f4-98948cb3e683\",\"type\":\"CDSView\"},{\"attributes\":{},\"id\":\"217f8b38-7ade-4149-b9e2-5cde1c1e595a\",\"type\":\"WheelZoomTool\"},{\"attributes\":{\"fill_alpha\":{\"value\":0.7},\"fill_color\":{\"value\":\"#984ea3\"},\"line_alpha\":{\"value\":0.7},\"line_color\":{\"value\":\"#984ea3\"},\"x\":{\"field\":\"x\"},\"y\":{\"field\":\"y\"}},\"id\":\"f6753c8e-d708-422d-8418-720531ed3ea9\",\"type\":\"Square\"},{\"attributes\":{\"callback\":null,\"end\":0.029091827274,\"start\":-0.003702628674},\"id\":\"8ca2aa64-2e17-40eb-9f42-e9454dcf8a36\",\"type\":\"Range1d\"},{\"attributes\":{\"source\":{\"id\":\"7d7a6cf3-a17f-4c6a-b6bd-51b187951723\",\"type\":\"ColumnDataSource\"}},\"id\":\"33c500b1-d8ae-43ac-87aa-a62e02b8c8f7\",\"type\":\"CDSView\"},{\"attributes\":{\"line_alpha\":0.6,\"line_color\":\"#984ea3\",\"line_width\":3,\"x\":{\"field\":\"x\"},\"y\":{\"field\":\"y\"}},\"id\":\"30eeb4c7-bc90-4f8d-99e9-64ae48ea9568\",\"type\":\"Line\"},{\"attributes\":{\"fill_alpha\":{\"value\":0.1},\"fill_color\":{\"value\":\"#1f77b4\"},\"line_alpha\":{\"value\":0.1},\"line_color\":{\"value\":\"#1f77b4\"},\"x\":{\"field\":\"x\"},\"y\":{\"field\":\"y\"}},\"id\":\"0b74fc16-60b4-4a34-ad85-8873565baf2f\",\"type\":\"Square\"},{\"attributes\":{\"data_source\":{\"id\":\"7d7a6cf3-a17f-4c6a-b6bd-51b187951723\",\"type\":\"ColumnDataSource\"},\"glyph\":{\"id\":\"f6753c8e-d708-422d-8418-720531ed3ea9\",\"type\":\"Square\"},\"hover_glyph\":null,\"muted_glyph\":null,\"nonselection_glyph\":{\"id\":\"0b74fc16-60b4-4a34-ad85-8873565baf2f\",\"type\":\"Square\"},\"selection_glyph\":null,\"view\":{\"id\":\"33c500b1-d8ae-43ac-87aa-a62e02b8c8f7\",\"type\":\"CDSView\"}},\"id\":\"223ca92a-4e3c-430d-8d3e-7c2c8a70c2e0\",\"type\":\"GlyphRenderer\"},{\"attributes\":{\"line_alpha\":0.6,\"line_color\":\"#984ea3\",\"line_width\":3,\"x\":{\"field\":\"x\"},\"y\":{\"field\":\"y\"}},\"id\":\"ec81370f-0bb2-407a-ab70-30fb628046b6\",\"type\":\"Line\"},{\"attributes\":{\"source\":{\"id\":\"c76b4379-f1d4-4b88-a04d-3f4de8c276ba\",\"type\":\"ColumnDataSource\"}},\"id\":\"068e232a-bc85-4360-94e0-0264166f1057\",\"type\":\"CDSView\"},{\"attributes\":{\"plot\":{\"id\":\"7d825647-3d0e-4f78-929a-b5f81c612523\",\"subtype\":\"Figure\",\"type\":\"Plot\"},\"ticker\":{\"id\":\"4d645749-8fa3-4d1a-ad38-cdf91b66221a\",\"type\":\"BasicTicker\"}},\"id\":\"fdd33bcc-aeee-41fd-b6a2-c70274ebebc5\",\"type\":\"Grid\"},{\"attributes\":{\"items\":[{\"id\":\"37933aa5-dd02-4dae-970c-65f3ab7a19ab\",\"type\":\"LegendItem\"},{\"id\":\"1fa5fc2e-d324-43b1-aecf-3a8ecc3e0778\",\"type\":\"LegendItem\"},{\"id\":\"cd3718c8-018f-4731-874d-d94fae619cd7\",\"type\":\"LegendItem\"}],\"label_text_font_size\":{\"value\":\"8pt\"},\"location\":[10,-30],\"plot\":{\"id\":\"26393fb8-d770-42c6-b7ac-2f05923cc0c6\",\"subtype\":\"Figure\",\"type\":\"Plot\"}},\"id\":\"cd7ade65-fcd9-42c4-8888-243e35719432\",\"type\":\"Legend\"},{\"attributes\":{\"callback\":null,\"column_names\":[\"x\",\"y\"],\"data\":{\"x\":{\"__ndarray__\":\"68bBAUJmbb91Id9w4lVtv/sONp8wLW2/KJekRc39bL+imwuIes1svwhncApdmGy/bVXK3lZibL9b4j9bUidsv8wl18mn62u/CYK0+LWya7/eA+RqbH9rv7U3BaRHVGu/dlyGoCf8ar8KFzvfJA1rv5Z2r7l4Nmq/gGljOYEhZr+VVa3VMiNZv0Hk+Lyj5jc/vBoRrrZZaj8DGvUkuvR9PzVbPx52too/udDe3gpolT8iBbkF93WdP7fheou86Zw/Y7nxY9bPlD9fxLjHRN2KPw09fLailoA/fm+KgCcKdD9RTh20KgxpP81Tvf8GImA/YDJ9ijabVD8nEzZBLe1IP/b/zm0NPUA/LnqBffKGNz/4H5Ks7PEqP1q2o9EA2PE+qfd6xlwmGb/USQK+G7sjv48cxaXAni6/2P6VaQzqMr89f5phjcAlvyLEBuQ6oUo/kGRHxEMBaz8sTN0hvv18P0joDjIu9Ic/yHoo2QMQjz+rBjunVOeTP8dZq1KH0Jk/+3CdOueLoD8oFwXvG8ekP+i9Acvpaak/C3CsUTDfrT/+6nlQszSxP7t0CCZ7p7M/OM7YXcEytj/8Gb2e2Ni4PyEXB13jr7s/mX3k97LEvz+hTMTXrrvBPy6CENq8O8M/qbV6mAd6xD+vdlYDe2nFP4WRJCllKcY/zS3fwAXVxj+6KKNflWrHP8U1wsuh/8c/j1lR3iKLyD87Xz8GI93IP5n+ug1Jscg/llpzcH79xz/gQ3D5mxLHPyEqhSeRUMY/ELkyC2HzxT9+e/A90EjGP1t3NXFZIss/\",\"dtype\":\"float64\",\"shape\":[75]},\"y\":{\"__ndarray__\":\"GhExyth1ND/Sv8nbtpRIP2vylNV0PVE/aTum7souWD/At0SJ8fVgPw3Iuahxymc/MSNhhJWvcD/bTfBN02d3P2zb5nxnaoA/CD5h5MAGhz8NmeH1TyaQP+zrCsc9p5Y/LbKd76fGnz/bLW5ISEmmPww9YvTcQq8/JV2OstnstT8Er5Y7M8G+P0c+r3jqkcU/5h99k6ZBzj88bCIzFzjVP4enV8oyxN0//yH99nXg5D8qOpLLf0jtP5kqGJXUifQ/c9cS8kHP/D+/DpwzojQEQIEmwoanVwxA4lgXt9HgE0BSSZ2AJuIbQAMJih9jjiNA5q4l5INuK0AwTKYKRj0zQNv5fmq8/DpAaCJseHrtQkB/+zpwzoxKQM3MzMzMeFJAZmZmZmZqWEAAAAAAAFxeQM3MzMzMJmJAmpmZmZkfZUBmZmZmZhhoQDMzMzMzEWtAAAAAAAAKbkBmZmZmZoFwQM3MzMzM/XFAMzMzMzN6c0CamZmZmfZ0QAAAAAAAc3ZAZmZmZmbvd0DNzMzMzGt5QDMzMzMz6HpAmpmZmZlkfEAAAAAAAOF9QGZmZmZmXX9AZmZmZuZsgECamZmZGSuBQM3MzMxM6YFAAAAAAICngkAzMzMzs2WDQGZmZmbmI4RAmpmZmRnihEDNzMzMTKCFQAAAAACAXoZAMzMzM7Mch0BmZmZm5tqHQJqZmZkZmYhAzczMzExXiUAAAAAAgBWKQDMzMzOz04pAZmZmZuaRi0CamZmZGVCMQM3MzMxMDo1AAAAAAIDMjUAzMzMzs4qOQGZmZmbmSI9A\",\"dtype\":\"float64\",\"shape\":[75]}}},\"id\":\"d9a5a571-5710-4056-aa45-79add69a77f9\",\"type\":\"ColumnDataSource\"},{\"attributes\":{\"line_alpha\":0.1,\"line_color\":\"#1f77b4\",\"line_width\":3,\"x\":{\"field\":\"x\"},\"y\":{\"field\":\"y\"}},\"id\":\"2a21fb55-4400-469f-a7ee-1a9fe0bc77d9\",\"type\":\"Line\"},{\"attributes\":{\"data_source\":{\"id\":\"c76b4379-f1d4-4b88-a04d-3f4de8c276ba\",\"type\":\"ColumnDataSource\"},\"glyph\":{\"id\":\"30eeb4c7-bc90-4f8d-99e9-64ae48ea9568\",\"type\":\"Line\"},\"hover_glyph\":null,\"muted_glyph\":null,\"nonselection_glyph\":{\"id\":\"2a21fb55-4400-469f-a7ee-1a9fe0bc77d9\",\"type\":\"Line\"},\"selection_glyph\":null,\"view\":{\"id\":\"068e232a-bc85-4360-94e0-0264166f1057\",\"type\":\"CDSView\"}},\"id\":\"6a85ac73-3aa4-4a65-af21-241b96c591a3\",\"type\":\"GlyphRenderer\"},{\"attributes\":{\"tools\":[{\"id\":\"9cb15d3a-07b8-4f00-a7a3-5038004306b1\",\"type\":\"PanTool\"},{\"id\":\"217f8b38-7ade-4149-b9e2-5cde1c1e595a\",\"type\":\"WheelZoomTool\"},{\"id\":\"d0ea7cd1-eeef-4954-b60e-f22c3e3853f4\",\"type\":\"BoxZoomTool\"},{\"id\":\"0394b8b8-6049-4c21-ad31-9d7dd3d32b33\",\"type\":\"SaveTool\"},{\"id\":\"4ff6bc30-37ca-40bd-8045-f839e2eaa85b\",\"type\":\"ResetTool\"},{\"id\":\"5800c5ea-783e-41c9-b697-7fa9ad93cd71\",\"type\":\"HelpTool\"},{\"id\":\"3340fbd2-e9a7-418d-ba69-2f0eb8829a32\",\"type\":\"PanTool\"},{\"id\":\"9ad791bd-f017-4fc2-a190-16b25bc05737\",\"type\":\"WheelZoomTool\"},{\"id\":\"841a0e14-7ba8-410e-a1a6-faeb7792ade4\",\"type\":\"BoxZoomTool\"},{\"id\":\"e420a331-613d-48cd-9c08-0b844c2747ab\",\"type\":\"SaveTool\"},{\"id\":\"466c6486-1b54-45eb-b618-d9611ced7499\",\"type\":\"ResetTool\"},{\"id\":\"56543243-5675-48a9-9494-d7ac5d304bd9\",\"type\":\"HelpTool\"}]},\"id\":\"846ff29a-21b4-4cef-915d-d1c349cbc769\",\"type\":\"ProxyToolbar\"},{\"attributes\":{\"children\":[{\"id\":\"9de4e923-bc48-4c4a-a3a0-0fe3447f534e\",\"type\":\"ToolbarBox\"},{\"id\":\"0ca0a408-09db-4129-b092-01178c2ac413\",\"type\":\"Column\"}]},\"id\":\"2f8d2801-9147-4eb3-b112-b2ad9e548311\",\"type\":\"Column\"},{\"attributes\":{\"toolbar\":{\"id\":\"846ff29a-21b4-4cef-915d-d1c349cbc769\",\"type\":\"ProxyToolbar\"},\"toolbar_location\":\"above\"},\"id\":\"9de4e923-bc48-4c4a-a3a0-0fe3447f534e\",\"type\":\"ToolbarBox\"},{\"attributes\":{\"data_source\":{\"id\":\"069ceab9-b88b-4a5b-90a6-dc6c1d435429\",\"type\":\"ColumnDataSource\"},\"glyph\":{\"id\":\"ec81370f-0bb2-407a-ab70-30fb628046b6\",\"type\":\"Line\"},\"hover_glyph\":null,\"muted_glyph\":null,\"nonselection_glyph\":{\"id\":\"b7635579-4a20-4517-beb6-95a25645ff76\",\"type\":\"Line\"},\"selection_glyph\":null,\"view\":{\"id\":\"9846cf03-a094-44e6-8bff-8d4e6f6e6157\",\"type\":\"CDSView\"}},\"id\":\"61a940f3-01bc-417f-ae27-0507cf95aa1d\",\"type\":\"GlyphRenderer\"},{\"attributes\":{},\"id\":\"848a49ee-87b9-46f8-bbb1-b1ac9d5a4a76\",\"type\":\"BasicTicker\"},{\"attributes\":{\"children\":[{\"id\":\"7d825647-3d0e-4f78-929a-b5f81c612523\",\"subtype\":\"Figure\",\"type\":\"Plot\"},{\"id\":\"26393fb8-d770-42c6-b7ac-2f05923cc0c6\",\"subtype\":\"Figure\",\"type\":\"Plot\"}]},\"id\":\"21e78ee8-86f9-4baf-859e-94faecc168b0\",\"type\":\"Row\"},{\"attributes\":{\"axis_label\":\"pressure [mb]\",\"formatter\":{\"id\":\"71d25487-fa5b-4deb-ae08-3ba623de3871\",\"type\":\"BasicTickFormatter\"},\"plot\":{\"id\":\"7d825647-3d0e-4f78-929a-b5f81c612523\",\"subtype\":\"Figure\",\"type\":\"Plot\"},\"ticker\":{\"id\":\"848a49ee-87b9-46f8-bbb1-b1ac9d5a4a76\",\"type\":\"BasicTicker\"}},\"id\":\"fb8df3d7-632b-4e78-ba5a-2ae1c7cc665a\",\"type\":\"LinearAxis\"},{\"attributes\":{},\"id\":\"5800c5ea-783e-41c9-b697-7fa9ad93cd71\",\"type\":\"HelpTool\"},{\"attributes\":{},\"id\":\"4d645749-8fa3-4d1a-ad38-cdf91b66221a\",\"type\":\"BasicTicker\"},{\"attributes\":{},\"id\":\"4ff6bc30-37ca-40bd-8045-f839e2eaa85b\",\"type\":\"ResetTool\"},{\"attributes\":{\"line_alpha\":0.6,\"line_color\":\"#e41a1c\",\"line_dash\":[6],\"line_width\":5,\"x\":{\"field\":\"x\"},\"y\":{\"field\":\"y\"}},\"id\":\"4d25caf9-4169-456e-a06a-b124457da578\",\"type\":\"Line\"},{\"attributes\":{\"source\":{\"id\":\"069ceab9-b88b-4a5b-90a6-dc6c1d435429\",\"type\":\"ColumnDataSource\"}},\"id\":\"9846cf03-a094-44e6-8bff-8d4e6f6e6157\",\"type\":\"CDSView\"},{\"attributes\":{\"fill_alpha\":{\"value\":0.7},\"fill_color\":{\"value\":\"#4daf4a\"},\"line_alpha\":{\"value\":0.7},\"line_color\":{\"value\":\"#4daf4a\"},\"x\":{\"field\":\"x\"},\"y\":{\"field\":\"y\"}},\"id\":\"61f4ab1f-1121-4a55-97ce-559926ac76b9\",\"type\":\"Circle\"},{\"attributes\":{\"dimension\":1,\"plot\":{\"id\":\"7d825647-3d0e-4f78-929a-b5f81c612523\",\"subtype\":\"Figure\",\"type\":\"Plot\"},\"ticker\":{\"id\":\"848a49ee-87b9-46f8-bbb1-b1ac9d5a4a76\",\"type\":\"BasicTicker\"}},\"id\":\"c268cdd6-d7df-454d-928c-ae34252b2133\",\"type\":\"Grid\"},{\"attributes\":{},\"id\":\"0394b8b8-6049-4c21-ad31-9d7dd3d32b33\",\"type\":\"SaveTool\"},{\"attributes\":{\"line_alpha\":0.1,\"line_color\":\"#1f77b4\",\"line_width\":3,\"x\":{\"field\":\"x\"},\"y\":{\"field\":\"y\"}},\"id\":\"b7635579-4a20-4517-beb6-95a25645ff76\",\"type\":\"Line\"},{\"attributes\":{\"bottom_units\":\"screen\",\"fill_alpha\":{\"value\":0.5},\"fill_color\":{\"value\":\"lightgrey\"},\"left_units\":\"screen\",\"level\":\"overlay\",\"line_alpha\":{\"value\":1.0},\"line_color\":{\"value\":\"black\"},\"line_dash\":[4,4],\"line_width\":{\"value\":2},\"plot\":null,\"render_mode\":\"css\",\"right_units\":\"screen\",\"top_units\":\"screen\"},\"id\":\"2cf7604c-0c3a-480a-85e3-ccc877c8e642\",\"type\":\"BoxAnnotation\"},{\"attributes\":{\"callback\":null,\"column_names\":[\"x\",\"y\"],\"data\":{\"x\":{\"__ndarray__\":\"68bBAUJmbb91Id9w4lVtv/sONp8wLW2/KJekRc39bL+imwuIes1svwhncApdmGy/bVXK3lZibL9b4j9bUidsv8wl18mn62u/CYK0+LWya7/eA+RqbH9rv7U3BaRHVGu/dlyGoCf8ar8KFzvfJA1rv5Z2r7l4Nmq/gGljOYEhZr+VVa3VMiNZv0Hk+Lyj5jc/vBoRrrZZaj8DGvUkuvR9PzVbPx52too/udDe3gpolT8iBbkF93WdP7fheou86Zw/Y7nxY9bPlD9fxLjHRN2KPw09fLailoA/fm+KgCcKdD9RTh20KgxpP81Tvf8GImA/YDJ9ijabVD8nEzZBLe1IP/b/zm0NPUA/LnqBffKGNz/4H5Ks7PEqP1q2o9EA2PE+qfd6xlwmGb/USQK+G7sjv48cxaXAni6/2P6VaQzqMr89f5phjcAlvyLEBuQ6oUo/kGRHxEMBaz8sTN0hvv18P0joDjIu9Ic/yHoo2QMQjz+rBjunVOeTP8dZq1KH0Jk/+3CdOueLoD8oFwXvG8ekP+i9Acvpaak/C3CsUTDfrT/+6nlQszSxP7t0CCZ7p7M/OM7YXcEytj/8Gb2e2Ni4PyEXB13jr7s/mX3k97LEvz+hTMTXrrvBPy6CENq8O8M/qbV6mAd6xD+vdlYDe2nFP4WRJCllKcY/zS3fwAXVxj+6KKNflWrHP8U1wsuh/8c/j1lR3iKLyD87Xz8GI93IP5n+ug1Jscg/llpzcH79xz/gQ3D5mxLHPyEqhSeRUMY/ELkyC2HzxT9+e/A90EjGP1t3NXFZIss/\",\"dtype\":\"float64\",\"shape\":[75]},\"y\":{\"__ndarray__\":\"GhExyth1ND/Sv8nbtpRIP2vylNV0PVE/aTum7souWD/At0SJ8fVgPw3Iuahxymc/MSNhhJWvcD/bTfBN02d3P2zb5nxnaoA/CD5h5MAGhz8NmeH1TyaQP+zrCsc9p5Y/LbKd76fGnz/bLW5ISEmmPww9YvTcQq8/JV2OstnstT8Er5Y7M8G+P0c+r3jqkcU/5h99k6ZBzj88bCIzFzjVP4enV8oyxN0//yH99nXg5D8qOpLLf0jtP5kqGJXUifQ/c9cS8kHP/D+/DpwzojQEQIEmwoanVwxA4lgXt9HgE0BSSZ2AJuIbQAMJih9jjiNA5q4l5INuK0AwTKYKRj0zQNv5fmq8/DpAaCJseHrtQkB/+zpwzoxKQM3MzMzMeFJAZmZmZmZqWEAAAAAAAFxeQM3MzMzMJmJAmpmZmZkfZUBmZmZmZhhoQDMzMzMzEWtAAAAAAAAKbkBmZmZmZoFwQM3MzMzM/XFAMzMzMzN6c0CamZmZmfZ0QAAAAAAAc3ZAZmZmZmbvd0DNzMzMzGt5QDMzMzMz6HpAmpmZmZlkfEAAAAAAAOF9QGZmZmZmXX9AZmZmZuZsgECamZmZGSuBQM3MzMxM6YFAAAAAAICngkAzMzMzs2WDQGZmZmbmI4RAmpmZmRnihEDNzMzMTKCFQAAAAACAXoZAMzMzM7Mch0BmZmZm5tqHQJqZmZkZmYhAzczMzExXiUAAAAAAgBWKQDMzMzOz04pAZmZmZuaRi0CamZmZGVCMQM3MzMxMDo1AAAAAAIDMjUAzMzMzs4qOQGZmZmbmSI9A\",\"dtype\":\"float64\",\"shape\":[75]}}},\"id\":\"a187838c-164c-48bc-9227-a4992c201b49\",\"type\":\"ColumnDataSource\"},{\"attributes\":{\"line_alpha\":0.6,\"line_color\":\"#e41a1c\",\"line_dash\":[6],\"line_width\":5,\"x\":{\"field\":\"x\"},\"y\":{\"field\":\"y\"}},\"id\":\"6f268645-8838-4f1a-b5a0-15964500fd18\",\"type\":\"Line\"},{\"attributes\":{\"children\":[{\"id\":\"21e78ee8-86f9-4baf-859e-94faecc168b0\",\"type\":\"Row\"}]},\"id\":\"0ca0a408-09db-4129-b092-01178c2ac413\",\"type\":\"Column\"},{\"attributes\":{\"data_source\":{\"id\":\"12846185-12bb-488e-9723-a33bd46b7ee9\",\"type\":\"ColumnDataSource\"},\"glyph\":{\"id\":\"a62a97ac-0d2e-4ca4-be20-0d8d8497b785\",\"type\":\"Square\"},\"hover_glyph\":null,\"muted_glyph\":null,\"nonselection_glyph\":{\"id\":\"c91bd44c-a44e-4071-8120-bb4be47bb0a8\",\"type\":\"Square\"},\"selection_glyph\":null,\"view\":{\"id\":\"4063030b-72f7-408e-81a1-601380f9b450\",\"type\":\"CDSView\"}},\"id\":\"3a357d4c-36b2-44e5-b365-282d9e30d35b\",\"type\":\"GlyphRenderer\"},{\"attributes\":{},\"id\":\"3340fbd2-e9a7-418d-ba69-2f0eb8829a32\",\"type\":\"PanTool\"},{\"attributes\":{},\"id\":\"56543243-5675-48a9-9494-d7ac5d304bd9\",\"type\":\"HelpTool\"},{\"attributes\":{\"plot\":null,\"text\":\"Log pressure scale\"},\"id\":\"4ac9dbbc-8574-4c8e-851c-b0b2a8e51a79\",\"type\":\"Title\"},{\"attributes\":{\"fill_alpha\":{\"value\":0.1},\"fill_color\":{\"value\":\"#1f77b4\"},\"line_alpha\":{\"value\":0.1},\"line_color\":{\"value\":\"#1f77b4\"},\"x\":{\"field\":\"x\"},\"y\":{\"field\":\"y\"}},\"id\":\"c91bd44c-a44e-4071-8120-bb4be47bb0a8\",\"type\":\"Square\"},{\"attributes\":{\"axis_label\":\"pressure [mb]\",\"formatter\":{\"id\":\"c3edb657-ea0b-48cd-84b3-00aca81a849a\",\"type\":\"LogTickFormatter\"},\"plot\":{\"id\":\"26393fb8-d770-42c6-b7ac-2f05923cc0c6\",\"subtype\":\"Figure\",\"type\":\"Plot\"},\"ticker\":{\"id\":\"361d9201-a39b-4b70-8799-6d3bb42d9c26\",\"type\":\"LogTicker\"}},\"id\":\"3e14fa25-8f72-4c3a-8d31-37320567f5ba\",\"type\":\"LogAxis\"},{\"attributes\":{\"plot\":{\"id\":\"26393fb8-d770-42c6-b7ac-2f05923cc0c6\",\"subtype\":\"Figure\",\"type\":\"Plot\"},\"ticker\":{\"id\":\"11f50094-0f71-4a46-93f0-877469419abe\",\"type\":\"BasicTicker\"}},\"id\":\"c899487d-68e8-4fd5-8aea-4d4648d9c919\",\"type\":\"Grid\"},{\"attributes\":{\"dimension\":1,\"plot\":{\"id\":\"26393fb8-d770-42c6-b7ac-2f05923cc0c6\",\"subtype\":\"Figure\",\"type\":\"Plot\"},\"ticker\":{\"id\":\"361d9201-a39b-4b70-8799-6d3bb42d9c26\",\"type\":\"LogTicker\"}},\"id\":\"52cebbd0-63af-48cc-857d-6cdf8229f75a\",\"type\":\"Grid\"},{\"attributes\":{\"active_drag\":\"auto\",\"active_inspect\":\"auto\",\"active_scroll\":\"auto\",\"active_tap\":\"auto\",\"tools\":[{\"id\":\"9cb15d3a-07b8-4f00-a7a3-5038004306b1\",\"type\":\"PanTool\"},{\"id\":\"217f8b38-7ade-4149-b9e2-5cde1c1e595a\",\"type\":\"WheelZoomTool\"},{\"id\":\"d0ea7cd1-eeef-4954-b60e-f22c3e3853f4\",\"type\":\"BoxZoomTool\"},{\"id\":\"0394b8b8-6049-4c21-ad31-9d7dd3d32b33\",\"type\":\"SaveTool\"},{\"id\":\"4ff6bc30-37ca-40bd-8045-f839e2eaa85b\",\"type\":\"ResetTool\"},{\"id\":\"5800c5ea-783e-41c9-b697-7fa9ad93cd71\",\"type\":\"HelpTool\"}]},\"id\":\"515f0ad1-33e0-4802-8b6d-0300ba5c41ae\",\"type\":\"Toolbar\"},{\"attributes\":{\"fill_alpha\":{\"value\":0.7},\"fill_color\":{\"value\":\"#984ea3\"},\"line_alpha\":{\"value\":0.7},\"line_color\":{\"value\":\"#984ea3\"},\"x\":{\"field\":\"x\"},\"y\":{\"field\":\"y\"}},\"id\":\"a62a97ac-0d2e-4ca4-be20-0d8d8497b785\",\"type\":\"Square\"},{\"attributes\":{\"active_drag\":\"auto\",\"active_inspect\":\"auto\",\"active_scroll\":\"auto\",\"active_tap\":\"auto\",\"tools\":[{\"id\":\"3340fbd2-e9a7-418d-ba69-2f0eb8829a32\",\"type\":\"PanTool\"},{\"id\":\"9ad791bd-f017-4fc2-a190-16b25bc05737\",\"type\":\"WheelZoomTool\"},{\"id\":\"841a0e14-7ba8-410e-a1a6-faeb7792ade4\",\"type\":\"BoxZoomTool\"},{\"id\":\"e420a331-613d-48cd-9c08-0b844c2747ab\",\"type\":\"SaveTool\"},{\"id\":\"466c6486-1b54-45eb-b618-d9611ced7499\",\"type\":\"ResetTool\"},{\"id\":\"56543243-5675-48a9-9494-d7ac5d304bd9\",\"type\":\"HelpTool\"}]},\"id\":\"146c6025-f4e7-4fd3-a987-0e93327d5f95\",\"type\":\"Toolbar\"},{\"attributes\":{\"overlay\":{\"id\":\"2cf7604c-0c3a-480a-85e3-ccc877c8e642\",\"type\":\"BoxAnnotation\"}},\"id\":\"841a0e14-7ba8-410e-a1a6-faeb7792ade4\",\"type\":\"BoxZoomTool\"},{\"attributes\":{},\"id\":\"466c6486-1b54-45eb-b618-d9611ced7499\",\"type\":\"ResetTool\"},{\"attributes\":{\"below\":[{\"id\":\"c676a7c8-8bd2-45f8-a555-5a77cb4b8ca6\",\"type\":\"LinearAxis\"}],\"left\":[{\"id\":\"3e14fa25-8f72-4c3a-8d31-37320567f5ba\",\"type\":\"LogAxis\"}],\"plot_height\":500,\"plot_width\":560,\"renderers\":[{\"id\":\"c676a7c8-8bd2-45f8-a555-5a77cb4b8ca6\",\"type\":\"LinearAxis\"},{\"id\":\"c899487d-68e8-4fd5-8aea-4d4648d9c919\",\"type\":\"Grid\"},{\"id\":\"3e14fa25-8f72-4c3a-8d31-37320567f5ba\",\"type\":\"LogAxis\"},{\"id\":\"52cebbd0-63af-48cc-857d-6cdf8229f75a\",\"type\":\"Grid\"},{\"id\":\"2cf7604c-0c3a-480a-85e3-ccc877c8e642\",\"type\":\"BoxAnnotation\"},{\"id\":\"fb6dc778-abfd-4833-8f13-c9bcafa68d22\",\"type\":\"GlyphRenderer\"},{\"id\":\"9b5ecb8b-ea51-48c3-85aa-e285cea61d28\",\"type\":\"GlyphRenderer\"},{\"id\":\"ced13fab-7856-4eea-b788-c7a8ac538139\",\"type\":\"GlyphRenderer\"},{\"id\":\"223ca92a-4e3c-430d-8d3e-7c2c8a70c2e0\",\"type\":\"GlyphRenderer\"},{\"id\":\"6a85ac73-3aa4-4a65-af21-241b96c591a3\",\"type\":\"GlyphRenderer\"},{\"id\":\"cd7ade65-fcd9-42c4-8888-243e35719432\",\"type\":\"Legend\"}],\"right\":[{\"id\":\"cd7ade65-fcd9-42c4-8888-243e35719432\",\"type\":\"Legend\"}],\"title\":{\"id\":\"4ac9dbbc-8574-4c8e-851c-b0b2a8e51a79\",\"type\":\"Title\"},\"toolbar\":{\"id\":\"146c6025-f4e7-4fd3-a987-0e93327d5f95\",\"type\":\"Toolbar\"},\"toolbar_location\":null,\"x_range\":{\"id\":\"8ca2aa64-2e17-40eb-9f42-e9454dcf8a36\",\"type\":\"Range1d\"},\"x_scale\":{\"id\":\"c6a75cb8-05d3-4fe7-a601-2f7057c3af3e\",\"type\":\"LinearScale\"},\"y_range\":{\"id\":\"1615c493-a75e-4482-9f3a-af89b0fd9fc8\",\"type\":\"Range1d\"},\"y_scale\":{\"id\":\"43c35d01-1460-4dea-ac0a-44011de8576a\",\"type\":\"LogScale\"}},\"id\":\"26393fb8-d770-42c6-b7ac-2f05923cc0c6\",\"subtype\":\"Figure\",\"type\":\"Plot\"},{\"attributes\":{},\"id\":\"11f50094-0f71-4a46-93f0-877469419abe\",\"type\":\"BasicTicker\"},{\"attributes\":{\"callback\":null,\"column_names\":[\"x\",\"y\"],\"data\":{\"x\":{\"__ndarray__\":\"AAAAAAAAAAAAAAAAAAAAAAAAAAAAAAAAAAAAAAAAAAAAAAAAAAAAAAAAAAAAAAAAAAAAAAAAAADGndaerjaBv0kAzO8Ti4g/IzfTXUp/cT8nLgf+l/JovyFO1toKyWG/V99JH8RbaT8+NxvIBhRSv+tNCB+oxkk/5G+GGV2QWz+zaMrmWzNaP1WrcSbNrmk/i0CG4Il4dj/SWKc8TXV/P80alOf8P4c/Ld4gPtaqkD/RQ+niobWVP6YWd6cuJZY/fw/sZcw+kj+Qcd5i8sSLPzG+i54rr4Q/rBxMXjPtfT/IkwLdJ991P0qXdllwoG8/mjvgnejxZT/Iy9aW08BcP+ZFoYIOdVI/65a1QFJ9Rz8WrQvBEGw4P8ctYMREPg8/ayB1dhSZIL9eWTKhttItv6DQYWV58jS/kiXDwwJ0OL9Vli6bctYzv2UpvoCgST8/9T5ZYrpYZT+z6LJc46h5P53UG95BJog/QoYRn5R5jj+YTZf9bkWSP3ZjwOA6yZc/py8ZAfR/nz/Gzv+eZBqkP53hA8Tvaag/WmbAQq4grD89FIHBoBKwP9qB0AAygrI/YJixQHJttT/fZNLhTIy4PyLNcdE9qbs/SaKXUSy3vz+F61G4HoXBPzTLEltJxMI/xoWHWf3Lwz8V8ACJBcLEPwJflwJOxsU/uy/jfYfoxj/OqQHW7PnHP4WcteOf/Mg/eMKeuBS+yT8pJxQB0ifKP+rqTKlk48k/WgrtQa0OyT9Jcm1m/BTIP5ud+2E6Y8c/OYGnmJw9xz/AQoOg5fHHP9iSXYK2ycw/\",\"dtype\":\"float64\",\"shape\":[75]},\"y\":{\"__ndarray__\":\"S/O/Q+51ND/430zAtpRIP2vylNV0PVE/QxsjCssuWD/TR4Z78fVgP+inNsRxymc/OuuBfZWvcD/u3TFA02d3P2d3VoBnaoA/CD5h5MAGhz/1pA8HUCaQP+zrCsc9p5Y/Fb7LAKjGnz/nJ9c/SEmmPwBD+fzcQq8/FOZwv9nstT8Er5Y7M8G+P0c+r3jqkcU/yK72qKZBzj+tM989FzjVPxbgmr8yxN0/cOm5AXbg5D+5ctXAf0jtP5kqGJXUifQ/DsrqDELP/D8MCAhBojQEQDItVnmnVwxAiFXNvdHgE0BSSZ2AJuIbQAMJih9jjiNA5q4l5INuK0CPVN/5RT0zQHzxRXu8/DpAOZ7PgHrtQkAg8wGBzoxKQBSTN8DMeFJA2NmQf2ZqWEAAAAAAAFxeQEQX1LfMJmJAmpmZmZkfZUBmZmZmZhhoQLzoK0gzEWtAAAAAAAAKbkCiC+pbZoFwQAhyUMLM/XFA+I2vPTN6c0AQ5KCEmfZ0QAAAAAAAc3ZA8Btfe2bvd0AIclDCzGt5QPeNrz0z6HpAEOSghJlkfEAAAAAAAOF9QKML6ltmXX9ABTkoYeZsgED7xteeGSuBQAhyUMJM6YFAAAAAAICngkD4ja89s2WDQAU5KGHmI4RA+8bXnhnihEAIclDCTKCFQAAAAACAXoZA+I2vPbMch0AFOShh5tqHQPvG154ZmYhACHJQwkxXiUAAAAAAgBWKQPeNrz2z04pABTkoYeaRi0D7xteeGVCMQAlyUMJMDo1AAAAAAIDMjUD3ja89s4qOQGZmZmbmSI9A\",\"dtype\":\"float64\",\"shape\":[75]}}},\"id\":\"6ab0a8bf-5316-495e-8283-4674b35c1b6c\",\"type\":\"ColumnDataSource\"},{\"attributes\":{\"num_minor_ticks\":10},\"id\":\"361d9201-a39b-4b70-8799-6d3bb42d9c26\",\"type\":\"LogTicker\"},{\"attributes\":{\"label\":{\"value\":\"CLIRAD `coolr_bands`\"},\"renderers\":[{\"id\":\"fb6dc778-abfd-4833-8f13-c9bcafa68d22\",\"type\":\"GlyphRenderer\"}]},\"id\":\"37933aa5-dd02-4dae-970c-65f3ab7a19ab\",\"type\":\"LegendItem\"},{\"attributes\":{\"callback\":null,\"end\":0.01,\"start\":1020},\"id\":\"ca63d269-4c18-4be8-b9a1-f36ac2fe8fd2\",\"type\":\"Range1d\"},{\"attributes\":{\"source\":{\"id\":\"4e08ef64-2fbf-45aa-b9fb-45392955489d\",\"type\":\"ColumnDataSource\"}},\"id\":\"4ffcf2d6-5dfe-4b07-9427-90c42ed90081\",\"type\":\"CDSView\"},{\"attributes\":{\"callback\":null,\"column_names\":[\"x\",\"y\"],\"data\":{\"x\":{\"__ndarray__\":\"yASQSAcwLr8jMEAAlposv7CxxBecJCm/hcmmhH9VJb8E+5aMLV4hv7CVWKIFfRq/iyUHEevqEb/RuWGRFAgCv3jewPw4UuE+ViqKCGgnCD/hw9dPQQsWP90pu9LILyA/eKG1v7WJJT8kM2/nRHIrP4GjItagITc/Ct04RET5Sj+GYuqzYq5cP3mXN/iBkGk/xJwcyH/EdD9b1P+Eke5/P6VZvioUpoc/DKqSZGMFkT+0o33/B1CWPxc7DceM0JY/qaVADCqTkj/XWgh5NxSMPz+FUcJzg4Q/R2LCAJjefT9UzaCX4GF1Py115iNBOm4/jufZ+AWvZD9HXmbzm1xaP8wpUd5QF1A/ejWKjj+bRD9T9VXwy/8zPzURgVQh6fg+I/TJrCgRIb/EiT6rA7Mrvz4VdKkOfzO/Cb3v/q/YNb8G+ojnlL4vv+/+sL8gv0o/FdY0Nq7IaT9+nSBokk19P3+Xi4I/V4k/kRIf9qyIkD+3GBK+MUKTP+f3VDNe/Jg/TSIkrxFdoD8fba8U6FSkPx7m42sp/ak/X9B2gC/lrD9si5g5s3iwP/C+GWFnsLI/V7ajWg92tT+gx/X2Jzi4P/1U8N7CCLs/KkGcz/lswD+UrtwYYlHBP6eC34nSlcI/XzEoJt20wz8v704vy3LEP3CS/OK2ccU/YYwytQsrxj/OtEnAEjbHP/42Qj6D1cg/oQs81SRMyj9VuE6h/DPJP7GhyJsODMk/yenI9sqDyD8IU/jWyKfHP6H15L9x7MY/+YN3xCzKxj9bjIckEFDHP38dJCSxAsw/\",\"dtype\":\"float64\",\"shape\":[75]},\"y\":{\"__ndarray__\":\"GhExyth1ND/Sv8nbtpRIP2vylNV0PVE/aTum7souWD/At0SJ8fVgPw3Iuahxymc/MSNhhJWvcD/bTfBN02d3P2zb5nxnaoA/CD5h5MAGhz8NmeH1TyaQP+zrCsc9p5Y/LbKd76fGnz/bLW5ISEmmPww9YvTcQq8/JV2OstnstT8Er5Y7M8G+P0c+r3jqkcU/5h99k6ZBzj88bCIzFzjVP4enV8oyxN0//yH99nXg5D8qOpLLf0jtP5kqGJXUifQ/c9cS8kHP/D+/DpwzojQEQIEmwoanVwxA4lgXt9HgE0BSSZ2AJuIbQAMJih9jjiNA5q4l5INuK0AwTKYKRj0zQNv5fmq8/DpAaCJseHrtQkB/+zpwzoxKQM3MzMzMeFJAZmZmZmZqWEAAAAAAAFxeQM3MzMzMJmJAmpmZmZkfZUBmZmZmZhhoQDMzMzMzEWtAAAAAAAAKbkBmZmZmZoFwQM3MzMzM/XFAMzMzMzN6c0CamZmZmfZ0QAAAAAAAc3ZAZmZmZmbvd0DNzMzMzGt5QDMzMzMz6HpAmpmZmZlkfEAAAAAAAOF9QGZmZmZmXX9AZmZmZuZsgECamZmZGSuBQM3MzMxM6YFAAAAAAICngkAzMzMzs2WDQGZmZmbmI4RAmpmZmRnihEDNzMzMTKCFQAAAAACAXoZAMzMzM7Mch0BmZmZm5tqHQJqZmZkZmYhAzczMzExXiUAAAAAAgBWKQDMzMzOz04pAZmZmZuaRi0CamZmZGVCMQM3MzMxMDo1AAAAAAIDMjUAzMzMzs4qOQGZmZmbmSI9A\",\"dtype\":\"float64\",\"shape\":[75]}}},\"id\":\"12846185-12bb-488e-9723-a33bd46b7ee9\",\"type\":\"ColumnDataSource\"},{\"attributes\":{\"source\":{\"id\":\"d9a5a571-5710-4056-aa45-79add69a77f9\",\"type\":\"ColumnDataSource\"}},\"id\":\"f51d15ad-0d8c-4655-8e33-b44f159714b0\",\"type\":\"CDSView\"},{\"attributes\":{\"below\":[{\"id\":\"b513cd02-0b96-4885-926b-4b21a2c98c73\",\"type\":\"LinearAxis\"}],\"left\":[{\"id\":\"fb8df3d7-632b-4e78-ba5a-2ae1c7cc665a\",\"type\":\"LinearAxis\"}],\"plot_height\":500,\"plot_width\":400,\"renderers\":[{\"id\":\"b513cd02-0b96-4885-926b-4b21a2c98c73\",\"type\":\"LinearAxis\"},{\"id\":\"fdd33bcc-aeee-41fd-b6a2-c70274ebebc5\",\"type\":\"Grid\"},{\"id\":\"fb8df3d7-632b-4e78-ba5a-2ae1c7cc665a\",\"type\":\"LinearAxis\"},{\"id\":\"c268cdd6-d7df-454d-928c-ae34252b2133\",\"type\":\"Grid\"},{\"id\":\"0344bbf0-d938-4584-962c-9de8d41b9269\",\"type\":\"BoxAnnotation\"},{\"id\":\"b349c415-34eb-41fe-ad33-2b46adb7afce\",\"type\":\"GlyphRenderer\"},{\"id\":\"167bc115-5b93-44a8-9db9-2f73d2d74f63\",\"type\":\"GlyphRenderer\"},{\"id\":\"8d1b1d16-c4a0-4a5c-a34f-6bcb045d0d27\",\"type\":\"GlyphRenderer\"},{\"id\":\"3a357d4c-36b2-44e5-b365-282d9e30d35b\",\"type\":\"GlyphRenderer\"},{\"id\":\"61a940f3-01bc-417f-ae27-0507cf95aa1d\",\"type\":\"GlyphRenderer\"}],\"title\":{\"id\":\"df981c82-d6d4-4a9b-9728-47ad3e78f3bc\",\"type\":\"Title\"},\"toolbar\":{\"id\":\"515f0ad1-33e0-4802-8b6d-0300ba5c41ae\",\"type\":\"Toolbar\"},\"toolbar_location\":null,\"x_range\":{\"id\":\"7863a4bc-39c0-4ea1-aa70-982d38e3bb6a\",\"type\":\"Range1d\"},\"x_scale\":{\"id\":\"29bd73ac-791b-46b5-824e-734ab72b5180\",\"type\":\"LinearScale\"},\"y_range\":{\"id\":\"ca63d269-4c18-4be8-b9a1-f36ac2fe8fd2\",\"type\":\"Range1d\"},\"y_scale\":{\"id\":\"36887988-fb2e-47e7-9086-4c7b0038573f\",\"type\":\"LinearScale\"}},\"id\":\"7d825647-3d0e-4f78-929a-b5f81c612523\",\"subtype\":\"Figure\",\"type\":\"Plot\"},{\"attributes\":{},\"id\":\"9ad791bd-f017-4fc2-a190-16b25bc05737\",\"type\":\"WheelZoomTool\"},{\"attributes\":{\"source\":{\"id\":\"12846185-12bb-488e-9723-a33bd46b7ee9\",\"type\":\"ColumnDataSource\"}},\"id\":\"4063030b-72f7-408e-81a1-601380f9b450\",\"type\":\"CDSView\"},{\"attributes\":{},\"id\":\"71d25487-fa5b-4deb-ae08-3ba623de3871\",\"type\":\"BasicTickFormatter\"},{\"attributes\":{\"line_alpha\":0.1,\"line_color\":\"#1f77b4\",\"line_dash\":[6],\"line_width\":5,\"x\":{\"field\":\"x\"},\"y\":{\"field\":\"y\"}},\"id\":\"c291ed52-28b4-4833-bef5-8ce822153097\",\"type\":\"Line\"},{\"attributes\":{\"axis_label\":\"cooling rate [K/day]\",\"formatter\":{\"id\":\"cb112d8a-f6f2-4ed3-b7bb-90fa6a4e24b3\",\"type\":\"BasicTickFormatter\"},\"plot\":{\"id\":\"7d825647-3d0e-4f78-929a-b5f81c612523\",\"subtype\":\"Figure\",\"type\":\"Plot\"},\"ticker\":{\"id\":\"4d645749-8fa3-4d1a-ad38-cdf91b66221a\",\"type\":\"BasicTicker\"}},\"id\":\"b513cd02-0b96-4885-926b-4b21a2c98c73\",\"type\":\"LinearAxis\"},{\"attributes\":{},\"id\":\"43c35d01-1460-4dea-ac0a-44011de8576a\",\"type\":\"LogScale\"},{\"attributes\":{},\"id\":\"36887988-fb2e-47e7-9086-4c7b0038573f\",\"type\":\"LinearScale\"},{\"attributes\":{\"label\":{\"value\":\"CRD\"},\"renderers\":[{\"id\":\"9b5ecb8b-ea51-48c3-85aa-e285cea61d28\",\"type\":\"GlyphRenderer\"},{\"id\":\"ced13fab-7856-4eea-b788-c7a8ac538139\",\"type\":\"GlyphRenderer\"}]},\"id\":\"1fa5fc2e-d324-43b1-aecf-3a8ecc3e0778\",\"type\":\"LegendItem\"},{\"attributes\":{},\"id\":\"29bd73ac-791b-46b5-824e-734ab72b5180\",\"type\":\"LinearScale\"},{\"attributes\":{\"axis_label\":\"cooling rate [K/day]\",\"formatter\":{\"id\":\"8322334a-82f2-469b-9016-69f2535c92b5\",\"type\":\"BasicTickFormatter\"},\"plot\":{\"id\":\"26393fb8-d770-42c6-b7ac-2f05923cc0c6\",\"subtype\":\"Figure\",\"type\":\"Plot\"},\"ticker\":{\"id\":\"11f50094-0f71-4a46-93f0-877469419abe\",\"type\":\"BasicTicker\"}},\"id\":\"c676a7c8-8bd2-45f8-a555-5a77cb4b8ca6\",\"type\":\"LinearAxis\"},{\"attributes\":{\"callback\":null,\"end\":0.2271585791572,\"start\":-0.0026259148772},\"id\":\"7863a4bc-39c0-4ea1-aa70-982d38e3bb6a\",\"type\":\"Range1d\"},{\"attributes\":{\"label\":{\"value\":\"WGT igg=10 wgt_flux=2\"},\"renderers\":[{\"id\":\"223ca92a-4e3c-430d-8d3e-7c2c8a70c2e0\",\"type\":\"GlyphRenderer\"},{\"id\":\"6a85ac73-3aa4-4a65-af21-241b96c591a3\",\"type\":\"GlyphRenderer\"}]},\"id\":\"cd3718c8-018f-4731-874d-d94fae619cd7\",\"type\":\"LegendItem\"},{\"attributes\":{},\"id\":\"e420a331-613d-48cd-9c08-0b844c2747ab\",\"type\":\"SaveTool\"},{\"attributes\":{\"plot\":null,\"text\":\"Linear pressure scale\"},\"id\":\"df981c82-d6d4-4a9b-9728-47ad3e78f3bc\",\"type\":\"Title\"},{\"attributes\":{\"data_source\":{\"id\":\"a187838c-164c-48bc-9227-a4992c201b49\",\"type\":\"ColumnDataSource\"},\"glyph\":{\"id\":\"61f4ab1f-1121-4a55-97ce-559926ac76b9\",\"type\":\"Circle\"},\"hover_glyph\":null,\"muted_glyph\":null,\"nonselection_glyph\":{\"id\":\"3773e7ea-b182-4f6c-bf8e-651fa0d992b1\",\"type\":\"Circle\"},\"selection_glyph\":null,\"view\":{\"id\":\"adf0d9e5-1281-476b-bed8-457b84b04ede\",\"type\":\"CDSView\"}},\"id\":\"167bc115-5b93-44a8-9db9-2f73d2d74f63\",\"type\":\"GlyphRenderer\"},{\"attributes\":{\"line_alpha\":0.1,\"line_color\":\"#1f77b4\",\"line_dash\":[6],\"line_width\":5,\"x\":{\"field\":\"x\"},\"y\":{\"field\":\"y\"}},\"id\":\"0de92408-8fc3-4229-abc1-988474a99679\",\"type\":\"Line\"},{\"attributes\":{\"callback\":null,\"column_names\":[\"x\",\"y\"],\"data\":{\"x\":{\"__ndarray__\":\"yASQSAcwLr8jMEAAlposv7CxxBecJCm/hcmmhH9VJb8E+5aMLV4hv7CVWKIFfRq/iyUHEevqEb/RuWGRFAgCv3jewPw4UuE+ViqKCGgnCD/hw9dPQQsWP90pu9LILyA/eKG1v7WJJT8kM2/nRHIrP4GjItagITc/Ct04RET5Sj+GYuqzYq5cP3mXN/iBkGk/xJwcyH/EdD9b1P+Eke5/P6VZvioUpoc/DKqSZGMFkT+0o33/B1CWPxc7DceM0JY/qaVADCqTkj/XWgh5NxSMPz+FUcJzg4Q/R2LCAJjefT9UzaCX4GF1Py115iNBOm4/jufZ+AWvZD9HXmbzm1xaP8wpUd5QF1A/ejWKjj+bRD9T9VXwy/8zPzURgVQh6fg+I/TJrCgRIb/EiT6rA7Mrvz4VdKkOfzO/Cb3v/q/YNb8G+ojnlL4vv+/+sL8gv0o/FdY0Nq7IaT9+nSBokk19P3+Xi4I/V4k/kRIf9qyIkD+3GBK+MUKTP+f3VDNe/Jg/TSIkrxFdoD8fba8U6FSkPx7m42sp/ak/X9B2gC/lrD9si5g5s3iwP/C+GWFnsLI/V7ajWg92tT+gx/X2Jzi4P/1U8N7CCLs/KkGcz/lswD+UrtwYYlHBP6eC34nSlcI/XzEoJt20wz8v704vy3LEP3CS/OK2ccU/YYwytQsrxj/OtEnAEjbHP/42Qj6D1cg/oQs81SRMyj9VuE6h/DPJP7GhyJsODMk/yenI9sqDyD8IU/jWyKfHP6H15L9x7MY/+YN3xCzKxj9bjIckEFDHP38dJCSxAsw/\",\"dtype\":\"float64\",\"shape\":[75]},\"y\":{\"__ndarray__\":\"GhExyth1ND/Sv8nbtpRIP2vylNV0PVE/aTum7souWD/At0SJ8fVgPw3Iuahxymc/MSNhhJWvcD/bTfBN02d3P2zb5nxnaoA/CD5h5MAGhz8NmeH1TyaQP+zrCsc9p5Y/LbKd76fGnz/bLW5ISEmmPww9YvTcQq8/JV2OstnstT8Er5Y7M8G+P0c+r3jqkcU/5h99k6ZBzj88bCIzFzjVP4enV8oyxN0//yH99nXg5D8qOpLLf0jtP5kqGJXUifQ/c9cS8kHP/D+/DpwzojQEQIEmwoanVwxA4lgXt9HgE0BSSZ2AJuIbQAMJih9jjiNA5q4l5INuK0AwTKYKRj0zQNv5fmq8/DpAaCJseHrtQkB/+zpwzoxKQM3MzMzMeFJAZmZmZmZqWEAAAAAAAFxeQM3MzMzMJmJAmpmZmZkfZUBmZmZmZhhoQDMzMzMzEWtAAAAAAAAKbkBmZmZmZoFwQM3MzMzM/XFAMzMzMzN6c0CamZmZmfZ0QAAAAAAAc3ZAZmZmZmbvd0DNzMzMzGt5QDMzMzMz6HpAmpmZmZlkfEAAAAAAAOF9QGZmZmZmXX9AZmZmZuZsgECamZmZGSuBQM3MzMxM6YFAAAAAAICngkAzMzMzs2WDQGZmZmbmI4RAmpmZmRnihEDNzMzMTKCFQAAAAACAXoZAMzMzM7Mch0BmZmZm5tqHQJqZmZkZmYhAzczMzExXiUAAAAAAgBWKQDMzMzOz04pAZmZmZuaRi0CamZmZGVCMQM3MzMxMDo1AAAAAAIDMjUAzMzMzs4qOQGZmZmbmSI9A\",\"dtype\":\"float64\",\"shape\":[75]}}},\"id\":\"069ceab9-b88b-4a5b-90a6-dc6c1d435429\",\"type\":\"ColumnDataSource\"},{\"attributes\":{},\"id\":\"c6a75cb8-05d3-4fe7-a601-2f7057c3af3e\",\"type\":\"LinearScale\"}],\"root_ids\":[\"2f8d2801-9147-4eb3-b112-b2ad9e548311\"]},\"title\":\"Bokeh Application\",\"version\":\"0.12.14\"}};\n",
       "  var render_items = [{\"docid\":\"04747133-54ff-4158-8cff-c2735cb5fed5\",\"elementid\":\"759a4eeb-801a-4b51-bcbf-919756714394\",\"modelid\":\"2f8d2801-9147-4eb3-b112-b2ad9e548311\"}];\n",
       "  root.Bokeh.embed.embed_items_notebook(docs_json, render_items);\n",
       "\n",
       "  }\n",
       "  if (root.Bokeh !== undefined) {\n",
       "    embed_document(root);\n",
       "  } else {\n",
       "    var attempts = 0;\n",
       "    var timer = setInterval(function(root) {\n",
       "      if (root.Bokeh !== undefined) {\n",
       "        embed_document(root);\n",
       "        clearInterval(timer);\n",
       "      }\n",
       "      attempts++;\n",
       "      if (attempts > 100) {\n",
       "        console.log(\"Bokeh: ERROR: Unable to run BokehJS code because BokehJS library is missing\")\n",
       "        clearInterval(timer);\n",
       "      }\n",
       "    }, 10, root)\n",
       "  }\n",
       "})(window);"
      ],
      "application/vnd.bokehjs_exec.v0+json": ""
     },
     "metadata": {
      "application/vnd.bokehjs_exec.v0+json": {
       "id": "2f8d2801-9147-4eb3-b112-b2ad9e548311"
      }
     },
     "output_type": "display_data"
    },
    {
     "name": "stdout",
     "output_type": "stream",
     "text": [
      "FIGURE. Cooling rate profiles.\n"
     ]
    },
    {
     "data": {
      "text/html": [
       "<a id=\"Flux_Comparison\"></a>"
      ],
      "text/plain": [
       "<IPython.core.display.HTML object>"
      ]
     },
     "metadata": {},
     "output_type": "display_data"
    },
    {
     "data": {
      "text/markdown": [
       "# Flux Comparison"
      ],
      "text/plain": [
       "<IPython.core.display.Markdown object>"
      ]
     },
     "metadata": {},
     "output_type": "display_data"
    },
    {
     "data": {
      "text/html": [
       "<div>\n",
       "<style>\n",
       "    .dataframe thead tr:only-child th {\n",
       "        text-align: right;\n",
       "    }\n",
       "\n",
       "    .dataframe thead th {\n",
       "        text-align: left;\n",
       "    }\n",
       "\n",
       "    .dataframe tbody tr th {\n",
       "        vertical-align: top;\n",
       "    }\n",
       "</style>\n",
       "<table border=\"1\" class=\"dataframe\">\n",
       "  <thead>\n",
       "    <tr style=\"text-align: right;\">\n",
       "      <th></th>\n",
       "      <th></th>\n",
       "      <th>flug</th>\n",
       "      <th>fldg</th>\n",
       "      <th>fnetg</th>\n",
       "    </tr>\n",
       "    <tr>\n",
       "      <th>pressure</th>\n",
       "      <th>level</th>\n",
       "      <th></th>\n",
       "      <th></th>\n",
       "      <th></th>\n",
       "    </tr>\n",
       "  </thead>\n",
       "  <tbody>\n",
       "    <tr>\n",
       "      <th>0.0000</th>\n",
       "      <th>1</th>\n",
       "      <td>-16.346958</td>\n",
       "      <td>0.000000</td>\n",
       "      <td>-16.346958</td>\n",
       "    </tr>\n",
       "    <tr>\n",
       "      <th>1.0685</th>\n",
       "      <th>24</th>\n",
       "      <td>-16.346343</td>\n",
       "      <td>0.001005</td>\n",
       "      <td>-16.345338</td>\n",
       "    </tr>\n",
       "    <tr>\n",
       "      <th>1013.0000</th>\n",
       "      <th>76</th>\n",
       "      <td>-23.755176</td>\n",
       "      <td>18.275802</td>\n",
       "      <td>-5.479374</td>\n",
       "    </tr>\n",
       "  </tbody>\n",
       "</table>\n",
       "</div>"
      ],
      "text/plain": [
       "                      flug       fldg      fnetg\n",
       "pressure  level                                 \n",
       "0.0000    1     -16.346958   0.000000 -16.346958\n",
       "1.0685    24    -16.346343   0.001005 -16.345338\n",
       "1013.0000 76    -23.755176  18.275802  -5.479374"
      ]
     },
     "metadata": {},
     "output_type": "display_data"
    },
    {
     "name": "stdout",
     "output_type": "stream",
     "text": [
      "Table. Fluxes. WGT igg=10 wgt_flux=1\n"
     ]
    },
    {
     "data": {
      "text/html": [
       "<div>\n",
       "<style>\n",
       "    .dataframe thead tr:only-child th {\n",
       "        text-align: right;\n",
       "    }\n",
       "\n",
       "    .dataframe thead th {\n",
       "        text-align: left;\n",
       "    }\n",
       "\n",
       "    .dataframe tbody tr th {\n",
       "        vertical-align: top;\n",
       "    }\n",
       "</style>\n",
       "<table border=\"1\" class=\"dataframe\">\n",
       "  <thead>\n",
       "    <tr style=\"text-align: right;\">\n",
       "      <th></th>\n",
       "      <th></th>\n",
       "      <th>flug</th>\n",
       "      <th>fldg</th>\n",
       "      <th>fnetg</th>\n",
       "    </tr>\n",
       "    <tr>\n",
       "      <th>pressure</th>\n",
       "      <th>level</th>\n",
       "      <th></th>\n",
       "      <th></th>\n",
       "      <th></th>\n",
       "    </tr>\n",
       "  </thead>\n",
       "  <tbody>\n",
       "    <tr>\n",
       "      <th>0.0000</th>\n",
       "      <th>1</th>\n",
       "      <td>-16.096827</td>\n",
       "      <td>0.000000</td>\n",
       "      <td>-16.096827</td>\n",
       "    </tr>\n",
       "    <tr>\n",
       "      <th>1.0685</th>\n",
       "      <th>24</th>\n",
       "      <td>-16.096544</td>\n",
       "      <td>0.001630</td>\n",
       "      <td>-16.094915</td>\n",
       "    </tr>\n",
       "    <tr>\n",
       "      <th>1013.0000</th>\n",
       "      <th>76</th>\n",
       "      <td>-23.755175</td>\n",
       "      <td>18.483225</td>\n",
       "      <td>-5.271950</td>\n",
       "    </tr>\n",
       "  </tbody>\n",
       "</table>\n",
       "</div>"
      ],
      "text/plain": [
       "                      flug       fldg      fnetg\n",
       "pressure  level                                 \n",
       "0.0000    1     -16.096827   0.000000 -16.096827\n",
       "1.0685    24    -16.096544   0.001630 -16.094915\n",
       "1013.0000 76    -23.755175  18.483225  -5.271950"
      ]
     },
     "metadata": {},
     "output_type": "display_data"
    },
    {
     "name": "stdout",
     "output_type": "stream",
     "text": [
      "Table. Fluxes. CRD\n"
     ]
    },
    {
     "data": {
      "text/html": [
       "<div>\n",
       "<style>\n",
       "    .dataframe thead tr:only-child th {\n",
       "        text-align: right;\n",
       "    }\n",
       "\n",
       "    .dataframe thead th {\n",
       "        text-align: left;\n",
       "    }\n",
       "\n",
       "    .dataframe tbody tr th {\n",
       "        vertical-align: top;\n",
       "    }\n",
       "</style>\n",
       "<table border=\"1\" class=\"dataframe\">\n",
       "  <thead>\n",
       "    <tr style=\"text-align: right;\">\n",
       "      <th></th>\n",
       "      <th></th>\n",
       "      <th>flug</th>\n",
       "      <th>fldg</th>\n",
       "      <th>fnetg</th>\n",
       "    </tr>\n",
       "    <tr>\n",
       "      <th>pressure</th>\n",
       "      <th>level</th>\n",
       "      <th></th>\n",
       "      <th></th>\n",
       "      <th></th>\n",
       "    </tr>\n",
       "  </thead>\n",
       "  <tbody>\n",
       "    <tr>\n",
       "      <th>1.000000e-08</th>\n",
       "      <th>1</th>\n",
       "      <td>-16.415735</td>\n",
       "      <td>2.384186e-07</td>\n",
       "      <td>-16.415735</td>\n",
       "    </tr>\n",
       "    <tr>\n",
       "      <th>1.068500e+00</th>\n",
       "      <th>24</th>\n",
       "      <td>-16.415108</td>\n",
       "      <td>9.658337e-04</td>\n",
       "      <td>-16.414143</td>\n",
       "    </tr>\n",
       "    <tr>\n",
       "      <th>1.013000e+03</th>\n",
       "      <th>76</th>\n",
       "      <td>-23.755180</td>\n",
       "      <td>1.832679e+01</td>\n",
       "      <td>-5.428392</td>\n",
       "    </tr>\n",
       "  </tbody>\n",
       "</table>\n",
       "</div>"
      ],
      "text/plain": [
       "                         flug          fldg      fnetg\n",
       "pressure     level                                    \n",
       "1.000000e-08 1     -16.415735  2.384186e-07 -16.415735\n",
       "1.068500e+00 24    -16.415108  9.658337e-04 -16.414143\n",
       "1.013000e+03 76    -23.755180  1.832679e+01  -5.428392"
      ]
     },
     "metadata": {},
     "output_type": "display_data"
    },
    {
     "name": "stdout",
     "output_type": "stream",
     "text": [
      "Table. Fluxes. CLIRAD\n"
     ]
    },
    {
     "data": {
      "text/html": [
       "<div>\n",
       "<style>\n",
       "    .dataframe thead tr:only-child th {\n",
       "        text-align: right;\n",
       "    }\n",
       "\n",
       "    .dataframe thead th {\n",
       "        text-align: left;\n",
       "    }\n",
       "\n",
       "    .dataframe tbody tr th {\n",
       "        vertical-align: top;\n",
       "    }\n",
       "</style>\n",
       "<table border=\"1\" class=\"dataframe\">\n",
       "  <thead>\n",
       "    <tr style=\"text-align: right;\">\n",
       "      <th></th>\n",
       "      <th></th>\n",
       "      <th>flug</th>\n",
       "      <th>fldg</th>\n",
       "      <th>fnetg</th>\n",
       "    </tr>\n",
       "    <tr>\n",
       "      <th>pressure</th>\n",
       "      <th>level</th>\n",
       "      <th></th>\n",
       "      <th></th>\n",
       "      <th></th>\n",
       "    </tr>\n",
       "  </thead>\n",
       "  <tbody>\n",
       "    <tr>\n",
       "      <th>0.0000</th>\n",
       "      <th>1</th>\n",
       "      <td>2.501308e-01</td>\n",
       "      <td>0.000000</td>\n",
       "      <td>0.250131</td>\n",
       "    </tr>\n",
       "    <tr>\n",
       "      <th>1.0685</th>\n",
       "      <th>24</th>\n",
       "      <td>2.497991e-01</td>\n",
       "      <td>0.000625</td>\n",
       "      <td>0.250423</td>\n",
       "    </tr>\n",
       "    <tr>\n",
       "      <th>1013.0000</th>\n",
       "      <th>76</th>\n",
       "      <td>5.100000e-07</td>\n",
       "      <td>0.207423</td>\n",
       "      <td>0.207423</td>\n",
       "    </tr>\n",
       "  </tbody>\n",
       "</table>\n",
       "</div>"
      ],
      "text/plain": [
       "                         flug      fldg     fnetg\n",
       "pressure  level                                  \n",
       "0.0000    1      2.501308e-01  0.000000  0.250131\n",
       "1.0685    24     2.497991e-01  0.000625  0.250423\n",
       "1013.0000 76     5.100000e-07  0.207423  0.207423"
      ]
     },
     "metadata": {},
     "output_type": "display_data"
    },
    {
     "name": "stdout",
     "output_type": "stream",
     "text": [
      "Table. Fluxes. (CRD) - (WGT igg=10 wgt_flux=1)\n"
     ]
    },
    {
     "data": {
      "text/html": [
       "<div>\n",
       "<style>\n",
       "    .dataframe thead tr:only-child th {\n",
       "        text-align: right;\n",
       "    }\n",
       "\n",
       "    .dataframe thead th {\n",
       "        text-align: left;\n",
       "    }\n",
       "\n",
       "    .dataframe tbody tr th {\n",
       "        vertical-align: top;\n",
       "    }\n",
       "</style>\n",
       "<table border=\"1\" class=\"dataframe\">\n",
       "  <thead>\n",
       "    <tr style=\"text-align: right;\">\n",
       "      <th></th>\n",
       "      <th></th>\n",
       "      <th>flug</th>\n",
       "      <th>fldg</th>\n",
       "      <th>fnetg</th>\n",
       "    </tr>\n",
       "    <tr>\n",
       "      <th>pressure</th>\n",
       "      <th>level</th>\n",
       "      <th></th>\n",
       "      <th></th>\n",
       "      <th></th>\n",
       "    </tr>\n",
       "  </thead>\n",
       "  <tbody>\n",
       "    <tr>\n",
       "      <th>0.0000</th>\n",
       "      <th>1</th>\n",
       "      <td>-0.068777</td>\n",
       "      <td>2.384186e-07</td>\n",
       "      <td>-0.068777</td>\n",
       "    </tr>\n",
       "    <tr>\n",
       "      <th>1.0685</th>\n",
       "      <th>24</th>\n",
       "      <td>-0.068765</td>\n",
       "      <td>-3.897474e-05</td>\n",
       "      <td>-0.068805</td>\n",
       "    </tr>\n",
       "    <tr>\n",
       "      <th>1013.0000</th>\n",
       "      <th>76</th>\n",
       "      <td>-0.000004</td>\n",
       "      <td>5.098610e-02</td>\n",
       "      <td>0.050981</td>\n",
       "    </tr>\n",
       "  </tbody>\n",
       "</table>\n",
       "</div>"
      ],
      "text/plain": [
       "                     flug          fldg     fnetg\n",
       "pressure  level                                  \n",
       "0.0000    1     -0.068777  2.384186e-07 -0.068777\n",
       "1.0685    24    -0.068765 -3.897474e-05 -0.068805\n",
       "1013.0000 76    -0.000004  5.098610e-02  0.050981"
      ]
     },
     "metadata": {},
     "output_type": "display_data"
    },
    {
     "name": "stdout",
     "output_type": "stream",
     "text": [
      "Table. Fluxes. (CLIRAD) - (WGT igg=10 wgt_flux=1)\n"
     ]
    },
    {
     "data": {
      "text/html": [
       "<a id=\"Best-fit_Parameters\"></a>"
      ],
      "text/plain": [
       "<IPython.core.display.HTML object>"
      ]
     },
     "metadata": {},
     "output_type": "display_data"
    },
    {
     "data": {
      "text/markdown": [
       "# Best-fit Parameters"
      ],
      "text/plain": [
       "<IPython.core.display.Markdown object>"
      ]
     },
     "metadata": {},
     "output_type": "display_data"
    },
    {
     "name": "stdout",
     "output_type": "stream",
     "text": [
      "Best-fit values for each (gas, band)\n",
      "------------------------------------\n",
      "o h2o band7\n",
      "  molecule = h2o\n",
      "  band = 7\n",
      "  commitnumber = d62b618\n",
      "  vmin = 1215\n",
      "  vmax = 1380\n",
      "  dv = 0.001\n",
      "  nv = 1000\n",
      "  ref_pts = [(600, 250)]\n",
      "  ng_refs = [7]\n",
      "  ng_adju = [0]\n",
      "  klin = 0\n",
      "  option_wgt_k = 1\n",
      "  wgt = [(0.5, 0.5, 0.5, 0.5, 0.5, 0.5, 0.9)]\n",
      "  w_diffuse = [(2, 1.6, 1.6, 1.6, 1.6, 1.6, 1.8)]\n",
      "  option_wgt_flux = 1\n",
      "  atmpro = mls\n",
      "  tsfc = 294\n",
      "  conc = None\n",
      "  option_compute_btable = 0\n",
      "  option_compute_ktable = 1\n"
     ]
    }
   ],
   "source": [
    "script()"
   ]
  },
  {
   "cell_type": "code",
   "execution_count": 13,
   "metadata": {},
   "outputs": [
    {
     "data": {
      "text/html": [
       "<script>\n",
       "code_show=true; \n",
       "function code_toggle() {\n",
       " if (code_show){\n",
       " $('div.input').hide();\n",
       " } else {\n",
       " $('div.input').show();\n",
       " }\n",
       " code_show = !code_show\n",
       "} \n",
       "$( document ).ready(code_toggle);\n",
       "</script>\n",
       "<form action=\"javascript:code_toggle()\"><input type=\"submit\" value=\"Click here to toggle on/off the raw code.\"></form>"
      ],
      "text/plain": [
       "<IPython.core.display.HTML object>"
      ]
     },
     "execution_count": 13,
     "metadata": {},
     "output_type": "execute_result"
    }
   ],
   "source": [
    "display.HTML('''<script>\n",
    "code_show=true; \n",
    "function code_toggle() {\n",
    " if (code_show){\n",
    " $('div.input').hide();\n",
    " } else {\n",
    " $('div.input').show();\n",
    " }\n",
    " code_show = !code_show\n",
    "} \n",
    "$( document ).ready(code_toggle);\n",
    "</script>\n",
    "<form action=\"javascript:code_toggle()\"><input type=\"submit\" value=\"Click here to toggle on/off the raw code.\"></form>''')"
   ]
  }
 ],
 "metadata": {
  "kernelspec": {
   "display_name": "Python 3",
   "language": "python",
   "name": "python3"
  },
  "language_info": {
   "codemirror_mode": {
    "name": "ipython",
    "version": 3
   },
   "file_extension": ".py",
   "mimetype": "text/x-python",
   "name": "python",
   "nbconvert_exporter": "python",
   "pygments_lexer": "ipython3",
   "version": "3.6.1"
  }
 },
 "nbformat": 4,
 "nbformat_minor": 2
}
