{
 "cells": [
  {
   "cell_type": "code",
   "execution_count": 1,
   "metadata": {
    "collapsed": true
   },
   "outputs": [],
   "source": [
    "%matplotlib inline\n",
    "import os\n",
    "import re\n",
    "import io\n",
    "import itertools\n",
    "import pprint\n",
    "\n",
    "from bokeh.io import output_notebook, show\n",
    "from bokeh.layouts import gridplot\n",
    "from bokeh.plotting import figure\n",
    "from bokeh.models import Range1d, Legend\n",
    "from bokeh.palettes import all_palettes\n",
    "\n",
    "import matplotlib\n",
    "import matplotlib.pyplot as plt\n",
    "import numpy as np\n",
    "import pandas as pd\n",
    "import xarray as xr\n",
    "\n",
    "import climatools.lblnew.bestfit_params as bestfits\n",
    "from climatools.lblnew import setup_bestfit, setup_overlap\n",
    "import climatools.lblnew.pipeline as pipe_lblnew\n",
    "import climatools.cliradlw.setup as setup_cliradlw\n",
    "import climatools.cliradlw.pipeline as pipe_cliradlw\n",
    "\n",
    "import climatools.html.html as climahtml\n",
    "from climatools.lblnew.dataio import *\n",
    "from climatools.plot.plot import *\n",
    "\n",
    "\n",
    "import IPython.display as display"
   ]
  },
  {
   "cell_type": "code",
   "execution_count": 2,
   "metadata": {
    "collapsed": true
   },
   "outputs": [],
   "source": [
    "%run param.py"
   ]
  },
  {
   "cell_type": "code",
   "execution_count": 3,
   "metadata": {
    "collapsed": true
   },
   "outputs": [],
   "source": [
    "def load_output_file(path_csv):\n",
    "    '''\n",
    "    Load lblnew output .csv file to xarray.Dataset\n",
    "    \n",
    "    Parameters\n",
    "    ----------\n",
    "    path_csv: str\n",
    "              Path to the .csv file to be loaded.\n",
    "    ds: xarray.Dataset\n",
    "        Data in the input file in the form of an xarray.Dataset.\n",
    "    '''\n",
    "    toindex = ['band', 'pressure', 'igg', 'g']    \n",
    "    df = pd.read_csv(path_csv, sep=r'\\s+')\n",
    "    df = df.set_index([i for i in toindex if i in df.columns])\n",
    "    df = df.rename(columns={'sfu': 'flug',\n",
    "                            'sfd': 'fldg',\n",
    "                            'fnet': 'fnetg',\n",
    "                            'coolr': 'coolrg'})\n",
    "    ds = xr.Dataset.from_dataframe(df)\n",
    "\n",
    "    for l in ('level', 'layer'):\n",
    "        if l in ds.data_vars:\n",
    "            if len(ds[l].dims) > 1:\n",
    "                surface = {d: 0 for d in ds.dims if d != 'pressure'}\n",
    "                coord_level = ds[l][surface]\n",
    "                ds.coords[l] = ('pressure', coord_level)\n",
    "            else:\n",
    "                ds.coords[l] = ('pressure', ds[l])\n",
    "    \n",
    "    return ds"
   ]
  },
  {
   "cell_type": "code",
   "execution_count": 4,
   "metadata": {
    "collapsed": true
   },
   "outputs": [],
   "source": [
    "def lblnew_setup(param=None):\n",
    "    if 'ng_refs' in param:\n",
    "        return {'setup': setup_bestfit,\n",
    "                'fname_flux_crd': 'output_flux.dat',\n",
    "                'fname_cool_crd': 'output_coolr.dat',\n",
    "                'fname_flux_wgt': 'output_wfluxg.dat',\n",
    "                'fname_cool_wgt': 'output_wcoolrg.dat'}\n",
    "    else:\n",
    "        return {'setup': setup_overlap,\n",
    "                'fname_flux_crd': 'output_flux.dat',\n",
    "                'fname_cool_crd': 'output_coolr.dat',\n",
    "                'fname_flux_wgt': 'output_wflux.dat',\n",
    "                'fname_cool_wgt': 'output_wcoolr.dat'}\n",
    "\n",
    "    \n",
    "def load_lblnew_data(param):\n",
    "    \n",
    "    fname_dsname = [('fname_flux_crd', 'ds_flux_crd'),\n",
    "                    ('fname_cool_crd', 'ds_cool_crd'),\n",
    "                    ('fname_flux_wgt', 'ds_flux_wgt'),\n",
    "                    ('fname_cool_wgt', 'ds_cool_wgt')]\n",
    "    \n",
    "    d = lblnew_setup(param)\n",
    "    dir_fortran = pipe_lblnew.get_dir_case(param, setup=d['setup'])\n",
    "    \n",
    "    data_dict = {}\n",
    "    for fname, dsname in fname_dsname:\n",
    "        fpath = os.path.join(dir_fortran, d[fname])\n",
    "        data_dict[dsname] = load_output_file(fpath)\n",
    "    return data_dict\n",
    "    \n",
    "\n",
    "    \n",
    "    "
   ]
  },
  {
   "cell_type": "code",
   "execution_count": 5,
   "metadata": {
    "collapsed": true
   },
   "outputs": [],
   "source": [
    "d = load_lblnew_data(PARAM_LBLNEW)\n",
    "\n",
    "DS_FLUX_CRD = d['ds_flux_crd']\n",
    "DS_COOL_CRD = d['ds_cool_crd']\n",
    "DS_FLUX_WGT = d['ds_flux_wgt']\n",
    "DS_COOL_WGT = d['ds_cool_wgt']"
   ]
  },
  {
   "cell_type": "code",
   "execution_count": 6,
   "metadata": {
    "collapsed": true
   },
   "outputs": [],
   "source": [
    "DIR_FORTRAN = pipe_cliradlw.get_fortran_dir(PARAM, \n",
    "                                            setup=setup_cliradlw)\n",
    "\n",
    "PATH_FLUX = os.path.join(DIR_FORTRAN, 'output_flux.dat')\n",
    "PATH_COOL = os.path.join(DIR_FORTRAN, 'output_coolr.dat')\n",
    "\n",
    "DS_FLUX = load_output_file(PATH_FLUX)\n",
    "DS_COOL = load_output_file(PATH_COOL)"
   ]
  },
  {
   "cell_type": "code",
   "execution_count": 7,
   "metadata": {},
   "outputs": [
    {
     "data": {
      "text/html": [
       "\n",
       "    <div class=\"bk-root\">\n",
       "        <a href=\"https://bokeh.pydata.org\" target=\"_blank\" class=\"bk-logo bk-logo-small bk-logo-notebook\"></a>\n",
       "        <span id=\"9f6843df-4364-41ce-b1e0-e130399351b1\">Loading BokehJS ...</span>\n",
       "    </div>"
      ]
     },
     "metadata": {},
     "output_type": "display_data"
    },
    {
     "data": {
      "application/javascript": [
       "\n",
       "(function(root) {\n",
       "  function now() {\n",
       "    return new Date();\n",
       "  }\n",
       "\n",
       "  var force = true;\n",
       "\n",
       "  if (typeof (root._bokeh_onload_callbacks) === \"undefined\" || force === true) {\n",
       "    root._bokeh_onload_callbacks = [];\n",
       "    root._bokeh_is_loading = undefined;\n",
       "  }\n",
       "\n",
       "  var JS_MIME_TYPE = 'application/javascript';\n",
       "  var HTML_MIME_TYPE = 'text/html';\n",
       "  var EXEC_MIME_TYPE = 'application/vnd.bokehjs_exec.v0+json';\n",
       "  var CLASS_NAME = 'output_bokeh rendered_html';\n",
       "\n",
       "  /**\n",
       "   * Render data to the DOM node\n",
       "   */\n",
       "  function render(props, node) {\n",
       "    var script = document.createElement(\"script\");\n",
       "    node.appendChild(script);\n",
       "  }\n",
       "\n",
       "  /**\n",
       "   * Handle when an output is cleared or removed\n",
       "   */\n",
       "  function handleClearOutput(event, handle) {\n",
       "    var cell = handle.cell;\n",
       "\n",
       "    var id = cell.output_area._bokeh_element_id;\n",
       "    var server_id = cell.output_area._bokeh_server_id;\n",
       "    // Clean up Bokeh references\n",
       "    if (id !== undefined) {\n",
       "      Bokeh.index[id].model.document.clear();\n",
       "      delete Bokeh.index[id];\n",
       "    }\n",
       "\n",
       "    if (server_id !== undefined) {\n",
       "      // Clean up Bokeh references\n",
       "      var cmd = \"from bokeh.io.state import curstate; print(curstate().uuid_to_server['\" + server_id + \"'].get_sessions()[0].document.roots[0]._id)\";\n",
       "      cell.notebook.kernel.execute(cmd, {\n",
       "        iopub: {\n",
       "          output: function(msg) {\n",
       "            var element_id = msg.content.text.trim();\n",
       "            Bokeh.index[element_id].model.document.clear();\n",
       "            delete Bokeh.index[element_id];\n",
       "          }\n",
       "        }\n",
       "      });\n",
       "      // Destroy server and session\n",
       "      var cmd = \"import bokeh.io.notebook as ion; ion.destroy_server('\" + server_id + \"')\";\n",
       "      cell.notebook.kernel.execute(cmd);\n",
       "    }\n",
       "  }\n",
       "\n",
       "  /**\n",
       "   * Handle when a new output is added\n",
       "   */\n",
       "  function handleAddOutput(event, handle) {\n",
       "    var output_area = handle.output_area;\n",
       "    var output = handle.output;\n",
       "\n",
       "    // limit handleAddOutput to display_data with EXEC_MIME_TYPE content only\n",
       "    if ((output.output_type != \"display_data\") || (!output.data.hasOwnProperty(EXEC_MIME_TYPE))) {\n",
       "      return\n",
       "    }\n",
       "\n",
       "    var toinsert = output_area.element.find(\".\" + CLASS_NAME.split(' ')[0]);\n",
       "\n",
       "    if (output.metadata[EXEC_MIME_TYPE][\"id\"] !== undefined) {\n",
       "      toinsert[0].firstChild.textContent = output.data[JS_MIME_TYPE];\n",
       "      // store reference to embed id on output_area\n",
       "      output_area._bokeh_element_id = output.metadata[EXEC_MIME_TYPE][\"id\"];\n",
       "    }\n",
       "    if (output.metadata[EXEC_MIME_TYPE][\"server_id\"] !== undefined) {\n",
       "      var bk_div = document.createElement(\"div\");\n",
       "      bk_div.innerHTML = output.data[HTML_MIME_TYPE];\n",
       "      var script_attrs = bk_div.children[0].attributes;\n",
       "      for (var i = 0; i < script_attrs.length; i++) {\n",
       "        toinsert[0].firstChild.setAttribute(script_attrs[i].name, script_attrs[i].value);\n",
       "      }\n",
       "      // store reference to server id on output_area\n",
       "      output_area._bokeh_server_id = output.metadata[EXEC_MIME_TYPE][\"server_id\"];\n",
       "    }\n",
       "  }\n",
       "\n",
       "  function register_renderer(events, OutputArea) {\n",
       "\n",
       "    function append_mime(data, metadata, element) {\n",
       "      // create a DOM node to render to\n",
       "      var toinsert = this.create_output_subarea(\n",
       "        metadata,\n",
       "        CLASS_NAME,\n",
       "        EXEC_MIME_TYPE\n",
       "      );\n",
       "      this.keyboard_manager.register_events(toinsert);\n",
       "      // Render to node\n",
       "      var props = {data: data, metadata: metadata[EXEC_MIME_TYPE]};\n",
       "      render(props, toinsert[0]);\n",
       "      element.append(toinsert);\n",
       "      return toinsert\n",
       "    }\n",
       "\n",
       "    /* Handle when an output is cleared or removed */\n",
       "    events.on('clear_output.CodeCell', handleClearOutput);\n",
       "    events.on('delete.Cell', handleClearOutput);\n",
       "\n",
       "    /* Handle when a new output is added */\n",
       "    events.on('output_added.OutputArea', handleAddOutput);\n",
       "\n",
       "    /**\n",
       "     * Register the mime type and append_mime function with output_area\n",
       "     */\n",
       "    OutputArea.prototype.register_mime_type(EXEC_MIME_TYPE, append_mime, {\n",
       "      /* Is output safe? */\n",
       "      safe: true,\n",
       "      /* Index of renderer in `output_area.display_order` */\n",
       "      index: 0\n",
       "    });\n",
       "  }\n",
       "\n",
       "  // register the mime type if in Jupyter Notebook environment and previously unregistered\n",
       "  if (root.Jupyter !== undefined) {\n",
       "    var events = require('base/js/events');\n",
       "    var OutputArea = require('notebook/js/outputarea').OutputArea;\n",
       "\n",
       "    if (OutputArea.prototype.mime_types().indexOf(EXEC_MIME_TYPE) == -1) {\n",
       "      register_renderer(events, OutputArea);\n",
       "    }\n",
       "  }\n",
       "\n",
       "  \n",
       "  if (typeof (root._bokeh_timeout) === \"undefined\" || force === true) {\n",
       "    root._bokeh_timeout = Date.now() + 5000;\n",
       "    root._bokeh_failed_load = false;\n",
       "  }\n",
       "\n",
       "  var NB_LOAD_WARNING = {'data': {'text/html':\n",
       "     \"<div style='background-color: #fdd'>\\n\"+\n",
       "     \"<p>\\n\"+\n",
       "     \"BokehJS does not appear to have successfully loaded. If loading BokehJS from CDN, this \\n\"+\n",
       "     \"may be due to a slow or bad network connection. Possible fixes:\\n\"+\n",
       "     \"</p>\\n\"+\n",
       "     \"<ul>\\n\"+\n",
       "     \"<li>re-rerun `output_notebook()` to attempt to load from CDN again, or</li>\\n\"+\n",
       "     \"<li>use INLINE resources instead, as so:</li>\\n\"+\n",
       "     \"</ul>\\n\"+\n",
       "     \"<code>\\n\"+\n",
       "     \"from bokeh.resources import INLINE\\n\"+\n",
       "     \"output_notebook(resources=INLINE)\\n\"+\n",
       "     \"</code>\\n\"+\n",
       "     \"</div>\"}};\n",
       "\n",
       "  function display_loaded() {\n",
       "    var el = document.getElementById(\"9f6843df-4364-41ce-b1e0-e130399351b1\");\n",
       "    if (el != null) {\n",
       "      el.textContent = \"BokehJS is loading...\";\n",
       "    }\n",
       "    if (root.Bokeh !== undefined) {\n",
       "      if (el != null) {\n",
       "        el.textContent = \"BokehJS \" + root.Bokeh.version + \" successfully loaded.\";\n",
       "      }\n",
       "    } else if (Date.now() < root._bokeh_timeout) {\n",
       "      setTimeout(display_loaded, 100)\n",
       "    }\n",
       "  }\n",
       "\n",
       "\n",
       "  function run_callbacks() {\n",
       "    try {\n",
       "      root._bokeh_onload_callbacks.forEach(function(callback) { callback() });\n",
       "    }\n",
       "    finally {\n",
       "      delete root._bokeh_onload_callbacks\n",
       "    }\n",
       "    console.info(\"Bokeh: all callbacks have finished\");\n",
       "  }\n",
       "\n",
       "  function load_libs(js_urls, callback) {\n",
       "    root._bokeh_onload_callbacks.push(callback);\n",
       "    if (root._bokeh_is_loading > 0) {\n",
       "      console.log(\"Bokeh: BokehJS is being loaded, scheduling callback at\", now());\n",
       "      return null;\n",
       "    }\n",
       "    if (js_urls == null || js_urls.length === 0) {\n",
       "      run_callbacks();\n",
       "      return null;\n",
       "    }\n",
       "    console.log(\"Bokeh: BokehJS not loaded, scheduling load and callback at\", now());\n",
       "    root._bokeh_is_loading = js_urls.length;\n",
       "    for (var i = 0; i < js_urls.length; i++) {\n",
       "      var url = js_urls[i];\n",
       "      var s = document.createElement('script');\n",
       "      s.src = url;\n",
       "      s.async = false;\n",
       "      s.onreadystatechange = s.onload = function() {\n",
       "        root._bokeh_is_loading--;\n",
       "        if (root._bokeh_is_loading === 0) {\n",
       "          console.log(\"Bokeh: all BokehJS libraries loaded\");\n",
       "          run_callbacks()\n",
       "        }\n",
       "      };\n",
       "      s.onerror = function() {\n",
       "        console.warn(\"failed to load library \" + url);\n",
       "      };\n",
       "      console.log(\"Bokeh: injecting script tag for BokehJS library: \", url);\n",
       "      document.getElementsByTagName(\"head\")[0].appendChild(s);\n",
       "    }\n",
       "  };var element = document.getElementById(\"9f6843df-4364-41ce-b1e0-e130399351b1\");\n",
       "  if (element == null) {\n",
       "    console.log(\"Bokeh: ERROR: autoload.js configured with elementid '9f6843df-4364-41ce-b1e0-e130399351b1' but no matching script tag was found. \")\n",
       "    return false;\n",
       "  }\n",
       "\n",
       "  var js_urls = [\"https://cdn.pydata.org/bokeh/release/bokeh-0.12.14.min.js\", \"https://cdn.pydata.org/bokeh/release/bokeh-widgets-0.12.14.min.js\", \"https://cdn.pydata.org/bokeh/release/bokeh-tables-0.12.14.min.js\", \"https://cdn.pydata.org/bokeh/release/bokeh-gl-0.12.14.min.js\"];\n",
       "\n",
       "  var inline_js = [\n",
       "    function(Bokeh) {\n",
       "      Bokeh.set_log_level(\"info\");\n",
       "    },\n",
       "    \n",
       "    function(Bokeh) {\n",
       "      \n",
       "    },\n",
       "    function(Bokeh) {\n",
       "      console.log(\"Bokeh: injecting CSS: https://cdn.pydata.org/bokeh/release/bokeh-0.12.14.min.css\");\n",
       "      Bokeh.embed.inject_css(\"https://cdn.pydata.org/bokeh/release/bokeh-0.12.14.min.css\");\n",
       "      console.log(\"Bokeh: injecting CSS: https://cdn.pydata.org/bokeh/release/bokeh-widgets-0.12.14.min.css\");\n",
       "      Bokeh.embed.inject_css(\"https://cdn.pydata.org/bokeh/release/bokeh-widgets-0.12.14.min.css\");\n",
       "      console.log(\"Bokeh: injecting CSS: https://cdn.pydata.org/bokeh/release/bokeh-tables-0.12.14.min.css\");\n",
       "      Bokeh.embed.inject_css(\"https://cdn.pydata.org/bokeh/release/bokeh-tables-0.12.14.min.css\");\n",
       "    }\n",
       "  ];\n",
       "\n",
       "  function run_inline_js() {\n",
       "    \n",
       "    if ((root.Bokeh !== undefined) || (force === true)) {\n",
       "      for (var i = 0; i < inline_js.length; i++) {\n",
       "        inline_js[i].call(root, root.Bokeh);\n",
       "      }if (force === true) {\n",
       "        display_loaded();\n",
       "      }} else if (Date.now() < root._bokeh_timeout) {\n",
       "      setTimeout(run_inline_js, 100);\n",
       "    } else if (!root._bokeh_failed_load) {\n",
       "      console.log(\"Bokeh: BokehJS failed to load within specified timeout.\");\n",
       "      root._bokeh_failed_load = true;\n",
       "    } else if (force !== true) {\n",
       "      var cell = $(document.getElementById(\"9f6843df-4364-41ce-b1e0-e130399351b1\")).parents('.cell').data().cell;\n",
       "      cell.output_area.append_execute_result(NB_LOAD_WARNING)\n",
       "    }\n",
       "\n",
       "  }\n",
       "\n",
       "  if (root._bokeh_is_loading === 0) {\n",
       "    console.log(\"Bokeh: BokehJS loaded, going straight to plotting\");\n",
       "    run_inline_js();\n",
       "  } else {\n",
       "    load_libs(js_urls, function() {\n",
       "      console.log(\"Bokeh: BokehJS plotting callback run at\", now());\n",
       "      run_inline_js();\n",
       "    });\n",
       "  }\n",
       "}(window));"
      ],
      "application/vnd.bokehjs_load.v0+json": "\n(function(root) {\n  function now() {\n    return new Date();\n  }\n\n  var force = true;\n\n  if (typeof (root._bokeh_onload_callbacks) === \"undefined\" || force === true) {\n    root._bokeh_onload_callbacks = [];\n    root._bokeh_is_loading = undefined;\n  }\n\n  \n\n  \n  if (typeof (root._bokeh_timeout) === \"undefined\" || force === true) {\n    root._bokeh_timeout = Date.now() + 5000;\n    root._bokeh_failed_load = false;\n  }\n\n  var NB_LOAD_WARNING = {'data': {'text/html':\n     \"<div style='background-color: #fdd'>\\n\"+\n     \"<p>\\n\"+\n     \"BokehJS does not appear to have successfully loaded. If loading BokehJS from CDN, this \\n\"+\n     \"may be due to a slow or bad network connection. Possible fixes:\\n\"+\n     \"</p>\\n\"+\n     \"<ul>\\n\"+\n     \"<li>re-rerun `output_notebook()` to attempt to load from CDN again, or</li>\\n\"+\n     \"<li>use INLINE resources instead, as so:</li>\\n\"+\n     \"</ul>\\n\"+\n     \"<code>\\n\"+\n     \"from bokeh.resources import INLINE\\n\"+\n     \"output_notebook(resources=INLINE)\\n\"+\n     \"</code>\\n\"+\n     \"</div>\"}};\n\n  function display_loaded() {\n    var el = document.getElementById(\"9f6843df-4364-41ce-b1e0-e130399351b1\");\n    if (el != null) {\n      el.textContent = \"BokehJS is loading...\";\n    }\n    if (root.Bokeh !== undefined) {\n      if (el != null) {\n        el.textContent = \"BokehJS \" + root.Bokeh.version + \" successfully loaded.\";\n      }\n    } else if (Date.now() < root._bokeh_timeout) {\n      setTimeout(display_loaded, 100)\n    }\n  }\n\n\n  function run_callbacks() {\n    try {\n      root._bokeh_onload_callbacks.forEach(function(callback) { callback() });\n    }\n    finally {\n      delete root._bokeh_onload_callbacks\n    }\n    console.info(\"Bokeh: all callbacks have finished\");\n  }\n\n  function load_libs(js_urls, callback) {\n    root._bokeh_onload_callbacks.push(callback);\n    if (root._bokeh_is_loading > 0) {\n      console.log(\"Bokeh: BokehJS is being loaded, scheduling callback at\", now());\n      return null;\n    }\n    if (js_urls == null || js_urls.length === 0) {\n      run_callbacks();\n      return null;\n    }\n    console.log(\"Bokeh: BokehJS not loaded, scheduling load and callback at\", now());\n    root._bokeh_is_loading = js_urls.length;\n    for (var i = 0; i < js_urls.length; i++) {\n      var url = js_urls[i];\n      var s = document.createElement('script');\n      s.src = url;\n      s.async = false;\n      s.onreadystatechange = s.onload = function() {\n        root._bokeh_is_loading--;\n        if (root._bokeh_is_loading === 0) {\n          console.log(\"Bokeh: all BokehJS libraries loaded\");\n          run_callbacks()\n        }\n      };\n      s.onerror = function() {\n        console.warn(\"failed to load library \" + url);\n      };\n      console.log(\"Bokeh: injecting script tag for BokehJS library: \", url);\n      document.getElementsByTagName(\"head\")[0].appendChild(s);\n    }\n  };var element = document.getElementById(\"9f6843df-4364-41ce-b1e0-e130399351b1\");\n  if (element == null) {\n    console.log(\"Bokeh: ERROR: autoload.js configured with elementid '9f6843df-4364-41ce-b1e0-e130399351b1' but no matching script tag was found. \")\n    return false;\n  }\n\n  var js_urls = [\"https://cdn.pydata.org/bokeh/release/bokeh-0.12.14.min.js\", \"https://cdn.pydata.org/bokeh/release/bokeh-widgets-0.12.14.min.js\", \"https://cdn.pydata.org/bokeh/release/bokeh-tables-0.12.14.min.js\", \"https://cdn.pydata.org/bokeh/release/bokeh-gl-0.12.14.min.js\"];\n\n  var inline_js = [\n    function(Bokeh) {\n      Bokeh.set_log_level(\"info\");\n    },\n    \n    function(Bokeh) {\n      \n    },\n    function(Bokeh) {\n      console.log(\"Bokeh: injecting CSS: https://cdn.pydata.org/bokeh/release/bokeh-0.12.14.min.css\");\n      Bokeh.embed.inject_css(\"https://cdn.pydata.org/bokeh/release/bokeh-0.12.14.min.css\");\n      console.log(\"Bokeh: injecting CSS: https://cdn.pydata.org/bokeh/release/bokeh-widgets-0.12.14.min.css\");\n      Bokeh.embed.inject_css(\"https://cdn.pydata.org/bokeh/release/bokeh-widgets-0.12.14.min.css\");\n      console.log(\"Bokeh: injecting CSS: https://cdn.pydata.org/bokeh/release/bokeh-tables-0.12.14.min.css\");\n      Bokeh.embed.inject_css(\"https://cdn.pydata.org/bokeh/release/bokeh-tables-0.12.14.min.css\");\n    }\n  ];\n\n  function run_inline_js() {\n    \n    if ((root.Bokeh !== undefined) || (force === true)) {\n      for (var i = 0; i < inline_js.length; i++) {\n        inline_js[i].call(root, root.Bokeh);\n      }if (force === true) {\n        display_loaded();\n      }} else if (Date.now() < root._bokeh_timeout) {\n      setTimeout(run_inline_js, 100);\n    } else if (!root._bokeh_failed_load) {\n      console.log(\"Bokeh: BokehJS failed to load within specified timeout.\");\n      root._bokeh_failed_load = true;\n    } else if (force !== true) {\n      var cell = $(document.getElementById(\"9f6843df-4364-41ce-b1e0-e130399351b1\")).parents('.cell').data().cell;\n      cell.output_area.append_execute_result(NB_LOAD_WARNING)\n    }\n\n  }\n\n  if (root._bokeh_is_loading === 0) {\n    console.log(\"Bokeh: BokehJS loaded, going straight to plotting\");\n    run_inline_js();\n  } else {\n    load_libs(js_urls, function() {\n      console.log(\"Bokeh: BokehJS plotting callback run at\", now());\n      run_inline_js();\n    });\n  }\n}(window));"
     },
     "metadata": {},
     "output_type": "display_data"
    }
   ],
   "source": [
    "output_notebook()"
   ]
  },
  {
   "cell_type": "code",
   "execution_count": 8,
   "metadata": {
    "collapsed": true
   },
   "outputs": [],
   "source": [
    "def fmt_cool(ds_in):\n",
    "    ds = ds_in.copy(deep=True)\n",
    "    if 'igg' in ds.dims:\n",
    "        ds = ds.sel(igg=1)\n",
    "\n",
    "    if 'g' in ds.dims:\n",
    "        ds = ds.sum('g')\n",
    "            \n",
    "    if 'band' in ds.dims:\n",
    "        try:\n",
    "            ds = ds.squeeze('band')\n",
    "        except ValueError:\n",
    "            ds = ds.sum('band')\n",
    "                \n",
    "    return ds['coolrg']\n",
    "\n",
    "\n",
    "def pltdata_cooling_1(ds_cool=None,\n",
    "                      ds_cool_crd=None, ds_cool_wgt=None):\n",
    "    \n",
    "\n",
    "\n",
    "    colors = all_palettes['Set1'][4]\n",
    "    data = [{'label': 'CLIRAD `coolr_bands`',\n",
    "             'srs': fmt_cool(ds_cool),\n",
    "             'line_dash': 'dashed', 'line_width': 5,\n",
    "             'color': colors[0], 'alpha': .6},\n",
    "            {'label': 'CRD',\n",
    "             'srs': fmt_cool(ds_cool_crd),\n",
    "             'line_dash': 'solid', 'line_width': 1.5,\n",
    "             'marker': 'circle', 'marker_size': 5,\n",
    "             'color': colors[2], 'alpha': 1,},\n",
    "            {'label': 'WGT igg=10 wgt_flux=2',\n",
    "             'srs': fmt_cool(ds_cool_wgt),\n",
    "             'line_dash': 'solid', 'line_width': 3,\n",
    "             'marker': 'square', 'marker_size': 5,\n",
    "             'color': colors[3], 'alpha': .6}]\n",
    "    return data\n",
    "\n",
    "\n",
    "def nice_xlims(pltdata=None, prange=None):\n",
    "    \n",
    "    def get_slice(srs):\n",
    "        return srs.sel(pressure=slice(*prange))\n",
    "    \n",
    "    srss = [d['srs'] for d in pltdata]\n",
    "    vmin = min([get_slice(srs).min() for srs in srss])\n",
    "    vmax = max([get_slice(srs).max() for srs in srss])\n",
    "    dv = (vmax - vmin) * .01\n",
    "    return float(vmin - dv), float(vmax + dv)\n",
    "    \n",
    "\n",
    "def plt_cooling_bokeh(pltdata=None):\n",
    "    '''\n",
    "    Plot a list of cooling rate profiles using bokeh.\n",
    "    '''\n",
    "    ymin = 1e-2 \n",
    "    ymax = 1020 \n",
    "        \n",
    "    p1 = figure(title=\"Linear pressure scale\", \n",
    "                plot_width=400)        \n",
    "    xmin, xmax = nice_xlims(pltdata, prange=(50, 1050))\n",
    "    for d in pltdata:\n",
    "        if 'marker' in d:\n",
    "            getattr(p1, d['marker'])(d['srs'].values, \n",
    "                    d['srs'].coords['pressure'].values,\n",
    "                    color=d['color'], alpha=.7)\n",
    "        p1.line(d['srs'].values, \n",
    "                d['srs'].coords['pressure'].values,\n",
    "                color=d['color'], alpha=d['alpha'], \n",
    "                line_width=d['line_width'], line_dash=d['line_dash'])\n",
    "    \n",
    "    p1.y_range = Range1d(ymax, ymin)\n",
    "    p1.yaxis.axis_label = 'pressure [mb]'   \n",
    "    p1.x_range = Range1d(xmin, xmax)\n",
    "    p1.xaxis.axis_label = 'cooling rate [K/day]'\n",
    "            \n",
    "    p2 = figure(title='Log pressure scale', y_axis_type='log',\n",
    "                plot_width=560)\n",
    "    xmin, xmax = nice_xlims(pltdata, prange=(.01, 200))\n",
    "    \n",
    "    rs = []\n",
    "    for d in pltdata:\n",
    "        rd = []\n",
    "        if 'marker' in d:\n",
    "            r_mark = getattr(p2, d['marker'])(d['srs'].values, \n",
    "                        d['srs'].coords['pressure'].values,\n",
    "                        color=d['color'], alpha=.7)\n",
    "            rd.append(r_mark)\n",
    "        r_line = p2.line(d['srs'].values, \n",
    "                    d['srs'].coords['pressure'].values,\n",
    "                    color=d['color'], alpha=d['alpha'], \n",
    "                    line_width=d['line_width'], line_dash=d['line_dash'])\n",
    "        rd.append(r_line)\n",
    "      \n",
    "        rs.append(rd)\n",
    "        \n",
    "    p2.y_range = Range1d(ymax, ymin)  \n",
    "    p2.yaxis.axis_label = 'pressure [mb]'\n",
    "    \n",
    "    p2.x_range = Range1d(xmin, xmax)\n",
    "    p2.xaxis.axis_label = 'cooling rate [K/day]'\n",
    "    \n",
    "    items = [(d['label'], r) for r, d in zip(rs, pltdata)]\n",
    "    legend = Legend(items=items, location=(10, -30))\n",
    "    legend.label_text_font_size = '8pt'\n",
    "    \n",
    "    p2.add_layout(legend, 'right')  \n",
    "    \n",
    "    show(gridplot(p1, p2, ncols=2, plot_height=500))\n",
    "    \n",
    "\n",
    "def script_plt_cooling():\n",
    "    pltdata = pltdata_cooling_1(\n",
    "        ds_cool=DS_COOL,\n",
    "        ds_cool_crd=DS_COOL_CRD,\n",
    "        ds_cool_wgt=DS_COOL_WGT)\n",
    "    plt_cooling_bokeh(pltdata=pltdata)\n",
    "    print('''FIGURE. Cooling rate profiles.''')"
   ]
  },
  {
   "cell_type": "code",
   "execution_count": 9,
   "metadata": {
    "collapsed": true
   },
   "outputs": [],
   "source": [
    "def fmt_flux(ds_in):\n",
    "    ds = ds_in.copy(deep=True)\n",
    "    \n",
    "    for l in ('level', 'layer'):\n",
    "        if l in ds.data_vars:\n",
    "            if len(ds[l].dims) > 1:\n",
    "                surface = {d: 0 for d in ds.dims if d != 'pressure'}\n",
    "                coord_level = ds[l][surface]\n",
    "                ds.coords[l] = ('pressure', coord_level)\n",
    "            else:\n",
    "                ds.coords[l] = ('pressure', ds[l])\n",
    "        \n",
    "    ds = ds.isel(pressure=[0, 23, -1])\n",
    "        \n",
    "    if 'igg' in ds.dims:\n",
    "        ds = ds.sel(igg=[1])\n",
    "        ds = ds.squeeze('igg').drop('igg')\n",
    "    \n",
    "    if 'g' in ds.dims:\n",
    "        ds = ds.sum('g')\n",
    "            \n",
    "    if 'band' in ds.dims:\n",
    "        try:\n",
    "            ds = ds.squeeze('band').drop('band')\n",
    "        except ValueError:\n",
    "            ds = ds.sum('band')\n",
    "                \n",
    "    df = ds.to_dataframe()\n",
    "    df = df.set_index('level', append=True)               \n",
    "    return df\n",
    "\n",
    "\n",
    "def tbdata_flux(ds_flux=None, ds_flux_crd=None, ds_flux_wgt=None):\n",
    "    ilevels = [0, 23, -1]\n",
    "            \n",
    "    benchmark = {'label': 'WGT igg=10 wgt_flux=1',\n",
    "                 'df': fmt_flux(ds_flux_wgt)}\n",
    "    \n",
    "    tbs = [{'label': 'CRD',\n",
    "            'df': fmt_flux(ds_flux_crd)},\n",
    "           {'label': 'CLIRAD',\n",
    "            'df': fmt_flux(ds_flux)}]\n",
    "    \n",
    "    data = {'benchmark': benchmark, 'others': tbs}\n",
    "    return data\n",
    "\n",
    "\n",
    "def tb_flux(tbdata=None):\n",
    "    benchmark = tbdata['benchmark']\n",
    "    others = tbdata['others']\n",
    "    \n",
    "    def show_tb(d=None):\n",
    "        display.display(d['df'])\n",
    "        print('Table.', 'Fluxes.', d['label'])\n",
    "        \n",
    "    def show_tbdiff(d0=None, d=None):\n",
    "        df = d['df']\n",
    "        df.index = d0['df'].index\n",
    "        display.display(df - d0['df'])\n",
    "        print('Table.', 'Fluxes.', \n",
    "              '({}) - ({})'.format(d['label'], d0['label']))\n",
    "        \n",
    "    show_tb(benchmark)\n",
    "    for d in others:\n",
    "        show_tb(d)\n",
    "        \n",
    "    for d in others:\n",
    "        show_tbdiff(d=d, d0=benchmark)\n",
    "        \n",
    "        \n",
    "def script_tb_flux():\n",
    "    data = tbdata_flux(ds_flux=DS_FLUX,\n",
    "                       ds_flux_crd=DS_FLUX_CRD,\n",
    "                       ds_flux_wgt=DS_FLUX_WGT)\n",
    "    tb_flux(tbdata=data)"
   ]
  },
  {
   "cell_type": "code",
   "execution_count": 10,
   "metadata": {
    "collapsed": true
   },
   "outputs": [],
   "source": [
    "def band_map():\n",
    "    '''\n",
    "    Maps spectral bands in lblnew to spectral bands in clirad.\n",
    "    '''\n",
    "    lblnew2clirad = {'1': '1',\n",
    "            '2': '2',\n",
    "            '3a': '3',\n",
    "            '3b': '4',\n",
    "            '3c': '5',\n",
    "            '4': '6', \n",
    "            '5': '7',\n",
    "            '6': '8',\n",
    "            '7': '9', \n",
    "            '8': '10',\n",
    "            '9': '11'}\n",
    "    \n",
    "    clirad2lblnew = {clirad: lblnew \n",
    "                     for lblnew, clirad in lblnew2clirad.items()}\n",
    "    return clirad2lblnew\n",
    "\n",
    "\n",
    "def gasbands():\n",
    "    bmap = band_map()\n",
    "    gases = list(PARAM['molecule'].keys())\n",
    "    \n",
    "    bands = [bmap[str(b)] for b in PARAM['band']]\n",
    "    return list(itertools.product(gases, bands))\n",
    "\n",
    "\n",
    "def print_bestfit_params():\n",
    "    print('Best-fit values for each (gas, band)')\n",
    "    print('------------------------------------')\n",
    "    for gas, band in gasbands():\n",
    "        print('o {} band{}'.format(gas, band))\n",
    "        param = bestfits.kdist_params(molecule=gas, band=band)\n",
    "        for name, value in param.items():\n",
    "            print(2 * ' ' + '{} = {}'.format(name, value))\n",
    "\n",
    "        \n",
    "def print_input_param():        \n",
    "    for name, value in PARAM.items():\n",
    "        print('{} = {}'.format(name, value))\n",
    "        \n",
    "        \n",
    "def print_lblnew_param():\n",
    "    for name, value in PARAM_LBLNEW.items():\n",
    "        print('{} = {}'.format(name, value))\n"
   ]
  },
  {
   "cell_type": "code",
   "execution_count": 11,
   "metadata": {
    "collapsed": true,
    "scrolled": false
   },
   "outputs": [],
   "source": [
    "def show_html(s):\n",
    "    display.display(display.HTML(s))\n",
    "\n",
    "    \n",
    "def show_markdown(s):\n",
    "    display.display(display.Markdown(s))\n",
    "\n",
    "    \n",
    "def script():\n",
    "    \n",
    "    title = '### CLIRAD-LW'\n",
    "    s_input = 'Input Parameters'\n",
    "    s_lblnew_param = 'LBLNEW case compaired against'\n",
    "    s_bestfits = 'Best-fit Parameters'\n",
    "    s_plt_cooling = 'Cooling Rate Profiles'\n",
    "    s_tb_flux = 'Flux Comparison'\n",
    "    \n",
    "    # title\n",
    "    show_markdown('### CLIRAD-LW')\n",
    "    \n",
    "    # TOC\n",
    "    show_markdown('### Table of Contents')\n",
    "    show_html(climahtml.getHTML_hrefanchor(s_input))\n",
    "    show_html(climahtml.getHTML_hrefanchor(s_lblnew_param))\n",
    "    show_html(climahtml.getHTML_hrefanchor(s_plt_cooling))\n",
    "    show_html(climahtml.getHTML_hrefanchor(s_tb_flux))\n",
    "    show_html(climahtml.getHTML_hrefanchor(s_bestfits))\n",
    "    \n",
    "    # Input parameters\n",
    "    show_html(climahtml.getHTML_idanchor(s_input))\n",
    "    show_markdown(climahtml.getMarkdown_sectitle(s_input))\n",
    "    print_input_param()\n",
    "    \n",
    "    # LBLNEW parameters \n",
    "    show_html(climahtml.getHTML_idanchor(s_lblnew_param))\n",
    "    show_markdown(climahtml.getMarkdown_sectitle(s_lblnew_param))\n",
    "    print_lblnew_param()\n",
    "    \n",
    "    # Cooling rate profiles\n",
    "    show_html(climahtml.getHTML_idanchor(s_plt_cooling))\n",
    "    show_markdown(climahtml.getMarkdown_sectitle(s_plt_cooling))\n",
    "    script_plt_cooling()\n",
    "    \n",
    "    # Flux comparison\n",
    "    show_html(climahtml.getHTML_idanchor(s_tb_flux))\n",
    "    show_markdown(climahtml.getMarkdown_sectitle(s_tb_flux))\n",
    "    script_tb_flux()\n",
    "    \n",
    "    # Best-fit values\n",
    "    show_html(climahtml.getHTML_idanchor(s_bestfits))\n",
    "    show_markdown(climahtml.getMarkdown_sectitle(s_bestfits))\n",
    "    print_bestfit_params()\n",
    "   \n",
    "    "
   ]
  },
  {
   "cell_type": "code",
   "execution_count": 12,
   "metadata": {
    "scrolled": false
   },
   "outputs": [
    {
     "data": {
      "text/markdown": [
       "### CLIRAD-LW"
      ],
      "text/plain": [
       "<IPython.core.display.Markdown object>"
      ]
     },
     "metadata": {},
     "output_type": "display_data"
    },
    {
     "data": {
      "text/markdown": [
       "### Table of Contents"
      ],
      "text/plain": [
       "<IPython.core.display.Markdown object>"
      ]
     },
     "metadata": {},
     "output_type": "display_data"
    },
    {
     "data": {
      "text/html": [
       "<a href=\"#Input_Parameters\">Input Parameters</a>"
      ],
      "text/plain": [
       "<IPython.core.display.HTML object>"
      ]
     },
     "metadata": {},
     "output_type": "display_data"
    },
    {
     "data": {
      "text/html": [
       "<a href=\"#LBLNEW_case_compaired_against\">LBLNEW case compaired against</a>"
      ],
      "text/plain": [
       "<IPython.core.display.HTML object>"
      ]
     },
     "metadata": {},
     "output_type": "display_data"
    },
    {
     "data": {
      "text/html": [
       "<a href=\"#Cooling_Rate_Profiles\">Cooling Rate Profiles</a>"
      ],
      "text/plain": [
       "<IPython.core.display.HTML object>"
      ]
     },
     "metadata": {},
     "output_type": "display_data"
    },
    {
     "data": {
      "text/html": [
       "<a href=\"#Flux_Comparison\">Flux Comparison</a>"
      ],
      "text/plain": [
       "<IPython.core.display.HTML object>"
      ]
     },
     "metadata": {},
     "output_type": "display_data"
    },
    {
     "data": {
      "text/html": [
       "<a href=\"#Best-fit_Parameters\">Best-fit Parameters</a>"
      ],
      "text/plain": [
       "<IPython.core.display.HTML object>"
      ]
     },
     "metadata": {},
     "output_type": "display_data"
    },
    {
     "data": {
      "text/html": [
       "<a id=\"Input_Parameters\"></a>"
      ],
      "text/plain": [
       "<IPython.core.display.HTML object>"
      ]
     },
     "metadata": {},
     "output_type": "display_data"
    },
    {
     "data": {
      "text/markdown": [
       "# Input Parameters"
      ],
      "text/plain": [
       "<IPython.core.display.Markdown object>"
      ]
     },
     "metadata": {},
     "output_type": "display_data"
    },
    {
     "name": "stdout",
     "output_type": "stream",
     "text": [
      "atmpro = mls\n",
      "band = [4]\n",
      "commitnumber = 7a7a0e1\n",
      "molecule = {'h2o': 'atmpro'}\n",
      "tsfc = 294\n"
     ]
    },
    {
     "data": {
      "text/html": [
       "<a id=\"LBLNEW_case_compaired_against\"></a>"
      ],
      "text/plain": [
       "<IPython.core.display.HTML object>"
      ]
     },
     "metadata": {},
     "output_type": "display_data"
    },
    {
     "data": {
      "text/markdown": [
       "# LBLNEW case compaired against"
      ],
      "text/plain": [
       "<IPython.core.display.Markdown object>"
      ]
     },
     "metadata": {},
     "output_type": "display_data"
    },
    {
     "name": "stdout",
     "output_type": "stream",
     "text": [
      "molecule = h2o\n",
      "band = 3b\n",
      "commitnumber = d62b618\n",
      "vmin = 620\n",
      "vmax = 720\n",
      "dv = 0.001\n",
      "nv = 1000\n",
      "ref_pts = [(600, 250)]\n",
      "ng_refs = [6]\n",
      "ng_adju = [0]\n",
      "klin = 1e-24\n",
      "option_wgt_k = 1\n",
      "wgt = [(0.8, 0.8, 0.8, 0.6, 0.6, 0.9)]\n",
      "w_diffuse = [(1.66, 1.66, 1.66, 1.55, 1.5, 1.66)]\n",
      "option_wgt_flux = 1\n",
      "atmpro = trp\n",
      "tsfc = 294\n",
      "conc = None\n",
      "option_compute_btable = 0\n",
      "option_compute_ktable = 1\n"
     ]
    },
    {
     "data": {
      "text/html": [
       "<a id=\"Cooling_Rate_Profiles\"></a>"
      ],
      "text/plain": [
       "<IPython.core.display.HTML object>"
      ]
     },
     "metadata": {},
     "output_type": "display_data"
    },
    {
     "data": {
      "text/markdown": [
       "# Cooling Rate Profiles"
      ],
      "text/plain": [
       "<IPython.core.display.Markdown object>"
      ]
     },
     "metadata": {},
     "output_type": "display_data"
    },
    {
     "data": {
      "text/html": [
       "\n",
       "<div class=\"bk-root\">\n",
       "    <div class=\"bk-plotdiv\" id=\"eab7198a-9c0f-4f48-8945-0b0689d40432\"></div>\n",
       "</div>"
      ]
     },
     "metadata": {},
     "output_type": "display_data"
    },
    {
     "data": {
      "application/javascript": [
       "(function(root) {\n",
       "  function embed_document(root) {\n",
       "    \n",
       "  var docs_json = {\"2b30ddd4-e896-4860-ad70-871fb51cf46b\":{\"roots\":{\"references\":[{\"attributes\":{\"toolbar\":{\"id\":\"4f53dbc7-7286-4b5e-a487-9dda6c737f94\",\"type\":\"ProxyToolbar\"},\"toolbar_location\":\"above\"},\"id\":\"274feb47-9c9a-403b-b450-4942332bb83d\",\"type\":\"ToolbarBox\"},{\"attributes\":{\"callback\":null,\"column_names\":[\"x\",\"y\"],\"data\":{\"x\":{\"__ndarray__\":\"UCK9MmlsID+dJO6Vn3IhP1wIEy/VlSM/JpBZGwnVJT8sWEcUTykoP3U2bFbFkio/9QCNM7IKLT+fp9xVYJ0vPz6PPwTdJjE/UZ10cqGHMj8bR5mnOfIzP7wZXmkdyDI/Rofe/SfVNj9nxamyRdQ4P5rt//ukUEA/DjkjfffuST9FgBXYSoVUP/zT4bcVwV4/R5PuEkwhZj8SKgUUm+xuPwoMiDr7JHU/gmmIkt+Oez+BKCL/aNF9Pzu+xgE+93o/lOSTrk2ldj+1jbZfe7xxP3z7jG4x/Wo/JCN21ZtLZD9Exq7rWi1eP9B0YAQHF1Y/Gn+CnYO3Tz8yTcwhIRhGPyplbKY0ID0/U9vgEXgAMT+6xvpBax8SP+OZcbqkFxa/+OzROQLXIr8MtuJ8LLcevzn/gwziweS+MEQEBUdzJT8647gACLtCP2y/nORFaWE/XR43MDxldz8uYr4NSPqIPxBaZV/fcpY/AQmDZX7LoT/RUeHki7GpP3QNqkJAFLE/JzXI5b6jtD/qrsECZcG4P7sETIUda70/QbKIeiRSwT+e/ZKeMzPEPwMyxzTLTMc/31FjQsylyj8zAxG5SyjOPybSy2JB5dA/uwMCvlfE0j/AV9cV8aXUP/aBYGWfjdY/2OIqgVpt2D9QrVuQbyfaP+082P+MlNs/H4A3UQlX3j8axlnotd/fP6dqzDUWPuA/WaTsoTtQ4D8d3+amMGPfP065HXXPVd4/ljRvatrk3T9C3GoQxejdP8W/GUaLfd4/PXm70vD13z+/MfyOfsfhP5WBA1q64uw/\",\"dtype\":\"float64\",\"shape\":[75]},\"y\":{\"__ndarray__\":\"GhExyth1ND/Sv8nbtpRIP2vylNV0PVE/aTum7souWD/At0SJ8fVgPw3Iuahxymc/MSNhhJWvcD/bTfBN02d3P2zb5nxnaoA/CD5h5MAGhz8NmeH1TyaQP+zrCsc9p5Y/LbKd76fGnz/bLW5ISEmmPww9YvTcQq8/JV2OstnstT8Er5Y7M8G+P0c+r3jqkcU/5h99k6ZBzj88bCIzFzjVP4enV8oyxN0//yH99nXg5D8qOpLLf0jtP5kqGJXUifQ/c9cS8kHP/D+/DpwzojQEQIEmwoanVwxA4lgXt9HgE0BSSZ2AJuIbQAMJih9jjiNA5q4l5INuK0AwTKYKRj0zQNv5fmq8/DpAaCJseHrtQkB/+zpwzoxKQM3MzMzMeFJAZmZmZmZqWEAAAAAAAFxeQM3MzMzMJmJAmpmZmZkfZUBmZmZmZhhoQDMzMzMzEWtAAAAAAAAKbkBmZmZmZoFwQM3MzMzM/XFAMzMzMzN6c0CamZmZmfZ0QAAAAAAAc3ZAZmZmZmbvd0DNzMzMzGt5QDMzMzMz6HpAmpmZmZlkfEAAAAAAAOF9QGZmZmZmXX9AZmZmZuZsgECamZmZGSuBQM3MzMxM6YFAAAAAAICngkAzMzMzs2WDQGZmZmbmI4RAmpmZmRnihEDNzMzMTKCFQAAAAACAXoZAMzMzM7Mch0BmZmZm5tqHQJqZmZkZmYhAzczMzExXiUAAAAAAgBWKQDMzMzOz04pAZmZmZuaRi0CamZmZGVCMQM3MzMxMDo1AAAAAAIDMjUAzMzMzs4qOQGZmZmbmSI9A\",\"dtype\":\"float64\",\"shape\":[75]}}},\"id\":\"d27a892f-ce12-4ee0-b343-b221bf21aa32\",\"type\":\"ColumnDataSource\"},{\"attributes\":{\"data_source\":{\"id\":\"9fa39a20-6986-481d-8506-7b76b7f0e492\",\"type\":\"ColumnDataSource\"},\"glyph\":{\"id\":\"03a11dbd-1217-4bab-b811-eacf3a4e073f\",\"type\":\"Line\"},\"hover_glyph\":null,\"muted_glyph\":null,\"nonselection_glyph\":{\"id\":\"69ddd554-9027-4684-b3f1-499d649ccf83\",\"type\":\"Line\"},\"selection_glyph\":null,\"view\":{\"id\":\"8320e661-0e22-4b87-a412-bf83a18199b4\",\"type\":\"CDSView\"}},\"id\":\"1a7fddaf-4f8f-4168-968a-1b7d43782646\",\"type\":\"GlyphRenderer\"},{\"attributes\":{\"line_alpha\":0.1,\"line_color\":\"#1f77b4\",\"line_dash\":[6],\"line_width\":5,\"x\":{\"field\":\"x\"},\"y\":{\"field\":\"y\"}},\"id\":\"69ddd554-9027-4684-b3f1-499d649ccf83\",\"type\":\"Line\"},{\"attributes\":{},\"id\":\"abc1b271-3446-4c79-aeb6-39a63a113adb\",\"type\":\"BasicTicker\"},{\"attributes\":{\"children\":[{\"id\":\"b8d7549b-840a-4616-a0bf-06844acb7840\",\"subtype\":\"Figure\",\"type\":\"Plot\"},{\"id\":\"dc376318-1073-459e-9fc4-d6a0e74cddba\",\"subtype\":\"Figure\",\"type\":\"Plot\"}]},\"id\":\"7181f6e0-23cc-4899-a2b3-710904d7de51\",\"type\":\"Row\"},{\"attributes\":{\"fill_alpha\":{\"value\":0.1},\"fill_color\":{\"value\":\"#1f77b4\"},\"line_alpha\":{\"value\":0.1},\"line_color\":{\"value\":\"#1f77b4\"},\"x\":{\"field\":\"x\"},\"y\":{\"field\":\"y\"}},\"id\":\"7f3699d9-6331-4322-a7ae-5d5de5960ecd\",\"type\":\"Circle\"},{\"attributes\":{},\"id\":\"7a9a1d4c-02ca-4f71-ba1f-9527384d9607\",\"type\":\"BasicTickFormatter\"},{\"attributes\":{\"source\":{\"id\":\"d27a892f-ce12-4ee0-b343-b221bf21aa32\",\"type\":\"ColumnDataSource\"}},\"id\":\"08d204b3-789c-4e96-a61d-d39a6295aac1\",\"type\":\"CDSView\"},{\"attributes\":{\"line_alpha\":0.6,\"line_color\":\"#e41a1c\",\"line_dash\":[6],\"line_width\":5,\"x\":{\"field\":\"x\"},\"y\":{\"field\":\"y\"}},\"id\":\"03a11dbd-1217-4bab-b811-eacf3a4e073f\",\"type\":\"Line\"},{\"attributes\":{},\"id\":\"3a3a72ca-ba7b-40cd-a76e-4ffd91b4485c\",\"type\":\"HelpTool\"},{\"attributes\":{},\"id\":\"951289af-b215-4150-a122-b14d9807eeb3\",\"type\":\"LogScale\"},{\"attributes\":{\"line_alpha\":0.1,\"line_color\":\"#1f77b4\",\"line_width\":1.5,\"x\":{\"field\":\"x\"},\"y\":{\"field\":\"y\"}},\"id\":\"664f6fbc-f252-4d3c-ac9f-8ba51a732d3a\",\"type\":\"Line\"},{\"attributes\":{},\"id\":\"cc4937b0-0275-40e6-940c-bdcc2f220168\",\"type\":\"WheelZoomTool\"},{\"attributes\":{\"label\":{\"value\":\"CRD\"},\"renderers\":[{\"id\":\"f2cd1471-819a-4d34-92d5-a8dfcfc0738e\",\"type\":\"GlyphRenderer\"},{\"id\":\"091979ba-a577-46d5-93be-824ce0e04aa2\",\"type\":\"GlyphRenderer\"}]},\"id\":\"0957f94d-e96a-4190-a6f7-e7d432343181\",\"type\":\"LegendItem\"},{\"attributes\":{\"line_alpha\":0.6,\"line_color\":\"#e41a1c\",\"line_dash\":[6],\"line_width\":5,\"x\":{\"field\":\"x\"},\"y\":{\"field\":\"y\"}},\"id\":\"7db1240a-46d9-4129-af2b-5762c7d88fc1\",\"type\":\"Line\"},{\"attributes\":{\"source\":{\"id\":\"18ff661b-32ad-43f8-9386-f473686858d7\",\"type\":\"ColumnDataSource\"}},\"id\":\"79644a4d-552a-4ba2-ae67-28eb0bd58be5\",\"type\":\"CDSView\"},{\"attributes\":{},\"id\":\"e11db145-443d-45e2-8601-4977817eb93c\",\"type\":\"BasicTickFormatter\"},{\"attributes\":{\"source\":{\"id\":\"9fa39a20-6986-481d-8506-7b76b7f0e492\",\"type\":\"ColumnDataSource\"}},\"id\":\"8320e661-0e22-4b87-a412-bf83a18199b4\",\"type\":\"CDSView\"},{\"attributes\":{\"line_alpha\":0.6,\"line_color\":\"#984ea3\",\"line_width\":3,\"x\":{\"field\":\"x\"},\"y\":{\"field\":\"y\"}},\"id\":\"6ee6e199-0da1-43aa-b2d2-b445aa05b12b\",\"type\":\"Line\"},{\"attributes\":{\"fill_alpha\":{\"value\":0.7},\"fill_color\":{\"value\":\"#4daf4a\"},\"line_alpha\":{\"value\":0.7},\"line_color\":{\"value\":\"#4daf4a\"},\"x\":{\"field\":\"x\"},\"y\":{\"field\":\"y\"}},\"id\":\"11689403-51bc-48f5-8b55-b2e8537b8705\",\"type\":\"Circle\"},{\"attributes\":{\"ticker\":null},\"id\":\"ea6a9dfb-ee38-425b-9afc-db34c0d332fd\",\"type\":\"LogTickFormatter\"},{\"attributes\":{\"fill_alpha\":{\"value\":0.1},\"fill_color\":{\"value\":\"#1f77b4\"},\"line_alpha\":{\"value\":0.1},\"line_color\":{\"value\":\"#1f77b4\"},\"x\":{\"field\":\"x\"},\"y\":{\"field\":\"y\"}},\"id\":\"87dcb2cb-b8c2-416f-ad47-bfb3bcdc07ee\",\"type\":\"Circle\"},{\"attributes\":{\"data_source\":{\"id\":\"39b71b4c-aeb0-451b-852e-fad6b0cbb6f8\",\"type\":\"ColumnDataSource\"},\"glyph\":{\"id\":\"11689403-51bc-48f5-8b55-b2e8537b8705\",\"type\":\"Circle\"},\"hover_glyph\":null,\"muted_glyph\":null,\"nonselection_glyph\":{\"id\":\"87dcb2cb-b8c2-416f-ad47-bfb3bcdc07ee\",\"type\":\"Circle\"},\"selection_glyph\":null,\"view\":{\"id\":\"377faa44-655c-44cf-bf25-82cbc8906f81\",\"type\":\"CDSView\"}},\"id\":\"f2cd1471-819a-4d34-92d5-a8dfcfc0738e\",\"type\":\"GlyphRenderer\"},{\"attributes\":{\"plot\":null,\"text\":\"Log pressure scale\"},\"id\":\"5d2d5abf-8e87-4a1f-8750-769e6ab7c2ce\",\"type\":\"Title\"},{\"attributes\":{\"callback\":null,\"column_names\":[\"x\",\"y\"],\"data\":{\"x\":{\"__ndarray__\":\"UCK9MmlsID+dJO6Vn3IhP1wIEy/VlSM/JpBZGwnVJT8sWEcUTykoP3U2bFbFkio/9QCNM7IKLT+fp9xVYJ0vPz6PPwTdJjE/UZ10cqGHMj8bR5mnOfIzP7wZXmkdyDI/Rofe/SfVNj9nxamyRdQ4P5rt//ukUEA/DjkjfffuST9FgBXYSoVUP/zT4bcVwV4/R5PuEkwhZj8SKgUUm+xuPwoMiDr7JHU/gmmIkt+Oez+BKCL/aNF9Pzu+xgE+93o/lOSTrk2ldj+1jbZfe7xxP3z7jG4x/Wo/JCN21ZtLZD9Exq7rWi1eP9B0YAQHF1Y/Gn+CnYO3Tz8yTcwhIRhGPyplbKY0ID0/U9vgEXgAMT+6xvpBax8SP+OZcbqkFxa/+OzROQLXIr8MtuJ8LLcevzn/gwziweS+MEQEBUdzJT8647gACLtCP2y/nORFaWE/XR43MDxldz8uYr4NSPqIPxBaZV/fcpY/AQmDZX7LoT/RUeHki7GpP3QNqkJAFLE/JzXI5b6jtD/qrsECZcG4P7sETIUda70/QbKIeiRSwT+e/ZKeMzPEPwMyxzTLTMc/31FjQsylyj8zAxG5SyjOPybSy2JB5dA/uwMCvlfE0j/AV9cV8aXUP/aBYGWfjdY/2OIqgVpt2D9QrVuQbyfaP+082P+MlNs/H4A3UQlX3j8axlnotd/fP6dqzDUWPuA/WaTsoTtQ4D8d3+amMGPfP065HXXPVd4/ljRvatrk3T9C3GoQxejdP8W/GUaLfd4/PXm70vD13z+/MfyOfsfhP5WBA1q64uw/\",\"dtype\":\"float64\",\"shape\":[75]},\"y\":{\"__ndarray__\":\"GhExyth1ND/Sv8nbtpRIP2vylNV0PVE/aTum7souWD/At0SJ8fVgPw3Iuahxymc/MSNhhJWvcD/bTfBN02d3P2zb5nxnaoA/CD5h5MAGhz8NmeH1TyaQP+zrCsc9p5Y/LbKd76fGnz/bLW5ISEmmPww9YvTcQq8/JV2OstnstT8Er5Y7M8G+P0c+r3jqkcU/5h99k6ZBzj88bCIzFzjVP4enV8oyxN0//yH99nXg5D8qOpLLf0jtP5kqGJXUifQ/c9cS8kHP/D+/DpwzojQEQIEmwoanVwxA4lgXt9HgE0BSSZ2AJuIbQAMJih9jjiNA5q4l5INuK0AwTKYKRj0zQNv5fmq8/DpAaCJseHrtQkB/+zpwzoxKQM3MzMzMeFJAZmZmZmZqWEAAAAAAAFxeQM3MzMzMJmJAmpmZmZkfZUBmZmZmZhhoQDMzMzMzEWtAAAAAAAAKbkBmZmZmZoFwQM3MzMzM/XFAMzMzMzN6c0CamZmZmfZ0QAAAAAAAc3ZAZmZmZmbvd0DNzMzMzGt5QDMzMzMz6HpAmpmZmZlkfEAAAAAAAOF9QGZmZmZmXX9AZmZmZuZsgECamZmZGSuBQM3MzMxM6YFAAAAAAICngkAzMzMzs2WDQGZmZmbmI4RAmpmZmRnihEDNzMzMTKCFQAAAAACAXoZAMzMzM7Mch0BmZmZm5tqHQJqZmZkZmYhAzczMzExXiUAAAAAAgBWKQDMzMzOz04pAZmZmZuaRi0CamZmZGVCMQM3MzMxMDo1AAAAAAIDMjUAzMzMzs4qOQGZmZmbmSI9A\",\"dtype\":\"float64\",\"shape\":[75]}}},\"id\":\"5d89e954-0f50-4a46-8050-d48c7dbf3ec9\",\"type\":\"ColumnDataSource\"},{\"attributes\":{\"source\":{\"id\":\"87fa9842-686a-466f-8aa5-bfc19eda9604\",\"type\":\"ColumnDataSource\"}},\"id\":\"5d46d07c-4401-4d1e-b19b-c18ca23eb4d1\",\"type\":\"CDSView\"},{\"attributes\":{\"callback\":null,\"column_names\":[\"x\",\"y\"],\"data\":{\"x\":{\"__ndarray__\":\"UCK9MmlsID+dJO6Vn3IhP1wIEy/VlSM/JpBZGwnVJT8sWEcUTykoP3U2bFbFkio/9QCNM7IKLT+fp9xVYJ0vPz6PPwTdJjE/UZ10cqGHMj8bR5mnOfIzP7wZXmkdyDI/Rofe/SfVNj9nxamyRdQ4P5rt//ukUEA/DjkjfffuST9FgBXYSoVUP/zT4bcVwV4/R5PuEkwhZj8SKgUUm+xuPwoMiDr7JHU/gmmIkt+Oez+BKCL/aNF9Pzu+xgE+93o/lOSTrk2ldj+1jbZfe7xxP3z7jG4x/Wo/JCN21ZtLZD9Exq7rWi1eP9B0YAQHF1Y/Gn+CnYO3Tz8yTcwhIRhGPyplbKY0ID0/U9vgEXgAMT+6xvpBax8SP+OZcbqkFxa/+OzROQLXIr8MtuJ8LLcevzn/gwziweS+MEQEBUdzJT8647gACLtCP2y/nORFaWE/XR43MDxldz8uYr4NSPqIPxBaZV/fcpY/AQmDZX7LoT/RUeHki7GpP3QNqkJAFLE/JzXI5b6jtD/qrsECZcG4P7sETIUda70/QbKIeiRSwT+e/ZKeMzPEPwMyxzTLTMc/31FjQsylyj8zAxG5SyjOPybSy2JB5dA/uwMCvlfE0j/AV9cV8aXUP/aBYGWfjdY/2OIqgVpt2D9QrVuQbyfaP+082P+MlNs/H4A3UQlX3j8axlnotd/fP6dqzDUWPuA/WaTsoTtQ4D8d3+amMGPfP065HXXPVd4/ljRvatrk3T9C3GoQxejdP8W/GUaLfd4/PXm70vD13z+/MfyOfsfhP5WBA1q64uw/\",\"dtype\":\"float64\",\"shape\":[75]},\"y\":{\"__ndarray__\":\"GhExyth1ND/Sv8nbtpRIP2vylNV0PVE/aTum7souWD/At0SJ8fVgPw3Iuahxymc/MSNhhJWvcD/bTfBN02d3P2zb5nxnaoA/CD5h5MAGhz8NmeH1TyaQP+zrCsc9p5Y/LbKd76fGnz/bLW5ISEmmPww9YvTcQq8/JV2OstnstT8Er5Y7M8G+P0c+r3jqkcU/5h99k6ZBzj88bCIzFzjVP4enV8oyxN0//yH99nXg5D8qOpLLf0jtP5kqGJXUifQ/c9cS8kHP/D+/DpwzojQEQIEmwoanVwxA4lgXt9HgE0BSSZ2AJuIbQAMJih9jjiNA5q4l5INuK0AwTKYKRj0zQNv5fmq8/DpAaCJseHrtQkB/+zpwzoxKQM3MzMzMeFJAZmZmZmZqWEAAAAAAAFxeQM3MzMzMJmJAmpmZmZkfZUBmZmZmZhhoQDMzMzMzEWtAAAAAAAAKbkBmZmZmZoFwQM3MzMzM/XFAMzMzMzN6c0CamZmZmfZ0QAAAAAAAc3ZAZmZmZmbvd0DNzMzMzGt5QDMzMzMz6HpAmpmZmZlkfEAAAAAAAOF9QGZmZmZmXX9AZmZmZuZsgECamZmZGSuBQM3MzMxM6YFAAAAAAICngkAzMzMzs2WDQGZmZmbmI4RAmpmZmRnihEDNzMzMTKCFQAAAAACAXoZAMzMzM7Mch0BmZmZm5tqHQJqZmZkZmYhAzczMzExXiUAAAAAAgBWKQDMzMzOz04pAZmZmZuaRi0CamZmZGVCMQM3MzMxMDo1AAAAAAIDMjUAzMzMzs4qOQGZmZmbmSI9A\",\"dtype\":\"float64\",\"shape\":[75]}}},\"id\":\"39b71b4c-aeb0-451b-852e-fad6b0cbb6f8\",\"type\":\"ColumnDataSource\"},{\"attributes\":{},\"id\":\"3b51ddbc-f588-4c9a-8f05-6916a8af1b59\",\"type\":\"SaveTool\"},{\"attributes\":{\"callback\":null,\"column_names\":[\"x\",\"y\"],\"data\":{\"x\":{\"__ndarray__\":\"AAAAAAAAAAAAAAAAAAAAAAAAAAAAAAAAAAAAAAAAAADXN75jacGnPwAAAAAAAAAAAAAAAAAAAADLAWebrjaRv0kAzO8Ti4i/HtNCYUp/gT8AAAAAAAAAAAAAAAAAAAAAAAAAAAAAAABRx1y6BhRiv9wNByqoxlk/AAAAAAAAAAC8CEvhWzNKP/5ti4WsrWI/ORFA09KhWj9OLQR9jn1sPzqXTf2WmXI/xrUNI8WHdz+W0xt/9B6AP+PNO4F5F4A/NEgxX2aoej8RurCf0Vd1P6lm6n9GU3A/iia9YFHAZz8Ls6LfnUliPyi35531rls/LhHjhdHEVD8z3+D9LfVMPz1WeaFUHEU/u4UJ/hJMQD9Txrua0AM5Pwe+aNw/djI/NtpDB7bSLT8OxX57fe8sP51J/P8lzio/ARrHH2FKLT8MNyf84a8/P7SHhznLaGA/jF2D/+ujeT+m5NSCom+OP9or1QADE5w/+NyDvJChoj8hprkfNN6mP7Iskz/qP6w/8S3A/9UxsT/jwqKeFYO0P6QN8kCFn7c/rOcgv+kjuj8oWRSXX928PwyV2uYhLsA/SPBtl4lkwj8DVP7WytvEP22tq9k1Z8c/1GdBB+H6yj+eWG0fbl7OP/CqpKGIvdA/yxrtn0RX0j9f9uPdLgfUP9vzBNvr0dU/t/HE/1+t1z/a+7c/1XDZPwMUl6H59do/uj+LYyws3D+2jKv8+OzcP7c6a32yHt0/h3GSQUnc3D9qatlaX2TcPxz7BuQa+Ns/vLVlI4TF2z/ozOrbUfXbP3i3skRnWd0/\",\"dtype\":\"float64\",\"shape\":[75]},\"y\":{\"__ndarray__\":\"S/O/Q+51ND/430zAtpRIP2vylNV0PVE/QxsjCssuWD/TR4Z78fVgP+inNsRxymc/OuuBfZWvcD/u3TFA02d3P2d3VoBnaoA/CD5h5MAGhz/1pA8HUCaQP+zrCsc9p5Y/Fb7LAKjGnz/nJ9c/SEmmPwBD+fzcQq8/FOZwv9nstT8Er5Y7M8G+P0c+r3jqkcU/yK72qKZBzj+tM989FzjVPxbgmr8yxN0/cOm5AXbg5D+5ctXAf0jtP5kqGJXUifQ/DsrqDELP/D8MCAhBojQEQDItVnmnVwxAiFXNvdHgE0BSSZ2AJuIbQAMJih9jjiNA5q4l5INuK0CPVN/5RT0zQHzxRXu8/DpAOZ7PgHrtQkAg8wGBzoxKQBSTN8DMeFJA2NmQf2ZqWEAAAAAAAFxeQEQX1LfMJmJAmpmZmZkfZUBmZmZmZhhoQLzoK0gzEWtAAAAAAAAKbkCiC+pbZoFwQAhyUMLM/XFA+I2vPTN6c0AQ5KCEmfZ0QAAAAAAAc3ZA8Btfe2bvd0AIclDCzGt5QPeNrz0z6HpAEOSghJlkfEAAAAAAAOF9QKML6ltmXX9ABTkoYeZsgED7xteeGSuBQAhyUMJM6YFAAAAAAICngkD4ja89s2WDQAU5KGHmI4RA+8bXnhnihEAIclDCTKCFQAAAAACAXoZA+I2vPbMch0AFOShh5tqHQPvG154ZmYhACHJQwkxXiUAAAAAAgBWKQPeNrz2z04pABTkoYeaRi0D7xteeGVCMQAlyUMJMDo1AAAAAAIDMjUD3ja89s4qOQGZmZmbmSI9A\",\"dtype\":\"float64\",\"shape\":[75]}}},\"id\":\"9fa39a20-6986-481d-8506-7b76b7f0e492\",\"type\":\"ColumnDataSource\"},{\"attributes\":{},\"id\":\"a3442dde-5955-4297-b1a3-01c93a8fd7f9\",\"type\":\"BasicTickFormatter\"},{\"attributes\":{\"line_alpha\":0.1,\"line_color\":\"#1f77b4\",\"line_dash\":[6],\"line_width\":5,\"x\":{\"field\":\"x\"},\"y\":{\"field\":\"y\"}},\"id\":\"9ff0f2b5-cfbf-4113-823f-096d38160ad4\",\"type\":\"Line\"},{\"attributes\":{\"callback\":null,\"column_names\":[\"x\",\"y\"],\"data\":{\"x\":{\"__ndarray__\":\"++ljvB51ID8l9Xr621AhPwO9TOdhGiM/BI9ALC/7JD+6bPK+ku0mP5Otxgba8Sg/ylcvTWUIKz8LiyYK+DEtPwpVUxDPbi8/5r/pbsHfMD/d7vvkThIyP4es4UdkTzM/c0/hhXmYND99qKyzNUw2P1nJsPBo2Tw/NwmFLiJ1Rj91FkLR7oVRPzCN7ZnoDlo/FJkRrYa3Yj/sXwKAZzRqP2Z3ICZZ+XE/mBhtapOTdz9yBL8NcL95P1EvYBwtq3c/MLasCJ5AdD+/Pw28UjdwP4rFnldkQWk/Zcl0iA1vYz8TOXqzOm9dP41b9TOm4lU/TdF9VM+mTz8mN6/D2ONFP6nJbTv9fTw/Obd0H010Lz+B9alyZYsOP8FgHNsvZhW/f5IEUSTjI7/KnR7vbE4gvx5vu95cW/2+4sgYdqdSIT+fH0nGv75APz1DYT5YaGA/CKyDOM0Mdz+jwD8JwYiJP4EmpOr+eZc/f2AJ40CUoj8IzvZwscaqP8VizVYXf7E/jmQOKFJdtT+r2BO872u5P4UvPTK+db4/HytKT+bqwD8txqqXI4vDPy9+6wWdh8Y/unc0BZsDyj9Fa05QUYjNP2tR1GGlC9E/Nnp+/cFy0j9O0x9vKO3TP/bnqy9bv9U/hjqFD8qa1z9IZcw/TXrZP9SjQbtXNts/aRj/XrZJ3j/9BnAM7gngP49R81H8feE/xJWgWdhY4D/ykKNKAWLfP9CG4vI6ad4/qzR7w1AN3j/0DMxTVFHeP6lmRcGuHt8/LCfcSVlu4D8VUCML8IriP+T95qOfaO0/\",\"dtype\":\"float64\",\"shape\":[75]},\"y\":{\"__ndarray__\":\"GhExyth1ND/Sv8nbtpRIP2vylNV0PVE/aTum7souWD/At0SJ8fVgPw3Iuahxymc/MSNhhJWvcD/bTfBN02d3P2zb5nxnaoA/CD5h5MAGhz8NmeH1TyaQP+zrCsc9p5Y/LbKd76fGnz/bLW5ISEmmPww9YvTcQq8/JV2OstnstT8Er5Y7M8G+P0c+r3jqkcU/5h99k6ZBzj88bCIzFzjVP4enV8oyxN0//yH99nXg5D8qOpLLf0jtP5kqGJXUifQ/c9cS8kHP/D+/DpwzojQEQIEmwoanVwxA4lgXt9HgE0BSSZ2AJuIbQAMJih9jjiNA5q4l5INuK0AwTKYKRj0zQNv5fmq8/DpAaCJseHrtQkB/+zpwzoxKQM3MzMzMeFJAZmZmZmZqWEAAAAAAAFxeQM3MzMzMJmJAmpmZmZkfZUBmZmZmZhhoQDMzMzMzEWtAAAAAAAAKbkBmZmZmZoFwQM3MzMzM/XFAMzMzMzN6c0CamZmZmfZ0QAAAAAAAc3ZAZmZmZmbvd0DNzMzMzGt5QDMzMzMz6HpAmpmZmZlkfEAAAAAAAOF9QGZmZmZmXX9AZmZmZuZsgECamZmZGSuBQM3MzMxM6YFAAAAAAICngkAzMzMzs2WDQGZmZmbmI4RAmpmZmRnihEDNzMzMTKCFQAAAAACAXoZAMzMzM7Mch0BmZmZm5tqHQJqZmZkZmYhAzczMzExXiUAAAAAAgBWKQDMzMzOz04pAZmZmZuaRi0CamZmZGVCMQM3MzMxMDo1AAAAAAIDMjUAzMzMzs4qOQGZmZmbmSI9A\",\"dtype\":\"float64\",\"shape\":[75]}}},\"id\":\"638734cd-c88b-4757-bfc7-120863cbfe39\",\"type\":\"ColumnDataSource\"},{\"attributes\":{\"line_color\":\"#4daf4a\",\"line_width\":1.5,\"x\":{\"field\":\"x\"},\"y\":{\"field\":\"y\"}},\"id\":\"aa305181-7f66-4255-8aa3-57f1bbf63d87\",\"type\":\"Line\"},{\"attributes\":{\"dimension\":1,\"plot\":{\"id\":\"b8d7549b-840a-4616-a0bf-06844acb7840\",\"subtype\":\"Figure\",\"type\":\"Plot\"},\"ticker\":{\"id\":\"abc1b271-3446-4c79-aeb6-39a63a113adb\",\"type\":\"BasicTicker\"}},\"id\":\"a12ec4c2-9bcd-4021-8e8a-8ad5fd0c33c1\",\"type\":\"Grid\"},{\"attributes\":{\"source\":{\"id\":\"39b71b4c-aeb0-451b-852e-fad6b0cbb6f8\",\"type\":\"ColumnDataSource\"}},\"id\":\"377faa44-655c-44cf-bf25-82cbc8906f81\",\"type\":\"CDSView\"},{\"attributes\":{\"data_source\":{\"id\":\"87fa9842-686a-466f-8aa5-bfc19eda9604\",\"type\":\"ColumnDataSource\"},\"glyph\":{\"id\":\"7db1240a-46d9-4129-af2b-5762c7d88fc1\",\"type\":\"Line\"},\"hover_glyph\":null,\"muted_glyph\":null,\"nonselection_glyph\":{\"id\":\"9ff0f2b5-cfbf-4113-823f-096d38160ad4\",\"type\":\"Line\"},\"selection_glyph\":null,\"view\":{\"id\":\"5d46d07c-4401-4d1e-b19b-c18ca23eb4d1\",\"type\":\"CDSView\"}},\"id\":\"bb019e89-9162-4c8b-83b5-e537771e2a36\",\"type\":\"GlyphRenderer\"},{\"attributes\":{\"data_source\":{\"id\":\"18ff661b-32ad-43f8-9386-f473686858d7\",\"type\":\"ColumnDataSource\"},\"glyph\":{\"id\":\"aa305181-7f66-4255-8aa3-57f1bbf63d87\",\"type\":\"Line\"},\"hover_glyph\":null,\"muted_glyph\":null,\"nonselection_glyph\":{\"id\":\"b9f300bd-9993-423e-ba9d-4740bcf136b2\",\"type\":\"Line\"},\"selection_glyph\":null,\"view\":{\"id\":\"79644a4d-552a-4ba2-ae67-28eb0bd58be5\",\"type\":\"CDSView\"}},\"id\":\"091979ba-a577-46d5-93be-824ce0e04aa2\",\"type\":\"GlyphRenderer\"},{\"attributes\":{\"fill_alpha\":{\"value\":0.7},\"fill_color\":{\"value\":\"#984ea3\"},\"line_alpha\":{\"value\":0.7},\"line_color\":{\"value\":\"#984ea3\"},\"x\":{\"field\":\"x\"},\"y\":{\"field\":\"y\"}},\"id\":\"5e6cad2b-5e44-492a-a06d-47d44e498327\",\"type\":\"Square\"},{\"attributes\":{\"line_alpha\":0.1,\"line_color\":\"#1f77b4\",\"line_width\":1.5,\"x\":{\"field\":\"x\"},\"y\":{\"field\":\"y\"}},\"id\":\"b9f300bd-9993-423e-ba9d-4740bcf136b2\",\"type\":\"Line\"},{\"attributes\":{\"plot\":{\"id\":\"dc376318-1073-459e-9fc4-d6a0e74cddba\",\"subtype\":\"Figure\",\"type\":\"Plot\"},\"ticker\":{\"id\":\"2e4ee405-a008-4fd8-aa21-c79cbf95b99f\",\"type\":\"BasicTicker\"}},\"id\":\"1160f065-2d87-4382-95ac-6e389c73f68b\",\"type\":\"Grid\"},{\"attributes\":{\"dimension\":1,\"plot\":{\"id\":\"dc376318-1073-459e-9fc4-d6a0e74cddba\",\"subtype\":\"Figure\",\"type\":\"Plot\"},\"ticker\":{\"id\":\"785aa588-af9a-4aad-a167-f3f0e78632b9\",\"type\":\"LogTicker\"}},\"id\":\"0adca501-2c7a-4253-a145-66ede5d58b25\",\"type\":\"Grid\"},{\"attributes\":{\"fill_alpha\":{\"value\":0.1},\"fill_color\":{\"value\":\"#1f77b4\"},\"line_alpha\":{\"value\":0.1},\"line_color\":{\"value\":\"#1f77b4\"},\"x\":{\"field\":\"x\"},\"y\":{\"field\":\"y\"}},\"id\":\"3d2b3a17-5cfb-4e9b-ad0b-3a84649778b5\",\"type\":\"Square\"},{\"attributes\":{\"data_source\":{\"id\":\"92100b48-d67d-4800-a9fd-269cb35fdb2e\",\"type\":\"ColumnDataSource\"},\"glyph\":{\"id\":\"6ee6e199-0da1-43aa-b2d2-b445aa05b12b\",\"type\":\"Line\"},\"hover_glyph\":null,\"muted_glyph\":null,\"nonselection_glyph\":{\"id\":\"d53414b0-8e02-498a-bfdb-fe9f557ea329\",\"type\":\"Line\"},\"selection_glyph\":null,\"view\":{\"id\":\"cc270c31-4c43-43f3-84ab-241806ad4923\",\"type\":\"CDSView\"}},\"id\":\"e4c4d716-50cc-4e1c-9f96-8e9293fb92f0\",\"type\":\"GlyphRenderer\"},{\"attributes\":{\"callback\":null,\"column_names\":[\"x\",\"y\"],\"data\":{\"x\":{\"__ndarray__\":\"++ljvB51ID8l9Xr621AhPwO9TOdhGiM/BI9ALC/7JD+6bPK+ku0mP5Otxgba8Sg/ylcvTWUIKz8LiyYK+DEtPwpVUxDPbi8/5r/pbsHfMD/d7vvkThIyP4es4UdkTzM/c0/hhXmYND99qKyzNUw2P1nJsPBo2Tw/NwmFLiJ1Rj91FkLR7oVRPzCN7ZnoDlo/FJkRrYa3Yj/sXwKAZzRqP2Z3ICZZ+XE/mBhtapOTdz9yBL8NcL95P1EvYBwtq3c/MLasCJ5AdD+/Pw28UjdwP4rFnldkQWk/Zcl0iA1vYz8TOXqzOm9dP41b9TOm4lU/TdF9VM+mTz8mN6/D2ONFP6nJbTv9fTw/Obd0H010Lz+B9alyZYsOP8FgHNsvZhW/f5IEUSTjI7/KnR7vbE4gvx5vu95cW/2+4sgYdqdSIT+fH0nGv75APz1DYT5YaGA/CKyDOM0Mdz+jwD8JwYiJP4EmpOr+eZc/f2AJ40CUoj8IzvZwscaqP8VizVYXf7E/jmQOKFJdtT+r2BO872u5P4UvPTK+db4/HytKT+bqwD8txqqXI4vDPy9+6wWdh8Y/unc0BZsDyj9Fa05QUYjNP2tR1GGlC9E/Nnp+/cFy0j9O0x9vKO3TP/bnqy9bv9U/hjqFD8qa1z9IZcw/TXrZP9SjQbtXNts/aRj/XrZJ3j/9BnAM7gngP49R81H8feE/xJWgWdhY4D/ykKNKAWLfP9CG4vI6ad4/qzR7w1AN3j/0DMxTVFHeP6lmRcGuHt8/LCfcSVlu4D8VUCML8IriP+T95qOfaO0/\",\"dtype\":\"float64\",\"shape\":[75]},\"y\":{\"__ndarray__\":\"GhExyth1ND/Sv8nbtpRIP2vylNV0PVE/aTum7souWD/At0SJ8fVgPw3Iuahxymc/MSNhhJWvcD/bTfBN02d3P2zb5nxnaoA/CD5h5MAGhz8NmeH1TyaQP+zrCsc9p5Y/LbKd76fGnz/bLW5ISEmmPww9YvTcQq8/JV2OstnstT8Er5Y7M8G+P0c+r3jqkcU/5h99k6ZBzj88bCIzFzjVP4enV8oyxN0//yH99nXg5D8qOpLLf0jtP5kqGJXUifQ/c9cS8kHP/D+/DpwzojQEQIEmwoanVwxA4lgXt9HgE0BSSZ2AJuIbQAMJih9jjiNA5q4l5INuK0AwTKYKRj0zQNv5fmq8/DpAaCJseHrtQkB/+zpwzoxKQM3MzMzMeFJAZmZmZmZqWEAAAAAAAFxeQM3MzMzMJmJAmpmZmZkfZUBmZmZmZhhoQDMzMzMzEWtAAAAAAAAKbkBmZmZmZoFwQM3MzMzM/XFAMzMzMzN6c0CamZmZmfZ0QAAAAAAAc3ZAZmZmZmbvd0DNzMzMzGt5QDMzMzMz6HpAmpmZmZlkfEAAAAAAAOF9QGZmZmZmXX9AZmZmZuZsgECamZmZGSuBQM3MzMxM6YFAAAAAAICngkAzMzMzs2WDQGZmZmbmI4RAmpmZmRnihEDNzMzMTKCFQAAAAACAXoZAMzMzM7Mch0BmZmZm5tqHQJqZmZkZmYhAzczMzExXiUAAAAAAgBWKQDMzMzOz04pAZmZmZuaRi0CamZmZGVCMQM3MzMxMDo1AAAAAAIDMjUAzMzMzs4qOQGZmZmbmSI9A\",\"dtype\":\"float64\",\"shape\":[75]}}},\"id\":\"83b78f81-1b25-4b8c-8a05-d2975fe3603b\",\"type\":\"ColumnDataSource\"},{\"attributes\":{\"fill_alpha\":{\"value\":0.7},\"fill_color\":{\"value\":\"#984ea3\"},\"line_alpha\":{\"value\":0.7},\"line_color\":{\"value\":\"#984ea3\"},\"x\":{\"field\":\"x\"},\"y\":{\"field\":\"y\"}},\"id\":\"172f4666-9489-465c-933d-c7adb312e592\",\"type\":\"Square\"},{\"attributes\":{\"data_source\":{\"id\":\"d27a892f-ce12-4ee0-b343-b221bf21aa32\",\"type\":\"ColumnDataSource\"},\"glyph\":{\"id\":\"79e7be00-d745-40ec-a2ea-aac35e3e9778\",\"type\":\"Circle\"},\"hover_glyph\":null,\"muted_glyph\":null,\"nonselection_glyph\":{\"id\":\"7f3699d9-6331-4322-a7ae-5d5de5960ecd\",\"type\":\"Circle\"},\"selection_glyph\":null,\"view\":{\"id\":\"08d204b3-789c-4e96-a61d-d39a6295aac1\",\"type\":\"CDSView\"}},\"id\":\"58899b69-9bb8-412a-9c7b-92f8292a24f5\",\"type\":\"GlyphRenderer\"},{\"attributes\":{\"axis_label\":\"cooling rate [K/day]\",\"formatter\":{\"id\":\"a3442dde-5955-4297-b1a3-01c93a8fd7f9\",\"type\":\"BasicTickFormatter\"},\"plot\":{\"id\":\"dc376318-1073-459e-9fc4-d6a0e74cddba\",\"subtype\":\"Figure\",\"type\":\"Plot\"},\"ticker\":{\"id\":\"2e4ee405-a008-4fd8-aa21-c79cbf95b99f\",\"type\":\"BasicTicker\"}},\"id\":\"5e57c3ff-d66c-4c02-b70f-10a443a35b87\",\"type\":\"LinearAxis\"},{\"attributes\":{\"data_source\":{\"id\":\"638734cd-c88b-4757-bfc7-120863cbfe39\",\"type\":\"ColumnDataSource\"},\"glyph\":{\"id\":\"172f4666-9489-465c-933d-c7adb312e592\",\"type\":\"Square\"},\"hover_glyph\":null,\"muted_glyph\":null,\"nonselection_glyph\":{\"id\":\"3d2b3a17-5cfb-4e9b-ad0b-3a84649778b5\",\"type\":\"Square\"},\"selection_glyph\":null,\"view\":{\"id\":\"994bd12b-cc22-470c-b6a9-036d6fb39750\",\"type\":\"CDSView\"}},\"id\":\"311a4c19-0a89-419e-84be-60f5c66eb93f\",\"type\":\"GlyphRenderer\"},{\"attributes\":{},\"id\":\"a628f3b7-b211-43ed-909b-a4f354b49c57\",\"type\":\"PanTool\"},{\"attributes\":{\"plot\":{\"id\":\"b8d7549b-840a-4616-a0bf-06844acb7840\",\"subtype\":\"Figure\",\"type\":\"Plot\"},\"ticker\":{\"id\":\"c7dcefeb-f158-4446-8e36-b70f6cca7cba\",\"type\":\"BasicTicker\"}},\"id\":\"0da5e2b9-2fae-491f-9ae4-e2e4be4dc4e8\",\"type\":\"Grid\"},{\"attributes\":{\"callback\":null,\"column_names\":[\"x\",\"y\"],\"data\":{\"x\":{\"__ndarray__\":\"UCK9MmlsID+dJO6Vn3IhP1wIEy/VlSM/JpBZGwnVJT8sWEcUTykoP3U2bFbFkio/9QCNM7IKLT+fp9xVYJ0vPz6PPwTdJjE/UZ10cqGHMj8bR5mnOfIzP7wZXmkdyDI/Rofe/SfVNj9nxamyRdQ4P5rt//ukUEA/DjkjfffuST9FgBXYSoVUP/zT4bcVwV4/R5PuEkwhZj8SKgUUm+xuPwoMiDr7JHU/gmmIkt+Oez+BKCL/aNF9Pzu+xgE+93o/lOSTrk2ldj+1jbZfe7xxP3z7jG4x/Wo/JCN21ZtLZD9Exq7rWi1eP9B0YAQHF1Y/Gn+CnYO3Tz8yTcwhIRhGPyplbKY0ID0/U9vgEXgAMT+6xvpBax8SP+OZcbqkFxa/+OzROQLXIr8MtuJ8LLcevzn/gwziweS+MEQEBUdzJT8647gACLtCP2y/nORFaWE/XR43MDxldz8uYr4NSPqIPxBaZV/fcpY/AQmDZX7LoT/RUeHki7GpP3QNqkJAFLE/JzXI5b6jtD/qrsECZcG4P7sETIUda70/QbKIeiRSwT+e/ZKeMzPEPwMyxzTLTMc/31FjQsylyj8zAxG5SyjOPybSy2JB5dA/uwMCvlfE0j/AV9cV8aXUP/aBYGWfjdY/2OIqgVpt2D9QrVuQbyfaP+082P+MlNs/H4A3UQlX3j8axlnotd/fP6dqzDUWPuA/WaTsoTtQ4D8d3+amMGPfP065HXXPVd4/ljRvatrk3T9C3GoQxejdP8W/GUaLfd4/PXm70vD13z+/MfyOfsfhP5WBA1q64uw/\",\"dtype\":\"float64\",\"shape\":[75]},\"y\":{\"__ndarray__\":\"GhExyth1ND/Sv8nbtpRIP2vylNV0PVE/aTum7souWD/At0SJ8fVgPw3Iuahxymc/MSNhhJWvcD/bTfBN02d3P2zb5nxnaoA/CD5h5MAGhz8NmeH1TyaQP+zrCsc9p5Y/LbKd76fGnz/bLW5ISEmmPww9YvTcQq8/JV2OstnstT8Er5Y7M8G+P0c+r3jqkcU/5h99k6ZBzj88bCIzFzjVP4enV8oyxN0//yH99nXg5D8qOpLLf0jtP5kqGJXUifQ/c9cS8kHP/D+/DpwzojQEQIEmwoanVwxA4lgXt9HgE0BSSZ2AJuIbQAMJih9jjiNA5q4l5INuK0AwTKYKRj0zQNv5fmq8/DpAaCJseHrtQkB/+zpwzoxKQM3MzMzMeFJAZmZmZmZqWEAAAAAAAFxeQM3MzMzMJmJAmpmZmZkfZUBmZmZmZhhoQDMzMzMzEWtAAAAAAAAKbkBmZmZmZoFwQM3MzMzM/XFAMzMzMzN6c0CamZmZmfZ0QAAAAAAAc3ZAZmZmZmbvd0DNzMzMzGt5QDMzMzMz6HpAmpmZmZlkfEAAAAAAAOF9QGZmZmZmXX9AZmZmZuZsgECamZmZGSuBQM3MzMxM6YFAAAAAAICngkAzMzMzs2WDQGZmZmbmI4RAmpmZmRnihEDNzMzMTKCFQAAAAACAXoZAMzMzM7Mch0BmZmZm5tqHQJqZmZkZmYhAzczMzExXiUAAAAAAgBWKQDMzMzOz04pAZmZmZuaRi0CamZmZGVCMQM3MzMxMDo1AAAAAAIDMjUAzMzMzs4qOQGZmZmbmSI9A\",\"dtype\":\"float64\",\"shape\":[75]}}},\"id\":\"18ff661b-32ad-43f8-9386-f473686858d7\",\"type\":\"ColumnDataSource\"},{\"attributes\":{\"line_alpha\":0.1,\"line_color\":\"#1f77b4\",\"line_width\":3,\"x\":{\"field\":\"x\"},\"y\":{\"field\":\"y\"}},\"id\":\"74f11ed5-2668-4d9b-9336-55ba0c01d549\",\"type\":\"Line\"},{\"attributes\":{\"tools\":[{\"id\":\"dc147592-7153-4a6c-aa69-0bbee1d68df8\",\"type\":\"PanTool\"},{\"id\":\"7fa7249c-4b0f-49a5-9bb7-73ea79b905db\",\"type\":\"WheelZoomTool\"},{\"id\":\"9a2ada7d-151e-4d85-80c6-a02d2f8fe841\",\"type\":\"BoxZoomTool\"},{\"id\":\"954894c5-5fd4-4fb0-bb5d-d47e4e5c116d\",\"type\":\"SaveTool\"},{\"id\":\"99dea102-021c-4abf-8575-762ed26fbf3b\",\"type\":\"ResetTool\"},{\"id\":\"57658c55-38f1-4550-9f18-f23dfc62e8b3\",\"type\":\"HelpTool\"},{\"id\":\"a628f3b7-b211-43ed-909b-a4f354b49c57\",\"type\":\"PanTool\"},{\"id\":\"cc4937b0-0275-40e6-940c-bdcc2f220168\",\"type\":\"WheelZoomTool\"},{\"id\":\"1997e09f-6fb2-4b30-806d-911224e22d30\",\"type\":\"BoxZoomTool\"},{\"id\":\"3b51ddbc-f588-4c9a-8f05-6916a8af1b59\",\"type\":\"SaveTool\"},{\"id\":\"6862af3d-3cc1-4302-b109-21ba0ce56295\",\"type\":\"ResetTool\"},{\"id\":\"3a3a72ca-ba7b-40cd-a76e-4ffd91b4485c\",\"type\":\"HelpTool\"}]},\"id\":\"4f53dbc7-7286-4b5e-a487-9dda6c737f94\",\"type\":\"ProxyToolbar\"},{\"attributes\":{\"below\":[{\"id\":\"5e57c3ff-d66c-4c02-b70f-10a443a35b87\",\"type\":\"LinearAxis\"}],\"left\":[{\"id\":\"be5f8e26-02f2-4a92-9231-8ed8f817998f\",\"type\":\"LogAxis\"}],\"plot_height\":500,\"plot_width\":560,\"renderers\":[{\"id\":\"5e57c3ff-d66c-4c02-b70f-10a443a35b87\",\"type\":\"LinearAxis\"},{\"id\":\"1160f065-2d87-4382-95ac-6e389c73f68b\",\"type\":\"Grid\"},{\"id\":\"be5f8e26-02f2-4a92-9231-8ed8f817998f\",\"type\":\"LogAxis\"},{\"id\":\"0adca501-2c7a-4253-a145-66ede5d58b25\",\"type\":\"Grid\"},{\"id\":\"fe0124e6-d2d8-432f-9ff6-6b6349649ffe\",\"type\":\"BoxAnnotation\"},{\"id\":\"bb019e89-9162-4c8b-83b5-e537771e2a36\",\"type\":\"GlyphRenderer\"},{\"id\":\"f2cd1471-819a-4d34-92d5-a8dfcfc0738e\",\"type\":\"GlyphRenderer\"},{\"id\":\"091979ba-a577-46d5-93be-824ce0e04aa2\",\"type\":\"GlyphRenderer\"},{\"id\":\"311a4c19-0a89-419e-84be-60f5c66eb93f\",\"type\":\"GlyphRenderer\"},{\"id\":\"aa3c0e38-f6e9-4202-a84a-dd3896676be6\",\"type\":\"GlyphRenderer\"},{\"id\":\"c00dbea5-cdc1-41fb-b735-f9dc3d28d42e\",\"type\":\"Legend\"}],\"right\":[{\"id\":\"c00dbea5-cdc1-41fb-b735-f9dc3d28d42e\",\"type\":\"Legend\"}],\"title\":{\"id\":\"5d2d5abf-8e87-4a1f-8750-769e6ab7c2ce\",\"type\":\"Title\"},\"toolbar\":{\"id\":\"fcc9148b-e75d-4757-ade3-6c0c86e2b2b2\",\"type\":\"Toolbar\"},\"toolbar_location\":null,\"x_range\":{\"id\":\"3c670b45-a27f-4968-ae7d-d32cfcfc9cd7\",\"type\":\"Range1d\"},\"x_scale\":{\"id\":\"1023549a-f115-47e1-814e-de967a400e4f\",\"type\":\"LinearScale\"},\"y_range\":{\"id\":\"11eef386-ea26-4413-b360-2085dc4f23e7\",\"type\":\"Range1d\"},\"y_scale\":{\"id\":\"951289af-b215-4150-a122-b14d9807eeb3\",\"type\":\"LogScale\"}},\"id\":\"dc376318-1073-459e-9fc4-d6a0e74cddba\",\"subtype\":\"Figure\",\"type\":\"Plot\"},{\"attributes\":{},\"id\":\"ab230b91-3421-4990-984e-ef303b982449\",\"type\":\"LinearScale\"},{\"attributes\":{\"callback\":null,\"end\":0.008651072536,\"start\":-0.0023143187359999998},\"id\":\"3c670b45-a27f-4968-ae7d-d32cfcfc9cd7\",\"type\":\"Range1d\"},{\"attributes\":{\"source\":{\"id\":\"638734cd-c88b-4757-bfc7-120863cbfe39\",\"type\":\"ColumnDataSource\"}},\"id\":\"994bd12b-cc22-470c-b6a9-036d6fb39750\",\"type\":\"CDSView\"},{\"attributes\":{\"line_alpha\":0.6,\"line_color\":\"#984ea3\",\"line_width\":3,\"x\":{\"field\":\"x\"},\"y\":{\"field\":\"y\"}},\"id\":\"1c26e566-3a2f-4e67-9b5d-557656589962\",\"type\":\"Line\"},{\"attributes\":{\"data_source\":{\"id\":\"83b78f81-1b25-4b8c-8a05-d2975fe3603b\",\"type\":\"ColumnDataSource\"},\"glyph\":{\"id\":\"1c26e566-3a2f-4e67-9b5d-557656589962\",\"type\":\"Line\"},\"hover_glyph\":null,\"muted_glyph\":null,\"nonselection_glyph\":{\"id\":\"74f11ed5-2668-4d9b-9336-55ba0c01d549\",\"type\":\"Line\"},\"selection_glyph\":null,\"view\":{\"id\":\"77be4b14-3b01-477c-a30d-0a76f48833c6\",\"type\":\"CDSView\"}},\"id\":\"aa3c0e38-f6e9-4202-a84a-dd3896676be6\",\"type\":\"GlyphRenderer\"},{\"attributes\":{\"callback\":null,\"column_names\":[\"x\",\"y\"],\"data\":{\"x\":{\"__ndarray__\":\"AAAAAAAAAAAAAAAAAAAAAAAAAAAAAAAAAAAAAAAAAADXN75jacGnPwAAAAAAAAAAAAAAAAAAAADLAWebrjaRv0kAzO8Ti4i/HtNCYUp/gT8AAAAAAAAAAAAAAAAAAAAAAAAAAAAAAABRx1y6BhRiv9wNByqoxlk/AAAAAAAAAAC8CEvhWzNKP/5ti4WsrWI/ORFA09KhWj9OLQR9jn1sPzqXTf2WmXI/xrUNI8WHdz+W0xt/9B6AP+PNO4F5F4A/NEgxX2aoej8RurCf0Vd1P6lm6n9GU3A/iia9YFHAZz8Ls6LfnUliPyi35531rls/LhHjhdHEVD8z3+D9LfVMPz1WeaFUHEU/u4UJ/hJMQD9Txrua0AM5Pwe+aNw/djI/NtpDB7bSLT8OxX57fe8sP51J/P8lzio/ARrHH2FKLT8MNyf84a8/P7SHhznLaGA/jF2D/+ujeT+m5NSCom+OP9or1QADE5w/+NyDvJChoj8hprkfNN6mP7Iskz/qP6w/8S3A/9UxsT/jwqKeFYO0P6QN8kCFn7c/rOcgv+kjuj8oWRSXX928PwyV2uYhLsA/SPBtl4lkwj8DVP7WytvEP22tq9k1Z8c/1GdBB+H6yj+eWG0fbl7OP/CqpKGIvdA/yxrtn0RX0j9f9uPdLgfUP9vzBNvr0dU/t/HE/1+t1z/a+7c/1XDZPwMUl6H59do/uj+LYyws3D+2jKv8+OzcP7c6a32yHt0/h3GSQUnc3D9qatlaX2TcPxz7BuQa+Ns/vLVlI4TF2z/ozOrbUfXbP3i3skRnWd0/\",\"dtype\":\"float64\",\"shape\":[75]},\"y\":{\"__ndarray__\":\"S/O/Q+51ND/430zAtpRIP2vylNV0PVE/QxsjCssuWD/TR4Z78fVgP+inNsRxymc/OuuBfZWvcD/u3TFA02d3P2d3VoBnaoA/CD5h5MAGhz/1pA8HUCaQP+zrCsc9p5Y/Fb7LAKjGnz/nJ9c/SEmmPwBD+fzcQq8/FOZwv9nstT8Er5Y7M8G+P0c+r3jqkcU/yK72qKZBzj+tM989FzjVPxbgmr8yxN0/cOm5AXbg5D+5ctXAf0jtP5kqGJXUifQ/DsrqDELP/D8MCAhBojQEQDItVnmnVwxAiFXNvdHgE0BSSZ2AJuIbQAMJih9jjiNA5q4l5INuK0CPVN/5RT0zQHzxRXu8/DpAOZ7PgHrtQkAg8wGBzoxKQBSTN8DMeFJA2NmQf2ZqWEAAAAAAAFxeQEQX1LfMJmJAmpmZmZkfZUBmZmZmZhhoQLzoK0gzEWtAAAAAAAAKbkCiC+pbZoFwQAhyUMLM/XFA+I2vPTN6c0AQ5KCEmfZ0QAAAAAAAc3ZA8Btfe2bvd0AIclDCzGt5QPeNrz0z6HpAEOSghJlkfEAAAAAAAOF9QKML6ltmXX9ABTkoYeZsgED7xteeGSuBQAhyUMJM6YFAAAAAAICngkD4ja89s2WDQAU5KGHmI4RA+8bXnhnihEAIclDCTKCFQAAAAACAXoZA+I2vPbMch0AFOShh5tqHQPvG154ZmYhACHJQwkxXiUAAAAAAgBWKQPeNrz2z04pABTkoYeaRi0D7xteeGVCMQAlyUMJMDo1AAAAAAIDMjUD3ja89s4qOQGZmZmbmSI9A\",\"dtype\":\"float64\",\"shape\":[75]}}},\"id\":\"87fa9842-686a-466f-8aa5-bfc19eda9604\",\"type\":\"ColumnDataSource\"},{\"attributes\":{\"children\":[{\"id\":\"274feb47-9c9a-403b-b450-4942332bb83d\",\"type\":\"ToolbarBox\"},{\"id\":\"62103632-49d2-4409-a959-b04421eba15e\",\"type\":\"Column\"}]},\"id\":\"49f52051-53ed-45c8-9567-341b67774a83\",\"type\":\"Column\"},{\"attributes\":{},\"id\":\"1023549a-f115-47e1-814e-de967a400e4f\",\"type\":\"LinearScale\"},{\"attributes\":{\"overlay\":{\"id\":\"fe0124e6-d2d8-432f-9ff6-6b6349649ffe\",\"type\":\"BoxAnnotation\"}},\"id\":\"1997e09f-6fb2-4b30-806d-911224e22d30\",\"type\":\"BoxZoomTool\"},{\"attributes\":{\"source\":{\"id\":\"83b78f81-1b25-4b8c-8a05-d2975fe3603b\",\"type\":\"ColumnDataSource\"}},\"id\":\"77be4b14-3b01-477c-a30d-0a76f48833c6\",\"type\":\"CDSView\"},{\"attributes\":{\"items\":[{\"id\":\"1f83d17a-eec0-49bf-a081-d134a90c6a54\",\"type\":\"LegendItem\"},{\"id\":\"0957f94d-e96a-4190-a6f7-e7d432343181\",\"type\":\"LegendItem\"},{\"id\":\"32ae5094-9ced-4a00-88ef-f1f310085bfb\",\"type\":\"LegendItem\"}],\"label_text_font_size\":{\"value\":\"8pt\"},\"location\":[10,-30],\"plot\":{\"id\":\"dc376318-1073-459e-9fc4-d6a0e74cddba\",\"subtype\":\"Figure\",\"type\":\"Plot\"}},\"id\":\"c00dbea5-cdc1-41fb-b735-f9dc3d28d42e\",\"type\":\"Legend\"},{\"attributes\":{\"fill_alpha\":{\"value\":0.1},\"fill_color\":{\"value\":\"#1f77b4\"},\"line_alpha\":{\"value\":0.1},\"line_color\":{\"value\":\"#1f77b4\"},\"x\":{\"field\":\"x\"},\"y\":{\"field\":\"y\"}},\"id\":\"9f5114c0-67c2-4ada-ba18-0f43a4c84513\",\"type\":\"Square\"},{\"attributes\":{\"label\":{\"value\":\"WGT igg=10 wgt_flux=2\"},\"renderers\":[{\"id\":\"311a4c19-0a89-419e-84be-60f5c66eb93f\",\"type\":\"GlyphRenderer\"},{\"id\":\"aa3c0e38-f6e9-4202-a84a-dd3896676be6\",\"type\":\"GlyphRenderer\"}]},\"id\":\"32ae5094-9ced-4a00-88ef-f1f310085bfb\",\"type\":\"LegendItem\"},{\"attributes\":{},\"id\":\"dc147592-7153-4a6c-aa69-0bbee1d68df8\",\"type\":\"PanTool\"},{\"attributes\":{},\"id\":\"7fa7249c-4b0f-49a5-9bb7-73ea79b905db\",\"type\":\"WheelZoomTool\"},{\"attributes\":{\"num_minor_ticks\":10},\"id\":\"785aa588-af9a-4aad-a167-f3f0e78632b9\",\"type\":\"LogTicker\"},{\"attributes\":{\"active_drag\":\"auto\",\"active_inspect\":\"auto\",\"active_scroll\":\"auto\",\"active_tap\":\"auto\",\"tools\":[{\"id\":\"a628f3b7-b211-43ed-909b-a4f354b49c57\",\"type\":\"PanTool\"},{\"id\":\"cc4937b0-0275-40e6-940c-bdcc2f220168\",\"type\":\"WheelZoomTool\"},{\"id\":\"1997e09f-6fb2-4b30-806d-911224e22d30\",\"type\":\"BoxZoomTool\"},{\"id\":\"3b51ddbc-f588-4c9a-8f05-6916a8af1b59\",\"type\":\"SaveTool\"},{\"id\":\"6862af3d-3cc1-4302-b109-21ba0ce56295\",\"type\":\"ResetTool\"},{\"id\":\"3a3a72ca-ba7b-40cd-a76e-4ffd91b4485c\",\"type\":\"HelpTool\"}]},\"id\":\"fcc9148b-e75d-4757-ade3-6c0c86e2b2b2\",\"type\":\"Toolbar\"},{\"attributes\":{\"label\":{\"value\":\"CLIRAD `coolr_bands`\"},\"renderers\":[{\"id\":\"bb019e89-9162-4c8b-83b5-e537771e2a36\",\"type\":\"GlyphRenderer\"}]},\"id\":\"1f83d17a-eec0-49bf-a081-d134a90c6a54\",\"type\":\"LegendItem\"},{\"attributes\":{\"overlay\":{\"id\":\"5125912e-12ca-4c7f-b3b1-3ad27b1e0c43\",\"type\":\"BoxAnnotation\"}},\"id\":\"9a2ada7d-151e-4d85-80c6-a02d2f8fe841\",\"type\":\"BoxZoomTool\"},{\"attributes\":{\"callback\":null,\"end\":0.01,\"start\":1020},\"id\":\"11eef386-ea26-4413-b360-2085dc4f23e7\",\"type\":\"Range1d\"},{\"attributes\":{},\"id\":\"99dea102-021c-4abf-8575-762ed26fbf3b\",\"type\":\"ResetTool\"},{\"attributes\":{\"plot\":null,\"text\":\"Linear pressure scale\"},\"id\":\"a9b3371c-7945-4f03-96d0-fd899f59d483\",\"type\":\"Title\"},{\"attributes\":{},\"id\":\"6862af3d-3cc1-4302-b109-21ba0ce56295\",\"type\":\"ResetTool\"},{\"attributes\":{\"line_color\":\"#4daf4a\",\"line_width\":1.5,\"x\":{\"field\":\"x\"},\"y\":{\"field\":\"y\"}},\"id\":\"22484743-b600-4a0d-b5ee-499ea2f768c8\",\"type\":\"Line\"},{\"attributes\":{},\"id\":\"57658c55-38f1-4550-9f18-f23dfc62e8b3\",\"type\":\"HelpTool\"},{\"attributes\":{\"callback\":null,\"column_names\":[\"x\",\"y\"],\"data\":{\"x\":{\"__ndarray__\":\"++ljvB51ID8l9Xr621AhPwO9TOdhGiM/BI9ALC/7JD+6bPK+ku0mP5Otxgba8Sg/ylcvTWUIKz8LiyYK+DEtPwpVUxDPbi8/5r/pbsHfMD/d7vvkThIyP4es4UdkTzM/c0/hhXmYND99qKyzNUw2P1nJsPBo2Tw/NwmFLiJ1Rj91FkLR7oVRPzCN7ZnoDlo/FJkRrYa3Yj/sXwKAZzRqP2Z3ICZZ+XE/mBhtapOTdz9yBL8NcL95P1EvYBwtq3c/MLasCJ5AdD+/Pw28UjdwP4rFnldkQWk/Zcl0iA1vYz8TOXqzOm9dP41b9TOm4lU/TdF9VM+mTz8mN6/D2ONFP6nJbTv9fTw/Obd0H010Lz+B9alyZYsOP8FgHNsvZhW/f5IEUSTjI7/KnR7vbE4gvx5vu95cW/2+4sgYdqdSIT+fH0nGv75APz1DYT5YaGA/CKyDOM0Mdz+jwD8JwYiJP4EmpOr+eZc/f2AJ40CUoj8IzvZwscaqP8VizVYXf7E/jmQOKFJdtT+r2BO872u5P4UvPTK+db4/HytKT+bqwD8txqqXI4vDPy9+6wWdh8Y/unc0BZsDyj9Fa05QUYjNP2tR1GGlC9E/Nnp+/cFy0j9O0x9vKO3TP/bnqy9bv9U/hjqFD8qa1z9IZcw/TXrZP9SjQbtXNts/aRj/XrZJ3j/9BnAM7gngP49R81H8feE/xJWgWdhY4D/ykKNKAWLfP9CG4vI6ad4/qzR7w1AN3j/0DMxTVFHeP6lmRcGuHt8/LCfcSVlu4D8VUCML8IriP+T95qOfaO0/\",\"dtype\":\"float64\",\"shape\":[75]},\"y\":{\"__ndarray__\":\"GhExyth1ND/Sv8nbtpRIP2vylNV0PVE/aTum7souWD/At0SJ8fVgPw3Iuahxymc/MSNhhJWvcD/bTfBN02d3P2zb5nxnaoA/CD5h5MAGhz8NmeH1TyaQP+zrCsc9p5Y/LbKd76fGnz/bLW5ISEmmPww9YvTcQq8/JV2OstnstT8Er5Y7M8G+P0c+r3jqkcU/5h99k6ZBzj88bCIzFzjVP4enV8oyxN0//yH99nXg5D8qOpLLf0jtP5kqGJXUifQ/c9cS8kHP/D+/DpwzojQEQIEmwoanVwxA4lgXt9HgE0BSSZ2AJuIbQAMJih9jjiNA5q4l5INuK0AwTKYKRj0zQNv5fmq8/DpAaCJseHrtQkB/+zpwzoxKQM3MzMzMeFJAZmZmZmZqWEAAAAAAAFxeQM3MzMzMJmJAmpmZmZkfZUBmZmZmZhhoQDMzMzMzEWtAAAAAAAAKbkBmZmZmZoFwQM3MzMzM/XFAMzMzMzN6c0CamZmZmfZ0QAAAAAAAc3ZAZmZmZmbvd0DNzMzMzGt5QDMzMzMz6HpAmpmZmZlkfEAAAAAAAOF9QGZmZmZmXX9AZmZmZuZsgECamZmZGSuBQM3MzMxM6YFAAAAAAICngkAzMzMzs2WDQGZmZmbmI4RAmpmZmRnihEDNzMzMTKCFQAAAAACAXoZAMzMzM7Mch0BmZmZm5tqHQJqZmZkZmYhAzczMzExXiUAAAAAAgBWKQDMzMzOz04pAZmZmZuaRi0CamZmZGVCMQM3MzMxMDo1AAAAAAIDMjUAzMzMzs4qOQGZmZmbmSI9A\",\"dtype\":\"float64\",\"shape\":[75]}}},\"id\":\"92100b48-d67d-4800-a9fd-269cb35fdb2e\",\"type\":\"ColumnDataSource\"},{\"attributes\":{\"bottom_units\":\"screen\",\"fill_alpha\":{\"value\":0.5},\"fill_color\":{\"value\":\"lightgrey\"},\"left_units\":\"screen\",\"level\":\"overlay\",\"line_alpha\":{\"value\":1.0},\"line_color\":{\"value\":\"black\"},\"line_dash\":[4,4],\"line_width\":{\"value\":2},\"plot\":null,\"render_mode\":\"css\",\"right_units\":\"screen\",\"top_units\":\"screen\"},\"id\":\"5125912e-12ca-4c7f-b3b1-3ad27b1e0c43\",\"type\":\"BoxAnnotation\"},{\"attributes\":{\"bottom_units\":\"screen\",\"fill_alpha\":{\"value\":0.5},\"fill_color\":{\"value\":\"lightgrey\"},\"left_units\":\"screen\",\"level\":\"overlay\",\"line_alpha\":{\"value\":1.0},\"line_color\":{\"value\":\"black\"},\"line_dash\":[4,4],\"line_width\":{\"value\":2},\"plot\":null,\"render_mode\":\"css\",\"right_units\":\"screen\",\"top_units\":\"screen\"},\"id\":\"fe0124e6-d2d8-432f-9ff6-6b6349649ffe\",\"type\":\"BoxAnnotation\"},{\"attributes\":{\"active_drag\":\"auto\",\"active_inspect\":\"auto\",\"active_scroll\":\"auto\",\"active_tap\":\"auto\",\"tools\":[{\"id\":\"dc147592-7153-4a6c-aa69-0bbee1d68df8\",\"type\":\"PanTool\"},{\"id\":\"7fa7249c-4b0f-49a5-9bb7-73ea79b905db\",\"type\":\"WheelZoomTool\"},{\"id\":\"9a2ada7d-151e-4d85-80c6-a02d2f8fe841\",\"type\":\"BoxZoomTool\"},{\"id\":\"954894c5-5fd4-4fb0-bb5d-d47e4e5c116d\",\"type\":\"SaveTool\"},{\"id\":\"99dea102-021c-4abf-8575-762ed26fbf3b\",\"type\":\"ResetTool\"},{\"id\":\"57658c55-38f1-4550-9f18-f23dfc62e8b3\",\"type\":\"HelpTool\"}]},\"id\":\"63aa148a-5b32-495c-a516-77511489a52d\",\"type\":\"Toolbar\"},{\"attributes\":{\"axis_label\":\"cooling rate [K/day]\",\"formatter\":{\"id\":\"e11db145-443d-45e2-8601-4977817eb93c\",\"type\":\"BasicTickFormatter\"},\"plot\":{\"id\":\"b8d7549b-840a-4616-a0bf-06844acb7840\",\"subtype\":\"Figure\",\"type\":\"Plot\"},\"ticker\":{\"id\":\"c7dcefeb-f158-4446-8e36-b70f6cca7cba\",\"type\":\"BasicTicker\"}},\"id\":\"a1a76483-d437-4cae-8818-c5c8e7be4371\",\"type\":\"LinearAxis\"},{\"attributes\":{\"source\":{\"id\":\"091f2db6-52dd-4c47-ac47-6e0eff806856\",\"type\":\"ColumnDataSource\"}},\"id\":\"84dc8a63-acd7-44f3-9376-b8c480cc231c\",\"type\":\"CDSView\"},{\"attributes\":{},\"id\":\"2e4ee405-a008-4fd8-aa21-c79cbf95b99f\",\"type\":\"BasicTicker\"},{\"attributes\":{\"source\":{\"id\":\"92100b48-d67d-4800-a9fd-269cb35fdb2e\",\"type\":\"ColumnDataSource\"}},\"id\":\"cc270c31-4c43-43f3-84ab-241806ad4923\",\"type\":\"CDSView\"},{\"attributes\":{},\"id\":\"c7dcefeb-f158-4446-8e36-b70f6cca7cba\",\"type\":\"BasicTicker\"},{\"attributes\":{\"line_alpha\":0.1,\"line_color\":\"#1f77b4\",\"line_width\":3,\"x\":{\"field\":\"x\"},\"y\":{\"field\":\"y\"}},\"id\":\"d53414b0-8e02-498a-bfdb-fe9f557ea329\",\"type\":\"Line\"},{\"attributes\":{},\"id\":\"954894c5-5fd4-4fb0-bb5d-d47e4e5c116d\",\"type\":\"SaveTool\"},{\"attributes\":{\"axis_label\":\"pressure [mb]\",\"formatter\":{\"id\":\"7a9a1d4c-02ca-4f71-ba1f-9527384d9607\",\"type\":\"BasicTickFormatter\"},\"plot\":{\"id\":\"b8d7549b-840a-4616-a0bf-06844acb7840\",\"subtype\":\"Figure\",\"type\":\"Plot\"},\"ticker\":{\"id\":\"abc1b271-3446-4c79-aeb6-39a63a113adb\",\"type\":\"BasicTicker\"}},\"id\":\"e215dc0b-b33d-470b-9c12-0975b7763428\",\"type\":\"LinearAxis\"},{\"attributes\":{\"axis_label\":\"pressure [mb]\",\"formatter\":{\"id\":\"ea6a9dfb-ee38-425b-9afc-db34c0d332fd\",\"type\":\"LogTickFormatter\"},\"plot\":{\"id\":\"dc376318-1073-459e-9fc4-d6a0e74cddba\",\"subtype\":\"Figure\",\"type\":\"Plot\"},\"ticker\":{\"id\":\"785aa588-af9a-4aad-a167-f3f0e78632b9\",\"type\":\"LogTicker\"}},\"id\":\"be5f8e26-02f2-4a92-9231-8ed8f817998f\",\"type\":\"LogAxis\"},{\"attributes\":{\"below\":[{\"id\":\"a1a76483-d437-4cae-8818-c5c8e7be4371\",\"type\":\"LinearAxis\"}],\"left\":[{\"id\":\"e215dc0b-b33d-470b-9c12-0975b7763428\",\"type\":\"LinearAxis\"}],\"plot_height\":500,\"plot_width\":400,\"renderers\":[{\"id\":\"a1a76483-d437-4cae-8818-c5c8e7be4371\",\"type\":\"LinearAxis\"},{\"id\":\"0da5e2b9-2fae-491f-9ae4-e2e4be4dc4e8\",\"type\":\"Grid\"},{\"id\":\"e215dc0b-b33d-470b-9c12-0975b7763428\",\"type\":\"LinearAxis\"},{\"id\":\"a12ec4c2-9bcd-4021-8e8a-8ad5fd0c33c1\",\"type\":\"Grid\"},{\"id\":\"5125912e-12ca-4c7f-b3b1-3ad27b1e0c43\",\"type\":\"BoxAnnotation\"},{\"id\":\"1a7fddaf-4f8f-4168-968a-1b7d43782646\",\"type\":\"GlyphRenderer\"},{\"id\":\"58899b69-9bb8-412a-9c7b-92f8292a24f5\",\"type\":\"GlyphRenderer\"},{\"id\":\"313c673c-6450-4868-b50e-1192214f2124\",\"type\":\"GlyphRenderer\"},{\"id\":\"df8b7152-9478-4509-9a8d-b85225eadd05\",\"type\":\"GlyphRenderer\"},{\"id\":\"e4c4d716-50cc-4e1c-9f96-8e9293fb92f0\",\"type\":\"GlyphRenderer\"}],\"title\":{\"id\":\"a9b3371c-7945-4f03-96d0-fd899f59d483\",\"type\":\"Title\"},\"toolbar\":{\"id\":\"63aa148a-5b32-495c-a516-77511489a52d\",\"type\":\"Toolbar\"},\"toolbar_location\":null,\"x_range\":{\"id\":\"47d50798-b840-41ca-93c5-8448941f11e1\",\"type\":\"Range1d\"},\"x_scale\":{\"id\":\"83e9ca8e-56a0-458e-a47e-f27d2aad101f\",\"type\":\"LinearScale\"},\"y_range\":{\"id\":\"ff0a616c-16ab-4e2c-bbda-af2ef016c4a2\",\"type\":\"Range1d\"},\"y_scale\":{\"id\":\"ab230b91-3421-4990-984e-ef303b982449\",\"type\":\"LinearScale\"}},\"id\":\"b8d7549b-840a-4616-a0bf-06844acb7840\",\"subtype\":\"Figure\",\"type\":\"Plot\"},{\"attributes\":{},\"id\":\"83e9ca8e-56a0-458e-a47e-f27d2aad101f\",\"type\":\"LinearScale\"},{\"attributes\":{\"callback\":null,\"end\":0.01,\"start\":1020},\"id\":\"ff0a616c-16ab-4e2c-bbda-af2ef016c4a2\",\"type\":\"Range1d\"},{\"attributes\":{\"callback\":null,\"end\":0.9282131665275106,\"start\":-0.0093434594785807},\"id\":\"47d50798-b840-41ca-93c5-8448941f11e1\",\"type\":\"Range1d\"},{\"attributes\":{\"source\":{\"id\":\"5d89e954-0f50-4a46-8050-d48c7dbf3ec9\",\"type\":\"ColumnDataSource\"}},\"id\":\"553c01a8-1bb7-41a8-9d90-c2a311d49469\",\"type\":\"CDSView\"},{\"attributes\":{\"fill_alpha\":{\"value\":0.7},\"fill_color\":{\"value\":\"#4daf4a\"},\"line_alpha\":{\"value\":0.7},\"line_color\":{\"value\":\"#4daf4a\"},\"x\":{\"field\":\"x\"},\"y\":{\"field\":\"y\"}},\"id\":\"79e7be00-d745-40ec-a2ea-aac35e3e9778\",\"type\":\"Circle\"},{\"attributes\":{\"callback\":null,\"column_names\":[\"x\",\"y\"],\"data\":{\"x\":{\"__ndarray__\":\"++ljvB51ID8l9Xr621AhPwO9TOdhGiM/BI9ALC/7JD+6bPK+ku0mP5Otxgba8Sg/ylcvTWUIKz8LiyYK+DEtPwpVUxDPbi8/5r/pbsHfMD/d7vvkThIyP4es4UdkTzM/c0/hhXmYND99qKyzNUw2P1nJsPBo2Tw/NwmFLiJ1Rj91FkLR7oVRPzCN7ZnoDlo/FJkRrYa3Yj/sXwKAZzRqP2Z3ICZZ+XE/mBhtapOTdz9yBL8NcL95P1EvYBwtq3c/MLasCJ5AdD+/Pw28UjdwP4rFnldkQWk/Zcl0iA1vYz8TOXqzOm9dP41b9TOm4lU/TdF9VM+mTz8mN6/D2ONFP6nJbTv9fTw/Obd0H010Lz+B9alyZYsOP8FgHNsvZhW/f5IEUSTjI7/KnR7vbE4gvx5vu95cW/2+4sgYdqdSIT+fH0nGv75APz1DYT5YaGA/CKyDOM0Mdz+jwD8JwYiJP4EmpOr+eZc/f2AJ40CUoj8IzvZwscaqP8VizVYXf7E/jmQOKFJdtT+r2BO872u5P4UvPTK+db4/HytKT+bqwD8txqqXI4vDPy9+6wWdh8Y/unc0BZsDyj9Fa05QUYjNP2tR1GGlC9E/Nnp+/cFy0j9O0x9vKO3TP/bnqy9bv9U/hjqFD8qa1z9IZcw/TXrZP9SjQbtXNts/aRj/XrZJ3j/9BnAM7gngP49R81H8feE/xJWgWdhY4D/ykKNKAWLfP9CG4vI6ad4/qzR7w1AN3j/0DMxTVFHeP6lmRcGuHt8/LCfcSVlu4D8VUCML8IriP+T95qOfaO0/\",\"dtype\":\"float64\",\"shape\":[75]},\"y\":{\"__ndarray__\":\"GhExyth1ND/Sv8nbtpRIP2vylNV0PVE/aTum7souWD/At0SJ8fVgPw3Iuahxymc/MSNhhJWvcD/bTfBN02d3P2zb5nxnaoA/CD5h5MAGhz8NmeH1TyaQP+zrCsc9p5Y/LbKd76fGnz/bLW5ISEmmPww9YvTcQq8/JV2OstnstT8Er5Y7M8G+P0c+r3jqkcU/5h99k6ZBzj88bCIzFzjVP4enV8oyxN0//yH99nXg5D8qOpLLf0jtP5kqGJXUifQ/c9cS8kHP/D+/DpwzojQEQIEmwoanVwxA4lgXt9HgE0BSSZ2AJuIbQAMJih9jjiNA5q4l5INuK0AwTKYKRj0zQNv5fmq8/DpAaCJseHrtQkB/+zpwzoxKQM3MzMzMeFJAZmZmZmZqWEAAAAAAAFxeQM3MzMzMJmJAmpmZmZkfZUBmZmZmZhhoQDMzMzMzEWtAAAAAAAAKbkBmZmZmZoFwQM3MzMzM/XFAMzMzMzN6c0CamZmZmfZ0QAAAAAAAc3ZAZmZmZmbvd0DNzMzMzGt5QDMzMzMz6HpAmpmZmZlkfEAAAAAAAOF9QGZmZmZmXX9AZmZmZuZsgECamZmZGSuBQM3MzMxM6YFAAAAAAICngkAzMzMzs2WDQGZmZmbmI4RAmpmZmRnihEDNzMzMTKCFQAAAAACAXoZAMzMzM7Mch0BmZmZm5tqHQJqZmZkZmYhAzczMzExXiUAAAAAAgBWKQDMzMzOz04pAZmZmZuaRi0CamZmZGVCMQM3MzMxMDo1AAAAAAIDMjUAzMzMzs4qOQGZmZmbmSI9A\",\"dtype\":\"float64\",\"shape\":[75]}}},\"id\":\"091f2db6-52dd-4c47-ac47-6e0eff806856\",\"type\":\"ColumnDataSource\"},{\"attributes\":{\"children\":[{\"id\":\"7181f6e0-23cc-4899-a2b3-710904d7de51\",\"type\":\"Row\"}]},\"id\":\"62103632-49d2-4409-a959-b04421eba15e\",\"type\":\"Column\"},{\"attributes\":{\"data_source\":{\"id\":\"091f2db6-52dd-4c47-ac47-6e0eff806856\",\"type\":\"ColumnDataSource\"},\"glyph\":{\"id\":\"5e6cad2b-5e44-492a-a06d-47d44e498327\",\"type\":\"Square\"},\"hover_glyph\":null,\"muted_glyph\":null,\"nonselection_glyph\":{\"id\":\"9f5114c0-67c2-4ada-ba18-0f43a4c84513\",\"type\":\"Square\"},\"selection_glyph\":null,\"view\":{\"id\":\"84dc8a63-acd7-44f3-9376-b8c480cc231c\",\"type\":\"CDSView\"}},\"id\":\"df8b7152-9478-4509-9a8d-b85225eadd05\",\"type\":\"GlyphRenderer\"},{\"attributes\":{\"data_source\":{\"id\":\"5d89e954-0f50-4a46-8050-d48c7dbf3ec9\",\"type\":\"ColumnDataSource\"},\"glyph\":{\"id\":\"22484743-b600-4a0d-b5ee-499ea2f768c8\",\"type\":\"Line\"},\"hover_glyph\":null,\"muted_glyph\":null,\"nonselection_glyph\":{\"id\":\"664f6fbc-f252-4d3c-ac9f-8ba51a732d3a\",\"type\":\"Line\"},\"selection_glyph\":null,\"view\":{\"id\":\"553c01a8-1bb7-41a8-9d90-c2a311d49469\",\"type\":\"CDSView\"}},\"id\":\"313c673c-6450-4868-b50e-1192214f2124\",\"type\":\"GlyphRenderer\"}],\"root_ids\":[\"49f52051-53ed-45c8-9567-341b67774a83\"]},\"title\":\"Bokeh Application\",\"version\":\"0.12.14\"}};\n",
       "  var render_items = [{\"docid\":\"2b30ddd4-e896-4860-ad70-871fb51cf46b\",\"elementid\":\"eab7198a-9c0f-4f48-8945-0b0689d40432\",\"modelid\":\"49f52051-53ed-45c8-9567-341b67774a83\"}];\n",
       "  root.Bokeh.embed.embed_items_notebook(docs_json, render_items);\n",
       "\n",
       "  }\n",
       "  if (root.Bokeh !== undefined) {\n",
       "    embed_document(root);\n",
       "  } else {\n",
       "    var attempts = 0;\n",
       "    var timer = setInterval(function(root) {\n",
       "      if (root.Bokeh !== undefined) {\n",
       "        embed_document(root);\n",
       "        clearInterval(timer);\n",
       "      }\n",
       "      attempts++;\n",
       "      if (attempts > 100) {\n",
       "        console.log(\"Bokeh: ERROR: Unable to run BokehJS code because BokehJS library is missing\")\n",
       "        clearInterval(timer);\n",
       "      }\n",
       "    }, 10, root)\n",
       "  }\n",
       "})(window);"
      ],
      "application/vnd.bokehjs_exec.v0+json": ""
     },
     "metadata": {
      "application/vnd.bokehjs_exec.v0+json": {
       "id": "49f52051-53ed-45c8-9567-341b67774a83"
      }
     },
     "output_type": "display_data"
    },
    {
     "name": "stdout",
     "output_type": "stream",
     "text": [
      "FIGURE. Cooling rate profiles.\n"
     ]
    },
    {
     "data": {
      "text/html": [
       "<a id=\"Flux_Comparison\"></a>"
      ],
      "text/plain": [
       "<IPython.core.display.HTML object>"
      ]
     },
     "metadata": {},
     "output_type": "display_data"
    },
    {
     "data": {
      "text/markdown": [
       "# Flux Comparison"
      ],
      "text/plain": [
       "<IPython.core.display.Markdown object>"
      ]
     },
     "metadata": {},
     "output_type": "display_data"
    },
    {
     "data": {
      "text/html": [
       "<div>\n",
       "<style>\n",
       "    .dataframe thead tr:only-child th {\n",
       "        text-align: right;\n",
       "    }\n",
       "\n",
       "    .dataframe thead th {\n",
       "        text-align: left;\n",
       "    }\n",
       "\n",
       "    .dataframe tbody tr th {\n",
       "        vertical-align: top;\n",
       "    }\n",
       "</style>\n",
       "<table border=\"1\" class=\"dataframe\">\n",
       "  <thead>\n",
       "    <tr style=\"text-align: right;\">\n",
       "      <th></th>\n",
       "      <th></th>\n",
       "      <th>flug</th>\n",
       "      <th>fldg</th>\n",
       "      <th>fnetg</th>\n",
       "    </tr>\n",
       "    <tr>\n",
       "      <th>pressure</th>\n",
       "      <th>level</th>\n",
       "      <th></th>\n",
       "      <th></th>\n",
       "      <th></th>\n",
       "    </tr>\n",
       "  </thead>\n",
       "  <tbody>\n",
       "    <tr>\n",
       "      <th>0.0000</th>\n",
       "      <th>1</th>\n",
       "      <td>-39.108994</td>\n",
       "      <td>0.000000</td>\n",
       "      <td>-39.108994</td>\n",
       "    </tr>\n",
       "    <tr>\n",
       "      <th>1.0685</th>\n",
       "      <th>24</th>\n",
       "      <td>-39.108867</td>\n",
       "      <td>0.000416</td>\n",
       "      <td>-39.108451</td>\n",
       "    </tr>\n",
       "    <tr>\n",
       "      <th>1013.0000</th>\n",
       "      <th>76</th>\n",
       "      <td>-43.964838</td>\n",
       "      <td>33.682317</td>\n",
       "      <td>-10.282521</td>\n",
       "    </tr>\n",
       "  </tbody>\n",
       "</table>\n",
       "</div>"
      ],
      "text/plain": [
       "                      flug       fldg      fnetg\n",
       "pressure  level                                 \n",
       "0.0000    1     -39.108994   0.000000 -39.108994\n",
       "1.0685    24    -39.108867   0.000416 -39.108451\n",
       "1013.0000 76    -43.964838  33.682317 -10.282521"
      ]
     },
     "metadata": {},
     "output_type": "display_data"
    },
    {
     "name": "stdout",
     "output_type": "stream",
     "text": [
      "Table. Fluxes. WGT igg=10 wgt_flux=1\n"
     ]
    },
    {
     "data": {
      "text/html": [
       "<div>\n",
       "<style>\n",
       "    .dataframe thead tr:only-child th {\n",
       "        text-align: right;\n",
       "    }\n",
       "\n",
       "    .dataframe thead th {\n",
       "        text-align: left;\n",
       "    }\n",
       "\n",
       "    .dataframe tbody tr th {\n",
       "        vertical-align: top;\n",
       "    }\n",
       "</style>\n",
       "<table border=\"1\" class=\"dataframe\">\n",
       "  <thead>\n",
       "    <tr style=\"text-align: right;\">\n",
       "      <th></th>\n",
       "      <th></th>\n",
       "      <th>flug</th>\n",
       "      <th>fldg</th>\n",
       "      <th>fnetg</th>\n",
       "    </tr>\n",
       "    <tr>\n",
       "      <th>pressure</th>\n",
       "      <th>level</th>\n",
       "      <th></th>\n",
       "      <th></th>\n",
       "      <th></th>\n",
       "    </tr>\n",
       "  </thead>\n",
       "  <tbody>\n",
       "    <tr>\n",
       "      <th>0.0000</th>\n",
       "      <th>1</th>\n",
       "      <td>-39.152070</td>\n",
       "      <td>0.000000</td>\n",
       "      <td>-39.152070</td>\n",
       "    </tr>\n",
       "    <tr>\n",
       "      <th>1.0685</th>\n",
       "      <th>24</th>\n",
       "      <td>-39.151930</td>\n",
       "      <td>0.000494</td>\n",
       "      <td>-39.151437</td>\n",
       "    </tr>\n",
       "    <tr>\n",
       "      <th>1013.0000</th>\n",
       "      <th>76</th>\n",
       "      <td>-43.964837</td>\n",
       "      <td>33.491787</td>\n",
       "      <td>-10.473050</td>\n",
       "    </tr>\n",
       "  </tbody>\n",
       "</table>\n",
       "</div>"
      ],
      "text/plain": [
       "                      flug       fldg      fnetg\n",
       "pressure  level                                 \n",
       "0.0000    1     -39.152070   0.000000 -39.152070\n",
       "1.0685    24    -39.151930   0.000494 -39.151437\n",
       "1013.0000 76    -43.964837  33.491787 -10.473050"
      ]
     },
     "metadata": {},
     "output_type": "display_data"
    },
    {
     "name": "stdout",
     "output_type": "stream",
     "text": [
      "Table. Fluxes. CRD\n"
     ]
    },
    {
     "data": {
      "text/html": [
       "<div>\n",
       "<style>\n",
       "    .dataframe thead tr:only-child th {\n",
       "        text-align: right;\n",
       "    }\n",
       "\n",
       "    .dataframe thead th {\n",
       "        text-align: left;\n",
       "    }\n",
       "\n",
       "    .dataframe tbody tr th {\n",
       "        vertical-align: top;\n",
       "    }\n",
       "</style>\n",
       "<table border=\"1\" class=\"dataframe\">\n",
       "  <thead>\n",
       "    <tr style=\"text-align: right;\">\n",
       "      <th></th>\n",
       "      <th></th>\n",
       "      <th>flug</th>\n",
       "      <th>fldg</th>\n",
       "      <th>fnetg</th>\n",
       "    </tr>\n",
       "    <tr>\n",
       "      <th>pressure</th>\n",
       "      <th>level</th>\n",
       "      <th></th>\n",
       "      <th></th>\n",
       "      <th></th>\n",
       "    </tr>\n",
       "  </thead>\n",
       "  <tbody>\n",
       "    <tr>\n",
       "      <th>1.000000e-08</th>\n",
       "      <th>1</th>\n",
       "      <td>-38.773712</td>\n",
       "      <td>0.000181</td>\n",
       "      <td>-38.773529</td>\n",
       "    </tr>\n",
       "    <tr>\n",
       "      <th>1.068500e+00</th>\n",
       "      <th>24</th>\n",
       "      <td>-38.773567</td>\n",
       "      <td>0.000636</td>\n",
       "      <td>-38.772930</td>\n",
       "    </tr>\n",
       "    <tr>\n",
       "      <th>1.013000e+03</th>\n",
       "      <th>76</th>\n",
       "      <td>-43.964840</td>\n",
       "      <td>28.029730</td>\n",
       "      <td>-15.935110</td>\n",
       "    </tr>\n",
       "  </tbody>\n",
       "</table>\n",
       "</div>"
      ],
      "text/plain": [
       "                         flug       fldg      fnetg\n",
       "pressure     level                                 \n",
       "1.000000e-08 1     -38.773712   0.000181 -38.773529\n",
       "1.068500e+00 24    -38.773567   0.000636 -38.772930\n",
       "1.013000e+03 76    -43.964840  28.029730 -15.935110"
      ]
     },
     "metadata": {},
     "output_type": "display_data"
    },
    {
     "name": "stdout",
     "output_type": "stream",
     "text": [
      "Table. Fluxes. CLIRAD\n"
     ]
    },
    {
     "data": {
      "text/html": [
       "<div>\n",
       "<style>\n",
       "    .dataframe thead tr:only-child th {\n",
       "        text-align: right;\n",
       "    }\n",
       "\n",
       "    .dataframe thead th {\n",
       "        text-align: left;\n",
       "    }\n",
       "\n",
       "    .dataframe tbody tr th {\n",
       "        vertical-align: top;\n",
       "    }\n",
       "</style>\n",
       "<table border=\"1\" class=\"dataframe\">\n",
       "  <thead>\n",
       "    <tr style=\"text-align: right;\">\n",
       "      <th></th>\n",
       "      <th></th>\n",
       "      <th>flug</th>\n",
       "      <th>fldg</th>\n",
       "      <th>fnetg</th>\n",
       "    </tr>\n",
       "    <tr>\n",
       "      <th>pressure</th>\n",
       "      <th>level</th>\n",
       "      <th></th>\n",
       "      <th></th>\n",
       "      <th></th>\n",
       "    </tr>\n",
       "  </thead>\n",
       "  <tbody>\n",
       "    <tr>\n",
       "      <th>0.0000</th>\n",
       "      <th>1</th>\n",
       "      <td>-4.307561e-02</td>\n",
       "      <td>0.000000</td>\n",
       "      <td>-0.043076</td>\n",
       "    </tr>\n",
       "    <tr>\n",
       "      <th>1.0685</th>\n",
       "      <th>24</th>\n",
       "      <td>-4.306253e-02</td>\n",
       "      <td>0.000077</td>\n",
       "      <td>-0.042986</td>\n",
       "    </tr>\n",
       "    <tr>\n",
       "      <th>1013.0000</th>\n",
       "      <th>76</th>\n",
       "      <td>5.200000e-07</td>\n",
       "      <td>-0.190530</td>\n",
       "      <td>-0.190529</td>\n",
       "    </tr>\n",
       "  </tbody>\n",
       "</table>\n",
       "</div>"
      ],
      "text/plain": [
       "                         flug      fldg     fnetg\n",
       "pressure  level                                  \n",
       "0.0000    1     -4.307561e-02  0.000000 -0.043076\n",
       "1.0685    24    -4.306253e-02  0.000077 -0.042986\n",
       "1013.0000 76     5.200000e-07 -0.190530 -0.190529"
      ]
     },
     "metadata": {},
     "output_type": "display_data"
    },
    {
     "name": "stdout",
     "output_type": "stream",
     "text": [
      "Table. Fluxes. (CRD) - (WGT igg=10 wgt_flux=1)\n"
     ]
    },
    {
     "data": {
      "text/html": [
       "<div>\n",
       "<style>\n",
       "    .dataframe thead tr:only-child th {\n",
       "        text-align: right;\n",
       "    }\n",
       "\n",
       "    .dataframe thead th {\n",
       "        text-align: left;\n",
       "    }\n",
       "\n",
       "    .dataframe tbody tr th {\n",
       "        vertical-align: top;\n",
       "    }\n",
       "</style>\n",
       "<table border=\"1\" class=\"dataframe\">\n",
       "  <thead>\n",
       "    <tr style=\"text-align: right;\">\n",
       "      <th></th>\n",
       "      <th></th>\n",
       "      <th>flug</th>\n",
       "      <th>fldg</th>\n",
       "      <th>fnetg</th>\n",
       "    </tr>\n",
       "    <tr>\n",
       "      <th>pressure</th>\n",
       "      <th>level</th>\n",
       "      <th></th>\n",
       "      <th></th>\n",
       "      <th></th>\n",
       "    </tr>\n",
       "  </thead>\n",
       "  <tbody>\n",
       "    <tr>\n",
       "      <th>0.0000</th>\n",
       "      <th>1</th>\n",
       "      <td>0.335282</td>\n",
       "      <td>0.000181</td>\n",
       "      <td>0.335465</td>\n",
       "    </tr>\n",
       "    <tr>\n",
       "      <th>1.0685</th>\n",
       "      <th>24</th>\n",
       "      <td>0.335300</td>\n",
       "      <td>0.000220</td>\n",
       "      <td>0.335521</td>\n",
       "    </tr>\n",
       "    <tr>\n",
       "      <th>1013.0000</th>\n",
       "      <th>76</th>\n",
       "      <td>-0.000002</td>\n",
       "      <td>-5.652587</td>\n",
       "      <td>-5.652589</td>\n",
       "    </tr>\n",
       "  </tbody>\n",
       "</table>\n",
       "</div>"
      ],
      "text/plain": [
       "                     flug      fldg     fnetg\n",
       "pressure  level                              \n",
       "0.0000    1      0.335282  0.000181  0.335465\n",
       "1.0685    24     0.335300  0.000220  0.335521\n",
       "1013.0000 76    -0.000002 -5.652587 -5.652589"
      ]
     },
     "metadata": {},
     "output_type": "display_data"
    },
    {
     "name": "stdout",
     "output_type": "stream",
     "text": [
      "Table. Fluxes. (CLIRAD) - (WGT igg=10 wgt_flux=1)\n"
     ]
    },
    {
     "data": {
      "text/html": [
       "<a id=\"Best-fit_Parameters\"></a>"
      ],
      "text/plain": [
       "<IPython.core.display.HTML object>"
      ]
     },
     "metadata": {},
     "output_type": "display_data"
    },
    {
     "data": {
      "text/markdown": [
       "# Best-fit Parameters"
      ],
      "text/plain": [
       "<IPython.core.display.Markdown object>"
      ]
     },
     "metadata": {},
     "output_type": "display_data"
    },
    {
     "name": "stdout",
     "output_type": "stream",
     "text": [
      "Best-fit values for each (gas, band)\n",
      "------------------------------------\n",
      "o h2o band3b\n",
      "  molecule = h2o\n",
      "  band = 3b\n",
      "  commitnumber = d62b618\n",
      "  vmin = 620\n",
      "  vmax = 720\n",
      "  dv = 0.001\n",
      "  nv = 1000\n",
      "  ref_pts = [(600, 250)]\n",
      "  ng_refs = [6]\n",
      "  ng_adju = [0]\n",
      "  klin = 1e-24\n",
      "  option_wgt_k = 1\n",
      "  wgt = [(0.8, 0.8, 0.8, 0.6, 0.6, 0.9)]\n",
      "  w_diffuse = [(1.66, 1.66, 1.66, 1.55, 1.5, 1.66)]\n",
      "  option_wgt_flux = 1\n",
      "  atmpro = trp\n",
      "  tsfc = 294\n",
      "  conc = None\n",
      "  option_compute_btable = 0\n",
      "  option_compute_ktable = 1\n"
     ]
    }
   ],
   "source": [
    "script()"
   ]
  },
  {
   "cell_type": "code",
   "execution_count": 13,
   "metadata": {},
   "outputs": [
    {
     "data": {
      "text/html": [
       "<script>\n",
       "code_show=true; \n",
       "function code_toggle() {\n",
       " if (code_show){\n",
       " $('div.input').hide();\n",
       " } else {\n",
       " $('div.input').show();\n",
       " }\n",
       " code_show = !code_show\n",
       "} \n",
       "$( document ).ready(code_toggle);\n",
       "</script>\n",
       "<form action=\"javascript:code_toggle()\"><input type=\"submit\" value=\"Click here to toggle on/off the raw code.\"></form>"
      ],
      "text/plain": [
       "<IPython.core.display.HTML object>"
      ]
     },
     "execution_count": 13,
     "metadata": {},
     "output_type": "execute_result"
    }
   ],
   "source": [
    "display.HTML('''<script>\n",
    "code_show=true; \n",
    "function code_toggle() {\n",
    " if (code_show){\n",
    " $('div.input').hide();\n",
    " } else {\n",
    " $('div.input').show();\n",
    " }\n",
    " code_show = !code_show\n",
    "} \n",
    "$( document ).ready(code_toggle);\n",
    "</script>\n",
    "<form action=\"javascript:code_toggle()\"><input type=\"submit\" value=\"Click here to toggle on/off the raw code.\"></form>''')"
   ]
  }
 ],
 "metadata": {
  "kernelspec": {
   "display_name": "Python 3",
   "language": "python",
   "name": "python3"
  },
  "language_info": {
   "codemirror_mode": {
    "name": "ipython",
    "version": 3
   },
   "file_extension": ".py",
   "mimetype": "text/x-python",
   "name": "python",
   "nbconvert_exporter": "python",
   "pygments_lexer": "ipython3",
   "version": "3.6.1"
  }
 },
 "nbformat": 4,
 "nbformat_minor": 2
}
