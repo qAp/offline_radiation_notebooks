{
 "cells": [
  {
   "cell_type": "code",
   "execution_count": 1,
   "metadata": {
    "collapsed": true
   },
   "outputs": [],
   "source": [
    "%matplotlib inline\n",
    "import os\n",
    "import re\n",
    "import io\n",
    "import itertools\n",
    "import pprint\n",
    "\n",
    "from bokeh.io import output_notebook, show\n",
    "from bokeh.layouts import gridplot\n",
    "from bokeh.plotting import figure\n",
    "from bokeh.models import Range1d, Legend\n",
    "from bokeh.palettes import all_palettes\n",
    "\n",
    "import matplotlib\n",
    "import matplotlib.pyplot as plt\n",
    "import numpy as np\n",
    "import pandas as pd\n",
    "import xarray as xr\n",
    "\n",
    "import climatools.lblnew.bestfit_params as bestfits\n",
    "from climatools.lblnew import setup_bestfit, setup_overlap\n",
    "import climatools.lblnew.pipeline as pipe_lblnew\n",
    "import climatools.cliradlw.setup as setup_cliradlw\n",
    "import climatools.cliradlw.pipeline as pipe_cliradlw\n",
    "\n",
    "import climatools.html.html as climahtml\n",
    "from climatools.lblnew.dataio import *\n",
    "from climatools.plot.plot import *\n",
    "\n",
    "\n",
    "import IPython.display as display"
   ]
  },
  {
   "cell_type": "code",
   "execution_count": 2,
   "metadata": {
    "collapsed": true
   },
   "outputs": [],
   "source": [
    "%run param.py"
   ]
  },
  {
   "cell_type": "code",
   "execution_count": 3,
   "metadata": {
    "collapsed": true
   },
   "outputs": [],
   "source": [
    "def load_output_file(path_csv):\n",
    "    '''\n",
    "    Load lblnew output .csv file to xarray.Dataset\n",
    "    \n",
    "    Parameters\n",
    "    ----------\n",
    "    path_csv: str\n",
    "              Path to the .csv file to be loaded.\n",
    "    ds: xarray.Dataset\n",
    "        Data in the input file in the form of an xarray.Dataset.\n",
    "    '''\n",
    "    toindex = ['band', 'pressure', 'igg', 'g']    \n",
    "    df = pd.read_csv(path_csv, sep=r'\\s+')\n",
    "    df = df.set_index([i for i in toindex if i in df.columns])\n",
    "    df = df.rename(columns={'sfu': 'flug',\n",
    "                            'sfd': 'fldg',\n",
    "                            'fnet': 'fnetg',\n",
    "                            'coolr': 'coolrg'})\n",
    "    ds = xr.Dataset.from_dataframe(df)\n",
    "\n",
    "    for l in ('level', 'layer'):\n",
    "        if l in ds.data_vars:\n",
    "            if len(ds[l].dims) > 1:\n",
    "                surface = {d: 0 for d in ds.dims if d != 'pressure'}\n",
    "                coord_level = ds[l][surface]\n",
    "                ds.coords[l] = ('pressure', coord_level)\n",
    "            else:\n",
    "                ds.coords[l] = ('pressure', ds[l])\n",
    "    \n",
    "    return ds"
   ]
  },
  {
   "cell_type": "code",
   "execution_count": 4,
   "metadata": {
    "collapsed": true
   },
   "outputs": [],
   "source": [
    "def lblnew_setup(param=None):\n",
    "    if 'ng_refs' in param:\n",
    "        return {'setup': setup_bestfit,\n",
    "                'fname_flux_crd': 'output_flux.dat',\n",
    "                'fname_cool_crd': 'output_coolr.dat',\n",
    "                'fname_flux_wgt': 'output_wfluxg.dat',\n",
    "                'fname_cool_wgt': 'output_wcoolrg.dat'}\n",
    "    else:\n",
    "        return {'setup': setup_overlap,\n",
    "                'fname_flux_crd': 'output_flux.dat',\n",
    "                'fname_cool_crd': 'output_coolr.dat',\n",
    "                'fname_flux_wgt': 'output_wflux.dat',\n",
    "                'fname_cool_wgt': 'output_wcoolr.dat'}\n",
    "\n",
    "    \n",
    "def load_lblnew_data(param):\n",
    "    \n",
    "    fname_dsname = [('fname_flux_crd', 'ds_flux_crd'),\n",
    "                    ('fname_cool_crd', 'ds_cool_crd'),\n",
    "                    ('fname_flux_wgt', 'ds_flux_wgt'),\n",
    "                    ('fname_cool_wgt', 'ds_cool_wgt')]\n",
    "    \n",
    "    d = lblnew_setup(param)\n",
    "    dir_fortran = pipe_lblnew.get_dir_case(param, setup=d['setup'])\n",
    "    \n",
    "    data_dict = {}\n",
    "    for fname, dsname in fname_dsname:\n",
    "        fpath = os.path.join(dir_fortran, d[fname])\n",
    "        data_dict[dsname] = load_output_file(fpath)\n",
    "    return data_dict\n",
    "    \n",
    "\n",
    "    \n",
    "    "
   ]
  },
  {
   "cell_type": "code",
   "execution_count": 5,
   "metadata": {
    "collapsed": true
   },
   "outputs": [],
   "source": [
    "d = load_lblnew_data(PARAM_LBLNEW)\n",
    "\n",
    "DS_FLUX_CRD = d['ds_flux_crd']\n",
    "DS_COOL_CRD = d['ds_cool_crd']\n",
    "DS_FLUX_WGT = d['ds_flux_wgt']\n",
    "DS_COOL_WGT = d['ds_cool_wgt']"
   ]
  },
  {
   "cell_type": "code",
   "execution_count": 6,
   "metadata": {
    "collapsed": true
   },
   "outputs": [],
   "source": [
    "DIR_FORTRAN = pipe_cliradlw.get_fortran_dir(PARAM, \n",
    "                                            setup=setup_cliradlw)\n",
    "\n",
    "PATH_FLUX = os.path.join(DIR_FORTRAN, 'output_flux.dat')\n",
    "PATH_COOL = os.path.join(DIR_FORTRAN, 'output_coolr.dat')\n",
    "\n",
    "DS_FLUX = load_output_file(PATH_FLUX)\n",
    "DS_COOL = load_output_file(PATH_COOL)"
   ]
  },
  {
   "cell_type": "code",
   "execution_count": 7,
   "metadata": {},
   "outputs": [
    {
     "data": {
      "text/html": [
       "\n",
       "    <div class=\"bk-root\">\n",
       "        <a href=\"https://bokeh.pydata.org\" target=\"_blank\" class=\"bk-logo bk-logo-small bk-logo-notebook\"></a>\n",
       "        <span id=\"559ba2d9-69fe-440f-8efd-75622a1d1339\">Loading BokehJS ...</span>\n",
       "    </div>"
      ]
     },
     "metadata": {},
     "output_type": "display_data"
    },
    {
     "data": {
      "application/javascript": [
       "\n",
       "(function(root) {\n",
       "  function now() {\n",
       "    return new Date();\n",
       "  }\n",
       "\n",
       "  var force = true;\n",
       "\n",
       "  if (typeof (root._bokeh_onload_callbacks) === \"undefined\" || force === true) {\n",
       "    root._bokeh_onload_callbacks = [];\n",
       "    root._bokeh_is_loading = undefined;\n",
       "  }\n",
       "\n",
       "  var JS_MIME_TYPE = 'application/javascript';\n",
       "  var HTML_MIME_TYPE = 'text/html';\n",
       "  var EXEC_MIME_TYPE = 'application/vnd.bokehjs_exec.v0+json';\n",
       "  var CLASS_NAME = 'output_bokeh rendered_html';\n",
       "\n",
       "  /**\n",
       "   * Render data to the DOM node\n",
       "   */\n",
       "  function render(props, node) {\n",
       "    var script = document.createElement(\"script\");\n",
       "    node.appendChild(script);\n",
       "  }\n",
       "\n",
       "  /**\n",
       "   * Handle when an output is cleared or removed\n",
       "   */\n",
       "  function handleClearOutput(event, handle) {\n",
       "    var cell = handle.cell;\n",
       "\n",
       "    var id = cell.output_area._bokeh_element_id;\n",
       "    var server_id = cell.output_area._bokeh_server_id;\n",
       "    // Clean up Bokeh references\n",
       "    if (id !== undefined) {\n",
       "      Bokeh.index[id].model.document.clear();\n",
       "      delete Bokeh.index[id];\n",
       "    }\n",
       "\n",
       "    if (server_id !== undefined) {\n",
       "      // Clean up Bokeh references\n",
       "      var cmd = \"from bokeh.io.state import curstate; print(curstate().uuid_to_server['\" + server_id + \"'].get_sessions()[0].document.roots[0]._id)\";\n",
       "      cell.notebook.kernel.execute(cmd, {\n",
       "        iopub: {\n",
       "          output: function(msg) {\n",
       "            var element_id = msg.content.text.trim();\n",
       "            Bokeh.index[element_id].model.document.clear();\n",
       "            delete Bokeh.index[element_id];\n",
       "          }\n",
       "        }\n",
       "      });\n",
       "      // Destroy server and session\n",
       "      var cmd = \"import bokeh.io.notebook as ion; ion.destroy_server('\" + server_id + \"')\";\n",
       "      cell.notebook.kernel.execute(cmd);\n",
       "    }\n",
       "  }\n",
       "\n",
       "  /**\n",
       "   * Handle when a new output is added\n",
       "   */\n",
       "  function handleAddOutput(event, handle) {\n",
       "    var output_area = handle.output_area;\n",
       "    var output = handle.output;\n",
       "\n",
       "    // limit handleAddOutput to display_data with EXEC_MIME_TYPE content only\n",
       "    if ((output.output_type != \"display_data\") || (!output.data.hasOwnProperty(EXEC_MIME_TYPE))) {\n",
       "      return\n",
       "    }\n",
       "\n",
       "    var toinsert = output_area.element.find(\".\" + CLASS_NAME.split(' ')[0]);\n",
       "\n",
       "    if (output.metadata[EXEC_MIME_TYPE][\"id\"] !== undefined) {\n",
       "      toinsert[0].firstChild.textContent = output.data[JS_MIME_TYPE];\n",
       "      // store reference to embed id on output_area\n",
       "      output_area._bokeh_element_id = output.metadata[EXEC_MIME_TYPE][\"id\"];\n",
       "    }\n",
       "    if (output.metadata[EXEC_MIME_TYPE][\"server_id\"] !== undefined) {\n",
       "      var bk_div = document.createElement(\"div\");\n",
       "      bk_div.innerHTML = output.data[HTML_MIME_TYPE];\n",
       "      var script_attrs = bk_div.children[0].attributes;\n",
       "      for (var i = 0; i < script_attrs.length; i++) {\n",
       "        toinsert[0].firstChild.setAttribute(script_attrs[i].name, script_attrs[i].value);\n",
       "      }\n",
       "      // store reference to server id on output_area\n",
       "      output_area._bokeh_server_id = output.metadata[EXEC_MIME_TYPE][\"server_id\"];\n",
       "    }\n",
       "  }\n",
       "\n",
       "  function register_renderer(events, OutputArea) {\n",
       "\n",
       "    function append_mime(data, metadata, element) {\n",
       "      // create a DOM node to render to\n",
       "      var toinsert = this.create_output_subarea(\n",
       "        metadata,\n",
       "        CLASS_NAME,\n",
       "        EXEC_MIME_TYPE\n",
       "      );\n",
       "      this.keyboard_manager.register_events(toinsert);\n",
       "      // Render to node\n",
       "      var props = {data: data, metadata: metadata[EXEC_MIME_TYPE]};\n",
       "      render(props, toinsert[0]);\n",
       "      element.append(toinsert);\n",
       "      return toinsert\n",
       "    }\n",
       "\n",
       "    /* Handle when an output is cleared or removed */\n",
       "    events.on('clear_output.CodeCell', handleClearOutput);\n",
       "    events.on('delete.Cell', handleClearOutput);\n",
       "\n",
       "    /* Handle when a new output is added */\n",
       "    events.on('output_added.OutputArea', handleAddOutput);\n",
       "\n",
       "    /**\n",
       "     * Register the mime type and append_mime function with output_area\n",
       "     */\n",
       "    OutputArea.prototype.register_mime_type(EXEC_MIME_TYPE, append_mime, {\n",
       "      /* Is output safe? */\n",
       "      safe: true,\n",
       "      /* Index of renderer in `output_area.display_order` */\n",
       "      index: 0\n",
       "    });\n",
       "  }\n",
       "\n",
       "  // register the mime type if in Jupyter Notebook environment and previously unregistered\n",
       "  if (root.Jupyter !== undefined) {\n",
       "    var events = require('base/js/events');\n",
       "    var OutputArea = require('notebook/js/outputarea').OutputArea;\n",
       "\n",
       "    if (OutputArea.prototype.mime_types().indexOf(EXEC_MIME_TYPE) == -1) {\n",
       "      register_renderer(events, OutputArea);\n",
       "    }\n",
       "  }\n",
       "\n",
       "  \n",
       "  if (typeof (root._bokeh_timeout) === \"undefined\" || force === true) {\n",
       "    root._bokeh_timeout = Date.now() + 5000;\n",
       "    root._bokeh_failed_load = false;\n",
       "  }\n",
       "\n",
       "  var NB_LOAD_WARNING = {'data': {'text/html':\n",
       "     \"<div style='background-color: #fdd'>\\n\"+\n",
       "     \"<p>\\n\"+\n",
       "     \"BokehJS does not appear to have successfully loaded. If loading BokehJS from CDN, this \\n\"+\n",
       "     \"may be due to a slow or bad network connection. Possible fixes:\\n\"+\n",
       "     \"</p>\\n\"+\n",
       "     \"<ul>\\n\"+\n",
       "     \"<li>re-rerun `output_notebook()` to attempt to load from CDN again, or</li>\\n\"+\n",
       "     \"<li>use INLINE resources instead, as so:</li>\\n\"+\n",
       "     \"</ul>\\n\"+\n",
       "     \"<code>\\n\"+\n",
       "     \"from bokeh.resources import INLINE\\n\"+\n",
       "     \"output_notebook(resources=INLINE)\\n\"+\n",
       "     \"</code>\\n\"+\n",
       "     \"</div>\"}};\n",
       "\n",
       "  function display_loaded() {\n",
       "    var el = document.getElementById(\"559ba2d9-69fe-440f-8efd-75622a1d1339\");\n",
       "    if (el != null) {\n",
       "      el.textContent = \"BokehJS is loading...\";\n",
       "    }\n",
       "    if (root.Bokeh !== undefined) {\n",
       "      if (el != null) {\n",
       "        el.textContent = \"BokehJS \" + root.Bokeh.version + \" successfully loaded.\";\n",
       "      }\n",
       "    } else if (Date.now() < root._bokeh_timeout) {\n",
       "      setTimeout(display_loaded, 100)\n",
       "    }\n",
       "  }\n",
       "\n",
       "\n",
       "  function run_callbacks() {\n",
       "    try {\n",
       "      root._bokeh_onload_callbacks.forEach(function(callback) { callback() });\n",
       "    }\n",
       "    finally {\n",
       "      delete root._bokeh_onload_callbacks\n",
       "    }\n",
       "    console.info(\"Bokeh: all callbacks have finished\");\n",
       "  }\n",
       "\n",
       "  function load_libs(js_urls, callback) {\n",
       "    root._bokeh_onload_callbacks.push(callback);\n",
       "    if (root._bokeh_is_loading > 0) {\n",
       "      console.log(\"Bokeh: BokehJS is being loaded, scheduling callback at\", now());\n",
       "      return null;\n",
       "    }\n",
       "    if (js_urls == null || js_urls.length === 0) {\n",
       "      run_callbacks();\n",
       "      return null;\n",
       "    }\n",
       "    console.log(\"Bokeh: BokehJS not loaded, scheduling load and callback at\", now());\n",
       "    root._bokeh_is_loading = js_urls.length;\n",
       "    for (var i = 0; i < js_urls.length; i++) {\n",
       "      var url = js_urls[i];\n",
       "      var s = document.createElement('script');\n",
       "      s.src = url;\n",
       "      s.async = false;\n",
       "      s.onreadystatechange = s.onload = function() {\n",
       "        root._bokeh_is_loading--;\n",
       "        if (root._bokeh_is_loading === 0) {\n",
       "          console.log(\"Bokeh: all BokehJS libraries loaded\");\n",
       "          run_callbacks()\n",
       "        }\n",
       "      };\n",
       "      s.onerror = function() {\n",
       "        console.warn(\"failed to load library \" + url);\n",
       "      };\n",
       "      console.log(\"Bokeh: injecting script tag for BokehJS library: \", url);\n",
       "      document.getElementsByTagName(\"head\")[0].appendChild(s);\n",
       "    }\n",
       "  };var element = document.getElementById(\"559ba2d9-69fe-440f-8efd-75622a1d1339\");\n",
       "  if (element == null) {\n",
       "    console.log(\"Bokeh: ERROR: autoload.js configured with elementid '559ba2d9-69fe-440f-8efd-75622a1d1339' but no matching script tag was found. \")\n",
       "    return false;\n",
       "  }\n",
       "\n",
       "  var js_urls = [\"https://cdn.pydata.org/bokeh/release/bokeh-0.12.14.min.js\", \"https://cdn.pydata.org/bokeh/release/bokeh-widgets-0.12.14.min.js\", \"https://cdn.pydata.org/bokeh/release/bokeh-tables-0.12.14.min.js\", \"https://cdn.pydata.org/bokeh/release/bokeh-gl-0.12.14.min.js\"];\n",
       "\n",
       "  var inline_js = [\n",
       "    function(Bokeh) {\n",
       "      Bokeh.set_log_level(\"info\");\n",
       "    },\n",
       "    \n",
       "    function(Bokeh) {\n",
       "      \n",
       "    },\n",
       "    function(Bokeh) {\n",
       "      console.log(\"Bokeh: injecting CSS: https://cdn.pydata.org/bokeh/release/bokeh-0.12.14.min.css\");\n",
       "      Bokeh.embed.inject_css(\"https://cdn.pydata.org/bokeh/release/bokeh-0.12.14.min.css\");\n",
       "      console.log(\"Bokeh: injecting CSS: https://cdn.pydata.org/bokeh/release/bokeh-widgets-0.12.14.min.css\");\n",
       "      Bokeh.embed.inject_css(\"https://cdn.pydata.org/bokeh/release/bokeh-widgets-0.12.14.min.css\");\n",
       "      console.log(\"Bokeh: injecting CSS: https://cdn.pydata.org/bokeh/release/bokeh-tables-0.12.14.min.css\");\n",
       "      Bokeh.embed.inject_css(\"https://cdn.pydata.org/bokeh/release/bokeh-tables-0.12.14.min.css\");\n",
       "    }\n",
       "  ];\n",
       "\n",
       "  function run_inline_js() {\n",
       "    \n",
       "    if ((root.Bokeh !== undefined) || (force === true)) {\n",
       "      for (var i = 0; i < inline_js.length; i++) {\n",
       "        inline_js[i].call(root, root.Bokeh);\n",
       "      }if (force === true) {\n",
       "        display_loaded();\n",
       "      }} else if (Date.now() < root._bokeh_timeout) {\n",
       "      setTimeout(run_inline_js, 100);\n",
       "    } else if (!root._bokeh_failed_load) {\n",
       "      console.log(\"Bokeh: BokehJS failed to load within specified timeout.\");\n",
       "      root._bokeh_failed_load = true;\n",
       "    } else if (force !== true) {\n",
       "      var cell = $(document.getElementById(\"559ba2d9-69fe-440f-8efd-75622a1d1339\")).parents('.cell').data().cell;\n",
       "      cell.output_area.append_execute_result(NB_LOAD_WARNING)\n",
       "    }\n",
       "\n",
       "  }\n",
       "\n",
       "  if (root._bokeh_is_loading === 0) {\n",
       "    console.log(\"Bokeh: BokehJS loaded, going straight to plotting\");\n",
       "    run_inline_js();\n",
       "  } else {\n",
       "    load_libs(js_urls, function() {\n",
       "      console.log(\"Bokeh: BokehJS plotting callback run at\", now());\n",
       "      run_inline_js();\n",
       "    });\n",
       "  }\n",
       "}(window));"
      ],
      "application/vnd.bokehjs_load.v0+json": "\n(function(root) {\n  function now() {\n    return new Date();\n  }\n\n  var force = true;\n\n  if (typeof (root._bokeh_onload_callbacks) === \"undefined\" || force === true) {\n    root._bokeh_onload_callbacks = [];\n    root._bokeh_is_loading = undefined;\n  }\n\n  \n\n  \n  if (typeof (root._bokeh_timeout) === \"undefined\" || force === true) {\n    root._bokeh_timeout = Date.now() + 5000;\n    root._bokeh_failed_load = false;\n  }\n\n  var NB_LOAD_WARNING = {'data': {'text/html':\n     \"<div style='background-color: #fdd'>\\n\"+\n     \"<p>\\n\"+\n     \"BokehJS does not appear to have successfully loaded. If loading BokehJS from CDN, this \\n\"+\n     \"may be due to a slow or bad network connection. Possible fixes:\\n\"+\n     \"</p>\\n\"+\n     \"<ul>\\n\"+\n     \"<li>re-rerun `output_notebook()` to attempt to load from CDN again, or</li>\\n\"+\n     \"<li>use INLINE resources instead, as so:</li>\\n\"+\n     \"</ul>\\n\"+\n     \"<code>\\n\"+\n     \"from bokeh.resources import INLINE\\n\"+\n     \"output_notebook(resources=INLINE)\\n\"+\n     \"</code>\\n\"+\n     \"</div>\"}};\n\n  function display_loaded() {\n    var el = document.getElementById(\"559ba2d9-69fe-440f-8efd-75622a1d1339\");\n    if (el != null) {\n      el.textContent = \"BokehJS is loading...\";\n    }\n    if (root.Bokeh !== undefined) {\n      if (el != null) {\n        el.textContent = \"BokehJS \" + root.Bokeh.version + \" successfully loaded.\";\n      }\n    } else if (Date.now() < root._bokeh_timeout) {\n      setTimeout(display_loaded, 100)\n    }\n  }\n\n\n  function run_callbacks() {\n    try {\n      root._bokeh_onload_callbacks.forEach(function(callback) { callback() });\n    }\n    finally {\n      delete root._bokeh_onload_callbacks\n    }\n    console.info(\"Bokeh: all callbacks have finished\");\n  }\n\n  function load_libs(js_urls, callback) {\n    root._bokeh_onload_callbacks.push(callback);\n    if (root._bokeh_is_loading > 0) {\n      console.log(\"Bokeh: BokehJS is being loaded, scheduling callback at\", now());\n      return null;\n    }\n    if (js_urls == null || js_urls.length === 0) {\n      run_callbacks();\n      return null;\n    }\n    console.log(\"Bokeh: BokehJS not loaded, scheduling load and callback at\", now());\n    root._bokeh_is_loading = js_urls.length;\n    for (var i = 0; i < js_urls.length; i++) {\n      var url = js_urls[i];\n      var s = document.createElement('script');\n      s.src = url;\n      s.async = false;\n      s.onreadystatechange = s.onload = function() {\n        root._bokeh_is_loading--;\n        if (root._bokeh_is_loading === 0) {\n          console.log(\"Bokeh: all BokehJS libraries loaded\");\n          run_callbacks()\n        }\n      };\n      s.onerror = function() {\n        console.warn(\"failed to load library \" + url);\n      };\n      console.log(\"Bokeh: injecting script tag for BokehJS library: \", url);\n      document.getElementsByTagName(\"head\")[0].appendChild(s);\n    }\n  };var element = document.getElementById(\"559ba2d9-69fe-440f-8efd-75622a1d1339\");\n  if (element == null) {\n    console.log(\"Bokeh: ERROR: autoload.js configured with elementid '559ba2d9-69fe-440f-8efd-75622a1d1339' but no matching script tag was found. \")\n    return false;\n  }\n\n  var js_urls = [\"https://cdn.pydata.org/bokeh/release/bokeh-0.12.14.min.js\", \"https://cdn.pydata.org/bokeh/release/bokeh-widgets-0.12.14.min.js\", \"https://cdn.pydata.org/bokeh/release/bokeh-tables-0.12.14.min.js\", \"https://cdn.pydata.org/bokeh/release/bokeh-gl-0.12.14.min.js\"];\n\n  var inline_js = [\n    function(Bokeh) {\n      Bokeh.set_log_level(\"info\");\n    },\n    \n    function(Bokeh) {\n      \n    },\n    function(Bokeh) {\n      console.log(\"Bokeh: injecting CSS: https://cdn.pydata.org/bokeh/release/bokeh-0.12.14.min.css\");\n      Bokeh.embed.inject_css(\"https://cdn.pydata.org/bokeh/release/bokeh-0.12.14.min.css\");\n      console.log(\"Bokeh: injecting CSS: https://cdn.pydata.org/bokeh/release/bokeh-widgets-0.12.14.min.css\");\n      Bokeh.embed.inject_css(\"https://cdn.pydata.org/bokeh/release/bokeh-widgets-0.12.14.min.css\");\n      console.log(\"Bokeh: injecting CSS: https://cdn.pydata.org/bokeh/release/bokeh-tables-0.12.14.min.css\");\n      Bokeh.embed.inject_css(\"https://cdn.pydata.org/bokeh/release/bokeh-tables-0.12.14.min.css\");\n    }\n  ];\n\n  function run_inline_js() {\n    \n    if ((root.Bokeh !== undefined) || (force === true)) {\n      for (var i = 0; i < inline_js.length; i++) {\n        inline_js[i].call(root, root.Bokeh);\n      }if (force === true) {\n        display_loaded();\n      }} else if (Date.now() < root._bokeh_timeout) {\n      setTimeout(run_inline_js, 100);\n    } else if (!root._bokeh_failed_load) {\n      console.log(\"Bokeh: BokehJS failed to load within specified timeout.\");\n      root._bokeh_failed_load = true;\n    } else if (force !== true) {\n      var cell = $(document.getElementById(\"559ba2d9-69fe-440f-8efd-75622a1d1339\")).parents('.cell').data().cell;\n      cell.output_area.append_execute_result(NB_LOAD_WARNING)\n    }\n\n  }\n\n  if (root._bokeh_is_loading === 0) {\n    console.log(\"Bokeh: BokehJS loaded, going straight to plotting\");\n    run_inline_js();\n  } else {\n    load_libs(js_urls, function() {\n      console.log(\"Bokeh: BokehJS plotting callback run at\", now());\n      run_inline_js();\n    });\n  }\n}(window));"
     },
     "metadata": {},
     "output_type": "display_data"
    }
   ],
   "source": [
    "output_notebook()"
   ]
  },
  {
   "cell_type": "code",
   "execution_count": 8,
   "metadata": {
    "collapsed": true
   },
   "outputs": [],
   "source": [
    "def fmt_cool(ds_in):\n",
    "    ds = ds_in.copy(deep=True)\n",
    "    if 'igg' in ds.dims:\n",
    "        ds = ds.sel(igg=1)\n",
    "\n",
    "    if 'g' in ds.dims:\n",
    "        ds = ds.sum('g')\n",
    "            \n",
    "    if 'band' in ds.dims:\n",
    "        try:\n",
    "            ds = ds.squeeze('band')\n",
    "        except ValueError:\n",
    "            ds = ds.sum('band')\n",
    "                \n",
    "    return ds['coolrg']\n",
    "\n",
    "\n",
    "def pltdata_cooling_1(ds_cool=None,\n",
    "                      ds_cool_crd=None, ds_cool_wgt=None):\n",
    "    \n",
    "\n",
    "\n",
    "    colors = all_palettes['Set1'][4]\n",
    "    data = [{'label': 'CLIRAD `coolr_bands`',\n",
    "             'srs': fmt_cool(ds_cool),\n",
    "             'line_dash': 'dashed', 'line_width': 5,\n",
    "             'color': colors[0], 'alpha': .6},\n",
    "            {'label': 'CRD',\n",
    "             'srs': fmt_cool(ds_cool_crd),\n",
    "             'line_dash': 'solid', 'line_width': 1.5,\n",
    "             'marker': 'circle', 'marker_size': 5,\n",
    "             'color': colors[2], 'alpha': 1,},\n",
    "            {'label': 'WGT igg=10 wgt_flux=2',\n",
    "             'srs': fmt_cool(ds_cool_wgt),\n",
    "             'line_dash': 'solid', 'line_width': 3,\n",
    "             'marker': 'square', 'marker_size': 5,\n",
    "             'color': colors[3], 'alpha': .6}]\n",
    "    return data\n",
    "\n",
    "\n",
    "def nice_xlims(pltdata=None, prange=None):\n",
    "    \n",
    "    def get_slice(srs):\n",
    "        return srs.sel(pressure=slice(*prange))\n",
    "    \n",
    "    srss = [d['srs'] for d in pltdata]\n",
    "    vmin = min([get_slice(srs).min() for srs in srss])\n",
    "    vmax = max([get_slice(srs).max() for srs in srss])\n",
    "    dv = (vmax - vmin) * .01\n",
    "    return float(vmin - dv), float(vmax + dv)\n",
    "    \n",
    "\n",
    "def plt_cooling_bokeh(pltdata=None):\n",
    "    '''\n",
    "    Plot a list of cooling rate profiles using bokeh.\n",
    "    '''\n",
    "    ymin = 1e-2 \n",
    "    ymax = 1020 \n",
    "        \n",
    "    p1 = figure(title=\"Linear pressure scale\", \n",
    "                plot_width=400)        \n",
    "    xmin, xmax = nice_xlims(pltdata, prange=(50, 1050))\n",
    "    for d in pltdata:\n",
    "        if 'marker' in d:\n",
    "            getattr(p1, d['marker'])(d['srs'].values, \n",
    "                    d['srs'].coords['pressure'].values,\n",
    "                    color=d['color'], alpha=.7)\n",
    "        p1.line(d['srs'].values, \n",
    "                d['srs'].coords['pressure'].values,\n",
    "                color=d['color'], alpha=d['alpha'], \n",
    "                line_width=d['line_width'], line_dash=d['line_dash'])\n",
    "    \n",
    "    p1.y_range = Range1d(ymax, ymin)\n",
    "    p1.yaxis.axis_label = 'pressure [mb]'   \n",
    "    p1.x_range = Range1d(xmin, xmax)\n",
    "    p1.xaxis.axis_label = 'cooling rate [K/day]'\n",
    "            \n",
    "    p2 = figure(title='Log pressure scale', y_axis_type='log',\n",
    "                plot_width=560)\n",
    "    xmin, xmax = nice_xlims(pltdata, prange=(.01, 200))\n",
    "    \n",
    "    rs = []\n",
    "    for d in pltdata:\n",
    "        rd = []\n",
    "        if 'marker' in d:\n",
    "            r_mark = getattr(p2, d['marker'])(d['srs'].values, \n",
    "                        d['srs'].coords['pressure'].values,\n",
    "                        color=d['color'], alpha=.7)\n",
    "            rd.append(r_mark)\n",
    "        r_line = p2.line(d['srs'].values, \n",
    "                    d['srs'].coords['pressure'].values,\n",
    "                    color=d['color'], alpha=d['alpha'], \n",
    "                    line_width=d['line_width'], line_dash=d['line_dash'])\n",
    "        rd.append(r_line)\n",
    "      \n",
    "        rs.append(rd)\n",
    "        \n",
    "    p2.y_range = Range1d(ymax, ymin)  \n",
    "    p2.yaxis.axis_label = 'pressure [mb]'\n",
    "    \n",
    "    p2.x_range = Range1d(xmin, xmax)\n",
    "    p2.xaxis.axis_label = 'cooling rate [K/day]'\n",
    "    \n",
    "    items = [(d['label'], r) for r, d in zip(rs, pltdata)]\n",
    "    legend = Legend(items=items, location=(10, -30))\n",
    "    legend.label_text_font_size = '8pt'\n",
    "    \n",
    "    p2.add_layout(legend, 'right')  \n",
    "    \n",
    "    show(gridplot(p1, p2, ncols=2, plot_height=500))\n",
    "    \n",
    "\n",
    "def script_plt_cooling():\n",
    "    pltdata = pltdata_cooling_1(\n",
    "        ds_cool=DS_COOL,\n",
    "        ds_cool_crd=DS_COOL_CRD,\n",
    "        ds_cool_wgt=DS_COOL_WGT)\n",
    "    plt_cooling_bokeh(pltdata=pltdata)\n",
    "    print('''FIGURE. Cooling rate profiles.''')"
   ]
  },
  {
   "cell_type": "code",
   "execution_count": 9,
   "metadata": {
    "collapsed": true
   },
   "outputs": [],
   "source": [
    "def fmt_flux(ds_in):\n",
    "    ds = ds_in.copy(deep=True)\n",
    "    \n",
    "    for l in ('level', 'layer'):\n",
    "        if l in ds.data_vars:\n",
    "            if len(ds[l].dims) > 1:\n",
    "                surface = {d: 0 for d in ds.dims if d != 'pressure'}\n",
    "                coord_level = ds[l][surface]\n",
    "                ds.coords[l] = ('pressure', coord_level)\n",
    "            else:\n",
    "                ds.coords[l] = ('pressure', ds[l])\n",
    "        \n",
    "    ds = ds.isel(pressure=[0, 23, -1])\n",
    "        \n",
    "    if 'igg' in ds.dims:\n",
    "        ds = ds.sel(igg=[1])\n",
    "        ds = ds.squeeze('igg').drop('igg')\n",
    "    \n",
    "    if 'g' in ds.dims:\n",
    "        ds = ds.sum('g')\n",
    "            \n",
    "    if 'band' in ds.dims:\n",
    "        try:\n",
    "            ds = ds.squeeze('band').drop('band')\n",
    "        except ValueError:\n",
    "            ds = ds.sum('band')\n",
    "                \n",
    "    df = ds.to_dataframe()\n",
    "    df = df.set_index('level', append=True)               \n",
    "    return df\n",
    "\n",
    "\n",
    "def tbdata_flux(ds_flux=None, ds_flux_crd=None, ds_flux_wgt=None):\n",
    "    ilevels = [0, 23, -1]\n",
    "            \n",
    "    benchmark = {'label': 'WGT igg=10 wgt_flux=1',\n",
    "                 'df': fmt_flux(ds_flux_wgt)}\n",
    "    \n",
    "    tbs = [{'label': 'CRD',\n",
    "            'df': fmt_flux(ds_flux_crd)},\n",
    "           {'label': 'CLIRAD',\n",
    "            'df': fmt_flux(ds_flux)}]\n",
    "    \n",
    "    data = {'benchmark': benchmark, 'others': tbs}\n",
    "    return data\n",
    "\n",
    "\n",
    "def tb_flux(tbdata=None):\n",
    "    benchmark = tbdata['benchmark']\n",
    "    others = tbdata['others']\n",
    "    \n",
    "    def show_tb(d=None):\n",
    "        display.display(d['df'])\n",
    "        print('Table.', 'Fluxes.', d['label'])\n",
    "        \n",
    "    def show_tbdiff(d0=None, d=None):\n",
    "        df = d['df']\n",
    "        df.index = d0['df'].index\n",
    "        display.display(df - d0['df'])\n",
    "        print('Table.', 'Fluxes.', \n",
    "              '({}) - ({})'.format(d['label'], d0['label']))\n",
    "        \n",
    "    show_tb(benchmark)\n",
    "    for d in others:\n",
    "        show_tb(d)\n",
    "        \n",
    "    for d in others:\n",
    "        show_tbdiff(d=d, d0=benchmark)\n",
    "        \n",
    "        \n",
    "def script_tb_flux():\n",
    "    data = tbdata_flux(ds_flux=DS_FLUX,\n",
    "                       ds_flux_crd=DS_FLUX_CRD,\n",
    "                       ds_flux_wgt=DS_FLUX_WGT)\n",
    "    tb_flux(tbdata=data)"
   ]
  },
  {
   "cell_type": "code",
   "execution_count": 10,
   "metadata": {
    "collapsed": true
   },
   "outputs": [],
   "source": [
    "def band_map():\n",
    "    '''\n",
    "    Maps spectral bands in lblnew to spectral bands in clirad.\n",
    "    '''\n",
    "    lblnew2clirad = {'1': '1',\n",
    "            '2': '2',\n",
    "            '3a': '3',\n",
    "            '3b': '4',\n",
    "            '3c': '5',\n",
    "            '4': '6', \n",
    "            '5': '7',\n",
    "            '6': '8',\n",
    "            '7': '9', \n",
    "            '8': '10',\n",
    "            '9': '11'}\n",
    "    \n",
    "    clirad2lblnew = {clirad: lblnew \n",
    "                     for lblnew, clirad in lblnew2clirad.items()}\n",
    "    return clirad2lblnew\n",
    "\n",
    "\n",
    "def gasbands():\n",
    "    bmap = band_map()\n",
    "    gases = list(PARAM['molecule'].keys())\n",
    "    \n",
    "    bands = [bmap[str(b)] for b in PARAM['band']]\n",
    "    return list(itertools.product(gases, bands))\n",
    "\n",
    "\n",
    "def print_bestfit_params():\n",
    "    print('Best-fit values for each (gas, band)')\n",
    "    print('------------------------------------')\n",
    "    for gas, band in gasbands():\n",
    "        print('o {} band{}'.format(gas, band))\n",
    "        param = bestfits.kdist_params(molecule=gas, band=band)\n",
    "        for name, value in param.items():\n",
    "            print(2 * ' ' + '{} = {}'.format(name, value))\n",
    "\n",
    "        \n",
    "def print_input_param():        \n",
    "    for name, value in PARAM.items():\n",
    "        print('{} = {}'.format(name, value))\n",
    "        \n",
    "        \n",
    "def print_lblnew_param():\n",
    "    for name, value in PARAM_LBLNEW.items():\n",
    "        print('{} = {}'.format(name, value))\n"
   ]
  },
  {
   "cell_type": "code",
   "execution_count": 11,
   "metadata": {
    "collapsed": true,
    "scrolled": false
   },
   "outputs": [],
   "source": [
    "def show_html(s):\n",
    "    display.display(display.HTML(s))\n",
    "\n",
    "    \n",
    "def show_markdown(s):\n",
    "    display.display(display.Markdown(s))\n",
    "\n",
    "    \n",
    "def script():\n",
    "    \n",
    "    title = '### CLIRAD-LW'\n",
    "    s_input = 'Input Parameters'\n",
    "    s_lblnew_param = 'LBLNEW case compaired against'\n",
    "    s_bestfits = 'Best-fit Parameters'\n",
    "    s_plt_cooling = 'Cooling Rate Profiles'\n",
    "    s_tb_flux = 'Flux Comparison'\n",
    "    \n",
    "    # title\n",
    "    show_markdown('### CLIRAD-LW')\n",
    "    \n",
    "    # TOC\n",
    "    show_markdown('### Table of Contents')\n",
    "    show_html(climahtml.getHTML_hrefanchor(s_input))\n",
    "    show_html(climahtml.getHTML_hrefanchor(s_lblnew_param))\n",
    "    show_html(climahtml.getHTML_hrefanchor(s_plt_cooling))\n",
    "    show_html(climahtml.getHTML_hrefanchor(s_tb_flux))\n",
    "    show_html(climahtml.getHTML_hrefanchor(s_bestfits))\n",
    "    \n",
    "    # Input parameters\n",
    "    show_html(climahtml.getHTML_idanchor(s_input))\n",
    "    show_markdown(climahtml.getMarkdown_sectitle(s_input))\n",
    "    print_input_param()\n",
    "    \n",
    "    # LBLNEW parameters \n",
    "    show_html(climahtml.getHTML_idanchor(s_lblnew_param))\n",
    "    show_markdown(climahtml.getMarkdown_sectitle(s_lblnew_param))\n",
    "    print_lblnew_param()\n",
    "    \n",
    "    # Cooling rate profiles\n",
    "    show_html(climahtml.getHTML_idanchor(s_plt_cooling))\n",
    "    show_markdown(climahtml.getMarkdown_sectitle(s_plt_cooling))\n",
    "    script_plt_cooling()\n",
    "    \n",
    "    # Flux comparison\n",
    "    show_html(climahtml.getHTML_idanchor(s_tb_flux))\n",
    "    show_markdown(climahtml.getMarkdown_sectitle(s_tb_flux))\n",
    "    script_tb_flux()\n",
    "    \n",
    "    # Best-fit values\n",
    "    show_html(climahtml.getHTML_idanchor(s_bestfits))\n",
    "    show_markdown(climahtml.getMarkdown_sectitle(s_bestfits))\n",
    "    print_bestfit_params()\n",
    "   \n",
    "    "
   ]
  },
  {
   "cell_type": "code",
   "execution_count": 12,
   "metadata": {
    "scrolled": false
   },
   "outputs": [
    {
     "data": {
      "text/markdown": [
       "### CLIRAD-LW"
      ],
      "text/plain": [
       "<IPython.core.display.Markdown object>"
      ]
     },
     "metadata": {},
     "output_type": "display_data"
    },
    {
     "data": {
      "text/markdown": [
       "### Table of Contents"
      ],
      "text/plain": [
       "<IPython.core.display.Markdown object>"
      ]
     },
     "metadata": {},
     "output_type": "display_data"
    },
    {
     "data": {
      "text/html": [
       "<a href=\"#Input_Parameters\">Input Parameters</a>"
      ],
      "text/plain": [
       "<IPython.core.display.HTML object>"
      ]
     },
     "metadata": {},
     "output_type": "display_data"
    },
    {
     "data": {
      "text/html": [
       "<a href=\"#LBLNEW_case_compaired_against\">LBLNEW case compaired against</a>"
      ],
      "text/plain": [
       "<IPython.core.display.HTML object>"
      ]
     },
     "metadata": {},
     "output_type": "display_data"
    },
    {
     "data": {
      "text/html": [
       "<a href=\"#Cooling_Rate_Profiles\">Cooling Rate Profiles</a>"
      ],
      "text/plain": [
       "<IPython.core.display.HTML object>"
      ]
     },
     "metadata": {},
     "output_type": "display_data"
    },
    {
     "data": {
      "text/html": [
       "<a href=\"#Flux_Comparison\">Flux Comparison</a>"
      ],
      "text/plain": [
       "<IPython.core.display.HTML object>"
      ]
     },
     "metadata": {},
     "output_type": "display_data"
    },
    {
     "data": {
      "text/html": [
       "<a href=\"#Best-fit_Parameters\">Best-fit Parameters</a>"
      ],
      "text/plain": [
       "<IPython.core.display.HTML object>"
      ]
     },
     "metadata": {},
     "output_type": "display_data"
    },
    {
     "data": {
      "text/html": [
       "<a id=\"Input_Parameters\"></a>"
      ],
      "text/plain": [
       "<IPython.core.display.HTML object>"
      ]
     },
     "metadata": {},
     "output_type": "display_data"
    },
    {
     "data": {
      "text/markdown": [
       "# Input Parameters"
      ],
      "text/plain": [
       "<IPython.core.display.Markdown object>"
      ]
     },
     "metadata": {},
     "output_type": "display_data"
    },
    {
     "name": "stdout",
     "output_type": "stream",
     "text": [
      "atmpro = mls\n",
      "band = [11]\n",
      "commitnumber = 7a7a0e1\n",
      "molecule = {'h2o': 'atmpro'}\n",
      "tsfc = 294\n"
     ]
    },
    {
     "data": {
      "text/html": [
       "<a id=\"LBLNEW_case_compaired_against\"></a>"
      ],
      "text/plain": [
       "<IPython.core.display.HTML object>"
      ]
     },
     "metadata": {},
     "output_type": "display_data"
    },
    {
     "data": {
      "text/markdown": [
       "# LBLNEW case compaired against"
      ],
      "text/plain": [
       "<IPython.core.display.Markdown object>"
      ]
     },
     "metadata": {},
     "output_type": "display_data"
    },
    {
     "name": "stdout",
     "output_type": "stream",
     "text": [
      "molecule = h2o\n",
      "band = 9\n",
      "commitnumber = d62b618\n",
      "vmin = 1900\n",
      "vmax = 3000\n",
      "dv = 0.001\n",
      "nv = 1000\n",
      "ref_pts = [(500, 250)]\n",
      "ng_refs = [5]\n",
      "ng_adju = [0]\n",
      "klin = 1e-24\n",
      "option_wgt_k = 1\n",
      "wgt = [(0.4, 0.4, 0.5, 0.55, 0.85)]\n",
      "w_diffuse = [(1.66, 1.66, 1.66, 1.66, 1.66)]\n",
      "option_wgt_flux = 1\n",
      "atmpro = mls\n",
      "tsfc = 294\n",
      "conc = None\n",
      "option_compute_btable = 0\n",
      "option_compute_ktable = 1\n"
     ]
    },
    {
     "data": {
      "text/html": [
       "<a id=\"Cooling_Rate_Profiles\"></a>"
      ],
      "text/plain": [
       "<IPython.core.display.HTML object>"
      ]
     },
     "metadata": {},
     "output_type": "display_data"
    },
    {
     "data": {
      "text/markdown": [
       "# Cooling Rate Profiles"
      ],
      "text/plain": [
       "<IPython.core.display.Markdown object>"
      ]
     },
     "metadata": {},
     "output_type": "display_data"
    },
    {
     "data": {
      "text/html": [
       "\n",
       "<div class=\"bk-root\">\n",
       "    <div class=\"bk-plotdiv\" id=\"a3135112-3960-4b51-8302-1bc45633c121\"></div>\n",
       "</div>"
      ]
     },
     "metadata": {},
     "output_type": "display_data"
    },
    {
     "data": {
      "application/javascript": [
       "(function(root) {\n",
       "  function embed_document(root) {\n",
       "    \n",
       "  var docs_json = {\"091be2e6-a8c6-4663-9272-e776219921f5\":{\"roots\":{\"references\":[{\"attributes\":{},\"id\":\"ffc8eb80-af22-4c43-8c99-da0c28f2f048\",\"type\":\"BasicTickFormatter\"},{\"attributes\":{\"line_alpha\":0.1,\"line_color\":\"#1f77b4\",\"line_dash\":[6],\"line_width\":5,\"x\":{\"field\":\"x\"},\"y\":{\"field\":\"y\"}},\"id\":\"45c739c7-ea60-499d-997d-8f20c7e1d7a4\",\"type\":\"Line\"},{\"attributes\":{\"fill_alpha\":{\"value\":0.7},\"fill_color\":{\"value\":\"#4daf4a\"},\"line_alpha\":{\"value\":0.7},\"line_color\":{\"value\":\"#4daf4a\"},\"x\":{\"field\":\"x\"},\"y\":{\"field\":\"y\"}},\"id\":\"b080d75a-6e38-4c37-bc5f-10d9b9f36ebd\",\"type\":\"Circle\"},{\"attributes\":{\"source\":{\"id\":\"320ed880-dd2d-4416-953a-0f05a905b708\",\"type\":\"ColumnDataSource\"}},\"id\":\"ca79b233-fb28-40e9-9cb8-992f62952c0e\",\"type\":\"CDSView\"},{\"attributes\":{\"callback\":null,\"column_names\":[\"x\",\"y\"],\"data\":{\"x\":{\"__ndarray__\":\"WhAnirzqRb98jIAuxOhFv41vtS3D3kW/+WBda0nSRb/BaPEV8MRFvxb8hkX/uEW/HdXhWlSrRb/xMiV4CZtFv2eeOOxUlUW/fWKOQVmSRb8Pwcl5x4tFvwHAEBSDi0W/pQR6tEaGRb+TLCPhRapFvw+UGo4TekW/oZeOGpYARL98VI528ghAv2ttgdtiYzK/MF0Z6QS9DT8msY4GgdFCPx+eGOcl/lU/OKRXX3IeZD8wIYFnxMptP+RNWg72mm0/08TpClB4ZD9TXTyTaI9YP9h8t74POks/djOkuWuAPD+m0q/deWgtP8w+OmB9+x0/+yrvghmGDD9xf9mTAQfzPn6jtDkHZMo+bEAX69gYjb5tZ8Mu2ADkvnJP5qjm+/i+G5tyurV5Ab9F/srL0cAEv3Rsn7aP2gm/TTw0Dh/uDr9J9Kg3XZsTv+rUXQ8H6xu/+2J4blYLIL87oVM7BqEkvwY3+O5o2DC/+JPM31NDNb8DS/tXA5Qxv5yvkTRV2BW/u8lK7aR2Lj/WQrPivVZGP6IUodculFQ/IFofHl+FXz/iSWYHqVNmP6fDaCh+JG4/M+ltt5alcz8fjcpbI/p4P837lVTBNn8/MYwCYF/bgz/qCbMfFT6IPyeVVmeolow/1zFn46x7kD8qlGlagLuSPyL3GbxUEZU/9dFOciyUlz/jcYYf8k+aPxa7J1bgQJ0/0QpnElA8oD/PML8XgsOhPwAYMstc6KI/2OblAUOOoz93xQ1xDP6jP+0qFlKNfaQ/86Ts9ztJpT+rM/bZjMmmP4v4Aj41Gqw/\",\"dtype\":\"float64\",\"shape\":[75]},\"y\":{\"__ndarray__\":\"GhExyth1ND/Sv8nbtpRIP2vylNV0PVE/aTum7souWD/At0SJ8fVgPw3Iuahxymc/MSNhhJWvcD/bTfBN02d3P2zb5nxnaoA/CD5h5MAGhz8NmeH1TyaQP+zrCsc9p5Y/LbKd76fGnz/bLW5ISEmmPww9YvTcQq8/JV2OstnstT8Er5Y7M8G+P0c+r3jqkcU/5h99k6ZBzj88bCIzFzjVP4enV8oyxN0//yH99nXg5D8qOpLLf0jtP5kqGJXUifQ/c9cS8kHP/D+/DpwzojQEQIEmwoanVwxA4lgXt9HgE0BSSZ2AJuIbQAMJih9jjiNA5q4l5INuK0AwTKYKRj0zQNv5fmq8/DpAaCJseHrtQkB/+zpwzoxKQM3MzMzMeFJAZmZmZmZqWEAAAAAAAFxeQM3MzMzMJmJAmpmZmZkfZUBmZmZmZhhoQDMzMzMzEWtAAAAAAAAKbkBmZmZmZoFwQM3MzMzM/XFAMzMzMzN6c0CamZmZmfZ0QAAAAAAAc3ZAZmZmZmbvd0DNzMzMzGt5QDMzMzMz6HpAmpmZmZlkfEAAAAAAAOF9QGZmZmZmXX9AZmZmZuZsgECamZmZGSuBQM3MzMxM6YFAAAAAAICngkAzMzMzs2WDQGZmZmbmI4RAmpmZmRnihEDNzMzMTKCFQAAAAACAXoZAMzMzM7Mch0BmZmZm5tqHQJqZmZkZmYhAzczMzExXiUAAAAAAgBWKQDMzMzOz04pAZmZmZuaRi0CamZmZGVCMQM3MzMxMDo1AAAAAAIDMjUAzMzMzs4qOQGZmZmbmSI9A\",\"dtype\":\"float64\",\"shape\":[75]}}},\"id\":\"17087b2c-f5a8-47c6-9b96-96aa2ea85d37\",\"type\":\"ColumnDataSource\"},{\"attributes\":{\"callback\":null,\"column_names\":[\"x\",\"y\"],\"data\":{\"x\":{\"__ndarray__\":\"R/BN0gTyDr8B0a4MpJEOv0p089OqvA2/2WyboR3PDL+M8Isbd9QLv6YydtV6zAq/tJnZabu2Cb8YAt0WyJIIv6Hp7B0qYAe/K96Y0o0eBr+VXuGssM0Evy24/7o0bQO/F+enzloGAr8X32o/82wAvzPDCE7JVfa+gKSILTSq7D6MknpBLncXP1VNgRB8/Cs/MMCjqxS8Oj9JVQl3sCVHPzcS6Vsv9FI/lcxadCjaXT98AmLtqedkP6FmZdBQfWU/Gp0/lGCsYD8K/iDoeZlXP1CX2Jze/k8/UX1Jy8YzRT+2GFAh/CQ8P5fvG9SnGTI/ClJmFGGQJT9kbzB9W+MVPyaB5L0nIQI/8ArOc7G41z5O4efy2l/1vhHLprlK0AS/MtMuMh6/C7/lDFN7OqgPv/6JjlJ1RBK/+iS/7uFTFL/9kKOPplEbvxFMN6nZ7Se/fxIGlcL6Mr8NnJJsyVw+vwOCdGKtO0m/MDGFowtmRr+3UDGMmmlGv9O7IQfUnUO/abVbjQgVRL8LcMviPHk+v28dC2nmxhy/ep1oeaaFPz8anrIP+3RXP5A2yJ7G8GQ/b+5jyeVocT8RyCTeUFl4PzgsAHhLG4A/XRH8uESRhT8QPhuxMJSKP01ZMJBRU5A/SIqaKd7kkD+V/v8BgC2SPyqAk4yh3JM/5PLWwoRklT+oYkfJKBKYP1f8l2zHPJs/1+LYN91Znz+zr5dNsuWhPyYMDOlMyKM/OO9VKow7pT8Wi1OhzEymP5SOZnp/iKc/+HhYlT33qD/25YcjavmqP2RlE4Xk7rA/\",\"dtype\":\"float64\",\"shape\":[75]},\"y\":{\"__ndarray__\":\"GhExyth1ND/Sv8nbtpRIP2vylNV0PVE/aTum7souWD/At0SJ8fVgPw3Iuahxymc/MSNhhJWvcD/bTfBN02d3P2zb5nxnaoA/CD5h5MAGhz8NmeH1TyaQP+zrCsc9p5Y/LbKd76fGnz/bLW5ISEmmPww9YvTcQq8/JV2OstnstT8Er5Y7M8G+P0c+r3jqkcU/5h99k6ZBzj88bCIzFzjVP4enV8oyxN0//yH99nXg5D8qOpLLf0jtP5kqGJXUifQ/c9cS8kHP/D+/DpwzojQEQIEmwoanVwxA4lgXt9HgE0BSSZ2AJuIbQAMJih9jjiNA5q4l5INuK0AwTKYKRj0zQNv5fmq8/DpAaCJseHrtQkB/+zpwzoxKQM3MzMzMeFJAZmZmZmZqWEAAAAAAAFxeQM3MzMzMJmJAmpmZmZkfZUBmZmZmZhhoQDMzMzMzEWtAAAAAAAAKbkBmZmZmZoFwQM3MzMzM/XFAMzMzMzN6c0CamZmZmfZ0QAAAAAAAc3ZAZmZmZmbvd0DNzMzMzGt5QDMzMzMz6HpAmpmZmZlkfEAAAAAAAOF9QGZmZmZmXX9AZmZmZuZsgECamZmZGSuBQM3MzMxM6YFAAAAAAICngkAzMzMzs2WDQGZmZmbmI4RAmpmZmRnihEDNzMzMTKCFQAAAAACAXoZAMzMzM7Mch0BmZmZm5tqHQJqZmZkZmYhAzczMzExXiUAAAAAAgBWKQDMzMzOz04pAZmZmZuaRi0CamZmZGVCMQM3MzMxMDo1AAAAAAIDMjUAzMzMzs4qOQGZmZmbmSI9A\",\"dtype\":\"float64\",\"shape\":[75]}}},\"id\":\"5ec21b93-b1a5-4f05-9cbc-7b9f3a471929\",\"type\":\"ColumnDataSource\"},{\"attributes\":{\"fill_alpha\":{\"value\":0.1},\"fill_color\":{\"value\":\"#1f77b4\"},\"line_alpha\":{\"value\":0.1},\"line_color\":{\"value\":\"#1f77b4\"},\"x\":{\"field\":\"x\"},\"y\":{\"field\":\"y\"}},\"id\":\"b3eb4df9-1155-47ed-bc32-42be25b39774\",\"type\":\"Circle\"},{\"attributes\":{\"fill_alpha\":{\"value\":0.7},\"fill_color\":{\"value\":\"#4daf4a\"},\"line_alpha\":{\"value\":0.7},\"line_color\":{\"value\":\"#4daf4a\"},\"x\":{\"field\":\"x\"},\"y\":{\"field\":\"y\"}},\"id\":\"846b61e4-b59e-44b2-9acb-f51676c5f71c\",\"type\":\"Circle\"},{\"attributes\":{\"ticker\":null},\"id\":\"de490bee-977b-461e-b7ea-cf24a73b30a7\",\"type\":\"LogTickFormatter\"},{\"attributes\":{\"data_source\":{\"id\":\"17087b2c-f5a8-47c6-9b96-96aa2ea85d37\",\"type\":\"ColumnDataSource\"},\"glyph\":{\"id\":\"af0000d5-f869-452d-ad0d-627560a4d590\",\"type\":\"Line\"},\"hover_glyph\":null,\"muted_glyph\":null,\"nonselection_glyph\":{\"id\":\"8ea078fd-3412-4d82-8845-46c269c49dfa\",\"type\":\"Line\"},\"selection_glyph\":null,\"view\":{\"id\":\"a7301d71-edb3-41ca-8753-3f9343e0f576\",\"type\":\"CDSView\"}},\"id\":\"3dddeddf-2d5c-48fb-89b6-cfbed905d495\",\"type\":\"GlyphRenderer\"},{\"attributes\":{\"below\":[{\"id\":\"6652f36f-37b4-4bfd-a7d0-cff73694fa89\",\"type\":\"LinearAxis\"}],\"left\":[{\"id\":\"dabc1296-e9e2-4a72-9a8c-f05b57915c9d\",\"type\":\"LinearAxis\"}],\"plot_height\":500,\"plot_width\":400,\"renderers\":[{\"id\":\"6652f36f-37b4-4bfd-a7d0-cff73694fa89\",\"type\":\"LinearAxis\"},{\"id\":\"26249167-1db8-4cff-aff9-e1fcb7930f89\",\"type\":\"Grid\"},{\"id\":\"dabc1296-e9e2-4a72-9a8c-f05b57915c9d\",\"type\":\"LinearAxis\"},{\"id\":\"d95e4e2e-a0f8-4f82-a6aa-f949075cdad8\",\"type\":\"Grid\"},{\"id\":\"34a88de3-aad9-44e8-9e48-b7827e9bf78f\",\"type\":\"BoxAnnotation\"},{\"id\":\"13bf7263-ce73-4d68-81ea-a7b3f96aab8d\",\"type\":\"GlyphRenderer\"},{\"id\":\"9f4bad05-d08e-4096-b5a6-51ade3f0d492\",\"type\":\"GlyphRenderer\"},{\"id\":\"53dbb335-aef5-489a-b4fd-bbb61e6f5a20\",\"type\":\"GlyphRenderer\"},{\"id\":\"7783cdad-aa80-4945-a37c-94ff56826760\",\"type\":\"GlyphRenderer\"},{\"id\":\"3191bc26-dcd6-4c0d-af39-0b1a144dd65d\",\"type\":\"GlyphRenderer\"}],\"title\":{\"id\":\"7d46ff01-0a21-4560-9059-721c6383a638\",\"type\":\"Title\"},\"toolbar\":{\"id\":\"41a6a4ce-f1b0-47aa-a5f6-20b20b10c59c\",\"type\":\"Toolbar\"},\"toolbar_location\":null,\"x_range\":{\"id\":\"db8d14b1-89f1-4911-9945-374f41417413\",\"type\":\"Range1d\"},\"x_scale\":{\"id\":\"d8a4d562-71db-439e-a53e-7716907ad9cd\",\"type\":\"LinearScale\"},\"y_range\":{\"id\":\"ccbcc013-3c2c-47b9-97fd-3437d2495427\",\"type\":\"Range1d\"},\"y_scale\":{\"id\":\"5ad92edd-e4a4-449a-a5eb-a9da2156b474\",\"type\":\"LinearScale\"}},\"id\":\"b8409100-0fa7-4fef-b45b-bc7569a87c88\",\"subtype\":\"Figure\",\"type\":\"Plot\"},{\"attributes\":{\"data_source\":{\"id\":\"320ed880-dd2d-4416-953a-0f05a905b708\",\"type\":\"ColumnDataSource\"},\"glyph\":{\"id\":\"b080d75a-6e38-4c37-bc5f-10d9b9f36ebd\",\"type\":\"Circle\"},\"hover_glyph\":null,\"muted_glyph\":null,\"nonselection_glyph\":{\"id\":\"b3eb4df9-1155-47ed-bc32-42be25b39774\",\"type\":\"Circle\"},\"selection_glyph\":null,\"view\":{\"id\":\"ca79b233-fb28-40e9-9cb8-992f62952c0e\",\"type\":\"CDSView\"}},\"id\":\"5b1f1dab-d533-458a-854a-a91c22cf54a3\",\"type\":\"GlyphRenderer\"},{\"attributes\":{\"line_color\":\"#4daf4a\",\"line_width\":1.5,\"x\":{\"field\":\"x\"},\"y\":{\"field\":\"y\"}},\"id\":\"af0000d5-f869-452d-ad0d-627560a4d590\",\"type\":\"Line\"},{\"attributes\":{\"callback\":null,\"column_names\":[\"x\",\"y\"],\"data\":{\"x\":{\"__ndarray__\":\"R/BN0gTyDr8B0a4MpJEOv0p089OqvA2/2WyboR3PDL+M8Isbd9QLv6YydtV6zAq/tJnZabu2Cb8YAt0WyJIIv6Hp7B0qYAe/K96Y0o0eBr+VXuGssM0Evy24/7o0bQO/F+enzloGAr8X32o/82wAvzPDCE7JVfa+gKSILTSq7D6MknpBLncXP1VNgRB8/Cs/MMCjqxS8Oj9JVQl3sCVHPzcS6Vsv9FI/lcxadCjaXT98AmLtqedkP6FmZdBQfWU/Gp0/lGCsYD8K/iDoeZlXP1CX2Jze/k8/UX1Jy8YzRT+2GFAh/CQ8P5fvG9SnGTI/ClJmFGGQJT9kbzB9W+MVPyaB5L0nIQI/8ArOc7G41z5O4efy2l/1vhHLprlK0AS/MtMuMh6/C7/lDFN7OqgPv/6JjlJ1RBK/+iS/7uFTFL/9kKOPplEbvxFMN6nZ7Se/fxIGlcL6Mr8NnJJsyVw+vwOCdGKtO0m/MDGFowtmRr+3UDGMmmlGv9O7IQfUnUO/abVbjQgVRL8LcMviPHk+v28dC2nmxhy/ep1oeaaFPz8anrIP+3RXP5A2yJ7G8GQ/b+5jyeVocT8RyCTeUFl4PzgsAHhLG4A/XRH8uESRhT8QPhuxMJSKP01ZMJBRU5A/SIqaKd7kkD+V/v8BgC2SPyqAk4yh3JM/5PLWwoRklT+oYkfJKBKYP1f8l2zHPJs/1+LYN91Znz+zr5dNsuWhPyYMDOlMyKM/OO9VKow7pT8Wi1OhzEymP5SOZnp/iKc/+HhYlT33qD/25YcjavmqP2RlE4Xk7rA/\",\"dtype\":\"float64\",\"shape\":[75]},\"y\":{\"__ndarray__\":\"GhExyth1ND/Sv8nbtpRIP2vylNV0PVE/aTum7souWD/At0SJ8fVgPw3Iuahxymc/MSNhhJWvcD/bTfBN02d3P2zb5nxnaoA/CD5h5MAGhz8NmeH1TyaQP+zrCsc9p5Y/LbKd76fGnz/bLW5ISEmmPww9YvTcQq8/JV2OstnstT8Er5Y7M8G+P0c+r3jqkcU/5h99k6ZBzj88bCIzFzjVP4enV8oyxN0//yH99nXg5D8qOpLLf0jtP5kqGJXUifQ/c9cS8kHP/D+/DpwzojQEQIEmwoanVwxA4lgXt9HgE0BSSZ2AJuIbQAMJih9jjiNA5q4l5INuK0AwTKYKRj0zQNv5fmq8/DpAaCJseHrtQkB/+zpwzoxKQM3MzMzMeFJAZmZmZmZqWEAAAAAAAFxeQM3MzMzMJmJAmpmZmZkfZUBmZmZmZhhoQDMzMzMzEWtAAAAAAAAKbkBmZmZmZoFwQM3MzMzM/XFAMzMzMzN6c0CamZmZmfZ0QAAAAAAAc3ZAZmZmZmbvd0DNzMzMzGt5QDMzMzMz6HpAmpmZmZlkfEAAAAAAAOF9QGZmZmZmXX9AZmZmZuZsgECamZmZGSuBQM3MzMxM6YFAAAAAAICngkAzMzMzs2WDQGZmZmbmI4RAmpmZmRnihEDNzMzMTKCFQAAAAACAXoZAMzMzM7Mch0BmZmZm5tqHQJqZmZkZmYhAzczMzExXiUAAAAAAgBWKQDMzMzOz04pAZmZmZuaRi0CamZmZGVCMQM3MzMxMDo1AAAAAAIDMjUAzMzMzs4qOQGZmZmbmSI9A\",\"dtype\":\"float64\",\"shape\":[75]}}},\"id\":\"567a6139-1ffd-490f-ba13-5931b3258d94\",\"type\":\"ColumnDataSource\"},{\"attributes\":{\"line_alpha\":0.6,\"line_color\":\"#984ea3\",\"line_width\":3,\"x\":{\"field\":\"x\"},\"y\":{\"field\":\"y\"}},\"id\":\"7349c63d-2554-4a87-a9eb-4b02bde6d060\",\"type\":\"Line\"},{\"attributes\":{\"line_alpha\":0.1,\"line_color\":\"#1f77b4\",\"line_width\":1.5,\"x\":{\"field\":\"x\"},\"y\":{\"field\":\"y\"}},\"id\":\"8ea078fd-3412-4d82-8845-46c269c49dfa\",\"type\":\"Line\"},{\"attributes\":{\"source\":{\"id\":\"17087b2c-f5a8-47c6-9b96-96aa2ea85d37\",\"type\":\"ColumnDataSource\"}},\"id\":\"a7301d71-edb3-41ca-8753-3f9343e0f576\",\"type\":\"CDSView\"},{\"attributes\":{\"fill_alpha\":{\"value\":0.7},\"fill_color\":{\"value\":\"#984ea3\"},\"line_alpha\":{\"value\":0.7},\"line_color\":{\"value\":\"#984ea3\"},\"x\":{\"field\":\"x\"},\"y\":{\"field\":\"y\"}},\"id\":\"a94ad391-82bd-4bec-a531-bbf9fa24da88\",\"type\":\"Square\"},{\"attributes\":{\"callback\":null,\"end\":0.0036797049326,\"start\":-0.0007041461926},\"id\":\"b5abf7bb-863e-43cd-94df-7a0977b83bce\",\"type\":\"Range1d\"},{\"attributes\":{\"items\":[{\"id\":\"d986bd16-df00-4dc3-b1ba-f6ea3b56ca9f\",\"type\":\"LegendItem\"},{\"id\":\"1c82c267-e798-4ae2-a90d-85101ffbb4cc\",\"type\":\"LegendItem\"},{\"id\":\"bfa4866f-5ef5-46cf-83af-5d1bb5f984a8\",\"type\":\"LegendItem\"}],\"label_text_font_size\":{\"value\":\"8pt\"},\"location\":[10,-30],\"plot\":{\"id\":\"80e4f6de-315d-4c52-9f19-e06aec0f3b90\",\"subtype\":\"Figure\",\"type\":\"Plot\"}},\"id\":\"356d9685-fd0d-44c9-97c4-8c0aa17df149\",\"type\":\"Legend\"},{\"attributes\":{\"source\":{\"id\":\"5ec21b93-b1a5-4f05-9cbc-7b9f3a471929\",\"type\":\"ColumnDataSource\"}},\"id\":\"a348bca9-02da-4468-8362-05cfdf0b491d\",\"type\":\"CDSView\"},{\"attributes\":{\"fill_alpha\":{\"value\":0.1},\"fill_color\":{\"value\":\"#1f77b4\"},\"line_alpha\":{\"value\":0.1},\"line_color\":{\"value\":\"#1f77b4\"},\"x\":{\"field\":\"x\"},\"y\":{\"field\":\"y\"}},\"id\":\"c17c9b29-223f-4c92-ac44-93ccc1454974\",\"type\":\"Square\"},{\"attributes\":{\"data_source\":{\"id\":\"5ec21b93-b1a5-4f05-9cbc-7b9f3a471929\",\"type\":\"ColumnDataSource\"},\"glyph\":{\"id\":\"a94ad391-82bd-4bec-a531-bbf9fa24da88\",\"type\":\"Square\"},\"hover_glyph\":null,\"muted_glyph\":null,\"nonselection_glyph\":{\"id\":\"c17c9b29-223f-4c92-ac44-93ccc1454974\",\"type\":\"Square\"},\"selection_glyph\":null,\"view\":{\"id\":\"a348bca9-02da-4468-8362-05cfdf0b491d\",\"type\":\"CDSView\"}},\"id\":\"c233a8d2-3918-4b90-b891-fc4dd169e8cf\",\"type\":\"GlyphRenderer\"},{\"attributes\":{\"callback\":null,\"column_names\":[\"x\",\"y\"],\"data\":{\"x\":{\"__ndarray__\":\"AAAAAAAAAAAAAAAAAAAAAAAAAAAAAAAAAAAAAAAAAAAAAAAAAAAAAAAAAAAAAAAAAAAAAAAAAAAAAAAAAAAAAAAAAAAAAAAAAAAAAAAAAAAAAAAAAAAAAAAAAAAAAAAAAAAAAAAAAAAAAAAAAAAAAAAAAAAAAAAAecoBJz5gIj8jjzHgWzMaPxRODXWsrSI/DJf3fJhNNz/fyAL+Xv5CP4Fzveu36FA/WVxJFiNXWT80BSuBprthP3OovORaUGI//yKq6PYvXD+dfF07llRUP6sdkeF4/Es/BW6pofzrQj+JBUMAJYM5P34S1GAjvTA/RvFkddHEJD9tVtyA4mkWP3c6V2JW7QU/ZNwsEBtI5z5tOyXPXI7qvtGO8b2xowK/JyMc/tBFCr8pD/Wf0xAPv8KYof7p7RG/v6Ne4PklFL8N4tOMrh0bv/R7KWDlzii/mUvBfivtM78xHLBh+pFAv5Y4QiGXMEa/v5KZvl+URb/XoCXAw3lEv9r+s79mXkW/Dz3tPppnR79/KrYfM0tHv7qV9x7lpD6/mUvBfivtIz9D5jYY5NJTP0lxQT6weGU/2sx8YvjjcT80EHRBMBh6P3TMQEBafoE/bgjz9p7Mhj8KyvB8X4yLP8VCt9tRQ48/Tx0JBqDpkD9ahdK50MyRP1/B1bg5wJI/bokQ4sBnlD8/on4hKNqWP9WZsDrIpJo/3jolPnw7nz8RWvjCsDiiP1+rn1/ddqQ/qh/EY3k2pj/62LOgXamnP0I/hqAAEKk/FuevXciNqj8kQoYCdGesPyJHeh7KOrE/\",\"dtype\":\"float64\",\"shape\":[75]},\"y\":{\"__ndarray__\":\"S/O/Q+51ND/430zAtpRIP2vylNV0PVE/QxsjCssuWD/TR4Z78fVgP+inNsRxymc/OuuBfZWvcD/u3TFA02d3P2d3VoBnaoA/CD5h5MAGhz/1pA8HUCaQP+zrCsc9p5Y/Fb7LAKjGnz/nJ9c/SEmmPwBD+fzcQq8/FOZwv9nstT8Er5Y7M8G+P0c+r3jqkcU/yK72qKZBzj+tM989FzjVPxbgmr8yxN0/cOm5AXbg5D+5ctXAf0jtP5kqGJXUifQ/DsrqDELP/D8MCAhBojQEQDItVnmnVwxAiFXNvdHgE0BSSZ2AJuIbQAMJih9jjiNA5q4l5INuK0CPVN/5RT0zQHzxRXu8/DpAOZ7PgHrtQkAg8wGBzoxKQBSTN8DMeFJA2NmQf2ZqWEAAAAAAAFxeQEQX1LfMJmJAmpmZmZkfZUBmZmZmZhhoQLzoK0gzEWtAAAAAAAAKbkCiC+pbZoFwQAhyUMLM/XFA+I2vPTN6c0AQ5KCEmfZ0QAAAAAAAc3ZA8Btfe2bvd0AIclDCzGt5QPeNrz0z6HpAEOSghJlkfEAAAAAAAOF9QKML6ltmXX9ABTkoYeZsgED7xteeGSuBQAhyUMJM6YFAAAAAAICngkD4ja89s2WDQAU5KGHmI4RA+8bXnhnihEAIclDCTKCFQAAAAACAXoZA+I2vPbMch0AFOShh5tqHQPvG154ZmYhACHJQwkxXiUAAAAAAgBWKQPeNrz2z04pABTkoYeaRi0D7xteeGVCMQAlyUMJMDo1AAAAAAIDMjUD3ja89s4qOQGZmZmbmSI9A\",\"dtype\":\"float64\",\"shape\":[75]}}},\"id\":\"5814511b-afb9-46c9-b101-0ec7197d4483\",\"type\":\"ColumnDataSource\"},{\"attributes\":{\"source\":{\"id\":\"567a6139-1ffd-490f-ba13-5931b3258d94\",\"type\":\"ColumnDataSource\"}},\"id\":\"89ac565f-95d8-44f9-b0b5-9495b64fc0fe\",\"type\":\"CDSView\"},{\"attributes\":{\"source\":{\"id\":\"5814511b-afb9-46c9-b101-0ec7197d4483\",\"type\":\"ColumnDataSource\"}},\"id\":\"cad05d27-e6ba-4d85-a573-f553a037d24d\",\"type\":\"CDSView\"},{\"attributes\":{\"line_alpha\":0.1,\"line_color\":\"#1f77b4\",\"line_width\":3,\"x\":{\"field\":\"x\"},\"y\":{\"field\":\"y\"}},\"id\":\"ea1e472b-3551-4898-b9ca-c320d460add1\",\"type\":\"Line\"},{\"attributes\":{\"data_source\":{\"id\":\"567a6139-1ffd-490f-ba13-5931b3258d94\",\"type\":\"ColumnDataSource\"},\"glyph\":{\"id\":\"7349c63d-2554-4a87-a9eb-4b02bde6d060\",\"type\":\"Line\"},\"hover_glyph\":null,\"muted_glyph\":null,\"nonselection_glyph\":{\"id\":\"ea1e472b-3551-4898-b9ca-c320d460add1\",\"type\":\"Line\"},\"selection_glyph\":null,\"view\":{\"id\":\"89ac565f-95d8-44f9-b0b5-9495b64fc0fe\",\"type\":\"CDSView\"}},\"id\":\"8d172435-bf28-49f5-83d2-08c5e0f253a3\",\"type\":\"GlyphRenderer\"},{\"attributes\":{\"toolbar\":{\"id\":\"fcf9446b-59f2-4522-95f8-5c392777ab26\",\"type\":\"ProxyToolbar\"},\"toolbar_location\":\"above\"},\"id\":\"cad65093-2ccc-47e5-ab54-8b2fcff4fdec\",\"type\":\"ToolbarBox\"},{\"attributes\":{\"label\":{\"value\":\"CLIRAD `coolr_bands`\"},\"renderers\":[{\"id\":\"6adfd977-5c4f-4fcb-baaf-9c2dacd59c1c\",\"type\":\"GlyphRenderer\"}]},\"id\":\"d986bd16-df00-4dc3-b1ba-f6ea3b56ca9f\",\"type\":\"LegendItem\"},{\"attributes\":{\"children\":[{\"id\":\"cad65093-2ccc-47e5-ab54-8b2fcff4fdec\",\"type\":\"ToolbarBox\"},{\"id\":\"0828d953-91ca-45f2-9800-b8f05feecf79\",\"type\":\"Column\"}]},\"id\":\"0e80dd0f-c476-49cd-b080-b2d564ce4d59\",\"type\":\"Column\"},{\"attributes\":{},\"id\":\"9ef615aa-f3a8-48c9-bf28-ddbe389a526d\",\"type\":\"BasicTickFormatter\"},{\"attributes\":{\"callback\":null,\"column_names\":[\"x\",\"y\"],\"data\":{\"x\":{\"__ndarray__\":\"WhAnirzqRb98jIAuxOhFv41vtS3D3kW/+WBda0nSRb/BaPEV8MRFvxb8hkX/uEW/HdXhWlSrRb/xMiV4CZtFv2eeOOxUlUW/fWKOQVmSRb8Pwcl5x4tFvwHAEBSDi0W/pQR6tEaGRb+TLCPhRapFvw+UGo4TekW/oZeOGpYARL98VI528ghAv2ttgdtiYzK/MF0Z6QS9DT8msY4GgdFCPx+eGOcl/lU/OKRXX3IeZD8wIYFnxMptP+RNWg72mm0/08TpClB4ZD9TXTyTaI9YP9h8t74POks/djOkuWuAPD+m0q/deWgtP8w+OmB9+x0/+yrvghmGDD9xf9mTAQfzPn6jtDkHZMo+bEAX69gYjb5tZ8Mu2ADkvnJP5qjm+/i+G5tyurV5Ab9F/srL0cAEv3Rsn7aP2gm/TTw0Dh/uDr9J9Kg3XZsTv+rUXQ8H6xu/+2J4blYLIL87oVM7BqEkvwY3+O5o2DC/+JPM31NDNb8DS/tXA5Qxv5yvkTRV2BW/u8lK7aR2Lj/WQrPivVZGP6IUodculFQ/IFofHl+FXz/iSWYHqVNmP6fDaCh+JG4/M+ltt5alcz8fjcpbI/p4P837lVTBNn8/MYwCYF/bgz/qCbMfFT6IPyeVVmeolow/1zFn46x7kD8qlGlagLuSPyL3GbxUEZU/9dFOciyUlz/jcYYf8k+aPxa7J1bgQJ0/0QpnElA8oD/PML8XgsOhPwAYMstc6KI/2OblAUOOoz93xQ1xDP6jP+0qFlKNfaQ/86Ts9ztJpT+rM/bZjMmmP4v4Aj41Gqw/\",\"dtype\":\"float64\",\"shape\":[75]},\"y\":{\"__ndarray__\":\"GhExyth1ND/Sv8nbtpRIP2vylNV0PVE/aTum7souWD/At0SJ8fVgPw3Iuahxymc/MSNhhJWvcD/bTfBN02d3P2zb5nxnaoA/CD5h5MAGhz8NmeH1TyaQP+zrCsc9p5Y/LbKd76fGnz/bLW5ISEmmPww9YvTcQq8/JV2OstnstT8Er5Y7M8G+P0c+r3jqkcU/5h99k6ZBzj88bCIzFzjVP4enV8oyxN0//yH99nXg5D8qOpLLf0jtP5kqGJXUifQ/c9cS8kHP/D+/DpwzojQEQIEmwoanVwxA4lgXt9HgE0BSSZ2AJuIbQAMJih9jjiNA5q4l5INuK0AwTKYKRj0zQNv5fmq8/DpAaCJseHrtQkB/+zpwzoxKQM3MzMzMeFJAZmZmZmZqWEAAAAAAAFxeQM3MzMzMJmJAmpmZmZkfZUBmZmZmZhhoQDMzMzMzEWtAAAAAAAAKbkBmZmZmZoFwQM3MzMzM/XFAMzMzMzN6c0CamZmZmfZ0QAAAAAAAc3ZAZmZmZmbvd0DNzMzMzGt5QDMzMzMz6HpAmpmZmZlkfEAAAAAAAOF9QGZmZmZmXX9AZmZmZuZsgECamZmZGSuBQM3MzMxM6YFAAAAAAICngkAzMzMzs2WDQGZmZmbmI4RAmpmZmRnihEDNzMzMTKCFQAAAAACAXoZAMzMzM7Mch0BmZmZm5tqHQJqZmZkZmYhAzczMzExXiUAAAAAAgBWKQDMzMzOz04pAZmZmZuaRi0CamZmZGVCMQM3MzMxMDo1AAAAAAIDMjUAzMzMzs4qOQGZmZmbmSI9A\",\"dtype\":\"float64\",\"shape\":[75]}}},\"id\":\"320ed880-dd2d-4416-953a-0f05a905b708\",\"type\":\"ColumnDataSource\"},{\"attributes\":{\"fill_alpha\":{\"value\":0.1},\"fill_color\":{\"value\":\"#1f77b4\"},\"line_alpha\":{\"value\":0.1},\"line_color\":{\"value\":\"#1f77b4\"},\"x\":{\"field\":\"x\"},\"y\":{\"field\":\"y\"}},\"id\":\"3e15dc30-3c1c-4fd5-97a0-82eb619b7a64\",\"type\":\"Square\"},{\"attributes\":{\"line_alpha\":0.1,\"line_color\":\"#1f77b4\",\"line_dash\":[6],\"line_width\":5,\"x\":{\"field\":\"x\"},\"y\":{\"field\":\"y\"}},\"id\":\"79c7b9df-3b97-4bef-8d8e-9bbad614d3cf\",\"type\":\"Line\"},{\"attributes\":{\"line_color\":\"#4daf4a\",\"line_width\":1.5,\"x\":{\"field\":\"x\"},\"y\":{\"field\":\"y\"}},\"id\":\"dbe86324-e400-414f-9e05-55093b7a9c6e\",\"type\":\"Line\"},{\"attributes\":{\"data_source\":{\"id\":\"5814511b-afb9-46c9-b101-0ec7197d4483\",\"type\":\"ColumnDataSource\"},\"glyph\":{\"id\":\"07c6816d-5414-4720-a819-b4d3bcc7506b\",\"type\":\"Line\"},\"hover_glyph\":null,\"muted_glyph\":null,\"nonselection_glyph\":{\"id\":\"45c739c7-ea60-499d-997d-8f20c7e1d7a4\",\"type\":\"Line\"},\"selection_glyph\":null,\"view\":{\"id\":\"cad05d27-e6ba-4d85-a573-f553a037d24d\",\"type\":\"CDSView\"}},\"id\":\"13bf7263-ce73-4d68-81ea-a7b3f96aab8d\",\"type\":\"GlyphRenderer\"},{\"attributes\":{\"fill_alpha\":{\"value\":0.7},\"fill_color\":{\"value\":\"#984ea3\"},\"line_alpha\":{\"value\":0.7},\"line_color\":{\"value\":\"#984ea3\"},\"x\":{\"field\":\"x\"},\"y\":{\"field\":\"y\"}},\"id\":\"e6b776dd-b5cb-47e4-b86a-815319676863\",\"type\":\"Square\"},{\"attributes\":{\"callback\":null,\"column_names\":[\"x\",\"y\"],\"data\":{\"x\":{\"__ndarray__\":\"WhAnirzqRb98jIAuxOhFv41vtS3D3kW/+WBda0nSRb/BaPEV8MRFvxb8hkX/uEW/HdXhWlSrRb/xMiV4CZtFv2eeOOxUlUW/fWKOQVmSRb8Pwcl5x4tFvwHAEBSDi0W/pQR6tEaGRb+TLCPhRapFvw+UGo4TekW/oZeOGpYARL98VI528ghAv2ttgdtiYzK/MF0Z6QS9DT8msY4GgdFCPx+eGOcl/lU/OKRXX3IeZD8wIYFnxMptP+RNWg72mm0/08TpClB4ZD9TXTyTaI9YP9h8t74POks/djOkuWuAPD+m0q/deWgtP8w+OmB9+x0/+yrvghmGDD9xf9mTAQfzPn6jtDkHZMo+bEAX69gYjb5tZ8Mu2ADkvnJP5qjm+/i+G5tyurV5Ab9F/srL0cAEv3Rsn7aP2gm/TTw0Dh/uDr9J9Kg3XZsTv+rUXQ8H6xu/+2J4blYLIL87oVM7BqEkvwY3+O5o2DC/+JPM31NDNb8DS/tXA5Qxv5yvkTRV2BW/u8lK7aR2Lj/WQrPivVZGP6IUodculFQ/IFofHl+FXz/iSWYHqVNmP6fDaCh+JG4/M+ltt5alcz8fjcpbI/p4P837lVTBNn8/MYwCYF/bgz/qCbMfFT6IPyeVVmeolow/1zFn46x7kD8qlGlagLuSPyL3GbxUEZU/9dFOciyUlz/jcYYf8k+aPxa7J1bgQJ0/0QpnElA8oD/PML8XgsOhPwAYMstc6KI/2OblAUOOoz93xQ1xDP6jP+0qFlKNfaQ/86Ts9ztJpT+rM/bZjMmmP4v4Aj41Gqw/\",\"dtype\":\"float64\",\"shape\":[75]},\"y\":{\"__ndarray__\":\"GhExyth1ND/Sv8nbtpRIP2vylNV0PVE/aTum7souWD/At0SJ8fVgPw3Iuahxymc/MSNhhJWvcD/bTfBN02d3P2zb5nxnaoA/CD5h5MAGhz8NmeH1TyaQP+zrCsc9p5Y/LbKd76fGnz/bLW5ISEmmPww9YvTcQq8/JV2OstnstT8Er5Y7M8G+P0c+r3jqkcU/5h99k6ZBzj88bCIzFzjVP4enV8oyxN0//yH99nXg5D8qOpLLf0jtP5kqGJXUifQ/c9cS8kHP/D+/DpwzojQEQIEmwoanVwxA4lgXt9HgE0BSSZ2AJuIbQAMJih9jjiNA5q4l5INuK0AwTKYKRj0zQNv5fmq8/DpAaCJseHrtQkB/+zpwzoxKQM3MzMzMeFJAZmZmZmZqWEAAAAAAAFxeQM3MzMzMJmJAmpmZmZkfZUBmZmZmZhhoQDMzMzMzEWtAAAAAAAAKbkBmZmZmZoFwQM3MzMzM/XFAMzMzMzN6c0CamZmZmfZ0QAAAAAAAc3ZAZmZmZmbvd0DNzMzMzGt5QDMzMzMz6HpAmpmZmZlkfEAAAAAAAOF9QGZmZmZmXX9AZmZmZuZsgECamZmZGSuBQM3MzMxM6YFAAAAAAICngkAzMzMzs2WDQGZmZmbmI4RAmpmZmRnihEDNzMzMTKCFQAAAAACAXoZAMzMzM7Mch0BmZmZm5tqHQJqZmZkZmYhAzczMzExXiUAAAAAAgBWKQDMzMzOz04pAZmZmZuaRi0CamZmZGVCMQM3MzMxMDo1AAAAAAIDMjUAzMzMzs4qOQGZmZmbmSI9A\",\"dtype\":\"float64\",\"shape\":[75]}}},\"id\":\"ad4b76bd-d19b-43ad-8f39-e5aa52737bc3\",\"type\":\"ColumnDataSource\"},{\"attributes\":{\"label\":{\"value\":\"WGT igg=10 wgt_flux=2\"},\"renderers\":[{\"id\":\"c233a8d2-3918-4b90-b891-fc4dd169e8cf\",\"type\":\"GlyphRenderer\"},{\"id\":\"8d172435-bf28-49f5-83d2-08c5e0f253a3\",\"type\":\"GlyphRenderer\"}]},\"id\":\"bfa4866f-5ef5-46cf-83af-5d1bb5f984a8\",\"type\":\"LegendItem\"},{\"attributes\":{\"callback\":null,\"end\":0.01,\"start\":1020},\"id\":\"ccbcc013-3c2c-47b9-97fd-3437d2495427\",\"type\":\"Range1d\"},{\"attributes\":{\"callback\":null,\"column_names\":[\"x\",\"y\"],\"data\":{\"x\":{\"__ndarray__\":\"R/BN0gTyDr8B0a4MpJEOv0p089OqvA2/2WyboR3PDL+M8Isbd9QLv6YydtV6zAq/tJnZabu2Cb8YAt0WyJIIv6Hp7B0qYAe/K96Y0o0eBr+VXuGssM0Evy24/7o0bQO/F+enzloGAr8X32o/82wAvzPDCE7JVfa+gKSILTSq7D6MknpBLncXP1VNgRB8/Cs/MMCjqxS8Oj9JVQl3sCVHPzcS6Vsv9FI/lcxadCjaXT98AmLtqedkP6FmZdBQfWU/Gp0/lGCsYD8K/iDoeZlXP1CX2Jze/k8/UX1Jy8YzRT+2GFAh/CQ8P5fvG9SnGTI/ClJmFGGQJT9kbzB9W+MVPyaB5L0nIQI/8ArOc7G41z5O4efy2l/1vhHLprlK0AS/MtMuMh6/C7/lDFN7OqgPv/6JjlJ1RBK/+iS/7uFTFL/9kKOPplEbvxFMN6nZ7Se/fxIGlcL6Mr8NnJJsyVw+vwOCdGKtO0m/MDGFowtmRr+3UDGMmmlGv9O7IQfUnUO/abVbjQgVRL8LcMviPHk+v28dC2nmxhy/ep1oeaaFPz8anrIP+3RXP5A2yJ7G8GQ/b+5jyeVocT8RyCTeUFl4PzgsAHhLG4A/XRH8uESRhT8QPhuxMJSKP01ZMJBRU5A/SIqaKd7kkD+V/v8BgC2SPyqAk4yh3JM/5PLWwoRklT+oYkfJKBKYP1f8l2zHPJs/1+LYN91Znz+zr5dNsuWhPyYMDOlMyKM/OO9VKow7pT8Wi1OhzEymP5SOZnp/iKc/+HhYlT33qD/25YcjavmqP2RlE4Xk7rA/\",\"dtype\":\"float64\",\"shape\":[75]},\"y\":{\"__ndarray__\":\"GhExyth1ND/Sv8nbtpRIP2vylNV0PVE/aTum7souWD/At0SJ8fVgPw3Iuahxymc/MSNhhJWvcD/bTfBN02d3P2zb5nxnaoA/CD5h5MAGhz8NmeH1TyaQP+zrCsc9p5Y/LbKd76fGnz/bLW5ISEmmPww9YvTcQq8/JV2OstnstT8Er5Y7M8G+P0c+r3jqkcU/5h99k6ZBzj88bCIzFzjVP4enV8oyxN0//yH99nXg5D8qOpLLf0jtP5kqGJXUifQ/c9cS8kHP/D+/DpwzojQEQIEmwoanVwxA4lgXt9HgE0BSSZ2AJuIbQAMJih9jjiNA5q4l5INuK0AwTKYKRj0zQNv5fmq8/DpAaCJseHrtQkB/+zpwzoxKQM3MzMzMeFJAZmZmZmZqWEAAAAAAAFxeQM3MzMzMJmJAmpmZmZkfZUBmZmZmZhhoQDMzMzMzEWtAAAAAAAAKbkBmZmZmZoFwQM3MzMzM/XFAMzMzMzN6c0CamZmZmfZ0QAAAAAAAc3ZAZmZmZmbvd0DNzMzMzGt5QDMzMzMz6HpAmpmZmZlkfEAAAAAAAOF9QGZmZmZmXX9AZmZmZuZsgECamZmZGSuBQM3MzMxM6YFAAAAAAICngkAzMzMzs2WDQGZmZmbmI4RAmpmZmRnihEDNzMzMTKCFQAAAAACAXoZAMzMzM7Mch0BmZmZm5tqHQJqZmZkZmYhAzczMzExXiUAAAAAAgBWKQDMzMzOz04pAZmZmZuaRi0CamZmZGVCMQM3MzMxMDo1AAAAAAIDMjUAzMzMzs4qOQGZmZmbmSI9A\",\"dtype\":\"float64\",\"shape\":[75]}}},\"id\":\"74e5af7b-eb6f-4213-87d7-c0d47aa64fa9\",\"type\":\"ColumnDataSource\"},{\"attributes\":{\"axis_label\":\"pressure [mb]\",\"formatter\":{\"id\":\"de490bee-977b-461e-b7ea-cf24a73b30a7\",\"type\":\"LogTickFormatter\"},\"plot\":{\"id\":\"80e4f6de-315d-4c52-9f19-e06aec0f3b90\",\"subtype\":\"Figure\",\"type\":\"Plot\"},\"ticker\":{\"id\":\"9be54b67-fca4-4f03-8f58-fd60e85148f5\",\"type\":\"LogTicker\"}},\"id\":\"9358cc7b-cac0-471b-8e06-11abcd38d087\",\"type\":\"LogAxis\"},{\"attributes\":{\"source\":{\"id\":\"4390744f-90b7-4d80-a0a7-480d5eff9eca\",\"type\":\"ColumnDataSource\"}},\"id\":\"ade259bf-096f-49d1-9b9c-f04656587cf4\",\"type\":\"CDSView\"},{\"attributes\":{\"line_alpha\":0.1,\"line_color\":\"#1f77b4\",\"line_width\":1.5,\"x\":{\"field\":\"x\"},\"y\":{\"field\":\"y\"}},\"id\":\"c3ea7487-b5f8-46f9-b8ea-5bdc816da81b\",\"type\":\"Line\"},{\"attributes\":{\"plot\":{\"id\":\"80e4f6de-315d-4c52-9f19-e06aec0f3b90\",\"subtype\":\"Figure\",\"type\":\"Plot\"},\"ticker\":{\"id\":\"b7392e63-199b-43a9-9927-148cc1f3318b\",\"type\":\"BasicTicker\"}},\"id\":\"b7b07718-04e4-4cdf-b5b3-a1cd0290f00c\",\"type\":\"Grid\"},{\"attributes\":{\"line_alpha\":0.6,\"line_color\":\"#e41a1c\",\"line_dash\":[6],\"line_width\":5,\"x\":{\"field\":\"x\"},\"y\":{\"field\":\"y\"}},\"id\":\"f91f3ed0-abde-4f98-96ad-8a57ea7d27ff\",\"type\":\"Line\"},{\"attributes\":{\"data_source\":{\"id\":\"4390744f-90b7-4d80-a0a7-480d5eff9eca\",\"type\":\"ColumnDataSource\"},\"glyph\":{\"id\":\"e6b776dd-b5cb-47e4-b86a-815319676863\",\"type\":\"Square\"},\"hover_glyph\":null,\"muted_glyph\":null,\"nonselection_glyph\":{\"id\":\"3e15dc30-3c1c-4fd5-97a0-82eb619b7a64\",\"type\":\"Square\"},\"selection_glyph\":null,\"view\":{\"id\":\"ade259bf-096f-49d1-9b9c-f04656587cf4\",\"type\":\"CDSView\"}},\"id\":\"7783cdad-aa80-4945-a37c-94ff56826760\",\"type\":\"GlyphRenderer\"},{\"attributes\":{\"axis_label\":\"cooling rate [K/day]\",\"formatter\":{\"id\":\"0648e4ce-803e-4222-901c-fe6f0708f049\",\"type\":\"BasicTickFormatter\"},\"plot\":{\"id\":\"80e4f6de-315d-4c52-9f19-e06aec0f3b90\",\"subtype\":\"Figure\",\"type\":\"Plot\"},\"ticker\":{\"id\":\"b7392e63-199b-43a9-9927-148cc1f3318b\",\"type\":\"BasicTicker\"}},\"id\":\"ce5d8c67-051e-44c9-a17a-3718836ca8f1\",\"type\":\"LinearAxis\"},{\"attributes\":{\"active_drag\":\"auto\",\"active_inspect\":\"auto\",\"active_scroll\":\"auto\",\"active_tap\":\"auto\",\"tools\":[{\"id\":\"a4cb92d6-013e-4520-90c5-3ca1c5c5f7c4\",\"type\":\"PanTool\"},{\"id\":\"44c17edc-27e7-4991-af4b-b8fc85f32cbf\",\"type\":\"WheelZoomTool\"},{\"id\":\"d17d55c4-f5f9-4965-ab4b-a857e670487e\",\"type\":\"BoxZoomTool\"},{\"id\":\"bde44b9d-030a-4405-8d95-de590ee0fb10\",\"type\":\"SaveTool\"},{\"id\":\"3d5c75ed-ba2c-469c-9176-95b04a1fcaeb\",\"type\":\"ResetTool\"},{\"id\":\"0cf47aa1-cc84-40ed-b5a5-99b1a15f9aac\",\"type\":\"HelpTool\"}]},\"id\":\"a9b68539-7139-4c02-b822-c01e60c4f115\",\"type\":\"Toolbar\"},{\"attributes\":{},\"id\":\"46cf4fff-44dc-4f5e-abe7-53703876a56c\",\"type\":\"LinearScale\"},{\"attributes\":{\"callback\":null,\"end\":0.01,\"start\":1020},\"id\":\"70fdc799-4aca-431d-a59d-4d6263b1381d\",\"type\":\"Range1d\"},{\"attributes\":{\"fill_alpha\":{\"value\":0.1},\"fill_color\":{\"value\":\"#1f77b4\"},\"line_alpha\":{\"value\":0.1},\"line_color\":{\"value\":\"#1f77b4\"},\"x\":{\"field\":\"x\"},\"y\":{\"field\":\"y\"}},\"id\":\"04d64d38-8d58-4850-b887-92e03ad133e0\",\"type\":\"Circle\"},{\"attributes\":{\"num_minor_ticks\":10},\"id\":\"9be54b67-fca4-4f03-8f58-fd60e85148f5\",\"type\":\"LogTicker\"},{\"attributes\":{\"data_source\":{\"id\":\"7babccc2-8e0d-4eb6-a482-c9798aa2c924\",\"type\":\"ColumnDataSource\"},\"glyph\":{\"id\":\"846b61e4-b59e-44b2-9acb-f51676c5f71c\",\"type\":\"Circle\"},\"hover_glyph\":null,\"muted_glyph\":null,\"nonselection_glyph\":{\"id\":\"04d64d38-8d58-4850-b887-92e03ad133e0\",\"type\":\"Circle\"},\"selection_glyph\":null,\"view\":{\"id\":\"2fb8f8a7-e5f0-4ff2-9a3f-9790eef8a60b\",\"type\":\"CDSView\"}},\"id\":\"9f4bad05-d08e-4096-b5a6-51ade3f0d492\",\"type\":\"GlyphRenderer\"},{\"attributes\":{\"line_alpha\":0.1,\"line_color\":\"#1f77b4\",\"line_width\":3,\"x\":{\"field\":\"x\"},\"y\":{\"field\":\"y\"}},\"id\":\"ca3d7adc-56ce-411e-8410-d6c596f24fa3\",\"type\":\"Line\"},{\"attributes\":{\"plot\":null,\"text\":\"Log pressure scale\"},\"id\":\"9e18c5aa-54e6-4573-864e-7f433fd7065e\",\"type\":\"Title\"},{\"attributes\":{\"children\":[{\"id\":\"421d522f-cb9b-4c69-846b-5ec5e73b3770\",\"type\":\"Row\"}]},\"id\":\"0828d953-91ca-45f2-9800-b8f05feecf79\",\"type\":\"Column\"},{\"attributes\":{},\"id\":\"5ad92edd-e4a4-449a-a5eb-a9da2156b474\",\"type\":\"LinearScale\"},{\"attributes\":{},\"id\":\"d8a4d562-71db-439e-a53e-7716907ad9cd\",\"type\":\"LinearScale\"},{\"attributes\":{\"callback\":null,\"column_names\":[\"x\",\"y\"],\"data\":{\"x\":{\"__ndarray__\":\"WhAnirzqRb98jIAuxOhFv41vtS3D3kW/+WBda0nSRb/BaPEV8MRFvxb8hkX/uEW/HdXhWlSrRb/xMiV4CZtFv2eeOOxUlUW/fWKOQVmSRb8Pwcl5x4tFvwHAEBSDi0W/pQR6tEaGRb+TLCPhRapFvw+UGo4TekW/oZeOGpYARL98VI528ghAv2ttgdtiYzK/MF0Z6QS9DT8msY4GgdFCPx+eGOcl/lU/OKRXX3IeZD8wIYFnxMptP+RNWg72mm0/08TpClB4ZD9TXTyTaI9YP9h8t74POks/djOkuWuAPD+m0q/deWgtP8w+OmB9+x0/+yrvghmGDD9xf9mTAQfzPn6jtDkHZMo+bEAX69gYjb5tZ8Mu2ADkvnJP5qjm+/i+G5tyurV5Ab9F/srL0cAEv3Rsn7aP2gm/TTw0Dh/uDr9J9Kg3XZsTv+rUXQ8H6xu/+2J4blYLIL87oVM7BqEkvwY3+O5o2DC/+JPM31NDNb8DS/tXA5Qxv5yvkTRV2BW/u8lK7aR2Lj/WQrPivVZGP6IUodculFQ/IFofHl+FXz/iSWYHqVNmP6fDaCh+JG4/M+ltt5alcz8fjcpbI/p4P837lVTBNn8/MYwCYF/bgz/qCbMfFT6IPyeVVmeolow/1zFn46x7kD8qlGlagLuSPyL3GbxUEZU/9dFOciyUlz/jcYYf8k+aPxa7J1bgQJ0/0QpnElA8oD/PML8XgsOhPwAYMstc6KI/2OblAUOOoz93xQ1xDP6jP+0qFlKNfaQ/86Ts9ztJpT+rM/bZjMmmP4v4Aj41Gqw/\",\"dtype\":\"float64\",\"shape\":[75]},\"y\":{\"__ndarray__\":\"GhExyth1ND/Sv8nbtpRIP2vylNV0PVE/aTum7souWD/At0SJ8fVgPw3Iuahxymc/MSNhhJWvcD/bTfBN02d3P2zb5nxnaoA/CD5h5MAGhz8NmeH1TyaQP+zrCsc9p5Y/LbKd76fGnz/bLW5ISEmmPww9YvTcQq8/JV2OstnstT8Er5Y7M8G+P0c+r3jqkcU/5h99k6ZBzj88bCIzFzjVP4enV8oyxN0//yH99nXg5D8qOpLLf0jtP5kqGJXUifQ/c9cS8kHP/D+/DpwzojQEQIEmwoanVwxA4lgXt9HgE0BSSZ2AJuIbQAMJih9jjiNA5q4l5INuK0AwTKYKRj0zQNv5fmq8/DpAaCJseHrtQkB/+zpwzoxKQM3MzMzMeFJAZmZmZmZqWEAAAAAAAFxeQM3MzMzMJmJAmpmZmZkfZUBmZmZmZhhoQDMzMzMzEWtAAAAAAAAKbkBmZmZmZoFwQM3MzMzM/XFAMzMzMzN6c0CamZmZmfZ0QAAAAAAAc3ZAZmZmZmbvd0DNzMzMzGt5QDMzMzMz6HpAmpmZmZlkfEAAAAAAAOF9QGZmZmZmXX9AZmZmZuZsgECamZmZGSuBQM3MzMxM6YFAAAAAAICngkAzMzMzs2WDQGZmZmbmI4RAmpmZmRnihEDNzMzMTKCFQAAAAACAXoZAMzMzM7Mch0BmZmZm5tqHQJqZmZkZmYhAzczMzExXiUAAAAAAgBWKQDMzMzOz04pAZmZmZuaRi0CamZmZGVCMQM3MzMxMDo1AAAAAAIDMjUAzMzMzs4qOQGZmZmbmSI9A\",\"dtype\":\"float64\",\"shape\":[75]}}},\"id\":\"7babccc2-8e0d-4eb6-a482-c9798aa2c924\",\"type\":\"ColumnDataSource\"},{\"attributes\":{\"data_source\":{\"id\":\"74e5af7b-eb6f-4213-87d7-c0d47aa64fa9\",\"type\":\"ColumnDataSource\"},\"glyph\":{\"id\":\"2ffb6ff5-a5c4-4f82-b962-9e692659e9f7\",\"type\":\"Line\"},\"hover_glyph\":null,\"muted_glyph\":null,\"nonselection_glyph\":{\"id\":\"ca3d7adc-56ce-411e-8410-d6c596f24fa3\",\"type\":\"Line\"},\"selection_glyph\":null,\"view\":{\"id\":\"7288cbc0-9f58-4155-81bf-19807fb85784\",\"type\":\"CDSView\"}},\"id\":\"3191bc26-dcd6-4c0d-af39-0b1a144dd65d\",\"type\":\"GlyphRenderer\"},{\"attributes\":{\"axis_label\":\"cooling rate [K/day]\",\"formatter\":{\"id\":\"ffc8eb80-af22-4c43-8c99-da0c28f2f048\",\"type\":\"BasicTickFormatter\"},\"plot\":{\"id\":\"b8409100-0fa7-4fef-b45b-bc7569a87c88\",\"subtype\":\"Figure\",\"type\":\"Plot\"},\"ticker\":{\"id\":\"7c96c3d7-1f7f-4f1b-86d0-2f00412d3d00\",\"type\":\"BasicTicker\"}},\"id\":\"6652f36f-37b4-4bfd-a7d0-cff73694fa89\",\"type\":\"LinearAxis\"},{\"attributes\":{\"below\":[{\"id\":\"ce5d8c67-051e-44c9-a17a-3718836ca8f1\",\"type\":\"LinearAxis\"}],\"left\":[{\"id\":\"9358cc7b-cac0-471b-8e06-11abcd38d087\",\"type\":\"LogAxis\"}],\"plot_height\":500,\"plot_width\":560,\"renderers\":[{\"id\":\"ce5d8c67-051e-44c9-a17a-3718836ca8f1\",\"type\":\"LinearAxis\"},{\"id\":\"b7b07718-04e4-4cdf-b5b3-a1cd0290f00c\",\"type\":\"Grid\"},{\"id\":\"9358cc7b-cac0-471b-8e06-11abcd38d087\",\"type\":\"LogAxis\"},{\"id\":\"e3764472-e145-4ea8-8c4e-8c4011ca6d0f\",\"type\":\"Grid\"},{\"id\":\"9b1a4dfc-f136-4cf4-81c6-34942dcc260a\",\"type\":\"BoxAnnotation\"},{\"id\":\"6adfd977-5c4f-4fcb-baaf-9c2dacd59c1c\",\"type\":\"GlyphRenderer\"},{\"id\":\"5b1f1dab-d533-458a-854a-a91c22cf54a3\",\"type\":\"GlyphRenderer\"},{\"id\":\"3dddeddf-2d5c-48fb-89b6-cfbed905d495\",\"type\":\"GlyphRenderer\"},{\"id\":\"c233a8d2-3918-4b90-b891-fc4dd169e8cf\",\"type\":\"GlyphRenderer\"},{\"id\":\"8d172435-bf28-49f5-83d2-08c5e0f253a3\",\"type\":\"GlyphRenderer\"},{\"id\":\"356d9685-fd0d-44c9-97c4-8c0aa17df149\",\"type\":\"Legend\"}],\"right\":[{\"id\":\"356d9685-fd0d-44c9-97c4-8c0aa17df149\",\"type\":\"Legend\"}],\"title\":{\"id\":\"9e18c5aa-54e6-4573-864e-7f433fd7065e\",\"type\":\"Title\"},\"toolbar\":{\"id\":\"a9b68539-7139-4c02-b822-c01e60c4f115\",\"type\":\"Toolbar\"},\"toolbar_location\":null,\"x_range\":{\"id\":\"b5abf7bb-863e-43cd-94df-7a0977b83bce\",\"type\":\"Range1d\"},\"x_scale\":{\"id\":\"46cf4fff-44dc-4f5e-abe7-53703876a56c\",\"type\":\"LinearScale\"},\"y_range\":{\"id\":\"70fdc799-4aca-431d-a59d-4d6263b1381d\",\"type\":\"Range1d\"},\"y_scale\":{\"id\":\"554523a9-1f2c-46d1-875f-b46bfbb9ef9e\",\"type\":\"LogScale\"}},\"id\":\"80e4f6de-315d-4c52-9f19-e06aec0f3b90\",\"subtype\":\"Figure\",\"type\":\"Plot\"},{\"attributes\":{},\"id\":\"c94ad0d4-20ce-43ee-8b42-aad2315fc331\",\"type\":\"SaveTool\"},{\"attributes\":{\"tools\":[{\"id\":\"7ca60ce8-85a1-484e-94fc-558a5e50a5b3\",\"type\":\"PanTool\"},{\"id\":\"5fd5149b-0606-45d2-b42d-8a7562d98ba9\",\"type\":\"WheelZoomTool\"},{\"id\":\"d314967f-c799-4337-b60d-243c9abd0db8\",\"type\":\"BoxZoomTool\"},{\"id\":\"c94ad0d4-20ce-43ee-8b42-aad2315fc331\",\"type\":\"SaveTool\"},{\"id\":\"ee15a717-8215-4521-9e56-d2b4148f0a21\",\"type\":\"ResetTool\"},{\"id\":\"95bf2ec6-aa39-4e60-964d-d1d1a97c3c4d\",\"type\":\"HelpTool\"},{\"id\":\"a4cb92d6-013e-4520-90c5-3ca1c5c5f7c4\",\"type\":\"PanTool\"},{\"id\":\"44c17edc-27e7-4991-af4b-b8fc85f32cbf\",\"type\":\"WheelZoomTool\"},{\"id\":\"d17d55c4-f5f9-4965-ab4b-a857e670487e\",\"type\":\"BoxZoomTool\"},{\"id\":\"bde44b9d-030a-4405-8d95-de590ee0fb10\",\"type\":\"SaveTool\"},{\"id\":\"3d5c75ed-ba2c-469c-9176-95b04a1fcaeb\",\"type\":\"ResetTool\"},{\"id\":\"0cf47aa1-cc84-40ed-b5a5-99b1a15f9aac\",\"type\":\"HelpTool\"}]},\"id\":\"fcf9446b-59f2-4522-95f8-5c392777ab26\",\"type\":\"ProxyToolbar\"},{\"attributes\":{\"dimension\":1,\"plot\":{\"id\":\"80e4f6de-315d-4c52-9f19-e06aec0f3b90\",\"subtype\":\"Figure\",\"type\":\"Plot\"},\"ticker\":{\"id\":\"9be54b67-fca4-4f03-8f58-fd60e85148f5\",\"type\":\"LogTicker\"}},\"id\":\"e3764472-e145-4ea8-8c4e-8c4011ca6d0f\",\"type\":\"Grid\"},{\"attributes\":{\"source\":{\"id\":\"74e5af7b-eb6f-4213-87d7-c0d47aa64fa9\",\"type\":\"ColumnDataSource\"}},\"id\":\"7288cbc0-9f58-4155-81bf-19807fb85784\",\"type\":\"CDSView\"},{\"attributes\":{\"data_source\":{\"id\":\"ad4b76bd-d19b-43ad-8f39-e5aa52737bc3\",\"type\":\"ColumnDataSource\"},\"glyph\":{\"id\":\"dbe86324-e400-414f-9e05-55093b7a9c6e\",\"type\":\"Line\"},\"hover_glyph\":null,\"muted_glyph\":null,\"nonselection_glyph\":{\"id\":\"c3ea7487-b5f8-46f9-b8ea-5bdc816da81b\",\"type\":\"Line\"},\"selection_glyph\":null,\"view\":{\"id\":\"23345591-d882-43ed-beb9-51534efa026e\",\"type\":\"CDSView\"}},\"id\":\"53dbb335-aef5-489a-b4fd-bbb61e6f5a20\",\"type\":\"GlyphRenderer\"},{\"attributes\":{\"plot\":null,\"text\":\"Linear pressure scale\"},\"id\":\"7d46ff01-0a21-4560-9059-721c6383a638\",\"type\":\"Title\"},{\"attributes\":{\"data_source\":{\"id\":\"fc978117-7eb6-4bdc-be48-a847998b446d\",\"type\":\"ColumnDataSource\"},\"glyph\":{\"id\":\"f91f3ed0-abde-4f98-96ad-8a57ea7d27ff\",\"type\":\"Line\"},\"hover_glyph\":null,\"muted_glyph\":null,\"nonselection_glyph\":{\"id\":\"79c7b9df-3b97-4bef-8d8e-9bbad614d3cf\",\"type\":\"Line\"},\"selection_glyph\":null,\"view\":{\"id\":\"98ca72de-015e-4544-a1f5-ff4abfcec433\",\"type\":\"CDSView\"}},\"id\":\"6adfd977-5c4f-4fcb-baaf-9c2dacd59c1c\",\"type\":\"GlyphRenderer\"},{\"attributes\":{\"label\":{\"value\":\"CRD\"},\"renderers\":[{\"id\":\"5b1f1dab-d533-458a-854a-a91c22cf54a3\",\"type\":\"GlyphRenderer\"},{\"id\":\"3dddeddf-2d5c-48fb-89b6-cfbed905d495\",\"type\":\"GlyphRenderer\"}]},\"id\":\"1c82c267-e798-4ae2-a90d-85101ffbb4cc\",\"type\":\"LegendItem\"},{\"attributes\":{\"overlay\":{\"id\":\"9b1a4dfc-f136-4cf4-81c6-34942dcc260a\",\"type\":\"BoxAnnotation\"}},\"id\":\"d17d55c4-f5f9-4965-ab4b-a857e670487e\",\"type\":\"BoxZoomTool\"},{\"attributes\":{\"active_drag\":\"auto\",\"active_inspect\":\"auto\",\"active_scroll\":\"auto\",\"active_tap\":\"auto\",\"tools\":[{\"id\":\"7ca60ce8-85a1-484e-94fc-558a5e50a5b3\",\"type\":\"PanTool\"},{\"id\":\"5fd5149b-0606-45d2-b42d-8a7562d98ba9\",\"type\":\"WheelZoomTool\"},{\"id\":\"d314967f-c799-4337-b60d-243c9abd0db8\",\"type\":\"BoxZoomTool\"},{\"id\":\"c94ad0d4-20ce-43ee-8b42-aad2315fc331\",\"type\":\"SaveTool\"},{\"id\":\"ee15a717-8215-4521-9e56-d2b4148f0a21\",\"type\":\"ResetTool\"},{\"id\":\"95bf2ec6-aa39-4e60-964d-d1d1a97c3c4d\",\"type\":\"HelpTool\"}]},\"id\":\"41a6a4ce-f1b0-47aa-a5f6-20b20b10c59c\",\"type\":\"Toolbar\"},{\"attributes\":{\"callback\":null,\"column_names\":[\"x\",\"y\"],\"data\":{\"x\":{\"__ndarray__\":\"AAAAAAAAAAAAAAAAAAAAAAAAAAAAAAAAAAAAAAAAAAAAAAAAAAAAAAAAAAAAAAAAAAAAAAAAAAAAAAAAAAAAAAAAAAAAAAAAAAAAAAAAAAAAAAAAAAAAAAAAAAAAAAAAAAAAAAAAAAAAAAAAAAAAAAAAAAAAAAAAecoBJz5gIj8jjzHgWzMaPxRODXWsrSI/DJf3fJhNNz/fyAL+Xv5CP4Fzveu36FA/WVxJFiNXWT80BSuBprthP3OovORaUGI//yKq6PYvXD+dfF07llRUP6sdkeF4/Es/BW6pofzrQj+JBUMAJYM5P34S1GAjvTA/RvFkddHEJD9tVtyA4mkWP3c6V2JW7QU/ZNwsEBtI5z5tOyXPXI7qvtGO8b2xowK/JyMc/tBFCr8pD/Wf0xAPv8KYof7p7RG/v6Ne4PklFL8N4tOMrh0bv/R7KWDlzii/mUvBfivtM78xHLBh+pFAv5Y4QiGXMEa/v5KZvl+URb/XoCXAw3lEv9r+s79mXkW/Dz3tPppnR79/KrYfM0tHv7qV9x7lpD6/mUvBfivtIz9D5jYY5NJTP0lxQT6weGU/2sx8YvjjcT80EHRBMBh6P3TMQEBafoE/bgjz9p7Mhj8KyvB8X4yLP8VCt9tRQ48/Tx0JBqDpkD9ahdK50MyRP1/B1bg5wJI/bokQ4sBnlD8/on4hKNqWP9WZsDrIpJo/3jolPnw7nz8RWvjCsDiiP1+rn1/ddqQ/qh/EY3k2pj/62LOgXamnP0I/hqAAEKk/FuevXciNqj8kQoYCdGesPyJHeh7KOrE/\",\"dtype\":\"float64\",\"shape\":[75]},\"y\":{\"__ndarray__\":\"S/O/Q+51ND/430zAtpRIP2vylNV0PVE/QxsjCssuWD/TR4Z78fVgP+inNsRxymc/OuuBfZWvcD/u3TFA02d3P2d3VoBnaoA/CD5h5MAGhz/1pA8HUCaQP+zrCsc9p5Y/Fb7LAKjGnz/nJ9c/SEmmPwBD+fzcQq8/FOZwv9nstT8Er5Y7M8G+P0c+r3jqkcU/yK72qKZBzj+tM989FzjVPxbgmr8yxN0/cOm5AXbg5D+5ctXAf0jtP5kqGJXUifQ/DsrqDELP/D8MCAhBojQEQDItVnmnVwxAiFXNvdHgE0BSSZ2AJuIbQAMJih9jjiNA5q4l5INuK0CPVN/5RT0zQHzxRXu8/DpAOZ7PgHrtQkAg8wGBzoxKQBSTN8DMeFJA2NmQf2ZqWEAAAAAAAFxeQEQX1LfMJmJAmpmZmZkfZUBmZmZmZhhoQLzoK0gzEWtAAAAAAAAKbkCiC+pbZoFwQAhyUMLM/XFA+I2vPTN6c0AQ5KCEmfZ0QAAAAAAAc3ZA8Btfe2bvd0AIclDCzGt5QPeNrz0z6HpAEOSghJlkfEAAAAAAAOF9QKML6ltmXX9ABTkoYeZsgED7xteeGSuBQAhyUMJM6YFAAAAAAICngkD4ja89s2WDQAU5KGHmI4RA+8bXnhnihEAIclDCTKCFQAAAAACAXoZA+I2vPbMch0AFOShh5tqHQPvG154ZmYhACHJQwkxXiUAAAAAAgBWKQPeNrz2z04pABTkoYeaRi0D7xteeGVCMQAlyUMJMDo1AAAAAAIDMjUD3ja89s4qOQGZmZmbmSI9A\",\"dtype\":\"float64\",\"shape\":[75]}}},\"id\":\"fc978117-7eb6-4bdc-be48-a847998b446d\",\"type\":\"ColumnDataSource\"},{\"attributes\":{},\"id\":\"bde44b9d-030a-4405-8d95-de590ee0fb10\",\"type\":\"SaveTool\"},{\"attributes\":{\"source\":{\"id\":\"7babccc2-8e0d-4eb6-a482-c9798aa2c924\",\"type\":\"ColumnDataSource\"}},\"id\":\"2fb8f8a7-e5f0-4ff2-9a3f-9790eef8a60b\",\"type\":\"CDSView\"},{\"attributes\":{},\"id\":\"5fd5149b-0606-45d2-b42d-8a7562d98ba9\",\"type\":\"WheelZoomTool\"},{\"attributes\":{\"bottom_units\":\"screen\",\"fill_alpha\":{\"value\":0.5},\"fill_color\":{\"value\":\"lightgrey\"},\"left_units\":\"screen\",\"level\":\"overlay\",\"line_alpha\":{\"value\":1.0},\"line_color\":{\"value\":\"black\"},\"line_dash\":[4,4],\"line_width\":{\"value\":2},\"plot\":null,\"render_mode\":\"css\",\"right_units\":\"screen\",\"top_units\":\"screen\"},\"id\":\"9b1a4dfc-f136-4cf4-81c6-34942dcc260a\",\"type\":\"BoxAnnotation\"},{\"attributes\":{\"callback\":null,\"column_names\":[\"x\",\"y\"],\"data\":{\"x\":{\"__ndarray__\":\"R/BN0gTyDr8B0a4MpJEOv0p089OqvA2/2WyboR3PDL+M8Isbd9QLv6YydtV6zAq/tJnZabu2Cb8YAt0WyJIIv6Hp7B0qYAe/K96Y0o0eBr+VXuGssM0Evy24/7o0bQO/F+enzloGAr8X32o/82wAvzPDCE7JVfa+gKSILTSq7D6MknpBLncXP1VNgRB8/Cs/MMCjqxS8Oj9JVQl3sCVHPzcS6Vsv9FI/lcxadCjaXT98AmLtqedkP6FmZdBQfWU/Gp0/lGCsYD8K/iDoeZlXP1CX2Jze/k8/UX1Jy8YzRT+2GFAh/CQ8P5fvG9SnGTI/ClJmFGGQJT9kbzB9W+MVPyaB5L0nIQI/8ArOc7G41z5O4efy2l/1vhHLprlK0AS/MtMuMh6/C7/lDFN7OqgPv/6JjlJ1RBK/+iS/7uFTFL/9kKOPplEbvxFMN6nZ7Se/fxIGlcL6Mr8NnJJsyVw+vwOCdGKtO0m/MDGFowtmRr+3UDGMmmlGv9O7IQfUnUO/abVbjQgVRL8LcMviPHk+v28dC2nmxhy/ep1oeaaFPz8anrIP+3RXP5A2yJ7G8GQ/b+5jyeVocT8RyCTeUFl4PzgsAHhLG4A/XRH8uESRhT8QPhuxMJSKP01ZMJBRU5A/SIqaKd7kkD+V/v8BgC2SPyqAk4yh3JM/5PLWwoRklT+oYkfJKBKYP1f8l2zHPJs/1+LYN91Znz+zr5dNsuWhPyYMDOlMyKM/OO9VKow7pT8Wi1OhzEymP5SOZnp/iKc/+HhYlT33qD/25YcjavmqP2RlE4Xk7rA/\",\"dtype\":\"float64\",\"shape\":[75]},\"y\":{\"__ndarray__\":\"GhExyth1ND/Sv8nbtpRIP2vylNV0PVE/aTum7souWD/At0SJ8fVgPw3Iuahxymc/MSNhhJWvcD/bTfBN02d3P2zb5nxnaoA/CD5h5MAGhz8NmeH1TyaQP+zrCsc9p5Y/LbKd76fGnz/bLW5ISEmmPww9YvTcQq8/JV2OstnstT8Er5Y7M8G+P0c+r3jqkcU/5h99k6ZBzj88bCIzFzjVP4enV8oyxN0//yH99nXg5D8qOpLLf0jtP5kqGJXUifQ/c9cS8kHP/D+/DpwzojQEQIEmwoanVwxA4lgXt9HgE0BSSZ2AJuIbQAMJih9jjiNA5q4l5INuK0AwTKYKRj0zQNv5fmq8/DpAaCJseHrtQkB/+zpwzoxKQM3MzMzMeFJAZmZmZmZqWEAAAAAAAFxeQM3MzMzMJmJAmpmZmZkfZUBmZmZmZhhoQDMzMzMzEWtAAAAAAAAKbkBmZmZmZoFwQM3MzMzM/XFAMzMzMzN6c0CamZmZmfZ0QAAAAAAAc3ZAZmZmZmbvd0DNzMzMzGt5QDMzMzMz6HpAmpmZmZlkfEAAAAAAAOF9QGZmZmZmXX9AZmZmZuZsgECamZmZGSuBQM3MzMxM6YFAAAAAAICngkAzMzMzs2WDQGZmZmbmI4RAmpmZmRnihEDNzMzMTKCFQAAAAACAXoZAMzMzM7Mch0BmZmZm5tqHQJqZmZkZmYhAzczMzExXiUAAAAAAgBWKQDMzMzOz04pAZmZmZuaRi0CamZmZGVCMQM3MzMxMDo1AAAAAAIDMjUAzMzMzs4qOQGZmZmbmSI9A\",\"dtype\":\"float64\",\"shape\":[75]}}},\"id\":\"4390744f-90b7-4d80-a0a7-480d5eff9eca\",\"type\":\"ColumnDataSource\"},{\"attributes\":{},\"id\":\"3d5c75ed-ba2c-469c-9176-95b04a1fcaeb\",\"type\":\"ResetTool\"},{\"attributes\":{\"axis_label\":\"pressure [mb]\",\"formatter\":{\"id\":\"9ef615aa-f3a8-48c9-bf28-ddbe389a526d\",\"type\":\"BasicTickFormatter\"},\"plot\":{\"id\":\"b8409100-0fa7-4fef-b45b-bc7569a87c88\",\"subtype\":\"Figure\",\"type\":\"Plot\"},\"ticker\":{\"id\":\"ee2a9abc-cc9b-45c9-929b-d6c087c67b43\",\"type\":\"BasicTicker\"}},\"id\":\"dabc1296-e9e2-4a72-9a8c-f05b57915c9d\",\"type\":\"LinearAxis\"},{\"attributes\":{\"source\":{\"id\":\"ad4b76bd-d19b-43ad-8f39-e5aa52737bc3\",\"type\":\"ColumnDataSource\"}},\"id\":\"23345591-d882-43ed-beb9-51534efa026e\",\"type\":\"CDSView\"},{\"attributes\":{\"source\":{\"id\":\"fc978117-7eb6-4bdc-be48-a847998b446d\",\"type\":\"ColumnDataSource\"}},\"id\":\"98ca72de-015e-4544-a1f5-ff4abfcec433\",\"type\":\"CDSView\"},{\"attributes\":{},\"id\":\"0cf47aa1-cc84-40ed-b5a5-99b1a15f9aac\",\"type\":\"HelpTool\"},{\"attributes\":{},\"id\":\"7ca60ce8-85a1-484e-94fc-558a5e50a5b3\",\"type\":\"PanTool\"},{\"attributes\":{},\"id\":\"44c17edc-27e7-4991-af4b-b8fc85f32cbf\",\"type\":\"WheelZoomTool\"},{\"attributes\":{},\"id\":\"ee2a9abc-cc9b-45c9-929b-d6c087c67b43\",\"type\":\"BasicTicker\"},{\"attributes\":{\"line_alpha\":0.6,\"line_color\":\"#e41a1c\",\"line_dash\":[6],\"line_width\":5,\"x\":{\"field\":\"x\"},\"y\":{\"field\":\"y\"}},\"id\":\"07c6816d-5414-4720-a819-b4d3bcc7506b\",\"type\":\"Line\"},{\"attributes\":{\"children\":[{\"id\":\"b8409100-0fa7-4fef-b45b-bc7569a87c88\",\"subtype\":\"Figure\",\"type\":\"Plot\"},{\"id\":\"80e4f6de-315d-4c52-9f19-e06aec0f3b90\",\"subtype\":\"Figure\",\"type\":\"Plot\"}]},\"id\":\"421d522f-cb9b-4c69-846b-5ec5e73b3770\",\"type\":\"Row\"},{\"attributes\":{\"bottom_units\":\"screen\",\"fill_alpha\":{\"value\":0.5},\"fill_color\":{\"value\":\"lightgrey\"},\"left_units\":\"screen\",\"level\":\"overlay\",\"line_alpha\":{\"value\":1.0},\"line_color\":{\"value\":\"black\"},\"line_dash\":[4,4],\"line_width\":{\"value\":2},\"plot\":null,\"render_mode\":\"css\",\"right_units\":\"screen\",\"top_units\":\"screen\"},\"id\":\"34a88de3-aad9-44e8-9e48-b7827e9bf78f\",\"type\":\"BoxAnnotation\"},{\"attributes\":{},\"id\":\"b7392e63-199b-43a9-9927-148cc1f3318b\",\"type\":\"BasicTicker\"},{\"attributes\":{\"callback\":null,\"end\":0.067984040605397,\"start\":-0.0014507871450970002},\"id\":\"db8d14b1-89f1-4911-9945-374f41417413\",\"type\":\"Range1d\"},{\"attributes\":{},\"id\":\"7c96c3d7-1f7f-4f1b-86d0-2f00412d3d00\",\"type\":\"BasicTicker\"},{\"attributes\":{\"plot\":{\"id\":\"b8409100-0fa7-4fef-b45b-bc7569a87c88\",\"subtype\":\"Figure\",\"type\":\"Plot\"},\"ticker\":{\"id\":\"7c96c3d7-1f7f-4f1b-86d0-2f00412d3d00\",\"type\":\"BasicTicker\"}},\"id\":\"26249167-1db8-4cff-aff9-e1fcb7930f89\",\"type\":\"Grid\"},{\"attributes\":{\"dimension\":1,\"plot\":{\"id\":\"b8409100-0fa7-4fef-b45b-bc7569a87c88\",\"subtype\":\"Figure\",\"type\":\"Plot\"},\"ticker\":{\"id\":\"ee2a9abc-cc9b-45c9-929b-d6c087c67b43\",\"type\":\"BasicTicker\"}},\"id\":\"d95e4e2e-a0f8-4f82-a6aa-f949075cdad8\",\"type\":\"Grid\"},{\"attributes\":{},\"id\":\"a4cb92d6-013e-4520-90c5-3ca1c5c5f7c4\",\"type\":\"PanTool\"},{\"attributes\":{},\"id\":\"95bf2ec6-aa39-4e60-964d-d1d1a97c3c4d\",\"type\":\"HelpTool\"},{\"attributes\":{},\"id\":\"0648e4ce-803e-4222-901c-fe6f0708f049\",\"type\":\"BasicTickFormatter\"},{\"attributes\":{\"overlay\":{\"id\":\"34a88de3-aad9-44e8-9e48-b7827e9bf78f\",\"type\":\"BoxAnnotation\"}},\"id\":\"d314967f-c799-4337-b60d-243c9abd0db8\",\"type\":\"BoxZoomTool\"},{\"attributes\":{},\"id\":\"554523a9-1f2c-46d1-875f-b46bfbb9ef9e\",\"type\":\"LogScale\"},{\"attributes\":{},\"id\":\"ee15a717-8215-4521-9e56-d2b4148f0a21\",\"type\":\"ResetTool\"},{\"attributes\":{\"line_alpha\":0.6,\"line_color\":\"#984ea3\",\"line_width\":3,\"x\":{\"field\":\"x\"},\"y\":{\"field\":\"y\"}},\"id\":\"2ffb6ff5-a5c4-4f82-b962-9e692659e9f7\",\"type\":\"Line\"}],\"root_ids\":[\"0e80dd0f-c476-49cd-b080-b2d564ce4d59\"]},\"title\":\"Bokeh Application\",\"version\":\"0.12.14\"}};\n",
       "  var render_items = [{\"docid\":\"091be2e6-a8c6-4663-9272-e776219921f5\",\"elementid\":\"a3135112-3960-4b51-8302-1bc45633c121\",\"modelid\":\"0e80dd0f-c476-49cd-b080-b2d564ce4d59\"}];\n",
       "  root.Bokeh.embed.embed_items_notebook(docs_json, render_items);\n",
       "\n",
       "  }\n",
       "  if (root.Bokeh !== undefined) {\n",
       "    embed_document(root);\n",
       "  } else {\n",
       "    var attempts = 0;\n",
       "    var timer = setInterval(function(root) {\n",
       "      if (root.Bokeh !== undefined) {\n",
       "        embed_document(root);\n",
       "        clearInterval(timer);\n",
       "      }\n",
       "      attempts++;\n",
       "      if (attempts > 100) {\n",
       "        console.log(\"Bokeh: ERROR: Unable to run BokehJS code because BokehJS library is missing\")\n",
       "        clearInterval(timer);\n",
       "      }\n",
       "    }, 10, root)\n",
       "  }\n",
       "})(window);"
      ],
      "application/vnd.bokehjs_exec.v0+json": ""
     },
     "metadata": {
      "application/vnd.bokehjs_exec.v0+json": {
       "id": "0e80dd0f-c476-49cd-b080-b2d564ce4d59"
      }
     },
     "output_type": "display_data"
    },
    {
     "name": "stdout",
     "output_type": "stream",
     "text": [
      "FIGURE. Cooling rate profiles.\n"
     ]
    },
    {
     "data": {
      "text/html": [
       "<a id=\"Flux_Comparison\"></a>"
      ],
      "text/plain": [
       "<IPython.core.display.HTML object>"
      ]
     },
     "metadata": {},
     "output_type": "display_data"
    },
    {
     "data": {
      "text/markdown": [
       "# Flux Comparison"
      ],
      "text/plain": [
       "<IPython.core.display.Markdown object>"
      ]
     },
     "metadata": {},
     "output_type": "display_data"
    },
    {
     "data": {
      "text/html": [
       "<div>\n",
       "<style>\n",
       "    .dataframe thead tr:only-child th {\n",
       "        text-align: right;\n",
       "    }\n",
       "\n",
       "    .dataframe thead th {\n",
       "        text-align: left;\n",
       "    }\n",
       "\n",
       "    .dataframe tbody tr th {\n",
       "        vertical-align: top;\n",
       "    }\n",
       "</style>\n",
       "<table border=\"1\" class=\"dataframe\">\n",
       "  <thead>\n",
       "    <tr style=\"text-align: right;\">\n",
       "      <th></th>\n",
       "      <th></th>\n",
       "      <th>flug</th>\n",
       "      <th>fldg</th>\n",
       "      <th>fnetg</th>\n",
       "    </tr>\n",
       "    <tr>\n",
       "      <th>pressure</th>\n",
       "      <th>level</th>\n",
       "      <th></th>\n",
       "      <th></th>\n",
       "      <th></th>\n",
       "    </tr>\n",
       "  </thead>\n",
       "  <tbody>\n",
       "    <tr>\n",
       "      <th>0.0000</th>\n",
       "      <th>1</th>\n",
       "      <td>-4.869854</td>\n",
       "      <td>0.000000</td>\n",
       "      <td>-4.869854</td>\n",
       "    </tr>\n",
       "    <tr>\n",
       "      <th>1.0685</th>\n",
       "      <th>24</th>\n",
       "      <td>-4.869777</td>\n",
       "      <td>0.000099</td>\n",
       "      <td>-4.869678</td>\n",
       "    </tr>\n",
       "    <tr>\n",
       "      <th>1013.0000</th>\n",
       "      <th>76</th>\n",
       "      <td>-6.625452</td>\n",
       "      <td>3.401991</td>\n",
       "      <td>-3.223462</td>\n",
       "    </tr>\n",
       "  </tbody>\n",
       "</table>\n",
       "</div>"
      ],
      "text/plain": [
       "                     flug      fldg     fnetg\n",
       "pressure  level                              \n",
       "0.0000    1     -4.869854  0.000000 -4.869854\n",
       "1.0685    24    -4.869777  0.000099 -4.869678\n",
       "1013.0000 76    -6.625452  3.401991 -3.223462"
      ]
     },
     "metadata": {},
     "output_type": "display_data"
    },
    {
     "name": "stdout",
     "output_type": "stream",
     "text": [
      "Table. Fluxes. WGT igg=10 wgt_flux=1\n"
     ]
    },
    {
     "data": {
      "text/html": [
       "<div>\n",
       "<style>\n",
       "    .dataframe thead tr:only-child th {\n",
       "        text-align: right;\n",
       "    }\n",
       "\n",
       "    .dataframe thead th {\n",
       "        text-align: left;\n",
       "    }\n",
       "\n",
       "    .dataframe tbody tr th {\n",
       "        vertical-align: top;\n",
       "    }\n",
       "</style>\n",
       "<table border=\"1\" class=\"dataframe\">\n",
       "  <thead>\n",
       "    <tr style=\"text-align: right;\">\n",
       "      <th></th>\n",
       "      <th></th>\n",
       "      <th>flug</th>\n",
       "      <th>fldg</th>\n",
       "      <th>fnetg</th>\n",
       "    </tr>\n",
       "    <tr>\n",
       "      <th>pressure</th>\n",
       "      <th>level</th>\n",
       "      <th></th>\n",
       "      <th></th>\n",
       "      <th></th>\n",
       "    </tr>\n",
       "  </thead>\n",
       "  <tbody>\n",
       "    <tr>\n",
       "      <th>0.0000</th>\n",
       "      <th>1</th>\n",
       "      <td>-5.096235</td>\n",
       "      <td>0.000000</td>\n",
       "      <td>-5.096235</td>\n",
       "    </tr>\n",
       "    <tr>\n",
       "      <th>1.0685</th>\n",
       "      <th>24</th>\n",
       "      <td>-5.096200</td>\n",
       "      <td>0.000183</td>\n",
       "      <td>-5.096018</td>\n",
       "    </tr>\n",
       "    <tr>\n",
       "      <th>1013.0000</th>\n",
       "      <th>76</th>\n",
       "      <td>-6.625452</td>\n",
       "      <td>3.098200</td>\n",
       "      <td>-3.527252</td>\n",
       "    </tr>\n",
       "  </tbody>\n",
       "</table>\n",
       "</div>"
      ],
      "text/plain": [
       "                     flug      fldg     fnetg\n",
       "pressure  level                              \n",
       "0.0000    1     -5.096235  0.000000 -5.096235\n",
       "1.0685    24    -5.096200  0.000183 -5.096018\n",
       "1013.0000 76    -6.625452  3.098200 -3.527252"
      ]
     },
     "metadata": {},
     "output_type": "display_data"
    },
    {
     "name": "stdout",
     "output_type": "stream",
     "text": [
      "Table. Fluxes. CRD\n"
     ]
    },
    {
     "data": {
      "text/html": [
       "<div>\n",
       "<style>\n",
       "    .dataframe thead tr:only-child th {\n",
       "        text-align: right;\n",
       "    }\n",
       "\n",
       "    .dataframe thead th {\n",
       "        text-align: left;\n",
       "    }\n",
       "\n",
       "    .dataframe tbody tr th {\n",
       "        vertical-align: top;\n",
       "    }\n",
       "</style>\n",
       "<table border=\"1\" class=\"dataframe\">\n",
       "  <thead>\n",
       "    <tr style=\"text-align: right;\">\n",
       "      <th></th>\n",
       "      <th></th>\n",
       "      <th>flug</th>\n",
       "      <th>fldg</th>\n",
       "      <th>fnetg</th>\n",
       "    </tr>\n",
       "    <tr>\n",
       "      <th>pressure</th>\n",
       "      <th>level</th>\n",
       "      <th></th>\n",
       "      <th></th>\n",
       "      <th></th>\n",
       "    </tr>\n",
       "  </thead>\n",
       "  <tbody>\n",
       "    <tr>\n",
       "      <th>1.000000e-08</th>\n",
       "      <th>1</th>\n",
       "      <td>-4.874173</td>\n",
       "      <td>0.000002</td>\n",
       "      <td>-4.874171</td>\n",
       "    </tr>\n",
       "    <tr>\n",
       "      <th>1.068500e+00</th>\n",
       "      <th>24</th>\n",
       "      <td>-4.874105</td>\n",
       "      <td>0.000085</td>\n",
       "      <td>-4.874020</td>\n",
       "    </tr>\n",
       "    <tr>\n",
       "      <th>1.013000e+03</th>\n",
       "      <th>76</th>\n",
       "      <td>-6.625452</td>\n",
       "      <td>3.433761</td>\n",
       "      <td>-3.191691</td>\n",
       "    </tr>\n",
       "  </tbody>\n",
       "</table>\n",
       "</div>"
      ],
      "text/plain": [
       "                        flug      fldg     fnetg\n",
       "pressure     level                              \n",
       "1.000000e-08 1     -4.874173  0.000002 -4.874171\n",
       "1.068500e+00 24    -4.874105  0.000085 -4.874020\n",
       "1.013000e+03 76    -6.625452  3.433761 -3.191691"
      ]
     },
     "metadata": {},
     "output_type": "display_data"
    },
    {
     "name": "stdout",
     "output_type": "stream",
     "text": [
      "Table. Fluxes. CLIRAD\n"
     ]
    },
    {
     "data": {
      "text/html": [
       "<div>\n",
       "<style>\n",
       "    .dataframe thead tr:only-child th {\n",
       "        text-align: right;\n",
       "    }\n",
       "\n",
       "    .dataframe thead th {\n",
       "        text-align: left;\n",
       "    }\n",
       "\n",
       "    .dataframe tbody tr th {\n",
       "        vertical-align: top;\n",
       "    }\n",
       "</style>\n",
       "<table border=\"1\" class=\"dataframe\">\n",
       "  <thead>\n",
       "    <tr style=\"text-align: right;\">\n",
       "      <th></th>\n",
       "      <th></th>\n",
       "      <th>flug</th>\n",
       "      <th>fldg</th>\n",
       "      <th>fnetg</th>\n",
       "    </tr>\n",
       "    <tr>\n",
       "      <th>pressure</th>\n",
       "      <th>level</th>\n",
       "      <th></th>\n",
       "      <th></th>\n",
       "      <th></th>\n",
       "    </tr>\n",
       "  </thead>\n",
       "  <tbody>\n",
       "    <tr>\n",
       "      <th>0.0000</th>\n",
       "      <th>1</th>\n",
       "      <td>-2.263806e-01</td>\n",
       "      <td>0.000000</td>\n",
       "      <td>-0.226381</td>\n",
       "    </tr>\n",
       "    <tr>\n",
       "      <th>1.0685</th>\n",
       "      <th>24</th>\n",
       "      <td>-2.264235e-01</td>\n",
       "      <td>0.000084</td>\n",
       "      <td>-0.226340</td>\n",
       "    </tr>\n",
       "    <tr>\n",
       "      <th>1013.0000</th>\n",
       "      <th>76</th>\n",
       "      <td>-3.000001e-09</td>\n",
       "      <td>-0.303791</td>\n",
       "      <td>-0.303790</td>\n",
       "    </tr>\n",
       "  </tbody>\n",
       "</table>\n",
       "</div>"
      ],
      "text/plain": [
       "                         flug      fldg     fnetg\n",
       "pressure  level                                  \n",
       "0.0000    1     -2.263806e-01  0.000000 -0.226381\n",
       "1.0685    24    -2.264235e-01  0.000084 -0.226340\n",
       "1013.0000 76    -3.000001e-09 -0.303791 -0.303790"
      ]
     },
     "metadata": {},
     "output_type": "display_data"
    },
    {
     "name": "stdout",
     "output_type": "stream",
     "text": [
      "Table. Fluxes. (CRD) - (WGT igg=10 wgt_flux=1)\n"
     ]
    },
    {
     "data": {
      "text/html": [
       "<div>\n",
       "<style>\n",
       "    .dataframe thead tr:only-child th {\n",
       "        text-align: right;\n",
       "    }\n",
       "\n",
       "    .dataframe thead th {\n",
       "        text-align: left;\n",
       "    }\n",
       "\n",
       "    .dataframe tbody tr th {\n",
       "        vertical-align: top;\n",
       "    }\n",
       "</style>\n",
       "<table border=\"1\" class=\"dataframe\">\n",
       "  <thead>\n",
       "    <tr style=\"text-align: right;\">\n",
       "      <th></th>\n",
       "      <th></th>\n",
       "      <th>flug</th>\n",
       "      <th>fldg</th>\n",
       "      <th>fnetg</th>\n",
       "    </tr>\n",
       "    <tr>\n",
       "      <th>pressure</th>\n",
       "      <th>level</th>\n",
       "      <th></th>\n",
       "      <th></th>\n",
       "      <th></th>\n",
       "    </tr>\n",
       "  </thead>\n",
       "  <tbody>\n",
       "    <tr>\n",
       "      <th>0.0000</th>\n",
       "      <th>1</th>\n",
       "      <td>-4.319335e-03</td>\n",
       "      <td>0.000002</td>\n",
       "      <td>-0.004317</td>\n",
       "    </tr>\n",
       "    <tr>\n",
       "      <th>1.0685</th>\n",
       "      <th>24</th>\n",
       "      <td>-4.328636e-03</td>\n",
       "      <td>-0.000014</td>\n",
       "      <td>-0.004342</td>\n",
       "    </tr>\n",
       "    <tr>\n",
       "      <th>1013.0000</th>\n",
       "      <th>76</th>\n",
       "      <td>2.970000e-07</td>\n",
       "      <td>0.031771</td>\n",
       "      <td>0.031771</td>\n",
       "    </tr>\n",
       "  </tbody>\n",
       "</table>\n",
       "</div>"
      ],
      "text/plain": [
       "                         flug      fldg     fnetg\n",
       "pressure  level                                  \n",
       "0.0000    1     -4.319335e-03  0.000002 -0.004317\n",
       "1.0685    24    -4.328636e-03 -0.000014 -0.004342\n",
       "1013.0000 76     2.970000e-07  0.031771  0.031771"
      ]
     },
     "metadata": {},
     "output_type": "display_data"
    },
    {
     "name": "stdout",
     "output_type": "stream",
     "text": [
      "Table. Fluxes. (CLIRAD) - (WGT igg=10 wgt_flux=1)\n"
     ]
    },
    {
     "data": {
      "text/html": [
       "<a id=\"Best-fit_Parameters\"></a>"
      ],
      "text/plain": [
       "<IPython.core.display.HTML object>"
      ]
     },
     "metadata": {},
     "output_type": "display_data"
    },
    {
     "data": {
      "text/markdown": [
       "# Best-fit Parameters"
      ],
      "text/plain": [
       "<IPython.core.display.Markdown object>"
      ]
     },
     "metadata": {},
     "output_type": "display_data"
    },
    {
     "name": "stdout",
     "output_type": "stream",
     "text": [
      "Best-fit values for each (gas, band)\n",
      "------------------------------------\n",
      "o h2o band9\n",
      "  molecule = h2o\n",
      "  band = 9\n",
      "  commitnumber = d62b618\n",
      "  vmin = 1900\n",
      "  vmax = 3000\n",
      "  dv = 0.001\n",
      "  nv = 1000\n",
      "  ref_pts = [(500, 250)]\n",
      "  ng_refs = [5]\n",
      "  ng_adju = [0]\n",
      "  klin = 1e-24\n",
      "  option_wgt_k = 1\n",
      "  wgt = [(0.4, 0.4, 0.5, 0.55, 0.85)]\n",
      "  w_diffuse = [(1.66, 1.66, 1.66, 1.66, 1.66)]\n",
      "  option_wgt_flux = 1\n",
      "  atmpro = mls\n",
      "  tsfc = 294\n",
      "  conc = None\n",
      "  option_compute_btable = 0\n",
      "  option_compute_ktable = 1\n"
     ]
    }
   ],
   "source": [
    "script()"
   ]
  },
  {
   "cell_type": "code",
   "execution_count": 13,
   "metadata": {},
   "outputs": [
    {
     "data": {
      "text/html": [
       "<script>\n",
       "code_show=true; \n",
       "function code_toggle() {\n",
       " if (code_show){\n",
       " $('div.input').hide();\n",
       " } else {\n",
       " $('div.input').show();\n",
       " }\n",
       " code_show = !code_show\n",
       "} \n",
       "$( document ).ready(code_toggle);\n",
       "</script>\n",
       "<form action=\"javascript:code_toggle()\"><input type=\"submit\" value=\"Click here to toggle on/off the raw code.\"></form>"
      ],
      "text/plain": [
       "<IPython.core.display.HTML object>"
      ]
     },
     "execution_count": 13,
     "metadata": {},
     "output_type": "execute_result"
    }
   ],
   "source": [
    "display.HTML('''<script>\n",
    "code_show=true; \n",
    "function code_toggle() {\n",
    " if (code_show){\n",
    " $('div.input').hide();\n",
    " } else {\n",
    " $('div.input').show();\n",
    " }\n",
    " code_show = !code_show\n",
    "} \n",
    "$( document ).ready(code_toggle);\n",
    "</script>\n",
    "<form action=\"javascript:code_toggle()\"><input type=\"submit\" value=\"Click here to toggle on/off the raw code.\"></form>''')"
   ]
  }
 ],
 "metadata": {
  "kernelspec": {
   "display_name": "Python 3",
   "language": "python",
   "name": "python3"
  },
  "language_info": {
   "codemirror_mode": {
    "name": "ipython",
    "version": 3
   },
   "file_extension": ".py",
   "mimetype": "text/x-python",
   "name": "python",
   "nbconvert_exporter": "python",
   "pygments_lexer": "ipython3",
   "version": "3.6.1"
  }
 },
 "nbformat": 4,
 "nbformat_minor": 2
}
