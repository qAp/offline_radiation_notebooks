{
 "cells": [
  {
   "cell_type": "code",
   "execution_count": 1,
   "metadata": {
    "collapsed": true
   },
   "outputs": [],
   "source": [
    "%matplotlib inline\n",
    "import os\n",
    "import re\n",
    "import io\n",
    "import itertools\n",
    "import pprint\n",
    "\n",
    "from bokeh.io import output_notebook, show\n",
    "from bokeh.layouts import gridplot\n",
    "from bokeh.plotting import figure\n",
    "from bokeh.models import Range1d, Legend\n",
    "from bokeh.palettes import all_palettes\n",
    "\n",
    "import matplotlib\n",
    "import matplotlib.pyplot as plt\n",
    "import numpy as np\n",
    "import pandas as pd\n",
    "import xarray as xr\n",
    "\n",
    "import climatools.lblnew.bestfit_params as bestfits\n",
    "from climatools.lblnew import setup_bestfit, setup_overlap\n",
    "import climatools.lblnew.pipeline as pipe_lblnew\n",
    "import climatools.cliradlw.setup as setup_cliradlw\n",
    "import climatools.cliradlw.pipeline as pipe_cliradlw\n",
    "\n",
    "import climatools.html.html as climahtml\n",
    "from climatools.lblnew.dataio import *\n",
    "from climatools.plot.plot import *\n",
    "\n",
    "\n",
    "import IPython.display as display"
   ]
  },
  {
   "cell_type": "code",
   "execution_count": 2,
   "metadata": {
    "collapsed": true
   },
   "outputs": [],
   "source": [
    "%run param.py"
   ]
  },
  {
   "cell_type": "code",
   "execution_count": 3,
   "metadata": {
    "collapsed": true
   },
   "outputs": [],
   "source": [
    "def load_output_file(path_csv):\n",
    "    '''\n",
    "    Load lblnew output .csv file to xarray.Dataset\n",
    "    \n",
    "    Parameters\n",
    "    ----------\n",
    "    path_csv: str\n",
    "              Path to the .csv file to be loaded.\n",
    "    ds: xarray.Dataset\n",
    "        Data in the input file in the form of an xarray.Dataset.\n",
    "    '''\n",
    "    toindex = ['band', 'pressure', 'igg', 'g']    \n",
    "    df = pd.read_csv(path_csv, sep=r'\\s+')\n",
    "    df = df.set_index([i for i in toindex if i in df.columns])\n",
    "    df = df.rename(columns={'sfu': 'flug',\n",
    "                            'sfd': 'fldg',\n",
    "                            'fnet': 'fnetg',\n",
    "                            'coolr': 'coolrg'})\n",
    "    ds = xr.Dataset.from_dataframe(df)\n",
    "\n",
    "    for l in ('level', 'layer'):\n",
    "        if l in ds.data_vars:\n",
    "            if len(ds[l].dims) > 1:\n",
    "                surface = {d: 0 for d in ds.dims if d != 'pressure'}\n",
    "                coord_level = ds[l][surface]\n",
    "                ds.coords[l] = ('pressure', coord_level)\n",
    "            else:\n",
    "                ds.coords[l] = ('pressure', ds[l])\n",
    "    \n",
    "    return ds"
   ]
  },
  {
   "cell_type": "code",
   "execution_count": 4,
   "metadata": {
    "collapsed": true
   },
   "outputs": [],
   "source": [
    "def lblnew_setup(param=None):\n",
    "    if 'ng_refs' in param:\n",
    "        return {'setup': setup_bestfit,\n",
    "                'fname_flux_crd': 'output_flux.dat',\n",
    "                'fname_cool_crd': 'output_coolr.dat',\n",
    "                'fname_flux_wgt': 'output_wfluxg.dat',\n",
    "                'fname_cool_wgt': 'output_wcoolrg.dat'}\n",
    "    else:\n",
    "        return {'setup': setup_overlap,\n",
    "                'fname_flux_crd': 'output_flux.dat',\n",
    "                'fname_cool_crd': 'output_coolr.dat',\n",
    "                'fname_flux_wgt': 'output_wflux.dat',\n",
    "                'fname_cool_wgt': 'output_wcoolr.dat'}\n",
    "\n",
    "    \n",
    "def load_lblnew_data(param):\n",
    "    \n",
    "    fname_dsname = [('fname_flux_crd', 'ds_flux_crd'),\n",
    "                    ('fname_cool_crd', 'ds_cool_crd'),\n",
    "                    ('fname_flux_wgt', 'ds_flux_wgt'),\n",
    "                    ('fname_cool_wgt', 'ds_cool_wgt')]\n",
    "    \n",
    "    d = lblnew_setup(param)\n",
    "    dir_fortran = pipe_lblnew.get_dir_case(param, setup=d['setup'])\n",
    "    \n",
    "    data_dict = {}\n",
    "    for fname, dsname in fname_dsname:\n",
    "        fpath = os.path.join(dir_fortran, d[fname])\n",
    "        data_dict[dsname] = load_output_file(fpath)\n",
    "    return data_dict\n",
    "    \n",
    "\n",
    "    \n",
    "    "
   ]
  },
  {
   "cell_type": "code",
   "execution_count": 5,
   "metadata": {
    "collapsed": true
   },
   "outputs": [],
   "source": [
    "d = load_lblnew_data(PARAM_LBLNEW)\n",
    "\n",
    "DS_FLUX_CRD = d['ds_flux_crd']\n",
    "DS_COOL_CRD = d['ds_cool_crd']\n",
    "DS_FLUX_WGT = d['ds_flux_wgt']\n",
    "DS_COOL_WGT = d['ds_cool_wgt']"
   ]
  },
  {
   "cell_type": "code",
   "execution_count": 6,
   "metadata": {
    "collapsed": true
   },
   "outputs": [],
   "source": [
    "DIR_FORTRAN = pipe_cliradlw.get_fortran_dir(PARAM, \n",
    "                                            setup=setup_cliradlw)\n",
    "\n",
    "PATH_FLUX = os.path.join(DIR_FORTRAN, 'output_flux.dat')\n",
    "PATH_COOL = os.path.join(DIR_FORTRAN, 'output_coolr.dat')\n",
    "\n",
    "DS_FLUX = load_output_file(PATH_FLUX)\n",
    "DS_COOL = load_output_file(PATH_COOL)"
   ]
  },
  {
   "cell_type": "code",
   "execution_count": 7,
   "metadata": {},
   "outputs": [
    {
     "data": {
      "text/html": [
       "\n",
       "    <div class=\"bk-root\">\n",
       "        <a href=\"https://bokeh.pydata.org\" target=\"_blank\" class=\"bk-logo bk-logo-small bk-logo-notebook\"></a>\n",
       "        <span id=\"5ea04300-bca8-411d-bdc3-4d16da4b3c16\">Loading BokehJS ...</span>\n",
       "    </div>"
      ]
     },
     "metadata": {},
     "output_type": "display_data"
    },
    {
     "data": {
      "application/javascript": [
       "\n",
       "(function(root) {\n",
       "  function now() {\n",
       "    return new Date();\n",
       "  }\n",
       "\n",
       "  var force = true;\n",
       "\n",
       "  if (typeof (root._bokeh_onload_callbacks) === \"undefined\" || force === true) {\n",
       "    root._bokeh_onload_callbacks = [];\n",
       "    root._bokeh_is_loading = undefined;\n",
       "  }\n",
       "\n",
       "  var JS_MIME_TYPE = 'application/javascript';\n",
       "  var HTML_MIME_TYPE = 'text/html';\n",
       "  var EXEC_MIME_TYPE = 'application/vnd.bokehjs_exec.v0+json';\n",
       "  var CLASS_NAME = 'output_bokeh rendered_html';\n",
       "\n",
       "  /**\n",
       "   * Render data to the DOM node\n",
       "   */\n",
       "  function render(props, node) {\n",
       "    var script = document.createElement(\"script\");\n",
       "    node.appendChild(script);\n",
       "  }\n",
       "\n",
       "  /**\n",
       "   * Handle when an output is cleared or removed\n",
       "   */\n",
       "  function handleClearOutput(event, handle) {\n",
       "    var cell = handle.cell;\n",
       "\n",
       "    var id = cell.output_area._bokeh_element_id;\n",
       "    var server_id = cell.output_area._bokeh_server_id;\n",
       "    // Clean up Bokeh references\n",
       "    if (id !== undefined) {\n",
       "      Bokeh.index[id].model.document.clear();\n",
       "      delete Bokeh.index[id];\n",
       "    }\n",
       "\n",
       "    if (server_id !== undefined) {\n",
       "      // Clean up Bokeh references\n",
       "      var cmd = \"from bokeh.io.state import curstate; print(curstate().uuid_to_server['\" + server_id + \"'].get_sessions()[0].document.roots[0]._id)\";\n",
       "      cell.notebook.kernel.execute(cmd, {\n",
       "        iopub: {\n",
       "          output: function(msg) {\n",
       "            var element_id = msg.content.text.trim();\n",
       "            Bokeh.index[element_id].model.document.clear();\n",
       "            delete Bokeh.index[element_id];\n",
       "          }\n",
       "        }\n",
       "      });\n",
       "      // Destroy server and session\n",
       "      var cmd = \"import bokeh.io.notebook as ion; ion.destroy_server('\" + server_id + \"')\";\n",
       "      cell.notebook.kernel.execute(cmd);\n",
       "    }\n",
       "  }\n",
       "\n",
       "  /**\n",
       "   * Handle when a new output is added\n",
       "   */\n",
       "  function handleAddOutput(event, handle) {\n",
       "    var output_area = handle.output_area;\n",
       "    var output = handle.output;\n",
       "\n",
       "    // limit handleAddOutput to display_data with EXEC_MIME_TYPE content only\n",
       "    if ((output.output_type != \"display_data\") || (!output.data.hasOwnProperty(EXEC_MIME_TYPE))) {\n",
       "      return\n",
       "    }\n",
       "\n",
       "    var toinsert = output_area.element.find(\".\" + CLASS_NAME.split(' ')[0]);\n",
       "\n",
       "    if (output.metadata[EXEC_MIME_TYPE][\"id\"] !== undefined) {\n",
       "      toinsert[0].firstChild.textContent = output.data[JS_MIME_TYPE];\n",
       "      // store reference to embed id on output_area\n",
       "      output_area._bokeh_element_id = output.metadata[EXEC_MIME_TYPE][\"id\"];\n",
       "    }\n",
       "    if (output.metadata[EXEC_MIME_TYPE][\"server_id\"] !== undefined) {\n",
       "      var bk_div = document.createElement(\"div\");\n",
       "      bk_div.innerHTML = output.data[HTML_MIME_TYPE];\n",
       "      var script_attrs = bk_div.children[0].attributes;\n",
       "      for (var i = 0; i < script_attrs.length; i++) {\n",
       "        toinsert[0].firstChild.setAttribute(script_attrs[i].name, script_attrs[i].value);\n",
       "      }\n",
       "      // store reference to server id on output_area\n",
       "      output_area._bokeh_server_id = output.metadata[EXEC_MIME_TYPE][\"server_id\"];\n",
       "    }\n",
       "  }\n",
       "\n",
       "  function register_renderer(events, OutputArea) {\n",
       "\n",
       "    function append_mime(data, metadata, element) {\n",
       "      // create a DOM node to render to\n",
       "      var toinsert = this.create_output_subarea(\n",
       "        metadata,\n",
       "        CLASS_NAME,\n",
       "        EXEC_MIME_TYPE\n",
       "      );\n",
       "      this.keyboard_manager.register_events(toinsert);\n",
       "      // Render to node\n",
       "      var props = {data: data, metadata: metadata[EXEC_MIME_TYPE]};\n",
       "      render(props, toinsert[0]);\n",
       "      element.append(toinsert);\n",
       "      return toinsert\n",
       "    }\n",
       "\n",
       "    /* Handle when an output is cleared or removed */\n",
       "    events.on('clear_output.CodeCell', handleClearOutput);\n",
       "    events.on('delete.Cell', handleClearOutput);\n",
       "\n",
       "    /* Handle when a new output is added */\n",
       "    events.on('output_added.OutputArea', handleAddOutput);\n",
       "\n",
       "    /**\n",
       "     * Register the mime type and append_mime function with output_area\n",
       "     */\n",
       "    OutputArea.prototype.register_mime_type(EXEC_MIME_TYPE, append_mime, {\n",
       "      /* Is output safe? */\n",
       "      safe: true,\n",
       "      /* Index of renderer in `output_area.display_order` */\n",
       "      index: 0\n",
       "    });\n",
       "  }\n",
       "\n",
       "  // register the mime type if in Jupyter Notebook environment and previously unregistered\n",
       "  if (root.Jupyter !== undefined) {\n",
       "    var events = require('base/js/events');\n",
       "    var OutputArea = require('notebook/js/outputarea').OutputArea;\n",
       "\n",
       "    if (OutputArea.prototype.mime_types().indexOf(EXEC_MIME_TYPE) == -1) {\n",
       "      register_renderer(events, OutputArea);\n",
       "    }\n",
       "  }\n",
       "\n",
       "  \n",
       "  if (typeof (root._bokeh_timeout) === \"undefined\" || force === true) {\n",
       "    root._bokeh_timeout = Date.now() + 5000;\n",
       "    root._bokeh_failed_load = false;\n",
       "  }\n",
       "\n",
       "  var NB_LOAD_WARNING = {'data': {'text/html':\n",
       "     \"<div style='background-color: #fdd'>\\n\"+\n",
       "     \"<p>\\n\"+\n",
       "     \"BokehJS does not appear to have successfully loaded. If loading BokehJS from CDN, this \\n\"+\n",
       "     \"may be due to a slow or bad network connection. Possible fixes:\\n\"+\n",
       "     \"</p>\\n\"+\n",
       "     \"<ul>\\n\"+\n",
       "     \"<li>re-rerun `output_notebook()` to attempt to load from CDN again, or</li>\\n\"+\n",
       "     \"<li>use INLINE resources instead, as so:</li>\\n\"+\n",
       "     \"</ul>\\n\"+\n",
       "     \"<code>\\n\"+\n",
       "     \"from bokeh.resources import INLINE\\n\"+\n",
       "     \"output_notebook(resources=INLINE)\\n\"+\n",
       "     \"</code>\\n\"+\n",
       "     \"</div>\"}};\n",
       "\n",
       "  function display_loaded() {\n",
       "    var el = document.getElementById(\"5ea04300-bca8-411d-bdc3-4d16da4b3c16\");\n",
       "    if (el != null) {\n",
       "      el.textContent = \"BokehJS is loading...\";\n",
       "    }\n",
       "    if (root.Bokeh !== undefined) {\n",
       "      if (el != null) {\n",
       "        el.textContent = \"BokehJS \" + root.Bokeh.version + \" successfully loaded.\";\n",
       "      }\n",
       "    } else if (Date.now() < root._bokeh_timeout) {\n",
       "      setTimeout(display_loaded, 100)\n",
       "    }\n",
       "  }\n",
       "\n",
       "\n",
       "  function run_callbacks() {\n",
       "    try {\n",
       "      root._bokeh_onload_callbacks.forEach(function(callback) { callback() });\n",
       "    }\n",
       "    finally {\n",
       "      delete root._bokeh_onload_callbacks\n",
       "    }\n",
       "    console.info(\"Bokeh: all callbacks have finished\");\n",
       "  }\n",
       "\n",
       "  function load_libs(js_urls, callback) {\n",
       "    root._bokeh_onload_callbacks.push(callback);\n",
       "    if (root._bokeh_is_loading > 0) {\n",
       "      console.log(\"Bokeh: BokehJS is being loaded, scheduling callback at\", now());\n",
       "      return null;\n",
       "    }\n",
       "    if (js_urls == null || js_urls.length === 0) {\n",
       "      run_callbacks();\n",
       "      return null;\n",
       "    }\n",
       "    console.log(\"Bokeh: BokehJS not loaded, scheduling load and callback at\", now());\n",
       "    root._bokeh_is_loading = js_urls.length;\n",
       "    for (var i = 0; i < js_urls.length; i++) {\n",
       "      var url = js_urls[i];\n",
       "      var s = document.createElement('script');\n",
       "      s.src = url;\n",
       "      s.async = false;\n",
       "      s.onreadystatechange = s.onload = function() {\n",
       "        root._bokeh_is_loading--;\n",
       "        if (root._bokeh_is_loading === 0) {\n",
       "          console.log(\"Bokeh: all BokehJS libraries loaded\");\n",
       "          run_callbacks()\n",
       "        }\n",
       "      };\n",
       "      s.onerror = function() {\n",
       "        console.warn(\"failed to load library \" + url);\n",
       "      };\n",
       "      console.log(\"Bokeh: injecting script tag for BokehJS library: \", url);\n",
       "      document.getElementsByTagName(\"head\")[0].appendChild(s);\n",
       "    }\n",
       "  };var element = document.getElementById(\"5ea04300-bca8-411d-bdc3-4d16da4b3c16\");\n",
       "  if (element == null) {\n",
       "    console.log(\"Bokeh: ERROR: autoload.js configured with elementid '5ea04300-bca8-411d-bdc3-4d16da4b3c16' but no matching script tag was found. \")\n",
       "    return false;\n",
       "  }\n",
       "\n",
       "  var js_urls = [\"https://cdn.pydata.org/bokeh/release/bokeh-0.12.14.min.js\", \"https://cdn.pydata.org/bokeh/release/bokeh-widgets-0.12.14.min.js\", \"https://cdn.pydata.org/bokeh/release/bokeh-tables-0.12.14.min.js\", \"https://cdn.pydata.org/bokeh/release/bokeh-gl-0.12.14.min.js\"];\n",
       "\n",
       "  var inline_js = [\n",
       "    function(Bokeh) {\n",
       "      Bokeh.set_log_level(\"info\");\n",
       "    },\n",
       "    \n",
       "    function(Bokeh) {\n",
       "      \n",
       "    },\n",
       "    function(Bokeh) {\n",
       "      console.log(\"Bokeh: injecting CSS: https://cdn.pydata.org/bokeh/release/bokeh-0.12.14.min.css\");\n",
       "      Bokeh.embed.inject_css(\"https://cdn.pydata.org/bokeh/release/bokeh-0.12.14.min.css\");\n",
       "      console.log(\"Bokeh: injecting CSS: https://cdn.pydata.org/bokeh/release/bokeh-widgets-0.12.14.min.css\");\n",
       "      Bokeh.embed.inject_css(\"https://cdn.pydata.org/bokeh/release/bokeh-widgets-0.12.14.min.css\");\n",
       "      console.log(\"Bokeh: injecting CSS: https://cdn.pydata.org/bokeh/release/bokeh-tables-0.12.14.min.css\");\n",
       "      Bokeh.embed.inject_css(\"https://cdn.pydata.org/bokeh/release/bokeh-tables-0.12.14.min.css\");\n",
       "    }\n",
       "  ];\n",
       "\n",
       "  function run_inline_js() {\n",
       "    \n",
       "    if ((root.Bokeh !== undefined) || (force === true)) {\n",
       "      for (var i = 0; i < inline_js.length; i++) {\n",
       "        inline_js[i].call(root, root.Bokeh);\n",
       "      }if (force === true) {\n",
       "        display_loaded();\n",
       "      }} else if (Date.now() < root._bokeh_timeout) {\n",
       "      setTimeout(run_inline_js, 100);\n",
       "    } else if (!root._bokeh_failed_load) {\n",
       "      console.log(\"Bokeh: BokehJS failed to load within specified timeout.\");\n",
       "      root._bokeh_failed_load = true;\n",
       "    } else if (force !== true) {\n",
       "      var cell = $(document.getElementById(\"5ea04300-bca8-411d-bdc3-4d16da4b3c16\")).parents('.cell').data().cell;\n",
       "      cell.output_area.append_execute_result(NB_LOAD_WARNING)\n",
       "    }\n",
       "\n",
       "  }\n",
       "\n",
       "  if (root._bokeh_is_loading === 0) {\n",
       "    console.log(\"Bokeh: BokehJS loaded, going straight to plotting\");\n",
       "    run_inline_js();\n",
       "  } else {\n",
       "    load_libs(js_urls, function() {\n",
       "      console.log(\"Bokeh: BokehJS plotting callback run at\", now());\n",
       "      run_inline_js();\n",
       "    });\n",
       "  }\n",
       "}(window));"
      ],
      "application/vnd.bokehjs_load.v0+json": "\n(function(root) {\n  function now() {\n    return new Date();\n  }\n\n  var force = true;\n\n  if (typeof (root._bokeh_onload_callbacks) === \"undefined\" || force === true) {\n    root._bokeh_onload_callbacks = [];\n    root._bokeh_is_loading = undefined;\n  }\n\n  \n\n  \n  if (typeof (root._bokeh_timeout) === \"undefined\" || force === true) {\n    root._bokeh_timeout = Date.now() + 5000;\n    root._bokeh_failed_load = false;\n  }\n\n  var NB_LOAD_WARNING = {'data': {'text/html':\n     \"<div style='background-color: #fdd'>\\n\"+\n     \"<p>\\n\"+\n     \"BokehJS does not appear to have successfully loaded. If loading BokehJS from CDN, this \\n\"+\n     \"may be due to a slow or bad network connection. Possible fixes:\\n\"+\n     \"</p>\\n\"+\n     \"<ul>\\n\"+\n     \"<li>re-rerun `output_notebook()` to attempt to load from CDN again, or</li>\\n\"+\n     \"<li>use INLINE resources instead, as so:</li>\\n\"+\n     \"</ul>\\n\"+\n     \"<code>\\n\"+\n     \"from bokeh.resources import INLINE\\n\"+\n     \"output_notebook(resources=INLINE)\\n\"+\n     \"</code>\\n\"+\n     \"</div>\"}};\n\n  function display_loaded() {\n    var el = document.getElementById(\"5ea04300-bca8-411d-bdc3-4d16da4b3c16\");\n    if (el != null) {\n      el.textContent = \"BokehJS is loading...\";\n    }\n    if (root.Bokeh !== undefined) {\n      if (el != null) {\n        el.textContent = \"BokehJS \" + root.Bokeh.version + \" successfully loaded.\";\n      }\n    } else if (Date.now() < root._bokeh_timeout) {\n      setTimeout(display_loaded, 100)\n    }\n  }\n\n\n  function run_callbacks() {\n    try {\n      root._bokeh_onload_callbacks.forEach(function(callback) { callback() });\n    }\n    finally {\n      delete root._bokeh_onload_callbacks\n    }\n    console.info(\"Bokeh: all callbacks have finished\");\n  }\n\n  function load_libs(js_urls, callback) {\n    root._bokeh_onload_callbacks.push(callback);\n    if (root._bokeh_is_loading > 0) {\n      console.log(\"Bokeh: BokehJS is being loaded, scheduling callback at\", now());\n      return null;\n    }\n    if (js_urls == null || js_urls.length === 0) {\n      run_callbacks();\n      return null;\n    }\n    console.log(\"Bokeh: BokehJS not loaded, scheduling load and callback at\", now());\n    root._bokeh_is_loading = js_urls.length;\n    for (var i = 0; i < js_urls.length; i++) {\n      var url = js_urls[i];\n      var s = document.createElement('script');\n      s.src = url;\n      s.async = false;\n      s.onreadystatechange = s.onload = function() {\n        root._bokeh_is_loading--;\n        if (root._bokeh_is_loading === 0) {\n          console.log(\"Bokeh: all BokehJS libraries loaded\");\n          run_callbacks()\n        }\n      };\n      s.onerror = function() {\n        console.warn(\"failed to load library \" + url);\n      };\n      console.log(\"Bokeh: injecting script tag for BokehJS library: \", url);\n      document.getElementsByTagName(\"head\")[0].appendChild(s);\n    }\n  };var element = document.getElementById(\"5ea04300-bca8-411d-bdc3-4d16da4b3c16\");\n  if (element == null) {\n    console.log(\"Bokeh: ERROR: autoload.js configured with elementid '5ea04300-bca8-411d-bdc3-4d16da4b3c16' but no matching script tag was found. \")\n    return false;\n  }\n\n  var js_urls = [\"https://cdn.pydata.org/bokeh/release/bokeh-0.12.14.min.js\", \"https://cdn.pydata.org/bokeh/release/bokeh-widgets-0.12.14.min.js\", \"https://cdn.pydata.org/bokeh/release/bokeh-tables-0.12.14.min.js\", \"https://cdn.pydata.org/bokeh/release/bokeh-gl-0.12.14.min.js\"];\n\n  var inline_js = [\n    function(Bokeh) {\n      Bokeh.set_log_level(\"info\");\n    },\n    \n    function(Bokeh) {\n      \n    },\n    function(Bokeh) {\n      console.log(\"Bokeh: injecting CSS: https://cdn.pydata.org/bokeh/release/bokeh-0.12.14.min.css\");\n      Bokeh.embed.inject_css(\"https://cdn.pydata.org/bokeh/release/bokeh-0.12.14.min.css\");\n      console.log(\"Bokeh: injecting CSS: https://cdn.pydata.org/bokeh/release/bokeh-widgets-0.12.14.min.css\");\n      Bokeh.embed.inject_css(\"https://cdn.pydata.org/bokeh/release/bokeh-widgets-0.12.14.min.css\");\n      console.log(\"Bokeh: injecting CSS: https://cdn.pydata.org/bokeh/release/bokeh-tables-0.12.14.min.css\");\n      Bokeh.embed.inject_css(\"https://cdn.pydata.org/bokeh/release/bokeh-tables-0.12.14.min.css\");\n    }\n  ];\n\n  function run_inline_js() {\n    \n    if ((root.Bokeh !== undefined) || (force === true)) {\n      for (var i = 0; i < inline_js.length; i++) {\n        inline_js[i].call(root, root.Bokeh);\n      }if (force === true) {\n        display_loaded();\n      }} else if (Date.now() < root._bokeh_timeout) {\n      setTimeout(run_inline_js, 100);\n    } else if (!root._bokeh_failed_load) {\n      console.log(\"Bokeh: BokehJS failed to load within specified timeout.\");\n      root._bokeh_failed_load = true;\n    } else if (force !== true) {\n      var cell = $(document.getElementById(\"5ea04300-bca8-411d-bdc3-4d16da4b3c16\")).parents('.cell').data().cell;\n      cell.output_area.append_execute_result(NB_LOAD_WARNING)\n    }\n\n  }\n\n  if (root._bokeh_is_loading === 0) {\n    console.log(\"Bokeh: BokehJS loaded, going straight to plotting\");\n    run_inline_js();\n  } else {\n    load_libs(js_urls, function() {\n      console.log(\"Bokeh: BokehJS plotting callback run at\", now());\n      run_inline_js();\n    });\n  }\n}(window));"
     },
     "metadata": {},
     "output_type": "display_data"
    }
   ],
   "source": [
    "output_notebook()"
   ]
  },
  {
   "cell_type": "code",
   "execution_count": 8,
   "metadata": {
    "collapsed": true
   },
   "outputs": [],
   "source": [
    "def fmt_cool(ds_in):\n",
    "    ds = ds_in.copy(deep=True)\n",
    "    if 'igg' in ds.dims:\n",
    "        ds = ds.sel(igg=1)\n",
    "\n",
    "    if 'g' in ds.dims:\n",
    "        ds = ds.sum('g')\n",
    "            \n",
    "    if 'band' in ds.dims:\n",
    "        try:\n",
    "            ds = ds.squeeze('band')\n",
    "        except ValueError:\n",
    "            ds = ds.sum('band')\n",
    "                \n",
    "    return ds['coolrg']\n",
    "\n",
    "\n",
    "def pltdata_cooling_1(ds_cool=None,\n",
    "                      ds_cool_crd=None, ds_cool_wgt=None):\n",
    "    \n",
    "\n",
    "\n",
    "    colors = all_palettes['Set1'][4]\n",
    "    data = [{'label': 'CLIRAD `coolr_bands`',\n",
    "             'srs': fmt_cool(ds_cool),\n",
    "             'line_dash': 'dashed', 'line_width': 5,\n",
    "             'color': colors[0], 'alpha': .6},\n",
    "            {'label': 'CRD',\n",
    "             'srs': fmt_cool(ds_cool_crd),\n",
    "             'line_dash': 'solid', 'line_width': 1.5,\n",
    "             'marker': 'circle', 'marker_size': 5,\n",
    "             'color': colors[2], 'alpha': 1,},\n",
    "            {'label': 'WGT igg=10 wgt_flux=2',\n",
    "             'srs': fmt_cool(ds_cool_wgt),\n",
    "             'line_dash': 'solid', 'line_width': 3,\n",
    "             'marker': 'square', 'marker_size': 5,\n",
    "             'color': colors[3], 'alpha': .6}]\n",
    "    return data\n",
    "\n",
    "\n",
    "def nice_xlims(pltdata=None, prange=None):\n",
    "    \n",
    "    def get_slice(srs):\n",
    "        return srs.sel(pressure=slice(*prange))\n",
    "    \n",
    "    srss = [d['srs'] for d in pltdata]\n",
    "    vmin = min([get_slice(srs).min() for srs in srss])\n",
    "    vmax = max([get_slice(srs).max() for srs in srss])\n",
    "    dv = (vmax - vmin) * .01\n",
    "    return float(vmin - dv), float(vmax + dv)\n",
    "    \n",
    "\n",
    "def plt_cooling_bokeh(pltdata=None):\n",
    "    '''\n",
    "    Plot a list of cooling rate profiles using bokeh.\n",
    "    '''\n",
    "    ymin = 1e-2 \n",
    "    ymax = 1020 \n",
    "        \n",
    "    p1 = figure(title=\"Linear pressure scale\", \n",
    "                plot_width=400)        \n",
    "    xmin, xmax = nice_xlims(pltdata, prange=(50, 1050))\n",
    "    for d in pltdata:\n",
    "        if 'marker' in d:\n",
    "            getattr(p1, d['marker'])(d['srs'].values, \n",
    "                    d['srs'].coords['pressure'].values,\n",
    "                    color=d['color'], alpha=.7)\n",
    "        p1.line(d['srs'].values, \n",
    "                d['srs'].coords['pressure'].values,\n",
    "                color=d['color'], alpha=d['alpha'], \n",
    "                line_width=d['line_width'], line_dash=d['line_dash'])\n",
    "    \n",
    "    p1.y_range = Range1d(ymax, ymin)\n",
    "    p1.yaxis.axis_label = 'pressure [mb]'   \n",
    "    p1.x_range = Range1d(xmin, xmax)\n",
    "    p1.xaxis.axis_label = 'cooling rate [K/day]'\n",
    "            \n",
    "    p2 = figure(title='Log pressure scale', y_axis_type='log',\n",
    "                plot_width=560)\n",
    "    xmin, xmax = nice_xlims(pltdata, prange=(.01, 200))\n",
    "    \n",
    "    rs = []\n",
    "    for d in pltdata:\n",
    "        rd = []\n",
    "        if 'marker' in d:\n",
    "            r_mark = getattr(p2, d['marker'])(d['srs'].values, \n",
    "                        d['srs'].coords['pressure'].values,\n",
    "                        color=d['color'], alpha=.7)\n",
    "            rd.append(r_mark)\n",
    "        r_line = p2.line(d['srs'].values, \n",
    "                    d['srs'].coords['pressure'].values,\n",
    "                    color=d['color'], alpha=d['alpha'], \n",
    "                    line_width=d['line_width'], line_dash=d['line_dash'])\n",
    "        rd.append(r_line)\n",
    "      \n",
    "        rs.append(rd)\n",
    "        \n",
    "    p2.y_range = Range1d(ymax, ymin)  \n",
    "    p2.yaxis.axis_label = 'pressure [mb]'\n",
    "    \n",
    "    p2.x_range = Range1d(xmin, xmax)\n",
    "    p2.xaxis.axis_label = 'cooling rate [K/day]'\n",
    "    \n",
    "    items = [(d['label'], r) for r, d in zip(rs, pltdata)]\n",
    "    legend = Legend(items=items, location=(10, -30))\n",
    "    legend.label_text_font_size = '8pt'\n",
    "    \n",
    "    p2.add_layout(legend, 'right')  \n",
    "    \n",
    "    show(gridplot(p1, p2, ncols=2, plot_height=500))\n",
    "    \n",
    "\n",
    "def script_plt_cooling():\n",
    "    pltdata = pltdata_cooling_1(\n",
    "        ds_cool=DS_COOL,\n",
    "        ds_cool_crd=DS_COOL_CRD,\n",
    "        ds_cool_wgt=DS_COOL_WGT)\n",
    "    plt_cooling_bokeh(pltdata=pltdata)\n",
    "    print('''FIGURE. Cooling rate profiles.''')"
   ]
  },
  {
   "cell_type": "code",
   "execution_count": 9,
   "metadata": {
    "collapsed": true
   },
   "outputs": [],
   "source": [
    "def fmt_flux(ds_in):\n",
    "    ds = ds_in.copy(deep=True)\n",
    "    \n",
    "    for l in ('level', 'layer'):\n",
    "        if l in ds.data_vars:\n",
    "            if len(ds[l].dims) > 1:\n",
    "                surface = {d: 0 for d in ds.dims if d != 'pressure'}\n",
    "                coord_level = ds[l][surface]\n",
    "                ds.coords[l] = ('pressure', coord_level)\n",
    "            else:\n",
    "                ds.coords[l] = ('pressure', ds[l])\n",
    "        \n",
    "    ds = ds.isel(pressure=[0, 23, -1])\n",
    "        \n",
    "    if 'igg' in ds.dims:\n",
    "        ds = ds.sel(igg=[1])\n",
    "        ds = ds.squeeze('igg').drop('igg')\n",
    "    \n",
    "    if 'g' in ds.dims:\n",
    "        ds = ds.sum('g')\n",
    "            \n",
    "    if 'band' in ds.dims:\n",
    "        try:\n",
    "            ds = ds.squeeze('band').drop('band')\n",
    "        except ValueError:\n",
    "            ds = ds.sum('band')\n",
    "                \n",
    "    df = ds.to_dataframe()\n",
    "    df = df.set_index('level', append=True)               \n",
    "    return df\n",
    "\n",
    "\n",
    "def tbdata_flux(ds_flux=None, ds_flux_crd=None, ds_flux_wgt=None):\n",
    "    ilevels = [0, 23, -1]\n",
    "            \n",
    "    benchmark = {'label': 'WGT igg=10 wgt_flux=1',\n",
    "                 'df': fmt_flux(ds_flux_wgt)}\n",
    "    \n",
    "    tbs = [{'label': 'CRD',\n",
    "            'df': fmt_flux(ds_flux_crd)},\n",
    "           {'label': 'CLIRAD',\n",
    "            'df': fmt_flux(ds_flux)}]\n",
    "    \n",
    "    data = {'benchmark': benchmark, 'others': tbs}\n",
    "    return data\n",
    "\n",
    "\n",
    "def tb_flux(tbdata=None):\n",
    "    benchmark = tbdata['benchmark']\n",
    "    others = tbdata['others']\n",
    "    \n",
    "    def show_tb(d=None):\n",
    "        display.display(d['df'])\n",
    "        print('Table.', 'Fluxes.', d['label'])\n",
    "        \n",
    "    def show_tbdiff(d0=None, d=None):\n",
    "        df = d['df']\n",
    "        df.index = d0['df'].index\n",
    "        display.display(df - d0['df'])\n",
    "        print('Table.', 'Fluxes.', \n",
    "              '({}) - ({})'.format(d['label'], d0['label']))\n",
    "        \n",
    "    show_tb(benchmark)\n",
    "    for d in others:\n",
    "        show_tb(d)\n",
    "        \n",
    "    for d in others:\n",
    "        show_tbdiff(d=d, d0=benchmark)\n",
    "        \n",
    "        \n",
    "def script_tb_flux():\n",
    "    data = tbdata_flux(ds_flux=DS_FLUX,\n",
    "                       ds_flux_crd=DS_FLUX_CRD,\n",
    "                       ds_flux_wgt=DS_FLUX_WGT)\n",
    "    tb_flux(tbdata=data)"
   ]
  },
  {
   "cell_type": "code",
   "execution_count": 10,
   "metadata": {
    "collapsed": true
   },
   "outputs": [],
   "source": [
    "def band_map():\n",
    "    '''\n",
    "    Maps spectral bands in lblnew to spectral bands in clirad.\n",
    "    '''\n",
    "    lblnew2clirad = {'1': '1',\n",
    "            '2': '2',\n",
    "            '3a': '3',\n",
    "            '3b': '4',\n",
    "            '3c': '5',\n",
    "            '4': '6', \n",
    "            '5': '7',\n",
    "            '6': '8',\n",
    "            '7': '9', \n",
    "            '8': '10',\n",
    "            '9': '11'}\n",
    "    \n",
    "    clirad2lblnew = {clirad: lblnew \n",
    "                     for lblnew, clirad in lblnew2clirad.items()}\n",
    "    return clirad2lblnew\n",
    "\n",
    "\n",
    "def gasbands():\n",
    "    bmap = band_map()\n",
    "    gases = list(PARAM['molecule'].keys())\n",
    "    \n",
    "    bands = [bmap[str(b)] for b in PARAM['band']]\n",
    "    return list(itertools.product(gases, bands))\n",
    "\n",
    "\n",
    "def print_bestfit_params():\n",
    "    print('Best-fit values for each (gas, band)')\n",
    "    print('------------------------------------')\n",
    "    for gas, band in gasbands():\n",
    "        print('o {} band{}'.format(gas, band))\n",
    "        param = bestfits.kdist_params(molecule=gas, band=band)\n",
    "        for name, value in param.items():\n",
    "            print(2 * ' ' + '{} = {}'.format(name, value))\n",
    "\n",
    "        \n",
    "def print_input_param():        \n",
    "    for name, value in PARAM.items():\n",
    "        print('{} = {}'.format(name, value))\n",
    "        \n",
    "        \n",
    "def print_lblnew_param():\n",
    "    for name, value in PARAM_LBLNEW.items():\n",
    "        print('{} = {}'.format(name, value))\n"
   ]
  },
  {
   "cell_type": "code",
   "execution_count": 11,
   "metadata": {
    "collapsed": true,
    "scrolled": false
   },
   "outputs": [],
   "source": [
    "def show_html(s):\n",
    "    display.display(display.HTML(s))\n",
    "\n",
    "    \n",
    "def show_markdown(s):\n",
    "    display.display(display.Markdown(s))\n",
    "\n",
    "    \n",
    "def script():\n",
    "    \n",
    "    title = '### CLIRAD-LW'\n",
    "    s_input = 'Input Parameters'\n",
    "    s_lblnew_param = 'LBLNEW case compaired against'\n",
    "    s_bestfits = 'Best-fit Parameters'\n",
    "    s_plt_cooling = 'Cooling Rate Profiles'\n",
    "    s_tb_flux = 'Flux Comparison'\n",
    "    \n",
    "    # title\n",
    "    show_markdown('### CLIRAD-LW')\n",
    "    \n",
    "    # TOC\n",
    "    show_markdown('### Table of Contents')\n",
    "    show_html(climahtml.getHTML_hrefanchor(s_input))\n",
    "    show_html(climahtml.getHTML_hrefanchor(s_lblnew_param))\n",
    "    show_html(climahtml.getHTML_hrefanchor(s_plt_cooling))\n",
    "    show_html(climahtml.getHTML_hrefanchor(s_tb_flux))\n",
    "    show_html(climahtml.getHTML_hrefanchor(s_bestfits))\n",
    "    \n",
    "    # Input parameters\n",
    "    show_html(climahtml.getHTML_idanchor(s_input))\n",
    "    show_markdown(climahtml.getMarkdown_sectitle(s_input))\n",
    "    print_input_param()\n",
    "    \n",
    "    # LBLNEW parameters \n",
    "    show_html(climahtml.getHTML_idanchor(s_lblnew_param))\n",
    "    show_markdown(climahtml.getMarkdown_sectitle(s_lblnew_param))\n",
    "    print_lblnew_param()\n",
    "    \n",
    "    # Cooling rate profiles\n",
    "    show_html(climahtml.getHTML_idanchor(s_plt_cooling))\n",
    "    show_markdown(climahtml.getMarkdown_sectitle(s_plt_cooling))\n",
    "    script_plt_cooling()\n",
    "    \n",
    "    # Flux comparison\n",
    "    show_html(climahtml.getHTML_idanchor(s_tb_flux))\n",
    "    show_markdown(climahtml.getMarkdown_sectitle(s_tb_flux))\n",
    "    script_tb_flux()\n",
    "    \n",
    "    # Best-fit values\n",
    "    show_html(climahtml.getHTML_idanchor(s_bestfits))\n",
    "    show_markdown(climahtml.getMarkdown_sectitle(s_bestfits))\n",
    "    print_bestfit_params()\n",
    "   \n",
    "    "
   ]
  },
  {
   "cell_type": "code",
   "execution_count": 12,
   "metadata": {
    "scrolled": false
   },
   "outputs": [
    {
     "data": {
      "text/markdown": [
       "### CLIRAD-LW"
      ],
      "text/plain": [
       "<IPython.core.display.Markdown object>"
      ]
     },
     "metadata": {},
     "output_type": "display_data"
    },
    {
     "data": {
      "text/markdown": [
       "### Table of Contents"
      ],
      "text/plain": [
       "<IPython.core.display.Markdown object>"
      ]
     },
     "metadata": {},
     "output_type": "display_data"
    },
    {
     "data": {
      "text/html": [
       "<a href=\"#Input_Parameters\">Input Parameters</a>"
      ],
      "text/plain": [
       "<IPython.core.display.HTML object>"
      ]
     },
     "metadata": {},
     "output_type": "display_data"
    },
    {
     "data": {
      "text/html": [
       "<a href=\"#LBLNEW_case_compaired_against\">LBLNEW case compaired against</a>"
      ],
      "text/plain": [
       "<IPython.core.display.HTML object>"
      ]
     },
     "metadata": {},
     "output_type": "display_data"
    },
    {
     "data": {
      "text/html": [
       "<a href=\"#Cooling_Rate_Profiles\">Cooling Rate Profiles</a>"
      ],
      "text/plain": [
       "<IPython.core.display.HTML object>"
      ]
     },
     "metadata": {},
     "output_type": "display_data"
    },
    {
     "data": {
      "text/html": [
       "<a href=\"#Flux_Comparison\">Flux Comparison</a>"
      ],
      "text/plain": [
       "<IPython.core.display.HTML object>"
      ]
     },
     "metadata": {},
     "output_type": "display_data"
    },
    {
     "data": {
      "text/html": [
       "<a href=\"#Best-fit_Parameters\">Best-fit Parameters</a>"
      ],
      "text/plain": [
       "<IPython.core.display.HTML object>"
      ]
     },
     "metadata": {},
     "output_type": "display_data"
    },
    {
     "data": {
      "text/html": [
       "<a id=\"Input_Parameters\"></a>"
      ],
      "text/plain": [
       "<IPython.core.display.HTML object>"
      ]
     },
     "metadata": {},
     "output_type": "display_data"
    },
    {
     "data": {
      "text/markdown": [
       "# Input Parameters"
      ],
      "text/plain": [
       "<IPython.core.display.Markdown object>"
      ]
     },
     "metadata": {},
     "output_type": "display_data"
    },
    {
     "name": "stdout",
     "output_type": "stream",
     "text": [
      "atmpro = mls\n",
      "band = [8]\n",
      "commitnumber = 7a7a0e1\n",
      "molecule = {'h2o': 'atmpro'}\n",
      "tsfc = 294\n"
     ]
    },
    {
     "data": {
      "text/html": [
       "<a id=\"LBLNEW_case_compaired_against\"></a>"
      ],
      "text/plain": [
       "<IPython.core.display.HTML object>"
      ]
     },
     "metadata": {},
     "output_type": "display_data"
    },
    {
     "data": {
      "text/markdown": [
       "# LBLNEW case compaired against"
      ],
      "text/plain": [
       "<IPython.core.display.Markdown object>"
      ]
     },
     "metadata": {},
     "output_type": "display_data"
    },
    {
     "name": "stdout",
     "output_type": "stream",
     "text": [
      "molecule = h2o\n",
      "band = 6\n",
      "commitnumber = d62b618\n",
      "vmin = 1100\n",
      "vmax = 1215\n",
      "dv = 0.001\n",
      "nv = 1000\n",
      "ref_pts = [(600, 250)]\n",
      "ng_refs = [4]\n",
      "ng_adju = [0]\n",
      "klin = 5e-25\n",
      "option_wgt_k = 1\n",
      "wgt = [(0.3, 0.45, 0.6, 0.95)]\n",
      "w_diffuse = [(1.66, 1.66, 1.7, 1.8)]\n",
      "option_wgt_flux = 1\n",
      "atmpro = mls\n",
      "tsfc = 294\n",
      "conc = None\n",
      "option_compute_btable = 0\n",
      "option_compute_ktable = 1\n"
     ]
    },
    {
     "data": {
      "text/html": [
       "<a id=\"Cooling_Rate_Profiles\"></a>"
      ],
      "text/plain": [
       "<IPython.core.display.HTML object>"
      ]
     },
     "metadata": {},
     "output_type": "display_data"
    },
    {
     "data": {
      "text/markdown": [
       "# Cooling Rate Profiles"
      ],
      "text/plain": [
       "<IPython.core.display.Markdown object>"
      ]
     },
     "metadata": {},
     "output_type": "display_data"
    },
    {
     "data": {
      "text/html": [
       "\n",
       "<div class=\"bk-root\">\n",
       "    <div class=\"bk-plotdiv\" id=\"33542756-bca3-4408-9372-1e03c619172a\"></div>\n",
       "</div>"
      ]
     },
     "metadata": {},
     "output_type": "display_data"
    },
    {
     "data": {
      "application/javascript": [
       "(function(root) {\n",
       "  function embed_document(root) {\n",
       "    \n",
       "  var docs_json = {\"af19ddd3-471a-4ceb-b140-1dbb72ab25c4\":{\"roots\":{\"references\":[{\"attributes\":{\"data_source\":{\"id\":\"04614450-a2bd-4e08-95eb-95f0eb5bcab9\",\"type\":\"ColumnDataSource\"},\"glyph\":{\"id\":\"a712b915-e7ac-4329-8bcc-0c2f362878c1\",\"type\":\"Line\"},\"hover_glyph\":null,\"muted_glyph\":null,\"nonselection_glyph\":{\"id\":\"f5913824-231e-450b-b1f1-4e1f1e9301e8\",\"type\":\"Line\"},\"selection_glyph\":null,\"view\":{\"id\":\"c5e2a30a-d070-44ea-85b6-1c5c417688ad\",\"type\":\"CDSView\"}},\"id\":\"be85169e-8660-48db-9919-12e9bff438c4\",\"type\":\"GlyphRenderer\"},{\"attributes\":{\"line_alpha\":0.1,\"line_color\":\"#1f77b4\",\"line_dash\":[6],\"line_width\":5,\"x\":{\"field\":\"x\"},\"y\":{\"field\":\"y\"}},\"id\":\"584155bb-3b4d-482a-99df-57c027d0b479\",\"type\":\"Line\"},{\"attributes\":{\"fill_alpha\":{\"value\":0.7},\"fill_color\":{\"value\":\"#984ea3\"},\"line_alpha\":{\"value\":0.7},\"line_color\":{\"value\":\"#984ea3\"},\"x\":{\"field\":\"x\"},\"y\":{\"field\":\"y\"}},\"id\":\"f29472c8-c4d5-444f-8415-4ad8a5c32900\",\"type\":\"Square\"},{\"attributes\":{},\"id\":\"4b906dd3-6c6c-4326-b481-a794458c8090\",\"type\":\"LinearScale\"},{\"attributes\":{\"active_drag\":\"auto\",\"active_inspect\":\"auto\",\"active_scroll\":\"auto\",\"active_tap\":\"auto\",\"tools\":[{\"id\":\"1f0e7b6f-0d2c-4d84-8109-77019342c98a\",\"type\":\"PanTool\"},{\"id\":\"b4d70d59-da67-4c36-b12c-814fc5e4cd0f\",\"type\":\"WheelZoomTool\"},{\"id\":\"5959e191-9015-4135-90c6-348168b5044d\",\"type\":\"BoxZoomTool\"},{\"id\":\"7fa94ebc-333d-42c1-bf2a-da9ff9c4131b\",\"type\":\"SaveTool\"},{\"id\":\"bc8fc21e-a019-4fe2-b311-657a74a62f5e\",\"type\":\"ResetTool\"},{\"id\":\"e409c6f7-5350-488d-925d-2c135e62e3b7\",\"type\":\"HelpTool\"}]},\"id\":\"7bc07083-f507-4491-b0c3-7568ccc0e16d\",\"type\":\"Toolbar\"},{\"attributes\":{\"callback\":null,\"column_names\":[\"x\",\"y\"],\"data\":{\"x\":{\"__ndarray__\":\"W0V7DG1X7b6wIa3/SUbtvuCbWTeCHu2+KXVsDxHv7L68RG5tJ7rsvq2J0qpvf+y+hrq3Z88+7L4ev+LAD/jrvum+37v5quu+ZFjCvXBX675q53e9SP3qvrnmJP5ZnOq+Pnn2yHA06r5EExpf2r3pvi41x68mJ+i+fiKC63If4r5mvLSJa8W/viZQnMIw+OM+TlzcpOmy/D4vGFOIHXAMP9J2H3TAgBg/FT0WlhaFIz9ftkUdKTUrP+5YIV9mBSw/swe6eHL6JT89zqtINjsfP9X0C5sJAhU/3NZqhAqvCj+k5vDRyY//PneZdqtc5u8+9kE9ZMqP0D4SvoXpOgrTvoMBixHCe+W+ImgMe+HF7b7cd0GorKvyvsocp6M5Ova+oykS0LPd+L7hrcJpprT6vsTVu4hZXfy+nFkyFaOq/r6MW0i3P8kGvw86uB4tJRq/IiNhKccLJr/LliL2QP8pvwh+ZAxZlBa/i94VfaklMD+Dde9nk35KP3jmSP5d7Fk/9YOv8N6+ZT9yHnHO+j1wPxs1bzw9a3Y/7M11rKomfT9PNr4ImsGBP1ADBBXiI4c/NPQhgeXVij8NQGkhlCeQP2abVAFEhpM/vSv25/9tmD+aeQD4mCmePxbXSgI6bqI/e/MJjH0Rpj+OLquOcdipP0q8jqqj3q0/FngBpen2sD+yQ2iaTCSzP6ghCck1GbY/d4o7pGXotz/8ppNNJpS5P4xIC/f6lrs/0Ak276KevT/1VJKJMo6/PwAL8QMex8A/EBG7DiL9wT+JlhBxH1nDPxm/0vQ3Q8U/\",\"dtype\":\"float64\",\"shape\":[75]},\"y\":{\"__ndarray__\":\"GhExyth1ND/Sv8nbtpRIP2vylNV0PVE/aTum7souWD/At0SJ8fVgPw3Iuahxymc/MSNhhJWvcD/bTfBN02d3P2zb5nxnaoA/CD5h5MAGhz8NmeH1TyaQP+zrCsc9p5Y/LbKd76fGnz/bLW5ISEmmPww9YvTcQq8/JV2OstnstT8Er5Y7M8G+P0c+r3jqkcU/5h99k6ZBzj88bCIzFzjVP4enV8oyxN0//yH99nXg5D8qOpLLf0jtP5kqGJXUifQ/c9cS8kHP/D+/DpwzojQEQIEmwoanVwxA4lgXt9HgE0BSSZ2AJuIbQAMJih9jjiNA5q4l5INuK0AwTKYKRj0zQNv5fmq8/DpAaCJseHrtQkB/+zpwzoxKQM3MzMzMeFJAZmZmZmZqWEAAAAAAAFxeQM3MzMzMJmJAmpmZmZkfZUBmZmZmZhhoQDMzMzMzEWtAAAAAAAAKbkBmZmZmZoFwQM3MzMzM/XFAMzMzMzN6c0CamZmZmfZ0QAAAAAAAc3ZAZmZmZmbvd0DNzMzMzGt5QDMzMzMz6HpAmpmZmZlkfEAAAAAAAOF9QGZmZmZmXX9AZmZmZuZsgECamZmZGSuBQM3MzMxM6YFAAAAAAICngkAzMzMzs2WDQGZmZmbmI4RAmpmZmRnihEDNzMzMTKCFQAAAAACAXoZAMzMzM7Mch0BmZmZm5tqHQJqZmZkZmYhAzczMzExXiUAAAAAAgBWKQDMzMzOz04pAZmZmZuaRi0CamZmZGVCMQM3MzMxMDo1AAAAAAIDMjUAzMzMzs4qOQGZmZmbmSI9A\",\"dtype\":\"float64\",\"shape\":[75]}}},\"id\":\"241f7bf4-2be5-44a3-8690-0169c5205b9a\",\"type\":\"ColumnDataSource\"},{\"attributes\":{\"below\":[{\"id\":\"958c3e80-5974-4f99-bfec-a8f89ee34ad7\",\"type\":\"LinearAxis\"}],\"left\":[{\"id\":\"cbd2fd46-8039-41dd-b3ae-6a29a207c23b\",\"type\":\"LogAxis\"}],\"plot_height\":500,\"plot_width\":560,\"renderers\":[{\"id\":\"958c3e80-5974-4f99-bfec-a8f89ee34ad7\",\"type\":\"LinearAxis\"},{\"id\":\"0eb602bd-53e8-4faa-9b8f-1cc45bfb37a7\",\"type\":\"Grid\"},{\"id\":\"cbd2fd46-8039-41dd-b3ae-6a29a207c23b\",\"type\":\"LogAxis\"},{\"id\":\"05ee02c6-86f5-44b8-9340-8b543e09fb78\",\"type\":\"Grid\"},{\"id\":\"fdd87bc6-c990-4f3d-bfd0-9e391ee96ede\",\"type\":\"BoxAnnotation\"},{\"id\":\"be85169e-8660-48db-9919-12e9bff438c4\",\"type\":\"GlyphRenderer\"},{\"id\":\"3210912c-5247-46c2-8f0f-f017d2bf2333\",\"type\":\"GlyphRenderer\"},{\"id\":\"4845c849-c5fb-463a-83cb-0e4433647412\",\"type\":\"GlyphRenderer\"},{\"id\":\"7043ed11-8cbe-4521-a071-37a4683d962c\",\"type\":\"GlyphRenderer\"},{\"id\":\"8d2d9138-fc71-4c95-9824-35adc35c3769\",\"type\":\"GlyphRenderer\"},{\"id\":\"a59581b6-66af-4cd9-8429-701faa0181af\",\"type\":\"Legend\"}],\"right\":[{\"id\":\"a59581b6-66af-4cd9-8429-701faa0181af\",\"type\":\"Legend\"}],\"title\":{\"id\":\"a0c598e4-0aab-4c8c-8fa6-b1f06dc01758\",\"type\":\"Title\"},\"toolbar\":{\"id\":\"7bc07083-f507-4491-b0c3-7568ccc0e16d\",\"type\":\"Toolbar\"},\"toolbar_location\":null,\"x_range\":{\"id\":\"175dc2a6-ddb3-403c-9213-93b0ac956046\",\"type\":\"Range1d\"},\"x_scale\":{\"id\":\"4b906dd3-6c6c-4326-b481-a794458c8090\",\"type\":\"LinearScale\"},\"y_range\":{\"id\":\"dca247f8-5a38-487d-a679-2b611202f997\",\"type\":\"Range1d\"},\"y_scale\":{\"id\":\"65f9c62d-1e31-4fc5-920c-5dd757bfcbee\",\"type\":\"LogScale\"}},\"id\":\"00bc02a4-7868-4eb8-8300-1d618c2a8897\",\"subtype\":\"Figure\",\"type\":\"Plot\"},{\"attributes\":{\"fill_alpha\":{\"value\":0.7},\"fill_color\":{\"value\":\"#4daf4a\"},\"line_alpha\":{\"value\":0.7},\"line_color\":{\"value\":\"#4daf4a\"},\"x\":{\"field\":\"x\"},\"y\":{\"field\":\"y\"}},\"id\":\"63d8ceff-00d7-4296-a679-00b4de4f80ce\",\"type\":\"Circle\"},{\"attributes\":{\"dimension\":1,\"plot\":{\"id\":\"00bc02a4-7868-4eb8-8300-1d618c2a8897\",\"subtype\":\"Figure\",\"type\":\"Plot\"},\"ticker\":{\"id\":\"512bd308-eb01-4888-b6d7-872a917eb239\",\"type\":\"LogTicker\"}},\"id\":\"05ee02c6-86f5-44b8-9340-8b543e09fb78\",\"type\":\"Grid\"},{\"attributes\":{\"data_source\":{\"id\":\"c6c4f169-d63b-4afb-9601-af824cf16a45\",\"type\":\"ColumnDataSource\"},\"glyph\":{\"id\":\"5524bf63-2c74-45de-ac53-5395ec3e9232\",\"type\":\"Line\"},\"hover_glyph\":null,\"muted_glyph\":null,\"nonselection_glyph\":{\"id\":\"94ae6688-e04b-4c50-bae5-0a7a2640c079\",\"type\":\"Line\"},\"selection_glyph\":null,\"view\":{\"id\":\"778f41b6-445b-4d57-ac0e-3f517d803cba\",\"type\":\"CDSView\"}},\"id\":\"bb5f9ba4-b1a9-4aa4-992b-722e551ed01a\",\"type\":\"GlyphRenderer\"},{\"attributes\":{\"line_alpha\":0.1,\"line_color\":\"#1f77b4\",\"line_width\":3,\"x\":{\"field\":\"x\"},\"y\":{\"field\":\"y\"}},\"id\":\"94ae6688-e04b-4c50-bae5-0a7a2640c079\",\"type\":\"Line\"},{\"attributes\":{\"source\":{\"id\":\"c6c4f169-d63b-4afb-9601-af824cf16a45\",\"type\":\"ColumnDataSource\"}},\"id\":\"778f41b6-445b-4d57-ac0e-3f517d803cba\",\"type\":\"CDSView\"},{\"attributes\":{\"plot\":null,\"text\":\"Log pressure scale\"},\"id\":\"a0c598e4-0aab-4c8c-8fa6-b1f06dc01758\",\"type\":\"Title\"},{\"attributes\":{\"source\":{\"id\":\"c695d868-5efb-4104-bbf8-faf0e2cfb2e7\",\"type\":\"ColumnDataSource\"}},\"id\":\"74bfc224-332a-4d63-8158-82447b0feb6a\",\"type\":\"CDSView\"},{\"attributes\":{\"label\":{\"value\":\"CRD\"},\"renderers\":[{\"id\":\"3210912c-5247-46c2-8f0f-f017d2bf2333\",\"type\":\"GlyphRenderer\"},{\"id\":\"4845c849-c5fb-463a-83cb-0e4433647412\",\"type\":\"GlyphRenderer\"}]},\"id\":\"c8ba9307-b494-49a4-8f91-e01f33208930\",\"type\":\"LegendItem\"},{\"attributes\":{},\"id\":\"65f9c62d-1e31-4fc5-920c-5dd757bfcbee\",\"type\":\"LogScale\"},{\"attributes\":{\"num_minor_ticks\":10},\"id\":\"512bd308-eb01-4888-b6d7-872a917eb239\",\"type\":\"LogTicker\"},{\"attributes\":{\"source\":{\"id\":\"04614450-a2bd-4e08-95eb-95f0eb5bcab9\",\"type\":\"ColumnDataSource\"}},\"id\":\"c5e2a30a-d070-44ea-85b6-1c5c417688ad\",\"type\":\"CDSView\"},{\"attributes\":{\"callback\":null,\"end\":0.1730146207815,\"start\":-0.0019776789315},\"id\":\"3ae29687-c488-450f-bff6-acaa0ec1053e\",\"type\":\"Range1d\"},{\"attributes\":{\"callback\":null,\"end\":0.01,\"start\":1020},\"id\":\"c36cb0f4-db29-497e-8070-5849153ef94d\",\"type\":\"Range1d\"},{\"attributes\":{\"line_alpha\":0.1,\"line_color\":\"#1f77b4\",\"line_dash\":[6],\"line_width\":5,\"x\":{\"field\":\"x\"},\"y\":{\"field\":\"y\"}},\"id\":\"f5913824-231e-450b-b1f1-4e1f1e9301e8\",\"type\":\"Line\"},{\"attributes\":{\"line_alpha\":0.6,\"line_color\":\"#984ea3\",\"line_width\":3,\"x\":{\"field\":\"x\"},\"y\":{\"field\":\"y\"}},\"id\":\"5524bf63-2c74-45de-ac53-5395ec3e9232\",\"type\":\"Line\"},{\"attributes\":{\"source\":{\"id\":\"241f7bf4-2be5-44a3-8690-0169c5205b9a\",\"type\":\"ColumnDataSource\"}},\"id\":\"1c5b4ec3-d366-47fd-b441-8825d852bd29\",\"type\":\"CDSView\"},{\"attributes\":{\"active_drag\":\"auto\",\"active_inspect\":\"auto\",\"active_scroll\":\"auto\",\"active_tap\":\"auto\",\"tools\":[{\"id\":\"38f38446-c7a7-4c18-aba4-0c44b5787fb8\",\"type\":\"PanTool\"},{\"id\":\"7c99ba87-2466-4f0d-b8e3-aafbf4ef52d8\",\"type\":\"WheelZoomTool\"},{\"id\":\"cdb2072e-3f99-4e99-99ed-0eae7805d63d\",\"type\":\"BoxZoomTool\"},{\"id\":\"bafec51d-a744-4f11-915d-5b770343b1a1\",\"type\":\"SaveTool\"},{\"id\":\"a82c1c59-2046-4bd6-b7ff-dab9549475bb\",\"type\":\"ResetTool\"},{\"id\":\"b518c4da-0dc2-41b6-ace5-209d04a94fed\",\"type\":\"HelpTool\"}]},\"id\":\"79ea6793-315e-4257-8520-e11ce4de9390\",\"type\":\"Toolbar\"},{\"attributes\":{\"callback\":null,\"column_names\":[\"x\",\"y\"],\"data\":{\"x\":{\"__ndarray__\":\"W0V7DG1X7b6wIa3/SUbtvuCbWTeCHu2+KXVsDxHv7L68RG5tJ7rsvq2J0qpvf+y+hrq3Z88+7L4ev+LAD/jrvum+37v5quu+ZFjCvXBX675q53e9SP3qvrnmJP5ZnOq+Pnn2yHA06r5EExpf2r3pvi41x68mJ+i+fiKC63If4r5mvLSJa8W/viZQnMIw+OM+TlzcpOmy/D4vGFOIHXAMP9J2H3TAgBg/FT0WlhaFIz9ftkUdKTUrP+5YIV9mBSw/swe6eHL6JT89zqtINjsfP9X0C5sJAhU/3NZqhAqvCj+k5vDRyY//PneZdqtc5u8+9kE9ZMqP0D4SvoXpOgrTvoMBixHCe+W+ImgMe+HF7b7cd0GorKvyvsocp6M5Ova+oykS0LPd+L7hrcJpprT6vsTVu4hZXfy+nFkyFaOq/r6MW0i3P8kGvw86uB4tJRq/IiNhKccLJr/LliL2QP8pvwh+ZAxZlBa/i94VfaklMD+Dde9nk35KP3jmSP5d7Fk/9YOv8N6+ZT9yHnHO+j1wPxs1bzw9a3Y/7M11rKomfT9PNr4ImsGBP1ADBBXiI4c/NPQhgeXVij8NQGkhlCeQP2abVAFEhpM/vSv25/9tmD+aeQD4mCmePxbXSgI6bqI/e/MJjH0Rpj+OLquOcdipP0q8jqqj3q0/FngBpen2sD+yQ2iaTCSzP6ghCck1GbY/d4o7pGXotz/8ppNNJpS5P4xIC/f6lrs/0Ak276KevT/1VJKJMo6/PwAL8QMex8A/EBG7DiL9wT+JlhBxH1nDPxm/0vQ3Q8U/\",\"dtype\":\"float64\",\"shape\":[75]},\"y\":{\"__ndarray__\":\"GhExyth1ND/Sv8nbtpRIP2vylNV0PVE/aTum7souWD/At0SJ8fVgPw3Iuahxymc/MSNhhJWvcD/bTfBN02d3P2zb5nxnaoA/CD5h5MAGhz8NmeH1TyaQP+zrCsc9p5Y/LbKd76fGnz/bLW5ISEmmPww9YvTcQq8/JV2OstnstT8Er5Y7M8G+P0c+r3jqkcU/5h99k6ZBzj88bCIzFzjVP4enV8oyxN0//yH99nXg5D8qOpLLf0jtP5kqGJXUifQ/c9cS8kHP/D+/DpwzojQEQIEmwoanVwxA4lgXt9HgE0BSSZ2AJuIbQAMJih9jjiNA5q4l5INuK0AwTKYKRj0zQNv5fmq8/DpAaCJseHrtQkB/+zpwzoxKQM3MzMzMeFJAZmZmZmZqWEAAAAAAAFxeQM3MzMzMJmJAmpmZmZkfZUBmZmZmZhhoQDMzMzMzEWtAAAAAAAAKbkBmZmZmZoFwQM3MzMzM/XFAMzMzMzN6c0CamZmZmfZ0QAAAAAAAc3ZAZmZmZmbvd0DNzMzMzGt5QDMzMzMz6HpAmpmZmZlkfEAAAAAAAOF9QGZmZmZmXX9AZmZmZuZsgECamZmZGSuBQM3MzMxM6YFAAAAAAICngkAzMzMzs2WDQGZmZmbmI4RAmpmZmRnihEDNzMzMTKCFQAAAAACAXoZAMzMzM7Mch0BmZmZm5tqHQJqZmZkZmYhAzczMzExXiUAAAAAAgBWKQDMzMzOz04pAZmZmZuaRi0CamZmZGVCMQM3MzMxMDo1AAAAAAIDMjUAzMzMzs4qOQGZmZmbmSI9A\",\"dtype\":\"float64\",\"shape\":[75]}}},\"id\":\"c6c4f169-d63b-4afb-9601-af824cf16a45\",\"type\":\"ColumnDataSource\"},{\"attributes\":{\"below\":[{\"id\":\"6ed1d7f0-2ac4-4668-9834-cad2a7abc42b\",\"type\":\"LinearAxis\"}],\"left\":[{\"id\":\"d6e2750d-6fdc-4409-bdd6-5df52f44fb83\",\"type\":\"LinearAxis\"}],\"plot_height\":500,\"plot_width\":400,\"renderers\":[{\"id\":\"6ed1d7f0-2ac4-4668-9834-cad2a7abc42b\",\"type\":\"LinearAxis\"},{\"id\":\"119906ff-0676-4882-9c79-5acf27f33bd5\",\"type\":\"Grid\"},{\"id\":\"d6e2750d-6fdc-4409-bdd6-5df52f44fb83\",\"type\":\"LinearAxis\"},{\"id\":\"bc7b9350-9e13-4fcc-b514-5841dfbcb011\",\"type\":\"Grid\"},{\"id\":\"eb45006d-27bb-4ada-bf30-86e13cd5feb6\",\"type\":\"BoxAnnotation\"},{\"id\":\"877c57d5-d67c-48f0-85a9-e81609db2265\",\"type\":\"GlyphRenderer\"},{\"id\":\"2f630d73-471a-4812-86b1-44a9911a4adf\",\"type\":\"GlyphRenderer\"},{\"id\":\"d3274815-8344-476c-bac0-af615980e9b7\",\"type\":\"GlyphRenderer\"},{\"id\":\"562f0c4e-a607-45c4-a179-a79d6fb704c6\",\"type\":\"GlyphRenderer\"},{\"id\":\"bb5f9ba4-b1a9-4aa4-992b-722e551ed01a\",\"type\":\"GlyphRenderer\"}],\"title\":{\"id\":\"c636c981-7bd2-49e6-9186-e160b89a0851\",\"type\":\"Title\"},\"toolbar\":{\"id\":\"79ea6793-315e-4257-8520-e11ce4de9390\",\"type\":\"Toolbar\"},\"toolbar_location\":null,\"x_range\":{\"id\":\"3ae29687-c488-450f-bff6-acaa0ec1053e\",\"type\":\"Range1d\"},\"x_scale\":{\"id\":\"c7b8f0d7-f7c7-4690-8314-96a1d8a10c81\",\"type\":\"LinearScale\"},\"y_range\":{\"id\":\"c36cb0f4-db29-497e-8070-5849153ef94d\",\"type\":\"Range1d\"},\"y_scale\":{\"id\":\"afdc1c9d-d87b-4d38-8e18-4d0f493cd474\",\"type\":\"LinearScale\"}},\"id\":\"97867b6a-dddb-4598-90be-2aeab34578af\",\"subtype\":\"Figure\",\"type\":\"Plot\"},{\"attributes\":{\"plot\":null,\"text\":\"Linear pressure scale\"},\"id\":\"c636c981-7bd2-49e6-9186-e160b89a0851\",\"type\":\"Title\"},{\"attributes\":{\"source\":{\"id\":\"d861cedd-7093-4e7b-9d1b-11fc55c1c567\",\"type\":\"ColumnDataSource\"}},\"id\":\"7a6ea59a-4cae-4966-a8db-644ff4a19d85\",\"type\":\"CDSView\"},{\"attributes\":{},\"id\":\"04d67012-f772-4796-9eca-95a51f4bea99\",\"type\":\"BasicTickFormatter\"},{\"attributes\":{},\"id\":\"b4d70d59-da67-4c36-b12c-814fc5e4cd0f\",\"type\":\"WheelZoomTool\"},{\"attributes\":{\"data_source\":{\"id\":\"d861cedd-7093-4e7b-9d1b-11fc55c1c567\",\"type\":\"ColumnDataSource\"},\"glyph\":{\"id\":\"a521a238-019e-4a19-949a-de7a3e3a6a1c\",\"type\":\"Line\"},\"hover_glyph\":null,\"muted_glyph\":null,\"nonselection_glyph\":{\"id\":\"584155bb-3b4d-482a-99df-57c027d0b479\",\"type\":\"Line\"},\"selection_glyph\":null,\"view\":{\"id\":\"7a6ea59a-4cae-4966-a8db-644ff4a19d85\",\"type\":\"CDSView\"}},\"id\":\"877c57d5-d67c-48f0-85a9-e81609db2265\",\"type\":\"GlyphRenderer\"},{\"attributes\":{\"data_source\":{\"id\":\"241f7bf4-2be5-44a3-8690-0169c5205b9a\",\"type\":\"ColumnDataSource\"},\"glyph\":{\"id\":\"f29472c8-c4d5-444f-8415-4ad8a5c32900\",\"type\":\"Square\"},\"hover_glyph\":null,\"muted_glyph\":null,\"nonselection_glyph\":{\"id\":\"b5d0dbd2-bab0-4323-8280-0376e8ee2eb6\",\"type\":\"Square\"},\"selection_glyph\":null,\"view\":{\"id\":\"1c5b4ec3-d366-47fd-b441-8825d852bd29\",\"type\":\"CDSView\"}},\"id\":\"562f0c4e-a607-45c4-a179-a79d6fb704c6\",\"type\":\"GlyphRenderer\"},{\"attributes\":{\"axis_label\":\"cooling rate [K/day]\",\"formatter\":{\"id\":\"04d67012-f772-4796-9eca-95a51f4bea99\",\"type\":\"BasicTickFormatter\"},\"plot\":{\"id\":\"00bc02a4-7868-4eb8-8300-1d618c2a8897\",\"subtype\":\"Figure\",\"type\":\"Plot\"},\"ticker\":{\"id\":\"7d213a9a-d624-4d12-afe7-ea6ba239040c\",\"type\":\"BasicTicker\"}},\"id\":\"958c3e80-5974-4f99-bfec-a8f89ee34ad7\",\"type\":\"LinearAxis\"},{\"attributes\":{\"plot\":{\"id\":\"00bc02a4-7868-4eb8-8300-1d618c2a8897\",\"subtype\":\"Figure\",\"type\":\"Plot\"},\"ticker\":{\"id\":\"7d213a9a-d624-4d12-afe7-ea6ba239040c\",\"type\":\"BasicTicker\"}},\"id\":\"0eb602bd-53e8-4faa-9b8f-1cc45bfb37a7\",\"type\":\"Grid\"},{\"attributes\":{},\"id\":\"7d213a9a-d624-4d12-afe7-ea6ba239040c\",\"type\":\"BasicTicker\"},{\"attributes\":{\"fill_alpha\":{\"value\":0.1},\"fill_color\":{\"value\":\"#1f77b4\"},\"line_alpha\":{\"value\":0.1},\"line_color\":{\"value\":\"#1f77b4\"},\"x\":{\"field\":\"x\"},\"y\":{\"field\":\"y\"}},\"id\":\"b5d0dbd2-bab0-4323-8280-0376e8ee2eb6\",\"type\":\"Square\"},{\"attributes\":{},\"id\":\"1f0e7b6f-0d2c-4d84-8109-77019342c98a\",\"type\":\"PanTool\"},{\"attributes\":{\"callback\":null,\"column_names\":[\"x\",\"y\"],\"data\":{\"x\":{\"__ndarray__\":\"lds3YbFo+L5iz/aa/DL4vn86tVbQuve+avrBUiEz975XmJy3vqH2vj0z0Ba3Bva++QzAHrZh9b55oqmwhrL0vhAYgvqf+PO+0DkFot0z8778jST7kmLyvjKcDu0YhvG+raP9/Gif8L7yW+dlFjjvvk7GwQRMh+i+kQXawJ/Tmb7KGnsLhoj5Pmx1/boS1hA/aUpMSQJbID+qJnRh7wssP1j6XXVaZTY/txbdZiAJQT89vk2i2R1HP7hB2RU3mEc/uXhl3S2SQj+TklsVib86P5lq8IUveTI/K840+YyOKD9yXnEZYp8fP2UNnxkajRM/3Hwl22gfBT8ow5FPUp/wPvcpoUegea0+P+egorLy4L4PqQUkzmLvvh200tQBmvW+DAXMJ70T+b7wpdJ2mbz6vnaWfDH5Z/y+LPRNbYtf/r6JU6yWlwUFv9Qz9usQ2RO/PUry0vFNFb86zBsEFOjxPmdbbBjLijM/PS0baHa9Rz989wJMhEFVP4xdZDtNEWE/S+Nlf/hvaT/lzfIYhAJyPw9CYvGSdXg/ix5FzBaYfz+oXyhz+tmDP0mCt9qfmIg/RJoYlUsYjj8UUTKK/DKSPxoKciz81JU/gOZGbe8Omz//msA19nOgP7nn5/CKjKM/8I+jqwfbpj8I7rxkTl2qPwtKLIQwEq4/1vGk9GgEsT8XTp8LjSGzP815FwZkY7U/CybYYUfBtz9AssqW9he6P9iypdy3Obw/GMu6oDotvj9oo6W4y/q/Pzf7Zg9y5sA/tSVAh9jkwT8DjFfuPxHDP8FdUaXByMQ/\",\"dtype\":\"float64\",\"shape\":[75]},\"y\":{\"__ndarray__\":\"GhExyth1ND/Sv8nbtpRIP2vylNV0PVE/aTum7souWD/At0SJ8fVgPw3Iuahxymc/MSNhhJWvcD/bTfBN02d3P2zb5nxnaoA/CD5h5MAGhz8NmeH1TyaQP+zrCsc9p5Y/LbKd76fGnz/bLW5ISEmmPww9YvTcQq8/JV2OstnstT8Er5Y7M8G+P0c+r3jqkcU/5h99k6ZBzj88bCIzFzjVP4enV8oyxN0//yH99nXg5D8qOpLLf0jtP5kqGJXUifQ/c9cS8kHP/D+/DpwzojQEQIEmwoanVwxA4lgXt9HgE0BSSZ2AJuIbQAMJih9jjiNA5q4l5INuK0AwTKYKRj0zQNv5fmq8/DpAaCJseHrtQkB/+zpwzoxKQM3MzMzMeFJAZmZmZmZqWEAAAAAAAFxeQM3MzMzMJmJAmpmZmZkfZUBmZmZmZhhoQDMzMzMzEWtAAAAAAAAKbkBmZmZmZoFwQM3MzMzM/XFAMzMzMzN6c0CamZmZmfZ0QAAAAAAAc3ZAZmZmZmbvd0DNzMzMzGt5QDMzMzMz6HpAmpmZmZlkfEAAAAAAAOF9QGZmZmZmXX9AZmZmZuZsgECamZmZGSuBQM3MzMxM6YFAAAAAAICngkAzMzMzs2WDQGZmZmbmI4RAmpmZmRnihEDNzMzMTKCFQAAAAACAXoZAMzMzM7Mch0BmZmZm5tqHQJqZmZkZmYhAzczMzExXiUAAAAAAgBWKQDMzMzOz04pAZmZmZuaRi0CamZmZGVCMQM3MzMxMDo1AAAAAAIDMjUAzMzMzs4qOQGZmZmbmSI9A\",\"dtype\":\"float64\",\"shape\":[75]}}},\"id\":\"c695d868-5efb-4104-bbf8-faf0e2cfb2e7\",\"type\":\"ColumnDataSource\"},{\"attributes\":{},\"id\":\"bc8fc21e-a019-4fe2-b311-657a74a62f5e\",\"type\":\"ResetTool\"},{\"attributes\":{\"data_source\":{\"id\":\"fdc3421a-10f8-49d8-b7f7-ec99624119f3\",\"type\":\"ColumnDataSource\"},\"glyph\":{\"id\":\"ef79c363-eab6-4b03-a86f-a57e7dcacacb\",\"type\":\"Circle\"},\"hover_glyph\":null,\"muted_glyph\":null,\"nonselection_glyph\":{\"id\":\"c40c2b92-edf7-4b0a-8d3d-ec6f39accc49\",\"type\":\"Circle\"},\"selection_glyph\":null,\"view\":{\"id\":\"413724a9-f9ac-4904-b9c9-6b15c272d93c\",\"type\":\"CDSView\"}},\"id\":\"3210912c-5247-46c2-8f0f-f017d2bf2333\",\"type\":\"GlyphRenderer\"},{\"attributes\":{\"fill_alpha\":{\"value\":0.7},\"fill_color\":{\"value\":\"#4daf4a\"},\"line_alpha\":{\"value\":0.7},\"line_color\":{\"value\":\"#4daf4a\"},\"x\":{\"field\":\"x\"},\"y\":{\"field\":\"y\"}},\"id\":\"ef79c363-eab6-4b03-a86f-a57e7dcacacb\",\"type\":\"Circle\"},{\"attributes\":{\"line_alpha\":0.1,\"line_color\":\"#1f77b4\",\"line_width\":1.5,\"x\":{\"field\":\"x\"},\"y\":{\"field\":\"y\"}},\"id\":\"bfdd5e02-c099-40c8-9036-fa682743144f\",\"type\":\"Line\"},{\"attributes\":{\"callback\":null,\"column_names\":[\"x\",\"y\"],\"data\":{\"x\":{\"__ndarray__\":\"lds3YbFo+L5iz/aa/DL4vn86tVbQuve+avrBUiEz975XmJy3vqH2vj0z0Ba3Bva++QzAHrZh9b55oqmwhrL0vhAYgvqf+PO+0DkFot0z8778jST7kmLyvjKcDu0YhvG+raP9/Gif8L7yW+dlFjjvvk7GwQRMh+i+kQXawJ/Tmb7KGnsLhoj5Pmx1/boS1hA/aUpMSQJbID+qJnRh7wssP1j6XXVaZTY/txbdZiAJQT89vk2i2R1HP7hB2RU3mEc/uXhl3S2SQj+TklsVib86P5lq8IUveTI/K840+YyOKD9yXnEZYp8fP2UNnxkajRM/3Hwl22gfBT8ow5FPUp/wPvcpoUegea0+P+egorLy4L4PqQUkzmLvvh200tQBmvW+DAXMJ70T+b7wpdJ2mbz6vnaWfDH5Z/y+LPRNbYtf/r6JU6yWlwUFv9Qz9usQ2RO/PUry0vFNFb86zBsEFOjxPmdbbBjLijM/PS0baHa9Rz989wJMhEFVP4xdZDtNEWE/S+Nlf/hvaT/lzfIYhAJyPw9CYvGSdXg/ix5FzBaYfz+oXyhz+tmDP0mCt9qfmIg/RJoYlUsYjj8UUTKK/DKSPxoKciz81JU/gOZGbe8Omz//msA19nOgP7nn5/CKjKM/8I+jqwfbpj8I7rxkTl2qPwtKLIQwEq4/1vGk9GgEsT8XTp8LjSGzP815FwZkY7U/CybYYUfBtz9AssqW9he6P9iypdy3Obw/GMu6oDotvj9oo6W4y/q/Pzf7Zg9y5sA/tSVAh9jkwT8DjFfuPxHDP8FdUaXByMQ/\",\"dtype\":\"float64\",\"shape\":[75]},\"y\":{\"__ndarray__\":\"GhExyth1ND/Sv8nbtpRIP2vylNV0PVE/aTum7souWD/At0SJ8fVgPw3Iuahxymc/MSNhhJWvcD/bTfBN02d3P2zb5nxnaoA/CD5h5MAGhz8NmeH1TyaQP+zrCsc9p5Y/LbKd76fGnz/bLW5ISEmmPww9YvTcQq8/JV2OstnstT8Er5Y7M8G+P0c+r3jqkcU/5h99k6ZBzj88bCIzFzjVP4enV8oyxN0//yH99nXg5D8qOpLLf0jtP5kqGJXUifQ/c9cS8kHP/D+/DpwzojQEQIEmwoanVwxA4lgXt9HgE0BSSZ2AJuIbQAMJih9jjiNA5q4l5INuK0AwTKYKRj0zQNv5fmq8/DpAaCJseHrtQkB/+zpwzoxKQM3MzMzMeFJAZmZmZmZqWEAAAAAAAFxeQM3MzMzMJmJAmpmZmZkfZUBmZmZmZhhoQDMzMzMzEWtAAAAAAAAKbkBmZmZmZoFwQM3MzMzM/XFAMzMzMzN6c0CamZmZmfZ0QAAAAAAAc3ZAZmZmZmbvd0DNzMzMzGt5QDMzMzMz6HpAmpmZmZlkfEAAAAAAAOF9QGZmZmZmXX9AZmZmZuZsgECamZmZGSuBQM3MzMxM6YFAAAAAAICngkAzMzMzs2WDQGZmZmbmI4RAmpmZmRnihEDNzMzMTKCFQAAAAACAXoZAMzMzM7Mch0BmZmZm5tqHQJqZmZkZmYhAzczMzExXiUAAAAAAgBWKQDMzMzOz04pAZmZmZuaRi0CamZmZGVCMQM3MzMxMDo1AAAAAAIDMjUAzMzMzs4qOQGZmZmbmSI9A\",\"dtype\":\"float64\",\"shape\":[75]}}},\"id\":\"d61223f7-ce5a-400b-8e00-2cbcc63fdc5d\",\"type\":\"ColumnDataSource\"},{\"attributes\":{\"callback\":null,\"column_names\":[\"x\",\"y\"],\"data\":{\"x\":{\"__ndarray__\":\"W0V7DG1X7b6wIa3/SUbtvuCbWTeCHu2+KXVsDxHv7L68RG5tJ7rsvq2J0qpvf+y+hrq3Z88+7L4ev+LAD/jrvum+37v5quu+ZFjCvXBX675q53e9SP3qvrnmJP5ZnOq+Pnn2yHA06r5EExpf2r3pvi41x68mJ+i+fiKC63If4r5mvLSJa8W/viZQnMIw+OM+TlzcpOmy/D4vGFOIHXAMP9J2H3TAgBg/FT0WlhaFIz9ftkUdKTUrP+5YIV9mBSw/swe6eHL6JT89zqtINjsfP9X0C5sJAhU/3NZqhAqvCj+k5vDRyY//PneZdqtc5u8+9kE9ZMqP0D4SvoXpOgrTvoMBixHCe+W+ImgMe+HF7b7cd0GorKvyvsocp6M5Ova+oykS0LPd+L7hrcJpprT6vsTVu4hZXfy+nFkyFaOq/r6MW0i3P8kGvw86uB4tJRq/IiNhKccLJr/LliL2QP8pvwh+ZAxZlBa/i94VfaklMD+Dde9nk35KP3jmSP5d7Fk/9YOv8N6+ZT9yHnHO+j1wPxs1bzw9a3Y/7M11rKomfT9PNr4ImsGBP1ADBBXiI4c/NPQhgeXVij8NQGkhlCeQP2abVAFEhpM/vSv25/9tmD+aeQD4mCmePxbXSgI6bqI/e/MJjH0Rpj+OLquOcdipP0q8jqqj3q0/FngBpen2sD+yQ2iaTCSzP6ghCck1GbY/d4o7pGXotz/8ppNNJpS5P4xIC/f6lrs/0Ak276KevT/1VJKJMo6/PwAL8QMex8A/EBG7DiL9wT+JlhBxH1nDPxm/0vQ3Q8U/\",\"dtype\":\"float64\",\"shape\":[75]},\"y\":{\"__ndarray__\":\"GhExyth1ND/Sv8nbtpRIP2vylNV0PVE/aTum7souWD/At0SJ8fVgPw3Iuahxymc/MSNhhJWvcD/bTfBN02d3P2zb5nxnaoA/CD5h5MAGhz8NmeH1TyaQP+zrCsc9p5Y/LbKd76fGnz/bLW5ISEmmPww9YvTcQq8/JV2OstnstT8Er5Y7M8G+P0c+r3jqkcU/5h99k6ZBzj88bCIzFzjVP4enV8oyxN0//yH99nXg5D8qOpLLf0jtP5kqGJXUifQ/c9cS8kHP/D+/DpwzojQEQIEmwoanVwxA4lgXt9HgE0BSSZ2AJuIbQAMJih9jjiNA5q4l5INuK0AwTKYKRj0zQNv5fmq8/DpAaCJseHrtQkB/+zpwzoxKQM3MzMzMeFJAZmZmZmZqWEAAAAAAAFxeQM3MzMzMJmJAmpmZmZkfZUBmZmZmZhhoQDMzMzMzEWtAAAAAAAAKbkBmZmZmZoFwQM3MzMzM/XFAMzMzMzN6c0CamZmZmfZ0QAAAAAAAc3ZAZmZmZmbvd0DNzMzMzGt5QDMzMzMz6HpAmpmZmZlkfEAAAAAAAOF9QGZmZmZmXX9AZmZmZuZsgECamZmZGSuBQM3MzMxM6YFAAAAAAICngkAzMzMzs2WDQGZmZmbmI4RAmpmZmRnihEDNzMzMTKCFQAAAAACAXoZAMzMzM7Mch0BmZmZm5tqHQJqZmZkZmYhAzczMzExXiUAAAAAAgBWKQDMzMzOz04pAZmZmZuaRi0CamZmZGVCMQM3MzMxMDo1AAAAAAIDMjUAzMzMzs4qOQGZmZmbmSI9A\",\"dtype\":\"float64\",\"shape\":[75]}}},\"id\":\"49f1edb6-a849-43a2-9af9-a299c7098cc4\",\"type\":\"ColumnDataSource\"},{\"attributes\":{\"line_alpha\":0.1,\"line_color\":\"#1f77b4\",\"line_width\":1.5,\"x\":{\"field\":\"x\"},\"y\":{\"field\":\"y\"}},\"id\":\"9faab98a-fd67-4a3f-9f70-bfb4fed7bf27\",\"type\":\"Line\"},{\"attributes\":{\"callback\":null,\"column_names\":[\"x\",\"y\"],\"data\":{\"x\":{\"__ndarray__\":\"AAAAAAAAAAAAAAAAAAAAAAAAAAAAAAAAAAAAAAAAAAAAAAAAAAAAAAAAAAAAAAAAAAAAAAAAAAAAAAAAAAAAAAAAAAAAAAAAAAAAAAAAAAAAAAAAAAAAAAAAAAAAAAAAAAAAAAAAAAAAAAAAAAAAAAAAAAAAAAAAAAAAAAAAAAC8CEvhWzNKPwAAAAAAAAAAAAAAAAAAAAAAAAAAAAAAAM64yBLzDRs/b2m/B9/1LD8fX1r/VYMLP29iKf/AbC0/gMn5zAb4Gz/Ddg6dUukdP+SRWCHfxBE/TKy2fs5m/j61sO5EHOb8PlV17h4EmuQ+AAAAAAAAAAD36HZ+8fDkvudvvDnFZOa+L/GR3oFL8b70w9Y3+ffyvnMox8YkA/a+wBIjxwmQ+b5yVTyl0UX6vluHNsYmZ/y+li+kQu8c/b4iUBrCl8kHv/Ve1E60oBq/Kn8riN9LKb/O2jEixiwxvwEaxx9hSi2/GQKuoVwbEj+dVvjfR5JDP4vaY8TquFY/pxR2fHQdZD8It7Zh7RdvP5v0sn4X3HU/p3t0noVBfD9/1cCArWyBP15LRM+YD4U/Sot3ozZBiT/GNq4hZmaOP5IbIscGbZI/JX40uIdmlz9029ydV2qdPwwouH4YJqI/wQ/RXx0Epj/x2pjjhCWqP7Hn+0EOXq4/I55wn+pKsT/TrEOgwFyzP8c5ib8obLU/lzvfweJ/tz9NcVIh6Za5P8c5f021mrs/HVx0kcaRvT+oeeDG2p2/P1foB54Q9MA/b1hDd4NHwj8546iaKNvDPzfC5D4g7cU/\",\"dtype\":\"float64\",\"shape\":[75]},\"y\":{\"__ndarray__\":\"S/O/Q+51ND/430zAtpRIP2vylNV0PVE/QxsjCssuWD/TR4Z78fVgP+inNsRxymc/OuuBfZWvcD/u3TFA02d3P2d3VoBnaoA/CD5h5MAGhz/1pA8HUCaQP+zrCsc9p5Y/Fb7LAKjGnz/nJ9c/SEmmPwBD+fzcQq8/FOZwv9nstT8Er5Y7M8G+P0c+r3jqkcU/yK72qKZBzj+tM989FzjVPxbgmr8yxN0/cOm5AXbg5D+5ctXAf0jtP5kqGJXUifQ/DsrqDELP/D8MCAhBojQEQDItVnmnVwxAiFXNvdHgE0BSSZ2AJuIbQAMJih9jjiNA5q4l5INuK0CPVN/5RT0zQHzxRXu8/DpAOZ7PgHrtQkAg8wGBzoxKQBSTN8DMeFJA2NmQf2ZqWEAAAAAAAFxeQEQX1LfMJmJAmpmZmZkfZUBmZmZmZhhoQLzoK0gzEWtAAAAAAAAKbkCiC+pbZoFwQAhyUMLM/XFA+I2vPTN6c0AQ5KCEmfZ0QAAAAAAAc3ZA8Btfe2bvd0AIclDCzGt5QPeNrz0z6HpAEOSghJlkfEAAAAAAAOF9QKML6ltmXX9ABTkoYeZsgED7xteeGSuBQAhyUMJM6YFAAAAAAICngkD4ja89s2WDQAU5KGHmI4RA+8bXnhnihEAIclDCTKCFQAAAAACAXoZA+I2vPbMch0AFOShh5tqHQPvG154ZmYhACHJQwkxXiUAAAAAAgBWKQPeNrz2z04pABTkoYeaRi0D7xteeGVCMQAlyUMJMDo1AAAAAAIDMjUD3ja89s4qOQGZmZmbmSI9A\",\"dtype\":\"float64\",\"shape\":[75]}}},\"id\":\"d861cedd-7093-4e7b-9d1b-11fc55c1c567\",\"type\":\"ColumnDataSource\"},{\"attributes\":{\"ticker\":null},\"id\":\"1224a7b2-be16-41ed-b1b6-6fa46ce4e9fe\",\"type\":\"LogTickFormatter\"},{\"attributes\":{\"line_alpha\":0.6,\"line_color\":\"#e41a1c\",\"line_dash\":[6],\"line_width\":5,\"x\":{\"field\":\"x\"},\"y\":{\"field\":\"y\"}},\"id\":\"a712b915-e7ac-4329-8bcc-0c2f362878c1\",\"type\":\"Line\"},{\"attributes\":{},\"id\":\"e409c6f7-5350-488d-925d-2c135e62e3b7\",\"type\":\"HelpTool\"},{\"attributes\":{\"callback\":null,\"column_names\":[\"x\",\"y\"],\"data\":{\"x\":{\"__ndarray__\":\"lds3YbFo+L5iz/aa/DL4vn86tVbQuve+avrBUiEz975XmJy3vqH2vj0z0Ba3Bva++QzAHrZh9b55oqmwhrL0vhAYgvqf+PO+0DkFot0z8778jST7kmLyvjKcDu0YhvG+raP9/Gif8L7yW+dlFjjvvk7GwQRMh+i+kQXawJ/Tmb7KGnsLhoj5Pmx1/boS1hA/aUpMSQJbID+qJnRh7wssP1j6XXVaZTY/txbdZiAJQT89vk2i2R1HP7hB2RU3mEc/uXhl3S2SQj+TklsVib86P5lq8IUveTI/K840+YyOKD9yXnEZYp8fP2UNnxkajRM/3Hwl22gfBT8ow5FPUp/wPvcpoUegea0+P+egorLy4L4PqQUkzmLvvh200tQBmvW+DAXMJ70T+b7wpdJ2mbz6vnaWfDH5Z/y+LPRNbYtf/r6JU6yWlwUFv9Qz9usQ2RO/PUry0vFNFb86zBsEFOjxPmdbbBjLijM/PS0baHa9Rz989wJMhEFVP4xdZDtNEWE/S+Nlf/hvaT/lzfIYhAJyPw9CYvGSdXg/ix5FzBaYfz+oXyhz+tmDP0mCt9qfmIg/RJoYlUsYjj8UUTKK/DKSPxoKciz81JU/gOZGbe8Omz//msA19nOgP7nn5/CKjKM/8I+jqwfbpj8I7rxkTl2qPwtKLIQwEq4/1vGk9GgEsT8XTp8LjSGzP815FwZkY7U/CybYYUfBtz9AssqW9he6P9iypdy3Obw/GMu6oDotvj9oo6W4y/q/Pzf7Zg9y5sA/tSVAh9jkwT8DjFfuPxHDP8FdUaXByMQ/\",\"dtype\":\"float64\",\"shape\":[75]},\"y\":{\"__ndarray__\":\"GhExyth1ND/Sv8nbtpRIP2vylNV0PVE/aTum7souWD/At0SJ8fVgPw3Iuahxymc/MSNhhJWvcD/bTfBN02d3P2zb5nxnaoA/CD5h5MAGhz8NmeH1TyaQP+zrCsc9p5Y/LbKd76fGnz/bLW5ISEmmPww9YvTcQq8/JV2OstnstT8Er5Y7M8G+P0c+r3jqkcU/5h99k6ZBzj88bCIzFzjVP4enV8oyxN0//yH99nXg5D8qOpLLf0jtP5kqGJXUifQ/c9cS8kHP/D+/DpwzojQEQIEmwoanVwxA4lgXt9HgE0BSSZ2AJuIbQAMJih9jjiNA5q4l5INuK0AwTKYKRj0zQNv5fmq8/DpAaCJseHrtQkB/+zpwzoxKQM3MzMzMeFJAZmZmZmZqWEAAAAAAAFxeQM3MzMzMJmJAmpmZmZkfZUBmZmZmZhhoQDMzMzMzEWtAAAAAAAAKbkBmZmZmZoFwQM3MzMzM/XFAMzMzMzN6c0CamZmZmfZ0QAAAAAAAc3ZAZmZmZmbvd0DNzMzMzGt5QDMzMzMz6HpAmpmZmZlkfEAAAAAAAOF9QGZmZmZmXX9AZmZmZuZsgECamZmZGSuBQM3MzMxM6YFAAAAAAICngkAzMzMzs2WDQGZmZmbmI4RAmpmZmRnihEDNzMzMTKCFQAAAAACAXoZAMzMzM7Mch0BmZmZm5tqHQJqZmZkZmYhAzczMzExXiUAAAAAAgBWKQDMzMzOz04pAZmZmZuaRi0CamZmZGVCMQM3MzMxMDo1AAAAAAIDMjUAzMzMzs4qOQGZmZmbmSI9A\",\"dtype\":\"float64\",\"shape\":[75]}}},\"id\":\"fdc3421a-10f8-49d8-b7f7-ec99624119f3\",\"type\":\"ColumnDataSource\"},{\"attributes\":{\"fill_alpha\":{\"value\":0.1},\"fill_color\":{\"value\":\"#1f77b4\"},\"line_alpha\":{\"value\":0.1},\"line_color\":{\"value\":\"#1f77b4\"},\"x\":{\"field\":\"x\"},\"y\":{\"field\":\"y\"}},\"id\":\"c40c2b92-edf7-4b0a-8d3d-ec6f39accc49\",\"type\":\"Circle\"},{\"attributes\":{\"fill_alpha\":{\"value\":0.1},\"fill_color\":{\"value\":\"#1f77b4\"},\"line_alpha\":{\"value\":0.1},\"line_color\":{\"value\":\"#1f77b4\"},\"x\":{\"field\":\"x\"},\"y\":{\"field\":\"y\"}},\"id\":\"c3a1e558-1260-4ea1-b284-cdeacffeab71\",\"type\":\"Circle\"},{\"attributes\":{\"source\":{\"id\":\"fdc3421a-10f8-49d8-b7f7-ec99624119f3\",\"type\":\"ColumnDataSource\"}},\"id\":\"413724a9-f9ac-4904-b9c9-6b15c272d93c\",\"type\":\"CDSView\"},{\"attributes\":{\"line_color\":\"#4daf4a\",\"line_width\":1.5,\"x\":{\"field\":\"x\"},\"y\":{\"field\":\"y\"}},\"id\":\"180efee6-4819-4ceb-9e80-f1f0b0b497d8\",\"type\":\"Line\"},{\"attributes\":{\"data_source\":{\"id\":\"d61223f7-ce5a-400b-8e00-2cbcc63fdc5d\",\"type\":\"ColumnDataSource\"},\"glyph\":{\"id\":\"180efee6-4819-4ceb-9e80-f1f0b0b497d8\",\"type\":\"Line\"},\"hover_glyph\":null,\"muted_glyph\":null,\"nonselection_glyph\":{\"id\":\"9faab98a-fd67-4a3f-9f70-bfb4fed7bf27\",\"type\":\"Line\"},\"selection_glyph\":null,\"view\":{\"id\":\"f31dd454-2657-4623-b851-412b9b24a8e4\",\"type\":\"CDSView\"}},\"id\":\"4845c849-c5fb-463a-83cb-0e4433647412\",\"type\":\"GlyphRenderer\"},{\"attributes\":{\"callback\":null,\"end\":0.0008080289949200001,\"start\":-5.3820506920000005e-05},\"id\":\"175dc2a6-ddb3-403c-9213-93b0ac956046\",\"type\":\"Range1d\"},{\"attributes\":{\"callback\":null,\"column_names\":[\"x\",\"y\"],\"data\":{\"x\":{\"__ndarray__\":\"lds3YbFo+L5iz/aa/DL4vn86tVbQuve+avrBUiEz975XmJy3vqH2vj0z0Ba3Bva++QzAHrZh9b55oqmwhrL0vhAYgvqf+PO+0DkFot0z8778jST7kmLyvjKcDu0YhvG+raP9/Gif8L7yW+dlFjjvvk7GwQRMh+i+kQXawJ/Tmb7KGnsLhoj5Pmx1/boS1hA/aUpMSQJbID+qJnRh7wssP1j6XXVaZTY/txbdZiAJQT89vk2i2R1HP7hB2RU3mEc/uXhl3S2SQj+TklsVib86P5lq8IUveTI/K840+YyOKD9yXnEZYp8fP2UNnxkajRM/3Hwl22gfBT8ow5FPUp/wPvcpoUegea0+P+egorLy4L4PqQUkzmLvvh200tQBmvW+DAXMJ70T+b7wpdJ2mbz6vnaWfDH5Z/y+LPRNbYtf/r6JU6yWlwUFv9Qz9usQ2RO/PUry0vFNFb86zBsEFOjxPmdbbBjLijM/PS0baHa9Rz989wJMhEFVP4xdZDtNEWE/S+Nlf/hvaT/lzfIYhAJyPw9CYvGSdXg/ix5FzBaYfz+oXyhz+tmDP0mCt9qfmIg/RJoYlUsYjj8UUTKK/DKSPxoKciz81JU/gOZGbe8Omz//msA19nOgP7nn5/CKjKM/8I+jqwfbpj8I7rxkTl2qPwtKLIQwEq4/1vGk9GgEsT8XTp8LjSGzP815FwZkY7U/CybYYUfBtz9AssqW9he6P9iypdy3Obw/GMu6oDotvj9oo6W4y/q/Pzf7Zg9y5sA/tSVAh9jkwT8DjFfuPxHDP8FdUaXByMQ/\",\"dtype\":\"float64\",\"shape\":[75]},\"y\":{\"__ndarray__\":\"GhExyth1ND/Sv8nbtpRIP2vylNV0PVE/aTum7souWD/At0SJ8fVgPw3Iuahxymc/MSNhhJWvcD/bTfBN02d3P2zb5nxnaoA/CD5h5MAGhz8NmeH1TyaQP+zrCsc9p5Y/LbKd76fGnz/bLW5ISEmmPww9YvTcQq8/JV2OstnstT8Er5Y7M8G+P0c+r3jqkcU/5h99k6ZBzj88bCIzFzjVP4enV8oyxN0//yH99nXg5D8qOpLLf0jtP5kqGJXUifQ/c9cS8kHP/D+/DpwzojQEQIEmwoanVwxA4lgXt9HgE0BSSZ2AJuIbQAMJih9jjiNA5q4l5INuK0AwTKYKRj0zQNv5fmq8/DpAaCJseHrtQkB/+zpwzoxKQM3MzMzMeFJAZmZmZmZqWEAAAAAAAFxeQM3MzMzMJmJAmpmZmZkfZUBmZmZmZhhoQDMzMzMzEWtAAAAAAAAKbkBmZmZmZoFwQM3MzMzM/XFAMzMzMzN6c0CamZmZmfZ0QAAAAAAAc3ZAZmZmZmbvd0DNzMzMzGt5QDMzMzMz6HpAmpmZmZlkfEAAAAAAAOF9QGZmZmZmXX9AZmZmZuZsgECamZmZGSuBQM3MzMxM6YFAAAAAAICngkAzMzMzs2WDQGZmZmbmI4RAmpmZmRnihEDNzMzMTKCFQAAAAACAXoZAMzMzM7Mch0BmZmZm5tqHQJqZmZkZmYhAzczMzExXiUAAAAAAgBWKQDMzMzOz04pAZmZmZuaRi0CamZmZGVCMQM3MzMxMDo1AAAAAAIDMjUAzMzMzs4qOQGZmZmbmSI9A\",\"dtype\":\"float64\",\"shape\":[75]}}},\"id\":\"5f4f3a8d-61e4-4306-8f2a-25a411eb316c\",\"type\":\"ColumnDataSource\"},{\"attributes\":{\"callback\":null,\"column_names\":[\"x\",\"y\"],\"data\":{\"x\":{\"__ndarray__\":\"W0V7DG1X7b6wIa3/SUbtvuCbWTeCHu2+KXVsDxHv7L68RG5tJ7rsvq2J0qpvf+y+hrq3Z88+7L4ev+LAD/jrvum+37v5quu+ZFjCvXBX675q53e9SP3qvrnmJP5ZnOq+Pnn2yHA06r5EExpf2r3pvi41x68mJ+i+fiKC63If4r5mvLSJa8W/viZQnMIw+OM+TlzcpOmy/D4vGFOIHXAMP9J2H3TAgBg/FT0WlhaFIz9ftkUdKTUrP+5YIV9mBSw/swe6eHL6JT89zqtINjsfP9X0C5sJAhU/3NZqhAqvCj+k5vDRyY//PneZdqtc5u8+9kE9ZMqP0D4SvoXpOgrTvoMBixHCe+W+ImgMe+HF7b7cd0GorKvyvsocp6M5Ova+oykS0LPd+L7hrcJpprT6vsTVu4hZXfy+nFkyFaOq/r6MW0i3P8kGvw86uB4tJRq/IiNhKccLJr/LliL2QP8pvwh+ZAxZlBa/i94VfaklMD+Dde9nk35KP3jmSP5d7Fk/9YOv8N6+ZT9yHnHO+j1wPxs1bzw9a3Y/7M11rKomfT9PNr4ImsGBP1ADBBXiI4c/NPQhgeXVij8NQGkhlCeQP2abVAFEhpM/vSv25/9tmD+aeQD4mCmePxbXSgI6bqI/e/MJjH0Rpj+OLquOcdipP0q8jqqj3q0/FngBpen2sD+yQ2iaTCSzP6ghCck1GbY/d4o7pGXotz/8ppNNJpS5P4xIC/f6lrs/0Ak276KevT/1VJKJMo6/PwAL8QMex8A/EBG7DiL9wT+JlhBxH1nDPxm/0vQ3Q8U/\",\"dtype\":\"float64\",\"shape\":[75]},\"y\":{\"__ndarray__\":\"GhExyth1ND/Sv8nbtpRIP2vylNV0PVE/aTum7souWD/At0SJ8fVgPw3Iuahxymc/MSNhhJWvcD/bTfBN02d3P2zb5nxnaoA/CD5h5MAGhz8NmeH1TyaQP+zrCsc9p5Y/LbKd76fGnz/bLW5ISEmmPww9YvTcQq8/JV2OstnstT8Er5Y7M8G+P0c+r3jqkcU/5h99k6ZBzj88bCIzFzjVP4enV8oyxN0//yH99nXg5D8qOpLLf0jtP5kqGJXUifQ/c9cS8kHP/D+/DpwzojQEQIEmwoanVwxA4lgXt9HgE0BSSZ2AJuIbQAMJih9jjiNA5q4l5INuK0AwTKYKRj0zQNv5fmq8/DpAaCJseHrtQkB/+zpwzoxKQM3MzMzMeFJAZmZmZmZqWEAAAAAAAFxeQM3MzMzMJmJAmpmZmZkfZUBmZmZmZhhoQDMzMzMzEWtAAAAAAAAKbkBmZmZmZoFwQM3MzMzM/XFAMzMzMzN6c0CamZmZmfZ0QAAAAAAAc3ZAZmZmZmbvd0DNzMzMzGt5QDMzMzMz6HpAmpmZmZlkfEAAAAAAAOF9QGZmZmZmXX9AZmZmZuZsgECamZmZGSuBQM3MzMxM6YFAAAAAAICngkAzMzMzs2WDQGZmZmbmI4RAmpmZmRnihEDNzMzMTKCFQAAAAACAXoZAMzMzM7Mch0BmZmZm5tqHQJqZmZkZmYhAzczMzExXiUAAAAAAgBWKQDMzMzOz04pAZmZmZuaRi0CamZmZGVCMQM3MzMxMDo1AAAAAAIDMjUAzMzMzs4qOQGZmZmbmSI9A\",\"dtype\":\"float64\",\"shape\":[75]}}},\"id\":\"25ff90c3-cbe5-45fa-8484-a469ae0686ff\",\"type\":\"ColumnDataSource\"},{\"attributes\":{\"source\":{\"id\":\"d61223f7-ce5a-400b-8e00-2cbcc63fdc5d\",\"type\":\"ColumnDataSource\"}},\"id\":\"f31dd454-2657-4623-b851-412b9b24a8e4\",\"type\":\"CDSView\"},{\"attributes\":{\"line_color\":\"#4daf4a\",\"line_width\":1.5,\"x\":{\"field\":\"x\"},\"y\":{\"field\":\"y\"}},\"id\":\"7705c617-ef79-4218-94fd-c972a19797dc\",\"type\":\"Line\"},{\"attributes\":{\"fill_alpha\":{\"value\":0.7},\"fill_color\":{\"value\":\"#984ea3\"},\"line_alpha\":{\"value\":0.7},\"line_color\":{\"value\":\"#984ea3\"},\"x\":{\"field\":\"x\"},\"y\":{\"field\":\"y\"}},\"id\":\"29dc4979-ceb3-44f7-bdf7-e4a016fa95ba\",\"type\":\"Square\"},{\"attributes\":{\"data_source\":{\"id\":\"49f1edb6-a849-43a2-9af9-a299c7098cc4\",\"type\":\"ColumnDataSource\"},\"glyph\":{\"id\":\"29dc4979-ceb3-44f7-bdf7-e4a016fa95ba\",\"type\":\"Square\"},\"hover_glyph\":null,\"muted_glyph\":null,\"nonselection_glyph\":{\"id\":\"f1f28a81-a8cb-456a-a5c4-ec622dc91a6a\",\"type\":\"Square\"},\"selection_glyph\":null,\"view\":{\"id\":\"379d6843-ca9d-45cb-b6b4-ca1fe238490b\",\"type\":\"CDSView\"}},\"id\":\"7043ed11-8cbe-4521-a071-37a4683d962c\",\"type\":\"GlyphRenderer\"},{\"attributes\":{\"fill_alpha\":{\"value\":0.1},\"fill_color\":{\"value\":\"#1f77b4\"},\"line_alpha\":{\"value\":0.1},\"line_color\":{\"value\":\"#1f77b4\"},\"x\":{\"field\":\"x\"},\"y\":{\"field\":\"y\"}},\"id\":\"f1f28a81-a8cb-456a-a5c4-ec622dc91a6a\",\"type\":\"Square\"},{\"attributes\":{\"source\":{\"id\":\"49f1edb6-a849-43a2-9af9-a299c7098cc4\",\"type\":\"ColumnDataSource\"}},\"id\":\"379d6843-ca9d-45cb-b6b4-ca1fe238490b\",\"type\":\"CDSView\"},{\"attributes\":{\"line_alpha\":0.6,\"line_color\":\"#984ea3\",\"line_width\":3,\"x\":{\"field\":\"x\"},\"y\":{\"field\":\"y\"}},\"id\":\"e6825b37-3c55-49b8-8684-9e704c274416\",\"type\":\"Line\"},{\"attributes\":{\"toolbar\":{\"id\":\"bfcd3968-9b65-4cd6-8a4d-36445fb05476\",\"type\":\"ProxyToolbar\"},\"toolbar_location\":\"above\"},\"id\":\"0e326e0f-16a3-4816-bd72-3c28ae501821\",\"type\":\"ToolbarBox\"},{\"attributes\":{\"data_source\":{\"id\":\"25ff90c3-cbe5-45fa-8484-a469ae0686ff\",\"type\":\"ColumnDataSource\"},\"glyph\":{\"id\":\"e6825b37-3c55-49b8-8684-9e704c274416\",\"type\":\"Line\"},\"hover_glyph\":null,\"muted_glyph\":null,\"nonselection_glyph\":{\"id\":\"5239625e-73db-42ac-a855-f390a0ae5f8a\",\"type\":\"Line\"},\"selection_glyph\":null,\"view\":{\"id\":\"867d62dd-0e0e-4601-add0-97b9d38ecda2\",\"type\":\"CDSView\"}},\"id\":\"8d2d9138-fc71-4c95-9824-35adc35c3769\",\"type\":\"GlyphRenderer\"},{\"attributes\":{\"line_alpha\":0.1,\"line_color\":\"#1f77b4\",\"line_width\":3,\"x\":{\"field\":\"x\"},\"y\":{\"field\":\"y\"}},\"id\":\"5239625e-73db-42ac-a855-f390a0ae5f8a\",\"type\":\"Line\"},{\"attributes\":{\"source\":{\"id\":\"25ff90c3-cbe5-45fa-8484-a469ae0686ff\",\"type\":\"ColumnDataSource\"}},\"id\":\"867d62dd-0e0e-4601-add0-97b9d38ecda2\",\"type\":\"CDSView\"},{\"attributes\":{\"items\":[{\"id\":\"bb00b309-8893-41f4-97e6-a168249f4caf\",\"type\":\"LegendItem\"},{\"id\":\"c8ba9307-b494-49a4-8f91-e01f33208930\",\"type\":\"LegendItem\"},{\"id\":\"c8ee5361-c08c-45ad-92e6-faa400646c56\",\"type\":\"LegendItem\"}],\"label_text_font_size\":{\"value\":\"8pt\"},\"location\":[10,-30],\"plot\":{\"id\":\"00bc02a4-7868-4eb8-8300-1d618c2a8897\",\"subtype\":\"Figure\",\"type\":\"Plot\"}},\"id\":\"a59581b6-66af-4cd9-8429-701faa0181af\",\"type\":\"Legend\"},{\"attributes\":{},\"id\":\"afdc1c9d-d87b-4d38-8e18-4d0f493cd474\",\"type\":\"LinearScale\"},{\"attributes\":{\"axis_label\":\"pressure [mb]\",\"formatter\":{\"id\":\"1224a7b2-be16-41ed-b1b6-6fa46ce4e9fe\",\"type\":\"LogTickFormatter\"},\"plot\":{\"id\":\"00bc02a4-7868-4eb8-8300-1d618c2a8897\",\"subtype\":\"Figure\",\"type\":\"Plot\"},\"ticker\":{\"id\":\"512bd308-eb01-4888-b6d7-872a917eb239\",\"type\":\"LogTicker\"}},\"id\":\"cbd2fd46-8039-41dd-b3ae-6a29a207c23b\",\"type\":\"LogAxis\"},{\"attributes\":{},\"id\":\"df67c898-61a9-4fe7-b8f6-bdbf6de3dbfd\",\"type\":\"BasicTickFormatter\"},{\"attributes\":{\"label\":{\"value\":\"WGT igg=10 wgt_flux=2\"},\"renderers\":[{\"id\":\"7043ed11-8cbe-4521-a071-37a4683d962c\",\"type\":\"GlyphRenderer\"},{\"id\":\"8d2d9138-fc71-4c95-9824-35adc35c3769\",\"type\":\"GlyphRenderer\"}]},\"id\":\"c8ee5361-c08c-45ad-92e6-faa400646c56\",\"type\":\"LegendItem\"},{\"attributes\":{\"dimension\":1,\"plot\":{\"id\":\"97867b6a-dddb-4598-90be-2aeab34578af\",\"subtype\":\"Figure\",\"type\":\"Plot\"},\"ticker\":{\"id\":\"c6faad5b-0b34-4969-9157-c439522d99e5\",\"type\":\"BasicTicker\"}},\"id\":\"bc7b9350-9e13-4fcc-b514-5841dfbcb011\",\"type\":\"Grid\"},{\"attributes\":{\"label\":{\"value\":\"CLIRAD `coolr_bands`\"},\"renderers\":[{\"id\":\"be85169e-8660-48db-9919-12e9bff438c4\",\"type\":\"GlyphRenderer\"}]},\"id\":\"bb00b309-8893-41f4-97e6-a168249f4caf\",\"type\":\"LegendItem\"},{\"attributes\":{\"bottom_units\":\"screen\",\"fill_alpha\":{\"value\":0.5},\"fill_color\":{\"value\":\"lightgrey\"},\"left_units\":\"screen\",\"level\":\"overlay\",\"line_alpha\":{\"value\":1.0},\"line_color\":{\"value\":\"black\"},\"line_dash\":[4,4],\"line_width\":{\"value\":2},\"plot\":null,\"render_mode\":\"css\",\"right_units\":\"screen\",\"top_units\":\"screen\"},\"id\":\"fdd87bc6-c990-4f3d-bfd0-9e391ee96ede\",\"type\":\"BoxAnnotation\"},{\"attributes\":{\"source\":{\"id\":\"5f4f3a8d-61e4-4306-8f2a-25a411eb316c\",\"type\":\"ColumnDataSource\"}},\"id\":\"7500ad8e-8c1f-46b7-827d-13caa2eea31e\",\"type\":\"CDSView\"},{\"attributes\":{\"axis_label\":\"pressure [mb]\",\"formatter\":{\"id\":\"ecbb1e4b-cd26-4358-9338-b389546c6df8\",\"type\":\"BasicTickFormatter\"},\"plot\":{\"id\":\"97867b6a-dddb-4598-90be-2aeab34578af\",\"subtype\":\"Figure\",\"type\":\"Plot\"},\"ticker\":{\"id\":\"c6faad5b-0b34-4969-9157-c439522d99e5\",\"type\":\"BasicTicker\"}},\"id\":\"d6e2750d-6fdc-4409-bdd6-5df52f44fb83\",\"type\":\"LinearAxis\"},{\"attributes\":{\"children\":[{\"id\":\"0e326e0f-16a3-4816-bd72-3c28ae501821\",\"type\":\"ToolbarBox\"},{\"id\":\"2016c79a-c1d7-4c21-9d28-aec88bae4613\",\"type\":\"Column\"}]},\"id\":\"47e02a57-f60a-4af9-ab69-744b1f314208\",\"type\":\"Column\"},{\"attributes\":{},\"id\":\"ab29aa9f-58c5-4f5f-aac9-9dc1d131370a\",\"type\":\"BasicTicker\"},{\"attributes\":{},\"id\":\"c6faad5b-0b34-4969-9157-c439522d99e5\",\"type\":\"BasicTicker\"},{\"attributes\":{},\"id\":\"7c99ba87-2466-4f0d-b8e3-aafbf4ef52d8\",\"type\":\"WheelZoomTool\"},{\"attributes\":{\"overlay\":{\"id\":\"fdd87bc6-c990-4f3d-bfd0-9e391ee96ede\",\"type\":\"BoxAnnotation\"}},\"id\":\"5959e191-9015-4135-90c6-348168b5044d\",\"type\":\"BoxZoomTool\"},{\"attributes\":{\"line_alpha\":0.6,\"line_color\":\"#e41a1c\",\"line_dash\":[6],\"line_width\":5,\"x\":{\"field\":\"x\"},\"y\":{\"field\":\"y\"}},\"id\":\"a521a238-019e-4a19-949a-de7a3e3a6a1c\",\"type\":\"Line\"},{\"attributes\":{},\"id\":\"7fa94ebc-333d-42c1-bf2a-da9ff9c4131b\",\"type\":\"SaveTool\"},{\"attributes\":{\"data_source\":{\"id\":\"c695d868-5efb-4104-bbf8-faf0e2cfb2e7\",\"type\":\"ColumnDataSource\"},\"glyph\":{\"id\":\"63d8ceff-00d7-4296-a679-00b4de4f80ce\",\"type\":\"Circle\"},\"hover_glyph\":null,\"muted_glyph\":null,\"nonselection_glyph\":{\"id\":\"c3a1e558-1260-4ea1-b284-cdeacffeab71\",\"type\":\"Circle\"},\"selection_glyph\":null,\"view\":{\"id\":\"74bfc224-332a-4d63-8158-82447b0feb6a\",\"type\":\"CDSView\"}},\"id\":\"2f630d73-471a-4812-86b1-44a9911a4adf\",\"type\":\"GlyphRenderer\"},{\"attributes\":{\"callback\":null,\"end\":0.01,\"start\":1020},\"id\":\"dca247f8-5a38-487d-a679-2b611202f997\",\"type\":\"Range1d\"},{\"attributes\":{},\"id\":\"ecbb1e4b-cd26-4358-9338-b389546c6df8\",\"type\":\"BasicTickFormatter\"},{\"attributes\":{\"bottom_units\":\"screen\",\"fill_alpha\":{\"value\":0.5},\"fill_color\":{\"value\":\"lightgrey\"},\"left_units\":\"screen\",\"level\":\"overlay\",\"line_alpha\":{\"value\":1.0},\"line_color\":{\"value\":\"black\"},\"line_dash\":[4,4],\"line_width\":{\"value\":2},\"plot\":null,\"render_mode\":\"css\",\"right_units\":\"screen\",\"top_units\":\"screen\"},\"id\":\"eb45006d-27bb-4ada-bf30-86e13cd5feb6\",\"type\":\"BoxAnnotation\"},{\"attributes\":{},\"id\":\"38f38446-c7a7-4c18-aba4-0c44b5787fb8\",\"type\":\"PanTool\"},{\"attributes\":{},\"id\":\"a82c1c59-2046-4bd6-b7ff-dab9549475bb\",\"type\":\"ResetTool\"},{\"attributes\":{},\"id\":\"c7b8f0d7-f7c7-4690-8314-96a1d8a10c81\",\"type\":\"LinearScale\"},{\"attributes\":{\"children\":[{\"id\":\"24323081-1bfd-40ce-8e7d-ebef6f6d0d6a\",\"type\":\"Row\"}]},\"id\":\"2016c79a-c1d7-4c21-9d28-aec88bae4613\",\"type\":\"Column\"},{\"attributes\":{\"children\":[{\"id\":\"97867b6a-dddb-4598-90be-2aeab34578af\",\"subtype\":\"Figure\",\"type\":\"Plot\"},{\"id\":\"00bc02a4-7868-4eb8-8300-1d618c2a8897\",\"subtype\":\"Figure\",\"type\":\"Plot\"}]},\"id\":\"24323081-1bfd-40ce-8e7d-ebef6f6d0d6a\",\"type\":\"Row\"},{\"attributes\":{\"data_source\":{\"id\":\"5f4f3a8d-61e4-4306-8f2a-25a411eb316c\",\"type\":\"ColumnDataSource\"},\"glyph\":{\"id\":\"7705c617-ef79-4218-94fd-c972a19797dc\",\"type\":\"Line\"},\"hover_glyph\":null,\"muted_glyph\":null,\"nonselection_glyph\":{\"id\":\"bfdd5e02-c099-40c8-9036-fa682743144f\",\"type\":\"Line\"},\"selection_glyph\":null,\"view\":{\"id\":\"7500ad8e-8c1f-46b7-827d-13caa2eea31e\",\"type\":\"CDSView\"}},\"id\":\"d3274815-8344-476c-bac0-af615980e9b7\",\"type\":\"GlyphRenderer\"},{\"attributes\":{\"axis_label\":\"cooling rate [K/day]\",\"formatter\":{\"id\":\"df67c898-61a9-4fe7-b8f6-bdbf6de3dbfd\",\"type\":\"BasicTickFormatter\"},\"plot\":{\"id\":\"97867b6a-dddb-4598-90be-2aeab34578af\",\"subtype\":\"Figure\",\"type\":\"Plot\"},\"ticker\":{\"id\":\"ab29aa9f-58c5-4f5f-aac9-9dc1d131370a\",\"type\":\"BasicTicker\"}},\"id\":\"6ed1d7f0-2ac4-4668-9834-cad2a7abc42b\",\"type\":\"LinearAxis\"},{\"attributes\":{},\"id\":\"bafec51d-a744-4f11-915d-5b770343b1a1\",\"type\":\"SaveTool\"},{\"attributes\":{\"callback\":null,\"column_names\":[\"x\",\"y\"],\"data\":{\"x\":{\"__ndarray__\":\"AAAAAAAAAAAAAAAAAAAAAAAAAAAAAAAAAAAAAAAAAAAAAAAAAAAAAAAAAAAAAAAAAAAAAAAAAAAAAAAAAAAAAAAAAAAAAAAAAAAAAAAAAAAAAAAAAAAAAAAAAAAAAAAAAAAAAAAAAAAAAAAAAAAAAAAAAAAAAAAAAAAAAAAAAAC8CEvhWzNKPwAAAAAAAAAAAAAAAAAAAAAAAAAAAAAAAM64yBLzDRs/b2m/B9/1LD8fX1r/VYMLP29iKf/AbC0/gMn5zAb4Gz/Ddg6dUukdP+SRWCHfxBE/TKy2fs5m/j61sO5EHOb8PlV17h4EmuQ+AAAAAAAAAAD36HZ+8fDkvudvvDnFZOa+L/GR3oFL8b70w9Y3+ffyvnMox8YkA/a+wBIjxwmQ+b5yVTyl0UX6vluHNsYmZ/y+li+kQu8c/b4iUBrCl8kHv/Ve1E60oBq/Kn8riN9LKb/O2jEixiwxvwEaxx9hSi2/GQKuoVwbEj+dVvjfR5JDP4vaY8TquFY/pxR2fHQdZD8It7Zh7RdvP5v0sn4X3HU/p3t0noVBfD9/1cCArWyBP15LRM+YD4U/Sot3ozZBiT/GNq4hZmaOP5IbIscGbZI/JX40uIdmlz9029ydV2qdPwwouH4YJqI/wQ/RXx0Epj/x2pjjhCWqP7Hn+0EOXq4/I55wn+pKsT/TrEOgwFyzP8c5ib8obLU/lzvfweJ/tz9NcVIh6Za5P8c5f021mrs/HVx0kcaRvT+oeeDG2p2/P1foB54Q9MA/b1hDd4NHwj8546iaKNvDPzfC5D4g7cU/\",\"dtype\":\"float64\",\"shape\":[75]},\"y\":{\"__ndarray__\":\"S/O/Q+51ND/430zAtpRIP2vylNV0PVE/QxsjCssuWD/TR4Z78fVgP+inNsRxymc/OuuBfZWvcD/u3TFA02d3P2d3VoBnaoA/CD5h5MAGhz/1pA8HUCaQP+zrCsc9p5Y/Fb7LAKjGnz/nJ9c/SEmmPwBD+fzcQq8/FOZwv9nstT8Er5Y7M8G+P0c+r3jqkcU/yK72qKZBzj+tM989FzjVPxbgmr8yxN0/cOm5AXbg5D+5ctXAf0jtP5kqGJXUifQ/DsrqDELP/D8MCAhBojQEQDItVnmnVwxAiFXNvdHgE0BSSZ2AJuIbQAMJih9jjiNA5q4l5INuK0CPVN/5RT0zQHzxRXu8/DpAOZ7PgHrtQkAg8wGBzoxKQBSTN8DMeFJA2NmQf2ZqWEAAAAAAAFxeQEQX1LfMJmJAmpmZmZkfZUBmZmZmZhhoQLzoK0gzEWtAAAAAAAAKbkCiC+pbZoFwQAhyUMLM/XFA+I2vPTN6c0AQ5KCEmfZ0QAAAAAAAc3ZA8Btfe2bvd0AIclDCzGt5QPeNrz0z6HpAEOSghJlkfEAAAAAAAOF9QKML6ltmXX9ABTkoYeZsgED7xteeGSuBQAhyUMJM6YFAAAAAAICngkD4ja89s2WDQAU5KGHmI4RA+8bXnhnihEAIclDCTKCFQAAAAACAXoZA+I2vPbMch0AFOShh5tqHQPvG154ZmYhACHJQwkxXiUAAAAAAgBWKQPeNrz2z04pABTkoYeaRi0D7xteeGVCMQAlyUMJMDo1AAAAAAIDMjUD3ja89s4qOQGZmZmbmSI9A\",\"dtype\":\"float64\",\"shape\":[75]}}},\"id\":\"04614450-a2bd-4e08-95eb-95f0eb5bcab9\",\"type\":\"ColumnDataSource\"},{\"attributes\":{\"tools\":[{\"id\":\"38f38446-c7a7-4c18-aba4-0c44b5787fb8\",\"type\":\"PanTool\"},{\"id\":\"7c99ba87-2466-4f0d-b8e3-aafbf4ef52d8\",\"type\":\"WheelZoomTool\"},{\"id\":\"cdb2072e-3f99-4e99-99ed-0eae7805d63d\",\"type\":\"BoxZoomTool\"},{\"id\":\"bafec51d-a744-4f11-915d-5b770343b1a1\",\"type\":\"SaveTool\"},{\"id\":\"a82c1c59-2046-4bd6-b7ff-dab9549475bb\",\"type\":\"ResetTool\"},{\"id\":\"b518c4da-0dc2-41b6-ace5-209d04a94fed\",\"type\":\"HelpTool\"},{\"id\":\"1f0e7b6f-0d2c-4d84-8109-77019342c98a\",\"type\":\"PanTool\"},{\"id\":\"b4d70d59-da67-4c36-b12c-814fc5e4cd0f\",\"type\":\"WheelZoomTool\"},{\"id\":\"5959e191-9015-4135-90c6-348168b5044d\",\"type\":\"BoxZoomTool\"},{\"id\":\"7fa94ebc-333d-42c1-bf2a-da9ff9c4131b\",\"type\":\"SaveTool\"},{\"id\":\"bc8fc21e-a019-4fe2-b311-657a74a62f5e\",\"type\":\"ResetTool\"},{\"id\":\"e409c6f7-5350-488d-925d-2c135e62e3b7\",\"type\":\"HelpTool\"}]},\"id\":\"bfcd3968-9b65-4cd6-8a4d-36445fb05476\",\"type\":\"ProxyToolbar\"},{\"attributes\":{},\"id\":\"b518c4da-0dc2-41b6-ace5-209d04a94fed\",\"type\":\"HelpTool\"},{\"attributes\":{\"overlay\":{\"id\":\"eb45006d-27bb-4ada-bf30-86e13cd5feb6\",\"type\":\"BoxAnnotation\"}},\"id\":\"cdb2072e-3f99-4e99-99ed-0eae7805d63d\",\"type\":\"BoxZoomTool\"},{\"attributes\":{\"plot\":{\"id\":\"97867b6a-dddb-4598-90be-2aeab34578af\",\"subtype\":\"Figure\",\"type\":\"Plot\"},\"ticker\":{\"id\":\"ab29aa9f-58c5-4f5f-aac9-9dc1d131370a\",\"type\":\"BasicTicker\"}},\"id\":\"119906ff-0676-4882-9c79-5acf27f33bd5\",\"type\":\"Grid\"}],\"root_ids\":[\"47e02a57-f60a-4af9-ab69-744b1f314208\"]},\"title\":\"Bokeh Application\",\"version\":\"0.12.14\"}};\n",
       "  var render_items = [{\"docid\":\"af19ddd3-471a-4ceb-b140-1dbb72ab25c4\",\"elementid\":\"33542756-bca3-4408-9372-1e03c619172a\",\"modelid\":\"47e02a57-f60a-4af9-ab69-744b1f314208\"}];\n",
       "  root.Bokeh.embed.embed_items_notebook(docs_json, render_items);\n",
       "\n",
       "  }\n",
       "  if (root.Bokeh !== undefined) {\n",
       "    embed_document(root);\n",
       "  } else {\n",
       "    var attempts = 0;\n",
       "    var timer = setInterval(function(root) {\n",
       "      if (root.Bokeh !== undefined) {\n",
       "        embed_document(root);\n",
       "        clearInterval(timer);\n",
       "      }\n",
       "      attempts++;\n",
       "      if (attempts > 100) {\n",
       "        console.log(\"Bokeh: ERROR: Unable to run BokehJS code because BokehJS library is missing\")\n",
       "        clearInterval(timer);\n",
       "      }\n",
       "    }, 10, root)\n",
       "  }\n",
       "})(window);"
      ],
      "application/vnd.bokehjs_exec.v0+json": ""
     },
     "metadata": {
      "application/vnd.bokehjs_exec.v0+json": {
       "id": "47e02a57-f60a-4af9-ab69-744b1f314208"
      }
     },
     "output_type": "display_data"
    },
    {
     "name": "stdout",
     "output_type": "stream",
     "text": [
      "FIGURE. Cooling rate profiles.\n"
     ]
    },
    {
     "data": {
      "text/html": [
       "<a id=\"Flux_Comparison\"></a>"
      ],
      "text/plain": [
       "<IPython.core.display.HTML object>"
      ]
     },
     "metadata": {},
     "output_type": "display_data"
    },
    {
     "data": {
      "text/markdown": [
       "# Flux Comparison"
      ],
      "text/plain": [
       "<IPython.core.display.Markdown object>"
      ]
     },
     "metadata": {},
     "output_type": "display_data"
    },
    {
     "data": {
      "text/html": [
       "<div>\n",
       "<style>\n",
       "    .dataframe thead tr:only-child th {\n",
       "        text-align: right;\n",
       "    }\n",
       "\n",
       "    .dataframe thead th {\n",
       "        text-align: left;\n",
       "    }\n",
       "\n",
       "    .dataframe tbody tr th {\n",
       "        vertical-align: top;\n",
       "    }\n",
       "</style>\n",
       "<table border=\"1\" class=\"dataframe\">\n",
       "  <thead>\n",
       "    <tr style=\"text-align: right;\">\n",
       "      <th></th>\n",
       "      <th></th>\n",
       "      <th>flug</th>\n",
       "      <th>fldg</th>\n",
       "      <th>fnetg</th>\n",
       "    </tr>\n",
       "    <tr>\n",
       "      <th>pressure</th>\n",
       "      <th>level</th>\n",
       "      <th></th>\n",
       "      <th></th>\n",
       "      <th></th>\n",
       "    </tr>\n",
       "  </thead>\n",
       "  <tbody>\n",
       "    <tr>\n",
       "      <th>0.0000</th>\n",
       "      <th>1</th>\n",
       "      <td>-21.858636</td>\n",
       "      <td>0.000000</td>\n",
       "      <td>-21.858636</td>\n",
       "    </tr>\n",
       "    <tr>\n",
       "      <th>1.0685</th>\n",
       "      <th>24</th>\n",
       "      <td>-21.858634</td>\n",
       "      <td>0.000012</td>\n",
       "      <td>-21.858622</td>\n",
       "    </tr>\n",
       "    <tr>\n",
       "      <th>1013.0000</th>\n",
       "      <th>76</th>\n",
       "      <td>-23.269659</td>\n",
       "      <td>6.160935</td>\n",
       "      <td>-17.108725</td>\n",
       "    </tr>\n",
       "  </tbody>\n",
       "</table>\n",
       "</div>"
      ],
      "text/plain": [
       "                      flug      fldg      fnetg\n",
       "pressure  level                                \n",
       "0.0000    1     -21.858636  0.000000 -21.858636\n",
       "1.0685    24    -21.858634  0.000012 -21.858622\n",
       "1013.0000 76    -23.269659  6.160935 -17.108725"
      ]
     },
     "metadata": {},
     "output_type": "display_data"
    },
    {
     "name": "stdout",
     "output_type": "stream",
     "text": [
      "Table. Fluxes. WGT igg=10 wgt_flux=1\n"
     ]
    },
    {
     "data": {
      "text/html": [
       "<div>\n",
       "<style>\n",
       "    .dataframe thead tr:only-child th {\n",
       "        text-align: right;\n",
       "    }\n",
       "\n",
       "    .dataframe thead th {\n",
       "        text-align: left;\n",
       "    }\n",
       "\n",
       "    .dataframe tbody tr th {\n",
       "        vertical-align: top;\n",
       "    }\n",
       "</style>\n",
       "<table border=\"1\" class=\"dataframe\">\n",
       "  <thead>\n",
       "    <tr style=\"text-align: right;\">\n",
       "      <th></th>\n",
       "      <th></th>\n",
       "      <th>flug</th>\n",
       "      <th>fldg</th>\n",
       "      <th>fnetg</th>\n",
       "    </tr>\n",
       "    <tr>\n",
       "      <th>pressure</th>\n",
       "      <th>level</th>\n",
       "      <th></th>\n",
       "      <th></th>\n",
       "      <th></th>\n",
       "    </tr>\n",
       "  </thead>\n",
       "  <tbody>\n",
       "    <tr>\n",
       "      <th>0.0000</th>\n",
       "      <th>1</th>\n",
       "      <td>-21.779177</td>\n",
       "      <td>0.000000</td>\n",
       "      <td>-21.779177</td>\n",
       "    </tr>\n",
       "    <tr>\n",
       "      <th>1.0685</th>\n",
       "      <th>24</th>\n",
       "      <td>-21.779163</td>\n",
       "      <td>0.000036</td>\n",
       "      <td>-21.779127</td>\n",
       "    </tr>\n",
       "    <tr>\n",
       "      <th>1013.0000</th>\n",
       "      <th>76</th>\n",
       "      <td>-23.269660</td>\n",
       "      <td>6.301271</td>\n",
       "      <td>-16.968389</td>\n",
       "    </tr>\n",
       "  </tbody>\n",
       "</table>\n",
       "</div>"
      ],
      "text/plain": [
       "                      flug      fldg      fnetg\n",
       "pressure  level                                \n",
       "0.0000    1     -21.779177  0.000000 -21.779177\n",
       "1.0685    24    -21.779163  0.000036 -21.779127\n",
       "1013.0000 76    -23.269660  6.301271 -16.968389"
      ]
     },
     "metadata": {},
     "output_type": "display_data"
    },
    {
     "name": "stdout",
     "output_type": "stream",
     "text": [
      "Table. Fluxes. CRD\n"
     ]
    },
    {
     "data": {
      "text/html": [
       "<div>\n",
       "<style>\n",
       "    .dataframe thead tr:only-child th {\n",
       "        text-align: right;\n",
       "    }\n",
       "\n",
       "    .dataframe thead th {\n",
       "        text-align: left;\n",
       "    }\n",
       "\n",
       "    .dataframe tbody tr th {\n",
       "        vertical-align: top;\n",
       "    }\n",
       "</style>\n",
       "<table border=\"1\" class=\"dataframe\">\n",
       "  <thead>\n",
       "    <tr style=\"text-align: right;\">\n",
       "      <th></th>\n",
       "      <th></th>\n",
       "      <th>flug</th>\n",
       "      <th>fldg</th>\n",
       "      <th>fnetg</th>\n",
       "    </tr>\n",
       "    <tr>\n",
       "      <th>pressure</th>\n",
       "      <th>level</th>\n",
       "      <th></th>\n",
       "      <th></th>\n",
       "      <th></th>\n",
       "    </tr>\n",
       "  </thead>\n",
       "  <tbody>\n",
       "    <tr>\n",
       "      <th>1.000000e-08</th>\n",
       "      <th>1</th>\n",
       "      <td>-21.882370</td>\n",
       "      <td>0.000000</td>\n",
       "      <td>-21.882370</td>\n",
       "    </tr>\n",
       "    <tr>\n",
       "      <th>1.068500e+00</th>\n",
       "      <th>24</th>\n",
       "      <td>-21.882364</td>\n",
       "      <td>0.000008</td>\n",
       "      <td>-21.882357</td>\n",
       "    </tr>\n",
       "    <tr>\n",
       "      <th>1.013000e+03</th>\n",
       "      <th>76</th>\n",
       "      <td>-23.269661</td>\n",
       "      <td>6.150420</td>\n",
       "      <td>-17.119240</td>\n",
       "    </tr>\n",
       "  </tbody>\n",
       "</table>\n",
       "</div>"
      ],
      "text/plain": [
       "                         flug      fldg      fnetg\n",
       "pressure     level                                \n",
       "1.000000e-08 1     -21.882370  0.000000 -21.882370\n",
       "1.068500e+00 24    -21.882364  0.000008 -21.882357\n",
       "1.013000e+03 76    -23.269661  6.150420 -17.119240"
      ]
     },
     "metadata": {},
     "output_type": "display_data"
    },
    {
     "name": "stdout",
     "output_type": "stream",
     "text": [
      "Table. Fluxes. CLIRAD\n"
     ]
    },
    {
     "data": {
      "text/html": [
       "<div>\n",
       "<style>\n",
       "    .dataframe thead tr:only-child th {\n",
       "        text-align: right;\n",
       "    }\n",
       "\n",
       "    .dataframe thead th {\n",
       "        text-align: left;\n",
       "    }\n",
       "\n",
       "    .dataframe tbody tr th {\n",
       "        vertical-align: top;\n",
       "    }\n",
       "</style>\n",
       "<table border=\"1\" class=\"dataframe\">\n",
       "  <thead>\n",
       "    <tr style=\"text-align: right;\">\n",
       "      <th></th>\n",
       "      <th></th>\n",
       "      <th>flug</th>\n",
       "      <th>fldg</th>\n",
       "      <th>fnetg</th>\n",
       "    </tr>\n",
       "    <tr>\n",
       "      <th>pressure</th>\n",
       "      <th>level</th>\n",
       "      <th></th>\n",
       "      <th></th>\n",
       "      <th></th>\n",
       "    </tr>\n",
       "  </thead>\n",
       "  <tbody>\n",
       "    <tr>\n",
       "      <th>0.0000</th>\n",
       "      <th>1</th>\n",
       "      <td>7.945887e-02</td>\n",
       "      <td>0.000000</td>\n",
       "      <td>0.079459</td>\n",
       "    </tr>\n",
       "    <tr>\n",
       "      <th>1.0685</th>\n",
       "      <th>24</th>\n",
       "      <td>7.947070e-02</td>\n",
       "      <td>0.000024</td>\n",
       "      <td>0.079495</td>\n",
       "    </tr>\n",
       "    <tr>\n",
       "      <th>1013.0000</th>\n",
       "      <th>76</th>\n",
       "      <td>-5.300000e-07</td>\n",
       "      <td>0.140336</td>\n",
       "      <td>0.140336</td>\n",
       "    </tr>\n",
       "  </tbody>\n",
       "</table>\n",
       "</div>"
      ],
      "text/plain": [
       "                         flug      fldg     fnetg\n",
       "pressure  level                                  \n",
       "0.0000    1      7.945887e-02  0.000000  0.079459\n",
       "1.0685    24     7.947070e-02  0.000024  0.079495\n",
       "1013.0000 76    -5.300000e-07  0.140336  0.140336"
      ]
     },
     "metadata": {},
     "output_type": "display_data"
    },
    {
     "name": "stdout",
     "output_type": "stream",
     "text": [
      "Table. Fluxes. (CRD) - (WGT igg=10 wgt_flux=1)\n"
     ]
    },
    {
     "data": {
      "text/html": [
       "<div>\n",
       "<style>\n",
       "    .dataframe thead tr:only-child th {\n",
       "        text-align: right;\n",
       "    }\n",
       "\n",
       "    .dataframe thead th {\n",
       "        text-align: left;\n",
       "    }\n",
       "\n",
       "    .dataframe tbody tr th {\n",
       "        vertical-align: top;\n",
       "    }\n",
       "</style>\n",
       "<table border=\"1\" class=\"dataframe\">\n",
       "  <thead>\n",
       "    <tr style=\"text-align: right;\">\n",
       "      <th></th>\n",
       "      <th></th>\n",
       "      <th>flug</th>\n",
       "      <th>fldg</th>\n",
       "      <th>fnetg</th>\n",
       "    </tr>\n",
       "    <tr>\n",
       "      <th>pressure</th>\n",
       "      <th>level</th>\n",
       "      <th></th>\n",
       "      <th></th>\n",
       "      <th></th>\n",
       "    </tr>\n",
       "  </thead>\n",
       "  <tbody>\n",
       "    <tr>\n",
       "      <th>0.0000</th>\n",
       "      <th>1</th>\n",
       "      <td>-0.023734</td>\n",
       "      <td>0.000000</td>\n",
       "      <td>-0.023734</td>\n",
       "    </tr>\n",
       "    <tr>\n",
       "      <th>1.0685</th>\n",
       "      <th>24</th>\n",
       "      <td>-0.023730</td>\n",
       "      <td>-0.000004</td>\n",
       "      <td>-0.023735</td>\n",
       "    </tr>\n",
       "    <tr>\n",
       "      <th>1013.0000</th>\n",
       "      <th>76</th>\n",
       "      <td>-0.000002</td>\n",
       "      <td>-0.010514</td>\n",
       "      <td>-0.010515</td>\n",
       "    </tr>\n",
       "  </tbody>\n",
       "</table>\n",
       "</div>"
      ],
      "text/plain": [
       "                     flug      fldg     fnetg\n",
       "pressure  level                              \n",
       "0.0000    1     -0.023734  0.000000 -0.023734\n",
       "1.0685    24    -0.023730 -0.000004 -0.023735\n",
       "1013.0000 76    -0.000002 -0.010514 -0.010515"
      ]
     },
     "metadata": {},
     "output_type": "display_data"
    },
    {
     "name": "stdout",
     "output_type": "stream",
     "text": [
      "Table. Fluxes. (CLIRAD) - (WGT igg=10 wgt_flux=1)\n"
     ]
    },
    {
     "data": {
      "text/html": [
       "<a id=\"Best-fit_Parameters\"></a>"
      ],
      "text/plain": [
       "<IPython.core.display.HTML object>"
      ]
     },
     "metadata": {},
     "output_type": "display_data"
    },
    {
     "data": {
      "text/markdown": [
       "# Best-fit Parameters"
      ],
      "text/plain": [
       "<IPython.core.display.Markdown object>"
      ]
     },
     "metadata": {},
     "output_type": "display_data"
    },
    {
     "name": "stdout",
     "output_type": "stream",
     "text": [
      "Best-fit values for each (gas, band)\n",
      "------------------------------------\n",
      "o h2o band6\n",
      "  molecule = h2o\n",
      "  band = 6\n",
      "  commitnumber = d62b618\n",
      "  vmin = 1100\n",
      "  vmax = 1215\n",
      "  dv = 0.001\n",
      "  nv = 1000\n",
      "  ref_pts = [(600, 250)]\n",
      "  ng_refs = [4]\n",
      "  ng_adju = [0]\n",
      "  klin = 5e-25\n",
      "  option_wgt_k = 1\n",
      "  wgt = [(0.3, 0.45, 0.6, 0.95)]\n",
      "  w_diffuse = [(1.66, 1.66, 1.7, 1.8)]\n",
      "  option_wgt_flux = 1\n",
      "  atmpro = mls\n",
      "  tsfc = 294\n",
      "  conc = None\n",
      "  option_compute_btable = 0\n",
      "  option_compute_ktable = 1\n"
     ]
    }
   ],
   "source": [
    "script()"
   ]
  },
  {
   "cell_type": "code",
   "execution_count": 13,
   "metadata": {},
   "outputs": [
    {
     "data": {
      "text/html": [
       "<script>\n",
       "code_show=true; \n",
       "function code_toggle() {\n",
       " if (code_show){\n",
       " $('div.input').hide();\n",
       " } else {\n",
       " $('div.input').show();\n",
       " }\n",
       " code_show = !code_show\n",
       "} \n",
       "$( document ).ready(code_toggle);\n",
       "</script>\n",
       "<form action=\"javascript:code_toggle()\"><input type=\"submit\" value=\"Click here to toggle on/off the raw code.\"></form>"
      ],
      "text/plain": [
       "<IPython.core.display.HTML object>"
      ]
     },
     "execution_count": 13,
     "metadata": {},
     "output_type": "execute_result"
    }
   ],
   "source": [
    "display.HTML('''<script>\n",
    "code_show=true; \n",
    "function code_toggle() {\n",
    " if (code_show){\n",
    " $('div.input').hide();\n",
    " } else {\n",
    " $('div.input').show();\n",
    " }\n",
    " code_show = !code_show\n",
    "} \n",
    "$( document ).ready(code_toggle);\n",
    "</script>\n",
    "<form action=\"javascript:code_toggle()\"><input type=\"submit\" value=\"Click here to toggle on/off the raw code.\"></form>''')"
   ]
  }
 ],
 "metadata": {
  "kernelspec": {
   "display_name": "Python 3",
   "language": "python",
   "name": "python3"
  },
  "language_info": {
   "codemirror_mode": {
    "name": "ipython",
    "version": 3
   },
   "file_extension": ".py",
   "mimetype": "text/x-python",
   "name": "python",
   "nbconvert_exporter": "python",
   "pygments_lexer": "ipython3",
   "version": "3.6.1"
  }
 },
 "nbformat": 4,
 "nbformat_minor": 2
}
