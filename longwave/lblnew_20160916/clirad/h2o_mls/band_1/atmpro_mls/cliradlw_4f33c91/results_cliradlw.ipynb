{
 "cells": [
  {
   "cell_type": "code",
   "execution_count": 1,
   "metadata": {
    "collapsed": true
   },
   "outputs": [],
   "source": [
    "%matplotlib inline\n",
    "import os\n",
    "import re\n",
    "import io\n",
    "import itertools\n",
    "import pprint\n",
    "\n",
    "from bokeh.io import output_notebook, show\n",
    "from bokeh.layouts import gridplot\n",
    "from bokeh.plotting import figure\n",
    "from bokeh.models import Range1d, Legend\n",
    "from bokeh.palettes import all_palettes\n",
    "\n",
    "import matplotlib\n",
    "import matplotlib.pyplot as plt\n",
    "import numpy as np\n",
    "import pandas as pd\n",
    "import xarray as xr\n",
    "\n",
    "import climatools.lblnew.bestfit_params as bestfits\n",
    "from climatools.lblnew import setup_bestfit, setup_overlap\n",
    "import climatools.lblnew.pipeline as pipe_lblnew\n",
    "import climatools.cliradlw.setup as setup_cliradlw\n",
    "import climatools.cliradlw.pipeline as pipe_cliradlw\n",
    "\n",
    "import climatools.html.html as climahtml\n",
    "from climatools.lblnew.dataio import *\n",
    "from climatools.plot.plot import *\n",
    "\n",
    "\n",
    "import IPython.display as display"
   ]
  },
  {
   "cell_type": "code",
   "execution_count": 2,
   "metadata": {
    "collapsed": true
   },
   "outputs": [],
   "source": [
    "%run param.py"
   ]
  },
  {
   "cell_type": "code",
   "execution_count": 3,
   "metadata": {
    "collapsed": true
   },
   "outputs": [],
   "source": [
    "def load_output_file(path_csv):\n",
    "    '''\n",
    "    Load lblnew output .csv file to xarray.Dataset\n",
    "    \n",
    "    Parameters\n",
    "    ----------\n",
    "    path_csv: str\n",
    "              Path to the .csv file to be loaded.\n",
    "    ds: xarray.Dataset\n",
    "        Data in the input file in the form of an xarray.Dataset.\n",
    "    '''\n",
    "    toindex = ['band', 'pressure', 'igg', 'g']    \n",
    "    df = pd.read_csv(path_csv, sep=r'\\s+')\n",
    "    df = df.set_index([i for i in toindex if i in df.columns])\n",
    "    df = df.rename(columns={'sfu': 'flug',\n",
    "                            'sfd': 'fldg',\n",
    "                            'fnet': 'fnetg',\n",
    "                            'coolr': 'coolrg'})\n",
    "    ds = xr.Dataset.from_dataframe(df)\n",
    "\n",
    "    for l in ('level', 'layer'):\n",
    "        if l in ds.data_vars:\n",
    "            if len(ds[l].dims) > 1:\n",
    "                surface = {d: 0 for d in ds.dims if d != 'pressure'}\n",
    "                coord_level = ds[l][surface]\n",
    "                ds.coords[l] = ('pressure', coord_level)\n",
    "            else:\n",
    "                ds.coords[l] = ('pressure', ds[l])\n",
    "    \n",
    "    return ds"
   ]
  },
  {
   "cell_type": "code",
   "execution_count": 4,
   "metadata": {
    "collapsed": true
   },
   "outputs": [],
   "source": [
    "def lblnew_setup(param=None):\n",
    "    if 'ng_refs' in param:\n",
    "        return {'setup': setup_bestfit,\n",
    "                'fname_flux_crd': 'output_flux.dat',\n",
    "                'fname_cool_crd': 'output_coolr.dat',\n",
    "                'fname_flux_wgt': 'output_wfluxg.dat',\n",
    "                'fname_cool_wgt': 'output_wcoolrg.dat'}\n",
    "    else:\n",
    "        return {'setup': setup_overlap,\n",
    "                'fname_flux_crd': 'output_flux.dat',\n",
    "                'fname_cool_crd': 'output_coolr.dat',\n",
    "                'fname_flux_wgt': 'output_wflux.dat',\n",
    "                'fname_cool_wgt': 'output_wcoolr.dat'}\n",
    "\n",
    "    \n",
    "def load_lblnew_data(param):\n",
    "    \n",
    "    fname_dsname = [('fname_flux_crd', 'ds_flux_crd'),\n",
    "                    ('fname_cool_crd', 'ds_cool_crd'),\n",
    "                    ('fname_flux_wgt', 'ds_flux_wgt'),\n",
    "                    ('fname_cool_wgt', 'ds_cool_wgt')]\n",
    "    \n",
    "    d = lblnew_setup(param)\n",
    "    dir_fortran = pipe_lblnew.get_dir_case(param, setup=d['setup'])\n",
    "    \n",
    "    data_dict = {}\n",
    "    for fname, dsname in fname_dsname:\n",
    "        fpath = os.path.join(dir_fortran, d[fname])\n",
    "        data_dict[dsname] = load_output_file(fpath)\n",
    "    return data_dict\n",
    "    \n",
    "\n",
    "    \n",
    "    "
   ]
  },
  {
   "cell_type": "code",
   "execution_count": 5,
   "metadata": {
    "collapsed": true
   },
   "outputs": [],
   "source": [
    "d = load_lblnew_data(PARAM_LBLNEW)\n",
    "\n",
    "DS_FLUX_CRD = d['ds_flux_crd']\n",
    "DS_COOL_CRD = d['ds_cool_crd']\n",
    "DS_FLUX_WGT = d['ds_flux_wgt']\n",
    "DS_COOL_WGT = d['ds_cool_wgt']"
   ]
  },
  {
   "cell_type": "code",
   "execution_count": 6,
   "metadata": {
    "collapsed": true
   },
   "outputs": [],
   "source": [
    "DIR_FORTRAN = pipe_cliradlw.get_fortran_dir(PARAM, \n",
    "                                            setup=setup_cliradlw)\n",
    "\n",
    "PATH_FLUX = os.path.join(DIR_FORTRAN, 'output_flux.dat')\n",
    "PATH_COOL = os.path.join(DIR_FORTRAN, 'output_coolr.dat')\n",
    "\n",
    "DS_FLUX = load_output_file(PATH_FLUX)\n",
    "DS_COOL = load_output_file(PATH_COOL)"
   ]
  },
  {
   "cell_type": "code",
   "execution_count": 7,
   "metadata": {},
   "outputs": [
    {
     "data": {
      "text/html": [
       "\n",
       "    <div class=\"bk-root\">\n",
       "        <a href=\"https://bokeh.pydata.org\" target=\"_blank\" class=\"bk-logo bk-logo-small bk-logo-notebook\"></a>\n",
       "        <span id=\"085ee1b5-c62a-45b2-ac9a-e1531a247c93\">Loading BokehJS ...</span>\n",
       "    </div>"
      ]
     },
     "metadata": {},
     "output_type": "display_data"
    },
    {
     "data": {
      "application/javascript": [
       "\n",
       "(function(root) {\n",
       "  function now() {\n",
       "    return new Date();\n",
       "  }\n",
       "\n",
       "  var force = true;\n",
       "\n",
       "  if (typeof (root._bokeh_onload_callbacks) === \"undefined\" || force === true) {\n",
       "    root._bokeh_onload_callbacks = [];\n",
       "    root._bokeh_is_loading = undefined;\n",
       "  }\n",
       "\n",
       "  var JS_MIME_TYPE = 'application/javascript';\n",
       "  var HTML_MIME_TYPE = 'text/html';\n",
       "  var EXEC_MIME_TYPE = 'application/vnd.bokehjs_exec.v0+json';\n",
       "  var CLASS_NAME = 'output_bokeh rendered_html';\n",
       "\n",
       "  /**\n",
       "   * Render data to the DOM node\n",
       "   */\n",
       "  function render(props, node) {\n",
       "    var script = document.createElement(\"script\");\n",
       "    node.appendChild(script);\n",
       "  }\n",
       "\n",
       "  /**\n",
       "   * Handle when an output is cleared or removed\n",
       "   */\n",
       "  function handleClearOutput(event, handle) {\n",
       "    var cell = handle.cell;\n",
       "\n",
       "    var id = cell.output_area._bokeh_element_id;\n",
       "    var server_id = cell.output_area._bokeh_server_id;\n",
       "    // Clean up Bokeh references\n",
       "    if (id !== undefined) {\n",
       "      Bokeh.index[id].model.document.clear();\n",
       "      delete Bokeh.index[id];\n",
       "    }\n",
       "\n",
       "    if (server_id !== undefined) {\n",
       "      // Clean up Bokeh references\n",
       "      var cmd = \"from bokeh.io.state import curstate; print(curstate().uuid_to_server['\" + server_id + \"'].get_sessions()[0].document.roots[0]._id)\";\n",
       "      cell.notebook.kernel.execute(cmd, {\n",
       "        iopub: {\n",
       "          output: function(msg) {\n",
       "            var element_id = msg.content.text.trim();\n",
       "            Bokeh.index[element_id].model.document.clear();\n",
       "            delete Bokeh.index[element_id];\n",
       "          }\n",
       "        }\n",
       "      });\n",
       "      // Destroy server and session\n",
       "      var cmd = \"import bokeh.io.notebook as ion; ion.destroy_server('\" + server_id + \"')\";\n",
       "      cell.notebook.kernel.execute(cmd);\n",
       "    }\n",
       "  }\n",
       "\n",
       "  /**\n",
       "   * Handle when a new output is added\n",
       "   */\n",
       "  function handleAddOutput(event, handle) {\n",
       "    var output_area = handle.output_area;\n",
       "    var output = handle.output;\n",
       "\n",
       "    // limit handleAddOutput to display_data with EXEC_MIME_TYPE content only\n",
       "    if ((output.output_type != \"display_data\") || (!output.data.hasOwnProperty(EXEC_MIME_TYPE))) {\n",
       "      return\n",
       "    }\n",
       "\n",
       "    var toinsert = output_area.element.find(\".\" + CLASS_NAME.split(' ')[0]);\n",
       "\n",
       "    if (output.metadata[EXEC_MIME_TYPE][\"id\"] !== undefined) {\n",
       "      toinsert[0].firstChild.textContent = output.data[JS_MIME_TYPE];\n",
       "      // store reference to embed id on output_area\n",
       "      output_area._bokeh_element_id = output.metadata[EXEC_MIME_TYPE][\"id\"];\n",
       "    }\n",
       "    if (output.metadata[EXEC_MIME_TYPE][\"server_id\"] !== undefined) {\n",
       "      var bk_div = document.createElement(\"div\");\n",
       "      bk_div.innerHTML = output.data[HTML_MIME_TYPE];\n",
       "      var script_attrs = bk_div.children[0].attributes;\n",
       "      for (var i = 0; i < script_attrs.length; i++) {\n",
       "        toinsert[0].firstChild.setAttribute(script_attrs[i].name, script_attrs[i].value);\n",
       "      }\n",
       "      // store reference to server id on output_area\n",
       "      output_area._bokeh_server_id = output.metadata[EXEC_MIME_TYPE][\"server_id\"];\n",
       "    }\n",
       "  }\n",
       "\n",
       "  function register_renderer(events, OutputArea) {\n",
       "\n",
       "    function append_mime(data, metadata, element) {\n",
       "      // create a DOM node to render to\n",
       "      var toinsert = this.create_output_subarea(\n",
       "        metadata,\n",
       "        CLASS_NAME,\n",
       "        EXEC_MIME_TYPE\n",
       "      );\n",
       "      this.keyboard_manager.register_events(toinsert);\n",
       "      // Render to node\n",
       "      var props = {data: data, metadata: metadata[EXEC_MIME_TYPE]};\n",
       "      render(props, toinsert[0]);\n",
       "      element.append(toinsert);\n",
       "      return toinsert\n",
       "    }\n",
       "\n",
       "    /* Handle when an output is cleared or removed */\n",
       "    events.on('clear_output.CodeCell', handleClearOutput);\n",
       "    events.on('delete.Cell', handleClearOutput);\n",
       "\n",
       "    /* Handle when a new output is added */\n",
       "    events.on('output_added.OutputArea', handleAddOutput);\n",
       "\n",
       "    /**\n",
       "     * Register the mime type and append_mime function with output_area\n",
       "     */\n",
       "    OutputArea.prototype.register_mime_type(EXEC_MIME_TYPE, append_mime, {\n",
       "      /* Is output safe? */\n",
       "      safe: true,\n",
       "      /* Index of renderer in `output_area.display_order` */\n",
       "      index: 0\n",
       "    });\n",
       "  }\n",
       "\n",
       "  // register the mime type if in Jupyter Notebook environment and previously unregistered\n",
       "  if (root.Jupyter !== undefined) {\n",
       "    var events = require('base/js/events');\n",
       "    var OutputArea = require('notebook/js/outputarea').OutputArea;\n",
       "\n",
       "    if (OutputArea.prototype.mime_types().indexOf(EXEC_MIME_TYPE) == -1) {\n",
       "      register_renderer(events, OutputArea);\n",
       "    }\n",
       "  }\n",
       "\n",
       "  \n",
       "  if (typeof (root._bokeh_timeout) === \"undefined\" || force === true) {\n",
       "    root._bokeh_timeout = Date.now() + 5000;\n",
       "    root._bokeh_failed_load = false;\n",
       "  }\n",
       "\n",
       "  var NB_LOAD_WARNING = {'data': {'text/html':\n",
       "     \"<div style='background-color: #fdd'>\\n\"+\n",
       "     \"<p>\\n\"+\n",
       "     \"BokehJS does not appear to have successfully loaded. If loading BokehJS from CDN, this \\n\"+\n",
       "     \"may be due to a slow or bad network connection. Possible fixes:\\n\"+\n",
       "     \"</p>\\n\"+\n",
       "     \"<ul>\\n\"+\n",
       "     \"<li>re-rerun `output_notebook()` to attempt to load from CDN again, or</li>\\n\"+\n",
       "     \"<li>use INLINE resources instead, as so:</li>\\n\"+\n",
       "     \"</ul>\\n\"+\n",
       "     \"<code>\\n\"+\n",
       "     \"from bokeh.resources import INLINE\\n\"+\n",
       "     \"output_notebook(resources=INLINE)\\n\"+\n",
       "     \"</code>\\n\"+\n",
       "     \"</div>\"}};\n",
       "\n",
       "  function display_loaded() {\n",
       "    var el = document.getElementById(\"085ee1b5-c62a-45b2-ac9a-e1531a247c93\");\n",
       "    if (el != null) {\n",
       "      el.textContent = \"BokehJS is loading...\";\n",
       "    }\n",
       "    if (root.Bokeh !== undefined) {\n",
       "      if (el != null) {\n",
       "        el.textContent = \"BokehJS \" + root.Bokeh.version + \" successfully loaded.\";\n",
       "      }\n",
       "    } else if (Date.now() < root._bokeh_timeout) {\n",
       "      setTimeout(display_loaded, 100)\n",
       "    }\n",
       "  }\n",
       "\n",
       "\n",
       "  function run_callbacks() {\n",
       "    try {\n",
       "      root._bokeh_onload_callbacks.forEach(function(callback) { callback() });\n",
       "    }\n",
       "    finally {\n",
       "      delete root._bokeh_onload_callbacks\n",
       "    }\n",
       "    console.info(\"Bokeh: all callbacks have finished\");\n",
       "  }\n",
       "\n",
       "  function load_libs(js_urls, callback) {\n",
       "    root._bokeh_onload_callbacks.push(callback);\n",
       "    if (root._bokeh_is_loading > 0) {\n",
       "      console.log(\"Bokeh: BokehJS is being loaded, scheduling callback at\", now());\n",
       "      return null;\n",
       "    }\n",
       "    if (js_urls == null || js_urls.length === 0) {\n",
       "      run_callbacks();\n",
       "      return null;\n",
       "    }\n",
       "    console.log(\"Bokeh: BokehJS not loaded, scheduling load and callback at\", now());\n",
       "    root._bokeh_is_loading = js_urls.length;\n",
       "    for (var i = 0; i < js_urls.length; i++) {\n",
       "      var url = js_urls[i];\n",
       "      var s = document.createElement('script');\n",
       "      s.src = url;\n",
       "      s.async = false;\n",
       "      s.onreadystatechange = s.onload = function() {\n",
       "        root._bokeh_is_loading--;\n",
       "        if (root._bokeh_is_loading === 0) {\n",
       "          console.log(\"Bokeh: all BokehJS libraries loaded\");\n",
       "          run_callbacks()\n",
       "        }\n",
       "      };\n",
       "      s.onerror = function() {\n",
       "        console.warn(\"failed to load library \" + url);\n",
       "      };\n",
       "      console.log(\"Bokeh: injecting script tag for BokehJS library: \", url);\n",
       "      document.getElementsByTagName(\"head\")[0].appendChild(s);\n",
       "    }\n",
       "  };var element = document.getElementById(\"085ee1b5-c62a-45b2-ac9a-e1531a247c93\");\n",
       "  if (element == null) {\n",
       "    console.log(\"Bokeh: ERROR: autoload.js configured with elementid '085ee1b5-c62a-45b2-ac9a-e1531a247c93' but no matching script tag was found. \")\n",
       "    return false;\n",
       "  }\n",
       "\n",
       "  var js_urls = [\"https://cdn.pydata.org/bokeh/release/bokeh-0.12.14.min.js\", \"https://cdn.pydata.org/bokeh/release/bokeh-widgets-0.12.14.min.js\", \"https://cdn.pydata.org/bokeh/release/bokeh-tables-0.12.14.min.js\", \"https://cdn.pydata.org/bokeh/release/bokeh-gl-0.12.14.min.js\"];\n",
       "\n",
       "  var inline_js = [\n",
       "    function(Bokeh) {\n",
       "      Bokeh.set_log_level(\"info\");\n",
       "    },\n",
       "    \n",
       "    function(Bokeh) {\n",
       "      \n",
       "    },\n",
       "    function(Bokeh) {\n",
       "      console.log(\"Bokeh: injecting CSS: https://cdn.pydata.org/bokeh/release/bokeh-0.12.14.min.css\");\n",
       "      Bokeh.embed.inject_css(\"https://cdn.pydata.org/bokeh/release/bokeh-0.12.14.min.css\");\n",
       "      console.log(\"Bokeh: injecting CSS: https://cdn.pydata.org/bokeh/release/bokeh-widgets-0.12.14.min.css\");\n",
       "      Bokeh.embed.inject_css(\"https://cdn.pydata.org/bokeh/release/bokeh-widgets-0.12.14.min.css\");\n",
       "      console.log(\"Bokeh: injecting CSS: https://cdn.pydata.org/bokeh/release/bokeh-tables-0.12.14.min.css\");\n",
       "      Bokeh.embed.inject_css(\"https://cdn.pydata.org/bokeh/release/bokeh-tables-0.12.14.min.css\");\n",
       "    }\n",
       "  ];\n",
       "\n",
       "  function run_inline_js() {\n",
       "    \n",
       "    if ((root.Bokeh !== undefined) || (force === true)) {\n",
       "      for (var i = 0; i < inline_js.length; i++) {\n",
       "        inline_js[i].call(root, root.Bokeh);\n",
       "      }if (force === true) {\n",
       "        display_loaded();\n",
       "      }} else if (Date.now() < root._bokeh_timeout) {\n",
       "      setTimeout(run_inline_js, 100);\n",
       "    } else if (!root._bokeh_failed_load) {\n",
       "      console.log(\"Bokeh: BokehJS failed to load within specified timeout.\");\n",
       "      root._bokeh_failed_load = true;\n",
       "    } else if (force !== true) {\n",
       "      var cell = $(document.getElementById(\"085ee1b5-c62a-45b2-ac9a-e1531a247c93\")).parents('.cell').data().cell;\n",
       "      cell.output_area.append_execute_result(NB_LOAD_WARNING)\n",
       "    }\n",
       "\n",
       "  }\n",
       "\n",
       "  if (root._bokeh_is_loading === 0) {\n",
       "    console.log(\"Bokeh: BokehJS loaded, going straight to plotting\");\n",
       "    run_inline_js();\n",
       "  } else {\n",
       "    load_libs(js_urls, function() {\n",
       "      console.log(\"Bokeh: BokehJS plotting callback run at\", now());\n",
       "      run_inline_js();\n",
       "    });\n",
       "  }\n",
       "}(window));"
      ],
      "application/vnd.bokehjs_load.v0+json": "\n(function(root) {\n  function now() {\n    return new Date();\n  }\n\n  var force = true;\n\n  if (typeof (root._bokeh_onload_callbacks) === \"undefined\" || force === true) {\n    root._bokeh_onload_callbacks = [];\n    root._bokeh_is_loading = undefined;\n  }\n\n  \n\n  \n  if (typeof (root._bokeh_timeout) === \"undefined\" || force === true) {\n    root._bokeh_timeout = Date.now() + 5000;\n    root._bokeh_failed_load = false;\n  }\n\n  var NB_LOAD_WARNING = {'data': {'text/html':\n     \"<div style='background-color: #fdd'>\\n\"+\n     \"<p>\\n\"+\n     \"BokehJS does not appear to have successfully loaded. If loading BokehJS from CDN, this \\n\"+\n     \"may be due to a slow or bad network connection. Possible fixes:\\n\"+\n     \"</p>\\n\"+\n     \"<ul>\\n\"+\n     \"<li>re-rerun `output_notebook()` to attempt to load from CDN again, or</li>\\n\"+\n     \"<li>use INLINE resources instead, as so:</li>\\n\"+\n     \"</ul>\\n\"+\n     \"<code>\\n\"+\n     \"from bokeh.resources import INLINE\\n\"+\n     \"output_notebook(resources=INLINE)\\n\"+\n     \"</code>\\n\"+\n     \"</div>\"}};\n\n  function display_loaded() {\n    var el = document.getElementById(\"085ee1b5-c62a-45b2-ac9a-e1531a247c93\");\n    if (el != null) {\n      el.textContent = \"BokehJS is loading...\";\n    }\n    if (root.Bokeh !== undefined) {\n      if (el != null) {\n        el.textContent = \"BokehJS \" + root.Bokeh.version + \" successfully loaded.\";\n      }\n    } else if (Date.now() < root._bokeh_timeout) {\n      setTimeout(display_loaded, 100)\n    }\n  }\n\n\n  function run_callbacks() {\n    try {\n      root._bokeh_onload_callbacks.forEach(function(callback) { callback() });\n    }\n    finally {\n      delete root._bokeh_onload_callbacks\n    }\n    console.info(\"Bokeh: all callbacks have finished\");\n  }\n\n  function load_libs(js_urls, callback) {\n    root._bokeh_onload_callbacks.push(callback);\n    if (root._bokeh_is_loading > 0) {\n      console.log(\"Bokeh: BokehJS is being loaded, scheduling callback at\", now());\n      return null;\n    }\n    if (js_urls == null || js_urls.length === 0) {\n      run_callbacks();\n      return null;\n    }\n    console.log(\"Bokeh: BokehJS not loaded, scheduling load and callback at\", now());\n    root._bokeh_is_loading = js_urls.length;\n    for (var i = 0; i < js_urls.length; i++) {\n      var url = js_urls[i];\n      var s = document.createElement('script');\n      s.src = url;\n      s.async = false;\n      s.onreadystatechange = s.onload = function() {\n        root._bokeh_is_loading--;\n        if (root._bokeh_is_loading === 0) {\n          console.log(\"Bokeh: all BokehJS libraries loaded\");\n          run_callbacks()\n        }\n      };\n      s.onerror = function() {\n        console.warn(\"failed to load library \" + url);\n      };\n      console.log(\"Bokeh: injecting script tag for BokehJS library: \", url);\n      document.getElementsByTagName(\"head\")[0].appendChild(s);\n    }\n  };var element = document.getElementById(\"085ee1b5-c62a-45b2-ac9a-e1531a247c93\");\n  if (element == null) {\n    console.log(\"Bokeh: ERROR: autoload.js configured with elementid '085ee1b5-c62a-45b2-ac9a-e1531a247c93' but no matching script tag was found. \")\n    return false;\n  }\n\n  var js_urls = [\"https://cdn.pydata.org/bokeh/release/bokeh-0.12.14.min.js\", \"https://cdn.pydata.org/bokeh/release/bokeh-widgets-0.12.14.min.js\", \"https://cdn.pydata.org/bokeh/release/bokeh-tables-0.12.14.min.js\", \"https://cdn.pydata.org/bokeh/release/bokeh-gl-0.12.14.min.js\"];\n\n  var inline_js = [\n    function(Bokeh) {\n      Bokeh.set_log_level(\"info\");\n    },\n    \n    function(Bokeh) {\n      \n    },\n    function(Bokeh) {\n      console.log(\"Bokeh: injecting CSS: https://cdn.pydata.org/bokeh/release/bokeh-0.12.14.min.css\");\n      Bokeh.embed.inject_css(\"https://cdn.pydata.org/bokeh/release/bokeh-0.12.14.min.css\");\n      console.log(\"Bokeh: injecting CSS: https://cdn.pydata.org/bokeh/release/bokeh-widgets-0.12.14.min.css\");\n      Bokeh.embed.inject_css(\"https://cdn.pydata.org/bokeh/release/bokeh-widgets-0.12.14.min.css\");\n      console.log(\"Bokeh: injecting CSS: https://cdn.pydata.org/bokeh/release/bokeh-tables-0.12.14.min.css\");\n      Bokeh.embed.inject_css(\"https://cdn.pydata.org/bokeh/release/bokeh-tables-0.12.14.min.css\");\n    }\n  ];\n\n  function run_inline_js() {\n    \n    if ((root.Bokeh !== undefined) || (force === true)) {\n      for (var i = 0; i < inline_js.length; i++) {\n        inline_js[i].call(root, root.Bokeh);\n      }if (force === true) {\n        display_loaded();\n      }} else if (Date.now() < root._bokeh_timeout) {\n      setTimeout(run_inline_js, 100);\n    } else if (!root._bokeh_failed_load) {\n      console.log(\"Bokeh: BokehJS failed to load within specified timeout.\");\n      root._bokeh_failed_load = true;\n    } else if (force !== true) {\n      var cell = $(document.getElementById(\"085ee1b5-c62a-45b2-ac9a-e1531a247c93\")).parents('.cell').data().cell;\n      cell.output_area.append_execute_result(NB_LOAD_WARNING)\n    }\n\n  }\n\n  if (root._bokeh_is_loading === 0) {\n    console.log(\"Bokeh: BokehJS loaded, going straight to plotting\");\n    run_inline_js();\n  } else {\n    load_libs(js_urls, function() {\n      console.log(\"Bokeh: BokehJS plotting callback run at\", now());\n      run_inline_js();\n    });\n  }\n}(window));"
     },
     "metadata": {},
     "output_type": "display_data"
    }
   ],
   "source": [
    "output_notebook()"
   ]
  },
  {
   "cell_type": "code",
   "execution_count": 8,
   "metadata": {
    "collapsed": true
   },
   "outputs": [],
   "source": [
    "def fmt_cool(ds_in):\n",
    "    ds = ds_in.copy(deep=True)\n",
    "    if 'igg' in ds.dims:\n",
    "        ds = ds.sel(igg=1)\n",
    "\n",
    "    if 'g' in ds.dims:\n",
    "        ds = ds.sum('g')\n",
    "            \n",
    "    if 'band' in ds.dims:\n",
    "        try:\n",
    "            ds = ds.squeeze('band')\n",
    "        except ValueError:\n",
    "            ds = ds.sum('band')\n",
    "                \n",
    "    return ds['coolrg']\n",
    "\n",
    "\n",
    "def pltdata_cooling_1(ds_cool=None,\n",
    "                      ds_cool_crd=None, ds_cool_wgt=None):\n",
    "    \n",
    "\n",
    "\n",
    "    colors = all_palettes['Set1'][4]\n",
    "    data = [{'label': 'CLIRAD `coolr_bands`',\n",
    "             'srs': fmt_cool(ds_cool),\n",
    "             'line_dash': 'dashed', 'line_width': 5,\n",
    "             'color': colors[0], 'alpha': .6},\n",
    "            {'label': 'CRD',\n",
    "             'srs': fmt_cool(ds_cool_crd),\n",
    "             'line_dash': 'solid', 'line_width': 1.5,\n",
    "             'marker': 'circle', 'marker_size': 5,\n",
    "             'color': colors[2], 'alpha': 1,},\n",
    "            {'label': 'WGT igg=10 wgt_flux=2',\n",
    "             'srs': fmt_cool(ds_cool_wgt),\n",
    "             'line_dash': 'solid', 'line_width': 3,\n",
    "             'marker': 'square', 'marker_size': 5,\n",
    "             'color': colors[3], 'alpha': .6}]\n",
    "    return data\n",
    "\n",
    "\n",
    "def nice_xlims(pltdata=None, prange=None):\n",
    "    \n",
    "    def get_slice(srs):\n",
    "        return srs.sel(pressure=slice(*prange))\n",
    "    \n",
    "    srss = [d['srs'] for d in pltdata]\n",
    "    vmin = min([get_slice(srs).min() for srs in srss])\n",
    "    vmax = max([get_slice(srs).max() for srs in srss])\n",
    "    dv = (vmax - vmin) * .01\n",
    "    return float(vmin - dv), float(vmax + dv)\n",
    "    \n",
    "\n",
    "def plt_cooling_bokeh(pltdata=None):\n",
    "    '''\n",
    "    Plot a list of cooling rate profiles using bokeh.\n",
    "    '''\n",
    "    ymin = 1e-2 \n",
    "    ymax = 1020 \n",
    "        \n",
    "    p1 = figure(title=\"Linear pressure scale\", \n",
    "                plot_width=400)        \n",
    "    xmin, xmax = nice_xlims(pltdata, prange=(50, 1050))\n",
    "    for d in pltdata:\n",
    "        if 'marker' in d:\n",
    "            getattr(p1, d['marker'])(d['srs'].values, \n",
    "                    d['srs'].coords['pressure'].values,\n",
    "                    color=d['color'], alpha=.7)\n",
    "        p1.line(d['srs'].values, \n",
    "                d['srs'].coords['pressure'].values,\n",
    "                color=d['color'], alpha=d['alpha'], \n",
    "                line_width=d['line_width'], line_dash=d['line_dash'])\n",
    "    \n",
    "    p1.y_range = Range1d(ymax, ymin)\n",
    "    p1.yaxis.axis_label = 'pressure [mb]'   \n",
    "    p1.x_range = Range1d(xmin, xmax)\n",
    "    p1.xaxis.axis_label = 'cooling rate [K/day]'\n",
    "            \n",
    "    p2 = figure(title='Log pressure scale', y_axis_type='log',\n",
    "                plot_width=560)\n",
    "    xmin, xmax = nice_xlims(pltdata, prange=(.01, 200))\n",
    "    \n",
    "    rs = []\n",
    "    for d in pltdata:\n",
    "        rd = []\n",
    "        if 'marker' in d:\n",
    "            r_mark = getattr(p2, d['marker'])(d['srs'].values, \n",
    "                        d['srs'].coords['pressure'].values,\n",
    "                        color=d['color'], alpha=.7)\n",
    "            rd.append(r_mark)\n",
    "        r_line = p2.line(d['srs'].values, \n",
    "                    d['srs'].coords['pressure'].values,\n",
    "                    color=d['color'], alpha=d['alpha'], \n",
    "                    line_width=d['line_width'], line_dash=d['line_dash'])\n",
    "        rd.append(r_line)\n",
    "      \n",
    "        rs.append(rd)\n",
    "        \n",
    "    p2.y_range = Range1d(ymax, ymin)  \n",
    "    p2.yaxis.axis_label = 'pressure [mb]'\n",
    "    \n",
    "    p2.x_range = Range1d(xmin, xmax)\n",
    "    p2.xaxis.axis_label = 'cooling rate [K/day]'\n",
    "    \n",
    "    items = [(d['label'], r) for r, d in zip(rs, pltdata)]\n",
    "    legend = Legend(items=items, location=(10, -30))\n",
    "    legend.label_text_font_size = '8pt'\n",
    "    \n",
    "    p2.add_layout(legend, 'right')  \n",
    "    \n",
    "    show(gridplot(p1, p2, ncols=2, plot_height=500))\n",
    "    \n",
    "\n",
    "def script_plt_cooling():\n",
    "    pltdata = pltdata_cooling_1(\n",
    "        ds_cool=DS_COOL,\n",
    "        ds_cool_crd=DS_COOL_CRD,\n",
    "        ds_cool_wgt=DS_COOL_WGT)\n",
    "    plt_cooling_bokeh(pltdata=pltdata)\n",
    "    print('''FIGURE. Cooling rate profiles.''')"
   ]
  },
  {
   "cell_type": "code",
   "execution_count": 9,
   "metadata": {
    "collapsed": true
   },
   "outputs": [],
   "source": [
    "def fmt_flux(ds_in):\n",
    "    ds = ds_in.copy(deep=True)\n",
    "    \n",
    "    for l in ('level', 'layer'):\n",
    "        if l in ds.data_vars:\n",
    "            if len(ds[l].dims) > 1:\n",
    "                surface = {d: 0 for d in ds.dims if d != 'pressure'}\n",
    "                coord_level = ds[l][surface]\n",
    "                ds.coords[l] = ('pressure', coord_level)\n",
    "            else:\n",
    "                ds.coords[l] = ('pressure', ds[l])\n",
    "        \n",
    "    ds = ds.isel(pressure=[0, 23, -1])\n",
    "        \n",
    "    if 'igg' in ds.dims:\n",
    "        ds = ds.sel(igg=[1])\n",
    "        ds = ds.squeeze('igg').drop('igg')\n",
    "    \n",
    "    if 'g' in ds.dims:\n",
    "        ds = ds.sum('g')\n",
    "            \n",
    "    if 'band' in ds.dims:\n",
    "        try:\n",
    "            ds = ds.squeeze('band').drop('band')\n",
    "        except ValueError:\n",
    "            ds = ds.sum('band')\n",
    "                \n",
    "    df = ds.to_dataframe()\n",
    "    df = df.set_index('level', append=True)               \n",
    "    return df\n",
    "\n",
    "\n",
    "def tbdata_flux(ds_flux=None, ds_flux_crd=None, ds_flux_wgt=None):\n",
    "    ilevels = [0, 23, -1]\n",
    "            \n",
    "    benchmark = {'label': 'WGT igg=10 wgt_flux=1',\n",
    "                 'df': fmt_flux(ds_flux_wgt)}\n",
    "    \n",
    "    tbs = [{'label': 'CRD',\n",
    "            'df': fmt_flux(ds_flux_crd)},\n",
    "           {'label': 'CLIRAD',\n",
    "            'df': fmt_flux(ds_flux)}]\n",
    "    \n",
    "    data = {'benchmark': benchmark, 'others': tbs}\n",
    "    return data\n",
    "\n",
    "\n",
    "def tb_flux(tbdata=None):\n",
    "    benchmark = tbdata['benchmark']\n",
    "    others = tbdata['others']\n",
    "    \n",
    "    def show_tb(d=None):\n",
    "        display.display(d['df'])\n",
    "        print('Table.', 'Fluxes.', d['label'])\n",
    "        \n",
    "    def show_tbdiff(d0=None, d=None):\n",
    "        df = d['df']\n",
    "        df.index = d0['df'].index\n",
    "        display.display(df - d0['df'])\n",
    "        print('Table.', 'Fluxes.', \n",
    "              '({}) - ({})'.format(d['label'], d0['label']))\n",
    "        \n",
    "    show_tb(benchmark)\n",
    "    for d in others:\n",
    "        show_tb(d)\n",
    "        \n",
    "    for d in others:\n",
    "        show_tbdiff(d=d, d0=benchmark)\n",
    "        \n",
    "        \n",
    "def script_tb_flux():\n",
    "    data = tbdata_flux(ds_flux=DS_FLUX,\n",
    "                       ds_flux_crd=DS_FLUX_CRD,\n",
    "                       ds_flux_wgt=DS_FLUX_WGT)\n",
    "    tb_flux(tbdata=data)"
   ]
  },
  {
   "cell_type": "code",
   "execution_count": 10,
   "metadata": {
    "collapsed": true
   },
   "outputs": [],
   "source": [
    "def band_map():\n",
    "    '''\n",
    "    Maps spectral bands in lblnew to spectral bands in clirad.\n",
    "    '''\n",
    "    lblnew2clirad = {'1': '1',\n",
    "            '2': '2',\n",
    "            '3a': '3',\n",
    "            '3b': '4',\n",
    "            '3c': '5',\n",
    "            '4': '6', \n",
    "            '5': '7',\n",
    "            '6': '8',\n",
    "            '7': '9', \n",
    "            '8': '10',\n",
    "            '9': '11'}\n",
    "    \n",
    "    clirad2lblnew = {clirad: lblnew \n",
    "                     for lblnew, clirad in lblnew2clirad.items()}\n",
    "    return clirad2lblnew\n",
    "\n",
    "\n",
    "def gasbands():\n",
    "    bmap = band_map()\n",
    "    gases = list(PARAM['molecule'].keys())\n",
    "    \n",
    "    bands = [bmap[str(b)] for b in PARAM['band']]\n",
    "    return list(itertools.product(gases, bands))\n",
    "\n",
    "\n",
    "def print_bestfit_params():\n",
    "    print('Best-fit values for each (gas, band)')\n",
    "    print('------------------------------------')\n",
    "    for gas, band in gasbands():\n",
    "        print('o {} band{}'.format(gas, band))\n",
    "        param = bestfits.kdist_params(molecule=gas, band=band)\n",
    "        for name, value in param.items():\n",
    "            print(2 * ' ' + '{} = {}'.format(name, value))\n",
    "\n",
    "        \n",
    "def print_input_param():        \n",
    "    for name, value in PARAM.items():\n",
    "        print('{} = {}'.format(name, value))\n",
    "        \n",
    "        \n",
    "def print_lblnew_param():\n",
    "    for name, value in PARAM_LBLNEW.items():\n",
    "        print('{} = {}'.format(name, value))\n"
   ]
  },
  {
   "cell_type": "code",
   "execution_count": 11,
   "metadata": {
    "collapsed": true,
    "scrolled": false
   },
   "outputs": [],
   "source": [
    "def show_html(s):\n",
    "    display.display(display.HTML(s))\n",
    "\n",
    "    \n",
    "def show_markdown(s):\n",
    "    display.display(display.Markdown(s))\n",
    "\n",
    "    \n",
    "def script():\n",
    "    \n",
    "    title = '### CLIRAD-LW'\n",
    "    s_input = 'Input Parameters'\n",
    "    s_lblnew_param = 'LBLNEW case compaired against'\n",
    "    s_bestfits = 'Best-fit Parameters'\n",
    "    s_plt_cooling = 'Cooling Rate Profiles'\n",
    "    s_tb_flux = 'Flux Comparison'\n",
    "    \n",
    "    # title\n",
    "    show_markdown('### CLIRAD-LW')\n",
    "    \n",
    "    # TOC\n",
    "    show_markdown('### Table of Contents')\n",
    "    show_html(climahtml.getHTML_hrefanchor(s_input))\n",
    "    show_html(climahtml.getHTML_hrefanchor(s_lblnew_param))\n",
    "    show_html(climahtml.getHTML_hrefanchor(s_plt_cooling))\n",
    "    show_html(climahtml.getHTML_hrefanchor(s_tb_flux))\n",
    "    show_html(climahtml.getHTML_hrefanchor(s_bestfits))\n",
    "    \n",
    "    # Input parameters\n",
    "    show_html(climahtml.getHTML_idanchor(s_input))\n",
    "    show_markdown(climahtml.getMarkdown_sectitle(s_input))\n",
    "    print_input_param()\n",
    "    \n",
    "    # LBLNEW parameters \n",
    "    show_html(climahtml.getHTML_idanchor(s_lblnew_param))\n",
    "    show_markdown(climahtml.getMarkdown_sectitle(s_lblnew_param))\n",
    "    print_lblnew_param()\n",
    "    \n",
    "    # Cooling rate profiles\n",
    "    show_html(climahtml.getHTML_idanchor(s_plt_cooling))\n",
    "    show_markdown(climahtml.getMarkdown_sectitle(s_plt_cooling))\n",
    "    script_plt_cooling()\n",
    "    \n",
    "    # Flux comparison\n",
    "    show_html(climahtml.getHTML_idanchor(s_tb_flux))\n",
    "    show_markdown(climahtml.getMarkdown_sectitle(s_tb_flux))\n",
    "    script_tb_flux()\n",
    "    \n",
    "    # Best-fit values\n",
    "    show_html(climahtml.getHTML_idanchor(s_bestfits))\n",
    "    show_markdown(climahtml.getMarkdown_sectitle(s_bestfits))\n",
    "    print_bestfit_params()\n",
    "   \n",
    "    "
   ]
  },
  {
   "cell_type": "code",
   "execution_count": 12,
   "metadata": {
    "scrolled": false
   },
   "outputs": [
    {
     "data": {
      "text/markdown": [
       "### CLIRAD-LW"
      ],
      "text/plain": [
       "<IPython.core.display.Markdown object>"
      ]
     },
     "metadata": {},
     "output_type": "display_data"
    },
    {
     "data": {
      "text/markdown": [
       "### Table of Contents"
      ],
      "text/plain": [
       "<IPython.core.display.Markdown object>"
      ]
     },
     "metadata": {},
     "output_type": "display_data"
    },
    {
     "data": {
      "text/html": [
       "<a href=\"#Input_Parameters\">Input Parameters</a>"
      ],
      "text/plain": [
       "<IPython.core.display.HTML object>"
      ]
     },
     "metadata": {},
     "output_type": "display_data"
    },
    {
     "data": {
      "text/html": [
       "<a href=\"#LBLNEW_case_compaired_against\">LBLNEW case compaired against</a>"
      ],
      "text/plain": [
       "<IPython.core.display.HTML object>"
      ]
     },
     "metadata": {},
     "output_type": "display_data"
    },
    {
     "data": {
      "text/html": [
       "<a href=\"#Cooling_Rate_Profiles\">Cooling Rate Profiles</a>"
      ],
      "text/plain": [
       "<IPython.core.display.HTML object>"
      ]
     },
     "metadata": {},
     "output_type": "display_data"
    },
    {
     "data": {
      "text/html": [
       "<a href=\"#Flux_Comparison\">Flux Comparison</a>"
      ],
      "text/plain": [
       "<IPython.core.display.HTML object>"
      ]
     },
     "metadata": {},
     "output_type": "display_data"
    },
    {
     "data": {
      "text/html": [
       "<a href=\"#Best-fit_Parameters\">Best-fit Parameters</a>"
      ],
      "text/plain": [
       "<IPython.core.display.HTML object>"
      ]
     },
     "metadata": {},
     "output_type": "display_data"
    },
    {
     "data": {
      "text/html": [
       "<a id=\"Input_Parameters\"></a>"
      ],
      "text/plain": [
       "<IPython.core.display.HTML object>"
      ]
     },
     "metadata": {},
     "output_type": "display_data"
    },
    {
     "data": {
      "text/markdown": [
       "# Input Parameters"
      ],
      "text/plain": [
       "<IPython.core.display.Markdown object>"
      ]
     },
     "metadata": {},
     "output_type": "display_data"
    },
    {
     "name": "stdout",
     "output_type": "stream",
     "text": [
      "atmpro = mls\n",
      "band = [1]\n",
      "commitnumber = 4f33c91\n",
      "molecule = {'h2o': 'atmpro'}\n",
      "tsfc = 294\n"
     ]
    },
    {
     "data": {
      "text/html": [
       "<a id=\"LBLNEW_case_compaired_against\"></a>"
      ],
      "text/plain": [
       "<IPython.core.display.HTML object>"
      ]
     },
     "metadata": {},
     "output_type": "display_data"
    },
    {
     "data": {
      "text/markdown": [
       "# LBLNEW case compaired against"
      ],
      "text/plain": [
       "<IPython.core.display.Markdown object>"
      ]
     },
     "metadata": {},
     "output_type": "display_data"
    },
    {
     "name": "stdout",
     "output_type": "stream",
     "text": [
      "molecule = h2o\n",
      "band = 1\n",
      "commitnumber = d62b618\n",
      "vmin = 20\n",
      "vmax = 340\n",
      "dv = 0.001\n",
      "nv = 1000\n",
      "ref_pts = [(1, 250), (30, 250), (300, 250)]\n",
      "ng_refs = [3, 3, 6]\n",
      "ng_adju = [0, 0, 0]\n",
      "klin = 0\n",
      "option_wgt_k = 1\n",
      "wgt = [(0.2, 0.2, 0.2), (0.2, 0.2, 0.2), (0.2, 0.2, 0.65, 0.65, 0.65, 0.65)]\n",
      "w_diffuse = [(1.66, 1.66, 1.66), (1.66, 1.66, 1.66), (1.66, 1.66, 1.5, 1.5, 1.5, 1.5)]\n",
      "option_wgt_flux = 1\n",
      "atmpro = mls\n",
      "tsfc = 294\n",
      "conc = None\n",
      "option_compute_btable = 0\n",
      "option_compute_ktable = 1\n"
     ]
    },
    {
     "data": {
      "text/html": [
       "<a id=\"Cooling_Rate_Profiles\"></a>"
      ],
      "text/plain": [
       "<IPython.core.display.HTML object>"
      ]
     },
     "metadata": {},
     "output_type": "display_data"
    },
    {
     "data": {
      "text/markdown": [
       "# Cooling Rate Profiles"
      ],
      "text/plain": [
       "<IPython.core.display.Markdown object>"
      ]
     },
     "metadata": {},
     "output_type": "display_data"
    },
    {
     "data": {
      "text/html": [
       "\n",
       "<div class=\"bk-root\">\n",
       "    <div class=\"bk-plotdiv\" id=\"c3b9001b-08bb-42d4-b3d3-86907e3c5d0a\"></div>\n",
       "</div>"
      ]
     },
     "metadata": {},
     "output_type": "display_data"
    },
    {
     "data": {
      "application/javascript": [
       "(function(root) {\n",
       "  function embed_document(root) {\n",
       "    \n",
       "  var docs_json = {\"04f7ae2d-a129-4869-b0bb-5c2b8a6bd11d\":{\"roots\":{\"references\":[{\"attributes\":{\"fill_alpha\":{\"value\":0.7},\"fill_color\":{\"value\":\"#984ea3\"},\"line_alpha\":{\"value\":0.7},\"line_color\":{\"value\":\"#984ea3\"},\"x\":{\"field\":\"x\"},\"y\":{\"field\":\"y\"}},\"id\":\"265fae72-2b03-4858-b52a-d4835540fc82\",\"type\":\"Square\"},{\"attributes\":{\"fill_alpha\":{\"value\":0.1},\"fill_color\":{\"value\":\"#1f77b4\"},\"line_alpha\":{\"value\":0.1},\"line_color\":{\"value\":\"#1f77b4\"},\"x\":{\"field\":\"x\"},\"y\":{\"field\":\"y\"}},\"id\":\"6ab09f53-d007-4bb2-96d5-f49cf8b3c88d\",\"type\":\"Circle\"},{\"attributes\":{},\"id\":\"7f9a44fd-7116-483a-ad3d-e56bc030387a\",\"type\":\"ResetTool\"},{\"attributes\":{\"data_source\":{\"id\":\"42ece678-27bb-404e-8365-bfa0176dc1f3\",\"type\":\"ColumnDataSource\"},\"glyph\":{\"id\":\"4154cb03-85a7-45e8-8563-106133343abf\",\"type\":\"Line\"},\"hover_glyph\":null,\"muted_glyph\":null,\"nonselection_glyph\":{\"id\":\"8f89341f-bf32-4303-9478-3e89999f95f9\",\"type\":\"Line\"},\"selection_glyph\":null,\"view\":{\"id\":\"28539a1f-5cba-4a6f-b7f4-33f7a619f599\",\"type\":\"CDSView\"}},\"id\":\"33266f6f-d415-41a6-9e46-00e8390aec08\",\"type\":\"GlyphRenderer\"},{\"attributes\":{\"fill_alpha\":{\"value\":0.7},\"fill_color\":{\"value\":\"#4daf4a\"},\"line_alpha\":{\"value\":0.7},\"line_color\":{\"value\":\"#4daf4a\"},\"x\":{\"field\":\"x\"},\"y\":{\"field\":\"y\"}},\"id\":\"f04d514c-1823-4613-8348-35ce5d064a48\",\"type\":\"Circle\"},{\"attributes\":{\"callback\":null,\"end\":1.4407315052629321,\"start\":-0.012051617289732},\"id\":\"b9f0a93d-6ee2-4fa8-94dd-8e2ac7aeba6d\",\"type\":\"Range1d\"},{\"attributes\":{\"label\":{\"value\":\"WGT igg=10 wgt_flux=2\"},\"renderers\":[{\"id\":\"3c5a0af7-3d8a-4b64-9031-1392fb75c147\",\"type\":\"GlyphRenderer\"},{\"id\":\"2f05ece7-e263-4d25-b9ad-458f6cb38d7c\",\"type\":\"GlyphRenderer\"}]},\"id\":\"6310aea1-7bd6-46a8-a012-2c241e13c665\",\"type\":\"LegendItem\"},{\"attributes\":{\"fill_alpha\":{\"value\":0.1},\"fill_color\":{\"value\":\"#1f77b4\"},\"line_alpha\":{\"value\":0.1},\"line_color\":{\"value\":\"#1f77b4\"},\"x\":{\"field\":\"x\"},\"y\":{\"field\":\"y\"}},\"id\":\"bdd5e8ca-7419-4fc8-91ed-c596581c1be8\",\"type\":\"Circle\"},{\"attributes\":{\"data_source\":{\"id\":\"2e4a668e-589e-4aad-a0e5-9cd70d1510e9\",\"type\":\"ColumnDataSource\"},\"glyph\":{\"id\":\"f04d514c-1823-4613-8348-35ce5d064a48\",\"type\":\"Circle\"},\"hover_glyph\":null,\"muted_glyph\":null,\"nonselection_glyph\":{\"id\":\"bdd5e8ca-7419-4fc8-91ed-c596581c1be8\",\"type\":\"Circle\"},\"selection_glyph\":null,\"view\":{\"id\":\"6e7abc94-111a-40a7-adfd-1fa57043fc96\",\"type\":\"CDSView\"}},\"id\":\"934b1b5f-e17d-4561-a603-3c640fd1a4f0\",\"type\":\"GlyphRenderer\"},{\"attributes\":{\"callback\":null,\"column_names\":[\"x\",\"y\"],\"data\":{\"x\":{\"__ndarray__\":\"15a7W73PEUCEmstqaH4PQAM1tppFsA1AUCSfRKFyC0CGyc/IrfsIQKgcEuNqHQZABpnHcGUMA0AKc6XUutj/P6qLi1NA8/o/IwODedWv9D+X0N67xbzwP7Y2oInQTOs/0+rG++Im5j/yPKdkdirhP+7vsdTR/dk/1eQ+I41x2D9pWIxViHnXP6RiXOBn7Nc/gzCl4Rwd2T+4jKLxUXTbP+gULoAEO98/Ac6DQ2r24T/1KAInj2flP6WxZDKSzOY/0i9BUH/a5T/SwxT9+c3jPxcWv85X4uE/Wn/zPfAW4D9gEcxSPqncPwSh0gb0Cts/9bfUponV2T9eO0cIvhnXP7g++0fbrdU/qozPXrWM1D9SufGRFm7SP4hw7T1hNdA/k9swUVB4zT93kdGTMPjKP7XuC+Gbocg/+OtVCwtKxz+UYHpDmoTSP98P3OuB6eY/pfffEVYh8j+tLvaj5dL2PzCPH4uAl/U/EIIFKq5N8T/nd/W/e0vtP4i+owtKueY/vgFoEoGI4j9CvLLU1TfeP7Fg2Zd0uto/rI6eXY6S0T+uC9VaCKzIP0cDIAo1QsA/jFBzEt3Csz/CCl0EakynPxDV8zhadJ8/3Rti7nDRjj9YuO3qMC6HP/6OTi74t4E/DgPu+Wjpez+NoG6KrLZ3Py7eNZ96JXU/jM9KrAP+dD8C2Srvwnh3P6K9eisKyX4/3z9ld7K/hT+Tu35xqUOLP5KJGhtF44o/bdXfXQ11hD9u9h/UHDh6P8wHaYCwhXA/geF5cU/sZj+wRSdv/fVhP4yTadBOtaY/\",\"dtype\":\"float64\",\"shape\":[75]},\"y\":{\"__ndarray__\":\"GhExyth1ND/Sv8nbtpRIP2vylNV0PVE/aTum7souWD/At0SJ8fVgPw3Iuahxymc/MSNhhJWvcD/bTfBN02d3P2zb5nxnaoA/CD5h5MAGhz8NmeH1TyaQP+zrCsc9p5Y/LbKd76fGnz/bLW5ISEmmPww9YvTcQq8/JV2OstnstT8Er5Y7M8G+P0c+r3jqkcU/5h99k6ZBzj88bCIzFzjVP4enV8oyxN0//yH99nXg5D8qOpLLf0jtP5kqGJXUifQ/c9cS8kHP/D+/DpwzojQEQIEmwoanVwxA4lgXt9HgE0BSSZ2AJuIbQAMJih9jjiNA5q4l5INuK0AwTKYKRj0zQNv5fmq8/DpAaCJseHrtQkB/+zpwzoxKQM3MzMzMeFJAZmZmZmZqWEAAAAAAAFxeQM3MzMzMJmJAmpmZmZkfZUBmZmZmZhhoQDMzMzMzEWtAAAAAAAAKbkBmZmZmZoFwQM3MzMzM/XFAMzMzMzN6c0CamZmZmfZ0QAAAAAAAc3ZAZmZmZmbvd0DNzMzMzGt5QDMzMzMz6HpAmpmZmZlkfEAAAAAAAOF9QGZmZmZmXX9AZmZmZuZsgECamZmZGSuBQM3MzMxM6YFAAAAAAICngkAzMzMzs2WDQGZmZmbmI4RAmpmZmRnihEDNzMzMTKCFQAAAAACAXoZAMzMzM7Mch0BmZmZm5tqHQJqZmZkZmYhAzczMzExXiUAAAAAAgBWKQDMzMzOz04pAZmZmZuaRi0CamZmZGVCMQM3MzMxMDo1AAAAAAIDMjUAzMzMzs4qOQGZmZmbmSI9A\",\"dtype\":\"float64\",\"shape\":[75]}}},\"id\":\"08c66295-10e1-4cbe-8976-94a1c2e7a6ea\",\"type\":\"ColumnDataSource\"},{\"attributes\":{\"plot\":null,\"text\":\"Log pressure scale\"},\"id\":\"700ce651-5cb7-47cf-b3c4-3ecde95fb50b\",\"type\":\"Title\"},{\"attributes\":{\"callback\":null,\"column_names\":[\"x\",\"y\"],\"data\":{\"x\":{\"__ndarray__\":\"Ms46PrUlGkCRxNz/ETcUQKzWeJ+ZJhJA2JyDZ0ITEEDBCCtf4Z4LQDkVBOoowgdAn7k999QgBEAGEhQ/xswAQLo1RHC3v/s/pxB+mHN/9j8/JZ03BB3yPySaoztGYew/iMzoid/b5T9V5+ZVfAfgP5F/RQI2tdc/Jbn0FqxE1j8MiYOdxf/XP1GttkniuNg/no98bx1t2T/fkKG+wMfaPzk+Qf+QQN0/wP/a6gfP4D84kKKMwHHjP+Cq498E0uM/qYHN1k1L4j8rNkEvN/PgPwrys5Hrpt8/EKiCesiO3T+oMs7XE7rbP8doHVVNENo/lB3R811A2D9t4iabWSjWP+fVSjK8Y9Q/02Ai99cf0z8Ozq//naHRP7BAT16/u88/qI40POZRzT9+bxW8zw7MP1SSEg7/4ck//5vup4ygyD/jySxKIh7TP5uyDbtzEec/MhP7usJR8j8BPcOKCQD2P4SKBRlc7vU/6Q69IH1u8T/9IhWE+u/rP8o444eMX+c//KQ90p564z8LvoKXjQzgPyKGBCkEtNk/tf518hLx0j+cLFol/eLKP5Sy2jZr9ME/8hwxfSawtz89Lo7wFHeuPwDAnYPowqM/RwJ/i13BmT/iKuSE6JSQP3CvIFsDTIY/cCas6Y+rfz99+dZjeO55P9xhNxYSvHY/s0Qzg3vUdT9MYRON/QJ4P0uCJVPURH8/7IotxdTkhT++YrJdRlaLP2bakflm7Io/+BygiEF4hD+ayaYKdTl6P2xLQRgvhnA/JXAI6fLsZj9UJ3EsoPZhP5/wMPJUtaY/\",\"dtype\":\"float64\",\"shape\":[75]},\"y\":{\"__ndarray__\":\"GhExyth1ND/Sv8nbtpRIP2vylNV0PVE/aTum7souWD/At0SJ8fVgPw3Iuahxymc/MSNhhJWvcD/bTfBN02d3P2zb5nxnaoA/CD5h5MAGhz8NmeH1TyaQP+zrCsc9p5Y/LbKd76fGnz/bLW5ISEmmPww9YvTcQq8/JV2OstnstT8Er5Y7M8G+P0c+r3jqkcU/5h99k6ZBzj88bCIzFzjVP4enV8oyxN0//yH99nXg5D8qOpLLf0jtP5kqGJXUifQ/c9cS8kHP/D+/DpwzojQEQIEmwoanVwxA4lgXt9HgE0BSSZ2AJuIbQAMJih9jjiNA5q4l5INuK0AwTKYKRj0zQNv5fmq8/DpAaCJseHrtQkB/+zpwzoxKQM3MzMzMeFJAZmZmZmZqWEAAAAAAAFxeQM3MzMzMJmJAmpmZmZkfZUBmZmZmZhhoQDMzMzMzEWtAAAAAAAAKbkBmZmZmZoFwQM3MzMzM/XFAMzMzMzN6c0CamZmZmfZ0QAAAAAAAc3ZAZmZmZmbvd0DNzMzMzGt5QDMzMzMz6HpAmpmZmZlkfEAAAAAAAOF9QGZmZmZmXX9AZmZmZuZsgECamZmZGSuBQM3MzMxM6YFAAAAAAICngkAzMzMzs2WDQGZmZmbmI4RAmpmZmRnihEDNzMzMTKCFQAAAAACAXoZAMzMzM7Mch0BmZmZm5tqHQJqZmZkZmYhAzczMzExXiUAAAAAAgBWKQDMzMzOz04pAZmZmZuaRi0CamZmZGVCMQM3MzMxMDo1AAAAAAIDMjUAzMzMzs4qOQGZmZmbmSI9A\",\"dtype\":\"float64\",\"shape\":[75]}}},\"id\":\"2e4a668e-589e-4aad-a0e5-9cd70d1510e9\",\"type\":\"ColumnDataSource\"},{\"attributes\":{\"line_alpha\":0.1,\"line_color\":\"#1f77b4\",\"line_dash\":[6],\"line_width\":5,\"x\":{\"field\":\"x\"},\"y\":{\"field\":\"y\"}},\"id\":\"8f89341f-bf32-4303-9478-3e89999f95f9\",\"type\":\"Line\"},{\"attributes\":{\"fill_alpha\":{\"value\":0.1},\"fill_color\":{\"value\":\"#1f77b4\"},\"line_alpha\":{\"value\":0.1},\"line_color\":{\"value\":\"#1f77b4\"},\"x\":{\"field\":\"x\"},\"y\":{\"field\":\"y\"}},\"id\":\"5be825a3-bc27-4058-af25-e19a3ce150e1\",\"type\":\"Square\"},{\"attributes\":{\"overlay\":{\"id\":\"97e62011-c59f-4dfb-a86e-e58ef34a2456\",\"type\":\"BoxAnnotation\"}},\"id\":\"18ba1474-354d-4011-85a1-6f436a475138\",\"type\":\"BoxZoomTool\"},{\"attributes\":{\"num_minor_ticks\":10},\"id\":\"2db2d2ff-b0f7-4784-8c75-4750f121270b\",\"type\":\"LogTicker\"},{\"attributes\":{\"source\":{\"id\":\"afcfab16-ac16-4d1c-9cd9-b7b91ce9e81b\",\"type\":\"ColumnDataSource\"}},\"id\":\"65a498c7-4609-43a6-bb78-9742c22ab355\",\"type\":\"CDSView\"},{\"attributes\":{},\"id\":\"5be9347b-1779-49fb-8fbd-20643d26b738\",\"type\":\"BasicTickFormatter\"},{\"attributes\":{\"callback\":null,\"column_names\":[\"x\",\"y\"],\"data\":{\"x\":{\"__ndarray__\":\"15a7W73PEUCEmstqaH4PQAM1tppFsA1AUCSfRKFyC0CGyc/IrfsIQKgcEuNqHQZABpnHcGUMA0AKc6XUutj/P6qLi1NA8/o/IwODedWv9D+X0N67xbzwP7Y2oInQTOs/0+rG++Im5j/yPKdkdirhP+7vsdTR/dk/1eQ+I41x2D9pWIxViHnXP6RiXOBn7Nc/gzCl4Rwd2T+4jKLxUXTbP+gULoAEO98/Ac6DQ2r24T/1KAInj2flP6WxZDKSzOY/0i9BUH/a5T/SwxT9+c3jPxcWv85X4uE/Wn/zPfAW4D9gEcxSPqncPwSh0gb0Cts/9bfUponV2T9eO0cIvhnXP7g++0fbrdU/qozPXrWM1D9SufGRFm7SP4hw7T1hNdA/k9swUVB4zT93kdGTMPjKP7XuC+Gbocg/+OtVCwtKxz+UYHpDmoTSP98P3OuB6eY/pfffEVYh8j+tLvaj5dL2PzCPH4uAl/U/EIIFKq5N8T/nd/W/e0vtP4i+owtKueY/vgFoEoGI4j9CvLLU1TfeP7Fg2Zd0uto/rI6eXY6S0T+uC9VaCKzIP0cDIAo1QsA/jFBzEt3Csz/CCl0EakynPxDV8zhadJ8/3Rti7nDRjj9YuO3qMC6HP/6OTi74t4E/DgPu+Wjpez+NoG6KrLZ3Py7eNZ96JXU/jM9KrAP+dD8C2Srvwnh3P6K9eisKyX4/3z9ld7K/hT+Tu35xqUOLP5KJGhtF44o/bdXfXQ11hD9u9h/UHDh6P8wHaYCwhXA/geF5cU/sZj+wRSdv/fVhP4yTadBOtaY/\",\"dtype\":\"float64\",\"shape\":[75]},\"y\":{\"__ndarray__\":\"GhExyth1ND/Sv8nbtpRIP2vylNV0PVE/aTum7souWD/At0SJ8fVgPw3Iuahxymc/MSNhhJWvcD/bTfBN02d3P2zb5nxnaoA/CD5h5MAGhz8NmeH1TyaQP+zrCsc9p5Y/LbKd76fGnz/bLW5ISEmmPww9YvTcQq8/JV2OstnstT8Er5Y7M8G+P0c+r3jqkcU/5h99k6ZBzj88bCIzFzjVP4enV8oyxN0//yH99nXg5D8qOpLLf0jtP5kqGJXUifQ/c9cS8kHP/D+/DpwzojQEQIEmwoanVwxA4lgXt9HgE0BSSZ2AJuIbQAMJih9jjiNA5q4l5INuK0AwTKYKRj0zQNv5fmq8/DpAaCJseHrtQkB/+zpwzoxKQM3MzMzMeFJAZmZmZmZqWEAAAAAAAFxeQM3MzMzMJmJAmpmZmZkfZUBmZmZmZhhoQDMzMzMzEWtAAAAAAAAKbkBmZmZmZoFwQM3MzMzM/XFAMzMzMzN6c0CamZmZmfZ0QAAAAAAAc3ZAZmZmZmbvd0DNzMzMzGt5QDMzMzMz6HpAmpmZmZlkfEAAAAAAAOF9QGZmZmZmXX9AZmZmZuZsgECamZmZGSuBQM3MzMxM6YFAAAAAAICngkAzMzMzs2WDQGZmZmbmI4RAmpmZmRnihEDNzMzMTKCFQAAAAACAXoZAMzMzM7Mch0BmZmZm5tqHQJqZmZkZmYhAzczMzExXiUAAAAAAgBWKQDMzMzOz04pAZmZmZuaRi0CamZmZGVCMQM3MzMxMDo1AAAAAAIDMjUAzMzMzs4qOQGZmZmbmSI9A\",\"dtype\":\"float64\",\"shape\":[75]}}},\"id\":\"afcfab16-ac16-4d1c-9cd9-b7b91ce9e81b\",\"type\":\"ColumnDataSource\"},{\"attributes\":{\"data_source\":{\"id\":\"afcfab16-ac16-4d1c-9cd9-b7b91ce9e81b\",\"type\":\"ColumnDataSource\"},\"glyph\":{\"id\":\"81271304-1d60-4642-9404-f8b456bb2531\",\"type\":\"Line\"},\"hover_glyph\":null,\"muted_glyph\":null,\"nonselection_glyph\":{\"id\":\"ab0d7494-0e01-4a42-ad40-c38c9fc1e6db\",\"type\":\"Line\"},\"selection_glyph\":null,\"view\":{\"id\":\"65a498c7-4609-43a6-bb78-9742c22ab355\",\"type\":\"CDSView\"}},\"id\":\"66af4248-43a8-4069-b12a-a8875a79de7f\",\"type\":\"GlyphRenderer\"},{\"attributes\":{\"source\":{\"id\":\"2e4a668e-589e-4aad-a0e5-9cd70d1510e9\",\"type\":\"ColumnDataSource\"}},\"id\":\"6e7abc94-111a-40a7-adfd-1fa57043fc96\",\"type\":\"CDSView\"},{\"attributes\":{\"line_alpha\":0.6,\"line_color\":\"#984ea3\",\"line_width\":3,\"x\":{\"field\":\"x\"},\"y\":{\"field\":\"y\"}},\"id\":\"81271304-1d60-4642-9404-f8b456bb2531\",\"type\":\"Line\"},{\"attributes\":{\"callback\":null,\"column_names\":[\"x\",\"y\"],\"data\":{\"x\":{\"__ndarray__\":\"Ms46PrUlGkCRxNz/ETcUQKzWeJ+ZJhJA2JyDZ0ITEEDBCCtf4Z4LQDkVBOoowgdAn7k999QgBEAGEhQ/xswAQLo1RHC3v/s/pxB+mHN/9j8/JZ03BB3yPySaoztGYew/iMzoid/b5T9V5+ZVfAfgP5F/RQI2tdc/Jbn0FqxE1j8MiYOdxf/XP1GttkniuNg/no98bx1t2T/fkKG+wMfaPzk+Qf+QQN0/wP/a6gfP4D84kKKMwHHjP+Cq498E0uM/qYHN1k1L4j8rNkEvN/PgPwrys5Hrpt8/EKiCesiO3T+oMs7XE7rbP8doHVVNENo/lB3R811A2D9t4iabWSjWP+fVSjK8Y9Q/02Ai99cf0z8Ozq//naHRP7BAT16/u88/qI40POZRzT9+bxW8zw7MP1SSEg7/4ck//5vup4ygyD/jySxKIh7TP5uyDbtzEec/MhP7usJR8j8BPcOKCQD2P4SKBRlc7vU/6Q69IH1u8T/9IhWE+u/rP8o444eMX+c//KQ90p564z8LvoKXjQzgPyKGBCkEtNk/tf518hLx0j+cLFol/eLKP5Sy2jZr9ME/8hwxfSawtz89Lo7wFHeuPwDAnYPowqM/RwJ/i13BmT/iKuSE6JSQP3CvIFsDTIY/cCas6Y+rfz99+dZjeO55P9xhNxYSvHY/s0Qzg3vUdT9MYRON/QJ4P0uCJVPURH8/7IotxdTkhT++YrJdRlaLP2bakflm7Io/+BygiEF4hD+ayaYKdTl6P2xLQRgvhnA/JXAI6fLsZj9UJ3EsoPZhP5/wMPJUtaY/\",\"dtype\":\"float64\",\"shape\":[75]},\"y\":{\"__ndarray__\":\"GhExyth1ND/Sv8nbtpRIP2vylNV0PVE/aTum7souWD/At0SJ8fVgPw3Iuahxymc/MSNhhJWvcD/bTfBN02d3P2zb5nxnaoA/CD5h5MAGhz8NmeH1TyaQP+zrCsc9p5Y/LbKd76fGnz/bLW5ISEmmPww9YvTcQq8/JV2OstnstT8Er5Y7M8G+P0c+r3jqkcU/5h99k6ZBzj88bCIzFzjVP4enV8oyxN0//yH99nXg5D8qOpLLf0jtP5kqGJXUifQ/c9cS8kHP/D+/DpwzojQEQIEmwoanVwxA4lgXt9HgE0BSSZ2AJuIbQAMJih9jjiNA5q4l5INuK0AwTKYKRj0zQNv5fmq8/DpAaCJseHrtQkB/+zpwzoxKQM3MzMzMeFJAZmZmZmZqWEAAAAAAAFxeQM3MzMzMJmJAmpmZmZkfZUBmZmZmZhhoQDMzMzMzEWtAAAAAAAAKbkBmZmZmZoFwQM3MzMzM/XFAMzMzMzN6c0CamZmZmfZ0QAAAAAAAc3ZAZmZmZmbvd0DNzMzMzGt5QDMzMzMz6HpAmpmZmZlkfEAAAAAAAOF9QGZmZmZmXX9AZmZmZuZsgECamZmZGSuBQM3MzMxM6YFAAAAAAICngkAzMzMzs2WDQGZmZmbmI4RAmpmZmRnihEDNzMzMTKCFQAAAAACAXoZAMzMzM7Mch0BmZmZm5tqHQJqZmZkZmYhAzczMzExXiUAAAAAAgBWKQDMzMzOz04pAZmZmZuaRi0CamZmZGVCMQM3MzMxMDo1AAAAAAIDMjUAzMzMzs4qOQGZmZmbmSI9A\",\"dtype\":\"float64\",\"shape\":[75]}}},\"id\":\"28cf1187-eb9d-45e9-804b-8624ef038179\",\"type\":\"ColumnDataSource\"},{\"attributes\":{\"line_alpha\":0.1,\"line_color\":\"#1f77b4\",\"line_width\":3,\"x\":{\"field\":\"x\"},\"y\":{\"field\":\"y\"}},\"id\":\"ab0d7494-0e01-4a42-ad40-c38c9fc1e6db\",\"type\":\"Line\"},{\"attributes\":{\"line_color\":\"#4daf4a\",\"line_width\":1.5,\"x\":{\"field\":\"x\"},\"y\":{\"field\":\"y\"}},\"id\":\"2eab1fa0-8b98-48af-aa04-6cb2cbd66166\",\"type\":\"Line\"},{\"attributes\":{},\"id\":\"7a5dac06-43e3-4352-8883-eb59c62e9dab\",\"type\":\"PanTool\"},{\"attributes\":{\"callback\":null,\"column_names\":[\"x\",\"y\"],\"data\":{\"x\":{\"__ndarray__\":\"15a7W73PEUCEmstqaH4PQAM1tppFsA1AUCSfRKFyC0CGyc/IrfsIQKgcEuNqHQZABpnHcGUMA0AKc6XUutj/P6qLi1NA8/o/IwODedWv9D+X0N67xbzwP7Y2oInQTOs/0+rG++Im5j/yPKdkdirhP+7vsdTR/dk/1eQ+I41x2D9pWIxViHnXP6RiXOBn7Nc/gzCl4Rwd2T+4jKLxUXTbP+gULoAEO98/Ac6DQ2r24T/1KAInj2flP6WxZDKSzOY/0i9BUH/a5T/SwxT9+c3jPxcWv85X4uE/Wn/zPfAW4D9gEcxSPqncPwSh0gb0Cts/9bfUponV2T9eO0cIvhnXP7g++0fbrdU/qozPXrWM1D9SufGRFm7SP4hw7T1hNdA/k9swUVB4zT93kdGTMPjKP7XuC+Gbocg/+OtVCwtKxz+UYHpDmoTSP98P3OuB6eY/pfffEVYh8j+tLvaj5dL2PzCPH4uAl/U/EIIFKq5N8T/nd/W/e0vtP4i+owtKueY/vgFoEoGI4j9CvLLU1TfeP7Fg2Zd0uto/rI6eXY6S0T+uC9VaCKzIP0cDIAo1QsA/jFBzEt3Csz/CCl0EakynPxDV8zhadJ8/3Rti7nDRjj9YuO3qMC6HP/6OTi74t4E/DgPu+Wjpez+NoG6KrLZ3Py7eNZ96JXU/jM9KrAP+dD8C2Srvwnh3P6K9eisKyX4/3z9ld7K/hT+Tu35xqUOLP5KJGhtF44o/bdXfXQ11hD9u9h/UHDh6P8wHaYCwhXA/geF5cU/sZj+wRSdv/fVhP4yTadBOtaY/\",\"dtype\":\"float64\",\"shape\":[75]},\"y\":{\"__ndarray__\":\"GhExyth1ND/Sv8nbtpRIP2vylNV0PVE/aTum7souWD/At0SJ8fVgPw3Iuahxymc/MSNhhJWvcD/bTfBN02d3P2zb5nxnaoA/CD5h5MAGhz8NmeH1TyaQP+zrCsc9p5Y/LbKd76fGnz/bLW5ISEmmPww9YvTcQq8/JV2OstnstT8Er5Y7M8G+P0c+r3jqkcU/5h99k6ZBzj88bCIzFzjVP4enV8oyxN0//yH99nXg5D8qOpLLf0jtP5kqGJXUifQ/c9cS8kHP/D+/DpwzojQEQIEmwoanVwxA4lgXt9HgE0BSSZ2AJuIbQAMJih9jjiNA5q4l5INuK0AwTKYKRj0zQNv5fmq8/DpAaCJseHrtQkB/+zpwzoxKQM3MzMzMeFJAZmZmZmZqWEAAAAAAAFxeQM3MzMzMJmJAmpmZmZkfZUBmZmZmZhhoQDMzMzMzEWtAAAAAAAAKbkBmZmZmZoFwQM3MzMzM/XFAMzMzMzN6c0CamZmZmfZ0QAAAAAAAc3ZAZmZmZmbvd0DNzMzMzGt5QDMzMzMz6HpAmpmZmZlkfEAAAAAAAOF9QGZmZmZmXX9AZmZmZuZsgECamZmZGSuBQM3MzMxM6YFAAAAAAICngkAzMzMzs2WDQGZmZmbmI4RAmpmZmRnihEDNzMzMTKCFQAAAAACAXoZAMzMzM7Mch0BmZmZm5tqHQJqZmZkZmYhAzczMzExXiUAAAAAAgBWKQDMzMzOz04pAZmZmZuaRi0CamZmZGVCMQM3MzMxMDo1AAAAAAIDMjUAzMzMzs4qOQGZmZmbmSI9A\",\"dtype\":\"float64\",\"shape\":[75]}}},\"id\":\"09520945-ae44-44a1-bca2-a17ab1747584\",\"type\":\"ColumnDataSource\"},{\"attributes\":{\"active_drag\":\"auto\",\"active_inspect\":\"auto\",\"active_scroll\":\"auto\",\"active_tap\":\"auto\",\"tools\":[{\"id\":\"7a5dac06-43e3-4352-8883-eb59c62e9dab\",\"type\":\"PanTool\"},{\"id\":\"699cc268-87ab-4ecf-b660-f312243707f5\",\"type\":\"WheelZoomTool\"},{\"id\":\"18ba1474-354d-4011-85a1-6f436a475138\",\"type\":\"BoxZoomTool\"},{\"id\":\"63fde4b1-bea8-4fab-af7d-4a2f867dbb7d\",\"type\":\"SaveTool\"},{\"id\":\"7f9a44fd-7116-483a-ad3d-e56bc030387a\",\"type\":\"ResetTool\"},{\"id\":\"d1520a48-3928-49a0-a656-542f41434028\",\"type\":\"HelpTool\"}]},\"id\":\"43a700ea-b7bc-4d93-8477-54b5916ad449\",\"type\":\"Toolbar\"},{\"attributes\":{\"line_alpha\":0.1,\"line_color\":\"#1f77b4\",\"line_width\":1.5,\"x\":{\"field\":\"x\"},\"y\":{\"field\":\"y\"}},\"id\":\"4dd930e1-a47f-42a1-81ce-8ae3cd4682e7\",\"type\":\"Line\"},{\"attributes\":{\"below\":[{\"id\":\"6c4202f5-8fef-49ae-80e6-375dc8c01d6e\",\"type\":\"LinearAxis\"}],\"left\":[{\"id\":\"fca88f64-0991-409a-af78-c6d1440c27a4\",\"type\":\"LogAxis\"}],\"plot_height\":500,\"plot_width\":560,\"renderers\":[{\"id\":\"6c4202f5-8fef-49ae-80e6-375dc8c01d6e\",\"type\":\"LinearAxis\"},{\"id\":\"1f7950c0-cfc8-44cc-95e8-031e9ca7e36c\",\"type\":\"Grid\"},{\"id\":\"fca88f64-0991-409a-af78-c6d1440c27a4\",\"type\":\"LogAxis\"},{\"id\":\"94146ccc-dc25-4f56-b909-3060fc45a872\",\"type\":\"Grid\"},{\"id\":\"97e62011-c59f-4dfb-a86e-e58ef34a2456\",\"type\":\"BoxAnnotation\"},{\"id\":\"d7cf3bdc-2845-41e3-9536-e37c1336bc52\",\"type\":\"GlyphRenderer\"},{\"id\":\"934b1b5f-e17d-4561-a603-3c640fd1a4f0\",\"type\":\"GlyphRenderer\"},{\"id\":\"0f0e5362-6a33-4e8c-8d1d-14966a3f8428\",\"type\":\"GlyphRenderer\"},{\"id\":\"3c5a0af7-3d8a-4b64-9031-1392fb75c147\",\"type\":\"GlyphRenderer\"},{\"id\":\"2f05ece7-e263-4d25-b9ad-458f6cb38d7c\",\"type\":\"GlyphRenderer\"},{\"id\":\"bddef6af-aad9-4b66-a4a0-482c6d6eef76\",\"type\":\"Legend\"}],\"right\":[{\"id\":\"bddef6af-aad9-4b66-a4a0-482c6d6eef76\",\"type\":\"Legend\"}],\"title\":{\"id\":\"700ce651-5cb7-47cf-b3c4-3ecde95fb50b\",\"type\":\"Title\"},\"toolbar\":{\"id\":\"43a700ea-b7bc-4d93-8477-54b5916ad449\",\"type\":\"Toolbar\"},\"toolbar_location\":null,\"x_range\":{\"id\":\"68a78f61-25a9-4f77-8b9b-951fa1d32c54\",\"type\":\"Range1d\"},\"x_scale\":{\"id\":\"5f990e42-0b72-497c-8c2e-733ec79bcc34\",\"type\":\"LinearScale\"},\"y_range\":{\"id\":\"2a3984c3-40e4-4519-99c0-fcd0c3e762b0\",\"type\":\"Range1d\"},\"y_scale\":{\"id\":\"f7ca6eaf-cc26-471c-9629-bfe24bbc5778\",\"type\":\"LogScale\"}},\"id\":\"bc9aefc9-49a7-4f07-8093-b82cddb76ea4\",\"subtype\":\"Figure\",\"type\":\"Plot\"},{\"attributes\":{\"data_source\":{\"id\":\"28cf1187-eb9d-45e9-804b-8624ef038179\",\"type\":\"ColumnDataSource\"},\"glyph\":{\"id\":\"2eab1fa0-8b98-48af-aa04-6cb2cbd66166\",\"type\":\"Line\"},\"hover_glyph\":null,\"muted_glyph\":null,\"nonselection_glyph\":{\"id\":\"4dd930e1-a47f-42a1-81ce-8ae3cd4682e7\",\"type\":\"Line\"},\"selection_glyph\":null,\"view\":{\"id\":\"650dc6d7-9ca8-4901-9fdf-64bdd620e2c4\",\"type\":\"CDSView\"}},\"id\":\"0f0e5362-6a33-4e8c-8d1d-14966a3f8428\",\"type\":\"GlyphRenderer\"},{\"attributes\":{\"source\":{\"id\":\"28cf1187-eb9d-45e9-804b-8624ef038179\",\"type\":\"ColumnDataSource\"}},\"id\":\"650dc6d7-9ca8-4901-9fdf-64bdd620e2c4\",\"type\":\"CDSView\"},{\"attributes\":{\"fill_alpha\":{\"value\":0.7},\"fill_color\":{\"value\":\"#984ea3\"},\"line_alpha\":{\"value\":0.7},\"line_color\":{\"value\":\"#984ea3\"},\"x\":{\"field\":\"x\"},\"y\":{\"field\":\"y\"}},\"id\":\"ae3ab53c-284e-466d-8232-8ad1e09fc93b\",\"type\":\"Square\"},{\"attributes\":{\"callback\":null,\"end\":1.418425683,\"start\":0.16284821700000002},\"id\":\"68a78f61-25a9-4f77-8b9b-951fa1d32c54\",\"type\":\"Range1d\"},{\"attributes\":{},\"id\":\"5f990e42-0b72-497c-8c2e-733ec79bcc34\",\"type\":\"LinearScale\"},{\"attributes\":{\"source\":{\"id\":\"08c66295-10e1-4cbe-8976-94a1c2e7a6ea\",\"type\":\"ColumnDataSource\"}},\"id\":\"91b32fd5-a311-436b-81c6-614cde543686\",\"type\":\"CDSView\"},{\"attributes\":{},\"id\":\"f7ca6eaf-cc26-471c-9629-bfe24bbc5778\",\"type\":\"LogScale\"},{\"attributes\":{\"line_alpha\":0.6,\"line_color\":\"#984ea3\",\"line_width\":3,\"x\":{\"field\":\"x\"},\"y\":{\"field\":\"y\"}},\"id\":\"fc42337f-38b8-4053-a762-4b986905af51\",\"type\":\"Line\"},{\"attributes\":{\"callback\":null,\"column_names\":[\"x\",\"y\"],\"data\":{\"x\":{\"__ndarray__\":\"NRNnoI2HDkBY0A9+PboOQFkL/V3pNg1ARvhy+tUHCkDgNq7akFoKQE1Ps5t09gVAQqIaQAndAkDIBKFh1gAAQC1X5HxWHvk/ZNes6TD18z/g1XJnJnjwP9bSkn1GGOs/d+r8obqV5j+fPTR/jqfhP60STRxQYdo/4MjyZO3l1j8hAFkE1lzWP9rMAJucb9Y/jprpPRnM1z9RPalhhfzZP/rkk9sXjNw/d74b4opR4D8lvX9efojjP4aNsn4zMeU/KXB4YlKT5D9FuE3h1tfiP2yM530tGeE/vRl3e/fk3T/05zY8GMzaP6aZD4Q7gtk/ygWhm4H61z+zqJn/oarVP2IuDAUqa9Q/7hTdQKJF0z8im1ieD2jRP1AWIemRjs4/d/wwpaLvyj8Mqz54aRrJP6KNbWP9MMc/39RRH5Jrxj9+0v1aZurRP8Hbi4HYJuY/iJtTyQDw8T8WkoJdA9H2PwK+NnbkI/Y/Fe5L7JCx8T9nlBVgq8btPwTvHn/tKeg/IW+gXRFe4z8dCyMg0xjgP4lTGCFdqNo/7NhK4L0A1D+haYmV0cjKP0O4uHzaF8A/IMDOv/DZsT+vprXgelGjP/Tc1brzFZc/s0WG4K4akD9rt5+EgBmHP6bxFSGYSoE/g6LJImU0ez8uVfOh7rh2Pzrlu19/dXQ/MMcL3ll4dD8iMJM/WAF3P2D0m93o0H4/C/D+9Ha2hT8pvKg2aEqLP7EPIoFV4Yo/g1U2ocl0hD/Ryb5iBzl6P2rZ5r/xgHA/RmrafBX9Zj9SiSp9mvNhP3Ce9AIPs6Y/\",\"dtype\":\"float64\",\"shape\":[75]},\"y\":{\"__ndarray__\":\"S/O/Q+51ND/430zAtpRIP2vylNV0PVE/QxsjCssuWD/TR4Z78fVgP+inNsRxymc/OuuBfZWvcD/u3TFA02d3P2d3VoBnaoA/CD5h5MAGhz/1pA8HUCaQP+zrCsc9p5Y/Fb7LAKjGnz/nJ9c/SEmmPwBD+fzcQq8/FOZwv9nstT8Er5Y7M8G+P0c+r3jqkcU/yK72qKZBzj+tM989FzjVPxbgmr8yxN0/cOm5AXbg5D+5ctXAf0jtP5kqGJXUifQ/DsrqDELP/D8MCAhBojQEQDItVnmnVwxAiFXNvdHgE0BSSZ2AJuIbQAMJih9jjiNA5q4l5INuK0CPVN/5RT0zQHzxRXu8/DpAOZ7PgHrtQkAg8wGBzoxKQBSTN8DMeFJA2NmQf2ZqWEAAAAAAAFxeQEQX1LfMJmJAmpmZmZkfZUBmZmZmZhhoQLzoK0gzEWtAAAAAAAAKbkCiC+pbZoFwQAhyUMLM/XFA+I2vPTN6c0AQ5KCEmfZ0QAAAAAAAc3ZA8Btfe2bvd0AIclDCzGt5QPeNrz0z6HpAEOSghJlkfEAAAAAAAOF9QKML6ltmXX9ABTkoYeZsgED7xteeGSuBQAhyUMJM6YFAAAAAAICngkD4ja89s2WDQAU5KGHmI4RA+8bXnhnihEAIclDCTKCFQAAAAACAXoZA+I2vPbMch0AFOShh5tqHQPvG154ZmYhACHJQwkxXiUAAAAAAgBWKQPeNrz2z04pABTkoYeaRi0D7xteeGVCMQAlyUMJMDo1AAAAAAIDMjUD3ja89s4qOQGZmZmbmSI9A\",\"dtype\":\"float64\",\"shape\":[75]}}},\"id\":\"c49ab7f7-4478-4c45-ae9d-44c07d623376\",\"type\":\"ColumnDataSource\"},{\"attributes\":{\"fill_alpha\":{\"value\":0.1},\"fill_color\":{\"value\":\"#1f77b4\"},\"line_alpha\":{\"value\":0.1},\"line_color\":{\"value\":\"#1f77b4\"},\"x\":{\"field\":\"x\"},\"y\":{\"field\":\"y\"}},\"id\":\"e45dca47-58c9-4866-bebc-030de844ef9d\",\"type\":\"Square\"},{\"attributes\":{\"data_source\":{\"id\":\"08c66295-10e1-4cbe-8976-94a1c2e7a6ea\",\"type\":\"ColumnDataSource\"},\"glyph\":{\"id\":\"ae3ab53c-284e-466d-8232-8ad1e09fc93b\",\"type\":\"Square\"},\"hover_glyph\":null,\"muted_glyph\":null,\"nonselection_glyph\":{\"id\":\"e45dca47-58c9-4866-bebc-030de844ef9d\",\"type\":\"Square\"},\"selection_glyph\":null,\"view\":{\"id\":\"91b32fd5-a311-436b-81c6-614cde543686\",\"type\":\"CDSView\"}},\"id\":\"3c5a0af7-3d8a-4b64-9031-1392fb75c147\",\"type\":\"GlyphRenderer\"},{\"attributes\":{},\"id\":\"63fde4b1-bea8-4fab-af7d-4a2f867dbb7d\",\"type\":\"SaveTool\"},{\"attributes\":{\"source\":{\"id\":\"09520945-ae44-44a1-bca2-a17ab1747584\",\"type\":\"ColumnDataSource\"}},\"id\":\"9c9cd15a-8352-4810-af8b-a9ee7a6681e5\",\"type\":\"CDSView\"},{\"attributes\":{\"items\":[{\"id\":\"29be6f99-ccae-4d2c-a6f7-52a7a421ea76\",\"type\":\"LegendItem\"},{\"id\":\"3b9c8e66-df5b-44f7-b1cc-418fa7b97a3f\",\"type\":\"LegendItem\"},{\"id\":\"6310aea1-7bd6-46a8-a012-2c241e13c665\",\"type\":\"LegendItem\"}],\"label_text_font_size\":{\"value\":\"8pt\"},\"location\":[10,-30],\"plot\":{\"id\":\"bc9aefc9-49a7-4f07-8093-b82cddb76ea4\",\"subtype\":\"Figure\",\"type\":\"Plot\"}},\"id\":\"bddef6af-aad9-4b66-a4a0-482c6d6eef76\",\"type\":\"Legend\"},{\"attributes\":{\"children\":[{\"id\":\"6038165d-7c95-441c-a6c7-d06c0c0db0b2\",\"subtype\":\"Figure\",\"type\":\"Plot\"},{\"id\":\"bc9aefc9-49a7-4f07-8093-b82cddb76ea4\",\"subtype\":\"Figure\",\"type\":\"Plot\"}]},\"id\":\"9709d33b-f65e-43b8-a401-14777fbd79ca\",\"type\":\"Row\"},{\"attributes\":{\"line_alpha\":0.1,\"line_color\":\"#1f77b4\",\"line_width\":3,\"x\":{\"field\":\"x\"},\"y\":{\"field\":\"y\"}},\"id\":\"c3713ab1-9a1e-4c1a-ab6c-5ac98a463a6e\",\"type\":\"Line\"},{\"attributes\":{\"data_source\":{\"id\":\"1b9b8693-365c-4469-abba-3ec96be29eed\",\"type\":\"ColumnDataSource\"},\"glyph\":{\"id\":\"265fae72-2b03-4858-b52a-d4835540fc82\",\"type\":\"Square\"},\"hover_glyph\":null,\"muted_glyph\":null,\"nonselection_glyph\":{\"id\":\"5be825a3-bc27-4058-af25-e19a3ce150e1\",\"type\":\"Square\"},\"selection_glyph\":null,\"view\":{\"id\":\"6e7ba70f-6bfe-412b-914d-d800751b43b0\",\"type\":\"CDSView\"}},\"id\":\"afe3654e-0669-40fe-936f-c3cf7f82ca2a\",\"type\":\"GlyphRenderer\"},{\"attributes\":{\"data_source\":{\"id\":\"09520945-ae44-44a1-bca2-a17ab1747584\",\"type\":\"ColumnDataSource\"},\"glyph\":{\"id\":\"fc42337f-38b8-4053-a762-4b986905af51\",\"type\":\"Line\"},\"hover_glyph\":null,\"muted_glyph\":null,\"nonselection_glyph\":{\"id\":\"c3713ab1-9a1e-4c1a-ab6c-5ac98a463a6e\",\"type\":\"Line\"},\"selection_glyph\":null,\"view\":{\"id\":\"9c9cd15a-8352-4810-af8b-a9ee7a6681e5\",\"type\":\"CDSView\"}},\"id\":\"2f05ece7-e263-4d25-b9ad-458f6cb38d7c\",\"type\":\"GlyphRenderer\"},{\"attributes\":{\"callback\":null,\"column_names\":[\"x\",\"y\"],\"data\":{\"x\":{\"__ndarray__\":\"Ms46PrUlGkCRxNz/ETcUQKzWeJ+ZJhJA2JyDZ0ITEEDBCCtf4Z4LQDkVBOoowgdAn7k999QgBEAGEhQ/xswAQLo1RHC3v/s/pxB+mHN/9j8/JZ03BB3yPySaoztGYew/iMzoid/b5T9V5+ZVfAfgP5F/RQI2tdc/Jbn0FqxE1j8MiYOdxf/XP1GttkniuNg/no98bx1t2T/fkKG+wMfaPzk+Qf+QQN0/wP/a6gfP4D84kKKMwHHjP+Cq498E0uM/qYHN1k1L4j8rNkEvN/PgPwrys5Hrpt8/EKiCesiO3T+oMs7XE7rbP8doHVVNENo/lB3R811A2D9t4iabWSjWP+fVSjK8Y9Q/02Ai99cf0z8Ozq//naHRP7BAT16/u88/qI40POZRzT9+bxW8zw7MP1SSEg7/4ck//5vup4ygyD/jySxKIh7TP5uyDbtzEec/MhP7usJR8j8BPcOKCQD2P4SKBRlc7vU/6Q69IH1u8T/9IhWE+u/rP8o444eMX+c//KQ90p564z8LvoKXjQzgPyKGBCkEtNk/tf518hLx0j+cLFol/eLKP5Sy2jZr9ME/8hwxfSawtz89Lo7wFHeuPwDAnYPowqM/RwJ/i13BmT/iKuSE6JSQP3CvIFsDTIY/cCas6Y+rfz99+dZjeO55P9xhNxYSvHY/s0Qzg3vUdT9MYRON/QJ4P0uCJVPURH8/7IotxdTkhT++YrJdRlaLP2bakflm7Io/+BygiEF4hD+ayaYKdTl6P2xLQRgvhnA/JXAI6fLsZj9UJ3EsoPZhP5/wMPJUtaY/\",\"dtype\":\"float64\",\"shape\":[75]},\"y\":{\"__ndarray__\":\"GhExyth1ND/Sv8nbtpRIP2vylNV0PVE/aTum7souWD/At0SJ8fVgPw3Iuahxymc/MSNhhJWvcD/bTfBN02d3P2zb5nxnaoA/CD5h5MAGhz8NmeH1TyaQP+zrCsc9p5Y/LbKd76fGnz/bLW5ISEmmPww9YvTcQq8/JV2OstnstT8Er5Y7M8G+P0c+r3jqkcU/5h99k6ZBzj88bCIzFzjVP4enV8oyxN0//yH99nXg5D8qOpLLf0jtP5kqGJXUifQ/c9cS8kHP/D+/DpwzojQEQIEmwoanVwxA4lgXt9HgE0BSSZ2AJuIbQAMJih9jjiNA5q4l5INuK0AwTKYKRj0zQNv5fmq8/DpAaCJseHrtQkB/+zpwzoxKQM3MzMzMeFJAZmZmZmZqWEAAAAAAAFxeQM3MzMzMJmJAmpmZmZkfZUBmZmZmZhhoQDMzMzMzEWtAAAAAAAAKbkBmZmZmZoFwQM3MzMzM/XFAMzMzMzN6c0CamZmZmfZ0QAAAAAAAc3ZAZmZmZmbvd0DNzMzMzGt5QDMzMzMz6HpAmpmZmZlkfEAAAAAAAOF9QGZmZmZmXX9AZmZmZuZsgECamZmZGSuBQM3MzMxM6YFAAAAAAICngkAzMzMzs2WDQGZmZmbmI4RAmpmZmRnihEDNzMzMTKCFQAAAAACAXoZAMzMzM7Mch0BmZmZm5tqHQJqZmZkZmYhAzczMzExXiUAAAAAAgBWKQDMzMzOz04pAZmZmZuaRi0CamZmZGVCMQM3MzMxMDo1AAAAAAIDMjUAzMzMzs4qOQGZmZmbmSI9A\",\"dtype\":\"float64\",\"shape\":[75]}}},\"id\":\"cdf4cf23-453a-4ddd-aa30-43478deff4f3\",\"type\":\"ColumnDataSource\"},{\"attributes\":{\"line_alpha\":0.1,\"line_color\":\"#1f77b4\",\"line_dash\":[6],\"line_width\":5,\"x\":{\"field\":\"x\"},\"y\":{\"field\":\"y\"}},\"id\":\"78ebdb27-a239-43ca-b67d-caeb362e18e4\",\"type\":\"Line\"},{\"attributes\":{\"children\":[{\"id\":\"43c11ec8-10ef-488e-8fb8-061466fe3261\",\"type\":\"ToolbarBox\"},{\"id\":\"a643ba01-866a-4384-bbf2-9978b7f1300b\",\"type\":\"Column\"}]},\"id\":\"a98c4c36-7933-47db-b0d9-ba75ed2a3518\",\"type\":\"Column\"},{\"attributes\":{\"axis_label\":\"pressure [mb]\",\"formatter\":{\"id\":\"eff971ed-054f-4907-9544-d7499fac1119\",\"type\":\"LogTickFormatter\"},\"plot\":{\"id\":\"bc9aefc9-49a7-4f07-8093-b82cddb76ea4\",\"subtype\":\"Figure\",\"type\":\"Plot\"},\"ticker\":{\"id\":\"2db2d2ff-b0f7-4784-8c75-4750f121270b\",\"type\":\"LogTicker\"}},\"id\":\"fca88f64-0991-409a-af78-c6d1440c27a4\",\"type\":\"LogAxis\"},{\"attributes\":{\"source\":{\"id\":\"c49ab7f7-4478-4c45-ae9d-44c07d623376\",\"type\":\"ColumnDataSource\"}},\"id\":\"9df03136-1326-420d-941a-ee9faf872d87\",\"type\":\"CDSView\"},{\"attributes\":{\"toolbar\":{\"id\":\"813e7091-683e-4dda-92ad-6f9e154d6b6c\",\"type\":\"ProxyToolbar\"},\"toolbar_location\":\"above\"},\"id\":\"43c11ec8-10ef-488e-8fb8-061466fe3261\",\"type\":\"ToolbarBox\"},{\"attributes\":{\"children\":[{\"id\":\"9709d33b-f65e-43b8-a401-14777fbd79ca\",\"type\":\"Row\"}]},\"id\":\"a643ba01-866a-4384-bbf2-9978b7f1300b\",\"type\":\"Column\"},{\"attributes\":{\"tools\":[{\"id\":\"f85d6497-161c-4f38-98e5-985504151d9a\",\"type\":\"PanTool\"},{\"id\":\"4963a6cd-7daf-4ae3-9497-f171e6e573ba\",\"type\":\"WheelZoomTool\"},{\"id\":\"58f9818e-7cd0-4eb4-ac7c-0a3ee849f1de\",\"type\":\"BoxZoomTool\"},{\"id\":\"8fdcc57e-0810-447c-9351-b8aa3c11c765\",\"type\":\"SaveTool\"},{\"id\":\"0d887879-b27b-4418-a8c2-d21ca21c4a80\",\"type\":\"ResetTool\"},{\"id\":\"29f11153-da25-43a4-8796-ede053163db7\",\"type\":\"HelpTool\"},{\"id\":\"7a5dac06-43e3-4352-8883-eb59c62e9dab\",\"type\":\"PanTool\"},{\"id\":\"699cc268-87ab-4ecf-b660-f312243707f5\",\"type\":\"WheelZoomTool\"},{\"id\":\"18ba1474-354d-4011-85a1-6f436a475138\",\"type\":\"BoxZoomTool\"},{\"id\":\"63fde4b1-bea8-4fab-af7d-4a2f867dbb7d\",\"type\":\"SaveTool\"},{\"id\":\"7f9a44fd-7116-483a-ad3d-e56bc030387a\",\"type\":\"ResetTool\"},{\"id\":\"d1520a48-3928-49a0-a656-542f41434028\",\"type\":\"HelpTool\"}]},\"id\":\"813e7091-683e-4dda-92ad-6f9e154d6b6c\",\"type\":\"ProxyToolbar\"},{\"attributes\":{\"callback\":null,\"column_names\":[\"x\",\"y\"],\"data\":{\"x\":{\"__ndarray__\":\"15a7W73PEUCEmstqaH4PQAM1tppFsA1AUCSfRKFyC0CGyc/IrfsIQKgcEuNqHQZABpnHcGUMA0AKc6XUutj/P6qLi1NA8/o/IwODedWv9D+X0N67xbzwP7Y2oInQTOs/0+rG++Im5j/yPKdkdirhP+7vsdTR/dk/1eQ+I41x2D9pWIxViHnXP6RiXOBn7Nc/gzCl4Rwd2T+4jKLxUXTbP+gULoAEO98/Ac6DQ2r24T/1KAInj2flP6WxZDKSzOY/0i9BUH/a5T/SwxT9+c3jPxcWv85X4uE/Wn/zPfAW4D9gEcxSPqncPwSh0gb0Cts/9bfUponV2T9eO0cIvhnXP7g++0fbrdU/qozPXrWM1D9SufGRFm7SP4hw7T1hNdA/k9swUVB4zT93kdGTMPjKP7XuC+Gbocg/+OtVCwtKxz+UYHpDmoTSP98P3OuB6eY/pfffEVYh8j+tLvaj5dL2PzCPH4uAl/U/EIIFKq5N8T/nd/W/e0vtP4i+owtKueY/vgFoEoGI4j9CvLLU1TfeP7Fg2Zd0uto/rI6eXY6S0T+uC9VaCKzIP0cDIAo1QsA/jFBzEt3Csz/CCl0EakynPxDV8zhadJ8/3Rti7nDRjj9YuO3qMC6HP/6OTi74t4E/DgPu+Wjpez+NoG6KrLZ3Py7eNZ96JXU/jM9KrAP+dD8C2Srvwnh3P6K9eisKyX4/3z9ld7K/hT+Tu35xqUOLP5KJGhtF44o/bdXfXQ11hD9u9h/UHDh6P8wHaYCwhXA/geF5cU/sZj+wRSdv/fVhP4yTadBOtaY/\",\"dtype\":\"float64\",\"shape\":[75]},\"y\":{\"__ndarray__\":\"GhExyth1ND/Sv8nbtpRIP2vylNV0PVE/aTum7souWD/At0SJ8fVgPw3Iuahxymc/MSNhhJWvcD/bTfBN02d3P2zb5nxnaoA/CD5h5MAGhz8NmeH1TyaQP+zrCsc9p5Y/LbKd76fGnz/bLW5ISEmmPww9YvTcQq8/JV2OstnstT8Er5Y7M8G+P0c+r3jqkcU/5h99k6ZBzj88bCIzFzjVP4enV8oyxN0//yH99nXg5D8qOpLLf0jtP5kqGJXUifQ/c9cS8kHP/D+/DpwzojQEQIEmwoanVwxA4lgXt9HgE0BSSZ2AJuIbQAMJih9jjiNA5q4l5INuK0AwTKYKRj0zQNv5fmq8/DpAaCJseHrtQkB/+zpwzoxKQM3MzMzMeFJAZmZmZmZqWEAAAAAAAFxeQM3MzMzMJmJAmpmZmZkfZUBmZmZmZhhoQDMzMzMzEWtAAAAAAAAKbkBmZmZmZoFwQM3MzMzM/XFAMzMzMzN6c0CamZmZmfZ0QAAAAAAAc3ZAZmZmZmbvd0DNzMzMzGt5QDMzMzMz6HpAmpmZmZlkfEAAAAAAAOF9QGZmZmZmXX9AZmZmZuZsgECamZmZGSuBQM3MzMxM6YFAAAAAAICngkAzMzMzs2WDQGZmZmbmI4RAmpmZmRnihEDNzMzMTKCFQAAAAACAXoZAMzMzM7Mch0BmZmZm5tqHQJqZmZkZmYhAzczMzExXiUAAAAAAgBWKQDMzMzOz04pAZmZmZuaRi0CamZmZGVCMQM3MzMxMDo1AAAAAAIDMjUAzMzMzs4qOQGZmZmbmSI9A\",\"dtype\":\"float64\",\"shape\":[75]}}},\"id\":\"1b9b8693-365c-4469-abba-3ec96be29eed\",\"type\":\"ColumnDataSource\"},{\"attributes\":{\"label\":{\"value\":\"CLIRAD `coolr_bands`\"},\"renderers\":[{\"id\":\"d7cf3bdc-2845-41e3-9536-e37c1336bc52\",\"type\":\"GlyphRenderer\"}]},\"id\":\"29be6f99-ccae-4d2c-a6f7-52a7a421ea76\",\"type\":\"LegendItem\"},{\"attributes\":{\"label\":{\"value\":\"CRD\"},\"renderers\":[{\"id\":\"934b1b5f-e17d-4561-a603-3c640fd1a4f0\",\"type\":\"GlyphRenderer\"},{\"id\":\"0f0e5362-6a33-4e8c-8d1d-14966a3f8428\",\"type\":\"GlyphRenderer\"}]},\"id\":\"3b9c8e66-df5b-44f7-b1cc-418fa7b97a3f\",\"type\":\"LegendItem\"},{\"attributes\":{},\"id\":\"dc492b32-1e3a-4cd8-8a5d-1080f3773396\",\"type\":\"BasicTickFormatter\"},{\"attributes\":{\"data_source\":{\"id\":\"c49ab7f7-4478-4c45-ae9d-44c07d623376\",\"type\":\"ColumnDataSource\"},\"glyph\":{\"id\":\"884ed453-d763-45ac-a358-3edfdbfa290b\",\"type\":\"Line\"},\"hover_glyph\":null,\"muted_glyph\":null,\"nonselection_glyph\":{\"id\":\"78ebdb27-a239-43ca-b67d-caeb362e18e4\",\"type\":\"Line\"},\"selection_glyph\":null,\"view\":{\"id\":\"9df03136-1326-420d-941a-ee9faf872d87\",\"type\":\"CDSView\"}},\"id\":\"d7cf3bdc-2845-41e3-9536-e37c1336bc52\",\"type\":\"GlyphRenderer\"},{\"attributes\":{\"source\":{\"id\":\"1b9b8693-365c-4469-abba-3ec96be29eed\",\"type\":\"ColumnDataSource\"}},\"id\":\"6e7ba70f-6bfe-412b-914d-d800751b43b0\",\"type\":\"CDSView\"},{\"attributes\":{\"bottom_units\":\"screen\",\"fill_alpha\":{\"value\":0.5},\"fill_color\":{\"value\":\"lightgrey\"},\"left_units\":\"screen\",\"level\":\"overlay\",\"line_alpha\":{\"value\":1.0},\"line_color\":{\"value\":\"black\"},\"line_dash\":[4,4],\"line_width\":{\"value\":2},\"plot\":null,\"render_mode\":\"css\",\"right_units\":\"screen\",\"top_units\":\"screen\"},\"id\":\"97e62011-c59f-4dfb-a86e-e58ef34a2456\",\"type\":\"BoxAnnotation\"},{\"attributes\":{},\"id\":\"bb20a115-1e0b-4a6a-906f-4279bc82ee63\",\"type\":\"BasicTicker\"},{\"attributes\":{},\"id\":\"699cc268-87ab-4ecf-b660-f312243707f5\",\"type\":\"WheelZoomTool\"},{\"attributes\":{\"ticker\":null},\"id\":\"eff971ed-054f-4907-9544-d7499fac1119\",\"type\":\"LogTickFormatter\"},{\"attributes\":{\"plot\":{\"id\":\"bc9aefc9-49a7-4f07-8093-b82cddb76ea4\",\"subtype\":\"Figure\",\"type\":\"Plot\"},\"ticker\":{\"id\":\"bb20a115-1e0b-4a6a-906f-4279bc82ee63\",\"type\":\"BasicTicker\"}},\"id\":\"1f7950c0-cfc8-44cc-95e8-031e9ca7e36c\",\"type\":\"Grid\"},{\"attributes\":{\"axis_label\":\"cooling rate [K/day]\",\"formatter\":{\"id\":\"5be9347b-1779-49fb-8fbd-20643d26b738\",\"type\":\"BasicTickFormatter\"},\"plot\":{\"id\":\"bc9aefc9-49a7-4f07-8093-b82cddb76ea4\",\"subtype\":\"Figure\",\"type\":\"Plot\"},\"ticker\":{\"id\":\"bb20a115-1e0b-4a6a-906f-4279bc82ee63\",\"type\":\"BasicTicker\"}},\"id\":\"6c4202f5-8fef-49ae-80e6-375dc8c01d6e\",\"type\":\"LinearAxis\"},{\"attributes\":{\"dimension\":1,\"plot\":{\"id\":\"bc9aefc9-49a7-4f07-8093-b82cddb76ea4\",\"subtype\":\"Figure\",\"type\":\"Plot\"},\"ticker\":{\"id\":\"2db2d2ff-b0f7-4784-8c75-4750f121270b\",\"type\":\"LogTicker\"}},\"id\":\"94146ccc-dc25-4f56-b909-3060fc45a872\",\"type\":\"Grid\"},{\"attributes\":{},\"id\":\"d1520a48-3928-49a0-a656-542f41434028\",\"type\":\"HelpTool\"},{\"attributes\":{\"callback\":null,\"column_names\":[\"x\",\"y\"],\"data\":{\"x\":{\"__ndarray__\":\"Ms46PrUlGkCRxNz/ETcUQKzWeJ+ZJhJA2JyDZ0ITEEDBCCtf4Z4LQDkVBOoowgdAn7k999QgBEAGEhQ/xswAQLo1RHC3v/s/pxB+mHN/9j8/JZ03BB3yPySaoztGYew/iMzoid/b5T9V5+ZVfAfgP5F/RQI2tdc/Jbn0FqxE1j8MiYOdxf/XP1GttkniuNg/no98bx1t2T/fkKG+wMfaPzk+Qf+QQN0/wP/a6gfP4D84kKKMwHHjP+Cq498E0uM/qYHN1k1L4j8rNkEvN/PgPwrys5Hrpt8/EKiCesiO3T+oMs7XE7rbP8doHVVNENo/lB3R811A2D9t4iabWSjWP+fVSjK8Y9Q/02Ai99cf0z8Ozq//naHRP7BAT16/u88/qI40POZRzT9+bxW8zw7MP1SSEg7/4ck//5vup4ygyD/jySxKIh7TP5uyDbtzEec/MhP7usJR8j8BPcOKCQD2P4SKBRlc7vU/6Q69IH1u8T/9IhWE+u/rP8o444eMX+c//KQ90p564z8LvoKXjQzgPyKGBCkEtNk/tf518hLx0j+cLFol/eLKP5Sy2jZr9ME/8hwxfSawtz89Lo7wFHeuPwDAnYPowqM/RwJ/i13BmT/iKuSE6JSQP3CvIFsDTIY/cCas6Y+rfz99+dZjeO55P9xhNxYSvHY/s0Qzg3vUdT9MYRON/QJ4P0uCJVPURH8/7IotxdTkhT++YrJdRlaLP2bakflm7Io/+BygiEF4hD+ayaYKdTl6P2xLQRgvhnA/JXAI6fLsZj9UJ3EsoPZhP5/wMPJUtaY/\",\"dtype\":\"float64\",\"shape\":[75]},\"y\":{\"__ndarray__\":\"GhExyth1ND/Sv8nbtpRIP2vylNV0PVE/aTum7souWD/At0SJ8fVgPw3Iuahxymc/MSNhhJWvcD/bTfBN02d3P2zb5nxnaoA/CD5h5MAGhz8NmeH1TyaQP+zrCsc9p5Y/LbKd76fGnz/bLW5ISEmmPww9YvTcQq8/JV2OstnstT8Er5Y7M8G+P0c+r3jqkcU/5h99k6ZBzj88bCIzFzjVP4enV8oyxN0//yH99nXg5D8qOpLLf0jtP5kqGJXUifQ/c9cS8kHP/D+/DpwzojQEQIEmwoanVwxA4lgXt9HgE0BSSZ2AJuIbQAMJih9jjiNA5q4l5INuK0AwTKYKRj0zQNv5fmq8/DpAaCJseHrtQkB/+zpwzoxKQM3MzMzMeFJAZmZmZmZqWEAAAAAAAFxeQM3MzMzMJmJAmpmZmZkfZUBmZmZmZhhoQDMzMzMzEWtAAAAAAAAKbkBmZmZmZoFwQM3MzMzM/XFAMzMzMzN6c0CamZmZmfZ0QAAAAAAAc3ZAZmZmZmbvd0DNzMzMzGt5QDMzMzMz6HpAmpmZmZlkfEAAAAAAAOF9QGZmZmZmXX9AZmZmZuZsgECamZmZGSuBQM3MzMxM6YFAAAAAAICngkAzMzMzs2WDQGZmZmbmI4RAmpmZmRnihEDNzMzMTKCFQAAAAACAXoZAMzMzM7Mch0BmZmZm5tqHQJqZmZkZmYhAzczMzExXiUAAAAAAgBWKQDMzMzOz04pAZmZmZuaRi0CamZmZGVCMQM3MzMxMDo1AAAAAAIDMjUAzMzMzs4qOQGZmZmbmSI9A\",\"dtype\":\"float64\",\"shape\":[75]}}},\"id\":\"bc65d897-c731-47d4-bcaa-d1e243d58d89\",\"type\":\"ColumnDataSource\"},{\"attributes\":{\"callback\":null,\"end\":0.01,\"start\":1020},\"id\":\"e2cd3cd0-c198-4bd8-971a-16b8180a0e5b\",\"type\":\"Range1d\"},{\"attributes\":{\"source\":{\"id\":\"42ece678-27bb-404e-8365-bfa0176dc1f3\",\"type\":\"ColumnDataSource\"}},\"id\":\"28539a1f-5cba-4a6f-b7f4-33f7a619f599\",\"type\":\"CDSView\"},{\"attributes\":{\"data_source\":{\"id\":\"bc65d897-c731-47d4-bcaa-d1e243d58d89\",\"type\":\"ColumnDataSource\"},\"glyph\":{\"id\":\"ce127912-3ac2-4c40-aecd-587f07537b45\",\"type\":\"Line\"},\"hover_glyph\":null,\"muted_glyph\":null,\"nonselection_glyph\":{\"id\":\"a3deb6c0-c460-4631-bc6d-bda0146fd043\",\"type\":\"Line\"},\"selection_glyph\":null,\"view\":{\"id\":\"73d84813-80e1-4cef-b4ef-5f6d9ada0fef\",\"type\":\"CDSView\"}},\"id\":\"5eccb619-458d-4f59-8df8-d7ece519a7e7\",\"type\":\"GlyphRenderer\"},{\"attributes\":{\"line_alpha\":0.1,\"line_color\":\"#1f77b4\",\"line_width\":1.5,\"x\":{\"field\":\"x\"},\"y\":{\"field\":\"y\"}},\"id\":\"a3deb6c0-c460-4631-bc6d-bda0146fd043\",\"type\":\"Line\"},{\"attributes\":{},\"id\":\"925508c3-b7bd-4884-9fa9-521b8f310189\",\"type\":\"LinearScale\"},{\"attributes\":{\"fill_alpha\":{\"value\":0.7},\"fill_color\":{\"value\":\"#4daf4a\"},\"line_alpha\":{\"value\":0.7},\"line_color\":{\"value\":\"#4daf4a\"},\"x\":{\"field\":\"x\"},\"y\":{\"field\":\"y\"}},\"id\":\"85c0cef0-83b4-433c-b3d3-1fcc8edde145\",\"type\":\"Circle\"},{\"attributes\":{},\"id\":\"f85d6497-161c-4f38-98e5-985504151d9a\",\"type\":\"PanTool\"},{\"attributes\":{},\"id\":\"188bde73-3cde-4fee-9066-875cc62235a7\",\"type\":\"BasicTicker\"},{\"attributes\":{\"callback\":null,\"column_names\":[\"x\",\"y\"],\"data\":{\"x\":{\"__ndarray__\":\"NRNnoI2HDkBY0A9+PboOQFkL/V3pNg1ARvhy+tUHCkDgNq7akFoKQE1Ps5t09gVAQqIaQAndAkDIBKFh1gAAQC1X5HxWHvk/ZNes6TD18z/g1XJnJnjwP9bSkn1GGOs/d+r8obqV5j+fPTR/jqfhP60STRxQYdo/4MjyZO3l1j8hAFkE1lzWP9rMAJucb9Y/jprpPRnM1z9RPalhhfzZP/rkk9sXjNw/d74b4opR4D8lvX9efojjP4aNsn4zMeU/KXB4YlKT5D9FuE3h1tfiP2yM530tGeE/vRl3e/fk3T/05zY8GMzaP6aZD4Q7gtk/ygWhm4H61z+zqJn/oarVP2IuDAUqa9Q/7hTdQKJF0z8im1ieD2jRP1AWIemRjs4/d/wwpaLvyj8Mqz54aRrJP6KNbWP9MMc/39RRH5Jrxj9+0v1aZurRP8Hbi4HYJuY/iJtTyQDw8T8WkoJdA9H2PwK+NnbkI/Y/Fe5L7JCx8T9nlBVgq8btPwTvHn/tKeg/IW+gXRFe4z8dCyMg0xjgP4lTGCFdqNo/7NhK4L0A1D+haYmV0cjKP0O4uHzaF8A/IMDOv/DZsT+vprXgelGjP/Tc1brzFZc/s0WG4K4akD9rt5+EgBmHP6bxFSGYSoE/g6LJImU0ez8uVfOh7rh2Pzrlu19/dXQ/MMcL3ll4dD8iMJM/WAF3P2D0m93o0H4/C/D+9Ha2hT8pvKg2aEqLP7EPIoFV4Yo/g1U2ocl0hD/Ryb5iBzl6P2rZ5r/xgHA/RmrafBX9Zj9SiSp9mvNhP3Ce9AIPs6Y/\",\"dtype\":\"float64\",\"shape\":[75]},\"y\":{\"__ndarray__\":\"S/O/Q+51ND/430zAtpRIP2vylNV0PVE/QxsjCssuWD/TR4Z78fVgP+inNsRxymc/OuuBfZWvcD/u3TFA02d3P2d3VoBnaoA/CD5h5MAGhz/1pA8HUCaQP+zrCsc9p5Y/Fb7LAKjGnz/nJ9c/SEmmPwBD+fzcQq8/FOZwv9nstT8Er5Y7M8G+P0c+r3jqkcU/yK72qKZBzj+tM989FzjVPxbgmr8yxN0/cOm5AXbg5D+5ctXAf0jtP5kqGJXUifQ/DsrqDELP/D8MCAhBojQEQDItVnmnVwxAiFXNvdHgE0BSSZ2AJuIbQAMJih9jjiNA5q4l5INuK0CPVN/5RT0zQHzxRXu8/DpAOZ7PgHrtQkAg8wGBzoxKQBSTN8DMeFJA2NmQf2ZqWEAAAAAAAFxeQEQX1LfMJmJAmpmZmZkfZUBmZmZmZhhoQLzoK0gzEWtAAAAAAAAKbkCiC+pbZoFwQAhyUMLM/XFA+I2vPTN6c0AQ5KCEmfZ0QAAAAAAAc3ZA8Btfe2bvd0AIclDCzGt5QPeNrz0z6HpAEOSghJlkfEAAAAAAAOF9QKML6ltmXX9ABTkoYeZsgED7xteeGSuBQAhyUMJM6YFAAAAAAICngkD4ja89s2WDQAU5KGHmI4RA+8bXnhnihEAIclDCTKCFQAAAAACAXoZA+I2vPbMch0AFOShh5tqHQPvG154ZmYhACHJQwkxXiUAAAAAAgBWKQPeNrz2z04pABTkoYeaRi0D7xteeGVCMQAlyUMJMDo1AAAAAAIDMjUD3ja89s4qOQGZmZmbmSI9A\",\"dtype\":\"float64\",\"shape\":[75]}}},\"id\":\"42ece678-27bb-404e-8365-bfa0176dc1f3\",\"type\":\"ColumnDataSource\"},{\"attributes\":{\"axis_label\":\"cooling rate [K/day]\",\"formatter\":{\"id\":\"dc492b32-1e3a-4cd8-8a5d-1080f3773396\",\"type\":\"BasicTickFormatter\"},\"plot\":{\"id\":\"6038165d-7c95-441c-a6c7-d06c0c0db0b2\",\"subtype\":\"Figure\",\"type\":\"Plot\"},\"ticker\":{\"id\":\"188bde73-3cde-4fee-9066-875cc62235a7\",\"type\":\"BasicTicker\"}},\"id\":\"3b9201d4-a5e9-43b8-8c4f-63f49f47242c\",\"type\":\"LinearAxis\"},{\"attributes\":{\"axis_label\":\"pressure [mb]\",\"formatter\":{\"id\":\"153872a0-b110-40b1-981b-c75228c818d0\",\"type\":\"BasicTickFormatter\"},\"plot\":{\"id\":\"6038165d-7c95-441c-a6c7-d06c0c0db0b2\",\"subtype\":\"Figure\",\"type\":\"Plot\"},\"ticker\":{\"id\":\"6e4cbdde-2796-4118-9447-16b3cda1f6a0\",\"type\":\"BasicTicker\"}},\"id\":\"1e78df71-c476-4770-b2e0-c58c3cb80eaf\",\"type\":\"LinearAxis\"},{\"attributes\":{\"callback\":null,\"end\":0.01,\"start\":1020},\"id\":\"2a3984c3-40e4-4519-99c0-fcd0c3e762b0\",\"type\":\"Range1d\"},{\"attributes\":{\"plot\":{\"id\":\"6038165d-7c95-441c-a6c7-d06c0c0db0b2\",\"subtype\":\"Figure\",\"type\":\"Plot\"},\"ticker\":{\"id\":\"188bde73-3cde-4fee-9066-875cc62235a7\",\"type\":\"BasicTicker\"}},\"id\":\"46840e1e-8ace-4fe1-b654-10575cf7eeff\",\"type\":\"Grid\"},{\"attributes\":{},\"id\":\"475e395d-0226-4f93-b16f-deffe5e47af2\",\"type\":\"LinearScale\"},{\"attributes\":{\"active_drag\":\"auto\",\"active_inspect\":\"auto\",\"active_scroll\":\"auto\",\"active_tap\":\"auto\",\"tools\":[{\"id\":\"f85d6497-161c-4f38-98e5-985504151d9a\",\"type\":\"PanTool\"},{\"id\":\"4963a6cd-7daf-4ae3-9497-f171e6e573ba\",\"type\":\"WheelZoomTool\"},{\"id\":\"58f9818e-7cd0-4eb4-ac7c-0a3ee849f1de\",\"type\":\"BoxZoomTool\"},{\"id\":\"8fdcc57e-0810-447c-9351-b8aa3c11c765\",\"type\":\"SaveTool\"},{\"id\":\"0d887879-b27b-4418-a8c2-d21ca21c4a80\",\"type\":\"ResetTool\"},{\"id\":\"29f11153-da25-43a4-8796-ede053163db7\",\"type\":\"HelpTool\"}]},\"id\":\"d3f04a5e-c904-4a78-8692-5da0b92b5f23\",\"type\":\"Toolbar\"},{\"attributes\":{\"source\":{\"id\":\"bc65d897-c731-47d4-bcaa-d1e243d58d89\",\"type\":\"ColumnDataSource\"}},\"id\":\"73d84813-80e1-4cef-b4ef-5f6d9ada0fef\",\"type\":\"CDSView\"},{\"attributes\":{},\"id\":\"6e4cbdde-2796-4118-9447-16b3cda1f6a0\",\"type\":\"BasicTicker\"},{\"attributes\":{\"below\":[{\"id\":\"3b9201d4-a5e9-43b8-8c4f-63f49f47242c\",\"type\":\"LinearAxis\"}],\"left\":[{\"id\":\"1e78df71-c476-4770-b2e0-c58c3cb80eaf\",\"type\":\"LinearAxis\"}],\"plot_height\":500,\"plot_width\":400,\"renderers\":[{\"id\":\"3b9201d4-a5e9-43b8-8c4f-63f49f47242c\",\"type\":\"LinearAxis\"},{\"id\":\"46840e1e-8ace-4fe1-b654-10575cf7eeff\",\"type\":\"Grid\"},{\"id\":\"1e78df71-c476-4770-b2e0-c58c3cb80eaf\",\"type\":\"LinearAxis\"},{\"id\":\"22bcc0a0-ad04-4ee2-a2b4-2e8d7fb8367a\",\"type\":\"Grid\"},{\"id\":\"e5e07e29-3a95-470b-8bbb-cad6b2c6ab30\",\"type\":\"BoxAnnotation\"},{\"id\":\"33266f6f-d415-41a6-9e46-00e8390aec08\",\"type\":\"GlyphRenderer\"},{\"id\":\"4280b221-01e8-4e99-b451-eb5c6893982c\",\"type\":\"GlyphRenderer\"},{\"id\":\"5eccb619-458d-4f59-8df8-d7ece519a7e7\",\"type\":\"GlyphRenderer\"},{\"id\":\"afe3654e-0669-40fe-936f-c3cf7f82ca2a\",\"type\":\"GlyphRenderer\"},{\"id\":\"66af4248-43a8-4069-b12a-a8875a79de7f\",\"type\":\"GlyphRenderer\"}],\"title\":{\"id\":\"ae75682a-2aee-4b5c-be04-2d959a1879e8\",\"type\":\"Title\"},\"toolbar\":{\"id\":\"d3f04a5e-c904-4a78-8692-5da0b92b5f23\",\"type\":\"Toolbar\"},\"toolbar_location\":null,\"x_range\":{\"id\":\"b9f0a93d-6ee2-4fa8-94dd-8e2ac7aeba6d\",\"type\":\"Range1d\"},\"x_scale\":{\"id\":\"925508c3-b7bd-4884-9fa9-521b8f310189\",\"type\":\"LinearScale\"},\"y_range\":{\"id\":\"e2cd3cd0-c198-4bd8-971a-16b8180a0e5b\",\"type\":\"Range1d\"},\"y_scale\":{\"id\":\"475e395d-0226-4f93-b16f-deffe5e47af2\",\"type\":\"LinearScale\"}},\"id\":\"6038165d-7c95-441c-a6c7-d06c0c0db0b2\",\"subtype\":\"Figure\",\"type\":\"Plot\"},{\"attributes\":{\"source\":{\"id\":\"cdf4cf23-453a-4ddd-aa30-43478deff4f3\",\"type\":\"ColumnDataSource\"}},\"id\":\"26a531d1-92ae-423e-8b12-fa299fc83e5c\",\"type\":\"CDSView\"},{\"attributes\":{\"data_source\":{\"id\":\"cdf4cf23-453a-4ddd-aa30-43478deff4f3\",\"type\":\"ColumnDataSource\"},\"glyph\":{\"id\":\"85c0cef0-83b4-433c-b3d3-1fcc8edde145\",\"type\":\"Circle\"},\"hover_glyph\":null,\"muted_glyph\":null,\"nonselection_glyph\":{\"id\":\"6ab09f53-d007-4bb2-96d5-f49cf8b3c88d\",\"type\":\"Circle\"},\"selection_glyph\":null,\"view\":{\"id\":\"26a531d1-92ae-423e-8b12-fa299fc83e5c\",\"type\":\"CDSView\"}},\"id\":\"4280b221-01e8-4e99-b451-eb5c6893982c\",\"type\":\"GlyphRenderer\"},{\"attributes\":{\"line_alpha\":0.6,\"line_color\":\"#e41a1c\",\"line_dash\":[6],\"line_width\":5,\"x\":{\"field\":\"x\"},\"y\":{\"field\":\"y\"}},\"id\":\"884ed453-d763-45ac-a358-3edfdbfa290b\",\"type\":\"Line\"},{\"attributes\":{},\"id\":\"8fdcc57e-0810-447c-9351-b8aa3c11c765\",\"type\":\"SaveTool\"},{\"attributes\":{\"plot\":null,\"text\":\"Linear pressure scale\"},\"id\":\"ae75682a-2aee-4b5c-be04-2d959a1879e8\",\"type\":\"Title\"},{\"attributes\":{},\"id\":\"0d887879-b27b-4418-a8c2-d21ca21c4a80\",\"type\":\"ResetTool\"},{\"attributes\":{\"overlay\":{\"id\":\"e5e07e29-3a95-470b-8bbb-cad6b2c6ab30\",\"type\":\"BoxAnnotation\"}},\"id\":\"58f9818e-7cd0-4eb4-ac7c-0a3ee849f1de\",\"type\":\"BoxZoomTool\"},{\"attributes\":{\"bottom_units\":\"screen\",\"fill_alpha\":{\"value\":0.5},\"fill_color\":{\"value\":\"lightgrey\"},\"left_units\":\"screen\",\"level\":\"overlay\",\"line_alpha\":{\"value\":1.0},\"line_color\":{\"value\":\"black\"},\"line_dash\":[4,4],\"line_width\":{\"value\":2},\"plot\":null,\"render_mode\":\"css\",\"right_units\":\"screen\",\"top_units\":\"screen\"},\"id\":\"e5e07e29-3a95-470b-8bbb-cad6b2c6ab30\",\"type\":\"BoxAnnotation\"},{\"attributes\":{\"line_alpha\":0.6,\"line_color\":\"#e41a1c\",\"line_dash\":[6],\"line_width\":5,\"x\":{\"field\":\"x\"},\"y\":{\"field\":\"y\"}},\"id\":\"4154cb03-85a7-45e8-8563-106133343abf\",\"type\":\"Line\"},{\"attributes\":{},\"id\":\"4963a6cd-7daf-4ae3-9497-f171e6e573ba\",\"type\":\"WheelZoomTool\"},{\"attributes\":{\"dimension\":1,\"plot\":{\"id\":\"6038165d-7c95-441c-a6c7-d06c0c0db0b2\",\"subtype\":\"Figure\",\"type\":\"Plot\"},\"ticker\":{\"id\":\"6e4cbdde-2796-4118-9447-16b3cda1f6a0\",\"type\":\"BasicTicker\"}},\"id\":\"22bcc0a0-ad04-4ee2-a2b4-2e8d7fb8367a\",\"type\":\"Grid\"},{\"attributes\":{},\"id\":\"29f11153-da25-43a4-8796-ede053163db7\",\"type\":\"HelpTool\"},{\"attributes\":{},\"id\":\"153872a0-b110-40b1-981b-c75228c818d0\",\"type\":\"BasicTickFormatter\"},{\"attributes\":{\"line_color\":\"#4daf4a\",\"line_width\":1.5,\"x\":{\"field\":\"x\"},\"y\":{\"field\":\"y\"}},\"id\":\"ce127912-3ac2-4c40-aecd-587f07537b45\",\"type\":\"Line\"}],\"root_ids\":[\"a98c4c36-7933-47db-b0d9-ba75ed2a3518\"]},\"title\":\"Bokeh Application\",\"version\":\"0.12.14\"}};\n",
       "  var render_items = [{\"docid\":\"04f7ae2d-a129-4869-b0bb-5c2b8a6bd11d\",\"elementid\":\"c3b9001b-08bb-42d4-b3d3-86907e3c5d0a\",\"modelid\":\"a98c4c36-7933-47db-b0d9-ba75ed2a3518\"}];\n",
       "  root.Bokeh.embed.embed_items_notebook(docs_json, render_items);\n",
       "\n",
       "  }\n",
       "  if (root.Bokeh !== undefined) {\n",
       "    embed_document(root);\n",
       "  } else {\n",
       "    var attempts = 0;\n",
       "    var timer = setInterval(function(root) {\n",
       "      if (root.Bokeh !== undefined) {\n",
       "        embed_document(root);\n",
       "        clearInterval(timer);\n",
       "      }\n",
       "      attempts++;\n",
       "      if (attempts > 100) {\n",
       "        console.log(\"Bokeh: ERROR: Unable to run BokehJS code because BokehJS library is missing\")\n",
       "        clearInterval(timer);\n",
       "      }\n",
       "    }, 10, root)\n",
       "  }\n",
       "})(window);"
      ],
      "application/vnd.bokehjs_exec.v0+json": ""
     },
     "metadata": {
      "application/vnd.bokehjs_exec.v0+json": {
       "id": "a98c4c36-7933-47db-b0d9-ba75ed2a3518"
      }
     },
     "output_type": "display_data"
    },
    {
     "name": "stdout",
     "output_type": "stream",
     "text": [
      "FIGURE. Cooling rate profiles.\n"
     ]
    },
    {
     "data": {
      "text/html": [
       "<a id=\"Flux_Comparison\"></a>"
      ],
      "text/plain": [
       "<IPython.core.display.HTML object>"
      ]
     },
     "metadata": {},
     "output_type": "display_data"
    },
    {
     "data": {
      "text/markdown": [
       "# Flux Comparison"
      ],
      "text/plain": [
       "<IPython.core.display.Markdown object>"
      ]
     },
     "metadata": {},
     "output_type": "display_data"
    },
    {
     "data": {
      "text/html": [
       "<div>\n",
       "<style>\n",
       "    .dataframe thead tr:only-child th {\n",
       "        text-align: right;\n",
       "    }\n",
       "\n",
       "    .dataframe thead th {\n",
       "        text-align: left;\n",
       "    }\n",
       "\n",
       "    .dataframe tbody tr th {\n",
       "        vertical-align: top;\n",
       "    }\n",
       "</style>\n",
       "<table border=\"1\" class=\"dataframe\">\n",
       "  <thead>\n",
       "    <tr style=\"text-align: right;\">\n",
       "      <th></th>\n",
       "      <th></th>\n",
       "      <th>flug</th>\n",
       "      <th>fldg</th>\n",
       "      <th>fnetg</th>\n",
       "    </tr>\n",
       "    <tr>\n",
       "      <th>pressure</th>\n",
       "      <th>level</th>\n",
       "      <th></th>\n",
       "      <th></th>\n",
       "      <th></th>\n",
       "    </tr>\n",
       "  </thead>\n",
       "  <tbody>\n",
       "    <tr>\n",
       "      <th>0.0000</th>\n",
       "      <th>1</th>\n",
       "      <td>-33.972061</td>\n",
       "      <td>0.000000</td>\n",
       "      <td>-33.972061</td>\n",
       "    </tr>\n",
       "    <tr>\n",
       "      <th>1.0685</th>\n",
       "      <th>24</th>\n",
       "      <td>-33.976504</td>\n",
       "      <td>0.074683</td>\n",
       "      <td>-33.901822</td>\n",
       "    </tr>\n",
       "    <tr>\n",
       "      <th>1013.0000</th>\n",
       "      <th>76</th>\n",
       "      <td>-51.073428</td>\n",
       "      <td>50.951360</td>\n",
       "      <td>-0.122070</td>\n",
       "    </tr>\n",
       "  </tbody>\n",
       "</table>\n",
       "</div>"
      ],
      "text/plain": [
       "                      flug       fldg      fnetg\n",
       "pressure  level                                 \n",
       "0.0000    1     -33.972061   0.000000 -33.972061\n",
       "1.0685    24    -33.976504   0.074683 -33.901822\n",
       "1013.0000 76    -51.073428  50.951360  -0.122070"
      ]
     },
     "metadata": {},
     "output_type": "display_data"
    },
    {
     "name": "stdout",
     "output_type": "stream",
     "text": [
      "Table. Fluxes. WGT igg=10 wgt_flux=1\n"
     ]
    },
    {
     "data": {
      "text/html": [
       "<div>\n",
       "<style>\n",
       "    .dataframe thead tr:only-child th {\n",
       "        text-align: right;\n",
       "    }\n",
       "\n",
       "    .dataframe thead th {\n",
       "        text-align: left;\n",
       "    }\n",
       "\n",
       "    .dataframe tbody tr th {\n",
       "        vertical-align: top;\n",
       "    }\n",
       "</style>\n",
       "<table border=\"1\" class=\"dataframe\">\n",
       "  <thead>\n",
       "    <tr style=\"text-align: right;\">\n",
       "      <th></th>\n",
       "      <th></th>\n",
       "      <th>flug</th>\n",
       "      <th>fldg</th>\n",
       "      <th>fnetg</th>\n",
       "    </tr>\n",
       "    <tr>\n",
       "      <th>pressure</th>\n",
       "      <th>level</th>\n",
       "      <th></th>\n",
       "      <th></th>\n",
       "      <th></th>\n",
       "    </tr>\n",
       "  </thead>\n",
       "  <tbody>\n",
       "    <tr>\n",
       "      <th>0.0000</th>\n",
       "      <th>1</th>\n",
       "      <td>-34.252009</td>\n",
       "      <td>0.000000</td>\n",
       "      <td>-34.252009</td>\n",
       "    </tr>\n",
       "    <tr>\n",
       "      <th>1.0685</th>\n",
       "      <th>24</th>\n",
       "      <td>-34.258875</td>\n",
       "      <td>0.073632</td>\n",
       "      <td>-34.185243</td>\n",
       "    </tr>\n",
       "    <tr>\n",
       "      <th>1013.0000</th>\n",
       "      <th>76</th>\n",
       "      <td>-51.073429</td>\n",
       "      <td>50.951359</td>\n",
       "      <td>-0.122070</td>\n",
       "    </tr>\n",
       "  </tbody>\n",
       "</table>\n",
       "</div>"
      ],
      "text/plain": [
       "                      flug       fldg      fnetg\n",
       "pressure  level                                 \n",
       "0.0000    1     -34.252009   0.000000 -34.252009\n",
       "1.0685    24    -34.258875   0.073632 -34.185243\n",
       "1013.0000 76    -51.073429  50.951359  -0.122070"
      ]
     },
     "metadata": {},
     "output_type": "display_data"
    },
    {
     "name": "stdout",
     "output_type": "stream",
     "text": [
      "Table. Fluxes. CRD\n"
     ]
    },
    {
     "data": {
      "text/html": [
       "<div>\n",
       "<style>\n",
       "    .dataframe thead tr:only-child th {\n",
       "        text-align: right;\n",
       "    }\n",
       "\n",
       "    .dataframe thead th {\n",
       "        text-align: left;\n",
       "    }\n",
       "\n",
       "    .dataframe tbody tr th {\n",
       "        vertical-align: top;\n",
       "    }\n",
       "</style>\n",
       "<table border=\"1\" class=\"dataframe\">\n",
       "  <thead>\n",
       "    <tr style=\"text-align: right;\">\n",
       "      <th></th>\n",
       "      <th></th>\n",
       "      <th>flug</th>\n",
       "      <th>fldg</th>\n",
       "      <th>fnetg</th>\n",
       "    </tr>\n",
       "    <tr>\n",
       "      <th>pressure</th>\n",
       "      <th>level</th>\n",
       "      <th></th>\n",
       "      <th></th>\n",
       "      <th></th>\n",
       "    </tr>\n",
       "  </thead>\n",
       "  <tbody>\n",
       "    <tr>\n",
       "      <th>1.000000e-08</th>\n",
       "      <th>1</th>\n",
       "      <td>-34.073521</td>\n",
       "      <td>0.000000</td>\n",
       "      <td>-34.073521</td>\n",
       "    </tr>\n",
       "    <tr>\n",
       "      <th>1.068500e+00</th>\n",
       "      <th>24</th>\n",
       "      <td>-34.078304</td>\n",
       "      <td>0.069915</td>\n",
       "      <td>-34.008389</td>\n",
       "    </tr>\n",
       "    <tr>\n",
       "      <th>1.013000e+03</th>\n",
       "      <th>76</th>\n",
       "      <td>-51.073433</td>\n",
       "      <td>50.951340</td>\n",
       "      <td>-0.122093</td>\n",
       "    </tr>\n",
       "  </tbody>\n",
       "</table>\n",
       "</div>"
      ],
      "text/plain": [
       "                         flug       fldg      fnetg\n",
       "pressure     level                                 \n",
       "1.000000e-08 1     -34.073521   0.000000 -34.073521\n",
       "1.068500e+00 24    -34.078304   0.069915 -34.008389\n",
       "1.013000e+03 76    -51.073433  50.951340  -0.122093"
      ]
     },
     "metadata": {},
     "output_type": "display_data"
    },
    {
     "name": "stdout",
     "output_type": "stream",
     "text": [
      "Table. Fluxes. CLIRAD\n"
     ]
    },
    {
     "data": {
      "text/html": [
       "<div>\n",
       "<style>\n",
       "    .dataframe thead tr:only-child th {\n",
       "        text-align: right;\n",
       "    }\n",
       "\n",
       "    .dataframe thead th {\n",
       "        text-align: left;\n",
       "    }\n",
       "\n",
       "    .dataframe tbody tr th {\n",
       "        vertical-align: top;\n",
       "    }\n",
       "</style>\n",
       "<table border=\"1\" class=\"dataframe\">\n",
       "  <thead>\n",
       "    <tr style=\"text-align: right;\">\n",
       "      <th></th>\n",
       "      <th></th>\n",
       "      <th>flug</th>\n",
       "      <th>fldg</th>\n",
       "      <th>fnetg</th>\n",
       "    </tr>\n",
       "    <tr>\n",
       "      <th>pressure</th>\n",
       "      <th>level</th>\n",
       "      <th></th>\n",
       "      <th></th>\n",
       "      <th></th>\n",
       "    </tr>\n",
       "  </thead>\n",
       "  <tbody>\n",
       "    <tr>\n",
       "      <th>0.0000</th>\n",
       "      <th>1</th>\n",
       "      <td>-2.799480e-01</td>\n",
       "      <td>0.000000e+00</td>\n",
       "      <td>-2.799480e-01</td>\n",
       "    </tr>\n",
       "    <tr>\n",
       "      <th>1.0685</th>\n",
       "      <th>24</th>\n",
       "      <td>-2.823705e-01</td>\n",
       "      <td>-1.050693e-03</td>\n",
       "      <td>-2.834209e-01</td>\n",
       "    </tr>\n",
       "    <tr>\n",
       "      <th>1013.0000</th>\n",
       "      <th>76</th>\n",
       "      <td>-6.007000e-07</td>\n",
       "      <td>-9.476000e-07</td>\n",
       "      <td>-5.506360e-07</td>\n",
       "    </tr>\n",
       "  </tbody>\n",
       "</table>\n",
       "</div>"
      ],
      "text/plain": [
       "                         flug          fldg         fnetg\n",
       "pressure  level                                          \n",
       "0.0000    1     -2.799480e-01  0.000000e+00 -2.799480e-01\n",
       "1.0685    24    -2.823705e-01 -1.050693e-03 -2.834209e-01\n",
       "1013.0000 76    -6.007000e-07 -9.476000e-07 -5.506360e-07"
      ]
     },
     "metadata": {},
     "output_type": "display_data"
    },
    {
     "name": "stdout",
     "output_type": "stream",
     "text": [
      "Table. Fluxes. (CRD) - (WGT igg=10 wgt_flux=1)\n"
     ]
    },
    {
     "data": {
      "text/html": [
       "<div>\n",
       "<style>\n",
       "    .dataframe thead tr:only-child th {\n",
       "        text-align: right;\n",
       "    }\n",
       "\n",
       "    .dataframe thead th {\n",
       "        text-align: left;\n",
       "    }\n",
       "\n",
       "    .dataframe tbody tr th {\n",
       "        vertical-align: top;\n",
       "    }\n",
       "</style>\n",
       "<table border=\"1\" class=\"dataframe\">\n",
       "  <thead>\n",
       "    <tr style=\"text-align: right;\">\n",
       "      <th></th>\n",
       "      <th></th>\n",
       "      <th>flug</th>\n",
       "      <th>fldg</th>\n",
       "      <th>fnetg</th>\n",
       "    </tr>\n",
       "    <tr>\n",
       "      <th>pressure</th>\n",
       "      <th>level</th>\n",
       "      <th></th>\n",
       "      <th></th>\n",
       "      <th></th>\n",
       "    </tr>\n",
       "  </thead>\n",
       "  <tbody>\n",
       "    <tr>\n",
       "      <th>0.0000</th>\n",
       "      <th>1</th>\n",
       "      <td>-0.101460</td>\n",
       "      <td>0.000000</td>\n",
       "      <td>-0.101460</td>\n",
       "    </tr>\n",
       "    <tr>\n",
       "      <th>1.0685</th>\n",
       "      <th>24</th>\n",
       "      <td>-0.101800</td>\n",
       "      <td>-0.004768</td>\n",
       "      <td>-0.106567</td>\n",
       "    </tr>\n",
       "    <tr>\n",
       "      <th>1013.0000</th>\n",
       "      <th>76</th>\n",
       "      <td>-0.000005</td>\n",
       "      <td>-0.000020</td>\n",
       "      <td>-0.000024</td>\n",
       "    </tr>\n",
       "  </tbody>\n",
       "</table>\n",
       "</div>"
      ],
      "text/plain": [
       "                     flug      fldg     fnetg\n",
       "pressure  level                              \n",
       "0.0000    1     -0.101460  0.000000 -0.101460\n",
       "1.0685    24    -0.101800 -0.004768 -0.106567\n",
       "1013.0000 76    -0.000005 -0.000020 -0.000024"
      ]
     },
     "metadata": {},
     "output_type": "display_data"
    },
    {
     "name": "stdout",
     "output_type": "stream",
     "text": [
      "Table. Fluxes. (CLIRAD) - (WGT igg=10 wgt_flux=1)\n"
     ]
    },
    {
     "data": {
      "text/html": [
       "<a id=\"Best-fit_Parameters\"></a>"
      ],
      "text/plain": [
       "<IPython.core.display.HTML object>"
      ]
     },
     "metadata": {},
     "output_type": "display_data"
    },
    {
     "data": {
      "text/markdown": [
       "# Best-fit Parameters"
      ],
      "text/plain": [
       "<IPython.core.display.Markdown object>"
      ]
     },
     "metadata": {},
     "output_type": "display_data"
    },
    {
     "name": "stdout",
     "output_type": "stream",
     "text": [
      "Best-fit values for each (gas, band)\n",
      "------------------------------------\n",
      "o h2o band1\n",
      "  molecule = h2o\n",
      "  band = 1\n",
      "  commitnumber = d62b618\n",
      "  vmin = 20\n",
      "  vmax = 340\n",
      "  dv = 0.001\n",
      "  nv = 1000\n",
      "  ref_pts = [(1, 250), (30, 250), (300, 250)]\n",
      "  ng_refs = [3, 3, 6]\n",
      "  ng_adju = [0, 0, 0]\n",
      "  klin = 0\n",
      "  option_wgt_k = 1\n",
      "  wgt = [(0.2, 0.2, 0.2), (0.2, 0.2, 0.2), (0.2, 0.2, 0.65, 0.65, 0.65, 0.65)]\n",
      "  w_diffuse = [(1.66, 1.66, 1.66), (1.66, 1.66, 1.66), (1.66, 1.66, 1.5, 1.5, 1.5, 1.5)]\n",
      "  option_wgt_flux = 1\n",
      "  atmpro = mls\n",
      "  tsfc = 294\n",
      "  conc = None\n",
      "  option_compute_btable = 0\n",
      "  option_compute_ktable = 1\n"
     ]
    }
   ],
   "source": [
    "script()"
   ]
  },
  {
   "cell_type": "code",
   "execution_count": 13,
   "metadata": {},
   "outputs": [
    {
     "data": {
      "text/html": [
       "<script>\n",
       "code_show=true; \n",
       "function code_toggle() {\n",
       " if (code_show){\n",
       " $('div.input').hide();\n",
       " } else {\n",
       " $('div.input').show();\n",
       " }\n",
       " code_show = !code_show\n",
       "} \n",
       "$( document ).ready(code_toggle);\n",
       "</script>\n",
       "<form action=\"javascript:code_toggle()\"><input type=\"submit\" value=\"Click here to toggle on/off the raw code.\"></form>"
      ],
      "text/plain": [
       "<IPython.core.display.HTML object>"
      ]
     },
     "execution_count": 13,
     "metadata": {},
     "output_type": "execute_result"
    }
   ],
   "source": [
    "display.HTML('''<script>\n",
    "code_show=true; \n",
    "function code_toggle() {\n",
    " if (code_show){\n",
    " $('div.input').hide();\n",
    " } else {\n",
    " $('div.input').show();\n",
    " }\n",
    " code_show = !code_show\n",
    "} \n",
    "$( document ).ready(code_toggle);\n",
    "</script>\n",
    "<form action=\"javascript:code_toggle()\"><input type=\"submit\" value=\"Click here to toggle on/off the raw code.\"></form>''')"
   ]
  }
 ],
 "metadata": {
  "kernelspec": {
   "display_name": "Python 3",
   "language": "python",
   "name": "python3"
  },
  "language_info": {
   "codemirror_mode": {
    "name": "ipython",
    "version": 3
   },
   "file_extension": ".py",
   "mimetype": "text/x-python",
   "name": "python",
   "nbconvert_exporter": "python",
   "pygments_lexer": "ipython3",
   "version": "3.6.1"
  }
 },
 "nbformat": 4,
 "nbformat_minor": 2
}
