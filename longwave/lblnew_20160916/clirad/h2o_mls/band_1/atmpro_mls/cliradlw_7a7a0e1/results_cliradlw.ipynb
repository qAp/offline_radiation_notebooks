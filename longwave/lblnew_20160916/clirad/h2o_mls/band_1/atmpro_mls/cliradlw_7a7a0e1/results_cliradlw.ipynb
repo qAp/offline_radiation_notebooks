{
 "cells": [
  {
   "cell_type": "code",
   "execution_count": 1,
   "metadata": {
    "collapsed": true
   },
   "outputs": [],
   "source": [
    "%matplotlib inline\n",
    "import os\n",
    "import re\n",
    "import io\n",
    "import itertools\n",
    "import pprint\n",
    "\n",
    "from bokeh.io import output_notebook, show\n",
    "from bokeh.layouts import gridplot\n",
    "from bokeh.plotting import figure\n",
    "from bokeh.models import Range1d, Legend\n",
    "from bokeh.palettes import all_palettes\n",
    "\n",
    "import matplotlib\n",
    "import matplotlib.pyplot as plt\n",
    "import numpy as np\n",
    "import pandas as pd\n",
    "import xarray as xr\n",
    "\n",
    "import climatools.lblnew.bestfit_params as bestfits\n",
    "from climatools.lblnew import setup_bestfit, setup_overlap\n",
    "import climatools.lblnew.pipeline as pipe_lblnew\n",
    "import climatools.cliradlw.setup as setup_cliradlw\n",
    "import climatools.cliradlw.pipeline as pipe_cliradlw\n",
    "\n",
    "import climatools.html.html as climahtml\n",
    "from climatools.lblnew.dataio import *\n",
    "from climatools.plot.plot import *\n",
    "\n",
    "\n",
    "import IPython.display as display"
   ]
  },
  {
   "cell_type": "code",
   "execution_count": 2,
   "metadata": {
    "collapsed": true
   },
   "outputs": [],
   "source": [
    "%run param.py"
   ]
  },
  {
   "cell_type": "code",
   "execution_count": 3,
   "metadata": {
    "collapsed": true
   },
   "outputs": [],
   "source": [
    "def load_output_file(path_csv):\n",
    "    '''\n",
    "    Load lblnew output .csv file to xarray.Dataset\n",
    "    \n",
    "    Parameters\n",
    "    ----------\n",
    "    path_csv: str\n",
    "              Path to the .csv file to be loaded.\n",
    "    ds: xarray.Dataset\n",
    "        Data in the input file in the form of an xarray.Dataset.\n",
    "    '''\n",
    "    toindex = ['band', 'pressure', 'igg', 'g']    \n",
    "    df = pd.read_csv(path_csv, sep=r'\\s+')\n",
    "    df = df.set_index([i for i in toindex if i in df.columns])\n",
    "    df = df.rename(columns={'sfu': 'flug',\n",
    "                            'sfd': 'fldg',\n",
    "                            'fnet': 'fnetg',\n",
    "                            'coolr': 'coolrg'})\n",
    "    ds = xr.Dataset.from_dataframe(df)\n",
    "\n",
    "    for l in ('level', 'layer'):\n",
    "        if l in ds.data_vars:\n",
    "            if len(ds[l].dims) > 1:\n",
    "                surface = {d: 0 for d in ds.dims if d != 'pressure'}\n",
    "                coord_level = ds[l][surface]\n",
    "                ds.coords[l] = ('pressure', coord_level)\n",
    "            else:\n",
    "                ds.coords[l] = ('pressure', ds[l])\n",
    "    \n",
    "    return ds"
   ]
  },
  {
   "cell_type": "code",
   "execution_count": 4,
   "metadata": {
    "collapsed": true
   },
   "outputs": [],
   "source": [
    "def lblnew_setup(param=None):\n",
    "    if 'ng_refs' in param:\n",
    "        return {'setup': setup_bestfit,\n",
    "                'fname_flux_crd': 'output_flux.dat',\n",
    "                'fname_cool_crd': 'output_coolr.dat',\n",
    "                'fname_flux_wgt': 'output_wfluxg.dat',\n",
    "                'fname_cool_wgt': 'output_wcoolrg.dat'}\n",
    "    else:\n",
    "        return {'setup': setup_overlap,\n",
    "                'fname_flux_crd': 'output_flux.dat',\n",
    "                'fname_cool_crd': 'output_coolr.dat',\n",
    "                'fname_flux_wgt': 'output_wflux.dat',\n",
    "                'fname_cool_wgt': 'output_wcoolr.dat'}\n",
    "\n",
    "    \n",
    "def load_lblnew_data(param):\n",
    "    \n",
    "    fname_dsname = [('fname_flux_crd', 'ds_flux_crd'),\n",
    "                    ('fname_cool_crd', 'ds_cool_crd'),\n",
    "                    ('fname_flux_wgt', 'ds_flux_wgt'),\n",
    "                    ('fname_cool_wgt', 'ds_cool_wgt')]\n",
    "    \n",
    "    d = lblnew_setup(param)\n",
    "    dir_fortran = pipe_lblnew.get_dir_case(param, setup=d['setup'])\n",
    "    \n",
    "    data_dict = {}\n",
    "    for fname, dsname in fname_dsname:\n",
    "        fpath = os.path.join(dir_fortran, d[fname])\n",
    "        data_dict[dsname] = load_output_file(fpath)\n",
    "    return data_dict\n",
    "    \n",
    "\n",
    "    \n",
    "    "
   ]
  },
  {
   "cell_type": "code",
   "execution_count": 5,
   "metadata": {
    "collapsed": true
   },
   "outputs": [],
   "source": [
    "d = load_lblnew_data(PARAM_LBLNEW)\n",
    "\n",
    "DS_FLUX_CRD = d['ds_flux_crd']\n",
    "DS_COOL_CRD = d['ds_cool_crd']\n",
    "DS_FLUX_WGT = d['ds_flux_wgt']\n",
    "DS_COOL_WGT = d['ds_cool_wgt']"
   ]
  },
  {
   "cell_type": "code",
   "execution_count": 6,
   "metadata": {
    "collapsed": true
   },
   "outputs": [],
   "source": [
    "DIR_FORTRAN = pipe_cliradlw.get_fortran_dir(PARAM, \n",
    "                                            setup=setup_cliradlw)\n",
    "\n",
    "PATH_FLUX = os.path.join(DIR_FORTRAN, 'output_flux.dat')\n",
    "PATH_COOL = os.path.join(DIR_FORTRAN, 'output_coolr.dat')\n",
    "\n",
    "DS_FLUX = load_output_file(PATH_FLUX)\n",
    "DS_COOL = load_output_file(PATH_COOL)"
   ]
  },
  {
   "cell_type": "code",
   "execution_count": 7,
   "metadata": {},
   "outputs": [
    {
     "data": {
      "text/html": [
       "\n",
       "    <div class=\"bk-root\">\n",
       "        <a href=\"https://bokeh.pydata.org\" target=\"_blank\" class=\"bk-logo bk-logo-small bk-logo-notebook\"></a>\n",
       "        <span id=\"2ac3935b-a282-4429-8471-c7e9e0b41e83\">Loading BokehJS ...</span>\n",
       "    </div>"
      ]
     },
     "metadata": {},
     "output_type": "display_data"
    },
    {
     "data": {
      "application/javascript": [
       "\n",
       "(function(root) {\n",
       "  function now() {\n",
       "    return new Date();\n",
       "  }\n",
       "\n",
       "  var force = true;\n",
       "\n",
       "  if (typeof (root._bokeh_onload_callbacks) === \"undefined\" || force === true) {\n",
       "    root._bokeh_onload_callbacks = [];\n",
       "    root._bokeh_is_loading = undefined;\n",
       "  }\n",
       "\n",
       "  var JS_MIME_TYPE = 'application/javascript';\n",
       "  var HTML_MIME_TYPE = 'text/html';\n",
       "  var EXEC_MIME_TYPE = 'application/vnd.bokehjs_exec.v0+json';\n",
       "  var CLASS_NAME = 'output_bokeh rendered_html';\n",
       "\n",
       "  /**\n",
       "   * Render data to the DOM node\n",
       "   */\n",
       "  function render(props, node) {\n",
       "    var script = document.createElement(\"script\");\n",
       "    node.appendChild(script);\n",
       "  }\n",
       "\n",
       "  /**\n",
       "   * Handle when an output is cleared or removed\n",
       "   */\n",
       "  function handleClearOutput(event, handle) {\n",
       "    var cell = handle.cell;\n",
       "\n",
       "    var id = cell.output_area._bokeh_element_id;\n",
       "    var server_id = cell.output_area._bokeh_server_id;\n",
       "    // Clean up Bokeh references\n",
       "    if (id !== undefined) {\n",
       "      Bokeh.index[id].model.document.clear();\n",
       "      delete Bokeh.index[id];\n",
       "    }\n",
       "\n",
       "    if (server_id !== undefined) {\n",
       "      // Clean up Bokeh references\n",
       "      var cmd = \"from bokeh.io.state import curstate; print(curstate().uuid_to_server['\" + server_id + \"'].get_sessions()[0].document.roots[0]._id)\";\n",
       "      cell.notebook.kernel.execute(cmd, {\n",
       "        iopub: {\n",
       "          output: function(msg) {\n",
       "            var element_id = msg.content.text.trim();\n",
       "            Bokeh.index[element_id].model.document.clear();\n",
       "            delete Bokeh.index[element_id];\n",
       "          }\n",
       "        }\n",
       "      });\n",
       "      // Destroy server and session\n",
       "      var cmd = \"import bokeh.io.notebook as ion; ion.destroy_server('\" + server_id + \"')\";\n",
       "      cell.notebook.kernel.execute(cmd);\n",
       "    }\n",
       "  }\n",
       "\n",
       "  /**\n",
       "   * Handle when a new output is added\n",
       "   */\n",
       "  function handleAddOutput(event, handle) {\n",
       "    var output_area = handle.output_area;\n",
       "    var output = handle.output;\n",
       "\n",
       "    // limit handleAddOutput to display_data with EXEC_MIME_TYPE content only\n",
       "    if ((output.output_type != \"display_data\") || (!output.data.hasOwnProperty(EXEC_MIME_TYPE))) {\n",
       "      return\n",
       "    }\n",
       "\n",
       "    var toinsert = output_area.element.find(\".\" + CLASS_NAME.split(' ')[0]);\n",
       "\n",
       "    if (output.metadata[EXEC_MIME_TYPE][\"id\"] !== undefined) {\n",
       "      toinsert[0].firstChild.textContent = output.data[JS_MIME_TYPE];\n",
       "      // store reference to embed id on output_area\n",
       "      output_area._bokeh_element_id = output.metadata[EXEC_MIME_TYPE][\"id\"];\n",
       "    }\n",
       "    if (output.metadata[EXEC_MIME_TYPE][\"server_id\"] !== undefined) {\n",
       "      var bk_div = document.createElement(\"div\");\n",
       "      bk_div.innerHTML = output.data[HTML_MIME_TYPE];\n",
       "      var script_attrs = bk_div.children[0].attributes;\n",
       "      for (var i = 0; i < script_attrs.length; i++) {\n",
       "        toinsert[0].firstChild.setAttribute(script_attrs[i].name, script_attrs[i].value);\n",
       "      }\n",
       "      // store reference to server id on output_area\n",
       "      output_area._bokeh_server_id = output.metadata[EXEC_MIME_TYPE][\"server_id\"];\n",
       "    }\n",
       "  }\n",
       "\n",
       "  function register_renderer(events, OutputArea) {\n",
       "\n",
       "    function append_mime(data, metadata, element) {\n",
       "      // create a DOM node to render to\n",
       "      var toinsert = this.create_output_subarea(\n",
       "        metadata,\n",
       "        CLASS_NAME,\n",
       "        EXEC_MIME_TYPE\n",
       "      );\n",
       "      this.keyboard_manager.register_events(toinsert);\n",
       "      // Render to node\n",
       "      var props = {data: data, metadata: metadata[EXEC_MIME_TYPE]};\n",
       "      render(props, toinsert[0]);\n",
       "      element.append(toinsert);\n",
       "      return toinsert\n",
       "    }\n",
       "\n",
       "    /* Handle when an output is cleared or removed */\n",
       "    events.on('clear_output.CodeCell', handleClearOutput);\n",
       "    events.on('delete.Cell', handleClearOutput);\n",
       "\n",
       "    /* Handle when a new output is added */\n",
       "    events.on('output_added.OutputArea', handleAddOutput);\n",
       "\n",
       "    /**\n",
       "     * Register the mime type and append_mime function with output_area\n",
       "     */\n",
       "    OutputArea.prototype.register_mime_type(EXEC_MIME_TYPE, append_mime, {\n",
       "      /* Is output safe? */\n",
       "      safe: true,\n",
       "      /* Index of renderer in `output_area.display_order` */\n",
       "      index: 0\n",
       "    });\n",
       "  }\n",
       "\n",
       "  // register the mime type if in Jupyter Notebook environment and previously unregistered\n",
       "  if (root.Jupyter !== undefined) {\n",
       "    var events = require('base/js/events');\n",
       "    var OutputArea = require('notebook/js/outputarea').OutputArea;\n",
       "\n",
       "    if (OutputArea.prototype.mime_types().indexOf(EXEC_MIME_TYPE) == -1) {\n",
       "      register_renderer(events, OutputArea);\n",
       "    }\n",
       "  }\n",
       "\n",
       "  \n",
       "  if (typeof (root._bokeh_timeout) === \"undefined\" || force === true) {\n",
       "    root._bokeh_timeout = Date.now() + 5000;\n",
       "    root._bokeh_failed_load = false;\n",
       "  }\n",
       "\n",
       "  var NB_LOAD_WARNING = {'data': {'text/html':\n",
       "     \"<div style='background-color: #fdd'>\\n\"+\n",
       "     \"<p>\\n\"+\n",
       "     \"BokehJS does not appear to have successfully loaded. If loading BokehJS from CDN, this \\n\"+\n",
       "     \"may be due to a slow or bad network connection. Possible fixes:\\n\"+\n",
       "     \"</p>\\n\"+\n",
       "     \"<ul>\\n\"+\n",
       "     \"<li>re-rerun `output_notebook()` to attempt to load from CDN again, or</li>\\n\"+\n",
       "     \"<li>use INLINE resources instead, as so:</li>\\n\"+\n",
       "     \"</ul>\\n\"+\n",
       "     \"<code>\\n\"+\n",
       "     \"from bokeh.resources import INLINE\\n\"+\n",
       "     \"output_notebook(resources=INLINE)\\n\"+\n",
       "     \"</code>\\n\"+\n",
       "     \"</div>\"}};\n",
       "\n",
       "  function display_loaded() {\n",
       "    var el = document.getElementById(\"2ac3935b-a282-4429-8471-c7e9e0b41e83\");\n",
       "    if (el != null) {\n",
       "      el.textContent = \"BokehJS is loading...\";\n",
       "    }\n",
       "    if (root.Bokeh !== undefined) {\n",
       "      if (el != null) {\n",
       "        el.textContent = \"BokehJS \" + root.Bokeh.version + \" successfully loaded.\";\n",
       "      }\n",
       "    } else if (Date.now() < root._bokeh_timeout) {\n",
       "      setTimeout(display_loaded, 100)\n",
       "    }\n",
       "  }\n",
       "\n",
       "\n",
       "  function run_callbacks() {\n",
       "    try {\n",
       "      root._bokeh_onload_callbacks.forEach(function(callback) { callback() });\n",
       "    }\n",
       "    finally {\n",
       "      delete root._bokeh_onload_callbacks\n",
       "    }\n",
       "    console.info(\"Bokeh: all callbacks have finished\");\n",
       "  }\n",
       "\n",
       "  function load_libs(js_urls, callback) {\n",
       "    root._bokeh_onload_callbacks.push(callback);\n",
       "    if (root._bokeh_is_loading > 0) {\n",
       "      console.log(\"Bokeh: BokehJS is being loaded, scheduling callback at\", now());\n",
       "      return null;\n",
       "    }\n",
       "    if (js_urls == null || js_urls.length === 0) {\n",
       "      run_callbacks();\n",
       "      return null;\n",
       "    }\n",
       "    console.log(\"Bokeh: BokehJS not loaded, scheduling load and callback at\", now());\n",
       "    root._bokeh_is_loading = js_urls.length;\n",
       "    for (var i = 0; i < js_urls.length; i++) {\n",
       "      var url = js_urls[i];\n",
       "      var s = document.createElement('script');\n",
       "      s.src = url;\n",
       "      s.async = false;\n",
       "      s.onreadystatechange = s.onload = function() {\n",
       "        root._bokeh_is_loading--;\n",
       "        if (root._bokeh_is_loading === 0) {\n",
       "          console.log(\"Bokeh: all BokehJS libraries loaded\");\n",
       "          run_callbacks()\n",
       "        }\n",
       "      };\n",
       "      s.onerror = function() {\n",
       "        console.warn(\"failed to load library \" + url);\n",
       "      };\n",
       "      console.log(\"Bokeh: injecting script tag for BokehJS library: \", url);\n",
       "      document.getElementsByTagName(\"head\")[0].appendChild(s);\n",
       "    }\n",
       "  };var element = document.getElementById(\"2ac3935b-a282-4429-8471-c7e9e0b41e83\");\n",
       "  if (element == null) {\n",
       "    console.log(\"Bokeh: ERROR: autoload.js configured with elementid '2ac3935b-a282-4429-8471-c7e9e0b41e83' but no matching script tag was found. \")\n",
       "    return false;\n",
       "  }\n",
       "\n",
       "  var js_urls = [\"https://cdn.pydata.org/bokeh/release/bokeh-0.12.14.min.js\", \"https://cdn.pydata.org/bokeh/release/bokeh-widgets-0.12.14.min.js\", \"https://cdn.pydata.org/bokeh/release/bokeh-tables-0.12.14.min.js\", \"https://cdn.pydata.org/bokeh/release/bokeh-gl-0.12.14.min.js\"];\n",
       "\n",
       "  var inline_js = [\n",
       "    function(Bokeh) {\n",
       "      Bokeh.set_log_level(\"info\");\n",
       "    },\n",
       "    \n",
       "    function(Bokeh) {\n",
       "      \n",
       "    },\n",
       "    function(Bokeh) {\n",
       "      console.log(\"Bokeh: injecting CSS: https://cdn.pydata.org/bokeh/release/bokeh-0.12.14.min.css\");\n",
       "      Bokeh.embed.inject_css(\"https://cdn.pydata.org/bokeh/release/bokeh-0.12.14.min.css\");\n",
       "      console.log(\"Bokeh: injecting CSS: https://cdn.pydata.org/bokeh/release/bokeh-widgets-0.12.14.min.css\");\n",
       "      Bokeh.embed.inject_css(\"https://cdn.pydata.org/bokeh/release/bokeh-widgets-0.12.14.min.css\");\n",
       "      console.log(\"Bokeh: injecting CSS: https://cdn.pydata.org/bokeh/release/bokeh-tables-0.12.14.min.css\");\n",
       "      Bokeh.embed.inject_css(\"https://cdn.pydata.org/bokeh/release/bokeh-tables-0.12.14.min.css\");\n",
       "    }\n",
       "  ];\n",
       "\n",
       "  function run_inline_js() {\n",
       "    \n",
       "    if ((root.Bokeh !== undefined) || (force === true)) {\n",
       "      for (var i = 0; i < inline_js.length; i++) {\n",
       "        inline_js[i].call(root, root.Bokeh);\n",
       "      }if (force === true) {\n",
       "        display_loaded();\n",
       "      }} else if (Date.now() < root._bokeh_timeout) {\n",
       "      setTimeout(run_inline_js, 100);\n",
       "    } else if (!root._bokeh_failed_load) {\n",
       "      console.log(\"Bokeh: BokehJS failed to load within specified timeout.\");\n",
       "      root._bokeh_failed_load = true;\n",
       "    } else if (force !== true) {\n",
       "      var cell = $(document.getElementById(\"2ac3935b-a282-4429-8471-c7e9e0b41e83\")).parents('.cell').data().cell;\n",
       "      cell.output_area.append_execute_result(NB_LOAD_WARNING)\n",
       "    }\n",
       "\n",
       "  }\n",
       "\n",
       "  if (root._bokeh_is_loading === 0) {\n",
       "    console.log(\"Bokeh: BokehJS loaded, going straight to plotting\");\n",
       "    run_inline_js();\n",
       "  } else {\n",
       "    load_libs(js_urls, function() {\n",
       "      console.log(\"Bokeh: BokehJS plotting callback run at\", now());\n",
       "      run_inline_js();\n",
       "    });\n",
       "  }\n",
       "}(window));"
      ],
      "application/vnd.bokehjs_load.v0+json": "\n(function(root) {\n  function now() {\n    return new Date();\n  }\n\n  var force = true;\n\n  if (typeof (root._bokeh_onload_callbacks) === \"undefined\" || force === true) {\n    root._bokeh_onload_callbacks = [];\n    root._bokeh_is_loading = undefined;\n  }\n\n  \n\n  \n  if (typeof (root._bokeh_timeout) === \"undefined\" || force === true) {\n    root._bokeh_timeout = Date.now() + 5000;\n    root._bokeh_failed_load = false;\n  }\n\n  var NB_LOAD_WARNING = {'data': {'text/html':\n     \"<div style='background-color: #fdd'>\\n\"+\n     \"<p>\\n\"+\n     \"BokehJS does not appear to have successfully loaded. If loading BokehJS from CDN, this \\n\"+\n     \"may be due to a slow or bad network connection. Possible fixes:\\n\"+\n     \"</p>\\n\"+\n     \"<ul>\\n\"+\n     \"<li>re-rerun `output_notebook()` to attempt to load from CDN again, or</li>\\n\"+\n     \"<li>use INLINE resources instead, as so:</li>\\n\"+\n     \"</ul>\\n\"+\n     \"<code>\\n\"+\n     \"from bokeh.resources import INLINE\\n\"+\n     \"output_notebook(resources=INLINE)\\n\"+\n     \"</code>\\n\"+\n     \"</div>\"}};\n\n  function display_loaded() {\n    var el = document.getElementById(\"2ac3935b-a282-4429-8471-c7e9e0b41e83\");\n    if (el != null) {\n      el.textContent = \"BokehJS is loading...\";\n    }\n    if (root.Bokeh !== undefined) {\n      if (el != null) {\n        el.textContent = \"BokehJS \" + root.Bokeh.version + \" successfully loaded.\";\n      }\n    } else if (Date.now() < root._bokeh_timeout) {\n      setTimeout(display_loaded, 100)\n    }\n  }\n\n\n  function run_callbacks() {\n    try {\n      root._bokeh_onload_callbacks.forEach(function(callback) { callback() });\n    }\n    finally {\n      delete root._bokeh_onload_callbacks\n    }\n    console.info(\"Bokeh: all callbacks have finished\");\n  }\n\n  function load_libs(js_urls, callback) {\n    root._bokeh_onload_callbacks.push(callback);\n    if (root._bokeh_is_loading > 0) {\n      console.log(\"Bokeh: BokehJS is being loaded, scheduling callback at\", now());\n      return null;\n    }\n    if (js_urls == null || js_urls.length === 0) {\n      run_callbacks();\n      return null;\n    }\n    console.log(\"Bokeh: BokehJS not loaded, scheduling load and callback at\", now());\n    root._bokeh_is_loading = js_urls.length;\n    for (var i = 0; i < js_urls.length; i++) {\n      var url = js_urls[i];\n      var s = document.createElement('script');\n      s.src = url;\n      s.async = false;\n      s.onreadystatechange = s.onload = function() {\n        root._bokeh_is_loading--;\n        if (root._bokeh_is_loading === 0) {\n          console.log(\"Bokeh: all BokehJS libraries loaded\");\n          run_callbacks()\n        }\n      };\n      s.onerror = function() {\n        console.warn(\"failed to load library \" + url);\n      };\n      console.log(\"Bokeh: injecting script tag for BokehJS library: \", url);\n      document.getElementsByTagName(\"head\")[0].appendChild(s);\n    }\n  };var element = document.getElementById(\"2ac3935b-a282-4429-8471-c7e9e0b41e83\");\n  if (element == null) {\n    console.log(\"Bokeh: ERROR: autoload.js configured with elementid '2ac3935b-a282-4429-8471-c7e9e0b41e83' but no matching script tag was found. \")\n    return false;\n  }\n\n  var js_urls = [\"https://cdn.pydata.org/bokeh/release/bokeh-0.12.14.min.js\", \"https://cdn.pydata.org/bokeh/release/bokeh-widgets-0.12.14.min.js\", \"https://cdn.pydata.org/bokeh/release/bokeh-tables-0.12.14.min.js\", \"https://cdn.pydata.org/bokeh/release/bokeh-gl-0.12.14.min.js\"];\n\n  var inline_js = [\n    function(Bokeh) {\n      Bokeh.set_log_level(\"info\");\n    },\n    \n    function(Bokeh) {\n      \n    },\n    function(Bokeh) {\n      console.log(\"Bokeh: injecting CSS: https://cdn.pydata.org/bokeh/release/bokeh-0.12.14.min.css\");\n      Bokeh.embed.inject_css(\"https://cdn.pydata.org/bokeh/release/bokeh-0.12.14.min.css\");\n      console.log(\"Bokeh: injecting CSS: https://cdn.pydata.org/bokeh/release/bokeh-widgets-0.12.14.min.css\");\n      Bokeh.embed.inject_css(\"https://cdn.pydata.org/bokeh/release/bokeh-widgets-0.12.14.min.css\");\n      console.log(\"Bokeh: injecting CSS: https://cdn.pydata.org/bokeh/release/bokeh-tables-0.12.14.min.css\");\n      Bokeh.embed.inject_css(\"https://cdn.pydata.org/bokeh/release/bokeh-tables-0.12.14.min.css\");\n    }\n  ];\n\n  function run_inline_js() {\n    \n    if ((root.Bokeh !== undefined) || (force === true)) {\n      for (var i = 0; i < inline_js.length; i++) {\n        inline_js[i].call(root, root.Bokeh);\n      }if (force === true) {\n        display_loaded();\n      }} else if (Date.now() < root._bokeh_timeout) {\n      setTimeout(run_inline_js, 100);\n    } else if (!root._bokeh_failed_load) {\n      console.log(\"Bokeh: BokehJS failed to load within specified timeout.\");\n      root._bokeh_failed_load = true;\n    } else if (force !== true) {\n      var cell = $(document.getElementById(\"2ac3935b-a282-4429-8471-c7e9e0b41e83\")).parents('.cell').data().cell;\n      cell.output_area.append_execute_result(NB_LOAD_WARNING)\n    }\n\n  }\n\n  if (root._bokeh_is_loading === 0) {\n    console.log(\"Bokeh: BokehJS loaded, going straight to plotting\");\n    run_inline_js();\n  } else {\n    load_libs(js_urls, function() {\n      console.log(\"Bokeh: BokehJS plotting callback run at\", now());\n      run_inline_js();\n    });\n  }\n}(window));"
     },
     "metadata": {},
     "output_type": "display_data"
    }
   ],
   "source": [
    "output_notebook()"
   ]
  },
  {
   "cell_type": "code",
   "execution_count": 8,
   "metadata": {
    "collapsed": true
   },
   "outputs": [],
   "source": [
    "def fmt_cool(ds_in):\n",
    "    ds = ds_in.copy(deep=True)\n",
    "    if 'igg' in ds.dims:\n",
    "        ds = ds.sel(igg=1)\n",
    "\n",
    "    if 'g' in ds.dims:\n",
    "        ds = ds.sum('g')\n",
    "            \n",
    "    if 'band' in ds.dims:\n",
    "        try:\n",
    "            ds = ds.squeeze('band')\n",
    "        except ValueError:\n",
    "            ds = ds.sum('band')\n",
    "                \n",
    "    return ds['coolrg']\n",
    "\n",
    "\n",
    "def pltdata_cooling_1(ds_cool=None,\n",
    "                      ds_cool_crd=None, ds_cool_wgt=None):\n",
    "    \n",
    "\n",
    "\n",
    "    colors = all_palettes['Set1'][4]\n",
    "    data = [{'label': 'CLIRAD `coolr_bands`',\n",
    "             'srs': fmt_cool(ds_cool),\n",
    "             'line_dash': 'dashed', 'line_width': 5,\n",
    "             'color': colors[0], 'alpha': .6},\n",
    "            {'label': 'CRD',\n",
    "             'srs': fmt_cool(ds_cool_crd),\n",
    "             'line_dash': 'solid', 'line_width': 1.5,\n",
    "             'marker': 'circle', 'marker_size': 5,\n",
    "             'color': colors[2], 'alpha': 1,},\n",
    "            {'label': 'WGT igg=10 wgt_flux=2',\n",
    "             'srs': fmt_cool(ds_cool_wgt),\n",
    "             'line_dash': 'solid', 'line_width': 3,\n",
    "             'marker': 'square', 'marker_size': 5,\n",
    "             'color': colors[3], 'alpha': .6}]\n",
    "    return data\n",
    "\n",
    "\n",
    "def nice_xlims(pltdata=None, prange=None):\n",
    "    \n",
    "    def get_slice(srs):\n",
    "        return srs.sel(pressure=slice(*prange))\n",
    "    \n",
    "    srss = [d['srs'] for d in pltdata]\n",
    "    vmin = min([get_slice(srs).min() for srs in srss])\n",
    "    vmax = max([get_slice(srs).max() for srs in srss])\n",
    "    dv = (vmax - vmin) * .01\n",
    "    return float(vmin - dv), float(vmax + dv)\n",
    "    \n",
    "\n",
    "def plt_cooling_bokeh(pltdata=None):\n",
    "    '''\n",
    "    Plot a list of cooling rate profiles using bokeh.\n",
    "    '''\n",
    "    ymin = 1e-2 \n",
    "    ymax = 1020 \n",
    "        \n",
    "    p1 = figure(title=\"Linear pressure scale\", \n",
    "                plot_width=400)        \n",
    "    xmin, xmax = nice_xlims(pltdata, prange=(50, 1050))\n",
    "    for d in pltdata:\n",
    "        if 'marker' in d:\n",
    "            getattr(p1, d['marker'])(d['srs'].values, \n",
    "                    d['srs'].coords['pressure'].values,\n",
    "                    color=d['color'], alpha=.7)\n",
    "        p1.line(d['srs'].values, \n",
    "                d['srs'].coords['pressure'].values,\n",
    "                color=d['color'], alpha=d['alpha'], \n",
    "                line_width=d['line_width'], line_dash=d['line_dash'])\n",
    "    \n",
    "    p1.y_range = Range1d(ymax, ymin)\n",
    "    p1.yaxis.axis_label = 'pressure [mb]'   \n",
    "    p1.x_range = Range1d(xmin, xmax)\n",
    "    p1.xaxis.axis_label = 'cooling rate [K/day]'\n",
    "            \n",
    "    p2 = figure(title='Log pressure scale', y_axis_type='log',\n",
    "                plot_width=560)\n",
    "    xmin, xmax = nice_xlims(pltdata, prange=(.01, 200))\n",
    "    \n",
    "    rs = []\n",
    "    for d in pltdata:\n",
    "        rd = []\n",
    "        if 'marker' in d:\n",
    "            r_mark = getattr(p2, d['marker'])(d['srs'].values, \n",
    "                        d['srs'].coords['pressure'].values,\n",
    "                        color=d['color'], alpha=.7)\n",
    "            rd.append(r_mark)\n",
    "        r_line = p2.line(d['srs'].values, \n",
    "                    d['srs'].coords['pressure'].values,\n",
    "                    color=d['color'], alpha=d['alpha'], \n",
    "                    line_width=d['line_width'], line_dash=d['line_dash'])\n",
    "        rd.append(r_line)\n",
    "      \n",
    "        rs.append(rd)\n",
    "        \n",
    "    p2.y_range = Range1d(ymax, ymin)  \n",
    "    p2.yaxis.axis_label = 'pressure [mb]'\n",
    "    \n",
    "    p2.x_range = Range1d(xmin, xmax)\n",
    "    p2.xaxis.axis_label = 'cooling rate [K/day]'\n",
    "    \n",
    "    items = [(d['label'], r) for r, d in zip(rs, pltdata)]\n",
    "    legend = Legend(items=items, location=(10, -30))\n",
    "    legend.label_text_font_size = '8pt'\n",
    "    \n",
    "    p2.add_layout(legend, 'right')  \n",
    "    \n",
    "    show(gridplot(p1, p2, ncols=2, plot_height=500))\n",
    "    \n",
    "\n",
    "def script_plt_cooling():\n",
    "    pltdata = pltdata_cooling_1(\n",
    "        ds_cool=DS_COOL,\n",
    "        ds_cool_crd=DS_COOL_CRD,\n",
    "        ds_cool_wgt=DS_COOL_WGT)\n",
    "    plt_cooling_bokeh(pltdata=pltdata)\n",
    "    print('''FIGURE. Cooling rate profiles.''')"
   ]
  },
  {
   "cell_type": "code",
   "execution_count": 9,
   "metadata": {
    "collapsed": true
   },
   "outputs": [],
   "source": [
    "def fmt_flux(ds_in):\n",
    "    ds = ds_in.copy(deep=True)\n",
    "    \n",
    "    for l in ('level', 'layer'):\n",
    "        if l in ds.data_vars:\n",
    "            if len(ds[l].dims) > 1:\n",
    "                surface = {d: 0 for d in ds.dims if d != 'pressure'}\n",
    "                coord_level = ds[l][surface]\n",
    "                ds.coords[l] = ('pressure', coord_level)\n",
    "            else:\n",
    "                ds.coords[l] = ('pressure', ds[l])\n",
    "        \n",
    "    ds = ds.isel(pressure=[0, 23, -1])\n",
    "        \n",
    "    if 'igg' in ds.dims:\n",
    "        ds = ds.sel(igg=[1])\n",
    "        ds = ds.squeeze('igg').drop('igg')\n",
    "    \n",
    "    if 'g' in ds.dims:\n",
    "        ds = ds.sum('g')\n",
    "            \n",
    "    if 'band' in ds.dims:\n",
    "        try:\n",
    "            ds = ds.squeeze('band').drop('band')\n",
    "        except ValueError:\n",
    "            ds = ds.sum('band')\n",
    "                \n",
    "    df = ds.to_dataframe()\n",
    "    df = df.set_index('level', append=True)               \n",
    "    return df\n",
    "\n",
    "\n",
    "def tbdata_flux(ds_flux=None, ds_flux_crd=None, ds_flux_wgt=None):\n",
    "    ilevels = [0, 23, -1]\n",
    "            \n",
    "    benchmark = {'label': 'WGT igg=10 wgt_flux=1',\n",
    "                 'df': fmt_flux(ds_flux_wgt)}\n",
    "    \n",
    "    tbs = [{'label': 'CRD',\n",
    "            'df': fmt_flux(ds_flux_crd)},\n",
    "           {'label': 'CLIRAD',\n",
    "            'df': fmt_flux(ds_flux)}]\n",
    "    \n",
    "    data = {'benchmark': benchmark, 'others': tbs}\n",
    "    return data\n",
    "\n",
    "\n",
    "def tb_flux(tbdata=None):\n",
    "    benchmark = tbdata['benchmark']\n",
    "    others = tbdata['others']\n",
    "    \n",
    "    def show_tb(d=None):\n",
    "        display.display(d['df'])\n",
    "        print('Table.', 'Fluxes.', d['label'])\n",
    "        \n",
    "    def show_tbdiff(d0=None, d=None):\n",
    "        df = d['df']\n",
    "        df.index = d0['df'].index\n",
    "        display.display(df - d0['df'])\n",
    "        print('Table.', 'Fluxes.', \n",
    "              '({}) - ({})'.format(d['label'], d0['label']))\n",
    "        \n",
    "    show_tb(benchmark)\n",
    "    for d in others:\n",
    "        show_tb(d)\n",
    "        \n",
    "    for d in others:\n",
    "        show_tbdiff(d=d, d0=benchmark)\n",
    "        \n",
    "        \n",
    "def script_tb_flux():\n",
    "    data = tbdata_flux(ds_flux=DS_FLUX,\n",
    "                       ds_flux_crd=DS_FLUX_CRD,\n",
    "                       ds_flux_wgt=DS_FLUX_WGT)\n",
    "    tb_flux(tbdata=data)"
   ]
  },
  {
   "cell_type": "code",
   "execution_count": 10,
   "metadata": {
    "collapsed": true
   },
   "outputs": [],
   "source": [
    "def band_map():\n",
    "    '''\n",
    "    Maps spectral bands in lblnew to spectral bands in clirad.\n",
    "    '''\n",
    "    lblnew2clirad = {'1': '1',\n",
    "            '2': '2',\n",
    "            '3a': '3',\n",
    "            '3b': '4',\n",
    "            '3c': '5',\n",
    "            '4': '6', \n",
    "            '5': '7',\n",
    "            '6': '8',\n",
    "            '7': '9', \n",
    "            '8': '10',\n",
    "            '9': '11'}\n",
    "    \n",
    "    clirad2lblnew = {clirad: lblnew \n",
    "                     for lblnew, clirad in lblnew2clirad.items()}\n",
    "    return clirad2lblnew\n",
    "\n",
    "\n",
    "def gasbands():\n",
    "    bmap = band_map()\n",
    "    gases = list(PARAM['molecule'].keys())\n",
    "    \n",
    "    bands = [bmap[str(b)] for b in PARAM['band']]\n",
    "    return list(itertools.product(gases, bands))\n",
    "\n",
    "\n",
    "def print_bestfit_params():\n",
    "    print('Best-fit values for each (gas, band)')\n",
    "    print('------------------------------------')\n",
    "    for gas, band in gasbands():\n",
    "        print('o {} band{}'.format(gas, band))\n",
    "        param = bestfits.kdist_params(molecule=gas, band=band)\n",
    "        for name, value in param.items():\n",
    "            print(2 * ' ' + '{} = {}'.format(name, value))\n",
    "\n",
    "        \n",
    "def print_input_param():        \n",
    "    for name, value in PARAM.items():\n",
    "        print('{} = {}'.format(name, value))\n",
    "        \n",
    "        \n",
    "def print_lblnew_param():\n",
    "    for name, value in PARAM_LBLNEW.items():\n",
    "        print('{} = {}'.format(name, value))\n"
   ]
  },
  {
   "cell_type": "code",
   "execution_count": 11,
   "metadata": {
    "collapsed": true,
    "scrolled": false
   },
   "outputs": [],
   "source": [
    "def show_html(s):\n",
    "    display.display(display.HTML(s))\n",
    "\n",
    "    \n",
    "def show_markdown(s):\n",
    "    display.display(display.Markdown(s))\n",
    "\n",
    "    \n",
    "def script():\n",
    "    \n",
    "    title = '### CLIRAD-LW'\n",
    "    s_input = 'Input Parameters'\n",
    "    s_lblnew_param = 'LBLNEW case compaired against'\n",
    "    s_bestfits = 'Best-fit Parameters'\n",
    "    s_plt_cooling = 'Cooling Rate Profiles'\n",
    "    s_tb_flux = 'Flux Comparison'\n",
    "    \n",
    "    # title\n",
    "    show_markdown('### CLIRAD-LW')\n",
    "    \n",
    "    # TOC\n",
    "    show_markdown('### Table of Contents')\n",
    "    show_html(climahtml.getHTML_hrefanchor(s_input))\n",
    "    show_html(climahtml.getHTML_hrefanchor(s_lblnew_param))\n",
    "    show_html(climahtml.getHTML_hrefanchor(s_plt_cooling))\n",
    "    show_html(climahtml.getHTML_hrefanchor(s_tb_flux))\n",
    "    show_html(climahtml.getHTML_hrefanchor(s_bestfits))\n",
    "    \n",
    "    # Input parameters\n",
    "    show_html(climahtml.getHTML_idanchor(s_input))\n",
    "    show_markdown(climahtml.getMarkdown_sectitle(s_input))\n",
    "    print_input_param()\n",
    "    \n",
    "    # LBLNEW parameters \n",
    "    show_html(climahtml.getHTML_idanchor(s_lblnew_param))\n",
    "    show_markdown(climahtml.getMarkdown_sectitle(s_lblnew_param))\n",
    "    print_lblnew_param()\n",
    "    \n",
    "    # Cooling rate profiles\n",
    "    show_html(climahtml.getHTML_idanchor(s_plt_cooling))\n",
    "    show_markdown(climahtml.getMarkdown_sectitle(s_plt_cooling))\n",
    "    script_plt_cooling()\n",
    "    \n",
    "    # Flux comparison\n",
    "    show_html(climahtml.getHTML_idanchor(s_tb_flux))\n",
    "    show_markdown(climahtml.getMarkdown_sectitle(s_tb_flux))\n",
    "    script_tb_flux()\n",
    "    \n",
    "    # Best-fit values\n",
    "    show_html(climahtml.getHTML_idanchor(s_bestfits))\n",
    "    show_markdown(climahtml.getMarkdown_sectitle(s_bestfits))\n",
    "    print_bestfit_params()\n",
    "   \n",
    "    "
   ]
  },
  {
   "cell_type": "code",
   "execution_count": 12,
   "metadata": {
    "scrolled": false
   },
   "outputs": [
    {
     "data": {
      "text/markdown": [
       "### CLIRAD-LW"
      ],
      "text/plain": [
       "<IPython.core.display.Markdown object>"
      ]
     },
     "metadata": {},
     "output_type": "display_data"
    },
    {
     "data": {
      "text/markdown": [
       "### Table of Contents"
      ],
      "text/plain": [
       "<IPython.core.display.Markdown object>"
      ]
     },
     "metadata": {},
     "output_type": "display_data"
    },
    {
     "data": {
      "text/html": [
       "<a href=\"#Input_Parameters\">Input Parameters</a>"
      ],
      "text/plain": [
       "<IPython.core.display.HTML object>"
      ]
     },
     "metadata": {},
     "output_type": "display_data"
    },
    {
     "data": {
      "text/html": [
       "<a href=\"#LBLNEW_case_compaired_against\">LBLNEW case compaired against</a>"
      ],
      "text/plain": [
       "<IPython.core.display.HTML object>"
      ]
     },
     "metadata": {},
     "output_type": "display_data"
    },
    {
     "data": {
      "text/html": [
       "<a href=\"#Cooling_Rate_Profiles\">Cooling Rate Profiles</a>"
      ],
      "text/plain": [
       "<IPython.core.display.HTML object>"
      ]
     },
     "metadata": {},
     "output_type": "display_data"
    },
    {
     "data": {
      "text/html": [
       "<a href=\"#Flux_Comparison\">Flux Comparison</a>"
      ],
      "text/plain": [
       "<IPython.core.display.HTML object>"
      ]
     },
     "metadata": {},
     "output_type": "display_data"
    },
    {
     "data": {
      "text/html": [
       "<a href=\"#Best-fit_Parameters\">Best-fit Parameters</a>"
      ],
      "text/plain": [
       "<IPython.core.display.HTML object>"
      ]
     },
     "metadata": {},
     "output_type": "display_data"
    },
    {
     "data": {
      "text/html": [
       "<a id=\"Input_Parameters\"></a>"
      ],
      "text/plain": [
       "<IPython.core.display.HTML object>"
      ]
     },
     "metadata": {},
     "output_type": "display_data"
    },
    {
     "data": {
      "text/markdown": [
       "# Input Parameters"
      ],
      "text/plain": [
       "<IPython.core.display.Markdown object>"
      ]
     },
     "metadata": {},
     "output_type": "display_data"
    },
    {
     "name": "stdout",
     "output_type": "stream",
     "text": [
      "atmpro = mls\n",
      "band = [1]\n",
      "commitnumber = 7a7a0e1\n",
      "molecule = {'h2o': 'atmpro'}\n",
      "tsfc = 294\n"
     ]
    },
    {
     "data": {
      "text/html": [
       "<a id=\"LBLNEW_case_compaired_against\"></a>"
      ],
      "text/plain": [
       "<IPython.core.display.HTML object>"
      ]
     },
     "metadata": {},
     "output_type": "display_data"
    },
    {
     "data": {
      "text/markdown": [
       "# LBLNEW case compaired against"
      ],
      "text/plain": [
       "<IPython.core.display.Markdown object>"
      ]
     },
     "metadata": {},
     "output_type": "display_data"
    },
    {
     "name": "stdout",
     "output_type": "stream",
     "text": [
      "molecule = h2o\n",
      "band = 1\n",
      "commitnumber = d62b618\n",
      "vmin = 20\n",
      "vmax = 340\n",
      "dv = 0.001\n",
      "nv = 1000\n",
      "ref_pts = [(1, 250), (30, 250), (300, 250)]\n",
      "ng_refs = [3, 3, 6]\n",
      "ng_adju = [0, 0, 0]\n",
      "klin = 0\n",
      "option_wgt_k = 1\n",
      "wgt = [(0.2, 0.2, 0.2), (0.2, 0.2, 0.2), (0.2, 0.2, 0.65, 0.65, 0.65, 0.65)]\n",
      "w_diffuse = [(1.66, 1.66, 1.66), (1.66, 1.66, 1.66), (1.66, 1.66, 1.5, 1.5, 1.5, 1.5)]\n",
      "option_wgt_flux = 1\n",
      "atmpro = mls\n",
      "tsfc = 294\n",
      "conc = None\n",
      "option_compute_btable = 0\n",
      "option_compute_ktable = 1\n"
     ]
    },
    {
     "data": {
      "text/html": [
       "<a id=\"Cooling_Rate_Profiles\"></a>"
      ],
      "text/plain": [
       "<IPython.core.display.HTML object>"
      ]
     },
     "metadata": {},
     "output_type": "display_data"
    },
    {
     "data": {
      "text/markdown": [
       "# Cooling Rate Profiles"
      ],
      "text/plain": [
       "<IPython.core.display.Markdown object>"
      ]
     },
     "metadata": {},
     "output_type": "display_data"
    },
    {
     "data": {
      "text/html": [
       "\n",
       "<div class=\"bk-root\">\n",
       "    <div class=\"bk-plotdiv\" id=\"4d8e8a8b-6100-4618-8195-8b0f7e09b3b9\"></div>\n",
       "</div>"
      ]
     },
     "metadata": {},
     "output_type": "display_data"
    },
    {
     "data": {
      "application/javascript": [
       "(function(root) {\n",
       "  function embed_document(root) {\n",
       "    \n",
       "  var docs_json = {\"afc8ae94-5ad1-4fc2-aa5c-2bf890b6f77c\":{\"roots\":{\"references\":[{\"attributes\":{\"dimension\":1,\"plot\":{\"id\":\"d24abd4b-e995-4c27-9236-e34b70d2c5e9\",\"subtype\":\"Figure\",\"type\":\"Plot\"},\"ticker\":{\"id\":\"5e1fb7a9-e24a-45c9-96c6-a7c38d1d4ce4\",\"type\":\"BasicTicker\"}},\"id\":\"6bca21b9-bcfc-4411-aa32-24860fe6731d\",\"type\":\"Grid\"},{\"attributes\":{\"children\":[{\"id\":\"d24abd4b-e995-4c27-9236-e34b70d2c5e9\",\"subtype\":\"Figure\",\"type\":\"Plot\"},{\"id\":\"63c2f4d4-e450-45c3-8882-abb562120763\",\"subtype\":\"Figure\",\"type\":\"Plot\"}]},\"id\":\"9b8dc6b5-bb7b-42c6-ba12-52ec4f6d5800\",\"type\":\"Row\"},{\"attributes\":{},\"id\":\"5c414a3f-6f55-417e-a182-35bb9bb6d3d0\",\"type\":\"WheelZoomTool\"},{\"attributes\":{},\"id\":\"c881260f-3255-4fcc-beaa-ea93d2ce0a3d\",\"type\":\"SaveTool\"},{\"attributes\":{},\"id\":\"eb8b5367-7b56-49ee-b248-676b81514410\",\"type\":\"ResetTool\"},{\"attributes\":{\"overlay\":{\"id\":\"3358673e-5752-4e30-a806-b613438ece0f\",\"type\":\"BoxAnnotation\"}},\"id\":\"2d9e90ea-35a9-405c-be48-90273b7ed006\",\"type\":\"BoxZoomTool\"},{\"attributes\":{\"bottom_units\":\"screen\",\"fill_alpha\":{\"value\":0.5},\"fill_color\":{\"value\":\"lightgrey\"},\"left_units\":\"screen\",\"level\":\"overlay\",\"line_alpha\":{\"value\":1.0},\"line_color\":{\"value\":\"black\"},\"line_dash\":[4,4],\"line_width\":{\"value\":2},\"plot\":null,\"render_mode\":\"css\",\"right_units\":\"screen\",\"top_units\":\"screen\"},\"id\":\"5a08868d-e88b-488f-8f57-070213b4ba72\",\"type\":\"BoxAnnotation\"},{\"attributes\":{},\"id\":\"601fefc4-971b-464c-855e-147ba6157490\",\"type\":\"WheelZoomTool\"},{\"attributes\":{\"line_alpha\":0.6,\"line_color\":\"#e41a1c\",\"line_dash\":[6],\"line_width\":5,\"x\":{\"field\":\"x\"},\"y\":{\"field\":\"y\"}},\"id\":\"a9ed8b5b-d47b-4b6c-950e-c5a045930952\",\"type\":\"Line\"},{\"attributes\":{\"plot\":{\"id\":\"d24abd4b-e995-4c27-9236-e34b70d2c5e9\",\"subtype\":\"Figure\",\"type\":\"Plot\"},\"ticker\":{\"id\":\"28bbfc74-1cdd-4148-89ab-88db2bd89cc3\",\"type\":\"BasicTicker\"}},\"id\":\"9c657191-065e-444d-8538-413b1feccf46\",\"type\":\"Grid\"},{\"attributes\":{},\"id\":\"5eb5d897-3aed-4114-84fc-1da45e9bf28b\",\"type\":\"PanTool\"},{\"attributes\":{\"callback\":null,\"end\":0.01,\"start\":1020},\"id\":\"d32b3752-f917-4098-88cd-528c0434a450\",\"type\":\"Range1d\"},{\"attributes\":{\"overlay\":{\"id\":\"5a08868d-e88b-488f-8f57-070213b4ba72\",\"type\":\"BoxAnnotation\"}},\"id\":\"66d8b2d3-ff34-4d5c-8920-2a7ad722e24e\",\"type\":\"BoxZoomTool\"},{\"attributes\":{\"line_alpha\":0.1,\"line_color\":\"#1f77b4\",\"line_dash\":[6],\"line_width\":5,\"x\":{\"field\":\"x\"},\"y\":{\"field\":\"y\"}},\"id\":\"39b2e70e-103d-4897-b105-b48e4d61986e\",\"type\":\"Line\"},{\"attributes\":{\"items\":[{\"id\":\"de529a8f-ec96-4b94-a718-a4b034e6ec5c\",\"type\":\"LegendItem\"},{\"id\":\"bd22280f-329e-4e63-a02d-c5895c7a1741\",\"type\":\"LegendItem\"},{\"id\":\"66eecb47-a47c-4e09-9ee5-d3ffbd4a35f8\",\"type\":\"LegendItem\"}],\"label_text_font_size\":{\"value\":\"8pt\"},\"location\":[10,-30],\"plot\":{\"id\":\"63c2f4d4-e450-45c3-8882-abb562120763\",\"subtype\":\"Figure\",\"type\":\"Plot\"}},\"id\":\"466376a5-3e1d-4448-a3ee-8bcf47245690\",\"type\":\"Legend\"},{\"attributes\":{},\"id\":\"555d3b79-8583-4cf2-a8a7-2a62d487faab\",\"type\":\"BasicTickFormatter\"},{\"attributes\":{\"children\":[{\"id\":\"9b8dc6b5-bb7b-42c6-ba12-52ec4f6d5800\",\"type\":\"Row\"}]},\"id\":\"dc786391-6ef4-4422-8d56-a73c9ebb2bdc\",\"type\":\"Column\"},{\"attributes\":{\"callback\":null,\"column_names\":[\"x\",\"y\"],\"data\":{\"x\":{\"__ndarray__\":\"NRNnoI2HDkBY0A9+PboOQFkL/V3pNg1ARvhy+tUHCkDgNq7akFoKQE1Ps5t09gVAQqIaQAndAkDIBKFh1gAAQC1X5HxWHvk/ZNes6TD18z/g1XJnJnjwP9bSkn1GGOs/d+r8obqV5j+fPTR/jqfhP60STRxQYdo/4MjyZO3l1j8hAFkE1lzWP9rMAJucb9Y/jprpPRnM1z9RPalhhfzZP/rkk9sXjNw/d74b4opR4D8lvX9efojjP4aNsn4zMeU/KXB4YlKT5D9FuE3h1tfiP2yM530tGeE/vRl3e/fk3T/05zY8GMzaP6aZD4Q7gtk/ygWhm4H61z+zqJn/oarVP2IuDAUqa9Q/7hTdQKJF0z8im1ieD2jRP1AWIemRjs4/d/wwpaLvyj8Mqz54aRrJP6KNbWP9MMc/39RRH5Jrxj9+0v1aZurRP8Hbi4HYJuY/iJtTyQDw8T8WkoJdA9H2PwK+NnbkI/Y/Fe5L7JCx8T9nlBVgq8btPwTvHn/tKeg/IW+gXRFe4z8dCyMg0xjgP4lTGCFdqNo/7NhK4L0A1D+haYmV0cjKP0O4uHzaF8A/IMDOv/DZsT+vprXgelGjP/Tc1brzFZc/s0WG4K4akD9rt5+EgBmHP6bxFSGYSoE/g6LJImU0ez8uVfOh7rh2Pzrlu19/dXQ/MMcL3ll4dD8iMJM/WAF3P2D0m93o0H4/C/D+9Ha2hT8pvKg2aEqLP7EPIoFV4Yo/g1U2ocl0hD/Ryb5iBzl6P2rZ5r/xgHA/RmrafBX9Zj9SiSp9mvNhP3Ce9AIPs6Y/\",\"dtype\":\"float64\",\"shape\":[75]},\"y\":{\"__ndarray__\":\"S/O/Q+51ND/430zAtpRIP2vylNV0PVE/QxsjCssuWD/TR4Z78fVgP+inNsRxymc/OuuBfZWvcD/u3TFA02d3P2d3VoBnaoA/CD5h5MAGhz/1pA8HUCaQP+zrCsc9p5Y/Fb7LAKjGnz/nJ9c/SEmmPwBD+fzcQq8/FOZwv9nstT8Er5Y7M8G+P0c+r3jqkcU/yK72qKZBzj+tM989FzjVPxbgmr8yxN0/cOm5AXbg5D+5ctXAf0jtP5kqGJXUifQ/DsrqDELP/D8MCAhBojQEQDItVnmnVwxAiFXNvdHgE0BSSZ2AJuIbQAMJih9jjiNA5q4l5INuK0CPVN/5RT0zQHzxRXu8/DpAOZ7PgHrtQkAg8wGBzoxKQBSTN8DMeFJA2NmQf2ZqWEAAAAAAAFxeQEQX1LfMJmJAmpmZmZkfZUBmZmZmZhhoQLzoK0gzEWtAAAAAAAAKbkCiC+pbZoFwQAhyUMLM/XFA+I2vPTN6c0AQ5KCEmfZ0QAAAAAAAc3ZA8Btfe2bvd0AIclDCzGt5QPeNrz0z6HpAEOSghJlkfEAAAAAAAOF9QKML6ltmXX9ABTkoYeZsgED7xteeGSuBQAhyUMJM6YFAAAAAAICngkD4ja89s2WDQAU5KGHmI4RA+8bXnhnihEAIclDCTKCFQAAAAACAXoZA+I2vPbMch0AFOShh5tqHQPvG154ZmYhACHJQwkxXiUAAAAAAgBWKQPeNrz2z04pABTkoYeaRi0D7xteeGVCMQAlyUMJMDo1AAAAAAIDMjUD3ja89s4qOQGZmZmbmSI9A\",\"dtype\":\"float64\",\"shape\":[75]}}},\"id\":\"abf39f13-78eb-4352-902d-23ebce90c357\",\"type\":\"ColumnDataSource\"},{\"attributes\":{\"data_source\":{\"id\":\"92b397bf-3481-4752-a766-95f9866b04d5\",\"type\":\"ColumnDataSource\"},\"glyph\":{\"id\":\"e9469aaf-ec90-40ec-bab3-4a82e20ed375\",\"type\":\"Square\"},\"hover_glyph\":null,\"muted_glyph\":null,\"nonselection_glyph\":{\"id\":\"b67cd35c-951c-44ff-b05a-cd3d7b794008\",\"type\":\"Square\"},\"selection_glyph\":null,\"view\":{\"id\":\"d5a1c93b-2f0b-46ce-b2fe-ddc5a0718cb8\",\"type\":\"CDSView\"}},\"id\":\"49c07c8c-a33f-4ab8-a897-f8b2491ca3b8\",\"type\":\"GlyphRenderer\"},{\"attributes\":{\"data_source\":{\"id\":\"d64b11e9-caa9-40f4-9a24-ea23918b7a09\",\"type\":\"ColumnDataSource\"},\"glyph\":{\"id\":\"f942d297-2043-4a15-a561-b49c7ec2b659\",\"type\":\"Line\"},\"hover_glyph\":null,\"muted_glyph\":null,\"nonselection_glyph\":{\"id\":\"9af2fb3d-a8d9-4feb-98ad-c324d3171a87\",\"type\":\"Line\"},\"selection_glyph\":null,\"view\":{\"id\":\"89631683-7344-4529-b552-cde0a64e4c34\",\"type\":\"CDSView\"}},\"id\":\"404f0625-6308-498d-9f57-ae43d4b81140\",\"type\":\"GlyphRenderer\"},{\"attributes\":{\"source\":{\"id\":\"09e8f8a0-f695-4509-bc81-f4f5aaa01e1e\",\"type\":\"ColumnDataSource\"}},\"id\":\"72402359-44bd-44b8-a9bf-a409d24ed82f\",\"type\":\"CDSView\"},{\"attributes\":{\"axis_label\":\"cooling rate [K/day]\",\"formatter\":{\"id\":\"1880769e-0430-4c1d-a122-8b9b247629f3\",\"type\":\"BasicTickFormatter\"},\"plot\":{\"id\":\"63c2f4d4-e450-45c3-8882-abb562120763\",\"subtype\":\"Figure\",\"type\":\"Plot\"},\"ticker\":{\"id\":\"9b2363f9-cf2b-4d6a-9b87-b15805381ad3\",\"type\":\"BasicTicker\"}},\"id\":\"c09190d0-f78f-4356-9d0a-e09dd11a5954\",\"type\":\"LinearAxis\"},{\"attributes\":{},\"id\":\"5e1fb7a9-e24a-45c9-96c6-a7c38d1d4ce4\",\"type\":\"BasicTicker\"},{\"attributes\":{\"callback\":null,\"column_names\":[\"x\",\"y\"],\"data\":{\"x\":{\"__ndarray__\":\"15a7W73PEUCEmstqaH4PQAM1tppFsA1AUCSfRKFyC0CGyc/IrfsIQKgcEuNqHQZABpnHcGUMA0AKc6XUutj/P6qLi1NA8/o/IwODedWv9D+X0N67xbzwP7Y2oInQTOs/0+rG++Im5j/yPKdkdirhP+7vsdTR/dk/1eQ+I41x2D9pWIxViHnXP6RiXOBn7Nc/gzCl4Rwd2T+4jKLxUXTbP+gULoAEO98/Ac6DQ2r24T/1KAInj2flP6WxZDKSzOY/0i9BUH/a5T/SwxT9+c3jPxcWv85X4uE/Wn/zPfAW4D9gEcxSPqncPwSh0gb0Cts/9bfUponV2T9eO0cIvhnXP7g++0fbrdU/qozPXrWM1D9SufGRFm7SP4hw7T1hNdA/k9swUVB4zT93kdGTMPjKP7XuC+Gbocg/+OtVCwtKxz+UYHpDmoTSP98P3OuB6eY/pfffEVYh8j+tLvaj5dL2PzCPH4uAl/U/EIIFKq5N8T/nd/W/e0vtP4i+owtKueY/vgFoEoGI4j9CvLLU1TfeP7Fg2Zd0uto/rI6eXY6S0T+uC9VaCKzIP0cDIAo1QsA/jFBzEt3Csz/CCl0EakynPxDV8zhadJ8/3Rti7nDRjj9YuO3qMC6HP/6OTi74t4E/DgPu+Wjpez+NoG6KrLZ3Py7eNZ96JXU/jM9KrAP+dD8C2Srvwnh3P6K9eisKyX4/3z9ld7K/hT+Tu35xqUOLP5KJGhtF44o/bdXfXQ11hD9u9h/UHDh6P8wHaYCwhXA/geF5cU/sZj+wRSdv/fVhP4yTadBOtaY/\",\"dtype\":\"float64\",\"shape\":[75]},\"y\":{\"__ndarray__\":\"GhExyth1ND/Sv8nbtpRIP2vylNV0PVE/aTum7souWD/At0SJ8fVgPw3Iuahxymc/MSNhhJWvcD/bTfBN02d3P2zb5nxnaoA/CD5h5MAGhz8NmeH1TyaQP+zrCsc9p5Y/LbKd76fGnz/bLW5ISEmmPww9YvTcQq8/JV2OstnstT8Er5Y7M8G+P0c+r3jqkcU/5h99k6ZBzj88bCIzFzjVP4enV8oyxN0//yH99nXg5D8qOpLLf0jtP5kqGJXUifQ/c9cS8kHP/D+/DpwzojQEQIEmwoanVwxA4lgXt9HgE0BSSZ2AJuIbQAMJih9jjiNA5q4l5INuK0AwTKYKRj0zQNv5fmq8/DpAaCJseHrtQkB/+zpwzoxKQM3MzMzMeFJAZmZmZmZqWEAAAAAAAFxeQM3MzMzMJmJAmpmZmZkfZUBmZmZmZhhoQDMzMzMzEWtAAAAAAAAKbkBmZmZmZoFwQM3MzMzM/XFAMzMzMzN6c0CamZmZmfZ0QAAAAAAAc3ZAZmZmZmbvd0DNzMzMzGt5QDMzMzMz6HpAmpmZmZlkfEAAAAAAAOF9QGZmZmZmXX9AZmZmZuZsgECamZmZGSuBQM3MzMxM6YFAAAAAAICngkAzMzMzs2WDQGZmZmbmI4RAmpmZmRnihEDNzMzMTKCFQAAAAACAXoZAMzMzM7Mch0BmZmZm5tqHQJqZmZkZmYhAzczMzExXiUAAAAAAgBWKQDMzMzOz04pAZmZmZuaRi0CamZmZGVCMQM3MzMxMDo1AAAAAAIDMjUAzMzMzs4qOQGZmZmbmSI9A\",\"dtype\":\"float64\",\"shape\":[75]}}},\"id\":\"d64b11e9-caa9-40f4-9a24-ea23918b7a09\",\"type\":\"ColumnDataSource\"},{\"attributes\":{\"toolbar\":{\"id\":\"7657bae2-34a6-4ab1-95e8-7596196b9d3d\",\"type\":\"ProxyToolbar\"},\"toolbar_location\":\"above\"},\"id\":\"ba98d3ea-8c46-46db-b07a-5b920c40d6b7\",\"type\":\"ToolbarBox\"},{\"attributes\":{\"bottom_units\":\"screen\",\"fill_alpha\":{\"value\":0.5},\"fill_color\":{\"value\":\"lightgrey\"},\"left_units\":\"screen\",\"level\":\"overlay\",\"line_alpha\":{\"value\":1.0},\"line_color\":{\"value\":\"black\"},\"line_dash\":[4,4],\"line_width\":{\"value\":2},\"plot\":null,\"render_mode\":\"css\",\"right_units\":\"screen\",\"top_units\":\"screen\"},\"id\":\"3358673e-5752-4e30-a806-b613438ece0f\",\"type\":\"BoxAnnotation\"},{\"attributes\":{},\"id\":\"b84c934c-2bf4-480c-a036-9e79c9a1bad4\",\"type\":\"HelpTool\"},{\"attributes\":{\"callback\":null,\"column_names\":[\"x\",\"y\"],\"data\":{\"x\":{\"__ndarray__\":\"NRNnoI2HDkBY0A9+PboOQFkL/V3pNg1ARvhy+tUHCkDgNq7akFoKQE1Ps5t09gVAQqIaQAndAkDIBKFh1gAAQC1X5HxWHvk/ZNes6TD18z/g1XJnJnjwP9bSkn1GGOs/d+r8obqV5j+fPTR/jqfhP60STRxQYdo/4MjyZO3l1j8hAFkE1lzWP9rMAJucb9Y/jprpPRnM1z9RPalhhfzZP/rkk9sXjNw/d74b4opR4D8lvX9efojjP4aNsn4zMeU/KXB4YlKT5D9FuE3h1tfiP2yM530tGeE/vRl3e/fk3T/05zY8GMzaP6aZD4Q7gtk/ygWhm4H61z+zqJn/oarVP2IuDAUqa9Q/7hTdQKJF0z8im1ieD2jRP1AWIemRjs4/d/wwpaLvyj8Mqz54aRrJP6KNbWP9MMc/39RRH5Jrxj9+0v1aZurRP8Hbi4HYJuY/iJtTyQDw8T8WkoJdA9H2PwK+NnbkI/Y/Fe5L7JCx8T9nlBVgq8btPwTvHn/tKeg/IW+gXRFe4z8dCyMg0xjgP4lTGCFdqNo/7NhK4L0A1D+haYmV0cjKP0O4uHzaF8A/IMDOv/DZsT+vprXgelGjP/Tc1brzFZc/s0WG4K4akD9rt5+EgBmHP6bxFSGYSoE/g6LJImU0ez8uVfOh7rh2Pzrlu19/dXQ/MMcL3ll4dD8iMJM/WAF3P2D0m93o0H4/C/D+9Ha2hT8pvKg2aEqLP7EPIoFV4Yo/g1U2ocl0hD/Ryb5iBzl6P2rZ5r/xgHA/RmrafBX9Zj9SiSp9mvNhP3Ce9AIPs6Y/\",\"dtype\":\"float64\",\"shape\":[75]},\"y\":{\"__ndarray__\":\"S/O/Q+51ND/430zAtpRIP2vylNV0PVE/QxsjCssuWD/TR4Z78fVgP+inNsRxymc/OuuBfZWvcD/u3TFA02d3P2d3VoBnaoA/CD5h5MAGhz/1pA8HUCaQP+zrCsc9p5Y/Fb7LAKjGnz/nJ9c/SEmmPwBD+fzcQq8/FOZwv9nstT8Er5Y7M8G+P0c+r3jqkcU/yK72qKZBzj+tM989FzjVPxbgmr8yxN0/cOm5AXbg5D+5ctXAf0jtP5kqGJXUifQ/DsrqDELP/D8MCAhBojQEQDItVnmnVwxAiFXNvdHgE0BSSZ2AJuIbQAMJih9jjiNA5q4l5INuK0CPVN/5RT0zQHzxRXu8/DpAOZ7PgHrtQkAg8wGBzoxKQBSTN8DMeFJA2NmQf2ZqWEAAAAAAAFxeQEQX1LfMJmJAmpmZmZkfZUBmZmZmZhhoQLzoK0gzEWtAAAAAAAAKbkCiC+pbZoFwQAhyUMLM/XFA+I2vPTN6c0AQ5KCEmfZ0QAAAAAAAc3ZA8Btfe2bvd0AIclDCzGt5QPeNrz0z6HpAEOSghJlkfEAAAAAAAOF9QKML6ltmXX9ABTkoYeZsgED7xteeGSuBQAhyUMJM6YFAAAAAAICngkD4ja89s2WDQAU5KGHmI4RA+8bXnhnihEAIclDCTKCFQAAAAACAXoZA+I2vPbMch0AFOShh5tqHQPvG154ZmYhACHJQwkxXiUAAAAAAgBWKQPeNrz2z04pABTkoYeaRi0D7xteeGVCMQAlyUMJMDo1AAAAAAIDMjUD3ja89s4qOQGZmZmbmSI9A\",\"dtype\":\"float64\",\"shape\":[75]}}},\"id\":\"09e8f8a0-f695-4509-bc81-f4f5aaa01e1e\",\"type\":\"ColumnDataSource\"},{\"attributes\":{\"plot\":{\"id\":\"63c2f4d4-e450-45c3-8882-abb562120763\",\"subtype\":\"Figure\",\"type\":\"Plot\"},\"ticker\":{\"id\":\"9b2363f9-cf2b-4d6a-9b87-b15805381ad3\",\"type\":\"BasicTicker\"}},\"id\":\"b6f0cddc-6342-4f9d-b4ad-df0eb975fb44\",\"type\":\"Grid\"},{\"attributes\":{\"plot\":null,\"text\":\"Log pressure scale\"},\"id\":\"90f1a83d-a863-4e0d-a3a8-3d9219f3c0a2\",\"type\":\"Title\"},{\"attributes\":{},\"id\":\"2dbe920e-99d5-4611-a126-15c540af8976\",\"type\":\"ResetTool\"},{\"attributes\":{\"source\":{\"id\":\"d64b11e9-caa9-40f4-9a24-ea23918b7a09\",\"type\":\"ColumnDataSource\"}},\"id\":\"89631683-7344-4529-b552-cde0a64e4c34\",\"type\":\"CDSView\"},{\"attributes\":{},\"id\":\"a39230fb-438e-471a-8b9a-42bccfaba87f\",\"type\":\"LinearScale\"},{\"attributes\":{},\"id\":\"b6d3e4c2-97c4-4fa9-9f9a-e051bc21ce8b\",\"type\":\"SaveTool\"},{\"attributes\":{\"below\":[{\"id\":\"c09190d0-f78f-4356-9d0a-e09dd11a5954\",\"type\":\"LinearAxis\"}],\"left\":[{\"id\":\"321dfa59-9562-4575-88e5-ce02dc04e88c\",\"type\":\"LogAxis\"}],\"plot_height\":500,\"plot_width\":560,\"renderers\":[{\"id\":\"c09190d0-f78f-4356-9d0a-e09dd11a5954\",\"type\":\"LinearAxis\"},{\"id\":\"b6f0cddc-6342-4f9d-b4ad-df0eb975fb44\",\"type\":\"Grid\"},{\"id\":\"321dfa59-9562-4575-88e5-ce02dc04e88c\",\"type\":\"LogAxis\"},{\"id\":\"994a86d5-fa40-4811-bc95-ee7498adffeb\",\"type\":\"Grid\"},{\"id\":\"3358673e-5752-4e30-a806-b613438ece0f\",\"type\":\"BoxAnnotation\"},{\"id\":\"3be311b4-182e-4c09-b5f1-ce55cd5722ca\",\"type\":\"GlyphRenderer\"},{\"id\":\"dcad66df-b012-4285-9b47-cec1f153fcea\",\"type\":\"GlyphRenderer\"},{\"id\":\"ec35f1fc-8852-43d9-b498-134b704dba32\",\"type\":\"GlyphRenderer\"},{\"id\":\"30381c6b-c7b2-4d40-aa2b-2fa671e4cb08\",\"type\":\"GlyphRenderer\"},{\"id\":\"98046075-74bb-418f-878d-65192b12d493\",\"type\":\"GlyphRenderer\"},{\"id\":\"466376a5-3e1d-4448-a3ee-8bcf47245690\",\"type\":\"Legend\"}],\"right\":[{\"id\":\"466376a5-3e1d-4448-a3ee-8bcf47245690\",\"type\":\"Legend\"}],\"title\":{\"id\":\"90f1a83d-a863-4e0d-a3a8-3d9219f3c0a2\",\"type\":\"Title\"},\"toolbar\":{\"id\":\"f5fcc498-87c8-4397-b1fb-01497f48d667\",\"type\":\"Toolbar\"},\"toolbar_location\":null,\"x_range\":{\"id\":\"6fdcb60d-d1ae-4e88-96de-5802f1afbb17\",\"type\":\"Range1d\"},\"x_scale\":{\"id\":\"a39230fb-438e-471a-8b9a-42bccfaba87f\",\"type\":\"LinearScale\"},\"y_range\":{\"id\":\"d32b3752-f917-4098-88cd-528c0434a450\",\"type\":\"Range1d\"},\"y_scale\":{\"id\":\"29cba8ee-2baa-4be7-bf49-87b415aaeee1\",\"type\":\"LogScale\"}},\"id\":\"63c2f4d4-e450-45c3-8882-abb562120763\",\"subtype\":\"Figure\",\"type\":\"Plot\"},{\"attributes\":{\"active_drag\":\"auto\",\"active_inspect\":\"auto\",\"active_scroll\":\"auto\",\"active_tap\":\"auto\",\"tools\":[{\"id\":\"8c9dc6ff-2a2b-42d5-ac40-95b67e941d6a\",\"type\":\"PanTool\"},{\"id\":\"5c414a3f-6f55-417e-a182-35bb9bb6d3d0\",\"type\":\"WheelZoomTool\"},{\"id\":\"2d9e90ea-35a9-405c-be48-90273b7ed006\",\"type\":\"BoxZoomTool\"},{\"id\":\"c881260f-3255-4fcc-beaa-ea93d2ce0a3d\",\"type\":\"SaveTool\"},{\"id\":\"eb8b5367-7b56-49ee-b248-676b81514410\",\"type\":\"ResetTool\"},{\"id\":\"a844781d-f8ee-4e7a-8954-1327550baf8d\",\"type\":\"HelpTool\"}]},\"id\":\"f5fcc498-87c8-4397-b1fb-01497f48d667\",\"type\":\"Toolbar\"},{\"attributes\":{\"num_minor_ticks\":10},\"id\":\"afa80a34-736a-4db9-9cc5-eb2a06a79a97\",\"type\":\"LogTicker\"},{\"attributes\":{\"line_alpha\":0.1,\"line_color\":\"#1f77b4\",\"line_width\":3,\"x\":{\"field\":\"x\"},\"y\":{\"field\":\"y\"}},\"id\":\"9af2fb3d-a8d9-4feb-98ad-c324d3171a87\",\"type\":\"Line\"},{\"attributes\":{\"label\":{\"value\":\"CLIRAD `coolr_bands`\"},\"renderers\":[{\"id\":\"3be311b4-182e-4c09-b5f1-ce55cd5722ca\",\"type\":\"GlyphRenderer\"}]},\"id\":\"de529a8f-ec96-4b94-a718-a4b034e6ec5c\",\"type\":\"LegendItem\"},{\"attributes\":{\"source\":{\"id\":\"92b397bf-3481-4752-a766-95f9866b04d5\",\"type\":\"ColumnDataSource\"}},\"id\":\"d5a1c93b-2f0b-46ce-b2fe-ddc5a0718cb8\",\"type\":\"CDSView\"},{\"attributes\":{\"source\":{\"id\":\"88b335bb-c38d-43d8-822c-8b04edf791bd\",\"type\":\"ColumnDataSource\"}},\"id\":\"e636c9e9-71ff-4416-92a5-7c03188c1bc8\",\"type\":\"CDSView\"},{\"attributes\":{\"line_alpha\":0.6,\"line_color\":\"#984ea3\",\"line_width\":3,\"x\":{\"field\":\"x\"},\"y\":{\"field\":\"y\"}},\"id\":\"f942d297-2043-4a15-a561-b49c7ec2b659\",\"type\":\"Line\"},{\"attributes\":{\"line_alpha\":0.6,\"line_color\":\"#e41a1c\",\"line_dash\":[6],\"line_width\":5,\"x\":{\"field\":\"x\"},\"y\":{\"field\":\"y\"}},\"id\":\"3c79c82b-5cfb-4d31-9f65-d8778f715e8a\",\"type\":\"Line\"},{\"attributes\":{},\"id\":\"a844781d-f8ee-4e7a-8954-1327550baf8d\",\"type\":\"HelpTool\"},{\"attributes\":{\"fill_alpha\":{\"value\":0.7},\"fill_color\":{\"value\":\"#984ea3\"},\"line_alpha\":{\"value\":0.7},\"line_color\":{\"value\":\"#984ea3\"},\"x\":{\"field\":\"x\"},\"y\":{\"field\":\"y\"}},\"id\":\"e9469aaf-ec90-40ec-bab3-4a82e20ed375\",\"type\":\"Square\"},{\"attributes\":{},\"id\":\"8c9dc6ff-2a2b-42d5-ac40-95b67e941d6a\",\"type\":\"PanTool\"},{\"attributes\":{\"callback\":null,\"end\":1.4407315052629321,\"start\":-0.012051617289732},\"id\":\"14697802-a968-416f-b508-fbb0b2c5d41d\",\"type\":\"Range1d\"},{\"attributes\":{},\"id\":\"9b2363f9-cf2b-4d6a-9b87-b15805381ad3\",\"type\":\"BasicTicker\"},{\"attributes\":{\"line_alpha\":0.1,\"line_color\":\"#1f77b4\",\"line_dash\":[6],\"line_width\":5,\"x\":{\"field\":\"x\"},\"y\":{\"field\":\"y\"}},\"id\":\"156d975d-aea9-4b26-9c16-cd1268aadef9\",\"type\":\"Line\"},{\"attributes\":{\"fill_alpha\":{\"value\":0.1},\"fill_color\":{\"value\":\"#1f77b4\"},\"line_alpha\":{\"value\":0.1},\"line_color\":{\"value\":\"#1f77b4\"},\"x\":{\"field\":\"x\"},\"y\":{\"field\":\"y\"}},\"id\":\"b67cd35c-951c-44ff-b05a-cd3d7b794008\",\"type\":\"Square\"},{\"attributes\":{\"axis_label\":\"pressure [mb]\",\"formatter\":{\"id\":\"555d3b79-8583-4cf2-a8a7-2a62d487faab\",\"type\":\"BasicTickFormatter\"},\"plot\":{\"id\":\"d24abd4b-e995-4c27-9236-e34b70d2c5e9\",\"subtype\":\"Figure\",\"type\":\"Plot\"},\"ticker\":{\"id\":\"5e1fb7a9-e24a-45c9-96c6-a7c38d1d4ce4\",\"type\":\"BasicTicker\"}},\"id\":\"b4805c60-f8ed-4178-8bfa-29d76d496f27\",\"type\":\"LinearAxis\"},{\"attributes\":{\"callback\":null,\"end\":0.01,\"start\":1020},\"id\":\"7acc5a2c-cae3-40fd-bcb7-a1c689ccf866\",\"type\":\"Range1d\"},{\"attributes\":{\"ticker\":null},\"id\":\"7735670b-e258-4c0a-a722-eef81000da9c\",\"type\":\"LogTickFormatter\"},{\"attributes\":{\"axis_label\":\"pressure [mb]\",\"formatter\":{\"id\":\"7735670b-e258-4c0a-a722-eef81000da9c\",\"type\":\"LogTickFormatter\"},\"plot\":{\"id\":\"63c2f4d4-e450-45c3-8882-abb562120763\",\"subtype\":\"Figure\",\"type\":\"Plot\"},\"ticker\":{\"id\":\"afa80a34-736a-4db9-9cc5-eb2a06a79a97\",\"type\":\"LogTicker\"}},\"id\":\"321dfa59-9562-4575-88e5-ce02dc04e88c\",\"type\":\"LogAxis\"},{\"attributes\":{\"data_source\":{\"id\":\"09e8f8a0-f695-4509-bc81-f4f5aaa01e1e\",\"type\":\"ColumnDataSource\"},\"glyph\":{\"id\":\"3c79c82b-5cfb-4d31-9f65-d8778f715e8a\",\"type\":\"Line\"},\"hover_glyph\":null,\"muted_glyph\":null,\"nonselection_glyph\":{\"id\":\"156d975d-aea9-4b26-9c16-cd1268aadef9\",\"type\":\"Line\"},\"selection_glyph\":null,\"view\":{\"id\":\"72402359-44bd-44b8-a9bf-a409d24ed82f\",\"type\":\"CDSView\"}},\"id\":\"9e050eb5-6310-4e57-989d-db0257ed9a63\",\"type\":\"GlyphRenderer\"},{\"attributes\":{},\"id\":\"1880769e-0430-4c1d-a122-8b9b247629f3\",\"type\":\"BasicTickFormatter\"},{\"attributes\":{\"fill_alpha\":{\"value\":0.7},\"fill_color\":{\"value\":\"#4daf4a\"},\"line_alpha\":{\"value\":0.7},\"line_color\":{\"value\":\"#4daf4a\"},\"x\":{\"field\":\"x\"},\"y\":{\"field\":\"y\"}},\"id\":\"d2ef4416-a1e2-4c81-a9a8-fea2dcb149f6\",\"type\":\"Circle\"},{\"attributes\":{\"data_source\":{\"id\":\"abf39f13-78eb-4352-902d-23ebce90c357\",\"type\":\"ColumnDataSource\"},\"glyph\":{\"id\":\"a9ed8b5b-d47b-4b6c-950e-c5a045930952\",\"type\":\"Line\"},\"hover_glyph\":null,\"muted_glyph\":null,\"nonselection_glyph\":{\"id\":\"39b2e70e-103d-4897-b105-b48e4d61986e\",\"type\":\"Line\"},\"selection_glyph\":null,\"view\":{\"id\":\"efea8403-2dce-4d8a-843f-bd877791ba07\",\"type\":\"CDSView\"}},\"id\":\"3be311b4-182e-4c09-b5f1-ce55cd5722ca\",\"type\":\"GlyphRenderer\"},{\"attributes\":{},\"id\":\"29cba8ee-2baa-4be7-bf49-87b415aaeee1\",\"type\":\"LogScale\"},{\"attributes\":{\"fill_alpha\":{\"value\":0.1},\"fill_color\":{\"value\":\"#1f77b4\"},\"line_alpha\":{\"value\":0.1},\"line_color\":{\"value\":\"#1f77b4\"},\"x\":{\"field\":\"x\"},\"y\":{\"field\":\"y\"}},\"id\":\"d77031e3-f11c-47cc-8853-97ec6d38862c\",\"type\":\"Circle\"},{\"attributes\":{\"axis_label\":\"cooling rate [K/day]\",\"formatter\":{\"id\":\"cd4215f4-3cbf-4c22-b9d9-0c4ee66e16e3\",\"type\":\"BasicTickFormatter\"},\"plot\":{\"id\":\"d24abd4b-e995-4c27-9236-e34b70d2c5e9\",\"subtype\":\"Figure\",\"type\":\"Plot\"},\"ticker\":{\"id\":\"28bbfc74-1cdd-4148-89ab-88db2bd89cc3\",\"type\":\"BasicTicker\"}},\"id\":\"03acfac5-eb0b-40a6-8aa5-d0e25d597daa\",\"type\":\"LinearAxis\"},{\"attributes\":{\"callback\":null,\"column_names\":[\"x\",\"y\"],\"data\":{\"x\":{\"__ndarray__\":\"Ms46PrUlGkCRxNz/ETcUQKzWeJ+ZJhJA2JyDZ0ITEEDBCCtf4Z4LQDkVBOoowgdAn7k999QgBEAGEhQ/xswAQLo1RHC3v/s/pxB+mHN/9j8/JZ03BB3yPySaoztGYew/iMzoid/b5T9V5+ZVfAfgP5F/RQI2tdc/Jbn0FqxE1j8MiYOdxf/XP1GttkniuNg/no98bx1t2T/fkKG+wMfaPzk+Qf+QQN0/wP/a6gfP4D84kKKMwHHjP+Cq498E0uM/qYHN1k1L4j8rNkEvN/PgPwrys5Hrpt8/EKiCesiO3T+oMs7XE7rbP8doHVVNENo/lB3R811A2D9t4iabWSjWP+fVSjK8Y9Q/02Ai99cf0z8Ozq//naHRP7BAT16/u88/qI40POZRzT9+bxW8zw7MP1SSEg7/4ck//5vup4ygyD/jySxKIh7TP5uyDbtzEec/MhP7usJR8j8BPcOKCQD2P4SKBRlc7vU/6Q69IH1u8T/9IhWE+u/rP8o444eMX+c//KQ90p564z8LvoKXjQzgPyKGBCkEtNk/tf518hLx0j+cLFol/eLKP5Sy2jZr9ME/8hwxfSawtz89Lo7wFHeuPwDAnYPowqM/RwJ/i13BmT/iKuSE6JSQP3CvIFsDTIY/cCas6Y+rfz99+dZjeO55P9xhNxYSvHY/s0Qzg3vUdT9MYRON/QJ4P0uCJVPURH8/7IotxdTkhT++YrJdRlaLP2bakflm7Io/+BygiEF4hD+ayaYKdTl6P2xLQRgvhnA/JXAI6fLsZj9UJ3EsoPZhP5/wMPJUtaY/\",\"dtype\":\"float64\",\"shape\":[75]},\"y\":{\"__ndarray__\":\"GhExyth1ND/Sv8nbtpRIP2vylNV0PVE/aTum7souWD/At0SJ8fVgPw3Iuahxymc/MSNhhJWvcD/bTfBN02d3P2zb5nxnaoA/CD5h5MAGhz8NmeH1TyaQP+zrCsc9p5Y/LbKd76fGnz/bLW5ISEmmPww9YvTcQq8/JV2OstnstT8Er5Y7M8G+P0c+r3jqkcU/5h99k6ZBzj88bCIzFzjVP4enV8oyxN0//yH99nXg5D8qOpLLf0jtP5kqGJXUifQ/c9cS8kHP/D+/DpwzojQEQIEmwoanVwxA4lgXt9HgE0BSSZ2AJuIbQAMJih9jjiNA5q4l5INuK0AwTKYKRj0zQNv5fmq8/DpAaCJseHrtQkB/+zpwzoxKQM3MzMzMeFJAZmZmZmZqWEAAAAAAAFxeQM3MzMzMJmJAmpmZmZkfZUBmZmZmZhhoQDMzMzMzEWtAAAAAAAAKbkBmZmZmZoFwQM3MzMzM/XFAMzMzMzN6c0CamZmZmfZ0QAAAAAAAc3ZAZmZmZmbvd0DNzMzMzGt5QDMzMzMz6HpAmpmZmZlkfEAAAAAAAOF9QGZmZmZmXX9AZmZmZuZsgECamZmZGSuBQM3MzMxM6YFAAAAAAICngkAzMzMzs2WDQGZmZmbmI4RAmpmZmRnihEDNzMzMTKCFQAAAAACAXoZAMzMzM7Mch0BmZmZm5tqHQJqZmZkZmYhAzczMzExXiUAAAAAAgBWKQDMzMzOz04pAZmZmZuaRi0CamZmZGVCMQM3MzMxMDo1AAAAAAIDMjUAzMzMzs4qOQGZmZmbmSI9A\",\"dtype\":\"float64\",\"shape\":[75]}}},\"id\":\"88b335bb-c38d-43d8-822c-8b04edf791bd\",\"type\":\"ColumnDataSource\"},{\"attributes\":{\"data_source\":{\"id\":\"74fa6031-0d32-4cd0-9a98-cad266570f6b\",\"type\":\"ColumnDataSource\"},\"glyph\":{\"id\":\"d2ef4416-a1e2-4c81-a9a8-fea2dcb149f6\",\"type\":\"Circle\"},\"hover_glyph\":null,\"muted_glyph\":null,\"nonselection_glyph\":{\"id\":\"192e7c14-7f17-440a-9b16-e1115be23be4\",\"type\":\"Circle\"},\"selection_glyph\":null,\"view\":{\"id\":\"150a2ad7-a5e7-4cfe-954d-ac894e9f7932\",\"type\":\"CDSView\"}},\"id\":\"dcad66df-b012-4285-9b47-cec1f153fcea\",\"type\":\"GlyphRenderer\"},{\"attributes\":{\"line_alpha\":0.1,\"line_color\":\"#1f77b4\",\"line_width\":1.5,\"x\":{\"field\":\"x\"},\"y\":{\"field\":\"y\"}},\"id\":\"bde48c71-8550-4a93-a4d7-d12eae17b7cd\",\"type\":\"Line\"},{\"attributes\":{\"active_drag\":\"auto\",\"active_inspect\":\"auto\",\"active_scroll\":\"auto\",\"active_tap\":\"auto\",\"tools\":[{\"id\":\"5eb5d897-3aed-4114-84fc-1da45e9bf28b\",\"type\":\"PanTool\"},{\"id\":\"601fefc4-971b-464c-855e-147ba6157490\",\"type\":\"WheelZoomTool\"},{\"id\":\"66d8b2d3-ff34-4d5c-8920-2a7ad722e24e\",\"type\":\"BoxZoomTool\"},{\"id\":\"b6d3e4c2-97c4-4fa9-9f9a-e051bc21ce8b\",\"type\":\"SaveTool\"},{\"id\":\"2dbe920e-99d5-4611-a126-15c540af8976\",\"type\":\"ResetTool\"},{\"id\":\"b84c934c-2bf4-480c-a036-9e79c9a1bad4\",\"type\":\"HelpTool\"}]},\"id\":\"1ecfdf8d-b6ec-414f-99eb-8edb0b2e39dc\",\"type\":\"Toolbar\"},{\"attributes\":{\"callback\":null,\"column_names\":[\"x\",\"y\"],\"data\":{\"x\":{\"__ndarray__\":\"Ms46PrUlGkCRxNz/ETcUQKzWeJ+ZJhJA2JyDZ0ITEEDBCCtf4Z4LQDkVBOoowgdAn7k999QgBEAGEhQ/xswAQLo1RHC3v/s/pxB+mHN/9j8/JZ03BB3yPySaoztGYew/iMzoid/b5T9V5+ZVfAfgP5F/RQI2tdc/Jbn0FqxE1j8MiYOdxf/XP1GttkniuNg/no98bx1t2T/fkKG+wMfaPzk+Qf+QQN0/wP/a6gfP4D84kKKMwHHjP+Cq498E0uM/qYHN1k1L4j8rNkEvN/PgPwrys5Hrpt8/EKiCesiO3T+oMs7XE7rbP8doHVVNENo/lB3R811A2D9t4iabWSjWP+fVSjK8Y9Q/02Ai99cf0z8Ozq//naHRP7BAT16/u88/qI40POZRzT9+bxW8zw7MP1SSEg7/4ck//5vup4ygyD/jySxKIh7TP5uyDbtzEec/MhP7usJR8j8BPcOKCQD2P4SKBRlc7vU/6Q69IH1u8T/9IhWE+u/rP8o444eMX+c//KQ90p564z8LvoKXjQzgPyKGBCkEtNk/tf518hLx0j+cLFol/eLKP5Sy2jZr9ME/8hwxfSawtz89Lo7wFHeuPwDAnYPowqM/RwJ/i13BmT/iKuSE6JSQP3CvIFsDTIY/cCas6Y+rfz99+dZjeO55P9xhNxYSvHY/s0Qzg3vUdT9MYRON/QJ4P0uCJVPURH8/7IotxdTkhT++YrJdRlaLP2bakflm7Io/+BygiEF4hD+ayaYKdTl6P2xLQRgvhnA/JXAI6fLsZj9UJ3EsoPZhP5/wMPJUtaY/\",\"dtype\":\"float64\",\"shape\":[75]},\"y\":{\"__ndarray__\":\"GhExyth1ND/Sv8nbtpRIP2vylNV0PVE/aTum7souWD/At0SJ8fVgPw3Iuahxymc/MSNhhJWvcD/bTfBN02d3P2zb5nxnaoA/CD5h5MAGhz8NmeH1TyaQP+zrCsc9p5Y/LbKd76fGnz/bLW5ISEmmPww9YvTcQq8/JV2OstnstT8Er5Y7M8G+P0c+r3jqkcU/5h99k6ZBzj88bCIzFzjVP4enV8oyxN0//yH99nXg5D8qOpLLf0jtP5kqGJXUifQ/c9cS8kHP/D+/DpwzojQEQIEmwoanVwxA4lgXt9HgE0BSSZ2AJuIbQAMJih9jjiNA5q4l5INuK0AwTKYKRj0zQNv5fmq8/DpAaCJseHrtQkB/+zpwzoxKQM3MzMzMeFJAZmZmZmZqWEAAAAAAAFxeQM3MzMzMJmJAmpmZmZkfZUBmZmZmZhhoQDMzMzMzEWtAAAAAAAAKbkBmZmZmZoFwQM3MzMzM/XFAMzMzMzN6c0CamZmZmfZ0QAAAAAAAc3ZAZmZmZmbvd0DNzMzMzGt5QDMzMzMz6HpAmpmZmZlkfEAAAAAAAOF9QGZmZmZmXX9AZmZmZuZsgECamZmZGSuBQM3MzMxM6YFAAAAAAICngkAzMzMzs2WDQGZmZmbmI4RAmpmZmRnihEDNzMzMTKCFQAAAAACAXoZAMzMzM7Mch0BmZmZm5tqHQJqZmZkZmYhAzczMzExXiUAAAAAAgBWKQDMzMzOz04pAZmZmZuaRi0CamZmZGVCMQM3MzMxMDo1AAAAAAIDMjUAzMzMzs4qOQGZmZmbmSI9A\",\"dtype\":\"float64\",\"shape\":[75]}}},\"id\":\"9d1046d7-7076-4780-98b2-48a75489d746\",\"type\":\"ColumnDataSource\"},{\"attributes\":{\"line_color\":\"#4daf4a\",\"line_width\":1.5,\"x\":{\"field\":\"x\"},\"y\":{\"field\":\"y\"}},\"id\":\"ddd4ebe2-91b7-4414-aee1-9344c287e2a1\",\"type\":\"Line\"},{\"attributes\":{\"callback\":null,\"column_names\":[\"x\",\"y\"],\"data\":{\"x\":{\"__ndarray__\":\"Ms46PrUlGkCRxNz/ETcUQKzWeJ+ZJhJA2JyDZ0ITEEDBCCtf4Z4LQDkVBOoowgdAn7k999QgBEAGEhQ/xswAQLo1RHC3v/s/pxB+mHN/9j8/JZ03BB3yPySaoztGYew/iMzoid/b5T9V5+ZVfAfgP5F/RQI2tdc/Jbn0FqxE1j8MiYOdxf/XP1GttkniuNg/no98bx1t2T/fkKG+wMfaPzk+Qf+QQN0/wP/a6gfP4D84kKKMwHHjP+Cq498E0uM/qYHN1k1L4j8rNkEvN/PgPwrys5Hrpt8/EKiCesiO3T+oMs7XE7rbP8doHVVNENo/lB3R811A2D9t4iabWSjWP+fVSjK8Y9Q/02Ai99cf0z8Ozq//naHRP7BAT16/u88/qI40POZRzT9+bxW8zw7MP1SSEg7/4ck//5vup4ygyD/jySxKIh7TP5uyDbtzEec/MhP7usJR8j8BPcOKCQD2P4SKBRlc7vU/6Q69IH1u8T/9IhWE+u/rP8o444eMX+c//KQ90p564z8LvoKXjQzgPyKGBCkEtNk/tf518hLx0j+cLFol/eLKP5Sy2jZr9ME/8hwxfSawtz89Lo7wFHeuPwDAnYPowqM/RwJ/i13BmT/iKuSE6JSQP3CvIFsDTIY/cCas6Y+rfz99+dZjeO55P9xhNxYSvHY/s0Qzg3vUdT9MYRON/QJ4P0uCJVPURH8/7IotxdTkhT++YrJdRlaLP2bakflm7Io/+BygiEF4hD+ayaYKdTl6P2xLQRgvhnA/JXAI6fLsZj9UJ3EsoPZhP5/wMPJUtaY/\",\"dtype\":\"float64\",\"shape\":[75]},\"y\":{\"__ndarray__\":\"GhExyth1ND/Sv8nbtpRIP2vylNV0PVE/aTum7souWD/At0SJ8fVgPw3Iuahxymc/MSNhhJWvcD/bTfBN02d3P2zb5nxnaoA/CD5h5MAGhz8NmeH1TyaQP+zrCsc9p5Y/LbKd76fGnz/bLW5ISEmmPww9YvTcQq8/JV2OstnstT8Er5Y7M8G+P0c+r3jqkcU/5h99k6ZBzj88bCIzFzjVP4enV8oyxN0//yH99nXg5D8qOpLLf0jtP5kqGJXUifQ/c9cS8kHP/D+/DpwzojQEQIEmwoanVwxA4lgXt9HgE0BSSZ2AJuIbQAMJih9jjiNA5q4l5INuK0AwTKYKRj0zQNv5fmq8/DpAaCJseHrtQkB/+zpwzoxKQM3MzMzMeFJAZmZmZmZqWEAAAAAAAFxeQM3MzMzMJmJAmpmZmZkfZUBmZmZmZhhoQDMzMzMzEWtAAAAAAAAKbkBmZmZmZoFwQM3MzMzM/XFAMzMzMzN6c0CamZmZmfZ0QAAAAAAAc3ZAZmZmZmbvd0DNzMzMzGt5QDMzMzMz6HpAmpmZmZlkfEAAAAAAAOF9QGZmZmZmXX9AZmZmZuZsgECamZmZGSuBQM3MzMxM6YFAAAAAAICngkAzMzMzs2WDQGZmZmbmI4RAmpmZmRnihEDNzMzMTKCFQAAAAACAXoZAMzMzM7Mch0BmZmZm5tqHQJqZmZkZmYhAzczMzExXiUAAAAAAgBWKQDMzMzOz04pAZmZmZuaRi0CamZmZGVCMQM3MzMxMDo1AAAAAAIDMjUAzMzMzs4qOQGZmZmbmSI9A\",\"dtype\":\"float64\",\"shape\":[75]}}},\"id\":\"f77b02f0-a8b6-4a83-bf53-4ab23eca0750\",\"type\":\"ColumnDataSource\"},{\"attributes\":{},\"id\":\"28bbfc74-1cdd-4148-89ab-88db2bd89cc3\",\"type\":\"BasicTicker\"},{\"attributes\":{\"callback\":null,\"column_names\":[\"x\",\"y\"],\"data\":{\"x\":{\"__ndarray__\":\"15a7W73PEUCEmstqaH4PQAM1tppFsA1AUCSfRKFyC0CGyc/IrfsIQKgcEuNqHQZABpnHcGUMA0AKc6XUutj/P6qLi1NA8/o/IwODedWv9D+X0N67xbzwP7Y2oInQTOs/0+rG++Im5j/yPKdkdirhP+7vsdTR/dk/1eQ+I41x2D9pWIxViHnXP6RiXOBn7Nc/gzCl4Rwd2T+4jKLxUXTbP+gULoAEO98/Ac6DQ2r24T/1KAInj2flP6WxZDKSzOY/0i9BUH/a5T/SwxT9+c3jPxcWv85X4uE/Wn/zPfAW4D9gEcxSPqncPwSh0gb0Cts/9bfUponV2T9eO0cIvhnXP7g++0fbrdU/qozPXrWM1D9SufGRFm7SP4hw7T1hNdA/k9swUVB4zT93kdGTMPjKP7XuC+Gbocg/+OtVCwtKxz+UYHpDmoTSP98P3OuB6eY/pfffEVYh8j+tLvaj5dL2PzCPH4uAl/U/EIIFKq5N8T/nd/W/e0vtP4i+owtKueY/vgFoEoGI4j9CvLLU1TfeP7Fg2Zd0uto/rI6eXY6S0T+uC9VaCKzIP0cDIAo1QsA/jFBzEt3Csz/CCl0EakynPxDV8zhadJ8/3Rti7nDRjj9YuO3qMC6HP/6OTi74t4E/DgPu+Wjpez+NoG6KrLZ3Py7eNZ96JXU/jM9KrAP+dD8C2Srvwnh3P6K9eisKyX4/3z9ld7K/hT+Tu35xqUOLP5KJGhtF44o/bdXfXQ11hD9u9h/UHDh6P8wHaYCwhXA/geF5cU/sZj+wRSdv/fVhP4yTadBOtaY/\",\"dtype\":\"float64\",\"shape\":[75]},\"y\":{\"__ndarray__\":\"GhExyth1ND/Sv8nbtpRIP2vylNV0PVE/aTum7souWD/At0SJ8fVgPw3Iuahxymc/MSNhhJWvcD/bTfBN02d3P2zb5nxnaoA/CD5h5MAGhz8NmeH1TyaQP+zrCsc9p5Y/LbKd76fGnz/bLW5ISEmmPww9YvTcQq8/JV2OstnstT8Er5Y7M8G+P0c+r3jqkcU/5h99k6ZBzj88bCIzFzjVP4enV8oyxN0//yH99nXg5D8qOpLLf0jtP5kqGJXUifQ/c9cS8kHP/D+/DpwzojQEQIEmwoanVwxA4lgXt9HgE0BSSZ2AJuIbQAMJih9jjiNA5q4l5INuK0AwTKYKRj0zQNv5fmq8/DpAaCJseHrtQkB/+zpwzoxKQM3MzMzMeFJAZmZmZmZqWEAAAAAAAFxeQM3MzMzMJmJAmpmZmZkfZUBmZmZmZhhoQDMzMzMzEWtAAAAAAAAKbkBmZmZmZoFwQM3MzMzM/XFAMzMzMzN6c0CamZmZmfZ0QAAAAAAAc3ZAZmZmZmbvd0DNzMzMzGt5QDMzMzMz6HpAmpmZmZlkfEAAAAAAAOF9QGZmZmZmXX9AZmZmZuZsgECamZmZGSuBQM3MzMxM6YFAAAAAAICngkAzMzMzs2WDQGZmZmbmI4RAmpmZmRnihEDNzMzMTKCFQAAAAACAXoZAMzMzM7Mch0BmZmZm5tqHQJqZmZkZmYhAzczMzExXiUAAAAAAgBWKQDMzMzOz04pAZmZmZuaRi0CamZmZGVCMQM3MzMxMDo1AAAAAAIDMjUAzMzMzs4qOQGZmZmbmSI9A\",\"dtype\":\"float64\",\"shape\":[75]}}},\"id\":\"63ae6f5e-70e0-494d-810d-1a85aa477fde\",\"type\":\"ColumnDataSource\"},{\"attributes\":{\"fill_alpha\":{\"value\":0.1},\"fill_color\":{\"value\":\"#1f77b4\"},\"line_alpha\":{\"value\":0.1},\"line_color\":{\"value\":\"#1f77b4\"},\"x\":{\"field\":\"x\"},\"y\":{\"field\":\"y\"}},\"id\":\"192e7c14-7f17-440a-9b16-e1115be23be4\",\"type\":\"Circle\"},{\"attributes\":{\"dimension\":1,\"plot\":{\"id\":\"63c2f4d4-e450-45c3-8882-abb562120763\",\"subtype\":\"Figure\",\"type\":\"Plot\"},\"ticker\":{\"id\":\"afa80a34-736a-4db9-9cc5-eb2a06a79a97\",\"type\":\"LogTicker\"}},\"id\":\"994a86d5-fa40-4811-bc95-ee7498adffeb\",\"type\":\"Grid\"},{\"attributes\":{\"data_source\":{\"id\":\"9d1046d7-7076-4780-98b2-48a75489d746\",\"type\":\"ColumnDataSource\"},\"glyph\":{\"id\":\"ddd4ebe2-91b7-4414-aee1-9344c287e2a1\",\"type\":\"Line\"},\"hover_glyph\":null,\"muted_glyph\":null,\"nonselection_glyph\":{\"id\":\"bde48c71-8550-4a93-a4d7-d12eae17b7cd\",\"type\":\"Line\"},\"selection_glyph\":null,\"view\":{\"id\":\"32523505-bb6d-44f7-96eb-c1cc610f126b\",\"type\":\"CDSView\"}},\"id\":\"19bee6d5-8860-48bf-be42-ad5b8316d07d\",\"type\":\"GlyphRenderer\"},{\"attributes\":{\"callback\":null,\"column_names\":[\"x\",\"y\"],\"data\":{\"x\":{\"__ndarray__\":\"Ms46PrUlGkCRxNz/ETcUQKzWeJ+ZJhJA2JyDZ0ITEEDBCCtf4Z4LQDkVBOoowgdAn7k999QgBEAGEhQ/xswAQLo1RHC3v/s/pxB+mHN/9j8/JZ03BB3yPySaoztGYew/iMzoid/b5T9V5+ZVfAfgP5F/RQI2tdc/Jbn0FqxE1j8MiYOdxf/XP1GttkniuNg/no98bx1t2T/fkKG+wMfaPzk+Qf+QQN0/wP/a6gfP4D84kKKMwHHjP+Cq498E0uM/qYHN1k1L4j8rNkEvN/PgPwrys5Hrpt8/EKiCesiO3T+oMs7XE7rbP8doHVVNENo/lB3R811A2D9t4iabWSjWP+fVSjK8Y9Q/02Ai99cf0z8Ozq//naHRP7BAT16/u88/qI40POZRzT9+bxW8zw7MP1SSEg7/4ck//5vup4ygyD/jySxKIh7TP5uyDbtzEec/MhP7usJR8j8BPcOKCQD2P4SKBRlc7vU/6Q69IH1u8T/9IhWE+u/rP8o444eMX+c//KQ90p564z8LvoKXjQzgPyKGBCkEtNk/tf518hLx0j+cLFol/eLKP5Sy2jZr9ME/8hwxfSawtz89Lo7wFHeuPwDAnYPowqM/RwJ/i13BmT/iKuSE6JSQP3CvIFsDTIY/cCas6Y+rfz99+dZjeO55P9xhNxYSvHY/s0Qzg3vUdT9MYRON/QJ4P0uCJVPURH8/7IotxdTkhT++YrJdRlaLP2bakflm7Io/+BygiEF4hD+ayaYKdTl6P2xLQRgvhnA/JXAI6fLsZj9UJ3EsoPZhP5/wMPJUtaY/\",\"dtype\":\"float64\",\"shape\":[75]},\"y\":{\"__ndarray__\":\"GhExyth1ND/Sv8nbtpRIP2vylNV0PVE/aTum7souWD/At0SJ8fVgPw3Iuahxymc/MSNhhJWvcD/bTfBN02d3P2zb5nxnaoA/CD5h5MAGhz8NmeH1TyaQP+zrCsc9p5Y/LbKd76fGnz/bLW5ISEmmPww9YvTcQq8/JV2OstnstT8Er5Y7M8G+P0c+r3jqkcU/5h99k6ZBzj88bCIzFzjVP4enV8oyxN0//yH99nXg5D8qOpLLf0jtP5kqGJXUifQ/c9cS8kHP/D+/DpwzojQEQIEmwoanVwxA4lgXt9HgE0BSSZ2AJuIbQAMJih9jjiNA5q4l5INuK0AwTKYKRj0zQNv5fmq8/DpAaCJseHrtQkB/+zpwzoxKQM3MzMzMeFJAZmZmZmZqWEAAAAAAAFxeQM3MzMzMJmJAmpmZmZkfZUBmZmZmZhhoQDMzMzMzEWtAAAAAAAAKbkBmZmZmZoFwQM3MzMzM/XFAMzMzMzN6c0CamZmZmfZ0QAAAAAAAc3ZAZmZmZmbvd0DNzMzMzGt5QDMzMzMz6HpAmpmZmZlkfEAAAAAAAOF9QGZmZmZmXX9AZmZmZuZsgECamZmZGSuBQM3MzMxM6YFAAAAAAICngkAzMzMzs2WDQGZmZmbmI4RAmpmZmRnihEDNzMzMTKCFQAAAAACAXoZAMzMzM7Mch0BmZmZm5tqHQJqZmZkZmYhAzczMzExXiUAAAAAAgBWKQDMzMzOz04pAZmZmZuaRi0CamZmZGVCMQM3MzMxMDo1AAAAAAIDMjUAzMzMzs4qOQGZmZmbmSI9A\",\"dtype\":\"float64\",\"shape\":[75]}}},\"id\":\"74fa6031-0d32-4cd0-9a98-cad266570f6b\",\"type\":\"ColumnDataSource\"},{\"attributes\":{\"source\":{\"id\":\"abf39f13-78eb-4352-902d-23ebce90c357\",\"type\":\"ColumnDataSource\"}},\"id\":\"efea8403-2dce-4d8a-843f-bd877791ba07\",\"type\":\"CDSView\"},{\"attributes\":{\"data_source\":{\"id\":\"63ae6f5e-70e0-494d-810d-1a85aa477fde\",\"type\":\"ColumnDataSource\"},\"glyph\":{\"id\":\"a073aa60-b769-4732-8ae3-d5553eaf39a9\",\"type\":\"Square\"},\"hover_glyph\":null,\"muted_glyph\":null,\"nonselection_glyph\":{\"id\":\"f7506763-8670-465f-a25d-f6b9210ad68a\",\"type\":\"Square\"},\"selection_glyph\":null,\"view\":{\"id\":\"4e3e6d7c-3510-444d-b629-c404750fd835\",\"type\":\"CDSView\"}},\"id\":\"30381c6b-c7b2-4d40-aa2b-2fa671e4cb08\",\"type\":\"GlyphRenderer\"},{\"attributes\":{\"tools\":[{\"id\":\"5eb5d897-3aed-4114-84fc-1da45e9bf28b\",\"type\":\"PanTool\"},{\"id\":\"601fefc4-971b-464c-855e-147ba6157490\",\"type\":\"WheelZoomTool\"},{\"id\":\"66d8b2d3-ff34-4d5c-8920-2a7ad722e24e\",\"type\":\"BoxZoomTool\"},{\"id\":\"b6d3e4c2-97c4-4fa9-9f9a-e051bc21ce8b\",\"type\":\"SaveTool\"},{\"id\":\"2dbe920e-99d5-4611-a126-15c540af8976\",\"type\":\"ResetTool\"},{\"id\":\"b84c934c-2bf4-480c-a036-9e79c9a1bad4\",\"type\":\"HelpTool\"},{\"id\":\"8c9dc6ff-2a2b-42d5-ac40-95b67e941d6a\",\"type\":\"PanTool\"},{\"id\":\"5c414a3f-6f55-417e-a182-35bb9bb6d3d0\",\"type\":\"WheelZoomTool\"},{\"id\":\"2d9e90ea-35a9-405c-be48-90273b7ed006\",\"type\":\"BoxZoomTool\"},{\"id\":\"c881260f-3255-4fcc-beaa-ea93d2ce0a3d\",\"type\":\"SaveTool\"},{\"id\":\"eb8b5367-7b56-49ee-b248-676b81514410\",\"type\":\"ResetTool\"},{\"id\":\"a844781d-f8ee-4e7a-8954-1327550baf8d\",\"type\":\"HelpTool\"}]},\"id\":\"7657bae2-34a6-4ab1-95e8-7596196b9d3d\",\"type\":\"ProxyToolbar\"},{\"attributes\":{\"source\":{\"id\":\"74fa6031-0d32-4cd0-9a98-cad266570f6b\",\"type\":\"ColumnDataSource\"}},\"id\":\"150a2ad7-a5e7-4cfe-954d-ac894e9f7932\",\"type\":\"CDSView\"},{\"attributes\":{\"line_color\":\"#4daf4a\",\"line_width\":1.5,\"x\":{\"field\":\"x\"},\"y\":{\"field\":\"y\"}},\"id\":\"27756bb8-50da-4fd5-8046-7d50017fa426\",\"type\":\"Line\"},{\"attributes\":{\"data_source\":{\"id\":\"f77b02f0-a8b6-4a83-bf53-4ab23eca0750\",\"type\":\"ColumnDataSource\"},\"glyph\":{\"id\":\"27756bb8-50da-4fd5-8046-7d50017fa426\",\"type\":\"Line\"},\"hover_glyph\":null,\"muted_glyph\":null,\"nonselection_glyph\":{\"id\":\"64b175b3-a566-475d-8a1e-cc68ca671129\",\"type\":\"Line\"},\"selection_glyph\":null,\"view\":{\"id\":\"5a7bf1ec-c22a-447e-97e2-ef96d727a3e7\",\"type\":\"CDSView\"}},\"id\":\"ec35f1fc-8852-43d9-b498-134b704dba32\",\"type\":\"GlyphRenderer\"},{\"attributes\":{\"callback\":null,\"column_names\":[\"x\",\"y\"],\"data\":{\"x\":{\"__ndarray__\":\"15a7W73PEUCEmstqaH4PQAM1tppFsA1AUCSfRKFyC0CGyc/IrfsIQKgcEuNqHQZABpnHcGUMA0AKc6XUutj/P6qLi1NA8/o/IwODedWv9D+X0N67xbzwP7Y2oInQTOs/0+rG++Im5j/yPKdkdirhP+7vsdTR/dk/1eQ+I41x2D9pWIxViHnXP6RiXOBn7Nc/gzCl4Rwd2T+4jKLxUXTbP+gULoAEO98/Ac6DQ2r24T/1KAInj2flP6WxZDKSzOY/0i9BUH/a5T/SwxT9+c3jPxcWv85X4uE/Wn/zPfAW4D9gEcxSPqncPwSh0gb0Cts/9bfUponV2T9eO0cIvhnXP7g++0fbrdU/qozPXrWM1D9SufGRFm7SP4hw7T1hNdA/k9swUVB4zT93kdGTMPjKP7XuC+Gbocg/+OtVCwtKxz+UYHpDmoTSP98P3OuB6eY/pfffEVYh8j+tLvaj5dL2PzCPH4uAl/U/EIIFKq5N8T/nd/W/e0vtP4i+owtKueY/vgFoEoGI4j9CvLLU1TfeP7Fg2Zd0uto/rI6eXY6S0T+uC9VaCKzIP0cDIAo1QsA/jFBzEt3Csz/CCl0EakynPxDV8zhadJ8/3Rti7nDRjj9YuO3qMC6HP/6OTi74t4E/DgPu+Wjpez+NoG6KrLZ3Py7eNZ96JXU/jM9KrAP+dD8C2Srvwnh3P6K9eisKyX4/3z9ld7K/hT+Tu35xqUOLP5KJGhtF44o/bdXfXQ11hD9u9h/UHDh6P8wHaYCwhXA/geF5cU/sZj+wRSdv/fVhP4yTadBOtaY/\",\"dtype\":\"float64\",\"shape\":[75]},\"y\":{\"__ndarray__\":\"GhExyth1ND/Sv8nbtpRIP2vylNV0PVE/aTum7souWD/At0SJ8fVgPw3Iuahxymc/MSNhhJWvcD/bTfBN02d3P2zb5nxnaoA/CD5h5MAGhz8NmeH1TyaQP+zrCsc9p5Y/LbKd76fGnz/bLW5ISEmmPww9YvTcQq8/JV2OstnstT8Er5Y7M8G+P0c+r3jqkcU/5h99k6ZBzj88bCIzFzjVP4enV8oyxN0//yH99nXg5D8qOpLLf0jtP5kqGJXUifQ/c9cS8kHP/D+/DpwzojQEQIEmwoanVwxA4lgXt9HgE0BSSZ2AJuIbQAMJih9jjiNA5q4l5INuK0AwTKYKRj0zQNv5fmq8/DpAaCJseHrtQkB/+zpwzoxKQM3MzMzMeFJAZmZmZmZqWEAAAAAAAFxeQM3MzMzMJmJAmpmZmZkfZUBmZmZmZhhoQDMzMzMzEWtAAAAAAAAKbkBmZmZmZoFwQM3MzMzM/XFAMzMzMzN6c0CamZmZmfZ0QAAAAAAAc3ZAZmZmZmbvd0DNzMzMzGt5QDMzMzMz6HpAmpmZmZlkfEAAAAAAAOF9QGZmZmZmXX9AZmZmZuZsgECamZmZGSuBQM3MzMxM6YFAAAAAAICngkAzMzMzs2WDQGZmZmbmI4RAmpmZmRnihEDNzMzMTKCFQAAAAACAXoZAMzMzM7Mch0BmZmZm5tqHQJqZmZkZmYhAzczMzExXiUAAAAAAgBWKQDMzMzOz04pAZmZmZuaRi0CamZmZGVCMQM3MzMxMDo1AAAAAAIDMjUAzMzMzs4qOQGZmZmbmSI9A\",\"dtype\":\"float64\",\"shape\":[75]}}},\"id\":\"de44ec16-427b-4206-aaa5-9c0f42d324de\",\"type\":\"ColumnDataSource\"},{\"attributes\":{\"line_alpha\":0.1,\"line_color\":\"#1f77b4\",\"line_width\":1.5,\"x\":{\"field\":\"x\"},\"y\":{\"field\":\"y\"}},\"id\":\"64b175b3-a566-475d-8a1e-cc68ca671129\",\"type\":\"Line\"},{\"attributes\":{\"plot\":null,\"text\":\"Linear pressure scale\"},\"id\":\"753beb51-8ddb-4937-842e-76ffc2acbdd5\",\"type\":\"Title\"},{\"attributes\":{\"source\":{\"id\":\"f77b02f0-a8b6-4a83-bf53-4ab23eca0750\",\"type\":\"ColumnDataSource\"}},\"id\":\"5a7bf1ec-c22a-447e-97e2-ef96d727a3e7\",\"type\":\"CDSView\"},{\"attributes\":{\"source\":{\"id\":\"9d1046d7-7076-4780-98b2-48a75489d746\",\"type\":\"ColumnDataSource\"}},\"id\":\"32523505-bb6d-44f7-96eb-c1cc610f126b\",\"type\":\"CDSView\"},{\"attributes\":{\"fill_alpha\":{\"value\":0.7},\"fill_color\":{\"value\":\"#984ea3\"},\"line_alpha\":{\"value\":0.7},\"line_color\":{\"value\":\"#984ea3\"},\"x\":{\"field\":\"x\"},\"y\":{\"field\":\"y\"}},\"id\":\"a073aa60-b769-4732-8ae3-d5553eaf39a9\",\"type\":\"Square\"},{\"attributes\":{\"data_source\":{\"id\":\"de44ec16-427b-4206-aaa5-9c0f42d324de\",\"type\":\"ColumnDataSource\"},\"glyph\":{\"id\":\"c8c34ee1-15ca-4d1a-9437-56f05617ee0d\",\"type\":\"Line\"},\"hover_glyph\":null,\"muted_glyph\":null,\"nonselection_glyph\":{\"id\":\"aa37569a-11a5-4b04-b4a0-10630db6d85a\",\"type\":\"Line\"},\"selection_glyph\":null,\"view\":{\"id\":\"23fa789b-fcb6-442d-9546-107f7d548745\",\"type\":\"CDSView\"}},\"id\":\"98046075-74bb-418f-878d-65192b12d493\",\"type\":\"GlyphRenderer\"},{\"attributes\":{\"fill_alpha\":{\"value\":0.1},\"fill_color\":{\"value\":\"#1f77b4\"},\"line_alpha\":{\"value\":0.1},\"line_color\":{\"value\":\"#1f77b4\"},\"x\":{\"field\":\"x\"},\"y\":{\"field\":\"y\"}},\"id\":\"f7506763-8670-465f-a25d-f6b9210ad68a\",\"type\":\"Square\"},{\"attributes\":{},\"id\":\"0d474867-25d4-4a01-b101-b904fb26389d\",\"type\":\"LinearScale\"},{\"attributes\":{\"callback\":null,\"end\":1.418425683,\"start\":0.16284821700000002},\"id\":\"6fdcb60d-d1ae-4e88-96de-5802f1afbb17\",\"type\":\"Range1d\"},{\"attributes\":{},\"id\":\"cd4215f4-3cbf-4c22-b9d9-0c4ee66e16e3\",\"type\":\"BasicTickFormatter\"},{\"attributes\":{\"source\":{\"id\":\"63ae6f5e-70e0-494d-810d-1a85aa477fde\",\"type\":\"ColumnDataSource\"}},\"id\":\"4e3e6d7c-3510-444d-b629-c404750fd835\",\"type\":\"CDSView\"},{\"attributes\":{\"line_alpha\":0.6,\"line_color\":\"#984ea3\",\"line_width\":3,\"x\":{\"field\":\"x\"},\"y\":{\"field\":\"y\"}},\"id\":\"c8c34ee1-15ca-4d1a-9437-56f05617ee0d\",\"type\":\"Line\"},{\"attributes\":{\"line_alpha\":0.1,\"line_color\":\"#1f77b4\",\"line_width\":3,\"x\":{\"field\":\"x\"},\"y\":{\"field\":\"y\"}},\"id\":\"aa37569a-11a5-4b04-b4a0-10630db6d85a\",\"type\":\"Line\"},{\"attributes\":{\"label\":{\"value\":\"CRD\"},\"renderers\":[{\"id\":\"dcad66df-b012-4285-9b47-cec1f153fcea\",\"type\":\"GlyphRenderer\"},{\"id\":\"ec35f1fc-8852-43d9-b498-134b704dba32\",\"type\":\"GlyphRenderer\"}]},\"id\":\"bd22280f-329e-4e63-a02d-c5895c7a1741\",\"type\":\"LegendItem\"},{\"attributes\":{\"source\":{\"id\":\"de44ec16-427b-4206-aaa5-9c0f42d324de\",\"type\":\"ColumnDataSource\"}},\"id\":\"23fa789b-fcb6-442d-9546-107f7d548745\",\"type\":\"CDSView\"},{\"attributes\":{\"label\":{\"value\":\"WGT igg=10 wgt_flux=2\"},\"renderers\":[{\"id\":\"30381c6b-c7b2-4d40-aa2b-2fa671e4cb08\",\"type\":\"GlyphRenderer\"},{\"id\":\"98046075-74bb-418f-878d-65192b12d493\",\"type\":\"GlyphRenderer\"}]},\"id\":\"66eecb47-a47c-4e09-9ee5-d3ffbd4a35f8\",\"type\":\"LegendItem\"},{\"attributes\":{},\"id\":\"b02e0047-1129-4092-94de-ce3185b8ec58\",\"type\":\"LinearScale\"},{\"attributes\":{\"children\":[{\"id\":\"ba98d3ea-8c46-46db-b07a-5b920c40d6b7\",\"type\":\"ToolbarBox\"},{\"id\":\"dc786391-6ef4-4422-8d56-a73c9ebb2bdc\",\"type\":\"Column\"}]},\"id\":\"fd6a983a-f299-4881-96e7-c6fbf6fe54a5\",\"type\":\"Column\"},{\"attributes\":{\"callback\":null,\"column_names\":[\"x\",\"y\"],\"data\":{\"x\":{\"__ndarray__\":\"15a7W73PEUCEmstqaH4PQAM1tppFsA1AUCSfRKFyC0CGyc/IrfsIQKgcEuNqHQZABpnHcGUMA0AKc6XUutj/P6qLi1NA8/o/IwODedWv9D+X0N67xbzwP7Y2oInQTOs/0+rG++Im5j/yPKdkdirhP+7vsdTR/dk/1eQ+I41x2D9pWIxViHnXP6RiXOBn7Nc/gzCl4Rwd2T+4jKLxUXTbP+gULoAEO98/Ac6DQ2r24T/1KAInj2flP6WxZDKSzOY/0i9BUH/a5T/SwxT9+c3jPxcWv85X4uE/Wn/zPfAW4D9gEcxSPqncPwSh0gb0Cts/9bfUponV2T9eO0cIvhnXP7g++0fbrdU/qozPXrWM1D9SufGRFm7SP4hw7T1hNdA/k9swUVB4zT93kdGTMPjKP7XuC+Gbocg/+OtVCwtKxz+UYHpDmoTSP98P3OuB6eY/pfffEVYh8j+tLvaj5dL2PzCPH4uAl/U/EIIFKq5N8T/nd/W/e0vtP4i+owtKueY/vgFoEoGI4j9CvLLU1TfeP7Fg2Zd0uto/rI6eXY6S0T+uC9VaCKzIP0cDIAo1QsA/jFBzEt3Csz/CCl0EakynPxDV8zhadJ8/3Rti7nDRjj9YuO3qMC6HP/6OTi74t4E/DgPu+Wjpez+NoG6KrLZ3Py7eNZ96JXU/jM9KrAP+dD8C2Srvwnh3P6K9eisKyX4/3z9ld7K/hT+Tu35xqUOLP5KJGhtF44o/bdXfXQ11hD9u9h/UHDh6P8wHaYCwhXA/geF5cU/sZj+wRSdv/fVhP4yTadBOtaY/\",\"dtype\":\"float64\",\"shape\":[75]},\"y\":{\"__ndarray__\":\"GhExyth1ND/Sv8nbtpRIP2vylNV0PVE/aTum7souWD/At0SJ8fVgPw3Iuahxymc/MSNhhJWvcD/bTfBN02d3P2zb5nxnaoA/CD5h5MAGhz8NmeH1TyaQP+zrCsc9p5Y/LbKd76fGnz/bLW5ISEmmPww9YvTcQq8/JV2OstnstT8Er5Y7M8G+P0c+r3jqkcU/5h99k6ZBzj88bCIzFzjVP4enV8oyxN0//yH99nXg5D8qOpLLf0jtP5kqGJXUifQ/c9cS8kHP/D+/DpwzojQEQIEmwoanVwxA4lgXt9HgE0BSSZ2AJuIbQAMJih9jjiNA5q4l5INuK0AwTKYKRj0zQNv5fmq8/DpAaCJseHrtQkB/+zpwzoxKQM3MzMzMeFJAZmZmZmZqWEAAAAAAAFxeQM3MzMzMJmJAmpmZmZkfZUBmZmZmZhhoQDMzMzMzEWtAAAAAAAAKbkBmZmZmZoFwQM3MzMzM/XFAMzMzMzN6c0CamZmZmfZ0QAAAAAAAc3ZAZmZmZmbvd0DNzMzMzGt5QDMzMzMz6HpAmpmZmZlkfEAAAAAAAOF9QGZmZmZmXX9AZmZmZuZsgECamZmZGSuBQM3MzMxM6YFAAAAAAICngkAzMzMzs2WDQGZmZmbmI4RAmpmZmRnihEDNzMzMTKCFQAAAAACAXoZAMzMzM7Mch0BmZmZm5tqHQJqZmZkZmYhAzczMzExXiUAAAAAAgBWKQDMzMzOz04pAZmZmZuaRi0CamZmZGVCMQM3MzMxMDo1AAAAAAIDMjUAzMzMzs4qOQGZmZmbmSI9A\",\"dtype\":\"float64\",\"shape\":[75]}}},\"id\":\"92b397bf-3481-4752-a766-95f9866b04d5\",\"type\":\"ColumnDataSource\"},{\"attributes\":{\"data_source\":{\"id\":\"88b335bb-c38d-43d8-822c-8b04edf791bd\",\"type\":\"ColumnDataSource\"},\"glyph\":{\"id\":\"eaa1077f-bc75-4866-8bfa-6a0f275a81da\",\"type\":\"Circle\"},\"hover_glyph\":null,\"muted_glyph\":null,\"nonselection_glyph\":{\"id\":\"d77031e3-f11c-47cc-8853-97ec6d38862c\",\"type\":\"Circle\"},\"selection_glyph\":null,\"view\":{\"id\":\"e636c9e9-71ff-4416-92a5-7c03188c1bc8\",\"type\":\"CDSView\"}},\"id\":\"1941e2bc-bcb7-44e8-8633-3b400186aebe\",\"type\":\"GlyphRenderer\"},{\"attributes\":{\"below\":[{\"id\":\"03acfac5-eb0b-40a6-8aa5-d0e25d597daa\",\"type\":\"LinearAxis\"}],\"left\":[{\"id\":\"b4805c60-f8ed-4178-8bfa-29d76d496f27\",\"type\":\"LinearAxis\"}],\"plot_height\":500,\"plot_width\":400,\"renderers\":[{\"id\":\"03acfac5-eb0b-40a6-8aa5-d0e25d597daa\",\"type\":\"LinearAxis\"},{\"id\":\"9c657191-065e-444d-8538-413b1feccf46\",\"type\":\"Grid\"},{\"id\":\"b4805c60-f8ed-4178-8bfa-29d76d496f27\",\"type\":\"LinearAxis\"},{\"id\":\"6bca21b9-bcfc-4411-aa32-24860fe6731d\",\"type\":\"Grid\"},{\"id\":\"5a08868d-e88b-488f-8f57-070213b4ba72\",\"type\":\"BoxAnnotation\"},{\"id\":\"9e050eb5-6310-4e57-989d-db0257ed9a63\",\"type\":\"GlyphRenderer\"},{\"id\":\"1941e2bc-bcb7-44e8-8633-3b400186aebe\",\"type\":\"GlyphRenderer\"},{\"id\":\"19bee6d5-8860-48bf-be42-ad5b8316d07d\",\"type\":\"GlyphRenderer\"},{\"id\":\"49c07c8c-a33f-4ab8-a897-f8b2491ca3b8\",\"type\":\"GlyphRenderer\"},{\"id\":\"404f0625-6308-498d-9f57-ae43d4b81140\",\"type\":\"GlyphRenderer\"}],\"title\":{\"id\":\"753beb51-8ddb-4937-842e-76ffc2acbdd5\",\"type\":\"Title\"},\"toolbar\":{\"id\":\"1ecfdf8d-b6ec-414f-99eb-8edb0b2e39dc\",\"type\":\"Toolbar\"},\"toolbar_location\":null,\"x_range\":{\"id\":\"14697802-a968-416f-b508-fbb0b2c5d41d\",\"type\":\"Range1d\"},\"x_scale\":{\"id\":\"0d474867-25d4-4a01-b101-b904fb26389d\",\"type\":\"LinearScale\"},\"y_range\":{\"id\":\"7acc5a2c-cae3-40fd-bcb7-a1c689ccf866\",\"type\":\"Range1d\"},\"y_scale\":{\"id\":\"b02e0047-1129-4092-94de-ce3185b8ec58\",\"type\":\"LinearScale\"}},\"id\":\"d24abd4b-e995-4c27-9236-e34b70d2c5e9\",\"subtype\":\"Figure\",\"type\":\"Plot\"},{\"attributes\":{\"fill_alpha\":{\"value\":0.7},\"fill_color\":{\"value\":\"#4daf4a\"},\"line_alpha\":{\"value\":0.7},\"line_color\":{\"value\":\"#4daf4a\"},\"x\":{\"field\":\"x\"},\"y\":{\"field\":\"y\"}},\"id\":\"eaa1077f-bc75-4866-8bfa-6a0f275a81da\",\"type\":\"Circle\"}],\"root_ids\":[\"fd6a983a-f299-4881-96e7-c6fbf6fe54a5\"]},\"title\":\"Bokeh Application\",\"version\":\"0.12.14\"}};\n",
       "  var render_items = [{\"docid\":\"afc8ae94-5ad1-4fc2-aa5c-2bf890b6f77c\",\"elementid\":\"4d8e8a8b-6100-4618-8195-8b0f7e09b3b9\",\"modelid\":\"fd6a983a-f299-4881-96e7-c6fbf6fe54a5\"}];\n",
       "  root.Bokeh.embed.embed_items_notebook(docs_json, render_items);\n",
       "\n",
       "  }\n",
       "  if (root.Bokeh !== undefined) {\n",
       "    embed_document(root);\n",
       "  } else {\n",
       "    var attempts = 0;\n",
       "    var timer = setInterval(function(root) {\n",
       "      if (root.Bokeh !== undefined) {\n",
       "        embed_document(root);\n",
       "        clearInterval(timer);\n",
       "      }\n",
       "      attempts++;\n",
       "      if (attempts > 100) {\n",
       "        console.log(\"Bokeh: ERROR: Unable to run BokehJS code because BokehJS library is missing\")\n",
       "        clearInterval(timer);\n",
       "      }\n",
       "    }, 10, root)\n",
       "  }\n",
       "})(window);"
      ],
      "application/vnd.bokehjs_exec.v0+json": ""
     },
     "metadata": {
      "application/vnd.bokehjs_exec.v0+json": {
       "id": "fd6a983a-f299-4881-96e7-c6fbf6fe54a5"
      }
     },
     "output_type": "display_data"
    },
    {
     "name": "stdout",
     "output_type": "stream",
     "text": [
      "FIGURE. Cooling rate profiles.\n"
     ]
    },
    {
     "data": {
      "text/html": [
       "<a id=\"Flux_Comparison\"></a>"
      ],
      "text/plain": [
       "<IPython.core.display.HTML object>"
      ]
     },
     "metadata": {},
     "output_type": "display_data"
    },
    {
     "data": {
      "text/markdown": [
       "# Flux Comparison"
      ],
      "text/plain": [
       "<IPython.core.display.Markdown object>"
      ]
     },
     "metadata": {},
     "output_type": "display_data"
    },
    {
     "data": {
      "text/html": [
       "<div>\n",
       "<style>\n",
       "    .dataframe thead tr:only-child th {\n",
       "        text-align: right;\n",
       "    }\n",
       "\n",
       "    .dataframe thead th {\n",
       "        text-align: left;\n",
       "    }\n",
       "\n",
       "    .dataframe tbody tr th {\n",
       "        vertical-align: top;\n",
       "    }\n",
       "</style>\n",
       "<table border=\"1\" class=\"dataframe\">\n",
       "  <thead>\n",
       "    <tr style=\"text-align: right;\">\n",
       "      <th></th>\n",
       "      <th></th>\n",
       "      <th>flug</th>\n",
       "      <th>fldg</th>\n",
       "      <th>fnetg</th>\n",
       "    </tr>\n",
       "    <tr>\n",
       "      <th>pressure</th>\n",
       "      <th>level</th>\n",
       "      <th></th>\n",
       "      <th></th>\n",
       "      <th></th>\n",
       "    </tr>\n",
       "  </thead>\n",
       "  <tbody>\n",
       "    <tr>\n",
       "      <th>0.0000</th>\n",
       "      <th>1</th>\n",
       "      <td>-33.972061</td>\n",
       "      <td>0.000000</td>\n",
       "      <td>-33.972061</td>\n",
       "    </tr>\n",
       "    <tr>\n",
       "      <th>1.0685</th>\n",
       "      <th>24</th>\n",
       "      <td>-33.976504</td>\n",
       "      <td>0.074683</td>\n",
       "      <td>-33.901822</td>\n",
       "    </tr>\n",
       "    <tr>\n",
       "      <th>1013.0000</th>\n",
       "      <th>76</th>\n",
       "      <td>-51.073428</td>\n",
       "      <td>50.951360</td>\n",
       "      <td>-0.122070</td>\n",
       "    </tr>\n",
       "  </tbody>\n",
       "</table>\n",
       "</div>"
      ],
      "text/plain": [
       "                      flug       fldg      fnetg\n",
       "pressure  level                                 \n",
       "0.0000    1     -33.972061   0.000000 -33.972061\n",
       "1.0685    24    -33.976504   0.074683 -33.901822\n",
       "1013.0000 76    -51.073428  50.951360  -0.122070"
      ]
     },
     "metadata": {},
     "output_type": "display_data"
    },
    {
     "name": "stdout",
     "output_type": "stream",
     "text": [
      "Table. Fluxes. WGT igg=10 wgt_flux=1\n"
     ]
    },
    {
     "data": {
      "text/html": [
       "<div>\n",
       "<style>\n",
       "    .dataframe thead tr:only-child th {\n",
       "        text-align: right;\n",
       "    }\n",
       "\n",
       "    .dataframe thead th {\n",
       "        text-align: left;\n",
       "    }\n",
       "\n",
       "    .dataframe tbody tr th {\n",
       "        vertical-align: top;\n",
       "    }\n",
       "</style>\n",
       "<table border=\"1\" class=\"dataframe\">\n",
       "  <thead>\n",
       "    <tr style=\"text-align: right;\">\n",
       "      <th></th>\n",
       "      <th></th>\n",
       "      <th>flug</th>\n",
       "      <th>fldg</th>\n",
       "      <th>fnetg</th>\n",
       "    </tr>\n",
       "    <tr>\n",
       "      <th>pressure</th>\n",
       "      <th>level</th>\n",
       "      <th></th>\n",
       "      <th></th>\n",
       "      <th></th>\n",
       "    </tr>\n",
       "  </thead>\n",
       "  <tbody>\n",
       "    <tr>\n",
       "      <th>0.0000</th>\n",
       "      <th>1</th>\n",
       "      <td>-34.252009</td>\n",
       "      <td>0.000000</td>\n",
       "      <td>-34.252009</td>\n",
       "    </tr>\n",
       "    <tr>\n",
       "      <th>1.0685</th>\n",
       "      <th>24</th>\n",
       "      <td>-34.258875</td>\n",
       "      <td>0.073632</td>\n",
       "      <td>-34.185243</td>\n",
       "    </tr>\n",
       "    <tr>\n",
       "      <th>1013.0000</th>\n",
       "      <th>76</th>\n",
       "      <td>-51.073429</td>\n",
       "      <td>50.951359</td>\n",
       "      <td>-0.122070</td>\n",
       "    </tr>\n",
       "  </tbody>\n",
       "</table>\n",
       "</div>"
      ],
      "text/plain": [
       "                      flug       fldg      fnetg\n",
       "pressure  level                                 \n",
       "0.0000    1     -34.252009   0.000000 -34.252009\n",
       "1.0685    24    -34.258875   0.073632 -34.185243\n",
       "1013.0000 76    -51.073429  50.951359  -0.122070"
      ]
     },
     "metadata": {},
     "output_type": "display_data"
    },
    {
     "name": "stdout",
     "output_type": "stream",
     "text": [
      "Table. Fluxes. CRD\n"
     ]
    },
    {
     "data": {
      "text/html": [
       "<div>\n",
       "<style>\n",
       "    .dataframe thead tr:only-child th {\n",
       "        text-align: right;\n",
       "    }\n",
       "\n",
       "    .dataframe thead th {\n",
       "        text-align: left;\n",
       "    }\n",
       "\n",
       "    .dataframe tbody tr th {\n",
       "        vertical-align: top;\n",
       "    }\n",
       "</style>\n",
       "<table border=\"1\" class=\"dataframe\">\n",
       "  <thead>\n",
       "    <tr style=\"text-align: right;\">\n",
       "      <th></th>\n",
       "      <th></th>\n",
       "      <th>flug</th>\n",
       "      <th>fldg</th>\n",
       "      <th>fnetg</th>\n",
       "    </tr>\n",
       "    <tr>\n",
       "      <th>pressure</th>\n",
       "      <th>level</th>\n",
       "      <th></th>\n",
       "      <th></th>\n",
       "      <th></th>\n",
       "    </tr>\n",
       "  </thead>\n",
       "  <tbody>\n",
       "    <tr>\n",
       "      <th>1.000000e-08</th>\n",
       "      <th>1</th>\n",
       "      <td>-34.073521</td>\n",
       "      <td>0.000000</td>\n",
       "      <td>-34.073521</td>\n",
       "    </tr>\n",
       "    <tr>\n",
       "      <th>1.068500e+00</th>\n",
       "      <th>24</th>\n",
       "      <td>-34.078304</td>\n",
       "      <td>0.069915</td>\n",
       "      <td>-34.008389</td>\n",
       "    </tr>\n",
       "    <tr>\n",
       "      <th>1.013000e+03</th>\n",
       "      <th>76</th>\n",
       "      <td>-51.073433</td>\n",
       "      <td>50.951340</td>\n",
       "      <td>-0.122093</td>\n",
       "    </tr>\n",
       "  </tbody>\n",
       "</table>\n",
       "</div>"
      ],
      "text/plain": [
       "                         flug       fldg      fnetg\n",
       "pressure     level                                 \n",
       "1.000000e-08 1     -34.073521   0.000000 -34.073521\n",
       "1.068500e+00 24    -34.078304   0.069915 -34.008389\n",
       "1.013000e+03 76    -51.073433  50.951340  -0.122093"
      ]
     },
     "metadata": {},
     "output_type": "display_data"
    },
    {
     "name": "stdout",
     "output_type": "stream",
     "text": [
      "Table. Fluxes. CLIRAD\n"
     ]
    },
    {
     "data": {
      "text/html": [
       "<div>\n",
       "<style>\n",
       "    .dataframe thead tr:only-child th {\n",
       "        text-align: right;\n",
       "    }\n",
       "\n",
       "    .dataframe thead th {\n",
       "        text-align: left;\n",
       "    }\n",
       "\n",
       "    .dataframe tbody tr th {\n",
       "        vertical-align: top;\n",
       "    }\n",
       "</style>\n",
       "<table border=\"1\" class=\"dataframe\">\n",
       "  <thead>\n",
       "    <tr style=\"text-align: right;\">\n",
       "      <th></th>\n",
       "      <th></th>\n",
       "      <th>flug</th>\n",
       "      <th>fldg</th>\n",
       "      <th>fnetg</th>\n",
       "    </tr>\n",
       "    <tr>\n",
       "      <th>pressure</th>\n",
       "      <th>level</th>\n",
       "      <th></th>\n",
       "      <th></th>\n",
       "      <th></th>\n",
       "    </tr>\n",
       "  </thead>\n",
       "  <tbody>\n",
       "    <tr>\n",
       "      <th>0.0000</th>\n",
       "      <th>1</th>\n",
       "      <td>-2.799480e-01</td>\n",
       "      <td>0.000000e+00</td>\n",
       "      <td>-2.799480e-01</td>\n",
       "    </tr>\n",
       "    <tr>\n",
       "      <th>1.0685</th>\n",
       "      <th>24</th>\n",
       "      <td>-2.823705e-01</td>\n",
       "      <td>-1.050693e-03</td>\n",
       "      <td>-2.834209e-01</td>\n",
       "    </tr>\n",
       "    <tr>\n",
       "      <th>1013.0000</th>\n",
       "      <th>76</th>\n",
       "      <td>-6.007000e-07</td>\n",
       "      <td>-9.476000e-07</td>\n",
       "      <td>-5.506360e-07</td>\n",
       "    </tr>\n",
       "  </tbody>\n",
       "</table>\n",
       "</div>"
      ],
      "text/plain": [
       "                         flug          fldg         fnetg\n",
       "pressure  level                                          \n",
       "0.0000    1     -2.799480e-01  0.000000e+00 -2.799480e-01\n",
       "1.0685    24    -2.823705e-01 -1.050693e-03 -2.834209e-01\n",
       "1013.0000 76    -6.007000e-07 -9.476000e-07 -5.506360e-07"
      ]
     },
     "metadata": {},
     "output_type": "display_data"
    },
    {
     "name": "stdout",
     "output_type": "stream",
     "text": [
      "Table. Fluxes. (CRD) - (WGT igg=10 wgt_flux=1)\n"
     ]
    },
    {
     "data": {
      "text/html": [
       "<div>\n",
       "<style>\n",
       "    .dataframe thead tr:only-child th {\n",
       "        text-align: right;\n",
       "    }\n",
       "\n",
       "    .dataframe thead th {\n",
       "        text-align: left;\n",
       "    }\n",
       "\n",
       "    .dataframe tbody tr th {\n",
       "        vertical-align: top;\n",
       "    }\n",
       "</style>\n",
       "<table border=\"1\" class=\"dataframe\">\n",
       "  <thead>\n",
       "    <tr style=\"text-align: right;\">\n",
       "      <th></th>\n",
       "      <th></th>\n",
       "      <th>flug</th>\n",
       "      <th>fldg</th>\n",
       "      <th>fnetg</th>\n",
       "    </tr>\n",
       "    <tr>\n",
       "      <th>pressure</th>\n",
       "      <th>level</th>\n",
       "      <th></th>\n",
       "      <th></th>\n",
       "      <th></th>\n",
       "    </tr>\n",
       "  </thead>\n",
       "  <tbody>\n",
       "    <tr>\n",
       "      <th>0.0000</th>\n",
       "      <th>1</th>\n",
       "      <td>-0.101460</td>\n",
       "      <td>0.000000</td>\n",
       "      <td>-0.101460</td>\n",
       "    </tr>\n",
       "    <tr>\n",
       "      <th>1.0685</th>\n",
       "      <th>24</th>\n",
       "      <td>-0.101800</td>\n",
       "      <td>-0.004768</td>\n",
       "      <td>-0.106567</td>\n",
       "    </tr>\n",
       "    <tr>\n",
       "      <th>1013.0000</th>\n",
       "      <th>76</th>\n",
       "      <td>-0.000005</td>\n",
       "      <td>-0.000020</td>\n",
       "      <td>-0.000024</td>\n",
       "    </tr>\n",
       "  </tbody>\n",
       "</table>\n",
       "</div>"
      ],
      "text/plain": [
       "                     flug      fldg     fnetg\n",
       "pressure  level                              \n",
       "0.0000    1     -0.101460  0.000000 -0.101460\n",
       "1.0685    24    -0.101800 -0.004768 -0.106567\n",
       "1013.0000 76    -0.000005 -0.000020 -0.000024"
      ]
     },
     "metadata": {},
     "output_type": "display_data"
    },
    {
     "name": "stdout",
     "output_type": "stream",
     "text": [
      "Table. Fluxes. (CLIRAD) - (WGT igg=10 wgt_flux=1)\n"
     ]
    },
    {
     "data": {
      "text/html": [
       "<a id=\"Best-fit_Parameters\"></a>"
      ],
      "text/plain": [
       "<IPython.core.display.HTML object>"
      ]
     },
     "metadata": {},
     "output_type": "display_data"
    },
    {
     "data": {
      "text/markdown": [
       "# Best-fit Parameters"
      ],
      "text/plain": [
       "<IPython.core.display.Markdown object>"
      ]
     },
     "metadata": {},
     "output_type": "display_data"
    },
    {
     "name": "stdout",
     "output_type": "stream",
     "text": [
      "Best-fit values for each (gas, band)\n",
      "------------------------------------\n",
      "o h2o band1\n",
      "  molecule = h2o\n",
      "  band = 1\n",
      "  commitnumber = d62b618\n",
      "  vmin = 20\n",
      "  vmax = 340\n",
      "  dv = 0.001\n",
      "  nv = 1000\n",
      "  ref_pts = [(1, 250), (30, 250), (300, 250)]\n",
      "  ng_refs = [3, 3, 6]\n",
      "  ng_adju = [0, 0, 0]\n",
      "  klin = 0\n",
      "  option_wgt_k = 1\n",
      "  wgt = [(0.2, 0.2, 0.2), (0.2, 0.2, 0.2), (0.2, 0.2, 0.65, 0.65, 0.65, 0.65)]\n",
      "  w_diffuse = [(1.66, 1.66, 1.66), (1.66, 1.66, 1.66), (1.66, 1.66, 1.5, 1.5, 1.5, 1.5)]\n",
      "  option_wgt_flux = 1\n",
      "  atmpro = mls\n",
      "  tsfc = 294\n",
      "  conc = None\n",
      "  option_compute_btable = 0\n",
      "  option_compute_ktable = 1\n"
     ]
    }
   ],
   "source": [
    "script()"
   ]
  },
  {
   "cell_type": "code",
   "execution_count": 13,
   "metadata": {},
   "outputs": [
    {
     "data": {
      "text/html": [
       "<script>\n",
       "code_show=true; \n",
       "function code_toggle() {\n",
       " if (code_show){\n",
       " $('div.input').hide();\n",
       " } else {\n",
       " $('div.input').show();\n",
       " }\n",
       " code_show = !code_show\n",
       "} \n",
       "$( document ).ready(code_toggle);\n",
       "</script>\n",
       "<form action=\"javascript:code_toggle()\"><input type=\"submit\" value=\"Click here to toggle on/off the raw code.\"></form>"
      ],
      "text/plain": [
       "<IPython.core.display.HTML object>"
      ]
     },
     "execution_count": 13,
     "metadata": {},
     "output_type": "execute_result"
    }
   ],
   "source": [
    "display.HTML('''<script>\n",
    "code_show=true; \n",
    "function code_toggle() {\n",
    " if (code_show){\n",
    " $('div.input').hide();\n",
    " } else {\n",
    " $('div.input').show();\n",
    " }\n",
    " code_show = !code_show\n",
    "} \n",
    "$( document ).ready(code_toggle);\n",
    "</script>\n",
    "<form action=\"javascript:code_toggle()\"><input type=\"submit\" value=\"Click here to toggle on/off the raw code.\"></form>''')"
   ]
  }
 ],
 "metadata": {
  "kernelspec": {
   "display_name": "Python 3",
   "language": "python",
   "name": "python3"
  },
  "language_info": {
   "codemirror_mode": {
    "name": "ipython",
    "version": 3
   },
   "file_extension": ".py",
   "mimetype": "text/x-python",
   "name": "python",
   "nbconvert_exporter": "python",
   "pygments_lexer": "ipython3",
   "version": "3.6.1"
  }
 },
 "nbformat": 4,
 "nbformat_minor": 2
}
