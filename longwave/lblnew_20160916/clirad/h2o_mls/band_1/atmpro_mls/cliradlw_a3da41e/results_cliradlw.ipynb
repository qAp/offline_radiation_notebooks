{
 "cells": [
  {
   "cell_type": "code",
   "execution_count": 1,
   "metadata": {
    "collapsed": true
   },
   "outputs": [],
   "source": [
    "%matplotlib inline\n",
    "import os\n",
    "import re\n",
    "import io\n",
    "import itertools\n",
    "import pprint\n",
    "\n",
    "from bokeh.io import output_notebook, show\n",
    "from bokeh.layouts import gridplot\n",
    "from bokeh.plotting import figure\n",
    "from bokeh.models import Range1d, Legend\n",
    "from bokeh.palettes import all_palettes\n",
    "\n",
    "import matplotlib\n",
    "import matplotlib.pyplot as plt\n",
    "import numpy as np\n",
    "import pandas as pd\n",
    "import xarray as xr\n",
    "\n",
    "import climatools.lblnew.bestfit_params as bestfits\n",
    "from climatools.lblnew import setup_bestfit, setup_overlap\n",
    "import climatools.lblnew.pipeline as pipe_lblnew\n",
    "import climatools.cliradlw.setup as setup_cliradlw\n",
    "import climatools.cliradlw.pipeline as pipe_cliradlw\n",
    "\n",
    "import climatools.html.html as climahtml\n",
    "from climatools.lblnew.dataio import *\n",
    "from climatools.plot.plot import *\n",
    "\n",
    "\n",
    "import IPython.display as display"
   ]
  },
  {
   "cell_type": "code",
   "execution_count": 2,
   "metadata": {
    "collapsed": true
   },
   "outputs": [],
   "source": [
    "%run param.py"
   ]
  },
  {
   "cell_type": "code",
   "execution_count": 3,
   "metadata": {
    "collapsed": true
   },
   "outputs": [],
   "source": [
    "def load_output_file(path_csv):\n",
    "    '''\n",
    "    Load lblnew output .csv file to xarray.Dataset\n",
    "    \n",
    "    Parameters\n",
    "    ----------\n",
    "    path_csv: str\n",
    "              Path to the .csv file to be loaded.\n",
    "    ds: xarray.Dataset\n",
    "        Data in the input file in the form of an xarray.Dataset.\n",
    "    '''\n",
    "    toindex = ['band', 'pressure', 'igg', 'g']    \n",
    "    df = pd.read_csv(path_csv, sep=r'\\s+')\n",
    "    df = df.set_index([i for i in toindex if i in df.columns])\n",
    "    df = df.rename(columns={'sfu': 'flug',\n",
    "                            'sfd': 'fldg',\n",
    "                            'fnet': 'fnetg',\n",
    "                            'coolr': 'coolrg'})\n",
    "    ds = xr.Dataset.from_dataframe(df)\n",
    "\n",
    "    for l in ('level', 'layer'):\n",
    "        if l in ds.data_vars:\n",
    "            if len(ds[l].dims) > 1:\n",
    "                surface = {d: 0 for d in ds.dims if d != 'pressure'}\n",
    "                coord_level = ds[l][surface]\n",
    "                ds.coords[l] = ('pressure', coord_level)\n",
    "            else:\n",
    "                ds.coords[l] = ('pressure', ds[l])\n",
    "    \n",
    "    return ds"
   ]
  },
  {
   "cell_type": "code",
   "execution_count": 4,
   "metadata": {
    "collapsed": true
   },
   "outputs": [],
   "source": [
    "def lblnew_setup(param=None):\n",
    "    if 'ng_refs' in param:\n",
    "        return {'setup': setup_bestfit,\n",
    "                'fname_flux_crd': 'output_flux.dat',\n",
    "                'fname_cool_crd': 'output_coolr.dat',\n",
    "                'fname_flux_wgt': 'output_wfluxg.dat',\n",
    "                'fname_cool_wgt': 'output_wcoolrg.dat'}\n",
    "    else:\n",
    "        return {'setup': setup_overlap,\n",
    "                'fname_flux_crd': 'output_flux.dat',\n",
    "                'fname_cool_crd': 'output_coolr.dat',\n",
    "                'fname_flux_wgt': 'output_wflux.dat',\n",
    "                'fname_cool_wgt': 'output_wcoolr.dat'}\n",
    "\n",
    "    \n",
    "def load_lblnew_data(param):\n",
    "    \n",
    "    fname_dsname = [('fname_flux_crd', 'ds_flux_crd'),\n",
    "                    ('fname_cool_crd', 'ds_cool_crd'),\n",
    "                    ('fname_flux_wgt', 'ds_flux_wgt'),\n",
    "                    ('fname_cool_wgt', 'ds_cool_wgt')]\n",
    "    \n",
    "    d = lblnew_setup(param)\n",
    "    dir_fortran = pipe_lblnew.get_dir_case(param, setup=d['setup'])\n",
    "    \n",
    "    data_dict = {}\n",
    "    for fname, dsname in fname_dsname:\n",
    "        fpath = os.path.join(dir_fortran, d[fname])\n",
    "        data_dict[dsname] = load_output_file(fpath)\n",
    "    return data_dict\n",
    "    \n",
    "\n",
    "    \n",
    "    "
   ]
  },
  {
   "cell_type": "code",
   "execution_count": 5,
   "metadata": {
    "collapsed": true
   },
   "outputs": [],
   "source": [
    "d = load_lblnew_data(PARAM_LBLNEW)\n",
    "\n",
    "DS_FLUX_CRD = d['ds_flux_crd']\n",
    "DS_COOL_CRD = d['ds_cool_crd']\n",
    "DS_FLUX_WGT = d['ds_flux_wgt']\n",
    "DS_COOL_WGT = d['ds_cool_wgt']"
   ]
  },
  {
   "cell_type": "code",
   "execution_count": 6,
   "metadata": {
    "collapsed": true
   },
   "outputs": [],
   "source": [
    "DIR_FORTRAN = pipe_cliradlw.get_fortran_dir(PARAM, \n",
    "                                            setup=setup_cliradlw)\n",
    "\n",
    "PATH_FLUX = os.path.join(DIR_FORTRAN, 'output_flux.dat')\n",
    "PATH_COOL = os.path.join(DIR_FORTRAN, 'output_coolr.dat')\n",
    "\n",
    "DS_FLUX = load_output_file(PATH_FLUX)\n",
    "DS_COOL = load_output_file(PATH_COOL)"
   ]
  },
  {
   "cell_type": "code",
   "execution_count": 7,
   "metadata": {
    "collapsed": true
   },
   "outputs": [
    {
     "data": {
      "text/html": [
       "\n",
       "    <div class=\"bk-root\">\n",
       "        <a href=\"https://bokeh.pydata.org\" target=\"_blank\" class=\"bk-logo bk-logo-small bk-logo-notebook\"></a>\n",
       "        <span id=\"a7433c12-d609-4173-91e1-4caca715d938\">Loading BokehJS ...</span>\n",
       "    </div>"
      ]
     },
     "metadata": {},
     "output_type": "display_data"
    },
    {
     "data": {
      "application/javascript": [
       "\n",
       "(function(root) {\n",
       "  function now() {\n",
       "    return new Date();\n",
       "  }\n",
       "\n",
       "  var force = true;\n",
       "\n",
       "  if (typeof (root._bokeh_onload_callbacks) === \"undefined\" || force === true) {\n",
       "    root._bokeh_onload_callbacks = [];\n",
       "    root._bokeh_is_loading = undefined;\n",
       "  }\n",
       "\n",
       "  var JS_MIME_TYPE = 'application/javascript';\n",
       "  var HTML_MIME_TYPE = 'text/html';\n",
       "  var EXEC_MIME_TYPE = 'application/vnd.bokehjs_exec.v0+json';\n",
       "  var CLASS_NAME = 'output_bokeh rendered_html';\n",
       "\n",
       "  /**\n",
       "   * Render data to the DOM node\n",
       "   */\n",
       "  function render(props, node) {\n",
       "    var script = document.createElement(\"script\");\n",
       "    node.appendChild(script);\n",
       "  }\n",
       "\n",
       "  /**\n",
       "   * Handle when an output is cleared or removed\n",
       "   */\n",
       "  function handleClearOutput(event, handle) {\n",
       "    var cell = handle.cell;\n",
       "\n",
       "    var id = cell.output_area._bokeh_element_id;\n",
       "    var server_id = cell.output_area._bokeh_server_id;\n",
       "    // Clean up Bokeh references\n",
       "    if (id !== undefined) {\n",
       "      Bokeh.index[id].model.document.clear();\n",
       "      delete Bokeh.index[id];\n",
       "    }\n",
       "\n",
       "    if (server_id !== undefined) {\n",
       "      // Clean up Bokeh references\n",
       "      var cmd = \"from bokeh.io.state import curstate; print(curstate().uuid_to_server['\" + server_id + \"'].get_sessions()[0].document.roots[0]._id)\";\n",
       "      cell.notebook.kernel.execute(cmd, {\n",
       "        iopub: {\n",
       "          output: function(msg) {\n",
       "            var element_id = msg.content.text.trim();\n",
       "            Bokeh.index[element_id].model.document.clear();\n",
       "            delete Bokeh.index[element_id];\n",
       "          }\n",
       "        }\n",
       "      });\n",
       "      // Destroy server and session\n",
       "      var cmd = \"import bokeh.io.notebook as ion; ion.destroy_server('\" + server_id + \"')\";\n",
       "      cell.notebook.kernel.execute(cmd);\n",
       "    }\n",
       "  }\n",
       "\n",
       "  /**\n",
       "   * Handle when a new output is added\n",
       "   */\n",
       "  function handleAddOutput(event, handle) {\n",
       "    var output_area = handle.output_area;\n",
       "    var output = handle.output;\n",
       "\n",
       "    // limit handleAddOutput to display_data with EXEC_MIME_TYPE content only\n",
       "    if ((output.output_type != \"display_data\") || (!output.data.hasOwnProperty(EXEC_MIME_TYPE))) {\n",
       "      return\n",
       "    }\n",
       "\n",
       "    var toinsert = output_area.element.find(\".\" + CLASS_NAME.split(' ')[0]);\n",
       "\n",
       "    if (output.metadata[EXEC_MIME_TYPE][\"id\"] !== undefined) {\n",
       "      toinsert[0].firstChild.textContent = output.data[JS_MIME_TYPE];\n",
       "      // store reference to embed id on output_area\n",
       "      output_area._bokeh_element_id = output.metadata[EXEC_MIME_TYPE][\"id\"];\n",
       "    }\n",
       "    if (output.metadata[EXEC_MIME_TYPE][\"server_id\"] !== undefined) {\n",
       "      var bk_div = document.createElement(\"div\");\n",
       "      bk_div.innerHTML = output.data[HTML_MIME_TYPE];\n",
       "      var script_attrs = bk_div.children[0].attributes;\n",
       "      for (var i = 0; i < script_attrs.length; i++) {\n",
       "        toinsert[0].firstChild.setAttribute(script_attrs[i].name, script_attrs[i].value);\n",
       "      }\n",
       "      // store reference to server id on output_area\n",
       "      output_area._bokeh_server_id = output.metadata[EXEC_MIME_TYPE][\"server_id\"];\n",
       "    }\n",
       "  }\n",
       "\n",
       "  function register_renderer(events, OutputArea) {\n",
       "\n",
       "    function append_mime(data, metadata, element) {\n",
       "      // create a DOM node to render to\n",
       "      var toinsert = this.create_output_subarea(\n",
       "        metadata,\n",
       "        CLASS_NAME,\n",
       "        EXEC_MIME_TYPE\n",
       "      );\n",
       "      this.keyboard_manager.register_events(toinsert);\n",
       "      // Render to node\n",
       "      var props = {data: data, metadata: metadata[EXEC_MIME_TYPE]};\n",
       "      render(props, toinsert[0]);\n",
       "      element.append(toinsert);\n",
       "      return toinsert\n",
       "    }\n",
       "\n",
       "    /* Handle when an output is cleared or removed */\n",
       "    events.on('clear_output.CodeCell', handleClearOutput);\n",
       "    events.on('delete.Cell', handleClearOutput);\n",
       "\n",
       "    /* Handle when a new output is added */\n",
       "    events.on('output_added.OutputArea', handleAddOutput);\n",
       "\n",
       "    /**\n",
       "     * Register the mime type and append_mime function with output_area\n",
       "     */\n",
       "    OutputArea.prototype.register_mime_type(EXEC_MIME_TYPE, append_mime, {\n",
       "      /* Is output safe? */\n",
       "      safe: true,\n",
       "      /* Index of renderer in `output_area.display_order` */\n",
       "      index: 0\n",
       "    });\n",
       "  }\n",
       "\n",
       "  // register the mime type if in Jupyter Notebook environment and previously unregistered\n",
       "  if (root.Jupyter !== undefined) {\n",
       "    var events = require('base/js/events');\n",
       "    var OutputArea = require('notebook/js/outputarea').OutputArea;\n",
       "\n",
       "    if (OutputArea.prototype.mime_types().indexOf(EXEC_MIME_TYPE) == -1) {\n",
       "      register_renderer(events, OutputArea);\n",
       "    }\n",
       "  }\n",
       "\n",
       "  \n",
       "  if (typeof (root._bokeh_timeout) === \"undefined\" || force === true) {\n",
       "    root._bokeh_timeout = Date.now() + 5000;\n",
       "    root._bokeh_failed_load = false;\n",
       "  }\n",
       "\n",
       "  var NB_LOAD_WARNING = {'data': {'text/html':\n",
       "     \"<div style='background-color: #fdd'>\\n\"+\n",
       "     \"<p>\\n\"+\n",
       "     \"BokehJS does not appear to have successfully loaded. If loading BokehJS from CDN, this \\n\"+\n",
       "     \"may be due to a slow or bad network connection. Possible fixes:\\n\"+\n",
       "     \"</p>\\n\"+\n",
       "     \"<ul>\\n\"+\n",
       "     \"<li>re-rerun `output_notebook()` to attempt to load from CDN again, or</li>\\n\"+\n",
       "     \"<li>use INLINE resources instead, as so:</li>\\n\"+\n",
       "     \"</ul>\\n\"+\n",
       "     \"<code>\\n\"+\n",
       "     \"from bokeh.resources import INLINE\\n\"+\n",
       "     \"output_notebook(resources=INLINE)\\n\"+\n",
       "     \"</code>\\n\"+\n",
       "     \"</div>\"}};\n",
       "\n",
       "  function display_loaded() {\n",
       "    var el = document.getElementById(\"a7433c12-d609-4173-91e1-4caca715d938\");\n",
       "    if (el != null) {\n",
       "      el.textContent = \"BokehJS is loading...\";\n",
       "    }\n",
       "    if (root.Bokeh !== undefined) {\n",
       "      if (el != null) {\n",
       "        el.textContent = \"BokehJS \" + root.Bokeh.version + \" successfully loaded.\";\n",
       "      }\n",
       "    } else if (Date.now() < root._bokeh_timeout) {\n",
       "      setTimeout(display_loaded, 100)\n",
       "    }\n",
       "  }\n",
       "\n",
       "\n",
       "  function run_callbacks() {\n",
       "    try {\n",
       "      root._bokeh_onload_callbacks.forEach(function(callback) { callback() });\n",
       "    }\n",
       "    finally {\n",
       "      delete root._bokeh_onload_callbacks\n",
       "    }\n",
       "    console.info(\"Bokeh: all callbacks have finished\");\n",
       "  }\n",
       "\n",
       "  function load_libs(js_urls, callback) {\n",
       "    root._bokeh_onload_callbacks.push(callback);\n",
       "    if (root._bokeh_is_loading > 0) {\n",
       "      console.log(\"Bokeh: BokehJS is being loaded, scheduling callback at\", now());\n",
       "      return null;\n",
       "    }\n",
       "    if (js_urls == null || js_urls.length === 0) {\n",
       "      run_callbacks();\n",
       "      return null;\n",
       "    }\n",
       "    console.log(\"Bokeh: BokehJS not loaded, scheduling load and callback at\", now());\n",
       "    root._bokeh_is_loading = js_urls.length;\n",
       "    for (var i = 0; i < js_urls.length; i++) {\n",
       "      var url = js_urls[i];\n",
       "      var s = document.createElement('script');\n",
       "      s.src = url;\n",
       "      s.async = false;\n",
       "      s.onreadystatechange = s.onload = function() {\n",
       "        root._bokeh_is_loading--;\n",
       "        if (root._bokeh_is_loading === 0) {\n",
       "          console.log(\"Bokeh: all BokehJS libraries loaded\");\n",
       "          run_callbacks()\n",
       "        }\n",
       "      };\n",
       "      s.onerror = function() {\n",
       "        console.warn(\"failed to load library \" + url);\n",
       "      };\n",
       "      console.log(\"Bokeh: injecting script tag for BokehJS library: \", url);\n",
       "      document.getElementsByTagName(\"head\")[0].appendChild(s);\n",
       "    }\n",
       "  };var element = document.getElementById(\"a7433c12-d609-4173-91e1-4caca715d938\");\n",
       "  if (element == null) {\n",
       "    console.log(\"Bokeh: ERROR: autoload.js configured with elementid 'a7433c12-d609-4173-91e1-4caca715d938' but no matching script tag was found. \")\n",
       "    return false;\n",
       "  }\n",
       "\n",
       "  var js_urls = [\"https://cdn.pydata.org/bokeh/release/bokeh-0.12.14.min.js\", \"https://cdn.pydata.org/bokeh/release/bokeh-widgets-0.12.14.min.js\", \"https://cdn.pydata.org/bokeh/release/bokeh-tables-0.12.14.min.js\", \"https://cdn.pydata.org/bokeh/release/bokeh-gl-0.12.14.min.js\"];\n",
       "\n",
       "  var inline_js = [\n",
       "    function(Bokeh) {\n",
       "      Bokeh.set_log_level(\"info\");\n",
       "    },\n",
       "    \n",
       "    function(Bokeh) {\n",
       "      \n",
       "    },\n",
       "    function(Bokeh) {\n",
       "      console.log(\"Bokeh: injecting CSS: https://cdn.pydata.org/bokeh/release/bokeh-0.12.14.min.css\");\n",
       "      Bokeh.embed.inject_css(\"https://cdn.pydata.org/bokeh/release/bokeh-0.12.14.min.css\");\n",
       "      console.log(\"Bokeh: injecting CSS: https://cdn.pydata.org/bokeh/release/bokeh-widgets-0.12.14.min.css\");\n",
       "      Bokeh.embed.inject_css(\"https://cdn.pydata.org/bokeh/release/bokeh-widgets-0.12.14.min.css\");\n",
       "      console.log(\"Bokeh: injecting CSS: https://cdn.pydata.org/bokeh/release/bokeh-tables-0.12.14.min.css\");\n",
       "      Bokeh.embed.inject_css(\"https://cdn.pydata.org/bokeh/release/bokeh-tables-0.12.14.min.css\");\n",
       "    }\n",
       "  ];\n",
       "\n",
       "  function run_inline_js() {\n",
       "    \n",
       "    if ((root.Bokeh !== undefined) || (force === true)) {\n",
       "      for (var i = 0; i < inline_js.length; i++) {\n",
       "        inline_js[i].call(root, root.Bokeh);\n",
       "      }if (force === true) {\n",
       "        display_loaded();\n",
       "      }} else if (Date.now() < root._bokeh_timeout) {\n",
       "      setTimeout(run_inline_js, 100);\n",
       "    } else if (!root._bokeh_failed_load) {\n",
       "      console.log(\"Bokeh: BokehJS failed to load within specified timeout.\");\n",
       "      root._bokeh_failed_load = true;\n",
       "    } else if (force !== true) {\n",
       "      var cell = $(document.getElementById(\"a7433c12-d609-4173-91e1-4caca715d938\")).parents('.cell').data().cell;\n",
       "      cell.output_area.append_execute_result(NB_LOAD_WARNING)\n",
       "    }\n",
       "\n",
       "  }\n",
       "\n",
       "  if (root._bokeh_is_loading === 0) {\n",
       "    console.log(\"Bokeh: BokehJS loaded, going straight to plotting\");\n",
       "    run_inline_js();\n",
       "  } else {\n",
       "    load_libs(js_urls, function() {\n",
       "      console.log(\"Bokeh: BokehJS plotting callback run at\", now());\n",
       "      run_inline_js();\n",
       "    });\n",
       "  }\n",
       "}(window));"
      ],
      "application/vnd.bokehjs_load.v0+json": "\n(function(root) {\n  function now() {\n    return new Date();\n  }\n\n  var force = true;\n\n  if (typeof (root._bokeh_onload_callbacks) === \"undefined\" || force === true) {\n    root._bokeh_onload_callbacks = [];\n    root._bokeh_is_loading = undefined;\n  }\n\n  \n\n  \n  if (typeof (root._bokeh_timeout) === \"undefined\" || force === true) {\n    root._bokeh_timeout = Date.now() + 5000;\n    root._bokeh_failed_load = false;\n  }\n\n  var NB_LOAD_WARNING = {'data': {'text/html':\n     \"<div style='background-color: #fdd'>\\n\"+\n     \"<p>\\n\"+\n     \"BokehJS does not appear to have successfully loaded. If loading BokehJS from CDN, this \\n\"+\n     \"may be due to a slow or bad network connection. Possible fixes:\\n\"+\n     \"</p>\\n\"+\n     \"<ul>\\n\"+\n     \"<li>re-rerun `output_notebook()` to attempt to load from CDN again, or</li>\\n\"+\n     \"<li>use INLINE resources instead, as so:</li>\\n\"+\n     \"</ul>\\n\"+\n     \"<code>\\n\"+\n     \"from bokeh.resources import INLINE\\n\"+\n     \"output_notebook(resources=INLINE)\\n\"+\n     \"</code>\\n\"+\n     \"</div>\"}};\n\n  function display_loaded() {\n    var el = document.getElementById(\"a7433c12-d609-4173-91e1-4caca715d938\");\n    if (el != null) {\n      el.textContent = \"BokehJS is loading...\";\n    }\n    if (root.Bokeh !== undefined) {\n      if (el != null) {\n        el.textContent = \"BokehJS \" + root.Bokeh.version + \" successfully loaded.\";\n      }\n    } else if (Date.now() < root._bokeh_timeout) {\n      setTimeout(display_loaded, 100)\n    }\n  }\n\n\n  function run_callbacks() {\n    try {\n      root._bokeh_onload_callbacks.forEach(function(callback) { callback() });\n    }\n    finally {\n      delete root._bokeh_onload_callbacks\n    }\n    console.info(\"Bokeh: all callbacks have finished\");\n  }\n\n  function load_libs(js_urls, callback) {\n    root._bokeh_onload_callbacks.push(callback);\n    if (root._bokeh_is_loading > 0) {\n      console.log(\"Bokeh: BokehJS is being loaded, scheduling callback at\", now());\n      return null;\n    }\n    if (js_urls == null || js_urls.length === 0) {\n      run_callbacks();\n      return null;\n    }\n    console.log(\"Bokeh: BokehJS not loaded, scheduling load and callback at\", now());\n    root._bokeh_is_loading = js_urls.length;\n    for (var i = 0; i < js_urls.length; i++) {\n      var url = js_urls[i];\n      var s = document.createElement('script');\n      s.src = url;\n      s.async = false;\n      s.onreadystatechange = s.onload = function() {\n        root._bokeh_is_loading--;\n        if (root._bokeh_is_loading === 0) {\n          console.log(\"Bokeh: all BokehJS libraries loaded\");\n          run_callbacks()\n        }\n      };\n      s.onerror = function() {\n        console.warn(\"failed to load library \" + url);\n      };\n      console.log(\"Bokeh: injecting script tag for BokehJS library: \", url);\n      document.getElementsByTagName(\"head\")[0].appendChild(s);\n    }\n  };var element = document.getElementById(\"a7433c12-d609-4173-91e1-4caca715d938\");\n  if (element == null) {\n    console.log(\"Bokeh: ERROR: autoload.js configured with elementid 'a7433c12-d609-4173-91e1-4caca715d938' but no matching script tag was found. \")\n    return false;\n  }\n\n  var js_urls = [\"https://cdn.pydata.org/bokeh/release/bokeh-0.12.14.min.js\", \"https://cdn.pydata.org/bokeh/release/bokeh-widgets-0.12.14.min.js\", \"https://cdn.pydata.org/bokeh/release/bokeh-tables-0.12.14.min.js\", \"https://cdn.pydata.org/bokeh/release/bokeh-gl-0.12.14.min.js\"];\n\n  var inline_js = [\n    function(Bokeh) {\n      Bokeh.set_log_level(\"info\");\n    },\n    \n    function(Bokeh) {\n      \n    },\n    function(Bokeh) {\n      console.log(\"Bokeh: injecting CSS: https://cdn.pydata.org/bokeh/release/bokeh-0.12.14.min.css\");\n      Bokeh.embed.inject_css(\"https://cdn.pydata.org/bokeh/release/bokeh-0.12.14.min.css\");\n      console.log(\"Bokeh: injecting CSS: https://cdn.pydata.org/bokeh/release/bokeh-widgets-0.12.14.min.css\");\n      Bokeh.embed.inject_css(\"https://cdn.pydata.org/bokeh/release/bokeh-widgets-0.12.14.min.css\");\n      console.log(\"Bokeh: injecting CSS: https://cdn.pydata.org/bokeh/release/bokeh-tables-0.12.14.min.css\");\n      Bokeh.embed.inject_css(\"https://cdn.pydata.org/bokeh/release/bokeh-tables-0.12.14.min.css\");\n    }\n  ];\n\n  function run_inline_js() {\n    \n    if ((root.Bokeh !== undefined) || (force === true)) {\n      for (var i = 0; i < inline_js.length; i++) {\n        inline_js[i].call(root, root.Bokeh);\n      }if (force === true) {\n        display_loaded();\n      }} else if (Date.now() < root._bokeh_timeout) {\n      setTimeout(run_inline_js, 100);\n    } else if (!root._bokeh_failed_load) {\n      console.log(\"Bokeh: BokehJS failed to load within specified timeout.\");\n      root._bokeh_failed_load = true;\n    } else if (force !== true) {\n      var cell = $(document.getElementById(\"a7433c12-d609-4173-91e1-4caca715d938\")).parents('.cell').data().cell;\n      cell.output_area.append_execute_result(NB_LOAD_WARNING)\n    }\n\n  }\n\n  if (root._bokeh_is_loading === 0) {\n    console.log(\"Bokeh: BokehJS loaded, going straight to plotting\");\n    run_inline_js();\n  } else {\n    load_libs(js_urls, function() {\n      console.log(\"Bokeh: BokehJS plotting callback run at\", now());\n      run_inline_js();\n    });\n  }\n}(window));"
     },
     "metadata": {},
     "output_type": "display_data"
    }
   ],
   "source": [
    "output_notebook()"
   ]
  },
  {
   "cell_type": "code",
   "execution_count": 8,
   "metadata": {
    "collapsed": true
   },
   "outputs": [],
   "source": [
    "def fmt_cool(ds_in):\n",
    "    ds = ds_in.copy(deep=True)\n",
    "    if 'igg' in ds.dims:\n",
    "        ds = ds.sel(igg=1)\n",
    "\n",
    "    if 'g' in ds.dims:\n",
    "        ds = ds.sum('g')\n",
    "            \n",
    "    if 'band' in ds.dims:\n",
    "        try:\n",
    "            ds = ds.squeeze('band')\n",
    "        except ValueError:\n",
    "            ds = ds.sum('band')\n",
    "                \n",
    "    return ds['coolrg']\n",
    "\n",
    "\n",
    "def pltdata_cooling_1(ds_cool=None,\n",
    "                      ds_cool_crd=None, ds_cool_wgt=None):\n",
    "    \n",
    "\n",
    "\n",
    "    colors = all_palettes['Set1'][4]\n",
    "    data = [{'label': 'CLIRAD `coolr_bands`',\n",
    "             'srs': fmt_cool(ds_cool),\n",
    "             'line_dash': 'dashed', 'line_width': 5,\n",
    "             'color': colors[0], 'alpha': .6},\n",
    "            {'label': 'CRD',\n",
    "             'srs': fmt_cool(ds_cool_crd),\n",
    "             'line_dash': 'solid', 'line_width': 1.5,\n",
    "             'marker': 'circle', 'marker_size': 5,\n",
    "             'color': colors[2], 'alpha': 1,},\n",
    "            {'label': 'WGT igg=10 wgt_flux=2',\n",
    "             'srs': fmt_cool(ds_cool_wgt),\n",
    "             'line_dash': 'solid', 'line_width': 3,\n",
    "             'marker': 'square', 'marker_size': 5,\n",
    "             'color': colors[3], 'alpha': .6}]\n",
    "    return data\n",
    "\n",
    "\n",
    "def nice_xlims(pltdata=None, prange=None):\n",
    "    \n",
    "    def get_slice(srs):\n",
    "        return srs.sel(pressure=slice(*prange))\n",
    "    \n",
    "    srss = [d['srs'] for d in pltdata]\n",
    "    vmin = min([get_slice(srs).min() for srs in srss])\n",
    "    vmax = max([get_slice(srs).max() for srs in srss])\n",
    "    dv = (vmax - vmin) * .01\n",
    "    return float(vmin - dv), float(vmax + dv)\n",
    "    \n",
    "\n",
    "def plt_cooling_bokeh(pltdata=None):\n",
    "    '''\n",
    "    Plot a list of cooling rate profiles using bokeh.\n",
    "    '''\n",
    "    ymin = 1e-2 \n",
    "    ymax = 1020 \n",
    "        \n",
    "    p1 = figure(title=\"Linear pressure scale\", \n",
    "                plot_width=400)        \n",
    "    xmin, xmax = nice_xlims(pltdata, prange=(50, 1050))\n",
    "    for d in pltdata:\n",
    "        if 'marker' in d:\n",
    "            getattr(p1, d['marker'])(d['srs'].values, \n",
    "                    d['srs'].coords['pressure'].values,\n",
    "                    color=d['color'], alpha=.7)\n",
    "        p1.line(d['srs'].values, \n",
    "                d['srs'].coords['pressure'].values,\n",
    "                color=d['color'], alpha=d['alpha'], \n",
    "                line_width=d['line_width'], line_dash=d['line_dash'])\n",
    "    \n",
    "    p1.y_range = Range1d(ymax, ymin)\n",
    "    p1.yaxis.axis_label = 'pressure [mb]'   \n",
    "    p1.x_range = Range1d(xmin, xmax)\n",
    "    p1.xaxis.axis_label = 'cooling rate [K/day]'\n",
    "            \n",
    "    p2 = figure(title='Log pressure scale', y_axis_type='log',\n",
    "                plot_width=560)\n",
    "    xmin, xmax = nice_xlims(pltdata, prange=(.01, 200))\n",
    "    \n",
    "    rs = []\n",
    "    for d in pltdata:\n",
    "        rd = []\n",
    "        if 'marker' in d:\n",
    "            r_mark = getattr(p2, d['marker'])(d['srs'].values, \n",
    "                        d['srs'].coords['pressure'].values,\n",
    "                        color=d['color'], alpha=.7)\n",
    "            rd.append(r_mark)\n",
    "        r_line = p2.line(d['srs'].values, \n",
    "                    d['srs'].coords['pressure'].values,\n",
    "                    color=d['color'], alpha=d['alpha'], \n",
    "                    line_width=d['line_width'], line_dash=d['line_dash'])\n",
    "        rd.append(r_line)\n",
    "      \n",
    "        rs.append(rd)\n",
    "        \n",
    "    p2.y_range = Range1d(ymax, ymin)  \n",
    "    p2.yaxis.axis_label = 'pressure [mb]'\n",
    "    \n",
    "    p2.x_range = Range1d(xmin, xmax)\n",
    "    p2.xaxis.axis_label = 'cooling rate [K/day]'\n",
    "    \n",
    "    items = [(d['label'], r) for r, d in zip(rs, pltdata)]\n",
    "    legend = Legend(items=items, location=(10, -30))\n",
    "    legend.label_text_font_size = '8pt'\n",
    "    \n",
    "    p2.add_layout(legend, 'right')  \n",
    "    \n",
    "    show(gridplot(p1, p2, ncols=2, plot_height=500))\n",
    "    \n",
    "\n",
    "def script_plt_cooling():\n",
    "    pltdata = pltdata_cooling_1(\n",
    "        ds_cool=DS_COOL,\n",
    "        ds_cool_crd=DS_COOL_CRD,\n",
    "        ds_cool_wgt=DS_COOL_WGT)\n",
    "    plt_cooling_bokeh(pltdata=pltdata)\n",
    "    print('''FIGURE. Cooling rate profiles.''')"
   ]
  },
  {
   "cell_type": "code",
   "execution_count": 9,
   "metadata": {
    "collapsed": true
   },
   "outputs": [],
   "source": [
    "def fmt_flux(ds_in):\n",
    "    ds = ds_in.copy(deep=True)\n",
    "    \n",
    "    for l in ('level', 'layer'):\n",
    "        if l in ds.data_vars:\n",
    "            if len(ds[l].dims) > 1:\n",
    "                surface = {d: 0 for d in ds.dims if d != 'pressure'}\n",
    "                coord_level = ds[l][surface]\n",
    "                ds.coords[l] = ('pressure', coord_level)\n",
    "            else:\n",
    "                ds.coords[l] = ('pressure', ds[l])\n",
    "        \n",
    "    ds = ds.isel(pressure=[0, 23, -1])\n",
    "        \n",
    "    if 'igg' in ds.dims:\n",
    "        ds = ds.sel(igg=[1])\n",
    "        ds = ds.squeeze('igg').drop('igg')\n",
    "    \n",
    "    if 'g' in ds.dims:\n",
    "        ds = ds.sum('g')\n",
    "            \n",
    "    if 'band' in ds.dims:\n",
    "        try:\n",
    "            ds = ds.squeeze('band').drop('band')\n",
    "        except ValueError:\n",
    "            ds = ds.sum('band')\n",
    "                \n",
    "    df = ds.to_dataframe()\n",
    "    df = df.set_index('level', append=True)               \n",
    "    return df\n",
    "\n",
    "\n",
    "def tbdata_flux(ds_flux=None, ds_flux_crd=None, ds_flux_wgt=None):\n",
    "    ilevels = [0, 23, -1]\n",
    "            \n",
    "    benchmark = {'label': 'WGT igg=10 wgt_flux=1',\n",
    "                 'df': fmt_flux(ds_flux_wgt)}\n",
    "    \n",
    "    tbs = [{'label': 'CRD',\n",
    "            'df': fmt_flux(ds_flux_crd)},\n",
    "           {'label': 'CLIRAD',\n",
    "            'df': fmt_flux(ds_flux)}]\n",
    "    \n",
    "    data = {'benchmark': benchmark, 'others': tbs}\n",
    "    return data\n",
    "\n",
    "\n",
    "def tb_flux(tbdata=None):\n",
    "    benchmark = tbdata['benchmark']\n",
    "    others = tbdata['others']\n",
    "    \n",
    "    def show_tb(d=None):\n",
    "        display.display(d['df'])\n",
    "        print('Table.', 'Fluxes.', d['label'])\n",
    "        \n",
    "    def show_tbdiff(d0=None, d=None):\n",
    "        df = d['df']\n",
    "        df.index = d0['df'].index\n",
    "        display.display(df - d0['df'])\n",
    "        print('Table.', 'Fluxes.', \n",
    "              '({}) - ({})'.format(d['label'], d0['label']))\n",
    "        \n",
    "    show_tb(benchmark)\n",
    "    for d in others:\n",
    "        show_tb(d)\n",
    "        \n",
    "    for d in others:\n",
    "        show_tbdiff(d=d, d0=benchmark)\n",
    "        \n",
    "        \n",
    "def script_tb_flux():\n",
    "    data = tbdata_flux(ds_flux=DS_FLUX,\n",
    "                       ds_flux_crd=DS_FLUX_CRD,\n",
    "                       ds_flux_wgt=DS_FLUX_WGT)\n",
    "    tb_flux(tbdata=data)"
   ]
  },
  {
   "cell_type": "code",
   "execution_count": 10,
   "metadata": {
    "collapsed": true
   },
   "outputs": [],
   "source": [
    "def band_map():\n",
    "    '''\n",
    "    Maps spectral bands in lblnew to spectral bands in clirad.\n",
    "    '''\n",
    "    lblnew2clirad = {'1': '1',\n",
    "            '2': '2',\n",
    "            '3a': '3',\n",
    "            '3b': '4',\n",
    "            '3c': '5',\n",
    "            '4': '6', \n",
    "            '5': '7',\n",
    "            '6': '8',\n",
    "            '7': '9', \n",
    "            '8': '10',\n",
    "            '9': '11'}\n",
    "    \n",
    "    clirad2lblnew = {clirad: lblnew \n",
    "                     for lblnew, clirad in lblnew2clirad.items()}\n",
    "    return clirad2lblnew\n",
    "\n",
    "\n",
    "def gasbands():\n",
    "    bmap = band_map()\n",
    "    gases = list(PARAM['molecule'].keys())\n",
    "    \n",
    "    bands = [bmap[str(b)] for b in PARAM['band']]\n",
    "    return list(itertools.product(gases, bands))\n",
    "\n",
    "\n",
    "def print_bestfit_params():\n",
    "    print('Best-fit values for each (gas, band)')\n",
    "    print('------------------------------------')\n",
    "    for gas, band in gasbands():\n",
    "        print('o {} band{}'.format(gas, band))\n",
    "        param = bestfits.kdist_params(molecule=gas, band=band)\n",
    "        for name, value in sorted(param.items()):\n",
    "            print(2 * ' ' + '{} = {}'.format(name, value))\n",
    "\n",
    "        \n",
    "def print_input_param():        \n",
    "    for name, value in PARAM.items():\n",
    "        print('{} = {}'.format(name, value))\n",
    "        \n",
    "        \n",
    "def print_lblnew_param():\n",
    "    for name, value in sorted(PARAM_LBLNEW.items()):\n",
    "        print('{} = {}'.format(name, value))\n"
   ]
  },
  {
   "cell_type": "code",
   "execution_count": 11,
   "metadata": {
    "collapsed": true,
    "scrolled": false
   },
   "outputs": [],
   "source": [
    "def show_html(s):\n",
    "    display.display(display.HTML(s))\n",
    "\n",
    "    \n",
    "def show_markdown(s):\n",
    "    display.display(display.Markdown(s))\n",
    "\n",
    "    \n",
    "def script():\n",
    "    \n",
    "    title = '### CLIRAD-LW'\n",
    "    s_input = 'Input Parameters'\n",
    "    s_lblnew_param = 'LBLNEW case compaired against'\n",
    "    s_bestfits = 'Best-fit Parameters'\n",
    "    s_plt_cooling = 'Cooling Rate Profiles'\n",
    "    s_tb_flux = 'Flux Comparison'\n",
    "    \n",
    "    # title\n",
    "    show_markdown('### CLIRAD-LW')\n",
    "    \n",
    "    # TOC\n",
    "    show_markdown('### Table of Contents')\n",
    "    show_html(climahtml.getHTML_hrefanchor(s_input))\n",
    "    show_html(climahtml.getHTML_hrefanchor(s_lblnew_param))\n",
    "    show_html(climahtml.getHTML_hrefanchor(s_plt_cooling))\n",
    "    show_html(climahtml.getHTML_hrefanchor(s_tb_flux))\n",
    "    show_html(climahtml.getHTML_hrefanchor(s_bestfits))\n",
    "    \n",
    "    # Input parameters\n",
    "    show_html(climahtml.getHTML_idanchor(s_input))\n",
    "    show_markdown(climahtml.getMarkdown_sectitle(s_input))\n",
    "    print_input_param()\n",
    "    \n",
    "    # LBLNEW parameters \n",
    "    show_html(climahtml.getHTML_idanchor(s_lblnew_param))\n",
    "    show_markdown(climahtml.getMarkdown_sectitle(s_lblnew_param))\n",
    "    print_lblnew_param()\n",
    "    \n",
    "    # Cooling rate profiles\n",
    "    show_html(climahtml.getHTML_idanchor(s_plt_cooling))\n",
    "    show_markdown(climahtml.getMarkdown_sectitle(s_plt_cooling))\n",
    "    script_plt_cooling()\n",
    "    \n",
    "    # Flux comparison\n",
    "    show_html(climahtml.getHTML_idanchor(s_tb_flux))\n",
    "    show_markdown(climahtml.getMarkdown_sectitle(s_tb_flux))\n",
    "    script_tb_flux()\n",
    "    \n",
    "    # Best-fit values\n",
    "    show_html(climahtml.getHTML_idanchor(s_bestfits))\n",
    "    show_markdown(climahtml.getMarkdown_sectitle(s_bestfits))\n",
    "    print_bestfit_params()\n",
    "   \n",
    "    "
   ]
  },
  {
   "cell_type": "code",
   "execution_count": 12,
   "metadata": {
    "collapsed": true,
    "scrolled": false
   },
   "outputs": [
    {
     "data": {
      "text/markdown": [
       "### CLIRAD-LW"
      ],
      "text/plain": [
       "<IPython.core.display.Markdown object>"
      ]
     },
     "metadata": {},
     "output_type": "display_data"
    },
    {
     "data": {
      "text/markdown": [
       "### Table of Contents"
      ],
      "text/plain": [
       "<IPython.core.display.Markdown object>"
      ]
     },
     "metadata": {},
     "output_type": "display_data"
    },
    {
     "data": {
      "text/html": [
       "<a href=\"#Input_Parameters\">Input Parameters</a>"
      ],
      "text/plain": [
       "<IPython.core.display.HTML object>"
      ]
     },
     "metadata": {},
     "output_type": "display_data"
    },
    {
     "data": {
      "text/html": [
       "<a href=\"#LBLNEW_case_compaired_against\">LBLNEW case compaired against</a>"
      ],
      "text/plain": [
       "<IPython.core.display.HTML object>"
      ]
     },
     "metadata": {},
     "output_type": "display_data"
    },
    {
     "data": {
      "text/html": [
       "<a href=\"#Cooling_Rate_Profiles\">Cooling Rate Profiles</a>"
      ],
      "text/plain": [
       "<IPython.core.display.HTML object>"
      ]
     },
     "metadata": {},
     "output_type": "display_data"
    },
    {
     "data": {
      "text/html": [
       "<a href=\"#Flux_Comparison\">Flux Comparison</a>"
      ],
      "text/plain": [
       "<IPython.core.display.HTML object>"
      ]
     },
     "metadata": {},
     "output_type": "display_data"
    },
    {
     "data": {
      "text/html": [
       "<a href=\"#Best-fit_Parameters\">Best-fit Parameters</a>"
      ],
      "text/plain": [
       "<IPython.core.display.HTML object>"
      ]
     },
     "metadata": {},
     "output_type": "display_data"
    },
    {
     "data": {
      "text/html": [
       "<a id=\"Input_Parameters\"></a>"
      ],
      "text/plain": [
       "<IPython.core.display.HTML object>"
      ]
     },
     "metadata": {},
     "output_type": "display_data"
    },
    {
     "data": {
      "text/markdown": [
       "# Input Parameters"
      ],
      "text/plain": [
       "<IPython.core.display.Markdown object>"
      ]
     },
     "metadata": {},
     "output_type": "display_data"
    },
    {
     "name": "stdout",
     "output_type": "stream",
     "text": [
      "atmpro = mls\n",
      "band = [1]\n",
      "commitnumber = a3da41e\n",
      "molecule = {'h2o': 'atmpro'}\n",
      "tsfc = 294\n"
     ]
    },
    {
     "data": {
      "text/html": [
       "<a id=\"LBLNEW_case_compaired_against\"></a>"
      ],
      "text/plain": [
       "<IPython.core.display.HTML object>"
      ]
     },
     "metadata": {},
     "output_type": "display_data"
    },
    {
     "data": {
      "text/markdown": [
       "# LBLNEW case compaired against"
      ],
      "text/plain": [
       "<IPython.core.display.Markdown object>"
      ]
     },
     "metadata": {},
     "output_type": "display_data"
    },
    {
     "name": "stdout",
     "output_type": "stream",
     "text": [
      "atmpro = mls\n",
      "band = 1\n",
      "commitnumber = 5014a19\n",
      "conc = None\n",
      "dv = 0.01\n",
      "klin = 0\n",
      "molecule = h2o\n",
      "ng_adju = [0, 0, 0]\n",
      "ng_refs = [3, 3, 6]\n",
      "nv = 100\n",
      "option_compute_btable = 0\n",
      "option_compute_ktable = 1\n",
      "option_wgt_flux = 1\n",
      "option_wgt_k = 1\n",
      "ref_pts = [(1, 250), (30, 250), (300, 250)]\n",
      "tsfc = 294\n",
      "vmax = 340\n",
      "vmin = 20\n",
      "w_diffuse = [(1.66, 1.66, 1.66), (1.66, 1.66, 1.66), (1.66, 1.66, 1.5, 1.5, 1.5, 1.5)]\n",
      "wgt = [(0.2, 0.2, 0.2), (0.2, 0.2, 0.2), (0.2, 0.2, 0.65, 0.65, 0.65, 0.65)]\n"
     ]
    },
    {
     "data": {
      "text/html": [
       "<a id=\"Cooling_Rate_Profiles\"></a>"
      ],
      "text/plain": [
       "<IPython.core.display.HTML object>"
      ]
     },
     "metadata": {},
     "output_type": "display_data"
    },
    {
     "data": {
      "text/markdown": [
       "# Cooling Rate Profiles"
      ],
      "text/plain": [
       "<IPython.core.display.Markdown object>"
      ]
     },
     "metadata": {},
     "output_type": "display_data"
    },
    {
     "data": {
      "text/html": [
       "\n",
       "<div class=\"bk-root\">\n",
       "    <div class=\"bk-plotdiv\" id=\"961d2d66-61dd-4957-a67e-3e304073cb3c\"></div>\n",
       "</div>"
      ]
     },
     "metadata": {},
     "output_type": "display_data"
    },
    {
     "data": {
      "application/javascript": [
       "(function(root) {\n",
       "  function embed_document(root) {\n",
       "    \n",
       "  var docs_json = {\"f4575bef-bec9-45d1-a95f-a99441ca57e3\":{\"roots\":{\"references\":[{\"attributes\":{},\"id\":\"9f6668da-327f-46ab-9b8c-8c76358b478c\",\"type\":\"WheelZoomTool\"},{\"attributes\":{\"overlay\":{\"id\":\"807e4615-094d-476f-b199-66c83ad7fab1\",\"type\":\"BoxAnnotation\"}},\"id\":\"30ae4dd2-e813-454b-b4b2-ade9ea3c9880\",\"type\":\"BoxZoomTool\"},{\"attributes\":{\"line_alpha\":0.6,\"line_color\":\"#e41a1c\",\"line_dash\":[6],\"line_width\":5,\"x\":{\"field\":\"x\"},\"y\":{\"field\":\"y\"}},\"id\":\"f3a11e2e-6156-4d9f-8cad-eefe9f20acfa\",\"type\":\"Line\"},{\"attributes\":{},\"id\":\"5a1811c5-c14e-4f87-90db-7ba57da58ca5\",\"type\":\"SaveTool\"},{\"attributes\":{},\"id\":\"234f7e17-da9c-4f20-b98c-3e8f42b565a7\",\"type\":\"HelpTool\"},{\"attributes\":{\"children\":[{\"id\":\"765e9ee2-60df-4c64-b747-a58ba6d27b31\",\"subtype\":\"Figure\",\"type\":\"Plot\"},{\"id\":\"807d0fa0-0624-4dd3-bf8e-7697ea15ad56\",\"subtype\":\"Figure\",\"type\":\"Plot\"}]},\"id\":\"1413f28b-96e7-44bb-b998-fc2458aa3ee9\",\"type\":\"Row\"},{\"attributes\":{\"callback\":null,\"column_names\":[\"x\",\"y\"],\"data\":{\"x\":{\"__ndarray__\":\"/zT/+ccsBUBoaPKDqZwDQPkdHh2yPAJAxbzYxX6AA0B2wYXhyNgCQLr4254g8QJATXSnhdw2AkBEGapiKj0BQL2XsVcOw/8/FgeGYuEa/D+RqXEl8aj4PzJ9ZZQdEfQ/ct21AESs7j9PJ3bAt6HlP1MIBSEwAd4/69+a4ECt2D9NCCXlUZ7WP6gCakFaKdM/Qo//nxYF0T920i0BGfbRP9YU0F110dU/wNYAAFv52z+C3OreL4vhP11mXGGPI+M/QsOsYdDz4j8efUBeF9fhP9/x1MDicuA/0TaCfQkP3j90/Abcqe/aPyXT2359Hdk/A3aYo4WT1z9eclCAMEnVP29bQtu9ntM/mF84nYV50j/c6qSEgaPQPzj2Dcg1cM0/Q6TP3H1tyj/0kEK8IrbIPw7/wIfYgcY/98wOyJCpxT+n0f3/rHfRPxn7mv5PEuY/SJVyCGbW8T8z3lZ6bZb2P1tsSf2rHfY/kT3nEx5Z8T8bbY+9YjbtPw7+dsASG+g/kM5tgKFg4z/N2W3d7uHfP2sQpFpd8dk/J0HqPEtM0z8VEc1VVsfJPwAAAAAAAAAATB4Nrz0Wvz/oF6sh/zmxPwedJB7PtaI/qiGpOQSElj+OsGGzR5uPP/cmsWTB1oY/Oi12Pu4pgT+h2jwjjAV7PxacxuEIpXY/Xh8DnTxxdD8wxwveWXh0P3rZICOB/nY/4EN4IcXTfj8TbUhVc7aFPym8qDZoSos/sQ8igVXhij+DVTahyXSEP75r38ILOXo/N432Au+AcD9Gatp8Ff1mP4L2aWOMEqW/\",\"dtype\":\"float64\",\"shape\":[75]},\"y\":{\"__ndarray__\":\"MCRxoNFnQT9dcvo90IdNP+qWHeIftlQ/dNWXAFcNXT8NYIJ9MWBkP10nQT3OlGw/j4BJYrQLdD9jyv8cUR58P6d8Yj6UuIM/4k9uirCpiz98QnbexmaTPzw3+LjyNps/eYMeIE4Woz9zNWieEsaqP8rD9h4kx7I/FYYSdwZXuj8CvMP1QXnCPxYvFobI6ck/F35wPnUs0j/hCb3+JH7ZPwumL75H4eE/FK5H4XoU6T/Xo3A9CpfxPwaBlUOLrPg/ira+oyFOAUCgGi/dJEYIQBE2PL1SBhFAwE2QInzhF0B3TrNAu78gQPXb14FzfidA0ZFc/kN6MEAFo5I6AR03QHtLOV/sNUBAxAq3fCS9RkC8zob8M79PQCgmb4CZcVVAMzMzMzNjW0BmZmZmZqpgQLzoK0gzo2NAAAAAAACcZkBEF9S3zJRpQJqZmZmZjWxAZmZmZmaGb0AQ5KCEmT9xQAAAAAAAvHJA8Btfe2Y4dEAIclDCzLR1QPiNrz0zMXdAEOSghJmteEAAAAAAACp6QPAbX3tmpntACXJQwswifUD3ja89M59+QDeJQWDlSH9ACHJQwswNgEAAAAAAAMyAQPiNrz0zioFABTkoYWZIgkD7xteemQaDQAhyUMLMxINAAAAAAACDhED4ja89M0GFQAU5KGFm/4VA+8bXnpm9hkAIclDCzHuHQAAAAAAAOohA+I2vPTP4iEAFOShhZraJQPvG156ZdIpACXJQwswyi0AAAAAAAPGLQPeNrz0zr4xABTkoYWZtjUD7xteemSuOQHEDPj/M6Y5A\",\"dtype\":\"float64\",\"shape\":[75]}}},\"id\":\"f432ecee-f309-4308-a9be-a85d94702c97\",\"type\":\"ColumnDataSource\"},{\"attributes\":{\"line_color\":\"#4daf4a\",\"line_width\":1.5,\"x\":{\"field\":\"x\"},\"y\":{\"field\":\"y\"}},\"id\":\"78d8e65d-2bb1-423d-ad02-f96ab1bce05b\",\"type\":\"Line\"},{\"attributes\":{\"data_source\":{\"id\":\"f432ecee-f309-4308-a9be-a85d94702c97\",\"type\":\"ColumnDataSource\"},\"glyph\":{\"id\":\"8bf258c3-acca-4142-88ba-5b4243e18c81\",\"type\":\"Line\"},\"hover_glyph\":null,\"muted_glyph\":null,\"nonselection_glyph\":{\"id\":\"25f7c205-9889-4429-b768-6991a5f6a2a2\",\"type\":\"Line\"},\"selection_glyph\":null,\"view\":{\"id\":\"ae29e6cd-ae1a-428f-86e2-adf4dca04509\",\"type\":\"CDSView\"}},\"id\":\"ff822c25-af69-4143-99b7-8f6390f4af76\",\"type\":\"GlyphRenderer\"},{\"attributes\":{},\"id\":\"19a1f89f-00ba-48b7-9f33-e5ee36bb4c71\",\"type\":\"ResetTool\"},{\"attributes\":{\"overlay\":{\"id\":\"b6498e6a-7739-49a0-8b86-627e6983bf1b\",\"type\":\"BoxAnnotation\"}},\"id\":\"b45d2132-9505-43d0-8d28-1a7df3173b42\",\"type\":\"BoxZoomTool\"},{\"attributes\":{\"line_alpha\":0.1,\"line_color\":\"#1f77b4\",\"line_width\":1.5,\"x\":{\"field\":\"x\"},\"y\":{\"field\":\"y\"}},\"id\":\"23d97200-71e3-402e-8dd3-87acf1efe66f\",\"type\":\"Line\"},{\"attributes\":{},\"id\":\"24bea70f-4d75-4166-b349-5c46c24a65c3\",\"type\":\"ResetTool\"},{\"attributes\":{\"below\":[{\"id\":\"ab280c63-2091-4301-bfa9-caf2c32b907d\",\"type\":\"LinearAxis\"}],\"left\":[{\"id\":\"4962a568-8baa-4771-b07b-eeccbb36f992\",\"type\":\"LinearAxis\"}],\"plot_height\":500,\"plot_width\":400,\"renderers\":[{\"id\":\"ab280c63-2091-4301-bfa9-caf2c32b907d\",\"type\":\"LinearAxis\"},{\"id\":\"73da05b6-14cc-44c9-a944-af38b9a3357c\",\"type\":\"Grid\"},{\"id\":\"4962a568-8baa-4771-b07b-eeccbb36f992\",\"type\":\"LinearAxis\"},{\"id\":\"96618b8b-3e6b-4c46-932a-645a191416af\",\"type\":\"Grid\"},{\"id\":\"807e4615-094d-476f-b199-66c83ad7fab1\",\"type\":\"BoxAnnotation\"},{\"id\":\"ff822c25-af69-4143-99b7-8f6390f4af76\",\"type\":\"GlyphRenderer\"},{\"id\":\"0e2f0297-ef85-4056-8b61-b8da696e8788\",\"type\":\"GlyphRenderer\"},{\"id\":\"814f6c5f-20f1-447f-bb3b-50639a7d1621\",\"type\":\"GlyphRenderer\"},{\"id\":\"619d3b89-074e-4df4-b067-1d343ff6af3b\",\"type\":\"GlyphRenderer\"},{\"id\":\"596aad63-cbbe-4103-9a29-228ce71cde1a\",\"type\":\"GlyphRenderer\"}],\"title\":{\"id\":\"0b209d20-b96b-4281-b8f0-ba5a235019b7\",\"type\":\"Title\"},\"toolbar\":{\"id\":\"a671f8cd-5c10-4b67-8156-83b4d44eefe2\",\"type\":\"Toolbar\"},\"toolbar_location\":null,\"x_range\":{\"id\":\"730a8683-7834-49f5-84df-95a7a6659170\",\"type\":\"Range1d\"},\"x_scale\":{\"id\":\"1d2dccec-9ee4-4880-81e0-ea7c882d337a\",\"type\":\"LinearScale\"},\"y_range\":{\"id\":\"b85d325c-de53-4e59-9176-868b470c60f2\",\"type\":\"Range1d\"},\"y_scale\":{\"id\":\"6ed40d54-eee6-4f2a-ad79-1aa2a68f7bf8\",\"type\":\"LinearScale\"}},\"id\":\"765e9ee2-60df-4c64-b747-a58ba6d27b31\",\"subtype\":\"Figure\",\"type\":\"Plot\"},{\"attributes\":{\"callback\":null,\"end\":0.01,\"start\":1020},\"id\":\"a93592fe-1480-41eb-af67-c65071de953e\",\"type\":\"Range1d\"},{\"attributes\":{\"source\":{\"id\":\"7036801e-5162-4143-b79d-d7a4022840f4\",\"type\":\"ColumnDataSource\"}},\"id\":\"15c43c4e-277a-4293-abbb-9f3ed181e115\",\"type\":\"CDSView\"},{\"attributes\":{},\"id\":\"1d2dccec-9ee4-4880-81e0-ea7c882d337a\",\"type\":\"LinearScale\"},{\"attributes\":{},\"id\":\"8ecee95f-5ce5-44e9-a64a-221b6910f40d\",\"type\":\"WheelZoomTool\"},{\"attributes\":{\"axis_label\":\"pressure [mb]\",\"formatter\":{\"id\":\"d06881fa-5285-43d7-af24-a63d624ed9a3\",\"type\":\"LogTickFormatter\"},\"plot\":{\"id\":\"807d0fa0-0624-4dd3-bf8e-7697ea15ad56\",\"subtype\":\"Figure\",\"type\":\"Plot\"},\"ticker\":{\"id\":\"2b1dc772-a656-401b-8ff1-c32a9a11ebf2\",\"type\":\"LogTicker\"}},\"id\":\"4ec03db6-e528-4f71-986e-b3157484ac54\",\"type\":\"LogAxis\"},{\"attributes\":{\"fill_alpha\":{\"value\":0.1},\"fill_color\":{\"value\":\"#1f77b4\"},\"line_alpha\":{\"value\":0.1},\"line_color\":{\"value\":\"#1f77b4\"},\"x\":{\"field\":\"x\"},\"y\":{\"field\":\"y\"}},\"id\":\"de38076e-8e0b-4fc5-a7cc-7b10a2afca93\",\"type\":\"Circle\"},{\"attributes\":{},\"id\":\"6ed40d54-eee6-4f2a-ad79-1aa2a68f7bf8\",\"type\":\"LinearScale\"},{\"attributes\":{\"callback\":null,\"column_names\":[\"x\",\"y\"],\"data\":{\"x\":{\"__ndarray__\":\"/zT/+ccsBUBoaPKDqZwDQPkdHh2yPAJAxbzYxX6AA0B2wYXhyNgCQLr4254g8QJATXSnhdw2AkBEGapiKj0BQL2XsVcOw/8/FgeGYuEa/D+RqXEl8aj4PzJ9ZZQdEfQ/ct21AESs7j9PJ3bAt6HlP1MIBSEwAd4/69+a4ECt2D9NCCXlUZ7WP6gCakFaKdM/Qo//nxYF0T920i0BGfbRP9YU0F110dU/wNYAAFv52z+C3OreL4vhP11mXGGPI+M/QsOsYdDz4j8efUBeF9fhP9/x1MDicuA/0TaCfQkP3j90/Abcqe/aPyXT2359Hdk/A3aYo4WT1z9eclCAMEnVP29bQtu9ntM/mF84nYV50j/c6qSEgaPQPzj2Dcg1cM0/Q6TP3H1tyj/0kEK8IrbIPw7/wIfYgcY/98wOyJCpxT+n0f3/rHfRPxn7mv5PEuY/SJVyCGbW8T8z3lZ6bZb2P1tsSf2rHfY/kT3nEx5Z8T8bbY+9YjbtPw7+dsASG+g/kM5tgKFg4z/N2W3d7uHfP2sQpFpd8dk/J0HqPEtM0z8VEc1VVsfJPwAAAAAAAAAATB4Nrz0Wvz/oF6sh/zmxPwedJB7PtaI/qiGpOQSElj+OsGGzR5uPP/cmsWTB1oY/Oi12Pu4pgT+h2jwjjAV7PxacxuEIpXY/Xh8DnTxxdD8wxwveWXh0P3rZICOB/nY/4EN4IcXTfj8TbUhVc7aFPym8qDZoSos/sQ8igVXhij+DVTahyXSEP75r38ILOXo/N432Au+AcD9Gatp8Ff1mP4L2aWOMEqW/\",\"dtype\":\"float64\",\"shape\":[75]},\"y\":{\"__ndarray__\":\"MCRxoNFnQT9dcvo90IdNP+qWHeIftlQ/dNWXAFcNXT8NYIJ9MWBkP10nQT3OlGw/j4BJYrQLdD9jyv8cUR58P6d8Yj6UuIM/4k9uirCpiz98QnbexmaTPzw3+LjyNps/eYMeIE4Woz9zNWieEsaqP8rD9h4kx7I/FYYSdwZXuj8CvMP1QXnCPxYvFobI6ck/F35wPnUs0j/hCb3+JH7ZPwumL75H4eE/FK5H4XoU6T/Xo3A9CpfxPwaBlUOLrPg/ira+oyFOAUCgGi/dJEYIQBE2PL1SBhFAwE2QInzhF0B3TrNAu78gQPXb14FzfidA0ZFc/kN6MEAFo5I6AR03QHtLOV/sNUBAxAq3fCS9RkC8zob8M79PQCgmb4CZcVVAMzMzMzNjW0BmZmZmZqpgQLzoK0gzo2NAAAAAAACcZkBEF9S3zJRpQJqZmZmZjWxAZmZmZmaGb0AQ5KCEmT9xQAAAAAAAvHJA8Btfe2Y4dEAIclDCzLR1QPiNrz0zMXdAEOSghJmteEAAAAAAACp6QPAbX3tmpntACXJQwswifUD3ja89M59+QDeJQWDlSH9ACHJQwswNgEAAAAAAAMyAQPiNrz0zioFABTkoYWZIgkD7xteemQaDQAhyUMLMxINAAAAAAACDhED4ja89M0GFQAU5KGFm/4VA+8bXnpm9hkAIclDCzHuHQAAAAAAAOohA+I2vPTP4iEAFOShhZraJQPvG156ZdIpACXJQwswyi0AAAAAAAPGLQPeNrz0zr4xABTkoYWZtjUD7xteemSuOQHEDPj/M6Y5A\",\"dtype\":\"float64\",\"shape\":[75]}}},\"id\":\"851a6567-634d-4655-a65d-ed2a9e1e0a4a\",\"type\":\"ColumnDataSource\"},{\"attributes\":{\"axis_label\":\"cooling rate [K/day]\",\"formatter\":{\"id\":\"0e7a28ba-70de-4b59-a47e-30f7af160250\",\"type\":\"BasicTickFormatter\"},\"plot\":{\"id\":\"765e9ee2-60df-4c64-b747-a58ba6d27b31\",\"subtype\":\"Figure\",\"type\":\"Plot\"},\"ticker\":{\"id\":\"50865659-c578-4b9e-b11c-5e028b942d73\",\"type\":\"BasicTicker\"}},\"id\":\"ab280c63-2091-4301-bfa9-caf2c32b907d\",\"type\":\"LinearAxis\"},{\"attributes\":{\"tools\":[{\"id\":\"28b458e8-0072-4031-af75-d16d9e8c235d\",\"type\":\"PanTool\"},{\"id\":\"9f6668da-327f-46ab-9b8c-8c76358b478c\",\"type\":\"WheelZoomTool\"},{\"id\":\"30ae4dd2-e813-454b-b4b2-ade9ea3c9880\",\"type\":\"BoxZoomTool\"},{\"id\":\"5a1811c5-c14e-4f87-90db-7ba57da58ca5\",\"type\":\"SaveTool\"},{\"id\":\"19a1f89f-00ba-48b7-9f33-e5ee36bb4c71\",\"type\":\"ResetTool\"},{\"id\":\"234f7e17-da9c-4f20-b98c-3e8f42b565a7\",\"type\":\"HelpTool\"},{\"id\":\"1447e6f9-3834-45e8-a7b7-12d1a8bb251c\",\"type\":\"PanTool\"},{\"id\":\"8ecee95f-5ce5-44e9-a64a-221b6910f40d\",\"type\":\"WheelZoomTool\"},{\"id\":\"b45d2132-9505-43d0-8d28-1a7df3173b42\",\"type\":\"BoxZoomTool\"},{\"id\":\"8609ac46-222b-4cc2-8e42-f83c4a3408bb\",\"type\":\"SaveTool\"},{\"id\":\"24bea70f-4d75-4166-b349-5c46c24a65c3\",\"type\":\"ResetTool\"},{\"id\":\"2348a1af-3897-4ef3-a973-4b585dbbd089\",\"type\":\"HelpTool\"}]},\"id\":\"318f2ca9-0293-4f0b-8b0e-a9de3299ed76\",\"type\":\"ProxyToolbar\"},{\"attributes\":{\"callback\":null,\"column_names\":[\"x\",\"y\"],\"data\":{\"x\":{\"__ndarray__\":\"jLlrCfkgFUCzWZoAaIkSQOYXFLzXdxFAdq6D3nY0EECStHY2P4kNQNRGdTqQZQpAVmcQepEkB0BXtDnObfIDQIbzuo/t9gBAvpBpyNON/D9W7xWCwbr3P+UZRSCoRPM/aqiL87v57T/Wu2hd3XDlP9H5OrpbY90/qErG9+az2D8qH0CO/yXYP2MssiEozNY/okJUZQgV1j/o/Zg50azWP7xiHflJ1tg/8pOLrXdq3T/oH/Hpub7hPw5dmmxN5OI/Ca80Wz8+4j/nguH5mFHhP+6y/Ez/KuA/wHa0mkMM3j+M9KJ2vwrcP1sZ4MSIK9o/BpBvKcY92D9e3wNL4BzWP4Zp502oVNQ/I/S3LV8R0z+ZSAYM1JrRP0eCHb3pr88/Qfn1Il5HzT8mkqZJQgXMPzUm5Wo72Mk/AZBN0RWVyD/SGRh5WRPTPw0LIEJ9B+c/LlOT4A1J8j8gUOxX8PH1P+XqbG2G4PU/+aOoM/dw8T9I4M0iLfjrP1+9oymvU+c//icDMDOG4z8eqFMe3QjgPy2M2wXWc9k/0xDZMNgH0z+V1p32rTnLPzvX/1JpuMI/ILP6vSm5uD8iBw4wP6yvP4zEE2CpRaQ/7qtoL3/emj96FB6cnmORP76O6R0vI4c/KEgrgGLSgD+J6QfcT5J6P85zFoZgBnc/LEL1e1ADdj/V9dDuMxZ4P/fnYSo2VH8/5AmMDqvshT8GroNnaFqLP1l6ean07Yo/tLVJO/F5hD+Hy/nEqzx6P+tSoCnUh3A/IiJPryjuZj+FeoeO7vZhP8hbz4xVtaY/\",\"dtype\":\"float64\",\"shape\":[75]},\"y\":{\"__ndarray__\":\"GhExyth1ND/Sv8nbtpRIP2vylNV0PVE/aTum7souWD/At0SJ8fVgPw3Iuahxymc/MSNhhJWvcD/bTfBN02d3P2zb5nxnaoA/CD5h5MAGhz8NmeH1TyaQP+zrCsc9p5Y/LbKd76fGnz/bLW5ISEmmPww9YvTcQq8/JV2OstnstT8Er5Y7M8G+P0c+r3jqkcU/5h99k6ZBzj88bCIzFzjVP4enV8oyxN0//yH99nXg5D8qOpLLf0jtP5kqGJXUifQ/c9cS8kHP/D+/DpwzojQEQIEmwoanVwxA4lgXt9HgE0BSSZ2AJuIbQAMJih9jjiNA5q4l5INuK0AwTKYKRj0zQNv5fmq8/DpAaCJseHrtQkB/+zpwzoxKQM3MzMzMeFJAZmZmZmZqWEAAAAAAAFxeQM3MzMzMJmJAmpmZmZkfZUBmZmZmZhhoQDMzMzMzEWtAAAAAAAAKbkBmZmZmZoFwQM3MzMzM/XFAMzMzMzN6c0CamZmZmfZ0QAAAAAAAc3ZAZmZmZmbvd0DNzMzMzGt5QDMzMzMz6HpAmpmZmZlkfEAAAAAAAOF9QGZmZmZmXX9AZmZmZuZsgECamZmZGSuBQM3MzMxM6YFAAAAAAICngkAzMzMzs2WDQGZmZmbmI4RAmpmZmRnihEDNzMzMTKCFQAAAAACAXoZAMzMzM7Mch0BmZmZm5tqHQJqZmZkZmYhAzczMzExXiUAAAAAAgBWKQDMzMzOz04pAZmZmZuaRi0CamZmZGVCMQM3MzMxMDo1AAAAAAIDMjUAzMzMzs4qOQGZmZmbmSI9A\",\"dtype\":\"float64\",\"shape\":[75]}}},\"id\":\"f133dbf3-c882-4cce-a673-9deaa3cf58c5\",\"type\":\"ColumnDataSource\"},{\"attributes\":{},\"id\":\"1447e6f9-3834-45e8-a7b7-12d1a8bb251c\",\"type\":\"PanTool\"},{\"attributes\":{\"active_drag\":\"auto\",\"active_inspect\":\"auto\",\"active_scroll\":\"auto\",\"active_tap\":\"auto\",\"tools\":[{\"id\":\"28b458e8-0072-4031-af75-d16d9e8c235d\",\"type\":\"PanTool\"},{\"id\":\"9f6668da-327f-46ab-9b8c-8c76358b478c\",\"type\":\"WheelZoomTool\"},{\"id\":\"30ae4dd2-e813-454b-b4b2-ade9ea3c9880\",\"type\":\"BoxZoomTool\"},{\"id\":\"5a1811c5-c14e-4f87-90db-7ba57da58ca5\",\"type\":\"SaveTool\"},{\"id\":\"19a1f89f-00ba-48b7-9f33-e5ee36bb4c71\",\"type\":\"ResetTool\"},{\"id\":\"234f7e17-da9c-4f20-b98c-3e8f42b565a7\",\"type\":\"HelpTool\"}]},\"id\":\"a671f8cd-5c10-4b67-8156-83b4d44eefe2\",\"type\":\"Toolbar\"},{\"attributes\":{\"bottom_units\":\"screen\",\"fill_alpha\":{\"value\":0.5},\"fill_color\":{\"value\":\"lightgrey\"},\"left_units\":\"screen\",\"level\":\"overlay\",\"line_alpha\":{\"value\":1.0},\"line_color\":{\"value\":\"black\"},\"line_dash\":[4,4],\"line_width\":{\"value\":2},\"plot\":null,\"render_mode\":\"css\",\"right_units\":\"screen\",\"top_units\":\"screen\"},\"id\":\"b6498e6a-7739-49a0-8b86-627e6983bf1b\",\"type\":\"BoxAnnotation\"},{\"attributes\":{\"num_minor_ticks\":10},\"id\":\"2b1dc772-a656-401b-8ff1-c32a9a11ebf2\",\"type\":\"LogTicker\"},{\"attributes\":{\"plot\":null,\"text\":\"Linear pressure scale\"},\"id\":\"0b209d20-b96b-4281-b8f0-ba5a235019b7\",\"type\":\"Title\"},{\"attributes\":{\"callback\":null,\"column_names\":[\"x\",\"y\"],\"data\":{\"x\":{\"__ndarray__\":\"jLlrCfkgFUCzWZoAaIkSQOYXFLzXdxFAdq6D3nY0EECStHY2P4kNQNRGdTqQZQpAVmcQepEkB0BXtDnObfIDQIbzuo/t9gBAvpBpyNON/D9W7xWCwbr3P+UZRSCoRPM/aqiL87v57T/Wu2hd3XDlP9H5OrpbY90/qErG9+az2D8qH0CO/yXYP2MssiEozNY/okJUZQgV1j/o/Zg50azWP7xiHflJ1tg/8pOLrXdq3T/oH/Hpub7hPw5dmmxN5OI/Ca80Wz8+4j/nguH5mFHhP+6y/Ez/KuA/wHa0mkMM3j+M9KJ2vwrcP1sZ4MSIK9o/BpBvKcY92D9e3wNL4BzWP4Zp502oVNQ/I/S3LV8R0z+ZSAYM1JrRP0eCHb3pr88/Qfn1Il5HzT8mkqZJQgXMPzUm5Wo72Mk/AZBN0RWVyD/SGRh5WRPTPw0LIEJ9B+c/LlOT4A1J8j8gUOxX8PH1P+XqbG2G4PU/+aOoM/dw8T9I4M0iLfjrP1+9oymvU+c//icDMDOG4z8eqFMe3QjgPy2M2wXWc9k/0xDZMNgH0z+V1p32rTnLPzvX/1JpuMI/ILP6vSm5uD8iBw4wP6yvP4zEE2CpRaQ/7qtoL3/emj96FB6cnmORP76O6R0vI4c/KEgrgGLSgD+J6QfcT5J6P85zFoZgBnc/LEL1e1ADdj/V9dDuMxZ4P/fnYSo2VH8/5AmMDqvshT8GroNnaFqLP1l6ean07Yo/tLVJO/F5hD+Hy/nEqzx6P+tSoCnUh3A/IiJPryjuZj+FeoeO7vZhP8hbz4xVtaY/\",\"dtype\":\"float64\",\"shape\":[75]},\"y\":{\"__ndarray__\":\"GhExyth1ND/Sv8nbtpRIP2vylNV0PVE/aTum7souWD/At0SJ8fVgPw3Iuahxymc/MSNhhJWvcD/bTfBN02d3P2zb5nxnaoA/CD5h5MAGhz8NmeH1TyaQP+zrCsc9p5Y/LbKd76fGnz/bLW5ISEmmPww9YvTcQq8/JV2OstnstT8Er5Y7M8G+P0c+r3jqkcU/5h99k6ZBzj88bCIzFzjVP4enV8oyxN0//yH99nXg5D8qOpLLf0jtP5kqGJXUifQ/c9cS8kHP/D+/DpwzojQEQIEmwoanVwxA4lgXt9HgE0BSSZ2AJuIbQAMJih9jjiNA5q4l5INuK0AwTKYKRj0zQNv5fmq8/DpAaCJseHrtQkB/+zpwzoxKQM3MzMzMeFJAZmZmZmZqWEAAAAAAAFxeQM3MzMzMJmJAmpmZmZkfZUBmZmZmZhhoQDMzMzMzEWtAAAAAAAAKbkBmZmZmZoFwQM3MzMzM/XFAMzMzMzN6c0CamZmZmfZ0QAAAAAAAc3ZAZmZmZmbvd0DNzMzMzGt5QDMzMzMz6HpAmpmZmZlkfEAAAAAAAOF9QGZmZmZmXX9AZmZmZuZsgECamZmZGSuBQM3MzMxM6YFAAAAAAICngkAzMzMzs2WDQGZmZmbmI4RAmpmZmRnihEDNzMzMTKCFQAAAAACAXoZAMzMzM7Mch0BmZmZm5tqHQJqZmZkZmYhAzczMzExXiUAAAAAAgBWKQDMzMzOz04pAZmZmZuaRi0CamZmZGVCMQM3MzMxMDo1AAAAAAIDMjUAzMzMzs4qOQGZmZmbmSI9A\",\"dtype\":\"float64\",\"shape\":[75]}}},\"id\":\"7036801e-5162-4143-b79d-d7a4022840f4\",\"type\":\"ColumnDataSource\"},{\"attributes\":{\"fill_alpha\":{\"value\":0.7},\"fill_color\":{\"value\":\"#4daf4a\"},\"line_alpha\":{\"value\":0.7},\"line_color\":{\"value\":\"#4daf4a\"},\"x\":{\"field\":\"x\"},\"y\":{\"field\":\"y\"}},\"id\":\"39f01195-d966-4ecd-8dc8-80c33a5dbc2a\",\"type\":\"Circle\"},{\"attributes\":{\"dimension\":1,\"plot\":{\"id\":\"765e9ee2-60df-4c64-b747-a58ba6d27b31\",\"subtype\":\"Figure\",\"type\":\"Plot\"},\"ticker\":{\"id\":\"c156e5e9-9d86-416b-a741-c9c41953f9c1\",\"type\":\"BasicTicker\"}},\"id\":\"96618b8b-3e6b-4c46-932a-645a191416af\",\"type\":\"Grid\"},{\"attributes\":{},\"id\":\"8609ac46-222b-4cc2-8e42-f83c4a3408bb\",\"type\":\"SaveTool\"},{\"attributes\":{\"axis_label\":\"pressure [mb]\",\"formatter\":{\"id\":\"cf2caaaa-fd9a-4216-a1f8-39fa6789223f\",\"type\":\"BasicTickFormatter\"},\"plot\":{\"id\":\"765e9ee2-60df-4c64-b747-a58ba6d27b31\",\"subtype\":\"Figure\",\"type\":\"Plot\"},\"ticker\":{\"id\":\"c156e5e9-9d86-416b-a741-c9c41953f9c1\",\"type\":\"BasicTicker\"}},\"id\":\"4962a568-8baa-4771-b07b-eeccbb36f992\",\"type\":\"LinearAxis\"},{\"attributes\":{},\"id\":\"50865659-c578-4b9e-b11c-5e028b942d73\",\"type\":\"BasicTicker\"},{\"attributes\":{},\"id\":\"2348a1af-3897-4ef3-a973-4b585dbbd089\",\"type\":\"HelpTool\"},{\"attributes\":{\"line_alpha\":0.6,\"line_color\":\"#e41a1c\",\"line_dash\":[6],\"line_width\":5,\"x\":{\"field\":\"x\"},\"y\":{\"field\":\"y\"}},\"id\":\"8bf258c3-acca-4142-88ba-5b4243e18c81\",\"type\":\"Line\"},{\"attributes\":{},\"id\":\"28b458e8-0072-4031-af75-d16d9e8c235d\",\"type\":\"PanTool\"},{\"attributes\":{\"bottom_units\":\"screen\",\"fill_alpha\":{\"value\":0.5},\"fill_color\":{\"value\":\"lightgrey\"},\"left_units\":\"screen\",\"level\":\"overlay\",\"line_alpha\":{\"value\":1.0},\"line_color\":{\"value\":\"black\"},\"line_dash\":[4,4],\"line_width\":{\"value\":2},\"plot\":null,\"render_mode\":\"css\",\"right_units\":\"screen\",\"top_units\":\"screen\"},\"id\":\"807e4615-094d-476f-b199-66c83ad7fab1\",\"type\":\"BoxAnnotation\"},{\"attributes\":{},\"id\":\"c156e5e9-9d86-416b-a741-c9c41953f9c1\",\"type\":\"BasicTicker\"},{\"attributes\":{\"plot\":{\"id\":\"765e9ee2-60df-4c64-b747-a58ba6d27b31\",\"subtype\":\"Figure\",\"type\":\"Plot\"},\"ticker\":{\"id\":\"50865659-c578-4b9e-b11c-5e028b942d73\",\"type\":\"BasicTicker\"}},\"id\":\"73da05b6-14cc-44c9-a944-af38b9a3357c\",\"type\":\"Grid\"},{\"attributes\":{\"callback\":null,\"end\":0.01,\"start\":1020},\"id\":\"b85d325c-de53-4e59-9176-868b470c60f2\",\"type\":\"Range1d\"},{\"attributes\":{\"children\":[{\"id\":\"1413f28b-96e7-44bb-b998-fc2458aa3ee9\",\"type\":\"Row\"}]},\"id\":\"47241fc3-6464-4704-9324-8c58b1e98468\",\"type\":\"Column\"},{\"attributes\":{\"items\":[{\"id\":\"26d121c1-ec81-436e-933e-4d344f2e9f17\",\"type\":\"LegendItem\"},{\"id\":\"aa84b429-841b-418c-b502-b9e6ccc6a0c3\",\"type\":\"LegendItem\"},{\"id\":\"3049107b-3181-4bfe-9b7a-d5598eb1ede4\",\"type\":\"LegendItem\"}],\"label_text_font_size\":{\"value\":\"8pt\"},\"location\":[10,-30],\"plot\":{\"id\":\"807d0fa0-0624-4dd3-bf8e-7697ea15ad56\",\"subtype\":\"Figure\",\"type\":\"Plot\"}},\"id\":\"8fab204d-a872-4262-9abc-7760bfd1b95d\",\"type\":\"Legend\"},{\"attributes\":{\"callback\":null,\"end\":1.42625432638,\"start\":-0.055685964379999994},\"id\":\"730a8683-7834-49f5-84df-95a7a6659170\",\"type\":\"Range1d\"},{\"attributes\":{\"data_source\":{\"id\":\"7036801e-5162-4143-b79d-d7a4022840f4\",\"type\":\"ColumnDataSource\"},\"glyph\":{\"id\":\"39f01195-d966-4ecd-8dc8-80c33a5dbc2a\",\"type\":\"Circle\"},\"hover_glyph\":null,\"muted_glyph\":null,\"nonselection_glyph\":{\"id\":\"de38076e-8e0b-4fc5-a7cc-7b10a2afca93\",\"type\":\"Circle\"},\"selection_glyph\":null,\"view\":{\"id\":\"15c43c4e-277a-4293-abbb-9f3ed181e115\",\"type\":\"CDSView\"}},\"id\":\"0e2f0297-ef85-4056-8b61-b8da696e8788\",\"type\":\"GlyphRenderer\"},{\"attributes\":{\"dimension\":1,\"plot\":{\"id\":\"807d0fa0-0624-4dd3-bf8e-7697ea15ad56\",\"subtype\":\"Figure\",\"type\":\"Plot\"},\"ticker\":{\"id\":\"2b1dc772-a656-401b-8ff1-c32a9a11ebf2\",\"type\":\"LogTicker\"}},\"id\":\"e8ebd228-d8c9-48be-8087-50a1c62626d0\",\"type\":\"Grid\"},{\"attributes\":{\"fill_alpha\":{\"value\":0.1},\"fill_color\":{\"value\":\"#1f77b4\"},\"line_alpha\":{\"value\":0.1},\"line_color\":{\"value\":\"#1f77b4\"},\"x\":{\"field\":\"x\"},\"y\":{\"field\":\"y\"}},\"id\":\"45f2f741-ac70-4c15-bc27-faafd413383d\",\"type\":\"Circle\"},{\"attributes\":{\"data_source\":{\"id\":\"fd9a0952-b4ce-4a33-91c9-64d569560358\",\"type\":\"ColumnDataSource\"},\"glyph\":{\"id\":\"b78a81b6-7238-410f-af90-77d575dba400\",\"type\":\"Circle\"},\"hover_glyph\":null,\"muted_glyph\":null,\"nonselection_glyph\":{\"id\":\"45f2f741-ac70-4c15-bc27-faafd413383d\",\"type\":\"Circle\"},\"selection_glyph\":null,\"view\":{\"id\":\"94b4baf0-81ef-4376-92a2-89b117bf8a63\",\"type\":\"CDSView\"}},\"id\":\"f1609137-87e5-4b90-821b-6e8e558bb9b9\",\"type\":\"GlyphRenderer\"},{\"attributes\":{},\"id\":\"cf2caaaa-fd9a-4216-a1f8-39fa6789223f\",\"type\":\"BasicTickFormatter\"},{\"attributes\":{\"line_alpha\":0.1,\"line_color\":\"#1f77b4\",\"line_dash\":[6],\"line_width\":5,\"x\":{\"field\":\"x\"},\"y\":{\"field\":\"y\"}},\"id\":\"25f7c205-9889-4429-b768-6991a5f6a2a2\",\"type\":\"Line\"},{\"attributes\":{\"callback\":null,\"column_names\":[\"x\",\"y\"],\"data\":{\"x\":{\"__ndarray__\":\"i8Yd/ikhB0CV//WHEFwGQFn6GSgcIgZASca4lSzIBUCbIwoprkAFQPVG+kKUggRAuTx3qvWFA0Cj2K30r0MCQMitDSTPuQBAxQ1NZlzT/T8K316ujrr5P46PsyPzTvU/gIbxp82/8D+AnEdMa2LoPyRuMvkcFOE/sjmCsJEO3D/iGW7SaxfaPxnOGcZiNtc/rzHM+T3y1D/6XZQeBLHUP3VqyayFQ9c/rLBh2jMb3T+dXPivX0TiP5LfPs+L5OM/kbt2QAKF4z+3vCM4w7LiPzrNf5q5W+E/2V7NZmvI3z+IuL/IORjdPwPYydtWtdo//a79CkTe2D9TbvErfOjWP9yhEpmDJNU/ogiegEb10z/0AvdG7VPSP+tuFpDAL9A/1l94poJlzT+8i8mwDqrLPx+NGeSeEMk/QhmWukiRxz+3r/1B4oXSP4T4Z/qT2OY/Nj+z5tJB8j/cIptxOz32Pwxu4gVZE/Y/e/oFJLpH8T8iTrFIuyTsP+WSiGiGa+c/D7+IwboO4z/EOZwuirLeP47UPwn8c9g/EsemcRB90j+oIYnsChTKP2yA7PUgMcE/HVAV/D0JtT/v39ZgHouoP2gpWSOEMp0/+qKm5gMBkz9+2D6U1vKJP/d5ps4JToI/rE+NJifbfD/sAjCgox14PwlE8zK3enU/M4S79+YDdT/BkkLu5Gx3P0Dw+ren634/2jw8LDTPhT+Sirlwq0mLP4u58hlF44o/kNbnXQ11hD90jtPFHDh6P+ZXCnywhXA/soCqb0/sZj/cCk5t/fVhP0f5wsZOtaY/\",\"dtype\":\"float64\",\"shape\":[75]},\"y\":{\"__ndarray__\":\"GhExyth1ND/Sv8nbtpRIP2vylNV0PVE/aTum7souWD/At0SJ8fVgPw3Iuahxymc/MSNhhJWvcD/bTfBN02d3P2zb5nxnaoA/CD5h5MAGhz8NmeH1TyaQP+zrCsc9p5Y/LbKd76fGnz/bLW5ISEmmPww9YvTcQq8/JV2OstnstT8Er5Y7M8G+P0c+r3jqkcU/5h99k6ZBzj88bCIzFzjVP4enV8oyxN0//yH99nXg5D8qOpLLf0jtP5kqGJXUifQ/c9cS8kHP/D+/DpwzojQEQIEmwoanVwxA4lgXt9HgE0BSSZ2AJuIbQAMJih9jjiNA5q4l5INuK0AwTKYKRj0zQNv5fmq8/DpAaCJseHrtQkB/+zpwzoxKQM3MzMzMeFJAZmZmZmZqWEAAAAAAAFxeQM3MzMzMJmJAmpmZmZkfZUBmZmZmZhhoQDMzMzMzEWtAAAAAAAAKbkBmZmZmZoFwQM3MzMzM/XFAMzMzMzN6c0CamZmZmfZ0QAAAAAAAc3ZAZmZmZmbvd0DNzMzMzGt5QDMzMzMz6HpAmpmZmZlkfEAAAAAAAOF9QGZmZmZmXX9AZmZmZuZsgECamZmZGSuBQM3MzMxM6YFAAAAAAICngkAzMzMzs2WDQGZmZmbmI4RAmpmZmRnihEDNzMzMTKCFQAAAAACAXoZAMzMzM7Mch0BmZmZm5tqHQJqZmZkZmYhAzczMzExXiUAAAAAAgBWKQDMzMzOz04pAZmZmZuaRi0CamZmZGVCMQM3MzMxMDo1AAAAAAIDMjUAzMzMzs4qOQGZmZmbmSI9A\",\"dtype\":\"float64\",\"shape\":[75]}}},\"id\":\"cea41958-8f5d-48a2-bab6-b49286dcdd49\",\"type\":\"ColumnDataSource\"},{\"attributes\":{\"line_alpha\":0.1,\"line_color\":\"#1f77b4\",\"line_width\":3,\"x\":{\"field\":\"x\"},\"y\":{\"field\":\"y\"}},\"id\":\"15d56576-a1bd-4d95-8c70-c1aad3896d1e\",\"type\":\"Line\"},{\"attributes\":{\"below\":[{\"id\":\"ea7c4f37-3076-4411-8a40-6468a7df7348\",\"type\":\"LinearAxis\"}],\"left\":[{\"id\":\"4ec03db6-e528-4f71-986e-b3157484ac54\",\"type\":\"LogAxis\"}],\"plot_height\":500,\"plot_width\":560,\"renderers\":[{\"id\":\"ea7c4f37-3076-4411-8a40-6468a7df7348\",\"type\":\"LinearAxis\"},{\"id\":\"4e8c9679-70af-44f7-9ed2-e852b7deb32d\",\"type\":\"Grid\"},{\"id\":\"4ec03db6-e528-4f71-986e-b3157484ac54\",\"type\":\"LogAxis\"},{\"id\":\"e8ebd228-d8c9-48be-8087-50a1c62626d0\",\"type\":\"Grid\"},{\"id\":\"b6498e6a-7739-49a0-8b86-627e6983bf1b\",\"type\":\"BoxAnnotation\"},{\"id\":\"d0b73e4b-0375-46e4-87be-36f0221d8342\",\"type\":\"GlyphRenderer\"},{\"id\":\"f1609137-87e5-4b90-821b-6e8e558bb9b9\",\"type\":\"GlyphRenderer\"},{\"id\":\"68f61932-c1fe-4261-bbc5-8385200321f1\",\"type\":\"GlyphRenderer\"},{\"id\":\"020a850d-c620-4bb8-a9cc-0c9223ccfa15\",\"type\":\"GlyphRenderer\"},{\"id\":\"3f9f800e-e38c-4f2e-9af3-b11a7ecc7aa7\",\"type\":\"GlyphRenderer\"},{\"id\":\"8fab204d-a872-4262-9abc-7760bfd1b95d\",\"type\":\"Legend\"}],\"right\":[{\"id\":\"8fab204d-a872-4262-9abc-7760bfd1b95d\",\"type\":\"Legend\"}],\"title\":{\"id\":\"71f92001-78ea-40c1-ba38-2a2711d0acf1\",\"type\":\"Title\"},\"toolbar\":{\"id\":\"a052bde5-2340-432b-b3db-03f2bbb391ee\",\"type\":\"Toolbar\"},\"toolbar_location\":null,\"x_range\":{\"id\":\"115ad97b-a72c-4094-90d0-4efc53a2e6b7\",\"type\":\"Range1d\"},\"x_scale\":{\"id\":\"f043f961-d7c2-46fb-ab35-d5473d4c29f2\",\"type\":\"LinearScale\"},\"y_range\":{\"id\":\"a93592fe-1480-41eb-af67-c65071de953e\",\"type\":\"Range1d\"},\"y_scale\":{\"id\":\"bfb1e2e8-4905-433e-bfa8-1c2a5a1986ac\",\"type\":\"LogScale\"}},\"id\":\"807d0fa0-0624-4dd3-bf8e-7697ea15ad56\",\"subtype\":\"Figure\",\"type\":\"Plot\"},{\"attributes\":{\"callback\":null,\"column_names\":[\"x\",\"y\"],\"data\":{\"x\":{\"__ndarray__\":\"jLlrCfkgFUCzWZoAaIkSQOYXFLzXdxFAdq6D3nY0EECStHY2P4kNQNRGdTqQZQpAVmcQepEkB0BXtDnObfIDQIbzuo/t9gBAvpBpyNON/D9W7xWCwbr3P+UZRSCoRPM/aqiL87v57T/Wu2hd3XDlP9H5OrpbY90/qErG9+az2D8qH0CO/yXYP2MssiEozNY/okJUZQgV1j/o/Zg50azWP7xiHflJ1tg/8pOLrXdq3T/oH/Hpub7hPw5dmmxN5OI/Ca80Wz8+4j/nguH5mFHhP+6y/Ez/KuA/wHa0mkMM3j+M9KJ2vwrcP1sZ4MSIK9o/BpBvKcY92D9e3wNL4BzWP4Zp502oVNQ/I/S3LV8R0z+ZSAYM1JrRP0eCHb3pr88/Qfn1Il5HzT8mkqZJQgXMPzUm5Wo72Mk/AZBN0RWVyD/SGRh5WRPTPw0LIEJ9B+c/LlOT4A1J8j8gUOxX8PH1P+XqbG2G4PU/+aOoM/dw8T9I4M0iLfjrP1+9oymvU+c//icDMDOG4z8eqFMe3QjgPy2M2wXWc9k/0xDZMNgH0z+V1p32rTnLPzvX/1JpuMI/ILP6vSm5uD8iBw4wP6yvP4zEE2CpRaQ/7qtoL3/emj96FB6cnmORP76O6R0vI4c/KEgrgGLSgD+J6QfcT5J6P85zFoZgBnc/LEL1e1ADdj/V9dDuMxZ4P/fnYSo2VH8/5AmMDqvshT8GroNnaFqLP1l6ean07Yo/tLVJO/F5hD+Hy/nEqzx6P+tSoCnUh3A/IiJPryjuZj+FeoeO7vZhP8hbz4xVtaY/\",\"dtype\":\"float64\",\"shape\":[75]},\"y\":{\"__ndarray__\":\"GhExyth1ND/Sv8nbtpRIP2vylNV0PVE/aTum7souWD/At0SJ8fVgPw3Iuahxymc/MSNhhJWvcD/bTfBN02d3P2zb5nxnaoA/CD5h5MAGhz8NmeH1TyaQP+zrCsc9p5Y/LbKd76fGnz/bLW5ISEmmPww9YvTcQq8/JV2OstnstT8Er5Y7M8G+P0c+r3jqkcU/5h99k6ZBzj88bCIzFzjVP4enV8oyxN0//yH99nXg5D8qOpLLf0jtP5kqGJXUifQ/c9cS8kHP/D+/DpwzojQEQIEmwoanVwxA4lgXt9HgE0BSSZ2AJuIbQAMJih9jjiNA5q4l5INuK0AwTKYKRj0zQNv5fmq8/DpAaCJseHrtQkB/+zpwzoxKQM3MzMzMeFJAZmZmZmZqWEAAAAAAAFxeQM3MzMzMJmJAmpmZmZkfZUBmZmZmZhhoQDMzMzMzEWtAAAAAAAAKbkBmZmZmZoFwQM3MzMzM/XFAMzMzMzN6c0CamZmZmfZ0QAAAAAAAc3ZAZmZmZmbvd0DNzMzMzGt5QDMzMzMz6HpAmpmZmZlkfEAAAAAAAOF9QGZmZmZmXX9AZmZmZuZsgECamZmZGSuBQM3MzMxM6YFAAAAAAICngkAzMzMzs2WDQGZmZmbmI4RAmpmZmRnihEDNzMzMTKCFQAAAAACAXoZAMzMzM7Mch0BmZmZm5tqHQJqZmZkZmYhAzczMzExXiUAAAAAAgBWKQDMzMzOz04pAZmZmZuaRi0CamZmZGVCMQM3MzMxMDo1AAAAAAIDMjUAzMzMzs4qOQGZmZmbmSI9A\",\"dtype\":\"float64\",\"shape\":[75]}}},\"id\":\"8e6259c7-abe1-42a3-bc29-be884e01cfe5\",\"type\":\"ColumnDataSource\"},{\"attributes\":{\"source\":{\"id\":\"851a6567-634d-4655-a65d-ed2a9e1e0a4a\",\"type\":\"ColumnDataSource\"}},\"id\":\"69f9247a-24fd-472e-8e58-fb57e3c1ce6f\",\"type\":\"CDSView\"},{\"attributes\":{\"label\":{\"value\":\"CLIRAD `coolr_bands`\"},\"renderers\":[{\"id\":\"d0b73e4b-0375-46e4-87be-36f0221d8342\",\"type\":\"GlyphRenderer\"}]},\"id\":\"26d121c1-ec81-436e-933e-4d344f2e9f17\",\"type\":\"LegendItem\"},{\"attributes\":{\"data_source\":{\"id\":\"a29eb9cb-4cb1-4def-8d40-a10aad550c3e\",\"type\":\"ColumnDataSource\"},\"glyph\":{\"id\":\"59d11b49-9efa-4570-9b1f-0f233eb4a387\",\"type\":\"Square\"},\"hover_glyph\":null,\"muted_glyph\":null,\"nonselection_glyph\":{\"id\":\"67930674-3949-4b83-a662-4c6ed9875ec1\",\"type\":\"Square\"},\"selection_glyph\":null,\"view\":{\"id\":\"2da9b075-bf39-4b1b-9be5-eff30dc6115d\",\"type\":\"CDSView\"}},\"id\":\"020a850d-c620-4bb8-a9cc-0c9223ccfa15\",\"type\":\"GlyphRenderer\"},{\"attributes\":{\"callback\":null,\"column_names\":[\"x\",\"y\"],\"data\":{\"x\":{\"__ndarray__\":\"i8Yd/ikhB0CV//WHEFwGQFn6GSgcIgZASca4lSzIBUCbIwoprkAFQPVG+kKUggRAuTx3qvWFA0Cj2K30r0MCQMitDSTPuQBAxQ1NZlzT/T8K316ujrr5P46PsyPzTvU/gIbxp82/8D+AnEdMa2LoPyRuMvkcFOE/sjmCsJEO3D/iGW7SaxfaPxnOGcZiNtc/rzHM+T3y1D/6XZQeBLHUP3VqyayFQ9c/rLBh2jMb3T+dXPivX0TiP5LfPs+L5OM/kbt2QAKF4z+3vCM4w7LiPzrNf5q5W+E/2V7NZmvI3z+IuL/IORjdPwPYydtWtdo//a79CkTe2D9TbvErfOjWP9yhEpmDJNU/ogiegEb10z/0AvdG7VPSP+tuFpDAL9A/1l94poJlzT+8i8mwDqrLPx+NGeSeEMk/QhmWukiRxz+3r/1B4oXSP4T4Z/qT2OY/Nj+z5tJB8j/cIptxOz32Pwxu4gVZE/Y/e/oFJLpH8T8iTrFIuyTsP+WSiGiGa+c/D7+IwboO4z/EOZwuirLeP47UPwn8c9g/EsemcRB90j+oIYnsChTKP2yA7PUgMcE/HVAV/D0JtT/v39ZgHouoP2gpWSOEMp0/+qKm5gMBkz9+2D6U1vKJP/d5ps4JToI/rE+NJifbfD/sAjCgox14PwlE8zK3enU/M4S79+YDdT/BkkLu5Gx3P0Dw+ren634/2jw8LDTPhT+Sirlwq0mLP4u58hlF44o/kNbnXQ11hD90jtPFHDh6P+ZXCnywhXA/soCqb0/sZj/cCk5t/fVhP0f5wsZOtaY/\",\"dtype\":\"float64\",\"shape\":[75]},\"y\":{\"__ndarray__\":\"GhExyth1ND/Sv8nbtpRIP2vylNV0PVE/aTum7souWD/At0SJ8fVgPw3Iuahxymc/MSNhhJWvcD/bTfBN02d3P2zb5nxnaoA/CD5h5MAGhz8NmeH1TyaQP+zrCsc9p5Y/LbKd76fGnz/bLW5ISEmmPww9YvTcQq8/JV2OstnstT8Er5Y7M8G+P0c+r3jqkcU/5h99k6ZBzj88bCIzFzjVP4enV8oyxN0//yH99nXg5D8qOpLLf0jtP5kqGJXUifQ/c9cS8kHP/D+/DpwzojQEQIEmwoanVwxA4lgXt9HgE0BSSZ2AJuIbQAMJih9jjiNA5q4l5INuK0AwTKYKRj0zQNv5fmq8/DpAaCJseHrtQkB/+zpwzoxKQM3MzMzMeFJAZmZmZmZqWEAAAAAAAFxeQM3MzMzMJmJAmpmZmZkfZUBmZmZmZhhoQDMzMzMzEWtAAAAAAAAKbkBmZmZmZoFwQM3MzMzM/XFAMzMzMzN6c0CamZmZmfZ0QAAAAAAAc3ZAZmZmZmbvd0DNzMzMzGt5QDMzMzMz6HpAmpmZmZlkfEAAAAAAAOF9QGZmZmZmXX9AZmZmZuZsgECamZmZGSuBQM3MzMxM6YFAAAAAAICngkAzMzMzs2WDQGZmZmbmI4RAmpmZmRnihEDNzMzMTKCFQAAAAACAXoZAMzMzM7Mch0BmZmZm5tqHQJqZmZkZmYhAzczMzExXiUAAAAAAgBWKQDMzMzOz04pAZmZmZuaRi0CamZmZGVCMQM3MzMxMDo1AAAAAAIDMjUAzMzMzs4qOQGZmZmbmSI9A\",\"dtype\":\"float64\",\"shape\":[75]}}},\"id\":\"a29eb9cb-4cb1-4def-8d40-a10aad550c3e\",\"type\":\"ColumnDataSource\"},{\"attributes\":{},\"id\":\"f043f961-d7c2-46fb-ab35-d5473d4c29f2\",\"type\":\"LinearScale\"},{\"attributes\":{\"fill_alpha\":{\"value\":0.7},\"fill_color\":{\"value\":\"#4daf4a\"},\"line_alpha\":{\"value\":0.7},\"line_color\":{\"value\":\"#4daf4a\"},\"x\":{\"field\":\"x\"},\"y\":{\"field\":\"y\"}},\"id\":\"b78a81b6-7238-410f-af90-77d575dba400\",\"type\":\"Circle\"},{\"attributes\":{\"line_alpha\":0.6,\"line_color\":\"#984ea3\",\"line_width\":3,\"x\":{\"field\":\"x\"},\"y\":{\"field\":\"y\"}},\"id\":\"7b7b0cf0-2860-4bf6-9151-13daed7491b3\",\"type\":\"Line\"},{\"attributes\":{},\"id\":\"bfb1e2e8-4905-433e-bfa8-1c2a5a1986ac\",\"type\":\"LogScale\"},{\"attributes\":{\"plot\":null,\"text\":\"Log pressure scale\"},\"id\":\"71f92001-78ea-40c1-ba38-2a2711d0acf1\",\"type\":\"Title\"},{\"attributes\":{},\"id\":\"c2d5ba95-2ed0-4547-b313-f48104f3f1f2\",\"type\":\"BasicTickFormatter\"},{\"attributes\":{\"ticker\":null},\"id\":\"d06881fa-5285-43d7-af24-a63d624ed9a3\",\"type\":\"LogTickFormatter\"},{\"attributes\":{\"line_alpha\":0.1,\"line_color\":\"#1f77b4\",\"line_dash\":[6],\"line_width\":5,\"x\":{\"field\":\"x\"},\"y\":{\"field\":\"y\"}},\"id\":\"9af51632-ebf1-4290-a88c-d2ae6e090f55\",\"type\":\"Line\"},{\"attributes\":{\"source\":{\"id\":\"fd9a0952-b4ce-4a33-91c9-64d569560358\",\"type\":\"ColumnDataSource\"}},\"id\":\"94b4baf0-81ef-4376-92a2-89b117bf8a63\",\"type\":\"CDSView\"},{\"attributes\":{\"data_source\":{\"id\":\"851a6567-634d-4655-a65d-ed2a9e1e0a4a\",\"type\":\"ColumnDataSource\"},\"glyph\":{\"id\":\"f3a11e2e-6156-4d9f-8cad-eefe9f20acfa\",\"type\":\"Line\"},\"hover_glyph\":null,\"muted_glyph\":null,\"nonselection_glyph\":{\"id\":\"9af51632-ebf1-4290-a88c-d2ae6e090f55\",\"type\":\"Line\"},\"selection_glyph\":null,\"view\":{\"id\":\"69f9247a-24fd-472e-8e58-fb57e3c1ce6f\",\"type\":\"CDSView\"}},\"id\":\"d0b73e4b-0375-46e4-87be-36f0221d8342\",\"type\":\"GlyphRenderer\"},{\"attributes\":{\"callback\":null,\"column_names\":[\"x\",\"y\"],\"data\":{\"x\":{\"__ndarray__\":\"jLlrCfkgFUCzWZoAaIkSQOYXFLzXdxFAdq6D3nY0EECStHY2P4kNQNRGdTqQZQpAVmcQepEkB0BXtDnObfIDQIbzuo/t9gBAvpBpyNON/D9W7xWCwbr3P+UZRSCoRPM/aqiL87v57T/Wu2hd3XDlP9H5OrpbY90/qErG9+az2D8qH0CO/yXYP2MssiEozNY/okJUZQgV1j/o/Zg50azWP7xiHflJ1tg/8pOLrXdq3T/oH/Hpub7hPw5dmmxN5OI/Ca80Wz8+4j/nguH5mFHhP+6y/Ez/KuA/wHa0mkMM3j+M9KJ2vwrcP1sZ4MSIK9o/BpBvKcY92D9e3wNL4BzWP4Zp502oVNQ/I/S3LV8R0z+ZSAYM1JrRP0eCHb3pr88/Qfn1Il5HzT8mkqZJQgXMPzUm5Wo72Mk/AZBN0RWVyD/SGRh5WRPTPw0LIEJ9B+c/LlOT4A1J8j8gUOxX8PH1P+XqbG2G4PU/+aOoM/dw8T9I4M0iLfjrP1+9oymvU+c//icDMDOG4z8eqFMe3QjgPy2M2wXWc9k/0xDZMNgH0z+V1p32rTnLPzvX/1JpuMI/ILP6vSm5uD8iBw4wP6yvP4zEE2CpRaQ/7qtoL3/emj96FB6cnmORP76O6R0vI4c/KEgrgGLSgD+J6QfcT5J6P85zFoZgBnc/LEL1e1ADdj/V9dDuMxZ4P/fnYSo2VH8/5AmMDqvshT8GroNnaFqLP1l6ean07Yo/tLVJO/F5hD+Hy/nEqzx6P+tSoCnUh3A/IiJPryjuZj+FeoeO7vZhP8hbz4xVtaY/\",\"dtype\":\"float64\",\"shape\":[75]},\"y\":{\"__ndarray__\":\"GhExyth1ND/Sv8nbtpRIP2vylNV0PVE/aTum7souWD/At0SJ8fVgPw3Iuahxymc/MSNhhJWvcD/bTfBN02d3P2zb5nxnaoA/CD5h5MAGhz8NmeH1TyaQP+zrCsc9p5Y/LbKd76fGnz/bLW5ISEmmPww9YvTcQq8/JV2OstnstT8Er5Y7M8G+P0c+r3jqkcU/5h99k6ZBzj88bCIzFzjVP4enV8oyxN0//yH99nXg5D8qOpLLf0jtP5kqGJXUifQ/c9cS8kHP/D+/DpwzojQEQIEmwoanVwxA4lgXt9HgE0BSSZ2AJuIbQAMJih9jjiNA5q4l5INuK0AwTKYKRj0zQNv5fmq8/DpAaCJseHrtQkB/+zpwzoxKQM3MzMzMeFJAZmZmZmZqWEAAAAAAAFxeQM3MzMzMJmJAmpmZmZkfZUBmZmZmZhhoQDMzMzMzEWtAAAAAAAAKbkBmZmZmZoFwQM3MzMzM/XFAMzMzMzN6c0CamZmZmfZ0QAAAAAAAc3ZAZmZmZmbvd0DNzMzMzGt5QDMzMzMz6HpAmpmZmZlkfEAAAAAAAOF9QGZmZmZmXX9AZmZmZuZsgECamZmZGSuBQM3MzMxM6YFAAAAAAICngkAzMzMzs2WDQGZmZmbmI4RAmpmZmRnihEDNzMzMTKCFQAAAAACAXoZAMzMzM7Mch0BmZmZm5tqHQJqZmZkZmYhAzczMzExXiUAAAAAAgBWKQDMzMzOz04pAZmZmZuaRi0CamZmZGVCMQM3MzMxMDo1AAAAAAIDMjUAzMzMzs4qOQGZmZmbmSI9A\",\"dtype\":\"float64\",\"shape\":[75]}}},\"id\":\"fd9a0952-b4ce-4a33-91c9-64d569560358\",\"type\":\"ColumnDataSource\"},{\"attributes\":{\"line_color\":\"#4daf4a\",\"line_width\":1.5,\"x\":{\"field\":\"x\"},\"y\":{\"field\":\"y\"}},\"id\":\"d49e815a-8ab7-4c71-bbd1-c8f900e6fa99\",\"type\":\"Line\"},{\"attributes\":{\"callback\":null,\"column_names\":[\"x\",\"y\"],\"data\":{\"x\":{\"__ndarray__\":\"i8Yd/ikhB0CV//WHEFwGQFn6GSgcIgZASca4lSzIBUCbIwoprkAFQPVG+kKUggRAuTx3qvWFA0Cj2K30r0MCQMitDSTPuQBAxQ1NZlzT/T8K316ujrr5P46PsyPzTvU/gIbxp82/8D+AnEdMa2LoPyRuMvkcFOE/sjmCsJEO3D/iGW7SaxfaPxnOGcZiNtc/rzHM+T3y1D/6XZQeBLHUP3VqyayFQ9c/rLBh2jMb3T+dXPivX0TiP5LfPs+L5OM/kbt2QAKF4z+3vCM4w7LiPzrNf5q5W+E/2V7NZmvI3z+IuL/IORjdPwPYydtWtdo//a79CkTe2D9TbvErfOjWP9yhEpmDJNU/ogiegEb10z/0AvdG7VPSP+tuFpDAL9A/1l94poJlzT+8i8mwDqrLPx+NGeSeEMk/QhmWukiRxz+3r/1B4oXSP4T4Z/qT2OY/Nj+z5tJB8j/cIptxOz32Pwxu4gVZE/Y/e/oFJLpH8T8iTrFIuyTsP+WSiGiGa+c/D7+IwboO4z/EOZwuirLeP47UPwn8c9g/EsemcRB90j+oIYnsChTKP2yA7PUgMcE/HVAV/D0JtT/v39ZgHouoP2gpWSOEMp0/+qKm5gMBkz9+2D6U1vKJP/d5ps4JToI/rE+NJifbfD/sAjCgox14PwlE8zK3enU/M4S79+YDdT/BkkLu5Gx3P0Dw+ren634/2jw8LDTPhT+Sirlwq0mLP4u58hlF44o/kNbnXQ11hD90jtPFHDh6P+ZXCnywhXA/soCqb0/sZj/cCk5t/fVhP0f5wsZOtaY/\",\"dtype\":\"float64\",\"shape\":[75]},\"y\":{\"__ndarray__\":\"GhExyth1ND/Sv8nbtpRIP2vylNV0PVE/aTum7souWD/At0SJ8fVgPw3Iuahxymc/MSNhhJWvcD/bTfBN02d3P2zb5nxnaoA/CD5h5MAGhz8NmeH1TyaQP+zrCsc9p5Y/LbKd76fGnz/bLW5ISEmmPww9YvTcQq8/JV2OstnstT8Er5Y7M8G+P0c+r3jqkcU/5h99k6ZBzj88bCIzFzjVP4enV8oyxN0//yH99nXg5D8qOpLLf0jtP5kqGJXUifQ/c9cS8kHP/D+/DpwzojQEQIEmwoanVwxA4lgXt9HgE0BSSZ2AJuIbQAMJih9jjiNA5q4l5INuK0AwTKYKRj0zQNv5fmq8/DpAaCJseHrtQkB/+zpwzoxKQM3MzMzMeFJAZmZmZmZqWEAAAAAAAFxeQM3MzMzMJmJAmpmZmZkfZUBmZmZmZhhoQDMzMzMzEWtAAAAAAAAKbkBmZmZmZoFwQM3MzMzM/XFAMzMzMzN6c0CamZmZmfZ0QAAAAAAAc3ZAZmZmZmbvd0DNzMzMzGt5QDMzMzMz6HpAmpmZmZlkfEAAAAAAAOF9QGZmZmZmXX9AZmZmZuZsgECamZmZGSuBQM3MzMxM6YFAAAAAAICngkAzMzMzs2WDQGZmZmbmI4RAmpmZmRnihEDNzMzMTKCFQAAAAACAXoZAMzMzM7Mch0BmZmZm5tqHQJqZmZkZmYhAzczMzExXiUAAAAAAgBWKQDMzMzOz04pAZmZmZuaRi0CamZmZGVCMQM3MzMxMDo1AAAAAAIDMjUAzMzMzs4qOQGZmZmbmSI9A\",\"dtype\":\"float64\",\"shape\":[75]}}},\"id\":\"169ff2bb-c6ef-469c-a19a-27f0966a2817\",\"type\":\"ColumnDataSource\"},{\"attributes\":{\"axis_label\":\"cooling rate [K/day]\",\"formatter\":{\"id\":\"c2d5ba95-2ed0-4547-b313-f48104f3f1f2\",\"type\":\"BasicTickFormatter\"},\"plot\":{\"id\":\"807d0fa0-0624-4dd3-bf8e-7697ea15ad56\",\"subtype\":\"Figure\",\"type\":\"Plot\"},\"ticker\":{\"id\":\"26a69ec6-677d-4dcf-89b7-5fe75dcce215\",\"type\":\"BasicTicker\"}},\"id\":\"ea7c4f37-3076-4411-8a40-6468a7df7348\",\"type\":\"LinearAxis\"},{\"attributes\":{\"line_alpha\":0.1,\"line_color\":\"#1f77b4\",\"line_width\":1.5,\"x\":{\"field\":\"x\"},\"y\":{\"field\":\"y\"}},\"id\":\"545ff474-8ab1-4497-85a9-3e68c496b5e4\",\"type\":\"Line\"},{\"attributes\":{\"data_source\":{\"id\":\"8e6259c7-abe1-42a3-bc29-be884e01cfe5\",\"type\":\"ColumnDataSource\"},\"glyph\":{\"id\":\"d49e815a-8ab7-4c71-bbd1-c8f900e6fa99\",\"type\":\"Line\"},\"hover_glyph\":null,\"muted_glyph\":null,\"nonselection_glyph\":{\"id\":\"545ff474-8ab1-4497-85a9-3e68c496b5e4\",\"type\":\"Line\"},\"selection_glyph\":null,\"view\":{\"id\":\"7c22a2d3-0211-4cca-90f0-a88b20404364\",\"type\":\"CDSView\"}},\"id\":\"68f61932-c1fe-4261-bbc5-8385200321f1\",\"type\":\"GlyphRenderer\"},{\"attributes\":{\"active_drag\":\"auto\",\"active_inspect\":\"auto\",\"active_scroll\":\"auto\",\"active_tap\":\"auto\",\"tools\":[{\"id\":\"1447e6f9-3834-45e8-a7b7-12d1a8bb251c\",\"type\":\"PanTool\"},{\"id\":\"8ecee95f-5ce5-44e9-a64a-221b6910f40d\",\"type\":\"WheelZoomTool\"},{\"id\":\"b45d2132-9505-43d0-8d28-1a7df3173b42\",\"type\":\"BoxZoomTool\"},{\"id\":\"8609ac46-222b-4cc2-8e42-f83c4a3408bb\",\"type\":\"SaveTool\"},{\"id\":\"24bea70f-4d75-4166-b349-5c46c24a65c3\",\"type\":\"ResetTool\"},{\"id\":\"2348a1af-3897-4ef3-a973-4b585dbbd089\",\"type\":\"HelpTool\"}]},\"id\":\"a052bde5-2340-432b-b3db-03f2bbb391ee\",\"type\":\"Toolbar\"},{\"attributes\":{\"source\":{\"id\":\"83efdfb2-7086-4125-8c7f-9192c48d7bd8\",\"type\":\"ColumnDataSource\"}},\"id\":\"eafe084c-9582-41fd-843d-565792897e61\",\"type\":\"CDSView\"},{\"attributes\":{\"source\":{\"id\":\"8e6259c7-abe1-42a3-bc29-be884e01cfe5\",\"type\":\"ColumnDataSource\"}},\"id\":\"7c22a2d3-0211-4cca-90f0-a88b20404364\",\"type\":\"CDSView\"},{\"attributes\":{\"fill_alpha\":{\"value\":0.7},\"fill_color\":{\"value\":\"#984ea3\"},\"line_alpha\":{\"value\":0.7},\"line_color\":{\"value\":\"#984ea3\"},\"x\":{\"field\":\"x\"},\"y\":{\"field\":\"y\"}},\"id\":\"59d11b49-9efa-4570-9b1f-0f233eb4a387\",\"type\":\"Square\"},{\"attributes\":{\"fill_alpha\":{\"value\":0.1},\"fill_color\":{\"value\":\"#1f77b4\"},\"line_alpha\":{\"value\":0.1},\"line_color\":{\"value\":\"#1f77b4\"},\"x\":{\"field\":\"x\"},\"y\":{\"field\":\"y\"}},\"id\":\"67930674-3949-4b83-a662-4c6ed9875ec1\",\"type\":\"Square\"},{\"attributes\":{\"callback\":null,\"end\":1.88105043662313,\"start\":0.15228858438986997},\"id\":\"115ad97b-a72c-4094-90d0-4efc53a2e6b7\",\"type\":\"Range1d\"},{\"attributes\":{\"data_source\":{\"id\":\"169ff2bb-c6ef-469c-a19a-27f0966a2817\",\"type\":\"ColumnDataSource\"},\"glyph\":{\"id\":\"464c6e04-7848-4588-826e-610c8922b921\",\"type\":\"Line\"},\"hover_glyph\":null,\"muted_glyph\":null,\"nonselection_glyph\":{\"id\":\"1ff844fb-9c2a-424a-ab7c-c6a6868d62dd\",\"type\":\"Line\"},\"selection_glyph\":null,\"view\":{\"id\":\"cf1adb3f-21ed-45e3-b337-7ca7b51960e3\",\"type\":\"CDSView\"}},\"id\":\"3f9f800e-e38c-4f2e-9af3-b11a7ecc7aa7\",\"type\":\"GlyphRenderer\"},{\"attributes\":{\"source\":{\"id\":\"a29eb9cb-4cb1-4def-8d40-a10aad550c3e\",\"type\":\"ColumnDataSource\"}},\"id\":\"2da9b075-bf39-4b1b-9be5-eff30dc6115d\",\"type\":\"CDSView\"},{\"attributes\":{\"line_alpha\":0.6,\"line_color\":\"#984ea3\",\"line_width\":3,\"x\":{\"field\":\"x\"},\"y\":{\"field\":\"y\"}},\"id\":\"464c6e04-7848-4588-826e-610c8922b921\",\"type\":\"Line\"},{\"attributes\":{},\"id\":\"0e7a28ba-70de-4b59-a47e-30f7af160250\",\"type\":\"BasicTickFormatter\"},{\"attributes\":{\"line_alpha\":0.1,\"line_color\":\"#1f77b4\",\"line_width\":3,\"x\":{\"field\":\"x\"},\"y\":{\"field\":\"y\"}},\"id\":\"1ff844fb-9c2a-424a-ab7c-c6a6868d62dd\",\"type\":\"Line\"},{\"attributes\":{\"source\":{\"id\":\"f432ecee-f309-4308-a9be-a85d94702c97\",\"type\":\"ColumnDataSource\"}},\"id\":\"ae29e6cd-ae1a-428f-86e2-adf4dca04509\",\"type\":\"CDSView\"},{\"attributes\":{\"source\":{\"id\":\"cea41958-8f5d-48a2-bab6-b49286dcdd49\",\"type\":\"ColumnDataSource\"}},\"id\":\"ea3f9397-d538-42e3-a68c-990e8d934022\",\"type\":\"CDSView\"},{\"attributes\":{\"label\":{\"value\":\"CRD\"},\"renderers\":[{\"id\":\"f1609137-87e5-4b90-821b-6e8e558bb9b9\",\"type\":\"GlyphRenderer\"},{\"id\":\"68f61932-c1fe-4261-bbc5-8385200321f1\",\"type\":\"GlyphRenderer\"}]},\"id\":\"aa84b429-841b-418c-b502-b9e6ccc6a0c3\",\"type\":\"LegendItem\"},{\"attributes\":{\"data_source\":{\"id\":\"83efdfb2-7086-4125-8c7f-9192c48d7bd8\",\"type\":\"ColumnDataSource\"},\"glyph\":{\"id\":\"7b7b0cf0-2860-4bf6-9151-13daed7491b3\",\"type\":\"Line\"},\"hover_glyph\":null,\"muted_glyph\":null,\"nonselection_glyph\":{\"id\":\"15d56576-a1bd-4d95-8c70-c1aad3896d1e\",\"type\":\"Line\"},\"selection_glyph\":null,\"view\":{\"id\":\"eafe084c-9582-41fd-843d-565792897e61\",\"type\":\"CDSView\"}},\"id\":\"596aad63-cbbe-4103-9a29-228ce71cde1a\",\"type\":\"GlyphRenderer\"},{\"attributes\":{\"source\":{\"id\":\"169ff2bb-c6ef-469c-a19a-27f0966a2817\",\"type\":\"ColumnDataSource\"}},\"id\":\"cf1adb3f-21ed-45e3-b337-7ca7b51960e3\",\"type\":\"CDSView\"},{\"attributes\":{\"data_source\":{\"id\":\"cea41958-8f5d-48a2-bab6-b49286dcdd49\",\"type\":\"ColumnDataSource\"},\"glyph\":{\"id\":\"242d232b-6d35-466f-b6be-0951a1972786\",\"type\":\"Square\"},\"hover_glyph\":null,\"muted_glyph\":null,\"nonselection_glyph\":{\"id\":\"340e0219-0a13-47ff-841e-1f016eca8cad\",\"type\":\"Square\"},\"selection_glyph\":null,\"view\":{\"id\":\"ea3f9397-d538-42e3-a68c-990e8d934022\",\"type\":\"CDSView\"}},\"id\":\"619d3b89-074e-4df4-b067-1d343ff6af3b\",\"type\":\"GlyphRenderer\"},{\"attributes\":{\"source\":{\"id\":\"f133dbf3-c882-4cce-a673-9deaa3cf58c5\",\"type\":\"ColumnDataSource\"}},\"id\":\"3d639da9-f79e-4583-80cf-7c59004cace8\",\"type\":\"CDSView\"},{\"attributes\":{\"label\":{\"value\":\"WGT igg=10 wgt_flux=2\"},\"renderers\":[{\"id\":\"020a850d-c620-4bb8-a9cc-0c9223ccfa15\",\"type\":\"GlyphRenderer\"},{\"id\":\"3f9f800e-e38c-4f2e-9af3-b11a7ecc7aa7\",\"type\":\"GlyphRenderer\"}]},\"id\":\"3049107b-3181-4bfe-9b7a-d5598eb1ede4\",\"type\":\"LegendItem\"},{\"attributes\":{\"toolbar\":{\"id\":\"318f2ca9-0293-4f0b-8b0e-a9de3299ed76\",\"type\":\"ProxyToolbar\"},\"toolbar_location\":\"above\"},\"id\":\"18d87ce3-753d-4f87-8682-2099b28a8833\",\"type\":\"ToolbarBox\"},{\"attributes\":{\"children\":[{\"id\":\"18d87ce3-753d-4f87-8682-2099b28a8833\",\"type\":\"ToolbarBox\"},{\"id\":\"47241fc3-6464-4704-9324-8c58b1e98468\",\"type\":\"Column\"}]},\"id\":\"6e3a9f22-3975-4a87-aa89-4b396f4e9cdc\",\"type\":\"Column\"},{\"attributes\":{\"fill_alpha\":{\"value\":0.1},\"fill_color\":{\"value\":\"#1f77b4\"},\"line_alpha\":{\"value\":0.1},\"line_color\":{\"value\":\"#1f77b4\"},\"x\":{\"field\":\"x\"},\"y\":{\"field\":\"y\"}},\"id\":\"340e0219-0a13-47ff-841e-1f016eca8cad\",\"type\":\"Square\"},{\"attributes\":{\"fill_alpha\":{\"value\":0.7},\"fill_color\":{\"value\":\"#984ea3\"},\"line_alpha\":{\"value\":0.7},\"line_color\":{\"value\":\"#984ea3\"},\"x\":{\"field\":\"x\"},\"y\":{\"field\":\"y\"}},\"id\":\"242d232b-6d35-466f-b6be-0951a1972786\",\"type\":\"Square\"},{\"attributes\":{\"data_source\":{\"id\":\"f133dbf3-c882-4cce-a673-9deaa3cf58c5\",\"type\":\"ColumnDataSource\"},\"glyph\":{\"id\":\"78d8e65d-2bb1-423d-ad02-f96ab1bce05b\",\"type\":\"Line\"},\"hover_glyph\":null,\"muted_glyph\":null,\"nonselection_glyph\":{\"id\":\"23d97200-71e3-402e-8dd3-87acf1efe66f\",\"type\":\"Line\"},\"selection_glyph\":null,\"view\":{\"id\":\"3d639da9-f79e-4583-80cf-7c59004cace8\",\"type\":\"CDSView\"}},\"id\":\"814f6c5f-20f1-447f-bb3b-50639a7d1621\",\"type\":\"GlyphRenderer\"},{\"attributes\":{\"plot\":{\"id\":\"807d0fa0-0624-4dd3-bf8e-7697ea15ad56\",\"subtype\":\"Figure\",\"type\":\"Plot\"},\"ticker\":{\"id\":\"26a69ec6-677d-4dcf-89b7-5fe75dcce215\",\"type\":\"BasicTicker\"}},\"id\":\"4e8c9679-70af-44f7-9ed2-e852b7deb32d\",\"type\":\"Grid\"},{\"attributes\":{},\"id\":\"26a69ec6-677d-4dcf-89b7-5fe75dcce215\",\"type\":\"BasicTicker\"},{\"attributes\":{\"callback\":null,\"column_names\":[\"x\",\"y\"],\"data\":{\"x\":{\"__ndarray__\":\"i8Yd/ikhB0CV//WHEFwGQFn6GSgcIgZASca4lSzIBUCbIwoprkAFQPVG+kKUggRAuTx3qvWFA0Cj2K30r0MCQMitDSTPuQBAxQ1NZlzT/T8K316ujrr5P46PsyPzTvU/gIbxp82/8D+AnEdMa2LoPyRuMvkcFOE/sjmCsJEO3D/iGW7SaxfaPxnOGcZiNtc/rzHM+T3y1D/6XZQeBLHUP3VqyayFQ9c/rLBh2jMb3T+dXPivX0TiP5LfPs+L5OM/kbt2QAKF4z+3vCM4w7LiPzrNf5q5W+E/2V7NZmvI3z+IuL/IORjdPwPYydtWtdo//a79CkTe2D9TbvErfOjWP9yhEpmDJNU/ogiegEb10z/0AvdG7VPSP+tuFpDAL9A/1l94poJlzT+8i8mwDqrLPx+NGeSeEMk/QhmWukiRxz+3r/1B4oXSP4T4Z/qT2OY/Nj+z5tJB8j/cIptxOz32Pwxu4gVZE/Y/e/oFJLpH8T8iTrFIuyTsP+WSiGiGa+c/D7+IwboO4z/EOZwuirLeP47UPwn8c9g/EsemcRB90j+oIYnsChTKP2yA7PUgMcE/HVAV/D0JtT/v39ZgHouoP2gpWSOEMp0/+qKm5gMBkz9+2D6U1vKJP/d5ps4JToI/rE+NJifbfD/sAjCgox14PwlE8zK3enU/M4S79+YDdT/BkkLu5Gx3P0Dw+ren634/2jw8LDTPhT+Sirlwq0mLP4u58hlF44o/kNbnXQ11hD90jtPFHDh6P+ZXCnywhXA/soCqb0/sZj/cCk5t/fVhP0f5wsZOtaY/\",\"dtype\":\"float64\",\"shape\":[75]},\"y\":{\"__ndarray__\":\"GhExyth1ND/Sv8nbtpRIP2vylNV0PVE/aTum7souWD/At0SJ8fVgPw3Iuahxymc/MSNhhJWvcD/bTfBN02d3P2zb5nxnaoA/CD5h5MAGhz8NmeH1TyaQP+zrCsc9p5Y/LbKd76fGnz/bLW5ISEmmPww9YvTcQq8/JV2OstnstT8Er5Y7M8G+P0c+r3jqkcU/5h99k6ZBzj88bCIzFzjVP4enV8oyxN0//yH99nXg5D8qOpLLf0jtP5kqGJXUifQ/c9cS8kHP/D+/DpwzojQEQIEmwoanVwxA4lgXt9HgE0BSSZ2AJuIbQAMJih9jjiNA5q4l5INuK0AwTKYKRj0zQNv5fmq8/DpAaCJseHrtQkB/+zpwzoxKQM3MzMzMeFJAZmZmZmZqWEAAAAAAAFxeQM3MzMzMJmJAmpmZmZkfZUBmZmZmZhhoQDMzMzMzEWtAAAAAAAAKbkBmZmZmZoFwQM3MzMzM/XFAMzMzMzN6c0CamZmZmfZ0QAAAAAAAc3ZAZmZmZmbvd0DNzMzMzGt5QDMzMzMz6HpAmpmZmZlkfEAAAAAAAOF9QGZmZmZmXX9AZmZmZuZsgECamZmZGSuBQM3MzMxM6YFAAAAAAICngkAzMzMzs2WDQGZmZmbmI4RAmpmZmRnihEDNzMzMTKCFQAAAAACAXoZAMzMzM7Mch0BmZmZm5tqHQJqZmZkZmYhAzczMzExXiUAAAAAAgBWKQDMzMzOz04pAZmZmZuaRi0CamZmZGVCMQM3MzMxMDo1AAAAAAIDMjUAzMzMzs4qOQGZmZmbmSI9A\",\"dtype\":\"float64\",\"shape\":[75]}}},\"id\":\"83efdfb2-7086-4125-8c7f-9192c48d7bd8\",\"type\":\"ColumnDataSource\"}],\"root_ids\":[\"6e3a9f22-3975-4a87-aa89-4b396f4e9cdc\"]},\"title\":\"Bokeh Application\",\"version\":\"0.12.14\"}};\n",
       "  var render_items = [{\"docid\":\"f4575bef-bec9-45d1-a95f-a99441ca57e3\",\"elementid\":\"961d2d66-61dd-4957-a67e-3e304073cb3c\",\"modelid\":\"6e3a9f22-3975-4a87-aa89-4b396f4e9cdc\"}];\n",
       "  root.Bokeh.embed.embed_items_notebook(docs_json, render_items);\n",
       "\n",
       "  }\n",
       "  if (root.Bokeh !== undefined) {\n",
       "    embed_document(root);\n",
       "  } else {\n",
       "    var attempts = 0;\n",
       "    var timer = setInterval(function(root) {\n",
       "      if (root.Bokeh !== undefined) {\n",
       "        embed_document(root);\n",
       "        clearInterval(timer);\n",
       "      }\n",
       "      attempts++;\n",
       "      if (attempts > 100) {\n",
       "        console.log(\"Bokeh: ERROR: Unable to run BokehJS code because BokehJS library is missing\")\n",
       "        clearInterval(timer);\n",
       "      }\n",
       "    }, 10, root)\n",
       "  }\n",
       "})(window);"
      ],
      "application/vnd.bokehjs_exec.v0+json": ""
     },
     "metadata": {
      "application/vnd.bokehjs_exec.v0+json": {
       "id": "6e3a9f22-3975-4a87-aa89-4b396f4e9cdc"
      }
     },
     "output_type": "display_data"
    },
    {
     "name": "stdout",
     "output_type": "stream",
     "text": [
      "FIGURE. Cooling rate profiles.\n"
     ]
    },
    {
     "data": {
      "text/html": [
       "<a id=\"Flux_Comparison\"></a>"
      ],
      "text/plain": [
       "<IPython.core.display.HTML object>"
      ]
     },
     "metadata": {},
     "output_type": "display_data"
    },
    {
     "data": {
      "text/markdown": [
       "# Flux Comparison"
      ],
      "text/plain": [
       "<IPython.core.display.Markdown object>"
      ]
     },
     "metadata": {},
     "output_type": "display_data"
    },
    {
     "data": {
      "text/html": [
       "<div>\n",
       "<style>\n",
       "    .dataframe thead tr:only-child th {\n",
       "        text-align: right;\n",
       "    }\n",
       "\n",
       "    .dataframe thead th {\n",
       "        text-align: left;\n",
       "    }\n",
       "\n",
       "    .dataframe tbody tr th {\n",
       "        vertical-align: top;\n",
       "    }\n",
       "</style>\n",
       "<table border=\"1\" class=\"dataframe\">\n",
       "  <thead>\n",
       "    <tr style=\"text-align: right;\">\n",
       "      <th></th>\n",
       "      <th></th>\n",
       "      <th>flug</th>\n",
       "      <th>fldg</th>\n",
       "      <th>fnetg</th>\n",
       "    </tr>\n",
       "    <tr>\n",
       "      <th>pressure</th>\n",
       "      <th>level</th>\n",
       "      <th></th>\n",
       "      <th></th>\n",
       "      <th></th>\n",
       "    </tr>\n",
       "  </thead>\n",
       "  <tbody>\n",
       "    <tr>\n",
       "      <th>0.0000</th>\n",
       "      <th>1</th>\n",
       "      <td>-33.982683</td>\n",
       "      <td>0.000000</td>\n",
       "      <td>-33.982683</td>\n",
       "    </tr>\n",
       "    <tr>\n",
       "      <th>1.0685</th>\n",
       "      <th>24</th>\n",
       "      <td>-33.989397</td>\n",
       "      <td>0.068717</td>\n",
       "      <td>-33.920679</td>\n",
       "    </tr>\n",
       "    <tr>\n",
       "      <th>1013.0000</th>\n",
       "      <th>76</th>\n",
       "      <td>-51.073429</td>\n",
       "      <td>50.951359</td>\n",
       "      <td>-0.122070</td>\n",
       "    </tr>\n",
       "  </tbody>\n",
       "</table>\n",
       "</div>"
      ],
      "text/plain": [
       "                      flug       fldg      fnetg\n",
       "pressure  level                                 \n",
       "0.0000    1     -33.982683   0.000000 -33.982683\n",
       "1.0685    24    -33.989397   0.068717 -33.920679\n",
       "1013.0000 76    -51.073429  50.951359  -0.122070"
      ]
     },
     "metadata": {},
     "output_type": "display_data"
    },
    {
     "name": "stdout",
     "output_type": "stream",
     "text": [
      "Table. Fluxes. WGT igg=10 wgt_flux=1\n"
     ]
    },
    {
     "data": {
      "text/html": [
       "<div>\n",
       "<style>\n",
       "    .dataframe thead tr:only-child th {\n",
       "        text-align: right;\n",
       "    }\n",
       "\n",
       "    .dataframe thead th {\n",
       "        text-align: left;\n",
       "    }\n",
       "\n",
       "    .dataframe tbody tr th {\n",
       "        vertical-align: top;\n",
       "    }\n",
       "</style>\n",
       "<table border=\"1\" class=\"dataframe\">\n",
       "  <thead>\n",
       "    <tr style=\"text-align: right;\">\n",
       "      <th></th>\n",
       "      <th></th>\n",
       "      <th>flug</th>\n",
       "      <th>fldg</th>\n",
       "      <th>fnetg</th>\n",
       "    </tr>\n",
       "    <tr>\n",
       "      <th>pressure</th>\n",
       "      <th>level</th>\n",
       "      <th></th>\n",
       "      <th></th>\n",
       "      <th></th>\n",
       "    </tr>\n",
       "  </thead>\n",
       "  <tbody>\n",
       "    <tr>\n",
       "      <th>0.0000</th>\n",
       "      <th>1</th>\n",
       "      <td>-34.263080</td>\n",
       "      <td>0.000000</td>\n",
       "      <td>-34.263080</td>\n",
       "    </tr>\n",
       "    <tr>\n",
       "      <th>1.0685</th>\n",
       "      <th>24</th>\n",
       "      <td>-34.270501</td>\n",
       "      <td>0.069596</td>\n",
       "      <td>-34.200906</td>\n",
       "    </tr>\n",
       "    <tr>\n",
       "      <th>1013.0000</th>\n",
       "      <th>76</th>\n",
       "      <td>-51.073429</td>\n",
       "      <td>50.951359</td>\n",
       "      <td>-0.122070</td>\n",
       "    </tr>\n",
       "  </tbody>\n",
       "</table>\n",
       "</div>"
      ],
      "text/plain": [
       "                      flug       fldg      fnetg\n",
       "pressure  level                                 \n",
       "0.0000    1     -34.263080   0.000000 -34.263080\n",
       "1.0685    24    -34.270501   0.069596 -34.200906\n",
       "1013.0000 76    -51.073429  50.951359  -0.122070"
      ]
     },
     "metadata": {},
     "output_type": "display_data"
    },
    {
     "name": "stdout",
     "output_type": "stream",
     "text": [
      "Table. Fluxes. CRD\n"
     ]
    },
    {
     "data": {
      "text/html": [
       "<div>\n",
       "<style>\n",
       "    .dataframe thead tr:only-child th {\n",
       "        text-align: right;\n",
       "    }\n",
       "\n",
       "    .dataframe thead th {\n",
       "        text-align: left;\n",
       "    }\n",
       "\n",
       "    .dataframe tbody tr th {\n",
       "        vertical-align: top;\n",
       "    }\n",
       "</style>\n",
       "<table border=\"1\" class=\"dataframe\">\n",
       "  <thead>\n",
       "    <tr style=\"text-align: right;\">\n",
       "      <th></th>\n",
       "      <th></th>\n",
       "      <th>flug</th>\n",
       "      <th>fldg</th>\n",
       "      <th>fnetg</th>\n",
       "    </tr>\n",
       "    <tr>\n",
       "      <th>pressure</th>\n",
       "      <th>level</th>\n",
       "      <th></th>\n",
       "      <th></th>\n",
       "      <th></th>\n",
       "    </tr>\n",
       "  </thead>\n",
       "  <tbody>\n",
       "    <tr>\n",
       "      <th>0.0000</th>\n",
       "      <th>76</th>\n",
       "      <td>-51.073433</td>\n",
       "      <td>50.704372</td>\n",
       "      <td>-0.369061</td>\n",
       "    </tr>\n",
       "    <tr>\n",
       "      <th>0.9151</th>\n",
       "      <th>23</th>\n",
       "      <td>-34.054283</td>\n",
       "      <td>0.054598</td>\n",
       "      <td>-33.999687</td>\n",
       "    </tr>\n",
       "    <tr>\n",
       "      <th>1001.1120</th>\n",
       "      <th>75</th>\n",
       "      <td>-51.073433</td>\n",
       "      <td>50.704372</td>\n",
       "      <td>-0.369061</td>\n",
       "    </tr>\n",
       "  </tbody>\n",
       "</table>\n",
       "</div>"
      ],
      "text/plain": [
       "                      flug       fldg      fnetg\n",
       "pressure  level                                 \n",
       "0.0000    76    -51.073433  50.704372  -0.369061\n",
       "0.9151    23    -34.054283   0.054598 -33.999687\n",
       "1001.1120 75    -51.073433  50.704372  -0.369061"
      ]
     },
     "metadata": {},
     "output_type": "display_data"
    },
    {
     "name": "stdout",
     "output_type": "stream",
     "text": [
      "Table. Fluxes. CLIRAD\n"
     ]
    },
    {
     "data": {
      "text/html": [
       "<div>\n",
       "<style>\n",
       "    .dataframe thead tr:only-child th {\n",
       "        text-align: right;\n",
       "    }\n",
       "\n",
       "    .dataframe thead th {\n",
       "        text-align: left;\n",
       "    }\n",
       "\n",
       "    .dataframe tbody tr th {\n",
       "        vertical-align: top;\n",
       "    }\n",
       "</style>\n",
       "<table border=\"1\" class=\"dataframe\">\n",
       "  <thead>\n",
       "    <tr style=\"text-align: right;\">\n",
       "      <th></th>\n",
       "      <th></th>\n",
       "      <th>flug</th>\n",
       "      <th>fldg</th>\n",
       "      <th>fnetg</th>\n",
       "    </tr>\n",
       "    <tr>\n",
       "      <th>pressure</th>\n",
       "      <th>level</th>\n",
       "      <th></th>\n",
       "      <th></th>\n",
       "      <th></th>\n",
       "    </tr>\n",
       "  </thead>\n",
       "  <tbody>\n",
       "    <tr>\n",
       "      <th>0.0000</th>\n",
       "      <th>1</th>\n",
       "      <td>-2.803968e-01</td>\n",
       "      <td>0.000000e+00</td>\n",
       "      <td>-2.803968e-01</td>\n",
       "    </tr>\n",
       "    <tr>\n",
       "      <th>1.0685</th>\n",
       "      <th>24</th>\n",
       "      <td>-2.811044e-01</td>\n",
       "      <td>8.780896e-04</td>\n",
       "      <td>-2.802268e-01</td>\n",
       "    </tr>\n",
       "    <tr>\n",
       "      <th>1013.0000</th>\n",
       "      <th>76</th>\n",
       "      <td>-4.758000e-07</td>\n",
       "      <td>3.636000e-07</td>\n",
       "      <td>-6.110270e-07</td>\n",
       "    </tr>\n",
       "  </tbody>\n",
       "</table>\n",
       "</div>"
      ],
      "text/plain": [
       "                         flug          fldg         fnetg\n",
       "pressure  level                                          \n",
       "0.0000    1     -2.803968e-01  0.000000e+00 -2.803968e-01\n",
       "1.0685    24    -2.811044e-01  8.780896e-04 -2.802268e-01\n",
       "1013.0000 76    -4.758000e-07  3.636000e-07 -6.110270e-07"
      ]
     },
     "metadata": {},
     "output_type": "display_data"
    },
    {
     "name": "stdout",
     "output_type": "stream",
     "text": [
      "Table. Fluxes. (CRD) - (WGT igg=10 wgt_flux=1)\n"
     ]
    },
    {
     "data": {
      "text/html": [
       "<div>\n",
       "<style>\n",
       "    .dataframe thead tr:only-child th {\n",
       "        text-align: right;\n",
       "    }\n",
       "\n",
       "    .dataframe thead th {\n",
       "        text-align: left;\n",
       "    }\n",
       "\n",
       "    .dataframe tbody tr th {\n",
       "        vertical-align: top;\n",
       "    }\n",
       "</style>\n",
       "<table border=\"1\" class=\"dataframe\">\n",
       "  <thead>\n",
       "    <tr style=\"text-align: right;\">\n",
       "      <th></th>\n",
       "      <th></th>\n",
       "      <th>flug</th>\n",
       "      <th>fldg</th>\n",
       "      <th>fnetg</th>\n",
       "    </tr>\n",
       "    <tr>\n",
       "      <th>pressure</th>\n",
       "      <th>level</th>\n",
       "      <th></th>\n",
       "      <th></th>\n",
       "      <th></th>\n",
       "    </tr>\n",
       "  </thead>\n",
       "  <tbody>\n",
       "    <tr>\n",
       "      <th>0.0000</th>\n",
       "      <th>1</th>\n",
       "      <td>-17.090750</td>\n",
       "      <td>50.704372</td>\n",
       "      <td>33.613623</td>\n",
       "    </tr>\n",
       "    <tr>\n",
       "      <th>1.0685</th>\n",
       "      <th>24</th>\n",
       "      <td>-0.064886</td>\n",
       "      <td>-0.014120</td>\n",
       "      <td>-0.079008</td>\n",
       "    </tr>\n",
       "    <tr>\n",
       "      <th>1013.0000</th>\n",
       "      <th>76</th>\n",
       "      <td>-0.000004</td>\n",
       "      <td>-0.246987</td>\n",
       "      <td>-0.246991</td>\n",
       "    </tr>\n",
       "  </tbody>\n",
       "</table>\n",
       "</div>"
      ],
      "text/plain": [
       "                      flug       fldg      fnetg\n",
       "pressure  level                                 \n",
       "0.0000    1     -17.090750  50.704372  33.613623\n",
       "1.0685    24     -0.064886  -0.014120  -0.079008\n",
       "1013.0000 76     -0.000004  -0.246987  -0.246991"
      ]
     },
     "metadata": {},
     "output_type": "display_data"
    },
    {
     "name": "stdout",
     "output_type": "stream",
     "text": [
      "Table. Fluxes. (CLIRAD) - (WGT igg=10 wgt_flux=1)\n"
     ]
    },
    {
     "data": {
      "text/html": [
       "<a id=\"Best-fit_Parameters\"></a>"
      ],
      "text/plain": [
       "<IPython.core.display.HTML object>"
      ]
     },
     "metadata": {},
     "output_type": "display_data"
    },
    {
     "data": {
      "text/markdown": [
       "# Best-fit Parameters"
      ],
      "text/plain": [
       "<IPython.core.display.Markdown object>"
      ]
     },
     "metadata": {},
     "output_type": "display_data"
    },
    {
     "name": "stdout",
     "output_type": "stream",
     "text": [
      "Best-fit values for each (gas, band)\n",
      "------------------------------------\n",
      "o h2o band1\n",
      "  atmpro = mls\n",
      "  band = 1\n",
      "  commitnumber = 5014a19\n",
      "  conc = None\n",
      "  dv = 0.01\n",
      "  klin = 0\n",
      "  molecule = h2o\n",
      "  ng_adju = [0, 0, 0]\n",
      "  ng_refs = [3, 3, 6]\n",
      "  nv = 100\n",
      "  option_compute_btable = 0\n",
      "  option_compute_ktable = 1\n",
      "  option_wgt_flux = 1\n",
      "  option_wgt_k = 1\n",
      "  ref_pts = [(1, 250), (30, 250), (300, 250)]\n",
      "  tsfc = 294\n",
      "  vmax = 340\n",
      "  vmin = 20\n",
      "  w_diffuse = [(1.66, 1.66, 1.66), (1.66, 1.66, 1.66), (1.66, 1.66, 1.5, 1.5, 1.5, 1.5)]\n",
      "  wgt = [(0.2, 0.2, 0.2), (0.2, 0.2, 0.2), (0.2, 0.2, 0.65, 0.65, 0.65, 0.65)]\n"
     ]
    }
   ],
   "source": [
    "script()"
   ]
  },
  {
   "cell_type": "code",
   "execution_count": 13,
   "metadata": {
    "collapsed": true
   },
   "outputs": [
    {
     "data": {
      "text/html": [
       "<script>\n",
       "code_show=true; \n",
       "function code_toggle() {\n",
       " if (code_show){\n",
       " $('div.input').hide();\n",
       " } else {\n",
       " $('div.input').show();\n",
       " }\n",
       " code_show = !code_show\n",
       "} \n",
       "$( document ).ready(code_toggle);\n",
       "</script>\n",
       "<form action=\"javascript:code_toggle()\"><input type=\"submit\" value=\"Click here to toggle on/off the raw code.\"></form>"
      ],
      "text/plain": [
       "<IPython.core.display.HTML object>"
      ]
     },
     "execution_count": 13,
     "metadata": {},
     "output_type": "execute_result"
    }
   ],
   "source": [
    "display.HTML('''<script>\n",
    "code_show=true; \n",
    "function code_toggle() {\n",
    " if (code_show){\n",
    " $('div.input').hide();\n",
    " } else {\n",
    " $('div.input').show();\n",
    " }\n",
    " code_show = !code_show\n",
    "} \n",
    "$( document ).ready(code_toggle);\n",
    "</script>\n",
    "<form action=\"javascript:code_toggle()\"><input type=\"submit\" value=\"Click here to toggle on/off the raw code.\"></form>''')"
   ]
  }
 ],
 "metadata": {
  "kernelspec": {
   "display_name": "Python 3",
   "language": "python",
   "name": "python3"
  },
  "language_info": {
   "codemirror_mode": {
    "name": "ipython",
    "version": 3
   },
   "file_extension": ".py",
   "mimetype": "text/x-python",
   "name": "python",
   "nbconvert_exporter": "python",
   "pygments_lexer": "ipython3",
   "version": "3.6.1"
  }
 },
 "nbformat": 4,
 "nbformat_minor": 2
}
