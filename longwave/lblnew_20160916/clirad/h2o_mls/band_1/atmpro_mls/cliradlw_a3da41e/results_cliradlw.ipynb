{
 "cells": [
  {
   "cell_type": "code",
   "execution_count": 1,
   "metadata": {
    "collapsed": true
   },
   "outputs": [],
   "source": [
    "%matplotlib inline\n",
    "import os\n",
    "import re\n",
    "import io\n",
    "import itertools\n",
    "import pprint\n",
    "\n",
    "from bokeh.io import output_notebook, show\n",
    "from bokeh.layouts import gridplot\n",
    "from bokeh.plotting import figure\n",
    "from bokeh.models import Range1d, Legend\n",
    "from bokeh.palettes import all_palettes\n",
    "\n",
    "import matplotlib\n",
    "import matplotlib.pyplot as plt\n",
    "import numpy as np\n",
    "import pandas as pd\n",
    "import xarray as xr\n",
    "\n",
    "import climatools.lblnew.bestfit_params as bestfits\n",
    "from climatools.lblnew import setup_bestfit, setup_overlap\n",
    "import climatools.lblnew.pipeline as pipe_lblnew\n",
    "import climatools.cliradlw.setup as setup_cliradlw\n",
    "import climatools.cliradlw.pipeline as pipe_cliradlw\n",
    "\n",
    "import climatools.html.html as climahtml\n",
    "from climatools.lblnew.dataio import *\n",
    "from climatools.plot.plot import *\n",
    "\n",
    "\n",
    "import IPython.display as display"
   ]
  },
  {
   "cell_type": "code",
   "execution_count": 2,
   "metadata": {
    "collapsed": true
   },
   "outputs": [],
   "source": [
    "%run param.py"
   ]
  },
  {
   "cell_type": "code",
   "execution_count": 3,
   "metadata": {
    "collapsed": true
   },
   "outputs": [],
   "source": [
    "def load_output_file(path_csv):\n",
    "    '''\n",
    "    Load lblnew output .csv file to xarray.Dataset\n",
    "    \n",
    "    Parameters\n",
    "    ----------\n",
    "    path_csv: str\n",
    "              Path to the .csv file to be loaded.\n",
    "    ds: xarray.Dataset\n",
    "        Data in the input file in the form of an xarray.Dataset.\n",
    "    '''\n",
    "    toindex = ['band', 'pressure', 'igg', 'g']    \n",
    "    df = pd.read_csv(path_csv, sep=r'\\s+')\n",
    "    df = df.set_index([i for i in toindex if i in df.columns])\n",
    "    df = df.rename(columns={'sfu': 'flug',\n",
    "                            'sfd': 'fldg',\n",
    "                            'fnet': 'fnetg',\n",
    "                            'coolr': 'coolrg'})\n",
    "    ds = xr.Dataset.from_dataframe(df)\n",
    "\n",
    "    for l in ('level', 'layer'):\n",
    "        if l in ds.data_vars:\n",
    "            if len(ds[l].dims) > 1:\n",
    "                surface = {d: 0 for d in ds.dims if d != 'pressure'}\n",
    "                coord_level = ds[l][surface]\n",
    "                ds.coords[l] = ('pressure', coord_level)\n",
    "            else:\n",
    "                ds.coords[l] = ('pressure', ds[l])\n",
    "    \n",
    "    return ds"
   ]
  },
  {
   "cell_type": "code",
   "execution_count": 4,
   "metadata": {
    "collapsed": true
   },
   "outputs": [],
   "source": [
    "def lblnew_setup(param=None):\n",
    "    if 'ng_refs' in param:\n",
    "        return {'setup': setup_bestfit,\n",
    "                'fname_flux_crd': 'output_flux.dat',\n",
    "                'fname_cool_crd': 'output_coolr.dat',\n",
    "                'fname_flux_wgt': 'output_wfluxg.dat',\n",
    "                'fname_cool_wgt': 'output_wcoolrg.dat'}\n",
    "    else:\n",
    "        return {'setup': setup_overlap,\n",
    "                'fname_flux_crd': 'output_flux.dat',\n",
    "                'fname_cool_crd': 'output_coolr.dat',\n",
    "                'fname_flux_wgt': 'output_wflux.dat',\n",
    "                'fname_cool_wgt': 'output_wcoolr.dat'}\n",
    "\n",
    "    \n",
    "def load_lblnew_data(param):\n",
    "    \n",
    "    fname_dsname = [('fname_flux_crd', 'ds_flux_crd'),\n",
    "                    ('fname_cool_crd', 'ds_cool_crd'),\n",
    "                    ('fname_flux_wgt', 'ds_flux_wgt'),\n",
    "                    ('fname_cool_wgt', 'ds_cool_wgt')]\n",
    "    \n",
    "    d = lblnew_setup(param)\n",
    "    dir_fortran = pipe_lblnew.get_dir_case(param, setup=d['setup'])\n",
    "    \n",
    "    data_dict = {}\n",
    "    for fname, dsname in fname_dsname:\n",
    "        fpath = os.path.join(dir_fortran, d[fname])\n",
    "        data_dict[dsname] = load_output_file(fpath)\n",
    "    return data_dict\n",
    "    \n",
    "\n",
    "    \n",
    "    "
   ]
  },
  {
   "cell_type": "code",
   "execution_count": 5,
   "metadata": {
    "collapsed": true
   },
   "outputs": [],
   "source": [
    "d = load_lblnew_data(PARAM_LBLNEW)\n",
    "\n",
    "DS_FLUX_CRD = d['ds_flux_crd']\n",
    "DS_COOL_CRD = d['ds_cool_crd']\n",
    "DS_FLUX_WGT = d['ds_flux_wgt']\n",
    "DS_COOL_WGT = d['ds_cool_wgt']"
   ]
  },
  {
   "cell_type": "code",
   "execution_count": 6,
   "metadata": {
    "collapsed": true
   },
   "outputs": [],
   "source": [
    "DIR_FORTRAN = pipe_cliradlw.get_fortran_dir(PARAM, \n",
    "                                            setup=setup_cliradlw)\n",
    "\n",
    "PATH_FLUX = os.path.join(DIR_FORTRAN, 'output_flux.dat')\n",
    "PATH_COOL = os.path.join(DIR_FORTRAN, 'output_coolr.dat')\n",
    "\n",
    "DS_FLUX = load_output_file(PATH_FLUX)\n",
    "DS_COOL = load_output_file(PATH_COOL)"
   ]
  },
  {
   "cell_type": "code",
   "execution_count": 7,
   "metadata": {
    "collapsed": true
   },
   "outputs": [
    {
     "data": {
      "text/html": [
       "\n",
       "    <div class=\"bk-root\">\n",
       "        <a href=\"https://bokeh.pydata.org\" target=\"_blank\" class=\"bk-logo bk-logo-small bk-logo-notebook\"></a>\n",
       "        <span id=\"02f1ff70-06dd-4a0e-9c6e-bd9f8b2e41c9\">Loading BokehJS ...</span>\n",
       "    </div>"
      ]
     },
     "metadata": {},
     "output_type": "display_data"
    },
    {
     "data": {
      "application/javascript": [
       "\n",
       "(function(root) {\n",
       "  function now() {\n",
       "    return new Date();\n",
       "  }\n",
       "\n",
       "  var force = true;\n",
       "\n",
       "  if (typeof (root._bokeh_onload_callbacks) === \"undefined\" || force === true) {\n",
       "    root._bokeh_onload_callbacks = [];\n",
       "    root._bokeh_is_loading = undefined;\n",
       "  }\n",
       "\n",
       "  var JS_MIME_TYPE = 'application/javascript';\n",
       "  var HTML_MIME_TYPE = 'text/html';\n",
       "  var EXEC_MIME_TYPE = 'application/vnd.bokehjs_exec.v0+json';\n",
       "  var CLASS_NAME = 'output_bokeh rendered_html';\n",
       "\n",
       "  /**\n",
       "   * Render data to the DOM node\n",
       "   */\n",
       "  function render(props, node) {\n",
       "    var script = document.createElement(\"script\");\n",
       "    node.appendChild(script);\n",
       "  }\n",
       "\n",
       "  /**\n",
       "   * Handle when an output is cleared or removed\n",
       "   */\n",
       "  function handleClearOutput(event, handle) {\n",
       "    var cell = handle.cell;\n",
       "\n",
       "    var id = cell.output_area._bokeh_element_id;\n",
       "    var server_id = cell.output_area._bokeh_server_id;\n",
       "    // Clean up Bokeh references\n",
       "    if (id !== undefined) {\n",
       "      Bokeh.index[id].model.document.clear();\n",
       "      delete Bokeh.index[id];\n",
       "    }\n",
       "\n",
       "    if (server_id !== undefined) {\n",
       "      // Clean up Bokeh references\n",
       "      var cmd = \"from bokeh.io.state import curstate; print(curstate().uuid_to_server['\" + server_id + \"'].get_sessions()[0].document.roots[0]._id)\";\n",
       "      cell.notebook.kernel.execute(cmd, {\n",
       "        iopub: {\n",
       "          output: function(msg) {\n",
       "            var element_id = msg.content.text.trim();\n",
       "            Bokeh.index[element_id].model.document.clear();\n",
       "            delete Bokeh.index[element_id];\n",
       "          }\n",
       "        }\n",
       "      });\n",
       "      // Destroy server and session\n",
       "      var cmd = \"import bokeh.io.notebook as ion; ion.destroy_server('\" + server_id + \"')\";\n",
       "      cell.notebook.kernel.execute(cmd);\n",
       "    }\n",
       "  }\n",
       "\n",
       "  /**\n",
       "   * Handle when a new output is added\n",
       "   */\n",
       "  function handleAddOutput(event, handle) {\n",
       "    var output_area = handle.output_area;\n",
       "    var output = handle.output;\n",
       "\n",
       "    // limit handleAddOutput to display_data with EXEC_MIME_TYPE content only\n",
       "    if ((output.output_type != \"display_data\") || (!output.data.hasOwnProperty(EXEC_MIME_TYPE))) {\n",
       "      return\n",
       "    }\n",
       "\n",
       "    var toinsert = output_area.element.find(\".\" + CLASS_NAME.split(' ')[0]);\n",
       "\n",
       "    if (output.metadata[EXEC_MIME_TYPE][\"id\"] !== undefined) {\n",
       "      toinsert[0].firstChild.textContent = output.data[JS_MIME_TYPE];\n",
       "      // store reference to embed id on output_area\n",
       "      output_area._bokeh_element_id = output.metadata[EXEC_MIME_TYPE][\"id\"];\n",
       "    }\n",
       "    if (output.metadata[EXEC_MIME_TYPE][\"server_id\"] !== undefined) {\n",
       "      var bk_div = document.createElement(\"div\");\n",
       "      bk_div.innerHTML = output.data[HTML_MIME_TYPE];\n",
       "      var script_attrs = bk_div.children[0].attributes;\n",
       "      for (var i = 0; i < script_attrs.length; i++) {\n",
       "        toinsert[0].firstChild.setAttribute(script_attrs[i].name, script_attrs[i].value);\n",
       "      }\n",
       "      // store reference to server id on output_area\n",
       "      output_area._bokeh_server_id = output.metadata[EXEC_MIME_TYPE][\"server_id\"];\n",
       "    }\n",
       "  }\n",
       "\n",
       "  function register_renderer(events, OutputArea) {\n",
       "\n",
       "    function append_mime(data, metadata, element) {\n",
       "      // create a DOM node to render to\n",
       "      var toinsert = this.create_output_subarea(\n",
       "        metadata,\n",
       "        CLASS_NAME,\n",
       "        EXEC_MIME_TYPE\n",
       "      );\n",
       "      this.keyboard_manager.register_events(toinsert);\n",
       "      // Render to node\n",
       "      var props = {data: data, metadata: metadata[EXEC_MIME_TYPE]};\n",
       "      render(props, toinsert[0]);\n",
       "      element.append(toinsert);\n",
       "      return toinsert\n",
       "    }\n",
       "\n",
       "    /* Handle when an output is cleared or removed */\n",
       "    events.on('clear_output.CodeCell', handleClearOutput);\n",
       "    events.on('delete.Cell', handleClearOutput);\n",
       "\n",
       "    /* Handle when a new output is added */\n",
       "    events.on('output_added.OutputArea', handleAddOutput);\n",
       "\n",
       "    /**\n",
       "     * Register the mime type and append_mime function with output_area\n",
       "     */\n",
       "    OutputArea.prototype.register_mime_type(EXEC_MIME_TYPE, append_mime, {\n",
       "      /* Is output safe? */\n",
       "      safe: true,\n",
       "      /* Index of renderer in `output_area.display_order` */\n",
       "      index: 0\n",
       "    });\n",
       "  }\n",
       "\n",
       "  // register the mime type if in Jupyter Notebook environment and previously unregistered\n",
       "  if (root.Jupyter !== undefined) {\n",
       "    var events = require('base/js/events');\n",
       "    var OutputArea = require('notebook/js/outputarea').OutputArea;\n",
       "\n",
       "    if (OutputArea.prototype.mime_types().indexOf(EXEC_MIME_TYPE) == -1) {\n",
       "      register_renderer(events, OutputArea);\n",
       "    }\n",
       "  }\n",
       "\n",
       "  \n",
       "  if (typeof (root._bokeh_timeout) === \"undefined\" || force === true) {\n",
       "    root._bokeh_timeout = Date.now() + 5000;\n",
       "    root._bokeh_failed_load = false;\n",
       "  }\n",
       "\n",
       "  var NB_LOAD_WARNING = {'data': {'text/html':\n",
       "     \"<div style='background-color: #fdd'>\\n\"+\n",
       "     \"<p>\\n\"+\n",
       "     \"BokehJS does not appear to have successfully loaded. If loading BokehJS from CDN, this \\n\"+\n",
       "     \"may be due to a slow or bad network connection. Possible fixes:\\n\"+\n",
       "     \"</p>\\n\"+\n",
       "     \"<ul>\\n\"+\n",
       "     \"<li>re-rerun `output_notebook()` to attempt to load from CDN again, or</li>\\n\"+\n",
       "     \"<li>use INLINE resources instead, as so:</li>\\n\"+\n",
       "     \"</ul>\\n\"+\n",
       "     \"<code>\\n\"+\n",
       "     \"from bokeh.resources import INLINE\\n\"+\n",
       "     \"output_notebook(resources=INLINE)\\n\"+\n",
       "     \"</code>\\n\"+\n",
       "     \"</div>\"}};\n",
       "\n",
       "  function display_loaded() {\n",
       "    var el = document.getElementById(\"02f1ff70-06dd-4a0e-9c6e-bd9f8b2e41c9\");\n",
       "    if (el != null) {\n",
       "      el.textContent = \"BokehJS is loading...\";\n",
       "    }\n",
       "    if (root.Bokeh !== undefined) {\n",
       "      if (el != null) {\n",
       "        el.textContent = \"BokehJS \" + root.Bokeh.version + \" successfully loaded.\";\n",
       "      }\n",
       "    } else if (Date.now() < root._bokeh_timeout) {\n",
       "      setTimeout(display_loaded, 100)\n",
       "    }\n",
       "  }\n",
       "\n",
       "\n",
       "  function run_callbacks() {\n",
       "    try {\n",
       "      root._bokeh_onload_callbacks.forEach(function(callback) { callback() });\n",
       "    }\n",
       "    finally {\n",
       "      delete root._bokeh_onload_callbacks\n",
       "    }\n",
       "    console.info(\"Bokeh: all callbacks have finished\");\n",
       "  }\n",
       "\n",
       "  function load_libs(js_urls, callback) {\n",
       "    root._bokeh_onload_callbacks.push(callback);\n",
       "    if (root._bokeh_is_loading > 0) {\n",
       "      console.log(\"Bokeh: BokehJS is being loaded, scheduling callback at\", now());\n",
       "      return null;\n",
       "    }\n",
       "    if (js_urls == null || js_urls.length === 0) {\n",
       "      run_callbacks();\n",
       "      return null;\n",
       "    }\n",
       "    console.log(\"Bokeh: BokehJS not loaded, scheduling load and callback at\", now());\n",
       "    root._bokeh_is_loading = js_urls.length;\n",
       "    for (var i = 0; i < js_urls.length; i++) {\n",
       "      var url = js_urls[i];\n",
       "      var s = document.createElement('script');\n",
       "      s.src = url;\n",
       "      s.async = false;\n",
       "      s.onreadystatechange = s.onload = function() {\n",
       "        root._bokeh_is_loading--;\n",
       "        if (root._bokeh_is_loading === 0) {\n",
       "          console.log(\"Bokeh: all BokehJS libraries loaded\");\n",
       "          run_callbacks()\n",
       "        }\n",
       "      };\n",
       "      s.onerror = function() {\n",
       "        console.warn(\"failed to load library \" + url);\n",
       "      };\n",
       "      console.log(\"Bokeh: injecting script tag for BokehJS library: \", url);\n",
       "      document.getElementsByTagName(\"head\")[0].appendChild(s);\n",
       "    }\n",
       "  };var element = document.getElementById(\"02f1ff70-06dd-4a0e-9c6e-bd9f8b2e41c9\");\n",
       "  if (element == null) {\n",
       "    console.log(\"Bokeh: ERROR: autoload.js configured with elementid '02f1ff70-06dd-4a0e-9c6e-bd9f8b2e41c9' but no matching script tag was found. \")\n",
       "    return false;\n",
       "  }\n",
       "\n",
       "  var js_urls = [\"https://cdn.pydata.org/bokeh/release/bokeh-0.12.14.min.js\", \"https://cdn.pydata.org/bokeh/release/bokeh-widgets-0.12.14.min.js\", \"https://cdn.pydata.org/bokeh/release/bokeh-tables-0.12.14.min.js\", \"https://cdn.pydata.org/bokeh/release/bokeh-gl-0.12.14.min.js\"];\n",
       "\n",
       "  var inline_js = [\n",
       "    function(Bokeh) {\n",
       "      Bokeh.set_log_level(\"info\");\n",
       "    },\n",
       "    \n",
       "    function(Bokeh) {\n",
       "      \n",
       "    },\n",
       "    function(Bokeh) {\n",
       "      console.log(\"Bokeh: injecting CSS: https://cdn.pydata.org/bokeh/release/bokeh-0.12.14.min.css\");\n",
       "      Bokeh.embed.inject_css(\"https://cdn.pydata.org/bokeh/release/bokeh-0.12.14.min.css\");\n",
       "      console.log(\"Bokeh: injecting CSS: https://cdn.pydata.org/bokeh/release/bokeh-widgets-0.12.14.min.css\");\n",
       "      Bokeh.embed.inject_css(\"https://cdn.pydata.org/bokeh/release/bokeh-widgets-0.12.14.min.css\");\n",
       "      console.log(\"Bokeh: injecting CSS: https://cdn.pydata.org/bokeh/release/bokeh-tables-0.12.14.min.css\");\n",
       "      Bokeh.embed.inject_css(\"https://cdn.pydata.org/bokeh/release/bokeh-tables-0.12.14.min.css\");\n",
       "    }\n",
       "  ];\n",
       "\n",
       "  function run_inline_js() {\n",
       "    \n",
       "    if ((root.Bokeh !== undefined) || (force === true)) {\n",
       "      for (var i = 0; i < inline_js.length; i++) {\n",
       "        inline_js[i].call(root, root.Bokeh);\n",
       "      }if (force === true) {\n",
       "        display_loaded();\n",
       "      }} else if (Date.now() < root._bokeh_timeout) {\n",
       "      setTimeout(run_inline_js, 100);\n",
       "    } else if (!root._bokeh_failed_load) {\n",
       "      console.log(\"Bokeh: BokehJS failed to load within specified timeout.\");\n",
       "      root._bokeh_failed_load = true;\n",
       "    } else if (force !== true) {\n",
       "      var cell = $(document.getElementById(\"02f1ff70-06dd-4a0e-9c6e-bd9f8b2e41c9\")).parents('.cell').data().cell;\n",
       "      cell.output_area.append_execute_result(NB_LOAD_WARNING)\n",
       "    }\n",
       "\n",
       "  }\n",
       "\n",
       "  if (root._bokeh_is_loading === 0) {\n",
       "    console.log(\"Bokeh: BokehJS loaded, going straight to plotting\");\n",
       "    run_inline_js();\n",
       "  } else {\n",
       "    load_libs(js_urls, function() {\n",
       "      console.log(\"Bokeh: BokehJS plotting callback run at\", now());\n",
       "      run_inline_js();\n",
       "    });\n",
       "  }\n",
       "}(window));"
      ],
      "application/vnd.bokehjs_load.v0+json": "\n(function(root) {\n  function now() {\n    return new Date();\n  }\n\n  var force = true;\n\n  if (typeof (root._bokeh_onload_callbacks) === \"undefined\" || force === true) {\n    root._bokeh_onload_callbacks = [];\n    root._bokeh_is_loading = undefined;\n  }\n\n  \n\n  \n  if (typeof (root._bokeh_timeout) === \"undefined\" || force === true) {\n    root._bokeh_timeout = Date.now() + 5000;\n    root._bokeh_failed_load = false;\n  }\n\n  var NB_LOAD_WARNING = {'data': {'text/html':\n     \"<div style='background-color: #fdd'>\\n\"+\n     \"<p>\\n\"+\n     \"BokehJS does not appear to have successfully loaded. If loading BokehJS from CDN, this \\n\"+\n     \"may be due to a slow or bad network connection. Possible fixes:\\n\"+\n     \"</p>\\n\"+\n     \"<ul>\\n\"+\n     \"<li>re-rerun `output_notebook()` to attempt to load from CDN again, or</li>\\n\"+\n     \"<li>use INLINE resources instead, as so:</li>\\n\"+\n     \"</ul>\\n\"+\n     \"<code>\\n\"+\n     \"from bokeh.resources import INLINE\\n\"+\n     \"output_notebook(resources=INLINE)\\n\"+\n     \"</code>\\n\"+\n     \"</div>\"}};\n\n  function display_loaded() {\n    var el = document.getElementById(\"02f1ff70-06dd-4a0e-9c6e-bd9f8b2e41c9\");\n    if (el != null) {\n      el.textContent = \"BokehJS is loading...\";\n    }\n    if (root.Bokeh !== undefined) {\n      if (el != null) {\n        el.textContent = \"BokehJS \" + root.Bokeh.version + \" successfully loaded.\";\n      }\n    } else if (Date.now() < root._bokeh_timeout) {\n      setTimeout(display_loaded, 100)\n    }\n  }\n\n\n  function run_callbacks() {\n    try {\n      root._bokeh_onload_callbacks.forEach(function(callback) { callback() });\n    }\n    finally {\n      delete root._bokeh_onload_callbacks\n    }\n    console.info(\"Bokeh: all callbacks have finished\");\n  }\n\n  function load_libs(js_urls, callback) {\n    root._bokeh_onload_callbacks.push(callback);\n    if (root._bokeh_is_loading > 0) {\n      console.log(\"Bokeh: BokehJS is being loaded, scheduling callback at\", now());\n      return null;\n    }\n    if (js_urls == null || js_urls.length === 0) {\n      run_callbacks();\n      return null;\n    }\n    console.log(\"Bokeh: BokehJS not loaded, scheduling load and callback at\", now());\n    root._bokeh_is_loading = js_urls.length;\n    for (var i = 0; i < js_urls.length; i++) {\n      var url = js_urls[i];\n      var s = document.createElement('script');\n      s.src = url;\n      s.async = false;\n      s.onreadystatechange = s.onload = function() {\n        root._bokeh_is_loading--;\n        if (root._bokeh_is_loading === 0) {\n          console.log(\"Bokeh: all BokehJS libraries loaded\");\n          run_callbacks()\n        }\n      };\n      s.onerror = function() {\n        console.warn(\"failed to load library \" + url);\n      };\n      console.log(\"Bokeh: injecting script tag for BokehJS library: \", url);\n      document.getElementsByTagName(\"head\")[0].appendChild(s);\n    }\n  };var element = document.getElementById(\"02f1ff70-06dd-4a0e-9c6e-bd9f8b2e41c9\");\n  if (element == null) {\n    console.log(\"Bokeh: ERROR: autoload.js configured with elementid '02f1ff70-06dd-4a0e-9c6e-bd9f8b2e41c9' but no matching script tag was found. \")\n    return false;\n  }\n\n  var js_urls = [\"https://cdn.pydata.org/bokeh/release/bokeh-0.12.14.min.js\", \"https://cdn.pydata.org/bokeh/release/bokeh-widgets-0.12.14.min.js\", \"https://cdn.pydata.org/bokeh/release/bokeh-tables-0.12.14.min.js\", \"https://cdn.pydata.org/bokeh/release/bokeh-gl-0.12.14.min.js\"];\n\n  var inline_js = [\n    function(Bokeh) {\n      Bokeh.set_log_level(\"info\");\n    },\n    \n    function(Bokeh) {\n      \n    },\n    function(Bokeh) {\n      console.log(\"Bokeh: injecting CSS: https://cdn.pydata.org/bokeh/release/bokeh-0.12.14.min.css\");\n      Bokeh.embed.inject_css(\"https://cdn.pydata.org/bokeh/release/bokeh-0.12.14.min.css\");\n      console.log(\"Bokeh: injecting CSS: https://cdn.pydata.org/bokeh/release/bokeh-widgets-0.12.14.min.css\");\n      Bokeh.embed.inject_css(\"https://cdn.pydata.org/bokeh/release/bokeh-widgets-0.12.14.min.css\");\n      console.log(\"Bokeh: injecting CSS: https://cdn.pydata.org/bokeh/release/bokeh-tables-0.12.14.min.css\");\n      Bokeh.embed.inject_css(\"https://cdn.pydata.org/bokeh/release/bokeh-tables-0.12.14.min.css\");\n    }\n  ];\n\n  function run_inline_js() {\n    \n    if ((root.Bokeh !== undefined) || (force === true)) {\n      for (var i = 0; i < inline_js.length; i++) {\n        inline_js[i].call(root, root.Bokeh);\n      }if (force === true) {\n        display_loaded();\n      }} else if (Date.now() < root._bokeh_timeout) {\n      setTimeout(run_inline_js, 100);\n    } else if (!root._bokeh_failed_load) {\n      console.log(\"Bokeh: BokehJS failed to load within specified timeout.\");\n      root._bokeh_failed_load = true;\n    } else if (force !== true) {\n      var cell = $(document.getElementById(\"02f1ff70-06dd-4a0e-9c6e-bd9f8b2e41c9\")).parents('.cell').data().cell;\n      cell.output_area.append_execute_result(NB_LOAD_WARNING)\n    }\n\n  }\n\n  if (root._bokeh_is_loading === 0) {\n    console.log(\"Bokeh: BokehJS loaded, going straight to plotting\");\n    run_inline_js();\n  } else {\n    load_libs(js_urls, function() {\n      console.log(\"Bokeh: BokehJS plotting callback run at\", now());\n      run_inline_js();\n    });\n  }\n}(window));"
     },
     "metadata": {},
     "output_type": "display_data"
    }
   ],
   "source": [
    "output_notebook()"
   ]
  },
  {
   "cell_type": "code",
   "execution_count": 8,
   "metadata": {
    "collapsed": true
   },
   "outputs": [],
   "source": [
    "def fmt_cool(ds_in):\n",
    "    ds = ds_in.copy(deep=True)\n",
    "    if 'igg' in ds.dims:\n",
    "        ds = ds.sel(igg=1)\n",
    "\n",
    "    if 'g' in ds.dims:\n",
    "        ds = ds.sum('g')\n",
    "            \n",
    "    if 'band' in ds.dims:\n",
    "        try:\n",
    "            ds = ds.squeeze('band')\n",
    "        except ValueError:\n",
    "            ds = ds.sum('band')\n",
    "                \n",
    "    return ds['coolrg']\n",
    "\n",
    "\n",
    "def pltdata_cooling_1(ds_cool=None,\n",
    "                      ds_cool_crd=None, ds_cool_wgt=None):\n",
    "    \n",
    "\n",
    "\n",
    "    colors = all_palettes['Set1'][4]\n",
    "    data = [{'label': 'CLIRAD `coolr_bands`',\n",
    "             'srs': fmt_cool(ds_cool),\n",
    "             'line_dash': 'dashed', 'line_width': 5,\n",
    "             'color': colors[0], 'alpha': .6},\n",
    "            {'label': 'CRD',\n",
    "             'srs': fmt_cool(ds_cool_crd),\n",
    "             'line_dash': 'solid', 'line_width': 1.5,\n",
    "             'marker': 'circle', 'marker_size': 5,\n",
    "             'color': colors[2], 'alpha': 1,},\n",
    "            {'label': 'WGT igg=10 wgt_flux=2',\n",
    "             'srs': fmt_cool(ds_cool_wgt),\n",
    "             'line_dash': 'solid', 'line_width': 3,\n",
    "             'marker': 'square', 'marker_size': 5,\n",
    "             'color': colors[3], 'alpha': .6}]\n",
    "    return data\n",
    "\n",
    "\n",
    "def nice_xlims(pltdata=None, prange=None):\n",
    "    \n",
    "    def get_slice(srs):\n",
    "        return srs.sel(pressure=slice(*prange))\n",
    "    \n",
    "    srss = [d['srs'] for d in pltdata]\n",
    "    vmin = min([get_slice(srs).min() for srs in srss])\n",
    "    vmax = max([get_slice(srs).max() for srs in srss])\n",
    "    dv = (vmax - vmin) * .01\n",
    "    return float(vmin - dv), float(vmax + dv)\n",
    "    \n",
    "\n",
    "def plt_cooling_bokeh(pltdata=None):\n",
    "    '''\n",
    "    Plot a list of cooling rate profiles using bokeh.\n",
    "    '''\n",
    "    ymin = 1e-2 \n",
    "    ymax = 1020 \n",
    "        \n",
    "    p1 = figure(title=\"Linear pressure scale\", \n",
    "                plot_width=400)        \n",
    "    xmin, xmax = nice_xlims(pltdata, prange=(50, 1050))\n",
    "    for d in pltdata:\n",
    "        if 'marker' in d:\n",
    "            getattr(p1, d['marker'])(d['srs'].values, \n",
    "                    d['srs'].coords['pressure'].values,\n",
    "                    color=d['color'], alpha=.7)\n",
    "        p1.line(d['srs'].values, \n",
    "                d['srs'].coords['pressure'].values,\n",
    "                color=d['color'], alpha=d['alpha'], \n",
    "                line_width=d['line_width'], line_dash=d['line_dash'])\n",
    "    \n",
    "    p1.y_range = Range1d(ymax, ymin)\n",
    "    p1.yaxis.axis_label = 'pressure [mb]'   \n",
    "    p1.x_range = Range1d(xmin, xmax)\n",
    "    p1.xaxis.axis_label = 'cooling rate [K/day]'\n",
    "            \n",
    "    p2 = figure(title='Log pressure scale', y_axis_type='log',\n",
    "                plot_width=560)\n",
    "    xmin, xmax = nice_xlims(pltdata, prange=(.01, 200))\n",
    "    \n",
    "    rs = []\n",
    "    for d in pltdata:\n",
    "        rd = []\n",
    "        if 'marker' in d:\n",
    "            r_mark = getattr(p2, d['marker'])(d['srs'].values, \n",
    "                        d['srs'].coords['pressure'].values,\n",
    "                        color=d['color'], alpha=.7)\n",
    "            rd.append(r_mark)\n",
    "        r_line = p2.line(d['srs'].values, \n",
    "                    d['srs'].coords['pressure'].values,\n",
    "                    color=d['color'], alpha=d['alpha'], \n",
    "                    line_width=d['line_width'], line_dash=d['line_dash'])\n",
    "        rd.append(r_line)\n",
    "      \n",
    "        rs.append(rd)\n",
    "        \n",
    "    p2.y_range = Range1d(ymax, ymin)  \n",
    "    p2.yaxis.axis_label = 'pressure [mb]'\n",
    "    \n",
    "    p2.x_range = Range1d(xmin, xmax)\n",
    "    p2.xaxis.axis_label = 'cooling rate [K/day]'\n",
    "    \n",
    "    items = [(d['label'], r) for r, d in zip(rs, pltdata)]\n",
    "    legend = Legend(items=items, location=(10, -30))\n",
    "    legend.label_text_font_size = '8pt'\n",
    "    \n",
    "    p2.add_layout(legend, 'right')  \n",
    "    \n",
    "    show(gridplot(p1, p2, ncols=2, plot_height=500))\n",
    "    \n",
    "\n",
    "def script_plt_cooling():\n",
    "    pltdata = pltdata_cooling_1(\n",
    "        ds_cool=DS_COOL,\n",
    "        ds_cool_crd=DS_COOL_CRD,\n",
    "        ds_cool_wgt=DS_COOL_WGT)\n",
    "    plt_cooling_bokeh(pltdata=pltdata)\n",
    "    print('''FIGURE. Cooling rate profiles.''')"
   ]
  },
  {
   "cell_type": "code",
   "execution_count": 9,
   "metadata": {
    "collapsed": true
   },
   "outputs": [],
   "source": [
    "def fmt_flux(ds_in):\n",
    "    ds = ds_in.copy(deep=True)\n",
    "    \n",
    "    for l in ('level', 'layer'):\n",
    "        if l in ds.data_vars:\n",
    "            if len(ds[l].dims) > 1:\n",
    "                surface = {d: 0 for d in ds.dims if d != 'pressure'}\n",
    "                coord_level = ds[l][surface]\n",
    "                ds.coords[l] = ('pressure', coord_level)\n",
    "            else:\n",
    "                ds.coords[l] = ('pressure', ds[l])\n",
    "        \n",
    "    ds = ds.isel(pressure=[0, 23, -1])\n",
    "        \n",
    "    if 'igg' in ds.dims:\n",
    "        ds = ds.sel(igg=[1])\n",
    "        ds = ds.squeeze('igg').drop('igg')\n",
    "    \n",
    "    if 'g' in ds.dims:\n",
    "        ds = ds.sum('g')\n",
    "            \n",
    "    if 'band' in ds.dims:\n",
    "        try:\n",
    "            ds = ds.squeeze('band').drop('band')\n",
    "        except ValueError:\n",
    "            ds = ds.sum('band')\n",
    "                \n",
    "    df = ds.to_dataframe()\n",
    "    df = df.set_index('level', append=True)               \n",
    "    return df\n",
    "\n",
    "\n",
    "def tbdata_flux(ds_flux=None, ds_flux_crd=None, ds_flux_wgt=None):\n",
    "    ilevels = [0, 23, -1]\n",
    "            \n",
    "    benchmark = {'label': 'WGT igg=10 wgt_flux=1',\n",
    "                 'df': fmt_flux(ds_flux_wgt)}\n",
    "    \n",
    "    tbs = [{'label': 'CRD',\n",
    "            'df': fmt_flux(ds_flux_crd)},\n",
    "           {'label': 'CLIRAD',\n",
    "            'df': fmt_flux(ds_flux)}]\n",
    "    \n",
    "    data = {'benchmark': benchmark, 'others': tbs}\n",
    "    return data\n",
    "\n",
    "\n",
    "def tb_flux(tbdata=None):\n",
    "    benchmark = tbdata['benchmark']\n",
    "    others = tbdata['others']\n",
    "    \n",
    "    def show_tb(d=None):\n",
    "        display.display(d['df'])\n",
    "        print('Table.', 'Fluxes.', d['label'])\n",
    "        \n",
    "    def show_tbdiff(d0=None, d=None):\n",
    "        df = d['df']\n",
    "        df.index = d0['df'].index\n",
    "        display.display(df - d0['df'])\n",
    "        print('Table.', 'Fluxes.', \n",
    "              '({}) - ({})'.format(d['label'], d0['label']))\n",
    "        \n",
    "    show_tb(benchmark)\n",
    "    for d in others:\n",
    "        show_tb(d)\n",
    "        \n",
    "    for d in others:\n",
    "        show_tbdiff(d=d, d0=benchmark)\n",
    "        \n",
    "        \n",
    "def script_tb_flux():\n",
    "    data = tbdata_flux(ds_flux=DS_FLUX,\n",
    "                       ds_flux_crd=DS_FLUX_CRD,\n",
    "                       ds_flux_wgt=DS_FLUX_WGT)\n",
    "    tb_flux(tbdata=data)"
   ]
  },
  {
   "cell_type": "code",
   "execution_count": 10,
   "metadata": {
    "collapsed": true
   },
   "outputs": [],
   "source": [
    "def band_map():\n",
    "    '''\n",
    "    Maps spectral bands in lblnew to spectral bands in clirad.\n",
    "    '''\n",
    "    lblnew2clirad = {'1': '1',\n",
    "            '2': '2',\n",
    "            '3a': '3',\n",
    "            '3b': '4',\n",
    "            '3c': '5',\n",
    "            '4': '6', \n",
    "            '5': '7',\n",
    "            '6': '8',\n",
    "            '7': '9', \n",
    "            '8': '10',\n",
    "            '9': '11'}\n",
    "    \n",
    "    clirad2lblnew = {clirad: lblnew \n",
    "                     for lblnew, clirad in lblnew2clirad.items()}\n",
    "    return clirad2lblnew\n",
    "\n",
    "\n",
    "def gasbands():\n",
    "    bmap = band_map()\n",
    "    gases = list(PARAM['molecule'].keys())\n",
    "    \n",
    "    bands = [bmap[str(b)] for b in PARAM['band']]\n",
    "    return list(itertools.product(gases, bands))\n",
    "\n",
    "\n",
    "def print_bestfit_params():\n",
    "    print('Best-fit values for each (gas, band)')\n",
    "    print('------------------------------------')\n",
    "    for gas, band in gasbands():\n",
    "        print('o {} band{}'.format(gas, band))\n",
    "        param = bestfits.kdist_params(molecule=gas, band=band)\n",
    "        for name, value in sorted(param.items()):\n",
    "            print(2 * ' ' + '{} = {}'.format(name, value))\n",
    "\n",
    "        \n",
    "def print_input_param():        \n",
    "    for name, value in PARAM.items():\n",
    "        print('{} = {}'.format(name, value))\n",
    "        \n",
    "        \n",
    "def print_lblnew_param():\n",
    "    for name, value in sorted(PARAM_LBLNEW.items()):\n",
    "        print('{} = {}'.format(name, value))\n"
   ]
  },
  {
   "cell_type": "code",
   "execution_count": 11,
   "metadata": {
    "collapsed": true,
    "scrolled": false
   },
   "outputs": [],
   "source": [
    "def show_html(s):\n",
    "    display.display(display.HTML(s))\n",
    "\n",
    "    \n",
    "def show_markdown(s):\n",
    "    display.display(display.Markdown(s))\n",
    "\n",
    "    \n",
    "def script():\n",
    "    \n",
    "    title = '### CLIRAD-LW'\n",
    "    s_input = 'Input Parameters'\n",
    "    s_lblnew_param = 'LBLNEW case compaired against'\n",
    "    s_bestfits = 'Best-fit Parameters'\n",
    "    s_plt_cooling = 'Cooling Rate Profiles'\n",
    "    s_tb_flux = 'Flux Comparison'\n",
    "    \n",
    "    # title\n",
    "    show_markdown('### CLIRAD-LW')\n",
    "    \n",
    "    # TOC\n",
    "    show_markdown('### Table of Contents')\n",
    "    show_html(climahtml.getHTML_hrefanchor(s_input))\n",
    "    show_html(climahtml.getHTML_hrefanchor(s_lblnew_param))\n",
    "    show_html(climahtml.getHTML_hrefanchor(s_plt_cooling))\n",
    "    show_html(climahtml.getHTML_hrefanchor(s_tb_flux))\n",
    "    show_html(climahtml.getHTML_hrefanchor(s_bestfits))\n",
    "    \n",
    "    # Input parameters\n",
    "    show_html(climahtml.getHTML_idanchor(s_input))\n",
    "    show_markdown(climahtml.getMarkdown_sectitle(s_input))\n",
    "    print_input_param()\n",
    "    \n",
    "    # LBLNEW parameters \n",
    "    show_html(climahtml.getHTML_idanchor(s_lblnew_param))\n",
    "    show_markdown(climahtml.getMarkdown_sectitle(s_lblnew_param))\n",
    "    print_lblnew_param()\n",
    "    \n",
    "    # Cooling rate profiles\n",
    "    show_html(climahtml.getHTML_idanchor(s_plt_cooling))\n",
    "    show_markdown(climahtml.getMarkdown_sectitle(s_plt_cooling))\n",
    "    script_plt_cooling()\n",
    "    \n",
    "    # Flux comparison\n",
    "    show_html(climahtml.getHTML_idanchor(s_tb_flux))\n",
    "    show_markdown(climahtml.getMarkdown_sectitle(s_tb_flux))\n",
    "    script_tb_flux()\n",
    "    \n",
    "    # Best-fit values\n",
    "    show_html(climahtml.getHTML_idanchor(s_bestfits))\n",
    "    show_markdown(climahtml.getMarkdown_sectitle(s_bestfits))\n",
    "    print_bestfit_params()\n",
    "   \n",
    "    "
   ]
  },
  {
   "cell_type": "code",
   "execution_count": 12,
   "metadata": {
    "collapsed": true,
    "scrolled": false
   },
   "outputs": [
    {
     "data": {
      "text/markdown": [
       "### CLIRAD-LW"
      ],
      "text/plain": [
       "<IPython.core.display.Markdown object>"
      ]
     },
     "metadata": {},
     "output_type": "display_data"
    },
    {
     "data": {
      "text/markdown": [
       "### Table of Contents"
      ],
      "text/plain": [
       "<IPython.core.display.Markdown object>"
      ]
     },
     "metadata": {},
     "output_type": "display_data"
    },
    {
     "data": {
      "text/html": [
       "<a href=\"#Input_Parameters\">Input Parameters</a>"
      ],
      "text/plain": [
       "<IPython.core.display.HTML object>"
      ]
     },
     "metadata": {},
     "output_type": "display_data"
    },
    {
     "data": {
      "text/html": [
       "<a href=\"#LBLNEW_case_compaired_against\">LBLNEW case compaired against</a>"
      ],
      "text/plain": [
       "<IPython.core.display.HTML object>"
      ]
     },
     "metadata": {},
     "output_type": "display_data"
    },
    {
     "data": {
      "text/html": [
       "<a href=\"#Cooling_Rate_Profiles\">Cooling Rate Profiles</a>"
      ],
      "text/plain": [
       "<IPython.core.display.HTML object>"
      ]
     },
     "metadata": {},
     "output_type": "display_data"
    },
    {
     "data": {
      "text/html": [
       "<a href=\"#Flux_Comparison\">Flux Comparison</a>"
      ],
      "text/plain": [
       "<IPython.core.display.HTML object>"
      ]
     },
     "metadata": {},
     "output_type": "display_data"
    },
    {
     "data": {
      "text/html": [
       "<a href=\"#Best-fit_Parameters\">Best-fit Parameters</a>"
      ],
      "text/plain": [
       "<IPython.core.display.HTML object>"
      ]
     },
     "metadata": {},
     "output_type": "display_data"
    },
    {
     "data": {
      "text/html": [
       "<a id=\"Input_Parameters\"></a>"
      ],
      "text/plain": [
       "<IPython.core.display.HTML object>"
      ]
     },
     "metadata": {},
     "output_type": "display_data"
    },
    {
     "data": {
      "text/markdown": [
       "# Input Parameters"
      ],
      "text/plain": [
       "<IPython.core.display.Markdown object>"
      ]
     },
     "metadata": {},
     "output_type": "display_data"
    },
    {
     "name": "stdout",
     "output_type": "stream",
     "text": [
      "atmpro = mls\n",
      "band = [1]\n",
      "commitnumber = a3da41e\n",
      "molecule = {'h2o': 'atmpro'}\n",
      "tsfc = 294\n"
     ]
    },
    {
     "data": {
      "text/html": [
       "<a id=\"LBLNEW_case_compaired_against\"></a>"
      ],
      "text/plain": [
       "<IPython.core.display.HTML object>"
      ]
     },
     "metadata": {},
     "output_type": "display_data"
    },
    {
     "data": {
      "text/markdown": [
       "# LBLNEW case compaired against"
      ],
      "text/plain": [
       "<IPython.core.display.Markdown object>"
      ]
     },
     "metadata": {},
     "output_type": "display_data"
    },
    {
     "name": "stdout",
     "output_type": "stream",
     "text": [
      "atmpro = mls\n",
      "band = 1\n",
      "commitnumber = 5014a19\n",
      "conc = None\n",
      "dv = 0.01\n",
      "klin = 0\n",
      "molecule = h2o\n",
      "ng_adju = [0, 0, 0]\n",
      "ng_refs = [3, 3, 6]\n",
      "nv = 100\n",
      "option_compute_btable = 0\n",
      "option_compute_ktable = 1\n",
      "option_wgt_flux = 1\n",
      "option_wgt_k = 1\n",
      "ref_pts = [(1, 250), (30, 250), (300, 250)]\n",
      "tsfc = 294\n",
      "vmax = 340\n",
      "vmin = 20\n",
      "w_diffuse = [(1.66, 1.66, 1.66), (1.66, 1.66, 1.66), (1.66, 1.66, 1.5, 1.5, 1.5, 1.5)]\n",
      "wgt = [(0.2, 0.2, 0.2), (0.2, 0.2, 0.2), (0.2, 0.2, 0.65, 0.65, 0.65, 0.65)]\n"
     ]
    },
    {
     "data": {
      "text/html": [
       "<a id=\"Cooling_Rate_Profiles\"></a>"
      ],
      "text/plain": [
       "<IPython.core.display.HTML object>"
      ]
     },
     "metadata": {},
     "output_type": "display_data"
    },
    {
     "data": {
      "text/markdown": [
       "# Cooling Rate Profiles"
      ],
      "text/plain": [
       "<IPython.core.display.Markdown object>"
      ]
     },
     "metadata": {},
     "output_type": "display_data"
    },
    {
     "data": {
      "text/html": [
       "\n",
       "<div class=\"bk-root\">\n",
       "    <div class=\"bk-plotdiv\" id=\"c299785c-3d52-4e3a-bc09-59ce3b1d9a7f\"></div>\n",
       "</div>"
      ]
     },
     "metadata": {},
     "output_type": "display_data"
    },
    {
     "data": {
      "application/javascript": [
       "(function(root) {\n",
       "  function embed_document(root) {\n",
       "    \n",
       "  var docs_json = {\"7fe9adca-6322-4a18-93c6-611733e6f61e\":{\"roots\":{\"references\":[{\"attributes\":{\"fill_alpha\":{\"value\":0.1},\"fill_color\":{\"value\":\"#1f77b4\"},\"line_alpha\":{\"value\":0.1},\"line_color\":{\"value\":\"#1f77b4\"},\"x\":{\"field\":\"x\"},\"y\":{\"field\":\"y\"}},\"id\":\"060ba790-9b82-48d3-902e-340722621160\",\"type\":\"Circle\"},{\"attributes\":{},\"id\":\"b0ac84ed-c580-453f-8082-37b9a83b0b40\",\"type\":\"ResetTool\"},{\"attributes\":{},\"id\":\"aaac1048-c9ce-43d2-b0eb-33454914afc9\",\"type\":\"HelpTool\"},{\"attributes\":{\"overlay\":{\"id\":\"05c8e45d-1c96-4131-8ed5-30b1e184b322\",\"type\":\"BoxAnnotation\"}},\"id\":\"de56308c-fea1-4bc5-b89f-52a788a433f9\",\"type\":\"BoxZoomTool\"},{\"attributes\":{},\"id\":\"1b371bbe-67c8-498a-bdfa-e92c369be91c\",\"type\":\"SaveTool\"},{\"attributes\":{\"callback\":null,\"end\":1.42625432638,\"start\":-0.055685964379999994},\"id\":\"ef80a89c-a7a2-4093-a6fd-473fb3a72426\",\"type\":\"Range1d\"},{\"attributes\":{\"line_alpha\":0.1,\"line_color\":\"#1f77b4\",\"line_dash\":[6],\"line_width\":5,\"x\":{\"field\":\"x\"},\"y\":{\"field\":\"y\"}},\"id\":\"1682cd67-2d15-4851-83a4-1fae225bb71b\",\"type\":\"Line\"},{\"attributes\":{\"fill_alpha\":{\"value\":0.7},\"fill_color\":{\"value\":\"#984ea3\"},\"line_alpha\":{\"value\":0.7},\"line_color\":{\"value\":\"#984ea3\"},\"x\":{\"field\":\"x\"},\"y\":{\"field\":\"y\"}},\"id\":\"beb50e26-6f46-440e-891c-82717efb2335\",\"type\":\"Square\"},{\"attributes\":{\"source\":{\"id\":\"b14da4a0-6d9d-497f-9769-cef5ca148bc1\",\"type\":\"ColumnDataSource\"}},\"id\":\"687f54c3-cd4d-45f1-b007-5e8815bea232\",\"type\":\"CDSView\"},{\"attributes\":{},\"id\":\"fcfa1f5d-cf20-40a7-9be6-168db03b705c\",\"type\":\"ResetTool\"},{\"attributes\":{\"data_source\":{\"id\":\"35f9a3e5-254a-44d1-8aff-af115d9b3083\",\"type\":\"ColumnDataSource\"},\"glyph\":{\"id\":\"beb50e26-6f46-440e-891c-82717efb2335\",\"type\":\"Square\"},\"hover_glyph\":null,\"muted_glyph\":null,\"nonselection_glyph\":{\"id\":\"9f45a2b5-b99a-42b2-9fe0-26525bbf175a\",\"type\":\"Square\"},\"selection_glyph\":null,\"view\":{\"id\":\"3294af9c-fefa-459b-a6e7-a62adf9caaa6\",\"type\":\"CDSView\"}},\"id\":\"f2d05d7a-0b4d-4b1f-8870-c3b9d57865bb\",\"type\":\"GlyphRenderer\"},{\"attributes\":{\"below\":[{\"id\":\"27cb5fcf-e719-4ab8-859f-c93adcc806e3\",\"type\":\"LinearAxis\"}],\"left\":[{\"id\":\"26417e3b-5c7b-4ece-9c8e-bbb0c9b8f4cf\",\"type\":\"LogAxis\"}],\"plot_height\":500,\"plot_width\":560,\"renderers\":[{\"id\":\"27cb5fcf-e719-4ab8-859f-c93adcc806e3\",\"type\":\"LinearAxis\"},{\"id\":\"7fdc3083-80c8-46ae-aa92-0c53b1a4fe22\",\"type\":\"Grid\"},{\"id\":\"26417e3b-5c7b-4ece-9c8e-bbb0c9b8f4cf\",\"type\":\"LogAxis\"},{\"id\":\"cdc95b7d-fc41-49af-829b-f035a53b57c8\",\"type\":\"Grid\"},{\"id\":\"d8de7644-d1ee-49bf-9909-7c00d6af3088\",\"type\":\"BoxAnnotation\"},{\"id\":\"99658935-92ed-4b3c-a3d2-4ec6227d2d2c\",\"type\":\"GlyphRenderer\"},{\"id\":\"047fcac8-da4c-4e14-9df0-1a034a1c576b\",\"type\":\"GlyphRenderer\"},{\"id\":\"c9aff36f-1ed7-4284-b035-348f14e2961f\",\"type\":\"GlyphRenderer\"},{\"id\":\"d65fadb4-87e8-46d9-b26e-23b3f597a8b1\",\"type\":\"GlyphRenderer\"},{\"id\":\"7ccb4a72-a98c-4bd4-966c-c3ad8a46e5d3\",\"type\":\"GlyphRenderer\"},{\"id\":\"d6f38bcf-5371-4cce-a99f-2b8f47a5d9f6\",\"type\":\"Legend\"}],\"right\":[{\"id\":\"d6f38bcf-5371-4cce-a99f-2b8f47a5d9f6\",\"type\":\"Legend\"}],\"title\":{\"id\":\"eccf468a-d8a2-4c2b-985f-8144caade416\",\"type\":\"Title\"},\"toolbar\":{\"id\":\"8467bc0e-cd7c-406c-b3c7-ca7108b341dc\",\"type\":\"Toolbar\"},\"toolbar_location\":null,\"x_range\":{\"id\":\"fcc8db5d-31d3-4903-aa24-39836475aeca\",\"type\":\"Range1d\"},\"x_scale\":{\"id\":\"f9fb4690-5023-4a79-8cde-031a1069719c\",\"type\":\"LinearScale\"},\"y_range\":{\"id\":\"6831430c-43a4-45df-8e7e-671bf56a1f5b\",\"type\":\"Range1d\"},\"y_scale\":{\"id\":\"4a7568d8-9a50-4c1e-ac26-2f097b34b975\",\"type\":\"LogScale\"}},\"id\":\"4fa7b532-c8d4-4189-87c9-44ab805f7f1c\",\"subtype\":\"Figure\",\"type\":\"Plot\"},{\"attributes\":{\"callback\":null,\"column_names\":[\"x\",\"y\"],\"data\":{\"x\":{\"__ndarray__\":\"jLlrCfkgFUCzWZoAaIkSQOYXFLzXdxFAdq6D3nY0EECStHY2P4kNQNRGdTqQZQpAVmcQepEkB0BXtDnObfIDQIbzuo/t9gBAvpBpyNON/D9W7xWCwbr3P+UZRSCoRPM/aqiL87v57T/Wu2hd3XDlP9H5OrpbY90/qErG9+az2D8qH0CO/yXYP2MssiEozNY/okJUZQgV1j/o/Zg50azWP7xiHflJ1tg/8pOLrXdq3T/oH/Hpub7hPw5dmmxN5OI/Ca80Wz8+4j/nguH5mFHhP+6y/Ez/KuA/wHa0mkMM3j+M9KJ2vwrcP1sZ4MSIK9o/BpBvKcY92D9e3wNL4BzWP4Zp502oVNQ/I/S3LV8R0z+ZSAYM1JrRP0eCHb3pr88/Qfn1Il5HzT8mkqZJQgXMPzUm5Wo72Mk/AZBN0RWVyD/SGRh5WRPTPw0LIEJ9B+c/LlOT4A1J8j8gUOxX8PH1P+XqbG2G4PU/+aOoM/dw8T9I4M0iLfjrP1+9oymvU+c//icDMDOG4z8eqFMe3QjgPy2M2wXWc9k/0xDZMNgH0z+V1p32rTnLPzvX/1JpuMI/ILP6vSm5uD8iBw4wP6yvP4zEE2CpRaQ/7qtoL3/emj96FB6cnmORP76O6R0vI4c/KEgrgGLSgD+J6QfcT5J6P85zFoZgBnc/LEL1e1ADdj/V9dDuMxZ4P/fnYSo2VH8/5AmMDqvshT8GroNnaFqLP1l6ean07Yo/tLVJO/F5hD+Hy/nEqzx6P+tSoCnUh3A/IiJPryjuZj+FeoeO7vZhP8hbz4xVtaY/\",\"dtype\":\"float64\",\"shape\":[75]},\"y\":{\"__ndarray__\":\"GhExyth1ND/Sv8nbtpRIP2vylNV0PVE/aTum7souWD/At0SJ8fVgPw3Iuahxymc/MSNhhJWvcD/bTfBN02d3P2zb5nxnaoA/CD5h5MAGhz8NmeH1TyaQP+zrCsc9p5Y/LbKd76fGnz/bLW5ISEmmPww9YvTcQq8/JV2OstnstT8Er5Y7M8G+P0c+r3jqkcU/5h99k6ZBzj88bCIzFzjVP4enV8oyxN0//yH99nXg5D8qOpLLf0jtP5kqGJXUifQ/c9cS8kHP/D+/DpwzojQEQIEmwoanVwxA4lgXt9HgE0BSSZ2AJuIbQAMJih9jjiNA5q4l5INuK0AwTKYKRj0zQNv5fmq8/DpAaCJseHrtQkB/+zpwzoxKQM3MzMzMeFJAZmZmZmZqWEAAAAAAAFxeQM3MzMzMJmJAmpmZmZkfZUBmZmZmZhhoQDMzMzMzEWtAAAAAAAAKbkBmZmZmZoFwQM3MzMzM/XFAMzMzMzN6c0CamZmZmfZ0QAAAAAAAc3ZAZmZmZmbvd0DNzMzMzGt5QDMzMzMz6HpAmpmZmZlkfEAAAAAAAOF9QGZmZmZmXX9AZmZmZuZsgECamZmZGSuBQM3MzMxM6YFAAAAAAICngkAzMzMzs2WDQGZmZmbmI4RAmpmZmRnihEDNzMzMTKCFQAAAAACAXoZAMzMzM7Mch0BmZmZm5tqHQJqZmZkZmYhAzczMzExXiUAAAAAAgBWKQDMzMzOz04pAZmZmZuaRi0CamZmZGVCMQM3MzMxMDo1AAAAAAIDMjUAzMzMzs4qOQGZmZmbmSI9A\",\"dtype\":\"float64\",\"shape\":[75]}}},\"id\":\"1734e908-6aa0-42fa-97e5-5f78e412e316\",\"type\":\"ColumnDataSource\"},{\"attributes\":{},\"id\":\"202f3a85-d328-47db-a071-c64c1e7d1174\",\"type\":\"HelpTool\"},{\"attributes\":{\"source\":{\"id\":\"35f9a3e5-254a-44d1-8aff-af115d9b3083\",\"type\":\"ColumnDataSource\"}},\"id\":\"3294af9c-fefa-459b-a6e7-a62adf9caaa6\",\"type\":\"CDSView\"},{\"attributes\":{\"plot\":null,\"text\":\"Log pressure scale\"},\"id\":\"eccf468a-d8a2-4c2b-985f-8144caade416\",\"type\":\"Title\"},{\"attributes\":{},\"id\":\"e9e92f70-c9c0-4444-84f9-2cca0d89bcc5\",\"type\":\"BasicTickFormatter\"},{\"attributes\":{\"line_alpha\":0.1,\"line_color\":\"#1f77b4\",\"line_width\":3,\"x\":{\"field\":\"x\"},\"y\":{\"field\":\"y\"}},\"id\":\"ca505a6e-e3f8-469f-acf1-4278c5576c54\",\"type\":\"Line\"},{\"attributes\":{\"plot\":{\"id\":\"4fa7b532-c8d4-4189-87c9-44ab805f7f1c\",\"subtype\":\"Figure\",\"type\":\"Plot\"},\"ticker\":{\"id\":\"367098cc-69f5-47d3-8a54-1082bdac9ffa\",\"type\":\"BasicTicker\"}},\"id\":\"7fdc3083-80c8-46ae-aa92-0c53b1a4fe22\",\"type\":\"Grid\"},{\"attributes\":{},\"id\":\"4a7568d8-9a50-4c1e-ac26-2f097b34b975\",\"type\":\"LogScale\"},{\"attributes\":{\"callback\":null,\"end\":0.01,\"start\":1020},\"id\":\"6831430c-43a4-45df-8e7e-671bf56a1f5b\",\"type\":\"Range1d\"},{\"attributes\":{\"line_alpha\":0.1,\"line_color\":\"#1f77b4\",\"line_dash\":[6],\"line_width\":5,\"x\":{\"field\":\"x\"},\"y\":{\"field\":\"y\"}},\"id\":\"6b017e28-8279-4362-a565-7b7963e685e1\",\"type\":\"Line\"},{\"attributes\":{},\"id\":\"f9fb4690-5023-4a79-8cde-031a1069719c\",\"type\":\"LinearScale\"},{\"attributes\":{},\"id\":\"458ea30e-b9f5-42f6-af5c-b48b142c65d0\",\"type\":\"BasicTickFormatter\"},{\"attributes\":{\"bottom_units\":\"screen\",\"fill_alpha\":{\"value\":0.5},\"fill_color\":{\"value\":\"lightgrey\"},\"left_units\":\"screen\",\"level\":\"overlay\",\"line_alpha\":{\"value\":1.0},\"line_color\":{\"value\":\"black\"},\"line_dash\":[4,4],\"line_width\":{\"value\":2},\"plot\":null,\"render_mode\":\"css\",\"right_units\":\"screen\",\"top_units\":\"screen\"},\"id\":\"d8de7644-d1ee-49bf-9909-7c00d6af3088\",\"type\":\"BoxAnnotation\"},{\"attributes\":{\"axis_label\":\"pressure [mb]\",\"formatter\":{\"id\":\"4d555f40-3cbe-46e1-9983-84aa9c0d493b\",\"type\":\"LogTickFormatter\"},\"plot\":{\"id\":\"4fa7b532-c8d4-4189-87c9-44ab805f7f1c\",\"subtype\":\"Figure\",\"type\":\"Plot\"},\"ticker\":{\"id\":\"337fd209-1436-48c2-b297-b5cd806477c3\",\"type\":\"LogTicker\"}},\"id\":\"26417e3b-5c7b-4ece-9c8e-bbb0c9b8f4cf\",\"type\":\"LogAxis\"},{\"attributes\":{},\"id\":\"367098cc-69f5-47d3-8a54-1082bdac9ffa\",\"type\":\"BasicTicker\"},{\"attributes\":{\"source\":{\"id\":\"d520aa89-ac30-461d-9bd1-5c1170a45799\",\"type\":\"ColumnDataSource\"}},\"id\":\"e036946d-515f-40c0-bfd1-6247c6ec71c3\",\"type\":\"CDSView\"},{\"attributes\":{},\"id\":\"873c289d-46a4-4440-b166-66755b5e9222\",\"type\":\"LinearScale\"},{\"attributes\":{\"source\":{\"id\":\"6065c10b-e6bc-497e-9d7e-09bd7d534fc4\",\"type\":\"ColumnDataSource\"}},\"id\":\"b8dc6a34-08aa-486a-ac56-75932e30ead9\",\"type\":\"CDSView\"},{\"attributes\":{\"label\":{\"value\":\"CLIRAD `coolr_bands`\"},\"renderers\":[{\"id\":\"99658935-92ed-4b3c-a3d2-4ec6227d2d2c\",\"type\":\"GlyphRenderer\"}]},\"id\":\"3cca0190-cd8c-46cc-bc50-35b8173b1a6c\",\"type\":\"LegendItem\"},{\"attributes\":{\"plot\":null,\"text\":\"Linear pressure scale\"},\"id\":\"c507d5f8-b0a2-452d-b282-9d2fdacf6246\",\"type\":\"Title\"},{\"attributes\":{\"data_source\":{\"id\":\"6065c10b-e6bc-497e-9d7e-09bd7d534fc4\",\"type\":\"ColumnDataSource\"},\"glyph\":{\"id\":\"b82ff83c-21d2-4919-91b6-e32be87da798\",\"type\":\"Line\"},\"hover_glyph\":null,\"muted_glyph\":null,\"nonselection_glyph\":{\"id\":\"ca505a6e-e3f8-469f-acf1-4278c5576c54\",\"type\":\"Line\"},\"selection_glyph\":null,\"view\":{\"id\":\"b8dc6a34-08aa-486a-ac56-75932e30ead9\",\"type\":\"CDSView\"}},\"id\":\"033bd942-032e-4beb-b1c8-dcd0feff0f4b\",\"type\":\"GlyphRenderer\"},{\"attributes\":{\"fill_alpha\":{\"value\":0.7},\"fill_color\":{\"value\":\"#4daf4a\"},\"line_alpha\":{\"value\":0.7},\"line_color\":{\"value\":\"#4daf4a\"},\"x\":{\"field\":\"x\"},\"y\":{\"field\":\"y\"}},\"id\":\"b2968e67-bcae-458b-b798-1bced6bb1853\",\"type\":\"Circle\"},{\"attributes\":{\"callback\":null,\"column_names\":[\"x\",\"y\"],\"data\":{\"x\":{\"__ndarray__\":\"i8Yd/ikhB0CV//WHEFwGQFn6GSgcIgZASca4lSzIBUCbIwoprkAFQPVG+kKUggRAuTx3qvWFA0Cj2K30r0MCQMitDSTPuQBAxQ1NZlzT/T8K316ujrr5P46PsyPzTvU/gIbxp82/8D+AnEdMa2LoPyRuMvkcFOE/sjmCsJEO3D/iGW7SaxfaPxnOGcZiNtc/rzHM+T3y1D/6XZQeBLHUP3VqyayFQ9c/rLBh2jMb3T+dXPivX0TiP5LfPs+L5OM/kbt2QAKF4z+3vCM4w7LiPzrNf5q5W+E/2V7NZmvI3z+IuL/IORjdPwPYydtWtdo//a79CkTe2D9TbvErfOjWP9yhEpmDJNU/ogiegEb10z/0AvdG7VPSP+tuFpDAL9A/1l94poJlzT+8i8mwDqrLPx+NGeSeEMk/QhmWukiRxz+3r/1B4oXSP4T4Z/qT2OY/Nj+z5tJB8j/cIptxOz32Pwxu4gVZE/Y/e/oFJLpH8T8iTrFIuyTsP+WSiGiGa+c/D7+IwboO4z/EOZwuirLeP47UPwn8c9g/EsemcRB90j+oIYnsChTKP2yA7PUgMcE/HVAV/D0JtT/v39ZgHouoP2gpWSOEMp0/+qKm5gMBkz9+2D6U1vKJP/d5ps4JToI/rE+NJifbfD/sAjCgox14PwlE8zK3enU/M4S79+YDdT/BkkLu5Gx3P0Dw+ren634/2jw8LDTPhT+Sirlwq0mLP4u58hlF44o/kNbnXQ11hD90jtPFHDh6P+ZXCnywhXA/soCqb0/sZj/cCk5t/fVhP0f5wsZOtaY/\",\"dtype\":\"float64\",\"shape\":[75]},\"y\":{\"__ndarray__\":\"GhExyth1ND/Sv8nbtpRIP2vylNV0PVE/aTum7souWD/At0SJ8fVgPw3Iuahxymc/MSNhhJWvcD/bTfBN02d3P2zb5nxnaoA/CD5h5MAGhz8NmeH1TyaQP+zrCsc9p5Y/LbKd76fGnz/bLW5ISEmmPww9YvTcQq8/JV2OstnstT8Er5Y7M8G+P0c+r3jqkcU/5h99k6ZBzj88bCIzFzjVP4enV8oyxN0//yH99nXg5D8qOpLLf0jtP5kqGJXUifQ/c9cS8kHP/D+/DpwzojQEQIEmwoanVwxA4lgXt9HgE0BSSZ2AJuIbQAMJih9jjiNA5q4l5INuK0AwTKYKRj0zQNv5fmq8/DpAaCJseHrtQkB/+zpwzoxKQM3MzMzMeFJAZmZmZmZqWEAAAAAAAFxeQM3MzMzMJmJAmpmZmZkfZUBmZmZmZhhoQDMzMzMzEWtAAAAAAAAKbkBmZmZmZoFwQM3MzMzM/XFAMzMzMzN6c0CamZmZmfZ0QAAAAAAAc3ZAZmZmZmbvd0DNzMzMzGt5QDMzMzMz6HpAmpmZmZlkfEAAAAAAAOF9QGZmZmZmXX9AZmZmZuZsgECamZmZGSuBQM3MzMxM6YFAAAAAAICngkAzMzMzs2WDQGZmZmbmI4RAmpmZmRnihEDNzMzMTKCFQAAAAACAXoZAMzMzM7Mch0BmZmZm5tqHQJqZmZkZmYhAzczMzExXiUAAAAAAgBWKQDMzMzOz04pAZmZmZuaRi0CamZmZGVCMQM3MzMxMDo1AAAAAAIDMjUAzMzMzs4qOQGZmZmbmSI9A\",\"dtype\":\"float64\",\"shape\":[75]}}},\"id\":\"35f9a3e5-254a-44d1-8aff-af115d9b3083\",\"type\":\"ColumnDataSource\"},{\"attributes\":{\"callback\":null,\"end\":0.01,\"start\":1020},\"id\":\"99b50872-2533-4836-85f8-f31977cf6307\",\"type\":\"Range1d\"},{\"attributes\":{\"plot\":{\"id\":\"1a43470b-b3fe-4a16-9b0b-37f9011c2e87\",\"subtype\":\"Figure\",\"type\":\"Plot\"},\"ticker\":{\"id\":\"ef8ab818-5b94-4bd0-a16f-0cc20eac516a\",\"type\":\"BasicTicker\"}},\"id\":\"f962f744-7b3f-45ba-83e1-599570cffa91\",\"type\":\"Grid\"},{\"attributes\":{},\"id\":\"c9f5ddaa-02be-469c-97a6-8b607a5fb19f\",\"type\":\"WheelZoomTool\"},{\"attributes\":{\"source\":{\"id\":\"a418f7b5-c530-45f2-b373-b5dfe6cb5edf\",\"type\":\"ColumnDataSource\"}},\"id\":\"837dd7d2-786d-4f5a-afce-1cb5142f3f66\",\"type\":\"CDSView\"},{\"attributes\":{\"fill_alpha\":{\"value\":0.1},\"fill_color\":{\"value\":\"#1f77b4\"},\"line_alpha\":{\"value\":0.1},\"line_color\":{\"value\":\"#1f77b4\"},\"x\":{\"field\":\"x\"},\"y\":{\"field\":\"y\"}},\"id\":\"9f45a2b5-b99a-42b2-9fe0-26525bbf175a\",\"type\":\"Square\"},{\"attributes\":{\"dimension\":1,\"plot\":{\"id\":\"4fa7b532-c8d4-4189-87c9-44ab805f7f1c\",\"subtype\":\"Figure\",\"type\":\"Plot\"},\"ticker\":{\"id\":\"337fd209-1436-48c2-b297-b5cd806477c3\",\"type\":\"LogTicker\"}},\"id\":\"cdc95b7d-fc41-49af-829b-f035a53b57c8\",\"type\":\"Grid\"},{\"attributes\":{\"active_drag\":\"auto\",\"active_inspect\":\"auto\",\"active_scroll\":\"auto\",\"active_tap\":\"auto\",\"tools\":[{\"id\":\"ed0f4df2-f33c-4fb8-954a-e5f8a0ed231e\",\"type\":\"PanTool\"},{\"id\":\"c9f5ddaa-02be-469c-97a6-8b607a5fb19f\",\"type\":\"WheelZoomTool\"},{\"id\":\"de56308c-fea1-4bc5-b89f-52a788a433f9\",\"type\":\"BoxZoomTool\"},{\"id\":\"1b371bbe-67c8-498a-bdfa-e92c369be91c\",\"type\":\"SaveTool\"},{\"id\":\"b0ac84ed-c580-453f-8082-37b9a83b0b40\",\"type\":\"ResetTool\"},{\"id\":\"202f3a85-d328-47db-a071-c64c1e7d1174\",\"type\":\"HelpTool\"}]},\"id\":\"5d37d2bf-a296-4bd2-8d57-6bc93d37335b\",\"type\":\"Toolbar\"},{\"attributes\":{},\"id\":\"24d8f1ea-3bdb-4342-a075-eb1c81230348\",\"type\":\"SaveTool\"},{\"attributes\":{\"label\":{\"value\":\"CRD\"},\"renderers\":[{\"id\":\"047fcac8-da4c-4e14-9df0-1a034a1c576b\",\"type\":\"GlyphRenderer\"},{\"id\":\"c9aff36f-1ed7-4284-b035-348f14e2961f\",\"type\":\"GlyphRenderer\"}]},\"id\":\"c55723fe-f367-4814-a014-3f8c9e134954\",\"type\":\"LegendItem\"},{\"attributes\":{},\"id\":\"8681a3ea-7edb-4ce0-8587-0ff8e3676ebc\",\"type\":\"BasicTickFormatter\"},{\"attributes\":{},\"id\":\"56f16bb9-c27c-4b7b-a583-b0f55c704b33\",\"type\":\"PanTool\"},{\"attributes\":{},\"id\":\"ef8ab818-5b94-4bd0-a16f-0cc20eac516a\",\"type\":\"BasicTicker\"},{\"attributes\":{},\"id\":\"81856fa0-c843-4569-87b8-ef5d199b29c2\",\"type\":\"LinearScale\"},{\"attributes\":{\"data_source\":{\"id\":\"1734e908-6aa0-42fa-97e5-5f78e412e316\",\"type\":\"ColumnDataSource\"},\"glyph\":{\"id\":\"56024d6b-a3e3-44a0-b018-90fc82490854\",\"type\":\"Line\"},\"hover_glyph\":null,\"muted_glyph\":null,\"nonselection_glyph\":{\"id\":\"0facf7d8-a10c-49f4-bd0f-3b6287aeec0b\",\"type\":\"Line\"},\"selection_glyph\":null,\"view\":{\"id\":\"29aaee2d-072d-4c89-9650-94d90571dd47\",\"type\":\"CDSView\"}},\"id\":\"f39d4b55-d8ef-48d6-ad92-2ad10b203971\",\"type\":\"GlyphRenderer\"},{\"attributes\":{\"axis_label\":\"cooling rate [K/day]\",\"formatter\":{\"id\":\"e9e92f70-c9c0-4444-84f9-2cca0d89bcc5\",\"type\":\"BasicTickFormatter\"},\"plot\":{\"id\":\"1a43470b-b3fe-4a16-9b0b-37f9011c2e87\",\"subtype\":\"Figure\",\"type\":\"Plot\"},\"ticker\":{\"id\":\"ef8ab818-5b94-4bd0-a16f-0cc20eac516a\",\"type\":\"BasicTicker\"}},\"id\":\"9b110771-8196-452d-a300-67ab727f038b\",\"type\":\"LinearAxis\"},{\"attributes\":{\"source\":{\"id\":\"1734e908-6aa0-42fa-97e5-5f78e412e316\",\"type\":\"ColumnDataSource\"}},\"id\":\"29aaee2d-072d-4c89-9650-94d90571dd47\",\"type\":\"CDSView\"},{\"attributes\":{\"callback\":null,\"column_names\":[\"x\",\"y\"],\"data\":{\"x\":{\"__ndarray__\":\"i8Yd/ikhB0CV//WHEFwGQFn6GSgcIgZASca4lSzIBUCbIwoprkAFQPVG+kKUggRAuTx3qvWFA0Cj2K30r0MCQMitDSTPuQBAxQ1NZlzT/T8K316ujrr5P46PsyPzTvU/gIbxp82/8D+AnEdMa2LoPyRuMvkcFOE/sjmCsJEO3D/iGW7SaxfaPxnOGcZiNtc/rzHM+T3y1D/6XZQeBLHUP3VqyayFQ9c/rLBh2jMb3T+dXPivX0TiP5LfPs+L5OM/kbt2QAKF4z+3vCM4w7LiPzrNf5q5W+E/2V7NZmvI3z+IuL/IORjdPwPYydtWtdo//a79CkTe2D9TbvErfOjWP9yhEpmDJNU/ogiegEb10z/0AvdG7VPSP+tuFpDAL9A/1l94poJlzT+8i8mwDqrLPx+NGeSeEMk/QhmWukiRxz+3r/1B4oXSP4T4Z/qT2OY/Nj+z5tJB8j/cIptxOz32Pwxu4gVZE/Y/e/oFJLpH8T8iTrFIuyTsP+WSiGiGa+c/D7+IwboO4z/EOZwuirLeP47UPwn8c9g/EsemcRB90j+oIYnsChTKP2yA7PUgMcE/HVAV/D0JtT/v39ZgHouoP2gpWSOEMp0/+qKm5gMBkz9+2D6U1vKJP/d5ps4JToI/rE+NJifbfD/sAjCgox14PwlE8zK3enU/M4S79+YDdT/BkkLu5Gx3P0Dw+ren634/2jw8LDTPhT+Sirlwq0mLP4u58hlF44o/kNbnXQ11hD90jtPFHDh6P+ZXCnywhXA/soCqb0/sZj/cCk5t/fVhP0f5wsZOtaY/\",\"dtype\":\"float64\",\"shape\":[75]},\"y\":{\"__ndarray__\":\"GhExyth1ND/Sv8nbtpRIP2vylNV0PVE/aTum7souWD/At0SJ8fVgPw3Iuahxymc/MSNhhJWvcD/bTfBN02d3P2zb5nxnaoA/CD5h5MAGhz8NmeH1TyaQP+zrCsc9p5Y/LbKd76fGnz/bLW5ISEmmPww9YvTcQq8/JV2OstnstT8Er5Y7M8G+P0c+r3jqkcU/5h99k6ZBzj88bCIzFzjVP4enV8oyxN0//yH99nXg5D8qOpLLf0jtP5kqGJXUifQ/c9cS8kHP/D+/DpwzojQEQIEmwoanVwxA4lgXt9HgE0BSSZ2AJuIbQAMJih9jjiNA5q4l5INuK0AwTKYKRj0zQNv5fmq8/DpAaCJseHrtQkB/+zpwzoxKQM3MzMzMeFJAZmZmZmZqWEAAAAAAAFxeQM3MzMzMJmJAmpmZmZkfZUBmZmZmZhhoQDMzMzMzEWtAAAAAAAAKbkBmZmZmZoFwQM3MzMzM/XFAMzMzMzN6c0CamZmZmfZ0QAAAAAAAc3ZAZmZmZmbvd0DNzMzMzGt5QDMzMzMz6HpAmpmZmZlkfEAAAAAAAOF9QGZmZmZmXX9AZmZmZuZsgECamZmZGSuBQM3MzMxM6YFAAAAAAICngkAzMzMzs2WDQGZmZmbmI4RAmpmZmRnihEDNzMzMTKCFQAAAAACAXoZAMzMzM7Mch0BmZmZm5tqHQJqZmZkZmYhAzczMzExXiUAAAAAAgBWKQDMzMzOz04pAZmZmZuaRi0CamZmZGVCMQM3MzMxMDo1AAAAAAIDMjUAzMzMzs4qOQGZmZmbmSI9A\",\"dtype\":\"float64\",\"shape\":[75]}}},\"id\":\"6065c10b-e6bc-497e-9d7e-09bd7d534fc4\",\"type\":\"ColumnDataSource\"},{\"attributes\":{},\"id\":\"ed0f4df2-f33c-4fb8-954a-e5f8a0ed231e\",\"type\":\"PanTool\"},{\"attributes\":{\"axis_label\":\"pressure [mb]\",\"formatter\":{\"id\":\"8681a3ea-7edb-4ce0-8587-0ff8e3676ebc\",\"type\":\"BasicTickFormatter\"},\"plot\":{\"id\":\"1a43470b-b3fe-4a16-9b0b-37f9011c2e87\",\"subtype\":\"Figure\",\"type\":\"Plot\"},\"ticker\":{\"id\":\"f665ffce-d63a-4a83-b09e-b5b7085ac923\",\"type\":\"BasicTicker\"}},\"id\":\"cec28973-6cfc-4da0-9dae-8de2a3e58ba6\",\"type\":\"LinearAxis\"},{\"attributes\":{\"line_alpha\":0.6,\"line_color\":\"#e41a1c\",\"line_dash\":[6],\"line_width\":5,\"x\":{\"field\":\"x\"},\"y\":{\"field\":\"y\"}},\"id\":\"f410b032-aa80-4788-86ae-093365471dee\",\"type\":\"Line\"},{\"attributes\":{\"line_alpha\":0.6,\"line_color\":\"#984ea3\",\"line_width\":3,\"x\":{\"field\":\"x\"},\"y\":{\"field\":\"y\"}},\"id\":\"b82ff83c-21d2-4919-91b6-e32be87da798\",\"type\":\"Line\"},{\"attributes\":{\"axis_label\":\"cooling rate [K/day]\",\"formatter\":{\"id\":\"458ea30e-b9f5-42f6-af5c-b48b142c65d0\",\"type\":\"BasicTickFormatter\"},\"plot\":{\"id\":\"4fa7b532-c8d4-4189-87c9-44ab805f7f1c\",\"subtype\":\"Figure\",\"type\":\"Plot\"},\"ticker\":{\"id\":\"367098cc-69f5-47d3-8a54-1082bdac9ffa\",\"type\":\"BasicTicker\"}},\"id\":\"27cb5fcf-e719-4ab8-859f-c93adcc806e3\",\"type\":\"LinearAxis\"},{\"attributes\":{\"overlay\":{\"id\":\"d8de7644-d1ee-49bf-9909-7c00d6af3088\",\"type\":\"BoxAnnotation\"}},\"id\":\"6501b1ea-1a2c-4ba1-9da8-3276329720aa\",\"type\":\"BoxZoomTool\"},{\"attributes\":{\"line_alpha\":0.6,\"line_color\":\"#e41a1c\",\"line_dash\":[6],\"line_width\":5,\"x\":{\"field\":\"x\"},\"y\":{\"field\":\"y\"}},\"id\":\"893eaee1-886d-4109-ad4d-9b9aa08fdaae\",\"type\":\"Line\"},{\"attributes\":{},\"id\":\"edb89cb4-1b1e-4121-967c-620a38236c94\",\"type\":\"WheelZoomTool\"},{\"attributes\":{\"label\":{\"value\":\"WGT igg=10 wgt_flux=2\"},\"renderers\":[{\"id\":\"d65fadb4-87e8-46d9-b26e-23b3f597a8b1\",\"type\":\"GlyphRenderer\"},{\"id\":\"7ccb4a72-a98c-4bd4-966c-c3ad8a46e5d3\",\"type\":\"GlyphRenderer\"}]},\"id\":\"9c4ed2ce-6273-4af9-9a88-dff1ba9c96b6\",\"type\":\"LegendItem\"},{\"attributes\":{\"data_source\":{\"id\":\"d520aa89-ac30-461d-9bd1-5c1170a45799\",\"type\":\"ColumnDataSource\"},\"glyph\":{\"id\":\"b2968e67-bcae-458b-b798-1bced6bb1853\",\"type\":\"Circle\"},\"hover_glyph\":null,\"muted_glyph\":null,\"nonselection_glyph\":{\"id\":\"060ba790-9b82-48d3-902e-340722621160\",\"type\":\"Circle\"},\"selection_glyph\":null,\"view\":{\"id\":\"e036946d-515f-40c0-bfd1-6247c6ec71c3\",\"type\":\"CDSView\"}},\"id\":\"8b39857b-31b0-4aa4-94de-0018e821fa6c\",\"type\":\"GlyphRenderer\"},{\"attributes\":{\"callback\":null,\"column_names\":[\"x\",\"y\"],\"data\":{\"x\":{\"__ndarray__\":\"/zT/+ccsBUBoaPKDqZwDQPkdHh2yPAJAxbzYxX6AA0B2wYXhyNgCQLr4254g8QJATXSnhdw2AkBEGapiKj0BQL2XsVcOw/8/FgeGYuEa/D+RqXEl8aj4PzJ9ZZQdEfQ/ct21AESs7j9PJ3bAt6HlP1MIBSEwAd4/69+a4ECt2D9NCCXlUZ7WP6gCakFaKdM/Qo//nxYF0T920i0BGfbRP9YU0F110dU/wNYAAFv52z+C3OreL4vhP11mXGGPI+M/QsOsYdDz4j8efUBeF9fhP9/x1MDicuA/0TaCfQkP3j90/Abcqe/aPyXT2359Hdk/A3aYo4WT1z9eclCAMEnVP29bQtu9ntM/mF84nYV50j/c6qSEgaPQPzj2Dcg1cM0/Q6TP3H1tyj/0kEK8IrbIPw7/wIfYgcY/98wOyJCpxT+n0f3/rHfRPxn7mv5PEuY/SJVyCGbW8T8z3lZ6bZb2P1tsSf2rHfY/kT3nEx5Z8T8bbY+9YjbtPw7+dsASG+g/kM5tgKFg4z/N2W3d7uHfP2sQpFpd8dk/J0HqPEtM0z8VEc1VVsfJPwAAAAAAAAAATB4Nrz0Wvz/oF6sh/zmxPwedJB7PtaI/qiGpOQSElj+OsGGzR5uPP/cmsWTB1oY/Oi12Pu4pgT+h2jwjjAV7PxacxuEIpXY/Xh8DnTxxdD8wxwveWXh0P3rZICOB/nY/4EN4IcXTfj8TbUhVc7aFPym8qDZoSos/sQ8igVXhij+DVTahyXSEP75r38ILOXo/N432Au+AcD9Gatp8Ff1mP4L2aWOMEqW/\",\"dtype\":\"float64\",\"shape\":[75]},\"y\":{\"__ndarray__\":\"MCRxoNFnQT9dcvo90IdNP+qWHeIftlQ/dNWXAFcNXT8NYIJ9MWBkP10nQT3OlGw/j4BJYrQLdD9jyv8cUR58P6d8Yj6UuIM/4k9uirCpiz98QnbexmaTPzw3+LjyNps/eYMeIE4Woz9zNWieEsaqP8rD9h4kx7I/FYYSdwZXuj8CvMP1QXnCPxYvFobI6ck/F35wPnUs0j/hCb3+JH7ZPwumL75H4eE/FK5H4XoU6T/Xo3A9CpfxPwaBlUOLrPg/ira+oyFOAUCgGi/dJEYIQBE2PL1SBhFAwE2QInzhF0B3TrNAu78gQPXb14FzfidA0ZFc/kN6MEAFo5I6AR03QHtLOV/sNUBAxAq3fCS9RkC8zob8M79PQCgmb4CZcVVAMzMzMzNjW0BmZmZmZqpgQLzoK0gzo2NAAAAAAACcZkBEF9S3zJRpQJqZmZmZjWxAZmZmZmaGb0AQ5KCEmT9xQAAAAAAAvHJA8Btfe2Y4dEAIclDCzLR1QPiNrz0zMXdAEOSghJmteEAAAAAAACp6QPAbX3tmpntACXJQwswifUD3ja89M59+QDeJQWDlSH9ACHJQwswNgEAAAAAAAMyAQPiNrz0zioFABTkoYWZIgkD7xteemQaDQAhyUMLMxINAAAAAAACDhED4ja89M0GFQAU5KGFm/4VA+8bXnpm9hkAIclDCzHuHQAAAAAAAOohA+I2vPTP4iEAFOShhZraJQPvG156ZdIpACXJQwswyi0AAAAAAAPGLQPeNrz0zr4xABTkoYWZtjUD7xteemSuOQHEDPj/M6Y5A\",\"dtype\":\"float64\",\"shape\":[75]}}},\"id\":\"b14da4a0-6d9d-497f-9769-cef5ca148bc1\",\"type\":\"ColumnDataSource\"},{\"attributes\":{\"active_drag\":\"auto\",\"active_inspect\":\"auto\",\"active_scroll\":\"auto\",\"active_tap\":\"auto\",\"tools\":[{\"id\":\"56f16bb9-c27c-4b7b-a583-b0f55c704b33\",\"type\":\"PanTool\"},{\"id\":\"edb89cb4-1b1e-4121-967c-620a38236c94\",\"type\":\"WheelZoomTool\"},{\"id\":\"6501b1ea-1a2c-4ba1-9da8-3276329720aa\",\"type\":\"BoxZoomTool\"},{\"id\":\"24d8f1ea-3bdb-4342-a075-eb1c81230348\",\"type\":\"SaveTool\"},{\"id\":\"fcfa1f5d-cf20-40a7-9be6-168db03b705c\",\"type\":\"ResetTool\"},{\"id\":\"aaac1048-c9ce-43d2-b0eb-33454914afc9\",\"type\":\"HelpTool\"}]},\"id\":\"8467bc0e-cd7c-406c-b3c7-ca7108b341dc\",\"type\":\"Toolbar\"},{\"attributes\":{},\"id\":\"f665ffce-d63a-4a83-b09e-b5b7085ac923\",\"type\":\"BasicTicker\"},{\"attributes\":{\"children\":[{\"id\":\"f4da79ae-213a-465d-98a4-6e9569ed7160\",\"type\":\"Row\"}]},\"id\":\"d8952c81-471a-49e7-96c4-eb092b1de2df\",\"type\":\"Column\"},{\"attributes\":{\"callback\":null,\"column_names\":[\"x\",\"y\"],\"data\":{\"x\":{\"__ndarray__\":\"jLlrCfkgFUCzWZoAaIkSQOYXFLzXdxFAdq6D3nY0EECStHY2P4kNQNRGdTqQZQpAVmcQepEkB0BXtDnObfIDQIbzuo/t9gBAvpBpyNON/D9W7xWCwbr3P+UZRSCoRPM/aqiL87v57T/Wu2hd3XDlP9H5OrpbY90/qErG9+az2D8qH0CO/yXYP2MssiEozNY/okJUZQgV1j/o/Zg50azWP7xiHflJ1tg/8pOLrXdq3T/oH/Hpub7hPw5dmmxN5OI/Ca80Wz8+4j/nguH5mFHhP+6y/Ez/KuA/wHa0mkMM3j+M9KJ2vwrcP1sZ4MSIK9o/BpBvKcY92D9e3wNL4BzWP4Zp502oVNQ/I/S3LV8R0z+ZSAYM1JrRP0eCHb3pr88/Qfn1Il5HzT8mkqZJQgXMPzUm5Wo72Mk/AZBN0RWVyD/SGRh5WRPTPw0LIEJ9B+c/LlOT4A1J8j8gUOxX8PH1P+XqbG2G4PU/+aOoM/dw8T9I4M0iLfjrP1+9oymvU+c//icDMDOG4z8eqFMe3QjgPy2M2wXWc9k/0xDZMNgH0z+V1p32rTnLPzvX/1JpuMI/ILP6vSm5uD8iBw4wP6yvP4zEE2CpRaQ/7qtoL3/emj96FB6cnmORP76O6R0vI4c/KEgrgGLSgD+J6QfcT5J6P85zFoZgBnc/LEL1e1ADdj/V9dDuMxZ4P/fnYSo2VH8/5AmMDqvshT8GroNnaFqLP1l6ean07Yo/tLVJO/F5hD+Hy/nEqzx6P+tSoCnUh3A/IiJPryjuZj+FeoeO7vZhP8hbz4xVtaY/\",\"dtype\":\"float64\",\"shape\":[75]},\"y\":{\"__ndarray__\":\"GhExyth1ND/Sv8nbtpRIP2vylNV0PVE/aTum7souWD/At0SJ8fVgPw3Iuahxymc/MSNhhJWvcD/bTfBN02d3P2zb5nxnaoA/CD5h5MAGhz8NmeH1TyaQP+zrCsc9p5Y/LbKd76fGnz/bLW5ISEmmPww9YvTcQq8/JV2OstnstT8Er5Y7M8G+P0c+r3jqkcU/5h99k6ZBzj88bCIzFzjVP4enV8oyxN0//yH99nXg5D8qOpLLf0jtP5kqGJXUifQ/c9cS8kHP/D+/DpwzojQEQIEmwoanVwxA4lgXt9HgE0BSSZ2AJuIbQAMJih9jjiNA5q4l5INuK0AwTKYKRj0zQNv5fmq8/DpAaCJseHrtQkB/+zpwzoxKQM3MzMzMeFJAZmZmZmZqWEAAAAAAAFxeQM3MzMzMJmJAmpmZmZkfZUBmZmZmZhhoQDMzMzMzEWtAAAAAAAAKbkBmZmZmZoFwQM3MzMzM/XFAMzMzMzN6c0CamZmZmfZ0QAAAAAAAc3ZAZmZmZmbvd0DNzMzMzGt5QDMzMzMz6HpAmpmZmZlkfEAAAAAAAOF9QGZmZmZmXX9AZmZmZuZsgECamZmZGSuBQM3MzMxM6YFAAAAAAICngkAzMzMzs2WDQGZmZmbmI4RAmpmZmRnihEDNzMzMTKCFQAAAAACAXoZAMzMzM7Mch0BmZmZm5tqHQJqZmZkZmYhAzczMzExXiUAAAAAAgBWKQDMzMzOz04pAZmZmZuaRi0CamZmZGVCMQM3MzMxMDo1AAAAAAIDMjUAzMzMzs4qOQGZmZmbmSI9A\",\"dtype\":\"float64\",\"shape\":[75]}}},\"id\":\"d520aa89-ac30-461d-9bd1-5c1170a45799\",\"type\":\"ColumnDataSource\"},{\"attributes\":{\"data_source\":{\"id\":\"b14da4a0-6d9d-497f-9769-cef5ca148bc1\",\"type\":\"ColumnDataSource\"},\"glyph\":{\"id\":\"893eaee1-886d-4109-ad4d-9b9aa08fdaae\",\"type\":\"Line\"},\"hover_glyph\":null,\"muted_glyph\":null,\"nonselection_glyph\":{\"id\":\"6b017e28-8279-4362-a565-7b7963e685e1\",\"type\":\"Line\"},\"selection_glyph\":null,\"view\":{\"id\":\"687f54c3-cd4d-45f1-b007-5e8815bea232\",\"type\":\"CDSView\"}},\"id\":\"99658935-92ed-4b3c-a3d2-4ec6227d2d2c\",\"type\":\"GlyphRenderer\"},{\"attributes\":{\"dimension\":1,\"plot\":{\"id\":\"1a43470b-b3fe-4a16-9b0b-37f9011c2e87\",\"subtype\":\"Figure\",\"type\":\"Plot\"},\"ticker\":{\"id\":\"f665ffce-d63a-4a83-b09e-b5b7085ac923\",\"type\":\"BasicTicker\"}},\"id\":\"635d313a-a7f8-43a5-a902-c27ceb48e334\",\"type\":\"Grid\"},{\"attributes\":{\"toolbar\":{\"id\":\"15ef9557-1074-43ce-ba64-28e673468e50\",\"type\":\"ProxyToolbar\"},\"toolbar_location\":\"above\"},\"id\":\"33315e31-9c25-47a7-800d-15b89bc4c16b\",\"type\":\"ToolbarBox\"},{\"attributes\":{\"data_source\":{\"id\":\"a418f7b5-c530-45f2-b373-b5dfe6cb5edf\",\"type\":\"ColumnDataSource\"},\"glyph\":{\"id\":\"f410b032-aa80-4788-86ae-093365471dee\",\"type\":\"Line\"},\"hover_glyph\":null,\"muted_glyph\":null,\"nonselection_glyph\":{\"id\":\"1682cd67-2d15-4851-83a4-1fae225bb71b\",\"type\":\"Line\"},\"selection_glyph\":null,\"view\":{\"id\":\"837dd7d2-786d-4f5a-afce-1cb5142f3f66\",\"type\":\"CDSView\"}},\"id\":\"53a310f2-d093-4d47-a253-14a6bd5cd3ae\",\"type\":\"GlyphRenderer\"},{\"attributes\":{\"callback\":null,\"column_names\":[\"x\",\"y\"],\"data\":{\"x\":{\"__ndarray__\":\"i8Yd/ikhB0CV//WHEFwGQFn6GSgcIgZASca4lSzIBUCbIwoprkAFQPVG+kKUggRAuTx3qvWFA0Cj2K30r0MCQMitDSTPuQBAxQ1NZlzT/T8K316ujrr5P46PsyPzTvU/gIbxp82/8D+AnEdMa2LoPyRuMvkcFOE/sjmCsJEO3D/iGW7SaxfaPxnOGcZiNtc/rzHM+T3y1D/6XZQeBLHUP3VqyayFQ9c/rLBh2jMb3T+dXPivX0TiP5LfPs+L5OM/kbt2QAKF4z+3vCM4w7LiPzrNf5q5W+E/2V7NZmvI3z+IuL/IORjdPwPYydtWtdo//a79CkTe2D9TbvErfOjWP9yhEpmDJNU/ogiegEb10z/0AvdG7VPSP+tuFpDAL9A/1l94poJlzT+8i8mwDqrLPx+NGeSeEMk/QhmWukiRxz+3r/1B4oXSP4T4Z/qT2OY/Nj+z5tJB8j/cIptxOz32Pwxu4gVZE/Y/e/oFJLpH8T8iTrFIuyTsP+WSiGiGa+c/D7+IwboO4z/EOZwuirLeP47UPwn8c9g/EsemcRB90j+oIYnsChTKP2yA7PUgMcE/HVAV/D0JtT/v39ZgHouoP2gpWSOEMp0/+qKm5gMBkz9+2D6U1vKJP/d5ps4JToI/rE+NJifbfD/sAjCgox14PwlE8zK3enU/M4S79+YDdT/BkkLu5Gx3P0Dw+ren634/2jw8LDTPhT+Sirlwq0mLP4u58hlF44o/kNbnXQ11hD90jtPFHDh6P+ZXCnywhXA/soCqb0/sZj/cCk5t/fVhP0f5wsZOtaY/\",\"dtype\":\"float64\",\"shape\":[75]},\"y\":{\"__ndarray__\":\"GhExyth1ND/Sv8nbtpRIP2vylNV0PVE/aTum7souWD/At0SJ8fVgPw3Iuahxymc/MSNhhJWvcD/bTfBN02d3P2zb5nxnaoA/CD5h5MAGhz8NmeH1TyaQP+zrCsc9p5Y/LbKd76fGnz/bLW5ISEmmPww9YvTcQq8/JV2OstnstT8Er5Y7M8G+P0c+r3jqkcU/5h99k6ZBzj88bCIzFzjVP4enV8oyxN0//yH99nXg5D8qOpLLf0jtP5kqGJXUifQ/c9cS8kHP/D+/DpwzojQEQIEmwoanVwxA4lgXt9HgE0BSSZ2AJuIbQAMJih9jjiNA5q4l5INuK0AwTKYKRj0zQNv5fmq8/DpAaCJseHrtQkB/+zpwzoxKQM3MzMzMeFJAZmZmZmZqWEAAAAAAAFxeQM3MzMzMJmJAmpmZmZkfZUBmZmZmZhhoQDMzMzMzEWtAAAAAAAAKbkBmZmZmZoFwQM3MzMzM/XFAMzMzMzN6c0CamZmZmfZ0QAAAAAAAc3ZAZmZmZmbvd0DNzMzMzGt5QDMzMzMz6HpAmpmZmZlkfEAAAAAAAOF9QGZmZmZmXX9AZmZmZuZsgECamZmZGSuBQM3MzMxM6YFAAAAAAICngkAzMzMzs2WDQGZmZmbmI4RAmpmZmRnihEDNzMzMTKCFQAAAAACAXoZAMzMzM7Mch0BmZmZm5tqHQJqZmZkZmYhAzczMzExXiUAAAAAAgBWKQDMzMzOz04pAZmZmZuaRi0CamZmZGVCMQM3MzMxMDo1AAAAAAIDMjUAzMzMzs4qOQGZmZmbmSI9A\",\"dtype\":\"float64\",\"shape\":[75]}}},\"id\":\"abb1b554-ad81-4d18-ba03-51bea0736223\",\"type\":\"ColumnDataSource\"},{\"attributes\":{\"ticker\":null},\"id\":\"4d555f40-3cbe-46e1-9983-84aa9c0d493b\",\"type\":\"LogTickFormatter\"},{\"attributes\":{\"callback\":null,\"column_names\":[\"x\",\"y\"],\"data\":{\"x\":{\"__ndarray__\":\"i8Yd/ikhB0CV//WHEFwGQFn6GSgcIgZASca4lSzIBUCbIwoprkAFQPVG+kKUggRAuTx3qvWFA0Cj2K30r0MCQMitDSTPuQBAxQ1NZlzT/T8K316ujrr5P46PsyPzTvU/gIbxp82/8D+AnEdMa2LoPyRuMvkcFOE/sjmCsJEO3D/iGW7SaxfaPxnOGcZiNtc/rzHM+T3y1D/6XZQeBLHUP3VqyayFQ9c/rLBh2jMb3T+dXPivX0TiP5LfPs+L5OM/kbt2QAKF4z+3vCM4w7LiPzrNf5q5W+E/2V7NZmvI3z+IuL/IORjdPwPYydtWtdo//a79CkTe2D9TbvErfOjWP9yhEpmDJNU/ogiegEb10z/0AvdG7VPSP+tuFpDAL9A/1l94poJlzT+8i8mwDqrLPx+NGeSeEMk/QhmWukiRxz+3r/1B4oXSP4T4Z/qT2OY/Nj+z5tJB8j/cIptxOz32Pwxu4gVZE/Y/e/oFJLpH8T8iTrFIuyTsP+WSiGiGa+c/D7+IwboO4z/EOZwuirLeP47UPwn8c9g/EsemcRB90j+oIYnsChTKP2yA7PUgMcE/HVAV/D0JtT/v39ZgHouoP2gpWSOEMp0/+qKm5gMBkz9+2D6U1vKJP/d5ps4JToI/rE+NJifbfD/sAjCgox14PwlE8zK3enU/M4S79+YDdT/BkkLu5Gx3P0Dw+ren634/2jw8LDTPhT+Sirlwq0mLP4u58hlF44o/kNbnXQ11hD90jtPFHDh6P+ZXCnywhXA/soCqb0/sZj/cCk5t/fVhP0f5wsZOtaY/\",\"dtype\":\"float64\",\"shape\":[75]},\"y\":{\"__ndarray__\":\"GhExyth1ND/Sv8nbtpRIP2vylNV0PVE/aTum7souWD/At0SJ8fVgPw3Iuahxymc/MSNhhJWvcD/bTfBN02d3P2zb5nxnaoA/CD5h5MAGhz8NmeH1TyaQP+zrCsc9p5Y/LbKd76fGnz/bLW5ISEmmPww9YvTcQq8/JV2OstnstT8Er5Y7M8G+P0c+r3jqkcU/5h99k6ZBzj88bCIzFzjVP4enV8oyxN0//yH99nXg5D8qOpLLf0jtP5kqGJXUifQ/c9cS8kHP/D+/DpwzojQEQIEmwoanVwxA4lgXt9HgE0BSSZ2AJuIbQAMJih9jjiNA5q4l5INuK0AwTKYKRj0zQNv5fmq8/DpAaCJseHrtQkB/+zpwzoxKQM3MzMzMeFJAZmZmZmZqWEAAAAAAAFxeQM3MzMzMJmJAmpmZmZkfZUBmZmZmZhhoQDMzMzMzEWtAAAAAAAAKbkBmZmZmZoFwQM3MzMzM/XFAMzMzMzN6c0CamZmZmfZ0QAAAAAAAc3ZAZmZmZmbvd0DNzMzMzGt5QDMzMzMz6HpAmpmZmZlkfEAAAAAAAOF9QGZmZmZmXX9AZmZmZuZsgECamZmZGSuBQM3MzMxM6YFAAAAAAICngkAzMzMzs2WDQGZmZmbmI4RAmpmZmRnihEDNzMzMTKCFQAAAAACAXoZAMzMzM7Mch0BmZmZm5tqHQJqZmZkZmYhAzczMzExXiUAAAAAAgBWKQDMzMzOz04pAZmZmZuaRi0CamZmZGVCMQM3MzMxMDo1AAAAAAIDMjUAzMzMzs4qOQGZmZmbmSI9A\",\"dtype\":\"float64\",\"shape\":[75]}}},\"id\":\"d80cd91a-6ab9-49d6-ad9a-ae7c4a17d030\",\"type\":\"ColumnDataSource\"},{\"attributes\":{\"bottom_units\":\"screen\",\"fill_alpha\":{\"value\":0.5},\"fill_color\":{\"value\":\"lightgrey\"},\"left_units\":\"screen\",\"level\":\"overlay\",\"line_alpha\":{\"value\":1.0},\"line_color\":{\"value\":\"black\"},\"line_dash\":[4,4],\"line_width\":{\"value\":2},\"plot\":null,\"render_mode\":\"css\",\"right_units\":\"screen\",\"top_units\":\"screen\"},\"id\":\"05c8e45d-1c96-4131-8ed5-30b1e184b322\",\"type\":\"BoxAnnotation\"},{\"attributes\":{\"fill_alpha\":{\"value\":0.1},\"fill_color\":{\"value\":\"#1f77b4\"},\"line_alpha\":{\"value\":0.1},\"line_color\":{\"value\":\"#1f77b4\"},\"x\":{\"field\":\"x\"},\"y\":{\"field\":\"y\"}},\"id\":\"1fe5124d-872a-4050-80d7-58b81057cb71\",\"type\":\"Circle\"},{\"attributes\":{\"fill_alpha\":{\"value\":0.7},\"fill_color\":{\"value\":\"#4daf4a\"},\"line_alpha\":{\"value\":0.7},\"line_color\":{\"value\":\"#4daf4a\"},\"x\":{\"field\":\"x\"},\"y\":{\"field\":\"y\"}},\"id\":\"416982a2-1a38-425b-bbdf-f4c211056c01\",\"type\":\"Circle\"},{\"attributes\":{\"line_alpha\":0.1,\"line_color\":\"#1f77b4\",\"line_width\":1.5,\"x\":{\"field\":\"x\"},\"y\":{\"field\":\"y\"}},\"id\":\"0facf7d8-a10c-49f4-bd0f-3b6287aeec0b\",\"type\":\"Line\"},{\"attributes\":{\"callback\":null,\"column_names\":[\"x\",\"y\"],\"data\":{\"x\":{\"__ndarray__\":\"jLlrCfkgFUCzWZoAaIkSQOYXFLzXdxFAdq6D3nY0EECStHY2P4kNQNRGdTqQZQpAVmcQepEkB0BXtDnObfIDQIbzuo/t9gBAvpBpyNON/D9W7xWCwbr3P+UZRSCoRPM/aqiL87v57T/Wu2hd3XDlP9H5OrpbY90/qErG9+az2D8qH0CO/yXYP2MssiEozNY/okJUZQgV1j/o/Zg50azWP7xiHflJ1tg/8pOLrXdq3T/oH/Hpub7hPw5dmmxN5OI/Ca80Wz8+4j/nguH5mFHhP+6y/Ez/KuA/wHa0mkMM3j+M9KJ2vwrcP1sZ4MSIK9o/BpBvKcY92D9e3wNL4BzWP4Zp502oVNQ/I/S3LV8R0z+ZSAYM1JrRP0eCHb3pr88/Qfn1Il5HzT8mkqZJQgXMPzUm5Wo72Mk/AZBN0RWVyD/SGRh5WRPTPw0LIEJ9B+c/LlOT4A1J8j8gUOxX8PH1P+XqbG2G4PU/+aOoM/dw8T9I4M0iLfjrP1+9oymvU+c//icDMDOG4z8eqFMe3QjgPy2M2wXWc9k/0xDZMNgH0z+V1p32rTnLPzvX/1JpuMI/ILP6vSm5uD8iBw4wP6yvP4zEE2CpRaQ/7qtoL3/emj96FB6cnmORP76O6R0vI4c/KEgrgGLSgD+J6QfcT5J6P85zFoZgBnc/LEL1e1ADdj/V9dDuMxZ4P/fnYSo2VH8/5AmMDqvshT8GroNnaFqLP1l6ean07Yo/tLVJO/F5hD+Hy/nEqzx6P+tSoCnUh3A/IiJPryjuZj+FeoeO7vZhP8hbz4xVtaY/\",\"dtype\":\"float64\",\"shape\":[75]},\"y\":{\"__ndarray__\":\"GhExyth1ND/Sv8nbtpRIP2vylNV0PVE/aTum7souWD/At0SJ8fVgPw3Iuahxymc/MSNhhJWvcD/bTfBN02d3P2zb5nxnaoA/CD5h5MAGhz8NmeH1TyaQP+zrCsc9p5Y/LbKd76fGnz/bLW5ISEmmPww9YvTcQq8/JV2OstnstT8Er5Y7M8G+P0c+r3jqkcU/5h99k6ZBzj88bCIzFzjVP4enV8oyxN0//yH99nXg5D8qOpLLf0jtP5kqGJXUifQ/c9cS8kHP/D+/DpwzojQEQIEmwoanVwxA4lgXt9HgE0BSSZ2AJuIbQAMJih9jjiNA5q4l5INuK0AwTKYKRj0zQNv5fmq8/DpAaCJseHrtQkB/+zpwzoxKQM3MzMzMeFJAZmZmZmZqWEAAAAAAAFxeQM3MzMzMJmJAmpmZmZkfZUBmZmZmZhhoQDMzMzMzEWtAAAAAAAAKbkBmZmZmZoFwQM3MzMzM/XFAMzMzMzN6c0CamZmZmfZ0QAAAAAAAc3ZAZmZmZmbvd0DNzMzMzGt5QDMzMzMz6HpAmpmZmZlkfEAAAAAAAOF9QGZmZmZmXX9AZmZmZuZsgECamZmZGSuBQM3MzMxM6YFAAAAAAICngkAzMzMzs2WDQGZmZmbmI4RAmpmZmRnihEDNzMzMTKCFQAAAAACAXoZAMzMzM7Mch0BmZmZm5tqHQJqZmZkZmYhAzczMzExXiUAAAAAAgBWKQDMzMzOz04pAZmZmZuaRi0CamZmZGVCMQM3MzMxMDo1AAAAAAIDMjUAzMzMzs4qOQGZmZmbmSI9A\",\"dtype\":\"float64\",\"shape\":[75]}}},\"id\":\"5c2f63b0-f414-47fe-a568-10c2c24687a9\",\"type\":\"ColumnDataSource\"},{\"attributes\":{\"callback\":null,\"column_names\":[\"x\",\"y\"],\"data\":{\"x\":{\"__ndarray__\":\"jLlrCfkgFUCzWZoAaIkSQOYXFLzXdxFAdq6D3nY0EECStHY2P4kNQNRGdTqQZQpAVmcQepEkB0BXtDnObfIDQIbzuo/t9gBAvpBpyNON/D9W7xWCwbr3P+UZRSCoRPM/aqiL87v57T/Wu2hd3XDlP9H5OrpbY90/qErG9+az2D8qH0CO/yXYP2MssiEozNY/okJUZQgV1j/o/Zg50azWP7xiHflJ1tg/8pOLrXdq3T/oH/Hpub7hPw5dmmxN5OI/Ca80Wz8+4j/nguH5mFHhP+6y/Ez/KuA/wHa0mkMM3j+M9KJ2vwrcP1sZ4MSIK9o/BpBvKcY92D9e3wNL4BzWP4Zp502oVNQ/I/S3LV8R0z+ZSAYM1JrRP0eCHb3pr88/Qfn1Il5HzT8mkqZJQgXMPzUm5Wo72Mk/AZBN0RWVyD/SGRh5WRPTPw0LIEJ9B+c/LlOT4A1J8j8gUOxX8PH1P+XqbG2G4PU/+aOoM/dw8T9I4M0iLfjrP1+9oymvU+c//icDMDOG4z8eqFMe3QjgPy2M2wXWc9k/0xDZMNgH0z+V1p32rTnLPzvX/1JpuMI/ILP6vSm5uD8iBw4wP6yvP4zEE2CpRaQ/7qtoL3/emj96FB6cnmORP76O6R0vI4c/KEgrgGLSgD+J6QfcT5J6P85zFoZgBnc/LEL1e1ADdj/V9dDuMxZ4P/fnYSo2VH8/5AmMDqvshT8GroNnaFqLP1l6ean07Yo/tLVJO/F5hD+Hy/nEqzx6P+tSoCnUh3A/IiJPryjuZj+FeoeO7vZhP8hbz4xVtaY/\",\"dtype\":\"float64\",\"shape\":[75]},\"y\":{\"__ndarray__\":\"GhExyth1ND/Sv8nbtpRIP2vylNV0PVE/aTum7souWD/At0SJ8fVgPw3Iuahxymc/MSNhhJWvcD/bTfBN02d3P2zb5nxnaoA/CD5h5MAGhz8NmeH1TyaQP+zrCsc9p5Y/LbKd76fGnz/bLW5ISEmmPww9YvTcQq8/JV2OstnstT8Er5Y7M8G+P0c+r3jqkcU/5h99k6ZBzj88bCIzFzjVP4enV8oyxN0//yH99nXg5D8qOpLLf0jtP5kqGJXUifQ/c9cS8kHP/D+/DpwzojQEQIEmwoanVwxA4lgXt9HgE0BSSZ2AJuIbQAMJih9jjiNA5q4l5INuK0AwTKYKRj0zQNv5fmq8/DpAaCJseHrtQkB/+zpwzoxKQM3MzMzMeFJAZmZmZmZqWEAAAAAAAFxeQM3MzMzMJmJAmpmZmZkfZUBmZmZmZhhoQDMzMzMzEWtAAAAAAAAKbkBmZmZmZoFwQM3MzMzM/XFAMzMzMzN6c0CamZmZmfZ0QAAAAAAAc3ZAZmZmZmbvd0DNzMzMzGt5QDMzMzMz6HpAmpmZmZlkfEAAAAAAAOF9QGZmZmZmXX9AZmZmZuZsgECamZmZGSuBQM3MzMxM6YFAAAAAAICngkAzMzMzs2WDQGZmZmbmI4RAmpmZmRnihEDNzMzMTKCFQAAAAACAXoZAMzMzM7Mch0BmZmZm5tqHQJqZmZkZmYhAzczMzExXiUAAAAAAgBWKQDMzMzOz04pAZmZmZuaRi0CamZmZGVCMQM3MzMxMDo1AAAAAAIDMjUAzMzMzs4qOQGZmZmbmSI9A\",\"dtype\":\"float64\",\"shape\":[75]}}},\"id\":\"8bc5554c-58e9-4c73-baf0-f4f7cb4d6341\",\"type\":\"ColumnDataSource\"},{\"attributes\":{\"data_source\":{\"id\":\"5c2f63b0-f414-47fe-a568-10c2c24687a9\",\"type\":\"ColumnDataSource\"},\"glyph\":{\"id\":\"416982a2-1a38-425b-bbdf-f4c211056c01\",\"type\":\"Circle\"},\"hover_glyph\":null,\"muted_glyph\":null,\"nonselection_glyph\":{\"id\":\"1fe5124d-872a-4050-80d7-58b81057cb71\",\"type\":\"Circle\"},\"selection_glyph\":null,\"view\":{\"id\":\"f308d2dd-0f14-4b5e-8a81-abc90019f1ab\",\"type\":\"CDSView\"}},\"id\":\"047fcac8-da4c-4e14-9df0-1a034a1c576b\",\"type\":\"GlyphRenderer\"},{\"attributes\":{\"source\":{\"id\":\"5c2f63b0-f414-47fe-a568-10c2c24687a9\",\"type\":\"ColumnDataSource\"}},\"id\":\"f308d2dd-0f14-4b5e-8a81-abc90019f1ab\",\"type\":\"CDSView\"},{\"attributes\":{\"line_color\":\"#4daf4a\",\"line_width\":1.5,\"x\":{\"field\":\"x\"},\"y\":{\"field\":\"y\"}},\"id\":\"527b0684-d5e1-4e58-98df-9be7a5e58ce5\",\"type\":\"Line\"},{\"attributes\":{\"callback\":null,\"end\":1.88105043662313,\"start\":0.15228858438986997},\"id\":\"fcc8db5d-31d3-4903-aa24-39836475aeca\",\"type\":\"Range1d\"},{\"attributes\":{\"line_color\":\"#4daf4a\",\"line_width\":1.5,\"x\":{\"field\":\"x\"},\"y\":{\"field\":\"y\"}},\"id\":\"56024d6b-a3e3-44a0-b018-90fc82490854\",\"type\":\"Line\"},{\"attributes\":{\"num_minor_ticks\":10},\"id\":\"337fd209-1436-48c2-b297-b5cd806477c3\",\"type\":\"LogTicker\"},{\"attributes\":{\"data_source\":{\"id\":\"8bc5554c-58e9-4c73-baf0-f4f7cb4d6341\",\"type\":\"ColumnDataSource\"},\"glyph\":{\"id\":\"527b0684-d5e1-4e58-98df-9be7a5e58ce5\",\"type\":\"Line\"},\"hover_glyph\":null,\"muted_glyph\":null,\"nonselection_glyph\":{\"id\":\"97138978-25a6-49c1-89a3-bf197a5b6dfa\",\"type\":\"Line\"},\"selection_glyph\":null,\"view\":{\"id\":\"95199bc8-7b25-460c-82f1-d9092cacebb6\",\"type\":\"CDSView\"}},\"id\":\"c9aff36f-1ed7-4284-b035-348f14e2961f\",\"type\":\"GlyphRenderer\"},{\"attributes\":{\"line_alpha\":0.1,\"line_color\":\"#1f77b4\",\"line_width\":1.5,\"x\":{\"field\":\"x\"},\"y\":{\"field\":\"y\"}},\"id\":\"97138978-25a6-49c1-89a3-bf197a5b6dfa\",\"type\":\"Line\"},{\"attributes\":{\"source\":{\"id\":\"8bc5554c-58e9-4c73-baf0-f4f7cb4d6341\",\"type\":\"ColumnDataSource\"}},\"id\":\"95199bc8-7b25-460c-82f1-d9092cacebb6\",\"type\":\"CDSView\"},{\"attributes\":{\"fill_alpha\":{\"value\":0.7},\"fill_color\":{\"value\":\"#984ea3\"},\"line_alpha\":{\"value\":0.7},\"line_color\":{\"value\":\"#984ea3\"},\"x\":{\"field\":\"x\"},\"y\":{\"field\":\"y\"}},\"id\":\"1bf0fbb8-f25c-4e78-aac3-8e8e65327e8d\",\"type\":\"Square\"},{\"attributes\":{\"below\":[{\"id\":\"9b110771-8196-452d-a300-67ab727f038b\",\"type\":\"LinearAxis\"}],\"left\":[{\"id\":\"cec28973-6cfc-4da0-9dae-8de2a3e58ba6\",\"type\":\"LinearAxis\"}],\"plot_height\":500,\"plot_width\":400,\"renderers\":[{\"id\":\"9b110771-8196-452d-a300-67ab727f038b\",\"type\":\"LinearAxis\"},{\"id\":\"f962f744-7b3f-45ba-83e1-599570cffa91\",\"type\":\"Grid\"},{\"id\":\"cec28973-6cfc-4da0-9dae-8de2a3e58ba6\",\"type\":\"LinearAxis\"},{\"id\":\"635d313a-a7f8-43a5-a902-c27ceb48e334\",\"type\":\"Grid\"},{\"id\":\"05c8e45d-1c96-4131-8ed5-30b1e184b322\",\"type\":\"BoxAnnotation\"},{\"id\":\"53a310f2-d093-4d47-a253-14a6bd5cd3ae\",\"type\":\"GlyphRenderer\"},{\"id\":\"8b39857b-31b0-4aa4-94de-0018e821fa6c\",\"type\":\"GlyphRenderer\"},{\"id\":\"f39d4b55-d8ef-48d6-ad92-2ad10b203971\",\"type\":\"GlyphRenderer\"},{\"id\":\"f2d05d7a-0b4d-4b1f-8870-c3b9d57865bb\",\"type\":\"GlyphRenderer\"},{\"id\":\"033bd942-032e-4beb-b1c8-dcd0feff0f4b\",\"type\":\"GlyphRenderer\"}],\"title\":{\"id\":\"c507d5f8-b0a2-452d-b282-9d2fdacf6246\",\"type\":\"Title\"},\"toolbar\":{\"id\":\"5d37d2bf-a296-4bd2-8d57-6bc93d37335b\",\"type\":\"Toolbar\"},\"toolbar_location\":null,\"x_range\":{\"id\":\"ef80a89c-a7a2-4093-a6fd-473fb3a72426\",\"type\":\"Range1d\"},\"x_scale\":{\"id\":\"81856fa0-c843-4569-87b8-ef5d199b29c2\",\"type\":\"LinearScale\"},\"y_range\":{\"id\":\"99b50872-2533-4836-85f8-f31977cf6307\",\"type\":\"Range1d\"},\"y_scale\":{\"id\":\"873c289d-46a4-4440-b166-66755b5e9222\",\"type\":\"LinearScale\"}},\"id\":\"1a43470b-b3fe-4a16-9b0b-37f9011c2e87\",\"subtype\":\"Figure\",\"type\":\"Plot\"},{\"attributes\":{\"line_alpha\":0.6,\"line_color\":\"#984ea3\",\"line_width\":3,\"x\":{\"field\":\"x\"},\"y\":{\"field\":\"y\"}},\"id\":\"e502db74-e4cc-4aec-bd52-b044e1686d20\",\"type\":\"Line\"},{\"attributes\":{\"source\":{\"id\":\"d80cd91a-6ab9-49d6-ad9a-ae7c4a17d030\",\"type\":\"ColumnDataSource\"}},\"id\":\"b57e4106-0d68-435c-930d-f3f1a9b833e3\",\"type\":\"CDSView\"},{\"attributes\":{\"fill_alpha\":{\"value\":0.1},\"fill_color\":{\"value\":\"#1f77b4\"},\"line_alpha\":{\"value\":0.1},\"line_color\":{\"value\":\"#1f77b4\"},\"x\":{\"field\":\"x\"},\"y\":{\"field\":\"y\"}},\"id\":\"47d9bb1c-e166-4341-836e-bc9e5a069d29\",\"type\":\"Square\"},{\"attributes\":{\"data_source\":{\"id\":\"d80cd91a-6ab9-49d6-ad9a-ae7c4a17d030\",\"type\":\"ColumnDataSource\"},\"glyph\":{\"id\":\"1bf0fbb8-f25c-4e78-aac3-8e8e65327e8d\",\"type\":\"Square\"},\"hover_glyph\":null,\"muted_glyph\":null,\"nonselection_glyph\":{\"id\":\"47d9bb1c-e166-4341-836e-bc9e5a069d29\",\"type\":\"Square\"},\"selection_glyph\":null,\"view\":{\"id\":\"b57e4106-0d68-435c-930d-f3f1a9b833e3\",\"type\":\"CDSView\"}},\"id\":\"d65fadb4-87e8-46d9-b26e-23b3f597a8b1\",\"type\":\"GlyphRenderer\"},{\"attributes\":{\"items\":[{\"id\":\"3cca0190-cd8c-46cc-bc50-35b8173b1a6c\",\"type\":\"LegendItem\"},{\"id\":\"c55723fe-f367-4814-a014-3f8c9e134954\",\"type\":\"LegendItem\"},{\"id\":\"9c4ed2ce-6273-4af9-9a88-dff1ba9c96b6\",\"type\":\"LegendItem\"}],\"label_text_font_size\":{\"value\":\"8pt\"},\"location\":[10,-30],\"plot\":{\"id\":\"4fa7b532-c8d4-4189-87c9-44ab805f7f1c\",\"subtype\":\"Figure\",\"type\":\"Plot\"}},\"id\":\"d6f38bcf-5371-4cce-a99f-2b8f47a5d9f6\",\"type\":\"Legend\"},{\"attributes\":{\"source\":{\"id\":\"abb1b554-ad81-4d18-ba03-51bea0736223\",\"type\":\"ColumnDataSource\"}},\"id\":\"e42d4164-e314-43a3-969a-5b13ed95d401\",\"type\":\"CDSView\"},{\"attributes\":{\"line_alpha\":0.1,\"line_color\":\"#1f77b4\",\"line_width\":3,\"x\":{\"field\":\"x\"},\"y\":{\"field\":\"y\"}},\"id\":\"c735f411-cb23-46ad-991e-ae2022ee63d4\",\"type\":\"Line\"},{\"attributes\":{\"data_source\":{\"id\":\"abb1b554-ad81-4d18-ba03-51bea0736223\",\"type\":\"ColumnDataSource\"},\"glyph\":{\"id\":\"e502db74-e4cc-4aec-bd52-b044e1686d20\",\"type\":\"Line\"},\"hover_glyph\":null,\"muted_glyph\":null,\"nonselection_glyph\":{\"id\":\"c735f411-cb23-46ad-991e-ae2022ee63d4\",\"type\":\"Line\"},\"selection_glyph\":null,\"view\":{\"id\":\"e42d4164-e314-43a3-969a-5b13ed95d401\",\"type\":\"CDSView\"}},\"id\":\"7ccb4a72-a98c-4bd4-966c-c3ad8a46e5d3\",\"type\":\"GlyphRenderer\"},{\"attributes\":{\"children\":[{\"id\":\"33315e31-9c25-47a7-800d-15b89bc4c16b\",\"type\":\"ToolbarBox\"},{\"id\":\"d8952c81-471a-49e7-96c4-eb092b1de2df\",\"type\":\"Column\"}]},\"id\":\"05395b49-8594-4c8c-91ce-55340e0b5b04\",\"type\":\"Column\"},{\"attributes\":{\"callback\":null,\"column_names\":[\"x\",\"y\"],\"data\":{\"x\":{\"__ndarray__\":\"/zT/+ccsBUBoaPKDqZwDQPkdHh2yPAJAxbzYxX6AA0B2wYXhyNgCQLr4254g8QJATXSnhdw2AkBEGapiKj0BQL2XsVcOw/8/FgeGYuEa/D+RqXEl8aj4PzJ9ZZQdEfQ/ct21AESs7j9PJ3bAt6HlP1MIBSEwAd4/69+a4ECt2D9NCCXlUZ7WP6gCakFaKdM/Qo//nxYF0T920i0BGfbRP9YU0F110dU/wNYAAFv52z+C3OreL4vhP11mXGGPI+M/QsOsYdDz4j8efUBeF9fhP9/x1MDicuA/0TaCfQkP3j90/Abcqe/aPyXT2359Hdk/A3aYo4WT1z9eclCAMEnVP29bQtu9ntM/mF84nYV50j/c6qSEgaPQPzj2Dcg1cM0/Q6TP3H1tyj/0kEK8IrbIPw7/wIfYgcY/98wOyJCpxT+n0f3/rHfRPxn7mv5PEuY/SJVyCGbW8T8z3lZ6bZb2P1tsSf2rHfY/kT3nEx5Z8T8bbY+9YjbtPw7+dsASG+g/kM5tgKFg4z/N2W3d7uHfP2sQpFpd8dk/J0HqPEtM0z8VEc1VVsfJPwAAAAAAAAAATB4Nrz0Wvz/oF6sh/zmxPwedJB7PtaI/qiGpOQSElj+OsGGzR5uPP/cmsWTB1oY/Oi12Pu4pgT+h2jwjjAV7PxacxuEIpXY/Xh8DnTxxdD8wxwveWXh0P3rZICOB/nY/4EN4IcXTfj8TbUhVc7aFPym8qDZoSos/sQ8igVXhij+DVTahyXSEP75r38ILOXo/N432Au+AcD9Gatp8Ff1mP4L2aWOMEqW/\",\"dtype\":\"float64\",\"shape\":[75]},\"y\":{\"__ndarray__\":\"MCRxoNFnQT9dcvo90IdNP+qWHeIftlQ/dNWXAFcNXT8NYIJ9MWBkP10nQT3OlGw/j4BJYrQLdD9jyv8cUR58P6d8Yj6UuIM/4k9uirCpiz98QnbexmaTPzw3+LjyNps/eYMeIE4Woz9zNWieEsaqP8rD9h4kx7I/FYYSdwZXuj8CvMP1QXnCPxYvFobI6ck/F35wPnUs0j/hCb3+JH7ZPwumL75H4eE/FK5H4XoU6T/Xo3A9CpfxPwaBlUOLrPg/ira+oyFOAUCgGi/dJEYIQBE2PL1SBhFAwE2QInzhF0B3TrNAu78gQPXb14FzfidA0ZFc/kN6MEAFo5I6AR03QHtLOV/sNUBAxAq3fCS9RkC8zob8M79PQCgmb4CZcVVAMzMzMzNjW0BmZmZmZqpgQLzoK0gzo2NAAAAAAACcZkBEF9S3zJRpQJqZmZmZjWxAZmZmZmaGb0AQ5KCEmT9xQAAAAAAAvHJA8Btfe2Y4dEAIclDCzLR1QPiNrz0zMXdAEOSghJmteEAAAAAAACp6QPAbX3tmpntACXJQwswifUD3ja89M59+QDeJQWDlSH9ACHJQwswNgEAAAAAAAMyAQPiNrz0zioFABTkoYWZIgkD7xteemQaDQAhyUMLMxINAAAAAAACDhED4ja89M0GFQAU5KGFm/4VA+8bXnpm9hkAIclDCzHuHQAAAAAAAOohA+I2vPTP4iEAFOShhZraJQPvG156ZdIpACXJQwswyi0AAAAAAAPGLQPeNrz0zr4xABTkoYWZtjUD7xteemSuOQHEDPj/M6Y5A\",\"dtype\":\"float64\",\"shape\":[75]}}},\"id\":\"a418f7b5-c530-45f2-b373-b5dfe6cb5edf\",\"type\":\"ColumnDataSource\"},{\"attributes\":{\"children\":[{\"id\":\"1a43470b-b3fe-4a16-9b0b-37f9011c2e87\",\"subtype\":\"Figure\",\"type\":\"Plot\"},{\"id\":\"4fa7b532-c8d4-4189-87c9-44ab805f7f1c\",\"subtype\":\"Figure\",\"type\":\"Plot\"}]},\"id\":\"f4da79ae-213a-465d-98a4-6e9569ed7160\",\"type\":\"Row\"},{\"attributes\":{\"tools\":[{\"id\":\"ed0f4df2-f33c-4fb8-954a-e5f8a0ed231e\",\"type\":\"PanTool\"},{\"id\":\"c9f5ddaa-02be-469c-97a6-8b607a5fb19f\",\"type\":\"WheelZoomTool\"},{\"id\":\"de56308c-fea1-4bc5-b89f-52a788a433f9\",\"type\":\"BoxZoomTool\"},{\"id\":\"1b371bbe-67c8-498a-bdfa-e92c369be91c\",\"type\":\"SaveTool\"},{\"id\":\"b0ac84ed-c580-453f-8082-37b9a83b0b40\",\"type\":\"ResetTool\"},{\"id\":\"202f3a85-d328-47db-a071-c64c1e7d1174\",\"type\":\"HelpTool\"},{\"id\":\"56f16bb9-c27c-4b7b-a583-b0f55c704b33\",\"type\":\"PanTool\"},{\"id\":\"edb89cb4-1b1e-4121-967c-620a38236c94\",\"type\":\"WheelZoomTool\"},{\"id\":\"6501b1ea-1a2c-4ba1-9da8-3276329720aa\",\"type\":\"BoxZoomTool\"},{\"id\":\"24d8f1ea-3bdb-4342-a075-eb1c81230348\",\"type\":\"SaveTool\"},{\"id\":\"fcfa1f5d-cf20-40a7-9be6-168db03b705c\",\"type\":\"ResetTool\"},{\"id\":\"aaac1048-c9ce-43d2-b0eb-33454914afc9\",\"type\":\"HelpTool\"}]},\"id\":\"15ef9557-1074-43ce-ba64-28e673468e50\",\"type\":\"ProxyToolbar\"}],\"root_ids\":[\"05395b49-8594-4c8c-91ce-55340e0b5b04\"]},\"title\":\"Bokeh Application\",\"version\":\"0.12.14\"}};\n",
       "  var render_items = [{\"docid\":\"7fe9adca-6322-4a18-93c6-611733e6f61e\",\"elementid\":\"c299785c-3d52-4e3a-bc09-59ce3b1d9a7f\",\"modelid\":\"05395b49-8594-4c8c-91ce-55340e0b5b04\"}];\n",
       "  root.Bokeh.embed.embed_items_notebook(docs_json, render_items);\n",
       "\n",
       "  }\n",
       "  if (root.Bokeh !== undefined) {\n",
       "    embed_document(root);\n",
       "  } else {\n",
       "    var attempts = 0;\n",
       "    var timer = setInterval(function(root) {\n",
       "      if (root.Bokeh !== undefined) {\n",
       "        embed_document(root);\n",
       "        clearInterval(timer);\n",
       "      }\n",
       "      attempts++;\n",
       "      if (attempts > 100) {\n",
       "        console.log(\"Bokeh: ERROR: Unable to run BokehJS code because BokehJS library is missing\")\n",
       "        clearInterval(timer);\n",
       "      }\n",
       "    }, 10, root)\n",
       "  }\n",
       "})(window);"
      ],
      "application/vnd.bokehjs_exec.v0+json": ""
     },
     "metadata": {
      "application/vnd.bokehjs_exec.v0+json": {
       "id": "05395b49-8594-4c8c-91ce-55340e0b5b04"
      }
     },
     "output_type": "display_data"
    },
    {
     "name": "stdout",
     "output_type": "stream",
     "text": [
      "FIGURE. Cooling rate profiles.\n"
     ]
    },
    {
     "data": {
      "text/html": [
       "<a id=\"Flux_Comparison\"></a>"
      ],
      "text/plain": [
       "<IPython.core.display.HTML object>"
      ]
     },
     "metadata": {},
     "output_type": "display_data"
    },
    {
     "data": {
      "text/markdown": [
       "# Flux Comparison"
      ],
      "text/plain": [
       "<IPython.core.display.Markdown object>"
      ]
     },
     "metadata": {},
     "output_type": "display_data"
    },
    {
     "data": {
      "text/html": [
       "<div>\n",
       "<style>\n",
       "    .dataframe thead tr:only-child th {\n",
       "        text-align: right;\n",
       "    }\n",
       "\n",
       "    .dataframe thead th {\n",
       "        text-align: left;\n",
       "    }\n",
       "\n",
       "    .dataframe tbody tr th {\n",
       "        vertical-align: top;\n",
       "    }\n",
       "</style>\n",
       "<table border=\"1\" class=\"dataframe\">\n",
       "  <thead>\n",
       "    <tr style=\"text-align: right;\">\n",
       "      <th></th>\n",
       "      <th></th>\n",
       "      <th>flug</th>\n",
       "      <th>fldg</th>\n",
       "      <th>fnetg</th>\n",
       "    </tr>\n",
       "    <tr>\n",
       "      <th>pressure</th>\n",
       "      <th>level</th>\n",
       "      <th></th>\n",
       "      <th></th>\n",
       "      <th></th>\n",
       "    </tr>\n",
       "  </thead>\n",
       "  <tbody>\n",
       "    <tr>\n",
       "      <th>0.0000</th>\n",
       "      <th>1</th>\n",
       "      <td>-33.982683</td>\n",
       "      <td>0.000000</td>\n",
       "      <td>-33.982683</td>\n",
       "    </tr>\n",
       "    <tr>\n",
       "      <th>1.0685</th>\n",
       "      <th>24</th>\n",
       "      <td>-33.989397</td>\n",
       "      <td>0.068717</td>\n",
       "      <td>-33.920679</td>\n",
       "    </tr>\n",
       "    <tr>\n",
       "      <th>1013.0000</th>\n",
       "      <th>76</th>\n",
       "      <td>-51.073429</td>\n",
       "      <td>50.951359</td>\n",
       "      <td>-0.122070</td>\n",
       "    </tr>\n",
       "  </tbody>\n",
       "</table>\n",
       "</div>"
      ],
      "text/plain": [
       "                      flug       fldg      fnetg\n",
       "pressure  level                                 \n",
       "0.0000    1     -33.982683   0.000000 -33.982683\n",
       "1.0685    24    -33.989397   0.068717 -33.920679\n",
       "1013.0000 76    -51.073429  50.951359  -0.122070"
      ]
     },
     "metadata": {},
     "output_type": "display_data"
    },
    {
     "name": "stdout",
     "output_type": "stream",
     "text": [
      "Table. Fluxes. WGT igg=10 wgt_flux=1\n"
     ]
    },
    {
     "data": {
      "text/html": [
       "<div>\n",
       "<style>\n",
       "    .dataframe thead tr:only-child th {\n",
       "        text-align: right;\n",
       "    }\n",
       "\n",
       "    .dataframe thead th {\n",
       "        text-align: left;\n",
       "    }\n",
       "\n",
       "    .dataframe tbody tr th {\n",
       "        vertical-align: top;\n",
       "    }\n",
       "</style>\n",
       "<table border=\"1\" class=\"dataframe\">\n",
       "  <thead>\n",
       "    <tr style=\"text-align: right;\">\n",
       "      <th></th>\n",
       "      <th></th>\n",
       "      <th>flug</th>\n",
       "      <th>fldg</th>\n",
       "      <th>fnetg</th>\n",
       "    </tr>\n",
       "    <tr>\n",
       "      <th>pressure</th>\n",
       "      <th>level</th>\n",
       "      <th></th>\n",
       "      <th></th>\n",
       "      <th></th>\n",
       "    </tr>\n",
       "  </thead>\n",
       "  <tbody>\n",
       "    <tr>\n",
       "      <th>0.0000</th>\n",
       "      <th>1</th>\n",
       "      <td>-34.263080</td>\n",
       "      <td>0.000000</td>\n",
       "      <td>-34.263080</td>\n",
       "    </tr>\n",
       "    <tr>\n",
       "      <th>1.0685</th>\n",
       "      <th>24</th>\n",
       "      <td>-34.270501</td>\n",
       "      <td>0.069596</td>\n",
       "      <td>-34.200906</td>\n",
       "    </tr>\n",
       "    <tr>\n",
       "      <th>1013.0000</th>\n",
       "      <th>76</th>\n",
       "      <td>-51.073429</td>\n",
       "      <td>50.951359</td>\n",
       "      <td>-0.122070</td>\n",
       "    </tr>\n",
       "  </tbody>\n",
       "</table>\n",
       "</div>"
      ],
      "text/plain": [
       "                      flug       fldg      fnetg\n",
       "pressure  level                                 \n",
       "0.0000    1     -34.263080   0.000000 -34.263080\n",
       "1.0685    24    -34.270501   0.069596 -34.200906\n",
       "1013.0000 76    -51.073429  50.951359  -0.122070"
      ]
     },
     "metadata": {},
     "output_type": "display_data"
    },
    {
     "name": "stdout",
     "output_type": "stream",
     "text": [
      "Table. Fluxes. CRD\n"
     ]
    },
    {
     "data": {
      "text/html": [
       "<div>\n",
       "<style>\n",
       "    .dataframe thead tr:only-child th {\n",
       "        text-align: right;\n",
       "    }\n",
       "\n",
       "    .dataframe thead th {\n",
       "        text-align: left;\n",
       "    }\n",
       "\n",
       "    .dataframe tbody tr th {\n",
       "        vertical-align: top;\n",
       "    }\n",
       "</style>\n",
       "<table border=\"1\" class=\"dataframe\">\n",
       "  <thead>\n",
       "    <tr style=\"text-align: right;\">\n",
       "      <th></th>\n",
       "      <th></th>\n",
       "      <th>flug</th>\n",
       "      <th>fldg</th>\n",
       "      <th>fnetg</th>\n",
       "    </tr>\n",
       "    <tr>\n",
       "      <th>pressure</th>\n",
       "      <th>level</th>\n",
       "      <th></th>\n",
       "      <th></th>\n",
       "      <th></th>\n",
       "    </tr>\n",
       "  </thead>\n",
       "  <tbody>\n",
       "    <tr>\n",
       "      <th>0.0000</th>\n",
       "      <th>76</th>\n",
       "      <td>-51.073433</td>\n",
       "      <td>50.704372</td>\n",
       "      <td>-0.369061</td>\n",
       "    </tr>\n",
       "    <tr>\n",
       "      <th>0.9151</th>\n",
       "      <th>23</th>\n",
       "      <td>-34.054283</td>\n",
       "      <td>0.054598</td>\n",
       "      <td>-33.999687</td>\n",
       "    </tr>\n",
       "    <tr>\n",
       "      <th>1001.1120</th>\n",
       "      <th>75</th>\n",
       "      <td>-51.073433</td>\n",
       "      <td>50.704372</td>\n",
       "      <td>-0.369061</td>\n",
       "    </tr>\n",
       "  </tbody>\n",
       "</table>\n",
       "</div>"
      ],
      "text/plain": [
       "                      flug       fldg      fnetg\n",
       "pressure  level                                 \n",
       "0.0000    76    -51.073433  50.704372  -0.369061\n",
       "0.9151    23    -34.054283   0.054598 -33.999687\n",
       "1001.1120 75    -51.073433  50.704372  -0.369061"
      ]
     },
     "metadata": {},
     "output_type": "display_data"
    },
    {
     "name": "stdout",
     "output_type": "stream",
     "text": [
      "Table. Fluxes. CLIRAD\n"
     ]
    },
    {
     "data": {
      "text/html": [
       "<div>\n",
       "<style>\n",
       "    .dataframe thead tr:only-child th {\n",
       "        text-align: right;\n",
       "    }\n",
       "\n",
       "    .dataframe thead th {\n",
       "        text-align: left;\n",
       "    }\n",
       "\n",
       "    .dataframe tbody tr th {\n",
       "        vertical-align: top;\n",
       "    }\n",
       "</style>\n",
       "<table border=\"1\" class=\"dataframe\">\n",
       "  <thead>\n",
       "    <tr style=\"text-align: right;\">\n",
       "      <th></th>\n",
       "      <th></th>\n",
       "      <th>flug</th>\n",
       "      <th>fldg</th>\n",
       "      <th>fnetg</th>\n",
       "    </tr>\n",
       "    <tr>\n",
       "      <th>pressure</th>\n",
       "      <th>level</th>\n",
       "      <th></th>\n",
       "      <th></th>\n",
       "      <th></th>\n",
       "    </tr>\n",
       "  </thead>\n",
       "  <tbody>\n",
       "    <tr>\n",
       "      <th>0.0000</th>\n",
       "      <th>1</th>\n",
       "      <td>-2.803968e-01</td>\n",
       "      <td>0.000000e+00</td>\n",
       "      <td>-2.803968e-01</td>\n",
       "    </tr>\n",
       "    <tr>\n",
       "      <th>1.0685</th>\n",
       "      <th>24</th>\n",
       "      <td>-2.811044e-01</td>\n",
       "      <td>8.780896e-04</td>\n",
       "      <td>-2.802268e-01</td>\n",
       "    </tr>\n",
       "    <tr>\n",
       "      <th>1013.0000</th>\n",
       "      <th>76</th>\n",
       "      <td>-4.758000e-07</td>\n",
       "      <td>3.636000e-07</td>\n",
       "      <td>-6.110270e-07</td>\n",
       "    </tr>\n",
       "  </tbody>\n",
       "</table>\n",
       "</div>"
      ],
      "text/plain": [
       "                         flug          fldg         fnetg\n",
       "pressure  level                                          \n",
       "0.0000    1     -2.803968e-01  0.000000e+00 -2.803968e-01\n",
       "1.0685    24    -2.811044e-01  8.780896e-04 -2.802268e-01\n",
       "1013.0000 76    -4.758000e-07  3.636000e-07 -6.110270e-07"
      ]
     },
     "metadata": {},
     "output_type": "display_data"
    },
    {
     "name": "stdout",
     "output_type": "stream",
     "text": [
      "Table. Fluxes. (CRD) - (WGT igg=10 wgt_flux=1)\n"
     ]
    },
    {
     "data": {
      "text/html": [
       "<div>\n",
       "<style>\n",
       "    .dataframe thead tr:only-child th {\n",
       "        text-align: right;\n",
       "    }\n",
       "\n",
       "    .dataframe thead th {\n",
       "        text-align: left;\n",
       "    }\n",
       "\n",
       "    .dataframe tbody tr th {\n",
       "        vertical-align: top;\n",
       "    }\n",
       "</style>\n",
       "<table border=\"1\" class=\"dataframe\">\n",
       "  <thead>\n",
       "    <tr style=\"text-align: right;\">\n",
       "      <th></th>\n",
       "      <th></th>\n",
       "      <th>flug</th>\n",
       "      <th>fldg</th>\n",
       "      <th>fnetg</th>\n",
       "    </tr>\n",
       "    <tr>\n",
       "      <th>pressure</th>\n",
       "      <th>level</th>\n",
       "      <th></th>\n",
       "      <th></th>\n",
       "      <th></th>\n",
       "    </tr>\n",
       "  </thead>\n",
       "  <tbody>\n",
       "    <tr>\n",
       "      <th>0.0000</th>\n",
       "      <th>1</th>\n",
       "      <td>-17.090750</td>\n",
       "      <td>50.704372</td>\n",
       "      <td>33.613623</td>\n",
       "    </tr>\n",
       "    <tr>\n",
       "      <th>1.0685</th>\n",
       "      <th>24</th>\n",
       "      <td>-0.064886</td>\n",
       "      <td>-0.014120</td>\n",
       "      <td>-0.079008</td>\n",
       "    </tr>\n",
       "    <tr>\n",
       "      <th>1013.0000</th>\n",
       "      <th>76</th>\n",
       "      <td>-0.000004</td>\n",
       "      <td>-0.246987</td>\n",
       "      <td>-0.246991</td>\n",
       "    </tr>\n",
       "  </tbody>\n",
       "</table>\n",
       "</div>"
      ],
      "text/plain": [
       "                      flug       fldg      fnetg\n",
       "pressure  level                                 \n",
       "0.0000    1     -17.090750  50.704372  33.613623\n",
       "1.0685    24     -0.064886  -0.014120  -0.079008\n",
       "1013.0000 76     -0.000004  -0.246987  -0.246991"
      ]
     },
     "metadata": {},
     "output_type": "display_data"
    },
    {
     "name": "stdout",
     "output_type": "stream",
     "text": [
      "Table. Fluxes. (CLIRAD) - (WGT igg=10 wgt_flux=1)\n"
     ]
    },
    {
     "data": {
      "text/html": [
       "<a id=\"Best-fit_Parameters\"></a>"
      ],
      "text/plain": [
       "<IPython.core.display.HTML object>"
      ]
     },
     "metadata": {},
     "output_type": "display_data"
    },
    {
     "data": {
      "text/markdown": [
       "# Best-fit Parameters"
      ],
      "text/plain": [
       "<IPython.core.display.Markdown object>"
      ]
     },
     "metadata": {},
     "output_type": "display_data"
    },
    {
     "name": "stdout",
     "output_type": "stream",
     "text": [
      "Best-fit values for each (gas, band)\n",
      "------------------------------------\n",
      "o h2o band1\n",
      "  atmpro = mls\n",
      "  band = 1\n",
      "  commitnumber = 5014a19\n",
      "  conc = None\n",
      "  dv = 0.001\n",
      "  klin = 0\n",
      "  molecule = h2o\n",
      "  ng_adju = [0, 0, 0]\n",
      "  ng_refs = [3, 3, 6]\n",
      "  nv = 1000\n",
      "  option_compute_btable = 0\n",
      "  option_compute_ktable = 1\n",
      "  option_wgt_flux = 1\n",
      "  option_wgt_k = 1\n",
      "  ref_pts = [(1, 250), (30, 250), (300, 250)]\n",
      "  tsfc = 294\n",
      "  vmax = 340\n",
      "  vmin = 20\n",
      "  w_diffuse = [(1.66, 1.66, 1.66), (1.66, 1.66, 1.66), (1.66, 1.66, 1.5, 1.5, 1.5, 1.5)]\n",
      "  wgt = [(0.2, 0.2, 0.2), (0.2, 0.2, 0.2), (0.2, 0.2, 0.65, 0.65, 0.65, 0.65)]\n"
     ]
    }
   ],
   "source": [
    "script()"
   ]
  },
  {
   "cell_type": "code",
   "execution_count": 13,
   "metadata": {
    "collapsed": true
   },
   "outputs": [
    {
     "data": {
      "text/html": [
       "<script>\n",
       "code_show=true; \n",
       "function code_toggle() {\n",
       " if (code_show){\n",
       " $('div.input').hide();\n",
       " } else {\n",
       " $('div.input').show();\n",
       " }\n",
       " code_show = !code_show\n",
       "} \n",
       "$( document ).ready(code_toggle);\n",
       "</script>\n",
       "<form action=\"javascript:code_toggle()\"><input type=\"submit\" value=\"Click here to toggle on/off the raw code.\"></form>"
      ],
      "text/plain": [
       "<IPython.core.display.HTML object>"
      ]
     },
     "execution_count": 13,
     "metadata": {},
     "output_type": "execute_result"
    }
   ],
   "source": [
    "display.HTML('''<script>\n",
    "code_show=true; \n",
    "function code_toggle() {\n",
    " if (code_show){\n",
    " $('div.input').hide();\n",
    " } else {\n",
    " $('div.input').show();\n",
    " }\n",
    " code_show = !code_show\n",
    "} \n",
    "$( document ).ready(code_toggle);\n",
    "</script>\n",
    "<form action=\"javascript:code_toggle()\"><input type=\"submit\" value=\"Click here to toggle on/off the raw code.\"></form>''')"
   ]
  }
 ],
 "metadata": {
  "kernelspec": {
   "display_name": "Python 3",
   "language": "python",
   "name": "python3"
  },
  "language_info": {
   "codemirror_mode": {
    "name": "ipython",
    "version": 3
   },
   "file_extension": ".py",
   "mimetype": "text/x-python",
   "name": "python",
   "nbconvert_exporter": "python",
   "pygments_lexer": "ipython3",
   "version": "3.6.1"
  }
 },
 "nbformat": 4,
 "nbformat_minor": 2
}
