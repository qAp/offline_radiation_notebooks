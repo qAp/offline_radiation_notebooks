{
 "cells": [
  {
   "cell_type": "code",
   "execution_count": 1,
   "metadata": {
    "collapsed": true
   },
   "outputs": [],
   "source": [
    "%matplotlib inline\n",
    "import os\n",
    "import re\n",
    "import io\n",
    "import itertools\n",
    "import pprint\n",
    "\n",
    "from bokeh.io import output_notebook, show\n",
    "from bokeh.layouts import gridplot\n",
    "from bokeh.plotting import figure\n",
    "from bokeh.models import Range1d, Legend\n",
    "from bokeh.palettes import all_palettes\n",
    "\n",
    "import matplotlib\n",
    "import matplotlib.pyplot as plt\n",
    "import numpy as np\n",
    "import pandas as pd\n",
    "import xarray as xr\n",
    "\n",
    "import climatools.lblnew.bestfit_params as bestfits\n",
    "from climatools.lblnew import setup_bestfit, setup_overlap\n",
    "import climatools.lblnew.pipeline as pipe_lblnew\n",
    "import climatools.cliradlw.setup as setup_cliradlw\n",
    "import climatools.cliradlw.pipeline as pipe_cliradlw\n",
    "\n",
    "import climatools.html.html as climahtml\n",
    "from climatools.lblnew.dataio import *\n",
    "from climatools.plot.plot import *\n",
    "\n",
    "\n",
    "import IPython.display as display"
   ]
  },
  {
   "cell_type": "code",
   "execution_count": 2,
   "metadata": {
    "collapsed": true
   },
   "outputs": [],
   "source": [
    "%run param.py"
   ]
  },
  {
   "cell_type": "code",
   "execution_count": 3,
   "metadata": {
    "collapsed": true
   },
   "outputs": [],
   "source": [
    "def load_output_file(path_csv):\n",
    "    '''\n",
    "    Load lblnew output .csv file to xarray.Dataset\n",
    "    \n",
    "    Parameters\n",
    "    ----------\n",
    "    path_csv: str\n",
    "              Path to the .csv file to be loaded.\n",
    "    ds: xarray.Dataset\n",
    "        Data in the input file in the form of an xarray.Dataset.\n",
    "    '''\n",
    "    toindex = ['band', 'pressure', 'igg', 'g']    \n",
    "    df = pd.read_csv(path_csv, sep=r'\\s+')\n",
    "    df = df.set_index([i for i in toindex if i in df.columns])\n",
    "    df = df.rename(columns={'sfu': 'flug',\n",
    "                            'sfd': 'fldg',\n",
    "                            'fnet': 'fnetg',\n",
    "                            'coolr': 'coolrg'})\n",
    "    ds = xr.Dataset.from_dataframe(df)\n",
    "\n",
    "    for l in ('level', 'layer'):\n",
    "        if l in ds.data_vars:\n",
    "            if len(ds[l].dims) > 1:\n",
    "                surface = {d: 0 for d in ds.dims if d != 'pressure'}\n",
    "                coord_level = ds[l][surface]\n",
    "                ds.coords[l] = ('pressure', coord_level)\n",
    "            else:\n",
    "                ds.coords[l] = ('pressure', ds[l])\n",
    "    \n",
    "    return ds"
   ]
  },
  {
   "cell_type": "code",
   "execution_count": 4,
   "metadata": {
    "collapsed": true
   },
   "outputs": [],
   "source": [
    "def lblnew_setup(param=None):\n",
    "    if 'ng_refs' in param:\n",
    "        return {'setup': setup_bestfit,\n",
    "                'fname_flux_crd': 'output_flux.dat',\n",
    "                'fname_cool_crd': 'output_coolr.dat',\n",
    "                'fname_flux_wgt': 'output_wfluxg.dat',\n",
    "                'fname_cool_wgt': 'output_wcoolrg.dat'}\n",
    "    else:\n",
    "        return {'setup': setup_overlap,\n",
    "                'fname_flux_crd': 'output_flux.dat',\n",
    "                'fname_cool_crd': 'output_coolr.dat',\n",
    "                'fname_flux_wgt': 'output_wflux.dat',\n",
    "                'fname_cool_wgt': 'output_wcoolr.dat'}\n",
    "\n",
    "    \n",
    "def load_lblnew_data(param):\n",
    "    \n",
    "    fname_dsname = [('fname_flux_crd', 'ds_flux_crd'),\n",
    "                    ('fname_cool_crd', 'ds_cool_crd'),\n",
    "                    ('fname_flux_wgt', 'ds_flux_wgt'),\n",
    "                    ('fname_cool_wgt', 'ds_cool_wgt')]\n",
    "    \n",
    "    d = lblnew_setup(param)\n",
    "    dir_fortran = pipe_lblnew.get_dir_case(param, setup=d['setup'])\n",
    "    \n",
    "    data_dict = {}\n",
    "    for fname, dsname in fname_dsname:\n",
    "        fpath = os.path.join(dir_fortran, d[fname])\n",
    "        data_dict[dsname] = load_output_file(fpath)\n",
    "    return data_dict\n",
    "    \n",
    "\n",
    "    \n",
    "    "
   ]
  },
  {
   "cell_type": "code",
   "execution_count": 5,
   "metadata": {
    "collapsed": true
   },
   "outputs": [],
   "source": [
    "d = load_lblnew_data(PARAM_LBLNEW)\n",
    "\n",
    "DS_FLUX_CRD = d['ds_flux_crd']\n",
    "DS_COOL_CRD = d['ds_cool_crd']\n",
    "DS_FLUX_WGT = d['ds_flux_wgt']\n",
    "DS_COOL_WGT = d['ds_cool_wgt']"
   ]
  },
  {
   "cell_type": "code",
   "execution_count": 6,
   "metadata": {
    "collapsed": true
   },
   "outputs": [],
   "source": [
    "DIR_FORTRAN = pipe_cliradlw.get_fortran_dir(PARAM, \n",
    "                                            setup=setup_cliradlw)\n",
    "\n",
    "PATH_FLUX = os.path.join(DIR_FORTRAN, 'output_flux.dat')\n",
    "PATH_COOL = os.path.join(DIR_FORTRAN, 'output_coolr.dat')\n",
    "\n",
    "DS_FLUX = load_output_file(PATH_FLUX)\n",
    "DS_COOL = load_output_file(PATH_COOL)"
   ]
  },
  {
   "cell_type": "code",
   "execution_count": 7,
   "metadata": {
    "collapsed": true
   },
   "outputs": [
    {
     "data": {
      "text/html": [
       "\n",
       "    <div class=\"bk-root\">\n",
       "        <a href=\"https://bokeh.pydata.org\" target=\"_blank\" class=\"bk-logo bk-logo-small bk-logo-notebook\"></a>\n",
       "        <span id=\"58e573de-86ec-4bda-8547-999020b702e4\">Loading BokehJS ...</span>\n",
       "    </div>"
      ]
     },
     "metadata": {},
     "output_type": "display_data"
    },
    {
     "data": {
      "application/javascript": [
       "\n",
       "(function(root) {\n",
       "  function now() {\n",
       "    return new Date();\n",
       "  }\n",
       "\n",
       "  var force = true;\n",
       "\n",
       "  if (typeof (root._bokeh_onload_callbacks) === \"undefined\" || force === true) {\n",
       "    root._bokeh_onload_callbacks = [];\n",
       "    root._bokeh_is_loading = undefined;\n",
       "  }\n",
       "\n",
       "  var JS_MIME_TYPE = 'application/javascript';\n",
       "  var HTML_MIME_TYPE = 'text/html';\n",
       "  var EXEC_MIME_TYPE = 'application/vnd.bokehjs_exec.v0+json';\n",
       "  var CLASS_NAME = 'output_bokeh rendered_html';\n",
       "\n",
       "  /**\n",
       "   * Render data to the DOM node\n",
       "   */\n",
       "  function render(props, node) {\n",
       "    var script = document.createElement(\"script\");\n",
       "    node.appendChild(script);\n",
       "  }\n",
       "\n",
       "  /**\n",
       "   * Handle when an output is cleared or removed\n",
       "   */\n",
       "  function handleClearOutput(event, handle) {\n",
       "    var cell = handle.cell;\n",
       "\n",
       "    var id = cell.output_area._bokeh_element_id;\n",
       "    var server_id = cell.output_area._bokeh_server_id;\n",
       "    // Clean up Bokeh references\n",
       "    if (id !== undefined) {\n",
       "      Bokeh.index[id].model.document.clear();\n",
       "      delete Bokeh.index[id];\n",
       "    }\n",
       "\n",
       "    if (server_id !== undefined) {\n",
       "      // Clean up Bokeh references\n",
       "      var cmd = \"from bokeh.io.state import curstate; print(curstate().uuid_to_server['\" + server_id + \"'].get_sessions()[0].document.roots[0]._id)\";\n",
       "      cell.notebook.kernel.execute(cmd, {\n",
       "        iopub: {\n",
       "          output: function(msg) {\n",
       "            var element_id = msg.content.text.trim();\n",
       "            Bokeh.index[element_id].model.document.clear();\n",
       "            delete Bokeh.index[element_id];\n",
       "          }\n",
       "        }\n",
       "      });\n",
       "      // Destroy server and session\n",
       "      var cmd = \"import bokeh.io.notebook as ion; ion.destroy_server('\" + server_id + \"')\";\n",
       "      cell.notebook.kernel.execute(cmd);\n",
       "    }\n",
       "  }\n",
       "\n",
       "  /**\n",
       "   * Handle when a new output is added\n",
       "   */\n",
       "  function handleAddOutput(event, handle) {\n",
       "    var output_area = handle.output_area;\n",
       "    var output = handle.output;\n",
       "\n",
       "    // limit handleAddOutput to display_data with EXEC_MIME_TYPE content only\n",
       "    if ((output.output_type != \"display_data\") || (!output.data.hasOwnProperty(EXEC_MIME_TYPE))) {\n",
       "      return\n",
       "    }\n",
       "\n",
       "    var toinsert = output_area.element.find(\".\" + CLASS_NAME.split(' ')[0]);\n",
       "\n",
       "    if (output.metadata[EXEC_MIME_TYPE][\"id\"] !== undefined) {\n",
       "      toinsert[0].firstChild.textContent = output.data[JS_MIME_TYPE];\n",
       "      // store reference to embed id on output_area\n",
       "      output_area._bokeh_element_id = output.metadata[EXEC_MIME_TYPE][\"id\"];\n",
       "    }\n",
       "    if (output.metadata[EXEC_MIME_TYPE][\"server_id\"] !== undefined) {\n",
       "      var bk_div = document.createElement(\"div\");\n",
       "      bk_div.innerHTML = output.data[HTML_MIME_TYPE];\n",
       "      var script_attrs = bk_div.children[0].attributes;\n",
       "      for (var i = 0; i < script_attrs.length; i++) {\n",
       "        toinsert[0].firstChild.setAttribute(script_attrs[i].name, script_attrs[i].value);\n",
       "      }\n",
       "      // store reference to server id on output_area\n",
       "      output_area._bokeh_server_id = output.metadata[EXEC_MIME_TYPE][\"server_id\"];\n",
       "    }\n",
       "  }\n",
       "\n",
       "  function register_renderer(events, OutputArea) {\n",
       "\n",
       "    function append_mime(data, metadata, element) {\n",
       "      // create a DOM node to render to\n",
       "      var toinsert = this.create_output_subarea(\n",
       "        metadata,\n",
       "        CLASS_NAME,\n",
       "        EXEC_MIME_TYPE\n",
       "      );\n",
       "      this.keyboard_manager.register_events(toinsert);\n",
       "      // Render to node\n",
       "      var props = {data: data, metadata: metadata[EXEC_MIME_TYPE]};\n",
       "      render(props, toinsert[0]);\n",
       "      element.append(toinsert);\n",
       "      return toinsert\n",
       "    }\n",
       "\n",
       "    /* Handle when an output is cleared or removed */\n",
       "    events.on('clear_output.CodeCell', handleClearOutput);\n",
       "    events.on('delete.Cell', handleClearOutput);\n",
       "\n",
       "    /* Handle when a new output is added */\n",
       "    events.on('output_added.OutputArea', handleAddOutput);\n",
       "\n",
       "    /**\n",
       "     * Register the mime type and append_mime function with output_area\n",
       "     */\n",
       "    OutputArea.prototype.register_mime_type(EXEC_MIME_TYPE, append_mime, {\n",
       "      /* Is output safe? */\n",
       "      safe: true,\n",
       "      /* Index of renderer in `output_area.display_order` */\n",
       "      index: 0\n",
       "    });\n",
       "  }\n",
       "\n",
       "  // register the mime type if in Jupyter Notebook environment and previously unregistered\n",
       "  if (root.Jupyter !== undefined) {\n",
       "    var events = require('base/js/events');\n",
       "    var OutputArea = require('notebook/js/outputarea').OutputArea;\n",
       "\n",
       "    if (OutputArea.prototype.mime_types().indexOf(EXEC_MIME_TYPE) == -1) {\n",
       "      register_renderer(events, OutputArea);\n",
       "    }\n",
       "  }\n",
       "\n",
       "  \n",
       "  if (typeof (root._bokeh_timeout) === \"undefined\" || force === true) {\n",
       "    root._bokeh_timeout = Date.now() + 5000;\n",
       "    root._bokeh_failed_load = false;\n",
       "  }\n",
       "\n",
       "  var NB_LOAD_WARNING = {'data': {'text/html':\n",
       "     \"<div style='background-color: #fdd'>\\n\"+\n",
       "     \"<p>\\n\"+\n",
       "     \"BokehJS does not appear to have successfully loaded. If loading BokehJS from CDN, this \\n\"+\n",
       "     \"may be due to a slow or bad network connection. Possible fixes:\\n\"+\n",
       "     \"</p>\\n\"+\n",
       "     \"<ul>\\n\"+\n",
       "     \"<li>re-rerun `output_notebook()` to attempt to load from CDN again, or</li>\\n\"+\n",
       "     \"<li>use INLINE resources instead, as so:</li>\\n\"+\n",
       "     \"</ul>\\n\"+\n",
       "     \"<code>\\n\"+\n",
       "     \"from bokeh.resources import INLINE\\n\"+\n",
       "     \"output_notebook(resources=INLINE)\\n\"+\n",
       "     \"</code>\\n\"+\n",
       "     \"</div>\"}};\n",
       "\n",
       "  function display_loaded() {\n",
       "    var el = document.getElementById(\"58e573de-86ec-4bda-8547-999020b702e4\");\n",
       "    if (el != null) {\n",
       "      el.textContent = \"BokehJS is loading...\";\n",
       "    }\n",
       "    if (root.Bokeh !== undefined) {\n",
       "      if (el != null) {\n",
       "        el.textContent = \"BokehJS \" + root.Bokeh.version + \" successfully loaded.\";\n",
       "      }\n",
       "    } else if (Date.now() < root._bokeh_timeout) {\n",
       "      setTimeout(display_loaded, 100)\n",
       "    }\n",
       "  }\n",
       "\n",
       "\n",
       "  function run_callbacks() {\n",
       "    try {\n",
       "      root._bokeh_onload_callbacks.forEach(function(callback) { callback() });\n",
       "    }\n",
       "    finally {\n",
       "      delete root._bokeh_onload_callbacks\n",
       "    }\n",
       "    console.info(\"Bokeh: all callbacks have finished\");\n",
       "  }\n",
       "\n",
       "  function load_libs(js_urls, callback) {\n",
       "    root._bokeh_onload_callbacks.push(callback);\n",
       "    if (root._bokeh_is_loading > 0) {\n",
       "      console.log(\"Bokeh: BokehJS is being loaded, scheduling callback at\", now());\n",
       "      return null;\n",
       "    }\n",
       "    if (js_urls == null || js_urls.length === 0) {\n",
       "      run_callbacks();\n",
       "      return null;\n",
       "    }\n",
       "    console.log(\"Bokeh: BokehJS not loaded, scheduling load and callback at\", now());\n",
       "    root._bokeh_is_loading = js_urls.length;\n",
       "    for (var i = 0; i < js_urls.length; i++) {\n",
       "      var url = js_urls[i];\n",
       "      var s = document.createElement('script');\n",
       "      s.src = url;\n",
       "      s.async = false;\n",
       "      s.onreadystatechange = s.onload = function() {\n",
       "        root._bokeh_is_loading--;\n",
       "        if (root._bokeh_is_loading === 0) {\n",
       "          console.log(\"Bokeh: all BokehJS libraries loaded\");\n",
       "          run_callbacks()\n",
       "        }\n",
       "      };\n",
       "      s.onerror = function() {\n",
       "        console.warn(\"failed to load library \" + url);\n",
       "      };\n",
       "      console.log(\"Bokeh: injecting script tag for BokehJS library: \", url);\n",
       "      document.getElementsByTagName(\"head\")[0].appendChild(s);\n",
       "    }\n",
       "  };var element = document.getElementById(\"58e573de-86ec-4bda-8547-999020b702e4\");\n",
       "  if (element == null) {\n",
       "    console.log(\"Bokeh: ERROR: autoload.js configured with elementid '58e573de-86ec-4bda-8547-999020b702e4' but no matching script tag was found. \")\n",
       "    return false;\n",
       "  }\n",
       "\n",
       "  var js_urls = [\"https://cdn.pydata.org/bokeh/release/bokeh-0.12.14.min.js\", \"https://cdn.pydata.org/bokeh/release/bokeh-widgets-0.12.14.min.js\", \"https://cdn.pydata.org/bokeh/release/bokeh-tables-0.12.14.min.js\", \"https://cdn.pydata.org/bokeh/release/bokeh-gl-0.12.14.min.js\"];\n",
       "\n",
       "  var inline_js = [\n",
       "    function(Bokeh) {\n",
       "      Bokeh.set_log_level(\"info\");\n",
       "    },\n",
       "    \n",
       "    function(Bokeh) {\n",
       "      \n",
       "    },\n",
       "    function(Bokeh) {\n",
       "      console.log(\"Bokeh: injecting CSS: https://cdn.pydata.org/bokeh/release/bokeh-0.12.14.min.css\");\n",
       "      Bokeh.embed.inject_css(\"https://cdn.pydata.org/bokeh/release/bokeh-0.12.14.min.css\");\n",
       "      console.log(\"Bokeh: injecting CSS: https://cdn.pydata.org/bokeh/release/bokeh-widgets-0.12.14.min.css\");\n",
       "      Bokeh.embed.inject_css(\"https://cdn.pydata.org/bokeh/release/bokeh-widgets-0.12.14.min.css\");\n",
       "      console.log(\"Bokeh: injecting CSS: https://cdn.pydata.org/bokeh/release/bokeh-tables-0.12.14.min.css\");\n",
       "      Bokeh.embed.inject_css(\"https://cdn.pydata.org/bokeh/release/bokeh-tables-0.12.14.min.css\");\n",
       "    }\n",
       "  ];\n",
       "\n",
       "  function run_inline_js() {\n",
       "    \n",
       "    if ((root.Bokeh !== undefined) || (force === true)) {\n",
       "      for (var i = 0; i < inline_js.length; i++) {\n",
       "        inline_js[i].call(root, root.Bokeh);\n",
       "      }if (force === true) {\n",
       "        display_loaded();\n",
       "      }} else if (Date.now() < root._bokeh_timeout) {\n",
       "      setTimeout(run_inline_js, 100);\n",
       "    } else if (!root._bokeh_failed_load) {\n",
       "      console.log(\"Bokeh: BokehJS failed to load within specified timeout.\");\n",
       "      root._bokeh_failed_load = true;\n",
       "    } else if (force !== true) {\n",
       "      var cell = $(document.getElementById(\"58e573de-86ec-4bda-8547-999020b702e4\")).parents('.cell').data().cell;\n",
       "      cell.output_area.append_execute_result(NB_LOAD_WARNING)\n",
       "    }\n",
       "\n",
       "  }\n",
       "\n",
       "  if (root._bokeh_is_loading === 0) {\n",
       "    console.log(\"Bokeh: BokehJS loaded, going straight to plotting\");\n",
       "    run_inline_js();\n",
       "  } else {\n",
       "    load_libs(js_urls, function() {\n",
       "      console.log(\"Bokeh: BokehJS plotting callback run at\", now());\n",
       "      run_inline_js();\n",
       "    });\n",
       "  }\n",
       "}(window));"
      ],
      "application/vnd.bokehjs_load.v0+json": "\n(function(root) {\n  function now() {\n    return new Date();\n  }\n\n  var force = true;\n\n  if (typeof (root._bokeh_onload_callbacks) === \"undefined\" || force === true) {\n    root._bokeh_onload_callbacks = [];\n    root._bokeh_is_loading = undefined;\n  }\n\n  \n\n  \n  if (typeof (root._bokeh_timeout) === \"undefined\" || force === true) {\n    root._bokeh_timeout = Date.now() + 5000;\n    root._bokeh_failed_load = false;\n  }\n\n  var NB_LOAD_WARNING = {'data': {'text/html':\n     \"<div style='background-color: #fdd'>\\n\"+\n     \"<p>\\n\"+\n     \"BokehJS does not appear to have successfully loaded. If loading BokehJS from CDN, this \\n\"+\n     \"may be due to a slow or bad network connection. Possible fixes:\\n\"+\n     \"</p>\\n\"+\n     \"<ul>\\n\"+\n     \"<li>re-rerun `output_notebook()` to attempt to load from CDN again, or</li>\\n\"+\n     \"<li>use INLINE resources instead, as so:</li>\\n\"+\n     \"</ul>\\n\"+\n     \"<code>\\n\"+\n     \"from bokeh.resources import INLINE\\n\"+\n     \"output_notebook(resources=INLINE)\\n\"+\n     \"</code>\\n\"+\n     \"</div>\"}};\n\n  function display_loaded() {\n    var el = document.getElementById(\"58e573de-86ec-4bda-8547-999020b702e4\");\n    if (el != null) {\n      el.textContent = \"BokehJS is loading...\";\n    }\n    if (root.Bokeh !== undefined) {\n      if (el != null) {\n        el.textContent = \"BokehJS \" + root.Bokeh.version + \" successfully loaded.\";\n      }\n    } else if (Date.now() < root._bokeh_timeout) {\n      setTimeout(display_loaded, 100)\n    }\n  }\n\n\n  function run_callbacks() {\n    try {\n      root._bokeh_onload_callbacks.forEach(function(callback) { callback() });\n    }\n    finally {\n      delete root._bokeh_onload_callbacks\n    }\n    console.info(\"Bokeh: all callbacks have finished\");\n  }\n\n  function load_libs(js_urls, callback) {\n    root._bokeh_onload_callbacks.push(callback);\n    if (root._bokeh_is_loading > 0) {\n      console.log(\"Bokeh: BokehJS is being loaded, scheduling callback at\", now());\n      return null;\n    }\n    if (js_urls == null || js_urls.length === 0) {\n      run_callbacks();\n      return null;\n    }\n    console.log(\"Bokeh: BokehJS not loaded, scheduling load and callback at\", now());\n    root._bokeh_is_loading = js_urls.length;\n    for (var i = 0; i < js_urls.length; i++) {\n      var url = js_urls[i];\n      var s = document.createElement('script');\n      s.src = url;\n      s.async = false;\n      s.onreadystatechange = s.onload = function() {\n        root._bokeh_is_loading--;\n        if (root._bokeh_is_loading === 0) {\n          console.log(\"Bokeh: all BokehJS libraries loaded\");\n          run_callbacks()\n        }\n      };\n      s.onerror = function() {\n        console.warn(\"failed to load library \" + url);\n      };\n      console.log(\"Bokeh: injecting script tag for BokehJS library: \", url);\n      document.getElementsByTagName(\"head\")[0].appendChild(s);\n    }\n  };var element = document.getElementById(\"58e573de-86ec-4bda-8547-999020b702e4\");\n  if (element == null) {\n    console.log(\"Bokeh: ERROR: autoload.js configured with elementid '58e573de-86ec-4bda-8547-999020b702e4' but no matching script tag was found. \")\n    return false;\n  }\n\n  var js_urls = [\"https://cdn.pydata.org/bokeh/release/bokeh-0.12.14.min.js\", \"https://cdn.pydata.org/bokeh/release/bokeh-widgets-0.12.14.min.js\", \"https://cdn.pydata.org/bokeh/release/bokeh-tables-0.12.14.min.js\", \"https://cdn.pydata.org/bokeh/release/bokeh-gl-0.12.14.min.js\"];\n\n  var inline_js = [\n    function(Bokeh) {\n      Bokeh.set_log_level(\"info\");\n    },\n    \n    function(Bokeh) {\n      \n    },\n    function(Bokeh) {\n      console.log(\"Bokeh: injecting CSS: https://cdn.pydata.org/bokeh/release/bokeh-0.12.14.min.css\");\n      Bokeh.embed.inject_css(\"https://cdn.pydata.org/bokeh/release/bokeh-0.12.14.min.css\");\n      console.log(\"Bokeh: injecting CSS: https://cdn.pydata.org/bokeh/release/bokeh-widgets-0.12.14.min.css\");\n      Bokeh.embed.inject_css(\"https://cdn.pydata.org/bokeh/release/bokeh-widgets-0.12.14.min.css\");\n      console.log(\"Bokeh: injecting CSS: https://cdn.pydata.org/bokeh/release/bokeh-tables-0.12.14.min.css\");\n      Bokeh.embed.inject_css(\"https://cdn.pydata.org/bokeh/release/bokeh-tables-0.12.14.min.css\");\n    }\n  ];\n\n  function run_inline_js() {\n    \n    if ((root.Bokeh !== undefined) || (force === true)) {\n      for (var i = 0; i < inline_js.length; i++) {\n        inline_js[i].call(root, root.Bokeh);\n      }if (force === true) {\n        display_loaded();\n      }} else if (Date.now() < root._bokeh_timeout) {\n      setTimeout(run_inline_js, 100);\n    } else if (!root._bokeh_failed_load) {\n      console.log(\"Bokeh: BokehJS failed to load within specified timeout.\");\n      root._bokeh_failed_load = true;\n    } else if (force !== true) {\n      var cell = $(document.getElementById(\"58e573de-86ec-4bda-8547-999020b702e4\")).parents('.cell').data().cell;\n      cell.output_area.append_execute_result(NB_LOAD_WARNING)\n    }\n\n  }\n\n  if (root._bokeh_is_loading === 0) {\n    console.log(\"Bokeh: BokehJS loaded, going straight to plotting\");\n    run_inline_js();\n  } else {\n    load_libs(js_urls, function() {\n      console.log(\"Bokeh: BokehJS plotting callback run at\", now());\n      run_inline_js();\n    });\n  }\n}(window));"
     },
     "metadata": {},
     "output_type": "display_data"
    }
   ],
   "source": [
    "output_notebook()"
   ]
  },
  {
   "cell_type": "code",
   "execution_count": 8,
   "metadata": {
    "collapsed": true
   },
   "outputs": [],
   "source": [
    "def fmt_cool(ds_in):\n",
    "    ds = ds_in.copy(deep=True)\n",
    "    if 'igg' in ds.dims:\n",
    "        ds = ds.sel(igg=1)\n",
    "\n",
    "    if 'g' in ds.dims:\n",
    "        ds = ds.sum('g')\n",
    "            \n",
    "    if 'band' in ds.dims:\n",
    "        try:\n",
    "            ds = ds.squeeze('band')\n",
    "        except ValueError:\n",
    "            ds = ds.sum('band')\n",
    "                \n",
    "    return ds['coolrg']\n",
    "\n",
    "\n",
    "def pltdata_cooling_1(ds_cool=None,\n",
    "                      ds_cool_crd=None, ds_cool_wgt=None):\n",
    "    \n",
    "\n",
    "\n",
    "    colors = all_palettes['Set1'][4]\n",
    "    data = [{'label': 'CLIRAD `coolr_bands`',\n",
    "             'srs': fmt_cool(ds_cool),\n",
    "             'line_dash': 'dashed', 'line_width': 5,\n",
    "             'color': colors[0], 'alpha': .6},\n",
    "            {'label': 'CRD',\n",
    "             'srs': fmt_cool(ds_cool_crd),\n",
    "             'line_dash': 'solid', 'line_width': 1.5,\n",
    "             'marker': 'circle', 'marker_size': 5,\n",
    "             'color': colors[2], 'alpha': 1,},\n",
    "            {'label': 'WGT igg=10 wgt_flux=2',\n",
    "             'srs': fmt_cool(ds_cool_wgt),\n",
    "             'line_dash': 'solid', 'line_width': 3,\n",
    "             'marker': 'square', 'marker_size': 5,\n",
    "             'color': colors[3], 'alpha': .6}]\n",
    "    return data\n",
    "\n",
    "\n",
    "def nice_xlims(pltdata=None, prange=None):\n",
    "    \n",
    "    def get_slice(srs):\n",
    "        return srs.sel(pressure=slice(*prange))\n",
    "    \n",
    "    srss = [d['srs'] for d in pltdata]\n",
    "    vmin = min([get_slice(srs).min() for srs in srss])\n",
    "    vmax = max([get_slice(srs).max() for srs in srss])\n",
    "    dv = (vmax - vmin) * .01\n",
    "    return float(vmin - dv), float(vmax + dv)\n",
    "    \n",
    "\n",
    "def plt_cooling_bokeh(pltdata=None):\n",
    "    '''\n",
    "    Plot a list of cooling rate profiles using bokeh.\n",
    "    '''\n",
    "    ymin = 1e-2 \n",
    "    ymax = 1020 \n",
    "        \n",
    "    p1 = figure(title=\"Linear pressure scale\", \n",
    "                plot_width=400)        \n",
    "    xmin, xmax = nice_xlims(pltdata, prange=(50, 1050))\n",
    "    for d in pltdata:\n",
    "        if 'marker' in d:\n",
    "            getattr(p1, d['marker'])(d['srs'].values, \n",
    "                    d['srs'].coords['pressure'].values,\n",
    "                    color=d['color'], alpha=.7)\n",
    "        p1.line(d['srs'].values, \n",
    "                d['srs'].coords['pressure'].values,\n",
    "                color=d['color'], alpha=d['alpha'], \n",
    "                line_width=d['line_width'], line_dash=d['line_dash'])\n",
    "    \n",
    "    p1.y_range = Range1d(ymax, ymin)\n",
    "    p1.yaxis.axis_label = 'pressure [mb]'   \n",
    "    p1.x_range = Range1d(xmin, xmax)\n",
    "    p1.xaxis.axis_label = 'cooling rate [K/day]'\n",
    "            \n",
    "    p2 = figure(title='Log pressure scale', y_axis_type='log',\n",
    "                plot_width=560)\n",
    "    xmin, xmax = nice_xlims(pltdata, prange=(.01, 200))\n",
    "    \n",
    "    rs = []\n",
    "    for d in pltdata:\n",
    "        rd = []\n",
    "        if 'marker' in d:\n",
    "            r_mark = getattr(p2, d['marker'])(d['srs'].values, \n",
    "                        d['srs'].coords['pressure'].values,\n",
    "                        color=d['color'], alpha=.7)\n",
    "            rd.append(r_mark)\n",
    "        r_line = p2.line(d['srs'].values, \n",
    "                    d['srs'].coords['pressure'].values,\n",
    "                    color=d['color'], alpha=d['alpha'], \n",
    "                    line_width=d['line_width'], line_dash=d['line_dash'])\n",
    "        rd.append(r_line)\n",
    "      \n",
    "        rs.append(rd)\n",
    "        \n",
    "    p2.y_range = Range1d(ymax, ymin)  \n",
    "    p2.yaxis.axis_label = 'pressure [mb]'\n",
    "    \n",
    "    p2.x_range = Range1d(xmin, xmax)\n",
    "    p2.xaxis.axis_label = 'cooling rate [K/day]'\n",
    "    \n",
    "    items = [(d['label'], r) for r, d in zip(rs, pltdata)]\n",
    "    legend = Legend(items=items, location=(10, -30))\n",
    "    legend.label_text_font_size = '8pt'\n",
    "    \n",
    "    p2.add_layout(legend, 'right')  \n",
    "    \n",
    "    show(gridplot(p1, p2, ncols=2, plot_height=500))\n",
    "    \n",
    "\n",
    "def script_plt_cooling():\n",
    "    pltdata = pltdata_cooling_1(\n",
    "        ds_cool=DS_COOL,\n",
    "        ds_cool_crd=DS_COOL_CRD,\n",
    "        ds_cool_wgt=DS_COOL_WGT)\n",
    "    plt_cooling_bokeh(pltdata=pltdata)\n",
    "    print('''FIGURE. Cooling rate profiles.''')"
   ]
  },
  {
   "cell_type": "code",
   "execution_count": 9,
   "metadata": {
    "collapsed": true
   },
   "outputs": [],
   "source": [
    "def fmt_flux(ds_in):\n",
    "    ds = ds_in.copy(deep=True)\n",
    "    \n",
    "    for l in ('level', 'layer'):\n",
    "        if l in ds.data_vars:\n",
    "            if len(ds[l].dims) > 1:\n",
    "                surface = {d: 0 for d in ds.dims if d != 'pressure'}\n",
    "                coord_level = ds[l][surface]\n",
    "                ds.coords[l] = ('pressure', coord_level)\n",
    "            else:\n",
    "                ds.coords[l] = ('pressure', ds[l])\n",
    "        \n",
    "    ds = ds.isel(pressure=[0, 23, -1])\n",
    "        \n",
    "    if 'igg' in ds.dims:\n",
    "        ds = ds.sel(igg=[1])\n",
    "        ds = ds.squeeze('igg').drop('igg')\n",
    "    \n",
    "    if 'g' in ds.dims:\n",
    "        ds = ds.sum('g')\n",
    "            \n",
    "    if 'band' in ds.dims:\n",
    "        try:\n",
    "            ds = ds.squeeze('band').drop('band')\n",
    "        except ValueError:\n",
    "            ds = ds.sum('band')\n",
    "                \n",
    "    df = ds.to_dataframe()\n",
    "    df = df.set_index('level', append=True)               \n",
    "    return df\n",
    "\n",
    "\n",
    "def tbdata_flux(ds_flux=None, ds_flux_crd=None, ds_flux_wgt=None):\n",
    "    ilevels = [0, 23, -1]\n",
    "            \n",
    "    benchmark = {'label': 'WGT igg=10 wgt_flux=1',\n",
    "                 'df': fmt_flux(ds_flux_wgt)}\n",
    "    \n",
    "    tbs = [{'label': 'CRD',\n",
    "            'df': fmt_flux(ds_flux_crd)},\n",
    "           {'label': 'CLIRAD',\n",
    "            'df': fmt_flux(ds_flux)}]\n",
    "    \n",
    "    data = {'benchmark': benchmark, 'others': tbs}\n",
    "    return data\n",
    "\n",
    "\n",
    "def tb_flux(tbdata=None):\n",
    "    benchmark = tbdata['benchmark']\n",
    "    others = tbdata['others']\n",
    "    \n",
    "    def show_tb(d=None):\n",
    "        display.display(d['df'])\n",
    "        print('Table.', 'Fluxes.', d['label'])\n",
    "        \n",
    "    def show_tbdiff(d0=None, d=None):\n",
    "        df = d['df']\n",
    "        df.index = d0['df'].index\n",
    "        display.display(df - d0['df'])\n",
    "        print('Table.', 'Fluxes.', \n",
    "              '({}) - ({})'.format(d['label'], d0['label']))\n",
    "        \n",
    "    show_tb(benchmark)\n",
    "    for d in others:\n",
    "        show_tb(d)\n",
    "        \n",
    "    for d in others:\n",
    "        show_tbdiff(d=d, d0=benchmark)\n",
    "        \n",
    "        \n",
    "def script_tb_flux():\n",
    "    data = tbdata_flux(ds_flux=DS_FLUX,\n",
    "                       ds_flux_crd=DS_FLUX_CRD,\n",
    "                       ds_flux_wgt=DS_FLUX_WGT)\n",
    "    tb_flux(tbdata=data)"
   ]
  },
  {
   "cell_type": "code",
   "execution_count": 10,
   "metadata": {
    "collapsed": true
   },
   "outputs": [],
   "source": [
    "def band_map():\n",
    "    '''\n",
    "    Maps spectral bands in lblnew to spectral bands in clirad.\n",
    "    '''\n",
    "    lblnew2clirad = {'1': '1',\n",
    "            '2': '2',\n",
    "            '3a': '3',\n",
    "            '3b': '4',\n",
    "            '3c': '5',\n",
    "            '4': '6', \n",
    "            '5': '7',\n",
    "            '6': '8',\n",
    "            '7': '9', \n",
    "            '8': '10',\n",
    "            '9': '11'}\n",
    "    \n",
    "    clirad2lblnew = {clirad: lblnew \n",
    "                     for lblnew, clirad in lblnew2clirad.items()}\n",
    "    return clirad2lblnew\n",
    "\n",
    "\n",
    "def gasbands():\n",
    "    bmap = band_map()\n",
    "    gases = list(PARAM['molecule'].keys())\n",
    "    \n",
    "    bands = [bmap[str(b)] for b in PARAM['band']]\n",
    "    return list(itertools.product(gases, bands))\n",
    "\n",
    "\n",
    "def print_bestfit_params():\n",
    "    print('Best-fit values for each (gas, band)')\n",
    "    print('------------------------------------')\n",
    "    for gas, band in gasbands():\n",
    "        print('o {} band{}'.format(gas, band))\n",
    "        param = bestfits.kdist_params(molecule=gas, band=band)\n",
    "        for name, value in sorted(param.items()):\n",
    "            print(2 * ' ' + '{} = {}'.format(name, value))\n",
    "\n",
    "        \n",
    "def print_input_param():        \n",
    "    for name, value in PARAM.items():\n",
    "        print('{} = {}'.format(name, value))\n",
    "        \n",
    "        \n",
    "def print_lblnew_param():\n",
    "    for name, value in sorted(PARAM_LBLNEW.items()):\n",
    "        print('{} = {}'.format(name, value))\n"
   ]
  },
  {
   "cell_type": "code",
   "execution_count": 11,
   "metadata": {
    "collapsed": true,
    "scrolled": false
   },
   "outputs": [],
   "source": [
    "def show_html(s):\n",
    "    display.display(display.HTML(s))\n",
    "\n",
    "    \n",
    "def show_markdown(s):\n",
    "    display.display(display.Markdown(s))\n",
    "\n",
    "    \n",
    "def script():\n",
    "    \n",
    "    title = '### CLIRAD-LW'\n",
    "    s_input = 'Input Parameters'\n",
    "    s_lblnew_param = 'LBLNEW case compaired against'\n",
    "    s_bestfits = 'Best-fit Parameters'\n",
    "    s_plt_cooling = 'Cooling Rate Profiles'\n",
    "    s_tb_flux = 'Flux Comparison'\n",
    "    \n",
    "    # title\n",
    "    show_markdown('### CLIRAD-LW')\n",
    "    \n",
    "    # TOC\n",
    "    show_markdown('### Table of Contents')\n",
    "    show_html(climahtml.getHTML_hrefanchor(s_input))\n",
    "    show_html(climahtml.getHTML_hrefanchor(s_lblnew_param))\n",
    "    show_html(climahtml.getHTML_hrefanchor(s_plt_cooling))\n",
    "    show_html(climahtml.getHTML_hrefanchor(s_tb_flux))\n",
    "    show_html(climahtml.getHTML_hrefanchor(s_bestfits))\n",
    "    \n",
    "    # Input parameters\n",
    "    show_html(climahtml.getHTML_idanchor(s_input))\n",
    "    show_markdown(climahtml.getMarkdown_sectitle(s_input))\n",
    "    print_input_param()\n",
    "    \n",
    "    # LBLNEW parameters \n",
    "    show_html(climahtml.getHTML_idanchor(s_lblnew_param))\n",
    "    show_markdown(climahtml.getMarkdown_sectitle(s_lblnew_param))\n",
    "    print_lblnew_param()\n",
    "    \n",
    "    # Cooling rate profiles\n",
    "    show_html(climahtml.getHTML_idanchor(s_plt_cooling))\n",
    "    show_markdown(climahtml.getMarkdown_sectitle(s_plt_cooling))\n",
    "    script_plt_cooling()\n",
    "    \n",
    "    # Flux comparison\n",
    "    show_html(climahtml.getHTML_idanchor(s_tb_flux))\n",
    "    show_markdown(climahtml.getMarkdown_sectitle(s_tb_flux))\n",
    "    script_tb_flux()\n",
    "    \n",
    "    # Best-fit values\n",
    "    show_html(climahtml.getHTML_idanchor(s_bestfits))\n",
    "    show_markdown(climahtml.getMarkdown_sectitle(s_bestfits))\n",
    "    print_bestfit_params()\n",
    "   \n",
    "    "
   ]
  },
  {
   "cell_type": "code",
   "execution_count": 12,
   "metadata": {
    "collapsed": true,
    "scrolled": false
   },
   "outputs": [
    {
     "data": {
      "text/markdown": [
       "### CLIRAD-LW"
      ],
      "text/plain": [
       "<IPython.core.display.Markdown object>"
      ]
     },
     "metadata": {},
     "output_type": "display_data"
    },
    {
     "data": {
      "text/markdown": [
       "### Table of Contents"
      ],
      "text/plain": [
       "<IPython.core.display.Markdown object>"
      ]
     },
     "metadata": {},
     "output_type": "display_data"
    },
    {
     "data": {
      "text/html": [
       "<a href=\"#Input_Parameters\">Input Parameters</a>"
      ],
      "text/plain": [
       "<IPython.core.display.HTML object>"
      ]
     },
     "metadata": {},
     "output_type": "display_data"
    },
    {
     "data": {
      "text/html": [
       "<a href=\"#LBLNEW_case_compaired_against\">LBLNEW case compaired against</a>"
      ],
      "text/plain": [
       "<IPython.core.display.HTML object>"
      ]
     },
     "metadata": {},
     "output_type": "display_data"
    },
    {
     "data": {
      "text/html": [
       "<a href=\"#Cooling_Rate_Profiles\">Cooling Rate Profiles</a>"
      ],
      "text/plain": [
       "<IPython.core.display.HTML object>"
      ]
     },
     "metadata": {},
     "output_type": "display_data"
    },
    {
     "data": {
      "text/html": [
       "<a href=\"#Flux_Comparison\">Flux Comparison</a>"
      ],
      "text/plain": [
       "<IPython.core.display.HTML object>"
      ]
     },
     "metadata": {},
     "output_type": "display_data"
    },
    {
     "data": {
      "text/html": [
       "<a href=\"#Best-fit_Parameters\">Best-fit Parameters</a>"
      ],
      "text/plain": [
       "<IPython.core.display.HTML object>"
      ]
     },
     "metadata": {},
     "output_type": "display_data"
    },
    {
     "data": {
      "text/html": [
       "<a id=\"Input_Parameters\"></a>"
      ],
      "text/plain": [
       "<IPython.core.display.HTML object>"
      ]
     },
     "metadata": {},
     "output_type": "display_data"
    },
    {
     "data": {
      "text/markdown": [
       "# Input Parameters"
      ],
      "text/plain": [
       "<IPython.core.display.Markdown object>"
      ]
     },
     "metadata": {},
     "output_type": "display_data"
    },
    {
     "name": "stdout",
     "output_type": "stream",
     "text": [
      "atmpro = saw\n",
      "band = [3]\n",
      "commitnumber = 7fe1447\n",
      "molecule = {'n2o': 3.2e-07}\n",
      "tsfc = 257\n"
     ]
    },
    {
     "data": {
      "text/html": [
       "<a id=\"LBLNEW_case_compaired_against\"></a>"
      ],
      "text/plain": [
       "<IPython.core.display.HTML object>"
      ]
     },
     "metadata": {},
     "output_type": "display_data"
    },
    {
     "data": {
      "text/markdown": [
       "# LBLNEW case compaired against"
      ],
      "text/plain": [
       "<IPython.core.display.Markdown object>"
      ]
     },
     "metadata": {},
     "output_type": "display_data"
    },
    {
     "name": "stdout",
     "output_type": "stream",
     "text": [
      "atmpro = saw\n",
      "band = 3a\n",
      "commitnumber = a06b618\n",
      "conc = 3.2e-07\n",
      "dv = 0.001\n",
      "klin = 2.22e-20\n",
      "molecule = n2o\n",
      "ng_adju = [0, 0]\n",
      "ng_refs = [1, 2]\n",
      "nv = 1000\n",
      "option_compute_btable = 0\n",
      "option_compute_ktable = 0\n",
      "option_wgt_flux = 1\n",
      "option_wgt_k = 1\n",
      "ref_pts = [(1, 250), (500, 250)]\n",
      "tsfc = 257\n",
      "vmax = 620\n",
      "vmin = 540\n",
      "w_diffuse = [(1.8,), (1.66, 1.8)]\n",
      "wgt = [(0.9,), (0.5, 0.95)]\n"
     ]
    },
    {
     "data": {
      "text/html": [
       "<a id=\"Cooling_Rate_Profiles\"></a>"
      ],
      "text/plain": [
       "<IPython.core.display.HTML object>"
      ]
     },
     "metadata": {},
     "output_type": "display_data"
    },
    {
     "data": {
      "text/markdown": [
       "# Cooling Rate Profiles"
      ],
      "text/plain": [
       "<IPython.core.display.Markdown object>"
      ]
     },
     "metadata": {},
     "output_type": "display_data"
    },
    {
     "data": {
      "text/html": [
       "\n",
       "<div class=\"bk-root\">\n",
       "    <div class=\"bk-plotdiv\" id=\"f7c46e6f-13ef-49e5-b039-99e24abc155d\"></div>\n",
       "</div>"
      ]
     },
     "metadata": {},
     "output_type": "display_data"
    },
    {
     "data": {
      "application/javascript": [
       "(function(root) {\n",
       "  function embed_document(root) {\n",
       "    \n",
       "  var docs_json = {\"1a0ccaf1-9c95-4d78-b0c1-ec1442df61fa\":{\"roots\":{\"references\":[{\"attributes\":{\"callback\":null,\"column_names\":[\"x\",\"y\"],\"data\":{\"x\":{\"__ndarray__\":\"kbDDJp8PhD9E4SASn+qFP1aU2NbLxok/zCeTaSDVjT96XAr+bQWRP6RENoMENJM/N/8XHud1lT9vOckc7MmXP5EzkfV7Mpo/KQsxJwCwnD99xy086D+fP8W60uEK8KA/LKY8NNhGoj/V6uCd0nqjP/OVCKCNZqQ/dfPtWssvpT9txMbOcfSlP2zSUTQttqY/Cb/msldzpz9/EvM6Ty2oPwPTtWtMzKg/Vcv+wvDmpz9apRdcQw6lP87aqnqyyKE/QO0BBL2BnT86FUNObPmXP+hAqdIjAZM/mALKjb9Ajj+bQEZ96DuJP/1Ow1KFiIU/VtI9vL0cgj9fo8F6l+N9Px0jR+Unj3o/6nXu6hNIej8F/cvOl+B5P7/nZ3Edn3g/FBhrLmmbdj/l7ZZRHYxzP4iA2FVuCXA/BPAodCu7aT9JJrN7Y+FjP16n4wLvo1w/sNC+YuO7UT/3WtzC59g6P0CtIPItRCm/CVQi9KA/F7/fiXap2nRQPyIdtJQ5CGQ/h8KdAtZubz/bqBZdUyp1P5uHA0j8aHo/aZbVSpl6fz83jKeCbzGCPwMnjzLYkIQ/uOPRti/ahj8+NrDyVwqJPwzZvTiYHYs/ZbzbLMYPjT99yh119dyOP4jYOhqCQZA/shdqSjsAkT+hpzG8uqyRP5xRkCs3SZI/O5EjR4HYkj8B7gphW12TP6CQ4dSu2ZM/dWH/0CdNlD/BS+A+wbGUP1MWXZVG95Q/hN/w/E4FlT+lzKC2Gs2UP6FsRt05WpQ/avMM1SXHkz85eg7CYiiTP0V5yI9Wh5I/\",\"dtype\":\"float64\",\"shape\":[75]},\"y\":{\"__ndarray__\":\"GhExyth1ND/Sv8nbtpRIP2vylNV0PVE/aTum7souWD/At0SJ8fVgPw3Iuahxymc/MSNhhJWvcD/bTfBN02d3P2zb5nxnaoA/CD5h5MAGhz8NmeH1TyaQP+zrCsc9p5Y/LbKd76fGnz/bLW5ISEmmPww9YvTcQq8/JV2OstnstT8Er5Y7M8G+P0c+r3jqkcU/5h99k6ZBzj88bCIzFzjVP4enV8oyxN0//yH99nXg5D8qOpLLf0jtP5kqGJXUifQ/c9cS8kHP/D+/DpwzojQEQIEmwoanVwxA4lgXt9HgE0BSSZ2AJuIbQAMJih9jjiNA5q4l5INuK0AwTKYKRj0zQNv5fmq8/DpAaCJseHrtQkB/+zpwzoxKQM3MzMzMeFJAZmZmZmZqWEAAAAAAAFxeQM3MzMzMJmJAmpmZmZkfZUBmZmZmZhhoQDMzMzMzEWtAAAAAAAAKbkBmZmZmZoFwQM3MzMzM/XFAMzMzMzN6c0CamZmZmfZ0QAAAAAAAc3ZAZmZmZmbvd0DNzMzMzGt5QDMzMzMz6HpAmpmZmZlkfEAAAAAAAOF9QGZmZmZmXX9AZmZmZuZsgECamZmZGSuBQM3MzMxM6YFAAAAAAICngkAzMzMzs2WDQGZmZmbmI4RAmpmZmRnihEDNzMzMTKCFQAAAAACAXoZAMzMzM7Mch0BmZmZm5tqHQJqZmZkZmYhAzczMzExXiUAAAAAAgBWKQDMzMzOz04pAZmZmZuaRi0CamZmZGVCMQM3MzMxMDo1AAAAAAIDMjUAzMzMzs4qOQGZmZmbmSI9A\",\"dtype\":\"float64\",\"shape\":[75]}}},\"id\":\"f4c47a77-7e4c-4864-80fd-d0769e40e991\",\"type\":\"ColumnDataSource\"},{\"attributes\":{},\"id\":\"2cfc1b47-c6fd-43d9-9ea9-4bb7df4726d0\",\"type\":\"SaveTool\"},{\"attributes\":{},\"id\":\"387c6187-8d02-4cce-9b12-1e27ea62017f\",\"type\":\"SaveTool\"},{\"attributes\":{\"bottom_units\":\"screen\",\"fill_alpha\":{\"value\":0.5},\"fill_color\":{\"value\":\"lightgrey\"},\"left_units\":\"screen\",\"level\":\"overlay\",\"line_alpha\":{\"value\":1.0},\"line_color\":{\"value\":\"black\"},\"line_dash\":[4,4],\"line_width\":{\"value\":2},\"plot\":null,\"render_mode\":\"css\",\"right_units\":\"screen\",\"top_units\":\"screen\"},\"id\":\"6cfc5938-0b68-4b86-b337-9f68a7271fdb\",\"type\":\"BoxAnnotation\"},{\"attributes\":{},\"id\":\"ba77374e-8d46-4fef-90e3-a96261545ac4\",\"type\":\"WheelZoomTool\"},{\"attributes\":{},\"id\":\"9aa504c5-a6d7-4b2b-8b19-73b27244629a\",\"type\":\"ResetTool\"},{\"attributes\":{\"overlay\":{\"id\":\"a42478cf-817a-497a-8568-8915fa7de419\",\"type\":\"BoxAnnotation\"}},\"id\":\"7374f848-4eec-4720-b41e-746e3661fd7e\",\"type\":\"BoxZoomTool\"},{\"attributes\":{\"data_source\":{\"id\":\"eb1710b7-b304-48b5-a1d9-196124a23ec1\",\"type\":\"ColumnDataSource\"},\"glyph\":{\"id\":\"da143dab-c4f8-4a3b-afdf-9df0e9b5a277\",\"type\":\"Line\"},\"hover_glyph\":null,\"muted_glyph\":null,\"nonselection_glyph\":{\"id\":\"ed881e0c-4f71-4bde-8b00-02807f49b490\",\"type\":\"Line\"},\"selection_glyph\":null,\"view\":{\"id\":\"01223609-ca59-4815-85a1-8127f142e35c\",\"type\":\"CDSView\"}},\"id\":\"8e4a0da6-5319-4cec-b3a0-bcb2864bd024\",\"type\":\"GlyphRenderer\"},{\"attributes\":{\"source\":{\"id\":\"f4c47a77-7e4c-4864-80fd-d0769e40e991\",\"type\":\"ColumnDataSource\"}},\"id\":\"0e897c5d-8b28-4c59-a90b-9724189434cc\",\"type\":\"CDSView\"},{\"attributes\":{\"line_alpha\":0.6,\"line_color\":\"#e41a1c\",\"line_dash\":[6],\"line_width\":5,\"x\":{\"field\":\"x\"},\"y\":{\"field\":\"y\"}},\"id\":\"36401f84-8c61-4e23-9e35-1df3b2f4ea79\",\"type\":\"Line\"},{\"attributes\":{\"data_source\":{\"id\":\"f4c47a77-7e4c-4864-80fd-d0769e40e991\",\"type\":\"ColumnDataSource\"},\"glyph\":{\"id\":\"478333a8-017e-4d1e-ac4c-a3b0ed7eac8a\",\"type\":\"Line\"},\"hover_glyph\":null,\"muted_glyph\":null,\"nonselection_glyph\":{\"id\":\"f18cc14b-a533-4173-915e-4c7f2c817f3f\",\"type\":\"Line\"},\"selection_glyph\":null,\"view\":{\"id\":\"0e897c5d-8b28-4c59-a90b-9724189434cc\",\"type\":\"CDSView\"}},\"id\":\"84da035e-8a5d-439f-897f-376729b175f1\",\"type\":\"GlyphRenderer\"},{\"attributes\":{},\"id\":\"8afd34d3-3284-4d22-8f6f-afe28243745e\",\"type\":\"HelpTool\"},{\"attributes\":{\"callback\":null,\"column_names\":[\"x\",\"y\"],\"data\":{\"x\":{\"__ndarray__\":\"0QWNSv7ohj+2R3zikVyIP+P/1X3ci4s/bvRDAszQjj9nk4l8ExqRP1E2jFKn25I/mJV0NBGtlD/QyLqUx46WP9ZSTQQCgZg/iifmGS6Emj+RU/el15acP0tZDyo0up4/2pPPEUp2oD9N5zcKGHahP76j8QT1P6I/5UiNJ4fxoj8Ct+kt8KWjP73nGyz3XaQ/3qWQCOYYpT/bP1t2pNSlPxcq8C8xf6Y/YQBv7qDzpT+Qz3+dCNOjP0816on9UaE/3kCs907enT+XLKCwwUuZP0vypbU+7JQ/FNgLIcE2kT/cOtxnxdKMPwq4A08DAYg/63/DP4E7gz+BDgfK7Hp9P/5wRV6lZnc/VRt0LnJ7dD/Vr3HPzHJyP1q1f29g3HA/b3jztPkIbz/VEARoFWZrP99COl/cJGc/LshH6DZDYz8UXZWPFkNfP8v4RzzxRVg/NSxPqrl4UT9LWDRJ551FP+2v8XUmKDY/Hyzj50ZmQz8Ku4Shl9NaP99X6dZ5gGg/Rx6lpibHcT+QrxHFgy13P08tL/3qcXw/idjl9c7KgD/a/Ns/+EuDP7mgPeU4uoU/FUY57EwOiD/uetvf6EmKP95qF39NaYw/dFkkpHBojj9qEmYh1CGQP0L8JMCu+5A/FAiMDKrBkT+TWJnDynWSP+V7QWl6GZM/KdBc5PSukz/bDCttVTiUP83veLbutpQ/rpdLT/0olT/7U6DSZYqVP/S/9KehzpU/uiZEw9nilT9XXvI/+buVP8tzemd/Y5U/WUp99q/ulD8m2T5y2G6UPxz43P+D7JM/\",\"dtype\":\"float64\",\"shape\":[75]},\"y\":{\"__ndarray__\":\"S/O/Q+51ND/Sv8nbtpRIP2vylNV0PVE/aTum7souWD/At0SJ8fVgPw3Iuahxymc/MSNhhJWvcD/bTfBN02d3P2zb5nxnaoA/CD5h5MAGhz8NmeH1TyaQP+zrCsc9p5Y/LbKd76fGnz/bLW5ISEmmPww9YvTcQq8/JV2OstnstT8Er5Y7M8G+P0c+r3jqkcU/5h99k6ZBzj88bCIzFzjVP4enV8oyxN0//yH99nXg5D8qOpLLf0jtP5kqGJXUifQ/c9cS8kHP/D+/DpwzojQEQIEmwoanVwxA4lgXt9HgE0BSSZ2AJuIbQAMJih9jjiNA5q4l5INuK0AwTKYKRj0zQNv5fmq8/DpAaCJseHrtQkB/+zpwzoxKQM3MzMzMeFJAZmZmZmZqWEAAAAAAAFxeQM3MzMzMJmJAmpmZmZkfZUBmZmZmZhhoQDMzMzMzEWtAAAAAAAAKbkBmZmZmZoFwQM3MzMzM/XFAMzMzMzN6c0CamZmZmfZ0QAAAAAAAc3ZAZmZmZmbvd0DNzMzMzGt5QDMzMzMz6HpAmpmZmZlkfEAAAAAAAOF9QGZmZmZmXX9AZmZmZuZsgECamZmZGSuBQM3MzMxM6YFAAAAAAICngkAzMzMzs2WDQGZmZmbmI4RAmpmZmRnihEDNzMzMTKCFQAAAAACAXoZAMzMzM7Mch0BmZmZm5tqHQJqZmZkZmYhAzczMzExXiUAAAAAAgBWKQDMzMzOz04pAZmZmZuaRi0CamZmZGVCMQM3MzMxMDo1AAAAAAIDMjUAzMzMzs4qOQGZmZmbmSI9A\",\"dtype\":\"float64\",\"shape\":[75]}}},\"id\":\"eb1710b7-b304-48b5-a1d9-196124a23ec1\",\"type\":\"ColumnDataSource\"},{\"attributes\":{\"callback\":null,\"end\":0.01,\"start\":1020},\"id\":\"8bfbd4ea-2bd2-4d64-a6ab-122e34237653\",\"type\":\"Range1d\"},{\"attributes\":{},\"id\":\"bb674dd4-3ca7-4d9f-acbe-a4ebd4ed3791\",\"type\":\"LinearScale\"},{\"attributes\":{\"callback\":null,\"column_names\":[\"x\",\"y\"],\"data\":{\"x\":{\"__ndarray__\":\"kbDDJp8PhD9E4SASn+qFP1aU2NbLxok/zCeTaSDVjT96XAr+bQWRP6RENoMENJM/N/8XHud1lT9vOckc7MmXP5EzkfV7Mpo/KQsxJwCwnD99xy086D+fP8W60uEK8KA/LKY8NNhGoj/V6uCd0nqjP/OVCKCNZqQ/dfPtWssvpT9txMbOcfSlP2zSUTQttqY/Cb/msldzpz9/EvM6Ty2oPwPTtWtMzKg/Vcv+wvDmpz9apRdcQw6lP87aqnqyyKE/QO0BBL2BnT86FUNObPmXP+hAqdIjAZM/mALKjb9Ajj+bQEZ96DuJP/1Ow1KFiIU/VtI9vL0cgj9fo8F6l+N9Px0jR+Unj3o/6nXu6hNIej8F/cvOl+B5P7/nZ3Edn3g/FBhrLmmbdj/l7ZZRHYxzP4iA2FVuCXA/BPAodCu7aT9JJrN7Y+FjP16n4wLvo1w/sNC+YuO7UT/3WtzC59g6P0CtIPItRCm/CVQi9KA/F7/fiXap2nRQPyIdtJQ5CGQ/h8KdAtZubz/bqBZdUyp1P5uHA0j8aHo/aZbVSpl6fz83jKeCbzGCPwMnjzLYkIQ/uOPRti/ahj8+NrDyVwqJPwzZvTiYHYs/ZbzbLMYPjT99yh119dyOP4jYOhqCQZA/shdqSjsAkT+hpzG8uqyRP5xRkCs3SZI/O5EjR4HYkj8B7gphW12TP6CQ4dSu2ZM/dWH/0CdNlD/BS+A+wbGUP1MWXZVG95Q/hN/w/E4FlT+lzKC2Gs2UP6FsRt05WpQ/avMM1SXHkz85eg7CYiiTP0V5yI9Wh5I/\",\"dtype\":\"float64\",\"shape\":[75]},\"y\":{\"__ndarray__\":\"GhExyth1ND/Sv8nbtpRIP2vylNV0PVE/aTum7souWD/At0SJ8fVgPw3Iuahxymc/MSNhhJWvcD/bTfBN02d3P2zb5nxnaoA/CD5h5MAGhz8NmeH1TyaQP+zrCsc9p5Y/LbKd76fGnz/bLW5ISEmmPww9YvTcQq8/JV2OstnstT8Er5Y7M8G+P0c+r3jqkcU/5h99k6ZBzj88bCIzFzjVP4enV8oyxN0//yH99nXg5D8qOpLLf0jtP5kqGJXUifQ/c9cS8kHP/D+/DpwzojQEQIEmwoanVwxA4lgXt9HgE0BSSZ2AJuIbQAMJih9jjiNA5q4l5INuK0AwTKYKRj0zQNv5fmq8/DpAaCJseHrtQkB/+zpwzoxKQM3MzMzMeFJAZmZmZmZqWEAAAAAAAFxeQM3MzMzMJmJAmpmZmZkfZUBmZmZmZhhoQDMzMzMzEWtAAAAAAAAKbkBmZmZmZoFwQM3MzMzM/XFAMzMzMzN6c0CamZmZmfZ0QAAAAAAAc3ZAZmZmZmbvd0DNzMzMzGt5QDMzMzMz6HpAmpmZmZlkfEAAAAAAAOF9QGZmZmZmXX9AZmZmZuZsgECamZmZGSuBQM3MzMxM6YFAAAAAAICngkAzMzMzs2WDQGZmZmbmI4RAmpmZmRnihEDNzMzMTKCFQAAAAACAXoZAMzMzM7Mch0BmZmZm5tqHQJqZmZkZmYhAzczMzExXiUAAAAAAgBWKQDMzMzOz04pAZmZmZuaRi0CamZmZGVCMQM3MzMxMDo1AAAAAAIDMjUAzMzMzs4qOQGZmZmbmSI9A\",\"dtype\":\"float64\",\"shape\":[75]}}},\"id\":\"66538c38-e412-433b-9ef9-b601645ccca3\",\"type\":\"ColumnDataSource\"},{\"attributes\":{\"below\":[{\"id\":\"1f03af03-31a6-43d4-a753-ee0726520e88\",\"type\":\"LinearAxis\"}],\"left\":[{\"id\":\"5c5efab5-791f-4997-a5f8-dc03cf2ed377\",\"type\":\"LinearAxis\"}],\"plot_height\":500,\"plot_width\":400,\"renderers\":[{\"id\":\"1f03af03-31a6-43d4-a753-ee0726520e88\",\"type\":\"LinearAxis\"},{\"id\":\"5ea16ccd-8a19-4df0-8e85-cef11788ed5d\",\"type\":\"Grid\"},{\"id\":\"5c5efab5-791f-4997-a5f8-dc03cf2ed377\",\"type\":\"LinearAxis\"},{\"id\":\"59cd8e45-f9ba-4c28-aa8e-b2c9fc2452b8\",\"type\":\"Grid\"},{\"id\":\"a42478cf-817a-497a-8568-8915fa7de419\",\"type\":\"BoxAnnotation\"},{\"id\":\"8e4a0da6-5319-4cec-b3a0-bcb2864bd024\",\"type\":\"GlyphRenderer\"},{\"id\":\"c7080a2b-4a4f-49a3-9ca8-2edef57a669a\",\"type\":\"GlyphRenderer\"},{\"id\":\"84da035e-8a5d-439f-897f-376729b175f1\",\"type\":\"GlyphRenderer\"},{\"id\":\"5644c0a9-5749-4199-b7b8-8ab33d8e098d\",\"type\":\"GlyphRenderer\"},{\"id\":\"974f3b8b-c098-49bb-a7b3-4b5b4b9053b8\",\"type\":\"GlyphRenderer\"}],\"title\":{\"id\":\"0a26fa59-813a-409b-9a85-a101bad573f1\",\"type\":\"Title\"},\"toolbar\":{\"id\":\"10b948f9-fd7d-4c5c-932b-6db7030fe029\",\"type\":\"Toolbar\"},\"toolbar_location\":null,\"x_range\":{\"id\":\"e6a8bddc-3d0f-45cf-8351-23e13cf786cf\",\"type\":\"Range1d\"},\"x_scale\":{\"id\":\"b9072a27-7ab0-4f5a-8cb0-9c3599fc597a\",\"type\":\"LinearScale\"},\"y_range\":{\"id\":\"8bfbd4ea-2bd2-4d64-a6ab-122e34237653\",\"type\":\"Range1d\"},\"y_scale\":{\"id\":\"bb674dd4-3ca7-4d9f-acbe-a4ebd4ed3791\",\"type\":\"LinearScale\"}},\"id\":\"a69c37ac-437f-4ccb-9c2b-08a21816e2e2\",\"subtype\":\"Figure\",\"type\":\"Plot\"},{\"attributes\":{\"axis_label\":\"pressure [mb]\",\"formatter\":{\"id\":\"40674edf-fb8b-42ee-9753-1501d3df9ae2\",\"type\":\"LogTickFormatter\"},\"plot\":{\"id\":\"55cff759-7889-47da-a5c2-7a437d1d2a6c\",\"subtype\":\"Figure\",\"type\":\"Plot\"},\"ticker\":{\"id\":\"4b71d1c1-03cc-44da-b565-139c55eb316f\",\"type\":\"LogTicker\"}},\"id\":\"1a76469c-5025-49cb-850f-13d91e49f0d9\",\"type\":\"LogAxis\"},{\"attributes\":{},\"id\":\"b9072a27-7ab0-4f5a-8cb0-9c3599fc597a\",\"type\":\"LinearScale\"},{\"attributes\":{\"children\":[{\"id\":\"a69c37ac-437f-4ccb-9c2b-08a21816e2e2\",\"subtype\":\"Figure\",\"type\":\"Plot\"},{\"id\":\"55cff759-7889-47da-a5c2-7a437d1d2a6c\",\"subtype\":\"Figure\",\"type\":\"Plot\"}]},\"id\":\"1c961009-4164-4e7f-ba2d-6d46ab8d4305\",\"type\":\"Row\"},{\"attributes\":{\"source\":{\"id\":\"66538c38-e412-433b-9ef9-b601645ccca3\",\"type\":\"ColumnDataSource\"}},\"id\":\"f4c9e040-246f-4f35-9990-02de2b9f1aaf\",\"type\":\"CDSView\"},{\"attributes\":{\"line_color\":\"#4daf4a\",\"line_width\":1.5,\"x\":{\"field\":\"x\"},\"y\":{\"field\":\"y\"}},\"id\":\"478333a8-017e-4d1e-ac4c-a3b0ed7eac8a\",\"type\":\"Line\"},{\"attributes\":{},\"id\":\"f7cc0c00-cbe3-45a2-907c-00dd3d2ab7f4\",\"type\":\"PanTool\"},{\"attributes\":{\"active_drag\":\"auto\",\"active_inspect\":\"auto\",\"active_scroll\":\"auto\",\"active_tap\":\"auto\",\"tools\":[{\"id\":\"f7cc0c00-cbe3-45a2-907c-00dd3d2ab7f4\",\"type\":\"PanTool\"},{\"id\":\"ba77374e-8d46-4fef-90e3-a96261545ac4\",\"type\":\"WheelZoomTool\"},{\"id\":\"7374f848-4eec-4720-b41e-746e3661fd7e\",\"type\":\"BoxZoomTool\"},{\"id\":\"387c6187-8d02-4cce-9b12-1e27ea62017f\",\"type\":\"SaveTool\"},{\"id\":\"9aa504c5-a6d7-4b2b-8b19-73b27244629a\",\"type\":\"ResetTool\"},{\"id\":\"5bcdcc66-dddc-40bd-adf1-10ca35a4d531\",\"type\":\"HelpTool\"}]},\"id\":\"10b948f9-fd7d-4c5c-932b-6db7030fe029\",\"type\":\"Toolbar\"},{\"attributes\":{\"callback\":null,\"end\":0.01,\"start\":1020},\"id\":\"7ff47fec-f455-47ec-b722-efacef3315ad\",\"type\":\"Range1d\"},{\"attributes\":{\"num_minor_ticks\":10},\"id\":\"4b71d1c1-03cc-44da-b565-139c55eb316f\",\"type\":\"LogTicker\"},{\"attributes\":{},\"id\":\"fe28a75e-e1f3-480e-a7ae-fb2bcc3a5212\",\"type\":\"BasicTickFormatter\"},{\"attributes\":{\"plot\":null,\"text\":\"Linear pressure scale\"},\"id\":\"0a26fa59-813a-409b-9a85-a101bad573f1\",\"type\":\"Title\"},{\"attributes\":{\"items\":[{\"id\":\"2dda4aca-7e77-4014-be6e-0dfed40b6724\",\"type\":\"LegendItem\"},{\"id\":\"c99383fe-14b8-43b9-b564-f77531d079e2\",\"type\":\"LegendItem\"},{\"id\":\"21e0b856-a266-4eb0-95e5-52a049d88281\",\"type\":\"LegendItem\"}],\"label_text_font_size\":{\"value\":\"8pt\"},\"location\":[10,-30],\"plot\":{\"id\":\"55cff759-7889-47da-a5c2-7a437d1d2a6c\",\"subtype\":\"Figure\",\"type\":\"Plot\"}},\"id\":\"be3aba4e-838d-48eb-8ba0-348fba9f8085\",\"type\":\"Legend\"},{\"attributes\":{},\"id\":\"a816ce60-a8ea-4a94-9f32-fc10fbf53888\",\"type\":\"ResetTool\"},{\"attributes\":{\"children\":[{\"id\":\"1c961009-4164-4e7f-ba2d-6d46ab8d4305\",\"type\":\"Row\"}]},\"id\":\"0e8c2672-fdf3-443f-abb4-7c7739517a62\",\"type\":\"Column\"},{\"attributes\":{\"callback\":null,\"column_names\":[\"x\",\"y\"],\"data\":{\"x\":{\"__ndarray__\":\"0QWNSv7ohj+2R3zikVyIP+P/1X3ci4s/bvRDAszQjj9nk4l8ExqRP1E2jFKn25I/mJV0NBGtlD/QyLqUx46WP9ZSTQQCgZg/iifmGS6Emj+RU/el15acP0tZDyo0up4/2pPPEUp2oD9N5zcKGHahP76j8QT1P6I/5UiNJ4fxoj8Ct+kt8KWjP73nGyz3XaQ/3qWQCOYYpT/bP1t2pNSlPxcq8C8xf6Y/YQBv7qDzpT+Qz3+dCNOjP0816on9UaE/3kCs907enT+XLKCwwUuZP0vypbU+7JQ/FNgLIcE2kT/cOtxnxdKMPwq4A08DAYg/63/DP4E7gz+BDgfK7Hp9P/5wRV6lZnc/VRt0LnJ7dD/Vr3HPzHJyP1q1f29g3HA/b3jztPkIbz/VEARoFWZrP99COl/cJGc/LshH6DZDYz8UXZWPFkNfP8v4RzzxRVg/NSxPqrl4UT9LWDRJ551FP+2v8XUmKDY/Hyzj50ZmQz8Ku4Shl9NaP99X6dZ5gGg/Rx6lpibHcT+QrxHFgy13P08tL/3qcXw/idjl9c7KgD/a/Ns/+EuDP7mgPeU4uoU/FUY57EwOiD/uetvf6EmKP95qF39NaYw/dFkkpHBojj9qEmYh1CGQP0L8JMCu+5A/FAiMDKrBkT+TWJnDynWSP+V7QWl6GZM/KdBc5PSukz/bDCttVTiUP83veLbutpQ/rpdLT/0olT/7U6DSZYqVP/S/9KehzpU/uiZEw9nilT9XXvI/+buVP8tzemd/Y5U/WUp99q/ulD8m2T5y2G6UPxz43P+D7JM/\",\"dtype\":\"float64\",\"shape\":[75]},\"y\":{\"__ndarray__\":\"S/O/Q+51ND/Sv8nbtpRIP2vylNV0PVE/aTum7souWD/At0SJ8fVgPw3Iuahxymc/MSNhhJWvcD/bTfBN02d3P2zb5nxnaoA/CD5h5MAGhz8NmeH1TyaQP+zrCsc9p5Y/LbKd76fGnz/bLW5ISEmmPww9YvTcQq8/JV2OstnstT8Er5Y7M8G+P0c+r3jqkcU/5h99k6ZBzj88bCIzFzjVP4enV8oyxN0//yH99nXg5D8qOpLLf0jtP5kqGJXUifQ/c9cS8kHP/D+/DpwzojQEQIEmwoanVwxA4lgXt9HgE0BSSZ2AJuIbQAMJih9jjiNA5q4l5INuK0AwTKYKRj0zQNv5fmq8/DpAaCJseHrtQkB/+zpwzoxKQM3MzMzMeFJAZmZmZmZqWEAAAAAAAFxeQM3MzMzMJmJAmpmZmZkfZUBmZmZmZhhoQDMzMzMzEWtAAAAAAAAKbkBmZmZmZoFwQM3MzMzM/XFAMzMzMzN6c0CamZmZmfZ0QAAAAAAAc3ZAZmZmZmbvd0DNzMzMzGt5QDMzMzMz6HpAmpmZmZlkfEAAAAAAAOF9QGZmZmZmXX9AZmZmZuZsgECamZmZGSuBQM3MzMxM6YFAAAAAAICngkAzMzMzs2WDQGZmZmbmI4RAmpmZmRnihEDNzMzMTKCFQAAAAACAXoZAMzMzM7Mch0BmZmZm5tqHQJqZmZkZmYhAzczMzExXiUAAAAAAgBWKQDMzMzOz04pAZmZmZuaRi0CamZmZGVCMQM3MzMxMDo1AAAAAAIDMjUAzMzMzs4qOQGZmZmbmSI9A\",\"dtype\":\"float64\",\"shape\":[75]}}},\"id\":\"7dc5b979-1e3e-4ca5-8ca8-cfc04dd14866\",\"type\":\"ColumnDataSource\"},{\"attributes\":{\"bottom_units\":\"screen\",\"fill_alpha\":{\"value\":0.5},\"fill_color\":{\"value\":\"lightgrey\"},\"left_units\":\"screen\",\"level\":\"overlay\",\"line_alpha\":{\"value\":1.0},\"line_color\":{\"value\":\"black\"},\"line_dash\":[4,4],\"line_width\":{\"value\":2},\"plot\":null,\"render_mode\":\"css\",\"right_units\":\"screen\",\"top_units\":\"screen\"},\"id\":\"a42478cf-817a-497a-8568-8915fa7de419\",\"type\":\"BoxAnnotation\"},{\"attributes\":{\"plot\":{\"id\":\"a69c37ac-437f-4ccb-9c2b-08a21816e2e2\",\"subtype\":\"Figure\",\"type\":\"Plot\"},\"ticker\":{\"id\":\"55194772-55bd-4deb-9fa3-dadc6276e2d5\",\"type\":\"BasicTicker\"}},\"id\":\"5ea16ccd-8a19-4df0-8e85-cef11788ed5d\",\"type\":\"Grid\"},{\"attributes\":{\"axis_label\":\"cooling rate [K/day]\",\"formatter\":{\"id\":\"fe28a75e-e1f3-480e-a7ae-fb2bcc3a5212\",\"type\":\"BasicTickFormatter\"},\"plot\":{\"id\":\"a69c37ac-437f-4ccb-9c2b-08a21816e2e2\",\"subtype\":\"Figure\",\"type\":\"Plot\"},\"ticker\":{\"id\":\"55194772-55bd-4deb-9fa3-dadc6276e2d5\",\"type\":\"BasicTicker\"}},\"id\":\"1f03af03-31a6-43d4-a753-ee0726520e88\",\"type\":\"LinearAxis\"},{\"attributes\":{\"line_alpha\":0.6,\"line_color\":\"#e41a1c\",\"line_dash\":[6],\"line_width\":5,\"x\":{\"field\":\"x\"},\"y\":{\"field\":\"y\"}},\"id\":\"da143dab-c4f8-4a3b-afdf-9df0e9b5a277\",\"type\":\"Line\"},{\"attributes\":{\"axis_label\":\"pressure [mb]\",\"formatter\":{\"id\":\"b1350d80-b238-45dc-a12f-4200eadd0fa5\",\"type\":\"BasicTickFormatter\"},\"plot\":{\"id\":\"a69c37ac-437f-4ccb-9c2b-08a21816e2e2\",\"subtype\":\"Figure\",\"type\":\"Plot\"},\"ticker\":{\"id\":\"799a6ebd-eeb1-4c1b-9534-b9fb7ff6222f\",\"type\":\"BasicTicker\"}},\"id\":\"5c5efab5-791f-4997-a5f8-dc03cf2ed377\",\"type\":\"LinearAxis\"},{\"attributes\":{},\"id\":\"faf958f1-b9aa-4f79-9f18-9fe7a27acd2b\",\"type\":\"PanTool\"},{\"attributes\":{},\"id\":\"55194772-55bd-4deb-9fa3-dadc6276e2d5\",\"type\":\"BasicTicker\"},{\"attributes\":{},\"id\":\"799a6ebd-eeb1-4c1b-9534-b9fb7ff6222f\",\"type\":\"BasicTicker\"},{\"attributes\":{},\"id\":\"cb6a4d84-419b-4d72-9248-43261536cde3\",\"type\":\"WheelZoomTool\"},{\"attributes\":{\"dimension\":1,\"plot\":{\"id\":\"a69c37ac-437f-4ccb-9c2b-08a21816e2e2\",\"subtype\":\"Figure\",\"type\":\"Plot\"},\"ticker\":{\"id\":\"799a6ebd-eeb1-4c1b-9534-b9fb7ff6222f\",\"type\":\"BasicTicker\"}},\"id\":\"59cd8e45-f9ba-4c28-aa8e-b2c9fc2452b8\",\"type\":\"Grid\"},{\"attributes\":{\"overlay\":{\"id\":\"6cfc5938-0b68-4b86-b337-9f68a7271fdb\",\"type\":\"BoxAnnotation\"}},\"id\":\"654192ce-1e35-490d-b1e4-5b636f6a3958\",\"type\":\"BoxZoomTool\"},{\"attributes\":{\"line_alpha\":0.1,\"line_color\":\"#1f77b4\",\"line_width\":1.5,\"x\":{\"field\":\"x\"},\"y\":{\"field\":\"y\"}},\"id\":\"f18cc14b-a533-4173-915e-4c7f2c817f3f\",\"type\":\"Line\"},{\"attributes\":{\"callback\":null,\"end\":0.0221020286487,\"start\":-0.0004135073187},\"id\":\"e6a8bddc-3d0f-45cf-8351-23e13cf786cf\",\"type\":\"Range1d\"},{\"attributes\":{\"callback\":null,\"column_names\":[\"x\",\"y\"],\"data\":{\"x\":{\"__ndarray__\":\"PeUybmRBiD881n+qVOmJP8oE+GbeWY0/2WvYRaB7kD90bA5IpVuSP9FH9MFpTZQ/JmLx+SBQlj88YEm8imKYP619dvMwh5o/UWoqEn2+nD8X0toI+wifP0u/78eDs6A/VfffgiDroT8wh7QxDwejP3SF/yYV6KM/hGYdbnyvpD+q4p1PCHqlPwnTwzdKSKY/R60u1Lgdpz/KQRv5I82nP75zgC6skag/5PlWGE3lpz8HInyUioOlPz9XmySbrqI/mSGFCx73nz9F1g4Z9tKaP7FibJYt7ZU/2+AIQT/FkT8hHL8dQVONP5HTNopcE4g/BwY7HZ0Qgz+y26X6LwN9P3AB/APHQHc/dtY43Q8hdT+lcYWHUvpzP7aIZbWhGHM/sxF4yUoicj/A4mN6rlpwP0tRFMuZJGw/oIScmijPZz/lb756Q4hjPytMrHpjgl4/pMA4DtQxVj9+xx491cBLP55BYE0/Xjs/hk1uFs/PQz9vkX3CXVtbP24/Z+dtT2k/WNobzR1rcj/qZ2ZpAfB3P1D9R2ZuTn0/mXhot+9OgT/qIC6dCuODPzZPTGahUYY/ytJrpua8iD+Jip4gAg+LP7gbARTBL40/kqdIFWRAjz+6R7XWt5aQPxMwzFbWbpE/mNf1elw8kj8awt45VfSSP26VuHIclpM/nIiqEn8xlD9ej5S9PbmUP6C+nfj1OZU/06l7wb+xlT82n3uW9RCWPzWp/+yCWpY/nqoiYwxolj94+NNMnDiWP9CxtjsB05U/Eu3Txz1KlT9UnHqwsL2UP/Tn0xFdI5Q/\",\"dtype\":\"float64\",\"shape\":[75]},\"y\":{\"__ndarray__\":\"GhExyth1ND/Sv8nbtpRIP2vylNV0PVE/aTum7souWD/At0SJ8fVgPw3Iuahxymc/MSNhhJWvcD/bTfBN02d3P2zb5nxnaoA/CD5h5MAGhz8NmeH1TyaQP+zrCsc9p5Y/LbKd76fGnz/bLW5ISEmmPww9YvTcQq8/JV2OstnstT8Er5Y7M8G+P0c+r3jqkcU/5h99k6ZBzj88bCIzFzjVP4enV8oyxN0//yH99nXg5D8qOpLLf0jtP5kqGJXUifQ/c9cS8kHP/D+/DpwzojQEQIEmwoanVwxA4lgXt9HgE0BSSZ2AJuIbQAMJih9jjiNA5q4l5INuK0AwTKYKRj0zQNv5fmq8/DpAaCJseHrtQkB/+zpwzoxKQM3MzMzMeFJAZmZmZmZqWEAAAAAAAFxeQM3MzMzMJmJAmpmZmZkfZUBmZmZmZhhoQDMzMzMzEWtAAAAAAAAKbkBmZmZmZoFwQM3MzMzM/XFAMzMzMzN6c0CamZmZmfZ0QAAAAAAAc3ZAZmZmZmbvd0DNzMzMzGt5QDMzMzMz6HpAmpmZmZlkfEAAAAAAAOF9QGZmZmZmXX9AZmZmZuZsgECamZmZGSuBQM3MzMxM6YFAAAAAAICngkAzMzMzs2WDQGZmZmbmI4RAmpmZmRnihEDNzMzMTKCFQAAAAACAXoZAMzMzM7Mch0BmZmZm5tqHQJqZmZkZmYhAzczMzExXiUAAAAAAgBWKQDMzMzOz04pAZmZmZuaRi0CamZmZGVCMQM3MzMxMDo1AAAAAAIDMjUAzMzMzs4qOQGZmZmbmSI9A\",\"dtype\":\"float64\",\"shape\":[75]}}},\"id\":\"c1469b41-6f36-466d-b9af-0fd14de2fd94\",\"type\":\"ColumnDataSource\"},{\"attributes\":{\"line_alpha\":0.1,\"line_color\":\"#1f77b4\",\"line_dash\":[6],\"line_width\":5,\"x\":{\"field\":\"x\"},\"y\":{\"field\":\"y\"}},\"id\":\"a333dfce-c269-42c8-8339-14d32114dcab\",\"type\":\"Line\"},{\"attributes\":{\"fill_alpha\":{\"value\":0.7},\"fill_color\":{\"value\":\"#4daf4a\"},\"line_alpha\":{\"value\":0.7},\"line_color\":{\"value\":\"#4daf4a\"},\"x\":{\"field\":\"x\"},\"y\":{\"field\":\"y\"}},\"id\":\"47d1c334-958a-4789-bceb-988494040d2d\",\"type\":\"Circle\"},{\"attributes\":{\"below\":[{\"id\":\"69027546-f93d-4d86-be16-12384798d1df\",\"type\":\"LinearAxis\"}],\"left\":[{\"id\":\"1a76469c-5025-49cb-850f-13d91e49f0d9\",\"type\":\"LogAxis\"}],\"plot_height\":500,\"plot_width\":560,\"renderers\":[{\"id\":\"69027546-f93d-4d86-be16-12384798d1df\",\"type\":\"LinearAxis\"},{\"id\":\"96dfdb07-8297-4ff2-ae01-b4edc1d085aa\",\"type\":\"Grid\"},{\"id\":\"1a76469c-5025-49cb-850f-13d91e49f0d9\",\"type\":\"LogAxis\"},{\"id\":\"de201550-fc90-4802-975a-9e5743c05ace\",\"type\":\"Grid\"},{\"id\":\"6cfc5938-0b68-4b86-b337-9f68a7271fdb\",\"type\":\"BoxAnnotation\"},{\"id\":\"7dcd50a6-3829-4ede-b665-d09480ab3dd2\",\"type\":\"GlyphRenderer\"},{\"id\":\"495cb50c-b211-4338-bc59-845156a26965\",\"type\":\"GlyphRenderer\"},{\"id\":\"f586f156-72f0-4986-a8d9-0ff57bba0c68\",\"type\":\"GlyphRenderer\"},{\"id\":\"ab9621b4-3f82-4200-8fb5-dec235c48a73\",\"type\":\"GlyphRenderer\"},{\"id\":\"c46fe268-bc7d-45dd-9d42-7ead698669c8\",\"type\":\"GlyphRenderer\"},{\"id\":\"be3aba4e-838d-48eb-8ba0-348fba9f8085\",\"type\":\"Legend\"}],\"right\":[{\"id\":\"be3aba4e-838d-48eb-8ba0-348fba9f8085\",\"type\":\"Legend\"}],\"title\":{\"id\":\"e67496ba-f444-4b70-bfa8-ed005015dcd2\",\"type\":\"Title\"},\"toolbar\":{\"id\":\"9146af16-dbf6-4dbc-81a0-304391abe8ca\",\"type\":\"Toolbar\"},\"toolbar_location\":null,\"x_range\":{\"id\":\"cbbb25e0-ba97-48d2-ba66-198035089e59\",\"type\":\"Range1d\"},\"x_scale\":{\"id\":\"ec740072-1607-4cda-8c76-09b245b9ddc4\",\"type\":\"LinearScale\"},\"y_range\":{\"id\":\"7ff47fec-f455-47ec-b722-efacef3315ad\",\"type\":\"Range1d\"},\"y_scale\":{\"id\":\"4ebac402-e203-4e0c-9af2-5dcd4a962c38\",\"type\":\"LogScale\"}},\"id\":\"55cff759-7889-47da-a5c2-7a437d1d2a6c\",\"subtype\":\"Figure\",\"type\":\"Plot\"},{\"attributes\":{\"line_alpha\":0.1,\"line_color\":\"#1f77b4\",\"line_dash\":[6],\"line_width\":5,\"x\":{\"field\":\"x\"},\"y\":{\"field\":\"y\"}},\"id\":\"ed881e0c-4f71-4bde-8b00-02807f49b490\",\"type\":\"Line\"},{\"attributes\":{\"line_alpha\":0.6,\"line_color\":\"#984ea3\",\"line_width\":3,\"x\":{\"field\":\"x\"},\"y\":{\"field\":\"y\"}},\"id\":\"8cc6203b-92f0-4e1d-8711-a7a41c39ec5c\",\"type\":\"Line\"},{\"attributes\":{\"ticker\":null},\"id\":\"40674edf-fb8b-42ee-9753-1501d3df9ae2\",\"type\":\"LogTickFormatter\"},{\"attributes\":{\"data_source\":{\"id\":\"de8ae2c5-4604-4f67-8504-128fdb8c3495\",\"type\":\"ColumnDataSource\"},\"glyph\":{\"id\":\"38f9533f-c66d-449d-a7b0-f0e8871f0e31\",\"type\":\"Square\"},\"hover_glyph\":null,\"muted_glyph\":null,\"nonselection_glyph\":{\"id\":\"abb82556-bb47-455a-b5e4-2772723411cb\",\"type\":\"Square\"},\"selection_glyph\":null,\"view\":{\"id\":\"421cae0b-c6f7-4c52-9431-ae68e9896421\",\"type\":\"CDSView\"}},\"id\":\"5644c0a9-5749-4199-b7b8-8ab33d8e098d\",\"type\":\"GlyphRenderer\"},{\"attributes\":{\"data_source\":{\"id\":\"91da2550-b27f-413c-8852-852243c39043\",\"type\":\"ColumnDataSource\"},\"glyph\":{\"id\":\"1f8c42fa-08e6-49bb-b88b-b876495bb648\",\"type\":\"Line\"},\"hover_glyph\":null,\"muted_glyph\":null,\"nonselection_glyph\":{\"id\":\"6df2ad42-aedd-4089-908e-80917d1e103f\",\"type\":\"Line\"},\"selection_glyph\":null,\"view\":{\"id\":\"9c2d7533-1f82-4d43-893a-22820df2234e\",\"type\":\"CDSView\"}},\"id\":\"f586f156-72f0-4986-a8d9-0ff57bba0c68\",\"type\":\"GlyphRenderer\"},{\"attributes\":{\"callback\":null,\"column_names\":[\"x\",\"y\"],\"data\":{\"x\":{\"__ndarray__\":\"kbDDJp8PhD9E4SASn+qFP1aU2NbLxok/zCeTaSDVjT96XAr+bQWRP6RENoMENJM/N/8XHud1lT9vOckc7MmXP5EzkfV7Mpo/KQsxJwCwnD99xy086D+fP8W60uEK8KA/LKY8NNhGoj/V6uCd0nqjP/OVCKCNZqQ/dfPtWssvpT9txMbOcfSlP2zSUTQttqY/Cb/msldzpz9/EvM6Ty2oPwPTtWtMzKg/Vcv+wvDmpz9apRdcQw6lP87aqnqyyKE/QO0BBL2BnT86FUNObPmXP+hAqdIjAZM/mALKjb9Ajj+bQEZ96DuJP/1Ow1KFiIU/VtI9vL0cgj9fo8F6l+N9Px0jR+Unj3o/6nXu6hNIej8F/cvOl+B5P7/nZ3Edn3g/FBhrLmmbdj/l7ZZRHYxzP4iA2FVuCXA/BPAodCu7aT9JJrN7Y+FjP16n4wLvo1w/sNC+YuO7UT/3WtzC59g6P0CtIPItRCm/CVQi9KA/F7/fiXap2nRQPyIdtJQ5CGQ/h8KdAtZubz/bqBZdUyp1P5uHA0j8aHo/aZbVSpl6fz83jKeCbzGCPwMnjzLYkIQ/uOPRti/ahj8+NrDyVwqJPwzZvTiYHYs/ZbzbLMYPjT99yh119dyOP4jYOhqCQZA/shdqSjsAkT+hpzG8uqyRP5xRkCs3SZI/O5EjR4HYkj8B7gphW12TP6CQ4dSu2ZM/dWH/0CdNlD/BS+A+wbGUP1MWXZVG95Q/hN/w/E4FlT+lzKC2Gs2UP6FsRt05WpQ/avMM1SXHkz85eg7CYiiTP0V5yI9Wh5I/\",\"dtype\":\"float64\",\"shape\":[75]},\"y\":{\"__ndarray__\":\"GhExyth1ND/Sv8nbtpRIP2vylNV0PVE/aTum7souWD/At0SJ8fVgPw3Iuahxymc/MSNhhJWvcD/bTfBN02d3P2zb5nxnaoA/CD5h5MAGhz8NmeH1TyaQP+zrCsc9p5Y/LbKd76fGnz/bLW5ISEmmPww9YvTcQq8/JV2OstnstT8Er5Y7M8G+P0c+r3jqkcU/5h99k6ZBzj88bCIzFzjVP4enV8oyxN0//yH99nXg5D8qOpLLf0jtP5kqGJXUifQ/c9cS8kHP/D+/DpwzojQEQIEmwoanVwxA4lgXt9HgE0BSSZ2AJuIbQAMJih9jjiNA5q4l5INuK0AwTKYKRj0zQNv5fmq8/DpAaCJseHrtQkB/+zpwzoxKQM3MzMzMeFJAZmZmZmZqWEAAAAAAAFxeQM3MzMzMJmJAmpmZmZkfZUBmZmZmZhhoQDMzMzMzEWtAAAAAAAAKbkBmZmZmZoFwQM3MzMzM/XFAMzMzMzN6c0CamZmZmfZ0QAAAAAAAc3ZAZmZmZmbvd0DNzMzMzGt5QDMzMzMz6HpAmpmZmZlkfEAAAAAAAOF9QGZmZmZmXX9AZmZmZuZsgECamZmZGSuBQM3MzMxM6YFAAAAAAICngkAzMzMzs2WDQGZmZmbmI4RAmpmZmRnihEDNzMzMTKCFQAAAAACAXoZAMzMzM7Mch0BmZmZm5tqHQJqZmZkZmYhAzczMzExXiUAAAAAAgBWKQDMzMzOz04pAZmZmZuaRi0CamZmZGVCMQM3MzMxMDo1AAAAAAIDMjUAzMzMzs4qOQGZmZmbmSI9A\",\"dtype\":\"float64\",\"shape\":[75]}}},\"id\":\"6f959ab7-729b-45d0-a326-4d73c4c77381\",\"type\":\"ColumnDataSource\"},{\"attributes\":{\"fill_alpha\":{\"value\":0.7},\"fill_color\":{\"value\":\"#4daf4a\"},\"line_alpha\":{\"value\":0.7},\"line_color\":{\"value\":\"#4daf4a\"},\"x\":{\"field\":\"x\"},\"y\":{\"field\":\"y\"}},\"id\":\"122cd9a1-e9c4-4ce8-b978-91c641382f42\",\"type\":\"Circle\"},{\"attributes\":{},\"id\":\"4ebac402-e203-4e0c-9af2-5dcd4a962c38\",\"type\":\"LogScale\"},{\"attributes\":{\"fill_alpha\":{\"value\":0.1},\"fill_color\":{\"value\":\"#1f77b4\"},\"line_alpha\":{\"value\":0.1},\"line_color\":{\"value\":\"#1f77b4\"},\"x\":{\"field\":\"x\"},\"y\":{\"field\":\"y\"}},\"id\":\"1bf45ea3-1dbc-4ef2-aaed-47aed1ee5373\",\"type\":\"Circle\"},{\"attributes\":{\"data_source\":{\"id\":\"7dc5b979-1e3e-4ca5-8ca8-cfc04dd14866\",\"type\":\"ColumnDataSource\"},\"glyph\":{\"id\":\"36401f84-8c61-4e23-9e35-1df3b2f4ea79\",\"type\":\"Line\"},\"hover_glyph\":null,\"muted_glyph\":null,\"nonselection_glyph\":{\"id\":\"a333dfce-c269-42c8-8339-14d32114dcab\",\"type\":\"Line\"},\"selection_glyph\":null,\"view\":{\"id\":\"bb3e7bd6-b358-4160-8f4b-766d8b55d1ee\",\"type\":\"CDSView\"}},\"id\":\"7dcd50a6-3829-4ede-b665-d09480ab3dd2\",\"type\":\"GlyphRenderer\"},{\"attributes\":{},\"id\":\"5bcdcc66-dddc-40bd-adf1-10ca35a4d531\",\"type\":\"HelpTool\"},{\"attributes\":{\"callback\":null,\"column_names\":[\"x\",\"y\"],\"data\":{\"x\":{\"__ndarray__\":\"kbDDJp8PhD9E4SASn+qFP1aU2NbLxok/zCeTaSDVjT96XAr+bQWRP6RENoMENJM/N/8XHud1lT9vOckc7MmXP5EzkfV7Mpo/KQsxJwCwnD99xy086D+fP8W60uEK8KA/LKY8NNhGoj/V6uCd0nqjP/OVCKCNZqQ/dfPtWssvpT9txMbOcfSlP2zSUTQttqY/Cb/msldzpz9/EvM6Ty2oPwPTtWtMzKg/Vcv+wvDmpz9apRdcQw6lP87aqnqyyKE/QO0BBL2BnT86FUNObPmXP+hAqdIjAZM/mALKjb9Ajj+bQEZ96DuJP/1Ow1KFiIU/VtI9vL0cgj9fo8F6l+N9Px0jR+Unj3o/6nXu6hNIej8F/cvOl+B5P7/nZ3Edn3g/FBhrLmmbdj/l7ZZRHYxzP4iA2FVuCXA/BPAodCu7aT9JJrN7Y+FjP16n4wLvo1w/sNC+YuO7UT/3WtzC59g6P0CtIPItRCm/CVQi9KA/F7/fiXap2nRQPyIdtJQ5CGQ/h8KdAtZubz/bqBZdUyp1P5uHA0j8aHo/aZbVSpl6fz83jKeCbzGCPwMnjzLYkIQ/uOPRti/ahj8+NrDyVwqJPwzZvTiYHYs/ZbzbLMYPjT99yh119dyOP4jYOhqCQZA/shdqSjsAkT+hpzG8uqyRP5xRkCs3SZI/O5EjR4HYkj8B7gphW12TP6CQ4dSu2ZM/dWH/0CdNlD/BS+A+wbGUP1MWXZVG95Q/hN/w/E4FlT+lzKC2Gs2UP6FsRt05WpQ/avMM1SXHkz85eg7CYiiTP0V5yI9Wh5I/\",\"dtype\":\"float64\",\"shape\":[75]},\"y\":{\"__ndarray__\":\"GhExyth1ND/Sv8nbtpRIP2vylNV0PVE/aTum7souWD/At0SJ8fVgPw3Iuahxymc/MSNhhJWvcD/bTfBN02d3P2zb5nxnaoA/CD5h5MAGhz8NmeH1TyaQP+zrCsc9p5Y/LbKd76fGnz/bLW5ISEmmPww9YvTcQq8/JV2OstnstT8Er5Y7M8G+P0c+r3jqkcU/5h99k6ZBzj88bCIzFzjVP4enV8oyxN0//yH99nXg5D8qOpLLf0jtP5kqGJXUifQ/c9cS8kHP/D+/DpwzojQEQIEmwoanVwxA4lgXt9HgE0BSSZ2AJuIbQAMJih9jjiNA5q4l5INuK0AwTKYKRj0zQNv5fmq8/DpAaCJseHrtQkB/+zpwzoxKQM3MzMzMeFJAZmZmZmZqWEAAAAAAAFxeQM3MzMzMJmJAmpmZmZkfZUBmZmZmZhhoQDMzMzMzEWtAAAAAAAAKbkBmZmZmZoFwQM3MzMzM/XFAMzMzMzN6c0CamZmZmfZ0QAAAAAAAc3ZAZmZmZmbvd0DNzMzMzGt5QDMzMzMz6HpAmpmZmZlkfEAAAAAAAOF9QGZmZmZmXX9AZmZmZuZsgECamZmZGSuBQM3MzMxM6YFAAAAAAICngkAzMzMzs2WDQGZmZmbmI4RAmpmZmRnihEDNzMzMTKCFQAAAAACAXoZAMzMzM7Mch0BmZmZm5tqHQJqZmZkZmYhAzczMzExXiUAAAAAAgBWKQDMzMzOz04pAZmZmZuaRi0CamZmZGVCMQM3MzMxMDo1AAAAAAIDMjUAzMzMzs4qOQGZmZmbmSI9A\",\"dtype\":\"float64\",\"shape\":[75]}}},\"id\":\"91da2550-b27f-413c-8852-852243c39043\",\"type\":\"ColumnDataSource\"},{\"attributes\":{\"active_drag\":\"auto\",\"active_inspect\":\"auto\",\"active_scroll\":\"auto\",\"active_tap\":\"auto\",\"tools\":[{\"id\":\"faf958f1-b9aa-4f79-9f18-9fe7a27acd2b\",\"type\":\"PanTool\"},{\"id\":\"cb6a4d84-419b-4d72-9248-43261536cde3\",\"type\":\"WheelZoomTool\"},{\"id\":\"654192ce-1e35-490d-b1e4-5b636f6a3958\",\"type\":\"BoxZoomTool\"},{\"id\":\"2cfc1b47-c6fd-43d9-9ea9-4bb7df4726d0\",\"type\":\"SaveTool\"},{\"id\":\"a816ce60-a8ea-4a94-9f32-fc10fbf53888\",\"type\":\"ResetTool\"},{\"id\":\"8afd34d3-3284-4d22-8f6f-afe28243745e\",\"type\":\"HelpTool\"}]},\"id\":\"9146af16-dbf6-4dbc-81a0-304391abe8ca\",\"type\":\"Toolbar\"},{\"attributes\":{\"dimension\":1,\"plot\":{\"id\":\"55cff759-7889-47da-a5c2-7a437d1d2a6c\",\"subtype\":\"Figure\",\"type\":\"Plot\"},\"ticker\":{\"id\":\"4b71d1c1-03cc-44da-b565-139c55eb316f\",\"type\":\"LogTicker\"}},\"id\":\"de201550-fc90-4802-975a-9e5743c05ace\",\"type\":\"Grid\"},{\"attributes\":{},\"id\":\"27348133-374d-4b61-bc37-3b4aee723abf\",\"type\":\"BasicTickFormatter\"},{\"attributes\":{\"label\":{\"value\":\"CLIRAD `coolr_bands`\"},\"renderers\":[{\"id\":\"7dcd50a6-3829-4ede-b665-d09480ab3dd2\",\"type\":\"GlyphRenderer\"}]},\"id\":\"2dda4aca-7e77-4014-be6e-0dfed40b6724\",\"type\":\"LegendItem\"},{\"attributes\":{\"axis_label\":\"cooling rate [K/day]\",\"formatter\":{\"id\":\"27348133-374d-4b61-bc37-3b4aee723abf\",\"type\":\"BasicTickFormatter\"},\"plot\":{\"id\":\"55cff759-7889-47da-a5c2-7a437d1d2a6c\",\"subtype\":\"Figure\",\"type\":\"Plot\"},\"ticker\":{\"id\":\"4bda87e3-9943-47c0-8c17-0ab4e18a1351\",\"type\":\"BasicTicker\"}},\"id\":\"69027546-f93d-4d86-be16-12384798d1df\",\"type\":\"LinearAxis\"},{\"attributes\":{\"data_source\":{\"id\":\"6f959ab7-729b-45d0-a326-4d73c4c77381\",\"type\":\"ColumnDataSource\"},\"glyph\":{\"id\":\"122cd9a1-e9c4-4ce8-b978-91c641382f42\",\"type\":\"Circle\"},\"hover_glyph\":null,\"muted_glyph\":null,\"nonselection_glyph\":{\"id\":\"1bf45ea3-1dbc-4ef2-aaed-47aed1ee5373\",\"type\":\"Circle\"},\"selection_glyph\":null,\"view\":{\"id\":\"cd51ce82-1314-40d5-81be-c7dafa621e63\",\"type\":\"CDSView\"}},\"id\":\"495cb50c-b211-4338-bc59-845156a26965\",\"type\":\"GlyphRenderer\"},{\"attributes\":{\"plot\":{\"id\":\"55cff759-7889-47da-a5c2-7a437d1d2a6c\",\"subtype\":\"Figure\",\"type\":\"Plot\"},\"ticker\":{\"id\":\"4bda87e3-9943-47c0-8c17-0ab4e18a1351\",\"type\":\"BasicTicker\"}},\"id\":\"96dfdb07-8297-4ff2-ae01-b4edc1d085aa\",\"type\":\"Grid\"},{\"attributes\":{},\"id\":\"ec740072-1607-4cda-8c76-09b245b9ddc4\",\"type\":\"LinearScale\"},{\"attributes\":{\"source\":{\"id\":\"6f959ab7-729b-45d0-a326-4d73c4c77381\",\"type\":\"ColumnDataSource\"}},\"id\":\"cd51ce82-1314-40d5-81be-c7dafa621e63\",\"type\":\"CDSView\"},{\"attributes\":{\"line_color\":\"#4daf4a\",\"line_width\":1.5,\"x\":{\"field\":\"x\"},\"y\":{\"field\":\"y\"}},\"id\":\"1f8c42fa-08e6-49bb-b88b-b876495bb648\",\"type\":\"Line\"},{\"attributes\":{\"callback\":null,\"column_names\":[\"x\",\"y\"],\"data\":{\"x\":{\"__ndarray__\":\"PeUybmRBiD881n+qVOmJP8oE+GbeWY0/2WvYRaB7kD90bA5IpVuSP9FH9MFpTZQ/JmLx+SBQlj88YEm8imKYP619dvMwh5o/UWoqEn2+nD8X0toI+wifP0u/78eDs6A/VfffgiDroT8wh7QxDwejP3SF/yYV6KM/hGYdbnyvpD+q4p1PCHqlPwnTwzdKSKY/R60u1Lgdpz/KQRv5I82nP75zgC6skag/5PlWGE3lpz8HInyUioOlPz9XmySbrqI/mSGFCx73nz9F1g4Z9tKaP7FibJYt7ZU/2+AIQT/FkT8hHL8dQVONP5HTNopcE4g/BwY7HZ0Qgz+y26X6LwN9P3AB/APHQHc/dtY43Q8hdT+lcYWHUvpzP7aIZbWhGHM/sxF4yUoicj/A4mN6rlpwP0tRFMuZJGw/oIScmijPZz/lb756Q4hjPytMrHpjgl4/pMA4DtQxVj9+xx491cBLP55BYE0/Xjs/hk1uFs/PQz9vkX3CXVtbP24/Z+dtT2k/WNobzR1rcj/qZ2ZpAfB3P1D9R2ZuTn0/mXhot+9OgT/qIC6dCuODPzZPTGahUYY/ytJrpua8iD+Jip4gAg+LP7gbARTBL40/kqdIFWRAjz+6R7XWt5aQPxMwzFbWbpE/mNf1elw8kj8awt45VfSSP26VuHIclpM/nIiqEn8xlD9ej5S9PbmUP6C+nfj1OZU/06l7wb+xlT82n3uW9RCWPzWp/+yCWpY/nqoiYwxolj94+NNMnDiWP9CxtjsB05U/Eu3Txz1KlT9UnHqwsL2UP/Tn0xFdI5Q/\",\"dtype\":\"float64\",\"shape\":[75]},\"y\":{\"__ndarray__\":\"GhExyth1ND/Sv8nbtpRIP2vylNV0PVE/aTum7souWD/At0SJ8fVgPw3Iuahxymc/MSNhhJWvcD/bTfBN02d3P2zb5nxnaoA/CD5h5MAGhz8NmeH1TyaQP+zrCsc9p5Y/LbKd76fGnz/bLW5ISEmmPww9YvTcQq8/JV2OstnstT8Er5Y7M8G+P0c+r3jqkcU/5h99k6ZBzj88bCIzFzjVP4enV8oyxN0//yH99nXg5D8qOpLLf0jtP5kqGJXUifQ/c9cS8kHP/D+/DpwzojQEQIEmwoanVwxA4lgXt9HgE0BSSZ2AJuIbQAMJih9jjiNA5q4l5INuK0AwTKYKRj0zQNv5fmq8/DpAaCJseHrtQkB/+zpwzoxKQM3MzMzMeFJAZmZmZmZqWEAAAAAAAFxeQM3MzMzMJmJAmpmZmZkfZUBmZmZmZhhoQDMzMzMzEWtAAAAAAAAKbkBmZmZmZoFwQM3MzMzM/XFAMzMzMzN6c0CamZmZmfZ0QAAAAAAAc3ZAZmZmZmbvd0DNzMzMzGt5QDMzMzMz6HpAmpmZmZlkfEAAAAAAAOF9QGZmZmZmXX9AZmZmZuZsgECamZmZGSuBQM3MzMxM6YFAAAAAAICngkAzMzMzs2WDQGZmZmbmI4RAmpmZmRnihEDNzMzMTKCFQAAAAACAXoZAMzMzM7Mch0BmZmZm5tqHQJqZmZkZmYhAzczMzExXiUAAAAAAgBWKQDMzMzOz04pAZmZmZuaRi0CamZmZGVCMQM3MzMxMDo1AAAAAAIDMjUAzMzMzs4qOQGZmZmbmSI9A\",\"dtype\":\"float64\",\"shape\":[75]}}},\"id\":\"de8ae2c5-4604-4f67-8504-128fdb8c3495\",\"type\":\"ColumnDataSource\"},{\"attributes\":{\"source\":{\"id\":\"eb1710b7-b304-48b5-a1d9-196124a23ec1\",\"type\":\"ColumnDataSource\"}},\"id\":\"01223609-ca59-4815-85a1-8127f142e35c\",\"type\":\"CDSView\"},{\"attributes\":{\"line_alpha\":0.1,\"line_color\":\"#1f77b4\",\"line_width\":1.5,\"x\":{\"field\":\"x\"},\"y\":{\"field\":\"y\"}},\"id\":\"6df2ad42-aedd-4089-908e-80917d1e103f\",\"type\":\"Line\"},{\"attributes\":{\"callback\":null,\"column_names\":[\"x\",\"y\"],\"data\":{\"x\":{\"__ndarray__\":\"PeUybmRBiD881n+qVOmJP8oE+GbeWY0/2WvYRaB7kD90bA5IpVuSP9FH9MFpTZQ/JmLx+SBQlj88YEm8imKYP619dvMwh5o/UWoqEn2+nD8X0toI+wifP0u/78eDs6A/VfffgiDroT8wh7QxDwejP3SF/yYV6KM/hGYdbnyvpD+q4p1PCHqlPwnTwzdKSKY/R60u1Lgdpz/KQRv5I82nP75zgC6skag/5PlWGE3lpz8HInyUioOlPz9XmySbrqI/mSGFCx73nz9F1g4Z9tKaP7FibJYt7ZU/2+AIQT/FkT8hHL8dQVONP5HTNopcE4g/BwY7HZ0Qgz+y26X6LwN9P3AB/APHQHc/dtY43Q8hdT+lcYWHUvpzP7aIZbWhGHM/sxF4yUoicj/A4mN6rlpwP0tRFMuZJGw/oIScmijPZz/lb756Q4hjPytMrHpjgl4/pMA4DtQxVj9+xx491cBLP55BYE0/Xjs/hk1uFs/PQz9vkX3CXVtbP24/Z+dtT2k/WNobzR1rcj/qZ2ZpAfB3P1D9R2ZuTn0/mXhot+9OgT/qIC6dCuODPzZPTGahUYY/ytJrpua8iD+Jip4gAg+LP7gbARTBL40/kqdIFWRAjz+6R7XWt5aQPxMwzFbWbpE/mNf1elw8kj8awt45VfSSP26VuHIclpM/nIiqEn8xlD9ej5S9PbmUP6C+nfj1OZU/06l7wb+xlT82n3uW9RCWPzWp/+yCWpY/nqoiYwxolj94+NNMnDiWP9CxtjsB05U/Eu3Txz1KlT9UnHqwsL2UP/Tn0xFdI5Q/\",\"dtype\":\"float64\",\"shape\":[75]},\"y\":{\"__ndarray__\":\"GhExyth1ND/Sv8nbtpRIP2vylNV0PVE/aTum7souWD/At0SJ8fVgPw3Iuahxymc/MSNhhJWvcD/bTfBN02d3P2zb5nxnaoA/CD5h5MAGhz8NmeH1TyaQP+zrCsc9p5Y/LbKd76fGnz/bLW5ISEmmPww9YvTcQq8/JV2OstnstT8Er5Y7M8G+P0c+r3jqkcU/5h99k6ZBzj88bCIzFzjVP4enV8oyxN0//yH99nXg5D8qOpLLf0jtP5kqGJXUifQ/c9cS8kHP/D+/DpwzojQEQIEmwoanVwxA4lgXt9HgE0BSSZ2AJuIbQAMJih9jjiNA5q4l5INuK0AwTKYKRj0zQNv5fmq8/DpAaCJseHrtQkB/+zpwzoxKQM3MzMzMeFJAZmZmZmZqWEAAAAAAAFxeQM3MzMzMJmJAmpmZmZkfZUBmZmZmZhhoQDMzMzMzEWtAAAAAAAAKbkBmZmZmZoFwQM3MzMzM/XFAMzMzMzN6c0CamZmZmfZ0QAAAAAAAc3ZAZmZmZmbvd0DNzMzMzGt5QDMzMzMz6HpAmpmZmZlkfEAAAAAAAOF9QGZmZmZmXX9AZmZmZuZsgECamZmZGSuBQM3MzMxM6YFAAAAAAICngkAzMzMzs2WDQGZmZmbmI4RAmpmZmRnihEDNzMzMTKCFQAAAAACAXoZAMzMzM7Mch0BmZmZm5tqHQJqZmZkZmYhAzczMzExXiUAAAAAAgBWKQDMzMzOz04pAZmZmZuaRi0CamZmZGVCMQM3MzMxMDo1AAAAAAIDMjUAzMzMzs4qOQGZmZmbmSI9A\",\"dtype\":\"float64\",\"shape\":[75]}}},\"id\":\"9811ea41-c037-40c0-8a20-9324ee4fe209\",\"type\":\"ColumnDataSource\"},{\"attributes\":{\"source\":{\"id\":\"91da2550-b27f-413c-8852-852243c39043\",\"type\":\"ColumnDataSource\"}},\"id\":\"9c2d7533-1f82-4d43-893a-22820df2234e\",\"type\":\"CDSView\"},{\"attributes\":{\"fill_alpha\":{\"value\":0.7},\"fill_color\":{\"value\":\"#984ea3\"},\"line_alpha\":{\"value\":0.7},\"line_color\":{\"value\":\"#984ea3\"},\"x\":{\"field\":\"x\"},\"y\":{\"field\":\"y\"}},\"id\":\"c0b69b43-73ec-41bf-a6c3-f0eb44d85887\",\"type\":\"Square\"},{\"attributes\":{\"data_source\":{\"id\":\"c1469b41-6f36-466d-b9af-0fd14de2fd94\",\"type\":\"ColumnDataSource\"},\"glyph\":{\"id\":\"c0b69b43-73ec-41bf-a6c3-f0eb44d85887\",\"type\":\"Square\"},\"hover_glyph\":null,\"muted_glyph\":null,\"nonselection_glyph\":{\"id\":\"e8dabedd-48ea-408d-9634-209f15043847\",\"type\":\"Square\"},\"selection_glyph\":null,\"view\":{\"id\":\"ab00c887-8bec-4b22-8ca7-6808e9248350\",\"type\":\"CDSView\"}},\"id\":\"ab9621b4-3f82-4200-8fb5-dec235c48a73\",\"type\":\"GlyphRenderer\"},{\"attributes\":{\"callback\":null,\"end\":0.048898929891000004,\"start\":0.0014428290089999998},\"id\":\"cbbb25e0-ba97-48d2-ba66-198035089e59\",\"type\":\"Range1d\"},{\"attributes\":{\"fill_alpha\":{\"value\":0.1},\"fill_color\":{\"value\":\"#1f77b4\"},\"line_alpha\":{\"value\":0.1},\"line_color\":{\"value\":\"#1f77b4\"},\"x\":{\"field\":\"x\"},\"y\":{\"field\":\"y\"}},\"id\":\"e8dabedd-48ea-408d-9634-209f15043847\",\"type\":\"Square\"},{\"attributes\":{\"source\":{\"id\":\"c1469b41-6f36-466d-b9af-0fd14de2fd94\",\"type\":\"ColumnDataSource\"}},\"id\":\"ab00c887-8bec-4b22-8ca7-6808e9248350\",\"type\":\"CDSView\"},{\"attributes\":{\"line_alpha\":0.6,\"line_color\":\"#984ea3\",\"line_width\":3,\"x\":{\"field\":\"x\"},\"y\":{\"field\":\"y\"}},\"id\":\"fc768c29-cfc4-42aa-a027-12cd68a0773d\",\"type\":\"Line\"},{\"attributes\":{\"data_source\":{\"id\":\"9811ea41-c037-40c0-8a20-9324ee4fe209\",\"type\":\"ColumnDataSource\"},\"glyph\":{\"id\":\"fc768c29-cfc4-42aa-a027-12cd68a0773d\",\"type\":\"Line\"},\"hover_glyph\":null,\"muted_glyph\":null,\"nonselection_glyph\":{\"id\":\"b9743b9d-c8a1-4b0a-a85c-b13b8a98e72a\",\"type\":\"Line\"},\"selection_glyph\":null,\"view\":{\"id\":\"c67d3ac1-11e3-405f-990d-21a4368fdc49\",\"type\":\"CDSView\"}},\"id\":\"c46fe268-bc7d-45dd-9d42-7ead698669c8\",\"type\":\"GlyphRenderer\"},{\"attributes\":{\"fill_alpha\":{\"value\":0.1},\"fill_color\":{\"value\":\"#1f77b4\"},\"line_alpha\":{\"value\":0.1},\"line_color\":{\"value\":\"#1f77b4\"},\"x\":{\"field\":\"x\"},\"y\":{\"field\":\"y\"}},\"id\":\"246e4497-2f2e-42a0-abe0-932ad9b2fef0\",\"type\":\"Circle\"},{\"attributes\":{\"label\":{\"value\":\"CRD\"},\"renderers\":[{\"id\":\"495cb50c-b211-4338-bc59-845156a26965\",\"type\":\"GlyphRenderer\"},{\"id\":\"f586f156-72f0-4986-a8d9-0ff57bba0c68\",\"type\":\"GlyphRenderer\"}]},\"id\":\"c99383fe-14b8-43b9-b564-f77531d079e2\",\"type\":\"LegendItem\"},{\"attributes\":{\"line_alpha\":0.1,\"line_color\":\"#1f77b4\",\"line_width\":3,\"x\":{\"field\":\"x\"},\"y\":{\"field\":\"y\"}},\"id\":\"b9743b9d-c8a1-4b0a-a85c-b13b8a98e72a\",\"type\":\"Line\"},{\"attributes\":{\"callback\":null,\"column_names\":[\"x\",\"y\"],\"data\":{\"x\":{\"__ndarray__\":\"PeUybmRBiD881n+qVOmJP8oE+GbeWY0/2WvYRaB7kD90bA5IpVuSP9FH9MFpTZQ/JmLx+SBQlj88YEm8imKYP619dvMwh5o/UWoqEn2+nD8X0toI+wifP0u/78eDs6A/VfffgiDroT8wh7QxDwejP3SF/yYV6KM/hGYdbnyvpD+q4p1PCHqlPwnTwzdKSKY/R60u1Lgdpz/KQRv5I82nP75zgC6skag/5PlWGE3lpz8HInyUioOlPz9XmySbrqI/mSGFCx73nz9F1g4Z9tKaP7FibJYt7ZU/2+AIQT/FkT8hHL8dQVONP5HTNopcE4g/BwY7HZ0Qgz+y26X6LwN9P3AB/APHQHc/dtY43Q8hdT+lcYWHUvpzP7aIZbWhGHM/sxF4yUoicj/A4mN6rlpwP0tRFMuZJGw/oIScmijPZz/lb756Q4hjPytMrHpjgl4/pMA4DtQxVj9+xx491cBLP55BYE0/Xjs/hk1uFs/PQz9vkX3CXVtbP24/Z+dtT2k/WNobzR1rcj/qZ2ZpAfB3P1D9R2ZuTn0/mXhot+9OgT/qIC6dCuODPzZPTGahUYY/ytJrpua8iD+Jip4gAg+LP7gbARTBL40/kqdIFWRAjz+6R7XWt5aQPxMwzFbWbpE/mNf1elw8kj8awt45VfSSP26VuHIclpM/nIiqEn8xlD9ej5S9PbmUP6C+nfj1OZU/06l7wb+xlT82n3uW9RCWPzWp/+yCWpY/nqoiYwxolj94+NNMnDiWP9CxtjsB05U/Eu3Txz1KlT9UnHqwsL2UP/Tn0xFdI5Q/\",\"dtype\":\"float64\",\"shape\":[75]},\"y\":{\"__ndarray__\":\"GhExyth1ND/Sv8nbtpRIP2vylNV0PVE/aTum7souWD/At0SJ8fVgPw3Iuahxymc/MSNhhJWvcD/bTfBN02d3P2zb5nxnaoA/CD5h5MAGhz8NmeH1TyaQP+zrCsc9p5Y/LbKd76fGnz/bLW5ISEmmPww9YvTcQq8/JV2OstnstT8Er5Y7M8G+P0c+r3jqkcU/5h99k6ZBzj88bCIzFzjVP4enV8oyxN0//yH99nXg5D8qOpLLf0jtP5kqGJXUifQ/c9cS8kHP/D+/DpwzojQEQIEmwoanVwxA4lgXt9HgE0BSSZ2AJuIbQAMJih9jjiNA5q4l5INuK0AwTKYKRj0zQNv5fmq8/DpAaCJseHrtQkB/+zpwzoxKQM3MzMzMeFJAZmZmZmZqWEAAAAAAAFxeQM3MzMzMJmJAmpmZmZkfZUBmZmZmZhhoQDMzMzMzEWtAAAAAAAAKbkBmZmZmZoFwQM3MzMzM/XFAMzMzMzN6c0CamZmZmfZ0QAAAAAAAc3ZAZmZmZmbvd0DNzMzMzGt5QDMzMzMz6HpAmpmZmZlkfEAAAAAAAOF9QGZmZmZmXX9AZmZmZuZsgECamZmZGSuBQM3MzMxM6YFAAAAAAICngkAzMzMzs2WDQGZmZmbmI4RAmpmZmRnihEDNzMzMTKCFQAAAAACAXoZAMzMzM7Mch0BmZmZm5tqHQJqZmZkZmYhAzczMzExXiUAAAAAAgBWKQDMzMzOz04pAZmZmZuaRi0CamZmZGVCMQM3MzMxMDo1AAAAAAIDMjUAzMzMzs4qOQGZmZmbmSI9A\",\"dtype\":\"float64\",\"shape\":[75]}}},\"id\":\"10e3325e-b377-46ab-af36-272c658ee5c2\",\"type\":\"ColumnDataSource\"},{\"attributes\":{\"source\":{\"id\":\"9811ea41-c037-40c0-8a20-9324ee4fe209\",\"type\":\"ColumnDataSource\"}},\"id\":\"c67d3ac1-11e3-405f-990d-21a4368fdc49\",\"type\":\"CDSView\"},{\"attributes\":{\"toolbar\":{\"id\":\"1f230a98-0b38-42ee-b6ce-d39960fe6040\",\"type\":\"ProxyToolbar\"},\"toolbar_location\":\"above\"},\"id\":\"9cd120c3-baf2-43ab-be3b-a36adf38c0aa\",\"type\":\"ToolbarBox\"},{\"attributes\":{},\"id\":\"b1350d80-b238-45dc-a12f-4200eadd0fa5\",\"type\":\"BasicTickFormatter\"},{\"attributes\":{\"label\":{\"value\":\"WGT igg=10 wgt_flux=2\"},\"renderers\":[{\"id\":\"ab9621b4-3f82-4200-8fb5-dec235c48a73\",\"type\":\"GlyphRenderer\"},{\"id\":\"c46fe268-bc7d-45dd-9d42-7ead698669c8\",\"type\":\"GlyphRenderer\"}]},\"id\":\"21e0b856-a266-4eb0-95e5-52a049d88281\",\"type\":\"LegendItem\"},{\"attributes\":{\"fill_alpha\":{\"value\":0.1},\"fill_color\":{\"value\":\"#1f77b4\"},\"line_alpha\":{\"value\":0.1},\"line_color\":{\"value\":\"#1f77b4\"},\"x\":{\"field\":\"x\"},\"y\":{\"field\":\"y\"}},\"id\":\"abb82556-bb47-455a-b5e4-2772723411cb\",\"type\":\"Square\"},{\"attributes\":{\"tools\":[{\"id\":\"f7cc0c00-cbe3-45a2-907c-00dd3d2ab7f4\",\"type\":\"PanTool\"},{\"id\":\"ba77374e-8d46-4fef-90e3-a96261545ac4\",\"type\":\"WheelZoomTool\"},{\"id\":\"7374f848-4eec-4720-b41e-746e3661fd7e\",\"type\":\"BoxZoomTool\"},{\"id\":\"387c6187-8d02-4cce-9b12-1e27ea62017f\",\"type\":\"SaveTool\"},{\"id\":\"9aa504c5-a6d7-4b2b-8b19-73b27244629a\",\"type\":\"ResetTool\"},{\"id\":\"5bcdcc66-dddc-40bd-adf1-10ca35a4d531\",\"type\":\"HelpTool\"},{\"id\":\"faf958f1-b9aa-4f79-9f18-9fe7a27acd2b\",\"type\":\"PanTool\"},{\"id\":\"cb6a4d84-419b-4d72-9248-43261536cde3\",\"type\":\"WheelZoomTool\"},{\"id\":\"654192ce-1e35-490d-b1e4-5b636f6a3958\",\"type\":\"BoxZoomTool\"},{\"id\":\"2cfc1b47-c6fd-43d9-9ea9-4bb7df4726d0\",\"type\":\"SaveTool\"},{\"id\":\"a816ce60-a8ea-4a94-9f32-fc10fbf53888\",\"type\":\"ResetTool\"},{\"id\":\"8afd34d3-3284-4d22-8f6f-afe28243745e\",\"type\":\"HelpTool\"}]},\"id\":\"1f230a98-0b38-42ee-b6ce-d39960fe6040\",\"type\":\"ProxyToolbar\"},{\"attributes\":{\"fill_alpha\":{\"value\":0.7},\"fill_color\":{\"value\":\"#984ea3\"},\"line_alpha\":{\"value\":0.7},\"line_color\":{\"value\":\"#984ea3\"},\"x\":{\"field\":\"x\"},\"y\":{\"field\":\"y\"}},\"id\":\"38f9533f-c66d-449d-a7b0-f0e8871f0e31\",\"type\":\"Square\"},{\"attributes\":{\"data_source\":{\"id\":\"66538c38-e412-433b-9ef9-b601645ccca3\",\"type\":\"ColumnDataSource\"},\"glyph\":{\"id\":\"47d1c334-958a-4789-bceb-988494040d2d\",\"type\":\"Circle\"},\"hover_glyph\":null,\"muted_glyph\":null,\"nonselection_glyph\":{\"id\":\"246e4497-2f2e-42a0-abe0-932ad9b2fef0\",\"type\":\"Circle\"},\"selection_glyph\":null,\"view\":{\"id\":\"f4c9e040-246f-4f35-9990-02de2b9f1aaf\",\"type\":\"CDSView\"}},\"id\":\"c7080a2b-4a4f-49a3-9ca8-2edef57a669a\",\"type\":\"GlyphRenderer\"},{\"attributes\":{\"children\":[{\"id\":\"9cd120c3-baf2-43ab-be3b-a36adf38c0aa\",\"type\":\"ToolbarBox\"},{\"id\":\"0e8c2672-fdf3-443f-abb4-7c7739517a62\",\"type\":\"Column\"}]},\"id\":\"c1b061ed-aaec-4e36-8c14-989f9d803cf3\",\"type\":\"Column\"},{\"attributes\":{\"data_source\":{\"id\":\"10e3325e-b377-46ab-af36-272c658ee5c2\",\"type\":\"ColumnDataSource\"},\"glyph\":{\"id\":\"8cc6203b-92f0-4e1d-8711-a7a41c39ec5c\",\"type\":\"Line\"},\"hover_glyph\":null,\"muted_glyph\":null,\"nonselection_glyph\":{\"id\":\"a125977c-69be-40d1-97b3-c686a8e1e350\",\"type\":\"Line\"},\"selection_glyph\":null,\"view\":{\"id\":\"d460f002-fe63-42ff-b52c-2923f1254056\",\"type\":\"CDSView\"}},\"id\":\"974f3b8b-c098-49bb-a7b3-4b5b4b9053b8\",\"type\":\"GlyphRenderer\"},{\"attributes\":{\"source\":{\"id\":\"de8ae2c5-4604-4f67-8504-128fdb8c3495\",\"type\":\"ColumnDataSource\"}},\"id\":\"421cae0b-c6f7-4c52-9431-ae68e9896421\",\"type\":\"CDSView\"},{\"attributes\":{\"line_alpha\":0.1,\"line_color\":\"#1f77b4\",\"line_width\":3,\"x\":{\"field\":\"x\"},\"y\":{\"field\":\"y\"}},\"id\":\"a125977c-69be-40d1-97b3-c686a8e1e350\",\"type\":\"Line\"},{\"attributes\":{\"plot\":null,\"text\":\"Log pressure scale\"},\"id\":\"e67496ba-f444-4b70-bfa8-ed005015dcd2\",\"type\":\"Title\"},{\"attributes\":{\"source\":{\"id\":\"10e3325e-b377-46ab-af36-272c658ee5c2\",\"type\":\"ColumnDataSource\"}},\"id\":\"d460f002-fe63-42ff-b52c-2923f1254056\",\"type\":\"CDSView\"},{\"attributes\":{\"source\":{\"id\":\"7dc5b979-1e3e-4ca5-8ca8-cfc04dd14866\",\"type\":\"ColumnDataSource\"}},\"id\":\"bb3e7bd6-b358-4160-8f4b-766d8b55d1ee\",\"type\":\"CDSView\"},{\"attributes\":{},\"id\":\"4bda87e3-9943-47c0-8c17-0ab4e18a1351\",\"type\":\"BasicTicker\"}],\"root_ids\":[\"c1b061ed-aaec-4e36-8c14-989f9d803cf3\"]},\"title\":\"Bokeh Application\",\"version\":\"0.12.14\"}};\n",
       "  var render_items = [{\"docid\":\"1a0ccaf1-9c95-4d78-b0c1-ec1442df61fa\",\"elementid\":\"f7c46e6f-13ef-49e5-b039-99e24abc155d\",\"modelid\":\"c1b061ed-aaec-4e36-8c14-989f9d803cf3\"}];\n",
       "  root.Bokeh.embed.embed_items_notebook(docs_json, render_items);\n",
       "\n",
       "  }\n",
       "  if (root.Bokeh !== undefined) {\n",
       "    embed_document(root);\n",
       "  } else {\n",
       "    var attempts = 0;\n",
       "    var timer = setInterval(function(root) {\n",
       "      if (root.Bokeh !== undefined) {\n",
       "        embed_document(root);\n",
       "        clearInterval(timer);\n",
       "      }\n",
       "      attempts++;\n",
       "      if (attempts > 100) {\n",
       "        console.log(\"Bokeh: ERROR: Unable to run BokehJS code because BokehJS library is missing\")\n",
       "        clearInterval(timer);\n",
       "      }\n",
       "    }, 10, root)\n",
       "  }\n",
       "})(window);"
      ],
      "application/vnd.bokehjs_exec.v0+json": ""
     },
     "metadata": {
      "application/vnd.bokehjs_exec.v0+json": {
       "id": "c1b061ed-aaec-4e36-8c14-989f9d803cf3"
      }
     },
     "output_type": "display_data"
    },
    {
     "name": "stdout",
     "output_type": "stream",
     "text": [
      "FIGURE. Cooling rate profiles.\n"
     ]
    },
    {
     "data": {
      "text/html": [
       "<a id=\"Flux_Comparison\"></a>"
      ],
      "text/plain": [
       "<IPython.core.display.HTML object>"
      ]
     },
     "metadata": {},
     "output_type": "display_data"
    },
    {
     "data": {
      "text/markdown": [
       "# Flux Comparison"
      ],
      "text/plain": [
       "<IPython.core.display.Markdown object>"
      ]
     },
     "metadata": {},
     "output_type": "display_data"
    },
    {
     "data": {
      "text/html": [
       "<div>\n",
       "<style>\n",
       "    .dataframe thead tr:only-child th {\n",
       "        text-align: right;\n",
       "    }\n",
       "\n",
       "    .dataframe thead th {\n",
       "        text-align: left;\n",
       "    }\n",
       "\n",
       "    .dataframe tbody tr th {\n",
       "        vertical-align: top;\n",
       "    }\n",
       "</style>\n",
       "<table border=\"1\" class=\"dataframe\">\n",
       "  <thead>\n",
       "    <tr style=\"text-align: right;\">\n",
       "      <th></th>\n",
       "      <th></th>\n",
       "      <th>flug</th>\n",
       "      <th>fldg</th>\n",
       "      <th>fnetg</th>\n",
       "    </tr>\n",
       "    <tr>\n",
       "      <th>pressure</th>\n",
       "      <th>level</th>\n",
       "      <th></th>\n",
       "      <th></th>\n",
       "      <th></th>\n",
       "    </tr>\n",
       "  </thead>\n",
       "  <tbody>\n",
       "    <tr>\n",
       "      <th>0.0000</th>\n",
       "      <th>1</th>\n",
       "      <td>-23.028098</td>\n",
       "      <td>0.000000</td>\n",
       "      <td>-23.028098</td>\n",
       "    </tr>\n",
       "    <tr>\n",
       "      <th>1.0685</th>\n",
       "      <th>24</th>\n",
       "      <td>-23.026680</td>\n",
       "      <td>0.004153</td>\n",
       "      <td>-23.022527</td>\n",
       "    </tr>\n",
       "    <tr>\n",
       "      <th>1013.0000</th>\n",
       "      <th>76</th>\n",
       "      <td>-23.591138</td>\n",
       "      <td>1.955718</td>\n",
       "      <td>-21.635419</td>\n",
       "    </tr>\n",
       "  </tbody>\n",
       "</table>\n",
       "</div>"
      ],
      "text/plain": [
       "                      flug      fldg      fnetg\n",
       "pressure  level                                \n",
       "0.0000    1     -23.028098  0.000000 -23.028098\n",
       "1.0685    24    -23.026680  0.004153 -23.022527\n",
       "1013.0000 76    -23.591138  1.955718 -21.635419"
      ]
     },
     "metadata": {},
     "output_type": "display_data"
    },
    {
     "name": "stdout",
     "output_type": "stream",
     "text": [
      "Table. Fluxes. WGT igg=10 wgt_flux=1\n"
     ]
    },
    {
     "data": {
      "text/html": [
       "<div>\n",
       "<style>\n",
       "    .dataframe thead tr:only-child th {\n",
       "        text-align: right;\n",
       "    }\n",
       "\n",
       "    .dataframe thead th {\n",
       "        text-align: left;\n",
       "    }\n",
       "\n",
       "    .dataframe tbody tr th {\n",
       "        vertical-align: top;\n",
       "    }\n",
       "</style>\n",
       "<table border=\"1\" class=\"dataframe\">\n",
       "  <thead>\n",
       "    <tr style=\"text-align: right;\">\n",
       "      <th></th>\n",
       "      <th></th>\n",
       "      <th>flug</th>\n",
       "      <th>fldg</th>\n",
       "      <th>fnetg</th>\n",
       "    </tr>\n",
       "    <tr>\n",
       "      <th>pressure</th>\n",
       "      <th>level</th>\n",
       "      <th></th>\n",
       "      <th></th>\n",
       "      <th></th>\n",
       "    </tr>\n",
       "  </thead>\n",
       "  <tbody>\n",
       "    <tr>\n",
       "      <th>0.0000</th>\n",
       "      <th>1</th>\n",
       "      <td>-23.030142</td>\n",
       "      <td>0.000000</td>\n",
       "      <td>-23.030142</td>\n",
       "    </tr>\n",
       "    <tr>\n",
       "      <th>1.0685</th>\n",
       "      <th>24</th>\n",
       "      <td>-23.028839</td>\n",
       "      <td>0.004279</td>\n",
       "      <td>-23.024560</td>\n",
       "    </tr>\n",
       "    <tr>\n",
       "      <th>1013.0000</th>\n",
       "      <th>76</th>\n",
       "      <td>-23.591138</td>\n",
       "      <td>1.870278</td>\n",
       "      <td>-21.720860</td>\n",
       "    </tr>\n",
       "  </tbody>\n",
       "</table>\n",
       "</div>"
      ],
      "text/plain": [
       "                      flug      fldg      fnetg\n",
       "pressure  level                                \n",
       "0.0000    1     -23.030142  0.000000 -23.030142\n",
       "1.0685    24    -23.028839  0.004279 -23.024560\n",
       "1013.0000 76    -23.591138  1.870278 -21.720860"
      ]
     },
     "metadata": {},
     "output_type": "display_data"
    },
    {
     "name": "stdout",
     "output_type": "stream",
     "text": [
      "Table. Fluxes. CRD\n"
     ]
    },
    {
     "data": {
      "text/html": [
       "<div>\n",
       "<style>\n",
       "    .dataframe thead tr:only-child th {\n",
       "        text-align: right;\n",
       "    }\n",
       "\n",
       "    .dataframe thead th {\n",
       "        text-align: left;\n",
       "    }\n",
       "\n",
       "    .dataframe tbody tr th {\n",
       "        vertical-align: top;\n",
       "    }\n",
       "</style>\n",
       "<table border=\"1\" class=\"dataframe\">\n",
       "  <thead>\n",
       "    <tr style=\"text-align: right;\">\n",
       "      <th></th>\n",
       "      <th></th>\n",
       "      <th>flug</th>\n",
       "      <th>fldg</th>\n",
       "      <th>fnetg</th>\n",
       "    </tr>\n",
       "    <tr>\n",
       "      <th>pressure</th>\n",
       "      <th>level</th>\n",
       "      <th></th>\n",
       "      <th></th>\n",
       "      <th></th>\n",
       "    </tr>\n",
       "  </thead>\n",
       "  <tbody>\n",
       "    <tr>\n",
       "      <th>1.000000e-08</th>\n",
       "      <th>1</th>\n",
       "      <td>-23.050441</td>\n",
       "      <td>0.000002</td>\n",
       "      <td>-23.050439</td>\n",
       "    </tr>\n",
       "    <tr>\n",
       "      <th>1.068500e+00</th>\n",
       "      <th>24</th>\n",
       "      <td>-23.049116</td>\n",
       "      <td>0.003792</td>\n",
       "      <td>-23.045324</td>\n",
       "    </tr>\n",
       "    <tr>\n",
       "      <th>1.013000e+03</th>\n",
       "      <th>76</th>\n",
       "      <td>-23.591140</td>\n",
       "      <td>1.889003</td>\n",
       "      <td>-21.702137</td>\n",
       "    </tr>\n",
       "  </tbody>\n",
       "</table>\n",
       "</div>"
      ],
      "text/plain": [
       "                         flug      fldg      fnetg\n",
       "pressure     level                                \n",
       "1.000000e-08 1     -23.050441  0.000002 -23.050439\n",
       "1.068500e+00 24    -23.049116  0.003792 -23.045324\n",
       "1.013000e+03 76    -23.591140  1.889003 -21.702137"
      ]
     },
     "metadata": {},
     "output_type": "display_data"
    },
    {
     "name": "stdout",
     "output_type": "stream",
     "text": [
      "Table. Fluxes. CLIRAD\n"
     ]
    },
    {
     "data": {
      "text/html": [
       "<div>\n",
       "<style>\n",
       "    .dataframe thead tr:only-child th {\n",
       "        text-align: right;\n",
       "    }\n",
       "\n",
       "    .dataframe thead th {\n",
       "        text-align: left;\n",
       "    }\n",
       "\n",
       "    .dataframe tbody tr th {\n",
       "        vertical-align: top;\n",
       "    }\n",
       "</style>\n",
       "<table border=\"1\" class=\"dataframe\">\n",
       "  <thead>\n",
       "    <tr style=\"text-align: right;\">\n",
       "      <th></th>\n",
       "      <th></th>\n",
       "      <th>flug</th>\n",
       "      <th>fldg</th>\n",
       "      <th>fnetg</th>\n",
       "    </tr>\n",
       "    <tr>\n",
       "      <th>pressure</th>\n",
       "      <th>level</th>\n",
       "      <th></th>\n",
       "      <th></th>\n",
       "      <th></th>\n",
       "    </tr>\n",
       "  </thead>\n",
       "  <tbody>\n",
       "    <tr>\n",
       "      <th>0.0000</th>\n",
       "      <th>1</th>\n",
       "      <td>-2.043730e-03</td>\n",
       "      <td>0.000000</td>\n",
       "      <td>-0.002044</td>\n",
       "    </tr>\n",
       "    <tr>\n",
       "      <th>1.0685</th>\n",
       "      <th>24</th>\n",
       "      <td>-2.159380e-03</td>\n",
       "      <td>0.000126</td>\n",
       "      <td>-0.002033</td>\n",
       "    </tr>\n",
       "    <tr>\n",
       "      <th>1013.0000</th>\n",
       "      <th>76</th>\n",
       "      <td>1.400000e-07</td>\n",
       "      <td>-0.085440</td>\n",
       "      <td>-0.085441</td>\n",
       "    </tr>\n",
       "  </tbody>\n",
       "</table>\n",
       "</div>"
      ],
      "text/plain": [
       "                         flug      fldg     fnetg\n",
       "pressure  level                                  \n",
       "0.0000    1     -2.043730e-03  0.000000 -0.002044\n",
       "1.0685    24    -2.159380e-03  0.000126 -0.002033\n",
       "1013.0000 76     1.400000e-07 -0.085440 -0.085441"
      ]
     },
     "metadata": {},
     "output_type": "display_data"
    },
    {
     "name": "stdout",
     "output_type": "stream",
     "text": [
      "Table. Fluxes. (CRD) - (WGT igg=10 wgt_flux=1)\n"
     ]
    },
    {
     "data": {
      "text/html": [
       "<div>\n",
       "<style>\n",
       "    .dataframe thead tr:only-child th {\n",
       "        text-align: right;\n",
       "    }\n",
       "\n",
       "    .dataframe thead th {\n",
       "        text-align: left;\n",
       "    }\n",
       "\n",
       "    .dataframe tbody tr th {\n",
       "        vertical-align: top;\n",
       "    }\n",
       "</style>\n",
       "<table border=\"1\" class=\"dataframe\">\n",
       "  <thead>\n",
       "    <tr style=\"text-align: right;\">\n",
       "      <th></th>\n",
       "      <th></th>\n",
       "      <th>flug</th>\n",
       "      <th>fldg</th>\n",
       "      <th>fnetg</th>\n",
       "    </tr>\n",
       "    <tr>\n",
       "      <th>pressure</th>\n",
       "      <th>level</th>\n",
       "      <th></th>\n",
       "      <th></th>\n",
       "      <th></th>\n",
       "    </tr>\n",
       "  </thead>\n",
       "  <tbody>\n",
       "    <tr>\n",
       "      <th>0.0000</th>\n",
       "      <th>1</th>\n",
       "      <td>-0.022343</td>\n",
       "      <td>0.000002</td>\n",
       "      <td>-0.022341</td>\n",
       "    </tr>\n",
       "    <tr>\n",
       "      <th>1.0685</th>\n",
       "      <th>24</th>\n",
       "      <td>-0.022436</td>\n",
       "      <td>-0.000361</td>\n",
       "      <td>-0.022797</td>\n",
       "    </tr>\n",
       "    <tr>\n",
       "      <th>1013.0000</th>\n",
       "      <th>76</th>\n",
       "      <td>-0.000002</td>\n",
       "      <td>-0.066715</td>\n",
       "      <td>-0.066718</td>\n",
       "    </tr>\n",
       "  </tbody>\n",
       "</table>\n",
       "</div>"
      ],
      "text/plain": [
       "                     flug      fldg     fnetg\n",
       "pressure  level                              \n",
       "0.0000    1     -0.022343  0.000002 -0.022341\n",
       "1.0685    24    -0.022436 -0.000361 -0.022797\n",
       "1013.0000 76    -0.000002 -0.066715 -0.066718"
      ]
     },
     "metadata": {},
     "output_type": "display_data"
    },
    {
     "name": "stdout",
     "output_type": "stream",
     "text": [
      "Table. Fluxes. (CLIRAD) - (WGT igg=10 wgt_flux=1)\n"
     ]
    },
    {
     "data": {
      "text/html": [
       "<a id=\"Best-fit_Parameters\"></a>"
      ],
      "text/plain": [
       "<IPython.core.display.HTML object>"
      ]
     },
     "metadata": {},
     "output_type": "display_data"
    },
    {
     "data": {
      "text/markdown": [
       "# Best-fit Parameters"
      ],
      "text/plain": [
       "<IPython.core.display.Markdown object>"
      ]
     },
     "metadata": {},
     "output_type": "display_data"
    },
    {
     "name": "stdout",
     "output_type": "stream",
     "text": [
      "Best-fit values for each (gas, band)\n",
      "------------------------------------\n",
      "o n2o band3a\n",
      "  atmpro = mls\n",
      "  band = 3a\n",
      "  commitnumber = a06b618\n",
      "  conc = 3.2e-07\n",
      "  dv = 0.001\n",
      "  klin = 2.22e-20\n",
      "  molecule = n2o\n",
      "  ng_adju = [0, 0]\n",
      "  ng_refs = [1, 2]\n",
      "  nv = 1000\n",
      "  option_compute_btable = 0\n",
      "  option_compute_ktable = 1\n",
      "  option_wgt_flux = 1\n",
      "  option_wgt_k = 1\n",
      "  ref_pts = [(1, 250), (500, 250)]\n",
      "  tsfc = 294\n",
      "  vmax = 620\n",
      "  vmin = 540\n",
      "  w_diffuse = [(1.8,), (1.66, 1.8)]\n",
      "  wgt = [(0.9,), (0.5, 0.95)]\n"
     ]
    }
   ],
   "source": [
    "script()"
   ]
  },
  {
   "cell_type": "code",
   "execution_count": 13,
   "metadata": {
    "collapsed": true
   },
   "outputs": [
    {
     "data": {
      "text/html": [
       "<script>\n",
       "code_show=true; \n",
       "function code_toggle() {\n",
       " if (code_show){\n",
       " $('div.input').hide();\n",
       " } else {\n",
       " $('div.input').show();\n",
       " }\n",
       " code_show = !code_show\n",
       "} \n",
       "$( document ).ready(code_toggle);\n",
       "</script>\n",
       "<form action=\"javascript:code_toggle()\"><input type=\"submit\" value=\"Click here to toggle on/off the raw code.\"></form>"
      ],
      "text/plain": [
       "<IPython.core.display.HTML object>"
      ]
     },
     "execution_count": 13,
     "metadata": {},
     "output_type": "execute_result"
    }
   ],
   "source": [
    "display.HTML('''<script>\n",
    "code_show=true; \n",
    "function code_toggle() {\n",
    " if (code_show){\n",
    " $('div.input').hide();\n",
    " } else {\n",
    " $('div.input').show();\n",
    " }\n",
    " code_show = !code_show\n",
    "} \n",
    "$( document ).ready(code_toggle);\n",
    "</script>\n",
    "<form action=\"javascript:code_toggle()\"><input type=\"submit\" value=\"Click here to toggle on/off the raw code.\"></form>''')"
   ]
  }
 ],
 "metadata": {
  "kernelspec": {
   "display_name": "Python 3",
   "language": "python",
   "name": "python3"
  },
  "language_info": {
   "codemirror_mode": {
    "name": "ipython",
    "version": 3
   },
   "file_extension": ".py",
   "mimetype": "text/x-python",
   "name": "python",
   "nbconvert_exporter": "python",
   "pygments_lexer": "ipython3",
   "version": "3.6.1"
  }
 },
 "nbformat": 4,
 "nbformat_minor": 2
}
