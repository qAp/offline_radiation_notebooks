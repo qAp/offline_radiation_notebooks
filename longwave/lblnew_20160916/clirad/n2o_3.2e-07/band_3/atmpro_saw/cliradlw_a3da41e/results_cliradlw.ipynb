{
 "cells": [
  {
   "cell_type": "code",
   "execution_count": 1,
   "metadata": {
    "collapsed": true
   },
   "outputs": [],
   "source": [
    "%matplotlib inline\n",
    "import os\n",
    "import re\n",
    "import io\n",
    "import itertools\n",
    "import pprint\n",
    "\n",
    "from bokeh.io import output_notebook, show\n",
    "from bokeh.layouts import gridplot\n",
    "from bokeh.plotting import figure\n",
    "from bokeh.models import Range1d, Legend\n",
    "from bokeh.palettes import all_palettes\n",
    "\n",
    "import matplotlib\n",
    "import matplotlib.pyplot as plt\n",
    "import numpy as np\n",
    "import pandas as pd\n",
    "import xarray as xr\n",
    "\n",
    "import climatools.lblnew.bestfit_params as bestfits\n",
    "from climatools.lblnew import setup_bestfit, setup_overlap\n",
    "import climatools.lblnew.pipeline as pipe_lblnew\n",
    "import climatools.cliradlw.setup as setup_cliradlw\n",
    "import climatools.cliradlw.pipeline as pipe_cliradlw\n",
    "\n",
    "import climatools.html.html as climahtml\n",
    "from climatools.lblnew.dataio import *\n",
    "from climatools.plot.plot import *\n",
    "\n",
    "\n",
    "import IPython.display as display"
   ]
  },
  {
   "cell_type": "code",
   "execution_count": 2,
   "metadata": {
    "collapsed": true
   },
   "outputs": [],
   "source": [
    "%run param.py"
   ]
  },
  {
   "cell_type": "code",
   "execution_count": 3,
   "metadata": {
    "collapsed": true
   },
   "outputs": [
    {
     "name": "stdout",
     "output_type": "stream",
     "text": [
      "The history saving thread hit an unexpected error (OperationalError('database is locked',)).History will not be written to the database."
     ]
    }
   ],
   "source": [
    "def load_output_file(path_csv):\n",
    "    '''\n",
    "    Load lblnew output .csv file to xarray.Dataset\n",
    "    \n",
    "    Parameters\n",
    "    ----------\n",
    "    path_csv: str\n",
    "              Path to the .csv file to be loaded.\n",
    "    ds: xarray.Dataset\n",
    "        Data in the input file in the form of an xarray.Dataset.\n",
    "    '''\n",
    "    toindex = ['band', 'pressure', 'igg', 'g']    \n",
    "    df = pd.read_csv(path_csv, sep=r'\\s+')\n",
    "    df = df.set_index([i for i in toindex if i in df.columns])\n",
    "    df = df.rename(columns={'sfu': 'flug',\n",
    "                            'sfd': 'fldg',\n",
    "                            'fnet': 'fnetg',\n",
    "                            'coolr': 'coolrg'})\n",
    "    ds = xr.Dataset.from_dataframe(df)\n",
    "\n",
    "    for l in ('level', 'layer'):\n",
    "        if l in ds.data_vars:\n",
    "            if len(ds[l].dims) > 1:\n",
    "                surface = {d: 0 for d in ds.dims if d != 'pressure'}\n",
    "                coord_level = ds[l][surface]\n",
    "                ds.coords[l] = ('pressure', coord_level)\n",
    "            else:\n",
    "                ds.coords[l] = ('pressure', ds[l])\n",
    "    \n",
    "    return ds"
   ]
  },
  {
   "cell_type": "code",
   "execution_count": 4,
   "metadata": {
    "collapsed": true
   },
   "outputs": [
    {
     "name": "stdout",
     "output_type": "stream",
     "text": [
      "\n"
     ]
    }
   ],
   "source": [
    "def lblnew_setup(param=None):\n",
    "    if 'ng_refs' in param:\n",
    "        return {'setup': setup_bestfit,\n",
    "                'fname_flux_crd': 'output_flux.dat',\n",
    "                'fname_cool_crd': 'output_coolr.dat',\n",
    "                'fname_flux_wgt': 'output_wfluxg.dat',\n",
    "                'fname_cool_wgt': 'output_wcoolrg.dat'}\n",
    "    else:\n",
    "        return {'setup': setup_overlap,\n",
    "                'fname_flux_crd': 'output_flux.dat',\n",
    "                'fname_cool_crd': 'output_coolr.dat',\n",
    "                'fname_flux_wgt': 'output_wflux.dat',\n",
    "                'fname_cool_wgt': 'output_wcoolr.dat'}\n",
    "\n",
    "    \n",
    "def load_lblnew_data(param):\n",
    "    \n",
    "    fname_dsname = [('fname_flux_crd', 'ds_flux_crd'),\n",
    "                    ('fname_cool_crd', 'ds_cool_crd'),\n",
    "                    ('fname_flux_wgt', 'ds_flux_wgt'),\n",
    "                    ('fname_cool_wgt', 'ds_cool_wgt')]\n",
    "    \n",
    "    d = lblnew_setup(param)\n",
    "    dir_fortran = pipe_lblnew.get_dir_case(param, setup=d['setup'])\n",
    "    \n",
    "    data_dict = {}\n",
    "    for fname, dsname in fname_dsname:\n",
    "        fpath = os.path.join(dir_fortran, d[fname])\n",
    "        data_dict[dsname] = load_output_file(fpath)\n",
    "    return data_dict\n",
    "    \n",
    "\n",
    "    \n",
    "    "
   ]
  },
  {
   "cell_type": "code",
   "execution_count": 5,
   "metadata": {
    "collapsed": true
   },
   "outputs": [],
   "source": [
    "d = load_lblnew_data(PARAM_LBLNEW)\n",
    "\n",
    "DS_FLUX_CRD = d['ds_flux_crd']\n",
    "DS_COOL_CRD = d['ds_cool_crd']\n",
    "DS_FLUX_WGT = d['ds_flux_wgt']\n",
    "DS_COOL_WGT = d['ds_cool_wgt']"
   ]
  },
  {
   "cell_type": "code",
   "execution_count": 6,
   "metadata": {
    "collapsed": true
   },
   "outputs": [],
   "source": [
    "DIR_FORTRAN = pipe_cliradlw.get_fortran_dir(PARAM, \n",
    "                                            setup=setup_cliradlw)\n",
    "\n",
    "PATH_FLUX = os.path.join(DIR_FORTRAN, 'output_flux.dat')\n",
    "PATH_COOL = os.path.join(DIR_FORTRAN, 'output_coolr.dat')\n",
    "\n",
    "DS_FLUX = load_output_file(PATH_FLUX)\n",
    "DS_COOL = load_output_file(PATH_COOL)"
   ]
  },
  {
   "cell_type": "code",
   "execution_count": 7,
   "metadata": {
    "collapsed": true
   },
   "outputs": [
    {
     "data": {
      "text/html": [
       "\n",
       "    <div class=\"bk-root\">\n",
       "        <a href=\"https://bokeh.pydata.org\" target=\"_blank\" class=\"bk-logo bk-logo-small bk-logo-notebook\"></a>\n",
       "        <span id=\"7f5ac613-cb6a-43e3-9f04-c1c5dab44489\">Loading BokehJS ...</span>\n",
       "    </div>"
      ]
     },
     "metadata": {},
     "output_type": "display_data"
    },
    {
     "data": {
      "application/javascript": [
       "\n",
       "(function(root) {\n",
       "  function now() {\n",
       "    return new Date();\n",
       "  }\n",
       "\n",
       "  var force = true;\n",
       "\n",
       "  if (typeof (root._bokeh_onload_callbacks) === \"undefined\" || force === true) {\n",
       "    root._bokeh_onload_callbacks = [];\n",
       "    root._bokeh_is_loading = undefined;\n",
       "  }\n",
       "\n",
       "  var JS_MIME_TYPE = 'application/javascript';\n",
       "  var HTML_MIME_TYPE = 'text/html';\n",
       "  var EXEC_MIME_TYPE = 'application/vnd.bokehjs_exec.v0+json';\n",
       "  var CLASS_NAME = 'output_bokeh rendered_html';\n",
       "\n",
       "  /**\n",
       "   * Render data to the DOM node\n",
       "   */\n",
       "  function render(props, node) {\n",
       "    var script = document.createElement(\"script\");\n",
       "    node.appendChild(script);\n",
       "  }\n",
       "\n",
       "  /**\n",
       "   * Handle when an output is cleared or removed\n",
       "   */\n",
       "  function handleClearOutput(event, handle) {\n",
       "    var cell = handle.cell;\n",
       "\n",
       "    var id = cell.output_area._bokeh_element_id;\n",
       "    var server_id = cell.output_area._bokeh_server_id;\n",
       "    // Clean up Bokeh references\n",
       "    if (id !== undefined) {\n",
       "      Bokeh.index[id].model.document.clear();\n",
       "      delete Bokeh.index[id];\n",
       "    }\n",
       "\n",
       "    if (server_id !== undefined) {\n",
       "      // Clean up Bokeh references\n",
       "      var cmd = \"from bokeh.io.state import curstate; print(curstate().uuid_to_server['\" + server_id + \"'].get_sessions()[0].document.roots[0]._id)\";\n",
       "      cell.notebook.kernel.execute(cmd, {\n",
       "        iopub: {\n",
       "          output: function(msg) {\n",
       "            var element_id = msg.content.text.trim();\n",
       "            Bokeh.index[element_id].model.document.clear();\n",
       "            delete Bokeh.index[element_id];\n",
       "          }\n",
       "        }\n",
       "      });\n",
       "      // Destroy server and session\n",
       "      var cmd = \"import bokeh.io.notebook as ion; ion.destroy_server('\" + server_id + \"')\";\n",
       "      cell.notebook.kernel.execute(cmd);\n",
       "    }\n",
       "  }\n",
       "\n",
       "  /**\n",
       "   * Handle when a new output is added\n",
       "   */\n",
       "  function handleAddOutput(event, handle) {\n",
       "    var output_area = handle.output_area;\n",
       "    var output = handle.output;\n",
       "\n",
       "    // limit handleAddOutput to display_data with EXEC_MIME_TYPE content only\n",
       "    if ((output.output_type != \"display_data\") || (!output.data.hasOwnProperty(EXEC_MIME_TYPE))) {\n",
       "      return\n",
       "    }\n",
       "\n",
       "    var toinsert = output_area.element.find(\".\" + CLASS_NAME.split(' ')[0]);\n",
       "\n",
       "    if (output.metadata[EXEC_MIME_TYPE][\"id\"] !== undefined) {\n",
       "      toinsert[0].firstChild.textContent = output.data[JS_MIME_TYPE];\n",
       "      // store reference to embed id on output_area\n",
       "      output_area._bokeh_element_id = output.metadata[EXEC_MIME_TYPE][\"id\"];\n",
       "    }\n",
       "    if (output.metadata[EXEC_MIME_TYPE][\"server_id\"] !== undefined) {\n",
       "      var bk_div = document.createElement(\"div\");\n",
       "      bk_div.innerHTML = output.data[HTML_MIME_TYPE];\n",
       "      var script_attrs = bk_div.children[0].attributes;\n",
       "      for (var i = 0; i < script_attrs.length; i++) {\n",
       "        toinsert[0].firstChild.setAttribute(script_attrs[i].name, script_attrs[i].value);\n",
       "      }\n",
       "      // store reference to server id on output_area\n",
       "      output_area._bokeh_server_id = output.metadata[EXEC_MIME_TYPE][\"server_id\"];\n",
       "    }\n",
       "  }\n",
       "\n",
       "  function register_renderer(events, OutputArea) {\n",
       "\n",
       "    function append_mime(data, metadata, element) {\n",
       "      // create a DOM node to render to\n",
       "      var toinsert = this.create_output_subarea(\n",
       "        metadata,\n",
       "        CLASS_NAME,\n",
       "        EXEC_MIME_TYPE\n",
       "      );\n",
       "      this.keyboard_manager.register_events(toinsert);\n",
       "      // Render to node\n",
       "      var props = {data: data, metadata: metadata[EXEC_MIME_TYPE]};\n",
       "      render(props, toinsert[0]);\n",
       "      element.append(toinsert);\n",
       "      return toinsert\n",
       "    }\n",
       "\n",
       "    /* Handle when an output is cleared or removed */\n",
       "    events.on('clear_output.CodeCell', handleClearOutput);\n",
       "    events.on('delete.Cell', handleClearOutput);\n",
       "\n",
       "    /* Handle when a new output is added */\n",
       "    events.on('output_added.OutputArea', handleAddOutput);\n",
       "\n",
       "    /**\n",
       "     * Register the mime type and append_mime function with output_area\n",
       "     */\n",
       "    OutputArea.prototype.register_mime_type(EXEC_MIME_TYPE, append_mime, {\n",
       "      /* Is output safe? */\n",
       "      safe: true,\n",
       "      /* Index of renderer in `output_area.display_order` */\n",
       "      index: 0\n",
       "    });\n",
       "  }\n",
       "\n",
       "  // register the mime type if in Jupyter Notebook environment and previously unregistered\n",
       "  if (root.Jupyter !== undefined) {\n",
       "    var events = require('base/js/events');\n",
       "    var OutputArea = require('notebook/js/outputarea').OutputArea;\n",
       "\n",
       "    if (OutputArea.prototype.mime_types().indexOf(EXEC_MIME_TYPE) == -1) {\n",
       "      register_renderer(events, OutputArea);\n",
       "    }\n",
       "  }\n",
       "\n",
       "  \n",
       "  if (typeof (root._bokeh_timeout) === \"undefined\" || force === true) {\n",
       "    root._bokeh_timeout = Date.now() + 5000;\n",
       "    root._bokeh_failed_load = false;\n",
       "  }\n",
       "\n",
       "  var NB_LOAD_WARNING = {'data': {'text/html':\n",
       "     \"<div style='background-color: #fdd'>\\n\"+\n",
       "     \"<p>\\n\"+\n",
       "     \"BokehJS does not appear to have successfully loaded. If loading BokehJS from CDN, this \\n\"+\n",
       "     \"may be due to a slow or bad network connection. Possible fixes:\\n\"+\n",
       "     \"</p>\\n\"+\n",
       "     \"<ul>\\n\"+\n",
       "     \"<li>re-rerun `output_notebook()` to attempt to load from CDN again, or</li>\\n\"+\n",
       "     \"<li>use INLINE resources instead, as so:</li>\\n\"+\n",
       "     \"</ul>\\n\"+\n",
       "     \"<code>\\n\"+\n",
       "     \"from bokeh.resources import INLINE\\n\"+\n",
       "     \"output_notebook(resources=INLINE)\\n\"+\n",
       "     \"</code>\\n\"+\n",
       "     \"</div>\"}};\n",
       "\n",
       "  function display_loaded() {\n",
       "    var el = document.getElementById(\"7f5ac613-cb6a-43e3-9f04-c1c5dab44489\");\n",
       "    if (el != null) {\n",
       "      el.textContent = \"BokehJS is loading...\";\n",
       "    }\n",
       "    if (root.Bokeh !== undefined) {\n",
       "      if (el != null) {\n",
       "        el.textContent = \"BokehJS \" + root.Bokeh.version + \" successfully loaded.\";\n",
       "      }\n",
       "    } else if (Date.now() < root._bokeh_timeout) {\n",
       "      setTimeout(display_loaded, 100)\n",
       "    }\n",
       "  }\n",
       "\n",
       "\n",
       "  function run_callbacks() {\n",
       "    try {\n",
       "      root._bokeh_onload_callbacks.forEach(function(callback) { callback() });\n",
       "    }\n",
       "    finally {\n",
       "      delete root._bokeh_onload_callbacks\n",
       "    }\n",
       "    console.info(\"Bokeh: all callbacks have finished\");\n",
       "  }\n",
       "\n",
       "  function load_libs(js_urls, callback) {\n",
       "    root._bokeh_onload_callbacks.push(callback);\n",
       "    if (root._bokeh_is_loading > 0) {\n",
       "      console.log(\"Bokeh: BokehJS is being loaded, scheduling callback at\", now());\n",
       "      return null;\n",
       "    }\n",
       "    if (js_urls == null || js_urls.length === 0) {\n",
       "      run_callbacks();\n",
       "      return null;\n",
       "    }\n",
       "    console.log(\"Bokeh: BokehJS not loaded, scheduling load and callback at\", now());\n",
       "    root._bokeh_is_loading = js_urls.length;\n",
       "    for (var i = 0; i < js_urls.length; i++) {\n",
       "      var url = js_urls[i];\n",
       "      var s = document.createElement('script');\n",
       "      s.src = url;\n",
       "      s.async = false;\n",
       "      s.onreadystatechange = s.onload = function() {\n",
       "        root._bokeh_is_loading--;\n",
       "        if (root._bokeh_is_loading === 0) {\n",
       "          console.log(\"Bokeh: all BokehJS libraries loaded\");\n",
       "          run_callbacks()\n",
       "        }\n",
       "      };\n",
       "      s.onerror = function() {\n",
       "        console.warn(\"failed to load library \" + url);\n",
       "      };\n",
       "      console.log(\"Bokeh: injecting script tag for BokehJS library: \", url);\n",
       "      document.getElementsByTagName(\"head\")[0].appendChild(s);\n",
       "    }\n",
       "  };var element = document.getElementById(\"7f5ac613-cb6a-43e3-9f04-c1c5dab44489\");\n",
       "  if (element == null) {\n",
       "    console.log(\"Bokeh: ERROR: autoload.js configured with elementid '7f5ac613-cb6a-43e3-9f04-c1c5dab44489' but no matching script tag was found. \")\n",
       "    return false;\n",
       "  }\n",
       "\n",
       "  var js_urls = [\"https://cdn.pydata.org/bokeh/release/bokeh-0.12.14.min.js\", \"https://cdn.pydata.org/bokeh/release/bokeh-widgets-0.12.14.min.js\", \"https://cdn.pydata.org/bokeh/release/bokeh-tables-0.12.14.min.js\", \"https://cdn.pydata.org/bokeh/release/bokeh-gl-0.12.14.min.js\"];\n",
       "\n",
       "  var inline_js = [\n",
       "    function(Bokeh) {\n",
       "      Bokeh.set_log_level(\"info\");\n",
       "    },\n",
       "    \n",
       "    function(Bokeh) {\n",
       "      \n",
       "    },\n",
       "    function(Bokeh) {\n",
       "      console.log(\"Bokeh: injecting CSS: https://cdn.pydata.org/bokeh/release/bokeh-0.12.14.min.css\");\n",
       "      Bokeh.embed.inject_css(\"https://cdn.pydata.org/bokeh/release/bokeh-0.12.14.min.css\");\n",
       "      console.log(\"Bokeh: injecting CSS: https://cdn.pydata.org/bokeh/release/bokeh-widgets-0.12.14.min.css\");\n",
       "      Bokeh.embed.inject_css(\"https://cdn.pydata.org/bokeh/release/bokeh-widgets-0.12.14.min.css\");\n",
       "      console.log(\"Bokeh: injecting CSS: https://cdn.pydata.org/bokeh/release/bokeh-tables-0.12.14.min.css\");\n",
       "      Bokeh.embed.inject_css(\"https://cdn.pydata.org/bokeh/release/bokeh-tables-0.12.14.min.css\");\n",
       "    }\n",
       "  ];\n",
       "\n",
       "  function run_inline_js() {\n",
       "    \n",
       "    if ((root.Bokeh !== undefined) || (force === true)) {\n",
       "      for (var i = 0; i < inline_js.length; i++) {\n",
       "        inline_js[i].call(root, root.Bokeh);\n",
       "      }if (force === true) {\n",
       "        display_loaded();\n",
       "      }} else if (Date.now() < root._bokeh_timeout) {\n",
       "      setTimeout(run_inline_js, 100);\n",
       "    } else if (!root._bokeh_failed_load) {\n",
       "      console.log(\"Bokeh: BokehJS failed to load within specified timeout.\");\n",
       "      root._bokeh_failed_load = true;\n",
       "    } else if (force !== true) {\n",
       "      var cell = $(document.getElementById(\"7f5ac613-cb6a-43e3-9f04-c1c5dab44489\")).parents('.cell').data().cell;\n",
       "      cell.output_area.append_execute_result(NB_LOAD_WARNING)\n",
       "    }\n",
       "\n",
       "  }\n",
       "\n",
       "  if (root._bokeh_is_loading === 0) {\n",
       "    console.log(\"Bokeh: BokehJS loaded, going straight to plotting\");\n",
       "    run_inline_js();\n",
       "  } else {\n",
       "    load_libs(js_urls, function() {\n",
       "      console.log(\"Bokeh: BokehJS plotting callback run at\", now());\n",
       "      run_inline_js();\n",
       "    });\n",
       "  }\n",
       "}(window));"
      ],
      "application/vnd.bokehjs_load.v0+json": "\n(function(root) {\n  function now() {\n    return new Date();\n  }\n\n  var force = true;\n\n  if (typeof (root._bokeh_onload_callbacks) === \"undefined\" || force === true) {\n    root._bokeh_onload_callbacks = [];\n    root._bokeh_is_loading = undefined;\n  }\n\n  \n\n  \n  if (typeof (root._bokeh_timeout) === \"undefined\" || force === true) {\n    root._bokeh_timeout = Date.now() + 5000;\n    root._bokeh_failed_load = false;\n  }\n\n  var NB_LOAD_WARNING = {'data': {'text/html':\n     \"<div style='background-color: #fdd'>\\n\"+\n     \"<p>\\n\"+\n     \"BokehJS does not appear to have successfully loaded. If loading BokehJS from CDN, this \\n\"+\n     \"may be due to a slow or bad network connection. Possible fixes:\\n\"+\n     \"</p>\\n\"+\n     \"<ul>\\n\"+\n     \"<li>re-rerun `output_notebook()` to attempt to load from CDN again, or</li>\\n\"+\n     \"<li>use INLINE resources instead, as so:</li>\\n\"+\n     \"</ul>\\n\"+\n     \"<code>\\n\"+\n     \"from bokeh.resources import INLINE\\n\"+\n     \"output_notebook(resources=INLINE)\\n\"+\n     \"</code>\\n\"+\n     \"</div>\"}};\n\n  function display_loaded() {\n    var el = document.getElementById(\"7f5ac613-cb6a-43e3-9f04-c1c5dab44489\");\n    if (el != null) {\n      el.textContent = \"BokehJS is loading...\";\n    }\n    if (root.Bokeh !== undefined) {\n      if (el != null) {\n        el.textContent = \"BokehJS \" + root.Bokeh.version + \" successfully loaded.\";\n      }\n    } else if (Date.now() < root._bokeh_timeout) {\n      setTimeout(display_loaded, 100)\n    }\n  }\n\n\n  function run_callbacks() {\n    try {\n      root._bokeh_onload_callbacks.forEach(function(callback) { callback() });\n    }\n    finally {\n      delete root._bokeh_onload_callbacks\n    }\n    console.info(\"Bokeh: all callbacks have finished\");\n  }\n\n  function load_libs(js_urls, callback) {\n    root._bokeh_onload_callbacks.push(callback);\n    if (root._bokeh_is_loading > 0) {\n      console.log(\"Bokeh: BokehJS is being loaded, scheduling callback at\", now());\n      return null;\n    }\n    if (js_urls == null || js_urls.length === 0) {\n      run_callbacks();\n      return null;\n    }\n    console.log(\"Bokeh: BokehJS not loaded, scheduling load and callback at\", now());\n    root._bokeh_is_loading = js_urls.length;\n    for (var i = 0; i < js_urls.length; i++) {\n      var url = js_urls[i];\n      var s = document.createElement('script');\n      s.src = url;\n      s.async = false;\n      s.onreadystatechange = s.onload = function() {\n        root._bokeh_is_loading--;\n        if (root._bokeh_is_loading === 0) {\n          console.log(\"Bokeh: all BokehJS libraries loaded\");\n          run_callbacks()\n        }\n      };\n      s.onerror = function() {\n        console.warn(\"failed to load library \" + url);\n      };\n      console.log(\"Bokeh: injecting script tag for BokehJS library: \", url);\n      document.getElementsByTagName(\"head\")[0].appendChild(s);\n    }\n  };var element = document.getElementById(\"7f5ac613-cb6a-43e3-9f04-c1c5dab44489\");\n  if (element == null) {\n    console.log(\"Bokeh: ERROR: autoload.js configured with elementid '7f5ac613-cb6a-43e3-9f04-c1c5dab44489' but no matching script tag was found. \")\n    return false;\n  }\n\n  var js_urls = [\"https://cdn.pydata.org/bokeh/release/bokeh-0.12.14.min.js\", \"https://cdn.pydata.org/bokeh/release/bokeh-widgets-0.12.14.min.js\", \"https://cdn.pydata.org/bokeh/release/bokeh-tables-0.12.14.min.js\", \"https://cdn.pydata.org/bokeh/release/bokeh-gl-0.12.14.min.js\"];\n\n  var inline_js = [\n    function(Bokeh) {\n      Bokeh.set_log_level(\"info\");\n    },\n    \n    function(Bokeh) {\n      \n    },\n    function(Bokeh) {\n      console.log(\"Bokeh: injecting CSS: https://cdn.pydata.org/bokeh/release/bokeh-0.12.14.min.css\");\n      Bokeh.embed.inject_css(\"https://cdn.pydata.org/bokeh/release/bokeh-0.12.14.min.css\");\n      console.log(\"Bokeh: injecting CSS: https://cdn.pydata.org/bokeh/release/bokeh-widgets-0.12.14.min.css\");\n      Bokeh.embed.inject_css(\"https://cdn.pydata.org/bokeh/release/bokeh-widgets-0.12.14.min.css\");\n      console.log(\"Bokeh: injecting CSS: https://cdn.pydata.org/bokeh/release/bokeh-tables-0.12.14.min.css\");\n      Bokeh.embed.inject_css(\"https://cdn.pydata.org/bokeh/release/bokeh-tables-0.12.14.min.css\");\n    }\n  ];\n\n  function run_inline_js() {\n    \n    if ((root.Bokeh !== undefined) || (force === true)) {\n      for (var i = 0; i < inline_js.length; i++) {\n        inline_js[i].call(root, root.Bokeh);\n      }if (force === true) {\n        display_loaded();\n      }} else if (Date.now() < root._bokeh_timeout) {\n      setTimeout(run_inline_js, 100);\n    } else if (!root._bokeh_failed_load) {\n      console.log(\"Bokeh: BokehJS failed to load within specified timeout.\");\n      root._bokeh_failed_load = true;\n    } else if (force !== true) {\n      var cell = $(document.getElementById(\"7f5ac613-cb6a-43e3-9f04-c1c5dab44489\")).parents('.cell').data().cell;\n      cell.output_area.append_execute_result(NB_LOAD_WARNING)\n    }\n\n  }\n\n  if (root._bokeh_is_loading === 0) {\n    console.log(\"Bokeh: BokehJS loaded, going straight to plotting\");\n    run_inline_js();\n  } else {\n    load_libs(js_urls, function() {\n      console.log(\"Bokeh: BokehJS plotting callback run at\", now());\n      run_inline_js();\n    });\n  }\n}(window));"
     },
     "metadata": {},
     "output_type": "display_data"
    }
   ],
   "source": [
    "output_notebook()"
   ]
  },
  {
   "cell_type": "code",
   "execution_count": 8,
   "metadata": {
    "collapsed": true
   },
   "outputs": [],
   "source": [
    "def fmt_cool(ds_in):\n",
    "    ds = ds_in.copy(deep=True)\n",
    "    if 'igg' in ds.dims:\n",
    "        ds = ds.sel(igg=1)\n",
    "\n",
    "    if 'g' in ds.dims:\n",
    "        ds = ds.sum('g')\n",
    "            \n",
    "    if 'band' in ds.dims:\n",
    "        try:\n",
    "            ds = ds.squeeze('band')\n",
    "        except ValueError:\n",
    "            ds = ds.sum('band')\n",
    "                \n",
    "    return ds['coolrg']\n",
    "\n",
    "\n",
    "def pltdata_cooling_1(ds_cool=None,\n",
    "                      ds_cool_crd=None, ds_cool_wgt=None):\n",
    "    \n",
    "\n",
    "\n",
    "    colors = all_palettes['Set1'][4]\n",
    "    data = [{'label': 'CLIRAD `coolr_bands`',\n",
    "             'srs': fmt_cool(ds_cool),\n",
    "             'line_dash': 'dashed', 'line_width': 5,\n",
    "             'color': colors[0], 'alpha': .6},\n",
    "            {'label': 'CRD',\n",
    "             'srs': fmt_cool(ds_cool_crd),\n",
    "             'line_dash': 'solid', 'line_width': 1.5,\n",
    "             'marker': 'circle', 'marker_size': 5,\n",
    "             'color': colors[2], 'alpha': 1,},\n",
    "            {'label': 'WGT igg=10 wgt_flux=2',\n",
    "             'srs': fmt_cool(ds_cool_wgt),\n",
    "             'line_dash': 'solid', 'line_width': 3,\n",
    "             'marker': 'square', 'marker_size': 5,\n",
    "             'color': colors[3], 'alpha': .6}]\n",
    "    return data\n",
    "\n",
    "\n",
    "def nice_xlims(pltdata=None, prange=None):\n",
    "    \n",
    "    def get_slice(srs):\n",
    "        return srs.sel(pressure=slice(*prange))\n",
    "    \n",
    "    srss = [d['srs'] for d in pltdata]\n",
    "    vmin = min([get_slice(srs).min() for srs in srss])\n",
    "    vmax = max([get_slice(srs).max() for srs in srss])\n",
    "    dv = (vmax - vmin) * .01\n",
    "    return float(vmin - dv), float(vmax + dv)\n",
    "    \n",
    "\n",
    "def plt_cooling_bokeh(pltdata=None):\n",
    "    '''\n",
    "    Plot a list of cooling rate profiles using bokeh.\n",
    "    '''\n",
    "    ymin = 1e-2 \n",
    "    ymax = 1020 \n",
    "        \n",
    "    p1 = figure(title=\"Linear pressure scale\", \n",
    "                plot_width=400)        \n",
    "    xmin, xmax = nice_xlims(pltdata, prange=(50, 1050))\n",
    "    for d in pltdata:\n",
    "        if 'marker' in d:\n",
    "            getattr(p1, d['marker'])(d['srs'].values, \n",
    "                    d['srs'].coords['pressure'].values,\n",
    "                    color=d['color'], alpha=.7)\n",
    "        p1.line(d['srs'].values, \n",
    "                d['srs'].coords['pressure'].values,\n",
    "                color=d['color'], alpha=d['alpha'], \n",
    "                line_width=d['line_width'], line_dash=d['line_dash'])\n",
    "    \n",
    "    p1.y_range = Range1d(ymax, ymin)\n",
    "    p1.yaxis.axis_label = 'pressure [mb]'   \n",
    "    p1.x_range = Range1d(xmin, xmax)\n",
    "    p1.xaxis.axis_label = 'cooling rate [K/day]'\n",
    "            \n",
    "    p2 = figure(title='Log pressure scale', y_axis_type='log',\n",
    "                plot_width=560)\n",
    "    xmin, xmax = nice_xlims(pltdata, prange=(.01, 200))\n",
    "    \n",
    "    rs = []\n",
    "    for d in pltdata:\n",
    "        rd = []\n",
    "        if 'marker' in d:\n",
    "            r_mark = getattr(p2, d['marker'])(d['srs'].values, \n",
    "                        d['srs'].coords['pressure'].values,\n",
    "                        color=d['color'], alpha=.7)\n",
    "            rd.append(r_mark)\n",
    "        r_line = p2.line(d['srs'].values, \n",
    "                    d['srs'].coords['pressure'].values,\n",
    "                    color=d['color'], alpha=d['alpha'], \n",
    "                    line_width=d['line_width'], line_dash=d['line_dash'])\n",
    "        rd.append(r_line)\n",
    "      \n",
    "        rs.append(rd)\n",
    "        \n",
    "    p2.y_range = Range1d(ymax, ymin)  \n",
    "    p2.yaxis.axis_label = 'pressure [mb]'\n",
    "    \n",
    "    p2.x_range = Range1d(xmin, xmax)\n",
    "    p2.xaxis.axis_label = 'cooling rate [K/day]'\n",
    "    \n",
    "    items = [(d['label'], r) for r, d in zip(rs, pltdata)]\n",
    "    legend = Legend(items=items, location=(10, -30))\n",
    "    legend.label_text_font_size = '8pt'\n",
    "    \n",
    "    p2.add_layout(legend, 'right')  \n",
    "    \n",
    "    show(gridplot(p1, p2, ncols=2, plot_height=500))\n",
    "    \n",
    "\n",
    "def script_plt_cooling():\n",
    "    pltdata = pltdata_cooling_1(\n",
    "        ds_cool=DS_COOL,\n",
    "        ds_cool_crd=DS_COOL_CRD,\n",
    "        ds_cool_wgt=DS_COOL_WGT)\n",
    "    plt_cooling_bokeh(pltdata=pltdata)\n",
    "    print('''FIGURE. Cooling rate profiles.''')"
   ]
  },
  {
   "cell_type": "code",
   "execution_count": 9,
   "metadata": {
    "collapsed": true
   },
   "outputs": [],
   "source": [
    "def fmt_flux(ds_in):\n",
    "    ds = ds_in.copy(deep=True)\n",
    "    \n",
    "    for l in ('level', 'layer'):\n",
    "        if l in ds.data_vars:\n",
    "            if len(ds[l].dims) > 1:\n",
    "                surface = {d: 0 for d in ds.dims if d != 'pressure'}\n",
    "                coord_level = ds[l][surface]\n",
    "                ds.coords[l] = ('pressure', coord_level)\n",
    "            else:\n",
    "                ds.coords[l] = ('pressure', ds[l])\n",
    "        \n",
    "    ds = ds.isel(pressure=[0, 23, -1])\n",
    "        \n",
    "    if 'igg' in ds.dims:\n",
    "        ds = ds.sel(igg=[1])\n",
    "        ds = ds.squeeze('igg').drop('igg')\n",
    "    \n",
    "    if 'g' in ds.dims:\n",
    "        ds = ds.sum('g')\n",
    "            \n",
    "    if 'band' in ds.dims:\n",
    "        try:\n",
    "            ds = ds.squeeze('band').drop('band')\n",
    "        except ValueError:\n",
    "            ds = ds.sum('band')\n",
    "                \n",
    "    df = ds.to_dataframe()\n",
    "    df = df.set_index('level', append=True)               \n",
    "    return df\n",
    "\n",
    "\n",
    "def tbdata_flux(ds_flux=None, ds_flux_crd=None, ds_flux_wgt=None):\n",
    "    ilevels = [0, 23, -1]\n",
    "            \n",
    "    benchmark = {'label': 'WGT igg=10 wgt_flux=1',\n",
    "                 'df': fmt_flux(ds_flux_wgt)}\n",
    "    \n",
    "    tbs = [{'label': 'CRD',\n",
    "            'df': fmt_flux(ds_flux_crd)},\n",
    "           {'label': 'CLIRAD',\n",
    "            'df': fmt_flux(ds_flux)}]\n",
    "    \n",
    "    data = {'benchmark': benchmark, 'others': tbs}\n",
    "    return data\n",
    "\n",
    "\n",
    "def tb_flux(tbdata=None):\n",
    "    benchmark = tbdata['benchmark']\n",
    "    others = tbdata['others']\n",
    "    \n",
    "    def show_tb(d=None):\n",
    "        display.display(d['df'])\n",
    "        print('Table.', 'Fluxes.', d['label'])\n",
    "        \n",
    "    def show_tbdiff(d0=None, d=None):\n",
    "        df = d['df']\n",
    "        df.index = d0['df'].index\n",
    "        display.display(df - d0['df'])\n",
    "        print('Table.', 'Fluxes.', \n",
    "              '({}) - ({})'.format(d['label'], d0['label']))\n",
    "        \n",
    "    show_tb(benchmark)\n",
    "    for d in others:\n",
    "        show_tb(d)\n",
    "        \n",
    "    for d in others:\n",
    "        show_tbdiff(d=d, d0=benchmark)\n",
    "        \n",
    "        \n",
    "def script_tb_flux():\n",
    "    data = tbdata_flux(ds_flux=DS_FLUX,\n",
    "                       ds_flux_crd=DS_FLUX_CRD,\n",
    "                       ds_flux_wgt=DS_FLUX_WGT)\n",
    "    tb_flux(tbdata=data)"
   ]
  },
  {
   "cell_type": "code",
   "execution_count": 10,
   "metadata": {
    "collapsed": true
   },
   "outputs": [],
   "source": [
    "def band_map():\n",
    "    '''\n",
    "    Maps spectral bands in lblnew to spectral bands in clirad.\n",
    "    '''\n",
    "    lblnew2clirad = {'1': '1',\n",
    "            '2': '2',\n",
    "            '3a': '3',\n",
    "            '3b': '4',\n",
    "            '3c': '5',\n",
    "            '4': '6', \n",
    "            '5': '7',\n",
    "            '6': '8',\n",
    "            '7': '9', \n",
    "            '8': '10',\n",
    "            '9': '11'}\n",
    "    \n",
    "    clirad2lblnew = {clirad: lblnew \n",
    "                     for lblnew, clirad in lblnew2clirad.items()}\n",
    "    return clirad2lblnew\n",
    "\n",
    "\n",
    "def gasbands():\n",
    "    bmap = band_map()\n",
    "    gases = list(PARAM['molecule'].keys())\n",
    "    \n",
    "    bands = [bmap[str(b)] for b in PARAM['band']]\n",
    "    return list(itertools.product(gases, bands))\n",
    "\n",
    "\n",
    "def print_bestfit_params():\n",
    "    print('Best-fit values for each (gas, band)')\n",
    "    print('------------------------------------')\n",
    "    for gas, band in gasbands():\n",
    "        print('o {} band{}'.format(gas, band))\n",
    "        param = bestfits.kdist_params(molecule=gas, band=band)\n",
    "        for name, value in sorted(param.items()):\n",
    "            print(2 * ' ' + '{} = {}'.format(name, value))\n",
    "\n",
    "        \n",
    "def print_input_param():        \n",
    "    for name, value in PARAM.items():\n",
    "        print('{} = {}'.format(name, value))\n",
    "        \n",
    "        \n",
    "def print_lblnew_param():\n",
    "    for name, value in sorted(PARAM_LBLNEW.items()):\n",
    "        print('{} = {}'.format(name, value))\n"
   ]
  },
  {
   "cell_type": "code",
   "execution_count": 11,
   "metadata": {
    "collapsed": true,
    "scrolled": false
   },
   "outputs": [],
   "source": [
    "def show_html(s):\n",
    "    display.display(display.HTML(s))\n",
    "\n",
    "    \n",
    "def show_markdown(s):\n",
    "    display.display(display.Markdown(s))\n",
    "\n",
    "    \n",
    "def script():\n",
    "    \n",
    "    title = '### CLIRAD-LW'\n",
    "    s_input = 'Input Parameters'\n",
    "    s_lblnew_param = 'LBLNEW case compaired against'\n",
    "    s_bestfits = 'Best-fit Parameters'\n",
    "    s_plt_cooling = 'Cooling Rate Profiles'\n",
    "    s_tb_flux = 'Flux Comparison'\n",
    "    \n",
    "    # title\n",
    "    show_markdown('### CLIRAD-LW')\n",
    "    \n",
    "    # TOC\n",
    "    show_markdown('### Table of Contents')\n",
    "    show_html(climahtml.getHTML_hrefanchor(s_input))\n",
    "    show_html(climahtml.getHTML_hrefanchor(s_lblnew_param))\n",
    "    show_html(climahtml.getHTML_hrefanchor(s_plt_cooling))\n",
    "    show_html(climahtml.getHTML_hrefanchor(s_tb_flux))\n",
    "    show_html(climahtml.getHTML_hrefanchor(s_bestfits))\n",
    "    \n",
    "    # Input parameters\n",
    "    show_html(climahtml.getHTML_idanchor(s_input))\n",
    "    show_markdown(climahtml.getMarkdown_sectitle(s_input))\n",
    "    print_input_param()\n",
    "    \n",
    "    # LBLNEW parameters \n",
    "    show_html(climahtml.getHTML_idanchor(s_lblnew_param))\n",
    "    show_markdown(climahtml.getMarkdown_sectitle(s_lblnew_param))\n",
    "    print_lblnew_param()\n",
    "    \n",
    "    # Cooling rate profiles\n",
    "    show_html(climahtml.getHTML_idanchor(s_plt_cooling))\n",
    "    show_markdown(climahtml.getMarkdown_sectitle(s_plt_cooling))\n",
    "    script_plt_cooling()\n",
    "    \n",
    "    # Flux comparison\n",
    "    show_html(climahtml.getHTML_idanchor(s_tb_flux))\n",
    "    show_markdown(climahtml.getMarkdown_sectitle(s_tb_flux))\n",
    "    script_tb_flux()\n",
    "    \n",
    "    # Best-fit values\n",
    "    show_html(climahtml.getHTML_idanchor(s_bestfits))\n",
    "    show_markdown(climahtml.getMarkdown_sectitle(s_bestfits))\n",
    "    print_bestfit_params()\n",
    "   \n",
    "    "
   ]
  },
  {
   "cell_type": "code",
   "execution_count": 12,
   "metadata": {
    "collapsed": true,
    "scrolled": false
   },
   "outputs": [
    {
     "data": {
      "text/markdown": [
       "### CLIRAD-LW"
      ],
      "text/plain": [
       "<IPython.core.display.Markdown object>"
      ]
     },
     "metadata": {},
     "output_type": "display_data"
    },
    {
     "data": {
      "text/markdown": [
       "### Table of Contents"
      ],
      "text/plain": [
       "<IPython.core.display.Markdown object>"
      ]
     },
     "metadata": {},
     "output_type": "display_data"
    },
    {
     "data": {
      "text/html": [
       "<a href=\"#Input_Parameters\">Input Parameters</a>"
      ],
      "text/plain": [
       "<IPython.core.display.HTML object>"
      ]
     },
     "metadata": {},
     "output_type": "display_data"
    },
    {
     "data": {
      "text/html": [
       "<a href=\"#LBLNEW_case_compaired_against\">LBLNEW case compaired against</a>"
      ],
      "text/plain": [
       "<IPython.core.display.HTML object>"
      ]
     },
     "metadata": {},
     "output_type": "display_data"
    },
    {
     "data": {
      "text/html": [
       "<a href=\"#Cooling_Rate_Profiles\">Cooling Rate Profiles</a>"
      ],
      "text/plain": [
       "<IPython.core.display.HTML object>"
      ]
     },
     "metadata": {},
     "output_type": "display_data"
    },
    {
     "data": {
      "text/html": [
       "<a href=\"#Flux_Comparison\">Flux Comparison</a>"
      ],
      "text/plain": [
       "<IPython.core.display.HTML object>"
      ]
     },
     "metadata": {},
     "output_type": "display_data"
    },
    {
     "data": {
      "text/html": [
       "<a href=\"#Best-fit_Parameters\">Best-fit Parameters</a>"
      ],
      "text/plain": [
       "<IPython.core.display.HTML object>"
      ]
     },
     "metadata": {},
     "output_type": "display_data"
    },
    {
     "data": {
      "text/html": [
       "<a id=\"Input_Parameters\"></a>"
      ],
      "text/plain": [
       "<IPython.core.display.HTML object>"
      ]
     },
     "metadata": {},
     "output_type": "display_data"
    },
    {
     "data": {
      "text/markdown": [
       "# Input Parameters"
      ],
      "text/plain": [
       "<IPython.core.display.Markdown object>"
      ]
     },
     "metadata": {},
     "output_type": "display_data"
    },
    {
     "name": "stdout",
     "output_type": "stream",
     "text": [
      "atmpro = saw\n",
      "band = [3]\n",
      "commitnumber = a3da41e\n",
      "molecule = {'n2o': 3.2e-07}\n",
      "tsfc = 257\n"
     ]
    },
    {
     "data": {
      "text/html": [
       "<a id=\"LBLNEW_case_compaired_against\"></a>"
      ],
      "text/plain": [
       "<IPython.core.display.HTML object>"
      ]
     },
     "metadata": {},
     "output_type": "display_data"
    },
    {
     "data": {
      "text/markdown": [
       "# LBLNEW case compaired against"
      ],
      "text/plain": [
       "<IPython.core.display.Markdown object>"
      ]
     },
     "metadata": {},
     "output_type": "display_data"
    },
    {
     "name": "stdout",
     "output_type": "stream",
     "text": [
      "atmpro = saw\n",
      "band = 3a\n",
      "commitnumber = 5014a19\n",
      "conc = 3.2e-07\n",
      "dv = 0.01\n",
      "klin = 2.22e-20\n",
      "molecule = n2o\n",
      "ng_adju = [0, 0]\n",
      "ng_refs = [1, 2]\n",
      "nv = 100\n",
      "option_compute_btable = 0\n",
      "option_compute_ktable = 0\n",
      "option_wgt_flux = 1\n",
      "option_wgt_k = 1\n",
      "ref_pts = [(1, 250), (500, 250)]\n",
      "tsfc = 257\n",
      "vmax = 620\n",
      "vmin = 540\n",
      "w_diffuse = [(1.8,), (1.66, 1.8)]\n",
      "wgt = [(0.9,), (0.5, 0.95)]\n"
     ]
    },
    {
     "data": {
      "text/html": [
       "<a id=\"Cooling_Rate_Profiles\"></a>"
      ],
      "text/plain": [
       "<IPython.core.display.HTML object>"
      ]
     },
     "metadata": {},
     "output_type": "display_data"
    },
    {
     "data": {
      "text/markdown": [
       "# Cooling Rate Profiles"
      ],
      "text/plain": [
       "<IPython.core.display.Markdown object>"
      ]
     },
     "metadata": {},
     "output_type": "display_data"
    },
    {
     "data": {
      "text/html": [
       "\n",
       "<div class=\"bk-root\">\n",
       "    <div class=\"bk-plotdiv\" id=\"ed34a21a-1cb6-42c3-850b-c5249012e983\"></div>\n",
       "</div>"
      ]
     },
     "metadata": {},
     "output_type": "display_data"
    },
    {
     "data": {
      "application/javascript": [
       "(function(root) {\n",
       "  function embed_document(root) {\n",
       "    \n",
       "  var docs_json = {\"01be2c8a-b324-4ed8-b128-8b3fdc4bb97b\":{\"roots\":{\"references\":[{\"attributes\":{},\"id\":\"21ae499d-9d70-4379-a604-7df8ebb160be\",\"type\":\"PanTool\"},{\"attributes\":{\"callback\":null,\"column_names\":[\"x\",\"y\"],\"data\":{\"x\":{\"__ndarray__\":\"UQkn6sT8iD/3SHcQjsGKP6XYMX/mbo4/0DpDdLEmkT9+VtSUDSmTP4ppmVvkPpU/5r9kgF5nlz8m+TLgB6GZP5gxiJSo7ps/0EsFOphQnj/sG9o30WOgP7epX63DqaE/5faK4bz4oj9ltngWxCmkP269zxTOGqU/l0F1GxzupT+t3TfeycOmP6rX9vFioqc/piLloo2CqD8aS1SHzkapP6zqVOnZBao/fj4McktNqT+sRgfc8bSmP+Iadggmp6M/NcetZeC6oD9K1WCGnuybPw0Vl1h7s5Y/lkuG95tMkj909PZddhGOP0sFIiAVn4g/VIZ78hp+gz//Wucfdrx9P2FQAubf4Xc//5qOeWG0dT93cjzKrWt0P6C2bRzFb3M/h2KXrNFbcj/qbAlqcn5wP1y9JyCsRmw/A6NyD5bZZz8Xo0yzMnZjP1G60tAgP14/6LptLs3NVT/ES5Y8bcNKP9C0ggbLFDk/+8OHPD+RQj+AX6Dz6dFaPyY2A1Y9FWk/ZL/ZyodScj/V78nJhdp3P2ou1vXRP30/sTJgqSNJgT+4ApZVwt6DP24RdTf4T4Y/9BR8+gy8iD8ofB1ClxCLPwwbDtiIMY0/J7jWq0hEjz/YpS9M8piQP1Cvynx9cZE/V2Eb/2o/kj+Eoeqtg/eSPwPnEGGRmZM/+FVH+xA1lD9epeZrybyUP2ZpB1mfPZU/vHr1L1m1lT8+4W7FjBSWP/iw99f0XZY/fIyQfhZrlj8CeVU0DTuWP3URVAWS1JU/4drqKeJKlT+6SwO7cb2UP7ddGAEzIpQ/\",\"dtype\":\"float64\",\"shape\":[75]},\"y\":{\"__ndarray__\":\"GhExyth1ND/Sv8nbtpRIP2vylNV0PVE/aTum7souWD/At0SJ8fVgPw3Iuahxymc/MSNhhJWvcD/bTfBN02d3P2zb5nxnaoA/CD5h5MAGhz8NmeH1TyaQP+zrCsc9p5Y/LbKd76fGnz/bLW5ISEmmPww9YvTcQq8/JV2OstnstT8Er5Y7M8G+P0c+r3jqkcU/5h99k6ZBzj88bCIzFzjVP4enV8oyxN0//yH99nXg5D8qOpLLf0jtP5kqGJXUifQ/c9cS8kHP/D+/DpwzojQEQIEmwoanVwxA4lgXt9HgE0BSSZ2AJuIbQAMJih9jjiNA5q4l5INuK0AwTKYKRj0zQNv5fmq8/DpAaCJseHrtQkB/+zpwzoxKQM3MzMzMeFJAZmZmZmZqWEAAAAAAAFxeQM3MzMzMJmJAmpmZmZkfZUBmZmZmZhhoQDMzMzMzEWtAAAAAAAAKbkBmZmZmZoFwQM3MzMzM/XFAMzMzMzN6c0CamZmZmfZ0QAAAAAAAc3ZAZmZmZmbvd0DNzMzMzGt5QDMzMzMz6HpAmpmZmZlkfEAAAAAAAOF9QGZmZmZmXX9AZmZmZuZsgECamZmZGSuBQM3MzMxM6YFAAAAAAICngkAzMzMzs2WDQGZmZmbmI4RAmpmZmRnihEDNzMzMTKCFQAAAAACAXoZAMzMzM7Mch0BmZmZm5tqHQJqZmZkZmYhAzczMzExXiUAAAAAAgBWKQDMzMzOz04pAZmZmZuaRi0CamZmZGVCMQM3MzMxMDo1AAAAAAIDMjUAzMzMzs4qOQGZmZmbmSI9A\",\"dtype\":\"float64\",\"shape\":[75]}}},\"id\":\"faea5f36-d1bd-447c-8155-2a9d948c26cb\",\"type\":\"ColumnDataSource\"},{\"attributes\":{},\"id\":\"222c8088-78df-4cd1-a330-57f747df0b81\",\"type\":\"SaveTool\"},{\"attributes\":{\"dimension\":1,\"plot\":{\"id\":\"89e71b95-6ef7-4735-89d5-328581bc2727\",\"subtype\":\"Figure\",\"type\":\"Plot\"},\"ticker\":{\"id\":\"3ae0c1ac-45d4-4c3e-9500-cbb4fbbe42f4\",\"type\":\"BasicTicker\"}},\"id\":\"398fb4cb-da87-496b-bebc-7285081783d0\",\"type\":\"Grid\"},{\"attributes\":{\"bottom_units\":\"screen\",\"fill_alpha\":{\"value\":0.5},\"fill_color\":{\"value\":\"lightgrey\"},\"left_units\":\"screen\",\"level\":\"overlay\",\"line_alpha\":{\"value\":1.0},\"line_color\":{\"value\":\"black\"},\"line_dash\":[4,4],\"line_width\":{\"value\":2},\"plot\":null,\"render_mode\":\"css\",\"right_units\":\"screen\",\"top_units\":\"screen\"},\"id\":\"57d8f6ff-72e7-40a6-8166-6c1161e2e772\",\"type\":\"BoxAnnotation\"},{\"attributes\":{},\"id\":\"53de8d32-657f-48b2-ba8f-11669dded5ed\",\"type\":\"BasicTickFormatter\"},{\"attributes\":{},\"id\":\"3baf7e6f-6a61-4905-9957-0210941a4bee\",\"type\":\"WheelZoomTool\"},{\"attributes\":{\"data_source\":{\"id\":\"86d8bfa4-1930-415a-b8cf-6b8b4e6101ab\",\"type\":\"ColumnDataSource\"},\"glyph\":{\"id\":\"dc98abd4-67b2-4e11-bf5c-cd9dcf62f58a\",\"type\":\"Line\"},\"hover_glyph\":null,\"muted_glyph\":null,\"nonselection_glyph\":{\"id\":\"1349bd4f-3c1b-4772-99a8-1c6f2a44f03c\",\"type\":\"Line\"},\"selection_glyph\":null,\"view\":{\"id\":\"e458269e-ed7a-4bcb-bd2b-20957b861304\",\"type\":\"CDSView\"}},\"id\":\"d9b2893e-a8d7-453a-bcd0-0e4db3434adb\",\"type\":\"GlyphRenderer\"},{\"attributes\":{\"line_color\":\"#4daf4a\",\"line_width\":1.5,\"x\":{\"field\":\"x\"},\"y\":{\"field\":\"y\"}},\"id\":\"eaaeb389-6057-4ab3-9842-b5b99d85cbae\",\"type\":\"Line\"},{\"attributes\":{\"fill_alpha\":{\"value\":0.7},\"fill_color\":{\"value\":\"#4daf4a\"},\"line_alpha\":{\"value\":0.7},\"line_color\":{\"value\":\"#4daf4a\"},\"x\":{\"field\":\"x\"},\"y\":{\"field\":\"y\"}},\"id\":\"526079b3-b377-4322-87fa-980d6cae09f9\",\"type\":\"Circle\"},{\"attributes\":{\"callback\":null,\"column_names\":[\"x\",\"y\"],\"data\":{\"x\":{\"__ndarray__\":\"fCeyS17hhD9kDF2dJNyGP1qoHjHG/Io/U4fQmZhUjz+bdaqiluuRP5Pp6YYaQ5Q/t16/n5uvlj83pm4BfS+ZP58X56Izxps/5IgxwHB0nj/Rl+O3Fp2gP2MTXFaoCKI/ivbCrjd7oz/SOfM2LMmkP3AnArYyyqU/Xq0fCoKhpj+xhlujvXinP6doVPy5Sqg/mabuG3YXqT+LsbHqKt+pP2LkpLFvh6o/R7L4YUWMqT88e+V83HemP9dc2BR07aI/bxisCJxEnz+UdkcfIzuZP3kCXO6ezJM/uwlWhoUbjz+bNfyXOZeJP4B3s4VuloU/n1CeZVUFgj/2dA0tDaB9PxdwpnR2U3o/Bk6jeVofej9p3dCd6sx5PzexLtCol3g/8gjstRKWdj+dcqwaYoZzP3TsCPZLA3A/q8cJDEOvaT8VMgDh9tVjP5T/PFrLjlw/VTbkCmyoUT+FX6oVxo86P7Z8Ovs5ySm/AHs1Xvg2GL+yD/HZ+mVQPzj+zjInAWQ/mDrgYz1obz/sv7CuISd1P8uGERjtZXo/SMzxY7N3fz8H0lWb9y+CPxP4tqV9j4Q/8B9Up9jYhj/cQooT9QiJP5flZ/pXHIs/bY1r8HwOjT/da+V+t9uOP6Jz6SXnQJA/4qamJ6P/kD934yshIqyRP+7OIUOjSJI/WybNY/DXkj/gI0T0yVyTPwx/fsYi2ZM/z9jPFptMlD/MafFXOLGUPwPh5xjA9pQ/mPeEYcoElT/2xuN+lMyUP34f7QO5WZQ/OC9vip7Gkz8PsK+l4ieTP1EUE5TVhpI/\",\"dtype\":\"float64\",\"shape\":[75]},\"y\":{\"__ndarray__\":\"GhExyth1ND/Sv8nbtpRIP2vylNV0PVE/aTum7souWD/At0SJ8fVgPw3Iuahxymc/MSNhhJWvcD/bTfBN02d3P2zb5nxnaoA/CD5h5MAGhz8NmeH1TyaQP+zrCsc9p5Y/LbKd76fGnz/bLW5ISEmmPww9YvTcQq8/JV2OstnstT8Er5Y7M8G+P0c+r3jqkcU/5h99k6ZBzj88bCIzFzjVP4enV8oyxN0//yH99nXg5D8qOpLLf0jtP5kqGJXUifQ/c9cS8kHP/D+/DpwzojQEQIEmwoanVwxA4lgXt9HgE0BSSZ2AJuIbQAMJih9jjiNA5q4l5INuK0AwTKYKRj0zQNv5fmq8/DpAaCJseHrtQkB/+zpwzoxKQM3MzMzMeFJAZmZmZmZqWEAAAAAAAFxeQM3MzMzMJmJAmpmZmZkfZUBmZmZmZhhoQDMzMzMzEWtAAAAAAAAKbkBmZmZmZoFwQM3MzMzM/XFAMzMzMzN6c0CamZmZmfZ0QAAAAAAAc3ZAZmZmZmbvd0DNzMzMzGt5QDMzMzMz6HpAmpmZmZlkfEAAAAAAAOF9QGZmZmZmXX9AZmZmZuZsgECamZmZGSuBQM3MzMxM6YFAAAAAAICngkAzMzMzs2WDQGZmZmbmI4RAmpmZmRnihEDNzMzMTKCFQAAAAACAXoZAMzMzM7Mch0BmZmZm5tqHQJqZmZkZmYhAzczMzExXiUAAAAAAgBWKQDMzMzOz04pAZmZmZuaRi0CamZmZGVCMQM3MzMxMDo1AAAAAAIDMjUAzMzMzs4qOQGZmZmbmSI9A\",\"dtype\":\"float64\",\"shape\":[75]}}},\"id\":\"2b69efb4-ca7d-4b39-8ab0-ecf52d988e50\",\"type\":\"ColumnDataSource\"},{\"attributes\":{\"overlay\":{\"id\":\"57d8f6ff-72e7-40a6-8166-6c1161e2e772\",\"type\":\"BoxAnnotation\"}},\"id\":\"32906d63-06e6-46ac-8877-1f89a506f2db\",\"type\":\"BoxZoomTool\"},{\"attributes\":{},\"id\":\"59fff883-558e-412f-b08f-3d41e895489b\",\"type\":\"ResetTool\"},{\"attributes\":{\"callback\":null,\"column_names\":[\"x\",\"y\"],\"data\":{\"x\":{\"__ndarray__\":\"AAAAAAAAAAAAAAAAAAAAABQSFRzxc6M/AAAAAAAAAAAAAAAAAAAAAGcW4DxOMZw/d8PP4jkZpD9m8TfhK6icP3Roy5gGbpQ/7oMzxQohjT9lDawdpCuiP3nznV2TdZ8/e8LxAD94oj/bty2mphieP7nOQN4LyaQ/NSd7wEbWoz+TyEOBbMmkP6Yno/8ivqU/i9gO48FYpj+Ouz78xwWnP8b16kET8ac/HLPLO3dQpz+lQNEC1bukP54r594FQqI/tE4i483xnj+Qn96jNiWaP/IqwZubWpU/zRM1vExZkT+BxdoSy8OMP1udhQVDkoc/hcWMX92Zgj+OAWLdOxR8P9m/OJ6yBnY/Uh224hctcz+zp0p/IltxP2kCkt/MN3A/X3WAQqaFbj+r5MujFTprP7swaTohDmc/cBL4OwNHYz8arZ6oMGNfP0xon4JUblg/OBmJUxy1UT8AI2X+CF5GPwGpkj2r6zc/oZqDgZaXRD8SDGe/ddNbPyW4an1eKGk/2gJrIfQvcj+mE2RfDat3PzLdcAKIAH0/VE9N3swcgT8NsoDgpaiDP3Cufdv1zZs/eJcABsYdhj/KuXLIln2IP2y1h71QwIo/OvjO10jsjD+mNHJIMPaOP856xvgPbZA/221jKDFMkT8pYM57ghWSP7xm08B4zpI/X+yIBtN3kz/V9qc77BGUPyK0iKLsn5Q/8eFDnXojlT9y+C0FZ5qVP/POq37IApY/K2Lv/cFLlj9OxtraIGWWPwaDoOC4RZY/qCrSnHPylT9edcE5U4OVP+r/elfNC5U/\",\"dtype\":\"float64\",\"shape\":[75]},\"y\":{\"__ndarray__\":\"MCRxoNFnQT9dcvo90IdNP+qWHeIftlQ/dNWXAFcNXT8NYIJ9MWBkP10nQT3OlGw/j4BJYrQLdD9jyv8cUR58P6d8Yj6UuIM/4k9uirCpiz98QnbexmaTPzw3+LjyNps/eYMeIE4Woz9zNWieEsaqP8rD9h4kx7I/FYYSdwZXuj8CvMP1QXnCPxYvFobI6ck/F35wPnUs0j/hCb3+JH7ZPwumL75H4eE/FK5H4XoU6T/Xo3A9CpfxPwaBlUOLrPg/ira+oyFOAUCgGi/dJEYIQBE2PL1SBhFAwE2QInzhF0B3TrNAu78gQPXb14FzfidA0ZFc/kN6MEAFo5I6AR03QHtLOV/sNUBAxAq3fCS9RkC8zob8M79PQCgmb4CZcVVAMzMzMzNjW0BmZmZmZqpgQLzoK0gzo2NAAAAAAACcZkBEF9S3zJRpQJqZmZmZjWxAZmZmZmaGb0AQ5KCEmT9xQAAAAAAAvHJA8Btfe2Y4dEAIclDCzLR1QPiNrz0zMXdAEOSghJmteEAAAAAAACp6QPAbX3tmpntACXJQwswifUD3ja89M59+QDeJQWDlSH9ACHJQwswNgEAAAAAAAMyAQPiNrz0zioFABTkoYWZIgkD7xteemQaDQAhyUMLMxINAAAAAAACDhED4ja89M0GFQAU5KGFm/4VA+8bXnpm9hkAIclDCzHuHQAAAAAAAOohA+I2vPTP4iEAFOShhZraJQPvG156ZdIpACXJQwswyi0AAAAAAAPGLQPeNrz0zr4xABTkoYWZtjUD7xteemSuOQHEDPj/M6Y5A\",\"dtype\":\"float64\",\"shape\":[75]}}},\"id\":\"86d8bfa4-1930-415a-b8cf-6b8b4e6101ab\",\"type\":\"ColumnDataSource\"},{\"attributes\":{\"source\":{\"id\":\"463b211a-3c22-4424-86f2-03e6db60671a\",\"type\":\"ColumnDataSource\"}},\"id\":\"e4b39638-9aac-497b-80ea-f5bc5321e3e6\",\"type\":\"CDSView\"},{\"attributes\":{\"callback\":null,\"end\":0.01,\"start\":1020},\"id\":\"628a02a5-fea3-41df-93dc-d383c25fc271\",\"type\":\"Range1d\"},{\"attributes\":{\"data_source\":{\"id\":\"18349fda-ec57-466d-a362-f721c3dc0aaf\",\"type\":\"ColumnDataSource\"},\"glyph\":{\"id\":\"eaaeb389-6057-4ab3-9842-b5b99d85cbae\",\"type\":\"Line\"},\"hover_glyph\":null,\"muted_glyph\":null,\"nonselection_glyph\":{\"id\":\"d8d4970c-f548-409f-a0c5-ab801bbb38f9\",\"type\":\"Line\"},\"selection_glyph\":null,\"view\":{\"id\":\"1b2eab3c-8260-4e9d-b025-07aac8529008\",\"type\":\"CDSView\"}},\"id\":\"6bf07d86-2634-4dce-9f0a-50fb5601470e\",\"type\":\"GlyphRenderer\"},{\"attributes\":{\"source\":{\"id\":\"b53325c6-4adc-4dab-b70e-117179d3228a\",\"type\":\"ColumnDataSource\"}},\"id\":\"485f06eb-1b3a-4a74-86d9-79312c217e47\",\"type\":\"CDSView\"},{\"attributes\":{\"data_source\":{\"id\":\"2b69efb4-ca7d-4b39-8ab0-ecf52d988e50\",\"type\":\"ColumnDataSource\"},\"glyph\":{\"id\":\"72d6c811-d6d0-4e41-afc9-7dcb9bc9916a\",\"type\":\"Line\"},\"hover_glyph\":null,\"muted_glyph\":null,\"nonselection_glyph\":{\"id\":\"4cae5c47-e1d2-4dc0-beed-7c520af473a7\",\"type\":\"Line\"},\"selection_glyph\":null,\"view\":{\"id\":\"a8850711-e2a2-42c4-9572-02cdb728fd03\",\"type\":\"CDSView\"}},\"id\":\"0092e145-d02b-4a8e-b6f1-68eef1e6e805\",\"type\":\"GlyphRenderer\"},{\"attributes\":{\"data_source\":{\"id\":\"c64a37a2-c3bd-4265-9447-2465a47380a6\",\"type\":\"ColumnDataSource\"},\"glyph\":{\"id\":\"526079b3-b377-4322-87fa-980d6cae09f9\",\"type\":\"Circle\"},\"hover_glyph\":null,\"muted_glyph\":null,\"nonselection_glyph\":{\"id\":\"7093c9fa-b7be-4502-aa13-f25db703cba2\",\"type\":\"Circle\"},\"selection_glyph\":null,\"view\":{\"id\":\"3341cf3c-268e-4a2b-818a-c03a3b8af308\",\"type\":\"CDSView\"}},\"id\":\"acd27bea-5021-4ca2-af33-66770880a42f\",\"type\":\"GlyphRenderer\"},{\"attributes\":{},\"id\":\"a4408b3c-75f7-4f3a-8e88-b1aec31dcd91\",\"type\":\"HelpTool\"},{\"attributes\":{\"callback\":null,\"column_names\":[\"x\",\"y\"],\"data\":{\"x\":{\"__ndarray__\":\"fCeyS17hhD9kDF2dJNyGP1qoHjHG/Io/U4fQmZhUjz+bdaqiluuRP5Pp6YYaQ5Q/t16/n5uvlj83pm4BfS+ZP58X56Izxps/5IgxwHB0nj/Rl+O3Fp2gP2MTXFaoCKI/ivbCrjd7oz/SOfM2LMmkP3AnArYyyqU/Xq0fCoKhpj+xhlujvXinP6doVPy5Sqg/mabuG3YXqT+LsbHqKt+pP2LkpLFvh6o/R7L4YUWMqT88e+V83HemP9dc2BR07aI/bxisCJxEnz+UdkcfIzuZP3kCXO6ezJM/uwlWhoUbjz+bNfyXOZeJP4B3s4VuloU/n1CeZVUFgj/2dA0tDaB9PxdwpnR2U3o/Bk6jeVofej9p3dCd6sx5PzexLtCol3g/8gjstRKWdj+dcqwaYoZzP3TsCPZLA3A/q8cJDEOvaT8VMgDh9tVjP5T/PFrLjlw/VTbkCmyoUT+FX6oVxo86P7Z8Ovs5ySm/AHs1Xvg2GL+yD/HZ+mVQPzj+zjInAWQ/mDrgYz1obz/sv7CuISd1P8uGERjtZXo/SMzxY7N3fz8H0lWb9y+CPxP4tqV9j4Q/8B9Up9jYhj/cQooT9QiJP5flZ/pXHIs/bY1r8HwOjT/da+V+t9uOP6Jz6SXnQJA/4qamJ6P/kD934yshIqyRP+7OIUOjSJI/WybNY/DXkj/gI0T0yVyTPwx/fsYi2ZM/z9jPFptMlD/MafFXOLGUPwPh5xjA9pQ/mPeEYcoElT/2xuN+lMyUP34f7QO5WZQ/OC9vip7Gkz8PsK+l4ieTP1EUE5TVhpI/\",\"dtype\":\"float64\",\"shape\":[75]},\"y\":{\"__ndarray__\":\"GhExyth1ND/Sv8nbtpRIP2vylNV0PVE/aTum7souWD/At0SJ8fVgPw3Iuahxymc/MSNhhJWvcD/bTfBN02d3P2zb5nxnaoA/CD5h5MAGhz8NmeH1TyaQP+zrCsc9p5Y/LbKd76fGnz/bLW5ISEmmPww9YvTcQq8/JV2OstnstT8Er5Y7M8G+P0c+r3jqkcU/5h99k6ZBzj88bCIzFzjVP4enV8oyxN0//yH99nXg5D8qOpLLf0jtP5kqGJXUifQ/c9cS8kHP/D+/DpwzojQEQIEmwoanVwxA4lgXt9HgE0BSSZ2AJuIbQAMJih9jjiNA5q4l5INuK0AwTKYKRj0zQNv5fmq8/DpAaCJseHrtQkB/+zpwzoxKQM3MzMzMeFJAZmZmZmZqWEAAAAAAAFxeQM3MzMzMJmJAmpmZmZkfZUBmZmZmZhhoQDMzMzMzEWtAAAAAAAAKbkBmZmZmZoFwQM3MzMzM/XFAMzMzMzN6c0CamZmZmfZ0QAAAAAAAc3ZAZmZmZmbvd0DNzMzMzGt5QDMzMzMz6HpAmpmZmZlkfEAAAAAAAOF9QGZmZmZmXX9AZmZmZuZsgECamZmZGSuBQM3MzMxM6YFAAAAAAICngkAzMzMzs2WDQGZmZmbmI4RAmpmZmRnihEDNzMzMTKCFQAAAAACAXoZAMzMzM7Mch0BmZmZm5tqHQJqZmZkZmYhAzczMzExXiUAAAAAAgBWKQDMzMzOz04pAZmZmZuaRi0CamZmZGVCMQM3MzMxMDo1AAAAAAIDMjUAzMzMzs4qOQGZmZmbmSI9A\",\"dtype\":\"float64\",\"shape\":[75]}}},\"id\":\"c64a37a2-c3bd-4265-9447-2465a47380a6\",\"type\":\"ColumnDataSource\"},{\"attributes\":{\"line_alpha\":0.1,\"line_color\":\"#1f77b4\",\"line_width\":1.5,\"x\":{\"field\":\"x\"},\"y\":{\"field\":\"y\"}},\"id\":\"d8d4970c-f548-409f-a0c5-ab801bbb38f9\",\"type\":\"Line\"},{\"attributes\":{\"fill_alpha\":{\"value\":0.1},\"fill_color\":{\"value\":\"#1f77b4\"},\"line_alpha\":{\"value\":0.1},\"line_color\":{\"value\":\"#1f77b4\"},\"x\":{\"field\":\"x\"},\"y\":{\"field\":\"y\"}},\"id\":\"7093c9fa-b7be-4502-aa13-f25db703cba2\",\"type\":\"Circle\"},{\"attributes\":{},\"id\":\"2fac5179-2e40-4e51-ad6f-9276d90baba2\",\"type\":\"LinearScale\"},{\"attributes\":{\"fill_alpha\":{\"value\":0.1},\"fill_color\":{\"value\":\"#1f77b4\"},\"line_alpha\":{\"value\":0.1},\"line_color\":{\"value\":\"#1f77b4\"},\"x\":{\"field\":\"x\"},\"y\":{\"field\":\"y\"}},\"id\":\"67e69b84-0367-47f8-8ea8-8d08a50f6904\",\"type\":\"Circle\"},{\"attributes\":{\"ticker\":null},\"id\":\"bd0e59a2-6493-4d74-8d12-7f74df38b818\",\"type\":\"LogTickFormatter\"},{\"attributes\":{\"source\":{\"id\":\"c64a37a2-c3bd-4265-9447-2465a47380a6\",\"type\":\"ColumnDataSource\"}},\"id\":\"3341cf3c-268e-4a2b-818a-c03a3b8af308\",\"type\":\"CDSView\"},{\"attributes\":{\"line_color\":\"#4daf4a\",\"line_width\":1.5,\"x\":{\"field\":\"x\"},\"y\":{\"field\":\"y\"}},\"id\":\"72d6c811-d6d0-4e41-afc9-7dcb9bc9916a\",\"type\":\"Line\"},{\"attributes\":{},\"id\":\"eda76b50-66b5-4e68-be1d-3e1aa6cfc84c\",\"type\":\"LinearScale\"},{\"attributes\":{\"callback\":null,\"column_names\":[\"x\",\"y\"],\"data\":{\"x\":{\"__ndarray__\":\"UQkn6sT8iD/3SHcQjsGKP6XYMX/mbo4/0DpDdLEmkT9+VtSUDSmTP4ppmVvkPpU/5r9kgF5nlz8m+TLgB6GZP5gxiJSo7ps/0EsFOphQnj/sG9o30WOgP7epX63DqaE/5faK4bz4oj9ltngWxCmkP269zxTOGqU/l0F1GxzupT+t3TfeycOmP6rX9vFioqc/piLloo2CqD8aS1SHzkapP6zqVOnZBao/fj4McktNqT+sRgfc8bSmP+Iadggmp6M/NcetZeC6oD9K1WCGnuybPw0Vl1h7s5Y/lkuG95tMkj909PZddhGOP0sFIiAVn4g/VIZ78hp+gz//Wucfdrx9P2FQAubf4Xc//5qOeWG0dT93cjzKrWt0P6C2bRzFb3M/h2KXrNFbcj/qbAlqcn5wP1y9JyCsRmw/A6NyD5bZZz8Xo0yzMnZjP1G60tAgP14/6LptLs3NVT/ES5Y8bcNKP9C0ggbLFDk/+8OHPD+RQj+AX6Dz6dFaPyY2A1Y9FWk/ZL/ZyodScj/V78nJhdp3P2ou1vXRP30/sTJgqSNJgT+4ApZVwt6DP24RdTf4T4Y/9BR8+gy8iD8ofB1ClxCLPwwbDtiIMY0/J7jWq0hEjz/YpS9M8piQP1Cvynx9cZE/V2Eb/2o/kj+Eoeqtg/eSPwPnEGGRmZM/+FVH+xA1lD9epeZrybyUP2ZpB1mfPZU/vHr1L1m1lT8+4W7FjBSWP/iw99f0XZY/fIyQfhZrlj8CeVU0DTuWP3URVAWS1JU/4drqKeJKlT+6SwO7cb2UP7ddGAEzIpQ/\",\"dtype\":\"float64\",\"shape\":[75]},\"y\":{\"__ndarray__\":\"GhExyth1ND/Sv8nbtpRIP2vylNV0PVE/aTum7souWD/At0SJ8fVgPw3Iuahxymc/MSNhhJWvcD/bTfBN02d3P2zb5nxnaoA/CD5h5MAGhz8NmeH1TyaQP+zrCsc9p5Y/LbKd76fGnz/bLW5ISEmmPww9YvTcQq8/JV2OstnstT8Er5Y7M8G+P0c+r3jqkcU/5h99k6ZBzj88bCIzFzjVP4enV8oyxN0//yH99nXg5D8qOpLLf0jtP5kqGJXUifQ/c9cS8kHP/D+/DpwzojQEQIEmwoanVwxA4lgXt9HgE0BSSZ2AJuIbQAMJih9jjiNA5q4l5INuK0AwTKYKRj0zQNv5fmq8/DpAaCJseHrtQkB/+zpwzoxKQM3MzMzMeFJAZmZmZmZqWEAAAAAAAFxeQM3MzMzMJmJAmpmZmZkfZUBmZmZmZhhoQDMzMzMzEWtAAAAAAAAKbkBmZmZmZoFwQM3MzMzM/XFAMzMzMzN6c0CamZmZmfZ0QAAAAAAAc3ZAZmZmZmbvd0DNzMzMzGt5QDMzMzMz6HpAmpmZmZlkfEAAAAAAAOF9QGZmZmZmXX9AZmZmZuZsgECamZmZGSuBQM3MzMxM6YFAAAAAAICngkAzMzMzs2WDQGZmZmbmI4RAmpmZmRnihEDNzMzMTKCFQAAAAACAXoZAMzMzM7Mch0BmZmZm5tqHQJqZmZkZmYhAzczMzExXiUAAAAAAgBWKQDMzMzOz04pAZmZmZuaRi0CamZmZGVCMQM3MzMxMDo1AAAAAAIDMjUAzMzMzs4qOQGZmZmbmSI9A\",\"dtype\":\"float64\",\"shape\":[75]}}},\"id\":\"3fe7c71b-d0f3-42ca-9e0d-0066dbbf9956\",\"type\":\"ColumnDataSource\"},{\"attributes\":{\"line_alpha\":0.6,\"line_color\":\"#984ea3\",\"line_width\":3,\"x\":{\"field\":\"x\"},\"y\":{\"field\":\"y\"}},\"id\":\"b4ab32b7-2d73-420b-a614-401943e9abf1\",\"type\":\"Line\"},{\"attributes\":{\"line_alpha\":0.1,\"line_color\":\"#1f77b4\",\"line_width\":1.5,\"x\":{\"field\":\"x\"},\"y\":{\"field\":\"y\"}},\"id\":\"4cae5c47-e1d2-4dc0-beed-7c520af473a7\",\"type\":\"Line\"},{\"attributes\":{\"source\":{\"id\":\"2b69efb4-ca7d-4b39-8ab0-ecf52d988e50\",\"type\":\"ColumnDataSource\"}},\"id\":\"a8850711-e2a2-42c4-9572-02cdb728fd03\",\"type\":\"CDSView\"},{\"attributes\":{\"active_drag\":\"auto\",\"active_inspect\":\"auto\",\"active_scroll\":\"auto\",\"active_tap\":\"auto\",\"tools\":[{\"id\":\"21ae499d-9d70-4379-a604-7df8ebb160be\",\"type\":\"PanTool\"},{\"id\":\"3baf7e6f-6a61-4905-9957-0210941a4bee\",\"type\":\"WheelZoomTool\"},{\"id\":\"32906d63-06e6-46ac-8877-1f89a506f2db\",\"type\":\"BoxZoomTool\"},{\"id\":\"222c8088-78df-4cd1-a330-57f747df0b81\",\"type\":\"SaveTool\"},{\"id\":\"59fff883-558e-412f-b08f-3d41e895489b\",\"type\":\"ResetTool\"},{\"id\":\"a4408b3c-75f7-4f3a-8e88-b1aec31dcd91\",\"type\":\"HelpTool\"}]},\"id\":\"b07f59d3-4f38-40a7-88b7-32baf16e19e8\",\"type\":\"Toolbar\"},{\"attributes\":{\"fill_alpha\":{\"value\":0.7},\"fill_color\":{\"value\":\"#984ea3\"},\"line_alpha\":{\"value\":0.7},\"line_color\":{\"value\":\"#984ea3\"},\"x\":{\"field\":\"x\"},\"y\":{\"field\":\"y\"}},\"id\":\"4e1b8646-1672-4fc4-b36f-a1e7664cdf80\",\"type\":\"Square\"},{\"attributes\":{\"callback\":null,\"end\":0.052309160496000005,\"start\":0.0018585839039999997},\"id\":\"916110cd-b998-4c4f-8e8e-94884940c83d\",\"type\":\"Range1d\"},{\"attributes\":{\"items\":[{\"id\":\"650baed4-7224-451a-b543-551a1ead0c9a\",\"type\":\"LegendItem\"},{\"id\":\"82e6553d-201c-4fb1-b168-827bacbfdbc0\",\"type\":\"LegendItem\"},{\"id\":\"3ec5816b-6b75-4f1a-b745-77655eaf500f\",\"type\":\"LegendItem\"}],\"label_text_font_size\":{\"value\":\"8pt\"},\"location\":[10,-30],\"plot\":{\"id\":\"59f88f11-9f44-4857-ae3e-e1b965c86ca0\",\"subtype\":\"Figure\",\"type\":\"Plot\"}},\"id\":\"f007ac3c-2464-48a7-b3a4-d8ae9033860b\",\"type\":\"Legend\"},{\"attributes\":{\"below\":[{\"id\":\"77981117-3a33-45fc-aaf3-1b0bd9f14b61\",\"type\":\"LinearAxis\"}],\"left\":[{\"id\":\"c744c59f-910b-4096-a71e-88e879245eed\",\"type\":\"LinearAxis\"}],\"plot_height\":500,\"plot_width\":400,\"renderers\":[{\"id\":\"77981117-3a33-45fc-aaf3-1b0bd9f14b61\",\"type\":\"LinearAxis\"},{\"id\":\"91b5b605-d828-4e5d-b300-c74c4f1d38a9\",\"type\":\"Grid\"},{\"id\":\"c744c59f-910b-4096-a71e-88e879245eed\",\"type\":\"LinearAxis\"},{\"id\":\"398fb4cb-da87-496b-bebc-7285081783d0\",\"type\":\"Grid\"},{\"id\":\"57d8f6ff-72e7-40a6-8166-6c1161e2e772\",\"type\":\"BoxAnnotation\"},{\"id\":\"d9b2893e-a8d7-453a-bcd0-0e4db3434adb\",\"type\":\"GlyphRenderer\"},{\"id\":\"e3be0f66-ae23-402f-8502-d6520f386e4c\",\"type\":\"GlyphRenderer\"},{\"id\":\"6bf07d86-2634-4dce-9f0a-50fb5601470e\",\"type\":\"GlyphRenderer\"},{\"id\":\"3852018a-79d1-40a5-911d-76b4f310deee\",\"type\":\"GlyphRenderer\"},{\"id\":\"9d988a46-f51f-4554-9be3-d1a151ac025b\",\"type\":\"GlyphRenderer\"}],\"title\":{\"id\":\"391020b7-ce88-4958-a5ff-96755ac19ff4\",\"type\":\"Title\"},\"toolbar\":{\"id\":\"b07f59d3-4f38-40a7-88b7-32baf16e19e8\",\"type\":\"Toolbar\"},\"toolbar_location\":null,\"x_range\":{\"id\":\"5976d7b9-24a9-4286-a293-a9092adea2a8\",\"type\":\"Range1d\"},\"x_scale\":{\"id\":\"eda76b50-66b5-4e68-be1d-3e1aa6cfc84c\",\"type\":\"LinearScale\"},\"y_range\":{\"id\":\"628a02a5-fea3-41df-93dc-d383c25fc271\",\"type\":\"Range1d\"},\"y_scale\":{\"id\":\"2fac5179-2e40-4e51-ad6f-9276d90baba2\",\"type\":\"LinearScale\"}},\"id\":\"89e71b95-6ef7-4735-89d5-328581bc2727\",\"subtype\":\"Figure\",\"type\":\"Plot\"},{\"attributes\":{\"source\":{\"id\":\"faea5f36-d1bd-447c-8155-2a9d948c26cb\",\"type\":\"ColumnDataSource\"}},\"id\":\"b75db957-e9cf-4825-b876-a10c2b8a60ae\",\"type\":\"CDSView\"},{\"attributes\":{\"fill_alpha\":{\"value\":0.1},\"fill_color\":{\"value\":\"#1f77b4\"},\"line_alpha\":{\"value\":0.1},\"line_color\":{\"value\":\"#1f77b4\"},\"x\":{\"field\":\"x\"},\"y\":{\"field\":\"y\"}},\"id\":\"3fc9d0ad-a1c8-492b-9e16-708c6061d6b3\",\"type\":\"Square\"},{\"attributes\":{\"plot\":{\"id\":\"89e71b95-6ef7-4735-89d5-328581bc2727\",\"subtype\":\"Figure\",\"type\":\"Plot\"},\"ticker\":{\"id\":\"0d4a0719-ad80-4eb4-ace5-84f2c4b6c854\",\"type\":\"BasicTicker\"}},\"id\":\"91b5b605-d828-4e5d-b300-c74c4f1d38a9\",\"type\":\"Grid\"},{\"attributes\":{\"data_source\":{\"id\":\"faea5f36-d1bd-447c-8155-2a9d948c26cb\",\"type\":\"ColumnDataSource\"},\"glyph\":{\"id\":\"4e1b8646-1672-4fc4-b36f-a1e7664cdf80\",\"type\":\"Square\"},\"hover_glyph\":null,\"muted_glyph\":null,\"nonselection_glyph\":{\"id\":\"3fc9d0ad-a1c8-492b-9e16-708c6061d6b3\",\"type\":\"Square\"},\"selection_glyph\":null,\"view\":{\"id\":\"b75db957-e9cf-4825-b876-a10c2b8a60ae\",\"type\":\"CDSView\"}},\"id\":\"106d8dbf-28a1-4771-889a-6deae47b8f8b\",\"type\":\"GlyphRenderer\"},{\"attributes\":{\"axis_label\":\"pressure [mb]\",\"formatter\":{\"id\":\"bd0e59a2-6493-4d74-8d12-7f74df38b818\",\"type\":\"LogTickFormatter\"},\"plot\":{\"id\":\"59f88f11-9f44-4857-ae3e-e1b965c86ca0\",\"subtype\":\"Figure\",\"type\":\"Plot\"},\"ticker\":{\"id\":\"b699211a-e953-401d-afe5-338adf213664\",\"type\":\"LogTicker\"}},\"id\":\"d333b65f-559b-4b02-b1e2-14b6bab5ad79\",\"type\":\"LogAxis\"},{\"attributes\":{},\"id\":\"0d4a0719-ad80-4eb4-ace5-84f2c4b6c854\",\"type\":\"BasicTicker\"},{\"attributes\":{\"source\":{\"id\":\"3fe7c71b-d0f3-42ca-9e0d-0066dbbf9956\",\"type\":\"ColumnDataSource\"}},\"id\":\"f0f4e8ab-2f9b-4a80-a989-8feebfd3996d\",\"type\":\"CDSView\"},{\"attributes\":{\"line_alpha\":0.1,\"line_color\":\"#1f77b4\",\"line_width\":3,\"x\":{\"field\":\"x\"},\"y\":{\"field\":\"y\"}},\"id\":\"e5fad599-2e37-4c39-bfd4-be9e8412ec80\",\"type\":\"Line\"},{\"attributes\":{\"data_source\":{\"id\":\"3fe7c71b-d0f3-42ca-9e0d-0066dbbf9956\",\"type\":\"ColumnDataSource\"},\"glyph\":{\"id\":\"b4ab32b7-2d73-420b-a614-401943e9abf1\",\"type\":\"Line\"},\"hover_glyph\":null,\"muted_glyph\":null,\"nonselection_glyph\":{\"id\":\"e5fad599-2e37-4c39-bfd4-be9e8412ec80\",\"type\":\"Line\"},\"selection_glyph\":null,\"view\":{\"id\":\"f0f4e8ab-2f9b-4a80-a989-8feebfd3996d\",\"type\":\"CDSView\"}},\"id\":\"c7e7b053-a2d7-46e0-b1df-47f120069796\",\"type\":\"GlyphRenderer\"},{\"attributes\":{\"children\":[{\"id\":\"a6857321-2152-4f44-8d75-ea3d0d211b81\",\"type\":\"ToolbarBox\"},{\"id\":\"e3ef64f8-4365-40c8-86ee-caf56ebb8949\",\"type\":\"Column\"}]},\"id\":\"bc16924f-8a1d-4101-a246-39ff08894967\",\"type\":\"Column\"},{\"attributes\":{\"children\":[{\"id\":\"c3e69329-2d7b-4f0f-969e-b88243eaa4e9\",\"type\":\"Row\"}]},\"id\":\"e3ef64f8-4365-40c8-86ee-caf56ebb8949\",\"type\":\"Column\"},{\"attributes\":{\"toolbar\":{\"id\":\"fb1f2c56-1295-4d3f-bac0-b00238971286\",\"type\":\"ProxyToolbar\"},\"toolbar_location\":\"above\"},\"id\":\"a6857321-2152-4f44-8d75-ea3d0d211b81\",\"type\":\"ToolbarBox\"},{\"attributes\":{\"label\":{\"value\":\"CLIRAD `coolr_bands`\"},\"renderers\":[{\"id\":\"77336484-0b07-45ff-b2a3-596c0adb00c6\",\"type\":\"GlyphRenderer\"}]},\"id\":\"650baed4-7224-451a-b543-551a1ead0c9a\",\"type\":\"LegendItem\"},{\"attributes\":{\"plot\":null,\"text\":\"Linear pressure scale\"},\"id\":\"391020b7-ce88-4958-a5ff-96755ac19ff4\",\"type\":\"Title\"},{\"attributes\":{\"axis_label\":\"pressure [mb]\",\"formatter\":{\"id\":\"af15faf8-1276-4d2a-ac1d-8ecd92194d95\",\"type\":\"BasicTickFormatter\"},\"plot\":{\"id\":\"89e71b95-6ef7-4735-89d5-328581bc2727\",\"subtype\":\"Figure\",\"type\":\"Plot\"},\"ticker\":{\"id\":\"3ae0c1ac-45d4-4c3e-9500-cbb4fbbe42f4\",\"type\":\"BasicTicker\"}},\"id\":\"c744c59f-910b-4096-a71e-88e879245eed\",\"type\":\"LinearAxis\"},{\"attributes\":{\"callback\":null,\"column_names\":[\"x\",\"y\"],\"data\":{\"x\":{\"__ndarray__\":\"fCeyS17hhD9kDF2dJNyGP1qoHjHG/Io/U4fQmZhUjz+bdaqiluuRP5Pp6YYaQ5Q/t16/n5uvlj83pm4BfS+ZP58X56Izxps/5IgxwHB0nj/Rl+O3Fp2gP2MTXFaoCKI/ivbCrjd7oz/SOfM2LMmkP3AnArYyyqU/Xq0fCoKhpj+xhlujvXinP6doVPy5Sqg/mabuG3YXqT+LsbHqKt+pP2LkpLFvh6o/R7L4YUWMqT88e+V83HemP9dc2BR07aI/bxisCJxEnz+UdkcfIzuZP3kCXO6ezJM/uwlWhoUbjz+bNfyXOZeJP4B3s4VuloU/n1CeZVUFgj/2dA0tDaB9PxdwpnR2U3o/Bk6jeVofej9p3dCd6sx5PzexLtCol3g/8gjstRKWdj+dcqwaYoZzP3TsCPZLA3A/q8cJDEOvaT8VMgDh9tVjP5T/PFrLjlw/VTbkCmyoUT+FX6oVxo86P7Z8Ovs5ySm/AHs1Xvg2GL+yD/HZ+mVQPzj+zjInAWQ/mDrgYz1obz/sv7CuISd1P8uGERjtZXo/SMzxY7N3fz8H0lWb9y+CPxP4tqV9j4Q/8B9Up9jYhj/cQooT9QiJP5flZ/pXHIs/bY1r8HwOjT/da+V+t9uOP6Jz6SXnQJA/4qamJ6P/kD934yshIqyRP+7OIUOjSJI/WybNY/DXkj/gI0T0yVyTPwx/fsYi2ZM/z9jPFptMlD/MafFXOLGUPwPh5xjA9pQ/mPeEYcoElT/2xuN+lMyUP34f7QO5WZQ/OC9vip7Gkz8PsK+l4ieTP1EUE5TVhpI/\",\"dtype\":\"float64\",\"shape\":[75]},\"y\":{\"__ndarray__\":\"GhExyth1ND/Sv8nbtpRIP2vylNV0PVE/aTum7souWD/At0SJ8fVgPw3Iuahxymc/MSNhhJWvcD/bTfBN02d3P2zb5nxnaoA/CD5h5MAGhz8NmeH1TyaQP+zrCsc9p5Y/LbKd76fGnz/bLW5ISEmmPww9YvTcQq8/JV2OstnstT8Er5Y7M8G+P0c+r3jqkcU/5h99k6ZBzj88bCIzFzjVP4enV8oyxN0//yH99nXg5D8qOpLLf0jtP5kqGJXUifQ/c9cS8kHP/D+/DpwzojQEQIEmwoanVwxA4lgXt9HgE0BSSZ2AJuIbQAMJih9jjiNA5q4l5INuK0AwTKYKRj0zQNv5fmq8/DpAaCJseHrtQkB/+zpwzoxKQM3MzMzMeFJAZmZmZmZqWEAAAAAAAFxeQM3MzMzMJmJAmpmZmZkfZUBmZmZmZhhoQDMzMzMzEWtAAAAAAAAKbkBmZmZmZoFwQM3MzMzM/XFAMzMzMzN6c0CamZmZmfZ0QAAAAAAAc3ZAZmZmZmbvd0DNzMzMzGt5QDMzMzMz6HpAmpmZmZlkfEAAAAAAAOF9QGZmZmZmXX9AZmZmZuZsgECamZmZGSuBQM3MzMxM6YFAAAAAAICngkAzMzMzs2WDQGZmZmbmI4RAmpmZmRnihEDNzMzMTKCFQAAAAACAXoZAMzMzM7Mch0BmZmZm5tqHQJqZmZkZmYhAzczMzExXiUAAAAAAgBWKQDMzMzOz04pAZmZmZuaRi0CamZmZGVCMQM3MzMxMDo1AAAAAAIDMjUAzMzMzs4qOQGZmZmbmSI9A\",\"dtype\":\"float64\",\"shape\":[75]}}},\"id\":\"18349fda-ec57-466d-a362-f721c3dc0aaf\",\"type\":\"ColumnDataSource\"},{\"attributes\":{\"axis_label\":\"cooling rate [K/day]\",\"formatter\":{\"id\":\"ee00a531-c519-4697-a918-c09bdfb4b9a5\",\"type\":\"BasicTickFormatter\"},\"plot\":{\"id\":\"89e71b95-6ef7-4735-89d5-328581bc2727\",\"subtype\":\"Figure\",\"type\":\"Plot\"},\"ticker\":{\"id\":\"0d4a0719-ad80-4eb4-ace5-84f2c4b6c854\",\"type\":\"BasicTicker\"}},\"id\":\"77981117-3a33-45fc-aaf3-1b0bd9f14b61\",\"type\":\"LinearAxis\"},{\"attributes\":{},\"id\":\"3ae0c1ac-45d4-4c3e-9500-cbb4fbbe42f4\",\"type\":\"BasicTicker\"},{\"attributes\":{\"line_alpha\":0.1,\"line_color\":\"#1f77b4\",\"line_dash\":[6],\"line_width\":5,\"x\":{\"field\":\"x\"},\"y\":{\"field\":\"y\"}},\"id\":\"1349bd4f-3c1b-4772-99a8-1c6f2a44f03c\",\"type\":\"Line\"},{\"attributes\":{\"fill_alpha\":{\"value\":0.7},\"fill_color\":{\"value\":\"#984ea3\"},\"line_alpha\":{\"value\":0.7},\"line_color\":{\"value\":\"#984ea3\"},\"x\":{\"field\":\"x\"},\"y\":{\"field\":\"y\"}},\"id\":\"ba6699cd-1eee-4887-a6bc-14c0d085aeed\",\"type\":\"Square\"},{\"attributes\":{\"overlay\":{\"id\":\"b33d507c-be35-4486-a47f-150b1f89ee28\",\"type\":\"BoxAnnotation\"}},\"id\":\"9b04bfbf-2b87-4b34-9a8f-13153af628f2\",\"type\":\"BoxZoomTool\"},{\"attributes\":{\"callback\":null,\"column_names\":[\"x\",\"y\"],\"data\":{\"x\":{\"__ndarray__\":\"fCeyS17hhD9kDF2dJNyGP1qoHjHG/Io/U4fQmZhUjz+bdaqiluuRP5Pp6YYaQ5Q/t16/n5uvlj83pm4BfS+ZP58X56Izxps/5IgxwHB0nj/Rl+O3Fp2gP2MTXFaoCKI/ivbCrjd7oz/SOfM2LMmkP3AnArYyyqU/Xq0fCoKhpj+xhlujvXinP6doVPy5Sqg/mabuG3YXqT+LsbHqKt+pP2LkpLFvh6o/R7L4YUWMqT88e+V83HemP9dc2BR07aI/bxisCJxEnz+UdkcfIzuZP3kCXO6ezJM/uwlWhoUbjz+bNfyXOZeJP4B3s4VuloU/n1CeZVUFgj/2dA0tDaB9PxdwpnR2U3o/Bk6jeVofej9p3dCd6sx5PzexLtCol3g/8gjstRKWdj+dcqwaYoZzP3TsCPZLA3A/q8cJDEOvaT8VMgDh9tVjP5T/PFrLjlw/VTbkCmyoUT+FX6oVxo86P7Z8Ovs5ySm/AHs1Xvg2GL+yD/HZ+mVQPzj+zjInAWQ/mDrgYz1obz/sv7CuISd1P8uGERjtZXo/SMzxY7N3fz8H0lWb9y+CPxP4tqV9j4Q/8B9Up9jYhj/cQooT9QiJP5flZ/pXHIs/bY1r8HwOjT/da+V+t9uOP6Jz6SXnQJA/4qamJ6P/kD934yshIqyRP+7OIUOjSJI/WybNY/DXkj/gI0T0yVyTPwx/fsYi2ZM/z9jPFptMlD/MafFXOLGUPwPh5xjA9pQ/mPeEYcoElT/2xuN+lMyUP34f7QO5WZQ/OC9vip7Gkz8PsK+l4ieTP1EUE5TVhpI/\",\"dtype\":\"float64\",\"shape\":[75]},\"y\":{\"__ndarray__\":\"GhExyth1ND/Sv8nbtpRIP2vylNV0PVE/aTum7souWD/At0SJ8fVgPw3Iuahxymc/MSNhhJWvcD/bTfBN02d3P2zb5nxnaoA/CD5h5MAGhz8NmeH1TyaQP+zrCsc9p5Y/LbKd76fGnz/bLW5ISEmmPww9YvTcQq8/JV2OstnstT8Er5Y7M8G+P0c+r3jqkcU/5h99k6ZBzj88bCIzFzjVP4enV8oyxN0//yH99nXg5D8qOpLLf0jtP5kqGJXUifQ/c9cS8kHP/D+/DpwzojQEQIEmwoanVwxA4lgXt9HgE0BSSZ2AJuIbQAMJih9jjiNA5q4l5INuK0AwTKYKRj0zQNv5fmq8/DpAaCJseHrtQkB/+zpwzoxKQM3MzMzMeFJAZmZmZmZqWEAAAAAAAFxeQM3MzMzMJmJAmpmZmZkfZUBmZmZmZhhoQDMzMzMzEWtAAAAAAAAKbkBmZmZmZoFwQM3MzMzM/XFAMzMzMzN6c0CamZmZmfZ0QAAAAAAAc3ZAZmZmZmbvd0DNzMzMzGt5QDMzMzMz6HpAmpmZmZlkfEAAAAAAAOF9QGZmZmZmXX9AZmZmZuZsgECamZmZGSuBQM3MzMxM6YFAAAAAAICngkAzMzMzs2WDQGZmZmbmI4RAmpmZmRnihEDNzMzMTKCFQAAAAACAXoZAMzMzM7Mch0BmZmZm5tqHQJqZmZkZmYhAzczMzExXiUAAAAAAgBWKQDMzMzOz04pAZmZmZuaRi0CamZmZGVCMQM3MzMxMDo1AAAAAAIDMjUAzMzMzs4qOQGZmZmbmSI9A\",\"dtype\":\"float64\",\"shape\":[75]}}},\"id\":\"b53325c6-4adc-4dab-b70e-117179d3228a\",\"type\":\"ColumnDataSource\"},{\"attributes\":{\"line_alpha\":0.1,\"line_color\":\"#1f77b4\",\"line_width\":3,\"x\":{\"field\":\"x\"},\"y\":{\"field\":\"y\"}},\"id\":\"3a0dad9b-4985-4aec-9388-fd722b6ea26d\",\"type\":\"Line\"},{\"attributes\":{\"data_source\":{\"id\":\"84decfde-28ee-46f3-b6f7-b2107c8e26c2\",\"type\":\"ColumnDataSource\"},\"glyph\":{\"id\":\"7529ac62-7956-4353-abb6-c678988e5dff\",\"type\":\"Line\"},\"hover_glyph\":null,\"muted_glyph\":null,\"nonselection_glyph\":{\"id\":\"3a0dad9b-4985-4aec-9388-fd722b6ea26d\",\"type\":\"Line\"},\"selection_glyph\":null,\"view\":{\"id\":\"2e9f01ad-dd1b-4a87-9ceb-2da1ccf76c49\",\"type\":\"CDSView\"}},\"id\":\"9d988a46-f51f-4554-9be3-d1a151ac025b\",\"type\":\"GlyphRenderer\"},{\"attributes\":{\"children\":[{\"id\":\"89e71b95-6ef7-4735-89d5-328581bc2727\",\"subtype\":\"Figure\",\"type\":\"Plot\"},{\"id\":\"59f88f11-9f44-4857-ae3e-e1b965c86ca0\",\"subtype\":\"Figure\",\"type\":\"Plot\"}]},\"id\":\"c3e69329-2d7b-4f0f-969e-b88243eaa4e9\",\"type\":\"Row\"},{\"attributes\":{\"source\":{\"id\":\"18349fda-ec57-466d-a362-f721c3dc0aaf\",\"type\":\"ColumnDataSource\"}},\"id\":\"1b2eab3c-8260-4e9d-b025-07aac8529008\",\"type\":\"CDSView\"},{\"attributes\":{},\"id\":\"3c800857-e9e5-4e9e-983c-aab23e481053\",\"type\":\"ResetTool\"},{\"attributes\":{\"source\":{\"id\":\"762fc694-fdeb-49c9-bb9a-99e91a376a41\",\"type\":\"ColumnDataSource\"}},\"id\":\"e8987e19-c1d0-439a-b42d-f77486e502c5\",\"type\":\"CDSView\"},{\"attributes\":{\"axis_label\":\"cooling rate [K/day]\",\"formatter\":{\"id\":\"53de8d32-657f-48b2-ba8f-11669dded5ed\",\"type\":\"BasicTickFormatter\"},\"plot\":{\"id\":\"59f88f11-9f44-4857-ae3e-e1b965c86ca0\",\"subtype\":\"Figure\",\"type\":\"Plot\"},\"ticker\":{\"id\":\"264e9a76-1ef4-434d-b065-3acb1ee5ffaa\",\"type\":\"BasicTicker\"}},\"id\":\"65246f12-c213-4429-8d49-56a2082f14d9\",\"type\":\"LinearAxis\"},{\"attributes\":{\"num_minor_ticks\":10},\"id\":\"b699211a-e953-401d-afe5-338adf213664\",\"type\":\"LogTicker\"},{\"attributes\":{\"active_drag\":\"auto\",\"active_inspect\":\"auto\",\"active_scroll\":\"auto\",\"active_tap\":\"auto\",\"tools\":[{\"id\":\"1bfb11d2-6cc4-48b2-97cf-de0a5acf1348\",\"type\":\"PanTool\"},{\"id\":\"03dcf16d-cb03-4e01-b6f0-1e60711bcab4\",\"type\":\"WheelZoomTool\"},{\"id\":\"9b04bfbf-2b87-4b34-9a8f-13153af628f2\",\"type\":\"BoxZoomTool\"},{\"id\":\"4566dd36-3d59-4ca4-90c8-424c1841c88f\",\"type\":\"SaveTool\"},{\"id\":\"3c800857-e9e5-4e9e-983c-aab23e481053\",\"type\":\"ResetTool\"},{\"id\":\"be490087-1e7d-4207-bb74-0c8b1ac14f80\",\"type\":\"HelpTool\"}]},\"id\":\"151dd5d6-956e-4166-a0fd-1d5b2a12ba4c\",\"type\":\"Toolbar\"},{\"attributes\":{\"callback\":null,\"end\":0.01,\"start\":1020},\"id\":\"84eb72f6-55ad-484f-a23e-8663c9c66c6b\",\"type\":\"Range1d\"},{\"attributes\":{},\"id\":\"944c87f0-af05-4bc5-9ab0-596652d9faea\",\"type\":\"LinearScale\"},{\"attributes\":{},\"id\":\"1bfb11d2-6cc4-48b2-97cf-de0a5acf1348\",\"type\":\"PanTool\"},{\"attributes\":{\"fill_alpha\":{\"value\":0.1},\"fill_color\":{\"value\":\"#1f77b4\"},\"line_alpha\":{\"value\":0.1},\"line_color\":{\"value\":\"#1f77b4\"},\"x\":{\"field\":\"x\"},\"y\":{\"field\":\"y\"}},\"id\":\"4e0cd4c1-3c98-42d8-a6a2-3d43880f8eae\",\"type\":\"Square\"},{\"attributes\":{\"plot\":null,\"text\":\"Log pressure scale\"},\"id\":\"f1e3506c-3d3e-473e-9008-3b8cb5311275\",\"type\":\"Title\"},{\"attributes\":{\"source\":{\"id\":\"84decfde-28ee-46f3-b6f7-b2107c8e26c2\",\"type\":\"ColumnDataSource\"}},\"id\":\"2e9f01ad-dd1b-4a87-9ceb-2da1ccf76c49\",\"type\":\"CDSView\"},{\"attributes\":{\"label\":{\"value\":\"CRD\"},\"renderers\":[{\"id\":\"acd27bea-5021-4ca2-af33-66770880a42f\",\"type\":\"GlyphRenderer\"},{\"id\":\"0092e145-d02b-4a8e-b6f1-68eef1e6e805\",\"type\":\"GlyphRenderer\"}]},\"id\":\"82e6553d-201c-4fb1-b168-827bacbfdbc0\",\"type\":\"LegendItem\"},{\"attributes\":{\"data_source\":{\"id\":\"762fc694-fdeb-49c9-bb9a-99e91a376a41\",\"type\":\"ColumnDataSource\"},\"glyph\":{\"id\":\"ba6699cd-1eee-4887-a6bc-14c0d085aeed\",\"type\":\"Square\"},\"hover_glyph\":null,\"muted_glyph\":null,\"nonselection_glyph\":{\"id\":\"4e0cd4c1-3c98-42d8-a6a2-3d43880f8eae\",\"type\":\"Square\"},\"selection_glyph\":null,\"view\":{\"id\":\"e8987e19-c1d0-439a-b42d-f77486e502c5\",\"type\":\"CDSView\"}},\"id\":\"3852018a-79d1-40a5-911d-76b4f310deee\",\"type\":\"GlyphRenderer\"},{\"attributes\":{\"callback\":null,\"column_names\":[\"x\",\"y\"],\"data\":{\"x\":{\"__ndarray__\":\"AAAAAAAAAAAAAAAAAAAAABQSFRzxc6M/AAAAAAAAAAAAAAAAAAAAAGcW4DxOMZw/d8PP4jkZpD9m8TfhK6icP3Roy5gGbpQ/7oMzxQohjT9lDawdpCuiP3nznV2TdZ8/e8LxAD94oj/bty2mphieP7nOQN4LyaQ/NSd7wEbWoz+TyEOBbMmkP6Yno/8ivqU/i9gO48FYpj+Ouz78xwWnP8b16kET8ac/HLPLO3dQpz+lQNEC1bukP54r594FQqI/tE4i483xnj+Qn96jNiWaP/IqwZubWpU/zRM1vExZkT+BxdoSy8OMP1udhQVDkoc/hcWMX92Zgj+OAWLdOxR8P9m/OJ6yBnY/Uh224hctcz+zp0p/IltxP2kCkt/MN3A/X3WAQqaFbj+r5MujFTprP7swaTohDmc/cBL4OwNHYz8arZ6oMGNfP0xon4JUblg/OBmJUxy1UT8AI2X+CF5GPwGpkj2r6zc/oZqDgZaXRD8SDGe/ddNbPyW4an1eKGk/2gJrIfQvcj+mE2RfDat3PzLdcAKIAH0/VE9N3swcgT8NsoDgpaiDP3Cufdv1zZs/eJcABsYdhj/KuXLIln2IP2y1h71QwIo/OvjO10jsjD+mNHJIMPaOP856xvgPbZA/221jKDFMkT8pYM57ghWSP7xm08B4zpI/X+yIBtN3kz/V9qc77BGUPyK0iKLsn5Q/8eFDnXojlT9y+C0FZ5qVP/POq37IApY/K2Lv/cFLlj9OxtraIGWWPwaDoOC4RZY/qCrSnHPylT9edcE5U4OVP+r/elfNC5U/\",\"dtype\":\"float64\",\"shape\":[75]},\"y\":{\"__ndarray__\":\"MCRxoNFnQT9dcvo90IdNP+qWHeIftlQ/dNWXAFcNXT8NYIJ9MWBkP10nQT3OlGw/j4BJYrQLdD9jyv8cUR58P6d8Yj6UuIM/4k9uirCpiz98QnbexmaTPzw3+LjyNps/eYMeIE4Woz9zNWieEsaqP8rD9h4kx7I/FYYSdwZXuj8CvMP1QXnCPxYvFobI6ck/F35wPnUs0j/hCb3+JH7ZPwumL75H4eE/FK5H4XoU6T/Xo3A9CpfxPwaBlUOLrPg/ira+oyFOAUCgGi/dJEYIQBE2PL1SBhFAwE2QInzhF0B3TrNAu78gQPXb14FzfidA0ZFc/kN6MEAFo5I6AR03QHtLOV/sNUBAxAq3fCS9RkC8zob8M79PQCgmb4CZcVVAMzMzMzNjW0BmZmZmZqpgQLzoK0gzo2NAAAAAAACcZkBEF9S3zJRpQJqZmZmZjWxAZmZmZmaGb0AQ5KCEmT9xQAAAAAAAvHJA8Btfe2Y4dEAIclDCzLR1QPiNrz0zMXdAEOSghJmteEAAAAAAACp6QPAbX3tmpntACXJQwswifUD3ja89M59+QDeJQWDlSH9ACHJQwswNgEAAAAAAAMyAQPiNrz0zioFABTkoYWZIgkD7xteemQaDQAhyUMLMxINAAAAAAACDhED4ja89M0GFQAU5KGFm/4VA+8bXnpm9hkAIclDCzHuHQAAAAAAAOohA+I2vPTP4iEAFOShhZraJQPvG156ZdIpACXJQwswyi0AAAAAAAPGLQPeNrz0zr4xABTkoYWZtjUD7xteemSuOQHEDPj/M6Y5A\",\"dtype\":\"float64\",\"shape\":[75]}}},\"id\":\"463b211a-3c22-4424-86f2-03e6db60671a\",\"type\":\"ColumnDataSource\"},{\"attributes\":{\"plot\":{\"id\":\"59f88f11-9f44-4857-ae3e-e1b965c86ca0\",\"subtype\":\"Figure\",\"type\":\"Plot\"},\"ticker\":{\"id\":\"264e9a76-1ef4-434d-b065-3acb1ee5ffaa\",\"type\":\"BasicTicker\"}},\"id\":\"45cbd121-afb2-4bc7-94ac-f2306303daf7\",\"type\":\"Grid\"},{\"attributes\":{},\"id\":\"4566dd36-3d59-4ca4-90c8-424c1841c88f\",\"type\":\"SaveTool\"},{\"attributes\":{\"dimension\":1,\"plot\":{\"id\":\"59f88f11-9f44-4857-ae3e-e1b965c86ca0\",\"subtype\":\"Figure\",\"type\":\"Plot\"},\"ticker\":{\"id\":\"b699211a-e953-401d-afe5-338adf213664\",\"type\":\"LogTicker\"}},\"id\":\"0c1d42c7-629b-41cb-ab77-17609c198450\",\"type\":\"Grid\"},{\"attributes\":{},\"id\":\"03dcf16d-cb03-4e01-b6f0-1e60711bcab4\",\"type\":\"WheelZoomTool\"},{\"attributes\":{},\"id\":\"ee00a531-c519-4697-a918-c09bdfb4b9a5\",\"type\":\"BasicTickFormatter\"},{\"attributes\":{},\"id\":\"cb1d1faf-5cca-4e97-badb-92bcfa3fcbcd\",\"type\":\"LogScale\"},{\"attributes\":{},\"id\":\"af15faf8-1276-4d2a-ac1d-8ecd92194d95\",\"type\":\"BasicTickFormatter\"},{\"attributes\":{\"source\":{\"id\":\"86d8bfa4-1930-415a-b8cf-6b8b4e6101ab\",\"type\":\"ColumnDataSource\"}},\"id\":\"e458269e-ed7a-4bcb-bd2b-20957b861304\",\"type\":\"CDSView\"},{\"attributes\":{\"callback\":null,\"column_names\":[\"x\",\"y\"],\"data\":{\"x\":{\"__ndarray__\":\"UQkn6sT8iD/3SHcQjsGKP6XYMX/mbo4/0DpDdLEmkT9+VtSUDSmTP4ppmVvkPpU/5r9kgF5nlz8m+TLgB6GZP5gxiJSo7ps/0EsFOphQnj/sG9o30WOgP7epX63DqaE/5faK4bz4oj9ltngWxCmkP269zxTOGqU/l0F1GxzupT+t3TfeycOmP6rX9vFioqc/piLloo2CqD8aS1SHzkapP6zqVOnZBao/fj4McktNqT+sRgfc8bSmP+Iadggmp6M/NcetZeC6oD9K1WCGnuybPw0Vl1h7s5Y/lkuG95tMkj909PZddhGOP0sFIiAVn4g/VIZ78hp+gz//Wucfdrx9P2FQAubf4Xc//5qOeWG0dT93cjzKrWt0P6C2bRzFb3M/h2KXrNFbcj/qbAlqcn5wP1y9JyCsRmw/A6NyD5bZZz8Xo0yzMnZjP1G60tAgP14/6LptLs3NVT/ES5Y8bcNKP9C0ggbLFDk/+8OHPD+RQj+AX6Dz6dFaPyY2A1Y9FWk/ZL/ZyodScj/V78nJhdp3P2ou1vXRP30/sTJgqSNJgT+4ApZVwt6DP24RdTf4T4Y/9BR8+gy8iD8ofB1ClxCLPwwbDtiIMY0/J7jWq0hEjz/YpS9M8piQP1Cvynx9cZE/V2Eb/2o/kj+Eoeqtg/eSPwPnEGGRmZM/+FVH+xA1lD9epeZrybyUP2ZpB1mfPZU/vHr1L1m1lT8+4W7FjBSWP/iw99f0XZY/fIyQfhZrlj8CeVU0DTuWP3URVAWS1JU/4drqKeJKlT+6SwO7cb2UP7ddGAEzIpQ/\",\"dtype\":\"float64\",\"shape\":[75]},\"y\":{\"__ndarray__\":\"GhExyth1ND/Sv8nbtpRIP2vylNV0PVE/aTum7souWD/At0SJ8fVgPw3Iuahxymc/MSNhhJWvcD/bTfBN02d3P2zb5nxnaoA/CD5h5MAGhz8NmeH1TyaQP+zrCsc9p5Y/LbKd76fGnz/bLW5ISEmmPww9YvTcQq8/JV2OstnstT8Er5Y7M8G+P0c+r3jqkcU/5h99k6ZBzj88bCIzFzjVP4enV8oyxN0//yH99nXg5D8qOpLLf0jtP5kqGJXUifQ/c9cS8kHP/D+/DpwzojQEQIEmwoanVwxA4lgXt9HgE0BSSZ2AJuIbQAMJih9jjiNA5q4l5INuK0AwTKYKRj0zQNv5fmq8/DpAaCJseHrtQkB/+zpwzoxKQM3MzMzMeFJAZmZmZmZqWEAAAAAAAFxeQM3MzMzMJmJAmpmZmZkfZUBmZmZmZhhoQDMzMzMzEWtAAAAAAAAKbkBmZmZmZoFwQM3MzMzM/XFAMzMzMzN6c0CamZmZmfZ0QAAAAAAAc3ZAZmZmZmbvd0DNzMzMzGt5QDMzMzMz6HpAmpmZmZlkfEAAAAAAAOF9QGZmZmZmXX9AZmZmZuZsgECamZmZGSuBQM3MzMxM6YFAAAAAAICngkAzMzMzs2WDQGZmZmbmI4RAmpmZmRnihEDNzMzMTKCFQAAAAACAXoZAMzMzM7Mch0BmZmZm5tqHQJqZmZkZmYhAzczMzExXiUAAAAAAgBWKQDMzMzOz04pAZmZmZuaRi0CamZmZGVCMQM3MzMxMDo1AAAAAAIDMjUAzMzMzs4qOQGZmZmbmSI9A\",\"dtype\":\"float64\",\"shape\":[75]}}},\"id\":\"84decfde-28ee-46f3-b6f7-b2107c8e26c2\",\"type\":\"ColumnDataSource\"},{\"attributes\":{\"callback\":null,\"column_names\":[\"x\",\"y\"],\"data\":{\"x\":{\"__ndarray__\":\"UQkn6sT8iD/3SHcQjsGKP6XYMX/mbo4/0DpDdLEmkT9+VtSUDSmTP4ppmVvkPpU/5r9kgF5nlz8m+TLgB6GZP5gxiJSo7ps/0EsFOphQnj/sG9o30WOgP7epX63DqaE/5faK4bz4oj9ltngWxCmkP269zxTOGqU/l0F1GxzupT+t3TfeycOmP6rX9vFioqc/piLloo2CqD8aS1SHzkapP6zqVOnZBao/fj4McktNqT+sRgfc8bSmP+Iadggmp6M/NcetZeC6oD9K1WCGnuybPw0Vl1h7s5Y/lkuG95tMkj909PZddhGOP0sFIiAVn4g/VIZ78hp+gz//Wucfdrx9P2FQAubf4Xc//5qOeWG0dT93cjzKrWt0P6C2bRzFb3M/h2KXrNFbcj/qbAlqcn5wP1y9JyCsRmw/A6NyD5bZZz8Xo0yzMnZjP1G60tAgP14/6LptLs3NVT/ES5Y8bcNKP9C0ggbLFDk/+8OHPD+RQj+AX6Dz6dFaPyY2A1Y9FWk/ZL/ZyodScj/V78nJhdp3P2ou1vXRP30/sTJgqSNJgT+4ApZVwt6DP24RdTf4T4Y/9BR8+gy8iD8ofB1ClxCLPwwbDtiIMY0/J7jWq0hEjz/YpS9M8piQP1Cvynx9cZE/V2Eb/2o/kj+Eoeqtg/eSPwPnEGGRmZM/+FVH+xA1lD9epeZrybyUP2ZpB1mfPZU/vHr1L1m1lT8+4W7FjBSWP/iw99f0XZY/fIyQfhZrlj8CeVU0DTuWP3URVAWS1JU/4drqKeJKlT+6SwO7cb2UP7ddGAEzIpQ/\",\"dtype\":\"float64\",\"shape\":[75]},\"y\":{\"__ndarray__\":\"GhExyth1ND/Sv8nbtpRIP2vylNV0PVE/aTum7souWD/At0SJ8fVgPw3Iuahxymc/MSNhhJWvcD/bTfBN02d3P2zb5nxnaoA/CD5h5MAGhz8NmeH1TyaQP+zrCsc9p5Y/LbKd76fGnz/bLW5ISEmmPww9YvTcQq8/JV2OstnstT8Er5Y7M8G+P0c+r3jqkcU/5h99k6ZBzj88bCIzFzjVP4enV8oyxN0//yH99nXg5D8qOpLLf0jtP5kqGJXUifQ/c9cS8kHP/D+/DpwzojQEQIEmwoanVwxA4lgXt9HgE0BSSZ2AJuIbQAMJih9jjiNA5q4l5INuK0AwTKYKRj0zQNv5fmq8/DpAaCJseHrtQkB/+zpwzoxKQM3MzMzMeFJAZmZmZmZqWEAAAAAAAFxeQM3MzMzMJmJAmpmZmZkfZUBmZmZmZhhoQDMzMzMzEWtAAAAAAAAKbkBmZmZmZoFwQM3MzMzM/XFAMzMzMzN6c0CamZmZmfZ0QAAAAAAAc3ZAZmZmZmbvd0DNzMzMzGt5QDMzMzMz6HpAmpmZmZlkfEAAAAAAAOF9QGZmZmZmXX9AZmZmZuZsgECamZmZGSuBQM3MzMxM6YFAAAAAAICngkAzMzMzs2WDQGZmZmbmI4RAmpmZmRnihEDNzMzMTKCFQAAAAACAXoZAMzMzM7Mch0BmZmZm5tqHQJqZmZkZmYhAzczMzExXiUAAAAAAgBWKQDMzMzOz04pAZmZmZuaRi0CamZmZGVCMQM3MzMxMDo1AAAAAAIDMjUAzMzMzs4qOQGZmZmbmSI9A\",\"dtype\":\"float64\",\"shape\":[75]}}},\"id\":\"762fc694-fdeb-49c9-bb9a-99e91a376a41\",\"type\":\"ColumnDataSource\"},{\"attributes\":{\"line_alpha\":0.6,\"line_color\":\"#e41a1c\",\"line_dash\":[6],\"line_width\":5,\"x\":{\"field\":\"x\"},\"y\":{\"field\":\"y\"}},\"id\":\"51169881-a3e4-4221-9248-48b062299668\",\"type\":\"Line\"},{\"attributes\":{\"data_source\":{\"id\":\"b53325c6-4adc-4dab-b70e-117179d3228a\",\"type\":\"ColumnDataSource\"},\"glyph\":{\"id\":\"2003e0d2-c695-4fa9-80ed-7fdb33891864\",\"type\":\"Circle\"},\"hover_glyph\":null,\"muted_glyph\":null,\"nonselection_glyph\":{\"id\":\"67e69b84-0367-47f8-8ea8-8d08a50f6904\",\"type\":\"Circle\"},\"selection_glyph\":null,\"view\":{\"id\":\"485f06eb-1b3a-4a74-86d9-79312c217e47\",\"type\":\"CDSView\"}},\"id\":\"e3be0f66-ae23-402f-8502-d6520f386e4c\",\"type\":\"GlyphRenderer\"},{\"attributes\":{\"fill_alpha\":{\"value\":0.7},\"fill_color\":{\"value\":\"#4daf4a\"},\"line_alpha\":{\"value\":0.7},\"line_color\":{\"value\":\"#4daf4a\"},\"x\":{\"field\":\"x\"},\"y\":{\"field\":\"y\"}},\"id\":\"2003e0d2-c695-4fa9-80ed-7fdb33891864\",\"type\":\"Circle\"},{\"attributes\":{\"label\":{\"value\":\"WGT igg=10 wgt_flux=2\"},\"renderers\":[{\"id\":\"106d8dbf-28a1-4771-889a-6deae47b8f8b\",\"type\":\"GlyphRenderer\"},{\"id\":\"c7e7b053-a2d7-46e0-b1df-47f120069796\",\"type\":\"GlyphRenderer\"}]},\"id\":\"3ec5816b-6b75-4f1a-b745-77655eaf500f\",\"type\":\"LegendItem\"},{\"attributes\":{\"below\":[{\"id\":\"65246f12-c213-4429-8d49-56a2082f14d9\",\"type\":\"LinearAxis\"}],\"left\":[{\"id\":\"d333b65f-559b-4b02-b1e2-14b6bab5ad79\",\"type\":\"LogAxis\"}],\"plot_height\":500,\"plot_width\":560,\"renderers\":[{\"id\":\"65246f12-c213-4429-8d49-56a2082f14d9\",\"type\":\"LinearAxis\"},{\"id\":\"45cbd121-afb2-4bc7-94ac-f2306303daf7\",\"type\":\"Grid\"},{\"id\":\"d333b65f-559b-4b02-b1e2-14b6bab5ad79\",\"type\":\"LogAxis\"},{\"id\":\"0c1d42c7-629b-41cb-ab77-17609c198450\",\"type\":\"Grid\"},{\"id\":\"b33d507c-be35-4486-a47f-150b1f89ee28\",\"type\":\"BoxAnnotation\"},{\"id\":\"77336484-0b07-45ff-b2a3-596c0adb00c6\",\"type\":\"GlyphRenderer\"},{\"id\":\"acd27bea-5021-4ca2-af33-66770880a42f\",\"type\":\"GlyphRenderer\"},{\"id\":\"0092e145-d02b-4a8e-b6f1-68eef1e6e805\",\"type\":\"GlyphRenderer\"},{\"id\":\"106d8dbf-28a1-4771-889a-6deae47b8f8b\",\"type\":\"GlyphRenderer\"},{\"id\":\"c7e7b053-a2d7-46e0-b1df-47f120069796\",\"type\":\"GlyphRenderer\"},{\"id\":\"f007ac3c-2464-48a7-b3a4-d8ae9033860b\",\"type\":\"Legend\"}],\"right\":[{\"id\":\"f007ac3c-2464-48a7-b3a4-d8ae9033860b\",\"type\":\"Legend\"}],\"title\":{\"id\":\"f1e3506c-3d3e-473e-9008-3b8cb5311275\",\"type\":\"Title\"},\"toolbar\":{\"id\":\"151dd5d6-956e-4166-a0fd-1d5b2a12ba4c\",\"type\":\"Toolbar\"},\"toolbar_location\":null,\"x_range\":{\"id\":\"916110cd-b998-4c4f-8e8e-94884940c83d\",\"type\":\"Range1d\"},\"x_scale\":{\"id\":\"944c87f0-af05-4bc5-9ab0-596652d9faea\",\"type\":\"LinearScale\"},\"y_range\":{\"id\":\"84eb72f6-55ad-484f-a23e-8663c9c66c6b\",\"type\":\"Range1d\"},\"y_scale\":{\"id\":\"cb1d1faf-5cca-4e97-badb-92bcfa3fcbcd\",\"type\":\"LogScale\"}},\"id\":\"59f88f11-9f44-4857-ae3e-e1b965c86ca0\",\"subtype\":\"Figure\",\"type\":\"Plot\"},{\"attributes\":{\"data_source\":{\"id\":\"463b211a-3c22-4424-86f2-03e6db60671a\",\"type\":\"ColumnDataSource\"},\"glyph\":{\"id\":\"51169881-a3e4-4221-9248-48b062299668\",\"type\":\"Line\"},\"hover_glyph\":null,\"muted_glyph\":null,\"nonselection_glyph\":{\"id\":\"1016fa7a-2ccb-46d1-b4ba-d7c1a1711f19\",\"type\":\"Line\"},\"selection_glyph\":null,\"view\":{\"id\":\"e4b39638-9aac-497b-80ea-f5bc5321e3e6\",\"type\":\"CDSView\"}},\"id\":\"77336484-0b07-45ff-b2a3-596c0adb00c6\",\"type\":\"GlyphRenderer\"},{\"attributes\":{\"callback\":null,\"end\":0.0274263599588,\"start\":-0.0004702278388},\"id\":\"5976d7b9-24a9-4286-a293-a9092adea2a8\",\"type\":\"Range1d\"},{\"attributes\":{\"line_alpha\":0.1,\"line_color\":\"#1f77b4\",\"line_dash\":[6],\"line_width\":5,\"x\":{\"field\":\"x\"},\"y\":{\"field\":\"y\"}},\"id\":\"1016fa7a-2ccb-46d1-b4ba-d7c1a1711f19\",\"type\":\"Line\"},{\"attributes\":{\"line_alpha\":0.6,\"line_color\":\"#e41a1c\",\"line_dash\":[6],\"line_width\":5,\"x\":{\"field\":\"x\"},\"y\":{\"field\":\"y\"}},\"id\":\"dc98abd4-67b2-4e11-bf5c-cd9dcf62f58a\",\"type\":\"Line\"},{\"attributes\":{\"tools\":[{\"id\":\"21ae499d-9d70-4379-a604-7df8ebb160be\",\"type\":\"PanTool\"},{\"id\":\"3baf7e6f-6a61-4905-9957-0210941a4bee\",\"type\":\"WheelZoomTool\"},{\"id\":\"32906d63-06e6-46ac-8877-1f89a506f2db\",\"type\":\"BoxZoomTool\"},{\"id\":\"222c8088-78df-4cd1-a330-57f747df0b81\",\"type\":\"SaveTool\"},{\"id\":\"59fff883-558e-412f-b08f-3d41e895489b\",\"type\":\"ResetTool\"},{\"id\":\"a4408b3c-75f7-4f3a-8e88-b1aec31dcd91\",\"type\":\"HelpTool\"},{\"id\":\"1bfb11d2-6cc4-48b2-97cf-de0a5acf1348\",\"type\":\"PanTool\"},{\"id\":\"03dcf16d-cb03-4e01-b6f0-1e60711bcab4\",\"type\":\"WheelZoomTool\"},{\"id\":\"9b04bfbf-2b87-4b34-9a8f-13153af628f2\",\"type\":\"BoxZoomTool\"},{\"id\":\"4566dd36-3d59-4ca4-90c8-424c1841c88f\",\"type\":\"SaveTool\"},{\"id\":\"3c800857-e9e5-4e9e-983c-aab23e481053\",\"type\":\"ResetTool\"},{\"id\":\"be490087-1e7d-4207-bb74-0c8b1ac14f80\",\"type\":\"HelpTool\"}]},\"id\":\"fb1f2c56-1295-4d3f-bac0-b00238971286\",\"type\":\"ProxyToolbar\"},{\"attributes\":{\"bottom_units\":\"screen\",\"fill_alpha\":{\"value\":0.5},\"fill_color\":{\"value\":\"lightgrey\"},\"left_units\":\"screen\",\"level\":\"overlay\",\"line_alpha\":{\"value\":1.0},\"line_color\":{\"value\":\"black\"},\"line_dash\":[4,4],\"line_width\":{\"value\":2},\"plot\":null,\"render_mode\":\"css\",\"right_units\":\"screen\",\"top_units\":\"screen\"},\"id\":\"b33d507c-be35-4486-a47f-150b1f89ee28\",\"type\":\"BoxAnnotation\"},{\"attributes\":{\"line_alpha\":0.6,\"line_color\":\"#984ea3\",\"line_width\":3,\"x\":{\"field\":\"x\"},\"y\":{\"field\":\"y\"}},\"id\":\"7529ac62-7956-4353-abb6-c678988e5dff\",\"type\":\"Line\"},{\"attributes\":{},\"id\":\"be490087-1e7d-4207-bb74-0c8b1ac14f80\",\"type\":\"HelpTool\"},{\"attributes\":{},\"id\":\"264e9a76-1ef4-434d-b065-3acb1ee5ffaa\",\"type\":\"BasicTicker\"}],\"root_ids\":[\"bc16924f-8a1d-4101-a246-39ff08894967\"]},\"title\":\"Bokeh Application\",\"version\":\"0.12.14\"}};\n",
       "  var render_items = [{\"docid\":\"01be2c8a-b324-4ed8-b128-8b3fdc4bb97b\",\"elementid\":\"ed34a21a-1cb6-42c3-850b-c5249012e983\",\"modelid\":\"bc16924f-8a1d-4101-a246-39ff08894967\"}];\n",
       "  root.Bokeh.embed.embed_items_notebook(docs_json, render_items);\n",
       "\n",
       "  }\n",
       "  if (root.Bokeh !== undefined) {\n",
       "    embed_document(root);\n",
       "  } else {\n",
       "    var attempts = 0;\n",
       "    var timer = setInterval(function(root) {\n",
       "      if (root.Bokeh !== undefined) {\n",
       "        embed_document(root);\n",
       "        clearInterval(timer);\n",
       "      }\n",
       "      attempts++;\n",
       "      if (attempts > 100) {\n",
       "        console.log(\"Bokeh: ERROR: Unable to run BokehJS code because BokehJS library is missing\")\n",
       "        clearInterval(timer);\n",
       "      }\n",
       "    }, 10, root)\n",
       "  }\n",
       "})(window);"
      ],
      "application/vnd.bokehjs_exec.v0+json": ""
     },
     "metadata": {
      "application/vnd.bokehjs_exec.v0+json": {
       "id": "bc16924f-8a1d-4101-a246-39ff08894967"
      }
     },
     "output_type": "display_data"
    },
    {
     "name": "stdout",
     "output_type": "stream",
     "text": [
      "FIGURE. Cooling rate profiles.\n"
     ]
    },
    {
     "data": {
      "text/html": [
       "<a id=\"Flux_Comparison\"></a>"
      ],
      "text/plain": [
       "<IPython.core.display.HTML object>"
      ]
     },
     "metadata": {},
     "output_type": "display_data"
    },
    {
     "data": {
      "text/markdown": [
       "# Flux Comparison"
      ],
      "text/plain": [
       "<IPython.core.display.Markdown object>"
      ]
     },
     "metadata": {},
     "output_type": "display_data"
    },
    {
     "data": {
      "text/html": [
       "<div>\n",
       "<style>\n",
       "    .dataframe thead tr:only-child th {\n",
       "        text-align: right;\n",
       "    }\n",
       "\n",
       "    .dataframe thead th {\n",
       "        text-align: left;\n",
       "    }\n",
       "\n",
       "    .dataframe tbody tr th {\n",
       "        vertical-align: top;\n",
       "    }\n",
       "</style>\n",
       "<table border=\"1\" class=\"dataframe\">\n",
       "  <thead>\n",
       "    <tr style=\"text-align: right;\">\n",
       "      <th></th>\n",
       "      <th></th>\n",
       "      <th>flug</th>\n",
       "      <th>fldg</th>\n",
       "      <th>fnetg</th>\n",
       "    </tr>\n",
       "    <tr>\n",
       "      <th>pressure</th>\n",
       "      <th>level</th>\n",
       "      <th></th>\n",
       "      <th></th>\n",
       "      <th></th>\n",
       "    </tr>\n",
       "  </thead>\n",
       "  <tbody>\n",
       "    <tr>\n",
       "      <th>0.0000</th>\n",
       "      <th>1</th>\n",
       "      <td>-23.024992</td>\n",
       "      <td>0.000000</td>\n",
       "      <td>-23.024992</td>\n",
       "    </tr>\n",
       "    <tr>\n",
       "      <th>1.0685</th>\n",
       "      <th>24</th>\n",
       "      <td>-23.023513</td>\n",
       "      <td>0.004420</td>\n",
       "      <td>-23.019094</td>\n",
       "    </tr>\n",
       "    <tr>\n",
       "      <th>1013.0000</th>\n",
       "      <th>76</th>\n",
       "      <td>-23.591138</td>\n",
       "      <td>1.960934</td>\n",
       "      <td>-21.630204</td>\n",
       "    </tr>\n",
       "  </tbody>\n",
       "</table>\n",
       "</div>"
      ],
      "text/plain": [
       "                      flug      fldg      fnetg\n",
       "pressure  level                                \n",
       "0.0000    1     -23.024992  0.000000 -23.024992\n",
       "1.0685    24    -23.023513  0.004420 -23.019094\n",
       "1013.0000 76    -23.591138  1.960934 -21.630204"
      ]
     },
     "metadata": {},
     "output_type": "display_data"
    },
    {
     "name": "stdout",
     "output_type": "stream",
     "text": [
      "Table. Fluxes. WGT igg=10 wgt_flux=1\n"
     ]
    },
    {
     "data": {
      "text/html": [
       "<div>\n",
       "<style>\n",
       "    .dataframe thead tr:only-child th {\n",
       "        text-align: right;\n",
       "    }\n",
       "\n",
       "    .dataframe thead th {\n",
       "        text-align: left;\n",
       "    }\n",
       "\n",
       "    .dataframe tbody tr th {\n",
       "        vertical-align: top;\n",
       "    }\n",
       "</style>\n",
       "<table border=\"1\" class=\"dataframe\">\n",
       "  <thead>\n",
       "    <tr style=\"text-align: right;\">\n",
       "      <th></th>\n",
       "      <th></th>\n",
       "      <th>flug</th>\n",
       "      <th>fldg</th>\n",
       "      <th>fnetg</th>\n",
       "    </tr>\n",
       "    <tr>\n",
       "      <th>pressure</th>\n",
       "      <th>level</th>\n",
       "      <th></th>\n",
       "      <th></th>\n",
       "      <th></th>\n",
       "    </tr>\n",
       "  </thead>\n",
       "  <tbody>\n",
       "    <tr>\n",
       "      <th>0.0000</th>\n",
       "      <th>1</th>\n",
       "      <td>-23.029560</td>\n",
       "      <td>0.000000</td>\n",
       "      <td>-23.029560</td>\n",
       "    </tr>\n",
       "    <tr>\n",
       "      <th>1.0685</th>\n",
       "      <th>24</th>\n",
       "      <td>-23.028184</td>\n",
       "      <td>0.004588</td>\n",
       "      <td>-23.023596</td>\n",
       "    </tr>\n",
       "    <tr>\n",
       "      <th>1013.0000</th>\n",
       "      <th>76</th>\n",
       "      <td>-23.591138</td>\n",
       "      <td>1.871264</td>\n",
       "      <td>-21.719873</td>\n",
       "    </tr>\n",
       "  </tbody>\n",
       "</table>\n",
       "</div>"
      ],
      "text/plain": [
       "                      flug      fldg      fnetg\n",
       "pressure  level                                \n",
       "0.0000    1     -23.029560  0.000000 -23.029560\n",
       "1.0685    24    -23.028184  0.004588 -23.023596\n",
       "1013.0000 76    -23.591138  1.871264 -21.719873"
      ]
     },
     "metadata": {},
     "output_type": "display_data"
    },
    {
     "name": "stdout",
     "output_type": "stream",
     "text": [
      "Table. Fluxes. CRD\n"
     ]
    },
    {
     "data": {
      "text/html": [
       "<div>\n",
       "<style>\n",
       "    .dataframe thead tr:only-child th {\n",
       "        text-align: right;\n",
       "    }\n",
       "\n",
       "    .dataframe thead th {\n",
       "        text-align: left;\n",
       "    }\n",
       "\n",
       "    .dataframe tbody tr th {\n",
       "        vertical-align: top;\n",
       "    }\n",
       "</style>\n",
       "<table border=\"1\" class=\"dataframe\">\n",
       "  <thead>\n",
       "    <tr style=\"text-align: right;\">\n",
       "      <th></th>\n",
       "      <th></th>\n",
       "      <th>flug</th>\n",
       "      <th>fldg</th>\n",
       "      <th>fnetg</th>\n",
       "    </tr>\n",
       "    <tr>\n",
       "      <th>pressure</th>\n",
       "      <th>level</th>\n",
       "      <th></th>\n",
       "      <th></th>\n",
       "      <th></th>\n",
       "    </tr>\n",
       "  </thead>\n",
       "  <tbody>\n",
       "    <tr>\n",
       "      <th>0.0000</th>\n",
       "      <th>76</th>\n",
       "      <td>-23.591141</td>\n",
       "      <td>-1.323805</td>\n",
       "      <td>-24.914946</td>\n",
       "    </tr>\n",
       "    <tr>\n",
       "      <th>0.9151</th>\n",
       "      <th>23</th>\n",
       "      <td>-23.021685</td>\n",
       "      <td>0.003500</td>\n",
       "      <td>-23.018185</td>\n",
       "    </tr>\n",
       "    <tr>\n",
       "      <th>1001.1120</th>\n",
       "      <th>75</th>\n",
       "      <td>-23.550358</td>\n",
       "      <td>1.855772</td>\n",
       "      <td>-21.694586</td>\n",
       "    </tr>\n",
       "  </tbody>\n",
       "</table>\n",
       "</div>"
      ],
      "text/plain": [
       "                      flug      fldg      fnetg\n",
       "pressure  level                                \n",
       "0.0000    76    -23.591141 -1.323805 -24.914946\n",
       "0.9151    23    -23.021685  0.003500 -23.018185\n",
       "1001.1120 75    -23.550358  1.855772 -21.694586"
      ]
     },
     "metadata": {},
     "output_type": "display_data"
    },
    {
     "name": "stdout",
     "output_type": "stream",
     "text": [
      "Table. Fluxes. CLIRAD\n"
     ]
    },
    {
     "data": {
      "text/html": [
       "<div>\n",
       "<style>\n",
       "    .dataframe thead tr:only-child th {\n",
       "        text-align: right;\n",
       "    }\n",
       "\n",
       "    .dataframe thead th {\n",
       "        text-align: left;\n",
       "    }\n",
       "\n",
       "    .dataframe tbody tr th {\n",
       "        vertical-align: top;\n",
       "    }\n",
       "</style>\n",
       "<table border=\"1\" class=\"dataframe\">\n",
       "  <thead>\n",
       "    <tr style=\"text-align: right;\">\n",
       "      <th></th>\n",
       "      <th></th>\n",
       "      <th>flug</th>\n",
       "      <th>fldg</th>\n",
       "      <th>fnetg</th>\n",
       "    </tr>\n",
       "    <tr>\n",
       "      <th>pressure</th>\n",
       "      <th>level</th>\n",
       "      <th></th>\n",
       "      <th></th>\n",
       "      <th></th>\n",
       "    </tr>\n",
       "  </thead>\n",
       "  <tbody>\n",
       "    <tr>\n",
       "      <th>0.0000</th>\n",
       "      <th>1</th>\n",
       "      <td>-4.568470e-03</td>\n",
       "      <td>0.000000</td>\n",
       "      <td>-0.004568</td>\n",
       "    </tr>\n",
       "    <tr>\n",
       "      <th>1.0685</th>\n",
       "      <th>24</th>\n",
       "      <td>-4.670670e-03</td>\n",
       "      <td>0.000168</td>\n",
       "      <td>-0.004502</td>\n",
       "    </tr>\n",
       "    <tr>\n",
       "      <th>1013.0000</th>\n",
       "      <th>76</th>\n",
       "      <td>-3.400000e-07</td>\n",
       "      <td>-0.089670</td>\n",
       "      <td>-0.089669</td>\n",
       "    </tr>\n",
       "  </tbody>\n",
       "</table>\n",
       "</div>"
      ],
      "text/plain": [
       "                         flug      fldg     fnetg\n",
       "pressure  level                                  \n",
       "0.0000    1     -4.568470e-03  0.000000 -0.004568\n",
       "1.0685    24    -4.670670e-03  0.000168 -0.004502\n",
       "1013.0000 76    -3.400000e-07 -0.089670 -0.089669"
      ]
     },
     "metadata": {},
     "output_type": "display_data"
    },
    {
     "name": "stdout",
     "output_type": "stream",
     "text": [
      "Table. Fluxes. (CRD) - (WGT igg=10 wgt_flux=1)\n"
     ]
    },
    {
     "data": {
      "text/html": [
       "<div>\n",
       "<style>\n",
       "    .dataframe thead tr:only-child th {\n",
       "        text-align: right;\n",
       "    }\n",
       "\n",
       "    .dataframe thead th {\n",
       "        text-align: left;\n",
       "    }\n",
       "\n",
       "    .dataframe tbody tr th {\n",
       "        vertical-align: top;\n",
       "    }\n",
       "</style>\n",
       "<table border=\"1\" class=\"dataframe\">\n",
       "  <thead>\n",
       "    <tr style=\"text-align: right;\">\n",
       "      <th></th>\n",
       "      <th></th>\n",
       "      <th>flug</th>\n",
       "      <th>fldg</th>\n",
       "      <th>fnetg</th>\n",
       "    </tr>\n",
       "    <tr>\n",
       "      <th>pressure</th>\n",
       "      <th>level</th>\n",
       "      <th></th>\n",
       "      <th></th>\n",
       "      <th></th>\n",
       "    </tr>\n",
       "  </thead>\n",
       "  <tbody>\n",
       "    <tr>\n",
       "      <th>0.0000</th>\n",
       "      <th>1</th>\n",
       "      <td>-0.566149</td>\n",
       "      <td>-1.323805</td>\n",
       "      <td>-1.889954</td>\n",
       "    </tr>\n",
       "    <tr>\n",
       "      <th>1.0685</th>\n",
       "      <th>24</th>\n",
       "      <td>0.001828</td>\n",
       "      <td>-0.000920</td>\n",
       "      <td>0.000909</td>\n",
       "    </tr>\n",
       "    <tr>\n",
       "      <th>1013.0000</th>\n",
       "      <th>76</th>\n",
       "      <td>0.040780</td>\n",
       "      <td>-0.105162</td>\n",
       "      <td>-0.064382</td>\n",
       "    </tr>\n",
       "  </tbody>\n",
       "</table>\n",
       "</div>"
      ],
      "text/plain": [
       "                     flug      fldg     fnetg\n",
       "pressure  level                              \n",
       "0.0000    1     -0.566149 -1.323805 -1.889954\n",
       "1.0685    24     0.001828 -0.000920  0.000909\n",
       "1013.0000 76     0.040780 -0.105162 -0.064382"
      ]
     },
     "metadata": {},
     "output_type": "display_data"
    },
    {
     "name": "stdout",
     "output_type": "stream",
     "text": [
      "Table. Fluxes. (CLIRAD) - (WGT igg=10 wgt_flux=1)\n"
     ]
    },
    {
     "data": {
      "text/html": [
       "<a id=\"Best-fit_Parameters\"></a>"
      ],
      "text/plain": [
       "<IPython.core.display.HTML object>"
      ]
     },
     "metadata": {},
     "output_type": "display_data"
    },
    {
     "data": {
      "text/markdown": [
       "# Best-fit Parameters"
      ],
      "text/plain": [
       "<IPython.core.display.Markdown object>"
      ]
     },
     "metadata": {},
     "output_type": "display_data"
    },
    {
     "name": "stdout",
     "output_type": "stream",
     "text": [
      "Best-fit values for each (gas, band)\n",
      "------------------------------------\n",
      "o n2o band3a\n",
      "  atmpro = mls\n",
      "  band = 3a\n",
      "  commitnumber = 5014a19\n",
      "  conc = 3.2e-07\n",
      "  dv = 0.01\n",
      "  klin = 2.22e-20\n",
      "  molecule = n2o\n",
      "  ng_adju = [0, 0]\n",
      "  ng_refs = [1, 2]\n",
      "  nv = 100\n",
      "  option_compute_btable = 0\n",
      "  option_compute_ktable = 1\n",
      "  option_wgt_flux = 1\n",
      "  option_wgt_k = 1\n",
      "  ref_pts = [(1, 250), (500, 250)]\n",
      "  tsfc = 294\n",
      "  vmax = 620\n",
      "  vmin = 540\n",
      "  w_diffuse = [(1.8,), (1.66, 1.8)]\n",
      "  wgt = [(0.9,), (0.5, 0.95)]\n"
     ]
    }
   ],
   "source": [
    "script()"
   ]
  },
  {
   "cell_type": "code",
   "execution_count": 13,
   "metadata": {
    "collapsed": true
   },
   "outputs": [
    {
     "data": {
      "text/html": [
       "<script>\n",
       "code_show=true; \n",
       "function code_toggle() {\n",
       " if (code_show){\n",
       " $('div.input').hide();\n",
       " } else {\n",
       " $('div.input').show();\n",
       " }\n",
       " code_show = !code_show\n",
       "} \n",
       "$( document ).ready(code_toggle);\n",
       "</script>\n",
       "<form action=\"javascript:code_toggle()\"><input type=\"submit\" value=\"Click here to toggle on/off the raw code.\"></form>"
      ],
      "text/plain": [
       "<IPython.core.display.HTML object>"
      ]
     },
     "execution_count": 13,
     "metadata": {},
     "output_type": "execute_result"
    }
   ],
   "source": [
    "display.HTML('''<script>\n",
    "code_show=true; \n",
    "function code_toggle() {\n",
    " if (code_show){\n",
    " $('div.input').hide();\n",
    " } else {\n",
    " $('div.input').show();\n",
    " }\n",
    " code_show = !code_show\n",
    "} \n",
    "$( document ).ready(code_toggle);\n",
    "</script>\n",
    "<form action=\"javascript:code_toggle()\"><input type=\"submit\" value=\"Click here to toggle on/off the raw code.\"></form>''')"
   ]
  }
 ],
 "metadata": {
  "kernelspec": {
   "display_name": "Python 3",
   "language": "python",
   "name": "python3"
  },
  "language_info": {
   "codemirror_mode": {
    "name": "ipython",
    "version": 3
   },
   "file_extension": ".py",
   "mimetype": "text/x-python",
   "name": "python",
   "nbconvert_exporter": "python",
   "pygments_lexer": "ipython3",
   "version": "3.6.1"
  }
 },
 "nbformat": 4,
 "nbformat_minor": 2
}
