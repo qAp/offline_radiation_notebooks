{
 "cells": [
  {
   "cell_type": "code",
   "execution_count": 1,
   "metadata": {
    "collapsed": true
   },
   "outputs": [],
   "source": [
    "%matplotlib inline\n",
    "import os\n",
    "import re\n",
    "import io\n",
    "import itertools\n",
    "import pprint\n",
    "\n",
    "from bokeh.io import output_notebook, show\n",
    "from bokeh.layouts import gridplot\n",
    "from bokeh.plotting import figure\n",
    "from bokeh.models import Range1d, Legend\n",
    "from bokeh.palettes import all_palettes\n",
    "\n",
    "import matplotlib\n",
    "import matplotlib.pyplot as plt\n",
    "import numpy as np\n",
    "import pandas as pd\n",
    "import xarray as xr\n",
    "\n",
    "import climatools.lblnew.bestfit_params as bestfits\n",
    "from climatools.lblnew import setup_bestfit, setup_overlap\n",
    "import climatools.lblnew.pipeline as pipe_lblnew\n",
    "import climatools.cliradlw.setup as setup_cliradlw\n",
    "import climatools.cliradlw.pipeline as pipe_cliradlw\n",
    "\n",
    "import climatools.html.html as climahtml\n",
    "from climatools.lblnew.dataio import *\n",
    "from climatools.plot.plot import *\n",
    "\n",
    "\n",
    "import IPython.display as display"
   ]
  },
  {
   "cell_type": "code",
   "execution_count": 2,
   "metadata": {
    "collapsed": true
   },
   "outputs": [],
   "source": [
    "%run param.py"
   ]
  },
  {
   "cell_type": "code",
   "execution_count": 3,
   "metadata": {
    "collapsed": true
   },
   "outputs": [],
   "source": [
    "def load_output_file(path_csv):\n",
    "    '''\n",
    "    Load lblnew output .csv file to xarray.Dataset\n",
    "    \n",
    "    Parameters\n",
    "    ----------\n",
    "    path_csv: str\n",
    "              Path to the .csv file to be loaded.\n",
    "    ds: xarray.Dataset\n",
    "        Data in the input file in the form of an xarray.Dataset.\n",
    "    '''\n",
    "    toindex = ['band', 'pressure', 'igg', 'g']    \n",
    "    df = pd.read_csv(path_csv, sep=r'\\s+')\n",
    "    df = df.set_index([i for i in toindex if i in df.columns])\n",
    "    df = df.rename(columns={'sfu': 'flug',\n",
    "                            'sfd': 'fldg',\n",
    "                            'fnet': 'fnetg',\n",
    "                            'coolr': 'coolrg'})\n",
    "    ds = xr.Dataset.from_dataframe(df)\n",
    "\n",
    "    for l in ('level', 'layer'):\n",
    "        if l in ds.data_vars:\n",
    "            if len(ds[l].dims) > 1:\n",
    "                surface = {d: 0 for d in ds.dims if d != 'pressure'}\n",
    "                coord_level = ds[l][surface]\n",
    "                ds.coords[l] = ('pressure', coord_level)\n",
    "            else:\n",
    "                ds.coords[l] = ('pressure', ds[l])\n",
    "    \n",
    "    return ds"
   ]
  },
  {
   "cell_type": "code",
   "execution_count": 4,
   "metadata": {
    "collapsed": true
   },
   "outputs": [],
   "source": [
    "def lblnew_setup(param=None):\n",
    "    if 'ng_refs' in param:\n",
    "        return {'setup': setup_bestfit,\n",
    "                'fname_flux_crd': 'output_flux.dat',\n",
    "                'fname_cool_crd': 'output_coolr.dat',\n",
    "                'fname_flux_wgt': 'output_wfluxg.dat',\n",
    "                'fname_cool_wgt': 'output_wcoolrg.dat'}\n",
    "    else:\n",
    "        return {'setup': setup_overlap,\n",
    "                'fname_flux_crd': 'output_flux.dat',\n",
    "                'fname_cool_crd': 'output_coolr.dat',\n",
    "                'fname_flux_wgt': 'output_wflux.dat',\n",
    "                'fname_cool_wgt': 'output_wcoolr.dat'}\n",
    "\n",
    "    \n",
    "def load_lblnew_data(param):\n",
    "    \n",
    "    fname_dsname = [('fname_flux_crd', 'ds_flux_crd'),\n",
    "                    ('fname_cool_crd', 'ds_cool_crd'),\n",
    "                    ('fname_flux_wgt', 'ds_flux_wgt'),\n",
    "                    ('fname_cool_wgt', 'ds_cool_wgt')]\n",
    "    \n",
    "    d = lblnew_setup(param)\n",
    "    dir_fortran = pipe_lblnew.get_dir_case(param, setup=d['setup'])\n",
    "    \n",
    "    data_dict = {}\n",
    "    for fname, dsname in fname_dsname:\n",
    "        fpath = os.path.join(dir_fortran, d[fname])\n",
    "        data_dict[dsname] = load_output_file(fpath)\n",
    "    return data_dict\n",
    "    \n",
    "\n",
    "    \n",
    "    "
   ]
  },
  {
   "cell_type": "code",
   "execution_count": 5,
   "metadata": {
    "collapsed": true
   },
   "outputs": [],
   "source": [
    "d = load_lblnew_data(PARAM_LBLNEW)\n",
    "\n",
    "DS_FLUX_CRD = d['ds_flux_crd']\n",
    "DS_COOL_CRD = d['ds_cool_crd']\n",
    "DS_FLUX_WGT = d['ds_flux_wgt']\n",
    "DS_COOL_WGT = d['ds_cool_wgt']"
   ]
  },
  {
   "cell_type": "code",
   "execution_count": 6,
   "metadata": {
    "collapsed": true
   },
   "outputs": [],
   "source": [
    "DIR_FORTRAN = pipe_cliradlw.get_fortran_dir(PARAM, \n",
    "                                            setup=setup_cliradlw)\n",
    "\n",
    "PATH_FLUX = os.path.join(DIR_FORTRAN, 'output_flux.dat')\n",
    "PATH_COOL = os.path.join(DIR_FORTRAN, 'output_coolr.dat')\n",
    "\n",
    "DS_FLUX = load_output_file(PATH_FLUX)\n",
    "DS_COOL = load_output_file(PATH_COOL)"
   ]
  },
  {
   "cell_type": "code",
   "execution_count": 7,
   "metadata": {
    "collapsed": true
   },
   "outputs": [
    {
     "data": {
      "text/html": [
       "\n",
       "    <div class=\"bk-root\">\n",
       "        <a href=\"https://bokeh.pydata.org\" target=\"_blank\" class=\"bk-logo bk-logo-small bk-logo-notebook\"></a>\n",
       "        <span id=\"08785828-9cb1-4e4c-bee9-fe4ba0681b71\">Loading BokehJS ...</span>\n",
       "    </div>"
      ]
     },
     "metadata": {},
     "output_type": "display_data"
    },
    {
     "data": {
      "application/javascript": [
       "\n",
       "(function(root) {\n",
       "  function now() {\n",
       "    return new Date();\n",
       "  }\n",
       "\n",
       "  var force = true;\n",
       "\n",
       "  if (typeof (root._bokeh_onload_callbacks) === \"undefined\" || force === true) {\n",
       "    root._bokeh_onload_callbacks = [];\n",
       "    root._bokeh_is_loading = undefined;\n",
       "  }\n",
       "\n",
       "  var JS_MIME_TYPE = 'application/javascript';\n",
       "  var HTML_MIME_TYPE = 'text/html';\n",
       "  var EXEC_MIME_TYPE = 'application/vnd.bokehjs_exec.v0+json';\n",
       "  var CLASS_NAME = 'output_bokeh rendered_html';\n",
       "\n",
       "  /**\n",
       "   * Render data to the DOM node\n",
       "   */\n",
       "  function render(props, node) {\n",
       "    var script = document.createElement(\"script\");\n",
       "    node.appendChild(script);\n",
       "  }\n",
       "\n",
       "  /**\n",
       "   * Handle when an output is cleared or removed\n",
       "   */\n",
       "  function handleClearOutput(event, handle) {\n",
       "    var cell = handle.cell;\n",
       "\n",
       "    var id = cell.output_area._bokeh_element_id;\n",
       "    var server_id = cell.output_area._bokeh_server_id;\n",
       "    // Clean up Bokeh references\n",
       "    if (id !== undefined) {\n",
       "      Bokeh.index[id].model.document.clear();\n",
       "      delete Bokeh.index[id];\n",
       "    }\n",
       "\n",
       "    if (server_id !== undefined) {\n",
       "      // Clean up Bokeh references\n",
       "      var cmd = \"from bokeh.io.state import curstate; print(curstate().uuid_to_server['\" + server_id + \"'].get_sessions()[0].document.roots[0]._id)\";\n",
       "      cell.notebook.kernel.execute(cmd, {\n",
       "        iopub: {\n",
       "          output: function(msg) {\n",
       "            var element_id = msg.content.text.trim();\n",
       "            Bokeh.index[element_id].model.document.clear();\n",
       "            delete Bokeh.index[element_id];\n",
       "          }\n",
       "        }\n",
       "      });\n",
       "      // Destroy server and session\n",
       "      var cmd = \"import bokeh.io.notebook as ion; ion.destroy_server('\" + server_id + \"')\";\n",
       "      cell.notebook.kernel.execute(cmd);\n",
       "    }\n",
       "  }\n",
       "\n",
       "  /**\n",
       "   * Handle when a new output is added\n",
       "   */\n",
       "  function handleAddOutput(event, handle) {\n",
       "    var output_area = handle.output_area;\n",
       "    var output = handle.output;\n",
       "\n",
       "    // limit handleAddOutput to display_data with EXEC_MIME_TYPE content only\n",
       "    if ((output.output_type != \"display_data\") || (!output.data.hasOwnProperty(EXEC_MIME_TYPE))) {\n",
       "      return\n",
       "    }\n",
       "\n",
       "    var toinsert = output_area.element.find(\".\" + CLASS_NAME.split(' ')[0]);\n",
       "\n",
       "    if (output.metadata[EXEC_MIME_TYPE][\"id\"] !== undefined) {\n",
       "      toinsert[0].firstChild.textContent = output.data[JS_MIME_TYPE];\n",
       "      // store reference to embed id on output_area\n",
       "      output_area._bokeh_element_id = output.metadata[EXEC_MIME_TYPE][\"id\"];\n",
       "    }\n",
       "    if (output.metadata[EXEC_MIME_TYPE][\"server_id\"] !== undefined) {\n",
       "      var bk_div = document.createElement(\"div\");\n",
       "      bk_div.innerHTML = output.data[HTML_MIME_TYPE];\n",
       "      var script_attrs = bk_div.children[0].attributes;\n",
       "      for (var i = 0; i < script_attrs.length; i++) {\n",
       "        toinsert[0].firstChild.setAttribute(script_attrs[i].name, script_attrs[i].value);\n",
       "      }\n",
       "      // store reference to server id on output_area\n",
       "      output_area._bokeh_server_id = output.metadata[EXEC_MIME_TYPE][\"server_id\"];\n",
       "    }\n",
       "  }\n",
       "\n",
       "  function register_renderer(events, OutputArea) {\n",
       "\n",
       "    function append_mime(data, metadata, element) {\n",
       "      // create a DOM node to render to\n",
       "      var toinsert = this.create_output_subarea(\n",
       "        metadata,\n",
       "        CLASS_NAME,\n",
       "        EXEC_MIME_TYPE\n",
       "      );\n",
       "      this.keyboard_manager.register_events(toinsert);\n",
       "      // Render to node\n",
       "      var props = {data: data, metadata: metadata[EXEC_MIME_TYPE]};\n",
       "      render(props, toinsert[0]);\n",
       "      element.append(toinsert);\n",
       "      return toinsert\n",
       "    }\n",
       "\n",
       "    /* Handle when an output is cleared or removed */\n",
       "    events.on('clear_output.CodeCell', handleClearOutput);\n",
       "    events.on('delete.Cell', handleClearOutput);\n",
       "\n",
       "    /* Handle when a new output is added */\n",
       "    events.on('output_added.OutputArea', handleAddOutput);\n",
       "\n",
       "    /**\n",
       "     * Register the mime type and append_mime function with output_area\n",
       "     */\n",
       "    OutputArea.prototype.register_mime_type(EXEC_MIME_TYPE, append_mime, {\n",
       "      /* Is output safe? */\n",
       "      safe: true,\n",
       "      /* Index of renderer in `output_area.display_order` */\n",
       "      index: 0\n",
       "    });\n",
       "  }\n",
       "\n",
       "  // register the mime type if in Jupyter Notebook environment and previously unregistered\n",
       "  if (root.Jupyter !== undefined) {\n",
       "    var events = require('base/js/events');\n",
       "    var OutputArea = require('notebook/js/outputarea').OutputArea;\n",
       "\n",
       "    if (OutputArea.prototype.mime_types().indexOf(EXEC_MIME_TYPE) == -1) {\n",
       "      register_renderer(events, OutputArea);\n",
       "    }\n",
       "  }\n",
       "\n",
       "  \n",
       "  if (typeof (root._bokeh_timeout) === \"undefined\" || force === true) {\n",
       "    root._bokeh_timeout = Date.now() + 5000;\n",
       "    root._bokeh_failed_load = false;\n",
       "  }\n",
       "\n",
       "  var NB_LOAD_WARNING = {'data': {'text/html':\n",
       "     \"<div style='background-color: #fdd'>\\n\"+\n",
       "     \"<p>\\n\"+\n",
       "     \"BokehJS does not appear to have successfully loaded. If loading BokehJS from CDN, this \\n\"+\n",
       "     \"may be due to a slow or bad network connection. Possible fixes:\\n\"+\n",
       "     \"</p>\\n\"+\n",
       "     \"<ul>\\n\"+\n",
       "     \"<li>re-rerun `output_notebook()` to attempt to load from CDN again, or</li>\\n\"+\n",
       "     \"<li>use INLINE resources instead, as so:</li>\\n\"+\n",
       "     \"</ul>\\n\"+\n",
       "     \"<code>\\n\"+\n",
       "     \"from bokeh.resources import INLINE\\n\"+\n",
       "     \"output_notebook(resources=INLINE)\\n\"+\n",
       "     \"</code>\\n\"+\n",
       "     \"</div>\"}};\n",
       "\n",
       "  function display_loaded() {\n",
       "    var el = document.getElementById(\"08785828-9cb1-4e4c-bee9-fe4ba0681b71\");\n",
       "    if (el != null) {\n",
       "      el.textContent = \"BokehJS is loading...\";\n",
       "    }\n",
       "    if (root.Bokeh !== undefined) {\n",
       "      if (el != null) {\n",
       "        el.textContent = \"BokehJS \" + root.Bokeh.version + \" successfully loaded.\";\n",
       "      }\n",
       "    } else if (Date.now() < root._bokeh_timeout) {\n",
       "      setTimeout(display_loaded, 100)\n",
       "    }\n",
       "  }\n",
       "\n",
       "\n",
       "  function run_callbacks() {\n",
       "    try {\n",
       "      root._bokeh_onload_callbacks.forEach(function(callback) { callback() });\n",
       "    }\n",
       "    finally {\n",
       "      delete root._bokeh_onload_callbacks\n",
       "    }\n",
       "    console.info(\"Bokeh: all callbacks have finished\");\n",
       "  }\n",
       "\n",
       "  function load_libs(js_urls, callback) {\n",
       "    root._bokeh_onload_callbacks.push(callback);\n",
       "    if (root._bokeh_is_loading > 0) {\n",
       "      console.log(\"Bokeh: BokehJS is being loaded, scheduling callback at\", now());\n",
       "      return null;\n",
       "    }\n",
       "    if (js_urls == null || js_urls.length === 0) {\n",
       "      run_callbacks();\n",
       "      return null;\n",
       "    }\n",
       "    console.log(\"Bokeh: BokehJS not loaded, scheduling load and callback at\", now());\n",
       "    root._bokeh_is_loading = js_urls.length;\n",
       "    for (var i = 0; i < js_urls.length; i++) {\n",
       "      var url = js_urls[i];\n",
       "      var s = document.createElement('script');\n",
       "      s.src = url;\n",
       "      s.async = false;\n",
       "      s.onreadystatechange = s.onload = function() {\n",
       "        root._bokeh_is_loading--;\n",
       "        if (root._bokeh_is_loading === 0) {\n",
       "          console.log(\"Bokeh: all BokehJS libraries loaded\");\n",
       "          run_callbacks()\n",
       "        }\n",
       "      };\n",
       "      s.onerror = function() {\n",
       "        console.warn(\"failed to load library \" + url);\n",
       "      };\n",
       "      console.log(\"Bokeh: injecting script tag for BokehJS library: \", url);\n",
       "      document.getElementsByTagName(\"head\")[0].appendChild(s);\n",
       "    }\n",
       "  };var element = document.getElementById(\"08785828-9cb1-4e4c-bee9-fe4ba0681b71\");\n",
       "  if (element == null) {\n",
       "    console.log(\"Bokeh: ERROR: autoload.js configured with elementid '08785828-9cb1-4e4c-bee9-fe4ba0681b71' but no matching script tag was found. \")\n",
       "    return false;\n",
       "  }\n",
       "\n",
       "  var js_urls = [\"https://cdn.pydata.org/bokeh/release/bokeh-0.12.14.min.js\", \"https://cdn.pydata.org/bokeh/release/bokeh-widgets-0.12.14.min.js\", \"https://cdn.pydata.org/bokeh/release/bokeh-tables-0.12.14.min.js\", \"https://cdn.pydata.org/bokeh/release/bokeh-gl-0.12.14.min.js\"];\n",
       "\n",
       "  var inline_js = [\n",
       "    function(Bokeh) {\n",
       "      Bokeh.set_log_level(\"info\");\n",
       "    },\n",
       "    \n",
       "    function(Bokeh) {\n",
       "      \n",
       "    },\n",
       "    function(Bokeh) {\n",
       "      console.log(\"Bokeh: injecting CSS: https://cdn.pydata.org/bokeh/release/bokeh-0.12.14.min.css\");\n",
       "      Bokeh.embed.inject_css(\"https://cdn.pydata.org/bokeh/release/bokeh-0.12.14.min.css\");\n",
       "      console.log(\"Bokeh: injecting CSS: https://cdn.pydata.org/bokeh/release/bokeh-widgets-0.12.14.min.css\");\n",
       "      Bokeh.embed.inject_css(\"https://cdn.pydata.org/bokeh/release/bokeh-widgets-0.12.14.min.css\");\n",
       "      console.log(\"Bokeh: injecting CSS: https://cdn.pydata.org/bokeh/release/bokeh-tables-0.12.14.min.css\");\n",
       "      Bokeh.embed.inject_css(\"https://cdn.pydata.org/bokeh/release/bokeh-tables-0.12.14.min.css\");\n",
       "    }\n",
       "  ];\n",
       "\n",
       "  function run_inline_js() {\n",
       "    \n",
       "    if ((root.Bokeh !== undefined) || (force === true)) {\n",
       "      for (var i = 0; i < inline_js.length; i++) {\n",
       "        inline_js[i].call(root, root.Bokeh);\n",
       "      }if (force === true) {\n",
       "        display_loaded();\n",
       "      }} else if (Date.now() < root._bokeh_timeout) {\n",
       "      setTimeout(run_inline_js, 100);\n",
       "    } else if (!root._bokeh_failed_load) {\n",
       "      console.log(\"Bokeh: BokehJS failed to load within specified timeout.\");\n",
       "      root._bokeh_failed_load = true;\n",
       "    } else if (force !== true) {\n",
       "      var cell = $(document.getElementById(\"08785828-9cb1-4e4c-bee9-fe4ba0681b71\")).parents('.cell').data().cell;\n",
       "      cell.output_area.append_execute_result(NB_LOAD_WARNING)\n",
       "    }\n",
       "\n",
       "  }\n",
       "\n",
       "  if (root._bokeh_is_loading === 0) {\n",
       "    console.log(\"Bokeh: BokehJS loaded, going straight to plotting\");\n",
       "    run_inline_js();\n",
       "  } else {\n",
       "    load_libs(js_urls, function() {\n",
       "      console.log(\"Bokeh: BokehJS plotting callback run at\", now());\n",
       "      run_inline_js();\n",
       "    });\n",
       "  }\n",
       "}(window));"
      ],
      "application/vnd.bokehjs_load.v0+json": "\n(function(root) {\n  function now() {\n    return new Date();\n  }\n\n  var force = true;\n\n  if (typeof (root._bokeh_onload_callbacks) === \"undefined\" || force === true) {\n    root._bokeh_onload_callbacks = [];\n    root._bokeh_is_loading = undefined;\n  }\n\n  \n\n  \n  if (typeof (root._bokeh_timeout) === \"undefined\" || force === true) {\n    root._bokeh_timeout = Date.now() + 5000;\n    root._bokeh_failed_load = false;\n  }\n\n  var NB_LOAD_WARNING = {'data': {'text/html':\n     \"<div style='background-color: #fdd'>\\n\"+\n     \"<p>\\n\"+\n     \"BokehJS does not appear to have successfully loaded. If loading BokehJS from CDN, this \\n\"+\n     \"may be due to a slow or bad network connection. Possible fixes:\\n\"+\n     \"</p>\\n\"+\n     \"<ul>\\n\"+\n     \"<li>re-rerun `output_notebook()` to attempt to load from CDN again, or</li>\\n\"+\n     \"<li>use INLINE resources instead, as so:</li>\\n\"+\n     \"</ul>\\n\"+\n     \"<code>\\n\"+\n     \"from bokeh.resources import INLINE\\n\"+\n     \"output_notebook(resources=INLINE)\\n\"+\n     \"</code>\\n\"+\n     \"</div>\"}};\n\n  function display_loaded() {\n    var el = document.getElementById(\"08785828-9cb1-4e4c-bee9-fe4ba0681b71\");\n    if (el != null) {\n      el.textContent = \"BokehJS is loading...\";\n    }\n    if (root.Bokeh !== undefined) {\n      if (el != null) {\n        el.textContent = \"BokehJS \" + root.Bokeh.version + \" successfully loaded.\";\n      }\n    } else if (Date.now() < root._bokeh_timeout) {\n      setTimeout(display_loaded, 100)\n    }\n  }\n\n\n  function run_callbacks() {\n    try {\n      root._bokeh_onload_callbacks.forEach(function(callback) { callback() });\n    }\n    finally {\n      delete root._bokeh_onload_callbacks\n    }\n    console.info(\"Bokeh: all callbacks have finished\");\n  }\n\n  function load_libs(js_urls, callback) {\n    root._bokeh_onload_callbacks.push(callback);\n    if (root._bokeh_is_loading > 0) {\n      console.log(\"Bokeh: BokehJS is being loaded, scheduling callback at\", now());\n      return null;\n    }\n    if (js_urls == null || js_urls.length === 0) {\n      run_callbacks();\n      return null;\n    }\n    console.log(\"Bokeh: BokehJS not loaded, scheduling load and callback at\", now());\n    root._bokeh_is_loading = js_urls.length;\n    for (var i = 0; i < js_urls.length; i++) {\n      var url = js_urls[i];\n      var s = document.createElement('script');\n      s.src = url;\n      s.async = false;\n      s.onreadystatechange = s.onload = function() {\n        root._bokeh_is_loading--;\n        if (root._bokeh_is_loading === 0) {\n          console.log(\"Bokeh: all BokehJS libraries loaded\");\n          run_callbacks()\n        }\n      };\n      s.onerror = function() {\n        console.warn(\"failed to load library \" + url);\n      };\n      console.log(\"Bokeh: injecting script tag for BokehJS library: \", url);\n      document.getElementsByTagName(\"head\")[0].appendChild(s);\n    }\n  };var element = document.getElementById(\"08785828-9cb1-4e4c-bee9-fe4ba0681b71\");\n  if (element == null) {\n    console.log(\"Bokeh: ERROR: autoload.js configured with elementid '08785828-9cb1-4e4c-bee9-fe4ba0681b71' but no matching script tag was found. \")\n    return false;\n  }\n\n  var js_urls = [\"https://cdn.pydata.org/bokeh/release/bokeh-0.12.14.min.js\", \"https://cdn.pydata.org/bokeh/release/bokeh-widgets-0.12.14.min.js\", \"https://cdn.pydata.org/bokeh/release/bokeh-tables-0.12.14.min.js\", \"https://cdn.pydata.org/bokeh/release/bokeh-gl-0.12.14.min.js\"];\n\n  var inline_js = [\n    function(Bokeh) {\n      Bokeh.set_log_level(\"info\");\n    },\n    \n    function(Bokeh) {\n      \n    },\n    function(Bokeh) {\n      console.log(\"Bokeh: injecting CSS: https://cdn.pydata.org/bokeh/release/bokeh-0.12.14.min.css\");\n      Bokeh.embed.inject_css(\"https://cdn.pydata.org/bokeh/release/bokeh-0.12.14.min.css\");\n      console.log(\"Bokeh: injecting CSS: https://cdn.pydata.org/bokeh/release/bokeh-widgets-0.12.14.min.css\");\n      Bokeh.embed.inject_css(\"https://cdn.pydata.org/bokeh/release/bokeh-widgets-0.12.14.min.css\");\n      console.log(\"Bokeh: injecting CSS: https://cdn.pydata.org/bokeh/release/bokeh-tables-0.12.14.min.css\");\n      Bokeh.embed.inject_css(\"https://cdn.pydata.org/bokeh/release/bokeh-tables-0.12.14.min.css\");\n    }\n  ];\n\n  function run_inline_js() {\n    \n    if ((root.Bokeh !== undefined) || (force === true)) {\n      for (var i = 0; i < inline_js.length; i++) {\n        inline_js[i].call(root, root.Bokeh);\n      }if (force === true) {\n        display_loaded();\n      }} else if (Date.now() < root._bokeh_timeout) {\n      setTimeout(run_inline_js, 100);\n    } else if (!root._bokeh_failed_load) {\n      console.log(\"Bokeh: BokehJS failed to load within specified timeout.\");\n      root._bokeh_failed_load = true;\n    } else if (force !== true) {\n      var cell = $(document.getElementById(\"08785828-9cb1-4e4c-bee9-fe4ba0681b71\")).parents('.cell').data().cell;\n      cell.output_area.append_execute_result(NB_LOAD_WARNING)\n    }\n\n  }\n\n  if (root._bokeh_is_loading === 0) {\n    console.log(\"Bokeh: BokehJS loaded, going straight to plotting\");\n    run_inline_js();\n  } else {\n    load_libs(js_urls, function() {\n      console.log(\"Bokeh: BokehJS plotting callback run at\", now());\n      run_inline_js();\n    });\n  }\n}(window));"
     },
     "metadata": {},
     "output_type": "display_data"
    }
   ],
   "source": [
    "output_notebook()"
   ]
  },
  {
   "cell_type": "code",
   "execution_count": 8,
   "metadata": {
    "collapsed": true
   },
   "outputs": [],
   "source": [
    "def fmt_cool(ds_in):\n",
    "    ds = ds_in.copy(deep=True)\n",
    "    if 'igg' in ds.dims:\n",
    "        ds = ds.sel(igg=1)\n",
    "\n",
    "    if 'g' in ds.dims:\n",
    "        ds = ds.sum('g')\n",
    "            \n",
    "    if 'band' in ds.dims:\n",
    "        try:\n",
    "            ds = ds.squeeze('band')\n",
    "        except ValueError:\n",
    "            ds = ds.sum('band')\n",
    "                \n",
    "    return ds['coolrg']\n",
    "\n",
    "\n",
    "def pltdata_cooling_1(ds_cool=None,\n",
    "                      ds_cool_crd=None, ds_cool_wgt=None):\n",
    "    \n",
    "\n",
    "\n",
    "    colors = all_palettes['Set1'][4]\n",
    "    data = [{'label': 'CLIRAD `coolr_bands`',\n",
    "             'srs': fmt_cool(ds_cool),\n",
    "             'line_dash': 'dashed', 'line_width': 5,\n",
    "             'color': colors[0], 'alpha': .6},\n",
    "            {'label': 'CRD',\n",
    "             'srs': fmt_cool(ds_cool_crd),\n",
    "             'line_dash': 'solid', 'line_width': 1.5,\n",
    "             'marker': 'circle', 'marker_size': 5,\n",
    "             'color': colors[2], 'alpha': 1,},\n",
    "            {'label': 'WGT igg=10 wgt_flux=2',\n",
    "             'srs': fmt_cool(ds_cool_wgt),\n",
    "             'line_dash': 'solid', 'line_width': 3,\n",
    "             'marker': 'square', 'marker_size': 5,\n",
    "             'color': colors[3], 'alpha': .6}]\n",
    "    return data\n",
    "\n",
    "\n",
    "def nice_xlims(pltdata=None, prange=None):\n",
    "    \n",
    "    def get_slice(srs):\n",
    "        return srs.sel(pressure=slice(*prange))\n",
    "    \n",
    "    srss = [d['srs'] for d in pltdata]\n",
    "    vmin = min([get_slice(srs).min() for srs in srss])\n",
    "    vmax = max([get_slice(srs).max() for srs in srss])\n",
    "    dv = (vmax - vmin) * .01\n",
    "    return float(vmin - dv), float(vmax + dv)\n",
    "    \n",
    "\n",
    "def plt_cooling_bokeh(pltdata=None):\n",
    "    '''\n",
    "    Plot a list of cooling rate profiles using bokeh.\n",
    "    '''\n",
    "    ymin = 1e-2 \n",
    "    ymax = 1020 \n",
    "        \n",
    "    p1 = figure(title=\"Linear pressure scale\", \n",
    "                plot_width=400)        \n",
    "    xmin, xmax = nice_xlims(pltdata, prange=(50, 1050))\n",
    "    for d in pltdata:\n",
    "        if 'marker' in d:\n",
    "            getattr(p1, d['marker'])(d['srs'].values, \n",
    "                    d['srs'].coords['pressure'].values,\n",
    "                    color=d['color'], alpha=.7)\n",
    "        p1.line(d['srs'].values, \n",
    "                d['srs'].coords['pressure'].values,\n",
    "                color=d['color'], alpha=d['alpha'], \n",
    "                line_width=d['line_width'], line_dash=d['line_dash'])\n",
    "    \n",
    "    p1.y_range = Range1d(ymax, ymin)\n",
    "    p1.yaxis.axis_label = 'pressure [mb]'   \n",
    "    p1.x_range = Range1d(xmin, xmax)\n",
    "    p1.xaxis.axis_label = 'cooling rate [K/day]'\n",
    "            \n",
    "    p2 = figure(title='Log pressure scale', y_axis_type='log',\n",
    "                plot_width=560)\n",
    "    xmin, xmax = nice_xlims(pltdata, prange=(.01, 200))\n",
    "    \n",
    "    rs = []\n",
    "    for d in pltdata:\n",
    "        rd = []\n",
    "        if 'marker' in d:\n",
    "            r_mark = getattr(p2, d['marker'])(d['srs'].values, \n",
    "                        d['srs'].coords['pressure'].values,\n",
    "                        color=d['color'], alpha=.7)\n",
    "            rd.append(r_mark)\n",
    "        r_line = p2.line(d['srs'].values, \n",
    "                    d['srs'].coords['pressure'].values,\n",
    "                    color=d['color'], alpha=d['alpha'], \n",
    "                    line_width=d['line_width'], line_dash=d['line_dash'])\n",
    "        rd.append(r_line)\n",
    "      \n",
    "        rs.append(rd)\n",
    "        \n",
    "    p2.y_range = Range1d(ymax, ymin)  \n",
    "    p2.yaxis.axis_label = 'pressure [mb]'\n",
    "    \n",
    "    p2.x_range = Range1d(xmin, xmax)\n",
    "    p2.xaxis.axis_label = 'cooling rate [K/day]'\n",
    "    \n",
    "    items = [(d['label'], r) for r, d in zip(rs, pltdata)]\n",
    "    legend = Legend(items=items, location=(10, -30))\n",
    "    legend.label_text_font_size = '8pt'\n",
    "    \n",
    "    p2.add_layout(legend, 'right')  \n",
    "    \n",
    "    show(gridplot(p1, p2, ncols=2, plot_height=500))\n",
    "    \n",
    "\n",
    "def script_plt_cooling():\n",
    "    pltdata = pltdata_cooling_1(\n",
    "        ds_cool=DS_COOL,\n",
    "        ds_cool_crd=DS_COOL_CRD,\n",
    "        ds_cool_wgt=DS_COOL_WGT)\n",
    "    plt_cooling_bokeh(pltdata=pltdata)\n",
    "    print('''FIGURE. Cooling rate profiles.''')"
   ]
  },
  {
   "cell_type": "code",
   "execution_count": 9,
   "metadata": {
    "collapsed": true
   },
   "outputs": [],
   "source": [
    "def fmt_flux(ds_in):\n",
    "    ds = ds_in.copy(deep=True)\n",
    "    \n",
    "    for l in ('level', 'layer'):\n",
    "        if l in ds.data_vars:\n",
    "            if len(ds[l].dims) > 1:\n",
    "                surface = {d: 0 for d in ds.dims if d != 'pressure'}\n",
    "                coord_level = ds[l][surface]\n",
    "                ds.coords[l] = ('pressure', coord_level)\n",
    "            else:\n",
    "                ds.coords[l] = ('pressure', ds[l])\n",
    "        \n",
    "    ds = ds.isel(pressure=[0, 23, -1])\n",
    "        \n",
    "    if 'igg' in ds.dims:\n",
    "        ds = ds.sel(igg=[1])\n",
    "        ds = ds.squeeze('igg').drop('igg')\n",
    "    \n",
    "    if 'g' in ds.dims:\n",
    "        ds = ds.sum('g')\n",
    "            \n",
    "    if 'band' in ds.dims:\n",
    "        try:\n",
    "            ds = ds.squeeze('band').drop('band')\n",
    "        except ValueError:\n",
    "            ds = ds.sum('band')\n",
    "                \n",
    "    df = ds.to_dataframe()\n",
    "    df = df.set_index('level', append=True)               \n",
    "    return df\n",
    "\n",
    "\n",
    "def tbdata_flux(ds_flux=None, ds_flux_crd=None, ds_flux_wgt=None):\n",
    "    ilevels = [0, 23, -1]\n",
    "            \n",
    "    benchmark = {'label': 'WGT igg=10 wgt_flux=1',\n",
    "                 'df': fmt_flux(ds_flux_wgt)}\n",
    "    \n",
    "    tbs = [{'label': 'CRD',\n",
    "            'df': fmt_flux(ds_flux_crd)},\n",
    "           {'label': 'CLIRAD',\n",
    "            'df': fmt_flux(ds_flux)}]\n",
    "    \n",
    "    data = {'benchmark': benchmark, 'others': tbs}\n",
    "    return data\n",
    "\n",
    "\n",
    "def tb_flux(tbdata=None):\n",
    "    benchmark = tbdata['benchmark']\n",
    "    others = tbdata['others']\n",
    "    \n",
    "    def show_tb(d=None):\n",
    "        display.display(d['df'])\n",
    "        print('Table.', 'Fluxes.', d['label'])\n",
    "        \n",
    "    def show_tbdiff(d0=None, d=None):\n",
    "        df = d['df']\n",
    "        df.index = d0['df'].index\n",
    "        display.display(df - d0['df'])\n",
    "        print('Table.', 'Fluxes.', \n",
    "              '({}) - ({})'.format(d['label'], d0['label']))\n",
    "        \n",
    "    show_tb(benchmark)\n",
    "    for d in others:\n",
    "        show_tb(d)\n",
    "        \n",
    "    for d in others:\n",
    "        show_tbdiff(d=d, d0=benchmark)\n",
    "        \n",
    "        \n",
    "def script_tb_flux():\n",
    "    data = tbdata_flux(ds_flux=DS_FLUX,\n",
    "                       ds_flux_crd=DS_FLUX_CRD,\n",
    "                       ds_flux_wgt=DS_FLUX_WGT)\n",
    "    tb_flux(tbdata=data)"
   ]
  },
  {
   "cell_type": "code",
   "execution_count": 10,
   "metadata": {
    "collapsed": true
   },
   "outputs": [],
   "source": [
    "def band_map():\n",
    "    '''\n",
    "    Maps spectral bands in lblnew to spectral bands in clirad.\n",
    "    '''\n",
    "    lblnew2clirad = {'1': '1',\n",
    "            '2': '2',\n",
    "            '3a': '3',\n",
    "            '3b': '4',\n",
    "            '3c': '5',\n",
    "            '4': '6', \n",
    "            '5': '7',\n",
    "            '6': '8',\n",
    "            '7': '9', \n",
    "            '8': '10',\n",
    "            '9': '11'}\n",
    "    \n",
    "    clirad2lblnew = {clirad: lblnew \n",
    "                     for lblnew, clirad in lblnew2clirad.items()}\n",
    "    return clirad2lblnew\n",
    "\n",
    "\n",
    "def gasbands():\n",
    "    bmap = band_map()\n",
    "    gases = list(PARAM['molecule'].keys())\n",
    "    \n",
    "    bands = [bmap[str(b)] for b in PARAM['band']]\n",
    "    return list(itertools.product(gases, bands))\n",
    "\n",
    "\n",
    "def print_bestfit_params():\n",
    "    print('Best-fit values for each (gas, band)')\n",
    "    print('------------------------------------')\n",
    "    for gas, band in gasbands():\n",
    "        print('o {} band{}'.format(gas, band))\n",
    "        param = bestfits.kdist_params(molecule=gas, band=band)\n",
    "        for name, value in sorted(param.items()):\n",
    "            print(2 * ' ' + '{} = {}'.format(name, value))\n",
    "\n",
    "        \n",
    "def print_input_param():        \n",
    "    for name, value in PARAM.items():\n",
    "        print('{} = {}'.format(name, value))\n",
    "        \n",
    "        \n",
    "def print_lblnew_param():\n",
    "    for name, value in sorted(PARAM_LBLNEW.items()):\n",
    "        print('{} = {}'.format(name, value))\n"
   ]
  },
  {
   "cell_type": "code",
   "execution_count": 11,
   "metadata": {
    "collapsed": true,
    "scrolled": false
   },
   "outputs": [],
   "source": [
    "def show_html(s):\n",
    "    display.display(display.HTML(s))\n",
    "\n",
    "    \n",
    "def show_markdown(s):\n",
    "    display.display(display.Markdown(s))\n",
    "\n",
    "    \n",
    "def script():\n",
    "    \n",
    "    title = '### CLIRAD-LW'\n",
    "    s_input = 'Input Parameters'\n",
    "    s_lblnew_param = 'LBLNEW case compaired against'\n",
    "    s_bestfits = 'Best-fit Parameters'\n",
    "    s_plt_cooling = 'Cooling Rate Profiles'\n",
    "    s_tb_flux = 'Flux Comparison'\n",
    "    \n",
    "    # title\n",
    "    show_markdown('### CLIRAD-LW')\n",
    "    \n",
    "    # TOC\n",
    "    show_markdown('### Table of Contents')\n",
    "    show_html(climahtml.getHTML_hrefanchor(s_input))\n",
    "    show_html(climahtml.getHTML_hrefanchor(s_lblnew_param))\n",
    "    show_html(climahtml.getHTML_hrefanchor(s_plt_cooling))\n",
    "    show_html(climahtml.getHTML_hrefanchor(s_tb_flux))\n",
    "    show_html(climahtml.getHTML_hrefanchor(s_bestfits))\n",
    "    \n",
    "    # Input parameters\n",
    "    show_html(climahtml.getHTML_idanchor(s_input))\n",
    "    show_markdown(climahtml.getMarkdown_sectitle(s_input))\n",
    "    print_input_param()\n",
    "    \n",
    "    # LBLNEW parameters \n",
    "    show_html(climahtml.getHTML_idanchor(s_lblnew_param))\n",
    "    show_markdown(climahtml.getMarkdown_sectitle(s_lblnew_param))\n",
    "    print_lblnew_param()\n",
    "    \n",
    "    # Cooling rate profiles\n",
    "    show_html(climahtml.getHTML_idanchor(s_plt_cooling))\n",
    "    show_markdown(climahtml.getMarkdown_sectitle(s_plt_cooling))\n",
    "    script_plt_cooling()\n",
    "    \n",
    "    # Flux comparison\n",
    "    show_html(climahtml.getHTML_idanchor(s_tb_flux))\n",
    "    show_markdown(climahtml.getMarkdown_sectitle(s_tb_flux))\n",
    "    script_tb_flux()\n",
    "    \n",
    "    # Best-fit values\n",
    "    show_html(climahtml.getHTML_idanchor(s_bestfits))\n",
    "    show_markdown(climahtml.getMarkdown_sectitle(s_bestfits))\n",
    "    print_bestfit_params()\n",
    "   \n",
    "    "
   ]
  },
  {
   "cell_type": "code",
   "execution_count": 12,
   "metadata": {
    "collapsed": true,
    "scrolled": false
   },
   "outputs": [
    {
     "data": {
      "text/markdown": [
       "### CLIRAD-LW"
      ],
      "text/plain": [
       "<IPython.core.display.Markdown object>"
      ]
     },
     "metadata": {},
     "output_type": "display_data"
    },
    {
     "data": {
      "text/markdown": [
       "### Table of Contents"
      ],
      "text/plain": [
       "<IPython.core.display.Markdown object>"
      ]
     },
     "metadata": {},
     "output_type": "display_data"
    },
    {
     "data": {
      "text/html": [
       "<a href=\"#Input_Parameters\">Input Parameters</a>"
      ],
      "text/plain": [
       "<IPython.core.display.HTML object>"
      ]
     },
     "metadata": {},
     "output_type": "display_data"
    },
    {
     "data": {
      "text/html": [
       "<a href=\"#LBLNEW_case_compaired_against\">LBLNEW case compaired against</a>"
      ],
      "text/plain": [
       "<IPython.core.display.HTML object>"
      ]
     },
     "metadata": {},
     "output_type": "display_data"
    },
    {
     "data": {
      "text/html": [
       "<a href=\"#Cooling_Rate_Profiles\">Cooling Rate Profiles</a>"
      ],
      "text/plain": [
       "<IPython.core.display.HTML object>"
      ]
     },
     "metadata": {},
     "output_type": "display_data"
    },
    {
     "data": {
      "text/html": [
       "<a href=\"#Flux_Comparison\">Flux Comparison</a>"
      ],
      "text/plain": [
       "<IPython.core.display.HTML object>"
      ]
     },
     "metadata": {},
     "output_type": "display_data"
    },
    {
     "data": {
      "text/html": [
       "<a href=\"#Best-fit_Parameters\">Best-fit Parameters</a>"
      ],
      "text/plain": [
       "<IPython.core.display.HTML object>"
      ]
     },
     "metadata": {},
     "output_type": "display_data"
    },
    {
     "data": {
      "text/html": [
       "<a id=\"Input_Parameters\"></a>"
      ],
      "text/plain": [
       "<IPython.core.display.HTML object>"
      ]
     },
     "metadata": {},
     "output_type": "display_data"
    },
    {
     "data": {
      "text/markdown": [
       "# Input Parameters"
      ],
      "text/plain": [
       "<IPython.core.display.Markdown object>"
      ]
     },
     "metadata": {},
     "output_type": "display_data"
    },
    {
     "name": "stdout",
     "output_type": "stream",
     "text": [
      "atmpro = saw\n",
      "band = [3]\n",
      "commitnumber = 0c003ef_r8\n",
      "molecule = {'n2o': 3.2e-07}\n",
      "tsfc = 257\n"
     ]
    },
    {
     "data": {
      "text/html": [
       "<a id=\"LBLNEW_case_compaired_against\"></a>"
      ],
      "text/plain": [
       "<IPython.core.display.HTML object>"
      ]
     },
     "metadata": {},
     "output_type": "display_data"
    },
    {
     "data": {
      "text/markdown": [
       "# LBLNEW case compaired against"
      ],
      "text/plain": [
       "<IPython.core.display.Markdown object>"
      ]
     },
     "metadata": {},
     "output_type": "display_data"
    },
    {
     "name": "stdout",
     "output_type": "stream",
     "text": [
      "atmpro = saw\n",
      "band = 3a\n",
      "commitnumber = 2bd1f75\n",
      "conc = 3.2e-07\n",
      "dv = 0.01\n",
      "klin = 2.22e-20\n",
      "molecule = n2o\n",
      "ng_adju = [0, 0]\n",
      "ng_refs = [1, 2]\n",
      "nv = 100\n",
      "option_compute_btable = 0\n",
      "option_compute_ktable = 0\n",
      "option_wgt_flux = 1\n",
      "option_wgt_k = 1\n",
      "ref_pts = [(1, 250), (500, 250)]\n",
      "tsfc = 257\n",
      "vmax = 620\n",
      "vmin = 540\n",
      "w_diffuse = [(1.8,), (1.66, 1.8)]\n",
      "wgt = [(0.9,), (0.5, 0.95)]\n"
     ]
    },
    {
     "data": {
      "text/html": [
       "<a id=\"Cooling_Rate_Profiles\"></a>"
      ],
      "text/plain": [
       "<IPython.core.display.HTML object>"
      ]
     },
     "metadata": {},
     "output_type": "display_data"
    },
    {
     "data": {
      "text/markdown": [
       "# Cooling Rate Profiles"
      ],
      "text/plain": [
       "<IPython.core.display.Markdown object>"
      ]
     },
     "metadata": {},
     "output_type": "display_data"
    },
    {
     "data": {
      "text/html": [
       "\n",
       "<div class=\"bk-root\">\n",
       "    <div class=\"bk-plotdiv\" id=\"85a21099-bd6f-40fe-bff2-27228c858b52\"></div>\n",
       "</div>"
      ]
     },
     "metadata": {},
     "output_type": "display_data"
    },
    {
     "data": {
      "application/javascript": [
       "(function(root) {\n",
       "  function embed_document(root) {\n",
       "    \n",
       "  var docs_json = {\"04d5765d-a061-4165-866c-f9c8c40a2f0f\":{\"roots\":{\"references\":[{\"attributes\":{\"overlay\":{\"id\":\"6a0c5af9-85d4-4d46-b599-29180f817415\",\"type\":\"BoxAnnotation\"}},\"id\":\"5bc406fe-9a82-4f93-b7fa-2bb935b71968\",\"type\":\"BoxZoomTool\"},{\"attributes\":{\"fill_alpha\":{\"value\":0.7},\"fill_color\":{\"value\":\"#4daf4a\"},\"line_alpha\":{\"value\":0.7},\"line_color\":{\"value\":\"#4daf4a\"},\"x\":{\"field\":\"x\"},\"y\":{\"field\":\"y\"}},\"id\":\"b8ef39bb-271b-411e-9dc6-f1c6df767119\",\"type\":\"Circle\"},{\"attributes\":{},\"id\":\"bda017a9-5ba7-4676-8a57-227b81b3b8dd\",\"type\":\"ResetTool\"},{\"attributes\":{\"line_alpha\":0.6,\"line_color\":\"#e41a1c\",\"line_dash\":[6],\"line_width\":5,\"x\":{\"field\":\"x\"},\"y\":{\"field\":\"y\"}},\"id\":\"e6f1a2ff-6659-4fae-a629-a59a77beb57f\",\"type\":\"Line\"},{\"attributes\":{},\"id\":\"94d15f33-1bfe-4f33-849a-6b35218fa509\",\"type\":\"SaveTool\"},{\"attributes\":{},\"id\":\"a387f7d9-e83a-424d-bf7a-4b591e676fe2\",\"type\":\"BasicTickFormatter\"},{\"attributes\":{},\"id\":\"b829c292-ac07-4c0c-a18c-4eb1c15d83ee\",\"type\":\"HelpTool\"},{\"attributes\":{\"callback\":null,\"column_names\":[\"x\",\"y\"],\"data\":{\"x\":{\"__ndarray__\":\"UQkn6sT8iD/3SHcQjsGKP6XYMX/mbo4/0DpDdLEmkT9+VtSUDSmTP4ppmVvkPpU/5r9kgF5nlz8m+TLgB6GZP5gxiJSo7ps/0EsFOphQnj/sG9o30WOgP7epX63DqaE/5faK4bz4oj9ltngWxCmkP269zxTOGqU/l0F1GxzupT+t3TfeycOmP6rX9vFioqc/piLloo2CqD8aS1SHzkapP6zqVOnZBao/fj4McktNqT+sRgfc8bSmP+Iadggmp6M/NcetZeC6oD9K1WCGnuybPw0Vl1h7s5Y/lkuG95tMkj909PZddhGOP0sFIiAVn4g/VIZ78hp+gz//Wucfdrx9P2FQAubf4Xc//5qOeWG0dT93cjzKrWt0P6C2bRzFb3M/h2KXrNFbcj/qbAlqcn5wP1y9JyCsRmw/A6NyD5bZZz8Xo0yzMnZjP1G60tAgP14/6LptLs3NVT/ES5Y8bcNKP9C0ggbLFDk/+8OHPD+RQj+AX6Dz6dFaPyY2A1Y9FWk/ZL/ZyodScj/V78nJhdp3P2ou1vXRP30/sTJgqSNJgT+4ApZVwt6DP24RdTf4T4Y/9BR8+gy8iD8ofB1ClxCLPwwbDtiIMY0/J7jWq0hEjz/YpS9M8piQP1Cvynx9cZE/V2Eb/2o/kj+Eoeqtg/eSPwPnEGGRmZM/+FVH+xA1lD9epeZrybyUP2ZpB1mfPZU/vHr1L1m1lT8+4W7FjBSWP/iw99f0XZY/fIyQfhZrlj8CeVU0DTuWP3URVAWS1JU/4drqKeJKlT+6SwO7cb2UP7ddGAEzIpQ/\",\"dtype\":\"float64\",\"shape\":[75]},\"y\":{\"__ndarray__\":\"GhExyth1ND/Sv8nbtpRIP2vylNV0PVE/aTum7souWD/At0SJ8fVgPw3Iuahxymc/MSNhhJWvcD/bTfBN02d3P2zb5nxnaoA/CD5h5MAGhz8NmeH1TyaQP+zrCsc9p5Y/LbKd76fGnz/bLW5ISEmmPww9YvTcQq8/JV2OstnstT8Er5Y7M8G+P0c+r3jqkcU/5h99k6ZBzj88bCIzFzjVP4enV8oyxN0//yH99nXg5D8qOpLLf0jtP5kqGJXUifQ/c9cS8kHP/D+/DpwzojQEQIEmwoanVwxA4lgXt9HgE0BSSZ2AJuIbQAMJih9jjiNA5q4l5INuK0AwTKYKRj0zQNv5fmq8/DpAaCJseHrtQkB/+zpwzoxKQM3MzMzMeFJAZmZmZmZqWEAAAAAAAFxeQM3MzMzMJmJAmpmZmZkfZUBmZmZmZhhoQDMzMzMzEWtAAAAAAAAKbkBmZmZmZoFwQM3MzMzM/XFAMzMzMzN6c0CamZmZmfZ0QAAAAAAAc3ZAZmZmZmbvd0DNzMzMzGt5QDMzMzMz6HpAmpmZmZlkfEAAAAAAAOF9QGZmZmZmXX9AZmZmZuZsgECamZmZGSuBQM3MzMxM6YFAAAAAAICngkAzMzMzs2WDQGZmZmbmI4RAmpmZmRnihEDNzMzMTKCFQAAAAACAXoZAMzMzM7Mch0BmZmZm5tqHQJqZmZkZmYhAzczMzExXiUAAAAAAgBWKQDMzMzOz04pAZmZmZuaRi0CamZmZGVCMQM3MzMxMDo1AAAAAAIDMjUAzMzMzs4qOQGZmZmbmSI9A\",\"dtype\":\"float64\",\"shape\":[75]}}},\"id\":\"6e3987bc-55cb-42ae-922e-0df4c21d9022\",\"type\":\"ColumnDataSource\"},{\"attributes\":{\"line_alpha\":0.1,\"line_color\":\"#1f77b4\",\"line_width\":1.5,\"x\":{\"field\":\"x\"},\"y\":{\"field\":\"y\"}},\"id\":\"30a283c8-28f0-4ab1-a6c4-0f343ff12076\",\"type\":\"Line\"},{\"attributes\":{\"data_source\":{\"id\":\"ba3dbaec-05f3-467f-b441-2e06cfb5b281\",\"type\":\"ColumnDataSource\"},\"glyph\":{\"id\":\"0cea256d-576c-4c7e-827d-3f82043171d9\",\"type\":\"Line\"},\"hover_glyph\":null,\"muted_glyph\":null,\"nonselection_glyph\":{\"id\":\"d4109268-dbc7-457a-b827-f35365040175\",\"type\":\"Line\"},\"selection_glyph\":null,\"view\":{\"id\":\"b088117c-8cfc-4c65-a8c8-b6c1e0e7cb85\",\"type\":\"CDSView\"}},\"id\":\"73c15dd8-55bb-47ef-a97b-fa008b448c44\",\"type\":\"GlyphRenderer\"},{\"attributes\":{\"callback\":null,\"column_names\":[\"x\",\"y\"],\"data\":{\"x\":{\"__ndarray__\":\"fCeyS17hhD9kDF2dJNyGP1qoHjHG/Io/U4fQmZhUjz+bdaqiluuRP5Pp6YYaQ5Q/t16/n5uvlj83pm4BfS+ZP58X56Izxps/5IgxwHB0nj/Rl+O3Fp2gP2MTXFaoCKI/ivbCrjd7oz/SOfM2LMmkP3AnArYyyqU/Xq0fCoKhpj+xhlujvXinP6doVPy5Sqg/mabuG3YXqT+LsbHqKt+pP2LkpLFvh6o/R7L4YUWMqT88e+V83HemP9dc2BR07aI/bxisCJxEnz+UdkcfIzuZP3kCXO6ezJM/uwlWhoUbjz+bNfyXOZeJP4B3s4VuloU/n1CeZVUFgj/2dA0tDaB9PxdwpnR2U3o/Bk6jeVofej9p3dCd6sx5PzexLtCol3g/8gjstRKWdj+dcqwaYoZzP3TsCPZLA3A/q8cJDEOvaT8VMgDh9tVjP5T/PFrLjlw/VTbkCmyoUT+FX6oVxo86P7Z8Ovs5ySm/AHs1Xvg2GL+yD/HZ+mVQPzj+zjInAWQ/mDrgYz1obz/sv7CuISd1P8uGERjtZXo/SMzxY7N3fz8H0lWb9y+CPxP4tqV9j4Q/8B9Up9jYhj/cQooT9QiJP5flZ/pXHIs/bY1r8HwOjT/da+V+t9uOP6Jz6SXnQJA/4qamJ6P/kD934yshIqyRP+7OIUOjSJI/WybNY/DXkj/gI0T0yVyTPwx/fsYi2ZM/z9jPFptMlD/MafFXOLGUPwPh5xjA9pQ/mPeEYcoElT/2xuN+lMyUP34f7QO5WZQ/OC9vip7Gkz8PsK+l4ieTP1EUE5TVhpI/\",\"dtype\":\"float64\",\"shape\":[75]},\"y\":{\"__ndarray__\":\"GhExyth1ND/Sv8nbtpRIP2vylNV0PVE/aTum7souWD/At0SJ8fVgPw3Iuahxymc/MSNhhJWvcD/bTfBN02d3P2zb5nxnaoA/CD5h5MAGhz8NmeH1TyaQP+zrCsc9p5Y/LbKd76fGnz/bLW5ISEmmPww9YvTcQq8/JV2OstnstT8Er5Y7M8G+P0c+r3jqkcU/5h99k6ZBzj88bCIzFzjVP4enV8oyxN0//yH99nXg5D8qOpLLf0jtP5kqGJXUifQ/c9cS8kHP/D+/DpwzojQEQIEmwoanVwxA4lgXt9HgE0BSSZ2AJuIbQAMJih9jjiNA5q4l5INuK0AwTKYKRj0zQNv5fmq8/DpAaCJseHrtQkB/+zpwzoxKQM3MzMzMeFJAZmZmZmZqWEAAAAAAAFxeQM3MzMzMJmJAmpmZmZkfZUBmZmZmZhhoQDMzMzMzEWtAAAAAAAAKbkBmZmZmZoFwQM3MzMzM/XFAMzMzMzN6c0CamZmZmfZ0QAAAAAAAc3ZAZmZmZmbvd0DNzMzMzGt5QDMzMzMz6HpAmpmZmZlkfEAAAAAAAOF9QGZmZmZmXX9AZmZmZuZsgECamZmZGSuBQM3MzMxM6YFAAAAAAICngkAzMzMzs2WDQGZmZmbmI4RAmpmZmRnihEDNzMzMTKCFQAAAAACAXoZAMzMzM7Mch0BmZmZm5tqHQJqZmZkZmYhAzczMzExXiUAAAAAAgBWKQDMzMzOz04pAZmZmZuaRi0CamZmZGVCMQM3MzMxMDo1AAAAAAIDMjUAzMzMzs4qOQGZmZmbmSI9A\",\"dtype\":\"float64\",\"shape\":[75]}}},\"id\":\"64159e02-c525-4f62-b441-6518e1ea0b46\",\"type\":\"ColumnDataSource\"},{\"attributes\":{\"callback\":null,\"column_names\":[\"x\",\"y\"],\"data\":{\"x\":{\"__ndarray__\":\"hJAImorlhj/POUruSKaHPzQ/GCenPow/+OYqIjLIjz/qDVy9QbaRPypSyU+WmZM/v436D9yNlT/JAQ+aypOXP1uWJtqSq5k/zf0zVcDVmz+rXEXSsBCeP4mmrNncLqA/zts7FwReoT9sE5tNT3GiP8En70aTSaM/Q+RhkqsHpD86IlH7vMikPxuOFLUnjaU/WjR0HttTpj8tLhQEHRqnP/b8liTCy6c/mHF7y5otpz9nX5XlzdykPwSlWboxJqI/ZsQKWQsjnz+C7z0pgTeaP0++utkIjJU/3O/UTIyfkT8J7HZlM2GNP/a3UG7laYg/XLETow2Vgz8xkQClCSp+Py2Sl7F4HHg/vlZkYTgxdT+nWbd5lxZzP609m/XjX3E/rLIQUKrMbz9KGSZPKO9rPxPjZsQGfGc/LSShayZxYz9xRdvaBlpfP0o000UbI1g/Fw1BoD8lUT8zy9r5CaZEP5xUaC5wuzM/q/Baw+oXQj+YL1M9lzVaP3GATRh8Omg/+oxtVfeocT+0Wf4GKRR3P4xCCIxZXXw/wC4PxeDCgD9VZ4fRUkaDP1U3K2PCtoU/CCnYfOUMiD92FT6aa0qKP7Zp96GOa4w/vTkLZD5sjj8ZEdYQZiSQPzE2d2vO/pA/4jVUMTrFkT+a07Z4sHmSP54OJ9qcHZM/q3TxYz6zkz8hyT9CszyUP/Q6cjxQu5Q/zWsQ2UwtlT9yh9Gcio6VP8TbOYN10pU/Wn5zjiDmlT+Unm1ear6VP3ZDWjDfZJU/WT4PEd7ulD/OSspFy22UP880a2096pM/\",\"dtype\":\"float64\",\"shape\":[75]},\"y\":{\"__ndarray__\":\"S/O/Q+51ND/Sv8nbtpRIP2vylNV0PVE/aTum7souWD/At0SJ8fVgPw3Iuahxymc/MSNhhJWvcD/bTfBN02d3P2zb5nxnaoA/CD5h5MAGhz8NmeH1TyaQP+zrCsc9p5Y/LbKd76fGnz/bLW5ISEmmPww9YvTcQq8/JV2OstnstT8Er5Y7M8G+P0c+r3jqkcU/5h99k6ZBzj88bCIzFzjVP4enV8oyxN0//yH99nXg5D8qOpLLf0jtP5kqGJXUifQ/c9cS8kHP/D+/DpwzojQEQIEmwoanVwxA4lgXt9HgE0BSSZ2AJuIbQAMJih9jjiNA5q4l5INuK0AwTKYKRj0zQNv5fmq8/DpAaCJseHrtQkB/+zpwzoxKQM3MzMzMeFJAZmZmZmZqWEAAAAAAAFxeQM3MzMzMJmJAmpmZmZkfZUBmZmZmZhhoQDMzMzMzEWtAAAAAAAAKbkBmZmZmZoFwQM3MzMzM/XFAMzMzMzN6c0CamZmZmfZ0QAAAAAAAc3ZAZmZmZmbvd0DNzMzMzGt5QDMzMzMz6HpAmpmZmZlkfEAAAAAAAOF9QGZmZmZmXX9AZmZmZuZsgECamZmZGSuBQM3MzMxM6YFAAAAAAICngkAzMzMzs2WDQGZmZmbmI4RAmpmZmRnihEDNzMzMTKCFQAAAAACAXoZAMzMzM7Mch0BmZmZm5tqHQJqZmZkZmYhAzczMzExXiUAAAAAAgBWKQDMzMzOz04pAZmZmZuaRi0CamZmZGVCMQM3MzMxMDo1AAAAAAIDMjUAzMzMzs4qOQGZmZmbmSI9A\",\"dtype\":\"float64\",\"shape\":[75]}}},\"id\":\"3cc22dee-5a17-4444-8a55-83fd55c83a4c\",\"type\":\"ColumnDataSource\"},{\"attributes\":{\"data_source\":{\"id\":\"0a6caeb2-8c68-477d-8346-02425efff97f\",\"type\":\"ColumnDataSource\"},\"glyph\":{\"id\":\"b8ef39bb-271b-411e-9dc6-f1c6df767119\",\"type\":\"Circle\"},\"hover_glyph\":null,\"muted_glyph\":null,\"nonselection_glyph\":{\"id\":\"3f344f99-0dcf-46ca-b668-3941e251c0c1\",\"type\":\"Circle\"},\"selection_glyph\":null,\"view\":{\"id\":\"85b5660a-ca33-4276-b696-ef781672cd80\",\"type\":\"CDSView\"}},\"id\":\"a1606597-78e2-427b-83e0-c651588da53d\",\"type\":\"GlyphRenderer\"},{\"attributes\":{\"fill_alpha\":{\"value\":0.1},\"fill_color\":{\"value\":\"#1f77b4\"},\"line_alpha\":{\"value\":0.1},\"line_color\":{\"value\":\"#1f77b4\"},\"x\":{\"field\":\"x\"},\"y\":{\"field\":\"y\"}},\"id\":\"3f344f99-0dcf-46ca-b668-3941e251c0c1\",\"type\":\"Circle\"},{\"attributes\":{\"toolbar\":{\"id\":\"aae54a1b-3fe7-4eed-ba6d-4f107806bfbe\",\"type\":\"ProxyToolbar\"},\"toolbar_location\":\"above\"},\"id\":\"072b2972-d910-43cf-8f65-7afcf09b9279\",\"type\":\"ToolbarBox\"},{\"attributes\":{\"children\":[{\"id\":\"eb0e1995-c61f-4056-a542-3e49bb6461a9\",\"type\":\"Row\"}]},\"id\":\"591eb5ea-dbfa-48b7-a69e-c07540e8d029\",\"type\":\"Column\"},{\"attributes\":{\"ticker\":null},\"id\":\"eefe5db5-f96b-4a72-bff8-90543585d170\",\"type\":\"LogTickFormatter\"},{\"attributes\":{\"callback\":null,\"end\":0.01,\"start\":1020},\"id\":\"e0562f6d-0e31-431c-aaf2-36bd330cbdda\",\"type\":\"Range1d\"},{\"attributes\":{\"callback\":null,\"column_names\":[\"x\",\"y\"],\"data\":{\"x\":{\"__ndarray__\":\"fCeyS17hhD9kDF2dJNyGP1qoHjHG/Io/U4fQmZhUjz+bdaqiluuRP5Pp6YYaQ5Q/t16/n5uvlj83pm4BfS+ZP58X56Izxps/5IgxwHB0nj/Rl+O3Fp2gP2MTXFaoCKI/ivbCrjd7oz/SOfM2LMmkP3AnArYyyqU/Xq0fCoKhpj+xhlujvXinP6doVPy5Sqg/mabuG3YXqT+LsbHqKt+pP2LkpLFvh6o/R7L4YUWMqT88e+V83HemP9dc2BR07aI/bxisCJxEnz+UdkcfIzuZP3kCXO6ezJM/uwlWhoUbjz+bNfyXOZeJP4B3s4VuloU/n1CeZVUFgj/2dA0tDaB9PxdwpnR2U3o/Bk6jeVofej9p3dCd6sx5PzexLtCol3g/8gjstRKWdj+dcqwaYoZzP3TsCPZLA3A/q8cJDEOvaT8VMgDh9tVjP5T/PFrLjlw/VTbkCmyoUT+FX6oVxo86P7Z8Ovs5ySm/AHs1Xvg2GL+yD/HZ+mVQPzj+zjInAWQ/mDrgYz1obz/sv7CuISd1P8uGERjtZXo/SMzxY7N3fz8H0lWb9y+CPxP4tqV9j4Q/8B9Up9jYhj/cQooT9QiJP5flZ/pXHIs/bY1r8HwOjT/da+V+t9uOP6Jz6SXnQJA/4qamJ6P/kD934yshIqyRP+7OIUOjSJI/WybNY/DXkj/gI0T0yVyTPwx/fsYi2ZM/z9jPFptMlD/MafFXOLGUPwPh5xjA9pQ/mPeEYcoElT/2xuN+lMyUP34f7QO5WZQ/OC9vip7Gkz8PsK+l4ieTP1EUE5TVhpI/\",\"dtype\":\"float64\",\"shape\":[75]},\"y\":{\"__ndarray__\":\"GhExyth1ND/Sv8nbtpRIP2vylNV0PVE/aTum7souWD/At0SJ8fVgPw3Iuahxymc/MSNhhJWvcD/bTfBN02d3P2zb5nxnaoA/CD5h5MAGhz8NmeH1TyaQP+zrCsc9p5Y/LbKd76fGnz/bLW5ISEmmPww9YvTcQq8/JV2OstnstT8Er5Y7M8G+P0c+r3jqkcU/5h99k6ZBzj88bCIzFzjVP4enV8oyxN0//yH99nXg5D8qOpLLf0jtP5kqGJXUifQ/c9cS8kHP/D+/DpwzojQEQIEmwoanVwxA4lgXt9HgE0BSSZ2AJuIbQAMJih9jjiNA5q4l5INuK0AwTKYKRj0zQNv5fmq8/DpAaCJseHrtQkB/+zpwzoxKQM3MzMzMeFJAZmZmZmZqWEAAAAAAAFxeQM3MzMzMJmJAmpmZmZkfZUBmZmZmZhhoQDMzMzMzEWtAAAAAAAAKbkBmZmZmZoFwQM3MzMzM/XFAMzMzMzN6c0CamZmZmfZ0QAAAAAAAc3ZAZmZmZmbvd0DNzMzMzGt5QDMzMzMz6HpAmpmZmZlkfEAAAAAAAOF9QGZmZmZmXX9AZmZmZuZsgECamZmZGSuBQM3MzMxM6YFAAAAAAICngkAzMzMzs2WDQGZmZmbmI4RAmpmZmRnihEDNzMzMTKCFQAAAAACAXoZAMzMzM7Mch0BmZmZm5tqHQJqZmZkZmYhAzczMzExXiUAAAAAAgBWKQDMzMzOz04pAZmZmZuaRi0CamZmZGVCMQM3MzMxMDo1AAAAAAIDMjUAzMzMzs4qOQGZmZmbmSI9A\",\"dtype\":\"float64\",\"shape\":[75]}}},\"id\":\"0a6caeb2-8c68-477d-8346-02425efff97f\",\"type\":\"ColumnDataSource\"},{\"attributes\":{\"callback\":null,\"column_names\":[\"x\",\"y\"],\"data\":{\"x\":{\"__ndarray__\":\"hJAImorlhj/POUruSKaHPzQ/GCenPow/+OYqIjLIjz/qDVy9QbaRPypSyU+WmZM/v436D9yNlT/JAQ+aypOXP1uWJtqSq5k/zf0zVcDVmz+rXEXSsBCeP4mmrNncLqA/zts7FwReoT9sE5tNT3GiP8En70aTSaM/Q+RhkqsHpD86IlH7vMikPxuOFLUnjaU/WjR0HttTpj8tLhQEHRqnP/b8liTCy6c/mHF7y5otpz9nX5XlzdykPwSlWboxJqI/ZsQKWQsjnz+C7z0pgTeaP0++utkIjJU/3O/UTIyfkT8J7HZlM2GNP/a3UG7laYg/XLETow2Vgz8xkQClCSp+Py2Sl7F4HHg/vlZkYTgxdT+nWbd5lxZzP609m/XjX3E/rLIQUKrMbz9KGSZPKO9rPxPjZsQGfGc/LSShayZxYz9xRdvaBlpfP0o000UbI1g/Fw1BoD8lUT8zy9r5CaZEP5xUaC5wuzM/q/Baw+oXQj+YL1M9lzVaP3GATRh8Omg/+oxtVfeocT+0Wf4GKRR3P4xCCIxZXXw/wC4PxeDCgD9VZ4fRUkaDP1U3K2PCtoU/CCnYfOUMiD92FT6aa0qKP7Zp96GOa4w/vTkLZD5sjj8ZEdYQZiSQPzE2d2vO/pA/4jVUMTrFkT+a07Z4sHmSP54OJ9qcHZM/q3TxYz6zkz8hyT9CszyUP/Q6cjxQu5Q/zWsQ2UwtlT9yh9Gcio6VP8TbOYN10pU/Wn5zjiDmlT+Unm1ear6VP3ZDWjDfZJU/WT4PEd7ulD/OSspFy22UP880a2096pM/\",\"dtype\":\"float64\",\"shape\":[75]},\"y\":{\"__ndarray__\":\"S/O/Q+51ND/Sv8nbtpRIP2vylNV0PVE/aTum7souWD/At0SJ8fVgPw3Iuahxymc/MSNhhJWvcD/bTfBN02d3P2zb5nxnaoA/CD5h5MAGhz8NmeH1TyaQP+zrCsc9p5Y/LbKd76fGnz/bLW5ISEmmPww9YvTcQq8/JV2OstnstT8Er5Y7M8G+P0c+r3jqkcU/5h99k6ZBzj88bCIzFzjVP4enV8oyxN0//yH99nXg5D8qOpLLf0jtP5kqGJXUifQ/c9cS8kHP/D+/DpwzojQEQIEmwoanVwxA4lgXt9HgE0BSSZ2AJuIbQAMJih9jjiNA5q4l5INuK0AwTKYKRj0zQNv5fmq8/DpAaCJseHrtQkB/+zpwzoxKQM3MzMzMeFJAZmZmZmZqWEAAAAAAAFxeQM3MzMzMJmJAmpmZmZkfZUBmZmZmZhhoQDMzMzMzEWtAAAAAAAAKbkBmZmZmZoFwQM3MzMzM/XFAMzMzMzN6c0CamZmZmfZ0QAAAAAAAc3ZAZmZmZmbvd0DNzMzMzGt5QDMzMzMz6HpAmpmZmZlkfEAAAAAAAOF9QGZmZmZmXX9AZmZmZuZsgECamZmZGSuBQM3MzMxM6YFAAAAAAICngkAzMzMzs2WDQGZmZmbmI4RAmpmZmRnihEDNzMzMTKCFQAAAAACAXoZAMzMzM7Mch0BmZmZm5tqHQJqZmZkZmYhAzczMzExXiUAAAAAAgBWKQDMzMzOz04pAZmZmZuaRi0CamZmZGVCMQM3MzMxMDo1AAAAAAIDMjUAzMzMzs4qOQGZmZmbmSI9A\",\"dtype\":\"float64\",\"shape\":[75]}}},\"id\":\"ba3dbaec-05f3-467f-b441-2e06cfb5b281\",\"type\":\"ColumnDataSource\"},{\"attributes\":{\"source\":{\"id\":\"0a6caeb2-8c68-477d-8346-02425efff97f\",\"type\":\"ColumnDataSource\"}},\"id\":\"85b5660a-ca33-4276-b696-ef781672cd80\",\"type\":\"CDSView\"},{\"attributes\":{\"line_color\":\"#4daf4a\",\"line_width\":1.5,\"x\":{\"field\":\"x\"},\"y\":{\"field\":\"y\"}},\"id\":\"42e29262-99c4-4bbf-b195-3c8adea890aa\",\"type\":\"Line\"},{\"attributes\":{\"callback\":null,\"column_names\":[\"x\",\"y\"],\"data\":{\"x\":{\"__ndarray__\":\"fCeyS17hhD9kDF2dJNyGP1qoHjHG/Io/U4fQmZhUjz+bdaqiluuRP5Pp6YYaQ5Q/t16/n5uvlj83pm4BfS+ZP58X56Izxps/5IgxwHB0nj/Rl+O3Fp2gP2MTXFaoCKI/ivbCrjd7oz/SOfM2LMmkP3AnArYyyqU/Xq0fCoKhpj+xhlujvXinP6doVPy5Sqg/mabuG3YXqT+LsbHqKt+pP2LkpLFvh6o/R7L4YUWMqT88e+V83HemP9dc2BR07aI/bxisCJxEnz+UdkcfIzuZP3kCXO6ezJM/uwlWhoUbjz+bNfyXOZeJP4B3s4VuloU/n1CeZVUFgj/2dA0tDaB9PxdwpnR2U3o/Bk6jeVofej9p3dCd6sx5PzexLtCol3g/8gjstRKWdj+dcqwaYoZzP3TsCPZLA3A/q8cJDEOvaT8VMgDh9tVjP5T/PFrLjlw/VTbkCmyoUT+FX6oVxo86P7Z8Ovs5ySm/AHs1Xvg2GL+yD/HZ+mVQPzj+zjInAWQ/mDrgYz1obz/sv7CuISd1P8uGERjtZXo/SMzxY7N3fz8H0lWb9y+CPxP4tqV9j4Q/8B9Up9jYhj/cQooT9QiJP5flZ/pXHIs/bY1r8HwOjT/da+V+t9uOP6Jz6SXnQJA/4qamJ6P/kD934yshIqyRP+7OIUOjSJI/WybNY/DXkj/gI0T0yVyTPwx/fsYi2ZM/z9jPFptMlD/MafFXOLGUPwPh5xjA9pQ/mPeEYcoElT/2xuN+lMyUP34f7QO5WZQ/OC9vip7Gkz8PsK+l4ieTP1EUE5TVhpI/\",\"dtype\":\"float64\",\"shape\":[75]},\"y\":{\"__ndarray__\":\"GhExyth1ND/Sv8nbtpRIP2vylNV0PVE/aTum7souWD/At0SJ8fVgPw3Iuahxymc/MSNhhJWvcD/bTfBN02d3P2zb5nxnaoA/CD5h5MAGhz8NmeH1TyaQP+zrCsc9p5Y/LbKd76fGnz/bLW5ISEmmPww9YvTcQq8/JV2OstnstT8Er5Y7M8G+P0c+r3jqkcU/5h99k6ZBzj88bCIzFzjVP4enV8oyxN0//yH99nXg5D8qOpLLf0jtP5kqGJXUifQ/c9cS8kHP/D+/DpwzojQEQIEmwoanVwxA4lgXt9HgE0BSSZ2AJuIbQAMJih9jjiNA5q4l5INuK0AwTKYKRj0zQNv5fmq8/DpAaCJseHrtQkB/+zpwzoxKQM3MzMzMeFJAZmZmZmZqWEAAAAAAAFxeQM3MzMzMJmJAmpmZmZkfZUBmZmZmZhhoQDMzMzMzEWtAAAAAAAAKbkBmZmZmZoFwQM3MzMzM/XFAMzMzMzN6c0CamZmZmfZ0QAAAAAAAc3ZAZmZmZmbvd0DNzMzMzGt5QDMzMzMz6HpAmpmZmZlkfEAAAAAAAOF9QGZmZmZmXX9AZmZmZuZsgECamZmZGSuBQM3MzMxM6YFAAAAAAICngkAzMzMzs2WDQGZmZmbmI4RAmpmZmRnihEDNzMzMTKCFQAAAAACAXoZAMzMzM7Mch0BmZmZm5tqHQJqZmZkZmYhAzczMzExXiUAAAAAAgBWKQDMzMzOz04pAZmZmZuaRi0CamZmZGVCMQM3MzMxMDo1AAAAAAIDMjUAzMzMzs4qOQGZmZmbmSI9A\",\"dtype\":\"float64\",\"shape\":[75]}}},\"id\":\"b7403f0a-1f29-4912-b270-1a5a0fd123bb\",\"type\":\"ColumnDataSource\"},{\"attributes\":{\"axis_label\":\"pressure [mb]\",\"formatter\":{\"id\":\"fcc33318-e302-411b-b776-395f849c2aa3\",\"type\":\"BasicTickFormatter\"},\"plot\":{\"id\":\"1990413e-9ed5-4f20-98e8-beb1c0fe1772\",\"subtype\":\"Figure\",\"type\":\"Plot\"},\"ticker\":{\"id\":\"74bbde87-7f21-4998-a32e-03fdde1ad4ce\",\"type\":\"BasicTicker\"}},\"id\":\"d6d13ea9-32fe-40e4-a291-2aaf92687909\",\"type\":\"LinearAxis\"},{\"attributes\":{\"line_color\":\"#4daf4a\",\"line_width\":1.5,\"x\":{\"field\":\"x\"},\"y\":{\"field\":\"y\"}},\"id\":\"61dddbc0-a36b-448f-b084-a09ec726c040\",\"type\":\"Line\"},{\"attributes\":{},\"id\":\"ade5091e-f83b-45d6-a62c-2540b81fbdaf\",\"type\":\"SaveTool\"},{\"attributes\":{\"callback\":null,\"column_names\":[\"x\",\"y\"],\"data\":{\"x\":{\"__ndarray__\":\"UQkn6sT8iD/3SHcQjsGKP6XYMX/mbo4/0DpDdLEmkT9+VtSUDSmTP4ppmVvkPpU/5r9kgF5nlz8m+TLgB6GZP5gxiJSo7ps/0EsFOphQnj/sG9o30WOgP7epX63DqaE/5faK4bz4oj9ltngWxCmkP269zxTOGqU/l0F1GxzupT+t3TfeycOmP6rX9vFioqc/piLloo2CqD8aS1SHzkapP6zqVOnZBao/fj4McktNqT+sRgfc8bSmP+Iadggmp6M/NcetZeC6oD9K1WCGnuybPw0Vl1h7s5Y/lkuG95tMkj909PZddhGOP0sFIiAVn4g/VIZ78hp+gz//Wucfdrx9P2FQAubf4Xc//5qOeWG0dT93cjzKrWt0P6C2bRzFb3M/h2KXrNFbcj/qbAlqcn5wP1y9JyCsRmw/A6NyD5bZZz8Xo0yzMnZjP1G60tAgP14/6LptLs3NVT/ES5Y8bcNKP9C0ggbLFDk/+8OHPD+RQj+AX6Dz6dFaPyY2A1Y9FWk/ZL/ZyodScj/V78nJhdp3P2ou1vXRP30/sTJgqSNJgT+4ApZVwt6DP24RdTf4T4Y/9BR8+gy8iD8ofB1ClxCLPwwbDtiIMY0/J7jWq0hEjz/YpS9M8piQP1Cvynx9cZE/V2Eb/2o/kj+Eoeqtg/eSPwPnEGGRmZM/+FVH+xA1lD9epeZrybyUP2ZpB1mfPZU/vHr1L1m1lT8+4W7FjBSWP/iw99f0XZY/fIyQfhZrlj8CeVU0DTuWP3URVAWS1JU/4drqKeJKlT+6SwO7cb2UP7ddGAEzIpQ/\",\"dtype\":\"float64\",\"shape\":[75]},\"y\":{\"__ndarray__\":\"GhExyth1ND/Sv8nbtpRIP2vylNV0PVE/aTum7souWD/At0SJ8fVgPw3Iuahxymc/MSNhhJWvcD/bTfBN02d3P2zb5nxnaoA/CD5h5MAGhz8NmeH1TyaQP+zrCsc9p5Y/LbKd76fGnz/bLW5ISEmmPww9YvTcQq8/JV2OstnstT8Er5Y7M8G+P0c+r3jqkcU/5h99k6ZBzj88bCIzFzjVP4enV8oyxN0//yH99nXg5D8qOpLLf0jtP5kqGJXUifQ/c9cS8kHP/D+/DpwzojQEQIEmwoanVwxA4lgXt9HgE0BSSZ2AJuIbQAMJih9jjiNA5q4l5INuK0AwTKYKRj0zQNv5fmq8/DpAaCJseHrtQkB/+zpwzoxKQM3MzMzMeFJAZmZmZmZqWEAAAAAAAFxeQM3MzMzMJmJAmpmZmZkfZUBmZmZmZhhoQDMzMzMzEWtAAAAAAAAKbkBmZmZmZoFwQM3MzMzM/XFAMzMzMzN6c0CamZmZmfZ0QAAAAAAAc3ZAZmZmZmbvd0DNzMzMzGt5QDMzMzMz6HpAmpmZmZlkfEAAAAAAAOF9QGZmZmZmXX9AZmZmZuZsgECamZmZGSuBQM3MzMxM6YFAAAAAAICngkAzMzMzs2WDQGZmZmbmI4RAmpmZmRnihEDNzMzMTKCFQAAAAACAXoZAMzMzM7Mch0BmZmZm5tqHQJqZmZkZmYhAzczMzExXiUAAAAAAgBWKQDMzMzOz04pAZmZmZuaRi0CamZmZGVCMQM3MzMxMDo1AAAAAAIDMjUAzMzMzs4qOQGZmZmbmSI9A\",\"dtype\":\"float64\",\"shape\":[75]}}},\"id\":\"1fac8dd2-c4f1-4357-84a7-83354ca03f21\",\"type\":\"ColumnDataSource\"},{\"attributes\":{\"line_alpha\":0.1,\"line_color\":\"#1f77b4\",\"line_width\":1.5,\"x\":{\"field\":\"x\"},\"y\":{\"field\":\"y\"}},\"id\":\"6c480ef9-3f3d-40b7-9c63-923be1e75f7d\",\"type\":\"Line\"},{\"attributes\":{},\"id\":\"df54ffe4-8beb-447a-94be-d89ff6f1630e\",\"type\":\"ResetTool\"},{\"attributes\":{\"data_source\":{\"id\":\"b7403f0a-1f29-4912-b270-1a5a0fd123bb\",\"type\":\"ColumnDataSource\"},\"glyph\":{\"id\":\"61dddbc0-a36b-448f-b084-a09ec726c040\",\"type\":\"Line\"},\"hover_glyph\":null,\"muted_glyph\":null,\"nonselection_glyph\":{\"id\":\"6c480ef9-3f3d-40b7-9c63-923be1e75f7d\",\"type\":\"Line\"},\"selection_glyph\":null,\"view\":{\"id\":\"e32b137a-ffc0-4f52-b0de-bf943050f9c3\",\"type\":\"CDSView\"}},\"id\":\"2ddd8c16-2d8b-4412-9344-39e55b508305\",\"type\":\"GlyphRenderer\"},{\"attributes\":{},\"id\":\"baf68c14-ea4d-442e-96a9-1fc635920f88\",\"type\":\"BasicTicker\"},{\"attributes\":{},\"id\":\"7c68546f-4eb6-445a-8443-a194b9bf4faa\",\"type\":\"BasicTickFormatter\"},{\"attributes\":{\"source\":{\"id\":\"b7403f0a-1f29-4912-b270-1a5a0fd123bb\",\"type\":\"ColumnDataSource\"}},\"id\":\"e32b137a-ffc0-4f52-b0de-bf943050f9c3\",\"type\":\"CDSView\"},{\"attributes\":{\"fill_alpha\":{\"value\":0.7},\"fill_color\":{\"value\":\"#984ea3\"},\"line_alpha\":{\"value\":0.7},\"line_color\":{\"value\":\"#984ea3\"},\"x\":{\"field\":\"x\"},\"y\":{\"field\":\"y\"}},\"id\":\"d9c4ac10-5881-4513-a55e-b53d2b916322\",\"type\":\"Square\"},{\"attributes\":{\"below\":[{\"id\":\"272c60f6-495e-47ce-8ed4-ce40b4da5d39\",\"type\":\"LinearAxis\"}],\"left\":[{\"id\":\"d6d13ea9-32fe-40e4-a291-2aaf92687909\",\"type\":\"LinearAxis\"}],\"plot_height\":500,\"plot_width\":400,\"renderers\":[{\"id\":\"272c60f6-495e-47ce-8ed4-ce40b4da5d39\",\"type\":\"LinearAxis\"},{\"id\":\"c140d035-11bd-492c-bb3c-fe424d251f5d\",\"type\":\"Grid\"},{\"id\":\"d6d13ea9-32fe-40e4-a291-2aaf92687909\",\"type\":\"LinearAxis\"},{\"id\":\"97b27ea9-c0cb-4446-9fbd-567b360d4cb6\",\"type\":\"Grid\"},{\"id\":\"6a0c5af9-85d4-4d46-b599-29180f817415\",\"type\":\"BoxAnnotation\"},{\"id\":\"73c15dd8-55bb-47ef-a97b-fa008b448c44\",\"type\":\"GlyphRenderer\"},{\"id\":\"8c8b10b2-e6fe-431b-aeea-0aae97d377a2\",\"type\":\"GlyphRenderer\"},{\"id\":\"74d79cca-2fe8-499e-96f0-a2873cc909c2\",\"type\":\"GlyphRenderer\"},{\"id\":\"c07576ac-2e4e-46f9-9cdc-365433aed882\",\"type\":\"GlyphRenderer\"},{\"id\":\"6d54bac5-368b-421b-b0cd-2f4ef0d520e8\",\"type\":\"GlyphRenderer\"}],\"title\":{\"id\":\"d4dc861c-0703-4d83-a9d7-23a9d3182569\",\"type\":\"Title\"},\"toolbar\":{\"id\":\"8d4ae98e-79f1-4cfc-bc4f-23b6fdca6e27\",\"type\":\"Toolbar\"},\"toolbar_location\":null,\"x_range\":{\"id\":\"b6b6fd0c-ad4d-4aca-b1f8-32cc10bc4859\",\"type\":\"Range1d\"},\"x_scale\":{\"id\":\"71d932b8-1078-4ac0-81be-2bf549d5e417\",\"type\":\"LinearScale\"},\"y_range\":{\"id\":\"e0562f6d-0e31-431c-aaf2-36bd330cbdda\",\"type\":\"Range1d\"},\"y_scale\":{\"id\":\"7448e0a0-ed7c-4f55-a855-deca9ce9d636\",\"type\":\"LinearScale\"}},\"id\":\"1990413e-9ed5-4f20-98e8-beb1c0fe1772\",\"subtype\":\"Figure\",\"type\":\"Plot\"},{\"attributes\":{\"callback\":null,\"end\":0.052313556931,\"start\":0.0014145439690000003},\"id\":\"8c5ce404-8e27-4d37-b6e8-7cbe8625e8b4\",\"type\":\"Range1d\"},{\"attributes\":{\"plot\":{\"id\":\"1990413e-9ed5-4f20-98e8-beb1c0fe1772\",\"subtype\":\"Figure\",\"type\":\"Plot\"},\"ticker\":{\"id\":\"baf68c14-ea4d-442e-96a9-1fc635920f88\",\"type\":\"BasicTicker\"}},\"id\":\"c140d035-11bd-492c-bb3c-fe424d251f5d\",\"type\":\"Grid\"},{\"attributes\":{\"source\":{\"id\":\"6e3987bc-55cb-42ae-922e-0df4c21d9022\",\"type\":\"ColumnDataSource\"}},\"id\":\"0174c10e-f37a-4bf7-9c17-4805361ef772\",\"type\":\"CDSView\"},{\"attributes\":{\"line_alpha\":0.6,\"line_color\":\"#984ea3\",\"line_width\":3,\"x\":{\"field\":\"x\"},\"y\":{\"field\":\"y\"}},\"id\":\"bd10670c-3eae-4377-b832-f0ba2212df78\",\"type\":\"Line\"},{\"attributes\":{\"fill_alpha\":{\"value\":0.1},\"fill_color\":{\"value\":\"#1f77b4\"},\"line_alpha\":{\"value\":0.1},\"line_color\":{\"value\":\"#1f77b4\"},\"x\":{\"field\":\"x\"},\"y\":{\"field\":\"y\"}},\"id\":\"fbcd2f12-b561-4d1f-b567-bc21af677a24\",\"type\":\"Square\"},{\"attributes\":{\"axis_label\":\"cooling rate [K/day]\",\"formatter\":{\"id\":\"7c68546f-4eb6-445a-8443-a194b9bf4faa\",\"type\":\"BasicTickFormatter\"},\"plot\":{\"id\":\"1990413e-9ed5-4f20-98e8-beb1c0fe1772\",\"subtype\":\"Figure\",\"type\":\"Plot\"},\"ticker\":{\"id\":\"baf68c14-ea4d-442e-96a9-1fc635920f88\",\"type\":\"BasicTicker\"}},\"id\":\"272c60f6-495e-47ce-8ed4-ce40b4da5d39\",\"type\":\"LinearAxis\"},{\"attributes\":{\"data_source\":{\"id\":\"6e3987bc-55cb-42ae-922e-0df4c21d9022\",\"type\":\"ColumnDataSource\"},\"glyph\":{\"id\":\"d9c4ac10-5881-4513-a55e-b53d2b916322\",\"type\":\"Square\"},\"hover_glyph\":null,\"muted_glyph\":null,\"nonselection_glyph\":{\"id\":\"fbcd2f12-b561-4d1f-b567-bc21af677a24\",\"type\":\"Square\"},\"selection_glyph\":null,\"view\":{\"id\":\"0174c10e-f37a-4bf7-9c17-4805361ef772\",\"type\":\"CDSView\"}},\"id\":\"4a81609d-be04-43b1-aa35-83cb95378db7\",\"type\":\"GlyphRenderer\"},{\"attributes\":{\"source\":{\"id\":\"1fac8dd2-c4f1-4357-84a7-83354ca03f21\",\"type\":\"ColumnDataSource\"}},\"id\":\"575fac86-67d4-4eae-854e-76fc7a1dd015\",\"type\":\"CDSView\"},{\"attributes\":{\"items\":[{\"id\":\"0d0e6697-7580-4433-9b0c-5b5178760083\",\"type\":\"LegendItem\"},{\"id\":\"38c27f35-bca1-448e-91ff-2f77abd14513\",\"type\":\"LegendItem\"},{\"id\":\"3018581f-464e-4fee-acde-e03068145fef\",\"type\":\"LegendItem\"}],\"label_text_font_size\":{\"value\":\"8pt\"},\"location\":[10,-30],\"plot\":{\"id\":\"50211b2a-f937-44c6-8d3c-652a062a4e35\",\"subtype\":\"Figure\",\"type\":\"Plot\"}},\"id\":\"e035587e-bb60-4bf1-ad5a-c336c948a63b\",\"type\":\"Legend\"},{\"attributes\":{\"bottom_units\":\"screen\",\"fill_alpha\":{\"value\":0.5},\"fill_color\":{\"value\":\"lightgrey\"},\"left_units\":\"screen\",\"level\":\"overlay\",\"line_alpha\":{\"value\":1.0},\"line_color\":{\"value\":\"black\"},\"line_dash\":[4,4],\"line_width\":{\"value\":2},\"plot\":null,\"render_mode\":\"css\",\"right_units\":\"screen\",\"top_units\":\"screen\"},\"id\":\"6a0c5af9-85d4-4d46-b599-29180f817415\",\"type\":\"BoxAnnotation\"},{\"attributes\":{\"label\":{\"value\":\"CLIRAD `coolr_bands`\"},\"renderers\":[{\"id\":\"9090cc8a-4224-41d1-aa18-d433e6257a2b\",\"type\":\"GlyphRenderer\"}]},\"id\":\"0d0e6697-7580-4433-9b0c-5b5178760083\",\"type\":\"LegendItem\"},{\"attributes\":{\"line_alpha\":0.1,\"line_color\":\"#1f77b4\",\"line_width\":3,\"x\":{\"field\":\"x\"},\"y\":{\"field\":\"y\"}},\"id\":\"0746125d-0ba0-461c-8bc0-3bf45d9391f2\",\"type\":\"Line\"},{\"attributes\":{\"data_source\":{\"id\":\"1fac8dd2-c4f1-4357-84a7-83354ca03f21\",\"type\":\"ColumnDataSource\"},\"glyph\":{\"id\":\"bd10670c-3eae-4377-b832-f0ba2212df78\",\"type\":\"Line\"},\"hover_glyph\":null,\"muted_glyph\":null,\"nonselection_glyph\":{\"id\":\"0746125d-0ba0-461c-8bc0-3bf45d9391f2\",\"type\":\"Line\"},\"selection_glyph\":null,\"view\":{\"id\":\"575fac86-67d4-4eae-854e-76fc7a1dd015\",\"type\":\"CDSView\"}},\"id\":\"1c772ce0-5446-4ab3-ba96-5fbe9e118262\",\"type\":\"GlyphRenderer\"},{\"attributes\":{\"source\":{\"id\":\"9a114118-ecb6-42e3-9e44-52ea54fcd5d2\",\"type\":\"ColumnDataSource\"}},\"id\":\"6d74ca9b-bfad-40f3-b222-95ca40393979\",\"type\":\"CDSView\"},{\"attributes\":{\"children\":[{\"id\":\"1990413e-9ed5-4f20-98e8-beb1c0fe1772\",\"subtype\":\"Figure\",\"type\":\"Plot\"},{\"id\":\"50211b2a-f937-44c6-8d3c-652a062a4e35\",\"subtype\":\"Figure\",\"type\":\"Plot\"}]},\"id\":\"eb0e1995-c61f-4056-a542-3e49bb6461a9\",\"type\":\"Row\"},{\"attributes\":{},\"id\":\"9498c0ac-21d0-4fa1-b874-452bacc0a9a0\",\"type\":\"PanTool\"},{\"attributes\":{\"children\":[{\"id\":\"072b2972-d910-43cf-8f65-7afcf09b9279\",\"type\":\"ToolbarBox\"},{\"id\":\"591eb5ea-dbfa-48b7-a69e-c07540e8d029\",\"type\":\"Column\"}]},\"id\":\"4ddc9b31-97c9-4b87-a162-dd0a2e542d39\",\"type\":\"Column\"},{\"attributes\":{\"tools\":[{\"id\":\"9498c0ac-21d0-4fa1-b874-452bacc0a9a0\",\"type\":\"PanTool\"},{\"id\":\"56268700-2d75-426d-8e5d-2dbc47f65207\",\"type\":\"WheelZoomTool\"},{\"id\":\"5bc406fe-9a82-4f93-b7fa-2bb935b71968\",\"type\":\"BoxZoomTool\"},{\"id\":\"94d15f33-1bfe-4f33-849a-6b35218fa509\",\"type\":\"SaveTool\"},{\"id\":\"bda017a9-5ba7-4676-8a57-227b81b3b8dd\",\"type\":\"ResetTool\"},{\"id\":\"b829c292-ac07-4c0c-a18c-4eb1c15d83ee\",\"type\":\"HelpTool\"},{\"id\":\"0f64f93e-cd42-47d5-9cf2-8b713e4438af\",\"type\":\"PanTool\"},{\"id\":\"bc5a511c-19a3-4b91-b3c2-11452c998a3b\",\"type\":\"WheelZoomTool\"},{\"id\":\"1d99e155-db19-426f-81be-f092c3470563\",\"type\":\"BoxZoomTool\"},{\"id\":\"ade5091e-f83b-45d6-a62c-2540b81fbdaf\",\"type\":\"SaveTool\"},{\"id\":\"df54ffe4-8beb-447a-94be-d89ff6f1630e\",\"type\":\"ResetTool\"},{\"id\":\"9888decb-5fbb-4bc9-9e03-705f6128c7bb\",\"type\":\"HelpTool\"}]},\"id\":\"aae54a1b-3fe7-4eed-ba6d-4f107806bfbe\",\"type\":\"ProxyToolbar\"},{\"attributes\":{\"data_source\":{\"id\":\"64159e02-c525-4f62-b441-6518e1ea0b46\",\"type\":\"ColumnDataSource\"},\"glyph\":{\"id\":\"42e29262-99c4-4bbf-b195-3c8adea890aa\",\"type\":\"Line\"},\"hover_glyph\":null,\"muted_glyph\":null,\"nonselection_glyph\":{\"id\":\"30a283c8-28f0-4ab1-a6c4-0f343ff12076\",\"type\":\"Line\"},\"selection_glyph\":null,\"view\":{\"id\":\"7185bc32-ef8f-4d34-b886-4bef912595d9\",\"type\":\"CDSView\"}},\"id\":\"74d79cca-2fe8-499e-96f0-a2873cc909c2\",\"type\":\"GlyphRenderer\"},{\"attributes\":{\"callback\":null,\"column_names\":[\"x\",\"y\"],\"data\":{\"x\":{\"__ndarray__\":\"fCeyS17hhD9kDF2dJNyGP1qoHjHG/Io/U4fQmZhUjz+bdaqiluuRP5Pp6YYaQ5Q/t16/n5uvlj83pm4BfS+ZP58X56Izxps/5IgxwHB0nj/Rl+O3Fp2gP2MTXFaoCKI/ivbCrjd7oz/SOfM2LMmkP3AnArYyyqU/Xq0fCoKhpj+xhlujvXinP6doVPy5Sqg/mabuG3YXqT+LsbHqKt+pP2LkpLFvh6o/R7L4YUWMqT88e+V83HemP9dc2BR07aI/bxisCJxEnz+UdkcfIzuZP3kCXO6ezJM/uwlWhoUbjz+bNfyXOZeJP4B3s4VuloU/n1CeZVUFgj/2dA0tDaB9PxdwpnR2U3o/Bk6jeVofej9p3dCd6sx5PzexLtCol3g/8gjstRKWdj+dcqwaYoZzP3TsCPZLA3A/q8cJDEOvaT8VMgDh9tVjP5T/PFrLjlw/VTbkCmyoUT+FX6oVxo86P7Z8Ovs5ySm/AHs1Xvg2GL+yD/HZ+mVQPzj+zjInAWQ/mDrgYz1obz/sv7CuISd1P8uGERjtZXo/SMzxY7N3fz8H0lWb9y+CPxP4tqV9j4Q/8B9Up9jYhj/cQooT9QiJP5flZ/pXHIs/bY1r8HwOjT/da+V+t9uOP6Jz6SXnQJA/4qamJ6P/kD934yshIqyRP+7OIUOjSJI/WybNY/DXkj/gI0T0yVyTPwx/fsYi2ZM/z9jPFptMlD/MafFXOLGUPwPh5xjA9pQ/mPeEYcoElT/2xuN+lMyUP34f7QO5WZQ/OC9vip7Gkz8PsK+l4ieTP1EUE5TVhpI/\",\"dtype\":\"float64\",\"shape\":[75]},\"y\":{\"__ndarray__\":\"GhExyth1ND/Sv8nbtpRIP2vylNV0PVE/aTum7souWD/At0SJ8fVgPw3Iuahxymc/MSNhhJWvcD/bTfBN02d3P2zb5nxnaoA/CD5h5MAGhz8NmeH1TyaQP+zrCsc9p5Y/LbKd76fGnz/bLW5ISEmmPww9YvTcQq8/JV2OstnstT8Er5Y7M8G+P0c+r3jqkcU/5h99k6ZBzj88bCIzFzjVP4enV8oyxN0//yH99nXg5D8qOpLLf0jtP5kqGJXUifQ/c9cS8kHP/D+/DpwzojQEQIEmwoanVwxA4lgXt9HgE0BSSZ2AJuIbQAMJih9jjiNA5q4l5INuK0AwTKYKRj0zQNv5fmq8/DpAaCJseHrtQkB/+zpwzoxKQM3MzMzMeFJAZmZmZmZqWEAAAAAAAFxeQM3MzMzMJmJAmpmZmZkfZUBmZmZmZhhoQDMzMzMzEWtAAAAAAAAKbkBmZmZmZoFwQM3MzMzM/XFAMzMzMzN6c0CamZmZmfZ0QAAAAAAAc3ZAZmZmZmbvd0DNzMzMzGt5QDMzMzMz6HpAmpmZmZlkfEAAAAAAAOF9QGZmZmZmXX9AZmZmZuZsgECamZmZGSuBQM3MzMxM6YFAAAAAAICngkAzMzMzs2WDQGZmZmbmI4RAmpmZmRnihEDNzMzMTKCFQAAAAACAXoZAMzMzM7Mch0BmZmZm5tqHQJqZmZkZmYhAzczMzExXiUAAAAAAgBWKQDMzMzOz04pAZmZmZuaRi0CamZmZGVCMQM3MzMxMDo1AAAAAAIDMjUAzMzMzs4qOQGZmZmbmSI9A\",\"dtype\":\"float64\",\"shape\":[75]}}},\"id\":\"9a114118-ecb6-42e3-9e44-52ea54fcd5d2\",\"type\":\"ColumnDataSource\"},{\"attributes\":{},\"id\":\"7448e0a0-ed7c-4f55-a855-deca9ce9d636\",\"type\":\"LinearScale\"},{\"attributes\":{\"plot\":null,\"text\":\"Linear pressure scale\"},\"id\":\"d4dc861c-0703-4d83-a9d7-23a9d3182569\",\"type\":\"Title\"},{\"attributes\":{},\"id\":\"74bbde87-7f21-4998-a32e-03fdde1ad4ce\",\"type\":\"BasicTicker\"},{\"attributes\":{\"dimension\":1,\"plot\":{\"id\":\"1990413e-9ed5-4f20-98e8-beb1c0fe1772\",\"subtype\":\"Figure\",\"type\":\"Plot\"},\"ticker\":{\"id\":\"74bbde87-7f21-4998-a32e-03fdde1ad4ce\",\"type\":\"BasicTicker\"}},\"id\":\"97b27ea9-c0cb-4446-9fbd-567b360d4cb6\",\"type\":\"Grid\"},{\"attributes\":{\"label\":{\"value\":\"WGT igg=10 wgt_flux=2\"},\"renderers\":[{\"id\":\"4a81609d-be04-43b1-aa35-83cb95378db7\",\"type\":\"GlyphRenderer\"},{\"id\":\"1c772ce0-5446-4ab3-ba96-5fbe9e118262\",\"type\":\"GlyphRenderer\"}]},\"id\":\"3018581f-464e-4fee-acde-e03068145fef\",\"type\":\"LegendItem\"},{\"attributes\":{\"overlay\":{\"id\":\"62310193-3230-4789-87e9-62e3c47f0223\",\"type\":\"BoxAnnotation\"}},\"id\":\"1d99e155-db19-426f-81be-f092c3470563\",\"type\":\"BoxZoomTool\"},{\"attributes\":{},\"id\":\"9888decb-5fbb-4bc9-9e03-705f6128c7bb\",\"type\":\"HelpTool\"},{\"attributes\":{\"line_alpha\":0.1,\"line_color\":\"#1f77b4\",\"line_dash\":[6],\"line_width\":5,\"x\":{\"field\":\"x\"},\"y\":{\"field\":\"y\"}},\"id\":\"82924f6a-689e-4d1b-926a-b966ef9d321c\",\"type\":\"Line\"},{\"attributes\":{\"callback\":null,\"end\":0.01,\"start\":1020},\"id\":\"58fbaef7-8104-4793-9787-743859a32171\",\"type\":\"Range1d\"},{\"attributes\":{\"bottom_units\":\"screen\",\"fill_alpha\":{\"value\":0.5},\"fill_color\":{\"value\":\"lightgrey\"},\"left_units\":\"screen\",\"level\":\"overlay\",\"line_alpha\":{\"value\":1.0},\"line_color\":{\"value\":\"black\"},\"line_dash\":[4,4],\"line_width\":{\"value\":2},\"plot\":null,\"render_mode\":\"css\",\"right_units\":\"screen\",\"top_units\":\"screen\"},\"id\":\"62310193-3230-4789-87e9-62e3c47f0223\",\"type\":\"BoxAnnotation\"},{\"attributes\":{},\"id\":\"56268700-2d75-426d-8e5d-2dbc47f65207\",\"type\":\"WheelZoomTool\"},{\"attributes\":{\"plot\":null,\"text\":\"Log pressure scale\"},\"id\":\"145e52cc-2cdd-4b04-afe9-25dcdfd502d3\",\"type\":\"Title\"},{\"attributes\":{\"line_alpha\":0.1,\"line_color\":\"#1f77b4\",\"line_width\":3,\"x\":{\"field\":\"x\"},\"y\":{\"field\":\"y\"}},\"id\":\"39ebd032-a2e9-4610-823c-41d47749a82f\",\"type\":\"Line\"},{\"attributes\":{},\"id\":\"fcc33318-e302-411b-b776-395f849c2aa3\",\"type\":\"BasicTickFormatter\"},{\"attributes\":{},\"id\":\"9674ff18-3283-47a8-a69c-065e016e8e9d\",\"type\":\"LinearScale\"},{\"attributes\":{\"data_source\":{\"id\":\"854059af-1f9f-4c90-bbe7-541da3d711e0\",\"type\":\"ColumnDataSource\"},\"glyph\":{\"id\":\"401f3626-0cb0-41d8-b648-db2f071811a4\",\"type\":\"Square\"},\"hover_glyph\":null,\"muted_glyph\":null,\"nonselection_glyph\":{\"id\":\"14efafae-e7c2-4630-9b63-bc10b76bfd2f\",\"type\":\"Square\"},\"selection_glyph\":null,\"view\":{\"id\":\"951cf3f4-01ee-4ba7-a7db-f20a1fedd8a8\",\"type\":\"CDSView\"}},\"id\":\"c07576ac-2e4e-46f9-9cdc-365433aed882\",\"type\":\"GlyphRenderer\"},{\"attributes\":{\"line_alpha\":0.1,\"line_color\":\"#1f77b4\",\"line_dash\":[6],\"line_width\":5,\"x\":{\"field\":\"x\"},\"y\":{\"field\":\"y\"}},\"id\":\"d4109268-dbc7-457a-b827-f35365040175\",\"type\":\"Line\"},{\"attributes\":{\"source\":{\"id\":\"854059af-1f9f-4c90-bbe7-541da3d711e0\",\"type\":\"ColumnDataSource\"}},\"id\":\"951cf3f4-01ee-4ba7-a7db-f20a1fedd8a8\",\"type\":\"CDSView\"},{\"attributes\":{\"data_source\":{\"id\":\"3cc22dee-5a17-4444-8a55-83fd55c83a4c\",\"type\":\"ColumnDataSource\"},\"glyph\":{\"id\":\"e6f1a2ff-6659-4fae-a629-a59a77beb57f\",\"type\":\"Line\"},\"hover_glyph\":null,\"muted_glyph\":null,\"nonselection_glyph\":{\"id\":\"82924f6a-689e-4d1b-926a-b966ef9d321c\",\"type\":\"Line\"},\"selection_glyph\":null,\"view\":{\"id\":\"8f12e446-6dbf-4bfb-857e-b90a3285e96d\",\"type\":\"CDSView\"}},\"id\":\"9090cc8a-4224-41d1-aa18-d433e6257a2b\",\"type\":\"GlyphRenderer\"},{\"attributes\":{},\"id\":\"0f64f93e-cd42-47d5-9cf2-8b713e4438af\",\"type\":\"PanTool\"},{\"attributes\":{},\"id\":\"1eca490d-e11c-4c76-b526-66bbfc37518b\",\"type\":\"LogScale\"},{\"attributes\":{\"axis_label\":\"cooling rate [K/day]\",\"formatter\":{\"id\":\"a387f7d9-e83a-424d-bf7a-4b591e676fe2\",\"type\":\"BasicTickFormatter\"},\"plot\":{\"id\":\"50211b2a-f937-44c6-8d3c-652a062a4e35\",\"subtype\":\"Figure\",\"type\":\"Plot\"},\"ticker\":{\"id\":\"73959643-4faa-454c-af23-8462a11d26c1\",\"type\":\"BasicTicker\"}},\"id\":\"2ada8064-8e08-4c2b-8a9b-c577a7e2dee2\",\"type\":\"LinearAxis\"},{\"attributes\":{\"dimension\":1,\"plot\":{\"id\":\"50211b2a-f937-44c6-8d3c-652a062a4e35\",\"subtype\":\"Figure\",\"type\":\"Plot\"},\"ticker\":{\"id\":\"b7fc1ea1-818e-4718-91bd-349660380df4\",\"type\":\"LogTicker\"}},\"id\":\"4220060d-978d-4e85-be70-0a92a3a830be\",\"type\":\"Grid\"},{\"attributes\":{\"num_minor_ticks\":10},\"id\":\"b7fc1ea1-818e-4718-91bd-349660380df4\",\"type\":\"LogTicker\"},{\"attributes\":{\"callback\":null,\"column_names\":[\"x\",\"y\"],\"data\":{\"x\":{\"__ndarray__\":\"UQkn6sT8iD/3SHcQjsGKP6XYMX/mbo4/0DpDdLEmkT9+VtSUDSmTP4ppmVvkPpU/5r9kgF5nlz8m+TLgB6GZP5gxiJSo7ps/0EsFOphQnj/sG9o30WOgP7epX63DqaE/5faK4bz4oj9ltngWxCmkP269zxTOGqU/l0F1GxzupT+t3TfeycOmP6rX9vFioqc/piLloo2CqD8aS1SHzkapP6zqVOnZBao/fj4McktNqT+sRgfc8bSmP+Iadggmp6M/NcetZeC6oD9K1WCGnuybPw0Vl1h7s5Y/lkuG95tMkj909PZddhGOP0sFIiAVn4g/VIZ78hp+gz//Wucfdrx9P2FQAubf4Xc//5qOeWG0dT93cjzKrWt0P6C2bRzFb3M/h2KXrNFbcj/qbAlqcn5wP1y9JyCsRmw/A6NyD5bZZz8Xo0yzMnZjP1G60tAgP14/6LptLs3NVT/ES5Y8bcNKP9C0ggbLFDk/+8OHPD+RQj+AX6Dz6dFaPyY2A1Y9FWk/ZL/ZyodScj/V78nJhdp3P2ou1vXRP30/sTJgqSNJgT+4ApZVwt6DP24RdTf4T4Y/9BR8+gy8iD8ofB1ClxCLPwwbDtiIMY0/J7jWq0hEjz/YpS9M8piQP1Cvynx9cZE/V2Eb/2o/kj+Eoeqtg/eSPwPnEGGRmZM/+FVH+xA1lD9epeZrybyUP2ZpB1mfPZU/vHr1L1m1lT8+4W7FjBSWP/iw99f0XZY/fIyQfhZrlj8CeVU0DTuWP3URVAWS1JU/4drqKeJKlT+6SwO7cb2UP7ddGAEzIpQ/\",\"dtype\":\"float64\",\"shape\":[75]},\"y\":{\"__ndarray__\":\"GhExyth1ND/Sv8nbtpRIP2vylNV0PVE/aTum7souWD/At0SJ8fVgPw3Iuahxymc/MSNhhJWvcD/bTfBN02d3P2zb5nxnaoA/CD5h5MAGhz8NmeH1TyaQP+zrCsc9p5Y/LbKd76fGnz/bLW5ISEmmPww9YvTcQq8/JV2OstnstT8Er5Y7M8G+P0c+r3jqkcU/5h99k6ZBzj88bCIzFzjVP4enV8oyxN0//yH99nXg5D8qOpLLf0jtP5kqGJXUifQ/c9cS8kHP/D+/DpwzojQEQIEmwoanVwxA4lgXt9HgE0BSSZ2AJuIbQAMJih9jjiNA5q4l5INuK0AwTKYKRj0zQNv5fmq8/DpAaCJseHrtQkB/+zpwzoxKQM3MzMzMeFJAZmZmZmZqWEAAAAAAAFxeQM3MzMzMJmJAmpmZmZkfZUBmZmZmZhhoQDMzMzMzEWtAAAAAAAAKbkBmZmZmZoFwQM3MzMzM/XFAMzMzMzN6c0CamZmZmfZ0QAAAAAAAc3ZAZmZmZmbvd0DNzMzMzGt5QDMzMzMz6HpAmpmZmZlkfEAAAAAAAOF9QGZmZmZmXX9AZmZmZuZsgECamZmZGSuBQM3MzMxM6YFAAAAAAICngkAzMzMzs2WDQGZmZmbmI4RAmpmZmRnihEDNzMzMTKCFQAAAAACAXoZAMzMzM7Mch0BmZmZm5tqHQJqZmZkZmYhAzczMzExXiUAAAAAAgBWKQDMzMzOz04pAZmZmZuaRi0CamZmZGVCMQM3MzMxMDo1AAAAAAIDMjUAzMzMzs4qOQGZmZmbmSI9A\",\"dtype\":\"float64\",\"shape\":[75]}}},\"id\":\"854059af-1f9f-4c90-bbe7-541da3d711e0\",\"type\":\"ColumnDataSource\"},{\"attributes\":{\"active_drag\":\"auto\",\"active_inspect\":\"auto\",\"active_scroll\":\"auto\",\"active_tap\":\"auto\",\"tools\":[{\"id\":\"0f64f93e-cd42-47d5-9cf2-8b713e4438af\",\"type\":\"PanTool\"},{\"id\":\"bc5a511c-19a3-4b91-b3c2-11452c998a3b\",\"type\":\"WheelZoomTool\"},{\"id\":\"1d99e155-db19-426f-81be-f092c3470563\",\"type\":\"BoxZoomTool\"},{\"id\":\"ade5091e-f83b-45d6-a62c-2540b81fbdaf\",\"type\":\"SaveTool\"},{\"id\":\"df54ffe4-8beb-447a-94be-d89ff6f1630e\",\"type\":\"ResetTool\"},{\"id\":\"9888decb-5fbb-4bc9-9e03-705f6128c7bb\",\"type\":\"HelpTool\"}]},\"id\":\"45937233-840d-4d66-9896-187d9d1c8e1e\",\"type\":\"Toolbar\"},{\"attributes\":{\"active_drag\":\"auto\",\"active_inspect\":\"auto\",\"active_scroll\":\"auto\",\"active_tap\":\"auto\",\"tools\":[{\"id\":\"9498c0ac-21d0-4fa1-b874-452bacc0a9a0\",\"type\":\"PanTool\"},{\"id\":\"56268700-2d75-426d-8e5d-2dbc47f65207\",\"type\":\"WheelZoomTool\"},{\"id\":\"5bc406fe-9a82-4f93-b7fa-2bb935b71968\",\"type\":\"BoxZoomTool\"},{\"id\":\"94d15f33-1bfe-4f33-849a-6b35218fa509\",\"type\":\"SaveTool\"},{\"id\":\"bda017a9-5ba7-4676-8a57-227b81b3b8dd\",\"type\":\"ResetTool\"},{\"id\":\"b829c292-ac07-4c0c-a18c-4eb1c15d83ee\",\"type\":\"HelpTool\"}]},\"id\":\"8d4ae98e-79f1-4cfc-bc4f-23b6fdca6e27\",\"type\":\"Toolbar\"},{\"attributes\":{\"plot\":{\"id\":\"50211b2a-f937-44c6-8d3c-652a062a4e35\",\"subtype\":\"Figure\",\"type\":\"Plot\"},\"ticker\":{\"id\":\"73959643-4faa-454c-af23-8462a11d26c1\",\"type\":\"BasicTicker\"}},\"id\":\"2283ca37-dba2-4541-8eb4-80b58181b733\",\"type\":\"Grid\"},{\"attributes\":{\"label\":{\"value\":\"CRD\"},\"renderers\":[{\"id\":\"a1606597-78e2-427b-83e0-c651588da53d\",\"type\":\"GlyphRenderer\"},{\"id\":\"2ddd8c16-2d8b-4412-9344-39e55b508305\",\"type\":\"GlyphRenderer\"}]},\"id\":\"38c27f35-bca1-448e-91ff-2f77abd14513\",\"type\":\"LegendItem\"},{\"attributes\":{\"below\":[{\"id\":\"2ada8064-8e08-4c2b-8a9b-c577a7e2dee2\",\"type\":\"LinearAxis\"}],\"left\":[{\"id\":\"bd4aa788-7305-45ed-b7c6-8b296b3931ee\",\"type\":\"LogAxis\"}],\"plot_height\":500,\"plot_width\":560,\"renderers\":[{\"id\":\"2ada8064-8e08-4c2b-8a9b-c577a7e2dee2\",\"type\":\"LinearAxis\"},{\"id\":\"2283ca37-dba2-4541-8eb4-80b58181b733\",\"type\":\"Grid\"},{\"id\":\"bd4aa788-7305-45ed-b7c6-8b296b3931ee\",\"type\":\"LogAxis\"},{\"id\":\"4220060d-978d-4e85-be70-0a92a3a830be\",\"type\":\"Grid\"},{\"id\":\"62310193-3230-4789-87e9-62e3c47f0223\",\"type\":\"BoxAnnotation\"},{\"id\":\"9090cc8a-4224-41d1-aa18-d433e6257a2b\",\"type\":\"GlyphRenderer\"},{\"id\":\"a1606597-78e2-427b-83e0-c651588da53d\",\"type\":\"GlyphRenderer\"},{\"id\":\"2ddd8c16-2d8b-4412-9344-39e55b508305\",\"type\":\"GlyphRenderer\"},{\"id\":\"4a81609d-be04-43b1-aa35-83cb95378db7\",\"type\":\"GlyphRenderer\"},{\"id\":\"1c772ce0-5446-4ab3-ba96-5fbe9e118262\",\"type\":\"GlyphRenderer\"},{\"id\":\"e035587e-bb60-4bf1-ad5a-c336c948a63b\",\"type\":\"Legend\"}],\"right\":[{\"id\":\"e035587e-bb60-4bf1-ad5a-c336c948a63b\",\"type\":\"Legend\"}],\"title\":{\"id\":\"145e52cc-2cdd-4b04-afe9-25dcdfd502d3\",\"type\":\"Title\"},\"toolbar\":{\"id\":\"45937233-840d-4d66-9896-187d9d1c8e1e\",\"type\":\"Toolbar\"},\"toolbar_location\":null,\"x_range\":{\"id\":\"8c5ce404-8e27-4d37-b6e8-7cbe8625e8b4\",\"type\":\"Range1d\"},\"x_scale\":{\"id\":\"9674ff18-3283-47a8-a69c-065e016e8e9d\",\"type\":\"LinearScale\"},\"y_range\":{\"id\":\"58fbaef7-8104-4793-9787-743859a32171\",\"type\":\"Range1d\"},\"y_scale\":{\"id\":\"1eca490d-e11c-4c76-b526-66bbfc37518b\",\"type\":\"LogScale\"}},\"id\":\"50211b2a-f937-44c6-8d3c-652a062a4e35\",\"subtype\":\"Figure\",\"type\":\"Plot\"},{\"attributes\":{},\"id\":\"73959643-4faa-454c-af23-8462a11d26c1\",\"type\":\"BasicTicker\"},{\"attributes\":{\"source\":{\"id\":\"ba3dbaec-05f3-467f-b441-2e06cfb5b281\",\"type\":\"ColumnDataSource\"}},\"id\":\"b088117c-8cfc-4c65-a8c8-b6c1e0e7cb85\",\"type\":\"CDSView\"},{\"attributes\":{\"fill_alpha\":{\"value\":0.7},\"fill_color\":{\"value\":\"#984ea3\"},\"line_alpha\":{\"value\":0.7},\"line_color\":{\"value\":\"#984ea3\"},\"x\":{\"field\":\"x\"},\"y\":{\"field\":\"y\"}},\"id\":\"401f3626-0cb0-41d8-b648-db2f071811a4\",\"type\":\"Square\"},{\"attributes\":{\"source\":{\"id\":\"64159e02-c525-4f62-b441-6518e1ea0b46\",\"type\":\"ColumnDataSource\"}},\"id\":\"7185bc32-ef8f-4d34-b886-4bef912595d9\",\"type\":\"CDSView\"},{\"attributes\":{\"fill_alpha\":{\"value\":0.7},\"fill_color\":{\"value\":\"#4daf4a\"},\"line_alpha\":{\"value\":0.7},\"line_color\":{\"value\":\"#4daf4a\"},\"x\":{\"field\":\"x\"},\"y\":{\"field\":\"y\"}},\"id\":\"167fb92f-47e3-4f50-83e6-3ce0b7bf4162\",\"type\":\"Circle\"},{\"attributes\":{\"fill_alpha\":{\"value\":0.1},\"fill_color\":{\"value\":\"#1f77b4\"},\"line_alpha\":{\"value\":0.1},\"line_color\":{\"value\":\"#1f77b4\"},\"x\":{\"field\":\"x\"},\"y\":{\"field\":\"y\"}},\"id\":\"14efafae-e7c2-4630-9b63-bc10b76bfd2f\",\"type\":\"Square\"},{\"attributes\":{},\"id\":\"71d932b8-1078-4ac0-81be-2bf549d5e417\",\"type\":\"LinearScale\"},{\"attributes\":{\"callback\":null,\"end\":0.0221137789468,\"start\":-0.0004176280268},\"id\":\"b6b6fd0c-ad4d-4aca-b1f8-32cc10bc4859\",\"type\":\"Range1d\"},{\"attributes\":{\"data_source\":{\"id\":\"9a114118-ecb6-42e3-9e44-52ea54fcd5d2\",\"type\":\"ColumnDataSource\"},\"glyph\":{\"id\":\"167fb92f-47e3-4f50-83e6-3ce0b7bf4162\",\"type\":\"Circle\"},\"hover_glyph\":null,\"muted_glyph\":null,\"nonselection_glyph\":{\"id\":\"67317811-77e4-4d57-9725-f1ef3dec19ec\",\"type\":\"Circle\"},\"selection_glyph\":null,\"view\":{\"id\":\"6d74ca9b-bfad-40f3-b222-95ca40393979\",\"type\":\"CDSView\"}},\"id\":\"8c8b10b2-e6fe-431b-aeea-0aae97d377a2\",\"type\":\"GlyphRenderer\"},{\"attributes\":{\"data_source\":{\"id\":\"47d82ede-e549-43a0-a43c-8a7029a28699\",\"type\":\"ColumnDataSource\"},\"glyph\":{\"id\":\"6cef5eeb-0866-4be9-8cd8-fb76194c42ed\",\"type\":\"Line\"},\"hover_glyph\":null,\"muted_glyph\":null,\"nonselection_glyph\":{\"id\":\"39ebd032-a2e9-4610-823c-41d47749a82f\",\"type\":\"Line\"},\"selection_glyph\":null,\"view\":{\"id\":\"864a5a78-78d0-46d5-a278-c9bf45cbb20a\",\"type\":\"CDSView\"}},\"id\":\"6d54bac5-368b-421b-b0cd-2f4ef0d520e8\",\"type\":\"GlyphRenderer\"},{\"attributes\":{\"callback\":null,\"column_names\":[\"x\",\"y\"],\"data\":{\"x\":{\"__ndarray__\":\"UQkn6sT8iD/3SHcQjsGKP6XYMX/mbo4/0DpDdLEmkT9+VtSUDSmTP4ppmVvkPpU/5r9kgF5nlz8m+TLgB6GZP5gxiJSo7ps/0EsFOphQnj/sG9o30WOgP7epX63DqaE/5faK4bz4oj9ltngWxCmkP269zxTOGqU/l0F1GxzupT+t3TfeycOmP6rX9vFioqc/piLloo2CqD8aS1SHzkapP6zqVOnZBao/fj4McktNqT+sRgfc8bSmP+Iadggmp6M/NcetZeC6oD9K1WCGnuybPw0Vl1h7s5Y/lkuG95tMkj909PZddhGOP0sFIiAVn4g/VIZ78hp+gz//Wucfdrx9P2FQAubf4Xc//5qOeWG0dT93cjzKrWt0P6C2bRzFb3M/h2KXrNFbcj/qbAlqcn5wP1y9JyCsRmw/A6NyD5bZZz8Xo0yzMnZjP1G60tAgP14/6LptLs3NVT/ES5Y8bcNKP9C0ggbLFDk/+8OHPD+RQj+AX6Dz6dFaPyY2A1Y9FWk/ZL/ZyodScj/V78nJhdp3P2ou1vXRP30/sTJgqSNJgT+4ApZVwt6DP24RdTf4T4Y/9BR8+gy8iD8ofB1ClxCLPwwbDtiIMY0/J7jWq0hEjz/YpS9M8piQP1Cvynx9cZE/V2Eb/2o/kj+Eoeqtg/eSPwPnEGGRmZM/+FVH+xA1lD9epeZrybyUP2ZpB1mfPZU/vHr1L1m1lT8+4W7FjBSWP/iw99f0XZY/fIyQfhZrlj8CeVU0DTuWP3URVAWS1JU/4drqKeJKlT+6SwO7cb2UP7ddGAEzIpQ/\",\"dtype\":\"float64\",\"shape\":[75]},\"y\":{\"__ndarray__\":\"GhExyth1ND/Sv8nbtpRIP2vylNV0PVE/aTum7souWD/At0SJ8fVgPw3Iuahxymc/MSNhhJWvcD/bTfBN02d3P2zb5nxnaoA/CD5h5MAGhz8NmeH1TyaQP+zrCsc9p5Y/LbKd76fGnz/bLW5ISEmmPww9YvTcQq8/JV2OstnstT8Er5Y7M8G+P0c+r3jqkcU/5h99k6ZBzj88bCIzFzjVP4enV8oyxN0//yH99nXg5D8qOpLLf0jtP5kqGJXUifQ/c9cS8kHP/D+/DpwzojQEQIEmwoanVwxA4lgXt9HgE0BSSZ2AJuIbQAMJih9jjiNA5q4l5INuK0AwTKYKRj0zQNv5fmq8/DpAaCJseHrtQkB/+zpwzoxKQM3MzMzMeFJAZmZmZmZqWEAAAAAAAFxeQM3MzMzMJmJAmpmZmZkfZUBmZmZmZhhoQDMzMzMzEWtAAAAAAAAKbkBmZmZmZoFwQM3MzMzM/XFAMzMzMzN6c0CamZmZmfZ0QAAAAAAAc3ZAZmZmZmbvd0DNzMzMzGt5QDMzMzMz6HpAmpmZmZlkfEAAAAAAAOF9QGZmZmZmXX9AZmZmZuZsgECamZmZGSuBQM3MzMxM6YFAAAAAAICngkAzMzMzs2WDQGZmZmbmI4RAmpmZmRnihEDNzMzMTKCFQAAAAACAXoZAMzMzM7Mch0BmZmZm5tqHQJqZmZkZmYhAzczMzExXiUAAAAAAgBWKQDMzMzOz04pAZmZmZuaRi0CamZmZGVCMQM3MzMxMDo1AAAAAAIDMjUAzMzMzs4qOQGZmZmbmSI9A\",\"dtype\":\"float64\",\"shape\":[75]}}},\"id\":\"47d82ede-e549-43a0-a43c-8a7029a28699\",\"type\":\"ColumnDataSource\"},{\"attributes\":{\"line_alpha\":0.6,\"line_color\":\"#e41a1c\",\"line_dash\":[6],\"line_width\":5,\"x\":{\"field\":\"x\"},\"y\":{\"field\":\"y\"}},\"id\":\"0cea256d-576c-4c7e-827d-3f82043171d9\",\"type\":\"Line\"},{\"attributes\":{\"source\":{\"id\":\"3cc22dee-5a17-4444-8a55-83fd55c83a4c\",\"type\":\"ColumnDataSource\"}},\"id\":\"8f12e446-6dbf-4bfb-857e-b90a3285e96d\",\"type\":\"CDSView\"},{\"attributes\":{\"line_alpha\":0.6,\"line_color\":\"#984ea3\",\"line_width\":3,\"x\":{\"field\":\"x\"},\"y\":{\"field\":\"y\"}},\"id\":\"6cef5eeb-0866-4be9-8cd8-fb76194c42ed\",\"type\":\"Line\"},{\"attributes\":{\"source\":{\"id\":\"47d82ede-e549-43a0-a43c-8a7029a28699\",\"type\":\"ColumnDataSource\"}},\"id\":\"864a5a78-78d0-46d5-a278-c9bf45cbb20a\",\"type\":\"CDSView\"},{\"attributes\":{\"axis_label\":\"pressure [mb]\",\"formatter\":{\"id\":\"eefe5db5-f96b-4a72-bff8-90543585d170\",\"type\":\"LogTickFormatter\"},\"plot\":{\"id\":\"50211b2a-f937-44c6-8d3c-652a062a4e35\",\"subtype\":\"Figure\",\"type\":\"Plot\"},\"ticker\":{\"id\":\"b7fc1ea1-818e-4718-91bd-349660380df4\",\"type\":\"LogTicker\"}},\"id\":\"bd4aa788-7305-45ed-b7c6-8b296b3931ee\",\"type\":\"LogAxis\"},{\"attributes\":{},\"id\":\"bc5a511c-19a3-4b91-b3c2-11452c998a3b\",\"type\":\"WheelZoomTool\"},{\"attributes\":{\"fill_alpha\":{\"value\":0.1},\"fill_color\":{\"value\":\"#1f77b4\"},\"line_alpha\":{\"value\":0.1},\"line_color\":{\"value\":\"#1f77b4\"},\"x\":{\"field\":\"x\"},\"y\":{\"field\":\"y\"}},\"id\":\"67317811-77e4-4d57-9725-f1ef3dec19ec\",\"type\":\"Circle\"}],\"root_ids\":[\"4ddc9b31-97c9-4b87-a162-dd0a2e542d39\"]},\"title\":\"Bokeh Application\",\"version\":\"0.12.14\"}};\n",
       "  var render_items = [{\"docid\":\"04d5765d-a061-4165-866c-f9c8c40a2f0f\",\"elementid\":\"85a21099-bd6f-40fe-bff2-27228c858b52\",\"modelid\":\"4ddc9b31-97c9-4b87-a162-dd0a2e542d39\"}];\n",
       "  root.Bokeh.embed.embed_items_notebook(docs_json, render_items);\n",
       "\n",
       "  }\n",
       "  if (root.Bokeh !== undefined) {\n",
       "    embed_document(root);\n",
       "  } else {\n",
       "    var attempts = 0;\n",
       "    var timer = setInterval(function(root) {\n",
       "      if (root.Bokeh !== undefined) {\n",
       "        embed_document(root);\n",
       "        clearInterval(timer);\n",
       "      }\n",
       "      attempts++;\n",
       "      if (attempts > 100) {\n",
       "        console.log(\"Bokeh: ERROR: Unable to run BokehJS code because BokehJS library is missing\")\n",
       "        clearInterval(timer);\n",
       "      }\n",
       "    }, 10, root)\n",
       "  }\n",
       "})(window);"
      ],
      "application/vnd.bokehjs_exec.v0+json": ""
     },
     "metadata": {
      "application/vnd.bokehjs_exec.v0+json": {
       "id": "4ddc9b31-97c9-4b87-a162-dd0a2e542d39"
      }
     },
     "output_type": "display_data"
    },
    {
     "name": "stdout",
     "output_type": "stream",
     "text": [
      "FIGURE. Cooling rate profiles.\n"
     ]
    },
    {
     "data": {
      "text/html": [
       "<a id=\"Flux_Comparison\"></a>"
      ],
      "text/plain": [
       "<IPython.core.display.HTML object>"
      ]
     },
     "metadata": {},
     "output_type": "display_data"
    },
    {
     "data": {
      "text/markdown": [
       "# Flux Comparison"
      ],
      "text/plain": [
       "<IPython.core.display.Markdown object>"
      ]
     },
     "metadata": {},
     "output_type": "display_data"
    },
    {
     "data": {
      "text/html": [
       "<div>\n",
       "<style>\n",
       "    .dataframe thead tr:only-child th {\n",
       "        text-align: right;\n",
       "    }\n",
       "\n",
       "    .dataframe thead th {\n",
       "        text-align: left;\n",
       "    }\n",
       "\n",
       "    .dataframe tbody tr th {\n",
       "        vertical-align: top;\n",
       "    }\n",
       "</style>\n",
       "<table border=\"1\" class=\"dataframe\">\n",
       "  <thead>\n",
       "    <tr style=\"text-align: right;\">\n",
       "      <th></th>\n",
       "      <th></th>\n",
       "      <th>flug</th>\n",
       "      <th>fldg</th>\n",
       "      <th>fnetg</th>\n",
       "    </tr>\n",
       "    <tr>\n",
       "      <th>pressure</th>\n",
       "      <th>level</th>\n",
       "      <th></th>\n",
       "      <th></th>\n",
       "      <th></th>\n",
       "    </tr>\n",
       "  </thead>\n",
       "  <tbody>\n",
       "    <tr>\n",
       "      <th>0.0000</th>\n",
       "      <th>1</th>\n",
       "      <td>-23.024992</td>\n",
       "      <td>0.000000</td>\n",
       "      <td>-23.024992</td>\n",
       "    </tr>\n",
       "    <tr>\n",
       "      <th>1.0685</th>\n",
       "      <th>24</th>\n",
       "      <td>-23.023513</td>\n",
       "      <td>0.004420</td>\n",
       "      <td>-23.019094</td>\n",
       "    </tr>\n",
       "    <tr>\n",
       "      <th>1013.0000</th>\n",
       "      <th>76</th>\n",
       "      <td>-23.591138</td>\n",
       "      <td>1.960934</td>\n",
       "      <td>-21.630204</td>\n",
       "    </tr>\n",
       "  </tbody>\n",
       "</table>\n",
       "</div>"
      ],
      "text/plain": [
       "                      flug      fldg      fnetg\n",
       "pressure  level                                \n",
       "0.0000    1     -23.024992  0.000000 -23.024992\n",
       "1.0685    24    -23.023513  0.004420 -23.019094\n",
       "1013.0000 76    -23.591138  1.960934 -21.630204"
      ]
     },
     "metadata": {},
     "output_type": "display_data"
    },
    {
     "name": "stdout",
     "output_type": "stream",
     "text": [
      "Table. Fluxes. WGT igg=10 wgt_flux=1\n"
     ]
    },
    {
     "data": {
      "text/html": [
       "<div>\n",
       "<style>\n",
       "    .dataframe thead tr:only-child th {\n",
       "        text-align: right;\n",
       "    }\n",
       "\n",
       "    .dataframe thead th {\n",
       "        text-align: left;\n",
       "    }\n",
       "\n",
       "    .dataframe tbody tr th {\n",
       "        vertical-align: top;\n",
       "    }\n",
       "</style>\n",
       "<table border=\"1\" class=\"dataframe\">\n",
       "  <thead>\n",
       "    <tr style=\"text-align: right;\">\n",
       "      <th></th>\n",
       "      <th></th>\n",
       "      <th>flug</th>\n",
       "      <th>fldg</th>\n",
       "      <th>fnetg</th>\n",
       "    </tr>\n",
       "    <tr>\n",
       "      <th>pressure</th>\n",
       "      <th>level</th>\n",
       "      <th></th>\n",
       "      <th></th>\n",
       "      <th></th>\n",
       "    </tr>\n",
       "  </thead>\n",
       "  <tbody>\n",
       "    <tr>\n",
       "      <th>0.0000</th>\n",
       "      <th>1</th>\n",
       "      <td>-23.029560</td>\n",
       "      <td>0.000000</td>\n",
       "      <td>-23.029560</td>\n",
       "    </tr>\n",
       "    <tr>\n",
       "      <th>1.0685</th>\n",
       "      <th>24</th>\n",
       "      <td>-23.028184</td>\n",
       "      <td>0.004588</td>\n",
       "      <td>-23.023596</td>\n",
       "    </tr>\n",
       "    <tr>\n",
       "      <th>1013.0000</th>\n",
       "      <th>76</th>\n",
       "      <td>-23.591138</td>\n",
       "      <td>1.871264</td>\n",
       "      <td>-21.719873</td>\n",
       "    </tr>\n",
       "  </tbody>\n",
       "</table>\n",
       "</div>"
      ],
      "text/plain": [
       "                      flug      fldg      fnetg\n",
       "pressure  level                                \n",
       "0.0000    1     -23.029560  0.000000 -23.029560\n",
       "1.0685    24    -23.028184  0.004588 -23.023596\n",
       "1013.0000 76    -23.591138  1.871264 -21.719873"
      ]
     },
     "metadata": {},
     "output_type": "display_data"
    },
    {
     "name": "stdout",
     "output_type": "stream",
     "text": [
      "Table. Fluxes. CRD\n"
     ]
    },
    {
     "data": {
      "text/html": [
       "<div>\n",
       "<style>\n",
       "    .dataframe thead tr:only-child th {\n",
       "        text-align: right;\n",
       "    }\n",
       "\n",
       "    .dataframe thead th {\n",
       "        text-align: left;\n",
       "    }\n",
       "\n",
       "    .dataframe tbody tr th {\n",
       "        vertical-align: top;\n",
       "    }\n",
       "</style>\n",
       "<table border=\"1\" class=\"dataframe\">\n",
       "  <thead>\n",
       "    <tr style=\"text-align: right;\">\n",
       "      <th></th>\n",
       "      <th></th>\n",
       "      <th>flug</th>\n",
       "      <th>fldg</th>\n",
       "      <th>fnetg</th>\n",
       "    </tr>\n",
       "    <tr>\n",
       "      <th>pressure</th>\n",
       "      <th>level</th>\n",
       "      <th></th>\n",
       "      <th></th>\n",
       "      <th></th>\n",
       "    </tr>\n",
       "  </thead>\n",
       "  <tbody>\n",
       "    <tr>\n",
       "      <th>1.000000e-08</th>\n",
       "      <th>1</th>\n",
       "      <td>-23.046120</td>\n",
       "      <td>0.000002</td>\n",
       "      <td>-23.046118</td>\n",
       "    </tr>\n",
       "    <tr>\n",
       "      <th>1.068500e+00</th>\n",
       "      <th>24</th>\n",
       "      <td>-23.044751</td>\n",
       "      <td>0.004034</td>\n",
       "      <td>-23.040717</td>\n",
       "    </tr>\n",
       "    <tr>\n",
       "      <th>1.013000e+03</th>\n",
       "      <th>76</th>\n",
       "      <td>-23.591140</td>\n",
       "      <td>1.895832</td>\n",
       "      <td>-21.695308</td>\n",
       "    </tr>\n",
       "  </tbody>\n",
       "</table>\n",
       "</div>"
      ],
      "text/plain": [
       "                         flug      fldg      fnetg\n",
       "pressure     level                                \n",
       "1.000000e-08 1     -23.046120  0.000002 -23.046118\n",
       "1.068500e+00 24    -23.044751  0.004034 -23.040717\n",
       "1.013000e+03 76    -23.591140  1.895832 -21.695308"
      ]
     },
     "metadata": {},
     "output_type": "display_data"
    },
    {
     "name": "stdout",
     "output_type": "stream",
     "text": [
      "Table. Fluxes. CLIRAD\n"
     ]
    },
    {
     "data": {
      "text/html": [
       "<div>\n",
       "<style>\n",
       "    .dataframe thead tr:only-child th {\n",
       "        text-align: right;\n",
       "    }\n",
       "\n",
       "    .dataframe thead th {\n",
       "        text-align: left;\n",
       "    }\n",
       "\n",
       "    .dataframe tbody tr th {\n",
       "        vertical-align: top;\n",
       "    }\n",
       "</style>\n",
       "<table border=\"1\" class=\"dataframe\">\n",
       "  <thead>\n",
       "    <tr style=\"text-align: right;\">\n",
       "      <th></th>\n",
       "      <th></th>\n",
       "      <th>flug</th>\n",
       "      <th>fldg</th>\n",
       "      <th>fnetg</th>\n",
       "    </tr>\n",
       "    <tr>\n",
       "      <th>pressure</th>\n",
       "      <th>level</th>\n",
       "      <th></th>\n",
       "      <th></th>\n",
       "      <th></th>\n",
       "    </tr>\n",
       "  </thead>\n",
       "  <tbody>\n",
       "    <tr>\n",
       "      <th>0.0000</th>\n",
       "      <th>1</th>\n",
       "      <td>-4.568470e-03</td>\n",
       "      <td>0.000000</td>\n",
       "      <td>-0.004568</td>\n",
       "    </tr>\n",
       "    <tr>\n",
       "      <th>1.0685</th>\n",
       "      <th>24</th>\n",
       "      <td>-4.670670e-03</td>\n",
       "      <td>0.000168</td>\n",
       "      <td>-0.004502</td>\n",
       "    </tr>\n",
       "    <tr>\n",
       "      <th>1013.0000</th>\n",
       "      <th>76</th>\n",
       "      <td>-3.400000e-07</td>\n",
       "      <td>-0.089670</td>\n",
       "      <td>-0.089669</td>\n",
       "    </tr>\n",
       "  </tbody>\n",
       "</table>\n",
       "</div>"
      ],
      "text/plain": [
       "                         flug      fldg     fnetg\n",
       "pressure  level                                  \n",
       "0.0000    1     -4.568470e-03  0.000000 -0.004568\n",
       "1.0685    24    -4.670670e-03  0.000168 -0.004502\n",
       "1013.0000 76    -3.400000e-07 -0.089670 -0.089669"
      ]
     },
     "metadata": {},
     "output_type": "display_data"
    },
    {
     "name": "stdout",
     "output_type": "stream",
     "text": [
      "Table. Fluxes. (CRD) - (WGT igg=10 wgt_flux=1)\n"
     ]
    },
    {
     "data": {
      "text/html": [
       "<div>\n",
       "<style>\n",
       "    .dataframe thead tr:only-child th {\n",
       "        text-align: right;\n",
       "    }\n",
       "\n",
       "    .dataframe thead th {\n",
       "        text-align: left;\n",
       "    }\n",
       "\n",
       "    .dataframe tbody tr th {\n",
       "        vertical-align: top;\n",
       "    }\n",
       "</style>\n",
       "<table border=\"1\" class=\"dataframe\">\n",
       "  <thead>\n",
       "    <tr style=\"text-align: right;\">\n",
       "      <th></th>\n",
       "      <th></th>\n",
       "      <th>flug</th>\n",
       "      <th>fldg</th>\n",
       "      <th>fnetg</th>\n",
       "    </tr>\n",
       "    <tr>\n",
       "      <th>pressure</th>\n",
       "      <th>level</th>\n",
       "      <th></th>\n",
       "      <th></th>\n",
       "      <th></th>\n",
       "    </tr>\n",
       "  </thead>\n",
       "  <tbody>\n",
       "    <tr>\n",
       "      <th>0.0000</th>\n",
       "      <th>1</th>\n",
       "      <td>-0.021128</td>\n",
       "      <td>0.000002</td>\n",
       "      <td>-0.021126</td>\n",
       "    </tr>\n",
       "    <tr>\n",
       "      <th>1.0685</th>\n",
       "      <th>24</th>\n",
       "      <td>-0.021238</td>\n",
       "      <td>-0.000386</td>\n",
       "      <td>-0.021623</td>\n",
       "    </tr>\n",
       "    <tr>\n",
       "      <th>1013.0000</th>\n",
       "      <th>76</th>\n",
       "      <td>-0.000002</td>\n",
       "      <td>-0.065102</td>\n",
       "      <td>-0.065104</td>\n",
       "    </tr>\n",
       "  </tbody>\n",
       "</table>\n",
       "</div>"
      ],
      "text/plain": [
       "                     flug      fldg     fnetg\n",
       "pressure  level                              \n",
       "0.0000    1     -0.021128  0.000002 -0.021126\n",
       "1.0685    24    -0.021238 -0.000386 -0.021623\n",
       "1013.0000 76    -0.000002 -0.065102 -0.065104"
      ]
     },
     "metadata": {},
     "output_type": "display_data"
    },
    {
     "name": "stdout",
     "output_type": "stream",
     "text": [
      "Table. Fluxes. (CLIRAD) - (WGT igg=10 wgt_flux=1)\n"
     ]
    },
    {
     "data": {
      "text/html": [
       "<a id=\"Best-fit_Parameters\"></a>"
      ],
      "text/plain": [
       "<IPython.core.display.HTML object>"
      ]
     },
     "metadata": {},
     "output_type": "display_data"
    },
    {
     "data": {
      "text/markdown": [
       "# Best-fit Parameters"
      ],
      "text/plain": [
       "<IPython.core.display.Markdown object>"
      ]
     },
     "metadata": {},
     "output_type": "display_data"
    },
    {
     "name": "stdout",
     "output_type": "stream",
     "text": [
      "Best-fit values for each (gas, band)\n",
      "------------------------------------\n",
      "o n2o band3a\n",
      "  atmpro = mls\n",
      "  band = 3a\n",
      "  commitnumber = 2bd1f75\n",
      "  conc = 3.2e-07\n",
      "  dv = 0.01\n",
      "  klin = 2.22e-20\n",
      "  molecule = n2o\n",
      "  ng_adju = [0, 0]\n",
      "  ng_refs = [1, 2]\n",
      "  nv = 100\n",
      "  option_compute_btable = 0\n",
      "  option_compute_ktable = 1\n",
      "  option_wgt_flux = 1\n",
      "  option_wgt_k = 1\n",
      "  ref_pts = [(1, 250), (500, 250)]\n",
      "  tsfc = 294\n",
      "  vmax = 620\n",
      "  vmin = 540\n",
      "  w_diffuse = [(1.8,), (1.66, 1.8)]\n",
      "  wgt = [(0.9,), (0.5, 0.95)]\n"
     ]
    }
   ],
   "source": [
    "script()"
   ]
  },
  {
   "cell_type": "code",
   "execution_count": 13,
   "metadata": {
    "collapsed": true
   },
   "outputs": [
    {
     "data": {
      "text/html": [
       "<script>\n",
       "code_show=true; \n",
       "function code_toggle() {\n",
       " if (code_show){\n",
       " $('div.input').hide();\n",
       " } else {\n",
       " $('div.input').show();\n",
       " }\n",
       " code_show = !code_show\n",
       "} \n",
       "$( document ).ready(code_toggle);\n",
       "</script>\n",
       "<form action=\"javascript:code_toggle()\"><input type=\"submit\" value=\"Click here to toggle on/off the raw code.\"></form>"
      ],
      "text/plain": [
       "<IPython.core.display.HTML object>"
      ]
     },
     "execution_count": 13,
     "metadata": {},
     "output_type": "execute_result"
    }
   ],
   "source": [
    "display.HTML('''<script>\n",
    "code_show=true; \n",
    "function code_toggle() {\n",
    " if (code_show){\n",
    " $('div.input').hide();\n",
    " } else {\n",
    " $('div.input').show();\n",
    " }\n",
    " code_show = !code_show\n",
    "} \n",
    "$( document ).ready(code_toggle);\n",
    "</script>\n",
    "<form action=\"javascript:code_toggle()\"><input type=\"submit\" value=\"Click here to toggle on/off the raw code.\"></form>''')"
   ]
  }
 ],
 "metadata": {
  "kernelspec": {
   "display_name": "Python 3",
   "language": "python",
   "name": "python3"
  },
  "language_info": {
   "codemirror_mode": {
    "name": "ipython",
    "version": 3
   },
   "file_extension": ".py",
   "mimetype": "text/x-python",
   "name": "python",
   "nbconvert_exporter": "python",
   "pygments_lexer": "ipython3",
   "version": "3.6.1"
  }
 },
 "nbformat": 4,
 "nbformat_minor": 2
}
