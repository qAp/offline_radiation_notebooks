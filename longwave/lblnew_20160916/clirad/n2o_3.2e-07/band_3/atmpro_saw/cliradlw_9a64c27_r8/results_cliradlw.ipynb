{
 "cells": [
  {
   "cell_type": "code",
   "execution_count": 1,
   "metadata": {
    "collapsed": true
   },
   "outputs": [],
   "source": [
    "%matplotlib inline\n",
    "import os\n",
    "import re\n",
    "import io\n",
    "import itertools\n",
    "import pprint\n",
    "\n",
    "from bokeh.io import output_notebook, show\n",
    "from bokeh.layouts import gridplot\n",
    "from bokeh.plotting import figure\n",
    "from bokeh.models import Range1d, Legend\n",
    "from bokeh.palettes import all_palettes\n",
    "\n",
    "import matplotlib\n",
    "import matplotlib.pyplot as plt\n",
    "import numpy as np\n",
    "import pandas as pd\n",
    "import xarray as xr\n",
    "\n",
    "import climatools.lblnew.bestfit_params as bestfits\n",
    "from climatools.lblnew import setup_bestfit, setup_overlap\n",
    "import climatools.lblnew.pipeline as pipe_lblnew\n",
    "import climatools.cliradlw.setup as setup_cliradlw\n",
    "import climatools.cliradlw.pipeline as pipe_cliradlw\n",
    "\n",
    "import climatools.html.html as climahtml\n",
    "from climatools.lblnew.dataio import *\n",
    "from climatools.plot.plot import *\n",
    "\n",
    "\n",
    "import IPython.display as display"
   ]
  },
  {
   "cell_type": "code",
   "execution_count": 2,
   "metadata": {
    "collapsed": true
   },
   "outputs": [],
   "source": [
    "%run param.py"
   ]
  },
  {
   "cell_type": "code",
   "execution_count": 3,
   "metadata": {
    "collapsed": true
   },
   "outputs": [
    {
     "name": "stdout",
     "output_type": "stream",
     "text": [
      "The history saving thread hit an unexpected error (OperationalError('database is locked',)).History will not be written to the database.\n"
     ]
    }
   ],
   "source": [
    "def load_output_file(path_csv):\n",
    "    '''\n",
    "    Load lblnew output .csv file to xarray.Dataset\n",
    "    \n",
    "    Parameters\n",
    "    ----------\n",
    "    path_csv: str\n",
    "              Path to the .csv file to be loaded.\n",
    "    ds: xarray.Dataset\n",
    "        Data in the input file in the form of an xarray.Dataset.\n",
    "    '''\n",
    "    toindex = ['band', 'pressure', 'igg', 'g']    \n",
    "    df = pd.read_csv(path_csv, sep=r'\\s+')\n",
    "    df = df.set_index([i for i in toindex if i in df.columns])\n",
    "    df = df.rename(columns={'sfu': 'flug',\n",
    "                            'sfd': 'fldg',\n",
    "                            'fnet': 'fnetg',\n",
    "                            'coolr': 'coolrg'})\n",
    "    ds = xr.Dataset.from_dataframe(df)\n",
    "\n",
    "    for l in ('level', 'layer'):\n",
    "        if l in ds.data_vars:\n",
    "            if len(ds[l].dims) > 1:\n",
    "                surface = {d: 0 for d in ds.dims if d != 'pressure'}\n",
    "                coord_level = ds[l][surface]\n",
    "                ds.coords[l] = ('pressure', coord_level)\n",
    "            else:\n",
    "                ds.coords[l] = ('pressure', ds[l])\n",
    "    \n",
    "    return ds"
   ]
  },
  {
   "cell_type": "code",
   "execution_count": 4,
   "metadata": {
    "collapsed": true
   },
   "outputs": [],
   "source": [
    "def lblnew_setup(param=None):\n",
    "    if 'ng_refs' in param:\n",
    "        return {'setup': setup_bestfit,\n",
    "                'fname_flux_crd': 'output_flux.dat',\n",
    "                'fname_cool_crd': 'output_coolr.dat',\n",
    "                'fname_flux_wgt': 'output_wfluxg.dat',\n",
    "                'fname_cool_wgt': 'output_wcoolrg.dat'}\n",
    "    else:\n",
    "        return {'setup': setup_overlap,\n",
    "                'fname_flux_crd': 'output_flux.dat',\n",
    "                'fname_cool_crd': 'output_coolr.dat',\n",
    "                'fname_flux_wgt': 'output_wflux.dat',\n",
    "                'fname_cool_wgt': 'output_wcoolr.dat'}\n",
    "\n",
    "    \n",
    "def load_lblnew_data(param):\n",
    "    \n",
    "    fname_dsname = [('fname_flux_crd', 'ds_flux_crd'),\n",
    "                    ('fname_cool_crd', 'ds_cool_crd'),\n",
    "                    ('fname_flux_wgt', 'ds_flux_wgt'),\n",
    "                    ('fname_cool_wgt', 'ds_cool_wgt')]\n",
    "    \n",
    "    d = lblnew_setup(param)\n",
    "    dir_fortran = pipe_lblnew.get_dir_case(param, setup=d['setup'])\n",
    "    \n",
    "    data_dict = {}\n",
    "    for fname, dsname in fname_dsname:\n",
    "        fpath = os.path.join(dir_fortran, d[fname])\n",
    "        data_dict[dsname] = load_output_file(fpath)\n",
    "    return data_dict\n",
    "    \n",
    "\n",
    "    \n",
    "    "
   ]
  },
  {
   "cell_type": "code",
   "execution_count": 5,
   "metadata": {
    "collapsed": true
   },
   "outputs": [],
   "source": [
    "d = load_lblnew_data(PARAM_LBLNEW)\n",
    "\n",
    "DS_FLUX_CRD = d['ds_flux_crd']\n",
    "DS_COOL_CRD = d['ds_cool_crd']\n",
    "DS_FLUX_WGT = d['ds_flux_wgt']\n",
    "DS_COOL_WGT = d['ds_cool_wgt']"
   ]
  },
  {
   "cell_type": "code",
   "execution_count": 6,
   "metadata": {
    "collapsed": true
   },
   "outputs": [],
   "source": [
    "DIR_FORTRAN = pipe_cliradlw.get_fortran_dir(PARAM, \n",
    "                                            setup=setup_cliradlw)\n",
    "\n",
    "PATH_FLUX = os.path.join(DIR_FORTRAN, 'output_flux.dat')\n",
    "PATH_COOL = os.path.join(DIR_FORTRAN, 'output_coolr.dat')\n",
    "\n",
    "DS_FLUX = load_output_file(PATH_FLUX)\n",
    "DS_COOL = load_output_file(PATH_COOL)"
   ]
  },
  {
   "cell_type": "code",
   "execution_count": 7,
   "metadata": {
    "collapsed": true
   },
   "outputs": [
    {
     "data": {
      "text/html": [
       "\n",
       "    <div class=\"bk-root\">\n",
       "        <a href=\"https://bokeh.pydata.org\" target=\"_blank\" class=\"bk-logo bk-logo-small bk-logo-notebook\"></a>\n",
       "        <span id=\"c2f9ef75-e84d-4fd1-89a6-07f9ccc2d4c0\">Loading BokehJS ...</span>\n",
       "    </div>"
      ]
     },
     "metadata": {},
     "output_type": "display_data"
    },
    {
     "data": {
      "application/javascript": [
       "\n",
       "(function(root) {\n",
       "  function now() {\n",
       "    return new Date();\n",
       "  }\n",
       "\n",
       "  var force = true;\n",
       "\n",
       "  if (typeof (root._bokeh_onload_callbacks) === \"undefined\" || force === true) {\n",
       "    root._bokeh_onload_callbacks = [];\n",
       "    root._bokeh_is_loading = undefined;\n",
       "  }\n",
       "\n",
       "  var JS_MIME_TYPE = 'application/javascript';\n",
       "  var HTML_MIME_TYPE = 'text/html';\n",
       "  var EXEC_MIME_TYPE = 'application/vnd.bokehjs_exec.v0+json';\n",
       "  var CLASS_NAME = 'output_bokeh rendered_html';\n",
       "\n",
       "  /**\n",
       "   * Render data to the DOM node\n",
       "   */\n",
       "  function render(props, node) {\n",
       "    var script = document.createElement(\"script\");\n",
       "    node.appendChild(script);\n",
       "  }\n",
       "\n",
       "  /**\n",
       "   * Handle when an output is cleared or removed\n",
       "   */\n",
       "  function handleClearOutput(event, handle) {\n",
       "    var cell = handle.cell;\n",
       "\n",
       "    var id = cell.output_area._bokeh_element_id;\n",
       "    var server_id = cell.output_area._bokeh_server_id;\n",
       "    // Clean up Bokeh references\n",
       "    if (id !== undefined) {\n",
       "      Bokeh.index[id].model.document.clear();\n",
       "      delete Bokeh.index[id];\n",
       "    }\n",
       "\n",
       "    if (server_id !== undefined) {\n",
       "      // Clean up Bokeh references\n",
       "      var cmd = \"from bokeh.io.state import curstate; print(curstate().uuid_to_server['\" + server_id + \"'].get_sessions()[0].document.roots[0]._id)\";\n",
       "      cell.notebook.kernel.execute(cmd, {\n",
       "        iopub: {\n",
       "          output: function(msg) {\n",
       "            var element_id = msg.content.text.trim();\n",
       "            Bokeh.index[element_id].model.document.clear();\n",
       "            delete Bokeh.index[element_id];\n",
       "          }\n",
       "        }\n",
       "      });\n",
       "      // Destroy server and session\n",
       "      var cmd = \"import bokeh.io.notebook as ion; ion.destroy_server('\" + server_id + \"')\";\n",
       "      cell.notebook.kernel.execute(cmd);\n",
       "    }\n",
       "  }\n",
       "\n",
       "  /**\n",
       "   * Handle when a new output is added\n",
       "   */\n",
       "  function handleAddOutput(event, handle) {\n",
       "    var output_area = handle.output_area;\n",
       "    var output = handle.output;\n",
       "\n",
       "    // limit handleAddOutput to display_data with EXEC_MIME_TYPE content only\n",
       "    if ((output.output_type != \"display_data\") || (!output.data.hasOwnProperty(EXEC_MIME_TYPE))) {\n",
       "      return\n",
       "    }\n",
       "\n",
       "    var toinsert = output_area.element.find(\".\" + CLASS_NAME.split(' ')[0]);\n",
       "\n",
       "    if (output.metadata[EXEC_MIME_TYPE][\"id\"] !== undefined) {\n",
       "      toinsert[0].firstChild.textContent = output.data[JS_MIME_TYPE];\n",
       "      // store reference to embed id on output_area\n",
       "      output_area._bokeh_element_id = output.metadata[EXEC_MIME_TYPE][\"id\"];\n",
       "    }\n",
       "    if (output.metadata[EXEC_MIME_TYPE][\"server_id\"] !== undefined) {\n",
       "      var bk_div = document.createElement(\"div\");\n",
       "      bk_div.innerHTML = output.data[HTML_MIME_TYPE];\n",
       "      var script_attrs = bk_div.children[0].attributes;\n",
       "      for (var i = 0; i < script_attrs.length; i++) {\n",
       "        toinsert[0].firstChild.setAttribute(script_attrs[i].name, script_attrs[i].value);\n",
       "      }\n",
       "      // store reference to server id on output_area\n",
       "      output_area._bokeh_server_id = output.metadata[EXEC_MIME_TYPE][\"server_id\"];\n",
       "    }\n",
       "  }\n",
       "\n",
       "  function register_renderer(events, OutputArea) {\n",
       "\n",
       "    function append_mime(data, metadata, element) {\n",
       "      // create a DOM node to render to\n",
       "      var toinsert = this.create_output_subarea(\n",
       "        metadata,\n",
       "        CLASS_NAME,\n",
       "        EXEC_MIME_TYPE\n",
       "      );\n",
       "      this.keyboard_manager.register_events(toinsert);\n",
       "      // Render to node\n",
       "      var props = {data: data, metadata: metadata[EXEC_MIME_TYPE]};\n",
       "      render(props, toinsert[0]);\n",
       "      element.append(toinsert);\n",
       "      return toinsert\n",
       "    }\n",
       "\n",
       "    /* Handle when an output is cleared or removed */\n",
       "    events.on('clear_output.CodeCell', handleClearOutput);\n",
       "    events.on('delete.Cell', handleClearOutput);\n",
       "\n",
       "    /* Handle when a new output is added */\n",
       "    events.on('output_added.OutputArea', handleAddOutput);\n",
       "\n",
       "    /**\n",
       "     * Register the mime type and append_mime function with output_area\n",
       "     */\n",
       "    OutputArea.prototype.register_mime_type(EXEC_MIME_TYPE, append_mime, {\n",
       "      /* Is output safe? */\n",
       "      safe: true,\n",
       "      /* Index of renderer in `output_area.display_order` */\n",
       "      index: 0\n",
       "    });\n",
       "  }\n",
       "\n",
       "  // register the mime type if in Jupyter Notebook environment and previously unregistered\n",
       "  if (root.Jupyter !== undefined) {\n",
       "    var events = require('base/js/events');\n",
       "    var OutputArea = require('notebook/js/outputarea').OutputArea;\n",
       "\n",
       "    if (OutputArea.prototype.mime_types().indexOf(EXEC_MIME_TYPE) == -1) {\n",
       "      register_renderer(events, OutputArea);\n",
       "    }\n",
       "  }\n",
       "\n",
       "  \n",
       "  if (typeof (root._bokeh_timeout) === \"undefined\" || force === true) {\n",
       "    root._bokeh_timeout = Date.now() + 5000;\n",
       "    root._bokeh_failed_load = false;\n",
       "  }\n",
       "\n",
       "  var NB_LOAD_WARNING = {'data': {'text/html':\n",
       "     \"<div style='background-color: #fdd'>\\n\"+\n",
       "     \"<p>\\n\"+\n",
       "     \"BokehJS does not appear to have successfully loaded. If loading BokehJS from CDN, this \\n\"+\n",
       "     \"may be due to a slow or bad network connection. Possible fixes:\\n\"+\n",
       "     \"</p>\\n\"+\n",
       "     \"<ul>\\n\"+\n",
       "     \"<li>re-rerun `output_notebook()` to attempt to load from CDN again, or</li>\\n\"+\n",
       "     \"<li>use INLINE resources instead, as so:</li>\\n\"+\n",
       "     \"</ul>\\n\"+\n",
       "     \"<code>\\n\"+\n",
       "     \"from bokeh.resources import INLINE\\n\"+\n",
       "     \"output_notebook(resources=INLINE)\\n\"+\n",
       "     \"</code>\\n\"+\n",
       "     \"</div>\"}};\n",
       "\n",
       "  function display_loaded() {\n",
       "    var el = document.getElementById(\"c2f9ef75-e84d-4fd1-89a6-07f9ccc2d4c0\");\n",
       "    if (el != null) {\n",
       "      el.textContent = \"BokehJS is loading...\";\n",
       "    }\n",
       "    if (root.Bokeh !== undefined) {\n",
       "      if (el != null) {\n",
       "        el.textContent = \"BokehJS \" + root.Bokeh.version + \" successfully loaded.\";\n",
       "      }\n",
       "    } else if (Date.now() < root._bokeh_timeout) {\n",
       "      setTimeout(display_loaded, 100)\n",
       "    }\n",
       "  }\n",
       "\n",
       "\n",
       "  function run_callbacks() {\n",
       "    try {\n",
       "      root._bokeh_onload_callbacks.forEach(function(callback) { callback() });\n",
       "    }\n",
       "    finally {\n",
       "      delete root._bokeh_onload_callbacks\n",
       "    }\n",
       "    console.info(\"Bokeh: all callbacks have finished\");\n",
       "  }\n",
       "\n",
       "  function load_libs(js_urls, callback) {\n",
       "    root._bokeh_onload_callbacks.push(callback);\n",
       "    if (root._bokeh_is_loading > 0) {\n",
       "      console.log(\"Bokeh: BokehJS is being loaded, scheduling callback at\", now());\n",
       "      return null;\n",
       "    }\n",
       "    if (js_urls == null || js_urls.length === 0) {\n",
       "      run_callbacks();\n",
       "      return null;\n",
       "    }\n",
       "    console.log(\"Bokeh: BokehJS not loaded, scheduling load and callback at\", now());\n",
       "    root._bokeh_is_loading = js_urls.length;\n",
       "    for (var i = 0; i < js_urls.length; i++) {\n",
       "      var url = js_urls[i];\n",
       "      var s = document.createElement('script');\n",
       "      s.src = url;\n",
       "      s.async = false;\n",
       "      s.onreadystatechange = s.onload = function() {\n",
       "        root._bokeh_is_loading--;\n",
       "        if (root._bokeh_is_loading === 0) {\n",
       "          console.log(\"Bokeh: all BokehJS libraries loaded\");\n",
       "          run_callbacks()\n",
       "        }\n",
       "      };\n",
       "      s.onerror = function() {\n",
       "        console.warn(\"failed to load library \" + url);\n",
       "      };\n",
       "      console.log(\"Bokeh: injecting script tag for BokehJS library: \", url);\n",
       "      document.getElementsByTagName(\"head\")[0].appendChild(s);\n",
       "    }\n",
       "  };var element = document.getElementById(\"c2f9ef75-e84d-4fd1-89a6-07f9ccc2d4c0\");\n",
       "  if (element == null) {\n",
       "    console.log(\"Bokeh: ERROR: autoload.js configured with elementid 'c2f9ef75-e84d-4fd1-89a6-07f9ccc2d4c0' but no matching script tag was found. \")\n",
       "    return false;\n",
       "  }\n",
       "\n",
       "  var js_urls = [\"https://cdn.pydata.org/bokeh/release/bokeh-0.12.14.min.js\", \"https://cdn.pydata.org/bokeh/release/bokeh-widgets-0.12.14.min.js\", \"https://cdn.pydata.org/bokeh/release/bokeh-tables-0.12.14.min.js\", \"https://cdn.pydata.org/bokeh/release/bokeh-gl-0.12.14.min.js\"];\n",
       "\n",
       "  var inline_js = [\n",
       "    function(Bokeh) {\n",
       "      Bokeh.set_log_level(\"info\");\n",
       "    },\n",
       "    \n",
       "    function(Bokeh) {\n",
       "      \n",
       "    },\n",
       "    function(Bokeh) {\n",
       "      console.log(\"Bokeh: injecting CSS: https://cdn.pydata.org/bokeh/release/bokeh-0.12.14.min.css\");\n",
       "      Bokeh.embed.inject_css(\"https://cdn.pydata.org/bokeh/release/bokeh-0.12.14.min.css\");\n",
       "      console.log(\"Bokeh: injecting CSS: https://cdn.pydata.org/bokeh/release/bokeh-widgets-0.12.14.min.css\");\n",
       "      Bokeh.embed.inject_css(\"https://cdn.pydata.org/bokeh/release/bokeh-widgets-0.12.14.min.css\");\n",
       "      console.log(\"Bokeh: injecting CSS: https://cdn.pydata.org/bokeh/release/bokeh-tables-0.12.14.min.css\");\n",
       "      Bokeh.embed.inject_css(\"https://cdn.pydata.org/bokeh/release/bokeh-tables-0.12.14.min.css\");\n",
       "    }\n",
       "  ];\n",
       "\n",
       "  function run_inline_js() {\n",
       "    \n",
       "    if ((root.Bokeh !== undefined) || (force === true)) {\n",
       "      for (var i = 0; i < inline_js.length; i++) {\n",
       "        inline_js[i].call(root, root.Bokeh);\n",
       "      }if (force === true) {\n",
       "        display_loaded();\n",
       "      }} else if (Date.now() < root._bokeh_timeout) {\n",
       "      setTimeout(run_inline_js, 100);\n",
       "    } else if (!root._bokeh_failed_load) {\n",
       "      console.log(\"Bokeh: BokehJS failed to load within specified timeout.\");\n",
       "      root._bokeh_failed_load = true;\n",
       "    } else if (force !== true) {\n",
       "      var cell = $(document.getElementById(\"c2f9ef75-e84d-4fd1-89a6-07f9ccc2d4c0\")).parents('.cell').data().cell;\n",
       "      cell.output_area.append_execute_result(NB_LOAD_WARNING)\n",
       "    }\n",
       "\n",
       "  }\n",
       "\n",
       "  if (root._bokeh_is_loading === 0) {\n",
       "    console.log(\"Bokeh: BokehJS loaded, going straight to plotting\");\n",
       "    run_inline_js();\n",
       "  } else {\n",
       "    load_libs(js_urls, function() {\n",
       "      console.log(\"Bokeh: BokehJS plotting callback run at\", now());\n",
       "      run_inline_js();\n",
       "    });\n",
       "  }\n",
       "}(window));"
      ],
      "application/vnd.bokehjs_load.v0+json": "\n(function(root) {\n  function now() {\n    return new Date();\n  }\n\n  var force = true;\n\n  if (typeof (root._bokeh_onload_callbacks) === \"undefined\" || force === true) {\n    root._bokeh_onload_callbacks = [];\n    root._bokeh_is_loading = undefined;\n  }\n\n  \n\n  \n  if (typeof (root._bokeh_timeout) === \"undefined\" || force === true) {\n    root._bokeh_timeout = Date.now() + 5000;\n    root._bokeh_failed_load = false;\n  }\n\n  var NB_LOAD_WARNING = {'data': {'text/html':\n     \"<div style='background-color: #fdd'>\\n\"+\n     \"<p>\\n\"+\n     \"BokehJS does not appear to have successfully loaded. If loading BokehJS from CDN, this \\n\"+\n     \"may be due to a slow or bad network connection. Possible fixes:\\n\"+\n     \"</p>\\n\"+\n     \"<ul>\\n\"+\n     \"<li>re-rerun `output_notebook()` to attempt to load from CDN again, or</li>\\n\"+\n     \"<li>use INLINE resources instead, as so:</li>\\n\"+\n     \"</ul>\\n\"+\n     \"<code>\\n\"+\n     \"from bokeh.resources import INLINE\\n\"+\n     \"output_notebook(resources=INLINE)\\n\"+\n     \"</code>\\n\"+\n     \"</div>\"}};\n\n  function display_loaded() {\n    var el = document.getElementById(\"c2f9ef75-e84d-4fd1-89a6-07f9ccc2d4c0\");\n    if (el != null) {\n      el.textContent = \"BokehJS is loading...\";\n    }\n    if (root.Bokeh !== undefined) {\n      if (el != null) {\n        el.textContent = \"BokehJS \" + root.Bokeh.version + \" successfully loaded.\";\n      }\n    } else if (Date.now() < root._bokeh_timeout) {\n      setTimeout(display_loaded, 100)\n    }\n  }\n\n\n  function run_callbacks() {\n    try {\n      root._bokeh_onload_callbacks.forEach(function(callback) { callback() });\n    }\n    finally {\n      delete root._bokeh_onload_callbacks\n    }\n    console.info(\"Bokeh: all callbacks have finished\");\n  }\n\n  function load_libs(js_urls, callback) {\n    root._bokeh_onload_callbacks.push(callback);\n    if (root._bokeh_is_loading > 0) {\n      console.log(\"Bokeh: BokehJS is being loaded, scheduling callback at\", now());\n      return null;\n    }\n    if (js_urls == null || js_urls.length === 0) {\n      run_callbacks();\n      return null;\n    }\n    console.log(\"Bokeh: BokehJS not loaded, scheduling load and callback at\", now());\n    root._bokeh_is_loading = js_urls.length;\n    for (var i = 0; i < js_urls.length; i++) {\n      var url = js_urls[i];\n      var s = document.createElement('script');\n      s.src = url;\n      s.async = false;\n      s.onreadystatechange = s.onload = function() {\n        root._bokeh_is_loading--;\n        if (root._bokeh_is_loading === 0) {\n          console.log(\"Bokeh: all BokehJS libraries loaded\");\n          run_callbacks()\n        }\n      };\n      s.onerror = function() {\n        console.warn(\"failed to load library \" + url);\n      };\n      console.log(\"Bokeh: injecting script tag for BokehJS library: \", url);\n      document.getElementsByTagName(\"head\")[0].appendChild(s);\n    }\n  };var element = document.getElementById(\"c2f9ef75-e84d-4fd1-89a6-07f9ccc2d4c0\");\n  if (element == null) {\n    console.log(\"Bokeh: ERROR: autoload.js configured with elementid 'c2f9ef75-e84d-4fd1-89a6-07f9ccc2d4c0' but no matching script tag was found. \")\n    return false;\n  }\n\n  var js_urls = [\"https://cdn.pydata.org/bokeh/release/bokeh-0.12.14.min.js\", \"https://cdn.pydata.org/bokeh/release/bokeh-widgets-0.12.14.min.js\", \"https://cdn.pydata.org/bokeh/release/bokeh-tables-0.12.14.min.js\", \"https://cdn.pydata.org/bokeh/release/bokeh-gl-0.12.14.min.js\"];\n\n  var inline_js = [\n    function(Bokeh) {\n      Bokeh.set_log_level(\"info\");\n    },\n    \n    function(Bokeh) {\n      \n    },\n    function(Bokeh) {\n      console.log(\"Bokeh: injecting CSS: https://cdn.pydata.org/bokeh/release/bokeh-0.12.14.min.css\");\n      Bokeh.embed.inject_css(\"https://cdn.pydata.org/bokeh/release/bokeh-0.12.14.min.css\");\n      console.log(\"Bokeh: injecting CSS: https://cdn.pydata.org/bokeh/release/bokeh-widgets-0.12.14.min.css\");\n      Bokeh.embed.inject_css(\"https://cdn.pydata.org/bokeh/release/bokeh-widgets-0.12.14.min.css\");\n      console.log(\"Bokeh: injecting CSS: https://cdn.pydata.org/bokeh/release/bokeh-tables-0.12.14.min.css\");\n      Bokeh.embed.inject_css(\"https://cdn.pydata.org/bokeh/release/bokeh-tables-0.12.14.min.css\");\n    }\n  ];\n\n  function run_inline_js() {\n    \n    if ((root.Bokeh !== undefined) || (force === true)) {\n      for (var i = 0; i < inline_js.length; i++) {\n        inline_js[i].call(root, root.Bokeh);\n      }if (force === true) {\n        display_loaded();\n      }} else if (Date.now() < root._bokeh_timeout) {\n      setTimeout(run_inline_js, 100);\n    } else if (!root._bokeh_failed_load) {\n      console.log(\"Bokeh: BokehJS failed to load within specified timeout.\");\n      root._bokeh_failed_load = true;\n    } else if (force !== true) {\n      var cell = $(document.getElementById(\"c2f9ef75-e84d-4fd1-89a6-07f9ccc2d4c0\")).parents('.cell').data().cell;\n      cell.output_area.append_execute_result(NB_LOAD_WARNING)\n    }\n\n  }\n\n  if (root._bokeh_is_loading === 0) {\n    console.log(\"Bokeh: BokehJS loaded, going straight to plotting\");\n    run_inline_js();\n  } else {\n    load_libs(js_urls, function() {\n      console.log(\"Bokeh: BokehJS plotting callback run at\", now());\n      run_inline_js();\n    });\n  }\n}(window));"
     },
     "metadata": {},
     "output_type": "display_data"
    }
   ],
   "source": [
    "output_notebook()"
   ]
  },
  {
   "cell_type": "code",
   "execution_count": 8,
   "metadata": {
    "collapsed": true
   },
   "outputs": [],
   "source": [
    "def fmt_cool(ds_in):\n",
    "    ds = ds_in.copy(deep=True)\n",
    "    if 'igg' in ds.dims:\n",
    "        ds = ds.sel(igg=1)\n",
    "\n",
    "    if 'g' in ds.dims:\n",
    "        ds = ds.sum('g')\n",
    "            \n",
    "    if 'band' in ds.dims:\n",
    "        try:\n",
    "            ds = ds.squeeze('band')\n",
    "        except ValueError:\n",
    "            ds = ds.sum('band')\n",
    "                \n",
    "    return ds['coolrg']\n",
    "\n",
    "\n",
    "def pltdata_cooling_1(ds_cool=None,\n",
    "                      ds_cool_crd=None, ds_cool_wgt=None):\n",
    "    \n",
    "\n",
    "\n",
    "    colors = all_palettes['Set1'][4]\n",
    "    data = [{'label': 'CLIRAD `coolr_bands`',\n",
    "             'srs': fmt_cool(ds_cool),\n",
    "             'line_dash': 'dashed', 'line_width': 5,\n",
    "             'color': colors[0], 'alpha': .6},\n",
    "            {'label': 'CRD',\n",
    "             'srs': fmt_cool(ds_cool_crd),\n",
    "             'line_dash': 'solid', 'line_width': 1.5,\n",
    "             'marker': 'circle', 'marker_size': 5,\n",
    "             'color': colors[2], 'alpha': 1,},\n",
    "            {'label': 'WGT igg=10 wgt_flux=2',\n",
    "             'srs': fmt_cool(ds_cool_wgt),\n",
    "             'line_dash': 'solid', 'line_width': 3,\n",
    "             'marker': 'square', 'marker_size': 5,\n",
    "             'color': colors[3], 'alpha': .6}]\n",
    "    return data\n",
    "\n",
    "\n",
    "def nice_xlims(pltdata=None, prange=None):\n",
    "    \n",
    "    def get_slice(srs):\n",
    "        return srs.sel(pressure=slice(*prange))\n",
    "    \n",
    "    srss = [d['srs'] for d in pltdata]\n",
    "    vmin = min([get_slice(srs).min() for srs in srss])\n",
    "    vmax = max([get_slice(srs).max() for srs in srss])\n",
    "    dv = (vmax - vmin) * .01\n",
    "    return float(vmin - dv), float(vmax + dv)\n",
    "    \n",
    "\n",
    "def plt_cooling_bokeh(pltdata=None):\n",
    "    '''\n",
    "    Plot a list of cooling rate profiles using bokeh.\n",
    "    '''\n",
    "    ymin = 1e-2 \n",
    "    ymax = 1020 \n",
    "        \n",
    "    p1 = figure(title=\"Linear pressure scale\", \n",
    "                plot_width=400)        \n",
    "    xmin, xmax = nice_xlims(pltdata, prange=(50, 1050))\n",
    "    for d in pltdata:\n",
    "        if 'marker' in d:\n",
    "            getattr(p1, d['marker'])(d['srs'].values, \n",
    "                    d['srs'].coords['pressure'].values,\n",
    "                    color=d['color'], alpha=.7)\n",
    "        p1.line(d['srs'].values, \n",
    "                d['srs'].coords['pressure'].values,\n",
    "                color=d['color'], alpha=d['alpha'], \n",
    "                line_width=d['line_width'], line_dash=d['line_dash'])\n",
    "    \n",
    "    p1.y_range = Range1d(ymax, ymin)\n",
    "    p1.yaxis.axis_label = 'pressure [mb]'   \n",
    "    p1.x_range = Range1d(xmin, xmax)\n",
    "    p1.xaxis.axis_label = 'cooling rate [K/day]'\n",
    "            \n",
    "    p2 = figure(title='Log pressure scale', y_axis_type='log',\n",
    "                plot_width=560)\n",
    "    xmin, xmax = nice_xlims(pltdata, prange=(.01, 200))\n",
    "    \n",
    "    rs = []\n",
    "    for d in pltdata:\n",
    "        rd = []\n",
    "        if 'marker' in d:\n",
    "            r_mark = getattr(p2, d['marker'])(d['srs'].values, \n",
    "                        d['srs'].coords['pressure'].values,\n",
    "                        color=d['color'], alpha=.7)\n",
    "            rd.append(r_mark)\n",
    "        r_line = p2.line(d['srs'].values, \n",
    "                    d['srs'].coords['pressure'].values,\n",
    "                    color=d['color'], alpha=d['alpha'], \n",
    "                    line_width=d['line_width'], line_dash=d['line_dash'])\n",
    "        rd.append(r_line)\n",
    "      \n",
    "        rs.append(rd)\n",
    "        \n",
    "    p2.y_range = Range1d(ymax, ymin)  \n",
    "    p2.yaxis.axis_label = 'pressure [mb]'\n",
    "    \n",
    "    p2.x_range = Range1d(xmin, xmax)\n",
    "    p2.xaxis.axis_label = 'cooling rate [K/day]'\n",
    "    \n",
    "    items = [(d['label'], r) for r, d in zip(rs, pltdata)]\n",
    "    legend = Legend(items=items, location=(10, -30))\n",
    "    legend.label_text_font_size = '8pt'\n",
    "    \n",
    "    p2.add_layout(legend, 'right')  \n",
    "    \n",
    "    show(gridplot(p1, p2, ncols=2, plot_height=500))\n",
    "    \n",
    "\n",
    "def script_plt_cooling():\n",
    "    pltdata = pltdata_cooling_1(\n",
    "        ds_cool=DS_COOL,\n",
    "        ds_cool_crd=DS_COOL_CRD,\n",
    "        ds_cool_wgt=DS_COOL_WGT)\n",
    "    plt_cooling_bokeh(pltdata=pltdata)\n",
    "    print('''FIGURE. Cooling rate profiles.''')"
   ]
  },
  {
   "cell_type": "code",
   "execution_count": 9,
   "metadata": {
    "collapsed": true
   },
   "outputs": [],
   "source": [
    "def fmt_flux(ds_in):\n",
    "    ds = ds_in.copy(deep=True)\n",
    "    \n",
    "    for l in ('level', 'layer'):\n",
    "        if l in ds.data_vars:\n",
    "            if len(ds[l].dims) > 1:\n",
    "                surface = {d: 0 for d in ds.dims if d != 'pressure'}\n",
    "                coord_level = ds[l][surface]\n",
    "                ds.coords[l] = ('pressure', coord_level)\n",
    "            else:\n",
    "                ds.coords[l] = ('pressure', ds[l])\n",
    "        \n",
    "    ds = ds.isel(pressure=[0, 23, -1])\n",
    "        \n",
    "    if 'igg' in ds.dims:\n",
    "        ds = ds.sel(igg=[1])\n",
    "        ds = ds.squeeze('igg').drop('igg')\n",
    "    \n",
    "    if 'g' in ds.dims:\n",
    "        ds = ds.sum('g')\n",
    "            \n",
    "    if 'band' in ds.dims:\n",
    "        try:\n",
    "            ds = ds.squeeze('band').drop('band')\n",
    "        except ValueError:\n",
    "            ds = ds.sum('band')\n",
    "                \n",
    "    df = ds.to_dataframe()\n",
    "    df = df.set_index('level', append=True)               \n",
    "    return df\n",
    "\n",
    "\n",
    "def tbdata_flux(ds_flux=None, ds_flux_crd=None, ds_flux_wgt=None):\n",
    "    ilevels = [0, 23, -1]\n",
    "            \n",
    "    benchmark = {'label': 'WGT igg=10 wgt_flux=1',\n",
    "                 'df': fmt_flux(ds_flux_wgt)}\n",
    "    \n",
    "    tbs = [{'label': 'CRD',\n",
    "            'df': fmt_flux(ds_flux_crd)},\n",
    "           {'label': 'CLIRAD',\n",
    "            'df': fmt_flux(ds_flux)}]\n",
    "    \n",
    "    data = {'benchmark': benchmark, 'others': tbs}\n",
    "    return data\n",
    "\n",
    "\n",
    "def tb_flux(tbdata=None):\n",
    "    benchmark = tbdata['benchmark']\n",
    "    others = tbdata['others']\n",
    "    \n",
    "    def show_tb(d=None):\n",
    "        display.display(d['df'])\n",
    "        print('Table.', 'Fluxes.', d['label'])\n",
    "        \n",
    "    def show_tbdiff(d0=None, d=None):\n",
    "        df = d['df']\n",
    "        df.index = d0['df'].index\n",
    "        display.display(df - d0['df'])\n",
    "        print('Table.', 'Fluxes.', \n",
    "              '({}) - ({})'.format(d['label'], d0['label']))\n",
    "        \n",
    "    show_tb(benchmark)\n",
    "    for d in others:\n",
    "        show_tb(d)\n",
    "        \n",
    "    for d in others:\n",
    "        show_tbdiff(d=d, d0=benchmark)\n",
    "        \n",
    "        \n",
    "def script_tb_flux():\n",
    "    data = tbdata_flux(ds_flux=DS_FLUX,\n",
    "                       ds_flux_crd=DS_FLUX_CRD,\n",
    "                       ds_flux_wgt=DS_FLUX_WGT)\n",
    "    tb_flux(tbdata=data)"
   ]
  },
  {
   "cell_type": "code",
   "execution_count": 10,
   "metadata": {
    "collapsed": true
   },
   "outputs": [],
   "source": [
    "def band_map():\n",
    "    '''\n",
    "    Maps spectral bands in lblnew to spectral bands in clirad.\n",
    "    '''\n",
    "    lblnew2clirad = {'1': '1',\n",
    "            '2': '2',\n",
    "            '3a': '3',\n",
    "            '3b': '4',\n",
    "            '3c': '5',\n",
    "            '4': '6', \n",
    "            '5': '7',\n",
    "            '6': '8',\n",
    "            '7': '9', \n",
    "            '8': '10',\n",
    "            '9': '11'}\n",
    "    \n",
    "    clirad2lblnew = {clirad: lblnew \n",
    "                     for lblnew, clirad in lblnew2clirad.items()}\n",
    "    return clirad2lblnew\n",
    "\n",
    "\n",
    "def gasbands():\n",
    "    bmap = band_map()\n",
    "    gases = list(PARAM['molecule'].keys())\n",
    "    \n",
    "    bands = [bmap[str(b)] for b in PARAM['band']]\n",
    "    return list(itertools.product(gases, bands))\n",
    "\n",
    "\n",
    "def print_bestfit_params():\n",
    "    print('Best-fit values for each (gas, band)')\n",
    "    print('------------------------------------')\n",
    "    for gas, band in gasbands():\n",
    "        print('o {} band{}'.format(gas, band))\n",
    "        param = bestfits.kdist_params(molecule=gas, band=band)\n",
    "        for name, value in sorted(param.items()):\n",
    "            print(2 * ' ' + '{} = {}'.format(name, value))\n",
    "\n",
    "        \n",
    "def print_input_param():        \n",
    "    for name, value in PARAM.items():\n",
    "        print('{} = {}'.format(name, value))\n",
    "        \n",
    "        \n",
    "def print_lblnew_param():\n",
    "    for name, value in sorted(PARAM_LBLNEW.items()):\n",
    "        print('{} = {}'.format(name, value))\n"
   ]
  },
  {
   "cell_type": "code",
   "execution_count": 11,
   "metadata": {
    "collapsed": true,
    "scrolled": false
   },
   "outputs": [],
   "source": [
    "def show_html(s):\n",
    "    display.display(display.HTML(s))\n",
    "\n",
    "    \n",
    "def show_markdown(s):\n",
    "    display.display(display.Markdown(s))\n",
    "\n",
    "    \n",
    "def script():\n",
    "    \n",
    "    title = '### CLIRAD-LW'\n",
    "    s_input = 'Input Parameters'\n",
    "    s_lblnew_param = 'LBLNEW case compaired against'\n",
    "    s_bestfits = 'Best-fit Parameters'\n",
    "    s_plt_cooling = 'Cooling Rate Profiles'\n",
    "    s_tb_flux = 'Flux Comparison'\n",
    "    \n",
    "    # title\n",
    "    show_markdown('### CLIRAD-LW')\n",
    "    \n",
    "    # TOC\n",
    "    show_markdown('### Table of Contents')\n",
    "    show_html(climahtml.getHTML_hrefanchor(s_input))\n",
    "    show_html(climahtml.getHTML_hrefanchor(s_lblnew_param))\n",
    "    show_html(climahtml.getHTML_hrefanchor(s_plt_cooling))\n",
    "    show_html(climahtml.getHTML_hrefanchor(s_tb_flux))\n",
    "    show_html(climahtml.getHTML_hrefanchor(s_bestfits))\n",
    "    \n",
    "    # Input parameters\n",
    "    show_html(climahtml.getHTML_idanchor(s_input))\n",
    "    show_markdown(climahtml.getMarkdown_sectitle(s_input))\n",
    "    print_input_param()\n",
    "    \n",
    "    # LBLNEW parameters \n",
    "    show_html(climahtml.getHTML_idanchor(s_lblnew_param))\n",
    "    show_markdown(climahtml.getMarkdown_sectitle(s_lblnew_param))\n",
    "    print_lblnew_param()\n",
    "    \n",
    "    # Cooling rate profiles\n",
    "    show_html(climahtml.getHTML_idanchor(s_plt_cooling))\n",
    "    show_markdown(climahtml.getMarkdown_sectitle(s_plt_cooling))\n",
    "    script_plt_cooling()\n",
    "    \n",
    "    # Flux comparison\n",
    "    show_html(climahtml.getHTML_idanchor(s_tb_flux))\n",
    "    show_markdown(climahtml.getMarkdown_sectitle(s_tb_flux))\n",
    "    script_tb_flux()\n",
    "    \n",
    "    # Best-fit values\n",
    "    show_html(climahtml.getHTML_idanchor(s_bestfits))\n",
    "    show_markdown(climahtml.getMarkdown_sectitle(s_bestfits))\n",
    "    print_bestfit_params()\n",
    "   \n",
    "    "
   ]
  },
  {
   "cell_type": "code",
   "execution_count": 12,
   "metadata": {
    "collapsed": true,
    "scrolled": false
   },
   "outputs": [
    {
     "data": {
      "text/markdown": [
       "### CLIRAD-LW"
      ],
      "text/plain": [
       "<IPython.core.display.Markdown object>"
      ]
     },
     "metadata": {},
     "output_type": "display_data"
    },
    {
     "data": {
      "text/markdown": [
       "### Table of Contents"
      ],
      "text/plain": [
       "<IPython.core.display.Markdown object>"
      ]
     },
     "metadata": {},
     "output_type": "display_data"
    },
    {
     "data": {
      "text/html": [
       "<a href=\"#Input_Parameters\">Input Parameters</a>"
      ],
      "text/plain": [
       "<IPython.core.display.HTML object>"
      ]
     },
     "metadata": {},
     "output_type": "display_data"
    },
    {
     "data": {
      "text/html": [
       "<a href=\"#LBLNEW_case_compaired_against\">LBLNEW case compaired against</a>"
      ],
      "text/plain": [
       "<IPython.core.display.HTML object>"
      ]
     },
     "metadata": {},
     "output_type": "display_data"
    },
    {
     "data": {
      "text/html": [
       "<a href=\"#Cooling_Rate_Profiles\">Cooling Rate Profiles</a>"
      ],
      "text/plain": [
       "<IPython.core.display.HTML object>"
      ]
     },
     "metadata": {},
     "output_type": "display_data"
    },
    {
     "data": {
      "text/html": [
       "<a href=\"#Flux_Comparison\">Flux Comparison</a>"
      ],
      "text/plain": [
       "<IPython.core.display.HTML object>"
      ]
     },
     "metadata": {},
     "output_type": "display_data"
    },
    {
     "data": {
      "text/html": [
       "<a href=\"#Best-fit_Parameters\">Best-fit Parameters</a>"
      ],
      "text/plain": [
       "<IPython.core.display.HTML object>"
      ]
     },
     "metadata": {},
     "output_type": "display_data"
    },
    {
     "data": {
      "text/html": [
       "<a id=\"Input_Parameters\"></a>"
      ],
      "text/plain": [
       "<IPython.core.display.HTML object>"
      ]
     },
     "metadata": {},
     "output_type": "display_data"
    },
    {
     "data": {
      "text/markdown": [
       "# Input Parameters"
      ],
      "text/plain": [
       "<IPython.core.display.Markdown object>"
      ]
     },
     "metadata": {},
     "output_type": "display_data"
    },
    {
     "name": "stdout",
     "output_type": "stream",
     "text": [
      "atmpro = saw\n",
      "band = [3]\n",
      "commitnumber = 9a64c27_r8\n",
      "molecule = {'n2o': 3.2e-07}\n",
      "tsfc = 257\n"
     ]
    },
    {
     "data": {
      "text/html": [
       "<a id=\"LBLNEW_case_compaired_against\"></a>"
      ],
      "text/plain": [
       "<IPython.core.display.HTML object>"
      ]
     },
     "metadata": {},
     "output_type": "display_data"
    },
    {
     "data": {
      "text/markdown": [
       "# LBLNEW case compaired against"
      ],
      "text/plain": [
       "<IPython.core.display.Markdown object>"
      ]
     },
     "metadata": {},
     "output_type": "display_data"
    },
    {
     "name": "stdout",
     "output_type": "stream",
     "text": [
      "atmpro = saw\n",
      "band = 3a\n",
      "commitnumber = 2bd1f75\n",
      "conc = 3.2e-07\n",
      "dv = 0.01\n",
      "klin = 2.22e-20\n",
      "molecule = n2o\n",
      "ng_adju = [0, 0]\n",
      "ng_refs = [1, 2]\n",
      "nv = 100\n",
      "option_compute_btable = 0\n",
      "option_compute_ktable = 0\n",
      "option_wgt_flux = 1\n",
      "option_wgt_k = 1\n",
      "ref_pts = [(1, 250), (500, 250)]\n",
      "tsfc = 257\n",
      "vmax = 620\n",
      "vmin = 540\n",
      "w_diffuse = [(1.8,), (1.66, 1.8)]\n",
      "wgt = [(0.9,), (0.5, 0.95)]\n"
     ]
    },
    {
     "data": {
      "text/html": [
       "<a id=\"Cooling_Rate_Profiles\"></a>"
      ],
      "text/plain": [
       "<IPython.core.display.HTML object>"
      ]
     },
     "metadata": {},
     "output_type": "display_data"
    },
    {
     "data": {
      "text/markdown": [
       "# Cooling Rate Profiles"
      ],
      "text/plain": [
       "<IPython.core.display.Markdown object>"
      ]
     },
     "metadata": {},
     "output_type": "display_data"
    },
    {
     "data": {
      "text/html": [
       "\n",
       "<div class=\"bk-root\">\n",
       "    <div class=\"bk-plotdiv\" id=\"dcbad2aa-d405-4b24-ba5d-fc3e93331750\"></div>\n",
       "</div>"
      ]
     },
     "metadata": {},
     "output_type": "display_data"
    },
    {
     "data": {
      "application/javascript": [
       "(function(root) {\n",
       "  function embed_document(root) {\n",
       "    \n",
       "  var docs_json = {\"bfd857de-a04a-4c37-9526-32ddcd69df8d\":{\"roots\":{\"references\":[{\"attributes\":{\"line_color\":\"#4daf4a\",\"line_width\":1.5,\"x\":{\"field\":\"x\"},\"y\":{\"field\":\"y\"}},\"id\":\"e7a0fd38-70ba-43ea-a9da-442dd8ca3ae4\",\"type\":\"Line\"},{\"attributes\":{\"fill_alpha\":{\"value\":0.1},\"fill_color\":{\"value\":\"#1f77b4\"},\"line_alpha\":{\"value\":0.1},\"line_color\":{\"value\":\"#1f77b4\"},\"x\":{\"field\":\"x\"},\"y\":{\"field\":\"y\"}},\"id\":\"0ab8a1a7-dae8-49ef-a141-8c4e74abde5e\",\"type\":\"Circle\"},{\"attributes\":{\"callback\":null,\"column_names\":[\"x\",\"y\"],\"data\":{\"x\":{\"__ndarray__\":\"hJAImorlhj/POUruSKaHPzQ/GCenPow/+OYqIjLIjz/qDVy9QbaRPypSyU+WmZM/v436D9yNlT/JAQ+aypOXP1uWJtqSq5k/zf0zVcDVmz+rXEXSsBCeP4mmrNncLqA/zts7FwReoT9sE5tNT3GiP8En70aTSaM/Q+RhkqsHpD86IlH7vMikPxuOFLUnjaU/WjR0HttTpj8tLhQEHRqnP/b8liTCy6c/mHF7y5otpz9nX5XlzdykPwSlWboxJqI/ZsQKWQsjnz+C7z0pgTeaP0++utkIjJU/3O/UTIyfkT8J7HZlM2GNP/a3UG7laYg/XLETow2Vgz8xkQClCSp+Py2Sl7F4HHg/vlZkYTgxdT+nWbd5lxZzP609m/XjX3E/rLIQUKrMbz9KGSZPKO9rPxPjZsQGfGc/LSShayZxYz9xRdvaBlpfP0o000UbI1g/Fw1BoD8lUT8zy9r5CaZEP5xUaC5wuzM/q/Baw+oXQj+YL1M9lzVaP3GATRh8Omg/+oxtVfeocT+0Wf4GKRR3P4xCCIxZXXw/wC4PxeDCgD9VZ4fRUkaDP1U3K2PCtoU/CCnYfOUMiD92FT6aa0qKP7Zp96GOa4w/vTkLZD5sjj8ZEdYQZiSQPzE2d2vO/pA/4jVUMTrFkT+a07Z4sHmSP54OJ9qcHZM/q3TxYz6zkz8hyT9CszyUP/Q6cjxQu5Q/zWsQ2UwtlT9yh9Gcio6VP8TbOYN10pU/Wn5zjiDmlT+Unm1ear6VP3ZDWjDfZJU/WT4PEd7ulD/OSspFy22UP880a2096pM/\",\"dtype\":\"float64\",\"shape\":[75]},\"y\":{\"__ndarray__\":\"S/O/Q+51ND/Sv8nbtpRIP2vylNV0PVE/aTum7souWD/At0SJ8fVgPw3Iuahxymc/MSNhhJWvcD/bTfBN02d3P2zb5nxnaoA/CD5h5MAGhz8NmeH1TyaQP+zrCsc9p5Y/LbKd76fGnz/bLW5ISEmmPww9YvTcQq8/JV2OstnstT8Er5Y7M8G+P0c+r3jqkcU/5h99k6ZBzj88bCIzFzjVP4enV8oyxN0//yH99nXg5D8qOpLLf0jtP5kqGJXUifQ/c9cS8kHP/D+/DpwzojQEQIEmwoanVwxA4lgXt9HgE0BSSZ2AJuIbQAMJih9jjiNA5q4l5INuK0AwTKYKRj0zQNv5fmq8/DpAaCJseHrtQkB/+zpwzoxKQM3MzMzMeFJAZmZmZmZqWEAAAAAAAFxeQM3MzMzMJmJAmpmZmZkfZUBmZmZmZhhoQDMzMzMzEWtAAAAAAAAKbkBmZmZmZoFwQM3MzMzM/XFAMzMzMzN6c0CamZmZmfZ0QAAAAAAAc3ZAZmZmZmbvd0DNzMzMzGt5QDMzMzMz6HpAmpmZmZlkfEAAAAAAAOF9QGZmZmZmXX9AZmZmZuZsgECamZmZGSuBQM3MzMxM6YFAAAAAAICngkAzMzMzs2WDQGZmZmbmI4RAmpmZmRnihEDNzMzMTKCFQAAAAACAXoZAMzMzM7Mch0BmZmZm5tqHQJqZmZkZmYhAzczMzExXiUAAAAAAgBWKQDMzMzOz04pAZmZmZuaRi0CamZmZGVCMQM3MzMxMDo1AAAAAAIDMjUAzMzMzs4qOQGZmZmbmSI9A\",\"dtype\":\"float64\",\"shape\":[75]}}},\"id\":\"448ace08-9da7-48a5-8bc3-ad32aecd3717\",\"type\":\"ColumnDataSource\"},{\"attributes\":{\"source\":{\"id\":\"37ec79fb-1c3c-4e87-9b78-eb023dfe1afe\",\"type\":\"ColumnDataSource\"}},\"id\":\"f881b270-d555-429b-9bed-99f1542e645c\",\"type\":\"CDSView\"},{\"attributes\":{\"callback\":null,\"column_names\":[\"x\",\"y\"],\"data\":{\"x\":{\"__ndarray__\":\"fCeyS17hhD9kDF2dJNyGP1qoHjHG/Io/U4fQmZhUjz+bdaqiluuRP5Pp6YYaQ5Q/t16/n5uvlj83pm4BfS+ZP58X56Izxps/5IgxwHB0nj/Rl+O3Fp2gP2MTXFaoCKI/ivbCrjd7oz/SOfM2LMmkP3AnArYyyqU/Xq0fCoKhpj+xhlujvXinP6doVPy5Sqg/mabuG3YXqT+LsbHqKt+pP2LkpLFvh6o/R7L4YUWMqT88e+V83HemP9dc2BR07aI/bxisCJxEnz+UdkcfIzuZP3kCXO6ezJM/uwlWhoUbjz+bNfyXOZeJP4B3s4VuloU/n1CeZVUFgj/2dA0tDaB9PxdwpnR2U3o/Bk6jeVofej9p3dCd6sx5PzexLtCol3g/8gjstRKWdj+dcqwaYoZzP3TsCPZLA3A/q8cJDEOvaT8VMgDh9tVjP5T/PFrLjlw/VTbkCmyoUT+FX6oVxo86P7Z8Ovs5ySm/AHs1Xvg2GL+yD/HZ+mVQPzj+zjInAWQ/mDrgYz1obz/sv7CuISd1P8uGERjtZXo/SMzxY7N3fz8H0lWb9y+CPxP4tqV9j4Q/8B9Up9jYhj/cQooT9QiJP5flZ/pXHIs/bY1r8HwOjT/da+V+t9uOP6Jz6SXnQJA/4qamJ6P/kD934yshIqyRP+7OIUOjSJI/WybNY/DXkj/gI0T0yVyTPwx/fsYi2ZM/z9jPFptMlD/MafFXOLGUPwPh5xjA9pQ/mPeEYcoElT/2xuN+lMyUP34f7QO5WZQ/OC9vip7Gkz8PsK+l4ieTP1EUE5TVhpI/\",\"dtype\":\"float64\",\"shape\":[75]},\"y\":{\"__ndarray__\":\"GhExyth1ND/Sv8nbtpRIP2vylNV0PVE/aTum7souWD/At0SJ8fVgPw3Iuahxymc/MSNhhJWvcD/bTfBN02d3P2zb5nxnaoA/CD5h5MAGhz8NmeH1TyaQP+zrCsc9p5Y/LbKd76fGnz/bLW5ISEmmPww9YvTcQq8/JV2OstnstT8Er5Y7M8G+P0c+r3jqkcU/5h99k6ZBzj88bCIzFzjVP4enV8oyxN0//yH99nXg5D8qOpLLf0jtP5kqGJXUifQ/c9cS8kHP/D+/DpwzojQEQIEmwoanVwxA4lgXt9HgE0BSSZ2AJuIbQAMJih9jjiNA5q4l5INuK0AwTKYKRj0zQNv5fmq8/DpAaCJseHrtQkB/+zpwzoxKQM3MzMzMeFJAZmZmZmZqWEAAAAAAAFxeQM3MzMzMJmJAmpmZmZkfZUBmZmZmZhhoQDMzMzMzEWtAAAAAAAAKbkBmZmZmZoFwQM3MzMzM/XFAMzMzMzN6c0CamZmZmfZ0QAAAAAAAc3ZAZmZmZmbvd0DNzMzMzGt5QDMzMzMz6HpAmpmZmZlkfEAAAAAAAOF9QGZmZmZmXX9AZmZmZuZsgECamZmZGSuBQM3MzMxM6YFAAAAAAICngkAzMzMzs2WDQGZmZmbmI4RAmpmZmRnihEDNzMzMTKCFQAAAAACAXoZAMzMzM7Mch0BmZmZm5tqHQJqZmZkZmYhAzczMzExXiUAAAAAAgBWKQDMzMzOz04pAZmZmZuaRi0CamZmZGVCMQM3MzMxMDo1AAAAAAIDMjUAzMzMzs4qOQGZmZmbmSI9A\",\"dtype\":\"float64\",\"shape\":[75]}}},\"id\":\"59f9ff21-d3fb-4156-a494-07b65d631cf7\",\"type\":\"ColumnDataSource\"},{\"attributes\":{\"data_source\":{\"id\":\"37ec79fb-1c3c-4e87-9b78-eb023dfe1afe\",\"type\":\"ColumnDataSource\"},\"glyph\":{\"id\":\"98048a45-c082-4dec-a92f-c485def3f30c\",\"type\":\"Circle\"},\"hover_glyph\":null,\"muted_glyph\":null,\"nonselection_glyph\":{\"id\":\"0ab8a1a7-dae8-49ef-a141-8c4e74abde5e\",\"type\":\"Circle\"},\"selection_glyph\":null,\"view\":{\"id\":\"f881b270-d555-429b-9bed-99f1542e645c\",\"type\":\"CDSView\"}},\"id\":\"fb4f9335-e0e7-4778-84bb-cf78e236005b\",\"type\":\"GlyphRenderer\"},{\"attributes\":{\"axis_label\":\"cooling rate [K/day]\",\"formatter\":{\"id\":\"ba89a798-414f-473b-b991-1828d6a49774\",\"type\":\"BasicTickFormatter\"},\"plot\":{\"id\":\"16871199-1528-4784-b267-50a8a970bd3e\",\"subtype\":\"Figure\",\"type\":\"Plot\"},\"ticker\":{\"id\":\"d2748011-e821-4ff6-9347-7b459dc75202\",\"type\":\"BasicTicker\"}},\"id\":\"5866379d-2917-4e7e-a310-8a36a74e7755\",\"type\":\"LinearAxis\"},{\"attributes\":{\"source\":{\"id\":\"448ace08-9da7-48a5-8bc3-ad32aecd3717\",\"type\":\"ColumnDataSource\"}},\"id\":\"ca8d78ac-501b-4097-92ee-0fd9f6d07b27\",\"type\":\"CDSView\"},{\"attributes\":{\"children\":[{\"id\":\"f77a1eda-c6b6-4948-aab2-7268120baf5c\",\"type\":\"Row\"}]},\"id\":\"b28ae198-3b71-4ba9-ade2-19b509a23d56\",\"type\":\"Column\"},{\"attributes\":{},\"id\":\"7d7ba2c2-a656-4752-9a5b-3206dd5bfe20\",\"type\":\"BasicTicker\"},{\"attributes\":{\"callback\":null,\"end\":0.01,\"start\":1020},\"id\":\"237cbb3f-998e-4e85-9dc7-45f5c1bcbfb4\",\"type\":\"Range1d\"},{\"attributes\":{\"plot\":{\"id\":\"16871199-1528-4784-b267-50a8a970bd3e\",\"subtype\":\"Figure\",\"type\":\"Plot\"},\"ticker\":{\"id\":\"d2748011-e821-4ff6-9347-7b459dc75202\",\"type\":\"BasicTicker\"}},\"id\":\"cff94ebd-1676-4b4a-9a06-87c315929863\",\"type\":\"Grid\"},{\"attributes\":{\"axis_label\":\"pressure [mb]\",\"formatter\":{\"id\":\"65382c07-c54e-4548-8901-1948249f5a26\",\"type\":\"BasicTickFormatter\"},\"plot\":{\"id\":\"16871199-1528-4784-b267-50a8a970bd3e\",\"subtype\":\"Figure\",\"type\":\"Plot\"},\"ticker\":{\"id\":\"7d7ba2c2-a656-4752-9a5b-3206dd5bfe20\",\"type\":\"BasicTicker\"}},\"id\":\"f609a087-dfe2-4991-898a-e282a4028177\",\"type\":\"LinearAxis\"},{\"attributes\":{},\"id\":\"d2748011-e821-4ff6-9347-7b459dc75202\",\"type\":\"BasicTicker\"},{\"attributes\":{\"line_alpha\":0.1,\"line_color\":\"#1f77b4\",\"line_width\":1.5,\"x\":{\"field\":\"x\"},\"y\":{\"field\":\"y\"}},\"id\":\"0dbe58dc-cdc7-4802-a6c4-f2cc7ef3e64e\",\"type\":\"Line\"},{\"attributes\":{\"dimension\":1,\"plot\":{\"id\":\"16871199-1528-4784-b267-50a8a970bd3e\",\"subtype\":\"Figure\",\"type\":\"Plot\"},\"ticker\":{\"id\":\"7d7ba2c2-a656-4752-9a5b-3206dd5bfe20\",\"type\":\"BasicTicker\"}},\"id\":\"9df4ed8e-d9a4-45a6-b08e-c6c42bcd051b\",\"type\":\"Grid\"},{\"attributes\":{\"callback\":null,\"column_names\":[\"x\",\"y\"],\"data\":{\"x\":{\"__ndarray__\":\"fCeyS17hhD9kDF2dJNyGP1qoHjHG/Io/U4fQmZhUjz+bdaqiluuRP5Pp6YYaQ5Q/t16/n5uvlj83pm4BfS+ZP58X56Izxps/5IgxwHB0nj/Rl+O3Fp2gP2MTXFaoCKI/ivbCrjd7oz/SOfM2LMmkP3AnArYyyqU/Xq0fCoKhpj+xhlujvXinP6doVPy5Sqg/mabuG3YXqT+LsbHqKt+pP2LkpLFvh6o/R7L4YUWMqT88e+V83HemP9dc2BR07aI/bxisCJxEnz+UdkcfIzuZP3kCXO6ezJM/uwlWhoUbjz+bNfyXOZeJP4B3s4VuloU/n1CeZVUFgj/2dA0tDaB9PxdwpnR2U3o/Bk6jeVofej9p3dCd6sx5PzexLtCol3g/8gjstRKWdj+dcqwaYoZzP3TsCPZLA3A/q8cJDEOvaT8VMgDh9tVjP5T/PFrLjlw/VTbkCmyoUT+FX6oVxo86P7Z8Ovs5ySm/AHs1Xvg2GL+yD/HZ+mVQPzj+zjInAWQ/mDrgYz1obz/sv7CuISd1P8uGERjtZXo/SMzxY7N3fz8H0lWb9y+CPxP4tqV9j4Q/8B9Up9jYhj/cQooT9QiJP5flZ/pXHIs/bY1r8HwOjT/da+V+t9uOP6Jz6SXnQJA/4qamJ6P/kD934yshIqyRP+7OIUOjSJI/WybNY/DXkj/gI0T0yVyTPwx/fsYi2ZM/z9jPFptMlD/MafFXOLGUPwPh5xjA9pQ/mPeEYcoElT/2xuN+lMyUP34f7QO5WZQ/OC9vip7Gkz8PsK+l4ieTP1EUE5TVhpI/\",\"dtype\":\"float64\",\"shape\":[75]},\"y\":{\"__ndarray__\":\"GhExyth1ND/Sv8nbtpRIP2vylNV0PVE/aTum7souWD/At0SJ8fVgPw3Iuahxymc/MSNhhJWvcD/bTfBN02d3P2zb5nxnaoA/CD5h5MAGhz8NmeH1TyaQP+zrCsc9p5Y/LbKd76fGnz/bLW5ISEmmPww9YvTcQq8/JV2OstnstT8Er5Y7M8G+P0c+r3jqkcU/5h99k6ZBzj88bCIzFzjVP4enV8oyxN0//yH99nXg5D8qOpLLf0jtP5kqGJXUifQ/c9cS8kHP/D+/DpwzojQEQIEmwoanVwxA4lgXt9HgE0BSSZ2AJuIbQAMJih9jjiNA5q4l5INuK0AwTKYKRj0zQNv5fmq8/DpAaCJseHrtQkB/+zpwzoxKQM3MzMzMeFJAZmZmZmZqWEAAAAAAAFxeQM3MzMzMJmJAmpmZmZkfZUBmZmZmZhhoQDMzMzMzEWtAAAAAAAAKbkBmZmZmZoFwQM3MzMzM/XFAMzMzMzN6c0CamZmZmfZ0QAAAAAAAc3ZAZmZmZmbvd0DNzMzMzGt5QDMzMzMz6HpAmpmZmZlkfEAAAAAAAOF9QGZmZmZmXX9AZmZmZuZsgECamZmZGSuBQM3MzMxM6YFAAAAAAICngkAzMzMzs2WDQGZmZmbmI4RAmpmZmRnihEDNzMzMTKCFQAAAAACAXoZAMzMzM7Mch0BmZmZm5tqHQJqZmZkZmYhAzczMzExXiUAAAAAAgBWKQDMzMzOz04pAZmZmZuaRi0CamZmZGVCMQM3MzMxMDo1AAAAAAIDMjUAzMzMzs4qOQGZmZmbmSI9A\",\"dtype\":\"float64\",\"shape\":[75]}}},\"id\":\"37ec79fb-1c3c-4e87-9b78-eb023dfe1afe\",\"type\":\"ColumnDataSource\"},{\"attributes\":{\"bottom_units\":\"screen\",\"fill_alpha\":{\"value\":0.5},\"fill_color\":{\"value\":\"lightgrey\"},\"left_units\":\"screen\",\"level\":\"overlay\",\"line_alpha\":{\"value\":1.0},\"line_color\":{\"value\":\"black\"},\"line_dash\":[4,4],\"line_width\":{\"value\":2},\"plot\":null,\"render_mode\":\"css\",\"right_units\":\"screen\",\"top_units\":\"screen\"},\"id\":\"f9476cb4-aeab-4a2e-b638-9fbd86a3ccec\",\"type\":\"BoxAnnotation\"},{\"attributes\":{\"data_source\":{\"id\":\"59f9ff21-d3fb-4156-a494-07b65d631cf7\",\"type\":\"ColumnDataSource\"},\"glyph\":{\"id\":\"e7a0fd38-70ba-43ea-a9da-442dd8ca3ae4\",\"type\":\"Line\"},\"hover_glyph\":null,\"muted_glyph\":null,\"nonselection_glyph\":{\"id\":\"0dbe58dc-cdc7-4802-a6c4-f2cc7ef3e64e\",\"type\":\"Line\"},\"selection_glyph\":null,\"view\":{\"id\":\"b9939907-0c47-43c3-bd09-6757431f21de\",\"type\":\"CDSView\"}},\"id\":\"a9709b0d-017a-4027-b239-dea6c3a54763\",\"type\":\"GlyphRenderer\"},{\"attributes\":{\"overlay\":{\"id\":\"f9476cb4-aeab-4a2e-b638-9fbd86a3ccec\",\"type\":\"BoxAnnotation\"}},\"id\":\"a4558551-cff6-48fa-b07c-e71388033ed5\",\"type\":\"BoxZoomTool\"},{\"attributes\":{},\"id\":\"38dc2c73-bb1c-4d46-931f-7fb6c52b1004\",\"type\":\"LinearScale\"},{\"attributes\":{\"line_alpha\":0.6,\"line_color\":\"#e41a1c\",\"line_dash\":[6],\"line_width\":5,\"x\":{\"field\":\"x\"},\"y\":{\"field\":\"y\"}},\"id\":\"5ed101af-57cc-421a-a939-15df47a7388c\",\"type\":\"Line\"},{\"attributes\":{},\"id\":\"72e2635d-ffa0-41cf-b9e2-a62930eda985\",\"type\":\"PanTool\"},{\"attributes\":{},\"id\":\"9aa187af-0119-4e8d-8648-96d19e3d90c6\",\"type\":\"SaveTool\"},{\"attributes\":{},\"id\":\"439426e5-7b3b-49c3-a63e-174e6edddecd\",\"type\":\"HelpTool\"},{\"attributes\":{},\"id\":\"121a6e84-cbec-441a-a808-b03c59402172\",\"type\":\"WheelZoomTool\"},{\"attributes\":{\"dimension\":1,\"plot\":{\"id\":\"3c133f28-6a56-450b-8401-3f48e7339f6b\",\"subtype\":\"Figure\",\"type\":\"Plot\"},\"ticker\":{\"id\":\"c2d679ea-8b59-4972-817e-c111353de9c1\",\"type\":\"LogTicker\"}},\"id\":\"f1889a9b-f785-45bb-96bc-823857e5f5d1\",\"type\":\"Grid\"},{\"attributes\":{},\"id\":\"9004dc20-d043-4306-9aea-68c08eeea6a1\",\"type\":\"ResetTool\"},{\"attributes\":{},\"id\":\"08b00924-938b-4dcd-b86b-c8a7ef7363c9\",\"type\":\"LinearScale\"},{\"attributes\":{\"plot\":null,\"text\":\"Linear pressure scale\"},\"id\":\"b8b0fd13-9d4e-4b40-a36f-63b04dadd6a0\",\"type\":\"Title\"},{\"attributes\":{\"fill_alpha\":{\"value\":0.7},\"fill_color\":{\"value\":\"#984ea3\"},\"line_alpha\":{\"value\":0.7},\"line_color\":{\"value\":\"#984ea3\"},\"x\":{\"field\":\"x\"},\"y\":{\"field\":\"y\"}},\"id\":\"5eee6437-e36e-4163-8692-886a66ce2d2b\",\"type\":\"Square\"},{\"attributes\":{\"callback\":null,\"column_names\":[\"x\",\"y\"],\"data\":{\"x\":{\"__ndarray__\":\"UQkn6sT8iD/3SHcQjsGKP6XYMX/mbo4/0DpDdLEmkT9+VtSUDSmTP4ppmVvkPpU/5r9kgF5nlz8m+TLgB6GZP5gxiJSo7ps/0EsFOphQnj/sG9o30WOgP7epX63DqaE/5faK4bz4oj9ltngWxCmkP269zxTOGqU/l0F1GxzupT+t3TfeycOmP6rX9vFioqc/piLloo2CqD8aS1SHzkapP6zqVOnZBao/fj4McktNqT+sRgfc8bSmP+Iadggmp6M/NcetZeC6oD9K1WCGnuybPw0Vl1h7s5Y/lkuG95tMkj909PZddhGOP0sFIiAVn4g/VIZ78hp+gz//Wucfdrx9P2FQAubf4Xc//5qOeWG0dT93cjzKrWt0P6C2bRzFb3M/h2KXrNFbcj/qbAlqcn5wP1y9JyCsRmw/A6NyD5bZZz8Xo0yzMnZjP1G60tAgP14/6LptLs3NVT/ES5Y8bcNKP9C0ggbLFDk/+8OHPD+RQj+AX6Dz6dFaPyY2A1Y9FWk/ZL/ZyodScj/V78nJhdp3P2ou1vXRP30/sTJgqSNJgT+4ApZVwt6DP24RdTf4T4Y/9BR8+gy8iD8ofB1ClxCLPwwbDtiIMY0/J7jWq0hEjz/YpS9M8piQP1Cvynx9cZE/V2Eb/2o/kj+Eoeqtg/eSPwPnEGGRmZM/+FVH+xA1lD9epeZrybyUP2ZpB1mfPZU/vHr1L1m1lT8+4W7FjBSWP/iw99f0XZY/fIyQfhZrlj8CeVU0DTuWP3URVAWS1JU/4drqKeJKlT+6SwO7cb2UP7ddGAEzIpQ/\",\"dtype\":\"float64\",\"shape\":[75]},\"y\":{\"__ndarray__\":\"GhExyth1ND/Sv8nbtpRIP2vylNV0PVE/aTum7souWD/At0SJ8fVgPw3Iuahxymc/MSNhhJWvcD/bTfBN02d3P2zb5nxnaoA/CD5h5MAGhz8NmeH1TyaQP+zrCsc9p5Y/LbKd76fGnz/bLW5ISEmmPww9YvTcQq8/JV2OstnstT8Er5Y7M8G+P0c+r3jqkcU/5h99k6ZBzj88bCIzFzjVP4enV8oyxN0//yH99nXg5D8qOpLLf0jtP5kqGJXUifQ/c9cS8kHP/D+/DpwzojQEQIEmwoanVwxA4lgXt9HgE0BSSZ2AJuIbQAMJih9jjiNA5q4l5INuK0AwTKYKRj0zQNv5fmq8/DpAaCJseHrtQkB/+zpwzoxKQM3MzMzMeFJAZmZmZmZqWEAAAAAAAFxeQM3MzMzMJmJAmpmZmZkfZUBmZmZmZhhoQDMzMzMzEWtAAAAAAAAKbkBmZmZmZoFwQM3MzMzM/XFAMzMzMzN6c0CamZmZmfZ0QAAAAAAAc3ZAZmZmZmbvd0DNzMzMzGt5QDMzMzMz6HpAmpmZmZlkfEAAAAAAAOF9QGZmZmZmXX9AZmZmZuZsgECamZmZGSuBQM3MzMxM6YFAAAAAAICngkAzMzMzs2WDQGZmZmbmI4RAmpmZmRnihEDNzMzMTKCFQAAAAACAXoZAMzMzM7Mch0BmZmZm5tqHQJqZmZkZmYhAzczMzExXiUAAAAAAgBWKQDMzMzOz04pAZmZmZuaRi0CamZmZGVCMQM3MzMxMDo1AAAAAAIDMjUAzMzMzs4qOQGZmZmbmSI9A\",\"dtype\":\"float64\",\"shape\":[75]}}},\"id\":\"52316796-ad29-43eb-93b7-4d0d8ac837ce\",\"type\":\"ColumnDataSource\"},{\"attributes\":{\"data_source\":{\"id\":\"a8868f72-af7f-4673-a2f6-a930eb893843\",\"type\":\"ColumnDataSource\"},\"glyph\":{\"id\":\"85b9c018-b943-45dd-aee6-48dc3aa98998\",\"type\":\"Line\"},\"hover_glyph\":null,\"muted_glyph\":null,\"nonselection_glyph\":{\"id\":\"902487bd-b707-4485-b840-50b9a33f6b55\",\"type\":\"Line\"},\"selection_glyph\":null,\"view\":{\"id\":\"a55c1a66-5ca0-45d3-8093-feca8f7c3ed5\",\"type\":\"CDSView\"}},\"id\":\"a3c60fc2-cebb-4dcd-854f-f627331d8270\",\"type\":\"GlyphRenderer\"},{\"attributes\":{\"data_source\":{\"id\":\"448ace08-9da7-48a5-8bc3-ad32aecd3717\",\"type\":\"ColumnDataSource\"},\"glyph\":{\"id\":\"5ed101af-57cc-421a-a939-15df47a7388c\",\"type\":\"Line\"},\"hover_glyph\":null,\"muted_glyph\":null,\"nonselection_glyph\":{\"id\":\"e88925b3-769b-4e3c-b997-dcdb29a94e6b\",\"type\":\"Line\"},\"selection_glyph\":null,\"view\":{\"id\":\"ca8d78ac-501b-4097-92ee-0fd9f6d07b27\",\"type\":\"CDSView\"}},\"id\":\"6064a348-874e-4371-9a97-e635448b2fc4\",\"type\":\"GlyphRenderer\"},{\"attributes\":{\"source\":{\"id\":\"d73e454f-24d6-43da-a49f-64c0ed2b59da\",\"type\":\"ColumnDataSource\"}},\"id\":\"a8b90607-835d-4110-95a9-c0792fa9eb3a\",\"type\":\"CDSView\"},{\"attributes\":{},\"id\":\"74b83b00-a774-414c-84bb-f06d5d0e00d9\",\"type\":\"HelpTool\"},{\"attributes\":{\"line_alpha\":0.1,\"line_color\":\"#1f77b4\",\"line_dash\":[6],\"line_width\":5,\"x\":{\"field\":\"x\"},\"y\":{\"field\":\"y\"}},\"id\":\"e88925b3-769b-4e3c-b997-dcdb29a94e6b\",\"type\":\"Line\"},{\"attributes\":{\"callback\":null,\"column_names\":[\"x\",\"y\"],\"data\":{\"x\":{\"__ndarray__\":\"fCeyS17hhD9kDF2dJNyGP1qoHjHG/Io/U4fQmZhUjz+bdaqiluuRP5Pp6YYaQ5Q/t16/n5uvlj83pm4BfS+ZP58X56Izxps/5IgxwHB0nj/Rl+O3Fp2gP2MTXFaoCKI/ivbCrjd7oz/SOfM2LMmkP3AnArYyyqU/Xq0fCoKhpj+xhlujvXinP6doVPy5Sqg/mabuG3YXqT+LsbHqKt+pP2LkpLFvh6o/R7L4YUWMqT88e+V83HemP9dc2BR07aI/bxisCJxEnz+UdkcfIzuZP3kCXO6ezJM/uwlWhoUbjz+bNfyXOZeJP4B3s4VuloU/n1CeZVUFgj/2dA0tDaB9PxdwpnR2U3o/Bk6jeVofej9p3dCd6sx5PzexLtCol3g/8gjstRKWdj+dcqwaYoZzP3TsCPZLA3A/q8cJDEOvaT8VMgDh9tVjP5T/PFrLjlw/VTbkCmyoUT+FX6oVxo86P7Z8Ovs5ySm/AHs1Xvg2GL+yD/HZ+mVQPzj+zjInAWQ/mDrgYz1obz/sv7CuISd1P8uGERjtZXo/SMzxY7N3fz8H0lWb9y+CPxP4tqV9j4Q/8B9Up9jYhj/cQooT9QiJP5flZ/pXHIs/bY1r8HwOjT/da+V+t9uOP6Jz6SXnQJA/4qamJ6P/kD934yshIqyRP+7OIUOjSJI/WybNY/DXkj/gI0T0yVyTPwx/fsYi2ZM/z9jPFptMlD/MafFXOLGUPwPh5xjA9pQ/mPeEYcoElT/2xuN+lMyUP34f7QO5WZQ/OC9vip7Gkz8PsK+l4ieTP1EUE5TVhpI/\",\"dtype\":\"float64\",\"shape\":[75]},\"y\":{\"__ndarray__\":\"GhExyth1ND/Sv8nbtpRIP2vylNV0PVE/aTum7souWD/At0SJ8fVgPw3Iuahxymc/MSNhhJWvcD/bTfBN02d3P2zb5nxnaoA/CD5h5MAGhz8NmeH1TyaQP+zrCsc9p5Y/LbKd76fGnz/bLW5ISEmmPww9YvTcQq8/JV2OstnstT8Er5Y7M8G+P0c+r3jqkcU/5h99k6ZBzj88bCIzFzjVP4enV8oyxN0//yH99nXg5D8qOpLLf0jtP5kqGJXUifQ/c9cS8kHP/D+/DpwzojQEQIEmwoanVwxA4lgXt9HgE0BSSZ2AJuIbQAMJih9jjiNA5q4l5INuK0AwTKYKRj0zQNv5fmq8/DpAaCJseHrtQkB/+zpwzoxKQM3MzMzMeFJAZmZmZmZqWEAAAAAAAFxeQM3MzMzMJmJAmpmZmZkfZUBmZmZmZhhoQDMzMzMzEWtAAAAAAAAKbkBmZmZmZoFwQM3MzMzM/XFAMzMzMzN6c0CamZmZmfZ0QAAAAAAAc3ZAZmZmZmbvd0DNzMzMzGt5QDMzMzMz6HpAmpmZmZlkfEAAAAAAAOF9QGZmZmZmXX9AZmZmZuZsgECamZmZGSuBQM3MzMxM6YFAAAAAAICngkAzMzMzs2WDQGZmZmbmI4RAmpmZmRnihEDNzMzMTKCFQAAAAACAXoZAMzMzM7Mch0BmZmZm5tqHQJqZmZkZmYhAzczMzExXiUAAAAAAgBWKQDMzMzOz04pAZmZmZuaRi0CamZmZGVCMQM3MzMxMDo1AAAAAAIDMjUAzMzMzs4qOQGZmZmbmSI9A\",\"dtype\":\"float64\",\"shape\":[75]}}},\"id\":\"09ddb393-bf28-4a8a-a7bb-49478ae272e7\",\"type\":\"ColumnDataSource\"},{\"attributes\":{\"data_source\":{\"id\":\"b658c924-29aa-45fd-b869-c1b3991c054c\",\"type\":\"ColumnDataSource\"},\"glyph\":{\"id\":\"04640a5e-4cd6-453a-a002-056e7534636e\",\"type\":\"Line\"},\"hover_glyph\":null,\"muted_glyph\":null,\"nonselection_glyph\":{\"id\":\"70c02fb7-0aed-4692-872f-801acf6855cc\",\"type\":\"Line\"},\"selection_glyph\":null,\"view\":{\"id\":\"a2552762-c5d5-4db5-9977-c06cfc3d9916\",\"type\":\"CDSView\"}},\"id\":\"4542f432-e1c5-4f73-a41f-70bdba5dc9c6\",\"type\":\"GlyphRenderer\"},{\"attributes\":{\"num_minor_ticks\":10},\"id\":\"c2d679ea-8b59-4972-817e-c111353de9c1\",\"type\":\"LogTicker\"},{\"attributes\":{\"callback\":null,\"column_names\":[\"x\",\"y\"],\"data\":{\"x\":{\"__ndarray__\":\"fCeyS17hhD9kDF2dJNyGP1qoHjHG/Io/U4fQmZhUjz+bdaqiluuRP5Pp6YYaQ5Q/t16/n5uvlj83pm4BfS+ZP58X56Izxps/5IgxwHB0nj/Rl+O3Fp2gP2MTXFaoCKI/ivbCrjd7oz/SOfM2LMmkP3AnArYyyqU/Xq0fCoKhpj+xhlujvXinP6doVPy5Sqg/mabuG3YXqT+LsbHqKt+pP2LkpLFvh6o/R7L4YUWMqT88e+V83HemP9dc2BR07aI/bxisCJxEnz+UdkcfIzuZP3kCXO6ezJM/uwlWhoUbjz+bNfyXOZeJP4B3s4VuloU/n1CeZVUFgj/2dA0tDaB9PxdwpnR2U3o/Bk6jeVofej9p3dCd6sx5PzexLtCol3g/8gjstRKWdj+dcqwaYoZzP3TsCPZLA3A/q8cJDEOvaT8VMgDh9tVjP5T/PFrLjlw/VTbkCmyoUT+FX6oVxo86P7Z8Ovs5ySm/AHs1Xvg2GL+yD/HZ+mVQPzj+zjInAWQ/mDrgYz1obz/sv7CuISd1P8uGERjtZXo/SMzxY7N3fz8H0lWb9y+CPxP4tqV9j4Q/8B9Up9jYhj/cQooT9QiJP5flZ/pXHIs/bY1r8HwOjT/da+V+t9uOP6Jz6SXnQJA/4qamJ6P/kD934yshIqyRP+7OIUOjSJI/WybNY/DXkj/gI0T0yVyTPwx/fsYi2ZM/z9jPFptMlD/MafFXOLGUPwPh5xjA9pQ/mPeEYcoElT/2xuN+lMyUP34f7QO5WZQ/OC9vip7Gkz8PsK+l4ieTP1EUE5TVhpI/\",\"dtype\":\"float64\",\"shape\":[75]},\"y\":{\"__ndarray__\":\"GhExyth1ND/Sv8nbtpRIP2vylNV0PVE/aTum7souWD/At0SJ8fVgPw3Iuahxymc/MSNhhJWvcD/bTfBN02d3P2zb5nxnaoA/CD5h5MAGhz8NmeH1TyaQP+zrCsc9p5Y/LbKd76fGnz/bLW5ISEmmPww9YvTcQq8/JV2OstnstT8Er5Y7M8G+P0c+r3jqkcU/5h99k6ZBzj88bCIzFzjVP4enV8oyxN0//yH99nXg5D8qOpLLf0jtP5kqGJXUifQ/c9cS8kHP/D+/DpwzojQEQIEmwoanVwxA4lgXt9HgE0BSSZ2AJuIbQAMJih9jjiNA5q4l5INuK0AwTKYKRj0zQNv5fmq8/DpAaCJseHrtQkB/+zpwzoxKQM3MzMzMeFJAZmZmZmZqWEAAAAAAAFxeQM3MzMzMJmJAmpmZmZkfZUBmZmZmZhhoQDMzMzMzEWtAAAAAAAAKbkBmZmZmZoFwQM3MzMzM/XFAMzMzMzN6c0CamZmZmfZ0QAAAAAAAc3ZAZmZmZmbvd0DNzMzMzGt5QDMzMzMz6HpAmpmZmZlkfEAAAAAAAOF9QGZmZmZmXX9AZmZmZuZsgECamZmZGSuBQM3MzMxM6YFAAAAAAICngkAzMzMzs2WDQGZmZmbmI4RAmpmZmRnihEDNzMzMTKCFQAAAAACAXoZAMzMzM7Mch0BmZmZm5tqHQJqZmZkZmYhAzczMzExXiUAAAAAAgBWKQDMzMzOz04pAZmZmZuaRi0CamZmZGVCMQM3MzMxMDo1AAAAAAIDMjUAzMzMzs4qOQGZmZmbmSI9A\",\"dtype\":\"float64\",\"shape\":[75]}}},\"id\":\"b658c924-29aa-45fd-b869-c1b3991c054c\",\"type\":\"ColumnDataSource\"},{\"attributes\":{\"fill_alpha\":{\"value\":0.7},\"fill_color\":{\"value\":\"#4daf4a\"},\"line_alpha\":{\"value\":0.7},\"line_color\":{\"value\":\"#4daf4a\"},\"x\":{\"field\":\"x\"},\"y\":{\"field\":\"y\"}},\"id\":\"70628337-c13d-4d6c-85f6-85c2288a2ef3\",\"type\":\"Circle\"},{\"attributes\":{},\"id\":\"ba89a798-414f-473b-b991-1828d6a49774\",\"type\":\"BasicTickFormatter\"},{\"attributes\":{\"data_source\":{\"id\":\"09ddb393-bf28-4a8a-a7bb-49478ae272e7\",\"type\":\"ColumnDataSource\"},\"glyph\":{\"id\":\"70628337-c13d-4d6c-85f6-85c2288a2ef3\",\"type\":\"Circle\"},\"hover_glyph\":null,\"muted_glyph\":null,\"nonselection_glyph\":{\"id\":\"40de08f7-db83-4741-98ec-6d1aab42ad0a\",\"type\":\"Circle\"},\"selection_glyph\":null,\"view\":{\"id\":\"7dac48a1-3987-4a81-befb-08f15116b7ef\",\"type\":\"CDSView\"}},\"id\":\"2e162c0e-ac54-4225-8c52-d388e8e4a9db\",\"type\":\"GlyphRenderer\"},{\"attributes\":{\"data_source\":{\"id\":\"d73e454f-24d6-43da-a49f-64c0ed2b59da\",\"type\":\"ColumnDataSource\"},\"glyph\":{\"id\":\"5eee6437-e36e-4163-8692-886a66ce2d2b\",\"type\":\"Square\"},\"hover_glyph\":null,\"muted_glyph\":null,\"nonselection_glyph\":{\"id\":\"0200e776-1538-4470-84c9-f919e06702fe\",\"type\":\"Square\"},\"selection_glyph\":null,\"view\":{\"id\":\"a8b90607-835d-4110-95a9-c0792fa9eb3a\",\"type\":\"CDSView\"}},\"id\":\"91076ece-10c6-47c0-8bb5-b94205a7f80a\",\"type\":\"GlyphRenderer\"},{\"attributes\":{},\"id\":\"9f27279a-6b86-4da2-a10c-1b04723bfbb8\",\"type\":\"LinearScale\"},{\"attributes\":{\"ticker\":null},\"id\":\"92b6e070-1a96-46ef-bb58-6a03dc70a59a\",\"type\":\"LogTickFormatter\"},{\"attributes\":{},\"id\":\"2944e589-4d11-4ee3-82cb-e59b29c9ac81\",\"type\":\"SaveTool\"},{\"attributes\":{\"active_drag\":\"auto\",\"active_inspect\":\"auto\",\"active_scroll\":\"auto\",\"active_tap\":\"auto\",\"tools\":[{\"id\":\"72e2635d-ffa0-41cf-b9e2-a62930eda985\",\"type\":\"PanTool\"},{\"id\":\"121a6e84-cbec-441a-a808-b03c59402172\",\"type\":\"WheelZoomTool\"},{\"id\":\"a4558551-cff6-48fa-b07c-e71388033ed5\",\"type\":\"BoxZoomTool\"},{\"id\":\"9aa187af-0119-4e8d-8648-96d19e3d90c6\",\"type\":\"SaveTool\"},{\"id\":\"9004dc20-d043-4306-9aea-68c08eeea6a1\",\"type\":\"ResetTool\"},{\"id\":\"439426e5-7b3b-49c3-a63e-174e6edddecd\",\"type\":\"HelpTool\"}]},\"id\":\"f69321a6-5fa6-49c3-b6ff-86aab729bfcd\",\"type\":\"Toolbar\"},{\"attributes\":{\"callback\":null,\"end\":0.0221137789468,\"start\":-0.0004176280268},\"id\":\"6318853a-5938-4564-9751-080269f585d3\",\"type\":\"Range1d\"},{\"attributes\":{},\"id\":\"c72a7ded-2d22-47df-9a00-74c097d081b5\",\"type\":\"BasicTickFormatter\"},{\"attributes\":{\"fill_alpha\":{\"value\":0.1},\"fill_color\":{\"value\":\"#1f77b4\"},\"line_alpha\":{\"value\":0.1},\"line_color\":{\"value\":\"#1f77b4\"},\"x\":{\"field\":\"x\"},\"y\":{\"field\":\"y\"}},\"id\":\"40de08f7-db83-4741-98ec-6d1aab42ad0a\",\"type\":\"Circle\"},{\"attributes\":{\"fill_alpha\":{\"value\":0.1},\"fill_color\":{\"value\":\"#1f77b4\"},\"line_alpha\":{\"value\":0.1},\"line_color\":{\"value\":\"#1f77b4\"},\"x\":{\"field\":\"x\"},\"y\":{\"field\":\"y\"}},\"id\":\"0200e776-1538-4470-84c9-f919e06702fe\",\"type\":\"Square\"},{\"attributes\":{\"plot\":{\"id\":\"3c133f28-6a56-450b-8401-3f48e7339f6b\",\"subtype\":\"Figure\",\"type\":\"Plot\"},\"ticker\":{\"id\":\"7589da3a-f483-450e-bf6e-e9f7821d0d7b\",\"type\":\"BasicTicker\"}},\"id\":\"a236b495-1e0b-4b42-8656-95604d4bb451\",\"type\":\"Grid\"},{\"attributes\":{\"source\":{\"id\":\"09ddb393-bf28-4a8a-a7bb-49478ae272e7\",\"type\":\"ColumnDataSource\"}},\"id\":\"7dac48a1-3987-4a81-befb-08f15116b7ef\",\"type\":\"CDSView\"},{\"attributes\":{\"callback\":null,\"end\":0.01,\"start\":1020},\"id\":\"3f718bc5-8453-4dc2-bdea-2e313abd285c\",\"type\":\"Range1d\"},{\"attributes\":{\"data_source\":{\"id\":\"ac199c36-3b22-4983-bc79-3ecba072874f\",\"type\":\"ColumnDataSource\"},\"glyph\":{\"id\":\"f175de88-e63a-4cc6-a901-8c4023a89eb4\",\"type\":\"Line\"},\"hover_glyph\":null,\"muted_glyph\":null,\"nonselection_glyph\":{\"id\":\"9dc97d13-314d-4e58-9680-43f05f2f63f5\",\"type\":\"Line\"},\"selection_glyph\":null,\"view\":{\"id\":\"7b560f5d-f7d1-41f6-ab12-565adf45c71b\",\"type\":\"CDSView\"}},\"id\":\"49ab13dc-437f-4ec2-bf02-8dbec6dc3124\",\"type\":\"GlyphRenderer\"},{\"attributes\":{\"line_color\":\"#4daf4a\",\"line_width\":1.5,\"x\":{\"field\":\"x\"},\"y\":{\"field\":\"y\"}},\"id\":\"04640a5e-4cd6-453a-a002-056e7534636e\",\"type\":\"Line\"},{\"attributes\":{\"children\":[{\"id\":\"84cd7109-9af3-491b-9465-3807bb501b5e\",\"type\":\"ToolbarBox\"},{\"id\":\"b28ae198-3b71-4ba9-ade2-19b509a23d56\",\"type\":\"Column\"}]},\"id\":\"24b50d62-8096-4620-be31-aec423462fdf\",\"type\":\"Column\"},{\"attributes\":{\"source\":{\"id\":\"a8868f72-af7f-4673-a2f6-a930eb893843\",\"type\":\"ColumnDataSource\"}},\"id\":\"a55c1a66-5ca0-45d3-8093-feca8f7c3ed5\",\"type\":\"CDSView\"},{\"attributes\":{\"fill_alpha\":{\"value\":0.7},\"fill_color\":{\"value\":\"#4daf4a\"},\"line_alpha\":{\"value\":0.7},\"line_color\":{\"value\":\"#4daf4a\"},\"x\":{\"field\":\"x\"},\"y\":{\"field\":\"y\"}},\"id\":\"98048a45-c082-4dec-a92f-c485def3f30c\",\"type\":\"Circle\"},{\"attributes\":{\"line_alpha\":0.1,\"line_color\":\"#1f77b4\",\"line_width\":1.5,\"x\":{\"field\":\"x\"},\"y\":{\"field\":\"y\"}},\"id\":\"70c02fb7-0aed-4692-872f-801acf6855cc\",\"type\":\"Line\"},{\"attributes\":{\"callback\":null,\"column_names\":[\"x\",\"y\"],\"data\":{\"x\":{\"__ndarray__\":\"UQkn6sT8iD/3SHcQjsGKP6XYMX/mbo4/0DpDdLEmkT9+VtSUDSmTP4ppmVvkPpU/5r9kgF5nlz8m+TLgB6GZP5gxiJSo7ps/0EsFOphQnj/sG9o30WOgP7epX63DqaE/5faK4bz4oj9ltngWxCmkP269zxTOGqU/l0F1GxzupT+t3TfeycOmP6rX9vFioqc/piLloo2CqD8aS1SHzkapP6zqVOnZBao/fj4McktNqT+sRgfc8bSmP+Iadggmp6M/NcetZeC6oD9K1WCGnuybPw0Vl1h7s5Y/lkuG95tMkj909PZddhGOP0sFIiAVn4g/VIZ78hp+gz//Wucfdrx9P2FQAubf4Xc//5qOeWG0dT93cjzKrWt0P6C2bRzFb3M/h2KXrNFbcj/qbAlqcn5wP1y9JyCsRmw/A6NyD5bZZz8Xo0yzMnZjP1G60tAgP14/6LptLs3NVT/ES5Y8bcNKP9C0ggbLFDk/+8OHPD+RQj+AX6Dz6dFaPyY2A1Y9FWk/ZL/ZyodScj/V78nJhdp3P2ou1vXRP30/sTJgqSNJgT+4ApZVwt6DP24RdTf4T4Y/9BR8+gy8iD8ofB1ClxCLPwwbDtiIMY0/J7jWq0hEjz/YpS9M8piQP1Cvynx9cZE/V2Eb/2o/kj+Eoeqtg/eSPwPnEGGRmZM/+FVH+xA1lD9epeZrybyUP2ZpB1mfPZU/vHr1L1m1lT8+4W7FjBSWP/iw99f0XZY/fIyQfhZrlj8CeVU0DTuWP3URVAWS1JU/4drqKeJKlT+6SwO7cb2UP7ddGAEzIpQ/\",\"dtype\":\"float64\",\"shape\":[75]},\"y\":{\"__ndarray__\":\"GhExyth1ND/Sv8nbtpRIP2vylNV0PVE/aTum7souWD/At0SJ8fVgPw3Iuahxymc/MSNhhJWvcD/bTfBN02d3P2zb5nxnaoA/CD5h5MAGhz8NmeH1TyaQP+zrCsc9p5Y/LbKd76fGnz/bLW5ISEmmPww9YvTcQq8/JV2OstnstT8Er5Y7M8G+P0c+r3jqkcU/5h99k6ZBzj88bCIzFzjVP4enV8oyxN0//yH99nXg5D8qOpLLf0jtP5kqGJXUifQ/c9cS8kHP/D+/DpwzojQEQIEmwoanVwxA4lgXt9HgE0BSSZ2AJuIbQAMJih9jjiNA5q4l5INuK0AwTKYKRj0zQNv5fmq8/DpAaCJseHrtQkB/+zpwzoxKQM3MzMzMeFJAZmZmZmZqWEAAAAAAAFxeQM3MzMzMJmJAmpmZmZkfZUBmZmZmZhhoQDMzMzMzEWtAAAAAAAAKbkBmZmZmZoFwQM3MzMzM/XFAMzMzMzN6c0CamZmZmfZ0QAAAAAAAc3ZAZmZmZmbvd0DNzMzMzGt5QDMzMzMz6HpAmpmZmZlkfEAAAAAAAOF9QGZmZmZmXX9AZmZmZuZsgECamZmZGSuBQM3MzMxM6YFAAAAAAICngkAzMzMzs2WDQGZmZmbmI4RAmpmZmRnihEDNzMzMTKCFQAAAAACAXoZAMzMzM7Mch0BmZmZm5tqHQJqZmZkZmYhAzczMzExXiUAAAAAAgBWKQDMzMzOz04pAZmZmZuaRi0CamZmZGVCMQM3MzMxMDo1AAAAAAIDMjUAzMzMzs4qOQGZmZmbmSI9A\",\"dtype\":\"float64\",\"shape\":[75]}}},\"id\":\"8716188e-3e5e-491d-906b-502c7536e2be\",\"type\":\"ColumnDataSource\"},{\"attributes\":{\"line_alpha\":0.6,\"line_color\":\"#984ea3\",\"line_width\":3,\"x\":{\"field\":\"x\"},\"y\":{\"field\":\"y\"}},\"id\":\"f175de88-e63a-4cc6-a901-8c4023a89eb4\",\"type\":\"Line\"},{\"attributes\":{\"source\":{\"id\":\"b658c924-29aa-45fd-b869-c1b3991c054c\",\"type\":\"ColumnDataSource\"}},\"id\":\"a2552762-c5d5-4db5-9977-c06cfc3d9916\",\"type\":\"CDSView\"},{\"attributes\":{\"fill_alpha\":{\"value\":0.7},\"fill_color\":{\"value\":\"#984ea3\"},\"line_alpha\":{\"value\":0.7},\"line_color\":{\"value\":\"#984ea3\"},\"x\":{\"field\":\"x\"},\"y\":{\"field\":\"y\"}},\"id\":\"fc75c53b-98f7-4459-ac55-17cf5e3f87a9\",\"type\":\"Square\"},{\"attributes\":{\"line_alpha\":0.1,\"line_color\":\"#1f77b4\",\"line_width\":3,\"x\":{\"field\":\"x\"},\"y\":{\"field\":\"y\"}},\"id\":\"9dc97d13-314d-4e58-9680-43f05f2f63f5\",\"type\":\"Line\"},{\"attributes\":{\"callback\":null,\"column_names\":[\"x\",\"y\"],\"data\":{\"x\":{\"__ndarray__\":\"hJAImorlhj/POUruSKaHPzQ/GCenPow/+OYqIjLIjz/qDVy9QbaRPypSyU+WmZM/v436D9yNlT/JAQ+aypOXP1uWJtqSq5k/zf0zVcDVmz+rXEXSsBCeP4mmrNncLqA/zts7FwReoT9sE5tNT3GiP8En70aTSaM/Q+RhkqsHpD86IlH7vMikPxuOFLUnjaU/WjR0HttTpj8tLhQEHRqnP/b8liTCy6c/mHF7y5otpz9nX5XlzdykPwSlWboxJqI/ZsQKWQsjnz+C7z0pgTeaP0++utkIjJU/3O/UTIyfkT8J7HZlM2GNP/a3UG7laYg/XLETow2Vgz8xkQClCSp+Py2Sl7F4HHg/vlZkYTgxdT+nWbd5lxZzP609m/XjX3E/rLIQUKrMbz9KGSZPKO9rPxPjZsQGfGc/LSShayZxYz9xRdvaBlpfP0o000UbI1g/Fw1BoD8lUT8zy9r5CaZEP5xUaC5wuzM/q/Baw+oXQj+YL1M9lzVaP3GATRh8Omg/+oxtVfeocT+0Wf4GKRR3P4xCCIxZXXw/wC4PxeDCgD9VZ4fRUkaDP1U3K2PCtoU/CCnYfOUMiD92FT6aa0qKP7Zp96GOa4w/vTkLZD5sjj8ZEdYQZiSQPzE2d2vO/pA/4jVUMTrFkT+a07Z4sHmSP54OJ9qcHZM/q3TxYz6zkz8hyT9CszyUP/Q6cjxQu5Q/zWsQ2UwtlT9yh9Gcio6VP8TbOYN10pU/Wn5zjiDmlT+Unm1ear6VP3ZDWjDfZJU/WT4PEd7ulD/OSspFy22UP880a2096pM/\",\"dtype\":\"float64\",\"shape\":[75]},\"y\":{\"__ndarray__\":\"S/O/Q+51ND/Sv8nbtpRIP2vylNV0PVE/aTum7souWD/At0SJ8fVgPw3Iuahxymc/MSNhhJWvcD/bTfBN02d3P2zb5nxnaoA/CD5h5MAGhz8NmeH1TyaQP+zrCsc9p5Y/LbKd76fGnz/bLW5ISEmmPww9YvTcQq8/JV2OstnstT8Er5Y7M8G+P0c+r3jqkcU/5h99k6ZBzj88bCIzFzjVP4enV8oyxN0//yH99nXg5D8qOpLLf0jtP5kqGJXUifQ/c9cS8kHP/D+/DpwzojQEQIEmwoanVwxA4lgXt9HgE0BSSZ2AJuIbQAMJih9jjiNA5q4l5INuK0AwTKYKRj0zQNv5fmq8/DpAaCJseHrtQkB/+zpwzoxKQM3MzMzMeFJAZmZmZmZqWEAAAAAAAFxeQM3MzMzMJmJAmpmZmZkfZUBmZmZmZhhoQDMzMzMzEWtAAAAAAAAKbkBmZmZmZoFwQM3MzMzM/XFAMzMzMzN6c0CamZmZmfZ0QAAAAAAAc3ZAZmZmZmbvd0DNzMzMzGt5QDMzMzMz6HpAmpmZmZlkfEAAAAAAAOF9QGZmZmZmXX9AZmZmZuZsgECamZmZGSuBQM3MzMxM6YFAAAAAAICngkAzMzMzs2WDQGZmZmbmI4RAmpmZmRnihEDNzMzMTKCFQAAAAACAXoZAMzMzM7Mch0BmZmZm5tqHQJqZmZkZmYhAzczMzExXiUAAAAAAgBWKQDMzMzOz04pAZmZmZuaRi0CamZmZGVCMQM3MzMxMDo1AAAAAAIDMjUAzMzMzs4qOQGZmZmbmSI9A\",\"dtype\":\"float64\",\"shape\":[75]}}},\"id\":\"a8868f72-af7f-4673-a2f6-a930eb893843\",\"type\":\"ColumnDataSource\"},{\"attributes\":{\"data_source\":{\"id\":\"52316796-ad29-43eb-93b7-4d0d8ac837ce\",\"type\":\"ColumnDataSource\"},\"glyph\":{\"id\":\"fc75c53b-98f7-4459-ac55-17cf5e3f87a9\",\"type\":\"Square\"},\"hover_glyph\":null,\"muted_glyph\":null,\"nonselection_glyph\":{\"id\":\"31da0a34-ade7-4470-8c2b-bc9838b9ca4c\",\"type\":\"Square\"},\"selection_glyph\":null,\"view\":{\"id\":\"e3929563-4696-457b-be48-6439e842e6d9\",\"type\":\"CDSView\"}},\"id\":\"4dab33b1-b1fb-497b-90b8-ef78e5a77496\",\"type\":\"GlyphRenderer\"},{\"attributes\":{\"callback\":null,\"end\":0.052313556931,\"start\":0.0014145439690000003},\"id\":\"0fc029af-bed7-4e5d-bfa2-fcd2831af254\",\"type\":\"Range1d\"},{\"attributes\":{\"plot\":null,\"text\":\"Log pressure scale\"},\"id\":\"179f8112-533c-4106-aa23-4203d8b3d9d8\",\"type\":\"Title\"},{\"attributes\":{\"fill_alpha\":{\"value\":0.1},\"fill_color\":{\"value\":\"#1f77b4\"},\"line_alpha\":{\"value\":0.1},\"line_color\":{\"value\":\"#1f77b4\"},\"x\":{\"field\":\"x\"},\"y\":{\"field\":\"y\"}},\"id\":\"31da0a34-ade7-4470-8c2b-bc9838b9ca4c\",\"type\":\"Square\"},{\"attributes\":{\"source\":{\"id\":\"52316796-ad29-43eb-93b7-4d0d8ac837ce\",\"type\":\"ColumnDataSource\"}},\"id\":\"e3929563-4696-457b-be48-6439e842e6d9\",\"type\":\"CDSView\"},{\"attributes\":{\"line_alpha\":0.1,\"line_color\":\"#1f77b4\",\"line_dash\":[6],\"line_width\":5,\"x\":{\"field\":\"x\"},\"y\":{\"field\":\"y\"}},\"id\":\"902487bd-b707-4485-b840-50b9a33f6b55\",\"type\":\"Line\"},{\"attributes\":{\"line_alpha\":0.6,\"line_color\":\"#984ea3\",\"line_width\":3,\"x\":{\"field\":\"x\"},\"y\":{\"field\":\"y\"}},\"id\":\"700a21c6-e307-4cd2-88bc-8ac3aac76c25\",\"type\":\"Line\"},{\"attributes\":{\"data_source\":{\"id\":\"8716188e-3e5e-491d-906b-502c7536e2be\",\"type\":\"ColumnDataSource\"},\"glyph\":{\"id\":\"700a21c6-e307-4cd2-88bc-8ac3aac76c25\",\"type\":\"Line\"},\"hover_glyph\":null,\"muted_glyph\":null,\"nonselection_glyph\":{\"id\":\"97bdeab7-68a4-4579-9a27-25514493fe2e\",\"type\":\"Line\"},\"selection_glyph\":null,\"view\":{\"id\":\"b1009d34-7343-4048-bd7d-598f2d60e30e\",\"type\":\"CDSView\"}},\"id\":\"1c35ffba-5125-4743-bcd0-e50e8ce340dd\",\"type\":\"GlyphRenderer\"},{\"attributes\":{\"callback\":null,\"column_names\":[\"x\",\"y\"],\"data\":{\"x\":{\"__ndarray__\":\"UQkn6sT8iD/3SHcQjsGKP6XYMX/mbo4/0DpDdLEmkT9+VtSUDSmTP4ppmVvkPpU/5r9kgF5nlz8m+TLgB6GZP5gxiJSo7ps/0EsFOphQnj/sG9o30WOgP7epX63DqaE/5faK4bz4oj9ltngWxCmkP269zxTOGqU/l0F1GxzupT+t3TfeycOmP6rX9vFioqc/piLloo2CqD8aS1SHzkapP6zqVOnZBao/fj4McktNqT+sRgfc8bSmP+Iadggmp6M/NcetZeC6oD9K1WCGnuybPw0Vl1h7s5Y/lkuG95tMkj909PZddhGOP0sFIiAVn4g/VIZ78hp+gz//Wucfdrx9P2FQAubf4Xc//5qOeWG0dT93cjzKrWt0P6C2bRzFb3M/h2KXrNFbcj/qbAlqcn5wP1y9JyCsRmw/A6NyD5bZZz8Xo0yzMnZjP1G60tAgP14/6LptLs3NVT/ES5Y8bcNKP9C0ggbLFDk/+8OHPD+RQj+AX6Dz6dFaPyY2A1Y9FWk/ZL/ZyodScj/V78nJhdp3P2ou1vXRP30/sTJgqSNJgT+4ApZVwt6DP24RdTf4T4Y/9BR8+gy8iD8ofB1ClxCLPwwbDtiIMY0/J7jWq0hEjz/YpS9M8piQP1Cvynx9cZE/V2Eb/2o/kj+Eoeqtg/eSPwPnEGGRmZM/+FVH+xA1lD9epeZrybyUP2ZpB1mfPZU/vHr1L1m1lT8+4W7FjBSWP/iw99f0XZY/fIyQfhZrlj8CeVU0DTuWP3URVAWS1JU/4drqKeJKlT+6SwO7cb2UP7ddGAEzIpQ/\",\"dtype\":\"float64\",\"shape\":[75]},\"y\":{\"__ndarray__\":\"GhExyth1ND/Sv8nbtpRIP2vylNV0PVE/aTum7souWD/At0SJ8fVgPw3Iuahxymc/MSNhhJWvcD/bTfBN02d3P2zb5nxnaoA/CD5h5MAGhz8NmeH1TyaQP+zrCsc9p5Y/LbKd76fGnz/bLW5ISEmmPww9YvTcQq8/JV2OstnstT8Er5Y7M8G+P0c+r3jqkcU/5h99k6ZBzj88bCIzFzjVP4enV8oyxN0//yH99nXg5D8qOpLLf0jtP5kqGJXUifQ/c9cS8kHP/D+/DpwzojQEQIEmwoanVwxA4lgXt9HgE0BSSZ2AJuIbQAMJih9jjiNA5q4l5INuK0AwTKYKRj0zQNv5fmq8/DpAaCJseHrtQkB/+zpwzoxKQM3MzMzMeFJAZmZmZmZqWEAAAAAAAFxeQM3MzMzMJmJAmpmZmZkfZUBmZmZmZhhoQDMzMzMzEWtAAAAAAAAKbkBmZmZmZoFwQM3MzMzM/XFAMzMzMzN6c0CamZmZmfZ0QAAAAAAAc3ZAZmZmZmbvd0DNzMzMzGt5QDMzMzMz6HpAmpmZmZlkfEAAAAAAAOF9QGZmZmZmXX9AZmZmZuZsgECamZmZGSuBQM3MzMxM6YFAAAAAAICngkAzMzMzs2WDQGZmZmbmI4RAmpmZmRnihEDNzMzMTKCFQAAAAACAXoZAMzMzM7Mch0BmZmZm5tqHQJqZmZkZmYhAzczMzExXiUAAAAAAgBWKQDMzMzOz04pAZmZmZuaRi0CamZmZGVCMQM3MzMxMDo1AAAAAAIDMjUAzMzMzs4qOQGZmZmbmSI9A\",\"dtype\":\"float64\",\"shape\":[75]}}},\"id\":\"ac199c36-3b22-4983-bc79-3ecba072874f\",\"type\":\"ColumnDataSource\"},{\"attributes\":{},\"id\":\"f84e130d-6a5f-48f4-98cf-7772b4231cab\",\"type\":\"ResetTool\"},{\"attributes\":{\"line_alpha\":0.1,\"line_color\":\"#1f77b4\",\"line_width\":3,\"x\":{\"field\":\"x\"},\"y\":{\"field\":\"y\"}},\"id\":\"97bdeab7-68a4-4579-9a27-25514493fe2e\",\"type\":\"Line\"},{\"attributes\":{\"source\":{\"id\":\"59f9ff21-d3fb-4156-a494-07b65d631cf7\",\"type\":\"ColumnDataSource\"}},\"id\":\"b9939907-0c47-43c3-bd09-6757431f21de\",\"type\":\"CDSView\"},{\"attributes\":{\"source\":{\"id\":\"8716188e-3e5e-491d-906b-502c7536e2be\",\"type\":\"ColumnDataSource\"}},\"id\":\"b1009d34-7343-4048-bd7d-598f2d60e30e\",\"type\":\"CDSView\"},{\"attributes\":{\"items\":[{\"id\":\"0ca94b39-8a62-43a0-ab23-751634ae07fe\",\"type\":\"LegendItem\"},{\"id\":\"e1095378-0116-47d0-a8d5-5ea6323be0a4\",\"type\":\"LegendItem\"},{\"id\":\"c964e732-15d1-4ceb-8b18-aaf4b16b6024\",\"type\":\"LegendItem\"}],\"label_text_font_size\":{\"value\":\"8pt\"},\"location\":[10,-30],\"plot\":{\"id\":\"3c133f28-6a56-450b-8401-3f48e7339f6b\",\"subtype\":\"Figure\",\"type\":\"Plot\"}},\"id\":\"8fc528f2-a1a8-450b-8d70-85e4b08c03eb\",\"type\":\"Legend\"},{\"attributes\":{\"toolbar\":{\"id\":\"ab780d84-b497-44e2-af85-b26ebfd778d2\",\"type\":\"ProxyToolbar\"},\"toolbar_location\":\"above\"},\"id\":\"84cd7109-9af3-491b-9465-3807bb501b5e\",\"type\":\"ToolbarBox\"},{\"attributes\":{},\"id\":\"7589da3a-f483-450e-bf6e-e9f7821d0d7b\",\"type\":\"BasicTicker\"},{\"attributes\":{\"label\":{\"value\":\"CLIRAD `coolr_bands`\"},\"renderers\":[{\"id\":\"a3c60fc2-cebb-4dcd-854f-f627331d8270\",\"type\":\"GlyphRenderer\"}]},\"id\":\"0ca94b39-8a62-43a0-ab23-751634ae07fe\",\"type\":\"LegendItem\"},{\"attributes\":{},\"id\":\"c0af47a9-502b-45f6-88ef-4dcb5117d506\",\"type\":\"PanTool\"},{\"attributes\":{\"bottom_units\":\"screen\",\"fill_alpha\":{\"value\":0.5},\"fill_color\":{\"value\":\"lightgrey\"},\"left_units\":\"screen\",\"level\":\"overlay\",\"line_alpha\":{\"value\":1.0},\"line_color\":{\"value\":\"black\"},\"line_dash\":[4,4],\"line_width\":{\"value\":2},\"plot\":null,\"render_mode\":\"css\",\"right_units\":\"screen\",\"top_units\":\"screen\"},\"id\":\"bd532099-0f17-4d5e-ac47-8ce378c2ee49\",\"type\":\"BoxAnnotation\"},{\"attributes\":{\"axis_label\":\"pressure [mb]\",\"formatter\":{\"id\":\"92b6e070-1a96-46ef-bb58-6a03dc70a59a\",\"type\":\"LogTickFormatter\"},\"plot\":{\"id\":\"3c133f28-6a56-450b-8401-3f48e7339f6b\",\"subtype\":\"Figure\",\"type\":\"Plot\"},\"ticker\":{\"id\":\"c2d679ea-8b59-4972-817e-c111353de9c1\",\"type\":\"LogTicker\"}},\"id\":\"3a9b1ef3-d3a4-4e31-a200-1cf8df08460d\",\"type\":\"LogAxis\"},{\"attributes\":{},\"id\":\"3da1c3e1-455f-49c8-a8a5-8595e88ab314\",\"type\":\"WheelZoomTool\"},{\"attributes\":{\"children\":[{\"id\":\"16871199-1528-4784-b267-50a8a970bd3e\",\"subtype\":\"Figure\",\"type\":\"Plot\"},{\"id\":\"3c133f28-6a56-450b-8401-3f48e7339f6b\",\"subtype\":\"Figure\",\"type\":\"Plot\"}]},\"id\":\"f77a1eda-c6b6-4948-aab2-7268120baf5c\",\"type\":\"Row\"},{\"attributes\":{\"label\":{\"value\":\"WGT igg=10 wgt_flux=2\"},\"renderers\":[{\"id\":\"4dab33b1-b1fb-497b-90b8-ef78e5a77496\",\"type\":\"GlyphRenderer\"},{\"id\":\"1c35ffba-5125-4743-bcd0-e50e8ce340dd\",\"type\":\"GlyphRenderer\"}]},\"id\":\"c964e732-15d1-4ceb-8b18-aaf4b16b6024\",\"type\":\"LegendItem\"},{\"attributes\":{\"axis_label\":\"cooling rate [K/day]\",\"formatter\":{\"id\":\"c72a7ded-2d22-47df-9a00-74c097d081b5\",\"type\":\"BasicTickFormatter\"},\"plot\":{\"id\":\"3c133f28-6a56-450b-8401-3f48e7339f6b\",\"subtype\":\"Figure\",\"type\":\"Plot\"},\"ticker\":{\"id\":\"7589da3a-f483-450e-bf6e-e9f7821d0d7b\",\"type\":\"BasicTicker\"}},\"id\":\"a578e3e8-b4c7-4143-8692-4cdc24fe54de\",\"type\":\"LinearAxis\"},{\"attributes\":{\"line_alpha\":0.6,\"line_color\":\"#e41a1c\",\"line_dash\":[6],\"line_width\":5,\"x\":{\"field\":\"x\"},\"y\":{\"field\":\"y\"}},\"id\":\"85b9c018-b943-45dd-aee6-48dc3aa98998\",\"type\":\"Line\"},{\"attributes\":{\"below\":[{\"id\":\"5866379d-2917-4e7e-a310-8a36a74e7755\",\"type\":\"LinearAxis\"}],\"left\":[{\"id\":\"f609a087-dfe2-4991-898a-e282a4028177\",\"type\":\"LinearAxis\"}],\"plot_height\":500,\"plot_width\":400,\"renderers\":[{\"id\":\"5866379d-2917-4e7e-a310-8a36a74e7755\",\"type\":\"LinearAxis\"},{\"id\":\"cff94ebd-1676-4b4a-9a06-87c315929863\",\"type\":\"Grid\"},{\"id\":\"f609a087-dfe2-4991-898a-e282a4028177\",\"type\":\"LinearAxis\"},{\"id\":\"9df4ed8e-d9a4-45a6-b08e-c6c42bcd051b\",\"type\":\"Grid\"},{\"id\":\"f9476cb4-aeab-4a2e-b638-9fbd86a3ccec\",\"type\":\"BoxAnnotation\"},{\"id\":\"6064a348-874e-4371-9a97-e635448b2fc4\",\"type\":\"GlyphRenderer\"},{\"id\":\"fb4f9335-e0e7-4778-84bb-cf78e236005b\",\"type\":\"GlyphRenderer\"},{\"id\":\"a9709b0d-017a-4027-b239-dea6c3a54763\",\"type\":\"GlyphRenderer\"},{\"id\":\"91076ece-10c6-47c0-8bb5-b94205a7f80a\",\"type\":\"GlyphRenderer\"},{\"id\":\"49ab13dc-437f-4ec2-bf02-8dbec6dc3124\",\"type\":\"GlyphRenderer\"}],\"title\":{\"id\":\"b8b0fd13-9d4e-4b40-a36f-63b04dadd6a0\",\"type\":\"Title\"},\"toolbar\":{\"id\":\"f69321a6-5fa6-49c3-b6ff-86aab729bfcd\",\"type\":\"Toolbar\"},\"toolbar_location\":null,\"x_range\":{\"id\":\"6318853a-5938-4564-9751-080269f585d3\",\"type\":\"Range1d\"},\"x_scale\":{\"id\":\"08b00924-938b-4dcd-b86b-c8a7ef7363c9\",\"type\":\"LinearScale\"},\"y_range\":{\"id\":\"3f718bc5-8453-4dc2-bdea-2e313abd285c\",\"type\":\"Range1d\"},\"y_scale\":{\"id\":\"38dc2c73-bb1c-4d46-931f-7fb6c52b1004\",\"type\":\"LinearScale\"}},\"id\":\"16871199-1528-4784-b267-50a8a970bd3e\",\"subtype\":\"Figure\",\"type\":\"Plot\"},{\"attributes\":{\"tools\":[{\"id\":\"72e2635d-ffa0-41cf-b9e2-a62930eda985\",\"type\":\"PanTool\"},{\"id\":\"121a6e84-cbec-441a-a808-b03c59402172\",\"type\":\"WheelZoomTool\"},{\"id\":\"a4558551-cff6-48fa-b07c-e71388033ed5\",\"type\":\"BoxZoomTool\"},{\"id\":\"9aa187af-0119-4e8d-8648-96d19e3d90c6\",\"type\":\"SaveTool\"},{\"id\":\"9004dc20-d043-4306-9aea-68c08eeea6a1\",\"type\":\"ResetTool\"},{\"id\":\"439426e5-7b3b-49c3-a63e-174e6edddecd\",\"type\":\"HelpTool\"},{\"id\":\"c0af47a9-502b-45f6-88ef-4dcb5117d506\",\"type\":\"PanTool\"},{\"id\":\"3da1c3e1-455f-49c8-a8a5-8595e88ab314\",\"type\":\"WheelZoomTool\"},{\"id\":\"1f8801f6-90c9-4725-a629-f65b400d210d\",\"type\":\"BoxZoomTool\"},{\"id\":\"2944e589-4d11-4ee3-82cb-e59b29c9ac81\",\"type\":\"SaveTool\"},{\"id\":\"f84e130d-6a5f-48f4-98cf-7772b4231cab\",\"type\":\"ResetTool\"},{\"id\":\"74b83b00-a774-414c-84bb-f06d5d0e00d9\",\"type\":\"HelpTool\"}]},\"id\":\"ab780d84-b497-44e2-af85-b26ebfd778d2\",\"type\":\"ProxyToolbar\"},{\"attributes\":{},\"id\":\"addd11f0-e27a-4542-9397-0adcb3d9056d\",\"type\":\"LogScale\"},{\"attributes\":{},\"id\":\"65382c07-c54e-4548-8901-1948249f5a26\",\"type\":\"BasicTickFormatter\"},{\"attributes\":{\"callback\":null,\"column_names\":[\"x\",\"y\"],\"data\":{\"x\":{\"__ndarray__\":\"UQkn6sT8iD/3SHcQjsGKP6XYMX/mbo4/0DpDdLEmkT9+VtSUDSmTP4ppmVvkPpU/5r9kgF5nlz8m+TLgB6GZP5gxiJSo7ps/0EsFOphQnj/sG9o30WOgP7epX63DqaE/5faK4bz4oj9ltngWxCmkP269zxTOGqU/l0F1GxzupT+t3TfeycOmP6rX9vFioqc/piLloo2CqD8aS1SHzkapP6zqVOnZBao/fj4McktNqT+sRgfc8bSmP+Iadggmp6M/NcetZeC6oD9K1WCGnuybPw0Vl1h7s5Y/lkuG95tMkj909PZddhGOP0sFIiAVn4g/VIZ78hp+gz//Wucfdrx9P2FQAubf4Xc//5qOeWG0dT93cjzKrWt0P6C2bRzFb3M/h2KXrNFbcj/qbAlqcn5wP1y9JyCsRmw/A6NyD5bZZz8Xo0yzMnZjP1G60tAgP14/6LptLs3NVT/ES5Y8bcNKP9C0ggbLFDk/+8OHPD+RQj+AX6Dz6dFaPyY2A1Y9FWk/ZL/ZyodScj/V78nJhdp3P2ou1vXRP30/sTJgqSNJgT+4ApZVwt6DP24RdTf4T4Y/9BR8+gy8iD8ofB1ClxCLPwwbDtiIMY0/J7jWq0hEjz/YpS9M8piQP1Cvynx9cZE/V2Eb/2o/kj+Eoeqtg/eSPwPnEGGRmZM/+FVH+xA1lD9epeZrybyUP2ZpB1mfPZU/vHr1L1m1lT8+4W7FjBSWP/iw99f0XZY/fIyQfhZrlj8CeVU0DTuWP3URVAWS1JU/4drqKeJKlT+6SwO7cb2UP7ddGAEzIpQ/\",\"dtype\":\"float64\",\"shape\":[75]},\"y\":{\"__ndarray__\":\"GhExyth1ND/Sv8nbtpRIP2vylNV0PVE/aTum7souWD/At0SJ8fVgPw3Iuahxymc/MSNhhJWvcD/bTfBN02d3P2zb5nxnaoA/CD5h5MAGhz8NmeH1TyaQP+zrCsc9p5Y/LbKd76fGnz/bLW5ISEmmPww9YvTcQq8/JV2OstnstT8Er5Y7M8G+P0c+r3jqkcU/5h99k6ZBzj88bCIzFzjVP4enV8oyxN0//yH99nXg5D8qOpLLf0jtP5kqGJXUifQ/c9cS8kHP/D+/DpwzojQEQIEmwoanVwxA4lgXt9HgE0BSSZ2AJuIbQAMJih9jjiNA5q4l5INuK0AwTKYKRj0zQNv5fmq8/DpAaCJseHrtQkB/+zpwzoxKQM3MzMzMeFJAZmZmZmZqWEAAAAAAAFxeQM3MzMzMJmJAmpmZmZkfZUBmZmZmZhhoQDMzMzMzEWtAAAAAAAAKbkBmZmZmZoFwQM3MzMzM/XFAMzMzMzN6c0CamZmZmfZ0QAAAAAAAc3ZAZmZmZmbvd0DNzMzMzGt5QDMzMzMz6HpAmpmZmZlkfEAAAAAAAOF9QGZmZmZmXX9AZmZmZuZsgECamZmZGSuBQM3MzMxM6YFAAAAAAICngkAzMzMzs2WDQGZmZmbmI4RAmpmZmRnihEDNzMzMTKCFQAAAAACAXoZAMzMzM7Mch0BmZmZm5tqHQJqZmZkZmYhAzczMzExXiUAAAAAAgBWKQDMzMzOz04pAZmZmZuaRi0CamZmZGVCMQM3MzMxMDo1AAAAAAIDMjUAzMzMzs4qOQGZmZmbmSI9A\",\"dtype\":\"float64\",\"shape\":[75]}}},\"id\":\"d73e454f-24d6-43da-a49f-64c0ed2b59da\",\"type\":\"ColumnDataSource\"},{\"attributes\":{\"overlay\":{\"id\":\"bd532099-0f17-4d5e-ac47-8ce378c2ee49\",\"type\":\"BoxAnnotation\"}},\"id\":\"1f8801f6-90c9-4725-a629-f65b400d210d\",\"type\":\"BoxZoomTool\"},{\"attributes\":{\"below\":[{\"id\":\"a578e3e8-b4c7-4143-8692-4cdc24fe54de\",\"type\":\"LinearAxis\"}],\"left\":[{\"id\":\"3a9b1ef3-d3a4-4e31-a200-1cf8df08460d\",\"type\":\"LogAxis\"}],\"plot_height\":500,\"plot_width\":560,\"renderers\":[{\"id\":\"a578e3e8-b4c7-4143-8692-4cdc24fe54de\",\"type\":\"LinearAxis\"},{\"id\":\"a236b495-1e0b-4b42-8656-95604d4bb451\",\"type\":\"Grid\"},{\"id\":\"3a9b1ef3-d3a4-4e31-a200-1cf8df08460d\",\"type\":\"LogAxis\"},{\"id\":\"f1889a9b-f785-45bb-96bc-823857e5f5d1\",\"type\":\"Grid\"},{\"id\":\"bd532099-0f17-4d5e-ac47-8ce378c2ee49\",\"type\":\"BoxAnnotation\"},{\"id\":\"a3c60fc2-cebb-4dcd-854f-f627331d8270\",\"type\":\"GlyphRenderer\"},{\"id\":\"2e162c0e-ac54-4225-8c52-d388e8e4a9db\",\"type\":\"GlyphRenderer\"},{\"id\":\"4542f432-e1c5-4f73-a41f-70bdba5dc9c6\",\"type\":\"GlyphRenderer\"},{\"id\":\"4dab33b1-b1fb-497b-90b8-ef78e5a77496\",\"type\":\"GlyphRenderer\"},{\"id\":\"1c35ffba-5125-4743-bcd0-e50e8ce340dd\",\"type\":\"GlyphRenderer\"},{\"id\":\"8fc528f2-a1a8-450b-8d70-85e4b08c03eb\",\"type\":\"Legend\"}],\"right\":[{\"id\":\"8fc528f2-a1a8-450b-8d70-85e4b08c03eb\",\"type\":\"Legend\"}],\"title\":{\"id\":\"179f8112-533c-4106-aa23-4203d8b3d9d8\",\"type\":\"Title\"},\"toolbar\":{\"id\":\"dfa0df3a-6e73-472d-9b54-f1e1e6ff7ca6\",\"type\":\"Toolbar\"},\"toolbar_location\":null,\"x_range\":{\"id\":\"0fc029af-bed7-4e5d-bfa2-fcd2831af254\",\"type\":\"Range1d\"},\"x_scale\":{\"id\":\"9f27279a-6b86-4da2-a10c-1b04723bfbb8\",\"type\":\"LinearScale\"},\"y_range\":{\"id\":\"237cbb3f-998e-4e85-9dc7-45f5c1bcbfb4\",\"type\":\"Range1d\"},\"y_scale\":{\"id\":\"addd11f0-e27a-4542-9397-0adcb3d9056d\",\"type\":\"LogScale\"}},\"id\":\"3c133f28-6a56-450b-8401-3f48e7339f6b\",\"subtype\":\"Figure\",\"type\":\"Plot\"},{\"attributes\":{\"source\":{\"id\":\"ac199c36-3b22-4983-bc79-3ecba072874f\",\"type\":\"ColumnDataSource\"}},\"id\":\"7b560f5d-f7d1-41f6-ab12-565adf45c71b\",\"type\":\"CDSView\"},{\"attributes\":{\"label\":{\"value\":\"CRD\"},\"renderers\":[{\"id\":\"2e162c0e-ac54-4225-8c52-d388e8e4a9db\",\"type\":\"GlyphRenderer\"},{\"id\":\"4542f432-e1c5-4f73-a41f-70bdba5dc9c6\",\"type\":\"GlyphRenderer\"}]},\"id\":\"e1095378-0116-47d0-a8d5-5ea6323be0a4\",\"type\":\"LegendItem\"},{\"attributes\":{\"active_drag\":\"auto\",\"active_inspect\":\"auto\",\"active_scroll\":\"auto\",\"active_tap\":\"auto\",\"tools\":[{\"id\":\"c0af47a9-502b-45f6-88ef-4dcb5117d506\",\"type\":\"PanTool\"},{\"id\":\"3da1c3e1-455f-49c8-a8a5-8595e88ab314\",\"type\":\"WheelZoomTool\"},{\"id\":\"1f8801f6-90c9-4725-a629-f65b400d210d\",\"type\":\"BoxZoomTool\"},{\"id\":\"2944e589-4d11-4ee3-82cb-e59b29c9ac81\",\"type\":\"SaveTool\"},{\"id\":\"f84e130d-6a5f-48f4-98cf-7772b4231cab\",\"type\":\"ResetTool\"},{\"id\":\"74b83b00-a774-414c-84bb-f06d5d0e00d9\",\"type\":\"HelpTool\"}]},\"id\":\"dfa0df3a-6e73-472d-9b54-f1e1e6ff7ca6\",\"type\":\"Toolbar\"}],\"root_ids\":[\"24b50d62-8096-4620-be31-aec423462fdf\"]},\"title\":\"Bokeh Application\",\"version\":\"0.12.14\"}};\n",
       "  var render_items = [{\"docid\":\"bfd857de-a04a-4c37-9526-32ddcd69df8d\",\"elementid\":\"dcbad2aa-d405-4b24-ba5d-fc3e93331750\",\"modelid\":\"24b50d62-8096-4620-be31-aec423462fdf\"}];\n",
       "  root.Bokeh.embed.embed_items_notebook(docs_json, render_items);\n",
       "\n",
       "  }\n",
       "  if (root.Bokeh !== undefined) {\n",
       "    embed_document(root);\n",
       "  } else {\n",
       "    var attempts = 0;\n",
       "    var timer = setInterval(function(root) {\n",
       "      if (root.Bokeh !== undefined) {\n",
       "        embed_document(root);\n",
       "        clearInterval(timer);\n",
       "      }\n",
       "      attempts++;\n",
       "      if (attempts > 100) {\n",
       "        console.log(\"Bokeh: ERROR: Unable to run BokehJS code because BokehJS library is missing\")\n",
       "        clearInterval(timer);\n",
       "      }\n",
       "    }, 10, root)\n",
       "  }\n",
       "})(window);"
      ],
      "application/vnd.bokehjs_exec.v0+json": ""
     },
     "metadata": {
      "application/vnd.bokehjs_exec.v0+json": {
       "id": "24b50d62-8096-4620-be31-aec423462fdf"
      }
     },
     "output_type": "display_data"
    },
    {
     "name": "stdout",
     "output_type": "stream",
     "text": [
      "FIGURE. Cooling rate profiles.\n"
     ]
    },
    {
     "data": {
      "text/html": [
       "<a id=\"Flux_Comparison\"></a>"
      ],
      "text/plain": [
       "<IPython.core.display.HTML object>"
      ]
     },
     "metadata": {},
     "output_type": "display_data"
    },
    {
     "data": {
      "text/markdown": [
       "# Flux Comparison"
      ],
      "text/plain": [
       "<IPython.core.display.Markdown object>"
      ]
     },
     "metadata": {},
     "output_type": "display_data"
    },
    {
     "data": {
      "text/html": [
       "<div>\n",
       "<style>\n",
       "    .dataframe thead tr:only-child th {\n",
       "        text-align: right;\n",
       "    }\n",
       "\n",
       "    .dataframe thead th {\n",
       "        text-align: left;\n",
       "    }\n",
       "\n",
       "    .dataframe tbody tr th {\n",
       "        vertical-align: top;\n",
       "    }\n",
       "</style>\n",
       "<table border=\"1\" class=\"dataframe\">\n",
       "  <thead>\n",
       "    <tr style=\"text-align: right;\">\n",
       "      <th></th>\n",
       "      <th></th>\n",
       "      <th>flug</th>\n",
       "      <th>fldg</th>\n",
       "      <th>fnetg</th>\n",
       "    </tr>\n",
       "    <tr>\n",
       "      <th>pressure</th>\n",
       "      <th>level</th>\n",
       "      <th></th>\n",
       "      <th></th>\n",
       "      <th></th>\n",
       "    </tr>\n",
       "  </thead>\n",
       "  <tbody>\n",
       "    <tr>\n",
       "      <th>0.0000</th>\n",
       "      <th>1</th>\n",
       "      <td>-23.024992</td>\n",
       "      <td>0.000000</td>\n",
       "      <td>-23.024992</td>\n",
       "    </tr>\n",
       "    <tr>\n",
       "      <th>1.0685</th>\n",
       "      <th>24</th>\n",
       "      <td>-23.023513</td>\n",
       "      <td>0.004420</td>\n",
       "      <td>-23.019094</td>\n",
       "    </tr>\n",
       "    <tr>\n",
       "      <th>1013.0000</th>\n",
       "      <th>76</th>\n",
       "      <td>-23.591138</td>\n",
       "      <td>1.960934</td>\n",
       "      <td>-21.630204</td>\n",
       "    </tr>\n",
       "  </tbody>\n",
       "</table>\n",
       "</div>"
      ],
      "text/plain": [
       "                      flug      fldg      fnetg\n",
       "pressure  level                                \n",
       "0.0000    1     -23.024992  0.000000 -23.024992\n",
       "1.0685    24    -23.023513  0.004420 -23.019094\n",
       "1013.0000 76    -23.591138  1.960934 -21.630204"
      ]
     },
     "metadata": {},
     "output_type": "display_data"
    },
    {
     "name": "stdout",
     "output_type": "stream",
     "text": [
      "Table. Fluxes. WGT igg=10 wgt_flux=1\n"
     ]
    },
    {
     "data": {
      "text/html": [
       "<div>\n",
       "<style>\n",
       "    .dataframe thead tr:only-child th {\n",
       "        text-align: right;\n",
       "    }\n",
       "\n",
       "    .dataframe thead th {\n",
       "        text-align: left;\n",
       "    }\n",
       "\n",
       "    .dataframe tbody tr th {\n",
       "        vertical-align: top;\n",
       "    }\n",
       "</style>\n",
       "<table border=\"1\" class=\"dataframe\">\n",
       "  <thead>\n",
       "    <tr style=\"text-align: right;\">\n",
       "      <th></th>\n",
       "      <th></th>\n",
       "      <th>flug</th>\n",
       "      <th>fldg</th>\n",
       "      <th>fnetg</th>\n",
       "    </tr>\n",
       "    <tr>\n",
       "      <th>pressure</th>\n",
       "      <th>level</th>\n",
       "      <th></th>\n",
       "      <th></th>\n",
       "      <th></th>\n",
       "    </tr>\n",
       "  </thead>\n",
       "  <tbody>\n",
       "    <tr>\n",
       "      <th>0.0000</th>\n",
       "      <th>1</th>\n",
       "      <td>-23.029560</td>\n",
       "      <td>0.000000</td>\n",
       "      <td>-23.029560</td>\n",
       "    </tr>\n",
       "    <tr>\n",
       "      <th>1.0685</th>\n",
       "      <th>24</th>\n",
       "      <td>-23.028184</td>\n",
       "      <td>0.004588</td>\n",
       "      <td>-23.023596</td>\n",
       "    </tr>\n",
       "    <tr>\n",
       "      <th>1013.0000</th>\n",
       "      <th>76</th>\n",
       "      <td>-23.591138</td>\n",
       "      <td>1.871264</td>\n",
       "      <td>-21.719873</td>\n",
       "    </tr>\n",
       "  </tbody>\n",
       "</table>\n",
       "</div>"
      ],
      "text/plain": [
       "                      flug      fldg      fnetg\n",
       "pressure  level                                \n",
       "0.0000    1     -23.029560  0.000000 -23.029560\n",
       "1.0685    24    -23.028184  0.004588 -23.023596\n",
       "1013.0000 76    -23.591138  1.871264 -21.719873"
      ]
     },
     "metadata": {},
     "output_type": "display_data"
    },
    {
     "name": "stdout",
     "output_type": "stream",
     "text": [
      "Table. Fluxes. CRD\n"
     ]
    },
    {
     "data": {
      "text/html": [
       "<div>\n",
       "<style>\n",
       "    .dataframe thead tr:only-child th {\n",
       "        text-align: right;\n",
       "    }\n",
       "\n",
       "    .dataframe thead th {\n",
       "        text-align: left;\n",
       "    }\n",
       "\n",
       "    .dataframe tbody tr th {\n",
       "        vertical-align: top;\n",
       "    }\n",
       "</style>\n",
       "<table border=\"1\" class=\"dataframe\">\n",
       "  <thead>\n",
       "    <tr style=\"text-align: right;\">\n",
       "      <th></th>\n",
       "      <th></th>\n",
       "      <th>flug</th>\n",
       "      <th>fldg</th>\n",
       "      <th>fnetg</th>\n",
       "    </tr>\n",
       "    <tr>\n",
       "      <th>pressure</th>\n",
       "      <th>level</th>\n",
       "      <th></th>\n",
       "      <th></th>\n",
       "      <th></th>\n",
       "    </tr>\n",
       "  </thead>\n",
       "  <tbody>\n",
       "    <tr>\n",
       "      <th>1.000000e-08</th>\n",
       "      <th>1</th>\n",
       "      <td>-23.046120</td>\n",
       "      <td>0.000002</td>\n",
       "      <td>-23.046118</td>\n",
       "    </tr>\n",
       "    <tr>\n",
       "      <th>1.068500e+00</th>\n",
       "      <th>24</th>\n",
       "      <td>-23.044751</td>\n",
       "      <td>0.004034</td>\n",
       "      <td>-23.040717</td>\n",
       "    </tr>\n",
       "    <tr>\n",
       "      <th>1.013000e+03</th>\n",
       "      <th>76</th>\n",
       "      <td>-23.591140</td>\n",
       "      <td>1.895832</td>\n",
       "      <td>-21.695308</td>\n",
       "    </tr>\n",
       "  </tbody>\n",
       "</table>\n",
       "</div>"
      ],
      "text/plain": [
       "                         flug      fldg      fnetg\n",
       "pressure     level                                \n",
       "1.000000e-08 1     -23.046120  0.000002 -23.046118\n",
       "1.068500e+00 24    -23.044751  0.004034 -23.040717\n",
       "1.013000e+03 76    -23.591140  1.895832 -21.695308"
      ]
     },
     "metadata": {},
     "output_type": "display_data"
    },
    {
     "name": "stdout",
     "output_type": "stream",
     "text": [
      "Table. Fluxes. CLIRAD\n"
     ]
    },
    {
     "data": {
      "text/html": [
       "<div>\n",
       "<style>\n",
       "    .dataframe thead tr:only-child th {\n",
       "        text-align: right;\n",
       "    }\n",
       "\n",
       "    .dataframe thead th {\n",
       "        text-align: left;\n",
       "    }\n",
       "\n",
       "    .dataframe tbody tr th {\n",
       "        vertical-align: top;\n",
       "    }\n",
       "</style>\n",
       "<table border=\"1\" class=\"dataframe\">\n",
       "  <thead>\n",
       "    <tr style=\"text-align: right;\">\n",
       "      <th></th>\n",
       "      <th></th>\n",
       "      <th>flug</th>\n",
       "      <th>fldg</th>\n",
       "      <th>fnetg</th>\n",
       "    </tr>\n",
       "    <tr>\n",
       "      <th>pressure</th>\n",
       "      <th>level</th>\n",
       "      <th></th>\n",
       "      <th></th>\n",
       "      <th></th>\n",
       "    </tr>\n",
       "  </thead>\n",
       "  <tbody>\n",
       "    <tr>\n",
       "      <th>0.0000</th>\n",
       "      <th>1</th>\n",
       "      <td>-4.568470e-03</td>\n",
       "      <td>0.000000</td>\n",
       "      <td>-0.004568</td>\n",
       "    </tr>\n",
       "    <tr>\n",
       "      <th>1.0685</th>\n",
       "      <th>24</th>\n",
       "      <td>-4.670670e-03</td>\n",
       "      <td>0.000168</td>\n",
       "      <td>-0.004502</td>\n",
       "    </tr>\n",
       "    <tr>\n",
       "      <th>1013.0000</th>\n",
       "      <th>76</th>\n",
       "      <td>-3.400000e-07</td>\n",
       "      <td>-0.089670</td>\n",
       "      <td>-0.089669</td>\n",
       "    </tr>\n",
       "  </tbody>\n",
       "</table>\n",
       "</div>"
      ],
      "text/plain": [
       "                         flug      fldg     fnetg\n",
       "pressure  level                                  \n",
       "0.0000    1     -4.568470e-03  0.000000 -0.004568\n",
       "1.0685    24    -4.670670e-03  0.000168 -0.004502\n",
       "1013.0000 76    -3.400000e-07 -0.089670 -0.089669"
      ]
     },
     "metadata": {},
     "output_type": "display_data"
    },
    {
     "name": "stdout",
     "output_type": "stream",
     "text": [
      "Table. Fluxes. (CRD) - (WGT igg=10 wgt_flux=1)\n"
     ]
    },
    {
     "data": {
      "text/html": [
       "<div>\n",
       "<style>\n",
       "    .dataframe thead tr:only-child th {\n",
       "        text-align: right;\n",
       "    }\n",
       "\n",
       "    .dataframe thead th {\n",
       "        text-align: left;\n",
       "    }\n",
       "\n",
       "    .dataframe tbody tr th {\n",
       "        vertical-align: top;\n",
       "    }\n",
       "</style>\n",
       "<table border=\"1\" class=\"dataframe\">\n",
       "  <thead>\n",
       "    <tr style=\"text-align: right;\">\n",
       "      <th></th>\n",
       "      <th></th>\n",
       "      <th>flug</th>\n",
       "      <th>fldg</th>\n",
       "      <th>fnetg</th>\n",
       "    </tr>\n",
       "    <tr>\n",
       "      <th>pressure</th>\n",
       "      <th>level</th>\n",
       "      <th></th>\n",
       "      <th></th>\n",
       "      <th></th>\n",
       "    </tr>\n",
       "  </thead>\n",
       "  <tbody>\n",
       "    <tr>\n",
       "      <th>0.0000</th>\n",
       "      <th>1</th>\n",
       "      <td>-0.021128</td>\n",
       "      <td>0.000002</td>\n",
       "      <td>-0.021126</td>\n",
       "    </tr>\n",
       "    <tr>\n",
       "      <th>1.0685</th>\n",
       "      <th>24</th>\n",
       "      <td>-0.021238</td>\n",
       "      <td>-0.000386</td>\n",
       "      <td>-0.021623</td>\n",
       "    </tr>\n",
       "    <tr>\n",
       "      <th>1013.0000</th>\n",
       "      <th>76</th>\n",
       "      <td>-0.000002</td>\n",
       "      <td>-0.065102</td>\n",
       "      <td>-0.065104</td>\n",
       "    </tr>\n",
       "  </tbody>\n",
       "</table>\n",
       "</div>"
      ],
      "text/plain": [
       "                     flug      fldg     fnetg\n",
       "pressure  level                              \n",
       "0.0000    1     -0.021128  0.000002 -0.021126\n",
       "1.0685    24    -0.021238 -0.000386 -0.021623\n",
       "1013.0000 76    -0.000002 -0.065102 -0.065104"
      ]
     },
     "metadata": {},
     "output_type": "display_data"
    },
    {
     "name": "stdout",
     "output_type": "stream",
     "text": [
      "Table. Fluxes. (CLIRAD) - (WGT igg=10 wgt_flux=1)\n"
     ]
    },
    {
     "data": {
      "text/html": [
       "<a id=\"Best-fit_Parameters\"></a>"
      ],
      "text/plain": [
       "<IPython.core.display.HTML object>"
      ]
     },
     "metadata": {},
     "output_type": "display_data"
    },
    {
     "data": {
      "text/markdown": [
       "# Best-fit Parameters"
      ],
      "text/plain": [
       "<IPython.core.display.Markdown object>"
      ]
     },
     "metadata": {},
     "output_type": "display_data"
    },
    {
     "name": "stdout",
     "output_type": "stream",
     "text": [
      "Best-fit values for each (gas, band)\n",
      "------------------------------------\n",
      "o n2o band3a\n",
      "  atmpro = mls\n",
      "  band = 3a\n",
      "  commitnumber = 2bd1f75\n",
      "  conc = 3.2e-07\n",
      "  dv = 0.01\n",
      "  klin = 2.22e-20\n",
      "  molecule = n2o\n",
      "  ng_adju = [0, 0]\n",
      "  ng_refs = [1, 2]\n",
      "  nv = 100\n",
      "  option_compute_btable = 0\n",
      "  option_compute_ktable = 1\n",
      "  option_wgt_flux = 1\n",
      "  option_wgt_k = 1\n",
      "  ref_pts = [(1, 250), (500, 250)]\n",
      "  tsfc = 294\n",
      "  vmax = 620\n",
      "  vmin = 540\n",
      "  w_diffuse = [(1.8,), (1.66, 1.8)]\n",
      "  wgt = [(0.9,), (0.5, 0.95)]\n"
     ]
    }
   ],
   "source": [
    "script()"
   ]
  },
  {
   "cell_type": "code",
   "execution_count": 13,
   "metadata": {
    "collapsed": true
   },
   "outputs": [
    {
     "data": {
      "text/html": [
       "<script>\n",
       "code_show=true; \n",
       "function code_toggle() {\n",
       " if (code_show){\n",
       " $('div.input').hide();\n",
       " } else {\n",
       " $('div.input').show();\n",
       " }\n",
       " code_show = !code_show\n",
       "} \n",
       "$( document ).ready(code_toggle);\n",
       "</script>\n",
       "<form action=\"javascript:code_toggle()\"><input type=\"submit\" value=\"Click here to toggle on/off the raw code.\"></form>"
      ],
      "text/plain": [
       "<IPython.core.display.HTML object>"
      ]
     },
     "execution_count": 13,
     "metadata": {},
     "output_type": "execute_result"
    }
   ],
   "source": [
    "display.HTML('''<script>\n",
    "code_show=true; \n",
    "function code_toggle() {\n",
    " if (code_show){\n",
    " $('div.input').hide();\n",
    " } else {\n",
    " $('div.input').show();\n",
    " }\n",
    " code_show = !code_show\n",
    "} \n",
    "$( document ).ready(code_toggle);\n",
    "</script>\n",
    "<form action=\"javascript:code_toggle()\"><input type=\"submit\" value=\"Click here to toggle on/off the raw code.\"></form>''')"
   ]
  }
 ],
 "metadata": {
  "kernelspec": {
   "display_name": "Python 3",
   "language": "python",
   "name": "python3"
  },
  "language_info": {
   "codemirror_mode": {
    "name": "ipython",
    "version": 3
   },
   "file_extension": ".py",
   "mimetype": "text/x-python",
   "name": "python",
   "nbconvert_exporter": "python",
   "pygments_lexer": "ipython3",
   "version": "3.6.1"
  }
 },
 "nbformat": 4,
 "nbformat_minor": 2
}
