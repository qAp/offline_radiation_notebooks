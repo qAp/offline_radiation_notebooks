{
 "cells": [
  {
   "cell_type": "code",
   "execution_count": 1,
   "metadata": {
    "collapsed": true
   },
   "outputs": [],
   "source": [
    "%matplotlib inline\n",
    "import os\n",
    "import re\n",
    "import io\n",
    "import itertools\n",
    "import pprint\n",
    "\n",
    "from bokeh.io import output_notebook, show\n",
    "from bokeh.layouts import gridplot\n",
    "from bokeh.plotting import figure\n",
    "from bokeh.models import Range1d, Legend\n",
    "from bokeh.palettes import all_palettes\n",
    "\n",
    "import matplotlib\n",
    "import matplotlib.pyplot as plt\n",
    "import numpy as np\n",
    "import pandas as pd\n",
    "import xarray as xr\n",
    "\n",
    "import climatools.lblnew.bestfit_params as bestfits\n",
    "from climatools.lblnew import setup_bestfit, setup_overlap\n",
    "import climatools.lblnew.pipeline as pipe_lblnew\n",
    "import climatools.cliradlw.setup as setup_cliradlw\n",
    "import climatools.cliradlw.pipeline as pipe_cliradlw\n",
    "\n",
    "import climatools.html.html as climahtml\n",
    "from climatools.lblnew.dataio import *\n",
    "from climatools.plot.plot import *\n",
    "\n",
    "\n",
    "import IPython.display as display"
   ]
  },
  {
   "cell_type": "code",
   "execution_count": 2,
   "metadata": {
    "collapsed": true
   },
   "outputs": [],
   "source": [
    "%run param.py"
   ]
  },
  {
   "cell_type": "code",
   "execution_count": 3,
   "metadata": {
    "collapsed": true
   },
   "outputs": [],
   "source": [
    "def load_output_file(path_csv):\n",
    "    '''\n",
    "    Load lblnew output .csv file to xarray.Dataset\n",
    "    \n",
    "    Parameters\n",
    "    ----------\n",
    "    path_csv: str\n",
    "              Path to the .csv file to be loaded.\n",
    "    ds: xarray.Dataset\n",
    "        Data in the input file in the form of an xarray.Dataset.\n",
    "    '''\n",
    "    toindex = ['band', 'pressure', 'igg', 'g']    \n",
    "    df = pd.read_csv(path_csv, sep=r'\\s+')\n",
    "    df = df.set_index([i for i in toindex if i in df.columns])\n",
    "    df = df.rename(columns={'sfu': 'flug',\n",
    "                            'sfd': 'fldg',\n",
    "                            'fnet': 'fnetg',\n",
    "                            'coolr': 'coolrg'})\n",
    "    ds = xr.Dataset.from_dataframe(df)\n",
    "\n",
    "    for l in ('level', 'layer'):\n",
    "        if l in ds.data_vars:\n",
    "            if len(ds[l].dims) > 1:\n",
    "                surface = {d: 0 for d in ds.dims if d != 'pressure'}\n",
    "                coord_level = ds[l][surface]\n",
    "                ds.coords[l] = ('pressure', coord_level)\n",
    "            else:\n",
    "                ds.coords[l] = ('pressure', ds[l])\n",
    "    \n",
    "    return ds"
   ]
  },
  {
   "cell_type": "code",
   "execution_count": 4,
   "metadata": {
    "collapsed": true
   },
   "outputs": [],
   "source": [
    "def lblnew_setup(param=None):\n",
    "    if 'ng_refs' in param:\n",
    "        return {'setup': setup_bestfit,\n",
    "                'fname_flux_crd': 'output_flux.dat',\n",
    "                'fname_cool_crd': 'output_coolr.dat',\n",
    "                'fname_flux_wgt': 'output_wfluxg.dat',\n",
    "                'fname_cool_wgt': 'output_wcoolrg.dat'}\n",
    "    else:\n",
    "        return {'setup': setup_overlap,\n",
    "                'fname_flux_crd': 'output_flux.dat',\n",
    "                'fname_cool_crd': 'output_coolr.dat',\n",
    "                'fname_flux_wgt': 'output_wflux.dat',\n",
    "                'fname_cool_wgt': 'output_wcoolr.dat'}\n",
    "\n",
    "    \n",
    "def load_lblnew_data(param):\n",
    "    \n",
    "    fname_dsname = [('fname_flux_crd', 'ds_flux_crd'),\n",
    "                    ('fname_cool_crd', 'ds_cool_crd'),\n",
    "                    ('fname_flux_wgt', 'ds_flux_wgt'),\n",
    "                    ('fname_cool_wgt', 'ds_cool_wgt')]\n",
    "    \n",
    "    d = lblnew_setup(param)\n",
    "    dir_fortran = pipe_lblnew.get_dir_case(param, setup=d['setup'])\n",
    "    \n",
    "    data_dict = {}\n",
    "    for fname, dsname in fname_dsname:\n",
    "        fpath = os.path.join(dir_fortran, d[fname])\n",
    "        data_dict[dsname] = load_output_file(fpath)\n",
    "    return data_dict\n",
    "    \n",
    "\n",
    "    \n",
    "    "
   ]
  },
  {
   "cell_type": "code",
   "execution_count": 5,
   "metadata": {
    "collapsed": true
   },
   "outputs": [],
   "source": [
    "d = load_lblnew_data(PARAM_LBLNEW)\n",
    "\n",
    "DS_FLUX_CRD = d['ds_flux_crd']\n",
    "DS_COOL_CRD = d['ds_cool_crd']\n",
    "DS_FLUX_WGT = d['ds_flux_wgt']\n",
    "DS_COOL_WGT = d['ds_cool_wgt']"
   ]
  },
  {
   "cell_type": "code",
   "execution_count": 6,
   "metadata": {
    "collapsed": true
   },
   "outputs": [],
   "source": [
    "DIR_FORTRAN = pipe_cliradlw.get_fortran_dir(PARAM, \n",
    "                                            setup=setup_cliradlw)\n",
    "\n",
    "PATH_FLUX = os.path.join(DIR_FORTRAN, 'output_flux.dat')\n",
    "PATH_COOL = os.path.join(DIR_FORTRAN, 'output_coolr.dat')\n",
    "\n",
    "DS_FLUX = load_output_file(PATH_FLUX)\n",
    "DS_COOL = load_output_file(PATH_COOL)"
   ]
  },
  {
   "cell_type": "code",
   "execution_count": 7,
   "metadata": {
    "collapsed": true
   },
   "outputs": [
    {
     "data": {
      "text/html": [
       "\n",
       "    <div class=\"bk-root\">\n",
       "        <a href=\"https://bokeh.pydata.org\" target=\"_blank\" class=\"bk-logo bk-logo-small bk-logo-notebook\"></a>\n",
       "        <span id=\"04e336e8-2a99-42f4-a105-bfeafe7fdea3\">Loading BokehJS ...</span>\n",
       "    </div>"
      ]
     },
     "metadata": {},
     "output_type": "display_data"
    },
    {
     "data": {
      "application/javascript": [
       "\n",
       "(function(root) {\n",
       "  function now() {\n",
       "    return new Date();\n",
       "  }\n",
       "\n",
       "  var force = true;\n",
       "\n",
       "  if (typeof (root._bokeh_onload_callbacks) === \"undefined\" || force === true) {\n",
       "    root._bokeh_onload_callbacks = [];\n",
       "    root._bokeh_is_loading = undefined;\n",
       "  }\n",
       "\n",
       "  var JS_MIME_TYPE = 'application/javascript';\n",
       "  var HTML_MIME_TYPE = 'text/html';\n",
       "  var EXEC_MIME_TYPE = 'application/vnd.bokehjs_exec.v0+json';\n",
       "  var CLASS_NAME = 'output_bokeh rendered_html';\n",
       "\n",
       "  /**\n",
       "   * Render data to the DOM node\n",
       "   */\n",
       "  function render(props, node) {\n",
       "    var script = document.createElement(\"script\");\n",
       "    node.appendChild(script);\n",
       "  }\n",
       "\n",
       "  /**\n",
       "   * Handle when an output is cleared or removed\n",
       "   */\n",
       "  function handleClearOutput(event, handle) {\n",
       "    var cell = handle.cell;\n",
       "\n",
       "    var id = cell.output_area._bokeh_element_id;\n",
       "    var server_id = cell.output_area._bokeh_server_id;\n",
       "    // Clean up Bokeh references\n",
       "    if (id !== undefined) {\n",
       "      Bokeh.index[id].model.document.clear();\n",
       "      delete Bokeh.index[id];\n",
       "    }\n",
       "\n",
       "    if (server_id !== undefined) {\n",
       "      // Clean up Bokeh references\n",
       "      var cmd = \"from bokeh.io.state import curstate; print(curstate().uuid_to_server['\" + server_id + \"'].get_sessions()[0].document.roots[0]._id)\";\n",
       "      cell.notebook.kernel.execute(cmd, {\n",
       "        iopub: {\n",
       "          output: function(msg) {\n",
       "            var element_id = msg.content.text.trim();\n",
       "            Bokeh.index[element_id].model.document.clear();\n",
       "            delete Bokeh.index[element_id];\n",
       "          }\n",
       "        }\n",
       "      });\n",
       "      // Destroy server and session\n",
       "      var cmd = \"import bokeh.io.notebook as ion; ion.destroy_server('\" + server_id + \"')\";\n",
       "      cell.notebook.kernel.execute(cmd);\n",
       "    }\n",
       "  }\n",
       "\n",
       "  /**\n",
       "   * Handle when a new output is added\n",
       "   */\n",
       "  function handleAddOutput(event, handle) {\n",
       "    var output_area = handle.output_area;\n",
       "    var output = handle.output;\n",
       "\n",
       "    // limit handleAddOutput to display_data with EXEC_MIME_TYPE content only\n",
       "    if ((output.output_type != \"display_data\") || (!output.data.hasOwnProperty(EXEC_MIME_TYPE))) {\n",
       "      return\n",
       "    }\n",
       "\n",
       "    var toinsert = output_area.element.find(\".\" + CLASS_NAME.split(' ')[0]);\n",
       "\n",
       "    if (output.metadata[EXEC_MIME_TYPE][\"id\"] !== undefined) {\n",
       "      toinsert[0].firstChild.textContent = output.data[JS_MIME_TYPE];\n",
       "      // store reference to embed id on output_area\n",
       "      output_area._bokeh_element_id = output.metadata[EXEC_MIME_TYPE][\"id\"];\n",
       "    }\n",
       "    if (output.metadata[EXEC_MIME_TYPE][\"server_id\"] !== undefined) {\n",
       "      var bk_div = document.createElement(\"div\");\n",
       "      bk_div.innerHTML = output.data[HTML_MIME_TYPE];\n",
       "      var script_attrs = bk_div.children[0].attributes;\n",
       "      for (var i = 0; i < script_attrs.length; i++) {\n",
       "        toinsert[0].firstChild.setAttribute(script_attrs[i].name, script_attrs[i].value);\n",
       "      }\n",
       "      // store reference to server id on output_area\n",
       "      output_area._bokeh_server_id = output.metadata[EXEC_MIME_TYPE][\"server_id\"];\n",
       "    }\n",
       "  }\n",
       "\n",
       "  function register_renderer(events, OutputArea) {\n",
       "\n",
       "    function append_mime(data, metadata, element) {\n",
       "      // create a DOM node to render to\n",
       "      var toinsert = this.create_output_subarea(\n",
       "        metadata,\n",
       "        CLASS_NAME,\n",
       "        EXEC_MIME_TYPE\n",
       "      );\n",
       "      this.keyboard_manager.register_events(toinsert);\n",
       "      // Render to node\n",
       "      var props = {data: data, metadata: metadata[EXEC_MIME_TYPE]};\n",
       "      render(props, toinsert[0]);\n",
       "      element.append(toinsert);\n",
       "      return toinsert\n",
       "    }\n",
       "\n",
       "    /* Handle when an output is cleared or removed */\n",
       "    events.on('clear_output.CodeCell', handleClearOutput);\n",
       "    events.on('delete.Cell', handleClearOutput);\n",
       "\n",
       "    /* Handle when a new output is added */\n",
       "    events.on('output_added.OutputArea', handleAddOutput);\n",
       "\n",
       "    /**\n",
       "     * Register the mime type and append_mime function with output_area\n",
       "     */\n",
       "    OutputArea.prototype.register_mime_type(EXEC_MIME_TYPE, append_mime, {\n",
       "      /* Is output safe? */\n",
       "      safe: true,\n",
       "      /* Index of renderer in `output_area.display_order` */\n",
       "      index: 0\n",
       "    });\n",
       "  }\n",
       "\n",
       "  // register the mime type if in Jupyter Notebook environment and previously unregistered\n",
       "  if (root.Jupyter !== undefined) {\n",
       "    var events = require('base/js/events');\n",
       "    var OutputArea = require('notebook/js/outputarea').OutputArea;\n",
       "\n",
       "    if (OutputArea.prototype.mime_types().indexOf(EXEC_MIME_TYPE) == -1) {\n",
       "      register_renderer(events, OutputArea);\n",
       "    }\n",
       "  }\n",
       "\n",
       "  \n",
       "  if (typeof (root._bokeh_timeout) === \"undefined\" || force === true) {\n",
       "    root._bokeh_timeout = Date.now() + 5000;\n",
       "    root._bokeh_failed_load = false;\n",
       "  }\n",
       "\n",
       "  var NB_LOAD_WARNING = {'data': {'text/html':\n",
       "     \"<div style='background-color: #fdd'>\\n\"+\n",
       "     \"<p>\\n\"+\n",
       "     \"BokehJS does not appear to have successfully loaded. If loading BokehJS from CDN, this \\n\"+\n",
       "     \"may be due to a slow or bad network connection. Possible fixes:\\n\"+\n",
       "     \"</p>\\n\"+\n",
       "     \"<ul>\\n\"+\n",
       "     \"<li>re-rerun `output_notebook()` to attempt to load from CDN again, or</li>\\n\"+\n",
       "     \"<li>use INLINE resources instead, as so:</li>\\n\"+\n",
       "     \"</ul>\\n\"+\n",
       "     \"<code>\\n\"+\n",
       "     \"from bokeh.resources import INLINE\\n\"+\n",
       "     \"output_notebook(resources=INLINE)\\n\"+\n",
       "     \"</code>\\n\"+\n",
       "     \"</div>\"}};\n",
       "\n",
       "  function display_loaded() {\n",
       "    var el = document.getElementById(\"04e336e8-2a99-42f4-a105-bfeafe7fdea3\");\n",
       "    if (el != null) {\n",
       "      el.textContent = \"BokehJS is loading...\";\n",
       "    }\n",
       "    if (root.Bokeh !== undefined) {\n",
       "      if (el != null) {\n",
       "        el.textContent = \"BokehJS \" + root.Bokeh.version + \" successfully loaded.\";\n",
       "      }\n",
       "    } else if (Date.now() < root._bokeh_timeout) {\n",
       "      setTimeout(display_loaded, 100)\n",
       "    }\n",
       "  }\n",
       "\n",
       "\n",
       "  function run_callbacks() {\n",
       "    try {\n",
       "      root._bokeh_onload_callbacks.forEach(function(callback) { callback() });\n",
       "    }\n",
       "    finally {\n",
       "      delete root._bokeh_onload_callbacks\n",
       "    }\n",
       "    console.info(\"Bokeh: all callbacks have finished\");\n",
       "  }\n",
       "\n",
       "  function load_libs(js_urls, callback) {\n",
       "    root._bokeh_onload_callbacks.push(callback);\n",
       "    if (root._bokeh_is_loading > 0) {\n",
       "      console.log(\"Bokeh: BokehJS is being loaded, scheduling callback at\", now());\n",
       "      return null;\n",
       "    }\n",
       "    if (js_urls == null || js_urls.length === 0) {\n",
       "      run_callbacks();\n",
       "      return null;\n",
       "    }\n",
       "    console.log(\"Bokeh: BokehJS not loaded, scheduling load and callback at\", now());\n",
       "    root._bokeh_is_loading = js_urls.length;\n",
       "    for (var i = 0; i < js_urls.length; i++) {\n",
       "      var url = js_urls[i];\n",
       "      var s = document.createElement('script');\n",
       "      s.src = url;\n",
       "      s.async = false;\n",
       "      s.onreadystatechange = s.onload = function() {\n",
       "        root._bokeh_is_loading--;\n",
       "        if (root._bokeh_is_loading === 0) {\n",
       "          console.log(\"Bokeh: all BokehJS libraries loaded\");\n",
       "          run_callbacks()\n",
       "        }\n",
       "      };\n",
       "      s.onerror = function() {\n",
       "        console.warn(\"failed to load library \" + url);\n",
       "      };\n",
       "      console.log(\"Bokeh: injecting script tag for BokehJS library: \", url);\n",
       "      document.getElementsByTagName(\"head\")[0].appendChild(s);\n",
       "    }\n",
       "  };var element = document.getElementById(\"04e336e8-2a99-42f4-a105-bfeafe7fdea3\");\n",
       "  if (element == null) {\n",
       "    console.log(\"Bokeh: ERROR: autoload.js configured with elementid '04e336e8-2a99-42f4-a105-bfeafe7fdea3' but no matching script tag was found. \")\n",
       "    return false;\n",
       "  }\n",
       "\n",
       "  var js_urls = [\"https://cdn.pydata.org/bokeh/release/bokeh-0.12.14.min.js\", \"https://cdn.pydata.org/bokeh/release/bokeh-widgets-0.12.14.min.js\", \"https://cdn.pydata.org/bokeh/release/bokeh-tables-0.12.14.min.js\", \"https://cdn.pydata.org/bokeh/release/bokeh-gl-0.12.14.min.js\"];\n",
       "\n",
       "  var inline_js = [\n",
       "    function(Bokeh) {\n",
       "      Bokeh.set_log_level(\"info\");\n",
       "    },\n",
       "    \n",
       "    function(Bokeh) {\n",
       "      \n",
       "    },\n",
       "    function(Bokeh) {\n",
       "      console.log(\"Bokeh: injecting CSS: https://cdn.pydata.org/bokeh/release/bokeh-0.12.14.min.css\");\n",
       "      Bokeh.embed.inject_css(\"https://cdn.pydata.org/bokeh/release/bokeh-0.12.14.min.css\");\n",
       "      console.log(\"Bokeh: injecting CSS: https://cdn.pydata.org/bokeh/release/bokeh-widgets-0.12.14.min.css\");\n",
       "      Bokeh.embed.inject_css(\"https://cdn.pydata.org/bokeh/release/bokeh-widgets-0.12.14.min.css\");\n",
       "      console.log(\"Bokeh: injecting CSS: https://cdn.pydata.org/bokeh/release/bokeh-tables-0.12.14.min.css\");\n",
       "      Bokeh.embed.inject_css(\"https://cdn.pydata.org/bokeh/release/bokeh-tables-0.12.14.min.css\");\n",
       "    }\n",
       "  ];\n",
       "\n",
       "  function run_inline_js() {\n",
       "    \n",
       "    if ((root.Bokeh !== undefined) || (force === true)) {\n",
       "      for (var i = 0; i < inline_js.length; i++) {\n",
       "        inline_js[i].call(root, root.Bokeh);\n",
       "      }if (force === true) {\n",
       "        display_loaded();\n",
       "      }} else if (Date.now() < root._bokeh_timeout) {\n",
       "      setTimeout(run_inline_js, 100);\n",
       "    } else if (!root._bokeh_failed_load) {\n",
       "      console.log(\"Bokeh: BokehJS failed to load within specified timeout.\");\n",
       "      root._bokeh_failed_load = true;\n",
       "    } else if (force !== true) {\n",
       "      var cell = $(document.getElementById(\"04e336e8-2a99-42f4-a105-bfeafe7fdea3\")).parents('.cell').data().cell;\n",
       "      cell.output_area.append_execute_result(NB_LOAD_WARNING)\n",
       "    }\n",
       "\n",
       "  }\n",
       "\n",
       "  if (root._bokeh_is_loading === 0) {\n",
       "    console.log(\"Bokeh: BokehJS loaded, going straight to plotting\");\n",
       "    run_inline_js();\n",
       "  } else {\n",
       "    load_libs(js_urls, function() {\n",
       "      console.log(\"Bokeh: BokehJS plotting callback run at\", now());\n",
       "      run_inline_js();\n",
       "    });\n",
       "  }\n",
       "}(window));"
      ],
      "application/vnd.bokehjs_load.v0+json": "\n(function(root) {\n  function now() {\n    return new Date();\n  }\n\n  var force = true;\n\n  if (typeof (root._bokeh_onload_callbacks) === \"undefined\" || force === true) {\n    root._bokeh_onload_callbacks = [];\n    root._bokeh_is_loading = undefined;\n  }\n\n  \n\n  \n  if (typeof (root._bokeh_timeout) === \"undefined\" || force === true) {\n    root._bokeh_timeout = Date.now() + 5000;\n    root._bokeh_failed_load = false;\n  }\n\n  var NB_LOAD_WARNING = {'data': {'text/html':\n     \"<div style='background-color: #fdd'>\\n\"+\n     \"<p>\\n\"+\n     \"BokehJS does not appear to have successfully loaded. If loading BokehJS from CDN, this \\n\"+\n     \"may be due to a slow or bad network connection. Possible fixes:\\n\"+\n     \"</p>\\n\"+\n     \"<ul>\\n\"+\n     \"<li>re-rerun `output_notebook()` to attempt to load from CDN again, or</li>\\n\"+\n     \"<li>use INLINE resources instead, as so:</li>\\n\"+\n     \"</ul>\\n\"+\n     \"<code>\\n\"+\n     \"from bokeh.resources import INLINE\\n\"+\n     \"output_notebook(resources=INLINE)\\n\"+\n     \"</code>\\n\"+\n     \"</div>\"}};\n\n  function display_loaded() {\n    var el = document.getElementById(\"04e336e8-2a99-42f4-a105-bfeafe7fdea3\");\n    if (el != null) {\n      el.textContent = \"BokehJS is loading...\";\n    }\n    if (root.Bokeh !== undefined) {\n      if (el != null) {\n        el.textContent = \"BokehJS \" + root.Bokeh.version + \" successfully loaded.\";\n      }\n    } else if (Date.now() < root._bokeh_timeout) {\n      setTimeout(display_loaded, 100)\n    }\n  }\n\n\n  function run_callbacks() {\n    try {\n      root._bokeh_onload_callbacks.forEach(function(callback) { callback() });\n    }\n    finally {\n      delete root._bokeh_onload_callbacks\n    }\n    console.info(\"Bokeh: all callbacks have finished\");\n  }\n\n  function load_libs(js_urls, callback) {\n    root._bokeh_onload_callbacks.push(callback);\n    if (root._bokeh_is_loading > 0) {\n      console.log(\"Bokeh: BokehJS is being loaded, scheduling callback at\", now());\n      return null;\n    }\n    if (js_urls == null || js_urls.length === 0) {\n      run_callbacks();\n      return null;\n    }\n    console.log(\"Bokeh: BokehJS not loaded, scheduling load and callback at\", now());\n    root._bokeh_is_loading = js_urls.length;\n    for (var i = 0; i < js_urls.length; i++) {\n      var url = js_urls[i];\n      var s = document.createElement('script');\n      s.src = url;\n      s.async = false;\n      s.onreadystatechange = s.onload = function() {\n        root._bokeh_is_loading--;\n        if (root._bokeh_is_loading === 0) {\n          console.log(\"Bokeh: all BokehJS libraries loaded\");\n          run_callbacks()\n        }\n      };\n      s.onerror = function() {\n        console.warn(\"failed to load library \" + url);\n      };\n      console.log(\"Bokeh: injecting script tag for BokehJS library: \", url);\n      document.getElementsByTagName(\"head\")[0].appendChild(s);\n    }\n  };var element = document.getElementById(\"04e336e8-2a99-42f4-a105-bfeafe7fdea3\");\n  if (element == null) {\n    console.log(\"Bokeh: ERROR: autoload.js configured with elementid '04e336e8-2a99-42f4-a105-bfeafe7fdea3' but no matching script tag was found. \")\n    return false;\n  }\n\n  var js_urls = [\"https://cdn.pydata.org/bokeh/release/bokeh-0.12.14.min.js\", \"https://cdn.pydata.org/bokeh/release/bokeh-widgets-0.12.14.min.js\", \"https://cdn.pydata.org/bokeh/release/bokeh-tables-0.12.14.min.js\", \"https://cdn.pydata.org/bokeh/release/bokeh-gl-0.12.14.min.js\"];\n\n  var inline_js = [\n    function(Bokeh) {\n      Bokeh.set_log_level(\"info\");\n    },\n    \n    function(Bokeh) {\n      \n    },\n    function(Bokeh) {\n      console.log(\"Bokeh: injecting CSS: https://cdn.pydata.org/bokeh/release/bokeh-0.12.14.min.css\");\n      Bokeh.embed.inject_css(\"https://cdn.pydata.org/bokeh/release/bokeh-0.12.14.min.css\");\n      console.log(\"Bokeh: injecting CSS: https://cdn.pydata.org/bokeh/release/bokeh-widgets-0.12.14.min.css\");\n      Bokeh.embed.inject_css(\"https://cdn.pydata.org/bokeh/release/bokeh-widgets-0.12.14.min.css\");\n      console.log(\"Bokeh: injecting CSS: https://cdn.pydata.org/bokeh/release/bokeh-tables-0.12.14.min.css\");\n      Bokeh.embed.inject_css(\"https://cdn.pydata.org/bokeh/release/bokeh-tables-0.12.14.min.css\");\n    }\n  ];\n\n  function run_inline_js() {\n    \n    if ((root.Bokeh !== undefined) || (force === true)) {\n      for (var i = 0; i < inline_js.length; i++) {\n        inline_js[i].call(root, root.Bokeh);\n      }if (force === true) {\n        display_loaded();\n      }} else if (Date.now() < root._bokeh_timeout) {\n      setTimeout(run_inline_js, 100);\n    } else if (!root._bokeh_failed_load) {\n      console.log(\"Bokeh: BokehJS failed to load within specified timeout.\");\n      root._bokeh_failed_load = true;\n    } else if (force !== true) {\n      var cell = $(document.getElementById(\"04e336e8-2a99-42f4-a105-bfeafe7fdea3\")).parents('.cell').data().cell;\n      cell.output_area.append_execute_result(NB_LOAD_WARNING)\n    }\n\n  }\n\n  if (root._bokeh_is_loading === 0) {\n    console.log(\"Bokeh: BokehJS loaded, going straight to plotting\");\n    run_inline_js();\n  } else {\n    load_libs(js_urls, function() {\n      console.log(\"Bokeh: BokehJS plotting callback run at\", now());\n      run_inline_js();\n    });\n  }\n}(window));"
     },
     "metadata": {},
     "output_type": "display_data"
    }
   ],
   "source": [
    "output_notebook()"
   ]
  },
  {
   "cell_type": "code",
   "execution_count": 8,
   "metadata": {
    "collapsed": true
   },
   "outputs": [],
   "source": [
    "def fmt_cool(ds_in):\n",
    "    ds = ds_in.copy(deep=True)\n",
    "    if 'igg' in ds.dims:\n",
    "        ds = ds.sel(igg=1)\n",
    "\n",
    "    if 'g' in ds.dims:\n",
    "        ds = ds.sum('g')\n",
    "            \n",
    "    if 'band' in ds.dims:\n",
    "        try:\n",
    "            ds = ds.squeeze('band')\n",
    "        except ValueError:\n",
    "            ds = ds.sum('band')\n",
    "                \n",
    "    return ds['coolrg']\n",
    "\n",
    "\n",
    "def pltdata_cooling_1(ds_cool=None,\n",
    "                      ds_cool_crd=None, ds_cool_wgt=None):\n",
    "    \n",
    "\n",
    "\n",
    "    colors = all_palettes['Set1'][4]\n",
    "    data = [{'label': 'CLIRAD `coolr_bands`',\n",
    "             'srs': fmt_cool(ds_cool),\n",
    "             'line_dash': 'dashed', 'line_width': 5,\n",
    "             'color': colors[0], 'alpha': .6},\n",
    "            {'label': 'CRD',\n",
    "             'srs': fmt_cool(ds_cool_crd),\n",
    "             'line_dash': 'solid', 'line_width': 1.5,\n",
    "             'marker': 'circle', 'marker_size': 5,\n",
    "             'color': colors[2], 'alpha': 1,},\n",
    "            {'label': 'WGT igg=10 wgt_flux=2',\n",
    "             'srs': fmt_cool(ds_cool_wgt),\n",
    "             'line_dash': 'solid', 'line_width': 3,\n",
    "             'marker': 'square', 'marker_size': 5,\n",
    "             'color': colors[3], 'alpha': .6}]\n",
    "    return data\n",
    "\n",
    "\n",
    "def nice_xlims(pltdata=None, prange=None):\n",
    "    \n",
    "    def get_slice(srs):\n",
    "        return srs.sel(pressure=slice(*prange))\n",
    "    \n",
    "    srss = [d['srs'] for d in pltdata]\n",
    "    vmin = min([get_slice(srs).min() for srs in srss])\n",
    "    vmax = max([get_slice(srs).max() for srs in srss])\n",
    "    dv = (vmax - vmin) * .01\n",
    "    return float(vmin - dv), float(vmax + dv)\n",
    "    \n",
    "\n",
    "def plt_cooling_bokeh(pltdata=None):\n",
    "    '''\n",
    "    Plot a list of cooling rate profiles using bokeh.\n",
    "    '''\n",
    "    ymin = 1e-2 \n",
    "    ymax = 1020 \n",
    "        \n",
    "    p1 = figure(title=\"Linear pressure scale\", \n",
    "                plot_width=400)        \n",
    "    xmin, xmax = nice_xlims(pltdata, prange=(50, 1050))\n",
    "    for d in pltdata:\n",
    "        if 'marker' in d:\n",
    "            getattr(p1, d['marker'])(d['srs'].values, \n",
    "                    d['srs'].coords['pressure'].values,\n",
    "                    color=d['color'], alpha=.7)\n",
    "        p1.line(d['srs'].values, \n",
    "                d['srs'].coords['pressure'].values,\n",
    "                color=d['color'], alpha=d['alpha'], \n",
    "                line_width=d['line_width'], line_dash=d['line_dash'])\n",
    "    \n",
    "    p1.y_range = Range1d(ymax, ymin)\n",
    "    p1.yaxis.axis_label = 'pressure [mb]'   \n",
    "    p1.x_range = Range1d(xmin, xmax)\n",
    "    p1.xaxis.axis_label = 'cooling rate [K/day]'\n",
    "            \n",
    "    p2 = figure(title='Log pressure scale', y_axis_type='log',\n",
    "                plot_width=560)\n",
    "    xmin, xmax = nice_xlims(pltdata, prange=(.01, 200))\n",
    "    \n",
    "    rs = []\n",
    "    for d in pltdata:\n",
    "        rd = []\n",
    "        if 'marker' in d:\n",
    "            r_mark = getattr(p2, d['marker'])(d['srs'].values, \n",
    "                        d['srs'].coords['pressure'].values,\n",
    "                        color=d['color'], alpha=.7)\n",
    "            rd.append(r_mark)\n",
    "        r_line = p2.line(d['srs'].values, \n",
    "                    d['srs'].coords['pressure'].values,\n",
    "                    color=d['color'], alpha=d['alpha'], \n",
    "                    line_width=d['line_width'], line_dash=d['line_dash'])\n",
    "        rd.append(r_line)\n",
    "      \n",
    "        rs.append(rd)\n",
    "        \n",
    "    p2.y_range = Range1d(ymax, ymin)  \n",
    "    p2.yaxis.axis_label = 'pressure [mb]'\n",
    "    \n",
    "    p2.x_range = Range1d(xmin, xmax)\n",
    "    p2.xaxis.axis_label = 'cooling rate [K/day]'\n",
    "    \n",
    "    items = [(d['label'], r) for r, d in zip(rs, pltdata)]\n",
    "    legend = Legend(items=items, location=(10, -30))\n",
    "    legend.label_text_font_size = '8pt'\n",
    "    \n",
    "    p2.add_layout(legend, 'right')  \n",
    "    \n",
    "    show(gridplot(p1, p2, ncols=2, plot_height=500))\n",
    "    \n",
    "\n",
    "def script_plt_cooling():\n",
    "    pltdata = pltdata_cooling_1(\n",
    "        ds_cool=DS_COOL,\n",
    "        ds_cool_crd=DS_COOL_CRD,\n",
    "        ds_cool_wgt=DS_COOL_WGT)\n",
    "    plt_cooling_bokeh(pltdata=pltdata)\n",
    "    print('''FIGURE. Cooling rate profiles.''')"
   ]
  },
  {
   "cell_type": "code",
   "execution_count": 9,
   "metadata": {
    "collapsed": true
   },
   "outputs": [],
   "source": [
    "def fmt_flux(ds_in):\n",
    "    ds = ds_in.copy(deep=True)\n",
    "    \n",
    "    for l in ('level', 'layer'):\n",
    "        if l in ds.data_vars:\n",
    "            if len(ds[l].dims) > 1:\n",
    "                surface = {d: 0 for d in ds.dims if d != 'pressure'}\n",
    "                coord_level = ds[l][surface]\n",
    "                ds.coords[l] = ('pressure', coord_level)\n",
    "            else:\n",
    "                ds.coords[l] = ('pressure', ds[l])\n",
    "        \n",
    "    ds = ds.isel(pressure=[0, 23, -1])\n",
    "        \n",
    "    if 'igg' in ds.dims:\n",
    "        ds = ds.sel(igg=[1])\n",
    "        ds = ds.squeeze('igg').drop('igg')\n",
    "    \n",
    "    if 'g' in ds.dims:\n",
    "        ds = ds.sum('g')\n",
    "            \n",
    "    if 'band' in ds.dims:\n",
    "        try:\n",
    "            ds = ds.squeeze('band').drop('band')\n",
    "        except ValueError:\n",
    "            ds = ds.sum('band')\n",
    "                \n",
    "    df = ds.to_dataframe()\n",
    "    df = df.set_index('level', append=True)               \n",
    "    return df\n",
    "\n",
    "\n",
    "def tbdata_flux(ds_flux=None, ds_flux_crd=None, ds_flux_wgt=None):\n",
    "    ilevels = [0, 23, -1]\n",
    "            \n",
    "    benchmark = {'label': 'WGT igg=10 wgt_flux=1',\n",
    "                 'df': fmt_flux(ds_flux_wgt)}\n",
    "    \n",
    "    tbs = [{'label': 'CRD',\n",
    "            'df': fmt_flux(ds_flux_crd)},\n",
    "           {'label': 'CLIRAD',\n",
    "            'df': fmt_flux(ds_flux)}]\n",
    "    \n",
    "    data = {'benchmark': benchmark, 'others': tbs}\n",
    "    return data\n",
    "\n",
    "\n",
    "def tb_flux(tbdata=None):\n",
    "    benchmark = tbdata['benchmark']\n",
    "    others = tbdata['others']\n",
    "    \n",
    "    def show_tb(d=None):\n",
    "        display.display(d['df'])\n",
    "        print('Table.', 'Fluxes.', d['label'])\n",
    "        \n",
    "    def show_tbdiff(d0=None, d=None):\n",
    "        df = d['df']\n",
    "        df.index = d0['df'].index\n",
    "        display.display(df - d0['df'])\n",
    "        print('Table.', 'Fluxes.', \n",
    "              '({}) - ({})'.format(d['label'], d0['label']))\n",
    "        \n",
    "    show_tb(benchmark)\n",
    "    for d in others:\n",
    "        show_tb(d)\n",
    "        \n",
    "    for d in others:\n",
    "        show_tbdiff(d=d, d0=benchmark)\n",
    "        \n",
    "        \n",
    "def script_tb_flux():\n",
    "    data = tbdata_flux(ds_flux=DS_FLUX,\n",
    "                       ds_flux_crd=DS_FLUX_CRD,\n",
    "                       ds_flux_wgt=DS_FLUX_WGT)\n",
    "    tb_flux(tbdata=data)"
   ]
  },
  {
   "cell_type": "code",
   "execution_count": 10,
   "metadata": {
    "collapsed": true
   },
   "outputs": [],
   "source": [
    "def band_map():\n",
    "    '''\n",
    "    Maps spectral bands in lblnew to spectral bands in clirad.\n",
    "    '''\n",
    "    lblnew2clirad = {'1': '1',\n",
    "            '2': '2',\n",
    "            '3a': '3',\n",
    "            '3b': '4',\n",
    "            '3c': '5',\n",
    "            '4': '6', \n",
    "            '5': '7',\n",
    "            '6': '8',\n",
    "            '7': '9', \n",
    "            '8': '10',\n",
    "            '9': '11'}\n",
    "    \n",
    "    clirad2lblnew = {clirad: lblnew \n",
    "                     for lblnew, clirad in lblnew2clirad.items()}\n",
    "    return clirad2lblnew\n",
    "\n",
    "\n",
    "def gasbands():\n",
    "    bmap = band_map()\n",
    "    gases = list(PARAM['molecule'].keys())\n",
    "    \n",
    "    bands = [bmap[str(b)] for b in PARAM['band']]\n",
    "    return list(itertools.product(gases, bands))\n",
    "\n",
    "\n",
    "def print_bestfit_params():\n",
    "    print('Best-fit values for each (gas, band)')\n",
    "    print('------------------------------------')\n",
    "    for gas, band in gasbands():\n",
    "        print('o {} band{}'.format(gas, band))\n",
    "        param = bestfits.kdist_params(molecule=gas, band=band)\n",
    "        for name, value in sorted(param.items()):\n",
    "            print(2 * ' ' + '{} = {}'.format(name, value))\n",
    "\n",
    "        \n",
    "def print_input_param():        \n",
    "    for name, value in PARAM.items():\n",
    "        print('{} = {}'.format(name, value))\n",
    "        \n",
    "        \n",
    "def print_lblnew_param():\n",
    "    for name, value in sorted(PARAM_LBLNEW.items()):\n",
    "        print('{} = {}'.format(name, value))\n"
   ]
  },
  {
   "cell_type": "code",
   "execution_count": 11,
   "metadata": {
    "collapsed": true,
    "scrolled": false
   },
   "outputs": [],
   "source": [
    "def show_html(s):\n",
    "    display.display(display.HTML(s))\n",
    "\n",
    "    \n",
    "def show_markdown(s):\n",
    "    display.display(display.Markdown(s))\n",
    "\n",
    "    \n",
    "def script():\n",
    "    \n",
    "    title = '### CLIRAD-LW'\n",
    "    s_input = 'Input Parameters'\n",
    "    s_lblnew_param = 'LBLNEW case compaired against'\n",
    "    s_bestfits = 'Best-fit Parameters'\n",
    "    s_plt_cooling = 'Cooling Rate Profiles'\n",
    "    s_tb_flux = 'Flux Comparison'\n",
    "    \n",
    "    # title\n",
    "    show_markdown('### CLIRAD-LW')\n",
    "    \n",
    "    # TOC\n",
    "    show_markdown('### Table of Contents')\n",
    "    show_html(climahtml.getHTML_hrefanchor(s_input))\n",
    "    show_html(climahtml.getHTML_hrefanchor(s_lblnew_param))\n",
    "    show_html(climahtml.getHTML_hrefanchor(s_plt_cooling))\n",
    "    show_html(climahtml.getHTML_hrefanchor(s_tb_flux))\n",
    "    show_html(climahtml.getHTML_hrefanchor(s_bestfits))\n",
    "    \n",
    "    # Input parameters\n",
    "    show_html(climahtml.getHTML_idanchor(s_input))\n",
    "    show_markdown(climahtml.getMarkdown_sectitle(s_input))\n",
    "    print_input_param()\n",
    "    \n",
    "    # LBLNEW parameters \n",
    "    show_html(climahtml.getHTML_idanchor(s_lblnew_param))\n",
    "    show_markdown(climahtml.getMarkdown_sectitle(s_lblnew_param))\n",
    "    print_lblnew_param()\n",
    "    \n",
    "    # Cooling rate profiles\n",
    "    show_html(climahtml.getHTML_idanchor(s_plt_cooling))\n",
    "    show_markdown(climahtml.getMarkdown_sectitle(s_plt_cooling))\n",
    "    script_plt_cooling()\n",
    "    \n",
    "    # Flux comparison\n",
    "    show_html(climahtml.getHTML_idanchor(s_tb_flux))\n",
    "    show_markdown(climahtml.getMarkdown_sectitle(s_tb_flux))\n",
    "    script_tb_flux()\n",
    "    \n",
    "    # Best-fit values\n",
    "    show_html(climahtml.getHTML_idanchor(s_bestfits))\n",
    "    show_markdown(climahtml.getMarkdown_sectitle(s_bestfits))\n",
    "    print_bestfit_params()\n",
    "   \n",
    "    "
   ]
  },
  {
   "cell_type": "code",
   "execution_count": 12,
   "metadata": {
    "collapsed": true,
    "scrolled": false
   },
   "outputs": [
    {
     "data": {
      "text/markdown": [
       "### CLIRAD-LW"
      ],
      "text/plain": [
       "<IPython.core.display.Markdown object>"
      ]
     },
     "metadata": {},
     "output_type": "display_data"
    },
    {
     "data": {
      "text/markdown": [
       "### Table of Contents"
      ],
      "text/plain": [
       "<IPython.core.display.Markdown object>"
      ]
     },
     "metadata": {},
     "output_type": "display_data"
    },
    {
     "data": {
      "text/html": [
       "<a href=\"#Input_Parameters\">Input Parameters</a>"
      ],
      "text/plain": [
       "<IPython.core.display.HTML object>"
      ]
     },
     "metadata": {},
     "output_type": "display_data"
    },
    {
     "data": {
      "text/html": [
       "<a href=\"#LBLNEW_case_compaired_against\">LBLNEW case compaired against</a>"
      ],
      "text/plain": [
       "<IPython.core.display.HTML object>"
      ]
     },
     "metadata": {},
     "output_type": "display_data"
    },
    {
     "data": {
      "text/html": [
       "<a href=\"#Cooling_Rate_Profiles\">Cooling Rate Profiles</a>"
      ],
      "text/plain": [
       "<IPython.core.display.HTML object>"
      ]
     },
     "metadata": {},
     "output_type": "display_data"
    },
    {
     "data": {
      "text/html": [
       "<a href=\"#Flux_Comparison\">Flux Comparison</a>"
      ],
      "text/plain": [
       "<IPython.core.display.HTML object>"
      ]
     },
     "metadata": {},
     "output_type": "display_data"
    },
    {
     "data": {
      "text/html": [
       "<a href=\"#Best-fit_Parameters\">Best-fit Parameters</a>"
      ],
      "text/plain": [
       "<IPython.core.display.HTML object>"
      ]
     },
     "metadata": {},
     "output_type": "display_data"
    },
    {
     "data": {
      "text/html": [
       "<a id=\"Input_Parameters\"></a>"
      ],
      "text/plain": [
       "<IPython.core.display.HTML object>"
      ]
     },
     "metadata": {},
     "output_type": "display_data"
    },
    {
     "data": {
      "text/markdown": [
       "# Input Parameters"
      ],
      "text/plain": [
       "<IPython.core.display.Markdown object>"
      ]
     },
     "metadata": {},
     "output_type": "display_data"
    },
    {
     "name": "stdout",
     "output_type": "stream",
     "text": [
      "atmpro = saw\n",
      "band = [3]\n",
      "commitnumber = 0c003ef\n",
      "molecule = {'n2o': 3.2e-07}\n",
      "tsfc = 257\n"
     ]
    },
    {
     "data": {
      "text/html": [
       "<a id=\"LBLNEW_case_compaired_against\"></a>"
      ],
      "text/plain": [
       "<IPython.core.display.HTML object>"
      ]
     },
     "metadata": {},
     "output_type": "display_data"
    },
    {
     "data": {
      "text/markdown": [
       "# LBLNEW case compaired against"
      ],
      "text/plain": [
       "<IPython.core.display.Markdown object>"
      ]
     },
     "metadata": {},
     "output_type": "display_data"
    },
    {
     "name": "stdout",
     "output_type": "stream",
     "text": [
      "atmpro = saw\n",
      "band = 3a\n",
      "commitnumber = 2bd1f75\n",
      "conc = 3.2e-07\n",
      "dv = 0.01\n",
      "klin = 2.22e-20\n",
      "molecule = n2o\n",
      "ng_adju = [0, 0]\n",
      "ng_refs = [1, 2]\n",
      "nv = 100\n",
      "option_compute_btable = 0\n",
      "option_compute_ktable = 0\n",
      "option_wgt_flux = 1\n",
      "option_wgt_k = 1\n",
      "ref_pts = [(1, 250), (500, 250)]\n",
      "tsfc = 257\n",
      "vmax = 620\n",
      "vmin = 540\n",
      "w_diffuse = [(1.8,), (1.66, 1.8)]\n",
      "wgt = [(0.9,), (0.5, 0.95)]\n"
     ]
    },
    {
     "data": {
      "text/html": [
       "<a id=\"Cooling_Rate_Profiles\"></a>"
      ],
      "text/plain": [
       "<IPython.core.display.HTML object>"
      ]
     },
     "metadata": {},
     "output_type": "display_data"
    },
    {
     "data": {
      "text/markdown": [
       "# Cooling Rate Profiles"
      ],
      "text/plain": [
       "<IPython.core.display.Markdown object>"
      ]
     },
     "metadata": {},
     "output_type": "display_data"
    },
    {
     "data": {
      "text/html": [
       "\n",
       "<div class=\"bk-root\">\n",
       "    <div class=\"bk-plotdiv\" id=\"48d0ceca-973c-4bd3-865b-ea08640a5efa\"></div>\n",
       "</div>"
      ]
     },
     "metadata": {},
     "output_type": "display_data"
    },
    {
     "data": {
      "application/javascript": [
       "(function(root) {\n",
       "  function embed_document(root) {\n",
       "    \n",
       "  var docs_json = {\"07492946-3823-4393-95ea-0118769b2c36\":{\"roots\":{\"references\":[{\"attributes\":{},\"id\":\"2c8b5fbc-d4bd-4d17-8f65-24c1588cebca\",\"type\":\"BasicTickFormatter\"},{\"attributes\":{\"line_color\":\"#4daf4a\",\"line_width\":1.5,\"x\":{\"field\":\"x\"},\"y\":{\"field\":\"y\"}},\"id\":\"2f75222a-88a5-4cf9-aba9-d9fdfb71b3a0\",\"type\":\"Line\"},{\"attributes\":{\"line_alpha\":0.1,\"line_color\":\"#1f77b4\",\"line_dash\":[6],\"line_width\":5,\"x\":{\"field\":\"x\"},\"y\":{\"field\":\"y\"}},\"id\":\"d4d1c553-1f06-4b0d-94b6-e39f9f377312\",\"type\":\"Line\"},{\"attributes\":{\"line_alpha\":0.6,\"line_color\":\"#984ea3\",\"line_width\":3,\"x\":{\"field\":\"x\"},\"y\":{\"field\":\"y\"}},\"id\":\"36c53824-d5d5-49ab-918c-63bf87424ecb\",\"type\":\"Line\"},{\"attributes\":{\"line_alpha\":0.1,\"line_color\":\"#1f77b4\",\"line_width\":3,\"x\":{\"field\":\"x\"},\"y\":{\"field\":\"y\"}},\"id\":\"30a1d458-1162-431b-91d8-6183cc9809b4\",\"type\":\"Line\"},{\"attributes\":{\"active_drag\":\"auto\",\"active_inspect\":\"auto\",\"active_scroll\":\"auto\",\"active_tap\":\"auto\",\"tools\":[{\"id\":\"5b355aab-36dd-4528-9547-31ee18cdfee3\",\"type\":\"PanTool\"},{\"id\":\"659eb408-f82b-46c0-9e27-0e63c43fb0e9\",\"type\":\"WheelZoomTool\"},{\"id\":\"ea42788e-4eff-44e5-bc3f-973e6a1f1d77\",\"type\":\"BoxZoomTool\"},{\"id\":\"d8c4aff6-a680-41ac-9adb-8fccc0b143bc\",\"type\":\"SaveTool\"},{\"id\":\"6906ea19-aceb-48f3-8fe8-1ac98970cc24\",\"type\":\"ResetTool\"},{\"id\":\"cbb1f628-57d8-4ebe-89bc-1c45b9400d1a\",\"type\":\"HelpTool\"}]},\"id\":\"107c8178-5268-42dd-b01f-444763a23740\",\"type\":\"Toolbar\"},{\"attributes\":{\"fill_alpha\":{\"value\":0.1},\"fill_color\":{\"value\":\"#1f77b4\"},\"line_alpha\":{\"value\":0.1},\"line_color\":{\"value\":\"#1f77b4\"},\"x\":{\"field\":\"x\"},\"y\":{\"field\":\"y\"}},\"id\":\"64f21e50-63db-4d0e-bc2a-1e99cf9c78f7\",\"type\":\"Square\"},{\"attributes\":{\"source\":{\"id\":\"c2a30632-7e7e-460b-b113-4a78b7751c31\",\"type\":\"ColumnDataSource\"}},\"id\":\"e6301804-03c8-48a1-a635-0dd1520ff55b\",\"type\":\"CDSView\"},{\"attributes\":{\"source\":{\"id\":\"0abec739-3d13-40c8-abad-4b901236cefd\",\"type\":\"ColumnDataSource\"}},\"id\":\"1184cb43-1c03-49e1-8d5d-2af29578a99c\",\"type\":\"CDSView\"},{\"attributes\":{\"data_source\":{\"id\":\"c2a30632-7e7e-460b-b113-4a78b7751c31\",\"type\":\"ColumnDataSource\"},\"glyph\":{\"id\":\"2f75222a-88a5-4cf9-aba9-d9fdfb71b3a0\",\"type\":\"Line\"},\"hover_glyph\":null,\"muted_glyph\":null,\"nonselection_glyph\":{\"id\":\"860adcea-ff8c-4558-a495-1a1e3eb81b22\",\"type\":\"Line\"},\"selection_glyph\":null,\"view\":{\"id\":\"e6301804-03c8-48a1-a635-0dd1520ff55b\",\"type\":\"CDSView\"}},\"id\":\"9636a54d-b75a-4f75-9009-dc6fe5ad0cf9\",\"type\":\"GlyphRenderer\"},{\"attributes\":{\"data_source\":{\"id\":\"d0ecc6d0-76bf-49f3-a7c9-1924f7345d7d\",\"type\":\"ColumnDataSource\"},\"glyph\":{\"id\":\"e9375412-1063-4913-8e9b-89fe60776973\",\"type\":\"Circle\"},\"hover_glyph\":null,\"muted_glyph\":null,\"nonselection_glyph\":{\"id\":\"655b4a87-88b3-47cc-8d51-23f08cf31d93\",\"type\":\"Circle\"},\"selection_glyph\":null,\"view\":{\"id\":\"6315c96e-72cd-4805-bb22-c9f68880833b\",\"type\":\"CDSView\"}},\"id\":\"bc2d1747-0331-4450-87db-67b84ec2a66d\",\"type\":\"GlyphRenderer\"},{\"attributes\":{\"callback\":null,\"column_names\":[\"x\",\"y\"],\"data\":{\"x\":{\"__ndarray__\":\"UQkn6sT8iD/3SHcQjsGKP6XYMX/mbo4/0DpDdLEmkT9+VtSUDSmTP4ppmVvkPpU/5r9kgF5nlz8m+TLgB6GZP5gxiJSo7ps/0EsFOphQnj/sG9o30WOgP7epX63DqaE/5faK4bz4oj9ltngWxCmkP269zxTOGqU/l0F1GxzupT+t3TfeycOmP6rX9vFioqc/piLloo2CqD8aS1SHzkapP6zqVOnZBao/fj4McktNqT+sRgfc8bSmP+Iadggmp6M/NcetZeC6oD9K1WCGnuybPw0Vl1h7s5Y/lkuG95tMkj909PZddhGOP0sFIiAVn4g/VIZ78hp+gz//Wucfdrx9P2FQAubf4Xc//5qOeWG0dT93cjzKrWt0P6C2bRzFb3M/h2KXrNFbcj/qbAlqcn5wP1y9JyCsRmw/A6NyD5bZZz8Xo0yzMnZjP1G60tAgP14/6LptLs3NVT/ES5Y8bcNKP9C0ggbLFDk/+8OHPD+RQj+AX6Dz6dFaPyY2A1Y9FWk/ZL/ZyodScj/V78nJhdp3P2ou1vXRP30/sTJgqSNJgT+4ApZVwt6DP24RdTf4T4Y/9BR8+gy8iD8ofB1ClxCLPwwbDtiIMY0/J7jWq0hEjz/YpS9M8piQP1Cvynx9cZE/V2Eb/2o/kj+Eoeqtg/eSPwPnEGGRmZM/+FVH+xA1lD9epeZrybyUP2ZpB1mfPZU/vHr1L1m1lT8+4W7FjBSWP/iw99f0XZY/fIyQfhZrlj8CeVU0DTuWP3URVAWS1JU/4drqKeJKlT+6SwO7cb2UP7ddGAEzIpQ/\",\"dtype\":\"float64\",\"shape\":[75]},\"y\":{\"__ndarray__\":\"GhExyth1ND/Sv8nbtpRIP2vylNV0PVE/aTum7souWD/At0SJ8fVgPw3Iuahxymc/MSNhhJWvcD/bTfBN02d3P2zb5nxnaoA/CD5h5MAGhz8NmeH1TyaQP+zrCsc9p5Y/LbKd76fGnz/bLW5ISEmmPww9YvTcQq8/JV2OstnstT8Er5Y7M8G+P0c+r3jqkcU/5h99k6ZBzj88bCIzFzjVP4enV8oyxN0//yH99nXg5D8qOpLLf0jtP5kqGJXUifQ/c9cS8kHP/D+/DpwzojQEQIEmwoanVwxA4lgXt9HgE0BSSZ2AJuIbQAMJih9jjiNA5q4l5INuK0AwTKYKRj0zQNv5fmq8/DpAaCJseHrtQkB/+zpwzoxKQM3MzMzMeFJAZmZmZmZqWEAAAAAAAFxeQM3MzMzMJmJAmpmZmZkfZUBmZmZmZhhoQDMzMzMzEWtAAAAAAAAKbkBmZmZmZoFwQM3MzMzM/XFAMzMzMzN6c0CamZmZmfZ0QAAAAAAAc3ZAZmZmZmbvd0DNzMzMzGt5QDMzMzMz6HpAmpmZmZlkfEAAAAAAAOF9QGZmZmZmXX9AZmZmZuZsgECamZmZGSuBQM3MzMxM6YFAAAAAAICngkAzMzMzs2WDQGZmZmbmI4RAmpmZmRnihEDNzMzMTKCFQAAAAACAXoZAMzMzM7Mch0BmZmZm5tqHQJqZmZkZmYhAzczMzExXiUAAAAAAgBWKQDMzMzOz04pAZmZmZuaRi0CamZmZGVCMQM3MzMxMDo1AAAAAAIDMjUAzMzMzs4qOQGZmZmbmSI9A\",\"dtype\":\"float64\",\"shape\":[75]}}},\"id\":\"0abec739-3d13-40c8-abad-4b901236cefd\",\"type\":\"ColumnDataSource\"},{\"attributes\":{},\"id\":\"c960a046-ac22-4f5a-a7b8-07beaa0113a7\",\"type\":\"BasicTicker\"},{\"attributes\":{\"below\":[{\"id\":\"9f4e5089-ef9b-4e38-871d-b392dac8341e\",\"type\":\"LinearAxis\"}],\"left\":[{\"id\":\"010d707f-65f3-4035-9868-44d6ec091d8d\",\"type\":\"LogAxis\"}],\"plot_height\":500,\"plot_width\":560,\"renderers\":[{\"id\":\"9f4e5089-ef9b-4e38-871d-b392dac8341e\",\"type\":\"LinearAxis\"},{\"id\":\"210e9d76-25c0-4c50-b62a-b66ca568a086\",\"type\":\"Grid\"},{\"id\":\"010d707f-65f3-4035-9868-44d6ec091d8d\",\"type\":\"LogAxis\"},{\"id\":\"742ab6f9-2738-4d2c-8ad0-f2d9b4525109\",\"type\":\"Grid\"},{\"id\":\"b8921b3e-7670-470c-bb07-a2947d3f8e27\",\"type\":\"BoxAnnotation\"},{\"id\":\"49509fbe-81fb-479c-9761-1358805135a1\",\"type\":\"GlyphRenderer\"},{\"id\":\"802b2d69-c7af-464f-bc76-60ef34258a78\",\"type\":\"GlyphRenderer\"},{\"id\":\"66cbbea7-6159-4fc6-b1ef-9d13fef200d3\",\"type\":\"GlyphRenderer\"},{\"id\":\"47a0c1e1-1c1d-4294-8641-6b0bf79dc09e\",\"type\":\"GlyphRenderer\"},{\"id\":\"b1e450f6-2731-41c4-9ae5-ce1090ac2eb2\",\"type\":\"GlyphRenderer\"},{\"id\":\"7bb478e7-3515-4829-a6b9-f3b6ea65bcf3\",\"type\":\"Legend\"}],\"right\":[{\"id\":\"7bb478e7-3515-4829-a6b9-f3b6ea65bcf3\",\"type\":\"Legend\"}],\"title\":{\"id\":\"2a745f16-c513-45cf-b651-93e72e0c0248\",\"type\":\"Title\"},\"toolbar\":{\"id\":\"107c8178-5268-42dd-b01f-444763a23740\",\"type\":\"Toolbar\"},\"toolbar_location\":null,\"x_range\":{\"id\":\"ee7d8144-86de-43bd-bba0-e5e240d818c2\",\"type\":\"Range1d\"},\"x_scale\":{\"id\":\"12704ecb-a3f6-473d-a7f1-157700679132\",\"type\":\"LinearScale\"},\"y_range\":{\"id\":\"9a539f48-1b39-4fc6-a7d5-204d18c282c9\",\"type\":\"Range1d\"},\"y_scale\":{\"id\":\"6825088f-66af-46fd-8264-c0f983a6ae74\",\"type\":\"LogScale\"}},\"id\":\"a23bcf55-7895-4514-845f-0cf694a72f00\",\"subtype\":\"Figure\",\"type\":\"Plot\"},{\"attributes\":{\"data_source\":{\"id\":\"88fa8b4a-a60d-43ac-8719-4116453bed63\",\"type\":\"ColumnDataSource\"},\"glyph\":{\"id\":\"36c53824-d5d5-49ab-918c-63bf87424ecb\",\"type\":\"Line\"},\"hover_glyph\":null,\"muted_glyph\":null,\"nonselection_glyph\":{\"id\":\"30a1d458-1162-431b-91d8-6183cc9809b4\",\"type\":\"Line\"},\"selection_glyph\":null,\"view\":{\"id\":\"c9ddeeb7-e70c-4efb-83ea-fc7d0882c637\",\"type\":\"CDSView\"}},\"id\":\"5b93031a-4f3b-4634-b57d-5954e033d793\",\"type\":\"GlyphRenderer\"},{\"attributes\":{\"axis_label\":\"cooling rate [K/day]\",\"formatter\":{\"id\":\"2c8b5fbc-d4bd-4d17-8f65-24c1588cebca\",\"type\":\"BasicTickFormatter\"},\"plot\":{\"id\":\"c7f2426a-8b1d-4049-9a0e-56fab35a57fc\",\"subtype\":\"Figure\",\"type\":\"Plot\"},\"ticker\":{\"id\":\"c960a046-ac22-4f5a-a7b8-07beaa0113a7\",\"type\":\"BasicTicker\"}},\"id\":\"9ee3d4b2-0fe5-4425-91d4-a18f6e625316\",\"type\":\"LinearAxis\"},{\"attributes\":{\"data_source\":{\"id\":\"0abec739-3d13-40c8-abad-4b901236cefd\",\"type\":\"ColumnDataSource\"},\"glyph\":{\"id\":\"cca891fa-2cba-4e30-bcb8-29630af0c3fc\",\"type\":\"Square\"},\"hover_glyph\":null,\"muted_glyph\":null,\"nonselection_glyph\":{\"id\":\"64f21e50-63db-4d0e-bc2a-1e99cf9c78f7\",\"type\":\"Square\"},\"selection_glyph\":null,\"view\":{\"id\":\"1184cb43-1c03-49e1-8d5d-2af29578a99c\",\"type\":\"CDSView\"}},\"id\":\"7e77a59d-9549-4530-b397-5ada2e8a6159\",\"type\":\"GlyphRenderer\"},{\"attributes\":{},\"id\":\"55cd1791-d9e2-4e0f-8eb9-fad7b6c7d5ef\",\"type\":\"LinearScale\"},{\"attributes\":{},\"id\":\"cdb78837-3c16-4796-9320-4d7e50c1ee91\",\"type\":\"SaveTool\"},{\"attributes\":{\"source\":{\"id\":\"7e5eda3a-46f4-4010-ad44-941a6727a873\",\"type\":\"ColumnDataSource\"}},\"id\":\"ffb555c0-67ed-48af-89e9-d81383e89fd8\",\"type\":\"CDSView\"},{\"attributes\":{\"callback\":null,\"column_names\":[\"x\",\"y\"],\"data\":{\"x\":{\"__ndarray__\":\"UQkn6sT8iD/3SHcQjsGKP6XYMX/mbo4/0DpDdLEmkT9+VtSUDSmTP4ppmVvkPpU/5r9kgF5nlz8m+TLgB6GZP5gxiJSo7ps/0EsFOphQnj/sG9o30WOgP7epX63DqaE/5faK4bz4oj9ltngWxCmkP269zxTOGqU/l0F1GxzupT+t3TfeycOmP6rX9vFioqc/piLloo2CqD8aS1SHzkapP6zqVOnZBao/fj4McktNqT+sRgfc8bSmP+Iadggmp6M/NcetZeC6oD9K1WCGnuybPw0Vl1h7s5Y/lkuG95tMkj909PZddhGOP0sFIiAVn4g/VIZ78hp+gz//Wucfdrx9P2FQAubf4Xc//5qOeWG0dT93cjzKrWt0P6C2bRzFb3M/h2KXrNFbcj/qbAlqcn5wP1y9JyCsRmw/A6NyD5bZZz8Xo0yzMnZjP1G60tAgP14/6LptLs3NVT/ES5Y8bcNKP9C0ggbLFDk/+8OHPD+RQj+AX6Dz6dFaPyY2A1Y9FWk/ZL/ZyodScj/V78nJhdp3P2ou1vXRP30/sTJgqSNJgT+4ApZVwt6DP24RdTf4T4Y/9BR8+gy8iD8ofB1ClxCLPwwbDtiIMY0/J7jWq0hEjz/YpS9M8piQP1Cvynx9cZE/V2Eb/2o/kj+Eoeqtg/eSPwPnEGGRmZM/+FVH+xA1lD9epeZrybyUP2ZpB1mfPZU/vHr1L1m1lT8+4W7FjBSWP/iw99f0XZY/fIyQfhZrlj8CeVU0DTuWP3URVAWS1JU/4drqKeJKlT+6SwO7cb2UP7ddGAEzIpQ/\",\"dtype\":\"float64\",\"shape\":[75]},\"y\":{\"__ndarray__\":\"GhExyth1ND/Sv8nbtpRIP2vylNV0PVE/aTum7souWD/At0SJ8fVgPw3Iuahxymc/MSNhhJWvcD/bTfBN02d3P2zb5nxnaoA/CD5h5MAGhz8NmeH1TyaQP+zrCsc9p5Y/LbKd76fGnz/bLW5ISEmmPww9YvTcQq8/JV2OstnstT8Er5Y7M8G+P0c+r3jqkcU/5h99k6ZBzj88bCIzFzjVP4enV8oyxN0//yH99nXg5D8qOpLLf0jtP5kqGJXUifQ/c9cS8kHP/D+/DpwzojQEQIEmwoanVwxA4lgXt9HgE0BSSZ2AJuIbQAMJih9jjiNA5q4l5INuK0AwTKYKRj0zQNv5fmq8/DpAaCJseHrtQkB/+zpwzoxKQM3MzMzMeFJAZmZmZmZqWEAAAAAAAFxeQM3MzMzMJmJAmpmZmZkfZUBmZmZmZhhoQDMzMzMzEWtAAAAAAAAKbkBmZmZmZoFwQM3MzMzM/XFAMzMzMzN6c0CamZmZmfZ0QAAAAAAAc3ZAZmZmZmbvd0DNzMzMzGt5QDMzMzMz6HpAmpmZmZlkfEAAAAAAAOF9QGZmZmZmXX9AZmZmZuZsgECamZmZGSuBQM3MzMxM6YFAAAAAAICngkAzMzMzs2WDQGZmZmbmI4RAmpmZmRnihEDNzMzMTKCFQAAAAACAXoZAMzMzM7Mch0BmZmZm5tqHQJqZmZkZmYhAzczMzExXiUAAAAAAgBWKQDMzMzOz04pAZmZmZuaRi0CamZmZGVCMQM3MzMxMDo1AAAAAAIDMjUAzMzMzs4qOQGZmZmbmSI9A\",\"dtype\":\"float64\",\"shape\":[75]}}},\"id\":\"88fa8b4a-a60d-43ac-8719-4116453bed63\",\"type\":\"ColumnDataSource\"},{\"attributes\":{\"axis_label\":\"pressure [mb]\",\"formatter\":{\"id\":\"80eddd00-6be2-41fd-8a53-8d360881bbfa\",\"type\":\"BasicTickFormatter\"},\"plot\":{\"id\":\"c7f2426a-8b1d-4049-9a0e-56fab35a57fc\",\"subtype\":\"Figure\",\"type\":\"Plot\"},\"ticker\":{\"id\":\"8568653b-e258-448e-950a-c9cd915a591f\",\"type\":\"BasicTicker\"}},\"id\":\"eb7ff463-6a52-43d8-b219-71f220b40c34\",\"type\":\"LinearAxis\"},{\"attributes\":{\"fill_alpha\":{\"value\":0.7},\"fill_color\":{\"value\":\"#984ea3\"},\"line_alpha\":{\"value\":0.7},\"line_color\":{\"value\":\"#984ea3\"},\"x\":{\"field\":\"x\"},\"y\":{\"field\":\"y\"}},\"id\":\"cca891fa-2cba-4e30-bcb8-29630af0c3fc\",\"type\":\"Square\"},{\"attributes\":{\"callback\":null,\"column_names\":[\"x\",\"y\"],\"data\":{\"x\":{\"__ndarray__\":\"fCeyS17hhD9kDF2dJNyGP1qoHjHG/Io/U4fQmZhUjz+bdaqiluuRP5Pp6YYaQ5Q/t16/n5uvlj83pm4BfS+ZP58X56Izxps/5IgxwHB0nj/Rl+O3Fp2gP2MTXFaoCKI/ivbCrjd7oz/SOfM2LMmkP3AnArYyyqU/Xq0fCoKhpj+xhlujvXinP6doVPy5Sqg/mabuG3YXqT+LsbHqKt+pP2LkpLFvh6o/R7L4YUWMqT88e+V83HemP9dc2BR07aI/bxisCJxEnz+UdkcfIzuZP3kCXO6ezJM/uwlWhoUbjz+bNfyXOZeJP4B3s4VuloU/n1CeZVUFgj/2dA0tDaB9PxdwpnR2U3o/Bk6jeVofej9p3dCd6sx5PzexLtCol3g/8gjstRKWdj+dcqwaYoZzP3TsCPZLA3A/q8cJDEOvaT8VMgDh9tVjP5T/PFrLjlw/VTbkCmyoUT+FX6oVxo86P7Z8Ovs5ySm/AHs1Xvg2GL+yD/HZ+mVQPzj+zjInAWQ/mDrgYz1obz/sv7CuISd1P8uGERjtZXo/SMzxY7N3fz8H0lWb9y+CPxP4tqV9j4Q/8B9Up9jYhj/cQooT9QiJP5flZ/pXHIs/bY1r8HwOjT/da+V+t9uOP6Jz6SXnQJA/4qamJ6P/kD934yshIqyRP+7OIUOjSJI/WybNY/DXkj/gI0T0yVyTPwx/fsYi2ZM/z9jPFptMlD/MafFXOLGUPwPh5xjA9pQ/mPeEYcoElT/2xuN+lMyUP34f7QO5WZQ/OC9vip7Gkz8PsK+l4ieTP1EUE5TVhpI/\",\"dtype\":\"float64\",\"shape\":[75]},\"y\":{\"__ndarray__\":\"GhExyth1ND/Sv8nbtpRIP2vylNV0PVE/aTum7souWD/At0SJ8fVgPw3Iuahxymc/MSNhhJWvcD/bTfBN02d3P2zb5nxnaoA/CD5h5MAGhz8NmeH1TyaQP+zrCsc9p5Y/LbKd76fGnz/bLW5ISEmmPww9YvTcQq8/JV2OstnstT8Er5Y7M8G+P0c+r3jqkcU/5h99k6ZBzj88bCIzFzjVP4enV8oyxN0//yH99nXg5D8qOpLLf0jtP5kqGJXUifQ/c9cS8kHP/D+/DpwzojQEQIEmwoanVwxA4lgXt9HgE0BSSZ2AJuIbQAMJih9jjiNA5q4l5INuK0AwTKYKRj0zQNv5fmq8/DpAaCJseHrtQkB/+zpwzoxKQM3MzMzMeFJAZmZmZmZqWEAAAAAAAFxeQM3MzMzMJmJAmpmZmZkfZUBmZmZmZhhoQDMzMzMzEWtAAAAAAAAKbkBmZmZmZoFwQM3MzMzM/XFAMzMzMzN6c0CamZmZmfZ0QAAAAAAAc3ZAZmZmZmbvd0DNzMzMzGt5QDMzMzMz6HpAmpmZmZlkfEAAAAAAAOF9QGZmZmZmXX9AZmZmZuZsgECamZmZGSuBQM3MzMxM6YFAAAAAAICngkAzMzMzs2WDQGZmZmbmI4RAmpmZmRnihEDNzMzMTKCFQAAAAACAXoZAMzMzM7Mch0BmZmZm5tqHQJqZmZkZmYhAzczMzExXiUAAAAAAgBWKQDMzMzOz04pAZmZmZuaRi0CamZmZGVCMQM3MzMxMDo1AAAAAAIDMjUAzMzMzs4qOQGZmZmbmSI9A\",\"dtype\":\"float64\",\"shape\":[75]}}},\"id\":\"d0ecc6d0-76bf-49f3-a7c9-1924f7345d7d\",\"type\":\"ColumnDataSource\"},{\"attributes\":{\"bottom_units\":\"screen\",\"fill_alpha\":{\"value\":0.5},\"fill_color\":{\"value\":\"lightgrey\"},\"left_units\":\"screen\",\"level\":\"overlay\",\"line_alpha\":{\"value\":1.0},\"line_color\":{\"value\":\"black\"},\"line_dash\":[4,4],\"line_width\":{\"value\":2},\"plot\":null,\"render_mode\":\"css\",\"right_units\":\"screen\",\"top_units\":\"screen\"},\"id\":\"a62da4a3-18f1-4ceb-876c-427544d44d02\",\"type\":\"BoxAnnotation\"},{\"attributes\":{\"callback\":null,\"end\":0.01,\"start\":1020},\"id\":\"9a539f48-1b39-4fc6-a7d5-204d18c282c9\",\"type\":\"Range1d\"},{\"attributes\":{},\"id\":\"0651a769-607e-4d37-bcce-ffc428ee0770\",\"type\":\"PanTool\"},{\"attributes\":{\"plot\":null,\"text\":\"Log pressure scale\"},\"id\":\"2a745f16-c513-45cf-b651-93e72e0c0248\",\"type\":\"Title\"},{\"attributes\":{\"fill_alpha\":{\"value\":0.7},\"fill_color\":{\"value\":\"#4daf4a\"},\"line_alpha\":{\"value\":0.7},\"line_color\":{\"value\":\"#4daf4a\"},\"x\":{\"field\":\"x\"},\"y\":{\"field\":\"y\"}},\"id\":\"e9375412-1063-4913-8e9b-89fe60776973\",\"type\":\"Circle\"},{\"attributes\":{},\"id\":\"71607462-53cf-4a47-bc2f-7885bc7e0eef\",\"type\":\"WheelZoomTool\"},{\"attributes\":{\"callback\":null,\"end\":0.0221137789468,\"start\":-0.0004176280268},\"id\":\"b8e3d1ff-83a0-4146-a470-796197f42def\",\"type\":\"Range1d\"},{\"attributes\":{\"overlay\":{\"id\":\"a62da4a3-18f1-4ceb-876c-427544d44d02\",\"type\":\"BoxAnnotation\"}},\"id\":\"ac247168-9372-432a-9494-ee79a5b8eaea\",\"type\":\"BoxZoomTool\"},{\"attributes\":{\"source\":{\"id\":\"88fa8b4a-a60d-43ac-8719-4116453bed63\",\"type\":\"ColumnDataSource\"}},\"id\":\"c9ddeeb7-e70c-4efb-83ea-fc7d0882c637\",\"type\":\"CDSView\"},{\"attributes\":{},\"id\":\"6f1d2b93-2af0-48fd-8b63-c0b22a2f994f\",\"type\":\"ResetTool\"},{\"attributes\":{\"dimension\":1,\"plot\":{\"id\":\"c7f2426a-8b1d-4049-9a0e-56fab35a57fc\",\"subtype\":\"Figure\",\"type\":\"Plot\"},\"ticker\":{\"id\":\"8568653b-e258-448e-950a-c9cd915a591f\",\"type\":\"BasicTicker\"}},\"id\":\"cd78dc32-b144-46f7-9c19-453a7d7ea445\",\"type\":\"Grid\"},{\"attributes\":{},\"id\":\"812aaa10-4a31-46b0-83ae-5ac124699c8a\",\"type\":\"HelpTool\"},{\"attributes\":{\"callback\":null,\"column_names\":[\"x\",\"y\"],\"data\":{\"x\":{\"__ndarray__\":\"fCeyS17hhD9kDF2dJNyGP1qoHjHG/Io/U4fQmZhUjz+bdaqiluuRP5Pp6YYaQ5Q/t16/n5uvlj83pm4BfS+ZP58X56Izxps/5IgxwHB0nj/Rl+O3Fp2gP2MTXFaoCKI/ivbCrjd7oz/SOfM2LMmkP3AnArYyyqU/Xq0fCoKhpj+xhlujvXinP6doVPy5Sqg/mabuG3YXqT+LsbHqKt+pP2LkpLFvh6o/R7L4YUWMqT88e+V83HemP9dc2BR07aI/bxisCJxEnz+UdkcfIzuZP3kCXO6ezJM/uwlWhoUbjz+bNfyXOZeJP4B3s4VuloU/n1CeZVUFgj/2dA0tDaB9PxdwpnR2U3o/Bk6jeVofej9p3dCd6sx5PzexLtCol3g/8gjstRKWdj+dcqwaYoZzP3TsCPZLA3A/q8cJDEOvaT8VMgDh9tVjP5T/PFrLjlw/VTbkCmyoUT+FX6oVxo86P7Z8Ovs5ySm/AHs1Xvg2GL+yD/HZ+mVQPzj+zjInAWQ/mDrgYz1obz/sv7CuISd1P8uGERjtZXo/SMzxY7N3fz8H0lWb9y+CPxP4tqV9j4Q/8B9Up9jYhj/cQooT9QiJP5flZ/pXHIs/bY1r8HwOjT/da+V+t9uOP6Jz6SXnQJA/4qamJ6P/kD934yshIqyRP+7OIUOjSJI/WybNY/DXkj/gI0T0yVyTPwx/fsYi2ZM/z9jPFptMlD/MafFXOLGUPwPh5xjA9pQ/mPeEYcoElT/2xuN+lMyUP34f7QO5WZQ/OC9vip7Gkz8PsK+l4ieTP1EUE5TVhpI/\",\"dtype\":\"float64\",\"shape\":[75]},\"y\":{\"__ndarray__\":\"GhExyth1ND/Sv8nbtpRIP2vylNV0PVE/aTum7souWD/At0SJ8fVgPw3Iuahxymc/MSNhhJWvcD/bTfBN02d3P2zb5nxnaoA/CD5h5MAGhz8NmeH1TyaQP+zrCsc9p5Y/LbKd76fGnz/bLW5ISEmmPww9YvTcQq8/JV2OstnstT8Er5Y7M8G+P0c+r3jqkcU/5h99k6ZBzj88bCIzFzjVP4enV8oyxN0//yH99nXg5D8qOpLLf0jtP5kqGJXUifQ/c9cS8kHP/D+/DpwzojQEQIEmwoanVwxA4lgXt9HgE0BSSZ2AJuIbQAMJih9jjiNA5q4l5INuK0AwTKYKRj0zQNv5fmq8/DpAaCJseHrtQkB/+zpwzoxKQM3MzMzMeFJAZmZmZmZqWEAAAAAAAFxeQM3MzMzMJmJAmpmZmZkfZUBmZmZmZhhoQDMzMzMzEWtAAAAAAAAKbkBmZmZmZoFwQM3MzMzM/XFAMzMzMzN6c0CamZmZmfZ0QAAAAAAAc3ZAZmZmZmbvd0DNzMzMzGt5QDMzMzMz6HpAmpmZmZlkfEAAAAAAAOF9QGZmZmZmXX9AZmZmZuZsgECamZmZGSuBQM3MzMxM6YFAAAAAAICngkAzMzMzs2WDQGZmZmbmI4RAmpmZmRnihEDNzMzMTKCFQAAAAACAXoZAMzMzM7Mch0BmZmZm5tqHQJqZmZkZmYhAzczMzExXiUAAAAAAgBWKQDMzMzOz04pAZmZmZuaRi0CamZmZGVCMQM3MzMxMDo1AAAAAAIDMjUAzMzMzs4qOQGZmZmbmSI9A\",\"dtype\":\"float64\",\"shape\":[75]}}},\"id\":\"c2a30632-7e7e-460b-b113-4a78b7751c31\",\"type\":\"ColumnDataSource\"},{\"attributes\":{\"line_alpha\":0.6,\"line_color\":\"#e41a1c\",\"line_dash\":[6],\"line_width\":5,\"x\":{\"field\":\"x\"},\"y\":{\"field\":\"y\"}},\"id\":\"649b9cdc-2011-47bc-9b62-8b64adbac4ae\",\"type\":\"Line\"},{\"attributes\":{},\"id\":\"88663ad6-2ff3-453e-bcda-d449aadff18b\",\"type\":\"LinearScale\"},{\"attributes\":{\"fill_alpha\":{\"value\":0.1},\"fill_color\":{\"value\":\"#1f77b4\"},\"line_alpha\":{\"value\":0.1},\"line_color\":{\"value\":\"#1f77b4\"},\"x\":{\"field\":\"x\"},\"y\":{\"field\":\"y\"}},\"id\":\"99dc843f-69a9-4230-be16-92feda879a41\",\"type\":\"Square\"},{\"attributes\":{\"line_alpha\":0.1,\"line_color\":\"#1f77b4\",\"line_width\":1.5,\"x\":{\"field\":\"x\"},\"y\":{\"field\":\"y\"}},\"id\":\"860adcea-ff8c-4558-a495-1a1e3eb81b22\",\"type\":\"Line\"},{\"attributes\":{},\"id\":\"8568653b-e258-448e-950a-c9cd915a591f\",\"type\":\"BasicTicker\"},{\"attributes\":{\"fill_alpha\":{\"value\":0.1},\"fill_color\":{\"value\":\"#1f77b4\"},\"line_alpha\":{\"value\":0.1},\"line_color\":{\"value\":\"#1f77b4\"},\"x\":{\"field\":\"x\"},\"y\":{\"field\":\"y\"}},\"id\":\"655b4a87-88b3-47cc-8d51-23f08cf31d93\",\"type\":\"Circle\"},{\"attributes\":{\"plot\":{\"id\":\"c7f2426a-8b1d-4049-9a0e-56fab35a57fc\",\"subtype\":\"Figure\",\"type\":\"Plot\"},\"ticker\":{\"id\":\"c960a046-ac22-4f5a-a7b8-07beaa0113a7\",\"type\":\"BasicTicker\"}},\"id\":\"f59bd869-34a9-44e8-987a-3fc032f0b81b\",\"type\":\"Grid\"},{\"attributes\":{\"callback\":null,\"column_names\":[\"x\",\"y\"],\"data\":{\"x\":{\"__ndarray__\":\"UQkn6sT8iD/3SHcQjsGKP6XYMX/mbo4/0DpDdLEmkT9+VtSUDSmTP4ppmVvkPpU/5r9kgF5nlz8m+TLgB6GZP5gxiJSo7ps/0EsFOphQnj/sG9o30WOgP7epX63DqaE/5faK4bz4oj9ltngWxCmkP269zxTOGqU/l0F1GxzupT+t3TfeycOmP6rX9vFioqc/piLloo2CqD8aS1SHzkapP6zqVOnZBao/fj4McktNqT+sRgfc8bSmP+Iadggmp6M/NcetZeC6oD9K1WCGnuybPw0Vl1h7s5Y/lkuG95tMkj909PZddhGOP0sFIiAVn4g/VIZ78hp+gz//Wucfdrx9P2FQAubf4Xc//5qOeWG0dT93cjzKrWt0P6C2bRzFb3M/h2KXrNFbcj/qbAlqcn5wP1y9JyCsRmw/A6NyD5bZZz8Xo0yzMnZjP1G60tAgP14/6LptLs3NVT/ES5Y8bcNKP9C0ggbLFDk/+8OHPD+RQj+AX6Dz6dFaPyY2A1Y9FWk/ZL/ZyodScj/V78nJhdp3P2ou1vXRP30/sTJgqSNJgT+4ApZVwt6DP24RdTf4T4Y/9BR8+gy8iD8ofB1ClxCLPwwbDtiIMY0/J7jWq0hEjz/YpS9M8piQP1Cvynx9cZE/V2Eb/2o/kj+Eoeqtg/eSPwPnEGGRmZM/+FVH+xA1lD9epeZrybyUP2ZpB1mfPZU/vHr1L1m1lT8+4W7FjBSWP/iw99f0XZY/fIyQfhZrlj8CeVU0DTuWP3URVAWS1JU/4drqKeJKlT+6SwO7cb2UP7ddGAEzIpQ/\",\"dtype\":\"float64\",\"shape\":[75]},\"y\":{\"__ndarray__\":\"GhExyth1ND/Sv8nbtpRIP2vylNV0PVE/aTum7souWD/At0SJ8fVgPw3Iuahxymc/MSNhhJWvcD/bTfBN02d3P2zb5nxnaoA/CD5h5MAGhz8NmeH1TyaQP+zrCsc9p5Y/LbKd76fGnz/bLW5ISEmmPww9YvTcQq8/JV2OstnstT8Er5Y7M8G+P0c+r3jqkcU/5h99k6ZBzj88bCIzFzjVP4enV8oyxN0//yH99nXg5D8qOpLLf0jtP5kqGJXUifQ/c9cS8kHP/D+/DpwzojQEQIEmwoanVwxA4lgXt9HgE0BSSZ2AJuIbQAMJih9jjiNA5q4l5INuK0AwTKYKRj0zQNv5fmq8/DpAaCJseHrtQkB/+zpwzoxKQM3MzMzMeFJAZmZmZmZqWEAAAAAAAFxeQM3MzMzMJmJAmpmZmZkfZUBmZmZmZhhoQDMzMzMzEWtAAAAAAAAKbkBmZmZmZoFwQM3MzMzM/XFAMzMzMzN6c0CamZmZmfZ0QAAAAAAAc3ZAZmZmZmbvd0DNzMzMzGt5QDMzMzMz6HpAmpmZmZlkfEAAAAAAAOF9QGZmZmZmXX9AZmZmZuZsgECamZmZGSuBQM3MzMxM6YFAAAAAAICngkAzMzMzs2WDQGZmZmbmI4RAmpmZmRnihEDNzMzMTKCFQAAAAACAXoZAMzMzM7Mch0BmZmZm5tqHQJqZmZkZmYhAzczMzExXiUAAAAAAgBWKQDMzMzOz04pAZmZmZuaRi0CamZmZGVCMQM3MzMxMDo1AAAAAAIDMjUAzMzMzs4qOQGZmZmbmSI9A\",\"dtype\":\"float64\",\"shape\":[75]}}},\"id\":\"d15144a2-526f-4254-8e8e-62c47a2466ac\",\"type\":\"ColumnDataSource\"},{\"attributes\":{\"data_source\":{\"id\":\"43fc8564-535d-4fd6-b3ea-1800af05c9cd\",\"type\":\"ColumnDataSource\"},\"glyph\":{\"id\":\"6ba160a2-2c76-417b-8713-20a442044579\",\"type\":\"Line\"},\"hover_glyph\":null,\"muted_glyph\":null,\"nonselection_glyph\":{\"id\":\"e9a0d728-3361-4b4e-9a94-87f932cfd83f\",\"type\":\"Line\"},\"selection_glyph\":null,\"view\":{\"id\":\"82a2fd20-0249-46e3-b112-2f73cb1fcf78\",\"type\":\"CDSView\"}},\"id\":\"49509fbe-81fb-479c-9761-1358805135a1\",\"type\":\"GlyphRenderer\"},{\"attributes\":{\"data_source\":{\"id\":\"7e5eda3a-46f4-4010-ad44-941a6727a873\",\"type\":\"ColumnDataSource\"},\"glyph\":{\"id\":\"649b9cdc-2011-47bc-9b62-8b64adbac4ae\",\"type\":\"Line\"},\"hover_glyph\":null,\"muted_glyph\":null,\"nonselection_glyph\":{\"id\":\"d4d1c553-1f06-4b0d-94b6-e39f9f377312\",\"type\":\"Line\"},\"selection_glyph\":null,\"view\":{\"id\":\"ffb555c0-67ed-48af-89e9-d81383e89fd8\",\"type\":\"CDSView\"}},\"id\":\"c0da0838-9310-46e0-900b-faa0158d3d7f\",\"type\":\"GlyphRenderer\"},{\"attributes\":{},\"id\":\"027a430a-9a2a-427b-ab1c-71a73563e44b\",\"type\":\"BasicTickFormatter\"},{\"attributes\":{\"callback\":null,\"column_names\":[\"x\",\"y\"],\"data\":{\"x\":{\"__ndarray__\":\"fCeyS17hhD9kDF2dJNyGP1qoHjHG/Io/U4fQmZhUjz+bdaqiluuRP5Pp6YYaQ5Q/t16/n5uvlj83pm4BfS+ZP58X56Izxps/5IgxwHB0nj/Rl+O3Fp2gP2MTXFaoCKI/ivbCrjd7oz/SOfM2LMmkP3AnArYyyqU/Xq0fCoKhpj+xhlujvXinP6doVPy5Sqg/mabuG3YXqT+LsbHqKt+pP2LkpLFvh6o/R7L4YUWMqT88e+V83HemP9dc2BR07aI/bxisCJxEnz+UdkcfIzuZP3kCXO6ezJM/uwlWhoUbjz+bNfyXOZeJP4B3s4VuloU/n1CeZVUFgj/2dA0tDaB9PxdwpnR2U3o/Bk6jeVofej9p3dCd6sx5PzexLtCol3g/8gjstRKWdj+dcqwaYoZzP3TsCPZLA3A/q8cJDEOvaT8VMgDh9tVjP5T/PFrLjlw/VTbkCmyoUT+FX6oVxo86P7Z8Ovs5ySm/AHs1Xvg2GL+yD/HZ+mVQPzj+zjInAWQ/mDrgYz1obz/sv7CuISd1P8uGERjtZXo/SMzxY7N3fz8H0lWb9y+CPxP4tqV9j4Q/8B9Up9jYhj/cQooT9QiJP5flZ/pXHIs/bY1r8HwOjT/da+V+t9uOP6Jz6SXnQJA/4qamJ6P/kD934yshIqyRP+7OIUOjSJI/WybNY/DXkj/gI0T0yVyTPwx/fsYi2ZM/z9jPFptMlD/MafFXOLGUPwPh5xjA9pQ/mPeEYcoElT/2xuN+lMyUP34f7QO5WZQ/OC9vip7Gkz8PsK+l4ieTP1EUE5TVhpI/\",\"dtype\":\"float64\",\"shape\":[75]},\"y\":{\"__ndarray__\":\"GhExyth1ND/Sv8nbtpRIP2vylNV0PVE/aTum7souWD/At0SJ8fVgPw3Iuahxymc/MSNhhJWvcD/bTfBN02d3P2zb5nxnaoA/CD5h5MAGhz8NmeH1TyaQP+zrCsc9p5Y/LbKd76fGnz/bLW5ISEmmPww9YvTcQq8/JV2OstnstT8Er5Y7M8G+P0c+r3jqkcU/5h99k6ZBzj88bCIzFzjVP4enV8oyxN0//yH99nXg5D8qOpLLf0jtP5kqGJXUifQ/c9cS8kHP/D+/DpwzojQEQIEmwoanVwxA4lgXt9HgE0BSSZ2AJuIbQAMJih9jjiNA5q4l5INuK0AwTKYKRj0zQNv5fmq8/DpAaCJseHrtQkB/+zpwzoxKQM3MzMzMeFJAZmZmZmZqWEAAAAAAAFxeQM3MzMzMJmJAmpmZmZkfZUBmZmZmZhhoQDMzMzMzEWtAAAAAAAAKbkBmZmZmZoFwQM3MzMzM/XFAMzMzMzN6c0CamZmZmfZ0QAAAAAAAc3ZAZmZmZmbvd0DNzMzMzGt5QDMzMzMz6HpAmpmZmZlkfEAAAAAAAOF9QGZmZmZmXX9AZmZmZuZsgECamZmZGSuBQM3MzMxM6YFAAAAAAICngkAzMzMzs2WDQGZmZmbmI4RAmpmZmRnihEDNzMzMTKCFQAAAAACAXoZAMzMzM7Mch0BmZmZm5tqHQJqZmZkZmYhAzczMzExXiUAAAAAAgBWKQDMzMzOz04pAZmZmZuaRi0CamZmZGVCMQM3MzMxMDo1AAAAAAIDMjUAzMzMzs4qOQGZmZmbmSI9A\",\"dtype\":\"float64\",\"shape\":[75]}}},\"id\":\"a93abbc5-fc5b-4eea-9831-3b933e1c5e03\",\"type\":\"ColumnDataSource\"},{\"attributes\":{\"line_alpha\":0.1,\"line_color\":\"#1f77b4\",\"line_dash\":[6],\"line_width\":5,\"x\":{\"field\":\"x\"},\"y\":{\"field\":\"y\"}},\"id\":\"e9a0d728-3361-4b4e-9a94-87f932cfd83f\",\"type\":\"Line\"},{\"attributes\":{\"data_source\":{\"id\":\"d15841bf-48ff-41e0-a595-2aed10374010\",\"type\":\"ColumnDataSource\"},\"glyph\":{\"id\":\"d7c37c59-80cc-492d-b7c2-d7e72f8ab5c4\",\"type\":\"Circle\"},\"hover_glyph\":null,\"muted_glyph\":null,\"nonselection_glyph\":{\"id\":\"ebcfe3db-8600-4978-b7f1-ae46a342f177\",\"type\":\"Circle\"},\"selection_glyph\":null,\"view\":{\"id\":\"8d1b025e-c524-4358-b394-62b804bb4971\",\"type\":\"CDSView\"}},\"id\":\"802b2d69-c7af-464f-bc76-60ef34258a78\",\"type\":\"GlyphRenderer\"},{\"attributes\":{\"bottom_units\":\"screen\",\"fill_alpha\":{\"value\":0.5},\"fill_color\":{\"value\":\"lightgrey\"},\"left_units\":\"screen\",\"level\":\"overlay\",\"line_alpha\":{\"value\":1.0},\"line_color\":{\"value\":\"black\"},\"line_dash\":[4,4],\"line_width\":{\"value\":2},\"plot\":null,\"render_mode\":\"css\",\"right_units\":\"screen\",\"top_units\":\"screen\"},\"id\":\"b8921b3e-7670-470c-bb07-a2947d3f8e27\",\"type\":\"BoxAnnotation\"},{\"attributes\":{\"fill_alpha\":{\"value\":0.1},\"fill_color\":{\"value\":\"#1f77b4\"},\"line_alpha\":{\"value\":0.1},\"line_color\":{\"value\":\"#1f77b4\"},\"x\":{\"field\":\"x\"},\"y\":{\"field\":\"y\"}},\"id\":\"ebcfe3db-8600-4978-b7f1-ae46a342f177\",\"type\":\"Circle\"},{\"attributes\":{},\"id\":\"5b355aab-36dd-4528-9547-31ee18cdfee3\",\"type\":\"PanTool\"},{\"attributes\":{\"axis_label\":\"pressure [mb]\",\"formatter\":{\"id\":\"80988c22-c14d-442f-8011-c9e77cf7241c\",\"type\":\"LogTickFormatter\"},\"plot\":{\"id\":\"a23bcf55-7895-4514-845f-0cf694a72f00\",\"subtype\":\"Figure\",\"type\":\"Plot\"},\"ticker\":{\"id\":\"032ac8f1-b7e5-43ef-acef-b96fe303a3b7\",\"type\":\"LogTicker\"}},\"id\":\"010d707f-65f3-4035-9868-44d6ec091d8d\",\"type\":\"LogAxis\"},{\"attributes\":{\"ticker\":null},\"id\":\"80988c22-c14d-442f-8011-c9e77cf7241c\",\"type\":\"LogTickFormatter\"},{\"attributes\":{\"plot\":{\"id\":\"a23bcf55-7895-4514-845f-0cf694a72f00\",\"subtype\":\"Figure\",\"type\":\"Plot\"},\"ticker\":{\"id\":\"d35c6d48-c57a-4746-baa3-aa87c8c12332\",\"type\":\"BasicTicker\"}},\"id\":\"210e9d76-25c0-4c50-b62a-b66ca568a086\",\"type\":\"Grid\"},{\"attributes\":{\"source\":{\"id\":\"d15841bf-48ff-41e0-a595-2aed10374010\",\"type\":\"ColumnDataSource\"}},\"id\":\"8d1b025e-c524-4358-b394-62b804bb4971\",\"type\":\"CDSView\"},{\"attributes\":{\"children\":[{\"id\":\"c7f2426a-8b1d-4049-9a0e-56fab35a57fc\",\"subtype\":\"Figure\",\"type\":\"Plot\"},{\"id\":\"a23bcf55-7895-4514-845f-0cf694a72f00\",\"subtype\":\"Figure\",\"type\":\"Plot\"}]},\"id\":\"657fca8a-0199-4176-b439-9d63c8b46cf7\",\"type\":\"Row\"},{\"attributes\":{\"callback\":null,\"column_names\":[\"x\",\"y\"],\"data\":{\"x\":{\"__ndarray__\":\"fCeyS17hhD9kDF2dJNyGP1qoHjHG/Io/U4fQmZhUjz+bdaqiluuRP5Pp6YYaQ5Q/t16/n5uvlj83pm4BfS+ZP58X56Izxps/5IgxwHB0nj/Rl+O3Fp2gP2MTXFaoCKI/ivbCrjd7oz/SOfM2LMmkP3AnArYyyqU/Xq0fCoKhpj+xhlujvXinP6doVPy5Sqg/mabuG3YXqT+LsbHqKt+pP2LkpLFvh6o/R7L4YUWMqT88e+V83HemP9dc2BR07aI/bxisCJxEnz+UdkcfIzuZP3kCXO6ezJM/uwlWhoUbjz+bNfyXOZeJP4B3s4VuloU/n1CeZVUFgj/2dA0tDaB9PxdwpnR2U3o/Bk6jeVofej9p3dCd6sx5PzexLtCol3g/8gjstRKWdj+dcqwaYoZzP3TsCPZLA3A/q8cJDEOvaT8VMgDh9tVjP5T/PFrLjlw/VTbkCmyoUT+FX6oVxo86P7Z8Ovs5ySm/AHs1Xvg2GL+yD/HZ+mVQPzj+zjInAWQ/mDrgYz1obz/sv7CuISd1P8uGERjtZXo/SMzxY7N3fz8H0lWb9y+CPxP4tqV9j4Q/8B9Up9jYhj/cQooT9QiJP5flZ/pXHIs/bY1r8HwOjT/da+V+t9uOP6Jz6SXnQJA/4qamJ6P/kD934yshIqyRP+7OIUOjSJI/WybNY/DXkj/gI0T0yVyTPwx/fsYi2ZM/z9jPFptMlD/MafFXOLGUPwPh5xjA9pQ/mPeEYcoElT/2xuN+lMyUP34f7QO5WZQ/OC9vip7Gkz8PsK+l4ieTP1EUE5TVhpI/\",\"dtype\":\"float64\",\"shape\":[75]},\"y\":{\"__ndarray__\":\"GhExyth1ND/Sv8nbtpRIP2vylNV0PVE/aTum7souWD/At0SJ8fVgPw3Iuahxymc/MSNhhJWvcD/bTfBN02d3P2zb5nxnaoA/CD5h5MAGhz8NmeH1TyaQP+zrCsc9p5Y/LbKd76fGnz/bLW5ISEmmPww9YvTcQq8/JV2OstnstT8Er5Y7M8G+P0c+r3jqkcU/5h99k6ZBzj88bCIzFzjVP4enV8oyxN0//yH99nXg5D8qOpLLf0jtP5kqGJXUifQ/c9cS8kHP/D+/DpwzojQEQIEmwoanVwxA4lgXt9HgE0BSSZ2AJuIbQAMJih9jjiNA5q4l5INuK0AwTKYKRj0zQNv5fmq8/DpAaCJseHrtQkB/+zpwzoxKQM3MzMzMeFJAZmZmZmZqWEAAAAAAAFxeQM3MzMzMJmJAmpmZmZkfZUBmZmZmZhhoQDMzMzMzEWtAAAAAAAAKbkBmZmZmZoFwQM3MzMzM/XFAMzMzMzN6c0CamZmZmfZ0QAAAAAAAc3ZAZmZmZmbvd0DNzMzMzGt5QDMzMzMz6HpAmpmZmZlkfEAAAAAAAOF9QGZmZmZmXX9AZmZmZuZsgECamZmZGSuBQM3MzMxM6YFAAAAAAICngkAzMzMzs2WDQGZmZmbmI4RAmpmZmRnihEDNzMzMTKCFQAAAAACAXoZAMzMzM7Mch0BmZmZm5tqHQJqZmZkZmYhAzczMzExXiUAAAAAAgBWKQDMzMzOz04pAZmZmZuaRi0CamZmZGVCMQM3MzMxMDo1AAAAAAIDMjUAzMzMzs4qOQGZmZmbmSI9A\",\"dtype\":\"float64\",\"shape\":[75]}}},\"id\":\"d15841bf-48ff-41e0-a595-2aed10374010\",\"type\":\"ColumnDataSource\"},{\"attributes\":{\"active_drag\":\"auto\",\"active_inspect\":\"auto\",\"active_scroll\":\"auto\",\"active_tap\":\"auto\",\"tools\":[{\"id\":\"0651a769-607e-4d37-bcce-ffc428ee0770\",\"type\":\"PanTool\"},{\"id\":\"71607462-53cf-4a47-bc2f-7885bc7e0eef\",\"type\":\"WheelZoomTool\"},{\"id\":\"ac247168-9372-432a-9494-ee79a5b8eaea\",\"type\":\"BoxZoomTool\"},{\"id\":\"cdb78837-3c16-4796-9320-4d7e50c1ee91\",\"type\":\"SaveTool\"},{\"id\":\"6f1d2b93-2af0-48fd-8b63-c0b22a2f994f\",\"type\":\"ResetTool\"},{\"id\":\"812aaa10-4a31-46b0-83ae-5ac124699c8a\",\"type\":\"HelpTool\"}]},\"id\":\"6858b2cb-48ac-4ce1-8431-cc0731a904a3\",\"type\":\"Toolbar\"},{\"attributes\":{\"overlay\":{\"id\":\"b8921b3e-7670-470c-bb07-a2947d3f8e27\",\"type\":\"BoxAnnotation\"}},\"id\":\"ea42788e-4eff-44e5-bc3f-973e6a1f1d77\",\"type\":\"BoxZoomTool\"},{\"attributes\":{\"source\":{\"id\":\"43fc8564-535d-4fd6-b3ea-1800af05c9cd\",\"type\":\"ColumnDataSource\"}},\"id\":\"82a2fd20-0249-46e3-b112-2f73cb1fcf78\",\"type\":\"CDSView\"},{\"attributes\":{\"data_source\":{\"id\":\"d15144a2-526f-4254-8e8e-62c47a2466ac\",\"type\":\"ColumnDataSource\"},\"glyph\":{\"id\":\"45b4ab22-9177-4026-9b44-223e9778efa3\",\"type\":\"Square\"},\"hover_glyph\":null,\"muted_glyph\":null,\"nonselection_glyph\":{\"id\":\"99dc843f-69a9-4230-be16-92feda879a41\",\"type\":\"Square\"},\"selection_glyph\":null,\"view\":{\"id\":\"dcdbfa33-076f-48f8-aa69-815a5c0e7a49\",\"type\":\"CDSView\"}},\"id\":\"47a0c1e1-1c1d-4294-8641-6b0bf79dc09e\",\"type\":\"GlyphRenderer\"},{\"attributes\":{},\"id\":\"80eddd00-6be2-41fd-8a53-8d360881bbfa\",\"type\":\"BasicTickFormatter\"},{\"attributes\":{\"fill_alpha\":{\"value\":0.7},\"fill_color\":{\"value\":\"#4daf4a\"},\"line_alpha\":{\"value\":0.7},\"line_color\":{\"value\":\"#4daf4a\"},\"x\":{\"field\":\"x\"},\"y\":{\"field\":\"y\"}},\"id\":\"d7c37c59-80cc-492d-b7c2-d7e72f8ab5c4\",\"type\":\"Circle\"},{\"attributes\":{\"line_color\":\"#4daf4a\",\"line_width\":1.5,\"x\":{\"field\":\"x\"},\"y\":{\"field\":\"y\"}},\"id\":\"951c78c3-a866-46fc-a3e3-86ce82bbbe01\",\"type\":\"Line\"},{\"attributes\":{\"callback\":null,\"column_names\":[\"x\",\"y\"],\"data\":{\"x\":{\"__ndarray__\":\"UQkn6sT8iD/3SHcQjsGKP6XYMX/mbo4/0DpDdLEmkT9+VtSUDSmTP4ppmVvkPpU/5r9kgF5nlz8m+TLgB6GZP5gxiJSo7ps/0EsFOphQnj/sG9o30WOgP7epX63DqaE/5faK4bz4oj9ltngWxCmkP269zxTOGqU/l0F1GxzupT+t3TfeycOmP6rX9vFioqc/piLloo2CqD8aS1SHzkapP6zqVOnZBao/fj4McktNqT+sRgfc8bSmP+Iadggmp6M/NcetZeC6oD9K1WCGnuybPw0Vl1h7s5Y/lkuG95tMkj909PZddhGOP0sFIiAVn4g/VIZ78hp+gz//Wucfdrx9P2FQAubf4Xc//5qOeWG0dT93cjzKrWt0P6C2bRzFb3M/h2KXrNFbcj/qbAlqcn5wP1y9JyCsRmw/A6NyD5bZZz8Xo0yzMnZjP1G60tAgP14/6LptLs3NVT/ES5Y8bcNKP9C0ggbLFDk/+8OHPD+RQj+AX6Dz6dFaPyY2A1Y9FWk/ZL/ZyodScj/V78nJhdp3P2ou1vXRP30/sTJgqSNJgT+4ApZVwt6DP24RdTf4T4Y/9BR8+gy8iD8ofB1ClxCLPwwbDtiIMY0/J7jWq0hEjz/YpS9M8piQP1Cvynx9cZE/V2Eb/2o/kj+Eoeqtg/eSPwPnEGGRmZM/+FVH+xA1lD9epeZrybyUP2ZpB1mfPZU/vHr1L1m1lT8+4W7FjBSWP/iw99f0XZY/fIyQfhZrlj8CeVU0DTuWP3URVAWS1JU/4drqKeJKlT+6SwO7cb2UP7ddGAEzIpQ/\",\"dtype\":\"float64\",\"shape\":[75]},\"y\":{\"__ndarray__\":\"GhExyth1ND/Sv8nbtpRIP2vylNV0PVE/aTum7souWD/At0SJ8fVgPw3Iuahxymc/MSNhhJWvcD/bTfBN02d3P2zb5nxnaoA/CD5h5MAGhz8NmeH1TyaQP+zrCsc9p5Y/LbKd76fGnz/bLW5ISEmmPww9YvTcQq8/JV2OstnstT8Er5Y7M8G+P0c+r3jqkcU/5h99k6ZBzj88bCIzFzjVP4enV8oyxN0//yH99nXg5D8qOpLLf0jtP5kqGJXUifQ/c9cS8kHP/D+/DpwzojQEQIEmwoanVwxA4lgXt9HgE0BSSZ2AJuIbQAMJih9jjiNA5q4l5INuK0AwTKYKRj0zQNv5fmq8/DpAaCJseHrtQkB/+zpwzoxKQM3MzMzMeFJAZmZmZmZqWEAAAAAAAFxeQM3MzMzMJmJAmpmZmZkfZUBmZmZmZhhoQDMzMzMzEWtAAAAAAAAKbkBmZmZmZoFwQM3MzMzM/XFAMzMzMzN6c0CamZmZmfZ0QAAAAAAAc3ZAZmZmZmbvd0DNzMzMzGt5QDMzMzMz6HpAmpmZmZlkfEAAAAAAAOF9QGZmZmZmXX9AZmZmZuZsgECamZmZGSuBQM3MzMxM6YFAAAAAAICngkAzMzMzs2WDQGZmZmbmI4RAmpmZmRnihEDNzMzMTKCFQAAAAACAXoZAMzMzM7Mch0BmZmZm5tqHQJqZmZkZmYhAzczMzExXiUAAAAAAgBWKQDMzMzOz04pAZmZmZuaRi0CamZmZGVCMQM3MzMxMDo1AAAAAAIDMjUAzMzMzs4qOQGZmZmbmSI9A\",\"dtype\":\"float64\",\"shape\":[75]}}},\"id\":\"d735d87a-cfc7-4d22-a120-57c6c277be24\",\"type\":\"ColumnDataSource\"},{\"attributes\":{\"data_source\":{\"id\":\"a93abbc5-fc5b-4eea-9831-3b933e1c5e03\",\"type\":\"ColumnDataSource\"},\"glyph\":{\"id\":\"951c78c3-a866-46fc-a3e3-86ce82bbbe01\",\"type\":\"Line\"},\"hover_glyph\":null,\"muted_glyph\":null,\"nonselection_glyph\":{\"id\":\"f4a38212-4d7a-4f12-8ecb-d0d8470ffe5a\",\"type\":\"Line\"},\"selection_glyph\":null,\"view\":{\"id\":\"72ea040b-a958-498e-932b-78dc87461999\",\"type\":\"CDSView\"}},\"id\":\"66cbbea7-6159-4fc6-b1ef-9d13fef200d3\",\"type\":\"GlyphRenderer\"},{\"attributes\":{\"children\":[{\"id\":\"657fca8a-0199-4176-b439-9d63c8b46cf7\",\"type\":\"Row\"}]},\"id\":\"7d88dca3-7a74-4073-9159-f5553e963a15\",\"type\":\"Column\"},{\"attributes\":{\"line_alpha\":0.1,\"line_color\":\"#1f77b4\",\"line_width\":1.5,\"x\":{\"field\":\"x\"},\"y\":{\"field\":\"y\"}},\"id\":\"f4a38212-4d7a-4f12-8ecb-d0d8470ffe5a\",\"type\":\"Line\"},{\"attributes\":{\"label\":{\"value\":\"CLIRAD `coolr_bands`\"},\"renderers\":[{\"id\":\"49509fbe-81fb-479c-9761-1358805135a1\",\"type\":\"GlyphRenderer\"}]},\"id\":\"601bfbba-48fd-4cc1-ae0e-ed71bf2bfe90\",\"type\":\"LegendItem\"},{\"attributes\":{\"source\":{\"id\":\"a93abbc5-fc5b-4eea-9831-3b933e1c5e03\",\"type\":\"ColumnDataSource\"}},\"id\":\"72ea040b-a958-498e-932b-78dc87461999\",\"type\":\"CDSView\"},{\"attributes\":{\"fill_alpha\":{\"value\":0.7},\"fill_color\":{\"value\":\"#984ea3\"},\"line_alpha\":{\"value\":0.7},\"line_color\":{\"value\":\"#984ea3\"},\"x\":{\"field\":\"x\"},\"y\":{\"field\":\"y\"}},\"id\":\"45b4ab22-9177-4026-9b44-223e9778efa3\",\"type\":\"Square\"},{\"attributes\":{\"source\":{\"id\":\"d15144a2-526f-4254-8e8e-62c47a2466ac\",\"type\":\"ColumnDataSource\"}},\"id\":\"dcdbfa33-076f-48f8-aa69-815a5c0e7a49\",\"type\":\"CDSView\"},{\"attributes\":{\"data_source\":{\"id\":\"d735d87a-cfc7-4d22-a120-57c6c277be24\",\"type\":\"ColumnDataSource\"},\"glyph\":{\"id\":\"932c96cc-a006-4c5a-aadc-e293e934878e\",\"type\":\"Line\"},\"hover_glyph\":null,\"muted_glyph\":null,\"nonselection_glyph\":{\"id\":\"67906f08-71a1-43de-91d6-a749df82639e\",\"type\":\"Line\"},\"selection_glyph\":null,\"view\":{\"id\":\"6571762b-507b-48dd-b5be-5ff06d0921ac\",\"type\":\"CDSView\"}},\"id\":\"b1e450f6-2731-41c4-9ae5-ce1090ac2eb2\",\"type\":\"GlyphRenderer\"},{\"attributes\":{},\"id\":\"12704ecb-a3f6-473d-a7f1-157700679132\",\"type\":\"LinearScale\"},{\"attributes\":{\"line_alpha\":0.1,\"line_color\":\"#1f77b4\",\"line_width\":3,\"x\":{\"field\":\"x\"},\"y\":{\"field\":\"y\"}},\"id\":\"67906f08-71a1-43de-91d6-a749df82639e\",\"type\":\"Line\"},{\"attributes\":{\"line_alpha\":0.6,\"line_color\":\"#984ea3\",\"line_width\":3,\"x\":{\"field\":\"x\"},\"y\":{\"field\":\"y\"}},\"id\":\"932c96cc-a006-4c5a-aadc-e293e934878e\",\"type\":\"Line\"},{\"attributes\":{\"callback\":null,\"end\":0.052313555388000005,\"start\":0.0014146998120000002},\"id\":\"ee7d8144-86de-43bd-bba0-e5e240d818c2\",\"type\":\"Range1d\"},{\"attributes\":{\"label\":{\"value\":\"CRD\"},\"renderers\":[{\"id\":\"802b2d69-c7af-464f-bc76-60ef34258a78\",\"type\":\"GlyphRenderer\"},{\"id\":\"66cbbea7-6159-4fc6-b1ef-9d13fef200d3\",\"type\":\"GlyphRenderer\"}]},\"id\":\"33e30a9b-2b7b-4580-bb7a-30bcb04451c6\",\"type\":\"LegendItem\"},{\"attributes\":{\"items\":[{\"id\":\"601bfbba-48fd-4cc1-ae0e-ed71bf2bfe90\",\"type\":\"LegendItem\"},{\"id\":\"33e30a9b-2b7b-4580-bb7a-30bcb04451c6\",\"type\":\"LegendItem\"},{\"id\":\"b2223a65-6086-4534-bf2d-e09c9b7fb071\",\"type\":\"LegendItem\"}],\"label_text_font_size\":{\"value\":\"8pt\"},\"location\":[10,-30],\"plot\":{\"id\":\"a23bcf55-7895-4514-845f-0cf694a72f00\",\"subtype\":\"Figure\",\"type\":\"Plot\"}},\"id\":\"7bb478e7-3515-4829-a6b9-f3b6ea65bcf3\",\"type\":\"Legend\"},{\"attributes\":{\"source\":{\"id\":\"d735d87a-cfc7-4d22-a120-57c6c277be24\",\"type\":\"ColumnDataSource\"}},\"id\":\"6571762b-507b-48dd-b5be-5ff06d0921ac\",\"type\":\"CDSView\"},{\"attributes\":{\"toolbar\":{\"id\":\"d448ee5a-a7dc-4745-b84e-3e1bc98c4f8e\",\"type\":\"ProxyToolbar\"},\"toolbar_location\":\"above\"},\"id\":\"ecbc9c48-3a76-4001-ada9-fa4323bbd519\",\"type\":\"ToolbarBox\"},{\"attributes\":{},\"id\":\"d35c6d48-c57a-4746-baa3-aa87c8c12332\",\"type\":\"BasicTicker\"},{\"attributes\":{},\"id\":\"cbb1f628-57d8-4ebe-89bc-1c45b9400d1a\",\"type\":\"HelpTool\"},{\"attributes\":{\"label\":{\"value\":\"WGT igg=10 wgt_flux=2\"},\"renderers\":[{\"id\":\"47a0c1e1-1c1d-4294-8641-6b0bf79dc09e\",\"type\":\"GlyphRenderer\"},{\"id\":\"b1e450f6-2731-41c4-9ae5-ce1090ac2eb2\",\"type\":\"GlyphRenderer\"}]},\"id\":\"b2223a65-6086-4534-bf2d-e09c9b7fb071\",\"type\":\"LegendItem\"},{\"attributes\":{\"tools\":[{\"id\":\"0651a769-607e-4d37-bcce-ffc428ee0770\",\"type\":\"PanTool\"},{\"id\":\"71607462-53cf-4a47-bc2f-7885bc7e0eef\",\"type\":\"WheelZoomTool\"},{\"id\":\"ac247168-9372-432a-9494-ee79a5b8eaea\",\"type\":\"BoxZoomTool\"},{\"id\":\"cdb78837-3c16-4796-9320-4d7e50c1ee91\",\"type\":\"SaveTool\"},{\"id\":\"6f1d2b93-2af0-48fd-8b63-c0b22a2f994f\",\"type\":\"ResetTool\"},{\"id\":\"812aaa10-4a31-46b0-83ae-5ac124699c8a\",\"type\":\"HelpTool\"},{\"id\":\"5b355aab-36dd-4528-9547-31ee18cdfee3\",\"type\":\"PanTool\"},{\"id\":\"659eb408-f82b-46c0-9e27-0e63c43fb0e9\",\"type\":\"WheelZoomTool\"},{\"id\":\"ea42788e-4eff-44e5-bc3f-973e6a1f1d77\",\"type\":\"BoxZoomTool\"},{\"id\":\"d8c4aff6-a680-41ac-9adb-8fccc0b143bc\",\"type\":\"SaveTool\"},{\"id\":\"6906ea19-aceb-48f3-8fe8-1ac98970cc24\",\"type\":\"ResetTool\"},{\"id\":\"cbb1f628-57d8-4ebe-89bc-1c45b9400d1a\",\"type\":\"HelpTool\"}]},\"id\":\"d448ee5a-a7dc-4745-b84e-3e1bc98c4f8e\",\"type\":\"ProxyToolbar\"},{\"attributes\":{},\"id\":\"659eb408-f82b-46c0-9e27-0e63c43fb0e9\",\"type\":\"WheelZoomTool\"},{\"attributes\":{\"children\":[{\"id\":\"ecbc9c48-3a76-4001-ada9-fa4323bbd519\",\"type\":\"ToolbarBox\"},{\"id\":\"7d88dca3-7a74-4073-9159-f5553e963a15\",\"type\":\"Column\"}]},\"id\":\"d3d20abf-4353-48c0-9166-976c027ea9a8\",\"type\":\"Column\"},{\"attributes\":{},\"id\":\"6906ea19-aceb-48f3-8fe8-1ac98970cc24\",\"type\":\"ResetTool\"},{\"attributes\":{\"dimension\":1,\"plot\":{\"id\":\"a23bcf55-7895-4514-845f-0cf694a72f00\",\"subtype\":\"Figure\",\"type\":\"Plot\"},\"ticker\":{\"id\":\"032ac8f1-b7e5-43ef-acef-b96fe303a3b7\",\"type\":\"LogTicker\"}},\"id\":\"742ab6f9-2738-4d2c-8ad0-f2d9b4525109\",\"type\":\"Grid\"},{\"attributes\":{\"axis_label\":\"cooling rate [K/day]\",\"formatter\":{\"id\":\"027a430a-9a2a-427b-ab1c-71a73563e44b\",\"type\":\"BasicTickFormatter\"},\"plot\":{\"id\":\"a23bcf55-7895-4514-845f-0cf694a72f00\",\"subtype\":\"Figure\",\"type\":\"Plot\"},\"ticker\":{\"id\":\"d35c6d48-c57a-4746-baa3-aa87c8c12332\",\"type\":\"BasicTicker\"}},\"id\":\"9f4e5089-ef9b-4e38-871d-b392dac8341e\",\"type\":\"LinearAxis\"},{\"attributes\":{\"callback\":null,\"column_names\":[\"x\",\"y\"],\"data\":{\"x\":{\"__ndarray__\":\"8F/Nv2Vnmj8AAAAAAAAAAAAAAAAAAAAAfji63dqooD8AAAAAAAAAAAAAAAAAAAAATKoH498boj/GndaerjaBP0QM7fzYrZ4/G6H6Ykp/oT/orzcB6xCcP4A7KN9udJg/7ONDfm1lpT8McXeZC6OfP2Dm9CL+VKM/IxEawcb1pD/bEmPgUxWlP5Vxkx50c6U/klUH/L7YpT9E3EsDBwCnPzWjPWMBQag/pgaQXUYKpz95AFvD5MSkP7oI8yEfKaI/wUN5aB0qnz+Rnq15EUqaP6rdhoNKfZU/09lh/bOnkT+YE6WetFmNPxWeB99KYog/UFhvPjiSgz+Vd19jiDR+P6Ywfx3pIHg/wPWBXfYvdT9TBL4/ehNzPxot7twHYnE/slEXHrTNbz+obt7b3O9rPwArBbq9f2c/4yBkwu9rYz90f4SIrFpfP7jUc+FvE1g/oKWQTEw1UT/aOx2glZdEPy9hnqG5vzM/WmCAXmcsQj9dk9zDGC9aP6kKO/ydPGg/x0fK4OimcT9o20SApxZ3P3Y8eV/0WHw/UU/PXmXEgD/3ZCHhS0aDP+jpidLRtoU/j/PyzK8MiD8BCdSsfUuKP/AEOhS3aow/PvezkjVujj86iYLFUyKQPySDDH+u/5A/fnGuAxXFkT90x2CaKXqSP0vNuz1KHZM/+uvl3MWykz/GvFlGlD2UP4Oasre6upQ/XbO4phAtlT+5tpkFOI+VP3x8dWeD0pU/XWw0YmHmlT9zOXzXQr6VP68fKNj7ZJU/sRpxH77ulD8uFf2c4G2UP4z/Wfic6ZM/\",\"dtype\":\"float64\",\"shape\":[75]},\"y\":{\"__ndarray__\":\"S/O/Q+51ND/430zAtpRIP2vylNV0PVE/QxsjCssuWD/TR4Z78fVgP+inNsRxymc/OuuBfZWvcD/u3TFA02d3P2d3VoBnaoA/CD5h5MAGhz/1pA8HUCaQP+zrCsc9p5Y/Fb7LAKjGnz/nJ9c/SEmmPwBD+fzcQq8/FOZwv9nstT8Er5Y7M8G+P0c+r3jqkcU/yK72qKZBzj+tM989FzjVPxbgmr8yxN0/cOm5AXbg5D+5ctXAf0jtP5kqGJXUifQ/DsrqDELP/D8MCAhBojQEQDItVnmnVwxAiFXNvdHgE0BSSZ2AJuIbQAMJih9jjiNA5q4l5INuK0CPVN/5RT0zQHzxRXu8/DpAOZ7PgHrtQkAg8wGBzoxKQBSTN8DMeFJA2NmQf2ZqWEAAAAAAAFxeQEQX1LfMJmJAmpmZmZkfZUBmZmZmZhhoQLzoK0gzEWtAAAAAAAAKbkCiC+pbZoFwQAhyUMLM/XFA+I2vPTN6c0AQ5KCEmfZ0QAAAAAAAc3ZA8Btfe2bvd0AIclDCzGt5QPeNrz0z6HpAEOSghJlkfEAAAAAAAOF9QKML6ltmXX9ABTkoYeZsgED7xteeGSuBQAhyUMJM6YFAAAAAAICngkD4ja89s2WDQAU5KGHmI4RA+8bXnhnihEAIclDCTKCFQAAAAACAXoZA+I2vPbMch0AFOShh5tqHQPvG154ZmYhACHJQwkxXiUAAAAAAgBWKQPeNrz2z04pABTkoYeaRi0D7xteeGVCMQAlyUMJMDo1AAAAAAIDMjUD3ja89s4qOQGZmZmbmSI9A\",\"dtype\":\"float64\",\"shape\":[75]}}},\"id\":\"7e5eda3a-46f4-4010-ad44-941a6727a873\",\"type\":\"ColumnDataSource\"},{\"attributes\":{},\"id\":\"6825088f-66af-46fd-8264-c0f983a6ae74\",\"type\":\"LogScale\"},{\"attributes\":{\"source\":{\"id\":\"d0ecc6d0-76bf-49f3-a7c9-1924f7345d7d\",\"type\":\"ColumnDataSource\"}},\"id\":\"6315c96e-72cd-4805-bb22-c9f68880833b\",\"type\":\"CDSView\"},{\"attributes\":{\"plot\":null,\"text\":\"Linear pressure scale\"},\"id\":\"34186a26-07b3-4eae-9197-84a3c8621c56\",\"type\":\"Title\"},{\"attributes\":{\"below\":[{\"id\":\"9ee3d4b2-0fe5-4425-91d4-a18f6e625316\",\"type\":\"LinearAxis\"}],\"left\":[{\"id\":\"eb7ff463-6a52-43d8-b219-71f220b40c34\",\"type\":\"LinearAxis\"}],\"plot_height\":500,\"plot_width\":400,\"renderers\":[{\"id\":\"9ee3d4b2-0fe5-4425-91d4-a18f6e625316\",\"type\":\"LinearAxis\"},{\"id\":\"f59bd869-34a9-44e8-987a-3fc032f0b81b\",\"type\":\"Grid\"},{\"id\":\"eb7ff463-6a52-43d8-b219-71f220b40c34\",\"type\":\"LinearAxis\"},{\"id\":\"cd78dc32-b144-46f7-9c19-453a7d7ea445\",\"type\":\"Grid\"},{\"id\":\"a62da4a3-18f1-4ceb-876c-427544d44d02\",\"type\":\"BoxAnnotation\"},{\"id\":\"c0da0838-9310-46e0-900b-faa0158d3d7f\",\"type\":\"GlyphRenderer\"},{\"id\":\"bc2d1747-0331-4450-87db-67b84ec2a66d\",\"type\":\"GlyphRenderer\"},{\"id\":\"9636a54d-b75a-4f75-9009-dc6fe5ad0cf9\",\"type\":\"GlyphRenderer\"},{\"id\":\"7e77a59d-9549-4530-b397-5ada2e8a6159\",\"type\":\"GlyphRenderer\"},{\"id\":\"5b93031a-4f3b-4634-b57d-5954e033d793\",\"type\":\"GlyphRenderer\"}],\"title\":{\"id\":\"34186a26-07b3-4eae-9197-84a3c8621c56\",\"type\":\"Title\"},\"toolbar\":{\"id\":\"6858b2cb-48ac-4ce1-8431-cc0731a904a3\",\"type\":\"Toolbar\"},\"toolbar_location\":null,\"x_range\":{\"id\":\"b8e3d1ff-83a0-4146-a470-796197f42def\",\"type\":\"Range1d\"},\"x_scale\":{\"id\":\"88663ad6-2ff3-453e-bcda-d449aadff18b\",\"type\":\"LinearScale\"},\"y_range\":{\"id\":\"1a61982c-beda-4bec-becf-85b93a74c7b1\",\"type\":\"Range1d\"},\"y_scale\":{\"id\":\"55cd1791-d9e2-4e0f-8eb9-fad7b6c7d5ef\",\"type\":\"LinearScale\"}},\"id\":\"c7f2426a-8b1d-4049-9a0e-56fab35a57fc\",\"subtype\":\"Figure\",\"type\":\"Plot\"},{\"attributes\":{\"line_alpha\":0.6,\"line_color\":\"#e41a1c\",\"line_dash\":[6],\"line_width\":5,\"x\":{\"field\":\"x\"},\"y\":{\"field\":\"y\"}},\"id\":\"6ba160a2-2c76-417b-8713-20a442044579\",\"type\":\"Line\"},{\"attributes\":{\"num_minor_ticks\":10},\"id\":\"032ac8f1-b7e5-43ef-acef-b96fe303a3b7\",\"type\":\"LogTicker\"},{\"attributes\":{},\"id\":\"d8c4aff6-a680-41ac-9adb-8fccc0b143bc\",\"type\":\"SaveTool\"},{\"attributes\":{\"callback\":null,\"column_names\":[\"x\",\"y\"],\"data\":{\"x\":{\"__ndarray__\":\"8F/Nv2Vnmj8AAAAAAAAAAAAAAAAAAAAAfji63dqooD8AAAAAAAAAAAAAAAAAAAAATKoH498boj/GndaerjaBP0QM7fzYrZ4/G6H6Ykp/oT/orzcB6xCcP4A7KN9udJg/7ONDfm1lpT8McXeZC6OfP2Dm9CL+VKM/IxEawcb1pD/bEmPgUxWlP5Vxkx50c6U/klUH/L7YpT9E3EsDBwCnPzWjPWMBQag/pgaQXUYKpz95AFvD5MSkP7oI8yEfKaI/wUN5aB0qnz+Rnq15EUqaP6rdhoNKfZU/09lh/bOnkT+YE6WetFmNPxWeB99KYog/UFhvPjiSgz+Vd19jiDR+P6Ywfx3pIHg/wPWBXfYvdT9TBL4/ehNzPxot7twHYnE/slEXHrTNbz+obt7b3O9rPwArBbq9f2c/4yBkwu9rYz90f4SIrFpfP7jUc+FvE1g/oKWQTEw1UT/aOx2glZdEPy9hnqG5vzM/WmCAXmcsQj9dk9zDGC9aP6kKO/ydPGg/x0fK4OimcT9o20SApxZ3P3Y8eV/0WHw/UU/PXmXEgD/3ZCHhS0aDP+jpidLRtoU/j/PyzK8MiD8BCdSsfUuKP/AEOhS3aow/PvezkjVujj86iYLFUyKQPySDDH+u/5A/fnGuAxXFkT90x2CaKXqSP0vNuz1KHZM/+uvl3MWykz/GvFlGlD2UP4Oasre6upQ/XbO4phAtlT+5tpkFOI+VP3x8dWeD0pU/XWw0YmHmlT9zOXzXQr6VP68fKNj7ZJU/sRpxH77ulD8uFf2c4G2UP4z/Wfic6ZM/\",\"dtype\":\"float64\",\"shape\":[75]},\"y\":{\"__ndarray__\":\"S/O/Q+51ND/430zAtpRIP2vylNV0PVE/QxsjCssuWD/TR4Z78fVgP+inNsRxymc/OuuBfZWvcD/u3TFA02d3P2d3VoBnaoA/CD5h5MAGhz/1pA8HUCaQP+zrCsc9p5Y/Fb7LAKjGnz/nJ9c/SEmmPwBD+fzcQq8/FOZwv9nstT8Er5Y7M8G+P0c+r3jqkcU/yK72qKZBzj+tM989FzjVPxbgmr8yxN0/cOm5AXbg5D+5ctXAf0jtP5kqGJXUifQ/DsrqDELP/D8MCAhBojQEQDItVnmnVwxAiFXNvdHgE0BSSZ2AJuIbQAMJih9jjiNA5q4l5INuK0CPVN/5RT0zQHzxRXu8/DpAOZ7PgHrtQkAg8wGBzoxKQBSTN8DMeFJA2NmQf2ZqWEAAAAAAAFxeQEQX1LfMJmJAmpmZmZkfZUBmZmZmZhhoQLzoK0gzEWtAAAAAAAAKbkCiC+pbZoFwQAhyUMLM/XFA+I2vPTN6c0AQ5KCEmfZ0QAAAAAAAc3ZA8Btfe2bvd0AIclDCzGt5QPeNrz0z6HpAEOSghJlkfEAAAAAAAOF9QKML6ltmXX9ABTkoYeZsgED7xteeGSuBQAhyUMJM6YFAAAAAAICngkD4ja89s2WDQAU5KGHmI4RA+8bXnhnihEAIclDCTKCFQAAAAACAXoZA+I2vPbMch0AFOShh5tqHQPvG154ZmYhACHJQwkxXiUAAAAAAgBWKQPeNrz2z04pABTkoYeaRi0D7xteeGVCMQAlyUMJMDo1AAAAAAIDMjUD3ja89s4qOQGZmZmbmSI9A\",\"dtype\":\"float64\",\"shape\":[75]}}},\"id\":\"43fc8564-535d-4fd6-b3ea-1800af05c9cd\",\"type\":\"ColumnDataSource\"},{\"attributes\":{\"callback\":null,\"end\":0.01,\"start\":1020},\"id\":\"1a61982c-beda-4bec-becf-85b93a74c7b1\",\"type\":\"Range1d\"}],\"root_ids\":[\"d3d20abf-4353-48c0-9166-976c027ea9a8\"]},\"title\":\"Bokeh Application\",\"version\":\"0.12.14\"}};\n",
       "  var render_items = [{\"docid\":\"07492946-3823-4393-95ea-0118769b2c36\",\"elementid\":\"48d0ceca-973c-4bd3-865b-ea08640a5efa\",\"modelid\":\"d3d20abf-4353-48c0-9166-976c027ea9a8\"}];\n",
       "  root.Bokeh.embed.embed_items_notebook(docs_json, render_items);\n",
       "\n",
       "  }\n",
       "  if (root.Bokeh !== undefined) {\n",
       "    embed_document(root);\n",
       "  } else {\n",
       "    var attempts = 0;\n",
       "    var timer = setInterval(function(root) {\n",
       "      if (root.Bokeh !== undefined) {\n",
       "        embed_document(root);\n",
       "        clearInterval(timer);\n",
       "      }\n",
       "      attempts++;\n",
       "      if (attempts > 100) {\n",
       "        console.log(\"Bokeh: ERROR: Unable to run BokehJS code because BokehJS library is missing\")\n",
       "        clearInterval(timer);\n",
       "      }\n",
       "    }, 10, root)\n",
       "  }\n",
       "})(window);"
      ],
      "application/vnd.bokehjs_exec.v0+json": ""
     },
     "metadata": {
      "application/vnd.bokehjs_exec.v0+json": {
       "id": "d3d20abf-4353-48c0-9166-976c027ea9a8"
      }
     },
     "output_type": "display_data"
    },
    {
     "name": "stdout",
     "output_type": "stream",
     "text": [
      "FIGURE. Cooling rate profiles.\n"
     ]
    },
    {
     "data": {
      "text/html": [
       "<a id=\"Flux_Comparison\"></a>"
      ],
      "text/plain": [
       "<IPython.core.display.HTML object>"
      ]
     },
     "metadata": {},
     "output_type": "display_data"
    },
    {
     "data": {
      "text/markdown": [
       "# Flux Comparison"
      ],
      "text/plain": [
       "<IPython.core.display.Markdown object>"
      ]
     },
     "metadata": {},
     "output_type": "display_data"
    },
    {
     "data": {
      "text/html": [
       "<div>\n",
       "<style>\n",
       "    .dataframe thead tr:only-child th {\n",
       "        text-align: right;\n",
       "    }\n",
       "\n",
       "    .dataframe thead th {\n",
       "        text-align: left;\n",
       "    }\n",
       "\n",
       "    .dataframe tbody tr th {\n",
       "        vertical-align: top;\n",
       "    }\n",
       "</style>\n",
       "<table border=\"1\" class=\"dataframe\">\n",
       "  <thead>\n",
       "    <tr style=\"text-align: right;\">\n",
       "      <th></th>\n",
       "      <th></th>\n",
       "      <th>flug</th>\n",
       "      <th>fldg</th>\n",
       "      <th>fnetg</th>\n",
       "    </tr>\n",
       "    <tr>\n",
       "      <th>pressure</th>\n",
       "      <th>level</th>\n",
       "      <th></th>\n",
       "      <th></th>\n",
       "      <th></th>\n",
       "    </tr>\n",
       "  </thead>\n",
       "  <tbody>\n",
       "    <tr>\n",
       "      <th>0.0000</th>\n",
       "      <th>1</th>\n",
       "      <td>-23.024992</td>\n",
       "      <td>0.000000</td>\n",
       "      <td>-23.024992</td>\n",
       "    </tr>\n",
       "    <tr>\n",
       "      <th>1.0685</th>\n",
       "      <th>24</th>\n",
       "      <td>-23.023513</td>\n",
       "      <td>0.004420</td>\n",
       "      <td>-23.019094</td>\n",
       "    </tr>\n",
       "    <tr>\n",
       "      <th>1013.0000</th>\n",
       "      <th>76</th>\n",
       "      <td>-23.591138</td>\n",
       "      <td>1.960934</td>\n",
       "      <td>-21.630204</td>\n",
       "    </tr>\n",
       "  </tbody>\n",
       "</table>\n",
       "</div>"
      ],
      "text/plain": [
       "                      flug      fldg      fnetg\n",
       "pressure  level                                \n",
       "0.0000    1     -23.024992  0.000000 -23.024992\n",
       "1.0685    24    -23.023513  0.004420 -23.019094\n",
       "1013.0000 76    -23.591138  1.960934 -21.630204"
      ]
     },
     "metadata": {},
     "output_type": "display_data"
    },
    {
     "name": "stdout",
     "output_type": "stream",
     "text": [
      "Table. Fluxes. WGT igg=10 wgt_flux=1\n"
     ]
    },
    {
     "data": {
      "text/html": [
       "<div>\n",
       "<style>\n",
       "    .dataframe thead tr:only-child th {\n",
       "        text-align: right;\n",
       "    }\n",
       "\n",
       "    .dataframe thead th {\n",
       "        text-align: left;\n",
       "    }\n",
       "\n",
       "    .dataframe tbody tr th {\n",
       "        vertical-align: top;\n",
       "    }\n",
       "</style>\n",
       "<table border=\"1\" class=\"dataframe\">\n",
       "  <thead>\n",
       "    <tr style=\"text-align: right;\">\n",
       "      <th></th>\n",
       "      <th></th>\n",
       "      <th>flug</th>\n",
       "      <th>fldg</th>\n",
       "      <th>fnetg</th>\n",
       "    </tr>\n",
       "    <tr>\n",
       "      <th>pressure</th>\n",
       "      <th>level</th>\n",
       "      <th></th>\n",
       "      <th></th>\n",
       "      <th></th>\n",
       "    </tr>\n",
       "  </thead>\n",
       "  <tbody>\n",
       "    <tr>\n",
       "      <th>0.0000</th>\n",
       "      <th>1</th>\n",
       "      <td>-23.029560</td>\n",
       "      <td>0.000000</td>\n",
       "      <td>-23.029560</td>\n",
       "    </tr>\n",
       "    <tr>\n",
       "      <th>1.0685</th>\n",
       "      <th>24</th>\n",
       "      <td>-23.028184</td>\n",
       "      <td>0.004588</td>\n",
       "      <td>-23.023596</td>\n",
       "    </tr>\n",
       "    <tr>\n",
       "      <th>1013.0000</th>\n",
       "      <th>76</th>\n",
       "      <td>-23.591138</td>\n",
       "      <td>1.871264</td>\n",
       "      <td>-21.719873</td>\n",
       "    </tr>\n",
       "  </tbody>\n",
       "</table>\n",
       "</div>"
      ],
      "text/plain": [
       "                      flug      fldg      fnetg\n",
       "pressure  level                                \n",
       "0.0000    1     -23.029560  0.000000 -23.029560\n",
       "1.0685    24    -23.028184  0.004588 -23.023596\n",
       "1013.0000 76    -23.591138  1.871264 -21.719873"
      ]
     },
     "metadata": {},
     "output_type": "display_data"
    },
    {
     "name": "stdout",
     "output_type": "stream",
     "text": [
      "Table. Fluxes. CRD\n"
     ]
    },
    {
     "data": {
      "text/html": [
       "<div>\n",
       "<style>\n",
       "    .dataframe thead tr:only-child th {\n",
       "        text-align: right;\n",
       "    }\n",
       "\n",
       "    .dataframe thead th {\n",
       "        text-align: left;\n",
       "    }\n",
       "\n",
       "    .dataframe tbody tr th {\n",
       "        vertical-align: top;\n",
       "    }\n",
       "</style>\n",
       "<table border=\"1\" class=\"dataframe\">\n",
       "  <thead>\n",
       "    <tr style=\"text-align: right;\">\n",
       "      <th></th>\n",
       "      <th></th>\n",
       "      <th>flug</th>\n",
       "      <th>fldg</th>\n",
       "      <th>fnetg</th>\n",
       "    </tr>\n",
       "    <tr>\n",
       "      <th>pressure</th>\n",
       "      <th>level</th>\n",
       "      <th></th>\n",
       "      <th></th>\n",
       "      <th></th>\n",
       "    </tr>\n",
       "  </thead>\n",
       "  <tbody>\n",
       "    <tr>\n",
       "      <th>1.000000e-08</th>\n",
       "      <th>1</th>\n",
       "      <td>-23.046120</td>\n",
       "      <td>0.000002</td>\n",
       "      <td>-23.046118</td>\n",
       "    </tr>\n",
       "    <tr>\n",
       "      <th>1.068500e+00</th>\n",
       "      <th>24</th>\n",
       "      <td>-23.044758</td>\n",
       "      <td>0.004033</td>\n",
       "      <td>-23.040724</td>\n",
       "    </tr>\n",
       "    <tr>\n",
       "      <th>1.013000e+03</th>\n",
       "      <th>76</th>\n",
       "      <td>-23.591141</td>\n",
       "      <td>1.895828</td>\n",
       "      <td>-21.695312</td>\n",
       "    </tr>\n",
       "  </tbody>\n",
       "</table>\n",
       "</div>"
      ],
      "text/plain": [
       "                         flug      fldg      fnetg\n",
       "pressure     level                                \n",
       "1.000000e-08 1     -23.046120  0.000002 -23.046118\n",
       "1.068500e+00 24    -23.044758  0.004033 -23.040724\n",
       "1.013000e+03 76    -23.591141  1.895828 -21.695312"
      ]
     },
     "metadata": {},
     "output_type": "display_data"
    },
    {
     "name": "stdout",
     "output_type": "stream",
     "text": [
      "Table. Fluxes. CLIRAD\n"
     ]
    },
    {
     "data": {
      "text/html": [
       "<div>\n",
       "<style>\n",
       "    .dataframe thead tr:only-child th {\n",
       "        text-align: right;\n",
       "    }\n",
       "\n",
       "    .dataframe thead th {\n",
       "        text-align: left;\n",
       "    }\n",
       "\n",
       "    .dataframe tbody tr th {\n",
       "        vertical-align: top;\n",
       "    }\n",
       "</style>\n",
       "<table border=\"1\" class=\"dataframe\">\n",
       "  <thead>\n",
       "    <tr style=\"text-align: right;\">\n",
       "      <th></th>\n",
       "      <th></th>\n",
       "      <th>flug</th>\n",
       "      <th>fldg</th>\n",
       "      <th>fnetg</th>\n",
       "    </tr>\n",
       "    <tr>\n",
       "      <th>pressure</th>\n",
       "      <th>level</th>\n",
       "      <th></th>\n",
       "      <th></th>\n",
       "      <th></th>\n",
       "    </tr>\n",
       "  </thead>\n",
       "  <tbody>\n",
       "    <tr>\n",
       "      <th>0.0000</th>\n",
       "      <th>1</th>\n",
       "      <td>-4.568470e-03</td>\n",
       "      <td>0.000000</td>\n",
       "      <td>-0.004568</td>\n",
       "    </tr>\n",
       "    <tr>\n",
       "      <th>1.0685</th>\n",
       "      <th>24</th>\n",
       "      <td>-4.670670e-03</td>\n",
       "      <td>0.000168</td>\n",
       "      <td>-0.004502</td>\n",
       "    </tr>\n",
       "    <tr>\n",
       "      <th>1013.0000</th>\n",
       "      <th>76</th>\n",
       "      <td>-3.400000e-07</td>\n",
       "      <td>-0.089670</td>\n",
       "      <td>-0.089669</td>\n",
       "    </tr>\n",
       "  </tbody>\n",
       "</table>\n",
       "</div>"
      ],
      "text/plain": [
       "                         flug      fldg     fnetg\n",
       "pressure  level                                  \n",
       "0.0000    1     -4.568470e-03  0.000000 -0.004568\n",
       "1.0685    24    -4.670670e-03  0.000168 -0.004502\n",
       "1013.0000 76    -3.400000e-07 -0.089670 -0.089669"
      ]
     },
     "metadata": {},
     "output_type": "display_data"
    },
    {
     "name": "stdout",
     "output_type": "stream",
     "text": [
      "Table. Fluxes. (CRD) - (WGT igg=10 wgt_flux=1)\n"
     ]
    },
    {
     "data": {
      "text/html": [
       "<div>\n",
       "<style>\n",
       "    .dataframe thead tr:only-child th {\n",
       "        text-align: right;\n",
       "    }\n",
       "\n",
       "    .dataframe thead th {\n",
       "        text-align: left;\n",
       "    }\n",
       "\n",
       "    .dataframe tbody tr th {\n",
       "        vertical-align: top;\n",
       "    }\n",
       "</style>\n",
       "<table border=\"1\" class=\"dataframe\">\n",
       "  <thead>\n",
       "    <tr style=\"text-align: right;\">\n",
       "      <th></th>\n",
       "      <th></th>\n",
       "      <th>flug</th>\n",
       "      <th>fldg</th>\n",
       "      <th>fnetg</th>\n",
       "    </tr>\n",
       "    <tr>\n",
       "      <th>pressure</th>\n",
       "      <th>level</th>\n",
       "      <th></th>\n",
       "      <th></th>\n",
       "      <th></th>\n",
       "    </tr>\n",
       "  </thead>\n",
       "  <tbody>\n",
       "    <tr>\n",
       "      <th>0.0000</th>\n",
       "      <th>1</th>\n",
       "      <td>-0.021128</td>\n",
       "      <td>0.000002</td>\n",
       "      <td>-0.021126</td>\n",
       "    </tr>\n",
       "    <tr>\n",
       "      <th>1.0685</th>\n",
       "      <th>24</th>\n",
       "      <td>-0.021245</td>\n",
       "      <td>-0.000387</td>\n",
       "      <td>-0.021630</td>\n",
       "    </tr>\n",
       "    <tr>\n",
       "      <th>1013.0000</th>\n",
       "      <th>76</th>\n",
       "      <td>-0.000003</td>\n",
       "      <td>-0.065106</td>\n",
       "      <td>-0.065108</td>\n",
       "    </tr>\n",
       "  </tbody>\n",
       "</table>\n",
       "</div>"
      ],
      "text/plain": [
       "                     flug      fldg     fnetg\n",
       "pressure  level                              \n",
       "0.0000    1     -0.021128  0.000002 -0.021126\n",
       "1.0685    24    -0.021245 -0.000387 -0.021630\n",
       "1013.0000 76    -0.000003 -0.065106 -0.065108"
      ]
     },
     "metadata": {},
     "output_type": "display_data"
    },
    {
     "name": "stdout",
     "output_type": "stream",
     "text": [
      "Table. Fluxes. (CLIRAD) - (WGT igg=10 wgt_flux=1)\n"
     ]
    },
    {
     "data": {
      "text/html": [
       "<a id=\"Best-fit_Parameters\"></a>"
      ],
      "text/plain": [
       "<IPython.core.display.HTML object>"
      ]
     },
     "metadata": {},
     "output_type": "display_data"
    },
    {
     "data": {
      "text/markdown": [
       "# Best-fit Parameters"
      ],
      "text/plain": [
       "<IPython.core.display.Markdown object>"
      ]
     },
     "metadata": {},
     "output_type": "display_data"
    },
    {
     "name": "stdout",
     "output_type": "stream",
     "text": [
      "Best-fit values for each (gas, band)\n",
      "------------------------------------\n",
      "o n2o band3a\n",
      "  atmpro = mls\n",
      "  band = 3a\n",
      "  commitnumber = 2bd1f75\n",
      "  conc = 3.2e-07\n",
      "  dv = 0.01\n",
      "  klin = 2.22e-20\n",
      "  molecule = n2o\n",
      "  ng_adju = [0, 0]\n",
      "  ng_refs = [1, 2]\n",
      "  nv = 100\n",
      "  option_compute_btable = 0\n",
      "  option_compute_ktable = 1\n",
      "  option_wgt_flux = 1\n",
      "  option_wgt_k = 1\n",
      "  ref_pts = [(1, 250), (500, 250)]\n",
      "  tsfc = 294\n",
      "  vmax = 620\n",
      "  vmin = 540\n",
      "  w_diffuse = [(1.8,), (1.66, 1.8)]\n",
      "  wgt = [(0.9,), (0.5, 0.95)]\n"
     ]
    }
   ],
   "source": [
    "script()"
   ]
  },
  {
   "cell_type": "code",
   "execution_count": 13,
   "metadata": {
    "collapsed": true
   },
   "outputs": [
    {
     "data": {
      "text/html": [
       "<script>\n",
       "code_show=true; \n",
       "function code_toggle() {\n",
       " if (code_show){\n",
       " $('div.input').hide();\n",
       " } else {\n",
       " $('div.input').show();\n",
       " }\n",
       " code_show = !code_show\n",
       "} \n",
       "$( document ).ready(code_toggle);\n",
       "</script>\n",
       "<form action=\"javascript:code_toggle()\"><input type=\"submit\" value=\"Click here to toggle on/off the raw code.\"></form>"
      ],
      "text/plain": [
       "<IPython.core.display.HTML object>"
      ]
     },
     "execution_count": 13,
     "metadata": {},
     "output_type": "execute_result"
    }
   ],
   "source": [
    "display.HTML('''<script>\n",
    "code_show=true; \n",
    "function code_toggle() {\n",
    " if (code_show){\n",
    " $('div.input').hide();\n",
    " } else {\n",
    " $('div.input').show();\n",
    " }\n",
    " code_show = !code_show\n",
    "} \n",
    "$( document ).ready(code_toggle);\n",
    "</script>\n",
    "<form action=\"javascript:code_toggle()\"><input type=\"submit\" value=\"Click here to toggle on/off the raw code.\"></form>''')"
   ]
  }
 ],
 "metadata": {
  "kernelspec": {
   "display_name": "Python 3",
   "language": "python",
   "name": "python3"
  },
  "language_info": {
   "codemirror_mode": {
    "name": "ipython",
    "version": 3
   },
   "file_extension": ".py",
   "mimetype": "text/x-python",
   "name": "python",
   "nbconvert_exporter": "python",
   "pygments_lexer": "ipython3",
   "version": "3.6.1"
  }
 },
 "nbformat": 4,
 "nbformat_minor": 2
}
