{
 "cells": [
  {
   "cell_type": "code",
   "execution_count": 1,
   "metadata": {
    "collapsed": true
   },
   "outputs": [],
   "source": [
    "%matplotlib inline\n",
    "import os\n",
    "import re\n",
    "import io\n",
    "import itertools\n",
    "import pprint\n",
    "\n",
    "from bokeh.io import output_notebook, show\n",
    "from bokeh.layouts import gridplot\n",
    "from bokeh.plotting import figure\n",
    "from bokeh.models import Range1d, Legend\n",
    "from bokeh.palettes import all_palettes\n",
    "\n",
    "import matplotlib\n",
    "import matplotlib.pyplot as plt\n",
    "import numpy as np\n",
    "import pandas as pd\n",
    "import xarray as xr\n",
    "\n",
    "import climatools.lblnew.bestfit_params as bestfits\n",
    "from climatools.lblnew import setup_bestfit, setup_overlap\n",
    "import climatools.lblnew.pipeline as pipe_lblnew\n",
    "import climatools.cliradlw.setup as setup_cliradlw\n",
    "import climatools.cliradlw.pipeline as pipe_cliradlw\n",
    "\n",
    "import climatools.html.html as climahtml\n",
    "from climatools.lblnew.dataio import *\n",
    "from climatools.plot.plot import *\n",
    "\n",
    "\n",
    "import IPython.display as display"
   ]
  },
  {
   "cell_type": "code",
   "execution_count": 2,
   "metadata": {
    "collapsed": true
   },
   "outputs": [],
   "source": [
    "%run param.py"
   ]
  },
  {
   "cell_type": "code",
   "execution_count": 3,
   "metadata": {
    "collapsed": true
   },
   "outputs": [],
   "source": [
    "def load_output_file(path_csv):\n",
    "    '''\n",
    "    Load lblnew output .csv file to xarray.Dataset\n",
    "    \n",
    "    Parameters\n",
    "    ----------\n",
    "    path_csv: str\n",
    "              Path to the .csv file to be loaded.\n",
    "    ds: xarray.Dataset\n",
    "        Data in the input file in the form of an xarray.Dataset.\n",
    "    '''\n",
    "    toindex = ['band', 'pressure', 'igg', 'g']    \n",
    "    df = pd.read_csv(path_csv, sep=r'\\s+')\n",
    "    df = df.set_index([i for i in toindex if i in df.columns])\n",
    "    df = df.rename(columns={'sfu': 'flug',\n",
    "                            'sfd': 'fldg',\n",
    "                            'fnet': 'fnetg',\n",
    "                            'coolr': 'coolrg'})\n",
    "    ds = xr.Dataset.from_dataframe(df)\n",
    "\n",
    "    for l in ('level', 'layer'):\n",
    "        if l in ds.data_vars:\n",
    "            if len(ds[l].dims) > 1:\n",
    "                surface = {d: 0 for d in ds.dims if d != 'pressure'}\n",
    "                coord_level = ds[l][surface]\n",
    "                ds.coords[l] = ('pressure', coord_level)\n",
    "            else:\n",
    "                ds.coords[l] = ('pressure', ds[l])\n",
    "    \n",
    "    return ds"
   ]
  },
  {
   "cell_type": "code",
   "execution_count": 4,
   "metadata": {
    "collapsed": true
   },
   "outputs": [],
   "source": [
    "def lblnew_setup(param=None):\n",
    "    if 'ng_refs' in param:\n",
    "        return {'setup': setup_bestfit,\n",
    "                'fname_flux_crd': 'output_flux.dat',\n",
    "                'fname_cool_crd': 'output_coolr.dat',\n",
    "                'fname_flux_wgt': 'output_wfluxg.dat',\n",
    "                'fname_cool_wgt': 'output_wcoolrg.dat'}\n",
    "    else:\n",
    "        return {'setup': setup_overlap,\n",
    "                'fname_flux_crd': 'output_flux.dat',\n",
    "                'fname_cool_crd': 'output_coolr.dat',\n",
    "                'fname_flux_wgt': 'output_wflux.dat',\n",
    "                'fname_cool_wgt': 'output_wcoolr.dat'}\n",
    "\n",
    "    \n",
    "def load_lblnew_data(param):\n",
    "    \n",
    "    fname_dsname = [('fname_flux_crd', 'ds_flux_crd'),\n",
    "                    ('fname_cool_crd', 'ds_cool_crd'),\n",
    "                    ('fname_flux_wgt', 'ds_flux_wgt'),\n",
    "                    ('fname_cool_wgt', 'ds_cool_wgt')]\n",
    "    \n",
    "    d = lblnew_setup(param)\n",
    "    dir_fortran = pipe_lblnew.get_dir_case(param, setup=d['setup'])\n",
    "    \n",
    "    data_dict = {}\n",
    "    for fname, dsname in fname_dsname:\n",
    "        fpath = os.path.join(dir_fortran, d[fname])\n",
    "        data_dict[dsname] = load_output_file(fpath)\n",
    "    return data_dict\n",
    "    \n",
    "\n",
    "    \n",
    "    "
   ]
  },
  {
   "cell_type": "code",
   "execution_count": 5,
   "metadata": {
    "collapsed": true
   },
   "outputs": [],
   "source": [
    "d = load_lblnew_data(PARAM_LBLNEW)\n",
    "\n",
    "DS_FLUX_CRD = d['ds_flux_crd']\n",
    "DS_COOL_CRD = d['ds_cool_crd']\n",
    "DS_FLUX_WGT = d['ds_flux_wgt']\n",
    "DS_COOL_WGT = d['ds_cool_wgt']"
   ]
  },
  {
   "cell_type": "code",
   "execution_count": 6,
   "metadata": {
    "collapsed": true
   },
   "outputs": [],
   "source": [
    "DIR_FORTRAN = pipe_cliradlw.get_fortran_dir(PARAM, \n",
    "                                            setup=setup_cliradlw)\n",
    "\n",
    "PATH_FLUX = os.path.join(DIR_FORTRAN, 'output_flux.dat')\n",
    "PATH_COOL = os.path.join(DIR_FORTRAN, 'output_coolr.dat')\n",
    "\n",
    "DS_FLUX = load_output_file(PATH_FLUX)\n",
    "DS_COOL = load_output_file(PATH_COOL)"
   ]
  },
  {
   "cell_type": "code",
   "execution_count": 7,
   "metadata": {
    "collapsed": true
   },
   "outputs": [
    {
     "data": {
      "text/html": [
       "\n",
       "    <div class=\"bk-root\">\n",
       "        <a href=\"https://bokeh.pydata.org\" target=\"_blank\" class=\"bk-logo bk-logo-small bk-logo-notebook\"></a>\n",
       "        <span id=\"9e6f9b6f-1958-4459-b00b-2c47c2d50da3\">Loading BokehJS ...</span>\n",
       "    </div>"
      ]
     },
     "metadata": {},
     "output_type": "display_data"
    },
    {
     "data": {
      "application/javascript": [
       "\n",
       "(function(root) {\n",
       "  function now() {\n",
       "    return new Date();\n",
       "  }\n",
       "\n",
       "  var force = true;\n",
       "\n",
       "  if (typeof (root._bokeh_onload_callbacks) === \"undefined\" || force === true) {\n",
       "    root._bokeh_onload_callbacks = [];\n",
       "    root._bokeh_is_loading = undefined;\n",
       "  }\n",
       "\n",
       "  var JS_MIME_TYPE = 'application/javascript';\n",
       "  var HTML_MIME_TYPE = 'text/html';\n",
       "  var EXEC_MIME_TYPE = 'application/vnd.bokehjs_exec.v0+json';\n",
       "  var CLASS_NAME = 'output_bokeh rendered_html';\n",
       "\n",
       "  /**\n",
       "   * Render data to the DOM node\n",
       "   */\n",
       "  function render(props, node) {\n",
       "    var script = document.createElement(\"script\");\n",
       "    node.appendChild(script);\n",
       "  }\n",
       "\n",
       "  /**\n",
       "   * Handle when an output is cleared or removed\n",
       "   */\n",
       "  function handleClearOutput(event, handle) {\n",
       "    var cell = handle.cell;\n",
       "\n",
       "    var id = cell.output_area._bokeh_element_id;\n",
       "    var server_id = cell.output_area._bokeh_server_id;\n",
       "    // Clean up Bokeh references\n",
       "    if (id !== undefined) {\n",
       "      Bokeh.index[id].model.document.clear();\n",
       "      delete Bokeh.index[id];\n",
       "    }\n",
       "\n",
       "    if (server_id !== undefined) {\n",
       "      // Clean up Bokeh references\n",
       "      var cmd = \"from bokeh.io.state import curstate; print(curstate().uuid_to_server['\" + server_id + \"'].get_sessions()[0].document.roots[0]._id)\";\n",
       "      cell.notebook.kernel.execute(cmd, {\n",
       "        iopub: {\n",
       "          output: function(msg) {\n",
       "            var element_id = msg.content.text.trim();\n",
       "            Bokeh.index[element_id].model.document.clear();\n",
       "            delete Bokeh.index[element_id];\n",
       "          }\n",
       "        }\n",
       "      });\n",
       "      // Destroy server and session\n",
       "      var cmd = \"import bokeh.io.notebook as ion; ion.destroy_server('\" + server_id + \"')\";\n",
       "      cell.notebook.kernel.execute(cmd);\n",
       "    }\n",
       "  }\n",
       "\n",
       "  /**\n",
       "   * Handle when a new output is added\n",
       "   */\n",
       "  function handleAddOutput(event, handle) {\n",
       "    var output_area = handle.output_area;\n",
       "    var output = handle.output;\n",
       "\n",
       "    // limit handleAddOutput to display_data with EXEC_MIME_TYPE content only\n",
       "    if ((output.output_type != \"display_data\") || (!output.data.hasOwnProperty(EXEC_MIME_TYPE))) {\n",
       "      return\n",
       "    }\n",
       "\n",
       "    var toinsert = output_area.element.find(\".\" + CLASS_NAME.split(' ')[0]);\n",
       "\n",
       "    if (output.metadata[EXEC_MIME_TYPE][\"id\"] !== undefined) {\n",
       "      toinsert[0].firstChild.textContent = output.data[JS_MIME_TYPE];\n",
       "      // store reference to embed id on output_area\n",
       "      output_area._bokeh_element_id = output.metadata[EXEC_MIME_TYPE][\"id\"];\n",
       "    }\n",
       "    if (output.metadata[EXEC_MIME_TYPE][\"server_id\"] !== undefined) {\n",
       "      var bk_div = document.createElement(\"div\");\n",
       "      bk_div.innerHTML = output.data[HTML_MIME_TYPE];\n",
       "      var script_attrs = bk_div.children[0].attributes;\n",
       "      for (var i = 0; i < script_attrs.length; i++) {\n",
       "        toinsert[0].firstChild.setAttribute(script_attrs[i].name, script_attrs[i].value);\n",
       "      }\n",
       "      // store reference to server id on output_area\n",
       "      output_area._bokeh_server_id = output.metadata[EXEC_MIME_TYPE][\"server_id\"];\n",
       "    }\n",
       "  }\n",
       "\n",
       "  function register_renderer(events, OutputArea) {\n",
       "\n",
       "    function append_mime(data, metadata, element) {\n",
       "      // create a DOM node to render to\n",
       "      var toinsert = this.create_output_subarea(\n",
       "        metadata,\n",
       "        CLASS_NAME,\n",
       "        EXEC_MIME_TYPE\n",
       "      );\n",
       "      this.keyboard_manager.register_events(toinsert);\n",
       "      // Render to node\n",
       "      var props = {data: data, metadata: metadata[EXEC_MIME_TYPE]};\n",
       "      render(props, toinsert[0]);\n",
       "      element.append(toinsert);\n",
       "      return toinsert\n",
       "    }\n",
       "\n",
       "    /* Handle when an output is cleared or removed */\n",
       "    events.on('clear_output.CodeCell', handleClearOutput);\n",
       "    events.on('delete.Cell', handleClearOutput);\n",
       "\n",
       "    /* Handle when a new output is added */\n",
       "    events.on('output_added.OutputArea', handleAddOutput);\n",
       "\n",
       "    /**\n",
       "     * Register the mime type and append_mime function with output_area\n",
       "     */\n",
       "    OutputArea.prototype.register_mime_type(EXEC_MIME_TYPE, append_mime, {\n",
       "      /* Is output safe? */\n",
       "      safe: true,\n",
       "      /* Index of renderer in `output_area.display_order` */\n",
       "      index: 0\n",
       "    });\n",
       "  }\n",
       "\n",
       "  // register the mime type if in Jupyter Notebook environment and previously unregistered\n",
       "  if (root.Jupyter !== undefined) {\n",
       "    var events = require('base/js/events');\n",
       "    var OutputArea = require('notebook/js/outputarea').OutputArea;\n",
       "\n",
       "    if (OutputArea.prototype.mime_types().indexOf(EXEC_MIME_TYPE) == -1) {\n",
       "      register_renderer(events, OutputArea);\n",
       "    }\n",
       "  }\n",
       "\n",
       "  \n",
       "  if (typeof (root._bokeh_timeout) === \"undefined\" || force === true) {\n",
       "    root._bokeh_timeout = Date.now() + 5000;\n",
       "    root._bokeh_failed_load = false;\n",
       "  }\n",
       "\n",
       "  var NB_LOAD_WARNING = {'data': {'text/html':\n",
       "     \"<div style='background-color: #fdd'>\\n\"+\n",
       "     \"<p>\\n\"+\n",
       "     \"BokehJS does not appear to have successfully loaded. If loading BokehJS from CDN, this \\n\"+\n",
       "     \"may be due to a slow or bad network connection. Possible fixes:\\n\"+\n",
       "     \"</p>\\n\"+\n",
       "     \"<ul>\\n\"+\n",
       "     \"<li>re-rerun `output_notebook()` to attempt to load from CDN again, or</li>\\n\"+\n",
       "     \"<li>use INLINE resources instead, as so:</li>\\n\"+\n",
       "     \"</ul>\\n\"+\n",
       "     \"<code>\\n\"+\n",
       "     \"from bokeh.resources import INLINE\\n\"+\n",
       "     \"output_notebook(resources=INLINE)\\n\"+\n",
       "     \"</code>\\n\"+\n",
       "     \"</div>\"}};\n",
       "\n",
       "  function display_loaded() {\n",
       "    var el = document.getElementById(\"9e6f9b6f-1958-4459-b00b-2c47c2d50da3\");\n",
       "    if (el != null) {\n",
       "      el.textContent = \"BokehJS is loading...\";\n",
       "    }\n",
       "    if (root.Bokeh !== undefined) {\n",
       "      if (el != null) {\n",
       "        el.textContent = \"BokehJS \" + root.Bokeh.version + \" successfully loaded.\";\n",
       "      }\n",
       "    } else if (Date.now() < root._bokeh_timeout) {\n",
       "      setTimeout(display_loaded, 100)\n",
       "    }\n",
       "  }\n",
       "\n",
       "\n",
       "  function run_callbacks() {\n",
       "    try {\n",
       "      root._bokeh_onload_callbacks.forEach(function(callback) { callback() });\n",
       "    }\n",
       "    finally {\n",
       "      delete root._bokeh_onload_callbacks\n",
       "    }\n",
       "    console.info(\"Bokeh: all callbacks have finished\");\n",
       "  }\n",
       "\n",
       "  function load_libs(js_urls, callback) {\n",
       "    root._bokeh_onload_callbacks.push(callback);\n",
       "    if (root._bokeh_is_loading > 0) {\n",
       "      console.log(\"Bokeh: BokehJS is being loaded, scheduling callback at\", now());\n",
       "      return null;\n",
       "    }\n",
       "    if (js_urls == null || js_urls.length === 0) {\n",
       "      run_callbacks();\n",
       "      return null;\n",
       "    }\n",
       "    console.log(\"Bokeh: BokehJS not loaded, scheduling load and callback at\", now());\n",
       "    root._bokeh_is_loading = js_urls.length;\n",
       "    for (var i = 0; i < js_urls.length; i++) {\n",
       "      var url = js_urls[i];\n",
       "      var s = document.createElement('script');\n",
       "      s.src = url;\n",
       "      s.async = false;\n",
       "      s.onreadystatechange = s.onload = function() {\n",
       "        root._bokeh_is_loading--;\n",
       "        if (root._bokeh_is_loading === 0) {\n",
       "          console.log(\"Bokeh: all BokehJS libraries loaded\");\n",
       "          run_callbacks()\n",
       "        }\n",
       "      };\n",
       "      s.onerror = function() {\n",
       "        console.warn(\"failed to load library \" + url);\n",
       "      };\n",
       "      console.log(\"Bokeh: injecting script tag for BokehJS library: \", url);\n",
       "      document.getElementsByTagName(\"head\")[0].appendChild(s);\n",
       "    }\n",
       "  };var element = document.getElementById(\"9e6f9b6f-1958-4459-b00b-2c47c2d50da3\");\n",
       "  if (element == null) {\n",
       "    console.log(\"Bokeh: ERROR: autoload.js configured with elementid '9e6f9b6f-1958-4459-b00b-2c47c2d50da3' but no matching script tag was found. \")\n",
       "    return false;\n",
       "  }\n",
       "\n",
       "  var js_urls = [\"https://cdn.pydata.org/bokeh/release/bokeh-0.12.14.min.js\", \"https://cdn.pydata.org/bokeh/release/bokeh-widgets-0.12.14.min.js\", \"https://cdn.pydata.org/bokeh/release/bokeh-tables-0.12.14.min.js\", \"https://cdn.pydata.org/bokeh/release/bokeh-gl-0.12.14.min.js\"];\n",
       "\n",
       "  var inline_js = [\n",
       "    function(Bokeh) {\n",
       "      Bokeh.set_log_level(\"info\");\n",
       "    },\n",
       "    \n",
       "    function(Bokeh) {\n",
       "      \n",
       "    },\n",
       "    function(Bokeh) {\n",
       "      console.log(\"Bokeh: injecting CSS: https://cdn.pydata.org/bokeh/release/bokeh-0.12.14.min.css\");\n",
       "      Bokeh.embed.inject_css(\"https://cdn.pydata.org/bokeh/release/bokeh-0.12.14.min.css\");\n",
       "      console.log(\"Bokeh: injecting CSS: https://cdn.pydata.org/bokeh/release/bokeh-widgets-0.12.14.min.css\");\n",
       "      Bokeh.embed.inject_css(\"https://cdn.pydata.org/bokeh/release/bokeh-widgets-0.12.14.min.css\");\n",
       "      console.log(\"Bokeh: injecting CSS: https://cdn.pydata.org/bokeh/release/bokeh-tables-0.12.14.min.css\");\n",
       "      Bokeh.embed.inject_css(\"https://cdn.pydata.org/bokeh/release/bokeh-tables-0.12.14.min.css\");\n",
       "    }\n",
       "  ];\n",
       "\n",
       "  function run_inline_js() {\n",
       "    \n",
       "    if ((root.Bokeh !== undefined) || (force === true)) {\n",
       "      for (var i = 0; i < inline_js.length; i++) {\n",
       "        inline_js[i].call(root, root.Bokeh);\n",
       "      }if (force === true) {\n",
       "        display_loaded();\n",
       "      }} else if (Date.now() < root._bokeh_timeout) {\n",
       "      setTimeout(run_inline_js, 100);\n",
       "    } else if (!root._bokeh_failed_load) {\n",
       "      console.log(\"Bokeh: BokehJS failed to load within specified timeout.\");\n",
       "      root._bokeh_failed_load = true;\n",
       "    } else if (force !== true) {\n",
       "      var cell = $(document.getElementById(\"9e6f9b6f-1958-4459-b00b-2c47c2d50da3\")).parents('.cell').data().cell;\n",
       "      cell.output_area.append_execute_result(NB_LOAD_WARNING)\n",
       "    }\n",
       "\n",
       "  }\n",
       "\n",
       "  if (root._bokeh_is_loading === 0) {\n",
       "    console.log(\"Bokeh: BokehJS loaded, going straight to plotting\");\n",
       "    run_inline_js();\n",
       "  } else {\n",
       "    load_libs(js_urls, function() {\n",
       "      console.log(\"Bokeh: BokehJS plotting callback run at\", now());\n",
       "      run_inline_js();\n",
       "    });\n",
       "  }\n",
       "}(window));"
      ],
      "application/vnd.bokehjs_load.v0+json": "\n(function(root) {\n  function now() {\n    return new Date();\n  }\n\n  var force = true;\n\n  if (typeof (root._bokeh_onload_callbacks) === \"undefined\" || force === true) {\n    root._bokeh_onload_callbacks = [];\n    root._bokeh_is_loading = undefined;\n  }\n\n  \n\n  \n  if (typeof (root._bokeh_timeout) === \"undefined\" || force === true) {\n    root._bokeh_timeout = Date.now() + 5000;\n    root._bokeh_failed_load = false;\n  }\n\n  var NB_LOAD_WARNING = {'data': {'text/html':\n     \"<div style='background-color: #fdd'>\\n\"+\n     \"<p>\\n\"+\n     \"BokehJS does not appear to have successfully loaded. If loading BokehJS from CDN, this \\n\"+\n     \"may be due to a slow or bad network connection. Possible fixes:\\n\"+\n     \"</p>\\n\"+\n     \"<ul>\\n\"+\n     \"<li>re-rerun `output_notebook()` to attempt to load from CDN again, or</li>\\n\"+\n     \"<li>use INLINE resources instead, as so:</li>\\n\"+\n     \"</ul>\\n\"+\n     \"<code>\\n\"+\n     \"from bokeh.resources import INLINE\\n\"+\n     \"output_notebook(resources=INLINE)\\n\"+\n     \"</code>\\n\"+\n     \"</div>\"}};\n\n  function display_loaded() {\n    var el = document.getElementById(\"9e6f9b6f-1958-4459-b00b-2c47c2d50da3\");\n    if (el != null) {\n      el.textContent = \"BokehJS is loading...\";\n    }\n    if (root.Bokeh !== undefined) {\n      if (el != null) {\n        el.textContent = \"BokehJS \" + root.Bokeh.version + \" successfully loaded.\";\n      }\n    } else if (Date.now() < root._bokeh_timeout) {\n      setTimeout(display_loaded, 100)\n    }\n  }\n\n\n  function run_callbacks() {\n    try {\n      root._bokeh_onload_callbacks.forEach(function(callback) { callback() });\n    }\n    finally {\n      delete root._bokeh_onload_callbacks\n    }\n    console.info(\"Bokeh: all callbacks have finished\");\n  }\n\n  function load_libs(js_urls, callback) {\n    root._bokeh_onload_callbacks.push(callback);\n    if (root._bokeh_is_loading > 0) {\n      console.log(\"Bokeh: BokehJS is being loaded, scheduling callback at\", now());\n      return null;\n    }\n    if (js_urls == null || js_urls.length === 0) {\n      run_callbacks();\n      return null;\n    }\n    console.log(\"Bokeh: BokehJS not loaded, scheduling load and callback at\", now());\n    root._bokeh_is_loading = js_urls.length;\n    for (var i = 0; i < js_urls.length; i++) {\n      var url = js_urls[i];\n      var s = document.createElement('script');\n      s.src = url;\n      s.async = false;\n      s.onreadystatechange = s.onload = function() {\n        root._bokeh_is_loading--;\n        if (root._bokeh_is_loading === 0) {\n          console.log(\"Bokeh: all BokehJS libraries loaded\");\n          run_callbacks()\n        }\n      };\n      s.onerror = function() {\n        console.warn(\"failed to load library \" + url);\n      };\n      console.log(\"Bokeh: injecting script tag for BokehJS library: \", url);\n      document.getElementsByTagName(\"head\")[0].appendChild(s);\n    }\n  };var element = document.getElementById(\"9e6f9b6f-1958-4459-b00b-2c47c2d50da3\");\n  if (element == null) {\n    console.log(\"Bokeh: ERROR: autoload.js configured with elementid '9e6f9b6f-1958-4459-b00b-2c47c2d50da3' but no matching script tag was found. \")\n    return false;\n  }\n\n  var js_urls = [\"https://cdn.pydata.org/bokeh/release/bokeh-0.12.14.min.js\", \"https://cdn.pydata.org/bokeh/release/bokeh-widgets-0.12.14.min.js\", \"https://cdn.pydata.org/bokeh/release/bokeh-tables-0.12.14.min.js\", \"https://cdn.pydata.org/bokeh/release/bokeh-gl-0.12.14.min.js\"];\n\n  var inline_js = [\n    function(Bokeh) {\n      Bokeh.set_log_level(\"info\");\n    },\n    \n    function(Bokeh) {\n      \n    },\n    function(Bokeh) {\n      console.log(\"Bokeh: injecting CSS: https://cdn.pydata.org/bokeh/release/bokeh-0.12.14.min.css\");\n      Bokeh.embed.inject_css(\"https://cdn.pydata.org/bokeh/release/bokeh-0.12.14.min.css\");\n      console.log(\"Bokeh: injecting CSS: https://cdn.pydata.org/bokeh/release/bokeh-widgets-0.12.14.min.css\");\n      Bokeh.embed.inject_css(\"https://cdn.pydata.org/bokeh/release/bokeh-widgets-0.12.14.min.css\");\n      console.log(\"Bokeh: injecting CSS: https://cdn.pydata.org/bokeh/release/bokeh-tables-0.12.14.min.css\");\n      Bokeh.embed.inject_css(\"https://cdn.pydata.org/bokeh/release/bokeh-tables-0.12.14.min.css\");\n    }\n  ];\n\n  function run_inline_js() {\n    \n    if ((root.Bokeh !== undefined) || (force === true)) {\n      for (var i = 0; i < inline_js.length; i++) {\n        inline_js[i].call(root, root.Bokeh);\n      }if (force === true) {\n        display_loaded();\n      }} else if (Date.now() < root._bokeh_timeout) {\n      setTimeout(run_inline_js, 100);\n    } else if (!root._bokeh_failed_load) {\n      console.log(\"Bokeh: BokehJS failed to load within specified timeout.\");\n      root._bokeh_failed_load = true;\n    } else if (force !== true) {\n      var cell = $(document.getElementById(\"9e6f9b6f-1958-4459-b00b-2c47c2d50da3\")).parents('.cell').data().cell;\n      cell.output_area.append_execute_result(NB_LOAD_WARNING)\n    }\n\n  }\n\n  if (root._bokeh_is_loading === 0) {\n    console.log(\"Bokeh: BokehJS loaded, going straight to plotting\");\n    run_inline_js();\n  } else {\n    load_libs(js_urls, function() {\n      console.log(\"Bokeh: BokehJS plotting callback run at\", now());\n      run_inline_js();\n    });\n  }\n}(window));"
     },
     "metadata": {},
     "output_type": "display_data"
    }
   ],
   "source": [
    "output_notebook()"
   ]
  },
  {
   "cell_type": "code",
   "execution_count": 8,
   "metadata": {
    "collapsed": true
   },
   "outputs": [],
   "source": [
    "def fmt_cool(ds_in):\n",
    "    ds = ds_in.copy(deep=True)\n",
    "    if 'igg' in ds.dims:\n",
    "        ds = ds.sel(igg=1)\n",
    "\n",
    "    if 'g' in ds.dims:\n",
    "        ds = ds.sum('g')\n",
    "            \n",
    "    if 'band' in ds.dims:\n",
    "        try:\n",
    "            ds = ds.squeeze('band')\n",
    "        except ValueError:\n",
    "            ds = ds.sum('band')\n",
    "                \n",
    "    return ds['coolrg']\n",
    "\n",
    "\n",
    "def pltdata_cooling_1(ds_cool=None,\n",
    "                      ds_cool_crd=None, ds_cool_wgt=None):\n",
    "    \n",
    "\n",
    "\n",
    "    colors = all_palettes['Set1'][4]\n",
    "    data = [{'label': 'CLIRAD `coolr_bands`',\n",
    "             'srs': fmt_cool(ds_cool),\n",
    "             'line_dash': 'dashed', 'line_width': 5,\n",
    "             'color': colors[0], 'alpha': .6},\n",
    "            {'label': 'CRD',\n",
    "             'srs': fmt_cool(ds_cool_crd),\n",
    "             'line_dash': 'solid', 'line_width': 1.5,\n",
    "             'marker': 'circle', 'marker_size': 5,\n",
    "             'color': colors[2], 'alpha': 1,},\n",
    "            {'label': 'WGT igg=10 wgt_flux=2',\n",
    "             'srs': fmt_cool(ds_cool_wgt),\n",
    "             'line_dash': 'solid', 'line_width': 3,\n",
    "             'marker': 'square', 'marker_size': 5,\n",
    "             'color': colors[3], 'alpha': .6}]\n",
    "    return data\n",
    "\n",
    "\n",
    "def nice_xlims(pltdata=None, prange=None):\n",
    "    \n",
    "    def get_slice(srs):\n",
    "        return srs.sel(pressure=slice(*prange))\n",
    "    \n",
    "    srss = [d['srs'] for d in pltdata]\n",
    "    vmin = min([get_slice(srs).min() for srs in srss])\n",
    "    vmax = max([get_slice(srs).max() for srs in srss])\n",
    "    dv = (vmax - vmin) * .01\n",
    "    return float(vmin - dv), float(vmax + dv)\n",
    "    \n",
    "\n",
    "def plt_cooling_bokeh(pltdata=None):\n",
    "    '''\n",
    "    Plot a list of cooling rate profiles using bokeh.\n",
    "    '''\n",
    "    ymin = 1e-2 \n",
    "    ymax = 1020 \n",
    "        \n",
    "    p1 = figure(title=\"Linear pressure scale\", \n",
    "                plot_width=400)        \n",
    "    xmin, xmax = nice_xlims(pltdata, prange=(50, 1050))\n",
    "    for d in pltdata:\n",
    "        if 'marker' in d:\n",
    "            getattr(p1, d['marker'])(d['srs'].values, \n",
    "                    d['srs'].coords['pressure'].values,\n",
    "                    color=d['color'], alpha=.7)\n",
    "        p1.line(d['srs'].values, \n",
    "                d['srs'].coords['pressure'].values,\n",
    "                color=d['color'], alpha=d['alpha'], \n",
    "                line_width=d['line_width'], line_dash=d['line_dash'])\n",
    "    \n",
    "    p1.y_range = Range1d(ymax, ymin)\n",
    "    p1.yaxis.axis_label = 'pressure [mb]'   \n",
    "    p1.x_range = Range1d(xmin, xmax)\n",
    "    p1.xaxis.axis_label = 'cooling rate [K/day]'\n",
    "            \n",
    "    p2 = figure(title='Log pressure scale', y_axis_type='log',\n",
    "                plot_width=560)\n",
    "    xmin, xmax = nice_xlims(pltdata, prange=(.01, 200))\n",
    "    \n",
    "    rs = []\n",
    "    for d in pltdata:\n",
    "        rd = []\n",
    "        if 'marker' in d:\n",
    "            r_mark = getattr(p2, d['marker'])(d['srs'].values, \n",
    "                        d['srs'].coords['pressure'].values,\n",
    "                        color=d['color'], alpha=.7)\n",
    "            rd.append(r_mark)\n",
    "        r_line = p2.line(d['srs'].values, \n",
    "                    d['srs'].coords['pressure'].values,\n",
    "                    color=d['color'], alpha=d['alpha'], \n",
    "                    line_width=d['line_width'], line_dash=d['line_dash'])\n",
    "        rd.append(r_line)\n",
    "      \n",
    "        rs.append(rd)\n",
    "        \n",
    "    p2.y_range = Range1d(ymax, ymin)  \n",
    "    p2.yaxis.axis_label = 'pressure [mb]'\n",
    "    \n",
    "    p2.x_range = Range1d(xmin, xmax)\n",
    "    p2.xaxis.axis_label = 'cooling rate [K/day]'\n",
    "    \n",
    "    items = [(d['label'], r) for r, d in zip(rs, pltdata)]\n",
    "    legend = Legend(items=items, location=(10, -30))\n",
    "    legend.label_text_font_size = '8pt'\n",
    "    \n",
    "    p2.add_layout(legend, 'right')  \n",
    "    \n",
    "    show(gridplot(p1, p2, ncols=2, plot_height=500))\n",
    "    \n",
    "\n",
    "def script_plt_cooling():\n",
    "    pltdata = pltdata_cooling_1(\n",
    "        ds_cool=DS_COOL,\n",
    "        ds_cool_crd=DS_COOL_CRD,\n",
    "        ds_cool_wgt=DS_COOL_WGT)\n",
    "    plt_cooling_bokeh(pltdata=pltdata)\n",
    "    print('''FIGURE. Cooling rate profiles.''')"
   ]
  },
  {
   "cell_type": "code",
   "execution_count": 9,
   "metadata": {
    "collapsed": true
   },
   "outputs": [],
   "source": [
    "def fmt_flux(ds_in):\n",
    "    ds = ds_in.copy(deep=True)\n",
    "    \n",
    "    for l in ('level', 'layer'):\n",
    "        if l in ds.data_vars:\n",
    "            if len(ds[l].dims) > 1:\n",
    "                surface = {d: 0 for d in ds.dims if d != 'pressure'}\n",
    "                coord_level = ds[l][surface]\n",
    "                ds.coords[l] = ('pressure', coord_level)\n",
    "            else:\n",
    "                ds.coords[l] = ('pressure', ds[l])\n",
    "        \n",
    "    ds = ds.isel(pressure=[0, 23, -1])\n",
    "        \n",
    "    if 'igg' in ds.dims:\n",
    "        ds = ds.sel(igg=[1])\n",
    "        ds = ds.squeeze('igg').drop('igg')\n",
    "    \n",
    "    if 'g' in ds.dims:\n",
    "        ds = ds.sum('g')\n",
    "            \n",
    "    if 'band' in ds.dims:\n",
    "        try:\n",
    "            ds = ds.squeeze('band').drop('band')\n",
    "        except ValueError:\n",
    "            ds = ds.sum('band')\n",
    "                \n",
    "    df = ds.to_dataframe()\n",
    "    df = df.set_index('level', append=True)               \n",
    "    return df\n",
    "\n",
    "\n",
    "def tbdata_flux(ds_flux=None, ds_flux_crd=None, ds_flux_wgt=None):\n",
    "    ilevels = [0, 23, -1]\n",
    "            \n",
    "    benchmark = {'label': 'WGT igg=10 wgt_flux=1',\n",
    "                 'df': fmt_flux(ds_flux_wgt)}\n",
    "    \n",
    "    tbs = [{'label': 'CRD',\n",
    "            'df': fmt_flux(ds_flux_crd)},\n",
    "           {'label': 'CLIRAD',\n",
    "            'df': fmt_flux(ds_flux)}]\n",
    "    \n",
    "    data = {'benchmark': benchmark, 'others': tbs}\n",
    "    return data\n",
    "\n",
    "\n",
    "def tb_flux(tbdata=None):\n",
    "    benchmark = tbdata['benchmark']\n",
    "    others = tbdata['others']\n",
    "    \n",
    "    def show_tb(d=None):\n",
    "        display.display(d['df'])\n",
    "        print('Table.', 'Fluxes.', d['label'])\n",
    "        \n",
    "    def show_tbdiff(d0=None, d=None):\n",
    "        df = d['df']\n",
    "        df.index = d0['df'].index\n",
    "        display.display(df - d0['df'])\n",
    "        print('Table.', 'Fluxes.', \n",
    "              '({}) - ({})'.format(d['label'], d0['label']))\n",
    "        \n",
    "    show_tb(benchmark)\n",
    "    for d in others:\n",
    "        show_tb(d)\n",
    "        \n",
    "    for d in others:\n",
    "        show_tbdiff(d=d, d0=benchmark)\n",
    "        \n",
    "        \n",
    "def script_tb_flux():\n",
    "    data = tbdata_flux(ds_flux=DS_FLUX,\n",
    "                       ds_flux_crd=DS_FLUX_CRD,\n",
    "                       ds_flux_wgt=DS_FLUX_WGT)\n",
    "    tb_flux(tbdata=data)"
   ]
  },
  {
   "cell_type": "code",
   "execution_count": 10,
   "metadata": {
    "collapsed": true
   },
   "outputs": [],
   "source": [
    "def band_map():\n",
    "    '''\n",
    "    Maps spectral bands in lblnew to spectral bands in clirad.\n",
    "    '''\n",
    "    lblnew2clirad = {'1': '1',\n",
    "            '2': '2',\n",
    "            '3a': '3',\n",
    "            '3b': '4',\n",
    "            '3c': '5',\n",
    "            '4': '6', \n",
    "            '5': '7',\n",
    "            '6': '8',\n",
    "            '7': '9', \n",
    "            '8': '10',\n",
    "            '9': '11'}\n",
    "    \n",
    "    clirad2lblnew = {clirad: lblnew \n",
    "                     for lblnew, clirad in lblnew2clirad.items()}\n",
    "    return clirad2lblnew\n",
    "\n",
    "\n",
    "def gasbands():\n",
    "    bmap = band_map()\n",
    "    gases = list(PARAM['molecule'].keys())\n",
    "    \n",
    "    bands = [bmap[str(b)] for b in PARAM['band']]\n",
    "    return list(itertools.product(gases, bands))\n",
    "\n",
    "\n",
    "def print_bestfit_params():\n",
    "    print('Best-fit values for each (gas, band)')\n",
    "    print('------------------------------------')\n",
    "    for gas, band in gasbands():\n",
    "        print('o {} band{}'.format(gas, band))\n",
    "        param = bestfits.kdist_params(molecule=gas, band=band)\n",
    "        for name, value in sorted(param.items()):\n",
    "            print(2 * ' ' + '{} = {}'.format(name, value))\n",
    "\n",
    "        \n",
    "def print_input_param():        \n",
    "    for name, value in PARAM.items():\n",
    "        print('{} = {}'.format(name, value))\n",
    "        \n",
    "        \n",
    "def print_lblnew_param():\n",
    "    for name, value in sorted(PARAM_LBLNEW.items()):\n",
    "        print('{} = {}'.format(name, value))\n"
   ]
  },
  {
   "cell_type": "code",
   "execution_count": 11,
   "metadata": {
    "collapsed": true,
    "scrolled": false
   },
   "outputs": [],
   "source": [
    "def show_html(s):\n",
    "    display.display(display.HTML(s))\n",
    "\n",
    "    \n",
    "def show_markdown(s):\n",
    "    display.display(display.Markdown(s))\n",
    "\n",
    "    \n",
    "def script():\n",
    "    \n",
    "    title = '### CLIRAD-LW'\n",
    "    s_input = 'Input Parameters'\n",
    "    s_lblnew_param = 'LBLNEW case compaired against'\n",
    "    s_bestfits = 'Best-fit Parameters'\n",
    "    s_plt_cooling = 'Cooling Rate Profiles'\n",
    "    s_tb_flux = 'Flux Comparison'\n",
    "    \n",
    "    # title\n",
    "    show_markdown('### CLIRAD-LW')\n",
    "    \n",
    "    # TOC\n",
    "    show_markdown('### Table of Contents')\n",
    "    show_html(climahtml.getHTML_hrefanchor(s_input))\n",
    "    show_html(climahtml.getHTML_hrefanchor(s_lblnew_param))\n",
    "    show_html(climahtml.getHTML_hrefanchor(s_plt_cooling))\n",
    "    show_html(climahtml.getHTML_hrefanchor(s_tb_flux))\n",
    "    show_html(climahtml.getHTML_hrefanchor(s_bestfits))\n",
    "    \n",
    "    # Input parameters\n",
    "    show_html(climahtml.getHTML_idanchor(s_input))\n",
    "    show_markdown(climahtml.getMarkdown_sectitle(s_input))\n",
    "    print_input_param()\n",
    "    \n",
    "    # LBLNEW parameters \n",
    "    show_html(climahtml.getHTML_idanchor(s_lblnew_param))\n",
    "    show_markdown(climahtml.getMarkdown_sectitle(s_lblnew_param))\n",
    "    print_lblnew_param()\n",
    "    \n",
    "    # Cooling rate profiles\n",
    "    show_html(climahtml.getHTML_idanchor(s_plt_cooling))\n",
    "    show_markdown(climahtml.getMarkdown_sectitle(s_plt_cooling))\n",
    "    script_plt_cooling()\n",
    "    \n",
    "    # Flux comparison\n",
    "    show_html(climahtml.getHTML_idanchor(s_tb_flux))\n",
    "    show_markdown(climahtml.getMarkdown_sectitle(s_tb_flux))\n",
    "    script_tb_flux()\n",
    "    \n",
    "    # Best-fit values\n",
    "    show_html(climahtml.getHTML_idanchor(s_bestfits))\n",
    "    show_markdown(climahtml.getMarkdown_sectitle(s_bestfits))\n",
    "    print_bestfit_params()\n",
    "   \n",
    "    "
   ]
  },
  {
   "cell_type": "code",
   "execution_count": 12,
   "metadata": {
    "collapsed": true,
    "scrolled": false
   },
   "outputs": [
    {
     "data": {
      "text/markdown": [
       "### CLIRAD-LW"
      ],
      "text/plain": [
       "<IPython.core.display.Markdown object>"
      ]
     },
     "metadata": {},
     "output_type": "display_data"
    },
    {
     "data": {
      "text/markdown": [
       "### Table of Contents"
      ],
      "text/plain": [
       "<IPython.core.display.Markdown object>"
      ]
     },
     "metadata": {},
     "output_type": "display_data"
    },
    {
     "data": {
      "text/html": [
       "<a href=\"#Input_Parameters\">Input Parameters</a>"
      ],
      "text/plain": [
       "<IPython.core.display.HTML object>"
      ]
     },
     "metadata": {},
     "output_type": "display_data"
    },
    {
     "data": {
      "text/html": [
       "<a href=\"#LBLNEW_case_compaired_against\">LBLNEW case compaired against</a>"
      ],
      "text/plain": [
       "<IPython.core.display.HTML object>"
      ]
     },
     "metadata": {},
     "output_type": "display_data"
    },
    {
     "data": {
      "text/html": [
       "<a href=\"#Cooling_Rate_Profiles\">Cooling Rate Profiles</a>"
      ],
      "text/plain": [
       "<IPython.core.display.HTML object>"
      ]
     },
     "metadata": {},
     "output_type": "display_data"
    },
    {
     "data": {
      "text/html": [
       "<a href=\"#Flux_Comparison\">Flux Comparison</a>"
      ],
      "text/plain": [
       "<IPython.core.display.HTML object>"
      ]
     },
     "metadata": {},
     "output_type": "display_data"
    },
    {
     "data": {
      "text/html": [
       "<a href=\"#Best-fit_Parameters\">Best-fit Parameters</a>"
      ],
      "text/plain": [
       "<IPython.core.display.HTML object>"
      ]
     },
     "metadata": {},
     "output_type": "display_data"
    },
    {
     "data": {
      "text/html": [
       "<a id=\"Input_Parameters\"></a>"
      ],
      "text/plain": [
       "<IPython.core.display.HTML object>"
      ]
     },
     "metadata": {},
     "output_type": "display_data"
    },
    {
     "data": {
      "text/markdown": [
       "# Input Parameters"
      ],
      "text/plain": [
       "<IPython.core.display.Markdown object>"
      ]
     },
     "metadata": {},
     "output_type": "display_data"
    },
    {
     "name": "stdout",
     "output_type": "stream",
     "text": [
      "atmpro = saw\n",
      "band = [3]\n",
      "commitnumber = 353685c\n",
      "molecule = {'n2o': 3.2e-07}\n",
      "tsfc = 257\n"
     ]
    },
    {
     "data": {
      "text/html": [
       "<a id=\"LBLNEW_case_compaired_against\"></a>"
      ],
      "text/plain": [
       "<IPython.core.display.HTML object>"
      ]
     },
     "metadata": {},
     "output_type": "display_data"
    },
    {
     "data": {
      "text/markdown": [
       "# LBLNEW case compaired against"
      ],
      "text/plain": [
       "<IPython.core.display.Markdown object>"
      ]
     },
     "metadata": {},
     "output_type": "display_data"
    },
    {
     "name": "stdout",
     "output_type": "stream",
     "text": [
      "atmpro = saw\n",
      "band = 3a\n",
      "commitnumber = 2bd1f75\n",
      "conc = 3.2e-07\n",
      "dv = 0.01\n",
      "klin = 2.22e-20\n",
      "molecule = n2o\n",
      "ng_adju = [0, 0]\n",
      "ng_refs = [1, 2]\n",
      "nv = 100\n",
      "option_compute_btable = 0\n",
      "option_compute_ktable = 0\n",
      "option_wgt_flux = 1\n",
      "option_wgt_k = 1\n",
      "ref_pts = [(1, 250), (500, 250)]\n",
      "tsfc = 257\n",
      "vmax = 620\n",
      "vmin = 540\n",
      "w_diffuse = [(1.8,), (1.66, 1.8)]\n",
      "wgt = [(0.9,), (0.5, 0.95)]\n"
     ]
    },
    {
     "data": {
      "text/html": [
       "<a id=\"Cooling_Rate_Profiles\"></a>"
      ],
      "text/plain": [
       "<IPython.core.display.HTML object>"
      ]
     },
     "metadata": {},
     "output_type": "display_data"
    },
    {
     "data": {
      "text/markdown": [
       "# Cooling Rate Profiles"
      ],
      "text/plain": [
       "<IPython.core.display.Markdown object>"
      ]
     },
     "metadata": {},
     "output_type": "display_data"
    },
    {
     "data": {
      "text/html": [
       "\n",
       "<div class=\"bk-root\">\n",
       "    <div class=\"bk-plotdiv\" id=\"00f39205-f75f-4858-9046-93884e3e3976\"></div>\n",
       "</div>"
      ]
     },
     "metadata": {},
     "output_type": "display_data"
    },
    {
     "data": {
      "application/javascript": [
       "(function(root) {\n",
       "  function embed_document(root) {\n",
       "    \n",
       "  var docs_json = {\"8effa380-a961-4a40-a1fc-a811d859b2dc\":{\"roots\":{\"references\":[{\"attributes\":{},\"id\":\"ba237bb7-4103-4b04-911d-9b932ea2f6f9\",\"type\":\"BasicTickFormatter\"},{\"attributes\":{\"line_alpha\":0.1,\"line_color\":\"#1f77b4\",\"line_dash\":[6],\"line_width\":5,\"x\":{\"field\":\"x\"},\"y\":{\"field\":\"y\"}},\"id\":\"22aa6a4b-809b-4a41-a8ba-31dc8907e62f\",\"type\":\"Line\"},{\"attributes\":{\"axis_label\":\"cooling rate [K/day]\",\"formatter\":{\"id\":\"3303c954-fadc-44ce-834e-75c71081558d\",\"type\":\"BasicTickFormatter\"},\"plot\":{\"id\":\"d4dd19fd-9815-44b4-8c38-40e249197a7d\",\"subtype\":\"Figure\",\"type\":\"Plot\"},\"ticker\":{\"id\":\"e1de9267-0362-453e-b638-5f4e3e2669bf\",\"type\":\"BasicTicker\"}},\"id\":\"dbe6b182-ac94-4d94-ad4e-2c4961d85eea\",\"type\":\"LinearAxis\"},{\"attributes\":{},\"id\":\"c8b67480-508a-49a2-9274-608b9ddf12d6\",\"type\":\"LinearScale\"},{\"attributes\":{\"source\":{\"id\":\"2c8e2998-7880-4c07-b238-01f6c7d50ca0\",\"type\":\"ColumnDataSource\"}},\"id\":\"1339730c-1287-4afa-8042-4e90114720d6\",\"type\":\"CDSView\"},{\"attributes\":{\"dimension\":1,\"plot\":{\"id\":\"d4dd19fd-9815-44b4-8c38-40e249197a7d\",\"subtype\":\"Figure\",\"type\":\"Plot\"},\"ticker\":{\"id\":\"7a722f30-7a21-4e71-8141-fb145d24aa9d\",\"type\":\"LogTicker\"}},\"id\":\"bf53f9a3-13f0-4214-81e2-06f8fff79d54\",\"type\":\"Grid\"},{\"attributes\":{\"callback\":null,\"column_names\":[\"x\",\"y\"],\"data\":{\"x\":{\"__ndarray__\":\"fCeyS17hhD9kDF2dJNyGP1qoHjHG/Io/U4fQmZhUjz+bdaqiluuRP5Pp6YYaQ5Q/t16/n5uvlj83pm4BfS+ZP58X56Izxps/5IgxwHB0nj/Rl+O3Fp2gP2MTXFaoCKI/ivbCrjd7oz/SOfM2LMmkP3AnArYyyqU/Xq0fCoKhpj+xhlujvXinP6doVPy5Sqg/mabuG3YXqT+LsbHqKt+pP2LkpLFvh6o/R7L4YUWMqT88e+V83HemP9dc2BR07aI/bxisCJxEnz+UdkcfIzuZP3kCXO6ezJM/uwlWhoUbjz+bNfyXOZeJP4B3s4VuloU/n1CeZVUFgj/2dA0tDaB9PxdwpnR2U3o/Bk6jeVofej9p3dCd6sx5PzexLtCol3g/8gjstRKWdj+dcqwaYoZzP3TsCPZLA3A/q8cJDEOvaT8VMgDh9tVjP5T/PFrLjlw/VTbkCmyoUT+FX6oVxo86P7Z8Ovs5ySm/AHs1Xvg2GL+yD/HZ+mVQPzj+zjInAWQ/mDrgYz1obz/sv7CuISd1P8uGERjtZXo/SMzxY7N3fz8H0lWb9y+CPxP4tqV9j4Q/8B9Up9jYhj/cQooT9QiJP5flZ/pXHIs/bY1r8HwOjT/da+V+t9uOP6Jz6SXnQJA/4qamJ6P/kD934yshIqyRP+7OIUOjSJI/WybNY/DXkj/gI0T0yVyTPwx/fsYi2ZM/z9jPFptMlD/MafFXOLGUPwPh5xjA9pQ/mPeEYcoElT/2xuN+lMyUP34f7QO5WZQ/OC9vip7Gkz8PsK+l4ieTP1EUE5TVhpI/\",\"dtype\":\"float64\",\"shape\":[75]},\"y\":{\"__ndarray__\":\"GhExyth1ND/Sv8nbtpRIP2vylNV0PVE/aTum7souWD/At0SJ8fVgPw3Iuahxymc/MSNhhJWvcD/bTfBN02d3P2zb5nxnaoA/CD5h5MAGhz8NmeH1TyaQP+zrCsc9p5Y/LbKd76fGnz/bLW5ISEmmPww9YvTcQq8/JV2OstnstT8Er5Y7M8G+P0c+r3jqkcU/5h99k6ZBzj88bCIzFzjVP4enV8oyxN0//yH99nXg5D8qOpLLf0jtP5kqGJXUifQ/c9cS8kHP/D+/DpwzojQEQIEmwoanVwxA4lgXt9HgE0BSSZ2AJuIbQAMJih9jjiNA5q4l5INuK0AwTKYKRj0zQNv5fmq8/DpAaCJseHrtQkB/+zpwzoxKQM3MzMzMeFJAZmZmZmZqWEAAAAAAAFxeQM3MzMzMJmJAmpmZmZkfZUBmZmZmZhhoQDMzMzMzEWtAAAAAAAAKbkBmZmZmZoFwQM3MzMzM/XFAMzMzMzN6c0CamZmZmfZ0QAAAAAAAc3ZAZmZmZmbvd0DNzMzMzGt5QDMzMzMz6HpAmpmZmZlkfEAAAAAAAOF9QGZmZmZmXX9AZmZmZuZsgECamZmZGSuBQM3MzMxM6YFAAAAAAICngkAzMzMzs2WDQGZmZmbmI4RAmpmZmRnihEDNzMzMTKCFQAAAAACAXoZAMzMzM7Mch0BmZmZm5tqHQJqZmZkZmYhAzczMzExXiUAAAAAAgBWKQDMzMzOz04pAZmZmZuaRi0CamZmZGVCMQM3MzMxMDo1AAAAAAIDMjUAzMzMzs4qOQGZmZmbmSI9A\",\"dtype\":\"float64\",\"shape\":[75]}}},\"id\":\"120c8c11-b955-48e4-9211-8fa755ed507e\",\"type\":\"ColumnDataSource\"},{\"attributes\":{},\"id\":\"8cea5f1b-6f34-46bd-9ff9-873fdfeb5ff0\",\"type\":\"ResetTool\"},{\"attributes\":{\"source\":{\"id\":\"cce64318-16de-4286-8ab4-7ea02c4658bd\",\"type\":\"ColumnDataSource\"}},\"id\":\"52f8750d-756b-4b32-8196-2a0f3b47cefb\",\"type\":\"CDSView\"},{\"attributes\":{\"num_minor_ticks\":10},\"id\":\"7a722f30-7a21-4e71-8141-fb145d24aa9d\",\"type\":\"LogTicker\"},{\"attributes\":{},\"id\":\"e9012d54-3dec-4dde-97de-bbc9763c3187\",\"type\":\"PanTool\"},{\"attributes\":{\"line_alpha\":0.1,\"line_color\":\"#1f77b4\",\"line_width\":1.5,\"x\":{\"field\":\"x\"},\"y\":{\"field\":\"y\"}},\"id\":\"32dcb73a-b97d-4efc-98bb-f8a53cb99e32\",\"type\":\"Line\"},{\"attributes\":{\"data_source\":{\"id\":\"2c8e2998-7880-4c07-b238-01f6c7d50ca0\",\"type\":\"ColumnDataSource\"},\"glyph\":{\"id\":\"734182e2-9142-40f0-816f-7acc60033bf5\",\"type\":\"Line\"},\"hover_glyph\":null,\"muted_glyph\":null,\"nonselection_glyph\":{\"id\":\"22aa6a4b-809b-4a41-a8ba-31dc8907e62f\",\"type\":\"Line\"},\"selection_glyph\":null,\"view\":{\"id\":\"1339730c-1287-4afa-8042-4e90114720d6\",\"type\":\"CDSView\"}},\"id\":\"f7a3e7d1-e6cf-4607-a32e-f602f961511a\",\"type\":\"GlyphRenderer\"},{\"attributes\":{\"fill_alpha\":{\"value\":0.7},\"fill_color\":{\"value\":\"#4daf4a\"},\"line_alpha\":{\"value\":0.7},\"line_color\":{\"value\":\"#4daf4a\"},\"x\":{\"field\":\"x\"},\"y\":{\"field\":\"y\"}},\"id\":\"40093c34-4f3f-451f-8ffa-365c4c8c63db\",\"type\":\"Circle\"},{\"attributes\":{},\"id\":\"225f8a55-fad6-4a10-9acf-27221fc85298\",\"type\":\"SaveTool\"},{\"attributes\":{\"children\":[{\"id\":\"9556fe9e-5cf8-41d6-84d7-0f50ee7f95a6\",\"type\":\"Row\"}]},\"id\":\"0df9e316-490f-4b00-bd52-d4b174a1173c\",\"type\":\"Column\"},{\"attributes\":{\"axis_label\":\"pressure [mb]\",\"formatter\":{\"id\":\"d42e0d97-66d5-4734-8ee3-7e1b3debc53a\",\"type\":\"BasicTickFormatter\"},\"plot\":{\"id\":\"bdb648f2-8fa8-4201-b599-234b283ce969\",\"subtype\":\"Figure\",\"type\":\"Plot\"},\"ticker\":{\"id\":\"5cac6d74-590b-40e3-831c-8aaa381dd619\",\"type\":\"BasicTicker\"}},\"id\":\"2a6bdb96-3a26-409e-8cee-6de8626356fa\",\"type\":\"LinearAxis\"},{\"attributes\":{},\"id\":\"ae4c4b1f-3141-4963-8e52-c3e40f24cf9e\",\"type\":\"HelpTool\"},{\"attributes\":{\"data_source\":{\"id\":\"07f53cb5-14de-4020-9243-478bbcc9b6b5\",\"type\":\"ColumnDataSource\"},\"glyph\":{\"id\":\"46253cd8-f32d-4cdd-a3c2-638036170d46\",\"type\":\"Line\"},\"hover_glyph\":null,\"muted_glyph\":null,\"nonselection_glyph\":{\"id\":\"95b212d6-300f-4ab9-8ec2-a00e6dffc747\",\"type\":\"Line\"},\"selection_glyph\":null,\"view\":{\"id\":\"c5b80f1d-f02f-40e6-849d-2c0341ba8e4d\",\"type\":\"CDSView\"}},\"id\":\"afd65a5f-4b40-46f6-9f3c-d185bbeac658\",\"type\":\"GlyphRenderer\"},{\"attributes\":{},\"id\":\"f59b40cb-9bfd-4ffb-a48a-87363bafe5b3\",\"type\":\"LinearScale\"},{\"attributes\":{\"data_source\":{\"id\":\"cce64318-16de-4286-8ab4-7ea02c4658bd\",\"type\":\"ColumnDataSource\"},\"glyph\":{\"id\":\"40093c34-4f3f-451f-8ffa-365c4c8c63db\",\"type\":\"Circle\"},\"hover_glyph\":null,\"muted_glyph\":null,\"nonselection_glyph\":{\"id\":\"663e250a-804c-4b3c-961d-309fd10cc0f6\",\"type\":\"Circle\"},\"selection_glyph\":null,\"view\":{\"id\":\"52f8750d-756b-4b32-8196-2a0f3b47cefb\",\"type\":\"CDSView\"}},\"id\":\"4f134515-a6c6-450b-8ec0-f624f5279308\",\"type\":\"GlyphRenderer\"},{\"attributes\":{\"source\":{\"id\":\"a806562d-c42e-4881-bb4c-3f75f1a0f999\",\"type\":\"ColumnDataSource\"}},\"id\":\"e7db5a29-dc94-41e7-9ccf-90e647b5fe98\",\"type\":\"CDSView\"},{\"attributes\":{\"callback\":null,\"end\":0.01,\"start\":1020},\"id\":\"f5d01f71-57ad-460b-a08a-d908009eeb77\",\"type\":\"Range1d\"},{\"attributes\":{\"fill_alpha\":{\"value\":0.1},\"fill_color\":{\"value\":\"#1f77b4\"},\"line_alpha\":{\"value\":0.1},\"line_color\":{\"value\":\"#1f77b4\"},\"x\":{\"field\":\"x\"},\"y\":{\"field\":\"y\"}},\"id\":\"b0e76cad-1017-40e8-8ce0-515327556071\",\"type\":\"Square\"},{\"attributes\":{\"line_alpha\":0.6,\"line_color\":\"#984ea3\",\"line_width\":3,\"x\":{\"field\":\"x\"},\"y\":{\"field\":\"y\"}},\"id\":\"46253cd8-f32d-4cdd-a3c2-638036170d46\",\"type\":\"Line\"},{\"attributes\":{},\"id\":\"3303c954-fadc-44ce-834e-75c71081558d\",\"type\":\"BasicTickFormatter\"},{\"attributes\":{\"callback\":null,\"column_names\":[\"x\",\"y\"],\"data\":{\"x\":{\"__ndarray__\":\"UQkn6sT8iD/3SHcQjsGKP6XYMX/mbo4/0DpDdLEmkT9+VtSUDSmTP4ppmVvkPpU/5r9kgF5nlz8m+TLgB6GZP5gxiJSo7ps/0EsFOphQnj/sG9o30WOgP7epX63DqaE/5faK4bz4oj9ltngWxCmkP269zxTOGqU/l0F1GxzupT+t3TfeycOmP6rX9vFioqc/piLloo2CqD8aS1SHzkapP6zqVOnZBao/fj4McktNqT+sRgfc8bSmP+Iadggmp6M/NcetZeC6oD9K1WCGnuybPw0Vl1h7s5Y/lkuG95tMkj909PZddhGOP0sFIiAVn4g/VIZ78hp+gz//Wucfdrx9P2FQAubf4Xc//5qOeWG0dT93cjzKrWt0P6C2bRzFb3M/h2KXrNFbcj/qbAlqcn5wP1y9JyCsRmw/A6NyD5bZZz8Xo0yzMnZjP1G60tAgP14/6LptLs3NVT/ES5Y8bcNKP9C0ggbLFDk/+8OHPD+RQj+AX6Dz6dFaPyY2A1Y9FWk/ZL/ZyodScj/V78nJhdp3P2ou1vXRP30/sTJgqSNJgT+4ApZVwt6DP24RdTf4T4Y/9BR8+gy8iD8ofB1ClxCLPwwbDtiIMY0/J7jWq0hEjz/YpS9M8piQP1Cvynx9cZE/V2Eb/2o/kj+Eoeqtg/eSPwPnEGGRmZM/+FVH+xA1lD9epeZrybyUP2ZpB1mfPZU/vHr1L1m1lT8+4W7FjBSWP/iw99f0XZY/fIyQfhZrlj8CeVU0DTuWP3URVAWS1JU/4drqKeJKlT+6SwO7cb2UP7ddGAEzIpQ/\",\"dtype\":\"float64\",\"shape\":[75]},\"y\":{\"__ndarray__\":\"GhExyth1ND/Sv8nbtpRIP2vylNV0PVE/aTum7souWD/At0SJ8fVgPw3Iuahxymc/MSNhhJWvcD/bTfBN02d3P2zb5nxnaoA/CD5h5MAGhz8NmeH1TyaQP+zrCsc9p5Y/LbKd76fGnz/bLW5ISEmmPww9YvTcQq8/JV2OstnstT8Er5Y7M8G+P0c+r3jqkcU/5h99k6ZBzj88bCIzFzjVP4enV8oyxN0//yH99nXg5D8qOpLLf0jtP5kqGJXUifQ/c9cS8kHP/D+/DpwzojQEQIEmwoanVwxA4lgXt9HgE0BSSZ2AJuIbQAMJih9jjiNA5q4l5INuK0AwTKYKRj0zQNv5fmq8/DpAaCJseHrtQkB/+zpwzoxKQM3MzMzMeFJAZmZmZmZqWEAAAAAAAFxeQM3MzMzMJmJAmpmZmZkfZUBmZmZmZhhoQDMzMzMzEWtAAAAAAAAKbkBmZmZmZoFwQM3MzMzM/XFAMzMzMzN6c0CamZmZmfZ0QAAAAAAAc3ZAZmZmZmbvd0DNzMzMzGt5QDMzMzMz6HpAmpmZmZlkfEAAAAAAAOF9QGZmZmZmXX9AZmZmZuZsgECamZmZGSuBQM3MzMxM6YFAAAAAAICngkAzMzMzs2WDQGZmZmbmI4RAmpmZmRnihEDNzMzMTKCFQAAAAACAXoZAMzMzM7Mch0BmZmZm5tqHQJqZmZkZmYhAzczMzExXiUAAAAAAgBWKQDMzMzOz04pAZmZmZuaRi0CamZmZGVCMQM3MzMxMDo1AAAAAAIDMjUAzMzMzs4qOQGZmZmbmSI9A\",\"dtype\":\"float64\",\"shape\":[75]}}},\"id\":\"fd38130f-ba6f-450c-9978-73770dcb4b83\",\"type\":\"ColumnDataSource\"},{\"attributes\":{\"fill_alpha\":{\"value\":0.1},\"fill_color\":{\"value\":\"#1f77b4\"},\"line_alpha\":{\"value\":0.1},\"line_color\":{\"value\":\"#1f77b4\"},\"x\":{\"field\":\"x\"},\"y\":{\"field\":\"y\"}},\"id\":\"bf2bd4a1-fb49-432d-be1f-6721315f37ee\",\"type\":\"Circle\"},{\"attributes\":{\"toolbar\":{\"id\":\"0dd68806-2690-4137-9b9b-638602354ed5\",\"type\":\"ProxyToolbar\"},\"toolbar_location\":\"above\"},\"id\":\"32bfa774-d881-4225-8d17-0ff7d9b14300\",\"type\":\"ToolbarBox\"},{\"attributes\":{\"callback\":null,\"column_names\":[\"x\",\"y\"],\"data\":{\"x\":{\"__ndarray__\":\"UQkn6sT8iD/3SHcQjsGKP6XYMX/mbo4/0DpDdLEmkT9+VtSUDSmTP4ppmVvkPpU/5r9kgF5nlz8m+TLgB6GZP5gxiJSo7ps/0EsFOphQnj/sG9o30WOgP7epX63DqaE/5faK4bz4oj9ltngWxCmkP269zxTOGqU/l0F1GxzupT+t3TfeycOmP6rX9vFioqc/piLloo2CqD8aS1SHzkapP6zqVOnZBao/fj4McktNqT+sRgfc8bSmP+Iadggmp6M/NcetZeC6oD9K1WCGnuybPw0Vl1h7s5Y/lkuG95tMkj909PZddhGOP0sFIiAVn4g/VIZ78hp+gz//Wucfdrx9P2FQAubf4Xc//5qOeWG0dT93cjzKrWt0P6C2bRzFb3M/h2KXrNFbcj/qbAlqcn5wP1y9JyCsRmw/A6NyD5bZZz8Xo0yzMnZjP1G60tAgP14/6LptLs3NVT/ES5Y8bcNKP9C0ggbLFDk/+8OHPD+RQj+AX6Dz6dFaPyY2A1Y9FWk/ZL/ZyodScj/V78nJhdp3P2ou1vXRP30/sTJgqSNJgT+4ApZVwt6DP24RdTf4T4Y/9BR8+gy8iD8ofB1ClxCLPwwbDtiIMY0/J7jWq0hEjz/YpS9M8piQP1Cvynx9cZE/V2Eb/2o/kj+Eoeqtg/eSPwPnEGGRmZM/+FVH+xA1lD9epeZrybyUP2ZpB1mfPZU/vHr1L1m1lT8+4W7FjBSWP/iw99f0XZY/fIyQfhZrlj8CeVU0DTuWP3URVAWS1JU/4drqKeJKlT+6SwO7cb2UP7ddGAEzIpQ/\",\"dtype\":\"float64\",\"shape\":[75]},\"y\":{\"__ndarray__\":\"GhExyth1ND/Sv8nbtpRIP2vylNV0PVE/aTum7souWD/At0SJ8fVgPw3Iuahxymc/MSNhhJWvcD/bTfBN02d3P2zb5nxnaoA/CD5h5MAGhz8NmeH1TyaQP+zrCsc9p5Y/LbKd76fGnz/bLW5ISEmmPww9YvTcQq8/JV2OstnstT8Er5Y7M8G+P0c+r3jqkcU/5h99k6ZBzj88bCIzFzjVP4enV8oyxN0//yH99nXg5D8qOpLLf0jtP5kqGJXUifQ/c9cS8kHP/D+/DpwzojQEQIEmwoanVwxA4lgXt9HgE0BSSZ2AJuIbQAMJih9jjiNA5q4l5INuK0AwTKYKRj0zQNv5fmq8/DpAaCJseHrtQkB/+zpwzoxKQM3MzMzMeFJAZmZmZmZqWEAAAAAAAFxeQM3MzMzMJmJAmpmZmZkfZUBmZmZmZhhoQDMzMzMzEWtAAAAAAAAKbkBmZmZmZoFwQM3MzMzM/XFAMzMzMzN6c0CamZmZmfZ0QAAAAAAAc3ZAZmZmZmbvd0DNzMzMzGt5QDMzMzMz6HpAmpmZmZlkfEAAAAAAAOF9QGZmZmZmXX9AZmZmZuZsgECamZmZGSuBQM3MzMxM6YFAAAAAAICngkAzMzMzs2WDQGZmZmbmI4RAmpmZmRnihEDNzMzMTKCFQAAAAACAXoZAMzMzM7Mch0BmZmZm5tqHQJqZmZkZmYhAzczMzExXiUAAAAAAgBWKQDMzMzOz04pAZmZmZuaRi0CamZmZGVCMQM3MzMxMDo1AAAAAAIDMjUAzMzMzs4qOQGZmZmbmSI9A\",\"dtype\":\"float64\",\"shape\":[75]}}},\"id\":\"09431be6-3f95-4170-a110-1bcf15cf7135\",\"type\":\"ColumnDataSource\"},{\"attributes\":{\"active_drag\":\"auto\",\"active_inspect\":\"auto\",\"active_scroll\":\"auto\",\"active_tap\":\"auto\",\"tools\":[{\"id\":\"a07c0df9-1485-4476-8b5a-c4c84775221e\",\"type\":\"PanTool\"},{\"id\":\"155514fb-53e3-4388-98f4-5fddebe2086e\",\"type\":\"WheelZoomTool\"},{\"id\":\"b91275cb-b66c-42ea-a629-c53e985f410c\",\"type\":\"BoxZoomTool\"},{\"id\":\"4a72d336-898d-4caa-bb32-347595db9580\",\"type\":\"SaveTool\"},{\"id\":\"4b2428fc-6488-45af-890a-72b19b809045\",\"type\":\"ResetTool\"},{\"id\":\"513e30e0-aeb9-43cc-b366-d43c87fb842b\",\"type\":\"HelpTool\"}]},\"id\":\"da564c05-e6f3-4bd2-9c48-f8a7c56257c6\",\"type\":\"Toolbar\"},{\"attributes\":{\"fill_alpha\":{\"value\":0.1},\"fill_color\":{\"value\":\"#1f77b4\"},\"line_alpha\":{\"value\":0.1},\"line_color\":{\"value\":\"#1f77b4\"},\"x\":{\"field\":\"x\"},\"y\":{\"field\":\"y\"}},\"id\":\"663e250a-804c-4b3c-961d-309fd10cc0f6\",\"type\":\"Circle\"},{\"attributes\":{\"bottom_units\":\"screen\",\"fill_alpha\":{\"value\":0.5},\"fill_color\":{\"value\":\"lightgrey\"},\"left_units\":\"screen\",\"level\":\"overlay\",\"line_alpha\":{\"value\":1.0},\"line_color\":{\"value\":\"black\"},\"line_dash\":[4,4],\"line_width\":{\"value\":2},\"plot\":null,\"render_mode\":\"css\",\"right_units\":\"screen\",\"top_units\":\"screen\"},\"id\":\"4945a03f-053f-4eeb-a0d7-cadd7fc16d2c\",\"type\":\"BoxAnnotation\"},{\"attributes\":{\"data_source\":{\"id\":\"09431be6-3f95-4170-a110-1bcf15cf7135\",\"type\":\"ColumnDataSource\"},\"glyph\":{\"id\":\"98e01dcb-3d06-4164-b36d-e2dbc31db17b\",\"type\":\"Square\"},\"hover_glyph\":null,\"muted_glyph\":null,\"nonselection_glyph\":{\"id\":\"b0e76cad-1017-40e8-8ce0-515327556071\",\"type\":\"Square\"},\"selection_glyph\":null,\"view\":{\"id\":\"dc5ad190-c46f-4db8-b001-afa4e8da72bd\",\"type\":\"CDSView\"}},\"id\":\"dd8f2ba6-0cff-48f9-9885-56f7303eb486\",\"type\":\"GlyphRenderer\"},{\"attributes\":{\"plot\":null,\"text\":\"Log pressure scale\"},\"id\":\"c8bf8ad5-5726-4351-b105-e85d6e00ba3c\",\"type\":\"Title\"},{\"attributes\":{\"callback\":null,\"column_names\":[\"x\",\"y\"],\"data\":{\"x\":{\"__ndarray__\":\"fCeyS17hhD9kDF2dJNyGP1qoHjHG/Io/U4fQmZhUjz+bdaqiluuRP5Pp6YYaQ5Q/t16/n5uvlj83pm4BfS+ZP58X56Izxps/5IgxwHB0nj/Rl+O3Fp2gP2MTXFaoCKI/ivbCrjd7oz/SOfM2LMmkP3AnArYyyqU/Xq0fCoKhpj+xhlujvXinP6doVPy5Sqg/mabuG3YXqT+LsbHqKt+pP2LkpLFvh6o/R7L4YUWMqT88e+V83HemP9dc2BR07aI/bxisCJxEnz+UdkcfIzuZP3kCXO6ezJM/uwlWhoUbjz+bNfyXOZeJP4B3s4VuloU/n1CeZVUFgj/2dA0tDaB9PxdwpnR2U3o/Bk6jeVofej9p3dCd6sx5PzexLtCol3g/8gjstRKWdj+dcqwaYoZzP3TsCPZLA3A/q8cJDEOvaT8VMgDh9tVjP5T/PFrLjlw/VTbkCmyoUT+FX6oVxo86P7Z8Ovs5ySm/AHs1Xvg2GL+yD/HZ+mVQPzj+zjInAWQ/mDrgYz1obz/sv7CuISd1P8uGERjtZXo/SMzxY7N3fz8H0lWb9y+CPxP4tqV9j4Q/8B9Up9jYhj/cQooT9QiJP5flZ/pXHIs/bY1r8HwOjT/da+V+t9uOP6Jz6SXnQJA/4qamJ6P/kD934yshIqyRP+7OIUOjSJI/WybNY/DXkj/gI0T0yVyTPwx/fsYi2ZM/z9jPFptMlD/MafFXOLGUPwPh5xjA9pQ/mPeEYcoElT/2xuN+lMyUP34f7QO5WZQ/OC9vip7Gkz8PsK+l4ieTP1EUE5TVhpI/\",\"dtype\":\"float64\",\"shape\":[75]},\"y\":{\"__ndarray__\":\"GhExyth1ND/Sv8nbtpRIP2vylNV0PVE/aTum7souWD/At0SJ8fVgPw3Iuahxymc/MSNhhJWvcD/bTfBN02d3P2zb5nxnaoA/CD5h5MAGhz8NmeH1TyaQP+zrCsc9p5Y/LbKd76fGnz/bLW5ISEmmPww9YvTcQq8/JV2OstnstT8Er5Y7M8G+P0c+r3jqkcU/5h99k6ZBzj88bCIzFzjVP4enV8oyxN0//yH99nXg5D8qOpLLf0jtP5kqGJXUifQ/c9cS8kHP/D+/DpwzojQEQIEmwoanVwxA4lgXt9HgE0BSSZ2AJuIbQAMJih9jjiNA5q4l5INuK0AwTKYKRj0zQNv5fmq8/DpAaCJseHrtQkB/+zpwzoxKQM3MzMzMeFJAZmZmZmZqWEAAAAAAAFxeQM3MzMzMJmJAmpmZmZkfZUBmZmZmZhhoQDMzMzMzEWtAAAAAAAAKbkBmZmZmZoFwQM3MzMzM/XFAMzMzMzN6c0CamZmZmfZ0QAAAAAAAc3ZAZmZmZmbvd0DNzMzMzGt5QDMzMzMz6HpAmpmZmZlkfEAAAAAAAOF9QGZmZmZmXX9AZmZmZuZsgECamZmZGSuBQM3MzMxM6YFAAAAAAICngkAzMzMzs2WDQGZmZmbmI4RAmpmZmRnihEDNzMzMTKCFQAAAAACAXoZAMzMzM7Mch0BmZmZm5tqHQJqZmZkZmYhAzczMzExXiUAAAAAAgBWKQDMzMzOz04pAZmZmZuaRi0CamZmZGVCMQM3MzMxMDo1AAAAAAIDMjUAzMzMzs4qOQGZmZmbmSI9A\",\"dtype\":\"float64\",\"shape\":[75]}}},\"id\":\"cce64318-16de-4286-8ab4-7ea02c4658bd\",\"type\":\"ColumnDataSource\"},{\"attributes\":{\"callback\":null,\"column_names\":[\"x\",\"y\"],\"data\":{\"x\":{\"__ndarray__\":\"fCeyS17hhD9kDF2dJNyGP1qoHjHG/Io/U4fQmZhUjz+bdaqiluuRP5Pp6YYaQ5Q/t16/n5uvlj83pm4BfS+ZP58X56Izxps/5IgxwHB0nj/Rl+O3Fp2gP2MTXFaoCKI/ivbCrjd7oz/SOfM2LMmkP3AnArYyyqU/Xq0fCoKhpj+xhlujvXinP6doVPy5Sqg/mabuG3YXqT+LsbHqKt+pP2LkpLFvh6o/R7L4YUWMqT88e+V83HemP9dc2BR07aI/bxisCJxEnz+UdkcfIzuZP3kCXO6ezJM/uwlWhoUbjz+bNfyXOZeJP4B3s4VuloU/n1CeZVUFgj/2dA0tDaB9PxdwpnR2U3o/Bk6jeVofej9p3dCd6sx5PzexLtCol3g/8gjstRKWdj+dcqwaYoZzP3TsCPZLA3A/q8cJDEOvaT8VMgDh9tVjP5T/PFrLjlw/VTbkCmyoUT+FX6oVxo86P7Z8Ovs5ySm/AHs1Xvg2GL+yD/HZ+mVQPzj+zjInAWQ/mDrgYz1obz/sv7CuISd1P8uGERjtZXo/SMzxY7N3fz8H0lWb9y+CPxP4tqV9j4Q/8B9Up9jYhj/cQooT9QiJP5flZ/pXHIs/bY1r8HwOjT/da+V+t9uOP6Jz6SXnQJA/4qamJ6P/kD934yshIqyRP+7OIUOjSJI/WybNY/DXkj/gI0T0yVyTPwx/fsYi2ZM/z9jPFptMlD/MafFXOLGUPwPh5xjA9pQ/mPeEYcoElT/2xuN+lMyUP34f7QO5WZQ/OC9vip7Gkz8PsK+l4ieTP1EUE5TVhpI/\",\"dtype\":\"float64\",\"shape\":[75]},\"y\":{\"__ndarray__\":\"GhExyth1ND/Sv8nbtpRIP2vylNV0PVE/aTum7souWD/At0SJ8fVgPw3Iuahxymc/MSNhhJWvcD/bTfBN02d3P2zb5nxnaoA/CD5h5MAGhz8NmeH1TyaQP+zrCsc9p5Y/LbKd76fGnz/bLW5ISEmmPww9YvTcQq8/JV2OstnstT8Er5Y7M8G+P0c+r3jqkcU/5h99k6ZBzj88bCIzFzjVP4enV8oyxN0//yH99nXg5D8qOpLLf0jtP5kqGJXUifQ/c9cS8kHP/D+/DpwzojQEQIEmwoanVwxA4lgXt9HgE0BSSZ2AJuIbQAMJih9jjiNA5q4l5INuK0AwTKYKRj0zQNv5fmq8/DpAaCJseHrtQkB/+zpwzoxKQM3MzMzMeFJAZmZmZmZqWEAAAAAAAFxeQM3MzMzMJmJAmpmZmZkfZUBmZmZmZhhoQDMzMzMzEWtAAAAAAAAKbkBmZmZmZoFwQM3MzMzM/XFAMzMzMzN6c0CamZmZmfZ0QAAAAAAAc3ZAZmZmZmbvd0DNzMzMzGt5QDMzMzMz6HpAmpmZmZlkfEAAAAAAAOF9QGZmZmZmXX9AZmZmZuZsgECamZmZGSuBQM3MzMxM6YFAAAAAAICngkAzMzMzs2WDQGZmZmbmI4RAmpmZmRnihEDNzMzMTKCFQAAAAACAXoZAMzMzM7Mch0BmZmZm5tqHQJqZmZkZmYhAzczMzExXiUAAAAAAgBWKQDMzMzOz04pAZmZmZuaRi0CamZmZGVCMQM3MzMxMDo1AAAAAAIDMjUAzMzMzs4qOQGZmZmbmSI9A\",\"dtype\":\"float64\",\"shape\":[75]}}},\"id\":\"56a0b715-6dd0-4f8f-8ceb-38dde0183726\",\"type\":\"ColumnDataSource\"},{\"attributes\":{\"below\":[{\"id\":\"dbe6b182-ac94-4d94-ad4e-2c4961d85eea\",\"type\":\"LinearAxis\"}],\"left\":[{\"id\":\"98fb157a-a2a5-48ae-9910-17b64a0efebf\",\"type\":\"LogAxis\"}],\"plot_height\":500,\"plot_width\":560,\"renderers\":[{\"id\":\"dbe6b182-ac94-4d94-ad4e-2c4961d85eea\",\"type\":\"LinearAxis\"},{\"id\":\"d41e73d2-b273-4b9c-987d-6d86d5477f58\",\"type\":\"Grid\"},{\"id\":\"98fb157a-a2a5-48ae-9910-17b64a0efebf\",\"type\":\"LogAxis\"},{\"id\":\"bf53f9a3-13f0-4214-81e2-06f8fff79d54\",\"type\":\"Grid\"},{\"id\":\"2bec4a87-e316-43c6-a102-bd76f953193c\",\"type\":\"BoxAnnotation\"},{\"id\":\"e19b3731-06ce-4462-8591-59045764204f\",\"type\":\"GlyphRenderer\"},{\"id\":\"4f134515-a6c6-450b-8ec0-f624f5279308\",\"type\":\"GlyphRenderer\"},{\"id\":\"02f7a406-da7d-4acb-bde9-d8598928065e\",\"type\":\"GlyphRenderer\"},{\"id\":\"d886dadd-70ab-4be7-acfe-a76a1951d0d0\",\"type\":\"GlyphRenderer\"},{\"id\":\"ccdaa299-51f0-48a4-ae26-bc361346bd11\",\"type\":\"GlyphRenderer\"},{\"id\":\"8915a10f-2f60-4ca8-90d2-61f6386f44df\",\"type\":\"Legend\"}],\"right\":[{\"id\":\"8915a10f-2f60-4ca8-90d2-61f6386f44df\",\"type\":\"Legend\"}],\"title\":{\"id\":\"c8bf8ad5-5726-4351-b105-e85d6e00ba3c\",\"type\":\"Title\"},\"toolbar\":{\"id\":\"da564c05-e6f3-4bd2-9c48-f8a7c56257c6\",\"type\":\"Toolbar\"},\"toolbar_location\":null,\"x_range\":{\"id\":\"e72df6b8-8795-4085-a239-e5b5d781f62c\",\"type\":\"Range1d\"},\"x_scale\":{\"id\":\"6565a6b9-ab1c-48a4-bd57-2c07e109a5f4\",\"type\":\"LinearScale\"},\"y_range\":{\"id\":\"f5d01f71-57ad-460b-a08a-d908009eeb77\",\"type\":\"Range1d\"},\"y_scale\":{\"id\":\"5da32d00-d6ba-4d0f-80ae-67d78055c375\",\"type\":\"LogScale\"}},\"id\":\"d4dd19fd-9815-44b4-8c38-40e249197a7d\",\"subtype\":\"Figure\",\"type\":\"Plot\"},{\"attributes\":{\"line_color\":\"#4daf4a\",\"line_width\":1.5,\"x\":{\"field\":\"x\"},\"y\":{\"field\":\"y\"}},\"id\":\"afecdd75-9aab-4657-8c41-2841b8b364f3\",\"type\":\"Line\"},{\"attributes\":{\"callback\":null,\"end\":0.0221137789468,\"start\":-0.0004176280268},\"id\":\"9b07d098-b98f-431c-beef-498de6fbe417\",\"type\":\"Range1d\"},{\"attributes\":{\"ticker\":null},\"id\":\"e0619ec0-5a03-44ac-b344-d6b60b174e73\",\"type\":\"LogTickFormatter\"},{\"attributes\":{\"data_source\":{\"id\":\"56a0b715-6dd0-4f8f-8ceb-38dde0183726\",\"type\":\"ColumnDataSource\"},\"glyph\":{\"id\":\"afecdd75-9aab-4657-8c41-2841b8b364f3\",\"type\":\"Line\"},\"hover_glyph\":null,\"muted_glyph\":null,\"nonselection_glyph\":{\"id\":\"32dcb73a-b97d-4efc-98bb-f8a53cb99e32\",\"type\":\"Line\"},\"selection_glyph\":null,\"view\":{\"id\":\"d269501e-44a8-4500-a76f-df03c8db535a\",\"type\":\"CDSView\"}},\"id\":\"02f7a406-da7d-4acb-bde9-d8598928065e\",\"type\":\"GlyphRenderer\"},{\"attributes\":{\"callback\":null,\"end\":0.01,\"start\":1020},\"id\":\"b4433142-18f8-48f4-b10c-7fd3accdc219\",\"type\":\"Range1d\"},{\"attributes\":{\"callback\":null,\"column_names\":[\"x\",\"y\"],\"data\":{\"x\":{\"__ndarray__\":\"UQkn6sT8iD/3SHcQjsGKP6XYMX/mbo4/0DpDdLEmkT9+VtSUDSmTP4ppmVvkPpU/5r9kgF5nlz8m+TLgB6GZP5gxiJSo7ps/0EsFOphQnj/sG9o30WOgP7epX63DqaE/5faK4bz4oj9ltngWxCmkP269zxTOGqU/l0F1GxzupT+t3TfeycOmP6rX9vFioqc/piLloo2CqD8aS1SHzkapP6zqVOnZBao/fj4McktNqT+sRgfc8bSmP+Iadggmp6M/NcetZeC6oD9K1WCGnuybPw0Vl1h7s5Y/lkuG95tMkj909PZddhGOP0sFIiAVn4g/VIZ78hp+gz//Wucfdrx9P2FQAubf4Xc//5qOeWG0dT93cjzKrWt0P6C2bRzFb3M/h2KXrNFbcj/qbAlqcn5wP1y9JyCsRmw/A6NyD5bZZz8Xo0yzMnZjP1G60tAgP14/6LptLs3NVT/ES5Y8bcNKP9C0ggbLFDk/+8OHPD+RQj+AX6Dz6dFaPyY2A1Y9FWk/ZL/ZyodScj/V78nJhdp3P2ou1vXRP30/sTJgqSNJgT+4ApZVwt6DP24RdTf4T4Y/9BR8+gy8iD8ofB1ClxCLPwwbDtiIMY0/J7jWq0hEjz/YpS9M8piQP1Cvynx9cZE/V2Eb/2o/kj+Eoeqtg/eSPwPnEGGRmZM/+FVH+xA1lD9epeZrybyUP2ZpB1mfPZU/vHr1L1m1lT8+4W7FjBSWP/iw99f0XZY/fIyQfhZrlj8CeVU0DTuWP3URVAWS1JU/4drqKeJKlT+6SwO7cb2UP7ddGAEzIpQ/\",\"dtype\":\"float64\",\"shape\":[75]},\"y\":{\"__ndarray__\":\"GhExyth1ND/Sv8nbtpRIP2vylNV0PVE/aTum7souWD/At0SJ8fVgPw3Iuahxymc/MSNhhJWvcD/bTfBN02d3P2zb5nxnaoA/CD5h5MAGhz8NmeH1TyaQP+zrCsc9p5Y/LbKd76fGnz/bLW5ISEmmPww9YvTcQq8/JV2OstnstT8Er5Y7M8G+P0c+r3jqkcU/5h99k6ZBzj88bCIzFzjVP4enV8oyxN0//yH99nXg5D8qOpLLf0jtP5kqGJXUifQ/c9cS8kHP/D+/DpwzojQEQIEmwoanVwxA4lgXt9HgE0BSSZ2AJuIbQAMJih9jjiNA5q4l5INuK0AwTKYKRj0zQNv5fmq8/DpAaCJseHrtQkB/+zpwzoxKQM3MzMzMeFJAZmZmZmZqWEAAAAAAAFxeQM3MzMzMJmJAmpmZmZkfZUBmZmZmZhhoQDMzMzMzEWtAAAAAAAAKbkBmZmZmZoFwQM3MzMzM/XFAMzMzMzN6c0CamZmZmfZ0QAAAAAAAc3ZAZmZmZmbvd0DNzMzMzGt5QDMzMzMz6HpAmpmZmZlkfEAAAAAAAOF9QGZmZmZmXX9AZmZmZuZsgECamZmZGSuBQM3MzMxM6YFAAAAAAICngkAzMzMzs2WDQGZmZmbmI4RAmpmZmRnihEDNzMzMTKCFQAAAAACAXoZAMzMzM7Mch0BmZmZm5tqHQJqZmZkZmYhAzczMzExXiUAAAAAAgBWKQDMzMzOz04pAZmZmZuaRi0CamZmZGVCMQM3MzMxMDo1AAAAAAIDMjUAzMzMzs4qOQGZmZmbmSI9A\",\"dtype\":\"float64\",\"shape\":[75]}}},\"id\":\"07f53cb5-14de-4020-9243-478bbcc9b6b5\",\"type\":\"ColumnDataSource\"},{\"attributes\":{},\"id\":\"e1de9267-0362-453e-b638-5f4e3e2669bf\",\"type\":\"BasicTicker\"},{\"attributes\":{\"source\":{\"id\":\"fd38130f-ba6f-450c-9978-73770dcb4b83\",\"type\":\"ColumnDataSource\"}},\"id\":\"dee3a55c-6ce2-44bc-acc3-c2e4a0b9f358\",\"type\":\"CDSView\"},{\"attributes\":{\"callback\":null,\"column_names\":[\"x\",\"y\"],\"data\":{\"x\":{\"__ndarray__\":\"UQkn6sT8iD/3SHcQjsGKP6XYMX/mbo4/0DpDdLEmkT9+VtSUDSmTP4ppmVvkPpU/5r9kgF5nlz8m+TLgB6GZP5gxiJSo7ps/0EsFOphQnj/sG9o30WOgP7epX63DqaE/5faK4bz4oj9ltngWxCmkP269zxTOGqU/l0F1GxzupT+t3TfeycOmP6rX9vFioqc/piLloo2CqD8aS1SHzkapP6zqVOnZBao/fj4McktNqT+sRgfc8bSmP+Iadggmp6M/NcetZeC6oD9K1WCGnuybPw0Vl1h7s5Y/lkuG95tMkj909PZddhGOP0sFIiAVn4g/VIZ78hp+gz//Wucfdrx9P2FQAubf4Xc//5qOeWG0dT93cjzKrWt0P6C2bRzFb3M/h2KXrNFbcj/qbAlqcn5wP1y9JyCsRmw/A6NyD5bZZz8Xo0yzMnZjP1G60tAgP14/6LptLs3NVT/ES5Y8bcNKP9C0ggbLFDk/+8OHPD+RQj+AX6Dz6dFaPyY2A1Y9FWk/ZL/ZyodScj/V78nJhdp3P2ou1vXRP30/sTJgqSNJgT+4ApZVwt6DP24RdTf4T4Y/9BR8+gy8iD8ofB1ClxCLPwwbDtiIMY0/J7jWq0hEjz/YpS9M8piQP1Cvynx9cZE/V2Eb/2o/kj+Eoeqtg/eSPwPnEGGRmZM/+FVH+xA1lD9epeZrybyUP2ZpB1mfPZU/vHr1L1m1lT8+4W7FjBSWP/iw99f0XZY/fIyQfhZrlj8CeVU0DTuWP3URVAWS1JU/4drqKeJKlT+6SwO7cb2UP7ddGAEzIpQ/\",\"dtype\":\"float64\",\"shape\":[75]},\"y\":{\"__ndarray__\":\"GhExyth1ND/Sv8nbtpRIP2vylNV0PVE/aTum7souWD/At0SJ8fVgPw3Iuahxymc/MSNhhJWvcD/bTfBN02d3P2zb5nxnaoA/CD5h5MAGhz8NmeH1TyaQP+zrCsc9p5Y/LbKd76fGnz/bLW5ISEmmPww9YvTcQq8/JV2OstnstT8Er5Y7M8G+P0c+r3jqkcU/5h99k6ZBzj88bCIzFzjVP4enV8oyxN0//yH99nXg5D8qOpLLf0jtP5kqGJXUifQ/c9cS8kHP/D+/DpwzojQEQIEmwoanVwxA4lgXt9HgE0BSSZ2AJuIbQAMJih9jjiNA5q4l5INuK0AwTKYKRj0zQNv5fmq8/DpAaCJseHrtQkB/+zpwzoxKQM3MzMzMeFJAZmZmZmZqWEAAAAAAAFxeQM3MzMzMJmJAmpmZmZkfZUBmZmZmZhhoQDMzMzMzEWtAAAAAAAAKbkBmZmZmZoFwQM3MzMzM/XFAMzMzMzN6c0CamZmZmfZ0QAAAAAAAc3ZAZmZmZmbvd0DNzMzMzGt5QDMzMzMz6HpAmpmZmZlkfEAAAAAAAOF9QGZmZmZmXX9AZmZmZuZsgECamZmZGSuBQM3MzMxM6YFAAAAAAICngkAzMzMzs2WDQGZmZmbmI4RAmpmZmRnihEDNzMzMTKCFQAAAAACAXoZAMzMzM7Mch0BmZmZm5tqHQJqZmZkZmYhAzczMzExXiUAAAAAAgBWKQDMzMzOz04pAZmZmZuaRi0CamZmZGVCMQM3MzMxMDo1AAAAAAIDMjUAzMzMzs4qOQGZmZmbmSI9A\",\"dtype\":\"float64\",\"shape\":[75]}}},\"id\":\"caad69dc-1703-4b0b-8b8e-daba10542672\",\"type\":\"ColumnDataSource\"},{\"attributes\":{\"active_drag\":\"auto\",\"active_inspect\":\"auto\",\"active_scroll\":\"auto\",\"active_tap\":\"auto\",\"tools\":[{\"id\":\"e9012d54-3dec-4dde-97de-bbc9763c3187\",\"type\":\"PanTool\"},{\"id\":\"33be5e1e-a550-4222-a02e-99440eeb26f4\",\"type\":\"WheelZoomTool\"},{\"id\":\"57e20961-b26e-4b84-aa9a-13556f482a8e\",\"type\":\"BoxZoomTool\"},{\"id\":\"225f8a55-fad6-4a10-9acf-27221fc85298\",\"type\":\"SaveTool\"},{\"id\":\"8cea5f1b-6f34-46bd-9ff9-873fdfeb5ff0\",\"type\":\"ResetTool\"},{\"id\":\"ae4c4b1f-3141-4963-8e52-c3e40f24cf9e\",\"type\":\"HelpTool\"}]},\"id\":\"6a8660ed-5e4a-4d52-9573-baf765fbcb9d\",\"type\":\"Toolbar\"},{\"attributes\":{\"fill_alpha\":{\"value\":0.7},\"fill_color\":{\"value\":\"#4daf4a\"},\"line_alpha\":{\"value\":0.7},\"line_color\":{\"value\":\"#4daf4a\"},\"x\":{\"field\":\"x\"},\"y\":{\"field\":\"y\"}},\"id\":\"cea29cc1-ef2d-4068-892d-2f05924344dc\",\"type\":\"Circle\"},{\"attributes\":{\"source\":{\"id\":\"56a0b715-6dd0-4f8f-8ceb-38dde0183726\",\"type\":\"ColumnDataSource\"}},\"id\":\"d269501e-44a8-4500-a76f-df03c8db535a\",\"type\":\"CDSView\"},{\"attributes\":{\"source\":{\"id\":\"120c8c11-b955-48e4-9211-8fa755ed507e\",\"type\":\"ColumnDataSource\"}},\"id\":\"c1a797b6-a4e5-426d-83d0-f33f5769180f\",\"type\":\"CDSView\"},{\"attributes\":{\"fill_alpha\":{\"value\":0.7},\"fill_color\":{\"value\":\"#984ea3\"},\"line_alpha\":{\"value\":0.7},\"line_color\":{\"value\":\"#984ea3\"},\"x\":{\"field\":\"x\"},\"y\":{\"field\":\"y\"}},\"id\":\"9c717c98-7b43-4473-86f9-199e3b976dfa\",\"type\":\"Square\"},{\"attributes\":{\"plot\":null,\"text\":\"Linear pressure scale\"},\"id\":\"93c6f2e6-16a2-4d60-b831-72df8f876240\",\"type\":\"Title\"},{\"attributes\":{\"line_alpha\":0.6,\"line_color\":\"#984ea3\",\"line_width\":3,\"x\":{\"field\":\"x\"},\"y\":{\"field\":\"y\"}},\"id\":\"2c58304c-295c-4631-a79d-f48b30fde8df\",\"type\":\"Line\"},{\"attributes\":{\"source\":{\"id\":\"caad69dc-1703-4b0b-8b8e-daba10542672\",\"type\":\"ColumnDataSource\"}},\"id\":\"5838499c-f789-42c6-a1e9-926ac2bfcac7\",\"type\":\"CDSView\"},{\"attributes\":{},\"id\":\"6565a6b9-ab1c-48a4-bd57-2c07e109a5f4\",\"type\":\"LinearScale\"},{\"attributes\":{\"callback\":null,\"end\":0.052313541843,\"start\":0.0014160678569999998},\"id\":\"e72df6b8-8795-4085-a239-e5b5d781f62c\",\"type\":\"Range1d\"},{\"attributes\":{\"plot\":{\"id\":\"d4dd19fd-9815-44b4-8c38-40e249197a7d\",\"subtype\":\"Figure\",\"type\":\"Plot\"},\"ticker\":{\"id\":\"e1de9267-0362-453e-b638-5f4e3e2669bf\",\"type\":\"BasicTicker\"}},\"id\":\"d41e73d2-b273-4b9c-987d-6d86d5477f58\",\"type\":\"Grid\"},{\"attributes\":{\"fill_alpha\":{\"value\":0.1},\"fill_color\":{\"value\":\"#1f77b4\"},\"line_alpha\":{\"value\":0.1},\"line_color\":{\"value\":\"#1f77b4\"},\"x\":{\"field\":\"x\"},\"y\":{\"field\":\"y\"}},\"id\":\"4eb83531-8082-4aff-b8ce-97c018dc1cc2\",\"type\":\"Square\"},{\"attributes\":{\"line_alpha\":0.1,\"line_color\":\"#1f77b4\",\"line_width\":3,\"x\":{\"field\":\"x\"},\"y\":{\"field\":\"y\"}},\"id\":\"95b212d6-300f-4ab9-8ec2-a00e6dffc747\",\"type\":\"Line\"},{\"attributes\":{\"data_source\":{\"id\":\"fd38130f-ba6f-450c-9978-73770dcb4b83\",\"type\":\"ColumnDataSource\"},\"glyph\":{\"id\":\"9c717c98-7b43-4473-86f9-199e3b976dfa\",\"type\":\"Square\"},\"hover_glyph\":null,\"muted_glyph\":null,\"nonselection_glyph\":{\"id\":\"4eb83531-8082-4aff-b8ce-97c018dc1cc2\",\"type\":\"Square\"},\"selection_glyph\":null,\"view\":{\"id\":\"dee3a55c-6ce2-44bc-acc3-c2e4a0b9f358\",\"type\":\"CDSView\"}},\"id\":\"d886dadd-70ab-4be7-acfe-a76a1951d0d0\",\"type\":\"GlyphRenderer\"},{\"attributes\":{\"overlay\":{\"id\":\"4945a03f-053f-4eeb-a0d7-cadd7fc16d2c\",\"type\":\"BoxAnnotation\"}},\"id\":\"57e20961-b26e-4b84-aa9a-13556f482a8e\",\"type\":\"BoxZoomTool\"},{\"attributes\":{\"items\":[{\"id\":\"17d4ba88-e637-4f2e-84ab-c9d53f734b2e\",\"type\":\"LegendItem\"},{\"id\":\"1173de3c-d90d-4338-9b1d-454cb68657d1\",\"type\":\"LegendItem\"},{\"id\":\"f18dee94-83a4-43e7-84d7-7ae3c0b65a45\",\"type\":\"LegendItem\"}],\"label_text_font_size\":{\"value\":\"8pt\"},\"location\":[10,-30],\"plot\":{\"id\":\"d4dd19fd-9815-44b4-8c38-40e249197a7d\",\"subtype\":\"Figure\",\"type\":\"Plot\"}},\"id\":\"8915a10f-2f60-4ca8-90d2-61f6386f44df\",\"type\":\"Legend\"},{\"attributes\":{\"source\":{\"id\":\"07f53cb5-14de-4020-9243-478bbcc9b6b5\",\"type\":\"ColumnDataSource\"}},\"id\":\"c5b80f1d-f02f-40e6-849d-2c0341ba8e4d\",\"type\":\"CDSView\"},{\"attributes\":{\"label\":{\"value\":\"CRD\"},\"renderers\":[{\"id\":\"4f134515-a6c6-450b-8ec0-f624f5279308\",\"type\":\"GlyphRenderer\"},{\"id\":\"02f7a406-da7d-4acb-bde9-d8598928065e\",\"type\":\"GlyphRenderer\"}]},\"id\":\"1173de3c-d90d-4338-9b1d-454cb68657d1\",\"type\":\"LegendItem\"},{\"attributes\":{\"children\":[{\"id\":\"bdb648f2-8fa8-4201-b599-234b283ce969\",\"subtype\":\"Figure\",\"type\":\"Plot\"},{\"id\":\"d4dd19fd-9815-44b4-8c38-40e249197a7d\",\"subtype\":\"Figure\",\"type\":\"Plot\"}]},\"id\":\"9556fe9e-5cf8-41d6-84d7-0f50ee7f95a6\",\"type\":\"Row\"},{\"attributes\":{},\"id\":\"a07c0df9-1485-4476-8b5a-c4c84775221e\",\"type\":\"PanTool\"},{\"attributes\":{},\"id\":\"5da32d00-d6ba-4d0f-80ae-67d78055c375\",\"type\":\"LogScale\"},{\"attributes\":{\"bottom_units\":\"screen\",\"fill_alpha\":{\"value\":0.5},\"fill_color\":{\"value\":\"lightgrey\"},\"left_units\":\"screen\",\"level\":\"overlay\",\"line_alpha\":{\"value\":1.0},\"line_color\":{\"value\":\"black\"},\"line_dash\":[4,4],\"line_width\":{\"value\":2},\"plot\":null,\"render_mode\":\"css\",\"right_units\":\"screen\",\"top_units\":\"screen\"},\"id\":\"2bec4a87-e316-43c6-a102-bd76f953193c\",\"type\":\"BoxAnnotation\"},{\"attributes\":{\"data_source\":{\"id\":\"120c8c11-b955-48e4-9211-8fa755ed507e\",\"type\":\"ColumnDataSource\"},\"glyph\":{\"id\":\"cea29cc1-ef2d-4068-892d-2f05924344dc\",\"type\":\"Circle\"},\"hover_glyph\":null,\"muted_glyph\":null,\"nonselection_glyph\":{\"id\":\"bf2bd4a1-fb49-432d-be1f-6721315f37ee\",\"type\":\"Circle\"},\"selection_glyph\":null,\"view\":{\"id\":\"c1a797b6-a4e5-426d-83d0-f33f5769180f\",\"type\":\"CDSView\"}},\"id\":\"3477046c-8909-4fe1-a9bf-3d7dd075bd7a\",\"type\":\"GlyphRenderer\"},{\"attributes\":{\"line_color\":\"#4daf4a\",\"line_width\":1.5,\"x\":{\"field\":\"x\"},\"y\":{\"field\":\"y\"}},\"id\":\"d746309e-1a38-44a7-b4cc-0106b3f12fb3\",\"type\":\"Line\"},{\"attributes\":{\"callback\":null,\"column_names\":[\"x\",\"y\"],\"data\":{\"x\":{\"__ndarray__\":\"8F/Nv2Vnqj8L32UAVGOwP05SXgAhX6c/fji63dqooD8AAAAAAAAAAJ55vSRj75C/VUB+jyoliD+/B/6jrjahP0QM7fzYrZ4/4Arf/RzflT97cdWBG0WkP/8GvZyx5pw/pwjBwRZvoT+izmB8ZoOhP7/1jD2uH6I/3Kdz3UWspD8mcqp9hqykPwVburwYTqU/S5s/4GDzpT/mBpkdD6GmP0gD2H1Q4qc/5kklfr2ppj9NUJV/xcukP6P1XwP8/KE/FNtjPUOlnj8IGT3BQgmaP7uSYzmpMpU/UD5RmkxjkT/7ne6If+KMP2Df7q+VBYg/Yq0noGw2gz/E49MBn499P6TPPoMDonc/qXSUYIHRdD/3CF+e4dRyPwEFo0IYJ3E/3t5EXJh/bz9OUBYA26hrP57Gnn6OVmc/LxyVBdZkYz+LfKTqWmBfPydP9f32Ylg/6f+OhNOEUT+75/I+BNBFPzs9YkGQrTY/k7PR4SDcQz9Va28c4itbP14tB1vkzmg/NsJL/W/2cT8KxQxDmmd3Pxv/Gh1LsHw/s5lxQdfxgD/Gzs5AKXWDP+D6XN8a54U//evxT2Q+iD9w9HCDU3+KP+r7SMhCn4w/FPWv0Pqgjj/Q6/nhuj6QP2cEzUdPGpE/NtqaQiHhkT/ZTpaFb5SSP8Snt0EYOJM/id3Fm//Okz+PteLCUVeUPwsb+xjH1pQ/qkYco1ZHlT+sJi8CyKiVPwxYpQYw65U/eFPW3sP/lT+uSaVCttiVPw8TtJmofZU/qfudeXsIlT+8Ez8I+YeUP/j3JkEQBJQ/\",\"dtype\":\"float64\",\"shape\":[75]},\"y\":{\"__ndarray__\":\"S/O/Q+51ND/430zAtpRIP2vylNV0PVE/QxsjCssuWD/TR4Z78fVgP+inNsRxymc/OuuBfZWvcD/u3TFA02d3P2d3VoBnaoA/CD5h5MAGhz/1pA8HUCaQP+zrCsc9p5Y/Fb7LAKjGnz/nJ9c/SEmmPwBD+fzcQq8/FOZwv9nstT8Er5Y7M8G+P0c+r3jqkcU/yK72qKZBzj+tM989FzjVPxbgmr8yxN0/cOm5AXbg5D+5ctXAf0jtP5kqGJXUifQ/DsrqDELP/D8MCAhBojQEQDItVnmnVwxAiFXNvdHgE0BSSZ2AJuIbQAMJih9jjiNA5q4l5INuK0CPVN/5RT0zQHzxRXu8/DpAOZ7PgHrtQkAg8wGBzoxKQBSTN8DMeFJA2NmQf2ZqWEAAAAAAAFxeQEQX1LfMJmJAmpmZmZkfZUBmZmZmZhhoQLzoK0gzEWtAAAAAAAAKbkCiC+pbZoFwQAhyUMLM/XFA+I2vPTN6c0AQ5KCEmfZ0QAAAAAAAc3ZA8Btfe2bvd0AIclDCzGt5QPeNrz0z6HpAEOSghJlkfEAAAAAAAOF9QKML6ltmXX9ABTkoYeZsgED7xteeGSuBQAhyUMJM6YFAAAAAAICngkD4ja89s2WDQAU5KGHmI4RA+8bXnhnihEAIclDCTKCFQAAAAACAXoZA+I2vPbMch0AFOShh5tqHQPvG154ZmYhACHJQwkxXiUAAAAAAgBWKQPeNrz2z04pABTkoYeaRi0D7xteeGVCMQAlyUMJMDo1AAAAAAIDMjUD3ja89s4qOQGZmZmbmSI9A\",\"dtype\":\"float64\",\"shape\":[75]}}},\"id\":\"a806562d-c42e-4881-bb4c-3f75f1a0f999\",\"type\":\"ColumnDataSource\"},{\"attributes\":{\"line_alpha\":0.1,\"line_color\":\"#1f77b4\",\"line_width\":3,\"x\":{\"field\":\"x\"},\"y\":{\"field\":\"y\"}},\"id\":\"9fb8c08d-77cc-480b-8a8c-cc924e901c2f\",\"type\":\"Line\"},{\"attributes\":{\"data_source\":{\"id\":\"a50188bc-1913-476d-b310-87cb6f4babac\",\"type\":\"ColumnDataSource\"},\"glyph\":{\"id\":\"d746309e-1a38-44a7-b4cc-0106b3f12fb3\",\"type\":\"Line\"},\"hover_glyph\":null,\"muted_glyph\":null,\"nonselection_glyph\":{\"id\":\"323b6aaf-ff00-47cc-87dc-3a2520f17a6b\",\"type\":\"Line\"},\"selection_glyph\":null,\"view\":{\"id\":\"02e29aca-a140-4637-87ee-7a515310030e\",\"type\":\"CDSView\"}},\"id\":\"2728dbfe-b28a-49d0-a19c-69ddf7d947bc\",\"type\":\"GlyphRenderer\"},{\"attributes\":{\"data_source\":{\"id\":\"caad69dc-1703-4b0b-8b8e-daba10542672\",\"type\":\"ColumnDataSource\"},\"glyph\":{\"id\":\"2c58304c-295c-4631-a79d-f48b30fde8df\",\"type\":\"Line\"},\"hover_glyph\":null,\"muted_glyph\":null,\"nonselection_glyph\":{\"id\":\"9fb8c08d-77cc-480b-8a8c-cc924e901c2f\",\"type\":\"Line\"},\"selection_glyph\":null,\"view\":{\"id\":\"5838499c-f789-42c6-a1e9-926ac2bfcac7\",\"type\":\"CDSView\"}},\"id\":\"ccdaa299-51f0-48a4-ae26-bc361346bd11\",\"type\":\"GlyphRenderer\"},{\"attributes\":{\"line_alpha\":0.1,\"line_color\":\"#1f77b4\",\"line_dash\":[6],\"line_width\":5,\"x\":{\"field\":\"x\"},\"y\":{\"field\":\"y\"}},\"id\":\"32ea9a9d-2e1f-4e28-9fb1-7948af13139d\",\"type\":\"Line\"},{\"attributes\":{},\"id\":\"513e30e0-aeb9-43cc-b366-d43c87fb842b\",\"type\":\"HelpTool\"},{\"attributes\":{\"tools\":[{\"id\":\"e9012d54-3dec-4dde-97de-bbc9763c3187\",\"type\":\"PanTool\"},{\"id\":\"33be5e1e-a550-4222-a02e-99440eeb26f4\",\"type\":\"WheelZoomTool\"},{\"id\":\"57e20961-b26e-4b84-aa9a-13556f482a8e\",\"type\":\"BoxZoomTool\"},{\"id\":\"225f8a55-fad6-4a10-9acf-27221fc85298\",\"type\":\"SaveTool\"},{\"id\":\"8cea5f1b-6f34-46bd-9ff9-873fdfeb5ff0\",\"type\":\"ResetTool\"},{\"id\":\"ae4c4b1f-3141-4963-8e52-c3e40f24cf9e\",\"type\":\"HelpTool\"},{\"id\":\"a07c0df9-1485-4476-8b5a-c4c84775221e\",\"type\":\"PanTool\"},{\"id\":\"155514fb-53e3-4388-98f4-5fddebe2086e\",\"type\":\"WheelZoomTool\"},{\"id\":\"b91275cb-b66c-42ea-a629-c53e985f410c\",\"type\":\"BoxZoomTool\"},{\"id\":\"4a72d336-898d-4caa-bb32-347595db9580\",\"type\":\"SaveTool\"},{\"id\":\"4b2428fc-6488-45af-890a-72b19b809045\",\"type\":\"ResetTool\"},{\"id\":\"513e30e0-aeb9-43cc-b366-d43c87fb842b\",\"type\":\"HelpTool\"}]},\"id\":\"0dd68806-2690-4137-9b9b-638602354ed5\",\"type\":\"ProxyToolbar\"},{\"attributes\":{\"source\":{\"id\":\"09431be6-3f95-4170-a110-1bcf15cf7135\",\"type\":\"ColumnDataSource\"}},\"id\":\"dc5ad190-c46f-4db8-b001-afa4e8da72bd\",\"type\":\"CDSView\"},{\"attributes\":{\"children\":[{\"id\":\"32bfa774-d881-4225-8d17-0ff7d9b14300\",\"type\":\"ToolbarBox\"},{\"id\":\"0df9e316-490f-4b00-bd52-d4b174a1173c\",\"type\":\"Column\"}]},\"id\":\"6737d2dd-0147-44f2-8099-ca4cdd015780\",\"type\":\"Column\"},{\"attributes\":{},\"id\":\"5cac6d74-590b-40e3-831c-8aaa381dd619\",\"type\":\"BasicTicker\"},{\"attributes\":{},\"id\":\"d42e0d97-66d5-4734-8ee3-7e1b3debc53a\",\"type\":\"BasicTickFormatter\"},{\"attributes\":{\"dimension\":1,\"plot\":{\"id\":\"bdb648f2-8fa8-4201-b599-234b283ce969\",\"subtype\":\"Figure\",\"type\":\"Plot\"},\"ticker\":{\"id\":\"5cac6d74-590b-40e3-831c-8aaa381dd619\",\"type\":\"BasicTicker\"}},\"id\":\"7be21a69-daca-46ec-99ab-2903e32ace48\",\"type\":\"Grid\"},{\"attributes\":{\"data_source\":{\"id\":\"a806562d-c42e-4881-bb4c-3f75f1a0f999\",\"type\":\"ColumnDataSource\"},\"glyph\":{\"id\":\"b0787fa5-d5dc-4dc3-825a-991b39b61754\",\"type\":\"Line\"},\"hover_glyph\":null,\"muted_glyph\":null,\"nonselection_glyph\":{\"id\":\"32ea9a9d-2e1f-4e28-9fb1-7948af13139d\",\"type\":\"Line\"},\"selection_glyph\":null,\"view\":{\"id\":\"e7db5a29-dc94-41e7-9ccf-90e647b5fe98\",\"type\":\"CDSView\"}},\"id\":\"e19b3731-06ce-4462-8591-59045764204f\",\"type\":\"GlyphRenderer\"},{\"attributes\":{\"callback\":null,\"column_names\":[\"x\",\"y\"],\"data\":{\"x\":{\"__ndarray__\":\"fCeyS17hhD9kDF2dJNyGP1qoHjHG/Io/U4fQmZhUjz+bdaqiluuRP5Pp6YYaQ5Q/t16/n5uvlj83pm4BfS+ZP58X56Izxps/5IgxwHB0nj/Rl+O3Fp2gP2MTXFaoCKI/ivbCrjd7oz/SOfM2LMmkP3AnArYyyqU/Xq0fCoKhpj+xhlujvXinP6doVPy5Sqg/mabuG3YXqT+LsbHqKt+pP2LkpLFvh6o/R7L4YUWMqT88e+V83HemP9dc2BR07aI/bxisCJxEnz+UdkcfIzuZP3kCXO6ezJM/uwlWhoUbjz+bNfyXOZeJP4B3s4VuloU/n1CeZVUFgj/2dA0tDaB9PxdwpnR2U3o/Bk6jeVofej9p3dCd6sx5PzexLtCol3g/8gjstRKWdj+dcqwaYoZzP3TsCPZLA3A/q8cJDEOvaT8VMgDh9tVjP5T/PFrLjlw/VTbkCmyoUT+FX6oVxo86P7Z8Ovs5ySm/AHs1Xvg2GL+yD/HZ+mVQPzj+zjInAWQ/mDrgYz1obz/sv7CuISd1P8uGERjtZXo/SMzxY7N3fz8H0lWb9y+CPxP4tqV9j4Q/8B9Up9jYhj/cQooT9QiJP5flZ/pXHIs/bY1r8HwOjT/da+V+t9uOP6Jz6SXnQJA/4qamJ6P/kD934yshIqyRP+7OIUOjSJI/WybNY/DXkj/gI0T0yVyTPwx/fsYi2ZM/z9jPFptMlD/MafFXOLGUPwPh5xjA9pQ/mPeEYcoElT/2xuN+lMyUP34f7QO5WZQ/OC9vip7Gkz8PsK+l4ieTP1EUE5TVhpI/\",\"dtype\":\"float64\",\"shape\":[75]},\"y\":{\"__ndarray__\":\"GhExyth1ND/Sv8nbtpRIP2vylNV0PVE/aTum7souWD/At0SJ8fVgPw3Iuahxymc/MSNhhJWvcD/bTfBN02d3P2zb5nxnaoA/CD5h5MAGhz8NmeH1TyaQP+zrCsc9p5Y/LbKd76fGnz/bLW5ISEmmPww9YvTcQq8/JV2OstnstT8Er5Y7M8G+P0c+r3jqkcU/5h99k6ZBzj88bCIzFzjVP4enV8oyxN0//yH99nXg5D8qOpLLf0jtP5kqGJXUifQ/c9cS8kHP/D+/DpwzojQEQIEmwoanVwxA4lgXt9HgE0BSSZ2AJuIbQAMJih9jjiNA5q4l5INuK0AwTKYKRj0zQNv5fmq8/DpAaCJseHrtQkB/+zpwzoxKQM3MzMzMeFJAZmZmZmZqWEAAAAAAAFxeQM3MzMzMJmJAmpmZmZkfZUBmZmZmZhhoQDMzMzMzEWtAAAAAAAAKbkBmZmZmZoFwQM3MzMzM/XFAMzMzMzN6c0CamZmZmfZ0QAAAAAAAc3ZAZmZmZmbvd0DNzMzMzGt5QDMzMzMz6HpAmpmZmZlkfEAAAAAAAOF9QGZmZmZmXX9AZmZmZuZsgECamZmZGSuBQM3MzMxM6YFAAAAAAICngkAzMzMzs2WDQGZmZmbmI4RAmpmZmRnihEDNzMzMTKCFQAAAAACAXoZAMzMzM7Mch0BmZmZm5tqHQJqZmZkZmYhAzczMzExXiUAAAAAAgBWKQDMzMzOz04pAZmZmZuaRi0CamZmZGVCMQM3MzMxMDo1AAAAAAIDMjUAzMzMzs4qOQGZmZmbmSI9A\",\"dtype\":\"float64\",\"shape\":[75]}}},\"id\":\"a50188bc-1913-476d-b310-87cb6f4babac\",\"type\":\"ColumnDataSource\"},{\"attributes\":{\"source\":{\"id\":\"a50188bc-1913-476d-b310-87cb6f4babac\",\"type\":\"ColumnDataSource\"}},\"id\":\"02e29aca-a140-4637-87ee-7a515310030e\",\"type\":\"CDSView\"},{\"attributes\":{\"label\":{\"value\":\"WGT igg=10 wgt_flux=2\"},\"renderers\":[{\"id\":\"d886dadd-70ab-4be7-acfe-a76a1951d0d0\",\"type\":\"GlyphRenderer\"},{\"id\":\"ccdaa299-51f0-48a4-ae26-bc361346bd11\",\"type\":\"GlyphRenderer\"}]},\"id\":\"f18dee94-83a4-43e7-84d7-7ae3c0b65a45\",\"type\":\"LegendItem\"},{\"attributes\":{\"axis_label\":\"cooling rate [K/day]\",\"formatter\":{\"id\":\"ba237bb7-4103-4b04-911d-9b932ea2f6f9\",\"type\":\"BasicTickFormatter\"},\"plot\":{\"id\":\"bdb648f2-8fa8-4201-b599-234b283ce969\",\"subtype\":\"Figure\",\"type\":\"Plot\"},\"ticker\":{\"id\":\"14c7a358-616c-4486-9ef8-024e44c22795\",\"type\":\"BasicTicker\"}},\"id\":\"47e01c18-272b-4dcc-bbfd-bb97620f2ee4\",\"type\":\"LinearAxis\"},{\"attributes\":{\"overlay\":{\"id\":\"2bec4a87-e316-43c6-a102-bd76f953193c\",\"type\":\"BoxAnnotation\"}},\"id\":\"b91275cb-b66c-42ea-a629-c53e985f410c\",\"type\":\"BoxZoomTool\"},{\"attributes\":{\"axis_label\":\"pressure [mb]\",\"formatter\":{\"id\":\"e0619ec0-5a03-44ac-b344-d6b60b174e73\",\"type\":\"LogTickFormatter\"},\"plot\":{\"id\":\"d4dd19fd-9815-44b4-8c38-40e249197a7d\",\"subtype\":\"Figure\",\"type\":\"Plot\"},\"ticker\":{\"id\":\"7a722f30-7a21-4e71-8141-fb145d24aa9d\",\"type\":\"LogTicker\"}},\"id\":\"98fb157a-a2a5-48ae-9910-17b64a0efebf\",\"type\":\"LogAxis\"},{\"attributes\":{},\"id\":\"14c7a358-616c-4486-9ef8-024e44c22795\",\"type\":\"BasicTicker\"},{\"attributes\":{\"fill_alpha\":{\"value\":0.7},\"fill_color\":{\"value\":\"#984ea3\"},\"line_alpha\":{\"value\":0.7},\"line_color\":{\"value\":\"#984ea3\"},\"x\":{\"field\":\"x\"},\"y\":{\"field\":\"y\"}},\"id\":\"98e01dcb-3d06-4164-b36d-e2dbc31db17b\",\"type\":\"Square\"},{\"attributes\":{\"label\":{\"value\":\"CLIRAD `coolr_bands`\"},\"renderers\":[{\"id\":\"e19b3731-06ce-4462-8591-59045764204f\",\"type\":\"GlyphRenderer\"}]},\"id\":\"17d4ba88-e637-4f2e-84ab-c9d53f734b2e\",\"type\":\"LegendItem\"},{\"attributes\":{\"line_alpha\":0.6,\"line_color\":\"#e41a1c\",\"line_dash\":[6],\"line_width\":5,\"x\":{\"field\":\"x\"},\"y\":{\"field\":\"y\"}},\"id\":\"734182e2-9142-40f0-816f-7acc60033bf5\",\"type\":\"Line\"},{\"attributes\":{},\"id\":\"155514fb-53e3-4388-98f4-5fddebe2086e\",\"type\":\"WheelZoomTool\"},{\"attributes\":{\"plot\":{\"id\":\"bdb648f2-8fa8-4201-b599-234b283ce969\",\"subtype\":\"Figure\",\"type\":\"Plot\"},\"ticker\":{\"id\":\"14c7a358-616c-4486-9ef8-024e44c22795\",\"type\":\"BasicTicker\"}},\"id\":\"9cc7b2d0-e230-42ec-bc85-7c09d6372b56\",\"type\":\"Grid\"},{\"attributes\":{},\"id\":\"33be5e1e-a550-4222-a02e-99440eeb26f4\",\"type\":\"WheelZoomTool\"},{\"attributes\":{},\"id\":\"4b2428fc-6488-45af-890a-72b19b809045\",\"type\":\"ResetTool\"},{\"attributes\":{\"line_alpha\":0.1,\"line_color\":\"#1f77b4\",\"line_width\":1.5,\"x\":{\"field\":\"x\"},\"y\":{\"field\":\"y\"}},\"id\":\"323b6aaf-ff00-47cc-87dc-3a2520f17a6b\",\"type\":\"Line\"},{\"attributes\":{\"line_alpha\":0.6,\"line_color\":\"#e41a1c\",\"line_dash\":[6],\"line_width\":5,\"x\":{\"field\":\"x\"},\"y\":{\"field\":\"y\"}},\"id\":\"b0787fa5-d5dc-4dc3-825a-991b39b61754\",\"type\":\"Line\"},{\"attributes\":{\"callback\":null,\"column_names\":[\"x\",\"y\"],\"data\":{\"x\":{\"__ndarray__\":\"8F/Nv2Vnqj8L32UAVGOwP05SXgAhX6c/fji63dqooD8AAAAAAAAAAJ55vSRj75C/VUB+jyoliD+/B/6jrjahP0QM7fzYrZ4/4Arf/RzflT97cdWBG0WkP/8GvZyx5pw/pwjBwRZvoT+izmB8ZoOhP7/1jD2uH6I/3Kdz3UWspD8mcqp9hqykPwVburwYTqU/S5s/4GDzpT/mBpkdD6GmP0gD2H1Q4qc/5kklfr2ppj9NUJV/xcukP6P1XwP8/KE/FNtjPUOlnj8IGT3BQgmaP7uSYzmpMpU/UD5RmkxjkT/7ne6If+KMP2Df7q+VBYg/Yq0noGw2gz/E49MBn499P6TPPoMDonc/qXSUYIHRdD/3CF+e4dRyPwEFo0IYJ3E/3t5EXJh/bz9OUBYA26hrP57Gnn6OVmc/LxyVBdZkYz+LfKTqWmBfPydP9f32Ylg/6f+OhNOEUT+75/I+BNBFPzs9YkGQrTY/k7PR4SDcQz9Va28c4itbP14tB1vkzmg/NsJL/W/2cT8KxQxDmmd3Pxv/Gh1LsHw/s5lxQdfxgD/Gzs5AKXWDP+D6XN8a54U//evxT2Q+iD9w9HCDU3+KP+r7SMhCn4w/FPWv0Pqgjj/Q6/nhuj6QP2cEzUdPGpE/NtqaQiHhkT/ZTpaFb5SSP8Snt0EYOJM/id3Fm//Okz+PteLCUVeUPwsb+xjH1pQ/qkYco1ZHlT+sJi8CyKiVPwxYpQYw65U/eFPW3sP/lT+uSaVCttiVPw8TtJmofZU/qfudeXsIlT+8Ez8I+YeUP/j3JkEQBJQ/\",\"dtype\":\"float64\",\"shape\":[75]},\"y\":{\"__ndarray__\":\"S/O/Q+51ND/430zAtpRIP2vylNV0PVE/QxsjCssuWD/TR4Z78fVgP+inNsRxymc/OuuBfZWvcD/u3TFA02d3P2d3VoBnaoA/CD5h5MAGhz/1pA8HUCaQP+zrCsc9p5Y/Fb7LAKjGnz/nJ9c/SEmmPwBD+fzcQq8/FOZwv9nstT8Er5Y7M8G+P0c+r3jqkcU/yK72qKZBzj+tM989FzjVPxbgmr8yxN0/cOm5AXbg5D+5ctXAf0jtP5kqGJXUifQ/DsrqDELP/D8MCAhBojQEQDItVnmnVwxAiFXNvdHgE0BSSZ2AJuIbQAMJih9jjiNA5q4l5INuK0CPVN/5RT0zQHzxRXu8/DpAOZ7PgHrtQkAg8wGBzoxKQBSTN8DMeFJA2NmQf2ZqWEAAAAAAAFxeQEQX1LfMJmJAmpmZmZkfZUBmZmZmZhhoQLzoK0gzEWtAAAAAAAAKbkCiC+pbZoFwQAhyUMLM/XFA+I2vPTN6c0AQ5KCEmfZ0QAAAAAAAc3ZA8Btfe2bvd0AIclDCzGt5QPeNrz0z6HpAEOSghJlkfEAAAAAAAOF9QKML6ltmXX9ABTkoYeZsgED7xteeGSuBQAhyUMJM6YFAAAAAAICngkD4ja89s2WDQAU5KGHmI4RA+8bXnhnihEAIclDCTKCFQAAAAACAXoZA+I2vPbMch0AFOShh5tqHQPvG154ZmYhACHJQwkxXiUAAAAAAgBWKQPeNrz2z04pABTkoYeaRi0D7xteeGVCMQAlyUMJMDo1AAAAAAIDMjUD3ja89s4qOQGZmZmbmSI9A\",\"dtype\":\"float64\",\"shape\":[75]}}},\"id\":\"2c8e2998-7880-4c07-b238-01f6c7d50ca0\",\"type\":\"ColumnDataSource\"},{\"attributes\":{\"below\":[{\"id\":\"47e01c18-272b-4dcc-bbfd-bb97620f2ee4\",\"type\":\"LinearAxis\"}],\"left\":[{\"id\":\"2a6bdb96-3a26-409e-8cee-6de8626356fa\",\"type\":\"LinearAxis\"}],\"plot_height\":500,\"plot_width\":400,\"renderers\":[{\"id\":\"47e01c18-272b-4dcc-bbfd-bb97620f2ee4\",\"type\":\"LinearAxis\"},{\"id\":\"9cc7b2d0-e230-42ec-bc85-7c09d6372b56\",\"type\":\"Grid\"},{\"id\":\"2a6bdb96-3a26-409e-8cee-6de8626356fa\",\"type\":\"LinearAxis\"},{\"id\":\"7be21a69-daca-46ec-99ab-2903e32ace48\",\"type\":\"Grid\"},{\"id\":\"4945a03f-053f-4eeb-a0d7-cadd7fc16d2c\",\"type\":\"BoxAnnotation\"},{\"id\":\"f7a3e7d1-e6cf-4607-a32e-f602f961511a\",\"type\":\"GlyphRenderer\"},{\"id\":\"3477046c-8909-4fe1-a9bf-3d7dd075bd7a\",\"type\":\"GlyphRenderer\"},{\"id\":\"2728dbfe-b28a-49d0-a19c-69ddf7d947bc\",\"type\":\"GlyphRenderer\"},{\"id\":\"dd8f2ba6-0cff-48f9-9885-56f7303eb486\",\"type\":\"GlyphRenderer\"},{\"id\":\"afd65a5f-4b40-46f6-9f3c-d185bbeac658\",\"type\":\"GlyphRenderer\"}],\"title\":{\"id\":\"93c6f2e6-16a2-4d60-b831-72df8f876240\",\"type\":\"Title\"},\"toolbar\":{\"id\":\"6a8660ed-5e4a-4d52-9573-baf765fbcb9d\",\"type\":\"Toolbar\"},\"toolbar_location\":null,\"x_range\":{\"id\":\"9b07d098-b98f-431c-beef-498de6fbe417\",\"type\":\"Range1d\"},\"x_scale\":{\"id\":\"c8b67480-508a-49a2-9274-608b9ddf12d6\",\"type\":\"LinearScale\"},\"y_range\":{\"id\":\"b4433142-18f8-48f4-b10c-7fd3accdc219\",\"type\":\"Range1d\"},\"y_scale\":{\"id\":\"f59b40cb-9bfd-4ffb-a48a-87363bafe5b3\",\"type\":\"LinearScale\"}},\"id\":\"bdb648f2-8fa8-4201-b599-234b283ce969\",\"subtype\":\"Figure\",\"type\":\"Plot\"},{\"attributes\":{},\"id\":\"4a72d336-898d-4caa-bb32-347595db9580\",\"type\":\"SaveTool\"}],\"root_ids\":[\"6737d2dd-0147-44f2-8099-ca4cdd015780\"]},\"title\":\"Bokeh Application\",\"version\":\"0.12.14\"}};\n",
       "  var render_items = [{\"docid\":\"8effa380-a961-4a40-a1fc-a811d859b2dc\",\"elementid\":\"00f39205-f75f-4858-9046-93884e3e3976\",\"modelid\":\"6737d2dd-0147-44f2-8099-ca4cdd015780\"}];\n",
       "  root.Bokeh.embed.embed_items_notebook(docs_json, render_items);\n",
       "\n",
       "  }\n",
       "  if (root.Bokeh !== undefined) {\n",
       "    embed_document(root);\n",
       "  } else {\n",
       "    var attempts = 0;\n",
       "    var timer = setInterval(function(root) {\n",
       "      if (root.Bokeh !== undefined) {\n",
       "        embed_document(root);\n",
       "        clearInterval(timer);\n",
       "      }\n",
       "      attempts++;\n",
       "      if (attempts > 100) {\n",
       "        console.log(\"Bokeh: ERROR: Unable to run BokehJS code because BokehJS library is missing\")\n",
       "        clearInterval(timer);\n",
       "      }\n",
       "    }, 10, root)\n",
       "  }\n",
       "})(window);"
      ],
      "application/vnd.bokehjs_exec.v0+json": ""
     },
     "metadata": {
      "application/vnd.bokehjs_exec.v0+json": {
       "id": "6737d2dd-0147-44f2-8099-ca4cdd015780"
      }
     },
     "output_type": "display_data"
    },
    {
     "name": "stdout",
     "output_type": "stream",
     "text": [
      "FIGURE. Cooling rate profiles.\n"
     ]
    },
    {
     "data": {
      "text/html": [
       "<a id=\"Flux_Comparison\"></a>"
      ],
      "text/plain": [
       "<IPython.core.display.HTML object>"
      ]
     },
     "metadata": {},
     "output_type": "display_data"
    },
    {
     "data": {
      "text/markdown": [
       "# Flux Comparison"
      ],
      "text/plain": [
       "<IPython.core.display.Markdown object>"
      ]
     },
     "metadata": {},
     "output_type": "display_data"
    },
    {
     "data": {
      "text/html": [
       "<div>\n",
       "<style>\n",
       "    .dataframe thead tr:only-child th {\n",
       "        text-align: right;\n",
       "    }\n",
       "\n",
       "    .dataframe thead th {\n",
       "        text-align: left;\n",
       "    }\n",
       "\n",
       "    .dataframe tbody tr th {\n",
       "        vertical-align: top;\n",
       "    }\n",
       "</style>\n",
       "<table border=\"1\" class=\"dataframe\">\n",
       "  <thead>\n",
       "    <tr style=\"text-align: right;\">\n",
       "      <th></th>\n",
       "      <th></th>\n",
       "      <th>flug</th>\n",
       "      <th>fldg</th>\n",
       "      <th>fnetg</th>\n",
       "    </tr>\n",
       "    <tr>\n",
       "      <th>pressure</th>\n",
       "      <th>level</th>\n",
       "      <th></th>\n",
       "      <th></th>\n",
       "      <th></th>\n",
       "    </tr>\n",
       "  </thead>\n",
       "  <tbody>\n",
       "    <tr>\n",
       "      <th>0.0000</th>\n",
       "      <th>1</th>\n",
       "      <td>-23.024992</td>\n",
       "      <td>0.000000</td>\n",
       "      <td>-23.024992</td>\n",
       "    </tr>\n",
       "    <tr>\n",
       "      <th>1.0685</th>\n",
       "      <th>24</th>\n",
       "      <td>-23.023513</td>\n",
       "      <td>0.004420</td>\n",
       "      <td>-23.019094</td>\n",
       "    </tr>\n",
       "    <tr>\n",
       "      <th>1013.0000</th>\n",
       "      <th>76</th>\n",
       "      <td>-23.591138</td>\n",
       "      <td>1.960934</td>\n",
       "      <td>-21.630204</td>\n",
       "    </tr>\n",
       "  </tbody>\n",
       "</table>\n",
       "</div>"
      ],
      "text/plain": [
       "                      flug      fldg      fnetg\n",
       "pressure  level                                \n",
       "0.0000    1     -23.024992  0.000000 -23.024992\n",
       "1.0685    24    -23.023513  0.004420 -23.019094\n",
       "1013.0000 76    -23.591138  1.960934 -21.630204"
      ]
     },
     "metadata": {},
     "output_type": "display_data"
    },
    {
     "name": "stdout",
     "output_type": "stream",
     "text": [
      "Table. Fluxes. WGT igg=10 wgt_flux=1\n"
     ]
    },
    {
     "data": {
      "text/html": [
       "<div>\n",
       "<style>\n",
       "    .dataframe thead tr:only-child th {\n",
       "        text-align: right;\n",
       "    }\n",
       "\n",
       "    .dataframe thead th {\n",
       "        text-align: left;\n",
       "    }\n",
       "\n",
       "    .dataframe tbody tr th {\n",
       "        vertical-align: top;\n",
       "    }\n",
       "</style>\n",
       "<table border=\"1\" class=\"dataframe\">\n",
       "  <thead>\n",
       "    <tr style=\"text-align: right;\">\n",
       "      <th></th>\n",
       "      <th></th>\n",
       "      <th>flug</th>\n",
       "      <th>fldg</th>\n",
       "      <th>fnetg</th>\n",
       "    </tr>\n",
       "    <tr>\n",
       "      <th>pressure</th>\n",
       "      <th>level</th>\n",
       "      <th></th>\n",
       "      <th></th>\n",
       "      <th></th>\n",
       "    </tr>\n",
       "  </thead>\n",
       "  <tbody>\n",
       "    <tr>\n",
       "      <th>0.0000</th>\n",
       "      <th>1</th>\n",
       "      <td>-23.029560</td>\n",
       "      <td>0.000000</td>\n",
       "      <td>-23.029560</td>\n",
       "    </tr>\n",
       "    <tr>\n",
       "      <th>1.0685</th>\n",
       "      <th>24</th>\n",
       "      <td>-23.028184</td>\n",
       "      <td>0.004588</td>\n",
       "      <td>-23.023596</td>\n",
       "    </tr>\n",
       "    <tr>\n",
       "      <th>1013.0000</th>\n",
       "      <th>76</th>\n",
       "      <td>-23.591138</td>\n",
       "      <td>1.871264</td>\n",
       "      <td>-21.719873</td>\n",
       "    </tr>\n",
       "  </tbody>\n",
       "</table>\n",
       "</div>"
      ],
      "text/plain": [
       "                      flug      fldg      fnetg\n",
       "pressure  level                                \n",
       "0.0000    1     -23.029560  0.000000 -23.029560\n",
       "1.0685    24    -23.028184  0.004588 -23.023596\n",
       "1013.0000 76    -23.591138  1.871264 -21.719873"
      ]
     },
     "metadata": {},
     "output_type": "display_data"
    },
    {
     "name": "stdout",
     "output_type": "stream",
     "text": [
      "Table. Fluxes. CRD\n"
     ]
    },
    {
     "data": {
      "text/html": [
       "<div>\n",
       "<style>\n",
       "    .dataframe thead tr:only-child th {\n",
       "        text-align: right;\n",
       "    }\n",
       "\n",
       "    .dataframe thead th {\n",
       "        text-align: left;\n",
       "    }\n",
       "\n",
       "    .dataframe tbody tr th {\n",
       "        vertical-align: top;\n",
       "    }\n",
       "</style>\n",
       "<table border=\"1\" class=\"dataframe\">\n",
       "  <thead>\n",
       "    <tr style=\"text-align: right;\">\n",
       "      <th></th>\n",
       "      <th></th>\n",
       "      <th>flug</th>\n",
       "      <th>fldg</th>\n",
       "      <th>fnetg</th>\n",
       "    </tr>\n",
       "    <tr>\n",
       "      <th>pressure</th>\n",
       "      <th>level</th>\n",
       "      <th></th>\n",
       "      <th></th>\n",
       "      <th></th>\n",
       "    </tr>\n",
       "  </thead>\n",
       "  <tbody>\n",
       "    <tr>\n",
       "      <th>1.000000e-08</th>\n",
       "      <th>1</th>\n",
       "      <td>-23.041056</td>\n",
       "      <td>0.000003</td>\n",
       "      <td>-23.041054</td>\n",
       "    </tr>\n",
       "    <tr>\n",
       "      <th>1.068500e+00</th>\n",
       "      <th>24</th>\n",
       "      <td>-23.039728</td>\n",
       "      <td>0.004024</td>\n",
       "      <td>-23.035704</td>\n",
       "    </tr>\n",
       "    <tr>\n",
       "      <th>1.013000e+03</th>\n",
       "      <th>76</th>\n",
       "      <td>-23.591141</td>\n",
       "      <td>1.907720</td>\n",
       "      <td>-21.683420</td>\n",
       "    </tr>\n",
       "  </tbody>\n",
       "</table>\n",
       "</div>"
      ],
      "text/plain": [
       "                         flug      fldg      fnetg\n",
       "pressure     level                                \n",
       "1.000000e-08 1     -23.041056  0.000003 -23.041054\n",
       "1.068500e+00 24    -23.039728  0.004024 -23.035704\n",
       "1.013000e+03 76    -23.591141  1.907720 -21.683420"
      ]
     },
     "metadata": {},
     "output_type": "display_data"
    },
    {
     "name": "stdout",
     "output_type": "stream",
     "text": [
      "Table. Fluxes. CLIRAD\n"
     ]
    },
    {
     "data": {
      "text/html": [
       "<div>\n",
       "<style>\n",
       "    .dataframe thead tr:only-child th {\n",
       "        text-align: right;\n",
       "    }\n",
       "\n",
       "    .dataframe thead th {\n",
       "        text-align: left;\n",
       "    }\n",
       "\n",
       "    .dataframe tbody tr th {\n",
       "        vertical-align: top;\n",
       "    }\n",
       "</style>\n",
       "<table border=\"1\" class=\"dataframe\">\n",
       "  <thead>\n",
       "    <tr style=\"text-align: right;\">\n",
       "      <th></th>\n",
       "      <th></th>\n",
       "      <th>flug</th>\n",
       "      <th>fldg</th>\n",
       "      <th>fnetg</th>\n",
       "    </tr>\n",
       "    <tr>\n",
       "      <th>pressure</th>\n",
       "      <th>level</th>\n",
       "      <th></th>\n",
       "      <th></th>\n",
       "      <th></th>\n",
       "    </tr>\n",
       "  </thead>\n",
       "  <tbody>\n",
       "    <tr>\n",
       "      <th>0.0000</th>\n",
       "      <th>1</th>\n",
       "      <td>-4.568470e-03</td>\n",
       "      <td>0.000000</td>\n",
       "      <td>-0.004568</td>\n",
       "    </tr>\n",
       "    <tr>\n",
       "      <th>1.0685</th>\n",
       "      <th>24</th>\n",
       "      <td>-4.670670e-03</td>\n",
       "      <td>0.000168</td>\n",
       "      <td>-0.004502</td>\n",
       "    </tr>\n",
       "    <tr>\n",
       "      <th>1013.0000</th>\n",
       "      <th>76</th>\n",
       "      <td>-3.400000e-07</td>\n",
       "      <td>-0.089670</td>\n",
       "      <td>-0.089669</td>\n",
       "    </tr>\n",
       "  </tbody>\n",
       "</table>\n",
       "</div>"
      ],
      "text/plain": [
       "                         flug      fldg     fnetg\n",
       "pressure  level                                  \n",
       "0.0000    1     -4.568470e-03  0.000000 -0.004568\n",
       "1.0685    24    -4.670670e-03  0.000168 -0.004502\n",
       "1013.0000 76    -3.400000e-07 -0.089670 -0.089669"
      ]
     },
     "metadata": {},
     "output_type": "display_data"
    },
    {
     "name": "stdout",
     "output_type": "stream",
     "text": [
      "Table. Fluxes. (CRD) - (WGT igg=10 wgt_flux=1)\n"
     ]
    },
    {
     "data": {
      "text/html": [
       "<div>\n",
       "<style>\n",
       "    .dataframe thead tr:only-child th {\n",
       "        text-align: right;\n",
       "    }\n",
       "\n",
       "    .dataframe thead th {\n",
       "        text-align: left;\n",
       "    }\n",
       "\n",
       "    .dataframe tbody tr th {\n",
       "        vertical-align: top;\n",
       "    }\n",
       "</style>\n",
       "<table border=\"1\" class=\"dataframe\">\n",
       "  <thead>\n",
       "    <tr style=\"text-align: right;\">\n",
       "      <th></th>\n",
       "      <th></th>\n",
       "      <th>flug</th>\n",
       "      <th>fldg</th>\n",
       "      <th>fnetg</th>\n",
       "    </tr>\n",
       "    <tr>\n",
       "      <th>pressure</th>\n",
       "      <th>level</th>\n",
       "      <th></th>\n",
       "      <th></th>\n",
       "      <th></th>\n",
       "    </tr>\n",
       "  </thead>\n",
       "  <tbody>\n",
       "    <tr>\n",
       "      <th>0.0000</th>\n",
       "      <th>1</th>\n",
       "      <td>-0.016064</td>\n",
       "      <td>0.000003</td>\n",
       "      <td>-0.016062</td>\n",
       "    </tr>\n",
       "    <tr>\n",
       "      <th>1.0685</th>\n",
       "      <th>24</th>\n",
       "      <td>-0.016215</td>\n",
       "      <td>-0.000396</td>\n",
       "      <td>-0.016610</td>\n",
       "    </tr>\n",
       "    <tr>\n",
       "      <th>1013.0000</th>\n",
       "      <th>76</th>\n",
       "      <td>-0.000003</td>\n",
       "      <td>-0.053214</td>\n",
       "      <td>-0.053216</td>\n",
       "    </tr>\n",
       "  </tbody>\n",
       "</table>\n",
       "</div>"
      ],
      "text/plain": [
       "                     flug      fldg     fnetg\n",
       "pressure  level                              \n",
       "0.0000    1     -0.016064  0.000003 -0.016062\n",
       "1.0685    24    -0.016215 -0.000396 -0.016610\n",
       "1013.0000 76    -0.000003 -0.053214 -0.053216"
      ]
     },
     "metadata": {},
     "output_type": "display_data"
    },
    {
     "name": "stdout",
     "output_type": "stream",
     "text": [
      "Table. Fluxes. (CLIRAD) - (WGT igg=10 wgt_flux=1)\n"
     ]
    },
    {
     "data": {
      "text/html": [
       "<a id=\"Best-fit_Parameters\"></a>"
      ],
      "text/plain": [
       "<IPython.core.display.HTML object>"
      ]
     },
     "metadata": {},
     "output_type": "display_data"
    },
    {
     "data": {
      "text/markdown": [
       "# Best-fit Parameters"
      ],
      "text/plain": [
       "<IPython.core.display.Markdown object>"
      ]
     },
     "metadata": {},
     "output_type": "display_data"
    },
    {
     "name": "stdout",
     "output_type": "stream",
     "text": [
      "Best-fit values for each (gas, band)\n",
      "------------------------------------\n",
      "o n2o band3a\n",
      "  atmpro = mls\n",
      "  band = 3a\n",
      "  commitnumber = 2bd1f75\n",
      "  conc = 3.2e-07\n",
      "  dv = 0.01\n",
      "  klin = 2.22e-20\n",
      "  molecule = n2o\n",
      "  ng_adju = [0, 0]\n",
      "  ng_refs = [1, 2]\n",
      "  nv = 100\n",
      "  option_compute_btable = 0\n",
      "  option_compute_ktable = 1\n",
      "  option_wgt_flux = 1\n",
      "  option_wgt_k = 1\n",
      "  ref_pts = [(1, 250), (500, 250)]\n",
      "  tsfc = 294\n",
      "  vmax = 620\n",
      "  vmin = 540\n",
      "  w_diffuse = [(1.8,), (1.66, 1.8)]\n",
      "  wgt = [(0.9,), (0.5, 0.95)]\n"
     ]
    }
   ],
   "source": [
    "script()"
   ]
  },
  {
   "cell_type": "code",
   "execution_count": 13,
   "metadata": {
    "collapsed": true
   },
   "outputs": [
    {
     "data": {
      "text/html": [
       "<script>\n",
       "code_show=true; \n",
       "function code_toggle() {\n",
       " if (code_show){\n",
       " $('div.input').hide();\n",
       " } else {\n",
       " $('div.input').show();\n",
       " }\n",
       " code_show = !code_show\n",
       "} \n",
       "$( document ).ready(code_toggle);\n",
       "</script>\n",
       "<form action=\"javascript:code_toggle()\"><input type=\"submit\" value=\"Click here to toggle on/off the raw code.\"></form>"
      ],
      "text/plain": [
       "<IPython.core.display.HTML object>"
      ]
     },
     "execution_count": 13,
     "metadata": {},
     "output_type": "execute_result"
    }
   ],
   "source": [
    "display.HTML('''<script>\n",
    "code_show=true; \n",
    "function code_toggle() {\n",
    " if (code_show){\n",
    " $('div.input').hide();\n",
    " } else {\n",
    " $('div.input').show();\n",
    " }\n",
    " code_show = !code_show\n",
    "} \n",
    "$( document ).ready(code_toggle);\n",
    "</script>\n",
    "<form action=\"javascript:code_toggle()\"><input type=\"submit\" value=\"Click here to toggle on/off the raw code.\"></form>''')"
   ]
  }
 ],
 "metadata": {
  "kernelspec": {
   "display_name": "Python 3",
   "language": "python",
   "name": "python3"
  },
  "language_info": {
   "codemirror_mode": {
    "name": "ipython",
    "version": 3
   },
   "file_extension": ".py",
   "mimetype": "text/x-python",
   "name": "python",
   "nbconvert_exporter": "python",
   "pygments_lexer": "ipython3",
   "version": "3.6.1"
  }
 },
 "nbformat": 4,
 "nbformat_minor": 2
}
