{
 "cells": [
  {
   "cell_type": "code",
   "execution_count": 1,
   "metadata": {
    "collapsed": true
   },
   "outputs": [],
   "source": [
    "%matplotlib inline\n",
    "import os\n",
    "import re\n",
    "import io\n",
    "import itertools\n",
    "import pprint\n",
    "\n",
    "from bokeh.io import output_notebook, show\n",
    "from bokeh.layouts import gridplot\n",
    "from bokeh.plotting import figure\n",
    "from bokeh.models import Range1d, Legend\n",
    "from bokeh.palettes import all_palettes\n",
    "\n",
    "import matplotlib\n",
    "import matplotlib.pyplot as plt\n",
    "import numpy as np\n",
    "import pandas as pd\n",
    "import xarray as xr\n",
    "\n",
    "import climatools.lblnew.bestfit_params as bestfits\n",
    "from climatools.lblnew import setup_bestfit, setup_overlap\n",
    "import climatools.lblnew.pipeline as pipe_lblnew\n",
    "import climatools.cliradlw.setup as setup_cliradlw\n",
    "import climatools.cliradlw.pipeline as pipe_cliradlw\n",
    "\n",
    "import climatools.html.html as climahtml\n",
    "from climatools.lblnew.dataio import *\n",
    "from climatools.plot.plot import *\n",
    "\n",
    "\n",
    "import IPython.display as display"
   ]
  },
  {
   "cell_type": "code",
   "execution_count": 2,
   "metadata": {
    "collapsed": true
   },
   "outputs": [],
   "source": [
    "%run param.py"
   ]
  },
  {
   "cell_type": "code",
   "execution_count": 3,
   "metadata": {
    "collapsed": true
   },
   "outputs": [],
   "source": [
    "def load_output_file(path_csv):\n",
    "    '''\n",
    "    Load lblnew output .csv file to xarray.Dataset\n",
    "    \n",
    "    Parameters\n",
    "    ----------\n",
    "    path_csv: str\n",
    "              Path to the .csv file to be loaded.\n",
    "    ds: xarray.Dataset\n",
    "        Data in the input file in the form of an xarray.Dataset.\n",
    "    '''\n",
    "    toindex = ['band', 'pressure', 'igg', 'g']    \n",
    "    df = pd.read_csv(path_csv, sep=r'\\s+')\n",
    "    df = df.set_index([i for i in toindex if i in df.columns])\n",
    "    df = df.rename(columns={'sfu': 'flug',\n",
    "                            'sfd': 'fldg',\n",
    "                            'fnet': 'fnetg',\n",
    "                            'coolr': 'coolrg'})\n",
    "    ds = xr.Dataset.from_dataframe(df)\n",
    "\n",
    "    for l in ('level', 'layer'):\n",
    "        if l in ds.data_vars:\n",
    "            if len(ds[l].dims) > 1:\n",
    "                surface = {d: 0 for d in ds.dims if d != 'pressure'}\n",
    "                coord_level = ds[l][surface]\n",
    "                ds.coords[l] = ('pressure', coord_level)\n",
    "            else:\n",
    "                ds.coords[l] = ('pressure', ds[l])\n",
    "    \n",
    "    return ds"
   ]
  },
  {
   "cell_type": "code",
   "execution_count": 4,
   "metadata": {
    "collapsed": true
   },
   "outputs": [],
   "source": [
    "def lblnew_setup(param=None):\n",
    "    if 'ng_refs' in param:\n",
    "        return {'setup': setup_bestfit,\n",
    "                'fname_flux_crd': 'output_flux.dat',\n",
    "                'fname_cool_crd': 'output_coolr.dat',\n",
    "                'fname_flux_wgt': 'output_wfluxg.dat',\n",
    "                'fname_cool_wgt': 'output_wcoolrg.dat'}\n",
    "    else:\n",
    "        return {'setup': setup_overlap,\n",
    "                'fname_flux_crd': 'output_flux.dat',\n",
    "                'fname_cool_crd': 'output_coolr.dat',\n",
    "                'fname_flux_wgt': 'output_wflux.dat',\n",
    "                'fname_cool_wgt': 'output_wcoolr.dat'}\n",
    "\n",
    "    \n",
    "def load_lblnew_data(param):\n",
    "    \n",
    "    fname_dsname = [('fname_flux_crd', 'ds_flux_crd'),\n",
    "                    ('fname_cool_crd', 'ds_cool_crd'),\n",
    "                    ('fname_flux_wgt', 'ds_flux_wgt'),\n",
    "                    ('fname_cool_wgt', 'ds_cool_wgt')]\n",
    "    \n",
    "    d = lblnew_setup(param)\n",
    "    dir_fortran = pipe_lblnew.get_dir_case(param, setup=d['setup'])\n",
    "    \n",
    "    data_dict = {}\n",
    "    for fname, dsname in fname_dsname:\n",
    "        fpath = os.path.join(dir_fortran, d[fname])\n",
    "        data_dict[dsname] = load_output_file(fpath)\n",
    "    return data_dict\n",
    "    \n",
    "\n",
    "    \n",
    "    "
   ]
  },
  {
   "cell_type": "code",
   "execution_count": 5,
   "metadata": {
    "collapsed": true
   },
   "outputs": [],
   "source": [
    "d = load_lblnew_data(PARAM_LBLNEW)\n",
    "\n",
    "DS_FLUX_CRD = d['ds_flux_crd']\n",
    "DS_COOL_CRD = d['ds_cool_crd']\n",
    "DS_FLUX_WGT = d['ds_flux_wgt']\n",
    "DS_COOL_WGT = d['ds_cool_wgt']"
   ]
  },
  {
   "cell_type": "code",
   "execution_count": 6,
   "metadata": {
    "collapsed": true
   },
   "outputs": [],
   "source": [
    "DIR_FORTRAN = pipe_cliradlw.get_fortran_dir(PARAM, \n",
    "                                            setup=setup_cliradlw)\n",
    "\n",
    "PATH_FLUX = os.path.join(DIR_FORTRAN, 'output_flux.dat')\n",
    "PATH_COOL = os.path.join(DIR_FORTRAN, 'output_coolr.dat')\n",
    "\n",
    "DS_FLUX = load_output_file(PATH_FLUX)\n",
    "DS_COOL = load_output_file(PATH_COOL)"
   ]
  },
  {
   "cell_type": "code",
   "execution_count": 7,
   "metadata": {
    "collapsed": true
   },
   "outputs": [
    {
     "data": {
      "text/html": [
       "\n",
       "    <div class=\"bk-root\">\n",
       "        <a href=\"https://bokeh.pydata.org\" target=\"_blank\" class=\"bk-logo bk-logo-small bk-logo-notebook\"></a>\n",
       "        <span id=\"161ee145-97cc-4cbe-a804-18c6b513592c\">Loading BokehJS ...</span>\n",
       "    </div>"
      ]
     },
     "metadata": {},
     "output_type": "display_data"
    },
    {
     "data": {
      "application/javascript": [
       "\n",
       "(function(root) {\n",
       "  function now() {\n",
       "    return new Date();\n",
       "  }\n",
       "\n",
       "  var force = true;\n",
       "\n",
       "  if (typeof (root._bokeh_onload_callbacks) === \"undefined\" || force === true) {\n",
       "    root._bokeh_onload_callbacks = [];\n",
       "    root._bokeh_is_loading = undefined;\n",
       "  }\n",
       "\n",
       "  var JS_MIME_TYPE = 'application/javascript';\n",
       "  var HTML_MIME_TYPE = 'text/html';\n",
       "  var EXEC_MIME_TYPE = 'application/vnd.bokehjs_exec.v0+json';\n",
       "  var CLASS_NAME = 'output_bokeh rendered_html';\n",
       "\n",
       "  /**\n",
       "   * Render data to the DOM node\n",
       "   */\n",
       "  function render(props, node) {\n",
       "    var script = document.createElement(\"script\");\n",
       "    node.appendChild(script);\n",
       "  }\n",
       "\n",
       "  /**\n",
       "   * Handle when an output is cleared or removed\n",
       "   */\n",
       "  function handleClearOutput(event, handle) {\n",
       "    var cell = handle.cell;\n",
       "\n",
       "    var id = cell.output_area._bokeh_element_id;\n",
       "    var server_id = cell.output_area._bokeh_server_id;\n",
       "    // Clean up Bokeh references\n",
       "    if (id !== undefined) {\n",
       "      Bokeh.index[id].model.document.clear();\n",
       "      delete Bokeh.index[id];\n",
       "    }\n",
       "\n",
       "    if (server_id !== undefined) {\n",
       "      // Clean up Bokeh references\n",
       "      var cmd = \"from bokeh.io.state import curstate; print(curstate().uuid_to_server['\" + server_id + \"'].get_sessions()[0].document.roots[0]._id)\";\n",
       "      cell.notebook.kernel.execute(cmd, {\n",
       "        iopub: {\n",
       "          output: function(msg) {\n",
       "            var element_id = msg.content.text.trim();\n",
       "            Bokeh.index[element_id].model.document.clear();\n",
       "            delete Bokeh.index[element_id];\n",
       "          }\n",
       "        }\n",
       "      });\n",
       "      // Destroy server and session\n",
       "      var cmd = \"import bokeh.io.notebook as ion; ion.destroy_server('\" + server_id + \"')\";\n",
       "      cell.notebook.kernel.execute(cmd);\n",
       "    }\n",
       "  }\n",
       "\n",
       "  /**\n",
       "   * Handle when a new output is added\n",
       "   */\n",
       "  function handleAddOutput(event, handle) {\n",
       "    var output_area = handle.output_area;\n",
       "    var output = handle.output;\n",
       "\n",
       "    // limit handleAddOutput to display_data with EXEC_MIME_TYPE content only\n",
       "    if ((output.output_type != \"display_data\") || (!output.data.hasOwnProperty(EXEC_MIME_TYPE))) {\n",
       "      return\n",
       "    }\n",
       "\n",
       "    var toinsert = output_area.element.find(\".\" + CLASS_NAME.split(' ')[0]);\n",
       "\n",
       "    if (output.metadata[EXEC_MIME_TYPE][\"id\"] !== undefined) {\n",
       "      toinsert[0].firstChild.textContent = output.data[JS_MIME_TYPE];\n",
       "      // store reference to embed id on output_area\n",
       "      output_area._bokeh_element_id = output.metadata[EXEC_MIME_TYPE][\"id\"];\n",
       "    }\n",
       "    if (output.metadata[EXEC_MIME_TYPE][\"server_id\"] !== undefined) {\n",
       "      var bk_div = document.createElement(\"div\");\n",
       "      bk_div.innerHTML = output.data[HTML_MIME_TYPE];\n",
       "      var script_attrs = bk_div.children[0].attributes;\n",
       "      for (var i = 0; i < script_attrs.length; i++) {\n",
       "        toinsert[0].firstChild.setAttribute(script_attrs[i].name, script_attrs[i].value);\n",
       "      }\n",
       "      // store reference to server id on output_area\n",
       "      output_area._bokeh_server_id = output.metadata[EXEC_MIME_TYPE][\"server_id\"];\n",
       "    }\n",
       "  }\n",
       "\n",
       "  function register_renderer(events, OutputArea) {\n",
       "\n",
       "    function append_mime(data, metadata, element) {\n",
       "      // create a DOM node to render to\n",
       "      var toinsert = this.create_output_subarea(\n",
       "        metadata,\n",
       "        CLASS_NAME,\n",
       "        EXEC_MIME_TYPE\n",
       "      );\n",
       "      this.keyboard_manager.register_events(toinsert);\n",
       "      // Render to node\n",
       "      var props = {data: data, metadata: metadata[EXEC_MIME_TYPE]};\n",
       "      render(props, toinsert[0]);\n",
       "      element.append(toinsert);\n",
       "      return toinsert\n",
       "    }\n",
       "\n",
       "    /* Handle when an output is cleared or removed */\n",
       "    events.on('clear_output.CodeCell', handleClearOutput);\n",
       "    events.on('delete.Cell', handleClearOutput);\n",
       "\n",
       "    /* Handle when a new output is added */\n",
       "    events.on('output_added.OutputArea', handleAddOutput);\n",
       "\n",
       "    /**\n",
       "     * Register the mime type and append_mime function with output_area\n",
       "     */\n",
       "    OutputArea.prototype.register_mime_type(EXEC_MIME_TYPE, append_mime, {\n",
       "      /* Is output safe? */\n",
       "      safe: true,\n",
       "      /* Index of renderer in `output_area.display_order` */\n",
       "      index: 0\n",
       "    });\n",
       "  }\n",
       "\n",
       "  // register the mime type if in Jupyter Notebook environment and previously unregistered\n",
       "  if (root.Jupyter !== undefined) {\n",
       "    var events = require('base/js/events');\n",
       "    var OutputArea = require('notebook/js/outputarea').OutputArea;\n",
       "\n",
       "    if (OutputArea.prototype.mime_types().indexOf(EXEC_MIME_TYPE) == -1) {\n",
       "      register_renderer(events, OutputArea);\n",
       "    }\n",
       "  }\n",
       "\n",
       "  \n",
       "  if (typeof (root._bokeh_timeout) === \"undefined\" || force === true) {\n",
       "    root._bokeh_timeout = Date.now() + 5000;\n",
       "    root._bokeh_failed_load = false;\n",
       "  }\n",
       "\n",
       "  var NB_LOAD_WARNING = {'data': {'text/html':\n",
       "     \"<div style='background-color: #fdd'>\\n\"+\n",
       "     \"<p>\\n\"+\n",
       "     \"BokehJS does not appear to have successfully loaded. If loading BokehJS from CDN, this \\n\"+\n",
       "     \"may be due to a slow or bad network connection. Possible fixes:\\n\"+\n",
       "     \"</p>\\n\"+\n",
       "     \"<ul>\\n\"+\n",
       "     \"<li>re-rerun `output_notebook()` to attempt to load from CDN again, or</li>\\n\"+\n",
       "     \"<li>use INLINE resources instead, as so:</li>\\n\"+\n",
       "     \"</ul>\\n\"+\n",
       "     \"<code>\\n\"+\n",
       "     \"from bokeh.resources import INLINE\\n\"+\n",
       "     \"output_notebook(resources=INLINE)\\n\"+\n",
       "     \"</code>\\n\"+\n",
       "     \"</div>\"}};\n",
       "\n",
       "  function display_loaded() {\n",
       "    var el = document.getElementById(\"161ee145-97cc-4cbe-a804-18c6b513592c\");\n",
       "    if (el != null) {\n",
       "      el.textContent = \"BokehJS is loading...\";\n",
       "    }\n",
       "    if (root.Bokeh !== undefined) {\n",
       "      if (el != null) {\n",
       "        el.textContent = \"BokehJS \" + root.Bokeh.version + \" successfully loaded.\";\n",
       "      }\n",
       "    } else if (Date.now() < root._bokeh_timeout) {\n",
       "      setTimeout(display_loaded, 100)\n",
       "    }\n",
       "  }\n",
       "\n",
       "\n",
       "  function run_callbacks() {\n",
       "    try {\n",
       "      root._bokeh_onload_callbacks.forEach(function(callback) { callback() });\n",
       "    }\n",
       "    finally {\n",
       "      delete root._bokeh_onload_callbacks\n",
       "    }\n",
       "    console.info(\"Bokeh: all callbacks have finished\");\n",
       "  }\n",
       "\n",
       "  function load_libs(js_urls, callback) {\n",
       "    root._bokeh_onload_callbacks.push(callback);\n",
       "    if (root._bokeh_is_loading > 0) {\n",
       "      console.log(\"Bokeh: BokehJS is being loaded, scheduling callback at\", now());\n",
       "      return null;\n",
       "    }\n",
       "    if (js_urls == null || js_urls.length === 0) {\n",
       "      run_callbacks();\n",
       "      return null;\n",
       "    }\n",
       "    console.log(\"Bokeh: BokehJS not loaded, scheduling load and callback at\", now());\n",
       "    root._bokeh_is_loading = js_urls.length;\n",
       "    for (var i = 0; i < js_urls.length; i++) {\n",
       "      var url = js_urls[i];\n",
       "      var s = document.createElement('script');\n",
       "      s.src = url;\n",
       "      s.async = false;\n",
       "      s.onreadystatechange = s.onload = function() {\n",
       "        root._bokeh_is_loading--;\n",
       "        if (root._bokeh_is_loading === 0) {\n",
       "          console.log(\"Bokeh: all BokehJS libraries loaded\");\n",
       "          run_callbacks()\n",
       "        }\n",
       "      };\n",
       "      s.onerror = function() {\n",
       "        console.warn(\"failed to load library \" + url);\n",
       "      };\n",
       "      console.log(\"Bokeh: injecting script tag for BokehJS library: \", url);\n",
       "      document.getElementsByTagName(\"head\")[0].appendChild(s);\n",
       "    }\n",
       "  };var element = document.getElementById(\"161ee145-97cc-4cbe-a804-18c6b513592c\");\n",
       "  if (element == null) {\n",
       "    console.log(\"Bokeh: ERROR: autoload.js configured with elementid '161ee145-97cc-4cbe-a804-18c6b513592c' but no matching script tag was found. \")\n",
       "    return false;\n",
       "  }\n",
       "\n",
       "  var js_urls = [\"https://cdn.pydata.org/bokeh/release/bokeh-0.12.14.min.js\", \"https://cdn.pydata.org/bokeh/release/bokeh-widgets-0.12.14.min.js\", \"https://cdn.pydata.org/bokeh/release/bokeh-tables-0.12.14.min.js\", \"https://cdn.pydata.org/bokeh/release/bokeh-gl-0.12.14.min.js\"];\n",
       "\n",
       "  var inline_js = [\n",
       "    function(Bokeh) {\n",
       "      Bokeh.set_log_level(\"info\");\n",
       "    },\n",
       "    \n",
       "    function(Bokeh) {\n",
       "      \n",
       "    },\n",
       "    function(Bokeh) {\n",
       "      console.log(\"Bokeh: injecting CSS: https://cdn.pydata.org/bokeh/release/bokeh-0.12.14.min.css\");\n",
       "      Bokeh.embed.inject_css(\"https://cdn.pydata.org/bokeh/release/bokeh-0.12.14.min.css\");\n",
       "      console.log(\"Bokeh: injecting CSS: https://cdn.pydata.org/bokeh/release/bokeh-widgets-0.12.14.min.css\");\n",
       "      Bokeh.embed.inject_css(\"https://cdn.pydata.org/bokeh/release/bokeh-widgets-0.12.14.min.css\");\n",
       "      console.log(\"Bokeh: injecting CSS: https://cdn.pydata.org/bokeh/release/bokeh-tables-0.12.14.min.css\");\n",
       "      Bokeh.embed.inject_css(\"https://cdn.pydata.org/bokeh/release/bokeh-tables-0.12.14.min.css\");\n",
       "    }\n",
       "  ];\n",
       "\n",
       "  function run_inline_js() {\n",
       "    \n",
       "    if ((root.Bokeh !== undefined) || (force === true)) {\n",
       "      for (var i = 0; i < inline_js.length; i++) {\n",
       "        inline_js[i].call(root, root.Bokeh);\n",
       "      }if (force === true) {\n",
       "        display_loaded();\n",
       "      }} else if (Date.now() < root._bokeh_timeout) {\n",
       "      setTimeout(run_inline_js, 100);\n",
       "    } else if (!root._bokeh_failed_load) {\n",
       "      console.log(\"Bokeh: BokehJS failed to load within specified timeout.\");\n",
       "      root._bokeh_failed_load = true;\n",
       "    } else if (force !== true) {\n",
       "      var cell = $(document.getElementById(\"161ee145-97cc-4cbe-a804-18c6b513592c\")).parents('.cell').data().cell;\n",
       "      cell.output_area.append_execute_result(NB_LOAD_WARNING)\n",
       "    }\n",
       "\n",
       "  }\n",
       "\n",
       "  if (root._bokeh_is_loading === 0) {\n",
       "    console.log(\"Bokeh: BokehJS loaded, going straight to plotting\");\n",
       "    run_inline_js();\n",
       "  } else {\n",
       "    load_libs(js_urls, function() {\n",
       "      console.log(\"Bokeh: BokehJS plotting callback run at\", now());\n",
       "      run_inline_js();\n",
       "    });\n",
       "  }\n",
       "}(window));"
      ],
      "application/vnd.bokehjs_load.v0+json": "\n(function(root) {\n  function now() {\n    return new Date();\n  }\n\n  var force = true;\n\n  if (typeof (root._bokeh_onload_callbacks) === \"undefined\" || force === true) {\n    root._bokeh_onload_callbacks = [];\n    root._bokeh_is_loading = undefined;\n  }\n\n  \n\n  \n  if (typeof (root._bokeh_timeout) === \"undefined\" || force === true) {\n    root._bokeh_timeout = Date.now() + 5000;\n    root._bokeh_failed_load = false;\n  }\n\n  var NB_LOAD_WARNING = {'data': {'text/html':\n     \"<div style='background-color: #fdd'>\\n\"+\n     \"<p>\\n\"+\n     \"BokehJS does not appear to have successfully loaded. If loading BokehJS from CDN, this \\n\"+\n     \"may be due to a slow or bad network connection. Possible fixes:\\n\"+\n     \"</p>\\n\"+\n     \"<ul>\\n\"+\n     \"<li>re-rerun `output_notebook()` to attempt to load from CDN again, or</li>\\n\"+\n     \"<li>use INLINE resources instead, as so:</li>\\n\"+\n     \"</ul>\\n\"+\n     \"<code>\\n\"+\n     \"from bokeh.resources import INLINE\\n\"+\n     \"output_notebook(resources=INLINE)\\n\"+\n     \"</code>\\n\"+\n     \"</div>\"}};\n\n  function display_loaded() {\n    var el = document.getElementById(\"161ee145-97cc-4cbe-a804-18c6b513592c\");\n    if (el != null) {\n      el.textContent = \"BokehJS is loading...\";\n    }\n    if (root.Bokeh !== undefined) {\n      if (el != null) {\n        el.textContent = \"BokehJS \" + root.Bokeh.version + \" successfully loaded.\";\n      }\n    } else if (Date.now() < root._bokeh_timeout) {\n      setTimeout(display_loaded, 100)\n    }\n  }\n\n\n  function run_callbacks() {\n    try {\n      root._bokeh_onload_callbacks.forEach(function(callback) { callback() });\n    }\n    finally {\n      delete root._bokeh_onload_callbacks\n    }\n    console.info(\"Bokeh: all callbacks have finished\");\n  }\n\n  function load_libs(js_urls, callback) {\n    root._bokeh_onload_callbacks.push(callback);\n    if (root._bokeh_is_loading > 0) {\n      console.log(\"Bokeh: BokehJS is being loaded, scheduling callback at\", now());\n      return null;\n    }\n    if (js_urls == null || js_urls.length === 0) {\n      run_callbacks();\n      return null;\n    }\n    console.log(\"Bokeh: BokehJS not loaded, scheduling load and callback at\", now());\n    root._bokeh_is_loading = js_urls.length;\n    for (var i = 0; i < js_urls.length; i++) {\n      var url = js_urls[i];\n      var s = document.createElement('script');\n      s.src = url;\n      s.async = false;\n      s.onreadystatechange = s.onload = function() {\n        root._bokeh_is_loading--;\n        if (root._bokeh_is_loading === 0) {\n          console.log(\"Bokeh: all BokehJS libraries loaded\");\n          run_callbacks()\n        }\n      };\n      s.onerror = function() {\n        console.warn(\"failed to load library \" + url);\n      };\n      console.log(\"Bokeh: injecting script tag for BokehJS library: \", url);\n      document.getElementsByTagName(\"head\")[0].appendChild(s);\n    }\n  };var element = document.getElementById(\"161ee145-97cc-4cbe-a804-18c6b513592c\");\n  if (element == null) {\n    console.log(\"Bokeh: ERROR: autoload.js configured with elementid '161ee145-97cc-4cbe-a804-18c6b513592c' but no matching script tag was found. \")\n    return false;\n  }\n\n  var js_urls = [\"https://cdn.pydata.org/bokeh/release/bokeh-0.12.14.min.js\", \"https://cdn.pydata.org/bokeh/release/bokeh-widgets-0.12.14.min.js\", \"https://cdn.pydata.org/bokeh/release/bokeh-tables-0.12.14.min.js\", \"https://cdn.pydata.org/bokeh/release/bokeh-gl-0.12.14.min.js\"];\n\n  var inline_js = [\n    function(Bokeh) {\n      Bokeh.set_log_level(\"info\");\n    },\n    \n    function(Bokeh) {\n      \n    },\n    function(Bokeh) {\n      console.log(\"Bokeh: injecting CSS: https://cdn.pydata.org/bokeh/release/bokeh-0.12.14.min.css\");\n      Bokeh.embed.inject_css(\"https://cdn.pydata.org/bokeh/release/bokeh-0.12.14.min.css\");\n      console.log(\"Bokeh: injecting CSS: https://cdn.pydata.org/bokeh/release/bokeh-widgets-0.12.14.min.css\");\n      Bokeh.embed.inject_css(\"https://cdn.pydata.org/bokeh/release/bokeh-widgets-0.12.14.min.css\");\n      console.log(\"Bokeh: injecting CSS: https://cdn.pydata.org/bokeh/release/bokeh-tables-0.12.14.min.css\");\n      Bokeh.embed.inject_css(\"https://cdn.pydata.org/bokeh/release/bokeh-tables-0.12.14.min.css\");\n    }\n  ];\n\n  function run_inline_js() {\n    \n    if ((root.Bokeh !== undefined) || (force === true)) {\n      for (var i = 0; i < inline_js.length; i++) {\n        inline_js[i].call(root, root.Bokeh);\n      }if (force === true) {\n        display_loaded();\n      }} else if (Date.now() < root._bokeh_timeout) {\n      setTimeout(run_inline_js, 100);\n    } else if (!root._bokeh_failed_load) {\n      console.log(\"Bokeh: BokehJS failed to load within specified timeout.\");\n      root._bokeh_failed_load = true;\n    } else if (force !== true) {\n      var cell = $(document.getElementById(\"161ee145-97cc-4cbe-a804-18c6b513592c\")).parents('.cell').data().cell;\n      cell.output_area.append_execute_result(NB_LOAD_WARNING)\n    }\n\n  }\n\n  if (root._bokeh_is_loading === 0) {\n    console.log(\"Bokeh: BokehJS loaded, going straight to plotting\");\n    run_inline_js();\n  } else {\n    load_libs(js_urls, function() {\n      console.log(\"Bokeh: BokehJS plotting callback run at\", now());\n      run_inline_js();\n    });\n  }\n}(window));"
     },
     "metadata": {},
     "output_type": "display_data"
    }
   ],
   "source": [
    "output_notebook()"
   ]
  },
  {
   "cell_type": "code",
   "execution_count": 8,
   "metadata": {
    "collapsed": true
   },
   "outputs": [],
   "source": [
    "def fmt_cool(ds_in):\n",
    "    ds = ds_in.copy(deep=True)\n",
    "    if 'igg' in ds.dims:\n",
    "        ds = ds.sel(igg=1)\n",
    "\n",
    "    if 'g' in ds.dims:\n",
    "        ds = ds.sum('g')\n",
    "            \n",
    "    if 'band' in ds.dims:\n",
    "        try:\n",
    "            ds = ds.squeeze('band')\n",
    "        except ValueError:\n",
    "            ds = ds.sum('band')\n",
    "                \n",
    "    return ds['coolrg']\n",
    "\n",
    "\n",
    "def pltdata_cooling_1(ds_cool=None,\n",
    "                      ds_cool_crd=None, ds_cool_wgt=None):\n",
    "    \n",
    "\n",
    "\n",
    "    colors = all_palettes['Set1'][4]\n",
    "    data = [{'label': 'CLIRAD `coolr_bands`',\n",
    "             'srs': fmt_cool(ds_cool),\n",
    "             'line_dash': 'dashed', 'line_width': 5,\n",
    "             'color': colors[0], 'alpha': .6},\n",
    "            {'label': 'CRD',\n",
    "             'srs': fmt_cool(ds_cool_crd),\n",
    "             'line_dash': 'solid', 'line_width': 1.5,\n",
    "             'marker': 'circle', 'marker_size': 5,\n",
    "             'color': colors[2], 'alpha': 1,},\n",
    "            {'label': 'WGT igg=10 wgt_flux=2',\n",
    "             'srs': fmt_cool(ds_cool_wgt),\n",
    "             'line_dash': 'solid', 'line_width': 3,\n",
    "             'marker': 'square', 'marker_size': 5,\n",
    "             'color': colors[3], 'alpha': .6}]\n",
    "    return data\n",
    "\n",
    "\n",
    "def nice_xlims(pltdata=None, prange=None):\n",
    "    \n",
    "    def get_slice(srs):\n",
    "        return srs.sel(pressure=slice(*prange))\n",
    "    \n",
    "    srss = [d['srs'] for d in pltdata]\n",
    "    vmin = min([get_slice(srs).min() for srs in srss])\n",
    "    vmax = max([get_slice(srs).max() for srs in srss])\n",
    "    dv = (vmax - vmin) * .01\n",
    "    return float(vmin - dv), float(vmax + dv)\n",
    "    \n",
    "\n",
    "def plt_cooling_bokeh(pltdata=None):\n",
    "    '''\n",
    "    Plot a list of cooling rate profiles using bokeh.\n",
    "    '''\n",
    "    ymin = 1e-2 \n",
    "    ymax = 1020 \n",
    "        \n",
    "    p1 = figure(title=\"Linear pressure scale\", \n",
    "                plot_width=400)        \n",
    "    xmin, xmax = nice_xlims(pltdata, prange=(50, 1050))\n",
    "    for d in pltdata:\n",
    "        if 'marker' in d:\n",
    "            getattr(p1, d['marker'])(d['srs'].values, \n",
    "                    d['srs'].coords['pressure'].values,\n",
    "                    color=d['color'], alpha=.7)\n",
    "        p1.line(d['srs'].values, \n",
    "                d['srs'].coords['pressure'].values,\n",
    "                color=d['color'], alpha=d['alpha'], \n",
    "                line_width=d['line_width'], line_dash=d['line_dash'])\n",
    "    \n",
    "    p1.y_range = Range1d(ymax, ymin)\n",
    "    p1.yaxis.axis_label = 'pressure [mb]'   \n",
    "    p1.x_range = Range1d(xmin, xmax)\n",
    "    p1.xaxis.axis_label = 'cooling rate [K/day]'\n",
    "            \n",
    "    p2 = figure(title='Log pressure scale', y_axis_type='log',\n",
    "                plot_width=560)\n",
    "    xmin, xmax = nice_xlims(pltdata, prange=(.01, 200))\n",
    "    \n",
    "    rs = []\n",
    "    for d in pltdata:\n",
    "        rd = []\n",
    "        if 'marker' in d:\n",
    "            r_mark = getattr(p2, d['marker'])(d['srs'].values, \n",
    "                        d['srs'].coords['pressure'].values,\n",
    "                        color=d['color'], alpha=.7)\n",
    "            rd.append(r_mark)\n",
    "        r_line = p2.line(d['srs'].values, \n",
    "                    d['srs'].coords['pressure'].values,\n",
    "                    color=d['color'], alpha=d['alpha'], \n",
    "                    line_width=d['line_width'], line_dash=d['line_dash'])\n",
    "        rd.append(r_line)\n",
    "      \n",
    "        rs.append(rd)\n",
    "        \n",
    "    p2.y_range = Range1d(ymax, ymin)  \n",
    "    p2.yaxis.axis_label = 'pressure [mb]'\n",
    "    \n",
    "    p2.x_range = Range1d(xmin, xmax)\n",
    "    p2.xaxis.axis_label = 'cooling rate [K/day]'\n",
    "    \n",
    "    items = [(d['label'], r) for r, d in zip(rs, pltdata)]\n",
    "    legend = Legend(items=items, location=(10, -30))\n",
    "    legend.label_text_font_size = '8pt'\n",
    "    \n",
    "    p2.add_layout(legend, 'right')  \n",
    "    \n",
    "    show(gridplot(p1, p2, ncols=2, plot_height=500))\n",
    "    \n",
    "\n",
    "def script_plt_cooling():\n",
    "    pltdata = pltdata_cooling_1(\n",
    "        ds_cool=DS_COOL,\n",
    "        ds_cool_crd=DS_COOL_CRD,\n",
    "        ds_cool_wgt=DS_COOL_WGT)\n",
    "    plt_cooling_bokeh(pltdata=pltdata)\n",
    "    print('''FIGURE. Cooling rate profiles.''')"
   ]
  },
  {
   "cell_type": "code",
   "execution_count": 9,
   "metadata": {
    "collapsed": true
   },
   "outputs": [],
   "source": [
    "def fmt_flux(ds_in):\n",
    "    ds = ds_in.copy(deep=True)\n",
    "    \n",
    "    for l in ('level', 'layer'):\n",
    "        if l in ds.data_vars:\n",
    "            if len(ds[l].dims) > 1:\n",
    "                surface = {d: 0 for d in ds.dims if d != 'pressure'}\n",
    "                coord_level = ds[l][surface]\n",
    "                ds.coords[l] = ('pressure', coord_level)\n",
    "            else:\n",
    "                ds.coords[l] = ('pressure', ds[l])\n",
    "        \n",
    "    ds = ds.isel(pressure=[0, 23, -1])\n",
    "        \n",
    "    if 'igg' in ds.dims:\n",
    "        ds = ds.sel(igg=[1])\n",
    "        ds = ds.squeeze('igg').drop('igg')\n",
    "    \n",
    "    if 'g' in ds.dims:\n",
    "        ds = ds.sum('g')\n",
    "            \n",
    "    if 'band' in ds.dims:\n",
    "        try:\n",
    "            ds = ds.squeeze('band').drop('band')\n",
    "        except ValueError:\n",
    "            ds = ds.sum('band')\n",
    "                \n",
    "    df = ds.to_dataframe()\n",
    "    df = df.set_index('level', append=True)               \n",
    "    return df\n",
    "\n",
    "\n",
    "def tbdata_flux(ds_flux=None, ds_flux_crd=None, ds_flux_wgt=None):\n",
    "    ilevels = [0, 23, -1]\n",
    "            \n",
    "    benchmark = {'label': 'WGT igg=10 wgt_flux=1',\n",
    "                 'df': fmt_flux(ds_flux_wgt)}\n",
    "    \n",
    "    tbs = [{'label': 'CRD',\n",
    "            'df': fmt_flux(ds_flux_crd)},\n",
    "           {'label': 'CLIRAD',\n",
    "            'df': fmt_flux(ds_flux)}]\n",
    "    \n",
    "    data = {'benchmark': benchmark, 'others': tbs}\n",
    "    return data\n",
    "\n",
    "\n",
    "def tb_flux(tbdata=None):\n",
    "    benchmark = tbdata['benchmark']\n",
    "    others = tbdata['others']\n",
    "    \n",
    "    def show_tb(d=None):\n",
    "        display.display(d['df'])\n",
    "        print('Table.', 'Fluxes.', d['label'])\n",
    "        \n",
    "    def show_tbdiff(d0=None, d=None):\n",
    "        df = d['df']\n",
    "        df.index = d0['df'].index\n",
    "        display.display(df - d0['df'])\n",
    "        print('Table.', 'Fluxes.', \n",
    "              '({}) - ({})'.format(d['label'], d0['label']))\n",
    "        \n",
    "    show_tb(benchmark)\n",
    "    for d in others:\n",
    "        show_tb(d)\n",
    "        \n",
    "    for d in others:\n",
    "        show_tbdiff(d=d, d0=benchmark)\n",
    "        \n",
    "        \n",
    "def script_tb_flux():\n",
    "    data = tbdata_flux(ds_flux=DS_FLUX,\n",
    "                       ds_flux_crd=DS_FLUX_CRD,\n",
    "                       ds_flux_wgt=DS_FLUX_WGT)\n",
    "    tb_flux(tbdata=data)"
   ]
  },
  {
   "cell_type": "code",
   "execution_count": 10,
   "metadata": {
    "collapsed": true
   },
   "outputs": [],
   "source": [
    "def band_map():\n",
    "    '''\n",
    "    Maps spectral bands in lblnew to spectral bands in clirad.\n",
    "    '''\n",
    "    lblnew2clirad = {'1': '1',\n",
    "            '2': '2',\n",
    "            '3a': '3',\n",
    "            '3b': '4',\n",
    "            '3c': '5',\n",
    "            '4': '6', \n",
    "            '5': '7',\n",
    "            '6': '8',\n",
    "            '7': '9', \n",
    "            '8': '10',\n",
    "            '9': '11'}\n",
    "    \n",
    "    clirad2lblnew = {clirad: lblnew \n",
    "                     for lblnew, clirad in lblnew2clirad.items()}\n",
    "    return clirad2lblnew\n",
    "\n",
    "\n",
    "def gasbands():\n",
    "    bmap = band_map()\n",
    "    gases = list(PARAM['molecule'].keys())\n",
    "    \n",
    "    bands = [bmap[str(b)] for b in PARAM['band']]\n",
    "    return list(itertools.product(gases, bands))\n",
    "\n",
    "\n",
    "def print_bestfit_params():\n",
    "    print('Best-fit values for each (gas, band)')\n",
    "    print('------------------------------------')\n",
    "    for gas, band in gasbands():\n",
    "        print('o {} band{}'.format(gas, band))\n",
    "        param = bestfits.kdist_params(molecule=gas, band=band)\n",
    "        for name, value in sorted(param.items()):\n",
    "            print(2 * ' ' + '{} = {}'.format(name, value))\n",
    "\n",
    "        \n",
    "def print_input_param():        \n",
    "    for name, value in PARAM.items():\n",
    "        print('{} = {}'.format(name, value))\n",
    "        \n",
    "        \n",
    "def print_lblnew_param():\n",
    "    for name, value in sorted(PARAM_LBLNEW.items()):\n",
    "        print('{} = {}'.format(name, value))\n"
   ]
  },
  {
   "cell_type": "code",
   "execution_count": 11,
   "metadata": {
    "collapsed": true,
    "scrolled": false
   },
   "outputs": [],
   "source": [
    "def show_html(s):\n",
    "    display.display(display.HTML(s))\n",
    "\n",
    "    \n",
    "def show_markdown(s):\n",
    "    display.display(display.Markdown(s))\n",
    "\n",
    "    \n",
    "def script():\n",
    "    \n",
    "    title = '### CLIRAD-LW'\n",
    "    s_input = 'Input Parameters'\n",
    "    s_lblnew_param = 'LBLNEW case compaired against'\n",
    "    s_bestfits = 'Best-fit Parameters'\n",
    "    s_plt_cooling = 'Cooling Rate Profiles'\n",
    "    s_tb_flux = 'Flux Comparison'\n",
    "    \n",
    "    # title\n",
    "    show_markdown('### CLIRAD-LW')\n",
    "    \n",
    "    # TOC\n",
    "    show_markdown('### Table of Contents')\n",
    "    show_html(climahtml.getHTML_hrefanchor(s_input))\n",
    "    show_html(climahtml.getHTML_hrefanchor(s_lblnew_param))\n",
    "    show_html(climahtml.getHTML_hrefanchor(s_plt_cooling))\n",
    "    show_html(climahtml.getHTML_hrefanchor(s_tb_flux))\n",
    "    show_html(climahtml.getHTML_hrefanchor(s_bestfits))\n",
    "    \n",
    "    # Input parameters\n",
    "    show_html(climahtml.getHTML_idanchor(s_input))\n",
    "    show_markdown(climahtml.getMarkdown_sectitle(s_input))\n",
    "    print_input_param()\n",
    "    \n",
    "    # LBLNEW parameters \n",
    "    show_html(climahtml.getHTML_idanchor(s_lblnew_param))\n",
    "    show_markdown(climahtml.getMarkdown_sectitle(s_lblnew_param))\n",
    "    print_lblnew_param()\n",
    "    \n",
    "    # Cooling rate profiles\n",
    "    show_html(climahtml.getHTML_idanchor(s_plt_cooling))\n",
    "    show_markdown(climahtml.getMarkdown_sectitle(s_plt_cooling))\n",
    "    script_plt_cooling()\n",
    "    \n",
    "    # Flux comparison\n",
    "    show_html(climahtml.getHTML_idanchor(s_tb_flux))\n",
    "    show_markdown(climahtml.getMarkdown_sectitle(s_tb_flux))\n",
    "    script_tb_flux()\n",
    "    \n",
    "    # Best-fit values\n",
    "    show_html(climahtml.getHTML_idanchor(s_bestfits))\n",
    "    show_markdown(climahtml.getMarkdown_sectitle(s_bestfits))\n",
    "    print_bestfit_params()\n",
    "   \n",
    "    "
   ]
  },
  {
   "cell_type": "code",
   "execution_count": 12,
   "metadata": {
    "collapsed": true,
    "scrolled": false
   },
   "outputs": [
    {
     "data": {
      "text/markdown": [
       "### CLIRAD-LW"
      ],
      "text/plain": [
       "<IPython.core.display.Markdown object>"
      ]
     },
     "metadata": {},
     "output_type": "display_data"
    },
    {
     "data": {
      "text/markdown": [
       "### Table of Contents"
      ],
      "text/plain": [
       "<IPython.core.display.Markdown object>"
      ]
     },
     "metadata": {},
     "output_type": "display_data"
    },
    {
     "data": {
      "text/html": [
       "<a href=\"#Input_Parameters\">Input Parameters</a>"
      ],
      "text/plain": [
       "<IPython.core.display.HTML object>"
      ]
     },
     "metadata": {},
     "output_type": "display_data"
    },
    {
     "data": {
      "text/html": [
       "<a href=\"#LBLNEW_case_compaired_against\">LBLNEW case compaired against</a>"
      ],
      "text/plain": [
       "<IPython.core.display.HTML object>"
      ]
     },
     "metadata": {},
     "output_type": "display_data"
    },
    {
     "data": {
      "text/html": [
       "<a href=\"#Cooling_Rate_Profiles\">Cooling Rate Profiles</a>"
      ],
      "text/plain": [
       "<IPython.core.display.HTML object>"
      ]
     },
     "metadata": {},
     "output_type": "display_data"
    },
    {
     "data": {
      "text/html": [
       "<a href=\"#Flux_Comparison\">Flux Comparison</a>"
      ],
      "text/plain": [
       "<IPython.core.display.HTML object>"
      ]
     },
     "metadata": {},
     "output_type": "display_data"
    },
    {
     "data": {
      "text/html": [
       "<a href=\"#Best-fit_Parameters\">Best-fit Parameters</a>"
      ],
      "text/plain": [
       "<IPython.core.display.HTML object>"
      ]
     },
     "metadata": {},
     "output_type": "display_data"
    },
    {
     "data": {
      "text/html": [
       "<a id=\"Input_Parameters\"></a>"
      ],
      "text/plain": [
       "<IPython.core.display.HTML object>"
      ]
     },
     "metadata": {},
     "output_type": "display_data"
    },
    {
     "data": {
      "text/markdown": [
       "# Input Parameters"
      ],
      "text/plain": [
       "<IPython.core.display.Markdown object>"
      ]
     },
     "metadata": {},
     "output_type": "display_data"
    },
    {
     "name": "stdout",
     "output_type": "stream",
     "text": [
      "atmpro = mls\n",
      "band = [3]\n",
      "commitnumber = 7fe1447\n",
      "molecule = {'n2o': 3.2e-07}\n",
      "tsfc = 294\n"
     ]
    },
    {
     "data": {
      "text/html": [
       "<a id=\"LBLNEW_case_compaired_against\"></a>"
      ],
      "text/plain": [
       "<IPython.core.display.HTML object>"
      ]
     },
     "metadata": {},
     "output_type": "display_data"
    },
    {
     "data": {
      "text/markdown": [
       "# LBLNEW case compaired against"
      ],
      "text/plain": [
       "<IPython.core.display.Markdown object>"
      ]
     },
     "metadata": {},
     "output_type": "display_data"
    },
    {
     "name": "stdout",
     "output_type": "stream",
     "text": [
      "atmpro = mls\n",
      "band = 3a\n",
      "commitnumber = a06b618\n",
      "conc = 3.2e-07\n",
      "dv = 0.001\n",
      "klin = 2.22e-20\n",
      "molecule = n2o\n",
      "ng_adju = [0, 0]\n",
      "ng_refs = [1, 2]\n",
      "nv = 1000\n",
      "option_compute_btable = 0\n",
      "option_compute_ktable = 0\n",
      "option_wgt_flux = 1\n",
      "option_wgt_k = 1\n",
      "ref_pts = [(1, 250), (500, 250)]\n",
      "tsfc = 294\n",
      "vmax = 620\n",
      "vmin = 540\n",
      "w_diffuse = [(1.8,), (1.66, 1.8)]\n",
      "wgt = [(0.9,), (0.5, 0.95)]\n"
     ]
    },
    {
     "data": {
      "text/html": [
       "<a id=\"Cooling_Rate_Profiles\"></a>"
      ],
      "text/plain": [
       "<IPython.core.display.HTML object>"
      ]
     },
     "metadata": {},
     "output_type": "display_data"
    },
    {
     "data": {
      "text/markdown": [
       "# Cooling Rate Profiles"
      ],
      "text/plain": [
       "<IPython.core.display.Markdown object>"
      ]
     },
     "metadata": {},
     "output_type": "display_data"
    },
    {
     "data": {
      "text/html": [
       "\n",
       "<div class=\"bk-root\">\n",
       "    <div class=\"bk-plotdiv\" id=\"a9fbab49-1b20-4a4e-9eff-d69981a0d729\"></div>\n",
       "</div>"
      ]
     },
     "metadata": {},
     "output_type": "display_data"
    },
    {
     "data": {
      "application/javascript": [
       "(function(root) {\n",
       "  function embed_document(root) {\n",
       "    \n",
       "  var docs_json = {\"0de87a2a-4baa-4258-a06b-5aa6a0e7ac2c\":{\"roots\":{\"references\":[{\"attributes\":{},\"id\":\"eef825f1-978b-4be2-bd1f-dc013b342f60\",\"type\":\"ResetTool\"},{\"attributes\":{\"callback\":null,\"column_names\":[\"x\",\"y\"],\"data\":{\"x\":{\"__ndarray__\":\"sxHf/NM8QT+2IwYYYY9GP3NgHTb2DVE/lz2FMyo2Vz8GlpmWvGhdPyvQRiSFz2E/ezX6uEHrZD9Ofd5cFQtoP87753fGKGs/o/0fSchFbj+ks1lf55lwP1h07qSsAHI/TZv7MCVHcz9Z+BWLoYx0PxP5gTZ4KXk/kn8VgACCgz+mYmNeRxyOP07ItT444ZQ/hguDdqojmz/AzlcN5eugP9823BJ8faQ/WUBr9QpIqD9CPOxnrFurPz0Zw2xnN6s/JAioh6AeqD+hRPBk3HmkP0lnHsiTB6E/F0QW/EXvmz8fWiQgOMSWP5KksPo/YZI/wu526LShjD9H44hpas+EP5UK6NbLNXw/eia4OLHecD96iYfxh5hTP0wtGRjZFF+/91JlEStgcb+WuwF1MtB3vwcEINFwAX6/+p0FJfUzgb8/dq36aU6Av5rj88JRfXm/Dj/UBjvPcb+NajIWFitlv9Yajt4o+U2/NHxPsI9FRj9y6U5mciBiP+x3JL9+P24/B1nfD+L7dD8Zm9xDUKJ6Py2q5vYpB4A/4VpUIH+dgj+scpeAPBSFPyijEwelb4c/c9Klxh62iT9COVAuLe2LP0wFm46OGI4/iK8MMEcdkD+uN5cGcSqRP3o+yz9vNJI/AtBWleU6kz8ZURd/lD6UP5OdhsFfQJU/ZTiPpFNAlj+7LR+25T2XP12otZbtNpg/ol3tdxQmmT9Dw5XFWgKaP9oki3Cdw5o/VYLhNvxpmz/nidOIGv6bP/ru5EAAipw/FzE4v2sUnT95MJTZQaGdP+k4om6sM54/\",\"dtype\":\"float64\",\"shape\":[75]},\"y\":{\"__ndarray__\":\"GhExyth1ND/Sv8nbtpRIP2vylNV0PVE/aTum7souWD/At0SJ8fVgPw3Iuahxymc/MSNhhJWvcD/bTfBN02d3P2zb5nxnaoA/CD5h5MAGhz8NmeH1TyaQP+zrCsc9p5Y/LbKd76fGnz/bLW5ISEmmPww9YvTcQq8/JV2OstnstT8Er5Y7M8G+P0c+r3jqkcU/5h99k6ZBzj88bCIzFzjVP4enV8oyxN0//yH99nXg5D8qOpLLf0jtP5kqGJXUifQ/c9cS8kHP/D+/DpwzojQEQIEmwoanVwxA4lgXt9HgE0BSSZ2AJuIbQAMJih9jjiNA5q4l5INuK0AwTKYKRj0zQNv5fmq8/DpAaCJseHrtQkB/+zpwzoxKQM3MzMzMeFJAZmZmZmZqWEAAAAAAAFxeQM3MzMzMJmJAmpmZmZkfZUBmZmZmZhhoQDMzMzMzEWtAAAAAAAAKbkBmZmZmZoFwQM3MzMzM/XFAMzMzMzN6c0CamZmZmfZ0QAAAAAAAc3ZAZmZmZmbvd0DNzMzMzGt5QDMzMzMz6HpAmpmZmZlkfEAAAAAAAOF9QGZmZmZmXX9AZmZmZuZsgECamZmZGSuBQM3MzMxM6YFAAAAAAICngkAzMzMzs2WDQGZmZmbmI4RAmpmZmRnihEDNzMzMTKCFQAAAAACAXoZAMzMzM7Mch0BmZmZm5tqHQJqZmZkZmYhAzczMzExXiUAAAAAAgBWKQDMzMzOz04pAZmZmZuaRi0CamZmZGVCMQM3MzMxMDo1AAAAAAIDMjUAzMzMzs4qOQGZmZmbmSI9A\",\"dtype\":\"float64\",\"shape\":[75]}}},\"id\":\"9b4d7202-6438-4cd6-a53d-c9039406902b\",\"type\":\"ColumnDataSource\"},{\"attributes\":{\"overlay\":{\"id\":\"d908c70f-59fa-408a-8575-7507019ed5ce\",\"type\":\"BoxAnnotation\"}},\"id\":\"93255661-17fb-4c89-8b71-c273c2d0f649\",\"type\":\"BoxZoomTool\"},{\"attributes\":{\"toolbar\":{\"id\":\"a6b46f7c-6432-45da-9cf0-737cf80b4b68\",\"type\":\"ProxyToolbar\"},\"toolbar_location\":\"above\"},\"id\":\"90cc7da6-e9c1-44ff-8bc7-eb0250093566\",\"type\":\"ToolbarBox\"},{\"attributes\":{},\"id\":\"dd9f3143-847f-4b3d-84e8-ebe27de41309\",\"type\":\"HelpTool\"},{\"attributes\":{},\"id\":\"b87b79ec-378c-44f2-a42e-1c7b5cbf781e\",\"type\":\"BasicTickFormatter\"},{\"attributes\":{},\"id\":\"d416ed46-5f41-4794-9fdb-9e8cc4ef2d41\",\"type\":\"SaveTool\"},{\"attributes\":{\"callback\":null,\"column_names\":[\"x\",\"y\"],\"data\":{\"x\":{\"__ndarray__\":\"aFww6GjEdT9uaDykJ0t2Pzqi4AEcfXc/zbLWOc65eD+bWgXUzPh5P57R0xESOns/9YQmQ3V+fD/RZSCFocR9P06fnvByDn8/xoIpX5wsgD9ZGPOSvtKAP/5pS6f6eIE/q8UcDo8ggj9Cio8FhNOCP89/2mvr7oQ/E+dpP6DTij/6bogrRuGRP3A5QCuO1ZY/tpcW8JA0nD8qidPmi/+gP1PrRBzHHKQ/siGxPbBspz9eJXhzUyuqP8NLlrGmVKo//HtooKsNqD+q6Ts+qCulPzCt3sUhOaI/ovC4LE+1nj/HCQ6N+UmZP2zCkLHnJpQ/ZadSxeoVjj/KCdotECCEP8nB8oT65nY/L3aOx+RCYT+Y+ttYJytRv8vRCi0ep2+/+ATIUTKZd7+yh/RnOE98v8dW9Q0jOIC/tlDc79x0gb/pdBt7D0OAv8PHmQLv5nm/+1+/uoKacr9IMoppz/pmv0sTlLWdXFK/uglZKIfsQD/WbG3yN0BhP7Ryc5ZH6m0/jm5QeJoedT8how1NQxd7P99kH5W3a4A/fYZPdaougz+6wo0k2dSFP1pRRgYAYYg/uEz/8sbSij/XnemDNzSNP2GuT31DiI8/MHcUhH7okD+3Gdlb6weSP0mhqEPZIZM/5e8J0r82lD8O+fppwkeVP3jUDx8VVZY/nUBNN81elz8aMrEI5GOYPzrrRmTHYpk/tS1bzzZVmj9HqU81JDWbP/xmeVaG/Js/f5DPpWSrnD8bTLENVkidP0HpSIT/2p0/3Kb53Glonj84s6cuKvOeP0VJmetsfJ8/\",\"dtype\":\"float64\",\"shape\":[75]},\"y\":{\"__ndarray__\":\"S/O/Q+51ND/Sv8nbtpRIP2vylNV0PVE/aTum7souWD/At0SJ8fVgPw3Iuahxymc/MSNhhJWvcD/bTfBN02d3P2zb5nxnaoA/CD5h5MAGhz8NmeH1TyaQP+zrCsc9p5Y/LbKd76fGnz/bLW5ISEmmPww9YvTcQq8/JV2OstnstT8Er5Y7M8G+P0c+r3jqkcU/5h99k6ZBzj88bCIzFzjVP4enV8oyxN0//yH99nXg5D8qOpLLf0jtP5kqGJXUifQ/c9cS8kHP/D+/DpwzojQEQIEmwoanVwxA4lgXt9HgE0BSSZ2AJuIbQAMJih9jjiNA5q4l5INuK0AwTKYKRj0zQNv5fmq8/DpAaCJseHrtQkB/+zpwzoxKQM3MzMzMeFJAZmZmZmZqWEAAAAAAAFxeQM3MzMzMJmJAmpmZmZkfZUBmZmZmZhhoQDMzMzMzEWtAAAAAAAAKbkBmZmZmZoFwQM3MzMzM/XFAMzMzMzN6c0CamZmZmfZ0QAAAAAAAc3ZAZmZmZmbvd0DNzMzMzGt5QDMzMzMz6HpAmpmZmZlkfEAAAAAAAOF9QGZmZmZmXX9AZmZmZuZsgECamZmZGSuBQM3MzMxM6YFAAAAAAICngkAzMzMzs2WDQGZmZmbmI4RAmpmZmRnihEDNzMzMTKCFQAAAAACAXoZAMzMzM7Mch0BmZmZm5tqHQJqZmZkZmYhAzczMzExXiUAAAAAAgBWKQDMzMzOz04pAZmZmZuaRi0CamZmZGVCMQM3MzMxMDo1AAAAAAIDMjUAzMzMzs4qOQGZmZmbmSI9A\",\"dtype\":\"float64\",\"shape\":[75]}}},\"id\":\"b35d23eb-ece9-494b-be34-4663d5e80aa2\",\"type\":\"ColumnDataSource\"},{\"attributes\":{\"line_alpha\":0.1,\"line_color\":\"#1f77b4\",\"line_dash\":[6],\"line_width\":5,\"x\":{\"field\":\"x\"},\"y\":{\"field\":\"y\"}},\"id\":\"44664ada-e3fc-45c4-b565-9435bac02041\",\"type\":\"Line\"},{\"attributes\":{\"bottom_units\":\"screen\",\"fill_alpha\":{\"value\":0.5},\"fill_color\":{\"value\":\"lightgrey\"},\"left_units\":\"screen\",\"level\":\"overlay\",\"line_alpha\":{\"value\":1.0},\"line_color\":{\"value\":\"black\"},\"line_dash\":[4,4],\"line_width\":{\"value\":2},\"plot\":null,\"render_mode\":\"css\",\"right_units\":\"screen\",\"top_units\":\"screen\"},\"id\":\"374d2c3d-1180-41a4-a629-94dabdffab90\",\"type\":\"BoxAnnotation\"},{\"attributes\":{\"callback\":null,\"column_names\":[\"x\",\"y\"],\"data\":{\"x\":{\"__ndarray__\":\"N1qKIPvccj9czE2X/VtzPwLcUqYJnHQ/QR74GqL7dT86Q5GbLl53P8n4bEZLw3g/Ih06Avcqej+YJpYyMZV7P22q4yEJAn0/+D77MmBxfj+/kE/58+J/P0JJnPamq4A/6YW+cFZngT89OlRzlTCCPyBUvEnBl4Q/YjVBJcA5iz9YAimer4qSP76PwfGJB5g/+zYMvJ34nT9pUN5tUxyiP3sRS6pTkKU/ehn9vf0rqT9oPhlR5CysP+0IT48RRqw/eXptguSnqT/wM5ckomKmP6XY8ka9EqM/NLBv7Fa/nz9nShMMvcqZP1cZzrwqRZQ/Tqnf73vsjT8kDtVjBuKDP/uqB81oy3Y/gLQATXPUYj9m7CejOJNFv34zMvfmrmu/kbJ6DV6Qdb/gG+7bvHV6vye9zsn0C3+/3m3GwK0Igb98kWfX+OV/v92JbsrQCXm/aFXpfVN3cb92ned65FBkv+ZhFiZT2Ui/wCeI5+9zTD9cLZZzQEpkP6tEM2VRlHA/WpyDD+XTdj+8UUpvKrJ8PwDEmeXwQ4E/OE74hJwPhD98qTXIrq6GPyrgxvg8N4k/Pr9d1KKziz/WgKDAAhSOP8mahmE2M5A/lMn561VdkT9+WRIL+XqSP7B02cdFl5M/moMuBU60lD9Q7/p1NMGVP06EFXfY1ZY/acqi9Rbklz+mUMrmWemYPwOumAKz8Zk/HjTwKZ3kmj81d7jKiMybPzwVv8yol5w/8AoR8GNFnT90IVymguidPzjP5JxJdJ4/yt/qbW0Jnz8SnpKsMZOfP5ZM2yngEaA/\",\"dtype\":\"float64\",\"shape\":[75]},\"y\":{\"__ndarray__\":\"GhExyth1ND/Sv8nbtpRIP2vylNV0PVE/aTum7souWD/At0SJ8fVgPw3Iuahxymc/MSNhhJWvcD/bTfBN02d3P2zb5nxnaoA/CD5h5MAGhz8NmeH1TyaQP+zrCsc9p5Y/LbKd76fGnz/bLW5ISEmmPww9YvTcQq8/JV2OstnstT8Er5Y7M8G+P0c+r3jqkcU/5h99k6ZBzj88bCIzFzjVP4enV8oyxN0//yH99nXg5D8qOpLLf0jtP5kqGJXUifQ/c9cS8kHP/D+/DpwzojQEQIEmwoanVwxA4lgXt9HgE0BSSZ2AJuIbQAMJih9jjiNA5q4l5INuK0AwTKYKRj0zQNv5fmq8/DpAaCJseHrtQkB/+zpwzoxKQM3MzMzMeFJAZmZmZmZqWEAAAAAAAFxeQM3MzMzMJmJAmpmZmZkfZUBmZmZmZhhoQDMzMzMzEWtAAAAAAAAKbkBmZmZmZoFwQM3MzMzM/XFAMzMzMzN6c0CamZmZmfZ0QAAAAAAAc3ZAZmZmZmbvd0DNzMzMzGt5QDMzMzMz6HpAmpmZmZlkfEAAAAAAAOF9QGZmZmZmXX9AZmZmZuZsgECamZmZGSuBQM3MzMxM6YFAAAAAAICngkAzMzMzs2WDQGZmZmbmI4RAmpmZmRnihEDNzMzMTKCFQAAAAACAXoZAMzMzM7Mch0BmZmZm5tqHQJqZmZkZmYhAzczMzExXiUAAAAAAgBWKQDMzMzOz04pAZmZmZuaRi0CamZmZGVCMQM3MzMxMDo1AAAAAAIDMjUAzMzMzs4qOQGZmZmbmSI9A\",\"dtype\":\"float64\",\"shape\":[75]}}},\"id\":\"08b83619-5286-4253-807e-ee6128cca8d0\",\"type\":\"ColumnDataSource\"},{\"attributes\":{},\"id\":\"72ad54b0-4d07-4a7b-839a-e51e48071198\",\"type\":\"WheelZoomTool\"},{\"attributes\":{},\"id\":\"265af1e4-f84e-457d-90b1-e5f208f4d380\",\"type\":\"HelpTool\"},{\"attributes\":{\"callback\":null,\"column_names\":[\"x\",\"y\"],\"data\":{\"x\":{\"__ndarray__\":\"sxHf/NM8QT+2IwYYYY9GP3NgHTb2DVE/lz2FMyo2Vz8GlpmWvGhdPyvQRiSFz2E/ezX6uEHrZD9Ofd5cFQtoP87753fGKGs/o/0fSchFbj+ks1lf55lwP1h07qSsAHI/TZv7MCVHcz9Z+BWLoYx0PxP5gTZ4KXk/kn8VgACCgz+mYmNeRxyOP07ItT444ZQ/hguDdqojmz/AzlcN5eugP9823BJ8faQ/WUBr9QpIqD9CPOxnrFurPz0Zw2xnN6s/JAioh6AeqD+hRPBk3HmkP0lnHsiTB6E/F0QW/EXvmz8fWiQgOMSWP5KksPo/YZI/wu526LShjD9H44hpas+EP5UK6NbLNXw/eia4OLHecD96iYfxh5hTP0wtGRjZFF+/91JlEStgcb+WuwF1MtB3vwcEINFwAX6/+p0FJfUzgb8/dq36aU6Av5rj88JRfXm/Dj/UBjvPcb+NajIWFitlv9Yajt4o+U2/NHxPsI9FRj9y6U5mciBiP+x3JL9+P24/B1nfD+L7dD8Zm9xDUKJ6Py2q5vYpB4A/4VpUIH+dgj+scpeAPBSFPyijEwelb4c/c9Klxh62iT9COVAuLe2LP0wFm46OGI4/iK8MMEcdkD+uN5cGcSqRP3o+yz9vNJI/AtBWleU6kz8ZURd/lD6UP5OdhsFfQJU/ZTiPpFNAlj+7LR+25T2XP12otZbtNpg/ol3tdxQmmT9Dw5XFWgKaP9oki3Cdw5o/VYLhNvxpmz/nidOIGv6bP/ru5EAAipw/FzE4v2sUnT95MJTZQaGdP+k4om6sM54/\",\"dtype\":\"float64\",\"shape\":[75]},\"y\":{\"__ndarray__\":\"GhExyth1ND/Sv8nbtpRIP2vylNV0PVE/aTum7souWD/At0SJ8fVgPw3Iuahxymc/MSNhhJWvcD/bTfBN02d3P2zb5nxnaoA/CD5h5MAGhz8NmeH1TyaQP+zrCsc9p5Y/LbKd76fGnz/bLW5ISEmmPww9YvTcQq8/JV2OstnstT8Er5Y7M8G+P0c+r3jqkcU/5h99k6ZBzj88bCIzFzjVP4enV8oyxN0//yH99nXg5D8qOpLLf0jtP5kqGJXUifQ/c9cS8kHP/D+/DpwzojQEQIEmwoanVwxA4lgXt9HgE0BSSZ2AJuIbQAMJih9jjiNA5q4l5INuK0AwTKYKRj0zQNv5fmq8/DpAaCJseHrtQkB/+zpwzoxKQM3MzMzMeFJAZmZmZmZqWEAAAAAAAFxeQM3MzMzMJmJAmpmZmZkfZUBmZmZmZhhoQDMzMzMzEWtAAAAAAAAKbkBmZmZmZoFwQM3MzMzM/XFAMzMzMzN6c0CamZmZmfZ0QAAAAAAAc3ZAZmZmZmbvd0DNzMzMzGt5QDMzMzMz6HpAmpmZmZlkfEAAAAAAAOF9QGZmZmZmXX9AZmZmZuZsgECamZmZGSuBQM3MzMxM6YFAAAAAAICngkAzMzMzs2WDQGZmZmbmI4RAmpmZmRnihEDNzMzMTKCFQAAAAACAXoZAMzMzM7Mch0BmZmZm5tqHQJqZmZkZmYhAzczMzExXiUAAAAAAgBWKQDMzMzOz04pAZmZmZuaRi0CamZmZGVCMQM3MzMxMDo1AAAAAAIDMjUAzMzMzs4qOQGZmZmbmSI9A\",\"dtype\":\"float64\",\"shape\":[75]}}},\"id\":\"2b40dbd1-6c3e-4aa2-ad3e-c5ad37f5a4e3\",\"type\":\"ColumnDataSource\"},{\"attributes\":{\"source\":{\"id\":\"fec509ac-53cc-4eb3-9704-85287c0c64a0\",\"type\":\"ColumnDataSource\"}},\"id\":\"85761ca6-9963-47ec-a13e-61cca839d0ed\",\"type\":\"CDSView\"},{\"attributes\":{\"fill_alpha\":{\"value\":0.1},\"fill_color\":{\"value\":\"#1f77b4\"},\"line_alpha\":{\"value\":0.1},\"line_color\":{\"value\":\"#1f77b4\"},\"x\":{\"field\":\"x\"},\"y\":{\"field\":\"y\"}},\"id\":\"bec32cfc-e16b-4586-937c-2180aeeabc32\",\"type\":\"Circle\"},{\"attributes\":{\"data_source\":{\"id\":\"fec509ac-53cc-4eb3-9704-85287c0c64a0\",\"type\":\"ColumnDataSource\"},\"glyph\":{\"id\":\"59e7c2f0-0146-458e-a51f-cdd23320146f\",\"type\":\"Circle\"},\"hover_glyph\":null,\"muted_glyph\":null,\"nonselection_glyph\":{\"id\":\"4fdffabf-18f8-42c3-94fe-7c20cb9c9513\",\"type\":\"Circle\"},\"selection_glyph\":null,\"view\":{\"id\":\"85761ca6-9963-47ec-a13e-61cca839d0ed\",\"type\":\"CDSView\"}},\"id\":\"7eabef7e-a63a-4831-a5c8-bdcf65d08594\",\"type\":\"GlyphRenderer\"},{\"attributes\":{},\"id\":\"0d08fd6c-8a85-4e59-a8b2-1f1babd4e68a\",\"type\":\"ResetTool\"},{\"attributes\":{\"callback\":null,\"end\":0.01,\"start\":1020},\"id\":\"9a7afb3e-9207-4aa3-96bc-c85f184873bc\",\"type\":\"Range1d\"},{\"attributes\":{\"overlay\":{\"id\":\"374d2c3d-1180-41a4-a629-94dabdffab90\",\"type\":\"BoxAnnotation\"}},\"id\":\"e4073cc4-ba2f-4340-80cc-1a92a9265bbd\",\"type\":\"BoxZoomTool\"},{\"attributes\":{\"fill_alpha\":{\"value\":0.7},\"fill_color\":{\"value\":\"#4daf4a\"},\"line_alpha\":{\"value\":0.7},\"line_color\":{\"value\":\"#4daf4a\"},\"x\":{\"field\":\"x\"},\"y\":{\"field\":\"y\"}},\"id\":\"9ac3d8a6-cbb8-4c74-bf5c-c7c552143b26\",\"type\":\"Circle\"},{\"attributes\":{},\"id\":\"aa01593a-90cd-4412-8b10-674a3f37e001\",\"type\":\"PanTool\"},{\"attributes\":{\"data_source\":{\"id\":\"2b40dbd1-6c3e-4aa2-ad3e-c5ad37f5a4e3\",\"type\":\"ColumnDataSource\"},\"glyph\":{\"id\":\"ebbeaf71-f937-42c6-bc97-69400b66331d\",\"type\":\"Line\"},\"hover_glyph\":null,\"muted_glyph\":null,\"nonselection_glyph\":{\"id\":\"7e29fb0b-34cf-4d3c-a994-cdfdc448d05c\",\"type\":\"Line\"},\"selection_glyph\":null,\"view\":{\"id\":\"3d5c2513-5084-4d7c-88eb-ed72e9d8be4a\",\"type\":\"CDSView\"}},\"id\":\"8c01d40b-fc97-4b7a-9b0a-7bd6e9d50ca0\",\"type\":\"GlyphRenderer\"},{\"attributes\":{\"children\":[{\"id\":\"9f58a1c0-efbc-464b-96f1-7a410728f261\",\"type\":\"Row\"}]},\"id\":\"cb06343f-a37e-446a-b7bb-084f03508d09\",\"type\":\"Column\"},{\"attributes\":{\"ticker\":null},\"id\":\"069335e2-258f-42e2-aaf8-35ff27fc92f2\",\"type\":\"LogTickFormatter\"},{\"attributes\":{},\"id\":\"89cb4db5-f813-4c5d-84eb-8de402ff387e\",\"type\":\"BasicTickFormatter\"},{\"attributes\":{\"data_source\":{\"id\":\"9b4d7202-6438-4cd6-a53d-c9039406902b\",\"type\":\"ColumnDataSource\"},\"glyph\":{\"id\":\"9ac3d8a6-cbb8-4c74-bf5c-c7c552143b26\",\"type\":\"Circle\"},\"hover_glyph\":null,\"muted_glyph\":null,\"nonselection_glyph\":{\"id\":\"bec32cfc-e16b-4586-937c-2180aeeabc32\",\"type\":\"Circle\"},\"selection_glyph\":null,\"view\":{\"id\":\"81156568-7aa9-4954-a497-34d7c103d158\",\"type\":\"CDSView\"}},\"id\":\"30a76298-4ec5-4cd0-914f-32695dddf4a6\",\"type\":\"GlyphRenderer\"},{\"attributes\":{\"axis_label\":\"pressure [mb]\",\"formatter\":{\"id\":\"069335e2-258f-42e2-aaf8-35ff27fc92f2\",\"type\":\"LogTickFormatter\"},\"plot\":{\"id\":\"0209c12f-1f92-4848-b4aa-b8923e50a7f5\",\"subtype\":\"Figure\",\"type\":\"Plot\"},\"ticker\":{\"id\":\"3211c455-81d0-44ca-8ff7-1ddbe77b2158\",\"type\":\"LogTicker\"}},\"id\":\"995d047a-25cf-4e09-a0ef-fb931023e512\",\"type\":\"LogAxis\"},{\"attributes\":{\"source\":{\"id\":\"9b4d7202-6438-4cd6-a53d-c9039406902b\",\"type\":\"ColumnDataSource\"}},\"id\":\"81156568-7aa9-4954-a497-34d7c103d158\",\"type\":\"CDSView\"},{\"attributes\":{\"line_color\":\"#4daf4a\",\"line_width\":1.5,\"x\":{\"field\":\"x\"},\"y\":{\"field\":\"y\"}},\"id\":\"ebbeaf71-f937-42c6-bc97-69400b66331d\",\"type\":\"Line\"},{\"attributes\":{},\"id\":\"617aa54c-b5fb-4bc4-b866-d7bb61eac2ed\",\"type\":\"LinearScale\"},{\"attributes\":{\"line_alpha\":0.6,\"line_color\":\"#984ea3\",\"line_width\":3,\"x\":{\"field\":\"x\"},\"y\":{\"field\":\"y\"}},\"id\":\"d737a41a-446b-4bec-b68e-207160c3065c\",\"type\":\"Line\"},{\"attributes\":{\"line_color\":\"#4daf4a\",\"line_width\":1.5,\"x\":{\"field\":\"x\"},\"y\":{\"field\":\"y\"}},\"id\":\"6e574ce4-ab70-4541-bb91-ae8ade45de8a\",\"type\":\"Line\"},{\"attributes\":{\"line_alpha\":0.1,\"line_color\":\"#1f77b4\",\"line_width\":1.5,\"x\":{\"field\":\"x\"},\"y\":{\"field\":\"y\"}},\"id\":\"7e29fb0b-34cf-4d3c-a994-cdfdc448d05c\",\"type\":\"Line\"},{\"attributes\":{\"callback\":null,\"column_names\":[\"x\",\"y\"],\"data\":{\"x\":{\"__ndarray__\":\"N1qKIPvccj9czE2X/VtzPwLcUqYJnHQ/QR74GqL7dT86Q5GbLl53P8n4bEZLw3g/Ih06Avcqej+YJpYyMZV7P22q4yEJAn0/+D77MmBxfj+/kE/58+J/P0JJnPamq4A/6YW+cFZngT89OlRzlTCCPyBUvEnBl4Q/YjVBJcA5iz9YAimer4qSP76PwfGJB5g/+zYMvJ34nT9pUN5tUxyiP3sRS6pTkKU/ehn9vf0rqT9oPhlR5CysP+0IT48RRqw/eXptguSnqT/wM5ckomKmP6XY8ka9EqM/NLBv7Fa/nz9nShMMvcqZP1cZzrwqRZQ/Tqnf73vsjT8kDtVjBuKDP/uqB81oy3Y/gLQATXPUYj9m7CejOJNFv34zMvfmrmu/kbJ6DV6Qdb/gG+7bvHV6vye9zsn0C3+/3m3GwK0Igb98kWfX+OV/v92JbsrQCXm/aFXpfVN3cb92ned65FBkv+ZhFiZT2Ui/wCeI5+9zTD9cLZZzQEpkP6tEM2VRlHA/WpyDD+XTdj+8UUpvKrJ8PwDEmeXwQ4E/OE74hJwPhD98qTXIrq6GPyrgxvg8N4k/Pr9d1KKziz/WgKDAAhSOP8mahmE2M5A/lMn561VdkT9+WRIL+XqSP7B02cdFl5M/moMuBU60lD9Q7/p1NMGVP06EFXfY1ZY/acqi9Rbklz+mUMrmWemYPwOumAKz8Zk/HjTwKZ3kmj81d7jKiMybPzwVv8yol5w/8AoR8GNFnT90IVymguidPzjP5JxJdJ4/yt/qbW0Jnz8SnpKsMZOfP5ZM2yngEaA/\",\"dtype\":\"float64\",\"shape\":[75]},\"y\":{\"__ndarray__\":\"GhExyth1ND/Sv8nbtpRIP2vylNV0PVE/aTum7souWD/At0SJ8fVgPw3Iuahxymc/MSNhhJWvcD/bTfBN02d3P2zb5nxnaoA/CD5h5MAGhz8NmeH1TyaQP+zrCsc9p5Y/LbKd76fGnz/bLW5ISEmmPww9YvTcQq8/JV2OstnstT8Er5Y7M8G+P0c+r3jqkcU/5h99k6ZBzj88bCIzFzjVP4enV8oyxN0//yH99nXg5D8qOpLLf0jtP5kqGJXUifQ/c9cS8kHP/D+/DpwzojQEQIEmwoanVwxA4lgXt9HgE0BSSZ2AJuIbQAMJih9jjiNA5q4l5INuK0AwTKYKRj0zQNv5fmq8/DpAaCJseHrtQkB/+zpwzoxKQM3MzMzMeFJAZmZmZmZqWEAAAAAAAFxeQM3MzMzMJmJAmpmZmZkfZUBmZmZmZhhoQDMzMzMzEWtAAAAAAAAKbkBmZmZmZoFwQM3MzMzM/XFAMzMzMzN6c0CamZmZmfZ0QAAAAAAAc3ZAZmZmZmbvd0DNzMzMzGt5QDMzMzMz6HpAmpmZmZlkfEAAAAAAAOF9QGZmZmZmXX9AZmZmZuZsgECamZmZGSuBQM3MzMxM6YFAAAAAAICngkAzMzMzs2WDQGZmZmbmI4RAmpmZmRnihEDNzMzMTKCFQAAAAACAXoZAMzMzM7Mch0BmZmZm5tqHQJqZmZkZmYhAzczMzExXiUAAAAAAgBWKQDMzMzOz04pAZmZmZuaRi0CamZmZGVCMQM3MzMxMDo1AAAAAAIDMjUAzMzMzs4qOQGZmZmbmSI9A\",\"dtype\":\"float64\",\"shape\":[75]}}},\"id\":\"41105c13-dad2-471d-a540-52403acfbde6\",\"type\":\"ColumnDataSource\"},{\"attributes\":{},\"id\":\"9a06c7a4-9df6-429f-ba3a-3803932abcc2\",\"type\":\"LinearScale\"},{\"attributes\":{\"source\":{\"id\":\"2b40dbd1-6c3e-4aa2-ad3e-c5ad37f5a4e3\",\"type\":\"ColumnDataSource\"}},\"id\":\"3d5c2513-5084-4d7c-88eb-ed72e9d8be4a\",\"type\":\"CDSView\"},{\"attributes\":{\"dimension\":1,\"plot\":{\"id\":\"0209c12f-1f92-4848-b4aa-b8923e50a7f5\",\"subtype\":\"Figure\",\"type\":\"Plot\"},\"ticker\":{\"id\":\"3211c455-81d0-44ca-8ff7-1ddbe77b2158\",\"type\":\"LogTicker\"}},\"id\":\"01105718-6846-4217-996e-430bfa350a72\",\"type\":\"Grid\"},{\"attributes\":{\"fill_alpha\":{\"value\":0.7},\"fill_color\":{\"value\":\"#984ea3\"},\"line_alpha\":{\"value\":0.7},\"line_color\":{\"value\":\"#984ea3\"},\"x\":{\"field\":\"x\"},\"y\":{\"field\":\"y\"}},\"id\":\"c18dd79f-226e-419b-847a-803ef4a9b57f\",\"type\":\"Square\"},{\"attributes\":{\"items\":[{\"id\":\"598114f1-3b36-4a11-b8ca-df5b03107bc5\",\"type\":\"LegendItem\"},{\"id\":\"52cd12c9-1990-4387-9a24-cac8c40ac123\",\"type\":\"LegendItem\"},{\"id\":\"a345396b-0004-4de0-be67-4f242bb93c53\",\"type\":\"LegendItem\"}],\"label_text_font_size\":{\"value\":\"8pt\"},\"location\":[10,-30],\"plot\":{\"id\":\"0209c12f-1f92-4848-b4aa-b8923e50a7f5\",\"subtype\":\"Figure\",\"type\":\"Plot\"}},\"id\":\"6fc834fa-c424-4bd2-8dee-e389ea2d86a3\",\"type\":\"Legend\"},{\"attributes\":{\"source\":{\"id\":\"08b83619-5286-4253-807e-ee6128cca8d0\",\"type\":\"ColumnDataSource\"}},\"id\":\"1e48b4f9-dbb7-4164-a5c1-6a594ec40b5d\",\"type\":\"CDSView\"},{\"attributes\":{\"callback\":null,\"end\":0.05585953854740001,\"start\":-0.009161137407399999},\"id\":\"da2da954-1512-4ea6-87c6-659732ef82ee\",\"type\":\"Range1d\"},{\"attributes\":{},\"id\":\"6b4b0777-5940-474b-90d2-b8ee78ea0533\",\"type\":\"WheelZoomTool\"},{\"attributes\":{\"fill_alpha\":{\"value\":0.1},\"fill_color\":{\"value\":\"#1f77b4\"},\"line_alpha\":{\"value\":0.1},\"line_color\":{\"value\":\"#1f77b4\"},\"x\":{\"field\":\"x\"},\"y\":{\"field\":\"y\"}},\"id\":\"035266d0-6a35-460f-a794-1bf0ac05d20b\",\"type\":\"Square\"},{\"attributes\":{\"active_drag\":\"auto\",\"active_inspect\":\"auto\",\"active_scroll\":\"auto\",\"active_tap\":\"auto\",\"tools\":[{\"id\":\"4544a45b-2b90-4a6b-a34f-a9b30b6ca86f\",\"type\":\"PanTool\"},{\"id\":\"6b4b0777-5940-474b-90d2-b8ee78ea0533\",\"type\":\"WheelZoomTool\"},{\"id\":\"93255661-17fb-4c89-8b71-c273c2d0f649\",\"type\":\"BoxZoomTool\"},{\"id\":\"d416ed46-5f41-4794-9fdb-9e8cc4ef2d41\",\"type\":\"SaveTool\"},{\"id\":\"eef825f1-978b-4be2-bd1f-dc013b342f60\",\"type\":\"ResetTool\"},{\"id\":\"dd9f3143-847f-4b3d-84e8-ebe27de41309\",\"type\":\"HelpTool\"}]},\"id\":\"0ad24c29-4a45-4c67-8ce3-eed60ed2c5ae\",\"type\":\"Toolbar\"},{\"attributes\":{\"data_source\":{\"id\":\"08b83619-5286-4253-807e-ee6128cca8d0\",\"type\":\"ColumnDataSource\"},\"glyph\":{\"id\":\"c18dd79f-226e-419b-847a-803ef4a9b57f\",\"type\":\"Square\"},\"hover_glyph\":null,\"muted_glyph\":null,\"nonselection_glyph\":{\"id\":\"035266d0-6a35-460f-a794-1bf0ac05d20b\",\"type\":\"Square\"},\"selection_glyph\":null,\"view\":{\"id\":\"1e48b4f9-dbb7-4164-a5c1-6a594ec40b5d\",\"type\":\"CDSView\"}},\"id\":\"51894d35-4b73-4fc2-afed-48d212828bc9\",\"type\":\"GlyphRenderer\"},{\"attributes\":{\"callback\":null,\"column_names\":[\"x\",\"y\"],\"data\":{\"x\":{\"__ndarray__\":\"aFww6GjEdT9uaDykJ0t2Pzqi4AEcfXc/zbLWOc65eD+bWgXUzPh5P57R0xESOns/9YQmQ3V+fD/RZSCFocR9P06fnvByDn8/xoIpX5wsgD9ZGPOSvtKAP/5pS6f6eIE/q8UcDo8ggj9Cio8FhNOCP89/2mvr7oQ/E+dpP6DTij/6bogrRuGRP3A5QCuO1ZY/tpcW8JA0nD8qidPmi/+gP1PrRBzHHKQ/siGxPbBspz9eJXhzUyuqP8NLlrGmVKo//HtooKsNqD+q6Ts+qCulPzCt3sUhOaI/ovC4LE+1nj/HCQ6N+UmZP2zCkLHnJpQ/ZadSxeoVjj/KCdotECCEP8nB8oT65nY/L3aOx+RCYT+Y+ttYJytRv8vRCi0ep2+/+ATIUTKZd7+yh/RnOE98v8dW9Q0jOIC/tlDc79x0gb/pdBt7D0OAv8PHmQLv5nm/+1+/uoKacr9IMoppz/pmv0sTlLWdXFK/uglZKIfsQD/WbG3yN0BhP7Ryc5ZH6m0/jm5QeJoedT8how1NQxd7P99kH5W3a4A/fYZPdaougz+6wo0k2dSFP1pRRgYAYYg/uEz/8sbSij/XnemDNzSNP2GuT31DiI8/MHcUhH7okD+3Gdlb6weSP0mhqEPZIZM/5e8J0r82lD8O+fppwkeVP3jUDx8VVZY/nUBNN81elz8aMrEI5GOYPzrrRmTHYpk/tS1bzzZVmj9HqU81JDWbP/xmeVaG/Js/f5DPpWSrnD8bTLENVkidP0HpSIT/2p0/3Kb53Glonj84s6cuKvOeP0VJmetsfJ8/\",\"dtype\":\"float64\",\"shape\":[75]},\"y\":{\"__ndarray__\":\"S/O/Q+51ND/Sv8nbtpRIP2vylNV0PVE/aTum7souWD/At0SJ8fVgPw3Iuahxymc/MSNhhJWvcD/bTfBN02d3P2zb5nxnaoA/CD5h5MAGhz8NmeH1TyaQP+zrCsc9p5Y/LbKd76fGnz/bLW5ISEmmPww9YvTcQq8/JV2OstnstT8Er5Y7M8G+P0c+r3jqkcU/5h99k6ZBzj88bCIzFzjVP4enV8oyxN0//yH99nXg5D8qOpLLf0jtP5kqGJXUifQ/c9cS8kHP/D+/DpwzojQEQIEmwoanVwxA4lgXt9HgE0BSSZ2AJuIbQAMJih9jjiNA5q4l5INuK0AwTKYKRj0zQNv5fmq8/DpAaCJseHrtQkB/+zpwzoxKQM3MzMzMeFJAZmZmZmZqWEAAAAAAAFxeQM3MzMzMJmJAmpmZmZkfZUBmZmZmZhhoQDMzMzMzEWtAAAAAAAAKbkBmZmZmZoFwQM3MzMzM/XFAMzMzMzN6c0CamZmZmfZ0QAAAAAAAc3ZAZmZmZmbvd0DNzMzMzGt5QDMzMzMz6HpAmpmZmZlkfEAAAAAAAOF9QGZmZmZmXX9AZmZmZuZsgECamZmZGSuBQM3MzMxM6YFAAAAAAICngkAzMzMzs2WDQGZmZmbmI4RAmpmZmRnihEDNzMzMTKCFQAAAAACAXoZAMzMzM7Mch0BmZmZm5tqHQJqZmZkZmYhAzczMzExXiUAAAAAAgBWKQDMzMzOz04pAZmZmZuaRi0CamZmZGVCMQM3MzMxMDo1AAAAAAIDMjUAzMzMzs4qOQGZmZmbmSI9A\",\"dtype\":\"float64\",\"shape\":[75]}}},\"id\":\"db482dbd-2e53-43d4-88bf-4fc59878a35d\",\"type\":\"ColumnDataSource\"},{\"attributes\":{\"source\":{\"id\":\"b35d23eb-ece9-494b-be34-4663d5e80aa2\",\"type\":\"ColumnDataSource\"}},\"id\":\"25424d0c-0404-401c-a998-17b554a45c79\",\"type\":\"CDSView\"},{\"attributes\":{\"source\":{\"id\":\"41105c13-dad2-471d-a540-52403acfbde6\",\"type\":\"ColumnDataSource\"}},\"id\":\"49e5b982-23ad-4729-bdd2-98feae45479b\",\"type\":\"CDSView\"},{\"attributes\":{\"children\":[{\"id\":\"90cc7da6-e9c1-44ff-8bc7-eb0250093566\",\"type\":\"ToolbarBox\"},{\"id\":\"cb06343f-a37e-446a-b7bb-084f03508d09\",\"type\":\"Column\"}]},\"id\":\"f4b737b3-ac11-4c6d-b6e6-2aa3dd99016b\",\"type\":\"Column\"},{\"attributes\":{\"num_minor_ticks\":10},\"id\":\"3211c455-81d0-44ca-8ff7-1ddbe77b2158\",\"type\":\"LogTicker\"},{\"attributes\":{\"label\":{\"value\":\"CRD\"},\"renderers\":[{\"id\":\"30a76298-4ec5-4cd0-914f-32695dddf4a6\",\"type\":\"GlyphRenderer\"},{\"id\":\"8c01d40b-fc97-4b7a-9b0a-7bd6e9d50ca0\",\"type\":\"GlyphRenderer\"}]},\"id\":\"52cd12c9-1990-4387-9a24-cac8c40ac123\",\"type\":\"LegendItem\"},{\"attributes\":{\"line_alpha\":0.1,\"line_color\":\"#1f77b4\",\"line_width\":3,\"x\":{\"field\":\"x\"},\"y\":{\"field\":\"y\"}},\"id\":\"49593cd8-f215-47dc-b366-a918e5030696\",\"type\":\"Line\"},{\"attributes\":{\"plot\":null,\"text\":\"Linear pressure scale\"},\"id\":\"98c45246-a63a-4be6-a26a-c8d7f4bc1d7f\",\"type\":\"Title\"},{\"attributes\":{\"data_source\":{\"id\":\"41105c13-dad2-471d-a540-52403acfbde6\",\"type\":\"ColumnDataSource\"},\"glyph\":{\"id\":\"d737a41a-446b-4bec-b68e-207160c3065c\",\"type\":\"Line\"},\"hover_glyph\":null,\"muted_glyph\":null,\"nonselection_glyph\":{\"id\":\"49593cd8-f215-47dc-b366-a918e5030696\",\"type\":\"Line\"},\"selection_glyph\":null,\"view\":{\"id\":\"49e5b982-23ad-4729-bdd2-98feae45479b\",\"type\":\"CDSView\"}},\"id\":\"ff21cdbc-53a5-48e0-a511-63e332638c60\",\"type\":\"GlyphRenderer\"},{\"attributes\":{\"line_alpha\":0.6,\"line_color\":\"#e41a1c\",\"line_dash\":[6],\"line_width\":5,\"x\":{\"field\":\"x\"},\"y\":{\"field\":\"y\"}},\"id\":\"5c12885a-d5c1-483d-be23-458d1ec3b232\",\"type\":\"Line\"},{\"attributes\":{\"children\":[{\"id\":\"893c3dfa-1512-4ebd-b303-77926f8ebe6b\",\"subtype\":\"Figure\",\"type\":\"Plot\"},{\"id\":\"0209c12f-1f92-4848-b4aa-b8923e50a7f5\",\"subtype\":\"Figure\",\"type\":\"Plot\"}]},\"id\":\"9f58a1c0-efbc-464b-96f1-7a410728f261\",\"type\":\"Row\"},{\"attributes\":{\"tools\":[{\"id\":\"4544a45b-2b90-4a6b-a34f-a9b30b6ca86f\",\"type\":\"PanTool\"},{\"id\":\"6b4b0777-5940-474b-90d2-b8ee78ea0533\",\"type\":\"WheelZoomTool\"},{\"id\":\"93255661-17fb-4c89-8b71-c273c2d0f649\",\"type\":\"BoxZoomTool\"},{\"id\":\"d416ed46-5f41-4794-9fdb-9e8cc4ef2d41\",\"type\":\"SaveTool\"},{\"id\":\"eef825f1-978b-4be2-bd1f-dc013b342f60\",\"type\":\"ResetTool\"},{\"id\":\"dd9f3143-847f-4b3d-84e8-ebe27de41309\",\"type\":\"HelpTool\"},{\"id\":\"aa01593a-90cd-4412-8b10-674a3f37e001\",\"type\":\"PanTool\"},{\"id\":\"72ad54b0-4d07-4a7b-839a-e51e48071198\",\"type\":\"WheelZoomTool\"},{\"id\":\"e4073cc4-ba2f-4340-80cc-1a92a9265bbd\",\"type\":\"BoxZoomTool\"},{\"id\":\"889eeb22-29e3-43a9-b675-1867213a4bc9\",\"type\":\"SaveTool\"},{\"id\":\"0d08fd6c-8a85-4e59-a8b2-1f1babd4e68a\",\"type\":\"ResetTool\"},{\"id\":\"265af1e4-f84e-457d-90b1-e5f208f4d380\",\"type\":\"HelpTool\"}]},\"id\":\"a6b46f7c-6432-45da-9cf0-737cf80b4b68\",\"type\":\"ProxyToolbar\"},{\"attributes\":{\"fill_alpha\":{\"value\":0.1},\"fill_color\":{\"value\":\"#1f77b4\"},\"line_alpha\":{\"value\":0.1},\"line_color\":{\"value\":\"#1f77b4\"},\"x\":{\"field\":\"x\"},\"y\":{\"field\":\"y\"}},\"id\":\"4fdffabf-18f8-42c3-94fe-7c20cb9c9513\",\"type\":\"Circle\"},{\"attributes\":{\"bottom_units\":\"screen\",\"fill_alpha\":{\"value\":0.5},\"fill_color\":{\"value\":\"lightgrey\"},\"left_units\":\"screen\",\"level\":\"overlay\",\"line_alpha\":{\"value\":1.0},\"line_color\":{\"value\":\"black\"},\"line_dash\":[4,4],\"line_width\":{\"value\":2},\"plot\":null,\"render_mode\":\"css\",\"right_units\":\"screen\",\"top_units\":\"screen\"},\"id\":\"d908c70f-59fa-408a-8575-7507019ed5ce\",\"type\":\"BoxAnnotation\"},{\"attributes\":{\"line_alpha\":0.1,\"line_color\":\"#1f77b4\",\"line_dash\":[6],\"line_width\":5,\"x\":{\"field\":\"x\"},\"y\":{\"field\":\"y\"}},\"id\":\"0d68ec38-f829-4da0-826d-5ff4af2e4428\",\"type\":\"Line\"},{\"attributes\":{},\"id\":\"8c43743d-465e-4f91-ab86-794f82b5a34f\",\"type\":\"BasicTicker\"},{\"attributes\":{\"callback\":null,\"column_names\":[\"x\",\"y\"],\"data\":{\"x\":{\"__ndarray__\":\"sxHf/NM8QT+2IwYYYY9GP3NgHTb2DVE/lz2FMyo2Vz8GlpmWvGhdPyvQRiSFz2E/ezX6uEHrZD9Ofd5cFQtoP87753fGKGs/o/0fSchFbj+ks1lf55lwP1h07qSsAHI/TZv7MCVHcz9Z+BWLoYx0PxP5gTZ4KXk/kn8VgACCgz+mYmNeRxyOP07ItT444ZQ/hguDdqojmz/AzlcN5eugP9823BJ8faQ/WUBr9QpIqD9CPOxnrFurPz0Zw2xnN6s/JAioh6AeqD+hRPBk3HmkP0lnHsiTB6E/F0QW/EXvmz8fWiQgOMSWP5KksPo/YZI/wu526LShjD9H44hpas+EP5UK6NbLNXw/eia4OLHecD96iYfxh5hTP0wtGRjZFF+/91JlEStgcb+WuwF1MtB3vwcEINFwAX6/+p0FJfUzgb8/dq36aU6Av5rj88JRfXm/Dj/UBjvPcb+NajIWFitlv9Yajt4o+U2/NHxPsI9FRj9y6U5mciBiP+x3JL9+P24/B1nfD+L7dD8Zm9xDUKJ6Py2q5vYpB4A/4VpUIH+dgj+scpeAPBSFPyijEwelb4c/c9Klxh62iT9COVAuLe2LP0wFm46OGI4/iK8MMEcdkD+uN5cGcSqRP3o+yz9vNJI/AtBWleU6kz8ZURd/lD6UP5OdhsFfQJU/ZTiPpFNAlj+7LR+25T2XP12otZbtNpg/ol3tdxQmmT9Dw5XFWgKaP9oki3Cdw5o/VYLhNvxpmz/nidOIGv6bP/ru5EAAipw/FzE4v2sUnT95MJTZQaGdP+k4om6sM54/\",\"dtype\":\"float64\",\"shape\":[75]},\"y\":{\"__ndarray__\":\"GhExyth1ND/Sv8nbtpRIP2vylNV0PVE/aTum7souWD/At0SJ8fVgPw3Iuahxymc/MSNhhJWvcD/bTfBN02d3P2zb5nxnaoA/CD5h5MAGhz8NmeH1TyaQP+zrCsc9p5Y/LbKd76fGnz/bLW5ISEmmPww9YvTcQq8/JV2OstnstT8Er5Y7M8G+P0c+r3jqkcU/5h99k6ZBzj88bCIzFzjVP4enV8oyxN0//yH99nXg5D8qOpLLf0jtP5kqGJXUifQ/c9cS8kHP/D+/DpwzojQEQIEmwoanVwxA4lgXt9HgE0BSSZ2AJuIbQAMJih9jjiNA5q4l5INuK0AwTKYKRj0zQNv5fmq8/DpAaCJseHrtQkB/+zpwzoxKQM3MzMzMeFJAZmZmZmZqWEAAAAAAAFxeQM3MzMzMJmJAmpmZmZkfZUBmZmZmZhhoQDMzMzMzEWtAAAAAAAAKbkBmZmZmZoFwQM3MzMzM/XFAMzMzMzN6c0CamZmZmfZ0QAAAAAAAc3ZAZmZmZmbvd0DNzMzMzGt5QDMzMzMz6HpAmpmZmZlkfEAAAAAAAOF9QGZmZmZmXX9AZmZmZuZsgECamZmZGSuBQM3MzMxM6YFAAAAAAICngkAzMzMzs2WDQGZmZmbmI4RAmpmZmRnihEDNzMzMTKCFQAAAAACAXoZAMzMzM7Mch0BmZmZm5tqHQJqZmZkZmYhAzczMzExXiUAAAAAAgBWKQDMzMzOz04pAZmZmZuaRi0CamZmZGVCMQM3MzMxMDo1AAAAAAIDMjUAzMzMzs4qOQGZmZmbmSI9A\",\"dtype\":\"float64\",\"shape\":[75]}}},\"id\":\"8deb4d5e-a713-46dc-87d1-ba8f77b963dc\",\"type\":\"ColumnDataSource\"},{\"attributes\":{\"label\":{\"value\":\"WGT igg=10 wgt_flux=2\"},\"renderers\":[{\"id\":\"51894d35-4b73-4fc2-afed-48d212828bc9\",\"type\":\"GlyphRenderer\"},{\"id\":\"ff21cdbc-53a5-48e0-a511-63e332638c60\",\"type\":\"GlyphRenderer\"}]},\"id\":\"a345396b-0004-4de0-be67-4f242bb93c53\",\"type\":\"LegendItem\"},{\"attributes\":{},\"id\":\"4544a45b-2b90-4a6b-a34f-a9b30b6ca86f\",\"type\":\"PanTool\"},{\"attributes\":{\"axis_label\":\"cooling rate [K/day]\",\"formatter\":{\"id\":\"b87b79ec-378c-44f2-a42e-1c7b5cbf781e\",\"type\":\"BasicTickFormatter\"},\"plot\":{\"id\":\"893c3dfa-1512-4ebd-b303-77926f8ebe6b\",\"subtype\":\"Figure\",\"type\":\"Plot\"},\"ticker\":{\"id\":\"8c43743d-465e-4f91-ab86-794f82b5a34f\",\"type\":\"BasicTicker\"}},\"id\":\"63852f79-e293-47c3-8dc2-f2bd6554c6ea\",\"type\":\"LinearAxis\"},{\"attributes\":{},\"id\":\"384ff2e9-bc54-439c-aa34-59a7a02380c8\",\"type\":\"BasicTicker\"},{\"attributes\":{\"dimension\":1,\"plot\":{\"id\":\"893c3dfa-1512-4ebd-b303-77926f8ebe6b\",\"subtype\":\"Figure\",\"type\":\"Plot\"},\"ticker\":{\"id\":\"384ff2e9-bc54-439c-aa34-59a7a02380c8\",\"type\":\"BasicTicker\"}},\"id\":\"eecedf76-12a3-4e1f-910e-e743936661b3\",\"type\":\"Grid\"},{\"attributes\":{\"label\":{\"value\":\"CLIRAD `coolr_bands`\"},\"renderers\":[{\"id\":\"f19dca8d-1cd3-4fd5-98a3-5e1aa14e63f9\",\"type\":\"GlyphRenderer\"}]},\"id\":\"598114f1-3b36-4a11-b8ca-df5b03107bc5\",\"type\":\"LegendItem\"},{\"attributes\":{\"axis_label\":\"pressure [mb]\",\"formatter\":{\"id\":\"83c7bda0-38db-4a07-a3f7-3f9b6d6340e4\",\"type\":\"BasicTickFormatter\"},\"plot\":{\"id\":\"893c3dfa-1512-4ebd-b303-77926f8ebe6b\",\"subtype\":\"Figure\",\"type\":\"Plot\"},\"ticker\":{\"id\":\"384ff2e9-bc54-439c-aa34-59a7a02380c8\",\"type\":\"BasicTicker\"}},\"id\":\"02ecb2dd-c392-4515-981a-a54a0b615952\",\"type\":\"LinearAxis\"},{\"attributes\":{},\"id\":\"10046706-49cc-443c-be87-7f3a61da9546\",\"type\":\"LogScale\"},{\"attributes\":{\"plot\":{\"id\":\"893c3dfa-1512-4ebd-b303-77926f8ebe6b\",\"subtype\":\"Figure\",\"type\":\"Plot\"},\"ticker\":{\"id\":\"8c43743d-465e-4f91-ab86-794f82b5a34f\",\"type\":\"BasicTicker\"}},\"id\":\"47b66411-8b6d-42fd-99f2-65fa7b720817\",\"type\":\"Grid\"},{\"attributes\":{},\"id\":\"889eeb22-29e3-43a9-b675-1867213a4bc9\",\"type\":\"SaveTool\"},{\"attributes\":{\"callback\":null,\"end\":0.01,\"start\":1020},\"id\":\"c8214d67-78bd-4bd9-a7cb-0bdcedab5448\",\"type\":\"Range1d\"},{\"attributes\":{},\"id\":\"83c7bda0-38db-4a07-a3f7-3f9b6d6340e4\",\"type\":\"BasicTickFormatter\"},{\"attributes\":{\"plot\":{\"id\":\"0209c12f-1f92-4848-b4aa-b8923e50a7f5\",\"subtype\":\"Figure\",\"type\":\"Plot\"},\"ticker\":{\"id\":\"ab3ee1cf-aceb-42ea-8164-7d3af77adc43\",\"type\":\"BasicTicker\"}},\"id\":\"66e4f6e1-03f2-4a83-852f-bc65aead3201\",\"type\":\"Grid\"},{\"attributes\":{\"callback\":null,\"end\":0.031785480901,\"start\":-0.008922780400999999},\"id\":\"0d1cc998-4bc3-4662-9b1b-2239c8a73564\",\"type\":\"Range1d\"},{\"attributes\":{\"data_source\":{\"id\":\"b35d23eb-ece9-494b-be34-4663d5e80aa2\",\"type\":\"ColumnDataSource\"},\"glyph\":{\"id\":\"8d7eefb2-eb2a-447e-838d-8f6bfcfd1b73\",\"type\":\"Line\"},\"hover_glyph\":null,\"muted_glyph\":null,\"nonselection_glyph\":{\"id\":\"44664ada-e3fc-45c4-b565-9435bac02041\",\"type\":\"Line\"},\"selection_glyph\":null,\"view\":{\"id\":\"25424d0c-0404-401c-a998-17b554a45c79\",\"type\":\"CDSView\"}},\"id\":\"7cfade59-e941-48d0-a44c-8a4fe41b944d\",\"type\":\"GlyphRenderer\"},{\"attributes\":{\"data_source\":{\"id\":\"db482dbd-2e53-43d4-88bf-4fc59878a35d\",\"type\":\"ColumnDataSource\"},\"glyph\":{\"id\":\"5c12885a-d5c1-483d-be23-458d1ec3b232\",\"type\":\"Line\"},\"hover_glyph\":null,\"muted_glyph\":null,\"nonselection_glyph\":{\"id\":\"0d68ec38-f829-4da0-826d-5ff4af2e4428\",\"type\":\"Line\"},\"selection_glyph\":null,\"view\":{\"id\":\"6b006d7e-7360-4717-b277-ccc240ff3dea\",\"type\":\"CDSView\"}},\"id\":\"f19dca8d-1cd3-4fd5-98a3-5e1aa14e63f9\",\"type\":\"GlyphRenderer\"},{\"attributes\":{},\"id\":\"ab3ee1cf-aceb-42ea-8164-7d3af77adc43\",\"type\":\"BasicTicker\"},{\"attributes\":{\"source\":{\"id\":\"db482dbd-2e53-43d4-88bf-4fc59878a35d\",\"type\":\"ColumnDataSource\"}},\"id\":\"6b006d7e-7360-4717-b277-ccc240ff3dea\",\"type\":\"CDSView\"},{\"attributes\":{\"axis_label\":\"cooling rate [K/day]\",\"formatter\":{\"id\":\"89cb4db5-f813-4c5d-84eb-8de402ff387e\",\"type\":\"BasicTickFormatter\"},\"plot\":{\"id\":\"0209c12f-1f92-4848-b4aa-b8923e50a7f5\",\"subtype\":\"Figure\",\"type\":\"Plot\"},\"ticker\":{\"id\":\"ab3ee1cf-aceb-42ea-8164-7d3af77adc43\",\"type\":\"BasicTicker\"}},\"id\":\"401959ee-3aff-420a-a052-9fc3afd706a0\",\"type\":\"LinearAxis\"},{\"attributes\":{\"fill_alpha\":{\"value\":0.7},\"fill_color\":{\"value\":\"#4daf4a\"},\"line_alpha\":{\"value\":0.7},\"line_color\":{\"value\":\"#4daf4a\"},\"x\":{\"field\":\"x\"},\"y\":{\"field\":\"y\"}},\"id\":\"59e7c2f0-0146-458e-a51f-cdd23320146f\",\"type\":\"Circle\"},{\"attributes\":{\"source\":{\"id\":\"b611c597-da01-40b2-a0c9-7674ea501ae3\",\"type\":\"ColumnDataSource\"}},\"id\":\"773cc5ee-b6e3-4367-a362-6b72750f4fa4\",\"type\":\"CDSView\"},{\"attributes\":{\"source\":{\"id\":\"440b70bd-6e0a-4f2c-9fe0-1acbc1aa252b\",\"type\":\"ColumnDataSource\"}},\"id\":\"5205336f-e07d-4915-820c-8d4d42a89ce9\",\"type\":\"CDSView\"},{\"attributes\":{},\"id\":\"dd3c7b80-889c-4f12-8b3c-c2e0d3d81b52\",\"type\":\"LinearScale\"},{\"attributes\":{\"line_alpha\":0.1,\"line_color\":\"#1f77b4\",\"line_width\":3,\"x\":{\"field\":\"x\"},\"y\":{\"field\":\"y\"}},\"id\":\"061179b4-80c4-4403-8f8f-60cd7a5608df\",\"type\":\"Line\"},{\"attributes\":{\"fill_alpha\":{\"value\":0.1},\"fill_color\":{\"value\":\"#1f77b4\"},\"line_alpha\":{\"value\":0.1},\"line_color\":{\"value\":\"#1f77b4\"},\"x\":{\"field\":\"x\"},\"y\":{\"field\":\"y\"}},\"id\":\"a5a3d7f2-d65d-4880-bcaa-71a6d3bb5588\",\"type\":\"Square\"},{\"attributes\":{\"data_source\":{\"id\":\"b611c597-da01-40b2-a0c9-7674ea501ae3\",\"type\":\"ColumnDataSource\"},\"glyph\":{\"id\":\"bb87ce54-c4d0-44e0-93a4-08f0c8361026\",\"type\":\"Line\"},\"hover_glyph\":null,\"muted_glyph\":null,\"nonselection_glyph\":{\"id\":\"061179b4-80c4-4403-8f8f-60cd7a5608df\",\"type\":\"Line\"},\"selection_glyph\":null,\"view\":{\"id\":\"773cc5ee-b6e3-4367-a362-6b72750f4fa4\",\"type\":\"CDSView\"}},\"id\":\"d5fcf8ae-f345-42f0-afdc-7e4f5cde10e1\",\"type\":\"GlyphRenderer\"},{\"attributes\":{\"data_source\":{\"id\":\"440b70bd-6e0a-4f2c-9fe0-1acbc1aa252b\",\"type\":\"ColumnDataSource\"},\"glyph\":{\"id\":\"2cbd5429-4654-4908-86d4-220e22791606\",\"type\":\"Square\"},\"hover_glyph\":null,\"muted_glyph\":null,\"nonselection_glyph\":{\"id\":\"a5a3d7f2-d65d-4880-bcaa-71a6d3bb5588\",\"type\":\"Square\"},\"selection_glyph\":null,\"view\":{\"id\":\"5205336f-e07d-4915-820c-8d4d42a89ce9\",\"type\":\"CDSView\"}},\"id\":\"4922dec9-0dbe-4ecb-9dd2-c5d5a541749c\",\"type\":\"GlyphRenderer\"},{\"attributes\":{\"below\":[{\"id\":\"401959ee-3aff-420a-a052-9fc3afd706a0\",\"type\":\"LinearAxis\"}],\"left\":[{\"id\":\"995d047a-25cf-4e09-a0ef-fb931023e512\",\"type\":\"LogAxis\"}],\"plot_height\":500,\"plot_width\":560,\"renderers\":[{\"id\":\"401959ee-3aff-420a-a052-9fc3afd706a0\",\"type\":\"LinearAxis\"},{\"id\":\"66e4f6e1-03f2-4a83-852f-bc65aead3201\",\"type\":\"Grid\"},{\"id\":\"995d047a-25cf-4e09-a0ef-fb931023e512\",\"type\":\"LogAxis\"},{\"id\":\"01105718-6846-4217-996e-430bfa350a72\",\"type\":\"Grid\"},{\"id\":\"374d2c3d-1180-41a4-a629-94dabdffab90\",\"type\":\"BoxAnnotation\"},{\"id\":\"f19dca8d-1cd3-4fd5-98a3-5e1aa14e63f9\",\"type\":\"GlyphRenderer\"},{\"id\":\"30a76298-4ec5-4cd0-914f-32695dddf4a6\",\"type\":\"GlyphRenderer\"},{\"id\":\"8c01d40b-fc97-4b7a-9b0a-7bd6e9d50ca0\",\"type\":\"GlyphRenderer\"},{\"id\":\"51894d35-4b73-4fc2-afed-48d212828bc9\",\"type\":\"GlyphRenderer\"},{\"id\":\"ff21cdbc-53a5-48e0-a511-63e332638c60\",\"type\":\"GlyphRenderer\"},{\"id\":\"6fc834fa-c424-4bd2-8dee-e389ea2d86a3\",\"type\":\"Legend\"}],\"right\":[{\"id\":\"6fc834fa-c424-4bd2-8dee-e389ea2d86a3\",\"type\":\"Legend\"}],\"title\":{\"id\":\"e1f5c735-236e-424b-acbc-aaddce058dfb\",\"type\":\"Title\"},\"toolbar\":{\"id\":\"69461802-27bd-4c3d-b581-95addb91ed98\",\"type\":\"Toolbar\"},\"toolbar_location\":null,\"x_range\":{\"id\":\"da2da954-1512-4ea6-87c6-659732ef82ee\",\"type\":\"Range1d\"},\"x_scale\":{\"id\":\"dd3c7b80-889c-4f12-8b3c-c2e0d3d81b52\",\"type\":\"LinearScale\"},\"y_range\":{\"id\":\"c8214d67-78bd-4bd9-a7cb-0bdcedab5448\",\"type\":\"Range1d\"},\"y_scale\":{\"id\":\"10046706-49cc-443c-be87-7f3a61da9546\",\"type\":\"LogScale\"}},\"id\":\"0209c12f-1f92-4848-b4aa-b8923e50a7f5\",\"subtype\":\"Figure\",\"type\":\"Plot\"},{\"attributes\":{\"below\":[{\"id\":\"63852f79-e293-47c3-8dc2-f2bd6554c6ea\",\"type\":\"LinearAxis\"}],\"left\":[{\"id\":\"02ecb2dd-c392-4515-981a-a54a0b615952\",\"type\":\"LinearAxis\"}],\"plot_height\":500,\"plot_width\":400,\"renderers\":[{\"id\":\"63852f79-e293-47c3-8dc2-f2bd6554c6ea\",\"type\":\"LinearAxis\"},{\"id\":\"47b66411-8b6d-42fd-99f2-65fa7b720817\",\"type\":\"Grid\"},{\"id\":\"02ecb2dd-c392-4515-981a-a54a0b615952\",\"type\":\"LinearAxis\"},{\"id\":\"eecedf76-12a3-4e1f-910e-e743936661b3\",\"type\":\"Grid\"},{\"id\":\"d908c70f-59fa-408a-8575-7507019ed5ce\",\"type\":\"BoxAnnotation\"},{\"id\":\"7cfade59-e941-48d0-a44c-8a4fe41b944d\",\"type\":\"GlyphRenderer\"},{\"id\":\"7eabef7e-a63a-4831-a5c8-bdcf65d08594\",\"type\":\"GlyphRenderer\"},{\"id\":\"e429dc64-5710-42ac-b0e9-5831be484ac4\",\"type\":\"GlyphRenderer\"},{\"id\":\"4922dec9-0dbe-4ecb-9dd2-c5d5a541749c\",\"type\":\"GlyphRenderer\"},{\"id\":\"d5fcf8ae-f345-42f0-afdc-7e4f5cde10e1\",\"type\":\"GlyphRenderer\"}],\"title\":{\"id\":\"98c45246-a63a-4be6-a26a-c8d7f4bc1d7f\",\"type\":\"Title\"},\"toolbar\":{\"id\":\"0ad24c29-4a45-4c67-8ce3-eed60ed2c5ae\",\"type\":\"Toolbar\"},\"toolbar_location\":null,\"x_range\":{\"id\":\"0d1cc998-4bc3-4662-9b1b-2239c8a73564\",\"type\":\"Range1d\"},\"x_scale\":{\"id\":\"9a06c7a4-9df6-429f-ba3a-3803932abcc2\",\"type\":\"LinearScale\"},\"y_range\":{\"id\":\"9a7afb3e-9207-4aa3-96bc-c85f184873bc\",\"type\":\"Range1d\"},\"y_scale\":{\"id\":\"617aa54c-b5fb-4bc4-b866-d7bb61eac2ed\",\"type\":\"LinearScale\"}},\"id\":\"893c3dfa-1512-4ebd-b303-77926f8ebe6b\",\"subtype\":\"Figure\",\"type\":\"Plot\"},{\"attributes\":{\"line_alpha\":0.1,\"line_color\":\"#1f77b4\",\"line_width\":1.5,\"x\":{\"field\":\"x\"},\"y\":{\"field\":\"y\"}},\"id\":\"288e10d4-8e55-42dd-b93e-e390113692ab\",\"type\":\"Line\"},{\"attributes\":{\"callback\":null,\"column_names\":[\"x\",\"y\"],\"data\":{\"x\":{\"__ndarray__\":\"sxHf/NM8QT+2IwYYYY9GP3NgHTb2DVE/lz2FMyo2Vz8GlpmWvGhdPyvQRiSFz2E/ezX6uEHrZD9Ofd5cFQtoP87753fGKGs/o/0fSchFbj+ks1lf55lwP1h07qSsAHI/TZv7MCVHcz9Z+BWLoYx0PxP5gTZ4KXk/kn8VgACCgz+mYmNeRxyOP07ItT444ZQ/hguDdqojmz/AzlcN5eugP9823BJ8faQ/WUBr9QpIqD9CPOxnrFurPz0Zw2xnN6s/JAioh6AeqD+hRPBk3HmkP0lnHsiTB6E/F0QW/EXvmz8fWiQgOMSWP5KksPo/YZI/wu526LShjD9H44hpas+EP5UK6NbLNXw/eia4OLHecD96iYfxh5hTP0wtGRjZFF+/91JlEStgcb+WuwF1MtB3vwcEINFwAX6/+p0FJfUzgb8/dq36aU6Av5rj88JRfXm/Dj/UBjvPcb+NajIWFitlv9Yajt4o+U2/NHxPsI9FRj9y6U5mciBiP+x3JL9+P24/B1nfD+L7dD8Zm9xDUKJ6Py2q5vYpB4A/4VpUIH+dgj+scpeAPBSFPyijEwelb4c/c9Klxh62iT9COVAuLe2LP0wFm46OGI4/iK8MMEcdkD+uN5cGcSqRP3o+yz9vNJI/AtBWleU6kz8ZURd/lD6UP5OdhsFfQJU/ZTiPpFNAlj+7LR+25T2XP12otZbtNpg/ol3tdxQmmT9Dw5XFWgKaP9oki3Cdw5o/VYLhNvxpmz/nidOIGv6bP/ru5EAAipw/FzE4v2sUnT95MJTZQaGdP+k4om6sM54/\",\"dtype\":\"float64\",\"shape\":[75]},\"y\":{\"__ndarray__\":\"GhExyth1ND/Sv8nbtpRIP2vylNV0PVE/aTum7souWD/At0SJ8fVgPw3Iuahxymc/MSNhhJWvcD/bTfBN02d3P2zb5nxnaoA/CD5h5MAGhz8NmeH1TyaQP+zrCsc9p5Y/LbKd76fGnz/bLW5ISEmmPww9YvTcQq8/JV2OstnstT8Er5Y7M8G+P0c+r3jqkcU/5h99k6ZBzj88bCIzFzjVP4enV8oyxN0//yH99nXg5D8qOpLLf0jtP5kqGJXUifQ/c9cS8kHP/D+/DpwzojQEQIEmwoanVwxA4lgXt9HgE0BSSZ2AJuIbQAMJih9jjiNA5q4l5INuK0AwTKYKRj0zQNv5fmq8/DpAaCJseHrtQkB/+zpwzoxKQM3MzMzMeFJAZmZmZmZqWEAAAAAAAFxeQM3MzMzMJmJAmpmZmZkfZUBmZmZmZhhoQDMzMzMzEWtAAAAAAAAKbkBmZmZmZoFwQM3MzMzM/XFAMzMzMzN6c0CamZmZmfZ0QAAAAAAAc3ZAZmZmZmbvd0DNzMzMzGt5QDMzMzMz6HpAmpmZmZlkfEAAAAAAAOF9QGZmZmZmXX9AZmZmZuZsgECamZmZGSuBQM3MzMxM6YFAAAAAAICngkAzMzMzs2WDQGZmZmbmI4RAmpmZmRnihEDNzMzMTKCFQAAAAACAXoZAMzMzM7Mch0BmZmZm5tqHQJqZmZkZmYhAzczMzExXiUAAAAAAgBWKQDMzMzOz04pAZmZmZuaRi0CamZmZGVCMQM3MzMxMDo1AAAAAAIDMjUAzMzMzs4qOQGZmZmbmSI9A\",\"dtype\":\"float64\",\"shape\":[75]}}},\"id\":\"fec509ac-53cc-4eb3-9704-85287c0c64a0\",\"type\":\"ColumnDataSource\"},{\"attributes\":{\"fill_alpha\":{\"value\":0.7},\"fill_color\":{\"value\":\"#984ea3\"},\"line_alpha\":{\"value\":0.7},\"line_color\":{\"value\":\"#984ea3\"},\"x\":{\"field\":\"x\"},\"y\":{\"field\":\"y\"}},\"id\":\"2cbd5429-4654-4908-86d4-220e22791606\",\"type\":\"Square\"},{\"attributes\":{\"callback\":null,\"column_names\":[\"x\",\"y\"],\"data\":{\"x\":{\"__ndarray__\":\"N1qKIPvccj9czE2X/VtzPwLcUqYJnHQ/QR74GqL7dT86Q5GbLl53P8n4bEZLw3g/Ih06Avcqej+YJpYyMZV7P22q4yEJAn0/+D77MmBxfj+/kE/58+J/P0JJnPamq4A/6YW+cFZngT89OlRzlTCCPyBUvEnBl4Q/YjVBJcA5iz9YAimer4qSP76PwfGJB5g/+zYMvJ34nT9pUN5tUxyiP3sRS6pTkKU/ehn9vf0rqT9oPhlR5CysP+0IT48RRqw/eXptguSnqT/wM5ckomKmP6XY8ka9EqM/NLBv7Fa/nz9nShMMvcqZP1cZzrwqRZQ/Tqnf73vsjT8kDtVjBuKDP/uqB81oy3Y/gLQATXPUYj9m7CejOJNFv34zMvfmrmu/kbJ6DV6Qdb/gG+7bvHV6vye9zsn0C3+/3m3GwK0Igb98kWfX+OV/v92JbsrQCXm/aFXpfVN3cb92ned65FBkv+ZhFiZT2Ui/wCeI5+9zTD9cLZZzQEpkP6tEM2VRlHA/WpyDD+XTdj+8UUpvKrJ8PwDEmeXwQ4E/OE74hJwPhD98qTXIrq6GPyrgxvg8N4k/Pr9d1KKziz/WgKDAAhSOP8mahmE2M5A/lMn561VdkT9+WRIL+XqSP7B02cdFl5M/moMuBU60lD9Q7/p1NMGVP06EFXfY1ZY/acqi9Rbklz+mUMrmWemYPwOumAKz8Zk/HjTwKZ3kmj81d7jKiMybPzwVv8yol5w/8AoR8GNFnT90IVymguidPzjP5JxJdJ4/yt/qbW0Jnz8SnpKsMZOfP5ZM2yngEaA/\",\"dtype\":\"float64\",\"shape\":[75]},\"y\":{\"__ndarray__\":\"GhExyth1ND/Sv8nbtpRIP2vylNV0PVE/aTum7souWD/At0SJ8fVgPw3Iuahxymc/MSNhhJWvcD/bTfBN02d3P2zb5nxnaoA/CD5h5MAGhz8NmeH1TyaQP+zrCsc9p5Y/LbKd76fGnz/bLW5ISEmmPww9YvTcQq8/JV2OstnstT8Er5Y7M8G+P0c+r3jqkcU/5h99k6ZBzj88bCIzFzjVP4enV8oyxN0//yH99nXg5D8qOpLLf0jtP5kqGJXUifQ/c9cS8kHP/D+/DpwzojQEQIEmwoanVwxA4lgXt9HgE0BSSZ2AJuIbQAMJih9jjiNA5q4l5INuK0AwTKYKRj0zQNv5fmq8/DpAaCJseHrtQkB/+zpwzoxKQM3MzMzMeFJAZmZmZmZqWEAAAAAAAFxeQM3MzMzMJmJAmpmZmZkfZUBmZmZmZhhoQDMzMzMzEWtAAAAAAAAKbkBmZmZmZoFwQM3MzMzM/XFAMzMzMzN6c0CamZmZmfZ0QAAAAAAAc3ZAZmZmZmbvd0DNzMzMzGt5QDMzMzMz6HpAmpmZmZlkfEAAAAAAAOF9QGZmZmZmXX9AZmZmZuZsgECamZmZGSuBQM3MzMxM6YFAAAAAAICngkAzMzMzs2WDQGZmZmbmI4RAmpmZmRnihEDNzMzMTKCFQAAAAACAXoZAMzMzM7Mch0BmZmZm5tqHQJqZmZkZmYhAzczMzExXiUAAAAAAgBWKQDMzMzOz04pAZmZmZuaRi0CamZmZGVCMQM3MzMxMDo1AAAAAAIDMjUAzMzMzs4qOQGZmZmbmSI9A\",\"dtype\":\"float64\",\"shape\":[75]}}},\"id\":\"b611c597-da01-40b2-a0c9-7674ea501ae3\",\"type\":\"ColumnDataSource\"},{\"attributes\":{\"line_alpha\":0.6,\"line_color\":\"#e41a1c\",\"line_dash\":[6],\"line_width\":5,\"x\":{\"field\":\"x\"},\"y\":{\"field\":\"y\"}},\"id\":\"8d7eefb2-eb2a-447e-838d-8f6bfcfd1b73\",\"type\":\"Line\"},{\"attributes\":{\"data_source\":{\"id\":\"8deb4d5e-a713-46dc-87d1-ba8f77b963dc\",\"type\":\"ColumnDataSource\"},\"glyph\":{\"id\":\"6e574ce4-ab70-4541-bb91-ae8ade45de8a\",\"type\":\"Line\"},\"hover_glyph\":null,\"muted_glyph\":null,\"nonselection_glyph\":{\"id\":\"288e10d4-8e55-42dd-b93e-e390113692ab\",\"type\":\"Line\"},\"selection_glyph\":null,\"view\":{\"id\":\"8af305f6-11e9-4675-bf08-5873e6debd4b\",\"type\":\"CDSView\"}},\"id\":\"e429dc64-5710-42ac-b0e9-5831be484ac4\",\"type\":\"GlyphRenderer\"},{\"attributes\":{\"plot\":null,\"text\":\"Log pressure scale\"},\"id\":\"e1f5c735-236e-424b-acbc-aaddce058dfb\",\"type\":\"Title\"},{\"attributes\":{\"active_drag\":\"auto\",\"active_inspect\":\"auto\",\"active_scroll\":\"auto\",\"active_tap\":\"auto\",\"tools\":[{\"id\":\"aa01593a-90cd-4412-8b10-674a3f37e001\",\"type\":\"PanTool\"},{\"id\":\"72ad54b0-4d07-4a7b-839a-e51e48071198\",\"type\":\"WheelZoomTool\"},{\"id\":\"e4073cc4-ba2f-4340-80cc-1a92a9265bbd\",\"type\":\"BoxZoomTool\"},{\"id\":\"889eeb22-29e3-43a9-b675-1867213a4bc9\",\"type\":\"SaveTool\"},{\"id\":\"0d08fd6c-8a85-4e59-a8b2-1f1babd4e68a\",\"type\":\"ResetTool\"},{\"id\":\"265af1e4-f84e-457d-90b1-e5f208f4d380\",\"type\":\"HelpTool\"}]},\"id\":\"69461802-27bd-4c3d-b581-95addb91ed98\",\"type\":\"Toolbar\"},{\"attributes\":{\"line_alpha\":0.6,\"line_color\":\"#984ea3\",\"line_width\":3,\"x\":{\"field\":\"x\"},\"y\":{\"field\":\"y\"}},\"id\":\"bb87ce54-c4d0-44e0-93a4-08f0c8361026\",\"type\":\"Line\"},{\"attributes\":{\"source\":{\"id\":\"8deb4d5e-a713-46dc-87d1-ba8f77b963dc\",\"type\":\"ColumnDataSource\"}},\"id\":\"8af305f6-11e9-4675-bf08-5873e6debd4b\",\"type\":\"CDSView\"},{\"attributes\":{\"callback\":null,\"column_names\":[\"x\",\"y\"],\"data\":{\"x\":{\"__ndarray__\":\"N1qKIPvccj9czE2X/VtzPwLcUqYJnHQ/QR74GqL7dT86Q5GbLl53P8n4bEZLw3g/Ih06Avcqej+YJpYyMZV7P22q4yEJAn0/+D77MmBxfj+/kE/58+J/P0JJnPamq4A/6YW+cFZngT89OlRzlTCCPyBUvEnBl4Q/YjVBJcA5iz9YAimer4qSP76PwfGJB5g/+zYMvJ34nT9pUN5tUxyiP3sRS6pTkKU/ehn9vf0rqT9oPhlR5CysP+0IT48RRqw/eXptguSnqT/wM5ckomKmP6XY8ka9EqM/NLBv7Fa/nz9nShMMvcqZP1cZzrwqRZQ/Tqnf73vsjT8kDtVjBuKDP/uqB81oy3Y/gLQATXPUYj9m7CejOJNFv34zMvfmrmu/kbJ6DV6Qdb/gG+7bvHV6vye9zsn0C3+/3m3GwK0Igb98kWfX+OV/v92JbsrQCXm/aFXpfVN3cb92ned65FBkv+ZhFiZT2Ui/wCeI5+9zTD9cLZZzQEpkP6tEM2VRlHA/WpyDD+XTdj+8UUpvKrJ8PwDEmeXwQ4E/OE74hJwPhD98qTXIrq6GPyrgxvg8N4k/Pr9d1KKziz/WgKDAAhSOP8mahmE2M5A/lMn561VdkT9+WRIL+XqSP7B02cdFl5M/moMuBU60lD9Q7/p1NMGVP06EFXfY1ZY/acqi9Rbklz+mUMrmWemYPwOumAKz8Zk/HjTwKZ3kmj81d7jKiMybPzwVv8yol5w/8AoR8GNFnT90IVymguidPzjP5JxJdJ4/yt/qbW0Jnz8SnpKsMZOfP5ZM2yngEaA/\",\"dtype\":\"float64\",\"shape\":[75]},\"y\":{\"__ndarray__\":\"GhExyth1ND/Sv8nbtpRIP2vylNV0PVE/aTum7souWD/At0SJ8fVgPw3Iuahxymc/MSNhhJWvcD/bTfBN02d3P2zb5nxnaoA/CD5h5MAGhz8NmeH1TyaQP+zrCsc9p5Y/LbKd76fGnz/bLW5ISEmmPww9YvTcQq8/JV2OstnstT8Er5Y7M8G+P0c+r3jqkcU/5h99k6ZBzj88bCIzFzjVP4enV8oyxN0//yH99nXg5D8qOpLLf0jtP5kqGJXUifQ/c9cS8kHP/D+/DpwzojQEQIEmwoanVwxA4lgXt9HgE0BSSZ2AJuIbQAMJih9jjiNA5q4l5INuK0AwTKYKRj0zQNv5fmq8/DpAaCJseHrtQkB/+zpwzoxKQM3MzMzMeFJAZmZmZmZqWEAAAAAAAFxeQM3MzMzMJmJAmpmZmZkfZUBmZmZmZhhoQDMzMzMzEWtAAAAAAAAKbkBmZmZmZoFwQM3MzMzM/XFAMzMzMzN6c0CamZmZmfZ0QAAAAAAAc3ZAZmZmZmbvd0DNzMzMzGt5QDMzMzMz6HpAmpmZmZlkfEAAAAAAAOF9QGZmZmZmXX9AZmZmZuZsgECamZmZGSuBQM3MzMxM6YFAAAAAAICngkAzMzMzs2WDQGZmZmbmI4RAmpmZmRnihEDNzMzMTKCFQAAAAACAXoZAMzMzM7Mch0BmZmZm5tqHQJqZmZkZmYhAzczMzExXiUAAAAAAgBWKQDMzMzOz04pAZmZmZuaRi0CamZmZGVCMQM3MzMxMDo1AAAAAAIDMjUAzMzMzs4qOQGZmZmbmSI9A\",\"dtype\":\"float64\",\"shape\":[75]}}},\"id\":\"440b70bd-6e0a-4f2c-9fe0-1acbc1aa252b\",\"type\":\"ColumnDataSource\"}],\"root_ids\":[\"f4b737b3-ac11-4c6d-b6e6-2aa3dd99016b\"]},\"title\":\"Bokeh Application\",\"version\":\"0.12.14\"}};\n",
       "  var render_items = [{\"docid\":\"0de87a2a-4baa-4258-a06b-5aa6a0e7ac2c\",\"elementid\":\"a9fbab49-1b20-4a4e-9eff-d69981a0d729\",\"modelid\":\"f4b737b3-ac11-4c6d-b6e6-2aa3dd99016b\"}];\n",
       "  root.Bokeh.embed.embed_items_notebook(docs_json, render_items);\n",
       "\n",
       "  }\n",
       "  if (root.Bokeh !== undefined) {\n",
       "    embed_document(root);\n",
       "  } else {\n",
       "    var attempts = 0;\n",
       "    var timer = setInterval(function(root) {\n",
       "      if (root.Bokeh !== undefined) {\n",
       "        embed_document(root);\n",
       "        clearInterval(timer);\n",
       "      }\n",
       "      attempts++;\n",
       "      if (attempts > 100) {\n",
       "        console.log(\"Bokeh: ERROR: Unable to run BokehJS code because BokehJS library is missing\")\n",
       "        clearInterval(timer);\n",
       "      }\n",
       "    }, 10, root)\n",
       "  }\n",
       "})(window);"
      ],
      "application/vnd.bokehjs_exec.v0+json": ""
     },
     "metadata": {
      "application/vnd.bokehjs_exec.v0+json": {
       "id": "f4b737b3-ac11-4c6d-b6e6-2aa3dd99016b"
      }
     },
     "output_type": "display_data"
    },
    {
     "name": "stdout",
     "output_type": "stream",
     "text": [
      "FIGURE. Cooling rate profiles.\n"
     ]
    },
    {
     "data": {
      "text/html": [
       "<a id=\"Flux_Comparison\"></a>"
      ],
      "text/plain": [
       "<IPython.core.display.HTML object>"
      ]
     },
     "metadata": {},
     "output_type": "display_data"
    },
    {
     "data": {
      "text/markdown": [
       "# Flux Comparison"
      ],
      "text/plain": [
       "<IPython.core.display.Markdown object>"
      ]
     },
     "metadata": {},
     "output_type": "display_data"
    },
    {
     "data": {
      "text/html": [
       "<div>\n",
       "<style>\n",
       "    .dataframe thead tr:only-child th {\n",
       "        text-align: right;\n",
       "    }\n",
       "\n",
       "    .dataframe thead th {\n",
       "        text-align: left;\n",
       "    }\n",
       "\n",
       "    .dataframe tbody tr th {\n",
       "        vertical-align: top;\n",
       "    }\n",
       "</style>\n",
       "<table border=\"1\" class=\"dataframe\">\n",
       "  <thead>\n",
       "    <tr style=\"text-align: right;\">\n",
       "      <th></th>\n",
       "      <th></th>\n",
       "      <th>flug</th>\n",
       "      <th>fldg</th>\n",
       "      <th>fnetg</th>\n",
       "    </tr>\n",
       "    <tr>\n",
       "      <th>pressure</th>\n",
       "      <th>level</th>\n",
       "      <th></th>\n",
       "      <th></th>\n",
       "      <th></th>\n",
       "    </tr>\n",
       "  </thead>\n",
       "  <tbody>\n",
       "    <tr>\n",
       "      <th>0.0000</th>\n",
       "      <th>1</th>\n",
       "      <td>-35.017698</td>\n",
       "      <td>0.000000</td>\n",
       "      <td>-35.017698</td>\n",
       "    </tr>\n",
       "    <tr>\n",
       "      <th>1.0685</th>\n",
       "      <th>24</th>\n",
       "      <td>-35.016942</td>\n",
       "      <td>0.004396</td>\n",
       "      <td>-35.012545</td>\n",
       "    </tr>\n",
       "    <tr>\n",
       "      <th>1013.0000</th>\n",
       "      <th>76</th>\n",
       "      <td>-36.235408</td>\n",
       "      <td>2.706732</td>\n",
       "      <td>-33.528677</td>\n",
       "    </tr>\n",
       "  </tbody>\n",
       "</table>\n",
       "</div>"
      ],
      "text/plain": [
       "                      flug      fldg      fnetg\n",
       "pressure  level                                \n",
       "0.0000    1     -35.017698  0.000000 -35.017698\n",
       "1.0685    24    -35.016942  0.004396 -35.012545\n",
       "1013.0000 76    -36.235408  2.706732 -33.528677"
      ]
     },
     "metadata": {},
     "output_type": "display_data"
    },
    {
     "name": "stdout",
     "output_type": "stream",
     "text": [
      "Table. Fluxes. WGT igg=10 wgt_flux=1\n"
     ]
    },
    {
     "data": {
      "text/html": [
       "<div>\n",
       "<style>\n",
       "    .dataframe thead tr:only-child th {\n",
       "        text-align: right;\n",
       "    }\n",
       "\n",
       "    .dataframe thead th {\n",
       "        text-align: left;\n",
       "    }\n",
       "\n",
       "    .dataframe tbody tr th {\n",
       "        vertical-align: top;\n",
       "    }\n",
       "</style>\n",
       "<table border=\"1\" class=\"dataframe\">\n",
       "  <thead>\n",
       "    <tr style=\"text-align: right;\">\n",
       "      <th></th>\n",
       "      <th></th>\n",
       "      <th>flug</th>\n",
       "      <th>fldg</th>\n",
       "      <th>fnetg</th>\n",
       "    </tr>\n",
       "    <tr>\n",
       "      <th>pressure</th>\n",
       "      <th>level</th>\n",
       "      <th></th>\n",
       "      <th></th>\n",
       "      <th></th>\n",
       "    </tr>\n",
       "  </thead>\n",
       "  <tbody>\n",
       "    <tr>\n",
       "      <th>0.0000</th>\n",
       "      <th>1</th>\n",
       "      <td>-35.017092</td>\n",
       "      <td>0.000000</td>\n",
       "      <td>-35.017092</td>\n",
       "    </tr>\n",
       "    <tr>\n",
       "      <th>1.0685</th>\n",
       "      <th>24</th>\n",
       "      <td>-35.016790</td>\n",
       "      <td>0.004570</td>\n",
       "      <td>-35.012219</td>\n",
       "    </tr>\n",
       "    <tr>\n",
       "      <th>1013.0000</th>\n",
       "      <th>76</th>\n",
       "      <td>-36.235408</td>\n",
       "      <td>2.613275</td>\n",
       "      <td>-33.622133</td>\n",
       "    </tr>\n",
       "  </tbody>\n",
       "</table>\n",
       "</div>"
      ],
      "text/plain": [
       "                      flug      fldg      fnetg\n",
       "pressure  level                                \n",
       "0.0000    1     -35.017092  0.000000 -35.017092\n",
       "1.0685    24    -35.016790  0.004570 -35.012219\n",
       "1013.0000 76    -36.235408  2.613275 -33.622133"
      ]
     },
     "metadata": {},
     "output_type": "display_data"
    },
    {
     "name": "stdout",
     "output_type": "stream",
     "text": [
      "Table. Fluxes. CRD\n"
     ]
    },
    {
     "data": {
      "text/html": [
       "<div>\n",
       "<style>\n",
       "    .dataframe thead tr:only-child th {\n",
       "        text-align: right;\n",
       "    }\n",
       "\n",
       "    .dataframe thead th {\n",
       "        text-align: left;\n",
       "    }\n",
       "\n",
       "    .dataframe tbody tr th {\n",
       "        vertical-align: top;\n",
       "    }\n",
       "</style>\n",
       "<table border=\"1\" class=\"dataframe\">\n",
       "  <thead>\n",
       "    <tr style=\"text-align: right;\">\n",
       "      <th></th>\n",
       "      <th></th>\n",
       "      <th>flug</th>\n",
       "      <th>fldg</th>\n",
       "      <th>fnetg</th>\n",
       "    </tr>\n",
       "    <tr>\n",
       "      <th>pressure</th>\n",
       "      <th>level</th>\n",
       "      <th></th>\n",
       "      <th></th>\n",
       "      <th></th>\n",
       "    </tr>\n",
       "  </thead>\n",
       "  <tbody>\n",
       "    <tr>\n",
       "      <th>1.000000e-08</th>\n",
       "      <th>1</th>\n",
       "      <td>-35.064029</td>\n",
       "      <td>0.000002</td>\n",
       "      <td>-35.064028</td>\n",
       "    </tr>\n",
       "    <tr>\n",
       "      <th>1.068500e+00</th>\n",
       "      <th>24</th>\n",
       "      <td>-35.063219</td>\n",
       "      <td>0.004008</td>\n",
       "      <td>-35.059211</td>\n",
       "    </tr>\n",
       "    <tr>\n",
       "      <th>1.013000e+03</th>\n",
       "      <th>76</th>\n",
       "      <td>-36.235410</td>\n",
       "      <td>2.607666</td>\n",
       "      <td>-33.627744</td>\n",
       "    </tr>\n",
       "  </tbody>\n",
       "</table>\n",
       "</div>"
      ],
      "text/plain": [
       "                         flug      fldg      fnetg\n",
       "pressure     level                                \n",
       "1.000000e-08 1     -35.064029  0.000002 -35.064028\n",
       "1.068500e+00 24    -35.063219  0.004008 -35.059211\n",
       "1.013000e+03 76    -36.235410  2.607666 -33.627744"
      ]
     },
     "metadata": {},
     "output_type": "display_data"
    },
    {
     "name": "stdout",
     "output_type": "stream",
     "text": [
      "Table. Fluxes. CLIRAD\n"
     ]
    },
    {
     "data": {
      "text/html": [
       "<div>\n",
       "<style>\n",
       "    .dataframe thead tr:only-child th {\n",
       "        text-align: right;\n",
       "    }\n",
       "\n",
       "    .dataframe thead th {\n",
       "        text-align: left;\n",
       "    }\n",
       "\n",
       "    .dataframe tbody tr th {\n",
       "        vertical-align: top;\n",
       "    }\n",
       "</style>\n",
       "<table border=\"1\" class=\"dataframe\">\n",
       "  <thead>\n",
       "    <tr style=\"text-align: right;\">\n",
       "      <th></th>\n",
       "      <th></th>\n",
       "      <th>flug</th>\n",
       "      <th>fldg</th>\n",
       "      <th>fnetg</th>\n",
       "    </tr>\n",
       "    <tr>\n",
       "      <th>pressure</th>\n",
       "      <th>level</th>\n",
       "      <th></th>\n",
       "      <th></th>\n",
       "      <th></th>\n",
       "    </tr>\n",
       "  </thead>\n",
       "  <tbody>\n",
       "    <tr>\n",
       "      <th>0.0000</th>\n",
       "      <th>1</th>\n",
       "      <td>6.061600e-04</td>\n",
       "      <td>0.000000</td>\n",
       "      <td>0.000606</td>\n",
       "    </tr>\n",
       "    <tr>\n",
       "      <th>1.0685</th>\n",
       "      <th>24</th>\n",
       "      <td>1.517900e-04</td>\n",
       "      <td>0.000175</td>\n",
       "      <td>0.000326</td>\n",
       "    </tr>\n",
       "    <tr>\n",
       "      <th>1013.0000</th>\n",
       "      <th>76</th>\n",
       "      <td>1.700000e-07</td>\n",
       "      <td>-0.093457</td>\n",
       "      <td>-0.093456</td>\n",
       "    </tr>\n",
       "  </tbody>\n",
       "</table>\n",
       "</div>"
      ],
      "text/plain": [
       "                         flug      fldg     fnetg\n",
       "pressure  level                                  \n",
       "0.0000    1      6.061600e-04  0.000000  0.000606\n",
       "1.0685    24     1.517900e-04  0.000175  0.000326\n",
       "1013.0000 76     1.700000e-07 -0.093457 -0.093456"
      ]
     },
     "metadata": {},
     "output_type": "display_data"
    },
    {
     "name": "stdout",
     "output_type": "stream",
     "text": [
      "Table. Fluxes. (CRD) - (WGT igg=10 wgt_flux=1)\n"
     ]
    },
    {
     "data": {
      "text/html": [
       "<div>\n",
       "<style>\n",
       "    .dataframe thead tr:only-child th {\n",
       "        text-align: right;\n",
       "    }\n",
       "\n",
       "    .dataframe thead th {\n",
       "        text-align: left;\n",
       "    }\n",
       "\n",
       "    .dataframe tbody tr th {\n",
       "        vertical-align: top;\n",
       "    }\n",
       "</style>\n",
       "<table border=\"1\" class=\"dataframe\">\n",
       "  <thead>\n",
       "    <tr style=\"text-align: right;\">\n",
       "      <th></th>\n",
       "      <th></th>\n",
       "      <th>flug</th>\n",
       "      <th>fldg</th>\n",
       "      <th>fnetg</th>\n",
       "    </tr>\n",
       "    <tr>\n",
       "      <th>pressure</th>\n",
       "      <th>level</th>\n",
       "      <th></th>\n",
       "      <th></th>\n",
       "      <th></th>\n",
       "    </tr>\n",
       "  </thead>\n",
       "  <tbody>\n",
       "    <tr>\n",
       "      <th>0.0000</th>\n",
       "      <th>1</th>\n",
       "      <td>-0.046331</td>\n",
       "      <td>0.000002</td>\n",
       "      <td>-0.046330</td>\n",
       "    </tr>\n",
       "    <tr>\n",
       "      <th>1.0685</th>\n",
       "      <th>24</th>\n",
       "      <td>-0.046277</td>\n",
       "      <td>-0.000388</td>\n",
       "      <td>-0.046666</td>\n",
       "    </tr>\n",
       "    <tr>\n",
       "      <th>1013.0000</th>\n",
       "      <th>76</th>\n",
       "      <td>-0.000002</td>\n",
       "      <td>-0.099065</td>\n",
       "      <td>-0.099067</td>\n",
       "    </tr>\n",
       "  </tbody>\n",
       "</table>\n",
       "</div>"
      ],
      "text/plain": [
       "                     flug      fldg     fnetg\n",
       "pressure  level                              \n",
       "0.0000    1     -0.046331  0.000002 -0.046330\n",
       "1.0685    24    -0.046277 -0.000388 -0.046666\n",
       "1013.0000 76    -0.000002 -0.099065 -0.099067"
      ]
     },
     "metadata": {},
     "output_type": "display_data"
    },
    {
     "name": "stdout",
     "output_type": "stream",
     "text": [
      "Table. Fluxes. (CLIRAD) - (WGT igg=10 wgt_flux=1)\n"
     ]
    },
    {
     "data": {
      "text/html": [
       "<a id=\"Best-fit_Parameters\"></a>"
      ],
      "text/plain": [
       "<IPython.core.display.HTML object>"
      ]
     },
     "metadata": {},
     "output_type": "display_data"
    },
    {
     "data": {
      "text/markdown": [
       "# Best-fit Parameters"
      ],
      "text/plain": [
       "<IPython.core.display.Markdown object>"
      ]
     },
     "metadata": {},
     "output_type": "display_data"
    },
    {
     "name": "stdout",
     "output_type": "stream",
     "text": [
      "Best-fit values for each (gas, band)\n",
      "------------------------------------\n",
      "o n2o band3a\n",
      "  atmpro = mls\n",
      "  band = 3a\n",
      "  commitnumber = a06b618\n",
      "  conc = 3.2e-07\n",
      "  dv = 0.001\n",
      "  klin = 2.22e-20\n",
      "  molecule = n2o\n",
      "  ng_adju = [0, 0]\n",
      "  ng_refs = [1, 2]\n",
      "  nv = 1000\n",
      "  option_compute_btable = 0\n",
      "  option_compute_ktable = 1\n",
      "  option_wgt_flux = 1\n",
      "  option_wgt_k = 1\n",
      "  ref_pts = [(1, 250), (500, 250)]\n",
      "  tsfc = 294\n",
      "  vmax = 620\n",
      "  vmin = 540\n",
      "  w_diffuse = [(1.8,), (1.66, 1.8)]\n",
      "  wgt = [(0.9,), (0.5, 0.95)]\n"
     ]
    }
   ],
   "source": [
    "script()"
   ]
  },
  {
   "cell_type": "code",
   "execution_count": 13,
   "metadata": {
    "collapsed": true
   },
   "outputs": [
    {
     "data": {
      "text/html": [
       "<script>\n",
       "code_show=true; \n",
       "function code_toggle() {\n",
       " if (code_show){\n",
       " $('div.input').hide();\n",
       " } else {\n",
       " $('div.input').show();\n",
       " }\n",
       " code_show = !code_show\n",
       "} \n",
       "$( document ).ready(code_toggle);\n",
       "</script>\n",
       "<form action=\"javascript:code_toggle()\"><input type=\"submit\" value=\"Click here to toggle on/off the raw code.\"></form>"
      ],
      "text/plain": [
       "<IPython.core.display.HTML object>"
      ]
     },
     "execution_count": 13,
     "metadata": {},
     "output_type": "execute_result"
    }
   ],
   "source": [
    "display.HTML('''<script>\n",
    "code_show=true; \n",
    "function code_toggle() {\n",
    " if (code_show){\n",
    " $('div.input').hide();\n",
    " } else {\n",
    " $('div.input').show();\n",
    " }\n",
    " code_show = !code_show\n",
    "} \n",
    "$( document ).ready(code_toggle);\n",
    "</script>\n",
    "<form action=\"javascript:code_toggle()\"><input type=\"submit\" value=\"Click here to toggle on/off the raw code.\"></form>''')"
   ]
  }
 ],
 "metadata": {
  "kernelspec": {
   "display_name": "Python 3",
   "language": "python",
   "name": "python3"
  },
  "language_info": {
   "codemirror_mode": {
    "name": "ipython",
    "version": 3
   },
   "file_extension": ".py",
   "mimetype": "text/x-python",
   "name": "python",
   "nbconvert_exporter": "python",
   "pygments_lexer": "ipython3",
   "version": "3.6.1"
  }
 },
 "nbformat": 4,
 "nbformat_minor": 2
}
