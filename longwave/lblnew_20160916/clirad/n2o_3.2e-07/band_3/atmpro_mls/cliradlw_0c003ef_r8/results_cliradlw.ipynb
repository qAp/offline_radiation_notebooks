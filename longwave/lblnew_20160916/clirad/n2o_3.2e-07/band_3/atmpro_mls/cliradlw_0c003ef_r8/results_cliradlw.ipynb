{
 "cells": [
  {
   "cell_type": "code",
   "execution_count": 1,
   "metadata": {
    "collapsed": true
   },
   "outputs": [],
   "source": [
    "%matplotlib inline\n",
    "import os\n",
    "import re\n",
    "import io\n",
    "import itertools\n",
    "import pprint\n",
    "\n",
    "from bokeh.io import output_notebook, show\n",
    "from bokeh.layouts import gridplot\n",
    "from bokeh.plotting import figure\n",
    "from bokeh.models import Range1d, Legend\n",
    "from bokeh.palettes import all_palettes\n",
    "\n",
    "import matplotlib\n",
    "import matplotlib.pyplot as plt\n",
    "import numpy as np\n",
    "import pandas as pd\n",
    "import xarray as xr\n",
    "\n",
    "import climatools.lblnew.bestfit_params as bestfits\n",
    "from climatools.lblnew import setup_bestfit, setup_overlap\n",
    "import climatools.lblnew.pipeline as pipe_lblnew\n",
    "import climatools.cliradlw.setup as setup_cliradlw\n",
    "import climatools.cliradlw.pipeline as pipe_cliradlw\n",
    "\n",
    "import climatools.html.html as climahtml\n",
    "from climatools.lblnew.dataio import *\n",
    "from climatools.plot.plot import *\n",
    "\n",
    "\n",
    "import IPython.display as display"
   ]
  },
  {
   "cell_type": "code",
   "execution_count": 2,
   "metadata": {
    "collapsed": true
   },
   "outputs": [],
   "source": [
    "%run param.py"
   ]
  },
  {
   "cell_type": "code",
   "execution_count": 3,
   "metadata": {
    "collapsed": true
   },
   "outputs": [],
   "source": [
    "def load_output_file(path_csv):\n",
    "    '''\n",
    "    Load lblnew output .csv file to xarray.Dataset\n",
    "    \n",
    "    Parameters\n",
    "    ----------\n",
    "    path_csv: str\n",
    "              Path to the .csv file to be loaded.\n",
    "    ds: xarray.Dataset\n",
    "        Data in the input file in the form of an xarray.Dataset.\n",
    "    '''\n",
    "    toindex = ['band', 'pressure', 'igg', 'g']    \n",
    "    df = pd.read_csv(path_csv, sep=r'\\s+')\n",
    "    df = df.set_index([i for i in toindex if i in df.columns])\n",
    "    df = df.rename(columns={'sfu': 'flug',\n",
    "                            'sfd': 'fldg',\n",
    "                            'fnet': 'fnetg',\n",
    "                            'coolr': 'coolrg'})\n",
    "    ds = xr.Dataset.from_dataframe(df)\n",
    "\n",
    "    for l in ('level', 'layer'):\n",
    "        if l in ds.data_vars:\n",
    "            if len(ds[l].dims) > 1:\n",
    "                surface = {d: 0 for d in ds.dims if d != 'pressure'}\n",
    "                coord_level = ds[l][surface]\n",
    "                ds.coords[l] = ('pressure', coord_level)\n",
    "            else:\n",
    "                ds.coords[l] = ('pressure', ds[l])\n",
    "    \n",
    "    return ds"
   ]
  },
  {
   "cell_type": "code",
   "execution_count": 4,
   "metadata": {
    "collapsed": true
   },
   "outputs": [],
   "source": [
    "def lblnew_setup(param=None):\n",
    "    if 'ng_refs' in param:\n",
    "        return {'setup': setup_bestfit,\n",
    "                'fname_flux_crd': 'output_flux.dat',\n",
    "                'fname_cool_crd': 'output_coolr.dat',\n",
    "                'fname_flux_wgt': 'output_wfluxg.dat',\n",
    "                'fname_cool_wgt': 'output_wcoolrg.dat'}\n",
    "    else:\n",
    "        return {'setup': setup_overlap,\n",
    "                'fname_flux_crd': 'output_flux.dat',\n",
    "                'fname_cool_crd': 'output_coolr.dat',\n",
    "                'fname_flux_wgt': 'output_wflux.dat',\n",
    "                'fname_cool_wgt': 'output_wcoolr.dat'}\n",
    "\n",
    "    \n",
    "def load_lblnew_data(param):\n",
    "    \n",
    "    fname_dsname = [('fname_flux_crd', 'ds_flux_crd'),\n",
    "                    ('fname_cool_crd', 'ds_cool_crd'),\n",
    "                    ('fname_flux_wgt', 'ds_flux_wgt'),\n",
    "                    ('fname_cool_wgt', 'ds_cool_wgt')]\n",
    "    \n",
    "    d = lblnew_setup(param)\n",
    "    dir_fortran = pipe_lblnew.get_dir_case(param, setup=d['setup'])\n",
    "    \n",
    "    data_dict = {}\n",
    "    for fname, dsname in fname_dsname:\n",
    "        fpath = os.path.join(dir_fortran, d[fname])\n",
    "        data_dict[dsname] = load_output_file(fpath)\n",
    "    return data_dict\n",
    "    \n",
    "\n",
    "    \n",
    "    "
   ]
  },
  {
   "cell_type": "code",
   "execution_count": 5,
   "metadata": {
    "collapsed": true
   },
   "outputs": [],
   "source": [
    "d = load_lblnew_data(PARAM_LBLNEW)\n",
    "\n",
    "DS_FLUX_CRD = d['ds_flux_crd']\n",
    "DS_COOL_CRD = d['ds_cool_crd']\n",
    "DS_FLUX_WGT = d['ds_flux_wgt']\n",
    "DS_COOL_WGT = d['ds_cool_wgt']"
   ]
  },
  {
   "cell_type": "code",
   "execution_count": 6,
   "metadata": {
    "collapsed": true
   },
   "outputs": [],
   "source": [
    "DIR_FORTRAN = pipe_cliradlw.get_fortran_dir(PARAM, \n",
    "                                            setup=setup_cliradlw)\n",
    "\n",
    "PATH_FLUX = os.path.join(DIR_FORTRAN, 'output_flux.dat')\n",
    "PATH_COOL = os.path.join(DIR_FORTRAN, 'output_coolr.dat')\n",
    "\n",
    "DS_FLUX = load_output_file(PATH_FLUX)\n",
    "DS_COOL = load_output_file(PATH_COOL)"
   ]
  },
  {
   "cell_type": "code",
   "execution_count": 7,
   "metadata": {
    "collapsed": true
   },
   "outputs": [
    {
     "data": {
      "text/html": [
       "\n",
       "    <div class=\"bk-root\">\n",
       "        <a href=\"https://bokeh.pydata.org\" target=\"_blank\" class=\"bk-logo bk-logo-small bk-logo-notebook\"></a>\n",
       "        <span id=\"ca258251-33f4-4f7b-96d9-14a11cc620ba\">Loading BokehJS ...</span>\n",
       "    </div>"
      ]
     },
     "metadata": {},
     "output_type": "display_data"
    },
    {
     "data": {
      "application/javascript": [
       "\n",
       "(function(root) {\n",
       "  function now() {\n",
       "    return new Date();\n",
       "  }\n",
       "\n",
       "  var force = true;\n",
       "\n",
       "  if (typeof (root._bokeh_onload_callbacks) === \"undefined\" || force === true) {\n",
       "    root._bokeh_onload_callbacks = [];\n",
       "    root._bokeh_is_loading = undefined;\n",
       "  }\n",
       "\n",
       "  var JS_MIME_TYPE = 'application/javascript';\n",
       "  var HTML_MIME_TYPE = 'text/html';\n",
       "  var EXEC_MIME_TYPE = 'application/vnd.bokehjs_exec.v0+json';\n",
       "  var CLASS_NAME = 'output_bokeh rendered_html';\n",
       "\n",
       "  /**\n",
       "   * Render data to the DOM node\n",
       "   */\n",
       "  function render(props, node) {\n",
       "    var script = document.createElement(\"script\");\n",
       "    node.appendChild(script);\n",
       "  }\n",
       "\n",
       "  /**\n",
       "   * Handle when an output is cleared or removed\n",
       "   */\n",
       "  function handleClearOutput(event, handle) {\n",
       "    var cell = handle.cell;\n",
       "\n",
       "    var id = cell.output_area._bokeh_element_id;\n",
       "    var server_id = cell.output_area._bokeh_server_id;\n",
       "    // Clean up Bokeh references\n",
       "    if (id !== undefined) {\n",
       "      Bokeh.index[id].model.document.clear();\n",
       "      delete Bokeh.index[id];\n",
       "    }\n",
       "\n",
       "    if (server_id !== undefined) {\n",
       "      // Clean up Bokeh references\n",
       "      var cmd = \"from bokeh.io.state import curstate; print(curstate().uuid_to_server['\" + server_id + \"'].get_sessions()[0].document.roots[0]._id)\";\n",
       "      cell.notebook.kernel.execute(cmd, {\n",
       "        iopub: {\n",
       "          output: function(msg) {\n",
       "            var element_id = msg.content.text.trim();\n",
       "            Bokeh.index[element_id].model.document.clear();\n",
       "            delete Bokeh.index[element_id];\n",
       "          }\n",
       "        }\n",
       "      });\n",
       "      // Destroy server and session\n",
       "      var cmd = \"import bokeh.io.notebook as ion; ion.destroy_server('\" + server_id + \"')\";\n",
       "      cell.notebook.kernel.execute(cmd);\n",
       "    }\n",
       "  }\n",
       "\n",
       "  /**\n",
       "   * Handle when a new output is added\n",
       "   */\n",
       "  function handleAddOutput(event, handle) {\n",
       "    var output_area = handle.output_area;\n",
       "    var output = handle.output;\n",
       "\n",
       "    // limit handleAddOutput to display_data with EXEC_MIME_TYPE content only\n",
       "    if ((output.output_type != \"display_data\") || (!output.data.hasOwnProperty(EXEC_MIME_TYPE))) {\n",
       "      return\n",
       "    }\n",
       "\n",
       "    var toinsert = output_area.element.find(\".\" + CLASS_NAME.split(' ')[0]);\n",
       "\n",
       "    if (output.metadata[EXEC_MIME_TYPE][\"id\"] !== undefined) {\n",
       "      toinsert[0].firstChild.textContent = output.data[JS_MIME_TYPE];\n",
       "      // store reference to embed id on output_area\n",
       "      output_area._bokeh_element_id = output.metadata[EXEC_MIME_TYPE][\"id\"];\n",
       "    }\n",
       "    if (output.metadata[EXEC_MIME_TYPE][\"server_id\"] !== undefined) {\n",
       "      var bk_div = document.createElement(\"div\");\n",
       "      bk_div.innerHTML = output.data[HTML_MIME_TYPE];\n",
       "      var script_attrs = bk_div.children[0].attributes;\n",
       "      for (var i = 0; i < script_attrs.length; i++) {\n",
       "        toinsert[0].firstChild.setAttribute(script_attrs[i].name, script_attrs[i].value);\n",
       "      }\n",
       "      // store reference to server id on output_area\n",
       "      output_area._bokeh_server_id = output.metadata[EXEC_MIME_TYPE][\"server_id\"];\n",
       "    }\n",
       "  }\n",
       "\n",
       "  function register_renderer(events, OutputArea) {\n",
       "\n",
       "    function append_mime(data, metadata, element) {\n",
       "      // create a DOM node to render to\n",
       "      var toinsert = this.create_output_subarea(\n",
       "        metadata,\n",
       "        CLASS_NAME,\n",
       "        EXEC_MIME_TYPE\n",
       "      );\n",
       "      this.keyboard_manager.register_events(toinsert);\n",
       "      // Render to node\n",
       "      var props = {data: data, metadata: metadata[EXEC_MIME_TYPE]};\n",
       "      render(props, toinsert[0]);\n",
       "      element.append(toinsert);\n",
       "      return toinsert\n",
       "    }\n",
       "\n",
       "    /* Handle when an output is cleared or removed */\n",
       "    events.on('clear_output.CodeCell', handleClearOutput);\n",
       "    events.on('delete.Cell', handleClearOutput);\n",
       "\n",
       "    /* Handle when a new output is added */\n",
       "    events.on('output_added.OutputArea', handleAddOutput);\n",
       "\n",
       "    /**\n",
       "     * Register the mime type and append_mime function with output_area\n",
       "     */\n",
       "    OutputArea.prototype.register_mime_type(EXEC_MIME_TYPE, append_mime, {\n",
       "      /* Is output safe? */\n",
       "      safe: true,\n",
       "      /* Index of renderer in `output_area.display_order` */\n",
       "      index: 0\n",
       "    });\n",
       "  }\n",
       "\n",
       "  // register the mime type if in Jupyter Notebook environment and previously unregistered\n",
       "  if (root.Jupyter !== undefined) {\n",
       "    var events = require('base/js/events');\n",
       "    var OutputArea = require('notebook/js/outputarea').OutputArea;\n",
       "\n",
       "    if (OutputArea.prototype.mime_types().indexOf(EXEC_MIME_TYPE) == -1) {\n",
       "      register_renderer(events, OutputArea);\n",
       "    }\n",
       "  }\n",
       "\n",
       "  \n",
       "  if (typeof (root._bokeh_timeout) === \"undefined\" || force === true) {\n",
       "    root._bokeh_timeout = Date.now() + 5000;\n",
       "    root._bokeh_failed_load = false;\n",
       "  }\n",
       "\n",
       "  var NB_LOAD_WARNING = {'data': {'text/html':\n",
       "     \"<div style='background-color: #fdd'>\\n\"+\n",
       "     \"<p>\\n\"+\n",
       "     \"BokehJS does not appear to have successfully loaded. If loading BokehJS from CDN, this \\n\"+\n",
       "     \"may be due to a slow or bad network connection. Possible fixes:\\n\"+\n",
       "     \"</p>\\n\"+\n",
       "     \"<ul>\\n\"+\n",
       "     \"<li>re-rerun `output_notebook()` to attempt to load from CDN again, or</li>\\n\"+\n",
       "     \"<li>use INLINE resources instead, as so:</li>\\n\"+\n",
       "     \"</ul>\\n\"+\n",
       "     \"<code>\\n\"+\n",
       "     \"from bokeh.resources import INLINE\\n\"+\n",
       "     \"output_notebook(resources=INLINE)\\n\"+\n",
       "     \"</code>\\n\"+\n",
       "     \"</div>\"}};\n",
       "\n",
       "  function display_loaded() {\n",
       "    var el = document.getElementById(\"ca258251-33f4-4f7b-96d9-14a11cc620ba\");\n",
       "    if (el != null) {\n",
       "      el.textContent = \"BokehJS is loading...\";\n",
       "    }\n",
       "    if (root.Bokeh !== undefined) {\n",
       "      if (el != null) {\n",
       "        el.textContent = \"BokehJS \" + root.Bokeh.version + \" successfully loaded.\";\n",
       "      }\n",
       "    } else if (Date.now() < root._bokeh_timeout) {\n",
       "      setTimeout(display_loaded, 100)\n",
       "    }\n",
       "  }\n",
       "\n",
       "\n",
       "  function run_callbacks() {\n",
       "    try {\n",
       "      root._bokeh_onload_callbacks.forEach(function(callback) { callback() });\n",
       "    }\n",
       "    finally {\n",
       "      delete root._bokeh_onload_callbacks\n",
       "    }\n",
       "    console.info(\"Bokeh: all callbacks have finished\");\n",
       "  }\n",
       "\n",
       "  function load_libs(js_urls, callback) {\n",
       "    root._bokeh_onload_callbacks.push(callback);\n",
       "    if (root._bokeh_is_loading > 0) {\n",
       "      console.log(\"Bokeh: BokehJS is being loaded, scheduling callback at\", now());\n",
       "      return null;\n",
       "    }\n",
       "    if (js_urls == null || js_urls.length === 0) {\n",
       "      run_callbacks();\n",
       "      return null;\n",
       "    }\n",
       "    console.log(\"Bokeh: BokehJS not loaded, scheduling load and callback at\", now());\n",
       "    root._bokeh_is_loading = js_urls.length;\n",
       "    for (var i = 0; i < js_urls.length; i++) {\n",
       "      var url = js_urls[i];\n",
       "      var s = document.createElement('script');\n",
       "      s.src = url;\n",
       "      s.async = false;\n",
       "      s.onreadystatechange = s.onload = function() {\n",
       "        root._bokeh_is_loading--;\n",
       "        if (root._bokeh_is_loading === 0) {\n",
       "          console.log(\"Bokeh: all BokehJS libraries loaded\");\n",
       "          run_callbacks()\n",
       "        }\n",
       "      };\n",
       "      s.onerror = function() {\n",
       "        console.warn(\"failed to load library \" + url);\n",
       "      };\n",
       "      console.log(\"Bokeh: injecting script tag for BokehJS library: \", url);\n",
       "      document.getElementsByTagName(\"head\")[0].appendChild(s);\n",
       "    }\n",
       "  };var element = document.getElementById(\"ca258251-33f4-4f7b-96d9-14a11cc620ba\");\n",
       "  if (element == null) {\n",
       "    console.log(\"Bokeh: ERROR: autoload.js configured with elementid 'ca258251-33f4-4f7b-96d9-14a11cc620ba' but no matching script tag was found. \")\n",
       "    return false;\n",
       "  }\n",
       "\n",
       "  var js_urls = [\"https://cdn.pydata.org/bokeh/release/bokeh-0.12.14.min.js\", \"https://cdn.pydata.org/bokeh/release/bokeh-widgets-0.12.14.min.js\", \"https://cdn.pydata.org/bokeh/release/bokeh-tables-0.12.14.min.js\", \"https://cdn.pydata.org/bokeh/release/bokeh-gl-0.12.14.min.js\"];\n",
       "\n",
       "  var inline_js = [\n",
       "    function(Bokeh) {\n",
       "      Bokeh.set_log_level(\"info\");\n",
       "    },\n",
       "    \n",
       "    function(Bokeh) {\n",
       "      \n",
       "    },\n",
       "    function(Bokeh) {\n",
       "      console.log(\"Bokeh: injecting CSS: https://cdn.pydata.org/bokeh/release/bokeh-0.12.14.min.css\");\n",
       "      Bokeh.embed.inject_css(\"https://cdn.pydata.org/bokeh/release/bokeh-0.12.14.min.css\");\n",
       "      console.log(\"Bokeh: injecting CSS: https://cdn.pydata.org/bokeh/release/bokeh-widgets-0.12.14.min.css\");\n",
       "      Bokeh.embed.inject_css(\"https://cdn.pydata.org/bokeh/release/bokeh-widgets-0.12.14.min.css\");\n",
       "      console.log(\"Bokeh: injecting CSS: https://cdn.pydata.org/bokeh/release/bokeh-tables-0.12.14.min.css\");\n",
       "      Bokeh.embed.inject_css(\"https://cdn.pydata.org/bokeh/release/bokeh-tables-0.12.14.min.css\");\n",
       "    }\n",
       "  ];\n",
       "\n",
       "  function run_inline_js() {\n",
       "    \n",
       "    if ((root.Bokeh !== undefined) || (force === true)) {\n",
       "      for (var i = 0; i < inline_js.length; i++) {\n",
       "        inline_js[i].call(root, root.Bokeh);\n",
       "      }if (force === true) {\n",
       "        display_loaded();\n",
       "      }} else if (Date.now() < root._bokeh_timeout) {\n",
       "      setTimeout(run_inline_js, 100);\n",
       "    } else if (!root._bokeh_failed_load) {\n",
       "      console.log(\"Bokeh: BokehJS failed to load within specified timeout.\");\n",
       "      root._bokeh_failed_load = true;\n",
       "    } else if (force !== true) {\n",
       "      var cell = $(document.getElementById(\"ca258251-33f4-4f7b-96d9-14a11cc620ba\")).parents('.cell').data().cell;\n",
       "      cell.output_area.append_execute_result(NB_LOAD_WARNING)\n",
       "    }\n",
       "\n",
       "  }\n",
       "\n",
       "  if (root._bokeh_is_loading === 0) {\n",
       "    console.log(\"Bokeh: BokehJS loaded, going straight to plotting\");\n",
       "    run_inline_js();\n",
       "  } else {\n",
       "    load_libs(js_urls, function() {\n",
       "      console.log(\"Bokeh: BokehJS plotting callback run at\", now());\n",
       "      run_inline_js();\n",
       "    });\n",
       "  }\n",
       "}(window));"
      ],
      "application/vnd.bokehjs_load.v0+json": "\n(function(root) {\n  function now() {\n    return new Date();\n  }\n\n  var force = true;\n\n  if (typeof (root._bokeh_onload_callbacks) === \"undefined\" || force === true) {\n    root._bokeh_onload_callbacks = [];\n    root._bokeh_is_loading = undefined;\n  }\n\n  \n\n  \n  if (typeof (root._bokeh_timeout) === \"undefined\" || force === true) {\n    root._bokeh_timeout = Date.now() + 5000;\n    root._bokeh_failed_load = false;\n  }\n\n  var NB_LOAD_WARNING = {'data': {'text/html':\n     \"<div style='background-color: #fdd'>\\n\"+\n     \"<p>\\n\"+\n     \"BokehJS does not appear to have successfully loaded. If loading BokehJS from CDN, this \\n\"+\n     \"may be due to a slow or bad network connection. Possible fixes:\\n\"+\n     \"</p>\\n\"+\n     \"<ul>\\n\"+\n     \"<li>re-rerun `output_notebook()` to attempt to load from CDN again, or</li>\\n\"+\n     \"<li>use INLINE resources instead, as so:</li>\\n\"+\n     \"</ul>\\n\"+\n     \"<code>\\n\"+\n     \"from bokeh.resources import INLINE\\n\"+\n     \"output_notebook(resources=INLINE)\\n\"+\n     \"</code>\\n\"+\n     \"</div>\"}};\n\n  function display_loaded() {\n    var el = document.getElementById(\"ca258251-33f4-4f7b-96d9-14a11cc620ba\");\n    if (el != null) {\n      el.textContent = \"BokehJS is loading...\";\n    }\n    if (root.Bokeh !== undefined) {\n      if (el != null) {\n        el.textContent = \"BokehJS \" + root.Bokeh.version + \" successfully loaded.\";\n      }\n    } else if (Date.now() < root._bokeh_timeout) {\n      setTimeout(display_loaded, 100)\n    }\n  }\n\n\n  function run_callbacks() {\n    try {\n      root._bokeh_onload_callbacks.forEach(function(callback) { callback() });\n    }\n    finally {\n      delete root._bokeh_onload_callbacks\n    }\n    console.info(\"Bokeh: all callbacks have finished\");\n  }\n\n  function load_libs(js_urls, callback) {\n    root._bokeh_onload_callbacks.push(callback);\n    if (root._bokeh_is_loading > 0) {\n      console.log(\"Bokeh: BokehJS is being loaded, scheduling callback at\", now());\n      return null;\n    }\n    if (js_urls == null || js_urls.length === 0) {\n      run_callbacks();\n      return null;\n    }\n    console.log(\"Bokeh: BokehJS not loaded, scheduling load and callback at\", now());\n    root._bokeh_is_loading = js_urls.length;\n    for (var i = 0; i < js_urls.length; i++) {\n      var url = js_urls[i];\n      var s = document.createElement('script');\n      s.src = url;\n      s.async = false;\n      s.onreadystatechange = s.onload = function() {\n        root._bokeh_is_loading--;\n        if (root._bokeh_is_loading === 0) {\n          console.log(\"Bokeh: all BokehJS libraries loaded\");\n          run_callbacks()\n        }\n      };\n      s.onerror = function() {\n        console.warn(\"failed to load library \" + url);\n      };\n      console.log(\"Bokeh: injecting script tag for BokehJS library: \", url);\n      document.getElementsByTagName(\"head\")[0].appendChild(s);\n    }\n  };var element = document.getElementById(\"ca258251-33f4-4f7b-96d9-14a11cc620ba\");\n  if (element == null) {\n    console.log(\"Bokeh: ERROR: autoload.js configured with elementid 'ca258251-33f4-4f7b-96d9-14a11cc620ba' but no matching script tag was found. \")\n    return false;\n  }\n\n  var js_urls = [\"https://cdn.pydata.org/bokeh/release/bokeh-0.12.14.min.js\", \"https://cdn.pydata.org/bokeh/release/bokeh-widgets-0.12.14.min.js\", \"https://cdn.pydata.org/bokeh/release/bokeh-tables-0.12.14.min.js\", \"https://cdn.pydata.org/bokeh/release/bokeh-gl-0.12.14.min.js\"];\n\n  var inline_js = [\n    function(Bokeh) {\n      Bokeh.set_log_level(\"info\");\n    },\n    \n    function(Bokeh) {\n      \n    },\n    function(Bokeh) {\n      console.log(\"Bokeh: injecting CSS: https://cdn.pydata.org/bokeh/release/bokeh-0.12.14.min.css\");\n      Bokeh.embed.inject_css(\"https://cdn.pydata.org/bokeh/release/bokeh-0.12.14.min.css\");\n      console.log(\"Bokeh: injecting CSS: https://cdn.pydata.org/bokeh/release/bokeh-widgets-0.12.14.min.css\");\n      Bokeh.embed.inject_css(\"https://cdn.pydata.org/bokeh/release/bokeh-widgets-0.12.14.min.css\");\n      console.log(\"Bokeh: injecting CSS: https://cdn.pydata.org/bokeh/release/bokeh-tables-0.12.14.min.css\");\n      Bokeh.embed.inject_css(\"https://cdn.pydata.org/bokeh/release/bokeh-tables-0.12.14.min.css\");\n    }\n  ];\n\n  function run_inline_js() {\n    \n    if ((root.Bokeh !== undefined) || (force === true)) {\n      for (var i = 0; i < inline_js.length; i++) {\n        inline_js[i].call(root, root.Bokeh);\n      }if (force === true) {\n        display_loaded();\n      }} else if (Date.now() < root._bokeh_timeout) {\n      setTimeout(run_inline_js, 100);\n    } else if (!root._bokeh_failed_load) {\n      console.log(\"Bokeh: BokehJS failed to load within specified timeout.\");\n      root._bokeh_failed_load = true;\n    } else if (force !== true) {\n      var cell = $(document.getElementById(\"ca258251-33f4-4f7b-96d9-14a11cc620ba\")).parents('.cell').data().cell;\n      cell.output_area.append_execute_result(NB_LOAD_WARNING)\n    }\n\n  }\n\n  if (root._bokeh_is_loading === 0) {\n    console.log(\"Bokeh: BokehJS loaded, going straight to plotting\");\n    run_inline_js();\n  } else {\n    load_libs(js_urls, function() {\n      console.log(\"Bokeh: BokehJS plotting callback run at\", now());\n      run_inline_js();\n    });\n  }\n}(window));"
     },
     "metadata": {},
     "output_type": "display_data"
    }
   ],
   "source": [
    "output_notebook()"
   ]
  },
  {
   "cell_type": "code",
   "execution_count": 8,
   "metadata": {
    "collapsed": true
   },
   "outputs": [],
   "source": [
    "def fmt_cool(ds_in):\n",
    "    ds = ds_in.copy(deep=True)\n",
    "    if 'igg' in ds.dims:\n",
    "        ds = ds.sel(igg=1)\n",
    "\n",
    "    if 'g' in ds.dims:\n",
    "        ds = ds.sum('g')\n",
    "            \n",
    "    if 'band' in ds.dims:\n",
    "        try:\n",
    "            ds = ds.squeeze('band')\n",
    "        except ValueError:\n",
    "            ds = ds.sum('band')\n",
    "                \n",
    "    return ds['coolrg']\n",
    "\n",
    "\n",
    "def pltdata_cooling_1(ds_cool=None,\n",
    "                      ds_cool_crd=None, ds_cool_wgt=None):\n",
    "    \n",
    "\n",
    "\n",
    "    colors = all_palettes['Set1'][4]\n",
    "    data = [{'label': 'CLIRAD `coolr_bands`',\n",
    "             'srs': fmt_cool(ds_cool),\n",
    "             'line_dash': 'dashed', 'line_width': 5,\n",
    "             'color': colors[0], 'alpha': .6},\n",
    "            {'label': 'CRD',\n",
    "             'srs': fmt_cool(ds_cool_crd),\n",
    "             'line_dash': 'solid', 'line_width': 1.5,\n",
    "             'marker': 'circle', 'marker_size': 5,\n",
    "             'color': colors[2], 'alpha': 1,},\n",
    "            {'label': 'WGT igg=10 wgt_flux=2',\n",
    "             'srs': fmt_cool(ds_cool_wgt),\n",
    "             'line_dash': 'solid', 'line_width': 3,\n",
    "             'marker': 'square', 'marker_size': 5,\n",
    "             'color': colors[3], 'alpha': .6}]\n",
    "    return data\n",
    "\n",
    "\n",
    "def nice_xlims(pltdata=None, prange=None):\n",
    "    \n",
    "    def get_slice(srs):\n",
    "        return srs.sel(pressure=slice(*prange))\n",
    "    \n",
    "    srss = [d['srs'] for d in pltdata]\n",
    "    vmin = min([get_slice(srs).min() for srs in srss])\n",
    "    vmax = max([get_slice(srs).max() for srs in srss])\n",
    "    dv = (vmax - vmin) * .01\n",
    "    return float(vmin - dv), float(vmax + dv)\n",
    "    \n",
    "\n",
    "def plt_cooling_bokeh(pltdata=None):\n",
    "    '''\n",
    "    Plot a list of cooling rate profiles using bokeh.\n",
    "    '''\n",
    "    ymin = 1e-2 \n",
    "    ymax = 1020 \n",
    "        \n",
    "    p1 = figure(title=\"Linear pressure scale\", \n",
    "                plot_width=400)        \n",
    "    xmin, xmax = nice_xlims(pltdata, prange=(50, 1050))\n",
    "    for d in pltdata:\n",
    "        if 'marker' in d:\n",
    "            getattr(p1, d['marker'])(d['srs'].values, \n",
    "                    d['srs'].coords['pressure'].values,\n",
    "                    color=d['color'], alpha=.7)\n",
    "        p1.line(d['srs'].values, \n",
    "                d['srs'].coords['pressure'].values,\n",
    "                color=d['color'], alpha=d['alpha'], \n",
    "                line_width=d['line_width'], line_dash=d['line_dash'])\n",
    "    \n",
    "    p1.y_range = Range1d(ymax, ymin)\n",
    "    p1.yaxis.axis_label = 'pressure [mb]'   \n",
    "    p1.x_range = Range1d(xmin, xmax)\n",
    "    p1.xaxis.axis_label = 'cooling rate [K/day]'\n",
    "            \n",
    "    p2 = figure(title='Log pressure scale', y_axis_type='log',\n",
    "                plot_width=560)\n",
    "    xmin, xmax = nice_xlims(pltdata, prange=(.01, 200))\n",
    "    \n",
    "    rs = []\n",
    "    for d in pltdata:\n",
    "        rd = []\n",
    "        if 'marker' in d:\n",
    "            r_mark = getattr(p2, d['marker'])(d['srs'].values, \n",
    "                        d['srs'].coords['pressure'].values,\n",
    "                        color=d['color'], alpha=.7)\n",
    "            rd.append(r_mark)\n",
    "        r_line = p2.line(d['srs'].values, \n",
    "                    d['srs'].coords['pressure'].values,\n",
    "                    color=d['color'], alpha=d['alpha'], \n",
    "                    line_width=d['line_width'], line_dash=d['line_dash'])\n",
    "        rd.append(r_line)\n",
    "      \n",
    "        rs.append(rd)\n",
    "        \n",
    "    p2.y_range = Range1d(ymax, ymin)  \n",
    "    p2.yaxis.axis_label = 'pressure [mb]'\n",
    "    \n",
    "    p2.x_range = Range1d(xmin, xmax)\n",
    "    p2.xaxis.axis_label = 'cooling rate [K/day]'\n",
    "    \n",
    "    items = [(d['label'], r) for r, d in zip(rs, pltdata)]\n",
    "    legend = Legend(items=items, location=(10, -30))\n",
    "    legend.label_text_font_size = '8pt'\n",
    "    \n",
    "    p2.add_layout(legend, 'right')  \n",
    "    \n",
    "    show(gridplot(p1, p2, ncols=2, plot_height=500))\n",
    "    \n",
    "\n",
    "def script_plt_cooling():\n",
    "    pltdata = pltdata_cooling_1(\n",
    "        ds_cool=DS_COOL,\n",
    "        ds_cool_crd=DS_COOL_CRD,\n",
    "        ds_cool_wgt=DS_COOL_WGT)\n",
    "    plt_cooling_bokeh(pltdata=pltdata)\n",
    "    print('''FIGURE. Cooling rate profiles.''')"
   ]
  },
  {
   "cell_type": "code",
   "execution_count": 9,
   "metadata": {
    "collapsed": true
   },
   "outputs": [],
   "source": [
    "def fmt_flux(ds_in):\n",
    "    ds = ds_in.copy(deep=True)\n",
    "    \n",
    "    for l in ('level', 'layer'):\n",
    "        if l in ds.data_vars:\n",
    "            if len(ds[l].dims) > 1:\n",
    "                surface = {d: 0 for d in ds.dims if d != 'pressure'}\n",
    "                coord_level = ds[l][surface]\n",
    "                ds.coords[l] = ('pressure', coord_level)\n",
    "            else:\n",
    "                ds.coords[l] = ('pressure', ds[l])\n",
    "        \n",
    "    ds = ds.isel(pressure=[0, 23, -1])\n",
    "        \n",
    "    if 'igg' in ds.dims:\n",
    "        ds = ds.sel(igg=[1])\n",
    "        ds = ds.squeeze('igg').drop('igg')\n",
    "    \n",
    "    if 'g' in ds.dims:\n",
    "        ds = ds.sum('g')\n",
    "            \n",
    "    if 'band' in ds.dims:\n",
    "        try:\n",
    "            ds = ds.squeeze('band').drop('band')\n",
    "        except ValueError:\n",
    "            ds = ds.sum('band')\n",
    "                \n",
    "    df = ds.to_dataframe()\n",
    "    df = df.set_index('level', append=True)               \n",
    "    return df\n",
    "\n",
    "\n",
    "def tbdata_flux(ds_flux=None, ds_flux_crd=None, ds_flux_wgt=None):\n",
    "    ilevels = [0, 23, -1]\n",
    "            \n",
    "    benchmark = {'label': 'WGT igg=10 wgt_flux=1',\n",
    "                 'df': fmt_flux(ds_flux_wgt)}\n",
    "    \n",
    "    tbs = [{'label': 'CRD',\n",
    "            'df': fmt_flux(ds_flux_crd)},\n",
    "           {'label': 'CLIRAD',\n",
    "            'df': fmt_flux(ds_flux)}]\n",
    "    \n",
    "    data = {'benchmark': benchmark, 'others': tbs}\n",
    "    return data\n",
    "\n",
    "\n",
    "def tb_flux(tbdata=None):\n",
    "    benchmark = tbdata['benchmark']\n",
    "    others = tbdata['others']\n",
    "    \n",
    "    def show_tb(d=None):\n",
    "        display.display(d['df'])\n",
    "        print('Table.', 'Fluxes.', d['label'])\n",
    "        \n",
    "    def show_tbdiff(d0=None, d=None):\n",
    "        df = d['df']\n",
    "        df.index = d0['df'].index\n",
    "        display.display(df - d0['df'])\n",
    "        print('Table.', 'Fluxes.', \n",
    "              '({}) - ({})'.format(d['label'], d0['label']))\n",
    "        \n",
    "    show_tb(benchmark)\n",
    "    for d in others:\n",
    "        show_tb(d)\n",
    "        \n",
    "    for d in others:\n",
    "        show_tbdiff(d=d, d0=benchmark)\n",
    "        \n",
    "        \n",
    "def script_tb_flux():\n",
    "    data = tbdata_flux(ds_flux=DS_FLUX,\n",
    "                       ds_flux_crd=DS_FLUX_CRD,\n",
    "                       ds_flux_wgt=DS_FLUX_WGT)\n",
    "    tb_flux(tbdata=data)"
   ]
  },
  {
   "cell_type": "code",
   "execution_count": 10,
   "metadata": {
    "collapsed": true
   },
   "outputs": [],
   "source": [
    "def band_map():\n",
    "    '''\n",
    "    Maps spectral bands in lblnew to spectral bands in clirad.\n",
    "    '''\n",
    "    lblnew2clirad = {'1': '1',\n",
    "            '2': '2',\n",
    "            '3a': '3',\n",
    "            '3b': '4',\n",
    "            '3c': '5',\n",
    "            '4': '6', \n",
    "            '5': '7',\n",
    "            '6': '8',\n",
    "            '7': '9', \n",
    "            '8': '10',\n",
    "            '9': '11'}\n",
    "    \n",
    "    clirad2lblnew = {clirad: lblnew \n",
    "                     for lblnew, clirad in lblnew2clirad.items()}\n",
    "    return clirad2lblnew\n",
    "\n",
    "\n",
    "def gasbands():\n",
    "    bmap = band_map()\n",
    "    gases = list(PARAM['molecule'].keys())\n",
    "    \n",
    "    bands = [bmap[str(b)] for b in PARAM['band']]\n",
    "    return list(itertools.product(gases, bands))\n",
    "\n",
    "\n",
    "def print_bestfit_params():\n",
    "    print('Best-fit values for each (gas, band)')\n",
    "    print('------------------------------------')\n",
    "    for gas, band in gasbands():\n",
    "        print('o {} band{}'.format(gas, band))\n",
    "        param = bestfits.kdist_params(molecule=gas, band=band)\n",
    "        for name, value in sorted(param.items()):\n",
    "            print(2 * ' ' + '{} = {}'.format(name, value))\n",
    "\n",
    "        \n",
    "def print_input_param():        \n",
    "    for name, value in PARAM.items():\n",
    "        print('{} = {}'.format(name, value))\n",
    "        \n",
    "        \n",
    "def print_lblnew_param():\n",
    "    for name, value in sorted(PARAM_LBLNEW.items()):\n",
    "        print('{} = {}'.format(name, value))\n"
   ]
  },
  {
   "cell_type": "code",
   "execution_count": 11,
   "metadata": {
    "collapsed": true,
    "scrolled": false
   },
   "outputs": [],
   "source": [
    "def show_html(s):\n",
    "    display.display(display.HTML(s))\n",
    "\n",
    "    \n",
    "def show_markdown(s):\n",
    "    display.display(display.Markdown(s))\n",
    "\n",
    "    \n",
    "def script():\n",
    "    \n",
    "    title = '### CLIRAD-LW'\n",
    "    s_input = 'Input Parameters'\n",
    "    s_lblnew_param = 'LBLNEW case compaired against'\n",
    "    s_bestfits = 'Best-fit Parameters'\n",
    "    s_plt_cooling = 'Cooling Rate Profiles'\n",
    "    s_tb_flux = 'Flux Comparison'\n",
    "    \n",
    "    # title\n",
    "    show_markdown('### CLIRAD-LW')\n",
    "    \n",
    "    # TOC\n",
    "    show_markdown('### Table of Contents')\n",
    "    show_html(climahtml.getHTML_hrefanchor(s_input))\n",
    "    show_html(climahtml.getHTML_hrefanchor(s_lblnew_param))\n",
    "    show_html(climahtml.getHTML_hrefanchor(s_plt_cooling))\n",
    "    show_html(climahtml.getHTML_hrefanchor(s_tb_flux))\n",
    "    show_html(climahtml.getHTML_hrefanchor(s_bestfits))\n",
    "    \n",
    "    # Input parameters\n",
    "    show_html(climahtml.getHTML_idanchor(s_input))\n",
    "    show_markdown(climahtml.getMarkdown_sectitle(s_input))\n",
    "    print_input_param()\n",
    "    \n",
    "    # LBLNEW parameters \n",
    "    show_html(climahtml.getHTML_idanchor(s_lblnew_param))\n",
    "    show_markdown(climahtml.getMarkdown_sectitle(s_lblnew_param))\n",
    "    print_lblnew_param()\n",
    "    \n",
    "    # Cooling rate profiles\n",
    "    show_html(climahtml.getHTML_idanchor(s_plt_cooling))\n",
    "    show_markdown(climahtml.getMarkdown_sectitle(s_plt_cooling))\n",
    "    script_plt_cooling()\n",
    "    \n",
    "    # Flux comparison\n",
    "    show_html(climahtml.getHTML_idanchor(s_tb_flux))\n",
    "    show_markdown(climahtml.getMarkdown_sectitle(s_tb_flux))\n",
    "    script_tb_flux()\n",
    "    \n",
    "    # Best-fit values\n",
    "    show_html(climahtml.getHTML_idanchor(s_bestfits))\n",
    "    show_markdown(climahtml.getMarkdown_sectitle(s_bestfits))\n",
    "    print_bestfit_params()\n",
    "   \n",
    "    "
   ]
  },
  {
   "cell_type": "code",
   "execution_count": 12,
   "metadata": {
    "collapsed": true,
    "scrolled": false
   },
   "outputs": [
    {
     "data": {
      "text/markdown": [
       "### CLIRAD-LW"
      ],
      "text/plain": [
       "<IPython.core.display.Markdown object>"
      ]
     },
     "metadata": {},
     "output_type": "display_data"
    },
    {
     "data": {
      "text/markdown": [
       "### Table of Contents"
      ],
      "text/plain": [
       "<IPython.core.display.Markdown object>"
      ]
     },
     "metadata": {},
     "output_type": "display_data"
    },
    {
     "data": {
      "text/html": [
       "<a href=\"#Input_Parameters\">Input Parameters</a>"
      ],
      "text/plain": [
       "<IPython.core.display.HTML object>"
      ]
     },
     "metadata": {},
     "output_type": "display_data"
    },
    {
     "data": {
      "text/html": [
       "<a href=\"#LBLNEW_case_compaired_against\">LBLNEW case compaired against</a>"
      ],
      "text/plain": [
       "<IPython.core.display.HTML object>"
      ]
     },
     "metadata": {},
     "output_type": "display_data"
    },
    {
     "data": {
      "text/html": [
       "<a href=\"#Cooling_Rate_Profiles\">Cooling Rate Profiles</a>"
      ],
      "text/plain": [
       "<IPython.core.display.HTML object>"
      ]
     },
     "metadata": {},
     "output_type": "display_data"
    },
    {
     "data": {
      "text/html": [
       "<a href=\"#Flux_Comparison\">Flux Comparison</a>"
      ],
      "text/plain": [
       "<IPython.core.display.HTML object>"
      ]
     },
     "metadata": {},
     "output_type": "display_data"
    },
    {
     "data": {
      "text/html": [
       "<a href=\"#Best-fit_Parameters\">Best-fit Parameters</a>"
      ],
      "text/plain": [
       "<IPython.core.display.HTML object>"
      ]
     },
     "metadata": {},
     "output_type": "display_data"
    },
    {
     "data": {
      "text/html": [
       "<a id=\"Input_Parameters\"></a>"
      ],
      "text/plain": [
       "<IPython.core.display.HTML object>"
      ]
     },
     "metadata": {},
     "output_type": "display_data"
    },
    {
     "data": {
      "text/markdown": [
       "# Input Parameters"
      ],
      "text/plain": [
       "<IPython.core.display.Markdown object>"
      ]
     },
     "metadata": {},
     "output_type": "display_data"
    },
    {
     "name": "stdout",
     "output_type": "stream",
     "text": [
      "atmpro = mls\n",
      "band = [3]\n",
      "commitnumber = 0c003ef_r8\n",
      "molecule = {'n2o': 3.2e-07}\n",
      "tsfc = 294\n"
     ]
    },
    {
     "data": {
      "text/html": [
       "<a id=\"LBLNEW_case_compaired_against\"></a>"
      ],
      "text/plain": [
       "<IPython.core.display.HTML object>"
      ]
     },
     "metadata": {},
     "output_type": "display_data"
    },
    {
     "data": {
      "text/markdown": [
       "# LBLNEW case compaired against"
      ],
      "text/plain": [
       "<IPython.core.display.Markdown object>"
      ]
     },
     "metadata": {},
     "output_type": "display_data"
    },
    {
     "name": "stdout",
     "output_type": "stream",
     "text": [
      "atmpro = mls\n",
      "band = 3a\n",
      "commitnumber = 2bd1f75\n",
      "conc = 3.2e-07\n",
      "dv = 0.01\n",
      "klin = 2.22e-20\n",
      "molecule = n2o\n",
      "ng_adju = [0, 0]\n",
      "ng_refs = [1, 2]\n",
      "nv = 100\n",
      "option_compute_btable = 0\n",
      "option_compute_ktable = 0\n",
      "option_wgt_flux = 1\n",
      "option_wgt_k = 1\n",
      "ref_pts = [(1, 250), (500, 250)]\n",
      "tsfc = 294\n",
      "vmax = 620\n",
      "vmin = 540\n",
      "w_diffuse = [(1.8,), (1.66, 1.8)]\n",
      "wgt = [(0.9,), (0.5, 0.95)]\n"
     ]
    },
    {
     "data": {
      "text/html": [
       "<a id=\"Cooling_Rate_Profiles\"></a>"
      ],
      "text/plain": [
       "<IPython.core.display.HTML object>"
      ]
     },
     "metadata": {},
     "output_type": "display_data"
    },
    {
     "data": {
      "text/markdown": [
       "# Cooling Rate Profiles"
      ],
      "text/plain": [
       "<IPython.core.display.Markdown object>"
      ]
     },
     "metadata": {},
     "output_type": "display_data"
    },
    {
     "data": {
      "text/html": [
       "\n",
       "<div class=\"bk-root\">\n",
       "    <div class=\"bk-plotdiv\" id=\"e1844657-0845-4880-bbc6-a27f1f736cca\"></div>\n",
       "</div>"
      ]
     },
     "metadata": {},
     "output_type": "display_data"
    },
    {
     "data": {
      "application/javascript": [
       "(function(root) {\n",
       "  function embed_document(root) {\n",
       "    \n",
       "  var docs_json = {\"f78b5419-0be5-4b32-8619-eb30a87893e5\":{\"roots\":{\"references\":[{\"attributes\":{},\"id\":\"d5ad3f3d-151f-4f18-b6a0-52018ea0485d\",\"type\":\"SaveTool\"},{\"attributes\":{\"data_source\":{\"id\":\"dcac4e2b-d868-4822-bc70-32c396afe251\",\"type\":\"ColumnDataSource\"},\"glyph\":{\"id\":\"0506ab1a-59c8-4664-a954-e03869ece6d9\",\"type\":\"Line\"},\"hover_glyph\":null,\"muted_glyph\":null,\"nonselection_glyph\":{\"id\":\"c566f50a-78e9-4245-82cd-91f487641771\",\"type\":\"Line\"},\"selection_glyph\":null,\"view\":{\"id\":\"88e4722f-306a-4270-8f9b-5f579ede382b\",\"type\":\"CDSView\"}},\"id\":\"a653d931-0531-431f-9882-102c0edf2fc7\",\"type\":\"GlyphRenderer\"},{\"attributes\":{\"children\":[{\"id\":\"56a7254a-c1d1-4b49-b389-15d53bef1111\",\"type\":\"Row\"}]},\"id\":\"e3b7ac8c-2531-4a76-a67c-c427a1270df9\",\"type\":\"Column\"},{\"attributes\":{},\"id\":\"c7e17a95-77a3-4ecf-91e7-a57ece424681\",\"type\":\"HelpTool\"},{\"attributes\":{},\"id\":\"c21d98d1-45b3-4f98-b55d-141742d5ee86\",\"type\":\"ResetTool\"},{\"attributes\":{\"callback\":null,\"end\":0.031789754159999996,\"start\":-0.00898391556},\"id\":\"1bff28f2-2592-499d-ac40-2bd0c12e4396\",\"type\":\"Range1d\"},{\"attributes\":{},\"id\":\"a61e791f-0c2f-4d1e-b78a-ca0a9b825dfe\",\"type\":\"BasicTickFormatter\"},{\"attributes\":{\"line_alpha\":0.1,\"line_color\":\"#1f77b4\",\"line_dash\":[6],\"line_width\":5,\"x\":{\"field\":\"x\"},\"y\":{\"field\":\"y\"}},\"id\":\"c566f50a-78e9-4245-82cd-91f487641771\",\"type\":\"Line\"},{\"attributes\":{},\"id\":\"2f65a21a-0128-4033-848a-8e1e371f6649\",\"type\":\"LogScale\"},{\"attributes\":{\"line_alpha\":0.1,\"line_color\":\"#1f77b4\",\"line_dash\":[6],\"line_width\":5,\"x\":{\"field\":\"x\"},\"y\":{\"field\":\"y\"}},\"id\":\"843d85cb-32da-4856-af35-3c33e7d0e1f5\",\"type\":\"Line\"},{\"attributes\":{\"fill_alpha\":{\"value\":0.1},\"fill_color\":{\"value\":\"#1f77b4\"},\"line_alpha\":{\"value\":0.1},\"line_color\":{\"value\":\"#1f77b4\"},\"x\":{\"field\":\"x\"},\"y\":{\"field\":\"y\"}},\"id\":\"07a971e3-3b22-4765-b5c8-e361652edfd0\",\"type\":\"Circle\"},{\"attributes\":{\"line_alpha\":0.1,\"line_color\":\"#1f77b4\",\"line_width\":3,\"x\":{\"field\":\"x\"},\"y\":{\"field\":\"y\"}},\"id\":\"7c23efa4-4dc1-4ffb-931f-8a2ee6cd9417\",\"type\":\"Line\"},{\"attributes\":{},\"id\":\"1e7cfdee-ffda-47e8-b9ea-a596028bffc1\",\"type\":\"HelpTool\"},{\"attributes\":{\"label\":{\"value\":\"WGT igg=10 wgt_flux=2\"},\"renderers\":[{\"id\":\"903638ed-32b7-456a-ad37-162fcbd96240\",\"type\":\"GlyphRenderer\"},{\"id\":\"7a8cb9f2-efed-4437-9470-1ad6bef79316\",\"type\":\"GlyphRenderer\"}]},\"id\":\"d3efa6a5-9b61-4ea8-a902-73d7f33c7f87\",\"type\":\"LegendItem\"},{\"attributes\":{\"line_alpha\":0.6,\"line_color\":\"#984ea3\",\"line_width\":3,\"x\":{\"field\":\"x\"},\"y\":{\"field\":\"y\"}},\"id\":\"0d550d4b-d9e3-42af-827c-1a6d7ab06609\",\"type\":\"Line\"},{\"attributes\":{},\"id\":\"c2b7c01c-efdb-46a4-b323-8a034395927d\",\"type\":\"ResetTool\"},{\"attributes\":{\"toolbar\":{\"id\":\"0cf32952-3f0e-4495-9961-62e492a94e84\",\"type\":\"ProxyToolbar\"},\"toolbar_location\":\"above\"},\"id\":\"5bc6187c-7fda-4bd1-8037-b833d5fc3aba\",\"type\":\"ToolbarBox\"},{\"attributes\":{\"source\":{\"id\":\"0f0c9e03-7f7e-464e-b96c-ece32fb22f60\",\"type\":\"ColumnDataSource\"}},\"id\":\"31f3ba5c-39f2-489e-9c40-6fa051065ddd\",\"type\":\"CDSView\"},{\"attributes\":{\"line_color\":\"#4daf4a\",\"line_width\":1.5,\"x\":{\"field\":\"x\"},\"y\":{\"field\":\"y\"}},\"id\":\"c14482d1-4cd1-494e-8fb5-df8d14331376\",\"type\":\"Line\"},{\"attributes\":{\"callback\":null,\"column_names\":[\"x\",\"y\"],\"data\":{\"x\":{\"__ndarray__\":\"2pTvvzyJcT8oGE6x1S1yP5jZUmIgjXM/5P/ZHs4DdT+a+ZmZtH12P2N0Ydd8+nc/NM0QkRN6eT+MWHa1jPx6P2dEFObugXw/1mmS7g0Jfj99kVT8SpR/P8si85AxkYA/0oPYO4RZgT8XlCrjMTKCP2ii4gvewIQ/5vAdrDXCiz9rYxifUi6TP3AgLbTBEJk/mEkUPXJ2nz+EhKw4yBqjP2qPoiMXxKY/8GxLwXOfqj8+muWxlsetP7ys5Sx10q0/ZRXj0L7zqj8XcQNwN2anP630zGak0qM/ilyhZLpkoD+mp+zg4XqaPyE9llUQt5Q/ROBlMKOGjj/SX0+z7VWEP5oMODpqiHc/oGlHAfUEZD/kRbWvFO5Cv47XiB+wdWu/ZNEbvuqgdb9UzrV1mZ16vxXETibmSH+/JIqQTNwpgb9dVQH1qRWAv5QqF0sNRHm/MKktt6ypcb/IwagU5aRkv2IVqy3Y/Em/WmOXmcl6Sz9xfS5AtxlkPwUvKskMf3A/3Gfp2gfCdj9gt8hawaR8P2NF0Cy8PYE/6Btig4wLhD+m37yRv6qGP5drebiwNIk/CSN14b6xiz/C/2o3nhKOP5ohYj6xMpA/FAFXhVBdkT8J/7cV6HqSP9L/vrufl5M/rtaWrNS0lD9TrFDkzcGVP2izQ+Pd1pY/iI9/kyPllz+oYC7Uo+qYPyk8Y70j85k/SbwTZxnmmj9C/+kvQM6bPwDHS6xNmZw/3YuinRBHnT9JBR3GB+qdPymBaeqXdZ4/hGra748Knz/0hrv2JZSfP2nDfwhaEqA/\",\"dtype\":\"float64\",\"shape\":[75]},\"y\":{\"__ndarray__\":\"GhExyth1ND/Sv8nbtpRIP2vylNV0PVE/aTum7souWD/At0SJ8fVgPw3Iuahxymc/MSNhhJWvcD/bTfBN02d3P2zb5nxnaoA/CD5h5MAGhz8NmeH1TyaQP+zrCsc9p5Y/LbKd76fGnz/bLW5ISEmmPww9YvTcQq8/JV2OstnstT8Er5Y7M8G+P0c+r3jqkcU/5h99k6ZBzj88bCIzFzjVP4enV8oyxN0//yH99nXg5D8qOpLLf0jtP5kqGJXUifQ/c9cS8kHP/D+/DpwzojQEQIEmwoanVwxA4lgXt9HgE0BSSZ2AJuIbQAMJih9jjiNA5q4l5INuK0AwTKYKRj0zQNv5fmq8/DpAaCJseHrtQkB/+zpwzoxKQM3MzMzMeFJAZmZmZmZqWEAAAAAAAFxeQM3MzMzMJmJAmpmZmZkfZUBmZmZmZhhoQDMzMzMzEWtAAAAAAAAKbkBmZmZmZoFwQM3MzMzM/XFAMzMzMzN6c0CamZmZmfZ0QAAAAAAAc3ZAZmZmZmbvd0DNzMzMzGt5QDMzMzMz6HpAmpmZmZlkfEAAAAAAAOF9QGZmZmZmXX9AZmZmZuZsgECamZmZGSuBQM3MzMxM6YFAAAAAAICngkAzMzMzs2WDQGZmZmbmI4RAmpmZmRnihEDNzMzMTKCFQAAAAACAXoZAMzMzM7Mch0BmZmZm5tqHQJqZmZkZmYhAzczMzExXiUAAAAAAgBWKQDMzMzOz04pAZmZmZuaRi0CamZmZGVCMQM3MzMxMDo1AAAAAAIDMjUAzMzMzs4qOQGZmZmbmSI9A\",\"dtype\":\"float64\",\"shape\":[75]}}},\"id\":\"387bd220-c624-4be4-bbe0-603ba63a414f\",\"type\":\"ColumnDataSource\"},{\"attributes\":{\"active_drag\":\"auto\",\"active_inspect\":\"auto\",\"active_scroll\":\"auto\",\"active_tap\":\"auto\",\"tools\":[{\"id\":\"b5bcc0b0-be1f-4dfe-94eb-48d6989e8f5f\",\"type\":\"PanTool\"},{\"id\":\"06c84ab0-faae-495b-b846-7a703f0d7e9a\",\"type\":\"WheelZoomTool\"},{\"id\":\"409aa575-a23b-4a54-a81e-40971e07ff82\",\"type\":\"BoxZoomTool\"},{\"id\":\"29bef453-ad2d-4c8c-9ed7-7e25b43e7d67\",\"type\":\"SaveTool\"},{\"id\":\"c2b7c01c-efdb-46a4-b323-8a034395927d\",\"type\":\"ResetTool\"},{\"id\":\"1e7cfdee-ffda-47e8-b9ea-a596028bffc1\",\"type\":\"HelpTool\"}]},\"id\":\"83b8e4d8-ac0e-4627-8449-7b03b80d67fe\",\"type\":\"Toolbar\"},{\"attributes\":{\"label\":{\"value\":\"CRD\"},\"renderers\":[{\"id\":\"775891ff-e0d6-4634-bef1-18676984046c\",\"type\":\"GlyphRenderer\"},{\"id\":\"19fd3a5f-4175-4860-b568-abe581765f30\",\"type\":\"GlyphRenderer\"}]},\"id\":\"aca20f7e-5a3d-441c-9e97-3b1c11fa71ea\",\"type\":\"LegendItem\"},{\"attributes\":{\"plot\":{\"id\":\"44fdb921-e5bf-4976-b3b6-47f8ad707603\",\"subtype\":\"Figure\",\"type\":\"Plot\"},\"ticker\":{\"id\":\"434e3b5b-61ee-45c6-8148-73cf1b575148\",\"type\":\"BasicTicker\"}},\"id\":\"882cbee3-2197-45ef-a084-24cd144e6359\",\"type\":\"Grid\"},{\"attributes\":{\"callback\":null,\"column_names\":[\"x\",\"y\"],\"data\":{\"x\":{\"__ndarray__\":\"mvZSEoDhcz9cYjghLB90PwxCA+2q2XU/o3Jh1uM0dz/vblio64h4P3NAjLwe33k/CDzNVTU5ez/cp4XAAZV8P7v6qv1a9X0/Cp60A71Wfz+Y95T6O12AP5JYUxNkD4E/6RCoHQbDgT+xBujxjX6CP+KNUFwjvIQ/uDJkGTsRiz+u/U6n/VWSPzjTJHv7qJc/FHSXnpJunT+yyUK93tKhP00bBtq6J6U/RUibsuysqD83M+umQ5CrPxGc84YNrKs/U5Aof7orqT+pePG4hwimPz+py2kc2KI/jxKxRESKnz8eAfAQRc+ZP+ZubWezeJQ/Eak0JQOHjj+UQNaVx4GEP3oJKreop3c/JMENFcCkYj8Uh1Li5UlOv1N5gXLQJ2+/V8SEZzaOd7/wxdqJ2WV8vwcCtFPST4C/zv1vSpSUgb/LgkXZbWSAvwefyWrxI3q/miaewnnQcr8xNkYNk1lnv4NAmQzoAVO/U6a52qicPz+K0iC0vgJhPyMCBjACtm0/XWSWT6MIdT8AM08WDQV7PwBxDpBMZIA/u7xOZbcogz8CVDaBKdCFPzbQB8FmXYg/0mvwFCvQij9O1H7dfDKNP8O6iQtUh48/LACs32PokD/Ofu4VJwiSP9g1Bg9mIpM/oFq82Zg3lD/rP39i40iVP2iA3Xl6VpY/cWkENHRglz/bVJsHyWWYP1tPAAflZJk/MdlwP31Xmj+uWsJvfTebP85lBefV/ps/e4OhoY6tnD/o5VdDR0qdP8o1vlyv3J0/00wGZtZpnj8FAFVJVfSeP51gLa5ZfZ8/\",\"dtype\":\"float64\",\"shape\":[75]},\"y\":{\"__ndarray__\":\"S/O/Q+51ND/Sv8nbtpRIP2vylNV0PVE/aTum7souWD/At0SJ8fVgPw3Iuahxymc/MSNhhJWvcD/bTfBN02d3P2zb5nxnaoA/CD5h5MAGhz8NmeH1TyaQP+zrCsc9p5Y/LbKd76fGnz/bLW5ISEmmPww9YvTcQq8/JV2OstnstT8Er5Y7M8G+P0c+r3jqkcU/5h99k6ZBzj88bCIzFzjVP4enV8oyxN0//yH99nXg5D8qOpLLf0jtP5kqGJXUifQ/c9cS8kHP/D+/DpwzojQEQIEmwoanVwxA4lgXt9HgE0BSSZ2AJuIbQAMJih9jjiNA5q4l5INuK0AwTKYKRj0zQNv5fmq8/DpAaCJseHrtQkB/+zpwzoxKQM3MzMzMeFJAZmZmZmZqWEAAAAAAAFxeQM3MzMzMJmJAmpmZmZkfZUBmZmZmZhhoQDMzMzMzEWtAAAAAAAAKbkBmZmZmZoFwQM3MzMzM/XFAMzMzMzN6c0CamZmZmfZ0QAAAAAAAc3ZAZmZmZmbvd0DNzMzMzGt5QDMzMzMz6HpAmpmZmZlkfEAAAAAAAOF9QGZmZmZmXX9AZmZmZuZsgECamZmZGSuBQM3MzMxM6YFAAAAAAICngkAzMzMzs2WDQGZmZmbmI4RAmpmZmRnihEDNzMzMTKCFQAAAAACAXoZAMzMzM7Mch0BmZmZm5tqHQJqZmZkZmYhAzczMzExXiUAAAAAAgBWKQDMzMzOz04pAZmZmZuaRi0CamZmZGVCMQM3MzMxMDo1AAAAAAIDMjUAzMzMzs4qOQGZmZmbmSI9A\",\"dtype\":\"float64\",\"shape\":[75]}}},\"id\":\"26636914-7c63-45f6-ba4d-b49f96650f33\",\"type\":\"ColumnDataSource\"},{\"attributes\":{\"below\":[{\"id\":\"4b304888-b2eb-48a5-b287-27efbb0c80f4\",\"type\":\"LinearAxis\"}],\"left\":[{\"id\":\"c49a5d26-6c62-43b9-ae06-4e83847826a9\",\"type\":\"LogAxis\"}],\"plot_height\":500,\"plot_width\":560,\"renderers\":[{\"id\":\"4b304888-b2eb-48a5-b287-27efbb0c80f4\",\"type\":\"LinearAxis\"},{\"id\":\"882cbee3-2197-45ef-a084-24cd144e6359\",\"type\":\"Grid\"},{\"id\":\"c49a5d26-6c62-43b9-ae06-4e83847826a9\",\"type\":\"LogAxis\"},{\"id\":\"fe6f19c7-fd48-443e-bc87-0a7750e74124\",\"type\":\"Grid\"},{\"id\":\"e6f99f6d-6b76-4a34-b0fb-84475425a9f3\",\"type\":\"BoxAnnotation\"},{\"id\":\"a653d931-0531-431f-9882-102c0edf2fc7\",\"type\":\"GlyphRenderer\"},{\"id\":\"775891ff-e0d6-4634-bef1-18676984046c\",\"type\":\"GlyphRenderer\"},{\"id\":\"19fd3a5f-4175-4860-b568-abe581765f30\",\"type\":\"GlyphRenderer\"},{\"id\":\"903638ed-32b7-456a-ad37-162fcbd96240\",\"type\":\"GlyphRenderer\"},{\"id\":\"7a8cb9f2-efed-4437-9470-1ad6bef79316\",\"type\":\"GlyphRenderer\"},{\"id\":\"11824b92-5864-44db-bc8d-7b2ac1c2a7ba\",\"type\":\"Legend\"}],\"right\":[{\"id\":\"11824b92-5864-44db-bc8d-7b2ac1c2a7ba\",\"type\":\"Legend\"}],\"title\":{\"id\":\"af4cb237-a76b-4da5-8445-9773889dcaa5\",\"type\":\"Title\"},\"toolbar\":{\"id\":\"83b8e4d8-ac0e-4627-8449-7b03b80d67fe\",\"type\":\"Toolbar\"},\"toolbar_location\":null,\"x_range\":{\"id\":\"a4da1379-79a6-4fc0-97dc-8c15d379e228\",\"type\":\"Range1d\"},\"x_scale\":{\"id\":\"2fc4b086-ce60-4df9-abb7-4df46d9a9b9b\",\"type\":\"LinearScale\"},\"y_range\":{\"id\":\"4909825c-7df4-4e7c-a48e-0afc628e5b0d\",\"type\":\"Range1d\"},\"y_scale\":{\"id\":\"2f65a21a-0128-4033-848a-8e1e371f6649\",\"type\":\"LogScale\"}},\"id\":\"44fdb921-e5bf-4976-b3b6-47f8ad707603\",\"subtype\":\"Figure\",\"type\":\"Plot\"},{\"attributes\":{\"bottom_units\":\"screen\",\"fill_alpha\":{\"value\":0.5},\"fill_color\":{\"value\":\"lightgrey\"},\"left_units\":\"screen\",\"level\":\"overlay\",\"line_alpha\":{\"value\":1.0},\"line_color\":{\"value\":\"black\"},\"line_dash\":[4,4],\"line_width\":{\"value\":2},\"plot\":null,\"render_mode\":\"css\",\"right_units\":\"screen\",\"top_units\":\"screen\"},\"id\":\"e6f99f6d-6b76-4a34-b0fb-84475425a9f3\",\"type\":\"BoxAnnotation\"},{\"attributes\":{\"overlay\":{\"id\":\"e6f99f6d-6b76-4a34-b0fb-84475425a9f3\",\"type\":\"BoxAnnotation\"}},\"id\":\"409aa575-a23b-4a54-a81e-40971e07ff82\",\"type\":\"BoxZoomTool\"},{\"attributes\":{\"data_source\":{\"id\":\"26636914-7c63-45f6-ba4d-b49f96650f33\",\"type\":\"ColumnDataSource\"},\"glyph\":{\"id\":\"d4a79528-927f-4a95-9146-dbc95c1125a2\",\"type\":\"Line\"},\"hover_glyph\":null,\"muted_glyph\":null,\"nonselection_glyph\":{\"id\":\"843d85cb-32da-4856-af35-3c33e7d0e1f5\",\"type\":\"Line\"},\"selection_glyph\":null,\"view\":{\"id\":\"93bcdefd-124c-42b1-8c1a-3994d6f07911\",\"type\":\"CDSView\"}},\"id\":\"6009e7e0-8c03-42df-a4d2-3507d043c88e\",\"type\":\"GlyphRenderer\"},{\"attributes\":{},\"id\":\"29bef453-ad2d-4c8c-9ed7-7e25b43e7d67\",\"type\":\"SaveTool\"},{\"attributes\":{\"callback\":null,\"end\":0.01,\"start\":1020},\"id\":\"4909825c-7df4-4e7c-a48e-0afc628e5b0d\",\"type\":\"Range1d\"},{\"attributes\":{\"source\":{\"id\":\"55d50551-e617-4f33-aa40-dc7a766a2619\",\"type\":\"ColumnDataSource\"}},\"id\":\"d8b18d90-97f5-4549-83c5-a519a0608c81\",\"type\":\"CDSView\"},{\"attributes\":{},\"id\":\"03c90b0d-b561-4965-9fba-32028c7e326c\",\"type\":\"LinearScale\"},{\"attributes\":{},\"id\":\"434e3b5b-61ee-45c6-8148-73cf1b575148\",\"type\":\"BasicTicker\"},{\"attributes\":{\"axis_label\":\"pressure [mb]\",\"formatter\":{\"id\":\"a61e791f-0c2f-4d1e-b78a-ca0a9b825dfe\",\"type\":\"BasicTickFormatter\"},\"plot\":{\"id\":\"ab2c2b7b-0743-421a-b642-9cd3c08ddf4f\",\"subtype\":\"Figure\",\"type\":\"Plot\"},\"ticker\":{\"id\":\"8ef44c3e-fe54-4105-bca0-18df1afd9e13\",\"type\":\"BasicTicker\"}},\"id\":\"5b4d8b23-5e48-43ab-b27a-bf20e53113b4\",\"type\":\"LinearAxis\"},{\"attributes\":{\"source\":{\"id\":\"387bd220-c624-4be4-bbe0-603ba63a414f\",\"type\":\"ColumnDataSource\"}},\"id\":\"bc3cb540-f2b5-43a0-82bf-059a9851e367\",\"type\":\"CDSView\"},{\"attributes\":{\"dimension\":1,\"plot\":{\"id\":\"ab2c2b7b-0743-421a-b642-9cd3c08ddf4f\",\"subtype\":\"Figure\",\"type\":\"Plot\"},\"ticker\":{\"id\":\"8ef44c3e-fe54-4105-bca0-18df1afd9e13\",\"type\":\"BasicTicker\"}},\"id\":\"d921e122-a827-4333-b83d-c883f8962066\",\"type\":\"Grid\"},{\"attributes\":{\"data_source\":{\"id\":\"25792a0e-1d95-46bc-935d-a67422b846ca\",\"type\":\"ColumnDataSource\"},\"glyph\":{\"id\":\"b54cb07b-eb67-420f-baa2-429d9c9a49c0\",\"type\":\"Circle\"},\"hover_glyph\":null,\"muted_glyph\":null,\"nonselection_glyph\":{\"id\":\"07a971e3-3b22-4765-b5c8-e361652edfd0\",\"type\":\"Circle\"},\"selection_glyph\":null,\"view\":{\"id\":\"7c14617a-4b38-408a-9d69-13ef9125b50a\",\"type\":\"CDSView\"}},\"id\":\"6020c5ab-8177-4fc5-9ec9-70dcef4205ed\",\"type\":\"GlyphRenderer\"},{\"attributes\":{\"fill_alpha\":{\"value\":0.1},\"fill_color\":{\"value\":\"#1f77b4\"},\"line_alpha\":{\"value\":0.1},\"line_color\":{\"value\":\"#1f77b4\"},\"x\":{\"field\":\"x\"},\"y\":{\"field\":\"y\"}},\"id\":\"625de977-db53-4ebe-8b76-6c1b5fac5f49\",\"type\":\"Square\"},{\"attributes\":{},\"id\":\"fc001c18-1de4-4cdf-9916-7d41137da5af\",\"type\":\"BasicTickFormatter\"},{\"attributes\":{\"plot\":null,\"text\":\"Log pressure scale\"},\"id\":\"af4cb237-a76b-4da5-8445-9773889dcaa5\",\"type\":\"Title\"},{\"attributes\":{\"num_minor_ticks\":10},\"id\":\"98c997a0-02bc-4e33-bda9-b79b85cd6e53\",\"type\":\"LogTicker\"},{\"attributes\":{\"children\":[{\"id\":\"ab2c2b7b-0743-421a-b642-9cd3c08ddf4f\",\"subtype\":\"Figure\",\"type\":\"Plot\"},{\"id\":\"44fdb921-e5bf-4976-b3b6-47f8ad707603\",\"subtype\":\"Figure\",\"type\":\"Plot\"}]},\"id\":\"56a7254a-c1d1-4b49-b389-15d53bef1111\",\"type\":\"Row\"},{\"attributes\":{\"data_source\":{\"id\":\"387bd220-c624-4be4-bbe0-603ba63a414f\",\"type\":\"ColumnDataSource\"},\"glyph\":{\"id\":\"1a1ee3ce-0efc-4996-9d29-8603fcc91e84\",\"type\":\"Square\"},\"hover_glyph\":null,\"muted_glyph\":null,\"nonselection_glyph\":{\"id\":\"625de977-db53-4ebe-8b76-6c1b5fac5f49\",\"type\":\"Square\"},\"selection_glyph\":null,\"view\":{\"id\":\"bc3cb540-f2b5-43a0-82bf-059a9851e367\",\"type\":\"CDSView\"}},\"id\":\"976a50d3-42d0-4a07-9e2e-9f6c31c32050\",\"type\":\"GlyphRenderer\"},{\"attributes\":{},\"id\":\"06c84ab0-faae-495b-b846-7a703f0d7e9a\",\"type\":\"WheelZoomTool\"},{\"attributes\":{\"axis_label\":\"pressure [mb]\",\"formatter\":{\"id\":\"2acd377c-c070-414f-b0cb-470f2bd714c5\",\"type\":\"LogTickFormatter\"},\"plot\":{\"id\":\"44fdb921-e5bf-4976-b3b6-47f8ad707603\",\"subtype\":\"Figure\",\"type\":\"Plot\"},\"ticker\":{\"id\":\"98c997a0-02bc-4e33-bda9-b79b85cd6e53\",\"type\":\"LogTicker\"}},\"id\":\"c49a5d26-6c62-43b9-ae06-4e83847826a9\",\"type\":\"LogAxis\"},{\"attributes\":{\"callback\":null,\"column_names\":[\"x\",\"y\"],\"data\":{\"x\":{\"__ndarray__\":\"2pTvvzyJcT8oGE6x1S1yP5jZUmIgjXM/5P/ZHs4DdT+a+ZmZtH12P2N0Ydd8+nc/NM0QkRN6eT+MWHa1jPx6P2dEFObugXw/1mmS7g0Jfj99kVT8SpR/P8si85AxkYA/0oPYO4RZgT8XlCrjMTKCP2ii4gvewIQ/5vAdrDXCiz9rYxifUi6TP3AgLbTBEJk/mEkUPXJ2nz+EhKw4yBqjP2qPoiMXxKY/8GxLwXOfqj8+muWxlsetP7ys5Sx10q0/ZRXj0L7zqj8XcQNwN2anP630zGak0qM/ilyhZLpkoD+mp+zg4XqaPyE9llUQt5Q/ROBlMKOGjj/SX0+z7VWEP5oMODpqiHc/oGlHAfUEZD/kRbWvFO5Cv47XiB+wdWu/ZNEbvuqgdb9UzrV1mZ16vxXETibmSH+/JIqQTNwpgb9dVQH1qRWAv5QqF0sNRHm/MKktt6ypcb/IwagU5aRkv2IVqy3Y/Em/WmOXmcl6Sz9xfS5AtxlkPwUvKskMf3A/3Gfp2gfCdj9gt8hawaR8P2NF0Cy8PYE/6Btig4wLhD+m37yRv6qGP5drebiwNIk/CSN14b6xiz/C/2o3nhKOP5ohYj6xMpA/FAFXhVBdkT8J/7cV6HqSP9L/vrufl5M/rtaWrNS0lD9TrFDkzcGVP2izQ+Pd1pY/iI9/kyPllz+oYC7Uo+qYPyk8Y70j85k/SbwTZxnmmj9C/+kvQM6bPwDHS6xNmZw/3YuinRBHnT9JBR3GB+qdPymBaeqXdZ4/hGra748Knz/0hrv2JZSfP2nDfwhaEqA/\",\"dtype\":\"float64\",\"shape\":[75]},\"y\":{\"__ndarray__\":\"GhExyth1ND/Sv8nbtpRIP2vylNV0PVE/aTum7souWD/At0SJ8fVgPw3Iuahxymc/MSNhhJWvcD/bTfBN02d3P2zb5nxnaoA/CD5h5MAGhz8NmeH1TyaQP+zrCsc9p5Y/LbKd76fGnz/bLW5ISEmmPww9YvTcQq8/JV2OstnstT8Er5Y7M8G+P0c+r3jqkcU/5h99k6ZBzj88bCIzFzjVP4enV8oyxN0//yH99nXg5D8qOpLLf0jtP5kqGJXUifQ/c9cS8kHP/D+/DpwzojQEQIEmwoanVwxA4lgXt9HgE0BSSZ2AJuIbQAMJih9jjiNA5q4l5INuK0AwTKYKRj0zQNv5fmq8/DpAaCJseHrtQkB/+zpwzoxKQM3MzMzMeFJAZmZmZmZqWEAAAAAAAFxeQM3MzMzMJmJAmpmZmZkfZUBmZmZmZhhoQDMzMzMzEWtAAAAAAAAKbkBmZmZmZoFwQM3MzMzM/XFAMzMzMzN6c0CamZmZmfZ0QAAAAAAAc3ZAZmZmZmbvd0DNzMzMzGt5QDMzMzMz6HpAmpmZmZlkfEAAAAAAAOF9QGZmZmZmXX9AZmZmZuZsgECamZmZGSuBQM3MzMxM6YFAAAAAAICngkAzMzMzs2WDQGZmZmbmI4RAmpmZmRnihEDNzMzMTKCFQAAAAACAXoZAMzMzM7Mch0BmZmZm5tqHQJqZmZkZmYhAzczMzExXiUAAAAAAgBWKQDMzMzOz04pAZmZmZuaRi0CamZmZGVCMQM3MzMxMDo1AAAAAAIDMjUAzMzMzs4qOQGZmZmbmSI9A\",\"dtype\":\"float64\",\"shape\":[75]}}},\"id\":\"0f0c9e03-7f7e-464e-b96c-ece32fb22f60\",\"type\":\"ColumnDataSource\"},{\"attributes\":{},\"id\":\"b5bcc0b0-be1f-4dfe-94eb-48d6989e8f5f\",\"type\":\"PanTool\"},{\"attributes\":{},\"id\":\"4a092e5c-9432-4dce-a083-668281b2a2a6\",\"type\":\"LinearScale\"},{\"attributes\":{\"active_drag\":\"auto\",\"active_inspect\":\"auto\",\"active_scroll\":\"auto\",\"active_tap\":\"auto\",\"tools\":[{\"id\":\"175cbcf6-5719-4de2-9147-e5dc4fdcf37c\",\"type\":\"PanTool\"},{\"id\":\"52a5319c-6d79-4855-99e9-53094df86dc5\",\"type\":\"WheelZoomTool\"},{\"id\":\"231d07c6-5129-4cf6-9a44-62d9f6b10084\",\"type\":\"BoxZoomTool\"},{\"id\":\"d5ad3f3d-151f-4f18-b6a0-52018ea0485d\",\"type\":\"SaveTool\"},{\"id\":\"c21d98d1-45b3-4f98-b55d-141742d5ee86\",\"type\":\"ResetTool\"},{\"id\":\"c7e17a95-77a3-4ecf-91e7-a57ece424681\",\"type\":\"HelpTool\"}]},\"id\":\"ef62875a-81ba-4f60-8915-3aa9ebd04237\",\"type\":\"Toolbar\"},{\"attributes\":{\"label\":{\"value\":\"CLIRAD `coolr_bands`\"},\"renderers\":[{\"id\":\"a653d931-0531-431f-9882-102c0edf2fc7\",\"type\":\"GlyphRenderer\"}]},\"id\":\"7ccd437e-67f5-4582-886e-fb0be00717e3\",\"type\":\"LegendItem\"},{\"attributes\":{\"axis_label\":\"cooling rate [K/day]\",\"formatter\":{\"id\":\"fc001c18-1de4-4cdf-9916-7d41137da5af\",\"type\":\"BasicTickFormatter\"},\"plot\":{\"id\":\"ab2c2b7b-0743-421a-b642-9cd3c08ddf4f\",\"subtype\":\"Figure\",\"type\":\"Plot\"},\"ticker\":{\"id\":\"78bc8535-667c-499d-ad85-e7890ef8eb21\",\"type\":\"BasicTicker\"}},\"id\":\"08489274-5174-42ab-abb2-b4a1dbdcb1cc\",\"type\":\"LinearAxis\"},{\"attributes\":{\"fill_alpha\":{\"value\":0.7},\"fill_color\":{\"value\":\"#984ea3\"},\"line_alpha\":{\"value\":0.7},\"line_color\":{\"value\":\"#984ea3\"},\"x\":{\"field\":\"x\"},\"y\":{\"field\":\"y\"}},\"id\":\"1a1ee3ce-0efc-4996-9d29-8603fcc91e84\",\"type\":\"Square\"},{\"attributes\":{\"callback\":null,\"column_names\":[\"x\",\"y\"],\"data\":{\"x\":{\"__ndarray__\":\"FTJrvqHuKr8m+cy7FnEBv8Cl9NEtTjY/v0sTpZ9OSD/GzodrncZSPyAq7VMleFk/DxfjucMRYD/RCtuxgm9jPzb97Jf1wWY/JbxaOTYlaj+iKq76eHltPxKSTiKXP3A/Qxb9szPEcT9xtoKsAzVzP7FO4Fg6WHg/k1D301ihgz/UA1Z2ECePP81n/1er45U/UwzZPrmtnD/TmO1jNfihP2ZTDmNb0aU/QYEPD3XgqT960cYtwCCtP+PKRtjR56w/mBZdLWOCqT8oe0aApYOlP/RlCTW6uKE/q3OfKzC1nD/l5G6lERKXPzt0TKaiYpI/GOiTQkRdjD+XTvhgqn2EPwjmUfoVtXs/wditK4eScD/jSCkhxhZTP4275YyfRF+/NvyHoCVpcb9r2o/Uvtl3v5x5/4lUC36/I7g11K04gb+CfYnz1lKAv5bNTMtwhXm/2HZWK4zWcb/kcX6uqThlv3l6WtmvKk6/fa+TAlAXRj+NQ/5TkRViP1MzhqJJNW4/mv5ARxj3dD9FDTPn6p16P4F0mMwEBYA/au4vnmSbgj/fW/t8QBKFP2gDNDq1bYc/7Q7Yvki0iT9zmcg8WuuLPz8AFurKFo4/afdQR2wckD+beaKGlymRPySeF+eiM5I/TF9bgRk6kz8MjR0QxT2UP5bNxpGhP5U/8qM9BZA/lj9djRfLJz2XP0/eYqY2Npg/mhBcrV8lmT89dow1oAGaPxO0oxrxwpo/caAir1Bpmz9AigeCav2bP/6VSZhfiZw/UMBQab8TnT/qoUtyn6CdP3GeK/YJM54/\",\"dtype\":\"float64\",\"shape\":[75]},\"y\":{\"__ndarray__\":\"GhExyth1ND/Sv8nbtpRIP2vylNV0PVE/aTum7souWD/At0SJ8fVgPw3Iuahxymc/MSNhhJWvcD/bTfBN02d3P2zb5nxnaoA/CD5h5MAGhz8NmeH1TyaQP+zrCsc9p5Y/LbKd76fGnz/bLW5ISEmmPww9YvTcQq8/JV2OstnstT8Er5Y7M8G+P0c+r3jqkcU/5h99k6ZBzj88bCIzFzjVP4enV8oyxN0//yH99nXg5D8qOpLLf0jtP5kqGJXUifQ/c9cS8kHP/D+/DpwzojQEQIEmwoanVwxA4lgXt9HgE0BSSZ2AJuIbQAMJih9jjiNA5q4l5INuK0AwTKYKRj0zQNv5fmq8/DpAaCJseHrtQkB/+zpwzoxKQM3MzMzMeFJAZmZmZmZqWEAAAAAAAFxeQM3MzMzMJmJAmpmZmZkfZUBmZmZmZhhoQDMzMzMzEWtAAAAAAAAKbkBmZmZmZoFwQM3MzMzM/XFAMzMzMzN6c0CamZmZmfZ0QAAAAAAAc3ZAZmZmZmbvd0DNzMzMzGt5QDMzMzMz6HpAmpmZmZlkfEAAAAAAAOF9QGZmZmZmXX9AZmZmZuZsgECamZmZGSuBQM3MzMxM6YFAAAAAAICngkAzMzMzs2WDQGZmZmbmI4RAmpmZmRnihEDNzMzMTKCFQAAAAACAXoZAMzMzM7Mch0BmZmZm5tqHQJqZmZkZmYhAzczMzExXiUAAAAAAgBWKQDMzMzOz04pAZmZmZuaRi0CamZmZGVCMQM3MzMxMDo1AAAAAAIDMjUAzMzMzs4qOQGZmZmbmSI9A\",\"dtype\":\"float64\",\"shape\":[75]}}},\"id\":\"55d50551-e617-4f33-aa40-dc7a766a2619\",\"type\":\"ColumnDataSource\"},{\"attributes\":{\"plot\":null,\"text\":\"Linear pressure scale\"},\"id\":\"a462cfe2-791c-481b-8181-330028741c7f\",\"type\":\"Title\"},{\"attributes\":{\"callback\":null,\"end\":0.01,\"start\":1020},\"id\":\"7b9331ea-fb55-40c2-9216-d54ea35800ee\",\"type\":\"Range1d\"},{\"attributes\":{\"data_source\":{\"id\":\"0f0c9e03-7f7e-464e-b96c-ece32fb22f60\",\"type\":\"ColumnDataSource\"},\"glyph\":{\"id\":\"0d550d4b-d9e3-42af-827c-1a6d7ab06609\",\"type\":\"Line\"},\"hover_glyph\":null,\"muted_glyph\":null,\"nonselection_glyph\":{\"id\":\"7c23efa4-4dc1-4ffb-931f-8a2ee6cd9417\",\"type\":\"Line\"},\"selection_glyph\":null,\"view\":{\"id\":\"31f3ba5c-39f2-489e-9c40-6fa051065ddd\",\"type\":\"CDSView\"}},\"id\":\"0eda99dd-47fc-45a1-be42-bf88adcef9bf\",\"type\":\"GlyphRenderer\"},{\"attributes\":{},\"id\":\"78bc8535-667c-499d-ad85-e7890ef8eb21\",\"type\":\"BasicTicker\"},{\"attributes\":{},\"id\":\"2fc4b086-ce60-4df9-abb7-4df46d9a9b9b\",\"type\":\"LinearScale\"},{\"attributes\":{},\"id\":\"8ef44c3e-fe54-4105-bca0-18df1afd9e13\",\"type\":\"BasicTicker\"},{\"attributes\":{},\"id\":\"52a5319c-6d79-4855-99e9-53094df86dc5\",\"type\":\"WheelZoomTool\"},{\"attributes\":{\"line_alpha\":0.6,\"line_color\":\"#e41a1c\",\"line_dash\":[6],\"line_width\":5,\"x\":{\"field\":\"x\"},\"y\":{\"field\":\"y\"}},\"id\":\"d4a79528-927f-4a95-9146-dbc95c1125a2\",\"type\":\"Line\"},{\"attributes\":{\"below\":[{\"id\":\"08489274-5174-42ab-abb2-b4a1dbdcb1cc\",\"type\":\"LinearAxis\"}],\"left\":[{\"id\":\"5b4d8b23-5e48-43ab-b27a-bf20e53113b4\",\"type\":\"LinearAxis\"}],\"plot_height\":500,\"plot_width\":400,\"renderers\":[{\"id\":\"08489274-5174-42ab-abb2-b4a1dbdcb1cc\",\"type\":\"LinearAxis\"},{\"id\":\"5d0573ca-3afd-4a1f-a20d-7f96d8aad3ac\",\"type\":\"Grid\"},{\"id\":\"5b4d8b23-5e48-43ab-b27a-bf20e53113b4\",\"type\":\"LinearAxis\"},{\"id\":\"d921e122-a827-4333-b83d-c883f8962066\",\"type\":\"Grid\"},{\"id\":\"9d391b11-3d31-47cc-8bd4-63cb814ea4a3\",\"type\":\"BoxAnnotation\"},{\"id\":\"6009e7e0-8c03-42df-a4d2-3507d043c88e\",\"type\":\"GlyphRenderer\"},{\"id\":\"6020c5ab-8177-4fc5-9ec9-70dcef4205ed\",\"type\":\"GlyphRenderer\"},{\"id\":\"adf0b7a0-0e84-4d7b-a9a5-b3d3356b3574\",\"type\":\"GlyphRenderer\"},{\"id\":\"976a50d3-42d0-4a07-9e2e-9f6c31c32050\",\"type\":\"GlyphRenderer\"},{\"id\":\"0eda99dd-47fc-45a1-be42-bf88adcef9bf\",\"type\":\"GlyphRenderer\"}],\"title\":{\"id\":\"a462cfe2-791c-481b-8181-330028741c7f\",\"type\":\"Title\"},\"toolbar\":{\"id\":\"ef62875a-81ba-4f60-8915-3aa9ebd04237\",\"type\":\"Toolbar\"},\"toolbar_location\":null,\"x_range\":{\"id\":\"1bff28f2-2592-499d-ac40-2bd0c12e4396\",\"type\":\"Range1d\"},\"x_scale\":{\"id\":\"4a092e5c-9432-4dce-a083-668281b2a2a6\",\"type\":\"LinearScale\"},\"y_range\":{\"id\":\"7b9331ea-fb55-40c2-9216-d54ea35800ee\",\"type\":\"Range1d\"},\"y_scale\":{\"id\":\"03c90b0d-b561-4965-9fba-32028c7e326c\",\"type\":\"LinearScale\"}},\"id\":\"ab2c2b7b-0743-421a-b642-9cd3c08ddf4f\",\"subtype\":\"Figure\",\"type\":\"Plot\"},{\"attributes\":{},\"id\":\"175cbcf6-5719-4de2-9147-e5dc4fdcf37c\",\"type\":\"PanTool\"},{\"attributes\":{\"bottom_units\":\"screen\",\"fill_alpha\":{\"value\":0.5},\"fill_color\":{\"value\":\"lightgrey\"},\"left_units\":\"screen\",\"level\":\"overlay\",\"line_alpha\":{\"value\":1.0},\"line_color\":{\"value\":\"black\"},\"line_dash\":[4,4],\"line_width\":{\"value\":2},\"plot\":null,\"render_mode\":\"css\",\"right_units\":\"screen\",\"top_units\":\"screen\"},\"id\":\"9d391b11-3d31-47cc-8bd4-63cb814ea4a3\",\"type\":\"BoxAnnotation\"},{\"attributes\":{\"line_alpha\":0.6,\"line_color\":\"#e41a1c\",\"line_dash\":[6],\"line_width\":5,\"x\":{\"field\":\"x\"},\"y\":{\"field\":\"y\"}},\"id\":\"0506ab1a-59c8-4664-a954-e03869ece6d9\",\"type\":\"Line\"},{\"attributes\":{\"dimension\":1,\"plot\":{\"id\":\"44fdb921-e5bf-4976-b3b6-47f8ad707603\",\"subtype\":\"Figure\",\"type\":\"Plot\"},\"ticker\":{\"id\":\"98c997a0-02bc-4e33-bda9-b79b85cd6e53\",\"type\":\"LogTicker\"}},\"id\":\"fe6f19c7-fd48-443e-bc87-0a7750e74124\",\"type\":\"Grid\"},{\"attributes\":{\"overlay\":{\"id\":\"9d391b11-3d31-47cc-8bd4-63cb814ea4a3\",\"type\":\"BoxAnnotation\"}},\"id\":\"231d07c6-5129-4cf6-9a44-62d9f6b10084\",\"type\":\"BoxZoomTool\"},{\"attributes\":{\"axis_label\":\"cooling rate [K/day]\",\"formatter\":{\"id\":\"d7c90d90-d38e-4ca9-8602-ca0f51e97fe1\",\"type\":\"BasicTickFormatter\"},\"plot\":{\"id\":\"44fdb921-e5bf-4976-b3b6-47f8ad707603\",\"subtype\":\"Figure\",\"type\":\"Plot\"},\"ticker\":{\"id\":\"434e3b5b-61ee-45c6-8148-73cf1b575148\",\"type\":\"BasicTicker\"}},\"id\":\"4b304888-b2eb-48a5-b287-27efbb0c80f4\",\"type\":\"LinearAxis\"},{\"attributes\":{\"data_source\":{\"id\":\"55d50551-e617-4f33-aa40-dc7a766a2619\",\"type\":\"ColumnDataSource\"},\"glyph\":{\"id\":\"c14482d1-4cd1-494e-8fb5-df8d14331376\",\"type\":\"Line\"},\"hover_glyph\":null,\"muted_glyph\":null,\"nonselection_glyph\":{\"id\":\"acfc8857-0e98-4e92-b777-6e4a3cf31f29\",\"type\":\"Line\"},\"selection_glyph\":null,\"view\":{\"id\":\"d8b18d90-97f5-4549-83c5-a519a0608c81\",\"type\":\"CDSView\"}},\"id\":\"adf0b7a0-0e84-4d7b-a9a5-b3d3356b3574\",\"type\":\"GlyphRenderer\"},{\"attributes\":{\"line_alpha\":0.1,\"line_color\":\"#1f77b4\",\"line_width\":1.5,\"x\":{\"field\":\"x\"},\"y\":{\"field\":\"y\"}},\"id\":\"acfc8857-0e98-4e92-b777-6e4a3cf31f29\",\"type\":\"Line\"},{\"attributes\":{\"callback\":null,\"column_names\":[\"x\",\"y\"],\"data\":{\"x\":{\"__ndarray__\":\"mvZSEoDhcz9cYjghLB90PwxCA+2q2XU/o3Jh1uM0dz/vblio64h4P3NAjLwe33k/CDzNVTU5ez/cp4XAAZV8P7v6qv1a9X0/Cp60A71Wfz+Y95T6O12AP5JYUxNkD4E/6RCoHQbDgT+xBujxjX6CP+KNUFwjvIQ/uDJkGTsRiz+u/U6n/VWSPzjTJHv7qJc/FHSXnpJunT+yyUK93tKhP00bBtq6J6U/RUibsuysqD83M+umQ5CrPxGc84YNrKs/U5Aof7orqT+pePG4hwimPz+py2kc2KI/jxKxRESKnz8eAfAQRc+ZP+ZubWezeJQ/Eak0JQOHjj+UQNaVx4GEP3oJKreop3c/JMENFcCkYj8Uh1Li5UlOv1N5gXLQJ2+/V8SEZzaOd7/wxdqJ2WV8vwcCtFPST4C/zv1vSpSUgb/LgkXZbWSAvwefyWrxI3q/miaewnnQcr8xNkYNk1lnv4NAmQzoAVO/U6a52qicPz+K0iC0vgJhPyMCBjACtm0/XWSWT6MIdT8AM08WDQV7PwBxDpBMZIA/u7xOZbcogz8CVDaBKdCFPzbQB8FmXYg/0mvwFCvQij9O1H7dfDKNP8O6iQtUh48/LACs32PokD/Ofu4VJwiSP9g1Bg9mIpM/oFq82Zg3lD/rP39i40iVP2iA3Xl6VpY/cWkENHRglz/bVJsHyWWYP1tPAAflZJk/MdlwP31Xmj+uWsJvfTebP85lBefV/ps/e4OhoY6tnD/o5VdDR0qdP8o1vlyv3J0/00wGZtZpnj8FAFVJVfSeP51gLa5ZfZ8/\",\"dtype\":\"float64\",\"shape\":[75]},\"y\":{\"__ndarray__\":\"S/O/Q+51ND/Sv8nbtpRIP2vylNV0PVE/aTum7souWD/At0SJ8fVgPw3Iuahxymc/MSNhhJWvcD/bTfBN02d3P2zb5nxnaoA/CD5h5MAGhz8NmeH1TyaQP+zrCsc9p5Y/LbKd76fGnz/bLW5ISEmmPww9YvTcQq8/JV2OstnstT8Er5Y7M8G+P0c+r3jqkcU/5h99k6ZBzj88bCIzFzjVP4enV8oyxN0//yH99nXg5D8qOpLLf0jtP5kqGJXUifQ/c9cS8kHP/D+/DpwzojQEQIEmwoanVwxA4lgXt9HgE0BSSZ2AJuIbQAMJih9jjiNA5q4l5INuK0AwTKYKRj0zQNv5fmq8/DpAaCJseHrtQkB/+zpwzoxKQM3MzMzMeFJAZmZmZmZqWEAAAAAAAFxeQM3MzMzMJmJAmpmZmZkfZUBmZmZmZhhoQDMzMzMzEWtAAAAAAAAKbkBmZmZmZoFwQM3MzMzM/XFAMzMzMzN6c0CamZmZmfZ0QAAAAAAAc3ZAZmZmZmbvd0DNzMzMzGt5QDMzMzMz6HpAmpmZmZlkfEAAAAAAAOF9QGZmZmZmXX9AZmZmZuZsgECamZmZGSuBQM3MzMxM6YFAAAAAAICngkAzMzMzs2WDQGZmZmbmI4RAmpmZmRnihEDNzMzMTKCFQAAAAACAXoZAMzMzM7Mch0BmZmZm5tqHQJqZmZkZmYhAzczMzExXiUAAAAAAgBWKQDMzMzOz04pAZmZmZuaRi0CamZmZGVCMQM3MzMxMDo1AAAAAAIDMjUAzMzMzs4qOQGZmZmbmSI9A\",\"dtype\":\"float64\",\"shape\":[75]}}},\"id\":\"dcac4e2b-d868-4822-bc70-32c396afe251\",\"type\":\"ColumnDataSource\"},{\"attributes\":{\"callback\":null,\"column_names\":[\"x\",\"y\"],\"data\":{\"x\":{\"__ndarray__\":\"FTJrvqHuKr8m+cy7FnEBv8Cl9NEtTjY/v0sTpZ9OSD/GzodrncZSPyAq7VMleFk/DxfjucMRYD/RCtuxgm9jPzb97Jf1wWY/JbxaOTYlaj+iKq76eHltPxKSTiKXP3A/Qxb9szPEcT9xtoKsAzVzP7FO4Fg6WHg/k1D301ihgz/UA1Z2ECePP81n/1er45U/UwzZPrmtnD/TmO1jNfihP2ZTDmNb0aU/QYEPD3XgqT960cYtwCCtP+PKRtjR56w/mBZdLWOCqT8oe0aApYOlP/RlCTW6uKE/q3OfKzC1nD/l5G6lERKXPzt0TKaiYpI/GOiTQkRdjD+XTvhgqn2EPwjmUfoVtXs/wditK4eScD/jSCkhxhZTP4275YyfRF+/NvyHoCVpcb9r2o/Uvtl3v5x5/4lUC36/I7g11K04gb+CfYnz1lKAv5bNTMtwhXm/2HZWK4zWcb/kcX6uqThlv3l6WtmvKk6/fa+TAlAXRj+NQ/5TkRViP1MzhqJJNW4/mv5ARxj3dD9FDTPn6p16P4F0mMwEBYA/au4vnmSbgj/fW/t8QBKFP2gDNDq1bYc/7Q7Yvki0iT9zmcg8WuuLPz8AFurKFo4/afdQR2wckD+beaKGlymRPySeF+eiM5I/TF9bgRk6kz8MjR0QxT2UP5bNxpGhP5U/8qM9BZA/lj9djRfLJz2XP0/eYqY2Npg/mhBcrV8lmT89dow1oAGaPxO0oxrxwpo/caAir1Bpmz9AigeCav2bP/6VSZhfiZw/UMBQab8TnT/qoUtyn6CdP3GeK/YJM54/\",\"dtype\":\"float64\",\"shape\":[75]},\"y\":{\"__ndarray__\":\"GhExyth1ND/Sv8nbtpRIP2vylNV0PVE/aTum7souWD/At0SJ8fVgPw3Iuahxymc/MSNhhJWvcD/bTfBN02d3P2zb5nxnaoA/CD5h5MAGhz8NmeH1TyaQP+zrCsc9p5Y/LbKd76fGnz/bLW5ISEmmPww9YvTcQq8/JV2OstnstT8Er5Y7M8G+P0c+r3jqkcU/5h99k6ZBzj88bCIzFzjVP4enV8oyxN0//yH99nXg5D8qOpLLf0jtP5kqGJXUifQ/c9cS8kHP/D+/DpwzojQEQIEmwoanVwxA4lgXt9HgE0BSSZ2AJuIbQAMJih9jjiNA5q4l5INuK0AwTKYKRj0zQNv5fmq8/DpAaCJseHrtQkB/+zpwzoxKQM3MzMzMeFJAZmZmZmZqWEAAAAAAAFxeQM3MzMzMJmJAmpmZmZkfZUBmZmZmZhhoQDMzMzMzEWtAAAAAAAAKbkBmZmZmZoFwQM3MzMzM/XFAMzMzMzN6c0CamZmZmfZ0QAAAAAAAc3ZAZmZmZmbvd0DNzMzMzGt5QDMzMzMz6HpAmpmZmZlkfEAAAAAAAOF9QGZmZmZmXX9AZmZmZuZsgECamZmZGSuBQM3MzMxM6YFAAAAAAICngkAzMzMzs2WDQGZmZmbmI4RAmpmZmRnihEDNzMzMTKCFQAAAAACAXoZAMzMzM7Mch0BmZmZm5tqHQJqZmZkZmYhAzczMzExXiUAAAAAAgBWKQDMzMzOz04pAZmZmZuaRi0CamZmZGVCMQM3MzMxMDo1AAAAAAIDMjUAzMzMzs4qOQGZmZmbmSI9A\",\"dtype\":\"float64\",\"shape\":[75]}}},\"id\":\"f55996fa-998d-4544-b698-a0146d46b0a3\",\"type\":\"ColumnDataSource\"},{\"attributes\":{\"fill_alpha\":{\"value\":0.7},\"fill_color\":{\"value\":\"#4daf4a\"},\"line_alpha\":{\"value\":0.7},\"line_color\":{\"value\":\"#4daf4a\"},\"x\":{\"field\":\"x\"},\"y\":{\"field\":\"y\"}},\"id\":\"c3cc13fb-467f-41fa-9833-02cdbb15ac55\",\"type\":\"Circle\"},{\"attributes\":{\"source\":{\"id\":\"26636914-7c63-45f6-ba4d-b49f96650f33\",\"type\":\"ColumnDataSource\"}},\"id\":\"93bcdefd-124c-42b1-8c1a-3994d6f07911\",\"type\":\"CDSView\"},{\"attributes\":{\"ticker\":null},\"id\":\"2acd377c-c070-414f-b0cb-470f2bd714c5\",\"type\":\"LogTickFormatter\"},{\"attributes\":{\"callback\":null,\"column_names\":[\"x\",\"y\"],\"data\":{\"x\":{\"__ndarray__\":\"FTJrvqHuKr8m+cy7FnEBv8Cl9NEtTjY/v0sTpZ9OSD/GzodrncZSPyAq7VMleFk/DxfjucMRYD/RCtuxgm9jPzb97Jf1wWY/JbxaOTYlaj+iKq76eHltPxKSTiKXP3A/Qxb9szPEcT9xtoKsAzVzP7FO4Fg6WHg/k1D301ihgz/UA1Z2ECePP81n/1er45U/UwzZPrmtnD/TmO1jNfihP2ZTDmNb0aU/QYEPD3XgqT960cYtwCCtP+PKRtjR56w/mBZdLWOCqT8oe0aApYOlP/RlCTW6uKE/q3OfKzC1nD/l5G6lERKXPzt0TKaiYpI/GOiTQkRdjD+XTvhgqn2EPwjmUfoVtXs/wditK4eScD/jSCkhxhZTP4275YyfRF+/NvyHoCVpcb9r2o/Uvtl3v5x5/4lUC36/I7g11K04gb+CfYnz1lKAv5bNTMtwhXm/2HZWK4zWcb/kcX6uqThlv3l6WtmvKk6/fa+TAlAXRj+NQ/5TkRViP1MzhqJJNW4/mv5ARxj3dD9FDTPn6p16P4F0mMwEBYA/au4vnmSbgj/fW/t8QBKFP2gDNDq1bYc/7Q7Yvki0iT9zmcg8WuuLPz8AFurKFo4/afdQR2wckD+beaKGlymRPySeF+eiM5I/TF9bgRk6kz8MjR0QxT2UP5bNxpGhP5U/8qM9BZA/lj9djRfLJz2XP0/eYqY2Npg/mhBcrV8lmT89dow1oAGaPxO0oxrxwpo/caAir1Bpmz9AigeCav2bP/6VSZhfiZw/UMBQab8TnT/qoUtyn6CdP3GeK/YJM54/\",\"dtype\":\"float64\",\"shape\":[75]},\"y\":{\"__ndarray__\":\"GhExyth1ND/Sv8nbtpRIP2vylNV0PVE/aTum7souWD/At0SJ8fVgPw3Iuahxymc/MSNhhJWvcD/bTfBN02d3P2zb5nxnaoA/CD5h5MAGhz8NmeH1TyaQP+zrCsc9p5Y/LbKd76fGnz/bLW5ISEmmPww9YvTcQq8/JV2OstnstT8Er5Y7M8G+P0c+r3jqkcU/5h99k6ZBzj88bCIzFzjVP4enV8oyxN0//yH99nXg5D8qOpLLf0jtP5kqGJXUifQ/c9cS8kHP/D+/DpwzojQEQIEmwoanVwxA4lgXt9HgE0BSSZ2AJuIbQAMJih9jjiNA5q4l5INuK0AwTKYKRj0zQNv5fmq8/DpAaCJseHrtQkB/+zpwzoxKQM3MzMzMeFJAZmZmZmZqWEAAAAAAAFxeQM3MzMzMJmJAmpmZmZkfZUBmZmZmZhhoQDMzMzMzEWtAAAAAAAAKbkBmZmZmZoFwQM3MzMzM/XFAMzMzMzN6c0CamZmZmfZ0QAAAAAAAc3ZAZmZmZmbvd0DNzMzMzGt5QDMzMzMz6HpAmpmZmZlkfEAAAAAAAOF9QGZmZmZmXX9AZmZmZuZsgECamZmZGSuBQM3MzMxM6YFAAAAAAICngkAzMzMzs2WDQGZmZmbmI4RAmpmZmRnihEDNzMzMTKCFQAAAAACAXoZAMzMzM7Mch0BmZmZm5tqHQJqZmZkZmYhAzczMzExXiUAAAAAAgBWKQDMzMzOz04pAZmZmZuaRi0CamZmZGVCMQM3MzMxMDo1AAAAAAIDMjUAzMzMzs4qOQGZmZmbmSI9A\",\"dtype\":\"float64\",\"shape\":[75]}}},\"id\":\"0791494e-daff-483f-9055-43139ead815e\",\"type\":\"ColumnDataSource\"},{\"attributes\":{\"callback\":null,\"column_names\":[\"x\",\"y\"],\"data\":{\"x\":{\"__ndarray__\":\"2pTvvzyJcT8oGE6x1S1yP5jZUmIgjXM/5P/ZHs4DdT+a+ZmZtH12P2N0Ydd8+nc/NM0QkRN6eT+MWHa1jPx6P2dEFObugXw/1mmS7g0Jfj99kVT8SpR/P8si85AxkYA/0oPYO4RZgT8XlCrjMTKCP2ii4gvewIQ/5vAdrDXCiz9rYxifUi6TP3AgLbTBEJk/mEkUPXJ2nz+EhKw4yBqjP2qPoiMXxKY/8GxLwXOfqj8+muWxlsetP7ys5Sx10q0/ZRXj0L7zqj8XcQNwN2anP630zGak0qM/ilyhZLpkoD+mp+zg4XqaPyE9llUQt5Q/ROBlMKOGjj/SX0+z7VWEP5oMODpqiHc/oGlHAfUEZD/kRbWvFO5Cv47XiB+wdWu/ZNEbvuqgdb9UzrV1mZ16vxXETibmSH+/JIqQTNwpgb9dVQH1qRWAv5QqF0sNRHm/MKktt6ypcb/IwagU5aRkv2IVqy3Y/Em/WmOXmcl6Sz9xfS5AtxlkPwUvKskMf3A/3Gfp2gfCdj9gt8hawaR8P2NF0Cy8PYE/6Btig4wLhD+m37yRv6qGP5drebiwNIk/CSN14b6xiz/C/2o3nhKOP5ohYj6xMpA/FAFXhVBdkT8J/7cV6HqSP9L/vrufl5M/rtaWrNS0lD9TrFDkzcGVP2izQ+Pd1pY/iI9/kyPllz+oYC7Uo+qYPyk8Y70j85k/SbwTZxnmmj9C/+kvQM6bPwDHS6xNmZw/3YuinRBHnT9JBR3GB+qdPymBaeqXdZ4/hGra748Knz/0hrv2JZSfP2nDfwhaEqA/\",\"dtype\":\"float64\",\"shape\":[75]},\"y\":{\"__ndarray__\":\"GhExyth1ND/Sv8nbtpRIP2vylNV0PVE/aTum7souWD/At0SJ8fVgPw3Iuahxymc/MSNhhJWvcD/bTfBN02d3P2zb5nxnaoA/CD5h5MAGhz8NmeH1TyaQP+zrCsc9p5Y/LbKd76fGnz/bLW5ISEmmPww9YvTcQq8/JV2OstnstT8Er5Y7M8G+P0c+r3jqkcU/5h99k6ZBzj88bCIzFzjVP4enV8oyxN0//yH99nXg5D8qOpLLf0jtP5kqGJXUifQ/c9cS8kHP/D+/DpwzojQEQIEmwoanVwxA4lgXt9HgE0BSSZ2AJuIbQAMJih9jjiNA5q4l5INuK0AwTKYKRj0zQNv5fmq8/DpAaCJseHrtQkB/+zpwzoxKQM3MzMzMeFJAZmZmZmZqWEAAAAAAAFxeQM3MzMzMJmJAmpmZmZkfZUBmZmZmZhhoQDMzMzMzEWtAAAAAAAAKbkBmZmZmZoFwQM3MzMzM/XFAMzMzMzN6c0CamZmZmfZ0QAAAAAAAc3ZAZmZmZmbvd0DNzMzMzGt5QDMzMzMz6HpAmpmZmZlkfEAAAAAAAOF9QGZmZmZmXX9AZmZmZuZsgECamZmZGSuBQM3MzMxM6YFAAAAAAICngkAzMzMzs2WDQGZmZmbmI4RAmpmZmRnihEDNzMzMTKCFQAAAAACAXoZAMzMzM7Mch0BmZmZm5tqHQJqZmZkZmYhAzczMzExXiUAAAAAAgBWKQDMzMzOz04pAZmZmZuaRi0CamZmZGVCMQM3MzMxMDo1AAAAAAIDMjUAzMzMzs4qOQGZmZmbmSI9A\",\"dtype\":\"float64\",\"shape\":[75]}}},\"id\":\"ad8028ee-f620-44b9-9bba-4ccbe58a2d83\",\"type\":\"ColumnDataSource\"},{\"attributes\":{\"data_source\":{\"id\":\"0791494e-daff-483f-9055-43139ead815e\",\"type\":\"ColumnDataSource\"},\"glyph\":{\"id\":\"c3cc13fb-467f-41fa-9833-02cdbb15ac55\",\"type\":\"Circle\"},\"hover_glyph\":null,\"muted_glyph\":null,\"nonselection_glyph\":{\"id\":\"a823d715-b3fd-4d04-9bf4-f3e398ce260e\",\"type\":\"Circle\"},\"selection_glyph\":null,\"view\":{\"id\":\"e3b31a5b-9db0-41a5-9add-a66190d35519\",\"type\":\"CDSView\"}},\"id\":\"775891ff-e0d6-4634-bef1-18676984046c\",\"type\":\"GlyphRenderer\"},{\"attributes\":{\"fill_alpha\":{\"value\":0.1},\"fill_color\":{\"value\":\"#1f77b4\"},\"line_alpha\":{\"value\":0.1},\"line_color\":{\"value\":\"#1f77b4\"},\"x\":{\"field\":\"x\"},\"y\":{\"field\":\"y\"}},\"id\":\"a823d715-b3fd-4d04-9bf4-f3e398ce260e\",\"type\":\"Circle\"},{\"attributes\":{},\"id\":\"d7c90d90-d38e-4ca9-8602-ca0f51e97fe1\",\"type\":\"BasicTickFormatter\"},{\"attributes\":{\"source\":{\"id\":\"dcac4e2b-d868-4822-bc70-32c396afe251\",\"type\":\"ColumnDataSource\"}},\"id\":\"88e4722f-306a-4270-8f9b-5f579ede382b\",\"type\":\"CDSView\"},{\"attributes\":{\"data_source\":{\"id\":\"f55996fa-998d-4544-b698-a0146d46b0a3\",\"type\":\"ColumnDataSource\"},\"glyph\":{\"id\":\"28e9e434-0318-4aff-b1fb-e2d3dff73836\",\"type\":\"Line\"},\"hover_glyph\":null,\"muted_glyph\":null,\"nonselection_glyph\":{\"id\":\"e7963559-c706-4bb8-96cf-71e1ca33b853\",\"type\":\"Line\"},\"selection_glyph\":null,\"view\":{\"id\":\"606d0e45-3ebe-410f-9132-5566bb512323\",\"type\":\"CDSView\"}},\"id\":\"19fd3a5f-4175-4860-b568-abe581765f30\",\"type\":\"GlyphRenderer\"},{\"attributes\":{\"tools\":[{\"id\":\"175cbcf6-5719-4de2-9147-e5dc4fdcf37c\",\"type\":\"PanTool\"},{\"id\":\"52a5319c-6d79-4855-99e9-53094df86dc5\",\"type\":\"WheelZoomTool\"},{\"id\":\"231d07c6-5129-4cf6-9a44-62d9f6b10084\",\"type\":\"BoxZoomTool\"},{\"id\":\"d5ad3f3d-151f-4f18-b6a0-52018ea0485d\",\"type\":\"SaveTool\"},{\"id\":\"c21d98d1-45b3-4f98-b55d-141742d5ee86\",\"type\":\"ResetTool\"},{\"id\":\"c7e17a95-77a3-4ecf-91e7-a57ece424681\",\"type\":\"HelpTool\"},{\"id\":\"b5bcc0b0-be1f-4dfe-94eb-48d6989e8f5f\",\"type\":\"PanTool\"},{\"id\":\"06c84ab0-faae-495b-b846-7a703f0d7e9a\",\"type\":\"WheelZoomTool\"},{\"id\":\"409aa575-a23b-4a54-a81e-40971e07ff82\",\"type\":\"BoxZoomTool\"},{\"id\":\"29bef453-ad2d-4c8c-9ed7-7e25b43e7d67\",\"type\":\"SaveTool\"},{\"id\":\"c2b7c01c-efdb-46a4-b323-8a034395927d\",\"type\":\"ResetTool\"},{\"id\":\"1e7cfdee-ffda-47e8-b9ea-a596028bffc1\",\"type\":\"HelpTool\"}]},\"id\":\"0cf32952-3f0e-4495-9961-62e492a94e84\",\"type\":\"ProxyToolbar\"},{\"attributes\":{\"source\":{\"id\":\"0791494e-daff-483f-9055-43139ead815e\",\"type\":\"ColumnDataSource\"}},\"id\":\"e3b31a5b-9db0-41a5-9add-a66190d35519\",\"type\":\"CDSView\"},{\"attributes\":{\"line_color\":\"#4daf4a\",\"line_width\":1.5,\"x\":{\"field\":\"x\"},\"y\":{\"field\":\"y\"}},\"id\":\"28e9e434-0318-4aff-b1fb-e2d3dff73836\",\"type\":\"Line\"},{\"attributes\":{\"callback\":null,\"column_names\":[\"x\",\"y\"],\"data\":{\"x\":{\"__ndarray__\":\"FTJrvqHuKr8m+cy7FnEBv8Cl9NEtTjY/v0sTpZ9OSD/GzodrncZSPyAq7VMleFk/DxfjucMRYD/RCtuxgm9jPzb97Jf1wWY/JbxaOTYlaj+iKq76eHltPxKSTiKXP3A/Qxb9szPEcT9xtoKsAzVzP7FO4Fg6WHg/k1D301ihgz/UA1Z2ECePP81n/1er45U/UwzZPrmtnD/TmO1jNfihP2ZTDmNb0aU/QYEPD3XgqT960cYtwCCtP+PKRtjR56w/mBZdLWOCqT8oe0aApYOlP/RlCTW6uKE/q3OfKzC1nD/l5G6lERKXPzt0TKaiYpI/GOiTQkRdjD+XTvhgqn2EPwjmUfoVtXs/wditK4eScD/jSCkhxhZTP4275YyfRF+/NvyHoCVpcb9r2o/Uvtl3v5x5/4lUC36/I7g11K04gb+CfYnz1lKAv5bNTMtwhXm/2HZWK4zWcb/kcX6uqThlv3l6WtmvKk6/fa+TAlAXRj+NQ/5TkRViP1MzhqJJNW4/mv5ARxj3dD9FDTPn6p16P4F0mMwEBYA/au4vnmSbgj/fW/t8QBKFP2gDNDq1bYc/7Q7Yvki0iT9zmcg8WuuLPz8AFurKFo4/afdQR2wckD+beaKGlymRPySeF+eiM5I/TF9bgRk6kz8MjR0QxT2UP5bNxpGhP5U/8qM9BZA/lj9djRfLJz2XP0/eYqY2Npg/mhBcrV8lmT89dow1oAGaPxO0oxrxwpo/caAir1Bpmz9AigeCav2bP/6VSZhfiZw/UMBQab8TnT/qoUtyn6CdP3GeK/YJM54/\",\"dtype\":\"float64\",\"shape\":[75]},\"y\":{\"__ndarray__\":\"GhExyth1ND/Sv8nbtpRIP2vylNV0PVE/aTum7souWD/At0SJ8fVgPw3Iuahxymc/MSNhhJWvcD/bTfBN02d3P2zb5nxnaoA/CD5h5MAGhz8NmeH1TyaQP+zrCsc9p5Y/LbKd76fGnz/bLW5ISEmmPww9YvTcQq8/JV2OstnstT8Er5Y7M8G+P0c+r3jqkcU/5h99k6ZBzj88bCIzFzjVP4enV8oyxN0//yH99nXg5D8qOpLLf0jtP5kqGJXUifQ/c9cS8kHP/D+/DpwzojQEQIEmwoanVwxA4lgXt9HgE0BSSZ2AJuIbQAMJih9jjiNA5q4l5INuK0AwTKYKRj0zQNv5fmq8/DpAaCJseHrtQkB/+zpwzoxKQM3MzMzMeFJAZmZmZmZqWEAAAAAAAFxeQM3MzMzMJmJAmpmZmZkfZUBmZmZmZhhoQDMzMzMzEWtAAAAAAAAKbkBmZmZmZoFwQM3MzMzM/XFAMzMzMzN6c0CamZmZmfZ0QAAAAAAAc3ZAZmZmZmbvd0DNzMzMzGt5QDMzMzMz6HpAmpmZmZlkfEAAAAAAAOF9QGZmZmZmXX9AZmZmZuZsgECamZmZGSuBQM3MzMxM6YFAAAAAAICngkAzMzMzs2WDQGZmZmbmI4RAmpmZmRnihEDNzMzMTKCFQAAAAACAXoZAMzMzM7Mch0BmZmZm5tqHQJqZmZkZmYhAzczMzExXiUAAAAAAgBWKQDMzMzOz04pAZmZmZuaRi0CamZmZGVCMQM3MzMxMDo1AAAAAAIDMjUAzMzMzs4qOQGZmZmbmSI9A\",\"dtype\":\"float64\",\"shape\":[75]}}},\"id\":\"25792a0e-1d95-46bc-935d-a67422b846ca\",\"type\":\"ColumnDataSource\"},{\"attributes\":{\"line_alpha\":0.6,\"line_color\":\"#984ea3\",\"line_width\":3,\"x\":{\"field\":\"x\"},\"y\":{\"field\":\"y\"}},\"id\":\"8f03d8d5-0d74-41a1-85a3-117cb20beeac\",\"type\":\"Line\"},{\"attributes\":{\"line_alpha\":0.1,\"line_color\":\"#1f77b4\",\"line_width\":1.5,\"x\":{\"field\":\"x\"},\"y\":{\"field\":\"y\"}},\"id\":\"e7963559-c706-4bb8-96cf-71e1ca33b853\",\"type\":\"Line\"},{\"attributes\":{\"callback\":null,\"column_names\":[\"x\",\"y\"],\"data\":{\"x\":{\"__ndarray__\":\"2pTvvzyJcT8oGE6x1S1yP5jZUmIgjXM/5P/ZHs4DdT+a+ZmZtH12P2N0Ydd8+nc/NM0QkRN6eT+MWHa1jPx6P2dEFObugXw/1mmS7g0Jfj99kVT8SpR/P8si85AxkYA/0oPYO4RZgT8XlCrjMTKCP2ii4gvewIQ/5vAdrDXCiz9rYxifUi6TP3AgLbTBEJk/mEkUPXJ2nz+EhKw4yBqjP2qPoiMXxKY/8GxLwXOfqj8+muWxlsetP7ys5Sx10q0/ZRXj0L7zqj8XcQNwN2anP630zGak0qM/ilyhZLpkoD+mp+zg4XqaPyE9llUQt5Q/ROBlMKOGjj/SX0+z7VWEP5oMODpqiHc/oGlHAfUEZD/kRbWvFO5Cv47XiB+wdWu/ZNEbvuqgdb9UzrV1mZ16vxXETibmSH+/JIqQTNwpgb9dVQH1qRWAv5QqF0sNRHm/MKktt6ypcb/IwagU5aRkv2IVqy3Y/Em/WmOXmcl6Sz9xfS5AtxlkPwUvKskMf3A/3Gfp2gfCdj9gt8hawaR8P2NF0Cy8PYE/6Btig4wLhD+m37yRv6qGP5drebiwNIk/CSN14b6xiz/C/2o3nhKOP5ohYj6xMpA/FAFXhVBdkT8J/7cV6HqSP9L/vrufl5M/rtaWrNS0lD9TrFDkzcGVP2izQ+Pd1pY/iI9/kyPllz+oYC7Uo+qYPyk8Y70j85k/SbwTZxnmmj9C/+kvQM6bPwDHS6xNmZw/3YuinRBHnT9JBR3GB+qdPymBaeqXdZ4/hGra748Knz/0hrv2JZSfP2nDfwhaEqA/\",\"dtype\":\"float64\",\"shape\":[75]},\"y\":{\"__ndarray__\":\"GhExyth1ND/Sv8nbtpRIP2vylNV0PVE/aTum7souWD/At0SJ8fVgPw3Iuahxymc/MSNhhJWvcD/bTfBN02d3P2zb5nxnaoA/CD5h5MAGhz8NmeH1TyaQP+zrCsc9p5Y/LbKd76fGnz/bLW5ISEmmPww9YvTcQq8/JV2OstnstT8Er5Y7M8G+P0c+r3jqkcU/5h99k6ZBzj88bCIzFzjVP4enV8oyxN0//yH99nXg5D8qOpLLf0jtP5kqGJXUifQ/c9cS8kHP/D+/DpwzojQEQIEmwoanVwxA4lgXt9HgE0BSSZ2AJuIbQAMJih9jjiNA5q4l5INuK0AwTKYKRj0zQNv5fmq8/DpAaCJseHrtQkB/+zpwzoxKQM3MzMzMeFJAZmZmZmZqWEAAAAAAAFxeQM3MzMzMJmJAmpmZmZkfZUBmZmZmZhhoQDMzMzMzEWtAAAAAAAAKbkBmZmZmZoFwQM3MzMzM/XFAMzMzMzN6c0CamZmZmfZ0QAAAAAAAc3ZAZmZmZmbvd0DNzMzMzGt5QDMzMzMz6HpAmpmZmZlkfEAAAAAAAOF9QGZmZmZmXX9AZmZmZuZsgECamZmZGSuBQM3MzMxM6YFAAAAAAICngkAzMzMzs2WDQGZmZmbmI4RAmpmZmRnihEDNzMzMTKCFQAAAAACAXoZAMzMzM7Mch0BmZmZm5tqHQJqZmZkZmYhAzczMzExXiUAAAAAAgBWKQDMzMzOz04pAZmZmZuaRi0CamZmZGVCMQM3MzMxMDo1AAAAAAIDMjUAzMzMzs4qOQGZmZmbmSI9A\",\"dtype\":\"float64\",\"shape\":[75]}}},\"id\":\"480e38ff-f5db-4f4e-914d-89e231f6f3b4\",\"type\":\"ColumnDataSource\"},{\"attributes\":{\"source\":{\"id\":\"f55996fa-998d-4544-b698-a0146d46b0a3\",\"type\":\"ColumnDataSource\"}},\"id\":\"606d0e45-3ebe-410f-9132-5566bb512323\",\"type\":\"CDSView\"},{\"attributes\":{\"fill_alpha\":{\"value\":0.7},\"fill_color\":{\"value\":\"#984ea3\"},\"line_alpha\":{\"value\":0.7},\"line_color\":{\"value\":\"#984ea3\"},\"x\":{\"field\":\"x\"},\"y\":{\"field\":\"y\"}},\"id\":\"789a371c-67f6-4bdd-be6f-a3cc7f57f446\",\"type\":\"Square\"},{\"attributes\":{\"items\":[{\"id\":\"7ccd437e-67f5-4582-886e-fb0be00717e3\",\"type\":\"LegendItem\"},{\"id\":\"aca20f7e-5a3d-441c-9e97-3b1c11fa71ea\",\"type\":\"LegendItem\"},{\"id\":\"d3efa6a5-9b61-4ea8-a902-73d7f33c7f87\",\"type\":\"LegendItem\"}],\"label_text_font_size\":{\"value\":\"8pt\"},\"location\":[10,-30],\"plot\":{\"id\":\"44fdb921-e5bf-4976-b3b6-47f8ad707603\",\"subtype\":\"Figure\",\"type\":\"Plot\"}},\"id\":\"11824b92-5864-44db-bc8d-7b2ac1c2a7ba\",\"type\":\"Legend\"},{\"attributes\":{\"source\":{\"id\":\"ad8028ee-f620-44b9-9bba-4ccbe58a2d83\",\"type\":\"ColumnDataSource\"}},\"id\":\"80dfd921-835f-4f87-93e6-1067e44933c0\",\"type\":\"CDSView\"},{\"attributes\":{\"callback\":null,\"end\":0.0589145945865,\"start\":-0.0092524783365},\"id\":\"a4da1379-79a6-4fc0-97dc-8c15d379e228\",\"type\":\"Range1d\"},{\"attributes\":{\"fill_alpha\":{\"value\":0.1},\"fill_color\":{\"value\":\"#1f77b4\"},\"line_alpha\":{\"value\":0.1},\"line_color\":{\"value\":\"#1f77b4\"},\"x\":{\"field\":\"x\"},\"y\":{\"field\":\"y\"}},\"id\":\"7abb78a4-071c-4ce4-a6ce-5ade9b3f20a5\",\"type\":\"Square\"},{\"attributes\":{\"data_source\":{\"id\":\"ad8028ee-f620-44b9-9bba-4ccbe58a2d83\",\"type\":\"ColumnDataSource\"},\"glyph\":{\"id\":\"789a371c-67f6-4bdd-be6f-a3cc7f57f446\",\"type\":\"Square\"},\"hover_glyph\":null,\"muted_glyph\":null,\"nonselection_glyph\":{\"id\":\"7abb78a4-071c-4ce4-a6ce-5ade9b3f20a5\",\"type\":\"Square\"},\"selection_glyph\":null,\"view\":{\"id\":\"80dfd921-835f-4f87-93e6-1067e44933c0\",\"type\":\"CDSView\"}},\"id\":\"903638ed-32b7-456a-ad37-162fcbd96240\",\"type\":\"GlyphRenderer\"},{\"attributes\":{\"source\":{\"id\":\"480e38ff-f5db-4f4e-914d-89e231f6f3b4\",\"type\":\"ColumnDataSource\"}},\"id\":\"4ed412e2-a9e1-44f0-891f-2dcf7f2c4388\",\"type\":\"CDSView\"},{\"attributes\":{\"line_alpha\":0.1,\"line_color\":\"#1f77b4\",\"line_width\":3,\"x\":{\"field\":\"x\"},\"y\":{\"field\":\"y\"}},\"id\":\"ce9be6e6-33dc-4d74-a475-637e45995a44\",\"type\":\"Line\"},{\"attributes\":{\"data_source\":{\"id\":\"480e38ff-f5db-4f4e-914d-89e231f6f3b4\",\"type\":\"ColumnDataSource\"},\"glyph\":{\"id\":\"8f03d8d5-0d74-41a1-85a3-117cb20beeac\",\"type\":\"Line\"},\"hover_glyph\":null,\"muted_glyph\":null,\"nonselection_glyph\":{\"id\":\"ce9be6e6-33dc-4d74-a475-637e45995a44\",\"type\":\"Line\"},\"selection_glyph\":null,\"view\":{\"id\":\"4ed412e2-a9e1-44f0-891f-2dcf7f2c4388\",\"type\":\"CDSView\"}},\"id\":\"7a8cb9f2-efed-4437-9470-1ad6bef79316\",\"type\":\"GlyphRenderer\"},{\"attributes\":{\"children\":[{\"id\":\"5bc6187c-7fda-4bd1-8037-b833d5fc3aba\",\"type\":\"ToolbarBox\"},{\"id\":\"e3b7ac8c-2531-4a76-a67c-c427a1270df9\",\"type\":\"Column\"}]},\"id\":\"ade7ca3c-ac1b-46fc-b7e5-f4c5dd91ea79\",\"type\":\"Column\"},{\"attributes\":{\"source\":{\"id\":\"25792a0e-1d95-46bc-935d-a67422b846ca\",\"type\":\"ColumnDataSource\"}},\"id\":\"7c14617a-4b38-408a-9d69-13ef9125b50a\",\"type\":\"CDSView\"},{\"attributes\":{\"fill_alpha\":{\"value\":0.7},\"fill_color\":{\"value\":\"#4daf4a\"},\"line_alpha\":{\"value\":0.7},\"line_color\":{\"value\":\"#4daf4a\"},\"x\":{\"field\":\"x\"},\"y\":{\"field\":\"y\"}},\"id\":\"b54cb07b-eb67-420f-baa2-429d9c9a49c0\",\"type\":\"Circle\"},{\"attributes\":{\"plot\":{\"id\":\"ab2c2b7b-0743-421a-b642-9cd3c08ddf4f\",\"subtype\":\"Figure\",\"type\":\"Plot\"},\"ticker\":{\"id\":\"78bc8535-667c-499d-ad85-e7890ef8eb21\",\"type\":\"BasicTicker\"}},\"id\":\"5d0573ca-3afd-4a1f-a20d-7f96d8aad3ac\",\"type\":\"Grid\"}],\"root_ids\":[\"ade7ca3c-ac1b-46fc-b7e5-f4c5dd91ea79\"]},\"title\":\"Bokeh Application\",\"version\":\"0.12.14\"}};\n",
       "  var render_items = [{\"docid\":\"f78b5419-0be5-4b32-8619-eb30a87893e5\",\"elementid\":\"e1844657-0845-4880-bbc6-a27f1f736cca\",\"modelid\":\"ade7ca3c-ac1b-46fc-b7e5-f4c5dd91ea79\"}];\n",
       "  root.Bokeh.embed.embed_items_notebook(docs_json, render_items);\n",
       "\n",
       "  }\n",
       "  if (root.Bokeh !== undefined) {\n",
       "    embed_document(root);\n",
       "  } else {\n",
       "    var attempts = 0;\n",
       "    var timer = setInterval(function(root) {\n",
       "      if (root.Bokeh !== undefined) {\n",
       "        embed_document(root);\n",
       "        clearInterval(timer);\n",
       "      }\n",
       "      attempts++;\n",
       "      if (attempts > 100) {\n",
       "        console.log(\"Bokeh: ERROR: Unable to run BokehJS code because BokehJS library is missing\")\n",
       "        clearInterval(timer);\n",
       "      }\n",
       "    }, 10, root)\n",
       "  }\n",
       "})(window);"
      ],
      "application/vnd.bokehjs_exec.v0+json": ""
     },
     "metadata": {
      "application/vnd.bokehjs_exec.v0+json": {
       "id": "ade7ca3c-ac1b-46fc-b7e5-f4c5dd91ea79"
      }
     },
     "output_type": "display_data"
    },
    {
     "name": "stdout",
     "output_type": "stream",
     "text": [
      "FIGURE. Cooling rate profiles.\n"
     ]
    },
    {
     "data": {
      "text/html": [
       "<a id=\"Flux_Comparison\"></a>"
      ],
      "text/plain": [
       "<IPython.core.display.HTML object>"
      ]
     },
     "metadata": {},
     "output_type": "display_data"
    },
    {
     "data": {
      "text/markdown": [
       "# Flux Comparison"
      ],
      "text/plain": [
       "<IPython.core.display.Markdown object>"
      ]
     },
     "metadata": {},
     "output_type": "display_data"
    },
    {
     "data": {
      "text/html": [
       "<div>\n",
       "<style>\n",
       "    .dataframe thead tr:only-child th {\n",
       "        text-align: right;\n",
       "    }\n",
       "\n",
       "    .dataframe thead th {\n",
       "        text-align: left;\n",
       "    }\n",
       "\n",
       "    .dataframe tbody tr th {\n",
       "        vertical-align: top;\n",
       "    }\n",
       "</style>\n",
       "<table border=\"1\" class=\"dataframe\">\n",
       "  <thead>\n",
       "    <tr style=\"text-align: right;\">\n",
       "      <th></th>\n",
       "      <th></th>\n",
       "      <th>flug</th>\n",
       "      <th>fldg</th>\n",
       "      <th>fnetg</th>\n",
       "    </tr>\n",
       "    <tr>\n",
       "      <th>pressure</th>\n",
       "      <th>level</th>\n",
       "      <th></th>\n",
       "      <th></th>\n",
       "      <th></th>\n",
       "    </tr>\n",
       "  </thead>\n",
       "  <tbody>\n",
       "    <tr>\n",
       "      <th>0.0000</th>\n",
       "      <th>1</th>\n",
       "      <td>-35.012057</td>\n",
       "      <td>0.000000</td>\n",
       "      <td>-35.012057</td>\n",
       "    </tr>\n",
       "    <tr>\n",
       "      <th>1.0685</th>\n",
       "      <th>24</th>\n",
       "      <td>-35.011299</td>\n",
       "      <td>0.004676</td>\n",
       "      <td>-35.006624</td>\n",
       "    </tr>\n",
       "    <tr>\n",
       "      <th>1013.0000</th>\n",
       "      <th>76</th>\n",
       "      <td>-36.235408</td>\n",
       "      <td>2.713550</td>\n",
       "      <td>-33.521857</td>\n",
       "    </tr>\n",
       "  </tbody>\n",
       "</table>\n",
       "</div>"
      ],
      "text/plain": [
       "                      flug      fldg      fnetg\n",
       "pressure  level                                \n",
       "0.0000    1     -35.012057  0.000000 -35.012057\n",
       "1.0685    24    -35.011299  0.004676 -35.006624\n",
       "1013.0000 76    -36.235408  2.713550 -33.521857"
      ]
     },
     "metadata": {},
     "output_type": "display_data"
    },
    {
     "name": "stdout",
     "output_type": "stream",
     "text": [
      "Table. Fluxes. WGT igg=10 wgt_flux=1\n"
     ]
    },
    {
     "data": {
      "text/html": [
       "<div>\n",
       "<style>\n",
       "    .dataframe thead tr:only-child th {\n",
       "        text-align: right;\n",
       "    }\n",
       "\n",
       "    .dataframe thead th {\n",
       "        text-align: left;\n",
       "    }\n",
       "\n",
       "    .dataframe tbody tr th {\n",
       "        vertical-align: top;\n",
       "    }\n",
       "</style>\n",
       "<table border=\"1\" class=\"dataframe\">\n",
       "  <thead>\n",
       "    <tr style=\"text-align: right;\">\n",
       "      <th></th>\n",
       "      <th></th>\n",
       "      <th>flug</th>\n",
       "      <th>fldg</th>\n",
       "      <th>fnetg</th>\n",
       "    </tr>\n",
       "    <tr>\n",
       "      <th>pressure</th>\n",
       "      <th>level</th>\n",
       "      <th></th>\n",
       "      <th></th>\n",
       "      <th></th>\n",
       "    </tr>\n",
       "  </thead>\n",
       "  <tbody>\n",
       "    <tr>\n",
       "      <th>0.0000</th>\n",
       "      <th>1</th>\n",
       "      <td>-35.016069</td>\n",
       "      <td>0.000000</td>\n",
       "      <td>-35.016069</td>\n",
       "    </tr>\n",
       "    <tr>\n",
       "      <th>1.0685</th>\n",
       "      <th>24</th>\n",
       "      <td>-35.015788</td>\n",
       "      <td>0.004893</td>\n",
       "      <td>-35.010895</td>\n",
       "    </tr>\n",
       "    <tr>\n",
       "      <th>1013.0000</th>\n",
       "      <th>76</th>\n",
       "      <td>-36.235408</td>\n",
       "      <td>2.614575</td>\n",
       "      <td>-33.620833</td>\n",
       "    </tr>\n",
       "  </tbody>\n",
       "</table>\n",
       "</div>"
      ],
      "text/plain": [
       "                      flug      fldg      fnetg\n",
       "pressure  level                                \n",
       "0.0000    1     -35.016069  0.000000 -35.016069\n",
       "1.0685    24    -35.015788  0.004893 -35.010895\n",
       "1013.0000 76    -36.235408  2.614575 -33.620833"
      ]
     },
     "metadata": {},
     "output_type": "display_data"
    },
    {
     "name": "stdout",
     "output_type": "stream",
     "text": [
      "Table. Fluxes. CRD\n"
     ]
    },
    {
     "data": {
      "text/html": [
       "<div>\n",
       "<style>\n",
       "    .dataframe thead tr:only-child th {\n",
       "        text-align: right;\n",
       "    }\n",
       "\n",
       "    .dataframe thead th {\n",
       "        text-align: left;\n",
       "    }\n",
       "\n",
       "    .dataframe tbody tr th {\n",
       "        vertical-align: top;\n",
       "    }\n",
       "</style>\n",
       "<table border=\"1\" class=\"dataframe\">\n",
       "  <thead>\n",
       "    <tr style=\"text-align: right;\">\n",
       "      <th></th>\n",
       "      <th></th>\n",
       "      <th>flug</th>\n",
       "      <th>fldg</th>\n",
       "      <th>fnetg</th>\n",
       "    </tr>\n",
       "    <tr>\n",
       "      <th>pressure</th>\n",
       "      <th>level</th>\n",
       "      <th></th>\n",
       "      <th></th>\n",
       "      <th></th>\n",
       "    </tr>\n",
       "  </thead>\n",
       "  <tbody>\n",
       "    <tr>\n",
       "      <th>1.000000e-08</th>\n",
       "      <th>1</th>\n",
       "      <td>-35.056063</td>\n",
       "      <td>0.000002</td>\n",
       "      <td>-35.056060</td>\n",
       "    </tr>\n",
       "    <tr>\n",
       "      <th>1.068500e+00</th>\n",
       "      <th>24</th>\n",
       "      <td>-35.055267</td>\n",
       "      <td>0.004262</td>\n",
       "      <td>-35.051005</td>\n",
       "    </tr>\n",
       "    <tr>\n",
       "      <th>1.013000e+03</th>\n",
       "      <th>76</th>\n",
       "      <td>-36.235410</td>\n",
       "      <td>2.616788</td>\n",
       "      <td>-33.618622</td>\n",
       "    </tr>\n",
       "  </tbody>\n",
       "</table>\n",
       "</div>"
      ],
      "text/plain": [
       "                         flug      fldg      fnetg\n",
       "pressure     level                                \n",
       "1.000000e-08 1     -35.056063  0.000002 -35.056060\n",
       "1.068500e+00 24    -35.055267  0.004262 -35.051005\n",
       "1.013000e+03 76    -36.235410  2.616788 -33.618622"
      ]
     },
     "metadata": {},
     "output_type": "display_data"
    },
    {
     "name": "stdout",
     "output_type": "stream",
     "text": [
      "Table. Fluxes. CLIRAD\n"
     ]
    },
    {
     "data": {
      "text/html": [
       "<div>\n",
       "<style>\n",
       "    .dataframe thead tr:only-child th {\n",
       "        text-align: right;\n",
       "    }\n",
       "\n",
       "    .dataframe thead th {\n",
       "        text-align: left;\n",
       "    }\n",
       "\n",
       "    .dataframe tbody tr th {\n",
       "        vertical-align: top;\n",
       "    }\n",
       "</style>\n",
       "<table border=\"1\" class=\"dataframe\">\n",
       "  <thead>\n",
       "    <tr style=\"text-align: right;\">\n",
       "      <th></th>\n",
       "      <th></th>\n",
       "      <th>flug</th>\n",
       "      <th>fldg</th>\n",
       "      <th>fnetg</th>\n",
       "    </tr>\n",
       "    <tr>\n",
       "      <th>pressure</th>\n",
       "      <th>level</th>\n",
       "      <th></th>\n",
       "      <th></th>\n",
       "      <th></th>\n",
       "    </tr>\n",
       "  </thead>\n",
       "  <tbody>\n",
       "    <tr>\n",
       "      <th>0.0000</th>\n",
       "      <th>1</th>\n",
       "      <td>-4.011870e-03</td>\n",
       "      <td>0.000000</td>\n",
       "      <td>-0.004012</td>\n",
       "    </tr>\n",
       "    <tr>\n",
       "      <th>1.0685</th>\n",
       "      <th>24</th>\n",
       "      <td>-4.488580e-03</td>\n",
       "      <td>0.000216</td>\n",
       "      <td>-0.004271</td>\n",
       "    </tr>\n",
       "    <tr>\n",
       "      <th>1013.0000</th>\n",
       "      <th>76</th>\n",
       "      <td>1.100000e-07</td>\n",
       "      <td>-0.098975</td>\n",
       "      <td>-0.098976</td>\n",
       "    </tr>\n",
       "  </tbody>\n",
       "</table>\n",
       "</div>"
      ],
      "text/plain": [
       "                         flug      fldg     fnetg\n",
       "pressure  level                                  \n",
       "0.0000    1     -4.011870e-03  0.000000 -0.004012\n",
       "1.0685    24    -4.488580e-03  0.000216 -0.004271\n",
       "1013.0000 76     1.100000e-07 -0.098975 -0.098976"
      ]
     },
     "metadata": {},
     "output_type": "display_data"
    },
    {
     "name": "stdout",
     "output_type": "stream",
     "text": [
      "Table. Fluxes. (CRD) - (WGT igg=10 wgt_flux=1)\n"
     ]
    },
    {
     "data": {
      "text/html": [
       "<div>\n",
       "<style>\n",
       "    .dataframe thead tr:only-child th {\n",
       "        text-align: right;\n",
       "    }\n",
       "\n",
       "    .dataframe thead th {\n",
       "        text-align: left;\n",
       "    }\n",
       "\n",
       "    .dataframe tbody tr th {\n",
       "        vertical-align: top;\n",
       "    }\n",
       "</style>\n",
       "<table border=\"1\" class=\"dataframe\">\n",
       "  <thead>\n",
       "    <tr style=\"text-align: right;\">\n",
       "      <th></th>\n",
       "      <th></th>\n",
       "      <th>flug</th>\n",
       "      <th>fldg</th>\n",
       "      <th>fnetg</th>\n",
       "    </tr>\n",
       "    <tr>\n",
       "      <th>pressure</th>\n",
       "      <th>level</th>\n",
       "      <th></th>\n",
       "      <th></th>\n",
       "      <th></th>\n",
       "    </tr>\n",
       "  </thead>\n",
       "  <tbody>\n",
       "    <tr>\n",
       "      <th>0.0000</th>\n",
       "      <th>1</th>\n",
       "      <td>-0.044006</td>\n",
       "      <td>0.000002</td>\n",
       "      <td>-0.044003</td>\n",
       "    </tr>\n",
       "    <tr>\n",
       "      <th>1.0685</th>\n",
       "      <th>24</th>\n",
       "      <td>-0.043968</td>\n",
       "      <td>-0.000414</td>\n",
       "      <td>-0.044381</td>\n",
       "    </tr>\n",
       "    <tr>\n",
       "      <th>1013.0000</th>\n",
       "      <th>76</th>\n",
       "      <td>-0.000002</td>\n",
       "      <td>-0.096762</td>\n",
       "      <td>-0.096765</td>\n",
       "    </tr>\n",
       "  </tbody>\n",
       "</table>\n",
       "</div>"
      ],
      "text/plain": [
       "                     flug      fldg     fnetg\n",
       "pressure  level                              \n",
       "0.0000    1     -0.044006  0.000002 -0.044003\n",
       "1.0685    24    -0.043968 -0.000414 -0.044381\n",
       "1013.0000 76    -0.000002 -0.096762 -0.096765"
      ]
     },
     "metadata": {},
     "output_type": "display_data"
    },
    {
     "name": "stdout",
     "output_type": "stream",
     "text": [
      "Table. Fluxes. (CLIRAD) - (WGT igg=10 wgt_flux=1)\n"
     ]
    },
    {
     "data": {
      "text/html": [
       "<a id=\"Best-fit_Parameters\"></a>"
      ],
      "text/plain": [
       "<IPython.core.display.HTML object>"
      ]
     },
     "metadata": {},
     "output_type": "display_data"
    },
    {
     "data": {
      "text/markdown": [
       "# Best-fit Parameters"
      ],
      "text/plain": [
       "<IPython.core.display.Markdown object>"
      ]
     },
     "metadata": {},
     "output_type": "display_data"
    },
    {
     "name": "stdout",
     "output_type": "stream",
     "text": [
      "Best-fit values for each (gas, band)\n",
      "------------------------------------\n",
      "o n2o band3a\n",
      "  atmpro = mls\n",
      "  band = 3a\n",
      "  commitnumber = 2bd1f75\n",
      "  conc = 3.2e-07\n",
      "  dv = 0.01\n",
      "  klin = 2.22e-20\n",
      "  molecule = n2o\n",
      "  ng_adju = [0, 0]\n",
      "  ng_refs = [1, 2]\n",
      "  nv = 100\n",
      "  option_compute_btable = 0\n",
      "  option_compute_ktable = 1\n",
      "  option_wgt_flux = 1\n",
      "  option_wgt_k = 1\n",
      "  ref_pts = [(1, 250), (500, 250)]\n",
      "  tsfc = 294\n",
      "  vmax = 620\n",
      "  vmin = 540\n",
      "  w_diffuse = [(1.8,), (1.66, 1.8)]\n",
      "  wgt = [(0.9,), (0.5, 0.95)]\n"
     ]
    }
   ],
   "source": [
    "script()"
   ]
  },
  {
   "cell_type": "code",
   "execution_count": 13,
   "metadata": {
    "collapsed": true
   },
   "outputs": [
    {
     "data": {
      "text/html": [
       "<script>\n",
       "code_show=true; \n",
       "function code_toggle() {\n",
       " if (code_show){\n",
       " $('div.input').hide();\n",
       " } else {\n",
       " $('div.input').show();\n",
       " }\n",
       " code_show = !code_show\n",
       "} \n",
       "$( document ).ready(code_toggle);\n",
       "</script>\n",
       "<form action=\"javascript:code_toggle()\"><input type=\"submit\" value=\"Click here to toggle on/off the raw code.\"></form>"
      ],
      "text/plain": [
       "<IPython.core.display.HTML object>"
      ]
     },
     "execution_count": 13,
     "metadata": {},
     "output_type": "execute_result"
    }
   ],
   "source": [
    "display.HTML('''<script>\n",
    "code_show=true; \n",
    "function code_toggle() {\n",
    " if (code_show){\n",
    " $('div.input').hide();\n",
    " } else {\n",
    " $('div.input').show();\n",
    " }\n",
    " code_show = !code_show\n",
    "} \n",
    "$( document ).ready(code_toggle);\n",
    "</script>\n",
    "<form action=\"javascript:code_toggle()\"><input type=\"submit\" value=\"Click here to toggle on/off the raw code.\"></form>''')"
   ]
  }
 ],
 "metadata": {
  "kernelspec": {
   "display_name": "Python 3",
   "language": "python",
   "name": "python3"
  },
  "language_info": {
   "codemirror_mode": {
    "name": "ipython",
    "version": 3
   },
   "file_extension": ".py",
   "mimetype": "text/x-python",
   "name": "python",
   "nbconvert_exporter": "python",
   "pygments_lexer": "ipython3",
   "version": "3.6.1"
  }
 },
 "nbformat": 4,
 "nbformat_minor": 2
}
