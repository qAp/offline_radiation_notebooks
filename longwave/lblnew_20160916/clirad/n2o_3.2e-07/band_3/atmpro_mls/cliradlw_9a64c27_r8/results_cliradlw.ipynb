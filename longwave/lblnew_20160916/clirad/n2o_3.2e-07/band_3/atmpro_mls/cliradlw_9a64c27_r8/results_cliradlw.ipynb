{
 "cells": [
  {
   "cell_type": "code",
   "execution_count": 1,
   "metadata": {
    "collapsed": true
   },
   "outputs": [],
   "source": [
    "%matplotlib inline\n",
    "import os\n",
    "import re\n",
    "import io\n",
    "import itertools\n",
    "import pprint\n",
    "\n",
    "from bokeh.io import output_notebook, show\n",
    "from bokeh.layouts import gridplot\n",
    "from bokeh.plotting import figure\n",
    "from bokeh.models import Range1d, Legend\n",
    "from bokeh.palettes import all_palettes\n",
    "\n",
    "import matplotlib\n",
    "import matplotlib.pyplot as plt\n",
    "import numpy as np\n",
    "import pandas as pd\n",
    "import xarray as xr\n",
    "\n",
    "import climatools.lblnew.bestfit_params as bestfits\n",
    "from climatools.lblnew import setup_bestfit, setup_overlap\n",
    "import climatools.lblnew.pipeline as pipe_lblnew\n",
    "import climatools.cliradlw.setup as setup_cliradlw\n",
    "import climatools.cliradlw.pipeline as pipe_cliradlw\n",
    "\n",
    "import climatools.html.html as climahtml\n",
    "from climatools.lblnew.dataio import *\n",
    "from climatools.plot.plot import *\n",
    "\n",
    "\n",
    "import IPython.display as display"
   ]
  },
  {
   "cell_type": "code",
   "execution_count": 2,
   "metadata": {
    "collapsed": true
   },
   "outputs": [],
   "source": [
    "%run param.py"
   ]
  },
  {
   "cell_type": "code",
   "execution_count": 3,
   "metadata": {
    "collapsed": true
   },
   "outputs": [
    {
     "name": "stdout",
     "output_type": "stream",
     "text": [
      "The history saving thread hit an unexpected error (OperationalError('database is locked',)).History will not be written to the database.\n"
     ]
    }
   ],
   "source": [
    "def load_output_file(path_csv):\n",
    "    '''\n",
    "    Load lblnew output .csv file to xarray.Dataset\n",
    "    \n",
    "    Parameters\n",
    "    ----------\n",
    "    path_csv: str\n",
    "              Path to the .csv file to be loaded.\n",
    "    ds: xarray.Dataset\n",
    "        Data in the input file in the form of an xarray.Dataset.\n",
    "    '''\n",
    "    toindex = ['band', 'pressure', 'igg', 'g']    \n",
    "    df = pd.read_csv(path_csv, sep=r'\\s+')\n",
    "    df = df.set_index([i for i in toindex if i in df.columns])\n",
    "    df = df.rename(columns={'sfu': 'flug',\n",
    "                            'sfd': 'fldg',\n",
    "                            'fnet': 'fnetg',\n",
    "                            'coolr': 'coolrg'})\n",
    "    ds = xr.Dataset.from_dataframe(df)\n",
    "\n",
    "    for l in ('level', 'layer'):\n",
    "        if l in ds.data_vars:\n",
    "            if len(ds[l].dims) > 1:\n",
    "                surface = {d: 0 for d in ds.dims if d != 'pressure'}\n",
    "                coord_level = ds[l][surface]\n",
    "                ds.coords[l] = ('pressure', coord_level)\n",
    "            else:\n",
    "                ds.coords[l] = ('pressure', ds[l])\n",
    "    \n",
    "    return ds"
   ]
  },
  {
   "cell_type": "code",
   "execution_count": 4,
   "metadata": {
    "collapsed": true
   },
   "outputs": [],
   "source": [
    "def lblnew_setup(param=None):\n",
    "    if 'ng_refs' in param:\n",
    "        return {'setup': setup_bestfit,\n",
    "                'fname_flux_crd': 'output_flux.dat',\n",
    "                'fname_cool_crd': 'output_coolr.dat',\n",
    "                'fname_flux_wgt': 'output_wfluxg.dat',\n",
    "                'fname_cool_wgt': 'output_wcoolrg.dat'}\n",
    "    else:\n",
    "        return {'setup': setup_overlap,\n",
    "                'fname_flux_crd': 'output_flux.dat',\n",
    "                'fname_cool_crd': 'output_coolr.dat',\n",
    "                'fname_flux_wgt': 'output_wflux.dat',\n",
    "                'fname_cool_wgt': 'output_wcoolr.dat'}\n",
    "\n",
    "    \n",
    "def load_lblnew_data(param):\n",
    "    \n",
    "    fname_dsname = [('fname_flux_crd', 'ds_flux_crd'),\n",
    "                    ('fname_cool_crd', 'ds_cool_crd'),\n",
    "                    ('fname_flux_wgt', 'ds_flux_wgt'),\n",
    "                    ('fname_cool_wgt', 'ds_cool_wgt')]\n",
    "    \n",
    "    d = lblnew_setup(param)\n",
    "    dir_fortran = pipe_lblnew.get_dir_case(param, setup=d['setup'])\n",
    "    \n",
    "    data_dict = {}\n",
    "    for fname, dsname in fname_dsname:\n",
    "        fpath = os.path.join(dir_fortran, d[fname])\n",
    "        data_dict[dsname] = load_output_file(fpath)\n",
    "    return data_dict\n",
    "    \n",
    "\n",
    "    \n",
    "    "
   ]
  },
  {
   "cell_type": "code",
   "execution_count": 5,
   "metadata": {
    "collapsed": true
   },
   "outputs": [],
   "source": [
    "d = load_lblnew_data(PARAM_LBLNEW)\n",
    "\n",
    "DS_FLUX_CRD = d['ds_flux_crd']\n",
    "DS_COOL_CRD = d['ds_cool_crd']\n",
    "DS_FLUX_WGT = d['ds_flux_wgt']\n",
    "DS_COOL_WGT = d['ds_cool_wgt']"
   ]
  },
  {
   "cell_type": "code",
   "execution_count": 6,
   "metadata": {
    "collapsed": true
   },
   "outputs": [],
   "source": [
    "DIR_FORTRAN = pipe_cliradlw.get_fortran_dir(PARAM, \n",
    "                                            setup=setup_cliradlw)\n",
    "\n",
    "PATH_FLUX = os.path.join(DIR_FORTRAN, 'output_flux.dat')\n",
    "PATH_COOL = os.path.join(DIR_FORTRAN, 'output_coolr.dat')\n",
    "\n",
    "DS_FLUX = load_output_file(PATH_FLUX)\n",
    "DS_COOL = load_output_file(PATH_COOL)"
   ]
  },
  {
   "cell_type": "code",
   "execution_count": 7,
   "metadata": {
    "collapsed": true
   },
   "outputs": [
    {
     "data": {
      "text/html": [
       "\n",
       "    <div class=\"bk-root\">\n",
       "        <a href=\"https://bokeh.pydata.org\" target=\"_blank\" class=\"bk-logo bk-logo-small bk-logo-notebook\"></a>\n",
       "        <span id=\"7e736ad9-607f-45ee-895a-4ac59cdde186\">Loading BokehJS ...</span>\n",
       "    </div>"
      ]
     },
     "metadata": {},
     "output_type": "display_data"
    },
    {
     "data": {
      "application/javascript": [
       "\n",
       "(function(root) {\n",
       "  function now() {\n",
       "    return new Date();\n",
       "  }\n",
       "\n",
       "  var force = true;\n",
       "\n",
       "  if (typeof (root._bokeh_onload_callbacks) === \"undefined\" || force === true) {\n",
       "    root._bokeh_onload_callbacks = [];\n",
       "    root._bokeh_is_loading = undefined;\n",
       "  }\n",
       "\n",
       "  var JS_MIME_TYPE = 'application/javascript';\n",
       "  var HTML_MIME_TYPE = 'text/html';\n",
       "  var EXEC_MIME_TYPE = 'application/vnd.bokehjs_exec.v0+json';\n",
       "  var CLASS_NAME = 'output_bokeh rendered_html';\n",
       "\n",
       "  /**\n",
       "   * Render data to the DOM node\n",
       "   */\n",
       "  function render(props, node) {\n",
       "    var script = document.createElement(\"script\");\n",
       "    node.appendChild(script);\n",
       "  }\n",
       "\n",
       "  /**\n",
       "   * Handle when an output is cleared or removed\n",
       "   */\n",
       "  function handleClearOutput(event, handle) {\n",
       "    var cell = handle.cell;\n",
       "\n",
       "    var id = cell.output_area._bokeh_element_id;\n",
       "    var server_id = cell.output_area._bokeh_server_id;\n",
       "    // Clean up Bokeh references\n",
       "    if (id !== undefined) {\n",
       "      Bokeh.index[id].model.document.clear();\n",
       "      delete Bokeh.index[id];\n",
       "    }\n",
       "\n",
       "    if (server_id !== undefined) {\n",
       "      // Clean up Bokeh references\n",
       "      var cmd = \"from bokeh.io.state import curstate; print(curstate().uuid_to_server['\" + server_id + \"'].get_sessions()[0].document.roots[0]._id)\";\n",
       "      cell.notebook.kernel.execute(cmd, {\n",
       "        iopub: {\n",
       "          output: function(msg) {\n",
       "            var element_id = msg.content.text.trim();\n",
       "            Bokeh.index[element_id].model.document.clear();\n",
       "            delete Bokeh.index[element_id];\n",
       "          }\n",
       "        }\n",
       "      });\n",
       "      // Destroy server and session\n",
       "      var cmd = \"import bokeh.io.notebook as ion; ion.destroy_server('\" + server_id + \"')\";\n",
       "      cell.notebook.kernel.execute(cmd);\n",
       "    }\n",
       "  }\n",
       "\n",
       "  /**\n",
       "   * Handle when a new output is added\n",
       "   */\n",
       "  function handleAddOutput(event, handle) {\n",
       "    var output_area = handle.output_area;\n",
       "    var output = handle.output;\n",
       "\n",
       "    // limit handleAddOutput to display_data with EXEC_MIME_TYPE content only\n",
       "    if ((output.output_type != \"display_data\") || (!output.data.hasOwnProperty(EXEC_MIME_TYPE))) {\n",
       "      return\n",
       "    }\n",
       "\n",
       "    var toinsert = output_area.element.find(\".\" + CLASS_NAME.split(' ')[0]);\n",
       "\n",
       "    if (output.metadata[EXEC_MIME_TYPE][\"id\"] !== undefined) {\n",
       "      toinsert[0].firstChild.textContent = output.data[JS_MIME_TYPE];\n",
       "      // store reference to embed id on output_area\n",
       "      output_area._bokeh_element_id = output.metadata[EXEC_MIME_TYPE][\"id\"];\n",
       "    }\n",
       "    if (output.metadata[EXEC_MIME_TYPE][\"server_id\"] !== undefined) {\n",
       "      var bk_div = document.createElement(\"div\");\n",
       "      bk_div.innerHTML = output.data[HTML_MIME_TYPE];\n",
       "      var script_attrs = bk_div.children[0].attributes;\n",
       "      for (var i = 0; i < script_attrs.length; i++) {\n",
       "        toinsert[0].firstChild.setAttribute(script_attrs[i].name, script_attrs[i].value);\n",
       "      }\n",
       "      // store reference to server id on output_area\n",
       "      output_area._bokeh_server_id = output.metadata[EXEC_MIME_TYPE][\"server_id\"];\n",
       "    }\n",
       "  }\n",
       "\n",
       "  function register_renderer(events, OutputArea) {\n",
       "\n",
       "    function append_mime(data, metadata, element) {\n",
       "      // create a DOM node to render to\n",
       "      var toinsert = this.create_output_subarea(\n",
       "        metadata,\n",
       "        CLASS_NAME,\n",
       "        EXEC_MIME_TYPE\n",
       "      );\n",
       "      this.keyboard_manager.register_events(toinsert);\n",
       "      // Render to node\n",
       "      var props = {data: data, metadata: metadata[EXEC_MIME_TYPE]};\n",
       "      render(props, toinsert[0]);\n",
       "      element.append(toinsert);\n",
       "      return toinsert\n",
       "    }\n",
       "\n",
       "    /* Handle when an output is cleared or removed */\n",
       "    events.on('clear_output.CodeCell', handleClearOutput);\n",
       "    events.on('delete.Cell', handleClearOutput);\n",
       "\n",
       "    /* Handle when a new output is added */\n",
       "    events.on('output_added.OutputArea', handleAddOutput);\n",
       "\n",
       "    /**\n",
       "     * Register the mime type and append_mime function with output_area\n",
       "     */\n",
       "    OutputArea.prototype.register_mime_type(EXEC_MIME_TYPE, append_mime, {\n",
       "      /* Is output safe? */\n",
       "      safe: true,\n",
       "      /* Index of renderer in `output_area.display_order` */\n",
       "      index: 0\n",
       "    });\n",
       "  }\n",
       "\n",
       "  // register the mime type if in Jupyter Notebook environment and previously unregistered\n",
       "  if (root.Jupyter !== undefined) {\n",
       "    var events = require('base/js/events');\n",
       "    var OutputArea = require('notebook/js/outputarea').OutputArea;\n",
       "\n",
       "    if (OutputArea.prototype.mime_types().indexOf(EXEC_MIME_TYPE) == -1) {\n",
       "      register_renderer(events, OutputArea);\n",
       "    }\n",
       "  }\n",
       "\n",
       "  \n",
       "  if (typeof (root._bokeh_timeout) === \"undefined\" || force === true) {\n",
       "    root._bokeh_timeout = Date.now() + 5000;\n",
       "    root._bokeh_failed_load = false;\n",
       "  }\n",
       "\n",
       "  var NB_LOAD_WARNING = {'data': {'text/html':\n",
       "     \"<div style='background-color: #fdd'>\\n\"+\n",
       "     \"<p>\\n\"+\n",
       "     \"BokehJS does not appear to have successfully loaded. If loading BokehJS from CDN, this \\n\"+\n",
       "     \"may be due to a slow or bad network connection. Possible fixes:\\n\"+\n",
       "     \"</p>\\n\"+\n",
       "     \"<ul>\\n\"+\n",
       "     \"<li>re-rerun `output_notebook()` to attempt to load from CDN again, or</li>\\n\"+\n",
       "     \"<li>use INLINE resources instead, as so:</li>\\n\"+\n",
       "     \"</ul>\\n\"+\n",
       "     \"<code>\\n\"+\n",
       "     \"from bokeh.resources import INLINE\\n\"+\n",
       "     \"output_notebook(resources=INLINE)\\n\"+\n",
       "     \"</code>\\n\"+\n",
       "     \"</div>\"}};\n",
       "\n",
       "  function display_loaded() {\n",
       "    var el = document.getElementById(\"7e736ad9-607f-45ee-895a-4ac59cdde186\");\n",
       "    if (el != null) {\n",
       "      el.textContent = \"BokehJS is loading...\";\n",
       "    }\n",
       "    if (root.Bokeh !== undefined) {\n",
       "      if (el != null) {\n",
       "        el.textContent = \"BokehJS \" + root.Bokeh.version + \" successfully loaded.\";\n",
       "      }\n",
       "    } else if (Date.now() < root._bokeh_timeout) {\n",
       "      setTimeout(display_loaded, 100)\n",
       "    }\n",
       "  }\n",
       "\n",
       "\n",
       "  function run_callbacks() {\n",
       "    try {\n",
       "      root._bokeh_onload_callbacks.forEach(function(callback) { callback() });\n",
       "    }\n",
       "    finally {\n",
       "      delete root._bokeh_onload_callbacks\n",
       "    }\n",
       "    console.info(\"Bokeh: all callbacks have finished\");\n",
       "  }\n",
       "\n",
       "  function load_libs(js_urls, callback) {\n",
       "    root._bokeh_onload_callbacks.push(callback);\n",
       "    if (root._bokeh_is_loading > 0) {\n",
       "      console.log(\"Bokeh: BokehJS is being loaded, scheduling callback at\", now());\n",
       "      return null;\n",
       "    }\n",
       "    if (js_urls == null || js_urls.length === 0) {\n",
       "      run_callbacks();\n",
       "      return null;\n",
       "    }\n",
       "    console.log(\"Bokeh: BokehJS not loaded, scheduling load and callback at\", now());\n",
       "    root._bokeh_is_loading = js_urls.length;\n",
       "    for (var i = 0; i < js_urls.length; i++) {\n",
       "      var url = js_urls[i];\n",
       "      var s = document.createElement('script');\n",
       "      s.src = url;\n",
       "      s.async = false;\n",
       "      s.onreadystatechange = s.onload = function() {\n",
       "        root._bokeh_is_loading--;\n",
       "        if (root._bokeh_is_loading === 0) {\n",
       "          console.log(\"Bokeh: all BokehJS libraries loaded\");\n",
       "          run_callbacks()\n",
       "        }\n",
       "      };\n",
       "      s.onerror = function() {\n",
       "        console.warn(\"failed to load library \" + url);\n",
       "      };\n",
       "      console.log(\"Bokeh: injecting script tag for BokehJS library: \", url);\n",
       "      document.getElementsByTagName(\"head\")[0].appendChild(s);\n",
       "    }\n",
       "  };var element = document.getElementById(\"7e736ad9-607f-45ee-895a-4ac59cdde186\");\n",
       "  if (element == null) {\n",
       "    console.log(\"Bokeh: ERROR: autoload.js configured with elementid '7e736ad9-607f-45ee-895a-4ac59cdde186' but no matching script tag was found. \")\n",
       "    return false;\n",
       "  }\n",
       "\n",
       "  var js_urls = [\"https://cdn.pydata.org/bokeh/release/bokeh-0.12.14.min.js\", \"https://cdn.pydata.org/bokeh/release/bokeh-widgets-0.12.14.min.js\", \"https://cdn.pydata.org/bokeh/release/bokeh-tables-0.12.14.min.js\", \"https://cdn.pydata.org/bokeh/release/bokeh-gl-0.12.14.min.js\"];\n",
       "\n",
       "  var inline_js = [\n",
       "    function(Bokeh) {\n",
       "      Bokeh.set_log_level(\"info\");\n",
       "    },\n",
       "    \n",
       "    function(Bokeh) {\n",
       "      \n",
       "    },\n",
       "    function(Bokeh) {\n",
       "      console.log(\"Bokeh: injecting CSS: https://cdn.pydata.org/bokeh/release/bokeh-0.12.14.min.css\");\n",
       "      Bokeh.embed.inject_css(\"https://cdn.pydata.org/bokeh/release/bokeh-0.12.14.min.css\");\n",
       "      console.log(\"Bokeh: injecting CSS: https://cdn.pydata.org/bokeh/release/bokeh-widgets-0.12.14.min.css\");\n",
       "      Bokeh.embed.inject_css(\"https://cdn.pydata.org/bokeh/release/bokeh-widgets-0.12.14.min.css\");\n",
       "      console.log(\"Bokeh: injecting CSS: https://cdn.pydata.org/bokeh/release/bokeh-tables-0.12.14.min.css\");\n",
       "      Bokeh.embed.inject_css(\"https://cdn.pydata.org/bokeh/release/bokeh-tables-0.12.14.min.css\");\n",
       "    }\n",
       "  ];\n",
       "\n",
       "  function run_inline_js() {\n",
       "    \n",
       "    if ((root.Bokeh !== undefined) || (force === true)) {\n",
       "      for (var i = 0; i < inline_js.length; i++) {\n",
       "        inline_js[i].call(root, root.Bokeh);\n",
       "      }if (force === true) {\n",
       "        display_loaded();\n",
       "      }} else if (Date.now() < root._bokeh_timeout) {\n",
       "      setTimeout(run_inline_js, 100);\n",
       "    } else if (!root._bokeh_failed_load) {\n",
       "      console.log(\"Bokeh: BokehJS failed to load within specified timeout.\");\n",
       "      root._bokeh_failed_load = true;\n",
       "    } else if (force !== true) {\n",
       "      var cell = $(document.getElementById(\"7e736ad9-607f-45ee-895a-4ac59cdde186\")).parents('.cell').data().cell;\n",
       "      cell.output_area.append_execute_result(NB_LOAD_WARNING)\n",
       "    }\n",
       "\n",
       "  }\n",
       "\n",
       "  if (root._bokeh_is_loading === 0) {\n",
       "    console.log(\"Bokeh: BokehJS loaded, going straight to plotting\");\n",
       "    run_inline_js();\n",
       "  } else {\n",
       "    load_libs(js_urls, function() {\n",
       "      console.log(\"Bokeh: BokehJS plotting callback run at\", now());\n",
       "      run_inline_js();\n",
       "    });\n",
       "  }\n",
       "}(window));"
      ],
      "application/vnd.bokehjs_load.v0+json": "\n(function(root) {\n  function now() {\n    return new Date();\n  }\n\n  var force = true;\n\n  if (typeof (root._bokeh_onload_callbacks) === \"undefined\" || force === true) {\n    root._bokeh_onload_callbacks = [];\n    root._bokeh_is_loading = undefined;\n  }\n\n  \n\n  \n  if (typeof (root._bokeh_timeout) === \"undefined\" || force === true) {\n    root._bokeh_timeout = Date.now() + 5000;\n    root._bokeh_failed_load = false;\n  }\n\n  var NB_LOAD_WARNING = {'data': {'text/html':\n     \"<div style='background-color: #fdd'>\\n\"+\n     \"<p>\\n\"+\n     \"BokehJS does not appear to have successfully loaded. If loading BokehJS from CDN, this \\n\"+\n     \"may be due to a slow or bad network connection. Possible fixes:\\n\"+\n     \"</p>\\n\"+\n     \"<ul>\\n\"+\n     \"<li>re-rerun `output_notebook()` to attempt to load from CDN again, or</li>\\n\"+\n     \"<li>use INLINE resources instead, as so:</li>\\n\"+\n     \"</ul>\\n\"+\n     \"<code>\\n\"+\n     \"from bokeh.resources import INLINE\\n\"+\n     \"output_notebook(resources=INLINE)\\n\"+\n     \"</code>\\n\"+\n     \"</div>\"}};\n\n  function display_loaded() {\n    var el = document.getElementById(\"7e736ad9-607f-45ee-895a-4ac59cdde186\");\n    if (el != null) {\n      el.textContent = \"BokehJS is loading...\";\n    }\n    if (root.Bokeh !== undefined) {\n      if (el != null) {\n        el.textContent = \"BokehJS \" + root.Bokeh.version + \" successfully loaded.\";\n      }\n    } else if (Date.now() < root._bokeh_timeout) {\n      setTimeout(display_loaded, 100)\n    }\n  }\n\n\n  function run_callbacks() {\n    try {\n      root._bokeh_onload_callbacks.forEach(function(callback) { callback() });\n    }\n    finally {\n      delete root._bokeh_onload_callbacks\n    }\n    console.info(\"Bokeh: all callbacks have finished\");\n  }\n\n  function load_libs(js_urls, callback) {\n    root._bokeh_onload_callbacks.push(callback);\n    if (root._bokeh_is_loading > 0) {\n      console.log(\"Bokeh: BokehJS is being loaded, scheduling callback at\", now());\n      return null;\n    }\n    if (js_urls == null || js_urls.length === 0) {\n      run_callbacks();\n      return null;\n    }\n    console.log(\"Bokeh: BokehJS not loaded, scheduling load and callback at\", now());\n    root._bokeh_is_loading = js_urls.length;\n    for (var i = 0; i < js_urls.length; i++) {\n      var url = js_urls[i];\n      var s = document.createElement('script');\n      s.src = url;\n      s.async = false;\n      s.onreadystatechange = s.onload = function() {\n        root._bokeh_is_loading--;\n        if (root._bokeh_is_loading === 0) {\n          console.log(\"Bokeh: all BokehJS libraries loaded\");\n          run_callbacks()\n        }\n      };\n      s.onerror = function() {\n        console.warn(\"failed to load library \" + url);\n      };\n      console.log(\"Bokeh: injecting script tag for BokehJS library: \", url);\n      document.getElementsByTagName(\"head\")[0].appendChild(s);\n    }\n  };var element = document.getElementById(\"7e736ad9-607f-45ee-895a-4ac59cdde186\");\n  if (element == null) {\n    console.log(\"Bokeh: ERROR: autoload.js configured with elementid '7e736ad9-607f-45ee-895a-4ac59cdde186' but no matching script tag was found. \")\n    return false;\n  }\n\n  var js_urls = [\"https://cdn.pydata.org/bokeh/release/bokeh-0.12.14.min.js\", \"https://cdn.pydata.org/bokeh/release/bokeh-widgets-0.12.14.min.js\", \"https://cdn.pydata.org/bokeh/release/bokeh-tables-0.12.14.min.js\", \"https://cdn.pydata.org/bokeh/release/bokeh-gl-0.12.14.min.js\"];\n\n  var inline_js = [\n    function(Bokeh) {\n      Bokeh.set_log_level(\"info\");\n    },\n    \n    function(Bokeh) {\n      \n    },\n    function(Bokeh) {\n      console.log(\"Bokeh: injecting CSS: https://cdn.pydata.org/bokeh/release/bokeh-0.12.14.min.css\");\n      Bokeh.embed.inject_css(\"https://cdn.pydata.org/bokeh/release/bokeh-0.12.14.min.css\");\n      console.log(\"Bokeh: injecting CSS: https://cdn.pydata.org/bokeh/release/bokeh-widgets-0.12.14.min.css\");\n      Bokeh.embed.inject_css(\"https://cdn.pydata.org/bokeh/release/bokeh-widgets-0.12.14.min.css\");\n      console.log(\"Bokeh: injecting CSS: https://cdn.pydata.org/bokeh/release/bokeh-tables-0.12.14.min.css\");\n      Bokeh.embed.inject_css(\"https://cdn.pydata.org/bokeh/release/bokeh-tables-0.12.14.min.css\");\n    }\n  ];\n\n  function run_inline_js() {\n    \n    if ((root.Bokeh !== undefined) || (force === true)) {\n      for (var i = 0; i < inline_js.length; i++) {\n        inline_js[i].call(root, root.Bokeh);\n      }if (force === true) {\n        display_loaded();\n      }} else if (Date.now() < root._bokeh_timeout) {\n      setTimeout(run_inline_js, 100);\n    } else if (!root._bokeh_failed_load) {\n      console.log(\"Bokeh: BokehJS failed to load within specified timeout.\");\n      root._bokeh_failed_load = true;\n    } else if (force !== true) {\n      var cell = $(document.getElementById(\"7e736ad9-607f-45ee-895a-4ac59cdde186\")).parents('.cell').data().cell;\n      cell.output_area.append_execute_result(NB_LOAD_WARNING)\n    }\n\n  }\n\n  if (root._bokeh_is_loading === 0) {\n    console.log(\"Bokeh: BokehJS loaded, going straight to plotting\");\n    run_inline_js();\n  } else {\n    load_libs(js_urls, function() {\n      console.log(\"Bokeh: BokehJS plotting callback run at\", now());\n      run_inline_js();\n    });\n  }\n}(window));"
     },
     "metadata": {},
     "output_type": "display_data"
    }
   ],
   "source": [
    "output_notebook()"
   ]
  },
  {
   "cell_type": "code",
   "execution_count": 8,
   "metadata": {
    "collapsed": true
   },
   "outputs": [],
   "source": [
    "def fmt_cool(ds_in):\n",
    "    ds = ds_in.copy(deep=True)\n",
    "    if 'igg' in ds.dims:\n",
    "        ds = ds.sel(igg=1)\n",
    "\n",
    "    if 'g' in ds.dims:\n",
    "        ds = ds.sum('g')\n",
    "            \n",
    "    if 'band' in ds.dims:\n",
    "        try:\n",
    "            ds = ds.squeeze('band')\n",
    "        except ValueError:\n",
    "            ds = ds.sum('band')\n",
    "                \n",
    "    return ds['coolrg']\n",
    "\n",
    "\n",
    "def pltdata_cooling_1(ds_cool=None,\n",
    "                      ds_cool_crd=None, ds_cool_wgt=None):\n",
    "    \n",
    "\n",
    "\n",
    "    colors = all_palettes['Set1'][4]\n",
    "    data = [{'label': 'CLIRAD `coolr_bands`',\n",
    "             'srs': fmt_cool(ds_cool),\n",
    "             'line_dash': 'dashed', 'line_width': 5,\n",
    "             'color': colors[0], 'alpha': .6},\n",
    "            {'label': 'CRD',\n",
    "             'srs': fmt_cool(ds_cool_crd),\n",
    "             'line_dash': 'solid', 'line_width': 1.5,\n",
    "             'marker': 'circle', 'marker_size': 5,\n",
    "             'color': colors[2], 'alpha': 1,},\n",
    "            {'label': 'WGT igg=10 wgt_flux=2',\n",
    "             'srs': fmt_cool(ds_cool_wgt),\n",
    "             'line_dash': 'solid', 'line_width': 3,\n",
    "             'marker': 'square', 'marker_size': 5,\n",
    "             'color': colors[3], 'alpha': .6}]\n",
    "    return data\n",
    "\n",
    "\n",
    "def nice_xlims(pltdata=None, prange=None):\n",
    "    \n",
    "    def get_slice(srs):\n",
    "        return srs.sel(pressure=slice(*prange))\n",
    "    \n",
    "    srss = [d['srs'] for d in pltdata]\n",
    "    vmin = min([get_slice(srs).min() for srs in srss])\n",
    "    vmax = max([get_slice(srs).max() for srs in srss])\n",
    "    dv = (vmax - vmin) * .01\n",
    "    return float(vmin - dv), float(vmax + dv)\n",
    "    \n",
    "\n",
    "def plt_cooling_bokeh(pltdata=None):\n",
    "    '''\n",
    "    Plot a list of cooling rate profiles using bokeh.\n",
    "    '''\n",
    "    ymin = 1e-2 \n",
    "    ymax = 1020 \n",
    "        \n",
    "    p1 = figure(title=\"Linear pressure scale\", \n",
    "                plot_width=400)        \n",
    "    xmin, xmax = nice_xlims(pltdata, prange=(50, 1050))\n",
    "    for d in pltdata:\n",
    "        if 'marker' in d:\n",
    "            getattr(p1, d['marker'])(d['srs'].values, \n",
    "                    d['srs'].coords['pressure'].values,\n",
    "                    color=d['color'], alpha=.7)\n",
    "        p1.line(d['srs'].values, \n",
    "                d['srs'].coords['pressure'].values,\n",
    "                color=d['color'], alpha=d['alpha'], \n",
    "                line_width=d['line_width'], line_dash=d['line_dash'])\n",
    "    \n",
    "    p1.y_range = Range1d(ymax, ymin)\n",
    "    p1.yaxis.axis_label = 'pressure [mb]'   \n",
    "    p1.x_range = Range1d(xmin, xmax)\n",
    "    p1.xaxis.axis_label = 'cooling rate [K/day]'\n",
    "            \n",
    "    p2 = figure(title='Log pressure scale', y_axis_type='log',\n",
    "                plot_width=560)\n",
    "    xmin, xmax = nice_xlims(pltdata, prange=(.01, 200))\n",
    "    \n",
    "    rs = []\n",
    "    for d in pltdata:\n",
    "        rd = []\n",
    "        if 'marker' in d:\n",
    "            r_mark = getattr(p2, d['marker'])(d['srs'].values, \n",
    "                        d['srs'].coords['pressure'].values,\n",
    "                        color=d['color'], alpha=.7)\n",
    "            rd.append(r_mark)\n",
    "        r_line = p2.line(d['srs'].values, \n",
    "                    d['srs'].coords['pressure'].values,\n",
    "                    color=d['color'], alpha=d['alpha'], \n",
    "                    line_width=d['line_width'], line_dash=d['line_dash'])\n",
    "        rd.append(r_line)\n",
    "      \n",
    "        rs.append(rd)\n",
    "        \n",
    "    p2.y_range = Range1d(ymax, ymin)  \n",
    "    p2.yaxis.axis_label = 'pressure [mb]'\n",
    "    \n",
    "    p2.x_range = Range1d(xmin, xmax)\n",
    "    p2.xaxis.axis_label = 'cooling rate [K/day]'\n",
    "    \n",
    "    items = [(d['label'], r) for r, d in zip(rs, pltdata)]\n",
    "    legend = Legend(items=items, location=(10, -30))\n",
    "    legend.label_text_font_size = '8pt'\n",
    "    \n",
    "    p2.add_layout(legend, 'right')  \n",
    "    \n",
    "    show(gridplot(p1, p2, ncols=2, plot_height=500))\n",
    "    \n",
    "\n",
    "def script_plt_cooling():\n",
    "    pltdata = pltdata_cooling_1(\n",
    "        ds_cool=DS_COOL,\n",
    "        ds_cool_crd=DS_COOL_CRD,\n",
    "        ds_cool_wgt=DS_COOL_WGT)\n",
    "    plt_cooling_bokeh(pltdata=pltdata)\n",
    "    print('''FIGURE. Cooling rate profiles.''')"
   ]
  },
  {
   "cell_type": "code",
   "execution_count": 9,
   "metadata": {
    "collapsed": true
   },
   "outputs": [],
   "source": [
    "def fmt_flux(ds_in):\n",
    "    ds = ds_in.copy(deep=True)\n",
    "    \n",
    "    for l in ('level', 'layer'):\n",
    "        if l in ds.data_vars:\n",
    "            if len(ds[l].dims) > 1:\n",
    "                surface = {d: 0 for d in ds.dims if d != 'pressure'}\n",
    "                coord_level = ds[l][surface]\n",
    "                ds.coords[l] = ('pressure', coord_level)\n",
    "            else:\n",
    "                ds.coords[l] = ('pressure', ds[l])\n",
    "        \n",
    "    ds = ds.isel(pressure=[0, 23, -1])\n",
    "        \n",
    "    if 'igg' in ds.dims:\n",
    "        ds = ds.sel(igg=[1])\n",
    "        ds = ds.squeeze('igg').drop('igg')\n",
    "    \n",
    "    if 'g' in ds.dims:\n",
    "        ds = ds.sum('g')\n",
    "            \n",
    "    if 'band' in ds.dims:\n",
    "        try:\n",
    "            ds = ds.squeeze('band').drop('band')\n",
    "        except ValueError:\n",
    "            ds = ds.sum('band')\n",
    "                \n",
    "    df = ds.to_dataframe()\n",
    "    df = df.set_index('level', append=True)               \n",
    "    return df\n",
    "\n",
    "\n",
    "def tbdata_flux(ds_flux=None, ds_flux_crd=None, ds_flux_wgt=None):\n",
    "    ilevels = [0, 23, -1]\n",
    "            \n",
    "    benchmark = {'label': 'WGT igg=10 wgt_flux=1',\n",
    "                 'df': fmt_flux(ds_flux_wgt)}\n",
    "    \n",
    "    tbs = [{'label': 'CRD',\n",
    "            'df': fmt_flux(ds_flux_crd)},\n",
    "           {'label': 'CLIRAD',\n",
    "            'df': fmt_flux(ds_flux)}]\n",
    "    \n",
    "    data = {'benchmark': benchmark, 'others': tbs}\n",
    "    return data\n",
    "\n",
    "\n",
    "def tb_flux(tbdata=None):\n",
    "    benchmark = tbdata['benchmark']\n",
    "    others = tbdata['others']\n",
    "    \n",
    "    def show_tb(d=None):\n",
    "        display.display(d['df'])\n",
    "        print('Table.', 'Fluxes.', d['label'])\n",
    "        \n",
    "    def show_tbdiff(d0=None, d=None):\n",
    "        df = d['df']\n",
    "        df.index = d0['df'].index\n",
    "        display.display(df - d0['df'])\n",
    "        print('Table.', 'Fluxes.', \n",
    "              '({}) - ({})'.format(d['label'], d0['label']))\n",
    "        \n",
    "    show_tb(benchmark)\n",
    "    for d in others:\n",
    "        show_tb(d)\n",
    "        \n",
    "    for d in others:\n",
    "        show_tbdiff(d=d, d0=benchmark)\n",
    "        \n",
    "        \n",
    "def script_tb_flux():\n",
    "    data = tbdata_flux(ds_flux=DS_FLUX,\n",
    "                       ds_flux_crd=DS_FLUX_CRD,\n",
    "                       ds_flux_wgt=DS_FLUX_WGT)\n",
    "    tb_flux(tbdata=data)"
   ]
  },
  {
   "cell_type": "code",
   "execution_count": 10,
   "metadata": {
    "collapsed": true
   },
   "outputs": [],
   "source": [
    "def band_map():\n",
    "    '''\n",
    "    Maps spectral bands in lblnew to spectral bands in clirad.\n",
    "    '''\n",
    "    lblnew2clirad = {'1': '1',\n",
    "            '2': '2',\n",
    "            '3a': '3',\n",
    "            '3b': '4',\n",
    "            '3c': '5',\n",
    "            '4': '6', \n",
    "            '5': '7',\n",
    "            '6': '8',\n",
    "            '7': '9', \n",
    "            '8': '10',\n",
    "            '9': '11'}\n",
    "    \n",
    "    clirad2lblnew = {clirad: lblnew \n",
    "                     for lblnew, clirad in lblnew2clirad.items()}\n",
    "    return clirad2lblnew\n",
    "\n",
    "\n",
    "def gasbands():\n",
    "    bmap = band_map()\n",
    "    gases = list(PARAM['molecule'].keys())\n",
    "    \n",
    "    bands = [bmap[str(b)] for b in PARAM['band']]\n",
    "    return list(itertools.product(gases, bands))\n",
    "\n",
    "\n",
    "def print_bestfit_params():\n",
    "    print('Best-fit values for each (gas, band)')\n",
    "    print('------------------------------------')\n",
    "    for gas, band in gasbands():\n",
    "        print('o {} band{}'.format(gas, band))\n",
    "        param = bestfits.kdist_params(molecule=gas, band=band)\n",
    "        for name, value in sorted(param.items()):\n",
    "            print(2 * ' ' + '{} = {}'.format(name, value))\n",
    "\n",
    "        \n",
    "def print_input_param():        \n",
    "    for name, value in PARAM.items():\n",
    "        print('{} = {}'.format(name, value))\n",
    "        \n",
    "        \n",
    "def print_lblnew_param():\n",
    "    for name, value in sorted(PARAM_LBLNEW.items()):\n",
    "        print('{} = {}'.format(name, value))\n"
   ]
  },
  {
   "cell_type": "code",
   "execution_count": 11,
   "metadata": {
    "collapsed": true,
    "scrolled": false
   },
   "outputs": [],
   "source": [
    "def show_html(s):\n",
    "    display.display(display.HTML(s))\n",
    "\n",
    "    \n",
    "def show_markdown(s):\n",
    "    display.display(display.Markdown(s))\n",
    "\n",
    "    \n",
    "def script():\n",
    "    \n",
    "    title = '### CLIRAD-LW'\n",
    "    s_input = 'Input Parameters'\n",
    "    s_lblnew_param = 'LBLNEW case compaired against'\n",
    "    s_bestfits = 'Best-fit Parameters'\n",
    "    s_plt_cooling = 'Cooling Rate Profiles'\n",
    "    s_tb_flux = 'Flux Comparison'\n",
    "    \n",
    "    # title\n",
    "    show_markdown('### CLIRAD-LW')\n",
    "    \n",
    "    # TOC\n",
    "    show_markdown('### Table of Contents')\n",
    "    show_html(climahtml.getHTML_hrefanchor(s_input))\n",
    "    show_html(climahtml.getHTML_hrefanchor(s_lblnew_param))\n",
    "    show_html(climahtml.getHTML_hrefanchor(s_plt_cooling))\n",
    "    show_html(climahtml.getHTML_hrefanchor(s_tb_flux))\n",
    "    show_html(climahtml.getHTML_hrefanchor(s_bestfits))\n",
    "    \n",
    "    # Input parameters\n",
    "    show_html(climahtml.getHTML_idanchor(s_input))\n",
    "    show_markdown(climahtml.getMarkdown_sectitle(s_input))\n",
    "    print_input_param()\n",
    "    \n",
    "    # LBLNEW parameters \n",
    "    show_html(climahtml.getHTML_idanchor(s_lblnew_param))\n",
    "    show_markdown(climahtml.getMarkdown_sectitle(s_lblnew_param))\n",
    "    print_lblnew_param()\n",
    "    \n",
    "    # Cooling rate profiles\n",
    "    show_html(climahtml.getHTML_idanchor(s_plt_cooling))\n",
    "    show_markdown(climahtml.getMarkdown_sectitle(s_plt_cooling))\n",
    "    script_plt_cooling()\n",
    "    \n",
    "    # Flux comparison\n",
    "    show_html(climahtml.getHTML_idanchor(s_tb_flux))\n",
    "    show_markdown(climahtml.getMarkdown_sectitle(s_tb_flux))\n",
    "    script_tb_flux()\n",
    "    \n",
    "    # Best-fit values\n",
    "    show_html(climahtml.getHTML_idanchor(s_bestfits))\n",
    "    show_markdown(climahtml.getMarkdown_sectitle(s_bestfits))\n",
    "    print_bestfit_params()\n",
    "   \n",
    "    "
   ]
  },
  {
   "cell_type": "code",
   "execution_count": 12,
   "metadata": {
    "collapsed": true,
    "scrolled": false
   },
   "outputs": [
    {
     "data": {
      "text/markdown": [
       "### CLIRAD-LW"
      ],
      "text/plain": [
       "<IPython.core.display.Markdown object>"
      ]
     },
     "metadata": {},
     "output_type": "display_data"
    },
    {
     "data": {
      "text/markdown": [
       "### Table of Contents"
      ],
      "text/plain": [
       "<IPython.core.display.Markdown object>"
      ]
     },
     "metadata": {},
     "output_type": "display_data"
    },
    {
     "data": {
      "text/html": [
       "<a href=\"#Input_Parameters\">Input Parameters</a>"
      ],
      "text/plain": [
       "<IPython.core.display.HTML object>"
      ]
     },
     "metadata": {},
     "output_type": "display_data"
    },
    {
     "data": {
      "text/html": [
       "<a href=\"#LBLNEW_case_compaired_against\">LBLNEW case compaired against</a>"
      ],
      "text/plain": [
       "<IPython.core.display.HTML object>"
      ]
     },
     "metadata": {},
     "output_type": "display_data"
    },
    {
     "data": {
      "text/html": [
       "<a href=\"#Cooling_Rate_Profiles\">Cooling Rate Profiles</a>"
      ],
      "text/plain": [
       "<IPython.core.display.HTML object>"
      ]
     },
     "metadata": {},
     "output_type": "display_data"
    },
    {
     "data": {
      "text/html": [
       "<a href=\"#Flux_Comparison\">Flux Comparison</a>"
      ],
      "text/plain": [
       "<IPython.core.display.HTML object>"
      ]
     },
     "metadata": {},
     "output_type": "display_data"
    },
    {
     "data": {
      "text/html": [
       "<a href=\"#Best-fit_Parameters\">Best-fit Parameters</a>"
      ],
      "text/plain": [
       "<IPython.core.display.HTML object>"
      ]
     },
     "metadata": {},
     "output_type": "display_data"
    },
    {
     "data": {
      "text/html": [
       "<a id=\"Input_Parameters\"></a>"
      ],
      "text/plain": [
       "<IPython.core.display.HTML object>"
      ]
     },
     "metadata": {},
     "output_type": "display_data"
    },
    {
     "data": {
      "text/markdown": [
       "# Input Parameters"
      ],
      "text/plain": [
       "<IPython.core.display.Markdown object>"
      ]
     },
     "metadata": {},
     "output_type": "display_data"
    },
    {
     "name": "stdout",
     "output_type": "stream",
     "text": [
      "atmpro = mls\n",
      "band = [3]\n",
      "commitnumber = 9a64c27_r8\n",
      "molecule = {'n2o': 3.2e-07}\n",
      "tsfc = 294\n"
     ]
    },
    {
     "data": {
      "text/html": [
       "<a id=\"LBLNEW_case_compaired_against\"></a>"
      ],
      "text/plain": [
       "<IPython.core.display.HTML object>"
      ]
     },
     "metadata": {},
     "output_type": "display_data"
    },
    {
     "data": {
      "text/markdown": [
       "# LBLNEW case compaired against"
      ],
      "text/plain": [
       "<IPython.core.display.Markdown object>"
      ]
     },
     "metadata": {},
     "output_type": "display_data"
    },
    {
     "name": "stdout",
     "output_type": "stream",
     "text": [
      "atmpro = mls\n",
      "band = 3a\n",
      "commitnumber = 2bd1f75\n",
      "conc = 3.2e-07\n",
      "dv = 0.01\n",
      "klin = 2.22e-20\n",
      "molecule = n2o\n",
      "ng_adju = [0, 0]\n",
      "ng_refs = [1, 2]\n",
      "nv = 100\n",
      "option_compute_btable = 0\n",
      "option_compute_ktable = 0\n",
      "option_wgt_flux = 1\n",
      "option_wgt_k = 1\n",
      "ref_pts = [(1, 250), (500, 250)]\n",
      "tsfc = 294\n",
      "vmax = 620\n",
      "vmin = 540\n",
      "w_diffuse = [(1.8,), (1.66, 1.8)]\n",
      "wgt = [(0.9,), (0.5, 0.95)]\n"
     ]
    },
    {
     "data": {
      "text/html": [
       "<a id=\"Cooling_Rate_Profiles\"></a>"
      ],
      "text/plain": [
       "<IPython.core.display.HTML object>"
      ]
     },
     "metadata": {},
     "output_type": "display_data"
    },
    {
     "data": {
      "text/markdown": [
       "# Cooling Rate Profiles"
      ],
      "text/plain": [
       "<IPython.core.display.Markdown object>"
      ]
     },
     "metadata": {},
     "output_type": "display_data"
    },
    {
     "data": {
      "text/html": [
       "\n",
       "<div class=\"bk-root\">\n",
       "    <div class=\"bk-plotdiv\" id=\"1494c134-d465-492c-9186-7a8afdcb59a4\"></div>\n",
       "</div>"
      ]
     },
     "metadata": {},
     "output_type": "display_data"
    },
    {
     "data": {
      "application/javascript": [
       "(function(root) {\n",
       "  function embed_document(root) {\n",
       "    \n",
       "  var docs_json = {\"1cf7930e-1739-4edb-a396-bef4945f1be8\":{\"roots\":{\"references\":[{\"attributes\":{\"fill_alpha\":{\"value\":0.1},\"fill_color\":{\"value\":\"#1f77b4\"},\"line_alpha\":{\"value\":0.1},\"line_color\":{\"value\":\"#1f77b4\"},\"x\":{\"field\":\"x\"},\"y\":{\"field\":\"y\"}},\"id\":\"fc7f81cf-f7cf-4abe-9126-92a3255d46aa\",\"type\":\"Circle\"},{\"attributes\":{\"overlay\":{\"id\":\"a0432f55-265e-4acc-bd5b-c0aca755e4e1\",\"type\":\"BoxAnnotation\"}},\"id\":\"e5583df7-438a-4760-9f2f-9bfdd36e10c7\",\"type\":\"BoxZoomTool\"},{\"attributes\":{\"data_source\":{\"id\":\"e5b35a80-4a56-47c3-850d-1cc3a301b265\",\"type\":\"ColumnDataSource\"},\"glyph\":{\"id\":\"5631968c-42f2-44d9-8e8e-e16f502c63f8\",\"type\":\"Circle\"},\"hover_glyph\":null,\"muted_glyph\":null,\"nonselection_glyph\":{\"id\":\"fc7f81cf-f7cf-4abe-9126-92a3255d46aa\",\"type\":\"Circle\"},\"selection_glyph\":null,\"view\":{\"id\":\"ab1f97f7-2fd9-4207-9991-037bc4025344\",\"type\":\"CDSView\"}},\"id\":\"f9f7628a-771a-408c-ae4a-4ba272ba0d98\",\"type\":\"GlyphRenderer\"},{\"attributes\":{\"source\":{\"id\":\"e69bf074-2ec2-42df-b169-2b320b9e7eca\",\"type\":\"ColumnDataSource\"}},\"id\":\"0d16dc2c-704d-4e48-9f2e-69b944d71879\",\"type\":\"CDSView\"},{\"attributes\":{\"bottom_units\":\"screen\",\"fill_alpha\":{\"value\":0.5},\"fill_color\":{\"value\":\"lightgrey\"},\"left_units\":\"screen\",\"level\":\"overlay\",\"line_alpha\":{\"value\":1.0},\"line_color\":{\"value\":\"black\"},\"line_dash\":[4,4],\"line_width\":{\"value\":2},\"plot\":null,\"render_mode\":\"css\",\"right_units\":\"screen\",\"top_units\":\"screen\"},\"id\":\"a0432f55-265e-4acc-bd5b-c0aca755e4e1\",\"type\":\"BoxAnnotation\"},{\"attributes\":{\"fill_alpha\":{\"value\":0.7},\"fill_color\":{\"value\":\"#984ea3\"},\"line_alpha\":{\"value\":0.7},\"line_color\":{\"value\":\"#984ea3\"},\"x\":{\"field\":\"x\"},\"y\":{\"field\":\"y\"}},\"id\":\"b7d15593-042e-40f3-95cc-aea6e54c9276\",\"type\":\"Square\"},{\"attributes\":{\"data_source\":{\"id\":\"f5701da8-cad6-4eb2-8812-32fcde019357\",\"type\":\"ColumnDataSource\"},\"glyph\":{\"id\":\"50998b38-609f-47bc-9566-1e5533fb4290\",\"type\":\"Line\"},\"hover_glyph\":null,\"muted_glyph\":null,\"nonselection_glyph\":{\"id\":\"2d9404c5-65ad-46a0-b617-de011e173b1c\",\"type\":\"Line\"},\"selection_glyph\":null,\"view\":{\"id\":\"7fc64c0f-02db-4e7c-8c9a-4e84be5acb5d\",\"type\":\"CDSView\"}},\"id\":\"9af6882e-b050-4c3b-bae0-223695f07402\",\"type\":\"GlyphRenderer\"},{\"attributes\":{\"source\":{\"id\":\"e62d946f-8eb1-4016-aace-7aeace4f4f46\",\"type\":\"ColumnDataSource\"}},\"id\":\"94355b54-2d8c-4eb9-b05f-d49bb97adfb6\",\"type\":\"CDSView\"},{\"attributes\":{\"callback\":null,\"end\":0.01,\"start\":1020},\"id\":\"12125174-7e25-4989-a30d-f1c592f0c59d\",\"type\":\"Range1d\"},{\"attributes\":{\"callback\":null,\"column_names\":[\"x\",\"y\"],\"data\":{\"x\":{\"__ndarray__\":\"mvZSEoDhcz9cYjghLB90PwxCA+2q2XU/o3Jh1uM0dz/vblio64h4P3NAjLwe33k/CDzNVTU5ez/cp4XAAZV8P7v6qv1a9X0/Cp60A71Wfz+Y95T6O12AP5JYUxNkD4E/6RCoHQbDgT+xBujxjX6CP+KNUFwjvIQ/uDJkGTsRiz+u/U6n/VWSPzjTJHv7qJc/FHSXnpJunT+yyUK93tKhP00bBtq6J6U/RUibsuysqD83M+umQ5CrPxGc84YNrKs/U5Aof7orqT+pePG4hwimPz+py2kc2KI/jxKxRESKnz8eAfAQRc+ZP+ZubWezeJQ/Eak0JQOHjj+UQNaVx4GEP3oJKreop3c/JMENFcCkYj8Uh1Li5UlOv1N5gXLQJ2+/V8SEZzaOd7/wxdqJ2WV8vwcCtFPST4C/zv1vSpSUgb/LgkXZbWSAvwefyWrxI3q/miaewnnQcr8xNkYNk1lnv4NAmQzoAVO/U6a52qicPz+K0iC0vgJhPyMCBjACtm0/XWSWT6MIdT8AM08WDQV7PwBxDpBMZIA/u7xOZbcogz8CVDaBKdCFPzbQB8FmXYg/0mvwFCvQij9O1H7dfDKNP8O6iQtUh48/LACs32PokD/Ofu4VJwiSP9g1Bg9mIpM/oFq82Zg3lD/rP39i40iVP2iA3Xl6VpY/cWkENHRglz/bVJsHyWWYP1tPAAflZJk/MdlwP31Xmj+uWsJvfTebP85lBefV/ps/e4OhoY6tnD/o5VdDR0qdP8o1vlyv3J0/00wGZtZpnj8FAFVJVfSeP51gLa5ZfZ8/\",\"dtype\":\"float64\",\"shape\":[75]},\"y\":{\"__ndarray__\":\"S/O/Q+51ND/Sv8nbtpRIP2vylNV0PVE/aTum7souWD/At0SJ8fVgPw3Iuahxymc/MSNhhJWvcD/bTfBN02d3P2zb5nxnaoA/CD5h5MAGhz8NmeH1TyaQP+zrCsc9p5Y/LbKd76fGnz/bLW5ISEmmPww9YvTcQq8/JV2OstnstT8Er5Y7M8G+P0c+r3jqkcU/5h99k6ZBzj88bCIzFzjVP4enV8oyxN0//yH99nXg5D8qOpLLf0jtP5kqGJXUifQ/c9cS8kHP/D+/DpwzojQEQIEmwoanVwxA4lgXt9HgE0BSSZ2AJuIbQAMJih9jjiNA5q4l5INuK0AwTKYKRj0zQNv5fmq8/DpAaCJseHrtQkB/+zpwzoxKQM3MzMzMeFJAZmZmZmZqWEAAAAAAAFxeQM3MzMzMJmJAmpmZmZkfZUBmZmZmZhhoQDMzMzMzEWtAAAAAAAAKbkBmZmZmZoFwQM3MzMzM/XFAMzMzMzN6c0CamZmZmfZ0QAAAAAAAc3ZAZmZmZmbvd0DNzMzMzGt5QDMzMzMz6HpAmpmZmZlkfEAAAAAAAOF9QGZmZmZmXX9AZmZmZuZsgECamZmZGSuBQM3MzMxM6YFAAAAAAICngkAzMzMzs2WDQGZmZmbmI4RAmpmZmRnihEDNzMzMTKCFQAAAAACAXoZAMzMzM7Mch0BmZmZm5tqHQJqZmZkZmYhAzczMzExXiUAAAAAAgBWKQDMzMzOz04pAZmZmZuaRi0CamZmZGVCMQM3MzMxMDo1AAAAAAIDMjUAzMzMzs4qOQGZmZmbmSI9A\",\"dtype\":\"float64\",\"shape\":[75]}}},\"id\":\"f5701da8-cad6-4eb2-8812-32fcde019357\",\"type\":\"ColumnDataSource\"},{\"attributes\":{\"fill_alpha\":{\"value\":0.1},\"fill_color\":{\"value\":\"#1f77b4\"},\"line_alpha\":{\"value\":0.1},\"line_color\":{\"value\":\"#1f77b4\"},\"x\":{\"field\":\"x\"},\"y\":{\"field\":\"y\"}},\"id\":\"4d411bd5-d777-46c9-b41e-90913253fbb6\",\"type\":\"Square\"},{\"attributes\":{\"active_drag\":\"auto\",\"active_inspect\":\"auto\",\"active_scroll\":\"auto\",\"active_tap\":\"auto\",\"tools\":[{\"id\":\"d7a987b6-b693-4a9e-8d26-803656a6b281\",\"type\":\"PanTool\"},{\"id\":\"068d850d-6618-411e-9f63-6058bdce4e80\",\"type\":\"WheelZoomTool\"},{\"id\":\"e5583df7-438a-4760-9f2f-9bfdd36e10c7\",\"type\":\"BoxZoomTool\"},{\"id\":\"b31ec768-968f-4187-b40f-ab4c2dcd0d2c\",\"type\":\"SaveTool\"},{\"id\":\"6f9ecfb4-07b5-43d9-b686-6030310f6d82\",\"type\":\"ResetTool\"},{\"id\":\"417396c5-fd76-48d0-a232-bd532cff40fa\",\"type\":\"HelpTool\"}]},\"id\":\"87f15302-bb5b-421a-8f70-5191607bea9c\",\"type\":\"Toolbar\"},{\"attributes\":{\"below\":[{\"id\":\"c5d5c48b-0fbc-4e17-a5b3-b9e99a10d4e1\",\"type\":\"LinearAxis\"}],\"left\":[{\"id\":\"85ccc157-94ce-4e4d-9634-b1cef8da09d7\",\"type\":\"LinearAxis\"}],\"plot_height\":500,\"plot_width\":400,\"renderers\":[{\"id\":\"c5d5c48b-0fbc-4e17-a5b3-b9e99a10d4e1\",\"type\":\"LinearAxis\"},{\"id\":\"74cd8102-f28a-4c0d-812a-efcd0afac353\",\"type\":\"Grid\"},{\"id\":\"85ccc157-94ce-4e4d-9634-b1cef8da09d7\",\"type\":\"LinearAxis\"},{\"id\":\"e2b2b71e-612f-43c0-8227-0b9929d23b21\",\"type\":\"Grid\"},{\"id\":\"a0432f55-265e-4acc-bd5b-c0aca755e4e1\",\"type\":\"BoxAnnotation\"},{\"id\":\"9af6882e-b050-4c3b-bae0-223695f07402\",\"type\":\"GlyphRenderer\"},{\"id\":\"f9f7628a-771a-408c-ae4a-4ba272ba0d98\",\"type\":\"GlyphRenderer\"},{\"id\":\"cef88eab-f0d7-4718-ae5d-c9507d404614\",\"type\":\"GlyphRenderer\"},{\"id\":\"a0a7d69a-da27-4929-8da6-4d3c8c58b711\",\"type\":\"GlyphRenderer\"},{\"id\":\"d5c11de1-c7b6-4dc7-8038-02bfa4996422\",\"type\":\"GlyphRenderer\"}],\"title\":{\"id\":\"0572459e-f58e-404a-8c78-3b846c3c24f9\",\"type\":\"Title\"},\"toolbar\":{\"id\":\"87f15302-bb5b-421a-8f70-5191607bea9c\",\"type\":\"Toolbar\"},\"toolbar_location\":null,\"x_range\":{\"id\":\"b58fb2a0-90a2-43e5-ac11-f764c5e163f5\",\"type\":\"Range1d\"},\"x_scale\":{\"id\":\"a53ab3b8-2bf4-477d-b145-09b7f1e73841\",\"type\":\"LinearScale\"},\"y_range\":{\"id\":\"12125174-7e25-4989-a30d-f1c592f0c59d\",\"type\":\"Range1d\"},\"y_scale\":{\"id\":\"8cf47ac1-214f-484c-b7e6-a7a838412ba5\",\"type\":\"LinearScale\"}},\"id\":\"90130ef1-1df2-453b-a868-8d8eacf769d6\",\"subtype\":\"Figure\",\"type\":\"Plot\"},{\"attributes\":{},\"id\":\"b31ec768-968f-4187-b40f-ab4c2dcd0d2c\",\"type\":\"SaveTool\"},{\"attributes\":{\"source\":{\"id\":\"e5b35a80-4a56-47c3-850d-1cc3a301b265\",\"type\":\"ColumnDataSource\"}},\"id\":\"ab1f97f7-2fd9-4207-9991-037bc4025344\",\"type\":\"CDSView\"},{\"attributes\":{},\"id\":\"d7a987b6-b693-4a9e-8d26-803656a6b281\",\"type\":\"PanTool\"},{\"attributes\":{\"dimension\":1,\"plot\":{\"id\":\"afcea52b-02b3-4327-8475-880260110389\",\"subtype\":\"Figure\",\"type\":\"Plot\"},\"ticker\":{\"id\":\"d8bcc789-04cc-4238-8316-a189a1248787\",\"type\":\"LogTicker\"}},\"id\":\"0f3c1cbc-1226-4bec-9aa6-ebe3d295724d\",\"type\":\"Grid\"},{\"attributes\":{\"callback\":null,\"column_names\":[\"x\",\"y\"],\"data\":{\"x\":{\"__ndarray__\":\"FTJrvqHuKr8m+cy7FnEBv8Cl9NEtTjY/v0sTpZ9OSD/GzodrncZSPyAq7VMleFk/DxfjucMRYD/RCtuxgm9jPzb97Jf1wWY/JbxaOTYlaj+iKq76eHltPxKSTiKXP3A/Qxb9szPEcT9xtoKsAzVzP7FO4Fg6WHg/k1D301ihgz/UA1Z2ECePP81n/1er45U/UwzZPrmtnD/TmO1jNfihP2ZTDmNb0aU/QYEPD3XgqT960cYtwCCtP+PKRtjR56w/mBZdLWOCqT8oe0aApYOlP/RlCTW6uKE/q3OfKzC1nD/l5G6lERKXPzt0TKaiYpI/GOiTQkRdjD+XTvhgqn2EPwjmUfoVtXs/wditK4eScD/jSCkhxhZTP4275YyfRF+/NvyHoCVpcb9r2o/Uvtl3v5x5/4lUC36/I7g11K04gb+CfYnz1lKAv5bNTMtwhXm/2HZWK4zWcb/kcX6uqThlv3l6WtmvKk6/fa+TAlAXRj+NQ/5TkRViP1MzhqJJNW4/mv5ARxj3dD9FDTPn6p16P4F0mMwEBYA/au4vnmSbgj/fW/t8QBKFP2gDNDq1bYc/7Q7Yvki0iT9zmcg8WuuLPz8AFurKFo4/afdQR2wckD+beaKGlymRPySeF+eiM5I/TF9bgRk6kz8MjR0QxT2UP5bNxpGhP5U/8qM9BZA/lj9djRfLJz2XP0/eYqY2Npg/mhBcrV8lmT89dow1oAGaPxO0oxrxwpo/caAir1Bpmz9AigeCav2bP/6VSZhfiZw/UMBQab8TnT/qoUtyn6CdP3GeK/YJM54/\",\"dtype\":\"float64\",\"shape\":[75]},\"y\":{\"__ndarray__\":\"GhExyth1ND/Sv8nbtpRIP2vylNV0PVE/aTum7souWD/At0SJ8fVgPw3Iuahxymc/MSNhhJWvcD/bTfBN02d3P2zb5nxnaoA/CD5h5MAGhz8NmeH1TyaQP+zrCsc9p5Y/LbKd76fGnz/bLW5ISEmmPww9YvTcQq8/JV2OstnstT8Er5Y7M8G+P0c+r3jqkcU/5h99k6ZBzj88bCIzFzjVP4enV8oyxN0//yH99nXg5D8qOpLLf0jtP5kqGJXUifQ/c9cS8kHP/D+/DpwzojQEQIEmwoanVwxA4lgXt9HgE0BSSZ2AJuIbQAMJih9jjiNA5q4l5INuK0AwTKYKRj0zQNv5fmq8/DpAaCJseHrtQkB/+zpwzoxKQM3MzMzMeFJAZmZmZmZqWEAAAAAAAFxeQM3MzMzMJmJAmpmZmZkfZUBmZmZmZhhoQDMzMzMzEWtAAAAAAAAKbkBmZmZmZoFwQM3MzMzM/XFAMzMzMzN6c0CamZmZmfZ0QAAAAAAAc3ZAZmZmZmbvd0DNzMzMzGt5QDMzMzMz6HpAmpmZmZlkfEAAAAAAAOF9QGZmZmZmXX9AZmZmZuZsgECamZmZGSuBQM3MzMxM6YFAAAAAAICngkAzMzMzs2WDQGZmZmbmI4RAmpmZmRnihEDNzMzMTKCFQAAAAACAXoZAMzMzM7Mch0BmZmZm5tqHQJqZmZkZmYhAzczMzExXiUAAAAAAgBWKQDMzMzOz04pAZmZmZuaRi0CamZmZGVCMQM3MzMxMDo1AAAAAAIDMjUAzMzMzs4qOQGZmZmbmSI9A\",\"dtype\":\"float64\",\"shape\":[75]}}},\"id\":\"e5b35a80-4a56-47c3-850d-1cc3a301b265\",\"type\":\"ColumnDataSource\"},{\"attributes\":{\"callback\":null,\"column_names\":[\"x\",\"y\"],\"data\":{\"x\":{\"__ndarray__\":\"mvZSEoDhcz9cYjghLB90PwxCA+2q2XU/o3Jh1uM0dz/vblio64h4P3NAjLwe33k/CDzNVTU5ez/cp4XAAZV8P7v6qv1a9X0/Cp60A71Wfz+Y95T6O12AP5JYUxNkD4E/6RCoHQbDgT+xBujxjX6CP+KNUFwjvIQ/uDJkGTsRiz+u/U6n/VWSPzjTJHv7qJc/FHSXnpJunT+yyUK93tKhP00bBtq6J6U/RUibsuysqD83M+umQ5CrPxGc84YNrKs/U5Aof7orqT+pePG4hwimPz+py2kc2KI/jxKxRESKnz8eAfAQRc+ZP+ZubWezeJQ/Eak0JQOHjj+UQNaVx4GEP3oJKreop3c/JMENFcCkYj8Uh1Li5UlOv1N5gXLQJ2+/V8SEZzaOd7/wxdqJ2WV8vwcCtFPST4C/zv1vSpSUgb/LgkXZbWSAvwefyWrxI3q/miaewnnQcr8xNkYNk1lnv4NAmQzoAVO/U6a52qicPz+K0iC0vgJhPyMCBjACtm0/XWSWT6MIdT8AM08WDQV7PwBxDpBMZIA/u7xOZbcogz8CVDaBKdCFPzbQB8FmXYg/0mvwFCvQij9O1H7dfDKNP8O6iQtUh48/LACs32PokD/Ofu4VJwiSP9g1Bg9mIpM/oFq82Zg3lD/rP39i40iVP2iA3Xl6VpY/cWkENHRglz/bVJsHyWWYP1tPAAflZJk/MdlwP31Xmj+uWsJvfTebP85lBefV/ps/e4OhoY6tnD/o5VdDR0qdP8o1vlyv3J0/00wGZtZpnj8FAFVJVfSeP51gLa5ZfZ8/\",\"dtype\":\"float64\",\"shape\":[75]},\"y\":{\"__ndarray__\":\"S/O/Q+51ND/Sv8nbtpRIP2vylNV0PVE/aTum7souWD/At0SJ8fVgPw3Iuahxymc/MSNhhJWvcD/bTfBN02d3P2zb5nxnaoA/CD5h5MAGhz8NmeH1TyaQP+zrCsc9p5Y/LbKd76fGnz/bLW5ISEmmPww9YvTcQq8/JV2OstnstT8Er5Y7M8G+P0c+r3jqkcU/5h99k6ZBzj88bCIzFzjVP4enV8oyxN0//yH99nXg5D8qOpLLf0jtP5kqGJXUifQ/c9cS8kHP/D+/DpwzojQEQIEmwoanVwxA4lgXt9HgE0BSSZ2AJuIbQAMJih9jjiNA5q4l5INuK0AwTKYKRj0zQNv5fmq8/DpAaCJseHrtQkB/+zpwzoxKQM3MzMzMeFJAZmZmZmZqWEAAAAAAAFxeQM3MzMzMJmJAmpmZmZkfZUBmZmZmZhhoQDMzMzMzEWtAAAAAAAAKbkBmZmZmZoFwQM3MzMzM/XFAMzMzMzN6c0CamZmZmfZ0QAAAAAAAc3ZAZmZmZmbvd0DNzMzMzGt5QDMzMzMz6HpAmpmZmZlkfEAAAAAAAOF9QGZmZmZmXX9AZmZmZuZsgECamZmZGSuBQM3MzMxM6YFAAAAAAICngkAzMzMzs2WDQGZmZmbmI4RAmpmZmRnihEDNzMzMTKCFQAAAAACAXoZAMzMzM7Mch0BmZmZm5tqHQJqZmZkZmYhAzczMzExXiUAAAAAAgBWKQDMzMzOz04pAZmZmZuaRi0CamZmZGVCMQM3MzMxMDo1AAAAAAIDMjUAzMzMzs4qOQGZmZmbmSI9A\",\"dtype\":\"float64\",\"shape\":[75]}}},\"id\":\"a096e98c-4cbb-405b-8100-3435e5f03ff6\",\"type\":\"ColumnDataSource\"},{\"attributes\":{},\"id\":\"6f9ecfb4-07b5-43d9-b686-6030310f6d82\",\"type\":\"ResetTool\"},{\"attributes\":{\"data_source\":{\"id\":\"e62d946f-8eb1-4016-aace-7aeace4f4f46\",\"type\":\"ColumnDataSource\"},\"glyph\":{\"id\":\"b7d15593-042e-40f3-95cc-aea6e54c9276\",\"type\":\"Square\"},\"hover_glyph\":null,\"muted_glyph\":null,\"nonselection_glyph\":{\"id\":\"4d411bd5-d777-46c9-b41e-90913253fbb6\",\"type\":\"Square\"},\"selection_glyph\":null,\"view\":{\"id\":\"94355b54-2d8c-4eb9-b05f-d49bb97adfb6\",\"type\":\"CDSView\"}},\"id\":\"a0a7d69a-da27-4929-8da6-4d3c8c58b711\",\"type\":\"GlyphRenderer\"},{\"attributes\":{},\"id\":\"3e7a8a5d-7a7c-44e7-8a13-683e8d908306\",\"type\":\"BasicTicker\"},{\"attributes\":{},\"id\":\"068d850d-6618-411e-9f63-6058bdce4e80\",\"type\":\"WheelZoomTool\"},{\"attributes\":{\"callback\":null,\"column_names\":[\"x\",\"y\"],\"data\":{\"x\":{\"__ndarray__\":\"2pTvvzyJcT8oGE6x1S1yP5jZUmIgjXM/5P/ZHs4DdT+a+ZmZtH12P2N0Ydd8+nc/NM0QkRN6eT+MWHa1jPx6P2dEFObugXw/1mmS7g0Jfj99kVT8SpR/P8si85AxkYA/0oPYO4RZgT8XlCrjMTKCP2ii4gvewIQ/5vAdrDXCiz9rYxifUi6TP3AgLbTBEJk/mEkUPXJ2nz+EhKw4yBqjP2qPoiMXxKY/8GxLwXOfqj8+muWxlsetP7ys5Sx10q0/ZRXj0L7zqj8XcQNwN2anP630zGak0qM/ilyhZLpkoD+mp+zg4XqaPyE9llUQt5Q/ROBlMKOGjj/SX0+z7VWEP5oMODpqiHc/oGlHAfUEZD/kRbWvFO5Cv47XiB+wdWu/ZNEbvuqgdb9UzrV1mZ16vxXETibmSH+/JIqQTNwpgb9dVQH1qRWAv5QqF0sNRHm/MKktt6ypcb/IwagU5aRkv2IVqy3Y/Em/WmOXmcl6Sz9xfS5AtxlkPwUvKskMf3A/3Gfp2gfCdj9gt8hawaR8P2NF0Cy8PYE/6Btig4wLhD+m37yRv6qGP5drebiwNIk/CSN14b6xiz/C/2o3nhKOP5ohYj6xMpA/FAFXhVBdkT8J/7cV6HqSP9L/vrufl5M/rtaWrNS0lD9TrFDkzcGVP2izQ+Pd1pY/iI9/kyPllz+oYC7Uo+qYPyk8Y70j85k/SbwTZxnmmj9C/+kvQM6bPwDHS6xNmZw/3YuinRBHnT9JBR3GB+qdPymBaeqXdZ4/hGra748Knz/0hrv2JZSfP2nDfwhaEqA/\",\"dtype\":\"float64\",\"shape\":[75]},\"y\":{\"__ndarray__\":\"GhExyth1ND/Sv8nbtpRIP2vylNV0PVE/aTum7souWD/At0SJ8fVgPw3Iuahxymc/MSNhhJWvcD/bTfBN02d3P2zb5nxnaoA/CD5h5MAGhz8NmeH1TyaQP+zrCsc9p5Y/LbKd76fGnz/bLW5ISEmmPww9YvTcQq8/JV2OstnstT8Er5Y7M8G+P0c+r3jqkcU/5h99k6ZBzj88bCIzFzjVP4enV8oyxN0//yH99nXg5D8qOpLLf0jtP5kqGJXUifQ/c9cS8kHP/D+/DpwzojQEQIEmwoanVwxA4lgXt9HgE0BSSZ2AJuIbQAMJih9jjiNA5q4l5INuK0AwTKYKRj0zQNv5fmq8/DpAaCJseHrtQkB/+zpwzoxKQM3MzMzMeFJAZmZmZmZqWEAAAAAAAFxeQM3MzMzMJmJAmpmZmZkfZUBmZmZmZhhoQDMzMzMzEWtAAAAAAAAKbkBmZmZmZoFwQM3MzMzM/XFAMzMzMzN6c0CamZmZmfZ0QAAAAAAAc3ZAZmZmZmbvd0DNzMzMzGt5QDMzMzMz6HpAmpmZmZlkfEAAAAAAAOF9QGZmZmZmXX9AZmZmZuZsgECamZmZGSuBQM3MzMxM6YFAAAAAAICngkAzMzMzs2WDQGZmZmbmI4RAmpmZmRnihEDNzMzMTKCFQAAAAACAXoZAMzMzM7Mch0BmZmZm5tqHQJqZmZkZmYhAzczMzExXiUAAAAAAgBWKQDMzMzOz04pAZmZmZuaRi0CamZmZGVCMQM3MzMxMDo1AAAAAAIDMjUAzMzMzs4qOQGZmZmbmSI9A\",\"dtype\":\"float64\",\"shape\":[75]}}},\"id\":\"e62d946f-8eb1-4016-aace-7aeace4f4f46\",\"type\":\"ColumnDataSource\"},{\"attributes\":{\"plot\":{\"id\":\"90130ef1-1df2-453b-a868-8d8eacf769d6\",\"subtype\":\"Figure\",\"type\":\"Plot\"},\"ticker\":{\"id\":\"1ac2196a-886e-4021-926d-65f0068d7463\",\"type\":\"BasicTicker\"}},\"id\":\"74cd8102-f28a-4c0d-812a-efcd0afac353\",\"type\":\"Grid\"},{\"attributes\":{\"axis_label\":\"cooling rate [K/day]\",\"formatter\":{\"id\":\"7213fed8-d374-40b1-b30a-09a842529385\",\"type\":\"BasicTickFormatter\"},\"plot\":{\"id\":\"90130ef1-1df2-453b-a868-8d8eacf769d6\",\"subtype\":\"Figure\",\"type\":\"Plot\"},\"ticker\":{\"id\":\"1ac2196a-886e-4021-926d-65f0068d7463\",\"type\":\"BasicTicker\"}},\"id\":\"c5d5c48b-0fbc-4e17-a5b3-b9e99a10d4e1\",\"type\":\"LinearAxis\"},{\"attributes\":{\"line_color\":\"#4daf4a\",\"line_width\":1.5,\"x\":{\"field\":\"x\"},\"y\":{\"field\":\"y\"}},\"id\":\"0f7a818b-be54-42af-8566-8213600ba58e\",\"type\":\"Line\"},{\"attributes\":{},\"id\":\"1ac2196a-886e-4021-926d-65f0068d7463\",\"type\":\"BasicTicker\"},{\"attributes\":{\"callback\":null,\"column_names\":[\"x\",\"y\"],\"data\":{\"x\":{\"__ndarray__\":\"2pTvvzyJcT8oGE6x1S1yP5jZUmIgjXM/5P/ZHs4DdT+a+ZmZtH12P2N0Ydd8+nc/NM0QkRN6eT+MWHa1jPx6P2dEFObugXw/1mmS7g0Jfj99kVT8SpR/P8si85AxkYA/0oPYO4RZgT8XlCrjMTKCP2ii4gvewIQ/5vAdrDXCiz9rYxifUi6TP3AgLbTBEJk/mEkUPXJ2nz+EhKw4yBqjP2qPoiMXxKY/8GxLwXOfqj8+muWxlsetP7ys5Sx10q0/ZRXj0L7zqj8XcQNwN2anP630zGak0qM/ilyhZLpkoD+mp+zg4XqaPyE9llUQt5Q/ROBlMKOGjj/SX0+z7VWEP5oMODpqiHc/oGlHAfUEZD/kRbWvFO5Cv47XiB+wdWu/ZNEbvuqgdb9UzrV1mZ16vxXETibmSH+/JIqQTNwpgb9dVQH1qRWAv5QqF0sNRHm/MKktt6ypcb/IwagU5aRkv2IVqy3Y/Em/WmOXmcl6Sz9xfS5AtxlkPwUvKskMf3A/3Gfp2gfCdj9gt8hawaR8P2NF0Cy8PYE/6Btig4wLhD+m37yRv6qGP5drebiwNIk/CSN14b6xiz/C/2o3nhKOP5ohYj6xMpA/FAFXhVBdkT8J/7cV6HqSP9L/vrufl5M/rtaWrNS0lD9TrFDkzcGVP2izQ+Pd1pY/iI9/kyPllz+oYC7Uo+qYPyk8Y70j85k/SbwTZxnmmj9C/+kvQM6bPwDHS6xNmZw/3YuinRBHnT9JBR3GB+qdPymBaeqXdZ4/hGra748Knz/0hrv2JZSfP2nDfwhaEqA/\",\"dtype\":\"float64\",\"shape\":[75]},\"y\":{\"__ndarray__\":\"GhExyth1ND/Sv8nbtpRIP2vylNV0PVE/aTum7souWD/At0SJ8fVgPw3Iuahxymc/MSNhhJWvcD/bTfBN02d3P2zb5nxnaoA/CD5h5MAGhz8NmeH1TyaQP+zrCsc9p5Y/LbKd76fGnz/bLW5ISEmmPww9YvTcQq8/JV2OstnstT8Er5Y7M8G+P0c+r3jqkcU/5h99k6ZBzj88bCIzFzjVP4enV8oyxN0//yH99nXg5D8qOpLLf0jtP5kqGJXUifQ/c9cS8kHP/D+/DpwzojQEQIEmwoanVwxA4lgXt9HgE0BSSZ2AJuIbQAMJih9jjiNA5q4l5INuK0AwTKYKRj0zQNv5fmq8/DpAaCJseHrtQkB/+zpwzoxKQM3MzMzMeFJAZmZmZmZqWEAAAAAAAFxeQM3MzMzMJmJAmpmZmZkfZUBmZmZmZhhoQDMzMzMzEWtAAAAAAAAKbkBmZmZmZoFwQM3MzMzM/XFAMzMzMzN6c0CamZmZmfZ0QAAAAAAAc3ZAZmZmZmbvd0DNzMzMzGt5QDMzMzMz6HpAmpmZmZlkfEAAAAAAAOF9QGZmZmZmXX9AZmZmZuZsgECamZmZGSuBQM3MzMxM6YFAAAAAAICngkAzMzMzs2WDQGZmZmbmI4RAmpmZmRnihEDNzMzMTKCFQAAAAACAXoZAMzMzM7Mch0BmZmZm5tqHQJqZmZkZmYhAzczMzExXiUAAAAAAgBWKQDMzMzOz04pAZmZmZuaRi0CamZmZGVCMQM3MzMxMDo1AAAAAAIDMjUAzMzMzs4qOQGZmZmbmSI9A\",\"dtype\":\"float64\",\"shape\":[75]}}},\"id\":\"91791dc2-97e0-4170-a45c-34f518705f6c\",\"type\":\"ColumnDataSource\"},{\"attributes\":{},\"id\":\"417396c5-fd76-48d0-a232-bd532cff40fa\",\"type\":\"HelpTool\"},{\"attributes\":{\"axis_label\":\"pressure [mb]\",\"formatter\":{\"id\":\"304d7a51-2538-454a-a700-69270bfe2ba3\",\"type\":\"BasicTickFormatter\"},\"plot\":{\"id\":\"90130ef1-1df2-453b-a868-8d8eacf769d6\",\"subtype\":\"Figure\",\"type\":\"Plot\"},\"ticker\":{\"id\":\"3e7a8a5d-7a7c-44e7-8a13-683e8d908306\",\"type\":\"BasicTicker\"}},\"id\":\"85ccc157-94ce-4e4d-9634-b1cef8da09d7\",\"type\":\"LinearAxis\"},{\"attributes\":{\"callback\":null,\"column_names\":[\"x\",\"y\"],\"data\":{\"x\":{\"__ndarray__\":\"FTJrvqHuKr8m+cy7FnEBv8Cl9NEtTjY/v0sTpZ9OSD/GzodrncZSPyAq7VMleFk/DxfjucMRYD/RCtuxgm9jPzb97Jf1wWY/JbxaOTYlaj+iKq76eHltPxKSTiKXP3A/Qxb9szPEcT9xtoKsAzVzP7FO4Fg6WHg/k1D301ihgz/UA1Z2ECePP81n/1er45U/UwzZPrmtnD/TmO1jNfihP2ZTDmNb0aU/QYEPD3XgqT960cYtwCCtP+PKRtjR56w/mBZdLWOCqT8oe0aApYOlP/RlCTW6uKE/q3OfKzC1nD/l5G6lERKXPzt0TKaiYpI/GOiTQkRdjD+XTvhgqn2EPwjmUfoVtXs/wditK4eScD/jSCkhxhZTP4275YyfRF+/NvyHoCVpcb9r2o/Uvtl3v5x5/4lUC36/I7g11K04gb+CfYnz1lKAv5bNTMtwhXm/2HZWK4zWcb/kcX6uqThlv3l6WtmvKk6/fa+TAlAXRj+NQ/5TkRViP1MzhqJJNW4/mv5ARxj3dD9FDTPn6p16P4F0mMwEBYA/au4vnmSbgj/fW/t8QBKFP2gDNDq1bYc/7Q7Yvki0iT9zmcg8WuuLPz8AFurKFo4/afdQR2wckD+beaKGlymRPySeF+eiM5I/TF9bgRk6kz8MjR0QxT2UP5bNxpGhP5U/8qM9BZA/lj9djRfLJz2XP0/eYqY2Npg/mhBcrV8lmT89dow1oAGaPxO0oxrxwpo/caAir1Bpmz9AigeCav2bP/6VSZhfiZw/UMBQab8TnT/qoUtyn6CdP3GeK/YJM54/\",\"dtype\":\"float64\",\"shape\":[75]},\"y\":{\"__ndarray__\":\"GhExyth1ND/Sv8nbtpRIP2vylNV0PVE/aTum7souWD/At0SJ8fVgPw3Iuahxymc/MSNhhJWvcD/bTfBN02d3P2zb5nxnaoA/CD5h5MAGhz8NmeH1TyaQP+zrCsc9p5Y/LbKd76fGnz/bLW5ISEmmPww9YvTcQq8/JV2OstnstT8Er5Y7M8G+P0c+r3jqkcU/5h99k6ZBzj88bCIzFzjVP4enV8oyxN0//yH99nXg5D8qOpLLf0jtP5kqGJXUifQ/c9cS8kHP/D+/DpwzojQEQIEmwoanVwxA4lgXt9HgE0BSSZ2AJuIbQAMJih9jjiNA5q4l5INuK0AwTKYKRj0zQNv5fmq8/DpAaCJseHrtQkB/+zpwzoxKQM3MzMzMeFJAZmZmZmZqWEAAAAAAAFxeQM3MzMzMJmJAmpmZmZkfZUBmZmZmZhhoQDMzMzMzEWtAAAAAAAAKbkBmZmZmZoFwQM3MzMzM/XFAMzMzMzN6c0CamZmZmfZ0QAAAAAAAc3ZAZmZmZmbvd0DNzMzMzGt5QDMzMzMz6HpAmpmZmZlkfEAAAAAAAOF9QGZmZmZmXX9AZmZmZuZsgECamZmZGSuBQM3MzMxM6YFAAAAAAICngkAzMzMzs2WDQGZmZmbmI4RAmpmZmRnihEDNzMzMTKCFQAAAAACAXoZAMzMzM7Mch0BmZmZm5tqHQJqZmZkZmYhAzczMzExXiUAAAAAAgBWKQDMzMzOz04pAZmZmZuaRi0CamZmZGVCMQM3MzMxMDo1AAAAAAIDMjUAzMzMzs4qOQGZmZmbmSI9A\",\"dtype\":\"float64\",\"shape\":[75]}}},\"id\":\"e69bf074-2ec2-42df-b169-2b320b9e7eca\",\"type\":\"ColumnDataSource\"},{\"attributes\":{\"callback\":null,\"end\":0.01,\"start\":1020},\"id\":\"cf75bf84-6535-483c-8375-a0131451a9fb\",\"type\":\"Range1d\"},{\"attributes\":{\"line_alpha\":0.1,\"line_color\":\"#1f77b4\",\"line_width\":1.5,\"x\":{\"field\":\"x\"},\"y\":{\"field\":\"y\"}},\"id\":\"1d0c2b66-4cd2-47f4-838e-1f4cb0d32d3c\",\"type\":\"Line\"},{\"attributes\":{\"plot\":null,\"text\":\"Linear pressure scale\"},\"id\":\"0572459e-f58e-404a-8c78-3b846c3c24f9\",\"type\":\"Title\"},{\"attributes\":{\"data_source\":{\"id\":\"e69bf074-2ec2-42df-b169-2b320b9e7eca\",\"type\":\"ColumnDataSource\"},\"glyph\":{\"id\":\"0f7a818b-be54-42af-8566-8213600ba58e\",\"type\":\"Line\"},\"hover_glyph\":null,\"muted_glyph\":null,\"nonselection_glyph\":{\"id\":\"1d0c2b66-4cd2-47f4-838e-1f4cb0d32d3c\",\"type\":\"Line\"},\"selection_glyph\":null,\"view\":{\"id\":\"0d16dc2c-704d-4e48-9f2e-69b944d71879\",\"type\":\"CDSView\"}},\"id\":\"cef88eab-f0d7-4718-ae5d-c9507d404614\",\"type\":\"GlyphRenderer\"},{\"attributes\":{\"dimension\":1,\"plot\":{\"id\":\"90130ef1-1df2-453b-a868-8d8eacf769d6\",\"subtype\":\"Figure\",\"type\":\"Plot\"},\"ticker\":{\"id\":\"3e7a8a5d-7a7c-44e7-8a13-683e8d908306\",\"type\":\"BasicTicker\"}},\"id\":\"e2b2b71e-612f-43c0-8227-0b9929d23b21\",\"type\":\"Grid\"},{\"attributes\":{},\"id\":\"8cf47ac1-214f-484c-b7e6-a7a838412ba5\",\"type\":\"LinearScale\"},{\"attributes\":{},\"id\":\"a53ab3b8-2bf4-477d-b145-09b7f1e73841\",\"type\":\"LinearScale\"},{\"attributes\":{\"callback\":null,\"column_names\":[\"x\",\"y\"],\"data\":{\"x\":{\"__ndarray__\":\"2pTvvzyJcT8oGE6x1S1yP5jZUmIgjXM/5P/ZHs4DdT+a+ZmZtH12P2N0Ydd8+nc/NM0QkRN6eT+MWHa1jPx6P2dEFObugXw/1mmS7g0Jfj99kVT8SpR/P8si85AxkYA/0oPYO4RZgT8XlCrjMTKCP2ii4gvewIQ/5vAdrDXCiz9rYxifUi6TP3AgLbTBEJk/mEkUPXJ2nz+EhKw4yBqjP2qPoiMXxKY/8GxLwXOfqj8+muWxlsetP7ys5Sx10q0/ZRXj0L7zqj8XcQNwN2anP630zGak0qM/ilyhZLpkoD+mp+zg4XqaPyE9llUQt5Q/ROBlMKOGjj/SX0+z7VWEP5oMODpqiHc/oGlHAfUEZD/kRbWvFO5Cv47XiB+wdWu/ZNEbvuqgdb9UzrV1mZ16vxXETibmSH+/JIqQTNwpgb9dVQH1qRWAv5QqF0sNRHm/MKktt6ypcb/IwagU5aRkv2IVqy3Y/Em/WmOXmcl6Sz9xfS5AtxlkPwUvKskMf3A/3Gfp2gfCdj9gt8hawaR8P2NF0Cy8PYE/6Btig4wLhD+m37yRv6qGP5drebiwNIk/CSN14b6xiz/C/2o3nhKOP5ohYj6xMpA/FAFXhVBdkT8J/7cV6HqSP9L/vrufl5M/rtaWrNS0lD9TrFDkzcGVP2izQ+Pd1pY/iI9/kyPllz+oYC7Uo+qYPyk8Y70j85k/SbwTZxnmmj9C/+kvQM6bPwDHS6xNmZw/3YuinRBHnT9JBR3GB+qdPymBaeqXdZ4/hGra748Knz/0hrv2JZSfP2nDfwhaEqA/\",\"dtype\":\"float64\",\"shape\":[75]},\"y\":{\"__ndarray__\":\"GhExyth1ND/Sv8nbtpRIP2vylNV0PVE/aTum7souWD/At0SJ8fVgPw3Iuahxymc/MSNhhJWvcD/bTfBN02d3P2zb5nxnaoA/CD5h5MAGhz8NmeH1TyaQP+zrCsc9p5Y/LbKd76fGnz/bLW5ISEmmPww9YvTcQq8/JV2OstnstT8Er5Y7M8G+P0c+r3jqkcU/5h99k6ZBzj88bCIzFzjVP4enV8oyxN0//yH99nXg5D8qOpLLf0jtP5kqGJXUifQ/c9cS8kHP/D+/DpwzojQEQIEmwoanVwxA4lgXt9HgE0BSSZ2AJuIbQAMJih9jjiNA5q4l5INuK0AwTKYKRj0zQNv5fmq8/DpAaCJseHrtQkB/+zpwzoxKQM3MzMzMeFJAZmZmZmZqWEAAAAAAAFxeQM3MzMzMJmJAmpmZmZkfZUBmZmZmZhhoQDMzMzMzEWtAAAAAAAAKbkBmZmZmZoFwQM3MzMzM/XFAMzMzMzN6c0CamZmZmfZ0QAAAAAAAc3ZAZmZmZmbvd0DNzMzMzGt5QDMzMzMz6HpAmpmZmZlkfEAAAAAAAOF9QGZmZmZmXX9AZmZmZuZsgECamZmZGSuBQM3MzMxM6YFAAAAAAICngkAzMzMzs2WDQGZmZmbmI4RAmpmZmRnihEDNzMzMTKCFQAAAAACAXoZAMzMzM7Mch0BmZmZm5tqHQJqZmZkZmYhAzczMzExXiUAAAAAAgBWKQDMzMzOz04pAZmZmZuaRi0CamZmZGVCMQM3MzMxMDo1AAAAAAIDMjUAzMzMzs4qOQGZmZmbmSI9A\",\"dtype\":\"float64\",\"shape\":[75]}}},\"id\":\"b4e800cd-16fa-45f5-9687-493bdeaf7ab4\",\"type\":\"ColumnDataSource\"},{\"attributes\":{},\"id\":\"63bde079-b3d2-49a7-9619-527a9808e8b2\",\"type\":\"LinearScale\"},{\"attributes\":{\"below\":[{\"id\":\"b8110bf8-b52d-443c-b45b-8c14a53d3c0a\",\"type\":\"LinearAxis\"}],\"left\":[{\"id\":\"e01029c0-fc5f-49b6-9339-59b730c2a78f\",\"type\":\"LogAxis\"}],\"plot_height\":500,\"plot_width\":560,\"renderers\":[{\"id\":\"b8110bf8-b52d-443c-b45b-8c14a53d3c0a\",\"type\":\"LinearAxis\"},{\"id\":\"c02f0b1e-1b74-4467-b2a9-4858b2318288\",\"type\":\"Grid\"},{\"id\":\"e01029c0-fc5f-49b6-9339-59b730c2a78f\",\"type\":\"LogAxis\"},{\"id\":\"0f3c1cbc-1226-4bec-9aa6-ebe3d295724d\",\"type\":\"Grid\"},{\"id\":\"3db69ad3-0895-420f-b7f9-79a741548686\",\"type\":\"BoxAnnotation\"},{\"id\":\"dd71edef-a350-4412-93ab-9a8b3a78a3b4\",\"type\":\"GlyphRenderer\"},{\"id\":\"0eece4ac-7d50-403d-bf6c-f37994fbbd9c\",\"type\":\"GlyphRenderer\"},{\"id\":\"61a39313-f1f1-4ce1-aac7-944f15140a60\",\"type\":\"GlyphRenderer\"},{\"id\":\"17e2bbab-c9a7-4e1a-a841-86eb880dbfd8\",\"type\":\"GlyphRenderer\"},{\"id\":\"752138d0-460a-40fa-8475-2273d449fe1c\",\"type\":\"GlyphRenderer\"},{\"id\":\"d4aea6c7-e7af-4039-ac48-3e1148ddf118\",\"type\":\"Legend\"}],\"right\":[{\"id\":\"d4aea6c7-e7af-4039-ac48-3e1148ddf118\",\"type\":\"Legend\"}],\"title\":{\"id\":\"61de6e05-2d4a-4ccf-ab61-cf8dc91b2e15\",\"type\":\"Title\"},\"toolbar\":{\"id\":\"85eebee6-8538-4e8d-9023-eaf4e8f9b546\",\"type\":\"Toolbar\"},\"toolbar_location\":null,\"x_range\":{\"id\":\"addd8b40-de11-4fa5-b834-daef8a3644d8\",\"type\":\"Range1d\"},\"x_scale\":{\"id\":\"63bde079-b3d2-49a7-9619-527a9808e8b2\",\"type\":\"LinearScale\"},\"y_range\":{\"id\":\"cf75bf84-6535-483c-8375-a0131451a9fb\",\"type\":\"Range1d\"},\"y_scale\":{\"id\":\"f82ac3f7-2852-4ae0-8df0-fa2247e7bf13\",\"type\":\"LogScale\"}},\"id\":\"afcea52b-02b3-4327-8475-880260110389\",\"subtype\":\"Figure\",\"type\":\"Plot\"},{\"attributes\":{},\"id\":\"7213fed8-d374-40b1-b30a-09a842529385\",\"type\":\"BasicTickFormatter\"},{\"attributes\":{\"callback\":null,\"end\":0.031789754159999996,\"start\":-0.00898391556},\"id\":\"b58fb2a0-90a2-43e5-ac11-f764c5e163f5\",\"type\":\"Range1d\"},{\"attributes\":{\"plot\":null,\"text\":\"Log pressure scale\"},\"id\":\"61de6e05-2d4a-4ccf-ab61-cf8dc91b2e15\",\"type\":\"Title\"},{\"attributes\":{\"active_drag\":\"auto\",\"active_inspect\":\"auto\",\"active_scroll\":\"auto\",\"active_tap\":\"auto\",\"tools\":[{\"id\":\"c50b16c5-a479-44b9-9e81-b6dec2d2860a\",\"type\":\"PanTool\"},{\"id\":\"8c651a61-f5fd-4168-9c8f-28a65454ddc5\",\"type\":\"WheelZoomTool\"},{\"id\":\"25b7cabe-15f5-4376-af2f-1f173ab3ff4b\",\"type\":\"BoxZoomTool\"},{\"id\":\"56589656-ba79-443a-a196-694a065de51d\",\"type\":\"SaveTool\"},{\"id\":\"ef088373-0422-4d06-93ab-a97dbac3c34d\",\"type\":\"ResetTool\"},{\"id\":\"e793393a-c1fc-44d4-9220-07802f596615\",\"type\":\"HelpTool\"}]},\"id\":\"85eebee6-8538-4e8d-9023-eaf4e8f9b546\",\"type\":\"Toolbar\"},{\"attributes\":{\"line_alpha\":0.1,\"line_color\":\"#1f77b4\",\"line_dash\":[6],\"line_width\":5,\"x\":{\"field\":\"x\"},\"y\":{\"field\":\"y\"}},\"id\":\"2d9404c5-65ad-46a0-b617-de011e173b1c\",\"type\":\"Line\"},{\"attributes\":{},\"id\":\"4ee82a32-7784-4db7-bdcc-e5bb90445734\",\"type\":\"BasicTicker\"},{\"attributes\":{\"num_minor_ticks\":10},\"id\":\"d8bcc789-04cc-4238-8316-a189a1248787\",\"type\":\"LogTicker\"},{\"attributes\":{\"plot\":{\"id\":\"afcea52b-02b3-4327-8475-880260110389\",\"subtype\":\"Figure\",\"type\":\"Plot\"},\"ticker\":{\"id\":\"4ee82a32-7784-4db7-bdcc-e5bb90445734\",\"type\":\"BasicTicker\"}},\"id\":\"c02f0b1e-1b74-4467-b2a9-4858b2318288\",\"type\":\"Grid\"},{\"attributes\":{\"callback\":null,\"column_names\":[\"x\",\"y\"],\"data\":{\"x\":{\"__ndarray__\":\"2pTvvzyJcT8oGE6x1S1yP5jZUmIgjXM/5P/ZHs4DdT+a+ZmZtH12P2N0Ydd8+nc/NM0QkRN6eT+MWHa1jPx6P2dEFObugXw/1mmS7g0Jfj99kVT8SpR/P8si85AxkYA/0oPYO4RZgT8XlCrjMTKCP2ii4gvewIQ/5vAdrDXCiz9rYxifUi6TP3AgLbTBEJk/mEkUPXJ2nz+EhKw4yBqjP2qPoiMXxKY/8GxLwXOfqj8+muWxlsetP7ys5Sx10q0/ZRXj0L7zqj8XcQNwN2anP630zGak0qM/ilyhZLpkoD+mp+zg4XqaPyE9llUQt5Q/ROBlMKOGjj/SX0+z7VWEP5oMODpqiHc/oGlHAfUEZD/kRbWvFO5Cv47XiB+wdWu/ZNEbvuqgdb9UzrV1mZ16vxXETibmSH+/JIqQTNwpgb9dVQH1qRWAv5QqF0sNRHm/MKktt6ypcb/IwagU5aRkv2IVqy3Y/Em/WmOXmcl6Sz9xfS5AtxlkPwUvKskMf3A/3Gfp2gfCdj9gt8hawaR8P2NF0Cy8PYE/6Btig4wLhD+m37yRv6qGP5drebiwNIk/CSN14b6xiz/C/2o3nhKOP5ohYj6xMpA/FAFXhVBdkT8J/7cV6HqSP9L/vrufl5M/rtaWrNS0lD9TrFDkzcGVP2izQ+Pd1pY/iI9/kyPllz+oYC7Uo+qYPyk8Y70j85k/SbwTZxnmmj9C/+kvQM6bPwDHS6xNmZw/3YuinRBHnT9JBR3GB+qdPymBaeqXdZ4/hGra748Knz/0hrv2JZSfP2nDfwhaEqA/\",\"dtype\":\"float64\",\"shape\":[75]},\"y\":{\"__ndarray__\":\"GhExyth1ND/Sv8nbtpRIP2vylNV0PVE/aTum7souWD/At0SJ8fVgPw3Iuahxymc/MSNhhJWvcD/bTfBN02d3P2zb5nxnaoA/CD5h5MAGhz8NmeH1TyaQP+zrCsc9p5Y/LbKd76fGnz/bLW5ISEmmPww9YvTcQq8/JV2OstnstT8Er5Y7M8G+P0c+r3jqkcU/5h99k6ZBzj88bCIzFzjVP4enV8oyxN0//yH99nXg5D8qOpLLf0jtP5kqGJXUifQ/c9cS8kHP/D+/DpwzojQEQIEmwoanVwxA4lgXt9HgE0BSSZ2AJuIbQAMJih9jjiNA5q4l5INuK0AwTKYKRj0zQNv5fmq8/DpAaCJseHrtQkB/+zpwzoxKQM3MzMzMeFJAZmZmZmZqWEAAAAAAAFxeQM3MzMzMJmJAmpmZmZkfZUBmZmZmZhhoQDMzMzMzEWtAAAAAAAAKbkBmZmZmZoFwQM3MzMzM/XFAMzMzMzN6c0CamZmZmfZ0QAAAAAAAc3ZAZmZmZmbvd0DNzMzMzGt5QDMzMzMz6HpAmpmZmZlkfEAAAAAAAOF9QGZmZmZmXX9AZmZmZuZsgECamZmZGSuBQM3MzMxM6YFAAAAAAICngkAzMzMzs2WDQGZmZmbmI4RAmpmZmRnihEDNzMzMTKCFQAAAAACAXoZAMzMzM7Mch0BmZmZm5tqHQJqZmZkZmYhAzczMzExXiUAAAAAAgBWKQDMzMzOz04pAZmZmZuaRi0CamZmZGVCMQM3MzMxMDo1AAAAAAIDMjUAzMzMzs4qOQGZmZmbmSI9A\",\"dtype\":\"float64\",\"shape\":[75]}}},\"id\":\"c9dd2d1d-9edc-48e5-89db-b78fa4deea0a\",\"type\":\"ColumnDataSource\"},{\"attributes\":{\"axis_label\":\"cooling rate [K/day]\",\"formatter\":{\"id\":\"ab67b58f-16c9-47ea-bf51-c90818164898\",\"type\":\"BasicTickFormatter\"},\"plot\":{\"id\":\"afcea52b-02b3-4327-8475-880260110389\",\"subtype\":\"Figure\",\"type\":\"Plot\"},\"ticker\":{\"id\":\"4ee82a32-7784-4db7-bdcc-e5bb90445734\",\"type\":\"BasicTicker\"}},\"id\":\"b8110bf8-b52d-443c-b45b-8c14a53d3c0a\",\"type\":\"LinearAxis\"},{\"attributes\":{\"ticker\":null},\"id\":\"edf1f6c3-7286-4ff5-aad9-6914bc07d853\",\"type\":\"LogTickFormatter\"},{\"attributes\":{},\"id\":\"f82ac3f7-2852-4ae0-8df0-fa2247e7bf13\",\"type\":\"LogScale\"},{\"attributes\":{\"fill_alpha\":{\"value\":0.1},\"fill_color\":{\"value\":\"#1f77b4\"},\"line_alpha\":{\"value\":0.1},\"line_color\":{\"value\":\"#1f77b4\"},\"x\":{\"field\":\"x\"},\"y\":{\"field\":\"y\"}},\"id\":\"4dce3464-59ff-462b-aa39-40c6d64a599e\",\"type\":\"Circle\"},{\"attributes\":{\"axis_label\":\"pressure [mb]\",\"formatter\":{\"id\":\"edf1f6c3-7286-4ff5-aad9-6914bc07d853\",\"type\":\"LogTickFormatter\"},\"plot\":{\"id\":\"afcea52b-02b3-4327-8475-880260110389\",\"subtype\":\"Figure\",\"type\":\"Plot\"},\"ticker\":{\"id\":\"d8bcc789-04cc-4238-8316-a189a1248787\",\"type\":\"LogTicker\"}},\"id\":\"e01029c0-fc5f-49b6-9339-59b730c2a78f\",\"type\":\"LogAxis\"},{\"attributes\":{\"fill_alpha\":{\"value\":0.7},\"fill_color\":{\"value\":\"#4daf4a\"},\"line_alpha\":{\"value\":0.7},\"line_color\":{\"value\":\"#4daf4a\"},\"x\":{\"field\":\"x\"},\"y\":{\"field\":\"y\"}},\"id\":\"747427eb-e553-484d-954d-58ba8ef7ba6e\",\"type\":\"Circle\"},{\"attributes\":{\"children\":[{\"id\":\"b6a943c2-5eba-4384-872c-d510cab93d5f\",\"type\":\"Row\"}]},\"id\":\"04611d49-d280-4a10-bac7-a6d857f415e2\",\"type\":\"Column\"},{\"attributes\":{\"callback\":null,\"column_names\":[\"x\",\"y\"],\"data\":{\"x\":{\"__ndarray__\":\"FTJrvqHuKr8m+cy7FnEBv8Cl9NEtTjY/v0sTpZ9OSD/GzodrncZSPyAq7VMleFk/DxfjucMRYD/RCtuxgm9jPzb97Jf1wWY/JbxaOTYlaj+iKq76eHltPxKSTiKXP3A/Qxb9szPEcT9xtoKsAzVzP7FO4Fg6WHg/k1D301ihgz/UA1Z2ECePP81n/1er45U/UwzZPrmtnD/TmO1jNfihP2ZTDmNb0aU/QYEPD3XgqT960cYtwCCtP+PKRtjR56w/mBZdLWOCqT8oe0aApYOlP/RlCTW6uKE/q3OfKzC1nD/l5G6lERKXPzt0TKaiYpI/GOiTQkRdjD+XTvhgqn2EPwjmUfoVtXs/wditK4eScD/jSCkhxhZTP4275YyfRF+/NvyHoCVpcb9r2o/Uvtl3v5x5/4lUC36/I7g11K04gb+CfYnz1lKAv5bNTMtwhXm/2HZWK4zWcb/kcX6uqThlv3l6WtmvKk6/fa+TAlAXRj+NQ/5TkRViP1MzhqJJNW4/mv5ARxj3dD9FDTPn6p16P4F0mMwEBYA/au4vnmSbgj/fW/t8QBKFP2gDNDq1bYc/7Q7Yvki0iT9zmcg8WuuLPz8AFurKFo4/afdQR2wckD+beaKGlymRPySeF+eiM5I/TF9bgRk6kz8MjR0QxT2UP5bNxpGhP5U/8qM9BZA/lj9djRfLJz2XP0/eYqY2Npg/mhBcrV8lmT89dow1oAGaPxO0oxrxwpo/caAir1Bpmz9AigeCav2bP/6VSZhfiZw/UMBQab8TnT/qoUtyn6CdP3GeK/YJM54/\",\"dtype\":\"float64\",\"shape\":[75]},\"y\":{\"__ndarray__\":\"GhExyth1ND/Sv8nbtpRIP2vylNV0PVE/aTum7souWD/At0SJ8fVgPw3Iuahxymc/MSNhhJWvcD/bTfBN02d3P2zb5nxnaoA/CD5h5MAGhz8NmeH1TyaQP+zrCsc9p5Y/LbKd76fGnz/bLW5ISEmmPww9YvTcQq8/JV2OstnstT8Er5Y7M8G+P0c+r3jqkcU/5h99k6ZBzj88bCIzFzjVP4enV8oyxN0//yH99nXg5D8qOpLLf0jtP5kqGJXUifQ/c9cS8kHP/D+/DpwzojQEQIEmwoanVwxA4lgXt9HgE0BSSZ2AJuIbQAMJih9jjiNA5q4l5INuK0AwTKYKRj0zQNv5fmq8/DpAaCJseHrtQkB/+zpwzoxKQM3MzMzMeFJAZmZmZmZqWEAAAAAAAFxeQM3MzMzMJmJAmpmZmZkfZUBmZmZmZhhoQDMzMzMzEWtAAAAAAAAKbkBmZmZmZoFwQM3MzMzM/XFAMzMzMzN6c0CamZmZmfZ0QAAAAAAAc3ZAZmZmZmbvd0DNzMzMzGt5QDMzMzMz6HpAmpmZmZlkfEAAAAAAAOF9QGZmZmZmXX9AZmZmZuZsgECamZmZGSuBQM3MzMxM6YFAAAAAAICngkAzMzMzs2WDQGZmZmbmI4RAmpmZmRnihEDNzMzMTKCFQAAAAACAXoZAMzMzM7Mch0BmZmZm5tqHQJqZmZkZmYhAzczMzExXiUAAAAAAgBWKQDMzMzOz04pAZmZmZuaRi0CamZmZGVCMQM3MzMxMDo1AAAAAAIDMjUAzMzMzs4qOQGZmZmbmSI9A\",\"dtype\":\"float64\",\"shape\":[75]}}},\"id\":\"a8e45811-ef61-4201-a20c-223331376a4c\",\"type\":\"ColumnDataSource\"},{\"attributes\":{\"bottom_units\":\"screen\",\"fill_alpha\":{\"value\":0.5},\"fill_color\":{\"value\":\"lightgrey\"},\"left_units\":\"screen\",\"level\":\"overlay\",\"line_alpha\":{\"value\":1.0},\"line_color\":{\"value\":\"black\"},\"line_dash\":[4,4],\"line_width\":{\"value\":2},\"plot\":null,\"render_mode\":\"css\",\"right_units\":\"screen\",\"top_units\":\"screen\"},\"id\":\"3db69ad3-0895-420f-b7f9-79a741548686\",\"type\":\"BoxAnnotation\"},{\"attributes\":{},\"id\":\"56589656-ba79-443a-a196-694a065de51d\",\"type\":\"SaveTool\"},{\"attributes\":{},\"id\":\"c50b16c5-a479-44b9-9e81-b6dec2d2860a\",\"type\":\"PanTool\"},{\"attributes\":{},\"id\":\"ab67b58f-16c9-47ea-bf51-c90818164898\",\"type\":\"BasicTickFormatter\"},{\"attributes\":{},\"id\":\"8c651a61-f5fd-4168-9c8f-28a65454ddc5\",\"type\":\"WheelZoomTool\"},{\"attributes\":{\"overlay\":{\"id\":\"3db69ad3-0895-420f-b7f9-79a741548686\",\"type\":\"BoxAnnotation\"}},\"id\":\"25b7cabe-15f5-4376-af2f-1f173ab3ff4b\",\"type\":\"BoxZoomTool\"},{\"attributes\":{\"callback\":null,\"column_names\":[\"x\",\"y\"],\"data\":{\"x\":{\"__ndarray__\":\"FTJrvqHuKr8m+cy7FnEBv8Cl9NEtTjY/v0sTpZ9OSD/GzodrncZSPyAq7VMleFk/DxfjucMRYD/RCtuxgm9jPzb97Jf1wWY/JbxaOTYlaj+iKq76eHltPxKSTiKXP3A/Qxb9szPEcT9xtoKsAzVzP7FO4Fg6WHg/k1D301ihgz/UA1Z2ECePP81n/1er45U/UwzZPrmtnD/TmO1jNfihP2ZTDmNb0aU/QYEPD3XgqT960cYtwCCtP+PKRtjR56w/mBZdLWOCqT8oe0aApYOlP/RlCTW6uKE/q3OfKzC1nD/l5G6lERKXPzt0TKaiYpI/GOiTQkRdjD+XTvhgqn2EPwjmUfoVtXs/wditK4eScD/jSCkhxhZTP4275YyfRF+/NvyHoCVpcb9r2o/Uvtl3v5x5/4lUC36/I7g11K04gb+CfYnz1lKAv5bNTMtwhXm/2HZWK4zWcb/kcX6uqThlv3l6WtmvKk6/fa+TAlAXRj+NQ/5TkRViP1MzhqJJNW4/mv5ARxj3dD9FDTPn6p16P4F0mMwEBYA/au4vnmSbgj/fW/t8QBKFP2gDNDq1bYc/7Q7Yvki0iT9zmcg8WuuLPz8AFurKFo4/afdQR2wckD+beaKGlymRPySeF+eiM5I/TF9bgRk6kz8MjR0QxT2UP5bNxpGhP5U/8qM9BZA/lj9djRfLJz2XP0/eYqY2Npg/mhBcrV8lmT89dow1oAGaPxO0oxrxwpo/caAir1Bpmz9AigeCav2bP/6VSZhfiZw/UMBQab8TnT/qoUtyn6CdP3GeK/YJM54/\",\"dtype\":\"float64\",\"shape\":[75]},\"y\":{\"__ndarray__\":\"GhExyth1ND/Sv8nbtpRIP2vylNV0PVE/aTum7souWD/At0SJ8fVgPw3Iuahxymc/MSNhhJWvcD/bTfBN02d3P2zb5nxnaoA/CD5h5MAGhz8NmeH1TyaQP+zrCsc9p5Y/LbKd76fGnz/bLW5ISEmmPww9YvTcQq8/JV2OstnstT8Er5Y7M8G+P0c+r3jqkcU/5h99k6ZBzj88bCIzFzjVP4enV8oyxN0//yH99nXg5D8qOpLLf0jtP5kqGJXUifQ/c9cS8kHP/D+/DpwzojQEQIEmwoanVwxA4lgXt9HgE0BSSZ2AJuIbQAMJih9jjiNA5q4l5INuK0AwTKYKRj0zQNv5fmq8/DpAaCJseHrtQkB/+zpwzoxKQM3MzMzMeFJAZmZmZmZqWEAAAAAAAFxeQM3MzMzMJmJAmpmZmZkfZUBmZmZmZhhoQDMzMzMzEWtAAAAAAAAKbkBmZmZmZoFwQM3MzMzM/XFAMzMzMzN6c0CamZmZmfZ0QAAAAAAAc3ZAZmZmZmbvd0DNzMzMzGt5QDMzMzMz6HpAmpmZmZlkfEAAAAAAAOF9QGZmZmZmXX9AZmZmZuZsgECamZmZGSuBQM3MzMxM6YFAAAAAAICngkAzMzMzs2WDQGZmZmbmI4RAmpmZmRnihEDNzMzMTKCFQAAAAACAXoZAMzMzM7Mch0BmZmZm5tqHQJqZmZkZmYhAzczMzExXiUAAAAAAgBWKQDMzMzOz04pAZmZmZuaRi0CamZmZGVCMQM3MzMxMDo1AAAAAAIDMjUAzMzMzs4qOQGZmZmbmSI9A\",\"dtype\":\"float64\",\"shape\":[75]}}},\"id\":\"6797e3ff-dd32-4b0c-bd22-18367bf5b79e\",\"type\":\"ColumnDataSource\"},{\"attributes\":{},\"id\":\"ef088373-0422-4d06-93ab-a97dbac3c34d\",\"type\":\"ResetTool\"},{\"attributes\":{\"data_source\":{\"id\":\"a8e45811-ef61-4201-a20c-223331376a4c\",\"type\":\"ColumnDataSource\"},\"glyph\":{\"id\":\"747427eb-e553-484d-954d-58ba8ef7ba6e\",\"type\":\"Circle\"},\"hover_glyph\":null,\"muted_glyph\":null,\"nonselection_glyph\":{\"id\":\"4dce3464-59ff-462b-aa39-40c6d64a599e\",\"type\":\"Circle\"},\"selection_glyph\":null,\"view\":{\"id\":\"142cc607-7abf-45aa-b980-5dd03f5af913\",\"type\":\"CDSView\"}},\"id\":\"0eece4ac-7d50-403d-bf6c-f37994fbbd9c\",\"type\":\"GlyphRenderer\"},{\"attributes\":{},\"id\":\"e793393a-c1fc-44d4-9220-07802f596615\",\"type\":\"HelpTool\"},{\"attributes\":{\"source\":{\"id\":\"a8e45811-ef61-4201-a20c-223331376a4c\",\"type\":\"ColumnDataSource\"}},\"id\":\"142cc607-7abf-45aa-b980-5dd03f5af913\",\"type\":\"CDSView\"},{\"attributes\":{\"line_color\":\"#4daf4a\",\"line_width\":1.5,\"x\":{\"field\":\"x\"},\"y\":{\"field\":\"y\"}},\"id\":\"688ab533-5301-484a-a093-11fa7b4f3ca8\",\"type\":\"Line\"},{\"attributes\":{\"callback\":null,\"end\":0.0589145945865,\"start\":-0.0092524783365},\"id\":\"addd8b40-de11-4fa5-b834-daef8a3644d8\",\"type\":\"Range1d\"},{\"attributes\":{\"data_source\":{\"id\":\"6797e3ff-dd32-4b0c-bd22-18367bf5b79e\",\"type\":\"ColumnDataSource\"},\"glyph\":{\"id\":\"688ab533-5301-484a-a093-11fa7b4f3ca8\",\"type\":\"Line\"},\"hover_glyph\":null,\"muted_glyph\":null,\"nonselection_glyph\":{\"id\":\"c898d87c-98b8-4a27-a9b3-bee6005db4df\",\"type\":\"Line\"},\"selection_glyph\":null,\"view\":{\"id\":\"335a8a2d-e6c7-4383-8853-3788f875b039\",\"type\":\"CDSView\"}},\"id\":\"61a39313-f1f1-4ce1-aac7-944f15140a60\",\"type\":\"GlyphRenderer\"},{\"attributes\":{\"label\":{\"value\":\"WGT igg=10 wgt_flux=2\"},\"renderers\":[{\"id\":\"17e2bbab-c9a7-4e1a-a841-86eb880dbfd8\",\"type\":\"GlyphRenderer\"},{\"id\":\"752138d0-460a-40fa-8475-2273d449fe1c\",\"type\":\"GlyphRenderer\"}]},\"id\":\"da29467c-fb64-4b97-b844-08deb9d39f71\",\"type\":\"LegendItem\"},{\"attributes\":{\"line_alpha\":0.1,\"line_color\":\"#1f77b4\",\"line_width\":1.5,\"x\":{\"field\":\"x\"},\"y\":{\"field\":\"y\"}},\"id\":\"c898d87c-98b8-4a27-a9b3-bee6005db4df\",\"type\":\"Line\"},{\"attributes\":{\"source\":{\"id\":\"6797e3ff-dd32-4b0c-bd22-18367bf5b79e\",\"type\":\"ColumnDataSource\"}},\"id\":\"335a8a2d-e6c7-4383-8853-3788f875b039\",\"type\":\"CDSView\"},{\"attributes\":{\"fill_alpha\":{\"value\":0.7},\"fill_color\":{\"value\":\"#984ea3\"},\"line_alpha\":{\"value\":0.7},\"line_color\":{\"value\":\"#984ea3\"},\"x\":{\"field\":\"x\"},\"y\":{\"field\":\"y\"}},\"id\":\"f789b0b2-62ce-429c-b206-59848c94806f\",\"type\":\"Square\"},{\"attributes\":{\"toolbar\":{\"id\":\"2012ed41-7d43-4228-9070-4ed446ee128d\",\"type\":\"ProxyToolbar\"},\"toolbar_location\":\"above\"},\"id\":\"a566a6b6-2b10-41ad-aa64-5f13bb4c6b29\",\"type\":\"ToolbarBox\"},{\"attributes\":{\"data_source\":{\"id\":\"91791dc2-97e0-4170-a45c-34f518705f6c\",\"type\":\"ColumnDataSource\"},\"glyph\":{\"id\":\"8c5b5f93-809f-4e01-aa08-7cfc1db596ee\",\"type\":\"Line\"},\"hover_glyph\":null,\"muted_glyph\":null,\"nonselection_glyph\":{\"id\":\"d3ba0615-0614-4cd1-9430-1653287db631\",\"type\":\"Line\"},\"selection_glyph\":null,\"view\":{\"id\":\"3103f1e2-7712-4ea0-9255-a7db915dbd46\",\"type\":\"CDSView\"}},\"id\":\"d5c11de1-c7b6-4dc7-8038-02bfa4996422\",\"type\":\"GlyphRenderer\"},{\"attributes\":{\"line_alpha\":0.6,\"line_color\":\"#984ea3\",\"line_width\":3,\"x\":{\"field\":\"x\"},\"y\":{\"field\":\"y\"}},\"id\":\"490b6895-7fce-4ce9-8574-0dd73216e171\",\"type\":\"Line\"},{\"attributes\":{\"source\":{\"id\":\"c9dd2d1d-9edc-48e5-89db-b78fa4deea0a\",\"type\":\"ColumnDataSource\"}},\"id\":\"752b2ac7-b933-4662-87b3-98a9f10ea228\",\"type\":\"CDSView\"},{\"attributes\":{\"line_alpha\":0.6,\"line_color\":\"#e41a1c\",\"line_dash\":[6],\"line_width\":5,\"x\":{\"field\":\"x\"},\"y\":{\"field\":\"y\"}},\"id\":\"399b297c-9e73-4d38-b2a4-4ed82b125f54\",\"type\":\"Line\"},{\"attributes\":{\"fill_alpha\":{\"value\":0.1},\"fill_color\":{\"value\":\"#1f77b4\"},\"line_alpha\":{\"value\":0.1},\"line_color\":{\"value\":\"#1f77b4\"},\"x\":{\"field\":\"x\"},\"y\":{\"field\":\"y\"}},\"id\":\"83cdc23b-4949-43d8-8f87-72a66cfe07c0\",\"type\":\"Square\"},{\"attributes\":{\"data_source\":{\"id\":\"c9dd2d1d-9edc-48e5-89db-b78fa4deea0a\",\"type\":\"ColumnDataSource\"},\"glyph\":{\"id\":\"f789b0b2-62ce-429c-b206-59848c94806f\",\"type\":\"Square\"},\"hover_glyph\":null,\"muted_glyph\":null,\"nonselection_glyph\":{\"id\":\"83cdc23b-4949-43d8-8f87-72a66cfe07c0\",\"type\":\"Square\"},\"selection_glyph\":null,\"view\":{\"id\":\"752b2ac7-b933-4662-87b3-98a9f10ea228\",\"type\":\"CDSView\"}},\"id\":\"17e2bbab-c9a7-4e1a-a841-86eb880dbfd8\",\"type\":\"GlyphRenderer\"},{\"attributes\":{\"children\":[{\"id\":\"a566a6b6-2b10-41ad-aa64-5f13bb4c6b29\",\"type\":\"ToolbarBox\"},{\"id\":\"04611d49-d280-4a10-bac7-a6d857f415e2\",\"type\":\"Column\"}]},\"id\":\"92365a4a-c65f-4982-a2e1-27e33d2c16af\",\"type\":\"Column\"},{\"attributes\":{\"items\":[{\"id\":\"d9f18851-91cb-4ab6-9ea8-893e6885b1f5\",\"type\":\"LegendItem\"},{\"id\":\"c72741d1-f828-4b57-9368-46b7071e7e07\",\"type\":\"LegendItem\"},{\"id\":\"da29467c-fb64-4b97-b844-08deb9d39f71\",\"type\":\"LegendItem\"}],\"label_text_font_size\":{\"value\":\"8pt\"},\"location\":[10,-30],\"plot\":{\"id\":\"afcea52b-02b3-4327-8475-880260110389\",\"subtype\":\"Figure\",\"type\":\"Plot\"}},\"id\":\"d4aea6c7-e7af-4039-ac48-3e1148ddf118\",\"type\":\"Legend\"},{\"attributes\":{\"source\":{\"id\":\"f5701da8-cad6-4eb2-8812-32fcde019357\",\"type\":\"ColumnDataSource\"}},\"id\":\"7fc64c0f-02db-4e7c-8c9a-4e84be5acb5d\",\"type\":\"CDSView\"},{\"attributes\":{\"source\":{\"id\":\"a096e98c-4cbb-405b-8100-3435e5f03ff6\",\"type\":\"ColumnDataSource\"}},\"id\":\"41f0ed8c-a814-4cb3-aecc-13435f0d837a\",\"type\":\"CDSView\"},{\"attributes\":{\"source\":{\"id\":\"b4e800cd-16fa-45f5-9687-493bdeaf7ab4\",\"type\":\"ColumnDataSource\"}},\"id\":\"3adeb2c1-8661-414f-83ff-a9a3927ab488\",\"type\":\"CDSView\"},{\"attributes\":{\"line_alpha\":0.1,\"line_color\":\"#1f77b4\",\"line_width\":3,\"x\":{\"field\":\"x\"},\"y\":{\"field\":\"y\"}},\"id\":\"792fd228-ee27-4906-b2cd-624f0e59bf74\",\"type\":\"Line\"},{\"attributes\":{\"data_source\":{\"id\":\"b4e800cd-16fa-45f5-9687-493bdeaf7ab4\",\"type\":\"ColumnDataSource\"},\"glyph\":{\"id\":\"490b6895-7fce-4ce9-8574-0dd73216e171\",\"type\":\"Line\"},\"hover_glyph\":null,\"muted_glyph\":null,\"nonselection_glyph\":{\"id\":\"792fd228-ee27-4906-b2cd-624f0e59bf74\",\"type\":\"Line\"},\"selection_glyph\":null,\"view\":{\"id\":\"3adeb2c1-8661-414f-83ff-a9a3927ab488\",\"type\":\"CDSView\"}},\"id\":\"752138d0-460a-40fa-8475-2273d449fe1c\",\"type\":\"GlyphRenderer\"},{\"attributes\":{\"children\":[{\"id\":\"90130ef1-1df2-453b-a868-8d8eacf769d6\",\"subtype\":\"Figure\",\"type\":\"Plot\"},{\"id\":\"afcea52b-02b3-4327-8475-880260110389\",\"subtype\":\"Figure\",\"type\":\"Plot\"}]},\"id\":\"b6a943c2-5eba-4384-872c-d510cab93d5f\",\"type\":\"Row\"},{\"attributes\":{\"tools\":[{\"id\":\"d7a987b6-b693-4a9e-8d26-803656a6b281\",\"type\":\"PanTool\"},{\"id\":\"068d850d-6618-411e-9f63-6058bdce4e80\",\"type\":\"WheelZoomTool\"},{\"id\":\"e5583df7-438a-4760-9f2f-9bfdd36e10c7\",\"type\":\"BoxZoomTool\"},{\"id\":\"b31ec768-968f-4187-b40f-ab4c2dcd0d2c\",\"type\":\"SaveTool\"},{\"id\":\"6f9ecfb4-07b5-43d9-b686-6030310f6d82\",\"type\":\"ResetTool\"},{\"id\":\"417396c5-fd76-48d0-a232-bd532cff40fa\",\"type\":\"HelpTool\"},{\"id\":\"c50b16c5-a479-44b9-9e81-b6dec2d2860a\",\"type\":\"PanTool\"},{\"id\":\"8c651a61-f5fd-4168-9c8f-28a65454ddc5\",\"type\":\"WheelZoomTool\"},{\"id\":\"25b7cabe-15f5-4376-af2f-1f173ab3ff4b\",\"type\":\"BoxZoomTool\"},{\"id\":\"56589656-ba79-443a-a196-694a065de51d\",\"type\":\"SaveTool\"},{\"id\":\"ef088373-0422-4d06-93ab-a97dbac3c34d\",\"type\":\"ResetTool\"},{\"id\":\"e793393a-c1fc-44d4-9220-07802f596615\",\"type\":\"HelpTool\"}]},\"id\":\"2012ed41-7d43-4228-9070-4ed446ee128d\",\"type\":\"ProxyToolbar\"},{\"attributes\":{\"label\":{\"value\":\"CLIRAD `coolr_bands`\"},\"renderers\":[{\"id\":\"dd71edef-a350-4412-93ab-9a8b3a78a3b4\",\"type\":\"GlyphRenderer\"}]},\"id\":\"d9f18851-91cb-4ab6-9ea8-893e6885b1f5\",\"type\":\"LegendItem\"},{\"attributes\":{},\"id\":\"304d7a51-2538-454a-a700-69270bfe2ba3\",\"type\":\"BasicTickFormatter\"},{\"attributes\":{\"fill_alpha\":{\"value\":0.7},\"fill_color\":{\"value\":\"#4daf4a\"},\"line_alpha\":{\"value\":0.7},\"line_color\":{\"value\":\"#4daf4a\"},\"x\":{\"field\":\"x\"},\"y\":{\"field\":\"y\"}},\"id\":\"5631968c-42f2-44d9-8e8e-e16f502c63f8\",\"type\":\"Circle\"},{\"attributes\":{\"label\":{\"value\":\"CRD\"},\"renderers\":[{\"id\":\"0eece4ac-7d50-403d-bf6c-f37994fbbd9c\",\"type\":\"GlyphRenderer\"},{\"id\":\"61a39313-f1f1-4ce1-aac7-944f15140a60\",\"type\":\"GlyphRenderer\"}]},\"id\":\"c72741d1-f828-4b57-9368-46b7071e7e07\",\"type\":\"LegendItem\"},{\"attributes\":{\"line_alpha\":0.1,\"line_color\":\"#1f77b4\",\"line_width\":3,\"x\":{\"field\":\"x\"},\"y\":{\"field\":\"y\"}},\"id\":\"d3ba0615-0614-4cd1-9430-1653287db631\",\"type\":\"Line\"},{\"attributes\":{\"line_alpha\":0.6,\"line_color\":\"#e41a1c\",\"line_dash\":[6],\"line_width\":5,\"x\":{\"field\":\"x\"},\"y\":{\"field\":\"y\"}},\"id\":\"50998b38-609f-47bc-9566-1e5533fb4290\",\"type\":\"Line\"},{\"attributes\":{\"source\":{\"id\":\"91791dc2-97e0-4170-a45c-34f518705f6c\",\"type\":\"ColumnDataSource\"}},\"id\":\"3103f1e2-7712-4ea0-9255-a7db915dbd46\",\"type\":\"CDSView\"},{\"attributes\":{\"line_alpha\":0.6,\"line_color\":\"#984ea3\",\"line_width\":3,\"x\":{\"field\":\"x\"},\"y\":{\"field\":\"y\"}},\"id\":\"8c5b5f93-809f-4e01-aa08-7cfc1db596ee\",\"type\":\"Line\"},{\"attributes\":{\"data_source\":{\"id\":\"a096e98c-4cbb-405b-8100-3435e5f03ff6\",\"type\":\"ColumnDataSource\"},\"glyph\":{\"id\":\"399b297c-9e73-4d38-b2a4-4ed82b125f54\",\"type\":\"Line\"},\"hover_glyph\":null,\"muted_glyph\":null,\"nonselection_glyph\":{\"id\":\"e88d41e1-8e2e-4c0c-b021-73d754fe2340\",\"type\":\"Line\"},\"selection_glyph\":null,\"view\":{\"id\":\"41f0ed8c-a814-4cb3-aecc-13435f0d837a\",\"type\":\"CDSView\"}},\"id\":\"dd71edef-a350-4412-93ab-9a8b3a78a3b4\",\"type\":\"GlyphRenderer\"},{\"attributes\":{\"line_alpha\":0.1,\"line_color\":\"#1f77b4\",\"line_dash\":[6],\"line_width\":5,\"x\":{\"field\":\"x\"},\"y\":{\"field\":\"y\"}},\"id\":\"e88d41e1-8e2e-4c0c-b021-73d754fe2340\",\"type\":\"Line\"}],\"root_ids\":[\"92365a4a-c65f-4982-a2e1-27e33d2c16af\"]},\"title\":\"Bokeh Application\",\"version\":\"0.12.14\"}};\n",
       "  var render_items = [{\"docid\":\"1cf7930e-1739-4edb-a396-bef4945f1be8\",\"elementid\":\"1494c134-d465-492c-9186-7a8afdcb59a4\",\"modelid\":\"92365a4a-c65f-4982-a2e1-27e33d2c16af\"}];\n",
       "  root.Bokeh.embed.embed_items_notebook(docs_json, render_items);\n",
       "\n",
       "  }\n",
       "  if (root.Bokeh !== undefined) {\n",
       "    embed_document(root);\n",
       "  } else {\n",
       "    var attempts = 0;\n",
       "    var timer = setInterval(function(root) {\n",
       "      if (root.Bokeh !== undefined) {\n",
       "        embed_document(root);\n",
       "        clearInterval(timer);\n",
       "      }\n",
       "      attempts++;\n",
       "      if (attempts > 100) {\n",
       "        console.log(\"Bokeh: ERROR: Unable to run BokehJS code because BokehJS library is missing\")\n",
       "        clearInterval(timer);\n",
       "      }\n",
       "    }, 10, root)\n",
       "  }\n",
       "})(window);"
      ],
      "application/vnd.bokehjs_exec.v0+json": ""
     },
     "metadata": {
      "application/vnd.bokehjs_exec.v0+json": {
       "id": "92365a4a-c65f-4982-a2e1-27e33d2c16af"
      }
     },
     "output_type": "display_data"
    },
    {
     "name": "stdout",
     "output_type": "stream",
     "text": [
      "FIGURE. Cooling rate profiles.\n"
     ]
    },
    {
     "data": {
      "text/html": [
       "<a id=\"Flux_Comparison\"></a>"
      ],
      "text/plain": [
       "<IPython.core.display.HTML object>"
      ]
     },
     "metadata": {},
     "output_type": "display_data"
    },
    {
     "data": {
      "text/markdown": [
       "# Flux Comparison"
      ],
      "text/plain": [
       "<IPython.core.display.Markdown object>"
      ]
     },
     "metadata": {},
     "output_type": "display_data"
    },
    {
     "data": {
      "text/html": [
       "<div>\n",
       "<style>\n",
       "    .dataframe thead tr:only-child th {\n",
       "        text-align: right;\n",
       "    }\n",
       "\n",
       "    .dataframe thead th {\n",
       "        text-align: left;\n",
       "    }\n",
       "\n",
       "    .dataframe tbody tr th {\n",
       "        vertical-align: top;\n",
       "    }\n",
       "</style>\n",
       "<table border=\"1\" class=\"dataframe\">\n",
       "  <thead>\n",
       "    <tr style=\"text-align: right;\">\n",
       "      <th></th>\n",
       "      <th></th>\n",
       "      <th>flug</th>\n",
       "      <th>fldg</th>\n",
       "      <th>fnetg</th>\n",
       "    </tr>\n",
       "    <tr>\n",
       "      <th>pressure</th>\n",
       "      <th>level</th>\n",
       "      <th></th>\n",
       "      <th></th>\n",
       "      <th></th>\n",
       "    </tr>\n",
       "  </thead>\n",
       "  <tbody>\n",
       "    <tr>\n",
       "      <th>0.0000</th>\n",
       "      <th>1</th>\n",
       "      <td>-35.012057</td>\n",
       "      <td>0.000000</td>\n",
       "      <td>-35.012057</td>\n",
       "    </tr>\n",
       "    <tr>\n",
       "      <th>1.0685</th>\n",
       "      <th>24</th>\n",
       "      <td>-35.011299</td>\n",
       "      <td>0.004676</td>\n",
       "      <td>-35.006624</td>\n",
       "    </tr>\n",
       "    <tr>\n",
       "      <th>1013.0000</th>\n",
       "      <th>76</th>\n",
       "      <td>-36.235408</td>\n",
       "      <td>2.713550</td>\n",
       "      <td>-33.521857</td>\n",
       "    </tr>\n",
       "  </tbody>\n",
       "</table>\n",
       "</div>"
      ],
      "text/plain": [
       "                      flug      fldg      fnetg\n",
       "pressure  level                                \n",
       "0.0000    1     -35.012057  0.000000 -35.012057\n",
       "1.0685    24    -35.011299  0.004676 -35.006624\n",
       "1013.0000 76    -36.235408  2.713550 -33.521857"
      ]
     },
     "metadata": {},
     "output_type": "display_data"
    },
    {
     "name": "stdout",
     "output_type": "stream",
     "text": [
      "Table. Fluxes. WGT igg=10 wgt_flux=1\n"
     ]
    },
    {
     "data": {
      "text/html": [
       "<div>\n",
       "<style>\n",
       "    .dataframe thead tr:only-child th {\n",
       "        text-align: right;\n",
       "    }\n",
       "\n",
       "    .dataframe thead th {\n",
       "        text-align: left;\n",
       "    }\n",
       "\n",
       "    .dataframe tbody tr th {\n",
       "        vertical-align: top;\n",
       "    }\n",
       "</style>\n",
       "<table border=\"1\" class=\"dataframe\">\n",
       "  <thead>\n",
       "    <tr style=\"text-align: right;\">\n",
       "      <th></th>\n",
       "      <th></th>\n",
       "      <th>flug</th>\n",
       "      <th>fldg</th>\n",
       "      <th>fnetg</th>\n",
       "    </tr>\n",
       "    <tr>\n",
       "      <th>pressure</th>\n",
       "      <th>level</th>\n",
       "      <th></th>\n",
       "      <th></th>\n",
       "      <th></th>\n",
       "    </tr>\n",
       "  </thead>\n",
       "  <tbody>\n",
       "    <tr>\n",
       "      <th>0.0000</th>\n",
       "      <th>1</th>\n",
       "      <td>-35.016069</td>\n",
       "      <td>0.000000</td>\n",
       "      <td>-35.016069</td>\n",
       "    </tr>\n",
       "    <tr>\n",
       "      <th>1.0685</th>\n",
       "      <th>24</th>\n",
       "      <td>-35.015788</td>\n",
       "      <td>0.004893</td>\n",
       "      <td>-35.010895</td>\n",
       "    </tr>\n",
       "    <tr>\n",
       "      <th>1013.0000</th>\n",
       "      <th>76</th>\n",
       "      <td>-36.235408</td>\n",
       "      <td>2.614575</td>\n",
       "      <td>-33.620833</td>\n",
       "    </tr>\n",
       "  </tbody>\n",
       "</table>\n",
       "</div>"
      ],
      "text/plain": [
       "                      flug      fldg      fnetg\n",
       "pressure  level                                \n",
       "0.0000    1     -35.016069  0.000000 -35.016069\n",
       "1.0685    24    -35.015788  0.004893 -35.010895\n",
       "1013.0000 76    -36.235408  2.614575 -33.620833"
      ]
     },
     "metadata": {},
     "output_type": "display_data"
    },
    {
     "name": "stdout",
     "output_type": "stream",
     "text": [
      "Table. Fluxes. CRD\n"
     ]
    },
    {
     "data": {
      "text/html": [
       "<div>\n",
       "<style>\n",
       "    .dataframe thead tr:only-child th {\n",
       "        text-align: right;\n",
       "    }\n",
       "\n",
       "    .dataframe thead th {\n",
       "        text-align: left;\n",
       "    }\n",
       "\n",
       "    .dataframe tbody tr th {\n",
       "        vertical-align: top;\n",
       "    }\n",
       "</style>\n",
       "<table border=\"1\" class=\"dataframe\">\n",
       "  <thead>\n",
       "    <tr style=\"text-align: right;\">\n",
       "      <th></th>\n",
       "      <th></th>\n",
       "      <th>flug</th>\n",
       "      <th>fldg</th>\n",
       "      <th>fnetg</th>\n",
       "    </tr>\n",
       "    <tr>\n",
       "      <th>pressure</th>\n",
       "      <th>level</th>\n",
       "      <th></th>\n",
       "      <th></th>\n",
       "      <th></th>\n",
       "    </tr>\n",
       "  </thead>\n",
       "  <tbody>\n",
       "    <tr>\n",
       "      <th>1.000000e-08</th>\n",
       "      <th>1</th>\n",
       "      <td>-35.056063</td>\n",
       "      <td>0.000002</td>\n",
       "      <td>-35.056060</td>\n",
       "    </tr>\n",
       "    <tr>\n",
       "      <th>1.068500e+00</th>\n",
       "      <th>24</th>\n",
       "      <td>-35.055267</td>\n",
       "      <td>0.004262</td>\n",
       "      <td>-35.051005</td>\n",
       "    </tr>\n",
       "    <tr>\n",
       "      <th>1.013000e+03</th>\n",
       "      <th>76</th>\n",
       "      <td>-36.235410</td>\n",
       "      <td>2.616788</td>\n",
       "      <td>-33.618622</td>\n",
       "    </tr>\n",
       "  </tbody>\n",
       "</table>\n",
       "</div>"
      ],
      "text/plain": [
       "                         flug      fldg      fnetg\n",
       "pressure     level                                \n",
       "1.000000e-08 1     -35.056063  0.000002 -35.056060\n",
       "1.068500e+00 24    -35.055267  0.004262 -35.051005\n",
       "1.013000e+03 76    -36.235410  2.616788 -33.618622"
      ]
     },
     "metadata": {},
     "output_type": "display_data"
    },
    {
     "name": "stdout",
     "output_type": "stream",
     "text": [
      "Table. Fluxes. CLIRAD\n"
     ]
    },
    {
     "data": {
      "text/html": [
       "<div>\n",
       "<style>\n",
       "    .dataframe thead tr:only-child th {\n",
       "        text-align: right;\n",
       "    }\n",
       "\n",
       "    .dataframe thead th {\n",
       "        text-align: left;\n",
       "    }\n",
       "\n",
       "    .dataframe tbody tr th {\n",
       "        vertical-align: top;\n",
       "    }\n",
       "</style>\n",
       "<table border=\"1\" class=\"dataframe\">\n",
       "  <thead>\n",
       "    <tr style=\"text-align: right;\">\n",
       "      <th></th>\n",
       "      <th></th>\n",
       "      <th>flug</th>\n",
       "      <th>fldg</th>\n",
       "      <th>fnetg</th>\n",
       "    </tr>\n",
       "    <tr>\n",
       "      <th>pressure</th>\n",
       "      <th>level</th>\n",
       "      <th></th>\n",
       "      <th></th>\n",
       "      <th></th>\n",
       "    </tr>\n",
       "  </thead>\n",
       "  <tbody>\n",
       "    <tr>\n",
       "      <th>0.0000</th>\n",
       "      <th>1</th>\n",
       "      <td>-4.011870e-03</td>\n",
       "      <td>0.000000</td>\n",
       "      <td>-0.004012</td>\n",
       "    </tr>\n",
       "    <tr>\n",
       "      <th>1.0685</th>\n",
       "      <th>24</th>\n",
       "      <td>-4.488580e-03</td>\n",
       "      <td>0.000216</td>\n",
       "      <td>-0.004271</td>\n",
       "    </tr>\n",
       "    <tr>\n",
       "      <th>1013.0000</th>\n",
       "      <th>76</th>\n",
       "      <td>1.100000e-07</td>\n",
       "      <td>-0.098975</td>\n",
       "      <td>-0.098976</td>\n",
       "    </tr>\n",
       "  </tbody>\n",
       "</table>\n",
       "</div>"
      ],
      "text/plain": [
       "                         flug      fldg     fnetg\n",
       "pressure  level                                  \n",
       "0.0000    1     -4.011870e-03  0.000000 -0.004012\n",
       "1.0685    24    -4.488580e-03  0.000216 -0.004271\n",
       "1013.0000 76     1.100000e-07 -0.098975 -0.098976"
      ]
     },
     "metadata": {},
     "output_type": "display_data"
    },
    {
     "name": "stdout",
     "output_type": "stream",
     "text": [
      "Table. Fluxes. (CRD) - (WGT igg=10 wgt_flux=1)\n"
     ]
    },
    {
     "data": {
      "text/html": [
       "<div>\n",
       "<style>\n",
       "    .dataframe thead tr:only-child th {\n",
       "        text-align: right;\n",
       "    }\n",
       "\n",
       "    .dataframe thead th {\n",
       "        text-align: left;\n",
       "    }\n",
       "\n",
       "    .dataframe tbody tr th {\n",
       "        vertical-align: top;\n",
       "    }\n",
       "</style>\n",
       "<table border=\"1\" class=\"dataframe\">\n",
       "  <thead>\n",
       "    <tr style=\"text-align: right;\">\n",
       "      <th></th>\n",
       "      <th></th>\n",
       "      <th>flug</th>\n",
       "      <th>fldg</th>\n",
       "      <th>fnetg</th>\n",
       "    </tr>\n",
       "    <tr>\n",
       "      <th>pressure</th>\n",
       "      <th>level</th>\n",
       "      <th></th>\n",
       "      <th></th>\n",
       "      <th></th>\n",
       "    </tr>\n",
       "  </thead>\n",
       "  <tbody>\n",
       "    <tr>\n",
       "      <th>0.0000</th>\n",
       "      <th>1</th>\n",
       "      <td>-0.044006</td>\n",
       "      <td>0.000002</td>\n",
       "      <td>-0.044003</td>\n",
       "    </tr>\n",
       "    <tr>\n",
       "      <th>1.0685</th>\n",
       "      <th>24</th>\n",
       "      <td>-0.043968</td>\n",
       "      <td>-0.000414</td>\n",
       "      <td>-0.044381</td>\n",
       "    </tr>\n",
       "    <tr>\n",
       "      <th>1013.0000</th>\n",
       "      <th>76</th>\n",
       "      <td>-0.000002</td>\n",
       "      <td>-0.096762</td>\n",
       "      <td>-0.096765</td>\n",
       "    </tr>\n",
       "  </tbody>\n",
       "</table>\n",
       "</div>"
      ],
      "text/plain": [
       "                     flug      fldg     fnetg\n",
       "pressure  level                              \n",
       "0.0000    1     -0.044006  0.000002 -0.044003\n",
       "1.0685    24    -0.043968 -0.000414 -0.044381\n",
       "1013.0000 76    -0.000002 -0.096762 -0.096765"
      ]
     },
     "metadata": {},
     "output_type": "display_data"
    },
    {
     "name": "stdout",
     "output_type": "stream",
     "text": [
      "Table. Fluxes. (CLIRAD) - (WGT igg=10 wgt_flux=1)\n"
     ]
    },
    {
     "data": {
      "text/html": [
       "<a id=\"Best-fit_Parameters\"></a>"
      ],
      "text/plain": [
       "<IPython.core.display.HTML object>"
      ]
     },
     "metadata": {},
     "output_type": "display_data"
    },
    {
     "data": {
      "text/markdown": [
       "# Best-fit Parameters"
      ],
      "text/plain": [
       "<IPython.core.display.Markdown object>"
      ]
     },
     "metadata": {},
     "output_type": "display_data"
    },
    {
     "name": "stdout",
     "output_type": "stream",
     "text": [
      "Best-fit values for each (gas, band)\n",
      "------------------------------------\n",
      "o n2o band3a\n",
      "  atmpro = mls\n",
      "  band = 3a\n",
      "  commitnumber = 2bd1f75\n",
      "  conc = 3.2e-07\n",
      "  dv = 0.01\n",
      "  klin = 2.22e-20\n",
      "  molecule = n2o\n",
      "  ng_adju = [0, 0]\n",
      "  ng_refs = [1, 2]\n",
      "  nv = 100\n",
      "  option_compute_btable = 0\n",
      "  option_compute_ktable = 1\n",
      "  option_wgt_flux = 1\n",
      "  option_wgt_k = 1\n",
      "  ref_pts = [(1, 250), (500, 250)]\n",
      "  tsfc = 294\n",
      "  vmax = 620\n",
      "  vmin = 540\n",
      "  w_diffuse = [(1.8,), (1.66, 1.8)]\n",
      "  wgt = [(0.9,), (0.5, 0.95)]\n"
     ]
    }
   ],
   "source": [
    "script()"
   ]
  },
  {
   "cell_type": "code",
   "execution_count": 13,
   "metadata": {
    "collapsed": true
   },
   "outputs": [
    {
     "data": {
      "text/html": [
       "<script>\n",
       "code_show=true; \n",
       "function code_toggle() {\n",
       " if (code_show){\n",
       " $('div.input').hide();\n",
       " } else {\n",
       " $('div.input').show();\n",
       " }\n",
       " code_show = !code_show\n",
       "} \n",
       "$( document ).ready(code_toggle);\n",
       "</script>\n",
       "<form action=\"javascript:code_toggle()\"><input type=\"submit\" value=\"Click here to toggle on/off the raw code.\"></form>"
      ],
      "text/plain": [
       "<IPython.core.display.HTML object>"
      ]
     },
     "execution_count": 13,
     "metadata": {},
     "output_type": "execute_result"
    }
   ],
   "source": [
    "display.HTML('''<script>\n",
    "code_show=true; \n",
    "function code_toggle() {\n",
    " if (code_show){\n",
    " $('div.input').hide();\n",
    " } else {\n",
    " $('div.input').show();\n",
    " }\n",
    " code_show = !code_show\n",
    "} \n",
    "$( document ).ready(code_toggle);\n",
    "</script>\n",
    "<form action=\"javascript:code_toggle()\"><input type=\"submit\" value=\"Click here to toggle on/off the raw code.\"></form>''')"
   ]
  }
 ],
 "metadata": {
  "kernelspec": {
   "display_name": "Python 3",
   "language": "python",
   "name": "python3"
  },
  "language_info": {
   "codemirror_mode": {
    "name": "ipython",
    "version": 3
   },
   "file_extension": ".py",
   "mimetype": "text/x-python",
   "name": "python",
   "nbconvert_exporter": "python",
   "pygments_lexer": "ipython3",
   "version": "3.6.1"
  }
 },
 "nbformat": 4,
 "nbformat_minor": 2
}
