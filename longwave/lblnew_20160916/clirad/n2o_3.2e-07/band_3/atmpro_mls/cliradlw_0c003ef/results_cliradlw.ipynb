{
 "cells": [
  {
   "cell_type": "code",
   "execution_count": 1,
   "metadata": {
    "collapsed": true
   },
   "outputs": [],
   "source": [
    "%matplotlib inline\n",
    "import os\n",
    "import re\n",
    "import io\n",
    "import itertools\n",
    "import pprint\n",
    "\n",
    "from bokeh.io import output_notebook, show\n",
    "from bokeh.layouts import gridplot\n",
    "from bokeh.plotting import figure\n",
    "from bokeh.models import Range1d, Legend\n",
    "from bokeh.palettes import all_palettes\n",
    "\n",
    "import matplotlib\n",
    "import matplotlib.pyplot as plt\n",
    "import numpy as np\n",
    "import pandas as pd\n",
    "import xarray as xr\n",
    "\n",
    "import climatools.lblnew.bestfit_params as bestfits\n",
    "from climatools.lblnew import setup_bestfit, setup_overlap\n",
    "import climatools.lblnew.pipeline as pipe_lblnew\n",
    "import climatools.cliradlw.setup as setup_cliradlw\n",
    "import climatools.cliradlw.pipeline as pipe_cliradlw\n",
    "\n",
    "import climatools.html.html as climahtml\n",
    "from climatools.lblnew.dataio import *\n",
    "from climatools.plot.plot import *\n",
    "\n",
    "\n",
    "import IPython.display as display"
   ]
  },
  {
   "cell_type": "code",
   "execution_count": 2,
   "metadata": {
    "collapsed": true
   },
   "outputs": [],
   "source": [
    "%run param.py"
   ]
  },
  {
   "cell_type": "code",
   "execution_count": 3,
   "metadata": {
    "collapsed": true
   },
   "outputs": [],
   "source": [
    "def load_output_file(path_csv):\n",
    "    '''\n",
    "    Load lblnew output .csv file to xarray.Dataset\n",
    "    \n",
    "    Parameters\n",
    "    ----------\n",
    "    path_csv: str\n",
    "              Path to the .csv file to be loaded.\n",
    "    ds: xarray.Dataset\n",
    "        Data in the input file in the form of an xarray.Dataset.\n",
    "    '''\n",
    "    toindex = ['band', 'pressure', 'igg', 'g']    \n",
    "    df = pd.read_csv(path_csv, sep=r'\\s+')\n",
    "    df = df.set_index([i for i in toindex if i in df.columns])\n",
    "    df = df.rename(columns={'sfu': 'flug',\n",
    "                            'sfd': 'fldg',\n",
    "                            'fnet': 'fnetg',\n",
    "                            'coolr': 'coolrg'})\n",
    "    ds = xr.Dataset.from_dataframe(df)\n",
    "\n",
    "    for l in ('level', 'layer'):\n",
    "        if l in ds.data_vars:\n",
    "            if len(ds[l].dims) > 1:\n",
    "                surface = {d: 0 for d in ds.dims if d != 'pressure'}\n",
    "                coord_level = ds[l][surface]\n",
    "                ds.coords[l] = ('pressure', coord_level)\n",
    "            else:\n",
    "                ds.coords[l] = ('pressure', ds[l])\n",
    "    \n",
    "    return ds"
   ]
  },
  {
   "cell_type": "code",
   "execution_count": 4,
   "metadata": {
    "collapsed": true
   },
   "outputs": [],
   "source": [
    "def lblnew_setup(param=None):\n",
    "    if 'ng_refs' in param:\n",
    "        return {'setup': setup_bestfit,\n",
    "                'fname_flux_crd': 'output_flux.dat',\n",
    "                'fname_cool_crd': 'output_coolr.dat',\n",
    "                'fname_flux_wgt': 'output_wfluxg.dat',\n",
    "                'fname_cool_wgt': 'output_wcoolrg.dat'}\n",
    "    else:\n",
    "        return {'setup': setup_overlap,\n",
    "                'fname_flux_crd': 'output_flux.dat',\n",
    "                'fname_cool_crd': 'output_coolr.dat',\n",
    "                'fname_flux_wgt': 'output_wflux.dat',\n",
    "                'fname_cool_wgt': 'output_wcoolr.dat'}\n",
    "\n",
    "    \n",
    "def load_lblnew_data(param):\n",
    "    \n",
    "    fname_dsname = [('fname_flux_crd', 'ds_flux_crd'),\n",
    "                    ('fname_cool_crd', 'ds_cool_crd'),\n",
    "                    ('fname_flux_wgt', 'ds_flux_wgt'),\n",
    "                    ('fname_cool_wgt', 'ds_cool_wgt')]\n",
    "    \n",
    "    d = lblnew_setup(param)\n",
    "    dir_fortran = pipe_lblnew.get_dir_case(param, setup=d['setup'])\n",
    "    \n",
    "    data_dict = {}\n",
    "    for fname, dsname in fname_dsname:\n",
    "        fpath = os.path.join(dir_fortran, d[fname])\n",
    "        data_dict[dsname] = load_output_file(fpath)\n",
    "    return data_dict\n",
    "    \n",
    "\n",
    "    \n",
    "    "
   ]
  },
  {
   "cell_type": "code",
   "execution_count": 5,
   "metadata": {
    "collapsed": true
   },
   "outputs": [],
   "source": [
    "d = load_lblnew_data(PARAM_LBLNEW)\n",
    "\n",
    "DS_FLUX_CRD = d['ds_flux_crd']\n",
    "DS_COOL_CRD = d['ds_cool_crd']\n",
    "DS_FLUX_WGT = d['ds_flux_wgt']\n",
    "DS_COOL_WGT = d['ds_cool_wgt']"
   ]
  },
  {
   "cell_type": "code",
   "execution_count": 6,
   "metadata": {
    "collapsed": true
   },
   "outputs": [],
   "source": [
    "DIR_FORTRAN = pipe_cliradlw.get_fortran_dir(PARAM, \n",
    "                                            setup=setup_cliradlw)\n",
    "\n",
    "PATH_FLUX = os.path.join(DIR_FORTRAN, 'output_flux.dat')\n",
    "PATH_COOL = os.path.join(DIR_FORTRAN, 'output_coolr.dat')\n",
    "\n",
    "DS_FLUX = load_output_file(PATH_FLUX)\n",
    "DS_COOL = load_output_file(PATH_COOL)"
   ]
  },
  {
   "cell_type": "code",
   "execution_count": 7,
   "metadata": {
    "collapsed": true
   },
   "outputs": [
    {
     "data": {
      "text/html": [
       "\n",
       "    <div class=\"bk-root\">\n",
       "        <a href=\"https://bokeh.pydata.org\" target=\"_blank\" class=\"bk-logo bk-logo-small bk-logo-notebook\"></a>\n",
       "        <span id=\"5f2d6ae4-daf8-40ba-ac9c-a4ed5d031c57\">Loading BokehJS ...</span>\n",
       "    </div>"
      ]
     },
     "metadata": {},
     "output_type": "display_data"
    },
    {
     "data": {
      "application/javascript": [
       "\n",
       "(function(root) {\n",
       "  function now() {\n",
       "    return new Date();\n",
       "  }\n",
       "\n",
       "  var force = true;\n",
       "\n",
       "  if (typeof (root._bokeh_onload_callbacks) === \"undefined\" || force === true) {\n",
       "    root._bokeh_onload_callbacks = [];\n",
       "    root._bokeh_is_loading = undefined;\n",
       "  }\n",
       "\n",
       "  var JS_MIME_TYPE = 'application/javascript';\n",
       "  var HTML_MIME_TYPE = 'text/html';\n",
       "  var EXEC_MIME_TYPE = 'application/vnd.bokehjs_exec.v0+json';\n",
       "  var CLASS_NAME = 'output_bokeh rendered_html';\n",
       "\n",
       "  /**\n",
       "   * Render data to the DOM node\n",
       "   */\n",
       "  function render(props, node) {\n",
       "    var script = document.createElement(\"script\");\n",
       "    node.appendChild(script);\n",
       "  }\n",
       "\n",
       "  /**\n",
       "   * Handle when an output is cleared or removed\n",
       "   */\n",
       "  function handleClearOutput(event, handle) {\n",
       "    var cell = handle.cell;\n",
       "\n",
       "    var id = cell.output_area._bokeh_element_id;\n",
       "    var server_id = cell.output_area._bokeh_server_id;\n",
       "    // Clean up Bokeh references\n",
       "    if (id !== undefined) {\n",
       "      Bokeh.index[id].model.document.clear();\n",
       "      delete Bokeh.index[id];\n",
       "    }\n",
       "\n",
       "    if (server_id !== undefined) {\n",
       "      // Clean up Bokeh references\n",
       "      var cmd = \"from bokeh.io.state import curstate; print(curstate().uuid_to_server['\" + server_id + \"'].get_sessions()[0].document.roots[0]._id)\";\n",
       "      cell.notebook.kernel.execute(cmd, {\n",
       "        iopub: {\n",
       "          output: function(msg) {\n",
       "            var element_id = msg.content.text.trim();\n",
       "            Bokeh.index[element_id].model.document.clear();\n",
       "            delete Bokeh.index[element_id];\n",
       "          }\n",
       "        }\n",
       "      });\n",
       "      // Destroy server and session\n",
       "      var cmd = \"import bokeh.io.notebook as ion; ion.destroy_server('\" + server_id + \"')\";\n",
       "      cell.notebook.kernel.execute(cmd);\n",
       "    }\n",
       "  }\n",
       "\n",
       "  /**\n",
       "   * Handle when a new output is added\n",
       "   */\n",
       "  function handleAddOutput(event, handle) {\n",
       "    var output_area = handle.output_area;\n",
       "    var output = handle.output;\n",
       "\n",
       "    // limit handleAddOutput to display_data with EXEC_MIME_TYPE content only\n",
       "    if ((output.output_type != \"display_data\") || (!output.data.hasOwnProperty(EXEC_MIME_TYPE))) {\n",
       "      return\n",
       "    }\n",
       "\n",
       "    var toinsert = output_area.element.find(\".\" + CLASS_NAME.split(' ')[0]);\n",
       "\n",
       "    if (output.metadata[EXEC_MIME_TYPE][\"id\"] !== undefined) {\n",
       "      toinsert[0].firstChild.textContent = output.data[JS_MIME_TYPE];\n",
       "      // store reference to embed id on output_area\n",
       "      output_area._bokeh_element_id = output.metadata[EXEC_MIME_TYPE][\"id\"];\n",
       "    }\n",
       "    if (output.metadata[EXEC_MIME_TYPE][\"server_id\"] !== undefined) {\n",
       "      var bk_div = document.createElement(\"div\");\n",
       "      bk_div.innerHTML = output.data[HTML_MIME_TYPE];\n",
       "      var script_attrs = bk_div.children[0].attributes;\n",
       "      for (var i = 0; i < script_attrs.length; i++) {\n",
       "        toinsert[0].firstChild.setAttribute(script_attrs[i].name, script_attrs[i].value);\n",
       "      }\n",
       "      // store reference to server id on output_area\n",
       "      output_area._bokeh_server_id = output.metadata[EXEC_MIME_TYPE][\"server_id\"];\n",
       "    }\n",
       "  }\n",
       "\n",
       "  function register_renderer(events, OutputArea) {\n",
       "\n",
       "    function append_mime(data, metadata, element) {\n",
       "      // create a DOM node to render to\n",
       "      var toinsert = this.create_output_subarea(\n",
       "        metadata,\n",
       "        CLASS_NAME,\n",
       "        EXEC_MIME_TYPE\n",
       "      );\n",
       "      this.keyboard_manager.register_events(toinsert);\n",
       "      // Render to node\n",
       "      var props = {data: data, metadata: metadata[EXEC_MIME_TYPE]};\n",
       "      render(props, toinsert[0]);\n",
       "      element.append(toinsert);\n",
       "      return toinsert\n",
       "    }\n",
       "\n",
       "    /* Handle when an output is cleared or removed */\n",
       "    events.on('clear_output.CodeCell', handleClearOutput);\n",
       "    events.on('delete.Cell', handleClearOutput);\n",
       "\n",
       "    /* Handle when a new output is added */\n",
       "    events.on('output_added.OutputArea', handleAddOutput);\n",
       "\n",
       "    /**\n",
       "     * Register the mime type and append_mime function with output_area\n",
       "     */\n",
       "    OutputArea.prototype.register_mime_type(EXEC_MIME_TYPE, append_mime, {\n",
       "      /* Is output safe? */\n",
       "      safe: true,\n",
       "      /* Index of renderer in `output_area.display_order` */\n",
       "      index: 0\n",
       "    });\n",
       "  }\n",
       "\n",
       "  // register the mime type if in Jupyter Notebook environment and previously unregistered\n",
       "  if (root.Jupyter !== undefined) {\n",
       "    var events = require('base/js/events');\n",
       "    var OutputArea = require('notebook/js/outputarea').OutputArea;\n",
       "\n",
       "    if (OutputArea.prototype.mime_types().indexOf(EXEC_MIME_TYPE) == -1) {\n",
       "      register_renderer(events, OutputArea);\n",
       "    }\n",
       "  }\n",
       "\n",
       "  \n",
       "  if (typeof (root._bokeh_timeout) === \"undefined\" || force === true) {\n",
       "    root._bokeh_timeout = Date.now() + 5000;\n",
       "    root._bokeh_failed_load = false;\n",
       "  }\n",
       "\n",
       "  var NB_LOAD_WARNING = {'data': {'text/html':\n",
       "     \"<div style='background-color: #fdd'>\\n\"+\n",
       "     \"<p>\\n\"+\n",
       "     \"BokehJS does not appear to have successfully loaded. If loading BokehJS from CDN, this \\n\"+\n",
       "     \"may be due to a slow or bad network connection. Possible fixes:\\n\"+\n",
       "     \"</p>\\n\"+\n",
       "     \"<ul>\\n\"+\n",
       "     \"<li>re-rerun `output_notebook()` to attempt to load from CDN again, or</li>\\n\"+\n",
       "     \"<li>use INLINE resources instead, as so:</li>\\n\"+\n",
       "     \"</ul>\\n\"+\n",
       "     \"<code>\\n\"+\n",
       "     \"from bokeh.resources import INLINE\\n\"+\n",
       "     \"output_notebook(resources=INLINE)\\n\"+\n",
       "     \"</code>\\n\"+\n",
       "     \"</div>\"}};\n",
       "\n",
       "  function display_loaded() {\n",
       "    var el = document.getElementById(\"5f2d6ae4-daf8-40ba-ac9c-a4ed5d031c57\");\n",
       "    if (el != null) {\n",
       "      el.textContent = \"BokehJS is loading...\";\n",
       "    }\n",
       "    if (root.Bokeh !== undefined) {\n",
       "      if (el != null) {\n",
       "        el.textContent = \"BokehJS \" + root.Bokeh.version + \" successfully loaded.\";\n",
       "      }\n",
       "    } else if (Date.now() < root._bokeh_timeout) {\n",
       "      setTimeout(display_loaded, 100)\n",
       "    }\n",
       "  }\n",
       "\n",
       "\n",
       "  function run_callbacks() {\n",
       "    try {\n",
       "      root._bokeh_onload_callbacks.forEach(function(callback) { callback() });\n",
       "    }\n",
       "    finally {\n",
       "      delete root._bokeh_onload_callbacks\n",
       "    }\n",
       "    console.info(\"Bokeh: all callbacks have finished\");\n",
       "  }\n",
       "\n",
       "  function load_libs(js_urls, callback) {\n",
       "    root._bokeh_onload_callbacks.push(callback);\n",
       "    if (root._bokeh_is_loading > 0) {\n",
       "      console.log(\"Bokeh: BokehJS is being loaded, scheduling callback at\", now());\n",
       "      return null;\n",
       "    }\n",
       "    if (js_urls == null || js_urls.length === 0) {\n",
       "      run_callbacks();\n",
       "      return null;\n",
       "    }\n",
       "    console.log(\"Bokeh: BokehJS not loaded, scheduling load and callback at\", now());\n",
       "    root._bokeh_is_loading = js_urls.length;\n",
       "    for (var i = 0; i < js_urls.length; i++) {\n",
       "      var url = js_urls[i];\n",
       "      var s = document.createElement('script');\n",
       "      s.src = url;\n",
       "      s.async = false;\n",
       "      s.onreadystatechange = s.onload = function() {\n",
       "        root._bokeh_is_loading--;\n",
       "        if (root._bokeh_is_loading === 0) {\n",
       "          console.log(\"Bokeh: all BokehJS libraries loaded\");\n",
       "          run_callbacks()\n",
       "        }\n",
       "      };\n",
       "      s.onerror = function() {\n",
       "        console.warn(\"failed to load library \" + url);\n",
       "      };\n",
       "      console.log(\"Bokeh: injecting script tag for BokehJS library: \", url);\n",
       "      document.getElementsByTagName(\"head\")[0].appendChild(s);\n",
       "    }\n",
       "  };var element = document.getElementById(\"5f2d6ae4-daf8-40ba-ac9c-a4ed5d031c57\");\n",
       "  if (element == null) {\n",
       "    console.log(\"Bokeh: ERROR: autoload.js configured with elementid '5f2d6ae4-daf8-40ba-ac9c-a4ed5d031c57' but no matching script tag was found. \")\n",
       "    return false;\n",
       "  }\n",
       "\n",
       "  var js_urls = [\"https://cdn.pydata.org/bokeh/release/bokeh-0.12.14.min.js\", \"https://cdn.pydata.org/bokeh/release/bokeh-widgets-0.12.14.min.js\", \"https://cdn.pydata.org/bokeh/release/bokeh-tables-0.12.14.min.js\", \"https://cdn.pydata.org/bokeh/release/bokeh-gl-0.12.14.min.js\"];\n",
       "\n",
       "  var inline_js = [\n",
       "    function(Bokeh) {\n",
       "      Bokeh.set_log_level(\"info\");\n",
       "    },\n",
       "    \n",
       "    function(Bokeh) {\n",
       "      \n",
       "    },\n",
       "    function(Bokeh) {\n",
       "      console.log(\"Bokeh: injecting CSS: https://cdn.pydata.org/bokeh/release/bokeh-0.12.14.min.css\");\n",
       "      Bokeh.embed.inject_css(\"https://cdn.pydata.org/bokeh/release/bokeh-0.12.14.min.css\");\n",
       "      console.log(\"Bokeh: injecting CSS: https://cdn.pydata.org/bokeh/release/bokeh-widgets-0.12.14.min.css\");\n",
       "      Bokeh.embed.inject_css(\"https://cdn.pydata.org/bokeh/release/bokeh-widgets-0.12.14.min.css\");\n",
       "      console.log(\"Bokeh: injecting CSS: https://cdn.pydata.org/bokeh/release/bokeh-tables-0.12.14.min.css\");\n",
       "      Bokeh.embed.inject_css(\"https://cdn.pydata.org/bokeh/release/bokeh-tables-0.12.14.min.css\");\n",
       "    }\n",
       "  ];\n",
       "\n",
       "  function run_inline_js() {\n",
       "    \n",
       "    if ((root.Bokeh !== undefined) || (force === true)) {\n",
       "      for (var i = 0; i < inline_js.length; i++) {\n",
       "        inline_js[i].call(root, root.Bokeh);\n",
       "      }if (force === true) {\n",
       "        display_loaded();\n",
       "      }} else if (Date.now() < root._bokeh_timeout) {\n",
       "      setTimeout(run_inline_js, 100);\n",
       "    } else if (!root._bokeh_failed_load) {\n",
       "      console.log(\"Bokeh: BokehJS failed to load within specified timeout.\");\n",
       "      root._bokeh_failed_load = true;\n",
       "    } else if (force !== true) {\n",
       "      var cell = $(document.getElementById(\"5f2d6ae4-daf8-40ba-ac9c-a4ed5d031c57\")).parents('.cell').data().cell;\n",
       "      cell.output_area.append_execute_result(NB_LOAD_WARNING)\n",
       "    }\n",
       "\n",
       "  }\n",
       "\n",
       "  if (root._bokeh_is_loading === 0) {\n",
       "    console.log(\"Bokeh: BokehJS loaded, going straight to plotting\");\n",
       "    run_inline_js();\n",
       "  } else {\n",
       "    load_libs(js_urls, function() {\n",
       "      console.log(\"Bokeh: BokehJS plotting callback run at\", now());\n",
       "      run_inline_js();\n",
       "    });\n",
       "  }\n",
       "}(window));"
      ],
      "application/vnd.bokehjs_load.v0+json": "\n(function(root) {\n  function now() {\n    return new Date();\n  }\n\n  var force = true;\n\n  if (typeof (root._bokeh_onload_callbacks) === \"undefined\" || force === true) {\n    root._bokeh_onload_callbacks = [];\n    root._bokeh_is_loading = undefined;\n  }\n\n  \n\n  \n  if (typeof (root._bokeh_timeout) === \"undefined\" || force === true) {\n    root._bokeh_timeout = Date.now() + 5000;\n    root._bokeh_failed_load = false;\n  }\n\n  var NB_LOAD_WARNING = {'data': {'text/html':\n     \"<div style='background-color: #fdd'>\\n\"+\n     \"<p>\\n\"+\n     \"BokehJS does not appear to have successfully loaded. If loading BokehJS from CDN, this \\n\"+\n     \"may be due to a slow or bad network connection. Possible fixes:\\n\"+\n     \"</p>\\n\"+\n     \"<ul>\\n\"+\n     \"<li>re-rerun `output_notebook()` to attempt to load from CDN again, or</li>\\n\"+\n     \"<li>use INLINE resources instead, as so:</li>\\n\"+\n     \"</ul>\\n\"+\n     \"<code>\\n\"+\n     \"from bokeh.resources import INLINE\\n\"+\n     \"output_notebook(resources=INLINE)\\n\"+\n     \"</code>\\n\"+\n     \"</div>\"}};\n\n  function display_loaded() {\n    var el = document.getElementById(\"5f2d6ae4-daf8-40ba-ac9c-a4ed5d031c57\");\n    if (el != null) {\n      el.textContent = \"BokehJS is loading...\";\n    }\n    if (root.Bokeh !== undefined) {\n      if (el != null) {\n        el.textContent = \"BokehJS \" + root.Bokeh.version + \" successfully loaded.\";\n      }\n    } else if (Date.now() < root._bokeh_timeout) {\n      setTimeout(display_loaded, 100)\n    }\n  }\n\n\n  function run_callbacks() {\n    try {\n      root._bokeh_onload_callbacks.forEach(function(callback) { callback() });\n    }\n    finally {\n      delete root._bokeh_onload_callbacks\n    }\n    console.info(\"Bokeh: all callbacks have finished\");\n  }\n\n  function load_libs(js_urls, callback) {\n    root._bokeh_onload_callbacks.push(callback);\n    if (root._bokeh_is_loading > 0) {\n      console.log(\"Bokeh: BokehJS is being loaded, scheduling callback at\", now());\n      return null;\n    }\n    if (js_urls == null || js_urls.length === 0) {\n      run_callbacks();\n      return null;\n    }\n    console.log(\"Bokeh: BokehJS not loaded, scheduling load and callback at\", now());\n    root._bokeh_is_loading = js_urls.length;\n    for (var i = 0; i < js_urls.length; i++) {\n      var url = js_urls[i];\n      var s = document.createElement('script');\n      s.src = url;\n      s.async = false;\n      s.onreadystatechange = s.onload = function() {\n        root._bokeh_is_loading--;\n        if (root._bokeh_is_loading === 0) {\n          console.log(\"Bokeh: all BokehJS libraries loaded\");\n          run_callbacks()\n        }\n      };\n      s.onerror = function() {\n        console.warn(\"failed to load library \" + url);\n      };\n      console.log(\"Bokeh: injecting script tag for BokehJS library: \", url);\n      document.getElementsByTagName(\"head\")[0].appendChild(s);\n    }\n  };var element = document.getElementById(\"5f2d6ae4-daf8-40ba-ac9c-a4ed5d031c57\");\n  if (element == null) {\n    console.log(\"Bokeh: ERROR: autoload.js configured with elementid '5f2d6ae4-daf8-40ba-ac9c-a4ed5d031c57' but no matching script tag was found. \")\n    return false;\n  }\n\n  var js_urls = [\"https://cdn.pydata.org/bokeh/release/bokeh-0.12.14.min.js\", \"https://cdn.pydata.org/bokeh/release/bokeh-widgets-0.12.14.min.js\", \"https://cdn.pydata.org/bokeh/release/bokeh-tables-0.12.14.min.js\", \"https://cdn.pydata.org/bokeh/release/bokeh-gl-0.12.14.min.js\"];\n\n  var inline_js = [\n    function(Bokeh) {\n      Bokeh.set_log_level(\"info\");\n    },\n    \n    function(Bokeh) {\n      \n    },\n    function(Bokeh) {\n      console.log(\"Bokeh: injecting CSS: https://cdn.pydata.org/bokeh/release/bokeh-0.12.14.min.css\");\n      Bokeh.embed.inject_css(\"https://cdn.pydata.org/bokeh/release/bokeh-0.12.14.min.css\");\n      console.log(\"Bokeh: injecting CSS: https://cdn.pydata.org/bokeh/release/bokeh-widgets-0.12.14.min.css\");\n      Bokeh.embed.inject_css(\"https://cdn.pydata.org/bokeh/release/bokeh-widgets-0.12.14.min.css\");\n      console.log(\"Bokeh: injecting CSS: https://cdn.pydata.org/bokeh/release/bokeh-tables-0.12.14.min.css\");\n      Bokeh.embed.inject_css(\"https://cdn.pydata.org/bokeh/release/bokeh-tables-0.12.14.min.css\");\n    }\n  ];\n\n  function run_inline_js() {\n    \n    if ((root.Bokeh !== undefined) || (force === true)) {\n      for (var i = 0; i < inline_js.length; i++) {\n        inline_js[i].call(root, root.Bokeh);\n      }if (force === true) {\n        display_loaded();\n      }} else if (Date.now() < root._bokeh_timeout) {\n      setTimeout(run_inline_js, 100);\n    } else if (!root._bokeh_failed_load) {\n      console.log(\"Bokeh: BokehJS failed to load within specified timeout.\");\n      root._bokeh_failed_load = true;\n    } else if (force !== true) {\n      var cell = $(document.getElementById(\"5f2d6ae4-daf8-40ba-ac9c-a4ed5d031c57\")).parents('.cell').data().cell;\n      cell.output_area.append_execute_result(NB_LOAD_WARNING)\n    }\n\n  }\n\n  if (root._bokeh_is_loading === 0) {\n    console.log(\"Bokeh: BokehJS loaded, going straight to plotting\");\n    run_inline_js();\n  } else {\n    load_libs(js_urls, function() {\n      console.log(\"Bokeh: BokehJS plotting callback run at\", now());\n      run_inline_js();\n    });\n  }\n}(window));"
     },
     "metadata": {},
     "output_type": "display_data"
    }
   ],
   "source": [
    "output_notebook()"
   ]
  },
  {
   "cell_type": "code",
   "execution_count": 8,
   "metadata": {
    "collapsed": true
   },
   "outputs": [],
   "source": [
    "def fmt_cool(ds_in):\n",
    "    ds = ds_in.copy(deep=True)\n",
    "    if 'igg' in ds.dims:\n",
    "        ds = ds.sel(igg=1)\n",
    "\n",
    "    if 'g' in ds.dims:\n",
    "        ds = ds.sum('g')\n",
    "            \n",
    "    if 'band' in ds.dims:\n",
    "        try:\n",
    "            ds = ds.squeeze('band')\n",
    "        except ValueError:\n",
    "            ds = ds.sum('band')\n",
    "                \n",
    "    return ds['coolrg']\n",
    "\n",
    "\n",
    "def pltdata_cooling_1(ds_cool=None,\n",
    "                      ds_cool_crd=None, ds_cool_wgt=None):\n",
    "    \n",
    "\n",
    "\n",
    "    colors = all_palettes['Set1'][4]\n",
    "    data = [{'label': 'CLIRAD `coolr_bands`',\n",
    "             'srs': fmt_cool(ds_cool),\n",
    "             'line_dash': 'dashed', 'line_width': 5,\n",
    "             'color': colors[0], 'alpha': .6},\n",
    "            {'label': 'CRD',\n",
    "             'srs': fmt_cool(ds_cool_crd),\n",
    "             'line_dash': 'solid', 'line_width': 1.5,\n",
    "             'marker': 'circle', 'marker_size': 5,\n",
    "             'color': colors[2], 'alpha': 1,},\n",
    "            {'label': 'WGT igg=10 wgt_flux=2',\n",
    "             'srs': fmt_cool(ds_cool_wgt),\n",
    "             'line_dash': 'solid', 'line_width': 3,\n",
    "             'marker': 'square', 'marker_size': 5,\n",
    "             'color': colors[3], 'alpha': .6}]\n",
    "    return data\n",
    "\n",
    "\n",
    "def nice_xlims(pltdata=None, prange=None):\n",
    "    \n",
    "    def get_slice(srs):\n",
    "        return srs.sel(pressure=slice(*prange))\n",
    "    \n",
    "    srss = [d['srs'] for d in pltdata]\n",
    "    vmin = min([get_slice(srs).min() for srs in srss])\n",
    "    vmax = max([get_slice(srs).max() for srs in srss])\n",
    "    dv = (vmax - vmin) * .01\n",
    "    return float(vmin - dv), float(vmax + dv)\n",
    "    \n",
    "\n",
    "def plt_cooling_bokeh(pltdata=None):\n",
    "    '''\n",
    "    Plot a list of cooling rate profiles using bokeh.\n",
    "    '''\n",
    "    ymin = 1e-2 \n",
    "    ymax = 1020 \n",
    "        \n",
    "    p1 = figure(title=\"Linear pressure scale\", \n",
    "                plot_width=400)        \n",
    "    xmin, xmax = nice_xlims(pltdata, prange=(50, 1050))\n",
    "    for d in pltdata:\n",
    "        if 'marker' in d:\n",
    "            getattr(p1, d['marker'])(d['srs'].values, \n",
    "                    d['srs'].coords['pressure'].values,\n",
    "                    color=d['color'], alpha=.7)\n",
    "        p1.line(d['srs'].values, \n",
    "                d['srs'].coords['pressure'].values,\n",
    "                color=d['color'], alpha=d['alpha'], \n",
    "                line_width=d['line_width'], line_dash=d['line_dash'])\n",
    "    \n",
    "    p1.y_range = Range1d(ymax, ymin)\n",
    "    p1.yaxis.axis_label = 'pressure [mb]'   \n",
    "    p1.x_range = Range1d(xmin, xmax)\n",
    "    p1.xaxis.axis_label = 'cooling rate [K/day]'\n",
    "            \n",
    "    p2 = figure(title='Log pressure scale', y_axis_type='log',\n",
    "                plot_width=560)\n",
    "    xmin, xmax = nice_xlims(pltdata, prange=(.01, 200))\n",
    "    \n",
    "    rs = []\n",
    "    for d in pltdata:\n",
    "        rd = []\n",
    "        if 'marker' in d:\n",
    "            r_mark = getattr(p2, d['marker'])(d['srs'].values, \n",
    "                        d['srs'].coords['pressure'].values,\n",
    "                        color=d['color'], alpha=.7)\n",
    "            rd.append(r_mark)\n",
    "        r_line = p2.line(d['srs'].values, \n",
    "                    d['srs'].coords['pressure'].values,\n",
    "                    color=d['color'], alpha=d['alpha'], \n",
    "                    line_width=d['line_width'], line_dash=d['line_dash'])\n",
    "        rd.append(r_line)\n",
    "      \n",
    "        rs.append(rd)\n",
    "        \n",
    "    p2.y_range = Range1d(ymax, ymin)  \n",
    "    p2.yaxis.axis_label = 'pressure [mb]'\n",
    "    \n",
    "    p2.x_range = Range1d(xmin, xmax)\n",
    "    p2.xaxis.axis_label = 'cooling rate [K/day]'\n",
    "    \n",
    "    items = [(d['label'], r) for r, d in zip(rs, pltdata)]\n",
    "    legend = Legend(items=items, location=(10, -30))\n",
    "    legend.label_text_font_size = '8pt'\n",
    "    \n",
    "    p2.add_layout(legend, 'right')  \n",
    "    \n",
    "    show(gridplot(p1, p2, ncols=2, plot_height=500))\n",
    "    \n",
    "\n",
    "def script_plt_cooling():\n",
    "    pltdata = pltdata_cooling_1(\n",
    "        ds_cool=DS_COOL,\n",
    "        ds_cool_crd=DS_COOL_CRD,\n",
    "        ds_cool_wgt=DS_COOL_WGT)\n",
    "    plt_cooling_bokeh(pltdata=pltdata)\n",
    "    print('''FIGURE. Cooling rate profiles.''')"
   ]
  },
  {
   "cell_type": "code",
   "execution_count": 9,
   "metadata": {
    "collapsed": true
   },
   "outputs": [],
   "source": [
    "def fmt_flux(ds_in):\n",
    "    ds = ds_in.copy(deep=True)\n",
    "    \n",
    "    for l in ('level', 'layer'):\n",
    "        if l in ds.data_vars:\n",
    "            if len(ds[l].dims) > 1:\n",
    "                surface = {d: 0 for d in ds.dims if d != 'pressure'}\n",
    "                coord_level = ds[l][surface]\n",
    "                ds.coords[l] = ('pressure', coord_level)\n",
    "            else:\n",
    "                ds.coords[l] = ('pressure', ds[l])\n",
    "        \n",
    "    ds = ds.isel(pressure=[0, 23, -1])\n",
    "        \n",
    "    if 'igg' in ds.dims:\n",
    "        ds = ds.sel(igg=[1])\n",
    "        ds = ds.squeeze('igg').drop('igg')\n",
    "    \n",
    "    if 'g' in ds.dims:\n",
    "        ds = ds.sum('g')\n",
    "            \n",
    "    if 'band' in ds.dims:\n",
    "        try:\n",
    "            ds = ds.squeeze('band').drop('band')\n",
    "        except ValueError:\n",
    "            ds = ds.sum('band')\n",
    "                \n",
    "    df = ds.to_dataframe()\n",
    "    df = df.set_index('level', append=True)               \n",
    "    return df\n",
    "\n",
    "\n",
    "def tbdata_flux(ds_flux=None, ds_flux_crd=None, ds_flux_wgt=None):\n",
    "    ilevels = [0, 23, -1]\n",
    "            \n",
    "    benchmark = {'label': 'WGT igg=10 wgt_flux=1',\n",
    "                 'df': fmt_flux(ds_flux_wgt)}\n",
    "    \n",
    "    tbs = [{'label': 'CRD',\n",
    "            'df': fmt_flux(ds_flux_crd)},\n",
    "           {'label': 'CLIRAD',\n",
    "            'df': fmt_flux(ds_flux)}]\n",
    "    \n",
    "    data = {'benchmark': benchmark, 'others': tbs}\n",
    "    return data\n",
    "\n",
    "\n",
    "def tb_flux(tbdata=None):\n",
    "    benchmark = tbdata['benchmark']\n",
    "    others = tbdata['others']\n",
    "    \n",
    "    def show_tb(d=None):\n",
    "        display.display(d['df'])\n",
    "        print('Table.', 'Fluxes.', d['label'])\n",
    "        \n",
    "    def show_tbdiff(d0=None, d=None):\n",
    "        df = d['df']\n",
    "        df.index = d0['df'].index\n",
    "        display.display(df - d0['df'])\n",
    "        print('Table.', 'Fluxes.', \n",
    "              '({}) - ({})'.format(d['label'], d0['label']))\n",
    "        \n",
    "    show_tb(benchmark)\n",
    "    for d in others:\n",
    "        show_tb(d)\n",
    "        \n",
    "    for d in others:\n",
    "        show_tbdiff(d=d, d0=benchmark)\n",
    "        \n",
    "        \n",
    "def script_tb_flux():\n",
    "    data = tbdata_flux(ds_flux=DS_FLUX,\n",
    "                       ds_flux_crd=DS_FLUX_CRD,\n",
    "                       ds_flux_wgt=DS_FLUX_WGT)\n",
    "    tb_flux(tbdata=data)"
   ]
  },
  {
   "cell_type": "code",
   "execution_count": 10,
   "metadata": {
    "collapsed": true
   },
   "outputs": [],
   "source": [
    "def band_map():\n",
    "    '''\n",
    "    Maps spectral bands in lblnew to spectral bands in clirad.\n",
    "    '''\n",
    "    lblnew2clirad = {'1': '1',\n",
    "            '2': '2',\n",
    "            '3a': '3',\n",
    "            '3b': '4',\n",
    "            '3c': '5',\n",
    "            '4': '6', \n",
    "            '5': '7',\n",
    "            '6': '8',\n",
    "            '7': '9', \n",
    "            '8': '10',\n",
    "            '9': '11'}\n",
    "    \n",
    "    clirad2lblnew = {clirad: lblnew \n",
    "                     for lblnew, clirad in lblnew2clirad.items()}\n",
    "    return clirad2lblnew\n",
    "\n",
    "\n",
    "def gasbands():\n",
    "    bmap = band_map()\n",
    "    gases = list(PARAM['molecule'].keys())\n",
    "    \n",
    "    bands = [bmap[str(b)] for b in PARAM['band']]\n",
    "    return list(itertools.product(gases, bands))\n",
    "\n",
    "\n",
    "def print_bestfit_params():\n",
    "    print('Best-fit values for each (gas, band)')\n",
    "    print('------------------------------------')\n",
    "    for gas, band in gasbands():\n",
    "        print('o {} band{}'.format(gas, band))\n",
    "        param = bestfits.kdist_params(molecule=gas, band=band)\n",
    "        for name, value in sorted(param.items()):\n",
    "            print(2 * ' ' + '{} = {}'.format(name, value))\n",
    "\n",
    "        \n",
    "def print_input_param():        \n",
    "    for name, value in PARAM.items():\n",
    "        print('{} = {}'.format(name, value))\n",
    "        \n",
    "        \n",
    "def print_lblnew_param():\n",
    "    for name, value in sorted(PARAM_LBLNEW.items()):\n",
    "        print('{} = {}'.format(name, value))\n"
   ]
  },
  {
   "cell_type": "code",
   "execution_count": 11,
   "metadata": {
    "collapsed": true,
    "scrolled": false
   },
   "outputs": [],
   "source": [
    "def show_html(s):\n",
    "    display.display(display.HTML(s))\n",
    "\n",
    "    \n",
    "def show_markdown(s):\n",
    "    display.display(display.Markdown(s))\n",
    "\n",
    "    \n",
    "def script():\n",
    "    \n",
    "    title = '### CLIRAD-LW'\n",
    "    s_input = 'Input Parameters'\n",
    "    s_lblnew_param = 'LBLNEW case compaired against'\n",
    "    s_bestfits = 'Best-fit Parameters'\n",
    "    s_plt_cooling = 'Cooling Rate Profiles'\n",
    "    s_tb_flux = 'Flux Comparison'\n",
    "    \n",
    "    # title\n",
    "    show_markdown('### CLIRAD-LW')\n",
    "    \n",
    "    # TOC\n",
    "    show_markdown('### Table of Contents')\n",
    "    show_html(climahtml.getHTML_hrefanchor(s_input))\n",
    "    show_html(climahtml.getHTML_hrefanchor(s_lblnew_param))\n",
    "    show_html(climahtml.getHTML_hrefanchor(s_plt_cooling))\n",
    "    show_html(climahtml.getHTML_hrefanchor(s_tb_flux))\n",
    "    show_html(climahtml.getHTML_hrefanchor(s_bestfits))\n",
    "    \n",
    "    # Input parameters\n",
    "    show_html(climahtml.getHTML_idanchor(s_input))\n",
    "    show_markdown(climahtml.getMarkdown_sectitle(s_input))\n",
    "    print_input_param()\n",
    "    \n",
    "    # LBLNEW parameters \n",
    "    show_html(climahtml.getHTML_idanchor(s_lblnew_param))\n",
    "    show_markdown(climahtml.getMarkdown_sectitle(s_lblnew_param))\n",
    "    print_lblnew_param()\n",
    "    \n",
    "    # Cooling rate profiles\n",
    "    show_html(climahtml.getHTML_idanchor(s_plt_cooling))\n",
    "    show_markdown(climahtml.getMarkdown_sectitle(s_plt_cooling))\n",
    "    script_plt_cooling()\n",
    "    \n",
    "    # Flux comparison\n",
    "    show_html(climahtml.getHTML_idanchor(s_tb_flux))\n",
    "    show_markdown(climahtml.getMarkdown_sectitle(s_tb_flux))\n",
    "    script_tb_flux()\n",
    "    \n",
    "    # Best-fit values\n",
    "    show_html(climahtml.getHTML_idanchor(s_bestfits))\n",
    "    show_markdown(climahtml.getMarkdown_sectitle(s_bestfits))\n",
    "    print_bestfit_params()\n",
    "   \n",
    "    "
   ]
  },
  {
   "cell_type": "code",
   "execution_count": 12,
   "metadata": {
    "collapsed": true,
    "scrolled": false
   },
   "outputs": [
    {
     "data": {
      "text/markdown": [
       "### CLIRAD-LW"
      ],
      "text/plain": [
       "<IPython.core.display.Markdown object>"
      ]
     },
     "metadata": {},
     "output_type": "display_data"
    },
    {
     "data": {
      "text/markdown": [
       "### Table of Contents"
      ],
      "text/plain": [
       "<IPython.core.display.Markdown object>"
      ]
     },
     "metadata": {},
     "output_type": "display_data"
    },
    {
     "data": {
      "text/html": [
       "<a href=\"#Input_Parameters\">Input Parameters</a>"
      ],
      "text/plain": [
       "<IPython.core.display.HTML object>"
      ]
     },
     "metadata": {},
     "output_type": "display_data"
    },
    {
     "data": {
      "text/html": [
       "<a href=\"#LBLNEW_case_compaired_against\">LBLNEW case compaired against</a>"
      ],
      "text/plain": [
       "<IPython.core.display.HTML object>"
      ]
     },
     "metadata": {},
     "output_type": "display_data"
    },
    {
     "data": {
      "text/html": [
       "<a href=\"#Cooling_Rate_Profiles\">Cooling Rate Profiles</a>"
      ],
      "text/plain": [
       "<IPython.core.display.HTML object>"
      ]
     },
     "metadata": {},
     "output_type": "display_data"
    },
    {
     "data": {
      "text/html": [
       "<a href=\"#Flux_Comparison\">Flux Comparison</a>"
      ],
      "text/plain": [
       "<IPython.core.display.HTML object>"
      ]
     },
     "metadata": {},
     "output_type": "display_data"
    },
    {
     "data": {
      "text/html": [
       "<a href=\"#Best-fit_Parameters\">Best-fit Parameters</a>"
      ],
      "text/plain": [
       "<IPython.core.display.HTML object>"
      ]
     },
     "metadata": {},
     "output_type": "display_data"
    },
    {
     "data": {
      "text/html": [
       "<a id=\"Input_Parameters\"></a>"
      ],
      "text/plain": [
       "<IPython.core.display.HTML object>"
      ]
     },
     "metadata": {},
     "output_type": "display_data"
    },
    {
     "data": {
      "text/markdown": [
       "# Input Parameters"
      ],
      "text/plain": [
       "<IPython.core.display.Markdown object>"
      ]
     },
     "metadata": {},
     "output_type": "display_data"
    },
    {
     "name": "stdout",
     "output_type": "stream",
     "text": [
      "atmpro = mls\n",
      "band = [3]\n",
      "commitnumber = 0c003ef\n",
      "molecule = {'n2o': 3.2e-07}\n",
      "tsfc = 294\n"
     ]
    },
    {
     "data": {
      "text/html": [
       "<a id=\"LBLNEW_case_compaired_against\"></a>"
      ],
      "text/plain": [
       "<IPython.core.display.HTML object>"
      ]
     },
     "metadata": {},
     "output_type": "display_data"
    },
    {
     "data": {
      "text/markdown": [
       "# LBLNEW case compaired against"
      ],
      "text/plain": [
       "<IPython.core.display.Markdown object>"
      ]
     },
     "metadata": {},
     "output_type": "display_data"
    },
    {
     "name": "stdout",
     "output_type": "stream",
     "text": [
      "atmpro = mls\n",
      "band = 3a\n",
      "commitnumber = 2bd1f75\n",
      "conc = 3.2e-07\n",
      "dv = 0.01\n",
      "klin = 2.22e-20\n",
      "molecule = n2o\n",
      "ng_adju = [0, 0]\n",
      "ng_refs = [1, 2]\n",
      "nv = 100\n",
      "option_compute_btable = 0\n",
      "option_compute_ktable = 0\n",
      "option_wgt_flux = 1\n",
      "option_wgt_k = 1\n",
      "ref_pts = [(1, 250), (500, 250)]\n",
      "tsfc = 294\n",
      "vmax = 620\n",
      "vmin = 540\n",
      "w_diffuse = [(1.8,), (1.66, 1.8)]\n",
      "wgt = [(0.9,), (0.5, 0.95)]\n"
     ]
    },
    {
     "data": {
      "text/html": [
       "<a id=\"Cooling_Rate_Profiles\"></a>"
      ],
      "text/plain": [
       "<IPython.core.display.HTML object>"
      ]
     },
     "metadata": {},
     "output_type": "display_data"
    },
    {
     "data": {
      "text/markdown": [
       "# Cooling Rate Profiles"
      ],
      "text/plain": [
       "<IPython.core.display.Markdown object>"
      ]
     },
     "metadata": {},
     "output_type": "display_data"
    },
    {
     "data": {
      "text/html": [
       "\n",
       "<div class=\"bk-root\">\n",
       "    <div class=\"bk-plotdiv\" id=\"f912ad0b-f463-4097-bcd9-2c8074b9f280\"></div>\n",
       "</div>"
      ]
     },
     "metadata": {},
     "output_type": "display_data"
    },
    {
     "data": {
      "application/javascript": [
       "(function(root) {\n",
       "  function embed_document(root) {\n",
       "    \n",
       "  var docs_json = {\"15bf5c20-ee94-4a5c-b75b-f0126182dd68\":{\"roots\":{\"references\":[{\"attributes\":{\"dimension\":1,\"plot\":{\"id\":\"59a45a5e-0c01-4afb-b950-e2bbe97fa407\",\"subtype\":\"Figure\",\"type\":\"Plot\"},\"ticker\":{\"id\":\"5ad80f47-92b7-421f-9d8e-adc17bc2bf1d\",\"type\":\"LogTicker\"}},\"id\":\"fb0d6dbe-e904-4fc0-b18f-738d85cd019f\",\"type\":\"Grid\"},{\"attributes\":{\"below\":[{\"id\":\"9c0573e7-9455-492e-83c4-520bcfd8a186\",\"type\":\"LinearAxis\"}],\"left\":[{\"id\":\"30fc5b2d-d1ff-40aa-8f46-503c650e6324\",\"type\":\"LogAxis\"}],\"plot_height\":500,\"plot_width\":560,\"renderers\":[{\"id\":\"9c0573e7-9455-492e-83c4-520bcfd8a186\",\"type\":\"LinearAxis\"},{\"id\":\"44ba4a85-8515-4edc-b29b-60b60feb8187\",\"type\":\"Grid\"},{\"id\":\"30fc5b2d-d1ff-40aa-8f46-503c650e6324\",\"type\":\"LogAxis\"},{\"id\":\"fb0d6dbe-e904-4fc0-b18f-738d85cd019f\",\"type\":\"Grid\"},{\"id\":\"76d925ac-4aa4-4e06-87b0-8facce4ca050\",\"type\":\"BoxAnnotation\"},{\"id\":\"8eccaaba-515e-4175-9070-5fc9713462a8\",\"type\":\"GlyphRenderer\"},{\"id\":\"d9516960-f8e0-4a12-86cd-5472ff822c51\",\"type\":\"GlyphRenderer\"},{\"id\":\"c37a8283-6987-4407-8faa-45c54d9a686a\",\"type\":\"GlyphRenderer\"},{\"id\":\"6fb02f73-f75e-4d8f-a160-6495f6e89fc6\",\"type\":\"GlyphRenderer\"},{\"id\":\"ae1a47af-8e6f-4ac1-b173-5b0c970391c9\",\"type\":\"GlyphRenderer\"},{\"id\":\"0798081c-4bec-4f04-8f2e-a3495d3babd7\",\"type\":\"Legend\"}],\"right\":[{\"id\":\"0798081c-4bec-4f04-8f2e-a3495d3babd7\",\"type\":\"Legend\"}],\"title\":{\"id\":\"32309443-1ea1-43bd-a1f8-fec40de31ecf\",\"type\":\"Title\"},\"toolbar\":{\"id\":\"00089574-5981-4de7-bafb-537ab087ad50\",\"type\":\"Toolbar\"},\"toolbar_location\":null,\"x_range\":{\"id\":\"bad93031-53da-4fca-bdcd-7e1ff4c758f5\",\"type\":\"Range1d\"},\"x_scale\":{\"id\":\"aed349d6-b651-41dd-ac01-551579b42eb5\",\"type\":\"LinearScale\"},\"y_range\":{\"id\":\"5bfc2365-3ba4-4550-b973-9f69dbc23bca\",\"type\":\"Range1d\"},\"y_scale\":{\"id\":\"365170fb-7a92-486b-b93c-17c2d9a20314\",\"type\":\"LogScale\"}},\"id\":\"59a45a5e-0c01-4afb-b950-e2bbe97fa407\",\"subtype\":\"Figure\",\"type\":\"Plot\"},{\"attributes\":{\"callback\":null,\"column_names\":[\"x\",\"y\"],\"data\":{\"x\":{\"__ndarray__\":\"2pTvvzyJcT8oGE6x1S1yP5jZUmIgjXM/5P/ZHs4DdT+a+ZmZtH12P2N0Ydd8+nc/NM0QkRN6eT+MWHa1jPx6P2dEFObugXw/1mmS7g0Jfj99kVT8SpR/P8si85AxkYA/0oPYO4RZgT8XlCrjMTKCP2ii4gvewIQ/5vAdrDXCiz9rYxifUi6TP3AgLbTBEJk/mEkUPXJ2nz+EhKw4yBqjP2qPoiMXxKY/8GxLwXOfqj8+muWxlsetP7ys5Sx10q0/ZRXj0L7zqj8XcQNwN2anP630zGak0qM/ilyhZLpkoD+mp+zg4XqaPyE9llUQt5Q/ROBlMKOGjj/SX0+z7VWEP5oMODpqiHc/oGlHAfUEZD/kRbWvFO5Cv47XiB+wdWu/ZNEbvuqgdb9UzrV1mZ16vxXETibmSH+/JIqQTNwpgb9dVQH1qRWAv5QqF0sNRHm/MKktt6ypcb/IwagU5aRkv2IVqy3Y/Em/WmOXmcl6Sz9xfS5AtxlkPwUvKskMf3A/3Gfp2gfCdj9gt8hawaR8P2NF0Cy8PYE/6Btig4wLhD+m37yRv6qGP5drebiwNIk/CSN14b6xiz/C/2o3nhKOP5ohYj6xMpA/FAFXhVBdkT8J/7cV6HqSP9L/vrufl5M/rtaWrNS0lD9TrFDkzcGVP2izQ+Pd1pY/iI9/kyPllz+oYC7Uo+qYPyk8Y70j85k/SbwTZxnmmj9C/+kvQM6bPwDHS6xNmZw/3YuinRBHnT9JBR3GB+qdPymBaeqXdZ4/hGra748Knz/0hrv2JZSfP2nDfwhaEqA/\",\"dtype\":\"float64\",\"shape\":[75]},\"y\":{\"__ndarray__\":\"GhExyth1ND/Sv8nbtpRIP2vylNV0PVE/aTum7souWD/At0SJ8fVgPw3Iuahxymc/MSNhhJWvcD/bTfBN02d3P2zb5nxnaoA/CD5h5MAGhz8NmeH1TyaQP+zrCsc9p5Y/LbKd76fGnz/bLW5ISEmmPww9YvTcQq8/JV2OstnstT8Er5Y7M8G+P0c+r3jqkcU/5h99k6ZBzj88bCIzFzjVP4enV8oyxN0//yH99nXg5D8qOpLLf0jtP5kqGJXUifQ/c9cS8kHP/D+/DpwzojQEQIEmwoanVwxA4lgXt9HgE0BSSZ2AJuIbQAMJih9jjiNA5q4l5INuK0AwTKYKRj0zQNv5fmq8/DpAaCJseHrtQkB/+zpwzoxKQM3MzMzMeFJAZmZmZmZqWEAAAAAAAFxeQM3MzMzMJmJAmpmZmZkfZUBmZmZmZhhoQDMzMzMzEWtAAAAAAAAKbkBmZmZmZoFwQM3MzMzM/XFAMzMzMzN6c0CamZmZmfZ0QAAAAAAAc3ZAZmZmZmbvd0DNzMzMzGt5QDMzMzMz6HpAmpmZmZlkfEAAAAAAAOF9QGZmZmZmXX9AZmZmZuZsgECamZmZGSuBQM3MzMxM6YFAAAAAAICngkAzMzMzs2WDQGZmZmbmI4RAmpmZmRnihEDNzMzMTKCFQAAAAACAXoZAMzMzM7Mch0BmZmZm5tqHQJqZmZkZmYhAzczMzExXiUAAAAAAgBWKQDMzMzOz04pAZmZmZuaRi0CamZmZGVCMQM3MzMxMDo1AAAAAAIDMjUAzMzMzs4qOQGZmZmbmSI9A\",\"dtype\":\"float64\",\"shape\":[75]}}},\"id\":\"24d9eac7-04de-47b4-95b4-5dd4c05b3d20\",\"type\":\"ColumnDataSource\"},{\"attributes\":{\"num_minor_ticks\":10},\"id\":\"5ad80f47-92b7-421f-9d8e-adc17bc2bf1d\",\"type\":\"LogTicker\"},{\"attributes\":{\"bottom_units\":\"screen\",\"fill_alpha\":{\"value\":0.5},\"fill_color\":{\"value\":\"lightgrey\"},\"left_units\":\"screen\",\"level\":\"overlay\",\"line_alpha\":{\"value\":1.0},\"line_color\":{\"value\":\"black\"},\"line_dash\":[4,4],\"line_width\":{\"value\":2},\"plot\":null,\"render_mode\":\"css\",\"right_units\":\"screen\",\"top_units\":\"screen\"},\"id\":\"73e576b8-73ad-450d-ae90-87842cc72640\",\"type\":\"BoxAnnotation\"},{\"attributes\":{\"line_alpha\":0.1,\"line_color\":\"#1f77b4\",\"line_dash\":[6],\"line_width\":5,\"x\":{\"field\":\"x\"},\"y\":{\"field\":\"y\"}},\"id\":\"abdbc7eb-bce3-4a85-a87b-de2b04625ede\",\"type\":\"Line\"},{\"attributes\":{},\"id\":\"3471919b-553b-4eb3-af3a-3eabb6b31ddb\",\"type\":\"SaveTool\"},{\"attributes\":{},\"id\":\"f2dbea2a-911d-42f7-8ace-b64f6a3ab734\",\"type\":\"HelpTool\"},{\"attributes\":{},\"id\":\"41c8905a-caa2-4b85-8e20-9907904a9cfb\",\"type\":\"LinearScale\"},{\"attributes\":{},\"id\":\"5c59682d-649b-4749-b91b-adf2a6c3299d\",\"type\":\"ResetTool\"},{\"attributes\":{\"source\":{\"id\":\"2c25d7d0-c3a7-4c49-9377-8a73aae370c1\",\"type\":\"ColumnDataSource\"}},\"id\":\"e0256ff4-fa21-4905-aa63-05c109048c0b\",\"type\":\"CDSView\"},{\"attributes\":{\"plot\":{\"id\":\"a648ca4e-36d5-4f0a-81be-ef6678bc548d\",\"subtype\":\"Figure\",\"type\":\"Plot\"},\"ticker\":{\"id\":\"0c6b546a-a9b7-4b5f-a3f1-4bde988cf3bc\",\"type\":\"BasicTicker\"}},\"id\":\"899c3efc-ac48-4bd9-98eb-4cc0a9022785\",\"type\":\"Grid\"},{\"attributes\":{\"callback\":null,\"end\":0.01,\"start\":1020},\"id\":\"5bfc2365-3ba4-4550-b973-9f69dbc23bca\",\"type\":\"Range1d\"},{\"attributes\":{},\"id\":\"69bc99c7-5e62-4d74-8a07-67758c9d9e00\",\"type\":\"WheelZoomTool\"},{\"attributes\":{},\"id\":\"29616482-dcd8-484c-908d-3bc9eef43cba\",\"type\":\"BasicTicker\"},{\"attributes\":{\"source\":{\"id\":\"a23f42f3-2b1c-440b-abb5-9c2bbcdb421d\",\"type\":\"ColumnDataSource\"}},\"id\":\"c76d1a08-46e1-46b8-9e26-f179294f269e\",\"type\":\"CDSView\"},{\"attributes\":{\"dimension\":1,\"plot\":{\"id\":\"a648ca4e-36d5-4f0a-81be-ef6678bc548d\",\"subtype\":\"Figure\",\"type\":\"Plot\"},\"ticker\":{\"id\":\"29616482-dcd8-484c-908d-3bc9eef43cba\",\"type\":\"BasicTicker\"}},\"id\":\"698b026c-c9e9-4a9e-83ab-9ee4d5e068c8\",\"type\":\"Grid\"},{\"attributes\":{\"plot\":null,\"text\":\"Linear pressure scale\"},\"id\":\"50eb09be-9600-4ee4-a43c-96609a807fe8\",\"type\":\"Title\"},{\"attributes\":{\"active_drag\":\"auto\",\"active_inspect\":\"auto\",\"active_scroll\":\"auto\",\"active_tap\":\"auto\",\"tools\":[{\"id\":\"e2453e5c-a666-45e6-9c76-465ca5f7cb3b\",\"type\":\"PanTool\"},{\"id\":\"69bc99c7-5e62-4d74-8a07-67758c9d9e00\",\"type\":\"WheelZoomTool\"},{\"id\":\"382bbf80-e350-4cc0-8991-568dce8327fd\",\"type\":\"BoxZoomTool\"},{\"id\":\"3471919b-553b-4eb3-af3a-3eabb6b31ddb\",\"type\":\"SaveTool\"},{\"id\":\"5c59682d-649b-4749-b91b-adf2a6c3299d\",\"type\":\"ResetTool\"},{\"id\":\"f2dbea2a-911d-42f7-8ace-b64f6a3ab734\",\"type\":\"HelpTool\"}]},\"id\":\"3e7e4141-7531-4340-9f65-01c70b5ec21b\",\"type\":\"Toolbar\"},{\"attributes\":{\"source\":{\"id\":\"24d9eac7-04de-47b4-95b4-5dd4c05b3d20\",\"type\":\"ColumnDataSource\"}},\"id\":\"d3308b6c-f1e6-450a-955c-d79a0c707860\",\"type\":\"CDSView\"},{\"attributes\":{\"axis_label\":\"pressure [mb]\",\"formatter\":{\"id\":\"ef936038-5f83-408b-8b2c-e79e8fd40d4b\",\"type\":\"BasicTickFormatter\"},\"plot\":{\"id\":\"a648ca4e-36d5-4f0a-81be-ef6678bc548d\",\"subtype\":\"Figure\",\"type\":\"Plot\"},\"ticker\":{\"id\":\"29616482-dcd8-484c-908d-3bc9eef43cba\",\"type\":\"BasicTicker\"}},\"id\":\"283243a7-6dcd-4a6c-a0a2-4a587c721509\",\"type\":\"LinearAxis\"},{\"attributes\":{\"data_source\":{\"id\":\"2c25d7d0-c3a7-4c49-9377-8a73aae370c1\",\"type\":\"ColumnDataSource\"},\"glyph\":{\"id\":\"27004484-1492-45ea-ac29-903fa5f886a3\",\"type\":\"Circle\"},\"hover_glyph\":null,\"muted_glyph\":null,\"nonselection_glyph\":{\"id\":\"b8699f7b-79a6-478f-b4a7-a468818f526d\",\"type\":\"Circle\"},\"selection_glyph\":null,\"view\":{\"id\":\"e0256ff4-fa21-4905-aa63-05c109048c0b\",\"type\":\"CDSView\"}},\"id\":\"a0195d25-1fac-4e4b-895b-a3f5a7e99b95\",\"type\":\"GlyphRenderer\"},{\"attributes\":{\"callback\":null,\"column_names\":[\"x\",\"y\"],\"data\":{\"x\":{\"__ndarray__\":\"FTJrvqHuKr8m+cy7FnEBv8Cl9NEtTjY/v0sTpZ9OSD/GzodrncZSPyAq7VMleFk/DxfjucMRYD/RCtuxgm9jPzb97Jf1wWY/JbxaOTYlaj+iKq76eHltPxKSTiKXP3A/Qxb9szPEcT9xtoKsAzVzP7FO4Fg6WHg/k1D301ihgz/UA1Z2ECePP81n/1er45U/UwzZPrmtnD/TmO1jNfihP2ZTDmNb0aU/QYEPD3XgqT960cYtwCCtP+PKRtjR56w/mBZdLWOCqT8oe0aApYOlP/RlCTW6uKE/q3OfKzC1nD/l5G6lERKXPzt0TKaiYpI/GOiTQkRdjD+XTvhgqn2EPwjmUfoVtXs/wditK4eScD/jSCkhxhZTP4275YyfRF+/NvyHoCVpcb9r2o/Uvtl3v5x5/4lUC36/I7g11K04gb+CfYnz1lKAv5bNTMtwhXm/2HZWK4zWcb/kcX6uqThlv3l6WtmvKk6/fa+TAlAXRj+NQ/5TkRViP1MzhqJJNW4/mv5ARxj3dD9FDTPn6p16P4F0mMwEBYA/au4vnmSbgj/fW/t8QBKFP2gDNDq1bYc/7Q7Yvki0iT9zmcg8WuuLPz8AFurKFo4/afdQR2wckD+beaKGlymRPySeF+eiM5I/TF9bgRk6kz8MjR0QxT2UP5bNxpGhP5U/8qM9BZA/lj9djRfLJz2XP0/eYqY2Npg/mhBcrV8lmT89dow1oAGaPxO0oxrxwpo/caAir1Bpmz9AigeCav2bP/6VSZhfiZw/UMBQab8TnT/qoUtyn6CdP3GeK/YJM54/\",\"dtype\":\"float64\",\"shape\":[75]},\"y\":{\"__ndarray__\":\"GhExyth1ND/Sv8nbtpRIP2vylNV0PVE/aTum7souWD/At0SJ8fVgPw3Iuahxymc/MSNhhJWvcD/bTfBN02d3P2zb5nxnaoA/CD5h5MAGhz8NmeH1TyaQP+zrCsc9p5Y/LbKd76fGnz/bLW5ISEmmPww9YvTcQq8/JV2OstnstT8Er5Y7M8G+P0c+r3jqkcU/5h99k6ZBzj88bCIzFzjVP4enV8oyxN0//yH99nXg5D8qOpLLf0jtP5kqGJXUifQ/c9cS8kHP/D+/DpwzojQEQIEmwoanVwxA4lgXt9HgE0BSSZ2AJuIbQAMJih9jjiNA5q4l5INuK0AwTKYKRj0zQNv5fmq8/DpAaCJseHrtQkB/+zpwzoxKQM3MzMzMeFJAZmZmZmZqWEAAAAAAAFxeQM3MzMzMJmJAmpmZmZkfZUBmZmZmZhhoQDMzMzMzEWtAAAAAAAAKbkBmZmZmZoFwQM3MzMzM/XFAMzMzMzN6c0CamZmZmfZ0QAAAAAAAc3ZAZmZmZmbvd0DNzMzMzGt5QDMzMzMz6HpAmpmZmZlkfEAAAAAAAOF9QGZmZmZmXX9AZmZmZuZsgECamZmZGSuBQM3MzMxM6YFAAAAAAICngkAzMzMzs2WDQGZmZmbmI4RAmpmZmRnihEDNzMzMTKCFQAAAAACAXoZAMzMzM7Mch0BmZmZm5tqHQJqZmZkZmYhAzczMzExXiUAAAAAAgBWKQDMzMzOz04pAZmZmZuaRi0CamZmZGVCMQM3MzMxMDo1AAAAAAIDMjUAzMzMzs4qOQGZmZmbmSI9A\",\"dtype\":\"float64\",\"shape\":[75]}}},\"id\":\"2c25d7d0-c3a7-4c49-9377-8a73aae370c1\",\"type\":\"ColumnDataSource\"},{\"attributes\":{},\"id\":\"a6e3a44c-31b6-41eb-a204-c1928c305d5c\",\"type\":\"LinearScale\"},{\"attributes\":{\"axis_label\":\"cooling rate [K/day]\",\"formatter\":{\"id\":\"9c5c934a-e4a4-4577-93bf-f53eab63e541\",\"type\":\"BasicTickFormatter\"},\"plot\":{\"id\":\"a648ca4e-36d5-4f0a-81be-ef6678bc548d\",\"subtype\":\"Figure\",\"type\":\"Plot\"},\"ticker\":{\"id\":\"0c6b546a-a9b7-4b5f-a3f1-4bde988cf3bc\",\"type\":\"BasicTicker\"}},\"id\":\"c49011ef-8062-4a4d-8798-76dbc8db7cf2\",\"type\":\"LinearAxis\"},{\"attributes\":{\"data_source\":{\"id\":\"e8895c86-e6bb-4f2c-9c03-e7d9c05679fe\",\"type\":\"ColumnDataSource\"},\"glyph\":{\"id\":\"13aa4a6a-3c72-4beb-91b6-b4987f4dfe1e\",\"type\":\"Line\"},\"hover_glyph\":null,\"muted_glyph\":null,\"nonselection_glyph\":{\"id\":\"abdbc7eb-bce3-4a85-a87b-de2b04625ede\",\"type\":\"Line\"},\"selection_glyph\":null,\"view\":{\"id\":\"f04d4ade-a892-4e42-934e-0b360d98cda0\",\"type\":\"CDSView\"}},\"id\":\"948b6bd0-5a9c-4ba6-8657-3d9cda86c64a\",\"type\":\"GlyphRenderer\"},{\"attributes\":{\"overlay\":{\"id\":\"73e576b8-73ad-450d-ae90-87842cc72640\",\"type\":\"BoxAnnotation\"}},\"id\":\"382bbf80-e350-4cc0-8991-568dce8327fd\",\"type\":\"BoxZoomTool\"},{\"attributes\":{\"line_color\":\"#4daf4a\",\"line_width\":1.5,\"x\":{\"field\":\"x\"},\"y\":{\"field\":\"y\"}},\"id\":\"7515f908-c5d4-46d7-bef8-0b17fa32085e\",\"type\":\"Line\"},{\"attributes\":{},\"id\":\"0c6b546a-a9b7-4b5f-a3f1-4bde988cf3bc\",\"type\":\"BasicTicker\"},{\"attributes\":{\"callback\":null,\"column_names\":[\"x\",\"y\"],\"data\":{\"x\":{\"__ndarray__\":\"FTJrvqHuKr8m+cy7FnEBv8Cl9NEtTjY/v0sTpZ9OSD/GzodrncZSPyAq7VMleFk/DxfjucMRYD/RCtuxgm9jPzb97Jf1wWY/JbxaOTYlaj+iKq76eHltPxKSTiKXP3A/Qxb9szPEcT9xtoKsAzVzP7FO4Fg6WHg/k1D301ihgz/UA1Z2ECePP81n/1er45U/UwzZPrmtnD/TmO1jNfihP2ZTDmNb0aU/QYEPD3XgqT960cYtwCCtP+PKRtjR56w/mBZdLWOCqT8oe0aApYOlP/RlCTW6uKE/q3OfKzC1nD/l5G6lERKXPzt0TKaiYpI/GOiTQkRdjD+XTvhgqn2EPwjmUfoVtXs/wditK4eScD/jSCkhxhZTP4275YyfRF+/NvyHoCVpcb9r2o/Uvtl3v5x5/4lUC36/I7g11K04gb+CfYnz1lKAv5bNTMtwhXm/2HZWK4zWcb/kcX6uqThlv3l6WtmvKk6/fa+TAlAXRj+NQ/5TkRViP1MzhqJJNW4/mv5ARxj3dD9FDTPn6p16P4F0mMwEBYA/au4vnmSbgj/fW/t8QBKFP2gDNDq1bYc/7Q7Yvki0iT9zmcg8WuuLPz8AFurKFo4/afdQR2wckD+beaKGlymRPySeF+eiM5I/TF9bgRk6kz8MjR0QxT2UP5bNxpGhP5U/8qM9BZA/lj9djRfLJz2XP0/eYqY2Npg/mhBcrV8lmT89dow1oAGaPxO0oxrxwpo/caAir1Bpmz9AigeCav2bP/6VSZhfiZw/UMBQab8TnT/qoUtyn6CdP3GeK/YJM54/\",\"dtype\":\"float64\",\"shape\":[75]},\"y\":{\"__ndarray__\":\"GhExyth1ND/Sv8nbtpRIP2vylNV0PVE/aTum7souWD/At0SJ8fVgPw3Iuahxymc/MSNhhJWvcD/bTfBN02d3P2zb5nxnaoA/CD5h5MAGhz8NmeH1TyaQP+zrCsc9p5Y/LbKd76fGnz/bLW5ISEmmPww9YvTcQq8/JV2OstnstT8Er5Y7M8G+P0c+r3jqkcU/5h99k6ZBzj88bCIzFzjVP4enV8oyxN0//yH99nXg5D8qOpLLf0jtP5kqGJXUifQ/c9cS8kHP/D+/DpwzojQEQIEmwoanVwxA4lgXt9HgE0BSSZ2AJuIbQAMJih9jjiNA5q4l5INuK0AwTKYKRj0zQNv5fmq8/DpAaCJseHrtQkB/+zpwzoxKQM3MzMzMeFJAZmZmZmZqWEAAAAAAAFxeQM3MzMzMJmJAmpmZmZkfZUBmZmZmZhhoQDMzMzMzEWtAAAAAAAAKbkBmZmZmZoFwQM3MzMzM/XFAMzMzMzN6c0CamZmZmfZ0QAAAAAAAc3ZAZmZmZmbvd0DNzMzMzGt5QDMzMzMz6HpAmpmZmZlkfEAAAAAAAOF9QGZmZmZmXX9AZmZmZuZsgECamZmZGSuBQM3MzMxM6YFAAAAAAICngkAzMzMzs2WDQGZmZmbmI4RAmpmZmRnihEDNzMzMTKCFQAAAAACAXoZAMzMzM7Mch0BmZmZm5tqHQJqZmZkZmYhAzczMzExXiUAAAAAAgBWKQDMzMzOz04pAZmZmZuaRi0CamZmZGVCMQM3MzMxMDo1AAAAAAIDMjUAzMzMzs4qOQGZmZmbmSI9A\",\"dtype\":\"float64\",\"shape\":[75]}}},\"id\":\"fb53ba94-7c42-4d04-8eae-c93444f27944\",\"type\":\"ColumnDataSource\"},{\"attributes\":{},\"id\":\"e2453e5c-a666-45e6-9c76-465ca5f7cb3b\",\"type\":\"PanTool\"},{\"attributes\":{\"line_alpha\":0.1,\"line_color\":\"#1f77b4\",\"line_width\":3,\"x\":{\"field\":\"x\"},\"y\":{\"field\":\"y\"}},\"id\":\"890e83f7-eb21-4a6c-a047-5ae2c21e1df1\",\"type\":\"Line\"},{\"attributes\":{\"callback\":null,\"end\":0.031789765192999996,\"start\":-0.008985029892999999},\"id\":\"34b9445f-5315-4ce9-8705-855693acfd30\",\"type\":\"Range1d\"},{\"attributes\":{\"below\":[{\"id\":\"c49011ef-8062-4a4d-8798-76dbc8db7cf2\",\"type\":\"LinearAxis\"}],\"left\":[{\"id\":\"283243a7-6dcd-4a6c-a0a2-4a587c721509\",\"type\":\"LinearAxis\"}],\"plot_height\":500,\"plot_width\":400,\"renderers\":[{\"id\":\"c49011ef-8062-4a4d-8798-76dbc8db7cf2\",\"type\":\"LinearAxis\"},{\"id\":\"899c3efc-ac48-4bd9-98eb-4cc0a9022785\",\"type\":\"Grid\"},{\"id\":\"283243a7-6dcd-4a6c-a0a2-4a587c721509\",\"type\":\"LinearAxis\"},{\"id\":\"698b026c-c9e9-4a9e-83ab-9ee4d5e068c8\",\"type\":\"Grid\"},{\"id\":\"73e576b8-73ad-450d-ae90-87842cc72640\",\"type\":\"BoxAnnotation\"},{\"id\":\"948b6bd0-5a9c-4ba6-8657-3d9cda86c64a\",\"type\":\"GlyphRenderer\"},{\"id\":\"a0195d25-1fac-4e4b-895b-a3f5a7e99b95\",\"type\":\"GlyphRenderer\"},{\"id\":\"c806fd58-ffc6-4b4d-b9c2-45b9eacd39f2\",\"type\":\"GlyphRenderer\"},{\"id\":\"e62a593a-7bc6-42d2-b0c3-6550451e5854\",\"type\":\"GlyphRenderer\"},{\"id\":\"a3603571-665d-4ae3-9f93-9d536a6b2aaf\",\"type\":\"GlyphRenderer\"}],\"title\":{\"id\":\"50eb09be-9600-4ee4-a43c-96609a807fe8\",\"type\":\"Title\"},\"toolbar\":{\"id\":\"3e7e4141-7531-4340-9f65-01c70b5ec21b\",\"type\":\"Toolbar\"},\"toolbar_location\":null,\"x_range\":{\"id\":\"34b9445f-5315-4ce9-8705-855693acfd30\",\"type\":\"Range1d\"},\"x_scale\":{\"id\":\"a6e3a44c-31b6-41eb-a204-c1928c305d5c\",\"type\":\"LinearScale\"},\"y_range\":{\"id\":\"654d253e-866f-4a53-9312-18cf4f5553b4\",\"type\":\"Range1d\"},\"y_scale\":{\"id\":\"41c8905a-caa2-4b85-8e20-9907904a9cfb\",\"type\":\"LinearScale\"}},\"id\":\"a648ca4e-36d5-4f0a-81be-ef6678bc548d\",\"subtype\":\"Figure\",\"type\":\"Plot\"},{\"attributes\":{\"data_source\":{\"id\":\"24d9eac7-04de-47b4-95b4-5dd4c05b3d20\",\"type\":\"ColumnDataSource\"},\"glyph\":{\"id\":\"f68b833b-019b-434e-acec-5cc264b71b42\",\"type\":\"Line\"},\"hover_glyph\":null,\"muted_glyph\":null,\"nonselection_glyph\":{\"id\":\"890e83f7-eb21-4a6c-a047-5ae2c21e1df1\",\"type\":\"Line\"},\"selection_glyph\":null,\"view\":{\"id\":\"d3308b6c-f1e6-450a-955c-d79a0c707860\",\"type\":\"CDSView\"}},\"id\":\"a3603571-665d-4ae3-9f93-9d536a6b2aaf\",\"type\":\"GlyphRenderer\"},{\"attributes\":{\"callback\":null,\"column_names\":[\"x\",\"y\"],\"data\":{\"x\":{\"__ndarray__\":\"AAAAAAAAAAAAAAAAAAAAAE5SXgAhX7e/eLsF4tqosD8AAAAAAAAAAKlzJhxj76A/bjRQfiolmD/LAWebrjaRvwAAAAAAAAAAAAAAAAAAAACixhX78bWSPwAAAAAAAAAAfAPnGtMEkz9H/zvBBhSCP2VKhR/+VIM/hx5FXlVEiT+ewunbhKaTP2VVHLgXWZc/zBiln/4gnT9+bzuDchqiP01Hev270aQ/rw7qnEvjqD+BY7gCVoOrP8LfX59hs6s/xsDu/9kSqT8QNB08PhqmP5rPudv10qI/hMbPI5+Hnz+U14wEAc+ZP5J5wwEde5Q/Vt/Bm6qFjj9duJJuYoCEP+oPpeKstHc/N/5EZcOaYj9Tyn6ijllOv34ojeOLJ2+/DIxkYoaMd7+j9Ovg/ml8v4J8+qDPTYC/PmyJXyiVgb8s1JK+9GWAvyB9Et0MHnq/tKmNfY/Scr/KOTx6f2Bnv9Qk2SOL7VK/oUwEH3CCPz/veYF/sQphP8M/vXnwqm0/gj01fccHdT+oC9idzAl7PxzCpSGyYYA/OL2e/8Qngz8dxE2UJNKFP79B/y2WXIg/pCopVJDPij8vmDzBpTONP4jSxUNrh48/Bu78f/XokD/aDYcX1weSPwE2dkIVIpM/1Wa63AI3lD99IaKgLUqVP1MzLMXcVZY/vFfJoSdglz/mHqragmaYP4XGDIe3ZJk/vdNTmoNWmj8AK6YjlzebP8ApN0fZ/5s/3XFixhatnD9ZD3t7uUqdP2CDzyBP3J0/VQVK2vJpnj+c3CJCufOeP4NmviB1fZ8/\",\"dtype\":\"float64\",\"shape\":[75]},\"y\":{\"__ndarray__\":\"S/O/Q+51ND/430zAtpRIP2vylNV0PVE/QxsjCssuWD/TR4Z78fVgP+inNsRxymc/OuuBfZWvcD/u3TFA02d3P2d3VoBnaoA/CD5h5MAGhz/1pA8HUCaQP+zrCsc9p5Y/Fb7LAKjGnz/nJ9c/SEmmPwBD+fzcQq8/FOZwv9nstT8Er5Y7M8G+P0c+r3jqkcU/yK72qKZBzj+tM989FzjVPxbgmr8yxN0/cOm5AXbg5D+5ctXAf0jtP5kqGJXUifQ/DsrqDELP/D8MCAhBojQEQDItVnmnVwxAiFXNvdHgE0BSSZ2AJuIbQAMJih9jjiNA5q4l5INuK0CPVN/5RT0zQHzxRXu8/DpAOZ7PgHrtQkAg8wGBzoxKQBSTN8DMeFJA2NmQf2ZqWEAAAAAAAFxeQEQX1LfMJmJAmpmZmZkfZUBmZmZmZhhoQLzoK0gzEWtAAAAAAAAKbkCiC+pbZoFwQAhyUMLM/XFA+I2vPTN6c0AQ5KCEmfZ0QAAAAAAAc3ZA8Btfe2bvd0AIclDCzGt5QPeNrz0z6HpAEOSghJlkfEAAAAAAAOF9QKML6ltmXX9ABTkoYeZsgED7xteeGSuBQAhyUMJM6YFAAAAAAICngkD4ja89s2WDQAU5KGHmI4RA+8bXnhnihEAIclDCTKCFQAAAAACAXoZA+I2vPbMch0AFOShh5tqHQPvG154ZmYhACHJQwkxXiUAAAAAAgBWKQPeNrz2z04pABTkoYeaRi0D7xteeGVCMQAlyUMJMDo1AAAAAAIDMjUD3ja89s4qOQGZmZmbmSI9A\",\"dtype\":\"float64\",\"shape\":[75]}}},\"id\":\"e8895c86-e6bb-4f2c-9c03-e7d9c05679fe\",\"type\":\"ColumnDataSource\"},{\"attributes\":{\"callback\":null,\"end\":0.01,\"start\":1020},\"id\":\"654d253e-866f-4a53-9312-18cf4f5553b4\",\"type\":\"Range1d\"},{\"attributes\":{\"line_alpha\":0.6,\"line_color\":\"#984ea3\",\"line_width\":3,\"x\":{\"field\":\"x\"},\"y\":{\"field\":\"y\"}},\"id\":\"f68b833b-019b-434e-acec-5cc264b71b42\",\"type\":\"Line\"},{\"attributes\":{\"children\":[{\"id\":\"d732dc4a-8a68-49ca-9241-b4dc5f6eaca3\",\"type\":\"Row\"}]},\"id\":\"0958823a-9eab-492e-b5c9-22eb67301526\",\"type\":\"Column\"},{\"attributes\":{\"fill_alpha\":{\"value\":0.7},\"fill_color\":{\"value\":\"#4daf4a\"},\"line_alpha\":{\"value\":0.7},\"line_color\":{\"value\":\"#4daf4a\"},\"x\":{\"field\":\"x\"},\"y\":{\"field\":\"y\"}},\"id\":\"27004484-1492-45ea-ac29-903fa5f886a3\",\"type\":\"Circle\"},{\"attributes\":{\"line_alpha\":0.1,\"line_color\":\"#1f77b4\",\"line_width\":1.5,\"x\":{\"field\":\"x\"},\"y\":{\"field\":\"y\"}},\"id\":\"5f0fade5-7c62-409d-a74d-5f4e7a60dab2\",\"type\":\"Line\"},{\"attributes\":{\"bottom_units\":\"screen\",\"fill_alpha\":{\"value\":0.5},\"fill_color\":{\"value\":\"lightgrey\"},\"left_units\":\"screen\",\"level\":\"overlay\",\"line_alpha\":{\"value\":1.0},\"line_color\":{\"value\":\"black\"},\"line_dash\":[4,4],\"line_width\":{\"value\":2},\"plot\":null,\"render_mode\":\"css\",\"right_units\":\"screen\",\"top_units\":\"screen\"},\"id\":\"76d925ac-4aa4-4e06-87b0-8facce4ca050\",\"type\":\"BoxAnnotation\"},{\"attributes\":{\"source\":{\"id\":\"fb53ba94-7c42-4d04-8eae-c93444f27944\",\"type\":\"ColumnDataSource\"}},\"id\":\"75a56e8f-e3b4-44ee-8e24-c0bcd4fa7e03\",\"type\":\"CDSView\"},{\"attributes\":{\"axis_label\":\"pressure [mb]\",\"formatter\":{\"id\":\"830329b5-a82f-452c-8e81-1cf8099475ee\",\"type\":\"LogTickFormatter\"},\"plot\":{\"id\":\"59a45a5e-0c01-4afb-b950-e2bbe97fa407\",\"subtype\":\"Figure\",\"type\":\"Plot\"},\"ticker\":{\"id\":\"5ad80f47-92b7-421f-9d8e-adc17bc2bf1d\",\"type\":\"LogTicker\"}},\"id\":\"30fc5b2d-d1ff-40aa-8f46-503c650e6324\",\"type\":\"LogAxis\"},{\"attributes\":{\"data_source\":{\"id\":\"27f491b6-b90f-40e3-8171-0b36dbfb5d42\",\"type\":\"ColumnDataSource\"},\"glyph\":{\"id\":\"a3d72e9f-dec8-454a-872d-9076fdf269f3\",\"type\":\"Circle\"},\"hover_glyph\":null,\"muted_glyph\":null,\"nonselection_glyph\":{\"id\":\"71ab4fd3-5870-4b73-8066-b1c21ed1a717\",\"type\":\"Circle\"},\"selection_glyph\":null,\"view\":{\"id\":\"779b4b3a-2032-4a8e-b23d-bbcfd1f85d71\",\"type\":\"CDSView\"}},\"id\":\"d9516960-f8e0-4a12-86cd-5472ff822c51\",\"type\":\"GlyphRenderer\"},{\"attributes\":{},\"id\":\"bd326225-a8ee-413e-96f6-9a5df465e8d5\",\"type\":\"BasicTicker\"},{\"attributes\":{\"plot\":{\"id\":\"59a45a5e-0c01-4afb-b950-e2bbe97fa407\",\"subtype\":\"Figure\",\"type\":\"Plot\"},\"ticker\":{\"id\":\"bd326225-a8ee-413e-96f6-9a5df465e8d5\",\"type\":\"BasicTicker\"}},\"id\":\"44ba4a85-8515-4edc-b29b-60b60feb8187\",\"type\":\"Grid\"},{\"attributes\":{\"source\":{\"id\":\"e8895c86-e6bb-4f2c-9c03-e7d9c05679fe\",\"type\":\"ColumnDataSource\"}},\"id\":\"f04d4ade-a892-4e42-934e-0b360d98cda0\",\"type\":\"CDSView\"},{\"attributes\":{\"fill_alpha\":{\"value\":0.7},\"fill_color\":{\"value\":\"#984ea3\"},\"line_alpha\":{\"value\":0.7},\"line_color\":{\"value\":\"#984ea3\"},\"x\":{\"field\":\"x\"},\"y\":{\"field\":\"y\"}},\"id\":\"e21646f1-fb5f-43f7-87f1-e64a67282391\",\"type\":\"Square\"},{\"attributes\":{},\"id\":\"365170fb-7a92-486b-b93c-17c2d9a20314\",\"type\":\"LogScale\"},{\"attributes\":{\"callback\":null,\"column_names\":[\"x\",\"y\"],\"data\":{\"x\":{\"__ndarray__\":\"FTJrvqHuKr8m+cy7FnEBv8Cl9NEtTjY/v0sTpZ9OSD/GzodrncZSPyAq7VMleFk/DxfjucMRYD/RCtuxgm9jPzb97Jf1wWY/JbxaOTYlaj+iKq76eHltPxKSTiKXP3A/Qxb9szPEcT9xtoKsAzVzP7FO4Fg6WHg/k1D301ihgz/UA1Z2ECePP81n/1er45U/UwzZPrmtnD/TmO1jNfihP2ZTDmNb0aU/QYEPD3XgqT960cYtwCCtP+PKRtjR56w/mBZdLWOCqT8oe0aApYOlP/RlCTW6uKE/q3OfKzC1nD/l5G6lERKXPzt0TKaiYpI/GOiTQkRdjD+XTvhgqn2EPwjmUfoVtXs/wditK4eScD/jSCkhxhZTP4275YyfRF+/NvyHoCVpcb9r2o/Uvtl3v5x5/4lUC36/I7g11K04gb+CfYnz1lKAv5bNTMtwhXm/2HZWK4zWcb/kcX6uqThlv3l6WtmvKk6/fa+TAlAXRj+NQ/5TkRViP1MzhqJJNW4/mv5ARxj3dD9FDTPn6p16P4F0mMwEBYA/au4vnmSbgj/fW/t8QBKFP2gDNDq1bYc/7Q7Yvki0iT9zmcg8WuuLPz8AFurKFo4/afdQR2wckD+beaKGlymRPySeF+eiM5I/TF9bgRk6kz8MjR0QxT2UP5bNxpGhP5U/8qM9BZA/lj9djRfLJz2XP0/eYqY2Npg/mhBcrV8lmT89dow1oAGaPxO0oxrxwpo/caAir1Bpmz9AigeCav2bP/6VSZhfiZw/UMBQab8TnT/qoUtyn6CdP3GeK/YJM54/\",\"dtype\":\"float64\",\"shape\":[75]},\"y\":{\"__ndarray__\":\"GhExyth1ND/Sv8nbtpRIP2vylNV0PVE/aTum7souWD/At0SJ8fVgPw3Iuahxymc/MSNhhJWvcD/bTfBN02d3P2zb5nxnaoA/CD5h5MAGhz8NmeH1TyaQP+zrCsc9p5Y/LbKd76fGnz/bLW5ISEmmPww9YvTcQq8/JV2OstnstT8Er5Y7M8G+P0c+r3jqkcU/5h99k6ZBzj88bCIzFzjVP4enV8oyxN0//yH99nXg5D8qOpLLf0jtP5kqGJXUifQ/c9cS8kHP/D+/DpwzojQEQIEmwoanVwxA4lgXt9HgE0BSSZ2AJuIbQAMJih9jjiNA5q4l5INuK0AwTKYKRj0zQNv5fmq8/DpAaCJseHrtQkB/+zpwzoxKQM3MzMzMeFJAZmZmZmZqWEAAAAAAAFxeQM3MzMzMJmJAmpmZmZkfZUBmZmZmZhhoQDMzMzMzEWtAAAAAAAAKbkBmZmZmZoFwQM3MzMzM/XFAMzMzMzN6c0CamZmZmfZ0QAAAAAAAc3ZAZmZmZmbvd0DNzMzMzGt5QDMzMzMz6HpAmpmZmZlkfEAAAAAAAOF9QGZmZmZmXX9AZmZmZuZsgECamZmZGSuBQM3MzMxM6YFAAAAAAICngkAzMzMzs2WDQGZmZmbmI4RAmpmZmRnihEDNzMzMTKCFQAAAAACAXoZAMzMzM7Mch0BmZmZm5tqHQJqZmZkZmYhAzczMzExXiUAAAAAAgBWKQDMzMzOz04pAZmZmZuaRi0CamZmZGVCMQM3MzMxMDo1AAAAAAIDMjUAzMzMzs4qOQGZmZmbmSI9A\",\"dtype\":\"float64\",\"shape\":[75]}}},\"id\":\"0a6cd8cc-ed94-492d-8fbe-d5d938a282e1\",\"type\":\"ColumnDataSource\"},{\"attributes\":{\"axis_label\":\"cooling rate [K/day]\",\"formatter\":{\"id\":\"f3bdde14-1bb7-41b6-ace0-9dd2fae4018b\",\"type\":\"BasicTickFormatter\"},\"plot\":{\"id\":\"59a45a5e-0c01-4afb-b950-e2bbe97fa407\",\"subtype\":\"Figure\",\"type\":\"Plot\"},\"ticker\":{\"id\":\"bd326225-a8ee-413e-96f6-9a5df465e8d5\",\"type\":\"BasicTicker\"}},\"id\":\"9c0573e7-9455-492e-83c4-520bcfd8a186\",\"type\":\"LinearAxis\"},{\"attributes\":{\"fill_alpha\":{\"value\":0.1},\"fill_color\":{\"value\":\"#1f77b4\"},\"line_alpha\":{\"value\":0.1},\"line_color\":{\"value\":\"#1f77b4\"},\"x\":{\"field\":\"x\"},\"y\":{\"field\":\"y\"}},\"id\":\"71ab4fd3-5870-4b73-8066-b1c21ed1a717\",\"type\":\"Circle\"},{\"attributes\":{\"data_source\":{\"id\":\"0a6cd8cc-ed94-492d-8fbe-d5d938a282e1\",\"type\":\"ColumnDataSource\"},\"glyph\":{\"id\":\"1cf79e14-1423-45d0-910f-0dd68a29e82b\",\"type\":\"Line\"},\"hover_glyph\":null,\"muted_glyph\":null,\"nonselection_glyph\":{\"id\":\"073f3d0a-8d23-43be-9845-8dfc98d01e44\",\"type\":\"Line\"},\"selection_glyph\":null,\"view\":{\"id\":\"f2e2cc32-2539-4ed9-a4c0-bc4e3c2e3357\",\"type\":\"CDSView\"}},\"id\":\"c37a8283-6987-4407-8faa-45c54d9a686a\",\"type\":\"GlyphRenderer\"},{\"attributes\":{\"callback\":null,\"column_names\":[\"x\",\"y\"],\"data\":{\"x\":{\"__ndarray__\":\"2pTvvzyJcT8oGE6x1S1yP5jZUmIgjXM/5P/ZHs4DdT+a+ZmZtH12P2N0Ydd8+nc/NM0QkRN6eT+MWHa1jPx6P2dEFObugXw/1mmS7g0Jfj99kVT8SpR/P8si85AxkYA/0oPYO4RZgT8XlCrjMTKCP2ii4gvewIQ/5vAdrDXCiz9rYxifUi6TP3AgLbTBEJk/mEkUPXJ2nz+EhKw4yBqjP2qPoiMXxKY/8GxLwXOfqj8+muWxlsetP7ys5Sx10q0/ZRXj0L7zqj8XcQNwN2anP630zGak0qM/ilyhZLpkoD+mp+zg4XqaPyE9llUQt5Q/ROBlMKOGjj/SX0+z7VWEP5oMODpqiHc/oGlHAfUEZD/kRbWvFO5Cv47XiB+wdWu/ZNEbvuqgdb9UzrV1mZ16vxXETibmSH+/JIqQTNwpgb9dVQH1qRWAv5QqF0sNRHm/MKktt6ypcb/IwagU5aRkv2IVqy3Y/Em/WmOXmcl6Sz9xfS5AtxlkPwUvKskMf3A/3Gfp2gfCdj9gt8hawaR8P2NF0Cy8PYE/6Btig4wLhD+m37yRv6qGP5drebiwNIk/CSN14b6xiz/C/2o3nhKOP5ohYj6xMpA/FAFXhVBdkT8J/7cV6HqSP9L/vrufl5M/rtaWrNS0lD9TrFDkzcGVP2izQ+Pd1pY/iI9/kyPllz+oYC7Uo+qYPyk8Y70j85k/SbwTZxnmmj9C/+kvQM6bPwDHS6xNmZw/3YuinRBHnT9JBR3GB+qdPymBaeqXdZ4/hGra748Knz/0hrv2JZSfP2nDfwhaEqA/\",\"dtype\":\"float64\",\"shape\":[75]},\"y\":{\"__ndarray__\":\"GhExyth1ND/Sv8nbtpRIP2vylNV0PVE/aTum7souWD/At0SJ8fVgPw3Iuahxymc/MSNhhJWvcD/bTfBN02d3P2zb5nxnaoA/CD5h5MAGhz8NmeH1TyaQP+zrCsc9p5Y/LbKd76fGnz/bLW5ISEmmPww9YvTcQq8/JV2OstnstT8Er5Y7M8G+P0c+r3jqkcU/5h99k6ZBzj88bCIzFzjVP4enV8oyxN0//yH99nXg5D8qOpLLf0jtP5kqGJXUifQ/c9cS8kHP/D+/DpwzojQEQIEmwoanVwxA4lgXt9HgE0BSSZ2AJuIbQAMJih9jjiNA5q4l5INuK0AwTKYKRj0zQNv5fmq8/DpAaCJseHrtQkB/+zpwzoxKQM3MzMzMeFJAZmZmZmZqWEAAAAAAAFxeQM3MzMzMJmJAmpmZmZkfZUBmZmZmZhhoQDMzMzMzEWtAAAAAAAAKbkBmZmZmZoFwQM3MzMzM/XFAMzMzMzN6c0CamZmZmfZ0QAAAAAAAc3ZAZmZmZmbvd0DNzMzMzGt5QDMzMzMz6HpAmpmZmZlkfEAAAAAAAOF9QGZmZmZmXX9AZmZmZuZsgECamZmZGSuBQM3MzMxM6YFAAAAAAICngkAzMzMzs2WDQGZmZmbmI4RAmpmZmRnihEDNzMzMTKCFQAAAAACAXoZAMzMzM7Mch0BmZmZm5tqHQJqZmZkZmYhAzczMzExXiUAAAAAAgBWKQDMzMzOz04pAZmZmZuaRi0CamZmZGVCMQM3MzMxMDo1AAAAAAIDMjUAzMzMzs4qOQGZmZmbmSI9A\",\"dtype\":\"float64\",\"shape\":[75]}}},\"id\":\"22f65f9d-2dd0-4754-b1ac-a198eac0b639\",\"type\":\"ColumnDataSource\"},{\"attributes\":{},\"id\":\"aed349d6-b651-41dd-ac01-551579b42eb5\",\"type\":\"LinearScale\"},{\"attributes\":{\"active_drag\":\"auto\",\"active_inspect\":\"auto\",\"active_scroll\":\"auto\",\"active_tap\":\"auto\",\"tools\":[{\"id\":\"f9d0bc58-aac5-4365-a67b-7c1e32122967\",\"type\":\"PanTool\"},{\"id\":\"6645e137-9559-47ce-b9dd-403614602b55\",\"type\":\"WheelZoomTool\"},{\"id\":\"8072929b-e49f-47b3-8fd5-c796ef288b9c\",\"type\":\"BoxZoomTool\"},{\"id\":\"e8255385-2af2-43cf-99bf-7cbfb98b1ad8\",\"type\":\"SaveTool\"},{\"id\":\"35cc894f-393e-4496-9f46-b9a7a6fd84a9\",\"type\":\"ResetTool\"},{\"id\":\"9035426f-43cb-48a5-a80b-34b3248fcac4\",\"type\":\"HelpTool\"}]},\"id\":\"00089574-5981-4de7-bafb-537ab087ad50\",\"type\":\"Toolbar\"},{\"attributes\":{},\"id\":\"f9d0bc58-aac5-4365-a67b-7c1e32122967\",\"type\":\"PanTool\"},{\"attributes\":{\"fill_alpha\":{\"value\":0.7},\"fill_color\":{\"value\":\"#4daf4a\"},\"line_alpha\":{\"value\":0.7},\"line_color\":{\"value\":\"#4daf4a\"},\"x\":{\"field\":\"x\"},\"y\":{\"field\":\"y\"}},\"id\":\"a3d72e9f-dec8-454a-872d-9076fdf269f3\",\"type\":\"Circle\"},{\"attributes\":{\"label\":{\"value\":\"WGT igg=10 wgt_flux=2\"},\"renderers\":[{\"id\":\"6fb02f73-f75e-4d8f-a160-6495f6e89fc6\",\"type\":\"GlyphRenderer\"},{\"id\":\"ae1a47af-8e6f-4ac1-b173-5b0c970391c9\",\"type\":\"GlyphRenderer\"}]},\"id\":\"b69b119e-1616-4f0e-aa5e-8c57c400a07d\",\"type\":\"LegendItem\"},{\"attributes\":{},\"id\":\"6645e137-9559-47ce-b9dd-403614602b55\",\"type\":\"WheelZoomTool\"},{\"attributes\":{\"overlay\":{\"id\":\"76d925ac-4aa4-4e06-87b0-8facce4ca050\",\"type\":\"BoxAnnotation\"}},\"id\":\"8072929b-e49f-47b3-8fd5-c796ef288b9c\",\"type\":\"BoxZoomTool\"},{\"attributes\":{\"ticker\":null},\"id\":\"830329b5-a82f-452c-8e81-1cf8099475ee\",\"type\":\"LogTickFormatter\"},{\"attributes\":{},\"id\":\"35cc894f-393e-4496-9f46-b9a7a6fd84a9\",\"type\":\"ResetTool\"},{\"attributes\":{\"data_source\":{\"id\":\"a23f42f3-2b1c-440b-abb5-9c2bbcdb421d\",\"type\":\"ColumnDataSource\"},\"glyph\":{\"id\":\"e21646f1-fb5f-43f7-87f1-e64a67282391\",\"type\":\"Square\"},\"hover_glyph\":null,\"muted_glyph\":null,\"nonselection_glyph\":{\"id\":\"fb64e0ee-1f20-4ca1-bc07-181750ccf859\",\"type\":\"Square\"},\"selection_glyph\":null,\"view\":{\"id\":\"c76d1a08-46e1-46b8-9e26-f179294f269e\",\"type\":\"CDSView\"}},\"id\":\"e62a593a-7bc6-42d2-b0c3-6550451e5854\",\"type\":\"GlyphRenderer\"},{\"attributes\":{\"source\":{\"id\":\"27f491b6-b90f-40e3-8171-0b36dbfb5d42\",\"type\":\"ColumnDataSource\"}},\"id\":\"779b4b3a-2032-4a8e-b23d-bbcfd1f85d71\",\"type\":\"CDSView\"},{\"attributes\":{},\"id\":\"9035426f-43cb-48a5-a80b-34b3248fcac4\",\"type\":\"HelpTool\"},{\"attributes\":{\"callback\":null,\"column_names\":[\"x\",\"y\"],\"data\":{\"x\":{\"__ndarray__\":\"FTJrvqHuKr8m+cy7FnEBv8Cl9NEtTjY/v0sTpZ9OSD/GzodrncZSPyAq7VMleFk/DxfjucMRYD/RCtuxgm9jPzb97Jf1wWY/JbxaOTYlaj+iKq76eHltPxKSTiKXP3A/Qxb9szPEcT9xtoKsAzVzP7FO4Fg6WHg/k1D301ihgz/UA1Z2ECePP81n/1er45U/UwzZPrmtnD/TmO1jNfihP2ZTDmNb0aU/QYEPD3XgqT960cYtwCCtP+PKRtjR56w/mBZdLWOCqT8oe0aApYOlP/RlCTW6uKE/q3OfKzC1nD/l5G6lERKXPzt0TKaiYpI/GOiTQkRdjD+XTvhgqn2EPwjmUfoVtXs/wditK4eScD/jSCkhxhZTP4275YyfRF+/NvyHoCVpcb9r2o/Uvtl3v5x5/4lUC36/I7g11K04gb+CfYnz1lKAv5bNTMtwhXm/2HZWK4zWcb/kcX6uqThlv3l6WtmvKk6/fa+TAlAXRj+NQ/5TkRViP1MzhqJJNW4/mv5ARxj3dD9FDTPn6p16P4F0mMwEBYA/au4vnmSbgj/fW/t8QBKFP2gDNDq1bYc/7Q7Yvki0iT9zmcg8WuuLPz8AFurKFo4/afdQR2wckD+beaKGlymRPySeF+eiM5I/TF9bgRk6kz8MjR0QxT2UP5bNxpGhP5U/8qM9BZA/lj9djRfLJz2XP0/eYqY2Npg/mhBcrV8lmT89dow1oAGaPxO0oxrxwpo/caAir1Bpmz9AigeCav2bP/6VSZhfiZw/UMBQab8TnT/qoUtyn6CdP3GeK/YJM54/\",\"dtype\":\"float64\",\"shape\":[75]},\"y\":{\"__ndarray__\":\"GhExyth1ND/Sv8nbtpRIP2vylNV0PVE/aTum7souWD/At0SJ8fVgPw3Iuahxymc/MSNhhJWvcD/bTfBN02d3P2zb5nxnaoA/CD5h5MAGhz8NmeH1TyaQP+zrCsc9p5Y/LbKd76fGnz/bLW5ISEmmPww9YvTcQq8/JV2OstnstT8Er5Y7M8G+P0c+r3jqkcU/5h99k6ZBzj88bCIzFzjVP4enV8oyxN0//yH99nXg5D8qOpLLf0jtP5kqGJXUifQ/c9cS8kHP/D+/DpwzojQEQIEmwoanVwxA4lgXt9HgE0BSSZ2AJuIbQAMJih9jjiNA5q4l5INuK0AwTKYKRj0zQNv5fmq8/DpAaCJseHrtQkB/+zpwzoxKQM3MzMzMeFJAZmZmZmZqWEAAAAAAAFxeQM3MzMzMJmJAmpmZmZkfZUBmZmZmZhhoQDMzMzMzEWtAAAAAAAAKbkBmZmZmZoFwQM3MzMzM/XFAMzMzMzN6c0CamZmZmfZ0QAAAAAAAc3ZAZmZmZmbvd0DNzMzMzGt5QDMzMzMz6HpAmpmZmZlkfEAAAAAAAOF9QGZmZmZmXX9AZmZmZuZsgECamZmZGSuBQM3MzMxM6YFAAAAAAICngkAzMzMzs2WDQGZmZmbmI4RAmpmZmRnihEDNzMzMTKCFQAAAAACAXoZAMzMzM7Mch0BmZmZm5tqHQJqZmZkZmYhAzczMzExXiUAAAAAAgBWKQDMzMzOz04pAZmZmZuaRi0CamZmZGVCMQM3MzMxMDo1AAAAAAIDMjUAzMzMzs4qOQGZmZmbmSI9A\",\"dtype\":\"float64\",\"shape\":[75]}}},\"id\":\"27f491b6-b90f-40e3-8171-0b36dbfb5d42\",\"type\":\"ColumnDataSource\"},{\"attributes\":{},\"id\":\"e8255385-2af2-43cf-99bf-7cbfb98b1ad8\",\"type\":\"SaveTool\"},{\"attributes\":{\"line_color\":\"#4daf4a\",\"line_width\":1.5,\"x\":{\"field\":\"x\"},\"y\":{\"field\":\"y\"}},\"id\":\"1cf79e14-1423-45d0-910f-0dd68a29e82b\",\"type\":\"Line\"},{\"attributes\":{\"callback\":null,\"column_names\":[\"x\",\"y\"],\"data\":{\"x\":{\"__ndarray__\":\"2pTvvzyJcT8oGE6x1S1yP5jZUmIgjXM/5P/ZHs4DdT+a+ZmZtH12P2N0Ydd8+nc/NM0QkRN6eT+MWHa1jPx6P2dEFObugXw/1mmS7g0Jfj99kVT8SpR/P8si85AxkYA/0oPYO4RZgT8XlCrjMTKCP2ii4gvewIQ/5vAdrDXCiz9rYxifUi6TP3AgLbTBEJk/mEkUPXJ2nz+EhKw4yBqjP2qPoiMXxKY/8GxLwXOfqj8+muWxlsetP7ys5Sx10q0/ZRXj0L7zqj8XcQNwN2anP630zGak0qM/ilyhZLpkoD+mp+zg4XqaPyE9llUQt5Q/ROBlMKOGjj/SX0+z7VWEP5oMODpqiHc/oGlHAfUEZD/kRbWvFO5Cv47XiB+wdWu/ZNEbvuqgdb9UzrV1mZ16vxXETibmSH+/JIqQTNwpgb9dVQH1qRWAv5QqF0sNRHm/MKktt6ypcb/IwagU5aRkv2IVqy3Y/Em/WmOXmcl6Sz9xfS5AtxlkPwUvKskMf3A/3Gfp2gfCdj9gt8hawaR8P2NF0Cy8PYE/6Btig4wLhD+m37yRv6qGP5drebiwNIk/CSN14b6xiz/C/2o3nhKOP5ohYj6xMpA/FAFXhVBdkT8J/7cV6HqSP9L/vrufl5M/rtaWrNS0lD9TrFDkzcGVP2izQ+Pd1pY/iI9/kyPllz+oYC7Uo+qYPyk8Y70j85k/SbwTZxnmmj9C/+kvQM6bPwDHS6xNmZw/3YuinRBHnT9JBR3GB+qdPymBaeqXdZ4/hGra748Knz/0hrv2JZSfP2nDfwhaEqA/\",\"dtype\":\"float64\",\"shape\":[75]},\"y\":{\"__ndarray__\":\"GhExyth1ND/Sv8nbtpRIP2vylNV0PVE/aTum7souWD/At0SJ8fVgPw3Iuahxymc/MSNhhJWvcD/bTfBN02d3P2zb5nxnaoA/CD5h5MAGhz8NmeH1TyaQP+zrCsc9p5Y/LbKd76fGnz/bLW5ISEmmPww9YvTcQq8/JV2OstnstT8Er5Y7M8G+P0c+r3jqkcU/5h99k6ZBzj88bCIzFzjVP4enV8oyxN0//yH99nXg5D8qOpLLf0jtP5kqGJXUifQ/c9cS8kHP/D+/DpwzojQEQIEmwoanVwxA4lgXt9HgE0BSSZ2AJuIbQAMJih9jjiNA5q4l5INuK0AwTKYKRj0zQNv5fmq8/DpAaCJseHrtQkB/+zpwzoxKQM3MzMzMeFJAZmZmZmZqWEAAAAAAAFxeQM3MzMzMJmJAmpmZmZkfZUBmZmZmZhhoQDMzMzMzEWtAAAAAAAAKbkBmZmZmZoFwQM3MzMzM/XFAMzMzMzN6c0CamZmZmfZ0QAAAAAAAc3ZAZmZmZmbvd0DNzMzMzGt5QDMzMzMz6HpAmpmZmZlkfEAAAAAAAOF9QGZmZmZmXX9AZmZmZuZsgECamZmZGSuBQM3MzMxM6YFAAAAAAICngkAzMzMzs2WDQGZmZmbmI4RAmpmZmRnihEDNzMzMTKCFQAAAAACAXoZAMzMzM7Mch0BmZmZm5tqHQJqZmZkZmYhAzczMzExXiUAAAAAAgBWKQDMzMzOz04pAZmZmZuaRi0CamZmZGVCMQM3MzMxMDo1AAAAAAIDMjUAzMzMzs4qOQGZmZmbmSI9A\",\"dtype\":\"float64\",\"shape\":[75]}}},\"id\":\"375c9430-20eb-43f2-a20e-7d7a05d4bebb\",\"type\":\"ColumnDataSource\"},{\"attributes\":{\"line_alpha\":0.6,\"line_color\":\"#984ea3\",\"line_width\":3,\"x\":{\"field\":\"x\"},\"y\":{\"field\":\"y\"}},\"id\":\"865b4e95-eee9-4470-b28f-12f456327281\",\"type\":\"Line\"},{\"attributes\":{},\"id\":\"9c5c934a-e4a4-4577-93bf-f53eab63e541\",\"type\":\"BasicTickFormatter\"},{\"attributes\":{\"line_alpha\":0.1,\"line_color\":\"#1f77b4\",\"line_width\":1.5,\"x\":{\"field\":\"x\"},\"y\":{\"field\":\"y\"}},\"id\":\"073f3d0a-8d23-43be-9845-8dfc98d01e44\",\"type\":\"Line\"},{\"attributes\":{\"source\":{\"id\":\"0a6cd8cc-ed94-492d-8fbe-d5d938a282e1\",\"type\":\"ColumnDataSource\"}},\"id\":\"f2e2cc32-2539-4ed9-a4c0-bc4e3c2e3357\",\"type\":\"CDSView\"},{\"attributes\":{\"fill_alpha\":{\"value\":0.7},\"fill_color\":{\"value\":\"#984ea3\"},\"line_alpha\":{\"value\":0.7},\"line_color\":{\"value\":\"#984ea3\"},\"x\":{\"field\":\"x\"},\"y\":{\"field\":\"y\"}},\"id\":\"383a4648-924d-4507-91a7-0bd3b5bdcca7\",\"type\":\"Square\"},{\"attributes\":{\"callback\":null,\"end\":0.0589146056195,\"start\":-0.009253592669499999},\"id\":\"bad93031-53da-4fca-bdcd-7e1ff4c758f5\",\"type\":\"Range1d\"},{\"attributes\":{\"items\":[{\"id\":\"c7b4a774-293b-4258-8907-b14bd8805912\",\"type\":\"LegendItem\"},{\"id\":\"8ca47747-5c9e-415a-b29f-3a0cb41edf3a\",\"type\":\"LegendItem\"},{\"id\":\"b69b119e-1616-4f0e-aa5e-8c57c400a07d\",\"type\":\"LegendItem\"}],\"label_text_font_size\":{\"value\":\"8pt\"},\"location\":[10,-30],\"plot\":{\"id\":\"59a45a5e-0c01-4afb-b950-e2bbe97fa407\",\"subtype\":\"Figure\",\"type\":\"Plot\"}},\"id\":\"0798081c-4bec-4f04-8f2e-a3495d3babd7\",\"type\":\"Legend\"},{\"attributes\":{\"source\":{\"id\":\"22f65f9d-2dd0-4754-b1ac-a198eac0b639\",\"type\":\"ColumnDataSource\"}},\"id\":\"b109ced0-bcec-4448-9174-47cad4c3d833\",\"type\":\"CDSView\"},{\"attributes\":{\"fill_alpha\":{\"value\":0.1},\"fill_color\":{\"value\":\"#1f77b4\"},\"line_alpha\":{\"value\":0.1},\"line_color\":{\"value\":\"#1f77b4\"},\"x\":{\"field\":\"x\"},\"y\":{\"field\":\"y\"}},\"id\":\"f6a32141-e6a6-49d8-98a6-5688967df5ec\",\"type\":\"Square\"},{\"attributes\":{\"data_source\":{\"id\":\"22f65f9d-2dd0-4754-b1ac-a198eac0b639\",\"type\":\"ColumnDataSource\"},\"glyph\":{\"id\":\"383a4648-924d-4507-91a7-0bd3b5bdcca7\",\"type\":\"Square\"},\"hover_glyph\":null,\"muted_glyph\":null,\"nonselection_glyph\":{\"id\":\"f6a32141-e6a6-49d8-98a6-5688967df5ec\",\"type\":\"Square\"},\"selection_glyph\":null,\"view\":{\"id\":\"b109ced0-bcec-4448-9174-47cad4c3d833\",\"type\":\"CDSView\"}},\"id\":\"6fb02f73-f75e-4d8f-a160-6495f6e89fc6\",\"type\":\"GlyphRenderer\"},{\"attributes\":{},\"id\":\"f3bdde14-1bb7-41b6-ace0-9dd2fae4018b\",\"type\":\"BasicTickFormatter\"},{\"attributes\":{\"children\":[{\"id\":\"356ff0c8-eccb-43a5-a5be-c93e22f7968a\",\"type\":\"ToolbarBox\"},{\"id\":\"0958823a-9eab-492e-b5c9-22eb67301526\",\"type\":\"Column\"}]},\"id\":\"2de094a1-e34f-4237-b351-17b8593a93f9\",\"type\":\"Column\"},{\"attributes\":{\"source\":{\"id\":\"375c9430-20eb-43f2-a20e-7d7a05d4bebb\",\"type\":\"ColumnDataSource\"}},\"id\":\"6a0fc79c-b92a-4a6b-9fbf-9fccbe6d751d\",\"type\":\"CDSView\"},{\"attributes\":{\"line_alpha\":0.1,\"line_color\":\"#1f77b4\",\"line_width\":3,\"x\":{\"field\":\"x\"},\"y\":{\"field\":\"y\"}},\"id\":\"c12c1781-2126-4008-8163-977eee88641c\",\"type\":\"Line\"},{\"attributes\":{\"data_source\":{\"id\":\"375c9430-20eb-43f2-a20e-7d7a05d4bebb\",\"type\":\"ColumnDataSource\"},\"glyph\":{\"id\":\"865b4e95-eee9-4470-b28f-12f456327281\",\"type\":\"Line\"},\"hover_glyph\":null,\"muted_glyph\":null,\"nonselection_glyph\":{\"id\":\"c12c1781-2126-4008-8163-977eee88641c\",\"type\":\"Line\"},\"selection_glyph\":null,\"view\":{\"id\":\"6a0fc79c-b92a-4a6b-9fbf-9fccbe6d751d\",\"type\":\"CDSView\"}},\"id\":\"ae1a47af-8e6f-4ac1-b173-5b0c970391c9\",\"type\":\"GlyphRenderer\"},{\"attributes\":{\"label\":{\"value\":\"CRD\"},\"renderers\":[{\"id\":\"d9516960-f8e0-4a12-86cd-5472ff822c51\",\"type\":\"GlyphRenderer\"},{\"id\":\"c37a8283-6987-4407-8faa-45c54d9a686a\",\"type\":\"GlyphRenderer\"}]},\"id\":\"8ca47747-5c9e-415a-b29f-3a0cb41edf3a\",\"type\":\"LegendItem\"},{\"attributes\":{\"toolbar\":{\"id\":\"7d973d4b-74a4-4b5e-871a-17ca30c70563\",\"type\":\"ProxyToolbar\"},\"toolbar_location\":\"above\"},\"id\":\"356ff0c8-eccb-43a5-a5be-c93e22f7968a\",\"type\":\"ToolbarBox\"},{\"attributes\":{\"fill_alpha\":{\"value\":0.1},\"fill_color\":{\"value\":\"#1f77b4\"},\"line_alpha\":{\"value\":0.1},\"line_color\":{\"value\":\"#1f77b4\"},\"x\":{\"field\":\"x\"},\"y\":{\"field\":\"y\"}},\"id\":\"b8699f7b-79a6-478f-b4a7-a468818f526d\",\"type\":\"Circle\"},{\"attributes\":{\"data_source\":{\"id\":\"fb53ba94-7c42-4d04-8eae-c93444f27944\",\"type\":\"ColumnDataSource\"},\"glyph\":{\"id\":\"7515f908-c5d4-46d7-bef8-0b17fa32085e\",\"type\":\"Line\"},\"hover_glyph\":null,\"muted_glyph\":null,\"nonselection_glyph\":{\"id\":\"5f0fade5-7c62-409d-a74d-5f4e7a60dab2\",\"type\":\"Line\"},\"selection_glyph\":null,\"view\":{\"id\":\"75a56e8f-e3b4-44ee-8e24-c0bcd4fa7e03\",\"type\":\"CDSView\"}},\"id\":\"c806fd58-ffc6-4b4d-b9c2-45b9eacd39f2\",\"type\":\"GlyphRenderer\"},{\"attributes\":{\"tools\":[{\"id\":\"e2453e5c-a666-45e6-9c76-465ca5f7cb3b\",\"type\":\"PanTool\"},{\"id\":\"69bc99c7-5e62-4d74-8a07-67758c9d9e00\",\"type\":\"WheelZoomTool\"},{\"id\":\"382bbf80-e350-4cc0-8991-568dce8327fd\",\"type\":\"BoxZoomTool\"},{\"id\":\"3471919b-553b-4eb3-af3a-3eabb6b31ddb\",\"type\":\"SaveTool\"},{\"id\":\"5c59682d-649b-4749-b91b-adf2a6c3299d\",\"type\":\"ResetTool\"},{\"id\":\"f2dbea2a-911d-42f7-8ace-b64f6a3ab734\",\"type\":\"HelpTool\"},{\"id\":\"f9d0bc58-aac5-4365-a67b-7c1e32122967\",\"type\":\"PanTool\"},{\"id\":\"6645e137-9559-47ce-b9dd-403614602b55\",\"type\":\"WheelZoomTool\"},{\"id\":\"8072929b-e49f-47b3-8fd5-c796ef288b9c\",\"type\":\"BoxZoomTool\"},{\"id\":\"e8255385-2af2-43cf-99bf-7cbfb98b1ad8\",\"type\":\"SaveTool\"},{\"id\":\"35cc894f-393e-4496-9f46-b9a7a6fd84a9\",\"type\":\"ResetTool\"},{\"id\":\"9035426f-43cb-48a5-a80b-34b3248fcac4\",\"type\":\"HelpTool\"}]},\"id\":\"7d973d4b-74a4-4b5e-871a-17ca30c70563\",\"type\":\"ProxyToolbar\"},{\"attributes\":{},\"id\":\"ef936038-5f83-408b-8b2c-e79e8fd40d4b\",\"type\":\"BasicTickFormatter\"},{\"attributes\":{\"fill_alpha\":{\"value\":0.1},\"fill_color\":{\"value\":\"#1f77b4\"},\"line_alpha\":{\"value\":0.1},\"line_color\":{\"value\":\"#1f77b4\"},\"x\":{\"field\":\"x\"},\"y\":{\"field\":\"y\"}},\"id\":\"fb64e0ee-1f20-4ca1-bc07-181750ccf859\",\"type\":\"Square\"},{\"attributes\":{\"label\":{\"value\":\"CLIRAD `coolr_bands`\"},\"renderers\":[{\"id\":\"8eccaaba-515e-4175-9070-5fc9713462a8\",\"type\":\"GlyphRenderer\"}]},\"id\":\"c7b4a774-293b-4258-8907-b14bd8805912\",\"type\":\"LegendItem\"},{\"attributes\":{\"line_alpha\":0.6,\"line_color\":\"#e41a1c\",\"line_dash\":[6],\"line_width\":5,\"x\":{\"field\":\"x\"},\"y\":{\"field\":\"y\"}},\"id\":\"78a4a2cd-1e78-48bc-b493-10e3643f758b\",\"type\":\"Line\"},{\"attributes\":{\"line_alpha\":0.6,\"line_color\":\"#e41a1c\",\"line_dash\":[6],\"line_width\":5,\"x\":{\"field\":\"x\"},\"y\":{\"field\":\"y\"}},\"id\":\"13aa4a6a-3c72-4beb-91b6-b4987f4dfe1e\",\"type\":\"Line\"},{\"attributes\":{\"plot\":null,\"text\":\"Log pressure scale\"},\"id\":\"32309443-1ea1-43bd-a1f8-fec40de31ecf\",\"type\":\"Title\"},{\"attributes\":{\"callback\":null,\"column_names\":[\"x\",\"y\"],\"data\":{\"x\":{\"__ndarray__\":\"AAAAAAAAAAAAAAAAAAAAAE5SXgAhX7e/eLsF4tqosD8AAAAAAAAAAKlzJhxj76A/bjRQfiolmD/LAWebrjaRvwAAAAAAAAAAAAAAAAAAAACixhX78bWSPwAAAAAAAAAAfAPnGtMEkz9H/zvBBhSCP2VKhR/+VIM/hx5FXlVEiT+ewunbhKaTP2VVHLgXWZc/zBiln/4gnT9+bzuDchqiP01Hev270aQ/rw7qnEvjqD+BY7gCVoOrP8LfX59hs6s/xsDu/9kSqT8QNB08PhqmP5rPudv10qI/hMbPI5+Hnz+U14wEAc+ZP5J5wwEde5Q/Vt/Bm6qFjj9duJJuYoCEP+oPpeKstHc/N/5EZcOaYj9Tyn6ijllOv34ojeOLJ2+/DIxkYoaMd7+j9Ovg/ml8v4J8+qDPTYC/PmyJXyiVgb8s1JK+9GWAvyB9Et0MHnq/tKmNfY/Scr/KOTx6f2Bnv9Qk2SOL7VK/oUwEH3CCPz/veYF/sQphP8M/vXnwqm0/gj01fccHdT+oC9idzAl7PxzCpSGyYYA/OL2e/8Qngz8dxE2UJNKFP79B/y2WXIg/pCopVJDPij8vmDzBpTONP4jSxUNrh48/Bu78f/XokD/aDYcX1weSPwE2dkIVIpM/1Wa63AI3lD99IaKgLUqVP1MzLMXcVZY/vFfJoSdglz/mHqragmaYP4XGDIe3ZJk/vdNTmoNWmj8AK6YjlzebP8ApN0fZ/5s/3XFixhatnD9ZD3t7uUqdP2CDzyBP3J0/VQVK2vJpnj+c3CJCufOeP4NmviB1fZ8/\",\"dtype\":\"float64\",\"shape\":[75]},\"y\":{\"__ndarray__\":\"S/O/Q+51ND/430zAtpRIP2vylNV0PVE/QxsjCssuWD/TR4Z78fVgP+inNsRxymc/OuuBfZWvcD/u3TFA02d3P2d3VoBnaoA/CD5h5MAGhz/1pA8HUCaQP+zrCsc9p5Y/Fb7LAKjGnz/nJ9c/SEmmPwBD+fzcQq8/FOZwv9nstT8Er5Y7M8G+P0c+r3jqkcU/yK72qKZBzj+tM989FzjVPxbgmr8yxN0/cOm5AXbg5D+5ctXAf0jtP5kqGJXUifQ/DsrqDELP/D8MCAhBojQEQDItVnmnVwxAiFXNvdHgE0BSSZ2AJuIbQAMJih9jjiNA5q4l5INuK0CPVN/5RT0zQHzxRXu8/DpAOZ7PgHrtQkAg8wGBzoxKQBSTN8DMeFJA2NmQf2ZqWEAAAAAAAFxeQEQX1LfMJmJAmpmZmZkfZUBmZmZmZhhoQLzoK0gzEWtAAAAAAAAKbkCiC+pbZoFwQAhyUMLM/XFA+I2vPTN6c0AQ5KCEmfZ0QAAAAAAAc3ZA8Btfe2bvd0AIclDCzGt5QPeNrz0z6HpAEOSghJlkfEAAAAAAAOF9QKML6ltmXX9ABTkoYeZsgED7xteeGSuBQAhyUMJM6YFAAAAAAICngkD4ja89s2WDQAU5KGHmI4RA+8bXnhnihEAIclDCTKCFQAAAAACAXoZA+I2vPbMch0AFOShh5tqHQPvG154ZmYhACHJQwkxXiUAAAAAAgBWKQPeNrz2z04pABTkoYeaRi0D7xteeGVCMQAlyUMJMDo1AAAAAAIDMjUD3ja89s4qOQGZmZmbmSI9A\",\"dtype\":\"float64\",\"shape\":[75]}}},\"id\":\"1d97c03d-88f8-40ee-94d8-facb50def99e\",\"type\":\"ColumnDataSource\"},{\"attributes\":{\"callback\":null,\"column_names\":[\"x\",\"y\"],\"data\":{\"x\":{\"__ndarray__\":\"2pTvvzyJcT8oGE6x1S1yP5jZUmIgjXM/5P/ZHs4DdT+a+ZmZtH12P2N0Ydd8+nc/NM0QkRN6eT+MWHa1jPx6P2dEFObugXw/1mmS7g0Jfj99kVT8SpR/P8si85AxkYA/0oPYO4RZgT8XlCrjMTKCP2ii4gvewIQ/5vAdrDXCiz9rYxifUi6TP3AgLbTBEJk/mEkUPXJ2nz+EhKw4yBqjP2qPoiMXxKY/8GxLwXOfqj8+muWxlsetP7ys5Sx10q0/ZRXj0L7zqj8XcQNwN2anP630zGak0qM/ilyhZLpkoD+mp+zg4XqaPyE9llUQt5Q/ROBlMKOGjj/SX0+z7VWEP5oMODpqiHc/oGlHAfUEZD/kRbWvFO5Cv47XiB+wdWu/ZNEbvuqgdb9UzrV1mZ16vxXETibmSH+/JIqQTNwpgb9dVQH1qRWAv5QqF0sNRHm/MKktt6ypcb/IwagU5aRkv2IVqy3Y/Em/WmOXmcl6Sz9xfS5AtxlkPwUvKskMf3A/3Gfp2gfCdj9gt8hawaR8P2NF0Cy8PYE/6Btig4wLhD+m37yRv6qGP5drebiwNIk/CSN14b6xiz/C/2o3nhKOP5ohYj6xMpA/FAFXhVBdkT8J/7cV6HqSP9L/vrufl5M/rtaWrNS0lD9TrFDkzcGVP2izQ+Pd1pY/iI9/kyPllz+oYC7Uo+qYPyk8Y70j85k/SbwTZxnmmj9C/+kvQM6bPwDHS6xNmZw/3YuinRBHnT9JBR3GB+qdPymBaeqXdZ4/hGra748Knz/0hrv2JZSfP2nDfwhaEqA/\",\"dtype\":\"float64\",\"shape\":[75]},\"y\":{\"__ndarray__\":\"GhExyth1ND/Sv8nbtpRIP2vylNV0PVE/aTum7souWD/At0SJ8fVgPw3Iuahxymc/MSNhhJWvcD/bTfBN02d3P2zb5nxnaoA/CD5h5MAGhz8NmeH1TyaQP+zrCsc9p5Y/LbKd76fGnz/bLW5ISEmmPww9YvTcQq8/JV2OstnstT8Er5Y7M8G+P0c+r3jqkcU/5h99k6ZBzj88bCIzFzjVP4enV8oyxN0//yH99nXg5D8qOpLLf0jtP5kqGJXUifQ/c9cS8kHP/D+/DpwzojQEQIEmwoanVwxA4lgXt9HgE0BSSZ2AJuIbQAMJih9jjiNA5q4l5INuK0AwTKYKRj0zQNv5fmq8/DpAaCJseHrtQkB/+zpwzoxKQM3MzMzMeFJAZmZmZmZqWEAAAAAAAFxeQM3MzMzMJmJAmpmZmZkfZUBmZmZmZhhoQDMzMzMzEWtAAAAAAAAKbkBmZmZmZoFwQM3MzMzM/XFAMzMzMzN6c0CamZmZmfZ0QAAAAAAAc3ZAZmZmZmbvd0DNzMzMzGt5QDMzMzMz6HpAmpmZmZlkfEAAAAAAAOF9QGZmZmZmXX9AZmZmZuZsgECamZmZGSuBQM3MzMxM6YFAAAAAAICngkAzMzMzs2WDQGZmZmbmI4RAmpmZmRnihEDNzMzMTKCFQAAAAACAXoZAMzMzM7Mch0BmZmZm5tqHQJqZmZkZmYhAzczMzExXiUAAAAAAgBWKQDMzMzOz04pAZmZmZuaRi0CamZmZGVCMQM3MzMxMDo1AAAAAAIDMjUAzMzMzs4qOQGZmZmbmSI9A\",\"dtype\":\"float64\",\"shape\":[75]}}},\"id\":\"a23f42f3-2b1c-440b-abb5-9c2bbcdb421d\",\"type\":\"ColumnDataSource\"},{\"attributes\":{\"source\":{\"id\":\"1d97c03d-88f8-40ee-94d8-facb50def99e\",\"type\":\"ColumnDataSource\"}},\"id\":\"ff38f0f2-c1fc-45a2-9027-0516ed78cce8\",\"type\":\"CDSView\"},{\"attributes\":{\"data_source\":{\"id\":\"1d97c03d-88f8-40ee-94d8-facb50def99e\",\"type\":\"ColumnDataSource\"},\"glyph\":{\"id\":\"78a4a2cd-1e78-48bc-b493-10e3643f758b\",\"type\":\"Line\"},\"hover_glyph\":null,\"muted_glyph\":null,\"nonselection_glyph\":{\"id\":\"2513f367-9ab3-4ece-9bd6-fe1c5a98a519\",\"type\":\"Line\"},\"selection_glyph\":null,\"view\":{\"id\":\"ff38f0f2-c1fc-45a2-9027-0516ed78cce8\",\"type\":\"CDSView\"}},\"id\":\"8eccaaba-515e-4175-9070-5fc9713462a8\",\"type\":\"GlyphRenderer\"},{\"attributes\":{\"line_alpha\":0.1,\"line_color\":\"#1f77b4\",\"line_dash\":[6],\"line_width\":5,\"x\":{\"field\":\"x\"},\"y\":{\"field\":\"y\"}},\"id\":\"2513f367-9ab3-4ece-9bd6-fe1c5a98a519\",\"type\":\"Line\"},{\"attributes\":{\"children\":[{\"id\":\"a648ca4e-36d5-4f0a-81be-ef6678bc548d\",\"subtype\":\"Figure\",\"type\":\"Plot\"},{\"id\":\"59a45a5e-0c01-4afb-b950-e2bbe97fa407\",\"subtype\":\"Figure\",\"type\":\"Plot\"}]},\"id\":\"d732dc4a-8a68-49ca-9241-b4dc5f6eaca3\",\"type\":\"Row\"}],\"root_ids\":[\"2de094a1-e34f-4237-b351-17b8593a93f9\"]},\"title\":\"Bokeh Application\",\"version\":\"0.12.14\"}};\n",
       "  var render_items = [{\"docid\":\"15bf5c20-ee94-4a5c-b75b-f0126182dd68\",\"elementid\":\"f912ad0b-f463-4097-bcd9-2c8074b9f280\",\"modelid\":\"2de094a1-e34f-4237-b351-17b8593a93f9\"}];\n",
       "  root.Bokeh.embed.embed_items_notebook(docs_json, render_items);\n",
       "\n",
       "  }\n",
       "  if (root.Bokeh !== undefined) {\n",
       "    embed_document(root);\n",
       "  } else {\n",
       "    var attempts = 0;\n",
       "    var timer = setInterval(function(root) {\n",
       "      if (root.Bokeh !== undefined) {\n",
       "        embed_document(root);\n",
       "        clearInterval(timer);\n",
       "      }\n",
       "      attempts++;\n",
       "      if (attempts > 100) {\n",
       "        console.log(\"Bokeh: ERROR: Unable to run BokehJS code because BokehJS library is missing\")\n",
       "        clearInterval(timer);\n",
       "      }\n",
       "    }, 10, root)\n",
       "  }\n",
       "})(window);"
      ],
      "application/vnd.bokehjs_exec.v0+json": ""
     },
     "metadata": {
      "application/vnd.bokehjs_exec.v0+json": {
       "id": "2de094a1-e34f-4237-b351-17b8593a93f9"
      }
     },
     "output_type": "display_data"
    },
    {
     "name": "stdout",
     "output_type": "stream",
     "text": [
      "FIGURE. Cooling rate profiles.\n"
     ]
    },
    {
     "data": {
      "text/html": [
       "<a id=\"Flux_Comparison\"></a>"
      ],
      "text/plain": [
       "<IPython.core.display.HTML object>"
      ]
     },
     "metadata": {},
     "output_type": "display_data"
    },
    {
     "data": {
      "text/markdown": [
       "# Flux Comparison"
      ],
      "text/plain": [
       "<IPython.core.display.Markdown object>"
      ]
     },
     "metadata": {},
     "output_type": "display_data"
    },
    {
     "data": {
      "text/html": [
       "<div>\n",
       "<style>\n",
       "    .dataframe thead tr:only-child th {\n",
       "        text-align: right;\n",
       "    }\n",
       "\n",
       "    .dataframe thead th {\n",
       "        text-align: left;\n",
       "    }\n",
       "\n",
       "    .dataframe tbody tr th {\n",
       "        vertical-align: top;\n",
       "    }\n",
       "</style>\n",
       "<table border=\"1\" class=\"dataframe\">\n",
       "  <thead>\n",
       "    <tr style=\"text-align: right;\">\n",
       "      <th></th>\n",
       "      <th></th>\n",
       "      <th>flug</th>\n",
       "      <th>fldg</th>\n",
       "      <th>fnetg</th>\n",
       "    </tr>\n",
       "    <tr>\n",
       "      <th>pressure</th>\n",
       "      <th>level</th>\n",
       "      <th></th>\n",
       "      <th></th>\n",
       "      <th></th>\n",
       "    </tr>\n",
       "  </thead>\n",
       "  <tbody>\n",
       "    <tr>\n",
       "      <th>0.0000</th>\n",
       "      <th>1</th>\n",
       "      <td>-35.012057</td>\n",
       "      <td>0.000000</td>\n",
       "      <td>-35.012057</td>\n",
       "    </tr>\n",
       "    <tr>\n",
       "      <th>1.0685</th>\n",
       "      <th>24</th>\n",
       "      <td>-35.011299</td>\n",
       "      <td>0.004676</td>\n",
       "      <td>-35.006624</td>\n",
       "    </tr>\n",
       "    <tr>\n",
       "      <th>1013.0000</th>\n",
       "      <th>76</th>\n",
       "      <td>-36.235408</td>\n",
       "      <td>2.713550</td>\n",
       "      <td>-33.521857</td>\n",
       "    </tr>\n",
       "  </tbody>\n",
       "</table>\n",
       "</div>"
      ],
      "text/plain": [
       "                      flug      fldg      fnetg\n",
       "pressure  level                                \n",
       "0.0000    1     -35.012057  0.000000 -35.012057\n",
       "1.0685    24    -35.011299  0.004676 -35.006624\n",
       "1013.0000 76    -36.235408  2.713550 -33.521857"
      ]
     },
     "metadata": {},
     "output_type": "display_data"
    },
    {
     "name": "stdout",
     "output_type": "stream",
     "text": [
      "Table. Fluxes. WGT igg=10 wgt_flux=1\n"
     ]
    },
    {
     "data": {
      "text/html": [
       "<div>\n",
       "<style>\n",
       "    .dataframe thead tr:only-child th {\n",
       "        text-align: right;\n",
       "    }\n",
       "\n",
       "    .dataframe thead th {\n",
       "        text-align: left;\n",
       "    }\n",
       "\n",
       "    .dataframe tbody tr th {\n",
       "        vertical-align: top;\n",
       "    }\n",
       "</style>\n",
       "<table border=\"1\" class=\"dataframe\">\n",
       "  <thead>\n",
       "    <tr style=\"text-align: right;\">\n",
       "      <th></th>\n",
       "      <th></th>\n",
       "      <th>flug</th>\n",
       "      <th>fldg</th>\n",
       "      <th>fnetg</th>\n",
       "    </tr>\n",
       "    <tr>\n",
       "      <th>pressure</th>\n",
       "      <th>level</th>\n",
       "      <th></th>\n",
       "      <th></th>\n",
       "      <th></th>\n",
       "    </tr>\n",
       "  </thead>\n",
       "  <tbody>\n",
       "    <tr>\n",
       "      <th>0.0000</th>\n",
       "      <th>1</th>\n",
       "      <td>-35.016069</td>\n",
       "      <td>0.000000</td>\n",
       "      <td>-35.016069</td>\n",
       "    </tr>\n",
       "    <tr>\n",
       "      <th>1.0685</th>\n",
       "      <th>24</th>\n",
       "      <td>-35.015788</td>\n",
       "      <td>0.004893</td>\n",
       "      <td>-35.010895</td>\n",
       "    </tr>\n",
       "    <tr>\n",
       "      <th>1013.0000</th>\n",
       "      <th>76</th>\n",
       "      <td>-36.235408</td>\n",
       "      <td>2.614575</td>\n",
       "      <td>-33.620833</td>\n",
       "    </tr>\n",
       "  </tbody>\n",
       "</table>\n",
       "</div>"
      ],
      "text/plain": [
       "                      flug      fldg      fnetg\n",
       "pressure  level                                \n",
       "0.0000    1     -35.016069  0.000000 -35.016069\n",
       "1.0685    24    -35.015788  0.004893 -35.010895\n",
       "1013.0000 76    -36.235408  2.614575 -33.620833"
      ]
     },
     "metadata": {},
     "output_type": "display_data"
    },
    {
     "name": "stdout",
     "output_type": "stream",
     "text": [
      "Table. Fluxes. CRD\n"
     ]
    },
    {
     "data": {
      "text/html": [
       "<div>\n",
       "<style>\n",
       "    .dataframe thead tr:only-child th {\n",
       "        text-align: right;\n",
       "    }\n",
       "\n",
       "    .dataframe thead th {\n",
       "        text-align: left;\n",
       "    }\n",
       "\n",
       "    .dataframe tbody tr th {\n",
       "        vertical-align: top;\n",
       "    }\n",
       "</style>\n",
       "<table border=\"1\" class=\"dataframe\">\n",
       "  <thead>\n",
       "    <tr style=\"text-align: right;\">\n",
       "      <th></th>\n",
       "      <th></th>\n",
       "      <th>flug</th>\n",
       "      <th>fldg</th>\n",
       "      <th>fnetg</th>\n",
       "    </tr>\n",
       "    <tr>\n",
       "      <th>pressure</th>\n",
       "      <th>level</th>\n",
       "      <th></th>\n",
       "      <th></th>\n",
       "      <th></th>\n",
       "    </tr>\n",
       "  </thead>\n",
       "  <tbody>\n",
       "    <tr>\n",
       "      <th>1.000000e-08</th>\n",
       "      <th>1</th>\n",
       "      <td>-35.056065</td>\n",
       "      <td>0.000002</td>\n",
       "      <td>-35.056061</td>\n",
       "    </tr>\n",
       "    <tr>\n",
       "      <th>1.068500e+00</th>\n",
       "      <th>24</th>\n",
       "      <td>-35.055260</td>\n",
       "      <td>0.004259</td>\n",
       "      <td>-35.051003</td>\n",
       "    </tr>\n",
       "    <tr>\n",
       "      <th>1.013000e+03</th>\n",
       "      <th>76</th>\n",
       "      <td>-36.235409</td>\n",
       "      <td>2.616783</td>\n",
       "      <td>-33.618626</td>\n",
       "    </tr>\n",
       "  </tbody>\n",
       "</table>\n",
       "</div>"
      ],
      "text/plain": [
       "                         flug      fldg      fnetg\n",
       "pressure     level                                \n",
       "1.000000e-08 1     -35.056065  0.000002 -35.056061\n",
       "1.068500e+00 24    -35.055260  0.004259 -35.051003\n",
       "1.013000e+03 76    -36.235409  2.616783 -33.618626"
      ]
     },
     "metadata": {},
     "output_type": "display_data"
    },
    {
     "name": "stdout",
     "output_type": "stream",
     "text": [
      "Table. Fluxes. CLIRAD\n"
     ]
    },
    {
     "data": {
      "text/html": [
       "<div>\n",
       "<style>\n",
       "    .dataframe thead tr:only-child th {\n",
       "        text-align: right;\n",
       "    }\n",
       "\n",
       "    .dataframe thead th {\n",
       "        text-align: left;\n",
       "    }\n",
       "\n",
       "    .dataframe tbody tr th {\n",
       "        vertical-align: top;\n",
       "    }\n",
       "</style>\n",
       "<table border=\"1\" class=\"dataframe\">\n",
       "  <thead>\n",
       "    <tr style=\"text-align: right;\">\n",
       "      <th></th>\n",
       "      <th></th>\n",
       "      <th>flug</th>\n",
       "      <th>fldg</th>\n",
       "      <th>fnetg</th>\n",
       "    </tr>\n",
       "    <tr>\n",
       "      <th>pressure</th>\n",
       "      <th>level</th>\n",
       "      <th></th>\n",
       "      <th></th>\n",
       "      <th></th>\n",
       "    </tr>\n",
       "  </thead>\n",
       "  <tbody>\n",
       "    <tr>\n",
       "      <th>0.0000</th>\n",
       "      <th>1</th>\n",
       "      <td>-4.011870e-03</td>\n",
       "      <td>0.000000</td>\n",
       "      <td>-0.004012</td>\n",
       "    </tr>\n",
       "    <tr>\n",
       "      <th>1.0685</th>\n",
       "      <th>24</th>\n",
       "      <td>-4.488580e-03</td>\n",
       "      <td>0.000216</td>\n",
       "      <td>-0.004271</td>\n",
       "    </tr>\n",
       "    <tr>\n",
       "      <th>1013.0000</th>\n",
       "      <th>76</th>\n",
       "      <td>1.100000e-07</td>\n",
       "      <td>-0.098975</td>\n",
       "      <td>-0.098976</td>\n",
       "    </tr>\n",
       "  </tbody>\n",
       "</table>\n",
       "</div>"
      ],
      "text/plain": [
       "                         flug      fldg     fnetg\n",
       "pressure  level                                  \n",
       "0.0000    1     -4.011870e-03  0.000000 -0.004012\n",
       "1.0685    24    -4.488580e-03  0.000216 -0.004271\n",
       "1013.0000 76     1.100000e-07 -0.098975 -0.098976"
      ]
     },
     "metadata": {},
     "output_type": "display_data"
    },
    {
     "name": "stdout",
     "output_type": "stream",
     "text": [
      "Table. Fluxes. (CRD) - (WGT igg=10 wgt_flux=1)\n"
     ]
    },
    {
     "data": {
      "text/html": [
       "<div>\n",
       "<style>\n",
       "    .dataframe thead tr:only-child th {\n",
       "        text-align: right;\n",
       "    }\n",
       "\n",
       "    .dataframe thead th {\n",
       "        text-align: left;\n",
       "    }\n",
       "\n",
       "    .dataframe tbody tr th {\n",
       "        vertical-align: top;\n",
       "    }\n",
       "</style>\n",
       "<table border=\"1\" class=\"dataframe\">\n",
       "  <thead>\n",
       "    <tr style=\"text-align: right;\">\n",
       "      <th></th>\n",
       "      <th></th>\n",
       "      <th>flug</th>\n",
       "      <th>fldg</th>\n",
       "      <th>fnetg</th>\n",
       "    </tr>\n",
       "    <tr>\n",
       "      <th>pressure</th>\n",
       "      <th>level</th>\n",
       "      <th></th>\n",
       "      <th></th>\n",
       "      <th></th>\n",
       "    </tr>\n",
       "  </thead>\n",
       "  <tbody>\n",
       "    <tr>\n",
       "      <th>0.0000</th>\n",
       "      <th>1</th>\n",
       "      <td>-4.400787e-02</td>\n",
       "      <td>0.000002</td>\n",
       "      <td>-0.044004</td>\n",
       "    </tr>\n",
       "    <tr>\n",
       "      <th>1.0685</th>\n",
       "      <th>24</th>\n",
       "      <td>-4.396058e-02</td>\n",
       "      <td>-0.000417</td>\n",
       "      <td>-0.044379</td>\n",
       "    </tr>\n",
       "    <tr>\n",
       "      <th>1013.0000</th>\n",
       "      <th>76</th>\n",
       "      <td>-8.900000e-07</td>\n",
       "      <td>-0.096767</td>\n",
       "      <td>-0.096769</td>\n",
       "    </tr>\n",
       "  </tbody>\n",
       "</table>\n",
       "</div>"
      ],
      "text/plain": [
       "                         flug      fldg     fnetg\n",
       "pressure  level                                  \n",
       "0.0000    1     -4.400787e-02  0.000002 -0.044004\n",
       "1.0685    24    -4.396058e-02 -0.000417 -0.044379\n",
       "1013.0000 76    -8.900000e-07 -0.096767 -0.096769"
      ]
     },
     "metadata": {},
     "output_type": "display_data"
    },
    {
     "name": "stdout",
     "output_type": "stream",
     "text": [
      "Table. Fluxes. (CLIRAD) - (WGT igg=10 wgt_flux=1)\n"
     ]
    },
    {
     "data": {
      "text/html": [
       "<a id=\"Best-fit_Parameters\"></a>"
      ],
      "text/plain": [
       "<IPython.core.display.HTML object>"
      ]
     },
     "metadata": {},
     "output_type": "display_data"
    },
    {
     "data": {
      "text/markdown": [
       "# Best-fit Parameters"
      ],
      "text/plain": [
       "<IPython.core.display.Markdown object>"
      ]
     },
     "metadata": {},
     "output_type": "display_data"
    },
    {
     "name": "stdout",
     "output_type": "stream",
     "text": [
      "Best-fit values for each (gas, band)\n",
      "------------------------------------\n",
      "o n2o band3a\n",
      "  atmpro = mls\n",
      "  band = 3a\n",
      "  commitnumber = 2bd1f75\n",
      "  conc = 3.2e-07\n",
      "  dv = 0.01\n",
      "  klin = 2.22e-20\n",
      "  molecule = n2o\n",
      "  ng_adju = [0, 0]\n",
      "  ng_refs = [1, 2]\n",
      "  nv = 100\n",
      "  option_compute_btable = 0\n",
      "  option_compute_ktable = 1\n",
      "  option_wgt_flux = 1\n",
      "  option_wgt_k = 1\n",
      "  ref_pts = [(1, 250), (500, 250)]\n",
      "  tsfc = 294\n",
      "  vmax = 620\n",
      "  vmin = 540\n",
      "  w_diffuse = [(1.8,), (1.66, 1.8)]\n",
      "  wgt = [(0.9,), (0.5, 0.95)]\n"
     ]
    }
   ],
   "source": [
    "script()"
   ]
  },
  {
   "cell_type": "code",
   "execution_count": 13,
   "metadata": {
    "collapsed": true
   },
   "outputs": [
    {
     "data": {
      "text/html": [
       "<script>\n",
       "code_show=true; \n",
       "function code_toggle() {\n",
       " if (code_show){\n",
       " $('div.input').hide();\n",
       " } else {\n",
       " $('div.input').show();\n",
       " }\n",
       " code_show = !code_show\n",
       "} \n",
       "$( document ).ready(code_toggle);\n",
       "</script>\n",
       "<form action=\"javascript:code_toggle()\"><input type=\"submit\" value=\"Click here to toggle on/off the raw code.\"></form>"
      ],
      "text/plain": [
       "<IPython.core.display.HTML object>"
      ]
     },
     "execution_count": 13,
     "metadata": {},
     "output_type": "execute_result"
    }
   ],
   "source": [
    "display.HTML('''<script>\n",
    "code_show=true; \n",
    "function code_toggle() {\n",
    " if (code_show){\n",
    " $('div.input').hide();\n",
    " } else {\n",
    " $('div.input').show();\n",
    " }\n",
    " code_show = !code_show\n",
    "} \n",
    "$( document ).ready(code_toggle);\n",
    "</script>\n",
    "<form action=\"javascript:code_toggle()\"><input type=\"submit\" value=\"Click here to toggle on/off the raw code.\"></form>''')"
   ]
  }
 ],
 "metadata": {
  "kernelspec": {
   "display_name": "Python 3",
   "language": "python",
   "name": "python3"
  },
  "language_info": {
   "codemirror_mode": {
    "name": "ipython",
    "version": 3
   },
   "file_extension": ".py",
   "mimetype": "text/x-python",
   "name": "python",
   "nbconvert_exporter": "python",
   "pygments_lexer": "ipython3",
   "version": "3.6.1"
  }
 },
 "nbformat": 4,
 "nbformat_minor": 2
}
