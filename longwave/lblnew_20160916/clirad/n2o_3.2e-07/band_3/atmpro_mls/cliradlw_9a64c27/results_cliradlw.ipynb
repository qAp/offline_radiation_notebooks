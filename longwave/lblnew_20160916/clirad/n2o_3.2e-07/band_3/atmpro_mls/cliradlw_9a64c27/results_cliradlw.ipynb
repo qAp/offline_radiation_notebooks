{
 "cells": [
  {
   "cell_type": "code",
   "execution_count": 1,
   "metadata": {
    "collapsed": true
   },
   "outputs": [],
   "source": [
    "%matplotlib inline\n",
    "import os\n",
    "import re\n",
    "import io\n",
    "import itertools\n",
    "import pprint\n",
    "\n",
    "from bokeh.io import output_notebook, show\n",
    "from bokeh.layouts import gridplot\n",
    "from bokeh.plotting import figure\n",
    "from bokeh.models import Range1d, Legend\n",
    "from bokeh.palettes import all_palettes\n",
    "\n",
    "import matplotlib\n",
    "import matplotlib.pyplot as plt\n",
    "import numpy as np\n",
    "import pandas as pd\n",
    "import xarray as xr\n",
    "\n",
    "import climatools.lblnew.bestfit_params as bestfits\n",
    "from climatools.lblnew import setup_bestfit, setup_overlap\n",
    "import climatools.lblnew.pipeline as pipe_lblnew\n",
    "import climatools.cliradlw.setup as setup_cliradlw\n",
    "import climatools.cliradlw.pipeline as pipe_cliradlw\n",
    "\n",
    "import climatools.html.html as climahtml\n",
    "from climatools.lblnew.dataio import *\n",
    "from climatools.plot.plot import *\n",
    "\n",
    "\n",
    "import IPython.display as display"
   ]
  },
  {
   "cell_type": "code",
   "execution_count": 2,
   "metadata": {
    "collapsed": true
   },
   "outputs": [],
   "source": [
    "%run param.py"
   ]
  },
  {
   "cell_type": "code",
   "execution_count": 3,
   "metadata": {
    "collapsed": true
   },
   "outputs": [],
   "source": [
    "def load_output_file(path_csv):\n",
    "    '''\n",
    "    Load lblnew output .csv file to xarray.Dataset\n",
    "    \n",
    "    Parameters\n",
    "    ----------\n",
    "    path_csv: str\n",
    "              Path to the .csv file to be loaded.\n",
    "    ds: xarray.Dataset\n",
    "        Data in the input file in the form of an xarray.Dataset.\n",
    "    '''\n",
    "    toindex = ['band', 'pressure', 'igg', 'g']    \n",
    "    df = pd.read_csv(path_csv, sep=r'\\s+')\n",
    "    df = df.set_index([i for i in toindex if i in df.columns])\n",
    "    df = df.rename(columns={'sfu': 'flug',\n",
    "                            'sfd': 'fldg',\n",
    "                            'fnet': 'fnetg',\n",
    "                            'coolr': 'coolrg'})\n",
    "    ds = xr.Dataset.from_dataframe(df)\n",
    "\n",
    "    for l in ('level', 'layer'):\n",
    "        if l in ds.data_vars:\n",
    "            if len(ds[l].dims) > 1:\n",
    "                surface = {d: 0 for d in ds.dims if d != 'pressure'}\n",
    "                coord_level = ds[l][surface]\n",
    "                ds.coords[l] = ('pressure', coord_level)\n",
    "            else:\n",
    "                ds.coords[l] = ('pressure', ds[l])\n",
    "    \n",
    "    return ds"
   ]
  },
  {
   "cell_type": "code",
   "execution_count": 4,
   "metadata": {
    "collapsed": true
   },
   "outputs": [],
   "source": [
    "def lblnew_setup(param=None):\n",
    "    if 'ng_refs' in param:\n",
    "        return {'setup': setup_bestfit,\n",
    "                'fname_flux_crd': 'output_flux.dat',\n",
    "                'fname_cool_crd': 'output_coolr.dat',\n",
    "                'fname_flux_wgt': 'output_wfluxg.dat',\n",
    "                'fname_cool_wgt': 'output_wcoolrg.dat'}\n",
    "    else:\n",
    "        return {'setup': setup_overlap,\n",
    "                'fname_flux_crd': 'output_flux.dat',\n",
    "                'fname_cool_crd': 'output_coolr.dat',\n",
    "                'fname_flux_wgt': 'output_wflux.dat',\n",
    "                'fname_cool_wgt': 'output_wcoolr.dat'}\n",
    "\n",
    "    \n",
    "def load_lblnew_data(param):\n",
    "    \n",
    "    fname_dsname = [('fname_flux_crd', 'ds_flux_crd'),\n",
    "                    ('fname_cool_crd', 'ds_cool_crd'),\n",
    "                    ('fname_flux_wgt', 'ds_flux_wgt'),\n",
    "                    ('fname_cool_wgt', 'ds_cool_wgt')]\n",
    "    \n",
    "    d = lblnew_setup(param)\n",
    "    dir_fortran = pipe_lblnew.get_dir_case(param, setup=d['setup'])\n",
    "    \n",
    "    data_dict = {}\n",
    "    for fname, dsname in fname_dsname:\n",
    "        fpath = os.path.join(dir_fortran, d[fname])\n",
    "        data_dict[dsname] = load_output_file(fpath)\n",
    "    return data_dict\n",
    "    \n",
    "\n",
    "    \n",
    "    "
   ]
  },
  {
   "cell_type": "code",
   "execution_count": 5,
   "metadata": {
    "collapsed": true
   },
   "outputs": [],
   "source": [
    "d = load_lblnew_data(PARAM_LBLNEW)\n",
    "\n",
    "DS_FLUX_CRD = d['ds_flux_crd']\n",
    "DS_COOL_CRD = d['ds_cool_crd']\n",
    "DS_FLUX_WGT = d['ds_flux_wgt']\n",
    "DS_COOL_WGT = d['ds_cool_wgt']"
   ]
  },
  {
   "cell_type": "code",
   "execution_count": 6,
   "metadata": {
    "collapsed": true
   },
   "outputs": [],
   "source": [
    "DIR_FORTRAN = pipe_cliradlw.get_fortran_dir(PARAM, \n",
    "                                            setup=setup_cliradlw)\n",
    "\n",
    "PATH_FLUX = os.path.join(DIR_FORTRAN, 'output_flux.dat')\n",
    "PATH_COOL = os.path.join(DIR_FORTRAN, 'output_coolr.dat')\n",
    "\n",
    "DS_FLUX = load_output_file(PATH_FLUX)\n",
    "DS_COOL = load_output_file(PATH_COOL)"
   ]
  },
  {
   "cell_type": "code",
   "execution_count": 7,
   "metadata": {
    "collapsed": true
   },
   "outputs": [
    {
     "data": {
      "text/html": [
       "\n",
       "    <div class=\"bk-root\">\n",
       "        <a href=\"https://bokeh.pydata.org\" target=\"_blank\" class=\"bk-logo bk-logo-small bk-logo-notebook\"></a>\n",
       "        <span id=\"139257fd-c2d4-420f-9c66-f8c95b94090d\">Loading BokehJS ...</span>\n",
       "    </div>"
      ]
     },
     "metadata": {},
     "output_type": "display_data"
    },
    {
     "data": {
      "application/javascript": [
       "\n",
       "(function(root) {\n",
       "  function now() {\n",
       "    return new Date();\n",
       "  }\n",
       "\n",
       "  var force = true;\n",
       "\n",
       "  if (typeof (root._bokeh_onload_callbacks) === \"undefined\" || force === true) {\n",
       "    root._bokeh_onload_callbacks = [];\n",
       "    root._bokeh_is_loading = undefined;\n",
       "  }\n",
       "\n",
       "  var JS_MIME_TYPE = 'application/javascript';\n",
       "  var HTML_MIME_TYPE = 'text/html';\n",
       "  var EXEC_MIME_TYPE = 'application/vnd.bokehjs_exec.v0+json';\n",
       "  var CLASS_NAME = 'output_bokeh rendered_html';\n",
       "\n",
       "  /**\n",
       "   * Render data to the DOM node\n",
       "   */\n",
       "  function render(props, node) {\n",
       "    var script = document.createElement(\"script\");\n",
       "    node.appendChild(script);\n",
       "  }\n",
       "\n",
       "  /**\n",
       "   * Handle when an output is cleared or removed\n",
       "   */\n",
       "  function handleClearOutput(event, handle) {\n",
       "    var cell = handle.cell;\n",
       "\n",
       "    var id = cell.output_area._bokeh_element_id;\n",
       "    var server_id = cell.output_area._bokeh_server_id;\n",
       "    // Clean up Bokeh references\n",
       "    if (id !== undefined) {\n",
       "      Bokeh.index[id].model.document.clear();\n",
       "      delete Bokeh.index[id];\n",
       "    }\n",
       "\n",
       "    if (server_id !== undefined) {\n",
       "      // Clean up Bokeh references\n",
       "      var cmd = \"from bokeh.io.state import curstate; print(curstate().uuid_to_server['\" + server_id + \"'].get_sessions()[0].document.roots[0]._id)\";\n",
       "      cell.notebook.kernel.execute(cmd, {\n",
       "        iopub: {\n",
       "          output: function(msg) {\n",
       "            var element_id = msg.content.text.trim();\n",
       "            Bokeh.index[element_id].model.document.clear();\n",
       "            delete Bokeh.index[element_id];\n",
       "          }\n",
       "        }\n",
       "      });\n",
       "      // Destroy server and session\n",
       "      var cmd = \"import bokeh.io.notebook as ion; ion.destroy_server('\" + server_id + \"')\";\n",
       "      cell.notebook.kernel.execute(cmd);\n",
       "    }\n",
       "  }\n",
       "\n",
       "  /**\n",
       "   * Handle when a new output is added\n",
       "   */\n",
       "  function handleAddOutput(event, handle) {\n",
       "    var output_area = handle.output_area;\n",
       "    var output = handle.output;\n",
       "\n",
       "    // limit handleAddOutput to display_data with EXEC_MIME_TYPE content only\n",
       "    if ((output.output_type != \"display_data\") || (!output.data.hasOwnProperty(EXEC_MIME_TYPE))) {\n",
       "      return\n",
       "    }\n",
       "\n",
       "    var toinsert = output_area.element.find(\".\" + CLASS_NAME.split(' ')[0]);\n",
       "\n",
       "    if (output.metadata[EXEC_MIME_TYPE][\"id\"] !== undefined) {\n",
       "      toinsert[0].firstChild.textContent = output.data[JS_MIME_TYPE];\n",
       "      // store reference to embed id on output_area\n",
       "      output_area._bokeh_element_id = output.metadata[EXEC_MIME_TYPE][\"id\"];\n",
       "    }\n",
       "    if (output.metadata[EXEC_MIME_TYPE][\"server_id\"] !== undefined) {\n",
       "      var bk_div = document.createElement(\"div\");\n",
       "      bk_div.innerHTML = output.data[HTML_MIME_TYPE];\n",
       "      var script_attrs = bk_div.children[0].attributes;\n",
       "      for (var i = 0; i < script_attrs.length; i++) {\n",
       "        toinsert[0].firstChild.setAttribute(script_attrs[i].name, script_attrs[i].value);\n",
       "      }\n",
       "      // store reference to server id on output_area\n",
       "      output_area._bokeh_server_id = output.metadata[EXEC_MIME_TYPE][\"server_id\"];\n",
       "    }\n",
       "  }\n",
       "\n",
       "  function register_renderer(events, OutputArea) {\n",
       "\n",
       "    function append_mime(data, metadata, element) {\n",
       "      // create a DOM node to render to\n",
       "      var toinsert = this.create_output_subarea(\n",
       "        metadata,\n",
       "        CLASS_NAME,\n",
       "        EXEC_MIME_TYPE\n",
       "      );\n",
       "      this.keyboard_manager.register_events(toinsert);\n",
       "      // Render to node\n",
       "      var props = {data: data, metadata: metadata[EXEC_MIME_TYPE]};\n",
       "      render(props, toinsert[0]);\n",
       "      element.append(toinsert);\n",
       "      return toinsert\n",
       "    }\n",
       "\n",
       "    /* Handle when an output is cleared or removed */\n",
       "    events.on('clear_output.CodeCell', handleClearOutput);\n",
       "    events.on('delete.Cell', handleClearOutput);\n",
       "\n",
       "    /* Handle when a new output is added */\n",
       "    events.on('output_added.OutputArea', handleAddOutput);\n",
       "\n",
       "    /**\n",
       "     * Register the mime type and append_mime function with output_area\n",
       "     */\n",
       "    OutputArea.prototype.register_mime_type(EXEC_MIME_TYPE, append_mime, {\n",
       "      /* Is output safe? */\n",
       "      safe: true,\n",
       "      /* Index of renderer in `output_area.display_order` */\n",
       "      index: 0\n",
       "    });\n",
       "  }\n",
       "\n",
       "  // register the mime type if in Jupyter Notebook environment and previously unregistered\n",
       "  if (root.Jupyter !== undefined) {\n",
       "    var events = require('base/js/events');\n",
       "    var OutputArea = require('notebook/js/outputarea').OutputArea;\n",
       "\n",
       "    if (OutputArea.prototype.mime_types().indexOf(EXEC_MIME_TYPE) == -1) {\n",
       "      register_renderer(events, OutputArea);\n",
       "    }\n",
       "  }\n",
       "\n",
       "  \n",
       "  if (typeof (root._bokeh_timeout) === \"undefined\" || force === true) {\n",
       "    root._bokeh_timeout = Date.now() + 5000;\n",
       "    root._bokeh_failed_load = false;\n",
       "  }\n",
       "\n",
       "  var NB_LOAD_WARNING = {'data': {'text/html':\n",
       "     \"<div style='background-color: #fdd'>\\n\"+\n",
       "     \"<p>\\n\"+\n",
       "     \"BokehJS does not appear to have successfully loaded. If loading BokehJS from CDN, this \\n\"+\n",
       "     \"may be due to a slow or bad network connection. Possible fixes:\\n\"+\n",
       "     \"</p>\\n\"+\n",
       "     \"<ul>\\n\"+\n",
       "     \"<li>re-rerun `output_notebook()` to attempt to load from CDN again, or</li>\\n\"+\n",
       "     \"<li>use INLINE resources instead, as so:</li>\\n\"+\n",
       "     \"</ul>\\n\"+\n",
       "     \"<code>\\n\"+\n",
       "     \"from bokeh.resources import INLINE\\n\"+\n",
       "     \"output_notebook(resources=INLINE)\\n\"+\n",
       "     \"</code>\\n\"+\n",
       "     \"</div>\"}};\n",
       "\n",
       "  function display_loaded() {\n",
       "    var el = document.getElementById(\"139257fd-c2d4-420f-9c66-f8c95b94090d\");\n",
       "    if (el != null) {\n",
       "      el.textContent = \"BokehJS is loading...\";\n",
       "    }\n",
       "    if (root.Bokeh !== undefined) {\n",
       "      if (el != null) {\n",
       "        el.textContent = \"BokehJS \" + root.Bokeh.version + \" successfully loaded.\";\n",
       "      }\n",
       "    } else if (Date.now() < root._bokeh_timeout) {\n",
       "      setTimeout(display_loaded, 100)\n",
       "    }\n",
       "  }\n",
       "\n",
       "\n",
       "  function run_callbacks() {\n",
       "    try {\n",
       "      root._bokeh_onload_callbacks.forEach(function(callback) { callback() });\n",
       "    }\n",
       "    finally {\n",
       "      delete root._bokeh_onload_callbacks\n",
       "    }\n",
       "    console.info(\"Bokeh: all callbacks have finished\");\n",
       "  }\n",
       "\n",
       "  function load_libs(js_urls, callback) {\n",
       "    root._bokeh_onload_callbacks.push(callback);\n",
       "    if (root._bokeh_is_loading > 0) {\n",
       "      console.log(\"Bokeh: BokehJS is being loaded, scheduling callback at\", now());\n",
       "      return null;\n",
       "    }\n",
       "    if (js_urls == null || js_urls.length === 0) {\n",
       "      run_callbacks();\n",
       "      return null;\n",
       "    }\n",
       "    console.log(\"Bokeh: BokehJS not loaded, scheduling load and callback at\", now());\n",
       "    root._bokeh_is_loading = js_urls.length;\n",
       "    for (var i = 0; i < js_urls.length; i++) {\n",
       "      var url = js_urls[i];\n",
       "      var s = document.createElement('script');\n",
       "      s.src = url;\n",
       "      s.async = false;\n",
       "      s.onreadystatechange = s.onload = function() {\n",
       "        root._bokeh_is_loading--;\n",
       "        if (root._bokeh_is_loading === 0) {\n",
       "          console.log(\"Bokeh: all BokehJS libraries loaded\");\n",
       "          run_callbacks()\n",
       "        }\n",
       "      };\n",
       "      s.onerror = function() {\n",
       "        console.warn(\"failed to load library \" + url);\n",
       "      };\n",
       "      console.log(\"Bokeh: injecting script tag for BokehJS library: \", url);\n",
       "      document.getElementsByTagName(\"head\")[0].appendChild(s);\n",
       "    }\n",
       "  };var element = document.getElementById(\"139257fd-c2d4-420f-9c66-f8c95b94090d\");\n",
       "  if (element == null) {\n",
       "    console.log(\"Bokeh: ERROR: autoload.js configured with elementid '139257fd-c2d4-420f-9c66-f8c95b94090d' but no matching script tag was found. \")\n",
       "    return false;\n",
       "  }\n",
       "\n",
       "  var js_urls = [\"https://cdn.pydata.org/bokeh/release/bokeh-0.12.14.min.js\", \"https://cdn.pydata.org/bokeh/release/bokeh-widgets-0.12.14.min.js\", \"https://cdn.pydata.org/bokeh/release/bokeh-tables-0.12.14.min.js\", \"https://cdn.pydata.org/bokeh/release/bokeh-gl-0.12.14.min.js\"];\n",
       "\n",
       "  var inline_js = [\n",
       "    function(Bokeh) {\n",
       "      Bokeh.set_log_level(\"info\");\n",
       "    },\n",
       "    \n",
       "    function(Bokeh) {\n",
       "      \n",
       "    },\n",
       "    function(Bokeh) {\n",
       "      console.log(\"Bokeh: injecting CSS: https://cdn.pydata.org/bokeh/release/bokeh-0.12.14.min.css\");\n",
       "      Bokeh.embed.inject_css(\"https://cdn.pydata.org/bokeh/release/bokeh-0.12.14.min.css\");\n",
       "      console.log(\"Bokeh: injecting CSS: https://cdn.pydata.org/bokeh/release/bokeh-widgets-0.12.14.min.css\");\n",
       "      Bokeh.embed.inject_css(\"https://cdn.pydata.org/bokeh/release/bokeh-widgets-0.12.14.min.css\");\n",
       "      console.log(\"Bokeh: injecting CSS: https://cdn.pydata.org/bokeh/release/bokeh-tables-0.12.14.min.css\");\n",
       "      Bokeh.embed.inject_css(\"https://cdn.pydata.org/bokeh/release/bokeh-tables-0.12.14.min.css\");\n",
       "    }\n",
       "  ];\n",
       "\n",
       "  function run_inline_js() {\n",
       "    \n",
       "    if ((root.Bokeh !== undefined) || (force === true)) {\n",
       "      for (var i = 0; i < inline_js.length; i++) {\n",
       "        inline_js[i].call(root, root.Bokeh);\n",
       "      }if (force === true) {\n",
       "        display_loaded();\n",
       "      }} else if (Date.now() < root._bokeh_timeout) {\n",
       "      setTimeout(run_inline_js, 100);\n",
       "    } else if (!root._bokeh_failed_load) {\n",
       "      console.log(\"Bokeh: BokehJS failed to load within specified timeout.\");\n",
       "      root._bokeh_failed_load = true;\n",
       "    } else if (force !== true) {\n",
       "      var cell = $(document.getElementById(\"139257fd-c2d4-420f-9c66-f8c95b94090d\")).parents('.cell').data().cell;\n",
       "      cell.output_area.append_execute_result(NB_LOAD_WARNING)\n",
       "    }\n",
       "\n",
       "  }\n",
       "\n",
       "  if (root._bokeh_is_loading === 0) {\n",
       "    console.log(\"Bokeh: BokehJS loaded, going straight to plotting\");\n",
       "    run_inline_js();\n",
       "  } else {\n",
       "    load_libs(js_urls, function() {\n",
       "      console.log(\"Bokeh: BokehJS plotting callback run at\", now());\n",
       "      run_inline_js();\n",
       "    });\n",
       "  }\n",
       "}(window));"
      ],
      "application/vnd.bokehjs_load.v0+json": "\n(function(root) {\n  function now() {\n    return new Date();\n  }\n\n  var force = true;\n\n  if (typeof (root._bokeh_onload_callbacks) === \"undefined\" || force === true) {\n    root._bokeh_onload_callbacks = [];\n    root._bokeh_is_loading = undefined;\n  }\n\n  \n\n  \n  if (typeof (root._bokeh_timeout) === \"undefined\" || force === true) {\n    root._bokeh_timeout = Date.now() + 5000;\n    root._bokeh_failed_load = false;\n  }\n\n  var NB_LOAD_WARNING = {'data': {'text/html':\n     \"<div style='background-color: #fdd'>\\n\"+\n     \"<p>\\n\"+\n     \"BokehJS does not appear to have successfully loaded. If loading BokehJS from CDN, this \\n\"+\n     \"may be due to a slow or bad network connection. Possible fixes:\\n\"+\n     \"</p>\\n\"+\n     \"<ul>\\n\"+\n     \"<li>re-rerun `output_notebook()` to attempt to load from CDN again, or</li>\\n\"+\n     \"<li>use INLINE resources instead, as so:</li>\\n\"+\n     \"</ul>\\n\"+\n     \"<code>\\n\"+\n     \"from bokeh.resources import INLINE\\n\"+\n     \"output_notebook(resources=INLINE)\\n\"+\n     \"</code>\\n\"+\n     \"</div>\"}};\n\n  function display_loaded() {\n    var el = document.getElementById(\"139257fd-c2d4-420f-9c66-f8c95b94090d\");\n    if (el != null) {\n      el.textContent = \"BokehJS is loading...\";\n    }\n    if (root.Bokeh !== undefined) {\n      if (el != null) {\n        el.textContent = \"BokehJS \" + root.Bokeh.version + \" successfully loaded.\";\n      }\n    } else if (Date.now() < root._bokeh_timeout) {\n      setTimeout(display_loaded, 100)\n    }\n  }\n\n\n  function run_callbacks() {\n    try {\n      root._bokeh_onload_callbacks.forEach(function(callback) { callback() });\n    }\n    finally {\n      delete root._bokeh_onload_callbacks\n    }\n    console.info(\"Bokeh: all callbacks have finished\");\n  }\n\n  function load_libs(js_urls, callback) {\n    root._bokeh_onload_callbacks.push(callback);\n    if (root._bokeh_is_loading > 0) {\n      console.log(\"Bokeh: BokehJS is being loaded, scheduling callback at\", now());\n      return null;\n    }\n    if (js_urls == null || js_urls.length === 0) {\n      run_callbacks();\n      return null;\n    }\n    console.log(\"Bokeh: BokehJS not loaded, scheduling load and callback at\", now());\n    root._bokeh_is_loading = js_urls.length;\n    for (var i = 0; i < js_urls.length; i++) {\n      var url = js_urls[i];\n      var s = document.createElement('script');\n      s.src = url;\n      s.async = false;\n      s.onreadystatechange = s.onload = function() {\n        root._bokeh_is_loading--;\n        if (root._bokeh_is_loading === 0) {\n          console.log(\"Bokeh: all BokehJS libraries loaded\");\n          run_callbacks()\n        }\n      };\n      s.onerror = function() {\n        console.warn(\"failed to load library \" + url);\n      };\n      console.log(\"Bokeh: injecting script tag for BokehJS library: \", url);\n      document.getElementsByTagName(\"head\")[0].appendChild(s);\n    }\n  };var element = document.getElementById(\"139257fd-c2d4-420f-9c66-f8c95b94090d\");\n  if (element == null) {\n    console.log(\"Bokeh: ERROR: autoload.js configured with elementid '139257fd-c2d4-420f-9c66-f8c95b94090d' but no matching script tag was found. \")\n    return false;\n  }\n\n  var js_urls = [\"https://cdn.pydata.org/bokeh/release/bokeh-0.12.14.min.js\", \"https://cdn.pydata.org/bokeh/release/bokeh-widgets-0.12.14.min.js\", \"https://cdn.pydata.org/bokeh/release/bokeh-tables-0.12.14.min.js\", \"https://cdn.pydata.org/bokeh/release/bokeh-gl-0.12.14.min.js\"];\n\n  var inline_js = [\n    function(Bokeh) {\n      Bokeh.set_log_level(\"info\");\n    },\n    \n    function(Bokeh) {\n      \n    },\n    function(Bokeh) {\n      console.log(\"Bokeh: injecting CSS: https://cdn.pydata.org/bokeh/release/bokeh-0.12.14.min.css\");\n      Bokeh.embed.inject_css(\"https://cdn.pydata.org/bokeh/release/bokeh-0.12.14.min.css\");\n      console.log(\"Bokeh: injecting CSS: https://cdn.pydata.org/bokeh/release/bokeh-widgets-0.12.14.min.css\");\n      Bokeh.embed.inject_css(\"https://cdn.pydata.org/bokeh/release/bokeh-widgets-0.12.14.min.css\");\n      console.log(\"Bokeh: injecting CSS: https://cdn.pydata.org/bokeh/release/bokeh-tables-0.12.14.min.css\");\n      Bokeh.embed.inject_css(\"https://cdn.pydata.org/bokeh/release/bokeh-tables-0.12.14.min.css\");\n    }\n  ];\n\n  function run_inline_js() {\n    \n    if ((root.Bokeh !== undefined) || (force === true)) {\n      for (var i = 0; i < inline_js.length; i++) {\n        inline_js[i].call(root, root.Bokeh);\n      }if (force === true) {\n        display_loaded();\n      }} else if (Date.now() < root._bokeh_timeout) {\n      setTimeout(run_inline_js, 100);\n    } else if (!root._bokeh_failed_load) {\n      console.log(\"Bokeh: BokehJS failed to load within specified timeout.\");\n      root._bokeh_failed_load = true;\n    } else if (force !== true) {\n      var cell = $(document.getElementById(\"139257fd-c2d4-420f-9c66-f8c95b94090d\")).parents('.cell').data().cell;\n      cell.output_area.append_execute_result(NB_LOAD_WARNING)\n    }\n\n  }\n\n  if (root._bokeh_is_loading === 0) {\n    console.log(\"Bokeh: BokehJS loaded, going straight to plotting\");\n    run_inline_js();\n  } else {\n    load_libs(js_urls, function() {\n      console.log(\"Bokeh: BokehJS plotting callback run at\", now());\n      run_inline_js();\n    });\n  }\n}(window));"
     },
     "metadata": {},
     "output_type": "display_data"
    }
   ],
   "source": [
    "output_notebook()"
   ]
  },
  {
   "cell_type": "code",
   "execution_count": 8,
   "metadata": {
    "collapsed": true
   },
   "outputs": [],
   "source": [
    "def fmt_cool(ds_in):\n",
    "    ds = ds_in.copy(deep=True)\n",
    "    if 'igg' in ds.dims:\n",
    "        ds = ds.sel(igg=1)\n",
    "\n",
    "    if 'g' in ds.dims:\n",
    "        ds = ds.sum('g')\n",
    "            \n",
    "    if 'band' in ds.dims:\n",
    "        try:\n",
    "            ds = ds.squeeze('band')\n",
    "        except ValueError:\n",
    "            ds = ds.sum('band')\n",
    "                \n",
    "    return ds['coolrg']\n",
    "\n",
    "\n",
    "def pltdata_cooling_1(ds_cool=None,\n",
    "                      ds_cool_crd=None, ds_cool_wgt=None):\n",
    "    \n",
    "\n",
    "\n",
    "    colors = all_palettes['Set1'][4]\n",
    "    data = [{'label': 'CLIRAD `coolr_bands`',\n",
    "             'srs': fmt_cool(ds_cool),\n",
    "             'line_dash': 'dashed', 'line_width': 5,\n",
    "             'color': colors[0], 'alpha': .6},\n",
    "            {'label': 'CRD',\n",
    "             'srs': fmt_cool(ds_cool_crd),\n",
    "             'line_dash': 'solid', 'line_width': 1.5,\n",
    "             'marker': 'circle', 'marker_size': 5,\n",
    "             'color': colors[2], 'alpha': 1,},\n",
    "            {'label': 'WGT igg=10 wgt_flux=2',\n",
    "             'srs': fmt_cool(ds_cool_wgt),\n",
    "             'line_dash': 'solid', 'line_width': 3,\n",
    "             'marker': 'square', 'marker_size': 5,\n",
    "             'color': colors[3], 'alpha': .6}]\n",
    "    return data\n",
    "\n",
    "\n",
    "def nice_xlims(pltdata=None, prange=None):\n",
    "    \n",
    "    def get_slice(srs):\n",
    "        return srs.sel(pressure=slice(*prange))\n",
    "    \n",
    "    srss = [d['srs'] for d in pltdata]\n",
    "    vmin = min([get_slice(srs).min() for srs in srss])\n",
    "    vmax = max([get_slice(srs).max() for srs in srss])\n",
    "    dv = (vmax - vmin) * .01\n",
    "    return float(vmin - dv), float(vmax + dv)\n",
    "    \n",
    "\n",
    "def plt_cooling_bokeh(pltdata=None):\n",
    "    '''\n",
    "    Plot a list of cooling rate profiles using bokeh.\n",
    "    '''\n",
    "    ymin = 1e-2 \n",
    "    ymax = 1020 \n",
    "        \n",
    "    p1 = figure(title=\"Linear pressure scale\", \n",
    "                plot_width=400)        \n",
    "    xmin, xmax = nice_xlims(pltdata, prange=(50, 1050))\n",
    "    for d in pltdata:\n",
    "        if 'marker' in d:\n",
    "            getattr(p1, d['marker'])(d['srs'].values, \n",
    "                    d['srs'].coords['pressure'].values,\n",
    "                    color=d['color'], alpha=.7)\n",
    "        p1.line(d['srs'].values, \n",
    "                d['srs'].coords['pressure'].values,\n",
    "                color=d['color'], alpha=d['alpha'], \n",
    "                line_width=d['line_width'], line_dash=d['line_dash'])\n",
    "    \n",
    "    p1.y_range = Range1d(ymax, ymin)\n",
    "    p1.yaxis.axis_label = 'pressure [mb]'   \n",
    "    p1.x_range = Range1d(xmin, xmax)\n",
    "    p1.xaxis.axis_label = 'cooling rate [K/day]'\n",
    "            \n",
    "    p2 = figure(title='Log pressure scale', y_axis_type='log',\n",
    "                plot_width=560)\n",
    "    xmin, xmax = nice_xlims(pltdata, prange=(.01, 200))\n",
    "    \n",
    "    rs = []\n",
    "    for d in pltdata:\n",
    "        rd = []\n",
    "        if 'marker' in d:\n",
    "            r_mark = getattr(p2, d['marker'])(d['srs'].values, \n",
    "                        d['srs'].coords['pressure'].values,\n",
    "                        color=d['color'], alpha=.7)\n",
    "            rd.append(r_mark)\n",
    "        r_line = p2.line(d['srs'].values, \n",
    "                    d['srs'].coords['pressure'].values,\n",
    "                    color=d['color'], alpha=d['alpha'], \n",
    "                    line_width=d['line_width'], line_dash=d['line_dash'])\n",
    "        rd.append(r_line)\n",
    "      \n",
    "        rs.append(rd)\n",
    "        \n",
    "    p2.y_range = Range1d(ymax, ymin)  \n",
    "    p2.yaxis.axis_label = 'pressure [mb]'\n",
    "    \n",
    "    p2.x_range = Range1d(xmin, xmax)\n",
    "    p2.xaxis.axis_label = 'cooling rate [K/day]'\n",
    "    \n",
    "    items = [(d['label'], r) for r, d in zip(rs, pltdata)]\n",
    "    legend = Legend(items=items, location=(10, -30))\n",
    "    legend.label_text_font_size = '8pt'\n",
    "    \n",
    "    p2.add_layout(legend, 'right')  \n",
    "    \n",
    "    show(gridplot(p1, p2, ncols=2, plot_height=500))\n",
    "    \n",
    "\n",
    "def script_plt_cooling():\n",
    "    pltdata = pltdata_cooling_1(\n",
    "        ds_cool=DS_COOL,\n",
    "        ds_cool_crd=DS_COOL_CRD,\n",
    "        ds_cool_wgt=DS_COOL_WGT)\n",
    "    plt_cooling_bokeh(pltdata=pltdata)\n",
    "    print('''FIGURE. Cooling rate profiles.''')"
   ]
  },
  {
   "cell_type": "code",
   "execution_count": 9,
   "metadata": {
    "collapsed": true
   },
   "outputs": [],
   "source": [
    "def fmt_flux(ds_in):\n",
    "    ds = ds_in.copy(deep=True)\n",
    "    \n",
    "    for l in ('level', 'layer'):\n",
    "        if l in ds.data_vars:\n",
    "            if len(ds[l].dims) > 1:\n",
    "                surface = {d: 0 for d in ds.dims if d != 'pressure'}\n",
    "                coord_level = ds[l][surface]\n",
    "                ds.coords[l] = ('pressure', coord_level)\n",
    "            else:\n",
    "                ds.coords[l] = ('pressure', ds[l])\n",
    "        \n",
    "    ds = ds.isel(pressure=[0, 23, -1])\n",
    "        \n",
    "    if 'igg' in ds.dims:\n",
    "        ds = ds.sel(igg=[1])\n",
    "        ds = ds.squeeze('igg').drop('igg')\n",
    "    \n",
    "    if 'g' in ds.dims:\n",
    "        ds = ds.sum('g')\n",
    "            \n",
    "    if 'band' in ds.dims:\n",
    "        try:\n",
    "            ds = ds.squeeze('band').drop('band')\n",
    "        except ValueError:\n",
    "            ds = ds.sum('band')\n",
    "                \n",
    "    df = ds.to_dataframe()\n",
    "    df = df.set_index('level', append=True)               \n",
    "    return df\n",
    "\n",
    "\n",
    "def tbdata_flux(ds_flux=None, ds_flux_crd=None, ds_flux_wgt=None):\n",
    "    ilevels = [0, 23, -1]\n",
    "            \n",
    "    benchmark = {'label': 'WGT igg=10 wgt_flux=1',\n",
    "                 'df': fmt_flux(ds_flux_wgt)}\n",
    "    \n",
    "    tbs = [{'label': 'CRD',\n",
    "            'df': fmt_flux(ds_flux_crd)},\n",
    "           {'label': 'CLIRAD',\n",
    "            'df': fmt_flux(ds_flux)}]\n",
    "    \n",
    "    data = {'benchmark': benchmark, 'others': tbs}\n",
    "    return data\n",
    "\n",
    "\n",
    "def tb_flux(tbdata=None):\n",
    "    benchmark = tbdata['benchmark']\n",
    "    others = tbdata['others']\n",
    "    \n",
    "    def show_tb(d=None):\n",
    "        display.display(d['df'])\n",
    "        print('Table.', 'Fluxes.', d['label'])\n",
    "        \n",
    "    def show_tbdiff(d0=None, d=None):\n",
    "        df = d['df']\n",
    "        df.index = d0['df'].index\n",
    "        display.display(df - d0['df'])\n",
    "        print('Table.', 'Fluxes.', \n",
    "              '({}) - ({})'.format(d['label'], d0['label']))\n",
    "        \n",
    "    show_tb(benchmark)\n",
    "    for d in others:\n",
    "        show_tb(d)\n",
    "        \n",
    "    for d in others:\n",
    "        show_tbdiff(d=d, d0=benchmark)\n",
    "        \n",
    "        \n",
    "def script_tb_flux():\n",
    "    data = tbdata_flux(ds_flux=DS_FLUX,\n",
    "                       ds_flux_crd=DS_FLUX_CRD,\n",
    "                       ds_flux_wgt=DS_FLUX_WGT)\n",
    "    tb_flux(tbdata=data)"
   ]
  },
  {
   "cell_type": "code",
   "execution_count": 10,
   "metadata": {
    "collapsed": true
   },
   "outputs": [],
   "source": [
    "def band_map():\n",
    "    '''\n",
    "    Maps spectral bands in lblnew to spectral bands in clirad.\n",
    "    '''\n",
    "    lblnew2clirad = {'1': '1',\n",
    "            '2': '2',\n",
    "            '3a': '3',\n",
    "            '3b': '4',\n",
    "            '3c': '5',\n",
    "            '4': '6', \n",
    "            '5': '7',\n",
    "            '6': '8',\n",
    "            '7': '9', \n",
    "            '8': '10',\n",
    "            '9': '11'}\n",
    "    \n",
    "    clirad2lblnew = {clirad: lblnew \n",
    "                     for lblnew, clirad in lblnew2clirad.items()}\n",
    "    return clirad2lblnew\n",
    "\n",
    "\n",
    "def gasbands():\n",
    "    bmap = band_map()\n",
    "    gases = list(PARAM['molecule'].keys())\n",
    "    \n",
    "    bands = [bmap[str(b)] for b in PARAM['band']]\n",
    "    return list(itertools.product(gases, bands))\n",
    "\n",
    "\n",
    "def print_bestfit_params():\n",
    "    print('Best-fit values for each (gas, band)')\n",
    "    print('------------------------------------')\n",
    "    for gas, band in gasbands():\n",
    "        print('o {} band{}'.format(gas, band))\n",
    "        param = bestfits.kdist_params(molecule=gas, band=band)\n",
    "        for name, value in sorted(param.items()):\n",
    "            print(2 * ' ' + '{} = {}'.format(name, value))\n",
    "\n",
    "        \n",
    "def print_input_param():        \n",
    "    for name, value in PARAM.items():\n",
    "        print('{} = {}'.format(name, value))\n",
    "        \n",
    "        \n",
    "def print_lblnew_param():\n",
    "    for name, value in sorted(PARAM_LBLNEW.items()):\n",
    "        print('{} = {}'.format(name, value))\n"
   ]
  },
  {
   "cell_type": "code",
   "execution_count": 11,
   "metadata": {
    "collapsed": true,
    "scrolled": false
   },
   "outputs": [],
   "source": [
    "def show_html(s):\n",
    "    display.display(display.HTML(s))\n",
    "\n",
    "    \n",
    "def show_markdown(s):\n",
    "    display.display(display.Markdown(s))\n",
    "\n",
    "    \n",
    "def script():\n",
    "    \n",
    "    title = '### CLIRAD-LW'\n",
    "    s_input = 'Input Parameters'\n",
    "    s_lblnew_param = 'LBLNEW case compaired against'\n",
    "    s_bestfits = 'Best-fit Parameters'\n",
    "    s_plt_cooling = 'Cooling Rate Profiles'\n",
    "    s_tb_flux = 'Flux Comparison'\n",
    "    \n",
    "    # title\n",
    "    show_markdown('### CLIRAD-LW')\n",
    "    \n",
    "    # TOC\n",
    "    show_markdown('### Table of Contents')\n",
    "    show_html(climahtml.getHTML_hrefanchor(s_input))\n",
    "    show_html(climahtml.getHTML_hrefanchor(s_lblnew_param))\n",
    "    show_html(climahtml.getHTML_hrefanchor(s_plt_cooling))\n",
    "    show_html(climahtml.getHTML_hrefanchor(s_tb_flux))\n",
    "    show_html(climahtml.getHTML_hrefanchor(s_bestfits))\n",
    "    \n",
    "    # Input parameters\n",
    "    show_html(climahtml.getHTML_idanchor(s_input))\n",
    "    show_markdown(climahtml.getMarkdown_sectitle(s_input))\n",
    "    print_input_param()\n",
    "    \n",
    "    # LBLNEW parameters \n",
    "    show_html(climahtml.getHTML_idanchor(s_lblnew_param))\n",
    "    show_markdown(climahtml.getMarkdown_sectitle(s_lblnew_param))\n",
    "    print_lblnew_param()\n",
    "    \n",
    "    # Cooling rate profiles\n",
    "    show_html(climahtml.getHTML_idanchor(s_plt_cooling))\n",
    "    show_markdown(climahtml.getMarkdown_sectitle(s_plt_cooling))\n",
    "    script_plt_cooling()\n",
    "    \n",
    "    # Flux comparison\n",
    "    show_html(climahtml.getHTML_idanchor(s_tb_flux))\n",
    "    show_markdown(climahtml.getMarkdown_sectitle(s_tb_flux))\n",
    "    script_tb_flux()\n",
    "    \n",
    "    # Best-fit values\n",
    "    show_html(climahtml.getHTML_idanchor(s_bestfits))\n",
    "    show_markdown(climahtml.getMarkdown_sectitle(s_bestfits))\n",
    "    print_bestfit_params()\n",
    "   \n",
    "    "
   ]
  },
  {
   "cell_type": "code",
   "execution_count": 12,
   "metadata": {
    "collapsed": true,
    "scrolled": false
   },
   "outputs": [
    {
     "data": {
      "text/markdown": [
       "### CLIRAD-LW"
      ],
      "text/plain": [
       "<IPython.core.display.Markdown object>"
      ]
     },
     "metadata": {},
     "output_type": "display_data"
    },
    {
     "data": {
      "text/markdown": [
       "### Table of Contents"
      ],
      "text/plain": [
       "<IPython.core.display.Markdown object>"
      ]
     },
     "metadata": {},
     "output_type": "display_data"
    },
    {
     "data": {
      "text/html": [
       "<a href=\"#Input_Parameters\">Input Parameters</a>"
      ],
      "text/plain": [
       "<IPython.core.display.HTML object>"
      ]
     },
     "metadata": {},
     "output_type": "display_data"
    },
    {
     "data": {
      "text/html": [
       "<a href=\"#LBLNEW_case_compaired_against\">LBLNEW case compaired against</a>"
      ],
      "text/plain": [
       "<IPython.core.display.HTML object>"
      ]
     },
     "metadata": {},
     "output_type": "display_data"
    },
    {
     "data": {
      "text/html": [
       "<a href=\"#Cooling_Rate_Profiles\">Cooling Rate Profiles</a>"
      ],
      "text/plain": [
       "<IPython.core.display.HTML object>"
      ]
     },
     "metadata": {},
     "output_type": "display_data"
    },
    {
     "data": {
      "text/html": [
       "<a href=\"#Flux_Comparison\">Flux Comparison</a>"
      ],
      "text/plain": [
       "<IPython.core.display.HTML object>"
      ]
     },
     "metadata": {},
     "output_type": "display_data"
    },
    {
     "data": {
      "text/html": [
       "<a href=\"#Best-fit_Parameters\">Best-fit Parameters</a>"
      ],
      "text/plain": [
       "<IPython.core.display.HTML object>"
      ]
     },
     "metadata": {},
     "output_type": "display_data"
    },
    {
     "data": {
      "text/html": [
       "<a id=\"Input_Parameters\"></a>"
      ],
      "text/plain": [
       "<IPython.core.display.HTML object>"
      ]
     },
     "metadata": {},
     "output_type": "display_data"
    },
    {
     "data": {
      "text/markdown": [
       "# Input Parameters"
      ],
      "text/plain": [
       "<IPython.core.display.Markdown object>"
      ]
     },
     "metadata": {},
     "output_type": "display_data"
    },
    {
     "name": "stdout",
     "output_type": "stream",
     "text": [
      "atmpro = mls\n",
      "band = [3]\n",
      "commitnumber = 9a64c27\n",
      "molecule = {'n2o': 3.2e-07}\n",
      "tsfc = 294\n"
     ]
    },
    {
     "data": {
      "text/html": [
       "<a id=\"LBLNEW_case_compaired_against\"></a>"
      ],
      "text/plain": [
       "<IPython.core.display.HTML object>"
      ]
     },
     "metadata": {},
     "output_type": "display_data"
    },
    {
     "data": {
      "text/markdown": [
       "# LBLNEW case compaired against"
      ],
      "text/plain": [
       "<IPython.core.display.Markdown object>"
      ]
     },
     "metadata": {},
     "output_type": "display_data"
    },
    {
     "name": "stdout",
     "output_type": "stream",
     "text": [
      "atmpro = mls\n",
      "band = 3a\n",
      "commitnumber = 2bd1f75\n",
      "conc = 3.2e-07\n",
      "dv = 0.01\n",
      "klin = 2.22e-20\n",
      "molecule = n2o\n",
      "ng_adju = [0, 0]\n",
      "ng_refs = [1, 2]\n",
      "nv = 100\n",
      "option_compute_btable = 0\n",
      "option_compute_ktable = 0\n",
      "option_wgt_flux = 1\n",
      "option_wgt_k = 1\n",
      "ref_pts = [(1, 250), (500, 250)]\n",
      "tsfc = 294\n",
      "vmax = 620\n",
      "vmin = 540\n",
      "w_diffuse = [(1.8,), (1.66, 1.8)]\n",
      "wgt = [(0.9,), (0.5, 0.95)]\n"
     ]
    },
    {
     "data": {
      "text/html": [
       "<a id=\"Cooling_Rate_Profiles\"></a>"
      ],
      "text/plain": [
       "<IPython.core.display.HTML object>"
      ]
     },
     "metadata": {},
     "output_type": "display_data"
    },
    {
     "data": {
      "text/markdown": [
       "# Cooling Rate Profiles"
      ],
      "text/plain": [
       "<IPython.core.display.Markdown object>"
      ]
     },
     "metadata": {},
     "output_type": "display_data"
    },
    {
     "data": {
      "text/html": [
       "\n",
       "<div class=\"bk-root\">\n",
       "    <div class=\"bk-plotdiv\" id=\"089690e9-60c0-44ac-bccf-4bb9e9c82885\"></div>\n",
       "</div>"
      ]
     },
     "metadata": {},
     "output_type": "display_data"
    },
    {
     "data": {
      "application/javascript": [
       "(function(root) {\n",
       "  function embed_document(root) {\n",
       "    \n",
       "  var docs_json = {\"ef701d24-e399-4b9a-b6e3-9a56a912cf47\":{\"roots\":{\"references\":[{\"attributes\":{\"data_source\":{\"id\":\"2ec73b28-eb87-43b2-9e61-ac6b8e1510f2\",\"type\":\"ColumnDataSource\"},\"glyph\":{\"id\":\"ee1924ac-2b05-42d4-9ef4-cc64f5821149\",\"type\":\"Square\"},\"hover_glyph\":null,\"muted_glyph\":null,\"nonselection_glyph\":{\"id\":\"29ce81c3-2c4a-4f75-a90f-63ef6ed9e694\",\"type\":\"Square\"},\"selection_glyph\":null,\"view\":{\"id\":\"287865c8-b02c-48bd-a989-45fe176d4ffe\",\"type\":\"CDSView\"}},\"id\":\"6b47b6f5-dbf3-49c0-a2de-19139af1d0c6\",\"type\":\"GlyphRenderer\"},{\"attributes\":{},\"id\":\"62634136-34fe-427f-afc6-50decb4d8619\",\"type\":\"BasicTicker\"},{\"attributes\":{\"callback\":null,\"column_names\":[\"x\",\"y\"],\"data\":{\"x\":{\"__ndarray__\":\"2pTvvzyJcT8oGE6x1S1yP5jZUmIgjXM/5P/ZHs4DdT+a+ZmZtH12P2N0Ydd8+nc/NM0QkRN6eT+MWHa1jPx6P2dEFObugXw/1mmS7g0Jfj99kVT8SpR/P8si85AxkYA/0oPYO4RZgT8XlCrjMTKCP2ii4gvewIQ/5vAdrDXCiz9rYxifUi6TP3AgLbTBEJk/mEkUPXJ2nz+EhKw4yBqjP2qPoiMXxKY/8GxLwXOfqj8+muWxlsetP7ys5Sx10q0/ZRXj0L7zqj8XcQNwN2anP630zGak0qM/ilyhZLpkoD+mp+zg4XqaPyE9llUQt5Q/ROBlMKOGjj/SX0+z7VWEP5oMODpqiHc/oGlHAfUEZD/kRbWvFO5Cv47XiB+wdWu/ZNEbvuqgdb9UzrV1mZ16vxXETibmSH+/JIqQTNwpgb9dVQH1qRWAv5QqF0sNRHm/MKktt6ypcb/IwagU5aRkv2IVqy3Y/Em/WmOXmcl6Sz9xfS5AtxlkPwUvKskMf3A/3Gfp2gfCdj9gt8hawaR8P2NF0Cy8PYE/6Btig4wLhD+m37yRv6qGP5drebiwNIk/CSN14b6xiz/C/2o3nhKOP5ohYj6xMpA/FAFXhVBdkT8J/7cV6HqSP9L/vrufl5M/rtaWrNS0lD9TrFDkzcGVP2izQ+Pd1pY/iI9/kyPllz+oYC7Uo+qYPyk8Y70j85k/SbwTZxnmmj9C/+kvQM6bPwDHS6xNmZw/3YuinRBHnT9JBR3GB+qdPymBaeqXdZ4/hGra748Knz/0hrv2JZSfP2nDfwhaEqA/\",\"dtype\":\"float64\",\"shape\":[75]},\"y\":{\"__ndarray__\":\"GhExyth1ND/Sv8nbtpRIP2vylNV0PVE/aTum7souWD/At0SJ8fVgPw3Iuahxymc/MSNhhJWvcD/bTfBN02d3P2zb5nxnaoA/CD5h5MAGhz8NmeH1TyaQP+zrCsc9p5Y/LbKd76fGnz/bLW5ISEmmPww9YvTcQq8/JV2OstnstT8Er5Y7M8G+P0c+r3jqkcU/5h99k6ZBzj88bCIzFzjVP4enV8oyxN0//yH99nXg5D8qOpLLf0jtP5kqGJXUifQ/c9cS8kHP/D+/DpwzojQEQIEmwoanVwxA4lgXt9HgE0BSSZ2AJuIbQAMJih9jjiNA5q4l5INuK0AwTKYKRj0zQNv5fmq8/DpAaCJseHrtQkB/+zpwzoxKQM3MzMzMeFJAZmZmZmZqWEAAAAAAAFxeQM3MzMzMJmJAmpmZmZkfZUBmZmZmZhhoQDMzMzMzEWtAAAAAAAAKbkBmZmZmZoFwQM3MzMzM/XFAMzMzMzN6c0CamZmZmfZ0QAAAAAAAc3ZAZmZmZmbvd0DNzMzMzGt5QDMzMzMz6HpAmpmZmZlkfEAAAAAAAOF9QGZmZmZmXX9AZmZmZuZsgECamZmZGSuBQM3MzMxM6YFAAAAAAICngkAzMzMzs2WDQGZmZmbmI4RAmpmZmRnihEDNzMzMTKCFQAAAAACAXoZAMzMzM7Mch0BmZmZm5tqHQJqZmZkZmYhAzczMzExXiUAAAAAAgBWKQDMzMzOz04pAZmZmZuaRi0CamZmZGVCMQM3MzMxMDo1AAAAAAIDMjUAzMzMzs4qOQGZmZmbmSI9A\",\"dtype\":\"float64\",\"shape\":[75]}}},\"id\":\"2ec73b28-eb87-43b2-9e61-ac6b8e1510f2\",\"type\":\"ColumnDataSource\"},{\"attributes\":{},\"id\":\"d4459dfd-e80f-4774-b22a-f2d7d31c7de3\",\"type\":\"BasicTickFormatter\"},{\"attributes\":{\"line_alpha\":0.1,\"line_color\":\"#1f77b4\",\"line_dash\":[6],\"line_width\":5,\"x\":{\"field\":\"x\"},\"y\":{\"field\":\"y\"}},\"id\":\"62739b2f-70b9-4a6d-b0be-e961d6b08d74\",\"type\":\"Line\"},{\"attributes\":{\"children\":[{\"id\":\"ca48acbb-b2ba-4c77-94bc-e0ab39a041d4\",\"type\":\"Row\"}]},\"id\":\"fdb8d1d9-f6a6-4700-afc5-1c35bafae301\",\"type\":\"Column\"},{\"attributes\":{\"source\":{\"id\":\"36a3178e-ae9c-491f-89fd-62dbca723abc\",\"type\":\"ColumnDataSource\"}},\"id\":\"004808f8-6f26-438f-9837-edb66807ab69\",\"type\":\"CDSView\"},{\"attributes\":{},\"id\":\"78f1d491-3247-4db5-adda-5b147986589d\",\"type\":\"BasicTickFormatter\"},{\"attributes\":{\"callback\":null,\"column_names\":[\"x\",\"y\"],\"data\":{\"x\":{\"__ndarray__\":\"FTJrvqHuKr8m+cy7FnEBv8Cl9NEtTjY/v0sTpZ9OSD/GzodrncZSPyAq7VMleFk/DxfjucMRYD/RCtuxgm9jPzb97Jf1wWY/JbxaOTYlaj+iKq76eHltPxKSTiKXP3A/Qxb9szPEcT9xtoKsAzVzP7FO4Fg6WHg/k1D301ihgz/UA1Z2ECePP81n/1er45U/UwzZPrmtnD/TmO1jNfihP2ZTDmNb0aU/QYEPD3XgqT960cYtwCCtP+PKRtjR56w/mBZdLWOCqT8oe0aApYOlP/RlCTW6uKE/q3OfKzC1nD/l5G6lERKXPzt0TKaiYpI/GOiTQkRdjD+XTvhgqn2EPwjmUfoVtXs/wditK4eScD/jSCkhxhZTP4275YyfRF+/NvyHoCVpcb9r2o/Uvtl3v5x5/4lUC36/I7g11K04gb+CfYnz1lKAv5bNTMtwhXm/2HZWK4zWcb/kcX6uqThlv3l6WtmvKk6/fa+TAlAXRj+NQ/5TkRViP1MzhqJJNW4/mv5ARxj3dD9FDTPn6p16P4F0mMwEBYA/au4vnmSbgj/fW/t8QBKFP2gDNDq1bYc/7Q7Yvki0iT9zmcg8WuuLPz8AFurKFo4/afdQR2wckD+beaKGlymRPySeF+eiM5I/TF9bgRk6kz8MjR0QxT2UP5bNxpGhP5U/8qM9BZA/lj9djRfLJz2XP0/eYqY2Npg/mhBcrV8lmT89dow1oAGaPxO0oxrxwpo/caAir1Bpmz9AigeCav2bP/6VSZhfiZw/UMBQab8TnT/qoUtyn6CdP3GeK/YJM54/\",\"dtype\":\"float64\",\"shape\":[75]},\"y\":{\"__ndarray__\":\"GhExyth1ND/Sv8nbtpRIP2vylNV0PVE/aTum7souWD/At0SJ8fVgPw3Iuahxymc/MSNhhJWvcD/bTfBN02d3P2zb5nxnaoA/CD5h5MAGhz8NmeH1TyaQP+zrCsc9p5Y/LbKd76fGnz/bLW5ISEmmPww9YvTcQq8/JV2OstnstT8Er5Y7M8G+P0c+r3jqkcU/5h99k6ZBzj88bCIzFzjVP4enV8oyxN0//yH99nXg5D8qOpLLf0jtP5kqGJXUifQ/c9cS8kHP/D+/DpwzojQEQIEmwoanVwxA4lgXt9HgE0BSSZ2AJuIbQAMJih9jjiNA5q4l5INuK0AwTKYKRj0zQNv5fmq8/DpAaCJseHrtQkB/+zpwzoxKQM3MzMzMeFJAZmZmZmZqWEAAAAAAAFxeQM3MzMzMJmJAmpmZmZkfZUBmZmZmZhhoQDMzMzMzEWtAAAAAAAAKbkBmZmZmZoFwQM3MzMzM/XFAMzMzMzN6c0CamZmZmfZ0QAAAAAAAc3ZAZmZmZmbvd0DNzMzMzGt5QDMzMzMz6HpAmpmZmZlkfEAAAAAAAOF9QGZmZmZmXX9AZmZmZuZsgECamZmZGSuBQM3MzMxM6YFAAAAAAICngkAzMzMzs2WDQGZmZmbmI4RAmpmZmRnihEDNzMzMTKCFQAAAAACAXoZAMzMzM7Mch0BmZmZm5tqHQJqZmZkZmYhAzczMzExXiUAAAAAAgBWKQDMzMzOz04pAZmZmZuaRi0CamZmZGVCMQM3MzMxMDo1AAAAAAIDMjUAzMzMzs4qOQGZmZmbmSI9A\",\"dtype\":\"float64\",\"shape\":[75]}}},\"id\":\"afbc4e10-43be-4193-b257-fb8ab9bf428b\",\"type\":\"ColumnDataSource\"},{\"attributes\":{\"line_alpha\":0.1,\"line_color\":\"#1f77b4\",\"line_width\":1.5,\"x\":{\"field\":\"x\"},\"y\":{\"field\":\"y\"}},\"id\":\"8a1667d9-c84e-4d50-ba7e-5c8bfd833669\",\"type\":\"Line\"},{\"attributes\":{\"callback\":null,\"column_names\":[\"x\",\"y\"],\"data\":{\"x\":{\"__ndarray__\":\"FTJrvqHuKr8m+cy7FnEBv8Cl9NEtTjY/v0sTpZ9OSD/GzodrncZSPyAq7VMleFk/DxfjucMRYD/RCtuxgm9jPzb97Jf1wWY/JbxaOTYlaj+iKq76eHltPxKSTiKXP3A/Qxb9szPEcT9xtoKsAzVzP7FO4Fg6WHg/k1D301ihgz/UA1Z2ECePP81n/1er45U/UwzZPrmtnD/TmO1jNfihP2ZTDmNb0aU/QYEPD3XgqT960cYtwCCtP+PKRtjR56w/mBZdLWOCqT8oe0aApYOlP/RlCTW6uKE/q3OfKzC1nD/l5G6lERKXPzt0TKaiYpI/GOiTQkRdjD+XTvhgqn2EPwjmUfoVtXs/wditK4eScD/jSCkhxhZTP4275YyfRF+/NvyHoCVpcb9r2o/Uvtl3v5x5/4lUC36/I7g11K04gb+CfYnz1lKAv5bNTMtwhXm/2HZWK4zWcb/kcX6uqThlv3l6WtmvKk6/fa+TAlAXRj+NQ/5TkRViP1MzhqJJNW4/mv5ARxj3dD9FDTPn6p16P4F0mMwEBYA/au4vnmSbgj/fW/t8QBKFP2gDNDq1bYc/7Q7Yvki0iT9zmcg8WuuLPz8AFurKFo4/afdQR2wckD+beaKGlymRPySeF+eiM5I/TF9bgRk6kz8MjR0QxT2UP5bNxpGhP5U/8qM9BZA/lj9djRfLJz2XP0/eYqY2Npg/mhBcrV8lmT89dow1oAGaPxO0oxrxwpo/caAir1Bpmz9AigeCav2bP/6VSZhfiZw/UMBQab8TnT/qoUtyn6CdP3GeK/YJM54/\",\"dtype\":\"float64\",\"shape\":[75]},\"y\":{\"__ndarray__\":\"GhExyth1ND/Sv8nbtpRIP2vylNV0PVE/aTum7souWD/At0SJ8fVgPw3Iuahxymc/MSNhhJWvcD/bTfBN02d3P2zb5nxnaoA/CD5h5MAGhz8NmeH1TyaQP+zrCsc9p5Y/LbKd76fGnz/bLW5ISEmmPww9YvTcQq8/JV2OstnstT8Er5Y7M8G+P0c+r3jqkcU/5h99k6ZBzj88bCIzFzjVP4enV8oyxN0//yH99nXg5D8qOpLLf0jtP5kqGJXUifQ/c9cS8kHP/D+/DpwzojQEQIEmwoanVwxA4lgXt9HgE0BSSZ2AJuIbQAMJih9jjiNA5q4l5INuK0AwTKYKRj0zQNv5fmq8/DpAaCJseHrtQkB/+zpwzoxKQM3MzMzMeFJAZmZmZmZqWEAAAAAAAFxeQM3MzMzMJmJAmpmZmZkfZUBmZmZmZhhoQDMzMzMzEWtAAAAAAAAKbkBmZmZmZoFwQM3MzMzM/XFAMzMzMzN6c0CamZmZmfZ0QAAAAAAAc3ZAZmZmZmbvd0DNzMzMzGt5QDMzMzMz6HpAmpmZmZlkfEAAAAAAAOF9QGZmZmZmXX9AZmZmZuZsgECamZmZGSuBQM3MzMxM6YFAAAAAAICngkAzMzMzs2WDQGZmZmbmI4RAmpmZmRnihEDNzMzMTKCFQAAAAACAXoZAMzMzM7Mch0BmZmZm5tqHQJqZmZkZmYhAzczMzExXiUAAAAAAgBWKQDMzMzOz04pAZmZmZuaRi0CamZmZGVCMQM3MzMxMDo1AAAAAAIDMjUAzMzMzs4qOQGZmZmbmSI9A\",\"dtype\":\"float64\",\"shape\":[75]}}},\"id\":\"5b5a9532-83ab-45d2-a8c1-4ff45dc85398\",\"type\":\"ColumnDataSource\"},{\"attributes\":{\"data_source\":{\"id\":\"afbc4e10-43be-4193-b257-fb8ab9bf428b\",\"type\":\"ColumnDataSource\"},\"glyph\":{\"id\":\"bbe2b7ac-c7ff-4584-8e48-29f110da9dbc\",\"type\":\"Circle\"},\"hover_glyph\":null,\"muted_glyph\":null,\"nonselection_glyph\":{\"id\":\"4178a1f6-ac67-49bd-aea8-89c1136fb8b6\",\"type\":\"Circle\"},\"selection_glyph\":null,\"view\":{\"id\":\"92293136-41c3-47f1-863c-c9594804e14a\",\"type\":\"CDSView\"}},\"id\":\"8db76764-64a6-4947-b1b0-bf48653baeda\",\"type\":\"GlyphRenderer\"},{\"attributes\":{},\"id\":\"6c07b7ec-5b90-45dd-9d59-802d6c375000\",\"type\":\"BasicTickFormatter\"},{\"attributes\":{\"fill_alpha\":{\"value\":0.7},\"fill_color\":{\"value\":\"#4daf4a\"},\"line_alpha\":{\"value\":0.7},\"line_color\":{\"value\":\"#4daf4a\"},\"x\":{\"field\":\"x\"},\"y\":{\"field\":\"y\"}},\"id\":\"bbe2b7ac-c7ff-4584-8e48-29f110da9dbc\",\"type\":\"Circle\"},{\"attributes\":{\"items\":[{\"id\":\"9b8238b4-fafa-462f-8932-5cc78748880a\",\"type\":\"LegendItem\"},{\"id\":\"106b3dcd-c6a9-400b-9730-55b51762bbb0\",\"type\":\"LegendItem\"},{\"id\":\"c5f638ee-743c-49d5-9941-da804328fb98\",\"type\":\"LegendItem\"}],\"label_text_font_size\":{\"value\":\"8pt\"},\"location\":[10,-30],\"plot\":{\"id\":\"59e74733-6df1-4bbb-93c3-fe69e6e7e20d\",\"subtype\":\"Figure\",\"type\":\"Plot\"}},\"id\":\"4e8d5ac5-5d27-4d41-9e1c-ca735f217be6\",\"type\":\"Legend\"},{\"attributes\":{\"num_minor_ticks\":10},\"id\":\"758e81a0-fe8f-4d06-b2d3-4547304e9361\",\"type\":\"LogTicker\"},{\"attributes\":{\"dimension\":1,\"plot\":{\"id\":\"bcca64b1-d19f-40a5-b1ad-646efd367291\",\"subtype\":\"Figure\",\"type\":\"Plot\"},\"ticker\":{\"id\":\"11cd3e58-5203-4c9e-b392-377d3e12dc80\",\"type\":\"BasicTicker\"}},\"id\":\"f97f0d5f-76d7-4fca-93b6-247181cb8e20\",\"type\":\"Grid\"},{\"attributes\":{\"callback\":null,\"column_names\":[\"x\",\"y\"],\"data\":{\"x\":{\"__ndarray__\":\"mvZSEoDhcz9cYjghLB90PwxCA+2q2XU/o3Jh1uM0dz/vblio64h4P3NAjLwe33k/CDzNVTU5ez/cp4XAAZV8P7v6qv1a9X0/Cp60A71Wfz+Y95T6O12AP5JYUxNkD4E/6RCoHQbDgT+xBujxjX6CP+KNUFwjvIQ/uDJkGTsRiz+u/U6n/VWSPzjTJHv7qJc/FHSXnpJunT+yyUK93tKhP00bBtq6J6U/RUibsuysqD83M+umQ5CrPxGc84YNrKs/U5Aof7orqT+pePG4hwimPz+py2kc2KI/jxKxRESKnz8eAfAQRc+ZP+ZubWezeJQ/Eak0JQOHjj+UQNaVx4GEP3oJKreop3c/JMENFcCkYj8Uh1Li5UlOv1N5gXLQJ2+/V8SEZzaOd7/wxdqJ2WV8vwcCtFPST4C/zv1vSpSUgb/LgkXZbWSAvwefyWrxI3q/miaewnnQcr8xNkYNk1lnv4NAmQzoAVO/U6a52qicPz+K0iC0vgJhPyMCBjACtm0/XWSWT6MIdT8AM08WDQV7PwBxDpBMZIA/u7xOZbcogz8CVDaBKdCFPzbQB8FmXYg/0mvwFCvQij9O1H7dfDKNP8O6iQtUh48/LACs32PokD/Ofu4VJwiSP9g1Bg9mIpM/oFq82Zg3lD/rP39i40iVP2iA3Xl6VpY/cWkENHRglz/bVJsHyWWYP1tPAAflZJk/MdlwP31Xmj+uWsJvfTebP85lBefV/ps/e4OhoY6tnD/o5VdDR0qdP8o1vlyv3J0/00wGZtZpnj8FAFVJVfSeP51gLa5ZfZ8/\",\"dtype\":\"float64\",\"shape\":[75]},\"y\":{\"__ndarray__\":\"S/O/Q+51ND/Sv8nbtpRIP2vylNV0PVE/aTum7souWD/At0SJ8fVgPw3Iuahxymc/MSNhhJWvcD/bTfBN02d3P2zb5nxnaoA/CD5h5MAGhz8NmeH1TyaQP+zrCsc9p5Y/LbKd76fGnz/bLW5ISEmmPww9YvTcQq8/JV2OstnstT8Er5Y7M8G+P0c+r3jqkcU/5h99k6ZBzj88bCIzFzjVP4enV8oyxN0//yH99nXg5D8qOpLLf0jtP5kqGJXUifQ/c9cS8kHP/D+/DpwzojQEQIEmwoanVwxA4lgXt9HgE0BSSZ2AJuIbQAMJih9jjiNA5q4l5INuK0AwTKYKRj0zQNv5fmq8/DpAaCJseHrtQkB/+zpwzoxKQM3MzMzMeFJAZmZmZmZqWEAAAAAAAFxeQM3MzMzMJmJAmpmZmZkfZUBmZmZmZhhoQDMzMzMzEWtAAAAAAAAKbkBmZmZmZoFwQM3MzMzM/XFAMzMzMzN6c0CamZmZmfZ0QAAAAAAAc3ZAZmZmZmbvd0DNzMzMzGt5QDMzMzMz6HpAmpmZmZlkfEAAAAAAAOF9QGZmZmZmXX9AZmZmZuZsgECamZmZGSuBQM3MzMxM6YFAAAAAAICngkAzMzMzs2WDQGZmZmbmI4RAmpmZmRnihEDNzMzMTKCFQAAAAACAXoZAMzMzM7Mch0BmZmZm5tqHQJqZmZkZmYhAzczMzExXiUAAAAAAgBWKQDMzMzOz04pAZmZmZuaRi0CamZmZGVCMQM3MzMxMDo1AAAAAAIDMjUAzMzMzs4qOQGZmZmbmSI9A\",\"dtype\":\"float64\",\"shape\":[75]}}},\"id\":\"4fb17a7b-0ccd-4330-b4bb-2b2e143a71d0\",\"type\":\"ColumnDataSource\"},{\"attributes\":{\"ticker\":null},\"id\":\"5b60f8f7-3e02-48a7-aeb5-6bd6c1fd58fd\",\"type\":\"LogTickFormatter\"},{\"attributes\":{},\"id\":\"11cd3e58-5203-4c9e-b392-377d3e12dc80\",\"type\":\"BasicTicker\"},{\"attributes\":{},\"id\":\"ff303b04-5e7e-4338-9da8-e8cfbe55f44a\",\"type\":\"LinearScale\"},{\"attributes\":{},\"id\":\"a620f708-e28f-412b-83d0-4f6b05c548b5\",\"type\":\"ResetTool\"},{\"attributes\":{\"source\":{\"id\":\"3786c1d0-7218-4e47-9d8a-2b67c71f335a\",\"type\":\"ColumnDataSource\"}},\"id\":\"9f097161-fa0d-4091-97d4-218da6bed889\",\"type\":\"CDSView\"},{\"attributes\":{\"fill_alpha\":{\"value\":0.1},\"fill_color\":{\"value\":\"#1f77b4\"},\"line_alpha\":{\"value\":0.1},\"line_color\":{\"value\":\"#1f77b4\"},\"x\":{\"field\":\"x\"},\"y\":{\"field\":\"y\"}},\"id\":\"4178a1f6-ac67-49bd-aea8-89c1136fb8b6\",\"type\":\"Circle\"},{\"attributes\":{},\"id\":\"a6752cfd-a707-46b6-82a7-45edf4ade0d9\",\"type\":\"LinearScale\"},{\"attributes\":{},\"id\":\"3b30017b-77b6-4719-ad14-6bf55d554e49\",\"type\":\"LogScale\"},{\"attributes\":{\"fill_alpha\":{\"value\":0.1},\"fill_color\":{\"value\":\"#1f77b4\"},\"line_alpha\":{\"value\":0.1},\"line_color\":{\"value\":\"#1f77b4\"},\"x\":{\"field\":\"x\"},\"y\":{\"field\":\"y\"}},\"id\":\"29ce81c3-2c4a-4f75-a90f-63ef6ed9e694\",\"type\":\"Square\"},{\"attributes\":{\"axis_label\":\"pressure [mb]\",\"formatter\":{\"id\":\"6c07b7ec-5b90-45dd-9d59-802d6c375000\",\"type\":\"BasicTickFormatter\"},\"plot\":{\"id\":\"bcca64b1-d19f-40a5-b1ad-646efd367291\",\"subtype\":\"Figure\",\"type\":\"Plot\"},\"ticker\":{\"id\":\"11cd3e58-5203-4c9e-b392-377d3e12dc80\",\"type\":\"BasicTicker\"}},\"id\":\"fa2d2a0e-e59b-4eeb-88b6-a9bd736d64ce\",\"type\":\"LinearAxis\"},{\"attributes\":{\"source\":{\"id\":\"afbc4e10-43be-4193-b257-fb8ab9bf428b\",\"type\":\"ColumnDataSource\"}},\"id\":\"92293136-41c3-47f1-863c-c9594804e14a\",\"type\":\"CDSView\"},{\"attributes\":{\"line_color\":\"#4daf4a\",\"line_width\":1.5,\"x\":{\"field\":\"x\"},\"y\":{\"field\":\"y\"}},\"id\":\"29ad1759-e3c8-4714-8985-65d94a1fdf38\",\"type\":\"Line\"},{\"attributes\":{},\"id\":\"a2a4345c-ec23-4e4a-a666-2f8703fb1681\",\"type\":\"PanTool\"},{\"attributes\":{\"callback\":null,\"column_names\":[\"x\",\"y\"],\"data\":{\"x\":{\"__ndarray__\":\"2pTvvzyJcT8oGE6x1S1yP5jZUmIgjXM/5P/ZHs4DdT+a+ZmZtH12P2N0Ydd8+nc/NM0QkRN6eT+MWHa1jPx6P2dEFObugXw/1mmS7g0Jfj99kVT8SpR/P8si85AxkYA/0oPYO4RZgT8XlCrjMTKCP2ii4gvewIQ/5vAdrDXCiz9rYxifUi6TP3AgLbTBEJk/mEkUPXJ2nz+EhKw4yBqjP2qPoiMXxKY/8GxLwXOfqj8+muWxlsetP7ys5Sx10q0/ZRXj0L7zqj8XcQNwN2anP630zGak0qM/ilyhZLpkoD+mp+zg4XqaPyE9llUQt5Q/ROBlMKOGjj/SX0+z7VWEP5oMODpqiHc/oGlHAfUEZD/kRbWvFO5Cv47XiB+wdWu/ZNEbvuqgdb9UzrV1mZ16vxXETibmSH+/JIqQTNwpgb9dVQH1qRWAv5QqF0sNRHm/MKktt6ypcb/IwagU5aRkv2IVqy3Y/Em/WmOXmcl6Sz9xfS5AtxlkPwUvKskMf3A/3Gfp2gfCdj9gt8hawaR8P2NF0Cy8PYE/6Btig4wLhD+m37yRv6qGP5drebiwNIk/CSN14b6xiz/C/2o3nhKOP5ohYj6xMpA/FAFXhVBdkT8J/7cV6HqSP9L/vrufl5M/rtaWrNS0lD9TrFDkzcGVP2izQ+Pd1pY/iI9/kyPllz+oYC7Uo+qYPyk8Y70j85k/SbwTZxnmmj9C/+kvQM6bPwDHS6xNmZw/3YuinRBHnT9JBR3GB+qdPymBaeqXdZ4/hGra748Knz/0hrv2JZSfP2nDfwhaEqA/\",\"dtype\":\"float64\",\"shape\":[75]},\"y\":{\"__ndarray__\":\"GhExyth1ND/Sv8nbtpRIP2vylNV0PVE/aTum7souWD/At0SJ8fVgPw3Iuahxymc/MSNhhJWvcD/bTfBN02d3P2zb5nxnaoA/CD5h5MAGhz8NmeH1TyaQP+zrCsc9p5Y/LbKd76fGnz/bLW5ISEmmPww9YvTcQq8/JV2OstnstT8Er5Y7M8G+P0c+r3jqkcU/5h99k6ZBzj88bCIzFzjVP4enV8oyxN0//yH99nXg5D8qOpLLf0jtP5kqGJXUifQ/c9cS8kHP/D+/DpwzojQEQIEmwoanVwxA4lgXt9HgE0BSSZ2AJuIbQAMJih9jjiNA5q4l5INuK0AwTKYKRj0zQNv5fmq8/DpAaCJseHrtQkB/+zpwzoxKQM3MzMzMeFJAZmZmZmZqWEAAAAAAAFxeQM3MzMzMJmJAmpmZmZkfZUBmZmZmZhhoQDMzMzMzEWtAAAAAAAAKbkBmZmZmZoFwQM3MzMzM/XFAMzMzMzN6c0CamZmZmfZ0QAAAAAAAc3ZAZmZmZmbvd0DNzMzMzGt5QDMzMzMz6HpAmpmZmZlkfEAAAAAAAOF9QGZmZmZmXX9AZmZmZuZsgECamZmZGSuBQM3MzMxM6YFAAAAAAICngkAzMzMzs2WDQGZmZmbmI4RAmpmZmRnihEDNzMzMTKCFQAAAAACAXoZAMzMzM7Mch0BmZmZm5tqHQJqZmZkZmYhAzczMzExXiUAAAAAAgBWKQDMzMzOz04pAZmZmZuaRi0CamZmZGVCMQM3MzMxMDo1AAAAAAIDMjUAzMzMzs4qOQGZmZmbmSI9A\",\"dtype\":\"float64\",\"shape\":[75]}}},\"id\":\"1fdbe5b3-7bc5-400e-b979-fa947ee86262\",\"type\":\"ColumnDataSource\"},{\"attributes\":{\"data_source\":{\"id\":\"36a3178e-ae9c-491f-89fd-62dbca723abc\",\"type\":\"ColumnDataSource\"},\"glyph\":{\"id\":\"96dd47c0-3c7c-41e9-84ed-1e3880313bc1\",\"type\":\"Circle\"},\"hover_glyph\":null,\"muted_glyph\":null,\"nonselection_glyph\":{\"id\":\"db308f27-004a-40a5-9a50-aef4785c0d01\",\"type\":\"Circle\"},\"selection_glyph\":null,\"view\":{\"id\":\"004808f8-6f26-438f-9837-edb66807ab69\",\"type\":\"CDSView\"}},\"id\":\"0fe33ea7-783f-47a9-8459-6f45b2a793f8\",\"type\":\"GlyphRenderer\"},{\"attributes\":{\"data_source\":{\"id\":\"5b5a9532-83ab-45d2-a8c1-4ff45dc85398\",\"type\":\"ColumnDataSource\"},\"glyph\":{\"id\":\"29ad1759-e3c8-4714-8985-65d94a1fdf38\",\"type\":\"Line\"},\"hover_glyph\":null,\"muted_glyph\":null,\"nonselection_glyph\":{\"id\":\"b7e7ecaa-66e4-4106-8881-1e5b98f0347d\",\"type\":\"Line\"},\"selection_glyph\":null,\"view\":{\"id\":\"715ff8f4-61d1-4bd2-a292-7f8bf832ca2b\",\"type\":\"CDSView\"}},\"id\":\"4b501fc7-4afc-4ee5-893f-6385b4995ba3\",\"type\":\"GlyphRenderer\"},{\"attributes\":{},\"id\":\"946d5a69-bd28-474c-b46f-e12c616a650e\",\"type\":\"WheelZoomTool\"},{\"attributes\":{\"plot\":{\"id\":\"59e74733-6df1-4bbb-93c3-fe69e6e7e20d\",\"subtype\":\"Figure\",\"type\":\"Plot\"},\"ticker\":{\"id\":\"9389fb13-bb9f-4599-a10b-c934381fc048\",\"type\":\"BasicTicker\"}},\"id\":\"98f08eec-a82b-42c0-825a-8fcf223345d3\",\"type\":\"Grid\"},{\"attributes\":{\"line_alpha\":0.1,\"line_color\":\"#1f77b4\",\"line_width\":1.5,\"x\":{\"field\":\"x\"},\"y\":{\"field\":\"y\"}},\"id\":\"b7e7ecaa-66e4-4106-8881-1e5b98f0347d\",\"type\":\"Line\"},{\"attributes\":{},\"id\":\"4bf87194-c45f-42fb-bc83-f17003f6bf96\",\"type\":\"HelpTool\"},{\"attributes\":{\"source\":{\"id\":\"5b5a9532-83ab-45d2-a8c1-4ff45dc85398\",\"type\":\"ColumnDataSource\"}},\"id\":\"715ff8f4-61d1-4bd2-a292-7f8bf832ca2b\",\"type\":\"CDSView\"},{\"attributes\":{\"line_alpha\":0.1,\"line_color\":\"#1f77b4\",\"line_dash\":[6],\"line_width\":5,\"x\":{\"field\":\"x\"},\"y\":{\"field\":\"y\"}},\"id\":\"268f7360-ad0f-4f15-8c2a-d4d57c52353b\",\"type\":\"Line\"},{\"attributes\":{\"below\":[{\"id\":\"b920d68b-577d-44c4-8a9b-1ce3be2fad3a\",\"type\":\"LinearAxis\"}],\"left\":[{\"id\":\"fa2d2a0e-e59b-4eeb-88b6-a9bd736d64ce\",\"type\":\"LinearAxis\"}],\"plot_height\":500,\"plot_width\":400,\"renderers\":[{\"id\":\"b920d68b-577d-44c4-8a9b-1ce3be2fad3a\",\"type\":\"LinearAxis\"},{\"id\":\"c6018703-4c4b-4efc-920d-db411f723b4e\",\"type\":\"Grid\"},{\"id\":\"fa2d2a0e-e59b-4eeb-88b6-a9bd736d64ce\",\"type\":\"LinearAxis\"},{\"id\":\"f97f0d5f-76d7-4fca-93b6-247181cb8e20\",\"type\":\"Grid\"},{\"id\":\"cfb85577-45e4-4b59-adc8-49e7fb05d7f4\",\"type\":\"BoxAnnotation\"},{\"id\":\"382a1008-16b8-43e8-815b-105256619bef\",\"type\":\"GlyphRenderer\"},{\"id\":\"0fe33ea7-783f-47a9-8459-6f45b2a793f8\",\"type\":\"GlyphRenderer\"},{\"id\":\"f8bdb27a-00ad-474f-83eb-37a8b48b6aaf\",\"type\":\"GlyphRenderer\"},{\"id\":\"79d603ac-f958-4654-872c-3f48a567a225\",\"type\":\"GlyphRenderer\"},{\"id\":\"6536bd1d-5c35-4044-a5df-44e8e76fd79b\",\"type\":\"GlyphRenderer\"}],\"title\":{\"id\":\"29fc067d-730b-407c-b40d-a3144440a301\",\"type\":\"Title\"},\"toolbar\":{\"id\":\"9e8b8d6a-4f0b-47ea-98a5-61489c412643\",\"type\":\"Toolbar\"},\"toolbar_location\":null,\"x_range\":{\"id\":\"00f32e01-101f-4a88-8232-7448a6b8ef5d\",\"type\":\"Range1d\"},\"x_scale\":{\"id\":\"ff303b04-5e7e-4338-9da8-e8cfbe55f44a\",\"type\":\"LinearScale\"},\"y_range\":{\"id\":\"cabc7824-e5dd-4dee-b956-d5227f395820\",\"type\":\"Range1d\"},\"y_scale\":{\"id\":\"a6752cfd-a707-46b6-82a7-45edf4ade0d9\",\"type\":\"LinearScale\"}},\"id\":\"bcca64b1-d19f-40a5-b1ad-646efd367291\",\"subtype\":\"Figure\",\"type\":\"Plot\"},{\"attributes\":{\"fill_alpha\":{\"value\":0.7},\"fill_color\":{\"value\":\"#984ea3\"},\"line_alpha\":{\"value\":0.7},\"line_color\":{\"value\":\"#984ea3\"},\"x\":{\"field\":\"x\"},\"y\":{\"field\":\"y\"}},\"id\":\"ee1924ac-2b05-42d4-9ef4-cc64f5821149\",\"type\":\"Square\"},{\"attributes\":{\"label\":{\"value\":\"CLIRAD `coolr_bands`\"},\"renderers\":[{\"id\":\"0e178ed9-8cb3-46a1-9734-199bdd1bd456\",\"type\":\"GlyphRenderer\"}]},\"id\":\"9b8238b4-fafa-462f-8932-5cc78748880a\",\"type\":\"LegendItem\"},{\"attributes\":{\"source\":{\"id\":\"2ec73b28-eb87-43b2-9e61-ac6b8e1510f2\",\"type\":\"ColumnDataSource\"}},\"id\":\"287865c8-b02c-48bd-a989-45fe176d4ffe\",\"type\":\"CDSView\"},{\"attributes\":{\"data_source\":{\"id\":\"1fdbe5b3-7bc5-400e-b979-fa947ee86262\",\"type\":\"ColumnDataSource\"},\"glyph\":{\"id\":\"1097464d-4c87-4d60-9317-869bea1afd1a\",\"type\":\"Line\"},\"hover_glyph\":null,\"muted_glyph\":null,\"nonselection_glyph\":{\"id\":\"598c6fa4-8300-4044-9290-703eb0a0cf64\",\"type\":\"Line\"},\"selection_glyph\":null,\"view\":{\"id\":\"adcf5168-1fc7-4fdf-a42f-77bc4a0ff0bb\",\"type\":\"CDSView\"}},\"id\":\"f778d9ba-e87b-4d0a-a025-7e313b077db1\",\"type\":\"GlyphRenderer\"},{\"attributes\":{},\"id\":\"339ff802-a8ce-40ce-9a52-97f007ce8f92\",\"type\":\"PanTool\"},{\"attributes\":{\"bottom_units\":\"screen\",\"fill_alpha\":{\"value\":0.5},\"fill_color\":{\"value\":\"lightgrey\"},\"left_units\":\"screen\",\"level\":\"overlay\",\"line_alpha\":{\"value\":1.0},\"line_color\":{\"value\":\"black\"},\"line_dash\":[4,4],\"line_width\":{\"value\":2},\"plot\":null,\"render_mode\":\"css\",\"right_units\":\"screen\",\"top_units\":\"screen\"},\"id\":\"a9cff9af-8c2f-4074-a0d1-c9a1d8dd1a09\",\"type\":\"BoxAnnotation\"},{\"attributes\":{\"line_alpha\":0.1,\"line_color\":\"#1f77b4\",\"line_width\":3,\"x\":{\"field\":\"x\"},\"y\":{\"field\":\"y\"}},\"id\":\"598c6fa4-8300-4044-9290-703eb0a0cf64\",\"type\":\"Line\"},{\"attributes\":{\"plot\":{\"id\":\"bcca64b1-d19f-40a5-b1ad-646efd367291\",\"subtype\":\"Figure\",\"type\":\"Plot\"},\"ticker\":{\"id\":\"62634136-34fe-427f-afc6-50decb4d8619\",\"type\":\"BasicTicker\"}},\"id\":\"c6018703-4c4b-4efc-920d-db411f723b4e\",\"type\":\"Grid\"},{\"attributes\":{\"line_alpha\":0.6,\"line_color\":\"#984ea3\",\"line_width\":3,\"x\":{\"field\":\"x\"},\"y\":{\"field\":\"y\"}},\"id\":\"1097464d-4c87-4d60-9317-869bea1afd1a\",\"type\":\"Line\"},{\"attributes\":{},\"id\":\"08a2aff2-0dea-41b0-bc08-405979d2794e\",\"type\":\"HelpTool\"},{\"attributes\":{\"callback\":null,\"end\":0.0589145945865,\"start\":-0.0092524783365},\"id\":\"331d37c8-8f1d-422e-9e40-36627a9bbb74\",\"type\":\"Range1d\"},{\"attributes\":{\"source\":{\"id\":\"4fb17a7b-0ccd-4330-b4bb-2b2e143a71d0\",\"type\":\"ColumnDataSource\"}},\"id\":\"92ea1468-4d64-41c2-82a1-b99f46f2b9e9\",\"type\":\"CDSView\"},{\"attributes\":{\"children\":[{\"id\":\"bcca64b1-d19f-40a5-b1ad-646efd367291\",\"subtype\":\"Figure\",\"type\":\"Plot\"},{\"id\":\"59e74733-6df1-4bbb-93c3-fe69e6e7e20d\",\"subtype\":\"Figure\",\"type\":\"Plot\"}]},\"id\":\"ca48acbb-b2ba-4c77-94bc-e0ab39a041d4\",\"type\":\"Row\"},{\"attributes\":{\"label\":{\"value\":\"CRD\"},\"renderers\":[{\"id\":\"8db76764-64a6-4947-b1b0-bf48653baeda\",\"type\":\"GlyphRenderer\"},{\"id\":\"4b501fc7-4afc-4ee5-893f-6385b4995ba3\",\"type\":\"GlyphRenderer\"}]},\"id\":\"106b3dcd-c6a9-400b-9730-55b51762bbb0\",\"type\":\"LegendItem\"},{\"attributes\":{},\"id\":\"e86269c9-e797-4f35-8ec5-ec8b86158cac\",\"type\":\"ResetTool\"},{\"attributes\":{\"source\":{\"id\":\"1fdbe5b3-7bc5-400e-b979-fa947ee86262\",\"type\":\"ColumnDataSource\"}},\"id\":\"adcf5168-1fc7-4fdf-a42f-77bc4a0ff0bb\",\"type\":\"CDSView\"},{\"attributes\":{\"children\":[{\"id\":\"12d26e19-7d30-485d-8671-4e0d71e72b2f\",\"type\":\"ToolbarBox\"},{\"id\":\"fdb8d1d9-f6a6-4700-afc5-1c35bafae301\",\"type\":\"Column\"}]},\"id\":\"86f4e59d-c5a9-4fd8-b58e-0c4fb0c0b119\",\"type\":\"Column\"},{\"attributes\":{\"axis_label\":\"cooling rate [K/day]\",\"formatter\":{\"id\":\"d4459dfd-e80f-4774-b22a-f2d7d31c7de3\",\"type\":\"BasicTickFormatter\"},\"plot\":{\"id\":\"bcca64b1-d19f-40a5-b1ad-646efd367291\",\"subtype\":\"Figure\",\"type\":\"Plot\"},\"ticker\":{\"id\":\"62634136-34fe-427f-afc6-50decb4d8619\",\"type\":\"BasicTicker\"}},\"id\":\"b920d68b-577d-44c4-8a9b-1ce3be2fad3a\",\"type\":\"LinearAxis\"},{\"attributes\":{\"tools\":[{\"id\":\"a2a4345c-ec23-4e4a-a666-2f8703fb1681\",\"type\":\"PanTool\"},{\"id\":\"946d5a69-bd28-474c-b46f-e12c616a650e\",\"type\":\"WheelZoomTool\"},{\"id\":\"e4628ea7-d459-4473-95e3-fb354afc18fd\",\"type\":\"BoxZoomTool\"},{\"id\":\"a250dafa-f1f1-4707-875d-ee2b104f7e85\",\"type\":\"SaveTool\"},{\"id\":\"a620f708-e28f-412b-83d0-4f6b05c548b5\",\"type\":\"ResetTool\"},{\"id\":\"4bf87194-c45f-42fb-bc83-f17003f6bf96\",\"type\":\"HelpTool\"},{\"id\":\"339ff802-a8ce-40ce-9a52-97f007ce8f92\",\"type\":\"PanTool\"},{\"id\":\"018c8445-717c-4d66-99c2-e9799d13e7a2\",\"type\":\"WheelZoomTool\"},{\"id\":\"fa5dd5b0-6fe0-40f1-9a21-15ac82063b1c\",\"type\":\"BoxZoomTool\"},{\"id\":\"62670a13-1f00-4084-b6f4-c69293f6399a\",\"type\":\"SaveTool\"},{\"id\":\"e86269c9-e797-4f35-8ec5-ec8b86158cac\",\"type\":\"ResetTool\"},{\"id\":\"08a2aff2-0dea-41b0-bc08-405979d2794e\",\"type\":\"HelpTool\"}]},\"id\":\"d5539be7-1d22-4edc-a237-05472f2b30b1\",\"type\":\"ProxyToolbar\"},{\"attributes\":{\"label\":{\"value\":\"WGT igg=10 wgt_flux=2\"},\"renderers\":[{\"id\":\"6b47b6f5-dbf3-49c0-a2de-19139af1d0c6\",\"type\":\"GlyphRenderer\"},{\"id\":\"f778d9ba-e87b-4d0a-a025-7e313b077db1\",\"type\":\"GlyphRenderer\"}]},\"id\":\"c5f638ee-743c-49d5-9941-da804328fb98\",\"type\":\"LegendItem\"},{\"attributes\":{\"toolbar\":{\"id\":\"d5539be7-1d22-4edc-a237-05472f2b30b1\",\"type\":\"ProxyToolbar\"},\"toolbar_location\":\"above\"},\"id\":\"12d26e19-7d30-485d-8671-4e0d71e72b2f\",\"type\":\"ToolbarBox\"},{\"attributes\":{\"fill_alpha\":{\"value\":0.7},\"fill_color\":{\"value\":\"#4daf4a\"},\"line_alpha\":{\"value\":0.7},\"line_color\":{\"value\":\"#4daf4a\"},\"x\":{\"field\":\"x\"},\"y\":{\"field\":\"y\"}},\"id\":\"96dd47c0-3c7c-41e9-84ed-1e3880313bc1\",\"type\":\"Circle\"},{\"attributes\":{\"callback\":null,\"column_names\":[\"x\",\"y\"],\"data\":{\"x\":{\"__ndarray__\":\"FTJrvqHuKr8m+cy7FnEBv8Cl9NEtTjY/v0sTpZ9OSD/GzodrncZSPyAq7VMleFk/DxfjucMRYD/RCtuxgm9jPzb97Jf1wWY/JbxaOTYlaj+iKq76eHltPxKSTiKXP3A/Qxb9szPEcT9xtoKsAzVzP7FO4Fg6WHg/k1D301ihgz/UA1Z2ECePP81n/1er45U/UwzZPrmtnD/TmO1jNfihP2ZTDmNb0aU/QYEPD3XgqT960cYtwCCtP+PKRtjR56w/mBZdLWOCqT8oe0aApYOlP/RlCTW6uKE/q3OfKzC1nD/l5G6lERKXPzt0TKaiYpI/GOiTQkRdjD+XTvhgqn2EPwjmUfoVtXs/wditK4eScD/jSCkhxhZTP4275YyfRF+/NvyHoCVpcb9r2o/Uvtl3v5x5/4lUC36/I7g11K04gb+CfYnz1lKAv5bNTMtwhXm/2HZWK4zWcb/kcX6uqThlv3l6WtmvKk6/fa+TAlAXRj+NQ/5TkRViP1MzhqJJNW4/mv5ARxj3dD9FDTPn6p16P4F0mMwEBYA/au4vnmSbgj/fW/t8QBKFP2gDNDq1bYc/7Q7Yvki0iT9zmcg8WuuLPz8AFurKFo4/afdQR2wckD+beaKGlymRPySeF+eiM5I/TF9bgRk6kz8MjR0QxT2UP5bNxpGhP5U/8qM9BZA/lj9djRfLJz2XP0/eYqY2Npg/mhBcrV8lmT89dow1oAGaPxO0oxrxwpo/caAir1Bpmz9AigeCav2bP/6VSZhfiZw/UMBQab8TnT/qoUtyn6CdP3GeK/YJM54/\",\"dtype\":\"float64\",\"shape\":[75]},\"y\":{\"__ndarray__\":\"GhExyth1ND/Sv8nbtpRIP2vylNV0PVE/aTum7souWD/At0SJ8fVgPw3Iuahxymc/MSNhhJWvcD/bTfBN02d3P2zb5nxnaoA/CD5h5MAGhz8NmeH1TyaQP+zrCsc9p5Y/LbKd76fGnz/bLW5ISEmmPww9YvTcQq8/JV2OstnstT8Er5Y7M8G+P0c+r3jqkcU/5h99k6ZBzj88bCIzFzjVP4enV8oyxN0//yH99nXg5D8qOpLLf0jtP5kqGJXUifQ/c9cS8kHP/D+/DpwzojQEQIEmwoanVwxA4lgXt9HgE0BSSZ2AJuIbQAMJih9jjiNA5q4l5INuK0AwTKYKRj0zQNv5fmq8/DpAaCJseHrtQkB/+zpwzoxKQM3MzMzMeFJAZmZmZmZqWEAAAAAAAFxeQM3MzMzMJmJAmpmZmZkfZUBmZmZmZhhoQDMzMzMzEWtAAAAAAAAKbkBmZmZmZoFwQM3MzMzM/XFAMzMzMzN6c0CamZmZmfZ0QAAAAAAAc3ZAZmZmZmbvd0DNzMzMzGt5QDMzMzMz6HpAmpmZmZlkfEAAAAAAAOF9QGZmZmZmXX9AZmZmZuZsgECamZmZGSuBQM3MzMxM6YFAAAAAAICngkAzMzMzs2WDQGZmZmbmI4RAmpmZmRnihEDNzMzMTKCFQAAAAACAXoZAMzMzM7Mch0BmZmZm5tqHQJqZmZkZmYhAzczMzExXiUAAAAAAgBWKQDMzMzOz04pAZmZmZuaRi0CamZmZGVCMQM3MzMxMDo1AAAAAAIDMjUAzMzMzs4qOQGZmZmbmSI9A\",\"dtype\":\"float64\",\"shape\":[75]}}},\"id\":\"36a3178e-ae9c-491f-89fd-62dbca723abc\",\"type\":\"ColumnDataSource\"},{\"attributes\":{\"line_alpha\":0.6,\"line_color\":\"#e41a1c\",\"line_dash\":[6],\"line_width\":5,\"x\":{\"field\":\"x\"},\"y\":{\"field\":\"y\"}},\"id\":\"36f5da59-b63d-43d9-96f6-20c36cdde54a\",\"type\":\"Line\"},{\"attributes\":{\"overlay\":{\"id\":\"a9cff9af-8c2f-4074-a0d1-c9a1d8dd1a09\",\"type\":\"BoxAnnotation\"}},\"id\":\"fa5dd5b0-6fe0-40f1-9a21-15ac82063b1c\",\"type\":\"BoxZoomTool\"},{\"attributes\":{\"dimension\":1,\"plot\":{\"id\":\"59e74733-6df1-4bbb-93c3-fe69e6e7e20d\",\"subtype\":\"Figure\",\"type\":\"Plot\"},\"ticker\":{\"id\":\"758e81a0-fe8f-4d06-b2d3-4547304e9361\",\"type\":\"LogTicker\"}},\"id\":\"650021dc-f603-4098-8096-adc8c7145176\",\"type\":\"Grid\"},{\"attributes\":{},\"id\":\"62670a13-1f00-4084-b6f4-c69293f6399a\",\"type\":\"SaveTool\"},{\"attributes\":{\"bottom_units\":\"screen\",\"fill_alpha\":{\"value\":0.5},\"fill_color\":{\"value\":\"lightgrey\"},\"left_units\":\"screen\",\"level\":\"overlay\",\"line_alpha\":{\"value\":1.0},\"line_color\":{\"value\":\"black\"},\"line_dash\":[4,4],\"line_width\":{\"value\":2},\"plot\":null,\"render_mode\":\"css\",\"right_units\":\"screen\",\"top_units\":\"screen\"},\"id\":\"cfb85577-45e4-4b59-adc8-49e7fb05d7f4\",\"type\":\"BoxAnnotation\"},{\"attributes\":{\"plot\":null,\"text\":\"Linear pressure scale\"},\"id\":\"29fc067d-730b-407c-b40d-a3144440a301\",\"type\":\"Title\"},{\"attributes\":{\"callback\":null,\"column_names\":[\"x\",\"y\"],\"data\":{\"x\":{\"__ndarray__\":\"mvZSEoDhcz9cYjghLB90PwxCA+2q2XU/o3Jh1uM0dz/vblio64h4P3NAjLwe33k/CDzNVTU5ez/cp4XAAZV8P7v6qv1a9X0/Cp60A71Wfz+Y95T6O12AP5JYUxNkD4E/6RCoHQbDgT+xBujxjX6CP+KNUFwjvIQ/uDJkGTsRiz+u/U6n/VWSPzjTJHv7qJc/FHSXnpJunT+yyUK93tKhP00bBtq6J6U/RUibsuysqD83M+umQ5CrPxGc84YNrKs/U5Aof7orqT+pePG4hwimPz+py2kc2KI/jxKxRESKnz8eAfAQRc+ZP+ZubWezeJQ/Eak0JQOHjj+UQNaVx4GEP3oJKreop3c/JMENFcCkYj8Uh1Li5UlOv1N5gXLQJ2+/V8SEZzaOd7/wxdqJ2WV8vwcCtFPST4C/zv1vSpSUgb/LgkXZbWSAvwefyWrxI3q/miaewnnQcr8xNkYNk1lnv4NAmQzoAVO/U6a52qicPz+K0iC0vgJhPyMCBjACtm0/XWSWT6MIdT8AM08WDQV7PwBxDpBMZIA/u7xOZbcogz8CVDaBKdCFPzbQB8FmXYg/0mvwFCvQij9O1H7dfDKNP8O6iQtUh48/LACs32PokD/Ofu4VJwiSP9g1Bg9mIpM/oFq82Zg3lD/rP39i40iVP2iA3Xl6VpY/cWkENHRglz/bVJsHyWWYP1tPAAflZJk/MdlwP31Xmj+uWsJvfTebP85lBefV/ps/e4OhoY6tnD/o5VdDR0qdP8o1vlyv3J0/00wGZtZpnj8FAFVJVfSeP51gLa5ZfZ8/\",\"dtype\":\"float64\",\"shape\":[75]},\"y\":{\"__ndarray__\":\"S/O/Q+51ND/Sv8nbtpRIP2vylNV0PVE/aTum7souWD/At0SJ8fVgPw3Iuahxymc/MSNhhJWvcD/bTfBN02d3P2zb5nxnaoA/CD5h5MAGhz8NmeH1TyaQP+zrCsc9p5Y/LbKd76fGnz/bLW5ISEmmPww9YvTcQq8/JV2OstnstT8Er5Y7M8G+P0c+r3jqkcU/5h99k6ZBzj88bCIzFzjVP4enV8oyxN0//yH99nXg5D8qOpLLf0jtP5kqGJXUifQ/c9cS8kHP/D+/DpwzojQEQIEmwoanVwxA4lgXt9HgE0BSSZ2AJuIbQAMJih9jjiNA5q4l5INuK0AwTKYKRj0zQNv5fmq8/DpAaCJseHrtQkB/+zpwzoxKQM3MzMzMeFJAZmZmZmZqWEAAAAAAAFxeQM3MzMzMJmJAmpmZmZkfZUBmZmZmZhhoQDMzMzMzEWtAAAAAAAAKbkBmZmZmZoFwQM3MzMzM/XFAMzMzMzN6c0CamZmZmfZ0QAAAAAAAc3ZAZmZmZmbvd0DNzMzMzGt5QDMzMzMz6HpAmpmZmZlkfEAAAAAAAOF9QGZmZmZmXX9AZmZmZuZsgECamZmZGSuBQM3MzMxM6YFAAAAAAICngkAzMzMzs2WDQGZmZmbmI4RAmpmZmRnihEDNzMzMTKCFQAAAAACAXoZAMzMzM7Mch0BmZmZm5tqHQJqZmZkZmYhAzczMzExXiUAAAAAAgBWKQDMzMzOz04pAZmZmZuaRi0CamZmZGVCMQM3MzMxMDo1AAAAAAIDMjUAzMzMzs4qOQGZmZmbmSI9A\",\"dtype\":\"float64\",\"shape\":[75]}}},\"id\":\"3786c1d0-7218-4e47-9d8a-2b67c71f335a\",\"type\":\"ColumnDataSource\"},{\"attributes\":{},\"id\":\"018c8445-717c-4d66-99c2-e9799d13e7a2\",\"type\":\"WheelZoomTool\"},{\"attributes\":{},\"id\":\"a250dafa-f1f1-4707-875d-ee2b104f7e85\",\"type\":\"SaveTool\"},{\"attributes\":{\"overlay\":{\"id\":\"cfb85577-45e4-4b59-adc8-49e7fb05d7f4\",\"type\":\"BoxAnnotation\"}},\"id\":\"e4628ea7-d459-4473-95e3-fb354afc18fd\",\"type\":\"BoxZoomTool\"},{\"attributes\":{\"data_source\":{\"id\":\"3786c1d0-7218-4e47-9d8a-2b67c71f335a\",\"type\":\"ColumnDataSource\"},\"glyph\":{\"id\":\"36f5da59-b63d-43d9-96f6-20c36cdde54a\",\"type\":\"Line\"},\"hover_glyph\":null,\"muted_glyph\":null,\"nonselection_glyph\":{\"id\":\"268f7360-ad0f-4f15-8c2a-d4d57c52353b\",\"type\":\"Line\"},\"selection_glyph\":null,\"view\":{\"id\":\"9f097161-fa0d-4091-97d4-218da6bed889\",\"type\":\"CDSView\"}},\"id\":\"0e178ed9-8cb3-46a1-9734-199bdd1bd456\",\"type\":\"GlyphRenderer\"},{\"attributes\":{\"active_drag\":\"auto\",\"active_inspect\":\"auto\",\"active_scroll\":\"auto\",\"active_tap\":\"auto\",\"tools\":[{\"id\":\"a2a4345c-ec23-4e4a-a666-2f8703fb1681\",\"type\":\"PanTool\"},{\"id\":\"946d5a69-bd28-474c-b46f-e12c616a650e\",\"type\":\"WheelZoomTool\"},{\"id\":\"e4628ea7-d459-4473-95e3-fb354afc18fd\",\"type\":\"BoxZoomTool\"},{\"id\":\"a250dafa-f1f1-4707-875d-ee2b104f7e85\",\"type\":\"SaveTool\"},{\"id\":\"a620f708-e28f-412b-83d0-4f6b05c548b5\",\"type\":\"ResetTool\"},{\"id\":\"4bf87194-c45f-42fb-bc83-f17003f6bf96\",\"type\":\"HelpTool\"}]},\"id\":\"9e8b8d6a-4f0b-47ea-98a5-61489c412643\",\"type\":\"Toolbar\"},{\"attributes\":{\"callback\":null,\"end\":0.01,\"start\":1020},\"id\":\"cabc7824-e5dd-4dee-b956-d5227f395820\",\"type\":\"Range1d\"},{\"attributes\":{\"line_color\":\"#4daf4a\",\"line_width\":1.5,\"x\":{\"field\":\"x\"},\"y\":{\"field\":\"y\"}},\"id\":\"1359652d-8b47-4c60-ac8a-7f7466d3c37a\",\"type\":\"Line\"},{\"attributes\":{\"callback\":null,\"column_names\":[\"x\",\"y\"],\"data\":{\"x\":{\"__ndarray__\":\"2pTvvzyJcT8oGE6x1S1yP5jZUmIgjXM/5P/ZHs4DdT+a+ZmZtH12P2N0Ydd8+nc/NM0QkRN6eT+MWHa1jPx6P2dEFObugXw/1mmS7g0Jfj99kVT8SpR/P8si85AxkYA/0oPYO4RZgT8XlCrjMTKCP2ii4gvewIQ/5vAdrDXCiz9rYxifUi6TP3AgLbTBEJk/mEkUPXJ2nz+EhKw4yBqjP2qPoiMXxKY/8GxLwXOfqj8+muWxlsetP7ys5Sx10q0/ZRXj0L7zqj8XcQNwN2anP630zGak0qM/ilyhZLpkoD+mp+zg4XqaPyE9llUQt5Q/ROBlMKOGjj/SX0+z7VWEP5oMODpqiHc/oGlHAfUEZD/kRbWvFO5Cv47XiB+wdWu/ZNEbvuqgdb9UzrV1mZ16vxXETibmSH+/JIqQTNwpgb9dVQH1qRWAv5QqF0sNRHm/MKktt6ypcb/IwagU5aRkv2IVqy3Y/Em/WmOXmcl6Sz9xfS5AtxlkPwUvKskMf3A/3Gfp2gfCdj9gt8hawaR8P2NF0Cy8PYE/6Btig4wLhD+m37yRv6qGP5drebiwNIk/CSN14b6xiz/C/2o3nhKOP5ohYj6xMpA/FAFXhVBdkT8J/7cV6HqSP9L/vrufl5M/rtaWrNS0lD9TrFDkzcGVP2izQ+Pd1pY/iI9/kyPllz+oYC7Uo+qYPyk8Y70j85k/SbwTZxnmmj9C/+kvQM6bPwDHS6xNmZw/3YuinRBHnT9JBR3GB+qdPymBaeqXdZ4/hGra748Knz/0hrv2JZSfP2nDfwhaEqA/\",\"dtype\":\"float64\",\"shape\":[75]},\"y\":{\"__ndarray__\":\"GhExyth1ND/Sv8nbtpRIP2vylNV0PVE/aTum7souWD/At0SJ8fVgPw3Iuahxymc/MSNhhJWvcD/bTfBN02d3P2zb5nxnaoA/CD5h5MAGhz8NmeH1TyaQP+zrCsc9p5Y/LbKd76fGnz/bLW5ISEmmPww9YvTcQq8/JV2OstnstT8Er5Y7M8G+P0c+r3jqkcU/5h99k6ZBzj88bCIzFzjVP4enV8oyxN0//yH99nXg5D8qOpLLf0jtP5kqGJXUifQ/c9cS8kHP/D+/DpwzojQEQIEmwoanVwxA4lgXt9HgE0BSSZ2AJuIbQAMJih9jjiNA5q4l5INuK0AwTKYKRj0zQNv5fmq8/DpAaCJseHrtQkB/+zpwzoxKQM3MzMzMeFJAZmZmZmZqWEAAAAAAAFxeQM3MzMzMJmJAmpmZmZkfZUBmZmZmZhhoQDMzMzMzEWtAAAAAAAAKbkBmZmZmZoFwQM3MzMzM/XFAMzMzMzN6c0CamZmZmfZ0QAAAAAAAc3ZAZmZmZmbvd0DNzMzMzGt5QDMzMzMz6HpAmpmZmZlkfEAAAAAAAOF9QGZmZmZmXX9AZmZmZuZsgECamZmZGSuBQM3MzMxM6YFAAAAAAICngkAzMzMzs2WDQGZmZmbmI4RAmpmZmRnihEDNzMzMTKCFQAAAAACAXoZAMzMzM7Mch0BmZmZm5tqHQJqZmZkZmYhAzczMzExXiUAAAAAAgBWKQDMzMzOz04pAZmZmZuaRi0CamZmZGVCMQM3MzMxMDo1AAAAAAIDMjUAzMzMzs4qOQGZmZmbmSI9A\",\"dtype\":\"float64\",\"shape\":[75]}}},\"id\":\"03894b1d-5ff6-4c26-a15a-901edc1cd09f\",\"type\":\"ColumnDataSource\"},{\"attributes\":{\"callback\":null,\"end\":0.01,\"start\":1020},\"id\":\"be714f7e-07b8-44aa-bab6-5c1f0eb102b7\",\"type\":\"Range1d\"},{\"attributes\":{\"data_source\":{\"id\":\"4fb17a7b-0ccd-4330-b4bb-2b2e143a71d0\",\"type\":\"ColumnDataSource\"},\"glyph\":{\"id\":\"757a4da5-3d97-4426-ad73-1df4b50f64b9\",\"type\":\"Line\"},\"hover_glyph\":null,\"muted_glyph\":null,\"nonselection_glyph\":{\"id\":\"62739b2f-70b9-4a6d-b0be-e961d6b08d74\",\"type\":\"Line\"},\"selection_glyph\":null,\"view\":{\"id\":\"92ea1468-4d64-41c2-82a1-b99f46f2b9e9\",\"type\":\"CDSView\"}},\"id\":\"382a1008-16b8-43e8-815b-105256619bef\",\"type\":\"GlyphRenderer\"},{\"attributes\":{},\"id\":\"9389fb13-bb9f-4599-a10b-c934381fc048\",\"type\":\"BasicTicker\"},{\"attributes\":{\"axis_label\":\"pressure [mb]\",\"formatter\":{\"id\":\"5b60f8f7-3e02-48a7-aeb5-6bd6c1fd58fd\",\"type\":\"LogTickFormatter\"},\"plot\":{\"id\":\"59e74733-6df1-4bbb-93c3-fe69e6e7e20d\",\"subtype\":\"Figure\",\"type\":\"Plot\"},\"ticker\":{\"id\":\"758e81a0-fe8f-4d06-b2d3-4547304e9361\",\"type\":\"LogTicker\"}},\"id\":\"bb00503f-3429-4bc0-b46d-7f1fcf612487\",\"type\":\"LogAxis\"},{\"attributes\":{},\"id\":\"368d147b-1f94-4aa4-b138-410cf6bc3ee7\",\"type\":\"LinearScale\"},{\"attributes\":{\"data_source\":{\"id\":\"03894b1d-5ff6-4c26-a15a-901edc1cd09f\",\"type\":\"ColumnDataSource\"},\"glyph\":{\"id\":\"5ff60925-8ab5-4e9f-9fad-8d9b8b3d84fa\",\"type\":\"Line\"},\"hover_glyph\":null,\"muted_glyph\":null,\"nonselection_glyph\":{\"id\":\"cd948341-f98d-4b4b-8424-46908cb833dc\",\"type\":\"Line\"},\"selection_glyph\":null,\"view\":{\"id\":\"85a5390a-e931-4e90-ace7-c096872f9df3\",\"type\":\"CDSView\"}},\"id\":\"6536bd1d-5c35-4044-a5df-44e8e76fd79b\",\"type\":\"GlyphRenderer\"},{\"attributes\":{\"callback\":null,\"column_names\":[\"x\",\"y\"],\"data\":{\"x\":{\"__ndarray__\":\"2pTvvzyJcT8oGE6x1S1yP5jZUmIgjXM/5P/ZHs4DdT+a+ZmZtH12P2N0Ydd8+nc/NM0QkRN6eT+MWHa1jPx6P2dEFObugXw/1mmS7g0Jfj99kVT8SpR/P8si85AxkYA/0oPYO4RZgT8XlCrjMTKCP2ii4gvewIQ/5vAdrDXCiz9rYxifUi6TP3AgLbTBEJk/mEkUPXJ2nz+EhKw4yBqjP2qPoiMXxKY/8GxLwXOfqj8+muWxlsetP7ys5Sx10q0/ZRXj0L7zqj8XcQNwN2anP630zGak0qM/ilyhZLpkoD+mp+zg4XqaPyE9llUQt5Q/ROBlMKOGjj/SX0+z7VWEP5oMODpqiHc/oGlHAfUEZD/kRbWvFO5Cv47XiB+wdWu/ZNEbvuqgdb9UzrV1mZ16vxXETibmSH+/JIqQTNwpgb9dVQH1qRWAv5QqF0sNRHm/MKktt6ypcb/IwagU5aRkv2IVqy3Y/Em/WmOXmcl6Sz9xfS5AtxlkPwUvKskMf3A/3Gfp2gfCdj9gt8hawaR8P2NF0Cy8PYE/6Btig4wLhD+m37yRv6qGP5drebiwNIk/CSN14b6xiz/C/2o3nhKOP5ohYj6xMpA/FAFXhVBdkT8J/7cV6HqSP9L/vrufl5M/rtaWrNS0lD9TrFDkzcGVP2izQ+Pd1pY/iI9/kyPllz+oYC7Uo+qYPyk8Y70j85k/SbwTZxnmmj9C/+kvQM6bPwDHS6xNmZw/3YuinRBHnT9JBR3GB+qdPymBaeqXdZ4/hGra748Knz/0hrv2JZSfP2nDfwhaEqA/\",\"dtype\":\"float64\",\"shape\":[75]},\"y\":{\"__ndarray__\":\"GhExyth1ND/Sv8nbtpRIP2vylNV0PVE/aTum7souWD/At0SJ8fVgPw3Iuahxymc/MSNhhJWvcD/bTfBN02d3P2zb5nxnaoA/CD5h5MAGhz8NmeH1TyaQP+zrCsc9p5Y/LbKd76fGnz/bLW5ISEmmPww9YvTcQq8/JV2OstnstT8Er5Y7M8G+P0c+r3jqkcU/5h99k6ZBzj88bCIzFzjVP4enV8oyxN0//yH99nXg5D8qOpLLf0jtP5kqGJXUifQ/c9cS8kHP/D+/DpwzojQEQIEmwoanVwxA4lgXt9HgE0BSSZ2AJuIbQAMJih9jjiNA5q4l5INuK0AwTKYKRj0zQNv5fmq8/DpAaCJseHrtQkB/+zpwzoxKQM3MzMzMeFJAZmZmZmZqWEAAAAAAAFxeQM3MzMzMJmJAmpmZmZkfZUBmZmZmZhhoQDMzMzMzEWtAAAAAAAAKbkBmZmZmZoFwQM3MzMzM/XFAMzMzMzN6c0CamZmZmfZ0QAAAAAAAc3ZAZmZmZmbvd0DNzMzMzGt5QDMzMzMz6HpAmpmZmZlkfEAAAAAAAOF9QGZmZmZmXX9AZmZmZuZsgECamZmZGSuBQM3MzMxM6YFAAAAAAICngkAzMzMzs2WDQGZmZmbmI4RAmpmZmRnihEDNzMzMTKCFQAAAAACAXoZAMzMzM7Mch0BmZmZm5tqHQJqZmZkZmYhAzczMzExXiUAAAAAAgBWKQDMzMzOz04pAZmZmZuaRi0CamZmZGVCMQM3MzMxMDo1AAAAAAIDMjUAzMzMzs4qOQGZmZmbmSI9A\",\"dtype\":\"float64\",\"shape\":[75]}}},\"id\":\"abe76271-d309-4689-aaf6-208c26a041af\",\"type\":\"ColumnDataSource\"},{\"attributes\":{\"fill_alpha\":{\"value\":0.1},\"fill_color\":{\"value\":\"#1f77b4\"},\"line_alpha\":{\"value\":0.1},\"line_color\":{\"value\":\"#1f77b4\"},\"x\":{\"field\":\"x\"},\"y\":{\"field\":\"y\"}},\"id\":\"ec9dce6b-381b-4c13-8994-c232a903038d\",\"type\":\"Square\"},{\"attributes\":{\"data_source\":{\"id\":\"07400232-955f-4f2e-b980-ef17af0665f8\",\"type\":\"ColumnDataSource\"},\"glyph\":{\"id\":\"1359652d-8b47-4c60-ac8a-7f7466d3c37a\",\"type\":\"Line\"},\"hover_glyph\":null,\"muted_glyph\":null,\"nonselection_glyph\":{\"id\":\"8a1667d9-c84e-4d50-ba7e-5c8bfd833669\",\"type\":\"Line\"},\"selection_glyph\":null,\"view\":{\"id\":\"3f3080f9-8047-465a-aec8-c715b3701848\",\"type\":\"CDSView\"}},\"id\":\"f8bdb27a-00ad-474f-83eb-37a8b48b6aaf\",\"type\":\"GlyphRenderer\"},{\"attributes\":{\"fill_alpha\":{\"value\":0.1},\"fill_color\":{\"value\":\"#1f77b4\"},\"line_alpha\":{\"value\":0.1},\"line_color\":{\"value\":\"#1f77b4\"},\"x\":{\"field\":\"x\"},\"y\":{\"field\":\"y\"}},\"id\":\"db308f27-004a-40a5-9a50-aef4785c0d01\",\"type\":\"Circle\"},{\"attributes\":{\"source\":{\"id\":\"abe76271-d309-4689-aaf6-208c26a041af\",\"type\":\"ColumnDataSource\"}},\"id\":\"cc142035-0ec9-4e55-abf5-b694b4395e91\",\"type\":\"CDSView\"},{\"attributes\":{\"line_alpha\":0.1,\"line_color\":\"#1f77b4\",\"line_width\":3,\"x\":{\"field\":\"x\"},\"y\":{\"field\":\"y\"}},\"id\":\"cd948341-f98d-4b4b-8424-46908cb833dc\",\"type\":\"Line\"},{\"attributes\":{\"data_source\":{\"id\":\"abe76271-d309-4689-aaf6-208c26a041af\",\"type\":\"ColumnDataSource\"},\"glyph\":{\"id\":\"fd13ea44-5a1e-48b5-871a-c50a64f53a05\",\"type\":\"Square\"},\"hover_glyph\":null,\"muted_glyph\":null,\"nonselection_glyph\":{\"id\":\"ec9dce6b-381b-4c13-8994-c232a903038d\",\"type\":\"Square\"},\"selection_glyph\":null,\"view\":{\"id\":\"cc142035-0ec9-4e55-abf5-b694b4395e91\",\"type\":\"CDSView\"}},\"id\":\"79d603ac-f958-4654-872c-3f48a567a225\",\"type\":\"GlyphRenderer\"},{\"attributes\":{\"callback\":null,\"column_names\":[\"x\",\"y\"],\"data\":{\"x\":{\"__ndarray__\":\"FTJrvqHuKr8m+cy7FnEBv8Cl9NEtTjY/v0sTpZ9OSD/GzodrncZSPyAq7VMleFk/DxfjucMRYD/RCtuxgm9jPzb97Jf1wWY/JbxaOTYlaj+iKq76eHltPxKSTiKXP3A/Qxb9szPEcT9xtoKsAzVzP7FO4Fg6WHg/k1D301ihgz/UA1Z2ECePP81n/1er45U/UwzZPrmtnD/TmO1jNfihP2ZTDmNb0aU/QYEPD3XgqT960cYtwCCtP+PKRtjR56w/mBZdLWOCqT8oe0aApYOlP/RlCTW6uKE/q3OfKzC1nD/l5G6lERKXPzt0TKaiYpI/GOiTQkRdjD+XTvhgqn2EPwjmUfoVtXs/wditK4eScD/jSCkhxhZTP4275YyfRF+/NvyHoCVpcb9r2o/Uvtl3v5x5/4lUC36/I7g11K04gb+CfYnz1lKAv5bNTMtwhXm/2HZWK4zWcb/kcX6uqThlv3l6WtmvKk6/fa+TAlAXRj+NQ/5TkRViP1MzhqJJNW4/mv5ARxj3dD9FDTPn6p16P4F0mMwEBYA/au4vnmSbgj/fW/t8QBKFP2gDNDq1bYc/7Q7Yvki0iT9zmcg8WuuLPz8AFurKFo4/afdQR2wckD+beaKGlymRPySeF+eiM5I/TF9bgRk6kz8MjR0QxT2UP5bNxpGhP5U/8qM9BZA/lj9djRfLJz2XP0/eYqY2Npg/mhBcrV8lmT89dow1oAGaPxO0oxrxwpo/caAir1Bpmz9AigeCav2bP/6VSZhfiZw/UMBQab8TnT/qoUtyn6CdP3GeK/YJM54/\",\"dtype\":\"float64\",\"shape\":[75]},\"y\":{\"__ndarray__\":\"GhExyth1ND/Sv8nbtpRIP2vylNV0PVE/aTum7souWD/At0SJ8fVgPw3Iuahxymc/MSNhhJWvcD/bTfBN02d3P2zb5nxnaoA/CD5h5MAGhz8NmeH1TyaQP+zrCsc9p5Y/LbKd76fGnz/bLW5ISEmmPww9YvTcQq8/JV2OstnstT8Er5Y7M8G+P0c+r3jqkcU/5h99k6ZBzj88bCIzFzjVP4enV8oyxN0//yH99nXg5D8qOpLLf0jtP5kqGJXUifQ/c9cS8kHP/D+/DpwzojQEQIEmwoanVwxA4lgXt9HgE0BSSZ2AJuIbQAMJih9jjiNA5q4l5INuK0AwTKYKRj0zQNv5fmq8/DpAaCJseHrtQkB/+zpwzoxKQM3MzMzMeFJAZmZmZmZqWEAAAAAAAFxeQM3MzMzMJmJAmpmZmZkfZUBmZmZmZhhoQDMzMzMzEWtAAAAAAAAKbkBmZmZmZoFwQM3MzMzM/XFAMzMzMzN6c0CamZmZmfZ0QAAAAAAAc3ZAZmZmZmbvd0DNzMzMzGt5QDMzMzMz6HpAmpmZmZlkfEAAAAAAAOF9QGZmZmZmXX9AZmZmZuZsgECamZmZGSuBQM3MzMxM6YFAAAAAAICngkAzMzMzs2WDQGZmZmbmI4RAmpmZmRnihEDNzMzMTKCFQAAAAACAXoZAMzMzM7Mch0BmZmZm5tqHQJqZmZkZmYhAzczMzExXiUAAAAAAgBWKQDMzMzOz04pAZmZmZuaRi0CamZmZGVCMQM3MzMxMDo1AAAAAAIDMjUAzMzMzs4qOQGZmZmbmSI9A\",\"dtype\":\"float64\",\"shape\":[75]}}},\"id\":\"07400232-955f-4f2e-b980-ef17af0665f8\",\"type\":\"ColumnDataSource\"},{\"attributes\":{\"callback\":null,\"end\":0.031789754159999996,\"start\":-0.00898391556},\"id\":\"00f32e01-101f-4a88-8232-7448a6b8ef5d\",\"type\":\"Range1d\"},{\"attributes\":{\"line_alpha\":0.6,\"line_color\":\"#984ea3\",\"line_width\":3,\"x\":{\"field\":\"x\"},\"y\":{\"field\":\"y\"}},\"id\":\"5ff60925-8ab5-4e9f-9fad-8d9b8b3d84fa\",\"type\":\"Line\"},{\"attributes\":{\"axis_label\":\"cooling rate [K/day]\",\"formatter\":{\"id\":\"78f1d491-3247-4db5-adda-5b147986589d\",\"type\":\"BasicTickFormatter\"},\"plot\":{\"id\":\"59e74733-6df1-4bbb-93c3-fe69e6e7e20d\",\"subtype\":\"Figure\",\"type\":\"Plot\"},\"ticker\":{\"id\":\"9389fb13-bb9f-4599-a10b-c934381fc048\",\"type\":\"BasicTicker\"}},\"id\":\"9ea970c3-de74-4199-85e5-b1a86d68ba9a\",\"type\":\"LinearAxis\"},{\"attributes\":{\"source\":{\"id\":\"07400232-955f-4f2e-b980-ef17af0665f8\",\"type\":\"ColumnDataSource\"}},\"id\":\"3f3080f9-8047-465a-aec8-c715b3701848\",\"type\":\"CDSView\"},{\"attributes\":{\"active_drag\":\"auto\",\"active_inspect\":\"auto\",\"active_scroll\":\"auto\",\"active_tap\":\"auto\",\"tools\":[{\"id\":\"339ff802-a8ce-40ce-9a52-97f007ce8f92\",\"type\":\"PanTool\"},{\"id\":\"018c8445-717c-4d66-99c2-e9799d13e7a2\",\"type\":\"WheelZoomTool\"},{\"id\":\"fa5dd5b0-6fe0-40f1-9a21-15ac82063b1c\",\"type\":\"BoxZoomTool\"},{\"id\":\"62670a13-1f00-4084-b6f4-c69293f6399a\",\"type\":\"SaveTool\"},{\"id\":\"e86269c9-e797-4f35-8ec5-ec8b86158cac\",\"type\":\"ResetTool\"},{\"id\":\"08a2aff2-0dea-41b0-bc08-405979d2794e\",\"type\":\"HelpTool\"}]},\"id\":\"ffbbbb1b-d957-49ea-b742-2768f03e60b4\",\"type\":\"Toolbar\"},{\"attributes\":{\"line_alpha\":0.6,\"line_color\":\"#e41a1c\",\"line_dash\":[6],\"line_width\":5,\"x\":{\"field\":\"x\"},\"y\":{\"field\":\"y\"}},\"id\":\"757a4da5-3d97-4426-ad73-1df4b50f64b9\",\"type\":\"Line\"},{\"attributes\":{\"source\":{\"id\":\"03894b1d-5ff6-4c26-a15a-901edc1cd09f\",\"type\":\"ColumnDataSource\"}},\"id\":\"85a5390a-e931-4e90-ace7-c096872f9df3\",\"type\":\"CDSView\"},{\"attributes\":{\"below\":[{\"id\":\"9ea970c3-de74-4199-85e5-b1a86d68ba9a\",\"type\":\"LinearAxis\"}],\"left\":[{\"id\":\"bb00503f-3429-4bc0-b46d-7f1fcf612487\",\"type\":\"LogAxis\"}],\"plot_height\":500,\"plot_width\":560,\"renderers\":[{\"id\":\"9ea970c3-de74-4199-85e5-b1a86d68ba9a\",\"type\":\"LinearAxis\"},{\"id\":\"98f08eec-a82b-42c0-825a-8fcf223345d3\",\"type\":\"Grid\"},{\"id\":\"bb00503f-3429-4bc0-b46d-7f1fcf612487\",\"type\":\"LogAxis\"},{\"id\":\"650021dc-f603-4098-8096-adc8c7145176\",\"type\":\"Grid\"},{\"id\":\"a9cff9af-8c2f-4074-a0d1-c9a1d8dd1a09\",\"type\":\"BoxAnnotation\"},{\"id\":\"0e178ed9-8cb3-46a1-9734-199bdd1bd456\",\"type\":\"GlyphRenderer\"},{\"id\":\"8db76764-64a6-4947-b1b0-bf48653baeda\",\"type\":\"GlyphRenderer\"},{\"id\":\"4b501fc7-4afc-4ee5-893f-6385b4995ba3\",\"type\":\"GlyphRenderer\"},{\"id\":\"6b47b6f5-dbf3-49c0-a2de-19139af1d0c6\",\"type\":\"GlyphRenderer\"},{\"id\":\"f778d9ba-e87b-4d0a-a025-7e313b077db1\",\"type\":\"GlyphRenderer\"},{\"id\":\"4e8d5ac5-5d27-4d41-9e1c-ca735f217be6\",\"type\":\"Legend\"}],\"right\":[{\"id\":\"4e8d5ac5-5d27-4d41-9e1c-ca735f217be6\",\"type\":\"Legend\"}],\"title\":{\"id\":\"ba8cdeef-de63-4723-9616-66b778651195\",\"type\":\"Title\"},\"toolbar\":{\"id\":\"ffbbbb1b-d957-49ea-b742-2768f03e60b4\",\"type\":\"Toolbar\"},\"toolbar_location\":null,\"x_range\":{\"id\":\"331d37c8-8f1d-422e-9e40-36627a9bbb74\",\"type\":\"Range1d\"},\"x_scale\":{\"id\":\"368d147b-1f94-4aa4-b138-410cf6bc3ee7\",\"type\":\"LinearScale\"},\"y_range\":{\"id\":\"be714f7e-07b8-44aa-bab6-5c1f0eb102b7\",\"type\":\"Range1d\"},\"y_scale\":{\"id\":\"3b30017b-77b6-4719-ad14-6bf55d554e49\",\"type\":\"LogScale\"}},\"id\":\"59e74733-6df1-4bbb-93c3-fe69e6e7e20d\",\"subtype\":\"Figure\",\"type\":\"Plot\"},{\"attributes\":{\"plot\":null,\"text\":\"Log pressure scale\"},\"id\":\"ba8cdeef-de63-4723-9616-66b778651195\",\"type\":\"Title\"},{\"attributes\":{\"fill_alpha\":{\"value\":0.7},\"fill_color\":{\"value\":\"#984ea3\"},\"line_alpha\":{\"value\":0.7},\"line_color\":{\"value\":\"#984ea3\"},\"x\":{\"field\":\"x\"},\"y\":{\"field\":\"y\"}},\"id\":\"fd13ea44-5a1e-48b5-871a-c50a64f53a05\",\"type\":\"Square\"}],\"root_ids\":[\"86f4e59d-c5a9-4fd8-b58e-0c4fb0c0b119\"]},\"title\":\"Bokeh Application\",\"version\":\"0.12.14\"}};\n",
       "  var render_items = [{\"docid\":\"ef701d24-e399-4b9a-b6e3-9a56a912cf47\",\"elementid\":\"089690e9-60c0-44ac-bccf-4bb9e9c82885\",\"modelid\":\"86f4e59d-c5a9-4fd8-b58e-0c4fb0c0b119\"}];\n",
       "  root.Bokeh.embed.embed_items_notebook(docs_json, render_items);\n",
       "\n",
       "  }\n",
       "  if (root.Bokeh !== undefined) {\n",
       "    embed_document(root);\n",
       "  } else {\n",
       "    var attempts = 0;\n",
       "    var timer = setInterval(function(root) {\n",
       "      if (root.Bokeh !== undefined) {\n",
       "        embed_document(root);\n",
       "        clearInterval(timer);\n",
       "      }\n",
       "      attempts++;\n",
       "      if (attempts > 100) {\n",
       "        console.log(\"Bokeh: ERROR: Unable to run BokehJS code because BokehJS library is missing\")\n",
       "        clearInterval(timer);\n",
       "      }\n",
       "    }, 10, root)\n",
       "  }\n",
       "})(window);"
      ],
      "application/vnd.bokehjs_exec.v0+json": ""
     },
     "metadata": {
      "application/vnd.bokehjs_exec.v0+json": {
       "id": "86f4e59d-c5a9-4fd8-b58e-0c4fb0c0b119"
      }
     },
     "output_type": "display_data"
    },
    {
     "name": "stdout",
     "output_type": "stream",
     "text": [
      "FIGURE. Cooling rate profiles.\n"
     ]
    },
    {
     "data": {
      "text/html": [
       "<a id=\"Flux_Comparison\"></a>"
      ],
      "text/plain": [
       "<IPython.core.display.HTML object>"
      ]
     },
     "metadata": {},
     "output_type": "display_data"
    },
    {
     "data": {
      "text/markdown": [
       "# Flux Comparison"
      ],
      "text/plain": [
       "<IPython.core.display.Markdown object>"
      ]
     },
     "metadata": {},
     "output_type": "display_data"
    },
    {
     "data": {
      "text/html": [
       "<div>\n",
       "<style>\n",
       "    .dataframe thead tr:only-child th {\n",
       "        text-align: right;\n",
       "    }\n",
       "\n",
       "    .dataframe thead th {\n",
       "        text-align: left;\n",
       "    }\n",
       "\n",
       "    .dataframe tbody tr th {\n",
       "        vertical-align: top;\n",
       "    }\n",
       "</style>\n",
       "<table border=\"1\" class=\"dataframe\">\n",
       "  <thead>\n",
       "    <tr style=\"text-align: right;\">\n",
       "      <th></th>\n",
       "      <th></th>\n",
       "      <th>flug</th>\n",
       "      <th>fldg</th>\n",
       "      <th>fnetg</th>\n",
       "    </tr>\n",
       "    <tr>\n",
       "      <th>pressure</th>\n",
       "      <th>level</th>\n",
       "      <th></th>\n",
       "      <th></th>\n",
       "      <th></th>\n",
       "    </tr>\n",
       "  </thead>\n",
       "  <tbody>\n",
       "    <tr>\n",
       "      <th>0.0000</th>\n",
       "      <th>1</th>\n",
       "      <td>-35.012057</td>\n",
       "      <td>0.000000</td>\n",
       "      <td>-35.012057</td>\n",
       "    </tr>\n",
       "    <tr>\n",
       "      <th>1.0685</th>\n",
       "      <th>24</th>\n",
       "      <td>-35.011299</td>\n",
       "      <td>0.004676</td>\n",
       "      <td>-35.006624</td>\n",
       "    </tr>\n",
       "    <tr>\n",
       "      <th>1013.0000</th>\n",
       "      <th>76</th>\n",
       "      <td>-36.235408</td>\n",
       "      <td>2.713550</td>\n",
       "      <td>-33.521857</td>\n",
       "    </tr>\n",
       "  </tbody>\n",
       "</table>\n",
       "</div>"
      ],
      "text/plain": [
       "                      flug      fldg      fnetg\n",
       "pressure  level                                \n",
       "0.0000    1     -35.012057  0.000000 -35.012057\n",
       "1.0685    24    -35.011299  0.004676 -35.006624\n",
       "1013.0000 76    -36.235408  2.713550 -33.521857"
      ]
     },
     "metadata": {},
     "output_type": "display_data"
    },
    {
     "name": "stdout",
     "output_type": "stream",
     "text": [
      "Table. Fluxes. WGT igg=10 wgt_flux=1\n"
     ]
    },
    {
     "data": {
      "text/html": [
       "<div>\n",
       "<style>\n",
       "    .dataframe thead tr:only-child th {\n",
       "        text-align: right;\n",
       "    }\n",
       "\n",
       "    .dataframe thead th {\n",
       "        text-align: left;\n",
       "    }\n",
       "\n",
       "    .dataframe tbody tr th {\n",
       "        vertical-align: top;\n",
       "    }\n",
       "</style>\n",
       "<table border=\"1\" class=\"dataframe\">\n",
       "  <thead>\n",
       "    <tr style=\"text-align: right;\">\n",
       "      <th></th>\n",
       "      <th></th>\n",
       "      <th>flug</th>\n",
       "      <th>fldg</th>\n",
       "      <th>fnetg</th>\n",
       "    </tr>\n",
       "    <tr>\n",
       "      <th>pressure</th>\n",
       "      <th>level</th>\n",
       "      <th></th>\n",
       "      <th></th>\n",
       "      <th></th>\n",
       "    </tr>\n",
       "  </thead>\n",
       "  <tbody>\n",
       "    <tr>\n",
       "      <th>0.0000</th>\n",
       "      <th>1</th>\n",
       "      <td>-35.016069</td>\n",
       "      <td>0.000000</td>\n",
       "      <td>-35.016069</td>\n",
       "    </tr>\n",
       "    <tr>\n",
       "      <th>1.0685</th>\n",
       "      <th>24</th>\n",
       "      <td>-35.015788</td>\n",
       "      <td>0.004893</td>\n",
       "      <td>-35.010895</td>\n",
       "    </tr>\n",
       "    <tr>\n",
       "      <th>1013.0000</th>\n",
       "      <th>76</th>\n",
       "      <td>-36.235408</td>\n",
       "      <td>2.614575</td>\n",
       "      <td>-33.620833</td>\n",
       "    </tr>\n",
       "  </tbody>\n",
       "</table>\n",
       "</div>"
      ],
      "text/plain": [
       "                      flug      fldg      fnetg\n",
       "pressure  level                                \n",
       "0.0000    1     -35.016069  0.000000 -35.016069\n",
       "1.0685    24    -35.015788  0.004893 -35.010895\n",
       "1013.0000 76    -36.235408  2.614575 -33.620833"
      ]
     },
     "metadata": {},
     "output_type": "display_data"
    },
    {
     "name": "stdout",
     "output_type": "stream",
     "text": [
      "Table. Fluxes. CRD\n"
     ]
    },
    {
     "data": {
      "text/html": [
       "<div>\n",
       "<style>\n",
       "    .dataframe thead tr:only-child th {\n",
       "        text-align: right;\n",
       "    }\n",
       "\n",
       "    .dataframe thead th {\n",
       "        text-align: left;\n",
       "    }\n",
       "\n",
       "    .dataframe tbody tr th {\n",
       "        vertical-align: top;\n",
       "    }\n",
       "</style>\n",
       "<table border=\"1\" class=\"dataframe\">\n",
       "  <thead>\n",
       "    <tr style=\"text-align: right;\">\n",
       "      <th></th>\n",
       "      <th></th>\n",
       "      <th>flug</th>\n",
       "      <th>fldg</th>\n",
       "      <th>fnetg</th>\n",
       "    </tr>\n",
       "    <tr>\n",
       "      <th>pressure</th>\n",
       "      <th>level</th>\n",
       "      <th></th>\n",
       "      <th></th>\n",
       "      <th></th>\n",
       "    </tr>\n",
       "  </thead>\n",
       "  <tbody>\n",
       "    <tr>\n",
       "      <th>1.000000e-08</th>\n",
       "      <th>1</th>\n",
       "      <td>-35.056063</td>\n",
       "      <td>0.000002</td>\n",
       "      <td>-35.056060</td>\n",
       "    </tr>\n",
       "    <tr>\n",
       "      <th>1.068500e+00</th>\n",
       "      <th>24</th>\n",
       "      <td>-35.055267</td>\n",
       "      <td>0.004262</td>\n",
       "      <td>-35.051005</td>\n",
       "    </tr>\n",
       "    <tr>\n",
       "      <th>1.013000e+03</th>\n",
       "      <th>76</th>\n",
       "      <td>-36.235410</td>\n",
       "      <td>2.616788</td>\n",
       "      <td>-33.618622</td>\n",
       "    </tr>\n",
       "  </tbody>\n",
       "</table>\n",
       "</div>"
      ],
      "text/plain": [
       "                         flug      fldg      fnetg\n",
       "pressure     level                                \n",
       "1.000000e-08 1     -35.056063  0.000002 -35.056060\n",
       "1.068500e+00 24    -35.055267  0.004262 -35.051005\n",
       "1.013000e+03 76    -36.235410  2.616788 -33.618622"
      ]
     },
     "metadata": {},
     "output_type": "display_data"
    },
    {
     "name": "stdout",
     "output_type": "stream",
     "text": [
      "Table. Fluxes. CLIRAD\n"
     ]
    },
    {
     "data": {
      "text/html": [
       "<div>\n",
       "<style>\n",
       "    .dataframe thead tr:only-child th {\n",
       "        text-align: right;\n",
       "    }\n",
       "\n",
       "    .dataframe thead th {\n",
       "        text-align: left;\n",
       "    }\n",
       "\n",
       "    .dataframe tbody tr th {\n",
       "        vertical-align: top;\n",
       "    }\n",
       "</style>\n",
       "<table border=\"1\" class=\"dataframe\">\n",
       "  <thead>\n",
       "    <tr style=\"text-align: right;\">\n",
       "      <th></th>\n",
       "      <th></th>\n",
       "      <th>flug</th>\n",
       "      <th>fldg</th>\n",
       "      <th>fnetg</th>\n",
       "    </tr>\n",
       "    <tr>\n",
       "      <th>pressure</th>\n",
       "      <th>level</th>\n",
       "      <th></th>\n",
       "      <th></th>\n",
       "      <th></th>\n",
       "    </tr>\n",
       "  </thead>\n",
       "  <tbody>\n",
       "    <tr>\n",
       "      <th>0.0000</th>\n",
       "      <th>1</th>\n",
       "      <td>-4.011870e-03</td>\n",
       "      <td>0.000000</td>\n",
       "      <td>-0.004012</td>\n",
       "    </tr>\n",
       "    <tr>\n",
       "      <th>1.0685</th>\n",
       "      <th>24</th>\n",
       "      <td>-4.488580e-03</td>\n",
       "      <td>0.000216</td>\n",
       "      <td>-0.004271</td>\n",
       "    </tr>\n",
       "    <tr>\n",
       "      <th>1013.0000</th>\n",
       "      <th>76</th>\n",
       "      <td>1.100000e-07</td>\n",
       "      <td>-0.098975</td>\n",
       "      <td>-0.098976</td>\n",
       "    </tr>\n",
       "  </tbody>\n",
       "</table>\n",
       "</div>"
      ],
      "text/plain": [
       "                         flug      fldg     fnetg\n",
       "pressure  level                                  \n",
       "0.0000    1     -4.011870e-03  0.000000 -0.004012\n",
       "1.0685    24    -4.488580e-03  0.000216 -0.004271\n",
       "1013.0000 76     1.100000e-07 -0.098975 -0.098976"
      ]
     },
     "metadata": {},
     "output_type": "display_data"
    },
    {
     "name": "stdout",
     "output_type": "stream",
     "text": [
      "Table. Fluxes. (CRD) - (WGT igg=10 wgt_flux=1)\n"
     ]
    },
    {
     "data": {
      "text/html": [
       "<div>\n",
       "<style>\n",
       "    .dataframe thead tr:only-child th {\n",
       "        text-align: right;\n",
       "    }\n",
       "\n",
       "    .dataframe thead th {\n",
       "        text-align: left;\n",
       "    }\n",
       "\n",
       "    .dataframe tbody tr th {\n",
       "        vertical-align: top;\n",
       "    }\n",
       "</style>\n",
       "<table border=\"1\" class=\"dataframe\">\n",
       "  <thead>\n",
       "    <tr style=\"text-align: right;\">\n",
       "      <th></th>\n",
       "      <th></th>\n",
       "      <th>flug</th>\n",
       "      <th>fldg</th>\n",
       "      <th>fnetg</th>\n",
       "    </tr>\n",
       "    <tr>\n",
       "      <th>pressure</th>\n",
       "      <th>level</th>\n",
       "      <th></th>\n",
       "      <th></th>\n",
       "      <th></th>\n",
       "    </tr>\n",
       "  </thead>\n",
       "  <tbody>\n",
       "    <tr>\n",
       "      <th>0.0000</th>\n",
       "      <th>1</th>\n",
       "      <td>-0.044006</td>\n",
       "      <td>0.000002</td>\n",
       "      <td>-0.044003</td>\n",
       "    </tr>\n",
       "    <tr>\n",
       "      <th>1.0685</th>\n",
       "      <th>24</th>\n",
       "      <td>-0.043968</td>\n",
       "      <td>-0.000414</td>\n",
       "      <td>-0.044381</td>\n",
       "    </tr>\n",
       "    <tr>\n",
       "      <th>1013.0000</th>\n",
       "      <th>76</th>\n",
       "      <td>-0.000002</td>\n",
       "      <td>-0.096762</td>\n",
       "      <td>-0.096765</td>\n",
       "    </tr>\n",
       "  </tbody>\n",
       "</table>\n",
       "</div>"
      ],
      "text/plain": [
       "                     flug      fldg     fnetg\n",
       "pressure  level                              \n",
       "0.0000    1     -0.044006  0.000002 -0.044003\n",
       "1.0685    24    -0.043968 -0.000414 -0.044381\n",
       "1013.0000 76    -0.000002 -0.096762 -0.096765"
      ]
     },
     "metadata": {},
     "output_type": "display_data"
    },
    {
     "name": "stdout",
     "output_type": "stream",
     "text": [
      "Table. Fluxes. (CLIRAD) - (WGT igg=10 wgt_flux=1)\n"
     ]
    },
    {
     "data": {
      "text/html": [
       "<a id=\"Best-fit_Parameters\"></a>"
      ],
      "text/plain": [
       "<IPython.core.display.HTML object>"
      ]
     },
     "metadata": {},
     "output_type": "display_data"
    },
    {
     "data": {
      "text/markdown": [
       "# Best-fit Parameters"
      ],
      "text/plain": [
       "<IPython.core.display.Markdown object>"
      ]
     },
     "metadata": {},
     "output_type": "display_data"
    },
    {
     "name": "stdout",
     "output_type": "stream",
     "text": [
      "Best-fit values for each (gas, band)\n",
      "------------------------------------\n",
      "o n2o band3a\n",
      "  atmpro = mls\n",
      "  band = 3a\n",
      "  commitnumber = 2bd1f75\n",
      "  conc = 3.2e-07\n",
      "  dv = 0.01\n",
      "  klin = 2.22e-20\n",
      "  molecule = n2o\n",
      "  ng_adju = [0, 0]\n",
      "  ng_refs = [1, 2]\n",
      "  nv = 100\n",
      "  option_compute_btable = 0\n",
      "  option_compute_ktable = 1\n",
      "  option_wgt_flux = 1\n",
      "  option_wgt_k = 1\n",
      "  ref_pts = [(1, 250), (500, 250)]\n",
      "  tsfc = 294\n",
      "  vmax = 620\n",
      "  vmin = 540\n",
      "  w_diffuse = [(1.8,), (1.66, 1.8)]\n",
      "  wgt = [(0.9,), (0.5, 0.95)]\n"
     ]
    }
   ],
   "source": [
    "script()"
   ]
  },
  {
   "cell_type": "code",
   "execution_count": 13,
   "metadata": {
    "collapsed": true
   },
   "outputs": [
    {
     "data": {
      "text/html": [
       "<script>\n",
       "code_show=true; \n",
       "function code_toggle() {\n",
       " if (code_show){\n",
       " $('div.input').hide();\n",
       " } else {\n",
       " $('div.input').show();\n",
       " }\n",
       " code_show = !code_show\n",
       "} \n",
       "$( document ).ready(code_toggle);\n",
       "</script>\n",
       "<form action=\"javascript:code_toggle()\"><input type=\"submit\" value=\"Click here to toggle on/off the raw code.\"></form>"
      ],
      "text/plain": [
       "<IPython.core.display.HTML object>"
      ]
     },
     "execution_count": 13,
     "metadata": {},
     "output_type": "execute_result"
    }
   ],
   "source": [
    "display.HTML('''<script>\n",
    "code_show=true; \n",
    "function code_toggle() {\n",
    " if (code_show){\n",
    " $('div.input').hide();\n",
    " } else {\n",
    " $('div.input').show();\n",
    " }\n",
    " code_show = !code_show\n",
    "} \n",
    "$( document ).ready(code_toggle);\n",
    "</script>\n",
    "<form action=\"javascript:code_toggle()\"><input type=\"submit\" value=\"Click here to toggle on/off the raw code.\"></form>''')"
   ]
  }
 ],
 "metadata": {
  "kernelspec": {
   "display_name": "Python 3",
   "language": "python",
   "name": "python3"
  },
  "language_info": {
   "codemirror_mode": {
    "name": "ipython",
    "version": 3
   },
   "file_extension": ".py",
   "mimetype": "text/x-python",
   "name": "python",
   "nbconvert_exporter": "python",
   "pygments_lexer": "ipython3",
   "version": "3.6.1"
  }
 },
 "nbformat": 4,
 "nbformat_minor": 2
}
