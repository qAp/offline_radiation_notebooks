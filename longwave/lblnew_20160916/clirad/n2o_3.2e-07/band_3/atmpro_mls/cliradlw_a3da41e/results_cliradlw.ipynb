{
 "cells": [
  {
   "cell_type": "code",
   "execution_count": 1,
   "metadata": {
    "collapsed": true
   },
   "outputs": [],
   "source": [
    "%matplotlib inline\n",
    "import os\n",
    "import re\n",
    "import io\n",
    "import itertools\n",
    "import pprint\n",
    "\n",
    "from bokeh.io import output_notebook, show\n",
    "from bokeh.layouts import gridplot\n",
    "from bokeh.plotting import figure\n",
    "from bokeh.models import Range1d, Legend\n",
    "from bokeh.palettes import all_palettes\n",
    "\n",
    "import matplotlib\n",
    "import matplotlib.pyplot as plt\n",
    "import numpy as np\n",
    "import pandas as pd\n",
    "import xarray as xr\n",
    "\n",
    "import climatools.lblnew.bestfit_params as bestfits\n",
    "from climatools.lblnew import setup_bestfit, setup_overlap\n",
    "import climatools.lblnew.pipeline as pipe_lblnew\n",
    "import climatools.cliradlw.setup as setup_cliradlw\n",
    "import climatools.cliradlw.pipeline as pipe_cliradlw\n",
    "\n",
    "import climatools.html.html as climahtml\n",
    "from climatools.lblnew.dataio import *\n",
    "from climatools.plot.plot import *\n",
    "\n",
    "\n",
    "import IPython.display as display"
   ]
  },
  {
   "cell_type": "code",
   "execution_count": 2,
   "metadata": {
    "collapsed": true
   },
   "outputs": [],
   "source": [
    "%run param.py"
   ]
  },
  {
   "cell_type": "code",
   "execution_count": 3,
   "metadata": {
    "collapsed": true
   },
   "outputs": [],
   "source": [
    "def load_output_file(path_csv):\n",
    "    '''\n",
    "    Load lblnew output .csv file to xarray.Dataset\n",
    "    \n",
    "    Parameters\n",
    "    ----------\n",
    "    path_csv: str\n",
    "              Path to the .csv file to be loaded.\n",
    "    ds: xarray.Dataset\n",
    "        Data in the input file in the form of an xarray.Dataset.\n",
    "    '''\n",
    "    toindex = ['band', 'pressure', 'igg', 'g']    \n",
    "    df = pd.read_csv(path_csv, sep=r'\\s+')\n",
    "    df = df.set_index([i for i in toindex if i in df.columns])\n",
    "    df = df.rename(columns={'sfu': 'flug',\n",
    "                            'sfd': 'fldg',\n",
    "                            'fnet': 'fnetg',\n",
    "                            'coolr': 'coolrg'})\n",
    "    ds = xr.Dataset.from_dataframe(df)\n",
    "\n",
    "    for l in ('level', 'layer'):\n",
    "        if l in ds.data_vars:\n",
    "            if len(ds[l].dims) > 1:\n",
    "                surface = {d: 0 for d in ds.dims if d != 'pressure'}\n",
    "                coord_level = ds[l][surface]\n",
    "                ds.coords[l] = ('pressure', coord_level)\n",
    "            else:\n",
    "                ds.coords[l] = ('pressure', ds[l])\n",
    "    \n",
    "    return ds"
   ]
  },
  {
   "cell_type": "code",
   "execution_count": 4,
   "metadata": {
    "collapsed": true
   },
   "outputs": [],
   "source": [
    "def lblnew_setup(param=None):\n",
    "    if 'ng_refs' in param:\n",
    "        return {'setup': setup_bestfit,\n",
    "                'fname_flux_crd': 'output_flux.dat',\n",
    "                'fname_cool_crd': 'output_coolr.dat',\n",
    "                'fname_flux_wgt': 'output_wfluxg.dat',\n",
    "                'fname_cool_wgt': 'output_wcoolrg.dat'}\n",
    "    else:\n",
    "        return {'setup': setup_overlap,\n",
    "                'fname_flux_crd': 'output_flux.dat',\n",
    "                'fname_cool_crd': 'output_coolr.dat',\n",
    "                'fname_flux_wgt': 'output_wflux.dat',\n",
    "                'fname_cool_wgt': 'output_wcoolr.dat'}\n",
    "\n",
    "    \n",
    "def load_lblnew_data(param):\n",
    "    \n",
    "    fname_dsname = [('fname_flux_crd', 'ds_flux_crd'),\n",
    "                    ('fname_cool_crd', 'ds_cool_crd'),\n",
    "                    ('fname_flux_wgt', 'ds_flux_wgt'),\n",
    "                    ('fname_cool_wgt', 'ds_cool_wgt')]\n",
    "    \n",
    "    d = lblnew_setup(param)\n",
    "    dir_fortran = pipe_lblnew.get_dir_case(param, setup=d['setup'])\n",
    "    \n",
    "    data_dict = {}\n",
    "    for fname, dsname in fname_dsname:\n",
    "        fpath = os.path.join(dir_fortran, d[fname])\n",
    "        data_dict[dsname] = load_output_file(fpath)\n",
    "    return data_dict\n",
    "    \n",
    "\n",
    "    \n",
    "    "
   ]
  },
  {
   "cell_type": "code",
   "execution_count": 5,
   "metadata": {
    "collapsed": true
   },
   "outputs": [],
   "source": [
    "d = load_lblnew_data(PARAM_LBLNEW)\n",
    "\n",
    "DS_FLUX_CRD = d['ds_flux_crd']\n",
    "DS_COOL_CRD = d['ds_cool_crd']\n",
    "DS_FLUX_WGT = d['ds_flux_wgt']\n",
    "DS_COOL_WGT = d['ds_cool_wgt']"
   ]
  },
  {
   "cell_type": "code",
   "execution_count": 6,
   "metadata": {
    "collapsed": true
   },
   "outputs": [],
   "source": [
    "DIR_FORTRAN = pipe_cliradlw.get_fortran_dir(PARAM, \n",
    "                                            setup=setup_cliradlw)\n",
    "\n",
    "PATH_FLUX = os.path.join(DIR_FORTRAN, 'output_flux.dat')\n",
    "PATH_COOL = os.path.join(DIR_FORTRAN, 'output_coolr.dat')\n",
    "\n",
    "DS_FLUX = load_output_file(PATH_FLUX)\n",
    "DS_COOL = load_output_file(PATH_COOL)"
   ]
  },
  {
   "cell_type": "code",
   "execution_count": 7,
   "metadata": {
    "collapsed": true
   },
   "outputs": [
    {
     "name": "stdout",
     "output_type": "stream",
     "text": [
      "The history saving thread hit an unexpected error (OperationalError('database is locked',)).History will not be written to the database."
     ]
    },
    {
     "data": {
      "text/html": [
       "\n",
       "    <div class=\"bk-root\">\n",
       "        <a href=\"https://bokeh.pydata.org\" target=\"_blank\" class=\"bk-logo bk-logo-small bk-logo-notebook\"></a>\n",
       "        <span id=\"2dcc1e06-79dc-4502-b9a2-d95037b25909\">Loading BokehJS ...</span>\n",
       "    </div>"
      ]
     },
     "metadata": {},
     "output_type": "display_data"
    },
    {
     "name": "stdout",
     "output_type": "stream",
     "text": [
      "\n"
     ]
    },
    {
     "data": {
      "application/javascript": [
       "\n",
       "(function(root) {\n",
       "  function now() {\n",
       "    return new Date();\n",
       "  }\n",
       "\n",
       "  var force = true;\n",
       "\n",
       "  if (typeof (root._bokeh_onload_callbacks) === \"undefined\" || force === true) {\n",
       "    root._bokeh_onload_callbacks = [];\n",
       "    root._bokeh_is_loading = undefined;\n",
       "  }\n",
       "\n",
       "  var JS_MIME_TYPE = 'application/javascript';\n",
       "  var HTML_MIME_TYPE = 'text/html';\n",
       "  var EXEC_MIME_TYPE = 'application/vnd.bokehjs_exec.v0+json';\n",
       "  var CLASS_NAME = 'output_bokeh rendered_html';\n",
       "\n",
       "  /**\n",
       "   * Render data to the DOM node\n",
       "   */\n",
       "  function render(props, node) {\n",
       "    var script = document.createElement(\"script\");\n",
       "    node.appendChild(script);\n",
       "  }\n",
       "\n",
       "  /**\n",
       "   * Handle when an output is cleared or removed\n",
       "   */\n",
       "  function handleClearOutput(event, handle) {\n",
       "    var cell = handle.cell;\n",
       "\n",
       "    var id = cell.output_area._bokeh_element_id;\n",
       "    var server_id = cell.output_area._bokeh_server_id;\n",
       "    // Clean up Bokeh references\n",
       "    if (id !== undefined) {\n",
       "      Bokeh.index[id].model.document.clear();\n",
       "      delete Bokeh.index[id];\n",
       "    }\n",
       "\n",
       "    if (server_id !== undefined) {\n",
       "      // Clean up Bokeh references\n",
       "      var cmd = \"from bokeh.io.state import curstate; print(curstate().uuid_to_server['\" + server_id + \"'].get_sessions()[0].document.roots[0]._id)\";\n",
       "      cell.notebook.kernel.execute(cmd, {\n",
       "        iopub: {\n",
       "          output: function(msg) {\n",
       "            var element_id = msg.content.text.trim();\n",
       "            Bokeh.index[element_id].model.document.clear();\n",
       "            delete Bokeh.index[element_id];\n",
       "          }\n",
       "        }\n",
       "      });\n",
       "      // Destroy server and session\n",
       "      var cmd = \"import bokeh.io.notebook as ion; ion.destroy_server('\" + server_id + \"')\";\n",
       "      cell.notebook.kernel.execute(cmd);\n",
       "    }\n",
       "  }\n",
       "\n",
       "  /**\n",
       "   * Handle when a new output is added\n",
       "   */\n",
       "  function handleAddOutput(event, handle) {\n",
       "    var output_area = handle.output_area;\n",
       "    var output = handle.output;\n",
       "\n",
       "    // limit handleAddOutput to display_data with EXEC_MIME_TYPE content only\n",
       "    if ((output.output_type != \"display_data\") || (!output.data.hasOwnProperty(EXEC_MIME_TYPE))) {\n",
       "      return\n",
       "    }\n",
       "\n",
       "    var toinsert = output_area.element.find(\".\" + CLASS_NAME.split(' ')[0]);\n",
       "\n",
       "    if (output.metadata[EXEC_MIME_TYPE][\"id\"] !== undefined) {\n",
       "      toinsert[0].firstChild.textContent = output.data[JS_MIME_TYPE];\n",
       "      // store reference to embed id on output_area\n",
       "      output_area._bokeh_element_id = output.metadata[EXEC_MIME_TYPE][\"id\"];\n",
       "    }\n",
       "    if (output.metadata[EXEC_MIME_TYPE][\"server_id\"] !== undefined) {\n",
       "      var bk_div = document.createElement(\"div\");\n",
       "      bk_div.innerHTML = output.data[HTML_MIME_TYPE];\n",
       "      var script_attrs = bk_div.children[0].attributes;\n",
       "      for (var i = 0; i < script_attrs.length; i++) {\n",
       "        toinsert[0].firstChild.setAttribute(script_attrs[i].name, script_attrs[i].value);\n",
       "      }\n",
       "      // store reference to server id on output_area\n",
       "      output_area._bokeh_server_id = output.metadata[EXEC_MIME_TYPE][\"server_id\"];\n",
       "    }\n",
       "  }\n",
       "\n",
       "  function register_renderer(events, OutputArea) {\n",
       "\n",
       "    function append_mime(data, metadata, element) {\n",
       "      // create a DOM node to render to\n",
       "      var toinsert = this.create_output_subarea(\n",
       "        metadata,\n",
       "        CLASS_NAME,\n",
       "        EXEC_MIME_TYPE\n",
       "      );\n",
       "      this.keyboard_manager.register_events(toinsert);\n",
       "      // Render to node\n",
       "      var props = {data: data, metadata: metadata[EXEC_MIME_TYPE]};\n",
       "      render(props, toinsert[0]);\n",
       "      element.append(toinsert);\n",
       "      return toinsert\n",
       "    }\n",
       "\n",
       "    /* Handle when an output is cleared or removed */\n",
       "    events.on('clear_output.CodeCell', handleClearOutput);\n",
       "    events.on('delete.Cell', handleClearOutput);\n",
       "\n",
       "    /* Handle when a new output is added */\n",
       "    events.on('output_added.OutputArea', handleAddOutput);\n",
       "\n",
       "    /**\n",
       "     * Register the mime type and append_mime function with output_area\n",
       "     */\n",
       "    OutputArea.prototype.register_mime_type(EXEC_MIME_TYPE, append_mime, {\n",
       "      /* Is output safe? */\n",
       "      safe: true,\n",
       "      /* Index of renderer in `output_area.display_order` */\n",
       "      index: 0\n",
       "    });\n",
       "  }\n",
       "\n",
       "  // register the mime type if in Jupyter Notebook environment and previously unregistered\n",
       "  if (root.Jupyter !== undefined) {\n",
       "    var events = require('base/js/events');\n",
       "    var OutputArea = require('notebook/js/outputarea').OutputArea;\n",
       "\n",
       "    if (OutputArea.prototype.mime_types().indexOf(EXEC_MIME_TYPE) == -1) {\n",
       "      register_renderer(events, OutputArea);\n",
       "    }\n",
       "  }\n",
       "\n",
       "  \n",
       "  if (typeof (root._bokeh_timeout) === \"undefined\" || force === true) {\n",
       "    root._bokeh_timeout = Date.now() + 5000;\n",
       "    root._bokeh_failed_load = false;\n",
       "  }\n",
       "\n",
       "  var NB_LOAD_WARNING = {'data': {'text/html':\n",
       "     \"<div style='background-color: #fdd'>\\n\"+\n",
       "     \"<p>\\n\"+\n",
       "     \"BokehJS does not appear to have successfully loaded. If loading BokehJS from CDN, this \\n\"+\n",
       "     \"may be due to a slow or bad network connection. Possible fixes:\\n\"+\n",
       "     \"</p>\\n\"+\n",
       "     \"<ul>\\n\"+\n",
       "     \"<li>re-rerun `output_notebook()` to attempt to load from CDN again, or</li>\\n\"+\n",
       "     \"<li>use INLINE resources instead, as so:</li>\\n\"+\n",
       "     \"</ul>\\n\"+\n",
       "     \"<code>\\n\"+\n",
       "     \"from bokeh.resources import INLINE\\n\"+\n",
       "     \"output_notebook(resources=INLINE)\\n\"+\n",
       "     \"</code>\\n\"+\n",
       "     \"</div>\"}};\n",
       "\n",
       "  function display_loaded() {\n",
       "    var el = document.getElementById(\"2dcc1e06-79dc-4502-b9a2-d95037b25909\");\n",
       "    if (el != null) {\n",
       "      el.textContent = \"BokehJS is loading...\";\n",
       "    }\n",
       "    if (root.Bokeh !== undefined) {\n",
       "      if (el != null) {\n",
       "        el.textContent = \"BokehJS \" + root.Bokeh.version + \" successfully loaded.\";\n",
       "      }\n",
       "    } else if (Date.now() < root._bokeh_timeout) {\n",
       "      setTimeout(display_loaded, 100)\n",
       "    }\n",
       "  }\n",
       "\n",
       "\n",
       "  function run_callbacks() {\n",
       "    try {\n",
       "      root._bokeh_onload_callbacks.forEach(function(callback) { callback() });\n",
       "    }\n",
       "    finally {\n",
       "      delete root._bokeh_onload_callbacks\n",
       "    }\n",
       "    console.info(\"Bokeh: all callbacks have finished\");\n",
       "  }\n",
       "\n",
       "  function load_libs(js_urls, callback) {\n",
       "    root._bokeh_onload_callbacks.push(callback);\n",
       "    if (root._bokeh_is_loading > 0) {\n",
       "      console.log(\"Bokeh: BokehJS is being loaded, scheduling callback at\", now());\n",
       "      return null;\n",
       "    }\n",
       "    if (js_urls == null || js_urls.length === 0) {\n",
       "      run_callbacks();\n",
       "      return null;\n",
       "    }\n",
       "    console.log(\"Bokeh: BokehJS not loaded, scheduling load and callback at\", now());\n",
       "    root._bokeh_is_loading = js_urls.length;\n",
       "    for (var i = 0; i < js_urls.length; i++) {\n",
       "      var url = js_urls[i];\n",
       "      var s = document.createElement('script');\n",
       "      s.src = url;\n",
       "      s.async = false;\n",
       "      s.onreadystatechange = s.onload = function() {\n",
       "        root._bokeh_is_loading--;\n",
       "        if (root._bokeh_is_loading === 0) {\n",
       "          console.log(\"Bokeh: all BokehJS libraries loaded\");\n",
       "          run_callbacks()\n",
       "        }\n",
       "      };\n",
       "      s.onerror = function() {\n",
       "        console.warn(\"failed to load library \" + url);\n",
       "      };\n",
       "      console.log(\"Bokeh: injecting script tag for BokehJS library: \", url);\n",
       "      document.getElementsByTagName(\"head\")[0].appendChild(s);\n",
       "    }\n",
       "  };var element = document.getElementById(\"2dcc1e06-79dc-4502-b9a2-d95037b25909\");\n",
       "  if (element == null) {\n",
       "    console.log(\"Bokeh: ERROR: autoload.js configured with elementid '2dcc1e06-79dc-4502-b9a2-d95037b25909' but no matching script tag was found. \")\n",
       "    return false;\n",
       "  }\n",
       "\n",
       "  var js_urls = [\"https://cdn.pydata.org/bokeh/release/bokeh-0.12.14.min.js\", \"https://cdn.pydata.org/bokeh/release/bokeh-widgets-0.12.14.min.js\", \"https://cdn.pydata.org/bokeh/release/bokeh-tables-0.12.14.min.js\", \"https://cdn.pydata.org/bokeh/release/bokeh-gl-0.12.14.min.js\"];\n",
       "\n",
       "  var inline_js = [\n",
       "    function(Bokeh) {\n",
       "      Bokeh.set_log_level(\"info\");\n",
       "    },\n",
       "    \n",
       "    function(Bokeh) {\n",
       "      \n",
       "    },\n",
       "    function(Bokeh) {\n",
       "      console.log(\"Bokeh: injecting CSS: https://cdn.pydata.org/bokeh/release/bokeh-0.12.14.min.css\");\n",
       "      Bokeh.embed.inject_css(\"https://cdn.pydata.org/bokeh/release/bokeh-0.12.14.min.css\");\n",
       "      console.log(\"Bokeh: injecting CSS: https://cdn.pydata.org/bokeh/release/bokeh-widgets-0.12.14.min.css\");\n",
       "      Bokeh.embed.inject_css(\"https://cdn.pydata.org/bokeh/release/bokeh-widgets-0.12.14.min.css\");\n",
       "      console.log(\"Bokeh: injecting CSS: https://cdn.pydata.org/bokeh/release/bokeh-tables-0.12.14.min.css\");\n",
       "      Bokeh.embed.inject_css(\"https://cdn.pydata.org/bokeh/release/bokeh-tables-0.12.14.min.css\");\n",
       "    }\n",
       "  ];\n",
       "\n",
       "  function run_inline_js() {\n",
       "    \n",
       "    if ((root.Bokeh !== undefined) || (force === true)) {\n",
       "      for (var i = 0; i < inline_js.length; i++) {\n",
       "        inline_js[i].call(root, root.Bokeh);\n",
       "      }if (force === true) {\n",
       "        display_loaded();\n",
       "      }} else if (Date.now() < root._bokeh_timeout) {\n",
       "      setTimeout(run_inline_js, 100);\n",
       "    } else if (!root._bokeh_failed_load) {\n",
       "      console.log(\"Bokeh: BokehJS failed to load within specified timeout.\");\n",
       "      root._bokeh_failed_load = true;\n",
       "    } else if (force !== true) {\n",
       "      var cell = $(document.getElementById(\"2dcc1e06-79dc-4502-b9a2-d95037b25909\")).parents('.cell').data().cell;\n",
       "      cell.output_area.append_execute_result(NB_LOAD_WARNING)\n",
       "    }\n",
       "\n",
       "  }\n",
       "\n",
       "  if (root._bokeh_is_loading === 0) {\n",
       "    console.log(\"Bokeh: BokehJS loaded, going straight to plotting\");\n",
       "    run_inline_js();\n",
       "  } else {\n",
       "    load_libs(js_urls, function() {\n",
       "      console.log(\"Bokeh: BokehJS plotting callback run at\", now());\n",
       "      run_inline_js();\n",
       "    });\n",
       "  }\n",
       "}(window));"
      ],
      "application/vnd.bokehjs_load.v0+json": "\n(function(root) {\n  function now() {\n    return new Date();\n  }\n\n  var force = true;\n\n  if (typeof (root._bokeh_onload_callbacks) === \"undefined\" || force === true) {\n    root._bokeh_onload_callbacks = [];\n    root._bokeh_is_loading = undefined;\n  }\n\n  \n\n  \n  if (typeof (root._bokeh_timeout) === \"undefined\" || force === true) {\n    root._bokeh_timeout = Date.now() + 5000;\n    root._bokeh_failed_load = false;\n  }\n\n  var NB_LOAD_WARNING = {'data': {'text/html':\n     \"<div style='background-color: #fdd'>\\n\"+\n     \"<p>\\n\"+\n     \"BokehJS does not appear to have successfully loaded. If loading BokehJS from CDN, this \\n\"+\n     \"may be due to a slow or bad network connection. Possible fixes:\\n\"+\n     \"</p>\\n\"+\n     \"<ul>\\n\"+\n     \"<li>re-rerun `output_notebook()` to attempt to load from CDN again, or</li>\\n\"+\n     \"<li>use INLINE resources instead, as so:</li>\\n\"+\n     \"</ul>\\n\"+\n     \"<code>\\n\"+\n     \"from bokeh.resources import INLINE\\n\"+\n     \"output_notebook(resources=INLINE)\\n\"+\n     \"</code>\\n\"+\n     \"</div>\"}};\n\n  function display_loaded() {\n    var el = document.getElementById(\"2dcc1e06-79dc-4502-b9a2-d95037b25909\");\n    if (el != null) {\n      el.textContent = \"BokehJS is loading...\";\n    }\n    if (root.Bokeh !== undefined) {\n      if (el != null) {\n        el.textContent = \"BokehJS \" + root.Bokeh.version + \" successfully loaded.\";\n      }\n    } else if (Date.now() < root._bokeh_timeout) {\n      setTimeout(display_loaded, 100)\n    }\n  }\n\n\n  function run_callbacks() {\n    try {\n      root._bokeh_onload_callbacks.forEach(function(callback) { callback() });\n    }\n    finally {\n      delete root._bokeh_onload_callbacks\n    }\n    console.info(\"Bokeh: all callbacks have finished\");\n  }\n\n  function load_libs(js_urls, callback) {\n    root._bokeh_onload_callbacks.push(callback);\n    if (root._bokeh_is_loading > 0) {\n      console.log(\"Bokeh: BokehJS is being loaded, scheduling callback at\", now());\n      return null;\n    }\n    if (js_urls == null || js_urls.length === 0) {\n      run_callbacks();\n      return null;\n    }\n    console.log(\"Bokeh: BokehJS not loaded, scheduling load and callback at\", now());\n    root._bokeh_is_loading = js_urls.length;\n    for (var i = 0; i < js_urls.length; i++) {\n      var url = js_urls[i];\n      var s = document.createElement('script');\n      s.src = url;\n      s.async = false;\n      s.onreadystatechange = s.onload = function() {\n        root._bokeh_is_loading--;\n        if (root._bokeh_is_loading === 0) {\n          console.log(\"Bokeh: all BokehJS libraries loaded\");\n          run_callbacks()\n        }\n      };\n      s.onerror = function() {\n        console.warn(\"failed to load library \" + url);\n      };\n      console.log(\"Bokeh: injecting script tag for BokehJS library: \", url);\n      document.getElementsByTagName(\"head\")[0].appendChild(s);\n    }\n  };var element = document.getElementById(\"2dcc1e06-79dc-4502-b9a2-d95037b25909\");\n  if (element == null) {\n    console.log(\"Bokeh: ERROR: autoload.js configured with elementid '2dcc1e06-79dc-4502-b9a2-d95037b25909' but no matching script tag was found. \")\n    return false;\n  }\n\n  var js_urls = [\"https://cdn.pydata.org/bokeh/release/bokeh-0.12.14.min.js\", \"https://cdn.pydata.org/bokeh/release/bokeh-widgets-0.12.14.min.js\", \"https://cdn.pydata.org/bokeh/release/bokeh-tables-0.12.14.min.js\", \"https://cdn.pydata.org/bokeh/release/bokeh-gl-0.12.14.min.js\"];\n\n  var inline_js = [\n    function(Bokeh) {\n      Bokeh.set_log_level(\"info\");\n    },\n    \n    function(Bokeh) {\n      \n    },\n    function(Bokeh) {\n      console.log(\"Bokeh: injecting CSS: https://cdn.pydata.org/bokeh/release/bokeh-0.12.14.min.css\");\n      Bokeh.embed.inject_css(\"https://cdn.pydata.org/bokeh/release/bokeh-0.12.14.min.css\");\n      console.log(\"Bokeh: injecting CSS: https://cdn.pydata.org/bokeh/release/bokeh-widgets-0.12.14.min.css\");\n      Bokeh.embed.inject_css(\"https://cdn.pydata.org/bokeh/release/bokeh-widgets-0.12.14.min.css\");\n      console.log(\"Bokeh: injecting CSS: https://cdn.pydata.org/bokeh/release/bokeh-tables-0.12.14.min.css\");\n      Bokeh.embed.inject_css(\"https://cdn.pydata.org/bokeh/release/bokeh-tables-0.12.14.min.css\");\n    }\n  ];\n\n  function run_inline_js() {\n    \n    if ((root.Bokeh !== undefined) || (force === true)) {\n      for (var i = 0; i < inline_js.length; i++) {\n        inline_js[i].call(root, root.Bokeh);\n      }if (force === true) {\n        display_loaded();\n      }} else if (Date.now() < root._bokeh_timeout) {\n      setTimeout(run_inline_js, 100);\n    } else if (!root._bokeh_failed_load) {\n      console.log(\"Bokeh: BokehJS failed to load within specified timeout.\");\n      root._bokeh_failed_load = true;\n    } else if (force !== true) {\n      var cell = $(document.getElementById(\"2dcc1e06-79dc-4502-b9a2-d95037b25909\")).parents('.cell').data().cell;\n      cell.output_area.append_execute_result(NB_LOAD_WARNING)\n    }\n\n  }\n\n  if (root._bokeh_is_loading === 0) {\n    console.log(\"Bokeh: BokehJS loaded, going straight to plotting\");\n    run_inline_js();\n  } else {\n    load_libs(js_urls, function() {\n      console.log(\"Bokeh: BokehJS plotting callback run at\", now());\n      run_inline_js();\n    });\n  }\n}(window));"
     },
     "metadata": {},
     "output_type": "display_data"
    }
   ],
   "source": [
    "output_notebook()"
   ]
  },
  {
   "cell_type": "code",
   "execution_count": 8,
   "metadata": {
    "collapsed": true
   },
   "outputs": [],
   "source": [
    "def fmt_cool(ds_in):\n",
    "    ds = ds_in.copy(deep=True)\n",
    "    if 'igg' in ds.dims:\n",
    "        ds = ds.sel(igg=1)\n",
    "\n",
    "    if 'g' in ds.dims:\n",
    "        ds = ds.sum('g')\n",
    "            \n",
    "    if 'band' in ds.dims:\n",
    "        try:\n",
    "            ds = ds.squeeze('band')\n",
    "        except ValueError:\n",
    "            ds = ds.sum('band')\n",
    "                \n",
    "    return ds['coolrg']\n",
    "\n",
    "\n",
    "def pltdata_cooling_1(ds_cool=None,\n",
    "                      ds_cool_crd=None, ds_cool_wgt=None):\n",
    "    \n",
    "\n",
    "\n",
    "    colors = all_palettes['Set1'][4]\n",
    "    data = [{'label': 'CLIRAD `coolr_bands`',\n",
    "             'srs': fmt_cool(ds_cool),\n",
    "             'line_dash': 'dashed', 'line_width': 5,\n",
    "             'color': colors[0], 'alpha': .6},\n",
    "            {'label': 'CRD',\n",
    "             'srs': fmt_cool(ds_cool_crd),\n",
    "             'line_dash': 'solid', 'line_width': 1.5,\n",
    "             'marker': 'circle', 'marker_size': 5,\n",
    "             'color': colors[2], 'alpha': 1,},\n",
    "            {'label': 'WGT igg=10 wgt_flux=2',\n",
    "             'srs': fmt_cool(ds_cool_wgt),\n",
    "             'line_dash': 'solid', 'line_width': 3,\n",
    "             'marker': 'square', 'marker_size': 5,\n",
    "             'color': colors[3], 'alpha': .6}]\n",
    "    return data\n",
    "\n",
    "\n",
    "def nice_xlims(pltdata=None, prange=None):\n",
    "    \n",
    "    def get_slice(srs):\n",
    "        return srs.sel(pressure=slice(*prange))\n",
    "    \n",
    "    srss = [d['srs'] for d in pltdata]\n",
    "    vmin = min([get_slice(srs).min() for srs in srss])\n",
    "    vmax = max([get_slice(srs).max() for srs in srss])\n",
    "    dv = (vmax - vmin) * .01\n",
    "    return float(vmin - dv), float(vmax + dv)\n",
    "    \n",
    "\n",
    "def plt_cooling_bokeh(pltdata=None):\n",
    "    '''\n",
    "    Plot a list of cooling rate profiles using bokeh.\n",
    "    '''\n",
    "    ymin = 1e-2 \n",
    "    ymax = 1020 \n",
    "        \n",
    "    p1 = figure(title=\"Linear pressure scale\", \n",
    "                plot_width=400)        \n",
    "    xmin, xmax = nice_xlims(pltdata, prange=(50, 1050))\n",
    "    for d in pltdata:\n",
    "        if 'marker' in d:\n",
    "            getattr(p1, d['marker'])(d['srs'].values, \n",
    "                    d['srs'].coords['pressure'].values,\n",
    "                    color=d['color'], alpha=.7)\n",
    "        p1.line(d['srs'].values, \n",
    "                d['srs'].coords['pressure'].values,\n",
    "                color=d['color'], alpha=d['alpha'], \n",
    "                line_width=d['line_width'], line_dash=d['line_dash'])\n",
    "    \n",
    "    p1.y_range = Range1d(ymax, ymin)\n",
    "    p1.yaxis.axis_label = 'pressure [mb]'   \n",
    "    p1.x_range = Range1d(xmin, xmax)\n",
    "    p1.xaxis.axis_label = 'cooling rate [K/day]'\n",
    "            \n",
    "    p2 = figure(title='Log pressure scale', y_axis_type='log',\n",
    "                plot_width=560)\n",
    "    xmin, xmax = nice_xlims(pltdata, prange=(.01, 200))\n",
    "    \n",
    "    rs = []\n",
    "    for d in pltdata:\n",
    "        rd = []\n",
    "        if 'marker' in d:\n",
    "            r_mark = getattr(p2, d['marker'])(d['srs'].values, \n",
    "                        d['srs'].coords['pressure'].values,\n",
    "                        color=d['color'], alpha=.7)\n",
    "            rd.append(r_mark)\n",
    "        r_line = p2.line(d['srs'].values, \n",
    "                    d['srs'].coords['pressure'].values,\n",
    "                    color=d['color'], alpha=d['alpha'], \n",
    "                    line_width=d['line_width'], line_dash=d['line_dash'])\n",
    "        rd.append(r_line)\n",
    "      \n",
    "        rs.append(rd)\n",
    "        \n",
    "    p2.y_range = Range1d(ymax, ymin)  \n",
    "    p2.yaxis.axis_label = 'pressure [mb]'\n",
    "    \n",
    "    p2.x_range = Range1d(xmin, xmax)\n",
    "    p2.xaxis.axis_label = 'cooling rate [K/day]'\n",
    "    \n",
    "    items = [(d['label'], r) for r, d in zip(rs, pltdata)]\n",
    "    legend = Legend(items=items, location=(10, -30))\n",
    "    legend.label_text_font_size = '8pt'\n",
    "    \n",
    "    p2.add_layout(legend, 'right')  \n",
    "    \n",
    "    show(gridplot(p1, p2, ncols=2, plot_height=500))\n",
    "    \n",
    "\n",
    "def script_plt_cooling():\n",
    "    pltdata = pltdata_cooling_1(\n",
    "        ds_cool=DS_COOL,\n",
    "        ds_cool_crd=DS_COOL_CRD,\n",
    "        ds_cool_wgt=DS_COOL_WGT)\n",
    "    plt_cooling_bokeh(pltdata=pltdata)\n",
    "    print('''FIGURE. Cooling rate profiles.''')"
   ]
  },
  {
   "cell_type": "code",
   "execution_count": 9,
   "metadata": {
    "collapsed": true
   },
   "outputs": [],
   "source": [
    "def fmt_flux(ds_in):\n",
    "    ds = ds_in.copy(deep=True)\n",
    "    \n",
    "    for l in ('level', 'layer'):\n",
    "        if l in ds.data_vars:\n",
    "            if len(ds[l].dims) > 1:\n",
    "                surface = {d: 0 for d in ds.dims if d != 'pressure'}\n",
    "                coord_level = ds[l][surface]\n",
    "                ds.coords[l] = ('pressure', coord_level)\n",
    "            else:\n",
    "                ds.coords[l] = ('pressure', ds[l])\n",
    "        \n",
    "    ds = ds.isel(pressure=[0, 23, -1])\n",
    "        \n",
    "    if 'igg' in ds.dims:\n",
    "        ds = ds.sel(igg=[1])\n",
    "        ds = ds.squeeze('igg').drop('igg')\n",
    "    \n",
    "    if 'g' in ds.dims:\n",
    "        ds = ds.sum('g')\n",
    "            \n",
    "    if 'band' in ds.dims:\n",
    "        try:\n",
    "            ds = ds.squeeze('band').drop('band')\n",
    "        except ValueError:\n",
    "            ds = ds.sum('band')\n",
    "                \n",
    "    df = ds.to_dataframe()\n",
    "    df = df.set_index('level', append=True)               \n",
    "    return df\n",
    "\n",
    "\n",
    "def tbdata_flux(ds_flux=None, ds_flux_crd=None, ds_flux_wgt=None):\n",
    "    ilevels = [0, 23, -1]\n",
    "            \n",
    "    benchmark = {'label': 'WGT igg=10 wgt_flux=1',\n",
    "                 'df': fmt_flux(ds_flux_wgt)}\n",
    "    \n",
    "    tbs = [{'label': 'CRD',\n",
    "            'df': fmt_flux(ds_flux_crd)},\n",
    "           {'label': 'CLIRAD',\n",
    "            'df': fmt_flux(ds_flux)}]\n",
    "    \n",
    "    data = {'benchmark': benchmark, 'others': tbs}\n",
    "    return data\n",
    "\n",
    "\n",
    "def tb_flux(tbdata=None):\n",
    "    benchmark = tbdata['benchmark']\n",
    "    others = tbdata['others']\n",
    "    \n",
    "    def show_tb(d=None):\n",
    "        display.display(d['df'])\n",
    "        print('Table.', 'Fluxes.', d['label'])\n",
    "        \n",
    "    def show_tbdiff(d0=None, d=None):\n",
    "        df = d['df']\n",
    "        df.index = d0['df'].index\n",
    "        display.display(df - d0['df'])\n",
    "        print('Table.', 'Fluxes.', \n",
    "              '({}) - ({})'.format(d['label'], d0['label']))\n",
    "        \n",
    "    show_tb(benchmark)\n",
    "    for d in others:\n",
    "        show_tb(d)\n",
    "        \n",
    "    for d in others:\n",
    "        show_tbdiff(d=d, d0=benchmark)\n",
    "        \n",
    "        \n",
    "def script_tb_flux():\n",
    "    data = tbdata_flux(ds_flux=DS_FLUX,\n",
    "                       ds_flux_crd=DS_FLUX_CRD,\n",
    "                       ds_flux_wgt=DS_FLUX_WGT)\n",
    "    tb_flux(tbdata=data)"
   ]
  },
  {
   "cell_type": "code",
   "execution_count": 10,
   "metadata": {
    "collapsed": true
   },
   "outputs": [],
   "source": [
    "def band_map():\n",
    "    '''\n",
    "    Maps spectral bands in lblnew to spectral bands in clirad.\n",
    "    '''\n",
    "    lblnew2clirad = {'1': '1',\n",
    "            '2': '2',\n",
    "            '3a': '3',\n",
    "            '3b': '4',\n",
    "            '3c': '5',\n",
    "            '4': '6', \n",
    "            '5': '7',\n",
    "            '6': '8',\n",
    "            '7': '9', \n",
    "            '8': '10',\n",
    "            '9': '11'}\n",
    "    \n",
    "    clirad2lblnew = {clirad: lblnew \n",
    "                     for lblnew, clirad in lblnew2clirad.items()}\n",
    "    return clirad2lblnew\n",
    "\n",
    "\n",
    "def gasbands():\n",
    "    bmap = band_map()\n",
    "    gases = list(PARAM['molecule'].keys())\n",
    "    \n",
    "    bands = [bmap[str(b)] for b in PARAM['band']]\n",
    "    return list(itertools.product(gases, bands))\n",
    "\n",
    "\n",
    "def print_bestfit_params():\n",
    "    print('Best-fit values for each (gas, band)')\n",
    "    print('------------------------------------')\n",
    "    for gas, band in gasbands():\n",
    "        print('o {} band{}'.format(gas, band))\n",
    "        param = bestfits.kdist_params(molecule=gas, band=band)\n",
    "        for name, value in sorted(param.items()):\n",
    "            print(2 * ' ' + '{} = {}'.format(name, value))\n",
    "\n",
    "        \n",
    "def print_input_param():        \n",
    "    for name, value in PARAM.items():\n",
    "        print('{} = {}'.format(name, value))\n",
    "        \n",
    "        \n",
    "def print_lblnew_param():\n",
    "    for name, value in sorted(PARAM_LBLNEW.items()):\n",
    "        print('{} = {}'.format(name, value))\n"
   ]
  },
  {
   "cell_type": "code",
   "execution_count": 11,
   "metadata": {
    "collapsed": true,
    "scrolled": false
   },
   "outputs": [],
   "source": [
    "def show_html(s):\n",
    "    display.display(display.HTML(s))\n",
    "\n",
    "    \n",
    "def show_markdown(s):\n",
    "    display.display(display.Markdown(s))\n",
    "\n",
    "    \n",
    "def script():\n",
    "    \n",
    "    title = '### CLIRAD-LW'\n",
    "    s_input = 'Input Parameters'\n",
    "    s_lblnew_param = 'LBLNEW case compaired against'\n",
    "    s_bestfits = 'Best-fit Parameters'\n",
    "    s_plt_cooling = 'Cooling Rate Profiles'\n",
    "    s_tb_flux = 'Flux Comparison'\n",
    "    \n",
    "    # title\n",
    "    show_markdown('### CLIRAD-LW')\n",
    "    \n",
    "    # TOC\n",
    "    show_markdown('### Table of Contents')\n",
    "    show_html(climahtml.getHTML_hrefanchor(s_input))\n",
    "    show_html(climahtml.getHTML_hrefanchor(s_lblnew_param))\n",
    "    show_html(climahtml.getHTML_hrefanchor(s_plt_cooling))\n",
    "    show_html(climahtml.getHTML_hrefanchor(s_tb_flux))\n",
    "    show_html(climahtml.getHTML_hrefanchor(s_bestfits))\n",
    "    \n",
    "    # Input parameters\n",
    "    show_html(climahtml.getHTML_idanchor(s_input))\n",
    "    show_markdown(climahtml.getMarkdown_sectitle(s_input))\n",
    "    print_input_param()\n",
    "    \n",
    "    # LBLNEW parameters \n",
    "    show_html(climahtml.getHTML_idanchor(s_lblnew_param))\n",
    "    show_markdown(climahtml.getMarkdown_sectitle(s_lblnew_param))\n",
    "    print_lblnew_param()\n",
    "    \n",
    "    # Cooling rate profiles\n",
    "    show_html(climahtml.getHTML_idanchor(s_plt_cooling))\n",
    "    show_markdown(climahtml.getMarkdown_sectitle(s_plt_cooling))\n",
    "    script_plt_cooling()\n",
    "    \n",
    "    # Flux comparison\n",
    "    show_html(climahtml.getHTML_idanchor(s_tb_flux))\n",
    "    show_markdown(climahtml.getMarkdown_sectitle(s_tb_flux))\n",
    "    script_tb_flux()\n",
    "    \n",
    "    # Best-fit values\n",
    "    show_html(climahtml.getHTML_idanchor(s_bestfits))\n",
    "    show_markdown(climahtml.getMarkdown_sectitle(s_bestfits))\n",
    "    print_bestfit_params()\n",
    "   \n",
    "    "
   ]
  },
  {
   "cell_type": "code",
   "execution_count": 12,
   "metadata": {
    "collapsed": true,
    "scrolled": false
   },
   "outputs": [
    {
     "data": {
      "text/markdown": [
       "### CLIRAD-LW"
      ],
      "text/plain": [
       "<IPython.core.display.Markdown object>"
      ]
     },
     "metadata": {},
     "output_type": "display_data"
    },
    {
     "data": {
      "text/markdown": [
       "### Table of Contents"
      ],
      "text/plain": [
       "<IPython.core.display.Markdown object>"
      ]
     },
     "metadata": {},
     "output_type": "display_data"
    },
    {
     "data": {
      "text/html": [
       "<a href=\"#Input_Parameters\">Input Parameters</a>"
      ],
      "text/plain": [
       "<IPython.core.display.HTML object>"
      ]
     },
     "metadata": {},
     "output_type": "display_data"
    },
    {
     "data": {
      "text/html": [
       "<a href=\"#LBLNEW_case_compaired_against\">LBLNEW case compaired against</a>"
      ],
      "text/plain": [
       "<IPython.core.display.HTML object>"
      ]
     },
     "metadata": {},
     "output_type": "display_data"
    },
    {
     "data": {
      "text/html": [
       "<a href=\"#Cooling_Rate_Profiles\">Cooling Rate Profiles</a>"
      ],
      "text/plain": [
       "<IPython.core.display.HTML object>"
      ]
     },
     "metadata": {},
     "output_type": "display_data"
    },
    {
     "data": {
      "text/html": [
       "<a href=\"#Flux_Comparison\">Flux Comparison</a>"
      ],
      "text/plain": [
       "<IPython.core.display.HTML object>"
      ]
     },
     "metadata": {},
     "output_type": "display_data"
    },
    {
     "data": {
      "text/html": [
       "<a href=\"#Best-fit_Parameters\">Best-fit Parameters</a>"
      ],
      "text/plain": [
       "<IPython.core.display.HTML object>"
      ]
     },
     "metadata": {},
     "output_type": "display_data"
    },
    {
     "data": {
      "text/html": [
       "<a id=\"Input_Parameters\"></a>"
      ],
      "text/plain": [
       "<IPython.core.display.HTML object>"
      ]
     },
     "metadata": {},
     "output_type": "display_data"
    },
    {
     "data": {
      "text/markdown": [
       "# Input Parameters"
      ],
      "text/plain": [
       "<IPython.core.display.Markdown object>"
      ]
     },
     "metadata": {},
     "output_type": "display_data"
    },
    {
     "name": "stdout",
     "output_type": "stream",
     "text": [
      "atmpro = mls\n",
      "band = [3]\n",
      "commitnumber = a3da41e\n",
      "molecule = {'n2o': 3.2e-07}\n",
      "tsfc = 294\n"
     ]
    },
    {
     "data": {
      "text/html": [
       "<a id=\"LBLNEW_case_compaired_against\"></a>"
      ],
      "text/plain": [
       "<IPython.core.display.HTML object>"
      ]
     },
     "metadata": {},
     "output_type": "display_data"
    },
    {
     "data": {
      "text/markdown": [
       "# LBLNEW case compaired against"
      ],
      "text/plain": [
       "<IPython.core.display.Markdown object>"
      ]
     },
     "metadata": {},
     "output_type": "display_data"
    },
    {
     "name": "stdout",
     "output_type": "stream",
     "text": [
      "atmpro = mls\n",
      "band = 3a\n",
      "commitnumber = 5014a19\n",
      "conc = 3.2e-07\n",
      "dv = 0.01\n",
      "klin = 2.22e-20\n",
      "molecule = n2o\n",
      "ng_adju = [0, 0]\n",
      "ng_refs = [1, 2]\n",
      "nv = 100\n",
      "option_compute_btable = 0\n",
      "option_compute_ktable = 0\n",
      "option_wgt_flux = 1\n",
      "option_wgt_k = 1\n",
      "ref_pts = [(1, 250), (500, 250)]\n",
      "tsfc = 294\n",
      "vmax = 620\n",
      "vmin = 540\n",
      "w_diffuse = [(1.8,), (1.66, 1.8)]\n",
      "wgt = [(0.9,), (0.5, 0.95)]\n"
     ]
    },
    {
     "data": {
      "text/html": [
       "<a id=\"Cooling_Rate_Profiles\"></a>"
      ],
      "text/plain": [
       "<IPython.core.display.HTML object>"
      ]
     },
     "metadata": {},
     "output_type": "display_data"
    },
    {
     "data": {
      "text/markdown": [
       "# Cooling Rate Profiles"
      ],
      "text/plain": [
       "<IPython.core.display.Markdown object>"
      ]
     },
     "metadata": {},
     "output_type": "display_data"
    },
    {
     "data": {
      "text/html": [
       "\n",
       "<div class=\"bk-root\">\n",
       "    <div class=\"bk-plotdiv\" id=\"ed58cf21-7852-4f10-b9a8-b4f01bce3c14\"></div>\n",
       "</div>"
      ]
     },
     "metadata": {},
     "output_type": "display_data"
    },
    {
     "data": {
      "application/javascript": [
       "(function(root) {\n",
       "  function embed_document(root) {\n",
       "    \n",
       "  var docs_json = {\"4f3e6ed0-2c9d-411d-9d3c-b0d19ebe3ece\":{\"roots\":{\"references\":[{\"attributes\":{\"source\":{\"id\":\"8707213a-4452-4af0-9c74-466be4cddb6d\",\"type\":\"ColumnDataSource\"}},\"id\":\"543e1b47-08c3-4e9f-8a40-7c42be2fe8a9\",\"type\":\"CDSView\"},{\"attributes\":{},\"id\":\"d2248206-fa11-43c4-93cd-b6823021cc0f\",\"type\":\"PanTool\"},{\"attributes\":{\"callback\":null,\"column_names\":[\"x\",\"y\"],\"data\":{\"x\":{\"__ndarray__\":\"2pTvvzyJcT8oGE6x1S1yP5jZUmIgjXM/5P/ZHs4DdT+a+ZmZtH12P2N0Ydd8+nc/NM0QkRN6eT+MWHa1jPx6P2dEFObugXw/1mmS7g0Jfj99kVT8SpR/P8si85AxkYA/0oPYO4RZgT8XlCrjMTKCP2ii4gvewIQ/5vAdrDXCiz9rYxifUi6TP3AgLbTBEJk/mEkUPXJ2nz+EhKw4yBqjP2qPoiMXxKY/8GxLwXOfqj8+muWxlsetP7ys5Sx10q0/ZRXj0L7zqj8XcQNwN2anP630zGak0qM/ilyhZLpkoD+mp+zg4XqaPyE9llUQt5Q/ROBlMKOGjj/SX0+z7VWEP5oMODpqiHc/oGlHAfUEZD/kRbWvFO5Cv47XiB+wdWu/ZNEbvuqgdb9UzrV1mZ16vxXETibmSH+/JIqQTNwpgb9dVQH1qRWAv5QqF0sNRHm/MKktt6ypcb/IwagU5aRkv2IVqy3Y/Em/WmOXmcl6Sz9xfS5AtxlkPwUvKskMf3A/3Gfp2gfCdj9gt8hawaR8P2NF0Cy8PYE/6Btig4wLhD+m37yRv6qGP5drebiwNIk/CSN14b6xiz/C/2o3nhKOP5ohYj6xMpA/FAFXhVBdkT8J/7cV6HqSP9L/vrufl5M/rtaWrNS0lD9TrFDkzcGVP2izQ+Pd1pY/iI9/kyPllz+oYC7Uo+qYPyk8Y70j85k/SbwTZxnmmj9C/+kvQM6bPwDHS6xNmZw/3YuinRBHnT9JBR3GB+qdPymBaeqXdZ4/hGra748Knz/0hrv2JZSfP2nDfwhaEqA/\",\"dtype\":\"float64\",\"shape\":[75]},\"y\":{\"__ndarray__\":\"GhExyth1ND/Sv8nbtpRIP2vylNV0PVE/aTum7souWD/At0SJ8fVgPw3Iuahxymc/MSNhhJWvcD/bTfBN02d3P2zb5nxnaoA/CD5h5MAGhz8NmeH1TyaQP+zrCsc9p5Y/LbKd76fGnz/bLW5ISEmmPww9YvTcQq8/JV2OstnstT8Er5Y7M8G+P0c+r3jqkcU/5h99k6ZBzj88bCIzFzjVP4enV8oyxN0//yH99nXg5D8qOpLLf0jtP5kqGJXUifQ/c9cS8kHP/D+/DpwzojQEQIEmwoanVwxA4lgXt9HgE0BSSZ2AJuIbQAMJih9jjiNA5q4l5INuK0AwTKYKRj0zQNv5fmq8/DpAaCJseHrtQkB/+zpwzoxKQM3MzMzMeFJAZmZmZmZqWEAAAAAAAFxeQM3MzMzMJmJAmpmZmZkfZUBmZmZmZhhoQDMzMzMzEWtAAAAAAAAKbkBmZmZmZoFwQM3MzMzM/XFAMzMzMzN6c0CamZmZmfZ0QAAAAAAAc3ZAZmZmZmbvd0DNzMzMzGt5QDMzMzMz6HpAmpmZmZlkfEAAAAAAAOF9QGZmZmZmXX9AZmZmZuZsgECamZmZGSuBQM3MzMxM6YFAAAAAAICngkAzMzMzs2WDQGZmZmbmI4RAmpmZmRnihEDNzMzMTKCFQAAAAACAXoZAMzMzM7Mch0BmZmZm5tqHQJqZmZkZmYhAzczMzExXiUAAAAAAgBWKQDMzMzOz04pAZmZmZuaRi0CamZmZGVCMQM3MzMxMDo1AAAAAAIDMjUAzMzMzs4qOQGZmZmbmSI9A\",\"dtype\":\"float64\",\"shape\":[75]}}},\"id\":\"fa9cc5ec-ec32-4c37-a0c9-c87faad6391c\",\"type\":\"ColumnDataSource\"},{\"attributes\":{\"fill_alpha\":{\"value\":0.1},\"fill_color\":{\"value\":\"#1f77b4\"},\"line_alpha\":{\"value\":0.1},\"line_color\":{\"value\":\"#1f77b4\"},\"x\":{\"field\":\"x\"},\"y\":{\"field\":\"y\"}},\"id\":\"248b076e-c00b-472f-a0e9-2e964f54decc\",\"type\":\"Square\"},{\"attributes\":{\"data_source\":{\"id\":\"0e5c21d7-722f-4d33-91d1-73870fb14f07\",\"type\":\"ColumnDataSource\"},\"glyph\":{\"id\":\"d985e6ad-dcc9-4039-a3a7-baa5be310582\",\"type\":\"Line\"},\"hover_glyph\":null,\"muted_glyph\":null,\"nonselection_glyph\":{\"id\":\"a8876e00-bb18-4177-9b0f-a317465b9802\",\"type\":\"Line\"},\"selection_glyph\":null,\"view\":{\"id\":\"bc001606-267e-427a-a610-4812b4153f9f\",\"type\":\"CDSView\"}},\"id\":\"a374c5f4-f635-4cae-8584-a767665ec4e5\",\"type\":\"GlyphRenderer\"},{\"attributes\":{\"active_drag\":\"auto\",\"active_inspect\":\"auto\",\"active_scroll\":\"auto\",\"active_tap\":\"auto\",\"tools\":[{\"id\":\"d2248206-fa11-43c4-93cd-b6823021cc0f\",\"type\":\"PanTool\"},{\"id\":\"14c94e87-95a4-449e-bd33-12f582a10330\",\"type\":\"WheelZoomTool\"},{\"id\":\"13b4fbad-c83e-4366-9426-e5de4b5a34f7\",\"type\":\"BoxZoomTool\"},{\"id\":\"e49bb52c-b447-4c39-8cf6-c1d6b4b79d81\",\"type\":\"SaveTool\"},{\"id\":\"03388df1-4c46-49dc-ac6f-fb518e74fbcf\",\"type\":\"ResetTool\"},{\"id\":\"3841e9ac-00bd-41eb-ac8b-e80ae377fcd0\",\"type\":\"HelpTool\"}]},\"id\":\"d53b0f2e-39db-450e-967f-b592d2da3a6b\",\"type\":\"Toolbar\"},{\"attributes\":{\"line_alpha\":0.1,\"line_color\":\"#1f77b4\",\"line_dash\":[6],\"line_width\":5,\"x\":{\"field\":\"x\"},\"y\":{\"field\":\"y\"}},\"id\":\"9bd775ac-47d0-41be-98cb-51b831acad7a\",\"type\":\"Line\"},{\"attributes\":{\"axis_label\":\"cooling rate [K/day]\",\"formatter\":{\"id\":\"007d1ed2-b8cd-49fa-a3da-c5e020c6765f\",\"type\":\"BasicTickFormatter\"},\"plot\":{\"id\":\"fca5d146-e27b-454d-bdf6-d39cd8bc8e9f\",\"subtype\":\"Figure\",\"type\":\"Plot\"},\"ticker\":{\"id\":\"dc2d9f29-bff5-4edb-b663-9bf29688192e\",\"type\":\"BasicTicker\"}},\"id\":\"551f50fb-2ca0-4e1c-85f1-60c311eac4b5\",\"type\":\"LinearAxis\"},{\"attributes\":{\"line_alpha\":0.1,\"line_color\":\"#1f77b4\",\"line_width\":3,\"x\":{\"field\":\"x\"},\"y\":{\"field\":\"y\"}},\"id\":\"1bc88c76-a270-46bd-b2de-c458e44b73f3\",\"type\":\"Line\"},{\"attributes\":{\"callback\":null,\"end\":0.01,\"start\":1020},\"id\":\"6c5b0556-82c9-444b-991b-c7135049ee41\",\"type\":\"Range1d\"},{\"attributes\":{},\"id\":\"14c94e87-95a4-449e-bd33-12f582a10330\",\"type\":\"WheelZoomTool\"},{\"attributes\":{\"callback\":null,\"column_names\":[\"x\",\"y\"],\"data\":{\"x\":{\"__ndarray__\":\"2pTvvzyJcT8oGE6x1S1yP5jZUmIgjXM/5P/ZHs4DdT+a+ZmZtH12P2N0Ydd8+nc/NM0QkRN6eT+MWHa1jPx6P2dEFObugXw/1mmS7g0Jfj99kVT8SpR/P8si85AxkYA/0oPYO4RZgT8XlCrjMTKCP2ii4gvewIQ/5vAdrDXCiz9rYxifUi6TP3AgLbTBEJk/mEkUPXJ2nz+EhKw4yBqjP2qPoiMXxKY/8GxLwXOfqj8+muWxlsetP7ys5Sx10q0/ZRXj0L7zqj8XcQNwN2anP630zGak0qM/ilyhZLpkoD+mp+zg4XqaPyE9llUQt5Q/ROBlMKOGjj/SX0+z7VWEP5oMODpqiHc/oGlHAfUEZD/kRbWvFO5Cv47XiB+wdWu/ZNEbvuqgdb9UzrV1mZ16vxXETibmSH+/JIqQTNwpgb9dVQH1qRWAv5QqF0sNRHm/MKktt6ypcb/IwagU5aRkv2IVqy3Y/Em/WmOXmcl6Sz9xfS5AtxlkPwUvKskMf3A/3Gfp2gfCdj9gt8hawaR8P2NF0Cy8PYE/6Btig4wLhD+m37yRv6qGP5drebiwNIk/CSN14b6xiz/C/2o3nhKOP5ohYj6xMpA/FAFXhVBdkT8J/7cV6HqSP9L/vrufl5M/rtaWrNS0lD9TrFDkzcGVP2izQ+Pd1pY/iI9/kyPllz+oYC7Uo+qYPyk8Y70j85k/SbwTZxnmmj9C/+kvQM6bPwDHS6xNmZw/3YuinRBHnT9JBR3GB+qdPymBaeqXdZ4/hGra748Knz/0hrv2JZSfP2nDfwhaEqA/\",\"dtype\":\"float64\",\"shape\":[75]},\"y\":{\"__ndarray__\":\"GhExyth1ND/Sv8nbtpRIP2vylNV0PVE/aTum7souWD/At0SJ8fVgPw3Iuahxymc/MSNhhJWvcD/bTfBN02d3P2zb5nxnaoA/CD5h5MAGhz8NmeH1TyaQP+zrCsc9p5Y/LbKd76fGnz/bLW5ISEmmPww9YvTcQq8/JV2OstnstT8Er5Y7M8G+P0c+r3jqkcU/5h99k6ZBzj88bCIzFzjVP4enV8oyxN0//yH99nXg5D8qOpLLf0jtP5kqGJXUifQ/c9cS8kHP/D+/DpwzojQEQIEmwoanVwxA4lgXt9HgE0BSSZ2AJuIbQAMJih9jjiNA5q4l5INuK0AwTKYKRj0zQNv5fmq8/DpAaCJseHrtQkB/+zpwzoxKQM3MzMzMeFJAZmZmZmZqWEAAAAAAAFxeQM3MzMzMJmJAmpmZmZkfZUBmZmZmZhhoQDMzMzMzEWtAAAAAAAAKbkBmZmZmZoFwQM3MzMzM/XFAMzMzMzN6c0CamZmZmfZ0QAAAAAAAc3ZAZmZmZmbvd0DNzMzMzGt5QDMzMzMz6HpAmpmZmZlkfEAAAAAAAOF9QGZmZmZmXX9AZmZmZuZsgECamZmZGSuBQM3MzMxM6YFAAAAAAICngkAzMzMzs2WDQGZmZmbmI4RAmpmZmRnihEDNzMzMTKCFQAAAAACAXoZAMzMzM7Mch0BmZmZm5tqHQJqZmZkZmYhAzczMzExXiUAAAAAAgBWKQDMzMzOz04pAZmZmZuaRi0CamZmZGVCMQM3MzMxMDo1AAAAAAIDMjUAzMzMzs4qOQGZmZmbmSI9A\",\"dtype\":\"float64\",\"shape\":[75]}}},\"id\":\"a963dfca-8a8a-4b3c-8b4b-11c51531acb6\",\"type\":\"ColumnDataSource\"},{\"attributes\":{},\"id\":\"d286c2f7-15e8-4631-8008-9e28d07e52b2\",\"type\":\"BasicTickFormatter\"},{\"attributes\":{\"num_minor_ticks\":10},\"id\":\"4b6b5423-c6b5-48dc-b20d-f936ca7879bb\",\"type\":\"LogTicker\"},{\"attributes\":{\"plot\":{\"id\":\"fca5d146-e27b-454d-bdf6-d39cd8bc8e9f\",\"subtype\":\"Figure\",\"type\":\"Plot\"},\"ticker\":{\"id\":\"dc2d9f29-bff5-4edb-b663-9bf29688192e\",\"type\":\"BasicTicker\"}},\"id\":\"00ed5664-b6f5-481b-9ce7-93409f27fece\",\"type\":\"Grid\"},{\"attributes\":{},\"id\":\"580d26ae-46bf-47c9-8628-1085d755b8db\",\"type\":\"LogScale\"},{\"attributes\":{\"data_source\":{\"id\":\"fa9cc5ec-ec32-4c37-a0c9-c87faad6391c\",\"type\":\"ColumnDataSource\"},\"glyph\":{\"id\":\"fbb7fcdf-d86d-4ac4-825e-f89d218b9370\",\"type\":\"Line\"},\"hover_glyph\":null,\"muted_glyph\":null,\"nonselection_glyph\":{\"id\":\"1bc88c76-a270-46bd-b2de-c458e44b73f3\",\"type\":\"Line\"},\"selection_glyph\":null,\"view\":{\"id\":\"bac0d113-435e-4a33-bd04-c3f453ba678a\",\"type\":\"CDSView\"}},\"id\":\"f9a6a540-69cb-4c2b-9d7d-f8416a95b769\",\"type\":\"GlyphRenderer\"},{\"attributes\":{\"data_source\":{\"id\":\"a963dfca-8a8a-4b3c-8b4b-11c51531acb6\",\"type\":\"ColumnDataSource\"},\"glyph\":{\"id\":\"5dd070bc-2922-4868-bdf6-1b5078cef37a\",\"type\":\"Square\"},\"hover_glyph\":null,\"muted_glyph\":null,\"nonselection_glyph\":{\"id\":\"248b076e-c00b-472f-a0e9-2e964f54decc\",\"type\":\"Square\"},\"selection_glyph\":null,\"view\":{\"id\":\"f1d1c053-c9ea-4a1f-9ae9-8bc7208cd93b\",\"type\":\"CDSView\"}},\"id\":\"87feab0b-f34a-4a42-a25c-1761e389729b\",\"type\":\"GlyphRenderer\"},{\"attributes\":{\"callback\":null,\"column_names\":[\"x\",\"y\"],\"data\":{\"x\":{\"__ndarray__\":\"FTJrvqHuKr8m+cy7FnEBv8Cl9NEtTjY/v0sTpZ9OSD/GzodrncZSPyAq7VMleFk/DxfjucMRYD/RCtuxgm9jPzb97Jf1wWY/JbxaOTYlaj+iKq76eHltPxKSTiKXP3A/Qxb9szPEcT9xtoKsAzVzP7FO4Fg6WHg/k1D301ihgz/UA1Z2ECePP81n/1er45U/UwzZPrmtnD/TmO1jNfihP2ZTDmNb0aU/QYEPD3XgqT960cYtwCCtP+PKRtjR56w/mBZdLWOCqT8oe0aApYOlP/RlCTW6uKE/q3OfKzC1nD/l5G6lERKXPzt0TKaiYpI/GOiTQkRdjD+XTvhgqn2EPwjmUfoVtXs/wditK4eScD/jSCkhxhZTP4275YyfRF+/NvyHoCVpcb9r2o/Uvtl3v5x5/4lUC36/I7g11K04gb+CfYnz1lKAv5bNTMtwhXm/2HZWK4zWcb/kcX6uqThlv3l6WtmvKk6/fa+TAlAXRj+NQ/5TkRViP1MzhqJJNW4/mv5ARxj3dD9FDTPn6p16P4F0mMwEBYA/au4vnmSbgj/fW/t8QBKFP2gDNDq1bYc/7Q7Yvki0iT9zmcg8WuuLPz8AFurKFo4/afdQR2wckD+beaKGlymRPySeF+eiM5I/TF9bgRk6kz8MjR0QxT2UP5bNxpGhP5U/8qM9BZA/lj9djRfLJz2XP0/eYqY2Npg/mhBcrV8lmT89dow1oAGaPxO0oxrxwpo/caAir1Bpmz9AigeCav2bP/6VSZhfiZw/UMBQab8TnT/qoUtyn6CdP3GeK/YJM54/\",\"dtype\":\"float64\",\"shape\":[75]},\"y\":{\"__ndarray__\":\"GhExyth1ND/Sv8nbtpRIP2vylNV0PVE/aTum7souWD/At0SJ8fVgPw3Iuahxymc/MSNhhJWvcD/bTfBN02d3P2zb5nxnaoA/CD5h5MAGhz8NmeH1TyaQP+zrCsc9p5Y/LbKd76fGnz/bLW5ISEmmPww9YvTcQq8/JV2OstnstT8Er5Y7M8G+P0c+r3jqkcU/5h99k6ZBzj88bCIzFzjVP4enV8oyxN0//yH99nXg5D8qOpLLf0jtP5kqGJXUifQ/c9cS8kHP/D+/DpwzojQEQIEmwoanVwxA4lgXt9HgE0BSSZ2AJuIbQAMJih9jjiNA5q4l5INuK0AwTKYKRj0zQNv5fmq8/DpAaCJseHrtQkB/+zpwzoxKQM3MzMzMeFJAZmZmZmZqWEAAAAAAAFxeQM3MzMzMJmJAmpmZmZkfZUBmZmZmZhhoQDMzMzMzEWtAAAAAAAAKbkBmZmZmZoFwQM3MzMzM/XFAMzMzMzN6c0CamZmZmfZ0QAAAAAAAc3ZAZmZmZmbvd0DNzMzMzGt5QDMzMzMz6HpAmpmZmZlkfEAAAAAAAOF9QGZmZmZmXX9AZmZmZuZsgECamZmZGSuBQM3MzMxM6YFAAAAAAICngkAzMzMzs2WDQGZmZmbmI4RAmpmZmRnihEDNzMzMTKCFQAAAAACAXoZAMzMzM7Mch0BmZmZm5tqHQJqZmZkZmYhAzczMzExXiUAAAAAAgBWKQDMzMzOz04pAZmZmZuaRi0CamZmZGVCMQM3MzMxMDo1AAAAAAIDMjUAzMzMzs4qOQGZmZmbmSI9A\",\"dtype\":\"float64\",\"shape\":[75]}}},\"id\":\"63177009-fec7-498e-986d-96f8bae15d45\",\"type\":\"ColumnDataSource\"},{\"attributes\":{\"callback\":null,\"column_names\":[\"x\",\"y\"],\"data\":{\"x\":{\"__ndarray__\":\"AAAAAAAAAAAAAAAAAAAAAAAAAAAAAAAAgKu5/2+8qz/ZgrWcEcajv2cW4DxOMZy/AAAAAAAAAABm8TfhK6icPwAAAAAAAAAA7oMzxQohjT+ZugFgKcR0PyLNl5jgNIY/wXqpxrUbhT/bmqUCfZJ2PwplLXqxdIU/WFQVMSTbiD8/3Y/HS7iRPzoD16AlS5g//dxZhvtynT+6nQEe5gWiP+ELbeLfxaQ/duUdIa95qD9JjZnc2WurP1qOkoJndas/4+CxI/72qD+ANkleY7ilPwcAYbzzf6I/M9SYeFa+nj99RbwXjeyYP0fYmT0ufJM/uJ4/cg1hjD8L2iWf106CP/GFy54LOXM/JnMMBucsVD+Jf1N12tVev5RzF12tvnK/DmMm39kPer+OKuuA6Yl+v/4M5b9dQYG/BDmPH/Z2gr/LT3sgKjOBvxS6FYKYpHu/f6r94sEydL81mmXZz/5pv/f474fADVi/4HXrR+1RKD+VJxPl+S1dP0bfMl2HZ2s/oInOgGPgcz8z9mOjTNt5P8AJtBwpmX8/Lnz7vvGRgj/vT/hYOTWFP8UGvOCUOKc/nATPus+8hz/gp0xfPyyKP81MdXDMjIw/7suFCSTajj8g2uVg2I+QP4z0cj2prZE/1hmJF97Bkj+uvBS5CNWTPzLghd0S4ZQ/aWQTPUnqlT/Qr9YeMO6WP1WRN+SS75c/KkLnvmfnmD82gRql6NSZP+kLdeaLrpo/MhqMILRvmz8UXyIbnhecP82nh5tlrJw/ani/eY03nT+vvGq5wb2dP17B4uI7QJ4/\",\"dtype\":\"float64\",\"shape\":[75]},\"y\":{\"__ndarray__\":\"MCRxoNFnQT9dcvo90IdNP+qWHeIftlQ/dNWXAFcNXT8NYIJ9MWBkP10nQT3OlGw/j4BJYrQLdD9jyv8cUR58P6d8Yj6UuIM/4k9uirCpiz98QnbexmaTPzw3+LjyNps/eYMeIE4Woz9zNWieEsaqP8rD9h4kx7I/FYYSdwZXuj8CvMP1QXnCPxYvFobI6ck/F35wPnUs0j/hCb3+JH7ZPwumL75H4eE/FK5H4XoU6T/Xo3A9CpfxPwaBlUOLrPg/ira+oyFOAUCgGi/dJEYIQBE2PL1SBhFAwE2QInzhF0B3TrNAu78gQPXb14FzfidA0ZFc/kN6MEAFo5I6AR03QHtLOV/sNUBAxAq3fCS9RkC8zob8M79PQCgmb4CZcVVAMzMzMzNjW0BmZmZmZqpgQLzoK0gzo2NAAAAAAACcZkBEF9S3zJRpQJqZmZmZjWxAZmZmZmaGb0AQ5KCEmT9xQAAAAAAAvHJA8Btfe2Y4dEAIclDCzLR1QPiNrz0zMXdAEOSghJmteEAAAAAAACp6QPAbX3tmpntACXJQwswifUD3ja89M59+QDeJQWDlSH9ACHJQwswNgEAAAAAAAMyAQPiNrz0zioFABTkoYWZIgkD7xteemQaDQAhyUMLMxINAAAAAAACDhED4ja89M0GFQAU5KGFm/4VA+8bXnpm9hkAIclDCzHuHQAAAAAAAOohA+I2vPTP4iEAFOShhZraJQPvG156ZdIpACXJQwswyi0AAAAAAAPGLQPeNrz0zr4xABTkoYWZtjUD7xteemSuOQHEDPj/M6Y5A\",\"dtype\":\"float64\",\"shape\":[75]}}},\"id\":\"0e5c21d7-722f-4d33-91d1-73870fb14f07\",\"type\":\"ColumnDataSource\"},{\"attributes\":{\"source\":{\"id\":\"fa9cc5ec-ec32-4c37-a0c9-c87faad6391c\",\"type\":\"ColumnDataSource\"}},\"id\":\"bac0d113-435e-4a33-bd04-c3f453ba678a\",\"type\":\"CDSView\"},{\"attributes\":{\"label\":{\"value\":\"WGT igg=10 wgt_flux=2\"},\"renderers\":[{\"id\":\"401b5586-9b44-455a-b081-0fb6706465b0\",\"type\":\"GlyphRenderer\"},{\"id\":\"295bf26e-f813-4143-be40-73b237239f23\",\"type\":\"GlyphRenderer\"}]},\"id\":\"d078b441-6a47-4c06-acb1-f90f5d5f335b\",\"type\":\"LegendItem\"},{\"attributes\":{\"bottom_units\":\"screen\",\"fill_alpha\":{\"value\":0.5},\"fill_color\":{\"value\":\"lightgrey\"},\"left_units\":\"screen\",\"level\":\"overlay\",\"line_alpha\":{\"value\":1.0},\"line_color\":{\"value\":\"black\"},\"line_dash\":[4,4],\"line_width\":{\"value\":2},\"plot\":null,\"render_mode\":\"css\",\"right_units\":\"screen\",\"top_units\":\"screen\"},\"id\":\"14fba6fb-7950-4d54-8e96-31c9f12fb651\",\"type\":\"BoxAnnotation\"},{\"attributes\":{},\"id\":\"bcc1802a-4393-4a9e-8154-ecc5f1e6a9ba\",\"type\":\"LinearScale\"},{\"attributes\":{},\"id\":\"03388df1-4c46-49dc-ac6f-fb518e74fbcf\",\"type\":\"ResetTool\"},{\"attributes\":{\"callback\":null,\"end\":0.045897253214,\"start\":-0.009559658614},\"id\":\"f4fc78a1-696f-4dee-9d8f-0526b797f9f5\",\"type\":\"Range1d\"},{\"attributes\":{},\"id\":\"cea36678-ebf5-482f-b911-a2c18378ce06\",\"type\":\"LinearScale\"},{\"attributes\":{\"plot\":null,\"text\":\"Linear pressure scale\"},\"id\":\"aefe5dcf-383a-433c-9f0f-481d176ee550\",\"type\":\"Title\"},{\"attributes\":{\"source\":{\"id\":\"254ce402-d3cc-4691-b4c7-689252b638ae\",\"type\":\"ColumnDataSource\"}},\"id\":\"5ddbd7c4-a76c-40ae-91bc-bbd93b869d58\",\"type\":\"CDSView\"},{\"attributes\":{\"callback\":null,\"end\":0.01,\"start\":1020},\"id\":\"bc34c572-2d5f-4418-8ab4-b8d7c3e3a4c3\",\"type\":\"Range1d\"},{\"attributes\":{\"toolbar\":{\"id\":\"dfa0a014-8746-4639-b5ee-221ec06c96cf\",\"type\":\"ProxyToolbar\"},\"toolbar_location\":\"above\"},\"id\":\"14b1d93a-5a50-4340-9f10-2a1d77c629c1\",\"type\":\"ToolbarBox\"},{\"attributes\":{\"fill_alpha\":{\"value\":0.7},\"fill_color\":{\"value\":\"#4daf4a\"},\"line_alpha\":{\"value\":0.7},\"line_color\":{\"value\":\"#4daf4a\"},\"x\":{\"field\":\"x\"},\"y\":{\"field\":\"y\"}},\"id\":\"23199ccd-41ea-4632-80c0-cb109b71e16a\",\"type\":\"Circle\"},{\"attributes\":{\"active_drag\":\"auto\",\"active_inspect\":\"auto\",\"active_scroll\":\"auto\",\"active_tap\":\"auto\",\"tools\":[{\"id\":\"23904d99-9f8b-4a96-9a5b-d8ec6e6c860d\",\"type\":\"PanTool\"},{\"id\":\"de86925e-da85-4eb1-8f2b-90faec83f525\",\"type\":\"WheelZoomTool\"},{\"id\":\"b318b4dd-f3b8-4148-9da2-f114f96849da\",\"type\":\"BoxZoomTool\"},{\"id\":\"1b59a61c-0907-4e96-81fb-7e846beab116\",\"type\":\"SaveTool\"},{\"id\":\"2ef611da-8693-47d2-88f8-dcc231531855\",\"type\":\"ResetTool\"},{\"id\":\"4ade867d-04f8-4827-ab3d-498fa0e2beb2\",\"type\":\"HelpTool\"}]},\"id\":\"6d33fb6d-c96c-41ce-9de9-16bb71ed849e\",\"type\":\"Toolbar\"},{\"attributes\":{\"data_source\":{\"id\":\"254ce402-d3cc-4691-b4c7-689252b638ae\",\"type\":\"ColumnDataSource\"},\"glyph\":{\"id\":\"6b2ad19e-545f-4a23-af11-d2bf8f5b695f\",\"type\":\"Line\"},\"hover_glyph\":null,\"muted_glyph\":null,\"nonselection_glyph\":{\"id\":\"9bd775ac-47d0-41be-98cb-51b831acad7a\",\"type\":\"Line\"},\"selection_glyph\":null,\"view\":{\"id\":\"5ddbd7c4-a76c-40ae-91bc-bbd93b869d58\",\"type\":\"CDSView\"}},\"id\":\"3535d8c9-5df9-440a-a440-1b118e839a5c\",\"type\":\"GlyphRenderer\"},{\"attributes\":{\"fill_alpha\":{\"value\":0.7},\"fill_color\":{\"value\":\"#984ea3\"},\"line_alpha\":{\"value\":0.7},\"line_color\":{\"value\":\"#984ea3\"},\"x\":{\"field\":\"x\"},\"y\":{\"field\":\"y\"}},\"id\":\"5dd070bc-2922-4868-bdf6-1b5078cef37a\",\"type\":\"Square\"},{\"attributes\":{\"label\":{\"value\":\"CRD\"},\"renderers\":[{\"id\":\"22a47c84-db6f-4486-8d8b-b5bf1ec4a047\",\"type\":\"GlyphRenderer\"},{\"id\":\"711d1e7d-e14e-4a1c-8b6d-9ac16e6a23ec\",\"type\":\"GlyphRenderer\"}]},\"id\":\"5c5fe223-b4dd-4f3e-a506-fe3ba5479136\",\"type\":\"LegendItem\"},{\"attributes\":{},\"id\":\"007d1ed2-b8cd-49fa-a3da-c5e020c6765f\",\"type\":\"BasicTickFormatter\"},{\"attributes\":{},\"id\":\"dc2d9f29-bff5-4edb-b663-9bf29688192e\",\"type\":\"BasicTicker\"},{\"attributes\":{},\"id\":\"e49bb52c-b447-4c39-8cf6-c1d6b4b79d81\",\"type\":\"SaveTool\"},{\"attributes\":{\"line_alpha\":0.6,\"line_color\":\"#e41a1c\",\"line_dash\":[6],\"line_width\":5,\"x\":{\"field\":\"x\"},\"y\":{\"field\":\"y\"}},\"id\":\"d985e6ad-dcc9-4039-a3a7-baa5be310582\",\"type\":\"Line\"},{\"attributes\":{\"children\":[{\"id\":\"5afdba8d-8e43-4b56-8324-b15fcdc81d7d\",\"subtype\":\"Figure\",\"type\":\"Plot\"},{\"id\":\"fca5d146-e27b-454d-bdf6-d39cd8bc8e9f\",\"subtype\":\"Figure\",\"type\":\"Plot\"}]},\"id\":\"fe7b74bf-34b5-4dc7-9759-863ad47bc22e\",\"type\":\"Row\"},{\"attributes\":{\"data_source\":{\"id\":\"63177009-fec7-498e-986d-96f8bae15d45\",\"type\":\"ColumnDataSource\"},\"glyph\":{\"id\":\"23199ccd-41ea-4632-80c0-cb109b71e16a\",\"type\":\"Circle\"},\"hover_glyph\":null,\"muted_glyph\":null,\"nonselection_glyph\":{\"id\":\"653ed882-f906-4f43-b9d3-11303538db47\",\"type\":\"Circle\"},\"selection_glyph\":null,\"view\":{\"id\":\"c9ecb36b-f78e-4c58-b877-ddf2ddecf836\",\"type\":\"CDSView\"}},\"id\":\"52d5e3ec-72e6-4788-b76d-78e3075bff94\",\"type\":\"GlyphRenderer\"},{\"attributes\":{\"tools\":[{\"id\":\"23904d99-9f8b-4a96-9a5b-d8ec6e6c860d\",\"type\":\"PanTool\"},{\"id\":\"de86925e-da85-4eb1-8f2b-90faec83f525\",\"type\":\"WheelZoomTool\"},{\"id\":\"b318b4dd-f3b8-4148-9da2-f114f96849da\",\"type\":\"BoxZoomTool\"},{\"id\":\"1b59a61c-0907-4e96-81fb-7e846beab116\",\"type\":\"SaveTool\"},{\"id\":\"2ef611da-8693-47d2-88f8-dcc231531855\",\"type\":\"ResetTool\"},{\"id\":\"4ade867d-04f8-4827-ab3d-498fa0e2beb2\",\"type\":\"HelpTool\"},{\"id\":\"d2248206-fa11-43c4-93cd-b6823021cc0f\",\"type\":\"PanTool\"},{\"id\":\"14c94e87-95a4-449e-bd33-12f582a10330\",\"type\":\"WheelZoomTool\"},{\"id\":\"13b4fbad-c83e-4366-9426-e5de4b5a34f7\",\"type\":\"BoxZoomTool\"},{\"id\":\"e49bb52c-b447-4c39-8cf6-c1d6b4b79d81\",\"type\":\"SaveTool\"},{\"id\":\"03388df1-4c46-49dc-ac6f-fb518e74fbcf\",\"type\":\"ResetTool\"},{\"id\":\"3841e9ac-00bd-41eb-ac8b-e80ae377fcd0\",\"type\":\"HelpTool\"}]},\"id\":\"dfa0a014-8746-4639-b5ee-221ec06c96cf\",\"type\":\"ProxyToolbar\"},{\"attributes\":{\"below\":[{\"id\":\"a857d277-04b0-44a0-a9b7-5ac4fc06ad12\",\"type\":\"LinearAxis\"}],\"left\":[{\"id\":\"015ab41d-033c-4c53-a416-fff42fefce86\",\"type\":\"LinearAxis\"}],\"plot_height\":500,\"plot_width\":400,\"renderers\":[{\"id\":\"a857d277-04b0-44a0-a9b7-5ac4fc06ad12\",\"type\":\"LinearAxis\"},{\"id\":\"3690ccf1-0c3b-40d4-8bd9-5bd3e2ca2ab4\",\"type\":\"Grid\"},{\"id\":\"015ab41d-033c-4c53-a416-fff42fefce86\",\"type\":\"LinearAxis\"},{\"id\":\"cf9f5db9-67cc-4378-a4a9-930a70aaca44\",\"type\":\"Grid\"},{\"id\":\"0259262e-6edc-4847-bab3-5ba7bc4e19aa\",\"type\":\"BoxAnnotation\"},{\"id\":\"a374c5f4-f635-4cae-8584-a767665ec4e5\",\"type\":\"GlyphRenderer\"},{\"id\":\"52d5e3ec-72e6-4788-b76d-78e3075bff94\",\"type\":\"GlyphRenderer\"},{\"id\":\"d21e532a-6556-4cac-92e7-8c7c9e291e20\",\"type\":\"GlyphRenderer\"},{\"id\":\"87feab0b-f34a-4a42-a25c-1761e389729b\",\"type\":\"GlyphRenderer\"},{\"id\":\"f9a6a540-69cb-4c2b-9d7d-f8416a95b769\",\"type\":\"GlyphRenderer\"}],\"title\":{\"id\":\"aefe5dcf-383a-433c-9f0f-481d176ee550\",\"type\":\"Title\"},\"toolbar\":{\"id\":\"6d33fb6d-c96c-41ce-9de9-16bb71ed849e\",\"type\":\"Toolbar\"},\"toolbar_location\":null,\"x_range\":{\"id\":\"f4fc78a1-696f-4dee-9d8f-0526b797f9f5\",\"type\":\"Range1d\"},\"x_scale\":{\"id\":\"cea36678-ebf5-482f-b911-a2c18378ce06\",\"type\":\"LinearScale\"},\"y_range\":{\"id\":\"bc34c572-2d5f-4418-8ab4-b8d7c3e3a4c3\",\"type\":\"Range1d\"},\"y_scale\":{\"id\":\"e9894bcb-d3ee-4682-9670-ec92bcc0d2b6\",\"type\":\"LinearScale\"}},\"id\":\"5afdba8d-8e43-4b56-8324-b15fcdc81d7d\",\"subtype\":\"Figure\",\"type\":\"Plot\"},{\"attributes\":{\"source\":{\"id\":\"a963dfca-8a8a-4b3c-8b4b-11c51531acb6\",\"type\":\"ColumnDataSource\"}},\"id\":\"f1d1c053-c9ea-4a1f-9ae9-8bc7208cd93b\",\"type\":\"CDSView\"},{\"attributes\":{\"line_alpha\":0.6,\"line_color\":\"#984ea3\",\"line_width\":3,\"x\":{\"field\":\"x\"},\"y\":{\"field\":\"y\"}},\"id\":\"fbb7fcdf-d86d-4ac4-825e-f89d218b9370\",\"type\":\"Line\"},{\"attributes\":{},\"id\":\"3841e9ac-00bd-41eb-ac8b-e80ae377fcd0\",\"type\":\"HelpTool\"},{\"attributes\":{\"below\":[{\"id\":\"551f50fb-2ca0-4e1c-85f1-60c311eac4b5\",\"type\":\"LinearAxis\"}],\"left\":[{\"id\":\"2707bf09-688a-4bf9-ac44-17ed24e24725\",\"type\":\"LogAxis\"}],\"plot_height\":500,\"plot_width\":560,\"renderers\":[{\"id\":\"551f50fb-2ca0-4e1c-85f1-60c311eac4b5\",\"type\":\"LinearAxis\"},{\"id\":\"00ed5664-b6f5-481b-9ce7-93409f27fece\",\"type\":\"Grid\"},{\"id\":\"2707bf09-688a-4bf9-ac44-17ed24e24725\",\"type\":\"LogAxis\"},{\"id\":\"4d791031-fc24-4c78-bc36-7dd5d3020640\",\"type\":\"Grid\"},{\"id\":\"14fba6fb-7950-4d54-8e96-31c9f12fb651\",\"type\":\"BoxAnnotation\"},{\"id\":\"3535d8c9-5df9-440a-a440-1b118e839a5c\",\"type\":\"GlyphRenderer\"},{\"id\":\"22a47c84-db6f-4486-8d8b-b5bf1ec4a047\",\"type\":\"GlyphRenderer\"},{\"id\":\"711d1e7d-e14e-4a1c-8b6d-9ac16e6a23ec\",\"type\":\"GlyphRenderer\"},{\"id\":\"401b5586-9b44-455a-b081-0fb6706465b0\",\"type\":\"GlyphRenderer\"},{\"id\":\"295bf26e-f813-4143-be40-73b237239f23\",\"type\":\"GlyphRenderer\"},{\"id\":\"c77e4d1a-61b0-4dda-a0f5-e2d41e8e5676\",\"type\":\"Legend\"}],\"right\":[{\"id\":\"c77e4d1a-61b0-4dda-a0f5-e2d41e8e5676\",\"type\":\"Legend\"}],\"title\":{\"id\":\"38f75209-cda1-4fc1-8b0e-da618604810e\",\"type\":\"Title\"},\"toolbar\":{\"id\":\"d53b0f2e-39db-450e-967f-b592d2da3a6b\",\"type\":\"Toolbar\"},\"toolbar_location\":null,\"x_range\":{\"id\":\"1c74b797-a3e7-4720-a649-41f7fcd89d03\",\"type\":\"Range1d\"},\"x_scale\":{\"id\":\"bcc1802a-4393-4a9e-8154-ecc5f1e6a9ba\",\"type\":\"LinearScale\"},\"y_range\":{\"id\":\"6c5b0556-82c9-444b-991b-c7135049ee41\",\"type\":\"Range1d\"},\"y_scale\":{\"id\":\"580d26ae-46bf-47c9-8628-1085d755b8db\",\"type\":\"LogScale\"}},\"id\":\"fca5d146-e27b-454d-bdf6-d39cd8bc8e9f\",\"subtype\":\"Figure\",\"type\":\"Plot\"},{\"attributes\":{\"plot\":null,\"text\":\"Log pressure scale\"},\"id\":\"38f75209-cda1-4fc1-8b0e-da618604810e\",\"type\":\"Title\"},{\"attributes\":{\"dimension\":1,\"plot\":{\"id\":\"fca5d146-e27b-454d-bdf6-d39cd8bc8e9f\",\"subtype\":\"Figure\",\"type\":\"Plot\"},\"ticker\":{\"id\":\"4b6b5423-c6b5-48dc-b20d-f936ca7879bb\",\"type\":\"LogTicker\"}},\"id\":\"4d791031-fc24-4c78-bc36-7dd5d3020640\",\"type\":\"Grid\"},{\"attributes\":{\"overlay\":{\"id\":\"14fba6fb-7950-4d54-8e96-31c9f12fb651\",\"type\":\"BoxAnnotation\"}},\"id\":\"13b4fbad-c83e-4366-9426-e5de4b5a34f7\",\"type\":\"BoxZoomTool\"},{\"attributes\":{\"line_alpha\":0.1,\"line_color\":\"#1f77b4\",\"line_width\":1.5,\"x\":{\"field\":\"x\"},\"y\":{\"field\":\"y\"}},\"id\":\"bef40085-472e-4909-9b46-5396957975a9\",\"type\":\"Line\"},{\"attributes\":{\"callback\":null,\"column_names\":[\"x\",\"y\"],\"data\":{\"x\":{\"__ndarray__\":\"FTJrvqHuKr8m+cy7FnEBv8Cl9NEtTjY/v0sTpZ9OSD/GzodrncZSPyAq7VMleFk/DxfjucMRYD/RCtuxgm9jPzb97Jf1wWY/JbxaOTYlaj+iKq76eHltPxKSTiKXP3A/Qxb9szPEcT9xtoKsAzVzP7FO4Fg6WHg/k1D301ihgz/UA1Z2ECePP81n/1er45U/UwzZPrmtnD/TmO1jNfihP2ZTDmNb0aU/QYEPD3XgqT960cYtwCCtP+PKRtjR56w/mBZdLWOCqT8oe0aApYOlP/RlCTW6uKE/q3OfKzC1nD/l5G6lERKXPzt0TKaiYpI/GOiTQkRdjD+XTvhgqn2EPwjmUfoVtXs/wditK4eScD/jSCkhxhZTP4275YyfRF+/NvyHoCVpcb9r2o/Uvtl3v5x5/4lUC36/I7g11K04gb+CfYnz1lKAv5bNTMtwhXm/2HZWK4zWcb/kcX6uqThlv3l6WtmvKk6/fa+TAlAXRj+NQ/5TkRViP1MzhqJJNW4/mv5ARxj3dD9FDTPn6p16P4F0mMwEBYA/au4vnmSbgj/fW/t8QBKFP2gDNDq1bYc/7Q7Yvki0iT9zmcg8WuuLPz8AFurKFo4/afdQR2wckD+beaKGlymRPySeF+eiM5I/TF9bgRk6kz8MjR0QxT2UP5bNxpGhP5U/8qM9BZA/lj9djRfLJz2XP0/eYqY2Npg/mhBcrV8lmT89dow1oAGaPxO0oxrxwpo/caAir1Bpmz9AigeCav2bP/6VSZhfiZw/UMBQab8TnT/qoUtyn6CdP3GeK/YJM54/\",\"dtype\":\"float64\",\"shape\":[75]},\"y\":{\"__ndarray__\":\"GhExyth1ND/Sv8nbtpRIP2vylNV0PVE/aTum7souWD/At0SJ8fVgPw3Iuahxymc/MSNhhJWvcD/bTfBN02d3P2zb5nxnaoA/CD5h5MAGhz8NmeH1TyaQP+zrCsc9p5Y/LbKd76fGnz/bLW5ISEmmPww9YvTcQq8/JV2OstnstT8Er5Y7M8G+P0c+r3jqkcU/5h99k6ZBzj88bCIzFzjVP4enV8oyxN0//yH99nXg5D8qOpLLf0jtP5kqGJXUifQ/c9cS8kHP/D+/DpwzojQEQIEmwoanVwxA4lgXt9HgE0BSSZ2AJuIbQAMJih9jjiNA5q4l5INuK0AwTKYKRj0zQNv5fmq8/DpAaCJseHrtQkB/+zpwzoxKQM3MzMzMeFJAZmZmZmZqWEAAAAAAAFxeQM3MzMzMJmJAmpmZmZkfZUBmZmZmZhhoQDMzMzMzEWtAAAAAAAAKbkBmZmZmZoFwQM3MzMzM/XFAMzMzMzN6c0CamZmZmfZ0QAAAAAAAc3ZAZmZmZmbvd0DNzMzMzGt5QDMzMzMz6HpAmpmZmZlkfEAAAAAAAOF9QGZmZmZmXX9AZmZmZuZsgECamZmZGSuBQM3MzMxM6YFAAAAAAICngkAzMzMzs2WDQGZmZmbmI4RAmpmZmRnihEDNzMzMTKCFQAAAAACAXoZAMzMzM7Mch0BmZmZm5tqHQJqZmZkZmYhAzczMzExXiUAAAAAAgBWKQDMzMzOz04pAZmZmZuaRi0CamZmZGVCMQM3MzMxMDo1AAAAAAIDMjUAzMzMzs4qOQGZmZmbmSI9A\",\"dtype\":\"float64\",\"shape\":[75]}}},\"id\":\"2178e864-0e42-413f-8f1c-d9a77a1f39ee\",\"type\":\"ColumnDataSource\"},{\"attributes\":{\"line_alpha\":0.1,\"line_color\":\"#1f77b4\",\"line_dash\":[6],\"line_width\":5,\"x\":{\"field\":\"x\"},\"y\":{\"field\":\"y\"}},\"id\":\"a8876e00-bb18-4177-9b0f-a317465b9802\",\"type\":\"Line\"},{\"attributes\":{\"fill_alpha\":{\"value\":0.7},\"fill_color\":{\"value\":\"#4daf4a\"},\"line_alpha\":{\"value\":0.7},\"line_color\":{\"value\":\"#4daf4a\"},\"x\":{\"field\":\"x\"},\"y\":{\"field\":\"y\"}},\"id\":\"7a30aba1-5080-47fe-addd-bc319c560d8f\",\"type\":\"Circle\"},{\"attributes\":{\"callback\":null,\"column_names\":[\"x\",\"y\"],\"data\":{\"x\":{\"__ndarray__\":\"2pTvvzyJcT8oGE6x1S1yP5jZUmIgjXM/5P/ZHs4DdT+a+ZmZtH12P2N0Ydd8+nc/NM0QkRN6eT+MWHa1jPx6P2dEFObugXw/1mmS7g0Jfj99kVT8SpR/P8si85AxkYA/0oPYO4RZgT8XlCrjMTKCP2ii4gvewIQ/5vAdrDXCiz9rYxifUi6TP3AgLbTBEJk/mEkUPXJ2nz+EhKw4yBqjP2qPoiMXxKY/8GxLwXOfqj8+muWxlsetP7ys5Sx10q0/ZRXj0L7zqj8XcQNwN2anP630zGak0qM/ilyhZLpkoD+mp+zg4XqaPyE9llUQt5Q/ROBlMKOGjj/SX0+z7VWEP5oMODpqiHc/oGlHAfUEZD/kRbWvFO5Cv47XiB+wdWu/ZNEbvuqgdb9UzrV1mZ16vxXETibmSH+/JIqQTNwpgb9dVQH1qRWAv5QqF0sNRHm/MKktt6ypcb/IwagU5aRkv2IVqy3Y/Em/WmOXmcl6Sz9xfS5AtxlkPwUvKskMf3A/3Gfp2gfCdj9gt8hawaR8P2NF0Cy8PYE/6Btig4wLhD+m37yRv6qGP5drebiwNIk/CSN14b6xiz/C/2o3nhKOP5ohYj6xMpA/FAFXhVBdkT8J/7cV6HqSP9L/vrufl5M/rtaWrNS0lD9TrFDkzcGVP2izQ+Pd1pY/iI9/kyPllz+oYC7Uo+qYPyk8Y70j85k/SbwTZxnmmj9C/+kvQM6bPwDHS6xNmZw/3YuinRBHnT9JBR3GB+qdPymBaeqXdZ4/hGra748Knz/0hrv2JZSfP2nDfwhaEqA/\",\"dtype\":\"float64\",\"shape\":[75]},\"y\":{\"__ndarray__\":\"GhExyth1ND/Sv8nbtpRIP2vylNV0PVE/aTum7souWD/At0SJ8fVgPw3Iuahxymc/MSNhhJWvcD/bTfBN02d3P2zb5nxnaoA/CD5h5MAGhz8NmeH1TyaQP+zrCsc9p5Y/LbKd76fGnz/bLW5ISEmmPww9YvTcQq8/JV2OstnstT8Er5Y7M8G+P0c+r3jqkcU/5h99k6ZBzj88bCIzFzjVP4enV8oyxN0//yH99nXg5D8qOpLLf0jtP5kqGJXUifQ/c9cS8kHP/D+/DpwzojQEQIEmwoanVwxA4lgXt9HgE0BSSZ2AJuIbQAMJih9jjiNA5q4l5INuK0AwTKYKRj0zQNv5fmq8/DpAaCJseHrtQkB/+zpwzoxKQM3MzMzMeFJAZmZmZmZqWEAAAAAAAFxeQM3MzMzMJmJAmpmZmZkfZUBmZmZmZhhoQDMzMzMzEWtAAAAAAAAKbkBmZmZmZoFwQM3MzMzM/XFAMzMzMzN6c0CamZmZmfZ0QAAAAAAAc3ZAZmZmZmbvd0DNzMzMzGt5QDMzMzMz6HpAmpmZmZlkfEAAAAAAAOF9QGZmZmZmXX9AZmZmZuZsgECamZmZGSuBQM3MzMxM6YFAAAAAAICngkAzMzMzs2WDQGZmZmbmI4RAmpmZmRnihEDNzMzMTKCFQAAAAACAXoZAMzMzM7Mch0BmZmZm5tqHQJqZmZkZmYhAzczMzExXiUAAAAAAgBWKQDMzMzOz04pAZmZmZuaRi0CamZmZGVCMQM3MzMxMDo1AAAAAAIDMjUAzMzMzs4qOQGZmZmbmSI9A\",\"dtype\":\"float64\",\"shape\":[75]}}},\"id\":\"f11f9a2d-5cb6-4876-bbda-d3f333ca7edc\",\"type\":\"ColumnDataSource\"},{\"attributes\":{\"callback\":null,\"column_names\":[\"x\",\"y\"],\"data\":{\"x\":{\"__ndarray__\":\"FTJrvqHuKr8m+cy7FnEBv8Cl9NEtTjY/v0sTpZ9OSD/GzodrncZSPyAq7VMleFk/DxfjucMRYD/RCtuxgm9jPzb97Jf1wWY/JbxaOTYlaj+iKq76eHltPxKSTiKXP3A/Qxb9szPEcT9xtoKsAzVzP7FO4Fg6WHg/k1D301ihgz/UA1Z2ECePP81n/1er45U/UwzZPrmtnD/TmO1jNfihP2ZTDmNb0aU/QYEPD3XgqT960cYtwCCtP+PKRtjR56w/mBZdLWOCqT8oe0aApYOlP/RlCTW6uKE/q3OfKzC1nD/l5G6lERKXPzt0TKaiYpI/GOiTQkRdjD+XTvhgqn2EPwjmUfoVtXs/wditK4eScD/jSCkhxhZTP4275YyfRF+/NvyHoCVpcb9r2o/Uvtl3v5x5/4lUC36/I7g11K04gb+CfYnz1lKAv5bNTMtwhXm/2HZWK4zWcb/kcX6uqThlv3l6WtmvKk6/fa+TAlAXRj+NQ/5TkRViP1MzhqJJNW4/mv5ARxj3dD9FDTPn6p16P4F0mMwEBYA/au4vnmSbgj/fW/t8QBKFP2gDNDq1bYc/7Q7Yvki0iT9zmcg8WuuLPz8AFurKFo4/afdQR2wckD+beaKGlymRPySeF+eiM5I/TF9bgRk6kz8MjR0QxT2UP5bNxpGhP5U/8qM9BZA/lj9djRfLJz2XP0/eYqY2Npg/mhBcrV8lmT89dow1oAGaPxO0oxrxwpo/caAir1Bpmz9AigeCav2bP/6VSZhfiZw/UMBQab8TnT/qoUtyn6CdP3GeK/YJM54/\",\"dtype\":\"float64\",\"shape\":[75]},\"y\":{\"__ndarray__\":\"GhExyth1ND/Sv8nbtpRIP2vylNV0PVE/aTum7souWD/At0SJ8fVgPw3Iuahxymc/MSNhhJWvcD/bTfBN02d3P2zb5nxnaoA/CD5h5MAGhz8NmeH1TyaQP+zrCsc9p5Y/LbKd76fGnz/bLW5ISEmmPww9YvTcQq8/JV2OstnstT8Er5Y7M8G+P0c+r3jqkcU/5h99k6ZBzj88bCIzFzjVP4enV8oyxN0//yH99nXg5D8qOpLLf0jtP5kqGJXUifQ/c9cS8kHP/D+/DpwzojQEQIEmwoanVwxA4lgXt9HgE0BSSZ2AJuIbQAMJih9jjiNA5q4l5INuK0AwTKYKRj0zQNv5fmq8/DpAaCJseHrtQkB/+zpwzoxKQM3MzMzMeFJAZmZmZmZqWEAAAAAAAFxeQM3MzMzMJmJAmpmZmZkfZUBmZmZmZhhoQDMzMzMzEWtAAAAAAAAKbkBmZmZmZoFwQM3MzMzM/XFAMzMzMzN6c0CamZmZmfZ0QAAAAAAAc3ZAZmZmZmbvd0DNzMzMzGt5QDMzMzMz6HpAmpmZmZlkfEAAAAAAAOF9QGZmZmZmXX9AZmZmZuZsgECamZmZGSuBQM3MzMxM6YFAAAAAAICngkAzMzMzs2WDQGZmZmbmI4RAmpmZmRnihEDNzMzMTKCFQAAAAACAXoZAMzMzM7Mch0BmZmZm5tqHQJqZmZkZmYhAzczMzExXiUAAAAAAgBWKQDMzMzOz04pAZmZmZuaRi0CamZmZGVCMQM3MzMxMDo1AAAAAAIDMjUAzMzMzs4qOQGZmZmbmSI9A\",\"dtype\":\"float64\",\"shape\":[75]}}},\"id\":\"af27026a-6bf8-438a-a687-62502065ed73\",\"type\":\"ColumnDataSource\"},{\"attributes\":{\"callback\":null,\"column_names\":[\"x\",\"y\"],\"data\":{\"x\":{\"__ndarray__\":\"FTJrvqHuKr8m+cy7FnEBv8Cl9NEtTjY/v0sTpZ9OSD/GzodrncZSPyAq7VMleFk/DxfjucMRYD/RCtuxgm9jPzb97Jf1wWY/JbxaOTYlaj+iKq76eHltPxKSTiKXP3A/Qxb9szPEcT9xtoKsAzVzP7FO4Fg6WHg/k1D301ihgz/UA1Z2ECePP81n/1er45U/UwzZPrmtnD/TmO1jNfihP2ZTDmNb0aU/QYEPD3XgqT960cYtwCCtP+PKRtjR56w/mBZdLWOCqT8oe0aApYOlP/RlCTW6uKE/q3OfKzC1nD/l5G6lERKXPzt0TKaiYpI/GOiTQkRdjD+XTvhgqn2EPwjmUfoVtXs/wditK4eScD/jSCkhxhZTP4275YyfRF+/NvyHoCVpcb9r2o/Uvtl3v5x5/4lUC36/I7g11K04gb+CfYnz1lKAv5bNTMtwhXm/2HZWK4zWcb/kcX6uqThlv3l6WtmvKk6/fa+TAlAXRj+NQ/5TkRViP1MzhqJJNW4/mv5ARxj3dD9FDTPn6p16P4F0mMwEBYA/au4vnmSbgj/fW/t8QBKFP2gDNDq1bYc/7Q7Yvki0iT9zmcg8WuuLPz8AFurKFo4/afdQR2wckD+beaKGlymRPySeF+eiM5I/TF9bgRk6kz8MjR0QxT2UP5bNxpGhP5U/8qM9BZA/lj9djRfLJz2XP0/eYqY2Npg/mhBcrV8lmT89dow1oAGaPxO0oxrxwpo/caAir1Bpmz9AigeCav2bP/6VSZhfiZw/UMBQab8TnT/qoUtyn6CdP3GeK/YJM54/\",\"dtype\":\"float64\",\"shape\":[75]},\"y\":{\"__ndarray__\":\"GhExyth1ND/Sv8nbtpRIP2vylNV0PVE/aTum7souWD/At0SJ8fVgPw3Iuahxymc/MSNhhJWvcD/bTfBN02d3P2zb5nxnaoA/CD5h5MAGhz8NmeH1TyaQP+zrCsc9p5Y/LbKd76fGnz/bLW5ISEmmPww9YvTcQq8/JV2OstnstT8Er5Y7M8G+P0c+r3jqkcU/5h99k6ZBzj88bCIzFzjVP4enV8oyxN0//yH99nXg5D8qOpLLf0jtP5kqGJXUifQ/c9cS8kHP/D+/DpwzojQEQIEmwoanVwxA4lgXt9HgE0BSSZ2AJuIbQAMJih9jjiNA5q4l5INuK0AwTKYKRj0zQNv5fmq8/DpAaCJseHrtQkB/+zpwzoxKQM3MzMzMeFJAZmZmZmZqWEAAAAAAAFxeQM3MzMzMJmJAmpmZmZkfZUBmZmZmZhhoQDMzMzMzEWtAAAAAAAAKbkBmZmZmZoFwQM3MzMzM/XFAMzMzMzN6c0CamZmZmfZ0QAAAAAAAc3ZAZmZmZmbvd0DNzMzMzGt5QDMzMzMz6HpAmpmZmZlkfEAAAAAAAOF9QGZmZmZmXX9AZmZmZuZsgECamZmZGSuBQM3MzMxM6YFAAAAAAICngkAzMzMzs2WDQGZmZmbmI4RAmpmZmRnihEDNzMzMTKCFQAAAAACAXoZAMzMzM7Mch0BmZmZm5tqHQJqZmZkZmYhAzczMzExXiUAAAAAAgBWKQDMzMzOz04pAZmZmZuaRi0CamZmZGVCMQM3MzMxMDo1AAAAAAIDMjUAzMzMzs4qOQGZmZmbmSI9A\",\"dtype\":\"float64\",\"shape\":[75]}}},\"id\":\"8707213a-4452-4af0-9c74-466be4cddb6d\",\"type\":\"ColumnDataSource\"},{\"attributes\":{\"data_source\":{\"id\":\"af27026a-6bf8-438a-a687-62502065ed73\",\"type\":\"ColumnDataSource\"},\"glyph\":{\"id\":\"7a30aba1-5080-47fe-addd-bc319c560d8f\",\"type\":\"Circle\"},\"hover_glyph\":null,\"muted_glyph\":null,\"nonselection_glyph\":{\"id\":\"d823e40d-0485-43e4-a804-e337add2c927\",\"type\":\"Circle\"},\"selection_glyph\":null,\"view\":{\"id\":\"60039f92-51bf-4b66-b701-f3bb6908c87f\",\"type\":\"CDSView\"}},\"id\":\"22a47c84-db6f-4486-8d8b-b5bf1ec4a047\",\"type\":\"GlyphRenderer\"},{\"attributes\":{\"line_color\":\"#4daf4a\",\"line_width\":1.5,\"x\":{\"field\":\"x\"},\"y\":{\"field\":\"y\"}},\"id\":\"d8375aaf-a9e9-4cee-9b03-edab91d8e228\",\"type\":\"Line\"},{\"attributes\":{\"ticker\":null},\"id\":\"439763e4-4805-4636-917e-fb65a6995210\",\"type\":\"LogTickFormatter\"},{\"attributes\":{\"fill_alpha\":{\"value\":0.1},\"fill_color\":{\"value\":\"#1f77b4\"},\"line_alpha\":{\"value\":0.1},\"line_color\":{\"value\":\"#1f77b4\"},\"x\":{\"field\":\"x\"},\"y\":{\"field\":\"y\"}},\"id\":\"d823e40d-0485-43e4-a804-e337add2c927\",\"type\":\"Circle\"},{\"attributes\":{\"axis_label\":\"cooling rate [K/day]\",\"formatter\":{\"id\":\"243cd607-f64d-4133-b7a5-c14a5f10ef66\",\"type\":\"BasicTickFormatter\"},\"plot\":{\"id\":\"5afdba8d-8e43-4b56-8324-b15fcdc81d7d\",\"subtype\":\"Figure\",\"type\":\"Plot\"},\"ticker\":{\"id\":\"8d65f9fc-3a36-4ee1-8342-9429534d3d07\",\"type\":\"BasicTicker\"}},\"id\":\"a857d277-04b0-44a0-a9b7-5ac4fc06ad12\",\"type\":\"LinearAxis\"},{\"attributes\":{\"source\":{\"id\":\"af27026a-6bf8-438a-a687-62502065ed73\",\"type\":\"ColumnDataSource\"}},\"id\":\"60039f92-51bf-4b66-b701-f3bb6908c87f\",\"type\":\"CDSView\"},{\"attributes\":{\"line_color\":\"#4daf4a\",\"line_width\":1.5,\"x\":{\"field\":\"x\"},\"y\":{\"field\":\"y\"}},\"id\":\"cf731606-0cad-4e4d-82f5-3fb60a95f2ec\",\"type\":\"Line\"},{\"attributes\":{\"callback\":null,\"column_names\":[\"x\",\"y\"],\"data\":{\"x\":{\"__ndarray__\":\"2pTvvzyJcT8oGE6x1S1yP5jZUmIgjXM/5P/ZHs4DdT+a+ZmZtH12P2N0Ydd8+nc/NM0QkRN6eT+MWHa1jPx6P2dEFObugXw/1mmS7g0Jfj99kVT8SpR/P8si85AxkYA/0oPYO4RZgT8XlCrjMTKCP2ii4gvewIQ/5vAdrDXCiz9rYxifUi6TP3AgLbTBEJk/mEkUPXJ2nz+EhKw4yBqjP2qPoiMXxKY/8GxLwXOfqj8+muWxlsetP7ys5Sx10q0/ZRXj0L7zqj8XcQNwN2anP630zGak0qM/ilyhZLpkoD+mp+zg4XqaPyE9llUQt5Q/ROBlMKOGjj/SX0+z7VWEP5oMODpqiHc/oGlHAfUEZD/kRbWvFO5Cv47XiB+wdWu/ZNEbvuqgdb9UzrV1mZ16vxXETibmSH+/JIqQTNwpgb9dVQH1qRWAv5QqF0sNRHm/MKktt6ypcb/IwagU5aRkv2IVqy3Y/Em/WmOXmcl6Sz9xfS5AtxlkPwUvKskMf3A/3Gfp2gfCdj9gt8hawaR8P2NF0Cy8PYE/6Btig4wLhD+m37yRv6qGP5drebiwNIk/CSN14b6xiz/C/2o3nhKOP5ohYj6xMpA/FAFXhVBdkT8J/7cV6HqSP9L/vrufl5M/rtaWrNS0lD9TrFDkzcGVP2izQ+Pd1pY/iI9/kyPllz+oYC7Uo+qYPyk8Y70j85k/SbwTZxnmmj9C/+kvQM6bPwDHS6xNmZw/3YuinRBHnT9JBR3GB+qdPymBaeqXdZ4/hGra748Knz/0hrv2JZSfP2nDfwhaEqA/\",\"dtype\":\"float64\",\"shape\":[75]},\"y\":{\"__ndarray__\":\"GhExyth1ND/Sv8nbtpRIP2vylNV0PVE/aTum7souWD/At0SJ8fVgPw3Iuahxymc/MSNhhJWvcD/bTfBN02d3P2zb5nxnaoA/CD5h5MAGhz8NmeH1TyaQP+zrCsc9p5Y/LbKd76fGnz/bLW5ISEmmPww9YvTcQq8/JV2OstnstT8Er5Y7M8G+P0c+r3jqkcU/5h99k6ZBzj88bCIzFzjVP4enV8oyxN0//yH99nXg5D8qOpLLf0jtP5kqGJXUifQ/c9cS8kHP/D+/DpwzojQEQIEmwoanVwxA4lgXt9HgE0BSSZ2AJuIbQAMJih9jjiNA5q4l5INuK0AwTKYKRj0zQNv5fmq8/DpAaCJseHrtQkB/+zpwzoxKQM3MzMzMeFJAZmZmZmZqWEAAAAAAAFxeQM3MzMzMJmJAmpmZmZkfZUBmZmZmZhhoQDMzMzMzEWtAAAAAAAAKbkBmZmZmZoFwQM3MzMzM/XFAMzMzMzN6c0CamZmZmfZ0QAAAAAAAc3ZAZmZmZmbvd0DNzMzMzGt5QDMzMzMz6HpAmpmZmZlkfEAAAAAAAOF9QGZmZmZmXX9AZmZmZuZsgECamZmZGSuBQM3MzMxM6YFAAAAAAICngkAzMzMzs2WDQGZmZmbmI4RAmpmZmRnihEDNzMzMTKCFQAAAAACAXoZAMzMzM7Mch0BmZmZm5tqHQJqZmZkZmYhAzczMzExXiUAAAAAAgBWKQDMzMzOz04pAZmZmZuaRi0CamZmZGVCMQM3MzMxMDo1AAAAAAIDMjUAzMzMzs4qOQGZmZmbmSI9A\",\"dtype\":\"float64\",\"shape\":[75]}}},\"id\":\"e7ead079-a3cd-465e-b658-0f675fbe88e6\",\"type\":\"ColumnDataSource\"},{\"attributes\":{\"line_alpha\":0.1,\"line_color\":\"#1f77b4\",\"line_width\":1.5,\"x\":{\"field\":\"x\"},\"y\":{\"field\":\"y\"}},\"id\":\"e368543f-a086-4c0c-bc1d-4bb65177cf38\",\"type\":\"Line\"},{\"attributes\":{\"data_source\":{\"id\":\"2178e864-0e42-413f-8f1c-d9a77a1f39ee\",\"type\":\"ColumnDataSource\"},\"glyph\":{\"id\":\"cf731606-0cad-4e4d-82f5-3fb60a95f2ec\",\"type\":\"Line\"},\"hover_glyph\":null,\"muted_glyph\":null,\"nonselection_glyph\":{\"id\":\"e368543f-a086-4c0c-bc1d-4bb65177cf38\",\"type\":\"Line\"},\"selection_glyph\":null,\"view\":{\"id\":\"40212615-e337-46f2-a027-07a7d9a6bce7\",\"type\":\"CDSView\"}},\"id\":\"711d1e7d-e14e-4a1c-8b6d-9ac16e6a23ec\",\"type\":\"GlyphRenderer\"},{\"attributes\":{\"source\":{\"id\":\"2178e864-0e42-413f-8f1c-d9a77a1f39ee\",\"type\":\"ColumnDataSource\"}},\"id\":\"40212615-e337-46f2-a027-07a7d9a6bce7\",\"type\":\"CDSView\"},{\"attributes\":{\"fill_alpha\":{\"value\":0.7},\"fill_color\":{\"value\":\"#984ea3\"},\"line_alpha\":{\"value\":0.7},\"line_color\":{\"value\":\"#984ea3\"},\"x\":{\"field\":\"x\"},\"y\":{\"field\":\"y\"}},\"id\":\"879321ed-aeda-4304-867f-ded1268ab30f\",\"type\":\"Square\"},{\"attributes\":{\"callback\":null,\"end\":0.0589189124835,\"start\":-0.0096885859335},\"id\":\"1c74b797-a3e7-4720-a649-41f7fcd89d03\",\"type\":\"Range1d\"},{\"attributes\":{\"source\":{\"id\":\"f11f9a2d-5cb6-4876-bbda-d3f333ca7edc\",\"type\":\"ColumnDataSource\"}},\"id\":\"dad5e294-3419-4b1d-ac68-233391adad0a\",\"type\":\"CDSView\"},{\"attributes\":{\"line_alpha\":0.6,\"line_color\":\"#984ea3\",\"line_width\":3,\"x\":{\"field\":\"x\"},\"y\":{\"field\":\"y\"}},\"id\":\"91f84dae-c2b4-4f96-b330-d3920b18df75\",\"type\":\"Line\"},{\"attributes\":{\"callback\":null,\"column_names\":[\"x\",\"y\"],\"data\":{\"x\":{\"__ndarray__\":\"AAAAAAAAAAAAAAAAAAAAAAAAAAAAAAAAgKu5/2+8qz/ZgrWcEcajv2cW4DxOMZy/AAAAAAAAAABm8TfhK6icPwAAAAAAAAAA7oMzxQohjT+ZugFgKcR0PyLNl5jgNIY/wXqpxrUbhT/bmqUCfZJ2PwplLXqxdIU/WFQVMSTbiD8/3Y/HS7iRPzoD16AlS5g//dxZhvtynT+6nQEe5gWiP+ELbeLfxaQ/duUdIa95qD9JjZnc2WurP1qOkoJndas/4+CxI/72qD+ANkleY7ilPwcAYbzzf6I/M9SYeFa+nj99RbwXjeyYP0fYmT0ufJM/uJ4/cg1hjD8L2iWf106CP/GFy54LOXM/JnMMBucsVD+Jf1N12tVev5RzF12tvnK/DmMm39kPer+OKuuA6Yl+v/4M5b9dQYG/BDmPH/Z2gr/LT3sgKjOBvxS6FYKYpHu/f6r94sEydL81mmXZz/5pv/f474fADVi/4HXrR+1RKD+VJxPl+S1dP0bfMl2HZ2s/oInOgGPgcz8z9mOjTNt5P8AJtBwpmX8/Lnz7vvGRgj/vT/hYOTWFP8UGvOCUOKc/nATPus+8hz/gp0xfPyyKP81MdXDMjIw/7suFCSTajj8g2uVg2I+QP4z0cj2prZE/1hmJF97Bkj+uvBS5CNWTPzLghd0S4ZQ/aWQTPUnqlT/Qr9YeMO6WP1WRN+SS75c/KkLnvmfnmD82gRql6NSZP+kLdeaLrpo/MhqMILRvmz8UXyIbnhecP82nh5tlrJw/ani/eY03nT+vvGq5wb2dP17B4uI7QJ4/\",\"dtype\":\"float64\",\"shape\":[75]},\"y\":{\"__ndarray__\":\"MCRxoNFnQT9dcvo90IdNP+qWHeIftlQ/dNWXAFcNXT8NYIJ9MWBkP10nQT3OlGw/j4BJYrQLdD9jyv8cUR58P6d8Yj6UuIM/4k9uirCpiz98QnbexmaTPzw3+LjyNps/eYMeIE4Woz9zNWieEsaqP8rD9h4kx7I/FYYSdwZXuj8CvMP1QXnCPxYvFobI6ck/F35wPnUs0j/hCb3+JH7ZPwumL75H4eE/FK5H4XoU6T/Xo3A9CpfxPwaBlUOLrPg/ira+oyFOAUCgGi/dJEYIQBE2PL1SBhFAwE2QInzhF0B3TrNAu78gQPXb14FzfidA0ZFc/kN6MEAFo5I6AR03QHtLOV/sNUBAxAq3fCS9RkC8zob8M79PQCgmb4CZcVVAMzMzMzNjW0BmZmZmZqpgQLzoK0gzo2NAAAAAAACcZkBEF9S3zJRpQJqZmZmZjWxAZmZmZmaGb0AQ5KCEmT9xQAAAAAAAvHJA8Btfe2Y4dEAIclDCzLR1QPiNrz0zMXdAEOSghJmteEAAAAAAACp6QPAbX3tmpntACXJQwswifUD3ja89M59+QDeJQWDlSH9ACHJQwswNgEAAAAAAAMyAQPiNrz0zioFABTkoYWZIgkD7xteemQaDQAhyUMLMxINAAAAAAACDhED4ja89M0GFQAU5KGFm/4VA+8bXnpm9hkAIclDCzHuHQAAAAAAAOohA+I2vPTP4iEAFOShhZraJQPvG156ZdIpACXJQwswyi0AAAAAAAPGLQPeNrz0zr4xABTkoYWZtjUD7xteemSuOQHEDPj/M6Y5A\",\"dtype\":\"float64\",\"shape\":[75]}}},\"id\":\"254ce402-d3cc-4691-b4c7-689252b638ae\",\"type\":\"ColumnDataSource\"},{\"attributes\":{\"fill_alpha\":{\"value\":0.1},\"fill_color\":{\"value\":\"#1f77b4\"},\"line_alpha\":{\"value\":0.1},\"line_color\":{\"value\":\"#1f77b4\"},\"x\":{\"field\":\"x\"},\"y\":{\"field\":\"y\"}},\"id\":\"239971b4-3a39-4c66-8d25-c0df2ae81994\",\"type\":\"Square\"},{\"attributes\":{\"data_source\":{\"id\":\"f11f9a2d-5cb6-4876-bbda-d3f333ca7edc\",\"type\":\"ColumnDataSource\"},\"glyph\":{\"id\":\"879321ed-aeda-4304-867f-ded1268ab30f\",\"type\":\"Square\"},\"hover_glyph\":null,\"muted_glyph\":null,\"nonselection_glyph\":{\"id\":\"239971b4-3a39-4c66-8d25-c0df2ae81994\",\"type\":\"Square\"},\"selection_glyph\":null,\"view\":{\"id\":\"dad5e294-3419-4b1d-ac68-233391adad0a\",\"type\":\"CDSView\"}},\"id\":\"401b5586-9b44-455a-b081-0fb6706465b0\",\"type\":\"GlyphRenderer\"},{\"attributes\":{\"source\":{\"id\":\"e7ead079-a3cd-465e-b658-0f675fbe88e6\",\"type\":\"ColumnDataSource\"}},\"id\":\"2e1dc421-17e0-40c4-bb7d-6f8da3e9d701\",\"type\":\"CDSView\"},{\"attributes\":{\"line_alpha\":0.6,\"line_color\":\"#e41a1c\",\"line_dash\":[6],\"line_width\":5,\"x\":{\"field\":\"x\"},\"y\":{\"field\":\"y\"}},\"id\":\"6b2ad19e-545f-4a23-af11-d2bf8f5b695f\",\"type\":\"Line\"},{\"attributes\":{\"items\":[{\"id\":\"ee5fa1b7-6789-466e-94a5-d5c8a0fc97ce\",\"type\":\"LegendItem\"},{\"id\":\"5c5fe223-b4dd-4f3e-a506-fe3ba5479136\",\"type\":\"LegendItem\"},{\"id\":\"d078b441-6a47-4c06-acb1-f90f5d5f335b\",\"type\":\"LegendItem\"}],\"label_text_font_size\":{\"value\":\"8pt\"},\"location\":[10,-30],\"plot\":{\"id\":\"fca5d146-e27b-454d-bdf6-d39cd8bc8e9f\",\"subtype\":\"Figure\",\"type\":\"Plot\"}},\"id\":\"c77e4d1a-61b0-4dda-a0f5-e2d41e8e5676\",\"type\":\"Legend\"},{\"attributes\":{\"line_alpha\":0.1,\"line_color\":\"#1f77b4\",\"line_width\":3,\"x\":{\"field\":\"x\"},\"y\":{\"field\":\"y\"}},\"id\":\"83325606-3edd-4302-951a-3aa3caab1fd1\",\"type\":\"Line\"},{\"attributes\":{\"data_source\":{\"id\":\"e7ead079-a3cd-465e-b658-0f675fbe88e6\",\"type\":\"ColumnDataSource\"},\"glyph\":{\"id\":\"91f84dae-c2b4-4f96-b330-d3920b18df75\",\"type\":\"Line\"},\"hover_glyph\":null,\"muted_glyph\":null,\"nonselection_glyph\":{\"id\":\"83325606-3edd-4302-951a-3aa3caab1fd1\",\"type\":\"Line\"},\"selection_glyph\":null,\"view\":{\"id\":\"2e1dc421-17e0-40c4-bb7d-6f8da3e9d701\",\"type\":\"CDSView\"}},\"id\":\"295bf26e-f813-4143-be40-73b237239f23\",\"type\":\"GlyphRenderer\"},{\"attributes\":{\"children\":[{\"id\":\"14b1d93a-5a50-4340-9f10-2a1d77c629c1\",\"type\":\"ToolbarBox\"},{\"id\":\"83517cc5-cbc1-4847-bc10-7ff223c136e7\",\"type\":\"Column\"}]},\"id\":\"9b731d73-c903-4de3-b298-39410ba1fad8\",\"type\":\"Column\"},{\"attributes\":{\"axis_label\":\"pressure [mb]\",\"formatter\":{\"id\":\"d286c2f7-15e8-4631-8008-9e28d07e52b2\",\"type\":\"BasicTickFormatter\"},\"plot\":{\"id\":\"5afdba8d-8e43-4b56-8324-b15fcdc81d7d\",\"subtype\":\"Figure\",\"type\":\"Plot\"},\"ticker\":{\"id\":\"ba045dee-07d3-4214-a33e-285c35f061bc\",\"type\":\"BasicTicker\"}},\"id\":\"015ab41d-033c-4c53-a416-fff42fefce86\",\"type\":\"LinearAxis\"},{\"attributes\":{\"source\":{\"id\":\"0e5c21d7-722f-4d33-91d1-73870fb14f07\",\"type\":\"ColumnDataSource\"}},\"id\":\"bc001606-267e-427a-a610-4812b4153f9f\",\"type\":\"CDSView\"},{\"attributes\":{},\"id\":\"ba045dee-07d3-4214-a33e-285c35f061bc\",\"type\":\"BasicTicker\"},{\"attributes\":{\"plot\":{\"id\":\"5afdba8d-8e43-4b56-8324-b15fcdc81d7d\",\"subtype\":\"Figure\",\"type\":\"Plot\"},\"ticker\":{\"id\":\"8d65f9fc-3a36-4ee1-8342-9429534d3d07\",\"type\":\"BasicTicker\"}},\"id\":\"3690ccf1-0c3b-40d4-8bd9-5bd3e2ca2ab4\",\"type\":\"Grid\"},{\"attributes\":{\"bottom_units\":\"screen\",\"fill_alpha\":{\"value\":0.5},\"fill_color\":{\"value\":\"lightgrey\"},\"left_units\":\"screen\",\"level\":\"overlay\",\"line_alpha\":{\"value\":1.0},\"line_color\":{\"value\":\"black\"},\"line_dash\":[4,4],\"line_width\":{\"value\":2},\"plot\":null,\"render_mode\":\"css\",\"right_units\":\"screen\",\"top_units\":\"screen\"},\"id\":\"0259262e-6edc-4847-bab3-5ba7bc4e19aa\",\"type\":\"BoxAnnotation\"},{\"attributes\":{\"label\":{\"value\":\"CLIRAD `coolr_bands`\"},\"renderers\":[{\"id\":\"3535d8c9-5df9-440a-a440-1b118e839a5c\",\"type\":\"GlyphRenderer\"}]},\"id\":\"ee5fa1b7-6789-466e-94a5-d5c8a0fc97ce\",\"type\":\"LegendItem\"},{\"attributes\":{\"data_source\":{\"id\":\"8707213a-4452-4af0-9c74-466be4cddb6d\",\"type\":\"ColumnDataSource\"},\"glyph\":{\"id\":\"d8375aaf-a9e9-4cee-9b03-edab91d8e228\",\"type\":\"Line\"},\"hover_glyph\":null,\"muted_glyph\":null,\"nonselection_glyph\":{\"id\":\"bef40085-472e-4909-9b46-5396957975a9\",\"type\":\"Line\"},\"selection_glyph\":null,\"view\":{\"id\":\"543e1b47-08c3-4e9f-8a40-7c42be2fe8a9\",\"type\":\"CDSView\"}},\"id\":\"d21e532a-6556-4cac-92e7-8c7c9e291e20\",\"type\":\"GlyphRenderer\"},{\"attributes\":{},\"id\":\"de86925e-da85-4eb1-8f2b-90faec83f525\",\"type\":\"WheelZoomTool\"},{\"attributes\":{},\"id\":\"243cd607-f64d-4133-b7a5-c14a5f10ef66\",\"type\":\"BasicTickFormatter\"},{\"attributes\":{},\"id\":\"23904d99-9f8b-4a96-9a5b-d8ec6e6c860d\",\"type\":\"PanTool\"},{\"attributes\":{\"dimension\":1,\"plot\":{\"id\":\"5afdba8d-8e43-4b56-8324-b15fcdc81d7d\",\"subtype\":\"Figure\",\"type\":\"Plot\"},\"ticker\":{\"id\":\"ba045dee-07d3-4214-a33e-285c35f061bc\",\"type\":\"BasicTicker\"}},\"id\":\"cf9f5db9-67cc-4378-a4a9-930a70aaca44\",\"type\":\"Grid\"},{\"attributes\":{\"children\":[{\"id\":\"fe7b74bf-34b5-4dc7-9759-863ad47bc22e\",\"type\":\"Row\"}]},\"id\":\"83517cc5-cbc1-4847-bc10-7ff223c136e7\",\"type\":\"Column\"},{\"attributes\":{},\"id\":\"1b59a61c-0907-4e96-81fb-7e846beab116\",\"type\":\"SaveTool\"},{\"attributes\":{},\"id\":\"2ef611da-8693-47d2-88f8-dcc231531855\",\"type\":\"ResetTool\"},{\"attributes\":{\"source\":{\"id\":\"63177009-fec7-498e-986d-96f8bae15d45\",\"type\":\"ColumnDataSource\"}},\"id\":\"c9ecb36b-f78e-4c58-b877-ddf2ddecf836\",\"type\":\"CDSView\"},{\"attributes\":{},\"id\":\"e9894bcb-d3ee-4682-9670-ec92bcc0d2b6\",\"type\":\"LinearScale\"},{\"attributes\":{\"overlay\":{\"id\":\"0259262e-6edc-4847-bab3-5ba7bc4e19aa\",\"type\":\"BoxAnnotation\"}},\"id\":\"b318b4dd-f3b8-4148-9da2-f114f96849da\",\"type\":\"BoxZoomTool\"},{\"attributes\":{},\"id\":\"4ade867d-04f8-4827-ab3d-498fa0e2beb2\",\"type\":\"HelpTool\"},{\"attributes\":{\"axis_label\":\"pressure [mb]\",\"formatter\":{\"id\":\"439763e4-4805-4636-917e-fb65a6995210\",\"type\":\"LogTickFormatter\"},\"plot\":{\"id\":\"fca5d146-e27b-454d-bdf6-d39cd8bc8e9f\",\"subtype\":\"Figure\",\"type\":\"Plot\"},\"ticker\":{\"id\":\"4b6b5423-c6b5-48dc-b20d-f936ca7879bb\",\"type\":\"LogTicker\"}},\"id\":\"2707bf09-688a-4bf9-ac44-17ed24e24725\",\"type\":\"LogAxis\"},{\"attributes\":{},\"id\":\"8d65f9fc-3a36-4ee1-8342-9429534d3d07\",\"type\":\"BasicTicker\"},{\"attributes\":{\"fill_alpha\":{\"value\":0.1},\"fill_color\":{\"value\":\"#1f77b4\"},\"line_alpha\":{\"value\":0.1},\"line_color\":{\"value\":\"#1f77b4\"},\"x\":{\"field\":\"x\"},\"y\":{\"field\":\"y\"}},\"id\":\"653ed882-f906-4f43-b9d3-11303538db47\",\"type\":\"Circle\"}],\"root_ids\":[\"9b731d73-c903-4de3-b298-39410ba1fad8\"]},\"title\":\"Bokeh Application\",\"version\":\"0.12.14\"}};\n",
       "  var render_items = [{\"docid\":\"4f3e6ed0-2c9d-411d-9d3c-b0d19ebe3ece\",\"elementid\":\"ed58cf21-7852-4f10-b9a8-b4f01bce3c14\",\"modelid\":\"9b731d73-c903-4de3-b298-39410ba1fad8\"}];\n",
       "  root.Bokeh.embed.embed_items_notebook(docs_json, render_items);\n",
       "\n",
       "  }\n",
       "  if (root.Bokeh !== undefined) {\n",
       "    embed_document(root);\n",
       "  } else {\n",
       "    var attempts = 0;\n",
       "    var timer = setInterval(function(root) {\n",
       "      if (root.Bokeh !== undefined) {\n",
       "        embed_document(root);\n",
       "        clearInterval(timer);\n",
       "      }\n",
       "      attempts++;\n",
       "      if (attempts > 100) {\n",
       "        console.log(\"Bokeh: ERROR: Unable to run BokehJS code because BokehJS library is missing\")\n",
       "        clearInterval(timer);\n",
       "      }\n",
       "    }, 10, root)\n",
       "  }\n",
       "})(window);"
      ],
      "application/vnd.bokehjs_exec.v0+json": ""
     },
     "metadata": {
      "application/vnd.bokehjs_exec.v0+json": {
       "id": "9b731d73-c903-4de3-b298-39410ba1fad8"
      }
     },
     "output_type": "display_data"
    },
    {
     "name": "stdout",
     "output_type": "stream",
     "text": [
      "FIGURE. Cooling rate profiles.\n"
     ]
    },
    {
     "data": {
      "text/html": [
       "<a id=\"Flux_Comparison\"></a>"
      ],
      "text/plain": [
       "<IPython.core.display.HTML object>"
      ]
     },
     "metadata": {},
     "output_type": "display_data"
    },
    {
     "data": {
      "text/markdown": [
       "# Flux Comparison"
      ],
      "text/plain": [
       "<IPython.core.display.Markdown object>"
      ]
     },
     "metadata": {},
     "output_type": "display_data"
    },
    {
     "data": {
      "text/html": [
       "<div>\n",
       "<style>\n",
       "    .dataframe thead tr:only-child th {\n",
       "        text-align: right;\n",
       "    }\n",
       "\n",
       "    .dataframe thead th {\n",
       "        text-align: left;\n",
       "    }\n",
       "\n",
       "    .dataframe tbody tr th {\n",
       "        vertical-align: top;\n",
       "    }\n",
       "</style>\n",
       "<table border=\"1\" class=\"dataframe\">\n",
       "  <thead>\n",
       "    <tr style=\"text-align: right;\">\n",
       "      <th></th>\n",
       "      <th></th>\n",
       "      <th>flug</th>\n",
       "      <th>fldg</th>\n",
       "      <th>fnetg</th>\n",
       "    </tr>\n",
       "    <tr>\n",
       "      <th>pressure</th>\n",
       "      <th>level</th>\n",
       "      <th></th>\n",
       "      <th></th>\n",
       "      <th></th>\n",
       "    </tr>\n",
       "  </thead>\n",
       "  <tbody>\n",
       "    <tr>\n",
       "      <th>0.0000</th>\n",
       "      <th>1</th>\n",
       "      <td>-35.012057</td>\n",
       "      <td>0.000000</td>\n",
       "      <td>-35.012057</td>\n",
       "    </tr>\n",
       "    <tr>\n",
       "      <th>1.0685</th>\n",
       "      <th>24</th>\n",
       "      <td>-35.011299</td>\n",
       "      <td>0.004676</td>\n",
       "      <td>-35.006624</td>\n",
       "    </tr>\n",
       "    <tr>\n",
       "      <th>1013.0000</th>\n",
       "      <th>76</th>\n",
       "      <td>-36.235408</td>\n",
       "      <td>2.713550</td>\n",
       "      <td>-33.521857</td>\n",
       "    </tr>\n",
       "  </tbody>\n",
       "</table>\n",
       "</div>"
      ],
      "text/plain": [
       "                      flug      fldg      fnetg\n",
       "pressure  level                                \n",
       "0.0000    1     -35.012057  0.000000 -35.012057\n",
       "1.0685    24    -35.011299  0.004676 -35.006624\n",
       "1013.0000 76    -36.235408  2.713550 -33.521857"
      ]
     },
     "metadata": {},
     "output_type": "display_data"
    },
    {
     "name": "stdout",
     "output_type": "stream",
     "text": [
      "Table. Fluxes. WGT igg=10 wgt_flux=1\n"
     ]
    },
    {
     "data": {
      "text/html": [
       "<div>\n",
       "<style>\n",
       "    .dataframe thead tr:only-child th {\n",
       "        text-align: right;\n",
       "    }\n",
       "\n",
       "    .dataframe thead th {\n",
       "        text-align: left;\n",
       "    }\n",
       "\n",
       "    .dataframe tbody tr th {\n",
       "        vertical-align: top;\n",
       "    }\n",
       "</style>\n",
       "<table border=\"1\" class=\"dataframe\">\n",
       "  <thead>\n",
       "    <tr style=\"text-align: right;\">\n",
       "      <th></th>\n",
       "      <th></th>\n",
       "      <th>flug</th>\n",
       "      <th>fldg</th>\n",
       "      <th>fnetg</th>\n",
       "    </tr>\n",
       "    <tr>\n",
       "      <th>pressure</th>\n",
       "      <th>level</th>\n",
       "      <th></th>\n",
       "      <th></th>\n",
       "      <th></th>\n",
       "    </tr>\n",
       "  </thead>\n",
       "  <tbody>\n",
       "    <tr>\n",
       "      <th>0.0000</th>\n",
       "      <th>1</th>\n",
       "      <td>-35.016069</td>\n",
       "      <td>0.000000</td>\n",
       "      <td>-35.016069</td>\n",
       "    </tr>\n",
       "    <tr>\n",
       "      <th>1.0685</th>\n",
       "      <th>24</th>\n",
       "      <td>-35.015788</td>\n",
       "      <td>0.004893</td>\n",
       "      <td>-35.010895</td>\n",
       "    </tr>\n",
       "    <tr>\n",
       "      <th>1013.0000</th>\n",
       "      <th>76</th>\n",
       "      <td>-36.235408</td>\n",
       "      <td>2.614575</td>\n",
       "      <td>-33.620833</td>\n",
       "    </tr>\n",
       "  </tbody>\n",
       "</table>\n",
       "</div>"
      ],
      "text/plain": [
       "                      flug      fldg      fnetg\n",
       "pressure  level                                \n",
       "0.0000    1     -35.016069  0.000000 -35.016069\n",
       "1.0685    24    -35.015788  0.004893 -35.010895\n",
       "1013.0000 76    -36.235408  2.614575 -33.620833"
      ]
     },
     "metadata": {},
     "output_type": "display_data"
    },
    {
     "name": "stdout",
     "output_type": "stream",
     "text": [
      "Table. Fluxes. CRD\n"
     ]
    },
    {
     "data": {
      "text/html": [
       "<div>\n",
       "<style>\n",
       "    .dataframe thead tr:only-child th {\n",
       "        text-align: right;\n",
       "    }\n",
       "\n",
       "    .dataframe thead th {\n",
       "        text-align: left;\n",
       "    }\n",
       "\n",
       "    .dataframe tbody tr th {\n",
       "        vertical-align: top;\n",
       "    }\n",
       "</style>\n",
       "<table border=\"1\" class=\"dataframe\">\n",
       "  <thead>\n",
       "    <tr style=\"text-align: right;\">\n",
       "      <th></th>\n",
       "      <th></th>\n",
       "      <th>flug</th>\n",
       "      <th>fldg</th>\n",
       "      <th>fnetg</th>\n",
       "    </tr>\n",
       "    <tr>\n",
       "      <th>pressure</th>\n",
       "      <th>level</th>\n",
       "      <th></th>\n",
       "      <th></th>\n",
       "      <th></th>\n",
       "    </tr>\n",
       "  </thead>\n",
       "  <tbody>\n",
       "    <tr>\n",
       "      <th>0.0000</th>\n",
       "      <th>76</th>\n",
       "      <td>-36.235409</td>\n",
       "      <td>-2.883770</td>\n",
       "      <td>-39.119179</td>\n",
       "    </tr>\n",
       "    <tr>\n",
       "      <th>0.9151</th>\n",
       "      <th>23</th>\n",
       "      <td>-35.049049</td>\n",
       "      <td>0.003337</td>\n",
       "      <td>-35.045712</td>\n",
       "    </tr>\n",
       "    <tr>\n",
       "      <th>1001.1120</th>\n",
       "      <th>75</th>\n",
       "      <td>-36.287140</td>\n",
       "      <td>2.546944</td>\n",
       "      <td>-33.740196</td>\n",
       "    </tr>\n",
       "  </tbody>\n",
       "</table>\n",
       "</div>"
      ],
      "text/plain": [
       "                      flug      fldg      fnetg\n",
       "pressure  level                                \n",
       "0.0000    76    -36.235409 -2.883770 -39.119179\n",
       "0.9151    23    -35.049049  0.003337 -35.045712\n",
       "1001.1120 75    -36.287140  2.546944 -33.740196"
      ]
     },
     "metadata": {},
     "output_type": "display_data"
    },
    {
     "name": "stdout",
     "output_type": "stream",
     "text": [
      "Table. Fluxes. CLIRAD\n"
     ]
    },
    {
     "data": {
      "text/html": [
       "<div>\n",
       "<style>\n",
       "    .dataframe thead tr:only-child th {\n",
       "        text-align: right;\n",
       "    }\n",
       "\n",
       "    .dataframe thead th {\n",
       "        text-align: left;\n",
       "    }\n",
       "\n",
       "    .dataframe tbody tr th {\n",
       "        vertical-align: top;\n",
       "    }\n",
       "</style>\n",
       "<table border=\"1\" class=\"dataframe\">\n",
       "  <thead>\n",
       "    <tr style=\"text-align: right;\">\n",
       "      <th></th>\n",
       "      <th></th>\n",
       "      <th>flug</th>\n",
       "      <th>fldg</th>\n",
       "      <th>fnetg</th>\n",
       "    </tr>\n",
       "    <tr>\n",
       "      <th>pressure</th>\n",
       "      <th>level</th>\n",
       "      <th></th>\n",
       "      <th></th>\n",
       "      <th></th>\n",
       "    </tr>\n",
       "  </thead>\n",
       "  <tbody>\n",
       "    <tr>\n",
       "      <th>0.0000</th>\n",
       "      <th>1</th>\n",
       "      <td>-4.011870e-03</td>\n",
       "      <td>0.000000</td>\n",
       "      <td>-0.004012</td>\n",
       "    </tr>\n",
       "    <tr>\n",
       "      <th>1.0685</th>\n",
       "      <th>24</th>\n",
       "      <td>-4.488580e-03</td>\n",
       "      <td>0.000216</td>\n",
       "      <td>-0.004271</td>\n",
       "    </tr>\n",
       "    <tr>\n",
       "      <th>1013.0000</th>\n",
       "      <th>76</th>\n",
       "      <td>1.100000e-07</td>\n",
       "      <td>-0.098975</td>\n",
       "      <td>-0.098976</td>\n",
       "    </tr>\n",
       "  </tbody>\n",
       "</table>\n",
       "</div>"
      ],
      "text/plain": [
       "                         flug      fldg     fnetg\n",
       "pressure  level                                  \n",
       "0.0000    1     -4.011870e-03  0.000000 -0.004012\n",
       "1.0685    24    -4.488580e-03  0.000216 -0.004271\n",
       "1013.0000 76     1.100000e-07 -0.098975 -0.098976"
      ]
     },
     "metadata": {},
     "output_type": "display_data"
    },
    {
     "name": "stdout",
     "output_type": "stream",
     "text": [
      "Table. Fluxes. (CRD) - (WGT igg=10 wgt_flux=1)\n"
     ]
    },
    {
     "data": {
      "text/html": [
       "<div>\n",
       "<style>\n",
       "    .dataframe thead tr:only-child th {\n",
       "        text-align: right;\n",
       "    }\n",
       "\n",
       "    .dataframe thead th {\n",
       "        text-align: left;\n",
       "    }\n",
       "\n",
       "    .dataframe tbody tr th {\n",
       "        vertical-align: top;\n",
       "    }\n",
       "</style>\n",
       "<table border=\"1\" class=\"dataframe\">\n",
       "  <thead>\n",
       "    <tr style=\"text-align: right;\">\n",
       "      <th></th>\n",
       "      <th></th>\n",
       "      <th>flug</th>\n",
       "      <th>fldg</th>\n",
       "      <th>fnetg</th>\n",
       "    </tr>\n",
       "    <tr>\n",
       "      <th>pressure</th>\n",
       "      <th>level</th>\n",
       "      <th></th>\n",
       "      <th></th>\n",
       "      <th></th>\n",
       "    </tr>\n",
       "  </thead>\n",
       "  <tbody>\n",
       "    <tr>\n",
       "      <th>0.0000</th>\n",
       "      <th>1</th>\n",
       "      <td>-1.223352</td>\n",
       "      <td>-2.883770</td>\n",
       "      <td>-4.107122</td>\n",
       "    </tr>\n",
       "    <tr>\n",
       "      <th>1.0685</th>\n",
       "      <th>24</th>\n",
       "      <td>-0.037750</td>\n",
       "      <td>-0.001339</td>\n",
       "      <td>-0.039088</td>\n",
       "    </tr>\n",
       "    <tr>\n",
       "      <th>1013.0000</th>\n",
       "      <th>76</th>\n",
       "      <td>-0.051732</td>\n",
       "      <td>-0.166606</td>\n",
       "      <td>-0.218339</td>\n",
       "    </tr>\n",
       "  </tbody>\n",
       "</table>\n",
       "</div>"
      ],
      "text/plain": [
       "                     flug      fldg     fnetg\n",
       "pressure  level                              \n",
       "0.0000    1     -1.223352 -2.883770 -4.107122\n",
       "1.0685    24    -0.037750 -0.001339 -0.039088\n",
       "1013.0000 76    -0.051732 -0.166606 -0.218339"
      ]
     },
     "metadata": {},
     "output_type": "display_data"
    },
    {
     "name": "stdout",
     "output_type": "stream",
     "text": [
      "Table. Fluxes. (CLIRAD) - (WGT igg=10 wgt_flux=1)\n"
     ]
    },
    {
     "data": {
      "text/html": [
       "<a id=\"Best-fit_Parameters\"></a>"
      ],
      "text/plain": [
       "<IPython.core.display.HTML object>"
      ]
     },
     "metadata": {},
     "output_type": "display_data"
    },
    {
     "data": {
      "text/markdown": [
       "# Best-fit Parameters"
      ],
      "text/plain": [
       "<IPython.core.display.Markdown object>"
      ]
     },
     "metadata": {},
     "output_type": "display_data"
    },
    {
     "name": "stdout",
     "output_type": "stream",
     "text": [
      "Best-fit values for each (gas, band)\n",
      "------------------------------------\n",
      "o n2o band3a\n",
      "  atmpro = mls\n",
      "  band = 3a\n",
      "  commitnumber = 5014a19\n",
      "  conc = 3.2e-07\n",
      "  dv = 0.01\n",
      "  klin = 2.22e-20\n",
      "  molecule = n2o\n",
      "  ng_adju = [0, 0]\n",
      "  ng_refs = [1, 2]\n",
      "  nv = 100\n",
      "  option_compute_btable = 0\n",
      "  option_compute_ktable = 1\n",
      "  option_wgt_flux = 1\n",
      "  option_wgt_k = 1\n",
      "  ref_pts = [(1, 250), (500, 250)]\n",
      "  tsfc = 294\n",
      "  vmax = 620\n",
      "  vmin = 540\n",
      "  w_diffuse = [(1.8,), (1.66, 1.8)]\n",
      "  wgt = [(0.9,), (0.5, 0.95)]\n"
     ]
    }
   ],
   "source": [
    "script()"
   ]
  },
  {
   "cell_type": "code",
   "execution_count": 13,
   "metadata": {
    "collapsed": true
   },
   "outputs": [
    {
     "data": {
      "text/html": [
       "<script>\n",
       "code_show=true; \n",
       "function code_toggle() {\n",
       " if (code_show){\n",
       " $('div.input').hide();\n",
       " } else {\n",
       " $('div.input').show();\n",
       " }\n",
       " code_show = !code_show\n",
       "} \n",
       "$( document ).ready(code_toggle);\n",
       "</script>\n",
       "<form action=\"javascript:code_toggle()\"><input type=\"submit\" value=\"Click here to toggle on/off the raw code.\"></form>"
      ],
      "text/plain": [
       "<IPython.core.display.HTML object>"
      ]
     },
     "execution_count": 13,
     "metadata": {},
     "output_type": "execute_result"
    }
   ],
   "source": [
    "display.HTML('''<script>\n",
    "code_show=true; \n",
    "function code_toggle() {\n",
    " if (code_show){\n",
    " $('div.input').hide();\n",
    " } else {\n",
    " $('div.input').show();\n",
    " }\n",
    " code_show = !code_show\n",
    "} \n",
    "$( document ).ready(code_toggle);\n",
    "</script>\n",
    "<form action=\"javascript:code_toggle()\"><input type=\"submit\" value=\"Click here to toggle on/off the raw code.\"></form>''')"
   ]
  }
 ],
 "metadata": {
  "kernelspec": {
   "display_name": "Python 3",
   "language": "python",
   "name": "python3"
  },
  "language_info": {
   "codemirror_mode": {
    "name": "ipython",
    "version": 3
   },
   "file_extension": ".py",
   "mimetype": "text/x-python",
   "name": "python",
   "nbconvert_exporter": "python",
   "pygments_lexer": "ipython3",
   "version": "3.6.1"
  }
 },
 "nbformat": 4,
 "nbformat_minor": 2
}
