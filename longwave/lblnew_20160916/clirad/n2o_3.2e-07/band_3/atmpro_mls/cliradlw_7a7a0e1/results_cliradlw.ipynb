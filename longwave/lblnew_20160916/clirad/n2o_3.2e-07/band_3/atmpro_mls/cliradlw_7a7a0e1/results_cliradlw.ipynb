{
 "cells": [
  {
   "cell_type": "code",
   "execution_count": 1,
   "metadata": {
    "collapsed": true
   },
   "outputs": [],
   "source": [
    "%matplotlib inline\n",
    "import os\n",
    "import re\n",
    "import io\n",
    "import itertools\n",
    "import pprint\n",
    "\n",
    "from bokeh.io import output_notebook, show\n",
    "from bokeh.layouts import gridplot\n",
    "from bokeh.plotting import figure\n",
    "from bokeh.models import Range1d, Legend\n",
    "from bokeh.palettes import all_palettes\n",
    "\n",
    "import matplotlib\n",
    "import matplotlib.pyplot as plt\n",
    "import numpy as np\n",
    "import pandas as pd\n",
    "import xarray as xr\n",
    "\n",
    "import climatools.lblnew.bestfit_params as bestfits\n",
    "from climatools.lblnew import setup_bestfit, setup_overlap\n",
    "import climatools.lblnew.pipeline as pipe_lblnew\n",
    "import climatools.cliradlw.setup as setup_cliradlw\n",
    "import climatools.cliradlw.pipeline as pipe_cliradlw\n",
    "\n",
    "import climatools.html.html as climahtml\n",
    "from climatools.lblnew.dataio import *\n",
    "from climatools.plot.plot import *\n",
    "\n",
    "\n",
    "import IPython.display as display"
   ]
  },
  {
   "cell_type": "code",
   "execution_count": 2,
   "metadata": {
    "collapsed": true
   },
   "outputs": [],
   "source": [
    "%run param.py"
   ]
  },
  {
   "cell_type": "code",
   "execution_count": 3,
   "metadata": {
    "collapsed": true
   },
   "outputs": [],
   "source": [
    "def load_output_file(path_csv):\n",
    "    '''\n",
    "    Load lblnew output .csv file to xarray.Dataset\n",
    "    \n",
    "    Parameters\n",
    "    ----------\n",
    "    path_csv: str\n",
    "              Path to the .csv file to be loaded.\n",
    "    ds: xarray.Dataset\n",
    "        Data in the input file in the form of an xarray.Dataset.\n",
    "    '''\n",
    "    toindex = ['band', 'pressure', 'igg', 'g']    \n",
    "    df = pd.read_csv(path_csv, sep=r'\\s+')\n",
    "    df = df.set_index([i for i in toindex if i in df.columns])\n",
    "    df = df.rename(columns={'sfu': 'flug',\n",
    "                            'sfd': 'fldg',\n",
    "                            'fnet': 'fnetg',\n",
    "                            'coolr': 'coolrg'})\n",
    "    ds = xr.Dataset.from_dataframe(df)\n",
    "\n",
    "    for l in ('level', 'layer'):\n",
    "        if l in ds.data_vars:\n",
    "            if len(ds[l].dims) > 1:\n",
    "                surface = {d: 0 for d in ds.dims if d != 'pressure'}\n",
    "                coord_level = ds[l][surface]\n",
    "                ds.coords[l] = ('pressure', coord_level)\n",
    "            else:\n",
    "                ds.coords[l] = ('pressure', ds[l])\n",
    "    \n",
    "    return ds"
   ]
  },
  {
   "cell_type": "code",
   "execution_count": 4,
   "metadata": {
    "collapsed": true
   },
   "outputs": [],
   "source": [
    "def lblnew_setup(param=None):\n",
    "    if 'ng_refs' in param:\n",
    "        return {'setup': setup_bestfit,\n",
    "                'fname_flux_crd': 'output_flux.dat',\n",
    "                'fname_cool_crd': 'output_coolr.dat',\n",
    "                'fname_flux_wgt': 'output_wfluxg.dat',\n",
    "                'fname_cool_wgt': 'output_wcoolrg.dat'}\n",
    "    else:\n",
    "        return {'setup': setup_overlap,\n",
    "                'fname_flux_crd': 'output_flux.dat',\n",
    "                'fname_cool_crd': 'output_coolr.dat',\n",
    "                'fname_flux_wgt': 'output_wflux.dat',\n",
    "                'fname_cool_wgt': 'output_wcoolr.dat'}\n",
    "\n",
    "    \n",
    "def load_lblnew_data(param):\n",
    "    \n",
    "    fname_dsname = [('fname_flux_crd', 'ds_flux_crd'),\n",
    "                    ('fname_cool_crd', 'ds_cool_crd'),\n",
    "                    ('fname_flux_wgt', 'ds_flux_wgt'),\n",
    "                    ('fname_cool_wgt', 'ds_cool_wgt')]\n",
    "    \n",
    "    d = lblnew_setup(param)\n",
    "    dir_fortran = pipe_lblnew.get_dir_case(param, setup=d['setup'])\n",
    "    \n",
    "    data_dict = {}\n",
    "    for fname, dsname in fname_dsname:\n",
    "        fpath = os.path.join(dir_fortran, d[fname])\n",
    "        data_dict[dsname] = load_output_file(fpath)\n",
    "    return data_dict\n",
    "    \n",
    "\n",
    "    \n",
    "    "
   ]
  },
  {
   "cell_type": "code",
   "execution_count": 5,
   "metadata": {
    "collapsed": true
   },
   "outputs": [],
   "source": [
    "d = load_lblnew_data(PARAM_LBLNEW)\n",
    "\n",
    "DS_FLUX_CRD = d['ds_flux_crd']\n",
    "DS_COOL_CRD = d['ds_cool_crd']\n",
    "DS_FLUX_WGT = d['ds_flux_wgt']\n",
    "DS_COOL_WGT = d['ds_cool_wgt']"
   ]
  },
  {
   "cell_type": "code",
   "execution_count": 6,
   "metadata": {
    "collapsed": true
   },
   "outputs": [],
   "source": [
    "DIR_FORTRAN = pipe_cliradlw.get_fortran_dir(PARAM, \n",
    "                                            setup=setup_cliradlw)\n",
    "\n",
    "PATH_FLUX = os.path.join(DIR_FORTRAN, 'output_flux.dat')\n",
    "PATH_COOL = os.path.join(DIR_FORTRAN, 'output_coolr.dat')\n",
    "\n",
    "DS_FLUX = load_output_file(PATH_FLUX)\n",
    "DS_COOL = load_output_file(PATH_COOL)"
   ]
  },
  {
   "cell_type": "code",
   "execution_count": 7,
   "metadata": {},
   "outputs": [
    {
     "data": {
      "text/html": [
       "\n",
       "    <div class=\"bk-root\">\n",
       "        <a href=\"https://bokeh.pydata.org\" target=\"_blank\" class=\"bk-logo bk-logo-small bk-logo-notebook\"></a>\n",
       "        <span id=\"ad340997-eee2-40b5-a1ed-db837463277e\">Loading BokehJS ...</span>\n",
       "    </div>"
      ]
     },
     "metadata": {},
     "output_type": "display_data"
    },
    {
     "data": {
      "application/javascript": [
       "\n",
       "(function(root) {\n",
       "  function now() {\n",
       "    return new Date();\n",
       "  }\n",
       "\n",
       "  var force = true;\n",
       "\n",
       "  if (typeof (root._bokeh_onload_callbacks) === \"undefined\" || force === true) {\n",
       "    root._bokeh_onload_callbacks = [];\n",
       "    root._bokeh_is_loading = undefined;\n",
       "  }\n",
       "\n",
       "  var JS_MIME_TYPE = 'application/javascript';\n",
       "  var HTML_MIME_TYPE = 'text/html';\n",
       "  var EXEC_MIME_TYPE = 'application/vnd.bokehjs_exec.v0+json';\n",
       "  var CLASS_NAME = 'output_bokeh rendered_html';\n",
       "\n",
       "  /**\n",
       "   * Render data to the DOM node\n",
       "   */\n",
       "  function render(props, node) {\n",
       "    var script = document.createElement(\"script\");\n",
       "    node.appendChild(script);\n",
       "  }\n",
       "\n",
       "  /**\n",
       "   * Handle when an output is cleared or removed\n",
       "   */\n",
       "  function handleClearOutput(event, handle) {\n",
       "    var cell = handle.cell;\n",
       "\n",
       "    var id = cell.output_area._bokeh_element_id;\n",
       "    var server_id = cell.output_area._bokeh_server_id;\n",
       "    // Clean up Bokeh references\n",
       "    if (id !== undefined) {\n",
       "      Bokeh.index[id].model.document.clear();\n",
       "      delete Bokeh.index[id];\n",
       "    }\n",
       "\n",
       "    if (server_id !== undefined) {\n",
       "      // Clean up Bokeh references\n",
       "      var cmd = \"from bokeh.io.state import curstate; print(curstate().uuid_to_server['\" + server_id + \"'].get_sessions()[0].document.roots[0]._id)\";\n",
       "      cell.notebook.kernel.execute(cmd, {\n",
       "        iopub: {\n",
       "          output: function(msg) {\n",
       "            var element_id = msg.content.text.trim();\n",
       "            Bokeh.index[element_id].model.document.clear();\n",
       "            delete Bokeh.index[element_id];\n",
       "          }\n",
       "        }\n",
       "      });\n",
       "      // Destroy server and session\n",
       "      var cmd = \"import bokeh.io.notebook as ion; ion.destroy_server('\" + server_id + \"')\";\n",
       "      cell.notebook.kernel.execute(cmd);\n",
       "    }\n",
       "  }\n",
       "\n",
       "  /**\n",
       "   * Handle when a new output is added\n",
       "   */\n",
       "  function handleAddOutput(event, handle) {\n",
       "    var output_area = handle.output_area;\n",
       "    var output = handle.output;\n",
       "\n",
       "    // limit handleAddOutput to display_data with EXEC_MIME_TYPE content only\n",
       "    if ((output.output_type != \"display_data\") || (!output.data.hasOwnProperty(EXEC_MIME_TYPE))) {\n",
       "      return\n",
       "    }\n",
       "\n",
       "    var toinsert = output_area.element.find(\".\" + CLASS_NAME.split(' ')[0]);\n",
       "\n",
       "    if (output.metadata[EXEC_MIME_TYPE][\"id\"] !== undefined) {\n",
       "      toinsert[0].firstChild.textContent = output.data[JS_MIME_TYPE];\n",
       "      // store reference to embed id on output_area\n",
       "      output_area._bokeh_element_id = output.metadata[EXEC_MIME_TYPE][\"id\"];\n",
       "    }\n",
       "    if (output.metadata[EXEC_MIME_TYPE][\"server_id\"] !== undefined) {\n",
       "      var bk_div = document.createElement(\"div\");\n",
       "      bk_div.innerHTML = output.data[HTML_MIME_TYPE];\n",
       "      var script_attrs = bk_div.children[0].attributes;\n",
       "      for (var i = 0; i < script_attrs.length; i++) {\n",
       "        toinsert[0].firstChild.setAttribute(script_attrs[i].name, script_attrs[i].value);\n",
       "      }\n",
       "      // store reference to server id on output_area\n",
       "      output_area._bokeh_server_id = output.metadata[EXEC_MIME_TYPE][\"server_id\"];\n",
       "    }\n",
       "  }\n",
       "\n",
       "  function register_renderer(events, OutputArea) {\n",
       "\n",
       "    function append_mime(data, metadata, element) {\n",
       "      // create a DOM node to render to\n",
       "      var toinsert = this.create_output_subarea(\n",
       "        metadata,\n",
       "        CLASS_NAME,\n",
       "        EXEC_MIME_TYPE\n",
       "      );\n",
       "      this.keyboard_manager.register_events(toinsert);\n",
       "      // Render to node\n",
       "      var props = {data: data, metadata: metadata[EXEC_MIME_TYPE]};\n",
       "      render(props, toinsert[0]);\n",
       "      element.append(toinsert);\n",
       "      return toinsert\n",
       "    }\n",
       "\n",
       "    /* Handle when an output is cleared or removed */\n",
       "    events.on('clear_output.CodeCell', handleClearOutput);\n",
       "    events.on('delete.Cell', handleClearOutput);\n",
       "\n",
       "    /* Handle when a new output is added */\n",
       "    events.on('output_added.OutputArea', handleAddOutput);\n",
       "\n",
       "    /**\n",
       "     * Register the mime type and append_mime function with output_area\n",
       "     */\n",
       "    OutputArea.prototype.register_mime_type(EXEC_MIME_TYPE, append_mime, {\n",
       "      /* Is output safe? */\n",
       "      safe: true,\n",
       "      /* Index of renderer in `output_area.display_order` */\n",
       "      index: 0\n",
       "    });\n",
       "  }\n",
       "\n",
       "  // register the mime type if in Jupyter Notebook environment and previously unregistered\n",
       "  if (root.Jupyter !== undefined) {\n",
       "    var events = require('base/js/events');\n",
       "    var OutputArea = require('notebook/js/outputarea').OutputArea;\n",
       "\n",
       "    if (OutputArea.prototype.mime_types().indexOf(EXEC_MIME_TYPE) == -1) {\n",
       "      register_renderer(events, OutputArea);\n",
       "    }\n",
       "  }\n",
       "\n",
       "  \n",
       "  if (typeof (root._bokeh_timeout) === \"undefined\" || force === true) {\n",
       "    root._bokeh_timeout = Date.now() + 5000;\n",
       "    root._bokeh_failed_load = false;\n",
       "  }\n",
       "\n",
       "  var NB_LOAD_WARNING = {'data': {'text/html':\n",
       "     \"<div style='background-color: #fdd'>\\n\"+\n",
       "     \"<p>\\n\"+\n",
       "     \"BokehJS does not appear to have successfully loaded. If loading BokehJS from CDN, this \\n\"+\n",
       "     \"may be due to a slow or bad network connection. Possible fixes:\\n\"+\n",
       "     \"</p>\\n\"+\n",
       "     \"<ul>\\n\"+\n",
       "     \"<li>re-rerun `output_notebook()` to attempt to load from CDN again, or</li>\\n\"+\n",
       "     \"<li>use INLINE resources instead, as so:</li>\\n\"+\n",
       "     \"</ul>\\n\"+\n",
       "     \"<code>\\n\"+\n",
       "     \"from bokeh.resources import INLINE\\n\"+\n",
       "     \"output_notebook(resources=INLINE)\\n\"+\n",
       "     \"</code>\\n\"+\n",
       "     \"</div>\"}};\n",
       "\n",
       "  function display_loaded() {\n",
       "    var el = document.getElementById(\"ad340997-eee2-40b5-a1ed-db837463277e\");\n",
       "    if (el != null) {\n",
       "      el.textContent = \"BokehJS is loading...\";\n",
       "    }\n",
       "    if (root.Bokeh !== undefined) {\n",
       "      if (el != null) {\n",
       "        el.textContent = \"BokehJS \" + root.Bokeh.version + \" successfully loaded.\";\n",
       "      }\n",
       "    } else if (Date.now() < root._bokeh_timeout) {\n",
       "      setTimeout(display_loaded, 100)\n",
       "    }\n",
       "  }\n",
       "\n",
       "\n",
       "  function run_callbacks() {\n",
       "    try {\n",
       "      root._bokeh_onload_callbacks.forEach(function(callback) { callback() });\n",
       "    }\n",
       "    finally {\n",
       "      delete root._bokeh_onload_callbacks\n",
       "    }\n",
       "    console.info(\"Bokeh: all callbacks have finished\");\n",
       "  }\n",
       "\n",
       "  function load_libs(js_urls, callback) {\n",
       "    root._bokeh_onload_callbacks.push(callback);\n",
       "    if (root._bokeh_is_loading > 0) {\n",
       "      console.log(\"Bokeh: BokehJS is being loaded, scheduling callback at\", now());\n",
       "      return null;\n",
       "    }\n",
       "    if (js_urls == null || js_urls.length === 0) {\n",
       "      run_callbacks();\n",
       "      return null;\n",
       "    }\n",
       "    console.log(\"Bokeh: BokehJS not loaded, scheduling load and callback at\", now());\n",
       "    root._bokeh_is_loading = js_urls.length;\n",
       "    for (var i = 0; i < js_urls.length; i++) {\n",
       "      var url = js_urls[i];\n",
       "      var s = document.createElement('script');\n",
       "      s.src = url;\n",
       "      s.async = false;\n",
       "      s.onreadystatechange = s.onload = function() {\n",
       "        root._bokeh_is_loading--;\n",
       "        if (root._bokeh_is_loading === 0) {\n",
       "          console.log(\"Bokeh: all BokehJS libraries loaded\");\n",
       "          run_callbacks()\n",
       "        }\n",
       "      };\n",
       "      s.onerror = function() {\n",
       "        console.warn(\"failed to load library \" + url);\n",
       "      };\n",
       "      console.log(\"Bokeh: injecting script tag for BokehJS library: \", url);\n",
       "      document.getElementsByTagName(\"head\")[0].appendChild(s);\n",
       "    }\n",
       "  };var element = document.getElementById(\"ad340997-eee2-40b5-a1ed-db837463277e\");\n",
       "  if (element == null) {\n",
       "    console.log(\"Bokeh: ERROR: autoload.js configured with elementid 'ad340997-eee2-40b5-a1ed-db837463277e' but no matching script tag was found. \")\n",
       "    return false;\n",
       "  }\n",
       "\n",
       "  var js_urls = [\"https://cdn.pydata.org/bokeh/release/bokeh-0.12.14.min.js\", \"https://cdn.pydata.org/bokeh/release/bokeh-widgets-0.12.14.min.js\", \"https://cdn.pydata.org/bokeh/release/bokeh-tables-0.12.14.min.js\", \"https://cdn.pydata.org/bokeh/release/bokeh-gl-0.12.14.min.js\"];\n",
       "\n",
       "  var inline_js = [\n",
       "    function(Bokeh) {\n",
       "      Bokeh.set_log_level(\"info\");\n",
       "    },\n",
       "    \n",
       "    function(Bokeh) {\n",
       "      \n",
       "    },\n",
       "    function(Bokeh) {\n",
       "      console.log(\"Bokeh: injecting CSS: https://cdn.pydata.org/bokeh/release/bokeh-0.12.14.min.css\");\n",
       "      Bokeh.embed.inject_css(\"https://cdn.pydata.org/bokeh/release/bokeh-0.12.14.min.css\");\n",
       "      console.log(\"Bokeh: injecting CSS: https://cdn.pydata.org/bokeh/release/bokeh-widgets-0.12.14.min.css\");\n",
       "      Bokeh.embed.inject_css(\"https://cdn.pydata.org/bokeh/release/bokeh-widgets-0.12.14.min.css\");\n",
       "      console.log(\"Bokeh: injecting CSS: https://cdn.pydata.org/bokeh/release/bokeh-tables-0.12.14.min.css\");\n",
       "      Bokeh.embed.inject_css(\"https://cdn.pydata.org/bokeh/release/bokeh-tables-0.12.14.min.css\");\n",
       "    }\n",
       "  ];\n",
       "\n",
       "  function run_inline_js() {\n",
       "    \n",
       "    if ((root.Bokeh !== undefined) || (force === true)) {\n",
       "      for (var i = 0; i < inline_js.length; i++) {\n",
       "        inline_js[i].call(root, root.Bokeh);\n",
       "      }if (force === true) {\n",
       "        display_loaded();\n",
       "      }} else if (Date.now() < root._bokeh_timeout) {\n",
       "      setTimeout(run_inline_js, 100);\n",
       "    } else if (!root._bokeh_failed_load) {\n",
       "      console.log(\"Bokeh: BokehJS failed to load within specified timeout.\");\n",
       "      root._bokeh_failed_load = true;\n",
       "    } else if (force !== true) {\n",
       "      var cell = $(document.getElementById(\"ad340997-eee2-40b5-a1ed-db837463277e\")).parents('.cell').data().cell;\n",
       "      cell.output_area.append_execute_result(NB_LOAD_WARNING)\n",
       "    }\n",
       "\n",
       "  }\n",
       "\n",
       "  if (root._bokeh_is_loading === 0) {\n",
       "    console.log(\"Bokeh: BokehJS loaded, going straight to plotting\");\n",
       "    run_inline_js();\n",
       "  } else {\n",
       "    load_libs(js_urls, function() {\n",
       "      console.log(\"Bokeh: BokehJS plotting callback run at\", now());\n",
       "      run_inline_js();\n",
       "    });\n",
       "  }\n",
       "}(window));"
      ],
      "application/vnd.bokehjs_load.v0+json": "\n(function(root) {\n  function now() {\n    return new Date();\n  }\n\n  var force = true;\n\n  if (typeof (root._bokeh_onload_callbacks) === \"undefined\" || force === true) {\n    root._bokeh_onload_callbacks = [];\n    root._bokeh_is_loading = undefined;\n  }\n\n  \n\n  \n  if (typeof (root._bokeh_timeout) === \"undefined\" || force === true) {\n    root._bokeh_timeout = Date.now() + 5000;\n    root._bokeh_failed_load = false;\n  }\n\n  var NB_LOAD_WARNING = {'data': {'text/html':\n     \"<div style='background-color: #fdd'>\\n\"+\n     \"<p>\\n\"+\n     \"BokehJS does not appear to have successfully loaded. If loading BokehJS from CDN, this \\n\"+\n     \"may be due to a slow or bad network connection. Possible fixes:\\n\"+\n     \"</p>\\n\"+\n     \"<ul>\\n\"+\n     \"<li>re-rerun `output_notebook()` to attempt to load from CDN again, or</li>\\n\"+\n     \"<li>use INLINE resources instead, as so:</li>\\n\"+\n     \"</ul>\\n\"+\n     \"<code>\\n\"+\n     \"from bokeh.resources import INLINE\\n\"+\n     \"output_notebook(resources=INLINE)\\n\"+\n     \"</code>\\n\"+\n     \"</div>\"}};\n\n  function display_loaded() {\n    var el = document.getElementById(\"ad340997-eee2-40b5-a1ed-db837463277e\");\n    if (el != null) {\n      el.textContent = \"BokehJS is loading...\";\n    }\n    if (root.Bokeh !== undefined) {\n      if (el != null) {\n        el.textContent = \"BokehJS \" + root.Bokeh.version + \" successfully loaded.\";\n      }\n    } else if (Date.now() < root._bokeh_timeout) {\n      setTimeout(display_loaded, 100)\n    }\n  }\n\n\n  function run_callbacks() {\n    try {\n      root._bokeh_onload_callbacks.forEach(function(callback) { callback() });\n    }\n    finally {\n      delete root._bokeh_onload_callbacks\n    }\n    console.info(\"Bokeh: all callbacks have finished\");\n  }\n\n  function load_libs(js_urls, callback) {\n    root._bokeh_onload_callbacks.push(callback);\n    if (root._bokeh_is_loading > 0) {\n      console.log(\"Bokeh: BokehJS is being loaded, scheduling callback at\", now());\n      return null;\n    }\n    if (js_urls == null || js_urls.length === 0) {\n      run_callbacks();\n      return null;\n    }\n    console.log(\"Bokeh: BokehJS not loaded, scheduling load and callback at\", now());\n    root._bokeh_is_loading = js_urls.length;\n    for (var i = 0; i < js_urls.length; i++) {\n      var url = js_urls[i];\n      var s = document.createElement('script');\n      s.src = url;\n      s.async = false;\n      s.onreadystatechange = s.onload = function() {\n        root._bokeh_is_loading--;\n        if (root._bokeh_is_loading === 0) {\n          console.log(\"Bokeh: all BokehJS libraries loaded\");\n          run_callbacks()\n        }\n      };\n      s.onerror = function() {\n        console.warn(\"failed to load library \" + url);\n      };\n      console.log(\"Bokeh: injecting script tag for BokehJS library: \", url);\n      document.getElementsByTagName(\"head\")[0].appendChild(s);\n    }\n  };var element = document.getElementById(\"ad340997-eee2-40b5-a1ed-db837463277e\");\n  if (element == null) {\n    console.log(\"Bokeh: ERROR: autoload.js configured with elementid 'ad340997-eee2-40b5-a1ed-db837463277e' but no matching script tag was found. \")\n    return false;\n  }\n\n  var js_urls = [\"https://cdn.pydata.org/bokeh/release/bokeh-0.12.14.min.js\", \"https://cdn.pydata.org/bokeh/release/bokeh-widgets-0.12.14.min.js\", \"https://cdn.pydata.org/bokeh/release/bokeh-tables-0.12.14.min.js\", \"https://cdn.pydata.org/bokeh/release/bokeh-gl-0.12.14.min.js\"];\n\n  var inline_js = [\n    function(Bokeh) {\n      Bokeh.set_log_level(\"info\");\n    },\n    \n    function(Bokeh) {\n      \n    },\n    function(Bokeh) {\n      console.log(\"Bokeh: injecting CSS: https://cdn.pydata.org/bokeh/release/bokeh-0.12.14.min.css\");\n      Bokeh.embed.inject_css(\"https://cdn.pydata.org/bokeh/release/bokeh-0.12.14.min.css\");\n      console.log(\"Bokeh: injecting CSS: https://cdn.pydata.org/bokeh/release/bokeh-widgets-0.12.14.min.css\");\n      Bokeh.embed.inject_css(\"https://cdn.pydata.org/bokeh/release/bokeh-widgets-0.12.14.min.css\");\n      console.log(\"Bokeh: injecting CSS: https://cdn.pydata.org/bokeh/release/bokeh-tables-0.12.14.min.css\");\n      Bokeh.embed.inject_css(\"https://cdn.pydata.org/bokeh/release/bokeh-tables-0.12.14.min.css\");\n    }\n  ];\n\n  function run_inline_js() {\n    \n    if ((root.Bokeh !== undefined) || (force === true)) {\n      for (var i = 0; i < inline_js.length; i++) {\n        inline_js[i].call(root, root.Bokeh);\n      }if (force === true) {\n        display_loaded();\n      }} else if (Date.now() < root._bokeh_timeout) {\n      setTimeout(run_inline_js, 100);\n    } else if (!root._bokeh_failed_load) {\n      console.log(\"Bokeh: BokehJS failed to load within specified timeout.\");\n      root._bokeh_failed_load = true;\n    } else if (force !== true) {\n      var cell = $(document.getElementById(\"ad340997-eee2-40b5-a1ed-db837463277e\")).parents('.cell').data().cell;\n      cell.output_area.append_execute_result(NB_LOAD_WARNING)\n    }\n\n  }\n\n  if (root._bokeh_is_loading === 0) {\n    console.log(\"Bokeh: BokehJS loaded, going straight to plotting\");\n    run_inline_js();\n  } else {\n    load_libs(js_urls, function() {\n      console.log(\"Bokeh: BokehJS plotting callback run at\", now());\n      run_inline_js();\n    });\n  }\n}(window));"
     },
     "metadata": {},
     "output_type": "display_data"
    }
   ],
   "source": [
    "output_notebook()"
   ]
  },
  {
   "cell_type": "code",
   "execution_count": 8,
   "metadata": {
    "collapsed": true
   },
   "outputs": [],
   "source": [
    "def fmt_cool(ds_in):\n",
    "    ds = ds_in.copy(deep=True)\n",
    "    if 'igg' in ds.dims:\n",
    "        ds = ds.sel(igg=1)\n",
    "\n",
    "    if 'g' in ds.dims:\n",
    "        ds = ds.sum('g')\n",
    "            \n",
    "    if 'band' in ds.dims:\n",
    "        try:\n",
    "            ds = ds.squeeze('band')\n",
    "        except ValueError:\n",
    "            ds = ds.sum('band')\n",
    "                \n",
    "    return ds['coolrg']\n",
    "\n",
    "\n",
    "def pltdata_cooling_1(ds_cool=None,\n",
    "                      ds_cool_crd=None, ds_cool_wgt=None):\n",
    "    \n",
    "\n",
    "\n",
    "    colors = all_palettes['Set1'][4]\n",
    "    data = [{'label': 'CLIRAD `coolr_bands`',\n",
    "             'srs': fmt_cool(ds_cool),\n",
    "             'line_dash': 'dashed', 'line_width': 5,\n",
    "             'color': colors[0], 'alpha': .6},\n",
    "            {'label': 'CRD',\n",
    "             'srs': fmt_cool(ds_cool_crd),\n",
    "             'line_dash': 'solid', 'line_width': 1.5,\n",
    "             'marker': 'circle', 'marker_size': 5,\n",
    "             'color': colors[2], 'alpha': 1,},\n",
    "            {'label': 'WGT igg=10 wgt_flux=2',\n",
    "             'srs': fmt_cool(ds_cool_wgt),\n",
    "             'line_dash': 'solid', 'line_width': 3,\n",
    "             'marker': 'square', 'marker_size': 5,\n",
    "             'color': colors[3], 'alpha': .6}]\n",
    "    return data\n",
    "\n",
    "\n",
    "def nice_xlims(pltdata=None, prange=None):\n",
    "    \n",
    "    def get_slice(srs):\n",
    "        return srs.sel(pressure=slice(*prange))\n",
    "    \n",
    "    srss = [d['srs'] for d in pltdata]\n",
    "    vmin = min([get_slice(srs).min() for srs in srss])\n",
    "    vmax = max([get_slice(srs).max() for srs in srss])\n",
    "    dv = (vmax - vmin) * .01\n",
    "    return float(vmin - dv), float(vmax + dv)\n",
    "    \n",
    "\n",
    "def plt_cooling_bokeh(pltdata=None):\n",
    "    '''\n",
    "    Plot a list of cooling rate profiles using bokeh.\n",
    "    '''\n",
    "    ymin = 1e-2 \n",
    "    ymax = 1020 \n",
    "        \n",
    "    p1 = figure(title=\"Linear pressure scale\", \n",
    "                plot_width=400)        \n",
    "    xmin, xmax = nice_xlims(pltdata, prange=(50, 1050))\n",
    "    for d in pltdata:\n",
    "        if 'marker' in d:\n",
    "            getattr(p1, d['marker'])(d['srs'].values, \n",
    "                    d['srs'].coords['pressure'].values,\n",
    "                    color=d['color'], alpha=.7)\n",
    "        p1.line(d['srs'].values, \n",
    "                d['srs'].coords['pressure'].values,\n",
    "                color=d['color'], alpha=d['alpha'], \n",
    "                line_width=d['line_width'], line_dash=d['line_dash'])\n",
    "    \n",
    "    p1.y_range = Range1d(ymax, ymin)\n",
    "    p1.yaxis.axis_label = 'pressure [mb]'   \n",
    "    p1.x_range = Range1d(xmin, xmax)\n",
    "    p1.xaxis.axis_label = 'cooling rate [K/day]'\n",
    "            \n",
    "    p2 = figure(title='Log pressure scale', y_axis_type='log',\n",
    "                plot_width=560)\n",
    "    xmin, xmax = nice_xlims(pltdata, prange=(.01, 200))\n",
    "    \n",
    "    rs = []\n",
    "    for d in pltdata:\n",
    "        rd = []\n",
    "        if 'marker' in d:\n",
    "            r_mark = getattr(p2, d['marker'])(d['srs'].values, \n",
    "                        d['srs'].coords['pressure'].values,\n",
    "                        color=d['color'], alpha=.7)\n",
    "            rd.append(r_mark)\n",
    "        r_line = p2.line(d['srs'].values, \n",
    "                    d['srs'].coords['pressure'].values,\n",
    "                    color=d['color'], alpha=d['alpha'], \n",
    "                    line_width=d['line_width'], line_dash=d['line_dash'])\n",
    "        rd.append(r_line)\n",
    "      \n",
    "        rs.append(rd)\n",
    "        \n",
    "    p2.y_range = Range1d(ymax, ymin)  \n",
    "    p2.yaxis.axis_label = 'pressure [mb]'\n",
    "    \n",
    "    p2.x_range = Range1d(xmin, xmax)\n",
    "    p2.xaxis.axis_label = 'cooling rate [K/day]'\n",
    "    \n",
    "    items = [(d['label'], r) for r, d in zip(rs, pltdata)]\n",
    "    legend = Legend(items=items, location=(10, -30))\n",
    "    legend.label_text_font_size = '8pt'\n",
    "    \n",
    "    p2.add_layout(legend, 'right')  \n",
    "    \n",
    "    show(gridplot(p1, p2, ncols=2, plot_height=500))\n",
    "    \n",
    "\n",
    "def script_plt_cooling():\n",
    "    pltdata = pltdata_cooling_1(\n",
    "        ds_cool=DS_COOL,\n",
    "        ds_cool_crd=DS_COOL_CRD,\n",
    "        ds_cool_wgt=DS_COOL_WGT)\n",
    "    plt_cooling_bokeh(pltdata=pltdata)\n",
    "    print('''FIGURE. Cooling rate profiles.''')"
   ]
  },
  {
   "cell_type": "code",
   "execution_count": 9,
   "metadata": {
    "collapsed": true
   },
   "outputs": [],
   "source": [
    "def fmt_flux(ds_in):\n",
    "    ds = ds_in.copy(deep=True)\n",
    "    \n",
    "    for l in ('level', 'layer'):\n",
    "        if l in ds.data_vars:\n",
    "            if len(ds[l].dims) > 1:\n",
    "                surface = {d: 0 for d in ds.dims if d != 'pressure'}\n",
    "                coord_level = ds[l][surface]\n",
    "                ds.coords[l] = ('pressure', coord_level)\n",
    "            else:\n",
    "                ds.coords[l] = ('pressure', ds[l])\n",
    "        \n",
    "    ds = ds.isel(pressure=[0, 23, -1])\n",
    "        \n",
    "    if 'igg' in ds.dims:\n",
    "        ds = ds.sel(igg=[1])\n",
    "        ds = ds.squeeze('igg').drop('igg')\n",
    "    \n",
    "    if 'g' in ds.dims:\n",
    "        ds = ds.sum('g')\n",
    "            \n",
    "    if 'band' in ds.dims:\n",
    "        try:\n",
    "            ds = ds.squeeze('band').drop('band')\n",
    "        except ValueError:\n",
    "            ds = ds.sum('band')\n",
    "                \n",
    "    df = ds.to_dataframe()\n",
    "    df = df.set_index('level', append=True)               \n",
    "    return df\n",
    "\n",
    "\n",
    "def tbdata_flux(ds_flux=None, ds_flux_crd=None, ds_flux_wgt=None):\n",
    "    ilevels = [0, 23, -1]\n",
    "            \n",
    "    benchmark = {'label': 'WGT igg=10 wgt_flux=1',\n",
    "                 'df': fmt_flux(ds_flux_wgt)}\n",
    "    \n",
    "    tbs = [{'label': 'CRD',\n",
    "            'df': fmt_flux(ds_flux_crd)},\n",
    "           {'label': 'CLIRAD',\n",
    "            'df': fmt_flux(ds_flux)}]\n",
    "    \n",
    "    data = {'benchmark': benchmark, 'others': tbs}\n",
    "    return data\n",
    "\n",
    "\n",
    "def tb_flux(tbdata=None):\n",
    "    benchmark = tbdata['benchmark']\n",
    "    others = tbdata['others']\n",
    "    \n",
    "    def show_tb(d=None):\n",
    "        display.display(d['df'])\n",
    "        print('Table.', 'Fluxes.', d['label'])\n",
    "        \n",
    "    def show_tbdiff(d0=None, d=None):\n",
    "        df = d['df']\n",
    "        df.index = d0['df'].index\n",
    "        display.display(df - d0['df'])\n",
    "        print('Table.', 'Fluxes.', \n",
    "              '({}) - ({})'.format(d['label'], d0['label']))\n",
    "        \n",
    "    show_tb(benchmark)\n",
    "    for d in others:\n",
    "        show_tb(d)\n",
    "        \n",
    "    for d in others:\n",
    "        show_tbdiff(d=d, d0=benchmark)\n",
    "        \n",
    "        \n",
    "def script_tb_flux():\n",
    "    data = tbdata_flux(ds_flux=DS_FLUX,\n",
    "                       ds_flux_crd=DS_FLUX_CRD,\n",
    "                       ds_flux_wgt=DS_FLUX_WGT)\n",
    "    tb_flux(tbdata=data)"
   ]
  },
  {
   "cell_type": "code",
   "execution_count": 10,
   "metadata": {
    "collapsed": true
   },
   "outputs": [],
   "source": [
    "def band_map():\n",
    "    '''\n",
    "    Maps spectral bands in lblnew to spectral bands in clirad.\n",
    "    '''\n",
    "    lblnew2clirad = {'1': '1',\n",
    "            '2': '2',\n",
    "            '3a': '3',\n",
    "            '3b': '4',\n",
    "            '3c': '5',\n",
    "            '4': '6', \n",
    "            '5': '7',\n",
    "            '6': '8',\n",
    "            '7': '9', \n",
    "            '8': '10',\n",
    "            '9': '11'}\n",
    "    \n",
    "    clirad2lblnew = {clirad: lblnew \n",
    "                     for lblnew, clirad in lblnew2clirad.items()}\n",
    "    return clirad2lblnew\n",
    "\n",
    "\n",
    "def gasbands():\n",
    "    bmap = band_map()\n",
    "    gases = list(PARAM['molecule'].keys())\n",
    "    \n",
    "    bands = [bmap[str(b)] for b in PARAM['band']]\n",
    "    return list(itertools.product(gases, bands))\n",
    "\n",
    "\n",
    "def print_bestfit_params():\n",
    "    print('Best-fit values for each (gas, band)')\n",
    "    print('------------------------------------')\n",
    "    for gas, band in gasbands():\n",
    "        print('o {} band{}'.format(gas, band))\n",
    "        param = bestfits.kdist_params(molecule=gas, band=band)\n",
    "        for name, value in param.items():\n",
    "            print(2 * ' ' + '{} = {}'.format(name, value))\n",
    "\n",
    "        \n",
    "def print_input_param():        \n",
    "    for name, value in PARAM.items():\n",
    "        print('{} = {}'.format(name, value))\n",
    "        \n",
    "        \n",
    "def print_lblnew_param():\n",
    "    for name, value in PARAM_LBLNEW.items():\n",
    "        print('{} = {}'.format(name, value))\n"
   ]
  },
  {
   "cell_type": "code",
   "execution_count": 11,
   "metadata": {
    "collapsed": true,
    "scrolled": false
   },
   "outputs": [],
   "source": [
    "def show_html(s):\n",
    "    display.display(display.HTML(s))\n",
    "\n",
    "    \n",
    "def show_markdown(s):\n",
    "    display.display(display.Markdown(s))\n",
    "\n",
    "    \n",
    "def script():\n",
    "    \n",
    "    title = '### CLIRAD-LW'\n",
    "    s_input = 'Input Parameters'\n",
    "    s_lblnew_param = 'LBLNEW case compaired against'\n",
    "    s_bestfits = 'Best-fit Parameters'\n",
    "    s_plt_cooling = 'Cooling Rate Profiles'\n",
    "    s_tb_flux = 'Flux Comparison'\n",
    "    \n",
    "    # title\n",
    "    show_markdown('### CLIRAD-LW')\n",
    "    \n",
    "    # TOC\n",
    "    show_markdown('### Table of Contents')\n",
    "    show_html(climahtml.getHTML_hrefanchor(s_input))\n",
    "    show_html(climahtml.getHTML_hrefanchor(s_lblnew_param))\n",
    "    show_html(climahtml.getHTML_hrefanchor(s_plt_cooling))\n",
    "    show_html(climahtml.getHTML_hrefanchor(s_tb_flux))\n",
    "    show_html(climahtml.getHTML_hrefanchor(s_bestfits))\n",
    "    \n",
    "    # Input parameters\n",
    "    show_html(climahtml.getHTML_idanchor(s_input))\n",
    "    show_markdown(climahtml.getMarkdown_sectitle(s_input))\n",
    "    print_input_param()\n",
    "    \n",
    "    # LBLNEW parameters \n",
    "    show_html(climahtml.getHTML_idanchor(s_lblnew_param))\n",
    "    show_markdown(climahtml.getMarkdown_sectitle(s_lblnew_param))\n",
    "    print_lblnew_param()\n",
    "    \n",
    "    # Cooling rate profiles\n",
    "    show_html(climahtml.getHTML_idanchor(s_plt_cooling))\n",
    "    show_markdown(climahtml.getMarkdown_sectitle(s_plt_cooling))\n",
    "    script_plt_cooling()\n",
    "    \n",
    "    # Flux comparison\n",
    "    show_html(climahtml.getHTML_idanchor(s_tb_flux))\n",
    "    show_markdown(climahtml.getMarkdown_sectitle(s_tb_flux))\n",
    "    script_tb_flux()\n",
    "    \n",
    "    # Best-fit values\n",
    "    show_html(climahtml.getHTML_idanchor(s_bestfits))\n",
    "    show_markdown(climahtml.getMarkdown_sectitle(s_bestfits))\n",
    "    print_bestfit_params()\n",
    "   \n",
    "    "
   ]
  },
  {
   "cell_type": "code",
   "execution_count": 12,
   "metadata": {
    "scrolled": false
   },
   "outputs": [
    {
     "data": {
      "text/markdown": [
       "### CLIRAD-LW"
      ],
      "text/plain": [
       "<IPython.core.display.Markdown object>"
      ]
     },
     "metadata": {},
     "output_type": "display_data"
    },
    {
     "data": {
      "text/markdown": [
       "### Table of Contents"
      ],
      "text/plain": [
       "<IPython.core.display.Markdown object>"
      ]
     },
     "metadata": {},
     "output_type": "display_data"
    },
    {
     "data": {
      "text/html": [
       "<a href=\"#Input_Parameters\">Input Parameters</a>"
      ],
      "text/plain": [
       "<IPython.core.display.HTML object>"
      ]
     },
     "metadata": {},
     "output_type": "display_data"
    },
    {
     "data": {
      "text/html": [
       "<a href=\"#LBLNEW_case_compaired_against\">LBLNEW case compaired against</a>"
      ],
      "text/plain": [
       "<IPython.core.display.HTML object>"
      ]
     },
     "metadata": {},
     "output_type": "display_data"
    },
    {
     "data": {
      "text/html": [
       "<a href=\"#Cooling_Rate_Profiles\">Cooling Rate Profiles</a>"
      ],
      "text/plain": [
       "<IPython.core.display.HTML object>"
      ]
     },
     "metadata": {},
     "output_type": "display_data"
    },
    {
     "data": {
      "text/html": [
       "<a href=\"#Flux_Comparison\">Flux Comparison</a>"
      ],
      "text/plain": [
       "<IPython.core.display.HTML object>"
      ]
     },
     "metadata": {},
     "output_type": "display_data"
    },
    {
     "data": {
      "text/html": [
       "<a href=\"#Best-fit_Parameters\">Best-fit Parameters</a>"
      ],
      "text/plain": [
       "<IPython.core.display.HTML object>"
      ]
     },
     "metadata": {},
     "output_type": "display_data"
    },
    {
     "data": {
      "text/html": [
       "<a id=\"Input_Parameters\"></a>"
      ],
      "text/plain": [
       "<IPython.core.display.HTML object>"
      ]
     },
     "metadata": {},
     "output_type": "display_data"
    },
    {
     "data": {
      "text/markdown": [
       "# Input Parameters"
      ],
      "text/plain": [
       "<IPython.core.display.Markdown object>"
      ]
     },
     "metadata": {},
     "output_type": "display_data"
    },
    {
     "name": "stdout",
     "output_type": "stream",
     "text": [
      "atmpro = mls\n",
      "band = [3]\n",
      "commitnumber = 7a7a0e1\n",
      "molecule = {'n2o': 3.2e-07}\n",
      "tsfc = 294\n"
     ]
    },
    {
     "data": {
      "text/html": [
       "<a id=\"LBLNEW_case_compaired_against\"></a>"
      ],
      "text/plain": [
       "<IPython.core.display.HTML object>"
      ]
     },
     "metadata": {},
     "output_type": "display_data"
    },
    {
     "data": {
      "text/markdown": [
       "# LBLNEW case compaired against"
      ],
      "text/plain": [
       "<IPython.core.display.Markdown object>"
      ]
     },
     "metadata": {},
     "output_type": "display_data"
    },
    {
     "name": "stdout",
     "output_type": "stream",
     "text": [
      "molecule = n2o\n",
      "band = 3a\n",
      "commitnumber = d62b618\n",
      "vmin = 540\n",
      "vmax = 620\n",
      "dv = 0.005\n",
      "nv = 200\n",
      "ref_pts = [(1, 250), (500, 250)]\n",
      "ng_refs = [1, 2]\n",
      "ng_adju = [0, 0]\n",
      "klin = 2.22e-20\n",
      "option_wgt_k = 1\n",
      "wgt = [(0.9,), (0.5, 0.95)]\n",
      "w_diffuse = [(1.8,), (1.66, 1.8)]\n",
      "option_wgt_flux = 1\n",
      "atmpro = mls\n",
      "tsfc = 294\n",
      "conc = 3.2e-07\n",
      "option_compute_btable = 0\n",
      "option_compute_ktable = 1\n"
     ]
    },
    {
     "data": {
      "text/html": [
       "<a id=\"Cooling_Rate_Profiles\"></a>"
      ],
      "text/plain": [
       "<IPython.core.display.HTML object>"
      ]
     },
     "metadata": {},
     "output_type": "display_data"
    },
    {
     "data": {
      "text/markdown": [
       "# Cooling Rate Profiles"
      ],
      "text/plain": [
       "<IPython.core.display.Markdown object>"
      ]
     },
     "metadata": {},
     "output_type": "display_data"
    },
    {
     "data": {
      "text/html": [
       "\n",
       "<div class=\"bk-root\">\n",
       "    <div class=\"bk-plotdiv\" id=\"1e3f5ee4-f23b-4fba-9a19-2c3f55796b7e\"></div>\n",
       "</div>"
      ]
     },
     "metadata": {},
     "output_type": "display_data"
    },
    {
     "data": {
      "application/javascript": [
       "(function(root) {\n",
       "  function embed_document(root) {\n",
       "    \n",
       "  var docs_json = {\"65274cd3-e46d-46c6-9660-0089c6423ae9\":{\"roots\":{\"references\":[{\"attributes\":{\"line_alpha\":0.1,\"line_color\":\"#1f77b4\",\"line_width\":1.5,\"x\":{\"field\":\"x\"},\"y\":{\"field\":\"y\"}},\"id\":\"2bbf822a-92d2-42e9-a428-fca2f7251add\",\"type\":\"Line\"},{\"attributes\":{},\"id\":\"6dcea98d-baee-4ac0-8089-5464f4bbf6c5\",\"type\":\"ResetTool\"},{\"attributes\":{\"callback\":null,\"column_names\":[\"x\",\"y\"],\"data\":{\"x\":{\"__ndarray__\":\"emkAvgmAQz+rVEfuGcVIP8wcT2JQ4VE/lUY+Qty7Vz/V8yALeY5dPwB0LyeVpmE/lrN3RluVZD8So3bm9rdhP2nG6uOdW2o/v1Jtolw7bT9QXV992u5vP/uOreT0R3E/AxnYJ5uScj/CWuHHpMBzP3f4B2NmjHc/U8W+cOiegj/l2sz4KVSMP7I56MHGvZM/I8pJ7tGXmT9xspjOCumfPyAG0ZJ7RaM/s9CoonPcpj8lq/wUwsipP7txNEKdxKk/LfQrF9b/pj9LFPmsbbWjP+DiUNtgiqA/oRJJh5Zbmz9I+IMmLmyWP3pIOPqGLJI/D3ppnONijD9oOLS0kteEPw9BMOtnKHw/vVbpvgEFcT+Z110VsjdUP3EBH3VYvl6/9pBHLL1Icb+DTrH3ldh3v9wnnCVV132/8q1eMWIggb8yAyJ34kiAv6t94EDGcHm/hSVQ05bScb8cg4r98DJlv+03ig1CH06/LD3siYC9Rj+o66JLrEpiP6s4zqCzYm4/9qDavzYLdT8J9tY+aK96Py8uCLYgDIA/xVSK/sikgj/Ihms+eRuFP3xwG2aYdYc/qo7OWZy6iT/ljtuIV/SLP9LA42lmHo4/GvYEVPsekD8Xxvd0XiuRPztZdC9TOpI/Dkx4hsw8kz+YZ59zKUGUP4h/MYvrQJU/J3PdqNZBlj+E2QQYlj+XPyw0SnbwPJg/etl+S2MomT9pqmkPYgSaP58zktKmyZo/dOZWvBxsmz9DfPUrfAGcP2uIE2CkjJw/TL5YZrEXnT/hNU13VaKdPwEylfqJNZ4/\",\"dtype\":\"float64\",\"shape\":[75]},\"y\":{\"__ndarray__\":\"GhExyth1ND/Sv8nbtpRIP2vylNV0PVE/aTum7souWD/At0SJ8fVgPw3Iuahxymc/MSNhhJWvcD/bTfBN02d3P2zb5nxnaoA/CD5h5MAGhz8NmeH1TyaQP+zrCsc9p5Y/LbKd76fGnz/bLW5ISEmmPww9YvTcQq8/JV2OstnstT8Er5Y7M8G+P0c+r3jqkcU/5h99k6ZBzj88bCIzFzjVP4enV8oyxN0//yH99nXg5D8qOpLLf0jtP5kqGJXUifQ/c9cS8kHP/D+/DpwzojQEQIEmwoanVwxA4lgXt9HgE0BSSZ2AJuIbQAMJih9jjiNA5q4l5INuK0AwTKYKRj0zQNv5fmq8/DpAaCJseHrtQkB/+zpwzoxKQM3MzMzMeFJAZmZmZmZqWEAAAAAAAFxeQM3MzMzMJmJAmpmZmZkfZUBmZmZmZhhoQDMzMzMzEWtAAAAAAAAKbkBmZmZmZoFwQM3MzMzM/XFAMzMzMzN6c0CamZmZmfZ0QAAAAAAAc3ZAZmZmZmbvd0DNzMzMzGt5QDMzMzMz6HpAmpmZmZlkfEAAAAAAAOF9QGZmZmZmXX9AZmZmZuZsgECamZmZGSuBQM3MzMxM6YFAAAAAAICngkAzMzMzs2WDQGZmZmbmI4RAmpmZmRnihEDNzMzMTKCFQAAAAACAXoZAMzMzM7Mch0BmZmZm5tqHQJqZmZkZmYhAzczMzExXiUAAAAAAgBWKQDMzMzOz04pAZmZmZuaRi0CamZmZGVCMQM3MzMxMDo1AAAAAAIDMjUAzMzMzs4qOQGZmZmbmSI9A\",\"dtype\":\"float64\",\"shape\":[75]}}},\"id\":\"af4d7f0e-f684-4ad6-a17f-462f74695988\",\"type\":\"ColumnDataSource\"},{\"attributes\":{},\"id\":\"4940b25b-f349-43d5-8661-6d1ac51381c3\",\"type\":\"BasicTicker\"},{\"attributes\":{\"line_alpha\":0.6,\"line_color\":\"#e41a1c\",\"line_dash\":[6],\"line_width\":5,\"x\":{\"field\":\"x\"},\"y\":{\"field\":\"y\"}},\"id\":\"5d416313-7d39-4079-aa8e-ff8644a6f767\",\"type\":\"Line\"},{\"attributes\":{\"callback\":null,\"column_names\":[\"x\",\"y\"],\"data\":{\"x\":{\"__ndarray__\":\"8F/Nv2Vnuj8AAAAAAAAAAAAAAAAAAAAAAAAAAAAAAADXN75jacGnPwAAAAAAAAAAAAAAAAAAAAAAAAAAAAAAADIM+gAUi5g/AAAAAAAAAAAeZuYEmPKIPxeGteEKyXE/YadqGMRbiT8Wg+0CCh57P+XVJyOoxnk/GqFE8GTcjT+azf+Fx3mNP0l2p2bPmJU/2dG0m0s3mj9hvqNjWt2eP3zPzLzqO6M/7o9n/1LypT8pn0tcuo6oP4YdCMGR3ag/uphIZH3Vpj9+TXF9oUWkP6oodQHjpKE/aWoWvncBnj9OlZkZ0OeYP24Tp8Dt/JM/rWva44otjj9G1lBh4lOEP1fCZsInhHc/crbKXZVVYj8fmEkdFYdOvyyitKSU8W6/FmHN/H9gd7+agwg+qyh8vxW4Wr4lLYC/hl6VQNBugb+kT6mexTyAv/TR5/z74Hm/S8f7/RKUcr/buPyBFv1mv58VE0IgQ1K/HvV7ws2vQD9pIN2iqEBhPwI2VMbn4G0/jFzH4j0adT8GTVUeABh7PyzUkr70ZYA/MM5XASkugz8dxE2UJNKFP6oducZLXYg/uk5vu9rOij+kjMrj7zKNP0LTPav/hY8/bvP5OgbqkD9MJScGjQiSP3cdoriAI5M/EFSfQck4lD/DLYzld0mVP1MzLMXcVZY/Dkbiocxflz8sK5QfzWWYP4XGDIe3ZJk/r/Ek3yhWmj9FN5Bo4TabP+5BT50j/5s/x00cX8ytnD+4AtUCJUydP0qCm4Vw3p0/yA+IHMpsnj96vOnGVvieP2JGhaUSgp8/\",\"dtype\":\"float64\",\"shape\":[75]},\"y\":{\"__ndarray__\":\"S/O/Q+51ND/430zAtpRIP2vylNV0PVE/QxsjCssuWD/TR4Z78fVgP+inNsRxymc/OuuBfZWvcD/u3TFA02d3P2d3VoBnaoA/CD5h5MAGhz/1pA8HUCaQP+zrCsc9p5Y/Fb7LAKjGnz/nJ9c/SEmmPwBD+fzcQq8/FOZwv9nstT8Er5Y7M8G+P0c+r3jqkcU/yK72qKZBzj+tM989FzjVPxbgmr8yxN0/cOm5AXbg5D+5ctXAf0jtP5kqGJXUifQ/DsrqDELP/D8MCAhBojQEQDItVnmnVwxAiFXNvdHgE0BSSZ2AJuIbQAMJih9jjiNA5q4l5INuK0CPVN/5RT0zQHzxRXu8/DpAOZ7PgHrtQkAg8wGBzoxKQBSTN8DMeFJA2NmQf2ZqWEAAAAAAAFxeQEQX1LfMJmJAmpmZmZkfZUBmZmZmZhhoQLzoK0gzEWtAAAAAAAAKbkCiC+pbZoFwQAhyUMLM/XFA+I2vPTN6c0AQ5KCEmfZ0QAAAAAAAc3ZA8Btfe2bvd0AIclDCzGt5QPeNrz0z6HpAEOSghJlkfEAAAAAAAOF9QKML6ltmXX9ABTkoYeZsgED7xteeGSuBQAhyUMJM6YFAAAAAAICngkD4ja89s2WDQAU5KGHmI4RA+8bXnhnihEAIclDCTKCFQAAAAACAXoZA+I2vPbMch0AFOShh5tqHQPvG154ZmYhACHJQwkxXiUAAAAAAgBWKQPeNrz2z04pABTkoYeaRi0D7xteeGVCMQAlyUMJMDo1AAAAAAIDMjUD3ja89s4qOQGZmZmbmSI9A\",\"dtype\":\"float64\",\"shape\":[75]}}},\"id\":\"80006042-12d2-4115-9c02-624e491eebc2\",\"type\":\"ColumnDataSource\"},{\"attributes\":{\"bottom_units\":\"screen\",\"fill_alpha\":{\"value\":0.5},\"fill_color\":{\"value\":\"lightgrey\"},\"left_units\":\"screen\",\"level\":\"overlay\",\"line_alpha\":{\"value\":1.0},\"line_color\":{\"value\":\"black\"},\"line_dash\":[4,4],\"line_width\":{\"value\":2},\"plot\":null,\"render_mode\":\"css\",\"right_units\":\"screen\",\"top_units\":\"screen\"},\"id\":\"37ac40b2-c44e-43e1-a0cf-0cb96b740f0b\",\"type\":\"BoxAnnotation\"},{\"attributes\":{},\"id\":\"52f0a640-f7b6-45a9-bf76-13ba111248a9\",\"type\":\"LogScale\"},{\"attributes\":{\"data_source\":{\"id\":\"d4475126-178b-48b1-968e-a56ac064adff\",\"type\":\"ColumnDataSource\"},\"glyph\":{\"id\":\"7673e82a-e6c0-463a-ae2c-f2edb9a33d9f\",\"type\":\"Line\"},\"hover_glyph\":null,\"muted_glyph\":null,\"nonselection_glyph\":{\"id\":\"7e41a89c-763c-47ad-9623-61ee7817b6df\",\"type\":\"Line\"},\"selection_glyph\":null,\"view\":{\"id\":\"36685778-c8c0-4be6-8cbf-d87598e67f13\",\"type\":\"CDSView\"}},\"id\":\"eb3c1aa4-04c3-49d9-850f-503e8a5da96b\",\"type\":\"GlyphRenderer\"},{\"attributes\":{\"data_source\":{\"id\":\"80006042-12d2-4115-9c02-624e491eebc2\",\"type\":\"ColumnDataSource\"},\"glyph\":{\"id\":\"5d416313-7d39-4079-aa8e-ff8644a6f767\",\"type\":\"Line\"},\"hover_glyph\":null,\"muted_glyph\":null,\"nonselection_glyph\":{\"id\":\"fc756414-a06b-4b10-8cf4-6d53013992c6\",\"type\":\"Line\"},\"selection_glyph\":null,\"view\":{\"id\":\"bb05ffce-d2a8-4b36-b4e3-f50d3e5c6ad2\",\"type\":\"CDSView\"}},\"id\":\"974c2de7-cc06-423b-8c6d-d9b7582ba54b\",\"type\":\"GlyphRenderer\"},{\"attributes\":{\"axis_label\":\"cooling rate [K/day]\",\"formatter\":{\"id\":\"437e3a98-3d9f-4a4e-8c77-1a64edbeab9b\",\"type\":\"BasicTickFormatter\"},\"plot\":{\"id\":\"1e79a4a5-ff9c-4d29-a4e2-5744fc76ba6a\",\"subtype\":\"Figure\",\"type\":\"Plot\"},\"ticker\":{\"id\":\"4940b25b-f349-43d5-8661-6d1ac51381c3\",\"type\":\"BasicTicker\"}},\"id\":\"96c2c68b-8d0d-4742-8d85-ab64debec8b8\",\"type\":\"LinearAxis\"},{\"attributes\":{},\"id\":\"437e3a98-3d9f-4a4e-8c77-1a64edbeab9b\",\"type\":\"BasicTickFormatter\"},{\"attributes\":{\"callback\":null,\"column_names\":[\"x\",\"y\"],\"data\":{\"x\":{\"__ndarray__\":\"emkAvgmAQz+rVEfuGcVIP8wcT2JQ4VE/lUY+Qty7Vz/V8yALeY5dPwB0LyeVpmE/lrN3RluVZD8So3bm9rdhP2nG6uOdW2o/v1Jtolw7bT9QXV992u5vP/uOreT0R3E/AxnYJ5uScj/CWuHHpMBzP3f4B2NmjHc/U8W+cOiegj/l2sz4KVSMP7I56MHGvZM/I8pJ7tGXmT9xspjOCumfPyAG0ZJ7RaM/s9CoonPcpj8lq/wUwsipP7txNEKdxKk/LfQrF9b/pj9LFPmsbbWjP+DiUNtgiqA/oRJJh5Zbmz9I+IMmLmyWP3pIOPqGLJI/D3ppnONijD9oOLS0kteEPw9BMOtnKHw/vVbpvgEFcT+Z110VsjdUP3EBH3VYvl6/9pBHLL1Icb+DTrH3ldh3v9wnnCVV132/8q1eMWIggb8yAyJ34kiAv6t94EDGcHm/hSVQ05bScb8cg4r98DJlv+03ig1CH06/LD3siYC9Rj+o66JLrEpiP6s4zqCzYm4/9qDavzYLdT8J9tY+aK96Py8uCLYgDIA/xVSK/sikgj/Ihms+eRuFP3xwG2aYdYc/qo7OWZy6iT/ljtuIV/SLP9LA42lmHo4/GvYEVPsekD8Xxvd0XiuRPztZdC9TOpI/Dkx4hsw8kz+YZ59zKUGUP4h/MYvrQJU/J3PdqNZBlj+E2QQYlj+XPyw0SnbwPJg/etl+S2MomT9pqmkPYgSaP58zktKmyZo/dOZWvBxsmz9DfPUrfAGcP2uIE2CkjJw/TL5YZrEXnT/hNU13VaKdPwEylfqJNZ4/\",\"dtype\":\"float64\",\"shape\":[75]},\"y\":{\"__ndarray__\":\"GhExyth1ND/Sv8nbtpRIP2vylNV0PVE/aTum7souWD/At0SJ8fVgPw3Iuahxymc/MSNhhJWvcD/bTfBN02d3P2zb5nxnaoA/CD5h5MAGhz8NmeH1TyaQP+zrCsc9p5Y/LbKd76fGnz/bLW5ISEmmPww9YvTcQq8/JV2OstnstT8Er5Y7M8G+P0c+r3jqkcU/5h99k6ZBzj88bCIzFzjVP4enV8oyxN0//yH99nXg5D8qOpLLf0jtP5kqGJXUifQ/c9cS8kHP/D+/DpwzojQEQIEmwoanVwxA4lgXt9HgE0BSSZ2AJuIbQAMJih9jjiNA5q4l5INuK0AwTKYKRj0zQNv5fmq8/DpAaCJseHrtQkB/+zpwzoxKQM3MzMzMeFJAZmZmZmZqWEAAAAAAAFxeQM3MzMzMJmJAmpmZmZkfZUBmZmZmZhhoQDMzMzMzEWtAAAAAAAAKbkBmZmZmZoFwQM3MzMzM/XFAMzMzMzN6c0CamZmZmfZ0QAAAAAAAc3ZAZmZmZmbvd0DNzMzMzGt5QDMzMzMz6HpAmpmZmZlkfEAAAAAAAOF9QGZmZmZmXX9AZmZmZuZsgECamZmZGSuBQM3MzMxM6YFAAAAAAICngkAzMzMzs2WDQGZmZmbmI4RAmpmZmRnihEDNzMzMTKCFQAAAAACAXoZAMzMzM7Mch0BmZmZm5tqHQJqZmZkZmYhAzczMzExXiUAAAAAAgBWKQDMzMzOz04pAZmZmZuaRi0CamZmZGVCMQM3MzMxMDo1AAAAAAIDMjUAzMzMzs4qOQGZmZmbmSI9A\",\"dtype\":\"float64\",\"shape\":[75]}}},\"id\":\"0ea90d9f-591f-4bb5-97e4-1674225b47f9\",\"type\":\"ColumnDataSource\"},{\"attributes\":{\"fill_alpha\":{\"value\":0.7},\"fill_color\":{\"value\":\"#4daf4a\"},\"line_alpha\":{\"value\":0.7},\"line_color\":{\"value\":\"#4daf4a\"},\"x\":{\"field\":\"x\"},\"y\":{\"field\":\"y\"}},\"id\":\"5a27bdb8-fcf2-45be-bff1-76db7783e830\",\"type\":\"Circle\"},{\"attributes\":{\"fill_alpha\":{\"value\":0.1},\"fill_color\":{\"value\":\"#1f77b4\"},\"line_alpha\":{\"value\":0.1},\"line_color\":{\"value\":\"#1f77b4\"},\"x\":{\"field\":\"x\"},\"y\":{\"field\":\"y\"}},\"id\":\"f52830b0-6fea-4191-93b7-3acab5f54578\",\"type\":\"Circle\"},{\"attributes\":{\"callback\":null,\"column_names\":[\"x\",\"y\"],\"data\":{\"x\":{\"__ndarray__\":\"Ommkvol1cT+JPIKt7QdyPzvh6ETQQHM/pq12aSyOdD/bhYGw+t11P2SuUWPeL3c/juiTycODeD9Bwh4Pj9l5PwsBNwkpMXs/iwqec0qKfD8vuqJrleR9P4IzCni+P38/MEPrC7BNgD9r7Qjr+AaBP1H0AjqvOIM/zFbPdyNdiT+Cs31EwUyRPz5stv20XpY/VoWQjunmmz9jEMov8PegP7NZ/Z9cM6Q/NF+V/j6jpz82xnHQPIGqP8WikXZHPKo/K9KaKag9qD8R7ojh51qlPzRxHS3PhqI/05E/O9Ahnz8xzp8RZ4KZP/SnGDyqApQ/ETZlCfLXjT9+dtZESgyEP+HkdfisHnc/RxdsQhlsYz/cG0Pq4g5Dv8gU0Bqp02u/yg7fdb5ndb90ON3ryWB6vw4OY8O0Hn+/tHlR+MIdgb+QyC/mpPx/v3wpFXyuCXm/vkUJ9VKDcb9wNxpeVopkv2U83/5xskm/xAKB7i5lTD+E3gxaes5rPwrT8EoQ428/euuz6Kk7dz+CccVz9tt7PyTdsjo6PIE/XiErKfjdgz+Hk57YJYiGPzalfEITKYk/hHh96suqiz9eeWlwsxqOP5p/ub+SKJA/VLJIEAtYkT++HAFH9HuSP+vRTijomJM/XikMCHS4lD/ywxPBibaVPwDKu0BLy5Y/NAHsxxnPlz+JekhPTd2YPyhilfuy7pk/ftYQb3Hamj/5+zV4Z72bP91BXqKJlpw/+lzj95pMnT/BEBsn4+qdP5rkghVZgp4/YMSG+8QZnz9C8oPvzK+fP00+onOKD6A/\",\"dtype\":\"float64\",\"shape\":[75]},\"y\":{\"__ndarray__\":\"GhExyth1ND/Sv8nbtpRIP2vylNV0PVE/aTum7souWD/At0SJ8fVgPw3Iuahxymc/MSNhhJWvcD/bTfBN02d3P2zb5nxnaoA/CD5h5MAGhz8NmeH1TyaQP+zrCsc9p5Y/LbKd76fGnz/bLW5ISEmmPww9YvTcQq8/JV2OstnstT8Er5Y7M8G+P0c+r3jqkcU/5h99k6ZBzj88bCIzFzjVP4enV8oyxN0//yH99nXg5D8qOpLLf0jtP5kqGJXUifQ/c9cS8kHP/D+/DpwzojQEQIEmwoanVwxA4lgXt9HgE0BSSZ2AJuIbQAMJih9jjiNA5q4l5INuK0AwTKYKRj0zQNv5fmq8/DpAaCJseHrtQkB/+zpwzoxKQM3MzMzMeFJAZmZmZmZqWEAAAAAAAFxeQM3MzMzMJmJAmpmZmZkfZUBmZmZmZhhoQDMzMzMzEWtAAAAAAAAKbkBmZmZmZoFwQM3MzMzM/XFAMzMzMzN6c0CamZmZmfZ0QAAAAAAAc3ZAZmZmZmbvd0DNzMzMzGt5QDMzMzMz6HpAmpmZmZlkfEAAAAAAAOF9QGZmZmZmXX9AZmZmZuZsgECamZmZGSuBQM3MzMxM6YFAAAAAAICngkAzMzMzs2WDQGZmZmbmI4RAmpmZmRnihEDNzMzMTKCFQAAAAACAXoZAMzMzM7Mch0BmZmZm5tqHQJqZmZkZmYhAzczMzExXiUAAAAAAgBWKQDMzMzOz04pAZmZmZuaRi0CamZmZGVCMQM3MzMxMDo1AAAAAAIDMjUAzMzMzs4qOQGZmZmbmSI9A\",\"dtype\":\"float64\",\"shape\":[75]}}},\"id\":\"92c1c5b2-7e07-4af6-b421-6311cd7f1dfd\",\"type\":\"ColumnDataSource\"},{\"attributes\":{\"ticker\":null},\"id\":\"3cdb5641-0c08-4209-992e-45f4d57b38ec\",\"type\":\"LogTickFormatter\"},{\"attributes\":{},\"id\":\"0d8feedc-0449-4b77-8ee7-658f0f4cf38e\",\"type\":\"PanTool\"},{\"attributes\":{\"source\":{\"id\":\"80006042-12d2-4115-9c02-624e491eebc2\",\"type\":\"ColumnDataSource\"}},\"id\":\"bb05ffce-d2a8-4b36-b4e3-f50d3e5c6ad2\",\"type\":\"CDSView\"},{\"attributes\":{\"children\":[{\"id\":\"560b210f-e302-4e55-b07b-e82e75735eaf\",\"subtype\":\"Figure\",\"type\":\"Plot\"},{\"id\":\"1e79a4a5-ff9c-4d29-a4e2-5744fc76ba6a\",\"subtype\":\"Figure\",\"type\":\"Plot\"}]},\"id\":\"1b52121b-18f4-49b0-8ba7-497766bcd5d7\",\"type\":\"Row\"},{\"attributes\":{\"data_source\":{\"id\":\"0ea90d9f-591f-4bb5-97e4-1674225b47f9\",\"type\":\"ColumnDataSource\"},\"glyph\":{\"id\":\"5a27bdb8-fcf2-45be-bff1-76db7783e830\",\"type\":\"Circle\"},\"hover_glyph\":null,\"muted_glyph\":null,\"nonselection_glyph\":{\"id\":\"f52830b0-6fea-4191-93b7-3acab5f54578\",\"type\":\"Circle\"},\"selection_glyph\":null,\"view\":{\"id\":\"62658061-d663-4fa5-815d-dfae9c5c61ba\",\"type\":\"CDSView\"}},\"id\":\"54ebc01c-0abd-490e-aee7-a66877ba1894\",\"type\":\"GlyphRenderer\"},{\"attributes\":{\"plot\":{\"id\":\"1e79a4a5-ff9c-4d29-a4e2-5744fc76ba6a\",\"subtype\":\"Figure\",\"type\":\"Plot\"},\"ticker\":{\"id\":\"4940b25b-f349-43d5-8661-6d1ac51381c3\",\"type\":\"BasicTicker\"}},\"id\":\"fb2dbf0c-5845-4897-8719-e542536fbb52\",\"type\":\"Grid\"},{\"attributes\":{\"source\":{\"id\":\"0ea90d9f-591f-4bb5-97e4-1674225b47f9\",\"type\":\"ColumnDataSource\"}},\"id\":\"62658061-d663-4fa5-815d-dfae9c5c61ba\",\"type\":\"CDSView\"},{\"attributes\":{\"line_color\":\"#4daf4a\",\"line_width\":1.5,\"x\":{\"field\":\"x\"},\"y\":{\"field\":\"y\"}},\"id\":\"961b1d47-0d73-49d4-a0eb-5724d5407406\",\"type\":\"Line\"},{\"attributes\":{},\"id\":\"7321d747-3f05-4f84-b072-1be71b87fa2f\",\"type\":\"BasicTickFormatter\"},{\"attributes\":{\"callback\":null,\"column_names\":[\"x\",\"y\"],\"data\":{\"x\":{\"__ndarray__\":\"Ommkvol1cT+JPIKt7QdyPzvh6ETQQHM/pq12aSyOdD/bhYGw+t11P2SuUWPeL3c/juiTycODeD9Bwh4Pj9l5PwsBNwkpMXs/iwqec0qKfD8vuqJrleR9P4IzCni+P38/MEPrC7BNgD9r7Qjr+AaBP1H0AjqvOIM/zFbPdyNdiT+Cs31EwUyRPz5stv20XpY/VoWQjunmmz9jEMov8PegP7NZ/Z9cM6Q/NF+V/j6jpz82xnHQPIGqP8WikXZHPKo/K9KaKag9qD8R7ojh51qlPzRxHS3PhqI/05E/O9Ahnz8xzp8RZ4KZP/SnGDyqApQ/ETZlCfLXjT9+dtZESgyEP+HkdfisHnc/RxdsQhlsYz/cG0Pq4g5Dv8gU0Bqp02u/yg7fdb5ndb90ON3ryWB6vw4OY8O0Hn+/tHlR+MIdgb+QyC/mpPx/v3wpFXyuCXm/vkUJ9VKDcb9wNxpeVopkv2U83/5xskm/xAKB7i5lTD+E3gxaes5rPwrT8EoQ428/euuz6Kk7dz+CccVz9tt7PyTdsjo6PIE/XiErKfjdgz+Hk57YJYiGPzalfEITKYk/hHh96suqiz9eeWlwsxqOP5p/ub+SKJA/VLJIEAtYkT++HAFH9HuSP+vRTijomJM/XikMCHS4lD/ywxPBibaVPwDKu0BLy5Y/NAHsxxnPlz+JekhPTd2YPyhilfuy7pk/ftYQb3Hamj/5+zV4Z72bP91BXqKJlpw/+lzj95pMnT/BEBsn4+qdP5rkghVZgp4/YMSG+8QZnz9C8oPvzK+fP00+onOKD6A/\",\"dtype\":\"float64\",\"shape\":[75]},\"y\":{\"__ndarray__\":\"GhExyth1ND/Sv8nbtpRIP2vylNV0PVE/aTum7souWD/At0SJ8fVgPw3Iuahxymc/MSNhhJWvcD/bTfBN02d3P2zb5nxnaoA/CD5h5MAGhz8NmeH1TyaQP+zrCsc9p5Y/LbKd76fGnz/bLW5ISEmmPww9YvTcQq8/JV2OstnstT8Er5Y7M8G+P0c+r3jqkcU/5h99k6ZBzj88bCIzFzjVP4enV8oyxN0//yH99nXg5D8qOpLLf0jtP5kqGJXUifQ/c9cS8kHP/D+/DpwzojQEQIEmwoanVwxA4lgXt9HgE0BSSZ2AJuIbQAMJih9jjiNA5q4l5INuK0AwTKYKRj0zQNv5fmq8/DpAaCJseHrtQkB/+zpwzoxKQM3MzMzMeFJAZmZmZmZqWEAAAAAAAFxeQM3MzMzMJmJAmpmZmZkfZUBmZmZmZhhoQDMzMzMzEWtAAAAAAAAKbkBmZmZmZoFwQM3MzMzM/XFAMzMzMzN6c0CamZmZmfZ0QAAAAAAAc3ZAZmZmZmbvd0DNzMzMzGt5QDMzMzMz6HpAmpmZmZlkfEAAAAAAAOF9QGZmZmZmXX9AZmZmZuZsgECamZmZGSuBQM3MzMxM6YFAAAAAAICngkAzMzMzs2WDQGZmZmbmI4RAmpmZmRnihEDNzMzMTKCFQAAAAACAXoZAMzMzM7Mch0BmZmZm5tqHQJqZmZkZmYhAzczMzExXiUAAAAAAgBWKQDMzMzOz04pAZmZmZuaRi0CamZmZGVCMQM3MzMxMDo1AAAAAAIDMjUAzMzMzs4qOQGZmZmbmSI9A\",\"dtype\":\"float64\",\"shape\":[75]}}},\"id\":\"4cc2c8fc-dc69-443d-8285-d62fd7d14c53\",\"type\":\"ColumnDataSource\"},{\"attributes\":{\"overlay\":{\"id\":\"37ac40b2-c44e-43e1-a0cf-0cb96b740f0b\",\"type\":\"BoxAnnotation\"}},\"id\":\"9dcadc31-093a-4dda-af7e-8163fb2ae09f\",\"type\":\"BoxZoomTool\"},{\"attributes\":{\"data_source\":{\"id\":\"af4d7f0e-f684-4ad6-a17f-462f74695988\",\"type\":\"ColumnDataSource\"},\"glyph\":{\"id\":\"961b1d47-0d73-49d4-a0eb-5724d5407406\",\"type\":\"Line\"},\"hover_glyph\":null,\"muted_glyph\":null,\"nonselection_glyph\":{\"id\":\"2bbf822a-92d2-42e9-a428-fca2f7251add\",\"type\":\"Line\"},\"selection_glyph\":null,\"view\":{\"id\":\"1e0a8030-063e-4e2a-a466-c760a84ce180\",\"type\":\"CDSView\"}},\"id\":\"2eb87f37-aaba-4aee-9abd-a3656ab6c513\",\"type\":\"GlyphRenderer\"},{\"attributes\":{\"callback\":null,\"end\":0.052370048254999996,\"start\":-0.009114935155},\"id\":\"ddbe47af-2f1a-4368-8f62-98a50347d7c2\",\"type\":\"Range1d\"},{\"attributes\":{\"source\":{\"id\":\"af4d7f0e-f684-4ad6-a17f-462f74695988\",\"type\":\"ColumnDataSource\"}},\"id\":\"1e0a8030-063e-4e2a-a466-c760a84ce180\",\"type\":\"CDSView\"},{\"attributes\":{\"fill_alpha\":{\"value\":0.7},\"fill_color\":{\"value\":\"#984ea3\"},\"line_alpha\":{\"value\":0.7},\"line_color\":{\"value\":\"#984ea3\"},\"x\":{\"field\":\"x\"},\"y\":{\"field\":\"y\"}},\"id\":\"8c1a8a6d-f3c4-42fe-a943-fffbbf599c1c\",\"type\":\"Square\"},{\"attributes\":{\"fill_alpha\":{\"value\":0.1},\"fill_color\":{\"value\":\"#1f77b4\"},\"line_alpha\":{\"value\":0.1},\"line_color\":{\"value\":\"#1f77b4\"},\"x\":{\"field\":\"x\"},\"y\":{\"field\":\"y\"}},\"id\":\"cd42d230-efdd-4077-9a7b-1b13beaafa3e\",\"type\":\"Square\"},{\"attributes\":{\"label\":{\"value\":\"CRD\"},\"renderers\":[{\"id\":\"54ebc01c-0abd-490e-aee7-a66877ba1894\",\"type\":\"GlyphRenderer\"},{\"id\":\"2eb87f37-aaba-4aee-9abd-a3656ab6c513\",\"type\":\"GlyphRenderer\"}]},\"id\":\"7304fb72-330c-4eea-be6f-b0dd0413ba73\",\"type\":\"LegendItem\"},{\"attributes\":{\"data_source\":{\"id\":\"92c1c5b2-7e07-4af6-b421-6311cd7f1dfd\",\"type\":\"ColumnDataSource\"},\"glyph\":{\"id\":\"8c1a8a6d-f3c4-42fe-a943-fffbbf599c1c\",\"type\":\"Square\"},\"hover_glyph\":null,\"muted_glyph\":null,\"nonselection_glyph\":{\"id\":\"cd42d230-efdd-4077-9a7b-1b13beaafa3e\",\"type\":\"Square\"},\"selection_glyph\":null,\"view\":{\"id\":\"43e4bd8a-b698-4bb6-a117-ac2f1f2fdf7c\",\"type\":\"CDSView\"}},\"id\":\"9e97bcdf-d4e7-42c0-a114-2ee24f14ab1f\",\"type\":\"GlyphRenderer\"},{\"attributes\":{\"label\":{\"value\":\"CLIRAD `coolr_bands`\"},\"renderers\":[{\"id\":\"974c2de7-cc06-423b-8c6d-d9b7582ba54b\",\"type\":\"GlyphRenderer\"}]},\"id\":\"7967f434-4e7e-4b02-9bfc-3aea2935a0ad\",\"type\":\"LegendItem\"},{\"attributes\":{\"children\":[{\"id\":\"1b52121b-18f4-49b0-8ba7-497766bcd5d7\",\"type\":\"Row\"}]},\"id\":\"87dee714-e029-4a92-8495-6d7718c461a7\",\"type\":\"Column\"},{\"attributes\":{\"source\":{\"id\":\"92c1c5b2-7e07-4af6-b421-6311cd7f1dfd\",\"type\":\"ColumnDataSource\"}},\"id\":\"43e4bd8a-b698-4bb6-a117-ac2f1f2fdf7c\",\"type\":\"CDSView\"},{\"attributes\":{\"line_alpha\":0.6,\"line_color\":\"#984ea3\",\"line_width\":3,\"x\":{\"field\":\"x\"},\"y\":{\"field\":\"y\"}},\"id\":\"719f59cb-9b39-41c9-b721-9929fe9ca98e\",\"type\":\"Line\"},{\"attributes\":{\"line_alpha\":0.1,\"line_color\":\"#1f77b4\",\"line_width\":3,\"x\":{\"field\":\"x\"},\"y\":{\"field\":\"y\"}},\"id\":\"30dd266f-151b-4939-bcd4-cfea8b67ad47\",\"type\":\"Line\"},{\"attributes\":{\"label\":{\"value\":\"WGT igg=10 wgt_flux=2\"},\"renderers\":[{\"id\":\"9e97bcdf-d4e7-42c0-a114-2ee24f14ab1f\",\"type\":\"GlyphRenderer\"},{\"id\":\"e226b343-6e7d-4d24-95a8-9cb3c81646fc\",\"type\":\"GlyphRenderer\"}]},\"id\":\"d615477c-6e4b-435e-9a4c-e662b25443bd\",\"type\":\"LegendItem\"},{\"attributes\":{\"data_source\":{\"id\":\"4cc2c8fc-dc69-443d-8285-d62fd7d14c53\",\"type\":\"ColumnDataSource\"},\"glyph\":{\"id\":\"719f59cb-9b39-41c9-b721-9929fe9ca98e\",\"type\":\"Line\"},\"hover_glyph\":null,\"muted_glyph\":null,\"nonselection_glyph\":{\"id\":\"30dd266f-151b-4939-bcd4-cfea8b67ad47\",\"type\":\"Line\"},\"selection_glyph\":null,\"view\":{\"id\":\"6edfb433-b031-477c-a43b-d4002847cabd\",\"type\":\"CDSView\"}},\"id\":\"e226b343-6e7d-4d24-95a8-9cb3c81646fc\",\"type\":\"GlyphRenderer\"},{\"attributes\":{\"source\":{\"id\":\"4cc2c8fc-dc69-443d-8285-d62fd7d14c53\",\"type\":\"ColumnDataSource\"}},\"id\":\"6edfb433-b031-477c-a43b-d4002847cabd\",\"type\":\"CDSView\"},{\"attributes\":{\"toolbar\":{\"id\":\"61e67fb5-83f2-4710-969a-143f3eddfc17\",\"type\":\"ProxyToolbar\"},\"toolbar_location\":\"above\"},\"id\":\"c5314bd8-35cb-43e4-8d6a-d9839b9c9479\",\"type\":\"ToolbarBox\"},{\"attributes\":{\"callback\":null,\"column_names\":[\"x\",\"y\"],\"data\":{\"x\":{\"__ndarray__\":\"8F/Nv2Vnuj8AAAAAAAAAAAAAAAAAAAAAAAAAAAAAAADXN75jacGnPwAAAAAAAAAAAAAAAAAAAAAAAAAAAAAAADIM+gAUi5g/AAAAAAAAAAAeZuYEmPKIPxeGteEKyXE/YadqGMRbiT8Wg+0CCh57P+XVJyOoxnk/GqFE8GTcjT+azf+Fx3mNP0l2p2bPmJU/2dG0m0s3mj9hvqNjWt2eP3zPzLzqO6M/7o9n/1LypT8pn0tcuo6oP4YdCMGR3ag/uphIZH3Vpj9+TXF9oUWkP6oodQHjpKE/aWoWvncBnj9OlZkZ0OeYP24Tp8Dt/JM/rWva44otjj9G1lBh4lOEP1fCZsInhHc/crbKXZVVYj8fmEkdFYdOvyyitKSU8W6/FmHN/H9gd7+agwg+qyh8vxW4Wr4lLYC/hl6VQNBugb+kT6mexTyAv/TR5/z74Hm/S8f7/RKUcr/buPyBFv1mv58VE0IgQ1K/HvV7ws2vQD9pIN2iqEBhPwI2VMbn4G0/jFzH4j0adT8GTVUeABh7PyzUkr70ZYA/MM5XASkugz8dxE2UJNKFP6oducZLXYg/uk5vu9rOij+kjMrj7zKNP0LTPav/hY8/bvP5OgbqkD9MJScGjQiSP3cdoriAI5M/EFSfQck4lD/DLYzld0mVP1MzLMXcVZY/Dkbiocxflz8sK5QfzWWYP4XGDIe3ZJk/r/Ek3yhWmj9FN5Bo4TabP+5BT50j/5s/x00cX8ytnD+4AtUCJUydP0qCm4Vw3p0/yA+IHMpsnj96vOnGVvieP2JGhaUSgp8/\",\"dtype\":\"float64\",\"shape\":[75]},\"y\":{\"__ndarray__\":\"S/O/Q+51ND/430zAtpRIP2vylNV0PVE/QxsjCssuWD/TR4Z78fVgP+inNsRxymc/OuuBfZWvcD/u3TFA02d3P2d3VoBnaoA/CD5h5MAGhz/1pA8HUCaQP+zrCsc9p5Y/Fb7LAKjGnz/nJ9c/SEmmPwBD+fzcQq8/FOZwv9nstT8Er5Y7M8G+P0c+r3jqkcU/yK72qKZBzj+tM989FzjVPxbgmr8yxN0/cOm5AXbg5D+5ctXAf0jtP5kqGJXUifQ/DsrqDELP/D8MCAhBojQEQDItVnmnVwxAiFXNvdHgE0BSSZ2AJuIbQAMJih9jjiNA5q4l5INuK0CPVN/5RT0zQHzxRXu8/DpAOZ7PgHrtQkAg8wGBzoxKQBSTN8DMeFJA2NmQf2ZqWEAAAAAAAFxeQEQX1LfMJmJAmpmZmZkfZUBmZmZmZhhoQLzoK0gzEWtAAAAAAAAKbkCiC+pbZoFwQAhyUMLM/XFA+I2vPTN6c0AQ5KCEmfZ0QAAAAAAAc3ZA8Btfe2bvd0AIclDCzGt5QPeNrz0z6HpAEOSghJlkfEAAAAAAAOF9QKML6ltmXX9ABTkoYeZsgED7xteeGSuBQAhyUMJM6YFAAAAAAICngkD4ja89s2WDQAU5KGHmI4RA+8bXnhnihEAIclDCTKCFQAAAAACAXoZA+I2vPbMch0AFOShh5tqHQPvG154ZmYhACHJQwkxXiUAAAAAAgBWKQPeNrz2z04pABTkoYeaRi0D7xteeGVCMQAlyUMJMDo1AAAAAAIDMjUD3ja89s4qOQGZmZmbmSI9A\",\"dtype\":\"float64\",\"shape\":[75]}}},\"id\":\"d4475126-178b-48b1-968e-a56ac064adff\",\"type\":\"ColumnDataSource\"},{\"attributes\":{\"children\":[{\"id\":\"c5314bd8-35cb-43e4-8d6a-d9839b9c9479\",\"type\":\"ToolbarBox\"},{\"id\":\"87dee714-e029-4a92-8495-6d7718c461a7\",\"type\":\"Column\"}]},\"id\":\"2a771ea5-7123-40e4-86ac-ebe8f22b719e\",\"type\":\"Column\"},{\"attributes\":{\"fill_alpha\":{\"value\":0.7},\"fill_color\":{\"value\":\"#4daf4a\"},\"line_alpha\":{\"value\":0.7},\"line_color\":{\"value\":\"#4daf4a\"},\"x\":{\"field\":\"x\"},\"y\":{\"field\":\"y\"}},\"id\":\"d3849209-9529-4406-b853-32e998115431\",\"type\":\"Circle\"},{\"attributes\":{\"tools\":[{\"id\":\"5b525ef1-119b-4769-9d7b-078e7c718615\",\"type\":\"PanTool\"},{\"id\":\"ddfb0b75-1a8c-4f0f-9823-bd31b6c45ee4\",\"type\":\"WheelZoomTool\"},{\"id\":\"28742a8f-ccfa-430b-95e4-514833d318f2\",\"type\":\"BoxZoomTool\"},{\"id\":\"ae41bffb-85c6-4f75-96ad-a4ee070c15c6\",\"type\":\"SaveTool\"},{\"id\":\"0ad7652a-f285-4568-9809-1308c8dfeed8\",\"type\":\"ResetTool\"},{\"id\":\"dbb26c75-ac5e-4afd-aaf8-f89968ff76be\",\"type\":\"HelpTool\"},{\"id\":\"0d8feedc-0449-4b77-8ee7-658f0f4cf38e\",\"type\":\"PanTool\"},{\"id\":\"01dd416d-daa1-4cd6-a802-7bc28dc3eeec\",\"type\":\"WheelZoomTool\"},{\"id\":\"9dcadc31-093a-4dda-af7e-8163fb2ae09f\",\"type\":\"BoxZoomTool\"},{\"id\":\"c8ba06bf-0c37-4a60-9f0c-e3e259ac8ba0\",\"type\":\"SaveTool\"},{\"id\":\"6dcea98d-baee-4ac0-8089-5464f4bbf6c5\",\"type\":\"ResetTool\"},{\"id\":\"6242d0b9-056c-4923-9a26-1084e28ab3cb\",\"type\":\"HelpTool\"}]},\"id\":\"61e67fb5-83f2-4710-969a-143f3eddfc17\",\"type\":\"ProxyToolbar\"},{\"attributes\":{\"items\":[{\"id\":\"7967f434-4e7e-4b02-9bfc-3aea2935a0ad\",\"type\":\"LegendItem\"},{\"id\":\"7304fb72-330c-4eea-be6f-b0dd0413ba73\",\"type\":\"LegendItem\"},{\"id\":\"d615477c-6e4b-435e-9a4c-e662b25443bd\",\"type\":\"LegendItem\"}],\"label_text_font_size\":{\"value\":\"8pt\"},\"location\":[10,-30],\"plot\":{\"id\":\"1e79a4a5-ff9c-4d29-a4e2-5744fc76ba6a\",\"subtype\":\"Figure\",\"type\":\"Plot\"}},\"id\":\"c47c4525-0d4b-4e6f-a5fd-269b5fcc9cb1\",\"type\":\"Legend\"},{\"attributes\":{},\"id\":\"c8ba06bf-0c37-4a60-9f0c-e3e259ac8ba0\",\"type\":\"SaveTool\"},{\"attributes\":{},\"id\":\"01dd416d-daa1-4cd6-a802-7bc28dc3eeec\",\"type\":\"WheelZoomTool\"},{\"attributes\":{},\"id\":\"6242d0b9-056c-4923-9a26-1084e28ab3cb\",\"type\":\"HelpTool\"},{\"attributes\":{\"dimension\":1,\"plot\":{\"id\":\"560b210f-e302-4e55-b07b-e82e75735eaf\",\"subtype\":\"Figure\",\"type\":\"Plot\"},\"ticker\":{\"id\":\"e11532b0-adb0-4c57-b1ca-102c3d467234\",\"type\":\"BasicTicker\"}},\"id\":\"142eea5f-c406-411b-b2f2-8302bef4f343\",\"type\":\"Grid\"},{\"attributes\":{\"callback\":null,\"column_names\":[\"x\",\"y\"],\"data\":{\"x\":{\"__ndarray__\":\"emkAvgmAQz+rVEfuGcVIP8wcT2JQ4VE/lUY+Qty7Vz/V8yALeY5dPwB0LyeVpmE/lrN3RluVZD8So3bm9rdhP2nG6uOdW2o/v1Jtolw7bT9QXV992u5vP/uOreT0R3E/AxnYJ5uScj/CWuHHpMBzP3f4B2NmjHc/U8W+cOiegj/l2sz4KVSMP7I56MHGvZM/I8pJ7tGXmT9xspjOCumfPyAG0ZJ7RaM/s9CoonPcpj8lq/wUwsipP7txNEKdxKk/LfQrF9b/pj9LFPmsbbWjP+DiUNtgiqA/oRJJh5Zbmz9I+IMmLmyWP3pIOPqGLJI/D3ppnONijD9oOLS0kteEPw9BMOtnKHw/vVbpvgEFcT+Z110VsjdUP3EBH3VYvl6/9pBHLL1Icb+DTrH3ldh3v9wnnCVV132/8q1eMWIggb8yAyJ34kiAv6t94EDGcHm/hSVQ05bScb8cg4r98DJlv+03ig1CH06/LD3siYC9Rj+o66JLrEpiP6s4zqCzYm4/9qDavzYLdT8J9tY+aK96Py8uCLYgDIA/xVSK/sikgj/Ihms+eRuFP3xwG2aYdYc/qo7OWZy6iT/ljtuIV/SLP9LA42lmHo4/GvYEVPsekD8Xxvd0XiuRPztZdC9TOpI/Dkx4hsw8kz+YZ59zKUGUP4h/MYvrQJU/J3PdqNZBlj+E2QQYlj+XPyw0SnbwPJg/etl+S2MomT9pqmkPYgSaP58zktKmyZo/dOZWvBxsmz9DfPUrfAGcP2uIE2CkjJw/TL5YZrEXnT/hNU13VaKdPwEylfqJNZ4/\",\"dtype\":\"float64\",\"shape\":[75]},\"y\":{\"__ndarray__\":\"GhExyth1ND/Sv8nbtpRIP2vylNV0PVE/aTum7souWD/At0SJ8fVgPw3Iuahxymc/MSNhhJWvcD/bTfBN02d3P2zb5nxnaoA/CD5h5MAGhz8NmeH1TyaQP+zrCsc9p5Y/LbKd76fGnz/bLW5ISEmmPww9YvTcQq8/JV2OstnstT8Er5Y7M8G+P0c+r3jqkcU/5h99k6ZBzj88bCIzFzjVP4enV8oyxN0//yH99nXg5D8qOpLLf0jtP5kqGJXUifQ/c9cS8kHP/D+/DpwzojQEQIEmwoanVwxA4lgXt9HgE0BSSZ2AJuIbQAMJih9jjiNA5q4l5INuK0AwTKYKRj0zQNv5fmq8/DpAaCJseHrtQkB/+zpwzoxKQM3MzMzMeFJAZmZmZmZqWEAAAAAAAFxeQM3MzMzMJmJAmpmZmZkfZUBmZmZmZhhoQDMzMzMzEWtAAAAAAAAKbkBmZmZmZoFwQM3MzMzM/XFAMzMzMzN6c0CamZmZmfZ0QAAAAAAAc3ZAZmZmZmbvd0DNzMzMzGt5QDMzMzMz6HpAmpmZmZlkfEAAAAAAAOF9QGZmZmZmXX9AZmZmZuZsgECamZmZGSuBQM3MzMxM6YFAAAAAAICngkAzMzMzs2WDQGZmZmbmI4RAmpmZmRnihEDNzMzMTKCFQAAAAACAXoZAMzMzM7Mch0BmZmZm5tqHQJqZmZkZmYhAzczMzExXiUAAAAAAgBWKQDMzMzOz04pAZmZmZuaRi0CamZmZGVCMQM3MzMxMDo1AAAAAAIDMjUAzMzMzs4qOQGZmZmbmSI9A\",\"dtype\":\"float64\",\"shape\":[75]}}},\"id\":\"dfb40033-c8df-497f-aa6f-f530e93777e9\",\"type\":\"ColumnDataSource\"},{\"attributes\":{},\"id\":\"e11532b0-adb0-4c57-b1ca-102c3d467234\",\"type\":\"BasicTicker\"},{\"attributes\":{},\"id\":\"d179d3aa-1e66-4b8c-bcf0-f945008333e5\",\"type\":\"BasicTickFormatter\"},{\"attributes\":{\"bottom_units\":\"screen\",\"fill_alpha\":{\"value\":0.5},\"fill_color\":{\"value\":\"lightgrey\"},\"left_units\":\"screen\",\"level\":\"overlay\",\"line_alpha\":{\"value\":1.0},\"line_color\":{\"value\":\"black\"},\"line_dash\":[4,4],\"line_width\":{\"value\":2},\"plot\":null,\"render_mode\":\"css\",\"right_units\":\"screen\",\"top_units\":\"screen\"},\"id\":\"7add7816-9c59-41df-9367-51e385ef038d\",\"type\":\"BoxAnnotation\"},{\"attributes\":{\"callback\":null,\"end\":0.01,\"start\":1020},\"id\":\"ecda11b3-c027-4299-9d10-2bebeb3f1be7\",\"type\":\"Range1d\"},{\"attributes\":{},\"id\":\"5b525ef1-119b-4769-9d7b-078e7c718615\",\"type\":\"PanTool\"},{\"attributes\":{\"line_alpha\":0.1,\"line_color\":\"#1f77b4\",\"line_dash\":[6],\"line_width\":5,\"x\":{\"field\":\"x\"},\"y\":{\"field\":\"y\"}},\"id\":\"7e41a89c-763c-47ad-9623-61ee7817b6df\",\"type\":\"Line\"},{\"attributes\":{\"line_alpha\":0.6,\"line_color\":\"#984ea3\",\"line_width\":3,\"x\":{\"field\":\"x\"},\"y\":{\"field\":\"y\"}},\"id\":\"7ace1806-e1cb-4467-846d-8a65bb209b94\",\"type\":\"Line\"},{\"attributes\":{},\"id\":\"0ad7652a-f285-4568-9809-1308c8dfeed8\",\"type\":\"ResetTool\"},{\"attributes\":{\"source\":{\"id\":\"dfb40033-c8df-497f-aa6f-f530e93777e9\",\"type\":\"ColumnDataSource\"}},\"id\":\"70bf5e74-091f-477c-a196-c81bcabcfeee\",\"type\":\"CDSView\"},{\"attributes\":{\"source\":{\"id\":\"d479e8ed-0fbb-4230-9a60-531f4bc05ad9\",\"type\":\"ColumnDataSource\"}},\"id\":\"bdb1328e-7746-4977-9049-a23ac5e07f3c\",\"type\":\"CDSView\"},{\"attributes\":{\"overlay\":{\"id\":\"7add7816-9c59-41df-9367-51e385ef038d\",\"type\":\"BoxAnnotation\"}},\"id\":\"28742a8f-ccfa-430b-95e4-514833d318f2\",\"type\":\"BoxZoomTool\"},{\"attributes\":{},\"id\":\"dbb26c75-ac5e-4afd-aaf8-f89968ff76be\",\"type\":\"HelpTool\"},{\"attributes\":{\"data_source\":{\"id\":\"a3469db5-55f6-4c4d-bf1d-1efc52d6422d\",\"type\":\"ColumnDataSource\"},\"glyph\":{\"id\":\"d3849209-9529-4406-b853-32e998115431\",\"type\":\"Circle\"},\"hover_glyph\":null,\"muted_glyph\":null,\"nonselection_glyph\":{\"id\":\"5e271c4b-ef1d-4dd9-9ad3-dd5a8abf179a\",\"type\":\"Circle\"},\"selection_glyph\":null,\"view\":{\"id\":\"18c77df9-7f20-4648-9af0-d2ef5f6b4338\",\"type\":\"CDSView\"}},\"id\":\"c70ad050-338c-42d0-a1f6-7b01b10c9126\",\"type\":\"GlyphRenderer\"},{\"attributes\":{\"line_alpha\":0.1,\"line_color\":\"#1f77b4\",\"line_dash\":[6],\"line_width\":5,\"x\":{\"field\":\"x\"},\"y\":{\"field\":\"y\"}},\"id\":\"fc756414-a06b-4b10-8cf4-6d53013992c6\",\"type\":\"Line\"},{\"attributes\":{},\"id\":\"ae41bffb-85c6-4f75-96ad-a4ee070c15c6\",\"type\":\"SaveTool\"},{\"attributes\":{\"data_source\":{\"id\":\"d479e8ed-0fbb-4230-9a60-531f4bc05ad9\",\"type\":\"ColumnDataSource\"},\"glyph\":{\"id\":\"7ace1806-e1cb-4467-846d-8a65bb209b94\",\"type\":\"Line\"},\"hover_glyph\":null,\"muted_glyph\":null,\"nonselection_glyph\":{\"id\":\"13d6b77d-397f-494c-8462-add412eafa1a\",\"type\":\"Line\"},\"selection_glyph\":null,\"view\":{\"id\":\"bdb1328e-7746-4977-9049-a23ac5e07f3c\",\"type\":\"CDSView\"}},\"id\":\"846da12c-8e08-40f1-ba9e-9831f21cd6ed\",\"type\":\"GlyphRenderer\"},{\"attributes\":{},\"id\":\"ddfb0b75-1a8c-4f0f-9823-bd31b6c45ee4\",\"type\":\"WheelZoomTool\"},{\"attributes\":{\"active_drag\":\"auto\",\"active_inspect\":\"auto\",\"active_scroll\":\"auto\",\"active_tap\":\"auto\",\"tools\":[{\"id\":\"0d8feedc-0449-4b77-8ee7-658f0f4cf38e\",\"type\":\"PanTool\"},{\"id\":\"01dd416d-daa1-4cd6-a802-7bc28dc3eeec\",\"type\":\"WheelZoomTool\"},{\"id\":\"9dcadc31-093a-4dda-af7e-8163fb2ae09f\",\"type\":\"BoxZoomTool\"},{\"id\":\"c8ba06bf-0c37-4a60-9f0c-e3e259ac8ba0\",\"type\":\"SaveTool\"},{\"id\":\"6dcea98d-baee-4ac0-8089-5464f4bbf6c5\",\"type\":\"ResetTool\"},{\"id\":\"6242d0b9-056c-4923-9a26-1084e28ab3cb\",\"type\":\"HelpTool\"}]},\"id\":\"a472b98b-3df1-4559-a399-09d396313605\",\"type\":\"Toolbar\"},{\"attributes\":{\"fill_alpha\":{\"value\":0.1},\"fill_color\":{\"value\":\"#1f77b4\"},\"line_alpha\":{\"value\":0.1},\"line_color\":{\"value\":\"#1f77b4\"},\"x\":{\"field\":\"x\"},\"y\":{\"field\":\"y\"}},\"id\":\"5e271c4b-ef1d-4dd9-9ad3-dd5a8abf179a\",\"type\":\"Circle\"},{\"attributes\":{\"plot\":null,\"text\":\"Linear pressure scale\"},\"id\":\"1a2a4e21-867f-42a4-b5b8-787bc916526d\",\"type\":\"Title\"},{\"attributes\":{\"line_color\":\"#4daf4a\",\"line_width\":1.5,\"x\":{\"field\":\"x\"},\"y\":{\"field\":\"y\"}},\"id\":\"02ae847e-3136-4a13-aea9-705ec9ee2ce0\",\"type\":\"Line\"},{\"attributes\":{\"callback\":null,\"column_names\":[\"x\",\"y\"],\"data\":{\"x\":{\"__ndarray__\":\"Ommkvol1cT+JPIKt7QdyPzvh6ETQQHM/pq12aSyOdD/bhYGw+t11P2SuUWPeL3c/juiTycODeD9Bwh4Pj9l5PwsBNwkpMXs/iwqec0qKfD8vuqJrleR9P4IzCni+P38/MEPrC7BNgD9r7Qjr+AaBP1H0AjqvOIM/zFbPdyNdiT+Cs31EwUyRPz5stv20XpY/VoWQjunmmz9jEMov8PegP7NZ/Z9cM6Q/NF+V/j6jpz82xnHQPIGqP8WikXZHPKo/K9KaKag9qD8R7ojh51qlPzRxHS3PhqI/05E/O9Ahnz8xzp8RZ4KZP/SnGDyqApQ/ETZlCfLXjT9+dtZESgyEP+HkdfisHnc/RxdsQhlsYz/cG0Pq4g5Dv8gU0Bqp02u/yg7fdb5ndb90ON3ryWB6vw4OY8O0Hn+/tHlR+MIdgb+QyC/mpPx/v3wpFXyuCXm/vkUJ9VKDcb9wNxpeVopkv2U83/5xskm/xAKB7i5lTD+E3gxaes5rPwrT8EoQ428/euuz6Kk7dz+CccVz9tt7PyTdsjo6PIE/XiErKfjdgz+Hk57YJYiGPzalfEITKYk/hHh96suqiz9eeWlwsxqOP5p/ub+SKJA/VLJIEAtYkT++HAFH9HuSP+vRTijomJM/XikMCHS4lD/ywxPBibaVPwDKu0BLy5Y/NAHsxxnPlz+JekhPTd2YPyhilfuy7pk/ftYQb3Hamj/5+zV4Z72bP91BXqKJlpw/+lzj95pMnT/BEBsn4+qdP5rkghVZgp4/YMSG+8QZnz9C8oPvzK+fP00+onOKD6A/\",\"dtype\":\"float64\",\"shape\":[75]},\"y\":{\"__ndarray__\":\"GhExyth1ND/Sv8nbtpRIP2vylNV0PVE/aTum7souWD/At0SJ8fVgPw3Iuahxymc/MSNhhJWvcD/bTfBN02d3P2zb5nxnaoA/CD5h5MAGhz8NmeH1TyaQP+zrCsc9p5Y/LbKd76fGnz/bLW5ISEmmPww9YvTcQq8/JV2OstnstT8Er5Y7M8G+P0c+r3jqkcU/5h99k6ZBzj88bCIzFzjVP4enV8oyxN0//yH99nXg5D8qOpLLf0jtP5kqGJXUifQ/c9cS8kHP/D+/DpwzojQEQIEmwoanVwxA4lgXt9HgE0BSSZ2AJuIbQAMJih9jjiNA5q4l5INuK0AwTKYKRj0zQNv5fmq8/DpAaCJseHrtQkB/+zpwzoxKQM3MzMzMeFJAZmZmZmZqWEAAAAAAAFxeQM3MzMzMJmJAmpmZmZkfZUBmZmZmZhhoQDMzMzMzEWtAAAAAAAAKbkBmZmZmZoFwQM3MzMzM/XFAMzMzMzN6c0CamZmZmfZ0QAAAAAAAc3ZAZmZmZmbvd0DNzMzMzGt5QDMzMzMz6HpAmpmZmZlkfEAAAAAAAOF9QGZmZmZmXX9AZmZmZuZsgECamZmZGSuBQM3MzMxM6YFAAAAAAICngkAzMzMzs2WDQGZmZmbmI4RAmpmZmRnihEDNzMzMTKCFQAAAAACAXoZAMzMzM7Mch0BmZmZm5tqHQJqZmZkZmYhAzczMzExXiUAAAAAAgBWKQDMzMzOz04pAZmZmZuaRi0CamZmZGVCMQM3MzMxMDo1AAAAAAIDMjUAzMzMzs4qOQGZmZmbmSI9A\",\"dtype\":\"float64\",\"shape\":[75]}}},\"id\":\"d479e8ed-0fbb-4230-9a60-531f4bc05ad9\",\"type\":\"ColumnDataSource\"},{\"attributes\":{\"plot\":null,\"text\":\"Log pressure scale\"},\"id\":\"680d71c4-958e-45b1-8c04-14598313a2a5\",\"type\":\"Title\"},{\"attributes\":{\"data_source\":{\"id\":\"dfb40033-c8df-497f-aa6f-f530e93777e9\",\"type\":\"ColumnDataSource\"},\"glyph\":{\"id\":\"02ae847e-3136-4a13-aea9-705ec9ee2ce0\",\"type\":\"Line\"},\"hover_glyph\":null,\"muted_glyph\":null,\"nonselection_glyph\":{\"id\":\"fdc854fd-d166-481b-8fe1-47f0ce3022c3\",\"type\":\"Line\"},\"selection_glyph\":null,\"view\":{\"id\":\"70bf5e74-091f-477c-a196-c81bcabcfeee\",\"type\":\"CDSView\"}},\"id\":\"93912e79-c6c9-43ca-939d-111cb4a2927e\",\"type\":\"GlyphRenderer\"},{\"attributes\":{\"source\":{\"id\":\"d4475126-178b-48b1-968e-a56ac064adff\",\"type\":\"ColumnDataSource\"}},\"id\":\"36685778-c8c0-4be6-8cbf-d87598e67f13\",\"type\":\"CDSView\"},{\"attributes\":{\"line_alpha\":0.1,\"line_color\":\"#1f77b4\",\"line_width\":1.5,\"x\":{\"field\":\"x\"},\"y\":{\"field\":\"y\"}},\"id\":\"fdc854fd-d166-481b-8fe1-47f0ce3022c3\",\"type\":\"Line\"},{\"attributes\":{\"num_minor_ticks\":10},\"id\":\"13172bdd-5925-4b8a-8987-2ea4780e21cd\",\"type\":\"LogTicker\"},{\"attributes\":{\"data_source\":{\"id\":\"1e42f06d-42c2-4ff4-84e3-46cdef958f92\",\"type\":\"ColumnDataSource\"},\"glyph\":{\"id\":\"19991487-5306-4be5-bcab-421772e8b1bb\",\"type\":\"Square\"},\"hover_glyph\":null,\"muted_glyph\":null,\"nonselection_glyph\":{\"id\":\"30689b2a-2282-493d-94f1-752e56fa181a\",\"type\":\"Square\"},\"selection_glyph\":null,\"view\":{\"id\":\"258b1ce3-1de9-4876-8875-a7bf2463514b\",\"type\":\"CDSView\"}},\"id\":\"b233e304-7065-4c1c-8815-35c978969b55\",\"type\":\"GlyphRenderer\"},{\"attributes\":{\"callback\":null,\"column_names\":[\"x\",\"y\"],\"data\":{\"x\":{\"__ndarray__\":\"Ommkvol1cT+JPIKt7QdyPzvh6ETQQHM/pq12aSyOdD/bhYGw+t11P2SuUWPeL3c/juiTycODeD9Bwh4Pj9l5PwsBNwkpMXs/iwqec0qKfD8vuqJrleR9P4IzCni+P38/MEPrC7BNgD9r7Qjr+AaBP1H0AjqvOIM/zFbPdyNdiT+Cs31EwUyRPz5stv20XpY/VoWQjunmmz9jEMov8PegP7NZ/Z9cM6Q/NF+V/j6jpz82xnHQPIGqP8WikXZHPKo/K9KaKag9qD8R7ojh51qlPzRxHS3PhqI/05E/O9Ahnz8xzp8RZ4KZP/SnGDyqApQ/ETZlCfLXjT9+dtZESgyEP+HkdfisHnc/RxdsQhlsYz/cG0Pq4g5Dv8gU0Bqp02u/yg7fdb5ndb90ON3ryWB6vw4OY8O0Hn+/tHlR+MIdgb+QyC/mpPx/v3wpFXyuCXm/vkUJ9VKDcb9wNxpeVopkv2U83/5xskm/xAKB7i5lTD+E3gxaes5rPwrT8EoQ428/euuz6Kk7dz+CccVz9tt7PyTdsjo6PIE/XiErKfjdgz+Hk57YJYiGPzalfEITKYk/hHh96suqiz9eeWlwsxqOP5p/ub+SKJA/VLJIEAtYkT++HAFH9HuSP+vRTijomJM/XikMCHS4lD/ywxPBibaVPwDKu0BLy5Y/NAHsxxnPlz+JekhPTd2YPyhilfuy7pk/ftYQb3Hamj/5+zV4Z72bP91BXqKJlpw/+lzj95pMnT/BEBsn4+qdP5rkghVZgp4/YMSG+8QZnz9C8oPvzK+fP00+onOKD6A/\",\"dtype\":\"float64\",\"shape\":[75]},\"y\":{\"__ndarray__\":\"GhExyth1ND/Sv8nbtpRIP2vylNV0PVE/aTum7souWD/At0SJ8fVgPw3Iuahxymc/MSNhhJWvcD/bTfBN02d3P2zb5nxnaoA/CD5h5MAGhz8NmeH1TyaQP+zrCsc9p5Y/LbKd76fGnz/bLW5ISEmmPww9YvTcQq8/JV2OstnstT8Er5Y7M8G+P0c+r3jqkcU/5h99k6ZBzj88bCIzFzjVP4enV8oyxN0//yH99nXg5D8qOpLLf0jtP5kqGJXUifQ/c9cS8kHP/D+/DpwzojQEQIEmwoanVwxA4lgXt9HgE0BSSZ2AJuIbQAMJih9jjiNA5q4l5INuK0AwTKYKRj0zQNv5fmq8/DpAaCJseHrtQkB/+zpwzoxKQM3MzMzMeFJAZmZmZmZqWEAAAAAAAFxeQM3MzMzMJmJAmpmZmZkfZUBmZmZmZhhoQDMzMzMzEWtAAAAAAAAKbkBmZmZmZoFwQM3MzMzM/XFAMzMzMzN6c0CamZmZmfZ0QAAAAAAAc3ZAZmZmZmbvd0DNzMzMzGt5QDMzMzMz6HpAmpmZmZlkfEAAAAAAAOF9QGZmZmZmXX9AZmZmZuZsgECamZmZGSuBQM3MzMxM6YFAAAAAAICngkAzMzMzs2WDQGZmZmbmI4RAmpmZmRnihEDNzMzMTKCFQAAAAACAXoZAMzMzM7Mch0BmZmZm5tqHQJqZmZkZmYhAzczMzExXiUAAAAAAgBWKQDMzMzOz04pAZmZmZuaRi0CamZmZGVCMQM3MzMxMDo1AAAAAAIDMjUAzMzMzs4qOQGZmZmbmSI9A\",\"dtype\":\"float64\",\"shape\":[75]}}},\"id\":\"1e42f06d-42c2-4ff4-84e3-46cdef958f92\",\"type\":\"ColumnDataSource\"},{\"attributes\":{\"fill_alpha\":{\"value\":0.7},\"fill_color\":{\"value\":\"#984ea3\"},\"line_alpha\":{\"value\":0.7},\"line_color\":{\"value\":\"#984ea3\"},\"x\":{\"field\":\"x\"},\"y\":{\"field\":\"y\"}},\"id\":\"19991487-5306-4be5-bcab-421772e8b1bb\",\"type\":\"Square\"},{\"attributes\":{\"callback\":null,\"end\":0.031767374183,\"start\":-0.008910948283},\"id\":\"d7e9e5c9-c441-4be1-842e-423c57640fc7\",\"type\":\"Range1d\"},{\"attributes\":{},\"id\":\"16c5e79a-dfd2-44a6-a070-e039e1d82426\",\"type\":\"LinearScale\"},{\"attributes\":{\"axis_label\":\"pressure [mb]\",\"formatter\":{\"id\":\"3cdb5641-0c08-4209-992e-45f4d57b38ec\",\"type\":\"LogTickFormatter\"},\"plot\":{\"id\":\"1e79a4a5-ff9c-4d29-a4e2-5744fc76ba6a\",\"subtype\":\"Figure\",\"type\":\"Plot\"},\"ticker\":{\"id\":\"13172bdd-5925-4b8a-8987-2ea4780e21cd\",\"type\":\"LogTicker\"}},\"id\":\"32d1c12b-8628-4fc0-b6ad-a004b4b1945c\",\"type\":\"LogAxis\"},{\"attributes\":{},\"id\":\"d5c963f8-b0bf-44a1-b713-b31c9ae2cb1b\",\"type\":\"LinearScale\"},{\"attributes\":{\"callback\":null,\"column_names\":[\"x\",\"y\"],\"data\":{\"x\":{\"__ndarray__\":\"emkAvgmAQz+rVEfuGcVIP8wcT2JQ4VE/lUY+Qty7Vz/V8yALeY5dPwB0LyeVpmE/lrN3RluVZD8So3bm9rdhP2nG6uOdW2o/v1Jtolw7bT9QXV992u5vP/uOreT0R3E/AxnYJ5uScj/CWuHHpMBzP3f4B2NmjHc/U8W+cOiegj/l2sz4KVSMP7I56MHGvZM/I8pJ7tGXmT9xspjOCumfPyAG0ZJ7RaM/s9CoonPcpj8lq/wUwsipP7txNEKdxKk/LfQrF9b/pj9LFPmsbbWjP+DiUNtgiqA/oRJJh5Zbmz9I+IMmLmyWP3pIOPqGLJI/D3ppnONijD9oOLS0kteEPw9BMOtnKHw/vVbpvgEFcT+Z110VsjdUP3EBH3VYvl6/9pBHLL1Icb+DTrH3ldh3v9wnnCVV132/8q1eMWIggb8yAyJ34kiAv6t94EDGcHm/hSVQ05bScb8cg4r98DJlv+03ig1CH06/LD3siYC9Rj+o66JLrEpiP6s4zqCzYm4/9qDavzYLdT8J9tY+aK96Py8uCLYgDIA/xVSK/sikgj/Ihms+eRuFP3xwG2aYdYc/qo7OWZy6iT/ljtuIV/SLP9LA42lmHo4/GvYEVPsekD8Xxvd0XiuRPztZdC9TOpI/Dkx4hsw8kz+YZ59zKUGUP4h/MYvrQJU/J3PdqNZBlj+E2QQYlj+XPyw0SnbwPJg/etl+S2MomT9pqmkPYgSaP58zktKmyZo/dOZWvBxsmz9DfPUrfAGcP2uIE2CkjJw/TL5YZrEXnT/hNU13VaKdPwEylfqJNZ4/\",\"dtype\":\"float64\",\"shape\":[75]},\"y\":{\"__ndarray__\":\"GhExyth1ND/Sv8nbtpRIP2vylNV0PVE/aTum7souWD/At0SJ8fVgPw3Iuahxymc/MSNhhJWvcD/bTfBN02d3P2zb5nxnaoA/CD5h5MAGhz8NmeH1TyaQP+zrCsc9p5Y/LbKd76fGnz/bLW5ISEmmPww9YvTcQq8/JV2OstnstT8Er5Y7M8G+P0c+r3jqkcU/5h99k6ZBzj88bCIzFzjVP4enV8oyxN0//yH99nXg5D8qOpLLf0jtP5kqGJXUifQ/c9cS8kHP/D+/DpwzojQEQIEmwoanVwxA4lgXt9HgE0BSSZ2AJuIbQAMJih9jjiNA5q4l5INuK0AwTKYKRj0zQNv5fmq8/DpAaCJseHrtQkB/+zpwzoxKQM3MzMzMeFJAZmZmZmZqWEAAAAAAAFxeQM3MzMzMJmJAmpmZmZkfZUBmZmZmZhhoQDMzMzMzEWtAAAAAAAAKbkBmZmZmZoFwQM3MzMzM/XFAMzMzMzN6c0CamZmZmfZ0QAAAAAAAc3ZAZmZmZmbvd0DNzMzMzGt5QDMzMzMz6HpAmpmZmZlkfEAAAAAAAOF9QGZmZmZmXX9AZmZmZuZsgECamZmZGSuBQM3MzMxM6YFAAAAAAICngkAzMzMzs2WDQGZmZmbmI4RAmpmZmRnihEDNzMzMTKCFQAAAAACAXoZAMzMzM7Mch0BmZmZm5tqHQJqZmZkZmYhAzczMzExXiUAAAAAAgBWKQDMzMzOz04pAZmZmZuaRi0CamZmZGVCMQM3MzMxMDo1AAAAAAIDMjUAzMzMzs4qOQGZmZmbmSI9A\",\"dtype\":\"float64\",\"shape\":[75]}}},\"id\":\"a3469db5-55f6-4c4d-bf1d-1efc52d6422d\",\"type\":\"ColumnDataSource\"},{\"attributes\":{\"axis_label\":\"cooling rate [K/day]\",\"formatter\":{\"id\":\"7321d747-3f05-4f84-b072-1be71b87fa2f\",\"type\":\"BasicTickFormatter\"},\"plot\":{\"id\":\"560b210f-e302-4e55-b07b-e82e75735eaf\",\"subtype\":\"Figure\",\"type\":\"Plot\"},\"ticker\":{\"id\":\"6867b8a2-bada-4304-9e98-6a33c3570d1b\",\"type\":\"BasicTicker\"}},\"id\":\"150b7f93-6d98-4b7e-9504-0d2889106ae0\",\"type\":\"LinearAxis\"},{\"attributes\":{\"fill_alpha\":{\"value\":0.1},\"fill_color\":{\"value\":\"#1f77b4\"},\"line_alpha\":{\"value\":0.1},\"line_color\":{\"value\":\"#1f77b4\"},\"x\":{\"field\":\"x\"},\"y\":{\"field\":\"y\"}},\"id\":\"30689b2a-2282-493d-94f1-752e56fa181a\",\"type\":\"Square\"},{\"attributes\":{\"below\":[{\"id\":\"96c2c68b-8d0d-4742-8d85-ab64debec8b8\",\"type\":\"LinearAxis\"}],\"left\":[{\"id\":\"32d1c12b-8628-4fc0-b6ad-a004b4b1945c\",\"type\":\"LogAxis\"}],\"plot_height\":500,\"plot_width\":560,\"renderers\":[{\"id\":\"96c2c68b-8d0d-4742-8d85-ab64debec8b8\",\"type\":\"LinearAxis\"},{\"id\":\"fb2dbf0c-5845-4897-8719-e542536fbb52\",\"type\":\"Grid\"},{\"id\":\"32d1c12b-8628-4fc0-b6ad-a004b4b1945c\",\"type\":\"LogAxis\"},{\"id\":\"02369b5d-e337-4159-b748-045a788d591e\",\"type\":\"Grid\"},{\"id\":\"37ac40b2-c44e-43e1-a0cf-0cb96b740f0b\",\"type\":\"BoxAnnotation\"},{\"id\":\"974c2de7-cc06-423b-8c6d-d9b7582ba54b\",\"type\":\"GlyphRenderer\"},{\"id\":\"54ebc01c-0abd-490e-aee7-a66877ba1894\",\"type\":\"GlyphRenderer\"},{\"id\":\"2eb87f37-aaba-4aee-9abd-a3656ab6c513\",\"type\":\"GlyphRenderer\"},{\"id\":\"9e97bcdf-d4e7-42c0-a114-2ee24f14ab1f\",\"type\":\"GlyphRenderer\"},{\"id\":\"e226b343-6e7d-4d24-95a8-9cb3c81646fc\",\"type\":\"GlyphRenderer\"},{\"id\":\"c47c4525-0d4b-4e6f-a5fd-269b5fcc9cb1\",\"type\":\"Legend\"}],\"right\":[{\"id\":\"c47c4525-0d4b-4e6f-a5fd-269b5fcc9cb1\",\"type\":\"Legend\"}],\"title\":{\"id\":\"680d71c4-958e-45b1-8c04-14598313a2a5\",\"type\":\"Title\"},\"toolbar\":{\"id\":\"a472b98b-3df1-4559-a399-09d396313605\",\"type\":\"Toolbar\"},\"toolbar_location\":null,\"x_range\":{\"id\":\"ddbe47af-2f1a-4368-8f62-98a50347d7c2\",\"type\":\"Range1d\"},\"x_scale\":{\"id\":\"ace5ba38-25af-40ae-8e90-984a284af9fb\",\"type\":\"LinearScale\"},\"y_range\":{\"id\":\"ae7256a6-a5df-40ee-af02-b059731c9718\",\"type\":\"Range1d\"},\"y_scale\":{\"id\":\"52f0a640-f7b6-45a9-bf76-13ba111248a9\",\"type\":\"LogScale\"}},\"id\":\"1e79a4a5-ff9c-4d29-a4e2-5744fc76ba6a\",\"subtype\":\"Figure\",\"type\":\"Plot\"},{\"attributes\":{\"dimension\":1,\"plot\":{\"id\":\"1e79a4a5-ff9c-4d29-a4e2-5744fc76ba6a\",\"subtype\":\"Figure\",\"type\":\"Plot\"},\"ticker\":{\"id\":\"13172bdd-5925-4b8a-8987-2ea4780e21cd\",\"type\":\"LogTicker\"}},\"id\":\"02369b5d-e337-4159-b748-045a788d591e\",\"type\":\"Grid\"},{\"attributes\":{\"line_alpha\":0.1,\"line_color\":\"#1f77b4\",\"line_width\":3,\"x\":{\"field\":\"x\"},\"y\":{\"field\":\"y\"}},\"id\":\"13d6b77d-397f-494c-8462-add412eafa1a\",\"type\":\"Line\"},{\"attributes\":{\"active_drag\":\"auto\",\"active_inspect\":\"auto\",\"active_scroll\":\"auto\",\"active_tap\":\"auto\",\"tools\":[{\"id\":\"5b525ef1-119b-4769-9d7b-078e7c718615\",\"type\":\"PanTool\"},{\"id\":\"ddfb0b75-1a8c-4f0f-9823-bd31b6c45ee4\",\"type\":\"WheelZoomTool\"},{\"id\":\"28742a8f-ccfa-430b-95e4-514833d318f2\",\"type\":\"BoxZoomTool\"},{\"id\":\"ae41bffb-85c6-4f75-96ad-a4ee070c15c6\",\"type\":\"SaveTool\"},{\"id\":\"0ad7652a-f285-4568-9809-1308c8dfeed8\",\"type\":\"ResetTool\"},{\"id\":\"dbb26c75-ac5e-4afd-aaf8-f89968ff76be\",\"type\":\"HelpTool\"}]},\"id\":\"b0940e18-0aef-46f0-89a8-032318f09e90\",\"type\":\"Toolbar\"},{\"attributes\":{\"callback\":null,\"end\":0.01,\"start\":1020},\"id\":\"ae7256a6-a5df-40ee-af02-b059731c9718\",\"type\":\"Range1d\"},{\"attributes\":{\"line_alpha\":0.6,\"line_color\":\"#e41a1c\",\"line_dash\":[6],\"line_width\":5,\"x\":{\"field\":\"x\"},\"y\":{\"field\":\"y\"}},\"id\":\"7673e82a-e6c0-463a-ae2c-f2edb9a33d9f\",\"type\":\"Line\"},{\"attributes\":{\"source\":{\"id\":\"a3469db5-55f6-4c4d-bf1d-1efc52d6422d\",\"type\":\"ColumnDataSource\"}},\"id\":\"18c77df9-7f20-4648-9af0-d2ef5f6b4338\",\"type\":\"CDSView\"},{\"attributes\":{},\"id\":\"6867b8a2-bada-4304-9e98-6a33c3570d1b\",\"type\":\"BasicTicker\"},{\"attributes\":{\"plot\":{\"id\":\"560b210f-e302-4e55-b07b-e82e75735eaf\",\"subtype\":\"Figure\",\"type\":\"Plot\"},\"ticker\":{\"id\":\"6867b8a2-bada-4304-9e98-6a33c3570d1b\",\"type\":\"BasicTicker\"}},\"id\":\"15004b9e-ee84-4b00-b2a6-1c377cb690bf\",\"type\":\"Grid\"},{\"attributes\":{},\"id\":\"ace5ba38-25af-40ae-8e90-984a284af9fb\",\"type\":\"LinearScale\"},{\"attributes\":{\"below\":[{\"id\":\"150b7f93-6d98-4b7e-9504-0d2889106ae0\",\"type\":\"LinearAxis\"}],\"left\":[{\"id\":\"f5eaccce-b147-49a8-8da1-59cae89a7c33\",\"type\":\"LinearAxis\"}],\"plot_height\":500,\"plot_width\":400,\"renderers\":[{\"id\":\"150b7f93-6d98-4b7e-9504-0d2889106ae0\",\"type\":\"LinearAxis\"},{\"id\":\"15004b9e-ee84-4b00-b2a6-1c377cb690bf\",\"type\":\"Grid\"},{\"id\":\"f5eaccce-b147-49a8-8da1-59cae89a7c33\",\"type\":\"LinearAxis\"},{\"id\":\"142eea5f-c406-411b-b2f2-8302bef4f343\",\"type\":\"Grid\"},{\"id\":\"7add7816-9c59-41df-9367-51e385ef038d\",\"type\":\"BoxAnnotation\"},{\"id\":\"eb3c1aa4-04c3-49d9-850f-503e8a5da96b\",\"type\":\"GlyphRenderer\"},{\"id\":\"c70ad050-338c-42d0-a1f6-7b01b10c9126\",\"type\":\"GlyphRenderer\"},{\"id\":\"93912e79-c6c9-43ca-939d-111cb4a2927e\",\"type\":\"GlyphRenderer\"},{\"id\":\"b233e304-7065-4c1c-8815-35c978969b55\",\"type\":\"GlyphRenderer\"},{\"id\":\"846da12c-8e08-40f1-ba9e-9831f21cd6ed\",\"type\":\"GlyphRenderer\"}],\"title\":{\"id\":\"1a2a4e21-867f-42a4-b5b8-787bc916526d\",\"type\":\"Title\"},\"toolbar\":{\"id\":\"b0940e18-0aef-46f0-89a8-032318f09e90\",\"type\":\"Toolbar\"},\"toolbar_location\":null,\"x_range\":{\"id\":\"d7e9e5c9-c441-4be1-842e-423c57640fc7\",\"type\":\"Range1d\"},\"x_scale\":{\"id\":\"d5c963f8-b0bf-44a1-b713-b31c9ae2cb1b\",\"type\":\"LinearScale\"},\"y_range\":{\"id\":\"ecda11b3-c027-4299-9d10-2bebeb3f1be7\",\"type\":\"Range1d\"},\"y_scale\":{\"id\":\"16c5e79a-dfd2-44a6-a070-e039e1d82426\",\"type\":\"LinearScale\"}},\"id\":\"560b210f-e302-4e55-b07b-e82e75735eaf\",\"subtype\":\"Figure\",\"type\":\"Plot\"},{\"attributes\":{\"source\":{\"id\":\"1e42f06d-42c2-4ff4-84e3-46cdef958f92\",\"type\":\"ColumnDataSource\"}},\"id\":\"258b1ce3-1de9-4876-8875-a7bf2463514b\",\"type\":\"CDSView\"},{\"attributes\":{\"axis_label\":\"pressure [mb]\",\"formatter\":{\"id\":\"d179d3aa-1e66-4b8c-bcf0-f945008333e5\",\"type\":\"BasicTickFormatter\"},\"plot\":{\"id\":\"560b210f-e302-4e55-b07b-e82e75735eaf\",\"subtype\":\"Figure\",\"type\":\"Plot\"},\"ticker\":{\"id\":\"e11532b0-adb0-4c57-b1ca-102c3d467234\",\"type\":\"BasicTicker\"}},\"id\":\"f5eaccce-b147-49a8-8da1-59cae89a7c33\",\"type\":\"LinearAxis\"}],\"root_ids\":[\"2a771ea5-7123-40e4-86ac-ebe8f22b719e\"]},\"title\":\"Bokeh Application\",\"version\":\"0.12.14\"}};\n",
       "  var render_items = [{\"docid\":\"65274cd3-e46d-46c6-9660-0089c6423ae9\",\"elementid\":\"1e3f5ee4-f23b-4fba-9a19-2c3f55796b7e\",\"modelid\":\"2a771ea5-7123-40e4-86ac-ebe8f22b719e\"}];\n",
       "  root.Bokeh.embed.embed_items_notebook(docs_json, render_items);\n",
       "\n",
       "  }\n",
       "  if (root.Bokeh !== undefined) {\n",
       "    embed_document(root);\n",
       "  } else {\n",
       "    var attempts = 0;\n",
       "    var timer = setInterval(function(root) {\n",
       "      if (root.Bokeh !== undefined) {\n",
       "        embed_document(root);\n",
       "        clearInterval(timer);\n",
       "      }\n",
       "      attempts++;\n",
       "      if (attempts > 100) {\n",
       "        console.log(\"Bokeh: ERROR: Unable to run BokehJS code because BokehJS library is missing\")\n",
       "        clearInterval(timer);\n",
       "      }\n",
       "    }, 10, root)\n",
       "  }\n",
       "})(window);"
      ],
      "application/vnd.bokehjs_exec.v0+json": ""
     },
     "metadata": {
      "application/vnd.bokehjs_exec.v0+json": {
       "id": "2a771ea5-7123-40e4-86ac-ebe8f22b719e"
      }
     },
     "output_type": "display_data"
    },
    {
     "name": "stdout",
     "output_type": "stream",
     "text": [
      "FIGURE. Cooling rate profiles.\n"
     ]
    },
    {
     "data": {
      "text/html": [
       "<a id=\"Flux_Comparison\"></a>"
      ],
      "text/plain": [
       "<IPython.core.display.HTML object>"
      ]
     },
     "metadata": {},
     "output_type": "display_data"
    },
    {
     "data": {
      "text/markdown": [
       "# Flux Comparison"
      ],
      "text/plain": [
       "<IPython.core.display.Markdown object>"
      ]
     },
     "metadata": {},
     "output_type": "display_data"
    },
    {
     "data": {
      "text/html": [
       "<div>\n",
       "<style>\n",
       "    .dataframe thead tr:only-child th {\n",
       "        text-align: right;\n",
       "    }\n",
       "\n",
       "    .dataframe thead th {\n",
       "        text-align: left;\n",
       "    }\n",
       "\n",
       "    .dataframe tbody tr th {\n",
       "        vertical-align: top;\n",
       "    }\n",
       "</style>\n",
       "<table border=\"1\" class=\"dataframe\">\n",
       "  <thead>\n",
       "    <tr style=\"text-align: right;\">\n",
       "      <th></th>\n",
       "      <th></th>\n",
       "      <th>flug</th>\n",
       "      <th>fldg</th>\n",
       "      <th>fnetg</th>\n",
       "    </tr>\n",
       "    <tr>\n",
       "      <th>pressure</th>\n",
       "      <th>level</th>\n",
       "      <th></th>\n",
       "      <th></th>\n",
       "      <th></th>\n",
       "    </tr>\n",
       "  </thead>\n",
       "  <tbody>\n",
       "    <tr>\n",
       "      <th>0.0000</th>\n",
       "      <th>1</th>\n",
       "      <td>-35.017751</td>\n",
       "      <td>0.000000</td>\n",
       "      <td>-35.017751</td>\n",
       "    </tr>\n",
       "    <tr>\n",
       "      <th>1.0685</th>\n",
       "      <th>24</th>\n",
       "      <td>-35.017082</td>\n",
       "      <td>0.004165</td>\n",
       "      <td>-35.012917</td>\n",
       "    </tr>\n",
       "    <tr>\n",
       "      <th>1013.0000</th>\n",
       "      <th>76</th>\n",
       "      <td>-36.235408</td>\n",
       "      <td>2.706352</td>\n",
       "      <td>-33.529056</td>\n",
       "    </tr>\n",
       "  </tbody>\n",
       "</table>\n",
       "</div>"
      ],
      "text/plain": [
       "                      flug      fldg      fnetg\n",
       "pressure  level                                \n",
       "0.0000    1     -35.017751  0.000000 -35.017751\n",
       "1.0685    24    -35.017082  0.004165 -35.012917\n",
       "1013.0000 76    -36.235408  2.706352 -33.529056"
      ]
     },
     "metadata": {},
     "output_type": "display_data"
    },
    {
     "name": "stdout",
     "output_type": "stream",
     "text": [
      "Table. Fluxes. WGT igg=10 wgt_flux=1\n"
     ]
    },
    {
     "data": {
      "text/html": [
       "<div>\n",
       "<style>\n",
       "    .dataframe thead tr:only-child th {\n",
       "        text-align: right;\n",
       "    }\n",
       "\n",
       "    .dataframe thead th {\n",
       "        text-align: left;\n",
       "    }\n",
       "\n",
       "    .dataframe tbody tr th {\n",
       "        vertical-align: top;\n",
       "    }\n",
       "</style>\n",
       "<table border=\"1\" class=\"dataframe\">\n",
       "  <thead>\n",
       "    <tr style=\"text-align: right;\">\n",
       "      <th></th>\n",
       "      <th></th>\n",
       "      <th>flug</th>\n",
       "      <th>fldg</th>\n",
       "      <th>fnetg</th>\n",
       "    </tr>\n",
       "    <tr>\n",
       "      <th>pressure</th>\n",
       "      <th>level</th>\n",
       "      <th></th>\n",
       "      <th></th>\n",
       "      <th></th>\n",
       "    </tr>\n",
       "  </thead>\n",
       "  <tbody>\n",
       "    <tr>\n",
       "      <th>0.0000</th>\n",
       "      <th>1</th>\n",
       "      <td>-35.016385</td>\n",
       "      <td>0.000000</td>\n",
       "      <td>-35.016385</td>\n",
       "    </tr>\n",
       "    <tr>\n",
       "      <th>1.0685</th>\n",
       "      <th>24</th>\n",
       "      <td>-35.016109</td>\n",
       "      <td>0.004314</td>\n",
       "      <td>-35.011795</td>\n",
       "    </tr>\n",
       "    <tr>\n",
       "      <th>1013.0000</th>\n",
       "      <th>76</th>\n",
       "      <td>-36.235408</td>\n",
       "      <td>2.614209</td>\n",
       "      <td>-33.621199</td>\n",
       "    </tr>\n",
       "  </tbody>\n",
       "</table>\n",
       "</div>"
      ],
      "text/plain": [
       "                      flug      fldg      fnetg\n",
       "pressure  level                                \n",
       "0.0000    1     -35.016385  0.000000 -35.016385\n",
       "1.0685    24    -35.016109  0.004314 -35.011795\n",
       "1013.0000 76    -36.235408  2.614209 -33.621199"
      ]
     },
     "metadata": {},
     "output_type": "display_data"
    },
    {
     "name": "stdout",
     "output_type": "stream",
     "text": [
      "Table. Fluxes. CRD\n"
     ]
    },
    {
     "data": {
      "text/html": [
       "<div>\n",
       "<style>\n",
       "    .dataframe thead tr:only-child th {\n",
       "        text-align: right;\n",
       "    }\n",
       "\n",
       "    .dataframe thead th {\n",
       "        text-align: left;\n",
       "    }\n",
       "\n",
       "    .dataframe tbody tr th {\n",
       "        vertical-align: top;\n",
       "    }\n",
       "</style>\n",
       "<table border=\"1\" class=\"dataframe\">\n",
       "  <thead>\n",
       "    <tr style=\"text-align: right;\">\n",
       "      <th></th>\n",
       "      <th></th>\n",
       "      <th>flug</th>\n",
       "      <th>fldg</th>\n",
       "      <th>fnetg</th>\n",
       "    </tr>\n",
       "    <tr>\n",
       "      <th>pressure</th>\n",
       "      <th>level</th>\n",
       "      <th></th>\n",
       "      <th></th>\n",
       "      <th></th>\n",
       "    </tr>\n",
       "  </thead>\n",
       "  <tbody>\n",
       "    <tr>\n",
       "      <th>1.000000e-08</th>\n",
       "      <th>1</th>\n",
       "      <td>-35.065308</td>\n",
       "      <td>0.000002</td>\n",
       "      <td>-35.065308</td>\n",
       "    </tr>\n",
       "    <tr>\n",
       "      <th>1.068500e+00</th>\n",
       "      <th>24</th>\n",
       "      <td>-35.064587</td>\n",
       "      <td>0.003795</td>\n",
       "      <td>-35.060791</td>\n",
       "    </tr>\n",
       "    <tr>\n",
       "      <th>1.013000e+03</th>\n",
       "      <th>76</th>\n",
       "      <td>-36.235409</td>\n",
       "      <td>2.606824</td>\n",
       "      <td>-33.628586</td>\n",
       "    </tr>\n",
       "  </tbody>\n",
       "</table>\n",
       "</div>"
      ],
      "text/plain": [
       "                         flug      fldg      fnetg\n",
       "pressure     level                                \n",
       "1.000000e-08 1     -35.065308  0.000002 -35.065308\n",
       "1.068500e+00 24    -35.064587  0.003795 -35.060791\n",
       "1.013000e+03 76    -36.235409  2.606824 -33.628586"
      ]
     },
     "metadata": {},
     "output_type": "display_data"
    },
    {
     "name": "stdout",
     "output_type": "stream",
     "text": [
      "Table. Fluxes. CLIRAD\n"
     ]
    },
    {
     "data": {
      "text/html": [
       "<div>\n",
       "<style>\n",
       "    .dataframe thead tr:only-child th {\n",
       "        text-align: right;\n",
       "    }\n",
       "\n",
       "    .dataframe thead th {\n",
       "        text-align: left;\n",
       "    }\n",
       "\n",
       "    .dataframe tbody tr th {\n",
       "        vertical-align: top;\n",
       "    }\n",
       "</style>\n",
       "<table border=\"1\" class=\"dataframe\">\n",
       "  <thead>\n",
       "    <tr style=\"text-align: right;\">\n",
       "      <th></th>\n",
       "      <th></th>\n",
       "      <th>flug</th>\n",
       "      <th>fldg</th>\n",
       "      <th>fnetg</th>\n",
       "    </tr>\n",
       "    <tr>\n",
       "      <th>pressure</th>\n",
       "      <th>level</th>\n",
       "      <th></th>\n",
       "      <th></th>\n",
       "      <th></th>\n",
       "    </tr>\n",
       "  </thead>\n",
       "  <tbody>\n",
       "    <tr>\n",
       "      <th>0.0000</th>\n",
       "      <th>1</th>\n",
       "      <td>1.366240e-03</td>\n",
       "      <td>0.000000</td>\n",
       "      <td>0.001366</td>\n",
       "    </tr>\n",
       "    <tr>\n",
       "      <th>1.0685</th>\n",
       "      <th>24</th>\n",
       "      <td>9.733500e-04</td>\n",
       "      <td>0.000149</td>\n",
       "      <td>0.001122</td>\n",
       "    </tr>\n",
       "    <tr>\n",
       "      <th>1013.0000</th>\n",
       "      <th>76</th>\n",
       "      <td>7.000000e-08</td>\n",
       "      <td>-0.092143</td>\n",
       "      <td>-0.092143</td>\n",
       "    </tr>\n",
       "  </tbody>\n",
       "</table>\n",
       "</div>"
      ],
      "text/plain": [
       "                         flug      fldg     fnetg\n",
       "pressure  level                                  \n",
       "0.0000    1      1.366240e-03  0.000000  0.001366\n",
       "1.0685    24     9.733500e-04  0.000149  0.001122\n",
       "1013.0000 76     7.000000e-08 -0.092143 -0.092143"
      ]
     },
     "metadata": {},
     "output_type": "display_data"
    },
    {
     "name": "stdout",
     "output_type": "stream",
     "text": [
      "Table. Fluxes. (CRD) - (WGT igg=10 wgt_flux=1)\n"
     ]
    },
    {
     "data": {
      "text/html": [
       "<div>\n",
       "<style>\n",
       "    .dataframe thead tr:only-child th {\n",
       "        text-align: right;\n",
       "    }\n",
       "\n",
       "    .dataframe thead th {\n",
       "        text-align: left;\n",
       "    }\n",
       "\n",
       "    .dataframe tbody tr th {\n",
       "        vertical-align: top;\n",
       "    }\n",
       "</style>\n",
       "<table border=\"1\" class=\"dataframe\">\n",
       "  <thead>\n",
       "    <tr style=\"text-align: right;\">\n",
       "      <th></th>\n",
       "      <th></th>\n",
       "      <th>flug</th>\n",
       "      <th>fldg</th>\n",
       "      <th>fnetg</th>\n",
       "    </tr>\n",
       "    <tr>\n",
       "      <th>pressure</th>\n",
       "      <th>level</th>\n",
       "      <th></th>\n",
       "      <th></th>\n",
       "      <th></th>\n",
       "    </tr>\n",
       "  </thead>\n",
       "  <tbody>\n",
       "    <tr>\n",
       "      <th>0.0000</th>\n",
       "      <th>1</th>\n",
       "      <td>-4.755676e-02</td>\n",
       "      <td>0.000002</td>\n",
       "      <td>-0.047557</td>\n",
       "    </tr>\n",
       "    <tr>\n",
       "      <th>1.0685</th>\n",
       "      <th>24</th>\n",
       "      <td>-4.750465e-02</td>\n",
       "      <td>-0.000370</td>\n",
       "      <td>-0.047874</td>\n",
       "    </tr>\n",
       "    <tr>\n",
       "      <th>1013.0000</th>\n",
       "      <th>76</th>\n",
       "      <td>-9.300000e-07</td>\n",
       "      <td>-0.099528</td>\n",
       "      <td>-0.099530</td>\n",
       "    </tr>\n",
       "  </tbody>\n",
       "</table>\n",
       "</div>"
      ],
      "text/plain": [
       "                         flug      fldg     fnetg\n",
       "pressure  level                                  \n",
       "0.0000    1     -4.755676e-02  0.000002 -0.047557\n",
       "1.0685    24    -4.750465e-02 -0.000370 -0.047874\n",
       "1013.0000 76    -9.300000e-07 -0.099528 -0.099530"
      ]
     },
     "metadata": {},
     "output_type": "display_data"
    },
    {
     "name": "stdout",
     "output_type": "stream",
     "text": [
      "Table. Fluxes. (CLIRAD) - (WGT igg=10 wgt_flux=1)\n"
     ]
    },
    {
     "data": {
      "text/html": [
       "<a id=\"Best-fit_Parameters\"></a>"
      ],
      "text/plain": [
       "<IPython.core.display.HTML object>"
      ]
     },
     "metadata": {},
     "output_type": "display_data"
    },
    {
     "data": {
      "text/markdown": [
       "# Best-fit Parameters"
      ],
      "text/plain": [
       "<IPython.core.display.Markdown object>"
      ]
     },
     "metadata": {},
     "output_type": "display_data"
    },
    {
     "name": "stdout",
     "output_type": "stream",
     "text": [
      "Best-fit values for each (gas, band)\n",
      "------------------------------------\n",
      "o n2o band3a\n",
      "  molecule = n2o\n",
      "  band = 3a\n",
      "  commitnumber = d62b618\n",
      "  vmin = 540\n",
      "  vmax = 620\n",
      "  dv = 0.005\n",
      "  nv = 200\n",
      "  ref_pts = [(1, 250), (500, 250)]\n",
      "  ng_refs = [1, 2]\n",
      "  ng_adju = [0, 0]\n",
      "  klin = 2.22e-20\n",
      "  option_wgt_k = 1\n",
      "  wgt = [(0.9,), (0.5, 0.95)]\n",
      "  w_diffuse = [(1.8,), (1.66, 1.8)]\n",
      "  option_wgt_flux = 1\n",
      "  atmpro = mls\n",
      "  tsfc = 294\n",
      "  conc = 3.2e-07\n",
      "  option_compute_btable = 0\n",
      "  option_compute_ktable = 1\n"
     ]
    }
   ],
   "source": [
    "script()"
   ]
  },
  {
   "cell_type": "code",
   "execution_count": 13,
   "metadata": {},
   "outputs": [
    {
     "data": {
      "text/html": [
       "<script>\n",
       "code_show=true; \n",
       "function code_toggle() {\n",
       " if (code_show){\n",
       " $('div.input').hide();\n",
       " } else {\n",
       " $('div.input').show();\n",
       " }\n",
       " code_show = !code_show\n",
       "} \n",
       "$( document ).ready(code_toggle);\n",
       "</script>\n",
       "<form action=\"javascript:code_toggle()\"><input type=\"submit\" value=\"Click here to toggle on/off the raw code.\"></form>"
      ],
      "text/plain": [
       "<IPython.core.display.HTML object>"
      ]
     },
     "execution_count": 13,
     "metadata": {},
     "output_type": "execute_result"
    }
   ],
   "source": [
    "display.HTML('''<script>\n",
    "code_show=true; \n",
    "function code_toggle() {\n",
    " if (code_show){\n",
    " $('div.input').hide();\n",
    " } else {\n",
    " $('div.input').show();\n",
    " }\n",
    " code_show = !code_show\n",
    "} \n",
    "$( document ).ready(code_toggle);\n",
    "</script>\n",
    "<form action=\"javascript:code_toggle()\"><input type=\"submit\" value=\"Click here to toggle on/off the raw code.\"></form>''')"
   ]
  }
 ],
 "metadata": {
  "kernelspec": {
   "display_name": "Python 3",
   "language": "python",
   "name": "python3"
  },
  "language_info": {
   "codemirror_mode": {
    "name": "ipython",
    "version": 3
   },
   "file_extension": ".py",
   "mimetype": "text/x-python",
   "name": "python",
   "nbconvert_exporter": "python",
   "pygments_lexer": "ipython3",
   "version": "3.6.1"
  }
 },
 "nbformat": 4,
 "nbformat_minor": 2
}
