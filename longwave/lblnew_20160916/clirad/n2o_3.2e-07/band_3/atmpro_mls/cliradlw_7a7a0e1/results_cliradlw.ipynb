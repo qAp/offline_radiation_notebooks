{
 "cells": [
  {
   "cell_type": "code",
   "execution_count": 1,
   "metadata": {
    "collapsed": true
   },
   "outputs": [],
   "source": [
    "%matplotlib inline\n",
    "import os\n",
    "import re\n",
    "import io\n",
    "import itertools\n",
    "import pprint\n",
    "\n",
    "from bokeh.io import output_notebook, show\n",
    "from bokeh.layouts import gridplot\n",
    "from bokeh.plotting import figure\n",
    "from bokeh.models import Range1d, Legend\n",
    "from bokeh.palettes import all_palettes\n",
    "\n",
    "import matplotlib\n",
    "import matplotlib.pyplot as plt\n",
    "import numpy as np\n",
    "import pandas as pd\n",
    "import xarray as xr\n",
    "\n",
    "import climatools.lblnew.bestfit_params as bestfits\n",
    "from climatools.lblnew import setup_bestfit, setup_overlap\n",
    "import climatools.lblnew.pipeline as pipe_lblnew\n",
    "import climatools.cliradlw.setup as setup_cliradlw\n",
    "import climatools.cliradlw.pipeline as pipe_cliradlw\n",
    "\n",
    "import climatools.html.html as climahtml\n",
    "from climatools.lblnew.dataio import *\n",
    "from climatools.plot.plot import *\n",
    "\n",
    "\n",
    "import IPython.display as display"
   ]
  },
  {
   "cell_type": "code",
   "execution_count": 2,
   "metadata": {
    "collapsed": true
   },
   "outputs": [],
   "source": [
    "%run param.py"
   ]
  },
  {
   "cell_type": "code",
   "execution_count": 3,
   "metadata": {
    "collapsed": true
   },
   "outputs": [],
   "source": [
    "def load_output_file(path_csv):\n",
    "    '''\n",
    "    Load lblnew output .csv file to xarray.Dataset\n",
    "    \n",
    "    Parameters\n",
    "    ----------\n",
    "    path_csv: str\n",
    "              Path to the .csv file to be loaded.\n",
    "    ds: xarray.Dataset\n",
    "        Data in the input file in the form of an xarray.Dataset.\n",
    "    '''\n",
    "    toindex = ['band', 'pressure', 'igg', 'g']    \n",
    "    df = pd.read_csv(path_csv, sep=r'\\s+')\n",
    "    df = df.set_index([i for i in toindex if i in df.columns])\n",
    "    df = df.rename(columns={'sfu': 'flug',\n",
    "                            'sfd': 'fldg',\n",
    "                            'fnet': 'fnetg',\n",
    "                            'coolr': 'coolrg'})\n",
    "    ds = xr.Dataset.from_dataframe(df)\n",
    "\n",
    "    for l in ('level', 'layer'):\n",
    "        if l in ds.data_vars:\n",
    "            if len(ds[l].dims) > 1:\n",
    "                surface = {d: 0 for d in ds.dims if d != 'pressure'}\n",
    "                coord_level = ds[l][surface]\n",
    "                ds.coords[l] = ('pressure', coord_level)\n",
    "            else:\n",
    "                ds.coords[l] = ('pressure', ds[l])\n",
    "    \n",
    "    return ds"
   ]
  },
  {
   "cell_type": "code",
   "execution_count": 4,
   "metadata": {
    "collapsed": true
   },
   "outputs": [],
   "source": [
    "def lblnew_setup(param=None):\n",
    "    if 'ng_refs' in param:\n",
    "        return {'setup': setup_bestfit,\n",
    "                'fname_flux_crd': 'output_flux.dat',\n",
    "                'fname_cool_crd': 'output_coolr.dat',\n",
    "                'fname_flux_wgt': 'output_wfluxg.dat',\n",
    "                'fname_cool_wgt': 'output_wcoolrg.dat'}\n",
    "    else:\n",
    "        return {'setup': setup_overlap,\n",
    "                'fname_flux_crd': 'output_flux.dat',\n",
    "                'fname_cool_crd': 'output_coolr.dat',\n",
    "                'fname_flux_wgt': 'output_wflux.dat',\n",
    "                'fname_cool_wgt': 'output_wcoolr.dat'}\n",
    "\n",
    "    \n",
    "def load_lblnew_data(param):\n",
    "    \n",
    "    fname_dsname = [('fname_flux_crd', 'ds_flux_crd'),\n",
    "                    ('fname_cool_crd', 'ds_cool_crd'),\n",
    "                    ('fname_flux_wgt', 'ds_flux_wgt'),\n",
    "                    ('fname_cool_wgt', 'ds_cool_wgt')]\n",
    "    \n",
    "    d = lblnew_setup(param)\n",
    "    dir_fortran = pipe_lblnew.get_dir_case(param, setup=d['setup'])\n",
    "    \n",
    "    data_dict = {}\n",
    "    for fname, dsname in fname_dsname:\n",
    "        fpath = os.path.join(dir_fortran, d[fname])\n",
    "        data_dict[dsname] = load_output_file(fpath)\n",
    "    return data_dict\n",
    "    \n",
    "\n",
    "    \n",
    "    "
   ]
  },
  {
   "cell_type": "code",
   "execution_count": 5,
   "metadata": {
    "collapsed": true
   },
   "outputs": [],
   "source": [
    "d = load_lblnew_data(PARAM_LBLNEW)\n",
    "\n",
    "DS_FLUX_CRD = d['ds_flux_crd']\n",
    "DS_COOL_CRD = d['ds_cool_crd']\n",
    "DS_FLUX_WGT = d['ds_flux_wgt']\n",
    "DS_COOL_WGT = d['ds_cool_wgt']"
   ]
  },
  {
   "cell_type": "code",
   "execution_count": 6,
   "metadata": {
    "collapsed": true
   },
   "outputs": [],
   "source": [
    "DIR_FORTRAN = pipe_cliradlw.get_fortran_dir(PARAM, \n",
    "                                            setup=setup_cliradlw)\n",
    "\n",
    "PATH_FLUX = os.path.join(DIR_FORTRAN, 'output_flux.dat')\n",
    "PATH_COOL = os.path.join(DIR_FORTRAN, 'output_coolr.dat')\n",
    "\n",
    "DS_FLUX = load_output_file(PATH_FLUX)\n",
    "DS_COOL = load_output_file(PATH_COOL)"
   ]
  },
  {
   "cell_type": "code",
   "execution_count": 7,
   "metadata": {},
   "outputs": [
    {
     "data": {
      "text/html": [
       "\n",
       "    <div class=\"bk-root\">\n",
       "        <a href=\"https://bokeh.pydata.org\" target=\"_blank\" class=\"bk-logo bk-logo-small bk-logo-notebook\"></a>\n",
       "        <span id=\"18596a3e-45d8-49ca-bcaa-e13fdc9ec89b\">Loading BokehJS ...</span>\n",
       "    </div>"
      ]
     },
     "metadata": {},
     "output_type": "display_data"
    },
    {
     "data": {
      "application/javascript": [
       "\n",
       "(function(root) {\n",
       "  function now() {\n",
       "    return new Date();\n",
       "  }\n",
       "\n",
       "  var force = true;\n",
       "\n",
       "  if (typeof (root._bokeh_onload_callbacks) === \"undefined\" || force === true) {\n",
       "    root._bokeh_onload_callbacks = [];\n",
       "    root._bokeh_is_loading = undefined;\n",
       "  }\n",
       "\n",
       "  var JS_MIME_TYPE = 'application/javascript';\n",
       "  var HTML_MIME_TYPE = 'text/html';\n",
       "  var EXEC_MIME_TYPE = 'application/vnd.bokehjs_exec.v0+json';\n",
       "  var CLASS_NAME = 'output_bokeh rendered_html';\n",
       "\n",
       "  /**\n",
       "   * Render data to the DOM node\n",
       "   */\n",
       "  function render(props, node) {\n",
       "    var script = document.createElement(\"script\");\n",
       "    node.appendChild(script);\n",
       "  }\n",
       "\n",
       "  /**\n",
       "   * Handle when an output is cleared or removed\n",
       "   */\n",
       "  function handleClearOutput(event, handle) {\n",
       "    var cell = handle.cell;\n",
       "\n",
       "    var id = cell.output_area._bokeh_element_id;\n",
       "    var server_id = cell.output_area._bokeh_server_id;\n",
       "    // Clean up Bokeh references\n",
       "    if (id !== undefined) {\n",
       "      Bokeh.index[id].model.document.clear();\n",
       "      delete Bokeh.index[id];\n",
       "    }\n",
       "\n",
       "    if (server_id !== undefined) {\n",
       "      // Clean up Bokeh references\n",
       "      var cmd = \"from bokeh.io.state import curstate; print(curstate().uuid_to_server['\" + server_id + \"'].get_sessions()[0].document.roots[0]._id)\";\n",
       "      cell.notebook.kernel.execute(cmd, {\n",
       "        iopub: {\n",
       "          output: function(msg) {\n",
       "            var element_id = msg.content.text.trim();\n",
       "            Bokeh.index[element_id].model.document.clear();\n",
       "            delete Bokeh.index[element_id];\n",
       "          }\n",
       "        }\n",
       "      });\n",
       "      // Destroy server and session\n",
       "      var cmd = \"import bokeh.io.notebook as ion; ion.destroy_server('\" + server_id + \"')\";\n",
       "      cell.notebook.kernel.execute(cmd);\n",
       "    }\n",
       "  }\n",
       "\n",
       "  /**\n",
       "   * Handle when a new output is added\n",
       "   */\n",
       "  function handleAddOutput(event, handle) {\n",
       "    var output_area = handle.output_area;\n",
       "    var output = handle.output;\n",
       "\n",
       "    // limit handleAddOutput to display_data with EXEC_MIME_TYPE content only\n",
       "    if ((output.output_type != \"display_data\") || (!output.data.hasOwnProperty(EXEC_MIME_TYPE))) {\n",
       "      return\n",
       "    }\n",
       "\n",
       "    var toinsert = output_area.element.find(\".\" + CLASS_NAME.split(' ')[0]);\n",
       "\n",
       "    if (output.metadata[EXEC_MIME_TYPE][\"id\"] !== undefined) {\n",
       "      toinsert[0].firstChild.textContent = output.data[JS_MIME_TYPE];\n",
       "      // store reference to embed id on output_area\n",
       "      output_area._bokeh_element_id = output.metadata[EXEC_MIME_TYPE][\"id\"];\n",
       "    }\n",
       "    if (output.metadata[EXEC_MIME_TYPE][\"server_id\"] !== undefined) {\n",
       "      var bk_div = document.createElement(\"div\");\n",
       "      bk_div.innerHTML = output.data[HTML_MIME_TYPE];\n",
       "      var script_attrs = bk_div.children[0].attributes;\n",
       "      for (var i = 0; i < script_attrs.length; i++) {\n",
       "        toinsert[0].firstChild.setAttribute(script_attrs[i].name, script_attrs[i].value);\n",
       "      }\n",
       "      // store reference to server id on output_area\n",
       "      output_area._bokeh_server_id = output.metadata[EXEC_MIME_TYPE][\"server_id\"];\n",
       "    }\n",
       "  }\n",
       "\n",
       "  function register_renderer(events, OutputArea) {\n",
       "\n",
       "    function append_mime(data, metadata, element) {\n",
       "      // create a DOM node to render to\n",
       "      var toinsert = this.create_output_subarea(\n",
       "        metadata,\n",
       "        CLASS_NAME,\n",
       "        EXEC_MIME_TYPE\n",
       "      );\n",
       "      this.keyboard_manager.register_events(toinsert);\n",
       "      // Render to node\n",
       "      var props = {data: data, metadata: metadata[EXEC_MIME_TYPE]};\n",
       "      render(props, toinsert[0]);\n",
       "      element.append(toinsert);\n",
       "      return toinsert\n",
       "    }\n",
       "\n",
       "    /* Handle when an output is cleared or removed */\n",
       "    events.on('clear_output.CodeCell', handleClearOutput);\n",
       "    events.on('delete.Cell', handleClearOutput);\n",
       "\n",
       "    /* Handle when a new output is added */\n",
       "    events.on('output_added.OutputArea', handleAddOutput);\n",
       "\n",
       "    /**\n",
       "     * Register the mime type and append_mime function with output_area\n",
       "     */\n",
       "    OutputArea.prototype.register_mime_type(EXEC_MIME_TYPE, append_mime, {\n",
       "      /* Is output safe? */\n",
       "      safe: true,\n",
       "      /* Index of renderer in `output_area.display_order` */\n",
       "      index: 0\n",
       "    });\n",
       "  }\n",
       "\n",
       "  // register the mime type if in Jupyter Notebook environment and previously unregistered\n",
       "  if (root.Jupyter !== undefined) {\n",
       "    var events = require('base/js/events');\n",
       "    var OutputArea = require('notebook/js/outputarea').OutputArea;\n",
       "\n",
       "    if (OutputArea.prototype.mime_types().indexOf(EXEC_MIME_TYPE) == -1) {\n",
       "      register_renderer(events, OutputArea);\n",
       "    }\n",
       "  }\n",
       "\n",
       "  \n",
       "  if (typeof (root._bokeh_timeout) === \"undefined\" || force === true) {\n",
       "    root._bokeh_timeout = Date.now() + 5000;\n",
       "    root._bokeh_failed_load = false;\n",
       "  }\n",
       "\n",
       "  var NB_LOAD_WARNING = {'data': {'text/html':\n",
       "     \"<div style='background-color: #fdd'>\\n\"+\n",
       "     \"<p>\\n\"+\n",
       "     \"BokehJS does not appear to have successfully loaded. If loading BokehJS from CDN, this \\n\"+\n",
       "     \"may be due to a slow or bad network connection. Possible fixes:\\n\"+\n",
       "     \"</p>\\n\"+\n",
       "     \"<ul>\\n\"+\n",
       "     \"<li>re-rerun `output_notebook()` to attempt to load from CDN again, or</li>\\n\"+\n",
       "     \"<li>use INLINE resources instead, as so:</li>\\n\"+\n",
       "     \"</ul>\\n\"+\n",
       "     \"<code>\\n\"+\n",
       "     \"from bokeh.resources import INLINE\\n\"+\n",
       "     \"output_notebook(resources=INLINE)\\n\"+\n",
       "     \"</code>\\n\"+\n",
       "     \"</div>\"}};\n",
       "\n",
       "  function display_loaded() {\n",
       "    var el = document.getElementById(\"18596a3e-45d8-49ca-bcaa-e13fdc9ec89b\");\n",
       "    if (el != null) {\n",
       "      el.textContent = \"BokehJS is loading...\";\n",
       "    }\n",
       "    if (root.Bokeh !== undefined) {\n",
       "      if (el != null) {\n",
       "        el.textContent = \"BokehJS \" + root.Bokeh.version + \" successfully loaded.\";\n",
       "      }\n",
       "    } else if (Date.now() < root._bokeh_timeout) {\n",
       "      setTimeout(display_loaded, 100)\n",
       "    }\n",
       "  }\n",
       "\n",
       "\n",
       "  function run_callbacks() {\n",
       "    try {\n",
       "      root._bokeh_onload_callbacks.forEach(function(callback) { callback() });\n",
       "    }\n",
       "    finally {\n",
       "      delete root._bokeh_onload_callbacks\n",
       "    }\n",
       "    console.info(\"Bokeh: all callbacks have finished\");\n",
       "  }\n",
       "\n",
       "  function load_libs(js_urls, callback) {\n",
       "    root._bokeh_onload_callbacks.push(callback);\n",
       "    if (root._bokeh_is_loading > 0) {\n",
       "      console.log(\"Bokeh: BokehJS is being loaded, scheduling callback at\", now());\n",
       "      return null;\n",
       "    }\n",
       "    if (js_urls == null || js_urls.length === 0) {\n",
       "      run_callbacks();\n",
       "      return null;\n",
       "    }\n",
       "    console.log(\"Bokeh: BokehJS not loaded, scheduling load and callback at\", now());\n",
       "    root._bokeh_is_loading = js_urls.length;\n",
       "    for (var i = 0; i < js_urls.length; i++) {\n",
       "      var url = js_urls[i];\n",
       "      var s = document.createElement('script');\n",
       "      s.src = url;\n",
       "      s.async = false;\n",
       "      s.onreadystatechange = s.onload = function() {\n",
       "        root._bokeh_is_loading--;\n",
       "        if (root._bokeh_is_loading === 0) {\n",
       "          console.log(\"Bokeh: all BokehJS libraries loaded\");\n",
       "          run_callbacks()\n",
       "        }\n",
       "      };\n",
       "      s.onerror = function() {\n",
       "        console.warn(\"failed to load library \" + url);\n",
       "      };\n",
       "      console.log(\"Bokeh: injecting script tag for BokehJS library: \", url);\n",
       "      document.getElementsByTagName(\"head\")[0].appendChild(s);\n",
       "    }\n",
       "  };var element = document.getElementById(\"18596a3e-45d8-49ca-bcaa-e13fdc9ec89b\");\n",
       "  if (element == null) {\n",
       "    console.log(\"Bokeh: ERROR: autoload.js configured with elementid '18596a3e-45d8-49ca-bcaa-e13fdc9ec89b' but no matching script tag was found. \")\n",
       "    return false;\n",
       "  }\n",
       "\n",
       "  var js_urls = [\"https://cdn.pydata.org/bokeh/release/bokeh-0.12.14.min.js\", \"https://cdn.pydata.org/bokeh/release/bokeh-widgets-0.12.14.min.js\", \"https://cdn.pydata.org/bokeh/release/bokeh-tables-0.12.14.min.js\", \"https://cdn.pydata.org/bokeh/release/bokeh-gl-0.12.14.min.js\"];\n",
       "\n",
       "  var inline_js = [\n",
       "    function(Bokeh) {\n",
       "      Bokeh.set_log_level(\"info\");\n",
       "    },\n",
       "    \n",
       "    function(Bokeh) {\n",
       "      \n",
       "    },\n",
       "    function(Bokeh) {\n",
       "      console.log(\"Bokeh: injecting CSS: https://cdn.pydata.org/bokeh/release/bokeh-0.12.14.min.css\");\n",
       "      Bokeh.embed.inject_css(\"https://cdn.pydata.org/bokeh/release/bokeh-0.12.14.min.css\");\n",
       "      console.log(\"Bokeh: injecting CSS: https://cdn.pydata.org/bokeh/release/bokeh-widgets-0.12.14.min.css\");\n",
       "      Bokeh.embed.inject_css(\"https://cdn.pydata.org/bokeh/release/bokeh-widgets-0.12.14.min.css\");\n",
       "      console.log(\"Bokeh: injecting CSS: https://cdn.pydata.org/bokeh/release/bokeh-tables-0.12.14.min.css\");\n",
       "      Bokeh.embed.inject_css(\"https://cdn.pydata.org/bokeh/release/bokeh-tables-0.12.14.min.css\");\n",
       "    }\n",
       "  ];\n",
       "\n",
       "  function run_inline_js() {\n",
       "    \n",
       "    if ((root.Bokeh !== undefined) || (force === true)) {\n",
       "      for (var i = 0; i < inline_js.length; i++) {\n",
       "        inline_js[i].call(root, root.Bokeh);\n",
       "      }if (force === true) {\n",
       "        display_loaded();\n",
       "      }} else if (Date.now() < root._bokeh_timeout) {\n",
       "      setTimeout(run_inline_js, 100);\n",
       "    } else if (!root._bokeh_failed_load) {\n",
       "      console.log(\"Bokeh: BokehJS failed to load within specified timeout.\");\n",
       "      root._bokeh_failed_load = true;\n",
       "    } else if (force !== true) {\n",
       "      var cell = $(document.getElementById(\"18596a3e-45d8-49ca-bcaa-e13fdc9ec89b\")).parents('.cell').data().cell;\n",
       "      cell.output_area.append_execute_result(NB_LOAD_WARNING)\n",
       "    }\n",
       "\n",
       "  }\n",
       "\n",
       "  if (root._bokeh_is_loading === 0) {\n",
       "    console.log(\"Bokeh: BokehJS loaded, going straight to plotting\");\n",
       "    run_inline_js();\n",
       "  } else {\n",
       "    load_libs(js_urls, function() {\n",
       "      console.log(\"Bokeh: BokehJS plotting callback run at\", now());\n",
       "      run_inline_js();\n",
       "    });\n",
       "  }\n",
       "}(window));"
      ],
      "application/vnd.bokehjs_load.v0+json": "\n(function(root) {\n  function now() {\n    return new Date();\n  }\n\n  var force = true;\n\n  if (typeof (root._bokeh_onload_callbacks) === \"undefined\" || force === true) {\n    root._bokeh_onload_callbacks = [];\n    root._bokeh_is_loading = undefined;\n  }\n\n  \n\n  \n  if (typeof (root._bokeh_timeout) === \"undefined\" || force === true) {\n    root._bokeh_timeout = Date.now() + 5000;\n    root._bokeh_failed_load = false;\n  }\n\n  var NB_LOAD_WARNING = {'data': {'text/html':\n     \"<div style='background-color: #fdd'>\\n\"+\n     \"<p>\\n\"+\n     \"BokehJS does not appear to have successfully loaded. If loading BokehJS from CDN, this \\n\"+\n     \"may be due to a slow or bad network connection. Possible fixes:\\n\"+\n     \"</p>\\n\"+\n     \"<ul>\\n\"+\n     \"<li>re-rerun `output_notebook()` to attempt to load from CDN again, or</li>\\n\"+\n     \"<li>use INLINE resources instead, as so:</li>\\n\"+\n     \"</ul>\\n\"+\n     \"<code>\\n\"+\n     \"from bokeh.resources import INLINE\\n\"+\n     \"output_notebook(resources=INLINE)\\n\"+\n     \"</code>\\n\"+\n     \"</div>\"}};\n\n  function display_loaded() {\n    var el = document.getElementById(\"18596a3e-45d8-49ca-bcaa-e13fdc9ec89b\");\n    if (el != null) {\n      el.textContent = \"BokehJS is loading...\";\n    }\n    if (root.Bokeh !== undefined) {\n      if (el != null) {\n        el.textContent = \"BokehJS \" + root.Bokeh.version + \" successfully loaded.\";\n      }\n    } else if (Date.now() < root._bokeh_timeout) {\n      setTimeout(display_loaded, 100)\n    }\n  }\n\n\n  function run_callbacks() {\n    try {\n      root._bokeh_onload_callbacks.forEach(function(callback) { callback() });\n    }\n    finally {\n      delete root._bokeh_onload_callbacks\n    }\n    console.info(\"Bokeh: all callbacks have finished\");\n  }\n\n  function load_libs(js_urls, callback) {\n    root._bokeh_onload_callbacks.push(callback);\n    if (root._bokeh_is_loading > 0) {\n      console.log(\"Bokeh: BokehJS is being loaded, scheduling callback at\", now());\n      return null;\n    }\n    if (js_urls == null || js_urls.length === 0) {\n      run_callbacks();\n      return null;\n    }\n    console.log(\"Bokeh: BokehJS not loaded, scheduling load and callback at\", now());\n    root._bokeh_is_loading = js_urls.length;\n    for (var i = 0; i < js_urls.length; i++) {\n      var url = js_urls[i];\n      var s = document.createElement('script');\n      s.src = url;\n      s.async = false;\n      s.onreadystatechange = s.onload = function() {\n        root._bokeh_is_loading--;\n        if (root._bokeh_is_loading === 0) {\n          console.log(\"Bokeh: all BokehJS libraries loaded\");\n          run_callbacks()\n        }\n      };\n      s.onerror = function() {\n        console.warn(\"failed to load library \" + url);\n      };\n      console.log(\"Bokeh: injecting script tag for BokehJS library: \", url);\n      document.getElementsByTagName(\"head\")[0].appendChild(s);\n    }\n  };var element = document.getElementById(\"18596a3e-45d8-49ca-bcaa-e13fdc9ec89b\");\n  if (element == null) {\n    console.log(\"Bokeh: ERROR: autoload.js configured with elementid '18596a3e-45d8-49ca-bcaa-e13fdc9ec89b' but no matching script tag was found. \")\n    return false;\n  }\n\n  var js_urls = [\"https://cdn.pydata.org/bokeh/release/bokeh-0.12.14.min.js\", \"https://cdn.pydata.org/bokeh/release/bokeh-widgets-0.12.14.min.js\", \"https://cdn.pydata.org/bokeh/release/bokeh-tables-0.12.14.min.js\", \"https://cdn.pydata.org/bokeh/release/bokeh-gl-0.12.14.min.js\"];\n\n  var inline_js = [\n    function(Bokeh) {\n      Bokeh.set_log_level(\"info\");\n    },\n    \n    function(Bokeh) {\n      \n    },\n    function(Bokeh) {\n      console.log(\"Bokeh: injecting CSS: https://cdn.pydata.org/bokeh/release/bokeh-0.12.14.min.css\");\n      Bokeh.embed.inject_css(\"https://cdn.pydata.org/bokeh/release/bokeh-0.12.14.min.css\");\n      console.log(\"Bokeh: injecting CSS: https://cdn.pydata.org/bokeh/release/bokeh-widgets-0.12.14.min.css\");\n      Bokeh.embed.inject_css(\"https://cdn.pydata.org/bokeh/release/bokeh-widgets-0.12.14.min.css\");\n      console.log(\"Bokeh: injecting CSS: https://cdn.pydata.org/bokeh/release/bokeh-tables-0.12.14.min.css\");\n      Bokeh.embed.inject_css(\"https://cdn.pydata.org/bokeh/release/bokeh-tables-0.12.14.min.css\");\n    }\n  ];\n\n  function run_inline_js() {\n    \n    if ((root.Bokeh !== undefined) || (force === true)) {\n      for (var i = 0; i < inline_js.length; i++) {\n        inline_js[i].call(root, root.Bokeh);\n      }if (force === true) {\n        display_loaded();\n      }} else if (Date.now() < root._bokeh_timeout) {\n      setTimeout(run_inline_js, 100);\n    } else if (!root._bokeh_failed_load) {\n      console.log(\"Bokeh: BokehJS failed to load within specified timeout.\");\n      root._bokeh_failed_load = true;\n    } else if (force !== true) {\n      var cell = $(document.getElementById(\"18596a3e-45d8-49ca-bcaa-e13fdc9ec89b\")).parents('.cell').data().cell;\n      cell.output_area.append_execute_result(NB_LOAD_WARNING)\n    }\n\n  }\n\n  if (root._bokeh_is_loading === 0) {\n    console.log(\"Bokeh: BokehJS loaded, going straight to plotting\");\n    run_inline_js();\n  } else {\n    load_libs(js_urls, function() {\n      console.log(\"Bokeh: BokehJS plotting callback run at\", now());\n      run_inline_js();\n    });\n  }\n}(window));"
     },
     "metadata": {},
     "output_type": "display_data"
    }
   ],
   "source": [
    "output_notebook()"
   ]
  },
  {
   "cell_type": "code",
   "execution_count": 8,
   "metadata": {
    "collapsed": true
   },
   "outputs": [],
   "source": [
    "def fmt_cool(ds_in):\n",
    "    ds = ds_in.copy(deep=True)\n",
    "    if 'igg' in ds.dims:\n",
    "        ds = ds.sel(igg=1)\n",
    "\n",
    "    if 'g' in ds.dims:\n",
    "        ds = ds.sum('g')\n",
    "            \n",
    "    if 'band' in ds.dims:\n",
    "        try:\n",
    "            ds = ds.squeeze('band')\n",
    "        except ValueError:\n",
    "            ds = ds.sum('band')\n",
    "                \n",
    "    return ds['coolrg']\n",
    "\n",
    "\n",
    "def pltdata_cooling_1(ds_cool=None,\n",
    "                      ds_cool_crd=None, ds_cool_wgt=None):\n",
    "    \n",
    "\n",
    "\n",
    "    colors = all_palettes['Set1'][4]\n",
    "    data = [{'label': 'CLIRAD `coolr_bands`',\n",
    "             'srs': fmt_cool(ds_cool),\n",
    "             'line_dash': 'dashed', 'line_width': 5,\n",
    "             'color': colors[0], 'alpha': .6},\n",
    "            {'label': 'CRD',\n",
    "             'srs': fmt_cool(ds_cool_crd),\n",
    "             'line_dash': 'solid', 'line_width': 1.5,\n",
    "             'marker': 'circle', 'marker_size': 5,\n",
    "             'color': colors[2], 'alpha': 1,},\n",
    "            {'label': 'WGT igg=10 wgt_flux=2',\n",
    "             'srs': fmt_cool(ds_cool_wgt),\n",
    "             'line_dash': 'solid', 'line_width': 3,\n",
    "             'marker': 'square', 'marker_size': 5,\n",
    "             'color': colors[3], 'alpha': .6}]\n",
    "    return data\n",
    "\n",
    "\n",
    "def nice_xlims(pltdata=None, prange=None):\n",
    "    \n",
    "    def get_slice(srs):\n",
    "        return srs.sel(pressure=slice(*prange))\n",
    "    \n",
    "    srss = [d['srs'] for d in pltdata]\n",
    "    vmin = min([get_slice(srs).min() for srs in srss])\n",
    "    vmax = max([get_slice(srs).max() for srs in srss])\n",
    "    dv = (vmax - vmin) * .01\n",
    "    return float(vmin - dv), float(vmax + dv)\n",
    "    \n",
    "\n",
    "def plt_cooling_bokeh(pltdata=None):\n",
    "    '''\n",
    "    Plot a list of cooling rate profiles using bokeh.\n",
    "    '''\n",
    "    ymin = 1e-2 \n",
    "    ymax = 1020 \n",
    "        \n",
    "    p1 = figure(title=\"Linear pressure scale\", \n",
    "                plot_width=400)        \n",
    "    xmin, xmax = nice_xlims(pltdata, prange=(50, 1050))\n",
    "    for d in pltdata:\n",
    "        if 'marker' in d:\n",
    "            getattr(p1, d['marker'])(d['srs'].values, \n",
    "                    d['srs'].coords['pressure'].values,\n",
    "                    color=d['color'], alpha=.7)\n",
    "        p1.line(d['srs'].values, \n",
    "                d['srs'].coords['pressure'].values,\n",
    "                color=d['color'], alpha=d['alpha'], \n",
    "                line_width=d['line_width'], line_dash=d['line_dash'])\n",
    "    \n",
    "    p1.y_range = Range1d(ymax, ymin)\n",
    "    p1.yaxis.axis_label = 'pressure [mb]'   \n",
    "    p1.x_range = Range1d(xmin, xmax)\n",
    "    p1.xaxis.axis_label = 'cooling rate [K/day]'\n",
    "            \n",
    "    p2 = figure(title='Log pressure scale', y_axis_type='log',\n",
    "                plot_width=560)\n",
    "    xmin, xmax = nice_xlims(pltdata, prange=(.01, 200))\n",
    "    \n",
    "    rs = []\n",
    "    for d in pltdata:\n",
    "        rd = []\n",
    "        if 'marker' in d:\n",
    "            r_mark = getattr(p2, d['marker'])(d['srs'].values, \n",
    "                        d['srs'].coords['pressure'].values,\n",
    "                        color=d['color'], alpha=.7)\n",
    "            rd.append(r_mark)\n",
    "        r_line = p2.line(d['srs'].values, \n",
    "                    d['srs'].coords['pressure'].values,\n",
    "                    color=d['color'], alpha=d['alpha'], \n",
    "                    line_width=d['line_width'], line_dash=d['line_dash'])\n",
    "        rd.append(r_line)\n",
    "      \n",
    "        rs.append(rd)\n",
    "        \n",
    "    p2.y_range = Range1d(ymax, ymin)  \n",
    "    p2.yaxis.axis_label = 'pressure [mb]'\n",
    "    \n",
    "    p2.x_range = Range1d(xmin, xmax)\n",
    "    p2.xaxis.axis_label = 'cooling rate [K/day]'\n",
    "    \n",
    "    items = [(d['label'], r) for r, d in zip(rs, pltdata)]\n",
    "    legend = Legend(items=items, location=(10, -30))\n",
    "    legend.label_text_font_size = '8pt'\n",
    "    \n",
    "    p2.add_layout(legend, 'right')  \n",
    "    \n",
    "    show(gridplot(p1, p2, ncols=2, plot_height=500))\n",
    "    \n",
    "\n",
    "def script_plt_cooling():\n",
    "    pltdata = pltdata_cooling_1(\n",
    "        ds_cool=DS_COOL,\n",
    "        ds_cool_crd=DS_COOL_CRD,\n",
    "        ds_cool_wgt=DS_COOL_WGT)\n",
    "    plt_cooling_bokeh(pltdata=pltdata)\n",
    "    print('''FIGURE. Cooling rate profiles.''')"
   ]
  },
  {
   "cell_type": "code",
   "execution_count": 9,
   "metadata": {
    "collapsed": true
   },
   "outputs": [],
   "source": [
    "def fmt_flux(ds_in):\n",
    "    ds = ds_in.copy(deep=True)\n",
    "    \n",
    "    for l in ('level', 'layer'):\n",
    "        if l in ds.data_vars:\n",
    "            if len(ds[l].dims) > 1:\n",
    "                surface = {d: 0 for d in ds.dims if d != 'pressure'}\n",
    "                coord_level = ds[l][surface]\n",
    "                ds.coords[l] = ('pressure', coord_level)\n",
    "            else:\n",
    "                ds.coords[l] = ('pressure', ds[l])\n",
    "        \n",
    "    ds = ds.isel(pressure=[0, 23, -1])\n",
    "        \n",
    "    if 'igg' in ds.dims:\n",
    "        ds = ds.sel(igg=[1])\n",
    "        ds = ds.squeeze('igg').drop('igg')\n",
    "    \n",
    "    if 'g' in ds.dims:\n",
    "        ds = ds.sum('g')\n",
    "            \n",
    "    if 'band' in ds.dims:\n",
    "        try:\n",
    "            ds = ds.squeeze('band').drop('band')\n",
    "        except ValueError:\n",
    "            ds = ds.sum('band')\n",
    "                \n",
    "    df = ds.to_dataframe()\n",
    "    df = df.set_index('level', append=True)               \n",
    "    return df\n",
    "\n",
    "\n",
    "def tbdata_flux(ds_flux=None, ds_flux_crd=None, ds_flux_wgt=None):\n",
    "    ilevels = [0, 23, -1]\n",
    "            \n",
    "    benchmark = {'label': 'WGT igg=10 wgt_flux=1',\n",
    "                 'df': fmt_flux(ds_flux_wgt)}\n",
    "    \n",
    "    tbs = [{'label': 'CRD',\n",
    "            'df': fmt_flux(ds_flux_crd)},\n",
    "           {'label': 'CLIRAD',\n",
    "            'df': fmt_flux(ds_flux)}]\n",
    "    \n",
    "    data = {'benchmark': benchmark, 'others': tbs}\n",
    "    return data\n",
    "\n",
    "\n",
    "def tb_flux(tbdata=None):\n",
    "    benchmark = tbdata['benchmark']\n",
    "    others = tbdata['others']\n",
    "    \n",
    "    def show_tb(d=None):\n",
    "        display.display(d['df'])\n",
    "        print('Table.', 'Fluxes.', d['label'])\n",
    "        \n",
    "    def show_tbdiff(d0=None, d=None):\n",
    "        df = d['df']\n",
    "        df.index = d0['df'].index\n",
    "        display.display(df - d0['df'])\n",
    "        print('Table.', 'Fluxes.', \n",
    "              '({}) - ({})'.format(d['label'], d0['label']))\n",
    "        \n",
    "    show_tb(benchmark)\n",
    "    for d in others:\n",
    "        show_tb(d)\n",
    "        \n",
    "    for d in others:\n",
    "        show_tbdiff(d=d, d0=benchmark)\n",
    "        \n",
    "        \n",
    "def script_tb_flux():\n",
    "    data = tbdata_flux(ds_flux=DS_FLUX,\n",
    "                       ds_flux_crd=DS_FLUX_CRD,\n",
    "                       ds_flux_wgt=DS_FLUX_WGT)\n",
    "    tb_flux(tbdata=data)"
   ]
  },
  {
   "cell_type": "code",
   "execution_count": 10,
   "metadata": {
    "collapsed": true
   },
   "outputs": [],
   "source": [
    "def band_map():\n",
    "    '''\n",
    "    Maps spectral bands in lblnew to spectral bands in clirad.\n",
    "    '''\n",
    "    lblnew2clirad = {'1': '1',\n",
    "            '2': '2',\n",
    "            '3a': '3',\n",
    "            '3b': '4',\n",
    "            '3c': '5',\n",
    "            '4': '6', \n",
    "            '5': '7',\n",
    "            '6': '8',\n",
    "            '7': '9', \n",
    "            '8': '10',\n",
    "            '9': '11'}\n",
    "    \n",
    "    clirad2lblnew = {clirad: lblnew \n",
    "                     for lblnew, clirad in lblnew2clirad.items()}\n",
    "    return clirad2lblnew\n",
    "\n",
    "\n",
    "def gasbands():\n",
    "    bmap = band_map()\n",
    "    gases = list(PARAM['molecule'].keys())\n",
    "    \n",
    "    bands = [bmap[str(b)] for b in PARAM['band']]\n",
    "    return list(itertools.product(gases, bands))\n",
    "\n",
    "\n",
    "def print_bestfit_params():\n",
    "    print('Best-fit values for each (gas, band)')\n",
    "    print('------------------------------------')\n",
    "    for gas, band in gasbands():\n",
    "        print('o {} band{}'.format(gas, band))\n",
    "        param = bestfits.kdist_params(molecule=gas, band=band)\n",
    "        for name, value in param.items():\n",
    "            print(2 * ' ' + '{} = {}'.format(name, value))\n",
    "\n",
    "        \n",
    "def print_input_param():        \n",
    "    for name, value in PARAM.items():\n",
    "        print('{} = {}'.format(name, value))\n",
    "        \n",
    "        \n",
    "def print_lblnew_param():\n",
    "    for name, value in PARAM_LBLNEW.items():\n",
    "        print('{} = {}'.format(name, value))\n"
   ]
  },
  {
   "cell_type": "code",
   "execution_count": 11,
   "metadata": {
    "collapsed": true,
    "scrolled": false
   },
   "outputs": [],
   "source": [
    "def show_html(s):\n",
    "    display.display(display.HTML(s))\n",
    "\n",
    "    \n",
    "def show_markdown(s):\n",
    "    display.display(display.Markdown(s))\n",
    "\n",
    "    \n",
    "def script():\n",
    "    \n",
    "    title = '### CLIRAD-LW'\n",
    "    s_input = 'Input Parameters'\n",
    "    s_lblnew_param = 'LBLNEW case compaired against'\n",
    "    s_bestfits = 'Best-fit Parameters'\n",
    "    s_plt_cooling = 'Cooling Rate Profiles'\n",
    "    s_tb_flux = 'Flux Comparison'\n",
    "    \n",
    "    # title\n",
    "    show_markdown('### CLIRAD-LW')\n",
    "    \n",
    "    # TOC\n",
    "    show_markdown('### Table of Contents')\n",
    "    show_html(climahtml.getHTML_hrefanchor(s_input))\n",
    "    show_html(climahtml.getHTML_hrefanchor(s_lblnew_param))\n",
    "    show_html(climahtml.getHTML_hrefanchor(s_plt_cooling))\n",
    "    show_html(climahtml.getHTML_hrefanchor(s_tb_flux))\n",
    "    show_html(climahtml.getHTML_hrefanchor(s_bestfits))\n",
    "    \n",
    "    # Input parameters\n",
    "    show_html(climahtml.getHTML_idanchor(s_input))\n",
    "    show_markdown(climahtml.getMarkdown_sectitle(s_input))\n",
    "    print_input_param()\n",
    "    \n",
    "    # LBLNEW parameters \n",
    "    show_html(climahtml.getHTML_idanchor(s_lblnew_param))\n",
    "    show_markdown(climahtml.getMarkdown_sectitle(s_lblnew_param))\n",
    "    print_lblnew_param()\n",
    "    \n",
    "    # Cooling rate profiles\n",
    "    show_html(climahtml.getHTML_idanchor(s_plt_cooling))\n",
    "    show_markdown(climahtml.getMarkdown_sectitle(s_plt_cooling))\n",
    "    script_plt_cooling()\n",
    "    \n",
    "    # Flux comparison\n",
    "    show_html(climahtml.getHTML_idanchor(s_tb_flux))\n",
    "    show_markdown(climahtml.getMarkdown_sectitle(s_tb_flux))\n",
    "    script_tb_flux()\n",
    "    \n",
    "    # Best-fit values\n",
    "    show_html(climahtml.getHTML_idanchor(s_bestfits))\n",
    "    show_markdown(climahtml.getMarkdown_sectitle(s_bestfits))\n",
    "    print_bestfit_params()\n",
    "   \n",
    "    "
   ]
  },
  {
   "cell_type": "code",
   "execution_count": 12,
   "metadata": {
    "scrolled": false
   },
   "outputs": [
    {
     "data": {
      "text/markdown": [
       "### CLIRAD-LW"
      ],
      "text/plain": [
       "<IPython.core.display.Markdown object>"
      ]
     },
     "metadata": {},
     "output_type": "display_data"
    },
    {
     "data": {
      "text/markdown": [
       "### Table of Contents"
      ],
      "text/plain": [
       "<IPython.core.display.Markdown object>"
      ]
     },
     "metadata": {},
     "output_type": "display_data"
    },
    {
     "data": {
      "text/html": [
       "<a href=\"#Input_Parameters\">Input Parameters</a>"
      ],
      "text/plain": [
       "<IPython.core.display.HTML object>"
      ]
     },
     "metadata": {},
     "output_type": "display_data"
    },
    {
     "data": {
      "text/html": [
       "<a href=\"#LBLNEW_case_compaired_against\">LBLNEW case compaired against</a>"
      ],
      "text/plain": [
       "<IPython.core.display.HTML object>"
      ]
     },
     "metadata": {},
     "output_type": "display_data"
    },
    {
     "data": {
      "text/html": [
       "<a href=\"#Cooling_Rate_Profiles\">Cooling Rate Profiles</a>"
      ],
      "text/plain": [
       "<IPython.core.display.HTML object>"
      ]
     },
     "metadata": {},
     "output_type": "display_data"
    },
    {
     "data": {
      "text/html": [
       "<a href=\"#Flux_Comparison\">Flux Comparison</a>"
      ],
      "text/plain": [
       "<IPython.core.display.HTML object>"
      ]
     },
     "metadata": {},
     "output_type": "display_data"
    },
    {
     "data": {
      "text/html": [
       "<a href=\"#Best-fit_Parameters\">Best-fit Parameters</a>"
      ],
      "text/plain": [
       "<IPython.core.display.HTML object>"
      ]
     },
     "metadata": {},
     "output_type": "display_data"
    },
    {
     "data": {
      "text/html": [
       "<a id=\"Input_Parameters\"></a>"
      ],
      "text/plain": [
       "<IPython.core.display.HTML object>"
      ]
     },
     "metadata": {},
     "output_type": "display_data"
    },
    {
     "data": {
      "text/markdown": [
       "# Input Parameters"
      ],
      "text/plain": [
       "<IPython.core.display.Markdown object>"
      ]
     },
     "metadata": {},
     "output_type": "display_data"
    },
    {
     "name": "stdout",
     "output_type": "stream",
     "text": [
      "atmpro = mls\n",
      "band = [3]\n",
      "commitnumber = 7a7a0e1\n",
      "molecule = {'n2o': 3.2e-07}\n",
      "tsfc = 294\n"
     ]
    },
    {
     "data": {
      "text/html": [
       "<a id=\"LBLNEW_case_compaired_against\"></a>"
      ],
      "text/plain": [
       "<IPython.core.display.HTML object>"
      ]
     },
     "metadata": {},
     "output_type": "display_data"
    },
    {
     "data": {
      "text/markdown": [
       "# LBLNEW case compaired against"
      ],
      "text/plain": [
       "<IPython.core.display.Markdown object>"
      ]
     },
     "metadata": {},
     "output_type": "display_data"
    },
    {
     "name": "stdout",
     "output_type": "stream",
     "text": [
      "molecule = n2o\n",
      "band = 3a\n",
      "commitnumber = d62b618\n",
      "vmin = 540\n",
      "vmax = 620\n",
      "dv = 0.005\n",
      "nv = 200\n",
      "ref_pts = [(1, 250), (500, 250)]\n",
      "ng_refs = [1, 2]\n",
      "ng_adju = [0, 0]\n",
      "klin = 2.22e-20\n",
      "option_wgt_k = 1\n",
      "wgt = [(0.9,), (0.5, 0.95)]\n",
      "w_diffuse = [(1.8,), (1.66, 1.8)]\n",
      "option_wgt_flux = 1\n",
      "atmpro = mls\n",
      "tsfc = 294\n",
      "conc = 3.2e-07\n",
      "option_compute_btable = 0\n",
      "option_compute_ktable = 1\n"
     ]
    },
    {
     "data": {
      "text/html": [
       "<a id=\"Cooling_Rate_Profiles\"></a>"
      ],
      "text/plain": [
       "<IPython.core.display.HTML object>"
      ]
     },
     "metadata": {},
     "output_type": "display_data"
    },
    {
     "data": {
      "text/markdown": [
       "# Cooling Rate Profiles"
      ],
      "text/plain": [
       "<IPython.core.display.Markdown object>"
      ]
     },
     "metadata": {},
     "output_type": "display_data"
    },
    {
     "data": {
      "text/html": [
       "\n",
       "<div class=\"bk-root\">\n",
       "    <div class=\"bk-plotdiv\" id=\"6a15623e-e0ac-41a5-bf6f-6941fe0067b0\"></div>\n",
       "</div>"
      ]
     },
     "metadata": {},
     "output_type": "display_data"
    },
    {
     "data": {
      "application/javascript": [
       "(function(root) {\n",
       "  function embed_document(root) {\n",
       "    \n",
       "  var docs_json = {\"d561fc08-afd8-46e7-8eb8-34e53fce62e7\":{\"roots\":{\"references\":[{\"attributes\":{\"fill_alpha\":{\"value\":0.7},\"fill_color\":{\"value\":\"#4daf4a\"},\"line_alpha\":{\"value\":0.7},\"line_color\":{\"value\":\"#4daf4a\"},\"x\":{\"field\":\"x\"},\"y\":{\"field\":\"y\"}},\"id\":\"c5010ee7-6114-420e-8fad-7c9228629950\",\"type\":\"Circle\"},{\"attributes\":{\"data_source\":{\"id\":\"f8fe8faf-ceaa-4312-82aa-e2ed62612809\",\"type\":\"ColumnDataSource\"},\"glyph\":{\"id\":\"c5010ee7-6114-420e-8fad-7c9228629950\",\"type\":\"Circle\"},\"hover_glyph\":null,\"muted_glyph\":null,\"nonselection_glyph\":{\"id\":\"c3c304e0-bd15-47bc-b44b-99d62e018bcc\",\"type\":\"Circle\"},\"selection_glyph\":null,\"view\":{\"id\":\"17f1882c-a188-48a9-a751-3cff4cbd580c\",\"type\":\"CDSView\"}},\"id\":\"95b8cbe3-435a-41ca-99fb-902811caa7a6\",\"type\":\"GlyphRenderer\"},{\"attributes\":{\"line_alpha\":0.1,\"line_color\":\"#1f77b4\",\"line_dash\":[6],\"line_width\":5,\"x\":{\"field\":\"x\"},\"y\":{\"field\":\"y\"}},\"id\":\"c4993ad5-5ba8-4383-a800-40336d2d24f9\",\"type\":\"Line\"},{\"attributes\":{\"below\":[{\"id\":\"e1b09a9e-9a6c-405b-8031-081fc3b78acd\",\"type\":\"LinearAxis\"}],\"left\":[{\"id\":\"a5ec8ac6-c50c-4683-b075-01dea907eb8d\",\"type\":\"LinearAxis\"}],\"plot_height\":500,\"plot_width\":400,\"renderers\":[{\"id\":\"e1b09a9e-9a6c-405b-8031-081fc3b78acd\",\"type\":\"LinearAxis\"},{\"id\":\"cf2b126f-f262-41d3-9c51-710b447dabdd\",\"type\":\"Grid\"},{\"id\":\"a5ec8ac6-c50c-4683-b075-01dea907eb8d\",\"type\":\"LinearAxis\"},{\"id\":\"aa92ff22-e97c-43c0-ad67-212b4059ac3f\",\"type\":\"Grid\"},{\"id\":\"546a422a-5bc8-4a17-8d98-1fb7bfd00983\",\"type\":\"BoxAnnotation\"},{\"id\":\"1ad54329-7e1a-4cd0-8c2f-372732e19ff8\",\"type\":\"GlyphRenderer\"},{\"id\":\"95b8cbe3-435a-41ca-99fb-902811caa7a6\",\"type\":\"GlyphRenderer\"},{\"id\":\"230751cf-f2f3-407a-8187-ef1a7fe6d168\",\"type\":\"GlyphRenderer\"},{\"id\":\"425da6ab-2a80-4eda-997c-5c39f56bd583\",\"type\":\"GlyphRenderer\"},{\"id\":\"b72e2406-32bd-4e24-bd6a-f2ba90455c64\",\"type\":\"GlyphRenderer\"}],\"title\":{\"id\":\"c8fb6897-4265-4fd7-a8fb-c6ad52841cb3\",\"type\":\"Title\"},\"toolbar\":{\"id\":\"7cb1f83e-7c2b-4f1f-a67a-60719ed1dec0\",\"type\":\"Toolbar\"},\"toolbar_location\":null,\"x_range\":{\"id\":\"97dd5043-d516-446f-aa2f-6e0f3f94218c\",\"type\":\"Range1d\"},\"x_scale\":{\"id\":\"55d923df-1ff1-4d37-b2f2-141fadcc3bef\",\"type\":\"LinearScale\"},\"y_range\":{\"id\":\"a2a25984-288b-4716-af01-ea62b0156167\",\"type\":\"Range1d\"},\"y_scale\":{\"id\":\"7e5d6fc5-65c5-438d-88d7-791d7cdcc829\",\"type\":\"LinearScale\"}},\"id\":\"3594e19d-b141-4a3e-bc3d-01ae9225cafd\",\"subtype\":\"Figure\",\"type\":\"Plot\"},{\"attributes\":{\"active_drag\":\"auto\",\"active_inspect\":\"auto\",\"active_scroll\":\"auto\",\"active_tap\":\"auto\",\"tools\":[{\"id\":\"20765887-0dc4-423d-b7ce-552896865759\",\"type\":\"PanTool\"},{\"id\":\"0c336759-e107-443e-9e5c-81083ca563b1\",\"type\":\"WheelZoomTool\"},{\"id\":\"e7099c7e-8aa3-48f0-9f41-c64864d36882\",\"type\":\"BoxZoomTool\"},{\"id\":\"15c7b04a-76c7-4655-be2b-3407a8e25acf\",\"type\":\"SaveTool\"},{\"id\":\"a29c9fd6-4528-4266-9729-8136d1ab2e0b\",\"type\":\"ResetTool\"},{\"id\":\"dc70c3f2-88bb-4164-8f18-7966403d3c28\",\"type\":\"HelpTool\"}]},\"id\":\"7cb1f83e-7c2b-4f1f-a67a-60719ed1dec0\",\"type\":\"Toolbar\"},{\"attributes\":{\"callback\":null,\"column_names\":[\"x\",\"y\"],\"data\":{\"x\":{\"__ndarray__\":\"8F/Nv2Vnuj8AAAAAAAAAAAAAAAAAAAAAAAAAAAAAAADXN75jacGnPwAAAAAAAAAAAAAAAAAAAAAAAAAAAAAAADIM+gAUi5g/AAAAAAAAAAAeZuYEmPKIPxeGteEKyXE/YadqGMRbiT8Wg+0CCh57P+XVJyOoxnk/GqFE8GTcjT+azf+Fx3mNP0l2p2bPmJU/2dG0m0s3mj9hvqNjWt2eP3zPzLzqO6M/7o9n/1LypT8pn0tcuo6oP4YdCMGR3ag/uphIZH3Vpj9+TXF9oUWkP6oodQHjpKE/aWoWvncBnj9OlZkZ0OeYP24Tp8Dt/JM/rWva44otjj9G1lBh4lOEP1fCZsInhHc/crbKXZVVYj8fmEkdFYdOvyyitKSU8W6/FmHN/H9gd7+agwg+qyh8vxW4Wr4lLYC/hl6VQNBugb+kT6mexTyAv/TR5/z74Hm/S8f7/RKUcr/buPyBFv1mv58VE0IgQ1K/HvV7ws2vQD9pIN2iqEBhPwI2VMbn4G0/jFzH4j0adT8GTVUeABh7PyzUkr70ZYA/MM5XASkugz8dxE2UJNKFP6oducZLXYg/uk5vu9rOij+kjMrj7zKNP0LTPav/hY8/bvP5OgbqkD9MJScGjQiSP3cdoriAI5M/EFSfQck4lD/DLYzld0mVP1MzLMXcVZY/Dkbiocxflz8sK5QfzWWYP4XGDIe3ZJk/r/Ek3yhWmj9FN5Bo4TabP+5BT50j/5s/x00cX8ytnD+4AtUCJUydP0qCm4Vw3p0/yA+IHMpsnj96vOnGVvieP2JGhaUSgp8/\",\"dtype\":\"float64\",\"shape\":[75]},\"y\":{\"__ndarray__\":\"S/O/Q+51ND/430zAtpRIP2vylNV0PVE/QxsjCssuWD/TR4Z78fVgP+inNsRxymc/OuuBfZWvcD/u3TFA02d3P2d3VoBnaoA/CD5h5MAGhz/1pA8HUCaQP+zrCsc9p5Y/Fb7LAKjGnz/nJ9c/SEmmPwBD+fzcQq8/FOZwv9nstT8Er5Y7M8G+P0c+r3jqkcU/yK72qKZBzj+tM989FzjVPxbgmr8yxN0/cOm5AXbg5D+5ctXAf0jtP5kqGJXUifQ/DsrqDELP/D8MCAhBojQEQDItVnmnVwxAiFXNvdHgE0BSSZ2AJuIbQAMJih9jjiNA5q4l5INuK0CPVN/5RT0zQHzxRXu8/DpAOZ7PgHrtQkAg8wGBzoxKQBSTN8DMeFJA2NmQf2ZqWEAAAAAAAFxeQEQX1LfMJmJAmpmZmZkfZUBmZmZmZhhoQLzoK0gzEWtAAAAAAAAKbkCiC+pbZoFwQAhyUMLM/XFA+I2vPTN6c0AQ5KCEmfZ0QAAAAAAAc3ZA8Btfe2bvd0AIclDCzGt5QPeNrz0z6HpAEOSghJlkfEAAAAAAAOF9QKML6ltmXX9ABTkoYeZsgED7xteeGSuBQAhyUMJM6YFAAAAAAICngkD4ja89s2WDQAU5KGHmI4RA+8bXnhnihEAIclDCTKCFQAAAAACAXoZA+I2vPbMch0AFOShh5tqHQPvG154ZmYhACHJQwkxXiUAAAAAAgBWKQPeNrz2z04pABTkoYeaRi0D7xteeGVCMQAlyUMJMDo1AAAAAAIDMjUD3ja89s4qOQGZmZmbmSI9A\",\"dtype\":\"float64\",\"shape\":[75]}}},\"id\":\"de3b6532-a911-4107-8fee-b20af292066e\",\"type\":\"ColumnDataSource\"},{\"attributes\":{},\"id\":\"7e5d6fc5-65c5-438d-88d7-791d7cdcc829\",\"type\":\"LinearScale\"},{\"attributes\":{\"axis_label\":\"cooling rate [K/day]\",\"formatter\":{\"id\":\"b2675d4e-e188-4fd3-a154-63be237c615e\",\"type\":\"BasicTickFormatter\"},\"plot\":{\"id\":\"3594e19d-b141-4a3e-bc3d-01ae9225cafd\",\"subtype\":\"Figure\",\"type\":\"Plot\"},\"ticker\":{\"id\":\"1300aeba-f2b1-4769-8bdc-ce3cfbf9b98a\",\"type\":\"BasicTicker\"}},\"id\":\"e1b09a9e-9a6c-405b-8031-081fc3b78acd\",\"type\":\"LinearAxis\"},{\"attributes\":{\"callback\":null,\"column_names\":[\"x\",\"y\"],\"data\":{\"x\":{\"__ndarray__\":\"emkAvgmAQz+rVEfuGcVIP8wcT2JQ4VE/lUY+Qty7Vz/V8yALeY5dPwB0LyeVpmE/lrN3RluVZD8So3bm9rdhP2nG6uOdW2o/v1Jtolw7bT9QXV992u5vP/uOreT0R3E/AxnYJ5uScj/CWuHHpMBzP3f4B2NmjHc/U8W+cOiegj/l2sz4KVSMP7I56MHGvZM/I8pJ7tGXmT9xspjOCumfPyAG0ZJ7RaM/s9CoonPcpj8lq/wUwsipP7txNEKdxKk/LfQrF9b/pj9LFPmsbbWjP+DiUNtgiqA/oRJJh5Zbmz9I+IMmLmyWP3pIOPqGLJI/D3ppnONijD9oOLS0kteEPw9BMOtnKHw/vVbpvgEFcT+Z110VsjdUP3EBH3VYvl6/9pBHLL1Icb+DTrH3ldh3v9wnnCVV132/8q1eMWIggb8yAyJ34kiAv6t94EDGcHm/hSVQ05bScb8cg4r98DJlv+03ig1CH06/LD3siYC9Rj+o66JLrEpiP6s4zqCzYm4/9qDavzYLdT8J9tY+aK96Py8uCLYgDIA/xVSK/sikgj/Ihms+eRuFP3xwG2aYdYc/qo7OWZy6iT/ljtuIV/SLP9LA42lmHo4/GvYEVPsekD8Xxvd0XiuRPztZdC9TOpI/Dkx4hsw8kz+YZ59zKUGUP4h/MYvrQJU/J3PdqNZBlj+E2QQYlj+XPyw0SnbwPJg/etl+S2MomT9pqmkPYgSaP58zktKmyZo/dOZWvBxsmz9DfPUrfAGcP2uIE2CkjJw/TL5YZrEXnT/hNU13VaKdPwEylfqJNZ4/\",\"dtype\":\"float64\",\"shape\":[75]},\"y\":{\"__ndarray__\":\"GhExyth1ND/Sv8nbtpRIP2vylNV0PVE/aTum7souWD/At0SJ8fVgPw3Iuahxymc/MSNhhJWvcD/bTfBN02d3P2zb5nxnaoA/CD5h5MAGhz8NmeH1TyaQP+zrCsc9p5Y/LbKd76fGnz/bLW5ISEmmPww9YvTcQq8/JV2OstnstT8Er5Y7M8G+P0c+r3jqkcU/5h99k6ZBzj88bCIzFzjVP4enV8oyxN0//yH99nXg5D8qOpLLf0jtP5kqGJXUifQ/c9cS8kHP/D+/DpwzojQEQIEmwoanVwxA4lgXt9HgE0BSSZ2AJuIbQAMJih9jjiNA5q4l5INuK0AwTKYKRj0zQNv5fmq8/DpAaCJseHrtQkB/+zpwzoxKQM3MzMzMeFJAZmZmZmZqWEAAAAAAAFxeQM3MzMzMJmJAmpmZmZkfZUBmZmZmZhhoQDMzMzMzEWtAAAAAAAAKbkBmZmZmZoFwQM3MzMzM/XFAMzMzMzN6c0CamZmZmfZ0QAAAAAAAc3ZAZmZmZmbvd0DNzMzMzGt5QDMzMzMz6HpAmpmZmZlkfEAAAAAAAOF9QGZmZmZmXX9AZmZmZuZsgECamZmZGSuBQM3MzMxM6YFAAAAAAICngkAzMzMzs2WDQGZmZmbmI4RAmpmZmRnihEDNzMzMTKCFQAAAAACAXoZAMzMzM7Mch0BmZmZm5tqHQJqZmZkZmYhAzczMzExXiUAAAAAAgBWKQDMzMzOz04pAZmZmZuaRi0CamZmZGVCMQM3MzMxMDo1AAAAAAIDMjUAzMzMzs4qOQGZmZmbmSI9A\",\"dtype\":\"float64\",\"shape\":[75]}}},\"id\":\"a0e9922f-9de7-49be-baa3-f6b8e56b6a74\",\"type\":\"ColumnDataSource\"},{\"attributes\":{\"axis_label\":\"pressure [mb]\",\"formatter\":{\"id\":\"c69534a2-7ceb-4ea0-91c6-98752ab21df5\",\"type\":\"LogTickFormatter\"},\"plot\":{\"id\":\"fcaf95ab-ca47-4734-a623-a914c929f3f5\",\"subtype\":\"Figure\",\"type\":\"Plot\"},\"ticker\":{\"id\":\"35da6f22-a7dc-49d7-94d7-0395fdfc2f68\",\"type\":\"LogTicker\"}},\"id\":\"44b5bda5-f179-4459-93cd-afa97a6ccf04\",\"type\":\"LogAxis\"},{\"attributes\":{\"plot\":null,\"text\":\"Linear pressure scale\"},\"id\":\"c8fb6897-4265-4fd7-a8fb-c6ad52841cb3\",\"type\":\"Title\"},{\"attributes\":{\"source\":{\"id\":\"de3b6532-a911-4107-8fee-b20af292066e\",\"type\":\"ColumnDataSource\"}},\"id\":\"2e7a2af0-bb28-4768-87e3-e445de9eab9d\",\"type\":\"CDSView\"},{\"attributes\":{},\"id\":\"1300aeba-f2b1-4769-8bdc-ce3cfbf9b98a\",\"type\":\"BasicTicker\"},{\"attributes\":{},\"id\":\"20765887-0dc4-423d-b7ce-552896865759\",\"type\":\"PanTool\"},{\"attributes\":{},\"id\":\"55d923df-1ff1-4d37-b2f2-141fadcc3bef\",\"type\":\"LinearScale\"},{\"attributes\":{\"callback\":null,\"column_names\":[\"x\",\"y\"],\"data\":{\"x\":{\"__ndarray__\":\"emkAvgmAQz+rVEfuGcVIP8wcT2JQ4VE/lUY+Qty7Vz/V8yALeY5dPwB0LyeVpmE/lrN3RluVZD8So3bm9rdhP2nG6uOdW2o/v1Jtolw7bT9QXV992u5vP/uOreT0R3E/AxnYJ5uScj/CWuHHpMBzP3f4B2NmjHc/U8W+cOiegj/l2sz4KVSMP7I56MHGvZM/I8pJ7tGXmT9xspjOCumfPyAG0ZJ7RaM/s9CoonPcpj8lq/wUwsipP7txNEKdxKk/LfQrF9b/pj9LFPmsbbWjP+DiUNtgiqA/oRJJh5Zbmz9I+IMmLmyWP3pIOPqGLJI/D3ppnONijD9oOLS0kteEPw9BMOtnKHw/vVbpvgEFcT+Z110VsjdUP3EBH3VYvl6/9pBHLL1Icb+DTrH3ldh3v9wnnCVV132/8q1eMWIggb8yAyJ34kiAv6t94EDGcHm/hSVQ05bScb8cg4r98DJlv+03ig1CH06/LD3siYC9Rj+o66JLrEpiP6s4zqCzYm4/9qDavzYLdT8J9tY+aK96Py8uCLYgDIA/xVSK/sikgj/Ihms+eRuFP3xwG2aYdYc/qo7OWZy6iT/ljtuIV/SLP9LA42lmHo4/GvYEVPsekD8Xxvd0XiuRPztZdC9TOpI/Dkx4hsw8kz+YZ59zKUGUP4h/MYvrQJU/J3PdqNZBlj+E2QQYlj+XPyw0SnbwPJg/etl+S2MomT9pqmkPYgSaP58zktKmyZo/dOZWvBxsmz9DfPUrfAGcP2uIE2CkjJw/TL5YZrEXnT/hNU13VaKdPwEylfqJNZ4/\",\"dtype\":\"float64\",\"shape\":[75]},\"y\":{\"__ndarray__\":\"GhExyth1ND/Sv8nbtpRIP2vylNV0PVE/aTum7souWD/At0SJ8fVgPw3Iuahxymc/MSNhhJWvcD/bTfBN02d3P2zb5nxnaoA/CD5h5MAGhz8NmeH1TyaQP+zrCsc9p5Y/LbKd76fGnz/bLW5ISEmmPww9YvTcQq8/JV2OstnstT8Er5Y7M8G+P0c+r3jqkcU/5h99k6ZBzj88bCIzFzjVP4enV8oyxN0//yH99nXg5D8qOpLLf0jtP5kqGJXUifQ/c9cS8kHP/D+/DpwzojQEQIEmwoanVwxA4lgXt9HgE0BSSZ2AJuIbQAMJih9jjiNA5q4l5INuK0AwTKYKRj0zQNv5fmq8/DpAaCJseHrtQkB/+zpwzoxKQM3MzMzMeFJAZmZmZmZqWEAAAAAAAFxeQM3MzMzMJmJAmpmZmZkfZUBmZmZmZhhoQDMzMzMzEWtAAAAAAAAKbkBmZmZmZoFwQM3MzMzM/XFAMzMzMzN6c0CamZmZmfZ0QAAAAAAAc3ZAZmZmZmbvd0DNzMzMzGt5QDMzMzMz6HpAmpmZmZlkfEAAAAAAAOF9QGZmZmZmXX9AZmZmZuZsgECamZmZGSuBQM3MzMxM6YFAAAAAAICngkAzMzMzs2WDQGZmZmbmI4RAmpmZmRnihEDNzMzMTKCFQAAAAACAXoZAMzMzM7Mch0BmZmZm5tqHQJqZmZkZmYhAzczMzExXiUAAAAAAgBWKQDMzMzOz04pAZmZmZuaRi0CamZmZGVCMQM3MzMxMDo1AAAAAAIDMjUAzMzMzs4qOQGZmZmbmSI9A\",\"dtype\":\"float64\",\"shape\":[75]}}},\"id\":\"f8fe8faf-ceaa-4312-82aa-e2ed62612809\",\"type\":\"ColumnDataSource\"},{\"attributes\":{\"overlay\":{\"id\":\"546a422a-5bc8-4a17-8d98-1fb7bfd00983\",\"type\":\"BoxAnnotation\"}},\"id\":\"e7099c7e-8aa3-48f0-9f41-c64864d36882\",\"type\":\"BoxZoomTool\"},{\"attributes\":{\"axis_label\":\"pressure [mb]\",\"formatter\":{\"id\":\"6294eae2-843b-4a3c-bbbb-6afbf0a27e87\",\"type\":\"BasicTickFormatter\"},\"plot\":{\"id\":\"3594e19d-b141-4a3e-bc3d-01ae9225cafd\",\"subtype\":\"Figure\",\"type\":\"Plot\"},\"ticker\":{\"id\":\"a67bd1f5-850a-4ded-9ee6-4004f6eb91f3\",\"type\":\"BasicTicker\"}},\"id\":\"a5ec8ac6-c50c-4683-b075-01dea907eb8d\",\"type\":\"LinearAxis\"},{\"attributes\":{},\"id\":\"6294eae2-843b-4a3c-bbbb-6afbf0a27e87\",\"type\":\"BasicTickFormatter\"},{\"attributes\":{\"dimension\":1,\"plot\":{\"id\":\"3594e19d-b141-4a3e-bc3d-01ae9225cafd\",\"subtype\":\"Figure\",\"type\":\"Plot\"},\"ticker\":{\"id\":\"a67bd1f5-850a-4ded-9ee6-4004f6eb91f3\",\"type\":\"BasicTicker\"}},\"id\":\"aa92ff22-e97c-43c0-ad67-212b4059ac3f\",\"type\":\"Grid\"},{\"attributes\":{\"num_minor_ticks\":10},\"id\":\"35da6f22-a7dc-49d7-94d7-0395fdfc2f68\",\"type\":\"LogTicker\"},{\"attributes\":{},\"id\":\"a67bd1f5-850a-4ded-9ee6-4004f6eb91f3\",\"type\":\"BasicTicker\"},{\"attributes\":{},\"id\":\"c9406229-1b07-4215-bde7-c546f217cc40\",\"type\":\"ResetTool\"},{\"attributes\":{},\"id\":\"dc70c3f2-88bb-4164-8f18-7966403d3c28\",\"type\":\"HelpTool\"},{\"attributes\":{},\"id\":\"a29c9fd6-4528-4266-9729-8136d1ab2e0b\",\"type\":\"ResetTool\"},{\"attributes\":{\"callback\":null,\"end\":0.01,\"start\":1020},\"id\":\"a2a25984-288b-4716-af01-ea62b0156167\",\"type\":\"Range1d\"},{\"attributes\":{\"line_color\":\"#4daf4a\",\"line_width\":1.5,\"x\":{\"field\":\"x\"},\"y\":{\"field\":\"y\"}},\"id\":\"3c3e9e03-4159-4601-a541-e84aeaa4a2bc\",\"type\":\"Line\"},{\"attributes\":{},\"id\":\"15c7b04a-76c7-4655-be2b-3407a8e25acf\",\"type\":\"SaveTool\"},{\"attributes\":{\"bottom_units\":\"screen\",\"fill_alpha\":{\"value\":0.5},\"fill_color\":{\"value\":\"lightgrey\"},\"left_units\":\"screen\",\"level\":\"overlay\",\"line_alpha\":{\"value\":1.0},\"line_color\":{\"value\":\"black\"},\"line_dash\":[4,4],\"line_width\":{\"value\":2},\"plot\":null,\"render_mode\":\"css\",\"right_units\":\"screen\",\"top_units\":\"screen\"},\"id\":\"546a422a-5bc8-4a17-8d98-1fb7bfd00983\",\"type\":\"BoxAnnotation\"},{\"attributes\":{\"plot\":{\"id\":\"3594e19d-b141-4a3e-bc3d-01ae9225cafd\",\"subtype\":\"Figure\",\"type\":\"Plot\"},\"ticker\":{\"id\":\"1300aeba-f2b1-4769-8bdc-ce3cfbf9b98a\",\"type\":\"BasicTicker\"}},\"id\":\"cf2b126f-f262-41d3-9c51-710b447dabdd\",\"type\":\"Grid\"},{\"attributes\":{},\"id\":\"0c336759-e107-443e-9e5c-81083ca563b1\",\"type\":\"WheelZoomTool\"},{\"attributes\":{\"source\":{\"id\":\"f8fe8faf-ceaa-4312-82aa-e2ed62612809\",\"type\":\"ColumnDataSource\"}},\"id\":\"17f1882c-a188-48a9-a751-3cff4cbd580c\",\"type\":\"CDSView\"},{\"attributes\":{},\"id\":\"7965ed68-ddf3-4e0e-a2d5-52b296d0990b\",\"type\":\"HelpTool\"},{\"attributes\":{\"data_source\":{\"id\":\"de3b6532-a911-4107-8fee-b20af292066e\",\"type\":\"ColumnDataSource\"},\"glyph\":{\"id\":\"4513c166-a1e1-4f66-9886-59ba823232bc\",\"type\":\"Line\"},\"hover_glyph\":null,\"muted_glyph\":null,\"nonselection_glyph\":{\"id\":\"c4993ad5-5ba8-4383-a800-40336d2d24f9\",\"type\":\"Line\"},\"selection_glyph\":null,\"view\":{\"id\":\"2e7a2af0-bb28-4768-87e3-e445de9eab9d\",\"type\":\"CDSView\"}},\"id\":\"1ad54329-7e1a-4cd0-8c2f-372732e19ff8\",\"type\":\"GlyphRenderer\"},{\"attributes\":{\"source\":{\"id\":\"a0e9922f-9de7-49be-baa3-f6b8e56b6a74\",\"type\":\"ColumnDataSource\"}},\"id\":\"33be8d43-5c7d-4317-b2e3-b521418eb506\",\"type\":\"CDSView\"},{\"attributes\":{\"callback\":null,\"column_names\":[\"x\",\"y\"],\"data\":{\"x\":{\"__ndarray__\":\"Ommkvol1cT+JPIKt7QdyPzvh6ETQQHM/pq12aSyOdD/bhYGw+t11P2SuUWPeL3c/juiTycODeD9Bwh4Pj9l5PwsBNwkpMXs/iwqec0qKfD8vuqJrleR9P4IzCni+P38/MEPrC7BNgD9r7Qjr+AaBP1H0AjqvOIM/zFbPdyNdiT+Cs31EwUyRPz5stv20XpY/VoWQjunmmz9jEMov8PegP7NZ/Z9cM6Q/NF+V/j6jpz82xnHQPIGqP8WikXZHPKo/K9KaKag9qD8R7ojh51qlPzRxHS3PhqI/05E/O9Ahnz8xzp8RZ4KZP/SnGDyqApQ/ETZlCfLXjT9+dtZESgyEP+HkdfisHnc/RxdsQhlsYz/cG0Pq4g5Dv8gU0Bqp02u/yg7fdb5ndb90ON3ryWB6vw4OY8O0Hn+/tHlR+MIdgb+QyC/mpPx/v3wpFXyuCXm/vkUJ9VKDcb9wNxpeVopkv2U83/5xskm/xAKB7i5lTD+E3gxaes5rPwrT8EoQ428/euuz6Kk7dz+CccVz9tt7PyTdsjo6PIE/XiErKfjdgz+Hk57YJYiGPzalfEITKYk/hHh96suqiz9eeWlwsxqOP5p/ub+SKJA/VLJIEAtYkT++HAFH9HuSP+vRTijomJM/XikMCHS4lD/ywxPBibaVPwDKu0BLy5Y/NAHsxxnPlz+JekhPTd2YPyhilfuy7pk/ftYQb3Hamj/5+zV4Z72bP91BXqKJlpw/+lzj95pMnT/BEBsn4+qdP5rkghVZgp4/YMSG+8QZnz9C8oPvzK+fP00+onOKD6A/\",\"dtype\":\"float64\",\"shape\":[75]},\"y\":{\"__ndarray__\":\"GhExyth1ND/Sv8nbtpRIP2vylNV0PVE/aTum7souWD/At0SJ8fVgPw3Iuahxymc/MSNhhJWvcD/bTfBN02d3P2zb5nxnaoA/CD5h5MAGhz8NmeH1TyaQP+zrCsc9p5Y/LbKd76fGnz/bLW5ISEmmPww9YvTcQq8/JV2OstnstT8Er5Y7M8G+P0c+r3jqkcU/5h99k6ZBzj88bCIzFzjVP4enV8oyxN0//yH99nXg5D8qOpLLf0jtP5kqGJXUifQ/c9cS8kHP/D+/DpwzojQEQIEmwoanVwxA4lgXt9HgE0BSSZ2AJuIbQAMJih9jjiNA5q4l5INuK0AwTKYKRj0zQNv5fmq8/DpAaCJseHrtQkB/+zpwzoxKQM3MzMzMeFJAZmZmZmZqWEAAAAAAAFxeQM3MzMzMJmJAmpmZmZkfZUBmZmZmZhhoQDMzMzMzEWtAAAAAAAAKbkBmZmZmZoFwQM3MzMzM/XFAMzMzMzN6c0CamZmZmfZ0QAAAAAAAc3ZAZmZmZmbvd0DNzMzMzGt5QDMzMzMz6HpAmpmZmZlkfEAAAAAAAOF9QGZmZmZmXX9AZmZmZuZsgECamZmZGSuBQM3MzMxM6YFAAAAAAICngkAzMzMzs2WDQGZmZmbmI4RAmpmZmRnihEDNzMzMTKCFQAAAAACAXoZAMzMzM7Mch0BmZmZm5tqHQJqZmZkZmYhAzczMzExXiUAAAAAAgBWKQDMzMzOz04pAZmZmZuaRi0CamZmZGVCMQM3MzMxMDo1AAAAAAIDMjUAzMzMzs4qOQGZmZmbmSI9A\",\"dtype\":\"float64\",\"shape\":[75]}}},\"id\":\"bad6a9da-7a6b-47af-b658-050b9067d81c\",\"type\":\"ColumnDataSource\"},{\"attributes\":{\"fill_alpha\":{\"value\":0.7},\"fill_color\":{\"value\":\"#4daf4a\"},\"line_alpha\":{\"value\":0.7},\"line_color\":{\"value\":\"#4daf4a\"},\"x\":{\"field\":\"x\"},\"y\":{\"field\":\"y\"}},\"id\":\"3262fbe4-f56b-49b3-b946-123a83d229a8\",\"type\":\"Circle\"},{\"attributes\":{\"line_alpha\":0.1,\"line_color\":\"#1f77b4\",\"line_width\":1.5,\"x\":{\"field\":\"x\"},\"y\":{\"field\":\"y\"}},\"id\":\"9dfee60c-3a5e-419f-8eaa-c015d3057b6d\",\"type\":\"Line\"},{\"attributes\":{\"callback\":null,\"column_names\":[\"x\",\"y\"],\"data\":{\"x\":{\"__ndarray__\":\"emkAvgmAQz+rVEfuGcVIP8wcT2JQ4VE/lUY+Qty7Vz/V8yALeY5dPwB0LyeVpmE/lrN3RluVZD8So3bm9rdhP2nG6uOdW2o/v1Jtolw7bT9QXV992u5vP/uOreT0R3E/AxnYJ5uScj/CWuHHpMBzP3f4B2NmjHc/U8W+cOiegj/l2sz4KVSMP7I56MHGvZM/I8pJ7tGXmT9xspjOCumfPyAG0ZJ7RaM/s9CoonPcpj8lq/wUwsipP7txNEKdxKk/LfQrF9b/pj9LFPmsbbWjP+DiUNtgiqA/oRJJh5Zbmz9I+IMmLmyWP3pIOPqGLJI/D3ppnONijD9oOLS0kteEPw9BMOtnKHw/vVbpvgEFcT+Z110VsjdUP3EBH3VYvl6/9pBHLL1Icb+DTrH3ldh3v9wnnCVV132/8q1eMWIggb8yAyJ34kiAv6t94EDGcHm/hSVQ05bScb8cg4r98DJlv+03ig1CH06/LD3siYC9Rj+o66JLrEpiP6s4zqCzYm4/9qDavzYLdT8J9tY+aK96Py8uCLYgDIA/xVSK/sikgj/Ihms+eRuFP3xwG2aYdYc/qo7OWZy6iT/ljtuIV/SLP9LA42lmHo4/GvYEVPsekD8Xxvd0XiuRPztZdC9TOpI/Dkx4hsw8kz+YZ59zKUGUP4h/MYvrQJU/J3PdqNZBlj+E2QQYlj+XPyw0SnbwPJg/etl+S2MomT9pqmkPYgSaP58zktKmyZo/dOZWvBxsmz9DfPUrfAGcP2uIE2CkjJw/TL5YZrEXnT/hNU13VaKdPwEylfqJNZ4/\",\"dtype\":\"float64\",\"shape\":[75]},\"y\":{\"__ndarray__\":\"GhExyth1ND/Sv8nbtpRIP2vylNV0PVE/aTum7souWD/At0SJ8fVgPw3Iuahxymc/MSNhhJWvcD/bTfBN02d3P2zb5nxnaoA/CD5h5MAGhz8NmeH1TyaQP+zrCsc9p5Y/LbKd76fGnz/bLW5ISEmmPww9YvTcQq8/JV2OstnstT8Er5Y7M8G+P0c+r3jqkcU/5h99k6ZBzj88bCIzFzjVP4enV8oyxN0//yH99nXg5D8qOpLLf0jtP5kqGJXUifQ/c9cS8kHP/D+/DpwzojQEQIEmwoanVwxA4lgXt9HgE0BSSZ2AJuIbQAMJih9jjiNA5q4l5INuK0AwTKYKRj0zQNv5fmq8/DpAaCJseHrtQkB/+zpwzoxKQM3MzMzMeFJAZmZmZmZqWEAAAAAAAFxeQM3MzMzMJmJAmpmZmZkfZUBmZmZmZhhoQDMzMzMzEWtAAAAAAAAKbkBmZmZmZoFwQM3MzMzM/XFAMzMzMzN6c0CamZmZmfZ0QAAAAAAAc3ZAZmZmZmbvd0DNzMzMzGt5QDMzMzMz6HpAmpmZmZlkfEAAAAAAAOF9QGZmZmZmXX9AZmZmZuZsgECamZmZGSuBQM3MzMxM6YFAAAAAAICngkAzMzMzs2WDQGZmZmbmI4RAmpmZmRnihEDNzMzMTKCFQAAAAACAXoZAMzMzM7Mch0BmZmZm5tqHQJqZmZkZmYhAzczMzExXiUAAAAAAgBWKQDMzMzOz04pAZmZmZuaRi0CamZmZGVCMQM3MzMxMDo1AAAAAAIDMjUAzMzMzs4qOQGZmZmbmSI9A\",\"dtype\":\"float64\",\"shape\":[75]}}},\"id\":\"c29ff7d9-ba21-41fc-93ff-089d250aaa4c\",\"type\":\"ColumnDataSource\"},{\"attributes\":{\"below\":[{\"id\":\"698f0fb5-3bb8-4745-976b-349204eb402d\",\"type\":\"LinearAxis\"}],\"left\":[{\"id\":\"44b5bda5-f179-4459-93cd-afa97a6ccf04\",\"type\":\"LogAxis\"}],\"plot_height\":500,\"plot_width\":560,\"renderers\":[{\"id\":\"698f0fb5-3bb8-4745-976b-349204eb402d\",\"type\":\"LinearAxis\"},{\"id\":\"06152531-b6be-48c7-a35f-c76d7f9afff2\",\"type\":\"Grid\"},{\"id\":\"44b5bda5-f179-4459-93cd-afa97a6ccf04\",\"type\":\"LogAxis\"},{\"id\":\"8dda2836-8b25-4052-82ab-3e81f7d3fb26\",\"type\":\"Grid\"},{\"id\":\"78362924-cc43-4fdb-99a1-a9673e23d662\",\"type\":\"BoxAnnotation\"},{\"id\":\"d886c13b-4258-4c75-a955-68200a117409\",\"type\":\"GlyphRenderer\"},{\"id\":\"46160b6e-3655-4747-a758-b6d4ee7725b1\",\"type\":\"GlyphRenderer\"},{\"id\":\"5215be93-1f5b-4aed-bc80-9bc93023a439\",\"type\":\"GlyphRenderer\"},{\"id\":\"8777c27a-cc07-4dd9-91b6-50deadbb87b5\",\"type\":\"GlyphRenderer\"},{\"id\":\"3ac2ebc4-89e1-47c9-87d1-61b0bb2cae68\",\"type\":\"GlyphRenderer\"},{\"id\":\"47ebfb02-df3e-4a41-89a1-2f59644dd3d7\",\"type\":\"Legend\"}],\"right\":[{\"id\":\"47ebfb02-df3e-4a41-89a1-2f59644dd3d7\",\"type\":\"Legend\"}],\"title\":{\"id\":\"fc19a540-34a6-461d-93dc-58a4b7888311\",\"type\":\"Title\"},\"toolbar\":{\"id\":\"d178577e-45db-490f-a032-98dc6e95935d\",\"type\":\"Toolbar\"},\"toolbar_location\":null,\"x_range\":{\"id\":\"7b34a7e1-c732-42a9-8028-c625e6c15997\",\"type\":\"Range1d\"},\"x_scale\":{\"id\":\"49ba24a5-ffdc-4845-8b64-f56c4ef6f81f\",\"type\":\"LinearScale\"},\"y_range\":{\"id\":\"f1fb2f64-67c0-4b02-96db-46cde884a143\",\"type\":\"Range1d\"},\"y_scale\":{\"id\":\"12efd322-6c33-4518-bfb0-ea1b06a76d3b\",\"type\":\"LogScale\"}},\"id\":\"fcaf95ab-ca47-4734-a623-a914c929f3f5\",\"subtype\":\"Figure\",\"type\":\"Plot\"},{\"attributes\":{\"source\":{\"id\":\"c29ff7d9-ba21-41fc-93ff-089d250aaa4c\",\"type\":\"ColumnDataSource\"}},\"id\":\"8ee6d933-619b-452e-a565-4138bc47ae23\",\"type\":\"CDSView\"},{\"attributes\":{\"data_source\":{\"id\":\"c29ff7d9-ba21-41fc-93ff-089d250aaa4c\",\"type\":\"ColumnDataSource\"},\"glyph\":{\"id\":\"3262fbe4-f56b-49b3-b946-123a83d229a8\",\"type\":\"Circle\"},\"hover_glyph\":null,\"muted_glyph\":null,\"nonselection_glyph\":{\"id\":\"25375ea5-5486-4b23-b290-a24ca641b948\",\"type\":\"Circle\"},\"selection_glyph\":null,\"view\":{\"id\":\"8ee6d933-619b-452e-a565-4138bc47ae23\",\"type\":\"CDSView\"}},\"id\":\"46160b6e-3655-4747-a758-b6d4ee7725b1\",\"type\":\"GlyphRenderer\"},{\"attributes\":{\"active_drag\":\"auto\",\"active_inspect\":\"auto\",\"active_scroll\":\"auto\",\"active_tap\":\"auto\",\"tools\":[{\"id\":\"e6e2ad8d-7b91-410a-a629-c3cb7c8a6cdf\",\"type\":\"PanTool\"},{\"id\":\"61ab82c4-532b-43cf-af99-983d6427541f\",\"type\":\"WheelZoomTool\"},{\"id\":\"3a3d5ca3-c721-4049-bf6e-acd5c3e9ab6c\",\"type\":\"BoxZoomTool\"},{\"id\":\"5e99ad76-2510-4544-8a14-ab55075b7dd1\",\"type\":\"SaveTool\"},{\"id\":\"c9406229-1b07-4215-bde7-c546f217cc40\",\"type\":\"ResetTool\"},{\"id\":\"7965ed68-ddf3-4e0e-a2d5-52b296d0990b\",\"type\":\"HelpTool\"}]},\"id\":\"d178577e-45db-490f-a032-98dc6e95935d\",\"type\":\"Toolbar\"},{\"attributes\":{\"data_source\":{\"id\":\"ae607f80-679a-47b8-b935-8917efb004d9\",\"type\":\"ColumnDataSource\"},\"glyph\":{\"id\":\"644459cc-eade-4635-bd29-9ce0cdf18c0c\",\"type\":\"Line\"},\"hover_glyph\":null,\"muted_glyph\":null,\"nonselection_glyph\":{\"id\":\"615eab7f-ac8a-4cea-8886-4936df6c4027\",\"type\":\"Line\"},\"selection_glyph\":null,\"view\":{\"id\":\"e4aa26f7-d78d-4231-989f-ee03d5325515\",\"type\":\"CDSView\"}},\"id\":\"5215be93-1f5b-4aed-bc80-9bc93023a439\",\"type\":\"GlyphRenderer\"},{\"attributes\":{\"source\":{\"id\":\"bad6a9da-7a6b-47af-b658-050b9067d81c\",\"type\":\"ColumnDataSource\"}},\"id\":\"d8afcc6c-bb52-4f12-bc5f-3849c232b5da\",\"type\":\"CDSView\"},{\"attributes\":{\"plot\":null,\"text\":\"Log pressure scale\"},\"id\":\"fc19a540-34a6-461d-93dc-58a4b7888311\",\"type\":\"Title\"},{\"attributes\":{},\"id\":\"49ba24a5-ffdc-4845-8b64-f56c4ef6f81f\",\"type\":\"LinearScale\"},{\"attributes\":{\"fill_alpha\":{\"value\":0.1},\"fill_color\":{\"value\":\"#1f77b4\"},\"line_alpha\":{\"value\":0.1},\"line_color\":{\"value\":\"#1f77b4\"},\"x\":{\"field\":\"x\"},\"y\":{\"field\":\"y\"}},\"id\":\"25375ea5-5486-4b23-b290-a24ca641b948\",\"type\":\"Circle\"},{\"attributes\":{\"label\":{\"value\":\"CLIRAD `coolr_bands`\"},\"renderers\":[{\"id\":\"d886c13b-4258-4c75-a955-68200a117409\",\"type\":\"GlyphRenderer\"}]},\"id\":\"28ca9277-6d07-44cd-96df-afe2e057d6df\",\"type\":\"LegendItem\"},{\"attributes\":{\"dimension\":1,\"plot\":{\"id\":\"fcaf95ab-ca47-4734-a623-a914c929f3f5\",\"subtype\":\"Figure\",\"type\":\"Plot\"},\"ticker\":{\"id\":\"35da6f22-a7dc-49d7-94d7-0395fdfc2f68\",\"type\":\"LogTicker\"}},\"id\":\"8dda2836-8b25-4052-82ab-3e81f7d3fb26\",\"type\":\"Grid\"},{\"attributes\":{\"ticker\":null},\"id\":\"c69534a2-7ceb-4ea0-91c6-98752ab21df5\",\"type\":\"LogTickFormatter\"},{\"attributes\":{},\"id\":\"12efd322-6c33-4518-bfb0-ea1b06a76d3b\",\"type\":\"LogScale\"},{\"attributes\":{\"callback\":null,\"column_names\":[\"x\",\"y\"],\"data\":{\"x\":{\"__ndarray__\":\"Ommkvol1cT+JPIKt7QdyPzvh6ETQQHM/pq12aSyOdD/bhYGw+t11P2SuUWPeL3c/juiTycODeD9Bwh4Pj9l5PwsBNwkpMXs/iwqec0qKfD8vuqJrleR9P4IzCni+P38/MEPrC7BNgD9r7Qjr+AaBP1H0AjqvOIM/zFbPdyNdiT+Cs31EwUyRPz5stv20XpY/VoWQjunmmz9jEMov8PegP7NZ/Z9cM6Q/NF+V/j6jpz82xnHQPIGqP8WikXZHPKo/K9KaKag9qD8R7ojh51qlPzRxHS3PhqI/05E/O9Ahnz8xzp8RZ4KZP/SnGDyqApQ/ETZlCfLXjT9+dtZESgyEP+HkdfisHnc/RxdsQhlsYz/cG0Pq4g5Dv8gU0Bqp02u/yg7fdb5ndb90ON3ryWB6vw4OY8O0Hn+/tHlR+MIdgb+QyC/mpPx/v3wpFXyuCXm/vkUJ9VKDcb9wNxpeVopkv2U83/5xskm/xAKB7i5lTD+E3gxaes5rPwrT8EoQ428/euuz6Kk7dz+CccVz9tt7PyTdsjo6PIE/XiErKfjdgz+Hk57YJYiGPzalfEITKYk/hHh96suqiz9eeWlwsxqOP5p/ub+SKJA/VLJIEAtYkT++HAFH9HuSP+vRTijomJM/XikMCHS4lD/ywxPBibaVPwDKu0BLy5Y/NAHsxxnPlz+JekhPTd2YPyhilfuy7pk/ftYQb3Hamj/5+zV4Z72bP91BXqKJlpw/+lzj95pMnT/BEBsn4+qdP5rkghVZgp4/YMSG+8QZnz9C8oPvzK+fP00+onOKD6A/\",\"dtype\":\"float64\",\"shape\":[75]},\"y\":{\"__ndarray__\":\"GhExyth1ND/Sv8nbtpRIP2vylNV0PVE/aTum7souWD/At0SJ8fVgPw3Iuahxymc/MSNhhJWvcD/bTfBN02d3P2zb5nxnaoA/CD5h5MAGhz8NmeH1TyaQP+zrCsc9p5Y/LbKd76fGnz/bLW5ISEmmPww9YvTcQq8/JV2OstnstT8Er5Y7M8G+P0c+r3jqkcU/5h99k6ZBzj88bCIzFzjVP4enV8oyxN0//yH99nXg5D8qOpLLf0jtP5kqGJXUifQ/c9cS8kHP/D+/DpwzojQEQIEmwoanVwxA4lgXt9HgE0BSSZ2AJuIbQAMJih9jjiNA5q4l5INuK0AwTKYKRj0zQNv5fmq8/DpAaCJseHrtQkB/+zpwzoxKQM3MzMzMeFJAZmZmZmZqWEAAAAAAAFxeQM3MzMzMJmJAmpmZmZkfZUBmZmZmZhhoQDMzMzMzEWtAAAAAAAAKbkBmZmZmZoFwQM3MzMzM/XFAMzMzMzN6c0CamZmZmfZ0QAAAAAAAc3ZAZmZmZmbvd0DNzMzMzGt5QDMzMzMz6HpAmpmZmZlkfEAAAAAAAOF9QGZmZmZmXX9AZmZmZuZsgECamZmZGSuBQM3MzMxM6YFAAAAAAICngkAzMzMzs2WDQGZmZmbmI4RAmpmZmRnihEDNzMzMTKCFQAAAAACAXoZAMzMzM7Mch0BmZmZm5tqHQJqZmZkZmYhAzczMzExXiUAAAAAAgBWKQDMzMzOz04pAZmZmZuaRi0CamZmZGVCMQM3MzMxMDo1AAAAAAIDMjUAzMzMzs4qOQGZmZmbmSI9A\",\"dtype\":\"float64\",\"shape\":[75]}}},\"id\":\"12c42367-5915-4835-b120-aff5bc470f0e\",\"type\":\"ColumnDataSource\"},{\"attributes\":{\"callback\":null,\"column_names\":[\"x\",\"y\"],\"data\":{\"x\":{\"__ndarray__\":\"emkAvgmAQz+rVEfuGcVIP8wcT2JQ4VE/lUY+Qty7Vz/V8yALeY5dPwB0LyeVpmE/lrN3RluVZD8So3bm9rdhP2nG6uOdW2o/v1Jtolw7bT9QXV992u5vP/uOreT0R3E/AxnYJ5uScj/CWuHHpMBzP3f4B2NmjHc/U8W+cOiegj/l2sz4KVSMP7I56MHGvZM/I8pJ7tGXmT9xspjOCumfPyAG0ZJ7RaM/s9CoonPcpj8lq/wUwsipP7txNEKdxKk/LfQrF9b/pj9LFPmsbbWjP+DiUNtgiqA/oRJJh5Zbmz9I+IMmLmyWP3pIOPqGLJI/D3ppnONijD9oOLS0kteEPw9BMOtnKHw/vVbpvgEFcT+Z110VsjdUP3EBH3VYvl6/9pBHLL1Icb+DTrH3ldh3v9wnnCVV132/8q1eMWIggb8yAyJ34kiAv6t94EDGcHm/hSVQ05bScb8cg4r98DJlv+03ig1CH06/LD3siYC9Rj+o66JLrEpiP6s4zqCzYm4/9qDavzYLdT8J9tY+aK96Py8uCLYgDIA/xVSK/sikgj/Ihms+eRuFP3xwG2aYdYc/qo7OWZy6iT/ljtuIV/SLP9LA42lmHo4/GvYEVPsekD8Xxvd0XiuRPztZdC9TOpI/Dkx4hsw8kz+YZ59zKUGUP4h/MYvrQJU/J3PdqNZBlj+E2QQYlj+XPyw0SnbwPJg/etl+S2MomT9pqmkPYgSaP58zktKmyZo/dOZWvBxsmz9DfPUrfAGcP2uIE2CkjJw/TL5YZrEXnT/hNU13VaKdPwEylfqJNZ4/\",\"dtype\":\"float64\",\"shape\":[75]},\"y\":{\"__ndarray__\":\"GhExyth1ND/Sv8nbtpRIP2vylNV0PVE/aTum7souWD/At0SJ8fVgPw3Iuahxymc/MSNhhJWvcD/bTfBN02d3P2zb5nxnaoA/CD5h5MAGhz8NmeH1TyaQP+zrCsc9p5Y/LbKd76fGnz/bLW5ISEmmPww9YvTcQq8/JV2OstnstT8Er5Y7M8G+P0c+r3jqkcU/5h99k6ZBzj88bCIzFzjVP4enV8oyxN0//yH99nXg5D8qOpLLf0jtP5kqGJXUifQ/c9cS8kHP/D+/DpwzojQEQIEmwoanVwxA4lgXt9HgE0BSSZ2AJuIbQAMJih9jjiNA5q4l5INuK0AwTKYKRj0zQNv5fmq8/DpAaCJseHrtQkB/+zpwzoxKQM3MzMzMeFJAZmZmZmZqWEAAAAAAAFxeQM3MzMzMJmJAmpmZmZkfZUBmZmZmZhhoQDMzMzMzEWtAAAAAAAAKbkBmZmZmZoFwQM3MzMzM/XFAMzMzMzN6c0CamZmZmfZ0QAAAAAAAc3ZAZmZmZmbvd0DNzMzMzGt5QDMzMzMz6HpAmpmZmZlkfEAAAAAAAOF9QGZmZmZmXX9AZmZmZuZsgECamZmZGSuBQM3MzMxM6YFAAAAAAICngkAzMzMzs2WDQGZmZmbmI4RAmpmZmRnihEDNzMzMTKCFQAAAAACAXoZAMzMzM7Mch0BmZmZm5tqHQJqZmZkZmYhAzczMzExXiUAAAAAAgBWKQDMzMzOz04pAZmZmZuaRi0CamZmZGVCMQM3MzMxMDo1AAAAAAIDMjUAzMzMzs4qOQGZmZmbmSI9A\",\"dtype\":\"float64\",\"shape\":[75]}}},\"id\":\"ae607f80-679a-47b8-b935-8917efb004d9\",\"type\":\"ColumnDataSource\"},{\"attributes\":{\"callback\":null,\"column_names\":[\"x\",\"y\"],\"data\":{\"x\":{\"__ndarray__\":\"Ommkvol1cT+JPIKt7QdyPzvh6ETQQHM/pq12aSyOdD/bhYGw+t11P2SuUWPeL3c/juiTycODeD9Bwh4Pj9l5PwsBNwkpMXs/iwqec0qKfD8vuqJrleR9P4IzCni+P38/MEPrC7BNgD9r7Qjr+AaBP1H0AjqvOIM/zFbPdyNdiT+Cs31EwUyRPz5stv20XpY/VoWQjunmmz9jEMov8PegP7NZ/Z9cM6Q/NF+V/j6jpz82xnHQPIGqP8WikXZHPKo/K9KaKag9qD8R7ojh51qlPzRxHS3PhqI/05E/O9Ahnz8xzp8RZ4KZP/SnGDyqApQ/ETZlCfLXjT9+dtZESgyEP+HkdfisHnc/RxdsQhlsYz/cG0Pq4g5Dv8gU0Bqp02u/yg7fdb5ndb90ON3ryWB6vw4OY8O0Hn+/tHlR+MIdgb+QyC/mpPx/v3wpFXyuCXm/vkUJ9VKDcb9wNxpeVopkv2U83/5xskm/xAKB7i5lTD+E3gxaes5rPwrT8EoQ428/euuz6Kk7dz+CccVz9tt7PyTdsjo6PIE/XiErKfjdgz+Hk57YJYiGPzalfEITKYk/hHh96suqiz9eeWlwsxqOP5p/ub+SKJA/VLJIEAtYkT++HAFH9HuSP+vRTijomJM/XikMCHS4lD/ywxPBibaVPwDKu0BLy5Y/NAHsxxnPlz+JekhPTd2YPyhilfuy7pk/ftYQb3Hamj/5+zV4Z72bP91BXqKJlpw/+lzj95pMnT/BEBsn4+qdP5rkghVZgp4/YMSG+8QZnz9C8oPvzK+fP00+onOKD6A/\",\"dtype\":\"float64\",\"shape\":[75]},\"y\":{\"__ndarray__\":\"GhExyth1ND/Sv8nbtpRIP2vylNV0PVE/aTum7souWD/At0SJ8fVgPw3Iuahxymc/MSNhhJWvcD/bTfBN02d3P2zb5nxnaoA/CD5h5MAGhz8NmeH1TyaQP+zrCsc9p5Y/LbKd76fGnz/bLW5ISEmmPww9YvTcQq8/JV2OstnstT8Er5Y7M8G+P0c+r3jqkcU/5h99k6ZBzj88bCIzFzjVP4enV8oyxN0//yH99nXg5D8qOpLLf0jtP5kqGJXUifQ/c9cS8kHP/D+/DpwzojQEQIEmwoanVwxA4lgXt9HgE0BSSZ2AJuIbQAMJih9jjiNA5q4l5INuK0AwTKYKRj0zQNv5fmq8/DpAaCJseHrtQkB/+zpwzoxKQM3MzMzMeFJAZmZmZmZqWEAAAAAAAFxeQM3MzMzMJmJAmpmZmZkfZUBmZmZmZhhoQDMzMzMzEWtAAAAAAAAKbkBmZmZmZoFwQM3MzMzM/XFAMzMzMzN6c0CamZmZmfZ0QAAAAAAAc3ZAZmZmZmbvd0DNzMzMzGt5QDMzMzMz6HpAmpmZmZlkfEAAAAAAAOF9QGZmZmZmXX9AZmZmZuZsgECamZmZGSuBQM3MzMxM6YFAAAAAAICngkAzMzMzs2WDQGZmZmbmI4RAmpmZmRnihEDNzMzMTKCFQAAAAACAXoZAMzMzM7Mch0BmZmZm5tqHQJqZmZkZmYhAzczMzExXiUAAAAAAgBWKQDMzMzOz04pAZmZmZuaRi0CamZmZGVCMQM3MzMxMDo1AAAAAAIDMjUAzMzMzs4qOQGZmZmbmSI9A\",\"dtype\":\"float64\",\"shape\":[75]}}},\"id\":\"7b1be84d-4977-4415-b0ee-ef75b2602bd4\",\"type\":\"ColumnDataSource\"},{\"attributes\":{\"line_color\":\"#4daf4a\",\"line_width\":1.5,\"x\":{\"field\":\"x\"},\"y\":{\"field\":\"y\"}},\"id\":\"644459cc-eade-4635-bd29-9ce0cdf18c0c\",\"type\":\"Line\"},{\"attributes\":{\"line_alpha\":0.1,\"line_color\":\"#1f77b4\",\"line_width\":1.5,\"x\":{\"field\":\"x\"},\"y\":{\"field\":\"y\"}},\"id\":\"615eab7f-ac8a-4cea-8886-4936df6c4027\",\"type\":\"Line\"},{\"attributes\":{},\"id\":\"2130f16d-854f-4a18-b300-a25994a9d226\",\"type\":\"BasicTicker\"},{\"attributes\":{\"callback\":null,\"column_names\":[\"x\",\"y\"],\"data\":{\"x\":{\"__ndarray__\":\"Ommkvol1cT+JPIKt7QdyPzvh6ETQQHM/pq12aSyOdD/bhYGw+t11P2SuUWPeL3c/juiTycODeD9Bwh4Pj9l5PwsBNwkpMXs/iwqec0qKfD8vuqJrleR9P4IzCni+P38/MEPrC7BNgD9r7Qjr+AaBP1H0AjqvOIM/zFbPdyNdiT+Cs31EwUyRPz5stv20XpY/VoWQjunmmz9jEMov8PegP7NZ/Z9cM6Q/NF+V/j6jpz82xnHQPIGqP8WikXZHPKo/K9KaKag9qD8R7ojh51qlPzRxHS3PhqI/05E/O9Ahnz8xzp8RZ4KZP/SnGDyqApQ/ETZlCfLXjT9+dtZESgyEP+HkdfisHnc/RxdsQhlsYz/cG0Pq4g5Dv8gU0Bqp02u/yg7fdb5ndb90ON3ryWB6vw4OY8O0Hn+/tHlR+MIdgb+QyC/mpPx/v3wpFXyuCXm/vkUJ9VKDcb9wNxpeVopkv2U83/5xskm/xAKB7i5lTD+E3gxaes5rPwrT8EoQ428/euuz6Kk7dz+CccVz9tt7PyTdsjo6PIE/XiErKfjdgz+Hk57YJYiGPzalfEITKYk/hHh96suqiz9eeWlwsxqOP5p/ub+SKJA/VLJIEAtYkT++HAFH9HuSP+vRTijomJM/XikMCHS4lD/ywxPBibaVPwDKu0BLy5Y/NAHsxxnPlz+JekhPTd2YPyhilfuy7pk/ftYQb3Hamj/5+zV4Z72bP91BXqKJlpw/+lzj95pMnT/BEBsn4+qdP5rkghVZgp4/YMSG+8QZnz9C8oPvzK+fP00+onOKD6A/\",\"dtype\":\"float64\",\"shape\":[75]},\"y\":{\"__ndarray__\":\"GhExyth1ND/Sv8nbtpRIP2vylNV0PVE/aTum7souWD/At0SJ8fVgPw3Iuahxymc/MSNhhJWvcD/bTfBN02d3P2zb5nxnaoA/CD5h5MAGhz8NmeH1TyaQP+zrCsc9p5Y/LbKd76fGnz/bLW5ISEmmPww9YvTcQq8/JV2OstnstT8Er5Y7M8G+P0c+r3jqkcU/5h99k6ZBzj88bCIzFzjVP4enV8oyxN0//yH99nXg5D8qOpLLf0jtP5kqGJXUifQ/c9cS8kHP/D+/DpwzojQEQIEmwoanVwxA4lgXt9HgE0BSSZ2AJuIbQAMJih9jjiNA5q4l5INuK0AwTKYKRj0zQNv5fmq8/DpAaCJseHrtQkB/+zpwzoxKQM3MzMzMeFJAZmZmZmZqWEAAAAAAAFxeQM3MzMzMJmJAmpmZmZkfZUBmZmZmZhhoQDMzMzMzEWtAAAAAAAAKbkBmZmZmZoFwQM3MzMzM/XFAMzMzMzN6c0CamZmZmfZ0QAAAAAAAc3ZAZmZmZmbvd0DNzMzMzGt5QDMzMzMz6HpAmpmZmZlkfEAAAAAAAOF9QGZmZmZmXX9AZmZmZuZsgECamZmZGSuBQM3MzMxM6YFAAAAAAICngkAzMzMzs2WDQGZmZmbmI4RAmpmZmRnihEDNzMzMTKCFQAAAAACAXoZAMzMzM7Mch0BmZmZm5tqHQJqZmZkZmYhAzczMzExXiUAAAAAAgBWKQDMzMzOz04pAZmZmZuaRi0CamZmZGVCMQM3MzMxMDo1AAAAAAIDMjUAzMzMzs4qOQGZmZmbmSI9A\",\"dtype\":\"float64\",\"shape\":[75]}}},\"id\":\"8deff2af-f47a-42ac-a8a4-b1231d15fbec\",\"type\":\"ColumnDataSource\"},{\"attributes\":{\"callback\":null,\"end\":0.01,\"start\":1020},\"id\":\"f1fb2f64-67c0-4b02-96db-46cde884a143\",\"type\":\"Range1d\"},{\"attributes\":{\"source\":{\"id\":\"ae607f80-679a-47b8-b935-8917efb004d9\",\"type\":\"ColumnDataSource\"}},\"id\":\"e4aa26f7-d78d-4231-989f-ee03d5325515\",\"type\":\"CDSView\"},{\"attributes\":{\"data_source\":{\"id\":\"9b3fc1bb-7864-4021-9efb-15ed5c209537\",\"type\":\"ColumnDataSource\"},\"glyph\":{\"id\":\"2ddabc27-1bb4-43d1-bc9e-08f7288bf275\",\"type\":\"Line\"},\"hover_glyph\":null,\"muted_glyph\":null,\"nonselection_glyph\":{\"id\":\"2ea5c178-037d-4924-99de-c2e5b58451d7\",\"type\":\"Line\"},\"selection_glyph\":null,\"view\":{\"id\":\"050397e8-3579-4dd4-a576-8b7faf419f0e\",\"type\":\"CDSView\"}},\"id\":\"d886c13b-4258-4c75-a955-68200a117409\",\"type\":\"GlyphRenderer\"},{\"attributes\":{\"callback\":null,\"column_names\":[\"x\",\"y\"],\"data\":{\"x\":{\"__ndarray__\":\"8F/Nv2Vnuj8AAAAAAAAAAAAAAAAAAAAAAAAAAAAAAADXN75jacGnPwAAAAAAAAAAAAAAAAAAAAAAAAAAAAAAADIM+gAUi5g/AAAAAAAAAAAeZuYEmPKIPxeGteEKyXE/YadqGMRbiT8Wg+0CCh57P+XVJyOoxnk/GqFE8GTcjT+azf+Fx3mNP0l2p2bPmJU/2dG0m0s3mj9hvqNjWt2eP3zPzLzqO6M/7o9n/1LypT8pn0tcuo6oP4YdCMGR3ag/uphIZH3Vpj9+TXF9oUWkP6oodQHjpKE/aWoWvncBnj9OlZkZ0OeYP24Tp8Dt/JM/rWva44otjj9G1lBh4lOEP1fCZsInhHc/crbKXZVVYj8fmEkdFYdOvyyitKSU8W6/FmHN/H9gd7+agwg+qyh8vxW4Wr4lLYC/hl6VQNBugb+kT6mexTyAv/TR5/z74Hm/S8f7/RKUcr/buPyBFv1mv58VE0IgQ1K/HvV7ws2vQD9pIN2iqEBhPwI2VMbn4G0/jFzH4j0adT8GTVUeABh7PyzUkr70ZYA/MM5XASkugz8dxE2UJNKFP6oducZLXYg/uk5vu9rOij+kjMrj7zKNP0LTPav/hY8/bvP5OgbqkD9MJScGjQiSP3cdoriAI5M/EFSfQck4lD/DLYzld0mVP1MzLMXcVZY/Dkbiocxflz8sK5QfzWWYP4XGDIe3ZJk/r/Ek3yhWmj9FN5Bo4TabP+5BT50j/5s/x00cX8ytnD+4AtUCJUydP0qCm4Vw3p0/yA+IHMpsnj96vOnGVvieP2JGhaUSgp8/\",\"dtype\":\"float64\",\"shape\":[75]},\"y\":{\"__ndarray__\":\"S/O/Q+51ND/430zAtpRIP2vylNV0PVE/QxsjCssuWD/TR4Z78fVgP+inNsRxymc/OuuBfZWvcD/u3TFA02d3P2d3VoBnaoA/CD5h5MAGhz/1pA8HUCaQP+zrCsc9p5Y/Fb7LAKjGnz/nJ9c/SEmmPwBD+fzcQq8/FOZwv9nstT8Er5Y7M8G+P0c+r3jqkcU/yK72qKZBzj+tM989FzjVPxbgmr8yxN0/cOm5AXbg5D+5ctXAf0jtP5kqGJXUifQ/DsrqDELP/D8MCAhBojQEQDItVnmnVwxAiFXNvdHgE0BSSZ2AJuIbQAMJih9jjiNA5q4l5INuK0CPVN/5RT0zQHzxRXu8/DpAOZ7PgHrtQkAg8wGBzoxKQBSTN8DMeFJA2NmQf2ZqWEAAAAAAAFxeQEQX1LfMJmJAmpmZmZkfZUBmZmZmZhhoQLzoK0gzEWtAAAAAAAAKbkCiC+pbZoFwQAhyUMLM/XFA+I2vPTN6c0AQ5KCEmfZ0QAAAAAAAc3ZA8Btfe2bvd0AIclDCzGt5QPeNrz0z6HpAEOSghJlkfEAAAAAAAOF9QKML6ltmXX9ABTkoYeZsgED7xteeGSuBQAhyUMJM6YFAAAAAAICngkD4ja89s2WDQAU5KGHmI4RA+8bXnhnihEAIclDCTKCFQAAAAACAXoZA+I2vPbMch0AFOShh5tqHQPvG154ZmYhACHJQwkxXiUAAAAAAgBWKQPeNrz2z04pABTkoYeaRi0D7xteeGVCMQAlyUMJMDo1AAAAAAIDMjUD3ja89s4qOQGZmZmbmSI9A\",\"dtype\":\"float64\",\"shape\":[75]}}},\"id\":\"9b3fc1bb-7864-4021-9efb-15ed5c209537\",\"type\":\"ColumnDataSource\"},{\"attributes\":{\"fill_alpha\":{\"value\":0.7},\"fill_color\":{\"value\":\"#984ea3\"},\"line_alpha\":{\"value\":0.7},\"line_color\":{\"value\":\"#984ea3\"},\"x\":{\"field\":\"x\"},\"y\":{\"field\":\"y\"}},\"id\":\"ff6bc834-2fc0-405d-90fc-c1dd455b22ea\",\"type\":\"Square\"},{\"attributes\":{\"axis_label\":\"cooling rate [K/day]\",\"formatter\":{\"id\":\"2e0c0989-a476-4376-b45f-1d32faf1a395\",\"type\":\"BasicTickFormatter\"},\"plot\":{\"id\":\"fcaf95ab-ca47-4734-a623-a914c929f3f5\",\"subtype\":\"Figure\",\"type\":\"Plot\"},\"ticker\":{\"id\":\"2130f16d-854f-4a18-b300-a25994a9d226\",\"type\":\"BasicTicker\"}},\"id\":\"698f0fb5-3bb8-4745-976b-349204eb402d\",\"type\":\"LinearAxis\"},{\"attributes\":{\"callback\":null,\"end\":0.052370048254999996,\"start\":-0.009114935155},\"id\":\"7b34a7e1-c732-42a9-8028-c625e6c15997\",\"type\":\"Range1d\"},{\"attributes\":{},\"id\":\"b2675d4e-e188-4fd3-a154-63be237c615e\",\"type\":\"BasicTickFormatter\"},{\"attributes\":{\"fill_alpha\":{\"value\":0.1},\"fill_color\":{\"value\":\"#1f77b4\"},\"line_alpha\":{\"value\":0.1},\"line_color\":{\"value\":\"#1f77b4\"},\"x\":{\"field\":\"x\"},\"y\":{\"field\":\"y\"}},\"id\":\"10f8568a-52e1-4fdd-8ddf-4d86f4c36106\",\"type\":\"Square\"},{\"attributes\":{\"data_source\":{\"id\":\"12c42367-5915-4835-b120-aff5bc470f0e\",\"type\":\"ColumnDataSource\"},\"glyph\":{\"id\":\"ff6bc834-2fc0-405d-90fc-c1dd455b22ea\",\"type\":\"Square\"},\"hover_glyph\":null,\"muted_glyph\":null,\"nonselection_glyph\":{\"id\":\"10f8568a-52e1-4fdd-8ddf-4d86f4c36106\",\"type\":\"Square\"},\"selection_glyph\":null,\"view\":{\"id\":\"978bb1ad-5a26-4ed3-ba6b-2e1fc07cec14\",\"type\":\"CDSView\"}},\"id\":\"8777c27a-cc07-4dd9-91b6-50deadbb87b5\",\"type\":\"GlyphRenderer\"},{\"attributes\":{\"plot\":{\"id\":\"fcaf95ab-ca47-4734-a623-a914c929f3f5\",\"subtype\":\"Figure\",\"type\":\"Plot\"},\"ticker\":{\"id\":\"2130f16d-854f-4a18-b300-a25994a9d226\",\"type\":\"BasicTicker\"}},\"id\":\"06152531-b6be-48c7-a35f-c76d7f9afff2\",\"type\":\"Grid\"},{\"attributes\":{\"source\":{\"id\":\"12c42367-5915-4835-b120-aff5bc470f0e\",\"type\":\"ColumnDataSource\"}},\"id\":\"978bb1ad-5a26-4ed3-ba6b-2e1fc07cec14\",\"type\":\"CDSView\"},{\"attributes\":{\"line_alpha\":0.6,\"line_color\":\"#984ea3\",\"line_width\":3,\"x\":{\"field\":\"x\"},\"y\":{\"field\":\"y\"}},\"id\":\"5dfa1e2a-181d-4be3-ad46-805f48ca5c93\",\"type\":\"Line\"},{\"attributes\":{\"label\":{\"value\":\"CRD\"},\"renderers\":[{\"id\":\"46160b6e-3655-4747-a758-b6d4ee7725b1\",\"type\":\"GlyphRenderer\"},{\"id\":\"5215be93-1f5b-4aed-bc80-9bc93023a439\",\"type\":\"GlyphRenderer\"}]},\"id\":\"0c24db6e-6865-4677-b901-72695737f363\",\"type\":\"LegendItem\"},{\"attributes\":{\"line_alpha\":0.1,\"line_color\":\"#1f77b4\",\"line_width\":3,\"x\":{\"field\":\"x\"},\"y\":{\"field\":\"y\"}},\"id\":\"787d10c7-3545-4e6a-a382-c63e23b6949f\",\"type\":\"Line\"},{\"attributes\":{\"data_source\":{\"id\":\"bad6a9da-7a6b-47af-b658-050b9067d81c\",\"type\":\"ColumnDataSource\"},\"glyph\":{\"id\":\"d2b14bae-1ded-489d-94d4-9ed0da1d385e\",\"type\":\"Line\"},\"hover_glyph\":null,\"muted_glyph\":null,\"nonselection_glyph\":{\"id\":\"e2638f85-def6-4c84-a616-7cd5fb239568\",\"type\":\"Line\"},\"selection_glyph\":null,\"view\":{\"id\":\"d8afcc6c-bb52-4f12-bc5f-3849c232b5da\",\"type\":\"CDSView\"}},\"id\":\"b72e2406-32bd-4e24-bd6a-f2ba90455c64\",\"type\":\"GlyphRenderer\"},{\"attributes\":{\"data_source\":{\"id\":\"8deff2af-f47a-42ac-a8a4-b1231d15fbec\",\"type\":\"ColumnDataSource\"},\"glyph\":{\"id\":\"5dfa1e2a-181d-4be3-ad46-805f48ca5c93\",\"type\":\"Line\"},\"hover_glyph\":null,\"muted_glyph\":null,\"nonselection_glyph\":{\"id\":\"787d10c7-3545-4e6a-a382-c63e23b6949f\",\"type\":\"Line\"},\"selection_glyph\":null,\"view\":{\"id\":\"8646d4cb-e4ac-4bb5-b70a-549fea0bb241\",\"type\":\"CDSView\"}},\"id\":\"3ac2ebc4-89e1-47c9-87d1-61b0bb2cae68\",\"type\":\"GlyphRenderer\"},{\"attributes\":{\"source\":{\"id\":\"8deff2af-f47a-42ac-a8a4-b1231d15fbec\",\"type\":\"ColumnDataSource\"}},\"id\":\"8646d4cb-e4ac-4bb5-b70a-549fea0bb241\",\"type\":\"CDSView\"},{\"attributes\":{\"toolbar\":{\"id\":\"8cfd3857-7260-4120-a3e4-a2f36542a00c\",\"type\":\"ProxyToolbar\"},\"toolbar_location\":\"above\"},\"id\":\"0b846ace-be9a-4456-a07b-014adecb53cc\",\"type\":\"ToolbarBox\"},{\"attributes\":{},\"id\":\"5e99ad76-2510-4544-8a14-ab55075b7dd1\",\"type\":\"SaveTool\"},{\"attributes\":{\"line_alpha\":0.6,\"line_color\":\"#984ea3\",\"line_width\":3,\"x\":{\"field\":\"x\"},\"y\":{\"field\":\"y\"}},\"id\":\"d2b14bae-1ded-489d-94d4-9ed0da1d385e\",\"type\":\"Line\"},{\"attributes\":{\"label\":{\"value\":\"WGT igg=10 wgt_flux=2\"},\"renderers\":[{\"id\":\"8777c27a-cc07-4dd9-91b6-50deadbb87b5\",\"type\":\"GlyphRenderer\"},{\"id\":\"3ac2ebc4-89e1-47c9-87d1-61b0bb2cae68\",\"type\":\"GlyphRenderer\"}]},\"id\":\"5bb1597e-6668-4fda-8a6a-e2127cd4da59\",\"type\":\"LegendItem\"},{\"attributes\":{\"children\":[{\"id\":\"0b846ace-be9a-4456-a07b-014adecb53cc\",\"type\":\"ToolbarBox\"},{\"id\":\"1b698e6a-9d50-404a-96ce-1233f44efc37\",\"type\":\"Column\"}]},\"id\":\"e11bfe35-f2b9-49bd-af41-e93605b459ee\",\"type\":\"Column\"},{\"attributes\":{\"children\":[{\"id\":\"e46f92dc-af50-4ee8-94c3-8b0b73f0434a\",\"type\":\"Row\"}]},\"id\":\"1b698e6a-9d50-404a-96ce-1233f44efc37\",\"type\":\"Column\"},{\"attributes\":{\"tools\":[{\"id\":\"20765887-0dc4-423d-b7ce-552896865759\",\"type\":\"PanTool\"},{\"id\":\"0c336759-e107-443e-9e5c-81083ca563b1\",\"type\":\"WheelZoomTool\"},{\"id\":\"e7099c7e-8aa3-48f0-9f41-c64864d36882\",\"type\":\"BoxZoomTool\"},{\"id\":\"15c7b04a-76c7-4655-be2b-3407a8e25acf\",\"type\":\"SaveTool\"},{\"id\":\"a29c9fd6-4528-4266-9729-8136d1ab2e0b\",\"type\":\"ResetTool\"},{\"id\":\"dc70c3f2-88bb-4164-8f18-7966403d3c28\",\"type\":\"HelpTool\"},{\"id\":\"e6e2ad8d-7b91-410a-a629-c3cb7c8a6cdf\",\"type\":\"PanTool\"},{\"id\":\"61ab82c4-532b-43cf-af99-983d6427541f\",\"type\":\"WheelZoomTool\"},{\"id\":\"3a3d5ca3-c721-4049-bf6e-acd5c3e9ab6c\",\"type\":\"BoxZoomTool\"},{\"id\":\"5e99ad76-2510-4544-8a14-ab55075b7dd1\",\"type\":\"SaveTool\"},{\"id\":\"c9406229-1b07-4215-bde7-c546f217cc40\",\"type\":\"ResetTool\"},{\"id\":\"7965ed68-ddf3-4e0e-a2d5-52b296d0990b\",\"type\":\"HelpTool\"}]},\"id\":\"8cfd3857-7260-4120-a3e4-a2f36542a00c\",\"type\":\"ProxyToolbar\"},{\"attributes\":{\"line_alpha\":0.6,\"line_color\":\"#e41a1c\",\"line_dash\":[6],\"line_width\":5,\"x\":{\"field\":\"x\"},\"y\":{\"field\":\"y\"}},\"id\":\"2ddabc27-1bb4-43d1-bc9e-08f7288bf275\",\"type\":\"Line\"},{\"attributes\":{\"callback\":null,\"end\":0.031767374183,\"start\":-0.008910948283},\"id\":\"97dd5043-d516-446f-aa2f-6e0f3f94218c\",\"type\":\"Range1d\"},{\"attributes\":{\"bottom_units\":\"screen\",\"fill_alpha\":{\"value\":0.5},\"fill_color\":{\"value\":\"lightgrey\"},\"left_units\":\"screen\",\"level\":\"overlay\",\"line_alpha\":{\"value\":1.0},\"line_color\":{\"value\":\"black\"},\"line_dash\":[4,4],\"line_width\":{\"value\":2},\"plot\":null,\"render_mode\":\"css\",\"right_units\":\"screen\",\"top_units\":\"screen\"},\"id\":\"78362924-cc43-4fdb-99a1-a9673e23d662\",\"type\":\"BoxAnnotation\"},{\"attributes\":{\"fill_alpha\":{\"value\":0.7},\"fill_color\":{\"value\":\"#984ea3\"},\"line_alpha\":{\"value\":0.7},\"line_color\":{\"value\":\"#984ea3\"},\"x\":{\"field\":\"x\"},\"y\":{\"field\":\"y\"}},\"id\":\"8ed3d322-aa12-43c3-ac39-4b82038e1036\",\"type\":\"Square\"},{\"attributes\":{\"fill_alpha\":{\"value\":0.1},\"fill_color\":{\"value\":\"#1f77b4\"},\"line_alpha\":{\"value\":0.1},\"line_color\":{\"value\":\"#1f77b4\"},\"x\":{\"field\":\"x\"},\"y\":{\"field\":\"y\"}},\"id\":\"4ab20786-a83a-4645-a4f9-fedd3da92203\",\"type\":\"Square\"},{\"attributes\":{\"overlay\":{\"id\":\"78362924-cc43-4fdb-99a1-a9673e23d662\",\"type\":\"BoxAnnotation\"}},\"id\":\"3a3d5ca3-c721-4049-bf6e-acd5c3e9ab6c\",\"type\":\"BoxZoomTool\"},{\"attributes\":{\"source\":{\"id\":\"7b1be84d-4977-4415-b0ee-ef75b2602bd4\",\"type\":\"ColumnDataSource\"}},\"id\":\"0c812c1b-e7b1-43e1-ae54-ddf475cc7660\",\"type\":\"CDSView\"},{\"attributes\":{\"children\":[{\"id\":\"3594e19d-b141-4a3e-bc3d-01ae9225cafd\",\"subtype\":\"Figure\",\"type\":\"Plot\"},{\"id\":\"fcaf95ab-ca47-4734-a623-a914c929f3f5\",\"subtype\":\"Figure\",\"type\":\"Plot\"}]},\"id\":\"e46f92dc-af50-4ee8-94c3-8b0b73f0434a\",\"type\":\"Row\"},{\"attributes\":{\"data_source\":{\"id\":\"7b1be84d-4977-4415-b0ee-ef75b2602bd4\",\"type\":\"ColumnDataSource\"},\"glyph\":{\"id\":\"8ed3d322-aa12-43c3-ac39-4b82038e1036\",\"type\":\"Square\"},\"hover_glyph\":null,\"muted_glyph\":null,\"nonselection_glyph\":{\"id\":\"4ab20786-a83a-4645-a4f9-fedd3da92203\",\"type\":\"Square\"},\"selection_glyph\":null,\"view\":{\"id\":\"0c812c1b-e7b1-43e1-ae54-ddf475cc7660\",\"type\":\"CDSView\"}},\"id\":\"425da6ab-2a80-4eda-997c-5c39f56bd583\",\"type\":\"GlyphRenderer\"},{\"attributes\":{\"fill_alpha\":{\"value\":0.1},\"fill_color\":{\"value\":\"#1f77b4\"},\"line_alpha\":{\"value\":0.1},\"line_color\":{\"value\":\"#1f77b4\"},\"x\":{\"field\":\"x\"},\"y\":{\"field\":\"y\"}},\"id\":\"c3c304e0-bd15-47bc-b44b-99d62e018bcc\",\"type\":\"Circle\"},{\"attributes\":{},\"id\":\"2e0c0989-a476-4376-b45f-1d32faf1a395\",\"type\":\"BasicTickFormatter\"},{\"attributes\":{\"line_alpha\":0.6,\"line_color\":\"#e41a1c\",\"line_dash\":[6],\"line_width\":5,\"x\":{\"field\":\"x\"},\"y\":{\"field\":\"y\"}},\"id\":\"4513c166-a1e1-4f66-9886-59ba823232bc\",\"type\":\"Line\"},{\"attributes\":{\"source\":{\"id\":\"9b3fc1bb-7864-4021-9efb-15ed5c209537\",\"type\":\"ColumnDataSource\"}},\"id\":\"050397e8-3579-4dd4-a576-8b7faf419f0e\",\"type\":\"CDSView\"},{\"attributes\":{\"line_alpha\":0.1,\"line_color\":\"#1f77b4\",\"line_width\":3,\"x\":{\"field\":\"x\"},\"y\":{\"field\":\"y\"}},\"id\":\"e2638f85-def6-4c84-a616-7cd5fb239568\",\"type\":\"Line\"},{\"attributes\":{\"items\":[{\"id\":\"28ca9277-6d07-44cd-96df-afe2e057d6df\",\"type\":\"LegendItem\"},{\"id\":\"0c24db6e-6865-4677-b901-72695737f363\",\"type\":\"LegendItem\"},{\"id\":\"5bb1597e-6668-4fda-8a6a-e2127cd4da59\",\"type\":\"LegendItem\"}],\"label_text_font_size\":{\"value\":\"8pt\"},\"location\":[10,-30],\"plot\":{\"id\":\"fcaf95ab-ca47-4734-a623-a914c929f3f5\",\"subtype\":\"Figure\",\"type\":\"Plot\"}},\"id\":\"47ebfb02-df3e-4a41-89a1-2f59644dd3d7\",\"type\":\"Legend\"},{\"attributes\":{},\"id\":\"e6e2ad8d-7b91-410a-a629-c3cb7c8a6cdf\",\"type\":\"PanTool\"},{\"attributes\":{\"line_alpha\":0.1,\"line_color\":\"#1f77b4\",\"line_dash\":[6],\"line_width\":5,\"x\":{\"field\":\"x\"},\"y\":{\"field\":\"y\"}},\"id\":\"2ea5c178-037d-4924-99de-c2e5b58451d7\",\"type\":\"Line\"},{\"attributes\":{},\"id\":\"61ab82c4-532b-43cf-af99-983d6427541f\",\"type\":\"WheelZoomTool\"},{\"attributes\":{\"data_source\":{\"id\":\"a0e9922f-9de7-49be-baa3-f6b8e56b6a74\",\"type\":\"ColumnDataSource\"},\"glyph\":{\"id\":\"3c3e9e03-4159-4601-a541-e84aeaa4a2bc\",\"type\":\"Line\"},\"hover_glyph\":null,\"muted_glyph\":null,\"nonselection_glyph\":{\"id\":\"9dfee60c-3a5e-419f-8eaa-c015d3057b6d\",\"type\":\"Line\"},\"selection_glyph\":null,\"view\":{\"id\":\"33be8d43-5c7d-4317-b2e3-b521418eb506\",\"type\":\"CDSView\"}},\"id\":\"230751cf-f2f3-407a-8187-ef1a7fe6d168\",\"type\":\"GlyphRenderer\"}],\"root_ids\":[\"e11bfe35-f2b9-49bd-af41-e93605b459ee\"]},\"title\":\"Bokeh Application\",\"version\":\"0.12.14\"}};\n",
       "  var render_items = [{\"docid\":\"d561fc08-afd8-46e7-8eb8-34e53fce62e7\",\"elementid\":\"6a15623e-e0ac-41a5-bf6f-6941fe0067b0\",\"modelid\":\"e11bfe35-f2b9-49bd-af41-e93605b459ee\"}];\n",
       "  root.Bokeh.embed.embed_items_notebook(docs_json, render_items);\n",
       "\n",
       "  }\n",
       "  if (root.Bokeh !== undefined) {\n",
       "    embed_document(root);\n",
       "  } else {\n",
       "    var attempts = 0;\n",
       "    var timer = setInterval(function(root) {\n",
       "      if (root.Bokeh !== undefined) {\n",
       "        embed_document(root);\n",
       "        clearInterval(timer);\n",
       "      }\n",
       "      attempts++;\n",
       "      if (attempts > 100) {\n",
       "        console.log(\"Bokeh: ERROR: Unable to run BokehJS code because BokehJS library is missing\")\n",
       "        clearInterval(timer);\n",
       "      }\n",
       "    }, 10, root)\n",
       "  }\n",
       "})(window);"
      ],
      "application/vnd.bokehjs_exec.v0+json": ""
     },
     "metadata": {
      "application/vnd.bokehjs_exec.v0+json": {
       "id": "e11bfe35-f2b9-49bd-af41-e93605b459ee"
      }
     },
     "output_type": "display_data"
    },
    {
     "name": "stdout",
     "output_type": "stream",
     "text": [
      "FIGURE. Cooling rate profiles.\n"
     ]
    },
    {
     "data": {
      "text/html": [
       "<a id=\"Flux_Comparison\"></a>"
      ],
      "text/plain": [
       "<IPython.core.display.HTML object>"
      ]
     },
     "metadata": {},
     "output_type": "display_data"
    },
    {
     "data": {
      "text/markdown": [
       "# Flux Comparison"
      ],
      "text/plain": [
       "<IPython.core.display.Markdown object>"
      ]
     },
     "metadata": {},
     "output_type": "display_data"
    },
    {
     "data": {
      "text/html": [
       "<div>\n",
       "<style>\n",
       "    .dataframe thead tr:only-child th {\n",
       "        text-align: right;\n",
       "    }\n",
       "\n",
       "    .dataframe thead th {\n",
       "        text-align: left;\n",
       "    }\n",
       "\n",
       "    .dataframe tbody tr th {\n",
       "        vertical-align: top;\n",
       "    }\n",
       "</style>\n",
       "<table border=\"1\" class=\"dataframe\">\n",
       "  <thead>\n",
       "    <tr style=\"text-align: right;\">\n",
       "      <th></th>\n",
       "      <th></th>\n",
       "      <th>flug</th>\n",
       "      <th>fldg</th>\n",
       "      <th>fnetg</th>\n",
       "    </tr>\n",
       "    <tr>\n",
       "      <th>pressure</th>\n",
       "      <th>level</th>\n",
       "      <th></th>\n",
       "      <th></th>\n",
       "      <th></th>\n",
       "    </tr>\n",
       "  </thead>\n",
       "  <tbody>\n",
       "    <tr>\n",
       "      <th>0.0000</th>\n",
       "      <th>1</th>\n",
       "      <td>-35.017751</td>\n",
       "      <td>0.000000</td>\n",
       "      <td>-35.017751</td>\n",
       "    </tr>\n",
       "    <tr>\n",
       "      <th>1.0685</th>\n",
       "      <th>24</th>\n",
       "      <td>-35.017082</td>\n",
       "      <td>0.004165</td>\n",
       "      <td>-35.012917</td>\n",
       "    </tr>\n",
       "    <tr>\n",
       "      <th>1013.0000</th>\n",
       "      <th>76</th>\n",
       "      <td>-36.235408</td>\n",
       "      <td>2.706352</td>\n",
       "      <td>-33.529056</td>\n",
       "    </tr>\n",
       "  </tbody>\n",
       "</table>\n",
       "</div>"
      ],
      "text/plain": [
       "                      flug      fldg      fnetg\n",
       "pressure  level                                \n",
       "0.0000    1     -35.017751  0.000000 -35.017751\n",
       "1.0685    24    -35.017082  0.004165 -35.012917\n",
       "1013.0000 76    -36.235408  2.706352 -33.529056"
      ]
     },
     "metadata": {},
     "output_type": "display_data"
    },
    {
     "name": "stdout",
     "output_type": "stream",
     "text": [
      "Table. Fluxes. WGT igg=10 wgt_flux=1\n"
     ]
    },
    {
     "data": {
      "text/html": [
       "<div>\n",
       "<style>\n",
       "    .dataframe thead tr:only-child th {\n",
       "        text-align: right;\n",
       "    }\n",
       "\n",
       "    .dataframe thead th {\n",
       "        text-align: left;\n",
       "    }\n",
       "\n",
       "    .dataframe tbody tr th {\n",
       "        vertical-align: top;\n",
       "    }\n",
       "</style>\n",
       "<table border=\"1\" class=\"dataframe\">\n",
       "  <thead>\n",
       "    <tr style=\"text-align: right;\">\n",
       "      <th></th>\n",
       "      <th></th>\n",
       "      <th>flug</th>\n",
       "      <th>fldg</th>\n",
       "      <th>fnetg</th>\n",
       "    </tr>\n",
       "    <tr>\n",
       "      <th>pressure</th>\n",
       "      <th>level</th>\n",
       "      <th></th>\n",
       "      <th></th>\n",
       "      <th></th>\n",
       "    </tr>\n",
       "  </thead>\n",
       "  <tbody>\n",
       "    <tr>\n",
       "      <th>0.0000</th>\n",
       "      <th>1</th>\n",
       "      <td>-35.016385</td>\n",
       "      <td>0.000000</td>\n",
       "      <td>-35.016385</td>\n",
       "    </tr>\n",
       "    <tr>\n",
       "      <th>1.0685</th>\n",
       "      <th>24</th>\n",
       "      <td>-35.016109</td>\n",
       "      <td>0.004314</td>\n",
       "      <td>-35.011795</td>\n",
       "    </tr>\n",
       "    <tr>\n",
       "      <th>1013.0000</th>\n",
       "      <th>76</th>\n",
       "      <td>-36.235408</td>\n",
       "      <td>2.614209</td>\n",
       "      <td>-33.621199</td>\n",
       "    </tr>\n",
       "  </tbody>\n",
       "</table>\n",
       "</div>"
      ],
      "text/plain": [
       "                      flug      fldg      fnetg\n",
       "pressure  level                                \n",
       "0.0000    1     -35.016385  0.000000 -35.016385\n",
       "1.0685    24    -35.016109  0.004314 -35.011795\n",
       "1013.0000 76    -36.235408  2.614209 -33.621199"
      ]
     },
     "metadata": {},
     "output_type": "display_data"
    },
    {
     "name": "stdout",
     "output_type": "stream",
     "text": [
      "Table. Fluxes. CRD\n"
     ]
    },
    {
     "data": {
      "text/html": [
       "<div>\n",
       "<style>\n",
       "    .dataframe thead tr:only-child th {\n",
       "        text-align: right;\n",
       "    }\n",
       "\n",
       "    .dataframe thead th {\n",
       "        text-align: left;\n",
       "    }\n",
       "\n",
       "    .dataframe tbody tr th {\n",
       "        vertical-align: top;\n",
       "    }\n",
       "</style>\n",
       "<table border=\"1\" class=\"dataframe\">\n",
       "  <thead>\n",
       "    <tr style=\"text-align: right;\">\n",
       "      <th></th>\n",
       "      <th></th>\n",
       "      <th>flug</th>\n",
       "      <th>fldg</th>\n",
       "      <th>fnetg</th>\n",
       "    </tr>\n",
       "    <tr>\n",
       "      <th>pressure</th>\n",
       "      <th>level</th>\n",
       "      <th></th>\n",
       "      <th></th>\n",
       "      <th></th>\n",
       "    </tr>\n",
       "  </thead>\n",
       "  <tbody>\n",
       "    <tr>\n",
       "      <th>1.000000e-08</th>\n",
       "      <th>1</th>\n",
       "      <td>-35.065308</td>\n",
       "      <td>0.000002</td>\n",
       "      <td>-35.065308</td>\n",
       "    </tr>\n",
       "    <tr>\n",
       "      <th>1.068500e+00</th>\n",
       "      <th>24</th>\n",
       "      <td>-35.064587</td>\n",
       "      <td>0.003795</td>\n",
       "      <td>-35.060791</td>\n",
       "    </tr>\n",
       "    <tr>\n",
       "      <th>1.013000e+03</th>\n",
       "      <th>76</th>\n",
       "      <td>-36.235409</td>\n",
       "      <td>2.606824</td>\n",
       "      <td>-33.628586</td>\n",
       "    </tr>\n",
       "  </tbody>\n",
       "</table>\n",
       "</div>"
      ],
      "text/plain": [
       "                         flug      fldg      fnetg\n",
       "pressure     level                                \n",
       "1.000000e-08 1     -35.065308  0.000002 -35.065308\n",
       "1.068500e+00 24    -35.064587  0.003795 -35.060791\n",
       "1.013000e+03 76    -36.235409  2.606824 -33.628586"
      ]
     },
     "metadata": {},
     "output_type": "display_data"
    },
    {
     "name": "stdout",
     "output_type": "stream",
     "text": [
      "Table. Fluxes. CLIRAD\n"
     ]
    },
    {
     "data": {
      "text/html": [
       "<div>\n",
       "<style>\n",
       "    .dataframe thead tr:only-child th {\n",
       "        text-align: right;\n",
       "    }\n",
       "\n",
       "    .dataframe thead th {\n",
       "        text-align: left;\n",
       "    }\n",
       "\n",
       "    .dataframe tbody tr th {\n",
       "        vertical-align: top;\n",
       "    }\n",
       "</style>\n",
       "<table border=\"1\" class=\"dataframe\">\n",
       "  <thead>\n",
       "    <tr style=\"text-align: right;\">\n",
       "      <th></th>\n",
       "      <th></th>\n",
       "      <th>flug</th>\n",
       "      <th>fldg</th>\n",
       "      <th>fnetg</th>\n",
       "    </tr>\n",
       "    <tr>\n",
       "      <th>pressure</th>\n",
       "      <th>level</th>\n",
       "      <th></th>\n",
       "      <th></th>\n",
       "      <th></th>\n",
       "    </tr>\n",
       "  </thead>\n",
       "  <tbody>\n",
       "    <tr>\n",
       "      <th>0.0000</th>\n",
       "      <th>1</th>\n",
       "      <td>1.366240e-03</td>\n",
       "      <td>0.000000</td>\n",
       "      <td>0.001366</td>\n",
       "    </tr>\n",
       "    <tr>\n",
       "      <th>1.0685</th>\n",
       "      <th>24</th>\n",
       "      <td>9.733500e-04</td>\n",
       "      <td>0.000149</td>\n",
       "      <td>0.001122</td>\n",
       "    </tr>\n",
       "    <tr>\n",
       "      <th>1013.0000</th>\n",
       "      <th>76</th>\n",
       "      <td>7.000000e-08</td>\n",
       "      <td>-0.092143</td>\n",
       "      <td>-0.092143</td>\n",
       "    </tr>\n",
       "  </tbody>\n",
       "</table>\n",
       "</div>"
      ],
      "text/plain": [
       "                         flug      fldg     fnetg\n",
       "pressure  level                                  \n",
       "0.0000    1      1.366240e-03  0.000000  0.001366\n",
       "1.0685    24     9.733500e-04  0.000149  0.001122\n",
       "1013.0000 76     7.000000e-08 -0.092143 -0.092143"
      ]
     },
     "metadata": {},
     "output_type": "display_data"
    },
    {
     "name": "stdout",
     "output_type": "stream",
     "text": [
      "Table. Fluxes. (CRD) - (WGT igg=10 wgt_flux=1)\n"
     ]
    },
    {
     "data": {
      "text/html": [
       "<div>\n",
       "<style>\n",
       "    .dataframe thead tr:only-child th {\n",
       "        text-align: right;\n",
       "    }\n",
       "\n",
       "    .dataframe thead th {\n",
       "        text-align: left;\n",
       "    }\n",
       "\n",
       "    .dataframe tbody tr th {\n",
       "        vertical-align: top;\n",
       "    }\n",
       "</style>\n",
       "<table border=\"1\" class=\"dataframe\">\n",
       "  <thead>\n",
       "    <tr style=\"text-align: right;\">\n",
       "      <th></th>\n",
       "      <th></th>\n",
       "      <th>flug</th>\n",
       "      <th>fldg</th>\n",
       "      <th>fnetg</th>\n",
       "    </tr>\n",
       "    <tr>\n",
       "      <th>pressure</th>\n",
       "      <th>level</th>\n",
       "      <th></th>\n",
       "      <th></th>\n",
       "      <th></th>\n",
       "    </tr>\n",
       "  </thead>\n",
       "  <tbody>\n",
       "    <tr>\n",
       "      <th>0.0000</th>\n",
       "      <th>1</th>\n",
       "      <td>-4.755676e-02</td>\n",
       "      <td>0.000002</td>\n",
       "      <td>-0.047557</td>\n",
       "    </tr>\n",
       "    <tr>\n",
       "      <th>1.0685</th>\n",
       "      <th>24</th>\n",
       "      <td>-4.750465e-02</td>\n",
       "      <td>-0.000370</td>\n",
       "      <td>-0.047874</td>\n",
       "    </tr>\n",
       "    <tr>\n",
       "      <th>1013.0000</th>\n",
       "      <th>76</th>\n",
       "      <td>-9.300000e-07</td>\n",
       "      <td>-0.099528</td>\n",
       "      <td>-0.099530</td>\n",
       "    </tr>\n",
       "  </tbody>\n",
       "</table>\n",
       "</div>"
      ],
      "text/plain": [
       "                         flug      fldg     fnetg\n",
       "pressure  level                                  \n",
       "0.0000    1     -4.755676e-02  0.000002 -0.047557\n",
       "1.0685    24    -4.750465e-02 -0.000370 -0.047874\n",
       "1013.0000 76    -9.300000e-07 -0.099528 -0.099530"
      ]
     },
     "metadata": {},
     "output_type": "display_data"
    },
    {
     "name": "stdout",
     "output_type": "stream",
     "text": [
      "Table. Fluxes. (CLIRAD) - (WGT igg=10 wgt_flux=1)\n"
     ]
    },
    {
     "data": {
      "text/html": [
       "<a id=\"Best-fit_Parameters\"></a>"
      ],
      "text/plain": [
       "<IPython.core.display.HTML object>"
      ]
     },
     "metadata": {},
     "output_type": "display_data"
    },
    {
     "data": {
      "text/markdown": [
       "# Best-fit Parameters"
      ],
      "text/plain": [
       "<IPython.core.display.Markdown object>"
      ]
     },
     "metadata": {},
     "output_type": "display_data"
    },
    {
     "name": "stdout",
     "output_type": "stream",
     "text": [
      "Best-fit values for each (gas, band)\n",
      "------------------------------------\n",
      "o n2o band3a\n",
      "  molecule = n2o\n",
      "  band = 3a\n",
      "  commitnumber = d62b618\n",
      "  vmin = 540\n",
      "  vmax = 620\n",
      "  dv = 0.005\n",
      "  nv = 200\n",
      "  ref_pts = [(1, 250), (500, 250)]\n",
      "  ng_refs = [1, 2]\n",
      "  ng_adju = [0, 0]\n",
      "  klin = 2.22e-20\n",
      "  option_wgt_k = 1\n",
      "  wgt = [(0.9,), (0.5, 0.95)]\n",
      "  w_diffuse = [(1.8,), (1.66, 1.8)]\n",
      "  option_wgt_flux = 1\n",
      "  atmpro = mls\n",
      "  tsfc = 294\n",
      "  conc = 3.2e-07\n",
      "  option_compute_btable = 0\n",
      "  option_compute_ktable = 1\n"
     ]
    }
   ],
   "source": [
    "script()"
   ]
  },
  {
   "cell_type": "code",
   "execution_count": 13,
   "metadata": {},
   "outputs": [
    {
     "data": {
      "text/html": [
       "<script>\n",
       "code_show=true; \n",
       "function code_toggle() {\n",
       " if (code_show){\n",
       " $('div.input').hide();\n",
       " } else {\n",
       " $('div.input').show();\n",
       " }\n",
       " code_show = !code_show\n",
       "} \n",
       "$( document ).ready(code_toggle);\n",
       "</script>\n",
       "<form action=\"javascript:code_toggle()\"><input type=\"submit\" value=\"Click here to toggle on/off the raw code.\"></form>"
      ],
      "text/plain": [
       "<IPython.core.display.HTML object>"
      ]
     },
     "execution_count": 13,
     "metadata": {},
     "output_type": "execute_result"
    }
   ],
   "source": [
    "display.HTML('''<script>\n",
    "code_show=true; \n",
    "function code_toggle() {\n",
    " if (code_show){\n",
    " $('div.input').hide();\n",
    " } else {\n",
    " $('div.input').show();\n",
    " }\n",
    " code_show = !code_show\n",
    "} \n",
    "$( document ).ready(code_toggle);\n",
    "</script>\n",
    "<form action=\"javascript:code_toggle()\"><input type=\"submit\" value=\"Click here to toggle on/off the raw code.\"></form>''')"
   ]
  }
 ],
 "metadata": {
  "kernelspec": {
   "display_name": "Python 3",
   "language": "python",
   "name": "python3"
  },
  "language_info": {
   "codemirror_mode": {
    "name": "ipython",
    "version": 3
   },
   "file_extension": ".py",
   "mimetype": "text/x-python",
   "name": "python",
   "nbconvert_exporter": "python",
   "pygments_lexer": "ipython3",
   "version": "3.6.1"
  }
 },
 "nbformat": 4,
 "nbformat_minor": 2
}
