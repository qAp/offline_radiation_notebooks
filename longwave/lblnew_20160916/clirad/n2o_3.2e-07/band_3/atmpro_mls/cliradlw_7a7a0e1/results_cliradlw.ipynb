{
 "cells": [
  {
   "cell_type": "code",
   "execution_count": 1,
   "metadata": {
    "collapsed": true
   },
   "outputs": [],
   "source": [
    "%matplotlib inline\n",
    "import os\n",
    "import re\n",
    "import io\n",
    "import itertools\n",
    "import pprint\n",
    "\n",
    "from bokeh.io import output_notebook, show\n",
    "from bokeh.layouts import gridplot\n",
    "from bokeh.plotting import figure\n",
    "from bokeh.models import Range1d, Legend\n",
    "from bokeh.palettes import all_palettes\n",
    "\n",
    "import matplotlib\n",
    "import matplotlib.pyplot as plt\n",
    "import numpy as np\n",
    "import pandas as pd\n",
    "import xarray as xr\n",
    "\n",
    "import climatools.lblnew.bestfit_params as bestfits\n",
    "from climatools.lblnew import setup_bestfit, setup_overlap\n",
    "import climatools.lblnew.pipeline as pipe_lblnew\n",
    "import climatools.cliradlw.setup as setup_cliradlw\n",
    "import climatools.cliradlw.pipeline as pipe_cliradlw\n",
    "\n",
    "import climatools.html.html as climahtml\n",
    "from climatools.lblnew.dataio import *\n",
    "from climatools.plot.plot import *\n",
    "\n",
    "\n",
    "import IPython.display as display"
   ]
  },
  {
   "cell_type": "code",
   "execution_count": 2,
   "metadata": {
    "collapsed": true
   },
   "outputs": [],
   "source": [
    "%run param.py"
   ]
  },
  {
   "cell_type": "code",
   "execution_count": 3,
   "metadata": {
    "collapsed": true
   },
   "outputs": [],
   "source": [
    "def load_output_file(path_csv):\n",
    "    '''\n",
    "    Load lblnew output .csv file to xarray.Dataset\n",
    "    \n",
    "    Parameters\n",
    "    ----------\n",
    "    path_csv: str\n",
    "              Path to the .csv file to be loaded.\n",
    "    ds: xarray.Dataset\n",
    "        Data in the input file in the form of an xarray.Dataset.\n",
    "    '''\n",
    "    toindex = ['band', 'pressure', 'igg', 'g']    \n",
    "    df = pd.read_csv(path_csv, sep=r'\\s+')\n",
    "    df = df.set_index([i for i in toindex if i in df.columns])\n",
    "    df = df.rename(columns={'sfu': 'flug',\n",
    "                            'sfd': 'fldg',\n",
    "                            'fnet': 'fnetg',\n",
    "                            'coolr': 'coolrg'})\n",
    "    ds = xr.Dataset.from_dataframe(df)\n",
    "\n",
    "    for l in ('level', 'layer'):\n",
    "        if l in ds.data_vars:\n",
    "            if len(ds[l].dims) > 1:\n",
    "                surface = {d: 0 for d in ds.dims if d != 'pressure'}\n",
    "                coord_level = ds[l][surface]\n",
    "                ds.coords[l] = ('pressure', coord_level)\n",
    "            else:\n",
    "                ds.coords[l] = ('pressure', ds[l])\n",
    "    \n",
    "    return ds"
   ]
  },
  {
   "cell_type": "code",
   "execution_count": 4,
   "metadata": {
    "collapsed": true
   },
   "outputs": [],
   "source": [
    "def lblnew_setup(param=None):\n",
    "    if 'ng_refs' in param:\n",
    "        return {'setup': setup_bestfit,\n",
    "                'fname_flux_crd': 'output_flux.dat',\n",
    "                'fname_cool_crd': 'output_coolr.dat',\n",
    "                'fname_flux_wgt': 'output_wfluxg.dat',\n",
    "                'fname_cool_wgt': 'output_wcoolrg.dat'}\n",
    "    else:\n",
    "        return {'setup': setup_overlap,\n",
    "                'fname_flux_crd': 'output_flux.dat',\n",
    "                'fname_cool_crd': 'output_coolr.dat',\n",
    "                'fname_flux_wgt': 'output_wflux.dat',\n",
    "                'fname_cool_wgt': 'output_wcoolr.dat'}\n",
    "\n",
    "    \n",
    "def load_lblnew_data(param):\n",
    "    \n",
    "    fname_dsname = [('fname_flux_crd', 'ds_flux_crd'),\n",
    "                    ('fname_cool_crd', 'ds_cool_crd'),\n",
    "                    ('fname_flux_wgt', 'ds_flux_wgt'),\n",
    "                    ('fname_cool_wgt', 'ds_cool_wgt')]\n",
    "    \n",
    "    d = lblnew_setup(param)\n",
    "    dir_fortran = pipe_lblnew.get_dir_case(param, setup=d['setup'])\n",
    "    \n",
    "    data_dict = {}\n",
    "    for fname, dsname in fname_dsname:\n",
    "        fpath = os.path.join(dir_fortran, d[fname])\n",
    "        data_dict[dsname] = load_output_file(fpath)\n",
    "    return data_dict\n",
    "    \n",
    "\n",
    "    \n",
    "    "
   ]
  },
  {
   "cell_type": "code",
   "execution_count": 5,
   "metadata": {
    "collapsed": true
   },
   "outputs": [],
   "source": [
    "d = load_lblnew_data(PARAM_LBLNEW)\n",
    "\n",
    "DS_FLUX_CRD = d['ds_flux_crd']\n",
    "DS_COOL_CRD = d['ds_cool_crd']\n",
    "DS_FLUX_WGT = d['ds_flux_wgt']\n",
    "DS_COOL_WGT = d['ds_cool_wgt']"
   ]
  },
  {
   "cell_type": "code",
   "execution_count": 6,
   "metadata": {
    "collapsed": true
   },
   "outputs": [],
   "source": [
    "DIR_FORTRAN = pipe_cliradlw.get_fortran_dir(PARAM, \n",
    "                                            setup=setup_cliradlw)\n",
    "\n",
    "PATH_FLUX = os.path.join(DIR_FORTRAN, 'output_flux.dat')\n",
    "PATH_COOL = os.path.join(DIR_FORTRAN, 'output_coolr.dat')\n",
    "\n",
    "DS_FLUX = load_output_file(PATH_FLUX)\n",
    "DS_COOL = load_output_file(PATH_COOL)"
   ]
  },
  {
   "cell_type": "code",
   "execution_count": 7,
   "metadata": {},
   "outputs": [
    {
     "data": {
      "text/html": [
       "\n",
       "    <div class=\"bk-root\">\n",
       "        <a href=\"https://bokeh.pydata.org\" target=\"_blank\" class=\"bk-logo bk-logo-small bk-logo-notebook\"></a>\n",
       "        <span id=\"810fdd42-359d-4dc1-94e6-a9340d9a5cb7\">Loading BokehJS ...</span>\n",
       "    </div>"
      ]
     },
     "metadata": {},
     "output_type": "display_data"
    },
    {
     "data": {
      "application/javascript": [
       "\n",
       "(function(root) {\n",
       "  function now() {\n",
       "    return new Date();\n",
       "  }\n",
       "\n",
       "  var force = true;\n",
       "\n",
       "  if (typeof (root._bokeh_onload_callbacks) === \"undefined\" || force === true) {\n",
       "    root._bokeh_onload_callbacks = [];\n",
       "    root._bokeh_is_loading = undefined;\n",
       "  }\n",
       "\n",
       "  var JS_MIME_TYPE = 'application/javascript';\n",
       "  var HTML_MIME_TYPE = 'text/html';\n",
       "  var EXEC_MIME_TYPE = 'application/vnd.bokehjs_exec.v0+json';\n",
       "  var CLASS_NAME = 'output_bokeh rendered_html';\n",
       "\n",
       "  /**\n",
       "   * Render data to the DOM node\n",
       "   */\n",
       "  function render(props, node) {\n",
       "    var script = document.createElement(\"script\");\n",
       "    node.appendChild(script);\n",
       "  }\n",
       "\n",
       "  /**\n",
       "   * Handle when an output is cleared or removed\n",
       "   */\n",
       "  function handleClearOutput(event, handle) {\n",
       "    var cell = handle.cell;\n",
       "\n",
       "    var id = cell.output_area._bokeh_element_id;\n",
       "    var server_id = cell.output_area._bokeh_server_id;\n",
       "    // Clean up Bokeh references\n",
       "    if (id !== undefined) {\n",
       "      Bokeh.index[id].model.document.clear();\n",
       "      delete Bokeh.index[id];\n",
       "    }\n",
       "\n",
       "    if (server_id !== undefined) {\n",
       "      // Clean up Bokeh references\n",
       "      var cmd = \"from bokeh.io.state import curstate; print(curstate().uuid_to_server['\" + server_id + \"'].get_sessions()[0].document.roots[0]._id)\";\n",
       "      cell.notebook.kernel.execute(cmd, {\n",
       "        iopub: {\n",
       "          output: function(msg) {\n",
       "            var element_id = msg.content.text.trim();\n",
       "            Bokeh.index[element_id].model.document.clear();\n",
       "            delete Bokeh.index[element_id];\n",
       "          }\n",
       "        }\n",
       "      });\n",
       "      // Destroy server and session\n",
       "      var cmd = \"import bokeh.io.notebook as ion; ion.destroy_server('\" + server_id + \"')\";\n",
       "      cell.notebook.kernel.execute(cmd);\n",
       "    }\n",
       "  }\n",
       "\n",
       "  /**\n",
       "   * Handle when a new output is added\n",
       "   */\n",
       "  function handleAddOutput(event, handle) {\n",
       "    var output_area = handle.output_area;\n",
       "    var output = handle.output;\n",
       "\n",
       "    // limit handleAddOutput to display_data with EXEC_MIME_TYPE content only\n",
       "    if ((output.output_type != \"display_data\") || (!output.data.hasOwnProperty(EXEC_MIME_TYPE))) {\n",
       "      return\n",
       "    }\n",
       "\n",
       "    var toinsert = output_area.element.find(\".\" + CLASS_NAME.split(' ')[0]);\n",
       "\n",
       "    if (output.metadata[EXEC_MIME_TYPE][\"id\"] !== undefined) {\n",
       "      toinsert[0].firstChild.textContent = output.data[JS_MIME_TYPE];\n",
       "      // store reference to embed id on output_area\n",
       "      output_area._bokeh_element_id = output.metadata[EXEC_MIME_TYPE][\"id\"];\n",
       "    }\n",
       "    if (output.metadata[EXEC_MIME_TYPE][\"server_id\"] !== undefined) {\n",
       "      var bk_div = document.createElement(\"div\");\n",
       "      bk_div.innerHTML = output.data[HTML_MIME_TYPE];\n",
       "      var script_attrs = bk_div.children[0].attributes;\n",
       "      for (var i = 0; i < script_attrs.length; i++) {\n",
       "        toinsert[0].firstChild.setAttribute(script_attrs[i].name, script_attrs[i].value);\n",
       "      }\n",
       "      // store reference to server id on output_area\n",
       "      output_area._bokeh_server_id = output.metadata[EXEC_MIME_TYPE][\"server_id\"];\n",
       "    }\n",
       "  }\n",
       "\n",
       "  function register_renderer(events, OutputArea) {\n",
       "\n",
       "    function append_mime(data, metadata, element) {\n",
       "      // create a DOM node to render to\n",
       "      var toinsert = this.create_output_subarea(\n",
       "        metadata,\n",
       "        CLASS_NAME,\n",
       "        EXEC_MIME_TYPE\n",
       "      );\n",
       "      this.keyboard_manager.register_events(toinsert);\n",
       "      // Render to node\n",
       "      var props = {data: data, metadata: metadata[EXEC_MIME_TYPE]};\n",
       "      render(props, toinsert[0]);\n",
       "      element.append(toinsert);\n",
       "      return toinsert\n",
       "    }\n",
       "\n",
       "    /* Handle when an output is cleared or removed */\n",
       "    events.on('clear_output.CodeCell', handleClearOutput);\n",
       "    events.on('delete.Cell', handleClearOutput);\n",
       "\n",
       "    /* Handle when a new output is added */\n",
       "    events.on('output_added.OutputArea', handleAddOutput);\n",
       "\n",
       "    /**\n",
       "     * Register the mime type and append_mime function with output_area\n",
       "     */\n",
       "    OutputArea.prototype.register_mime_type(EXEC_MIME_TYPE, append_mime, {\n",
       "      /* Is output safe? */\n",
       "      safe: true,\n",
       "      /* Index of renderer in `output_area.display_order` */\n",
       "      index: 0\n",
       "    });\n",
       "  }\n",
       "\n",
       "  // register the mime type if in Jupyter Notebook environment and previously unregistered\n",
       "  if (root.Jupyter !== undefined) {\n",
       "    var events = require('base/js/events');\n",
       "    var OutputArea = require('notebook/js/outputarea').OutputArea;\n",
       "\n",
       "    if (OutputArea.prototype.mime_types().indexOf(EXEC_MIME_TYPE) == -1) {\n",
       "      register_renderer(events, OutputArea);\n",
       "    }\n",
       "  }\n",
       "\n",
       "  \n",
       "  if (typeof (root._bokeh_timeout) === \"undefined\" || force === true) {\n",
       "    root._bokeh_timeout = Date.now() + 5000;\n",
       "    root._bokeh_failed_load = false;\n",
       "  }\n",
       "\n",
       "  var NB_LOAD_WARNING = {'data': {'text/html':\n",
       "     \"<div style='background-color: #fdd'>\\n\"+\n",
       "     \"<p>\\n\"+\n",
       "     \"BokehJS does not appear to have successfully loaded. If loading BokehJS from CDN, this \\n\"+\n",
       "     \"may be due to a slow or bad network connection. Possible fixes:\\n\"+\n",
       "     \"</p>\\n\"+\n",
       "     \"<ul>\\n\"+\n",
       "     \"<li>re-rerun `output_notebook()` to attempt to load from CDN again, or</li>\\n\"+\n",
       "     \"<li>use INLINE resources instead, as so:</li>\\n\"+\n",
       "     \"</ul>\\n\"+\n",
       "     \"<code>\\n\"+\n",
       "     \"from bokeh.resources import INLINE\\n\"+\n",
       "     \"output_notebook(resources=INLINE)\\n\"+\n",
       "     \"</code>\\n\"+\n",
       "     \"</div>\"}};\n",
       "\n",
       "  function display_loaded() {\n",
       "    var el = document.getElementById(\"810fdd42-359d-4dc1-94e6-a9340d9a5cb7\");\n",
       "    if (el != null) {\n",
       "      el.textContent = \"BokehJS is loading...\";\n",
       "    }\n",
       "    if (root.Bokeh !== undefined) {\n",
       "      if (el != null) {\n",
       "        el.textContent = \"BokehJS \" + root.Bokeh.version + \" successfully loaded.\";\n",
       "      }\n",
       "    } else if (Date.now() < root._bokeh_timeout) {\n",
       "      setTimeout(display_loaded, 100)\n",
       "    }\n",
       "  }\n",
       "\n",
       "\n",
       "  function run_callbacks() {\n",
       "    try {\n",
       "      root._bokeh_onload_callbacks.forEach(function(callback) { callback() });\n",
       "    }\n",
       "    finally {\n",
       "      delete root._bokeh_onload_callbacks\n",
       "    }\n",
       "    console.info(\"Bokeh: all callbacks have finished\");\n",
       "  }\n",
       "\n",
       "  function load_libs(js_urls, callback) {\n",
       "    root._bokeh_onload_callbacks.push(callback);\n",
       "    if (root._bokeh_is_loading > 0) {\n",
       "      console.log(\"Bokeh: BokehJS is being loaded, scheduling callback at\", now());\n",
       "      return null;\n",
       "    }\n",
       "    if (js_urls == null || js_urls.length === 0) {\n",
       "      run_callbacks();\n",
       "      return null;\n",
       "    }\n",
       "    console.log(\"Bokeh: BokehJS not loaded, scheduling load and callback at\", now());\n",
       "    root._bokeh_is_loading = js_urls.length;\n",
       "    for (var i = 0; i < js_urls.length; i++) {\n",
       "      var url = js_urls[i];\n",
       "      var s = document.createElement('script');\n",
       "      s.src = url;\n",
       "      s.async = false;\n",
       "      s.onreadystatechange = s.onload = function() {\n",
       "        root._bokeh_is_loading--;\n",
       "        if (root._bokeh_is_loading === 0) {\n",
       "          console.log(\"Bokeh: all BokehJS libraries loaded\");\n",
       "          run_callbacks()\n",
       "        }\n",
       "      };\n",
       "      s.onerror = function() {\n",
       "        console.warn(\"failed to load library \" + url);\n",
       "      };\n",
       "      console.log(\"Bokeh: injecting script tag for BokehJS library: \", url);\n",
       "      document.getElementsByTagName(\"head\")[0].appendChild(s);\n",
       "    }\n",
       "  };var element = document.getElementById(\"810fdd42-359d-4dc1-94e6-a9340d9a5cb7\");\n",
       "  if (element == null) {\n",
       "    console.log(\"Bokeh: ERROR: autoload.js configured with elementid '810fdd42-359d-4dc1-94e6-a9340d9a5cb7' but no matching script tag was found. \")\n",
       "    return false;\n",
       "  }\n",
       "\n",
       "  var js_urls = [\"https://cdn.pydata.org/bokeh/release/bokeh-0.12.14.min.js\", \"https://cdn.pydata.org/bokeh/release/bokeh-widgets-0.12.14.min.js\", \"https://cdn.pydata.org/bokeh/release/bokeh-tables-0.12.14.min.js\", \"https://cdn.pydata.org/bokeh/release/bokeh-gl-0.12.14.min.js\"];\n",
       "\n",
       "  var inline_js = [\n",
       "    function(Bokeh) {\n",
       "      Bokeh.set_log_level(\"info\");\n",
       "    },\n",
       "    \n",
       "    function(Bokeh) {\n",
       "      \n",
       "    },\n",
       "    function(Bokeh) {\n",
       "      console.log(\"Bokeh: injecting CSS: https://cdn.pydata.org/bokeh/release/bokeh-0.12.14.min.css\");\n",
       "      Bokeh.embed.inject_css(\"https://cdn.pydata.org/bokeh/release/bokeh-0.12.14.min.css\");\n",
       "      console.log(\"Bokeh: injecting CSS: https://cdn.pydata.org/bokeh/release/bokeh-widgets-0.12.14.min.css\");\n",
       "      Bokeh.embed.inject_css(\"https://cdn.pydata.org/bokeh/release/bokeh-widgets-0.12.14.min.css\");\n",
       "      console.log(\"Bokeh: injecting CSS: https://cdn.pydata.org/bokeh/release/bokeh-tables-0.12.14.min.css\");\n",
       "      Bokeh.embed.inject_css(\"https://cdn.pydata.org/bokeh/release/bokeh-tables-0.12.14.min.css\");\n",
       "    }\n",
       "  ];\n",
       "\n",
       "  function run_inline_js() {\n",
       "    \n",
       "    if ((root.Bokeh !== undefined) || (force === true)) {\n",
       "      for (var i = 0; i < inline_js.length; i++) {\n",
       "        inline_js[i].call(root, root.Bokeh);\n",
       "      }if (force === true) {\n",
       "        display_loaded();\n",
       "      }} else if (Date.now() < root._bokeh_timeout) {\n",
       "      setTimeout(run_inline_js, 100);\n",
       "    } else if (!root._bokeh_failed_load) {\n",
       "      console.log(\"Bokeh: BokehJS failed to load within specified timeout.\");\n",
       "      root._bokeh_failed_load = true;\n",
       "    } else if (force !== true) {\n",
       "      var cell = $(document.getElementById(\"810fdd42-359d-4dc1-94e6-a9340d9a5cb7\")).parents('.cell').data().cell;\n",
       "      cell.output_area.append_execute_result(NB_LOAD_WARNING)\n",
       "    }\n",
       "\n",
       "  }\n",
       "\n",
       "  if (root._bokeh_is_loading === 0) {\n",
       "    console.log(\"Bokeh: BokehJS loaded, going straight to plotting\");\n",
       "    run_inline_js();\n",
       "  } else {\n",
       "    load_libs(js_urls, function() {\n",
       "      console.log(\"Bokeh: BokehJS plotting callback run at\", now());\n",
       "      run_inline_js();\n",
       "    });\n",
       "  }\n",
       "}(window));"
      ],
      "application/vnd.bokehjs_load.v0+json": "\n(function(root) {\n  function now() {\n    return new Date();\n  }\n\n  var force = true;\n\n  if (typeof (root._bokeh_onload_callbacks) === \"undefined\" || force === true) {\n    root._bokeh_onload_callbacks = [];\n    root._bokeh_is_loading = undefined;\n  }\n\n  \n\n  \n  if (typeof (root._bokeh_timeout) === \"undefined\" || force === true) {\n    root._bokeh_timeout = Date.now() + 5000;\n    root._bokeh_failed_load = false;\n  }\n\n  var NB_LOAD_WARNING = {'data': {'text/html':\n     \"<div style='background-color: #fdd'>\\n\"+\n     \"<p>\\n\"+\n     \"BokehJS does not appear to have successfully loaded. If loading BokehJS from CDN, this \\n\"+\n     \"may be due to a slow or bad network connection. Possible fixes:\\n\"+\n     \"</p>\\n\"+\n     \"<ul>\\n\"+\n     \"<li>re-rerun `output_notebook()` to attempt to load from CDN again, or</li>\\n\"+\n     \"<li>use INLINE resources instead, as so:</li>\\n\"+\n     \"</ul>\\n\"+\n     \"<code>\\n\"+\n     \"from bokeh.resources import INLINE\\n\"+\n     \"output_notebook(resources=INLINE)\\n\"+\n     \"</code>\\n\"+\n     \"</div>\"}};\n\n  function display_loaded() {\n    var el = document.getElementById(\"810fdd42-359d-4dc1-94e6-a9340d9a5cb7\");\n    if (el != null) {\n      el.textContent = \"BokehJS is loading...\";\n    }\n    if (root.Bokeh !== undefined) {\n      if (el != null) {\n        el.textContent = \"BokehJS \" + root.Bokeh.version + \" successfully loaded.\";\n      }\n    } else if (Date.now() < root._bokeh_timeout) {\n      setTimeout(display_loaded, 100)\n    }\n  }\n\n\n  function run_callbacks() {\n    try {\n      root._bokeh_onload_callbacks.forEach(function(callback) { callback() });\n    }\n    finally {\n      delete root._bokeh_onload_callbacks\n    }\n    console.info(\"Bokeh: all callbacks have finished\");\n  }\n\n  function load_libs(js_urls, callback) {\n    root._bokeh_onload_callbacks.push(callback);\n    if (root._bokeh_is_loading > 0) {\n      console.log(\"Bokeh: BokehJS is being loaded, scheduling callback at\", now());\n      return null;\n    }\n    if (js_urls == null || js_urls.length === 0) {\n      run_callbacks();\n      return null;\n    }\n    console.log(\"Bokeh: BokehJS not loaded, scheduling load and callback at\", now());\n    root._bokeh_is_loading = js_urls.length;\n    for (var i = 0; i < js_urls.length; i++) {\n      var url = js_urls[i];\n      var s = document.createElement('script');\n      s.src = url;\n      s.async = false;\n      s.onreadystatechange = s.onload = function() {\n        root._bokeh_is_loading--;\n        if (root._bokeh_is_loading === 0) {\n          console.log(\"Bokeh: all BokehJS libraries loaded\");\n          run_callbacks()\n        }\n      };\n      s.onerror = function() {\n        console.warn(\"failed to load library \" + url);\n      };\n      console.log(\"Bokeh: injecting script tag for BokehJS library: \", url);\n      document.getElementsByTagName(\"head\")[0].appendChild(s);\n    }\n  };var element = document.getElementById(\"810fdd42-359d-4dc1-94e6-a9340d9a5cb7\");\n  if (element == null) {\n    console.log(\"Bokeh: ERROR: autoload.js configured with elementid '810fdd42-359d-4dc1-94e6-a9340d9a5cb7' but no matching script tag was found. \")\n    return false;\n  }\n\n  var js_urls = [\"https://cdn.pydata.org/bokeh/release/bokeh-0.12.14.min.js\", \"https://cdn.pydata.org/bokeh/release/bokeh-widgets-0.12.14.min.js\", \"https://cdn.pydata.org/bokeh/release/bokeh-tables-0.12.14.min.js\", \"https://cdn.pydata.org/bokeh/release/bokeh-gl-0.12.14.min.js\"];\n\n  var inline_js = [\n    function(Bokeh) {\n      Bokeh.set_log_level(\"info\");\n    },\n    \n    function(Bokeh) {\n      \n    },\n    function(Bokeh) {\n      console.log(\"Bokeh: injecting CSS: https://cdn.pydata.org/bokeh/release/bokeh-0.12.14.min.css\");\n      Bokeh.embed.inject_css(\"https://cdn.pydata.org/bokeh/release/bokeh-0.12.14.min.css\");\n      console.log(\"Bokeh: injecting CSS: https://cdn.pydata.org/bokeh/release/bokeh-widgets-0.12.14.min.css\");\n      Bokeh.embed.inject_css(\"https://cdn.pydata.org/bokeh/release/bokeh-widgets-0.12.14.min.css\");\n      console.log(\"Bokeh: injecting CSS: https://cdn.pydata.org/bokeh/release/bokeh-tables-0.12.14.min.css\");\n      Bokeh.embed.inject_css(\"https://cdn.pydata.org/bokeh/release/bokeh-tables-0.12.14.min.css\");\n    }\n  ];\n\n  function run_inline_js() {\n    \n    if ((root.Bokeh !== undefined) || (force === true)) {\n      for (var i = 0; i < inline_js.length; i++) {\n        inline_js[i].call(root, root.Bokeh);\n      }if (force === true) {\n        display_loaded();\n      }} else if (Date.now() < root._bokeh_timeout) {\n      setTimeout(run_inline_js, 100);\n    } else if (!root._bokeh_failed_load) {\n      console.log(\"Bokeh: BokehJS failed to load within specified timeout.\");\n      root._bokeh_failed_load = true;\n    } else if (force !== true) {\n      var cell = $(document.getElementById(\"810fdd42-359d-4dc1-94e6-a9340d9a5cb7\")).parents('.cell').data().cell;\n      cell.output_area.append_execute_result(NB_LOAD_WARNING)\n    }\n\n  }\n\n  if (root._bokeh_is_loading === 0) {\n    console.log(\"Bokeh: BokehJS loaded, going straight to plotting\");\n    run_inline_js();\n  } else {\n    load_libs(js_urls, function() {\n      console.log(\"Bokeh: BokehJS plotting callback run at\", now());\n      run_inline_js();\n    });\n  }\n}(window));"
     },
     "metadata": {},
     "output_type": "display_data"
    }
   ],
   "source": [
    "output_notebook()"
   ]
  },
  {
   "cell_type": "code",
   "execution_count": 8,
   "metadata": {
    "collapsed": true
   },
   "outputs": [],
   "source": [
    "def fmt_cool(ds_in):\n",
    "    ds = ds_in.copy(deep=True)\n",
    "    if 'igg' in ds.dims:\n",
    "        ds = ds.sel(igg=1)\n",
    "\n",
    "    if 'g' in ds.dims:\n",
    "        ds = ds.sum('g')\n",
    "            \n",
    "    if 'band' in ds.dims:\n",
    "        try:\n",
    "            ds = ds.squeeze('band')\n",
    "        except ValueError:\n",
    "            ds = ds.sum('band')\n",
    "                \n",
    "    return ds['coolrg']\n",
    "\n",
    "\n",
    "def pltdata_cooling_1(ds_cool=None,\n",
    "                      ds_cool_crd=None, ds_cool_wgt=None):\n",
    "    \n",
    "\n",
    "\n",
    "    colors = all_palettes['Set1'][4]\n",
    "    data = [{'label': 'CLIRAD `coolr_bands`',\n",
    "             'srs': fmt_cool(ds_cool),\n",
    "             'line_dash': 'dashed', 'line_width': 5,\n",
    "             'color': colors[0], 'alpha': .6},\n",
    "            {'label': 'CRD',\n",
    "             'srs': fmt_cool(ds_cool_crd),\n",
    "             'line_dash': 'solid', 'line_width': 1.5,\n",
    "             'marker': 'circle', 'marker_size': 5,\n",
    "             'color': colors[2], 'alpha': 1,},\n",
    "            {'label': 'WGT igg=10 wgt_flux=2',\n",
    "             'srs': fmt_cool(ds_cool_wgt),\n",
    "             'line_dash': 'solid', 'line_width': 3,\n",
    "             'marker': 'square', 'marker_size': 5,\n",
    "             'color': colors[3], 'alpha': .6}]\n",
    "    return data\n",
    "\n",
    "\n",
    "def nice_xlims(pltdata=None, prange=None):\n",
    "    \n",
    "    def get_slice(srs):\n",
    "        return srs.sel(pressure=slice(*prange))\n",
    "    \n",
    "    srss = [d['srs'] for d in pltdata]\n",
    "    vmin = min([get_slice(srs).min() for srs in srss])\n",
    "    vmax = max([get_slice(srs).max() for srs in srss])\n",
    "    dv = (vmax - vmin) * .01\n",
    "    return float(vmin - dv), float(vmax + dv)\n",
    "    \n",
    "\n",
    "def plt_cooling_bokeh(pltdata=None):\n",
    "    '''\n",
    "    Plot a list of cooling rate profiles using bokeh.\n",
    "    '''\n",
    "    ymin = 1e-2 \n",
    "    ymax = 1020 \n",
    "        \n",
    "    p1 = figure(title=\"Linear pressure scale\", \n",
    "                plot_width=400)        \n",
    "    xmin, xmax = nice_xlims(pltdata, prange=(50, 1050))\n",
    "    for d in pltdata:\n",
    "        if 'marker' in d:\n",
    "            getattr(p1, d['marker'])(d['srs'].values, \n",
    "                    d['srs'].coords['pressure'].values,\n",
    "                    color=d['color'], alpha=.7)\n",
    "        p1.line(d['srs'].values, \n",
    "                d['srs'].coords['pressure'].values,\n",
    "                color=d['color'], alpha=d['alpha'], \n",
    "                line_width=d['line_width'], line_dash=d['line_dash'])\n",
    "    \n",
    "    p1.y_range = Range1d(ymax, ymin)\n",
    "    p1.yaxis.axis_label = 'pressure [mb]'   \n",
    "    p1.x_range = Range1d(xmin, xmax)\n",
    "    p1.xaxis.axis_label = 'cooling rate [K/day]'\n",
    "            \n",
    "    p2 = figure(title='Log pressure scale', y_axis_type='log',\n",
    "                plot_width=560)\n",
    "    xmin, xmax = nice_xlims(pltdata, prange=(.01, 200))\n",
    "    \n",
    "    rs = []\n",
    "    for d in pltdata:\n",
    "        rd = []\n",
    "        if 'marker' in d:\n",
    "            r_mark = getattr(p2, d['marker'])(d['srs'].values, \n",
    "                        d['srs'].coords['pressure'].values,\n",
    "                        color=d['color'], alpha=.7)\n",
    "            rd.append(r_mark)\n",
    "        r_line = p2.line(d['srs'].values, \n",
    "                    d['srs'].coords['pressure'].values,\n",
    "                    color=d['color'], alpha=d['alpha'], \n",
    "                    line_width=d['line_width'], line_dash=d['line_dash'])\n",
    "        rd.append(r_line)\n",
    "      \n",
    "        rs.append(rd)\n",
    "        \n",
    "    p2.y_range = Range1d(ymax, ymin)  \n",
    "    p2.yaxis.axis_label = 'pressure [mb]'\n",
    "    \n",
    "    p2.x_range = Range1d(xmin, xmax)\n",
    "    p2.xaxis.axis_label = 'cooling rate [K/day]'\n",
    "    \n",
    "    items = [(d['label'], r) for r, d in zip(rs, pltdata)]\n",
    "    legend = Legend(items=items, location=(10, -30))\n",
    "    legend.label_text_font_size = '8pt'\n",
    "    \n",
    "    p2.add_layout(legend, 'right')  \n",
    "    \n",
    "    show(gridplot(p1, p2, ncols=2, plot_height=500))\n",
    "    \n",
    "\n",
    "def script_plt_cooling():\n",
    "    pltdata = pltdata_cooling_1(\n",
    "        ds_cool=DS_COOL,\n",
    "        ds_cool_crd=DS_COOL_CRD,\n",
    "        ds_cool_wgt=DS_COOL_WGT)\n",
    "    plt_cooling_bokeh(pltdata=pltdata)\n",
    "    print('''FIGURE. Cooling rate profiles.''')"
   ]
  },
  {
   "cell_type": "code",
   "execution_count": 9,
   "metadata": {
    "collapsed": true
   },
   "outputs": [],
   "source": [
    "def fmt_flux(ds_in):\n",
    "    ds = ds_in.copy(deep=True)\n",
    "    \n",
    "    for l in ('level', 'layer'):\n",
    "        if l in ds.data_vars:\n",
    "            if len(ds[l].dims) > 1:\n",
    "                surface = {d: 0 for d in ds.dims if d != 'pressure'}\n",
    "                coord_level = ds[l][surface]\n",
    "                ds.coords[l] = ('pressure', coord_level)\n",
    "            else:\n",
    "                ds.coords[l] = ('pressure', ds[l])\n",
    "        \n",
    "    ds = ds.isel(pressure=[0, 23, -1])\n",
    "        \n",
    "    if 'igg' in ds.dims:\n",
    "        ds = ds.sel(igg=[1])\n",
    "        ds = ds.squeeze('igg').drop('igg')\n",
    "    \n",
    "    if 'g' in ds.dims:\n",
    "        ds = ds.sum('g')\n",
    "            \n",
    "    if 'band' in ds.dims:\n",
    "        try:\n",
    "            ds = ds.squeeze('band').drop('band')\n",
    "        except ValueError:\n",
    "            ds = ds.sum('band')\n",
    "                \n",
    "    df = ds.to_dataframe()\n",
    "    df = df.set_index('level', append=True)               \n",
    "    return df\n",
    "\n",
    "\n",
    "def tbdata_flux(ds_flux=None, ds_flux_crd=None, ds_flux_wgt=None):\n",
    "    ilevels = [0, 23, -1]\n",
    "            \n",
    "    benchmark = {'label': 'WGT igg=10 wgt_flux=1',\n",
    "                 'df': fmt_flux(ds_flux_wgt)}\n",
    "    \n",
    "    tbs = [{'label': 'CRD',\n",
    "            'df': fmt_flux(ds_flux_crd)},\n",
    "           {'label': 'CLIRAD',\n",
    "            'df': fmt_flux(ds_flux)}]\n",
    "    \n",
    "    data = {'benchmark': benchmark, 'others': tbs}\n",
    "    return data\n",
    "\n",
    "\n",
    "def tb_flux(tbdata=None):\n",
    "    benchmark = tbdata['benchmark']\n",
    "    others = tbdata['others']\n",
    "    \n",
    "    def show_tb(d=None):\n",
    "        display.display(d['df'])\n",
    "        print('Table.', 'Fluxes.', d['label'])\n",
    "        \n",
    "    def show_tbdiff(d0=None, d=None):\n",
    "        df = d['df']\n",
    "        df.index = d0['df'].index\n",
    "        display.display(df - d0['df'])\n",
    "        print('Table.', 'Fluxes.', \n",
    "              '({}) - ({})'.format(d['label'], d0['label']))\n",
    "        \n",
    "    show_tb(benchmark)\n",
    "    for d in others:\n",
    "        show_tb(d)\n",
    "        \n",
    "    for d in others:\n",
    "        show_tbdiff(d=d, d0=benchmark)\n",
    "        \n",
    "        \n",
    "def script_tb_flux():\n",
    "    data = tbdata_flux(ds_flux=DS_FLUX,\n",
    "                       ds_flux_crd=DS_FLUX_CRD,\n",
    "                       ds_flux_wgt=DS_FLUX_WGT)\n",
    "    tb_flux(tbdata=data)"
   ]
  },
  {
   "cell_type": "code",
   "execution_count": 10,
   "metadata": {
    "collapsed": true
   },
   "outputs": [],
   "source": [
    "def band_map():\n",
    "    '''\n",
    "    Maps spectral bands in lblnew to spectral bands in clirad.\n",
    "    '''\n",
    "    lblnew2clirad = {'1': '1',\n",
    "            '2': '2',\n",
    "            '3a': '3',\n",
    "            '3b': '4',\n",
    "            '3c': '5',\n",
    "            '4': '6', \n",
    "            '5': '7',\n",
    "            '6': '8',\n",
    "            '7': '9', \n",
    "            '8': '10',\n",
    "            '9': '11'}\n",
    "    \n",
    "    clirad2lblnew = {clirad: lblnew \n",
    "                     for lblnew, clirad in lblnew2clirad.items()}\n",
    "    return clirad2lblnew\n",
    "\n",
    "\n",
    "def gasbands():\n",
    "    bmap = band_map()\n",
    "    gases = list(PARAM['molecule'].keys())\n",
    "    \n",
    "    bands = [bmap[str(b)] for b in PARAM['band']]\n",
    "    return list(itertools.product(gases, bands))\n",
    "\n",
    "\n",
    "def print_bestfit_params():\n",
    "    print('Best-fit values for each (gas, band)')\n",
    "    print('------------------------------------')\n",
    "    for gas, band in gasbands():\n",
    "        print('o {} band{}'.format(gas, band))\n",
    "        param = bestfits.kdist_params(molecule=gas, band=band)\n",
    "        for name, value in param.items():\n",
    "            print(2 * ' ' + '{} = {}'.format(name, value))\n",
    "\n",
    "        \n",
    "def print_input_param():        \n",
    "    for name, value in PARAM.items():\n",
    "        print('{} = {}'.format(name, value))\n",
    "        \n",
    "        \n",
    "def print_lblnew_param():\n",
    "    for name, value in PARAM_LBLNEW.items():\n",
    "        print('{} = {}'.format(name, value))\n"
   ]
  },
  {
   "cell_type": "code",
   "execution_count": 11,
   "metadata": {
    "collapsed": true,
    "scrolled": false
   },
   "outputs": [],
   "source": [
    "def show_html(s):\n",
    "    display.display(display.HTML(s))\n",
    "\n",
    "    \n",
    "def show_markdown(s):\n",
    "    display.display(display.Markdown(s))\n",
    "\n",
    "    \n",
    "def script():\n",
    "    \n",
    "    title = '### CLIRAD-LW'\n",
    "    s_input = 'Input Parameters'\n",
    "    s_lblnew_param = 'LBLNEW case compaired against'\n",
    "    s_bestfits = 'Best-fit Parameters'\n",
    "    s_plt_cooling = 'Cooling Rate Profiles'\n",
    "    s_tb_flux = 'Flux Comparison'\n",
    "    \n",
    "    # title\n",
    "    show_markdown('### CLIRAD-LW')\n",
    "    \n",
    "    # TOC\n",
    "    show_markdown('### Table of Contents')\n",
    "    show_html(climahtml.getHTML_hrefanchor(s_input))\n",
    "    show_html(climahtml.getHTML_hrefanchor(s_lblnew_param))\n",
    "    show_html(climahtml.getHTML_hrefanchor(s_plt_cooling))\n",
    "    show_html(climahtml.getHTML_hrefanchor(s_tb_flux))\n",
    "    show_html(climahtml.getHTML_hrefanchor(s_bestfits))\n",
    "    \n",
    "    # Input parameters\n",
    "    show_html(climahtml.getHTML_idanchor(s_input))\n",
    "    show_markdown(climahtml.getMarkdown_sectitle(s_input))\n",
    "    print_input_param()\n",
    "    \n",
    "    # LBLNEW parameters \n",
    "    show_html(climahtml.getHTML_idanchor(s_lblnew_param))\n",
    "    show_markdown(climahtml.getMarkdown_sectitle(s_lblnew_param))\n",
    "    print_lblnew_param()\n",
    "    \n",
    "    # Cooling rate profiles\n",
    "    show_html(climahtml.getHTML_idanchor(s_plt_cooling))\n",
    "    show_markdown(climahtml.getMarkdown_sectitle(s_plt_cooling))\n",
    "    script_plt_cooling()\n",
    "    \n",
    "    # Flux comparison\n",
    "    show_html(climahtml.getHTML_idanchor(s_tb_flux))\n",
    "    show_markdown(climahtml.getMarkdown_sectitle(s_tb_flux))\n",
    "    script_tb_flux()\n",
    "    \n",
    "    # Best-fit values\n",
    "    show_html(climahtml.getHTML_idanchor(s_bestfits))\n",
    "    show_markdown(climahtml.getMarkdown_sectitle(s_bestfits))\n",
    "    print_bestfit_params()\n",
    "   \n",
    "    "
   ]
  },
  {
   "cell_type": "code",
   "execution_count": 12,
   "metadata": {
    "scrolled": false
   },
   "outputs": [
    {
     "data": {
      "text/markdown": [
       "### CLIRAD-LW"
      ],
      "text/plain": [
       "<IPython.core.display.Markdown object>"
      ]
     },
     "metadata": {},
     "output_type": "display_data"
    },
    {
     "data": {
      "text/markdown": [
       "### Table of Contents"
      ],
      "text/plain": [
       "<IPython.core.display.Markdown object>"
      ]
     },
     "metadata": {},
     "output_type": "display_data"
    },
    {
     "data": {
      "text/html": [
       "<a href=\"#Input_Parameters\">Input Parameters</a>"
      ],
      "text/plain": [
       "<IPython.core.display.HTML object>"
      ]
     },
     "metadata": {},
     "output_type": "display_data"
    },
    {
     "data": {
      "text/html": [
       "<a href=\"#LBLNEW_case_compaired_against\">LBLNEW case compaired against</a>"
      ],
      "text/plain": [
       "<IPython.core.display.HTML object>"
      ]
     },
     "metadata": {},
     "output_type": "display_data"
    },
    {
     "data": {
      "text/html": [
       "<a href=\"#Cooling_Rate_Profiles\">Cooling Rate Profiles</a>"
      ],
      "text/plain": [
       "<IPython.core.display.HTML object>"
      ]
     },
     "metadata": {},
     "output_type": "display_data"
    },
    {
     "data": {
      "text/html": [
       "<a href=\"#Flux_Comparison\">Flux Comparison</a>"
      ],
      "text/plain": [
       "<IPython.core.display.HTML object>"
      ]
     },
     "metadata": {},
     "output_type": "display_data"
    },
    {
     "data": {
      "text/html": [
       "<a href=\"#Best-fit_Parameters\">Best-fit Parameters</a>"
      ],
      "text/plain": [
       "<IPython.core.display.HTML object>"
      ]
     },
     "metadata": {},
     "output_type": "display_data"
    },
    {
     "data": {
      "text/html": [
       "<a id=\"Input_Parameters\"></a>"
      ],
      "text/plain": [
       "<IPython.core.display.HTML object>"
      ]
     },
     "metadata": {},
     "output_type": "display_data"
    },
    {
     "data": {
      "text/markdown": [
       "# Input Parameters"
      ],
      "text/plain": [
       "<IPython.core.display.Markdown object>"
      ]
     },
     "metadata": {},
     "output_type": "display_data"
    },
    {
     "name": "stdout",
     "output_type": "stream",
     "text": [
      "atmpro = mls\n",
      "band = [3]\n",
      "commitnumber = 7a7a0e1\n",
      "molecule = {'n2o': 3.2e-07}\n",
      "tsfc = 294\n"
     ]
    },
    {
     "data": {
      "text/html": [
       "<a id=\"LBLNEW_case_compaired_against\"></a>"
      ],
      "text/plain": [
       "<IPython.core.display.HTML object>"
      ]
     },
     "metadata": {},
     "output_type": "display_data"
    },
    {
     "data": {
      "text/markdown": [
       "# LBLNEW case compaired against"
      ],
      "text/plain": [
       "<IPython.core.display.Markdown object>"
      ]
     },
     "metadata": {},
     "output_type": "display_data"
    },
    {
     "name": "stdout",
     "output_type": "stream",
     "text": [
      "molecule = n2o\n",
      "band = 3a\n",
      "commitnumber = d62b618\n",
      "vmin = 540\n",
      "vmax = 620\n",
      "dv = 0.005\n",
      "nv = 200\n",
      "ref_pts = [(1, 250), (500, 250)]\n",
      "ng_refs = [1, 2]\n",
      "ng_adju = [0, 0]\n",
      "klin = 2.22e-20\n",
      "option_wgt_k = 1\n",
      "wgt = [(0.9,), (0.5, 0.95)]\n",
      "w_diffuse = [(1.8,), (1.66, 1.8)]\n",
      "option_wgt_flux = 1\n",
      "atmpro = mls\n",
      "tsfc = 294\n",
      "conc = 3.2e-07\n",
      "option_compute_btable = 0\n",
      "option_compute_ktable = 1\n"
     ]
    },
    {
     "data": {
      "text/html": [
       "<a id=\"Cooling_Rate_Profiles\"></a>"
      ],
      "text/plain": [
       "<IPython.core.display.HTML object>"
      ]
     },
     "metadata": {},
     "output_type": "display_data"
    },
    {
     "data": {
      "text/markdown": [
       "# Cooling Rate Profiles"
      ],
      "text/plain": [
       "<IPython.core.display.Markdown object>"
      ]
     },
     "metadata": {},
     "output_type": "display_data"
    },
    {
     "data": {
      "text/html": [
       "\n",
       "<div class=\"bk-root\">\n",
       "    <div class=\"bk-plotdiv\" id=\"c8499b77-ff3c-477f-b455-cbe1ea8f20ce\"></div>\n",
       "</div>"
      ]
     },
     "metadata": {},
     "output_type": "display_data"
    },
    {
     "data": {
      "application/javascript": [
       "(function(root) {\n",
       "  function embed_document(root) {\n",
       "    \n",
       "  var docs_json = {\"d25bcb61-93fd-4e51-b3f0-4b0ea2c06c38\":{\"roots\":{\"references\":[{\"attributes\":{},\"id\":\"2a93f2ad-29ab-47be-a753-81b53fda22e5\",\"type\":\"BasicTicker\"},{\"attributes\":{\"data_source\":{\"id\":\"b06f4ab6-32bf-4225-b200-6e7016bab161\",\"type\":\"ColumnDataSource\"},\"glyph\":{\"id\":\"c4da1894-1902-4090-b809-a823d37c1a64\",\"type\":\"Line\"},\"hover_glyph\":null,\"muted_glyph\":null,\"nonselection_glyph\":{\"id\":\"75189bd4-01f2-4c2a-b6b1-9b7fac3305a2\",\"type\":\"Line\"},\"selection_glyph\":null,\"view\":{\"id\":\"f0d8e412-773e-434b-9ba3-da9c006d186c\",\"type\":\"CDSView\"}},\"id\":\"0f894f60-d793-4041-b228-8f1036fc8efe\",\"type\":\"GlyphRenderer\"},{\"attributes\":{\"callback\":null,\"column_names\":[\"x\",\"y\"],\"data\":{\"x\":{\"__ndarray__\":\"emkAvgmAQz+rVEfuGcVIP8wcT2JQ4VE/lUY+Qty7Vz/V8yALeY5dPwB0LyeVpmE/lrN3RluVZD8So3bm9rdhP2nG6uOdW2o/v1Jtolw7bT9QXV992u5vP/uOreT0R3E/AxnYJ5uScj/CWuHHpMBzP3f4B2NmjHc/U8W+cOiegj/l2sz4KVSMP7I56MHGvZM/I8pJ7tGXmT9xspjOCumfPyAG0ZJ7RaM/s9CoonPcpj8lq/wUwsipP7txNEKdxKk/LfQrF9b/pj9LFPmsbbWjP+DiUNtgiqA/oRJJh5Zbmz9I+IMmLmyWP3pIOPqGLJI/D3ppnONijD9oOLS0kteEPw9BMOtnKHw/vVbpvgEFcT+Z110VsjdUP3EBH3VYvl6/9pBHLL1Icb+DTrH3ldh3v9wnnCVV132/8q1eMWIggb8yAyJ34kiAv6t94EDGcHm/hSVQ05bScb8cg4r98DJlv+03ig1CH06/LD3siYC9Rj+o66JLrEpiP6s4zqCzYm4/9qDavzYLdT8J9tY+aK96Py8uCLYgDIA/xVSK/sikgj/Ihms+eRuFP3xwG2aYdYc/qo7OWZy6iT/ljtuIV/SLP9LA42lmHo4/GvYEVPsekD8Xxvd0XiuRPztZdC9TOpI/Dkx4hsw8kz+YZ59zKUGUP4h/MYvrQJU/J3PdqNZBlj+E2QQYlj+XPyw0SnbwPJg/etl+S2MomT9pqmkPYgSaP58zktKmyZo/dOZWvBxsmz9DfPUrfAGcP2uIE2CkjJw/TL5YZrEXnT/hNU13VaKdPwEylfqJNZ4/\",\"dtype\":\"float64\",\"shape\":[75]},\"y\":{\"__ndarray__\":\"GhExyth1ND/Sv8nbtpRIP2vylNV0PVE/aTum7souWD/At0SJ8fVgPw3Iuahxymc/MSNhhJWvcD/bTfBN02d3P2zb5nxnaoA/CD5h5MAGhz8NmeH1TyaQP+zrCsc9p5Y/LbKd76fGnz/bLW5ISEmmPww9YvTcQq8/JV2OstnstT8Er5Y7M8G+P0c+r3jqkcU/5h99k6ZBzj88bCIzFzjVP4enV8oyxN0//yH99nXg5D8qOpLLf0jtP5kqGJXUifQ/c9cS8kHP/D+/DpwzojQEQIEmwoanVwxA4lgXt9HgE0BSSZ2AJuIbQAMJih9jjiNA5q4l5INuK0AwTKYKRj0zQNv5fmq8/DpAaCJseHrtQkB/+zpwzoxKQM3MzMzMeFJAZmZmZmZqWEAAAAAAAFxeQM3MzMzMJmJAmpmZmZkfZUBmZmZmZhhoQDMzMzMzEWtAAAAAAAAKbkBmZmZmZoFwQM3MzMzM/XFAMzMzMzN6c0CamZmZmfZ0QAAAAAAAc3ZAZmZmZmbvd0DNzMzMzGt5QDMzMzMz6HpAmpmZmZlkfEAAAAAAAOF9QGZmZmZmXX9AZmZmZuZsgECamZmZGSuBQM3MzMxM6YFAAAAAAICngkAzMzMzs2WDQGZmZmbmI4RAmpmZmRnihEDNzMzMTKCFQAAAAACAXoZAMzMzM7Mch0BmZmZm5tqHQJqZmZkZmYhAzczMzExXiUAAAAAAgBWKQDMzMzOz04pAZmZmZuaRi0CamZmZGVCMQM3MzMxMDo1AAAAAAIDMjUAzMzMzs4qOQGZmZmbmSI9A\",\"dtype\":\"float64\",\"shape\":[75]}}},\"id\":\"a6ec922c-66d8-4c47-a88f-61d6fabc4dff\",\"type\":\"ColumnDataSource\"},{\"attributes\":{\"plot\":null,\"text\":\"Linear pressure scale\"},\"id\":\"d21f8958-7791-4c52-81b7-e29c22195716\",\"type\":\"Title\"},{\"attributes\":{\"data_source\":{\"id\":\"bb122b54-eeca-4f50-8562-bc5f7692c688\",\"type\":\"ColumnDataSource\"},\"glyph\":{\"id\":\"ab4ff8cd-63c1-402a-a4fe-10a03fe814a4\",\"type\":\"Line\"},\"hover_glyph\":null,\"muted_glyph\":null,\"nonselection_glyph\":{\"id\":\"0c9838bb-d100-46dc-bc4d-a7fb4fa4b5e9\",\"type\":\"Line\"},\"selection_glyph\":null,\"view\":{\"id\":\"72dde612-8886-4a76-a3fa-26803b97e7e2\",\"type\":\"CDSView\"}},\"id\":\"cfce67df-aa5c-457b-aa56-9bbb08f93a47\",\"type\":\"GlyphRenderer\"},{\"attributes\":{\"plot\":{\"id\":\"3a900dfc-8fc9-425c-9c5c-a841499ad3c6\",\"subtype\":\"Figure\",\"type\":\"Plot\"},\"ticker\":{\"id\":\"6d428314-8ce3-4306-a237-01a4fa1b6317\",\"type\":\"BasicTicker\"}},\"id\":\"fa49f76d-319d-47e2-8d9f-568e2964708e\",\"type\":\"Grid\"},{\"attributes\":{\"dimension\":1,\"plot\":{\"id\":\"809b13cd-feb2-430a-b1f8-7409d4429112\",\"subtype\":\"Figure\",\"type\":\"Plot\"},\"ticker\":{\"id\":\"e9b3e350-b682-4ed5-8d4a-c55fc83a379c\",\"type\":\"LogTicker\"}},\"id\":\"4c0e40bf-2745-47c7-a1c1-fa8c68f69609\",\"type\":\"Grid\"},{\"attributes\":{},\"id\":\"083a0771-8215-44a9-b545-712a8bda495d\",\"type\":\"BasicTickFormatter\"},{\"attributes\":{\"callback\":null,\"column_names\":[\"x\",\"y\"],\"data\":{\"x\":{\"__ndarray__\":\"Ommkvol1cT+JPIKt7QdyPzvh6ETQQHM/pq12aSyOdD/bhYGw+t11P2SuUWPeL3c/juiTycODeD9Bwh4Pj9l5PwsBNwkpMXs/iwqec0qKfD8vuqJrleR9P4IzCni+P38/MEPrC7BNgD9r7Qjr+AaBP1H0AjqvOIM/zFbPdyNdiT+Cs31EwUyRPz5stv20XpY/VoWQjunmmz9jEMov8PegP7NZ/Z9cM6Q/NF+V/j6jpz82xnHQPIGqP8WikXZHPKo/K9KaKag9qD8R7ojh51qlPzRxHS3PhqI/05E/O9Ahnz8xzp8RZ4KZP/SnGDyqApQ/ETZlCfLXjT9+dtZESgyEP+HkdfisHnc/RxdsQhlsYz/cG0Pq4g5Dv8gU0Bqp02u/yg7fdb5ndb90ON3ryWB6vw4OY8O0Hn+/tHlR+MIdgb+QyC/mpPx/v3wpFXyuCXm/vkUJ9VKDcb9wNxpeVopkv2U83/5xskm/xAKB7i5lTD+E3gxaes5rPwrT8EoQ428/euuz6Kk7dz+CccVz9tt7PyTdsjo6PIE/XiErKfjdgz+Hk57YJYiGPzalfEITKYk/hHh96suqiz9eeWlwsxqOP5p/ub+SKJA/VLJIEAtYkT++HAFH9HuSP+vRTijomJM/XikMCHS4lD/ywxPBibaVPwDKu0BLy5Y/NAHsxxnPlz+JekhPTd2YPyhilfuy7pk/ftYQb3Hamj/5+zV4Z72bP91BXqKJlpw/+lzj95pMnT/BEBsn4+qdP5rkghVZgp4/YMSG+8QZnz9C8oPvzK+fP00+onOKD6A/\",\"dtype\":\"float64\",\"shape\":[75]},\"y\":{\"__ndarray__\":\"GhExyth1ND/Sv8nbtpRIP2vylNV0PVE/aTum7souWD/At0SJ8fVgPw3Iuahxymc/MSNhhJWvcD/bTfBN02d3P2zb5nxnaoA/CD5h5MAGhz8NmeH1TyaQP+zrCsc9p5Y/LbKd76fGnz/bLW5ISEmmPww9YvTcQq8/JV2OstnstT8Er5Y7M8G+P0c+r3jqkcU/5h99k6ZBzj88bCIzFzjVP4enV8oyxN0//yH99nXg5D8qOpLLf0jtP5kqGJXUifQ/c9cS8kHP/D+/DpwzojQEQIEmwoanVwxA4lgXt9HgE0BSSZ2AJuIbQAMJih9jjiNA5q4l5INuK0AwTKYKRj0zQNv5fmq8/DpAaCJseHrtQkB/+zpwzoxKQM3MzMzMeFJAZmZmZmZqWEAAAAAAAFxeQM3MzMzMJmJAmpmZmZkfZUBmZmZmZhhoQDMzMzMzEWtAAAAAAAAKbkBmZmZmZoFwQM3MzMzM/XFAMzMzMzN6c0CamZmZmfZ0QAAAAAAAc3ZAZmZmZmbvd0DNzMzMzGt5QDMzMzMz6HpAmpmZmZlkfEAAAAAAAOF9QGZmZmZmXX9AZmZmZuZsgECamZmZGSuBQM3MzMxM6YFAAAAAAICngkAzMzMzs2WDQGZmZmbmI4RAmpmZmRnihEDNzMzMTKCFQAAAAACAXoZAMzMzM7Mch0BmZmZm5tqHQJqZmZkZmYhAzczMzExXiUAAAAAAgBWKQDMzMzOz04pAZmZmZuaRi0CamZmZGVCMQM3MzMxMDo1AAAAAAIDMjUAzMzMzs4qOQGZmZmbmSI9A\",\"dtype\":\"float64\",\"shape\":[75]}}},\"id\":\"a07b04c7-efb6-4dc2-bb23-1a6ab977ff86\",\"type\":\"ColumnDataSource\"},{\"attributes\":{\"axis_label\":\"cooling rate [K/day]\",\"formatter\":{\"id\":\"0bb5e652-0774-45a7-9dd1-f7f17a1c788e\",\"type\":\"BasicTickFormatter\"},\"plot\":{\"id\":\"3a900dfc-8fc9-425c-9c5c-a841499ad3c6\",\"subtype\":\"Figure\",\"type\":\"Plot\"},\"ticker\":{\"id\":\"6d428314-8ce3-4306-a237-01a4fa1b6317\",\"type\":\"BasicTicker\"}},\"id\":\"1f4437f3-de4b-401c-ad1d-7299d1e7d260\",\"type\":\"LinearAxis\"},{\"attributes\":{\"callback\":null,\"end\":0.052370048254999996,\"start\":-0.009114935155},\"id\":\"9255e8f7-5325-48ea-bb80-a8a4e60e5bc3\",\"type\":\"Range1d\"},{\"attributes\":{\"callback\":null,\"column_names\":[\"x\",\"y\"],\"data\":{\"x\":{\"__ndarray__\":\"emkAvgmAQz+rVEfuGcVIP8wcT2JQ4VE/lUY+Qty7Vz/V8yALeY5dPwB0LyeVpmE/lrN3RluVZD8So3bm9rdhP2nG6uOdW2o/v1Jtolw7bT9QXV992u5vP/uOreT0R3E/AxnYJ5uScj/CWuHHpMBzP3f4B2NmjHc/U8W+cOiegj/l2sz4KVSMP7I56MHGvZM/I8pJ7tGXmT9xspjOCumfPyAG0ZJ7RaM/s9CoonPcpj8lq/wUwsipP7txNEKdxKk/LfQrF9b/pj9LFPmsbbWjP+DiUNtgiqA/oRJJh5Zbmz9I+IMmLmyWP3pIOPqGLJI/D3ppnONijD9oOLS0kteEPw9BMOtnKHw/vVbpvgEFcT+Z110VsjdUP3EBH3VYvl6/9pBHLL1Icb+DTrH3ldh3v9wnnCVV132/8q1eMWIggb8yAyJ34kiAv6t94EDGcHm/hSVQ05bScb8cg4r98DJlv+03ig1CH06/LD3siYC9Rj+o66JLrEpiP6s4zqCzYm4/9qDavzYLdT8J9tY+aK96Py8uCLYgDIA/xVSK/sikgj/Ihms+eRuFP3xwG2aYdYc/qo7OWZy6iT/ljtuIV/SLP9LA42lmHo4/GvYEVPsekD8Xxvd0XiuRPztZdC9TOpI/Dkx4hsw8kz+YZ59zKUGUP4h/MYvrQJU/J3PdqNZBlj+E2QQYlj+XPyw0SnbwPJg/etl+S2MomT9pqmkPYgSaP58zktKmyZo/dOZWvBxsmz9DfPUrfAGcP2uIE2CkjJw/TL5YZrEXnT/hNU13VaKdPwEylfqJNZ4/\",\"dtype\":\"float64\",\"shape\":[75]},\"y\":{\"__ndarray__\":\"GhExyth1ND/Sv8nbtpRIP2vylNV0PVE/aTum7souWD/At0SJ8fVgPw3Iuahxymc/MSNhhJWvcD/bTfBN02d3P2zb5nxnaoA/CD5h5MAGhz8NmeH1TyaQP+zrCsc9p5Y/LbKd76fGnz/bLW5ISEmmPww9YvTcQq8/JV2OstnstT8Er5Y7M8G+P0c+r3jqkcU/5h99k6ZBzj88bCIzFzjVP4enV8oyxN0//yH99nXg5D8qOpLLf0jtP5kqGJXUifQ/c9cS8kHP/D+/DpwzojQEQIEmwoanVwxA4lgXt9HgE0BSSZ2AJuIbQAMJih9jjiNA5q4l5INuK0AwTKYKRj0zQNv5fmq8/DpAaCJseHrtQkB/+zpwzoxKQM3MzMzMeFJAZmZmZmZqWEAAAAAAAFxeQM3MzMzMJmJAmpmZmZkfZUBmZmZmZhhoQDMzMzMzEWtAAAAAAAAKbkBmZmZmZoFwQM3MzMzM/XFAMzMzMzN6c0CamZmZmfZ0QAAAAAAAc3ZAZmZmZmbvd0DNzMzMzGt5QDMzMzMz6HpAmpmZmZlkfEAAAAAAAOF9QGZmZmZmXX9AZmZmZuZsgECamZmZGSuBQM3MzMxM6YFAAAAAAICngkAzMzMzs2WDQGZmZmbmI4RAmpmZmRnihEDNzMzMTKCFQAAAAACAXoZAMzMzM7Mch0BmZmZm5tqHQJqZmZkZmYhAzczMzExXiUAAAAAAgBWKQDMzMzOz04pAZmZmZuaRi0CamZmZGVCMQM3MzMxMDo1AAAAAAIDMjUAzMzMzs4qOQGZmZmbmSI9A\",\"dtype\":\"float64\",\"shape\":[75]}}},\"id\":\"b06f4ab6-32bf-4225-b200-6e7016bab161\",\"type\":\"ColumnDataSource\"},{\"attributes\":{\"children\":[{\"id\":\"b5005822-a1e3-43dc-8933-434b3fa55813\",\"type\":\"Row\"}]},\"id\":\"df63fa2c-82e0-4e72-978d-9ec8569f2a1d\",\"type\":\"Column\"},{\"attributes\":{\"fill_alpha\":{\"value\":0.7},\"fill_color\":{\"value\":\"#4daf4a\"},\"line_alpha\":{\"value\":0.7},\"line_color\":{\"value\":\"#4daf4a\"},\"x\":{\"field\":\"x\"},\"y\":{\"field\":\"y\"}},\"id\":\"0aaa1f59-0a48-4b39-abdc-956f691c2fbd\",\"type\":\"Circle\"},{\"attributes\":{\"fill_alpha\":{\"value\":0.1},\"fill_color\":{\"value\":\"#1f77b4\"},\"line_alpha\":{\"value\":0.1},\"line_color\":{\"value\":\"#1f77b4\"},\"x\":{\"field\":\"x\"},\"y\":{\"field\":\"y\"}},\"id\":\"336388a3-9fc9-4442-9f61-261a93af3e84\",\"type\":\"Circle\"},{\"attributes\":{\"callback\":null,\"column_names\":[\"x\",\"y\"],\"data\":{\"x\":{\"__ndarray__\":\"Ommkvol1cT+JPIKt7QdyPzvh6ETQQHM/pq12aSyOdD/bhYGw+t11P2SuUWPeL3c/juiTycODeD9Bwh4Pj9l5PwsBNwkpMXs/iwqec0qKfD8vuqJrleR9P4IzCni+P38/MEPrC7BNgD9r7Qjr+AaBP1H0AjqvOIM/zFbPdyNdiT+Cs31EwUyRPz5stv20XpY/VoWQjunmmz9jEMov8PegP7NZ/Z9cM6Q/NF+V/j6jpz82xnHQPIGqP8WikXZHPKo/K9KaKag9qD8R7ojh51qlPzRxHS3PhqI/05E/O9Ahnz8xzp8RZ4KZP/SnGDyqApQ/ETZlCfLXjT9+dtZESgyEP+HkdfisHnc/RxdsQhlsYz/cG0Pq4g5Dv8gU0Bqp02u/yg7fdb5ndb90ON3ryWB6vw4OY8O0Hn+/tHlR+MIdgb+QyC/mpPx/v3wpFXyuCXm/vkUJ9VKDcb9wNxpeVopkv2U83/5xskm/xAKB7i5lTD+E3gxaes5rPwrT8EoQ428/euuz6Kk7dz+CccVz9tt7PyTdsjo6PIE/XiErKfjdgz+Hk57YJYiGPzalfEITKYk/hHh96suqiz9eeWlwsxqOP5p/ub+SKJA/VLJIEAtYkT++HAFH9HuSP+vRTijomJM/XikMCHS4lD/ywxPBibaVPwDKu0BLy5Y/NAHsxxnPlz+JekhPTd2YPyhilfuy7pk/ftYQb3Hamj/5+zV4Z72bP91BXqKJlpw/+lzj95pMnT/BEBsn4+qdP5rkghVZgp4/YMSG+8QZnz9C8oPvzK+fP00+onOKD6A/\",\"dtype\":\"float64\",\"shape\":[75]},\"y\":{\"__ndarray__\":\"GhExyth1ND/Sv8nbtpRIP2vylNV0PVE/aTum7souWD/At0SJ8fVgPw3Iuahxymc/MSNhhJWvcD/bTfBN02d3P2zb5nxnaoA/CD5h5MAGhz8NmeH1TyaQP+zrCsc9p5Y/LbKd76fGnz/bLW5ISEmmPww9YvTcQq8/JV2OstnstT8Er5Y7M8G+P0c+r3jqkcU/5h99k6ZBzj88bCIzFzjVP4enV8oyxN0//yH99nXg5D8qOpLLf0jtP5kqGJXUifQ/c9cS8kHP/D+/DpwzojQEQIEmwoanVwxA4lgXt9HgE0BSSZ2AJuIbQAMJih9jjiNA5q4l5INuK0AwTKYKRj0zQNv5fmq8/DpAaCJseHrtQkB/+zpwzoxKQM3MzMzMeFJAZmZmZmZqWEAAAAAAAFxeQM3MzMzMJmJAmpmZmZkfZUBmZmZmZhhoQDMzMzMzEWtAAAAAAAAKbkBmZmZmZoFwQM3MzMzM/XFAMzMzMzN6c0CamZmZmfZ0QAAAAAAAc3ZAZmZmZmbvd0DNzMzMzGt5QDMzMzMz6HpAmpmZmZlkfEAAAAAAAOF9QGZmZmZmXX9AZmZmZuZsgECamZmZGSuBQM3MzMxM6YFAAAAAAICngkAzMzMzs2WDQGZmZmbmI4RAmpmZmRnihEDNzMzMTKCFQAAAAACAXoZAMzMzM7Mch0BmZmZm5tqHQJqZmZkZmYhAzczMzExXiUAAAAAAgBWKQDMzMzOz04pAZmZmZuaRi0CamZmZGVCMQM3MzMxMDo1AAAAAAIDMjUAzMzMzs4qOQGZmZmbmSI9A\",\"dtype\":\"float64\",\"shape\":[75]}}},\"id\":\"6296bd09-f780-4a73-b440-7ff4acd60101\",\"type\":\"ColumnDataSource\"},{\"attributes\":{\"axis_label\":\"pressure [mb]\",\"formatter\":{\"id\":\"c31ffa6d-3c95-40aa-861d-229812d500f1\",\"type\":\"BasicTickFormatter\"},\"plot\":{\"id\":\"3a900dfc-8fc9-425c-9c5c-a841499ad3c6\",\"subtype\":\"Figure\",\"type\":\"Plot\"},\"ticker\":{\"id\":\"2a93f2ad-29ab-47be-a753-81b53fda22e5\",\"type\":\"BasicTicker\"}},\"id\":\"7b505829-0268-445c-a45d-8592f1501073\",\"type\":\"LinearAxis\"},{\"attributes\":{\"ticker\":null},\"id\":\"aa780687-4cfb-4e11-9862-661da24aad96\",\"type\":\"LogTickFormatter\"},{\"attributes\":{\"source\":{\"id\":\"ddafdf7a-a638-4eef-9be2-75f5728a6668\",\"type\":\"ColumnDataSource\"}},\"id\":\"ff2553c0-f3e6-4eb9-b2f5-35b3670158a3\",\"type\":\"CDSView\"},{\"attributes\":{\"data_source\":{\"id\":\"a6ec922c-66d8-4c47-a88f-61d6fabc4dff\",\"type\":\"ColumnDataSource\"},\"glyph\":{\"id\":\"0aaa1f59-0a48-4b39-abdc-956f691c2fbd\",\"type\":\"Circle\"},\"hover_glyph\":null,\"muted_glyph\":null,\"nonselection_glyph\":{\"id\":\"336388a3-9fc9-4442-9f61-261a93af3e84\",\"type\":\"Circle\"},\"selection_glyph\":null,\"view\":{\"id\":\"1b14d92f-f597-42c3-add2-6b612f9c1a81\",\"type\":\"CDSView\"}},\"id\":\"fb90785d-33cb-49e7-8a35-99a35781eb2d\",\"type\":\"GlyphRenderer\"},{\"attributes\":{},\"id\":\"fc3bf823-393b-4856-a194-2c137a15af2a\",\"type\":\"PanTool\"},{\"attributes\":{},\"id\":\"530e8cc3-868f-4372-8278-de91f041cf83\",\"type\":\"LogScale\"},{\"attributes\":{\"source\":{\"id\":\"a6ec922c-66d8-4c47-a88f-61d6fabc4dff\",\"type\":\"ColumnDataSource\"}},\"id\":\"1b14d92f-f597-42c3-add2-6b612f9c1a81\",\"type\":\"CDSView\"},{\"attributes\":{\"line_color\":\"#4daf4a\",\"line_width\":1.5,\"x\":{\"field\":\"x\"},\"y\":{\"field\":\"y\"}},\"id\":\"c4da1894-1902-4090-b809-a823d37c1a64\",\"type\":\"Line\"},{\"attributes\":{},\"id\":\"a0a6c9e0-d4dc-404e-9c35-8c063238c24b\",\"type\":\"ResetTool\"},{\"attributes\":{},\"id\":\"0bb5e652-0774-45a7-9dd1-f7f17a1c788e\",\"type\":\"BasicTickFormatter\"},{\"attributes\":{\"line_alpha\":0.6,\"line_color\":\"#984ea3\",\"line_width\":3,\"x\":{\"field\":\"x\"},\"y\":{\"field\":\"y\"}},\"id\":\"f1065a47-d6b0-4621-85f1-b2c31bc6b838\",\"type\":\"Line\"},{\"attributes\":{\"data_source\":{\"id\":\"6babad50-7199-4fa1-8224-4208a32bbe6f\",\"type\":\"ColumnDataSource\"},\"glyph\":{\"id\":\"43a7b4e1-646f-47d3-893f-9e42e5963d17\",\"type\":\"Line\"},\"hover_glyph\":null,\"muted_glyph\":null,\"nonselection_glyph\":{\"id\":\"dafdafb4-5212-4762-80c1-11b9fa6c257d\",\"type\":\"Line\"},\"selection_glyph\":null,\"view\":{\"id\":\"224a4d38-a4f6-4736-ad32-d162d1afc5fb\",\"type\":\"CDSView\"}},\"id\":\"b6a4a516-ce44-4fa6-a4c9-e65b2bff0ec7\",\"type\":\"GlyphRenderer\"},{\"attributes\":{\"plot\":{\"id\":\"809b13cd-feb2-430a-b1f8-7409d4429112\",\"subtype\":\"Figure\",\"type\":\"Plot\"},\"ticker\":{\"id\":\"b865d2a7-7528-422e-9367-9ef050247a35\",\"type\":\"BasicTicker\"}},\"id\":\"686f34c3-e12c-47f7-84dd-922843ecab87\",\"type\":\"Grid\"},{\"attributes\":{\"line_alpha\":0.1,\"line_color\":\"#1f77b4\",\"line_width\":1.5,\"x\":{\"field\":\"x\"},\"y\":{\"field\":\"y\"}},\"id\":\"75189bd4-01f2-4c2a-b6b1-9b7fac3305a2\",\"type\":\"Line\"},{\"attributes\":{\"callback\":null,\"column_names\":[\"x\",\"y\"],\"data\":{\"x\":{\"__ndarray__\":\"Ommkvol1cT+JPIKt7QdyPzvh6ETQQHM/pq12aSyOdD/bhYGw+t11P2SuUWPeL3c/juiTycODeD9Bwh4Pj9l5PwsBNwkpMXs/iwqec0qKfD8vuqJrleR9P4IzCni+P38/MEPrC7BNgD9r7Qjr+AaBP1H0AjqvOIM/zFbPdyNdiT+Cs31EwUyRPz5stv20XpY/VoWQjunmmz9jEMov8PegP7NZ/Z9cM6Q/NF+V/j6jpz82xnHQPIGqP8WikXZHPKo/K9KaKag9qD8R7ojh51qlPzRxHS3PhqI/05E/O9Ahnz8xzp8RZ4KZP/SnGDyqApQ/ETZlCfLXjT9+dtZESgyEP+HkdfisHnc/RxdsQhlsYz/cG0Pq4g5Dv8gU0Bqp02u/yg7fdb5ndb90ON3ryWB6vw4OY8O0Hn+/tHlR+MIdgb+QyC/mpPx/v3wpFXyuCXm/vkUJ9VKDcb9wNxpeVopkv2U83/5xskm/xAKB7i5lTD+E3gxaes5rPwrT8EoQ428/euuz6Kk7dz+CccVz9tt7PyTdsjo6PIE/XiErKfjdgz+Hk57YJYiGPzalfEITKYk/hHh96suqiz9eeWlwsxqOP5p/ub+SKJA/VLJIEAtYkT++HAFH9HuSP+vRTijomJM/XikMCHS4lD/ywxPBibaVPwDKu0BLy5Y/NAHsxxnPlz+JekhPTd2YPyhilfuy7pk/ftYQb3Hamj/5+zV4Z72bP91BXqKJlpw/+lzj95pMnT/BEBsn4+qdP5rkghVZgp4/YMSG+8QZnz9C8oPvzK+fP00+onOKD6A/\",\"dtype\":\"float64\",\"shape\":[75]},\"y\":{\"__ndarray__\":\"GhExyth1ND/Sv8nbtpRIP2vylNV0PVE/aTum7souWD/At0SJ8fVgPw3Iuahxymc/MSNhhJWvcD/bTfBN02d3P2zb5nxnaoA/CD5h5MAGhz8NmeH1TyaQP+zrCsc9p5Y/LbKd76fGnz/bLW5ISEmmPww9YvTcQq8/JV2OstnstT8Er5Y7M8G+P0c+r3jqkcU/5h99k6ZBzj88bCIzFzjVP4enV8oyxN0//yH99nXg5D8qOpLLf0jtP5kqGJXUifQ/c9cS8kHP/D+/DpwzojQEQIEmwoanVwxA4lgXt9HgE0BSSZ2AJuIbQAMJih9jjiNA5q4l5INuK0AwTKYKRj0zQNv5fmq8/DpAaCJseHrtQkB/+zpwzoxKQM3MzMzMeFJAZmZmZmZqWEAAAAAAAFxeQM3MzMzMJmJAmpmZmZkfZUBmZmZmZhhoQDMzMzMzEWtAAAAAAAAKbkBmZmZmZoFwQM3MzMzM/XFAMzMzMzN6c0CamZmZmfZ0QAAAAAAAc3ZAZmZmZmbvd0DNzMzMzGt5QDMzMzMz6HpAmpmZmZlkfEAAAAAAAOF9QGZmZmZmXX9AZmZmZuZsgECamZmZGSuBQM3MzMxM6YFAAAAAAICngkAzMzMzs2WDQGZmZmbmI4RAmpmZmRnihEDNzMzMTKCFQAAAAACAXoZAMzMzM7Mch0BmZmZm5tqHQJqZmZkZmYhAzczMzExXiUAAAAAAgBWKQDMzMzOz04pAZmZmZuaRi0CamZmZGVCMQM3MzMxMDo1AAAAAAIDMjUAzMzMzs4qOQGZmZmbmSI9A\",\"dtype\":\"float64\",\"shape\":[75]}}},\"id\":\"67e9a23d-fafc-4e84-b03d-1a0abc19dd31\",\"type\":\"ColumnDataSource\"},{\"attributes\":{\"below\":[{\"id\":\"1f4437f3-de4b-401c-ad1d-7299d1e7d260\",\"type\":\"LinearAxis\"}],\"left\":[{\"id\":\"7b505829-0268-445c-a45d-8592f1501073\",\"type\":\"LinearAxis\"}],\"plot_height\":500,\"plot_width\":400,\"renderers\":[{\"id\":\"1f4437f3-de4b-401c-ad1d-7299d1e7d260\",\"type\":\"LinearAxis\"},{\"id\":\"fa49f76d-319d-47e2-8d9f-568e2964708e\",\"type\":\"Grid\"},{\"id\":\"7b505829-0268-445c-a45d-8592f1501073\",\"type\":\"LinearAxis\"},{\"id\":\"f3d344d6-60dd-46c5-b224-5c196f853e86\",\"type\":\"Grid\"},{\"id\":\"77d0a4d0-dbb2-479b-bf37-71fd2810c6dc\",\"type\":\"BoxAnnotation\"},{\"id\":\"cfce67df-aa5c-457b-aa56-9bbb08f93a47\",\"type\":\"GlyphRenderer\"},{\"id\":\"fbd46c78-2ba9-4c8a-a898-4a506d878b03\",\"type\":\"GlyphRenderer\"},{\"id\":\"b6a4a516-ce44-4fa6-a4c9-e65b2bff0ec7\",\"type\":\"GlyphRenderer\"},{\"id\":\"13d86802-d2ed-4434-a244-6ce8ef57847d\",\"type\":\"GlyphRenderer\"},{\"id\":\"8fae612f-6b42-40f1-9772-d01a45ddc807\",\"type\":\"GlyphRenderer\"}],\"title\":{\"id\":\"d21f8958-7791-4c52-81b7-e29c22195716\",\"type\":\"Title\"},\"toolbar\":{\"id\":\"ec4c26a9-389d-40be-863e-756b9eb2e6af\",\"type\":\"Toolbar\"},\"toolbar_location\":null,\"x_range\":{\"id\":\"069a056f-d68a-4365-9c34-60ae04481115\",\"type\":\"Range1d\"},\"x_scale\":{\"id\":\"2006a821-fe7a-43a8-a1df-ea97c4408e21\",\"type\":\"LinearScale\"},\"y_range\":{\"id\":\"4afd1d37-8cd9-438d-9caa-56f1e6171b59\",\"type\":\"Range1d\"},\"y_scale\":{\"id\":\"333bd65e-ed9e-47e1-b2bf-4539b45210b1\",\"type\":\"LinearScale\"}},\"id\":\"3a900dfc-8fc9-425c-9c5c-a841499ad3c6\",\"subtype\":\"Figure\",\"type\":\"Plot\"},{\"attributes\":{\"label\":{\"value\":\"CRD\"},\"renderers\":[{\"id\":\"fb90785d-33cb-49e7-8a35-99a35781eb2d\",\"type\":\"GlyphRenderer\"},{\"id\":\"0f894f60-d793-4041-b228-8f1036fc8efe\",\"type\":\"GlyphRenderer\"}]},\"id\":\"771a4f12-7000-4b2e-b0a7-b80612556a53\",\"type\":\"LegendItem\"},{\"attributes\":{\"source\":{\"id\":\"b06f4ab6-32bf-4225-b200-6e7016bab161\",\"type\":\"ColumnDataSource\"}},\"id\":\"f0d8e412-773e-434b-9ba3-da9c006d186c\",\"type\":\"CDSView\"},{\"attributes\":{},\"id\":\"bc1d7f7a-c18e-4d10-bdd1-312c4a49360b\",\"type\":\"PanTool\"},{\"attributes\":{\"fill_alpha\":{\"value\":0.7},\"fill_color\":{\"value\":\"#984ea3\"},\"line_alpha\":{\"value\":0.7},\"line_color\":{\"value\":\"#984ea3\"},\"x\":{\"field\":\"x\"},\"y\":{\"field\":\"y\"}},\"id\":\"4e02d2b1-92ef-4f72-b617-ed7fad73d042\",\"type\":\"Square\"},{\"attributes\":{\"toolbar\":{\"id\":\"a9f999d4-9c81-48a0-92a0-26cbf05abe8b\",\"type\":\"ProxyToolbar\"},\"toolbar_location\":\"above\"},\"id\":\"35186a8e-c987-41a2-8bb7-92d266dd0bfc\",\"type\":\"ToolbarBox\"},{\"attributes\":{\"bottom_units\":\"screen\",\"fill_alpha\":{\"value\":0.5},\"fill_color\":{\"value\":\"lightgrey\"},\"left_units\":\"screen\",\"level\":\"overlay\",\"line_alpha\":{\"value\":1.0},\"line_color\":{\"value\":\"black\"},\"line_dash\":[4,4],\"line_width\":{\"value\":2},\"plot\":null,\"render_mode\":\"css\",\"right_units\":\"screen\",\"top_units\":\"screen\"},\"id\":\"245e33c2-a1d3-4331-9f7c-ef6ae8bf936a\",\"type\":\"BoxAnnotation\"},{\"attributes\":{\"data_source\":{\"id\":\"ddafdf7a-a638-4eef-9be2-75f5728a6668\",\"type\":\"ColumnDataSource\"},\"glyph\":{\"id\":\"c4617f88-2057-4894-ac04-875a88044cf0\",\"type\":\"Line\"},\"hover_glyph\":null,\"muted_glyph\":null,\"nonselection_glyph\":{\"id\":\"664ef72e-a40f-42bd-bdc4-1cdaca4dda2b\",\"type\":\"Line\"},\"selection_glyph\":null,\"view\":{\"id\":\"ff2553c0-f3e6-4eb9-b2f5-35b3670158a3\",\"type\":\"CDSView\"}},\"id\":\"ee90d16e-6b60-4c3a-b426-d3da37fab7dd\",\"type\":\"GlyphRenderer\"},{\"attributes\":{\"source\":{\"id\":\"6296bd09-f780-4a73-b440-7ff4acd60101\",\"type\":\"ColumnDataSource\"}},\"id\":\"579ebbf7-1e62-4413-ab40-27913e6b7cf5\",\"type\":\"CDSView\"},{\"attributes\":{},\"id\":\"38b09cc8-36fc-4a78-a4e1-1f1bdf60e112\",\"type\":\"SaveTool\"},{\"attributes\":{\"line_alpha\":0.1,\"line_color\":\"#1f77b4\",\"line_dash\":[6],\"line_width\":5,\"x\":{\"field\":\"x\"},\"y\":{\"field\":\"y\"}},\"id\":\"664ef72e-a40f-42bd-bdc4-1cdaca4dda2b\",\"type\":\"Line\"},{\"attributes\":{\"fill_alpha\":{\"value\":0.1},\"fill_color\":{\"value\":\"#1f77b4\"},\"line_alpha\":{\"value\":0.1},\"line_color\":{\"value\":\"#1f77b4\"},\"x\":{\"field\":\"x\"},\"y\":{\"field\":\"y\"}},\"id\":\"c731eccd-4922-4d4d-9395-299eba2302c9\",\"type\":\"Square\"},{\"attributes\":{\"data_source\":{\"id\":\"6296bd09-f780-4a73-b440-7ff4acd60101\",\"type\":\"ColumnDataSource\"},\"glyph\":{\"id\":\"4e02d2b1-92ef-4f72-b617-ed7fad73d042\",\"type\":\"Square\"},\"hover_glyph\":null,\"muted_glyph\":null,\"nonselection_glyph\":{\"id\":\"c731eccd-4922-4d4d-9395-299eba2302c9\",\"type\":\"Square\"},\"selection_glyph\":null,\"view\":{\"id\":\"579ebbf7-1e62-4413-ab40-27913e6b7cf5\",\"type\":\"CDSView\"}},\"id\":\"3059ea56-51f7-4656-8e97-a27722210e30\",\"type\":\"GlyphRenderer\"},{\"attributes\":{\"children\":[{\"id\":\"35186a8e-c987-41a2-8bb7-92d266dd0bfc\",\"type\":\"ToolbarBox\"},{\"id\":\"df63fa2c-82e0-4e72-978d-9ec8569f2a1d\",\"type\":\"Column\"}]},\"id\":\"92d93a8c-348c-4e1f-aaf1-82cad1a0b391\",\"type\":\"Column\"},{\"attributes\":{\"callback\":null,\"column_names\":[\"x\",\"y\"],\"data\":{\"x\":{\"__ndarray__\":\"8F/Nv2Vnuj8AAAAAAAAAAAAAAAAAAAAAAAAAAAAAAADXN75jacGnPwAAAAAAAAAAAAAAAAAAAAAAAAAAAAAAADIM+gAUi5g/AAAAAAAAAAAeZuYEmPKIPxeGteEKyXE/YadqGMRbiT8Wg+0CCh57P+XVJyOoxnk/GqFE8GTcjT+azf+Fx3mNP0l2p2bPmJU/2dG0m0s3mj9hvqNjWt2eP3zPzLzqO6M/7o9n/1LypT8pn0tcuo6oP4YdCMGR3ag/uphIZH3Vpj9+TXF9oUWkP6oodQHjpKE/aWoWvncBnj9OlZkZ0OeYP24Tp8Dt/JM/rWva44otjj9G1lBh4lOEP1fCZsInhHc/crbKXZVVYj8fmEkdFYdOvyyitKSU8W6/FmHN/H9gd7+agwg+qyh8vxW4Wr4lLYC/hl6VQNBugb+kT6mexTyAv/TR5/z74Hm/S8f7/RKUcr/buPyBFv1mv58VE0IgQ1K/HvV7ws2vQD9pIN2iqEBhPwI2VMbn4G0/jFzH4j0adT8GTVUeABh7PyzUkr70ZYA/MM5XASkugz8dxE2UJNKFP6oducZLXYg/uk5vu9rOij+kjMrj7zKNP0LTPav/hY8/bvP5OgbqkD9MJScGjQiSP3cdoriAI5M/EFSfQck4lD/DLYzld0mVP1MzLMXcVZY/Dkbiocxflz8sK5QfzWWYP4XGDIe3ZJk/r/Ek3yhWmj9FN5Bo4TabP+5BT50j/5s/x00cX8ytnD+4AtUCJUydP0qCm4Vw3p0/yA+IHMpsnj96vOnGVvieP2JGhaUSgp8/\",\"dtype\":\"float64\",\"shape\":[75]},\"y\":{\"__ndarray__\":\"S/O/Q+51ND/430zAtpRIP2vylNV0PVE/QxsjCssuWD/TR4Z78fVgP+inNsRxymc/OuuBfZWvcD/u3TFA02d3P2d3VoBnaoA/CD5h5MAGhz/1pA8HUCaQP+zrCsc9p5Y/Fb7LAKjGnz/nJ9c/SEmmPwBD+fzcQq8/FOZwv9nstT8Er5Y7M8G+P0c+r3jqkcU/yK72qKZBzj+tM989FzjVPxbgmr8yxN0/cOm5AXbg5D+5ctXAf0jtP5kqGJXUifQ/DsrqDELP/D8MCAhBojQEQDItVnmnVwxAiFXNvdHgE0BSSZ2AJuIbQAMJih9jjiNA5q4l5INuK0CPVN/5RT0zQHzxRXu8/DpAOZ7PgHrtQkAg8wGBzoxKQBSTN8DMeFJA2NmQf2ZqWEAAAAAAAFxeQEQX1LfMJmJAmpmZmZkfZUBmZmZmZhhoQLzoK0gzEWtAAAAAAAAKbkCiC+pbZoFwQAhyUMLM/XFA+I2vPTN6c0AQ5KCEmfZ0QAAAAAAAc3ZA8Btfe2bvd0AIclDCzGt5QPeNrz0z6HpAEOSghJlkfEAAAAAAAOF9QKML6ltmXX9ABTkoYeZsgED7xteeGSuBQAhyUMJM6YFAAAAAAICngkD4ja89s2WDQAU5KGHmI4RA+8bXnhnihEAIclDCTKCFQAAAAACAXoZA+I2vPbMch0AFOShh5tqHQPvG154ZmYhACHJQwkxXiUAAAAAAgBWKQPeNrz2z04pABTkoYeaRi0D7xteeGVCMQAlyUMJMDo1AAAAAAIDMjUD3ja89s4qOQGZmZmbmSI9A\",\"dtype\":\"float64\",\"shape\":[75]}}},\"id\":\"bb122b54-eeca-4f50-8562-bc5f7692c688\",\"type\":\"ColumnDataSource\"},{\"attributes\":{\"fill_alpha\":{\"value\":0.1},\"fill_color\":{\"value\":\"#1f77b4\"},\"line_alpha\":{\"value\":0.1},\"line_color\":{\"value\":\"#1f77b4\"},\"x\":{\"field\":\"x\"},\"y\":{\"field\":\"y\"}},\"id\":\"b029dfae-93d4-44c5-a288-9216fb8d0134\",\"type\":\"Circle\"},{\"attributes\":{\"line_alpha\":0.1,\"line_color\":\"#1f77b4\",\"line_width\":1.5,\"x\":{\"field\":\"x\"},\"y\":{\"field\":\"y\"}},\"id\":\"dafdafb4-5212-4762-80c1-11b9fa6c257d\",\"type\":\"Line\"},{\"attributes\":{\"source\":{\"id\":\"67e9a23d-fafc-4e84-b03d-1a0abc19dd31\",\"type\":\"ColumnDataSource\"}},\"id\":\"7d3e4d07-87d2-4b74-9173-2d5412090cea\",\"type\":\"CDSView\"},{\"attributes\":{\"items\":[{\"id\":\"eaaeb599-d4db-40a2-aa6f-3719d1e48948\",\"type\":\"LegendItem\"},{\"id\":\"771a4f12-7000-4b2e-b0a7-b80612556a53\",\"type\":\"LegendItem\"},{\"id\":\"9fee6a64-a888-4acf-87e9-5dafb732a861\",\"type\":\"LegendItem\"}],\"label_text_font_size\":{\"value\":\"8pt\"},\"location\":[10,-30],\"plot\":{\"id\":\"809b13cd-feb2-430a-b1f8-7409d4429112\",\"subtype\":\"Figure\",\"type\":\"Plot\"}},\"id\":\"b2e4791d-c3c3-416b-bbbc-b45f04613f7d\",\"type\":\"Legend\"},{\"attributes\":{\"source\":{\"id\":\"6babad50-7199-4fa1-8224-4208a32bbe6f\",\"type\":\"ColumnDataSource\"}},\"id\":\"224a4d38-a4f6-4736-ad32-d162d1afc5fb\",\"type\":\"CDSView\"},{\"attributes\":{\"overlay\":{\"id\":\"77d0a4d0-dbb2-479b-bf37-71fd2810c6dc\",\"type\":\"BoxAnnotation\"}},\"id\":\"1e01de43-853d-47c9-bb7a-925d7f5825b2\",\"type\":\"BoxZoomTool\"},{\"attributes\":{\"line_alpha\":0.1,\"line_color\":\"#1f77b4\",\"line_width\":3,\"x\":{\"field\":\"x\"},\"y\":{\"field\":\"y\"}},\"id\":\"8d3d9782-7809-4fe2-be8c-ff8d2187540f\",\"type\":\"Line\"},{\"attributes\":{\"bottom_units\":\"screen\",\"fill_alpha\":{\"value\":0.5},\"fill_color\":{\"value\":\"lightgrey\"},\"left_units\":\"screen\",\"level\":\"overlay\",\"line_alpha\":{\"value\":1.0},\"line_color\":{\"value\":\"black\"},\"line_dash\":[4,4],\"line_width\":{\"value\":2},\"plot\":null,\"render_mode\":\"css\",\"right_units\":\"screen\",\"top_units\":\"screen\"},\"id\":\"77d0a4d0-dbb2-479b-bf37-71fd2810c6dc\",\"type\":\"BoxAnnotation\"},{\"attributes\":{\"data_source\":{\"id\":\"67e9a23d-fafc-4e84-b03d-1a0abc19dd31\",\"type\":\"ColumnDataSource\"},\"glyph\":{\"id\":\"f1065a47-d6b0-4621-85f1-b2c31bc6b838\",\"type\":\"Line\"},\"hover_glyph\":null,\"muted_glyph\":null,\"nonselection_glyph\":{\"id\":\"8d3d9782-7809-4fe2-be8c-ff8d2187540f\",\"type\":\"Line\"},\"selection_glyph\":null,\"view\":{\"id\":\"7d3e4d07-87d2-4b74-9173-2d5412090cea\",\"type\":\"CDSView\"}},\"id\":\"500ee866-e8e0-44fd-8735-55eb89edb097\",\"type\":\"GlyphRenderer\"},{\"attributes\":{},\"id\":\"e8b40572-c43e-475d-8785-5725bc7ceb1a\",\"type\":\"HelpTool\"},{\"attributes\":{},\"id\":\"2006a821-fe7a-43a8-a1df-ea97c4408e21\",\"type\":\"LinearScale\"},{\"attributes\":{\"line_alpha\":0.6,\"line_color\":\"#e41a1c\",\"line_dash\":[6],\"line_width\":5,\"x\":{\"field\":\"x\"},\"y\":{\"field\":\"y\"}},\"id\":\"c4617f88-2057-4894-ac04-875a88044cf0\",\"type\":\"Line\"},{\"attributes\":{\"dimension\":1,\"plot\":{\"id\":\"3a900dfc-8fc9-425c-9c5c-a841499ad3c6\",\"subtype\":\"Figure\",\"type\":\"Plot\"},\"ticker\":{\"id\":\"2a93f2ad-29ab-47be-a753-81b53fda22e5\",\"type\":\"BasicTicker\"}},\"id\":\"f3d344d6-60dd-46c5-b224-5c196f853e86\",\"type\":\"Grid\"},{\"attributes\":{\"callback\":null,\"column_names\":[\"x\",\"y\"],\"data\":{\"x\":{\"__ndarray__\":\"emkAvgmAQz+rVEfuGcVIP8wcT2JQ4VE/lUY+Qty7Vz/V8yALeY5dPwB0LyeVpmE/lrN3RluVZD8So3bm9rdhP2nG6uOdW2o/v1Jtolw7bT9QXV992u5vP/uOreT0R3E/AxnYJ5uScj/CWuHHpMBzP3f4B2NmjHc/U8W+cOiegj/l2sz4KVSMP7I56MHGvZM/I8pJ7tGXmT9xspjOCumfPyAG0ZJ7RaM/s9CoonPcpj8lq/wUwsipP7txNEKdxKk/LfQrF9b/pj9LFPmsbbWjP+DiUNtgiqA/oRJJh5Zbmz9I+IMmLmyWP3pIOPqGLJI/D3ppnONijD9oOLS0kteEPw9BMOtnKHw/vVbpvgEFcT+Z110VsjdUP3EBH3VYvl6/9pBHLL1Icb+DTrH3ldh3v9wnnCVV132/8q1eMWIggb8yAyJ34kiAv6t94EDGcHm/hSVQ05bScb8cg4r98DJlv+03ig1CH06/LD3siYC9Rj+o66JLrEpiP6s4zqCzYm4/9qDavzYLdT8J9tY+aK96Py8uCLYgDIA/xVSK/sikgj/Ihms+eRuFP3xwG2aYdYc/qo7OWZy6iT/ljtuIV/SLP9LA42lmHo4/GvYEVPsekD8Xxvd0XiuRPztZdC9TOpI/Dkx4hsw8kz+YZ59zKUGUP4h/MYvrQJU/J3PdqNZBlj+E2QQYlj+XPyw0SnbwPJg/etl+S2MomT9pqmkPYgSaP58zktKmyZo/dOZWvBxsmz9DfPUrfAGcP2uIE2CkjJw/TL5YZrEXnT/hNU13VaKdPwEylfqJNZ4/\",\"dtype\":\"float64\",\"shape\":[75]},\"y\":{\"__ndarray__\":\"GhExyth1ND/Sv8nbtpRIP2vylNV0PVE/aTum7souWD/At0SJ8fVgPw3Iuahxymc/MSNhhJWvcD/bTfBN02d3P2zb5nxnaoA/CD5h5MAGhz8NmeH1TyaQP+zrCsc9p5Y/LbKd76fGnz/bLW5ISEmmPww9YvTcQq8/JV2OstnstT8Er5Y7M8G+P0c+r3jqkcU/5h99k6ZBzj88bCIzFzjVP4enV8oyxN0//yH99nXg5D8qOpLLf0jtP5kqGJXUifQ/c9cS8kHP/D+/DpwzojQEQIEmwoanVwxA4lgXt9HgE0BSSZ2AJuIbQAMJih9jjiNA5q4l5INuK0AwTKYKRj0zQNv5fmq8/DpAaCJseHrtQkB/+zpwzoxKQM3MzMzMeFJAZmZmZmZqWEAAAAAAAFxeQM3MzMzMJmJAmpmZmZkfZUBmZmZmZhhoQDMzMzMzEWtAAAAAAAAKbkBmZmZmZoFwQM3MzMzM/XFAMzMzMzN6c0CamZmZmfZ0QAAAAAAAc3ZAZmZmZmbvd0DNzMzMzGt5QDMzMzMz6HpAmpmZmZlkfEAAAAAAAOF9QGZmZmZmXX9AZmZmZuZsgECamZmZGSuBQM3MzMxM6YFAAAAAAICngkAzMzMzs2WDQGZmZmbmI4RAmpmZmRnihEDNzMzMTKCFQAAAAACAXoZAMzMzM7Mch0BmZmZm5tqHQJqZmZkZmYhAzczMzExXiUAAAAAAgBWKQDMzMzOz04pAZmZmZuaRi0CamZmZGVCMQM3MzMxMDo1AAAAAAIDMjUAzMzMzs4qOQGZmZmbmSI9A\",\"dtype\":\"float64\",\"shape\":[75]}}},\"id\":\"214f5ac1-288b-4a75-a476-b17632517b64\",\"type\":\"ColumnDataSource\"},{\"attributes\":{\"children\":[{\"id\":\"3a900dfc-8fc9-425c-9c5c-a841499ad3c6\",\"subtype\":\"Figure\",\"type\":\"Plot\"},{\"id\":\"809b13cd-feb2-430a-b1f8-7409d4429112\",\"subtype\":\"Figure\",\"type\":\"Plot\"}]},\"id\":\"b5005822-a1e3-43dc-8933-434b3fa55813\",\"type\":\"Row\"},{\"attributes\":{},\"id\":\"279ef2b4-cd18-4f3f-acc9-e36e1b92aaa7\",\"type\":\"HelpTool\"},{\"attributes\":{},\"id\":\"333bd65e-ed9e-47e1-b2bf-4539b45210b1\",\"type\":\"LinearScale\"},{\"attributes\":{\"label\":{\"value\":\"WGT igg=10 wgt_flux=2\"},\"renderers\":[{\"id\":\"3059ea56-51f7-4656-8e97-a27722210e30\",\"type\":\"GlyphRenderer\"},{\"id\":\"500ee866-e8e0-44fd-8735-55eb89edb097\",\"type\":\"GlyphRenderer\"}]},\"id\":\"9fee6a64-a888-4acf-87e9-5dafb732a861\",\"type\":\"LegendItem\"},{\"attributes\":{\"label\":{\"value\":\"CLIRAD `coolr_bands`\"},\"renderers\":[{\"id\":\"ee90d16e-6b60-4c3a-b426-d3da37fab7dd\",\"type\":\"GlyphRenderer\"}]},\"id\":\"eaaeb599-d4db-40a2-aa6f-3719d1e48948\",\"type\":\"LegendItem\"},{\"attributes\":{},\"id\":\"3cd52507-4d38-41b2-aebd-bc856724d42e\",\"type\":\"WheelZoomTool\"},{\"attributes\":{},\"id\":\"d0993ac2-9919-43f1-af5a-cbd4aed998b3\",\"type\":\"WheelZoomTool\"},{\"attributes\":{},\"id\":\"6d428314-8ce3-4306-a237-01a4fa1b6317\",\"type\":\"BasicTicker\"},{\"attributes\":{\"overlay\":{\"id\":\"245e33c2-a1d3-4331-9f7c-ef6ae8bf936a\",\"type\":\"BoxAnnotation\"}},\"id\":\"6a955a33-c95a-4d64-8652-68cfc50ffaec\",\"type\":\"BoxZoomTool\"},{\"attributes\":{},\"id\":\"53ea57ef-aa84-4b72-b05f-3c6ba4000078\",\"type\":\"SaveTool\"},{\"attributes\":{\"active_drag\":\"auto\",\"active_inspect\":\"auto\",\"active_scroll\":\"auto\",\"active_tap\":\"auto\",\"tools\":[{\"id\":\"fc3bf823-393b-4856-a194-2c137a15af2a\",\"type\":\"PanTool\"},{\"id\":\"d0993ac2-9919-43f1-af5a-cbd4aed998b3\",\"type\":\"WheelZoomTool\"},{\"id\":\"1e01de43-853d-47c9-bb7a-925d7f5825b2\",\"type\":\"BoxZoomTool\"},{\"id\":\"38b09cc8-36fc-4a78-a4e1-1f1bdf60e112\",\"type\":\"SaveTool\"},{\"id\":\"a0a6c9e0-d4dc-404e-9c35-8c063238c24b\",\"type\":\"ResetTool\"},{\"id\":\"e8b40572-c43e-475d-8785-5725bc7ceb1a\",\"type\":\"HelpTool\"}]},\"id\":\"ec4c26a9-389d-40be-863e-756b9eb2e6af\",\"type\":\"Toolbar\"},{\"attributes\":{},\"id\":\"29fa0deb-787a-4b4a-8ef2-560516dbe909\",\"type\":\"ResetTool\"},{\"attributes\":{\"callback\":null,\"column_names\":[\"x\",\"y\"],\"data\":{\"x\":{\"__ndarray__\":\"8F/Nv2Vnuj8AAAAAAAAAAAAAAAAAAAAAAAAAAAAAAADXN75jacGnPwAAAAAAAAAAAAAAAAAAAAAAAAAAAAAAADIM+gAUi5g/AAAAAAAAAAAeZuYEmPKIPxeGteEKyXE/YadqGMRbiT8Wg+0CCh57P+XVJyOoxnk/GqFE8GTcjT+azf+Fx3mNP0l2p2bPmJU/2dG0m0s3mj9hvqNjWt2eP3zPzLzqO6M/7o9n/1LypT8pn0tcuo6oP4YdCMGR3ag/uphIZH3Vpj9+TXF9oUWkP6oodQHjpKE/aWoWvncBnj9OlZkZ0OeYP24Tp8Dt/JM/rWva44otjj9G1lBh4lOEP1fCZsInhHc/crbKXZVVYj8fmEkdFYdOvyyitKSU8W6/FmHN/H9gd7+agwg+qyh8vxW4Wr4lLYC/hl6VQNBugb+kT6mexTyAv/TR5/z74Hm/S8f7/RKUcr/buPyBFv1mv58VE0IgQ1K/HvV7ws2vQD9pIN2iqEBhPwI2VMbn4G0/jFzH4j0adT8GTVUeABh7PyzUkr70ZYA/MM5XASkugz8dxE2UJNKFP6oducZLXYg/uk5vu9rOij+kjMrj7zKNP0LTPav/hY8/bvP5OgbqkD9MJScGjQiSP3cdoriAI5M/EFSfQck4lD/DLYzld0mVP1MzLMXcVZY/Dkbiocxflz8sK5QfzWWYP4XGDIe3ZJk/r/Ek3yhWmj9FN5Bo4TabP+5BT50j/5s/x00cX8ytnD+4AtUCJUydP0qCm4Vw3p0/yA+IHMpsnj96vOnGVvieP2JGhaUSgp8/\",\"dtype\":\"float64\",\"shape\":[75]},\"y\":{\"__ndarray__\":\"S/O/Q+51ND/430zAtpRIP2vylNV0PVE/QxsjCssuWD/TR4Z78fVgP+inNsRxymc/OuuBfZWvcD/u3TFA02d3P2d3VoBnaoA/CD5h5MAGhz/1pA8HUCaQP+zrCsc9p5Y/Fb7LAKjGnz/nJ9c/SEmmPwBD+fzcQq8/FOZwv9nstT8Er5Y7M8G+P0c+r3jqkcU/yK72qKZBzj+tM989FzjVPxbgmr8yxN0/cOm5AXbg5D+5ctXAf0jtP5kqGJXUifQ/DsrqDELP/D8MCAhBojQEQDItVnmnVwxAiFXNvdHgE0BSSZ2AJuIbQAMJih9jjiNA5q4l5INuK0CPVN/5RT0zQHzxRXu8/DpAOZ7PgHrtQkAg8wGBzoxKQBSTN8DMeFJA2NmQf2ZqWEAAAAAAAFxeQEQX1LfMJmJAmpmZmZkfZUBmZmZmZhhoQLzoK0gzEWtAAAAAAAAKbkCiC+pbZoFwQAhyUMLM/XFA+I2vPTN6c0AQ5KCEmfZ0QAAAAAAAc3ZA8Btfe2bvd0AIclDCzGt5QPeNrz0z6HpAEOSghJlkfEAAAAAAAOF9QKML6ltmXX9ABTkoYeZsgED7xteeGSuBQAhyUMJM6YFAAAAAAICngkD4ja89s2WDQAU5KGHmI4RA+8bXnhnihEAIclDCTKCFQAAAAACAXoZA+I2vPbMch0AFOShh5tqHQPvG154ZmYhACHJQwkxXiUAAAAAAgBWKQPeNrz2z04pABTkoYeaRi0D7xteeGVCMQAlyUMJMDo1AAAAAAIDMjUD3ja89s4qOQGZmZmbmSI9A\",\"dtype\":\"float64\",\"shape\":[75]}}},\"id\":\"ddafdf7a-a638-4eef-9be2-75f5728a6668\",\"type\":\"ColumnDataSource\"},{\"attributes\":{},\"id\":\"c31ffa6d-3c95-40aa-861d-229812d500f1\",\"type\":\"BasicTickFormatter\"},{\"attributes\":{},\"id\":\"0a59759d-5137-4cd4-a2c3-87c1cf73811b\",\"type\":\"LinearScale\"},{\"attributes\":{\"line_alpha\":0.1,\"line_color\":\"#1f77b4\",\"line_dash\":[6],\"line_width\":5,\"x\":{\"field\":\"x\"},\"y\":{\"field\":\"y\"}},\"id\":\"0c9838bb-d100-46dc-bc4d-a7fb4fa4b5e9\",\"type\":\"Line\"},{\"attributes\":{\"data_source\":{\"id\":\"a07b04c7-efb6-4dc2-bb23-1a6ab977ff86\",\"type\":\"ColumnDataSource\"},\"glyph\":{\"id\":\"97575954-86e5-4f19-aa7d-b968eff0a163\",\"type\":\"Square\"},\"hover_glyph\":null,\"muted_glyph\":null,\"nonselection_glyph\":{\"id\":\"7aee0c6c-ced4-47f1-addb-17031579274c\",\"type\":\"Square\"},\"selection_glyph\":null,\"view\":{\"id\":\"1bf136fd-9cff-467d-944b-bea1d168a6b2\",\"type\":\"CDSView\"}},\"id\":\"13d86802-d2ed-4434-a244-6ce8ef57847d\",\"type\":\"GlyphRenderer\"},{\"attributes\":{\"below\":[{\"id\":\"e8853ee1-55cb-4c49-b0fd-7e7b03fa2adc\",\"type\":\"LinearAxis\"}],\"left\":[{\"id\":\"6efcc8c2-d120-4bda-bba7-96b306ebbdfc\",\"type\":\"LogAxis\"}],\"plot_height\":500,\"plot_width\":560,\"renderers\":[{\"id\":\"e8853ee1-55cb-4c49-b0fd-7e7b03fa2adc\",\"type\":\"LinearAxis\"},{\"id\":\"686f34c3-e12c-47f7-84dd-922843ecab87\",\"type\":\"Grid\"},{\"id\":\"6efcc8c2-d120-4bda-bba7-96b306ebbdfc\",\"type\":\"LogAxis\"},{\"id\":\"4c0e40bf-2745-47c7-a1c1-fa8c68f69609\",\"type\":\"Grid\"},{\"id\":\"245e33c2-a1d3-4331-9f7c-ef6ae8bf936a\",\"type\":\"BoxAnnotation\"},{\"id\":\"ee90d16e-6b60-4c3a-b426-d3da37fab7dd\",\"type\":\"GlyphRenderer\"},{\"id\":\"fb90785d-33cb-49e7-8a35-99a35781eb2d\",\"type\":\"GlyphRenderer\"},{\"id\":\"0f894f60-d793-4041-b228-8f1036fc8efe\",\"type\":\"GlyphRenderer\"},{\"id\":\"3059ea56-51f7-4656-8e97-a27722210e30\",\"type\":\"GlyphRenderer\"},{\"id\":\"500ee866-e8e0-44fd-8735-55eb89edb097\",\"type\":\"GlyphRenderer\"},{\"id\":\"b2e4791d-c3c3-416b-bbbc-b45f04613f7d\",\"type\":\"Legend\"}],\"right\":[{\"id\":\"b2e4791d-c3c3-416b-bbbc-b45f04613f7d\",\"type\":\"Legend\"}],\"title\":{\"id\":\"0b8d5b55-65b9-4086-882e-18f3e69e2bd4\",\"type\":\"Title\"},\"toolbar\":{\"id\":\"b3ddb5fe-e156-4284-a199-d834c7413614\",\"type\":\"Toolbar\"},\"toolbar_location\":null,\"x_range\":{\"id\":\"9255e8f7-5325-48ea-bb80-a8a4e60e5bc3\",\"type\":\"Range1d\"},\"x_scale\":{\"id\":\"0a59759d-5137-4cd4-a2c3-87c1cf73811b\",\"type\":\"LinearScale\"},\"y_range\":{\"id\":\"83ac2e2b-263f-4f30-8f8d-ab674302a8ff\",\"type\":\"Range1d\"},\"y_scale\":{\"id\":\"530e8cc3-868f-4372-8278-de91f041cf83\",\"type\":\"LogScale\"}},\"id\":\"809b13cd-feb2-430a-b1f8-7409d4429112\",\"subtype\":\"Figure\",\"type\":\"Plot\"},{\"attributes\":{\"callback\":null,\"end\":0.01,\"start\":1020},\"id\":\"83ac2e2b-263f-4f30-8f8d-ab674302a8ff\",\"type\":\"Range1d\"},{\"attributes\":{\"axis_label\":\"cooling rate [K/day]\",\"formatter\":{\"id\":\"083a0771-8215-44a9-b545-712a8bda495d\",\"type\":\"BasicTickFormatter\"},\"plot\":{\"id\":\"809b13cd-feb2-430a-b1f8-7409d4429112\",\"subtype\":\"Figure\",\"type\":\"Plot\"},\"ticker\":{\"id\":\"b865d2a7-7528-422e-9367-9ef050247a35\",\"type\":\"BasicTicker\"}},\"id\":\"e8853ee1-55cb-4c49-b0fd-7e7b03fa2adc\",\"type\":\"LinearAxis\"},{\"attributes\":{},\"id\":\"b865d2a7-7528-422e-9367-9ef050247a35\",\"type\":\"BasicTicker\"},{\"attributes\":{\"fill_alpha\":{\"value\":0.7},\"fill_color\":{\"value\":\"#4daf4a\"},\"line_alpha\":{\"value\":0.7},\"line_color\":{\"value\":\"#4daf4a\"},\"x\":{\"field\":\"x\"},\"y\":{\"field\":\"y\"}},\"id\":\"60505e95-902d-4918-9ace-5f2e4f71956f\",\"type\":\"Circle\"},{\"attributes\":{\"callback\":null,\"column_names\":[\"x\",\"y\"],\"data\":{\"x\":{\"__ndarray__\":\"Ommkvol1cT+JPIKt7QdyPzvh6ETQQHM/pq12aSyOdD/bhYGw+t11P2SuUWPeL3c/juiTycODeD9Bwh4Pj9l5PwsBNwkpMXs/iwqec0qKfD8vuqJrleR9P4IzCni+P38/MEPrC7BNgD9r7Qjr+AaBP1H0AjqvOIM/zFbPdyNdiT+Cs31EwUyRPz5stv20XpY/VoWQjunmmz9jEMov8PegP7NZ/Z9cM6Q/NF+V/j6jpz82xnHQPIGqP8WikXZHPKo/K9KaKag9qD8R7ojh51qlPzRxHS3PhqI/05E/O9Ahnz8xzp8RZ4KZP/SnGDyqApQ/ETZlCfLXjT9+dtZESgyEP+HkdfisHnc/RxdsQhlsYz/cG0Pq4g5Dv8gU0Bqp02u/yg7fdb5ndb90ON3ryWB6vw4OY8O0Hn+/tHlR+MIdgb+QyC/mpPx/v3wpFXyuCXm/vkUJ9VKDcb9wNxpeVopkv2U83/5xskm/xAKB7i5lTD+E3gxaes5rPwrT8EoQ428/euuz6Kk7dz+CccVz9tt7PyTdsjo6PIE/XiErKfjdgz+Hk57YJYiGPzalfEITKYk/hHh96suqiz9eeWlwsxqOP5p/ub+SKJA/VLJIEAtYkT++HAFH9HuSP+vRTijomJM/XikMCHS4lD/ywxPBibaVPwDKu0BLy5Y/NAHsxxnPlz+JekhPTd2YPyhilfuy7pk/ftYQb3Hamj/5+zV4Z72bP91BXqKJlpw/+lzj95pMnT/BEBsn4+qdP5rkghVZgp4/YMSG+8QZnz9C8oPvzK+fP00+onOKD6A/\",\"dtype\":\"float64\",\"shape\":[75]},\"y\":{\"__ndarray__\":\"GhExyth1ND/Sv8nbtpRIP2vylNV0PVE/aTum7souWD/At0SJ8fVgPw3Iuahxymc/MSNhhJWvcD/bTfBN02d3P2zb5nxnaoA/CD5h5MAGhz8NmeH1TyaQP+zrCsc9p5Y/LbKd76fGnz/bLW5ISEmmPww9YvTcQq8/JV2OstnstT8Er5Y7M8G+P0c+r3jqkcU/5h99k6ZBzj88bCIzFzjVP4enV8oyxN0//yH99nXg5D8qOpLLf0jtP5kqGJXUifQ/c9cS8kHP/D+/DpwzojQEQIEmwoanVwxA4lgXt9HgE0BSSZ2AJuIbQAMJih9jjiNA5q4l5INuK0AwTKYKRj0zQNv5fmq8/DpAaCJseHrtQkB/+zpwzoxKQM3MzMzMeFJAZmZmZmZqWEAAAAAAAFxeQM3MzMzMJmJAmpmZmZkfZUBmZmZmZhhoQDMzMzMzEWtAAAAAAAAKbkBmZmZmZoFwQM3MzMzM/XFAMzMzMzN6c0CamZmZmfZ0QAAAAAAAc3ZAZmZmZmbvd0DNzMzMzGt5QDMzMzMz6HpAmpmZmZlkfEAAAAAAAOF9QGZmZmZmXX9AZmZmZuZsgECamZmZGSuBQM3MzMxM6YFAAAAAAICngkAzMzMzs2WDQGZmZmbmI4RAmpmZmRnihEDNzMzMTKCFQAAAAACAXoZAMzMzM7Mch0BmZmZm5tqHQJqZmZkZmYhAzczMzExXiUAAAAAAgBWKQDMzMzOz04pAZmZmZuaRi0CamZmZGVCMQM3MzMxMDo1AAAAAAIDMjUAzMzMzs4qOQGZmZmbmSI9A\",\"dtype\":\"float64\",\"shape\":[75]}}},\"id\":\"ee287577-329d-487a-80cf-6d407448d299\",\"type\":\"ColumnDataSource\"},{\"attributes\":{\"num_minor_ticks\":10},\"id\":\"e9b3e350-b682-4ed5-8d4a-c55fc83a379c\",\"type\":\"LogTicker\"},{\"attributes\":{\"data_source\":{\"id\":\"214f5ac1-288b-4a75-a476-b17632517b64\",\"type\":\"ColumnDataSource\"},\"glyph\":{\"id\":\"60505e95-902d-4918-9ace-5f2e4f71956f\",\"type\":\"Circle\"},\"hover_glyph\":null,\"muted_glyph\":null,\"nonselection_glyph\":{\"id\":\"b029dfae-93d4-44c5-a288-9216fb8d0134\",\"type\":\"Circle\"},\"selection_glyph\":null,\"view\":{\"id\":\"c2ee6152-5bfd-4afe-a91a-f3005ee7ffbd\",\"type\":\"CDSView\"}},\"id\":\"fbd46c78-2ba9-4c8a-a898-4a506d878b03\",\"type\":\"GlyphRenderer\"},{\"attributes\":{\"data_source\":{\"id\":\"ee287577-329d-487a-80cf-6d407448d299\",\"type\":\"ColumnDataSource\"},\"glyph\":{\"id\":\"9e0457ba-6a53-4643-ad04-d751433dfc4e\",\"type\":\"Line\"},\"hover_glyph\":null,\"muted_glyph\":null,\"nonselection_glyph\":{\"id\":\"903022be-900c-4ace-b37c-fc68000eec23\",\"type\":\"Line\"},\"selection_glyph\":null,\"view\":{\"id\":\"555d3ecd-7804-4a40-ad4d-84d53e6ef89d\",\"type\":\"CDSView\"}},\"id\":\"8fae612f-6b42-40f1-9772-d01a45ddc807\",\"type\":\"GlyphRenderer\"},{\"attributes\":{\"source\":{\"id\":\"bb122b54-eeca-4f50-8562-bc5f7692c688\",\"type\":\"ColumnDataSource\"}},\"id\":\"72dde612-8886-4a76-a3fa-26803b97e7e2\",\"type\":\"CDSView\"},{\"attributes\":{\"line_color\":\"#4daf4a\",\"line_width\":1.5,\"x\":{\"field\":\"x\"},\"y\":{\"field\":\"y\"}},\"id\":\"43a7b4e1-646f-47d3-893f-9e42e5963d17\",\"type\":\"Line\"},{\"attributes\":{\"line_alpha\":0.6,\"line_color\":\"#984ea3\",\"line_width\":3,\"x\":{\"field\":\"x\"},\"y\":{\"field\":\"y\"}},\"id\":\"9e0457ba-6a53-4643-ad04-d751433dfc4e\",\"type\":\"Line\"},{\"attributes\":{\"callback\":null,\"end\":0.01,\"start\":1020},\"id\":\"4afd1d37-8cd9-438d-9caa-56f1e6171b59\",\"type\":\"Range1d\"},{\"attributes\":{\"source\":{\"id\":\"ee287577-329d-487a-80cf-6d407448d299\",\"type\":\"ColumnDataSource\"}},\"id\":\"555d3ecd-7804-4a40-ad4d-84d53e6ef89d\",\"type\":\"CDSView\"},{\"attributes\":{\"fill_alpha\":{\"value\":0.7},\"fill_color\":{\"value\":\"#984ea3\"},\"line_alpha\":{\"value\":0.7},\"line_color\":{\"value\":\"#984ea3\"},\"x\":{\"field\":\"x\"},\"y\":{\"field\":\"y\"}},\"id\":\"97575954-86e5-4f19-aa7d-b968eff0a163\",\"type\":\"Square\"},{\"attributes\":{\"fill_alpha\":{\"value\":0.1},\"fill_color\":{\"value\":\"#1f77b4\"},\"line_alpha\":{\"value\":0.1},\"line_color\":{\"value\":\"#1f77b4\"},\"x\":{\"field\":\"x\"},\"y\":{\"field\":\"y\"}},\"id\":\"7aee0c6c-ced4-47f1-addb-17031579274c\",\"type\":\"Square\"},{\"attributes\":{\"axis_label\":\"pressure [mb]\",\"formatter\":{\"id\":\"aa780687-4cfb-4e11-9862-661da24aad96\",\"type\":\"LogTickFormatter\"},\"plot\":{\"id\":\"809b13cd-feb2-430a-b1f8-7409d4429112\",\"subtype\":\"Figure\",\"type\":\"Plot\"},\"ticker\":{\"id\":\"e9b3e350-b682-4ed5-8d4a-c55fc83a379c\",\"type\":\"LogTicker\"}},\"id\":\"6efcc8c2-d120-4bda-bba7-96b306ebbdfc\",\"type\":\"LogAxis\"},{\"attributes\":{\"active_drag\":\"auto\",\"active_inspect\":\"auto\",\"active_scroll\":\"auto\",\"active_tap\":\"auto\",\"tools\":[{\"id\":\"bc1d7f7a-c18e-4d10-bdd1-312c4a49360b\",\"type\":\"PanTool\"},{\"id\":\"3cd52507-4d38-41b2-aebd-bc856724d42e\",\"type\":\"WheelZoomTool\"},{\"id\":\"6a955a33-c95a-4d64-8652-68cfc50ffaec\",\"type\":\"BoxZoomTool\"},{\"id\":\"53ea57ef-aa84-4b72-b05f-3c6ba4000078\",\"type\":\"SaveTool\"},{\"id\":\"29fa0deb-787a-4b4a-8ef2-560516dbe909\",\"type\":\"ResetTool\"},{\"id\":\"279ef2b4-cd18-4f3f-acc9-e36e1b92aaa7\",\"type\":\"HelpTool\"}]},\"id\":\"b3ddb5fe-e156-4284-a199-d834c7413614\",\"type\":\"Toolbar\"},{\"attributes\":{\"source\":{\"id\":\"214f5ac1-288b-4a75-a476-b17632517b64\",\"type\":\"ColumnDataSource\"}},\"id\":\"c2ee6152-5bfd-4afe-a91a-f3005ee7ffbd\",\"type\":\"CDSView\"},{\"attributes\":{\"tools\":[{\"id\":\"fc3bf823-393b-4856-a194-2c137a15af2a\",\"type\":\"PanTool\"},{\"id\":\"d0993ac2-9919-43f1-af5a-cbd4aed998b3\",\"type\":\"WheelZoomTool\"},{\"id\":\"1e01de43-853d-47c9-bb7a-925d7f5825b2\",\"type\":\"BoxZoomTool\"},{\"id\":\"38b09cc8-36fc-4a78-a4e1-1f1bdf60e112\",\"type\":\"SaveTool\"},{\"id\":\"a0a6c9e0-d4dc-404e-9c35-8c063238c24b\",\"type\":\"ResetTool\"},{\"id\":\"e8b40572-c43e-475d-8785-5725bc7ceb1a\",\"type\":\"HelpTool\"},{\"id\":\"bc1d7f7a-c18e-4d10-bdd1-312c4a49360b\",\"type\":\"PanTool\"},{\"id\":\"3cd52507-4d38-41b2-aebd-bc856724d42e\",\"type\":\"WheelZoomTool\"},{\"id\":\"6a955a33-c95a-4d64-8652-68cfc50ffaec\",\"type\":\"BoxZoomTool\"},{\"id\":\"53ea57ef-aa84-4b72-b05f-3c6ba4000078\",\"type\":\"SaveTool\"},{\"id\":\"29fa0deb-787a-4b4a-8ef2-560516dbe909\",\"type\":\"ResetTool\"},{\"id\":\"279ef2b4-cd18-4f3f-acc9-e36e1b92aaa7\",\"type\":\"HelpTool\"}]},\"id\":\"a9f999d4-9c81-48a0-92a0-26cbf05abe8b\",\"type\":\"ProxyToolbar\"},{\"attributes\":{\"callback\":null,\"end\":0.031767374183,\"start\":-0.008910948283},\"id\":\"069a056f-d68a-4365-9c34-60ae04481115\",\"type\":\"Range1d\"},{\"attributes\":{\"source\":{\"id\":\"a07b04c7-efb6-4dc2-bb23-1a6ab977ff86\",\"type\":\"ColumnDataSource\"}},\"id\":\"1bf136fd-9cff-467d-944b-bea1d168a6b2\",\"type\":\"CDSView\"},{\"attributes\":{\"callback\":null,\"column_names\":[\"x\",\"y\"],\"data\":{\"x\":{\"__ndarray__\":\"emkAvgmAQz+rVEfuGcVIP8wcT2JQ4VE/lUY+Qty7Vz/V8yALeY5dPwB0LyeVpmE/lrN3RluVZD8So3bm9rdhP2nG6uOdW2o/v1Jtolw7bT9QXV992u5vP/uOreT0R3E/AxnYJ5uScj/CWuHHpMBzP3f4B2NmjHc/U8W+cOiegj/l2sz4KVSMP7I56MHGvZM/I8pJ7tGXmT9xspjOCumfPyAG0ZJ7RaM/s9CoonPcpj8lq/wUwsipP7txNEKdxKk/LfQrF9b/pj9LFPmsbbWjP+DiUNtgiqA/oRJJh5Zbmz9I+IMmLmyWP3pIOPqGLJI/D3ppnONijD9oOLS0kteEPw9BMOtnKHw/vVbpvgEFcT+Z110VsjdUP3EBH3VYvl6/9pBHLL1Icb+DTrH3ldh3v9wnnCVV132/8q1eMWIggb8yAyJ34kiAv6t94EDGcHm/hSVQ05bScb8cg4r98DJlv+03ig1CH06/LD3siYC9Rj+o66JLrEpiP6s4zqCzYm4/9qDavzYLdT8J9tY+aK96Py8uCLYgDIA/xVSK/sikgj/Ihms+eRuFP3xwG2aYdYc/qo7OWZy6iT/ljtuIV/SLP9LA42lmHo4/GvYEVPsekD8Xxvd0XiuRPztZdC9TOpI/Dkx4hsw8kz+YZ59zKUGUP4h/MYvrQJU/J3PdqNZBlj+E2QQYlj+XPyw0SnbwPJg/etl+S2MomT9pqmkPYgSaP58zktKmyZo/dOZWvBxsmz9DfPUrfAGcP2uIE2CkjJw/TL5YZrEXnT/hNU13VaKdPwEylfqJNZ4/\",\"dtype\":\"float64\",\"shape\":[75]},\"y\":{\"__ndarray__\":\"GhExyth1ND/Sv8nbtpRIP2vylNV0PVE/aTum7souWD/At0SJ8fVgPw3Iuahxymc/MSNhhJWvcD/bTfBN02d3P2zb5nxnaoA/CD5h5MAGhz8NmeH1TyaQP+zrCsc9p5Y/LbKd76fGnz/bLW5ISEmmPww9YvTcQq8/JV2OstnstT8Er5Y7M8G+P0c+r3jqkcU/5h99k6ZBzj88bCIzFzjVP4enV8oyxN0//yH99nXg5D8qOpLLf0jtP5kqGJXUifQ/c9cS8kHP/D+/DpwzojQEQIEmwoanVwxA4lgXt9HgE0BSSZ2AJuIbQAMJih9jjiNA5q4l5INuK0AwTKYKRj0zQNv5fmq8/DpAaCJseHrtQkB/+zpwzoxKQM3MzMzMeFJAZmZmZmZqWEAAAAAAAFxeQM3MzMzMJmJAmpmZmZkfZUBmZmZmZhhoQDMzMzMzEWtAAAAAAAAKbkBmZmZmZoFwQM3MzMzM/XFAMzMzMzN6c0CamZmZmfZ0QAAAAAAAc3ZAZmZmZmbvd0DNzMzMzGt5QDMzMzMz6HpAmpmZmZlkfEAAAAAAAOF9QGZmZmZmXX9AZmZmZuZsgECamZmZGSuBQM3MzMxM6YFAAAAAAICngkAzMzMzs2WDQGZmZmbmI4RAmpmZmRnihEDNzMzMTKCFQAAAAACAXoZAMzMzM7Mch0BmZmZm5tqHQJqZmZkZmYhAzczMzExXiUAAAAAAgBWKQDMzMzOz04pAZmZmZuaRi0CamZmZGVCMQM3MzMxMDo1AAAAAAIDMjUAzMzMzs4qOQGZmZmbmSI9A\",\"dtype\":\"float64\",\"shape\":[75]}}},\"id\":\"6babad50-7199-4fa1-8224-4208a32bbe6f\",\"type\":\"ColumnDataSource\"},{\"attributes\":{\"line_alpha\":0.1,\"line_color\":\"#1f77b4\",\"line_width\":3,\"x\":{\"field\":\"x\"},\"y\":{\"field\":\"y\"}},\"id\":\"903022be-900c-4ace-b37c-fc68000eec23\",\"type\":\"Line\"},{\"attributes\":{\"line_alpha\":0.6,\"line_color\":\"#e41a1c\",\"line_dash\":[6],\"line_width\":5,\"x\":{\"field\":\"x\"},\"y\":{\"field\":\"y\"}},\"id\":\"ab4ff8cd-63c1-402a-a4fe-10a03fe814a4\",\"type\":\"Line\"},{\"attributes\":{\"plot\":null,\"text\":\"Log pressure scale\"},\"id\":\"0b8d5b55-65b9-4086-882e-18f3e69e2bd4\",\"type\":\"Title\"}],\"root_ids\":[\"92d93a8c-348c-4e1f-aaf1-82cad1a0b391\"]},\"title\":\"Bokeh Application\",\"version\":\"0.12.14\"}};\n",
       "  var render_items = [{\"docid\":\"d25bcb61-93fd-4e51-b3f0-4b0ea2c06c38\",\"elementid\":\"c8499b77-ff3c-477f-b455-cbe1ea8f20ce\",\"modelid\":\"92d93a8c-348c-4e1f-aaf1-82cad1a0b391\"}];\n",
       "  root.Bokeh.embed.embed_items_notebook(docs_json, render_items);\n",
       "\n",
       "  }\n",
       "  if (root.Bokeh !== undefined) {\n",
       "    embed_document(root);\n",
       "  } else {\n",
       "    var attempts = 0;\n",
       "    var timer = setInterval(function(root) {\n",
       "      if (root.Bokeh !== undefined) {\n",
       "        embed_document(root);\n",
       "        clearInterval(timer);\n",
       "      }\n",
       "      attempts++;\n",
       "      if (attempts > 100) {\n",
       "        console.log(\"Bokeh: ERROR: Unable to run BokehJS code because BokehJS library is missing\")\n",
       "        clearInterval(timer);\n",
       "      }\n",
       "    }, 10, root)\n",
       "  }\n",
       "})(window);"
      ],
      "application/vnd.bokehjs_exec.v0+json": ""
     },
     "metadata": {
      "application/vnd.bokehjs_exec.v0+json": {
       "id": "92d93a8c-348c-4e1f-aaf1-82cad1a0b391"
      }
     },
     "output_type": "display_data"
    },
    {
     "name": "stdout",
     "output_type": "stream",
     "text": [
      "FIGURE. Cooling rate profiles.\n"
     ]
    },
    {
     "data": {
      "text/html": [
       "<a id=\"Flux_Comparison\"></a>"
      ],
      "text/plain": [
       "<IPython.core.display.HTML object>"
      ]
     },
     "metadata": {},
     "output_type": "display_data"
    },
    {
     "data": {
      "text/markdown": [
       "# Flux Comparison"
      ],
      "text/plain": [
       "<IPython.core.display.Markdown object>"
      ]
     },
     "metadata": {},
     "output_type": "display_data"
    },
    {
     "data": {
      "text/html": [
       "<div>\n",
       "<style>\n",
       "    .dataframe thead tr:only-child th {\n",
       "        text-align: right;\n",
       "    }\n",
       "\n",
       "    .dataframe thead th {\n",
       "        text-align: left;\n",
       "    }\n",
       "\n",
       "    .dataframe tbody tr th {\n",
       "        vertical-align: top;\n",
       "    }\n",
       "</style>\n",
       "<table border=\"1\" class=\"dataframe\">\n",
       "  <thead>\n",
       "    <tr style=\"text-align: right;\">\n",
       "      <th></th>\n",
       "      <th></th>\n",
       "      <th>flug</th>\n",
       "      <th>fldg</th>\n",
       "      <th>fnetg</th>\n",
       "    </tr>\n",
       "    <tr>\n",
       "      <th>pressure</th>\n",
       "      <th>level</th>\n",
       "      <th></th>\n",
       "      <th></th>\n",
       "      <th></th>\n",
       "    </tr>\n",
       "  </thead>\n",
       "  <tbody>\n",
       "    <tr>\n",
       "      <th>0.0000</th>\n",
       "      <th>1</th>\n",
       "      <td>-35.017751</td>\n",
       "      <td>0.000000</td>\n",
       "      <td>-35.017751</td>\n",
       "    </tr>\n",
       "    <tr>\n",
       "      <th>1.0685</th>\n",
       "      <th>24</th>\n",
       "      <td>-35.017082</td>\n",
       "      <td>0.004165</td>\n",
       "      <td>-35.012917</td>\n",
       "    </tr>\n",
       "    <tr>\n",
       "      <th>1013.0000</th>\n",
       "      <th>76</th>\n",
       "      <td>-36.235408</td>\n",
       "      <td>2.706352</td>\n",
       "      <td>-33.529056</td>\n",
       "    </tr>\n",
       "  </tbody>\n",
       "</table>\n",
       "</div>"
      ],
      "text/plain": [
       "                      flug      fldg      fnetg\n",
       "pressure  level                                \n",
       "0.0000    1     -35.017751  0.000000 -35.017751\n",
       "1.0685    24    -35.017082  0.004165 -35.012917\n",
       "1013.0000 76    -36.235408  2.706352 -33.529056"
      ]
     },
     "metadata": {},
     "output_type": "display_data"
    },
    {
     "name": "stdout",
     "output_type": "stream",
     "text": [
      "Table. Fluxes. WGT igg=10 wgt_flux=1\n"
     ]
    },
    {
     "data": {
      "text/html": [
       "<div>\n",
       "<style>\n",
       "    .dataframe thead tr:only-child th {\n",
       "        text-align: right;\n",
       "    }\n",
       "\n",
       "    .dataframe thead th {\n",
       "        text-align: left;\n",
       "    }\n",
       "\n",
       "    .dataframe tbody tr th {\n",
       "        vertical-align: top;\n",
       "    }\n",
       "</style>\n",
       "<table border=\"1\" class=\"dataframe\">\n",
       "  <thead>\n",
       "    <tr style=\"text-align: right;\">\n",
       "      <th></th>\n",
       "      <th></th>\n",
       "      <th>flug</th>\n",
       "      <th>fldg</th>\n",
       "      <th>fnetg</th>\n",
       "    </tr>\n",
       "    <tr>\n",
       "      <th>pressure</th>\n",
       "      <th>level</th>\n",
       "      <th></th>\n",
       "      <th></th>\n",
       "      <th></th>\n",
       "    </tr>\n",
       "  </thead>\n",
       "  <tbody>\n",
       "    <tr>\n",
       "      <th>0.0000</th>\n",
       "      <th>1</th>\n",
       "      <td>-35.016385</td>\n",
       "      <td>0.000000</td>\n",
       "      <td>-35.016385</td>\n",
       "    </tr>\n",
       "    <tr>\n",
       "      <th>1.0685</th>\n",
       "      <th>24</th>\n",
       "      <td>-35.016109</td>\n",
       "      <td>0.004314</td>\n",
       "      <td>-35.011795</td>\n",
       "    </tr>\n",
       "    <tr>\n",
       "      <th>1013.0000</th>\n",
       "      <th>76</th>\n",
       "      <td>-36.235408</td>\n",
       "      <td>2.614209</td>\n",
       "      <td>-33.621199</td>\n",
       "    </tr>\n",
       "  </tbody>\n",
       "</table>\n",
       "</div>"
      ],
      "text/plain": [
       "                      flug      fldg      fnetg\n",
       "pressure  level                                \n",
       "0.0000    1     -35.016385  0.000000 -35.016385\n",
       "1.0685    24    -35.016109  0.004314 -35.011795\n",
       "1013.0000 76    -36.235408  2.614209 -33.621199"
      ]
     },
     "metadata": {},
     "output_type": "display_data"
    },
    {
     "name": "stdout",
     "output_type": "stream",
     "text": [
      "Table. Fluxes. CRD\n"
     ]
    },
    {
     "data": {
      "text/html": [
       "<div>\n",
       "<style>\n",
       "    .dataframe thead tr:only-child th {\n",
       "        text-align: right;\n",
       "    }\n",
       "\n",
       "    .dataframe thead th {\n",
       "        text-align: left;\n",
       "    }\n",
       "\n",
       "    .dataframe tbody tr th {\n",
       "        vertical-align: top;\n",
       "    }\n",
       "</style>\n",
       "<table border=\"1\" class=\"dataframe\">\n",
       "  <thead>\n",
       "    <tr style=\"text-align: right;\">\n",
       "      <th></th>\n",
       "      <th></th>\n",
       "      <th>flug</th>\n",
       "      <th>fldg</th>\n",
       "      <th>fnetg</th>\n",
       "    </tr>\n",
       "    <tr>\n",
       "      <th>pressure</th>\n",
       "      <th>level</th>\n",
       "      <th></th>\n",
       "      <th></th>\n",
       "      <th></th>\n",
       "    </tr>\n",
       "  </thead>\n",
       "  <tbody>\n",
       "    <tr>\n",
       "      <th>1.000000e-08</th>\n",
       "      <th>1</th>\n",
       "      <td>-35.065308</td>\n",
       "      <td>0.000002</td>\n",
       "      <td>-35.065308</td>\n",
       "    </tr>\n",
       "    <tr>\n",
       "      <th>1.068500e+00</th>\n",
       "      <th>24</th>\n",
       "      <td>-35.064587</td>\n",
       "      <td>0.003795</td>\n",
       "      <td>-35.060791</td>\n",
       "    </tr>\n",
       "    <tr>\n",
       "      <th>1.013000e+03</th>\n",
       "      <th>76</th>\n",
       "      <td>-36.235409</td>\n",
       "      <td>2.606824</td>\n",
       "      <td>-33.628586</td>\n",
       "    </tr>\n",
       "  </tbody>\n",
       "</table>\n",
       "</div>"
      ],
      "text/plain": [
       "                         flug      fldg      fnetg\n",
       "pressure     level                                \n",
       "1.000000e-08 1     -35.065308  0.000002 -35.065308\n",
       "1.068500e+00 24    -35.064587  0.003795 -35.060791\n",
       "1.013000e+03 76    -36.235409  2.606824 -33.628586"
      ]
     },
     "metadata": {},
     "output_type": "display_data"
    },
    {
     "name": "stdout",
     "output_type": "stream",
     "text": [
      "Table. Fluxes. CLIRAD\n"
     ]
    },
    {
     "data": {
      "text/html": [
       "<div>\n",
       "<style>\n",
       "    .dataframe thead tr:only-child th {\n",
       "        text-align: right;\n",
       "    }\n",
       "\n",
       "    .dataframe thead th {\n",
       "        text-align: left;\n",
       "    }\n",
       "\n",
       "    .dataframe tbody tr th {\n",
       "        vertical-align: top;\n",
       "    }\n",
       "</style>\n",
       "<table border=\"1\" class=\"dataframe\">\n",
       "  <thead>\n",
       "    <tr style=\"text-align: right;\">\n",
       "      <th></th>\n",
       "      <th></th>\n",
       "      <th>flug</th>\n",
       "      <th>fldg</th>\n",
       "      <th>fnetg</th>\n",
       "    </tr>\n",
       "    <tr>\n",
       "      <th>pressure</th>\n",
       "      <th>level</th>\n",
       "      <th></th>\n",
       "      <th></th>\n",
       "      <th></th>\n",
       "    </tr>\n",
       "  </thead>\n",
       "  <tbody>\n",
       "    <tr>\n",
       "      <th>0.0000</th>\n",
       "      <th>1</th>\n",
       "      <td>1.366240e-03</td>\n",
       "      <td>0.000000</td>\n",
       "      <td>0.001366</td>\n",
       "    </tr>\n",
       "    <tr>\n",
       "      <th>1.0685</th>\n",
       "      <th>24</th>\n",
       "      <td>9.733500e-04</td>\n",
       "      <td>0.000149</td>\n",
       "      <td>0.001122</td>\n",
       "    </tr>\n",
       "    <tr>\n",
       "      <th>1013.0000</th>\n",
       "      <th>76</th>\n",
       "      <td>7.000000e-08</td>\n",
       "      <td>-0.092143</td>\n",
       "      <td>-0.092143</td>\n",
       "    </tr>\n",
       "  </tbody>\n",
       "</table>\n",
       "</div>"
      ],
      "text/plain": [
       "                         flug      fldg     fnetg\n",
       "pressure  level                                  \n",
       "0.0000    1      1.366240e-03  0.000000  0.001366\n",
       "1.0685    24     9.733500e-04  0.000149  0.001122\n",
       "1013.0000 76     7.000000e-08 -0.092143 -0.092143"
      ]
     },
     "metadata": {},
     "output_type": "display_data"
    },
    {
     "name": "stdout",
     "output_type": "stream",
     "text": [
      "Table. Fluxes. (CRD) - (WGT igg=10 wgt_flux=1)\n"
     ]
    },
    {
     "data": {
      "text/html": [
       "<div>\n",
       "<style>\n",
       "    .dataframe thead tr:only-child th {\n",
       "        text-align: right;\n",
       "    }\n",
       "\n",
       "    .dataframe thead th {\n",
       "        text-align: left;\n",
       "    }\n",
       "\n",
       "    .dataframe tbody tr th {\n",
       "        vertical-align: top;\n",
       "    }\n",
       "</style>\n",
       "<table border=\"1\" class=\"dataframe\">\n",
       "  <thead>\n",
       "    <tr style=\"text-align: right;\">\n",
       "      <th></th>\n",
       "      <th></th>\n",
       "      <th>flug</th>\n",
       "      <th>fldg</th>\n",
       "      <th>fnetg</th>\n",
       "    </tr>\n",
       "    <tr>\n",
       "      <th>pressure</th>\n",
       "      <th>level</th>\n",
       "      <th></th>\n",
       "      <th></th>\n",
       "      <th></th>\n",
       "    </tr>\n",
       "  </thead>\n",
       "  <tbody>\n",
       "    <tr>\n",
       "      <th>0.0000</th>\n",
       "      <th>1</th>\n",
       "      <td>-4.755676e-02</td>\n",
       "      <td>0.000002</td>\n",
       "      <td>-0.047557</td>\n",
       "    </tr>\n",
       "    <tr>\n",
       "      <th>1.0685</th>\n",
       "      <th>24</th>\n",
       "      <td>-4.750465e-02</td>\n",
       "      <td>-0.000370</td>\n",
       "      <td>-0.047874</td>\n",
       "    </tr>\n",
       "    <tr>\n",
       "      <th>1013.0000</th>\n",
       "      <th>76</th>\n",
       "      <td>-9.300000e-07</td>\n",
       "      <td>-0.099528</td>\n",
       "      <td>-0.099530</td>\n",
       "    </tr>\n",
       "  </tbody>\n",
       "</table>\n",
       "</div>"
      ],
      "text/plain": [
       "                         flug      fldg     fnetg\n",
       "pressure  level                                  \n",
       "0.0000    1     -4.755676e-02  0.000002 -0.047557\n",
       "1.0685    24    -4.750465e-02 -0.000370 -0.047874\n",
       "1013.0000 76    -9.300000e-07 -0.099528 -0.099530"
      ]
     },
     "metadata": {},
     "output_type": "display_data"
    },
    {
     "name": "stdout",
     "output_type": "stream",
     "text": [
      "Table. Fluxes. (CLIRAD) - (WGT igg=10 wgt_flux=1)\n"
     ]
    },
    {
     "data": {
      "text/html": [
       "<a id=\"Best-fit_Parameters\"></a>"
      ],
      "text/plain": [
       "<IPython.core.display.HTML object>"
      ]
     },
     "metadata": {},
     "output_type": "display_data"
    },
    {
     "data": {
      "text/markdown": [
       "# Best-fit Parameters"
      ],
      "text/plain": [
       "<IPython.core.display.Markdown object>"
      ]
     },
     "metadata": {},
     "output_type": "display_data"
    },
    {
     "name": "stdout",
     "output_type": "stream",
     "text": [
      "Best-fit values for each (gas, band)\n",
      "------------------------------------\n",
      "o n2o band3a\n",
      "  molecule = n2o\n",
      "  band = 3a\n",
      "  commitnumber = d62b618\n",
      "  vmin = 540\n",
      "  vmax = 620\n",
      "  dv = 0.005\n",
      "  nv = 200\n",
      "  ref_pts = [(1, 250), (500, 250)]\n",
      "  ng_refs = [1, 2]\n",
      "  ng_adju = [0, 0]\n",
      "  klin = 2.22e-20\n",
      "  option_wgt_k = 1\n",
      "  wgt = [(0.9,), (0.5, 0.95)]\n",
      "  w_diffuse = [(1.8,), (1.66, 1.8)]\n",
      "  option_wgt_flux = 1\n",
      "  atmpro = mls\n",
      "  tsfc = 294\n",
      "  conc = 3.2e-07\n",
      "  option_compute_btable = 0\n",
      "  option_compute_ktable = 1\n"
     ]
    }
   ],
   "source": [
    "script()"
   ]
  },
  {
   "cell_type": "code",
   "execution_count": 13,
   "metadata": {},
   "outputs": [
    {
     "data": {
      "text/html": [
       "<script>\n",
       "code_show=true; \n",
       "function code_toggle() {\n",
       " if (code_show){\n",
       " $('div.input').hide();\n",
       " } else {\n",
       " $('div.input').show();\n",
       " }\n",
       " code_show = !code_show\n",
       "} \n",
       "$( document ).ready(code_toggle);\n",
       "</script>\n",
       "<form action=\"javascript:code_toggle()\"><input type=\"submit\" value=\"Click here to toggle on/off the raw code.\"></form>"
      ],
      "text/plain": [
       "<IPython.core.display.HTML object>"
      ]
     },
     "execution_count": 13,
     "metadata": {},
     "output_type": "execute_result"
    }
   ],
   "source": [
    "display.HTML('''<script>\n",
    "code_show=true; \n",
    "function code_toggle() {\n",
    " if (code_show){\n",
    " $('div.input').hide();\n",
    " } else {\n",
    " $('div.input').show();\n",
    " }\n",
    " code_show = !code_show\n",
    "} \n",
    "$( document ).ready(code_toggle);\n",
    "</script>\n",
    "<form action=\"javascript:code_toggle()\"><input type=\"submit\" value=\"Click here to toggle on/off the raw code.\"></form>''')"
   ]
  }
 ],
 "metadata": {
  "kernelspec": {
   "display_name": "Python 3",
   "language": "python",
   "name": "python3"
  },
  "language_info": {
   "codemirror_mode": {
    "name": "ipython",
    "version": 3
   },
   "file_extension": ".py",
   "mimetype": "text/x-python",
   "name": "python",
   "nbconvert_exporter": "python",
   "pygments_lexer": "ipython3",
   "version": "3.6.1"
  }
 },
 "nbformat": 4,
 "nbformat_minor": 2
}
