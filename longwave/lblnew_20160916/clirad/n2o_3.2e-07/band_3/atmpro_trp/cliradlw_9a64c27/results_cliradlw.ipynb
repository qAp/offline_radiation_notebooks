{
 "cells": [
  {
   "cell_type": "code",
   "execution_count": 1,
   "metadata": {
    "collapsed": true
   },
   "outputs": [],
   "source": [
    "%matplotlib inline\n",
    "import os\n",
    "import re\n",
    "import io\n",
    "import itertools\n",
    "import pprint\n",
    "\n",
    "from bokeh.io import output_notebook, show\n",
    "from bokeh.layouts import gridplot\n",
    "from bokeh.plotting import figure\n",
    "from bokeh.models import Range1d, Legend\n",
    "from bokeh.palettes import all_palettes\n",
    "\n",
    "import matplotlib\n",
    "import matplotlib.pyplot as plt\n",
    "import numpy as np\n",
    "import pandas as pd\n",
    "import xarray as xr\n",
    "\n",
    "import climatools.lblnew.bestfit_params as bestfits\n",
    "from climatools.lblnew import setup_bestfit, setup_overlap\n",
    "import climatools.lblnew.pipeline as pipe_lblnew\n",
    "import climatools.cliradlw.setup as setup_cliradlw\n",
    "import climatools.cliradlw.pipeline as pipe_cliradlw\n",
    "\n",
    "import climatools.html.html as climahtml\n",
    "from climatools.lblnew.dataio import *\n",
    "from climatools.plot.plot import *\n",
    "\n",
    "\n",
    "import IPython.display as display"
   ]
  },
  {
   "cell_type": "code",
   "execution_count": 2,
   "metadata": {
    "collapsed": true
   },
   "outputs": [],
   "source": [
    "%run param.py"
   ]
  },
  {
   "cell_type": "code",
   "execution_count": 3,
   "metadata": {
    "collapsed": true
   },
   "outputs": [],
   "source": [
    "def load_output_file(path_csv):\n",
    "    '''\n",
    "    Load lblnew output .csv file to xarray.Dataset\n",
    "    \n",
    "    Parameters\n",
    "    ----------\n",
    "    path_csv: str\n",
    "              Path to the .csv file to be loaded.\n",
    "    ds: xarray.Dataset\n",
    "        Data in the input file in the form of an xarray.Dataset.\n",
    "    '''\n",
    "    toindex = ['band', 'pressure', 'igg', 'g']    \n",
    "    df = pd.read_csv(path_csv, sep=r'\\s+')\n",
    "    df = df.set_index([i for i in toindex if i in df.columns])\n",
    "    df = df.rename(columns={'sfu': 'flug',\n",
    "                            'sfd': 'fldg',\n",
    "                            'fnet': 'fnetg',\n",
    "                            'coolr': 'coolrg'})\n",
    "    ds = xr.Dataset.from_dataframe(df)\n",
    "\n",
    "    for l in ('level', 'layer'):\n",
    "        if l in ds.data_vars:\n",
    "            if len(ds[l].dims) > 1:\n",
    "                surface = {d: 0 for d in ds.dims if d != 'pressure'}\n",
    "                coord_level = ds[l][surface]\n",
    "                ds.coords[l] = ('pressure', coord_level)\n",
    "            else:\n",
    "                ds.coords[l] = ('pressure', ds[l])\n",
    "    \n",
    "    return ds"
   ]
  },
  {
   "cell_type": "code",
   "execution_count": 4,
   "metadata": {
    "collapsed": true
   },
   "outputs": [],
   "source": [
    "def lblnew_setup(param=None):\n",
    "    if 'ng_refs' in param:\n",
    "        return {'setup': setup_bestfit,\n",
    "                'fname_flux_crd': 'output_flux.dat',\n",
    "                'fname_cool_crd': 'output_coolr.dat',\n",
    "                'fname_flux_wgt': 'output_wfluxg.dat',\n",
    "                'fname_cool_wgt': 'output_wcoolrg.dat'}\n",
    "    else:\n",
    "        return {'setup': setup_overlap,\n",
    "                'fname_flux_crd': 'output_flux.dat',\n",
    "                'fname_cool_crd': 'output_coolr.dat',\n",
    "                'fname_flux_wgt': 'output_wflux.dat',\n",
    "                'fname_cool_wgt': 'output_wcoolr.dat'}\n",
    "\n",
    "    \n",
    "def load_lblnew_data(param):\n",
    "    \n",
    "    fname_dsname = [('fname_flux_crd', 'ds_flux_crd'),\n",
    "                    ('fname_cool_crd', 'ds_cool_crd'),\n",
    "                    ('fname_flux_wgt', 'ds_flux_wgt'),\n",
    "                    ('fname_cool_wgt', 'ds_cool_wgt')]\n",
    "    \n",
    "    d = lblnew_setup(param)\n",
    "    dir_fortran = pipe_lblnew.get_dir_case(param, setup=d['setup'])\n",
    "    \n",
    "    data_dict = {}\n",
    "    for fname, dsname in fname_dsname:\n",
    "        fpath = os.path.join(dir_fortran, d[fname])\n",
    "        data_dict[dsname] = load_output_file(fpath)\n",
    "    return data_dict\n",
    "    \n",
    "\n",
    "    \n",
    "    "
   ]
  },
  {
   "cell_type": "code",
   "execution_count": 5,
   "metadata": {
    "collapsed": true
   },
   "outputs": [],
   "source": [
    "d = load_lblnew_data(PARAM_LBLNEW)\n",
    "\n",
    "DS_FLUX_CRD = d['ds_flux_crd']\n",
    "DS_COOL_CRD = d['ds_cool_crd']\n",
    "DS_FLUX_WGT = d['ds_flux_wgt']\n",
    "DS_COOL_WGT = d['ds_cool_wgt']"
   ]
  },
  {
   "cell_type": "code",
   "execution_count": 6,
   "metadata": {
    "collapsed": true
   },
   "outputs": [],
   "source": [
    "DIR_FORTRAN = pipe_cliradlw.get_fortran_dir(PARAM, \n",
    "                                            setup=setup_cliradlw)\n",
    "\n",
    "PATH_FLUX = os.path.join(DIR_FORTRAN, 'output_flux.dat')\n",
    "PATH_COOL = os.path.join(DIR_FORTRAN, 'output_coolr.dat')\n",
    "\n",
    "DS_FLUX = load_output_file(PATH_FLUX)\n",
    "DS_COOL = load_output_file(PATH_COOL)"
   ]
  },
  {
   "cell_type": "code",
   "execution_count": 7,
   "metadata": {
    "collapsed": true
   },
   "outputs": [
    {
     "data": {
      "text/html": [
       "\n",
       "    <div class=\"bk-root\">\n",
       "        <a href=\"https://bokeh.pydata.org\" target=\"_blank\" class=\"bk-logo bk-logo-small bk-logo-notebook\"></a>\n",
       "        <span id=\"f1845b6d-2c60-4cc0-a0fd-60e991f1f6a9\">Loading BokehJS ...</span>\n",
       "    </div>"
      ]
     },
     "metadata": {},
     "output_type": "display_data"
    },
    {
     "data": {
      "application/javascript": [
       "\n",
       "(function(root) {\n",
       "  function now() {\n",
       "    return new Date();\n",
       "  }\n",
       "\n",
       "  var force = true;\n",
       "\n",
       "  if (typeof (root._bokeh_onload_callbacks) === \"undefined\" || force === true) {\n",
       "    root._bokeh_onload_callbacks = [];\n",
       "    root._bokeh_is_loading = undefined;\n",
       "  }\n",
       "\n",
       "  var JS_MIME_TYPE = 'application/javascript';\n",
       "  var HTML_MIME_TYPE = 'text/html';\n",
       "  var EXEC_MIME_TYPE = 'application/vnd.bokehjs_exec.v0+json';\n",
       "  var CLASS_NAME = 'output_bokeh rendered_html';\n",
       "\n",
       "  /**\n",
       "   * Render data to the DOM node\n",
       "   */\n",
       "  function render(props, node) {\n",
       "    var script = document.createElement(\"script\");\n",
       "    node.appendChild(script);\n",
       "  }\n",
       "\n",
       "  /**\n",
       "   * Handle when an output is cleared or removed\n",
       "   */\n",
       "  function handleClearOutput(event, handle) {\n",
       "    var cell = handle.cell;\n",
       "\n",
       "    var id = cell.output_area._bokeh_element_id;\n",
       "    var server_id = cell.output_area._bokeh_server_id;\n",
       "    // Clean up Bokeh references\n",
       "    if (id !== undefined) {\n",
       "      Bokeh.index[id].model.document.clear();\n",
       "      delete Bokeh.index[id];\n",
       "    }\n",
       "\n",
       "    if (server_id !== undefined) {\n",
       "      // Clean up Bokeh references\n",
       "      var cmd = \"from bokeh.io.state import curstate; print(curstate().uuid_to_server['\" + server_id + \"'].get_sessions()[0].document.roots[0]._id)\";\n",
       "      cell.notebook.kernel.execute(cmd, {\n",
       "        iopub: {\n",
       "          output: function(msg) {\n",
       "            var element_id = msg.content.text.trim();\n",
       "            Bokeh.index[element_id].model.document.clear();\n",
       "            delete Bokeh.index[element_id];\n",
       "          }\n",
       "        }\n",
       "      });\n",
       "      // Destroy server and session\n",
       "      var cmd = \"import bokeh.io.notebook as ion; ion.destroy_server('\" + server_id + \"')\";\n",
       "      cell.notebook.kernel.execute(cmd);\n",
       "    }\n",
       "  }\n",
       "\n",
       "  /**\n",
       "   * Handle when a new output is added\n",
       "   */\n",
       "  function handleAddOutput(event, handle) {\n",
       "    var output_area = handle.output_area;\n",
       "    var output = handle.output;\n",
       "\n",
       "    // limit handleAddOutput to display_data with EXEC_MIME_TYPE content only\n",
       "    if ((output.output_type != \"display_data\") || (!output.data.hasOwnProperty(EXEC_MIME_TYPE))) {\n",
       "      return\n",
       "    }\n",
       "\n",
       "    var toinsert = output_area.element.find(\".\" + CLASS_NAME.split(' ')[0]);\n",
       "\n",
       "    if (output.metadata[EXEC_MIME_TYPE][\"id\"] !== undefined) {\n",
       "      toinsert[0].firstChild.textContent = output.data[JS_MIME_TYPE];\n",
       "      // store reference to embed id on output_area\n",
       "      output_area._bokeh_element_id = output.metadata[EXEC_MIME_TYPE][\"id\"];\n",
       "    }\n",
       "    if (output.metadata[EXEC_MIME_TYPE][\"server_id\"] !== undefined) {\n",
       "      var bk_div = document.createElement(\"div\");\n",
       "      bk_div.innerHTML = output.data[HTML_MIME_TYPE];\n",
       "      var script_attrs = bk_div.children[0].attributes;\n",
       "      for (var i = 0; i < script_attrs.length; i++) {\n",
       "        toinsert[0].firstChild.setAttribute(script_attrs[i].name, script_attrs[i].value);\n",
       "      }\n",
       "      // store reference to server id on output_area\n",
       "      output_area._bokeh_server_id = output.metadata[EXEC_MIME_TYPE][\"server_id\"];\n",
       "    }\n",
       "  }\n",
       "\n",
       "  function register_renderer(events, OutputArea) {\n",
       "\n",
       "    function append_mime(data, metadata, element) {\n",
       "      // create a DOM node to render to\n",
       "      var toinsert = this.create_output_subarea(\n",
       "        metadata,\n",
       "        CLASS_NAME,\n",
       "        EXEC_MIME_TYPE\n",
       "      );\n",
       "      this.keyboard_manager.register_events(toinsert);\n",
       "      // Render to node\n",
       "      var props = {data: data, metadata: metadata[EXEC_MIME_TYPE]};\n",
       "      render(props, toinsert[0]);\n",
       "      element.append(toinsert);\n",
       "      return toinsert\n",
       "    }\n",
       "\n",
       "    /* Handle when an output is cleared or removed */\n",
       "    events.on('clear_output.CodeCell', handleClearOutput);\n",
       "    events.on('delete.Cell', handleClearOutput);\n",
       "\n",
       "    /* Handle when a new output is added */\n",
       "    events.on('output_added.OutputArea', handleAddOutput);\n",
       "\n",
       "    /**\n",
       "     * Register the mime type and append_mime function with output_area\n",
       "     */\n",
       "    OutputArea.prototype.register_mime_type(EXEC_MIME_TYPE, append_mime, {\n",
       "      /* Is output safe? */\n",
       "      safe: true,\n",
       "      /* Index of renderer in `output_area.display_order` */\n",
       "      index: 0\n",
       "    });\n",
       "  }\n",
       "\n",
       "  // register the mime type if in Jupyter Notebook environment and previously unregistered\n",
       "  if (root.Jupyter !== undefined) {\n",
       "    var events = require('base/js/events');\n",
       "    var OutputArea = require('notebook/js/outputarea').OutputArea;\n",
       "\n",
       "    if (OutputArea.prototype.mime_types().indexOf(EXEC_MIME_TYPE) == -1) {\n",
       "      register_renderer(events, OutputArea);\n",
       "    }\n",
       "  }\n",
       "\n",
       "  \n",
       "  if (typeof (root._bokeh_timeout) === \"undefined\" || force === true) {\n",
       "    root._bokeh_timeout = Date.now() + 5000;\n",
       "    root._bokeh_failed_load = false;\n",
       "  }\n",
       "\n",
       "  var NB_LOAD_WARNING = {'data': {'text/html':\n",
       "     \"<div style='background-color: #fdd'>\\n\"+\n",
       "     \"<p>\\n\"+\n",
       "     \"BokehJS does not appear to have successfully loaded. If loading BokehJS from CDN, this \\n\"+\n",
       "     \"may be due to a slow or bad network connection. Possible fixes:\\n\"+\n",
       "     \"</p>\\n\"+\n",
       "     \"<ul>\\n\"+\n",
       "     \"<li>re-rerun `output_notebook()` to attempt to load from CDN again, or</li>\\n\"+\n",
       "     \"<li>use INLINE resources instead, as so:</li>\\n\"+\n",
       "     \"</ul>\\n\"+\n",
       "     \"<code>\\n\"+\n",
       "     \"from bokeh.resources import INLINE\\n\"+\n",
       "     \"output_notebook(resources=INLINE)\\n\"+\n",
       "     \"</code>\\n\"+\n",
       "     \"</div>\"}};\n",
       "\n",
       "  function display_loaded() {\n",
       "    var el = document.getElementById(\"f1845b6d-2c60-4cc0-a0fd-60e991f1f6a9\");\n",
       "    if (el != null) {\n",
       "      el.textContent = \"BokehJS is loading...\";\n",
       "    }\n",
       "    if (root.Bokeh !== undefined) {\n",
       "      if (el != null) {\n",
       "        el.textContent = \"BokehJS \" + root.Bokeh.version + \" successfully loaded.\";\n",
       "      }\n",
       "    } else if (Date.now() < root._bokeh_timeout) {\n",
       "      setTimeout(display_loaded, 100)\n",
       "    }\n",
       "  }\n",
       "\n",
       "\n",
       "  function run_callbacks() {\n",
       "    try {\n",
       "      root._bokeh_onload_callbacks.forEach(function(callback) { callback() });\n",
       "    }\n",
       "    finally {\n",
       "      delete root._bokeh_onload_callbacks\n",
       "    }\n",
       "    console.info(\"Bokeh: all callbacks have finished\");\n",
       "  }\n",
       "\n",
       "  function load_libs(js_urls, callback) {\n",
       "    root._bokeh_onload_callbacks.push(callback);\n",
       "    if (root._bokeh_is_loading > 0) {\n",
       "      console.log(\"Bokeh: BokehJS is being loaded, scheduling callback at\", now());\n",
       "      return null;\n",
       "    }\n",
       "    if (js_urls == null || js_urls.length === 0) {\n",
       "      run_callbacks();\n",
       "      return null;\n",
       "    }\n",
       "    console.log(\"Bokeh: BokehJS not loaded, scheduling load and callback at\", now());\n",
       "    root._bokeh_is_loading = js_urls.length;\n",
       "    for (var i = 0; i < js_urls.length; i++) {\n",
       "      var url = js_urls[i];\n",
       "      var s = document.createElement('script');\n",
       "      s.src = url;\n",
       "      s.async = false;\n",
       "      s.onreadystatechange = s.onload = function() {\n",
       "        root._bokeh_is_loading--;\n",
       "        if (root._bokeh_is_loading === 0) {\n",
       "          console.log(\"Bokeh: all BokehJS libraries loaded\");\n",
       "          run_callbacks()\n",
       "        }\n",
       "      };\n",
       "      s.onerror = function() {\n",
       "        console.warn(\"failed to load library \" + url);\n",
       "      };\n",
       "      console.log(\"Bokeh: injecting script tag for BokehJS library: \", url);\n",
       "      document.getElementsByTagName(\"head\")[0].appendChild(s);\n",
       "    }\n",
       "  };var element = document.getElementById(\"f1845b6d-2c60-4cc0-a0fd-60e991f1f6a9\");\n",
       "  if (element == null) {\n",
       "    console.log(\"Bokeh: ERROR: autoload.js configured with elementid 'f1845b6d-2c60-4cc0-a0fd-60e991f1f6a9' but no matching script tag was found. \")\n",
       "    return false;\n",
       "  }\n",
       "\n",
       "  var js_urls = [\"https://cdn.pydata.org/bokeh/release/bokeh-0.12.14.min.js\", \"https://cdn.pydata.org/bokeh/release/bokeh-widgets-0.12.14.min.js\", \"https://cdn.pydata.org/bokeh/release/bokeh-tables-0.12.14.min.js\", \"https://cdn.pydata.org/bokeh/release/bokeh-gl-0.12.14.min.js\"];\n",
       "\n",
       "  var inline_js = [\n",
       "    function(Bokeh) {\n",
       "      Bokeh.set_log_level(\"info\");\n",
       "    },\n",
       "    \n",
       "    function(Bokeh) {\n",
       "      \n",
       "    },\n",
       "    function(Bokeh) {\n",
       "      console.log(\"Bokeh: injecting CSS: https://cdn.pydata.org/bokeh/release/bokeh-0.12.14.min.css\");\n",
       "      Bokeh.embed.inject_css(\"https://cdn.pydata.org/bokeh/release/bokeh-0.12.14.min.css\");\n",
       "      console.log(\"Bokeh: injecting CSS: https://cdn.pydata.org/bokeh/release/bokeh-widgets-0.12.14.min.css\");\n",
       "      Bokeh.embed.inject_css(\"https://cdn.pydata.org/bokeh/release/bokeh-widgets-0.12.14.min.css\");\n",
       "      console.log(\"Bokeh: injecting CSS: https://cdn.pydata.org/bokeh/release/bokeh-tables-0.12.14.min.css\");\n",
       "      Bokeh.embed.inject_css(\"https://cdn.pydata.org/bokeh/release/bokeh-tables-0.12.14.min.css\");\n",
       "    }\n",
       "  ];\n",
       "\n",
       "  function run_inline_js() {\n",
       "    \n",
       "    if ((root.Bokeh !== undefined) || (force === true)) {\n",
       "      for (var i = 0; i < inline_js.length; i++) {\n",
       "        inline_js[i].call(root, root.Bokeh);\n",
       "      }if (force === true) {\n",
       "        display_loaded();\n",
       "      }} else if (Date.now() < root._bokeh_timeout) {\n",
       "      setTimeout(run_inline_js, 100);\n",
       "    } else if (!root._bokeh_failed_load) {\n",
       "      console.log(\"Bokeh: BokehJS failed to load within specified timeout.\");\n",
       "      root._bokeh_failed_load = true;\n",
       "    } else if (force !== true) {\n",
       "      var cell = $(document.getElementById(\"f1845b6d-2c60-4cc0-a0fd-60e991f1f6a9\")).parents('.cell').data().cell;\n",
       "      cell.output_area.append_execute_result(NB_LOAD_WARNING)\n",
       "    }\n",
       "\n",
       "  }\n",
       "\n",
       "  if (root._bokeh_is_loading === 0) {\n",
       "    console.log(\"Bokeh: BokehJS loaded, going straight to plotting\");\n",
       "    run_inline_js();\n",
       "  } else {\n",
       "    load_libs(js_urls, function() {\n",
       "      console.log(\"Bokeh: BokehJS plotting callback run at\", now());\n",
       "      run_inline_js();\n",
       "    });\n",
       "  }\n",
       "}(window));"
      ],
      "application/vnd.bokehjs_load.v0+json": "\n(function(root) {\n  function now() {\n    return new Date();\n  }\n\n  var force = true;\n\n  if (typeof (root._bokeh_onload_callbacks) === \"undefined\" || force === true) {\n    root._bokeh_onload_callbacks = [];\n    root._bokeh_is_loading = undefined;\n  }\n\n  \n\n  \n  if (typeof (root._bokeh_timeout) === \"undefined\" || force === true) {\n    root._bokeh_timeout = Date.now() + 5000;\n    root._bokeh_failed_load = false;\n  }\n\n  var NB_LOAD_WARNING = {'data': {'text/html':\n     \"<div style='background-color: #fdd'>\\n\"+\n     \"<p>\\n\"+\n     \"BokehJS does not appear to have successfully loaded. If loading BokehJS from CDN, this \\n\"+\n     \"may be due to a slow or bad network connection. Possible fixes:\\n\"+\n     \"</p>\\n\"+\n     \"<ul>\\n\"+\n     \"<li>re-rerun `output_notebook()` to attempt to load from CDN again, or</li>\\n\"+\n     \"<li>use INLINE resources instead, as so:</li>\\n\"+\n     \"</ul>\\n\"+\n     \"<code>\\n\"+\n     \"from bokeh.resources import INLINE\\n\"+\n     \"output_notebook(resources=INLINE)\\n\"+\n     \"</code>\\n\"+\n     \"</div>\"}};\n\n  function display_loaded() {\n    var el = document.getElementById(\"f1845b6d-2c60-4cc0-a0fd-60e991f1f6a9\");\n    if (el != null) {\n      el.textContent = \"BokehJS is loading...\";\n    }\n    if (root.Bokeh !== undefined) {\n      if (el != null) {\n        el.textContent = \"BokehJS \" + root.Bokeh.version + \" successfully loaded.\";\n      }\n    } else if (Date.now() < root._bokeh_timeout) {\n      setTimeout(display_loaded, 100)\n    }\n  }\n\n\n  function run_callbacks() {\n    try {\n      root._bokeh_onload_callbacks.forEach(function(callback) { callback() });\n    }\n    finally {\n      delete root._bokeh_onload_callbacks\n    }\n    console.info(\"Bokeh: all callbacks have finished\");\n  }\n\n  function load_libs(js_urls, callback) {\n    root._bokeh_onload_callbacks.push(callback);\n    if (root._bokeh_is_loading > 0) {\n      console.log(\"Bokeh: BokehJS is being loaded, scheduling callback at\", now());\n      return null;\n    }\n    if (js_urls == null || js_urls.length === 0) {\n      run_callbacks();\n      return null;\n    }\n    console.log(\"Bokeh: BokehJS not loaded, scheduling load and callback at\", now());\n    root._bokeh_is_loading = js_urls.length;\n    for (var i = 0; i < js_urls.length; i++) {\n      var url = js_urls[i];\n      var s = document.createElement('script');\n      s.src = url;\n      s.async = false;\n      s.onreadystatechange = s.onload = function() {\n        root._bokeh_is_loading--;\n        if (root._bokeh_is_loading === 0) {\n          console.log(\"Bokeh: all BokehJS libraries loaded\");\n          run_callbacks()\n        }\n      };\n      s.onerror = function() {\n        console.warn(\"failed to load library \" + url);\n      };\n      console.log(\"Bokeh: injecting script tag for BokehJS library: \", url);\n      document.getElementsByTagName(\"head\")[0].appendChild(s);\n    }\n  };var element = document.getElementById(\"f1845b6d-2c60-4cc0-a0fd-60e991f1f6a9\");\n  if (element == null) {\n    console.log(\"Bokeh: ERROR: autoload.js configured with elementid 'f1845b6d-2c60-4cc0-a0fd-60e991f1f6a9' but no matching script tag was found. \")\n    return false;\n  }\n\n  var js_urls = [\"https://cdn.pydata.org/bokeh/release/bokeh-0.12.14.min.js\", \"https://cdn.pydata.org/bokeh/release/bokeh-widgets-0.12.14.min.js\", \"https://cdn.pydata.org/bokeh/release/bokeh-tables-0.12.14.min.js\", \"https://cdn.pydata.org/bokeh/release/bokeh-gl-0.12.14.min.js\"];\n\n  var inline_js = [\n    function(Bokeh) {\n      Bokeh.set_log_level(\"info\");\n    },\n    \n    function(Bokeh) {\n      \n    },\n    function(Bokeh) {\n      console.log(\"Bokeh: injecting CSS: https://cdn.pydata.org/bokeh/release/bokeh-0.12.14.min.css\");\n      Bokeh.embed.inject_css(\"https://cdn.pydata.org/bokeh/release/bokeh-0.12.14.min.css\");\n      console.log(\"Bokeh: injecting CSS: https://cdn.pydata.org/bokeh/release/bokeh-widgets-0.12.14.min.css\");\n      Bokeh.embed.inject_css(\"https://cdn.pydata.org/bokeh/release/bokeh-widgets-0.12.14.min.css\");\n      console.log(\"Bokeh: injecting CSS: https://cdn.pydata.org/bokeh/release/bokeh-tables-0.12.14.min.css\");\n      Bokeh.embed.inject_css(\"https://cdn.pydata.org/bokeh/release/bokeh-tables-0.12.14.min.css\");\n    }\n  ];\n\n  function run_inline_js() {\n    \n    if ((root.Bokeh !== undefined) || (force === true)) {\n      for (var i = 0; i < inline_js.length; i++) {\n        inline_js[i].call(root, root.Bokeh);\n      }if (force === true) {\n        display_loaded();\n      }} else if (Date.now() < root._bokeh_timeout) {\n      setTimeout(run_inline_js, 100);\n    } else if (!root._bokeh_failed_load) {\n      console.log(\"Bokeh: BokehJS failed to load within specified timeout.\");\n      root._bokeh_failed_load = true;\n    } else if (force !== true) {\n      var cell = $(document.getElementById(\"f1845b6d-2c60-4cc0-a0fd-60e991f1f6a9\")).parents('.cell').data().cell;\n      cell.output_area.append_execute_result(NB_LOAD_WARNING)\n    }\n\n  }\n\n  if (root._bokeh_is_loading === 0) {\n    console.log(\"Bokeh: BokehJS loaded, going straight to plotting\");\n    run_inline_js();\n  } else {\n    load_libs(js_urls, function() {\n      console.log(\"Bokeh: BokehJS plotting callback run at\", now());\n      run_inline_js();\n    });\n  }\n}(window));"
     },
     "metadata": {},
     "output_type": "display_data"
    }
   ],
   "source": [
    "output_notebook()"
   ]
  },
  {
   "cell_type": "code",
   "execution_count": 8,
   "metadata": {
    "collapsed": true
   },
   "outputs": [],
   "source": [
    "def fmt_cool(ds_in):\n",
    "    ds = ds_in.copy(deep=True)\n",
    "    if 'igg' in ds.dims:\n",
    "        ds = ds.sel(igg=1)\n",
    "\n",
    "    if 'g' in ds.dims:\n",
    "        ds = ds.sum('g')\n",
    "            \n",
    "    if 'band' in ds.dims:\n",
    "        try:\n",
    "            ds = ds.squeeze('band')\n",
    "        except ValueError:\n",
    "            ds = ds.sum('band')\n",
    "                \n",
    "    return ds['coolrg']\n",
    "\n",
    "\n",
    "def pltdata_cooling_1(ds_cool=None,\n",
    "                      ds_cool_crd=None, ds_cool_wgt=None):\n",
    "    \n",
    "\n",
    "\n",
    "    colors = all_palettes['Set1'][4]\n",
    "    data = [{'label': 'CLIRAD `coolr_bands`',\n",
    "             'srs': fmt_cool(ds_cool),\n",
    "             'line_dash': 'dashed', 'line_width': 5,\n",
    "             'color': colors[0], 'alpha': .6},\n",
    "            {'label': 'CRD',\n",
    "             'srs': fmt_cool(ds_cool_crd),\n",
    "             'line_dash': 'solid', 'line_width': 1.5,\n",
    "             'marker': 'circle', 'marker_size': 5,\n",
    "             'color': colors[2], 'alpha': 1,},\n",
    "            {'label': 'WGT igg=10 wgt_flux=2',\n",
    "             'srs': fmt_cool(ds_cool_wgt),\n",
    "             'line_dash': 'solid', 'line_width': 3,\n",
    "             'marker': 'square', 'marker_size': 5,\n",
    "             'color': colors[3], 'alpha': .6}]\n",
    "    return data\n",
    "\n",
    "\n",
    "def nice_xlims(pltdata=None, prange=None):\n",
    "    \n",
    "    def get_slice(srs):\n",
    "        return srs.sel(pressure=slice(*prange))\n",
    "    \n",
    "    srss = [d['srs'] for d in pltdata]\n",
    "    vmin = min([get_slice(srs).min() for srs in srss])\n",
    "    vmax = max([get_slice(srs).max() for srs in srss])\n",
    "    dv = (vmax - vmin) * .01\n",
    "    return float(vmin - dv), float(vmax + dv)\n",
    "    \n",
    "\n",
    "def plt_cooling_bokeh(pltdata=None):\n",
    "    '''\n",
    "    Plot a list of cooling rate profiles using bokeh.\n",
    "    '''\n",
    "    ymin = 1e-2 \n",
    "    ymax = 1020 \n",
    "        \n",
    "    p1 = figure(title=\"Linear pressure scale\", \n",
    "                plot_width=400)        \n",
    "    xmin, xmax = nice_xlims(pltdata, prange=(50, 1050))\n",
    "    for d in pltdata:\n",
    "        if 'marker' in d:\n",
    "            getattr(p1, d['marker'])(d['srs'].values, \n",
    "                    d['srs'].coords['pressure'].values,\n",
    "                    color=d['color'], alpha=.7)\n",
    "        p1.line(d['srs'].values, \n",
    "                d['srs'].coords['pressure'].values,\n",
    "                color=d['color'], alpha=d['alpha'], \n",
    "                line_width=d['line_width'], line_dash=d['line_dash'])\n",
    "    \n",
    "    p1.y_range = Range1d(ymax, ymin)\n",
    "    p1.yaxis.axis_label = 'pressure [mb]'   \n",
    "    p1.x_range = Range1d(xmin, xmax)\n",
    "    p1.xaxis.axis_label = 'cooling rate [K/day]'\n",
    "            \n",
    "    p2 = figure(title='Log pressure scale', y_axis_type='log',\n",
    "                plot_width=560)\n",
    "    xmin, xmax = nice_xlims(pltdata, prange=(.01, 200))\n",
    "    \n",
    "    rs = []\n",
    "    for d in pltdata:\n",
    "        rd = []\n",
    "        if 'marker' in d:\n",
    "            r_mark = getattr(p2, d['marker'])(d['srs'].values, \n",
    "                        d['srs'].coords['pressure'].values,\n",
    "                        color=d['color'], alpha=.7)\n",
    "            rd.append(r_mark)\n",
    "        r_line = p2.line(d['srs'].values, \n",
    "                    d['srs'].coords['pressure'].values,\n",
    "                    color=d['color'], alpha=d['alpha'], \n",
    "                    line_width=d['line_width'], line_dash=d['line_dash'])\n",
    "        rd.append(r_line)\n",
    "      \n",
    "        rs.append(rd)\n",
    "        \n",
    "    p2.y_range = Range1d(ymax, ymin)  \n",
    "    p2.yaxis.axis_label = 'pressure [mb]'\n",
    "    \n",
    "    p2.x_range = Range1d(xmin, xmax)\n",
    "    p2.xaxis.axis_label = 'cooling rate [K/day]'\n",
    "    \n",
    "    items = [(d['label'], r) for r, d in zip(rs, pltdata)]\n",
    "    legend = Legend(items=items, location=(10, -30))\n",
    "    legend.label_text_font_size = '8pt'\n",
    "    \n",
    "    p2.add_layout(legend, 'right')  \n",
    "    \n",
    "    show(gridplot(p1, p2, ncols=2, plot_height=500))\n",
    "    \n",
    "\n",
    "def script_plt_cooling():\n",
    "    pltdata = pltdata_cooling_1(\n",
    "        ds_cool=DS_COOL,\n",
    "        ds_cool_crd=DS_COOL_CRD,\n",
    "        ds_cool_wgt=DS_COOL_WGT)\n",
    "    plt_cooling_bokeh(pltdata=pltdata)\n",
    "    print('''FIGURE. Cooling rate profiles.''')"
   ]
  },
  {
   "cell_type": "code",
   "execution_count": 9,
   "metadata": {
    "collapsed": true
   },
   "outputs": [
    {
     "name": "stdout",
     "output_type": "stream",
     "text": [
      "The history saving thread hit an unexpected error (OperationalError('database is locked',)).History will not be written to the database.\n"
     ]
    }
   ],
   "source": [
    "def fmt_flux(ds_in):\n",
    "    ds = ds_in.copy(deep=True)\n",
    "    \n",
    "    for l in ('level', 'layer'):\n",
    "        if l in ds.data_vars:\n",
    "            if len(ds[l].dims) > 1:\n",
    "                surface = {d: 0 for d in ds.dims if d != 'pressure'}\n",
    "                coord_level = ds[l][surface]\n",
    "                ds.coords[l] = ('pressure', coord_level)\n",
    "            else:\n",
    "                ds.coords[l] = ('pressure', ds[l])\n",
    "        \n",
    "    ds = ds.isel(pressure=[0, 23, -1])\n",
    "        \n",
    "    if 'igg' in ds.dims:\n",
    "        ds = ds.sel(igg=[1])\n",
    "        ds = ds.squeeze('igg').drop('igg')\n",
    "    \n",
    "    if 'g' in ds.dims:\n",
    "        ds = ds.sum('g')\n",
    "            \n",
    "    if 'band' in ds.dims:\n",
    "        try:\n",
    "            ds = ds.squeeze('band').drop('band')\n",
    "        except ValueError:\n",
    "            ds = ds.sum('band')\n",
    "                \n",
    "    df = ds.to_dataframe()\n",
    "    df = df.set_index('level', append=True)               \n",
    "    return df\n",
    "\n",
    "\n",
    "def tbdata_flux(ds_flux=None, ds_flux_crd=None, ds_flux_wgt=None):\n",
    "    ilevels = [0, 23, -1]\n",
    "            \n",
    "    benchmark = {'label': 'WGT igg=10 wgt_flux=1',\n",
    "                 'df': fmt_flux(ds_flux_wgt)}\n",
    "    \n",
    "    tbs = [{'label': 'CRD',\n",
    "            'df': fmt_flux(ds_flux_crd)},\n",
    "           {'label': 'CLIRAD',\n",
    "            'df': fmt_flux(ds_flux)}]\n",
    "    \n",
    "    data = {'benchmark': benchmark, 'others': tbs}\n",
    "    return data\n",
    "\n",
    "\n",
    "def tb_flux(tbdata=None):\n",
    "    benchmark = tbdata['benchmark']\n",
    "    others = tbdata['others']\n",
    "    \n",
    "    def show_tb(d=None):\n",
    "        display.display(d['df'])\n",
    "        print('Table.', 'Fluxes.', d['label'])\n",
    "        \n",
    "    def show_tbdiff(d0=None, d=None):\n",
    "        df = d['df']\n",
    "        df.index = d0['df'].index\n",
    "        display.display(df - d0['df'])\n",
    "        print('Table.', 'Fluxes.', \n",
    "              '({}) - ({})'.format(d['label'], d0['label']))\n",
    "        \n",
    "    show_tb(benchmark)\n",
    "    for d in others:\n",
    "        show_tb(d)\n",
    "        \n",
    "    for d in others:\n",
    "        show_tbdiff(d=d, d0=benchmark)\n",
    "        \n",
    "        \n",
    "def script_tb_flux():\n",
    "    data = tbdata_flux(ds_flux=DS_FLUX,\n",
    "                       ds_flux_crd=DS_FLUX_CRD,\n",
    "                       ds_flux_wgt=DS_FLUX_WGT)\n",
    "    tb_flux(tbdata=data)"
   ]
  },
  {
   "cell_type": "code",
   "execution_count": 10,
   "metadata": {
    "collapsed": true
   },
   "outputs": [],
   "source": [
    "def band_map():\n",
    "    '''\n",
    "    Maps spectral bands in lblnew to spectral bands in clirad.\n",
    "    '''\n",
    "    lblnew2clirad = {'1': '1',\n",
    "            '2': '2',\n",
    "            '3a': '3',\n",
    "            '3b': '4',\n",
    "            '3c': '5',\n",
    "            '4': '6', \n",
    "            '5': '7',\n",
    "            '6': '8',\n",
    "            '7': '9', \n",
    "            '8': '10',\n",
    "            '9': '11'}\n",
    "    \n",
    "    clirad2lblnew = {clirad: lblnew \n",
    "                     for lblnew, clirad in lblnew2clirad.items()}\n",
    "    return clirad2lblnew\n",
    "\n",
    "\n",
    "def gasbands():\n",
    "    bmap = band_map()\n",
    "    gases = list(PARAM['molecule'].keys())\n",
    "    \n",
    "    bands = [bmap[str(b)] for b in PARAM['band']]\n",
    "    return list(itertools.product(gases, bands))\n",
    "\n",
    "\n",
    "def print_bestfit_params():\n",
    "    print('Best-fit values for each (gas, band)')\n",
    "    print('------------------------------------')\n",
    "    for gas, band in gasbands():\n",
    "        print('o {} band{}'.format(gas, band))\n",
    "        param = bestfits.kdist_params(molecule=gas, band=band)\n",
    "        for name, value in sorted(param.items()):\n",
    "            print(2 * ' ' + '{} = {}'.format(name, value))\n",
    "\n",
    "        \n",
    "def print_input_param():        \n",
    "    for name, value in PARAM.items():\n",
    "        print('{} = {}'.format(name, value))\n",
    "        \n",
    "        \n",
    "def print_lblnew_param():\n",
    "    for name, value in sorted(PARAM_LBLNEW.items()):\n",
    "        print('{} = {}'.format(name, value))\n"
   ]
  },
  {
   "cell_type": "code",
   "execution_count": 11,
   "metadata": {
    "collapsed": true,
    "scrolled": false
   },
   "outputs": [],
   "source": [
    "def show_html(s):\n",
    "    display.display(display.HTML(s))\n",
    "\n",
    "    \n",
    "def show_markdown(s):\n",
    "    display.display(display.Markdown(s))\n",
    "\n",
    "    \n",
    "def script():\n",
    "    \n",
    "    title = '### CLIRAD-LW'\n",
    "    s_input = 'Input Parameters'\n",
    "    s_lblnew_param = 'LBLNEW case compaired against'\n",
    "    s_bestfits = 'Best-fit Parameters'\n",
    "    s_plt_cooling = 'Cooling Rate Profiles'\n",
    "    s_tb_flux = 'Flux Comparison'\n",
    "    \n",
    "    # title\n",
    "    show_markdown('### CLIRAD-LW')\n",
    "    \n",
    "    # TOC\n",
    "    show_markdown('### Table of Contents')\n",
    "    show_html(climahtml.getHTML_hrefanchor(s_input))\n",
    "    show_html(climahtml.getHTML_hrefanchor(s_lblnew_param))\n",
    "    show_html(climahtml.getHTML_hrefanchor(s_plt_cooling))\n",
    "    show_html(climahtml.getHTML_hrefanchor(s_tb_flux))\n",
    "    show_html(climahtml.getHTML_hrefanchor(s_bestfits))\n",
    "    \n",
    "    # Input parameters\n",
    "    show_html(climahtml.getHTML_idanchor(s_input))\n",
    "    show_markdown(climahtml.getMarkdown_sectitle(s_input))\n",
    "    print_input_param()\n",
    "    \n",
    "    # LBLNEW parameters \n",
    "    show_html(climahtml.getHTML_idanchor(s_lblnew_param))\n",
    "    show_markdown(climahtml.getMarkdown_sectitle(s_lblnew_param))\n",
    "    print_lblnew_param()\n",
    "    \n",
    "    # Cooling rate profiles\n",
    "    show_html(climahtml.getHTML_idanchor(s_plt_cooling))\n",
    "    show_markdown(climahtml.getMarkdown_sectitle(s_plt_cooling))\n",
    "    script_plt_cooling()\n",
    "    \n",
    "    # Flux comparison\n",
    "    show_html(climahtml.getHTML_idanchor(s_tb_flux))\n",
    "    show_markdown(climahtml.getMarkdown_sectitle(s_tb_flux))\n",
    "    script_tb_flux()\n",
    "    \n",
    "    # Best-fit values\n",
    "    show_html(climahtml.getHTML_idanchor(s_bestfits))\n",
    "    show_markdown(climahtml.getMarkdown_sectitle(s_bestfits))\n",
    "    print_bestfit_params()\n",
    "   \n",
    "    "
   ]
  },
  {
   "cell_type": "code",
   "execution_count": 12,
   "metadata": {
    "collapsed": true,
    "scrolled": false
   },
   "outputs": [
    {
     "data": {
      "text/markdown": [
       "### CLIRAD-LW"
      ],
      "text/plain": [
       "<IPython.core.display.Markdown object>"
      ]
     },
     "metadata": {},
     "output_type": "display_data"
    },
    {
     "data": {
      "text/markdown": [
       "### Table of Contents"
      ],
      "text/plain": [
       "<IPython.core.display.Markdown object>"
      ]
     },
     "metadata": {},
     "output_type": "display_data"
    },
    {
     "data": {
      "text/html": [
       "<a href=\"#Input_Parameters\">Input Parameters</a>"
      ],
      "text/plain": [
       "<IPython.core.display.HTML object>"
      ]
     },
     "metadata": {},
     "output_type": "display_data"
    },
    {
     "data": {
      "text/html": [
       "<a href=\"#LBLNEW_case_compaired_against\">LBLNEW case compaired against</a>"
      ],
      "text/plain": [
       "<IPython.core.display.HTML object>"
      ]
     },
     "metadata": {},
     "output_type": "display_data"
    },
    {
     "data": {
      "text/html": [
       "<a href=\"#Cooling_Rate_Profiles\">Cooling Rate Profiles</a>"
      ],
      "text/plain": [
       "<IPython.core.display.HTML object>"
      ]
     },
     "metadata": {},
     "output_type": "display_data"
    },
    {
     "data": {
      "text/html": [
       "<a href=\"#Flux_Comparison\">Flux Comparison</a>"
      ],
      "text/plain": [
       "<IPython.core.display.HTML object>"
      ]
     },
     "metadata": {},
     "output_type": "display_data"
    },
    {
     "data": {
      "text/html": [
       "<a href=\"#Best-fit_Parameters\">Best-fit Parameters</a>"
      ],
      "text/plain": [
       "<IPython.core.display.HTML object>"
      ]
     },
     "metadata": {},
     "output_type": "display_data"
    },
    {
     "data": {
      "text/html": [
       "<a id=\"Input_Parameters\"></a>"
      ],
      "text/plain": [
       "<IPython.core.display.HTML object>"
      ]
     },
     "metadata": {},
     "output_type": "display_data"
    },
    {
     "data": {
      "text/markdown": [
       "# Input Parameters"
      ],
      "text/plain": [
       "<IPython.core.display.Markdown object>"
      ]
     },
     "metadata": {},
     "output_type": "display_data"
    },
    {
     "name": "stdout",
     "output_type": "stream",
     "text": [
      "atmpro = trp\n",
      "band = [3]\n",
      "commitnumber = 9a64c27\n",
      "molecule = {'n2o': 3.2e-07}\n",
      "tsfc = 300\n"
     ]
    },
    {
     "data": {
      "text/html": [
       "<a id=\"LBLNEW_case_compaired_against\"></a>"
      ],
      "text/plain": [
       "<IPython.core.display.HTML object>"
      ]
     },
     "metadata": {},
     "output_type": "display_data"
    },
    {
     "data": {
      "text/markdown": [
       "# LBLNEW case compaired against"
      ],
      "text/plain": [
       "<IPython.core.display.Markdown object>"
      ]
     },
     "metadata": {},
     "output_type": "display_data"
    },
    {
     "name": "stdout",
     "output_type": "stream",
     "text": [
      "atmpro = trp\n",
      "band = 3a\n",
      "commitnumber = 2bd1f75\n",
      "conc = 3.2e-07\n",
      "dv = 0.01\n",
      "klin = 2.22e-20\n",
      "molecule = n2o\n",
      "ng_adju = [0, 0]\n",
      "ng_refs = [1, 2]\n",
      "nv = 100\n",
      "option_compute_btable = 0\n",
      "option_compute_ktable = 0\n",
      "option_wgt_flux = 1\n",
      "option_wgt_k = 1\n",
      "ref_pts = [(1, 250), (500, 250)]\n",
      "tsfc = 300\n",
      "vmax = 620\n",
      "vmin = 540\n",
      "w_diffuse = [(1.8,), (1.66, 1.8)]\n",
      "wgt = [(0.9,), (0.5, 0.95)]\n"
     ]
    },
    {
     "data": {
      "text/html": [
       "<a id=\"Cooling_Rate_Profiles\"></a>"
      ],
      "text/plain": [
       "<IPython.core.display.HTML object>"
      ]
     },
     "metadata": {},
     "output_type": "display_data"
    },
    {
     "data": {
      "text/markdown": [
       "# Cooling Rate Profiles"
      ],
      "text/plain": [
       "<IPython.core.display.Markdown object>"
      ]
     },
     "metadata": {},
     "output_type": "display_data"
    },
    {
     "data": {
      "text/html": [
       "\n",
       "<div class=\"bk-root\">\n",
       "    <div class=\"bk-plotdiv\" id=\"a9a5b97a-7e84-4bc7-b8b6-c30e4542d0f4\"></div>\n",
       "</div>"
      ]
     },
     "metadata": {},
     "output_type": "display_data"
    },
    {
     "data": {
      "application/javascript": [
       "(function(root) {\n",
       "  function embed_document(root) {\n",
       "    \n",
       "  var docs_json = {\"487fe5b0-98f8-4e64-b9f6-7bfda89008de\":{\"roots\":{\"references\":[{\"attributes\":{\"line_alpha\":0.1,\"line_color\":\"#1f77b4\",\"line_width\":1.5,\"x\":{\"field\":\"x\"},\"y\":{\"field\":\"y\"}},\"id\":\"a5bc8869-fe1f-4bd8-9d27-4bc5f444bd98\",\"type\":\"Line\"},{\"attributes\":{\"line_color\":\"#4daf4a\",\"line_width\":1.5,\"x\":{\"field\":\"x\"},\"y\":{\"field\":\"y\"}},\"id\":\"5637ed50-360a-49d6-857a-98688c4cd946\",\"type\":\"Line\"},{\"attributes\":{},\"id\":\"bf75e61a-73db-48e9-bc3b-4b6cc282b45b\",\"type\":\"BasicTicker\"},{\"attributes\":{},\"id\":\"d6fd6d55-ede8-49aa-aa5c-952da07ecb03\",\"type\":\"WheelZoomTool\"},{\"attributes\":{\"callback\":null,\"end\":0.034131018661999996,\"start\":-0.015376023862},\"id\":\"47e732b7-b526-4559-95fb-f76674d19a95\",\"type\":\"Range1d\"},{\"attributes\":{\"callback\":null,\"column_names\":[\"x\",\"y\"],\"data\":{\"x\":{\"__ndarray__\":\"VTm6OJQbUT9jfCnX83BUP1iI/OaGbls/zWaZO7ZCYT9vZBEYoddkP/t1tmZ8dmg/nCXSwzoYbD8gdaGU9cRvP+gOKeGltnE/szqIiUWNcz+ePbncV1t1P399xp8OBnc/Tzya/Ky4eD81/2+xCcV6PzGl1PI6k4E/4/MbCsV0ij988JPQgdiSP1oLSewu3pg/y7RbnSxNnz/Ix39lyxCjP0ATEHzUq6Y/5YWuI5IRqj8Vep/Yeu6qP0+fAxxZMak/8hQHCpuFpj8TSLmW8TijP/hEwurUBKA/B06cLTdQmj9QwqWTB0qVP604BZSu4pA/8yAuGuHWiT/5OjnbjVKCPxzVxuiioHU/LzriEvz9Vj+4ZEXrKTRvv1pRdj8WvoS/FHu+H+Tgjb+xaof0GDuOvyVUZgbOcom/ahoeP3cphb8dSLngNTSBvyRnS9jq8nq/QPW6RoXRc7+0wYpWHPVpvzaly8qOh1m/995/z5bZqz6261CXjdFYP+VyViCHfGg/j36Nwjsicj9S/2L3EuN3PxEV+eFfhX0/bfnlaN6FgT9pWiKTrDyEP3RrmsMq6IY/YcU3gdqJiT+vuEKcqiKMP9g4IcjPs44/1ZBixxmfkD/gXTGayt+RPwUWDCPHGpM/gC32MftJlD/Xn2ku3F6VP4GIzfqmRpY/S6h2DOP8lj/7ZfibxZWXP6nzfXhjL5g/hGmF2lDgmD87TT70366ZP+IBNRqYk5o/Xi3pu2qEmz+fZ2CiSXucP6zD7arpdZ0/aaE58g1znj/REX9odHSfPwxLWvbGPqA/\",\"dtype\":\"float64\",\"shape\":[75]},\"y\":{\"__ndarray__\":\"GhExyth1ND/Sv8nbtpRIP2vylNV0PVE/aTum7souWD/At0SJ8fVgPw3Iuahxymc/MSNhhJWvcD/bTfBN02d3P2zb5nxnaoA/CD5h5MAGhz8NmeH1TyaQP+zrCsc9p5Y/LbKd76fGnz/bLW5ISEmmPww9YvTcQq8/JV2OstnstT8Er5Y7M8G+P0c+r3jqkcU/5h99k6ZBzj88bCIzFzjVP4enV8oyxN0//yH99nXg5D8qOpLLf0jtP5kqGJXUifQ/c9cS8kHP/D+/DpwzojQEQIEmwoanVwxA4lgXt9HgE0BSSZ2AJuIbQAMJih9jjiNA5q4l5INuK0AwTKYKRj0zQNv5fmq8/DpAaCJseHrtQkB/+zpwzoxKQM3MzMzMeFJAZmZmZmZqWEAAAAAAAFxeQM3MzMzMJmJAmpmZmZkfZUBmZmZmZhhoQDMzMzMzEWtAAAAAAAAKbkBmZmZmZoFwQM3MzMzM/XFAMzMzMzN6c0CamZmZmfZ0QAAAAAAAc3ZAZmZmZmbvd0DNzMzMzGt5QDMzMzMz6HpAmpmZmZlkfEAAAAAAAOF9QGZmZmZmXX9AZmZmZuZsgECamZmZGSuBQM3MzMxM6YFAAAAAAICngkAzMzMzs2WDQGZmZmbmI4RAmpmZmRnihEDNzMzMTKCFQAAAAACAXoZAMzMzM7Mch0BmZmZm5tqHQJqZmZkZmYhAzczMzExXiUAAAAAAgBWKQDMzMzOz04pAZmZmZuaRi0CamZmZGVCMQM3MzMxMDo1AAAAAAIDMjUAzMzMzs4qOQGZmZmbmSI9A\",\"dtype\":\"float64\",\"shape\":[75]}}},\"id\":\"9610ad4f-d722-40e5-89c0-ea70969a711a\",\"type\":\"ColumnDataSource\"},{\"attributes\":{\"active_drag\":\"auto\",\"active_inspect\":\"auto\",\"active_scroll\":\"auto\",\"active_tap\":\"auto\",\"tools\":[{\"id\":\"4875c795-fba5-4b69-bc05-d7851f66c4a5\",\"type\":\"PanTool\"},{\"id\":\"d6fd6d55-ede8-49aa-aa5c-952da07ecb03\",\"type\":\"WheelZoomTool\"},{\"id\":\"c0482ee9-0333-4fad-9622-33923fcade09\",\"type\":\"BoxZoomTool\"},{\"id\":\"d328c46f-8747-4a32-8e94-4990cc08beb3\",\"type\":\"SaveTool\"},{\"id\":\"70ad4877-ec1c-4ab7-8756-e09f9ad01f43\",\"type\":\"ResetTool\"},{\"id\":\"3f40e533-c5eb-483c-ada9-3b827ed11067\",\"type\":\"HelpTool\"}]},\"id\":\"e6f4e936-2f70-41ab-8d83-d95d49f8b61f\",\"type\":\"Toolbar\"},{\"attributes\":{\"callback\":null,\"column_names\":[\"x\",\"y\"],\"data\":{\"x\":{\"__ndarray__\":\"gcrmmYJDdz+idBjfMAZ4P+NbK9VWk3k/iRTKGW0pez84OlpZBcN8PwSNAe/9X34/xbGgUSMAgD9Tf96+C9KAP5kQ0UWdpYE/RxWkzuB6gj/21vr1kVGDP2CdoGs2KoQ/TV1O2+wEhT+2jZ6sVh6GP6fyk9TFEoo/hf3CGdkmkT+3okmeGFWWP/tVKPEj+Zs/pMBKMGYGoT8QA6X1szCkP07IYHkxnqc/wEkPljzdqj+g4p/ER+CrP1vOyR92iqo/zF9OnLhIqD88FRnAolSlP9m2pYk1RaI/cYeb+s6Rnj8Uo6SiMMyYP/iXjHiiQJM/QnVbBAPpiz9d7jXaytqBP1VvyQV5inA/6PePSIX4Or+Itgls7sB2v/NJnI2E2oa/qRA7Dl17jr8/Vsel/n6Ov6FqhYQHCIq/sg2J8PDUhb+z+snlduCBv17kSq9gKny/jcR5sLSwdL/SELm8Tf5qv6q41MtBAFq/FncmdduKCT/YM1fbllFbP85W7DratWo/hr1d6niwcz8qu6lN/MN5P6cgnJOv4X8/Gt0gaSrtgj9iZj2sBdGFPwaTIoqBrIg/o2OTrGaFiz9QNgz3tkaOP2h/5kP+f5A/7xIpyVLdkT+60v6ERCyTP39O3AkxeZQ/VwtCMkq7lT/WOsXvzNmWP1oRxupu2Zc/8g1dvumlmD9a75eVvVOZP/8JfC5kCJo/uzw0bM/Fmj9LZ/i30aWbP9FoZ+OMkpw/hKP0JYyInT9Hc/dIaYeeP/Achur4fJ8/j04KaOM+oD/2+NXF+rmgP4LKDNwAOqE/\",\"dtype\":\"float64\",\"shape\":[75]},\"y\":{\"__ndarray__\":\"GhExyth1ND/Sv8nbtpRIP2vylNV0PVE/aTum7souWD/At0SJ8fVgPw3Iuahxymc/MSNhhJWvcD/bTfBN02d3P2zb5nxnaoA/CD5h5MAGhz8NmeH1TyaQP+zrCsc9p5Y/LbKd76fGnz/bLW5ISEmmPww9YvTcQq8/JV2OstnstT8Er5Y7M8G+P0c+r3jqkcU/5h99k6ZBzj88bCIzFzjVP4enV8oyxN0//yH99nXg5D8qOpLLf0jtP5kqGJXUifQ/c9cS8kHP/D+/DpwzojQEQIEmwoanVwxA4lgXt9HgE0BSSZ2AJuIbQAMJih9jjiNA5q4l5INuK0AwTKYKRj0zQNv5fmq8/DpAaCJseHrtQkB/+zpwzoxKQM3MzMzMeFJAZmZmZmZqWEAAAAAAAFxeQM3MzMzMJmJAmpmZmZkfZUBmZmZmZhhoQDMzMzMzEWtAAAAAAAAKbkBmZmZmZoFwQM3MzMzM/XFAMzMzMzN6c0CamZmZmfZ0QAAAAAAAc3ZAZmZmZmbvd0DNzMzMzGt5QDMzMzMz6HpAmpmZmZlkfEAAAAAAAOF9QGZmZmZmXX9AZmZmZuZsgECamZmZGSuBQM3MzMxM6YFAAAAAAICngkAzMzMzs2WDQGZmZmbmI4RAmpmZmRnihEDNzMzMTKCFQAAAAACAXoZAMzMzM7Mch0BmZmZm5tqHQJqZmZkZmYhAzczMzExXiUAAAAAAgBWKQDMzMzOz04pAZmZmZuaRi0CamZmZGVCMQM3MzMxMDo1AAAAAAIDMjUAzMzMzs4qOQGZmZmbmSI9A\",\"dtype\":\"float64\",\"shape\":[75]}}},\"id\":\"a6f40a4f-1e89-450c-872c-c98cd1167e0e\",\"type\":\"ColumnDataSource\"},{\"attributes\":{\"dimension\":1,\"plot\":{\"id\":\"d9fff0a8-931a-409c-a1ed-203649a21a11\",\"subtype\":\"Figure\",\"type\":\"Plot\"},\"ticker\":{\"id\":\"bf75e61a-73db-48e9-bc3b-4b6cc282b45b\",\"type\":\"BasicTicker\"}},\"id\":\"21000008-970e-4974-bae0-be5b04cfe5f6\",\"type\":\"Grid\"},{\"attributes\":{\"below\":[{\"id\":\"c9936ec6-e872-4cee-a955-a793b9d7ab1e\",\"type\":\"LinearAxis\"}],\"left\":[{\"id\":\"328314c5-a8f0-487e-bb68-b84546f467b5\",\"type\":\"LinearAxis\"}],\"plot_height\":500,\"plot_width\":400,\"renderers\":[{\"id\":\"c9936ec6-e872-4cee-a955-a793b9d7ab1e\",\"type\":\"LinearAxis\"},{\"id\":\"aea8c790-c77a-4faa-8b9e-0714ff1f551c\",\"type\":\"Grid\"},{\"id\":\"328314c5-a8f0-487e-bb68-b84546f467b5\",\"type\":\"LinearAxis\"},{\"id\":\"21000008-970e-4974-bae0-be5b04cfe5f6\",\"type\":\"Grid\"},{\"id\":\"498c1cde-6c0d-47af-b62a-ca7f1fab80f8\",\"type\":\"BoxAnnotation\"},{\"id\":\"81f1607e-1cb0-4d9f-8ea5-7c11eb817da3\",\"type\":\"GlyphRenderer\"},{\"id\":\"f22eb40b-2bb3-4604-b892-167f77d44a9f\",\"type\":\"GlyphRenderer\"},{\"id\":\"bc03efc9-a2b3-48a5-8e7c-3e8eb89d2e5c\",\"type\":\"GlyphRenderer\"},{\"id\":\"f639d91e-e97d-4dc4-8431-988736e4e084\",\"type\":\"GlyphRenderer\"},{\"id\":\"277da9cd-2a06-4c69-8a91-bf7fb533d1d2\",\"type\":\"GlyphRenderer\"}],\"title\":{\"id\":\"b2d9c4f4-e6bc-4d84-afe0-246f626865f6\",\"type\":\"Title\"},\"toolbar\":{\"id\":\"e6f4e936-2f70-41ab-8d83-d95d49f8b61f\",\"type\":\"Toolbar\"},\"toolbar_location\":null,\"x_range\":{\"id\":\"47e732b7-b526-4559-95fb-f76674d19a95\",\"type\":\"Range1d\"},\"x_scale\":{\"id\":\"0095c828-94f3-42ab-b80f-6c4f8a164b60\",\"type\":\"LinearScale\"},\"y_range\":{\"id\":\"691cede4-6e6d-4fa3-947c-61b57c6ac606\",\"type\":\"Range1d\"},\"y_scale\":{\"id\":\"94560263-0d26-4267-99d9-058054295d69\",\"type\":\"LinearScale\"}},\"id\":\"d9fff0a8-931a-409c-a1ed-203649a21a11\",\"subtype\":\"Figure\",\"type\":\"Plot\"},{\"attributes\":{\"data_source\":{\"id\":\"33563bfa-dca1-4df9-99bc-98d34ee47208\",\"type\":\"ColumnDataSource\"},\"glyph\":{\"id\":\"f1653213-e9dc-42a4-9efa-6e7a9d666dd1\",\"type\":\"Line\"},\"hover_glyph\":null,\"muted_glyph\":null,\"nonselection_glyph\":{\"id\":\"241c657b-022d-41cc-b582-1899dda49cd8\",\"type\":\"Line\"},\"selection_glyph\":null,\"view\":{\"id\":\"5042c2b4-9071-463b-a809-8cf0e6e367f7\",\"type\":\"CDSView\"}},\"id\":\"81f1607e-1cb0-4d9f-8ea5-7c11eb817da3\",\"type\":\"GlyphRenderer\"},{\"attributes\":{\"fill_alpha\":{\"value\":0.1},\"fill_color\":{\"value\":\"#1f77b4\"},\"line_alpha\":{\"value\":0.1},\"line_color\":{\"value\":\"#1f77b4\"},\"x\":{\"field\":\"x\"},\"y\":{\"field\":\"y\"}},\"id\":\"8b6aa61b-42dc-496d-a2e9-6b9efbe29084\",\"type\":\"Square\"},{\"attributes\":{},\"id\":\"d328c46f-8747-4a32-8e94-4990cc08beb3\",\"type\":\"SaveTool\"},{\"attributes\":{},\"id\":\"d8f87473-c6e9-4672-bbad-76f58bd36f2c\",\"type\":\"BasicTicker\"},{\"attributes\":{\"plot\":{\"id\":\"d9fff0a8-931a-409c-a1ed-203649a21a11\",\"subtype\":\"Figure\",\"type\":\"Plot\"},\"ticker\":{\"id\":\"d8f87473-c6e9-4672-bbad-76f58bd36f2c\",\"type\":\"BasicTicker\"}},\"id\":\"aea8c790-c77a-4faa-8b9e-0714ff1f551c\",\"type\":\"Grid\"},{\"attributes\":{\"axis_label\":\"pressure [mb]\",\"formatter\":{\"id\":\"6d27dc76-11c4-464b-9777-830e7002ffc7\",\"type\":\"BasicTickFormatter\"},\"plot\":{\"id\":\"d9fff0a8-931a-409c-a1ed-203649a21a11\",\"subtype\":\"Figure\",\"type\":\"Plot\"},\"ticker\":{\"id\":\"bf75e61a-73db-48e9-bc3b-4b6cc282b45b\",\"type\":\"BasicTicker\"}},\"id\":\"328314c5-a8f0-487e-bb68-b84546f467b5\",\"type\":\"LinearAxis\"},{\"attributes\":{\"data_source\":{\"id\":\"a6f40a4f-1e89-450c-872c-c98cd1167e0e\",\"type\":\"ColumnDataSource\"},\"glyph\":{\"id\":\"bba6a94e-7347-4c76-b18c-94bb8f0374ee\",\"type\":\"Square\"},\"hover_glyph\":null,\"muted_glyph\":null,\"nonselection_glyph\":{\"id\":\"8b6aa61b-42dc-496d-a2e9-6b9efbe29084\",\"type\":\"Square\"},\"selection_glyph\":null,\"view\":{\"id\":\"092a6e88-ce9f-4f19-bc95-fdad65e8ef2b\",\"type\":\"CDSView\"}},\"id\":\"f639d91e-e97d-4dc4-8431-988736e4e084\",\"type\":\"GlyphRenderer\"},{\"attributes\":{\"data_source\":{\"id\":\"3e6b308d-1600-49fb-bb86-c67dd72bbd5b\",\"type\":\"ColumnDataSource\"},\"glyph\":{\"id\":\"ce24ae89-5206-4bc1-bf20-73b69fea9abe\",\"type\":\"Circle\"},\"hover_glyph\":null,\"muted_glyph\":null,\"nonselection_glyph\":{\"id\":\"68f19951-7386-415a-91b3-b238a3498d7c\",\"type\":\"Circle\"},\"selection_glyph\":null,\"view\":{\"id\":\"eb8c7ded-c5dc-40e4-adba-7599d9e92461\",\"type\":\"CDSView\"}},\"id\":\"f22eb40b-2bb3-4604-b892-167f77d44a9f\",\"type\":\"GlyphRenderer\"},{\"attributes\":{\"data_source\":{\"id\":\"b663afcf-6669-45b5-b459-be0fa6e1baf0\",\"type\":\"ColumnDataSource\"},\"glyph\":{\"id\":\"6c6e2ea3-3bd1-44b5-a91e-9a14273cdf75\",\"type\":\"Line\"},\"hover_glyph\":null,\"muted_glyph\":null,\"nonselection_glyph\":{\"id\":\"ff060255-f1c5-4362-bcdb-d81b419b15b6\",\"type\":\"Line\"},\"selection_glyph\":null,\"view\":{\"id\":\"ef52b718-b9c5-4aba-a08a-ec8a1587c112\",\"type\":\"CDSView\"}},\"id\":\"277da9cd-2a06-4c69-8a91-bf7fb533d1d2\",\"type\":\"GlyphRenderer\"},{\"attributes\":{\"callback\":null,\"column_names\":[\"x\",\"y\"],\"data\":{\"x\":{\"__ndarray__\":\"VTm6OJQbUT9jfCnX83BUP1iI/OaGbls/zWaZO7ZCYT9vZBEYoddkP/t1tmZ8dmg/nCXSwzoYbD8gdaGU9cRvP+gOKeGltnE/szqIiUWNcz+ePbncV1t1P399xp8OBnc/Tzya/Ky4eD81/2+xCcV6PzGl1PI6k4E/4/MbCsV0ij988JPQgdiSP1oLSewu3pg/y7RbnSxNnz/Ix39lyxCjP0ATEHzUq6Y/5YWuI5IRqj8Vep/Yeu6qP0+fAxxZMak/8hQHCpuFpj8TSLmW8TijP/hEwurUBKA/B06cLTdQmj9QwqWTB0qVP604BZSu4pA/8yAuGuHWiT/5OjnbjVKCPxzVxuiioHU/LzriEvz9Vj+4ZEXrKTRvv1pRdj8WvoS/FHu+H+Tgjb+xaof0GDuOvyVUZgbOcom/ahoeP3cphb8dSLngNTSBvyRnS9jq8nq/QPW6RoXRc7+0wYpWHPVpvzaly8qOh1m/995/z5bZqz6261CXjdFYP+VyViCHfGg/j36Nwjsicj9S/2L3EuN3PxEV+eFfhX0/bfnlaN6FgT9pWiKTrDyEP3RrmsMq6IY/YcU3gdqJiT+vuEKcqiKMP9g4IcjPs44/1ZBixxmfkD/gXTGayt+RPwUWDCPHGpM/gC32MftJlD/Xn2ku3F6VP4GIzfqmRpY/S6h2DOP8lj/7ZfibxZWXP6nzfXhjL5g/hGmF2lDgmD87TT70366ZP+IBNRqYk5o/Xi3pu2qEmz+fZ2CiSXucP6zD7arpdZ0/aaE58g1znj/REX9odHSfPwxLWvbGPqA/\",\"dtype\":\"float64\",\"shape\":[75]},\"y\":{\"__ndarray__\":\"GhExyth1ND/Sv8nbtpRIP2vylNV0PVE/aTum7souWD/At0SJ8fVgPw3Iuahxymc/MSNhhJWvcD/bTfBN02d3P2zb5nxnaoA/CD5h5MAGhz8NmeH1TyaQP+zrCsc9p5Y/LbKd76fGnz/bLW5ISEmmPww9YvTcQq8/JV2OstnstT8Er5Y7M8G+P0c+r3jqkcU/5h99k6ZBzj88bCIzFzjVP4enV8oyxN0//yH99nXg5D8qOpLLf0jtP5kqGJXUifQ/c9cS8kHP/D+/DpwzojQEQIEmwoanVwxA4lgXt9HgE0BSSZ2AJuIbQAMJih9jjiNA5q4l5INuK0AwTKYKRj0zQNv5fmq8/DpAaCJseHrtQkB/+zpwzoxKQM3MzMzMeFJAZmZmZmZqWEAAAAAAAFxeQM3MzMzMJmJAmpmZmZkfZUBmZmZmZhhoQDMzMzMzEWtAAAAAAAAKbkBmZmZmZoFwQM3MzMzM/XFAMzMzMzN6c0CamZmZmfZ0QAAAAAAAc3ZAZmZmZmbvd0DNzMzMzGt5QDMzMzMz6HpAmpmZmZlkfEAAAAAAAOF9QGZmZmZmXX9AZmZmZuZsgECamZmZGSuBQM3MzMxM6YFAAAAAAICngkAzMzMzs2WDQGZmZmbmI4RAmpmZmRnihEDNzMzMTKCFQAAAAACAXoZAMzMzM7Mch0BmZmZm5tqHQJqZmZkZmYhAzczMzExXiUAAAAAAgBWKQDMzMzOz04pAZmZmZuaRi0CamZmZGVCMQM3MzMxMDo1AAAAAAIDMjUAzMzMzs4qOQGZmZmbmSI9A\",\"dtype\":\"float64\",\"shape\":[75]}}},\"id\":\"3e6b308d-1600-49fb-bb86-c67dd72bbd5b\",\"type\":\"ColumnDataSource\"},{\"attributes\":{\"source\":{\"id\":\"b663afcf-6669-45b5-b459-be0fa6e1baf0\",\"type\":\"ColumnDataSource\"}},\"id\":\"ef52b718-b9c5-4aba-a08a-ec8a1587c112\",\"type\":\"CDSView\"},{\"attributes\":{\"callback\":null,\"column_names\":[\"x\",\"y\"],\"data\":{\"x\":{\"__ndarray__\":\"gcrmmYJDdz+idBjfMAZ4P+NbK9VWk3k/iRTKGW0pez84OlpZBcN8PwSNAe/9X34/xbGgUSMAgD9Tf96+C9KAP5kQ0UWdpYE/RxWkzuB6gj/21vr1kVGDP2CdoGs2KoQ/TV1O2+wEhT+2jZ6sVh6GP6fyk9TFEoo/hf3CGdkmkT+3okmeGFWWP/tVKPEj+Zs/pMBKMGYGoT8QA6X1szCkP07IYHkxnqc/wEkPljzdqj+g4p/ER+CrP1vOyR92iqo/zF9OnLhIqD88FRnAolSlP9m2pYk1RaI/cYeb+s6Rnj8Uo6SiMMyYP/iXjHiiQJM/QnVbBAPpiz9d7jXaytqBP1VvyQV5inA/6PePSIX4Or+Itgls7sB2v/NJnI2E2oa/qRA7Dl17jr8/Vsel/n6Ov6FqhYQHCIq/sg2J8PDUhb+z+snlduCBv17kSq9gKny/jcR5sLSwdL/SELm8Tf5qv6q41MtBAFq/FncmdduKCT/YM1fbllFbP85W7DratWo/hr1d6niwcz8qu6lN/MN5P6cgnJOv4X8/Gt0gaSrtgj9iZj2sBdGFPwaTIoqBrIg/o2OTrGaFiz9QNgz3tkaOP2h/5kP+f5A/7xIpyVLdkT+60v6ERCyTP39O3AkxeZQ/VwtCMkq7lT/WOsXvzNmWP1oRxupu2Zc/8g1dvumlmD9a75eVvVOZP/8JfC5kCJo/uzw0bM/Fmj9LZ/i30aWbP9FoZ+OMkpw/hKP0JYyInT9Hc/dIaYeeP/Achur4fJ8/j04KaOM+oD/2+NXF+rmgP4LKDNwAOqE/\",\"dtype\":\"float64\",\"shape\":[75]},\"y\":{\"__ndarray__\":\"GhExyth1ND/Sv8nbtpRIP2vylNV0PVE/aTum7souWD/At0SJ8fVgPw3Iuahxymc/MSNhhJWvcD/bTfBN02d3P2zb5nxnaoA/CD5h5MAGhz8NmeH1TyaQP+zrCsc9p5Y/LbKd76fGnz/bLW5ISEmmPww9YvTcQq8/JV2OstnstT8Er5Y7M8G+P0c+r3jqkcU/5h99k6ZBzj88bCIzFzjVP4enV8oyxN0//yH99nXg5D8qOpLLf0jtP5kqGJXUifQ/c9cS8kHP/D+/DpwzojQEQIEmwoanVwxA4lgXt9HgE0BSSZ2AJuIbQAMJih9jjiNA5q4l5INuK0AwTKYKRj0zQNv5fmq8/DpAaCJseHrtQkB/+zpwzoxKQM3MzMzMeFJAZmZmZmZqWEAAAAAAAFxeQM3MzMzMJmJAmpmZmZkfZUBmZmZmZhhoQDMzMzMzEWtAAAAAAAAKbkBmZmZmZoFwQM3MzMzM/XFAMzMzMzN6c0CamZmZmfZ0QAAAAAAAc3ZAZmZmZmbvd0DNzMzMzGt5QDMzMzMz6HpAmpmZmZlkfEAAAAAAAOF9QGZmZmZmXX9AZmZmZuZsgECamZmZGSuBQM3MzMxM6YFAAAAAAICngkAzMzMzs2WDQGZmZmbmI4RAmpmZmRnihEDNzMzMTKCFQAAAAACAXoZAMzMzM7Mch0BmZmZm5tqHQJqZmZkZmYhAzczMzExXiUAAAAAAgBWKQDMzMzOz04pAZmZmZuaRi0CamZmZGVCMQM3MzMxMDo1AAAAAAIDMjUAzMzMzs4qOQGZmZmbmSI9A\",\"dtype\":\"float64\",\"shape\":[75]}}},\"id\":\"b663afcf-6669-45b5-b459-be0fa6e1baf0\",\"type\":\"ColumnDataSource\"},{\"attributes\":{\"callback\":null,\"end\":0.01,\"start\":1020},\"id\":\"6275410b-9688-4c45-9043-8523eeca3732\",\"type\":\"Range1d\"},{\"attributes\":{\"source\":{\"id\":\"9610ad4f-d722-40e5-89c0-ea70969a711a\",\"type\":\"ColumnDataSource\"}},\"id\":\"d367b139-a395-4912-b190-7b724d71b31b\",\"type\":\"CDSView\"},{\"attributes\":{},\"id\":\"70ad4877-ec1c-4ab7-8756-e09f9ad01f43\",\"type\":\"ResetTool\"},{\"attributes\":{},\"id\":\"4875c795-fba5-4b69-bc05-d7851f66c4a5\",\"type\":\"PanTool\"},{\"attributes\":{\"callback\":null,\"end\":0.01,\"start\":1020},\"id\":\"691cede4-6e6d-4fa3-947c-61b57c6ac606\",\"type\":\"Range1d\"},{\"attributes\":{},\"id\":\"3f40e533-c5eb-483c-ada9-3b827ed11067\",\"type\":\"HelpTool\"},{\"attributes\":{\"source\":{\"id\":\"3e6b308d-1600-49fb-bb86-c67dd72bbd5b\",\"type\":\"ColumnDataSource\"}},\"id\":\"eb8c7ded-c5dc-40e4-adba-7599d9e92461\",\"type\":\"CDSView\"},{\"attributes\":{\"line_alpha\":0.1,\"line_color\":\"#1f77b4\",\"line_width\":3,\"x\":{\"field\":\"x\"},\"y\":{\"field\":\"y\"}},\"id\":\"ff060255-f1c5-4362-bcdb-d81b419b15b6\",\"type\":\"Line\"},{\"attributes\":{\"plot\":null,\"text\":\"Linear pressure scale\"},\"id\":\"b2d9c4f4-e6bc-4d84-afe0-246f626865f6\",\"type\":\"Title\"},{\"attributes\":{},\"id\":\"94560263-0d26-4267-99d9-058054295d69\",\"type\":\"LinearScale\"},{\"attributes\":{\"bottom_units\":\"screen\",\"fill_alpha\":{\"value\":0.5},\"fill_color\":{\"value\":\"lightgrey\"},\"left_units\":\"screen\",\"level\":\"overlay\",\"line_alpha\":{\"value\":1.0},\"line_color\":{\"value\":\"black\"},\"line_dash\":[4,4],\"line_width\":{\"value\":2},\"plot\":null,\"render_mode\":\"css\",\"right_units\":\"screen\",\"top_units\":\"screen\"},\"id\":\"498c1cde-6c0d-47af-b62a-ca7f1fab80f8\",\"type\":\"BoxAnnotation\"},{\"attributes\":{\"overlay\":{\"id\":\"498c1cde-6c0d-47af-b62a-ca7f1fab80f8\",\"type\":\"BoxAnnotation\"}},\"id\":\"c0482ee9-0333-4fad-9622-33923fcade09\",\"type\":\"BoxZoomTool\"},{\"attributes\":{\"fill_alpha\":{\"value\":0.1},\"fill_color\":{\"value\":\"#1f77b4\"},\"line_alpha\":{\"value\":0.1},\"line_color\":{\"value\":\"#1f77b4\"},\"x\":{\"field\":\"x\"},\"y\":{\"field\":\"y\"}},\"id\":\"68f19951-7386-415a-91b3-b238a3498d7c\",\"type\":\"Circle\"},{\"attributes\":{\"source\":{\"id\":\"a6f40a4f-1e89-450c-872c-c98cd1167e0e\",\"type\":\"ColumnDataSource\"}},\"id\":\"092a6e88-ce9f-4f19-bc95-fdad65e8ef2b\",\"type\":\"CDSView\"},{\"attributes\":{\"overlay\":{\"id\":\"75231a59-d8b4-45f9-96c6-bd614eed0e1f\",\"type\":\"BoxAnnotation\"}},\"id\":\"2caaf4b8-6c97-472f-9364-1a046ea1d732\",\"type\":\"BoxZoomTool\"},{\"attributes\":{\"fill_alpha\":{\"value\":0.7},\"fill_color\":{\"value\":\"#984ea3\"},\"line_alpha\":{\"value\":0.7},\"line_color\":{\"value\":\"#984ea3\"},\"x\":{\"field\":\"x\"},\"y\":{\"field\":\"y\"}},\"id\":\"bba6a94e-7347-4c76-b18c-94bb8f0374ee\",\"type\":\"Square\"},{\"attributes\":{\"axis_label\":\"cooling rate [K/day]\",\"formatter\":{\"id\":\"52446a1f-d0bb-4601-9da9-99d1a81b92e6\",\"type\":\"BasicTickFormatter\"},\"plot\":{\"id\":\"d9fff0a8-931a-409c-a1ed-203649a21a11\",\"subtype\":\"Figure\",\"type\":\"Plot\"},\"ticker\":{\"id\":\"d8f87473-c6e9-4672-bbad-76f58bd36f2c\",\"type\":\"BasicTicker\"}},\"id\":\"c9936ec6-e872-4cee-a955-a793b9d7ab1e\",\"type\":\"LinearAxis\"},{\"attributes\":{\"callback\":null,\"column_names\":[\"x\",\"y\"],\"data\":{\"x\":{\"__ndarray__\":\"AAAAAAAAAAAAAAAAAAAAAE5SXgAhX7c/eLsF4tqosD8AAAAAAAAAAAAAAAAAAAAAAAAAAAAAAADLAWebrjaRPwAAAAAAAAAAHtNCYUp/gT8eZuYEmPKIP5HtuaJNO5Y/d59WHtMEgz8Wg+0CCh57PxdkpSvTjYY/YRlGOjYUkD/YG7fDH3iUP3qTCiPwmZw/x7v44lgFoD8wNcO/aIyiP4Ls7X1H4KU/azwB4ugJqT9LlGxena+pP8gZrgFWtqg/YBNnf3/Opj9rMVxDxxOkP8QDeV9dYaE/YGZeYrp9nT93uWIoIiGYP+fp/t9ICJM/vAiplATMiz92tZKeLdWBP4BNEp5bJ3A/bmja/T3eRb+sAiT/tBZ4vy1rNQAoOoe/uFuhLqNvjr90YVPQtXuOvxSF2pL8WIq/x0igCHxahr+z2c3fD36Cv0Pg1ACPc32/UHse4Ogqdr+lYjje6iduv2bk4l5PKmC/UoOvPd4ZNr9PMqjky+xUP1C0sSWybmc/Tr9rXx78cT/ihQ0D2C94P/wE7WFxMH4/SQSEAY0Tgj9dV8SXJviEP2Tz0d/U0oc/CD0kR/2fij9TxTtdaVuNP0+KhCbxCJA/FY8CebNckT/iv18d3quSPxrXQyTY8pM/tE6Pf/wrlT+O9lRbpUyWP74QwyX/R5c/b5RzZBAYmD/n7vb99M+YPzImpAXNhpk/ZxB12KpImj8Fj6mapCKbP0/0vsY1C5w/D7V8QzL7nD80tp3XVO2dP85L3GIy4J4/zab4/z7Rnz/QOapgdWCgP9xPmMBF2KA/\",\"dtype\":\"float64\",\"shape\":[75]},\"y\":{\"__ndarray__\":\"S/O/Q+51ND/430zAtpRIP2vylNV0PVE/QxsjCssuWD/TR4Z78fVgP+inNsRxymc/OuuBfZWvcD/u3TFA02d3P2d3VoBnaoA/CD5h5MAGhz/1pA8HUCaQP+zrCsc9p5Y/Fb7LAKjGnz/nJ9c/SEmmPwBD+fzcQq8/FOZwv9nstT8Er5Y7M8G+P0c+r3jqkcU/yK72qKZBzj+tM989FzjVPxbgmr8yxN0/cOm5AXbg5D+5ctXAf0jtP5kqGJXUifQ/DsrqDELP/D8MCAhBojQEQDItVnmnVwxAiFXNvdHgE0BSSZ2AJuIbQAMJih9jjiNA5q4l5INuK0CPVN/5RT0zQHzxRXu8/DpAOZ7PgHrtQkAg8wGBzoxKQBSTN8DMeFJA2NmQf2ZqWEAAAAAAAFxeQEQX1LfMJmJAmpmZmZkfZUBmZmZmZhhoQLzoK0gzEWtAAAAAAAAKbkCiC+pbZoFwQAhyUMLM/XFA+I2vPTN6c0AQ5KCEmfZ0QAAAAAAAc3ZA8Btfe2bvd0AIclDCzGt5QPeNrz0z6HpAEOSghJlkfEAAAAAAAOF9QKML6ltmXX9ABTkoYeZsgED7xteeGSuBQAhyUMJM6YFAAAAAAICngkD4ja89s2WDQAU5KGHmI4RA+8bXnhnihEAIclDCTKCFQAAAAACAXoZA+I2vPbMch0AFOShh5tqHQPvG154ZmYhACHJQwkxXiUAAAAAAgBWKQPeNrz2z04pABTkoYeaRi0D7xteeGVCMQAlyUMJMDo1AAAAAAIDMjUD3ja89s4qOQGZmZmbmSI9A\",\"dtype\":\"float64\",\"shape\":[75]}}},\"id\":\"33563bfa-dca1-4df9-99bc-98d34ee47208\",\"type\":\"ColumnDataSource\"},{\"attributes\":{\"line_alpha\":0.6,\"line_color\":\"#984ea3\",\"line_width\":3,\"x\":{\"field\":\"x\"},\"y\":{\"field\":\"y\"}},\"id\":\"6c6e2ea3-3bd1-44b5-a91e-9a14273cdf75\",\"type\":\"Line\"},{\"attributes\":{},\"id\":\"0095c828-94f3-42ab-b80f-6c4f8a164b60\",\"type\":\"LinearScale\"},{\"attributes\":{\"data_source\":{\"id\":\"9610ad4f-d722-40e5-89c0-ea70969a711a\",\"type\":\"ColumnDataSource\"},\"glyph\":{\"id\":\"5637ed50-360a-49d6-857a-98688c4cd946\",\"type\":\"Line\"},\"hover_glyph\":null,\"muted_glyph\":null,\"nonselection_glyph\":{\"id\":\"a5bc8869-fe1f-4bd8-9d27-4bc5f444bd98\",\"type\":\"Line\"},\"selection_glyph\":null,\"view\":{\"id\":\"d367b139-a395-4912-b190-7b724d71b31b\",\"type\":\"CDSView\"}},\"id\":\"bc03efc9-a2b3-48a5-8e7c-3e8eb89d2e5c\",\"type\":\"GlyphRenderer\"},{\"attributes\":{},\"id\":\"47ba5a94-59e2-4f5b-a584-022798786b26\",\"type\":\"SaveTool\"},{\"attributes\":{\"below\":[{\"id\":\"8c7c572c-be21-4049-9994-e3a617f17fad\",\"type\":\"LinearAxis\"}],\"left\":[{\"id\":\"c3a8f7d9-929d-49f0-b46c-ca5a5bea7d9c\",\"type\":\"LogAxis\"}],\"plot_height\":500,\"plot_width\":560,\"renderers\":[{\"id\":\"8c7c572c-be21-4049-9994-e3a617f17fad\",\"type\":\"LinearAxis\"},{\"id\":\"76ee4b5f-cce4-480f-892b-b083dd70b4d6\",\"type\":\"Grid\"},{\"id\":\"c3a8f7d9-929d-49f0-b46c-ca5a5bea7d9c\",\"type\":\"LogAxis\"},{\"id\":\"24b6ac9a-4463-4594-9ab9-77bccedb0cc9\",\"type\":\"Grid\"},{\"id\":\"75231a59-d8b4-45f9-96c6-bd614eed0e1f\",\"type\":\"BoxAnnotation\"},{\"id\":\"a2b5b3d3-73cb-4bb9-9800-f036596dfa4d\",\"type\":\"GlyphRenderer\"},{\"id\":\"90a344e3-2705-411f-8525-2ce0415af424\",\"type\":\"GlyphRenderer\"},{\"id\":\"ae66c433-b584-43bc-9d94-efb3e5964b3b\",\"type\":\"GlyphRenderer\"},{\"id\":\"8887f531-bc0e-441c-a2f7-610833bd4b7b\",\"type\":\"GlyphRenderer\"},{\"id\":\"476f29cd-45cd-44e3-af2f-ee42a1b15389\",\"type\":\"GlyphRenderer\"},{\"id\":\"c5e955c7-c36e-446d-8259-30c1dbe508d6\",\"type\":\"Legend\"}],\"right\":[{\"id\":\"c5e955c7-c36e-446d-8259-30c1dbe508d6\",\"type\":\"Legend\"}],\"title\":{\"id\":\"dadfbd14-15d7-4525-a326-c2289856971f\",\"type\":\"Title\"},\"toolbar\":{\"id\":\"e07de3a9-7063-46aa-a185-be87fa551cd4\",\"type\":\"Toolbar\"},\"toolbar_location\":null,\"x_range\":{\"id\":\"66327884-52b4-42ef-ac10-cc41d1ca6f5c\",\"type\":\"Range1d\"},\"x_scale\":{\"id\":\"840f53fa-e21f-4024-9702-cacf3717175b\",\"type\":\"LinearScale\"},\"y_range\":{\"id\":\"6275410b-9688-4c45-9043-8523eeca3732\",\"type\":\"Range1d\"},\"y_scale\":{\"id\":\"b1f0cab6-5ae5-4d49-9a8a-7d05b3d176c5\",\"type\":\"LogScale\"}},\"id\":\"4389ae49-3037-451c-9231-65757b195089\",\"subtype\":\"Figure\",\"type\":\"Plot\"},{\"attributes\":{\"active_drag\":\"auto\",\"active_inspect\":\"auto\",\"active_scroll\":\"auto\",\"active_tap\":\"auto\",\"tools\":[{\"id\":\"078df922-8c46-4d13-9800-3c788a5a8070\",\"type\":\"PanTool\"},{\"id\":\"df7d3a72-2247-4702-a728-90d6ef9ebad6\",\"type\":\"WheelZoomTool\"},{\"id\":\"2caaf4b8-6c97-472f-9364-1a046ea1d732\",\"type\":\"BoxZoomTool\"},{\"id\":\"47ba5a94-59e2-4f5b-a584-022798786b26\",\"type\":\"SaveTool\"},{\"id\":\"4d5140e1-d146-43b3-bddc-96492fec3c23\",\"type\":\"ResetTool\"},{\"id\":\"7745de49-a00b-4500-ac13-121b6d016344\",\"type\":\"HelpTool\"}]},\"id\":\"e07de3a9-7063-46aa-a185-be87fa551cd4\",\"type\":\"Toolbar\"},{\"attributes\":{\"fill_alpha\":{\"value\":0.7},\"fill_color\":{\"value\":\"#4daf4a\"},\"line_alpha\":{\"value\":0.7},\"line_color\":{\"value\":\"#4daf4a\"},\"x\":{\"field\":\"x\"},\"y\":{\"field\":\"y\"}},\"id\":\"ce24ae89-5206-4bc1-bf20-73b69fea9abe\",\"type\":\"Circle\"},{\"attributes\":{\"plot\":null,\"text\":\"Log pressure scale\"},\"id\":\"dadfbd14-15d7-4525-a326-c2289856971f\",\"type\":\"Title\"},{\"attributes\":{\"ticker\":null},\"id\":\"f3e593aa-7163-4038-9b5c-ecfc2a184de7\",\"type\":\"LogTickFormatter\"},{\"attributes\":{\"label\":{\"value\":\"WGT igg=10 wgt_flux=2\"},\"renderers\":[{\"id\":\"8887f531-bc0e-441c-a2f7-610833bd4b7b\",\"type\":\"GlyphRenderer\"},{\"id\":\"476f29cd-45cd-44e3-af2f-ee42a1b15389\",\"type\":\"GlyphRenderer\"}]},\"id\":\"7cf31e75-605d-4be6-a841-61d859aa216b\",\"type\":\"LegendItem\"},{\"attributes\":{\"data_source\":{\"id\":\"1e3a42c6-c40d-4783-b552-01b9fa347848\",\"type\":\"ColumnDataSource\"},\"glyph\":{\"id\":\"e971ea33-f9e5-44a2-a53e-c8f759ab9dea\",\"type\":\"Line\"},\"hover_glyph\":null,\"muted_glyph\":null,\"nonselection_glyph\":{\"id\":\"365765b4-3a94-4ef7-a1d0-cb8dcc11fbb6\",\"type\":\"Line\"},\"selection_glyph\":null,\"view\":{\"id\":\"43a8f52c-956c-4759-a55c-1ab5489f6be8\",\"type\":\"CDSView\"}},\"id\":\"a2b5b3d3-73cb-4bb9-9800-f036596dfa4d\",\"type\":\"GlyphRenderer\"},{\"attributes\":{\"fill_alpha\":{\"value\":0.7},\"fill_color\":{\"value\":\"#4daf4a\"},\"line_alpha\":{\"value\":0.7},\"line_color\":{\"value\":\"#4daf4a\"},\"x\":{\"field\":\"x\"},\"y\":{\"field\":\"y\"}},\"id\":\"5dcd6f5e-c736-4482-a597-91032683f0a7\",\"type\":\"Circle\"},{\"attributes\":{\"callback\":null,\"column_names\":[\"x\",\"y\"],\"data\":{\"x\":{\"__ndarray__\":\"VTm6OJQbUT9jfCnX83BUP1iI/OaGbls/zWaZO7ZCYT9vZBEYoddkP/t1tmZ8dmg/nCXSwzoYbD8gdaGU9cRvP+gOKeGltnE/szqIiUWNcz+ePbncV1t1P399xp8OBnc/Tzya/Ky4eD81/2+xCcV6PzGl1PI6k4E/4/MbCsV0ij988JPQgdiSP1oLSewu3pg/y7RbnSxNnz/Ix39lyxCjP0ATEHzUq6Y/5YWuI5IRqj8Vep/Yeu6qP0+fAxxZMak/8hQHCpuFpj8TSLmW8TijP/hEwurUBKA/B06cLTdQmj9QwqWTB0qVP604BZSu4pA/8yAuGuHWiT/5OjnbjVKCPxzVxuiioHU/LzriEvz9Vj+4ZEXrKTRvv1pRdj8WvoS/FHu+H+Tgjb+xaof0GDuOvyVUZgbOcom/ahoeP3cphb8dSLngNTSBvyRnS9jq8nq/QPW6RoXRc7+0wYpWHPVpvzaly8qOh1m/995/z5bZqz6261CXjdFYP+VyViCHfGg/j36Nwjsicj9S/2L3EuN3PxEV+eFfhX0/bfnlaN6FgT9pWiKTrDyEP3RrmsMq6IY/YcU3gdqJiT+vuEKcqiKMP9g4IcjPs44/1ZBixxmfkD/gXTGayt+RPwUWDCPHGpM/gC32MftJlD/Xn2ku3F6VP4GIzfqmRpY/S6h2DOP8lj/7ZfibxZWXP6nzfXhjL5g/hGmF2lDgmD87TT70366ZP+IBNRqYk5o/Xi3pu2qEmz+fZ2CiSXucP6zD7arpdZ0/aaE58g1znj/REX9odHSfPwxLWvbGPqA/\",\"dtype\":\"float64\",\"shape\":[75]},\"y\":{\"__ndarray__\":\"GhExyth1ND/Sv8nbtpRIP2vylNV0PVE/aTum7souWD/At0SJ8fVgPw3Iuahxymc/MSNhhJWvcD/bTfBN02d3P2zb5nxnaoA/CD5h5MAGhz8NmeH1TyaQP+zrCsc9p5Y/LbKd76fGnz/bLW5ISEmmPww9YvTcQq8/JV2OstnstT8Er5Y7M8G+P0c+r3jqkcU/5h99k6ZBzj88bCIzFzjVP4enV8oyxN0//yH99nXg5D8qOpLLf0jtP5kqGJXUifQ/c9cS8kHP/D+/DpwzojQEQIEmwoanVwxA4lgXt9HgE0BSSZ2AJuIbQAMJih9jjiNA5q4l5INuK0AwTKYKRj0zQNv5fmq8/DpAaCJseHrtQkB/+zpwzoxKQM3MzMzMeFJAZmZmZmZqWEAAAAAAAFxeQM3MzMzMJmJAmpmZmZkfZUBmZmZmZhhoQDMzMzMzEWtAAAAAAAAKbkBmZmZmZoFwQM3MzMzM/XFAMzMzMzN6c0CamZmZmfZ0QAAAAAAAc3ZAZmZmZmbvd0DNzMzMzGt5QDMzMzMz6HpAmpmZmZlkfEAAAAAAAOF9QGZmZmZmXX9AZmZmZuZsgECamZmZGSuBQM3MzMxM6YFAAAAAAICngkAzMzMzs2WDQGZmZmbmI4RAmpmZmRnihEDNzMzMTKCFQAAAAACAXoZAMzMzM7Mch0BmZmZm5tqHQJqZmZkZmYhAzczMzExXiUAAAAAAgBWKQDMzMzOz04pAZmZmZuaRi0CamZmZGVCMQM3MzMxMDo1AAAAAAIDMjUAzMzMzs4qOQGZmZmbmSI9A\",\"dtype\":\"float64\",\"shape\":[75]}}},\"id\":\"8ebd0e9e-6ae5-4ef2-9e3b-b3078d131afc\",\"type\":\"ColumnDataSource\"},{\"attributes\":{\"source\":{\"id\":\"1e3a42c6-c40d-4783-b552-01b9fa347848\",\"type\":\"ColumnDataSource\"}},\"id\":\"43a8f52c-956c-4759-a55c-1ab5489f6be8\",\"type\":\"CDSView\"},{\"attributes\":{\"callback\":null,\"column_names\":[\"x\",\"y\"],\"data\":{\"x\":{\"__ndarray__\":\"gcrmmYJDdz+idBjfMAZ4P+NbK9VWk3k/iRTKGW0pez84OlpZBcN8PwSNAe/9X34/xbGgUSMAgD9Tf96+C9KAP5kQ0UWdpYE/RxWkzuB6gj/21vr1kVGDP2CdoGs2KoQ/TV1O2+wEhT+2jZ6sVh6GP6fyk9TFEoo/hf3CGdkmkT+3okmeGFWWP/tVKPEj+Zs/pMBKMGYGoT8QA6X1szCkP07IYHkxnqc/wEkPljzdqj+g4p/ER+CrP1vOyR92iqo/zF9OnLhIqD88FRnAolSlP9m2pYk1RaI/cYeb+s6Rnj8Uo6SiMMyYP/iXjHiiQJM/QnVbBAPpiz9d7jXaytqBP1VvyQV5inA/6PePSIX4Or+Itgls7sB2v/NJnI2E2oa/qRA7Dl17jr8/Vsel/n6Ov6FqhYQHCIq/sg2J8PDUhb+z+snlduCBv17kSq9gKny/jcR5sLSwdL/SELm8Tf5qv6q41MtBAFq/FncmdduKCT/YM1fbllFbP85W7DratWo/hr1d6niwcz8qu6lN/MN5P6cgnJOv4X8/Gt0gaSrtgj9iZj2sBdGFPwaTIoqBrIg/o2OTrGaFiz9QNgz3tkaOP2h/5kP+f5A/7xIpyVLdkT+60v6ERCyTP39O3AkxeZQ/VwtCMkq7lT/WOsXvzNmWP1oRxupu2Zc/8g1dvumlmD9a75eVvVOZP/8JfC5kCJo/uzw0bM/Fmj9LZ/i30aWbP9FoZ+OMkpw/hKP0JYyInT9Hc/dIaYeeP/Achur4fJ8/j04KaOM+oD/2+NXF+rmgP4LKDNwAOqE/\",\"dtype\":\"float64\",\"shape\":[75]},\"y\":{\"__ndarray__\":\"GhExyth1ND/Sv8nbtpRIP2vylNV0PVE/aTum7souWD/At0SJ8fVgPw3Iuahxymc/MSNhhJWvcD/bTfBN02d3P2zb5nxnaoA/CD5h5MAGhz8NmeH1TyaQP+zrCsc9p5Y/LbKd76fGnz/bLW5ISEmmPww9YvTcQq8/JV2OstnstT8Er5Y7M8G+P0c+r3jqkcU/5h99k6ZBzj88bCIzFzjVP4enV8oyxN0//yH99nXg5D8qOpLLf0jtP5kqGJXUifQ/c9cS8kHP/D+/DpwzojQEQIEmwoanVwxA4lgXt9HgE0BSSZ2AJuIbQAMJih9jjiNA5q4l5INuK0AwTKYKRj0zQNv5fmq8/DpAaCJseHrtQkB/+zpwzoxKQM3MzMzMeFJAZmZmZmZqWEAAAAAAAFxeQM3MzMzMJmJAmpmZmZkfZUBmZmZmZhhoQDMzMzMzEWtAAAAAAAAKbkBmZmZmZoFwQM3MzMzM/XFAMzMzMzN6c0CamZmZmfZ0QAAAAAAAc3ZAZmZmZmbvd0DNzMzMzGt5QDMzMzMz6HpAmpmZmZlkfEAAAAAAAOF9QGZmZmZmXX9AZmZmZuZsgECamZmZGSuBQM3MzMxM6YFAAAAAAICngkAzMzMzs2WDQGZmZmbmI4RAmpmZmRnihEDNzMzMTKCFQAAAAACAXoZAMzMzM7Mch0BmZmZm5tqHQJqZmZkZmYhAzczMzExXiUAAAAAAgBWKQDMzMzOz04pAZmZmZuaRi0CamZmZGVCMQM3MzMxMDo1AAAAAAIDMjUAzMzMzs4qOQGZmZmbmSI9A\",\"dtype\":\"float64\",\"shape\":[75]}}},\"id\":\"fd60c439-581d-4eed-b92a-a907e7d9d04c\",\"type\":\"ColumnDataSource\"},{\"attributes\":{\"fill_alpha\":{\"value\":0.1},\"fill_color\":{\"value\":\"#1f77b4\"},\"line_alpha\":{\"value\":0.1},\"line_color\":{\"value\":\"#1f77b4\"},\"x\":{\"field\":\"x\"},\"y\":{\"field\":\"y\"}},\"id\":\"2177d25c-0e73-44de-937b-05364f341a7f\",\"type\":\"Circle\"},{\"attributes\":{\"data_source\":{\"id\":\"fd60c439-581d-4eed-b92a-a907e7d9d04c\",\"type\":\"ColumnDataSource\"},\"glyph\":{\"id\":\"b4a49673-742f-4f27-82c7-a5b1e260a3a8\",\"type\":\"Square\"},\"hover_glyph\":null,\"muted_glyph\":null,\"nonselection_glyph\":{\"id\":\"413622ba-4bff-4174-9f3e-6d85105c9832\",\"type\":\"Square\"},\"selection_glyph\":null,\"view\":{\"id\":\"8bbaf749-cc27-4195-b600-14b1f956d6ce\",\"type\":\"CDSView\"}},\"id\":\"8887f531-bc0e-441c-a2f7-610833bd4b7b\",\"type\":\"GlyphRenderer\"},{\"attributes\":{},\"id\":\"6d27dc76-11c4-464b-9777-830e7002ffc7\",\"type\":\"BasicTickFormatter\"},{\"attributes\":{\"callback\":null,\"column_names\":[\"x\",\"y\"],\"data\":{\"x\":{\"__ndarray__\":\"VTm6OJQbUT9jfCnX83BUP1iI/OaGbls/zWaZO7ZCYT9vZBEYoddkP/t1tmZ8dmg/nCXSwzoYbD8gdaGU9cRvP+gOKeGltnE/szqIiUWNcz+ePbncV1t1P399xp8OBnc/Tzya/Ky4eD81/2+xCcV6PzGl1PI6k4E/4/MbCsV0ij988JPQgdiSP1oLSewu3pg/y7RbnSxNnz/Ix39lyxCjP0ATEHzUq6Y/5YWuI5IRqj8Vep/Yeu6qP0+fAxxZMak/8hQHCpuFpj8TSLmW8TijP/hEwurUBKA/B06cLTdQmj9QwqWTB0qVP604BZSu4pA/8yAuGuHWiT/5OjnbjVKCPxzVxuiioHU/LzriEvz9Vj+4ZEXrKTRvv1pRdj8WvoS/FHu+H+Tgjb+xaof0GDuOvyVUZgbOcom/ahoeP3cphb8dSLngNTSBvyRnS9jq8nq/QPW6RoXRc7+0wYpWHPVpvzaly8qOh1m/995/z5bZqz6261CXjdFYP+VyViCHfGg/j36Nwjsicj9S/2L3EuN3PxEV+eFfhX0/bfnlaN6FgT9pWiKTrDyEP3RrmsMq6IY/YcU3gdqJiT+vuEKcqiKMP9g4IcjPs44/1ZBixxmfkD/gXTGayt+RPwUWDCPHGpM/gC32MftJlD/Xn2ku3F6VP4GIzfqmRpY/S6h2DOP8lj/7ZfibxZWXP6nzfXhjL5g/hGmF2lDgmD87TT70366ZP+IBNRqYk5o/Xi3pu2qEmz+fZ2CiSXucP6zD7arpdZ0/aaE58g1znj/REX9odHSfPwxLWvbGPqA/\",\"dtype\":\"float64\",\"shape\":[75]},\"y\":{\"__ndarray__\":\"GhExyth1ND/Sv8nbtpRIP2vylNV0PVE/aTum7souWD/At0SJ8fVgPw3Iuahxymc/MSNhhJWvcD/bTfBN02d3P2zb5nxnaoA/CD5h5MAGhz8NmeH1TyaQP+zrCsc9p5Y/LbKd76fGnz/bLW5ISEmmPww9YvTcQq8/JV2OstnstT8Er5Y7M8G+P0c+r3jqkcU/5h99k6ZBzj88bCIzFzjVP4enV8oyxN0//yH99nXg5D8qOpLLf0jtP5kqGJXUifQ/c9cS8kHP/D+/DpwzojQEQIEmwoanVwxA4lgXt9HgE0BSSZ2AJuIbQAMJih9jjiNA5q4l5INuK0AwTKYKRj0zQNv5fmq8/DpAaCJseHrtQkB/+zpwzoxKQM3MzMzMeFJAZmZmZmZqWEAAAAAAAFxeQM3MzMzMJmJAmpmZmZkfZUBmZmZmZhhoQDMzMzMzEWtAAAAAAAAKbkBmZmZmZoFwQM3MzMzM/XFAMzMzMzN6c0CamZmZmfZ0QAAAAAAAc3ZAZmZmZmbvd0DNzMzMzGt5QDMzMzMz6HpAmpmZmZlkfEAAAAAAAOF9QGZmZmZmXX9AZmZmZuZsgECamZmZGSuBQM3MzMxM6YFAAAAAAICngkAzMzMzs2WDQGZmZmbmI4RAmpmZmRnihEDNzMzMTKCFQAAAAACAXoZAMzMzM7Mch0BmZmZm5tqHQJqZmZkZmYhAzczMzExXiUAAAAAAgBWKQDMzMzOz04pAZmZmZuaRi0CamZmZGVCMQM3MzMxMDo1AAAAAAIDMjUAzMzMzs4qOQGZmZmbmSI9A\",\"dtype\":\"float64\",\"shape\":[75]}}},\"id\":\"f3436e96-8a4b-4377-96a7-ddbea729a612\",\"type\":\"ColumnDataSource\"},{\"attributes\":{},\"id\":\"5a11f7de-2a42-47f9-9c87-af68b1c86320\",\"type\":\"BasicTickFormatter\"},{\"attributes\":{\"data_source\":{\"id\":\"f3436e96-8a4b-4377-96a7-ddbea729a612\",\"type\":\"ColumnDataSource\"},\"glyph\":{\"id\":\"5dcd6f5e-c736-4482-a597-91032683f0a7\",\"type\":\"Circle\"},\"hover_glyph\":null,\"muted_glyph\":null,\"nonselection_glyph\":{\"id\":\"2177d25c-0e73-44de-937b-05364f341a7f\",\"type\":\"Circle\"},\"selection_glyph\":null,\"view\":{\"id\":\"2b42deda-ef41-4434-935f-1f6ccb21176f\",\"type\":\"CDSView\"}},\"id\":\"90a344e3-2705-411f-8525-2ce0415af424\",\"type\":\"GlyphRenderer\"},{\"attributes\":{\"toolbar\":{\"id\":\"b91ee7cb-4002-40f1-9a96-9f63b48e30ff\",\"type\":\"ProxyToolbar\"},\"toolbar_location\":\"above\"},\"id\":\"ce6ef81b-d0af-4f56-80da-d398d43a8303\",\"type\":\"ToolbarBox\"},{\"attributes\":{\"line_alpha\":0.6,\"line_color\":\"#e41a1c\",\"line_dash\":[6],\"line_width\":5,\"x\":{\"field\":\"x\"},\"y\":{\"field\":\"y\"}},\"id\":\"e971ea33-f9e5-44a2-a53e-c8f759ab9dea\",\"type\":\"Line\"},{\"attributes\":{\"source\":{\"id\":\"f3436e96-8a4b-4377-96a7-ddbea729a612\",\"type\":\"ColumnDataSource\"}},\"id\":\"2b42deda-ef41-4434-935f-1f6ccb21176f\",\"type\":\"CDSView\"},{\"attributes\":{\"line_color\":\"#4daf4a\",\"line_width\":1.5,\"x\":{\"field\":\"x\"},\"y\":{\"field\":\"y\"}},\"id\":\"38233868-eb32-4f0e-859d-a45023be3f43\",\"type\":\"Line\"},{\"attributes\":{\"callback\":null,\"column_names\":[\"x\",\"y\"],\"data\":{\"x\":{\"__ndarray__\":\"gcrmmYJDdz+idBjfMAZ4P+NbK9VWk3k/iRTKGW0pez84OlpZBcN8PwSNAe/9X34/xbGgUSMAgD9Tf96+C9KAP5kQ0UWdpYE/RxWkzuB6gj/21vr1kVGDP2CdoGs2KoQ/TV1O2+wEhT+2jZ6sVh6GP6fyk9TFEoo/hf3CGdkmkT+3okmeGFWWP/tVKPEj+Zs/pMBKMGYGoT8QA6X1szCkP07IYHkxnqc/wEkPljzdqj+g4p/ER+CrP1vOyR92iqo/zF9OnLhIqD88FRnAolSlP9m2pYk1RaI/cYeb+s6Rnj8Uo6SiMMyYP/iXjHiiQJM/QnVbBAPpiz9d7jXaytqBP1VvyQV5inA/6PePSIX4Or+Itgls7sB2v/NJnI2E2oa/qRA7Dl17jr8/Vsel/n6Ov6FqhYQHCIq/sg2J8PDUhb+z+snlduCBv17kSq9gKny/jcR5sLSwdL/SELm8Tf5qv6q41MtBAFq/FncmdduKCT/YM1fbllFbP85W7DratWo/hr1d6niwcz8qu6lN/MN5P6cgnJOv4X8/Gt0gaSrtgj9iZj2sBdGFPwaTIoqBrIg/o2OTrGaFiz9QNgz3tkaOP2h/5kP+f5A/7xIpyVLdkT+60v6ERCyTP39O3AkxeZQ/VwtCMkq7lT/WOsXvzNmWP1oRxupu2Zc/8g1dvumlmD9a75eVvVOZP/8JfC5kCJo/uzw0bM/Fmj9LZ/i30aWbP9FoZ+OMkpw/hKP0JYyInT9Hc/dIaYeeP/Achur4fJ8/j04KaOM+oD/2+NXF+rmgP4LKDNwAOqE/\",\"dtype\":\"float64\",\"shape\":[75]},\"y\":{\"__ndarray__\":\"GhExyth1ND/Sv8nbtpRIP2vylNV0PVE/aTum7souWD/At0SJ8fVgPw3Iuahxymc/MSNhhJWvcD/bTfBN02d3P2zb5nxnaoA/CD5h5MAGhz8NmeH1TyaQP+zrCsc9p5Y/LbKd76fGnz/bLW5ISEmmPww9YvTcQq8/JV2OstnstT8Er5Y7M8G+P0c+r3jqkcU/5h99k6ZBzj88bCIzFzjVP4enV8oyxN0//yH99nXg5D8qOpLLf0jtP5kqGJXUifQ/c9cS8kHP/D+/DpwzojQEQIEmwoanVwxA4lgXt9HgE0BSSZ2AJuIbQAMJih9jjiNA5q4l5INuK0AwTKYKRj0zQNv5fmq8/DpAaCJseHrtQkB/+zpwzoxKQM3MzMzMeFJAZmZmZmZqWEAAAAAAAFxeQM3MzMzMJmJAmpmZmZkfZUBmZmZmZhhoQDMzMzMzEWtAAAAAAAAKbkBmZmZmZoFwQM3MzMzM/XFAMzMzMzN6c0CamZmZmfZ0QAAAAAAAc3ZAZmZmZmbvd0DNzMzMzGt5QDMzMzMz6HpAmpmZmZlkfEAAAAAAAOF9QGZmZmZmXX9AZmZmZuZsgECamZmZGSuBQM3MzMxM6YFAAAAAAICngkAzMzMzs2WDQGZmZmbmI4RAmpmZmRnihEDNzMzMTKCFQAAAAACAXoZAMzMzM7Mch0BmZmZm5tqHQJqZmZkZmYhAzczMzExXiUAAAAAAgBWKQDMzMzOz04pAZmZmZuaRi0CamZmZGVCMQM3MzMxMDo1AAAAAAIDMjUAzMzMzs4qOQGZmZmbmSI9A\",\"dtype\":\"float64\",\"shape\":[75]}}},\"id\":\"36aa5e17-a17c-4348-b7b7-f4e61072dc3d\",\"type\":\"ColumnDataSource\"},{\"attributes\":{},\"id\":\"c33f21ea-151a-4a6e-9e53-ec9018da7e89\",\"type\":\"BasicTicker\"},{\"attributes\":{\"line_alpha\":0.1,\"line_color\":\"#1f77b4\",\"line_width\":1.5,\"x\":{\"field\":\"x\"},\"y\":{\"field\":\"y\"}},\"id\":\"12aa6e5d-ab0e-40db-9df1-77069e93b808\",\"type\":\"Line\"},{\"attributes\":{\"data_source\":{\"id\":\"8ebd0e9e-6ae5-4ef2-9e3b-b3078d131afc\",\"type\":\"ColumnDataSource\"},\"glyph\":{\"id\":\"38233868-eb32-4f0e-859d-a45023be3f43\",\"type\":\"Line\"},\"hover_glyph\":null,\"muted_glyph\":null,\"nonselection_glyph\":{\"id\":\"12aa6e5d-ab0e-40db-9df1-77069e93b808\",\"type\":\"Line\"},\"selection_glyph\":null,\"view\":{\"id\":\"03086ef4-da9c-4541-881e-666a5a50d2c3\",\"type\":\"CDSView\"}},\"id\":\"ae66c433-b584-43bc-9d94-efb3e5964b3b\",\"type\":\"GlyphRenderer\"},{\"attributes\":{},\"id\":\"b1f0cab6-5ae5-4d49-9a8a-7d05b3d176c5\",\"type\":\"LogScale\"},{\"attributes\":{\"source\":{\"id\":\"8ebd0e9e-6ae5-4ef2-9e3b-b3078d131afc\",\"type\":\"ColumnDataSource\"}},\"id\":\"03086ef4-da9c-4541-881e-666a5a50d2c3\",\"type\":\"CDSView\"},{\"attributes\":{\"fill_alpha\":{\"value\":0.7},\"fill_color\":{\"value\":\"#984ea3\"},\"line_alpha\":{\"value\":0.7},\"line_color\":{\"value\":\"#984ea3\"},\"x\":{\"field\":\"x\"},\"y\":{\"field\":\"y\"}},\"id\":\"b4a49673-742f-4f27-82c7-a5b1e260a3a8\",\"type\":\"Square\"},{\"attributes\":{\"axis_label\":\"pressure [mb]\",\"formatter\":{\"id\":\"f3e593aa-7163-4038-9b5c-ecfc2a184de7\",\"type\":\"LogTickFormatter\"},\"plot\":{\"id\":\"4389ae49-3037-451c-9231-65757b195089\",\"subtype\":\"Figure\",\"type\":\"Plot\"},\"ticker\":{\"id\":\"e955cf83-53c9-40ce-9290-8ed8a2f41d6c\",\"type\":\"LogTicker\"}},\"id\":\"c3a8f7d9-929d-49f0-b46c-ca5a5bea7d9c\",\"type\":\"LogAxis\"},{\"attributes\":{\"fill_alpha\":{\"value\":0.1},\"fill_color\":{\"value\":\"#1f77b4\"},\"line_alpha\":{\"value\":0.1},\"line_color\":{\"value\":\"#1f77b4\"},\"x\":{\"field\":\"x\"},\"y\":{\"field\":\"y\"}},\"id\":\"413622ba-4bff-4174-9f3e-6d85105c9832\",\"type\":\"Square\"},{\"attributes\":{\"callback\":null,\"end\":0.0551388598193,\"start\":-0.0155840222893},\"id\":\"66327884-52b4-42ef-ac10-cc41d1ca6f5c\",\"type\":\"Range1d\"},{\"attributes\":{\"line_alpha\":0.1,\"line_color\":\"#1f77b4\",\"line_dash\":[6],\"line_width\":5,\"x\":{\"field\":\"x\"},\"y\":{\"field\":\"y\"}},\"id\":\"241c657b-022d-41cc-b582-1899dda49cd8\",\"type\":\"Line\"},{\"attributes\":{\"data_source\":{\"id\":\"36aa5e17-a17c-4348-b7b7-f4e61072dc3d\",\"type\":\"ColumnDataSource\"},\"glyph\":{\"id\":\"02911b19-8db1-4c99-b9a7-f43a4175bd86\",\"type\":\"Line\"},\"hover_glyph\":null,\"muted_glyph\":null,\"nonselection_glyph\":{\"id\":\"06d0e713-ed92-40c7-b8ac-4f37e6953678\",\"type\":\"Line\"},\"selection_glyph\":null,\"view\":{\"id\":\"bf240278-014c-425d-bf83-98f3a9a0d11c\",\"type\":\"CDSView\"}},\"id\":\"476f29cd-45cd-44e3-af2f-ee42a1b15389\",\"type\":\"GlyphRenderer\"},{\"attributes\":{\"children\":[{\"id\":\"d9fff0a8-931a-409c-a1ed-203649a21a11\",\"subtype\":\"Figure\",\"type\":\"Plot\"},{\"id\":\"4389ae49-3037-451c-9231-65757b195089\",\"subtype\":\"Figure\",\"type\":\"Plot\"}]},\"id\":\"81ece4b0-aed1-415e-b842-0ea6d9710d62\",\"type\":\"Row\"},{\"attributes\":{\"plot\":{\"id\":\"4389ae49-3037-451c-9231-65757b195089\",\"subtype\":\"Figure\",\"type\":\"Plot\"},\"ticker\":{\"id\":\"c33f21ea-151a-4a6e-9e53-ec9018da7e89\",\"type\":\"BasicTicker\"}},\"id\":\"76ee4b5f-cce4-480f-892b-b083dd70b4d6\",\"type\":\"Grid\"},{\"attributes\":{\"source\":{\"id\":\"fd60c439-581d-4eed-b92a-a907e7d9d04c\",\"type\":\"ColumnDataSource\"}},\"id\":\"8bbaf749-cc27-4195-b600-14b1f956d6ce\",\"type\":\"CDSView\"},{\"attributes\":{\"line_alpha\":0.6,\"line_color\":\"#984ea3\",\"line_width\":3,\"x\":{\"field\":\"x\"},\"y\":{\"field\":\"y\"}},\"id\":\"02911b19-8db1-4c99-b9a7-f43a4175bd86\",\"type\":\"Line\"},{\"attributes\":{\"num_minor_ticks\":10},\"id\":\"e955cf83-53c9-40ce-9290-8ed8a2f41d6c\",\"type\":\"LogTicker\"},{\"attributes\":{\"line_alpha\":0.1,\"line_color\":\"#1f77b4\",\"line_width\":3,\"x\":{\"field\":\"x\"},\"y\":{\"field\":\"y\"}},\"id\":\"06d0e713-ed92-40c7-b8ac-4f37e6953678\",\"type\":\"Line\"},{\"attributes\":{\"dimension\":1,\"plot\":{\"id\":\"4389ae49-3037-451c-9231-65757b195089\",\"subtype\":\"Figure\",\"type\":\"Plot\"},\"ticker\":{\"id\":\"e955cf83-53c9-40ce-9290-8ed8a2f41d6c\",\"type\":\"LogTicker\"}},\"id\":\"24b6ac9a-4463-4594-9ab9-77bccedb0cc9\",\"type\":\"Grid\"},{\"attributes\":{},\"id\":\"52446a1f-d0bb-4601-9da9-99d1a81b92e6\",\"type\":\"BasicTickFormatter\"},{\"attributes\":{\"line_alpha\":0.1,\"line_color\":\"#1f77b4\",\"line_dash\":[6],\"line_width\":5,\"x\":{\"field\":\"x\"},\"y\":{\"field\":\"y\"}},\"id\":\"365765b4-3a94-4ef7-a1d0-cb8dcc11fbb6\",\"type\":\"Line\"},{\"attributes\":{\"source\":{\"id\":\"36aa5e17-a17c-4348-b7b7-f4e61072dc3d\",\"type\":\"ColumnDataSource\"}},\"id\":\"bf240278-014c-425d-bf83-98f3a9a0d11c\",\"type\":\"CDSView\"},{\"attributes\":{\"items\":[{\"id\":\"1e569c69-61f1-4438-b14f-4da0ffb2553a\",\"type\":\"LegendItem\"},{\"id\":\"d3151e52-d2d3-4107-b08e-c85dd6848d8b\",\"type\":\"LegendItem\"},{\"id\":\"7cf31e75-605d-4be6-a841-61d859aa216b\",\"type\":\"LegendItem\"}],\"label_text_font_size\":{\"value\":\"8pt\"},\"location\":[10,-30],\"plot\":{\"id\":\"4389ae49-3037-451c-9231-65757b195089\",\"subtype\":\"Figure\",\"type\":\"Plot\"}},\"id\":\"c5e955c7-c36e-446d-8259-30c1dbe508d6\",\"type\":\"Legend\"},{\"attributes\":{\"label\":{\"value\":\"CRD\"},\"renderers\":[{\"id\":\"90a344e3-2705-411f-8525-2ce0415af424\",\"type\":\"GlyphRenderer\"},{\"id\":\"ae66c433-b584-43bc-9d94-efb3e5964b3b\",\"type\":\"GlyphRenderer\"}]},\"id\":\"d3151e52-d2d3-4107-b08e-c85dd6848d8b\",\"type\":\"LegendItem\"},{\"attributes\":{},\"id\":\"df7d3a72-2247-4702-a728-90d6ef9ebad6\",\"type\":\"WheelZoomTool\"},{\"attributes\":{\"label\":{\"value\":\"CLIRAD `coolr_bands`\"},\"renderers\":[{\"id\":\"a2b5b3d3-73cb-4bb9-9800-f036596dfa4d\",\"type\":\"GlyphRenderer\"}]},\"id\":\"1e569c69-61f1-4438-b14f-4da0ffb2553a\",\"type\":\"LegendItem\"},{\"attributes\":{},\"id\":\"7745de49-a00b-4500-ac13-121b6d016344\",\"type\":\"HelpTool\"},{\"attributes\":{\"axis_label\":\"cooling rate [K/day]\",\"formatter\":{\"id\":\"5a11f7de-2a42-47f9-9c87-af68b1c86320\",\"type\":\"BasicTickFormatter\"},\"plot\":{\"id\":\"4389ae49-3037-451c-9231-65757b195089\",\"subtype\":\"Figure\",\"type\":\"Plot\"},\"ticker\":{\"id\":\"c33f21ea-151a-4a6e-9e53-ec9018da7e89\",\"type\":\"BasicTicker\"}},\"id\":\"8c7c572c-be21-4049-9994-e3a617f17fad\",\"type\":\"LinearAxis\"},{\"attributes\":{\"children\":[{\"id\":\"ce6ef81b-d0af-4f56-80da-d398d43a8303\",\"type\":\"ToolbarBox\"},{\"id\":\"f9eb3a4d-56e3-4e48-917c-cb4ab316ad75\",\"type\":\"Column\"}]},\"id\":\"95016f92-4bbf-4a3b-b136-a27072fcd2db\",\"type\":\"Column\"},{\"attributes\":{\"source\":{\"id\":\"33563bfa-dca1-4df9-99bc-98d34ee47208\",\"type\":\"ColumnDataSource\"}},\"id\":\"5042c2b4-9071-463b-a809-8cf0e6e367f7\",\"type\":\"CDSView\"},{\"attributes\":{},\"id\":\"4d5140e1-d146-43b3-bddc-96492fec3c23\",\"type\":\"ResetTool\"},{\"attributes\":{\"children\":[{\"id\":\"81ece4b0-aed1-415e-b842-0ea6d9710d62\",\"type\":\"Row\"}]},\"id\":\"f9eb3a4d-56e3-4e48-917c-cb4ab316ad75\",\"type\":\"Column\"},{\"attributes\":{\"callback\":null,\"column_names\":[\"x\",\"y\"],\"data\":{\"x\":{\"__ndarray__\":\"AAAAAAAAAAAAAAAAAAAAAE5SXgAhX7c/eLsF4tqosD8AAAAAAAAAAAAAAAAAAAAAAAAAAAAAAADLAWebrjaRPwAAAAAAAAAAHtNCYUp/gT8eZuYEmPKIP5HtuaJNO5Y/d59WHtMEgz8Wg+0CCh57PxdkpSvTjYY/YRlGOjYUkD/YG7fDH3iUP3qTCiPwmZw/x7v44lgFoD8wNcO/aIyiP4Ls7X1H4KU/azwB4ugJqT9LlGxena+pP8gZrgFWtqg/YBNnf3/Opj9rMVxDxxOkP8QDeV9dYaE/YGZeYrp9nT93uWIoIiGYP+fp/t9ICJM/vAiplATMiz92tZKeLdWBP4BNEp5bJ3A/bmja/T3eRb+sAiT/tBZ4vy1rNQAoOoe/uFuhLqNvjr90YVPQtXuOvxSF2pL8WIq/x0igCHxahr+z2c3fD36Cv0Pg1ACPc32/UHse4Ogqdr+lYjje6iduv2bk4l5PKmC/UoOvPd4ZNr9PMqjky+xUP1C0sSWybmc/Tr9rXx78cT/ihQ0D2C94P/wE7WFxMH4/SQSEAY0Tgj9dV8SXJviEP2Tz0d/U0oc/CD0kR/2fij9TxTtdaVuNP0+KhCbxCJA/FY8CebNckT/iv18d3quSPxrXQyTY8pM/tE6Pf/wrlT+O9lRbpUyWP74QwyX/R5c/b5RzZBAYmD/n7vb99M+YPzImpAXNhpk/ZxB12KpImj8Fj6mapCKbP0/0vsY1C5w/D7V8QzL7nD80tp3XVO2dP85L3GIy4J4/zab4/z7Rnz/QOapgdWCgP9xPmMBF2KA/\",\"dtype\":\"float64\",\"shape\":[75]},\"y\":{\"__ndarray__\":\"S/O/Q+51ND/430zAtpRIP2vylNV0PVE/QxsjCssuWD/TR4Z78fVgP+inNsRxymc/OuuBfZWvcD/u3TFA02d3P2d3VoBnaoA/CD5h5MAGhz/1pA8HUCaQP+zrCsc9p5Y/Fb7LAKjGnz/nJ9c/SEmmPwBD+fzcQq8/FOZwv9nstT8Er5Y7M8G+P0c+r3jqkcU/yK72qKZBzj+tM989FzjVPxbgmr8yxN0/cOm5AXbg5D+5ctXAf0jtP5kqGJXUifQ/DsrqDELP/D8MCAhBojQEQDItVnmnVwxAiFXNvdHgE0BSSZ2AJuIbQAMJih9jjiNA5q4l5INuK0CPVN/5RT0zQHzxRXu8/DpAOZ7PgHrtQkAg8wGBzoxKQBSTN8DMeFJA2NmQf2ZqWEAAAAAAAFxeQEQX1LfMJmJAmpmZmZkfZUBmZmZmZhhoQLzoK0gzEWtAAAAAAAAKbkCiC+pbZoFwQAhyUMLM/XFA+I2vPTN6c0AQ5KCEmfZ0QAAAAAAAc3ZA8Btfe2bvd0AIclDCzGt5QPeNrz0z6HpAEOSghJlkfEAAAAAAAOF9QKML6ltmXX9ABTkoYeZsgED7xteeGSuBQAhyUMJM6YFAAAAAAICngkD4ja89s2WDQAU5KGHmI4RA+8bXnhnihEAIclDCTKCFQAAAAACAXoZA+I2vPbMch0AFOShh5tqHQPvG154ZmYhACHJQwkxXiUAAAAAAgBWKQPeNrz2z04pABTkoYeaRi0D7xteeGVCMQAlyUMJMDo1AAAAAAIDMjUD3ja89s4qOQGZmZmbmSI9A\",\"dtype\":\"float64\",\"shape\":[75]}}},\"id\":\"1e3a42c6-c40d-4783-b552-01b9fa347848\",\"type\":\"ColumnDataSource\"},{\"attributes\":{\"line_alpha\":0.6,\"line_color\":\"#e41a1c\",\"line_dash\":[6],\"line_width\":5,\"x\":{\"field\":\"x\"},\"y\":{\"field\":\"y\"}},\"id\":\"f1653213-e9dc-42a4-9efa-6e7a9d666dd1\",\"type\":\"Line\"},{\"attributes\":{\"bottom_units\":\"screen\",\"fill_alpha\":{\"value\":0.5},\"fill_color\":{\"value\":\"lightgrey\"},\"left_units\":\"screen\",\"level\":\"overlay\",\"line_alpha\":{\"value\":1.0},\"line_color\":{\"value\":\"black\"},\"line_dash\":[4,4],\"line_width\":{\"value\":2},\"plot\":null,\"render_mode\":\"css\",\"right_units\":\"screen\",\"top_units\":\"screen\"},\"id\":\"75231a59-d8b4-45f9-96c6-bd614eed0e1f\",\"type\":\"BoxAnnotation\"},{\"attributes\":{},\"id\":\"078df922-8c46-4d13-9800-3c788a5a8070\",\"type\":\"PanTool\"},{\"attributes\":{\"tools\":[{\"id\":\"4875c795-fba5-4b69-bc05-d7851f66c4a5\",\"type\":\"PanTool\"},{\"id\":\"d6fd6d55-ede8-49aa-aa5c-952da07ecb03\",\"type\":\"WheelZoomTool\"},{\"id\":\"c0482ee9-0333-4fad-9622-33923fcade09\",\"type\":\"BoxZoomTool\"},{\"id\":\"d328c46f-8747-4a32-8e94-4990cc08beb3\",\"type\":\"SaveTool\"},{\"id\":\"70ad4877-ec1c-4ab7-8756-e09f9ad01f43\",\"type\":\"ResetTool\"},{\"id\":\"3f40e533-c5eb-483c-ada9-3b827ed11067\",\"type\":\"HelpTool\"},{\"id\":\"078df922-8c46-4d13-9800-3c788a5a8070\",\"type\":\"PanTool\"},{\"id\":\"df7d3a72-2247-4702-a728-90d6ef9ebad6\",\"type\":\"WheelZoomTool\"},{\"id\":\"2caaf4b8-6c97-472f-9364-1a046ea1d732\",\"type\":\"BoxZoomTool\"},{\"id\":\"47ba5a94-59e2-4f5b-a584-022798786b26\",\"type\":\"SaveTool\"},{\"id\":\"4d5140e1-d146-43b3-bddc-96492fec3c23\",\"type\":\"ResetTool\"},{\"id\":\"7745de49-a00b-4500-ac13-121b6d016344\",\"type\":\"HelpTool\"}]},\"id\":\"b91ee7cb-4002-40f1-9a96-9f63b48e30ff\",\"type\":\"ProxyToolbar\"},{\"attributes\":{},\"id\":\"840f53fa-e21f-4024-9702-cacf3717175b\",\"type\":\"LinearScale\"}],\"root_ids\":[\"95016f92-4bbf-4a3b-b136-a27072fcd2db\"]},\"title\":\"Bokeh Application\",\"version\":\"0.12.14\"}};\n",
       "  var render_items = [{\"docid\":\"487fe5b0-98f8-4e64-b9f6-7bfda89008de\",\"elementid\":\"a9a5b97a-7e84-4bc7-b8b6-c30e4542d0f4\",\"modelid\":\"95016f92-4bbf-4a3b-b136-a27072fcd2db\"}];\n",
       "  root.Bokeh.embed.embed_items_notebook(docs_json, render_items);\n",
       "\n",
       "  }\n",
       "  if (root.Bokeh !== undefined) {\n",
       "    embed_document(root);\n",
       "  } else {\n",
       "    var attempts = 0;\n",
       "    var timer = setInterval(function(root) {\n",
       "      if (root.Bokeh !== undefined) {\n",
       "        embed_document(root);\n",
       "        clearInterval(timer);\n",
       "      }\n",
       "      attempts++;\n",
       "      if (attempts > 100) {\n",
       "        console.log(\"Bokeh: ERROR: Unable to run BokehJS code because BokehJS library is missing\")\n",
       "        clearInterval(timer);\n",
       "      }\n",
       "    }, 10, root)\n",
       "  }\n",
       "})(window);"
      ],
      "application/vnd.bokehjs_exec.v0+json": ""
     },
     "metadata": {
      "application/vnd.bokehjs_exec.v0+json": {
       "id": "95016f92-4bbf-4a3b-b136-a27072fcd2db"
      }
     },
     "output_type": "display_data"
    },
    {
     "name": "stdout",
     "output_type": "stream",
     "text": [
      "FIGURE. Cooling rate profiles.\n"
     ]
    },
    {
     "data": {
      "text/html": [
       "<a id=\"Flux_Comparison\"></a>"
      ],
      "text/plain": [
       "<IPython.core.display.HTML object>"
      ]
     },
     "metadata": {},
     "output_type": "display_data"
    },
    {
     "data": {
      "text/markdown": [
       "# Flux Comparison"
      ],
      "text/plain": [
       "<IPython.core.display.Markdown object>"
      ]
     },
     "metadata": {},
     "output_type": "display_data"
    },
    {
     "data": {
      "text/html": [
       "<div>\n",
       "<style>\n",
       "    .dataframe thead tr:only-child th {\n",
       "        text-align: right;\n",
       "    }\n",
       "\n",
       "    .dataframe thead th {\n",
       "        text-align: left;\n",
       "    }\n",
       "\n",
       "    .dataframe tbody tr th {\n",
       "        vertical-align: top;\n",
       "    }\n",
       "</style>\n",
       "<table border=\"1\" class=\"dataframe\">\n",
       "  <thead>\n",
       "    <tr style=\"text-align: right;\">\n",
       "      <th></th>\n",
       "      <th></th>\n",
       "      <th>flug</th>\n",
       "      <th>fldg</th>\n",
       "      <th>fnetg</th>\n",
       "    </tr>\n",
       "    <tr>\n",
       "      <th>pressure</th>\n",
       "      <th>level</th>\n",
       "      <th></th>\n",
       "      <th></th>\n",
       "      <th></th>\n",
       "    </tr>\n",
       "  </thead>\n",
       "  <tbody>\n",
       "    <tr>\n",
       "      <th>0.0000</th>\n",
       "      <th>1</th>\n",
       "      <td>-37.080242</td>\n",
       "      <td>0.000000</td>\n",
       "      <td>-37.080242</td>\n",
       "    </tr>\n",
       "    <tr>\n",
       "      <th>1.0685</th>\n",
       "      <th>24</th>\n",
       "      <td>-37.079405</td>\n",
       "      <td>0.004616</td>\n",
       "      <td>-37.074788</td>\n",
       "    </tr>\n",
       "    <tr>\n",
       "      <th>1013.0000</th>\n",
       "      <th>76</th>\n",
       "      <td>-38.491734</td>\n",
       "      <td>2.798733</td>\n",
       "      <td>-35.693002</td>\n",
       "    </tr>\n",
       "  </tbody>\n",
       "</table>\n",
       "</div>"
      ],
      "text/plain": [
       "                      flug      fldg      fnetg\n",
       "pressure  level                                \n",
       "0.0000    1     -37.080242  0.000000 -37.080242\n",
       "1.0685    24    -37.079405  0.004616 -37.074788\n",
       "1013.0000 76    -38.491734  2.798733 -35.693002"
      ]
     },
     "metadata": {},
     "output_type": "display_data"
    },
    {
     "name": "stdout",
     "output_type": "stream",
     "text": [
      "Table. Fluxes. WGT igg=10 wgt_flux=1\n"
     ]
    },
    {
     "data": {
      "text/html": [
       "<div>\n",
       "<style>\n",
       "    .dataframe thead tr:only-child th {\n",
       "        text-align: right;\n",
       "    }\n",
       "\n",
       "    .dataframe thead th {\n",
       "        text-align: left;\n",
       "    }\n",
       "\n",
       "    .dataframe tbody tr th {\n",
       "        vertical-align: top;\n",
       "    }\n",
       "</style>\n",
       "<table border=\"1\" class=\"dataframe\">\n",
       "  <thead>\n",
       "    <tr style=\"text-align: right;\">\n",
       "      <th></th>\n",
       "      <th></th>\n",
       "      <th>flug</th>\n",
       "      <th>fldg</th>\n",
       "      <th>fnetg</th>\n",
       "    </tr>\n",
       "    <tr>\n",
       "      <th>pressure</th>\n",
       "      <th>level</th>\n",
       "      <th></th>\n",
       "      <th></th>\n",
       "      <th></th>\n",
       "    </tr>\n",
       "  </thead>\n",
       "  <tbody>\n",
       "    <tr>\n",
       "      <th>0.0000</th>\n",
       "      <th>1</th>\n",
       "      <td>-37.083828</td>\n",
       "      <td>0.000000</td>\n",
       "      <td>-37.083828</td>\n",
       "    </tr>\n",
       "    <tr>\n",
       "      <th>1.0685</th>\n",
       "      <th>24</th>\n",
       "      <td>-37.083479</td>\n",
       "      <td>0.004824</td>\n",
       "      <td>-37.078655</td>\n",
       "    </tr>\n",
       "    <tr>\n",
       "      <th>1013.0000</th>\n",
       "      <th>76</th>\n",
       "      <td>-38.491734</td>\n",
       "      <td>2.699166</td>\n",
       "      <td>-35.792568</td>\n",
       "    </tr>\n",
       "  </tbody>\n",
       "</table>\n",
       "</div>"
      ],
      "text/plain": [
       "                      flug      fldg      fnetg\n",
       "pressure  level                                \n",
       "0.0000    1     -37.083828  0.000000 -37.083828\n",
       "1.0685    24    -37.083479  0.004824 -37.078655\n",
       "1013.0000 76    -38.491734  2.699166 -35.792568"
      ]
     },
     "metadata": {},
     "output_type": "display_data"
    },
    {
     "name": "stdout",
     "output_type": "stream",
     "text": [
      "Table. Fluxes. CRD\n"
     ]
    },
    {
     "data": {
      "text/html": [
       "<div>\n",
       "<style>\n",
       "    .dataframe thead tr:only-child th {\n",
       "        text-align: right;\n",
       "    }\n",
       "\n",
       "    .dataframe thead th {\n",
       "        text-align: left;\n",
       "    }\n",
       "\n",
       "    .dataframe tbody tr th {\n",
       "        vertical-align: top;\n",
       "    }\n",
       "</style>\n",
       "<table border=\"1\" class=\"dataframe\">\n",
       "  <thead>\n",
       "    <tr style=\"text-align: right;\">\n",
       "      <th></th>\n",
       "      <th></th>\n",
       "      <th>flug</th>\n",
       "      <th>fldg</th>\n",
       "      <th>fnetg</th>\n",
       "    </tr>\n",
       "    <tr>\n",
       "      <th>pressure</th>\n",
       "      <th>level</th>\n",
       "      <th></th>\n",
       "      <th></th>\n",
       "      <th></th>\n",
       "    </tr>\n",
       "  </thead>\n",
       "  <tbody>\n",
       "    <tr>\n",
       "      <th>1.000000e-08</th>\n",
       "      <th>1</th>\n",
       "      <td>-37.130775</td>\n",
       "      <td>0.000002</td>\n",
       "      <td>-37.130775</td>\n",
       "    </tr>\n",
       "    <tr>\n",
       "      <th>1.068500e+00</th>\n",
       "      <th>24</th>\n",
       "      <td>-37.129906</td>\n",
       "      <td>0.004208</td>\n",
       "      <td>-37.125698</td>\n",
       "    </tr>\n",
       "    <tr>\n",
       "      <th>1.013000e+03</th>\n",
       "      <th>76</th>\n",
       "      <td>-38.491730</td>\n",
       "      <td>2.696776</td>\n",
       "      <td>-35.794952</td>\n",
       "    </tr>\n",
       "  </tbody>\n",
       "</table>\n",
       "</div>"
      ],
      "text/plain": [
       "                         flug      fldg      fnetg\n",
       "pressure     level                                \n",
       "1.000000e-08 1     -37.130775  0.000002 -37.130775\n",
       "1.068500e+00 24    -37.129906  0.004208 -37.125698\n",
       "1.013000e+03 76    -38.491730  2.696776 -35.794952"
      ]
     },
     "metadata": {},
     "output_type": "display_data"
    },
    {
     "name": "stdout",
     "output_type": "stream",
     "text": [
      "Table. Fluxes. CLIRAD\n"
     ]
    },
    {
     "data": {
      "text/html": [
       "<div>\n",
       "<style>\n",
       "    .dataframe thead tr:only-child th {\n",
       "        text-align: right;\n",
       "    }\n",
       "\n",
       "    .dataframe thead th {\n",
       "        text-align: left;\n",
       "    }\n",
       "\n",
       "    .dataframe tbody tr th {\n",
       "        vertical-align: top;\n",
       "    }\n",
       "</style>\n",
       "<table border=\"1\" class=\"dataframe\">\n",
       "  <thead>\n",
       "    <tr style=\"text-align: right;\">\n",
       "      <th></th>\n",
       "      <th></th>\n",
       "      <th>flug</th>\n",
       "      <th>fldg</th>\n",
       "      <th>fnetg</th>\n",
       "    </tr>\n",
       "    <tr>\n",
       "      <th>pressure</th>\n",
       "      <th>level</th>\n",
       "      <th></th>\n",
       "      <th></th>\n",
       "      <th></th>\n",
       "    </tr>\n",
       "  </thead>\n",
       "  <tbody>\n",
       "    <tr>\n",
       "      <th>0.0000</th>\n",
       "      <th>1</th>\n",
       "      <td>-3.585590e-03</td>\n",
       "      <td>0.000000</td>\n",
       "      <td>-0.003586</td>\n",
       "    </tr>\n",
       "    <tr>\n",
       "      <th>1.0685</th>\n",
       "      <th>24</th>\n",
       "      <td>-4.073800e-03</td>\n",
       "      <td>0.000207</td>\n",
       "      <td>-0.003867</td>\n",
       "    </tr>\n",
       "    <tr>\n",
       "      <th>1013.0000</th>\n",
       "      <th>76</th>\n",
       "      <td>4.000000e-08</td>\n",
       "      <td>-0.099567</td>\n",
       "      <td>-0.099566</td>\n",
       "    </tr>\n",
       "  </tbody>\n",
       "</table>\n",
       "</div>"
      ],
      "text/plain": [
       "                         flug      fldg     fnetg\n",
       "pressure  level                                  \n",
       "0.0000    1     -3.585590e-03  0.000000 -0.003586\n",
       "1.0685    24    -4.073800e-03  0.000207 -0.003867\n",
       "1013.0000 76     4.000000e-08 -0.099567 -0.099566"
      ]
     },
     "metadata": {},
     "output_type": "display_data"
    },
    {
     "name": "stdout",
     "output_type": "stream",
     "text": [
      "Table. Fluxes. (CRD) - (WGT igg=10 wgt_flux=1)\n"
     ]
    },
    {
     "data": {
      "text/html": [
       "<div>\n",
       "<style>\n",
       "    .dataframe thead tr:only-child th {\n",
       "        text-align: right;\n",
       "    }\n",
       "\n",
       "    .dataframe thead th {\n",
       "        text-align: left;\n",
       "    }\n",
       "\n",
       "    .dataframe tbody tr th {\n",
       "        vertical-align: top;\n",
       "    }\n",
       "</style>\n",
       "<table border=\"1\" class=\"dataframe\">\n",
       "  <thead>\n",
       "    <tr style=\"text-align: right;\">\n",
       "      <th></th>\n",
       "      <th></th>\n",
       "      <th>flug</th>\n",
       "      <th>fldg</th>\n",
       "      <th>fnetg</th>\n",
       "    </tr>\n",
       "    <tr>\n",
       "      <th>pressure</th>\n",
       "      <th>level</th>\n",
       "      <th></th>\n",
       "      <th></th>\n",
       "      <th></th>\n",
       "    </tr>\n",
       "  </thead>\n",
       "  <tbody>\n",
       "    <tr>\n",
       "      <th>0.0000</th>\n",
       "      <th>1</th>\n",
       "      <td>-0.050533</td>\n",
       "      <td>0.000002</td>\n",
       "      <td>-0.050533</td>\n",
       "    </tr>\n",
       "    <tr>\n",
       "      <th>1.0685</th>\n",
       "      <th>24</th>\n",
       "      <td>-0.050501</td>\n",
       "      <td>-0.000409</td>\n",
       "      <td>-0.050910</td>\n",
       "    </tr>\n",
       "    <tr>\n",
       "      <th>1013.0000</th>\n",
       "      <th>76</th>\n",
       "      <td>0.000004</td>\n",
       "      <td>-0.101957</td>\n",
       "      <td>-0.101950</td>\n",
       "    </tr>\n",
       "  </tbody>\n",
       "</table>\n",
       "</div>"
      ],
      "text/plain": [
       "                     flug      fldg     fnetg\n",
       "pressure  level                              \n",
       "0.0000    1     -0.050533  0.000002 -0.050533\n",
       "1.0685    24    -0.050501 -0.000409 -0.050910\n",
       "1013.0000 76     0.000004 -0.101957 -0.101950"
      ]
     },
     "metadata": {},
     "output_type": "display_data"
    },
    {
     "name": "stdout",
     "output_type": "stream",
     "text": [
      "Table. Fluxes. (CLIRAD) - (WGT igg=10 wgt_flux=1)\n"
     ]
    },
    {
     "data": {
      "text/html": [
       "<a id=\"Best-fit_Parameters\"></a>"
      ],
      "text/plain": [
       "<IPython.core.display.HTML object>"
      ]
     },
     "metadata": {},
     "output_type": "display_data"
    },
    {
     "data": {
      "text/markdown": [
       "# Best-fit Parameters"
      ],
      "text/plain": [
       "<IPython.core.display.Markdown object>"
      ]
     },
     "metadata": {},
     "output_type": "display_data"
    },
    {
     "name": "stdout",
     "output_type": "stream",
     "text": [
      "Best-fit values for each (gas, band)\n",
      "------------------------------------\n",
      "o n2o band3a\n",
      "  atmpro = mls\n",
      "  band = 3a\n",
      "  commitnumber = 2bd1f75\n",
      "  conc = 3.2e-07\n",
      "  dv = 0.01\n",
      "  klin = 2.22e-20\n",
      "  molecule = n2o\n",
      "  ng_adju = [0, 0]\n",
      "  ng_refs = [1, 2]\n",
      "  nv = 100\n",
      "  option_compute_btable = 0\n",
      "  option_compute_ktable = 1\n",
      "  option_wgt_flux = 1\n",
      "  option_wgt_k = 1\n",
      "  ref_pts = [(1, 250), (500, 250)]\n",
      "  tsfc = 294\n",
      "  vmax = 620\n",
      "  vmin = 540\n",
      "  w_diffuse = [(1.8,), (1.66, 1.8)]\n",
      "  wgt = [(0.9,), (0.5, 0.95)]\n"
     ]
    }
   ],
   "source": [
    "script()"
   ]
  },
  {
   "cell_type": "code",
   "execution_count": 13,
   "metadata": {
    "collapsed": true
   },
   "outputs": [
    {
     "data": {
      "text/html": [
       "<script>\n",
       "code_show=true; \n",
       "function code_toggle() {\n",
       " if (code_show){\n",
       " $('div.input').hide();\n",
       " } else {\n",
       " $('div.input').show();\n",
       " }\n",
       " code_show = !code_show\n",
       "} \n",
       "$( document ).ready(code_toggle);\n",
       "</script>\n",
       "<form action=\"javascript:code_toggle()\"><input type=\"submit\" value=\"Click here to toggle on/off the raw code.\"></form>"
      ],
      "text/plain": [
       "<IPython.core.display.HTML object>"
      ]
     },
     "execution_count": 13,
     "metadata": {},
     "output_type": "execute_result"
    }
   ],
   "source": [
    "display.HTML('''<script>\n",
    "code_show=true; \n",
    "function code_toggle() {\n",
    " if (code_show){\n",
    " $('div.input').hide();\n",
    " } else {\n",
    " $('div.input').show();\n",
    " }\n",
    " code_show = !code_show\n",
    "} \n",
    "$( document ).ready(code_toggle);\n",
    "</script>\n",
    "<form action=\"javascript:code_toggle()\"><input type=\"submit\" value=\"Click here to toggle on/off the raw code.\"></form>''')"
   ]
  }
 ],
 "metadata": {
  "kernelspec": {
   "display_name": "Python 3",
   "language": "python",
   "name": "python3"
  },
  "language_info": {
   "codemirror_mode": {
    "name": "ipython",
    "version": 3
   },
   "file_extension": ".py",
   "mimetype": "text/x-python",
   "name": "python",
   "nbconvert_exporter": "python",
   "pygments_lexer": "ipython3",
   "version": "3.6.1"
  }
 },
 "nbformat": 4,
 "nbformat_minor": 2
}
