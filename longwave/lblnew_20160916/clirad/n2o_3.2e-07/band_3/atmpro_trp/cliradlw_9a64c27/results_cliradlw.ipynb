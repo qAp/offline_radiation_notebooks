{
 "cells": [
  {
   "cell_type": "code",
   "execution_count": 1,
   "metadata": {
    "collapsed": true
   },
   "outputs": [],
   "source": [
    "%matplotlib inline\n",
    "import os\n",
    "import re\n",
    "import io\n",
    "import itertools\n",
    "import pprint\n",
    "\n",
    "from bokeh.io import output_notebook, show\n",
    "from bokeh.layouts import gridplot\n",
    "from bokeh.plotting import figure\n",
    "from bokeh.models import Range1d, Legend\n",
    "from bokeh.palettes import all_palettes\n",
    "\n",
    "import matplotlib\n",
    "import matplotlib.pyplot as plt\n",
    "import numpy as np\n",
    "import pandas as pd\n",
    "import xarray as xr\n",
    "\n",
    "import climatools.lblnew.bestfit_params as bestfits\n",
    "from climatools.lblnew import setup_bestfit, setup_overlap\n",
    "import climatools.lblnew.pipeline as pipe_lblnew\n",
    "import climatools.cliradlw.setup as setup_cliradlw\n",
    "import climatools.cliradlw.pipeline as pipe_cliradlw\n",
    "\n",
    "import climatools.html.html as climahtml\n",
    "from climatools.lblnew.dataio import *\n",
    "from climatools.plot.plot import *\n",
    "\n",
    "\n",
    "import IPython.display as display"
   ]
  },
  {
   "cell_type": "code",
   "execution_count": 2,
   "metadata": {
    "collapsed": true
   },
   "outputs": [],
   "source": [
    "%run param.py"
   ]
  },
  {
   "cell_type": "code",
   "execution_count": 3,
   "metadata": {
    "collapsed": true
   },
   "outputs": [],
   "source": [
    "def load_output_file(path_csv):\n",
    "    '''\n",
    "    Load lblnew output .csv file to xarray.Dataset\n",
    "    \n",
    "    Parameters\n",
    "    ----------\n",
    "    path_csv: str\n",
    "              Path to the .csv file to be loaded.\n",
    "    ds: xarray.Dataset\n",
    "        Data in the input file in the form of an xarray.Dataset.\n",
    "    '''\n",
    "    toindex = ['band', 'pressure', 'igg', 'g']    \n",
    "    df = pd.read_csv(path_csv, sep=r'\\s+')\n",
    "    df = df.set_index([i for i in toindex if i in df.columns])\n",
    "    df = df.rename(columns={'sfu': 'flug',\n",
    "                            'sfd': 'fldg',\n",
    "                            'fnet': 'fnetg',\n",
    "                            'coolr': 'coolrg'})\n",
    "    ds = xr.Dataset.from_dataframe(df)\n",
    "\n",
    "    for l in ('level', 'layer'):\n",
    "        if l in ds.data_vars:\n",
    "            if len(ds[l].dims) > 1:\n",
    "                surface = {d: 0 for d in ds.dims if d != 'pressure'}\n",
    "                coord_level = ds[l][surface]\n",
    "                ds.coords[l] = ('pressure', coord_level)\n",
    "            else:\n",
    "                ds.coords[l] = ('pressure', ds[l])\n",
    "    \n",
    "    return ds"
   ]
  },
  {
   "cell_type": "code",
   "execution_count": 4,
   "metadata": {
    "collapsed": true
   },
   "outputs": [],
   "source": [
    "def lblnew_setup(param=None):\n",
    "    if 'ng_refs' in param:\n",
    "        return {'setup': setup_bestfit,\n",
    "                'fname_flux_crd': 'output_flux.dat',\n",
    "                'fname_cool_crd': 'output_coolr.dat',\n",
    "                'fname_flux_wgt': 'output_wfluxg.dat',\n",
    "                'fname_cool_wgt': 'output_wcoolrg.dat'}\n",
    "    else:\n",
    "        return {'setup': setup_overlap,\n",
    "                'fname_flux_crd': 'output_flux.dat',\n",
    "                'fname_cool_crd': 'output_coolr.dat',\n",
    "                'fname_flux_wgt': 'output_wflux.dat',\n",
    "                'fname_cool_wgt': 'output_wcoolr.dat'}\n",
    "\n",
    "    \n",
    "def load_lblnew_data(param):\n",
    "    \n",
    "    fname_dsname = [('fname_flux_crd', 'ds_flux_crd'),\n",
    "                    ('fname_cool_crd', 'ds_cool_crd'),\n",
    "                    ('fname_flux_wgt', 'ds_flux_wgt'),\n",
    "                    ('fname_cool_wgt', 'ds_cool_wgt')]\n",
    "    \n",
    "    d = lblnew_setup(param)\n",
    "    dir_fortran = pipe_lblnew.get_dir_case(param, setup=d['setup'])\n",
    "    \n",
    "    data_dict = {}\n",
    "    for fname, dsname in fname_dsname:\n",
    "        fpath = os.path.join(dir_fortran, d[fname])\n",
    "        data_dict[dsname] = load_output_file(fpath)\n",
    "    return data_dict\n",
    "    \n",
    "\n",
    "    \n",
    "    "
   ]
  },
  {
   "cell_type": "code",
   "execution_count": 5,
   "metadata": {
    "collapsed": true
   },
   "outputs": [],
   "source": [
    "d = load_lblnew_data(PARAM_LBLNEW)\n",
    "\n",
    "DS_FLUX_CRD = d['ds_flux_crd']\n",
    "DS_COOL_CRD = d['ds_cool_crd']\n",
    "DS_FLUX_WGT = d['ds_flux_wgt']\n",
    "DS_COOL_WGT = d['ds_cool_wgt']"
   ]
  },
  {
   "cell_type": "code",
   "execution_count": 6,
   "metadata": {
    "collapsed": true
   },
   "outputs": [],
   "source": [
    "DIR_FORTRAN = pipe_cliradlw.get_fortran_dir(PARAM, \n",
    "                                            setup=setup_cliradlw)\n",
    "\n",
    "PATH_FLUX = os.path.join(DIR_FORTRAN, 'output_flux.dat')\n",
    "PATH_COOL = os.path.join(DIR_FORTRAN, 'output_coolr.dat')\n",
    "\n",
    "DS_FLUX = load_output_file(PATH_FLUX)\n",
    "DS_COOL = load_output_file(PATH_COOL)"
   ]
  },
  {
   "cell_type": "code",
   "execution_count": 7,
   "metadata": {
    "collapsed": true
   },
   "outputs": [
    {
     "data": {
      "text/html": [
       "\n",
       "    <div class=\"bk-root\">\n",
       "        <a href=\"https://bokeh.pydata.org\" target=\"_blank\" class=\"bk-logo bk-logo-small bk-logo-notebook\"></a>\n",
       "        <span id=\"246a9e69-5db7-44dd-bdd0-7fa9257f9f3b\">Loading BokehJS ...</span>\n",
       "    </div>"
      ]
     },
     "metadata": {},
     "output_type": "display_data"
    },
    {
     "data": {
      "application/javascript": [
       "\n",
       "(function(root) {\n",
       "  function now() {\n",
       "    return new Date();\n",
       "  }\n",
       "\n",
       "  var force = true;\n",
       "\n",
       "  if (typeof (root._bokeh_onload_callbacks) === \"undefined\" || force === true) {\n",
       "    root._bokeh_onload_callbacks = [];\n",
       "    root._bokeh_is_loading = undefined;\n",
       "  }\n",
       "\n",
       "  var JS_MIME_TYPE = 'application/javascript';\n",
       "  var HTML_MIME_TYPE = 'text/html';\n",
       "  var EXEC_MIME_TYPE = 'application/vnd.bokehjs_exec.v0+json';\n",
       "  var CLASS_NAME = 'output_bokeh rendered_html';\n",
       "\n",
       "  /**\n",
       "   * Render data to the DOM node\n",
       "   */\n",
       "  function render(props, node) {\n",
       "    var script = document.createElement(\"script\");\n",
       "    node.appendChild(script);\n",
       "  }\n",
       "\n",
       "  /**\n",
       "   * Handle when an output is cleared or removed\n",
       "   */\n",
       "  function handleClearOutput(event, handle) {\n",
       "    var cell = handle.cell;\n",
       "\n",
       "    var id = cell.output_area._bokeh_element_id;\n",
       "    var server_id = cell.output_area._bokeh_server_id;\n",
       "    // Clean up Bokeh references\n",
       "    if (id !== undefined) {\n",
       "      Bokeh.index[id].model.document.clear();\n",
       "      delete Bokeh.index[id];\n",
       "    }\n",
       "\n",
       "    if (server_id !== undefined) {\n",
       "      // Clean up Bokeh references\n",
       "      var cmd = \"from bokeh.io.state import curstate; print(curstate().uuid_to_server['\" + server_id + \"'].get_sessions()[0].document.roots[0]._id)\";\n",
       "      cell.notebook.kernel.execute(cmd, {\n",
       "        iopub: {\n",
       "          output: function(msg) {\n",
       "            var element_id = msg.content.text.trim();\n",
       "            Bokeh.index[element_id].model.document.clear();\n",
       "            delete Bokeh.index[element_id];\n",
       "          }\n",
       "        }\n",
       "      });\n",
       "      // Destroy server and session\n",
       "      var cmd = \"import bokeh.io.notebook as ion; ion.destroy_server('\" + server_id + \"')\";\n",
       "      cell.notebook.kernel.execute(cmd);\n",
       "    }\n",
       "  }\n",
       "\n",
       "  /**\n",
       "   * Handle when a new output is added\n",
       "   */\n",
       "  function handleAddOutput(event, handle) {\n",
       "    var output_area = handle.output_area;\n",
       "    var output = handle.output;\n",
       "\n",
       "    // limit handleAddOutput to display_data with EXEC_MIME_TYPE content only\n",
       "    if ((output.output_type != \"display_data\") || (!output.data.hasOwnProperty(EXEC_MIME_TYPE))) {\n",
       "      return\n",
       "    }\n",
       "\n",
       "    var toinsert = output_area.element.find(\".\" + CLASS_NAME.split(' ')[0]);\n",
       "\n",
       "    if (output.metadata[EXEC_MIME_TYPE][\"id\"] !== undefined) {\n",
       "      toinsert[0].firstChild.textContent = output.data[JS_MIME_TYPE];\n",
       "      // store reference to embed id on output_area\n",
       "      output_area._bokeh_element_id = output.metadata[EXEC_MIME_TYPE][\"id\"];\n",
       "    }\n",
       "    if (output.metadata[EXEC_MIME_TYPE][\"server_id\"] !== undefined) {\n",
       "      var bk_div = document.createElement(\"div\");\n",
       "      bk_div.innerHTML = output.data[HTML_MIME_TYPE];\n",
       "      var script_attrs = bk_div.children[0].attributes;\n",
       "      for (var i = 0; i < script_attrs.length; i++) {\n",
       "        toinsert[0].firstChild.setAttribute(script_attrs[i].name, script_attrs[i].value);\n",
       "      }\n",
       "      // store reference to server id on output_area\n",
       "      output_area._bokeh_server_id = output.metadata[EXEC_MIME_TYPE][\"server_id\"];\n",
       "    }\n",
       "  }\n",
       "\n",
       "  function register_renderer(events, OutputArea) {\n",
       "\n",
       "    function append_mime(data, metadata, element) {\n",
       "      // create a DOM node to render to\n",
       "      var toinsert = this.create_output_subarea(\n",
       "        metadata,\n",
       "        CLASS_NAME,\n",
       "        EXEC_MIME_TYPE\n",
       "      );\n",
       "      this.keyboard_manager.register_events(toinsert);\n",
       "      // Render to node\n",
       "      var props = {data: data, metadata: metadata[EXEC_MIME_TYPE]};\n",
       "      render(props, toinsert[0]);\n",
       "      element.append(toinsert);\n",
       "      return toinsert\n",
       "    }\n",
       "\n",
       "    /* Handle when an output is cleared or removed */\n",
       "    events.on('clear_output.CodeCell', handleClearOutput);\n",
       "    events.on('delete.Cell', handleClearOutput);\n",
       "\n",
       "    /* Handle when a new output is added */\n",
       "    events.on('output_added.OutputArea', handleAddOutput);\n",
       "\n",
       "    /**\n",
       "     * Register the mime type and append_mime function with output_area\n",
       "     */\n",
       "    OutputArea.prototype.register_mime_type(EXEC_MIME_TYPE, append_mime, {\n",
       "      /* Is output safe? */\n",
       "      safe: true,\n",
       "      /* Index of renderer in `output_area.display_order` */\n",
       "      index: 0\n",
       "    });\n",
       "  }\n",
       "\n",
       "  // register the mime type if in Jupyter Notebook environment and previously unregistered\n",
       "  if (root.Jupyter !== undefined) {\n",
       "    var events = require('base/js/events');\n",
       "    var OutputArea = require('notebook/js/outputarea').OutputArea;\n",
       "\n",
       "    if (OutputArea.prototype.mime_types().indexOf(EXEC_MIME_TYPE) == -1) {\n",
       "      register_renderer(events, OutputArea);\n",
       "    }\n",
       "  }\n",
       "\n",
       "  \n",
       "  if (typeof (root._bokeh_timeout) === \"undefined\" || force === true) {\n",
       "    root._bokeh_timeout = Date.now() + 5000;\n",
       "    root._bokeh_failed_load = false;\n",
       "  }\n",
       "\n",
       "  var NB_LOAD_WARNING = {'data': {'text/html':\n",
       "     \"<div style='background-color: #fdd'>\\n\"+\n",
       "     \"<p>\\n\"+\n",
       "     \"BokehJS does not appear to have successfully loaded. If loading BokehJS from CDN, this \\n\"+\n",
       "     \"may be due to a slow or bad network connection. Possible fixes:\\n\"+\n",
       "     \"</p>\\n\"+\n",
       "     \"<ul>\\n\"+\n",
       "     \"<li>re-rerun `output_notebook()` to attempt to load from CDN again, or</li>\\n\"+\n",
       "     \"<li>use INLINE resources instead, as so:</li>\\n\"+\n",
       "     \"</ul>\\n\"+\n",
       "     \"<code>\\n\"+\n",
       "     \"from bokeh.resources import INLINE\\n\"+\n",
       "     \"output_notebook(resources=INLINE)\\n\"+\n",
       "     \"</code>\\n\"+\n",
       "     \"</div>\"}};\n",
       "\n",
       "  function display_loaded() {\n",
       "    var el = document.getElementById(\"246a9e69-5db7-44dd-bdd0-7fa9257f9f3b\");\n",
       "    if (el != null) {\n",
       "      el.textContent = \"BokehJS is loading...\";\n",
       "    }\n",
       "    if (root.Bokeh !== undefined) {\n",
       "      if (el != null) {\n",
       "        el.textContent = \"BokehJS \" + root.Bokeh.version + \" successfully loaded.\";\n",
       "      }\n",
       "    } else if (Date.now() < root._bokeh_timeout) {\n",
       "      setTimeout(display_loaded, 100)\n",
       "    }\n",
       "  }\n",
       "\n",
       "\n",
       "  function run_callbacks() {\n",
       "    try {\n",
       "      root._bokeh_onload_callbacks.forEach(function(callback) { callback() });\n",
       "    }\n",
       "    finally {\n",
       "      delete root._bokeh_onload_callbacks\n",
       "    }\n",
       "    console.info(\"Bokeh: all callbacks have finished\");\n",
       "  }\n",
       "\n",
       "  function load_libs(js_urls, callback) {\n",
       "    root._bokeh_onload_callbacks.push(callback);\n",
       "    if (root._bokeh_is_loading > 0) {\n",
       "      console.log(\"Bokeh: BokehJS is being loaded, scheduling callback at\", now());\n",
       "      return null;\n",
       "    }\n",
       "    if (js_urls == null || js_urls.length === 0) {\n",
       "      run_callbacks();\n",
       "      return null;\n",
       "    }\n",
       "    console.log(\"Bokeh: BokehJS not loaded, scheduling load and callback at\", now());\n",
       "    root._bokeh_is_loading = js_urls.length;\n",
       "    for (var i = 0; i < js_urls.length; i++) {\n",
       "      var url = js_urls[i];\n",
       "      var s = document.createElement('script');\n",
       "      s.src = url;\n",
       "      s.async = false;\n",
       "      s.onreadystatechange = s.onload = function() {\n",
       "        root._bokeh_is_loading--;\n",
       "        if (root._bokeh_is_loading === 0) {\n",
       "          console.log(\"Bokeh: all BokehJS libraries loaded\");\n",
       "          run_callbacks()\n",
       "        }\n",
       "      };\n",
       "      s.onerror = function() {\n",
       "        console.warn(\"failed to load library \" + url);\n",
       "      };\n",
       "      console.log(\"Bokeh: injecting script tag for BokehJS library: \", url);\n",
       "      document.getElementsByTagName(\"head\")[0].appendChild(s);\n",
       "    }\n",
       "  };var element = document.getElementById(\"246a9e69-5db7-44dd-bdd0-7fa9257f9f3b\");\n",
       "  if (element == null) {\n",
       "    console.log(\"Bokeh: ERROR: autoload.js configured with elementid '246a9e69-5db7-44dd-bdd0-7fa9257f9f3b' but no matching script tag was found. \")\n",
       "    return false;\n",
       "  }\n",
       "\n",
       "  var js_urls = [\"https://cdn.pydata.org/bokeh/release/bokeh-0.12.14.min.js\", \"https://cdn.pydata.org/bokeh/release/bokeh-widgets-0.12.14.min.js\", \"https://cdn.pydata.org/bokeh/release/bokeh-tables-0.12.14.min.js\", \"https://cdn.pydata.org/bokeh/release/bokeh-gl-0.12.14.min.js\"];\n",
       "\n",
       "  var inline_js = [\n",
       "    function(Bokeh) {\n",
       "      Bokeh.set_log_level(\"info\");\n",
       "    },\n",
       "    \n",
       "    function(Bokeh) {\n",
       "      \n",
       "    },\n",
       "    function(Bokeh) {\n",
       "      console.log(\"Bokeh: injecting CSS: https://cdn.pydata.org/bokeh/release/bokeh-0.12.14.min.css\");\n",
       "      Bokeh.embed.inject_css(\"https://cdn.pydata.org/bokeh/release/bokeh-0.12.14.min.css\");\n",
       "      console.log(\"Bokeh: injecting CSS: https://cdn.pydata.org/bokeh/release/bokeh-widgets-0.12.14.min.css\");\n",
       "      Bokeh.embed.inject_css(\"https://cdn.pydata.org/bokeh/release/bokeh-widgets-0.12.14.min.css\");\n",
       "      console.log(\"Bokeh: injecting CSS: https://cdn.pydata.org/bokeh/release/bokeh-tables-0.12.14.min.css\");\n",
       "      Bokeh.embed.inject_css(\"https://cdn.pydata.org/bokeh/release/bokeh-tables-0.12.14.min.css\");\n",
       "    }\n",
       "  ];\n",
       "\n",
       "  function run_inline_js() {\n",
       "    \n",
       "    if ((root.Bokeh !== undefined) || (force === true)) {\n",
       "      for (var i = 0; i < inline_js.length; i++) {\n",
       "        inline_js[i].call(root, root.Bokeh);\n",
       "      }if (force === true) {\n",
       "        display_loaded();\n",
       "      }} else if (Date.now() < root._bokeh_timeout) {\n",
       "      setTimeout(run_inline_js, 100);\n",
       "    } else if (!root._bokeh_failed_load) {\n",
       "      console.log(\"Bokeh: BokehJS failed to load within specified timeout.\");\n",
       "      root._bokeh_failed_load = true;\n",
       "    } else if (force !== true) {\n",
       "      var cell = $(document.getElementById(\"246a9e69-5db7-44dd-bdd0-7fa9257f9f3b\")).parents('.cell').data().cell;\n",
       "      cell.output_area.append_execute_result(NB_LOAD_WARNING)\n",
       "    }\n",
       "\n",
       "  }\n",
       "\n",
       "  if (root._bokeh_is_loading === 0) {\n",
       "    console.log(\"Bokeh: BokehJS loaded, going straight to plotting\");\n",
       "    run_inline_js();\n",
       "  } else {\n",
       "    load_libs(js_urls, function() {\n",
       "      console.log(\"Bokeh: BokehJS plotting callback run at\", now());\n",
       "      run_inline_js();\n",
       "    });\n",
       "  }\n",
       "}(window));"
      ],
      "application/vnd.bokehjs_load.v0+json": "\n(function(root) {\n  function now() {\n    return new Date();\n  }\n\n  var force = true;\n\n  if (typeof (root._bokeh_onload_callbacks) === \"undefined\" || force === true) {\n    root._bokeh_onload_callbacks = [];\n    root._bokeh_is_loading = undefined;\n  }\n\n  \n\n  \n  if (typeof (root._bokeh_timeout) === \"undefined\" || force === true) {\n    root._bokeh_timeout = Date.now() + 5000;\n    root._bokeh_failed_load = false;\n  }\n\n  var NB_LOAD_WARNING = {'data': {'text/html':\n     \"<div style='background-color: #fdd'>\\n\"+\n     \"<p>\\n\"+\n     \"BokehJS does not appear to have successfully loaded. If loading BokehJS from CDN, this \\n\"+\n     \"may be due to a slow or bad network connection. Possible fixes:\\n\"+\n     \"</p>\\n\"+\n     \"<ul>\\n\"+\n     \"<li>re-rerun `output_notebook()` to attempt to load from CDN again, or</li>\\n\"+\n     \"<li>use INLINE resources instead, as so:</li>\\n\"+\n     \"</ul>\\n\"+\n     \"<code>\\n\"+\n     \"from bokeh.resources import INLINE\\n\"+\n     \"output_notebook(resources=INLINE)\\n\"+\n     \"</code>\\n\"+\n     \"</div>\"}};\n\n  function display_loaded() {\n    var el = document.getElementById(\"246a9e69-5db7-44dd-bdd0-7fa9257f9f3b\");\n    if (el != null) {\n      el.textContent = \"BokehJS is loading...\";\n    }\n    if (root.Bokeh !== undefined) {\n      if (el != null) {\n        el.textContent = \"BokehJS \" + root.Bokeh.version + \" successfully loaded.\";\n      }\n    } else if (Date.now() < root._bokeh_timeout) {\n      setTimeout(display_loaded, 100)\n    }\n  }\n\n\n  function run_callbacks() {\n    try {\n      root._bokeh_onload_callbacks.forEach(function(callback) { callback() });\n    }\n    finally {\n      delete root._bokeh_onload_callbacks\n    }\n    console.info(\"Bokeh: all callbacks have finished\");\n  }\n\n  function load_libs(js_urls, callback) {\n    root._bokeh_onload_callbacks.push(callback);\n    if (root._bokeh_is_loading > 0) {\n      console.log(\"Bokeh: BokehJS is being loaded, scheduling callback at\", now());\n      return null;\n    }\n    if (js_urls == null || js_urls.length === 0) {\n      run_callbacks();\n      return null;\n    }\n    console.log(\"Bokeh: BokehJS not loaded, scheduling load and callback at\", now());\n    root._bokeh_is_loading = js_urls.length;\n    for (var i = 0; i < js_urls.length; i++) {\n      var url = js_urls[i];\n      var s = document.createElement('script');\n      s.src = url;\n      s.async = false;\n      s.onreadystatechange = s.onload = function() {\n        root._bokeh_is_loading--;\n        if (root._bokeh_is_loading === 0) {\n          console.log(\"Bokeh: all BokehJS libraries loaded\");\n          run_callbacks()\n        }\n      };\n      s.onerror = function() {\n        console.warn(\"failed to load library \" + url);\n      };\n      console.log(\"Bokeh: injecting script tag for BokehJS library: \", url);\n      document.getElementsByTagName(\"head\")[0].appendChild(s);\n    }\n  };var element = document.getElementById(\"246a9e69-5db7-44dd-bdd0-7fa9257f9f3b\");\n  if (element == null) {\n    console.log(\"Bokeh: ERROR: autoload.js configured with elementid '246a9e69-5db7-44dd-bdd0-7fa9257f9f3b' but no matching script tag was found. \")\n    return false;\n  }\n\n  var js_urls = [\"https://cdn.pydata.org/bokeh/release/bokeh-0.12.14.min.js\", \"https://cdn.pydata.org/bokeh/release/bokeh-widgets-0.12.14.min.js\", \"https://cdn.pydata.org/bokeh/release/bokeh-tables-0.12.14.min.js\", \"https://cdn.pydata.org/bokeh/release/bokeh-gl-0.12.14.min.js\"];\n\n  var inline_js = [\n    function(Bokeh) {\n      Bokeh.set_log_level(\"info\");\n    },\n    \n    function(Bokeh) {\n      \n    },\n    function(Bokeh) {\n      console.log(\"Bokeh: injecting CSS: https://cdn.pydata.org/bokeh/release/bokeh-0.12.14.min.css\");\n      Bokeh.embed.inject_css(\"https://cdn.pydata.org/bokeh/release/bokeh-0.12.14.min.css\");\n      console.log(\"Bokeh: injecting CSS: https://cdn.pydata.org/bokeh/release/bokeh-widgets-0.12.14.min.css\");\n      Bokeh.embed.inject_css(\"https://cdn.pydata.org/bokeh/release/bokeh-widgets-0.12.14.min.css\");\n      console.log(\"Bokeh: injecting CSS: https://cdn.pydata.org/bokeh/release/bokeh-tables-0.12.14.min.css\");\n      Bokeh.embed.inject_css(\"https://cdn.pydata.org/bokeh/release/bokeh-tables-0.12.14.min.css\");\n    }\n  ];\n\n  function run_inline_js() {\n    \n    if ((root.Bokeh !== undefined) || (force === true)) {\n      for (var i = 0; i < inline_js.length; i++) {\n        inline_js[i].call(root, root.Bokeh);\n      }if (force === true) {\n        display_loaded();\n      }} else if (Date.now() < root._bokeh_timeout) {\n      setTimeout(run_inline_js, 100);\n    } else if (!root._bokeh_failed_load) {\n      console.log(\"Bokeh: BokehJS failed to load within specified timeout.\");\n      root._bokeh_failed_load = true;\n    } else if (force !== true) {\n      var cell = $(document.getElementById(\"246a9e69-5db7-44dd-bdd0-7fa9257f9f3b\")).parents('.cell').data().cell;\n      cell.output_area.append_execute_result(NB_LOAD_WARNING)\n    }\n\n  }\n\n  if (root._bokeh_is_loading === 0) {\n    console.log(\"Bokeh: BokehJS loaded, going straight to plotting\");\n    run_inline_js();\n  } else {\n    load_libs(js_urls, function() {\n      console.log(\"Bokeh: BokehJS plotting callback run at\", now());\n      run_inline_js();\n    });\n  }\n}(window));"
     },
     "metadata": {},
     "output_type": "display_data"
    }
   ],
   "source": [
    "output_notebook()"
   ]
  },
  {
   "cell_type": "code",
   "execution_count": 8,
   "metadata": {
    "collapsed": true
   },
   "outputs": [],
   "source": [
    "def fmt_cool(ds_in):\n",
    "    ds = ds_in.copy(deep=True)\n",
    "    if 'igg' in ds.dims:\n",
    "        ds = ds.sel(igg=1)\n",
    "\n",
    "    if 'g' in ds.dims:\n",
    "        ds = ds.sum('g')\n",
    "            \n",
    "    if 'band' in ds.dims:\n",
    "        try:\n",
    "            ds = ds.squeeze('band')\n",
    "        except ValueError:\n",
    "            ds = ds.sum('band')\n",
    "                \n",
    "    return ds['coolrg']\n",
    "\n",
    "\n",
    "def pltdata_cooling_1(ds_cool=None,\n",
    "                      ds_cool_crd=None, ds_cool_wgt=None):\n",
    "    \n",
    "\n",
    "\n",
    "    colors = all_palettes['Set1'][4]\n",
    "    data = [{'label': 'CLIRAD `coolr_bands`',\n",
    "             'srs': fmt_cool(ds_cool),\n",
    "             'line_dash': 'dashed', 'line_width': 5,\n",
    "             'color': colors[0], 'alpha': .6},\n",
    "            {'label': 'CRD',\n",
    "             'srs': fmt_cool(ds_cool_crd),\n",
    "             'line_dash': 'solid', 'line_width': 1.5,\n",
    "             'marker': 'circle', 'marker_size': 5,\n",
    "             'color': colors[2], 'alpha': 1,},\n",
    "            {'label': 'WGT igg=10 wgt_flux=2',\n",
    "             'srs': fmt_cool(ds_cool_wgt),\n",
    "             'line_dash': 'solid', 'line_width': 3,\n",
    "             'marker': 'square', 'marker_size': 5,\n",
    "             'color': colors[3], 'alpha': .6}]\n",
    "    return data\n",
    "\n",
    "\n",
    "def nice_xlims(pltdata=None, prange=None):\n",
    "    \n",
    "    def get_slice(srs):\n",
    "        return srs.sel(pressure=slice(*prange))\n",
    "    \n",
    "    srss = [d['srs'] for d in pltdata]\n",
    "    vmin = min([get_slice(srs).min() for srs in srss])\n",
    "    vmax = max([get_slice(srs).max() for srs in srss])\n",
    "    dv = (vmax - vmin) * .01\n",
    "    return float(vmin - dv), float(vmax + dv)\n",
    "    \n",
    "\n",
    "def plt_cooling_bokeh(pltdata=None):\n",
    "    '''\n",
    "    Plot a list of cooling rate profiles using bokeh.\n",
    "    '''\n",
    "    ymin = 1e-2 \n",
    "    ymax = 1020 \n",
    "        \n",
    "    p1 = figure(title=\"Linear pressure scale\", \n",
    "                plot_width=400)        \n",
    "    xmin, xmax = nice_xlims(pltdata, prange=(50, 1050))\n",
    "    for d in pltdata:\n",
    "        if 'marker' in d:\n",
    "            getattr(p1, d['marker'])(d['srs'].values, \n",
    "                    d['srs'].coords['pressure'].values,\n",
    "                    color=d['color'], alpha=.7)\n",
    "        p1.line(d['srs'].values, \n",
    "                d['srs'].coords['pressure'].values,\n",
    "                color=d['color'], alpha=d['alpha'], \n",
    "                line_width=d['line_width'], line_dash=d['line_dash'])\n",
    "    \n",
    "    p1.y_range = Range1d(ymax, ymin)\n",
    "    p1.yaxis.axis_label = 'pressure [mb]'   \n",
    "    p1.x_range = Range1d(xmin, xmax)\n",
    "    p1.xaxis.axis_label = 'cooling rate [K/day]'\n",
    "            \n",
    "    p2 = figure(title='Log pressure scale', y_axis_type='log',\n",
    "                plot_width=560)\n",
    "    xmin, xmax = nice_xlims(pltdata, prange=(.01, 200))\n",
    "    \n",
    "    rs = []\n",
    "    for d in pltdata:\n",
    "        rd = []\n",
    "        if 'marker' in d:\n",
    "            r_mark = getattr(p2, d['marker'])(d['srs'].values, \n",
    "                        d['srs'].coords['pressure'].values,\n",
    "                        color=d['color'], alpha=.7)\n",
    "            rd.append(r_mark)\n",
    "        r_line = p2.line(d['srs'].values, \n",
    "                    d['srs'].coords['pressure'].values,\n",
    "                    color=d['color'], alpha=d['alpha'], \n",
    "                    line_width=d['line_width'], line_dash=d['line_dash'])\n",
    "        rd.append(r_line)\n",
    "      \n",
    "        rs.append(rd)\n",
    "        \n",
    "    p2.y_range = Range1d(ymax, ymin)  \n",
    "    p2.yaxis.axis_label = 'pressure [mb]'\n",
    "    \n",
    "    p2.x_range = Range1d(xmin, xmax)\n",
    "    p2.xaxis.axis_label = 'cooling rate [K/day]'\n",
    "    \n",
    "    items = [(d['label'], r) for r, d in zip(rs, pltdata)]\n",
    "    legend = Legend(items=items, location=(10, -30))\n",
    "    legend.label_text_font_size = '8pt'\n",
    "    \n",
    "    p2.add_layout(legend, 'right')  \n",
    "    \n",
    "    show(gridplot(p1, p2, ncols=2, plot_height=500))\n",
    "    \n",
    "\n",
    "def script_plt_cooling():\n",
    "    pltdata = pltdata_cooling_1(\n",
    "        ds_cool=DS_COOL,\n",
    "        ds_cool_crd=DS_COOL_CRD,\n",
    "        ds_cool_wgt=DS_COOL_WGT)\n",
    "    plt_cooling_bokeh(pltdata=pltdata)\n",
    "    print('''FIGURE. Cooling rate profiles.''')"
   ]
  },
  {
   "cell_type": "code",
   "execution_count": 9,
   "metadata": {
    "collapsed": true
   },
   "outputs": [],
   "source": [
    "def fmt_flux(ds_in):\n",
    "    ds = ds_in.copy(deep=True)\n",
    "    \n",
    "    for l in ('level', 'layer'):\n",
    "        if l in ds.data_vars:\n",
    "            if len(ds[l].dims) > 1:\n",
    "                surface = {d: 0 for d in ds.dims if d != 'pressure'}\n",
    "                coord_level = ds[l][surface]\n",
    "                ds.coords[l] = ('pressure', coord_level)\n",
    "            else:\n",
    "                ds.coords[l] = ('pressure', ds[l])\n",
    "        \n",
    "    ds = ds.isel(pressure=[0, 23, -1])\n",
    "        \n",
    "    if 'igg' in ds.dims:\n",
    "        ds = ds.sel(igg=[1])\n",
    "        ds = ds.squeeze('igg').drop('igg')\n",
    "    \n",
    "    if 'g' in ds.dims:\n",
    "        ds = ds.sum('g')\n",
    "            \n",
    "    if 'band' in ds.dims:\n",
    "        try:\n",
    "            ds = ds.squeeze('band').drop('band')\n",
    "        except ValueError:\n",
    "            ds = ds.sum('band')\n",
    "                \n",
    "    df = ds.to_dataframe()\n",
    "    df = df.set_index('level', append=True)               \n",
    "    return df\n",
    "\n",
    "\n",
    "def tbdata_flux(ds_flux=None, ds_flux_crd=None, ds_flux_wgt=None):\n",
    "    ilevels = [0, 23, -1]\n",
    "            \n",
    "    benchmark = {'label': 'WGT igg=10 wgt_flux=1',\n",
    "                 'df': fmt_flux(ds_flux_wgt)}\n",
    "    \n",
    "    tbs = [{'label': 'CRD',\n",
    "            'df': fmt_flux(ds_flux_crd)},\n",
    "           {'label': 'CLIRAD',\n",
    "            'df': fmt_flux(ds_flux)}]\n",
    "    \n",
    "    data = {'benchmark': benchmark, 'others': tbs}\n",
    "    return data\n",
    "\n",
    "\n",
    "def tb_flux(tbdata=None):\n",
    "    benchmark = tbdata['benchmark']\n",
    "    others = tbdata['others']\n",
    "    \n",
    "    def show_tb(d=None):\n",
    "        display.display(d['df'])\n",
    "        print('Table.', 'Fluxes.', d['label'])\n",
    "        \n",
    "    def show_tbdiff(d0=None, d=None):\n",
    "        df = d['df']\n",
    "        df.index = d0['df'].index\n",
    "        display.display(df - d0['df'])\n",
    "        print('Table.', 'Fluxes.', \n",
    "              '({}) - ({})'.format(d['label'], d0['label']))\n",
    "        \n",
    "    show_tb(benchmark)\n",
    "    for d in others:\n",
    "        show_tb(d)\n",
    "        \n",
    "    for d in others:\n",
    "        show_tbdiff(d=d, d0=benchmark)\n",
    "        \n",
    "        \n",
    "def script_tb_flux():\n",
    "    data = tbdata_flux(ds_flux=DS_FLUX,\n",
    "                       ds_flux_crd=DS_FLUX_CRD,\n",
    "                       ds_flux_wgt=DS_FLUX_WGT)\n",
    "    tb_flux(tbdata=data)"
   ]
  },
  {
   "cell_type": "code",
   "execution_count": 10,
   "metadata": {
    "collapsed": true
   },
   "outputs": [],
   "source": [
    "def band_map():\n",
    "    '''\n",
    "    Maps spectral bands in lblnew to spectral bands in clirad.\n",
    "    '''\n",
    "    lblnew2clirad = {'1': '1',\n",
    "            '2': '2',\n",
    "            '3a': '3',\n",
    "            '3b': '4',\n",
    "            '3c': '5',\n",
    "            '4': '6', \n",
    "            '5': '7',\n",
    "            '6': '8',\n",
    "            '7': '9', \n",
    "            '8': '10',\n",
    "            '9': '11'}\n",
    "    \n",
    "    clirad2lblnew = {clirad: lblnew \n",
    "                     for lblnew, clirad in lblnew2clirad.items()}\n",
    "    return clirad2lblnew\n",
    "\n",
    "\n",
    "def gasbands():\n",
    "    bmap = band_map()\n",
    "    gases = list(PARAM['molecule'].keys())\n",
    "    \n",
    "    bands = [bmap[str(b)] for b in PARAM['band']]\n",
    "    return list(itertools.product(gases, bands))\n",
    "\n",
    "\n",
    "def print_bestfit_params():\n",
    "    print('Best-fit values for each (gas, band)')\n",
    "    print('------------------------------------')\n",
    "    for gas, band in gasbands():\n",
    "        print('o {} band{}'.format(gas, band))\n",
    "        param = bestfits.kdist_params(molecule=gas, band=band)\n",
    "        for name, value in sorted(param.items()):\n",
    "            print(2 * ' ' + '{} = {}'.format(name, value))\n",
    "\n",
    "        \n",
    "def print_input_param():        \n",
    "    for name, value in PARAM.items():\n",
    "        print('{} = {}'.format(name, value))\n",
    "        \n",
    "        \n",
    "def print_lblnew_param():\n",
    "    for name, value in sorted(PARAM_LBLNEW.items()):\n",
    "        print('{} = {}'.format(name, value))\n"
   ]
  },
  {
   "cell_type": "code",
   "execution_count": 11,
   "metadata": {
    "collapsed": true,
    "scrolled": false
   },
   "outputs": [],
   "source": [
    "def show_html(s):\n",
    "    display.display(display.HTML(s))\n",
    "\n",
    "    \n",
    "def show_markdown(s):\n",
    "    display.display(display.Markdown(s))\n",
    "\n",
    "    \n",
    "def script():\n",
    "    \n",
    "    title = '### CLIRAD-LW'\n",
    "    s_input = 'Input Parameters'\n",
    "    s_lblnew_param = 'LBLNEW case compaired against'\n",
    "    s_bestfits = 'Best-fit Parameters'\n",
    "    s_plt_cooling = 'Cooling Rate Profiles'\n",
    "    s_tb_flux = 'Flux Comparison'\n",
    "    \n",
    "    # title\n",
    "    show_markdown('### CLIRAD-LW')\n",
    "    \n",
    "    # TOC\n",
    "    show_markdown('### Table of Contents')\n",
    "    show_html(climahtml.getHTML_hrefanchor(s_input))\n",
    "    show_html(climahtml.getHTML_hrefanchor(s_lblnew_param))\n",
    "    show_html(climahtml.getHTML_hrefanchor(s_plt_cooling))\n",
    "    show_html(climahtml.getHTML_hrefanchor(s_tb_flux))\n",
    "    show_html(climahtml.getHTML_hrefanchor(s_bestfits))\n",
    "    \n",
    "    # Input parameters\n",
    "    show_html(climahtml.getHTML_idanchor(s_input))\n",
    "    show_markdown(climahtml.getMarkdown_sectitle(s_input))\n",
    "    print_input_param()\n",
    "    \n",
    "    # LBLNEW parameters \n",
    "    show_html(climahtml.getHTML_idanchor(s_lblnew_param))\n",
    "    show_markdown(climahtml.getMarkdown_sectitle(s_lblnew_param))\n",
    "    print_lblnew_param()\n",
    "    \n",
    "    # Cooling rate profiles\n",
    "    show_html(climahtml.getHTML_idanchor(s_plt_cooling))\n",
    "    show_markdown(climahtml.getMarkdown_sectitle(s_plt_cooling))\n",
    "    script_plt_cooling()\n",
    "    \n",
    "    # Flux comparison\n",
    "    show_html(climahtml.getHTML_idanchor(s_tb_flux))\n",
    "    show_markdown(climahtml.getMarkdown_sectitle(s_tb_flux))\n",
    "    script_tb_flux()\n",
    "    \n",
    "    # Best-fit values\n",
    "    show_html(climahtml.getHTML_idanchor(s_bestfits))\n",
    "    show_markdown(climahtml.getMarkdown_sectitle(s_bestfits))\n",
    "    print_bestfit_params()\n",
    "   \n",
    "    "
   ]
  },
  {
   "cell_type": "code",
   "execution_count": 12,
   "metadata": {
    "collapsed": true,
    "scrolled": false
   },
   "outputs": [
    {
     "data": {
      "text/markdown": [
       "### CLIRAD-LW"
      ],
      "text/plain": [
       "<IPython.core.display.Markdown object>"
      ]
     },
     "metadata": {},
     "output_type": "display_data"
    },
    {
     "data": {
      "text/markdown": [
       "### Table of Contents"
      ],
      "text/plain": [
       "<IPython.core.display.Markdown object>"
      ]
     },
     "metadata": {},
     "output_type": "display_data"
    },
    {
     "data": {
      "text/html": [
       "<a href=\"#Input_Parameters\">Input Parameters</a>"
      ],
      "text/plain": [
       "<IPython.core.display.HTML object>"
      ]
     },
     "metadata": {},
     "output_type": "display_data"
    },
    {
     "data": {
      "text/html": [
       "<a href=\"#LBLNEW_case_compaired_against\">LBLNEW case compaired against</a>"
      ],
      "text/plain": [
       "<IPython.core.display.HTML object>"
      ]
     },
     "metadata": {},
     "output_type": "display_data"
    },
    {
     "data": {
      "text/html": [
       "<a href=\"#Cooling_Rate_Profiles\">Cooling Rate Profiles</a>"
      ],
      "text/plain": [
       "<IPython.core.display.HTML object>"
      ]
     },
     "metadata": {},
     "output_type": "display_data"
    },
    {
     "data": {
      "text/html": [
       "<a href=\"#Flux_Comparison\">Flux Comparison</a>"
      ],
      "text/plain": [
       "<IPython.core.display.HTML object>"
      ]
     },
     "metadata": {},
     "output_type": "display_data"
    },
    {
     "data": {
      "text/html": [
       "<a href=\"#Best-fit_Parameters\">Best-fit Parameters</a>"
      ],
      "text/plain": [
       "<IPython.core.display.HTML object>"
      ]
     },
     "metadata": {},
     "output_type": "display_data"
    },
    {
     "data": {
      "text/html": [
       "<a id=\"Input_Parameters\"></a>"
      ],
      "text/plain": [
       "<IPython.core.display.HTML object>"
      ]
     },
     "metadata": {},
     "output_type": "display_data"
    },
    {
     "data": {
      "text/markdown": [
       "# Input Parameters"
      ],
      "text/plain": [
       "<IPython.core.display.Markdown object>"
      ]
     },
     "metadata": {},
     "output_type": "display_data"
    },
    {
     "name": "stdout",
     "output_type": "stream",
     "text": [
      "atmpro = trp\n",
      "band = [3]\n",
      "commitnumber = 9a64c27\n",
      "molecule = {'n2o': 3.2e-07}\n",
      "tsfc = 300\n"
     ]
    },
    {
     "data": {
      "text/html": [
       "<a id=\"LBLNEW_case_compaired_against\"></a>"
      ],
      "text/plain": [
       "<IPython.core.display.HTML object>"
      ]
     },
     "metadata": {},
     "output_type": "display_data"
    },
    {
     "data": {
      "text/markdown": [
       "# LBLNEW case compaired against"
      ],
      "text/plain": [
       "<IPython.core.display.Markdown object>"
      ]
     },
     "metadata": {},
     "output_type": "display_data"
    },
    {
     "name": "stdout",
     "output_type": "stream",
     "text": [
      "atmpro = trp\n",
      "band = 3a\n",
      "commitnumber = 2bd1f75\n",
      "conc = 3.2e-07\n",
      "dv = 0.01\n",
      "klin = 2.22e-20\n",
      "molecule = n2o\n",
      "ng_adju = [0, 0]\n",
      "ng_refs = [1, 2]\n",
      "nv = 100\n",
      "option_compute_btable = 0\n",
      "option_compute_ktable = 0\n",
      "option_wgt_flux = 1\n",
      "option_wgt_k = 1\n",
      "ref_pts = [(1, 250), (500, 250)]\n",
      "tsfc = 300\n",
      "vmax = 620\n",
      "vmin = 540\n",
      "w_diffuse = [(1.8,), (1.66, 1.8)]\n",
      "wgt = [(0.9,), (0.5, 0.95)]\n"
     ]
    },
    {
     "data": {
      "text/html": [
       "<a id=\"Cooling_Rate_Profiles\"></a>"
      ],
      "text/plain": [
       "<IPython.core.display.HTML object>"
      ]
     },
     "metadata": {},
     "output_type": "display_data"
    },
    {
     "data": {
      "text/markdown": [
       "# Cooling Rate Profiles"
      ],
      "text/plain": [
       "<IPython.core.display.Markdown object>"
      ]
     },
     "metadata": {},
     "output_type": "display_data"
    },
    {
     "data": {
      "text/html": [
       "\n",
       "<div class=\"bk-root\">\n",
       "    <div class=\"bk-plotdiv\" id=\"5a24111d-85c5-4de5-85b5-6e3e81bff555\"></div>\n",
       "</div>"
      ]
     },
     "metadata": {},
     "output_type": "display_data"
    },
    {
     "data": {
      "application/javascript": [
       "(function(root) {\n",
       "  function embed_document(root) {\n",
       "    \n",
       "  var docs_json = {\"092a465d-4928-4d1d-80e4-a456c959c2fc\":{\"roots\":{\"references\":[{\"attributes\":{},\"id\":\"88771852-3346-4a46-82a0-d653b1179b14\",\"type\":\"SaveTool\"},{\"attributes\":{},\"id\":\"950c64ff-30e5-49a4-914a-ce4aa1b00369\",\"type\":\"WheelZoomTool\"},{\"attributes\":{},\"id\":\"2c43235f-c8bb-40f7-aca6-ea9eb84b7719\",\"type\":\"HelpTool\"},{\"attributes\":{\"data_source\":{\"id\":\"81bad618-5c2e-478b-b173-d21be0ca0055\",\"type\":\"ColumnDataSource\"},\"glyph\":{\"id\":\"8bec3d79-fb3f-46b5-b56c-e5d38a7e7558\",\"type\":\"Line\"},\"hover_glyph\":null,\"muted_glyph\":null,\"nonselection_glyph\":{\"id\":\"b00aad5e-e2ce-4d71-927d-62702035aa0a\",\"type\":\"Line\"},\"selection_glyph\":null,\"view\":{\"id\":\"84e60c1f-a46a-4d7e-bf81-e0f3af1e0ec0\",\"type\":\"CDSView\"}},\"id\":\"f406e025-2e25-453b-aab3-0ea1c8036b78\",\"type\":\"GlyphRenderer\"},{\"attributes\":{\"line_color\":\"#4daf4a\",\"line_width\":1.5,\"x\":{\"field\":\"x\"},\"y\":{\"field\":\"y\"}},\"id\":\"4f7a09ea-d125-4aae-a90b-b30ea2a96617\",\"type\":\"Line\"},{\"attributes\":{},\"id\":\"1f906f79-16e4-4a8e-9145-ca72fc99db4d\",\"type\":\"ResetTool\"},{\"attributes\":{},\"id\":\"7da581ae-c8e6-4302-a777-8f0538bb92e3\",\"type\":\"SaveTool\"},{\"attributes\":{\"fill_alpha\":{\"value\":0.1},\"fill_color\":{\"value\":\"#1f77b4\"},\"line_alpha\":{\"value\":0.1},\"line_color\":{\"value\":\"#1f77b4\"},\"x\":{\"field\":\"x\"},\"y\":{\"field\":\"y\"}},\"id\":\"d2db86d3-8d07-4874-8470-91b67cbe4803\",\"type\":\"Circle\"},{\"attributes\":{},\"id\":\"e7064dbd-8803-4d42-b84c-45f054748ada\",\"type\":\"HelpTool\"},{\"attributes\":{\"callback\":null,\"column_names\":[\"x\",\"y\"],\"data\":{\"x\":{\"__ndarray__\":\"iDkYHOsDeT8nDhA0tVh5P/E7mBj8Uns/BXEKIVrBfD95F2X6iTF+P5lO2502pX8/hNw+TH+NgD/JuyCrJkuBP0TEha+zCYI/ifYaQlrKgj9D4dNeNIuDP7Llhi4CTYQ/NLCpgVMQhT+Z9ybwyASGP8zwB1IVkok/qcKkmoeDkD+4hm0Z3TKVP78oQX+hR5o/4JfwB+C/nz+F6v1+5cyiP2dMUcap6qU/s9OdlDriqD8lkhtXudapP9H9PBDQsqg/lSKwdGm8pj+J1yVFjCCkP+gHBvToZKE/TsZR6cJwnT9wfrFhxyuYP4ZY/RGGAZM/q7+s8DHPiz9jyLzVxNCBP/ckggEcLHA/L4Di+ugMRr/XttL7pxN4v935VeuKOoe/nTdLUmRwjr9hIYwC8XiOv1EwhBi/W4q/EaioQWtahr/Q2hHw4nuCv/NAwG++d32/3eBzvz0qdr8feK0iMhxuv7+ch0KsP2C/If7QBe61Nb+w2wOP2PdUP501USquYWc/dYwauRYAcj+BYb21eix4P5vrsb7TNX4/6AAk/tgQgj81OWM16fiEPwyrTaOW1Ic/2EPx5k2eij9vWeE911yNPwHetnpECJA/qbhBUuNckT/aPAFZ96uSPwvpHkmx8pM/du+mMPYrlT8GGnOkIU2WP7arVZCmR5c/E5pUz6oYmD/GAKLD8M+YP+Opju9nhZk/1hWCCLBJmj/tHeLdmSKbP230DhD8Cpw//kPF+xv7nD/H35iTh+2dP6r4KQjK354/3KBHozrRnz9T7ByOpGCgPw9Kiz/516A/\",\"dtype\":\"float64\",\"shape\":[75]},\"y\":{\"__ndarray__\":\"S/O/Q+51ND/Sv8nbtpRIP2vylNV0PVE/aTum7souWD/At0SJ8fVgPw3Iuahxymc/MSNhhJWvcD/bTfBN02d3P2zb5nxnaoA/CD5h5MAGhz8NmeH1TyaQP+zrCsc9p5Y/LbKd76fGnz/bLW5ISEmmPww9YvTcQq8/JV2OstnstT8Er5Y7M8G+P0c+r3jqkcU/5h99k6ZBzj88bCIzFzjVP4enV8oyxN0//yH99nXg5D8qOpLLf0jtP5kqGJXUifQ/c9cS8kHP/D+/DpwzojQEQIEmwoanVwxA4lgXt9HgE0BSSZ2AJuIbQAMJih9jjiNA5q4l5INuK0AwTKYKRj0zQNv5fmq8/DpAaCJseHrtQkB/+zpwzoxKQM3MzMzMeFJAZmZmZmZqWEAAAAAAAFxeQM3MzMzMJmJAmpmZmZkfZUBmZmZmZhhoQDMzMzMzEWtAAAAAAAAKbkBmZmZmZoFwQM3MzMzM/XFAMzMzMzN6c0CamZmZmfZ0QAAAAAAAc3ZAZmZmZmbvd0DNzMzMzGt5QDMzMzMz6HpAmpmZmZlkfEAAAAAAAOF9QGZmZmZmXX9AZmZmZuZsgECamZmZGSuBQM3MzMxM6YFAAAAAAICngkAzMzMzs2WDQGZmZmbmI4RAmpmZmRnihEDNzMzMTKCFQAAAAACAXoZAMzMzM7Mch0BmZmZm5tqHQJqZmZkZmYhAzczMzExXiUAAAAAAgBWKQDMzMzOz04pAZmZmZuaRi0CamZmZGVCMQM3MzMxMDo1AAAAAAIDMjUAzMzMzs4qOQGZmZmbmSI9A\",\"dtype\":\"float64\",\"shape\":[75]}}},\"id\":\"81bad618-5c2e-478b-b173-d21be0ca0055\",\"type\":\"ColumnDataSource\"},{\"attributes\":{},\"id\":\"f3ebaaf1-8fcb-4a24-8626-d220d865752e\",\"type\":\"WheelZoomTool\"},{\"attributes\":{\"callback\":null,\"end\":0.01,\"start\":1020},\"id\":\"b3ac9bed-c1a6-4040-97c1-3c2bc8bbdb74\",\"type\":\"Range1d\"},{\"attributes\":{\"active_drag\":\"auto\",\"active_inspect\":\"auto\",\"active_scroll\":\"auto\",\"active_tap\":\"auto\",\"tools\":[{\"id\":\"b2c34fc9-69c4-4dc3-961b-362289696345\",\"type\":\"PanTool\"},{\"id\":\"950c64ff-30e5-49a4-914a-ce4aa1b00369\",\"type\":\"WheelZoomTool\"},{\"id\":\"b6d5fd90-cf2f-49a0-80ef-d3255b1edc47\",\"type\":\"BoxZoomTool\"},{\"id\":\"88771852-3346-4a46-82a0-d653b1179b14\",\"type\":\"SaveTool\"},{\"id\":\"c6846798-253c-4099-9ed4-5e5610fd5a02\",\"type\":\"ResetTool\"},{\"id\":\"2c43235f-c8bb-40f7-aca6-ea9eb84b7719\",\"type\":\"HelpTool\"}]},\"id\":\"9421ff0f-1966-49d9-ad76-a33096f19e4f\",\"type\":\"Toolbar\"},{\"attributes\":{},\"id\":\"43f3a474-d8ed-4529-8d80-0e3fb81c14ae\",\"type\":\"PanTool\"},{\"attributes\":{\"data_source\":{\"id\":\"056fec6d-4c4b-4edb-957c-6ae3e47da2c1\",\"type\":\"ColumnDataSource\"},\"glyph\":{\"id\":\"d069cc28-0d1b-49e9-bb36-c06de098cb91\",\"type\":\"Circle\"},\"hover_glyph\":null,\"muted_glyph\":null,\"nonselection_glyph\":{\"id\":\"d2db86d3-8d07-4874-8470-91b67cbe4803\",\"type\":\"Circle\"},\"selection_glyph\":null,\"view\":{\"id\":\"a99abeca-6862-47cd-99f2-802acab2b2c2\",\"type\":\"CDSView\"}},\"id\":\"f3aabf9f-e1ca-4095-b26e-9f00bc68426f\",\"type\":\"GlyphRenderer\"},{\"attributes\":{\"fill_alpha\":{\"value\":0.7},\"fill_color\":{\"value\":\"#4daf4a\"},\"line_alpha\":{\"value\":0.7},\"line_color\":{\"value\":\"#4daf4a\"},\"x\":{\"field\":\"x\"},\"y\":{\"field\":\"y\"}},\"id\":\"d069cc28-0d1b-49e9-bb36-c06de098cb91\",\"type\":\"Circle\"},{\"attributes\":{\"overlay\":{\"id\":\"4c306032-a250-4afd-8748-fcd258d72069\",\"type\":\"BoxAnnotation\"}},\"id\":\"ff966c64-3745-437d-9d3f-18a5ca25800b\",\"type\":\"BoxZoomTool\"},{\"attributes\":{\"axis_label\":\"cooling rate [K/day]\",\"formatter\":{\"id\":\"e292d4f3-b2fd-4dac-ab5b-7dc8e321927d\",\"type\":\"BasicTickFormatter\"},\"plot\":{\"id\":\"bfbdb912-4eeb-4aae-ab78-4ad6027c70c5\",\"subtype\":\"Figure\",\"type\":\"Plot\"},\"ticker\":{\"id\":\"d9d720ce-f346-43aa-96fd-798b07663b92\",\"type\":\"BasicTicker\"}},\"id\":\"b8cc846a-2e74-42c1-aad3-1beecc9b48fe\",\"type\":\"LinearAxis\"},{\"attributes\":{},\"id\":\"d9d720ce-f346-43aa-96fd-798b07663b92\",\"type\":\"BasicTicker\"},{\"attributes\":{\"tools\":[{\"id\":\"b2c34fc9-69c4-4dc3-961b-362289696345\",\"type\":\"PanTool\"},{\"id\":\"950c64ff-30e5-49a4-914a-ce4aa1b00369\",\"type\":\"WheelZoomTool\"},{\"id\":\"b6d5fd90-cf2f-49a0-80ef-d3255b1edc47\",\"type\":\"BoxZoomTool\"},{\"id\":\"88771852-3346-4a46-82a0-d653b1179b14\",\"type\":\"SaveTool\"},{\"id\":\"c6846798-253c-4099-9ed4-5e5610fd5a02\",\"type\":\"ResetTool\"},{\"id\":\"2c43235f-c8bb-40f7-aca6-ea9eb84b7719\",\"type\":\"HelpTool\"},{\"id\":\"43f3a474-d8ed-4529-8d80-0e3fb81c14ae\",\"type\":\"PanTool\"},{\"id\":\"f3ebaaf1-8fcb-4a24-8626-d220d865752e\",\"type\":\"WheelZoomTool\"},{\"id\":\"ff966c64-3745-437d-9d3f-18a5ca25800b\",\"type\":\"BoxZoomTool\"},{\"id\":\"7da581ae-c8e6-4302-a777-8f0538bb92e3\",\"type\":\"SaveTool\"},{\"id\":\"1f906f79-16e4-4a8e-9145-ca72fc99db4d\",\"type\":\"ResetTool\"},{\"id\":\"e7064dbd-8803-4d42-b84c-45f054748ada\",\"type\":\"HelpTool\"}]},\"id\":\"cf8b593d-faa9-4e23-b8b9-61a17d28ab96\",\"type\":\"ProxyToolbar\"},{\"attributes\":{\"bottom_units\":\"screen\",\"fill_alpha\":{\"value\":0.5},\"fill_color\":{\"value\":\"lightgrey\"},\"left_units\":\"screen\",\"level\":\"overlay\",\"line_alpha\":{\"value\":1.0},\"line_color\":{\"value\":\"black\"},\"line_dash\":[4,4],\"line_width\":{\"value\":2},\"plot\":null,\"render_mode\":\"css\",\"right_units\":\"screen\",\"top_units\":\"screen\"},\"id\":\"e6fd5b03-991d-43d4-b769-75a2baccee0d\",\"type\":\"BoxAnnotation\"},{\"attributes\":{\"items\":[{\"id\":\"b434d991-d403-4f9f-9a54-3186e8f4102c\",\"type\":\"LegendItem\"},{\"id\":\"3d7767c6-d602-4da9-a688-0e110885677d\",\"type\":\"LegendItem\"},{\"id\":\"82a9475c-bc07-4e4b-b0b3-96ff127780d1\",\"type\":\"LegendItem\"}],\"label_text_font_size\":{\"value\":\"8pt\"},\"location\":[10,-30],\"plot\":{\"id\":\"829cb8a4-5c76-4333-9db9-1414ec8519ba\",\"subtype\":\"Figure\",\"type\":\"Plot\"}},\"id\":\"099ed1d2-b5cb-4099-be8e-b03c4098a353\",\"type\":\"Legend\"},{\"attributes\":{},\"id\":\"cbae0ee5-f44b-4b8c-80d9-a72de9c3826a\",\"type\":\"BasicTicker\"},{\"attributes\":{\"axis_label\":\"pressure [mb]\",\"formatter\":{\"id\":\"b8389fca-da73-4e8c-8a12-ed8cf0b3ecd6\",\"type\":\"BasicTickFormatter\"},\"plot\":{\"id\":\"bfbdb912-4eeb-4aae-ab78-4ad6027c70c5\",\"subtype\":\"Figure\",\"type\":\"Plot\"},\"ticker\":{\"id\":\"cbae0ee5-f44b-4b8c-80d9-a72de9c3826a\",\"type\":\"BasicTicker\"}},\"id\":\"d1aae6af-844f-4b7a-b854-61245b0a5b5b\",\"type\":\"LinearAxis\"},{\"attributes\":{\"line_alpha\":0.1,\"line_color\":\"#1f77b4\",\"line_dash\":[6],\"line_width\":5,\"x\":{\"field\":\"x\"},\"y\":{\"field\":\"y\"}},\"id\":\"63dc0034-8eb7-47c9-a0e7-3b79241e2f9b\",\"type\":\"Line\"},{\"attributes\":{\"callback\":null,\"column_names\":[\"x\",\"y\"],\"data\":{\"x\":{\"__ndarray__\":\"iDkYHOsDeT8nDhA0tVh5P/E7mBj8Uns/BXEKIVrBfD95F2X6iTF+P5lO2502pX8/hNw+TH+NgD/JuyCrJkuBP0TEha+zCYI/ifYaQlrKgj9D4dNeNIuDP7Llhi4CTYQ/NLCpgVMQhT+Z9ybwyASGP8zwB1IVkok/qcKkmoeDkD+4hm0Z3TKVP78oQX+hR5o/4JfwB+C/nz+F6v1+5cyiP2dMUcap6qU/s9OdlDriqD8lkhtXudapP9H9PBDQsqg/lSKwdGm8pj+J1yVFjCCkP+gHBvToZKE/TsZR6cJwnT9wfrFhxyuYP4ZY/RGGAZM/q7+s8DHPiz9jyLzVxNCBP/ckggEcLHA/L4Di+ugMRr/XttL7pxN4v935VeuKOoe/nTdLUmRwjr9hIYwC8XiOv1EwhBi/W4q/EaioQWtahr/Q2hHw4nuCv/NAwG++d32/3eBzvz0qdr8feK0iMhxuv7+ch0KsP2C/If7QBe61Nb+w2wOP2PdUP501USquYWc/dYwauRYAcj+BYb21eix4P5vrsb7TNX4/6AAk/tgQgj81OWM16fiEPwyrTaOW1Ic/2EPx5k2eij9vWeE911yNPwHetnpECJA/qbhBUuNckT/aPAFZ96uSPwvpHkmx8pM/du+mMPYrlT8GGnOkIU2WP7arVZCmR5c/E5pUz6oYmD/GAKLD8M+YP+Opju9nhZk/1hWCCLBJmj/tHeLdmSKbP230DhD8Cpw//kPF+xv7nD/H35iTh+2dP6r4KQjK354/3KBHozrRnz9T7ByOpGCgPw9Kiz/516A/\",\"dtype\":\"float64\",\"shape\":[75]},\"y\":{\"__ndarray__\":\"S/O/Q+51ND/Sv8nbtpRIP2vylNV0PVE/aTum7souWD/At0SJ8fVgPw3Iuahxymc/MSNhhJWvcD/bTfBN02d3P2zb5nxnaoA/CD5h5MAGhz8NmeH1TyaQP+zrCsc9p5Y/LbKd76fGnz/bLW5ISEmmPww9YvTcQq8/JV2OstnstT8Er5Y7M8G+P0c+r3jqkcU/5h99k6ZBzj88bCIzFzjVP4enV8oyxN0//yH99nXg5D8qOpLLf0jtP5kqGJXUifQ/c9cS8kHP/D+/DpwzojQEQIEmwoanVwxA4lgXt9HgE0BSSZ2AJuIbQAMJih9jjiNA5q4l5INuK0AwTKYKRj0zQNv5fmq8/DpAaCJseHrtQkB/+zpwzoxKQM3MzMzMeFJAZmZmZmZqWEAAAAAAAFxeQM3MzMzMJmJAmpmZmZkfZUBmZmZmZhhoQDMzMzMzEWtAAAAAAAAKbkBmZmZmZoFwQM3MzMzM/XFAMzMzMzN6c0CamZmZmfZ0QAAAAAAAc3ZAZmZmZmbvd0DNzMzMzGt5QDMzMzMz6HpAmpmZmZlkfEAAAAAAAOF9QGZmZmZmXX9AZmZmZuZsgECamZmZGSuBQM3MzMxM6YFAAAAAAICngkAzMzMzs2WDQGZmZmbmI4RAmpmZmRnihEDNzMzMTKCFQAAAAACAXoZAMzMzM7Mch0BmZmZm5tqHQJqZmZkZmYhAzczMzExXiUAAAAAAgBWKQDMzMzOz04pAZmZmZuaRi0CamZmZGVCMQM3MzMxMDo1AAAAAAIDMjUAzMzMzs4qOQGZmZmbmSI9A\",\"dtype\":\"float64\",\"shape\":[75]}}},\"id\":\"6c5d7495-1dab-416e-9f55-632ac9a09fdd\",\"type\":\"ColumnDataSource\"},{\"attributes\":{\"children\":[{\"id\":\"7278fb05-b7d4-42a4-bd5a-3bdbc18d055b\",\"type\":\"Row\"}]},\"id\":\"b858ab76-6341-4c9a-8876-ad1e1331ac75\",\"type\":\"Column\"},{\"attributes\":{},\"id\":\"6b783776-0d73-4393-af63-7e6d1163743d\",\"type\":\"LinearScale\"},{\"attributes\":{\"label\":{\"value\":\"CLIRAD `coolr_bands`\"},\"renderers\":[{\"id\":\"e9ace475-6776-4542-a470-3c8713c98367\",\"type\":\"GlyphRenderer\"}]},\"id\":\"b434d991-d403-4f9f-9a54-3186e8f4102c\",\"type\":\"LegendItem\"},{\"attributes\":{\"callback\":null,\"column_names\":[\"x\",\"y\"],\"data\":{\"x\":{\"__ndarray__\":\"VTm6OJQbUT9jfCnX83BUP1iI/OaGbls/zWaZO7ZCYT9vZBEYoddkP/t1tmZ8dmg/nCXSwzoYbD8gdaGU9cRvP+gOKeGltnE/szqIiUWNcz+ePbncV1t1P399xp8OBnc/Tzya/Ky4eD81/2+xCcV6PzGl1PI6k4E/4/MbCsV0ij988JPQgdiSP1oLSewu3pg/y7RbnSxNnz/Ix39lyxCjP0ATEHzUq6Y/5YWuI5IRqj8Vep/Yeu6qP0+fAxxZMak/8hQHCpuFpj8TSLmW8TijP/hEwurUBKA/B06cLTdQmj9QwqWTB0qVP604BZSu4pA/8yAuGuHWiT/5OjnbjVKCPxzVxuiioHU/LzriEvz9Vj+4ZEXrKTRvv1pRdj8WvoS/FHu+H+Tgjb+xaof0GDuOvyVUZgbOcom/ahoeP3cphb8dSLngNTSBvyRnS9jq8nq/QPW6RoXRc7+0wYpWHPVpvzaly8qOh1m/995/z5bZqz6261CXjdFYP+VyViCHfGg/j36Nwjsicj9S/2L3EuN3PxEV+eFfhX0/bfnlaN6FgT9pWiKTrDyEP3RrmsMq6IY/YcU3gdqJiT+vuEKcqiKMP9g4IcjPs44/1ZBixxmfkD/gXTGayt+RPwUWDCPHGpM/gC32MftJlD/Xn2ku3F6VP4GIzfqmRpY/S6h2DOP8lj/7ZfibxZWXP6nzfXhjL5g/hGmF2lDgmD87TT70366ZP+IBNRqYk5o/Xi3pu2qEmz+fZ2CiSXucP6zD7arpdZ0/aaE58g1znj/REX9odHSfPwxLWvbGPqA/\",\"dtype\":\"float64\",\"shape\":[75]},\"y\":{\"__ndarray__\":\"GhExyth1ND/Sv8nbtpRIP2vylNV0PVE/aTum7souWD/At0SJ8fVgPw3Iuahxymc/MSNhhJWvcD/bTfBN02d3P2zb5nxnaoA/CD5h5MAGhz8NmeH1TyaQP+zrCsc9p5Y/LbKd76fGnz/bLW5ISEmmPww9YvTcQq8/JV2OstnstT8Er5Y7M8G+P0c+r3jqkcU/5h99k6ZBzj88bCIzFzjVP4enV8oyxN0//yH99nXg5D8qOpLLf0jtP5kqGJXUifQ/c9cS8kHP/D+/DpwzojQEQIEmwoanVwxA4lgXt9HgE0BSSZ2AJuIbQAMJih9jjiNA5q4l5INuK0AwTKYKRj0zQNv5fmq8/DpAaCJseHrtQkB/+zpwzoxKQM3MzMzMeFJAZmZmZmZqWEAAAAAAAFxeQM3MzMzMJmJAmpmZmZkfZUBmZmZmZhhoQDMzMzMzEWtAAAAAAAAKbkBmZmZmZoFwQM3MzMzM/XFAMzMzMzN6c0CamZmZmfZ0QAAAAAAAc3ZAZmZmZmbvd0DNzMzMzGt5QDMzMzMz6HpAmpmZmZlkfEAAAAAAAOF9QGZmZmZmXX9AZmZmZuZsgECamZmZGSuBQM3MzMxM6YFAAAAAAICngkAzMzMzs2WDQGZmZmbmI4RAmpmZmRnihEDNzMzMTKCFQAAAAACAXoZAMzMzM7Mch0BmZmZm5tqHQJqZmZkZmYhAzczMzExXiUAAAAAAgBWKQDMzMzOz04pAZmZmZuaRi0CamZmZGVCMQM3MzMxMDo1AAAAAAIDMjUAzMzMzs4qOQGZmZmbmSI9A\",\"dtype\":\"float64\",\"shape\":[75]}}},\"id\":\"056fec6d-4c4b-4edb-957c-6ae3e47da2c1\",\"type\":\"ColumnDataSource\"},{\"attributes\":{\"axis_label\":\"pressure [mb]\",\"formatter\":{\"id\":\"89aafbfd-6b59-437b-9906-0f3dbcabdd39\",\"type\":\"LogTickFormatter\"},\"plot\":{\"id\":\"829cb8a4-5c76-4333-9db9-1414ec8519ba\",\"subtype\":\"Figure\",\"type\":\"Plot\"},\"ticker\":{\"id\":\"27948d27-4b93-4d9a-b068-d11f0d8764ba\",\"type\":\"LogTicker\"}},\"id\":\"5c0f9c9c-c452-4476-b682-2010e11cdae0\",\"type\":\"LogAxis\"},{\"attributes\":{\"plot\":{\"id\":\"bfbdb912-4eeb-4aae-ab78-4ad6027c70c5\",\"subtype\":\"Figure\",\"type\":\"Plot\"},\"ticker\":{\"id\":\"d9d720ce-f346-43aa-96fd-798b07663b92\",\"type\":\"BasicTicker\"}},\"id\":\"6bcce2c3-9d30-403e-b1da-767d3178d815\",\"type\":\"Grid\"},{\"attributes\":{\"dimension\":1,\"plot\":{\"id\":\"bfbdb912-4eeb-4aae-ab78-4ad6027c70c5\",\"subtype\":\"Figure\",\"type\":\"Plot\"},\"ticker\":{\"id\":\"cbae0ee5-f44b-4b8c-80d9-a72de9c3826a\",\"type\":\"BasicTicker\"}},\"id\":\"152fda9f-ee18-4a40-8cb1-89e2c2e43d81\",\"type\":\"Grid\"},{\"attributes\":{\"children\":[{\"id\":\"bfbdb912-4eeb-4aae-ab78-4ad6027c70c5\",\"subtype\":\"Figure\",\"type\":\"Plot\"},{\"id\":\"829cb8a4-5c76-4333-9db9-1414ec8519ba\",\"subtype\":\"Figure\",\"type\":\"Plot\"}]},\"id\":\"7278fb05-b7d4-42a4-bd5a-3bdbc18d055b\",\"type\":\"Row\"},{\"attributes\":{\"plot\":null,\"text\":\"Linear pressure scale\"},\"id\":\"de4867d1-3142-401a-a2e3-fd3ceef9b811\",\"type\":\"Title\"},{\"attributes\":{},\"id\":\"b2c34fc9-69c4-4dc3-961b-362289696345\",\"type\":\"PanTool\"},{\"attributes\":{\"data_source\":{\"id\":\"6c5d7495-1dab-416e-9f55-632ac9a09fdd\",\"type\":\"ColumnDataSource\"},\"glyph\":{\"id\":\"6603bf7e-41fa-440f-82c4-dd2cb81cf6d2\",\"type\":\"Line\"},\"hover_glyph\":null,\"muted_glyph\":null,\"nonselection_glyph\":{\"id\":\"63dc0034-8eb7-47c9-a0e7-3b79241e2f9b\",\"type\":\"Line\"},\"selection_glyph\":null,\"view\":{\"id\":\"a14aae5d-162a-4fdf-94a6-a3d4540ee776\",\"type\":\"CDSView\"}},\"id\":\"e9ace475-6776-4542-a470-3c8713c98367\",\"type\":\"GlyphRenderer\"},{\"attributes\":{},\"id\":\"c6846798-253c-4099-9ed4-5e5610fd5a02\",\"type\":\"ResetTool\"},{\"attributes\":{\"callback\":null,\"column_names\":[\"x\",\"y\"],\"data\":{\"x\":{\"__ndarray__\":\"VTm6OJQbUT9jfCnX83BUP1iI/OaGbls/zWaZO7ZCYT9vZBEYoddkP/t1tmZ8dmg/nCXSwzoYbD8gdaGU9cRvP+gOKeGltnE/szqIiUWNcz+ePbncV1t1P399xp8OBnc/Tzya/Ky4eD81/2+xCcV6PzGl1PI6k4E/4/MbCsV0ij988JPQgdiSP1oLSewu3pg/y7RbnSxNnz/Ix39lyxCjP0ATEHzUq6Y/5YWuI5IRqj8Vep/Yeu6qP0+fAxxZMak/8hQHCpuFpj8TSLmW8TijP/hEwurUBKA/B06cLTdQmj9QwqWTB0qVP604BZSu4pA/8yAuGuHWiT/5OjnbjVKCPxzVxuiioHU/LzriEvz9Vj+4ZEXrKTRvv1pRdj8WvoS/FHu+H+Tgjb+xaof0GDuOvyVUZgbOcom/ahoeP3cphb8dSLngNTSBvyRnS9jq8nq/QPW6RoXRc7+0wYpWHPVpvzaly8qOh1m/995/z5bZqz6261CXjdFYP+VyViCHfGg/j36Nwjsicj9S/2L3EuN3PxEV+eFfhX0/bfnlaN6FgT9pWiKTrDyEP3RrmsMq6IY/YcU3gdqJiT+vuEKcqiKMP9g4IcjPs44/1ZBixxmfkD/gXTGayt+RPwUWDCPHGpM/gC32MftJlD/Xn2ku3F6VP4GIzfqmRpY/S6h2DOP8lj/7ZfibxZWXP6nzfXhjL5g/hGmF2lDgmD87TT70366ZP+IBNRqYk5o/Xi3pu2qEmz+fZ2CiSXucP6zD7arpdZ0/aaE58g1znj/REX9odHSfPwxLWvbGPqA/\",\"dtype\":\"float64\",\"shape\":[75]},\"y\":{\"__ndarray__\":\"GhExyth1ND/Sv8nbtpRIP2vylNV0PVE/aTum7souWD/At0SJ8fVgPw3Iuahxymc/MSNhhJWvcD/bTfBN02d3P2zb5nxnaoA/CD5h5MAGhz8NmeH1TyaQP+zrCsc9p5Y/LbKd76fGnz/bLW5ISEmmPww9YvTcQq8/JV2OstnstT8Er5Y7M8G+P0c+r3jqkcU/5h99k6ZBzj88bCIzFzjVP4enV8oyxN0//yH99nXg5D8qOpLLf0jtP5kqGJXUifQ/c9cS8kHP/D+/DpwzojQEQIEmwoanVwxA4lgXt9HgE0BSSZ2AJuIbQAMJih9jjiNA5q4l5INuK0AwTKYKRj0zQNv5fmq8/DpAaCJseHrtQkB/+zpwzoxKQM3MzMzMeFJAZmZmZmZqWEAAAAAAAFxeQM3MzMzMJmJAmpmZmZkfZUBmZmZmZhhoQDMzMzMzEWtAAAAAAAAKbkBmZmZmZoFwQM3MzMzM/XFAMzMzMzN6c0CamZmZmfZ0QAAAAAAAc3ZAZmZmZmbvd0DNzMzMzGt5QDMzMzMz6HpAmpmZmZlkfEAAAAAAAOF9QGZmZmZmXX9AZmZmZuZsgECamZmZGSuBQM3MzMxM6YFAAAAAAICngkAzMzMzs2WDQGZmZmbmI4RAmpmZmRnihEDNzMzMTKCFQAAAAACAXoZAMzMzM7Mch0BmZmZm5tqHQJqZmZkZmYhAzczMzExXiUAAAAAAgBWKQDMzMzOz04pAZmZmZuaRi0CamZmZGVCMQM3MzMxMDo1AAAAAAIDMjUAzMzMzs4qOQGZmZmbmSI9A\",\"dtype\":\"float64\",\"shape\":[75]}}},\"id\":\"ad953c3b-97ce-49d7-8be5-63ec44bfa044\",\"type\":\"ColumnDataSource\"},{\"attributes\":{\"source\":{\"id\":\"056fec6d-4c4b-4edb-957c-6ae3e47da2c1\",\"type\":\"ColumnDataSource\"}},\"id\":\"a99abeca-6862-47cd-99f2-802acab2b2c2\",\"type\":\"CDSView\"},{\"attributes\":{},\"id\":\"23c58e1e-cf42-48e0-8ad3-40d9d24cab9a\",\"type\":\"LinearScale\"},{\"attributes\":{\"line_alpha\":0.6,\"line_color\":\"#e41a1c\",\"line_dash\":[6],\"line_width\":5,\"x\":{\"field\":\"x\"},\"y\":{\"field\":\"y\"}},\"id\":\"6603bf7e-41fa-440f-82c4-dd2cb81cf6d2\",\"type\":\"Line\"},{\"attributes\":{\"overlay\":{\"id\":\"e6fd5b03-991d-43d4-b769-75a2baccee0d\",\"type\":\"BoxAnnotation\"}},\"id\":\"b6d5fd90-cf2f-49a0-80ef-d3255b1edc47\",\"type\":\"BoxZoomTool\"},{\"attributes\":{\"bottom_units\":\"screen\",\"fill_alpha\":{\"value\":0.5},\"fill_color\":{\"value\":\"lightgrey\"},\"left_units\":\"screen\",\"level\":\"overlay\",\"line_alpha\":{\"value\":1.0},\"line_color\":{\"value\":\"black\"},\"line_dash\":[4,4],\"line_width\":{\"value\":2},\"plot\":null,\"render_mode\":\"css\",\"right_units\":\"screen\",\"top_units\":\"screen\"},\"id\":\"4c306032-a250-4afd-8748-fcd258d72069\",\"type\":\"BoxAnnotation\"},{\"attributes\":{\"source\":{\"id\":\"ad953c3b-97ce-49d7-8be5-63ec44bfa044\",\"type\":\"ColumnDataSource\"}},\"id\":\"bc2bf7a6-b159-492a-8ce1-4b4cb66625f9\",\"type\":\"CDSView\"},{\"attributes\":{\"data_source\":{\"id\":\"25137225-e0cd-4c1a-9719-d4f5ca672d0b\",\"type\":\"ColumnDataSource\"},\"glyph\":{\"id\":\"18379b3a-1614-46c1-8014-7ae80be262f4\",\"type\":\"Circle\"},\"hover_glyph\":null,\"muted_glyph\":null,\"nonselection_glyph\":{\"id\":\"f937f726-196e-4dd4-8cbb-d6b858aa1e64\",\"type\":\"Circle\"},\"selection_glyph\":null,\"view\":{\"id\":\"f633d093-ace0-46eb-8098-6b02f612dbbd\",\"type\":\"CDSView\"}},\"id\":\"82c72045-2eba-4d12-a667-896e63a5465f\",\"type\":\"GlyphRenderer\"},{\"attributes\":{\"callback\":null,\"column_names\":[\"x\",\"y\"],\"data\":{\"x\":{\"__ndarray__\":\"VTm6OJQbUT9jfCnX83BUP1iI/OaGbls/zWaZO7ZCYT9vZBEYoddkP/t1tmZ8dmg/nCXSwzoYbD8gdaGU9cRvP+gOKeGltnE/szqIiUWNcz+ePbncV1t1P399xp8OBnc/Tzya/Ky4eD81/2+xCcV6PzGl1PI6k4E/4/MbCsV0ij988JPQgdiSP1oLSewu3pg/y7RbnSxNnz/Ix39lyxCjP0ATEHzUq6Y/5YWuI5IRqj8Vep/Yeu6qP0+fAxxZMak/8hQHCpuFpj8TSLmW8TijP/hEwurUBKA/B06cLTdQmj9QwqWTB0qVP604BZSu4pA/8yAuGuHWiT/5OjnbjVKCPxzVxuiioHU/LzriEvz9Vj+4ZEXrKTRvv1pRdj8WvoS/FHu+H+Tgjb+xaof0GDuOvyVUZgbOcom/ahoeP3cphb8dSLngNTSBvyRnS9jq8nq/QPW6RoXRc7+0wYpWHPVpvzaly8qOh1m/995/z5bZqz6261CXjdFYP+VyViCHfGg/j36Nwjsicj9S/2L3EuN3PxEV+eFfhX0/bfnlaN6FgT9pWiKTrDyEP3RrmsMq6IY/YcU3gdqJiT+vuEKcqiKMP9g4IcjPs44/1ZBixxmfkD/gXTGayt+RPwUWDCPHGpM/gC32MftJlD/Xn2ku3F6VP4GIzfqmRpY/S6h2DOP8lj/7ZfibxZWXP6nzfXhjL5g/hGmF2lDgmD87TT70366ZP+IBNRqYk5o/Xi3pu2qEmz+fZ2CiSXucP6zD7arpdZ0/aaE58g1znj/REX9odHSfPwxLWvbGPqA/\",\"dtype\":\"float64\",\"shape\":[75]},\"y\":{\"__ndarray__\":\"GhExyth1ND/Sv8nbtpRIP2vylNV0PVE/aTum7souWD/At0SJ8fVgPw3Iuahxymc/MSNhhJWvcD/bTfBN02d3P2zb5nxnaoA/CD5h5MAGhz8NmeH1TyaQP+zrCsc9p5Y/LbKd76fGnz/bLW5ISEmmPww9YvTcQq8/JV2OstnstT8Er5Y7M8G+P0c+r3jqkcU/5h99k6ZBzj88bCIzFzjVP4enV8oyxN0//yH99nXg5D8qOpLLf0jtP5kqGJXUifQ/c9cS8kHP/D+/DpwzojQEQIEmwoanVwxA4lgXt9HgE0BSSZ2AJuIbQAMJih9jjiNA5q4l5INuK0AwTKYKRj0zQNv5fmq8/DpAaCJseHrtQkB/+zpwzoxKQM3MzMzMeFJAZmZmZmZqWEAAAAAAAFxeQM3MzMzMJmJAmpmZmZkfZUBmZmZmZhhoQDMzMzMzEWtAAAAAAAAKbkBmZmZmZoFwQM3MzMzM/XFAMzMzMzN6c0CamZmZmfZ0QAAAAAAAc3ZAZmZmZmbvd0DNzMzMzGt5QDMzMzMz6HpAmpmZmZlkfEAAAAAAAOF9QGZmZmZmXX9AZmZmZuZsgECamZmZGSuBQM3MzMxM6YFAAAAAAICngkAzMzMzs2WDQGZmZmbmI4RAmpmZmRnihEDNzMzMTKCFQAAAAACAXoZAMzMzM7Mch0BmZmZm5tqHQJqZmZkZmYhAzczMzExXiUAAAAAAgBWKQDMzMzOz04pAZmZmZuaRi0CamZmZGVCMQM3MzMxMDo1AAAAAAIDMjUAzMzMzs4qOQGZmZmbmSI9A\",\"dtype\":\"float64\",\"shape\":[75]}}},\"id\":\"e452d8e7-9544-40b6-b4f8-ea930d38ac40\",\"type\":\"ColumnDataSource\"},{\"attributes\":{},\"id\":\"e292d4f3-b2fd-4dac-ab5b-7dc8e321927d\",\"type\":\"BasicTickFormatter\"},{\"attributes\":{\"data_source\":{\"id\":\"ad953c3b-97ce-49d7-8be5-63ec44bfa044\",\"type\":\"ColumnDataSource\"},\"glyph\":{\"id\":\"4f7a09ea-d125-4aae-a90b-b30ea2a96617\",\"type\":\"Line\"},\"hover_glyph\":null,\"muted_glyph\":null,\"nonselection_glyph\":{\"id\":\"92204959-4868-41b8-ae74-181ad8c83d2e\",\"type\":\"Line\"},\"selection_glyph\":null,\"view\":{\"id\":\"bc2bf7a6-b159-492a-8ce1-4b4cb66625f9\",\"type\":\"CDSView\"}},\"id\":\"63ca02a3-e6b1-4626-9270-08e56d77b0a5\",\"type\":\"GlyphRenderer\"},{\"attributes\":{\"line_alpha\":0.1,\"line_color\":\"#1f77b4\",\"line_dash\":[6],\"line_width\":5,\"x\":{\"field\":\"x\"},\"y\":{\"field\":\"y\"}},\"id\":\"b00aad5e-e2ce-4d71-927d-62702035aa0a\",\"type\":\"Line\"},{\"attributes\":{},\"id\":\"402c602a-891c-41c4-911c-e1fe7f7d745c\",\"type\":\"BasicTickFormatter\"},{\"attributes\":{\"plot\":null,\"text\":\"Log pressure scale\"},\"id\":\"977e42e8-ca7a-4d66-955a-683bed3271f0\",\"type\":\"Title\"},{\"attributes\":{\"callback\":null,\"column_names\":[\"x\",\"y\"],\"data\":{\"x\":{\"__ndarray__\":\"VTm6OJQbUT9jfCnX83BUP1iI/OaGbls/zWaZO7ZCYT9vZBEYoddkP/t1tmZ8dmg/nCXSwzoYbD8gdaGU9cRvP+gOKeGltnE/szqIiUWNcz+ePbncV1t1P399xp8OBnc/Tzya/Ky4eD81/2+xCcV6PzGl1PI6k4E/4/MbCsV0ij988JPQgdiSP1oLSewu3pg/y7RbnSxNnz/Ix39lyxCjP0ATEHzUq6Y/5YWuI5IRqj8Vep/Yeu6qP0+fAxxZMak/8hQHCpuFpj8TSLmW8TijP/hEwurUBKA/B06cLTdQmj9QwqWTB0qVP604BZSu4pA/8yAuGuHWiT/5OjnbjVKCPxzVxuiioHU/LzriEvz9Vj+4ZEXrKTRvv1pRdj8WvoS/FHu+H+Tgjb+xaof0GDuOvyVUZgbOcom/ahoeP3cphb8dSLngNTSBvyRnS9jq8nq/QPW6RoXRc7+0wYpWHPVpvzaly8qOh1m/995/z5bZqz6261CXjdFYP+VyViCHfGg/j36Nwjsicj9S/2L3EuN3PxEV+eFfhX0/bfnlaN6FgT9pWiKTrDyEP3RrmsMq6IY/YcU3gdqJiT+vuEKcqiKMP9g4IcjPs44/1ZBixxmfkD/gXTGayt+RPwUWDCPHGpM/gC32MftJlD/Xn2ku3F6VP4GIzfqmRpY/S6h2DOP8lj/7ZfibxZWXP6nzfXhjL5g/hGmF2lDgmD87TT70366ZP+IBNRqYk5o/Xi3pu2qEmz+fZ2CiSXucP6zD7arpdZ0/aaE58g1znj/REX9odHSfPwxLWvbGPqA/\",\"dtype\":\"float64\",\"shape\":[75]},\"y\":{\"__ndarray__\":\"GhExyth1ND/Sv8nbtpRIP2vylNV0PVE/aTum7souWD/At0SJ8fVgPw3Iuahxymc/MSNhhJWvcD/bTfBN02d3P2zb5nxnaoA/CD5h5MAGhz8NmeH1TyaQP+zrCsc9p5Y/LbKd76fGnz/bLW5ISEmmPww9YvTcQq8/JV2OstnstT8Er5Y7M8G+P0c+r3jqkcU/5h99k6ZBzj88bCIzFzjVP4enV8oyxN0//yH99nXg5D8qOpLLf0jtP5kqGJXUifQ/c9cS8kHP/D+/DpwzojQEQIEmwoanVwxA4lgXt9HgE0BSSZ2AJuIbQAMJih9jjiNA5q4l5INuK0AwTKYKRj0zQNv5fmq8/DpAaCJseHrtQkB/+zpwzoxKQM3MzMzMeFJAZmZmZmZqWEAAAAAAAFxeQM3MzMzMJmJAmpmZmZkfZUBmZmZmZhhoQDMzMzMzEWtAAAAAAAAKbkBmZmZmZoFwQM3MzMzM/XFAMzMzMzN6c0CamZmZmfZ0QAAAAAAAc3ZAZmZmZmbvd0DNzMzMzGt5QDMzMzMz6HpAmpmZmZlkfEAAAAAAAOF9QGZmZmZmXX9AZmZmZuZsgECamZmZGSuBQM3MzMxM6YFAAAAAAICngkAzMzMzs2WDQGZmZmbmI4RAmpmZmRnihEDNzMzMTKCFQAAAAACAXoZAMzMzM7Mch0BmZmZm5tqHQJqZmZkZmYhAzczMzExXiUAAAAAAgBWKQDMzMzOz04pAZmZmZuaRi0CamZmZGVCMQM3MzMxMDo1AAAAAAIDMjUAzMzMzs4qOQGZmZmbmSI9A\",\"dtype\":\"float64\",\"shape\":[75]}}},\"id\":\"25137225-e0cd-4c1a-9719-d4f5ca672d0b\",\"type\":\"ColumnDataSource\"},{\"attributes\":{\"callback\":null,\"column_names\":[\"x\",\"y\"],\"data\":{\"x\":{\"__ndarray__\":\"gcrmmYJDdz+idBjfMAZ4P+NbK9VWk3k/iRTKGW0pez84OlpZBcN8PwSNAe/9X34/xbGgUSMAgD9Tf96+C9KAP5kQ0UWdpYE/RxWkzuB6gj/21vr1kVGDP2CdoGs2KoQ/TV1O2+wEhT+2jZ6sVh6GP6fyk9TFEoo/hf3CGdkmkT+3okmeGFWWP/tVKPEj+Zs/pMBKMGYGoT8QA6X1szCkP07IYHkxnqc/wEkPljzdqj+g4p/ER+CrP1vOyR92iqo/zF9OnLhIqD88FRnAolSlP9m2pYk1RaI/cYeb+s6Rnj8Uo6SiMMyYP/iXjHiiQJM/QnVbBAPpiz9d7jXaytqBP1VvyQV5inA/6PePSIX4Or+Itgls7sB2v/NJnI2E2oa/qRA7Dl17jr8/Vsel/n6Ov6FqhYQHCIq/sg2J8PDUhb+z+snlduCBv17kSq9gKny/jcR5sLSwdL/SELm8Tf5qv6q41MtBAFq/FncmdduKCT/YM1fbllFbP85W7DratWo/hr1d6niwcz8qu6lN/MN5P6cgnJOv4X8/Gt0gaSrtgj9iZj2sBdGFPwaTIoqBrIg/o2OTrGaFiz9QNgz3tkaOP2h/5kP+f5A/7xIpyVLdkT+60v6ERCyTP39O3AkxeZQ/VwtCMkq7lT/WOsXvzNmWP1oRxupu2Zc/8g1dvumlmD9a75eVvVOZP/8JfC5kCJo/uzw0bM/Fmj9LZ/i30aWbP9FoZ+OMkpw/hKP0JYyInT9Hc/dIaYeeP/Achur4fJ8/j04KaOM+oD/2+NXF+rmgP4LKDNwAOqE/\",\"dtype\":\"float64\",\"shape\":[75]},\"y\":{\"__ndarray__\":\"GhExyth1ND/Sv8nbtpRIP2vylNV0PVE/aTum7souWD/At0SJ8fVgPw3Iuahxymc/MSNhhJWvcD/bTfBN02d3P2zb5nxnaoA/CD5h5MAGhz8NmeH1TyaQP+zrCsc9p5Y/LbKd76fGnz/bLW5ISEmmPww9YvTcQq8/JV2OstnstT8Er5Y7M8G+P0c+r3jqkcU/5h99k6ZBzj88bCIzFzjVP4enV8oyxN0//yH99nXg5D8qOpLLf0jtP5kqGJXUifQ/c9cS8kHP/D+/DpwzojQEQIEmwoanVwxA4lgXt9HgE0BSSZ2AJuIbQAMJih9jjiNA5q4l5INuK0AwTKYKRj0zQNv5fmq8/DpAaCJseHrtQkB/+zpwzoxKQM3MzMzMeFJAZmZmZmZqWEAAAAAAAFxeQM3MzMzMJmJAmpmZmZkfZUBmZmZmZhhoQDMzMzMzEWtAAAAAAAAKbkBmZmZmZoFwQM3MzMzM/XFAMzMzMzN6c0CamZmZmfZ0QAAAAAAAc3ZAZmZmZmbvd0DNzMzMzGt5QDMzMzMz6HpAmpmZmZlkfEAAAAAAAOF9QGZmZmZmXX9AZmZmZuZsgECamZmZGSuBQM3MzMxM6YFAAAAAAICngkAzMzMzs2WDQGZmZmbmI4RAmpmZmRnihEDNzMzMTKCFQAAAAACAXoZAMzMzM7Mch0BmZmZm5tqHQJqZmZkZmYhAzczMzExXiUAAAAAAgBWKQDMzMzOz04pAZmZmZuaRi0CamZmZGVCMQM3MzMxMDo1AAAAAAIDMjUAzMzMzs4qOQGZmZmbmSI9A\",\"dtype\":\"float64\",\"shape\":[75]}}},\"id\":\"4f6692dc-964b-4ea1-84ed-a05f143f3a76\",\"type\":\"ColumnDataSource\"},{\"attributes\":{\"axis_label\":\"cooling rate [K/day]\",\"formatter\":{\"id\":\"402c602a-891c-41c4-911c-e1fe7f7d745c\",\"type\":\"BasicTickFormatter\"},\"plot\":{\"id\":\"829cb8a4-5c76-4333-9db9-1414ec8519ba\",\"subtype\":\"Figure\",\"type\":\"Plot\"},\"ticker\":{\"id\":\"1a74cf05-317e-472f-97b1-a4bf4dbeb2df\",\"type\":\"BasicTicker\"}},\"id\":\"b1bf79c1-673b-42c7-9af1-8b4a8680d0c3\",\"type\":\"LinearAxis\"},{\"attributes\":{\"source\":{\"id\":\"25137225-e0cd-4c1a-9719-d4f5ca672d0b\",\"type\":\"ColumnDataSource\"}},\"id\":\"f633d093-ace0-46eb-8098-6b02f612dbbd\",\"type\":\"CDSView\"},{\"attributes\":{\"line_alpha\":0.1,\"line_color\":\"#1f77b4\",\"line_width\":3,\"x\":{\"field\":\"x\"},\"y\":{\"field\":\"y\"}},\"id\":\"999ce181-6504-4100-95b0-a8dd42c45458\",\"type\":\"Line\"},{\"attributes\":{\"fill_alpha\":{\"value\":0.1},\"fill_color\":{\"value\":\"#1f77b4\"},\"line_alpha\":{\"value\":0.1},\"line_color\":{\"value\":\"#1f77b4\"},\"x\":{\"field\":\"x\"},\"y\":{\"field\":\"y\"}},\"id\":\"f937f726-196e-4dd4-8cbb-d6b858aa1e64\",\"type\":\"Circle\"},{\"attributes\":{\"callback\":null,\"column_names\":[\"x\",\"y\"],\"data\":{\"x\":{\"__ndarray__\":\"gcrmmYJDdz+idBjfMAZ4P+NbK9VWk3k/iRTKGW0pez84OlpZBcN8PwSNAe/9X34/xbGgUSMAgD9Tf96+C9KAP5kQ0UWdpYE/RxWkzuB6gj/21vr1kVGDP2CdoGs2KoQ/TV1O2+wEhT+2jZ6sVh6GP6fyk9TFEoo/hf3CGdkmkT+3okmeGFWWP/tVKPEj+Zs/pMBKMGYGoT8QA6X1szCkP07IYHkxnqc/wEkPljzdqj+g4p/ER+CrP1vOyR92iqo/zF9OnLhIqD88FRnAolSlP9m2pYk1RaI/cYeb+s6Rnj8Uo6SiMMyYP/iXjHiiQJM/QnVbBAPpiz9d7jXaytqBP1VvyQV5inA/6PePSIX4Or+Itgls7sB2v/NJnI2E2oa/qRA7Dl17jr8/Vsel/n6Ov6FqhYQHCIq/sg2J8PDUhb+z+snlduCBv17kSq9gKny/jcR5sLSwdL/SELm8Tf5qv6q41MtBAFq/FncmdduKCT/YM1fbllFbP85W7DratWo/hr1d6niwcz8qu6lN/MN5P6cgnJOv4X8/Gt0gaSrtgj9iZj2sBdGFPwaTIoqBrIg/o2OTrGaFiz9QNgz3tkaOP2h/5kP+f5A/7xIpyVLdkT+60v6ERCyTP39O3AkxeZQ/VwtCMkq7lT/WOsXvzNmWP1oRxupu2Zc/8g1dvumlmD9a75eVvVOZP/8JfC5kCJo/uzw0bM/Fmj9LZ/i30aWbP9FoZ+OMkpw/hKP0JYyInT9Hc/dIaYeeP/Achur4fJ8/j04KaOM+oD/2+NXF+rmgP4LKDNwAOqE/\",\"dtype\":\"float64\",\"shape\":[75]},\"y\":{\"__ndarray__\":\"GhExyth1ND/Sv8nbtpRIP2vylNV0PVE/aTum7souWD/At0SJ8fVgPw3Iuahxymc/MSNhhJWvcD/bTfBN02d3P2zb5nxnaoA/CD5h5MAGhz8NmeH1TyaQP+zrCsc9p5Y/LbKd76fGnz/bLW5ISEmmPww9YvTcQq8/JV2OstnstT8Er5Y7M8G+P0c+r3jqkcU/5h99k6ZBzj88bCIzFzjVP4enV8oyxN0//yH99nXg5D8qOpLLf0jtP5kqGJXUifQ/c9cS8kHP/D+/DpwzojQEQIEmwoanVwxA4lgXt9HgE0BSSZ2AJuIbQAMJih9jjiNA5q4l5INuK0AwTKYKRj0zQNv5fmq8/DpAaCJseHrtQkB/+zpwzoxKQM3MzMzMeFJAZmZmZmZqWEAAAAAAAFxeQM3MzMzMJmJAmpmZmZkfZUBmZmZmZhhoQDMzMzMzEWtAAAAAAAAKbkBmZmZmZoFwQM3MzMzM/XFAMzMzMzN6c0CamZmZmfZ0QAAAAAAAc3ZAZmZmZmbvd0DNzMzMzGt5QDMzMzMz6HpAmpmZmZlkfEAAAAAAAOF9QGZmZmZmXX9AZmZmZuZsgECamZmZGSuBQM3MzMxM6YFAAAAAAICngkAzMzMzs2WDQGZmZmbmI4RAmpmZmRnihEDNzMzMTKCFQAAAAACAXoZAMzMzM7Mch0BmZmZm5tqHQJqZmZkZmYhAzczMzExXiUAAAAAAgBWKQDMzMzOz04pAZmZmZuaRi0CamZmZGVCMQM3MzMxMDo1AAAAAAIDMjUAzMzMzs4qOQGZmZmbmSI9A\",\"dtype\":\"float64\",\"shape\":[75]}}},\"id\":\"8e626381-2912-4a03-b632-2b41d68dd7dd\",\"type\":\"ColumnDataSource\"},{\"attributes\":{\"line_alpha\":0.6,\"line_color\":\"#984ea3\",\"line_width\":3,\"x\":{\"field\":\"x\"},\"y\":{\"field\":\"y\"}},\"id\":\"57e69da7-fe53-4513-bbe0-b7a19b2a7aab\",\"type\":\"Line\"},{\"attributes\":{\"ticker\":null},\"id\":\"89aafbfd-6b59-437b-9906-0f3dbcabdd39\",\"type\":\"LogTickFormatter\"},{\"attributes\":{},\"id\":\"1a74cf05-317e-472f-97b1-a4bf4dbeb2df\",\"type\":\"BasicTicker\"},{\"attributes\":{\"source\":{\"id\":\"6c5d7495-1dab-416e-9f55-632ac9a09fdd\",\"type\":\"ColumnDataSource\"}},\"id\":\"a14aae5d-162a-4fdf-94a6-a3d4540ee776\",\"type\":\"CDSView\"},{\"attributes\":{\"line_alpha\":0.1,\"line_color\":\"#1f77b4\",\"line_width\":1.5,\"x\":{\"field\":\"x\"},\"y\":{\"field\":\"y\"}},\"id\":\"34119a4a-fc0e-459f-9df7-38c29e84bdfc\",\"type\":\"Line\"},{\"attributes\":{\"num_minor_ticks\":10},\"id\":\"27948d27-4b93-4d9a-b068-d11f0d8764ba\",\"type\":\"LogTicker\"},{\"attributes\":{\"fill_alpha\":{\"value\":0.7},\"fill_color\":{\"value\":\"#4daf4a\"},\"line_alpha\":{\"value\":0.7},\"line_color\":{\"value\":\"#4daf4a\"},\"x\":{\"field\":\"x\"},\"y\":{\"field\":\"y\"}},\"id\":\"18379b3a-1614-46c1-8014-7ae80be262f4\",\"type\":\"Circle\"},{\"attributes\":{\"line_color\":\"#4daf4a\",\"line_width\":1.5,\"x\":{\"field\":\"x\"},\"y\":{\"field\":\"y\"}},\"id\":\"7da615f4-b6f0-4dca-9802-4b4de17540dc\",\"type\":\"Line\"},{\"attributes\":{\"data_source\":{\"id\":\"e452d8e7-9544-40b6-b4f8-ea930d38ac40\",\"type\":\"ColumnDataSource\"},\"glyph\":{\"id\":\"7da615f4-b6f0-4dca-9802-4b4de17540dc\",\"type\":\"Line\"},\"hover_glyph\":null,\"muted_glyph\":null,\"nonselection_glyph\":{\"id\":\"34119a4a-fc0e-459f-9df7-38c29e84bdfc\",\"type\":\"Line\"},\"selection_glyph\":null,\"view\":{\"id\":\"0bef09e8-3d36-4d0d-a030-f005d4365024\",\"type\":\"CDSView\"}},\"id\":\"a3606a52-dc3b-4c5d-9942-c5bb5c8034ef\",\"type\":\"GlyphRenderer\"},{\"attributes\":{\"callback\":null,\"end\":0.0551388598193,\"start\":-0.0155840222893},\"id\":\"aad0db36-f988-4f77-a9b0-47af9b2a1de4\",\"type\":\"Range1d\"},{\"attributes\":{\"below\":[{\"id\":\"b1bf79c1-673b-42c7-9af1-8b4a8680d0c3\",\"type\":\"LinearAxis\"}],\"left\":[{\"id\":\"5c0f9c9c-c452-4476-b682-2010e11cdae0\",\"type\":\"LogAxis\"}],\"plot_height\":500,\"plot_width\":560,\"renderers\":[{\"id\":\"b1bf79c1-673b-42c7-9af1-8b4a8680d0c3\",\"type\":\"LinearAxis\"},{\"id\":\"cbb6122b-3b3e-42aa-9537-946f30dbd9ac\",\"type\":\"Grid\"},{\"id\":\"5c0f9c9c-c452-4476-b682-2010e11cdae0\",\"type\":\"LogAxis\"},{\"id\":\"b4fa92c4-8e41-4c84-b945-0984f5fc89f3\",\"type\":\"Grid\"},{\"id\":\"4c306032-a250-4afd-8748-fcd258d72069\",\"type\":\"BoxAnnotation\"},{\"id\":\"e9ace475-6776-4542-a470-3c8713c98367\",\"type\":\"GlyphRenderer\"},{\"id\":\"82c72045-2eba-4d12-a667-896e63a5465f\",\"type\":\"GlyphRenderer\"},{\"id\":\"a3606a52-dc3b-4c5d-9942-c5bb5c8034ef\",\"type\":\"GlyphRenderer\"},{\"id\":\"be0ff74b-50a5-4bc9-8ee1-c2e15ea3d0a1\",\"type\":\"GlyphRenderer\"},{\"id\":\"90dbe9a8-d258-4463-b78e-7494d24f1565\",\"type\":\"GlyphRenderer\"},{\"id\":\"099ed1d2-b5cb-4099-be8e-b03c4098a353\",\"type\":\"Legend\"}],\"right\":[{\"id\":\"099ed1d2-b5cb-4099-be8e-b03c4098a353\",\"type\":\"Legend\"}],\"title\":{\"id\":\"977e42e8-ca7a-4d66-955a-683bed3271f0\",\"type\":\"Title\"},\"toolbar\":{\"id\":\"8fb6c9e2-0b5a-4d0d-85d0-d4131672cdb6\",\"type\":\"Toolbar\"},\"toolbar_location\":null,\"x_range\":{\"id\":\"aad0db36-f988-4f77-a9b0-47af9b2a1de4\",\"type\":\"Range1d\"},\"x_scale\":{\"id\":\"254c0059-cf0b-424d-9f74-960fb5b75613\",\"type\":\"LinearScale\"},\"y_range\":{\"id\":\"28b7cf22-0876-48de-ab9d-8abc44655546\",\"type\":\"Range1d\"},\"y_scale\":{\"id\":\"43ff214f-2ce8-4534-970c-9e68c4a31893\",\"type\":\"LogScale\"}},\"id\":\"829cb8a4-5c76-4333-9db9-1414ec8519ba\",\"subtype\":\"Figure\",\"type\":\"Plot\"},{\"attributes\":{\"callback\":null,\"column_names\":[\"x\",\"y\"],\"data\":{\"x\":{\"__ndarray__\":\"gcrmmYJDdz+idBjfMAZ4P+NbK9VWk3k/iRTKGW0pez84OlpZBcN8PwSNAe/9X34/xbGgUSMAgD9Tf96+C9KAP5kQ0UWdpYE/RxWkzuB6gj/21vr1kVGDP2CdoGs2KoQ/TV1O2+wEhT+2jZ6sVh6GP6fyk9TFEoo/hf3CGdkmkT+3okmeGFWWP/tVKPEj+Zs/pMBKMGYGoT8QA6X1szCkP07IYHkxnqc/wEkPljzdqj+g4p/ER+CrP1vOyR92iqo/zF9OnLhIqD88FRnAolSlP9m2pYk1RaI/cYeb+s6Rnj8Uo6SiMMyYP/iXjHiiQJM/QnVbBAPpiz9d7jXaytqBP1VvyQV5inA/6PePSIX4Or+Itgls7sB2v/NJnI2E2oa/qRA7Dl17jr8/Vsel/n6Ov6FqhYQHCIq/sg2J8PDUhb+z+snlduCBv17kSq9gKny/jcR5sLSwdL/SELm8Tf5qv6q41MtBAFq/FncmdduKCT/YM1fbllFbP85W7DratWo/hr1d6niwcz8qu6lN/MN5P6cgnJOv4X8/Gt0gaSrtgj9iZj2sBdGFPwaTIoqBrIg/o2OTrGaFiz9QNgz3tkaOP2h/5kP+f5A/7xIpyVLdkT+60v6ERCyTP39O3AkxeZQ/VwtCMkq7lT/WOsXvzNmWP1oRxupu2Zc/8g1dvumlmD9a75eVvVOZP/8JfC5kCJo/uzw0bM/Fmj9LZ/i30aWbP9FoZ+OMkpw/hKP0JYyInT9Hc/dIaYeeP/Achur4fJ8/j04KaOM+oD/2+NXF+rmgP4LKDNwAOqE/\",\"dtype\":\"float64\",\"shape\":[75]},\"y\":{\"__ndarray__\":\"GhExyth1ND/Sv8nbtpRIP2vylNV0PVE/aTum7souWD/At0SJ8fVgPw3Iuahxymc/MSNhhJWvcD/bTfBN02d3P2zb5nxnaoA/CD5h5MAGhz8NmeH1TyaQP+zrCsc9p5Y/LbKd76fGnz/bLW5ISEmmPww9YvTcQq8/JV2OstnstT8Er5Y7M8G+P0c+r3jqkcU/5h99k6ZBzj88bCIzFzjVP4enV8oyxN0//yH99nXg5D8qOpLLf0jtP5kqGJXUifQ/c9cS8kHP/D+/DpwzojQEQIEmwoanVwxA4lgXt9HgE0BSSZ2AJuIbQAMJih9jjiNA5q4l5INuK0AwTKYKRj0zQNv5fmq8/DpAaCJseHrtQkB/+zpwzoxKQM3MzMzMeFJAZmZmZmZqWEAAAAAAAFxeQM3MzMzMJmJAmpmZmZkfZUBmZmZmZhhoQDMzMzMzEWtAAAAAAAAKbkBmZmZmZoFwQM3MzMzM/XFAMzMzMzN6c0CamZmZmfZ0QAAAAAAAc3ZAZmZmZmbvd0DNzMzMzGt5QDMzMzMz6HpAmpmZmZlkfEAAAAAAAOF9QGZmZmZmXX9AZmZmZuZsgECamZmZGSuBQM3MzMxM6YFAAAAAAICngkAzMzMzs2WDQGZmZmbmI4RAmpmZmRnihEDNzMzMTKCFQAAAAACAXoZAMzMzM7Mch0BmZmZm5tqHQJqZmZkZmYhAzczMzExXiUAAAAAAgBWKQDMzMzOz04pAZmZmZuaRi0CamZmZGVCMQM3MzMxMDo1AAAAAAIDMjUAzMzMzs4qOQGZmZmbmSI9A\",\"dtype\":\"float64\",\"shape\":[75]}}},\"id\":\"1942b44b-bcd1-410e-8e07-f0c5251f56b8\",\"type\":\"ColumnDataSource\"},{\"attributes\":{\"data_source\":{\"id\":\"af67506d-5c39-4633-be75-c37f2c3e6d79\",\"type\":\"ColumnDataSource\"},\"glyph\":{\"id\":\"57e69da7-fe53-4513-bbe0-b7a19b2a7aab\",\"type\":\"Line\"},\"hover_glyph\":null,\"muted_glyph\":null,\"nonselection_glyph\":{\"id\":\"999ce181-6504-4100-95b0-a8dd42c45458\",\"type\":\"Line\"},\"selection_glyph\":null,\"view\":{\"id\":\"2cb72b97-dda9-45df-9af7-11249aa1a593\",\"type\":\"CDSView\"}},\"id\":\"f0f018ae-5de1-46fb-ab55-09a96de276b5\",\"type\":\"GlyphRenderer\"},{\"attributes\":{\"source\":{\"id\":\"e452d8e7-9544-40b6-b4f8-ea930d38ac40\",\"type\":\"ColumnDataSource\"}},\"id\":\"0bef09e8-3d36-4d0d-a030-f005d4365024\",\"type\":\"CDSView\"},{\"attributes\":{\"source\":{\"id\":\"af67506d-5c39-4633-be75-c37f2c3e6d79\",\"type\":\"ColumnDataSource\"}},\"id\":\"2cb72b97-dda9-45df-9af7-11249aa1a593\",\"type\":\"CDSView\"},{\"attributes\":{\"fill_alpha\":{\"value\":0.7},\"fill_color\":{\"value\":\"#984ea3\"},\"line_alpha\":{\"value\":0.7},\"line_color\":{\"value\":\"#984ea3\"},\"x\":{\"field\":\"x\"},\"y\":{\"field\":\"y\"}},\"id\":\"4da03ad5-8837-411f-bfee-87a4e942894b\",\"type\":\"Square\"},{\"attributes\":{\"label\":{\"value\":\"CRD\"},\"renderers\":[{\"id\":\"82c72045-2eba-4d12-a667-896e63a5465f\",\"type\":\"GlyphRenderer\"},{\"id\":\"a3606a52-dc3b-4c5d-9942-c5bb5c8034ef\",\"type\":\"GlyphRenderer\"}]},\"id\":\"3d7767c6-d602-4da9-a688-0e110885677d\",\"type\":\"LegendItem\"},{\"attributes\":{\"data_source\":{\"id\":\"4f6692dc-964b-4ea1-84ed-a05f143f3a76\",\"type\":\"ColumnDataSource\"},\"glyph\":{\"id\":\"4da03ad5-8837-411f-bfee-87a4e942894b\",\"type\":\"Square\"},\"hover_glyph\":null,\"muted_glyph\":null,\"nonselection_glyph\":{\"id\":\"ae2ad77d-b223-4088-88bf-fcc23de2d891\",\"type\":\"Square\"},\"selection_glyph\":null,\"view\":{\"id\":\"4bfe3c3d-c89a-4e52-8af6-e64244aa0fa5\",\"type\":\"CDSView\"}},\"id\":\"be0ff74b-50a5-4bc9-8ee1-c2e15ea3d0a1\",\"type\":\"GlyphRenderer\"},{\"attributes\":{\"fill_alpha\":{\"value\":0.1},\"fill_color\":{\"value\":\"#1f77b4\"},\"line_alpha\":{\"value\":0.1},\"line_color\":{\"value\":\"#1f77b4\"},\"x\":{\"field\":\"x\"},\"y\":{\"field\":\"y\"}},\"id\":\"ae2ad77d-b223-4088-88bf-fcc23de2d891\",\"type\":\"Square\"},{\"attributes\":{\"source\":{\"id\":\"4f6692dc-964b-4ea1-84ed-a05f143f3a76\",\"type\":\"ColumnDataSource\"}},\"id\":\"4bfe3c3d-c89a-4e52-8af6-e64244aa0fa5\",\"type\":\"CDSView\"},{\"attributes\":{\"line_alpha\":0.6,\"line_color\":\"#984ea3\",\"line_width\":3,\"x\":{\"field\":\"x\"},\"y\":{\"field\":\"y\"}},\"id\":\"02251a73-7353-4dad-ac02-e0db79338d17\",\"type\":\"Line\"},{\"attributes\":{\"source\":{\"id\":\"81bad618-5c2e-478b-b173-d21be0ca0055\",\"type\":\"ColumnDataSource\"}},\"id\":\"84e60c1f-a46a-4d7e-bf81-e0f3af1e0ec0\",\"type\":\"CDSView\"},{\"attributes\":{\"label\":{\"value\":\"WGT igg=10 wgt_flux=2\"},\"renderers\":[{\"id\":\"be0ff74b-50a5-4bc9-8ee1-c2e15ea3d0a1\",\"type\":\"GlyphRenderer\"},{\"id\":\"90dbe9a8-d258-4463-b78e-7494d24f1565\",\"type\":\"GlyphRenderer\"}]},\"id\":\"82a9475c-bc07-4e4b-b0b3-96ff127780d1\",\"type\":\"LegendItem\"},{\"attributes\":{\"data_source\":{\"id\":\"1942b44b-bcd1-410e-8e07-f0c5251f56b8\",\"type\":\"ColumnDataSource\"},\"glyph\":{\"id\":\"02251a73-7353-4dad-ac02-e0db79338d17\",\"type\":\"Line\"},\"hover_glyph\":null,\"muted_glyph\":null,\"nonselection_glyph\":{\"id\":\"fbb23740-6e47-4521-a98a-21f1b539a5a4\",\"type\":\"Line\"},\"selection_glyph\":null,\"view\":{\"id\":\"d1fb5d7a-de1c-4ae5-9c4b-8e3dad08db2e\",\"type\":\"CDSView\"}},\"id\":\"90dbe9a8-d258-4463-b78e-7494d24f1565\",\"type\":\"GlyphRenderer\"},{\"attributes\":{\"line_alpha\":0.1,\"line_color\":\"#1f77b4\",\"line_width\":3,\"x\":{\"field\":\"x\"},\"y\":{\"field\":\"y\"}},\"id\":\"fbb23740-6e47-4521-a98a-21f1b539a5a4\",\"type\":\"Line\"},{\"attributes\":{\"source\":{\"id\":\"1942b44b-bcd1-410e-8e07-f0c5251f56b8\",\"type\":\"ColumnDataSource\"}},\"id\":\"d1fb5d7a-de1c-4ae5-9c4b-8e3dad08db2e\",\"type\":\"CDSView\"},{\"attributes\":{\"children\":[{\"id\":\"8f04d83b-8c73-4609-b95c-b58ce5df59fc\",\"type\":\"ToolbarBox\"},{\"id\":\"b858ab76-6341-4c9a-8876-ad1e1331ac75\",\"type\":\"Column\"}]},\"id\":\"b2e225ec-292b-4468-bdaf-3df46cb04404\",\"type\":\"Column\"},{\"attributes\":{\"toolbar\":{\"id\":\"cf8b593d-faa9-4e23-b8b9-61a17d28ab96\",\"type\":\"ProxyToolbar\"},\"toolbar_location\":\"above\"},\"id\":\"8f04d83b-8c73-4609-b95c-b58ce5df59fc\",\"type\":\"ToolbarBox\"},{\"attributes\":{\"callback\":null,\"column_names\":[\"x\",\"y\"],\"data\":{\"x\":{\"__ndarray__\":\"gcrmmYJDdz+idBjfMAZ4P+NbK9VWk3k/iRTKGW0pez84OlpZBcN8PwSNAe/9X34/xbGgUSMAgD9Tf96+C9KAP5kQ0UWdpYE/RxWkzuB6gj/21vr1kVGDP2CdoGs2KoQ/TV1O2+wEhT+2jZ6sVh6GP6fyk9TFEoo/hf3CGdkmkT+3okmeGFWWP/tVKPEj+Zs/pMBKMGYGoT8QA6X1szCkP07IYHkxnqc/wEkPljzdqj+g4p/ER+CrP1vOyR92iqo/zF9OnLhIqD88FRnAolSlP9m2pYk1RaI/cYeb+s6Rnj8Uo6SiMMyYP/iXjHiiQJM/QnVbBAPpiz9d7jXaytqBP1VvyQV5inA/6PePSIX4Or+Itgls7sB2v/NJnI2E2oa/qRA7Dl17jr8/Vsel/n6Ov6FqhYQHCIq/sg2J8PDUhb+z+snlduCBv17kSq9gKny/jcR5sLSwdL/SELm8Tf5qv6q41MtBAFq/FncmdduKCT/YM1fbllFbP85W7DratWo/hr1d6niwcz8qu6lN/MN5P6cgnJOv4X8/Gt0gaSrtgj9iZj2sBdGFPwaTIoqBrIg/o2OTrGaFiz9QNgz3tkaOP2h/5kP+f5A/7xIpyVLdkT+60v6ERCyTP39O3AkxeZQ/VwtCMkq7lT/WOsXvzNmWP1oRxupu2Zc/8g1dvumlmD9a75eVvVOZP/8JfC5kCJo/uzw0bM/Fmj9LZ/i30aWbP9FoZ+OMkpw/hKP0JYyInT9Hc/dIaYeeP/Achur4fJ8/j04KaOM+oD/2+NXF+rmgP4LKDNwAOqE/\",\"dtype\":\"float64\",\"shape\":[75]},\"y\":{\"__ndarray__\":\"GhExyth1ND/Sv8nbtpRIP2vylNV0PVE/aTum7souWD/At0SJ8fVgPw3Iuahxymc/MSNhhJWvcD/bTfBN02d3P2zb5nxnaoA/CD5h5MAGhz8NmeH1TyaQP+zrCsc9p5Y/LbKd76fGnz/bLW5ISEmmPww9YvTcQq8/JV2OstnstT8Er5Y7M8G+P0c+r3jqkcU/5h99k6ZBzj88bCIzFzjVP4enV8oyxN0//yH99nXg5D8qOpLLf0jtP5kqGJXUifQ/c9cS8kHP/D+/DpwzojQEQIEmwoanVwxA4lgXt9HgE0BSSZ2AJuIbQAMJih9jjiNA5q4l5INuK0AwTKYKRj0zQNv5fmq8/DpAaCJseHrtQkB/+zpwzoxKQM3MzMzMeFJAZmZmZmZqWEAAAAAAAFxeQM3MzMzMJmJAmpmZmZkfZUBmZmZmZhhoQDMzMzMzEWtAAAAAAAAKbkBmZmZmZoFwQM3MzMzM/XFAMzMzMzN6c0CamZmZmfZ0QAAAAAAAc3ZAZmZmZmbvd0DNzMzMzGt5QDMzMzMz6HpAmpmZmZlkfEAAAAAAAOF9QGZmZmZmXX9AZmZmZuZsgECamZmZGSuBQM3MzMxM6YFAAAAAAICngkAzMzMzs2WDQGZmZmbmI4RAmpmZmRnihEDNzMzMTKCFQAAAAACAXoZAMzMzM7Mch0BmZmZm5tqHQJqZmZkZmYhAzczMzExXiUAAAAAAgBWKQDMzMzOz04pAZmZmZuaRi0CamZmZGVCMQM3MzMxMDo1AAAAAAIDMjUAzMzMzs4qOQGZmZmbmSI9A\",\"dtype\":\"float64\",\"shape\":[75]}}},\"id\":\"af67506d-5c39-4633-be75-c37f2c3e6d79\",\"type\":\"ColumnDataSource\"},{\"attributes\":{\"fill_alpha\":{\"value\":0.7},\"fill_color\":{\"value\":\"#984ea3\"},\"line_alpha\":{\"value\":0.7},\"line_color\":{\"value\":\"#984ea3\"},\"x\":{\"field\":\"x\"},\"y\":{\"field\":\"y\"}},\"id\":\"2af3208d-9c74-44a8-a756-b23830de049f\",\"type\":\"Square\"},{\"attributes\":{},\"id\":\"b8389fca-da73-4e8c-8a12-ed8cf0b3ecd6\",\"type\":\"BasicTickFormatter\"},{\"attributes\":{\"source\":{\"id\":\"8e626381-2912-4a03-b632-2b41d68dd7dd\",\"type\":\"ColumnDataSource\"}},\"id\":\"212b719e-935f-474d-984a-8425c4aa8d8b\",\"type\":\"CDSView\"},{\"attributes\":{\"callback\":null,\"end\":0.01,\"start\":1020},\"id\":\"28b7cf22-0876-48de-ab9d-8abc44655546\",\"type\":\"Range1d\"},{\"attributes\":{\"data_source\":{\"id\":\"8e626381-2912-4a03-b632-2b41d68dd7dd\",\"type\":\"ColumnDataSource\"},\"glyph\":{\"id\":\"2af3208d-9c74-44a8-a756-b23830de049f\",\"type\":\"Square\"},\"hover_glyph\":null,\"muted_glyph\":null,\"nonselection_glyph\":{\"id\":\"ae4df894-d159-401e-b1dc-724dccc1dd10\",\"type\":\"Square\"},\"selection_glyph\":null,\"view\":{\"id\":\"212b719e-935f-474d-984a-8425c4aa8d8b\",\"type\":\"CDSView\"}},\"id\":\"486670f5-866c-4e0e-a202-be3c262875e0\",\"type\":\"GlyphRenderer\"},{\"attributes\":{\"fill_alpha\":{\"value\":0.1},\"fill_color\":{\"value\":\"#1f77b4\"},\"line_alpha\":{\"value\":0.1},\"line_color\":{\"value\":\"#1f77b4\"},\"x\":{\"field\":\"x\"},\"y\":{\"field\":\"y\"}},\"id\":\"ae4df894-d159-401e-b1dc-724dccc1dd10\",\"type\":\"Square\"},{\"attributes\":{},\"id\":\"43ff214f-2ce8-4534-970c-9e68c4a31893\",\"type\":\"LogScale\"},{\"attributes\":{\"line_alpha\":0.6,\"line_color\":\"#e41a1c\",\"line_dash\":[6],\"line_width\":5,\"x\":{\"field\":\"x\"},\"y\":{\"field\":\"y\"}},\"id\":\"8bec3d79-fb3f-46b5-b56c-e5d38a7e7558\",\"type\":\"Line\"},{\"attributes\":{\"line_alpha\":0.1,\"line_color\":\"#1f77b4\",\"line_width\":1.5,\"x\":{\"field\":\"x\"},\"y\":{\"field\":\"y\"}},\"id\":\"92204959-4868-41b8-ae74-181ad8c83d2e\",\"type\":\"Line\"},{\"attributes\":{\"callback\":null,\"end\":0.034131018661999996,\"start\":-0.015376023862},\"id\":\"9d4ecadd-c014-458f-981c-4b1ffc5fdf51\",\"type\":\"Range1d\"},{\"attributes\":{\"below\":[{\"id\":\"b8cc846a-2e74-42c1-aad3-1beecc9b48fe\",\"type\":\"LinearAxis\"}],\"left\":[{\"id\":\"d1aae6af-844f-4b7a-b854-61245b0a5b5b\",\"type\":\"LinearAxis\"}],\"plot_height\":500,\"plot_width\":400,\"renderers\":[{\"id\":\"b8cc846a-2e74-42c1-aad3-1beecc9b48fe\",\"type\":\"LinearAxis\"},{\"id\":\"6bcce2c3-9d30-403e-b1da-767d3178d815\",\"type\":\"Grid\"},{\"id\":\"d1aae6af-844f-4b7a-b854-61245b0a5b5b\",\"type\":\"LinearAxis\"},{\"id\":\"152fda9f-ee18-4a40-8cb1-89e2c2e43d81\",\"type\":\"Grid\"},{\"id\":\"e6fd5b03-991d-43d4-b769-75a2baccee0d\",\"type\":\"BoxAnnotation\"},{\"id\":\"f406e025-2e25-453b-aab3-0ea1c8036b78\",\"type\":\"GlyphRenderer\"},{\"id\":\"f3aabf9f-e1ca-4095-b26e-9f00bc68426f\",\"type\":\"GlyphRenderer\"},{\"id\":\"63ca02a3-e6b1-4626-9270-08e56d77b0a5\",\"type\":\"GlyphRenderer\"},{\"id\":\"486670f5-866c-4e0e-a202-be3c262875e0\",\"type\":\"GlyphRenderer\"},{\"id\":\"f0f018ae-5de1-46fb-ab55-09a96de276b5\",\"type\":\"GlyphRenderer\"}],\"title\":{\"id\":\"de4867d1-3142-401a-a2e3-fd3ceef9b811\",\"type\":\"Title\"},\"toolbar\":{\"id\":\"9421ff0f-1966-49d9-ad76-a33096f19e4f\",\"type\":\"Toolbar\"},\"toolbar_location\":null,\"x_range\":{\"id\":\"9d4ecadd-c014-458f-981c-4b1ffc5fdf51\",\"type\":\"Range1d\"},\"x_scale\":{\"id\":\"6b783776-0d73-4393-af63-7e6d1163743d\",\"type\":\"LinearScale\"},\"y_range\":{\"id\":\"b3ac9bed-c1a6-4040-97c1-3c2bc8bbdb74\",\"type\":\"Range1d\"},\"y_scale\":{\"id\":\"23c58e1e-cf42-48e0-8ad3-40d9d24cab9a\",\"type\":\"LinearScale\"}},\"id\":\"bfbdb912-4eeb-4aae-ab78-4ad6027c70c5\",\"subtype\":\"Figure\",\"type\":\"Plot\"},{\"attributes\":{\"active_drag\":\"auto\",\"active_inspect\":\"auto\",\"active_scroll\":\"auto\",\"active_tap\":\"auto\",\"tools\":[{\"id\":\"43f3a474-d8ed-4529-8d80-0e3fb81c14ae\",\"type\":\"PanTool\"},{\"id\":\"f3ebaaf1-8fcb-4a24-8626-d220d865752e\",\"type\":\"WheelZoomTool\"},{\"id\":\"ff966c64-3745-437d-9d3f-18a5ca25800b\",\"type\":\"BoxZoomTool\"},{\"id\":\"7da581ae-c8e6-4302-a777-8f0538bb92e3\",\"type\":\"SaveTool\"},{\"id\":\"1f906f79-16e4-4a8e-9145-ca72fc99db4d\",\"type\":\"ResetTool\"},{\"id\":\"e7064dbd-8803-4d42-b84c-45f054748ada\",\"type\":\"HelpTool\"}]},\"id\":\"8fb6c9e2-0b5a-4d0d-85d0-d4131672cdb6\",\"type\":\"Toolbar\"},{\"attributes\":{\"dimension\":1,\"plot\":{\"id\":\"829cb8a4-5c76-4333-9db9-1414ec8519ba\",\"subtype\":\"Figure\",\"type\":\"Plot\"},\"ticker\":{\"id\":\"27948d27-4b93-4d9a-b068-d11f0d8764ba\",\"type\":\"LogTicker\"}},\"id\":\"b4fa92c4-8e41-4c84-b945-0984f5fc89f3\",\"type\":\"Grid\"},{\"attributes\":{},\"id\":\"254c0059-cf0b-424d-9f74-960fb5b75613\",\"type\":\"LinearScale\"},{\"attributes\":{\"plot\":{\"id\":\"829cb8a4-5c76-4333-9db9-1414ec8519ba\",\"subtype\":\"Figure\",\"type\":\"Plot\"},\"ticker\":{\"id\":\"1a74cf05-317e-472f-97b1-a4bf4dbeb2df\",\"type\":\"BasicTicker\"}},\"id\":\"cbb6122b-3b3e-42aa-9537-946f30dbd9ac\",\"type\":\"Grid\"}],\"root_ids\":[\"b2e225ec-292b-4468-bdaf-3df46cb04404\"]},\"title\":\"Bokeh Application\",\"version\":\"0.12.14\"}};\n",
       "  var render_items = [{\"docid\":\"092a465d-4928-4d1d-80e4-a456c959c2fc\",\"elementid\":\"5a24111d-85c5-4de5-85b5-6e3e81bff555\",\"modelid\":\"b2e225ec-292b-4468-bdaf-3df46cb04404\"}];\n",
       "  root.Bokeh.embed.embed_items_notebook(docs_json, render_items);\n",
       "\n",
       "  }\n",
       "  if (root.Bokeh !== undefined) {\n",
       "    embed_document(root);\n",
       "  } else {\n",
       "    var attempts = 0;\n",
       "    var timer = setInterval(function(root) {\n",
       "      if (root.Bokeh !== undefined) {\n",
       "        embed_document(root);\n",
       "        clearInterval(timer);\n",
       "      }\n",
       "      attempts++;\n",
       "      if (attempts > 100) {\n",
       "        console.log(\"Bokeh: ERROR: Unable to run BokehJS code because BokehJS library is missing\")\n",
       "        clearInterval(timer);\n",
       "      }\n",
       "    }, 10, root)\n",
       "  }\n",
       "})(window);"
      ],
      "application/vnd.bokehjs_exec.v0+json": ""
     },
     "metadata": {
      "application/vnd.bokehjs_exec.v0+json": {
       "id": "b2e225ec-292b-4468-bdaf-3df46cb04404"
      }
     },
     "output_type": "display_data"
    },
    {
     "name": "stdout",
     "output_type": "stream",
     "text": [
      "FIGURE. Cooling rate profiles.\n"
     ]
    },
    {
     "data": {
      "text/html": [
       "<a id=\"Flux_Comparison\"></a>"
      ],
      "text/plain": [
       "<IPython.core.display.HTML object>"
      ]
     },
     "metadata": {},
     "output_type": "display_data"
    },
    {
     "data": {
      "text/markdown": [
       "# Flux Comparison"
      ],
      "text/plain": [
       "<IPython.core.display.Markdown object>"
      ]
     },
     "metadata": {},
     "output_type": "display_data"
    },
    {
     "data": {
      "text/html": [
       "<div>\n",
       "<style>\n",
       "    .dataframe thead tr:only-child th {\n",
       "        text-align: right;\n",
       "    }\n",
       "\n",
       "    .dataframe thead th {\n",
       "        text-align: left;\n",
       "    }\n",
       "\n",
       "    .dataframe tbody tr th {\n",
       "        vertical-align: top;\n",
       "    }\n",
       "</style>\n",
       "<table border=\"1\" class=\"dataframe\">\n",
       "  <thead>\n",
       "    <tr style=\"text-align: right;\">\n",
       "      <th></th>\n",
       "      <th></th>\n",
       "      <th>flug</th>\n",
       "      <th>fldg</th>\n",
       "      <th>fnetg</th>\n",
       "    </tr>\n",
       "    <tr>\n",
       "      <th>pressure</th>\n",
       "      <th>level</th>\n",
       "      <th></th>\n",
       "      <th></th>\n",
       "      <th></th>\n",
       "    </tr>\n",
       "  </thead>\n",
       "  <tbody>\n",
       "    <tr>\n",
       "      <th>0.0000</th>\n",
       "      <th>1</th>\n",
       "      <td>-37.080242</td>\n",
       "      <td>0.000000</td>\n",
       "      <td>-37.080242</td>\n",
       "    </tr>\n",
       "    <tr>\n",
       "      <th>1.0685</th>\n",
       "      <th>24</th>\n",
       "      <td>-37.079405</td>\n",
       "      <td>0.004616</td>\n",
       "      <td>-37.074788</td>\n",
       "    </tr>\n",
       "    <tr>\n",
       "      <th>1013.0000</th>\n",
       "      <th>76</th>\n",
       "      <td>-38.491734</td>\n",
       "      <td>2.798733</td>\n",
       "      <td>-35.693002</td>\n",
       "    </tr>\n",
       "  </tbody>\n",
       "</table>\n",
       "</div>"
      ],
      "text/plain": [
       "                      flug      fldg      fnetg\n",
       "pressure  level                                \n",
       "0.0000    1     -37.080242  0.000000 -37.080242\n",
       "1.0685    24    -37.079405  0.004616 -37.074788\n",
       "1013.0000 76    -38.491734  2.798733 -35.693002"
      ]
     },
     "metadata": {},
     "output_type": "display_data"
    },
    {
     "name": "stdout",
     "output_type": "stream",
     "text": [
      "Table. Fluxes. WGT igg=10 wgt_flux=1\n"
     ]
    },
    {
     "data": {
      "text/html": [
       "<div>\n",
       "<style>\n",
       "    .dataframe thead tr:only-child th {\n",
       "        text-align: right;\n",
       "    }\n",
       "\n",
       "    .dataframe thead th {\n",
       "        text-align: left;\n",
       "    }\n",
       "\n",
       "    .dataframe tbody tr th {\n",
       "        vertical-align: top;\n",
       "    }\n",
       "</style>\n",
       "<table border=\"1\" class=\"dataframe\">\n",
       "  <thead>\n",
       "    <tr style=\"text-align: right;\">\n",
       "      <th></th>\n",
       "      <th></th>\n",
       "      <th>flug</th>\n",
       "      <th>fldg</th>\n",
       "      <th>fnetg</th>\n",
       "    </tr>\n",
       "    <tr>\n",
       "      <th>pressure</th>\n",
       "      <th>level</th>\n",
       "      <th></th>\n",
       "      <th></th>\n",
       "      <th></th>\n",
       "    </tr>\n",
       "  </thead>\n",
       "  <tbody>\n",
       "    <tr>\n",
       "      <th>0.0000</th>\n",
       "      <th>1</th>\n",
       "      <td>-37.083828</td>\n",
       "      <td>0.000000</td>\n",
       "      <td>-37.083828</td>\n",
       "    </tr>\n",
       "    <tr>\n",
       "      <th>1.0685</th>\n",
       "      <th>24</th>\n",
       "      <td>-37.083479</td>\n",
       "      <td>0.004824</td>\n",
       "      <td>-37.078655</td>\n",
       "    </tr>\n",
       "    <tr>\n",
       "      <th>1013.0000</th>\n",
       "      <th>76</th>\n",
       "      <td>-38.491734</td>\n",
       "      <td>2.699166</td>\n",
       "      <td>-35.792568</td>\n",
       "    </tr>\n",
       "  </tbody>\n",
       "</table>\n",
       "</div>"
      ],
      "text/plain": [
       "                      flug      fldg      fnetg\n",
       "pressure  level                                \n",
       "0.0000    1     -37.083828  0.000000 -37.083828\n",
       "1.0685    24    -37.083479  0.004824 -37.078655\n",
       "1013.0000 76    -38.491734  2.699166 -35.792568"
      ]
     },
     "metadata": {},
     "output_type": "display_data"
    },
    {
     "name": "stdout",
     "output_type": "stream",
     "text": [
      "Table. Fluxes. CRD\n"
     ]
    },
    {
     "data": {
      "text/html": [
       "<div>\n",
       "<style>\n",
       "    .dataframe thead tr:only-child th {\n",
       "        text-align: right;\n",
       "    }\n",
       "\n",
       "    .dataframe thead th {\n",
       "        text-align: left;\n",
       "    }\n",
       "\n",
       "    .dataframe tbody tr th {\n",
       "        vertical-align: top;\n",
       "    }\n",
       "</style>\n",
       "<table border=\"1\" class=\"dataframe\">\n",
       "  <thead>\n",
       "    <tr style=\"text-align: right;\">\n",
       "      <th></th>\n",
       "      <th></th>\n",
       "      <th>flug</th>\n",
       "      <th>fldg</th>\n",
       "      <th>fnetg</th>\n",
       "    </tr>\n",
       "    <tr>\n",
       "      <th>pressure</th>\n",
       "      <th>level</th>\n",
       "      <th></th>\n",
       "      <th></th>\n",
       "      <th></th>\n",
       "    </tr>\n",
       "  </thead>\n",
       "  <tbody>\n",
       "    <tr>\n",
       "      <th>1.000000e-08</th>\n",
       "      <th>1</th>\n",
       "      <td>-37.130763</td>\n",
       "      <td>0.000002</td>\n",
       "      <td>-37.130760</td>\n",
       "    </tr>\n",
       "    <tr>\n",
       "      <th>1.068500e+00</th>\n",
       "      <th>24</th>\n",
       "      <td>-37.129896</td>\n",
       "      <td>0.004209</td>\n",
       "      <td>-37.125688</td>\n",
       "    </tr>\n",
       "    <tr>\n",
       "      <th>1.013000e+03</th>\n",
       "      <th>76</th>\n",
       "      <td>-38.491730</td>\n",
       "      <td>2.696774</td>\n",
       "      <td>-35.794956</td>\n",
       "    </tr>\n",
       "  </tbody>\n",
       "</table>\n",
       "</div>"
      ],
      "text/plain": [
       "                         flug      fldg      fnetg\n",
       "pressure     level                                \n",
       "1.000000e-08 1     -37.130763  0.000002 -37.130760\n",
       "1.068500e+00 24    -37.129896  0.004209 -37.125688\n",
       "1.013000e+03 76    -38.491730  2.696774 -35.794956"
      ]
     },
     "metadata": {},
     "output_type": "display_data"
    },
    {
     "name": "stdout",
     "output_type": "stream",
     "text": [
      "Table. Fluxes. CLIRAD\n"
     ]
    },
    {
     "data": {
      "text/html": [
       "<div>\n",
       "<style>\n",
       "    .dataframe thead tr:only-child th {\n",
       "        text-align: right;\n",
       "    }\n",
       "\n",
       "    .dataframe thead th {\n",
       "        text-align: left;\n",
       "    }\n",
       "\n",
       "    .dataframe tbody tr th {\n",
       "        vertical-align: top;\n",
       "    }\n",
       "</style>\n",
       "<table border=\"1\" class=\"dataframe\">\n",
       "  <thead>\n",
       "    <tr style=\"text-align: right;\">\n",
       "      <th></th>\n",
       "      <th></th>\n",
       "      <th>flug</th>\n",
       "      <th>fldg</th>\n",
       "      <th>fnetg</th>\n",
       "    </tr>\n",
       "    <tr>\n",
       "      <th>pressure</th>\n",
       "      <th>level</th>\n",
       "      <th></th>\n",
       "      <th></th>\n",
       "      <th></th>\n",
       "    </tr>\n",
       "  </thead>\n",
       "  <tbody>\n",
       "    <tr>\n",
       "      <th>0.0000</th>\n",
       "      <th>1</th>\n",
       "      <td>-3.585590e-03</td>\n",
       "      <td>0.000000</td>\n",
       "      <td>-0.003586</td>\n",
       "    </tr>\n",
       "    <tr>\n",
       "      <th>1.0685</th>\n",
       "      <th>24</th>\n",
       "      <td>-4.073800e-03</td>\n",
       "      <td>0.000207</td>\n",
       "      <td>-0.003867</td>\n",
       "    </tr>\n",
       "    <tr>\n",
       "      <th>1013.0000</th>\n",
       "      <th>76</th>\n",
       "      <td>4.000000e-08</td>\n",
       "      <td>-0.099567</td>\n",
       "      <td>-0.099566</td>\n",
       "    </tr>\n",
       "  </tbody>\n",
       "</table>\n",
       "</div>"
      ],
      "text/plain": [
       "                         flug      fldg     fnetg\n",
       "pressure  level                                  \n",
       "0.0000    1     -3.585590e-03  0.000000 -0.003586\n",
       "1.0685    24    -4.073800e-03  0.000207 -0.003867\n",
       "1013.0000 76     4.000000e-08 -0.099567 -0.099566"
      ]
     },
     "metadata": {},
     "output_type": "display_data"
    },
    {
     "name": "stdout",
     "output_type": "stream",
     "text": [
      "Table. Fluxes. (CRD) - (WGT igg=10 wgt_flux=1)\n"
     ]
    },
    {
     "data": {
      "text/html": [
       "<div>\n",
       "<style>\n",
       "    .dataframe thead tr:only-child th {\n",
       "        text-align: right;\n",
       "    }\n",
       "\n",
       "    .dataframe thead th {\n",
       "        text-align: left;\n",
       "    }\n",
       "\n",
       "    .dataframe tbody tr th {\n",
       "        vertical-align: top;\n",
       "    }\n",
       "</style>\n",
       "<table border=\"1\" class=\"dataframe\">\n",
       "  <thead>\n",
       "    <tr style=\"text-align: right;\">\n",
       "      <th></th>\n",
       "      <th></th>\n",
       "      <th>flug</th>\n",
       "      <th>fldg</th>\n",
       "      <th>fnetg</th>\n",
       "    </tr>\n",
       "    <tr>\n",
       "      <th>pressure</th>\n",
       "      <th>level</th>\n",
       "      <th></th>\n",
       "      <th></th>\n",
       "      <th></th>\n",
       "    </tr>\n",
       "  </thead>\n",
       "  <tbody>\n",
       "    <tr>\n",
       "      <th>0.0000</th>\n",
       "      <th>1</th>\n",
       "      <td>-0.050521</td>\n",
       "      <td>0.000002</td>\n",
       "      <td>-0.050518</td>\n",
       "    </tr>\n",
       "    <tr>\n",
       "      <th>1.0685</th>\n",
       "      <th>24</th>\n",
       "      <td>-0.050491</td>\n",
       "      <td>-0.000408</td>\n",
       "      <td>-0.050900</td>\n",
       "    </tr>\n",
       "    <tr>\n",
       "      <th>1013.0000</th>\n",
       "      <th>76</th>\n",
       "      <td>0.000004</td>\n",
       "      <td>-0.101959</td>\n",
       "      <td>-0.101954</td>\n",
       "    </tr>\n",
       "  </tbody>\n",
       "</table>\n",
       "</div>"
      ],
      "text/plain": [
       "                     flug      fldg     fnetg\n",
       "pressure  level                              \n",
       "0.0000    1     -0.050521  0.000002 -0.050518\n",
       "1.0685    24    -0.050491 -0.000408 -0.050900\n",
       "1013.0000 76     0.000004 -0.101959 -0.101954"
      ]
     },
     "metadata": {},
     "output_type": "display_data"
    },
    {
     "name": "stdout",
     "output_type": "stream",
     "text": [
      "Table. Fluxes. (CLIRAD) - (WGT igg=10 wgt_flux=1)\n"
     ]
    },
    {
     "data": {
      "text/html": [
       "<a id=\"Best-fit_Parameters\"></a>"
      ],
      "text/plain": [
       "<IPython.core.display.HTML object>"
      ]
     },
     "metadata": {},
     "output_type": "display_data"
    },
    {
     "data": {
      "text/markdown": [
       "# Best-fit Parameters"
      ],
      "text/plain": [
       "<IPython.core.display.Markdown object>"
      ]
     },
     "metadata": {},
     "output_type": "display_data"
    },
    {
     "name": "stdout",
     "output_type": "stream",
     "text": [
      "Best-fit values for each (gas, band)\n",
      "------------------------------------\n",
      "o n2o band3a\n",
      "  atmpro = mls\n",
      "  band = 3a\n",
      "  commitnumber = 2bd1f75\n",
      "  conc = 3.2e-07\n",
      "  dv = 0.01\n",
      "  klin = 2.22e-20\n",
      "  molecule = n2o\n",
      "  ng_adju = [0, 0]\n",
      "  ng_refs = [1, 2]\n",
      "  nv = 100\n",
      "  option_compute_btable = 0\n",
      "  option_compute_ktable = 1\n",
      "  option_wgt_flux = 1\n",
      "  option_wgt_k = 1\n",
      "  ref_pts = [(1, 250), (500, 250)]\n",
      "  tsfc = 294\n",
      "  vmax = 620\n",
      "  vmin = 540\n",
      "  w_diffuse = [(1.8,), (1.66, 1.8)]\n",
      "  wgt = [(0.9,), (0.5, 0.95)]\n"
     ]
    }
   ],
   "source": [
    "script()"
   ]
  },
  {
   "cell_type": "code",
   "execution_count": 13,
   "metadata": {
    "collapsed": true
   },
   "outputs": [
    {
     "data": {
      "text/html": [
       "<script>\n",
       "code_show=true; \n",
       "function code_toggle() {\n",
       " if (code_show){\n",
       " $('div.input').hide();\n",
       " } else {\n",
       " $('div.input').show();\n",
       " }\n",
       " code_show = !code_show\n",
       "} \n",
       "$( document ).ready(code_toggle);\n",
       "</script>\n",
       "<form action=\"javascript:code_toggle()\"><input type=\"submit\" value=\"Click here to toggle on/off the raw code.\"></form>"
      ],
      "text/plain": [
       "<IPython.core.display.HTML object>"
      ]
     },
     "execution_count": 13,
     "metadata": {},
     "output_type": "execute_result"
    }
   ],
   "source": [
    "display.HTML('''<script>\n",
    "code_show=true; \n",
    "function code_toggle() {\n",
    " if (code_show){\n",
    " $('div.input').hide();\n",
    " } else {\n",
    " $('div.input').show();\n",
    " }\n",
    " code_show = !code_show\n",
    "} \n",
    "$( document ).ready(code_toggle);\n",
    "</script>\n",
    "<form action=\"javascript:code_toggle()\"><input type=\"submit\" value=\"Click here to toggle on/off the raw code.\"></form>''')"
   ]
  }
 ],
 "metadata": {
  "kernelspec": {
   "display_name": "Python 3",
   "language": "python",
   "name": "python3"
  },
  "language_info": {
   "codemirror_mode": {
    "name": "ipython",
    "version": 3
   },
   "file_extension": ".py",
   "mimetype": "text/x-python",
   "name": "python",
   "nbconvert_exporter": "python",
   "pygments_lexer": "ipython3",
   "version": "3.6.1"
  }
 },
 "nbformat": 4,
 "nbformat_minor": 2
}
