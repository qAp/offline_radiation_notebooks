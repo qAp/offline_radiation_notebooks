{
 "cells": [
  {
   "cell_type": "code",
   "execution_count": 1,
   "metadata": {
    "collapsed": true
   },
   "outputs": [],
   "source": [
    "%matplotlib inline\n",
    "import os\n",
    "import re\n",
    "import io\n",
    "import itertools\n",
    "import pprint\n",
    "\n",
    "from bokeh.io import output_notebook, show\n",
    "from bokeh.layouts import gridplot\n",
    "from bokeh.plotting import figure\n",
    "from bokeh.models import Range1d, Legend\n",
    "from bokeh.palettes import all_palettes\n",
    "\n",
    "import matplotlib\n",
    "import matplotlib.pyplot as plt\n",
    "import numpy as np\n",
    "import pandas as pd\n",
    "import xarray as xr\n",
    "\n",
    "import climatools.lblnew.bestfit_params as bestfits\n",
    "from climatools.lblnew import setup_bestfit, setup_overlap\n",
    "import climatools.lblnew.pipeline as pipe_lblnew\n",
    "import climatools.cliradlw.setup as setup_cliradlw\n",
    "import climatools.cliradlw.pipeline as pipe_cliradlw\n",
    "\n",
    "import climatools.html.html as climahtml\n",
    "from climatools.lblnew.dataio import *\n",
    "from climatools.plot.plot import *\n",
    "\n",
    "\n",
    "import IPython.display as display"
   ]
  },
  {
   "cell_type": "code",
   "execution_count": 2,
   "metadata": {
    "collapsed": true
   },
   "outputs": [],
   "source": [
    "%run param.py"
   ]
  },
  {
   "cell_type": "code",
   "execution_count": 3,
   "metadata": {
    "collapsed": true
   },
   "outputs": [],
   "source": [
    "def load_output_file(path_csv):\n",
    "    '''\n",
    "    Load lblnew output .csv file to xarray.Dataset\n",
    "    \n",
    "    Parameters\n",
    "    ----------\n",
    "    path_csv: str\n",
    "              Path to the .csv file to be loaded.\n",
    "    ds: xarray.Dataset\n",
    "        Data in the input file in the form of an xarray.Dataset.\n",
    "    '''\n",
    "    toindex = ['band', 'pressure', 'igg', 'g']    \n",
    "    df = pd.read_csv(path_csv, sep=r'\\s+')\n",
    "    df = df.set_index([i for i in toindex if i in df.columns])\n",
    "    df = df.rename(columns={'sfu': 'flug',\n",
    "                            'sfd': 'fldg',\n",
    "                            'fnet': 'fnetg',\n",
    "                            'coolr': 'coolrg'})\n",
    "    ds = xr.Dataset.from_dataframe(df)\n",
    "\n",
    "    for l in ('level', 'layer'):\n",
    "        if l in ds.data_vars:\n",
    "            if len(ds[l].dims) > 1:\n",
    "                surface = {d: 0 for d in ds.dims if d != 'pressure'}\n",
    "                coord_level = ds[l][surface]\n",
    "                ds.coords[l] = ('pressure', coord_level)\n",
    "            else:\n",
    "                ds.coords[l] = ('pressure', ds[l])\n",
    "    \n",
    "    return ds"
   ]
  },
  {
   "cell_type": "code",
   "execution_count": 4,
   "metadata": {
    "collapsed": true
   },
   "outputs": [],
   "source": [
    "def lblnew_setup(param=None):\n",
    "    if 'ng_refs' in param:\n",
    "        return {'setup': setup_bestfit,\n",
    "                'fname_flux_crd': 'output_flux.dat',\n",
    "                'fname_cool_crd': 'output_coolr.dat',\n",
    "                'fname_flux_wgt': 'output_wfluxg.dat',\n",
    "                'fname_cool_wgt': 'output_wcoolrg.dat'}\n",
    "    else:\n",
    "        return {'setup': setup_overlap,\n",
    "                'fname_flux_crd': 'output_flux.dat',\n",
    "                'fname_cool_crd': 'output_coolr.dat',\n",
    "                'fname_flux_wgt': 'output_wflux.dat',\n",
    "                'fname_cool_wgt': 'output_wcoolr.dat'}\n",
    "\n",
    "    \n",
    "def load_lblnew_data(param):\n",
    "    \n",
    "    fname_dsname = [('fname_flux_crd', 'ds_flux_crd'),\n",
    "                    ('fname_cool_crd', 'ds_cool_crd'),\n",
    "                    ('fname_flux_wgt', 'ds_flux_wgt'),\n",
    "                    ('fname_cool_wgt', 'ds_cool_wgt')]\n",
    "    \n",
    "    d = lblnew_setup(param)\n",
    "    dir_fortran = pipe_lblnew.get_dir_case(param, setup=d['setup'])\n",
    "    \n",
    "    data_dict = {}\n",
    "    for fname, dsname in fname_dsname:\n",
    "        fpath = os.path.join(dir_fortran, d[fname])\n",
    "        data_dict[dsname] = load_output_file(fpath)\n",
    "    return data_dict\n",
    "    \n",
    "\n",
    "    \n",
    "    "
   ]
  },
  {
   "cell_type": "code",
   "execution_count": 5,
   "metadata": {
    "collapsed": true
   },
   "outputs": [],
   "source": [
    "d = load_lblnew_data(PARAM_LBLNEW)\n",
    "\n",
    "DS_FLUX_CRD = d['ds_flux_crd']\n",
    "DS_COOL_CRD = d['ds_cool_crd']\n",
    "DS_FLUX_WGT = d['ds_flux_wgt']\n",
    "DS_COOL_WGT = d['ds_cool_wgt']"
   ]
  },
  {
   "cell_type": "code",
   "execution_count": 6,
   "metadata": {
    "collapsed": true
   },
   "outputs": [],
   "source": [
    "DIR_FORTRAN = pipe_cliradlw.get_fortran_dir(PARAM, \n",
    "                                            setup=setup_cliradlw)\n",
    "\n",
    "PATH_FLUX = os.path.join(DIR_FORTRAN, 'output_flux.dat')\n",
    "PATH_COOL = os.path.join(DIR_FORTRAN, 'output_coolr.dat')\n",
    "\n",
    "DS_FLUX = load_output_file(PATH_FLUX)\n",
    "DS_COOL = load_output_file(PATH_COOL)"
   ]
  },
  {
   "cell_type": "code",
   "execution_count": 7,
   "metadata": {
    "collapsed": true
   },
   "outputs": [
    {
     "data": {
      "text/html": [
       "\n",
       "    <div class=\"bk-root\">\n",
       "        <a href=\"https://bokeh.pydata.org\" target=\"_blank\" class=\"bk-logo bk-logo-small bk-logo-notebook\"></a>\n",
       "        <span id=\"f1decf2c-4508-47e5-97a7-0679fd7fba4e\">Loading BokehJS ...</span>\n",
       "    </div>"
      ]
     },
     "metadata": {},
     "output_type": "display_data"
    },
    {
     "data": {
      "application/javascript": [
       "\n",
       "(function(root) {\n",
       "  function now() {\n",
       "    return new Date();\n",
       "  }\n",
       "\n",
       "  var force = true;\n",
       "\n",
       "  if (typeof (root._bokeh_onload_callbacks) === \"undefined\" || force === true) {\n",
       "    root._bokeh_onload_callbacks = [];\n",
       "    root._bokeh_is_loading = undefined;\n",
       "  }\n",
       "\n",
       "  var JS_MIME_TYPE = 'application/javascript';\n",
       "  var HTML_MIME_TYPE = 'text/html';\n",
       "  var EXEC_MIME_TYPE = 'application/vnd.bokehjs_exec.v0+json';\n",
       "  var CLASS_NAME = 'output_bokeh rendered_html';\n",
       "\n",
       "  /**\n",
       "   * Render data to the DOM node\n",
       "   */\n",
       "  function render(props, node) {\n",
       "    var script = document.createElement(\"script\");\n",
       "    node.appendChild(script);\n",
       "  }\n",
       "\n",
       "  /**\n",
       "   * Handle when an output is cleared or removed\n",
       "   */\n",
       "  function handleClearOutput(event, handle) {\n",
       "    var cell = handle.cell;\n",
       "\n",
       "    var id = cell.output_area._bokeh_element_id;\n",
       "    var server_id = cell.output_area._bokeh_server_id;\n",
       "    // Clean up Bokeh references\n",
       "    if (id !== undefined) {\n",
       "      Bokeh.index[id].model.document.clear();\n",
       "      delete Bokeh.index[id];\n",
       "    }\n",
       "\n",
       "    if (server_id !== undefined) {\n",
       "      // Clean up Bokeh references\n",
       "      var cmd = \"from bokeh.io.state import curstate; print(curstate().uuid_to_server['\" + server_id + \"'].get_sessions()[0].document.roots[0]._id)\";\n",
       "      cell.notebook.kernel.execute(cmd, {\n",
       "        iopub: {\n",
       "          output: function(msg) {\n",
       "            var element_id = msg.content.text.trim();\n",
       "            Bokeh.index[element_id].model.document.clear();\n",
       "            delete Bokeh.index[element_id];\n",
       "          }\n",
       "        }\n",
       "      });\n",
       "      // Destroy server and session\n",
       "      var cmd = \"import bokeh.io.notebook as ion; ion.destroy_server('\" + server_id + \"')\";\n",
       "      cell.notebook.kernel.execute(cmd);\n",
       "    }\n",
       "  }\n",
       "\n",
       "  /**\n",
       "   * Handle when a new output is added\n",
       "   */\n",
       "  function handleAddOutput(event, handle) {\n",
       "    var output_area = handle.output_area;\n",
       "    var output = handle.output;\n",
       "\n",
       "    // limit handleAddOutput to display_data with EXEC_MIME_TYPE content only\n",
       "    if ((output.output_type != \"display_data\") || (!output.data.hasOwnProperty(EXEC_MIME_TYPE))) {\n",
       "      return\n",
       "    }\n",
       "\n",
       "    var toinsert = output_area.element.find(\".\" + CLASS_NAME.split(' ')[0]);\n",
       "\n",
       "    if (output.metadata[EXEC_MIME_TYPE][\"id\"] !== undefined) {\n",
       "      toinsert[0].firstChild.textContent = output.data[JS_MIME_TYPE];\n",
       "      // store reference to embed id on output_area\n",
       "      output_area._bokeh_element_id = output.metadata[EXEC_MIME_TYPE][\"id\"];\n",
       "    }\n",
       "    if (output.metadata[EXEC_MIME_TYPE][\"server_id\"] !== undefined) {\n",
       "      var bk_div = document.createElement(\"div\");\n",
       "      bk_div.innerHTML = output.data[HTML_MIME_TYPE];\n",
       "      var script_attrs = bk_div.children[0].attributes;\n",
       "      for (var i = 0; i < script_attrs.length; i++) {\n",
       "        toinsert[0].firstChild.setAttribute(script_attrs[i].name, script_attrs[i].value);\n",
       "      }\n",
       "      // store reference to server id on output_area\n",
       "      output_area._bokeh_server_id = output.metadata[EXEC_MIME_TYPE][\"server_id\"];\n",
       "    }\n",
       "  }\n",
       "\n",
       "  function register_renderer(events, OutputArea) {\n",
       "\n",
       "    function append_mime(data, metadata, element) {\n",
       "      // create a DOM node to render to\n",
       "      var toinsert = this.create_output_subarea(\n",
       "        metadata,\n",
       "        CLASS_NAME,\n",
       "        EXEC_MIME_TYPE\n",
       "      );\n",
       "      this.keyboard_manager.register_events(toinsert);\n",
       "      // Render to node\n",
       "      var props = {data: data, metadata: metadata[EXEC_MIME_TYPE]};\n",
       "      render(props, toinsert[0]);\n",
       "      element.append(toinsert);\n",
       "      return toinsert\n",
       "    }\n",
       "\n",
       "    /* Handle when an output is cleared or removed */\n",
       "    events.on('clear_output.CodeCell', handleClearOutput);\n",
       "    events.on('delete.Cell', handleClearOutput);\n",
       "\n",
       "    /* Handle when a new output is added */\n",
       "    events.on('output_added.OutputArea', handleAddOutput);\n",
       "\n",
       "    /**\n",
       "     * Register the mime type and append_mime function with output_area\n",
       "     */\n",
       "    OutputArea.prototype.register_mime_type(EXEC_MIME_TYPE, append_mime, {\n",
       "      /* Is output safe? */\n",
       "      safe: true,\n",
       "      /* Index of renderer in `output_area.display_order` */\n",
       "      index: 0\n",
       "    });\n",
       "  }\n",
       "\n",
       "  // register the mime type if in Jupyter Notebook environment and previously unregistered\n",
       "  if (root.Jupyter !== undefined) {\n",
       "    var events = require('base/js/events');\n",
       "    var OutputArea = require('notebook/js/outputarea').OutputArea;\n",
       "\n",
       "    if (OutputArea.prototype.mime_types().indexOf(EXEC_MIME_TYPE) == -1) {\n",
       "      register_renderer(events, OutputArea);\n",
       "    }\n",
       "  }\n",
       "\n",
       "  \n",
       "  if (typeof (root._bokeh_timeout) === \"undefined\" || force === true) {\n",
       "    root._bokeh_timeout = Date.now() + 5000;\n",
       "    root._bokeh_failed_load = false;\n",
       "  }\n",
       "\n",
       "  var NB_LOAD_WARNING = {'data': {'text/html':\n",
       "     \"<div style='background-color: #fdd'>\\n\"+\n",
       "     \"<p>\\n\"+\n",
       "     \"BokehJS does not appear to have successfully loaded. If loading BokehJS from CDN, this \\n\"+\n",
       "     \"may be due to a slow or bad network connection. Possible fixes:\\n\"+\n",
       "     \"</p>\\n\"+\n",
       "     \"<ul>\\n\"+\n",
       "     \"<li>re-rerun `output_notebook()` to attempt to load from CDN again, or</li>\\n\"+\n",
       "     \"<li>use INLINE resources instead, as so:</li>\\n\"+\n",
       "     \"</ul>\\n\"+\n",
       "     \"<code>\\n\"+\n",
       "     \"from bokeh.resources import INLINE\\n\"+\n",
       "     \"output_notebook(resources=INLINE)\\n\"+\n",
       "     \"</code>\\n\"+\n",
       "     \"</div>\"}};\n",
       "\n",
       "  function display_loaded() {\n",
       "    var el = document.getElementById(\"f1decf2c-4508-47e5-97a7-0679fd7fba4e\");\n",
       "    if (el != null) {\n",
       "      el.textContent = \"BokehJS is loading...\";\n",
       "    }\n",
       "    if (root.Bokeh !== undefined) {\n",
       "      if (el != null) {\n",
       "        el.textContent = \"BokehJS \" + root.Bokeh.version + \" successfully loaded.\";\n",
       "      }\n",
       "    } else if (Date.now() < root._bokeh_timeout) {\n",
       "      setTimeout(display_loaded, 100)\n",
       "    }\n",
       "  }\n",
       "\n",
       "\n",
       "  function run_callbacks() {\n",
       "    try {\n",
       "      root._bokeh_onload_callbacks.forEach(function(callback) { callback() });\n",
       "    }\n",
       "    finally {\n",
       "      delete root._bokeh_onload_callbacks\n",
       "    }\n",
       "    console.info(\"Bokeh: all callbacks have finished\");\n",
       "  }\n",
       "\n",
       "  function load_libs(js_urls, callback) {\n",
       "    root._bokeh_onload_callbacks.push(callback);\n",
       "    if (root._bokeh_is_loading > 0) {\n",
       "      console.log(\"Bokeh: BokehJS is being loaded, scheduling callback at\", now());\n",
       "      return null;\n",
       "    }\n",
       "    if (js_urls == null || js_urls.length === 0) {\n",
       "      run_callbacks();\n",
       "      return null;\n",
       "    }\n",
       "    console.log(\"Bokeh: BokehJS not loaded, scheduling load and callback at\", now());\n",
       "    root._bokeh_is_loading = js_urls.length;\n",
       "    for (var i = 0; i < js_urls.length; i++) {\n",
       "      var url = js_urls[i];\n",
       "      var s = document.createElement('script');\n",
       "      s.src = url;\n",
       "      s.async = false;\n",
       "      s.onreadystatechange = s.onload = function() {\n",
       "        root._bokeh_is_loading--;\n",
       "        if (root._bokeh_is_loading === 0) {\n",
       "          console.log(\"Bokeh: all BokehJS libraries loaded\");\n",
       "          run_callbacks()\n",
       "        }\n",
       "      };\n",
       "      s.onerror = function() {\n",
       "        console.warn(\"failed to load library \" + url);\n",
       "      };\n",
       "      console.log(\"Bokeh: injecting script tag for BokehJS library: \", url);\n",
       "      document.getElementsByTagName(\"head\")[0].appendChild(s);\n",
       "    }\n",
       "  };var element = document.getElementById(\"f1decf2c-4508-47e5-97a7-0679fd7fba4e\");\n",
       "  if (element == null) {\n",
       "    console.log(\"Bokeh: ERROR: autoload.js configured with elementid 'f1decf2c-4508-47e5-97a7-0679fd7fba4e' but no matching script tag was found. \")\n",
       "    return false;\n",
       "  }\n",
       "\n",
       "  var js_urls = [\"https://cdn.pydata.org/bokeh/release/bokeh-0.12.14.min.js\", \"https://cdn.pydata.org/bokeh/release/bokeh-widgets-0.12.14.min.js\", \"https://cdn.pydata.org/bokeh/release/bokeh-tables-0.12.14.min.js\", \"https://cdn.pydata.org/bokeh/release/bokeh-gl-0.12.14.min.js\"];\n",
       "\n",
       "  var inline_js = [\n",
       "    function(Bokeh) {\n",
       "      Bokeh.set_log_level(\"info\");\n",
       "    },\n",
       "    \n",
       "    function(Bokeh) {\n",
       "      \n",
       "    },\n",
       "    function(Bokeh) {\n",
       "      console.log(\"Bokeh: injecting CSS: https://cdn.pydata.org/bokeh/release/bokeh-0.12.14.min.css\");\n",
       "      Bokeh.embed.inject_css(\"https://cdn.pydata.org/bokeh/release/bokeh-0.12.14.min.css\");\n",
       "      console.log(\"Bokeh: injecting CSS: https://cdn.pydata.org/bokeh/release/bokeh-widgets-0.12.14.min.css\");\n",
       "      Bokeh.embed.inject_css(\"https://cdn.pydata.org/bokeh/release/bokeh-widgets-0.12.14.min.css\");\n",
       "      console.log(\"Bokeh: injecting CSS: https://cdn.pydata.org/bokeh/release/bokeh-tables-0.12.14.min.css\");\n",
       "      Bokeh.embed.inject_css(\"https://cdn.pydata.org/bokeh/release/bokeh-tables-0.12.14.min.css\");\n",
       "    }\n",
       "  ];\n",
       "\n",
       "  function run_inline_js() {\n",
       "    \n",
       "    if ((root.Bokeh !== undefined) || (force === true)) {\n",
       "      for (var i = 0; i < inline_js.length; i++) {\n",
       "        inline_js[i].call(root, root.Bokeh);\n",
       "      }if (force === true) {\n",
       "        display_loaded();\n",
       "      }} else if (Date.now() < root._bokeh_timeout) {\n",
       "      setTimeout(run_inline_js, 100);\n",
       "    } else if (!root._bokeh_failed_load) {\n",
       "      console.log(\"Bokeh: BokehJS failed to load within specified timeout.\");\n",
       "      root._bokeh_failed_load = true;\n",
       "    } else if (force !== true) {\n",
       "      var cell = $(document.getElementById(\"f1decf2c-4508-47e5-97a7-0679fd7fba4e\")).parents('.cell').data().cell;\n",
       "      cell.output_area.append_execute_result(NB_LOAD_WARNING)\n",
       "    }\n",
       "\n",
       "  }\n",
       "\n",
       "  if (root._bokeh_is_loading === 0) {\n",
       "    console.log(\"Bokeh: BokehJS loaded, going straight to plotting\");\n",
       "    run_inline_js();\n",
       "  } else {\n",
       "    load_libs(js_urls, function() {\n",
       "      console.log(\"Bokeh: BokehJS plotting callback run at\", now());\n",
       "      run_inline_js();\n",
       "    });\n",
       "  }\n",
       "}(window));"
      ],
      "application/vnd.bokehjs_load.v0+json": "\n(function(root) {\n  function now() {\n    return new Date();\n  }\n\n  var force = true;\n\n  if (typeof (root._bokeh_onload_callbacks) === \"undefined\" || force === true) {\n    root._bokeh_onload_callbacks = [];\n    root._bokeh_is_loading = undefined;\n  }\n\n  \n\n  \n  if (typeof (root._bokeh_timeout) === \"undefined\" || force === true) {\n    root._bokeh_timeout = Date.now() + 5000;\n    root._bokeh_failed_load = false;\n  }\n\n  var NB_LOAD_WARNING = {'data': {'text/html':\n     \"<div style='background-color: #fdd'>\\n\"+\n     \"<p>\\n\"+\n     \"BokehJS does not appear to have successfully loaded. If loading BokehJS from CDN, this \\n\"+\n     \"may be due to a slow or bad network connection. Possible fixes:\\n\"+\n     \"</p>\\n\"+\n     \"<ul>\\n\"+\n     \"<li>re-rerun `output_notebook()` to attempt to load from CDN again, or</li>\\n\"+\n     \"<li>use INLINE resources instead, as so:</li>\\n\"+\n     \"</ul>\\n\"+\n     \"<code>\\n\"+\n     \"from bokeh.resources import INLINE\\n\"+\n     \"output_notebook(resources=INLINE)\\n\"+\n     \"</code>\\n\"+\n     \"</div>\"}};\n\n  function display_loaded() {\n    var el = document.getElementById(\"f1decf2c-4508-47e5-97a7-0679fd7fba4e\");\n    if (el != null) {\n      el.textContent = \"BokehJS is loading...\";\n    }\n    if (root.Bokeh !== undefined) {\n      if (el != null) {\n        el.textContent = \"BokehJS \" + root.Bokeh.version + \" successfully loaded.\";\n      }\n    } else if (Date.now() < root._bokeh_timeout) {\n      setTimeout(display_loaded, 100)\n    }\n  }\n\n\n  function run_callbacks() {\n    try {\n      root._bokeh_onload_callbacks.forEach(function(callback) { callback() });\n    }\n    finally {\n      delete root._bokeh_onload_callbacks\n    }\n    console.info(\"Bokeh: all callbacks have finished\");\n  }\n\n  function load_libs(js_urls, callback) {\n    root._bokeh_onload_callbacks.push(callback);\n    if (root._bokeh_is_loading > 0) {\n      console.log(\"Bokeh: BokehJS is being loaded, scheduling callback at\", now());\n      return null;\n    }\n    if (js_urls == null || js_urls.length === 0) {\n      run_callbacks();\n      return null;\n    }\n    console.log(\"Bokeh: BokehJS not loaded, scheduling load and callback at\", now());\n    root._bokeh_is_loading = js_urls.length;\n    for (var i = 0; i < js_urls.length; i++) {\n      var url = js_urls[i];\n      var s = document.createElement('script');\n      s.src = url;\n      s.async = false;\n      s.onreadystatechange = s.onload = function() {\n        root._bokeh_is_loading--;\n        if (root._bokeh_is_loading === 0) {\n          console.log(\"Bokeh: all BokehJS libraries loaded\");\n          run_callbacks()\n        }\n      };\n      s.onerror = function() {\n        console.warn(\"failed to load library \" + url);\n      };\n      console.log(\"Bokeh: injecting script tag for BokehJS library: \", url);\n      document.getElementsByTagName(\"head\")[0].appendChild(s);\n    }\n  };var element = document.getElementById(\"f1decf2c-4508-47e5-97a7-0679fd7fba4e\");\n  if (element == null) {\n    console.log(\"Bokeh: ERROR: autoload.js configured with elementid 'f1decf2c-4508-47e5-97a7-0679fd7fba4e' but no matching script tag was found. \")\n    return false;\n  }\n\n  var js_urls = [\"https://cdn.pydata.org/bokeh/release/bokeh-0.12.14.min.js\", \"https://cdn.pydata.org/bokeh/release/bokeh-widgets-0.12.14.min.js\", \"https://cdn.pydata.org/bokeh/release/bokeh-tables-0.12.14.min.js\", \"https://cdn.pydata.org/bokeh/release/bokeh-gl-0.12.14.min.js\"];\n\n  var inline_js = [\n    function(Bokeh) {\n      Bokeh.set_log_level(\"info\");\n    },\n    \n    function(Bokeh) {\n      \n    },\n    function(Bokeh) {\n      console.log(\"Bokeh: injecting CSS: https://cdn.pydata.org/bokeh/release/bokeh-0.12.14.min.css\");\n      Bokeh.embed.inject_css(\"https://cdn.pydata.org/bokeh/release/bokeh-0.12.14.min.css\");\n      console.log(\"Bokeh: injecting CSS: https://cdn.pydata.org/bokeh/release/bokeh-widgets-0.12.14.min.css\");\n      Bokeh.embed.inject_css(\"https://cdn.pydata.org/bokeh/release/bokeh-widgets-0.12.14.min.css\");\n      console.log(\"Bokeh: injecting CSS: https://cdn.pydata.org/bokeh/release/bokeh-tables-0.12.14.min.css\");\n      Bokeh.embed.inject_css(\"https://cdn.pydata.org/bokeh/release/bokeh-tables-0.12.14.min.css\");\n    }\n  ];\n\n  function run_inline_js() {\n    \n    if ((root.Bokeh !== undefined) || (force === true)) {\n      for (var i = 0; i < inline_js.length; i++) {\n        inline_js[i].call(root, root.Bokeh);\n      }if (force === true) {\n        display_loaded();\n      }} else if (Date.now() < root._bokeh_timeout) {\n      setTimeout(run_inline_js, 100);\n    } else if (!root._bokeh_failed_load) {\n      console.log(\"Bokeh: BokehJS failed to load within specified timeout.\");\n      root._bokeh_failed_load = true;\n    } else if (force !== true) {\n      var cell = $(document.getElementById(\"f1decf2c-4508-47e5-97a7-0679fd7fba4e\")).parents('.cell').data().cell;\n      cell.output_area.append_execute_result(NB_LOAD_WARNING)\n    }\n\n  }\n\n  if (root._bokeh_is_loading === 0) {\n    console.log(\"Bokeh: BokehJS loaded, going straight to plotting\");\n    run_inline_js();\n  } else {\n    load_libs(js_urls, function() {\n      console.log(\"Bokeh: BokehJS plotting callback run at\", now());\n      run_inline_js();\n    });\n  }\n}(window));"
     },
     "metadata": {},
     "output_type": "display_data"
    }
   ],
   "source": [
    "output_notebook()"
   ]
  },
  {
   "cell_type": "code",
   "execution_count": 8,
   "metadata": {
    "collapsed": true
   },
   "outputs": [],
   "source": [
    "def fmt_cool(ds_in):\n",
    "    ds = ds_in.copy(deep=True)\n",
    "    if 'igg' in ds.dims:\n",
    "        ds = ds.sel(igg=1)\n",
    "\n",
    "    if 'g' in ds.dims:\n",
    "        ds = ds.sum('g')\n",
    "            \n",
    "    if 'band' in ds.dims:\n",
    "        try:\n",
    "            ds = ds.squeeze('band')\n",
    "        except ValueError:\n",
    "            ds = ds.sum('band')\n",
    "                \n",
    "    return ds['coolrg']\n",
    "\n",
    "\n",
    "def pltdata_cooling_1(ds_cool=None,\n",
    "                      ds_cool_crd=None, ds_cool_wgt=None):\n",
    "    \n",
    "\n",
    "\n",
    "    colors = all_palettes['Set1'][4]\n",
    "    data = [{'label': 'CLIRAD `coolr_bands`',\n",
    "             'srs': fmt_cool(ds_cool),\n",
    "             'line_dash': 'dashed', 'line_width': 5,\n",
    "             'color': colors[0], 'alpha': .6},\n",
    "            {'label': 'CRD',\n",
    "             'srs': fmt_cool(ds_cool_crd),\n",
    "             'line_dash': 'solid', 'line_width': 1.5,\n",
    "             'marker': 'circle', 'marker_size': 5,\n",
    "             'color': colors[2], 'alpha': 1,},\n",
    "            {'label': 'WGT igg=10 wgt_flux=2',\n",
    "             'srs': fmt_cool(ds_cool_wgt),\n",
    "             'line_dash': 'solid', 'line_width': 3,\n",
    "             'marker': 'square', 'marker_size': 5,\n",
    "             'color': colors[3], 'alpha': .6}]\n",
    "    return data\n",
    "\n",
    "\n",
    "def nice_xlims(pltdata=None, prange=None):\n",
    "    \n",
    "    def get_slice(srs):\n",
    "        return srs.sel(pressure=slice(*prange))\n",
    "    \n",
    "    srss = [d['srs'] for d in pltdata]\n",
    "    vmin = min([get_slice(srs).min() for srs in srss])\n",
    "    vmax = max([get_slice(srs).max() for srs in srss])\n",
    "    dv = (vmax - vmin) * .01\n",
    "    return float(vmin - dv), float(vmax + dv)\n",
    "    \n",
    "\n",
    "def plt_cooling_bokeh(pltdata=None):\n",
    "    '''\n",
    "    Plot a list of cooling rate profiles using bokeh.\n",
    "    '''\n",
    "    ymin = 1e-2 \n",
    "    ymax = 1020 \n",
    "        \n",
    "    p1 = figure(title=\"Linear pressure scale\", \n",
    "                plot_width=400)        \n",
    "    xmin, xmax = nice_xlims(pltdata, prange=(50, 1050))\n",
    "    for d in pltdata:\n",
    "        if 'marker' in d:\n",
    "            getattr(p1, d['marker'])(d['srs'].values, \n",
    "                    d['srs'].coords['pressure'].values,\n",
    "                    color=d['color'], alpha=.7)\n",
    "        p1.line(d['srs'].values, \n",
    "                d['srs'].coords['pressure'].values,\n",
    "                color=d['color'], alpha=d['alpha'], \n",
    "                line_width=d['line_width'], line_dash=d['line_dash'])\n",
    "    \n",
    "    p1.y_range = Range1d(ymax, ymin)\n",
    "    p1.yaxis.axis_label = 'pressure [mb]'   \n",
    "    p1.x_range = Range1d(xmin, xmax)\n",
    "    p1.xaxis.axis_label = 'cooling rate [K/day]'\n",
    "            \n",
    "    p2 = figure(title='Log pressure scale', y_axis_type='log',\n",
    "                plot_width=560)\n",
    "    xmin, xmax = nice_xlims(pltdata, prange=(.01, 200))\n",
    "    \n",
    "    rs = []\n",
    "    for d in pltdata:\n",
    "        rd = []\n",
    "        if 'marker' in d:\n",
    "            r_mark = getattr(p2, d['marker'])(d['srs'].values, \n",
    "                        d['srs'].coords['pressure'].values,\n",
    "                        color=d['color'], alpha=.7)\n",
    "            rd.append(r_mark)\n",
    "        r_line = p2.line(d['srs'].values, \n",
    "                    d['srs'].coords['pressure'].values,\n",
    "                    color=d['color'], alpha=d['alpha'], \n",
    "                    line_width=d['line_width'], line_dash=d['line_dash'])\n",
    "        rd.append(r_line)\n",
    "      \n",
    "        rs.append(rd)\n",
    "        \n",
    "    p2.y_range = Range1d(ymax, ymin)  \n",
    "    p2.yaxis.axis_label = 'pressure [mb]'\n",
    "    \n",
    "    p2.x_range = Range1d(xmin, xmax)\n",
    "    p2.xaxis.axis_label = 'cooling rate [K/day]'\n",
    "    \n",
    "    items = [(d['label'], r) for r, d in zip(rs, pltdata)]\n",
    "    legend = Legend(items=items, location=(10, -30))\n",
    "    legend.label_text_font_size = '8pt'\n",
    "    \n",
    "    p2.add_layout(legend, 'right')  \n",
    "    \n",
    "    show(gridplot(p1, p2, ncols=2, plot_height=500))\n",
    "    \n",
    "\n",
    "def script_plt_cooling():\n",
    "    pltdata = pltdata_cooling_1(\n",
    "        ds_cool=DS_COOL,\n",
    "        ds_cool_crd=DS_COOL_CRD,\n",
    "        ds_cool_wgt=DS_COOL_WGT)\n",
    "    plt_cooling_bokeh(pltdata=pltdata)\n",
    "    print('''FIGURE. Cooling rate profiles.''')"
   ]
  },
  {
   "cell_type": "code",
   "execution_count": 9,
   "metadata": {
    "collapsed": true
   },
   "outputs": [],
   "source": [
    "def fmt_flux(ds_in):\n",
    "    ds = ds_in.copy(deep=True)\n",
    "    \n",
    "    for l in ('level', 'layer'):\n",
    "        if l in ds.data_vars:\n",
    "            if len(ds[l].dims) > 1:\n",
    "                surface = {d: 0 for d in ds.dims if d != 'pressure'}\n",
    "                coord_level = ds[l][surface]\n",
    "                ds.coords[l] = ('pressure', coord_level)\n",
    "            else:\n",
    "                ds.coords[l] = ('pressure', ds[l])\n",
    "        \n",
    "    ds = ds.isel(pressure=[0, 23, -1])\n",
    "        \n",
    "    if 'igg' in ds.dims:\n",
    "        ds = ds.sel(igg=[1])\n",
    "        ds = ds.squeeze('igg').drop('igg')\n",
    "    \n",
    "    if 'g' in ds.dims:\n",
    "        ds = ds.sum('g')\n",
    "            \n",
    "    if 'band' in ds.dims:\n",
    "        try:\n",
    "            ds = ds.squeeze('band').drop('band')\n",
    "        except ValueError:\n",
    "            ds = ds.sum('band')\n",
    "                \n",
    "    df = ds.to_dataframe()\n",
    "    df = df.set_index('level', append=True)               \n",
    "    return df\n",
    "\n",
    "\n",
    "def tbdata_flux(ds_flux=None, ds_flux_crd=None, ds_flux_wgt=None):\n",
    "    ilevels = [0, 23, -1]\n",
    "            \n",
    "    benchmark = {'label': 'WGT igg=10 wgt_flux=1',\n",
    "                 'df': fmt_flux(ds_flux_wgt)}\n",
    "    \n",
    "    tbs = [{'label': 'CRD',\n",
    "            'df': fmt_flux(ds_flux_crd)},\n",
    "           {'label': 'CLIRAD',\n",
    "            'df': fmt_flux(ds_flux)}]\n",
    "    \n",
    "    data = {'benchmark': benchmark, 'others': tbs}\n",
    "    return data\n",
    "\n",
    "\n",
    "def tb_flux(tbdata=None):\n",
    "    benchmark = tbdata['benchmark']\n",
    "    others = tbdata['others']\n",
    "    \n",
    "    def show_tb(d=None):\n",
    "        display.display(d['df'])\n",
    "        print('Table.', 'Fluxes.', d['label'])\n",
    "        \n",
    "    def show_tbdiff(d0=None, d=None):\n",
    "        df = d['df']\n",
    "        df.index = d0['df'].index\n",
    "        display.display(df - d0['df'])\n",
    "        print('Table.', 'Fluxes.', \n",
    "              '({}) - ({})'.format(d['label'], d0['label']))\n",
    "        \n",
    "    show_tb(benchmark)\n",
    "    for d in others:\n",
    "        show_tb(d)\n",
    "        \n",
    "    for d in others:\n",
    "        show_tbdiff(d=d, d0=benchmark)\n",
    "        \n",
    "        \n",
    "def script_tb_flux():\n",
    "    data = tbdata_flux(ds_flux=DS_FLUX,\n",
    "                       ds_flux_crd=DS_FLUX_CRD,\n",
    "                       ds_flux_wgt=DS_FLUX_WGT)\n",
    "    tb_flux(tbdata=data)"
   ]
  },
  {
   "cell_type": "code",
   "execution_count": 10,
   "metadata": {
    "collapsed": true
   },
   "outputs": [],
   "source": [
    "def band_map():\n",
    "    '''\n",
    "    Maps spectral bands in lblnew to spectral bands in clirad.\n",
    "    '''\n",
    "    lblnew2clirad = {'1': '1',\n",
    "            '2': '2',\n",
    "            '3a': '3',\n",
    "            '3b': '4',\n",
    "            '3c': '5',\n",
    "            '4': '6', \n",
    "            '5': '7',\n",
    "            '6': '8',\n",
    "            '7': '9', \n",
    "            '8': '10',\n",
    "            '9': '11'}\n",
    "    \n",
    "    clirad2lblnew = {clirad: lblnew \n",
    "                     for lblnew, clirad in lblnew2clirad.items()}\n",
    "    return clirad2lblnew\n",
    "\n",
    "\n",
    "def gasbands():\n",
    "    bmap = band_map()\n",
    "    gases = list(PARAM['molecule'].keys())\n",
    "    \n",
    "    bands = [bmap[str(b)] for b in PARAM['band']]\n",
    "    return list(itertools.product(gases, bands))\n",
    "\n",
    "\n",
    "def print_bestfit_params():\n",
    "    print('Best-fit values for each (gas, band)')\n",
    "    print('------------------------------------')\n",
    "    for gas, band in gasbands():\n",
    "        print('o {} band{}'.format(gas, band))\n",
    "        param = bestfits.kdist_params(molecule=gas, band=band)\n",
    "        for name, value in sorted(param.items()):\n",
    "            print(2 * ' ' + '{} = {}'.format(name, value))\n",
    "\n",
    "        \n",
    "def print_input_param():        \n",
    "    for name, value in PARAM.items():\n",
    "        print('{} = {}'.format(name, value))\n",
    "        \n",
    "        \n",
    "def print_lblnew_param():\n",
    "    for name, value in sorted(PARAM_LBLNEW.items()):\n",
    "        print('{} = {}'.format(name, value))\n"
   ]
  },
  {
   "cell_type": "code",
   "execution_count": 11,
   "metadata": {
    "collapsed": true,
    "scrolled": false
   },
   "outputs": [],
   "source": [
    "def show_html(s):\n",
    "    display.display(display.HTML(s))\n",
    "\n",
    "    \n",
    "def show_markdown(s):\n",
    "    display.display(display.Markdown(s))\n",
    "\n",
    "    \n",
    "def script():\n",
    "    \n",
    "    title = '### CLIRAD-LW'\n",
    "    s_input = 'Input Parameters'\n",
    "    s_lblnew_param = 'LBLNEW case compaired against'\n",
    "    s_bestfits = 'Best-fit Parameters'\n",
    "    s_plt_cooling = 'Cooling Rate Profiles'\n",
    "    s_tb_flux = 'Flux Comparison'\n",
    "    \n",
    "    # title\n",
    "    show_markdown('### CLIRAD-LW')\n",
    "    \n",
    "    # TOC\n",
    "    show_markdown('### Table of Contents')\n",
    "    show_html(climahtml.getHTML_hrefanchor(s_input))\n",
    "    show_html(climahtml.getHTML_hrefanchor(s_lblnew_param))\n",
    "    show_html(climahtml.getHTML_hrefanchor(s_plt_cooling))\n",
    "    show_html(climahtml.getHTML_hrefanchor(s_tb_flux))\n",
    "    show_html(climahtml.getHTML_hrefanchor(s_bestfits))\n",
    "    \n",
    "    # Input parameters\n",
    "    show_html(climahtml.getHTML_idanchor(s_input))\n",
    "    show_markdown(climahtml.getMarkdown_sectitle(s_input))\n",
    "    print_input_param()\n",
    "    \n",
    "    # LBLNEW parameters \n",
    "    show_html(climahtml.getHTML_idanchor(s_lblnew_param))\n",
    "    show_markdown(climahtml.getMarkdown_sectitle(s_lblnew_param))\n",
    "    print_lblnew_param()\n",
    "    \n",
    "    # Cooling rate profiles\n",
    "    show_html(climahtml.getHTML_idanchor(s_plt_cooling))\n",
    "    show_markdown(climahtml.getMarkdown_sectitle(s_plt_cooling))\n",
    "    script_plt_cooling()\n",
    "    \n",
    "    # Flux comparison\n",
    "    show_html(climahtml.getHTML_idanchor(s_tb_flux))\n",
    "    show_markdown(climahtml.getMarkdown_sectitle(s_tb_flux))\n",
    "    script_tb_flux()\n",
    "    \n",
    "    # Best-fit values\n",
    "    show_html(climahtml.getHTML_idanchor(s_bestfits))\n",
    "    show_markdown(climahtml.getMarkdown_sectitle(s_bestfits))\n",
    "    print_bestfit_params()\n",
    "   \n",
    "    "
   ]
  },
  {
   "cell_type": "code",
   "execution_count": 12,
   "metadata": {
    "collapsed": true,
    "scrolled": false
   },
   "outputs": [
    {
     "data": {
      "text/markdown": [
       "### CLIRAD-LW"
      ],
      "text/plain": [
       "<IPython.core.display.Markdown object>"
      ]
     },
     "metadata": {},
     "output_type": "display_data"
    },
    {
     "data": {
      "text/markdown": [
       "### Table of Contents"
      ],
      "text/plain": [
       "<IPython.core.display.Markdown object>"
      ]
     },
     "metadata": {},
     "output_type": "display_data"
    },
    {
     "data": {
      "text/html": [
       "<a href=\"#Input_Parameters\">Input Parameters</a>"
      ],
      "text/plain": [
       "<IPython.core.display.HTML object>"
      ]
     },
     "metadata": {},
     "output_type": "display_data"
    },
    {
     "data": {
      "text/html": [
       "<a href=\"#LBLNEW_case_compaired_against\">LBLNEW case compaired against</a>"
      ],
      "text/plain": [
       "<IPython.core.display.HTML object>"
      ]
     },
     "metadata": {},
     "output_type": "display_data"
    },
    {
     "data": {
      "text/html": [
       "<a href=\"#Cooling_Rate_Profiles\">Cooling Rate Profiles</a>"
      ],
      "text/plain": [
       "<IPython.core.display.HTML object>"
      ]
     },
     "metadata": {},
     "output_type": "display_data"
    },
    {
     "data": {
      "text/html": [
       "<a href=\"#Flux_Comparison\">Flux Comparison</a>"
      ],
      "text/plain": [
       "<IPython.core.display.HTML object>"
      ]
     },
     "metadata": {},
     "output_type": "display_data"
    },
    {
     "data": {
      "text/html": [
       "<a href=\"#Best-fit_Parameters\">Best-fit Parameters</a>"
      ],
      "text/plain": [
       "<IPython.core.display.HTML object>"
      ]
     },
     "metadata": {},
     "output_type": "display_data"
    },
    {
     "data": {
      "text/html": [
       "<a id=\"Input_Parameters\"></a>"
      ],
      "text/plain": [
       "<IPython.core.display.HTML object>"
      ]
     },
     "metadata": {},
     "output_type": "display_data"
    },
    {
     "data": {
      "text/markdown": [
       "# Input Parameters"
      ],
      "text/plain": [
       "<IPython.core.display.Markdown object>"
      ]
     },
     "metadata": {},
     "output_type": "display_data"
    },
    {
     "name": "stdout",
     "output_type": "stream",
     "text": [
      "atmpro = trp\n",
      "band = [3]\n",
      "commitnumber = 0c003ef_r8\n",
      "molecule = {'n2o': 3.2e-07}\n",
      "tsfc = 300\n"
     ]
    },
    {
     "data": {
      "text/html": [
       "<a id=\"LBLNEW_case_compaired_against\"></a>"
      ],
      "text/plain": [
       "<IPython.core.display.HTML object>"
      ]
     },
     "metadata": {},
     "output_type": "display_data"
    },
    {
     "data": {
      "text/markdown": [
       "# LBLNEW case compaired against"
      ],
      "text/plain": [
       "<IPython.core.display.Markdown object>"
      ]
     },
     "metadata": {},
     "output_type": "display_data"
    },
    {
     "name": "stdout",
     "output_type": "stream",
     "text": [
      "atmpro = trp\n",
      "band = 3a\n",
      "commitnumber = 2bd1f75\n",
      "conc = 3.2e-07\n",
      "dv = 0.01\n",
      "klin = 2.22e-20\n",
      "molecule = n2o\n",
      "ng_adju = [0, 0]\n",
      "ng_refs = [1, 2]\n",
      "nv = 100\n",
      "option_compute_btable = 0\n",
      "option_compute_ktable = 0\n",
      "option_wgt_flux = 1\n",
      "option_wgt_k = 1\n",
      "ref_pts = [(1, 250), (500, 250)]\n",
      "tsfc = 300\n",
      "vmax = 620\n",
      "vmin = 540\n",
      "w_diffuse = [(1.8,), (1.66, 1.8)]\n",
      "wgt = [(0.9,), (0.5, 0.95)]\n"
     ]
    },
    {
     "data": {
      "text/html": [
       "<a id=\"Cooling_Rate_Profiles\"></a>"
      ],
      "text/plain": [
       "<IPython.core.display.HTML object>"
      ]
     },
     "metadata": {},
     "output_type": "display_data"
    },
    {
     "data": {
      "text/markdown": [
       "# Cooling Rate Profiles"
      ],
      "text/plain": [
       "<IPython.core.display.Markdown object>"
      ]
     },
     "metadata": {},
     "output_type": "display_data"
    },
    {
     "data": {
      "text/html": [
       "\n",
       "<div class=\"bk-root\">\n",
       "    <div class=\"bk-plotdiv\" id=\"ee783917-a67e-40a8-8589-24049aa5a0f8\"></div>\n",
       "</div>"
      ]
     },
     "metadata": {},
     "output_type": "display_data"
    },
    {
     "data": {
      "application/javascript": [
       "(function(root) {\n",
       "  function embed_document(root) {\n",
       "    \n",
       "  var docs_json = {\"b9b74b64-2127-41ed-a8b5-b8fcc84238cb\":{\"roots\":{\"references\":[{\"attributes\":{\"bottom_units\":\"screen\",\"fill_alpha\":{\"value\":0.5},\"fill_color\":{\"value\":\"lightgrey\"},\"left_units\":\"screen\",\"level\":\"overlay\",\"line_alpha\":{\"value\":1.0},\"line_color\":{\"value\":\"black\"},\"line_dash\":[4,4],\"line_width\":{\"value\":2},\"plot\":null,\"render_mode\":\"css\",\"right_units\":\"screen\",\"top_units\":\"screen\"},\"id\":\"ef6532f0-7463-4460-8183-a9892c22807a\",\"type\":\"BoxAnnotation\"},{\"attributes\":{\"data_source\":{\"id\":\"693f7580-6fac-4781-a318-4ffdba3145cb\",\"type\":\"ColumnDataSource\"},\"glyph\":{\"id\":\"143f899e-36ce-4756-963c-aa13c5e5c22b\",\"type\":\"Line\"},\"hover_glyph\":null,\"muted_glyph\":null,\"nonselection_glyph\":{\"id\":\"4ede29fd-b7a7-4a5e-ac59-7924f7241d5f\",\"type\":\"Line\"},\"selection_glyph\":null,\"view\":{\"id\":\"e2cbba60-1c53-4552-b0ea-7eaa1475d772\",\"type\":\"CDSView\"}},\"id\":\"bc5e6af4-39c0-4959-99b8-ba15266ee720\",\"type\":\"GlyphRenderer\"},{\"attributes\":{\"data_source\":{\"id\":\"af2e5c56-7d80-42c1-b3f4-362c4ede5959\",\"type\":\"ColumnDataSource\"},\"glyph\":{\"id\":\"0272d957-1f5e-4e39-bcac-7313cb0dc918\",\"type\":\"Line\"},\"hover_glyph\":null,\"muted_glyph\":null,\"nonselection_glyph\":{\"id\":\"c18059d0-a711-4a7c-92e0-67bcff1b3965\",\"type\":\"Line\"},\"selection_glyph\":null,\"view\":{\"id\":\"0be904e4-3f98-4c8f-8701-bb9b9b7dc77f\",\"type\":\"CDSView\"}},\"id\":\"c1d6c5c6-9161-4780-a343-a655d28d7620\",\"type\":\"GlyphRenderer\"},{\"attributes\":{\"data_source\":{\"id\":\"31117056-5b91-45cb-a6df-2ccb9932a2f9\",\"type\":\"ColumnDataSource\"},\"glyph\":{\"id\":\"ca9af034-04d1-42bc-a0cb-53010d8e756a\",\"type\":\"Line\"},\"hover_glyph\":null,\"muted_glyph\":null,\"nonselection_glyph\":{\"id\":\"6fbb54cb-cd85-4f57-8e0a-a74c72bbd5a1\",\"type\":\"Line\"},\"selection_glyph\":null,\"view\":{\"id\":\"1bdad8e4-516c-4dc9-b624-08c432fc4d1d\",\"type\":\"CDSView\"}},\"id\":\"a54a88d5-0401-4fac-a769-968af0ccd7bd\",\"type\":\"GlyphRenderer\"},{\"attributes\":{},\"id\":\"4de3949b-ba93-4ad4-8da8-f4e95d14f90d\",\"type\":\"SaveTool\"},{\"attributes\":{},\"id\":\"5a816eaf-b7fa-42fe-9266-6827ff3f30ab\",\"type\":\"PanTool\"},{\"attributes\":{\"callback\":null,\"end\":0.01,\"start\":1020},\"id\":\"bef637a2-9ea0-43f8-ac13-7185a0866663\",\"type\":\"Range1d\"},{\"attributes\":{\"callback\":null,\"column_names\":[\"x\",\"y\"],\"data\":{\"x\":{\"__ndarray__\":\"VTm6OJQbUT9jfCnX83BUP1iI/OaGbls/zWaZO7ZCYT9vZBEYoddkP/t1tmZ8dmg/nCXSwzoYbD8gdaGU9cRvP+gOKeGltnE/szqIiUWNcz+ePbncV1t1P399xp8OBnc/Tzya/Ky4eD81/2+xCcV6PzGl1PI6k4E/4/MbCsV0ij988JPQgdiSP1oLSewu3pg/y7RbnSxNnz/Ix39lyxCjP0ATEHzUq6Y/5YWuI5IRqj8Vep/Yeu6qP0+fAxxZMak/8hQHCpuFpj8TSLmW8TijP/hEwurUBKA/B06cLTdQmj9QwqWTB0qVP604BZSu4pA/8yAuGuHWiT/5OjnbjVKCPxzVxuiioHU/LzriEvz9Vj+4ZEXrKTRvv1pRdj8WvoS/FHu+H+Tgjb+xaof0GDuOvyVUZgbOcom/ahoeP3cphb8dSLngNTSBvyRnS9jq8nq/QPW6RoXRc7+0wYpWHPVpvzaly8qOh1m/995/z5bZqz6261CXjdFYP+VyViCHfGg/j36Nwjsicj9S/2L3EuN3PxEV+eFfhX0/bfnlaN6FgT9pWiKTrDyEP3RrmsMq6IY/YcU3gdqJiT+vuEKcqiKMP9g4IcjPs44/1ZBixxmfkD/gXTGayt+RPwUWDCPHGpM/gC32MftJlD/Xn2ku3F6VP4GIzfqmRpY/S6h2DOP8lj/7ZfibxZWXP6nzfXhjL5g/hGmF2lDgmD87TT70366ZP+IBNRqYk5o/Xi3pu2qEmz+fZ2CiSXucP6zD7arpdZ0/aaE58g1znj/REX9odHSfPwxLWvbGPqA/\",\"dtype\":\"float64\",\"shape\":[75]},\"y\":{\"__ndarray__\":\"GhExyth1ND/Sv8nbtpRIP2vylNV0PVE/aTum7souWD/At0SJ8fVgPw3Iuahxymc/MSNhhJWvcD/bTfBN02d3P2zb5nxnaoA/CD5h5MAGhz8NmeH1TyaQP+zrCsc9p5Y/LbKd76fGnz/bLW5ISEmmPww9YvTcQq8/JV2OstnstT8Er5Y7M8G+P0c+r3jqkcU/5h99k6ZBzj88bCIzFzjVP4enV8oyxN0//yH99nXg5D8qOpLLf0jtP5kqGJXUifQ/c9cS8kHP/D+/DpwzojQEQIEmwoanVwxA4lgXt9HgE0BSSZ2AJuIbQAMJih9jjiNA5q4l5INuK0AwTKYKRj0zQNv5fmq8/DpAaCJseHrtQkB/+zpwzoxKQM3MzMzMeFJAZmZmZmZqWEAAAAAAAFxeQM3MzMzMJmJAmpmZmZkfZUBmZmZmZhhoQDMzMzMzEWtAAAAAAAAKbkBmZmZmZoFwQM3MzMzM/XFAMzMzMzN6c0CamZmZmfZ0QAAAAAAAc3ZAZmZmZmbvd0DNzMzMzGt5QDMzMzMz6HpAmpmZmZlkfEAAAAAAAOF9QGZmZmZmXX9AZmZmZuZsgECamZmZGSuBQM3MzMxM6YFAAAAAAICngkAzMzMzs2WDQGZmZmbmI4RAmpmZmRnihEDNzMzMTKCFQAAAAACAXoZAMzMzM7Mch0BmZmZm5tqHQJqZmZkZmYhAzczMzExXiUAAAAAAgBWKQDMzMzOz04pAZmZmZuaRi0CamZmZGVCMQM3MzMxMDo1AAAAAAIDMjUAzMzMzs4qOQGZmZmbmSI9A\",\"dtype\":\"float64\",\"shape\":[75]}}},\"id\":\"390689bf-3fdb-437f-9114-4f62a8ee7561\",\"type\":\"ColumnDataSource\"},{\"attributes\":{},\"id\":\"1f2cc1a8-61fa-49e4-b8ef-608e296d2e41\",\"type\":\"BasicTicker\"},{\"attributes\":{\"callback\":null,\"column_names\":[\"x\",\"y\"],\"data\":{\"x\":{\"__ndarray__\":\"gcrmmYJDdz+idBjfMAZ4P+NbK9VWk3k/iRTKGW0pez84OlpZBcN8PwSNAe/9X34/xbGgUSMAgD9Tf96+C9KAP5kQ0UWdpYE/RxWkzuB6gj/21vr1kVGDP2CdoGs2KoQ/TV1O2+wEhT+2jZ6sVh6GP6fyk9TFEoo/hf3CGdkmkT+3okmeGFWWP/tVKPEj+Zs/pMBKMGYGoT8QA6X1szCkP07IYHkxnqc/wEkPljzdqj+g4p/ER+CrP1vOyR92iqo/zF9OnLhIqD88FRnAolSlP9m2pYk1RaI/cYeb+s6Rnj8Uo6SiMMyYP/iXjHiiQJM/QnVbBAPpiz9d7jXaytqBP1VvyQV5inA/6PePSIX4Or+Itgls7sB2v/NJnI2E2oa/qRA7Dl17jr8/Vsel/n6Ov6FqhYQHCIq/sg2J8PDUhb+z+snlduCBv17kSq9gKny/jcR5sLSwdL/SELm8Tf5qv6q41MtBAFq/FncmdduKCT/YM1fbllFbP85W7DratWo/hr1d6niwcz8qu6lN/MN5P6cgnJOv4X8/Gt0gaSrtgj9iZj2sBdGFPwaTIoqBrIg/o2OTrGaFiz9QNgz3tkaOP2h/5kP+f5A/7xIpyVLdkT+60v6ERCyTP39O3AkxeZQ/VwtCMkq7lT/WOsXvzNmWP1oRxupu2Zc/8g1dvumlmD9a75eVvVOZP/8JfC5kCJo/uzw0bM/Fmj9LZ/i30aWbP9FoZ+OMkpw/hKP0JYyInT9Hc/dIaYeeP/Achur4fJ8/j04KaOM+oD/2+NXF+rmgP4LKDNwAOqE/\",\"dtype\":\"float64\",\"shape\":[75]},\"y\":{\"__ndarray__\":\"GhExyth1ND/Sv8nbtpRIP2vylNV0PVE/aTum7souWD/At0SJ8fVgPw3Iuahxymc/MSNhhJWvcD/bTfBN02d3P2zb5nxnaoA/CD5h5MAGhz8NmeH1TyaQP+zrCsc9p5Y/LbKd76fGnz/bLW5ISEmmPww9YvTcQq8/JV2OstnstT8Er5Y7M8G+P0c+r3jqkcU/5h99k6ZBzj88bCIzFzjVP4enV8oyxN0//yH99nXg5D8qOpLLf0jtP5kqGJXUifQ/c9cS8kHP/D+/DpwzojQEQIEmwoanVwxA4lgXt9HgE0BSSZ2AJuIbQAMJih9jjiNA5q4l5INuK0AwTKYKRj0zQNv5fmq8/DpAaCJseHrtQkB/+zpwzoxKQM3MzMzMeFJAZmZmZmZqWEAAAAAAAFxeQM3MzMzMJmJAmpmZmZkfZUBmZmZmZhhoQDMzMzMzEWtAAAAAAAAKbkBmZmZmZoFwQM3MzMzM/XFAMzMzMzN6c0CamZmZmfZ0QAAAAAAAc3ZAZmZmZmbvd0DNzMzMzGt5QDMzMzMz6HpAmpmZmZlkfEAAAAAAAOF9QGZmZmZmXX9AZmZmZuZsgECamZmZGSuBQM3MzMxM6YFAAAAAAICngkAzMzMzs2WDQGZmZmbmI4RAmpmZmRnihEDNzMzMTKCFQAAAAACAXoZAMzMzM7Mch0BmZmZm5tqHQJqZmZkZmYhAzczMzExXiUAAAAAAgBWKQDMzMzOz04pAZmZmZuaRi0CamZmZGVCMQM3MzMxMDo1AAAAAAIDMjUAzMzMzs4qOQGZmZmbmSI9A\",\"dtype\":\"float64\",\"shape\":[75]}}},\"id\":\"af2e5c56-7d80-42c1-b3f4-362c4ede5959\",\"type\":\"ColumnDataSource\"},{\"attributes\":{\"callback\":null,\"column_names\":[\"x\",\"y\"],\"data\":{\"x\":{\"__ndarray__\":\"iDkYHOsDeT8nDhA0tVh5P/E7mBj8Uns/BXEKIVrBfD95F2X6iTF+P5lO2502pX8/hNw+TH+NgD/JuyCrJkuBP0TEha+zCYI/ifYaQlrKgj9D4dNeNIuDP7Llhi4CTYQ/NLCpgVMQhT+Z9ybwyASGP8zwB1IVkok/qcKkmoeDkD+4hm0Z3TKVP78oQX+hR5o/4JfwB+C/nz+F6v1+5cyiP2dMUcap6qU/s9OdlDriqD8lkhtXudapP9H9PBDQsqg/lSKwdGm8pj+J1yVFjCCkP+gHBvToZKE/TsZR6cJwnT9wfrFhxyuYP4ZY/RGGAZM/q7+s8DHPiz9jyLzVxNCBP/ckggEcLHA/L4Di+ugMRr/XttL7pxN4v935VeuKOoe/nTdLUmRwjr9hIYwC8XiOv1EwhBi/W4q/EaioQWtahr/Q2hHw4nuCv/NAwG++d32/3eBzvz0qdr8feK0iMhxuv7+ch0KsP2C/If7QBe61Nb+w2wOP2PdUP501USquYWc/dYwauRYAcj+BYb21eix4P5vrsb7TNX4/6AAk/tgQgj81OWM16fiEPwyrTaOW1Ic/2EPx5k2eij9vWeE911yNPwHetnpECJA/qbhBUuNckT/aPAFZ96uSPwvpHkmx8pM/du+mMPYrlT8GGnOkIU2WP7arVZCmR5c/E5pUz6oYmD/GAKLD8M+YP+Opju9nhZk/1hWCCLBJmj/tHeLdmSKbP230DhD8Cpw//kPF+xv7nD/H35iTh+2dP6r4KQjK354/3KBHozrRnz9T7ByOpGCgPw9Kiz/516A/\",\"dtype\":\"float64\",\"shape\":[75]},\"y\":{\"__ndarray__\":\"S/O/Q+51ND/Sv8nbtpRIP2vylNV0PVE/aTum7souWD/At0SJ8fVgPw3Iuahxymc/MSNhhJWvcD/bTfBN02d3P2zb5nxnaoA/CD5h5MAGhz8NmeH1TyaQP+zrCsc9p5Y/LbKd76fGnz/bLW5ISEmmPww9YvTcQq8/JV2OstnstT8Er5Y7M8G+P0c+r3jqkcU/5h99k6ZBzj88bCIzFzjVP4enV8oyxN0//yH99nXg5D8qOpLLf0jtP5kqGJXUifQ/c9cS8kHP/D+/DpwzojQEQIEmwoanVwxA4lgXt9HgE0BSSZ2AJuIbQAMJih9jjiNA5q4l5INuK0AwTKYKRj0zQNv5fmq8/DpAaCJseHrtQkB/+zpwzoxKQM3MzMzMeFJAZmZmZmZqWEAAAAAAAFxeQM3MzMzMJmJAmpmZmZkfZUBmZmZmZhhoQDMzMzMzEWtAAAAAAAAKbkBmZmZmZoFwQM3MzMzM/XFAMzMzMzN6c0CamZmZmfZ0QAAAAAAAc3ZAZmZmZmbvd0DNzMzMzGt5QDMzMzMz6HpAmpmZmZlkfEAAAAAAAOF9QGZmZmZmXX9AZmZmZuZsgECamZmZGSuBQM3MzMxM6YFAAAAAAICngkAzMzMzs2WDQGZmZmbmI4RAmpmZmRnihEDNzMzMTKCFQAAAAACAXoZAMzMzM7Mch0BmZmZm5tqHQJqZmZkZmYhAzczMzExXiUAAAAAAgBWKQDMzMzOz04pAZmZmZuaRi0CamZmZGVCMQM3MzMxMDo1AAAAAAIDMjUAzMzMzs4qOQGZmZmbmSI9A\",\"dtype\":\"float64\",\"shape\":[75]}}},\"id\":\"31117056-5b91-45cb-a6df-2ccb9932a2f9\",\"type\":\"ColumnDataSource\"},{\"attributes\":{\"axis_label\":\"cooling rate [K/day]\",\"formatter\":{\"id\":\"45b824f4-602f-4857-af44-32b4b5381335\",\"type\":\"BasicTickFormatter\"},\"plot\":{\"id\":\"f57615ad-8380-47d0-a1ef-e804669c6a11\",\"subtype\":\"Figure\",\"type\":\"Plot\"},\"ticker\":{\"id\":\"1f2cc1a8-61fa-49e4-b8ef-608e296d2e41\",\"type\":\"BasicTicker\"}},\"id\":\"6200b724-3832-4041-826d-f5d937221603\",\"type\":\"LinearAxis\"},{\"attributes\":{\"plot\":{\"id\":\"f57615ad-8380-47d0-a1ef-e804669c6a11\",\"subtype\":\"Figure\",\"type\":\"Plot\"},\"ticker\":{\"id\":\"1f2cc1a8-61fa-49e4-b8ef-608e296d2e41\",\"type\":\"BasicTicker\"}},\"id\":\"b6e89a03-f02c-47d2-b918-03d44f134e1f\",\"type\":\"Grid\"},{\"attributes\":{\"label\":{\"value\":\"CLIRAD `coolr_bands`\"},\"renderers\":[{\"id\":\"a54a88d5-0401-4fac-a769-968af0ccd7bd\",\"type\":\"GlyphRenderer\"}]},\"id\":\"33273c14-b5e1-43b3-b212-cd667d88a3e7\",\"type\":\"LegendItem\"},{\"attributes\":{\"active_drag\":\"auto\",\"active_inspect\":\"auto\",\"active_scroll\":\"auto\",\"active_tap\":\"auto\",\"tools\":[{\"id\":\"5a816eaf-b7fa-42fe-9266-6827ff3f30ab\",\"type\":\"PanTool\"},{\"id\":\"5a9693c0-7d0c-4d46-8d43-4732b605defe\",\"type\":\"WheelZoomTool\"},{\"id\":\"1e07a794-6b0f-4643-a6e5-7c2edc022247\",\"type\":\"BoxZoomTool\"},{\"id\":\"4de3949b-ba93-4ad4-8da8-f4e95d14f90d\",\"type\":\"SaveTool\"},{\"id\":\"cb4fbdc7-1f46-4028-8aa3-99622df200d7\",\"type\":\"ResetTool\"},{\"id\":\"a8b1e5f7-581c-4c9f-9192-cb3eb1d279f7\",\"type\":\"HelpTool\"}]},\"id\":\"efd3ee21-4460-4854-b7c7-03f86ee81221\",\"type\":\"Toolbar\"},{\"attributes\":{},\"id\":\"450c87cd-99c2-460f-894a-939ac7723976\",\"type\":\"BasicTickFormatter\"},{\"attributes\":{\"line_alpha\":0.1,\"line_color\":\"#1f77b4\",\"line_dash\":[6],\"line_width\":5,\"x\":{\"field\":\"x\"},\"y\":{\"field\":\"y\"}},\"id\":\"6fbb54cb-cd85-4f57-8e0a-a74c72bbd5a1\",\"type\":\"Line\"},{\"attributes\":{\"dimension\":1,\"plot\":{\"id\":\"f57615ad-8380-47d0-a1ef-e804669c6a11\",\"subtype\":\"Figure\",\"type\":\"Plot\"},\"ticker\":{\"id\":\"89be405f-eaa2-49f5-8ed8-bb5ff71479f0\",\"type\":\"LogTicker\"}},\"id\":\"54555d3b-0b16-4436-bc39-1c13f2343a4a\",\"type\":\"Grid\"},{\"attributes\":{\"plot\":null,\"text\":\"Log pressure scale\"},\"id\":\"15dfb0b9-34f5-47eb-aa3e-572418806aba\",\"type\":\"Title\"},{\"attributes\":{\"items\":[{\"id\":\"33273c14-b5e1-43b3-b212-cd667d88a3e7\",\"type\":\"LegendItem\"},{\"id\":\"de8e0244-db7e-4942-874a-f2b073a856d4\",\"type\":\"LegendItem\"},{\"id\":\"7e76357f-a046-46af-9d55-bf0aaf81af3e\",\"type\":\"LegendItem\"}],\"label_text_font_size\":{\"value\":\"8pt\"},\"location\":[10,-30],\"plot\":{\"id\":\"f57615ad-8380-47d0-a1ef-e804669c6a11\",\"subtype\":\"Figure\",\"type\":\"Plot\"}},\"id\":\"033198d1-4b8a-4dfc-9077-b7614e0f56e1\",\"type\":\"Legend\"},{\"attributes\":{},\"id\":\"ba626a35-34ce-4926-838d-a0a7cfe0c9ba\",\"type\":\"LinearScale\"},{\"attributes\":{\"source\":{\"id\":\"af2e5c56-7d80-42c1-b3f4-362c4ede5959\",\"type\":\"ColumnDataSource\"}},\"id\":\"0be904e4-3f98-4c8f-8701-bb9b9b7dc77f\",\"type\":\"CDSView\"},{\"attributes\":{\"children\":[{\"id\":\"bb8622f3-f55b-4893-9137-7a66adb43fe5\",\"subtype\":\"Figure\",\"type\":\"Plot\"},{\"id\":\"f57615ad-8380-47d0-a1ef-e804669c6a11\",\"subtype\":\"Figure\",\"type\":\"Plot\"}]},\"id\":\"ee467c13-37d1-4746-a19f-938d41c6f63e\",\"type\":\"Row\"},{\"attributes\":{},\"id\":\"cb4fbdc7-1f46-4028-8aa3-99622df200d7\",\"type\":\"ResetTool\"},{\"attributes\":{\"data_source\":{\"id\":\"8741ba4e-9947-405b-854e-92e2bf638a1c\",\"type\":\"ColumnDataSource\"},\"glyph\":{\"id\":\"3c4ddf04-2313-45fb-bd5b-e070eedd100e\",\"type\":\"Square\"},\"hover_glyph\":null,\"muted_glyph\":null,\"nonselection_glyph\":{\"id\":\"94b293c4-837a-4e4b-882e-a947d552f648\",\"type\":\"Square\"},\"selection_glyph\":null,\"view\":{\"id\":\"0006706f-e90f-4724-bd2c-753b749969bc\",\"type\":\"CDSView\"}},\"id\":\"21117776-a5d7-428d-ad6e-3988c7ca1b1e\",\"type\":\"GlyphRenderer\"},{\"attributes\":{\"fill_alpha\":{\"value\":0.1},\"fill_color\":{\"value\":\"#1f77b4\"},\"line_alpha\":{\"value\":0.1},\"line_color\":{\"value\":\"#1f77b4\"},\"x\":{\"field\":\"x\"},\"y\":{\"field\":\"y\"}},\"id\":\"94b293c4-837a-4e4b-882e-a947d552f648\",\"type\":\"Square\"},{\"attributes\":{\"children\":[{\"id\":\"ee467c13-37d1-4746-a19f-938d41c6f63e\",\"type\":\"Row\"}]},\"id\":\"e83efc1e-772b-4408-8305-166938f43143\",\"type\":\"Column\"},{\"attributes\":{\"fill_alpha\":{\"value\":0.7},\"fill_color\":{\"value\":\"#4daf4a\"},\"line_alpha\":{\"value\":0.7},\"line_color\":{\"value\":\"#4daf4a\"},\"x\":{\"field\":\"x\"},\"y\":{\"field\":\"y\"}},\"id\":\"a3e14495-a13c-465b-82cf-214bb75ddc9b\",\"type\":\"Circle\"},{\"attributes\":{\"fill_alpha\":{\"value\":0.1},\"fill_color\":{\"value\":\"#1f77b4\"},\"line_alpha\":{\"value\":0.1},\"line_color\":{\"value\":\"#1f77b4\"},\"x\":{\"field\":\"x\"},\"y\":{\"field\":\"y\"}},\"id\":\"b21eae14-e147-4fa8-8d02-15282c23766f\",\"type\":\"Circle\"},{\"attributes\":{\"fill_alpha\":{\"value\":0.7},\"fill_color\":{\"value\":\"#984ea3\"},\"line_alpha\":{\"value\":0.7},\"line_color\":{\"value\":\"#984ea3\"},\"x\":{\"field\":\"x\"},\"y\":{\"field\":\"y\"}},\"id\":\"3c4ddf04-2313-45fb-bd5b-e070eedd100e\",\"type\":\"Square\"},{\"attributes\":{\"line_alpha\":0.6,\"line_color\":\"#e41a1c\",\"line_dash\":[6],\"line_width\":5,\"x\":{\"field\":\"x\"},\"y\":{\"field\":\"y\"}},\"id\":\"ca9af034-04d1-42bc-a0cb-53010d8e756a\",\"type\":\"Line\"},{\"attributes\":{\"source\":{\"id\":\"8741ba4e-9947-405b-854e-92e2bf638a1c\",\"type\":\"ColumnDataSource\"}},\"id\":\"0006706f-e90f-4724-bd2c-753b749969bc\",\"type\":\"CDSView\"},{\"attributes\":{\"callback\":null,\"end\":0.034131018661999996,\"start\":-0.015376023862},\"id\":\"f94073e1-4aff-42c2-9620-b9150a35a8cf\",\"type\":\"Range1d\"},{\"attributes\":{\"line_alpha\":0.6,\"line_color\":\"#e41a1c\",\"line_dash\":[6],\"line_width\":5,\"x\":{\"field\":\"x\"},\"y\":{\"field\":\"y\"}},\"id\":\"143f899e-36ce-4756-963c-aa13c5e5c22b\",\"type\":\"Line\"},{\"attributes\":{},\"id\":\"43fc84b0-2a97-4849-9ea7-22d3e60f4c50\",\"type\":\"LogScale\"},{\"attributes\":{\"overlay\":{\"id\":\"ef6532f0-7463-4460-8183-a9892c22807a\",\"type\":\"BoxAnnotation\"}},\"id\":\"1e07a794-6b0f-4643-a6e5-7c2edc022247\",\"type\":\"BoxZoomTool\"},{\"attributes\":{\"line_alpha\":0.6,\"line_color\":\"#984ea3\",\"line_width\":3,\"x\":{\"field\":\"x\"},\"y\":{\"field\":\"y\"}},\"id\":\"0272d957-1f5e-4e39-bcac-7313cb0dc918\",\"type\":\"Line\"},{\"attributes\":{\"line_alpha\":0.1,\"line_color\":\"#1f77b4\",\"line_width\":3,\"x\":{\"field\":\"x\"},\"y\":{\"field\":\"y\"}},\"id\":\"c18059d0-a711-4a7c-92e0-67bcff1b3965\",\"type\":\"Line\"},{\"attributes\":{},\"id\":\"a8b1e5f7-581c-4c9f-9192-cb3eb1d279f7\",\"type\":\"HelpTool\"},{\"attributes\":{\"below\":[{\"id\":\"6200b724-3832-4041-826d-f5d937221603\",\"type\":\"LinearAxis\"}],\"left\":[{\"id\":\"1e2ebaa8-3200-49f1-a0ca-d25f6461c52b\",\"type\":\"LogAxis\"}],\"plot_height\":500,\"plot_width\":560,\"renderers\":[{\"id\":\"6200b724-3832-4041-826d-f5d937221603\",\"type\":\"LinearAxis\"},{\"id\":\"b6e89a03-f02c-47d2-b918-03d44f134e1f\",\"type\":\"Grid\"},{\"id\":\"1e2ebaa8-3200-49f1-a0ca-d25f6461c52b\",\"type\":\"LogAxis\"},{\"id\":\"54555d3b-0b16-4436-bc39-1c13f2343a4a\",\"type\":\"Grid\"},{\"id\":\"ef6532f0-7463-4460-8183-a9892c22807a\",\"type\":\"BoxAnnotation\"},{\"id\":\"a54a88d5-0401-4fac-a769-968af0ccd7bd\",\"type\":\"GlyphRenderer\"},{\"id\":\"2c5c61aa-461e-46ad-b867-b9b70d02da6d\",\"type\":\"GlyphRenderer\"},{\"id\":\"61ab78b9-080e-476a-85f7-f4e02038979d\",\"type\":\"GlyphRenderer\"},{\"id\":\"22064cce-687c-4b30-82dc-6b3790d7f8cb\",\"type\":\"GlyphRenderer\"},{\"id\":\"2682ef17-6c4c-4281-9f03-7594a164f6f6\",\"type\":\"GlyphRenderer\"},{\"id\":\"033198d1-4b8a-4dfc-9077-b7614e0f56e1\",\"type\":\"Legend\"}],\"right\":[{\"id\":\"033198d1-4b8a-4dfc-9077-b7614e0f56e1\",\"type\":\"Legend\"}],\"title\":{\"id\":\"15dfb0b9-34f5-47eb-aa3e-572418806aba\",\"type\":\"Title\"},\"toolbar\":{\"id\":\"efd3ee21-4460-4854-b7c7-03f86ee81221\",\"type\":\"Toolbar\"},\"toolbar_location\":null,\"x_range\":{\"id\":\"88836599-a8bf-4949-9688-7d9b67a715c0\",\"type\":\"Range1d\"},\"x_scale\":{\"id\":\"ba626a35-34ce-4926-838d-a0a7cfe0c9ba\",\"type\":\"LinearScale\"},\"y_range\":{\"id\":\"bef637a2-9ea0-43f8-ac13-7185a0866663\",\"type\":\"Range1d\"},\"y_scale\":{\"id\":\"43fc84b0-2a97-4849-9ea7-22d3e60f4c50\",\"type\":\"LogScale\"}},\"id\":\"f57615ad-8380-47d0-a1ef-e804669c6a11\",\"subtype\":\"Figure\",\"type\":\"Plot\"},{\"attributes\":{},\"id\":\"5a9693c0-7d0c-4d46-8d43-4732b605defe\",\"type\":\"WheelZoomTool\"},{\"attributes\":{},\"id\":\"8a49c473-05b1-4daf-94a1-8f7037780753\",\"type\":\"ResetTool\"},{\"attributes\":{\"data_source\":{\"id\":\"e07b9036-e689-42ea-8aeb-92a8a2035754\",\"type\":\"ColumnDataSource\"},\"glyph\":{\"id\":\"9ab9876e-e2bf-4bf4-a994-9053bbbac438\",\"type\":\"Circle\"},\"hover_glyph\":null,\"muted_glyph\":null,\"nonselection_glyph\":{\"id\":\"f1bdb2ec-f59b-4f5d-a5aa-951c88edfbf2\",\"type\":\"Circle\"},\"selection_glyph\":null,\"view\":{\"id\":\"7a71264e-9c14-403a-a017-b9ba0f3deac2\",\"type\":\"CDSView\"}},\"id\":\"2c5c61aa-461e-46ad-b867-b9b70d02da6d\",\"type\":\"GlyphRenderer\"},{\"attributes\":{\"callback\":null,\"column_names\":[\"x\",\"y\"],\"data\":{\"x\":{\"__ndarray__\":\"VTm6OJQbUT9jfCnX83BUP1iI/OaGbls/zWaZO7ZCYT9vZBEYoddkP/t1tmZ8dmg/nCXSwzoYbD8gdaGU9cRvP+gOKeGltnE/szqIiUWNcz+ePbncV1t1P399xp8OBnc/Tzya/Ky4eD81/2+xCcV6PzGl1PI6k4E/4/MbCsV0ij988JPQgdiSP1oLSewu3pg/y7RbnSxNnz/Ix39lyxCjP0ATEHzUq6Y/5YWuI5IRqj8Vep/Yeu6qP0+fAxxZMak/8hQHCpuFpj8TSLmW8TijP/hEwurUBKA/B06cLTdQmj9QwqWTB0qVP604BZSu4pA/8yAuGuHWiT/5OjnbjVKCPxzVxuiioHU/LzriEvz9Vj+4ZEXrKTRvv1pRdj8WvoS/FHu+H+Tgjb+xaof0GDuOvyVUZgbOcom/ahoeP3cphb8dSLngNTSBvyRnS9jq8nq/QPW6RoXRc7+0wYpWHPVpvzaly8qOh1m/995/z5bZqz6261CXjdFYP+VyViCHfGg/j36Nwjsicj9S/2L3EuN3PxEV+eFfhX0/bfnlaN6FgT9pWiKTrDyEP3RrmsMq6IY/YcU3gdqJiT+vuEKcqiKMP9g4IcjPs44/1ZBixxmfkD/gXTGayt+RPwUWDCPHGpM/gC32MftJlD/Xn2ku3F6VP4GIzfqmRpY/S6h2DOP8lj/7ZfibxZWXP6nzfXhjL5g/hGmF2lDgmD87TT70366ZP+IBNRqYk5o/Xi3pu2qEmz+fZ2CiSXucP6zD7arpdZ0/aaE58g1znj/REX9odHSfPwxLWvbGPqA/\",\"dtype\":\"float64\",\"shape\":[75]},\"y\":{\"__ndarray__\":\"GhExyth1ND/Sv8nbtpRIP2vylNV0PVE/aTum7souWD/At0SJ8fVgPw3Iuahxymc/MSNhhJWvcD/bTfBN02d3P2zb5nxnaoA/CD5h5MAGhz8NmeH1TyaQP+zrCsc9p5Y/LbKd76fGnz/bLW5ISEmmPww9YvTcQq8/JV2OstnstT8Er5Y7M8G+P0c+r3jqkcU/5h99k6ZBzj88bCIzFzjVP4enV8oyxN0//yH99nXg5D8qOpLLf0jtP5kqGJXUifQ/c9cS8kHP/D+/DpwzojQEQIEmwoanVwxA4lgXt9HgE0BSSZ2AJuIbQAMJih9jjiNA5q4l5INuK0AwTKYKRj0zQNv5fmq8/DpAaCJseHrtQkB/+zpwzoxKQM3MzMzMeFJAZmZmZmZqWEAAAAAAAFxeQM3MzMzMJmJAmpmZmZkfZUBmZmZmZhhoQDMzMzMzEWtAAAAAAAAKbkBmZmZmZoFwQM3MzMzM/XFAMzMzMzN6c0CamZmZmfZ0QAAAAAAAc3ZAZmZmZmbvd0DNzMzMzGt5QDMzMzMz6HpAmpmZmZlkfEAAAAAAAOF9QGZmZmZmXX9AZmZmZuZsgECamZmZGSuBQM3MzMxM6YFAAAAAAICngkAzMzMzs2WDQGZmZmbmI4RAmpmZmRnihEDNzMzMTKCFQAAAAACAXoZAMzMzM7Mch0BmZmZm5tqHQJqZmZkZmYhAzczMzExXiUAAAAAAgBWKQDMzMzOz04pAZmZmZuaRi0CamZmZGVCMQM3MzMxMDo1AAAAAAIDMjUAzMzMzs4qOQGZmZmbmSI9A\",\"dtype\":\"float64\",\"shape\":[75]}}},\"id\":\"c7ba8fa8-0eed-4305-b059-eefe1f4edb39\",\"type\":\"ColumnDataSource\"},{\"attributes\":{\"ticker\":null},\"id\":\"d2320653-2b77-4f0e-847a-cc8c0fa78798\",\"type\":\"LogTickFormatter\"},{\"attributes\":{},\"id\":\"8284fef5-f123-4c61-887f-644181eae55d\",\"type\":\"PanTool\"},{\"attributes\":{\"data_source\":{\"id\":\"390689bf-3fdb-437f-9114-4f62a8ee7561\",\"type\":\"ColumnDataSource\"},\"glyph\":{\"id\":\"a3e14495-a13c-465b-82cf-214bb75ddc9b\",\"type\":\"Circle\"},\"hover_glyph\":null,\"muted_glyph\":null,\"nonselection_glyph\":{\"id\":\"b21eae14-e147-4fa8-8d02-15282c23766f\",\"type\":\"Circle\"},\"selection_glyph\":null,\"view\":{\"id\":\"6d09e6d7-ca9c-4546-8714-d95f518ddc16\",\"type\":\"CDSView\"}},\"id\":\"f734821f-6edd-44d1-ad10-50f7ef7abda0\",\"type\":\"GlyphRenderer\"},{\"attributes\":{},\"id\":\"dcfeda83-8369-49cc-a4ab-2546087292f6\",\"type\":\"HelpTool\"},{\"attributes\":{\"source\":{\"id\":\"c7ba8fa8-0eed-4305-b059-eefe1f4edb39\",\"type\":\"ColumnDataSource\"}},\"id\":\"5596abe5-682a-4bfb-b1fd-bcef159237b8\",\"type\":\"CDSView\"},{\"attributes\":{\"fill_alpha\":{\"value\":0.1},\"fill_color\":{\"value\":\"#1f77b4\"},\"line_alpha\":{\"value\":0.1},\"line_color\":{\"value\":\"#1f77b4\"},\"x\":{\"field\":\"x\"},\"y\":{\"field\":\"y\"}},\"id\":\"f1bdb2ec-f59b-4f5d-a5aa-951c88edfbf2\",\"type\":\"Circle\"},{\"attributes\":{},\"id\":\"50ab44a3-c0ca-4582-8a65-42309fb46ccf\",\"type\":\"SaveTool\"},{\"attributes\":{\"line_alpha\":0.1,\"line_color\":\"#1f77b4\",\"line_dash\":[6],\"line_width\":5,\"x\":{\"field\":\"x\"},\"y\":{\"field\":\"y\"}},\"id\":\"4ede29fd-b7a7-4a5e-ac59-7924f7241d5f\",\"type\":\"Line\"},{\"attributes\":{\"callback\":null,\"column_names\":[\"x\",\"y\"],\"data\":{\"x\":{\"__ndarray__\":\"gcrmmYJDdz+idBjfMAZ4P+NbK9VWk3k/iRTKGW0pez84OlpZBcN8PwSNAe/9X34/xbGgUSMAgD9Tf96+C9KAP5kQ0UWdpYE/RxWkzuB6gj/21vr1kVGDP2CdoGs2KoQ/TV1O2+wEhT+2jZ6sVh6GP6fyk9TFEoo/hf3CGdkmkT+3okmeGFWWP/tVKPEj+Zs/pMBKMGYGoT8QA6X1szCkP07IYHkxnqc/wEkPljzdqj+g4p/ER+CrP1vOyR92iqo/zF9OnLhIqD88FRnAolSlP9m2pYk1RaI/cYeb+s6Rnj8Uo6SiMMyYP/iXjHiiQJM/QnVbBAPpiz9d7jXaytqBP1VvyQV5inA/6PePSIX4Or+Itgls7sB2v/NJnI2E2oa/qRA7Dl17jr8/Vsel/n6Ov6FqhYQHCIq/sg2J8PDUhb+z+snlduCBv17kSq9gKny/jcR5sLSwdL/SELm8Tf5qv6q41MtBAFq/FncmdduKCT/YM1fbllFbP85W7DratWo/hr1d6niwcz8qu6lN/MN5P6cgnJOv4X8/Gt0gaSrtgj9iZj2sBdGFPwaTIoqBrIg/o2OTrGaFiz9QNgz3tkaOP2h/5kP+f5A/7xIpyVLdkT+60v6ERCyTP39O3AkxeZQ/VwtCMkq7lT/WOsXvzNmWP1oRxupu2Zc/8g1dvumlmD9a75eVvVOZP/8JfC5kCJo/uzw0bM/Fmj9LZ/i30aWbP9FoZ+OMkpw/hKP0JYyInT9Hc/dIaYeeP/Achur4fJ8/j04KaOM+oD/2+NXF+rmgP4LKDNwAOqE/\",\"dtype\":\"float64\",\"shape\":[75]},\"y\":{\"__ndarray__\":\"GhExyth1ND/Sv8nbtpRIP2vylNV0PVE/aTum7souWD/At0SJ8fVgPw3Iuahxymc/MSNhhJWvcD/bTfBN02d3P2zb5nxnaoA/CD5h5MAGhz8NmeH1TyaQP+zrCsc9p5Y/LbKd76fGnz/bLW5ISEmmPww9YvTcQq8/JV2OstnstT8Er5Y7M8G+P0c+r3jqkcU/5h99k6ZBzj88bCIzFzjVP4enV8oyxN0//yH99nXg5D8qOpLLf0jtP5kqGJXUifQ/c9cS8kHP/D+/DpwzojQEQIEmwoanVwxA4lgXt9HgE0BSSZ2AJuIbQAMJih9jjiNA5q4l5INuK0AwTKYKRj0zQNv5fmq8/DpAaCJseHrtQkB/+zpwzoxKQM3MzMzMeFJAZmZmZmZqWEAAAAAAAFxeQM3MzMzMJmJAmpmZmZkfZUBmZmZmZhhoQDMzMzMzEWtAAAAAAAAKbkBmZmZmZoFwQM3MzMzM/XFAMzMzMzN6c0CamZmZmfZ0QAAAAAAAc3ZAZmZmZmbvd0DNzMzMzGt5QDMzMzMz6HpAmpmZmZlkfEAAAAAAAOF9QGZmZmZmXX9AZmZmZuZsgECamZmZGSuBQM3MzMxM6YFAAAAAAICngkAzMzMzs2WDQGZmZmbmI4RAmpmZmRnihEDNzMzMTKCFQAAAAACAXoZAMzMzM7Mch0BmZmZm5tqHQJqZmZkZmYhAzczMzExXiUAAAAAAgBWKQDMzMzOz04pAZmZmZuaRi0CamZmZGVCMQM3MzMxMDo1AAAAAAIDMjUAzMzMzs4qOQGZmZmbmSI9A\",\"dtype\":\"float64\",\"shape\":[75]}}},\"id\":\"476f4e77-b564-4d7a-a43a-ef4e239bcf51\",\"type\":\"ColumnDataSource\"},{\"attributes\":{},\"id\":\"04174d29-e719-489e-9ecb-b46b80d6c7cc\",\"type\":\"WheelZoomTool\"},{\"attributes\":{\"overlay\":{\"id\":\"ffcfec44-ce2e-4cbe-a7df-17539a8da4a2\",\"type\":\"BoxAnnotation\"}},\"id\":\"772e954d-7862-4b16-83dd-0e00665999a5\",\"type\":\"BoxZoomTool\"},{\"attributes\":{},\"id\":\"45b824f4-602f-4857-af44-32b4b5381335\",\"type\":\"BasicTickFormatter\"},{\"attributes\":{\"data_source\":{\"id\":\"c7ba8fa8-0eed-4305-b059-eefe1f4edb39\",\"type\":\"ColumnDataSource\"},\"glyph\":{\"id\":\"4067de67-e71e-4246-9db4-40175a1d36d7\",\"type\":\"Line\"},\"hover_glyph\":null,\"muted_glyph\":null,\"nonselection_glyph\":{\"id\":\"28bed976-5e71-411e-a099-1daa7d36f9fb\",\"type\":\"Line\"},\"selection_glyph\":null,\"view\":{\"id\":\"5596abe5-682a-4bfb-b1fd-bcef159237b8\",\"type\":\"CDSView\"}},\"id\":\"43ad20a9-0e7c-444e-a1da-3022864d6084\",\"type\":\"GlyphRenderer\"},{\"attributes\":{\"callback\":null,\"column_names\":[\"x\",\"y\"],\"data\":{\"x\":{\"__ndarray__\":\"VTm6OJQbUT9jfCnX83BUP1iI/OaGbls/zWaZO7ZCYT9vZBEYoddkP/t1tmZ8dmg/nCXSwzoYbD8gdaGU9cRvP+gOKeGltnE/szqIiUWNcz+ePbncV1t1P399xp8OBnc/Tzya/Ky4eD81/2+xCcV6PzGl1PI6k4E/4/MbCsV0ij988JPQgdiSP1oLSewu3pg/y7RbnSxNnz/Ix39lyxCjP0ATEHzUq6Y/5YWuI5IRqj8Vep/Yeu6qP0+fAxxZMak/8hQHCpuFpj8TSLmW8TijP/hEwurUBKA/B06cLTdQmj9QwqWTB0qVP604BZSu4pA/8yAuGuHWiT/5OjnbjVKCPxzVxuiioHU/LzriEvz9Vj+4ZEXrKTRvv1pRdj8WvoS/FHu+H+Tgjb+xaof0GDuOvyVUZgbOcom/ahoeP3cphb8dSLngNTSBvyRnS9jq8nq/QPW6RoXRc7+0wYpWHPVpvzaly8qOh1m/995/z5bZqz6261CXjdFYP+VyViCHfGg/j36Nwjsicj9S/2L3EuN3PxEV+eFfhX0/bfnlaN6FgT9pWiKTrDyEP3RrmsMq6IY/YcU3gdqJiT+vuEKcqiKMP9g4IcjPs44/1ZBixxmfkD/gXTGayt+RPwUWDCPHGpM/gC32MftJlD/Xn2ku3F6VP4GIzfqmRpY/S6h2DOP8lj/7ZfibxZWXP6nzfXhjL5g/hGmF2lDgmD87TT70366ZP+IBNRqYk5o/Xi3pu2qEmz+fZ2CiSXucP6zD7arpdZ0/aaE58g1znj/REX9odHSfPwxLWvbGPqA/\",\"dtype\":\"float64\",\"shape\":[75]},\"y\":{\"__ndarray__\":\"GhExyth1ND/Sv8nbtpRIP2vylNV0PVE/aTum7souWD/At0SJ8fVgPw3Iuahxymc/MSNhhJWvcD/bTfBN02d3P2zb5nxnaoA/CD5h5MAGhz8NmeH1TyaQP+zrCsc9p5Y/LbKd76fGnz/bLW5ISEmmPww9YvTcQq8/JV2OstnstT8Er5Y7M8G+P0c+r3jqkcU/5h99k6ZBzj88bCIzFzjVP4enV8oyxN0//yH99nXg5D8qOpLLf0jtP5kqGJXUifQ/c9cS8kHP/D+/DpwzojQEQIEmwoanVwxA4lgXt9HgE0BSSZ2AJuIbQAMJih9jjiNA5q4l5INuK0AwTKYKRj0zQNv5fmq8/DpAaCJseHrtQkB/+zpwzoxKQM3MzMzMeFJAZmZmZmZqWEAAAAAAAFxeQM3MzMzMJmJAmpmZmZkfZUBmZmZmZhhoQDMzMzMzEWtAAAAAAAAKbkBmZmZmZoFwQM3MzMzM/XFAMzMzMzN6c0CamZmZmfZ0QAAAAAAAc3ZAZmZmZmbvd0DNzMzMzGt5QDMzMzMz6HpAmpmZmZlkfEAAAAAAAOF9QGZmZmZmXX9AZmZmZuZsgECamZmZGSuBQM3MzMxM6YFAAAAAAICngkAzMzMzs2WDQGZmZmbmI4RAmpmZmRnihEDNzMzMTKCFQAAAAACAXoZAMzMzM7Mch0BmZmZm5tqHQJqZmZkZmYhAzczMzExXiUAAAAAAgBWKQDMzMzOz04pAZmZmZuaRi0CamZmZGVCMQM3MzMxMDo1AAAAAAIDMjUAzMzMzs4qOQGZmZmbmSI9A\",\"dtype\":\"float64\",\"shape\":[75]}}},\"id\":\"e07b9036-e689-42ea-8aeb-92a8a2035754\",\"type\":\"ColumnDataSource\"},{\"attributes\":{\"line_alpha\":0.1,\"line_color\":\"#1f77b4\",\"line_width\":1.5,\"x\":{\"field\":\"x\"},\"y\":{\"field\":\"y\"}},\"id\":\"28bed976-5e71-411e-a099-1daa7d36f9fb\",\"type\":\"Line\"},{\"attributes\":{\"below\":[{\"id\":\"72d1feb5-e14d-45cd-8813-0da7bbbc63cf\",\"type\":\"LinearAxis\"}],\"left\":[{\"id\":\"eec1c32f-3409-4b7f-bf47-2b439f3d636d\",\"type\":\"LinearAxis\"}],\"plot_height\":500,\"plot_width\":400,\"renderers\":[{\"id\":\"72d1feb5-e14d-45cd-8813-0da7bbbc63cf\",\"type\":\"LinearAxis\"},{\"id\":\"e4ef1c41-72a0-438d-8e2d-20b4e4d41ba0\",\"type\":\"Grid\"},{\"id\":\"eec1c32f-3409-4b7f-bf47-2b439f3d636d\",\"type\":\"LinearAxis\"},{\"id\":\"be4380b8-e11e-4297-b4dc-c5c195c6c324\",\"type\":\"Grid\"},{\"id\":\"ffcfec44-ce2e-4cbe-a7df-17539a8da4a2\",\"type\":\"BoxAnnotation\"},{\"id\":\"bc5e6af4-39c0-4959-99b8-ba15266ee720\",\"type\":\"GlyphRenderer\"},{\"id\":\"f734821f-6edd-44d1-ad10-50f7ef7abda0\",\"type\":\"GlyphRenderer\"},{\"id\":\"43ad20a9-0e7c-444e-a1da-3022864d6084\",\"type\":\"GlyphRenderer\"},{\"id\":\"21117776-a5d7-428d-ad6e-3988c7ca1b1e\",\"type\":\"GlyphRenderer\"},{\"id\":\"c1d6c5c6-9161-4780-a343-a655d28d7620\",\"type\":\"GlyphRenderer\"}],\"title\":{\"id\":\"754290d6-cee3-4bf6-b177-e5a838672f41\",\"type\":\"Title\"},\"toolbar\":{\"id\":\"47808936-1659-4a90-afb4-a7e10524ec64\",\"type\":\"Toolbar\"},\"toolbar_location\":null,\"x_range\":{\"id\":\"f94073e1-4aff-42c2-9620-b9150a35a8cf\",\"type\":\"Range1d\"},\"x_scale\":{\"id\":\"41423923-a3d2-4e32-88a0-8450eedd76d7\",\"type\":\"LinearScale\"},\"y_range\":{\"id\":\"98f93971-c1d3-4912-b24d-9632d5b254fc\",\"type\":\"Range1d\"},\"y_scale\":{\"id\":\"c95acc3b-6d08-4433-b96a-20ddaeb6e485\",\"type\":\"LinearScale\"}},\"id\":\"bb8622f3-f55b-4893-9137-7a66adb43fe5\",\"subtype\":\"Figure\",\"type\":\"Plot\"},{\"attributes\":{\"callback\":null,\"column_names\":[\"x\",\"y\"],\"data\":{\"x\":{\"__ndarray__\":\"iDkYHOsDeT8nDhA0tVh5P/E7mBj8Uns/BXEKIVrBfD95F2X6iTF+P5lO2502pX8/hNw+TH+NgD/JuyCrJkuBP0TEha+zCYI/ifYaQlrKgj9D4dNeNIuDP7Llhi4CTYQ/NLCpgVMQhT+Z9ybwyASGP8zwB1IVkok/qcKkmoeDkD+4hm0Z3TKVP78oQX+hR5o/4JfwB+C/nz+F6v1+5cyiP2dMUcap6qU/s9OdlDriqD8lkhtXudapP9H9PBDQsqg/lSKwdGm8pj+J1yVFjCCkP+gHBvToZKE/TsZR6cJwnT9wfrFhxyuYP4ZY/RGGAZM/q7+s8DHPiz9jyLzVxNCBP/ckggEcLHA/L4Di+ugMRr/XttL7pxN4v935VeuKOoe/nTdLUmRwjr9hIYwC8XiOv1EwhBi/W4q/EaioQWtahr/Q2hHw4nuCv/NAwG++d32/3eBzvz0qdr8feK0iMhxuv7+ch0KsP2C/If7QBe61Nb+w2wOP2PdUP501USquYWc/dYwauRYAcj+BYb21eix4P5vrsb7TNX4/6AAk/tgQgj81OWM16fiEPwyrTaOW1Ic/2EPx5k2eij9vWeE911yNPwHetnpECJA/qbhBUuNckT/aPAFZ96uSPwvpHkmx8pM/du+mMPYrlT8GGnOkIU2WP7arVZCmR5c/E5pUz6oYmD/GAKLD8M+YP+Opju9nhZk/1hWCCLBJmj/tHeLdmSKbP230DhD8Cpw//kPF+xv7nD/H35iTh+2dP6r4KQjK354/3KBHozrRnz9T7ByOpGCgPw9Kiz/516A/\",\"dtype\":\"float64\",\"shape\":[75]},\"y\":{\"__ndarray__\":\"S/O/Q+51ND/Sv8nbtpRIP2vylNV0PVE/aTum7souWD/At0SJ8fVgPw3Iuahxymc/MSNhhJWvcD/bTfBN02d3P2zb5nxnaoA/CD5h5MAGhz8NmeH1TyaQP+zrCsc9p5Y/LbKd76fGnz/bLW5ISEmmPww9YvTcQq8/JV2OstnstT8Er5Y7M8G+P0c+r3jqkcU/5h99k6ZBzj88bCIzFzjVP4enV8oyxN0//yH99nXg5D8qOpLLf0jtP5kqGJXUifQ/c9cS8kHP/D+/DpwzojQEQIEmwoanVwxA4lgXt9HgE0BSSZ2AJuIbQAMJih9jjiNA5q4l5INuK0AwTKYKRj0zQNv5fmq8/DpAaCJseHrtQkB/+zpwzoxKQM3MzMzMeFJAZmZmZmZqWEAAAAAAAFxeQM3MzMzMJmJAmpmZmZkfZUBmZmZmZhhoQDMzMzMzEWtAAAAAAAAKbkBmZmZmZoFwQM3MzMzM/XFAMzMzMzN6c0CamZmZmfZ0QAAAAAAAc3ZAZmZmZmbvd0DNzMzMzGt5QDMzMzMz6HpAmpmZmZlkfEAAAAAAAOF9QGZmZmZmXX9AZmZmZuZsgECamZmZGSuBQM3MzMxM6YFAAAAAAICngkAzMzMzs2WDQGZmZmbmI4RAmpmZmRnihEDNzMzMTKCFQAAAAACAXoZAMzMzM7Mch0BmZmZm5tqHQJqZmZkZmYhAzczMzExXiUAAAAAAgBWKQDMzMzOz04pAZmZmZuaRi0CamZmZGVCMQM3MzMxMDo1AAAAAAIDMjUAzMzMzs4qOQGZmZmbmSI9A\",\"dtype\":\"float64\",\"shape\":[75]}}},\"id\":\"693f7580-6fac-4781-a318-4ffdba3145cb\",\"type\":\"ColumnDataSource\"},{\"attributes\":{\"fill_alpha\":{\"value\":0.7},\"fill_color\":{\"value\":\"#4daf4a\"},\"line_alpha\":{\"value\":0.7},\"line_color\":{\"value\":\"#4daf4a\"},\"x\":{\"field\":\"x\"},\"y\":{\"field\":\"y\"}},\"id\":\"9ab9876e-e2bf-4bf4-a994-9053bbbac438\",\"type\":\"Circle\"},{\"attributes\":{},\"id\":\"dac542b3-f79a-49a5-abd6-24fb54f8cb4a\",\"type\":\"BasicTickFormatter\"},{\"attributes\":{\"callback\":null,\"column_names\":[\"x\",\"y\"],\"data\":{\"x\":{\"__ndarray__\":\"VTm6OJQbUT9jfCnX83BUP1iI/OaGbls/zWaZO7ZCYT9vZBEYoddkP/t1tmZ8dmg/nCXSwzoYbD8gdaGU9cRvP+gOKeGltnE/szqIiUWNcz+ePbncV1t1P399xp8OBnc/Tzya/Ky4eD81/2+xCcV6PzGl1PI6k4E/4/MbCsV0ij988JPQgdiSP1oLSewu3pg/y7RbnSxNnz/Ix39lyxCjP0ATEHzUq6Y/5YWuI5IRqj8Vep/Yeu6qP0+fAxxZMak/8hQHCpuFpj8TSLmW8TijP/hEwurUBKA/B06cLTdQmj9QwqWTB0qVP604BZSu4pA/8yAuGuHWiT/5OjnbjVKCPxzVxuiioHU/LzriEvz9Vj+4ZEXrKTRvv1pRdj8WvoS/FHu+H+Tgjb+xaof0GDuOvyVUZgbOcom/ahoeP3cphb8dSLngNTSBvyRnS9jq8nq/QPW6RoXRc7+0wYpWHPVpvzaly8qOh1m/995/z5bZqz6261CXjdFYP+VyViCHfGg/j36Nwjsicj9S/2L3EuN3PxEV+eFfhX0/bfnlaN6FgT9pWiKTrDyEP3RrmsMq6IY/YcU3gdqJiT+vuEKcqiKMP9g4IcjPs44/1ZBixxmfkD/gXTGayt+RPwUWDCPHGpM/gC32MftJlD/Xn2ku3F6VP4GIzfqmRpY/S6h2DOP8lj/7ZfibxZWXP6nzfXhjL5g/hGmF2lDgmD87TT70366ZP+IBNRqYk5o/Xi3pu2qEmz+fZ2CiSXucP6zD7arpdZ0/aaE58g1znj/REX9odHSfPwxLWvbGPqA/\",\"dtype\":\"float64\",\"shape\":[75]},\"y\":{\"__ndarray__\":\"GhExyth1ND/Sv8nbtpRIP2vylNV0PVE/aTum7souWD/At0SJ8fVgPw3Iuahxymc/MSNhhJWvcD/bTfBN02d3P2zb5nxnaoA/CD5h5MAGhz8NmeH1TyaQP+zrCsc9p5Y/LbKd76fGnz/bLW5ISEmmPww9YvTcQq8/JV2OstnstT8Er5Y7M8G+P0c+r3jqkcU/5h99k6ZBzj88bCIzFzjVP4enV8oyxN0//yH99nXg5D8qOpLLf0jtP5kqGJXUifQ/c9cS8kHP/D+/DpwzojQEQIEmwoanVwxA4lgXt9HgE0BSSZ2AJuIbQAMJih9jjiNA5q4l5INuK0AwTKYKRj0zQNv5fmq8/DpAaCJseHrtQkB/+zpwzoxKQM3MzMzMeFJAZmZmZmZqWEAAAAAAAFxeQM3MzMzMJmJAmpmZmZkfZUBmZmZmZhhoQDMzMzMzEWtAAAAAAAAKbkBmZmZmZoFwQM3MzMzM/XFAMzMzMzN6c0CamZmZmfZ0QAAAAAAAc3ZAZmZmZmbvd0DNzMzMzGt5QDMzMzMz6HpAmpmZmZlkfEAAAAAAAOF9QGZmZmZmXX9AZmZmZuZsgECamZmZGSuBQM3MzMxM6YFAAAAAAICngkAzMzMzs2WDQGZmZmbmI4RAmpmZmRnihEDNzMzMTKCFQAAAAACAXoZAMzMzM7Mch0BmZmZm5tqHQJqZmZkZmYhAzczMzExXiUAAAAAAgBWKQDMzMzOz04pAZmZmZuaRi0CamZmZGVCMQM3MzMxMDo1AAAAAAIDMjUAzMzMzs4qOQGZmZmbmSI9A\",\"dtype\":\"float64\",\"shape\":[75]}}},\"id\":\"446e47e2-c688-430b-abb0-abcc7966b75d\",\"type\":\"ColumnDataSource\"},{\"attributes\":{\"callback\":null,\"end\":0.01,\"start\":1020},\"id\":\"98f93971-c1d3-4912-b24d-9632d5b254fc\",\"type\":\"Range1d\"},{\"attributes\":{\"source\":{\"id\":\"31117056-5b91-45cb-a6df-2ccb9932a2f9\",\"type\":\"ColumnDataSource\"}},\"id\":\"1bdad8e4-516c-4dc9-b624-08c432fc4d1d\",\"type\":\"CDSView\"},{\"attributes\":{\"data_source\":{\"id\":\"446e47e2-c688-430b-abb0-abcc7966b75d\",\"type\":\"ColumnDataSource\"},\"glyph\":{\"id\":\"b426f900-733e-410f-8ade-bdb2dd67c1ea\",\"type\":\"Line\"},\"hover_glyph\":null,\"muted_glyph\":null,\"nonselection_glyph\":{\"id\":\"6c948392-a95e-4d77-84d1-77641c17aadb\",\"type\":\"Line\"},\"selection_glyph\":null,\"view\":{\"id\":\"6433de55-75ad-4ef7-b2fb-02f49ba62b75\",\"type\":\"CDSView\"}},\"id\":\"61ab78b9-080e-476a-85f7-f4e02038979d\",\"type\":\"GlyphRenderer\"},{\"attributes\":{\"axis_label\":\"cooling rate [K/day]\",\"formatter\":{\"id\":\"dac542b3-f79a-49a5-abd6-24fb54f8cb4a\",\"type\":\"BasicTickFormatter\"},\"plot\":{\"id\":\"bb8622f3-f55b-4893-9137-7a66adb43fe5\",\"subtype\":\"Figure\",\"type\":\"Plot\"},\"ticker\":{\"id\":\"b4320e58-d497-4964-bf41-450e465761bc\",\"type\":\"BasicTicker\"}},\"id\":\"72d1feb5-e14d-45cd-8813-0da7bbbc63cf\",\"type\":\"LinearAxis\"},{\"attributes\":{\"source\":{\"id\":\"e07b9036-e689-42ea-8aeb-92a8a2035754\",\"type\":\"ColumnDataSource\"}},\"id\":\"7a71264e-9c14-403a-a017-b9ba0f3deac2\",\"type\":\"CDSView\"},{\"attributes\":{\"line_color\":\"#4daf4a\",\"line_width\":1.5,\"x\":{\"field\":\"x\"},\"y\":{\"field\":\"y\"}},\"id\":\"b426f900-733e-410f-8ade-bdb2dd67c1ea\",\"type\":\"Line\"},{\"attributes\":{\"line_alpha\":0.1,\"line_color\":\"#1f77b4\",\"line_width\":1.5,\"x\":{\"field\":\"x\"},\"y\":{\"field\":\"y\"}},\"id\":\"6c948392-a95e-4d77-84d1-77641c17aadb\",\"type\":\"Line\"},{\"attributes\":{\"callback\":null,\"column_names\":[\"x\",\"y\"],\"data\":{\"x\":{\"__ndarray__\":\"gcrmmYJDdz+idBjfMAZ4P+NbK9VWk3k/iRTKGW0pez84OlpZBcN8PwSNAe/9X34/xbGgUSMAgD9Tf96+C9KAP5kQ0UWdpYE/RxWkzuB6gj/21vr1kVGDP2CdoGs2KoQ/TV1O2+wEhT+2jZ6sVh6GP6fyk9TFEoo/hf3CGdkmkT+3okmeGFWWP/tVKPEj+Zs/pMBKMGYGoT8QA6X1szCkP07IYHkxnqc/wEkPljzdqj+g4p/ER+CrP1vOyR92iqo/zF9OnLhIqD88FRnAolSlP9m2pYk1RaI/cYeb+s6Rnj8Uo6SiMMyYP/iXjHiiQJM/QnVbBAPpiz9d7jXaytqBP1VvyQV5inA/6PePSIX4Or+Itgls7sB2v/NJnI2E2oa/qRA7Dl17jr8/Vsel/n6Ov6FqhYQHCIq/sg2J8PDUhb+z+snlduCBv17kSq9gKny/jcR5sLSwdL/SELm8Tf5qv6q41MtBAFq/FncmdduKCT/YM1fbllFbP85W7DratWo/hr1d6niwcz8qu6lN/MN5P6cgnJOv4X8/Gt0gaSrtgj9iZj2sBdGFPwaTIoqBrIg/o2OTrGaFiz9QNgz3tkaOP2h/5kP+f5A/7xIpyVLdkT+60v6ERCyTP39O3AkxeZQ/VwtCMkq7lT/WOsXvzNmWP1oRxupu2Zc/8g1dvumlmD9a75eVvVOZP/8JfC5kCJo/uzw0bM/Fmj9LZ/i30aWbP9FoZ+OMkpw/hKP0JYyInT9Hc/dIaYeeP/Achur4fJ8/j04KaOM+oD/2+NXF+rmgP4LKDNwAOqE/\",\"dtype\":\"float64\",\"shape\":[75]},\"y\":{\"__ndarray__\":\"GhExyth1ND/Sv8nbtpRIP2vylNV0PVE/aTum7souWD/At0SJ8fVgPw3Iuahxymc/MSNhhJWvcD/bTfBN02d3P2zb5nxnaoA/CD5h5MAGhz8NmeH1TyaQP+zrCsc9p5Y/LbKd76fGnz/bLW5ISEmmPww9YvTcQq8/JV2OstnstT8Er5Y7M8G+P0c+r3jqkcU/5h99k6ZBzj88bCIzFzjVP4enV8oyxN0//yH99nXg5D8qOpLLf0jtP5kqGJXUifQ/c9cS8kHP/D+/DpwzojQEQIEmwoanVwxA4lgXt9HgE0BSSZ2AJuIbQAMJih9jjiNA5q4l5INuK0AwTKYKRj0zQNv5fmq8/DpAaCJseHrtQkB/+zpwzoxKQM3MzMzMeFJAZmZmZmZqWEAAAAAAAFxeQM3MzMzMJmJAmpmZmZkfZUBmZmZmZhhoQDMzMzMzEWtAAAAAAAAKbkBmZmZmZoFwQM3MzMzM/XFAMzMzMzN6c0CamZmZmfZ0QAAAAAAAc3ZAZmZmZmbvd0DNzMzMzGt5QDMzMzMz6HpAmpmZmZlkfEAAAAAAAOF9QGZmZmZmXX9AZmZmZuZsgECamZmZGSuBQM3MzMxM6YFAAAAAAICngkAzMzMzs2WDQGZmZmbmI4RAmpmZmRnihEDNzMzMTKCFQAAAAACAXoZAMzMzM7Mch0BmZmZm5tqHQJqZmZkZmYhAzczMzExXiUAAAAAAgBWKQDMzMzOz04pAZmZmZuaRi0CamZmZGVCMQM3MzMxMDo1AAAAAAIDMjUAzMzMzs4qOQGZmZmbmSI9A\",\"dtype\":\"float64\",\"shape\":[75]}}},\"id\":\"cd2e6292-649b-4e18-a26e-36ccd9d4e9a2\",\"type\":\"ColumnDataSource\"},{\"attributes\":{\"axis_label\":\"pressure [mb]\",\"formatter\":{\"id\":\"d2320653-2b77-4f0e-847a-cc8c0fa78798\",\"type\":\"LogTickFormatter\"},\"plot\":{\"id\":\"f57615ad-8380-47d0-a1ef-e804669c6a11\",\"subtype\":\"Figure\",\"type\":\"Plot\"},\"ticker\":{\"id\":\"89be405f-eaa2-49f5-8ed8-bb5ff71479f0\",\"type\":\"LogTicker\"}},\"id\":\"1e2ebaa8-3200-49f1-a0ca-d25f6461c52b\",\"type\":\"LogAxis\"},{\"attributes\":{\"source\":{\"id\":\"446e47e2-c688-430b-abb0-abcc7966b75d\",\"type\":\"ColumnDataSource\"}},\"id\":\"6433de55-75ad-4ef7-b2fb-02f49ba62b75\",\"type\":\"CDSView\"},{\"attributes\":{\"callback\":null,\"column_names\":[\"x\",\"y\"],\"data\":{\"x\":{\"__ndarray__\":\"gcrmmYJDdz+idBjfMAZ4P+NbK9VWk3k/iRTKGW0pez84OlpZBcN8PwSNAe/9X34/xbGgUSMAgD9Tf96+C9KAP5kQ0UWdpYE/RxWkzuB6gj/21vr1kVGDP2CdoGs2KoQ/TV1O2+wEhT+2jZ6sVh6GP6fyk9TFEoo/hf3CGdkmkT+3okmeGFWWP/tVKPEj+Zs/pMBKMGYGoT8QA6X1szCkP07IYHkxnqc/wEkPljzdqj+g4p/ER+CrP1vOyR92iqo/zF9OnLhIqD88FRnAolSlP9m2pYk1RaI/cYeb+s6Rnj8Uo6SiMMyYP/iXjHiiQJM/QnVbBAPpiz9d7jXaytqBP1VvyQV5inA/6PePSIX4Or+Itgls7sB2v/NJnI2E2oa/qRA7Dl17jr8/Vsel/n6Ov6FqhYQHCIq/sg2J8PDUhb+z+snlduCBv17kSq9gKny/jcR5sLSwdL/SELm8Tf5qv6q41MtBAFq/FncmdduKCT/YM1fbllFbP85W7DratWo/hr1d6niwcz8qu6lN/MN5P6cgnJOv4X8/Gt0gaSrtgj9iZj2sBdGFPwaTIoqBrIg/o2OTrGaFiz9QNgz3tkaOP2h/5kP+f5A/7xIpyVLdkT+60v6ERCyTP39O3AkxeZQ/VwtCMkq7lT/WOsXvzNmWP1oRxupu2Zc/8g1dvumlmD9a75eVvVOZP/8JfC5kCJo/uzw0bM/Fmj9LZ/i30aWbP9FoZ+OMkpw/hKP0JYyInT9Hc/dIaYeeP/Achur4fJ8/j04KaOM+oD/2+NXF+rmgP4LKDNwAOqE/\",\"dtype\":\"float64\",\"shape\":[75]},\"y\":{\"__ndarray__\":\"GhExyth1ND/Sv8nbtpRIP2vylNV0PVE/aTum7souWD/At0SJ8fVgPw3Iuahxymc/MSNhhJWvcD/bTfBN02d3P2zb5nxnaoA/CD5h5MAGhz8NmeH1TyaQP+zrCsc9p5Y/LbKd76fGnz/bLW5ISEmmPww9YvTcQq8/JV2OstnstT8Er5Y7M8G+P0c+r3jqkcU/5h99k6ZBzj88bCIzFzjVP4enV8oyxN0//yH99nXg5D8qOpLLf0jtP5kqGJXUifQ/c9cS8kHP/D+/DpwzojQEQIEmwoanVwxA4lgXt9HgE0BSSZ2AJuIbQAMJih9jjiNA5q4l5INuK0AwTKYKRj0zQNv5fmq8/DpAaCJseHrtQkB/+zpwzoxKQM3MzMzMeFJAZmZmZmZqWEAAAAAAAFxeQM3MzMzMJmJAmpmZmZkfZUBmZmZmZhhoQDMzMzMzEWtAAAAAAAAKbkBmZmZmZoFwQM3MzMzM/XFAMzMzMzN6c0CamZmZmfZ0QAAAAAAAc3ZAZmZmZmbvd0DNzMzMzGt5QDMzMzMz6HpAmpmZmZlkfEAAAAAAAOF9QGZmZmZmXX9AZmZmZuZsgECamZmZGSuBQM3MzMxM6YFAAAAAAICngkAzMzMzs2WDQGZmZmbmI4RAmpmZmRnihEDNzMzMTKCFQAAAAACAXoZAMzMzM7Mch0BmZmZm5tqHQJqZmZkZmYhAzczMzExXiUAAAAAAgBWKQDMzMzOz04pAZmZmZuaRi0CamZmZGVCMQM3MzMxMDo1AAAAAAIDMjUAzMzMzs4qOQGZmZmbmSI9A\",\"dtype\":\"float64\",\"shape\":[75]}}},\"id\":\"8741ba4e-9947-405b-854e-92e2bf638a1c\",\"type\":\"ColumnDataSource\"},{\"attributes\":{\"fill_alpha\":{\"value\":0.7},\"fill_color\":{\"value\":\"#984ea3\"},\"line_alpha\":{\"value\":0.7},\"line_color\":{\"value\":\"#984ea3\"},\"x\":{\"field\":\"x\"},\"y\":{\"field\":\"y\"}},\"id\":\"d6b75ae1-399a-4069-94fb-f7e45aee0b21\",\"type\":\"Square\"},{\"attributes\":{},\"id\":\"c95acc3b-6d08-4433-b96a-20ddaeb6e485\",\"type\":\"LinearScale\"},{\"attributes\":{\"callback\":null,\"end\":0.0551388598193,\"start\":-0.0155840222893},\"id\":\"88836599-a8bf-4949-9688-7d9b67a715c0\",\"type\":\"Range1d\"},{\"attributes\":{\"source\":{\"id\":\"693f7580-6fac-4781-a318-4ffdba3145cb\",\"type\":\"ColumnDataSource\"}},\"id\":\"e2cbba60-1c53-4552-b0ea-7eaa1475d772\",\"type\":\"CDSView\"},{\"attributes\":{\"fill_alpha\":{\"value\":0.1},\"fill_color\":{\"value\":\"#1f77b4\"},\"line_alpha\":{\"value\":0.1},\"line_color\":{\"value\":\"#1f77b4\"},\"x\":{\"field\":\"x\"},\"y\":{\"field\":\"y\"}},\"id\":\"4e7a17ca-d57d-43e6-9b21-792ea2f0df74\",\"type\":\"Square\"},{\"attributes\":{\"data_source\":{\"id\":\"476f4e77-b564-4d7a-a43a-ef4e239bcf51\",\"type\":\"ColumnDataSource\"},\"glyph\":{\"id\":\"d6b75ae1-399a-4069-94fb-f7e45aee0b21\",\"type\":\"Square\"},\"hover_glyph\":null,\"muted_glyph\":null,\"nonselection_glyph\":{\"id\":\"4e7a17ca-d57d-43e6-9b21-792ea2f0df74\",\"type\":\"Square\"},\"selection_glyph\":null,\"view\":{\"id\":\"aec350f2-79c9-4ecc-b10f-27183ebd025a\",\"type\":\"CDSView\"}},\"id\":\"22064cce-687c-4b30-82dc-6b3790d7f8cb\",\"type\":\"GlyphRenderer\"},{\"attributes\":{},\"id\":\"41423923-a3d2-4e32-88a0-8450eedd76d7\",\"type\":\"LinearScale\"},{\"attributes\":{\"source\":{\"id\":\"476f4e77-b564-4d7a-a43a-ef4e239bcf51\",\"type\":\"ColumnDataSource\"}},\"id\":\"aec350f2-79c9-4ecc-b10f-27183ebd025a\",\"type\":\"CDSView\"},{\"attributes\":{\"line_alpha\":0.6,\"line_color\":\"#984ea3\",\"line_width\":3,\"x\":{\"field\":\"x\"},\"y\":{\"field\":\"y\"}},\"id\":\"54b7985e-5584-4f5a-9b85-f682165453ed\",\"type\":\"Line\"},{\"attributes\":{\"label\":{\"value\":\"CRD\"},\"renderers\":[{\"id\":\"2c5c61aa-461e-46ad-b867-b9b70d02da6d\",\"type\":\"GlyphRenderer\"},{\"id\":\"61ab78b9-080e-476a-85f7-f4e02038979d\",\"type\":\"GlyphRenderer\"}]},\"id\":\"de8e0244-db7e-4942-874a-f2b073a856d4\",\"type\":\"LegendItem\"},{\"attributes\":{\"line_alpha\":0.1,\"line_color\":\"#1f77b4\",\"line_width\":3,\"x\":{\"field\":\"x\"},\"y\":{\"field\":\"y\"}},\"id\":\"a56a76aa-3bb8-4b3d-8610-667c652c8b92\",\"type\":\"Line\"},{\"attributes\":{\"data_source\":{\"id\":\"cd2e6292-649b-4e18-a26e-36ccd9d4e9a2\",\"type\":\"ColumnDataSource\"},\"glyph\":{\"id\":\"54b7985e-5584-4f5a-9b85-f682165453ed\",\"type\":\"Line\"},\"hover_glyph\":null,\"muted_glyph\":null,\"nonselection_glyph\":{\"id\":\"a56a76aa-3bb8-4b3d-8610-667c652c8b92\",\"type\":\"Line\"},\"selection_glyph\":null,\"view\":{\"id\":\"cb0b6edb-2488-4d84-85f0-34085776bf68\",\"type\":\"CDSView\"}},\"id\":\"2682ef17-6c4c-4281-9f03-7594a164f6f6\",\"type\":\"GlyphRenderer\"},{\"attributes\":{},\"id\":\"5c42db68-5c71-4bd3-9425-87ebdc4c3b40\",\"type\":\"BasicTicker\"},{\"attributes\":{\"source\":{\"id\":\"cd2e6292-649b-4e18-a26e-36ccd9d4e9a2\",\"type\":\"ColumnDataSource\"}},\"id\":\"cb0b6edb-2488-4d84-85f0-34085776bf68\",\"type\":\"CDSView\"},{\"attributes\":{\"toolbar\":{\"id\":\"91786bbf-b4f7-413b-b191-8978dc6ac0a1\",\"type\":\"ProxyToolbar\"},\"toolbar_location\":\"above\"},\"id\":\"cdbc8846-253c-41d1-a7df-c2264b7b9b06\",\"type\":\"ToolbarBox\"},{\"attributes\":{\"line_color\":\"#4daf4a\",\"line_width\":1.5,\"x\":{\"field\":\"x\"},\"y\":{\"field\":\"y\"}},\"id\":\"4067de67-e71e-4246-9db4-40175a1d36d7\",\"type\":\"Line\"},{\"attributes\":{\"label\":{\"value\":\"WGT igg=10 wgt_flux=2\"},\"renderers\":[{\"id\":\"22064cce-687c-4b30-82dc-6b3790d7f8cb\",\"type\":\"GlyphRenderer\"},{\"id\":\"2682ef17-6c4c-4281-9f03-7594a164f6f6\",\"type\":\"GlyphRenderer\"}]},\"id\":\"7e76357f-a046-46af-9d55-bf0aaf81af3e\",\"type\":\"LegendItem\"},{\"attributes\":{\"children\":[{\"id\":\"cdbc8846-253c-41d1-a7df-c2264b7b9b06\",\"type\":\"ToolbarBox\"},{\"id\":\"e83efc1e-772b-4408-8305-166938f43143\",\"type\":\"Column\"}]},\"id\":\"65f95e1f-5ee0-45dc-a144-4fad8d931367\",\"type\":\"Column\"},{\"attributes\":{\"plot\":{\"id\":\"bb8622f3-f55b-4893-9137-7a66adb43fe5\",\"subtype\":\"Figure\",\"type\":\"Plot\"},\"ticker\":{\"id\":\"b4320e58-d497-4964-bf41-450e465761bc\",\"type\":\"BasicTicker\"}},\"id\":\"e4ef1c41-72a0-438d-8e2d-20b4e4d41ba0\",\"type\":\"Grid\"},{\"attributes\":{\"tools\":[{\"id\":\"8284fef5-f123-4c61-887f-644181eae55d\",\"type\":\"PanTool\"},{\"id\":\"04174d29-e719-489e-9ecb-b46b80d6c7cc\",\"type\":\"WheelZoomTool\"},{\"id\":\"772e954d-7862-4b16-83dd-0e00665999a5\",\"type\":\"BoxZoomTool\"},{\"id\":\"50ab44a3-c0ca-4582-8a65-42309fb46ccf\",\"type\":\"SaveTool\"},{\"id\":\"8a49c473-05b1-4daf-94a1-8f7037780753\",\"type\":\"ResetTool\"},{\"id\":\"dcfeda83-8369-49cc-a4ab-2546087292f6\",\"type\":\"HelpTool\"},{\"id\":\"5a816eaf-b7fa-42fe-9266-6827ff3f30ab\",\"type\":\"PanTool\"},{\"id\":\"5a9693c0-7d0c-4d46-8d43-4732b605defe\",\"type\":\"WheelZoomTool\"},{\"id\":\"1e07a794-6b0f-4643-a6e5-7c2edc022247\",\"type\":\"BoxZoomTool\"},{\"id\":\"4de3949b-ba93-4ad4-8da8-f4e95d14f90d\",\"type\":\"SaveTool\"},{\"id\":\"cb4fbdc7-1f46-4028-8aa3-99622df200d7\",\"type\":\"ResetTool\"},{\"id\":\"a8b1e5f7-581c-4c9f-9192-cb3eb1d279f7\",\"type\":\"HelpTool\"}]},\"id\":\"91786bbf-b4f7-413b-b191-8978dc6ac0a1\",\"type\":\"ProxyToolbar\"},{\"attributes\":{\"plot\":null,\"text\":\"Linear pressure scale\"},\"id\":\"754290d6-cee3-4bf6-b177-e5a838672f41\",\"type\":\"Title\"},{\"attributes\":{\"num_minor_ticks\":10},\"id\":\"89be405f-eaa2-49f5-8ed8-bb5ff71479f0\",\"type\":\"LogTicker\"},{\"attributes\":{\"active_drag\":\"auto\",\"active_inspect\":\"auto\",\"active_scroll\":\"auto\",\"active_tap\":\"auto\",\"tools\":[{\"id\":\"8284fef5-f123-4c61-887f-644181eae55d\",\"type\":\"PanTool\"},{\"id\":\"04174d29-e719-489e-9ecb-b46b80d6c7cc\",\"type\":\"WheelZoomTool\"},{\"id\":\"772e954d-7862-4b16-83dd-0e00665999a5\",\"type\":\"BoxZoomTool\"},{\"id\":\"50ab44a3-c0ca-4582-8a65-42309fb46ccf\",\"type\":\"SaveTool\"},{\"id\":\"8a49c473-05b1-4daf-94a1-8f7037780753\",\"type\":\"ResetTool\"},{\"id\":\"dcfeda83-8369-49cc-a4ab-2546087292f6\",\"type\":\"HelpTool\"}]},\"id\":\"47808936-1659-4a90-afb4-a7e10524ec64\",\"type\":\"Toolbar\"},{\"attributes\":{},\"id\":\"b4320e58-d497-4964-bf41-450e465761bc\",\"type\":\"BasicTicker\"},{\"attributes\":{\"bottom_units\":\"screen\",\"fill_alpha\":{\"value\":0.5},\"fill_color\":{\"value\":\"lightgrey\"},\"left_units\":\"screen\",\"level\":\"overlay\",\"line_alpha\":{\"value\":1.0},\"line_color\":{\"value\":\"black\"},\"line_dash\":[4,4],\"line_width\":{\"value\":2},\"plot\":null,\"render_mode\":\"css\",\"right_units\":\"screen\",\"top_units\":\"screen\"},\"id\":\"ffcfec44-ce2e-4cbe-a7df-17539a8da4a2\",\"type\":\"BoxAnnotation\"},{\"attributes\":{\"axis_label\":\"pressure [mb]\",\"formatter\":{\"id\":\"450c87cd-99c2-460f-894a-939ac7723976\",\"type\":\"BasicTickFormatter\"},\"plot\":{\"id\":\"bb8622f3-f55b-4893-9137-7a66adb43fe5\",\"subtype\":\"Figure\",\"type\":\"Plot\"},\"ticker\":{\"id\":\"5c42db68-5c71-4bd3-9425-87ebdc4c3b40\",\"type\":\"BasicTicker\"}},\"id\":\"eec1c32f-3409-4b7f-bf47-2b439f3d636d\",\"type\":\"LinearAxis\"},{\"attributes\":{\"dimension\":1,\"plot\":{\"id\":\"bb8622f3-f55b-4893-9137-7a66adb43fe5\",\"subtype\":\"Figure\",\"type\":\"Plot\"},\"ticker\":{\"id\":\"5c42db68-5c71-4bd3-9425-87ebdc4c3b40\",\"type\":\"BasicTicker\"}},\"id\":\"be4380b8-e11e-4297-b4dc-c5c195c6c324\",\"type\":\"Grid\"},{\"attributes\":{\"source\":{\"id\":\"390689bf-3fdb-437f-9114-4f62a8ee7561\",\"type\":\"ColumnDataSource\"}},\"id\":\"6d09e6d7-ca9c-4546-8714-d95f518ddc16\",\"type\":\"CDSView\"}],\"root_ids\":[\"65f95e1f-5ee0-45dc-a144-4fad8d931367\"]},\"title\":\"Bokeh Application\",\"version\":\"0.12.14\"}};\n",
       "  var render_items = [{\"docid\":\"b9b74b64-2127-41ed-a8b5-b8fcc84238cb\",\"elementid\":\"ee783917-a67e-40a8-8589-24049aa5a0f8\",\"modelid\":\"65f95e1f-5ee0-45dc-a144-4fad8d931367\"}];\n",
       "  root.Bokeh.embed.embed_items_notebook(docs_json, render_items);\n",
       "\n",
       "  }\n",
       "  if (root.Bokeh !== undefined) {\n",
       "    embed_document(root);\n",
       "  } else {\n",
       "    var attempts = 0;\n",
       "    var timer = setInterval(function(root) {\n",
       "      if (root.Bokeh !== undefined) {\n",
       "        embed_document(root);\n",
       "        clearInterval(timer);\n",
       "      }\n",
       "      attempts++;\n",
       "      if (attempts > 100) {\n",
       "        console.log(\"Bokeh: ERROR: Unable to run BokehJS code because BokehJS library is missing\")\n",
       "        clearInterval(timer);\n",
       "      }\n",
       "    }, 10, root)\n",
       "  }\n",
       "})(window);"
      ],
      "application/vnd.bokehjs_exec.v0+json": ""
     },
     "metadata": {
      "application/vnd.bokehjs_exec.v0+json": {
       "id": "65f95e1f-5ee0-45dc-a144-4fad8d931367"
      }
     },
     "output_type": "display_data"
    },
    {
     "name": "stdout",
     "output_type": "stream",
     "text": [
      "FIGURE. Cooling rate profiles.\n"
     ]
    },
    {
     "data": {
      "text/html": [
       "<a id=\"Flux_Comparison\"></a>"
      ],
      "text/plain": [
       "<IPython.core.display.HTML object>"
      ]
     },
     "metadata": {},
     "output_type": "display_data"
    },
    {
     "data": {
      "text/markdown": [
       "# Flux Comparison"
      ],
      "text/plain": [
       "<IPython.core.display.Markdown object>"
      ]
     },
     "metadata": {},
     "output_type": "display_data"
    },
    {
     "data": {
      "text/html": [
       "<div>\n",
       "<style>\n",
       "    .dataframe thead tr:only-child th {\n",
       "        text-align: right;\n",
       "    }\n",
       "\n",
       "    .dataframe thead th {\n",
       "        text-align: left;\n",
       "    }\n",
       "\n",
       "    .dataframe tbody tr th {\n",
       "        vertical-align: top;\n",
       "    }\n",
       "</style>\n",
       "<table border=\"1\" class=\"dataframe\">\n",
       "  <thead>\n",
       "    <tr style=\"text-align: right;\">\n",
       "      <th></th>\n",
       "      <th></th>\n",
       "      <th>flug</th>\n",
       "      <th>fldg</th>\n",
       "      <th>fnetg</th>\n",
       "    </tr>\n",
       "    <tr>\n",
       "      <th>pressure</th>\n",
       "      <th>level</th>\n",
       "      <th></th>\n",
       "      <th></th>\n",
       "      <th></th>\n",
       "    </tr>\n",
       "  </thead>\n",
       "  <tbody>\n",
       "    <tr>\n",
       "      <th>0.0000</th>\n",
       "      <th>1</th>\n",
       "      <td>-37.080242</td>\n",
       "      <td>0.000000</td>\n",
       "      <td>-37.080242</td>\n",
       "    </tr>\n",
       "    <tr>\n",
       "      <th>1.0685</th>\n",
       "      <th>24</th>\n",
       "      <td>-37.079405</td>\n",
       "      <td>0.004616</td>\n",
       "      <td>-37.074788</td>\n",
       "    </tr>\n",
       "    <tr>\n",
       "      <th>1013.0000</th>\n",
       "      <th>76</th>\n",
       "      <td>-38.491734</td>\n",
       "      <td>2.798733</td>\n",
       "      <td>-35.693002</td>\n",
       "    </tr>\n",
       "  </tbody>\n",
       "</table>\n",
       "</div>"
      ],
      "text/plain": [
       "                      flug      fldg      fnetg\n",
       "pressure  level                                \n",
       "0.0000    1     -37.080242  0.000000 -37.080242\n",
       "1.0685    24    -37.079405  0.004616 -37.074788\n",
       "1013.0000 76    -38.491734  2.798733 -35.693002"
      ]
     },
     "metadata": {},
     "output_type": "display_data"
    },
    {
     "name": "stdout",
     "output_type": "stream",
     "text": [
      "Table. Fluxes. WGT igg=10 wgt_flux=1\n"
     ]
    },
    {
     "data": {
      "text/html": [
       "<div>\n",
       "<style>\n",
       "    .dataframe thead tr:only-child th {\n",
       "        text-align: right;\n",
       "    }\n",
       "\n",
       "    .dataframe thead th {\n",
       "        text-align: left;\n",
       "    }\n",
       "\n",
       "    .dataframe tbody tr th {\n",
       "        vertical-align: top;\n",
       "    }\n",
       "</style>\n",
       "<table border=\"1\" class=\"dataframe\">\n",
       "  <thead>\n",
       "    <tr style=\"text-align: right;\">\n",
       "      <th></th>\n",
       "      <th></th>\n",
       "      <th>flug</th>\n",
       "      <th>fldg</th>\n",
       "      <th>fnetg</th>\n",
       "    </tr>\n",
       "    <tr>\n",
       "      <th>pressure</th>\n",
       "      <th>level</th>\n",
       "      <th></th>\n",
       "      <th></th>\n",
       "      <th></th>\n",
       "    </tr>\n",
       "  </thead>\n",
       "  <tbody>\n",
       "    <tr>\n",
       "      <th>0.0000</th>\n",
       "      <th>1</th>\n",
       "      <td>-37.083828</td>\n",
       "      <td>0.000000</td>\n",
       "      <td>-37.083828</td>\n",
       "    </tr>\n",
       "    <tr>\n",
       "      <th>1.0685</th>\n",
       "      <th>24</th>\n",
       "      <td>-37.083479</td>\n",
       "      <td>0.004824</td>\n",
       "      <td>-37.078655</td>\n",
       "    </tr>\n",
       "    <tr>\n",
       "      <th>1013.0000</th>\n",
       "      <th>76</th>\n",
       "      <td>-38.491734</td>\n",
       "      <td>2.699166</td>\n",
       "      <td>-35.792568</td>\n",
       "    </tr>\n",
       "  </tbody>\n",
       "</table>\n",
       "</div>"
      ],
      "text/plain": [
       "                      flug      fldg      fnetg\n",
       "pressure  level                                \n",
       "0.0000    1     -37.083828  0.000000 -37.083828\n",
       "1.0685    24    -37.083479  0.004824 -37.078655\n",
       "1013.0000 76    -38.491734  2.699166 -35.792568"
      ]
     },
     "metadata": {},
     "output_type": "display_data"
    },
    {
     "name": "stdout",
     "output_type": "stream",
     "text": [
      "Table. Fluxes. CRD\n"
     ]
    },
    {
     "data": {
      "text/html": [
       "<div>\n",
       "<style>\n",
       "    .dataframe thead tr:only-child th {\n",
       "        text-align: right;\n",
       "    }\n",
       "\n",
       "    .dataframe thead th {\n",
       "        text-align: left;\n",
       "    }\n",
       "\n",
       "    .dataframe tbody tr th {\n",
       "        vertical-align: top;\n",
       "    }\n",
       "</style>\n",
       "<table border=\"1\" class=\"dataframe\">\n",
       "  <thead>\n",
       "    <tr style=\"text-align: right;\">\n",
       "      <th></th>\n",
       "      <th></th>\n",
       "      <th>flug</th>\n",
       "      <th>fldg</th>\n",
       "      <th>fnetg</th>\n",
       "    </tr>\n",
       "    <tr>\n",
       "      <th>pressure</th>\n",
       "      <th>level</th>\n",
       "      <th></th>\n",
       "      <th></th>\n",
       "      <th></th>\n",
       "    </tr>\n",
       "  </thead>\n",
       "  <tbody>\n",
       "    <tr>\n",
       "      <th>1.000000e-08</th>\n",
       "      <th>1</th>\n",
       "      <td>-37.130763</td>\n",
       "      <td>0.000002</td>\n",
       "      <td>-37.130760</td>\n",
       "    </tr>\n",
       "    <tr>\n",
       "      <th>1.068500e+00</th>\n",
       "      <th>24</th>\n",
       "      <td>-37.129896</td>\n",
       "      <td>0.004209</td>\n",
       "      <td>-37.125688</td>\n",
       "    </tr>\n",
       "    <tr>\n",
       "      <th>1.013000e+03</th>\n",
       "      <th>76</th>\n",
       "      <td>-38.491730</td>\n",
       "      <td>2.696774</td>\n",
       "      <td>-35.794956</td>\n",
       "    </tr>\n",
       "  </tbody>\n",
       "</table>\n",
       "</div>"
      ],
      "text/plain": [
       "                         flug      fldg      fnetg\n",
       "pressure     level                                \n",
       "1.000000e-08 1     -37.130763  0.000002 -37.130760\n",
       "1.068500e+00 24    -37.129896  0.004209 -37.125688\n",
       "1.013000e+03 76    -38.491730  2.696774 -35.794956"
      ]
     },
     "metadata": {},
     "output_type": "display_data"
    },
    {
     "name": "stdout",
     "output_type": "stream",
     "text": [
      "Table. Fluxes. CLIRAD\n"
     ]
    },
    {
     "data": {
      "text/html": [
       "<div>\n",
       "<style>\n",
       "    .dataframe thead tr:only-child th {\n",
       "        text-align: right;\n",
       "    }\n",
       "\n",
       "    .dataframe thead th {\n",
       "        text-align: left;\n",
       "    }\n",
       "\n",
       "    .dataframe tbody tr th {\n",
       "        vertical-align: top;\n",
       "    }\n",
       "</style>\n",
       "<table border=\"1\" class=\"dataframe\">\n",
       "  <thead>\n",
       "    <tr style=\"text-align: right;\">\n",
       "      <th></th>\n",
       "      <th></th>\n",
       "      <th>flug</th>\n",
       "      <th>fldg</th>\n",
       "      <th>fnetg</th>\n",
       "    </tr>\n",
       "    <tr>\n",
       "      <th>pressure</th>\n",
       "      <th>level</th>\n",
       "      <th></th>\n",
       "      <th></th>\n",
       "      <th></th>\n",
       "    </tr>\n",
       "  </thead>\n",
       "  <tbody>\n",
       "    <tr>\n",
       "      <th>0.0000</th>\n",
       "      <th>1</th>\n",
       "      <td>-3.585590e-03</td>\n",
       "      <td>0.000000</td>\n",
       "      <td>-0.003586</td>\n",
       "    </tr>\n",
       "    <tr>\n",
       "      <th>1.0685</th>\n",
       "      <th>24</th>\n",
       "      <td>-4.073800e-03</td>\n",
       "      <td>0.000207</td>\n",
       "      <td>-0.003867</td>\n",
       "    </tr>\n",
       "    <tr>\n",
       "      <th>1013.0000</th>\n",
       "      <th>76</th>\n",
       "      <td>4.000000e-08</td>\n",
       "      <td>-0.099567</td>\n",
       "      <td>-0.099566</td>\n",
       "    </tr>\n",
       "  </tbody>\n",
       "</table>\n",
       "</div>"
      ],
      "text/plain": [
       "                         flug      fldg     fnetg\n",
       "pressure  level                                  \n",
       "0.0000    1     -3.585590e-03  0.000000 -0.003586\n",
       "1.0685    24    -4.073800e-03  0.000207 -0.003867\n",
       "1013.0000 76     4.000000e-08 -0.099567 -0.099566"
      ]
     },
     "metadata": {},
     "output_type": "display_data"
    },
    {
     "name": "stdout",
     "output_type": "stream",
     "text": [
      "Table. Fluxes. (CRD) - (WGT igg=10 wgt_flux=1)\n"
     ]
    },
    {
     "data": {
      "text/html": [
       "<div>\n",
       "<style>\n",
       "    .dataframe thead tr:only-child th {\n",
       "        text-align: right;\n",
       "    }\n",
       "\n",
       "    .dataframe thead th {\n",
       "        text-align: left;\n",
       "    }\n",
       "\n",
       "    .dataframe tbody tr th {\n",
       "        vertical-align: top;\n",
       "    }\n",
       "</style>\n",
       "<table border=\"1\" class=\"dataframe\">\n",
       "  <thead>\n",
       "    <tr style=\"text-align: right;\">\n",
       "      <th></th>\n",
       "      <th></th>\n",
       "      <th>flug</th>\n",
       "      <th>fldg</th>\n",
       "      <th>fnetg</th>\n",
       "    </tr>\n",
       "    <tr>\n",
       "      <th>pressure</th>\n",
       "      <th>level</th>\n",
       "      <th></th>\n",
       "      <th></th>\n",
       "      <th></th>\n",
       "    </tr>\n",
       "  </thead>\n",
       "  <tbody>\n",
       "    <tr>\n",
       "      <th>0.0000</th>\n",
       "      <th>1</th>\n",
       "      <td>-0.050521</td>\n",
       "      <td>0.000002</td>\n",
       "      <td>-0.050518</td>\n",
       "    </tr>\n",
       "    <tr>\n",
       "      <th>1.0685</th>\n",
       "      <th>24</th>\n",
       "      <td>-0.050491</td>\n",
       "      <td>-0.000408</td>\n",
       "      <td>-0.050900</td>\n",
       "    </tr>\n",
       "    <tr>\n",
       "      <th>1013.0000</th>\n",
       "      <th>76</th>\n",
       "      <td>0.000004</td>\n",
       "      <td>-0.101959</td>\n",
       "      <td>-0.101954</td>\n",
       "    </tr>\n",
       "  </tbody>\n",
       "</table>\n",
       "</div>"
      ],
      "text/plain": [
       "                     flug      fldg     fnetg\n",
       "pressure  level                              \n",
       "0.0000    1     -0.050521  0.000002 -0.050518\n",
       "1.0685    24    -0.050491 -0.000408 -0.050900\n",
       "1013.0000 76     0.000004 -0.101959 -0.101954"
      ]
     },
     "metadata": {},
     "output_type": "display_data"
    },
    {
     "name": "stdout",
     "output_type": "stream",
     "text": [
      "Table. Fluxes. (CLIRAD) - (WGT igg=10 wgt_flux=1)\n"
     ]
    },
    {
     "data": {
      "text/html": [
       "<a id=\"Best-fit_Parameters\"></a>"
      ],
      "text/plain": [
       "<IPython.core.display.HTML object>"
      ]
     },
     "metadata": {},
     "output_type": "display_data"
    },
    {
     "data": {
      "text/markdown": [
       "# Best-fit Parameters"
      ],
      "text/plain": [
       "<IPython.core.display.Markdown object>"
      ]
     },
     "metadata": {},
     "output_type": "display_data"
    },
    {
     "name": "stdout",
     "output_type": "stream",
     "text": [
      "Best-fit values for each (gas, band)\n",
      "------------------------------------\n",
      "o n2o band3a\n",
      "  atmpro = mls\n",
      "  band = 3a\n",
      "  commitnumber = 2bd1f75\n",
      "  conc = 3.2e-07\n",
      "  dv = 0.01\n",
      "  klin = 2.22e-20\n",
      "  molecule = n2o\n",
      "  ng_adju = [0, 0]\n",
      "  ng_refs = [1, 2]\n",
      "  nv = 100\n",
      "  option_compute_btable = 0\n",
      "  option_compute_ktable = 1\n",
      "  option_wgt_flux = 1\n",
      "  option_wgt_k = 1\n",
      "  ref_pts = [(1, 250), (500, 250)]\n",
      "  tsfc = 294\n",
      "  vmax = 620\n",
      "  vmin = 540\n",
      "  w_diffuse = [(1.8,), (1.66, 1.8)]\n",
      "  wgt = [(0.9,), (0.5, 0.95)]\n"
     ]
    }
   ],
   "source": [
    "script()"
   ]
  },
  {
   "cell_type": "code",
   "execution_count": 13,
   "metadata": {
    "collapsed": true
   },
   "outputs": [
    {
     "data": {
      "text/html": [
       "<script>\n",
       "code_show=true; \n",
       "function code_toggle() {\n",
       " if (code_show){\n",
       " $('div.input').hide();\n",
       " } else {\n",
       " $('div.input').show();\n",
       " }\n",
       " code_show = !code_show\n",
       "} \n",
       "$( document ).ready(code_toggle);\n",
       "</script>\n",
       "<form action=\"javascript:code_toggle()\"><input type=\"submit\" value=\"Click here to toggle on/off the raw code.\"></form>"
      ],
      "text/plain": [
       "<IPython.core.display.HTML object>"
      ]
     },
     "execution_count": 13,
     "metadata": {},
     "output_type": "execute_result"
    }
   ],
   "source": [
    "display.HTML('''<script>\n",
    "code_show=true; \n",
    "function code_toggle() {\n",
    " if (code_show){\n",
    " $('div.input').hide();\n",
    " } else {\n",
    " $('div.input').show();\n",
    " }\n",
    " code_show = !code_show\n",
    "} \n",
    "$( document ).ready(code_toggle);\n",
    "</script>\n",
    "<form action=\"javascript:code_toggle()\"><input type=\"submit\" value=\"Click here to toggle on/off the raw code.\"></form>''')"
   ]
  }
 ],
 "metadata": {
  "kernelspec": {
   "display_name": "Python 3",
   "language": "python",
   "name": "python3"
  },
  "language_info": {
   "codemirror_mode": {
    "name": "ipython",
    "version": 3
   },
   "file_extension": ".py",
   "mimetype": "text/x-python",
   "name": "python",
   "nbconvert_exporter": "python",
   "pygments_lexer": "ipython3",
   "version": "3.6.1"
  }
 },
 "nbformat": 4,
 "nbformat_minor": 2
}
