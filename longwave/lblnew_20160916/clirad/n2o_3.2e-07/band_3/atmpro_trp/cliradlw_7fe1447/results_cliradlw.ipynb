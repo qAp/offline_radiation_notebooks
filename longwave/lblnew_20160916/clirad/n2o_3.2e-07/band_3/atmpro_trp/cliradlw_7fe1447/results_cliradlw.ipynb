{
 "cells": [
  {
   "cell_type": "code",
   "execution_count": 1,
   "metadata": {
    "collapsed": true
   },
   "outputs": [],
   "source": [
    "%matplotlib inline\n",
    "import os\n",
    "import re\n",
    "import io\n",
    "import itertools\n",
    "import pprint\n",
    "\n",
    "from bokeh.io import output_notebook, show\n",
    "from bokeh.layouts import gridplot\n",
    "from bokeh.plotting import figure\n",
    "from bokeh.models import Range1d, Legend\n",
    "from bokeh.palettes import all_palettes\n",
    "\n",
    "import matplotlib\n",
    "import matplotlib.pyplot as plt\n",
    "import numpy as np\n",
    "import pandas as pd\n",
    "import xarray as xr\n",
    "\n",
    "import climatools.lblnew.bestfit_params as bestfits\n",
    "from climatools.lblnew import setup_bestfit, setup_overlap\n",
    "import climatools.lblnew.pipeline as pipe_lblnew\n",
    "import climatools.cliradlw.setup as setup_cliradlw\n",
    "import climatools.cliradlw.pipeline as pipe_cliradlw\n",
    "\n",
    "import climatools.html.html as climahtml\n",
    "from climatools.lblnew.dataio import *\n",
    "from climatools.plot.plot import *\n",
    "\n",
    "\n",
    "import IPython.display as display"
   ]
  },
  {
   "cell_type": "code",
   "execution_count": 2,
   "metadata": {
    "collapsed": true
   },
   "outputs": [],
   "source": [
    "%run param.py"
   ]
  },
  {
   "cell_type": "code",
   "execution_count": 3,
   "metadata": {
    "collapsed": true
   },
   "outputs": [],
   "source": [
    "def load_output_file(path_csv):\n",
    "    '''\n",
    "    Load lblnew output .csv file to xarray.Dataset\n",
    "    \n",
    "    Parameters\n",
    "    ----------\n",
    "    path_csv: str\n",
    "              Path to the .csv file to be loaded.\n",
    "    ds: xarray.Dataset\n",
    "        Data in the input file in the form of an xarray.Dataset.\n",
    "    '''\n",
    "    toindex = ['band', 'pressure', 'igg', 'g']    \n",
    "    df = pd.read_csv(path_csv, sep=r'\\s+')\n",
    "    df = df.set_index([i for i in toindex if i in df.columns])\n",
    "    df = df.rename(columns={'sfu': 'flug',\n",
    "                            'sfd': 'fldg',\n",
    "                            'fnet': 'fnetg',\n",
    "                            'coolr': 'coolrg'})\n",
    "    ds = xr.Dataset.from_dataframe(df)\n",
    "\n",
    "    for l in ('level', 'layer'):\n",
    "        if l in ds.data_vars:\n",
    "            if len(ds[l].dims) > 1:\n",
    "                surface = {d: 0 for d in ds.dims if d != 'pressure'}\n",
    "                coord_level = ds[l][surface]\n",
    "                ds.coords[l] = ('pressure', coord_level)\n",
    "            else:\n",
    "                ds.coords[l] = ('pressure', ds[l])\n",
    "    \n",
    "    return ds"
   ]
  },
  {
   "cell_type": "code",
   "execution_count": 4,
   "metadata": {
    "collapsed": true
   },
   "outputs": [],
   "source": [
    "def lblnew_setup(param=None):\n",
    "    if 'ng_refs' in param:\n",
    "        return {'setup': setup_bestfit,\n",
    "                'fname_flux_crd': 'output_flux.dat',\n",
    "                'fname_cool_crd': 'output_coolr.dat',\n",
    "                'fname_flux_wgt': 'output_wfluxg.dat',\n",
    "                'fname_cool_wgt': 'output_wcoolrg.dat'}\n",
    "    else:\n",
    "        return {'setup': setup_overlap,\n",
    "                'fname_flux_crd': 'output_flux.dat',\n",
    "                'fname_cool_crd': 'output_coolr.dat',\n",
    "                'fname_flux_wgt': 'output_wflux.dat',\n",
    "                'fname_cool_wgt': 'output_wcoolr.dat'}\n",
    "\n",
    "    \n",
    "def load_lblnew_data(param):\n",
    "    \n",
    "    fname_dsname = [('fname_flux_crd', 'ds_flux_crd'),\n",
    "                    ('fname_cool_crd', 'ds_cool_crd'),\n",
    "                    ('fname_flux_wgt', 'ds_flux_wgt'),\n",
    "                    ('fname_cool_wgt', 'ds_cool_wgt')]\n",
    "    \n",
    "    d = lblnew_setup(param)\n",
    "    dir_fortran = pipe_lblnew.get_dir_case(param, setup=d['setup'])\n",
    "    \n",
    "    data_dict = {}\n",
    "    for fname, dsname in fname_dsname:\n",
    "        fpath = os.path.join(dir_fortran, d[fname])\n",
    "        data_dict[dsname] = load_output_file(fpath)\n",
    "    return data_dict\n",
    "    \n",
    "\n",
    "    \n",
    "    "
   ]
  },
  {
   "cell_type": "code",
   "execution_count": 5,
   "metadata": {
    "collapsed": true
   },
   "outputs": [],
   "source": [
    "d = load_lblnew_data(PARAM_LBLNEW)\n",
    "\n",
    "DS_FLUX_CRD = d['ds_flux_crd']\n",
    "DS_COOL_CRD = d['ds_cool_crd']\n",
    "DS_FLUX_WGT = d['ds_flux_wgt']\n",
    "DS_COOL_WGT = d['ds_cool_wgt']"
   ]
  },
  {
   "cell_type": "code",
   "execution_count": 6,
   "metadata": {
    "collapsed": true
   },
   "outputs": [],
   "source": [
    "DIR_FORTRAN = pipe_cliradlw.get_fortran_dir(PARAM, \n",
    "                                            setup=setup_cliradlw)\n",
    "\n",
    "PATH_FLUX = os.path.join(DIR_FORTRAN, 'output_flux.dat')\n",
    "PATH_COOL = os.path.join(DIR_FORTRAN, 'output_coolr.dat')\n",
    "\n",
    "DS_FLUX = load_output_file(PATH_FLUX)\n",
    "DS_COOL = load_output_file(PATH_COOL)"
   ]
  },
  {
   "cell_type": "code",
   "execution_count": 7,
   "metadata": {
    "collapsed": true
   },
   "outputs": [
    {
     "data": {
      "text/html": [
       "\n",
       "    <div class=\"bk-root\">\n",
       "        <a href=\"https://bokeh.pydata.org\" target=\"_blank\" class=\"bk-logo bk-logo-small bk-logo-notebook\"></a>\n",
       "        <span id=\"88017c31-530a-497f-94cc-cc1f0931296d\">Loading BokehJS ...</span>\n",
       "    </div>"
      ]
     },
     "metadata": {},
     "output_type": "display_data"
    },
    {
     "data": {
      "application/javascript": [
       "\n",
       "(function(root) {\n",
       "  function now() {\n",
       "    return new Date();\n",
       "  }\n",
       "\n",
       "  var force = true;\n",
       "\n",
       "  if (typeof (root._bokeh_onload_callbacks) === \"undefined\" || force === true) {\n",
       "    root._bokeh_onload_callbacks = [];\n",
       "    root._bokeh_is_loading = undefined;\n",
       "  }\n",
       "\n",
       "  var JS_MIME_TYPE = 'application/javascript';\n",
       "  var HTML_MIME_TYPE = 'text/html';\n",
       "  var EXEC_MIME_TYPE = 'application/vnd.bokehjs_exec.v0+json';\n",
       "  var CLASS_NAME = 'output_bokeh rendered_html';\n",
       "\n",
       "  /**\n",
       "   * Render data to the DOM node\n",
       "   */\n",
       "  function render(props, node) {\n",
       "    var script = document.createElement(\"script\");\n",
       "    node.appendChild(script);\n",
       "  }\n",
       "\n",
       "  /**\n",
       "   * Handle when an output is cleared or removed\n",
       "   */\n",
       "  function handleClearOutput(event, handle) {\n",
       "    var cell = handle.cell;\n",
       "\n",
       "    var id = cell.output_area._bokeh_element_id;\n",
       "    var server_id = cell.output_area._bokeh_server_id;\n",
       "    // Clean up Bokeh references\n",
       "    if (id !== undefined) {\n",
       "      Bokeh.index[id].model.document.clear();\n",
       "      delete Bokeh.index[id];\n",
       "    }\n",
       "\n",
       "    if (server_id !== undefined) {\n",
       "      // Clean up Bokeh references\n",
       "      var cmd = \"from bokeh.io.state import curstate; print(curstate().uuid_to_server['\" + server_id + \"'].get_sessions()[0].document.roots[0]._id)\";\n",
       "      cell.notebook.kernel.execute(cmd, {\n",
       "        iopub: {\n",
       "          output: function(msg) {\n",
       "            var element_id = msg.content.text.trim();\n",
       "            Bokeh.index[element_id].model.document.clear();\n",
       "            delete Bokeh.index[element_id];\n",
       "          }\n",
       "        }\n",
       "      });\n",
       "      // Destroy server and session\n",
       "      var cmd = \"import bokeh.io.notebook as ion; ion.destroy_server('\" + server_id + \"')\";\n",
       "      cell.notebook.kernel.execute(cmd);\n",
       "    }\n",
       "  }\n",
       "\n",
       "  /**\n",
       "   * Handle when a new output is added\n",
       "   */\n",
       "  function handleAddOutput(event, handle) {\n",
       "    var output_area = handle.output_area;\n",
       "    var output = handle.output;\n",
       "\n",
       "    // limit handleAddOutput to display_data with EXEC_MIME_TYPE content only\n",
       "    if ((output.output_type != \"display_data\") || (!output.data.hasOwnProperty(EXEC_MIME_TYPE))) {\n",
       "      return\n",
       "    }\n",
       "\n",
       "    var toinsert = output_area.element.find(\".\" + CLASS_NAME.split(' ')[0]);\n",
       "\n",
       "    if (output.metadata[EXEC_MIME_TYPE][\"id\"] !== undefined) {\n",
       "      toinsert[0].firstChild.textContent = output.data[JS_MIME_TYPE];\n",
       "      // store reference to embed id on output_area\n",
       "      output_area._bokeh_element_id = output.metadata[EXEC_MIME_TYPE][\"id\"];\n",
       "    }\n",
       "    if (output.metadata[EXEC_MIME_TYPE][\"server_id\"] !== undefined) {\n",
       "      var bk_div = document.createElement(\"div\");\n",
       "      bk_div.innerHTML = output.data[HTML_MIME_TYPE];\n",
       "      var script_attrs = bk_div.children[0].attributes;\n",
       "      for (var i = 0; i < script_attrs.length; i++) {\n",
       "        toinsert[0].firstChild.setAttribute(script_attrs[i].name, script_attrs[i].value);\n",
       "      }\n",
       "      // store reference to server id on output_area\n",
       "      output_area._bokeh_server_id = output.metadata[EXEC_MIME_TYPE][\"server_id\"];\n",
       "    }\n",
       "  }\n",
       "\n",
       "  function register_renderer(events, OutputArea) {\n",
       "\n",
       "    function append_mime(data, metadata, element) {\n",
       "      // create a DOM node to render to\n",
       "      var toinsert = this.create_output_subarea(\n",
       "        metadata,\n",
       "        CLASS_NAME,\n",
       "        EXEC_MIME_TYPE\n",
       "      );\n",
       "      this.keyboard_manager.register_events(toinsert);\n",
       "      // Render to node\n",
       "      var props = {data: data, metadata: metadata[EXEC_MIME_TYPE]};\n",
       "      render(props, toinsert[0]);\n",
       "      element.append(toinsert);\n",
       "      return toinsert\n",
       "    }\n",
       "\n",
       "    /* Handle when an output is cleared or removed */\n",
       "    events.on('clear_output.CodeCell', handleClearOutput);\n",
       "    events.on('delete.Cell', handleClearOutput);\n",
       "\n",
       "    /* Handle when a new output is added */\n",
       "    events.on('output_added.OutputArea', handleAddOutput);\n",
       "\n",
       "    /**\n",
       "     * Register the mime type and append_mime function with output_area\n",
       "     */\n",
       "    OutputArea.prototype.register_mime_type(EXEC_MIME_TYPE, append_mime, {\n",
       "      /* Is output safe? */\n",
       "      safe: true,\n",
       "      /* Index of renderer in `output_area.display_order` */\n",
       "      index: 0\n",
       "    });\n",
       "  }\n",
       "\n",
       "  // register the mime type if in Jupyter Notebook environment and previously unregistered\n",
       "  if (root.Jupyter !== undefined) {\n",
       "    var events = require('base/js/events');\n",
       "    var OutputArea = require('notebook/js/outputarea').OutputArea;\n",
       "\n",
       "    if (OutputArea.prototype.mime_types().indexOf(EXEC_MIME_TYPE) == -1) {\n",
       "      register_renderer(events, OutputArea);\n",
       "    }\n",
       "  }\n",
       "\n",
       "  \n",
       "  if (typeof (root._bokeh_timeout) === \"undefined\" || force === true) {\n",
       "    root._bokeh_timeout = Date.now() + 5000;\n",
       "    root._bokeh_failed_load = false;\n",
       "  }\n",
       "\n",
       "  var NB_LOAD_WARNING = {'data': {'text/html':\n",
       "     \"<div style='background-color: #fdd'>\\n\"+\n",
       "     \"<p>\\n\"+\n",
       "     \"BokehJS does not appear to have successfully loaded. If loading BokehJS from CDN, this \\n\"+\n",
       "     \"may be due to a slow or bad network connection. Possible fixes:\\n\"+\n",
       "     \"</p>\\n\"+\n",
       "     \"<ul>\\n\"+\n",
       "     \"<li>re-rerun `output_notebook()` to attempt to load from CDN again, or</li>\\n\"+\n",
       "     \"<li>use INLINE resources instead, as so:</li>\\n\"+\n",
       "     \"</ul>\\n\"+\n",
       "     \"<code>\\n\"+\n",
       "     \"from bokeh.resources import INLINE\\n\"+\n",
       "     \"output_notebook(resources=INLINE)\\n\"+\n",
       "     \"</code>\\n\"+\n",
       "     \"</div>\"}};\n",
       "\n",
       "  function display_loaded() {\n",
       "    var el = document.getElementById(\"88017c31-530a-497f-94cc-cc1f0931296d\");\n",
       "    if (el != null) {\n",
       "      el.textContent = \"BokehJS is loading...\";\n",
       "    }\n",
       "    if (root.Bokeh !== undefined) {\n",
       "      if (el != null) {\n",
       "        el.textContent = \"BokehJS \" + root.Bokeh.version + \" successfully loaded.\";\n",
       "      }\n",
       "    } else if (Date.now() < root._bokeh_timeout) {\n",
       "      setTimeout(display_loaded, 100)\n",
       "    }\n",
       "  }\n",
       "\n",
       "\n",
       "  function run_callbacks() {\n",
       "    try {\n",
       "      root._bokeh_onload_callbacks.forEach(function(callback) { callback() });\n",
       "    }\n",
       "    finally {\n",
       "      delete root._bokeh_onload_callbacks\n",
       "    }\n",
       "    console.info(\"Bokeh: all callbacks have finished\");\n",
       "  }\n",
       "\n",
       "  function load_libs(js_urls, callback) {\n",
       "    root._bokeh_onload_callbacks.push(callback);\n",
       "    if (root._bokeh_is_loading > 0) {\n",
       "      console.log(\"Bokeh: BokehJS is being loaded, scheduling callback at\", now());\n",
       "      return null;\n",
       "    }\n",
       "    if (js_urls == null || js_urls.length === 0) {\n",
       "      run_callbacks();\n",
       "      return null;\n",
       "    }\n",
       "    console.log(\"Bokeh: BokehJS not loaded, scheduling load and callback at\", now());\n",
       "    root._bokeh_is_loading = js_urls.length;\n",
       "    for (var i = 0; i < js_urls.length; i++) {\n",
       "      var url = js_urls[i];\n",
       "      var s = document.createElement('script');\n",
       "      s.src = url;\n",
       "      s.async = false;\n",
       "      s.onreadystatechange = s.onload = function() {\n",
       "        root._bokeh_is_loading--;\n",
       "        if (root._bokeh_is_loading === 0) {\n",
       "          console.log(\"Bokeh: all BokehJS libraries loaded\");\n",
       "          run_callbacks()\n",
       "        }\n",
       "      };\n",
       "      s.onerror = function() {\n",
       "        console.warn(\"failed to load library \" + url);\n",
       "      };\n",
       "      console.log(\"Bokeh: injecting script tag for BokehJS library: \", url);\n",
       "      document.getElementsByTagName(\"head\")[0].appendChild(s);\n",
       "    }\n",
       "  };var element = document.getElementById(\"88017c31-530a-497f-94cc-cc1f0931296d\");\n",
       "  if (element == null) {\n",
       "    console.log(\"Bokeh: ERROR: autoload.js configured with elementid '88017c31-530a-497f-94cc-cc1f0931296d' but no matching script tag was found. \")\n",
       "    return false;\n",
       "  }\n",
       "\n",
       "  var js_urls = [\"https://cdn.pydata.org/bokeh/release/bokeh-0.12.14.min.js\", \"https://cdn.pydata.org/bokeh/release/bokeh-widgets-0.12.14.min.js\", \"https://cdn.pydata.org/bokeh/release/bokeh-tables-0.12.14.min.js\", \"https://cdn.pydata.org/bokeh/release/bokeh-gl-0.12.14.min.js\"];\n",
       "\n",
       "  var inline_js = [\n",
       "    function(Bokeh) {\n",
       "      Bokeh.set_log_level(\"info\");\n",
       "    },\n",
       "    \n",
       "    function(Bokeh) {\n",
       "      \n",
       "    },\n",
       "    function(Bokeh) {\n",
       "      console.log(\"Bokeh: injecting CSS: https://cdn.pydata.org/bokeh/release/bokeh-0.12.14.min.css\");\n",
       "      Bokeh.embed.inject_css(\"https://cdn.pydata.org/bokeh/release/bokeh-0.12.14.min.css\");\n",
       "      console.log(\"Bokeh: injecting CSS: https://cdn.pydata.org/bokeh/release/bokeh-widgets-0.12.14.min.css\");\n",
       "      Bokeh.embed.inject_css(\"https://cdn.pydata.org/bokeh/release/bokeh-widgets-0.12.14.min.css\");\n",
       "      console.log(\"Bokeh: injecting CSS: https://cdn.pydata.org/bokeh/release/bokeh-tables-0.12.14.min.css\");\n",
       "      Bokeh.embed.inject_css(\"https://cdn.pydata.org/bokeh/release/bokeh-tables-0.12.14.min.css\");\n",
       "    }\n",
       "  ];\n",
       "\n",
       "  function run_inline_js() {\n",
       "    \n",
       "    if ((root.Bokeh !== undefined) || (force === true)) {\n",
       "      for (var i = 0; i < inline_js.length; i++) {\n",
       "        inline_js[i].call(root, root.Bokeh);\n",
       "      }if (force === true) {\n",
       "        display_loaded();\n",
       "      }} else if (Date.now() < root._bokeh_timeout) {\n",
       "      setTimeout(run_inline_js, 100);\n",
       "    } else if (!root._bokeh_failed_load) {\n",
       "      console.log(\"Bokeh: BokehJS failed to load within specified timeout.\");\n",
       "      root._bokeh_failed_load = true;\n",
       "    } else if (force !== true) {\n",
       "      var cell = $(document.getElementById(\"88017c31-530a-497f-94cc-cc1f0931296d\")).parents('.cell').data().cell;\n",
       "      cell.output_area.append_execute_result(NB_LOAD_WARNING)\n",
       "    }\n",
       "\n",
       "  }\n",
       "\n",
       "  if (root._bokeh_is_loading === 0) {\n",
       "    console.log(\"Bokeh: BokehJS loaded, going straight to plotting\");\n",
       "    run_inline_js();\n",
       "  } else {\n",
       "    load_libs(js_urls, function() {\n",
       "      console.log(\"Bokeh: BokehJS plotting callback run at\", now());\n",
       "      run_inline_js();\n",
       "    });\n",
       "  }\n",
       "}(window));"
      ],
      "application/vnd.bokehjs_load.v0+json": "\n(function(root) {\n  function now() {\n    return new Date();\n  }\n\n  var force = true;\n\n  if (typeof (root._bokeh_onload_callbacks) === \"undefined\" || force === true) {\n    root._bokeh_onload_callbacks = [];\n    root._bokeh_is_loading = undefined;\n  }\n\n  \n\n  \n  if (typeof (root._bokeh_timeout) === \"undefined\" || force === true) {\n    root._bokeh_timeout = Date.now() + 5000;\n    root._bokeh_failed_load = false;\n  }\n\n  var NB_LOAD_WARNING = {'data': {'text/html':\n     \"<div style='background-color: #fdd'>\\n\"+\n     \"<p>\\n\"+\n     \"BokehJS does not appear to have successfully loaded. If loading BokehJS from CDN, this \\n\"+\n     \"may be due to a slow or bad network connection. Possible fixes:\\n\"+\n     \"</p>\\n\"+\n     \"<ul>\\n\"+\n     \"<li>re-rerun `output_notebook()` to attempt to load from CDN again, or</li>\\n\"+\n     \"<li>use INLINE resources instead, as so:</li>\\n\"+\n     \"</ul>\\n\"+\n     \"<code>\\n\"+\n     \"from bokeh.resources import INLINE\\n\"+\n     \"output_notebook(resources=INLINE)\\n\"+\n     \"</code>\\n\"+\n     \"</div>\"}};\n\n  function display_loaded() {\n    var el = document.getElementById(\"88017c31-530a-497f-94cc-cc1f0931296d\");\n    if (el != null) {\n      el.textContent = \"BokehJS is loading...\";\n    }\n    if (root.Bokeh !== undefined) {\n      if (el != null) {\n        el.textContent = \"BokehJS \" + root.Bokeh.version + \" successfully loaded.\";\n      }\n    } else if (Date.now() < root._bokeh_timeout) {\n      setTimeout(display_loaded, 100)\n    }\n  }\n\n\n  function run_callbacks() {\n    try {\n      root._bokeh_onload_callbacks.forEach(function(callback) { callback() });\n    }\n    finally {\n      delete root._bokeh_onload_callbacks\n    }\n    console.info(\"Bokeh: all callbacks have finished\");\n  }\n\n  function load_libs(js_urls, callback) {\n    root._bokeh_onload_callbacks.push(callback);\n    if (root._bokeh_is_loading > 0) {\n      console.log(\"Bokeh: BokehJS is being loaded, scheduling callback at\", now());\n      return null;\n    }\n    if (js_urls == null || js_urls.length === 0) {\n      run_callbacks();\n      return null;\n    }\n    console.log(\"Bokeh: BokehJS not loaded, scheduling load and callback at\", now());\n    root._bokeh_is_loading = js_urls.length;\n    for (var i = 0; i < js_urls.length; i++) {\n      var url = js_urls[i];\n      var s = document.createElement('script');\n      s.src = url;\n      s.async = false;\n      s.onreadystatechange = s.onload = function() {\n        root._bokeh_is_loading--;\n        if (root._bokeh_is_loading === 0) {\n          console.log(\"Bokeh: all BokehJS libraries loaded\");\n          run_callbacks()\n        }\n      };\n      s.onerror = function() {\n        console.warn(\"failed to load library \" + url);\n      };\n      console.log(\"Bokeh: injecting script tag for BokehJS library: \", url);\n      document.getElementsByTagName(\"head\")[0].appendChild(s);\n    }\n  };var element = document.getElementById(\"88017c31-530a-497f-94cc-cc1f0931296d\");\n  if (element == null) {\n    console.log(\"Bokeh: ERROR: autoload.js configured with elementid '88017c31-530a-497f-94cc-cc1f0931296d' but no matching script tag was found. \")\n    return false;\n  }\n\n  var js_urls = [\"https://cdn.pydata.org/bokeh/release/bokeh-0.12.14.min.js\", \"https://cdn.pydata.org/bokeh/release/bokeh-widgets-0.12.14.min.js\", \"https://cdn.pydata.org/bokeh/release/bokeh-tables-0.12.14.min.js\", \"https://cdn.pydata.org/bokeh/release/bokeh-gl-0.12.14.min.js\"];\n\n  var inline_js = [\n    function(Bokeh) {\n      Bokeh.set_log_level(\"info\");\n    },\n    \n    function(Bokeh) {\n      \n    },\n    function(Bokeh) {\n      console.log(\"Bokeh: injecting CSS: https://cdn.pydata.org/bokeh/release/bokeh-0.12.14.min.css\");\n      Bokeh.embed.inject_css(\"https://cdn.pydata.org/bokeh/release/bokeh-0.12.14.min.css\");\n      console.log(\"Bokeh: injecting CSS: https://cdn.pydata.org/bokeh/release/bokeh-widgets-0.12.14.min.css\");\n      Bokeh.embed.inject_css(\"https://cdn.pydata.org/bokeh/release/bokeh-widgets-0.12.14.min.css\");\n      console.log(\"Bokeh: injecting CSS: https://cdn.pydata.org/bokeh/release/bokeh-tables-0.12.14.min.css\");\n      Bokeh.embed.inject_css(\"https://cdn.pydata.org/bokeh/release/bokeh-tables-0.12.14.min.css\");\n    }\n  ];\n\n  function run_inline_js() {\n    \n    if ((root.Bokeh !== undefined) || (force === true)) {\n      for (var i = 0; i < inline_js.length; i++) {\n        inline_js[i].call(root, root.Bokeh);\n      }if (force === true) {\n        display_loaded();\n      }} else if (Date.now() < root._bokeh_timeout) {\n      setTimeout(run_inline_js, 100);\n    } else if (!root._bokeh_failed_load) {\n      console.log(\"Bokeh: BokehJS failed to load within specified timeout.\");\n      root._bokeh_failed_load = true;\n    } else if (force !== true) {\n      var cell = $(document.getElementById(\"88017c31-530a-497f-94cc-cc1f0931296d\")).parents('.cell').data().cell;\n      cell.output_area.append_execute_result(NB_LOAD_WARNING)\n    }\n\n  }\n\n  if (root._bokeh_is_loading === 0) {\n    console.log(\"Bokeh: BokehJS loaded, going straight to plotting\");\n    run_inline_js();\n  } else {\n    load_libs(js_urls, function() {\n      console.log(\"Bokeh: BokehJS plotting callback run at\", now());\n      run_inline_js();\n    });\n  }\n}(window));"
     },
     "metadata": {},
     "output_type": "display_data"
    }
   ],
   "source": [
    "output_notebook()"
   ]
  },
  {
   "cell_type": "code",
   "execution_count": 8,
   "metadata": {
    "collapsed": true
   },
   "outputs": [],
   "source": [
    "def fmt_cool(ds_in):\n",
    "    ds = ds_in.copy(deep=True)\n",
    "    if 'igg' in ds.dims:\n",
    "        ds = ds.sel(igg=1)\n",
    "\n",
    "    if 'g' in ds.dims:\n",
    "        ds = ds.sum('g')\n",
    "            \n",
    "    if 'band' in ds.dims:\n",
    "        try:\n",
    "            ds = ds.squeeze('band')\n",
    "        except ValueError:\n",
    "            ds = ds.sum('band')\n",
    "                \n",
    "    return ds['coolrg']\n",
    "\n",
    "\n",
    "def pltdata_cooling_1(ds_cool=None,\n",
    "                      ds_cool_crd=None, ds_cool_wgt=None):\n",
    "    \n",
    "\n",
    "\n",
    "    colors = all_palettes['Set1'][4]\n",
    "    data = [{'label': 'CLIRAD `coolr_bands`',\n",
    "             'srs': fmt_cool(ds_cool),\n",
    "             'line_dash': 'dashed', 'line_width': 5,\n",
    "             'color': colors[0], 'alpha': .6},\n",
    "            {'label': 'CRD',\n",
    "             'srs': fmt_cool(ds_cool_crd),\n",
    "             'line_dash': 'solid', 'line_width': 1.5,\n",
    "             'marker': 'circle', 'marker_size': 5,\n",
    "             'color': colors[2], 'alpha': 1,},\n",
    "            {'label': 'WGT igg=10 wgt_flux=2',\n",
    "             'srs': fmt_cool(ds_cool_wgt),\n",
    "             'line_dash': 'solid', 'line_width': 3,\n",
    "             'marker': 'square', 'marker_size': 5,\n",
    "             'color': colors[3], 'alpha': .6}]\n",
    "    return data\n",
    "\n",
    "\n",
    "def nice_xlims(pltdata=None, prange=None):\n",
    "    \n",
    "    def get_slice(srs):\n",
    "        return srs.sel(pressure=slice(*prange))\n",
    "    \n",
    "    srss = [d['srs'] for d in pltdata]\n",
    "    vmin = min([get_slice(srs).min() for srs in srss])\n",
    "    vmax = max([get_slice(srs).max() for srs in srss])\n",
    "    dv = (vmax - vmin) * .01\n",
    "    return float(vmin - dv), float(vmax + dv)\n",
    "    \n",
    "\n",
    "def plt_cooling_bokeh(pltdata=None):\n",
    "    '''\n",
    "    Plot a list of cooling rate profiles using bokeh.\n",
    "    '''\n",
    "    ymin = 1e-2 \n",
    "    ymax = 1020 \n",
    "        \n",
    "    p1 = figure(title=\"Linear pressure scale\", \n",
    "                plot_width=400)        \n",
    "    xmin, xmax = nice_xlims(pltdata, prange=(50, 1050))\n",
    "    for d in pltdata:\n",
    "        if 'marker' in d:\n",
    "            getattr(p1, d['marker'])(d['srs'].values, \n",
    "                    d['srs'].coords['pressure'].values,\n",
    "                    color=d['color'], alpha=.7)\n",
    "        p1.line(d['srs'].values, \n",
    "                d['srs'].coords['pressure'].values,\n",
    "                color=d['color'], alpha=d['alpha'], \n",
    "                line_width=d['line_width'], line_dash=d['line_dash'])\n",
    "    \n",
    "    p1.y_range = Range1d(ymax, ymin)\n",
    "    p1.yaxis.axis_label = 'pressure [mb]'   \n",
    "    p1.x_range = Range1d(xmin, xmax)\n",
    "    p1.xaxis.axis_label = 'cooling rate [K/day]'\n",
    "            \n",
    "    p2 = figure(title='Log pressure scale', y_axis_type='log',\n",
    "                plot_width=560)\n",
    "    xmin, xmax = nice_xlims(pltdata, prange=(.01, 200))\n",
    "    \n",
    "    rs = []\n",
    "    for d in pltdata:\n",
    "        rd = []\n",
    "        if 'marker' in d:\n",
    "            r_mark = getattr(p2, d['marker'])(d['srs'].values, \n",
    "                        d['srs'].coords['pressure'].values,\n",
    "                        color=d['color'], alpha=.7)\n",
    "            rd.append(r_mark)\n",
    "        r_line = p2.line(d['srs'].values, \n",
    "                    d['srs'].coords['pressure'].values,\n",
    "                    color=d['color'], alpha=d['alpha'], \n",
    "                    line_width=d['line_width'], line_dash=d['line_dash'])\n",
    "        rd.append(r_line)\n",
    "      \n",
    "        rs.append(rd)\n",
    "        \n",
    "    p2.y_range = Range1d(ymax, ymin)  \n",
    "    p2.yaxis.axis_label = 'pressure [mb]'\n",
    "    \n",
    "    p2.x_range = Range1d(xmin, xmax)\n",
    "    p2.xaxis.axis_label = 'cooling rate [K/day]'\n",
    "    \n",
    "    items = [(d['label'], r) for r, d in zip(rs, pltdata)]\n",
    "    legend = Legend(items=items, location=(10, -30))\n",
    "    legend.label_text_font_size = '8pt'\n",
    "    \n",
    "    p2.add_layout(legend, 'right')  \n",
    "    \n",
    "    show(gridplot(p1, p2, ncols=2, plot_height=500))\n",
    "    \n",
    "\n",
    "def script_plt_cooling():\n",
    "    pltdata = pltdata_cooling_1(\n",
    "        ds_cool=DS_COOL,\n",
    "        ds_cool_crd=DS_COOL_CRD,\n",
    "        ds_cool_wgt=DS_COOL_WGT)\n",
    "    plt_cooling_bokeh(pltdata=pltdata)\n",
    "    print('''FIGURE. Cooling rate profiles.''')"
   ]
  },
  {
   "cell_type": "code",
   "execution_count": 9,
   "metadata": {
    "collapsed": true
   },
   "outputs": [],
   "source": [
    "def fmt_flux(ds_in):\n",
    "    ds = ds_in.copy(deep=True)\n",
    "    \n",
    "    for l in ('level', 'layer'):\n",
    "        if l in ds.data_vars:\n",
    "            if len(ds[l].dims) > 1:\n",
    "                surface = {d: 0 for d in ds.dims if d != 'pressure'}\n",
    "                coord_level = ds[l][surface]\n",
    "                ds.coords[l] = ('pressure', coord_level)\n",
    "            else:\n",
    "                ds.coords[l] = ('pressure', ds[l])\n",
    "        \n",
    "    ds = ds.isel(pressure=[0, 23, -1])\n",
    "        \n",
    "    if 'igg' in ds.dims:\n",
    "        ds = ds.sel(igg=[1])\n",
    "        ds = ds.squeeze('igg').drop('igg')\n",
    "    \n",
    "    if 'g' in ds.dims:\n",
    "        ds = ds.sum('g')\n",
    "            \n",
    "    if 'band' in ds.dims:\n",
    "        try:\n",
    "            ds = ds.squeeze('band').drop('band')\n",
    "        except ValueError:\n",
    "            ds = ds.sum('band')\n",
    "                \n",
    "    df = ds.to_dataframe()\n",
    "    df = df.set_index('level', append=True)               \n",
    "    return df\n",
    "\n",
    "\n",
    "def tbdata_flux(ds_flux=None, ds_flux_crd=None, ds_flux_wgt=None):\n",
    "    ilevels = [0, 23, -1]\n",
    "            \n",
    "    benchmark = {'label': 'WGT igg=10 wgt_flux=1',\n",
    "                 'df': fmt_flux(ds_flux_wgt)}\n",
    "    \n",
    "    tbs = [{'label': 'CRD',\n",
    "            'df': fmt_flux(ds_flux_crd)},\n",
    "           {'label': 'CLIRAD',\n",
    "            'df': fmt_flux(ds_flux)}]\n",
    "    \n",
    "    data = {'benchmark': benchmark, 'others': tbs}\n",
    "    return data\n",
    "\n",
    "\n",
    "def tb_flux(tbdata=None):\n",
    "    benchmark = tbdata['benchmark']\n",
    "    others = tbdata['others']\n",
    "    \n",
    "    def show_tb(d=None):\n",
    "        display.display(d['df'])\n",
    "        print('Table.', 'Fluxes.', d['label'])\n",
    "        \n",
    "    def show_tbdiff(d0=None, d=None):\n",
    "        df = d['df']\n",
    "        df.index = d0['df'].index\n",
    "        display.display(df - d0['df'])\n",
    "        print('Table.', 'Fluxes.', \n",
    "              '({}) - ({})'.format(d['label'], d0['label']))\n",
    "        \n",
    "    show_tb(benchmark)\n",
    "    for d in others:\n",
    "        show_tb(d)\n",
    "        \n",
    "    for d in others:\n",
    "        show_tbdiff(d=d, d0=benchmark)\n",
    "        \n",
    "        \n",
    "def script_tb_flux():\n",
    "    data = tbdata_flux(ds_flux=DS_FLUX,\n",
    "                       ds_flux_crd=DS_FLUX_CRD,\n",
    "                       ds_flux_wgt=DS_FLUX_WGT)\n",
    "    tb_flux(tbdata=data)"
   ]
  },
  {
   "cell_type": "code",
   "execution_count": 10,
   "metadata": {
    "collapsed": true
   },
   "outputs": [],
   "source": [
    "def band_map():\n",
    "    '''\n",
    "    Maps spectral bands in lblnew to spectral bands in clirad.\n",
    "    '''\n",
    "    lblnew2clirad = {'1': '1',\n",
    "            '2': '2',\n",
    "            '3a': '3',\n",
    "            '3b': '4',\n",
    "            '3c': '5',\n",
    "            '4': '6', \n",
    "            '5': '7',\n",
    "            '6': '8',\n",
    "            '7': '9', \n",
    "            '8': '10',\n",
    "            '9': '11'}\n",
    "    \n",
    "    clirad2lblnew = {clirad: lblnew \n",
    "                     for lblnew, clirad in lblnew2clirad.items()}\n",
    "    return clirad2lblnew\n",
    "\n",
    "\n",
    "def gasbands():\n",
    "    bmap = band_map()\n",
    "    gases = list(PARAM['molecule'].keys())\n",
    "    \n",
    "    bands = [bmap[str(b)] for b in PARAM['band']]\n",
    "    return list(itertools.product(gases, bands))\n",
    "\n",
    "\n",
    "def print_bestfit_params():\n",
    "    print('Best-fit values for each (gas, band)')\n",
    "    print('------------------------------------')\n",
    "    for gas, band in gasbands():\n",
    "        print('o {} band{}'.format(gas, band))\n",
    "        param = bestfits.kdist_params(molecule=gas, band=band)\n",
    "        for name, value in sorted(param.items()):\n",
    "            print(2 * ' ' + '{} = {}'.format(name, value))\n",
    "\n",
    "        \n",
    "def print_input_param():        \n",
    "    for name, value in PARAM.items():\n",
    "        print('{} = {}'.format(name, value))\n",
    "        \n",
    "        \n",
    "def print_lblnew_param():\n",
    "    for name, value in sorted(PARAM_LBLNEW.items()):\n",
    "        print('{} = {}'.format(name, value))\n"
   ]
  },
  {
   "cell_type": "code",
   "execution_count": 11,
   "metadata": {
    "collapsed": true,
    "scrolled": false
   },
   "outputs": [],
   "source": [
    "def show_html(s):\n",
    "    display.display(display.HTML(s))\n",
    "\n",
    "    \n",
    "def show_markdown(s):\n",
    "    display.display(display.Markdown(s))\n",
    "\n",
    "    \n",
    "def script():\n",
    "    \n",
    "    title = '### CLIRAD-LW'\n",
    "    s_input = 'Input Parameters'\n",
    "    s_lblnew_param = 'LBLNEW case compaired against'\n",
    "    s_bestfits = 'Best-fit Parameters'\n",
    "    s_plt_cooling = 'Cooling Rate Profiles'\n",
    "    s_tb_flux = 'Flux Comparison'\n",
    "    \n",
    "    # title\n",
    "    show_markdown('### CLIRAD-LW')\n",
    "    \n",
    "    # TOC\n",
    "    show_markdown('### Table of Contents')\n",
    "    show_html(climahtml.getHTML_hrefanchor(s_input))\n",
    "    show_html(climahtml.getHTML_hrefanchor(s_lblnew_param))\n",
    "    show_html(climahtml.getHTML_hrefanchor(s_plt_cooling))\n",
    "    show_html(climahtml.getHTML_hrefanchor(s_tb_flux))\n",
    "    show_html(climahtml.getHTML_hrefanchor(s_bestfits))\n",
    "    \n",
    "    # Input parameters\n",
    "    show_html(climahtml.getHTML_idanchor(s_input))\n",
    "    show_markdown(climahtml.getMarkdown_sectitle(s_input))\n",
    "    print_input_param()\n",
    "    \n",
    "    # LBLNEW parameters \n",
    "    show_html(climahtml.getHTML_idanchor(s_lblnew_param))\n",
    "    show_markdown(climahtml.getMarkdown_sectitle(s_lblnew_param))\n",
    "    print_lblnew_param()\n",
    "    \n",
    "    # Cooling rate profiles\n",
    "    show_html(climahtml.getHTML_idanchor(s_plt_cooling))\n",
    "    show_markdown(climahtml.getMarkdown_sectitle(s_plt_cooling))\n",
    "    script_plt_cooling()\n",
    "    \n",
    "    # Flux comparison\n",
    "    show_html(climahtml.getHTML_idanchor(s_tb_flux))\n",
    "    show_markdown(climahtml.getMarkdown_sectitle(s_tb_flux))\n",
    "    script_tb_flux()\n",
    "    \n",
    "    # Best-fit values\n",
    "    show_html(climahtml.getHTML_idanchor(s_bestfits))\n",
    "    show_markdown(climahtml.getMarkdown_sectitle(s_bestfits))\n",
    "    print_bestfit_params()\n",
    "   \n",
    "    "
   ]
  },
  {
   "cell_type": "code",
   "execution_count": 12,
   "metadata": {
    "collapsed": true,
    "scrolled": false
   },
   "outputs": [
    {
     "data": {
      "text/markdown": [
       "### CLIRAD-LW"
      ],
      "text/plain": [
       "<IPython.core.display.Markdown object>"
      ]
     },
     "metadata": {},
     "output_type": "display_data"
    },
    {
     "data": {
      "text/markdown": [
       "### Table of Contents"
      ],
      "text/plain": [
       "<IPython.core.display.Markdown object>"
      ]
     },
     "metadata": {},
     "output_type": "display_data"
    },
    {
     "data": {
      "text/html": [
       "<a href=\"#Input_Parameters\">Input Parameters</a>"
      ],
      "text/plain": [
       "<IPython.core.display.HTML object>"
      ]
     },
     "metadata": {},
     "output_type": "display_data"
    },
    {
     "data": {
      "text/html": [
       "<a href=\"#LBLNEW_case_compaired_against\">LBLNEW case compaired against</a>"
      ],
      "text/plain": [
       "<IPython.core.display.HTML object>"
      ]
     },
     "metadata": {},
     "output_type": "display_data"
    },
    {
     "data": {
      "text/html": [
       "<a href=\"#Cooling_Rate_Profiles\">Cooling Rate Profiles</a>"
      ],
      "text/plain": [
       "<IPython.core.display.HTML object>"
      ]
     },
     "metadata": {},
     "output_type": "display_data"
    },
    {
     "data": {
      "text/html": [
       "<a href=\"#Flux_Comparison\">Flux Comparison</a>"
      ],
      "text/plain": [
       "<IPython.core.display.HTML object>"
      ]
     },
     "metadata": {},
     "output_type": "display_data"
    },
    {
     "data": {
      "text/html": [
       "<a href=\"#Best-fit_Parameters\">Best-fit Parameters</a>"
      ],
      "text/plain": [
       "<IPython.core.display.HTML object>"
      ]
     },
     "metadata": {},
     "output_type": "display_data"
    },
    {
     "data": {
      "text/html": [
       "<a id=\"Input_Parameters\"></a>"
      ],
      "text/plain": [
       "<IPython.core.display.HTML object>"
      ]
     },
     "metadata": {},
     "output_type": "display_data"
    },
    {
     "data": {
      "text/markdown": [
       "# Input Parameters"
      ],
      "text/plain": [
       "<IPython.core.display.Markdown object>"
      ]
     },
     "metadata": {},
     "output_type": "display_data"
    },
    {
     "name": "stdout",
     "output_type": "stream",
     "text": [
      "atmpro = trp\n",
      "band = [3]\n",
      "commitnumber = 7fe1447\n",
      "molecule = {'n2o': 3.2e-07}\n",
      "tsfc = 300\n"
     ]
    },
    {
     "data": {
      "text/html": [
       "<a id=\"LBLNEW_case_compaired_against\"></a>"
      ],
      "text/plain": [
       "<IPython.core.display.HTML object>"
      ]
     },
     "metadata": {},
     "output_type": "display_data"
    },
    {
     "data": {
      "text/markdown": [
       "# LBLNEW case compaired against"
      ],
      "text/plain": [
       "<IPython.core.display.Markdown object>"
      ]
     },
     "metadata": {},
     "output_type": "display_data"
    },
    {
     "name": "stdout",
     "output_type": "stream",
     "text": [
      "atmpro = trp\n",
      "band = 3a\n",
      "commitnumber = a06b618\n",
      "conc = 3.2e-07\n",
      "dv = 0.001\n",
      "klin = 2.22e-20\n",
      "molecule = n2o\n",
      "ng_adju = [0, 0]\n",
      "ng_refs = [1, 2]\n",
      "nv = 1000\n",
      "option_compute_btable = 0\n",
      "option_compute_ktable = 0\n",
      "option_wgt_flux = 1\n",
      "option_wgt_k = 1\n",
      "ref_pts = [(1, 250), (500, 250)]\n",
      "tsfc = 300\n",
      "vmax = 620\n",
      "vmin = 540\n",
      "w_diffuse = [(1.8,), (1.66, 1.8)]\n",
      "wgt = [(0.9,), (0.5, 0.95)]\n"
     ]
    },
    {
     "data": {
      "text/html": [
       "<a id=\"Cooling_Rate_Profiles\"></a>"
      ],
      "text/plain": [
       "<IPython.core.display.HTML object>"
      ]
     },
     "metadata": {},
     "output_type": "display_data"
    },
    {
     "data": {
      "text/markdown": [
       "# Cooling Rate Profiles"
      ],
      "text/plain": [
       "<IPython.core.display.Markdown object>"
      ]
     },
     "metadata": {},
     "output_type": "display_data"
    },
    {
     "data": {
      "text/html": [
       "\n",
       "<div class=\"bk-root\">\n",
       "    <div class=\"bk-plotdiv\" id=\"32c4a0ad-1093-4466-8abf-a6e239c31fc7\"></div>\n",
       "</div>"
      ]
     },
     "metadata": {},
     "output_type": "display_data"
    },
    {
     "data": {
      "application/javascript": [
       "(function(root) {\n",
       "  function embed_document(root) {\n",
       "    \n",
       "  var docs_json = {\"98ff099c-b8dd-4082-9d73-351882b3ed02\":{\"roots\":{\"references\":[{\"attributes\":{},\"id\":\"fc609c73-bb6e-4142-ae7b-ab5901a6869e\",\"type\":\"BasicTickFormatter\"},{\"attributes\":{\"line_color\":\"#4daf4a\",\"line_width\":1.5,\"x\":{\"field\":\"x\"},\"y\":{\"field\":\"y\"}},\"id\":\"fdbcf3df-b17f-4460-86b1-f6d9eaef925e\",\"type\":\"Line\"},{\"attributes\":{\"dimension\":1,\"plot\":{\"id\":\"51214437-c145-4661-855c-e2fdd104efcf\",\"subtype\":\"Figure\",\"type\":\"Plot\"},\"ticker\":{\"id\":\"fb9a65a3-206e-4793-ae5e-a51aaaa45255\",\"type\":\"LogTicker\"}},\"id\":\"fdeb1059-fbcd-410d-b31f-60bbdd00bcad\",\"type\":\"Grid\"},{\"attributes\":{\"line_alpha\":0.1,\"line_color\":\"#1f77b4\",\"line_dash\":[6],\"line_width\":5,\"x\":{\"field\":\"x\"},\"y\":{\"field\":\"y\"}},\"id\":\"5cfc25fc-4c5d-4f7e-b6f5-d131a08797bb\",\"type\":\"Line\"},{\"attributes\":{\"plot\":{\"id\":\"5d0ffa68-25ee-466b-bc3b-b7ca262d1b35\",\"subtype\":\"Figure\",\"type\":\"Plot\"},\"ticker\":{\"id\":\"c92fc9cf-ab93-48fe-8acc-c1676c98f8b4\",\"type\":\"BasicTicker\"}},\"id\":\"10af3580-3377-41aa-b24e-41869145f137\",\"type\":\"Grid\"},{\"attributes\":{\"bottom_units\":\"screen\",\"fill_alpha\":{\"value\":0.5},\"fill_color\":{\"value\":\"lightgrey\"},\"left_units\":\"screen\",\"level\":\"overlay\",\"line_alpha\":{\"value\":1.0},\"line_color\":{\"value\":\"black\"},\"line_dash\":[4,4],\"line_width\":{\"value\":2},\"plot\":null,\"render_mode\":\"css\",\"right_units\":\"screen\",\"top_units\":\"screen\"},\"id\":\"5b3961ee-4c42-4b74-943b-0fbcbbc65ed3\",\"type\":\"BoxAnnotation\"},{\"attributes\":{},\"id\":\"73ab3ef3-5c32-46ec-849d-b3fb4c2e8abc\",\"type\":\"LinearScale\"},{\"attributes\":{\"callback\":null,\"column_names\":[\"x\",\"y\"],\"data\":{\"x\":{\"__ndarray__\":\"2UPIZxxkXj+vvg1zesVgPzNU6dFSBWQ/xHCWV8xWZz+TWVu+V7BqPyQ6ms4GDG4/VDAfEnu2cD9NPqXi+WdyPyATu8JzGXQ/lUKe8f3MdT9yrJCUIml3PyjOltII9Hg/KN15TrFkej+GgT2WXTh8Pyxuccd67oE/gnq06tMnij+v2k6+TT2SPzv+BktHyZc/YItNk2i1nT8/BY2HYQGiP1ZnmWvvWKU/nNMTM06FqD8bToe4s1upP4iH3H6MyKc/fpWVic9bpT9tm76r2VuiP6l2pP+H6Z4/bDyM1HG4mT8qntvNURyVP4JvRD6C95A/yoPbd5g4ij/Zq2/nGbeCP1ZJAhrOOHY/lV/hwMZeWD9l4u+CvOpuvyoxwB8tt4S/vvonobzbjb9hYZ03CTaOv5lcox3rbYm/zhDsyvckhb8BoIVi/S+Bv0lg6mVf63q/egOU0qjKc78rPpZrPuhpvzRzNz5JcFm/+Ws1/Gu42D7DHJM1CeZYP554pypIhmg/ZCWsZaAmcj8sQs1qY+d3P2A0Fa1WiX0/meDJJ9qHgT/AmRBiiz6EP45kFYoC6oY/G/R/8JyLiT+zRpNEXCSMP2GF2r18tY4/9cts/+afkD8dCs/mmeCRP2YzkRaKG5M//rtSV71KlD9Et/mnnV+VP2pkQ3ZfR5Y/JorhAZ39lj9GEj4NeJaXP/+ZilIXMJg/qaq06/zgmD+r56T3ja+ZPye0f3pAlJo/RA/sYBOFmz/IqFsL7XucP8aNYIWJdp0/rNYGSrFznj8+snKVEnWfP6PrX+USP6A/\",\"dtype\":\"float64\",\"shape\":[75]},\"y\":{\"__ndarray__\":\"GhExyth1ND/Sv8nbtpRIP2vylNV0PVE/aTum7souWD/At0SJ8fVgPw3Iuahxymc/MSNhhJWvcD/bTfBN02d3P2zb5nxnaoA/CD5h5MAGhz8NmeH1TyaQP+zrCsc9p5Y/LbKd76fGnz/bLW5ISEmmPww9YvTcQq8/JV2OstnstT8Er5Y7M8G+P0c+r3jqkcU/5h99k6ZBzj88bCIzFzjVP4enV8oyxN0//yH99nXg5D8qOpLLf0jtP5kqGJXUifQ/c9cS8kHP/D+/DpwzojQEQIEmwoanVwxA4lgXt9HgE0BSSZ2AJuIbQAMJih9jjiNA5q4l5INuK0AwTKYKRj0zQNv5fmq8/DpAaCJseHrtQkB/+zpwzoxKQM3MzMzMeFJAZmZmZmZqWEAAAAAAAFxeQM3MzMzMJmJAmpmZmZkfZUBmZmZmZhhoQDMzMzMzEWtAAAAAAAAKbkBmZmZmZoFwQM3MzMzM/XFAMzMzMzN6c0CamZmZmfZ0QAAAAAAAc3ZAZmZmZmbvd0DNzMzMzGt5QDMzMzMz6HpAmpmZmZlkfEAAAAAAAOF9QGZmZmZmXX9AZmZmZuZsgECamZmZGSuBQM3MzMxM6YFAAAAAAICngkAzMzMzs2WDQGZmZmbmI4RAmpmZmRnihEDNzMzMTKCFQAAAAACAXoZAMzMzM7Mch0BmZmZm5tqHQJqZmZkZmYhAzczMzExXiUAAAAAAgBWKQDMzMzOz04pAZmZmZuaRi0CamZmZGVCMQM3MzMxMDo1AAAAAAIDMjUAzMzMzs4qOQGZmZmbmSI9A\",\"dtype\":\"float64\",\"shape\":[75]}}},\"id\":\"a73f4764-3deb-4c3a-a05e-f980a7dd5725\",\"type\":\"ColumnDataSource\"},{\"attributes\":{\"active_drag\":\"auto\",\"active_inspect\":\"auto\",\"active_scroll\":\"auto\",\"active_tap\":\"auto\",\"tools\":[{\"id\":\"6e9e30e7-7f4c-4eac-a1ea-3836ca341866\",\"type\":\"PanTool\"},{\"id\":\"b2a063cf-fe48-4fb6-bb98-954640ba2de8\",\"type\":\"WheelZoomTool\"},{\"id\":\"99fc0103-8c90-41a6-978b-da1e547bf760\",\"type\":\"BoxZoomTool\"},{\"id\":\"37169df3-38a9-4afb-bbc1-88eca9def244\",\"type\":\"SaveTool\"},{\"id\":\"49c477eb-8d55-450b-88db-821c7f4fb5b0\",\"type\":\"ResetTool\"},{\"id\":\"3a738532-7f00-4d03-9207-a10f59ada9b9\",\"type\":\"HelpTool\"}]},\"id\":\"03d6f405-53bb-4a63-ba7a-671646008bef\",\"type\":\"Toolbar\"},{\"attributes\":{\"num_minor_ticks\":10},\"id\":\"fb9a65a3-206e-4793-ae5e-a51aaaa45255\",\"type\":\"LogTicker\"},{\"attributes\":{},\"id\":\"c92fc9cf-ab93-48fe-8acc-c1676c98f8b4\",\"type\":\"BasicTicker\"},{\"attributes\":{},\"id\":\"e178621c-d477-4a6c-b455-c4314978464e\",\"type\":\"LinearScale\"},{\"attributes\":{},\"id\":\"49c477eb-8d55-450b-88db-821c7f4fb5b0\",\"type\":\"ResetTool\"},{\"attributes\":{\"plot\":null,\"text\":\"Linear pressure scale\"},\"id\":\"5710d1f0-2209-4e8f-9221-e1af7e7b3a2e\",\"type\":\"Title\"},{\"attributes\":{\"children\":[{\"id\":\"f6f6c54f-325b-477f-abee-5d031f8c10fe\",\"type\":\"Row\"}]},\"id\":\"e79d227a-140c-479e-8353-aeba91a7e608\",\"type\":\"Column\"},{\"attributes\":{\"callback\":null,\"column_names\":[\"x\",\"y\"],\"data\":{\"x\":{\"__ndarray__\":\"pf6iTdM8ez+V6DQkUdx7PwwpYG7ANn0/L8TdZS6Mfj/XcUQC++R/P9uBZtNyoIA/LjSgLYpPgT8NxPluzwCCP6WGSuQBs4I/P1pu+eBmgz9MESbutBqEPx4HpwMuz4Q/Y9NZTL2FhT+MW6nA+W+GP3BioweZv4k/VkuQynpVkD9WoPotWK+UPwq/s8GyZ5k/Uhmjzgx9nj9zaeUmtvehP0lLUoo34aQ/nVoO2Purpz+6ORtGz5qoP3r09k+Glqc/2WBsF1bOpT9EyolVB2mjPwg5far74aA/ZiTThX7EnD+I+u2D3cSXP4lSA0xnx5I/VP5IIESDiz8UxtlnI42BP7spC321RW8/flNP0YuqSb81XcuE2EJ4vz6m7RPLI4e/ZbGbuYo8jr9IeQ6ufkGOv6vdEXbTK4q/8EuxLmQxhr/Hrq3S71iCvx9F+gVkPH2/O4L+9yX4db8DGWlBIshtv6p+vbR881+/DZa7MBTqM7/hi2Dv/1RVP5G3xiqYhmc/Mmx9okUOcj8tEf612zZ4P/baDjvDPH4/aVoIiMcSgj86kpaNePmEPxdSwm/q04c/wsc3Rnicij8qulEL9VmNP1uvJqVZBpA/0b+6sIlakT+ni9oeOamSP1ORr6mY75M/qLVwJpQolT+zLUIylkmWPzZUuisjRJc/OWC6vWIVmD/0K3VHAc2YP+pRb0jOgpk/FRHNVVZHmj/4KmR0YSCbPyEriBnLCJw/zm7cS+L4nD8FWJWRO+udPzFT9VNl3Z4/Tg0ivLfOnz/o+ACOUV+gP7XTrsCS1qA/\",\"dtype\":\"float64\",\"shape\":[75]},\"y\":{\"__ndarray__\":\"S/O/Q+51ND/Sv8nbtpRIP2vylNV0PVE/aTum7souWD/At0SJ8fVgPw3Iuahxymc/MSNhhJWvcD/bTfBN02d3P2zb5nxnaoA/CD5h5MAGhz8NmeH1TyaQP+zrCsc9p5Y/LbKd76fGnz/bLW5ISEmmPww9YvTcQq8/JV2OstnstT8Er5Y7M8G+P0c+r3jqkcU/5h99k6ZBzj88bCIzFzjVP4enV8oyxN0//yH99nXg5D8qOpLLf0jtP5kqGJXUifQ/c9cS8kHP/D+/DpwzojQEQIEmwoanVwxA4lgXt9HgE0BSSZ2AJuIbQAMJih9jjiNA5q4l5INuK0AwTKYKRj0zQNv5fmq8/DpAaCJseHrtQkB/+zpwzoxKQM3MzMzMeFJAZmZmZmZqWEAAAAAAAFxeQM3MzMzMJmJAmpmZmZkfZUBmZmZmZhhoQDMzMzMzEWtAAAAAAAAKbkBmZmZmZoFwQM3MzMzM/XFAMzMzMzN6c0CamZmZmfZ0QAAAAAAAc3ZAZmZmZmbvd0DNzMzMzGt5QDMzMzMz6HpAmpmZmZlkfEAAAAAAAOF9QGZmZmZmXX9AZmZmZuZsgECamZmZGSuBQM3MzMxM6YFAAAAAAICngkAzMzMzs2WDQGZmZmbmI4RAmpmZmRnihEDNzMzMTKCFQAAAAACAXoZAMzMzM7Mch0BmZmZm5tqHQJqZmZkZmYhAzczMzExXiUAAAAAAgBWKQDMzMzOz04pAZmZmZuaRi0CamZmZGVCMQM3MzMxMDo1AAAAAAIDMjUAzMzMzs4qOQGZmZmbmSI9A\",\"dtype\":\"float64\",\"shape\":[75]}}},\"id\":\"2966769f-221d-4c0c-92a1-a362cf78e8d4\",\"type\":\"ColumnDataSource\"},{\"attributes\":{\"dimension\":1,\"plot\":{\"id\":\"5d0ffa68-25ee-466b-bc3b-b7ca262d1b35\",\"subtype\":\"Figure\",\"type\":\"Plot\"},\"ticker\":{\"id\":\"98e46fcc-58d5-44ed-933b-d5d40dd2816c\",\"type\":\"BasicTicker\"}},\"id\":\"e7102fd7-f248-4183-bc0f-0cba628aebda\",\"type\":\"Grid\"},{\"attributes\":{\"below\":[{\"id\":\"cf0dea52-7ef8-45d0-bd98-c694f77684d9\",\"type\":\"LinearAxis\"}],\"left\":[{\"id\":\"adcaf61a-4a35-4cc0-b766-8a93a0a0542f\",\"type\":\"LinearAxis\"}],\"plot_height\":500,\"plot_width\":400,\"renderers\":[{\"id\":\"cf0dea52-7ef8-45d0-bd98-c694f77684d9\",\"type\":\"LinearAxis\"},{\"id\":\"10af3580-3377-41aa-b24e-41869145f137\",\"type\":\"Grid\"},{\"id\":\"adcaf61a-4a35-4cc0-b766-8a93a0a0542f\",\"type\":\"LinearAxis\"},{\"id\":\"e7102fd7-f248-4183-bc0f-0cba628aebda\",\"type\":\"Grid\"},{\"id\":\"5b3961ee-4c42-4b74-943b-0fbcbbc65ed3\",\"type\":\"BoxAnnotation\"},{\"id\":\"90e26992-403a-4cb2-8993-208369c0abee\",\"type\":\"GlyphRenderer\"},{\"id\":\"64d40331-d9eb-4010-a445-d8498a463778\",\"type\":\"GlyphRenderer\"},{\"id\":\"328f0a46-6f06-463c-9868-25c3b48aead5\",\"type\":\"GlyphRenderer\"},{\"id\":\"0f69343c-d25e-4e29-ab5e-fa3f4ce1feeb\",\"type\":\"GlyphRenderer\"},{\"id\":\"0a8b2d1a-ab09-46aa-b7d6-00afc1fd607b\",\"type\":\"GlyphRenderer\"}],\"title\":{\"id\":\"5710d1f0-2209-4e8f-9221-e1af7e7b3a2e\",\"type\":\"Title\"},\"toolbar\":{\"id\":\"03d6f405-53bb-4a63-ba7a-671646008bef\",\"type\":\"Toolbar\"},\"toolbar_location\":null,\"x_range\":{\"id\":\"000e04d2-1da9-4890-9c50-78ab353c8f43\",\"type\":\"Range1d\"},\"x_scale\":{\"id\":\"e178621c-d477-4a6c-b455-c4314978464e\",\"type\":\"LinearScale\"},\"y_range\":{\"id\":\"7d052404-bace-4394-8b43-60b6ff7d54be\",\"type\":\"Range1d\"},\"y_scale\":{\"id\":\"73ab3ef3-5c32-46ec-849d-b3fb4c2e8abc\",\"type\":\"LinearScale\"}},\"id\":\"5d0ffa68-25ee-466b-bc3b-b7ca262d1b35\",\"subtype\":\"Figure\",\"type\":\"Plot\"},{\"attributes\":{\"fill_alpha\":{\"value\":0.7},\"fill_color\":{\"value\":\"#4daf4a\"},\"line_alpha\":{\"value\":0.7},\"line_color\":{\"value\":\"#4daf4a\"},\"x\":{\"field\":\"x\"},\"y\":{\"field\":\"y\"}},\"id\":\"f73d4e06-7661-4fb1-8afb-3b300f0c4fd2\",\"type\":\"Circle\"},{\"attributes\":{\"callback\":null,\"end\":0.034121293328,\"start\":-0.015266303728},\"id\":\"000e04d2-1da9-4890-9c50-78ab353c8f43\",\"type\":\"Range1d\"},{\"attributes\":{\"axis_label\":\"cooling rate [K/day]\",\"formatter\":{\"id\":\"fc609c73-bb6e-4142-ae7b-ab5901a6869e\",\"type\":\"BasicTickFormatter\"},\"plot\":{\"id\":\"5d0ffa68-25ee-466b-bc3b-b7ca262d1b35\",\"subtype\":\"Figure\",\"type\":\"Plot\"},\"ticker\":{\"id\":\"c92fc9cf-ab93-48fe-8acc-c1676c98f8b4\",\"type\":\"BasicTicker\"}},\"id\":\"cf0dea52-7ef8-45d0-bd98-c694f77684d9\",\"type\":\"LinearAxis\"},{\"attributes\":{\"source\":{\"id\":\"0e11ebd4-0780-47c7-a8ba-0a1ace11d580\",\"type\":\"ColumnDataSource\"}},\"id\":\"b854d1f6-114c-42f0-9c95-7bc5986bfc1b\",\"type\":\"CDSView\"},{\"attributes\":{},\"id\":\"98e46fcc-58d5-44ed-933b-d5d40dd2816c\",\"type\":\"BasicTicker\"},{\"attributes\":{\"axis_label\":\"pressure [mb]\",\"formatter\":{\"id\":\"696472e0-b38c-474b-9cd5-5fcb5c011a38\",\"type\":\"BasicTickFormatter\"},\"plot\":{\"id\":\"5d0ffa68-25ee-466b-bc3b-b7ca262d1b35\",\"subtype\":\"Figure\",\"type\":\"Plot\"},\"ticker\":{\"id\":\"98e46fcc-58d5-44ed-933b-d5d40dd2816c\",\"type\":\"BasicTicker\"}},\"id\":\"adcaf61a-4a35-4cc0-b766-8a93a0a0542f\",\"type\":\"LinearAxis\"},{\"attributes\":{\"overlay\":{\"id\":\"5b3961ee-4c42-4b74-943b-0fbcbbc65ed3\",\"type\":\"BoxAnnotation\"}},\"id\":\"99fc0103-8c90-41a6-978b-da1e547bf760\",\"type\":\"BoxZoomTool\"},{\"attributes\":{\"line_alpha\":0.6,\"line_color\":\"#e41a1c\",\"line_dash\":[6],\"line_width\":5,\"x\":{\"field\":\"x\"},\"y\":{\"field\":\"y\"}},\"id\":\"0d913b23-86a8-464c-a65b-d9b36ebedd39\",\"type\":\"Line\"},{\"attributes\":{},\"id\":\"3a738532-7f00-4d03-9207-a10f59ada9b9\",\"type\":\"HelpTool\"},{\"attributes\":{},\"id\":\"6e9e30e7-7f4c-4eac-a1ea-3836ca341866\",\"type\":\"PanTool\"},{\"attributes\":{\"callback\":null,\"end\":0.01,\"start\":1020},\"id\":\"7d052404-bace-4394-8b43-60b6ff7d54be\",\"type\":\"Range1d\"},{\"attributes\":{},\"id\":\"37169df3-38a9-4afb-bbc1-88eca9def244\",\"type\":\"SaveTool\"},{\"attributes\":{},\"id\":\"b2a063cf-fe48-4fb6-bb98-954640ba2de8\",\"type\":\"WheelZoomTool\"},{\"attributes\":{},\"id\":\"dd9bbcf4-c5ab-404f-b319-3d2a2eac40df\",\"type\":\"BasicTickFormatter\"},{\"attributes\":{\"callback\":null,\"column_names\":[\"x\",\"y\"],\"data\":{\"x\":{\"__ndarray__\":\"aKqhbdC1eD+ze8qMp155Pw9Ia9XE0no/6LtvcBtPfD8A9UWnk859P0qhgzwNUX8/gYP0pjtrgD8cJWANgi+BP0YtAzo/9YE/XC2Wu0a8gj/WE4Z38oaDPwCFZmdYUYQ/hHOkv6kdhT9ltUsFWCSGPyVlJrkp1ok/oGPHdIjNkD923hkeCZyVP/FKdKr+1Jo/r01ibJU9oD9icc+LZSyjP7flcm+9Z6Y/qQmn2k9xqT9lvhG/iW6qP0HLhhEuOqk/J00ilu4spz8fNVHPf3WkP70TNyJ3n6E/fW4U6MWrnT8j2UVpmDSYP2t8q0Ik4JI/GnFw2dNniz+1mYANWHiBP/KUsHMT2m8/eBKE5hQPQb+uxvTXoNp2v/DevdpLvoa/sLWOWHFEjr+LQhpvFUaOv1MNw5NS2om/IYV11vyuhb/8ZwCBZMCBvxZKgs4t9nu/I0Ip/7aFdL/kFYr+a7dqv00l9Ikhjlm/EaEABP9LEz92IYbOJ5xbP5onQE1m0mo/3gdb5OS9cz/k6a1sL815P6JPzv6b538/F9WWQcvvgj+aA4Z329GFP4J7tahQrYg/pNUvgCKEiz8XsR6M/EWOP5TOfmPafpA/dP+Fm9TbkT/GE+ubziqTP+8TOHdKd5Q/bF04AR65lT9Y7XgUqdeWP/7D8yEK15c//GzckgCkmD9a9zk8EFKZP+xW5FL7Bpo/ZUqD1bPEmj/uL1sjpKSbPxxbfaRpkZw/SuOxDT6HnT/khaKw84WeP9jZVEFze58/wjrYGgY+oD+KBnq/CbmgP/UnLNPhOKE/\",\"dtype\":\"float64\",\"shape\":[75]},\"y\":{\"__ndarray__\":\"GhExyth1ND/Sv8nbtpRIP2vylNV0PVE/aTum7souWD/At0SJ8fVgPw3Iuahxymc/MSNhhJWvcD/bTfBN02d3P2zb5nxnaoA/CD5h5MAGhz8NmeH1TyaQP+zrCsc9p5Y/LbKd76fGnz/bLW5ISEmmPww9YvTcQq8/JV2OstnstT8Er5Y7M8G+P0c+r3jqkcU/5h99k6ZBzj88bCIzFzjVP4enV8oyxN0//yH99nXg5D8qOpLLf0jtP5kqGJXUifQ/c9cS8kHP/D+/DpwzojQEQIEmwoanVwxA4lgXt9HgE0BSSZ2AJuIbQAMJih9jjiNA5q4l5INuK0AwTKYKRj0zQNv5fmq8/DpAaCJseHrtQkB/+zpwzoxKQM3MzMzMeFJAZmZmZmZqWEAAAAAAAFxeQM3MzMzMJmJAmpmZmZkfZUBmZmZmZhhoQDMzMzMzEWtAAAAAAAAKbkBmZmZmZoFwQM3MzMzM/XFAMzMzMzN6c0CamZmZmfZ0QAAAAAAAc3ZAZmZmZmbvd0DNzMzMzGt5QDMzMzMz6HpAmpmZmZlkfEAAAAAAAOF9QGZmZmZmXX9AZmZmZuZsgECamZmZGSuBQM3MzMxM6YFAAAAAAICngkAzMzMzs2WDQGZmZmbmI4RAmpmZmRnihEDNzMzMTKCFQAAAAACAXoZAMzMzM7Mch0BmZmZm5tqHQJqZmZkZmYhAzczMzExXiUAAAAAAgBWKQDMzMzOz04pAZmZmZuaRi0CamZmZGVCMQM3MzMxMDo1AAAAAAIDMjUAzMzMzs4qOQGZmZmbmSI9A\",\"dtype\":\"float64\",\"shape\":[75]}}},\"id\":\"7b3adae4-2ee6-4f49-9231-3f8234dd595f\",\"type\":\"ColumnDataSource\"},{\"attributes\":{\"fill_alpha\":{\"value\":0.1},\"fill_color\":{\"value\":\"#1f77b4\"},\"line_alpha\":{\"value\":0.1},\"line_color\":{\"value\":\"#1f77b4\"},\"x\":{\"field\":\"x\"},\"y\":{\"field\":\"y\"}},\"id\":\"3c51ae71-b3bc-4dfa-904b-288009037b6e\",\"type\":\"Circle\"},{\"attributes\":{\"data_source\":{\"id\":\"bf1c3296-97ff-4aa6-9fb7-cf58479c2cae\",\"type\":\"ColumnDataSource\"},\"glyph\":{\"id\":\"45d7d2d5-5b40-41bf-bcbe-2ce035527ee8\",\"type\":\"Circle\"},\"hover_glyph\":null,\"muted_glyph\":null,\"nonselection_glyph\":{\"id\":\"3c51ae71-b3bc-4dfa-904b-288009037b6e\",\"type\":\"Circle\"},\"selection_glyph\":null,\"view\":{\"id\":\"289c44ac-9de1-485c-af44-cee0f4cd4399\",\"type\":\"CDSView\"}},\"id\":\"59ee4a68-fead-48ab-8215-4c5194640014\",\"type\":\"GlyphRenderer\"},{\"attributes\":{\"fill_alpha\":{\"value\":0.7},\"fill_color\":{\"value\":\"#4daf4a\"},\"line_alpha\":{\"value\":0.7},\"line_color\":{\"value\":\"#4daf4a\"},\"x\":{\"field\":\"x\"},\"y\":{\"field\":\"y\"}},\"id\":\"45d7d2d5-5b40-41bf-bcbe-2ce035527ee8\",\"type\":\"Circle\"},{\"attributes\":{\"data_source\":{\"id\":\"2966769f-221d-4c0c-92a1-a362cf78e8d4\",\"type\":\"ColumnDataSource\"},\"glyph\":{\"id\":\"0d913b23-86a8-464c-a65b-d9b36ebedd39\",\"type\":\"Line\"},\"hover_glyph\":null,\"muted_glyph\":null,\"nonselection_glyph\":{\"id\":\"5cfc25fc-4c5d-4f7e-b6f5-d131a08797bb\",\"type\":\"Line\"},\"selection_glyph\":null,\"view\":{\"id\":\"30f4b10c-25bd-4967-b844-300743a44082\",\"type\":\"CDSView\"}},\"id\":\"90e26992-403a-4cb2-8993-208369c0abee\",\"type\":\"GlyphRenderer\"},{\"attributes\":{\"callback\":null,\"column_names\":[\"x\",\"y\"],\"data\":{\"x\":{\"__ndarray__\":\"2UPIZxxkXj+vvg1zesVgPzNU6dFSBWQ/xHCWV8xWZz+TWVu+V7BqPyQ6ms4GDG4/VDAfEnu2cD9NPqXi+WdyPyATu8JzGXQ/lUKe8f3MdT9yrJCUIml3PyjOltII9Hg/KN15TrFkej+GgT2WXTh8Pyxuccd67oE/gnq06tMnij+v2k6+TT2SPzv+BktHyZc/YItNk2i1nT8/BY2HYQGiP1ZnmWvvWKU/nNMTM06FqD8bToe4s1upP4iH3H6MyKc/fpWVic9bpT9tm76r2VuiP6l2pP+H6Z4/bDyM1HG4mT8qntvNURyVP4JvRD6C95A/yoPbd5g4ij/Zq2/nGbeCP1ZJAhrOOHY/lV/hwMZeWD9l4u+CvOpuvyoxwB8tt4S/vvonobzbjb9hYZ03CTaOv5lcox3rbYm/zhDsyvckhb8BoIVi/S+Bv0lg6mVf63q/egOU0qjKc78rPpZrPuhpvzRzNz5JcFm/+Ws1/Gu42D7DHJM1CeZYP554pypIhmg/ZCWsZaAmcj8sQs1qY+d3P2A0Fa1WiX0/meDJJ9qHgT/AmRBiiz6EP45kFYoC6oY/G/R/8JyLiT+zRpNEXCSMP2GF2r18tY4/9cts/+afkD8dCs/mmeCRP2YzkRaKG5M//rtSV71KlD9Et/mnnV+VP2pkQ3ZfR5Y/JorhAZ39lj9GEj4NeJaXP/+ZilIXMJg/qaq06/zgmD+r56T3ja+ZPye0f3pAlJo/RA/sYBOFmz/IqFsL7XucP8aNYIWJdp0/rNYGSrFznj8+snKVEnWfP6PrX+USP6A/\",\"dtype\":\"float64\",\"shape\":[75]},\"y\":{\"__ndarray__\":\"GhExyth1ND/Sv8nbtpRIP2vylNV0PVE/aTum7souWD/At0SJ8fVgPw3Iuahxymc/MSNhhJWvcD/bTfBN02d3P2zb5nxnaoA/CD5h5MAGhz8NmeH1TyaQP+zrCsc9p5Y/LbKd76fGnz/bLW5ISEmmPww9YvTcQq8/JV2OstnstT8Er5Y7M8G+P0c+r3jqkcU/5h99k6ZBzj88bCIzFzjVP4enV8oyxN0//yH99nXg5D8qOpLLf0jtP5kqGJXUifQ/c9cS8kHP/D+/DpwzojQEQIEmwoanVwxA4lgXt9HgE0BSSZ2AJuIbQAMJih9jjiNA5q4l5INuK0AwTKYKRj0zQNv5fmq8/DpAaCJseHrtQkB/+zpwzoxKQM3MzMzMeFJAZmZmZmZqWEAAAAAAAFxeQM3MzMzMJmJAmpmZmZkfZUBmZmZmZhhoQDMzMzMzEWtAAAAAAAAKbkBmZmZmZoFwQM3MzMzM/XFAMzMzMzN6c0CamZmZmfZ0QAAAAAAAc3ZAZmZmZmbvd0DNzMzMzGt5QDMzMzMz6HpAmpmZmZlkfEAAAAAAAOF9QGZmZmZmXX9AZmZmZuZsgECamZmZGSuBQM3MzMxM6YFAAAAAAICngkAzMzMzs2WDQGZmZmbmI4RAmpmZmRnihEDNzMzMTKCFQAAAAACAXoZAMzMzM7Mch0BmZmZm5tqHQJqZmZkZmYhAzczMzExXiUAAAAAAgBWKQDMzMzOz04pAZmZmZuaRi0CamZmZGVCMQM3MzMxMDo1AAAAAAIDMjUAzMzMzs4qOQGZmZmbmSI9A\",\"dtype\":\"float64\",\"shape\":[75]}}},\"id\":\"00ad2fc3-9baf-45f3-a489-e525e6aee723\",\"type\":\"ColumnDataSource\"},{\"attributes\":{\"items\":[{\"id\":\"cc2c8078-dcd1-4011-9c1f-2f41e1db0ae9\",\"type\":\"LegendItem\"},{\"id\":\"e6799ef1-47ab-4d0b-b30f-230a3496d7aa\",\"type\":\"LegendItem\"},{\"id\":\"af9911d2-4464-43db-9a6e-fe64adf88500\",\"type\":\"LegendItem\"}],\"label_text_font_size\":{\"value\":\"8pt\"},\"location\":[10,-30],\"plot\":{\"id\":\"51214437-c145-4661-855c-e2fdd104efcf\",\"subtype\":\"Figure\",\"type\":\"Plot\"}},\"id\":\"cdccc516-c6a5-4ac1-b887-c5ea3fcef697\",\"type\":\"Legend\"},{\"attributes\":{\"below\":[{\"id\":\"50bae519-5acc-4f51-8c64-a0d099e47859\",\"type\":\"LinearAxis\"}],\"left\":[{\"id\":\"227f1ce9-02c9-4ff0-9ff4-d1ea9d9909c9\",\"type\":\"LogAxis\"}],\"plot_height\":500,\"plot_width\":560,\"renderers\":[{\"id\":\"50bae519-5acc-4f51-8c64-a0d099e47859\",\"type\":\"LinearAxis\"},{\"id\":\"4a6855f5-9ff2-446d-acd5-4c982c978d4d\",\"type\":\"Grid\"},{\"id\":\"227f1ce9-02c9-4ff0-9ff4-d1ea9d9909c9\",\"type\":\"LogAxis\"},{\"id\":\"fdeb1059-fbcd-410d-b31f-60bbdd00bcad\",\"type\":\"Grid\"},{\"id\":\"bf08e401-3c25-4d5a-9e4d-3954ac73f5d1\",\"type\":\"BoxAnnotation\"},{\"id\":\"57019851-ce29-428a-a02a-a60734d1ad67\",\"type\":\"GlyphRenderer\"},{\"id\":\"59ee4a68-fead-48ab-8215-4c5194640014\",\"type\":\"GlyphRenderer\"},{\"id\":\"e79e0051-77f8-44ac-ad79-b4526d101cf0\",\"type\":\"GlyphRenderer\"},{\"id\":\"0b13840b-fee1-4110-bfc5-f0e365796f4a\",\"type\":\"GlyphRenderer\"},{\"id\":\"7f383a4f-ad34-45bc-b8ed-a7eecda88e54\",\"type\":\"GlyphRenderer\"},{\"id\":\"cdccc516-c6a5-4ac1-b887-c5ea3fcef697\",\"type\":\"Legend\"}],\"right\":[{\"id\":\"cdccc516-c6a5-4ac1-b887-c5ea3fcef697\",\"type\":\"Legend\"}],\"title\":{\"id\":\"220e7167-0142-4a48-99f2-8d7556278c44\",\"type\":\"Title\"},\"toolbar\":{\"id\":\"b331d2ad-62cf-4c33-8344-372dbb0374ea\",\"type\":\"Toolbar\"},\"toolbar_location\":null,\"x_range\":{\"id\":\"63d3ee38-c1e9-4a97-85c7-5fe4d6b370d7\",\"type\":\"Range1d\"},\"x_scale\":{\"id\":\"91289fd8-bb95-404c-b010-9e2667c89007\",\"type\":\"LinearScale\"},\"y_range\":{\"id\":\"4ccdcf4f-aa74-41b7-9324-a77577f96512\",\"type\":\"Range1d\"},\"y_scale\":{\"id\":\"6396ca2f-cb14-4d9c-9275-a3191908642f\",\"type\":\"LogScale\"}},\"id\":\"51214437-c145-4661-855c-e2fdd104efcf\",\"subtype\":\"Figure\",\"type\":\"Plot\"},{\"attributes\":{\"data_source\":{\"id\":\"f3662a74-375e-4a45-9892-8b2989a4e289\",\"type\":\"ColumnDataSource\"},\"glyph\":{\"id\":\"59c99d2a-58d4-4991-a2d8-8d7a4809cd1a\",\"type\":\"Line\"},\"hover_glyph\":null,\"muted_glyph\":null,\"nonselection_glyph\":{\"id\":\"c5e9a471-5c9f-449d-b23e-4d773d9d5440\",\"type\":\"Line\"},\"selection_glyph\":null,\"view\":{\"id\":\"dbd9ea11-dfbc-43ba-81fe-f02249f67d4e\",\"type\":\"CDSView\"}},\"id\":\"57019851-ce29-428a-a02a-a60734d1ad67\",\"type\":\"GlyphRenderer\"},{\"attributes\":{\"callback\":null,\"column_names\":[\"x\",\"y\"],\"data\":{\"x\":{\"__ndarray__\":\"pf6iTdM8ez+V6DQkUdx7PwwpYG7ANn0/L8TdZS6Mfj/XcUQC++R/P9uBZtNyoIA/LjSgLYpPgT8NxPluzwCCP6WGSuQBs4I/P1pu+eBmgz9MESbutBqEPx4HpwMuz4Q/Y9NZTL2FhT+MW6nA+W+GP3BioweZv4k/VkuQynpVkD9WoPotWK+UPwq/s8GyZ5k/Uhmjzgx9nj9zaeUmtvehP0lLUoo34aQ/nVoO2Purpz+6ORtGz5qoP3r09k+Glqc/2WBsF1bOpT9EyolVB2mjPwg5far74aA/ZiTThX7EnD+I+u2D3cSXP4lSA0xnx5I/VP5IIESDiz8UxtlnI42BP7spC321RW8/flNP0YuqSb81XcuE2EJ4vz6m7RPLI4e/ZbGbuYo8jr9IeQ6ufkGOv6vdEXbTK4q/8EuxLmQxhr/Hrq3S71iCvx9F+gVkPH2/O4L+9yX4db8DGWlBIshtv6p+vbR881+/DZa7MBTqM7/hi2Dv/1RVP5G3xiqYhmc/Mmx9okUOcj8tEf612zZ4P/baDjvDPH4/aVoIiMcSgj86kpaNePmEPxdSwm/q04c/wsc3Rnicij8qulEL9VmNP1uvJqVZBpA/0b+6sIlakT+ni9oeOamSP1ORr6mY75M/qLVwJpQolT+zLUIylkmWPzZUuisjRJc/OWC6vWIVmD/0K3VHAc2YP+pRb0jOgpk/FRHNVVZHmj/4KmR0YSCbPyEriBnLCJw/zm7cS+L4nD8FWJWRO+udPzFT9VNl3Z4/Tg0ivLfOnz/o+ACOUV+gP7XTrsCS1qA/\",\"dtype\":\"float64\",\"shape\":[75]},\"y\":{\"__ndarray__\":\"S/O/Q+51ND/Sv8nbtpRIP2vylNV0PVE/aTum7souWD/At0SJ8fVgPw3Iuahxymc/MSNhhJWvcD/bTfBN02d3P2zb5nxnaoA/CD5h5MAGhz8NmeH1TyaQP+zrCsc9p5Y/LbKd76fGnz/bLW5ISEmmPww9YvTcQq8/JV2OstnstT8Er5Y7M8G+P0c+r3jqkcU/5h99k6ZBzj88bCIzFzjVP4enV8oyxN0//yH99nXg5D8qOpLLf0jtP5kqGJXUifQ/c9cS8kHP/D+/DpwzojQEQIEmwoanVwxA4lgXt9HgE0BSSZ2AJuIbQAMJih9jjiNA5q4l5INuK0AwTKYKRj0zQNv5fmq8/DpAaCJseHrtQkB/+zpwzoxKQM3MzMzMeFJAZmZmZmZqWEAAAAAAAFxeQM3MzMzMJmJAmpmZmZkfZUBmZmZmZhhoQDMzMzMzEWtAAAAAAAAKbkBmZmZmZoFwQM3MzMzM/XFAMzMzMzN6c0CamZmZmfZ0QAAAAAAAc3ZAZmZmZmbvd0DNzMzMzGt5QDMzMzMz6HpAmpmZmZlkfEAAAAAAAOF9QGZmZmZmXX9AZmZmZuZsgECamZmZGSuBQM3MzMxM6YFAAAAAAICngkAzMzMzs2WDQGZmZmbmI4RAmpmZmRnihEDNzMzMTKCFQAAAAACAXoZAMzMzM7Mch0BmZmZm5tqHQJqZmZkZmYhAzczMzExXiUAAAAAAgBWKQDMzMzOz04pAZmZmZuaRi0CamZmZGVCMQM3MzMxMDo1AAAAAAIDMjUAzMzMzs4qOQGZmZmbmSI9A\",\"dtype\":\"float64\",\"shape\":[75]}}},\"id\":\"f3662a74-375e-4a45-9892-8b2989a4e289\",\"type\":\"ColumnDataSource\"},{\"attributes\":{\"data_source\":{\"id\":\"7b3adae4-2ee6-4f49-9231-3f8234dd595f\",\"type\":\"ColumnDataSource\"},\"glyph\":{\"id\":\"295b0554-d1e8-4211-a379-dbfefefb1553\",\"type\":\"Line\"},\"hover_glyph\":null,\"muted_glyph\":null,\"nonselection_glyph\":{\"id\":\"3c58808a-c450-41c1-8454-b0af34be8d49\",\"type\":\"Line\"},\"selection_glyph\":null,\"view\":{\"id\":\"23583656-0106-4fb3-b745-3bcf1973c12b\",\"type\":\"CDSView\"}},\"id\":\"0a8b2d1a-ab09-46aa-b7d6-00afc1fd607b\",\"type\":\"GlyphRenderer\"},{\"attributes\":{\"source\":{\"id\":\"7b3adae4-2ee6-4f49-9231-3f8234dd595f\",\"type\":\"ColumnDataSource\"}},\"id\":\"23583656-0106-4fb3-b745-3bcf1973c12b\",\"type\":\"CDSView\"},{\"attributes\":{\"line_alpha\":0.1,\"line_color\":\"#1f77b4\",\"line_width\":1.5,\"x\":{\"field\":\"x\"},\"y\":{\"field\":\"y\"}},\"id\":\"01f6f21a-2894-42e9-ab6a-0cc83624df72\",\"type\":\"Line\"},{\"attributes\":{\"callback\":null,\"column_names\":[\"x\",\"y\"],\"data\":{\"x\":{\"__ndarray__\":\"aKqhbdC1eD+ze8qMp155Pw9Ia9XE0no/6LtvcBtPfD8A9UWnk859P0qhgzwNUX8/gYP0pjtrgD8cJWANgi+BP0YtAzo/9YE/XC2Wu0a8gj/WE4Z38oaDPwCFZmdYUYQ/hHOkv6kdhT9ltUsFWCSGPyVlJrkp1ok/oGPHdIjNkD923hkeCZyVP/FKdKr+1Jo/r01ibJU9oD9icc+LZSyjP7flcm+9Z6Y/qQmn2k9xqT9lvhG/iW6qP0HLhhEuOqk/J00ilu4spz8fNVHPf3WkP70TNyJ3n6E/fW4U6MWrnT8j2UVpmDSYP2t8q0Ik4JI/GnFw2dNniz+1mYANWHiBP/KUsHMT2m8/eBKE5hQPQb+uxvTXoNp2v/DevdpLvoa/sLWOWHFEjr+LQhpvFUaOv1MNw5NS2om/IYV11vyuhb/8ZwCBZMCBvxZKgs4t9nu/I0Ip/7aFdL/kFYr+a7dqv00l9Ikhjlm/EaEABP9LEz92IYbOJ5xbP5onQE1m0mo/3gdb5OS9cz/k6a1sL815P6JPzv6b538/F9WWQcvvgj+aA4Z329GFP4J7tahQrYg/pNUvgCKEiz8XsR6M/EWOP5TOfmPafpA/dP+Fm9TbkT/GE+ubziqTP+8TOHdKd5Q/bF04AR65lT9Y7XgUqdeWP/7D8yEK15c//GzckgCkmD9a9zk8EFKZP+xW5FL7Bpo/ZUqD1bPEmj/uL1sjpKSbPxxbfaRpkZw/SuOxDT6HnT/khaKw84WeP9jZVEFze58/wjrYGgY+oD+KBnq/CbmgP/UnLNPhOKE/\",\"dtype\":\"float64\",\"shape\":[75]},\"y\":{\"__ndarray__\":\"GhExyth1ND/Sv8nbtpRIP2vylNV0PVE/aTum7souWD/At0SJ8fVgPw3Iuahxymc/MSNhhJWvcD/bTfBN02d3P2zb5nxnaoA/CD5h5MAGhz8NmeH1TyaQP+zrCsc9p5Y/LbKd76fGnz/bLW5ISEmmPww9YvTcQq8/JV2OstnstT8Er5Y7M8G+P0c+r3jqkcU/5h99k6ZBzj88bCIzFzjVP4enV8oyxN0//yH99nXg5D8qOpLLf0jtP5kqGJXUifQ/c9cS8kHP/D+/DpwzojQEQIEmwoanVwxA4lgXt9HgE0BSSZ2AJuIbQAMJih9jjiNA5q4l5INuK0AwTKYKRj0zQNv5fmq8/DpAaCJseHrtQkB/+zpwzoxKQM3MzMzMeFJAZmZmZmZqWEAAAAAAAFxeQM3MzMzMJmJAmpmZmZkfZUBmZmZmZhhoQDMzMzMzEWtAAAAAAAAKbkBmZmZmZoFwQM3MzMzM/XFAMzMzMzN6c0CamZmZmfZ0QAAAAAAAc3ZAZmZmZmbvd0DNzMzMzGt5QDMzMzMz6HpAmpmZmZlkfEAAAAAAAOF9QGZmZmZmXX9AZmZmZuZsgECamZmZGSuBQM3MzMxM6YFAAAAAAICngkAzMzMzs2WDQGZmZmbmI4RAmpmZmRnihEDNzMzMTKCFQAAAAACAXoZAMzMzM7Mch0BmZmZm5tqHQJqZmZkZmYhAzczMzExXiUAAAAAAgBWKQDMzMzOz04pAZmZmZuaRi0CamZmZGVCMQM3MzMxMDo1AAAAAAIDMjUAzMzMzs4qOQGZmZmbmSI9A\",\"dtype\":\"float64\",\"shape\":[75]}}},\"id\":\"3ec51d0b-f049-4a2f-8f0c-113de6316d52\",\"type\":\"ColumnDataSource\"},{\"attributes\":{\"callback\":null,\"column_names\":[\"x\",\"y\"],\"data\":{\"x\":{\"__ndarray__\":\"2UPIZxxkXj+vvg1zesVgPzNU6dFSBWQ/xHCWV8xWZz+TWVu+V7BqPyQ6ms4GDG4/VDAfEnu2cD9NPqXi+WdyPyATu8JzGXQ/lUKe8f3MdT9yrJCUIml3PyjOltII9Hg/KN15TrFkej+GgT2WXTh8Pyxuccd67oE/gnq06tMnij+v2k6+TT2SPzv+BktHyZc/YItNk2i1nT8/BY2HYQGiP1ZnmWvvWKU/nNMTM06FqD8bToe4s1upP4iH3H6MyKc/fpWVic9bpT9tm76r2VuiP6l2pP+H6Z4/bDyM1HG4mT8qntvNURyVP4JvRD6C95A/yoPbd5g4ij/Zq2/nGbeCP1ZJAhrOOHY/lV/hwMZeWD9l4u+CvOpuvyoxwB8tt4S/vvonobzbjb9hYZ03CTaOv5lcox3rbYm/zhDsyvckhb8BoIVi/S+Bv0lg6mVf63q/egOU0qjKc78rPpZrPuhpvzRzNz5JcFm/+Ws1/Gu42D7DHJM1CeZYP554pypIhmg/ZCWsZaAmcj8sQs1qY+d3P2A0Fa1WiX0/meDJJ9qHgT/AmRBiiz6EP45kFYoC6oY/G/R/8JyLiT+zRpNEXCSMP2GF2r18tY4/9cts/+afkD8dCs/mmeCRP2YzkRaKG5M//rtSV71KlD9Et/mnnV+VP2pkQ3ZfR5Y/JorhAZ39lj9GEj4NeJaXP/+ZilIXMJg/qaq06/zgmD+r56T3ja+ZPye0f3pAlJo/RA/sYBOFmz/IqFsL7XucP8aNYIWJdp0/rNYGSrFznj8+snKVEnWfP6PrX+USP6A/\",\"dtype\":\"float64\",\"shape\":[75]},\"y\":{\"__ndarray__\":\"GhExyth1ND/Sv8nbtpRIP2vylNV0PVE/aTum7souWD/At0SJ8fVgPw3Iuahxymc/MSNhhJWvcD/bTfBN02d3P2zb5nxnaoA/CD5h5MAGhz8NmeH1TyaQP+zrCsc9p5Y/LbKd76fGnz/bLW5ISEmmPww9YvTcQq8/JV2OstnstT8Er5Y7M8G+P0c+r3jqkcU/5h99k6ZBzj88bCIzFzjVP4enV8oyxN0//yH99nXg5D8qOpLLf0jtP5kqGJXUifQ/c9cS8kHP/D+/DpwzojQEQIEmwoanVwxA4lgXt9HgE0BSSZ2AJuIbQAMJih9jjiNA5q4l5INuK0AwTKYKRj0zQNv5fmq8/DpAaCJseHrtQkB/+zpwzoxKQM3MzMzMeFJAZmZmZmZqWEAAAAAAAFxeQM3MzMzMJmJAmpmZmZkfZUBmZmZmZhhoQDMzMzMzEWtAAAAAAAAKbkBmZmZmZoFwQM3MzMzM/XFAMzMzMzN6c0CamZmZmfZ0QAAAAAAAc3ZAZmZmZmbvd0DNzMzMzGt5QDMzMzMz6HpAmpmZmZlkfEAAAAAAAOF9QGZmZmZmXX9AZmZmZuZsgECamZmZGSuBQM3MzMxM6YFAAAAAAICngkAzMzMzs2WDQGZmZmbmI4RAmpmZmRnihEDNzMzMTKCFQAAAAACAXoZAMzMzM7Mch0BmZmZm5tqHQJqZmZkZmYhAzczMzExXiUAAAAAAgBWKQDMzMzOz04pAZmZmZuaRi0CamZmZGVCMQM3MzMxMDo1AAAAAAIDMjUAzMzMzs4qOQGZmZmbmSI9A\",\"dtype\":\"float64\",\"shape\":[75]}}},\"id\":\"bf1c3296-97ff-4aa6-9fb7-cf58479c2cae\",\"type\":\"ColumnDataSource\"},{\"attributes\":{\"line_alpha\":0.1,\"line_color\":\"#1f77b4\",\"line_dash\":[6],\"line_width\":5,\"x\":{\"field\":\"x\"},\"y\":{\"field\":\"y\"}},\"id\":\"c5e9a471-5c9f-449d-b23e-4d773d9d5440\",\"type\":\"Line\"},{\"attributes\":{\"axis_label\":\"pressure [mb]\",\"formatter\":{\"id\":\"5fa2dca3-4c63-4a7e-96f5-45dec7687cc2\",\"type\":\"LogTickFormatter\"},\"plot\":{\"id\":\"51214437-c145-4661-855c-e2fdd104efcf\",\"subtype\":\"Figure\",\"type\":\"Plot\"},\"ticker\":{\"id\":\"fb9a65a3-206e-4793-ae5e-a51aaaa45255\",\"type\":\"LogTicker\"}},\"id\":\"227f1ce9-02c9-4ff0-9ff4-d1ea9d9909c9\",\"type\":\"LogAxis\"},{\"attributes\":{\"line_alpha\":0.1,\"line_color\":\"#1f77b4\",\"line_width\":3,\"x\":{\"field\":\"x\"},\"y\":{\"field\":\"y\"}},\"id\":\"3c58808a-c450-41c1-8454-b0af34be8d49\",\"type\":\"Line\"},{\"attributes\":{\"ticker\":null},\"id\":\"5fa2dca3-4c63-4a7e-96f5-45dec7687cc2\",\"type\":\"LogTickFormatter\"},{\"attributes\":{\"active_drag\":\"auto\",\"active_inspect\":\"auto\",\"active_scroll\":\"auto\",\"active_tap\":\"auto\",\"tools\":[{\"id\":\"20d9bb37-2a47-4f76-977b-87c622ab32cf\",\"type\":\"PanTool\"},{\"id\":\"1b4f3df4-f860-4d3d-9680-f9f2ab021080\",\"type\":\"WheelZoomTool\"},{\"id\":\"0c1fcfeb-d980-4aba-b48a-a0246b200794\",\"type\":\"BoxZoomTool\"},{\"id\":\"3908b90b-5ab8-410f-a6e3-07581542194f\",\"type\":\"SaveTool\"},{\"id\":\"bb36ef22-ddda-4d8f-877a-a33026eaf6f9\",\"type\":\"ResetTool\"},{\"id\":\"ac69ffb5-e3bd-481e-85c4-22b501b6b053\",\"type\":\"HelpTool\"}]},\"id\":\"b331d2ad-62cf-4c33-8344-372dbb0374ea\",\"type\":\"Toolbar\"},{\"attributes\":{\"callback\":null,\"column_names\":[\"x\",\"y\"],\"data\":{\"x\":{\"__ndarray__\":\"aKqhbdC1eD+ze8qMp155Pw9Ia9XE0no/6LtvcBtPfD8A9UWnk859P0qhgzwNUX8/gYP0pjtrgD8cJWANgi+BP0YtAzo/9YE/XC2Wu0a8gj/WE4Z38oaDPwCFZmdYUYQ/hHOkv6kdhT9ltUsFWCSGPyVlJrkp1ok/oGPHdIjNkD923hkeCZyVP/FKdKr+1Jo/r01ibJU9oD9icc+LZSyjP7flcm+9Z6Y/qQmn2k9xqT9lvhG/iW6qP0HLhhEuOqk/J00ilu4spz8fNVHPf3WkP70TNyJ3n6E/fW4U6MWrnT8j2UVpmDSYP2t8q0Ik4JI/GnFw2dNniz+1mYANWHiBP/KUsHMT2m8/eBKE5hQPQb+uxvTXoNp2v/DevdpLvoa/sLWOWHFEjr+LQhpvFUaOv1MNw5NS2om/IYV11vyuhb/8ZwCBZMCBvxZKgs4t9nu/I0Ip/7aFdL/kFYr+a7dqv00l9Ikhjlm/EaEABP9LEz92IYbOJ5xbP5onQE1m0mo/3gdb5OS9cz/k6a1sL815P6JPzv6b538/F9WWQcvvgj+aA4Z329GFP4J7tahQrYg/pNUvgCKEiz8XsR6M/EWOP5TOfmPafpA/dP+Fm9TbkT/GE+ubziqTP+8TOHdKd5Q/bF04AR65lT9Y7XgUqdeWP/7D8yEK15c//GzckgCkmD9a9zk8EFKZP+xW5FL7Bpo/ZUqD1bPEmj/uL1sjpKSbPxxbfaRpkZw/SuOxDT6HnT/khaKw84WeP9jZVEFze58/wjrYGgY+oD+KBnq/CbmgP/UnLNPhOKE/\",\"dtype\":\"float64\",\"shape\":[75]},\"y\":{\"__ndarray__\":\"GhExyth1ND/Sv8nbtpRIP2vylNV0PVE/aTum7souWD/At0SJ8fVgPw3Iuahxymc/MSNhhJWvcD/bTfBN02d3P2zb5nxnaoA/CD5h5MAGhz8NmeH1TyaQP+zrCsc9p5Y/LbKd76fGnz/bLW5ISEmmPww9YvTcQq8/JV2OstnstT8Er5Y7M8G+P0c+r3jqkcU/5h99k6ZBzj88bCIzFzjVP4enV8oyxN0//yH99nXg5D8qOpLLf0jtP5kqGJXUifQ/c9cS8kHP/D+/DpwzojQEQIEmwoanVwxA4lgXt9HgE0BSSZ2AJuIbQAMJih9jjiNA5q4l5INuK0AwTKYKRj0zQNv5fmq8/DpAaCJseHrtQkB/+zpwzoxKQM3MzMzMeFJAZmZmZmZqWEAAAAAAAFxeQM3MzMzMJmJAmpmZmZkfZUBmZmZmZhhoQDMzMzMzEWtAAAAAAAAKbkBmZmZmZoFwQM3MzMzM/XFAMzMzMzN6c0CamZmZmfZ0QAAAAAAAc3ZAZmZmZmbvd0DNzMzMzGt5QDMzMzMz6HpAmpmZmZlkfEAAAAAAAOF9QGZmZmZmXX9AZmZmZuZsgECamZmZGSuBQM3MzMxM6YFAAAAAAICngkAzMzMzs2WDQGZmZmbmI4RAmpmZmRnihEDNzMzMTKCFQAAAAACAXoZAMzMzM7Mch0BmZmZm5tqHQJqZmZkZmYhAzczMzExXiUAAAAAAgBWKQDMzMzOz04pAZmZmZuaRi0CamZmZGVCMQM3MzMxMDo1AAAAAAIDMjUAzMzMzs4qOQGZmZmbmSI9A\",\"dtype\":\"float64\",\"shape\":[75]}}},\"id\":\"94213501-de75-4b69-b574-d8e385fc4b92\",\"type\":\"ColumnDataSource\"},{\"attributes\":{\"line_alpha\":0.6,\"line_color\":\"#e41a1c\",\"line_dash\":[6],\"line_width\":5,\"x\":{\"field\":\"x\"},\"y\":{\"field\":\"y\"}},\"id\":\"59c99d2a-58d4-4991-a2d8-8d7a4809cd1a\",\"type\":\"Line\"},{\"attributes\":{\"line_alpha\":0.6,\"line_color\":\"#984ea3\",\"line_width\":3,\"x\":{\"field\":\"x\"},\"y\":{\"field\":\"y\"}},\"id\":\"295b0554-d1e8-4211-a379-dbfefefb1553\",\"type\":\"Line\"},{\"attributes\":{\"source\":{\"id\":\"bf1c3296-97ff-4aa6-9fb7-cf58479c2cae\",\"type\":\"ColumnDataSource\"}},\"id\":\"289c44ac-9de1-485c-af44-cee0f4cd4399\",\"type\":\"CDSView\"},{\"attributes\":{\"line_color\":\"#4daf4a\",\"line_width\":1.5,\"x\":{\"field\":\"x\"},\"y\":{\"field\":\"y\"}},\"id\":\"8db9800c-13be-4d64-a3ed-476338a8e590\",\"type\":\"Line\"},{\"attributes\":{\"data_source\":{\"id\":\"00ad2fc3-9baf-45f3-a489-e525e6aee723\",\"type\":\"ColumnDataSource\"},\"glyph\":{\"id\":\"8db9800c-13be-4d64-a3ed-476338a8e590\",\"type\":\"Line\"},\"hover_glyph\":null,\"muted_glyph\":null,\"nonselection_glyph\":{\"id\":\"01f6f21a-2894-42e9-ab6a-0cc83624df72\",\"type\":\"Line\"},\"selection_glyph\":null,\"view\":{\"id\":\"8a838aaa-d197-4c75-a198-0bfb0128c66f\",\"type\":\"CDSView\"}},\"id\":\"e79e0051-77f8-44ac-ad79-b4526d101cf0\",\"type\":\"GlyphRenderer\"},{\"attributes\":{},\"id\":\"6396ca2f-cb14-4d9c-9275-a3191908642f\",\"type\":\"LogScale\"},{\"attributes\":{},\"id\":\"91289fd8-bb95-404c-b010-9e2667c89007\",\"type\":\"LinearScale\"},{\"attributes\":{\"callback\":null,\"end\":0.0522886555616,\"start\":-0.0154461786016},\"id\":\"63d3ee38-c1e9-4a97-85c7-5fe4d6b370d7\",\"type\":\"Range1d\"},{\"attributes\":{\"fill_alpha\":{\"value\":0.1},\"fill_color\":{\"value\":\"#1f77b4\"},\"line_alpha\":{\"value\":0.1},\"line_color\":{\"value\":\"#1f77b4\"},\"x\":{\"field\":\"x\"},\"y\":{\"field\":\"y\"}},\"id\":\"e3e250b1-049a-4b27-be3b-8bfd9402d19c\",\"type\":\"Circle\"},{\"attributes\":{\"callback\":null,\"column_names\":[\"x\",\"y\"],\"data\":{\"x\":{\"__ndarray__\":\"aKqhbdC1eD+ze8qMp155Pw9Ia9XE0no/6LtvcBtPfD8A9UWnk859P0qhgzwNUX8/gYP0pjtrgD8cJWANgi+BP0YtAzo/9YE/XC2Wu0a8gj/WE4Z38oaDPwCFZmdYUYQ/hHOkv6kdhT9ltUsFWCSGPyVlJrkp1ok/oGPHdIjNkD923hkeCZyVP/FKdKr+1Jo/r01ibJU9oD9icc+LZSyjP7flcm+9Z6Y/qQmn2k9xqT9lvhG/iW6qP0HLhhEuOqk/J00ilu4spz8fNVHPf3WkP70TNyJ3n6E/fW4U6MWrnT8j2UVpmDSYP2t8q0Ik4JI/GnFw2dNniz+1mYANWHiBP/KUsHMT2m8/eBKE5hQPQb+uxvTXoNp2v/DevdpLvoa/sLWOWHFEjr+LQhpvFUaOv1MNw5NS2om/IYV11vyuhb/8ZwCBZMCBvxZKgs4t9nu/I0Ip/7aFdL/kFYr+a7dqv00l9Ikhjlm/EaEABP9LEz92IYbOJ5xbP5onQE1m0mo/3gdb5OS9cz/k6a1sL815P6JPzv6b538/F9WWQcvvgj+aA4Z329GFP4J7tahQrYg/pNUvgCKEiz8XsR6M/EWOP5TOfmPafpA/dP+Fm9TbkT/GE+ubziqTP+8TOHdKd5Q/bF04AR65lT9Y7XgUqdeWP/7D8yEK15c//GzckgCkmD9a9zk8EFKZP+xW5FL7Bpo/ZUqD1bPEmj/uL1sjpKSbPxxbfaRpkZw/SuOxDT6HnT/khaKw84WeP9jZVEFze58/wjrYGgY+oD+KBnq/CbmgP/UnLNPhOKE/\",\"dtype\":\"float64\",\"shape\":[75]},\"y\":{\"__ndarray__\":\"GhExyth1ND/Sv8nbtpRIP2vylNV0PVE/aTum7souWD/At0SJ8fVgPw3Iuahxymc/MSNhhJWvcD/bTfBN02d3P2zb5nxnaoA/CD5h5MAGhz8NmeH1TyaQP+zrCsc9p5Y/LbKd76fGnz/bLW5ISEmmPww9YvTcQq8/JV2OstnstT8Er5Y7M8G+P0c+r3jqkcU/5h99k6ZBzj88bCIzFzjVP4enV8oyxN0//yH99nXg5D8qOpLLf0jtP5kqGJXUifQ/c9cS8kHP/D+/DpwzojQEQIEmwoanVwxA4lgXt9HgE0BSSZ2AJuIbQAMJih9jjiNA5q4l5INuK0AwTKYKRj0zQNv5fmq8/DpAaCJseHrtQkB/+zpwzoxKQM3MzMzMeFJAZmZmZmZqWEAAAAAAAFxeQM3MzMzMJmJAmpmZmZkfZUBmZmZmZhhoQDMzMzMzEWtAAAAAAAAKbkBmZmZmZoFwQM3MzMzM/XFAMzMzMzN6c0CamZmZmfZ0QAAAAAAAc3ZAZmZmZmbvd0DNzMzMzGt5QDMzMzMz6HpAmpmZmZlkfEAAAAAAAOF9QGZmZmZmXX9AZmZmZuZsgECamZmZGSuBQM3MzMxM6YFAAAAAAICngkAzMzMzs2WDQGZmZmbmI4RAmpmZmRnihEDNzMzMTKCFQAAAAACAXoZAMzMzM7Mch0BmZmZm5tqHQJqZmZkZmYhAzczMzExXiUAAAAAAgBWKQDMzMzOz04pAZmZmZuaRi0CamZmZGVCMQM3MzMxMDo1AAAAAAIDMjUAzMzMzs4qOQGZmZmbmSI9A\",\"dtype\":\"float64\",\"shape\":[75]}}},\"id\":\"720e82f4-e0bf-4785-8b48-ce5c244bd89f\",\"type\":\"ColumnDataSource\"},{\"attributes\":{\"source\":{\"id\":\"00ad2fc3-9baf-45f3-a489-e525e6aee723\",\"type\":\"ColumnDataSource\"}},\"id\":\"8a838aaa-d197-4c75-a198-0bfb0128c66f\",\"type\":\"CDSView\"},{\"attributes\":{},\"id\":\"d9573a31-0513-4a9f-b39a-9431bd6568ca\",\"type\":\"BasicTicker\"},{\"attributes\":{\"fill_alpha\":{\"value\":0.7},\"fill_color\":{\"value\":\"#984ea3\"},\"line_alpha\":{\"value\":0.7},\"line_color\":{\"value\":\"#984ea3\"},\"x\":{\"field\":\"x\"},\"y\":{\"field\":\"y\"}},\"id\":\"3d4f1a33-fe30-4863-a935-6b9a18df2394\",\"type\":\"Square\"},{\"attributes\":{\"source\":{\"id\":\"3ec51d0b-f049-4a2f-8f0c-113de6316d52\",\"type\":\"ColumnDataSource\"}},\"id\":\"271ac667-0f8d-49a5-b12d-c97df409977c\",\"type\":\"CDSView\"},{\"attributes\":{\"label\":{\"value\":\"CRD\"},\"renderers\":[{\"id\":\"59ee4a68-fead-48ab-8215-4c5194640014\",\"type\":\"GlyphRenderer\"},{\"id\":\"e79e0051-77f8-44ac-ad79-b4526d101cf0\",\"type\":\"GlyphRenderer\"}]},\"id\":\"e6799ef1-47ab-4d0b-b30f-230a3496d7aa\",\"type\":\"LegendItem\"},{\"attributes\":{\"data_source\":{\"id\":\"94213501-de75-4b69-b574-d8e385fc4b92\",\"type\":\"ColumnDataSource\"},\"glyph\":{\"id\":\"3d4f1a33-fe30-4863-a935-6b9a18df2394\",\"type\":\"Square\"},\"hover_glyph\":null,\"muted_glyph\":null,\"nonselection_glyph\":{\"id\":\"018eed7e-6e67-41e0-8ac9-f5f959c2ba2e\",\"type\":\"Square\"},\"selection_glyph\":null,\"view\":{\"id\":\"bd489e73-7e3c-4daf-847d-d3f9a94c96d1\",\"type\":\"CDSView\"}},\"id\":\"0b13840b-fee1-4110-bfc5-f0e365796f4a\",\"type\":\"GlyphRenderer\"},{\"attributes\":{\"label\":{\"value\":\"CLIRAD `coolr_bands`\"},\"renderers\":[{\"id\":\"57019851-ce29-428a-a02a-a60734d1ad67\",\"type\":\"GlyphRenderer\"}]},\"id\":\"cc2c8078-dcd1-4011-9c1f-2f41e1db0ae9\",\"type\":\"LegendItem\"},{\"attributes\":{\"axis_label\":\"cooling rate [K/day]\",\"formatter\":{\"id\":\"dd9bbcf4-c5ab-404f-b319-3d2a2eac40df\",\"type\":\"BasicTickFormatter\"},\"plot\":{\"id\":\"51214437-c145-4661-855c-e2fdd104efcf\",\"subtype\":\"Figure\",\"type\":\"Plot\"},\"ticker\":{\"id\":\"d9573a31-0513-4a9f-b39a-9431bd6568ca\",\"type\":\"BasicTicker\"}},\"id\":\"50bae519-5acc-4f51-8c64-a0d099e47859\",\"type\":\"LinearAxis\"},{\"attributes\":{\"fill_alpha\":{\"value\":0.7},\"fill_color\":{\"value\":\"#984ea3\"},\"line_alpha\":{\"value\":0.7},\"line_color\":{\"value\":\"#984ea3\"},\"x\":{\"field\":\"x\"},\"y\":{\"field\":\"y\"}},\"id\":\"0d7f5408-bec2-44f5-820b-27a2f46f2042\",\"type\":\"Square\"},{\"attributes\":{\"fill_alpha\":{\"value\":0.1},\"fill_color\":{\"value\":\"#1f77b4\"},\"line_alpha\":{\"value\":0.1},\"line_color\":{\"value\":\"#1f77b4\"},\"x\":{\"field\":\"x\"},\"y\":{\"field\":\"y\"}},\"id\":\"018eed7e-6e67-41e0-8ac9-f5f959c2ba2e\",\"type\":\"Square\"},{\"attributes\":{\"plot\":{\"id\":\"51214437-c145-4661-855c-e2fdd104efcf\",\"subtype\":\"Figure\",\"type\":\"Plot\"},\"ticker\":{\"id\":\"d9573a31-0513-4a9f-b39a-9431bd6568ca\",\"type\":\"BasicTicker\"}},\"id\":\"4a6855f5-9ff2-446d-acd5-4c982c978d4d\",\"type\":\"Grid\"},{\"attributes\":{\"source\":{\"id\":\"94213501-de75-4b69-b574-d8e385fc4b92\",\"type\":\"ColumnDataSource\"}},\"id\":\"bd489e73-7e3c-4daf-847d-d3f9a94c96d1\",\"type\":\"CDSView\"},{\"attributes\":{\"line_alpha\":0.6,\"line_color\":\"#984ea3\",\"line_width\":3,\"x\":{\"field\":\"x\"},\"y\":{\"field\":\"y\"}},\"id\":\"1ed01fd4-9fda-40bf-92c2-5229611bed62\",\"type\":\"Line\"},{\"attributes\":{},\"id\":\"696472e0-b38c-474b-9cd5-5fcb5c011a38\",\"type\":\"BasicTickFormatter\"},{\"attributes\":{\"source\":{\"id\":\"2966769f-221d-4c0c-92a1-a362cf78e8d4\",\"type\":\"ColumnDataSource\"}},\"id\":\"30f4b10c-25bd-4967-b844-300743a44082\",\"type\":\"CDSView\"},{\"attributes\":{\"label\":{\"value\":\"WGT igg=10 wgt_flux=2\"},\"renderers\":[{\"id\":\"0b13840b-fee1-4110-bfc5-f0e365796f4a\",\"type\":\"GlyphRenderer\"},{\"id\":\"7f383a4f-ad34-45bc-b8ed-a7eecda88e54\",\"type\":\"GlyphRenderer\"}]},\"id\":\"af9911d2-4464-43db-9a6e-fe64adf88500\",\"type\":\"LegendItem\"},{\"attributes\":{\"data_source\":{\"id\":\"720e82f4-e0bf-4785-8b48-ce5c244bd89f\",\"type\":\"ColumnDataSource\"},\"glyph\":{\"id\":\"1ed01fd4-9fda-40bf-92c2-5229611bed62\",\"type\":\"Line\"},\"hover_glyph\":null,\"muted_glyph\":null,\"nonselection_glyph\":{\"id\":\"e655a90f-6197-4a5d-b9f4-2d945d78a461\",\"type\":\"Line\"},\"selection_glyph\":null,\"view\":{\"id\":\"c036a4c1-8df4-4547-a840-ec79ff63d984\",\"type\":\"CDSView\"}},\"id\":\"7f383a4f-ad34-45bc-b8ed-a7eecda88e54\",\"type\":\"GlyphRenderer\"},{\"attributes\":{\"line_alpha\":0.1,\"line_color\":\"#1f77b4\",\"line_width\":3,\"x\":{\"field\":\"x\"},\"y\":{\"field\":\"y\"}},\"id\":\"e655a90f-6197-4a5d-b9f4-2d945d78a461\",\"type\":\"Line\"},{\"attributes\":{\"source\":{\"id\":\"720e82f4-e0bf-4785-8b48-ce5c244bd89f\",\"type\":\"ColumnDataSource\"}},\"id\":\"c036a4c1-8df4-4547-a840-ec79ff63d984\",\"type\":\"CDSView\"},{\"attributes\":{\"children\":[{\"id\":\"5d0ffa68-25ee-466b-bc3b-b7ca262d1b35\",\"subtype\":\"Figure\",\"type\":\"Plot\"},{\"id\":\"51214437-c145-4661-855c-e2fdd104efcf\",\"subtype\":\"Figure\",\"type\":\"Plot\"}]},\"id\":\"f6f6c54f-325b-477f-abee-5d031f8c10fe\",\"type\":\"Row\"},{\"attributes\":{\"source\":{\"id\":\"f3662a74-375e-4a45-9892-8b2989a4e289\",\"type\":\"ColumnDataSource\"}},\"id\":\"dbd9ea11-dfbc-43ba-81fe-f02249f67d4e\",\"type\":\"CDSView\"},{\"attributes\":{},\"id\":\"1b4f3df4-f860-4d3d-9680-f9f2ab021080\",\"type\":\"WheelZoomTool\"},{\"attributes\":{\"children\":[{\"id\":\"1edd3708-9b4c-41a1-9361-3c59c90fd437\",\"type\":\"ToolbarBox\"},{\"id\":\"e79d227a-140c-479e-8353-aeba91a7e608\",\"type\":\"Column\"}]},\"id\":\"28f4b328-8c2c-433a-a27e-0c5b32d841bf\",\"type\":\"Column\"},{\"attributes\":{},\"id\":\"bb36ef22-ddda-4d8f-877a-a33026eaf6f9\",\"type\":\"ResetTool\"},{\"attributes\":{\"data_source\":{\"id\":\"a73f4764-3deb-4c3a-a05e-f980a7dd5725\",\"type\":\"ColumnDataSource\"},\"glyph\":{\"id\":\"fdbcf3df-b17f-4460-86b1-f6d9eaef925e\",\"type\":\"Line\"},\"hover_glyph\":null,\"muted_glyph\":null,\"nonselection_glyph\":{\"id\":\"149b0ffc-6551-4ad7-a768-e9f0b10cc039\",\"type\":\"Line\"},\"selection_glyph\":null,\"view\":{\"id\":\"4b095e66-b7c1-4b2d-b44e-01ec8252c497\",\"type\":\"CDSView\"}},\"id\":\"328f0a46-6f06-463c-9868-25c3b48aead5\",\"type\":\"GlyphRenderer\"},{\"attributes\":{\"callback\":null,\"column_names\":[\"x\",\"y\"],\"data\":{\"x\":{\"__ndarray__\":\"2UPIZxxkXj+vvg1zesVgPzNU6dFSBWQ/xHCWV8xWZz+TWVu+V7BqPyQ6ms4GDG4/VDAfEnu2cD9NPqXi+WdyPyATu8JzGXQ/lUKe8f3MdT9yrJCUIml3PyjOltII9Hg/KN15TrFkej+GgT2WXTh8Pyxuccd67oE/gnq06tMnij+v2k6+TT2SPzv+BktHyZc/YItNk2i1nT8/BY2HYQGiP1ZnmWvvWKU/nNMTM06FqD8bToe4s1upP4iH3H6MyKc/fpWVic9bpT9tm76r2VuiP6l2pP+H6Z4/bDyM1HG4mT8qntvNURyVP4JvRD6C95A/yoPbd5g4ij/Zq2/nGbeCP1ZJAhrOOHY/lV/hwMZeWD9l4u+CvOpuvyoxwB8tt4S/vvonobzbjb9hYZ03CTaOv5lcox3rbYm/zhDsyvckhb8BoIVi/S+Bv0lg6mVf63q/egOU0qjKc78rPpZrPuhpvzRzNz5JcFm/+Ws1/Gu42D7DHJM1CeZYP554pypIhmg/ZCWsZaAmcj8sQs1qY+d3P2A0Fa1WiX0/meDJJ9qHgT/AmRBiiz6EP45kFYoC6oY/G/R/8JyLiT+zRpNEXCSMP2GF2r18tY4/9cts/+afkD8dCs/mmeCRP2YzkRaKG5M//rtSV71KlD9Et/mnnV+VP2pkQ3ZfR5Y/JorhAZ39lj9GEj4NeJaXP/+ZilIXMJg/qaq06/zgmD+r56T3ja+ZPye0f3pAlJo/RA/sYBOFmz/IqFsL7XucP8aNYIWJdp0/rNYGSrFznj8+snKVEnWfP6PrX+USP6A/\",\"dtype\":\"float64\",\"shape\":[75]},\"y\":{\"__ndarray__\":\"GhExyth1ND/Sv8nbtpRIP2vylNV0PVE/aTum7souWD/At0SJ8fVgPw3Iuahxymc/MSNhhJWvcD/bTfBN02d3P2zb5nxnaoA/CD5h5MAGhz8NmeH1TyaQP+zrCsc9p5Y/LbKd76fGnz/bLW5ISEmmPww9YvTcQq8/JV2OstnstT8Er5Y7M8G+P0c+r3jqkcU/5h99k6ZBzj88bCIzFzjVP4enV8oyxN0//yH99nXg5D8qOpLLf0jtP5kqGJXUifQ/c9cS8kHP/D+/DpwzojQEQIEmwoanVwxA4lgXt9HgE0BSSZ2AJuIbQAMJih9jjiNA5q4l5INuK0AwTKYKRj0zQNv5fmq8/DpAaCJseHrtQkB/+zpwzoxKQM3MzMzMeFJAZmZmZmZqWEAAAAAAAFxeQM3MzMzMJmJAmpmZmZkfZUBmZmZmZhhoQDMzMzMzEWtAAAAAAAAKbkBmZmZmZoFwQM3MzMzM/XFAMzMzMzN6c0CamZmZmfZ0QAAAAAAAc3ZAZmZmZmbvd0DNzMzMzGt5QDMzMzMz6HpAmpmZmZlkfEAAAAAAAOF9QGZmZmZmXX9AZmZmZuZsgECamZmZGSuBQM3MzMxM6YFAAAAAAICngkAzMzMzs2WDQGZmZmbmI4RAmpmZmRnihEDNzMzMTKCFQAAAAACAXoZAMzMzM7Mch0BmZmZm5tqHQJqZmZkZmYhAzczMzExXiUAAAAAAgBWKQDMzMzOz04pAZmZmZuaRi0CamZmZGVCMQM3MzMxMDo1AAAAAAIDMjUAzMzMzs4qOQGZmZmbmSI9A\",\"dtype\":\"float64\",\"shape\":[75]}}},\"id\":\"0e11ebd4-0780-47c7-a8ba-0a1ace11d580\",\"type\":\"ColumnDataSource\"},{\"attributes\":{},\"id\":\"ac69ffb5-e3bd-481e-85c4-22b501b6b053\",\"type\":\"HelpTool\"},{\"attributes\":{\"toolbar\":{\"id\":\"e406eed6-c52a-4e05-ab36-db7ac695980f\",\"type\":\"ProxyToolbar\"},\"toolbar_location\":\"above\"},\"id\":\"1edd3708-9b4c-41a1-9361-3c59c90fd437\",\"type\":\"ToolbarBox\"},{\"attributes\":{\"callback\":null,\"end\":0.01,\"start\":1020},\"id\":\"4ccdcf4f-aa74-41b7-9324-a77577f96512\",\"type\":\"Range1d\"},{\"attributes\":{\"source\":{\"id\":\"a73f4764-3deb-4c3a-a05e-f980a7dd5725\",\"type\":\"ColumnDataSource\"}},\"id\":\"4b095e66-b7c1-4b2d-b44e-01ec8252c497\",\"type\":\"CDSView\"},{\"attributes\":{\"fill_alpha\":{\"value\":0.1},\"fill_color\":{\"value\":\"#1f77b4\"},\"line_alpha\":{\"value\":0.1},\"line_color\":{\"value\":\"#1f77b4\"},\"x\":{\"field\":\"x\"},\"y\":{\"field\":\"y\"}},\"id\":\"7df583b9-0bae-4b97-b99b-b9f1b62c3bb6\",\"type\":\"Square\"},{\"attributes\":{},\"id\":\"3908b90b-5ab8-410f-a6e3-07581542194f\",\"type\":\"SaveTool\"},{\"attributes\":{\"line_alpha\":0.1,\"line_color\":\"#1f77b4\",\"line_width\":1.5,\"x\":{\"field\":\"x\"},\"y\":{\"field\":\"y\"}},\"id\":\"149b0ffc-6551-4ad7-a768-e9f0b10cc039\",\"type\":\"Line\"},{\"attributes\":{\"tools\":[{\"id\":\"6e9e30e7-7f4c-4eac-a1ea-3836ca341866\",\"type\":\"PanTool\"},{\"id\":\"b2a063cf-fe48-4fb6-bb98-954640ba2de8\",\"type\":\"WheelZoomTool\"},{\"id\":\"99fc0103-8c90-41a6-978b-da1e547bf760\",\"type\":\"BoxZoomTool\"},{\"id\":\"37169df3-38a9-4afb-bbc1-88eca9def244\",\"type\":\"SaveTool\"},{\"id\":\"49c477eb-8d55-450b-88db-821c7f4fb5b0\",\"type\":\"ResetTool\"},{\"id\":\"3a738532-7f00-4d03-9207-a10f59ada9b9\",\"type\":\"HelpTool\"},{\"id\":\"20d9bb37-2a47-4f76-977b-87c622ab32cf\",\"type\":\"PanTool\"},{\"id\":\"1b4f3df4-f860-4d3d-9680-f9f2ab021080\",\"type\":\"WheelZoomTool\"},{\"id\":\"0c1fcfeb-d980-4aba-b48a-a0246b200794\",\"type\":\"BoxZoomTool\"},{\"id\":\"3908b90b-5ab8-410f-a6e3-07581542194f\",\"type\":\"SaveTool\"},{\"id\":\"bb36ef22-ddda-4d8f-877a-a33026eaf6f9\",\"type\":\"ResetTool\"},{\"id\":\"ac69ffb5-e3bd-481e-85c4-22b501b6b053\",\"type\":\"HelpTool\"}]},\"id\":\"e406eed6-c52a-4e05-ab36-db7ac695980f\",\"type\":\"ProxyToolbar\"},{\"attributes\":{\"plot\":null,\"text\":\"Log pressure scale\"},\"id\":\"220e7167-0142-4a48-99f2-8d7556278c44\",\"type\":\"Title\"},{\"attributes\":{},\"id\":\"20d9bb37-2a47-4f76-977b-87c622ab32cf\",\"type\":\"PanTool\"},{\"attributes\":{\"data_source\":{\"id\":\"0e11ebd4-0780-47c7-a8ba-0a1ace11d580\",\"type\":\"ColumnDataSource\"},\"glyph\":{\"id\":\"f73d4e06-7661-4fb1-8afb-3b300f0c4fd2\",\"type\":\"Circle\"},\"hover_glyph\":null,\"muted_glyph\":null,\"nonselection_glyph\":{\"id\":\"e3e250b1-049a-4b27-be3b-8bfd9402d19c\",\"type\":\"Circle\"},\"selection_glyph\":null,\"view\":{\"id\":\"b854d1f6-114c-42f0-9c95-7bc5986bfc1b\",\"type\":\"CDSView\"}},\"id\":\"64d40331-d9eb-4010-a445-d8498a463778\",\"type\":\"GlyphRenderer\"},{\"attributes\":{\"bottom_units\":\"screen\",\"fill_alpha\":{\"value\":0.5},\"fill_color\":{\"value\":\"lightgrey\"},\"left_units\":\"screen\",\"level\":\"overlay\",\"line_alpha\":{\"value\":1.0},\"line_color\":{\"value\":\"black\"},\"line_dash\":[4,4],\"line_width\":{\"value\":2},\"plot\":null,\"render_mode\":\"css\",\"right_units\":\"screen\",\"top_units\":\"screen\"},\"id\":\"bf08e401-3c25-4d5a-9e4d-3954ac73f5d1\",\"type\":\"BoxAnnotation\"},{\"attributes\":{\"overlay\":{\"id\":\"bf08e401-3c25-4d5a-9e4d-3954ac73f5d1\",\"type\":\"BoxAnnotation\"}},\"id\":\"0c1fcfeb-d980-4aba-b48a-a0246b200794\",\"type\":\"BoxZoomTool\"},{\"attributes\":{\"data_source\":{\"id\":\"3ec51d0b-f049-4a2f-8f0c-113de6316d52\",\"type\":\"ColumnDataSource\"},\"glyph\":{\"id\":\"0d7f5408-bec2-44f5-820b-27a2f46f2042\",\"type\":\"Square\"},\"hover_glyph\":null,\"muted_glyph\":null,\"nonselection_glyph\":{\"id\":\"7df583b9-0bae-4b97-b99b-b9f1b62c3bb6\",\"type\":\"Square\"},\"selection_glyph\":null,\"view\":{\"id\":\"271ac667-0f8d-49a5-b12d-c97df409977c\",\"type\":\"CDSView\"}},\"id\":\"0f69343c-d25e-4e29-ab5e-fa3f4ce1feeb\",\"type\":\"GlyphRenderer\"}],\"root_ids\":[\"28f4b328-8c2c-433a-a27e-0c5b32d841bf\"]},\"title\":\"Bokeh Application\",\"version\":\"0.12.14\"}};\n",
       "  var render_items = [{\"docid\":\"98ff099c-b8dd-4082-9d73-351882b3ed02\",\"elementid\":\"32c4a0ad-1093-4466-8abf-a6e239c31fc7\",\"modelid\":\"28f4b328-8c2c-433a-a27e-0c5b32d841bf\"}];\n",
       "  root.Bokeh.embed.embed_items_notebook(docs_json, render_items);\n",
       "\n",
       "  }\n",
       "  if (root.Bokeh !== undefined) {\n",
       "    embed_document(root);\n",
       "  } else {\n",
       "    var attempts = 0;\n",
       "    var timer = setInterval(function(root) {\n",
       "      if (root.Bokeh !== undefined) {\n",
       "        embed_document(root);\n",
       "        clearInterval(timer);\n",
       "      }\n",
       "      attempts++;\n",
       "      if (attempts > 100) {\n",
       "        console.log(\"Bokeh: ERROR: Unable to run BokehJS code because BokehJS library is missing\")\n",
       "        clearInterval(timer);\n",
       "      }\n",
       "    }, 10, root)\n",
       "  }\n",
       "})(window);"
      ],
      "application/vnd.bokehjs_exec.v0+json": ""
     },
     "metadata": {
      "application/vnd.bokehjs_exec.v0+json": {
       "id": "28f4b328-8c2c-433a-a27e-0c5b32d841bf"
      }
     },
     "output_type": "display_data"
    },
    {
     "name": "stdout",
     "output_type": "stream",
     "text": [
      "FIGURE. Cooling rate profiles.\n"
     ]
    },
    {
     "data": {
      "text/html": [
       "<a id=\"Flux_Comparison\"></a>"
      ],
      "text/plain": [
       "<IPython.core.display.HTML object>"
      ]
     },
     "metadata": {},
     "output_type": "display_data"
    },
    {
     "data": {
      "text/markdown": [
       "# Flux Comparison"
      ],
      "text/plain": [
       "<IPython.core.display.Markdown object>"
      ]
     },
     "metadata": {},
     "output_type": "display_data"
    },
    {
     "data": {
      "text/html": [
       "<div>\n",
       "<style>\n",
       "    .dataframe thead tr:only-child th {\n",
       "        text-align: right;\n",
       "    }\n",
       "\n",
       "    .dataframe thead th {\n",
       "        text-align: left;\n",
       "    }\n",
       "\n",
       "    .dataframe tbody tr th {\n",
       "        vertical-align: top;\n",
       "    }\n",
       "</style>\n",
       "<table border=\"1\" class=\"dataframe\">\n",
       "  <thead>\n",
       "    <tr style=\"text-align: right;\">\n",
       "      <th></th>\n",
       "      <th></th>\n",
       "      <th>flug</th>\n",
       "      <th>fldg</th>\n",
       "      <th>fnetg</th>\n",
       "    </tr>\n",
       "    <tr>\n",
       "      <th>pressure</th>\n",
       "      <th>level</th>\n",
       "      <th></th>\n",
       "      <th></th>\n",
       "      <th></th>\n",
       "    </tr>\n",
       "  </thead>\n",
       "  <tbody>\n",
       "    <tr>\n",
       "      <th>0.0000</th>\n",
       "      <th>1</th>\n",
       "      <td>-37.086989</td>\n",
       "      <td>0.000000</td>\n",
       "      <td>-37.086989</td>\n",
       "    </tr>\n",
       "    <tr>\n",
       "      <th>1.0685</th>\n",
       "      <th>24</th>\n",
       "      <td>-37.086145</td>\n",
       "      <td>0.004339</td>\n",
       "      <td>-37.081806</td>\n",
       "    </tr>\n",
       "    <tr>\n",
       "      <th>1013.0000</th>\n",
       "      <th>76</th>\n",
       "      <td>-38.491734</td>\n",
       "      <td>2.791664</td>\n",
       "      <td>-35.700070</td>\n",
       "    </tr>\n",
       "  </tbody>\n",
       "</table>\n",
       "</div>"
      ],
      "text/plain": [
       "                      flug      fldg      fnetg\n",
       "pressure  level                                \n",
       "0.0000    1     -37.086989  0.000000 -37.086989\n",
       "1.0685    24    -37.086145  0.004339 -37.081806\n",
       "1013.0000 76    -38.491734  2.791664 -35.700070"
      ]
     },
     "metadata": {},
     "output_type": "display_data"
    },
    {
     "name": "stdout",
     "output_type": "stream",
     "text": [
      "Table. Fluxes. WGT igg=10 wgt_flux=1\n"
     ]
    },
    {
     "data": {
      "text/html": [
       "<div>\n",
       "<style>\n",
       "    .dataframe thead tr:only-child th {\n",
       "        text-align: right;\n",
       "    }\n",
       "\n",
       "    .dataframe thead th {\n",
       "        text-align: left;\n",
       "    }\n",
       "\n",
       "    .dataframe tbody tr th {\n",
       "        vertical-align: top;\n",
       "    }\n",
       "</style>\n",
       "<table border=\"1\" class=\"dataframe\">\n",
       "  <thead>\n",
       "    <tr style=\"text-align: right;\">\n",
       "      <th></th>\n",
       "      <th></th>\n",
       "      <th>flug</th>\n",
       "      <th>fldg</th>\n",
       "      <th>fnetg</th>\n",
       "    </tr>\n",
       "    <tr>\n",
       "      <th>pressure</th>\n",
       "      <th>level</th>\n",
       "      <th></th>\n",
       "      <th></th>\n",
       "      <th></th>\n",
       "    </tr>\n",
       "  </thead>\n",
       "  <tbody>\n",
       "    <tr>\n",
       "      <th>0.0000</th>\n",
       "      <th>1</th>\n",
       "      <td>-37.085128</td>\n",
       "      <td>0.000000</td>\n",
       "      <td>-37.085128</td>\n",
       "    </tr>\n",
       "    <tr>\n",
       "      <th>1.0685</th>\n",
       "      <th>24</th>\n",
       "      <td>-37.084747</td>\n",
       "      <td>0.004505</td>\n",
       "      <td>-37.080242</td>\n",
       "    </tr>\n",
       "    <tr>\n",
       "      <th>1013.0000</th>\n",
       "      <th>76</th>\n",
       "      <td>-38.491734</td>\n",
       "      <td>2.697929</td>\n",
       "      <td>-35.793805</td>\n",
       "    </tr>\n",
       "  </tbody>\n",
       "</table>\n",
       "</div>"
      ],
      "text/plain": [
       "                      flug      fldg      fnetg\n",
       "pressure  level                                \n",
       "0.0000    1     -37.085128  0.000000 -37.085128\n",
       "1.0685    24    -37.084747  0.004505 -37.080242\n",
       "1013.0000 76    -38.491734  2.697929 -35.793805"
      ]
     },
     "metadata": {},
     "output_type": "display_data"
    },
    {
     "name": "stdout",
     "output_type": "stream",
     "text": [
      "Table. Fluxes. CRD\n"
     ]
    },
    {
     "data": {
      "text/html": [
       "<div>\n",
       "<style>\n",
       "    .dataframe thead tr:only-child th {\n",
       "        text-align: right;\n",
       "    }\n",
       "\n",
       "    .dataframe thead th {\n",
       "        text-align: left;\n",
       "    }\n",
       "\n",
       "    .dataframe tbody tr th {\n",
       "        vertical-align: top;\n",
       "    }\n",
       "</style>\n",
       "<table border=\"1\" class=\"dataframe\">\n",
       "  <thead>\n",
       "    <tr style=\"text-align: right;\">\n",
       "      <th></th>\n",
       "      <th></th>\n",
       "      <th>flug</th>\n",
       "      <th>fldg</th>\n",
       "      <th>fnetg</th>\n",
       "    </tr>\n",
       "    <tr>\n",
       "      <th>pressure</th>\n",
       "      <th>level</th>\n",
       "      <th></th>\n",
       "      <th></th>\n",
       "      <th></th>\n",
       "    </tr>\n",
       "  </thead>\n",
       "  <tbody>\n",
       "    <tr>\n",
       "      <th>1.000000e-08</th>\n",
       "      <th>1</th>\n",
       "      <td>-37.140226</td>\n",
       "      <td>0.000002</td>\n",
       "      <td>-37.140224</td>\n",
       "    </tr>\n",
       "    <tr>\n",
       "      <th>1.068500e+00</th>\n",
       "      <th>24</th>\n",
       "      <td>-37.139335</td>\n",
       "      <td>0.003958</td>\n",
       "      <td>-37.135377</td>\n",
       "    </tr>\n",
       "    <tr>\n",
       "      <th>1.013000e+03</th>\n",
       "      <th>76</th>\n",
       "      <td>-38.491730</td>\n",
       "      <td>2.687236</td>\n",
       "      <td>-35.804494</td>\n",
       "    </tr>\n",
       "  </tbody>\n",
       "</table>\n",
       "</div>"
      ],
      "text/plain": [
       "                         flug      fldg      fnetg\n",
       "pressure     level                                \n",
       "1.000000e-08 1     -37.140226  0.000002 -37.140224\n",
       "1.068500e+00 24    -37.139335  0.003958 -37.135377\n",
       "1.013000e+03 76    -38.491730  2.687236 -35.804494"
      ]
     },
     "metadata": {},
     "output_type": "display_data"
    },
    {
     "name": "stdout",
     "output_type": "stream",
     "text": [
      "Table. Fluxes. CLIRAD\n"
     ]
    },
    {
     "data": {
      "text/html": [
       "<div>\n",
       "<style>\n",
       "    .dataframe thead tr:only-child th {\n",
       "        text-align: right;\n",
       "    }\n",
       "\n",
       "    .dataframe thead th {\n",
       "        text-align: left;\n",
       "    }\n",
       "\n",
       "    .dataframe tbody tr th {\n",
       "        vertical-align: top;\n",
       "    }\n",
       "</style>\n",
       "<table border=\"1\" class=\"dataframe\">\n",
       "  <thead>\n",
       "    <tr style=\"text-align: right;\">\n",
       "      <th></th>\n",
       "      <th></th>\n",
       "      <th>flug</th>\n",
       "      <th>fldg</th>\n",
       "      <th>fnetg</th>\n",
       "    </tr>\n",
       "    <tr>\n",
       "      <th>pressure</th>\n",
       "      <th>level</th>\n",
       "      <th></th>\n",
       "      <th></th>\n",
       "      <th></th>\n",
       "    </tr>\n",
       "  </thead>\n",
       "  <tbody>\n",
       "    <tr>\n",
       "      <th>0.0000</th>\n",
       "      <th>1</th>\n",
       "      <td>1.861050e-03</td>\n",
       "      <td>0.000000</td>\n",
       "      <td>0.001861</td>\n",
       "    </tr>\n",
       "    <tr>\n",
       "      <th>1.0685</th>\n",
       "      <th>24</th>\n",
       "      <td>1.397880e-03</td>\n",
       "      <td>0.000165</td>\n",
       "      <td>0.001564</td>\n",
       "    </tr>\n",
       "    <tr>\n",
       "      <th>1013.0000</th>\n",
       "      <th>76</th>\n",
       "      <td>-2.000000e-07</td>\n",
       "      <td>-0.093735</td>\n",
       "      <td>-0.093735</td>\n",
       "    </tr>\n",
       "  </tbody>\n",
       "</table>\n",
       "</div>"
      ],
      "text/plain": [
       "                         flug      fldg     fnetg\n",
       "pressure  level                                  \n",
       "0.0000    1      1.861050e-03  0.000000  0.001861\n",
       "1.0685    24     1.397880e-03  0.000165  0.001564\n",
       "1013.0000 76    -2.000000e-07 -0.093735 -0.093735"
      ]
     },
     "metadata": {},
     "output_type": "display_data"
    },
    {
     "name": "stdout",
     "output_type": "stream",
     "text": [
      "Table. Fluxes. (CRD) - (WGT igg=10 wgt_flux=1)\n"
     ]
    },
    {
     "data": {
      "text/html": [
       "<div>\n",
       "<style>\n",
       "    .dataframe thead tr:only-child th {\n",
       "        text-align: right;\n",
       "    }\n",
       "\n",
       "    .dataframe thead th {\n",
       "        text-align: left;\n",
       "    }\n",
       "\n",
       "    .dataframe tbody tr th {\n",
       "        vertical-align: top;\n",
       "    }\n",
       "</style>\n",
       "<table border=\"1\" class=\"dataframe\">\n",
       "  <thead>\n",
       "    <tr style=\"text-align: right;\">\n",
       "      <th></th>\n",
       "      <th></th>\n",
       "      <th>flug</th>\n",
       "      <th>fldg</th>\n",
       "      <th>fnetg</th>\n",
       "    </tr>\n",
       "    <tr>\n",
       "      <th>pressure</th>\n",
       "      <th>level</th>\n",
       "      <th></th>\n",
       "      <th></th>\n",
       "      <th></th>\n",
       "    </tr>\n",
       "  </thead>\n",
       "  <tbody>\n",
       "    <tr>\n",
       "      <th>0.0000</th>\n",
       "      <th>1</th>\n",
       "      <td>-0.053237</td>\n",
       "      <td>0.000002</td>\n",
       "      <td>-0.053235</td>\n",
       "    </tr>\n",
       "    <tr>\n",
       "      <th>1.0685</th>\n",
       "      <th>24</th>\n",
       "      <td>-0.053190</td>\n",
       "      <td>-0.000382</td>\n",
       "      <td>-0.053571</td>\n",
       "    </tr>\n",
       "    <tr>\n",
       "      <th>1013.0000</th>\n",
       "      <th>76</th>\n",
       "      <td>0.000004</td>\n",
       "      <td>-0.104428</td>\n",
       "      <td>-0.104424</td>\n",
       "    </tr>\n",
       "  </tbody>\n",
       "</table>\n",
       "</div>"
      ],
      "text/plain": [
       "                     flug      fldg     fnetg\n",
       "pressure  level                              \n",
       "0.0000    1     -0.053237  0.000002 -0.053235\n",
       "1.0685    24    -0.053190 -0.000382 -0.053571\n",
       "1013.0000 76     0.000004 -0.104428 -0.104424"
      ]
     },
     "metadata": {},
     "output_type": "display_data"
    },
    {
     "name": "stdout",
     "output_type": "stream",
     "text": [
      "Table. Fluxes. (CLIRAD) - (WGT igg=10 wgt_flux=1)\n"
     ]
    },
    {
     "data": {
      "text/html": [
       "<a id=\"Best-fit_Parameters\"></a>"
      ],
      "text/plain": [
       "<IPython.core.display.HTML object>"
      ]
     },
     "metadata": {},
     "output_type": "display_data"
    },
    {
     "data": {
      "text/markdown": [
       "# Best-fit Parameters"
      ],
      "text/plain": [
       "<IPython.core.display.Markdown object>"
      ]
     },
     "metadata": {},
     "output_type": "display_data"
    },
    {
     "name": "stdout",
     "output_type": "stream",
     "text": [
      "Best-fit values for each (gas, band)\n",
      "------------------------------------\n",
      "o n2o band3a\n",
      "  atmpro = mls\n",
      "  band = 3a\n",
      "  commitnumber = a06b618\n",
      "  conc = 3.2e-07\n",
      "  dv = 0.001\n",
      "  klin = 2.22e-20\n",
      "  molecule = n2o\n",
      "  ng_adju = [0, 0]\n",
      "  ng_refs = [1, 2]\n",
      "  nv = 1000\n",
      "  option_compute_btable = 0\n",
      "  option_compute_ktable = 1\n",
      "  option_wgt_flux = 1\n",
      "  option_wgt_k = 1\n",
      "  ref_pts = [(1, 250), (500, 250)]\n",
      "  tsfc = 294\n",
      "  vmax = 620\n",
      "  vmin = 540\n",
      "  w_diffuse = [(1.8,), (1.66, 1.8)]\n",
      "  wgt = [(0.9,), (0.5, 0.95)]\n"
     ]
    }
   ],
   "source": [
    "script()"
   ]
  },
  {
   "cell_type": "code",
   "execution_count": 13,
   "metadata": {
    "collapsed": true
   },
   "outputs": [
    {
     "data": {
      "text/html": [
       "<script>\n",
       "code_show=true; \n",
       "function code_toggle() {\n",
       " if (code_show){\n",
       " $('div.input').hide();\n",
       " } else {\n",
       " $('div.input').show();\n",
       " }\n",
       " code_show = !code_show\n",
       "} \n",
       "$( document ).ready(code_toggle);\n",
       "</script>\n",
       "<form action=\"javascript:code_toggle()\"><input type=\"submit\" value=\"Click here to toggle on/off the raw code.\"></form>"
      ],
      "text/plain": [
       "<IPython.core.display.HTML object>"
      ]
     },
     "execution_count": 13,
     "metadata": {},
     "output_type": "execute_result"
    }
   ],
   "source": [
    "display.HTML('''<script>\n",
    "code_show=true; \n",
    "function code_toggle() {\n",
    " if (code_show){\n",
    " $('div.input').hide();\n",
    " } else {\n",
    " $('div.input').show();\n",
    " }\n",
    " code_show = !code_show\n",
    "} \n",
    "$( document ).ready(code_toggle);\n",
    "</script>\n",
    "<form action=\"javascript:code_toggle()\"><input type=\"submit\" value=\"Click here to toggle on/off the raw code.\"></form>''')"
   ]
  }
 ],
 "metadata": {
  "kernelspec": {
   "display_name": "Python 3",
   "language": "python",
   "name": "python3"
  },
  "language_info": {
   "codemirror_mode": {
    "name": "ipython",
    "version": 3
   },
   "file_extension": ".py",
   "mimetype": "text/x-python",
   "name": "python",
   "nbconvert_exporter": "python",
   "pygments_lexer": "ipython3",
   "version": "3.6.1"
  }
 },
 "nbformat": 4,
 "nbformat_minor": 2
}
